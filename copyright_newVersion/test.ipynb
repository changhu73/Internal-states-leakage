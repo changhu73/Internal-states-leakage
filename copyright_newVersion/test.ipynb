{
 "cells": [
  {
   "cell_type": "code",
   "execution_count": null,
   "metadata": {},
   "outputs": [],
   "source": [
    "from transformers import GPT2LMHeadModel, GPT2Tokenizer\n",
    "\n",
    "# 指定模型存储目录\n",
    "cache_dir = \"/path/to/your/directory\"  # 替换为你希望存储模型的路径\n",
    "\n",
    "# 加载模型和tokenizer\n",
    "model_name = \"gpt2\"  # 你可以替换为任何其他大模型，比如 'bert-base-uncased' 等\n",
    "model = GPT2LMHeadModel.from_pretrained(model_name, cache_dir=cache_dir)\n",
    "tokenizer = GPT2Tokenizer.from_pretrained(model_name, cache_dir=cache_dir)\n",
    "\n",
    "# 模型和tokenizer将被下载并缓存到指定的目录\n",
    "print(f\"Model is downloaded to: {cache_dir}\")\n"
   ]
  }
 ],
 "metadata": {
  "kernelspec": {
   "display_name": "zdh",
   "language": "python",
   "name": "python3"
  },
  "language_info": {
   "name": "python",
   "version": "3.12.3"
  }
 },
 "nbformat": 4,
 "nbformat_minor": 2
}
