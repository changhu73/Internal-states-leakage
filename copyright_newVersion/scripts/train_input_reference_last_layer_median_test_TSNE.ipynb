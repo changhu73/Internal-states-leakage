{
 "cells": [
  {
   "cell_type": "code",
   "execution_count": 9,
   "metadata": {},
   "outputs": [],
   "source": [
    "# import packages & variables\n",
    "import argparse\n",
    "import torch\n",
    "import torch.nn as nn\n",
    "import numpy as np\n",
    "from sklearn.metrics import accuracy_score, classification_report\n",
    "import matplotlib.pyplot as plt\n",
    "from tqdm import tqdm\n",
    "from transformers import AutoTokenizer, AutoModelForCausalLM, AutoModel, AutoModelForSequenceClassification\n",
    "import json\n",
    "\n",
    "# Parameters\n",
    "model_name = 'meta-llama/Meta-Llama-3.1-8B'\n",
    "non_infringement_file = '/home/guangwei/LLM-COPYRIGHT/copyright_newVersion/test_division/extra_10.non_infringement.json'\n",
    "infringement_file = '/home/guangwei/LLM-COPYRIGHT/copyright_newVersion/test_division/extra_10.infringement.json'\n",
    "checkpoint_file = '/home/guangwei/LLM-COPYRIGHT/copyright_newVersion/models/train_input_reference_last_layer_TSNEtest.pth'\n"
   ]
  },
  {
   "cell_type": "code",
   "execution_count": 10,
   "metadata": {},
   "outputs": [],
   "source": [
    "# Define CustumMLP for internal states train\n",
    "class CustomMLP(nn.Module):\n",
    "    def __init__(self, input_dim, hidden_dim):\n",
    "        super(CustomMLP, self).__init__()\n",
    "        self.down = nn.Linear(input_dim, hidden_dim)\n",
    "        self.gate = nn.Linear(input_dim, hidden_dim)\n",
    "        self.up = nn.Linear(hidden_dim, 1)\n",
    "        self.activation = nn.SiLU()\n",
    "\n",
    "    def forward(self, x):\n",
    "        down_output = self.down(x)\n",
    "        gate_output = self.gate(x)\n",
    "        gated_output = down_output * self.activation(gate_output)\n",
    "        return self.up(gated_output)"
   ]
  },
  {
   "cell_type": "code",
   "execution_count": 11,
   "metadata": {},
   "outputs": [],
   "source": [
    "# Extract hidden states/reference embeddings\n",
    "def extract_hidden_states(texts, model, tokenizer, batch_size=128):\n",
    "    hidden_states = []\n",
    "    for i in tqdm(range(0, len(texts), batch_size), desc=\"Processing data batches\"):\n",
    "        batch_texts = texts[i:i + batch_size]\n",
    "        inputs = tokenizer(batch_texts, return_tensors=\"pt\", padding=True, truncation=True)\n",
    "        with torch.no_grad():\n",
    "            outputs = model(**inputs)\n",
    "        hidden_states.append(outputs.hidden_states[-1].mean(dim=1).cpu().numpy())\n",
    "    return np.vstack(hidden_states)\n",
    "\n",
    "def extract_reference_embeddings(references, model, tokenizer, batch_size=128):\n",
    "    embeddings = []\n",
    "    for i in tqdm(range(0, len(references), batch_size), desc=\"Processing references\"):\n",
    "        batch_references = references[i:i + batch_size]\n",
    "        inputs = tokenizer(batch_references, return_tensors=\"pt\", padding=True, truncation=True)\n",
    "        with torch.no_grad():\n",
    "            outputs = model(**inputs)\n",
    "        embeddings.append(outputs.pooler_output.cpu().numpy())\n",
    "    return np.vstack(embeddings)"
   ]
  },
  {
   "cell_type": "code",
   "execution_count": 12,
   "metadata": {},
   "outputs": [],
   "source": [
    "# load data for infringement & non infringement\n",
    "def load_data(non_infringement_file, infringement_file):\n",
    "    with open(non_infringement_file, 'r', encoding='utf-8') as file:\n",
    "        non_infringement_json_data = json.load(file)\n",
    "\n",
    "    non_infringement_outputs = [entry['input'] for entry in non_infringement_json_data]\n",
    "    non_infringement_references = [entry['reference'] for entry in non_infringement_json_data]\n",
    "    y_non_infringement = [1] * len(non_infringement_outputs)\n",
    "\n",
    "    with open(infringement_file, 'r', encoding='utf-8') as file:\n",
    "        infringement_json_data = json.load(file)\n",
    "\n",
    "    infringement_outputs = [entry['input'] for entry in infringement_json_data]\n",
    "    infringement_references = [entry['reference'] for entry in infringement_json_data]\n",
    "    y_infringement = [0] * len(infringement_outputs)\n",
    "\n",
    "    return non_infringement_outputs, non_infringement_references, y_non_infringement, infringement_outputs, infringement_references, y_infringement"
   ]
  },
  {
   "cell_type": "code",
   "execution_count": 13,
   "metadata": {},
   "outputs": [],
   "source": [
    "# Train for best model\n",
    "def train_model(X_train, y_train, X_test, y_test, input_dim, hidden_dim, epochs=500, lr=0.001, checkpoint_path=checkpoint_file):\n",
    "    custom_mlp = CustomMLP(input_dim, hidden_dim)\n",
    "    criterion = nn.BCEWithLogitsLoss()\n",
    "    optimizer = torch.optim.Adam(custom_mlp.parameters(), lr=lr)\n",
    "\n",
    "    X_train_tensor = torch.tensor(X_train, dtype=torch.float32)\n",
    "    y_train_tensor = torch.tensor(y_train, dtype=torch.float32).unsqueeze(1)\n",
    "\n",
    "    best_accuracy = -float('inf')\n",
    "    best_model_state = None\n",
    "    best_epoch = 0\n",
    "    losses = []\n",
    "\n",
    "    for epoch in tqdm(range(epochs), desc=\"Training Epochs\"):\n",
    "        custom_mlp.train()\n",
    "        optimizer.zero_grad()\n",
    "        outputs = custom_mlp(X_train_tensor)\n",
    "        loss = criterion(outputs, y_train_tensor)\n",
    "        loss.backward()\n",
    "        optimizer.step()\n",
    "        losses.append(loss.item())\n",
    "\n",
    "        if (epoch + 1) % 10 == 0:\n",
    "            print(f\"Epoch {epoch + 1}/{epochs}, Loss: {loss.item():.4f}\")\n",
    "            \n",
    "            custom_mlp.eval()\n",
    "            X_test_tensor = torch.tensor(X_test, dtype=torch.float32)\n",
    "            with torch.no_grad():\n",
    "                y_pred_logits = custom_mlp(X_test_tensor)\n",
    "                y_pred = (torch.sigmoid(y_pred_logits) > 0.5).float().numpy()\n",
    "            \n",
    "            accuracy = accuracy_score(y_test, y_pred)\n",
    "            print(f\"Test Accuracy at Epoch {epoch + 1}: {accuracy * 100:.2f}%\")\n",
    "            \n",
    "            report = classification_report(y_test, y_pred, target_names=[\"infringement\", \"non_infringement\"])\n",
    "            print(f\"Classification Report at Epoch {epoch + 1}:\\n{report}\")\n",
    "\n",
    "            if accuracy > best_accuracy:\n",
    "                best_accuracy = accuracy\n",
    "                best_model_state = custom_mlp.state_dict()\n",
    "                best_epoch = epoch + 1\n",
    "                torch.save(best_model_state, checkpoint_path)\n",
    "                print(f\"New best model saved with accuracy {best_accuracy * 100:.2f}% at epoch {best_epoch}\")\n",
    "                print(f\"Best Classification Report at Epoch {best_epoch}:\\n{report}\")\n",
    "\n",
    "    custom_mlp.load_state_dict(torch.load(checkpoint_path))\n",
    "\n",
    "    plt.figure(figsize=(10, 5))\n",
    "    plt.plot(losses, label='Training Loss')\n",
    "    plt.xlabel('Epoch')\n",
    "    plt.ylabel('Loss')\n",
    "    plt.title('Training Loss Curve')\n",
    "    plt.legend()\n",
    "    plt.show()\n",
    "\n",
    "    print(f\"Final Model Accuracy: {best_accuracy * 100:.2f}%\")\n",
    "    \n",
    "    return custom_mlp, losses, best_accuracy"
   ]
  },
  {
   "cell_type": "code",
   "execution_count": 14,
   "metadata": {},
   "outputs": [
    {
     "name": "stderr",
     "output_type": "stream",
     "text": [
      "Loading checkpoint shards: 100%|██████████| 4/4 [00:03<00:00,  1.00it/s]\n"
     ]
    }
   ],
   "source": [
    "tokenizer = AutoTokenizer.from_pretrained(model_name, model_max_length=512)\n",
    "model = AutoModelForCausalLM.from_pretrained(model_name, output_hidden_states=True)\n",
    "tokenizer.pad_token = tokenizer.eos_token\n",
    "bert_tokenizer = AutoTokenizer.from_pretrained('google-bert/bert-base-uncased')\n",
    "bert_model = AutoModel.from_pretrained('google-bert/bert-base-uncased')\n",
    "bert_tokenizer.pad_token = tokenizer.eos_token\n",
    "\n",
    "non_infringement_outputs, non_infringement_references, y_non_infringement, infringement_outputs, infringement_references, y_infringement = load_data(\n",
    "    non_infringement_file, infringement_file\n",
    ")\n",
    "\n",
    "y_non_infringement = np.array(y_non_infringement)\n",
    "y_infringement = np.array(y_infringement)\n"
   ]
  },
  {
   "cell_type": "code",
   "execution_count": 15,
   "metadata": {},
   "outputs": [
    {
     "name": "stdout",
     "output_type": "stream",
     "text": [
      "Extracting hidden states for non_infringement texts...\n"
     ]
    },
    {
     "name": "stderr",
     "output_type": "stream",
     "text": [
      "Processing data batches: 100%|██████████| 3/3 [06:23<00:00, 127.76s/it]\n"
     ]
    },
    {
     "name": "stdout",
     "output_type": "stream",
     "text": [
      "Extracting reference embeddings for non_infringement texts...\n"
     ]
    },
    {
     "name": "stderr",
     "output_type": "stream",
     "text": [
      "Processing data batches: 100%|██████████| 3/3 [05:43<00:00, 114.54s/it]\n"
     ]
    },
    {
     "name": "stdout",
     "output_type": "stream",
     "text": [
      "Extracting hidden states for infringement texts...\n"
     ]
    },
    {
     "name": "stderr",
     "output_type": "stream",
     "text": [
      "Processing data batches: 100%|██████████| 3/3 [07:20<00:00, 146.92s/it]\n"
     ]
    },
    {
     "name": "stdout",
     "output_type": "stream",
     "text": [
      "Extracting reference embeddings for infringement texts...\n"
     ]
    },
    {
     "name": "stderr",
     "output_type": "stream",
     "text": [
      "Processing data batches: 100%|██████████| 3/3 [06:25<00:00, 128.62s/it]\n"
     ]
    }
   ],
   "source": [
    "print(\"Extracting hidden states for non_infringement texts...\")\n",
    "X_non_infringement = extract_hidden_states(non_infringement_outputs, model, tokenizer)\n",
    "print(\"Extracting reference embeddings for non_infringement texts...\")\n",
    "reference_embeddings_non_infringement = extract_hidden_states(non_infringement_references, model, tokenizer)\n",
    "X_non_infringement_combined = np.hstack([X_non_infringement, reference_embeddings_non_infringement])\n",
    "\n",
    "print(\"Extracting hidden states for infringement texts...\")\n",
    "X_infringement = extract_hidden_states(infringement_outputs, model, tokenizer)\n",
    "print(\"Extracting reference embeddings for infringement texts...\")\n",
    "reference_embeddings_infringement = extract_hidden_states(infringement_references, model, tokenizer)\n",
    "X_infringement_combined = np.hstack([X_infringement, reference_embeddings_infringement])"
   ]
  },
  {
   "cell_type": "code",
   "execution_count": 16,
   "metadata": {},
   "outputs": [
    {
     "name": "stdout",
     "output_type": "stream",
     "text": [
      "Data successfully split into training and test sets.\n"
     ]
    }
   ],
   "source": [
    "split_index_non_infringement = int(0.8 * len(X_non_infringement_combined))\n",
    "X_non_infringement_train = X_non_infringement_combined[:split_index_non_infringement]\n",
    "X_non_infringement_test = X_non_infringement_combined[split_index_non_infringement:]\n",
    "y_non_infringement_train = y_non_infringement[:split_index_non_infringement]\n",
    "y_non_infringement_test = y_non_infringement[split_index_non_infringement:]\n",
    "\n",
    "split_index_infringement = int(0.8 * len(X_infringement_combined))\n",
    "X_infringement_train = X_infringement_combined[:split_index_infringement]\n",
    "X_infringement_test = X_infringement_combined[split_index_infringement:]\n",
    "y_infringement_train = y_infringement[:split_index_infringement]\n",
    "y_infringement_test = y_infringement[split_index_infringement:]\n",
    "\n",
    "X_train = np.vstack((X_non_infringement_train, X_infringement_train))\n",
    "X_test = np.vstack((X_non_infringement_test, X_infringement_test))\n",
    "y_train = np.concatenate((y_non_infringement_train, y_infringement_train))\n",
    "y_test = np.concatenate((y_non_infringement_test, y_infringement_test))\n",
    "\n",
    "print(\"Data successfully split into training and test sets.\")"
   ]
  },
  {
   "cell_type": "code",
   "execution_count": 17,
   "metadata": {},
   "outputs": [
    {
     "name": "stdout",
     "output_type": "stream",
     "text": [
      "Training MLP model with input_dim=8192 and hidden_dim=256\n"
     ]
    },
    {
     "name": "stderr",
     "output_type": "stream",
     "text": [
      "Training Epochs:   0%|          | 0/500 [00:00<?, ?it/s]/home/guangwei/anaconda3/envs/sit/lib/python3.8/site-packages/torch/autograd/graph.py:768: UserWarning: CUDA initialization: The NVIDIA driver on your system is too old (found version 11040). Please update your GPU driver by downloading and installing a new version from the URL: http://www.nvidia.com/Download/index.aspx Alternatively, go to: https://pytorch.org to install a PyTorch version that has been compiled with your version of the CUDA driver. (Triggered internally at ../c10/cuda/CUDAFunctions.cpp:108.)\n",
      "  return Variable._execution_engine.run_backward(  # Calls into the C++ engine to run the backward pass\n",
      "Training Epochs:   2%|▏         | 9/500 [00:00<00:18, 26.02it/s]"
     ]
    },
    {
     "name": "stdout",
     "output_type": "stream",
     "text": [
      "Epoch 10/500, Loss: 2.2119\n",
      "Test Accuracy at Epoch 10: 84.62%\n",
      "Classification Report at Epoch 10:\n",
      "                  precision    recall  f1-score   support\n",
      "\n",
      "    infringement       0.98      0.74      0.84        65\n",
      "non_infringement       0.75      0.98      0.85        52\n",
      "\n",
      "        accuracy                           0.85       117\n",
      "       macro avg       0.86      0.86      0.85       117\n",
      "    weighted avg       0.88      0.85      0.85       117\n",
      "\n",
      "New best model saved with accuracy 84.62% at epoch 10\n",
      "Best Classification Report at Epoch 10:\n",
      "                  precision    recall  f1-score   support\n",
      "\n",
      "    infringement       0.98      0.74      0.84        65\n",
      "non_infringement       0.75      0.98      0.85        52\n",
      "\n",
      "        accuracy                           0.85       117\n",
      "       macro avg       0.86      0.86      0.85       117\n",
      "    weighted avg       0.88      0.85      0.85       117\n",
      "\n"
     ]
    },
    {
     "name": "stderr",
     "output_type": "stream",
     "text": [
      "Training Epochs:   4%|▍         | 22/500 [00:00<00:18, 26.35it/s]"
     ]
    },
    {
     "name": "stdout",
     "output_type": "stream",
     "text": [
      "Epoch 20/500, Loss: 0.3962\n",
      "Test Accuracy at Epoch 20: 84.62%\n",
      "Classification Report at Epoch 20:\n",
      "                  precision    recall  f1-score   support\n",
      "\n",
      "    infringement       0.83      0.91      0.87        65\n",
      "non_infringement       0.87      0.77      0.82        52\n",
      "\n",
      "        accuracy                           0.85       117\n",
      "       macro avg       0.85      0.84      0.84       117\n",
      "    weighted avg       0.85      0.85      0.84       117\n",
      "\n"
     ]
    },
    {
     "name": "stderr",
     "output_type": "stream",
     "text": [
      "Training Epochs:   6%|▌         | 31/500 [00:01<00:22, 20.46it/s]"
     ]
    },
    {
     "name": "stdout",
     "output_type": "stream",
     "text": [
      "Epoch 30/500, Loss: 0.1840\n",
      "Test Accuracy at Epoch 30: 73.50%\n",
      "Classification Report at Epoch 30:\n",
      "                  precision    recall  f1-score   support\n",
      "\n",
      "    infringement       0.70      0.92      0.79        65\n",
      "non_infringement       0.84      0.50      0.63        52\n",
      "\n",
      "        accuracy                           0.74       117\n",
      "       macro avg       0.77      0.71      0.71       117\n",
      "    weighted avg       0.76      0.74      0.72       117\n",
      "\n"
     ]
    },
    {
     "name": "stderr",
     "output_type": "stream",
     "text": [
      "Training Epochs:   7%|▋         | 37/500 [00:01<00:30, 15.16it/s]"
     ]
    },
    {
     "name": "stdout",
     "output_type": "stream",
     "text": [
      "Epoch 40/500, Loss: 0.0945\n",
      "Test Accuracy at Epoch 40: 73.50%\n",
      "Classification Report at Epoch 40:\n",
      "                  precision    recall  f1-score   support\n",
      "\n",
      "    infringement       0.70      0.92      0.79        65\n",
      "non_infringement       0.84      0.50      0.63        52\n",
      "\n",
      "        accuracy                           0.74       117\n",
      "       macro avg       0.77      0.71      0.71       117\n",
      "    weighted avg       0.76      0.74      0.72       117\n",
      "\n"
     ]
    },
    {
     "name": "stderr",
     "output_type": "stream",
     "text": [
      "Training Epochs:  12%|█▏        | 59/500 [00:02<00:13, 33.76it/s]"
     ]
    },
    {
     "name": "stdout",
     "output_type": "stream",
     "text": [
      "Epoch 50/500, Loss: 0.0365\n",
      "Test Accuracy at Epoch 50: 72.65%\n",
      "Classification Report at Epoch 50:\n",
      "                  precision    recall  f1-score   support\n",
      "\n",
      "    infringement       0.69      0.94      0.79        65\n",
      "non_infringement       0.86      0.46      0.60        52\n",
      "\n",
      "        accuracy                           0.73       117\n",
      "       macro avg       0.77      0.70      0.70       117\n",
      "    weighted avg       0.76      0.73      0.71       117\n",
      "\n"
     ]
    },
    {
     "name": "stderr",
     "output_type": "stream",
     "text": [
      "Training Epochs:  14%|█▍        | 69/500 [00:02<00:12, 34.20it/s]"
     ]
    },
    {
     "name": "stdout",
     "output_type": "stream",
     "text": [
      "Epoch 60/500, Loss: 0.0157\n",
      "Test Accuracy at Epoch 60: 72.65%\n",
      "Classification Report at Epoch 60:\n",
      "                  precision    recall  f1-score   support\n",
      "\n",
      "    infringement       0.69      0.92      0.79        65\n",
      "non_infringement       0.83      0.48      0.61        52\n",
      "\n",
      "        accuracy                           0.73       117\n",
      "       macro avg       0.76      0.70      0.70       117\n",
      "    weighted avg       0.75      0.73      0.71       117\n",
      "\n"
     ]
    },
    {
     "name": "stderr",
     "output_type": "stream",
     "text": [
      "Training Epochs:  15%|█▍        | 74/500 [00:03<00:14, 30.02it/s]"
     ]
    },
    {
     "name": "stdout",
     "output_type": "stream",
     "text": [
      "Epoch 70/500, Loss: 0.0081\n",
      "Test Accuracy at Epoch 70: 71.79%\n",
      "Classification Report at Epoch 70:\n",
      "                  precision    recall  f1-score   support\n",
      "\n",
      "    infringement       0.68      0.92      0.78        65\n",
      "non_infringement       0.83      0.46      0.59        52\n",
      "\n",
      "        accuracy                           0.72       117\n",
      "       macro avg       0.75      0.69      0.69       117\n",
      "    weighted avg       0.75      0.72      0.70       117\n",
      "\n"
     ]
    },
    {
     "name": "stderr",
     "output_type": "stream",
     "text": [
      "Training Epochs:  16%|█▌        | 78/500 [00:03<00:16, 24.95it/s]"
     ]
    },
    {
     "name": "stdout",
     "output_type": "stream",
     "text": [
      "Epoch 80/500, Loss: 0.0050\n",
      "Test Accuracy at Epoch 80: 70.94%\n",
      "Classification Report at Epoch 80:\n",
      "                  precision    recall  f1-score   support\n",
      "\n",
      "    infringement       0.67      0.92      0.78        65\n",
      "non_infringement       0.82      0.44      0.57        52\n",
      "\n",
      "        accuracy                           0.71       117\n",
      "       macro avg       0.75      0.68      0.68       117\n",
      "    weighted avg       0.74      0.71      0.69       117\n",
      "\n"
     ]
    },
    {
     "name": "stderr",
     "output_type": "stream",
     "text": [
      "Training Epochs:  19%|█▉        | 96/500 [00:04<00:14, 26.95it/s]"
     ]
    },
    {
     "name": "stdout",
     "output_type": "stream",
     "text": [
      "Epoch 90/500, Loss: 0.0036\n",
      "Test Accuracy at Epoch 90: 71.79%\n",
      "Classification Report at Epoch 90:\n",
      "                  precision    recall  f1-score   support\n",
      "\n",
      "    infringement       0.68      0.92      0.78        65\n",
      "non_infringement       0.83      0.46      0.59        52\n",
      "\n",
      "        accuracy                           0.72       117\n",
      "       macro avg       0.75      0.69      0.69       117\n",
      "    weighted avg       0.75      0.72      0.70       117\n",
      "\n"
     ]
    },
    {
     "name": "stderr",
     "output_type": "stream",
     "text": [
      "Training Epochs:  20%|██        | 100/500 [00:04<00:21, 18.82it/s]"
     ]
    },
    {
     "name": "stdout",
     "output_type": "stream",
     "text": [
      "Epoch 100/500, Loss: 0.0028\n",
      "Test Accuracy at Epoch 100: 72.65%\n",
      "Classification Report at Epoch 100:\n",
      "                  precision    recall  f1-score   support\n",
      "\n",
      "    infringement       0.69      0.92      0.79        65\n",
      "non_infringement       0.83      0.48      0.61        52\n",
      "\n",
      "        accuracy                           0.73       117\n",
      "       macro avg       0.76      0.70      0.70       117\n",
      "    weighted avg       0.75      0.73      0.71       117\n",
      "\n"
     ]
    },
    {
     "name": "stderr",
     "output_type": "stream",
     "text": [
      "Training Epochs:  22%|██▏       | 111/500 [00:05<00:21, 17.70it/s]"
     ]
    },
    {
     "name": "stdout",
     "output_type": "stream",
     "text": [
      "Epoch 110/500, Loss: 0.0023\n",
      "Test Accuracy at Epoch 110: 73.50%\n",
      "Classification Report at Epoch 110:\n",
      "                  precision    recall  f1-score   support\n",
      "\n",
      "    infringement       0.70      0.92      0.79        65\n",
      "non_infringement       0.84      0.50      0.63        52\n",
      "\n",
      "        accuracy                           0.74       117\n",
      "       macro avg       0.77      0.71      0.71       117\n",
      "    weighted avg       0.76      0.74      0.72       117\n",
      "\n"
     ]
    },
    {
     "name": "stderr",
     "output_type": "stream",
     "text": [
      "Training Epochs:  24%|██▍       | 120/500 [00:05<00:16, 22.55it/s]"
     ]
    },
    {
     "name": "stdout",
     "output_type": "stream",
     "text": [
      "Epoch 120/500, Loss: 0.0019\n",
      "Test Accuracy at Epoch 120: 73.50%\n",
      "Classification Report at Epoch 120:\n",
      "                  precision    recall  f1-score   support\n",
      "\n",
      "    infringement       0.70      0.92      0.79        65\n",
      "non_infringement       0.84      0.50      0.63        52\n",
      "\n",
      "        accuracy                           0.74       117\n",
      "       macro avg       0.77      0.71      0.71       117\n",
      "    weighted avg       0.76      0.74      0.72       117\n",
      "\n"
     ]
    },
    {
     "name": "stderr",
     "output_type": "stream",
     "text": [
      "Training Epochs:  27%|██▋       | 137/500 [00:06<00:10, 34.75it/s]"
     ]
    },
    {
     "name": "stdout",
     "output_type": "stream",
     "text": [
      "Epoch 130/500, Loss: 0.0017\n",
      "Test Accuracy at Epoch 130: 72.65%\n",
      "Classification Report at Epoch 130:\n",
      "                  precision    recall  f1-score   support\n",
      "\n",
      "    infringement       0.69      0.92      0.79        65\n",
      "non_infringement       0.83      0.48      0.61        52\n",
      "\n",
      "        accuracy                           0.73       117\n",
      "       macro avg       0.76      0.70      0.70       117\n",
      "    weighted avg       0.75      0.73      0.71       117\n",
      "\n",
      "Epoch 140/500, Loss: 0.0015\n",
      "Test Accuracy at Epoch 140: 71.79%\n",
      "Classification Report at Epoch 140:\n",
      "                  precision    recall  f1-score   support\n",
      "\n",
      "    infringement       0.68      0.92      0.78        65\n",
      "non_infringement       0.83      0.46      0.59        52\n",
      "\n",
      "        accuracy                           0.72       117\n",
      "       macro avg       0.75      0.69      0.69       117\n",
      "    weighted avg       0.75      0.72      0.70       117\n",
      "\n"
     ]
    },
    {
     "name": "stderr",
     "output_type": "stream",
     "text": [
      "Training Epochs:  30%|███       | 152/500 [00:06<00:18, 19.19it/s]"
     ]
    },
    {
     "name": "stdout",
     "output_type": "stream",
     "text": [
      "Epoch 150/500, Loss: 0.0013\n",
      "Test Accuracy at Epoch 150: 72.65%\n",
      "Classification Report at Epoch 150:\n",
      "                  precision    recall  f1-score   support\n",
      "\n",
      "    infringement       0.69      0.92      0.79        65\n",
      "non_infringement       0.83      0.48      0.61        52\n",
      "\n",
      "        accuracy                           0.73       117\n",
      "       macro avg       0.76      0.70      0.70       117\n",
      "    weighted avg       0.75      0.73      0.71       117\n",
      "\n"
     ]
    },
    {
     "name": "stderr",
     "output_type": "stream",
     "text": [
      "Training Epochs:  33%|███▎      | 164/500 [00:07<00:13, 24.59it/s]"
     ]
    },
    {
     "name": "stdout",
     "output_type": "stream",
     "text": [
      "Epoch 160/500, Loss: 0.0012\n",
      "Test Accuracy at Epoch 160: 72.65%\n",
      "Classification Report at Epoch 160:\n",
      "                  precision    recall  f1-score   support\n",
      "\n",
      "    infringement       0.69      0.92      0.79        65\n",
      "non_infringement       0.83      0.48      0.61        52\n",
      "\n",
      "        accuracy                           0.73       117\n",
      "       macro avg       0.76      0.70      0.70       117\n",
      "    weighted avg       0.75      0.73      0.71       117\n",
      "\n"
     ]
    },
    {
     "name": "stderr",
     "output_type": "stream",
     "text": [
      "Training Epochs:  35%|███▌      | 175/500 [00:07<00:09, 33.18it/s]"
     ]
    },
    {
     "name": "stdout",
     "output_type": "stream",
     "text": [
      "Epoch 170/500, Loss: 0.0011\n",
      "Test Accuracy at Epoch 170: 72.65%\n",
      "Classification Report at Epoch 170:\n",
      "                  precision    recall  f1-score   support\n",
      "\n",
      "    infringement       0.69      0.92      0.79        65\n",
      "non_infringement       0.83      0.48      0.61        52\n",
      "\n",
      "        accuracy                           0.73       117\n",
      "       macro avg       0.76      0.70      0.70       117\n",
      "    weighted avg       0.75      0.73      0.71       117\n",
      "\n",
      "Epoch 180/500, Loss: 0.0010\n",
      "Test Accuracy at Epoch 180: 72.65%\n",
      "Classification Report at Epoch 180:\n",
      "                  precision    recall  f1-score   support\n",
      "\n",
      "    infringement       0.69      0.92      0.79        65\n",
      "non_infringement       0.83      0.48      0.61        52\n",
      "\n",
      "        accuracy                           0.73       117\n",
      "       macro avg       0.76      0.70      0.70       117\n",
      "    weighted avg       0.75      0.73      0.71       117\n",
      "\n"
     ]
    },
    {
     "name": "stderr",
     "output_type": "stream",
     "text": [
      "Training Epochs:  40%|████      | 201/500 [00:08<00:10, 29.09it/s]"
     ]
    },
    {
     "name": "stdout",
     "output_type": "stream",
     "text": [
      "Epoch 190/500, Loss: 0.0009\n",
      "Test Accuracy at Epoch 190: 72.65%\n",
      "Classification Report at Epoch 190:\n",
      "                  precision    recall  f1-score   support\n",
      "\n",
      "    infringement       0.69      0.92      0.79        65\n",
      "non_infringement       0.83      0.48      0.61        52\n",
      "\n",
      "        accuracy                           0.73       117\n",
      "       macro avg       0.76      0.70      0.70       117\n",
      "    weighted avg       0.75      0.73      0.71       117\n",
      "\n",
      "Epoch 200/500, Loss: 0.0008\n",
      "Test Accuracy at Epoch 200: 72.65%\n",
      "Classification Report at Epoch 200:\n",
      "                  precision    recall  f1-score   support\n",
      "\n",
      "    infringement       0.69      0.92      0.79        65\n",
      "non_infringement       0.83      0.48      0.61        52\n",
      "\n",
      "        accuracy                           0.73       117\n",
      "       macro avg       0.76      0.70      0.70       117\n",
      "    weighted avg       0.75      0.73      0.71       117\n",
      "\n"
     ]
    },
    {
     "name": "stderr",
     "output_type": "stream",
     "text": [
      "Training Epochs:  43%|████▎     | 216/500 [00:09<00:07, 37.01it/s]"
     ]
    },
    {
     "name": "stdout",
     "output_type": "stream",
     "text": [
      "Epoch 210/500, Loss: 0.0007\n",
      "Test Accuracy at Epoch 210: 72.65%\n",
      "Classification Report at Epoch 210:\n",
      "                  precision    recall  f1-score   support\n",
      "\n",
      "    infringement       0.69      0.92      0.79        65\n",
      "non_infringement       0.83      0.48      0.61        52\n",
      "\n",
      "        accuracy                           0.73       117\n",
      "       macro avg       0.76      0.70      0.70       117\n",
      "    weighted avg       0.75      0.73      0.71       117\n",
      "\n",
      "Epoch 220/500, Loss: 0.0007\n",
      "Test Accuracy at Epoch 220: 72.65%\n",
      "Classification Report at Epoch 220:\n",
      "                  precision    recall  f1-score   support\n",
      "\n",
      "    infringement       0.69      0.92      0.79        65\n",
      "non_infringement       0.83      0.48      0.61        52\n",
      "\n",
      "        accuracy                           0.73       117\n",
      "       macro avg       0.76      0.70      0.70       117\n",
      "    weighted avg       0.75      0.73      0.71       117\n",
      "\n"
     ]
    },
    {
     "name": "stderr",
     "output_type": "stream",
     "text": [
      "Training Epochs:  47%|████▋     | 236/500 [00:10<00:11, 23.02it/s]"
     ]
    },
    {
     "name": "stdout",
     "output_type": "stream",
     "text": [
      "Epoch 230/500, Loss: 0.0006\n",
      "Test Accuracy at Epoch 230: 72.65%\n",
      "Classification Report at Epoch 230:\n",
      "                  precision    recall  f1-score   support\n",
      "\n",
      "    infringement       0.69      0.92      0.79        65\n",
      "non_infringement       0.83      0.48      0.61        52\n",
      "\n",
      "        accuracy                           0.73       117\n",
      "       macro avg       0.76      0.70      0.70       117\n",
      "    weighted avg       0.75      0.73      0.71       117\n",
      "\n"
     ]
    },
    {
     "name": "stderr",
     "output_type": "stream",
     "text": [
      "Training Epochs:  49%|████▉     | 245/500 [00:10<00:10, 24.81it/s]"
     ]
    },
    {
     "name": "stdout",
     "output_type": "stream",
     "text": [
      "Epoch 240/500, Loss: 0.0006\n",
      "Test Accuracy at Epoch 240: 72.65%\n",
      "Classification Report at Epoch 240:\n",
      "                  precision    recall  f1-score   support\n",
      "\n",
      "    infringement       0.69      0.92      0.79        65\n",
      "non_infringement       0.83      0.48      0.61        52\n",
      "\n",
      "        accuracy                           0.73       117\n",
      "       macro avg       0.76      0.70      0.70       117\n",
      "    weighted avg       0.75      0.73      0.71       117\n",
      "\n"
     ]
    },
    {
     "name": "stderr",
     "output_type": "stream",
     "text": [
      "Training Epochs:  51%|█████     | 254/500 [00:11<00:10, 22.91it/s]"
     ]
    },
    {
     "name": "stdout",
     "output_type": "stream",
     "text": [
      "Epoch 250/500, Loss: 0.0005\n",
      "Test Accuracy at Epoch 250: 72.65%\n",
      "Classification Report at Epoch 250:\n",
      "                  precision    recall  f1-score   support\n",
      "\n",
      "    infringement       0.69      0.92      0.79        65\n",
      "non_infringement       0.83      0.48      0.61        52\n",
      "\n",
      "        accuracy                           0.73       117\n",
      "       macro avg       0.76      0.70      0.70       117\n",
      "    weighted avg       0.75      0.73      0.71       117\n",
      "\n"
     ]
    },
    {
     "name": "stderr",
     "output_type": "stream",
     "text": [
      "Training Epochs:  54%|█████▍    | 270/500 [00:12<00:09, 25.50it/s]"
     ]
    },
    {
     "name": "stdout",
     "output_type": "stream",
     "text": [
      "Epoch 260/500, Loss: 0.0005\n",
      "Test Accuracy at Epoch 260: 72.65%\n",
      "Classification Report at Epoch 260:\n",
      "                  precision    recall  f1-score   support\n",
      "\n",
      "    infringement       0.69      0.92      0.79        65\n",
      "non_infringement       0.83      0.48      0.61        52\n",
      "\n",
      "        accuracy                           0.73       117\n",
      "       macro avg       0.76      0.70      0.70       117\n",
      "    weighted avg       0.75      0.73      0.71       117\n",
      "\n",
      "Epoch 270/500, Loss: 0.0005\n",
      "Test Accuracy at Epoch 270: 72.65%\n",
      "Classification Report at Epoch 270:\n",
      "                  precision    recall  f1-score   support\n",
      "\n",
      "    infringement       0.69      0.92      0.79        65\n",
      "non_infringement       0.83      0.48      0.61        52\n",
      "\n",
      "        accuracy                           0.73       117\n",
      "       macro avg       0.76      0.70      0.70       117\n",
      "    weighted avg       0.75      0.73      0.71       117\n",
      "\n"
     ]
    },
    {
     "name": "stderr",
     "output_type": "stream",
     "text": [
      "Training Epochs:  58%|█████▊    | 289/500 [00:12<00:05, 41.72it/s]"
     ]
    },
    {
     "name": "stdout",
     "output_type": "stream",
     "text": [
      "Epoch 280/500, Loss: 0.0004\n",
      "Test Accuracy at Epoch 280: 72.65%\n",
      "Classification Report at Epoch 280:\n",
      "                  precision    recall  f1-score   support\n",
      "\n",
      "    infringement       0.69      0.92      0.79        65\n",
      "non_infringement       0.83      0.48      0.61        52\n",
      "\n",
      "        accuracy                           0.73       117\n",
      "       macro avg       0.76      0.70      0.70       117\n",
      "    weighted avg       0.75      0.73      0.71       117\n",
      "\n",
      "Epoch 290/500, Loss: 0.0004\n",
      "Test Accuracy at Epoch 290: 72.65%\n",
      "Classification Report at Epoch 290:\n",
      "                  precision    recall  f1-score   support\n",
      "\n",
      "    infringement       0.69      0.92      0.79        65\n",
      "non_infringement       0.83      0.48      0.61        52\n",
      "\n",
      "        accuracy                           0.73       117\n",
      "       macro avg       0.76      0.70      0.70       117\n",
      "    weighted avg       0.75      0.73      0.71       117\n",
      "\n"
     ]
    },
    {
     "name": "stderr",
     "output_type": "stream",
     "text": [
      "Training Epochs:  61%|██████    | 303/500 [00:13<00:08, 23.61it/s]"
     ]
    },
    {
     "name": "stdout",
     "output_type": "stream",
     "text": [
      "Epoch 300/500, Loss: 0.0004\n",
      "Test Accuracy at Epoch 300: 72.65%\n",
      "Classification Report at Epoch 300:\n",
      "                  precision    recall  f1-score   support\n",
      "\n",
      "    infringement       0.69      0.92      0.79        65\n",
      "non_infringement       0.83      0.48      0.61        52\n",
      "\n",
      "        accuracy                           0.73       117\n",
      "       macro avg       0.76      0.70      0.70       117\n",
      "    weighted avg       0.75      0.73      0.71       117\n",
      "\n"
     ]
    },
    {
     "name": "stderr",
     "output_type": "stream",
     "text": [
      "Training Epochs:  64%|██████▍   | 320/500 [00:13<00:05, 35.99it/s]"
     ]
    },
    {
     "name": "stdout",
     "output_type": "stream",
     "text": [
      "Epoch 310/500, Loss: 0.0004\n",
      "Test Accuracy at Epoch 310: 72.65%\n",
      "Classification Report at Epoch 310:\n",
      "                  precision    recall  f1-score   support\n",
      "\n",
      "    infringement       0.69      0.92      0.79        65\n",
      "non_infringement       0.83      0.48      0.61        52\n",
      "\n",
      "        accuracy                           0.73       117\n",
      "       macro avg       0.76      0.70      0.70       117\n",
      "    weighted avg       0.75      0.73      0.71       117\n",
      "\n",
      "Epoch 320/500, Loss: 0.0003\n",
      "Test Accuracy at Epoch 320: 72.65%\n",
      "Classification Report at Epoch 320:\n",
      "                  precision    recall  f1-score   support\n",
      "\n",
      "    infringement       0.69      0.92      0.79        65\n",
      "non_infringement       0.83      0.48      0.61        52\n",
      "\n",
      "        accuracy                           0.73       117\n",
      "       macro avg       0.76      0.70      0.70       117\n",
      "    weighted avg       0.75      0.73      0.71       117\n",
      "\n"
     ]
    },
    {
     "name": "stderr",
     "output_type": "stream",
     "text": [
      "Training Epochs:  68%|██████▊   | 339/500 [00:14<00:03, 45.86it/s]"
     ]
    },
    {
     "name": "stdout",
     "output_type": "stream",
     "text": [
      "Epoch 330/500, Loss: 0.0003\n",
      "Test Accuracy at Epoch 330: 72.65%\n",
      "Classification Report at Epoch 330:\n",
      "                  precision    recall  f1-score   support\n",
      "\n",
      "    infringement       0.69      0.92      0.79        65\n",
      "non_infringement       0.83      0.48      0.61        52\n",
      "\n",
      "        accuracy                           0.73       117\n",
      "       macro avg       0.76      0.70      0.70       117\n",
      "    weighted avg       0.75      0.73      0.71       117\n",
      "\n",
      "Epoch 340/500, Loss: 0.0003\n",
      "Test Accuracy at Epoch 340: 72.65%\n"
     ]
    },
    {
     "name": "stderr",
     "output_type": "stream",
     "text": [
      "Training Epochs:  69%|██████▉   | 345/500 [00:14<00:03, 42.39it/s]"
     ]
    },
    {
     "name": "stdout",
     "output_type": "stream",
     "text": [
      "Classification Report at Epoch 340:\n",
      "                  precision    recall  f1-score   support\n",
      "\n",
      "    infringement       0.69      0.92      0.79        65\n",
      "non_infringement       0.83      0.48      0.61        52\n",
      "\n",
      "        accuracy                           0.73       117\n",
      "       macro avg       0.76      0.70      0.70       117\n",
      "    weighted avg       0.75      0.73      0.71       117\n",
      "\n",
      "Epoch 350/500, Loss: 0.0003\n",
      "Test Accuracy at Epoch 350: 72.65%\n",
      "Classification Report at Epoch 350:\n",
      "                  precision    recall  f1-score   support\n",
      "\n",
      "    infringement       0.69      0.92      0.79        65\n",
      "non_infringement       0.83      0.48      0.61        52\n",
      "\n",
      "        accuracy                           0.73       117\n",
      "       macro avg       0.76      0.70      0.70       117\n",
      "    weighted avg       0.75      0.73      0.71       117\n",
      "\n"
     ]
    },
    {
     "name": "stderr",
     "output_type": "stream",
     "text": [
      "Training Epochs:  72%|███████▏  | 360/500 [00:14<00:04, 30.10it/s]"
     ]
    },
    {
     "name": "stdout",
     "output_type": "stream",
     "text": [
      "Epoch 360/500, Loss: 0.0003\n",
      "Test Accuracy at Epoch 360: 65.81%\n",
      "Classification Report at Epoch 360:\n",
      "                  precision    recall  f1-score   support\n",
      "\n",
      "    infringement       0.63      0.92      0.75        65\n",
      "non_infringement       0.77      0.33      0.46        52\n",
      "\n",
      "        accuracy                           0.66       117\n",
      "       macro avg       0.70      0.62      0.60       117\n",
      "    weighted avg       0.69      0.66      0.62       117\n",
      "\n"
     ]
    },
    {
     "name": "stderr",
     "output_type": "stream",
     "text": [
      "Training Epochs:  75%|███████▌  | 375/500 [00:15<00:04, 29.99it/s]"
     ]
    },
    {
     "name": "stdout",
     "output_type": "stream",
     "text": [
      "Epoch 370/500, Loss: 0.0003\n",
      "Test Accuracy at Epoch 370: 65.81%\n",
      "Classification Report at Epoch 370:\n",
      "                  precision    recall  f1-score   support\n",
      "\n",
      "    infringement       0.63      0.92      0.75        65\n",
      "non_infringement       0.77      0.33      0.46        52\n",
      "\n",
      "        accuracy                           0.66       117\n",
      "       macro avg       0.70      0.62      0.60       117\n",
      "    weighted avg       0.69      0.66      0.62       117\n",
      "\n"
     ]
    },
    {
     "name": "stderr",
     "output_type": "stream",
     "text": [
      "Training Epochs:  76%|███████▌  | 381/500 [00:15<00:03, 34.44it/s]"
     ]
    },
    {
     "name": "stdout",
     "output_type": "stream",
     "text": [
      "Epoch 380/500, Loss: 0.0003\n",
      "Test Accuracy at Epoch 380: 64.96%\n",
      "Classification Report at Epoch 380:\n",
      "                  precision    recall  f1-score   support\n",
      "\n",
      "    infringement       0.63      0.91      0.74        65\n",
      "non_infringement       0.74      0.33      0.45        52\n",
      "\n",
      "        accuracy                           0.65       117\n",
      "       macro avg       0.68      0.62      0.60       117\n",
      "    weighted avg       0.68      0.65      0.61       117\n",
      "\n"
     ]
    },
    {
     "name": "stderr",
     "output_type": "stream",
     "text": [
      "Training Epochs:  78%|███████▊  | 390/500 [00:16<00:03, 28.15it/s]"
     ]
    },
    {
     "name": "stdout",
     "output_type": "stream",
     "text": [
      "Epoch 390/500, Loss: 0.0002\n",
      "Test Accuracy at Epoch 390: 64.96%\n",
      "Classification Report at Epoch 390:\n",
      "                  precision    recall  f1-score   support\n",
      "\n",
      "    infringement       0.63      0.91      0.74        65\n",
      "non_infringement       0.74      0.33      0.45        52\n",
      "\n",
      "        accuracy                           0.65       117\n",
      "       macro avg       0.68      0.62      0.60       117\n",
      "    weighted avg       0.68      0.65      0.61       117\n",
      "\n"
     ]
    },
    {
     "name": "stderr",
     "output_type": "stream",
     "text": [
      "Training Epochs:  80%|████████  | 400/500 [00:16<00:05, 19.15it/s]"
     ]
    },
    {
     "name": "stdout",
     "output_type": "stream",
     "text": [
      "Epoch 400/500, Loss: 0.0002\n",
      "Test Accuracy at Epoch 400: 64.96%\n",
      "Classification Report at Epoch 400:\n",
      "                  precision    recall  f1-score   support\n",
      "\n",
      "    infringement       0.63      0.91      0.74        65\n",
      "non_infringement       0.74      0.33      0.45        52\n",
      "\n",
      "        accuracy                           0.65       117\n",
      "       macro avg       0.68      0.62      0.60       117\n",
      "    weighted avg       0.68      0.65      0.61       117\n",
      "\n"
     ]
    },
    {
     "name": "stderr",
     "output_type": "stream",
     "text": [
      "Training Epochs:  84%|████████▎ | 418/500 [00:17<00:02, 32.78it/s]"
     ]
    },
    {
     "name": "stdout",
     "output_type": "stream",
     "text": [
      "Epoch 410/500, Loss: 0.0002\n",
      "Test Accuracy at Epoch 410: 64.96%\n",
      "Classification Report at Epoch 410:\n",
      "                  precision    recall  f1-score   support\n",
      "\n",
      "    infringement       0.63      0.91      0.74        65\n",
      "non_infringement       0.74      0.33      0.45        52\n",
      "\n",
      "        accuracy                           0.65       117\n",
      "       macro avg       0.68      0.62      0.60       117\n",
      "    weighted avg       0.68      0.65      0.61       117\n",
      "\n"
     ]
    },
    {
     "name": "stderr",
     "output_type": "stream",
     "text": [
      "Training Epochs:  84%|████████▍ | 422/500 [00:17<00:02, 33.93it/s]"
     ]
    },
    {
     "name": "stdout",
     "output_type": "stream",
     "text": [
      "Epoch 420/500, Loss: 0.0002\n",
      "Test Accuracy at Epoch 420: 64.96%\n",
      "Classification Report at Epoch 420:\n",
      "                  precision    recall  f1-score   support\n",
      "\n",
      "    infringement       0.63      0.91      0.74        65\n",
      "non_infringement       0.74      0.33      0.45        52\n",
      "\n",
      "        accuracy                           0.65       117\n",
      "       macro avg       0.68      0.62      0.60       117\n",
      "    weighted avg       0.68      0.65      0.61       117\n",
      "\n"
     ]
    },
    {
     "name": "stderr",
     "output_type": "stream",
     "text": [
      "Training Epochs:  87%|████████▋ | 435/500 [00:17<00:02, 29.23it/s]"
     ]
    },
    {
     "name": "stdout",
     "output_type": "stream",
     "text": [
      "Epoch 430/500, Loss: 0.0002\n",
      "Test Accuracy at Epoch 430: 64.96%\n",
      "Classification Report at Epoch 430:\n",
      "                  precision    recall  f1-score   support\n",
      "\n",
      "    infringement       0.63      0.91      0.74        65\n",
      "non_infringement       0.74      0.33      0.45        52\n",
      "\n",
      "        accuracy                           0.65       117\n",
      "       macro avg       0.68      0.62      0.60       117\n",
      "    weighted avg       0.68      0.65      0.61       117\n",
      "\n"
     ]
    },
    {
     "name": "stderr",
     "output_type": "stream",
     "text": [
      "Training Epochs:  88%|████████▊ | 439/500 [00:18<00:02, 29.15it/s]"
     ]
    },
    {
     "name": "stdout",
     "output_type": "stream",
     "text": [
      "Epoch 440/500, Loss: 0.0002\n",
      "Test Accuracy at Epoch 440: 64.96%\n",
      "Classification Report at Epoch 440:\n",
      "                  precision    recall  f1-score   support\n",
      "\n",
      "    infringement       0.63      0.91      0.74        65\n",
      "non_infringement       0.74      0.33      0.45        52\n",
      "\n",
      "        accuracy                           0.65       117\n",
      "       macro avg       0.68      0.62      0.60       117\n",
      "    weighted avg       0.68      0.65      0.61       117\n",
      "\n"
     ]
    },
    {
     "name": "stderr",
     "output_type": "stream",
     "text": [
      "Training Epochs:  90%|█████████ | 450/500 [00:18<00:01, 27.52it/s]"
     ]
    },
    {
     "name": "stdout",
     "output_type": "stream",
     "text": [
      "Epoch 450/500, Loss: 0.0002\n",
      "Test Accuracy at Epoch 450: 64.96%\n",
      "Classification Report at Epoch 450:\n",
      "                  precision    recall  f1-score   support\n",
      "\n",
      "    infringement       0.63      0.91      0.74        65\n",
      "non_infringement       0.74      0.33      0.45        52\n",
      "\n",
      "        accuracy                           0.65       117\n",
      "       macro avg       0.68      0.62      0.60       117\n",
      "    weighted avg       0.68      0.65      0.61       117\n",
      "\n"
     ]
    },
    {
     "name": "stderr",
     "output_type": "stream",
     "text": [
      "Training Epochs:  93%|█████████▎| 467/500 [00:18<00:00, 37.12it/s]"
     ]
    },
    {
     "name": "stdout",
     "output_type": "stream",
     "text": [
      "Epoch 460/500, Loss: 0.0002\n",
      "Test Accuracy at Epoch 460: 64.10%\n",
      "Classification Report at Epoch 460:\n",
      "                  precision    recall  f1-score   support\n",
      "\n",
      "    infringement       0.62      0.91      0.74        65\n",
      "non_infringement       0.73      0.31      0.43        52\n",
      "\n",
      "        accuracy                           0.64       117\n",
      "       macro avg       0.67      0.61      0.58       117\n",
      "    weighted avg       0.67      0.64      0.60       117\n",
      "\n"
     ]
    },
    {
     "name": "stderr",
     "output_type": "stream",
     "text": [
      "Training Epochs:  96%|█████████▌| 479/500 [00:19<00:00, 42.06it/s]"
     ]
    },
    {
     "name": "stdout",
     "output_type": "stream",
     "text": [
      "Epoch 470/500, Loss: 0.0002\n",
      "Test Accuracy at Epoch 470: 64.10%\n",
      "Classification Report at Epoch 470:\n",
      "                  precision    recall  f1-score   support\n",
      "\n",
      "    infringement       0.62      0.91      0.74        65\n",
      "non_infringement       0.73      0.31      0.43        52\n",
      "\n",
      "        accuracy                           0.64       117\n",
      "       macro avg       0.67      0.61      0.58       117\n",
      "    weighted avg       0.67      0.64      0.60       117\n",
      "\n",
      "Epoch 480/500, Loss: 0.0002\n",
      "Test Accuracy at Epoch 480: 64.10%\n",
      "Classification Report at Epoch 480:\n",
      "                  precision    recall  f1-score   support\n",
      "\n",
      "    infringement       0.62      0.91      0.74        65\n",
      "non_infringement       0.73      0.31      0.43        52\n",
      "\n",
      "        accuracy                           0.64       117\n",
      "       macro avg       0.67      0.61      0.58       117\n",
      "    weighted avg       0.67      0.64      0.60       117\n",
      "\n"
     ]
    },
    {
     "name": "stderr",
     "output_type": "stream",
     "text": [
      "Training Epochs:  98%|█████████▊| 490/500 [00:19<00:00, 40.69it/s]"
     ]
    },
    {
     "name": "stdout",
     "output_type": "stream",
     "text": [
      "Epoch 490/500, Loss: 0.0002\n",
      "Test Accuracy at Epoch 490: 64.10%\n",
      "Classification Report at Epoch 490:\n",
      "                  precision    recall  f1-score   support\n",
      "\n",
      "    infringement       0.62      0.91      0.74        65\n",
      "non_infringement       0.73      0.31      0.43        52\n",
      "\n",
      "        accuracy                           0.64       117\n",
      "       macro avg       0.67      0.61      0.58       117\n",
      "    weighted avg       0.67      0.64      0.60       117\n",
      "\n"
     ]
    },
    {
     "name": "stderr",
     "output_type": "stream",
     "text": [
      "Training Epochs: 100%|██████████| 500/500 [00:20<00:00, 24.87it/s]\n",
      "/tmp/ipykernel_3974105/1033092828.py:47: FutureWarning: You are using `torch.load` with `weights_only=False` (the current default value), which uses the default pickle module implicitly. It is possible to construct malicious pickle data which will execute arbitrary code during unpickling (See https://github.com/pytorch/pytorch/blob/main/SECURITY.md#untrusted-models for more details). In a future release, the default value for `weights_only` will be flipped to `True`. This limits the functions that could be executed during unpickling. Arbitrary objects will no longer be allowed to be loaded via this mode unless they are explicitly allowlisted by the user via `torch.serialization.add_safe_globals`. We recommend you start setting `weights_only=True` for any use case where you don't have full control of the loaded file. Please open an issue on GitHub for any issues related to this experimental feature.\n",
      "  custom_mlp.load_state_dict(torch.load(checkpoint_path))\n"
     ]
    },
    {
     "name": "stdout",
     "output_type": "stream",
     "text": [
      "Epoch 500/500, Loss: 0.0002\n",
      "Test Accuracy at Epoch 500: 64.10%\n",
      "Classification Report at Epoch 500:\n",
      "                  precision    recall  f1-score   support\n",
      "\n",
      "    infringement       0.62      0.91      0.74        65\n",
      "non_infringement       0.73      0.31      0.43        52\n",
      "\n",
      "        accuracy                           0.64       117\n",
      "       macro avg       0.67      0.61      0.58       117\n",
      "    weighted avg       0.67      0.64      0.60       117\n",
      "\n"
     ]
    },
    {
     "data": {
      "image/png": "[encoded data removed]",
      "text/plain": [
       "<Figure size 1000x500 with 1 Axes>"
      ]
     },
     "metadata": {},
     "output_type": "display_data"
    },
    {
     "name": "stdout",
     "output_type": "stream",
     "text": [
      "Final Model Accuracy: 84.62%\n"
     ]
    }
   ],
   "source": [
    "input_dim = X_train.shape[1]\n",
    "hidden_dim = 256 \n",
    "print(f\"Training MLP model with input_dim={input_dim} and hidden_dim={hidden_dim}\")\n",
    "\n",
    "custom_mlp, losses, best_accuracy = train_model(X_train, y_train, X_test, y_test, input_dim, hidden_dim)"
   ]
  },
  {
   "cell_type": "code",
   "execution_count": 18,
   "metadata": {},
   "outputs": [
    {
     "name": "stdout",
     "output_type": "stream",
     "text": [
      "Checkpoint saved to '/home/guangwei/LLM-COPYRIGHT/copyright_newVersion/models/train_input_reference_last_layer_TSNEtest.pth'.\n"
     ]
    }
   ],
   "source": [
    "def save_checkpoint(model, optimizer, epoch, loss, filepath):\n",
    "    checkpoint = {\n",
    "        'epoch': epoch + 1,\n",
    "        'model_state_dict': model.state_dict(),\n",
    "        'optimizer_state_dict': optimizer.state_dict(),\n",
    "        'loss': loss\n",
    "    }\n",
    "    torch.save(checkpoint, filepath)\n",
    "    print(f\"Checkpoint saved to '{filepath}'.\")\n",
    "\n",
    "save_checkpoint(custom_mlp, torch.optim.Adam(custom_mlp.parameters()), len(losses), losses[-1], checkpoint_file)"
   ]
  },
  {
   "cell_type": "code",
   "execution_count": 19,
   "metadata": {},
   "outputs": [
    {
     "name": "stdout",
     "output_type": "stream",
     "text": [
      "                  precision    recall  f1-score   support\n",
      "\n",
      "    infringement       0.98      0.74      0.84        65\n",
      "non_infringement       0.75      0.98      0.85        52\n",
      "\n",
      "        accuracy                           0.85       117\n",
      "       macro avg       0.86      0.86      0.85       117\n",
      "    weighted avg       0.88      0.85      0.85       117\n",
      "\n"
     ]
    },
    {
     "name": "stderr",
     "output_type": "stream",
     "text": [
      "/tmp/ipykernel_3974105/2137335780.py:1: UserWarning: To copy construct from a tensor, it is recommended to use sourceTensor.clone().detach() or sourceTensor.clone().detach().requires_grad_(True), rather than torch.tensor(sourceTensor).\n",
      "  y_pred_final = (torch.sigmoid(torch.tensor(custom_mlp(torch.tensor(X_test, dtype=torch.float32)))) > 0.5).float().numpy()\n"
     ]
    }
   ],
   "source": [
    "y_pred_final = (torch.sigmoid(torch.tensor(custom_mlp(torch.tensor(X_test, dtype=torch.float32)))) > 0.5).float().numpy()\n",
    "print(classification_report(y_test, y_pred_final, target_names=[\"infringement\", \"non_infringement\"]))"
   ]
  },
  {
   "cell_type": "code",
   "execution_count": 21,
   "metadata": {},
   "outputs": [
    {
     "data": {
      "image/png": "[encoded data removed]",
      "text/plain": [
       "<Figure size 1000x500 with 2 Axes>"
      ]
     },
     "metadata": {},
     "output_type": "display_data"
    },
    {
     "data": {
      "image/png": "[encoded data removed]",
      "text/plain": [
       "<Figure size 1000x500 with 1 Axes>"
      ]
     },
     "metadata": {},
     "output_type": "display_data"
    },
    {
     "ename": "ValueError",
     "evalue": "Incompatible dimension for X and Y matrices: X.shape[1] == 4096 while Y.shape[1] == 8192",
     "output_type": "error",
     "traceback": [
      "\u001b[0;31m---------------------------------------------------------------------------\u001b[0m",
      "\u001b[0;31mValueError\u001b[0m                                Traceback (most recent call last)",
      "Cell \u001b[0;32mIn[21], line 32\u001b[0m\n\u001b[1;32m     28\u001b[0m plt\u001b[38;5;241m.\u001b[39mshow()\n\u001b[1;32m     30\u001b[0m \u001b[38;5;28;01mfrom\u001b[39;00m \u001b[38;5;21;01msklearn\u001b[39;00m\u001b[38;5;21;01m.\u001b[39;00m\u001b[38;5;21;01mmetrics\u001b[39;00m\u001b[38;5;21;01m.\u001b[39;00m\u001b[38;5;21;01mpairwise\u001b[39;00m \u001b[38;5;28;01mimport\u001b[39;00m cosine_similarity, euclidean_distances\n\u001b[0;32m---> 32\u001b[0m euclidean_dist \u001b[38;5;241m=\u001b[39m \u001b[43meuclidean_distances\u001b[49m\u001b[43m(\u001b[49m\u001b[43mreference_embeddings_non_infringement\u001b[49m\u001b[43m,\u001b[49m\u001b[43m \u001b[49m\u001b[43mX_non_infringement_combined\u001b[49m\u001b[43m)\u001b[49m\n\u001b[1;32m     33\u001b[0m cosine_sim \u001b[38;5;241m=\u001b[39m cosine_similarity(reference_embeddings_non_infringement, X_non_infringement_combined)\n\u001b[1;32m     35\u001b[0m \u001b[38;5;28mprint\u001b[39m(\u001b[38;5;124m\"\u001b[39m\u001b[38;5;124mEuclidean Distance Matrix Shape: \u001b[39m\u001b[38;5;124m\"\u001b[39m, euclidean_dist\u001b[38;5;241m.\u001b[39mshape)\n",
      "File \u001b[0;32m~/anaconda3/envs/sit/lib/python3.8/site-packages/sklearn/metrics/pairwise.py:310\u001b[0m, in \u001b[0;36meuclidean_distances\u001b[0;34m(X, Y, Y_norm_squared, squared, X_norm_squared)\u001b[0m\n\u001b[1;32m    234\u001b[0m \u001b[38;5;28;01mdef\u001b[39;00m \u001b[38;5;21meuclidean_distances\u001b[39m(\n\u001b[1;32m    235\u001b[0m     X, Y\u001b[38;5;241m=\u001b[39m\u001b[38;5;28;01mNone\u001b[39;00m, \u001b[38;5;241m*\u001b[39m, Y_norm_squared\u001b[38;5;241m=\u001b[39m\u001b[38;5;28;01mNone\u001b[39;00m, squared\u001b[38;5;241m=\u001b[39m\u001b[38;5;28;01mFalse\u001b[39;00m, X_norm_squared\u001b[38;5;241m=\u001b[39m\u001b[38;5;28;01mNone\u001b[39;00m\n\u001b[1;32m    236\u001b[0m ):\n\u001b[1;32m    237\u001b[0m \u001b[38;5;250m    \u001b[39m\u001b[38;5;124;03m\"\"\"\u001b[39;00m\n\u001b[1;32m    238\u001b[0m \u001b[38;5;124;03m    Compute the distance matrix between each pair from a vector array X and Y.\u001b[39;00m\n\u001b[1;32m    239\u001b[0m \n\u001b[0;32m   (...)\u001b[0m\n\u001b[1;32m    308\u001b[0m \u001b[38;5;124;03m           [1.41421356]])\u001b[39;00m\n\u001b[1;32m    309\u001b[0m \u001b[38;5;124;03m    \"\"\"\u001b[39;00m\n\u001b[0;32m--> 310\u001b[0m     X, Y \u001b[38;5;241m=\u001b[39m \u001b[43mcheck_pairwise_arrays\u001b[49m\u001b[43m(\u001b[49m\u001b[43mX\u001b[49m\u001b[43m,\u001b[49m\u001b[43m \u001b[49m\u001b[43mY\u001b[49m\u001b[43m)\u001b[49m\n\u001b[1;32m    312\u001b[0m     \u001b[38;5;28;01mif\u001b[39;00m X_norm_squared \u001b[38;5;129;01mis\u001b[39;00m \u001b[38;5;129;01mnot\u001b[39;00m \u001b[38;5;28;01mNone\u001b[39;00m:\n\u001b[1;32m    313\u001b[0m         X_norm_squared \u001b[38;5;241m=\u001b[39m check_array(X_norm_squared, ensure_2d\u001b[38;5;241m=\u001b[39m\u001b[38;5;28;01mFalse\u001b[39;00m)\n",
      "File \u001b[0;32m~/anaconda3/envs/sit/lib/python3.8/site-packages/sklearn/metrics/pairwise.py:190\u001b[0m, in \u001b[0;36mcheck_pairwise_arrays\u001b[0;34m(X, Y, precomputed, dtype, accept_sparse, force_all_finite, copy)\u001b[0m\n\u001b[1;32m    184\u001b[0m         \u001b[38;5;28;01mraise\u001b[39;00m \u001b[38;5;167;01mValueError\u001b[39;00m(\n\u001b[1;32m    185\u001b[0m             \u001b[38;5;124m\"\u001b[39m\u001b[38;5;124mPrecomputed metric requires shape \u001b[39m\u001b[38;5;124m\"\u001b[39m\n\u001b[1;32m    186\u001b[0m             \u001b[38;5;124m\"\u001b[39m\u001b[38;5;124m(n_queries, n_indexed). Got (\u001b[39m\u001b[38;5;132;01m%d\u001b[39;00m\u001b[38;5;124m, \u001b[39m\u001b[38;5;132;01m%d\u001b[39;00m\u001b[38;5;124m) \u001b[39m\u001b[38;5;124m\"\u001b[39m\n\u001b[1;32m    187\u001b[0m             \u001b[38;5;124m\"\u001b[39m\u001b[38;5;124mfor \u001b[39m\u001b[38;5;132;01m%d\u001b[39;00m\u001b[38;5;124m indexed.\u001b[39m\u001b[38;5;124m\"\u001b[39m \u001b[38;5;241m%\u001b[39m (X\u001b[38;5;241m.\u001b[39mshape[\u001b[38;5;241m0\u001b[39m], X\u001b[38;5;241m.\u001b[39mshape[\u001b[38;5;241m1\u001b[39m], Y\u001b[38;5;241m.\u001b[39mshape[\u001b[38;5;241m0\u001b[39m])\n\u001b[1;32m    188\u001b[0m         )\n\u001b[1;32m    189\u001b[0m \u001b[38;5;28;01melif\u001b[39;00m X\u001b[38;5;241m.\u001b[39mshape[\u001b[38;5;241m1\u001b[39m] \u001b[38;5;241m!=\u001b[39m Y\u001b[38;5;241m.\u001b[39mshape[\u001b[38;5;241m1\u001b[39m]:\n\u001b[0;32m--> 190\u001b[0m     \u001b[38;5;28;01mraise\u001b[39;00m \u001b[38;5;167;01mValueError\u001b[39;00m(\n\u001b[1;32m    191\u001b[0m         \u001b[38;5;124m\"\u001b[39m\u001b[38;5;124mIncompatible dimension for X and Y matrices: \u001b[39m\u001b[38;5;124m\"\u001b[39m\n\u001b[1;32m    192\u001b[0m         \u001b[38;5;124m\"\u001b[39m\u001b[38;5;124mX.shape[1] == \u001b[39m\u001b[38;5;132;01m%d\u001b[39;00m\u001b[38;5;124m while Y.shape[1] == \u001b[39m\u001b[38;5;132;01m%d\u001b[39;00m\u001b[38;5;124m\"\u001b[39m \u001b[38;5;241m%\u001b[39m (X\u001b[38;5;241m.\u001b[39mshape[\u001b[38;5;241m1\u001b[39m], Y\u001b[38;5;241m.\u001b[39mshape[\u001b[38;5;241m1\u001b[39m])\n\u001b[1;32m    193\u001b[0m     )\n\u001b[1;32m    195\u001b[0m \u001b[38;5;28;01mreturn\u001b[39;00m X, Y\n",
      "\u001b[0;31mValueError\u001b[0m: Incompatible dimension for X and Y matrices: X.shape[1] == 4096 while Y.shape[1] == 8192"
     ]
    }
   ],
   "source": [
    "import numpy as np\n",
    "import torch\n",
    "from sklearn.manifold import TSNE\n",
    "import matplotlib.pyplot as plt\n",
    "\n",
    "tsne = TSNE(n_components=2, random_state=42)\n",
    "hidden_states_tsne = tsne.fit_transform(X_non_infringement)\n",
    "combined_embeddings_tsne = tsne.fit_transform(X_non_infringement_combined)\n",
    "reference_embeddings_tsne = tsne.fit_transform(reference_embeddings_non_infringement)\n",
    "\n",
    "plt.figure(figsize=(10, 5))\n",
    "plt.subplot(1, 2, 1)\n",
    "plt.scatter(hidden_states_tsne[:, 0], hidden_states_tsne[:, 1], c='blue', label='Internal States')\n",
    "plt.title(\"t-SNE of Internal States\")\n",
    "plt.legend()\n",
    "\n",
    "plt.subplot(1, 2, 2)\n",
    "plt.scatter(combined_embeddings_tsne[:, 0], combined_embeddings_tsne[:, 1], c='green', label='Internal States + Reference Embeddings')\n",
    "plt.title(\"t-SNE of Internal + Reference Embeddings\")\n",
    "plt.legend()\n",
    "\n",
    "plt.figure(figsize=(10, 5))\n",
    "plt.subplot(1, 2, 2)\n",
    "plt.scatter(hidden_states_tsne[:, 0], hidden_states_tsne[:, 1], c='red', label='Reference Embeddings')\n",
    "plt.title(\"t-SNE of Reference Embeddings\")\n",
    "plt.legend()\n",
    "\n",
    "plt.show()\n",
    "\n",
    "from sklearn.metrics.pairwise import cosine_similarity, euclidean_distances\n",
    "\n",
    "euclidean_dist = euclidean_distances(reference_embeddings_non_infringement, X_non_infringement_combined)\n",
    "cosine_sim = cosine_similarity(reference_embeddings_non_infringement, X_non_infringement_combined)\n",
    "\n",
    "print(\"Euclidean Distance Matrix Shape: \", euclidean_dist.shape)\n",
    "print(\"Cosine Similarity Matrix Shape: \", cosine_sim.shape)\n"
   ]
  }
 ],
 "metadata": {
  "kernelspec": {
   "display_name": "sit",
   "language": "python",
   "name": "python3"
  },
  "language_info": {
   "codemirror_mode": {
    "name": "ipython",
    "version": 3
   },
   "file_extension": ".py",
   "mimetype": "text/x-python",
   "name": "python",
   "nbconvert_exporter": "python",
   "pygments_lexer": "ipython3",
   "version": "3.8.20"
  }
 },
 "nbformat": 4,
 "nbformat_minor": 2
}
