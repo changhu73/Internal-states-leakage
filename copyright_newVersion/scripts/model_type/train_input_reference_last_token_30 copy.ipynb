{
 "cells": [
  {
   "cell_type": "code",
   "execution_count": 13,
   "metadata": {},
   "outputs": [],
   "source": [
    "# import packages & variables\n",
    "import argparse\n",
    "import torch\n",
    "import torch.nn as nn\n",
    "import numpy as np\n",
    "from sklearn.metrics import accuracy_score, classification_report\n",
    "import matplotlib.pyplot as plt\n",
    "from tqdm import tqdm\n",
    "from transformers import AutoTokenizer, AutoModelForCausalLM, AutoModel, AutoModelForSequenceClassification\n",
    "import json\n",
    "import os\n",
    "\n",
    "os.environ[\"CUDA_VISIBLE_DEVICES\"] = \"4\"\n",
    "\n",
    "# Parameters\n",
    "model_name = 'meta-llama/Llama-3.1-8B'\n",
    "non_infringement_file = '/home/guangwei/LLM-COPYRIGHT/copyright_newVersion/division_qa/qa.non_infringement.json'\n",
    "infringement_file = '/home/guangwei/LLM-COPYRIGHT/copyright_newVersion/division_qa/qa.infringement.json'\n",
    "checkpoint_file = '/home/guangwei/LLM-COPYRIGHT/copyright_newVersion/models/train_input_reference_last_token.pth'\n"
   ]
  },
  {
   "cell_type": "code",
   "execution_count": 14,
   "metadata": {},
   "outputs": [],
   "source": [
    "# Define CustumMLP for internal states train\n",
    "class CustomMLP(nn.Module):\n",
    "    def __init__(self, input_dim, hidden_dim):\n",
    "        super(CustomMLP, self).__init__()\n",
    "        self.down = nn.Linear(input_dim, hidden_dim)\n",
    "        self.gate = nn.Linear(input_dim, hidden_dim)\n",
    "        self.up = nn.Linear(hidden_dim, 1)\n",
    "        self.activation = nn.SiLU()\n",
    "\n",
    "    def forward(self, x):\n",
    "        down_output = self.down(x)\n",
    "        gate_output = self.gate(x)\n",
    "        gated_output = down_output * self.activation(gate_output)\n",
    "        return self.up(gated_output)"
   ]
  },
  {
   "cell_type": "code",
   "execution_count": 15,
   "metadata": {},
   "outputs": [],
   "source": [
    "# Extract hidden states/reference embeddings\n",
    "def extract_hidden_states(texts, model, tokenizer, batch_size=4):\n",
    "    device = torch.device(\"cuda\" if torch.cuda.is_available() else \"cpu\")\n",
    "    model.to(device)\n",
    "    model = nn.DataParallel(model)\n",
    "    hidden_states = []\n",
    "    for i in tqdm(range(0, len(texts), batch_size), desc=\"Processing data batches\"):\n",
    "        batch_texts = texts[i:i + batch_size]\n",
    "        inputs = tokenizer(batch_texts, return_tensors=\"pt\", padding=True, truncation=True)\n",
    "        with torch.no_grad():\n",
    "            outputs = model(**inputs)\n",
    "        \n",
    "        # 访问最后一个隐藏层的最后一个token的隐藏状态\n",
    "        # hidden_states[-1]表示最后一个隐藏层，mean(dim=1)表示取所有头的均值\n",
    "        last_layer_hidden_states = outputs.hidden_states[-1]\n",
    "        last_token_hidden_states = last_layer_hidden_states[:, -1, :]  # -1表示最后一个token\n",
    "        hidden_states.append(last_token_hidden_states.cpu().numpy())\n",
    "    return np.vstack(hidden_states)\n",
    "\n",
    "def extract_reference_embeddings(references, model, tokenizer, batch_size=4):\n",
    "    device = torch.device(\"cuda\" if torch.cuda.is_available() else \"cpu\")\n",
    "    model.to(device)\n",
    "    model = nn.DataParallel(model)\n",
    "    embeddings = []\n",
    "    for i in tqdm(range(0, len(references), batch_size), desc=\"Processing references\"):\n",
    "        batch_references = references[i:i + batch_size]\n",
    "        inputs = tokenizer(batch_references, return_tensors=\"pt\", padding=True, truncation=True).to(device)\n",
    "        with torch.no_grad():\n",
    "            outputs = model(**inputs)\n",
    "        embeddings.append(outputs.pooler_output.cpu().numpy())\n",
    "    return np.vstack(embeddings)"
   ]
  },
  {
   "cell_type": "code",
   "execution_count": 16,
   "metadata": {},
   "outputs": [],
   "source": [
    "# load data for infringement & non infringement\n",
    "def load_data(non_infringement_file, infringement_file):\n",
    "    with open(non_infringement_file, 'r', encoding='utf-8') as file:\n",
    "        non_infringement_json_data = json.load(file)\n",
    "\n",
    "    non_infringement_outputs = [entry['input'] for entry in non_infringement_json_data]\n",
    "    non_infringement_references = [entry['reference'] for entry in non_infringement_json_data]\n",
    "    y_non_infringement = [1] * len(non_infringement_outputs)\n",
    "\n",
    "    with open(infringement_file, 'r', encoding='utf-8') as file:\n",
    "        infringement_json_data = json.load(file)\n",
    "\n",
    "    infringement_outputs = [entry['input'] for entry in infringement_json_data]\n",
    "    infringement_references = [entry['reference'] for entry in infringement_json_data]\n",
    "    y_infringement = [0] * len(infringement_outputs)\n",
    "\n",
    "    return non_infringement_outputs, non_infringement_references, y_non_infringement, infringement_outputs, infringement_references, y_infringement"
   ]
  },
  {
   "cell_type": "code",
   "execution_count": 17,
   "metadata": {},
   "outputs": [],
   "source": [
    "from sklearn.metrics import accuracy_score, classification_report, f1_score\n",
    "\n",
    "# Train for best model\n",
    "def train_model(X_train, y_train, X_test, y_test, input_dim, hidden_dim, epochs=2000, lr=0.001, checkpoint_path=checkpoint_file):\n",
    "    custom_mlp = CustomMLP(input_dim, hidden_dim)\n",
    "    criterion = nn.BCEWithLogitsLoss()\n",
    "    optimizer = torch.optim.Adam(custom_mlp.parameters(), lr=lr)\n",
    "\n",
    "    X_train_tensor = torch.tensor(X_train, dtype=torch.float32)\n",
    "    y_train_tensor = torch.tensor(y_train, dtype=torch.float32).unsqueeze(1)\n",
    "\n",
    "    best_accuracy = -float('inf')\n",
    "    best_f1 = -float('inf')  # Track best F1-score\n",
    "    best_model_state = None\n",
    "    best_epoch = 0\n",
    "    losses = []\n",
    "\n",
    "    for epoch in tqdm(range(epochs), desc=\"Training Epochs\"):\n",
    "        custom_mlp.train()\n",
    "        optimizer.zero_grad()\n",
    "        outputs = custom_mlp(X_train_tensor)\n",
    "        loss = criterion(outputs, y_train_tensor)\n",
    "        loss.backward()\n",
    "        optimizer.step()\n",
    "        losses.append(loss.item())\n",
    "\n",
    "        # Every 10 epochs, evaluate the model\n",
    "        if (epoch + 1) % 10 == 0:\n",
    "            print(f\"Epoch {epoch + 1}/{epochs}, Loss: {loss.item():.4f}\")\n",
    "            \n",
    "            custom_mlp.eval()\n",
    "            X_test_tensor = torch.tensor(X_test, dtype=torch.float32)\n",
    "            with torch.no_grad():\n",
    "                y_pred_logits = custom_mlp(X_test_tensor)\n",
    "                y_pred = (torch.sigmoid(y_pred_logits) > 0.5).float().numpy()\n",
    "            \n",
    "            # Calculate accuracy and F1-score\n",
    "            accuracy = accuracy_score(y_test, y_pred)\n",
    "            f1 = f1_score(y_test, y_pred)  # F1-score calculation\n",
    "            \n",
    "            print(f\"Test Accuracy at Epoch {epoch + 1}: {accuracy * 100:.2f}%\")\n",
    "            print(f\"Test F1-score at Epoch {epoch + 1}: {f1:.4f}\")\n",
    "            \n",
    "            # Generate classification report\n",
    "            report = classification_report(y_test, y_pred, target_names=[\"infringement\", \"non_infringement\"])\n",
    "            print(f\"Classification Report at Epoch {epoch + 1}:\\n{report}\")\n",
    "\n",
    "            # Save the model if it achieves a better F1-score\n",
    "            if f1 > best_f1:\n",
    "                best_accuracy = accuracy\n",
    "                best_f1 = f1\n",
    "                best_model_state = custom_mlp.state_dict()\n",
    "                best_epoch = epoch + 1\n",
    "                torch.save(best_model_state, checkpoint_path)\n",
    "                print(f\"New best model saved with F1-score {best_f1:.4f} at epoch {best_epoch}\")\n",
    "                print(f\"Best Classification Report at Epoch {best_epoch}:\\n{report}\")\n",
    "\n",
    "    # Load the best model state\n",
    "    custom_mlp.load_state_dict(torch.load(checkpoint_path))\n",
    "\n",
    "    # Plot loss curve\n",
    "    plt.figure(figsize=(10, 5))\n",
    "    plt.plot(losses, label='Training Loss')\n",
    "    plt.xlabel('Epoch')\n",
    "    plt.ylabel('Loss')\n",
    "    plt.title('Training Loss Curve')\n",
    "    plt.legend()\n",
    "    plt.show()\n",
    "\n",
    "    print(f\"Final Model Accuracy: {best_accuracy * 100:.2f}%\")\n",
    "    print(f\"Final Model F1-score: {best_f1:.4f}\")\n",
    "    \n",
    "    return custom_mlp, losses, best_accuracy, best_f1\n"
   ]
  },
  {
   "cell_type": "code",
   "execution_count": 18,
   "metadata": {},
   "outputs": [
    {
     "name": "stderr",
     "output_type": "stream",
     "text": [
      "Loading checkpoint shards: 100%|██████████| 4/4 [00:03<00:00,  1.17it/s]\n"
     ]
    }
   ],
   "source": [
    "tokenizer = AutoTokenizer.from_pretrained(model_name, model_max_length=512)\n",
    "model = AutoModelForCausalLM.from_pretrained(model_name, output_hidden_states=True)\n",
    "tokenizer.pad_token = tokenizer.eos_token\n",
    "bert_tokenizer = AutoTokenizer.from_pretrained('google-bert/bert-base-uncased')\n",
    "bert_model = AutoModel.from_pretrained('google-bert/bert-base-uncased')\n",
    "bert_tokenizer.pad_token = tokenizer.eos_token\n",
    "\n",
    "non_infringement_outputs, non_infringement_references, y_non_infringement, infringement_outputs, infringement_references, y_infringement = load_data(\n",
    "    non_infringement_file, infringement_file\n",
    ")\n",
    "\n",
    "y_non_infringement = np.array(y_non_infringement)\n",
    "y_infringement = np.array(y_infringement)\n"
   ]
  },
  {
   "cell_type": "code",
   "execution_count": 19,
   "metadata": {},
   "outputs": [
    {
     "name": "stdout",
     "output_type": "stream",
     "text": [
      "Extracting hidden states for non_infringement texts...\n"
     ]
    },
    {
     "name": "stderr",
     "output_type": "stream",
     "text": [
      "Processing data batches: 100%|██████████| 79/79 [00:10<00:00,  7.71it/s]\n"
     ]
    },
    {
     "name": "stdout",
     "output_type": "stream",
     "text": [
      "Extracting reference embeddings for non_infringement texts...\n"
     ]
    },
    {
     "name": "stderr",
     "output_type": "stream",
     "text": [
      "Processing references: 100%|██████████| 79/79 [00:00<00:00, 101.47it/s]\n"
     ]
    },
    {
     "name": "stdout",
     "output_type": "stream",
     "text": [
      "Extracting hidden states for infringement texts...\n"
     ]
    },
    {
     "name": "stderr",
     "output_type": "stream",
     "text": [
      "Processing data batches: 100%|██████████| 39/39 [00:04<00:00,  7.86it/s]\n"
     ]
    },
    {
     "name": "stdout",
     "output_type": "stream",
     "text": [
      "Extracting reference embeddings for infringement texts...\n"
     ]
    },
    {
     "name": "stderr",
     "output_type": "stream",
     "text": [
      "Processing references: 100%|██████████| 39/39 [00:00<00:00, 123.50it/s]\n"
     ]
    }
   ],
   "source": [
    "print(\"Extracting hidden states for non_infringement texts...\")\n",
    "X_non_infringement = extract_hidden_states(non_infringement_outputs, model, tokenizer)\n",
    "print(\"Extracting reference embeddings for non_infringement texts...\")\n",
    "reference_embeddings_non_infringement = extract_reference_embeddings(non_infringement_references, bert_model, bert_tokenizer)\n",
    "X_non_infringement_combined = np.hstack([X_non_infringement, reference_embeddings_non_infringement])\n",
    "\n",
    "print(\"Extracting hidden states for infringement texts...\")\n",
    "X_infringement = extract_hidden_states(infringement_outputs, model, tokenizer)\n",
    "print(\"Extracting reference embeddings for infringement texts...\")\n",
    "reference_embeddings_infringement = extract_reference_embeddings(infringement_references, bert_model, bert_tokenizer)\n",
    "X_infringement_combined = np.hstack([X_infringement, reference_embeddings_infringement])"
   ]
  },
  {
   "cell_type": "code",
   "execution_count": 20,
   "metadata": {},
   "outputs": [
    {
     "name": "stdout",
     "output_type": "stream",
     "text": [
      "Data successfully split into training and test sets.\n"
     ]
    }
   ],
   "source": [
    "split_index_non_infringement = int(0.8 * len(X_non_infringement_combined))\n",
    "X_non_infringement_train = X_non_infringement_combined[:split_index_non_infringement]\n",
    "X_non_infringement_test = X_non_infringement_combined[split_index_non_infringement:]\n",
    "y_non_infringement_train = y_non_infringement[:split_index_non_infringement]\n",
    "y_non_infringement_test = y_non_infringement[split_index_non_infringement:]\n",
    "\n",
    "split_index_infringement = int(0.8 * len(X_infringement_combined))\n",
    "X_infringement_train = X_infringement_combined[:split_index_infringement]\n",
    "X_infringement_test = X_infringement_combined[split_index_infringement:]\n",
    "y_infringement_train = y_infringement[:split_index_infringement]\n",
    "y_infringement_test = y_infringement[split_index_infringement:]\n",
    "\n",
    "X_train = np.vstack((X_non_infringement_train, X_infringement_train))\n",
    "X_test = np.vstack((X_non_infringement_test, X_infringement_test))\n",
    "y_train = np.concatenate((y_non_infringement_train, y_infringement_train))\n",
    "y_test = np.concatenate((y_non_infringement_test, y_infringement_test))\n",
    "\n",
    "print(\"Data successfully split into training and test sets.\")"
   ]
  },
  {
   "cell_type": "code",
   "execution_count": 21,
   "metadata": {},
   "outputs": [
    {
     "name": "stderr",
     "output_type": "stream",
     "text": [
      "Training Epochs:   0%|          | 9/2000 [00:00<01:09, 28.48it/s]"
     ]
    },
    {
     "name": "stdout",
     "output_type": "stream",
     "text": [
      "Epoch 10/2000, Loss: 5.1209\n",
      "Test Accuracy at Epoch 10: 63.16%\n",
      "Test F1-score at Epoch 10: 0.7619\n",
      "Classification Report at Epoch 10:\n",
      "                  precision    recall  f1-score   support\n",
      "\n",
      "    infringement       0.33      0.13      0.19        31\n",
      "non_infringement       0.67      0.88      0.76        64\n",
      "\n",
      "        accuracy                           0.63        95\n",
      "       macro avg       0.50      0.50      0.47        95\n",
      "    weighted avg       0.56      0.63      0.57        95\n",
      "\n",
      "New best model saved with F1-score 0.7619 at epoch 10\n",
      "Best Classification Report at Epoch 10:\n",
      "                  precision    recall  f1-score   support\n",
      "\n",
      "    infringement       0.33      0.13      0.19        31\n",
      "non_infringement       0.67      0.88      0.76        64\n",
      "\n",
      "        accuracy                           0.63        95\n",
      "       macro avg       0.50      0.50      0.47        95\n",
      "    weighted avg       0.56      0.63      0.57        95\n",
      "\n"
     ]
    },
    {
     "name": "stderr",
     "output_type": "stream",
     "text": [
      "Training Epochs:   1%|          | 19/2000 [00:01<02:51, 11.56it/s]/home/guangwei/miniconda3/envs/zdh/lib/python3.12/site-packages/sklearn/metrics/_classification.py:1531: UndefinedMetricWarning: Precision is ill-defined and being set to 0.0 in labels with no predicted samples. Use `zero_division` parameter to control this behavior.\n",
      "  _warn_prf(average, modifier, f\"{metric.capitalize()} is\", len(result))\n",
      "/home/guangwei/miniconda3/envs/zdh/lib/python3.12/site-packages/sklearn/metrics/_classification.py:1531: UndefinedMetricWarning: Precision is ill-defined and being set to 0.0 in labels with no predicted samples. Use `zero_division` parameter to control this behavior.\n",
      "  _warn_prf(average, modifier, f\"{metric.capitalize()} is\", len(result))\n",
      "/home/guangwei/miniconda3/envs/zdh/lib/python3.12/site-packages/sklearn/metrics/_classification.py:1531: UndefinedMetricWarning: Precision is ill-defined and being set to 0.0 in labels with no predicted samples. Use `zero_division` parameter to control this behavior.\n",
      "  _warn_prf(average, modifier, f\"{metric.capitalize()} is\", len(result))\n",
      "Training Epochs:   1%|          | 21/2000 [00:01<03:35,  9.17it/s]"
     ]
    },
    {
     "name": "stdout",
     "output_type": "stream",
     "text": [
      "Epoch 20/2000, Loss: 1.1655\n",
      "Test Accuracy at Epoch 20: 67.37%\n",
      "Test F1-score at Epoch 20: 0.8050\n",
      "Classification Report at Epoch 20:\n",
      "                  precision    recall  f1-score   support\n",
      "\n",
      "    infringement       0.00      0.00      0.00        31\n",
      "non_infringement       0.67      1.00      0.81        64\n",
      "\n",
      "        accuracy                           0.67        95\n",
      "       macro avg       0.34      0.50      0.40        95\n",
      "    weighted avg       0.45      0.67      0.54        95\n",
      "\n",
      "New best model saved with F1-score 0.8050 at epoch 20\n",
      "Best Classification Report at Epoch 20:\n",
      "                  precision    recall  f1-score   support\n",
      "\n",
      "    infringement       0.00      0.00      0.00        31\n",
      "non_infringement       0.67      1.00      0.81        64\n",
      "\n",
      "        accuracy                           0.67        95\n",
      "       macro avg       0.34      0.50      0.40        95\n",
      "    weighted avg       0.45      0.67      0.54        95\n",
      "\n"
     ]
    },
    {
     "name": "stderr",
     "output_type": "stream",
     "text": [
      "Training Epochs:   1%|▏         | 26/2000 [00:02<02:23, 13.76it/s]"
     ]
    },
    {
     "name": "stdout",
     "output_type": "stream",
     "text": [
      "Epoch 30/2000, Loss: 0.5777\n",
      "Test Accuracy at Epoch 30: 64.21%\n",
      "Test F1-score at Epoch 30: 0.7821\n",
      "Classification Report at Epoch 30:\n",
      "                  precision    recall  f1-score   support\n",
      "\n",
      "    infringement       0.00      0.00      0.00        31\n",
      "non_infringement       0.66      0.95      0.78        64\n",
      "\n",
      "        accuracy                           0.64        95\n",
      "       macro avg       0.33      0.48      0.39        95\n",
      "    weighted avg       0.45      0.64      0.53        95\n",
      "\n"
     ]
    },
    {
     "name": "stderr",
     "output_type": "stream",
     "text": [
      "Training Epochs:   2%|▏         | 41/2000 [00:02<01:23, 23.53it/s]"
     ]
    },
    {
     "name": "stdout",
     "output_type": "stream",
     "text": [
      "Epoch 40/2000, Loss: 0.4996\n",
      "Test Accuracy at Epoch 40: 63.16%\n",
      "Test F1-score at Epoch 40: 0.7742\n",
      "Classification Report at Epoch 40:\n",
      "                  precision    recall  f1-score   support\n",
      "\n",
      "    infringement       0.00      0.00      0.00        31\n",
      "non_infringement       0.66      0.94      0.77        64\n",
      "\n",
      "        accuracy                           0.63        95\n",
      "       macro avg       0.33      0.47      0.39        95\n",
      "    weighted avg       0.44      0.63      0.52        95\n",
      "\n"
     ]
    },
    {
     "name": "stderr",
     "output_type": "stream",
     "text": [
      "Training Epochs:   2%|▎         | 50/2000 [00:02<01:13, 26.44it/s]"
     ]
    },
    {
     "name": "stdout",
     "output_type": "stream",
     "text": [
      "Epoch 50/2000, Loss: 0.4257\n",
      "Test Accuracy at Epoch 50: 64.21%\n",
      "Test F1-score at Epoch 50: 0.7792\n",
      "Classification Report at Epoch 50:\n",
      "                  precision    recall  f1-score   support\n",
      "\n",
      "    infringement       0.20      0.03      0.06        31\n",
      "non_infringement       0.67      0.94      0.78        64\n",
      "\n",
      "        accuracy                           0.64        95\n",
      "       macro avg       0.43      0.48      0.42        95\n",
      "    weighted avg       0.51      0.64      0.54        95\n",
      "\n"
     ]
    },
    {
     "name": "stderr",
     "output_type": "stream",
     "text": [
      "Training Epochs:   3%|▎         | 64/2000 [00:03<01:27, 22.00it/s]"
     ]
    },
    {
     "name": "stdout",
     "output_type": "stream",
     "text": [
      "Epoch 60/2000, Loss: 0.3834\n",
      "Test Accuracy at Epoch 60: 60.00%\n",
      "Test F1-score at Epoch 60: 0.7432\n",
      "Classification Report at Epoch 60:\n",
      "                  precision    recall  f1-score   support\n",
      "\n",
      "    infringement       0.18      0.06      0.10        31\n",
      "non_infringement       0.65      0.86      0.74        64\n",
      "\n",
      "        accuracy                           0.60        95\n",
      "       macro avg       0.42      0.46      0.42        95\n",
      "    weighted avg       0.50      0.60      0.53        95\n",
      "\n"
     ]
    },
    {
     "name": "stderr",
     "output_type": "stream",
     "text": [
      "Training Epochs:   4%|▎         | 72/2000 [00:03<01:11, 27.02it/s]"
     ]
    },
    {
     "name": "stdout",
     "output_type": "stream",
     "text": [
      "Epoch 70/2000, Loss: 0.3417\n",
      "Test Accuracy at Epoch 70: 60.00%\n",
      "Test F1-score at Epoch 70: 0.7432\n",
      "Classification Report at Epoch 70:\n",
      "                  precision    recall  f1-score   support\n",
      "\n",
      "    infringement       0.18      0.06      0.10        31\n",
      "non_infringement       0.65      0.86      0.74        64\n",
      "\n",
      "        accuracy                           0.60        95\n",
      "       macro avg       0.42      0.46      0.42        95\n",
      "    weighted avg       0.50      0.60      0.53        95\n",
      "\n"
     ]
    },
    {
     "name": "stderr",
     "output_type": "stream",
     "text": [
      "Training Epochs:   4%|▍         | 81/2000 [00:04<01:22, 23.22it/s]"
     ]
    },
    {
     "name": "stdout",
     "output_type": "stream",
     "text": [
      "Epoch 80/2000, Loss: 0.3100\n",
      "Test Accuracy at Epoch 80: 60.00%\n",
      "Test F1-score at Epoch 80: 0.7432\n",
      "Classification Report at Epoch 80:\n",
      "                  precision    recall  f1-score   support\n",
      "\n",
      "    infringement       0.18      0.06      0.10        31\n",
      "non_infringement       0.65      0.86      0.74        64\n",
      "\n",
      "        accuracy                           0.60        95\n",
      "       macro avg       0.42      0.46      0.42        95\n",
      "    weighted avg       0.50      0.60      0.53        95\n",
      "\n"
     ]
    },
    {
     "name": "stderr",
     "output_type": "stream",
     "text": [
      "Training Epochs:   5%|▌         | 101/2000 [00:04<00:43, 43.81it/s]"
     ]
    },
    {
     "name": "stdout",
     "output_type": "stream",
     "text": [
      "Epoch 90/2000, Loss: 0.2817\n",
      "Test Accuracy at Epoch 90: 60.00%\n",
      "Test F1-score at Epoch 90: 0.7397\n",
      "Classification Report at Epoch 90:\n",
      "                  precision    recall  f1-score   support\n",
      "\n",
      "    infringement       0.23      0.10      0.14        31\n",
      "non_infringement       0.66      0.84      0.74        64\n",
      "\n",
      "        accuracy                           0.60        95\n",
      "       macro avg       0.44      0.47      0.44        95\n",
      "    weighted avg       0.52      0.60      0.54        95\n",
      "\n",
      "Epoch 100/2000, Loss: 0.2538\n",
      "Test Accuracy at Epoch 100: 61.05%\n",
      "Test F1-score at Epoch 100: 0.7413\n",
      "Classification Report at Epoch 100:\n",
      "                  precision    recall  f1-score   support\n",
      "\n",
      "    infringement       0.31      0.16      0.21        31\n",
      "non_infringement       0.67      0.83      0.74        64\n",
      "\n",
      "        accuracy                           0.61        95\n",
      "       macro avg       0.49      0.49      0.48        95\n",
      "    weighted avg       0.55      0.61      0.57        95\n",
      "\n"
     ]
    },
    {
     "name": "stderr",
     "output_type": "stream",
     "text": [
      "Training Epochs:   6%|▌         | 115/2000 [00:04<00:40, 46.16it/s]"
     ]
    },
    {
     "name": "stdout",
     "output_type": "stream",
     "text": [
      "Epoch 110/2000, Loss: 0.2250\n",
      "Test Accuracy at Epoch 110: 61.05%\n",
      "Test F1-score at Epoch 110: 0.7376\n",
      "Classification Report at Epoch 110:\n",
      "                  precision    recall  f1-score   support\n",
      "\n",
      "    infringement       0.33      0.19      0.24        31\n",
      "non_infringement       0.68      0.81      0.74        64\n",
      "\n",
      "        accuracy                           0.61        95\n",
      "       macro avg       0.50      0.50      0.49        95\n",
      "    weighted avg       0.56      0.61      0.58        95\n",
      "\n"
     ]
    },
    {
     "name": "stderr",
     "output_type": "stream",
     "text": [
      "Training Epochs:   6%|▌         | 121/2000 [00:05<00:45, 41.60it/s]"
     ]
    },
    {
     "name": "stdout",
     "output_type": "stream",
     "text": [
      "Epoch 120/2000, Loss: 0.1958\n",
      "Test Accuracy at Epoch 120: 54.74%\n",
      "Test F1-score at Epoch 120: 0.6767\n",
      "Classification Report at Epoch 120:\n",
      "                  precision    recall  f1-score   support\n",
      "\n",
      "    infringement       0.27      0.23      0.25        31\n",
      "non_infringement       0.65      0.70      0.68        64\n",
      "\n",
      "        accuracy                           0.55        95\n",
      "       macro avg       0.46      0.46      0.46        95\n",
      "    weighted avg       0.53      0.55      0.54        95\n",
      "\n"
     ]
    },
    {
     "name": "stderr",
     "output_type": "stream",
     "text": [
      "Training Epochs:   7%|▋         | 131/2000 [00:05<00:50, 36.82it/s]"
     ]
    },
    {
     "name": "stdout",
     "output_type": "stream",
     "text": [
      "Epoch 130/2000, Loss: 0.1669\n",
      "Test Accuracy at Epoch 130: 54.74%\n",
      "Test F1-score at Epoch 130: 0.6767\n",
      "Classification Report at Epoch 130:\n",
      "                  precision    recall  f1-score   support\n",
      "\n",
      "    infringement       0.27      0.23      0.25        31\n",
      "non_infringement       0.65      0.70      0.68        64\n",
      "\n",
      "        accuracy                           0.55        95\n",
      "       macro avg       0.46      0.46      0.46        95\n",
      "    weighted avg       0.53      0.55      0.54        95\n",
      "\n"
     ]
    },
    {
     "name": "stderr",
     "output_type": "stream",
     "text": [
      "Training Epochs:   7%|▋         | 147/2000 [00:05<00:52, 35.63it/s]"
     ]
    },
    {
     "name": "stdout",
     "output_type": "stream",
     "text": [
      "Epoch 140/2000, Loss: 0.1382\n",
      "Test Accuracy at Epoch 140: 54.74%\n",
      "Test F1-score at Epoch 140: 0.6718\n",
      "Classification Report at Epoch 140:\n",
      "                  precision    recall  f1-score   support\n",
      "\n",
      "    infringement       0.29      0.26      0.27        31\n",
      "non_infringement       0.66      0.69      0.67        64\n",
      "\n",
      "        accuracy                           0.55        95\n",
      "       macro avg       0.47      0.47      0.47        95\n",
      "    weighted avg       0.54      0.55      0.54        95\n",
      "\n",
      "Epoch 150/2000, Loss: 0.1126\n",
      "Test Accuracy at Epoch 150: 54.74%\n",
      "Test F1-score at Epoch 150: 0.6667\n",
      "Classification Report at Epoch 150:\n",
      "                  precision    recall  f1-score   support\n",
      "\n",
      "    infringement       0.30      0.29      0.30        31\n",
      "non_infringement       0.66      0.67      0.67        64\n",
      "\n",
      "        accuracy                           0.55        95\n",
      "       macro avg       0.48      0.48      0.48        95\n",
      "    weighted avg       0.54      0.55      0.55        95\n",
      "\n"
     ]
    },
    {
     "name": "stderr",
     "output_type": "stream",
     "text": [
      "Training Epochs:   9%|▊         | 172/2000 [00:07<01:01, 29.86it/s]"
     ]
    },
    {
     "name": "stdout",
     "output_type": "stream",
     "text": [
      "Epoch 160/2000, Loss: 0.0909\n",
      "Test Accuracy at Epoch 160: 53.68%\n",
      "Test F1-score at Epoch 160: 0.6562\n",
      "Classification Report at Epoch 160:\n",
      "                  precision    recall  f1-score   support\n",
      "\n",
      "    infringement       0.29      0.29      0.29        31\n",
      "non_infringement       0.66      0.66      0.66        64\n",
      "\n",
      "        accuracy                           0.54        95\n",
      "       macro avg       0.47      0.47      0.47        95\n",
      "    weighted avg       0.54      0.54      0.54        95\n",
      "\n",
      "Epoch 170/2000, Loss: 0.0730\n",
      "Test Accuracy at Epoch 170: 53.68%\n",
      "Test F1-score at Epoch 170: 0.6562\n",
      "Classification Report at Epoch 170:\n",
      "                  precision    recall  f1-score   support\n",
      "\n",
      "    infringement       0.29      0.29      0.29        31\n",
      "non_infringement       0.66      0.66      0.66        64\n",
      "\n",
      "        accuracy                           0.54        95\n",
      "       macro avg       0.47      0.47      0.47        95\n",
      "    weighted avg       0.54      0.54      0.54        95\n",
      "\n"
     ]
    },
    {
     "name": "stderr",
     "output_type": "stream",
     "text": [
      "Training Epochs:   9%|▉         | 183/2000 [00:07<00:48, 37.54it/s]"
     ]
    },
    {
     "name": "stdout",
     "output_type": "stream",
     "text": [
      "Epoch 180/2000, Loss: 0.0585\n",
      "Test Accuracy at Epoch 180: 51.58%\n",
      "Test F1-score at Epoch 180: 0.6406\n",
      "Classification Report at Epoch 180:\n",
      "                  precision    recall  f1-score   support\n",
      "\n",
      "    infringement       0.26      0.26      0.26        31\n",
      "non_infringement       0.64      0.64      0.64        64\n",
      "\n",
      "        accuracy                           0.52        95\n",
      "       macro avg       0.45      0.45      0.45        95\n",
      "    weighted avg       0.52      0.52      0.52        95\n",
      "\n"
     ]
    },
    {
     "name": "stderr",
     "output_type": "stream",
     "text": [
      "Training Epochs:  10%|▉         | 190/2000 [00:07<00:53, 34.07it/s]"
     ]
    },
    {
     "name": "stdout",
     "output_type": "stream",
     "text": [
      "Epoch 190/2000, Loss: 0.0470\n",
      "Test Accuracy at Epoch 190: 50.53%\n",
      "Test F1-score at Epoch 190: 0.6357\n",
      "Classification Report at Epoch 190:\n",
      "                  precision    recall  f1-score   support\n",
      "\n",
      "    infringement       0.23      0.23      0.23        31\n",
      "non_infringement       0.63      0.64      0.64        64\n",
      "\n",
      "        accuracy                           0.51        95\n",
      "       macro avg       0.43      0.43      0.43        95\n",
      "    weighted avg       0.50      0.51      0.50        95\n",
      "\n"
     ]
    },
    {
     "name": "stderr",
     "output_type": "stream",
     "text": [
      "Training Epochs:  10%|█         | 200/2000 [00:08<00:56, 31.60it/s]"
     ]
    },
    {
     "name": "stdout",
     "output_type": "stream",
     "text": [
      "Epoch 200/2000, Loss: 0.0380\n",
      "Test Accuracy at Epoch 200: 50.53%\n",
      "Test F1-score at Epoch 200: 0.6357\n",
      "Classification Report at Epoch 200:\n",
      "                  precision    recall  f1-score   support\n",
      "\n",
      "    infringement       0.23      0.23      0.23        31\n",
      "non_infringement       0.63      0.64      0.64        64\n",
      "\n",
      "        accuracy                           0.51        95\n",
      "       macro avg       0.43      0.43      0.43        95\n",
      "    weighted avg       0.50      0.51      0.50        95\n",
      "\n"
     ]
    },
    {
     "name": "stderr",
     "output_type": "stream",
     "text": [
      "Training Epochs:  11%|█         | 218/2000 [00:09<01:04, 27.73it/s]"
     ]
    },
    {
     "name": "stdout",
     "output_type": "stream",
     "text": [
      "Epoch 210/2000, Loss: 0.0309\n",
      "Test Accuracy at Epoch 210: 50.53%\n",
      "Test F1-score at Epoch 210: 0.6299\n",
      "Classification Report at Epoch 210:\n",
      "                  precision    recall  f1-score   support\n",
      "\n",
      "    infringement       0.25      0.26      0.25        31\n",
      "non_infringement       0.63      0.62      0.63        64\n",
      "\n",
      "        accuracy                           0.51        95\n",
      "       macro avg       0.44      0.44      0.44        95\n",
      "    weighted avg       0.51      0.51      0.51        95\n",
      "\n",
      "Epoch 220/2000, Loss: 0.0254\n",
      "Test Accuracy at Epoch 220: 50.53%\n",
      "Test F1-score at Epoch 220: 0.6299\n",
      "Classification Report at Epoch 220:\n",
      "                  precision    recall  f1-score   support\n",
      "\n",
      "    infringement       0.25      0.26      0.25        31\n",
      "non_infringement       0.63      0.62      0.63        64\n",
      "\n",
      "        accuracy                           0.51        95\n",
      "       macro avg       0.44      0.44      0.44        95\n",
      "    weighted avg       0.51      0.51      0.51        95\n",
      "\n"
     ]
    },
    {
     "name": "stderr",
     "output_type": "stream",
     "text": [
      "Training Epochs:  12%|█▏        | 239/2000 [00:09<00:38, 45.19it/s]"
     ]
    },
    {
     "name": "stdout",
     "output_type": "stream",
     "text": [
      "Epoch 230/2000, Loss: 0.0212\n",
      "Test Accuracy at Epoch 230: 50.53%\n",
      "Test F1-score at Epoch 230: 0.6299\n",
      "Classification Report at Epoch 230:\n",
      "                  precision    recall  f1-score   support\n",
      "\n",
      "    infringement       0.25      0.26      0.25        31\n",
      "non_infringement       0.63      0.62      0.63        64\n",
      "\n",
      "        accuracy                           0.51        95\n",
      "       macro avg       0.44      0.44      0.44        95\n",
      "    weighted avg       0.51      0.51      0.51        95\n",
      "\n",
      "Epoch 240/2000, Loss: 0.0178\n",
      "Test Accuracy at Epoch 240: 50.53%\n",
      "Test F1-score at Epoch 240: 0.6299\n",
      "Classification Report at Epoch 240:\n",
      "                  precision    recall  f1-score   support\n",
      "\n",
      "    infringement       0.25      0.26      0.25        31\n",
      "non_infringement       0.63      0.62      0.63        64\n",
      "\n",
      "        accuracy                           0.51        95\n",
      "       macro avg       0.44      0.44      0.44        95\n",
      "    weighted avg       0.51      0.51      0.51        95\n",
      "\n"
     ]
    },
    {
     "name": "stderr",
     "output_type": "stream",
     "text": [
      "Training Epochs:  12%|█▏        | 246/2000 [00:09<00:34, 50.21it/s]"
     ]
    },
    {
     "name": "stdout",
     "output_type": "stream",
     "text": [
      "Epoch 250/2000, Loss: 0.0152\n",
      "Test Accuracy at Epoch 250: 50.53%\n",
      "Test F1-score at Epoch 250: 0.6299\n",
      "Classification Report at Epoch 250:\n",
      "                  precision    recall  f1-score   support\n",
      "\n",
      "    infringement       0.25      0.26      0.25        31\n",
      "non_infringement       0.63      0.62      0.63        64\n",
      "\n",
      "        accuracy                           0.51        95\n",
      "       macro avg       0.44      0.44      0.44        95\n",
      "    weighted avg       0.51      0.51      0.51        95\n",
      "\n"
     ]
    },
    {
     "name": "stderr",
     "output_type": "stream",
     "text": [
      "Training Epochs:  13%|█▎        | 266/2000 [00:12<02:27, 11.73it/s]"
     ]
    },
    {
     "name": "stdout",
     "output_type": "stream",
     "text": [
      "Epoch 260/2000, Loss: 0.0131\n",
      "Test Accuracy at Epoch 260: 50.53%\n",
      "Test F1-score at Epoch 260: 0.6299\n",
      "Classification Report at Epoch 260:\n",
      "                  precision    recall  f1-score   support\n",
      "\n",
      "    infringement       0.25      0.26      0.25        31\n",
      "non_infringement       0.63      0.62      0.63        64\n",
      "\n",
      "        accuracy                           0.51        95\n",
      "       macro avg       0.44      0.44      0.44        95\n",
      "    weighted avg       0.51      0.51      0.51        95\n",
      "\n",
      "Epoch 270/2000, Loss: 0.0114\n",
      "Test Accuracy at Epoch 270: 50.53%\n",
      "Test F1-score at Epoch 270: 0.6299\n",
      "Classification Report at Epoch 270:\n",
      "                  precision    recall  f1-score   support\n",
      "\n",
      "    infringement       0.25      0.26      0.25        31\n",
      "non_infringement       0.63      0.62      0.63        64\n",
      "\n",
      "        accuracy                           0.51        95\n",
      "       macro avg       0.44      0.44      0.44        95\n",
      "    weighted avg       0.51      0.51      0.51        95\n",
      "\n"
     ]
    },
    {
     "name": "stderr",
     "output_type": "stream",
     "text": [
      "Training Epochs:  15%|█▍        | 292/2000 [00:12<00:57, 29.60it/s]"
     ]
    },
    {
     "name": "stdout",
     "output_type": "stream",
     "text": [
      "Epoch 280/2000, Loss: 0.0101\n",
      "Test Accuracy at Epoch 280: 51.58%\n",
      "Test F1-score at Epoch 280: 0.6349\n",
      "Classification Report at Epoch 280:\n",
      "                  precision    recall  f1-score   support\n",
      "\n",
      "    infringement       0.27      0.29      0.28        31\n",
      "non_infringement       0.65      0.62      0.63        64\n",
      "\n",
      "        accuracy                           0.52        95\n",
      "       macro avg       0.46      0.46      0.46        95\n",
      "    weighted avg       0.52      0.52      0.52        95\n",
      "\n",
      "Epoch 290/2000, Loss: 0.0089\n",
      "Test Accuracy at Epoch 290: 50.53%\n",
      "Test F1-score at Epoch 290: 0.6240\n",
      "Classification Report at Epoch 290:\n",
      "                  precision    recall  f1-score   support\n",
      "\n",
      "    infringement       0.26      0.29      0.28        31\n",
      "non_infringement       0.64      0.61      0.62        64\n",
      "\n",
      "        accuracy                           0.51        95\n",
      "       macro avg       0.45      0.45      0.45        95\n",
      "    weighted avg       0.52      0.51      0.51        95\n",
      "\n"
     ]
    },
    {
     "name": "stderr",
     "output_type": "stream",
     "text": [
      "Training Epochs:  16%|█▌        | 310/2000 [00:12<00:38, 44.10it/s]"
     ]
    },
    {
     "name": "stdout",
     "output_type": "stream",
     "text": [
      "Epoch 300/2000, Loss: 0.0080\n",
      "Test Accuracy at Epoch 300: 50.53%\n",
      "Test F1-score at Epoch 300: 0.6240\n",
      "Classification Report at Epoch 300:\n",
      "                  precision    recall  f1-score   support\n",
      "\n",
      "    infringement       0.26      0.29      0.28        31\n",
      "non_infringement       0.64      0.61      0.62        64\n",
      "\n",
      "        accuracy                           0.51        95\n",
      "       macro avg       0.45      0.45      0.45        95\n",
      "    weighted avg       0.52      0.51      0.51        95\n",
      "\n",
      "Epoch 310/2000, Loss: 0.0072\n",
      "Test Accuracy at Epoch 310: 50.53%\n",
      "Test F1-score at Epoch 310: 0.6240\n",
      "Classification Report at Epoch 310:\n",
      "                  precision    recall  f1-score   support\n",
      "\n",
      "    infringement       0.26      0.29      0.28        31\n",
      "non_infringement       0.64      0.61      0.62        64\n",
      "\n",
      "        accuracy                           0.51        95\n",
      "       macro avg       0.45      0.45      0.45        95\n",
      "    weighted avg       0.52      0.51      0.51        95\n",
      "\n"
     ]
    },
    {
     "name": "stderr",
     "output_type": "stream",
     "text": [
      "Training Epochs:  16%|█▌        | 318/2000 [00:12<00:34, 49.43it/s]"
     ]
    },
    {
     "name": "stdout",
     "output_type": "stream",
     "text": [
      "Epoch 320/2000, Loss: 0.0065\n",
      "Test Accuracy at Epoch 320: 50.53%\n",
      "Test F1-score at Epoch 320: 0.6240\n",
      "Classification Report at Epoch 320:\n",
      "                  precision    recall  f1-score   support\n",
      "\n",
      "    infringement       0.26      0.29      0.28        31\n",
      "non_infringement       0.64      0.61      0.62        64\n",
      "\n",
      "        accuracy                           0.51        95\n",
      "       macro avg       0.45      0.45      0.45        95\n",
      "    weighted avg       0.52      0.51      0.51        95\n",
      "\n"
     ]
    },
    {
     "name": "stderr",
     "output_type": "stream",
     "text": [
      "Training Epochs:  17%|█▋        | 341/2000 [00:13<00:33, 49.51it/s]"
     ]
    },
    {
     "name": "stdout",
     "output_type": "stream",
     "text": [
      "Epoch 330/2000, Loss: 0.0059\n",
      "Test Accuracy at Epoch 330: 50.53%\n",
      "Test F1-score at Epoch 330: 0.6240\n",
      "Classification Report at Epoch 330:\n",
      "                  precision    recall  f1-score   support\n",
      "\n",
      "    infringement       0.26      0.29      0.28        31\n",
      "non_infringement       0.64      0.61      0.62        64\n",
      "\n",
      "        accuracy                           0.51        95\n",
      "       macro avg       0.45      0.45      0.45        95\n",
      "    weighted avg       0.52      0.51      0.51        95\n",
      "\n",
      "Epoch 340/2000, Loss: 0.0054\n",
      "Test Accuracy at Epoch 340: 50.53%\n",
      "Test F1-score at Epoch 340: 0.6240\n",
      "Classification Report at Epoch 340:\n",
      "                  precision    recall  f1-score   support\n",
      "\n",
      "    infringement       0.26      0.29      0.28        31\n",
      "non_infringement       0.64      0.61      0.62        64\n",
      "\n",
      "        accuracy                           0.51        95\n",
      "       macro avg       0.45      0.45      0.45        95\n",
      "    weighted avg       0.52      0.51      0.51        95\n",
      "\n"
     ]
    },
    {
     "name": "stderr",
     "output_type": "stream",
     "text": [
      "Training Epochs:  18%|█▊        | 358/2000 [00:13<00:26, 60.87it/s]"
     ]
    },
    {
     "name": "stdout",
     "output_type": "stream",
     "text": [
      "Epoch 350/2000, Loss: 0.0049\n",
      "Test Accuracy at Epoch 350: 50.53%\n",
      "Test F1-score at Epoch 350: 0.6240\n",
      "Classification Report at Epoch 350:\n",
      "                  precision    recall  f1-score   support\n",
      "\n",
      "    infringement       0.26      0.29      0.28        31\n",
      "non_infringement       0.64      0.61      0.62        64\n",
      "\n",
      "        accuracy                           0.51        95\n",
      "       macro avg       0.45      0.45      0.45        95\n",
      "    weighted avg       0.52      0.51      0.51        95\n",
      "\n",
      "Epoch 360/2000, Loss: 0.0045\n",
      "Test Accuracy at Epoch 360: 50.53%\n",
      "Test F1-score at Epoch 360: 0.6240\n",
      "Classification Report at Epoch 360:\n",
      "                  precision    recall  f1-score   support\n",
      "\n",
      "    infringement       0.26      0.29      0.28        31\n",
      "non_infringement       0.64      0.61      0.62        64\n",
      "\n",
      "        accuracy                           0.51        95\n",
      "       macro avg       0.45      0.45      0.45        95\n",
      "    weighted avg       0.52      0.51      0.51        95\n",
      "\n"
     ]
    },
    {
     "name": "stderr",
     "output_type": "stream",
     "text": [
      "Training Epochs:  19%|█▉        | 381/2000 [00:14<00:27, 58.97it/s]"
     ]
    },
    {
     "name": "stdout",
     "output_type": "stream",
     "text": [
      "Epoch 370/2000, Loss: 0.0042\n",
      "Test Accuracy at Epoch 370: 50.53%\n",
      "Test F1-score at Epoch 370: 0.6240\n",
      "Classification Report at Epoch 370:\n",
      "                  precision    recall  f1-score   support\n",
      "\n",
      "    infringement       0.26      0.29      0.28        31\n",
      "non_infringement       0.64      0.61      0.62        64\n",
      "\n",
      "        accuracy                           0.51        95\n",
      "       macro avg       0.45      0.45      0.45        95\n",
      "    weighted avg       0.52      0.51      0.51        95\n",
      "\n",
      "Epoch 380/2000, Loss: 0.0039\n",
      "Test Accuracy at Epoch 380: 50.53%\n",
      "Test F1-score at Epoch 380: 0.6240\n",
      "Classification Report at Epoch 380:\n",
      "                  precision    recall  f1-score   support\n",
      "\n",
      "    infringement       0.26      0.29      0.28        31\n",
      "non_infringement       0.64      0.61      0.62        64\n",
      "\n",
      "        accuracy                           0.51        95\n",
      "       macro avg       0.45      0.45      0.45        95\n",
      "    weighted avg       0.52      0.51      0.51        95\n",
      "\n"
     ]
    },
    {
     "name": "stderr",
     "output_type": "stream",
     "text": [
      "Training Epochs:  19%|█▉        | 388/2000 [00:14<00:42, 38.13it/s]"
     ]
    },
    {
     "name": "stdout",
     "output_type": "stream",
     "text": [
      "Epoch 390/2000, Loss: 0.0036\n",
      "Test Accuracy at Epoch 390: 50.53%\n",
      "Test F1-score at Epoch 390: 0.6240\n",
      "Classification Report at Epoch 390:\n",
      "                  precision    recall  f1-score   support\n",
      "\n",
      "    infringement       0.26      0.29      0.28        31\n",
      "non_infringement       0.64      0.61      0.62        64\n",
      "\n",
      "        accuracy                           0.51        95\n",
      "       macro avg       0.45      0.45      0.45        95\n",
      "    weighted avg       0.52      0.51      0.51        95\n",
      "\n"
     ]
    },
    {
     "name": "stderr",
     "output_type": "stream",
     "text": [
      "Training Epochs:  20%|██        | 409/2000 [00:15<00:41, 38.03it/s]"
     ]
    },
    {
     "name": "stdout",
     "output_type": "stream",
     "text": [
      "Epoch 400/2000, Loss: 0.0034\n",
      "Test Accuracy at Epoch 400: 50.53%\n",
      "Test F1-score at Epoch 400: 0.6240\n",
      "Classification Report at Epoch 400:\n",
      "                  precision    recall  f1-score   support\n",
      "\n",
      "    infringement       0.26      0.29      0.28        31\n",
      "non_infringement       0.64      0.61      0.62        64\n",
      "\n",
      "        accuracy                           0.51        95\n",
      "       macro avg       0.45      0.45      0.45        95\n",
      "    weighted avg       0.52      0.51      0.51        95\n",
      "\n",
      "Epoch 410/2000, Loss: 0.0031\n",
      "Test Accuracy at Epoch 410: 50.53%\n",
      "Test F1-score at Epoch 410: 0.6240\n",
      "Classification Report at Epoch 410:\n",
      "                  precision    recall  f1-score   support\n",
      "\n",
      "    infringement       0.26      0.29      0.28        31\n",
      "non_infringement       0.64      0.61      0.62        64\n",
      "\n",
      "        accuracy                           0.51        95\n",
      "       macro avg       0.45      0.45      0.45        95\n",
      "    weighted avg       0.52      0.51      0.51        95\n",
      "\n"
     ]
    },
    {
     "name": "stderr",
     "output_type": "stream",
     "text": [
      "Training Epochs:  22%|██▏       | 431/2000 [00:15<00:29, 53.15it/s]"
     ]
    },
    {
     "name": "stdout",
     "output_type": "stream",
     "text": [
      "Epoch 420/2000, Loss: 0.0029\n",
      "Test Accuracy at Epoch 420: 50.53%\n",
      "Test F1-score at Epoch 420: 0.6240\n",
      "Classification Report at Epoch 420:\n",
      "                  precision    recall  f1-score   support\n",
      "\n",
      "    infringement       0.26      0.29      0.28        31\n",
      "non_infringement       0.64      0.61      0.62        64\n",
      "\n",
      "        accuracy                           0.51        95\n",
      "       macro avg       0.45      0.45      0.45        95\n",
      "    weighted avg       0.52      0.51      0.51        95\n",
      "\n",
      "Epoch 430/2000, Loss: 0.0028\n",
      "Test Accuracy at Epoch 430: 50.53%\n",
      "Test F1-score at Epoch 430: 0.6240\n",
      "Classification Report at Epoch 430:\n",
      "                  precision    recall  f1-score   support\n",
      "\n",
      "    infringement       0.26      0.29      0.28        31\n",
      "non_infringement       0.64      0.61      0.62        64\n",
      "\n",
      "        accuracy                           0.51        95\n",
      "       macro avg       0.45      0.45      0.45        95\n",
      "    weighted avg       0.52      0.51      0.51        95\n",
      "\n"
     ]
    },
    {
     "name": "stderr",
     "output_type": "stream",
     "text": [
      "Training Epochs:  23%|██▎       | 453/2000 [00:15<00:25, 60.53it/s]"
     ]
    },
    {
     "name": "stdout",
     "output_type": "stream",
     "text": [
      "Epoch 440/2000, Loss: 0.0026\n",
      "Test Accuracy at Epoch 440: 50.53%\n",
      "Test F1-score at Epoch 440: 0.6240\n",
      "Classification Report at Epoch 440:\n",
      "                  precision    recall  f1-score   support\n",
      "\n",
      "    infringement       0.26      0.29      0.28        31\n",
      "non_infringement       0.64      0.61      0.62        64\n",
      "\n",
      "        accuracy                           0.51        95\n",
      "       macro avg       0.45      0.45      0.45        95\n",
      "    weighted avg       0.52      0.51      0.51        95\n",
      "\n",
      "Epoch 450/2000, Loss: 0.0024\n",
      "Test Accuracy at Epoch 450: 50.53%\n",
      "Test F1-score at Epoch 450: 0.6240\n",
      "Classification Report at Epoch 450:\n",
      "                  precision    recall  f1-score   support\n",
      "\n",
      "    infringement       0.26      0.29      0.28        31\n",
      "non_infringement       0.64      0.61      0.62        64\n",
      "\n",
      "        accuracy                           0.51        95\n",
      "       macro avg       0.45      0.45      0.45        95\n",
      "    weighted avg       0.52      0.51      0.51        95\n",
      "\n"
     ]
    },
    {
     "name": "stderr",
     "output_type": "stream",
     "text": [
      "Training Epochs:  23%|██▎       | 460/2000 [00:15<00:24, 63.00it/s]"
     ]
    },
    {
     "name": "stdout",
     "output_type": "stream",
     "text": [
      "Epoch 460/2000, Loss: 0.0023\n",
      "Test Accuracy at Epoch 460: 50.53%\n",
      "Test F1-score at Epoch 460: 0.6240\n",
      "Classification Report at Epoch 460:\n",
      "                  precision    recall  f1-score   support\n",
      "\n",
      "    infringement       0.26      0.29      0.28        31\n",
      "non_infringement       0.64      0.61      0.62        64\n",
      "\n",
      "        accuracy                           0.51        95\n",
      "       macro avg       0.45      0.45      0.45        95\n",
      "    weighted avg       0.52      0.51      0.51        95\n",
      "\n"
     ]
    },
    {
     "name": "stderr",
     "output_type": "stream",
     "text": [
      "Training Epochs:  24%|██▍       | 481/2000 [00:16<00:27, 54.31it/s]"
     ]
    },
    {
     "name": "stdout",
     "output_type": "stream",
     "text": [
      "Epoch 470/2000, Loss: 0.0022\n",
      "Test Accuracy at Epoch 470: 50.53%\n",
      "Test F1-score at Epoch 470: 0.6240\n",
      "Classification Report at Epoch 470:\n",
      "                  precision    recall  f1-score   support\n",
      "\n",
      "    infringement       0.26      0.29      0.28        31\n",
      "non_infringement       0.64      0.61      0.62        64\n",
      "\n",
      "        accuracy                           0.51        95\n",
      "       macro avg       0.45      0.45      0.45        95\n",
      "    weighted avg       0.52      0.51      0.51        95\n",
      "\n",
      "Epoch 480/2000, Loss: 0.0021\n",
      "Test Accuracy at Epoch 480: 50.53%\n",
      "Test F1-score at Epoch 480: 0.6240\n",
      "Classification Report at Epoch 480:\n",
      "                  precision    recall  f1-score   support\n",
      "\n",
      "    infringement       0.26      0.29      0.28        31\n",
      "non_infringement       0.64      0.61      0.62        64\n",
      "\n",
      "        accuracy                           0.51        95\n",
      "       macro avg       0.45      0.45      0.45        95\n",
      "    weighted avg       0.52      0.51      0.51        95\n",
      "\n"
     ]
    },
    {
     "name": "stderr",
     "output_type": "stream",
     "text": [
      "Training Epochs:  25%|██▍       | 497/2000 [00:16<00:23, 63.62it/s]"
     ]
    },
    {
     "name": "stdout",
     "output_type": "stream",
     "text": [
      "Epoch 490/2000, Loss: 0.0020\n",
      "Test Accuracy at Epoch 490: 50.53%\n",
      "Test F1-score at Epoch 490: 0.6240\n",
      "Classification Report at Epoch 490:\n",
      "                  precision    recall  f1-score   support\n",
      "\n",
      "    infringement       0.26      0.29      0.28        31\n",
      "non_infringement       0.64      0.61      0.62        64\n",
      "\n",
      "        accuracy                           0.51        95\n",
      "       macro avg       0.45      0.45      0.45        95\n",
      "    weighted avg       0.52      0.51      0.51        95\n",
      "\n",
      "Epoch 500/2000, Loss: 0.0019\n",
      "Test Accuracy at Epoch 500: 50.53%\n",
      "Test F1-score at Epoch 500: 0.6240\n",
      "Classification Report at Epoch 500:\n",
      "                  precision    recall  f1-score   support\n",
      "\n",
      "    infringement       0.26      0.29      0.28        31\n",
      "non_infringement       0.64      0.61      0.62        64\n",
      "\n",
      "        accuracy                           0.51        95\n",
      "       macro avg       0.45      0.45      0.45        95\n",
      "    weighted avg       0.52      0.51      0.51        95\n",
      "\n"
     ]
    },
    {
     "name": "stderr",
     "output_type": "stream",
     "text": [
      "Training Epochs:  26%|██▌       | 518/2000 [00:16<00:22, 65.51it/s]"
     ]
    },
    {
     "name": "stdout",
     "output_type": "stream",
     "text": [
      "Epoch 510/2000, Loss: 0.0018\n",
      "Test Accuracy at Epoch 510: 50.53%\n",
      "Test F1-score at Epoch 510: 0.6240\n",
      "Classification Report at Epoch 510:\n",
      "                  precision    recall  f1-score   support\n",
      "\n",
      "    infringement       0.26      0.29      0.28        31\n",
      "non_infringement       0.64      0.61      0.62        64\n",
      "\n",
      "        accuracy                           0.51        95\n",
      "       macro avg       0.45      0.45      0.45        95\n",
      "    weighted avg       0.52      0.51      0.51        95\n",
      "\n",
      "Epoch 520/2000, Loss: 0.0017\n",
      "Test Accuracy at Epoch 520: 50.53%\n",
      "Test F1-score at Epoch 520: 0.6240\n",
      "Classification Report at Epoch 520:\n",
      "                  precision    recall  f1-score   support\n",
      "\n",
      "    infringement       0.26      0.29      0.28        31\n",
      "non_infringement       0.64      0.61      0.62        64\n",
      "\n",
      "        accuracy                           0.51        95\n",
      "       macro avg       0.45      0.45      0.45        95\n",
      "    weighted avg       0.52      0.51      0.51        95\n",
      "\n"
     ]
    },
    {
     "name": "stderr",
     "output_type": "stream",
     "text": [
      "Training Epochs:  27%|██▋       | 534/2000 [00:17<00:24, 59.82it/s]"
     ]
    },
    {
     "name": "stdout",
     "output_type": "stream",
     "text": [
      "Epoch 530/2000, Loss: 0.0016\n",
      "Test Accuracy at Epoch 530: 50.53%\n",
      "Test F1-score at Epoch 530: 0.6240\n",
      "Classification Report at Epoch 530:\n",
      "                  precision    recall  f1-score   support\n",
      "\n",
      "    infringement       0.26      0.29      0.28        31\n",
      "non_infringement       0.64      0.61      0.62        64\n",
      "\n",
      "        accuracy                           0.51        95\n",
      "       macro avg       0.45      0.45      0.45        95\n",
      "    weighted avg       0.52      0.51      0.51        95\n",
      "\n"
     ]
    },
    {
     "name": "stderr",
     "output_type": "stream",
     "text": [
      "Training Epochs:  27%|██▋       | 548/2000 [00:17<00:23, 60.87it/s]"
     ]
    },
    {
     "name": "stdout",
     "output_type": "stream",
     "text": [
      "Epoch 540/2000, Loss: 0.0015\n",
      "Test Accuracy at Epoch 540: 50.53%\n",
      "Test F1-score at Epoch 540: 0.6240\n",
      "Classification Report at Epoch 540:\n",
      "                  precision    recall  f1-score   support\n",
      "\n",
      "    infringement       0.26      0.29      0.28        31\n",
      "non_infringement       0.64      0.61      0.62        64\n",
      "\n",
      "        accuracy                           0.51        95\n",
      "       macro avg       0.45      0.45      0.45        95\n",
      "    weighted avg       0.52      0.51      0.51        95\n",
      "\n",
      "Epoch 550/2000, Loss: 0.0015\n",
      "Test Accuracy at Epoch 550: 50.53%\n",
      "Test F1-score at Epoch 550: 0.6240\n",
      "Classification Report at Epoch 550:\n",
      "                  precision    recall  f1-score   support\n",
      "\n",
      "    infringement       0.26      0.29      0.28        31\n",
      "non_infringement       0.64      0.61      0.62        64\n",
      "\n",
      "        accuracy                           0.51        95\n",
      "       macro avg       0.45      0.45      0.45        95\n",
      "    weighted avg       0.52      0.51      0.51        95\n",
      "\n"
     ]
    },
    {
     "name": "stderr",
     "output_type": "stream",
     "text": [
      "Training Epochs:  28%|██▊       | 556/2000 [00:17<00:22, 63.63it/s]"
     ]
    },
    {
     "name": "stdout",
     "output_type": "stream",
     "text": [
      "Epoch 560/2000, Loss: 0.0014\n",
      "Test Accuracy at Epoch 560: 50.53%\n",
      "Test F1-score at Epoch 560: 0.6240\n",
      "Classification Report at Epoch 560:\n",
      "                  precision    recall  f1-score   support\n",
      "\n",
      "    infringement       0.26      0.29      0.28        31\n",
      "non_infringement       0.64      0.61      0.62        64\n",
      "\n",
      "        accuracy                           0.51        95\n",
      "       macro avg       0.45      0.45      0.45        95\n",
      "    weighted avg       0.52      0.51      0.51        95\n",
      "\n"
     ]
    },
    {
     "name": "stderr",
     "output_type": "stream",
     "text": [
      "Training Epochs:  29%|██▉       | 580/2000 [00:18<00:27, 51.38it/s]"
     ]
    },
    {
     "name": "stdout",
     "output_type": "stream",
     "text": [
      "Epoch 570/2000, Loss: 0.0014\n",
      "Test Accuracy at Epoch 570: 50.53%\n",
      "Test F1-score at Epoch 570: 0.6240\n",
      "Classification Report at Epoch 570:\n",
      "                  precision    recall  f1-score   support\n",
      "\n",
      "    infringement       0.26      0.29      0.28        31\n",
      "non_infringement       0.64      0.61      0.62        64\n",
      "\n",
      "        accuracy                           0.51        95\n",
      "       macro avg       0.45      0.45      0.45        95\n",
      "    weighted avg       0.52      0.51      0.51        95\n",
      "\n",
      "Epoch 580/2000, Loss: 0.0013\n",
      "Test Accuracy at Epoch 580: 50.53%\n",
      "Test F1-score at Epoch 580: 0.6240\n",
      "Classification Report at Epoch 580:\n",
      "                  precision    recall  f1-score   support\n",
      "\n",
      "    infringement       0.26      0.29      0.28        31\n",
      "non_infringement       0.64      0.61      0.62        64\n",
      "\n",
      "        accuracy                           0.51        95\n",
      "       macro avg       0.45      0.45      0.45        95\n",
      "    weighted avg       0.52      0.51      0.51        95\n",
      "\n"
     ]
    },
    {
     "name": "stderr",
     "output_type": "stream",
     "text": [
      "Training Epochs:  30%|███       | 603/2000 [00:18<00:22, 63.28it/s]"
     ]
    },
    {
     "name": "stdout",
     "output_type": "stream",
     "text": [
      "Epoch 590/2000, Loss: 0.0012\n",
      "Test Accuracy at Epoch 590: 50.53%\n",
      "Test F1-score at Epoch 590: 0.6240\n",
      "Classification Report at Epoch 590:\n",
      "                  precision    recall  f1-score   support\n",
      "\n",
      "    infringement       0.26      0.29      0.28        31\n",
      "non_infringement       0.64      0.61      0.62        64\n",
      "\n",
      "        accuracy                           0.51        95\n",
      "       macro avg       0.45      0.45      0.45        95\n",
      "    weighted avg       0.52      0.51      0.51        95\n",
      "\n",
      "Epoch 600/2000, Loss: 0.0012\n",
      "Test Accuracy at Epoch 600: 50.53%\n",
      "Test F1-score at Epoch 600: 0.6240\n",
      "Classification Report at Epoch 600:\n",
      "                  precision    recall  f1-score   support\n",
      "\n",
      "    infringement       0.26      0.29      0.28        31\n",
      "non_infringement       0.64      0.61      0.62        64\n",
      "\n",
      "        accuracy                           0.51        95\n",
      "       macro avg       0.45      0.45      0.45        95\n",
      "    weighted avg       0.52      0.51      0.51        95\n",
      "\n"
     ]
    },
    {
     "name": "stderr",
     "output_type": "stream",
     "text": [
      "Training Epochs:  30%|███       | 610/2000 [00:18<00:21, 63.80it/s]"
     ]
    },
    {
     "name": "stdout",
     "output_type": "stream",
     "text": [
      "Epoch 610/2000, Loss: 0.0011\n",
      "Test Accuracy at Epoch 610: 50.53%\n",
      "Test F1-score at Epoch 610: 0.6240\n",
      "Classification Report at Epoch 610:\n",
      "                  precision    recall  f1-score   support\n",
      "\n",
      "    infringement       0.26      0.29      0.28        31\n",
      "non_infringement       0.64      0.61      0.62        64\n",
      "\n",
      "        accuracy                           0.51        95\n",
      "       macro avg       0.45      0.45      0.45        95\n",
      "    weighted avg       0.52      0.51      0.51        95\n",
      "\n"
     ]
    },
    {
     "name": "stderr",
     "output_type": "stream",
     "text": [
      "Training Epochs:  32%|███▏      | 631/2000 [00:21<01:22, 16.55it/s]"
     ]
    },
    {
     "name": "stdout",
     "output_type": "stream",
     "text": [
      "Epoch 620/2000, Loss: 0.0011\n",
      "Test Accuracy at Epoch 620: 50.53%\n",
      "Test F1-score at Epoch 620: 0.6240\n",
      "Classification Report at Epoch 620:\n",
      "                  precision    recall  f1-score   support\n",
      "\n",
      "    infringement       0.26      0.29      0.28        31\n",
      "non_infringement       0.64      0.61      0.62        64\n",
      "\n",
      "        accuracy                           0.51        95\n",
      "       macro avg       0.45      0.45      0.45        95\n",
      "    weighted avg       0.52      0.51      0.51        95\n",
      "\n",
      "Epoch 630/2000, Loss: 0.0011\n",
      "Test Accuracy at Epoch 630: 50.53%\n",
      "Test F1-score at Epoch 630: 0.6240\n",
      "Classification Report at Epoch 630:\n",
      "                  precision    recall  f1-score   support\n",
      "\n",
      "    infringement       0.26      0.29      0.28        31\n",
      "non_infringement       0.64      0.61      0.62        64\n",
      "\n",
      "        accuracy                           0.51        95\n",
      "       macro avg       0.45      0.45      0.45        95\n",
      "    weighted avg       0.52      0.51      0.51        95\n",
      "\n"
     ]
    },
    {
     "name": "stderr",
     "output_type": "stream",
     "text": [
      "Training Epochs:  32%|███▏      | 640/2000 [00:21<00:59, 22.73it/s]"
     ]
    },
    {
     "name": "stdout",
     "output_type": "stream",
     "text": [
      "Epoch 640/2000, Loss: 0.0010\n",
      "Test Accuracy at Epoch 640: 50.53%\n",
      "Test F1-score at Epoch 640: 0.6240\n",
      "Classification Report at Epoch 640:\n",
      "                  precision    recall  f1-score   support\n",
      "\n",
      "    infringement       0.26      0.29      0.28        31\n",
      "non_infringement       0.64      0.61      0.62        64\n",
      "\n",
      "        accuracy                           0.51        95\n",
      "       macro avg       0.45      0.45      0.45        95\n",
      "    weighted avg       0.52      0.51      0.51        95\n",
      "\n"
     ]
    },
    {
     "name": "stderr",
     "output_type": "stream",
     "text": [
      "Training Epochs:  33%|███▎      | 662/2000 [00:21<00:44, 30.30it/s]"
     ]
    },
    {
     "name": "stdout",
     "output_type": "stream",
     "text": [
      "Epoch 650/2000, Loss: 0.0010\n",
      "Test Accuracy at Epoch 650: 50.53%\n",
      "Test F1-score at Epoch 650: 0.6240\n",
      "Classification Report at Epoch 650:\n",
      "                  precision    recall  f1-score   support\n",
      "\n",
      "    infringement       0.26      0.29      0.28        31\n",
      "non_infringement       0.64      0.61      0.62        64\n",
      "\n",
      "        accuracy                           0.51        95\n",
      "       macro avg       0.45      0.45      0.45        95\n",
      "    weighted avg       0.52      0.51      0.51        95\n",
      "\n",
      "Epoch 660/2000, Loss: 0.0010\n",
      "Test Accuracy at Epoch 660: 50.53%\n",
      "Test F1-score at Epoch 660: 0.6240\n",
      "Classification Report at Epoch 660:\n",
      "                  precision    recall  f1-score   support\n",
      "\n",
      "    infringement       0.26      0.29      0.28        31\n",
      "non_infringement       0.64      0.61      0.62        64\n",
      "\n",
      "        accuracy                           0.51        95\n",
      "       macro avg       0.45      0.45      0.45        95\n",
      "    weighted avg       0.52      0.51      0.51        95\n",
      "\n"
     ]
    },
    {
     "name": "stderr",
     "output_type": "stream",
     "text": [
      "Training Epochs:  34%|███▍      | 678/2000 [00:22<00:29, 44.32it/s]"
     ]
    },
    {
     "name": "stdout",
     "output_type": "stream",
     "text": [
      "Epoch 670/2000, Loss: 0.0009\n",
      "Test Accuracy at Epoch 670: 50.53%\n",
      "Test F1-score at Epoch 670: 0.6240\n",
      "Classification Report at Epoch 670:\n",
      "                  precision    recall  f1-score   support\n",
      "\n",
      "    infringement       0.26      0.29      0.28        31\n",
      "non_infringement       0.64      0.61      0.62        64\n",
      "\n",
      "        accuracy                           0.51        95\n",
      "       macro avg       0.45      0.45      0.45        95\n",
      "    weighted avg       0.52      0.51      0.51        95\n",
      "\n",
      "Epoch 680/2000, Loss: 0.0009\n",
      "Test Accuracy at Epoch 680: 50.53%\n",
      "Test F1-score at Epoch 680: 0.6240\n",
      "Classification Report at Epoch 680:\n",
      "                  precision    recall  f1-score   support\n",
      "\n",
      "    infringement       0.26      0.29      0.28        31\n",
      "non_infringement       0.64      0.61      0.62        64\n",
      "\n",
      "        accuracy                           0.51        95\n",
      "       macro avg       0.45      0.45      0.45        95\n",
      "    weighted avg       0.52      0.51      0.51        95\n",
      "\n"
     ]
    },
    {
     "name": "stderr",
     "output_type": "stream",
     "text": [
      "Training Epochs:  35%|███▍      | 693/2000 [00:22<00:38, 33.91it/s]"
     ]
    },
    {
     "name": "stdout",
     "output_type": "stream",
     "text": [
      "Epoch 690/2000, Loss: 0.0009\n",
      "Test Accuracy at Epoch 690: 50.53%\n",
      "Test F1-score at Epoch 690: 0.6240\n",
      "Classification Report at Epoch 690:\n",
      "                  precision    recall  f1-score   support\n",
      "\n",
      "    infringement       0.26      0.29      0.28        31\n",
      "non_infringement       0.64      0.61      0.62        64\n",
      "\n",
      "        accuracy                           0.51        95\n",
      "       macro avg       0.45      0.45      0.45        95\n",
      "    weighted avg       0.52      0.51      0.51        95\n",
      "\n"
     ]
    },
    {
     "name": "stderr",
     "output_type": "stream",
     "text": [
      "Training Epochs:  35%|███▌      | 708/2000 [00:22<00:29, 44.22it/s]"
     ]
    },
    {
     "name": "stdout",
     "output_type": "stream",
     "text": [
      "Epoch 700/2000, Loss: 0.0008\n",
      "Test Accuracy at Epoch 700: 50.53%\n",
      "Test F1-score at Epoch 700: 0.6240\n",
      "Classification Report at Epoch 700:\n",
      "                  precision    recall  f1-score   support\n",
      "\n",
      "    infringement       0.26      0.29      0.28        31\n",
      "non_infringement       0.64      0.61      0.62        64\n",
      "\n",
      "        accuracy                           0.51        95\n",
      "       macro avg       0.45      0.45      0.45        95\n",
      "    weighted avg       0.52      0.51      0.51        95\n",
      "\n",
      "Epoch 710/2000, Loss: 0.0008\n",
      "Test Accuracy at Epoch 710: 50.53%\n",
      "Test F1-score at Epoch 710: 0.6240\n",
      "Classification Report at Epoch 710:\n",
      "                  precision    recall  f1-score   support\n",
      "\n",
      "    infringement       0.26      0.29      0.28        31\n",
      "non_infringement       0.64      0.61      0.62        64\n",
      "\n",
      "        accuracy                           0.51        95\n",
      "       macro avg       0.45      0.45      0.45        95\n",
      "    weighted avg       0.52      0.51      0.51        95\n",
      "\n"
     ]
    },
    {
     "name": "stderr",
     "output_type": "stream",
     "text": [
      "Training Epochs:  36%|███▋      | 730/2000 [00:23<00:24, 52.56it/s]"
     ]
    },
    {
     "name": "stdout",
     "output_type": "stream",
     "text": [
      "Epoch 720/2000, Loss: 0.0008\n",
      "Test Accuracy at Epoch 720: 50.53%\n",
      "Test F1-score at Epoch 720: 0.6240\n",
      "Classification Report at Epoch 720:\n",
      "                  precision    recall  f1-score   support\n",
      "\n",
      "    infringement       0.26      0.29      0.28        31\n",
      "non_infringement       0.64      0.61      0.62        64\n",
      "\n",
      "        accuracy                           0.51        95\n",
      "       macro avg       0.45      0.45      0.45        95\n",
      "    weighted avg       0.52      0.51      0.51        95\n",
      "\n",
      "Epoch 730/2000, Loss: 0.0008\n",
      "Test Accuracy at Epoch 730: 50.53%\n",
      "Test F1-score at Epoch 730: 0.6240\n",
      "Classification Report at Epoch 730:\n",
      "                  precision    recall  f1-score   support\n",
      "\n",
      "    infringement       0.26      0.29      0.28        31\n",
      "non_infringement       0.64      0.61      0.62        64\n",
      "\n",
      "        accuracy                           0.51        95\n",
      "       macro avg       0.45      0.45      0.45        95\n",
      "    weighted avg       0.52      0.51      0.51        95\n",
      "\n"
     ]
    },
    {
     "name": "stderr",
     "output_type": "stream",
     "text": [
      "Training Epochs:  38%|███▊      | 750/2000 [00:23<00:20, 60.20it/s]"
     ]
    },
    {
     "name": "stdout",
     "output_type": "stream",
     "text": [
      "Epoch 740/2000, Loss: 0.0007\n",
      "Test Accuracy at Epoch 740: 50.53%\n",
      "Test F1-score at Epoch 740: 0.6240\n",
      "Classification Report at Epoch 740:\n",
      "                  precision    recall  f1-score   support\n",
      "\n",
      "    infringement       0.26      0.29      0.28        31\n",
      "non_infringement       0.64      0.61      0.62        64\n",
      "\n",
      "        accuracy                           0.51        95\n",
      "       macro avg       0.45      0.45      0.45        95\n",
      "    weighted avg       0.52      0.51      0.51        95\n",
      "\n",
      "Epoch 750/2000, Loss: 0.0007\n",
      "Test Accuracy at Epoch 750: 50.53%\n",
      "Test F1-score at Epoch 750: 0.6240\n",
      "Classification Report at Epoch 750:\n",
      "                  precision    recall  f1-score   support\n",
      "\n",
      "    infringement       0.26      0.29      0.28        31\n",
      "non_infringement       0.64      0.61      0.62        64\n",
      "\n",
      "        accuracy                           0.51        95\n",
      "       macro avg       0.45      0.45      0.45        95\n",
      "    weighted avg       0.52      0.51      0.51        95\n",
      "\n"
     ]
    },
    {
     "name": "stderr",
     "output_type": "stream",
     "text": [
      "Training Epochs:  39%|███▊      | 771/2000 [00:23<00:19, 64.22it/s]"
     ]
    },
    {
     "name": "stdout",
     "output_type": "stream",
     "text": [
      "Epoch 760/2000, Loss: 0.0007\n",
      "Test Accuracy at Epoch 760: 50.53%\n",
      "Test F1-score at Epoch 760: 0.6240\n",
      "Classification Report at Epoch 760:\n",
      "                  precision    recall  f1-score   support\n",
      "\n",
      "    infringement       0.26      0.29      0.28        31\n",
      "non_infringement       0.64      0.61      0.62        64\n",
      "\n",
      "        accuracy                           0.51        95\n",
      "       macro avg       0.45      0.45      0.45        95\n",
      "    weighted avg       0.52      0.51      0.51        95\n",
      "\n",
      "Epoch 770/2000, Loss: 0.0007\n",
      "Test Accuracy at Epoch 770: 50.53%\n",
      "Test F1-score at Epoch 770: 0.6240\n",
      "Classification Report at Epoch 770:\n",
      "                  precision    recall  f1-score   support\n",
      "\n",
      "    infringement       0.26      0.29      0.28        31\n",
      "non_infringement       0.64      0.61      0.62        64\n",
      "\n",
      "        accuracy                           0.51        95\n",
      "       macro avg       0.45      0.45      0.45        95\n",
      "    weighted avg       0.52      0.51      0.51        95\n",
      "\n"
     ]
    },
    {
     "name": "stderr",
     "output_type": "stream",
     "text": [
      "Training Epochs:  39%|███▉      | 786/2000 [00:24<00:18, 64.64it/s]"
     ]
    },
    {
     "name": "stdout",
     "output_type": "stream",
     "text": [
      "Epoch 780/2000, Loss: 0.0006\n",
      "Test Accuracy at Epoch 780: 50.53%\n",
      "Test F1-score at Epoch 780: 0.6240\n",
      "Classification Report at Epoch 780:\n",
      "                  precision    recall  f1-score   support\n",
      "\n",
      "    infringement       0.26      0.29      0.28        31\n",
      "non_infringement       0.64      0.61      0.62        64\n",
      "\n",
      "        accuracy                           0.51        95\n",
      "       macro avg       0.45      0.45      0.45        95\n",
      "    weighted avg       0.52      0.51      0.51        95\n",
      "\n",
      "Epoch 790/2000, Loss: 0.0006\n",
      "Test Accuracy at Epoch 790: 50.53%\n",
      "Test F1-score at Epoch 790: 0.6240\n",
      "Classification Report at Epoch 790:\n",
      "                  precision    recall  f1-score   support\n",
      "\n",
      "    infringement       0.26      0.29      0.28        31\n",
      "non_infringement       0.64      0.61      0.62        64\n",
      "\n",
      "        accuracy                           0.51        95\n",
      "       macro avg       0.45      0.45      0.45        95\n",
      "    weighted avg       0.52      0.51      0.51        95\n",
      "\n"
     ]
    },
    {
     "name": "stderr",
     "output_type": "stream",
     "text": [
      "Training Epochs:  40%|████      | 808/2000 [00:24<00:18, 66.14it/s]"
     ]
    },
    {
     "name": "stdout",
     "output_type": "stream",
     "text": [
      "Epoch 800/2000, Loss: 0.0006\n",
      "Test Accuracy at Epoch 800: 50.53%\n",
      "Test F1-score at Epoch 800: 0.6240\n",
      "Classification Report at Epoch 800:\n",
      "                  precision    recall  f1-score   support\n",
      "\n",
      "    infringement       0.26      0.29      0.28        31\n",
      "non_infringement       0.64      0.61      0.62        64\n",
      "\n",
      "        accuracy                           0.51        95\n",
      "       macro avg       0.45      0.45      0.45        95\n",
      "    weighted avg       0.52      0.51      0.51        95\n",
      "\n",
      "Epoch 810/2000, Loss: 0.0006\n",
      "Test Accuracy at Epoch 810: 50.53%\n",
      "Test F1-score at Epoch 810: 0.6240\n",
      "Classification Report at Epoch 810:\n",
      "                  precision    recall  f1-score   support\n",
      "\n",
      "    infringement       0.26      0.29      0.28        31\n",
      "non_infringement       0.64      0.61      0.62        64\n",
      "\n",
      "        accuracy                           0.51        95\n",
      "       macro avg       0.45      0.45      0.45        95\n",
      "    weighted avg       0.52      0.51      0.51        95\n",
      "\n"
     ]
    },
    {
     "name": "stderr",
     "output_type": "stream",
     "text": [
      "Training Epochs:  42%|████▏     | 830/2000 [00:24<00:16, 70.06it/s]"
     ]
    },
    {
     "name": "stdout",
     "output_type": "stream",
     "text": [
      "Epoch 820/2000, Loss: 0.0006\n",
      "Test Accuracy at Epoch 820: 50.53%\n",
      "Test F1-score at Epoch 820: 0.6240\n",
      "Classification Report at Epoch 820:\n",
      "                  precision    recall  f1-score   support\n",
      "\n",
      "    infringement       0.26      0.29      0.28        31\n",
      "non_infringement       0.64      0.61      0.62        64\n",
      "\n",
      "        accuracy                           0.51        95\n",
      "       macro avg       0.45      0.45      0.45        95\n",
      "    weighted avg       0.52      0.51      0.51        95\n",
      "\n",
      "Epoch 830/2000, Loss: 0.0006\n",
      "Test Accuracy at Epoch 830: 50.53%\n",
      "Test F1-score at Epoch 830: 0.6240\n",
      "Classification Report at Epoch 830:\n",
      "                  precision    recall  f1-score   support\n",
      "\n",
      "    infringement       0.26      0.29      0.28        31\n",
      "non_infringement       0.64      0.61      0.62        64\n",
      "\n",
      "        accuracy                           0.51        95\n",
      "       macro avg       0.45      0.45      0.45        95\n",
      "    weighted avg       0.52      0.51      0.51        95\n",
      "\n"
     ]
    },
    {
     "name": "stderr",
     "output_type": "stream",
     "text": [
      "Training Epochs:  42%|████▏     | 846/2000 [00:24<00:16, 68.09it/s]"
     ]
    },
    {
     "name": "stdout",
     "output_type": "stream",
     "text": [
      "Epoch 840/2000, Loss: 0.0005\n",
      "Test Accuracy at Epoch 840: 50.53%\n",
      "Test F1-score at Epoch 840: 0.6240\n",
      "Classification Report at Epoch 840:\n",
      "                  precision    recall  f1-score   support\n",
      "\n",
      "    infringement       0.26      0.29      0.28        31\n",
      "non_infringement       0.64      0.61      0.62        64\n",
      "\n",
      "        accuracy                           0.51        95\n",
      "       macro avg       0.45      0.45      0.45        95\n",
      "    weighted avg       0.52      0.51      0.51        95\n",
      "\n",
      "Epoch 850/2000, Loss: 0.0005\n",
      "Test Accuracy at Epoch 850: 50.53%\n",
      "Test F1-score at Epoch 850: 0.6240\n",
      "Classification Report at Epoch 850:\n",
      "                  precision    recall  f1-score   support\n",
      "\n",
      "    infringement       0.26      0.29      0.28        31\n",
      "non_infringement       0.64      0.61      0.62        64\n",
      "\n",
      "        accuracy                           0.51        95\n",
      "       macro avg       0.45      0.45      0.45        95\n",
      "    weighted avg       0.52      0.51      0.51        95\n",
      "\n"
     ]
    },
    {
     "name": "stderr",
     "output_type": "stream",
     "text": [
      "Training Epochs:  43%|████▎     | 867/2000 [00:25<00:19, 57.58it/s]"
     ]
    },
    {
     "name": "stdout",
     "output_type": "stream",
     "text": [
      "Epoch 860/2000, Loss: 0.0005\n",
      "Test Accuracy at Epoch 860: 50.53%\n",
      "Test F1-score at Epoch 860: 0.6240\n",
      "Classification Report at Epoch 860:\n",
      "                  precision    recall  f1-score   support\n",
      "\n",
      "    infringement       0.26      0.29      0.28        31\n",
      "non_infringement       0.64      0.61      0.62        64\n",
      "\n",
      "        accuracy                           0.51        95\n",
      "       macro avg       0.45      0.45      0.45        95\n",
      "    weighted avg       0.52      0.51      0.51        95\n",
      "\n"
     ]
    },
    {
     "name": "stderr",
     "output_type": "stream",
     "text": [
      "Training Epochs:  44%|████▍     | 880/2000 [00:26<00:43, 25.91it/s]"
     ]
    },
    {
     "name": "stdout",
     "output_type": "stream",
     "text": [
      "Epoch 870/2000, Loss: 0.0005\n",
      "Test Accuracy at Epoch 870: 50.53%\n",
      "Test F1-score at Epoch 870: 0.6240\n",
      "Classification Report at Epoch 870:\n",
      "                  precision    recall  f1-score   support\n",
      "\n",
      "    infringement       0.26      0.29      0.28        31\n",
      "non_infringement       0.64      0.61      0.62        64\n",
      "\n",
      "        accuracy                           0.51        95\n",
      "       macro avg       0.45      0.45      0.45        95\n",
      "    weighted avg       0.52      0.51      0.51        95\n",
      "\n",
      "Epoch 880/2000, Loss: 0.0005\n",
      "Test Accuracy at Epoch 880: 50.53%\n",
      "Test F1-score at Epoch 880: 0.6240\n",
      "Classification Report at Epoch 880:\n",
      "                  precision    recall  f1-score   support\n",
      "\n",
      "    infringement       0.26      0.29      0.28        31\n",
      "non_infringement       0.64      0.61      0.62        64\n",
      "\n",
      "        accuracy                           0.51        95\n",
      "       macro avg       0.45      0.45      0.45        95\n",
      "    weighted avg       0.52      0.51      0.51        95\n",
      "\n"
     ]
    },
    {
     "name": "stderr",
     "output_type": "stream",
     "text": [
      "Training Epochs:  45%|████▌     | 900/2000 [00:26<00:26, 40.83it/s]"
     ]
    },
    {
     "name": "stdout",
     "output_type": "stream",
     "text": [
      "Epoch 890/2000, Loss: 0.0005\n",
      "Test Accuracy at Epoch 890: 50.53%\n",
      "Test F1-score at Epoch 890: 0.6240\n",
      "Classification Report at Epoch 890:\n",
      "                  precision    recall  f1-score   support\n",
      "\n",
      "    infringement       0.26      0.29      0.28        31\n",
      "non_infringement       0.64      0.61      0.62        64\n",
      "\n",
      "        accuracy                           0.51        95\n",
      "       macro avg       0.45      0.45      0.45        95\n",
      "    weighted avg       0.52      0.51      0.51        95\n",
      "\n",
      "Epoch 900/2000, Loss: 0.0005\n",
      "Test Accuracy at Epoch 900: 50.53%\n",
      "Test F1-score at Epoch 900: 0.6240\n",
      "Classification Report at Epoch 900:\n",
      "                  precision    recall  f1-score   support\n",
      "\n",
      "    infringement       0.26      0.29      0.28        31\n",
      "non_infringement       0.64      0.61      0.62        64\n",
      "\n",
      "        accuracy                           0.51        95\n",
      "       macro avg       0.45      0.45      0.45        95\n",
      "    weighted avg       0.52      0.51      0.51        95\n",
      "\n"
     ]
    },
    {
     "name": "stderr",
     "output_type": "stream",
     "text": [
      "Training Epochs:  46%|████▌     | 919/2000 [00:26<00:21, 50.64it/s]"
     ]
    },
    {
     "name": "stdout",
     "output_type": "stream",
     "text": [
      "Epoch 910/2000, Loss: 0.0005\n",
      "Test Accuracy at Epoch 910: 50.53%\n",
      "Test F1-score at Epoch 910: 0.6240\n",
      "Classification Report at Epoch 910:\n",
      "                  precision    recall  f1-score   support\n",
      "\n",
      "    infringement       0.26      0.29      0.28        31\n",
      "non_infringement       0.64      0.61      0.62        64\n",
      "\n",
      "        accuracy                           0.51        95\n",
      "       macro avg       0.45      0.45      0.45        95\n",
      "    weighted avg       0.52      0.51      0.51        95\n",
      "\n",
      "Epoch 920/2000, Loss: 0.0004\n",
      "Test Accuracy at Epoch 920: 50.53%\n",
      "Test F1-score at Epoch 920: 0.6240\n",
      "Classification Report at Epoch 920:\n",
      "                  precision    recall  f1-score   support\n",
      "\n",
      "    infringement       0.26      0.29      0.28        31\n",
      "non_infringement       0.64      0.61      0.62        64\n",
      "\n",
      "        accuracy                           0.51        95\n",
      "       macro avg       0.45      0.45      0.45        95\n",
      "    weighted avg       0.52      0.51      0.51        95\n",
      "\n"
     ]
    },
    {
     "name": "stderr",
     "output_type": "stream",
     "text": [
      "Training Epochs:  47%|████▋     | 931/2000 [00:28<00:55, 19.39it/s]"
     ]
    },
    {
     "name": "stdout",
     "output_type": "stream",
     "text": [
      "Epoch 930/2000, Loss: 0.0004\n",
      "Test Accuracy at Epoch 930: 50.53%\n",
      "Test F1-score at Epoch 930: 0.6240\n",
      "Classification Report at Epoch 930:\n",
      "                  precision    recall  f1-score   support\n",
      "\n",
      "    infringement       0.26      0.29      0.28        31\n",
      "non_infringement       0.64      0.61      0.62        64\n",
      "\n",
      "        accuracy                           0.51        95\n",
      "       macro avg       0.45      0.45      0.45        95\n",
      "    weighted avg       0.52      0.51      0.51        95\n",
      "\n"
     ]
    },
    {
     "name": "stderr",
     "output_type": "stream",
     "text": [
      "Training Epochs:  48%|████▊     | 950/2000 [00:28<00:30, 34.25it/s]"
     ]
    },
    {
     "name": "stdout",
     "output_type": "stream",
     "text": [
      "Epoch 940/2000, Loss: 0.0004\n",
      "Test Accuracy at Epoch 940: 50.53%\n",
      "Test F1-score at Epoch 940: 0.6240\n",
      "Classification Report at Epoch 940:\n",
      "                  precision    recall  f1-score   support\n",
      "\n",
      "    infringement       0.26      0.29      0.28        31\n",
      "non_infringement       0.64      0.61      0.62        64\n",
      "\n",
      "        accuracy                           0.51        95\n",
      "       macro avg       0.45      0.45      0.45        95\n",
      "    weighted avg       0.52      0.51      0.51        95\n",
      "\n",
      "Epoch 950/2000, Loss: 0.0004\n",
      "Test Accuracy at Epoch 950: 50.53%\n",
      "Test F1-score at Epoch 950: 0.6240\n",
      "Classification Report at Epoch 950:\n",
      "                  precision    recall  f1-score   support\n",
      "\n",
      "    infringement       0.26      0.29      0.28        31\n",
      "non_infringement       0.64      0.61      0.62        64\n",
      "\n",
      "        accuracy                           0.51        95\n",
      "       macro avg       0.45      0.45      0.45        95\n",
      "    weighted avg       0.52      0.51      0.51        95\n",
      "\n"
     ]
    },
    {
     "name": "stderr",
     "output_type": "stream",
     "text": [
      "Training Epochs:  48%|████▊     | 968/2000 [00:29<00:31, 33.11it/s]"
     ]
    },
    {
     "name": "stdout",
     "output_type": "stream",
     "text": [
      "Epoch 960/2000, Loss: 0.0004\n",
      "Test Accuracy at Epoch 960: 50.53%\n",
      "Test F1-score at Epoch 960: 0.6240\n",
      "Classification Report at Epoch 960:\n",
      "                  precision    recall  f1-score   support\n",
      "\n",
      "    infringement       0.26      0.29      0.28        31\n",
      "non_infringement       0.64      0.61      0.62        64\n",
      "\n",
      "        accuracy                           0.51        95\n",
      "       macro avg       0.45      0.45      0.45        95\n",
      "    weighted avg       0.52      0.51      0.51        95\n",
      "\n",
      "Epoch 970/2000, Loss: 0.0004\n",
      "Test Accuracy at Epoch 970: 50.53%\n",
      "Test F1-score at Epoch 970: 0.6240\n"
     ]
    },
    {
     "name": "stderr",
     "output_type": "stream",
     "text": [
      "Training Epochs:  49%|████▉     | 981/2000 [00:29<00:23, 43.51it/s]"
     ]
    },
    {
     "name": "stdout",
     "output_type": "stream",
     "text": [
      "Classification Report at Epoch 970:\n",
      "                  precision    recall  f1-score   support\n",
      "\n",
      "    infringement       0.26      0.29      0.28        31\n",
      "non_infringement       0.64      0.61      0.62        64\n",
      "\n",
      "        accuracy                           0.51        95\n",
      "       macro avg       0.45      0.45      0.45        95\n",
      "    weighted avg       0.52      0.51      0.51        95\n",
      "\n",
      "Epoch 980/2000, Loss: 0.0004\n",
      "Test Accuracy at Epoch 980: 50.53%\n",
      "Test F1-score at Epoch 980: 0.6240\n",
      "Classification Report at Epoch 980:\n",
      "                  precision    recall  f1-score   support\n",
      "\n",
      "    infringement       0.26      0.29      0.28        31\n",
      "non_infringement       0.64      0.61      0.62        64\n",
      "\n",
      "        accuracy                           0.51        95\n",
      "       macro avg       0.45      0.45      0.45        95\n",
      "    weighted avg       0.52      0.51      0.51        95\n",
      "\n"
     ]
    },
    {
     "name": "stderr",
     "output_type": "stream",
     "text": [
      "Training Epochs:  50%|████▉     | 994/2000 [00:29<00:21, 45.89it/s]"
     ]
    },
    {
     "name": "stdout",
     "output_type": "stream",
     "text": [
      "Epoch 990/2000, Loss: 0.0004\n",
      "Test Accuracy at Epoch 990: 50.53%\n",
      "Test F1-score at Epoch 990: 0.6240\n",
      "Classification Report at Epoch 990:\n",
      "                  precision    recall  f1-score   support\n",
      "\n",
      "    infringement       0.26      0.29      0.28        31\n",
      "non_infringement       0.64      0.61      0.62        64\n",
      "\n",
      "        accuracy                           0.51        95\n",
      "       macro avg       0.45      0.45      0.45        95\n",
      "    weighted avg       0.52      0.51      0.51        95\n",
      "\n"
     ]
    },
    {
     "name": "stderr",
     "output_type": "stream",
     "text": [
      "Training Epochs:  50%|█████     | 1007/2000 [00:29<00:18, 53.25it/s]"
     ]
    },
    {
     "name": "stdout",
     "output_type": "stream",
     "text": [
      "Epoch 1000/2000, Loss: 0.0004\n",
      "Test Accuracy at Epoch 1000: 50.53%\n",
      "Test F1-score at Epoch 1000: 0.6240\n",
      "Classification Report at Epoch 1000:\n",
      "                  precision    recall  f1-score   support\n",
      "\n",
      "    infringement       0.26      0.29      0.28        31\n",
      "non_infringement       0.64      0.61      0.62        64\n",
      "\n",
      "        accuracy                           0.51        95\n",
      "       macro avg       0.45      0.45      0.45        95\n",
      "    weighted avg       0.52      0.51      0.51        95\n",
      "\n",
      "Epoch 1010/2000, Loss: 0.0004\n",
      "Test Accuracy at Epoch 1010: 50.53%\n",
      "Test F1-score at Epoch 1010: 0.6240\n",
      "Classification Report at Epoch 1010:\n",
      "                  precision    recall  f1-score   support\n",
      "\n",
      "    infringement       0.26      0.29      0.28        31\n",
      "non_infringement       0.64      0.61      0.62        64\n",
      "\n",
      "        accuracy                           0.51        95\n",
      "       macro avg       0.45      0.45      0.45        95\n",
      "    weighted avg       0.52      0.51      0.51        95\n",
      "\n"
     ]
    },
    {
     "name": "stderr",
     "output_type": "stream",
     "text": [
      "Training Epochs:  51%|█████▏    | 1026/2000 [00:30<00:19, 49.02it/s]"
     ]
    },
    {
     "name": "stdout",
     "output_type": "stream",
     "text": [
      "Epoch 1020/2000, Loss: 0.0004\n",
      "Test Accuracy at Epoch 1020: 50.53%\n",
      "Test F1-score at Epoch 1020: 0.6240\n",
      "Classification Report at Epoch 1020:\n",
      "                  precision    recall  f1-score   support\n",
      "\n",
      "    infringement       0.26      0.29      0.28        31\n",
      "non_infringement       0.64      0.61      0.62        64\n",
      "\n",
      "        accuracy                           0.51        95\n",
      "       macro avg       0.45      0.45      0.45        95\n",
      "    weighted avg       0.52      0.51      0.51        95\n",
      "\n"
     ]
    },
    {
     "name": "stderr",
     "output_type": "stream",
     "text": [
      "Training Epochs:  52%|█████▏    | 1039/2000 [00:30<00:18, 52.25it/s]"
     ]
    },
    {
     "name": "stdout",
     "output_type": "stream",
     "text": [
      "Epoch 1030/2000, Loss: 0.0003\n",
      "Test Accuracy at Epoch 1030: 50.53%\n",
      "Test F1-score at Epoch 1030: 0.6240\n",
      "Classification Report at Epoch 1030:\n",
      "                  precision    recall  f1-score   support\n",
      "\n",
      "    infringement       0.26      0.29      0.28        31\n",
      "non_infringement       0.64      0.61      0.62        64\n",
      "\n",
      "        accuracy                           0.51        95\n",
      "       macro avg       0.45      0.45      0.45        95\n",
      "    weighted avg       0.52      0.51      0.51        95\n",
      "\n",
      "Epoch 1040/2000, Loss: 0.0003\n",
      "Test Accuracy at Epoch 1040: 50.53%\n",
      "Test F1-score at Epoch 1040: 0.6240\n",
      "Classification Report at Epoch 1040:\n",
      "                  precision    recall  f1-score   support\n",
      "\n",
      "    infringement       0.26      0.29      0.28        31\n",
      "non_infringement       0.64      0.61      0.62        64\n",
      "\n",
      "        accuracy                           0.51        95\n",
      "       macro avg       0.45      0.45      0.45        95\n",
      "    weighted avg       0.52      0.51      0.51        95\n",
      "\n"
     ]
    },
    {
     "name": "stderr",
     "output_type": "stream",
     "text": [
      "Training Epochs:  53%|█████▎    | 1058/2000 [00:30<00:16, 56.44it/s]"
     ]
    },
    {
     "name": "stdout",
     "output_type": "stream",
     "text": [
      "Epoch 1050/2000, Loss: 0.0003\n",
      "Test Accuracy at Epoch 1050: 50.53%\n",
      "Test F1-score at Epoch 1050: 0.6240\n",
      "Classification Report at Epoch 1050:\n",
      "                  precision    recall  f1-score   support\n",
      "\n",
      "    infringement       0.26      0.29      0.28        31\n",
      "non_infringement       0.64      0.61      0.62        64\n",
      "\n",
      "        accuracy                           0.51        95\n",
      "       macro avg       0.45      0.45      0.45        95\n",
      "    weighted avg       0.52      0.51      0.51        95\n",
      "\n",
      "Epoch 1060/2000, Loss: 0.0003\n",
      "Test Accuracy at Epoch 1060: 50.53%\n",
      "Test F1-score at Epoch 1060: 0.6240\n",
      "Classification Report at Epoch 1060:\n",
      "                  precision    recall  f1-score   support\n",
      "\n",
      "    infringement       0.26      0.29      0.28        31\n",
      "non_infringement       0.64      0.61      0.62        64\n",
      "\n",
      "        accuracy                           0.51        95\n",
      "       macro avg       0.45      0.45      0.45        95\n",
      "    weighted avg       0.52      0.51      0.51        95\n",
      "\n"
     ]
    },
    {
     "name": "stderr",
     "output_type": "stream",
     "text": [
      "Training Epochs:  53%|█████▎    | 1064/2000 [00:30<00:17, 54.55it/s]"
     ]
    },
    {
     "name": "stdout",
     "output_type": "stream",
     "text": [
      "Epoch 1070/2000, Loss: 0.0003\n",
      "Test Accuracy at Epoch 1070: 50.53%\n",
      "Test F1-score at Epoch 1070: 0.6240\n",
      "Classification Report at Epoch 1070:\n",
      "                  precision    recall  f1-score   support\n",
      "\n",
      "    infringement       0.26      0.29      0.28        31\n",
      "non_infringement       0.64      0.61      0.62        64\n",
      "\n",
      "        accuracy                           0.51        95\n",
      "       macro avg       0.45      0.45      0.45        95\n",
      "    weighted avg       0.52      0.51      0.51        95\n",
      "\n"
     ]
    },
    {
     "name": "stderr",
     "output_type": "stream",
     "text": [
      "Training Epochs:  55%|█████▍    | 1093/2000 [00:31<00:18, 48.66it/s]"
     ]
    },
    {
     "name": "stdout",
     "output_type": "stream",
     "text": [
      "Epoch 1080/2000, Loss: 0.0003\n",
      "Test Accuracy at Epoch 1080: 50.53%\n",
      "Test F1-score at Epoch 1080: 0.6240\n",
      "Classification Report at Epoch 1080:\n",
      "                  precision    recall  f1-score   support\n",
      "\n",
      "    infringement       0.26      0.29      0.28        31\n",
      "non_infringement       0.64      0.61      0.62        64\n",
      "\n",
      "        accuracy                           0.51        95\n",
      "       macro avg       0.45      0.45      0.45        95\n",
      "    weighted avg       0.52      0.51      0.51        95\n",
      "\n",
      "Epoch 1090/2000, Loss: 0.0003\n",
      "Test Accuracy at Epoch 1090: 50.53%\n",
      "Test F1-score at Epoch 1090: 0.6240\n",
      "Classification Report at Epoch 1090:\n",
      "                  precision    recall  f1-score   support\n",
      "\n",
      "    infringement       0.26      0.29      0.28        31\n",
      "non_infringement       0.64      0.61      0.62        64\n",
      "\n",
      "        accuracy                           0.51        95\n",
      "       macro avg       0.45      0.45      0.45        95\n",
      "    weighted avg       0.52      0.51      0.51        95\n",
      "\n"
     ]
    },
    {
     "name": "stderr",
     "output_type": "stream",
     "text": [
      "Training Epochs:  55%|█████▌    | 1109/2000 [00:32<00:14, 59.83it/s]"
     ]
    },
    {
     "name": "stdout",
     "output_type": "stream",
     "text": [
      "Epoch 1100/2000, Loss: 0.0003\n",
      "Test Accuracy at Epoch 1100: 50.53%\n",
      "Test F1-score at Epoch 1100: 0.6240\n",
      "Classification Report at Epoch 1100:\n",
      "                  precision    recall  f1-score   support\n",
      "\n",
      "    infringement       0.26      0.29      0.28        31\n",
      "non_infringement       0.64      0.61      0.62        64\n",
      "\n",
      "        accuracy                           0.51        95\n",
      "       macro avg       0.45      0.45      0.45        95\n",
      "    weighted avg       0.52      0.51      0.51        95\n",
      "\n",
      "Epoch 1110/2000, Loss: 0.0003\n",
      "Test Accuracy at Epoch 1110: 50.53%\n",
      "Test F1-score at Epoch 1110: 0.6240\n",
      "Classification Report at Epoch 1110:\n",
      "                  precision    recall  f1-score   support\n",
      "\n",
      "    infringement       0.26      0.29      0.28        31\n",
      "non_infringement       0.64      0.61      0.62        64\n",
      "\n",
      "        accuracy                           0.51        95\n",
      "       macro avg       0.45      0.45      0.45        95\n",
      "    weighted avg       0.52      0.51      0.51        95\n",
      "\n"
     ]
    },
    {
     "name": "stderr",
     "output_type": "stream",
     "text": [
      "Training Epochs:  56%|█████▋    | 1129/2000 [00:32<00:16, 52.06it/s]"
     ]
    },
    {
     "name": "stdout",
     "output_type": "stream",
     "text": [
      "Epoch 1120/2000, Loss: 0.0003\n",
      "Test Accuracy at Epoch 1120: 50.53%\n",
      "Test F1-score at Epoch 1120: 0.6240\n",
      "Classification Report at Epoch 1120:\n",
      "                  precision    recall  f1-score   support\n",
      "\n",
      "    infringement       0.26      0.29      0.28        31\n",
      "non_infringement       0.64      0.61      0.62        64\n",
      "\n",
      "        accuracy                           0.51        95\n",
      "       macro avg       0.45      0.45      0.45        95\n",
      "    weighted avg       0.52      0.51      0.51        95\n",
      "\n"
     ]
    },
    {
     "name": "stderr",
     "output_type": "stream",
     "text": [
      "Training Epochs:  57%|█████▋    | 1135/2000 [00:32<00:16, 53.28it/s]"
     ]
    },
    {
     "name": "stdout",
     "output_type": "stream",
     "text": [
      "Epoch 1130/2000, Loss: 0.0003\n",
      "Test Accuracy at Epoch 1130: 50.53%\n",
      "Test F1-score at Epoch 1130: 0.6240\n",
      "Classification Report at Epoch 1130:\n",
      "                  precision    recall  f1-score   support\n",
      "\n",
      "    infringement       0.26      0.29      0.28        31\n",
      "non_infringement       0.64      0.61      0.62        64\n",
      "\n",
      "        accuracy                           0.51        95\n",
      "       macro avg       0.45      0.45      0.45        95\n",
      "    weighted avg       0.52      0.51      0.51        95\n",
      "\n"
     ]
    },
    {
     "name": "stderr",
     "output_type": "stream",
     "text": [
      "Training Epochs:  57%|█████▋    | 1141/2000 [00:32<00:19, 43.24it/s]"
     ]
    },
    {
     "name": "stdout",
     "output_type": "stream",
     "text": [
      "Epoch 1140/2000, Loss: 0.0003\n",
      "Test Accuracy at Epoch 1140: 50.53%\n",
      "Test F1-score at Epoch 1140: 0.6240\n",
      "Classification Report at Epoch 1140:\n",
      "                  precision    recall  f1-score   support\n",
      "\n",
      "    infringement       0.26      0.29      0.28        31\n",
      "non_infringement       0.64      0.61      0.62        64\n",
      "\n",
      "        accuracy                           0.51        95\n",
      "       macro avg       0.45      0.45      0.45        95\n",
      "    weighted avg       0.52      0.51      0.51        95\n",
      "\n"
     ]
    },
    {
     "name": "stderr",
     "output_type": "stream",
     "text": [
      "Training Epochs:  57%|█████▊    | 1150/2000 [00:36<02:26,  5.80it/s]"
     ]
    },
    {
     "name": "stdout",
     "output_type": "stream",
     "text": [
      "Epoch 1150/2000, Loss: 0.0003\n",
      "Test Accuracy at Epoch 1150: 50.53%\n",
      "Test F1-score at Epoch 1150: 0.6240\n",
      "Classification Report at Epoch 1150:\n",
      "                  precision    recall  f1-score   support\n",
      "\n",
      "    infringement       0.26      0.29      0.28        31\n",
      "non_infringement       0.64      0.61      0.62        64\n",
      "\n",
      "        accuracy                           0.51        95\n",
      "       macro avg       0.45      0.45      0.45        95\n",
      "    weighted avg       0.52      0.51      0.51        95\n",
      "\n"
     ]
    },
    {
     "name": "stderr",
     "output_type": "stream",
     "text": [
      "Training Epochs:  58%|█████▊    | 1168/2000 [00:36<00:58, 14.22it/s]"
     ]
    },
    {
     "name": "stdout",
     "output_type": "stream",
     "text": [
      "Epoch 1160/2000, Loss: 0.0003\n",
      "Test Accuracy at Epoch 1160: 50.53%\n",
      "Test F1-score at Epoch 1160: 0.6240\n",
      "Classification Report at Epoch 1160:\n",
      "                  precision    recall  f1-score   support\n",
      "\n",
      "    infringement       0.26      0.29      0.28        31\n",
      "non_infringement       0.64      0.61      0.62        64\n",
      "\n",
      "        accuracy                           0.51        95\n",
      "       macro avg       0.45      0.45      0.45        95\n",
      "    weighted avg       0.52      0.51      0.51        95\n",
      "\n",
      "Epoch 1170/2000, Loss: 0.0003\n",
      "Test Accuracy at Epoch 1170: 50.53%\n",
      "Test F1-score at Epoch 1170: 0.6240\n",
      "Classification Report at Epoch 1170:\n",
      "                  precision    recall  f1-score   support\n",
      "\n",
      "    infringement       0.26      0.29      0.28        31\n",
      "non_infringement       0.64      0.61      0.62        64\n",
      "\n",
      "        accuracy                           0.51        95\n",
      "       macro avg       0.45      0.45      0.45        95\n",
      "    weighted avg       0.52      0.51      0.51        95\n",
      "\n"
     ]
    },
    {
     "name": "stderr",
     "output_type": "stream",
     "text": [
      "Training Epochs:  59%|█████▉    | 1189/2000 [00:37<00:26, 30.06it/s]"
     ]
    },
    {
     "name": "stdout",
     "output_type": "stream",
     "text": [
      "Epoch 1180/2000, Loss: 0.0003\n",
      "Test Accuracy at Epoch 1180: 50.53%\n",
      "Test F1-score at Epoch 1180: 0.6240\n",
      "Classification Report at Epoch 1180:\n",
      "                  precision    recall  f1-score   support\n",
      "\n",
      "    infringement       0.26      0.29      0.28        31\n",
      "non_infringement       0.64      0.61      0.62        64\n",
      "\n",
      "        accuracy                           0.51        95\n",
      "       macro avg       0.45      0.45      0.45        95\n",
      "    weighted avg       0.52      0.51      0.51        95\n",
      "\n",
      "Epoch 1190/2000, Loss: 0.0002\n",
      "Test Accuracy at Epoch 1190: 50.53%\n",
      "Test F1-score at Epoch 1190: 0.6240\n",
      "Classification Report at Epoch 1190:\n",
      "                  precision    recall  f1-score   support\n",
      "\n",
      "    infringement       0.26      0.29      0.28        31\n",
      "non_infringement       0.64      0.61      0.62        64\n",
      "\n",
      "        accuracy                           0.51        95\n",
      "       macro avg       0.45      0.45      0.45        95\n",
      "    weighted avg       0.52      0.51      0.51        95\n",
      "\n"
     ]
    },
    {
     "name": "stderr",
     "output_type": "stream",
     "text": [
      "Training Epochs:  60%|██████    | 1210/2000 [00:37<00:16, 47.66it/s]"
     ]
    },
    {
     "name": "stdout",
     "output_type": "stream",
     "text": [
      "Epoch 1200/2000, Loss: 0.0002\n",
      "Test Accuracy at Epoch 1200: 50.53%\n",
      "Test F1-score at Epoch 1200: 0.6240\n",
      "Classification Report at Epoch 1200:\n",
      "                  precision    recall  f1-score   support\n",
      "\n",
      "    infringement       0.26      0.29      0.28        31\n",
      "non_infringement       0.64      0.61      0.62        64\n",
      "\n",
      "        accuracy                           0.51        95\n",
      "       macro avg       0.45      0.45      0.45        95\n",
      "    weighted avg       0.52      0.51      0.51        95\n",
      "\n",
      "Epoch 1210/2000, Loss: 0.0002\n",
      "Test Accuracy at Epoch 1210: 50.53%\n",
      "Test F1-score at Epoch 1210: 0.6240\n",
      "Classification Report at Epoch 1210:\n",
      "                  precision    recall  f1-score   support\n",
      "\n",
      "    infringement       0.26      0.29      0.28        31\n",
      "non_infringement       0.64      0.61      0.62        64\n",
      "\n",
      "        accuracy                           0.51        95\n",
      "       macro avg       0.45      0.45      0.45        95\n",
      "    weighted avg       0.52      0.51      0.51        95\n",
      "\n"
     ]
    },
    {
     "name": "stderr",
     "output_type": "stream",
     "text": [
      "Training Epochs:  62%|██████▏   | 1232/2000 [00:37<00:12, 61.00it/s]"
     ]
    },
    {
     "name": "stdout",
     "output_type": "stream",
     "text": [
      "Epoch 1220/2000, Loss: 0.0002\n",
      "Test Accuracy at Epoch 1220: 50.53%\n",
      "Test F1-score at Epoch 1220: 0.6240\n",
      "Classification Report at Epoch 1220:\n",
      "                  precision    recall  f1-score   support\n",
      "\n",
      "    infringement       0.26      0.29      0.28        31\n",
      "non_infringement       0.64      0.61      0.62        64\n",
      "\n",
      "        accuracy                           0.51        95\n",
      "       macro avg       0.45      0.45      0.45        95\n",
      "    weighted avg       0.52      0.51      0.51        95\n",
      "\n",
      "Epoch 1230/2000, Loss: 0.0002\n",
      "Test Accuracy at Epoch 1230: 50.53%\n",
      "Test F1-score at Epoch 1230: 0.6240\n",
      "Classification Report at Epoch 1230:\n",
      "                  precision    recall  f1-score   support\n",
      "\n",
      "    infringement       0.26      0.29      0.28        31\n",
      "non_infringement       0.64      0.61      0.62        64\n",
      "\n",
      "        accuracy                           0.51        95\n",
      "       macro avg       0.45      0.45      0.45        95\n",
      "    weighted avg       0.52      0.51      0.51        95\n",
      "\n"
     ]
    },
    {
     "name": "stderr",
     "output_type": "stream",
     "text": [
      "Training Epochs:  62%|██████▏   | 1247/2000 [00:37<00:11, 63.51it/s]"
     ]
    },
    {
     "name": "stdout",
     "output_type": "stream",
     "text": [
      "Epoch 1240/2000, Loss: 0.0002\n",
      "Test Accuracy at Epoch 1240: 50.53%\n",
      "Test F1-score at Epoch 1240: 0.6240\n",
      "Classification Report at Epoch 1240:\n",
      "                  precision    recall  f1-score   support\n",
      "\n",
      "    infringement       0.26      0.29      0.28        31\n",
      "non_infringement       0.64      0.61      0.62        64\n",
      "\n",
      "        accuracy                           0.51        95\n",
      "       macro avg       0.45      0.45      0.45        95\n",
      "    weighted avg       0.52      0.51      0.51        95\n",
      "\n",
      "Epoch 1250/2000, Loss: 0.0002\n",
      "Test Accuracy at Epoch 1250: 50.53%\n",
      "Test F1-score at Epoch 1250: 0.6240\n",
      "Classification Report at Epoch 1250:\n",
      "                  precision    recall  f1-score   support\n",
      "\n",
      "    infringement       0.26      0.29      0.28        31\n",
      "non_infringement       0.64      0.61      0.62        64\n",
      "\n",
      "        accuracy                           0.51        95\n",
      "       macro avg       0.45      0.45      0.45        95\n",
      "    weighted avg       0.52      0.51      0.51        95\n",
      "\n"
     ]
    },
    {
     "name": "stderr",
     "output_type": "stream",
     "text": [
      "Training Epochs:  63%|██████▎   | 1262/2000 [00:38<00:11, 66.04it/s]"
     ]
    },
    {
     "name": "stdout",
     "output_type": "stream",
     "text": [
      "Epoch 1260/2000, Loss: 0.0002\n",
      "Test Accuracy at Epoch 1260: 50.53%\n",
      "Test F1-score at Epoch 1260: 0.6240\n",
      "Classification Report at Epoch 1260:\n",
      "                  precision    recall  f1-score   support\n",
      "\n",
      "    infringement       0.26      0.29      0.28        31\n",
      "non_infringement       0.64      0.61      0.62        64\n",
      "\n",
      "        accuracy                           0.51        95\n",
      "       macro avg       0.45      0.45      0.45        95\n",
      "    weighted avg       0.52      0.51      0.51        95\n",
      "\n"
     ]
    },
    {
     "name": "stderr",
     "output_type": "stream",
     "text": [
      "Training Epochs:  64%|██████▍   | 1283/2000 [00:40<00:33, 21.65it/s]"
     ]
    },
    {
     "name": "stdout",
     "output_type": "stream",
     "text": [
      "Epoch 1270/2000, Loss: 0.0002\n",
      "Test Accuracy at Epoch 1270: 50.53%\n",
      "Test F1-score at Epoch 1270: 0.6240\n",
      "Classification Report at Epoch 1270:\n",
      "                  precision    recall  f1-score   support\n",
      "\n",
      "    infringement       0.26      0.29      0.28        31\n",
      "non_infringement       0.64      0.61      0.62        64\n",
      "\n",
      "        accuracy                           0.51        95\n",
      "       macro avg       0.45      0.45      0.45        95\n",
      "    weighted avg       0.52      0.51      0.51        95\n",
      "\n",
      "Epoch 1280/2000, Loss: 0.0002\n",
      "Test Accuracy at Epoch 1280: 50.53%\n",
      "Test F1-score at Epoch 1280: 0.6240\n",
      "Classification Report at Epoch 1280:\n",
      "                  precision    recall  f1-score   support\n",
      "\n",
      "    infringement       0.26      0.29      0.28        31\n",
      "non_infringement       0.64      0.61      0.62        64\n",
      "\n",
      "        accuracy                           0.51        95\n",
      "       macro avg       0.45      0.45      0.45        95\n",
      "    weighted avg       0.52      0.51      0.51        95\n",
      "\n"
     ]
    },
    {
     "name": "stderr",
     "output_type": "stream",
     "text": [
      "Training Epochs:  65%|██████▍   | 1299/2000 [00:40<00:20, 35.02it/s]"
     ]
    },
    {
     "name": "stdout",
     "output_type": "stream",
     "text": [
      "Epoch 1290/2000, Loss: 0.0002\n",
      "Test Accuracy at Epoch 1290: 50.53%\n",
      "Test F1-score at Epoch 1290: 0.6240\n",
      "Classification Report at Epoch 1290:\n",
      "                  precision    recall  f1-score   support\n",
      "\n",
      "    infringement       0.26      0.29      0.28        31\n",
      "non_infringement       0.64      0.61      0.62        64\n",
      "\n",
      "        accuracy                           0.51        95\n",
      "       macro avg       0.45      0.45      0.45        95\n",
      "    weighted avg       0.52      0.51      0.51        95\n",
      "\n",
      "Epoch 1300/2000, Loss: 0.0002\n",
      "Test Accuracy at Epoch 1300: 50.53%\n",
      "Test F1-score at Epoch 1300: 0.6240\n",
      "Classification Report at Epoch 1300:\n",
      "                  precision    recall  f1-score   support\n",
      "\n",
      "    infringement       0.26      0.29      0.28        31\n",
      "non_infringement       0.64      0.61      0.62        64\n",
      "\n",
      "        accuracy                           0.51        95\n",
      "       macro avg       0.45      0.45      0.45        95\n",
      "    weighted avg       0.52      0.51      0.51        95\n",
      "\n"
     ]
    },
    {
     "name": "stderr",
     "output_type": "stream",
     "text": [
      "Training Epochs:  66%|██████▋   | 1325/2000 [00:40<00:13, 49.56it/s]"
     ]
    },
    {
     "name": "stdout",
     "output_type": "stream",
     "text": [
      "Epoch 1310/2000, Loss: 0.0002\n",
      "Test Accuracy at Epoch 1310: 50.53%\n",
      "Test F1-score at Epoch 1310: 0.6240\n",
      "Classification Report at Epoch 1310:\n",
      "                  precision    recall  f1-score   support\n",
      "\n",
      "    infringement       0.26      0.29      0.28        31\n",
      "non_infringement       0.64      0.61      0.62        64\n",
      "\n",
      "        accuracy                           0.51        95\n",
      "       macro avg       0.45      0.45      0.45        95\n",
      "    weighted avg       0.52      0.51      0.51        95\n",
      "\n",
      "Epoch 1320/2000, Loss: 0.0002\n",
      "Test Accuracy at Epoch 1320: 50.53%\n",
      "Test F1-score at Epoch 1320: 0.6240\n",
      "Classification Report at Epoch 1320:\n",
      "                  precision    recall  f1-score   support\n",
      "\n",
      "    infringement       0.26      0.29      0.28        31\n",
      "non_infringement       0.64      0.61      0.62        64\n",
      "\n",
      "        accuracy                           0.51        95\n",
      "       macro avg       0.45      0.45      0.45        95\n",
      "    weighted avg       0.52      0.51      0.51        95\n",
      "\n"
     ]
    },
    {
     "name": "stderr",
     "output_type": "stream",
     "text": [
      "Training Epochs:  67%|██████▋   | 1339/2000 [00:40<00:12, 54.17it/s]"
     ]
    },
    {
     "name": "stdout",
     "output_type": "stream",
     "text": [
      "Epoch 1330/2000, Loss: 0.0002\n",
      "Test Accuracy at Epoch 1330: 50.53%\n",
      "Test F1-score at Epoch 1330: 0.6240\n",
      "Classification Report at Epoch 1330:\n",
      "                  precision    recall  f1-score   support\n",
      "\n",
      "    infringement       0.26      0.29      0.28        31\n",
      "non_infringement       0.64      0.61      0.62        64\n",
      "\n",
      "        accuracy                           0.51        95\n",
      "       macro avg       0.45      0.45      0.45        95\n",
      "    weighted avg       0.52      0.51      0.51        95\n",
      "\n",
      "Epoch 1340/2000, Loss: 0.0002\n",
      "Test Accuracy at Epoch 1340: 50.53%\n",
      "Test F1-score at Epoch 1340: 0.6240\n",
      "Classification Report at Epoch 1340:\n",
      "                  precision    recall  f1-score   support\n",
      "\n",
      "    infringement       0.26      0.29      0.28        31\n",
      "non_infringement       0.64      0.61      0.62        64\n",
      "\n",
      "        accuracy                           0.51        95\n",
      "       macro avg       0.45      0.45      0.45        95\n",
      "    weighted avg       0.52      0.51      0.51        95\n",
      "\n"
     ]
    },
    {
     "name": "stderr",
     "output_type": "stream",
     "text": [
      "Training Epochs:  68%|██████▊   | 1363/2000 [00:41<00:11, 54.82it/s]"
     ]
    },
    {
     "name": "stdout",
     "output_type": "stream",
     "text": [
      "Epoch 1350/2000, Loss: 0.0002\n",
      "Test Accuracy at Epoch 1350: 50.53%\n",
      "Test F1-score at Epoch 1350: 0.6240\n",
      "Classification Report at Epoch 1350:\n",
      "                  precision    recall  f1-score   support\n",
      "\n",
      "    infringement       0.26      0.29      0.28        31\n",
      "non_infringement       0.64      0.61      0.62        64\n",
      "\n",
      "        accuracy                           0.51        95\n",
      "       macro avg       0.45      0.45      0.45        95\n",
      "    weighted avg       0.52      0.51      0.51        95\n",
      "\n",
      "Epoch 1360/2000, Loss: 0.0002\n",
      "Test Accuracy at Epoch 1360: 50.53%\n",
      "Test F1-score at Epoch 1360: 0.6240\n",
      "Classification Report at Epoch 1360:\n",
      "                  precision    recall  f1-score   support\n",
      "\n",
      "    infringement       0.26      0.29      0.28        31\n",
      "non_infringement       0.64      0.61      0.62        64\n",
      "\n",
      "        accuracy                           0.51        95\n",
      "       macro avg       0.45      0.45      0.45        95\n",
      "    weighted avg       0.52      0.51      0.51        95\n",
      "\n"
     ]
    },
    {
     "name": "stderr",
     "output_type": "stream",
     "text": [
      "Training Epochs:  69%|██████▉   | 1379/2000 [00:41<00:09, 63.85it/s]"
     ]
    },
    {
     "name": "stdout",
     "output_type": "stream",
     "text": [
      "Epoch 1370/2000, Loss: 0.0002\n",
      "Test Accuracy at Epoch 1370: 50.53%\n",
      "Test F1-score at Epoch 1370: 0.6240\n",
      "Classification Report at Epoch 1370:\n",
      "                  precision    recall  f1-score   support\n",
      "\n",
      "    infringement       0.26      0.29      0.28        31\n",
      "non_infringement       0.64      0.61      0.62        64\n",
      "\n",
      "        accuracy                           0.51        95\n",
      "       macro avg       0.45      0.45      0.45        95\n",
      "    weighted avg       0.52      0.51      0.51        95\n",
      "\n",
      "Epoch 1380/2000, Loss: 0.0002\n",
      "Test Accuracy at Epoch 1380: 50.53%\n",
      "Test F1-score at Epoch 1380: 0.6240\n",
      "Classification Report at Epoch 1380:\n",
      "                  precision    recall  f1-score   support\n",
      "\n",
      "    infringement       0.26      0.29      0.28        31\n",
      "non_infringement       0.64      0.61      0.62        64\n",
      "\n",
      "        accuracy                           0.51        95\n",
      "       macro avg       0.45      0.45      0.45        95\n",
      "    weighted avg       0.52      0.51      0.51        95\n",
      "\n"
     ]
    },
    {
     "name": "stderr",
     "output_type": "stream",
     "text": [
      "Training Epochs:  70%|██████▉   | 1394/2000 [00:41<00:12, 49.78it/s]"
     ]
    },
    {
     "name": "stdout",
     "output_type": "stream",
     "text": [
      "Epoch 1390/2000, Loss: 0.0002\n",
      "Test Accuracy at Epoch 1390: 50.53%\n",
      "Test F1-score at Epoch 1390: 0.6240\n",
      "Classification Report at Epoch 1390:\n",
      "                  precision    recall  f1-score   support\n",
      "\n",
      "    infringement       0.26      0.29      0.28        31\n",
      "non_infringement       0.64      0.61      0.62        64\n",
      "\n",
      "        accuracy                           0.51        95\n",
      "       macro avg       0.45      0.45      0.45        95\n",
      "    weighted avg       0.52      0.51      0.51        95\n",
      "\n"
     ]
    },
    {
     "name": "stderr",
     "output_type": "stream",
     "text": [
      "Training Epochs:  70%|███████   | 1408/2000 [00:42<00:10, 56.17it/s]"
     ]
    },
    {
     "name": "stdout",
     "output_type": "stream",
     "text": [
      "Epoch 1400/2000, Loss: 0.0002\n",
      "Test Accuracy at Epoch 1400: 50.53%\n",
      "Test F1-score at Epoch 1400: 0.6240\n",
      "Classification Report at Epoch 1400:\n",
      "                  precision    recall  f1-score   support\n",
      "\n",
      "    infringement       0.26      0.29      0.28        31\n",
      "non_infringement       0.64      0.61      0.62        64\n",
      "\n",
      "        accuracy                           0.51        95\n",
      "       macro avg       0.45      0.45      0.45        95\n",
      "    weighted avg       0.52      0.51      0.51        95\n",
      "\n",
      "Epoch 1410/2000, Loss: 0.0002\n",
      "Test Accuracy at Epoch 1410: 50.53%\n",
      "Test F1-score at Epoch 1410: 0.6240\n"
     ]
    },
    {
     "name": "stderr",
     "output_type": "stream",
     "text": [
      "Training Epochs:  71%|███████   | 1421/2000 [00:42<00:10, 53.81it/s]"
     ]
    },
    {
     "name": "stdout",
     "output_type": "stream",
     "text": [
      "Classification Report at Epoch 1410:\n",
      "                  precision    recall  f1-score   support\n",
      "\n",
      "    infringement       0.26      0.29      0.28        31\n",
      "non_infringement       0.64      0.61      0.62        64\n",
      "\n",
      "        accuracy                           0.51        95\n",
      "       macro avg       0.45      0.45      0.45        95\n",
      "    weighted avg       0.52      0.51      0.51        95\n",
      "\n",
      "Epoch 1420/2000, Loss: 0.0002\n",
      "Test Accuracy at Epoch 1420: 50.53%\n",
      "Test F1-score at Epoch 1420: 0.6240\n",
      "Classification Report at Epoch 1420:\n",
      "                  precision    recall  f1-score   support\n",
      "\n",
      "    infringement       0.26      0.29      0.28        31\n",
      "non_infringement       0.64      0.61      0.62        64\n",
      "\n",
      "        accuracy                           0.51        95\n",
      "       macro avg       0.45      0.45      0.45        95\n",
      "    weighted avg       0.52      0.51      0.51        95\n",
      "\n"
     ]
    },
    {
     "name": "stderr",
     "output_type": "stream",
     "text": [
      "Training Epochs:  72%|███████▏  | 1430/2000 [00:42<00:09, 59.58it/s]"
     ]
    },
    {
     "name": "stdout",
     "output_type": "stream",
     "text": [
      "Epoch 1430/2000, Loss: 0.0002\n",
      "Test Accuracy at Epoch 1430: 50.53%\n",
      "Test F1-score at Epoch 1430: 0.6240\n",
      "Classification Report at Epoch 1430:\n",
      "                  precision    recall  f1-score   support\n",
      "\n",
      "    infringement       0.26      0.29      0.28        31\n",
      "non_infringement       0.64      0.61      0.62        64\n",
      "\n",
      "        accuracy                           0.51        95\n",
      "       macro avg       0.45      0.45      0.45        95\n",
      "    weighted avg       0.52      0.51      0.51        95\n",
      "\n"
     ]
    },
    {
     "name": "stderr",
     "output_type": "stream",
     "text": [
      "Training Epochs:  72%|███████▏  | 1437/2000 [00:44<00:47, 11.79it/s]"
     ]
    },
    {
     "name": "stdout",
     "output_type": "stream",
     "text": [
      "Epoch 1440/2000, Loss: 0.0002\n",
      "Test Accuracy at Epoch 1440: 50.53%\n",
      "Test F1-score at Epoch 1440: 0.6240\n",
      "Classification Report at Epoch 1440:\n",
      "                  precision    recall  f1-score   support\n",
      "\n",
      "    infringement       0.26      0.29      0.28        31\n",
      "non_infringement       0.64      0.61      0.62        64\n",
      "\n",
      "        accuracy                           0.51        95\n",
      "       macro avg       0.45      0.45      0.45        95\n",
      "    weighted avg       0.52      0.51      0.51        95\n",
      "\n"
     ]
    },
    {
     "name": "stderr",
     "output_type": "stream",
     "text": [
      "Training Epochs:  72%|███████▏  | 1449/2000 [00:48<02:06,  4.36it/s]"
     ]
    },
    {
     "name": "stdout",
     "output_type": "stream",
     "text": [
      "Epoch 1450/2000, Loss: 0.0002\n",
      "Test Accuracy at Epoch 1450: 50.53%\n",
      "Test F1-score at Epoch 1450: 0.6240\n",
      "Classification Report at Epoch 1450:\n",
      "                  precision    recall  f1-score   support\n",
      "\n",
      "    infringement       0.26      0.29      0.28        31\n",
      "non_infringement       0.64      0.61      0.62        64\n",
      "\n",
      "        accuracy                           0.51        95\n",
      "       macro avg       0.45      0.45      0.45        95\n",
      "    weighted avg       0.52      0.51      0.51        95\n",
      "\n"
     ]
    },
    {
     "name": "stderr",
     "output_type": "stream",
     "text": [
      "Training Epochs:  73%|███████▎  | 1460/2000 [00:53<03:11,  2.83it/s]"
     ]
    },
    {
     "name": "stdout",
     "output_type": "stream",
     "text": [
      "Epoch 1460/2000, Loss: 0.0002\n",
      "Test Accuracy at Epoch 1460: 50.53%\n",
      "Test F1-score at Epoch 1460: 0.6240\n",
      "Classification Report at Epoch 1460:\n",
      "                  precision    recall  f1-score   support\n",
      "\n",
      "    infringement       0.26      0.29      0.28        31\n",
      "non_infringement       0.64      0.61      0.62        64\n",
      "\n",
      "        accuracy                           0.51        95\n",
      "       macro avg       0.45      0.45      0.45        95\n",
      "    weighted avg       0.52      0.51      0.51        95\n",
      "\n"
     ]
    },
    {
     "name": "stderr",
     "output_type": "stream",
     "text": [
      "Training Epochs:  74%|███████▎  | 1471/2000 [00:56<01:53,  4.64it/s]"
     ]
    },
    {
     "name": "stdout",
     "output_type": "stream",
     "text": [
      "Epoch 1470/2000, Loss: 0.0002\n",
      "Test Accuracy at Epoch 1470: 50.53%\n",
      "Test F1-score at Epoch 1470: 0.6240\n",
      "Classification Report at Epoch 1470:\n",
      "                  precision    recall  f1-score   support\n",
      "\n",
      "    infringement       0.26      0.29      0.28        31\n",
      "non_infringement       0.64      0.61      0.62        64\n",
      "\n",
      "        accuracy                           0.51        95\n",
      "       macro avg       0.45      0.45      0.45        95\n",
      "    weighted avg       0.52      0.51      0.51        95\n",
      "\n"
     ]
    },
    {
     "name": "stderr",
     "output_type": "stream",
     "text": [
      "Training Epochs:  74%|███████▍  | 1478/2000 [00:56<00:41, 12.45it/s]"
     ]
    },
    {
     "name": "stdout",
     "output_type": "stream",
     "text": [
      "Epoch 1480/2000, Loss: 0.0001\n",
      "Test Accuracy at Epoch 1480: 50.53%\n",
      "Test F1-score at Epoch 1480: 0.6240\n",
      "Classification Report at Epoch 1480:\n",
      "                  precision    recall  f1-score   support\n",
      "\n",
      "    infringement       0.26      0.29      0.28        31\n",
      "non_infringement       0.64      0.61      0.62        64\n",
      "\n",
      "        accuracy                           0.51        95\n",
      "       macro avg       0.45      0.45      0.45        95\n",
      "    weighted avg       0.52      0.51      0.51        95\n",
      "\n"
     ]
    },
    {
     "name": "stderr",
     "output_type": "stream",
     "text": [
      "Training Epochs:  75%|███████▌  | 1502/2000 [00:58<00:20, 24.05it/s]"
     ]
    },
    {
     "name": "stdout",
     "output_type": "stream",
     "text": [
      "Epoch 1490/2000, Loss: 0.0001\n",
      "Test Accuracy at Epoch 1490: 50.53%\n",
      "Test F1-score at Epoch 1490: 0.6240\n",
      "Classification Report at Epoch 1490:\n",
      "                  precision    recall  f1-score   support\n",
      "\n",
      "    infringement       0.26      0.29      0.28        31\n",
      "non_infringement       0.64      0.61      0.62        64\n",
      "\n",
      "        accuracy                           0.51        95\n",
      "       macro avg       0.45      0.45      0.45        95\n",
      "    weighted avg       0.52      0.51      0.51        95\n",
      "\n",
      "Epoch 1500/2000, Loss: 0.0001\n",
      "Test Accuracy at Epoch 1500: 50.53%\n",
      "Test F1-score at Epoch 1500: 0.6240\n",
      "Classification Report at Epoch 1500:\n",
      "                  precision    recall  f1-score   support\n",
      "\n",
      "    infringement       0.26      0.29      0.28        31\n",
      "non_infringement       0.64      0.61      0.62        64\n",
      "\n",
      "        accuracy                           0.51        95\n",
      "       macro avg       0.45      0.45      0.45        95\n",
      "    weighted avg       0.52      0.51      0.51        95\n",
      "\n"
     ]
    },
    {
     "name": "stderr",
     "output_type": "stream",
     "text": [
      "Training Epochs:  75%|███████▌  | 1507/2000 [00:59<00:47, 10.36it/s]"
     ]
    },
    {
     "name": "stdout",
     "output_type": "stream",
     "text": [
      "Epoch 1510/2000, Loss: 0.0001\n",
      "Test Accuracy at Epoch 1510: 50.53%\n",
      "Test F1-score at Epoch 1510: 0.6240\n",
      "Classification Report at Epoch 1510:\n",
      "                  precision    recall  f1-score   support\n",
      "\n",
      "    infringement       0.26      0.29      0.28        31\n",
      "non_infringement       0.64      0.61      0.62        64\n",
      "\n",
      "        accuracy                           0.51        95\n",
      "       macro avg       0.45      0.45      0.45        95\n",
      "    weighted avg       0.52      0.51      0.51        95\n",
      "\n"
     ]
    },
    {
     "name": "stderr",
     "output_type": "stream",
     "text": [
      "Training Epochs:  76%|███████▌  | 1520/2000 [01:04<02:18,  3.47it/s]"
     ]
    },
    {
     "name": "stdout",
     "output_type": "stream",
     "text": [
      "Epoch 1520/2000, Loss: 0.0001\n",
      "Test Accuracy at Epoch 1520: 50.53%\n",
      "Test F1-score at Epoch 1520: 0.6240\n",
      "Classification Report at Epoch 1520:\n",
      "                  precision    recall  f1-score   support\n",
      "\n",
      "    infringement       0.26      0.29      0.28        31\n",
      "non_infringement       0.64      0.61      0.62        64\n",
      "\n",
      "        accuracy                           0.51        95\n",
      "       macro avg       0.45      0.45      0.45        95\n",
      "    weighted avg       0.52      0.51      0.51        95\n",
      "\n"
     ]
    },
    {
     "name": "stderr",
     "output_type": "stream",
     "text": [
      "Training Epochs:  77%|███████▋  | 1539/2000 [01:06<00:25, 17.83it/s]"
     ]
    },
    {
     "name": "stdout",
     "output_type": "stream",
     "text": [
      "Epoch 1530/2000, Loss: 0.0001\n",
      "Test Accuracy at Epoch 1530: 50.53%\n",
      "Test F1-score at Epoch 1530: 0.6240\n",
      "Classification Report at Epoch 1530:\n",
      "                  precision    recall  f1-score   support\n",
      "\n",
      "    infringement       0.26      0.29      0.28        31\n",
      "non_infringement       0.64      0.61      0.62        64\n",
      "\n",
      "        accuracy                           0.51        95\n",
      "       macro avg       0.45      0.45      0.45        95\n",
      "    weighted avg       0.52      0.51      0.51        95\n",
      "\n",
      "Epoch 1540/2000, Loss: 0.0001\n",
      "Test Accuracy at Epoch 1540: 50.53%\n",
      "Test F1-score at Epoch 1540: 0.6240\n",
      "Classification Report at Epoch 1540:\n",
      "                  precision    recall  f1-score   support\n",
      "\n",
      "    infringement       0.26      0.29      0.28        31\n",
      "non_infringement       0.64      0.61      0.62        64\n",
      "\n",
      "        accuracy                           0.51        95\n",
      "       macro avg       0.45      0.45      0.45        95\n",
      "    weighted avg       0.52      0.51      0.51        95\n",
      "\n"
     ]
    },
    {
     "name": "stderr",
     "output_type": "stream",
     "text": [
      "Training Epochs:  78%|███████▊  | 1560/2000 [01:07<00:10, 41.90it/s]"
     ]
    },
    {
     "name": "stdout",
     "output_type": "stream",
     "text": [
      "Epoch 1550/2000, Loss: 0.0001\n",
      "Test Accuracy at Epoch 1550: 50.53%\n",
      "Test F1-score at Epoch 1550: 0.6240\n",
      "Classification Report at Epoch 1550:\n",
      "                  precision    recall  f1-score   support\n",
      "\n",
      "    infringement       0.26      0.29      0.28        31\n",
      "non_infringement       0.64      0.61      0.62        64\n",
      "\n",
      "        accuracy                           0.51        95\n",
      "       macro avg       0.45      0.45      0.45        95\n",
      "    weighted avg       0.52      0.51      0.51        95\n",
      "\n",
      "Epoch 1560/2000, Loss: 0.0001\n",
      "Test Accuracy at Epoch 1560: 50.53%\n",
      "Test F1-score at Epoch 1560: 0.6240\n",
      "Classification Report at Epoch 1560:\n",
      "                  precision    recall  f1-score   support\n",
      "\n",
      "    infringement       0.26      0.29      0.28        31\n",
      "non_infringement       0.64      0.61      0.62        64\n",
      "\n",
      "        accuracy                           0.51        95\n",
      "       macro avg       0.45      0.45      0.45        95\n",
      "    weighted avg       0.52      0.51      0.51        95\n",
      "\n"
     ]
    },
    {
     "name": "stderr",
     "output_type": "stream",
     "text": [
      "Training Epochs:  79%|███████▉  | 1576/2000 [01:07<00:08, 50.41it/s]"
     ]
    },
    {
     "name": "stdout",
     "output_type": "stream",
     "text": [
      "Epoch 1570/2000, Loss: 0.0001\n",
      "Test Accuracy at Epoch 1570: 50.53%\n",
      "Test F1-score at Epoch 1570: 0.6240\n",
      "Classification Report at Epoch 1570:\n",
      "                  precision    recall  f1-score   support\n",
      "\n",
      "    infringement       0.26      0.29      0.28        31\n",
      "non_infringement       0.64      0.61      0.62        64\n",
      "\n",
      "        accuracy                           0.51        95\n",
      "       macro avg       0.45      0.45      0.45        95\n",
      "    weighted avg       0.52      0.51      0.51        95\n",
      "\n",
      "Epoch 1580/2000, Loss: 0.0001\n",
      "Test Accuracy at Epoch 1580: 50.53%\n",
      "Test F1-score at Epoch 1580: 0.6240\n",
      "Classification Report at Epoch 1580:\n",
      "                  precision    recall  f1-score   support\n",
      "\n",
      "    infringement       0.26      0.29      0.28        31\n",
      "non_infringement       0.64      0.61      0.62        64\n",
      "\n",
      "        accuracy                           0.51        95\n",
      "       macro avg       0.45      0.45      0.45        95\n",
      "    weighted avg       0.52      0.51      0.51        95\n",
      "\n"
     ]
    },
    {
     "name": "stderr",
     "output_type": "stream",
     "text": [
      "Training Epochs:  80%|████████  | 1600/2000 [01:07<00:06, 62.72it/s]"
     ]
    },
    {
     "name": "stdout",
     "output_type": "stream",
     "text": [
      "Epoch 1590/2000, Loss: 0.0001\n",
      "Test Accuracy at Epoch 1590: 50.53%\n",
      "Test F1-score at Epoch 1590: 0.6240\n",
      "Classification Report at Epoch 1590:\n",
      "                  precision    recall  f1-score   support\n",
      "\n",
      "    infringement       0.26      0.29      0.28        31\n",
      "non_infringement       0.64      0.61      0.62        64\n",
      "\n",
      "        accuracy                           0.51        95\n",
      "       macro avg       0.45      0.45      0.45        95\n",
      "    weighted avg       0.52      0.51      0.51        95\n",
      "\n",
      "Epoch 1600/2000, Loss: 0.0001\n",
      "Test Accuracy at Epoch 1600: 50.53%\n",
      "Test F1-score at Epoch 1600: 0.6240\n",
      "Classification Report at Epoch 1600:\n",
      "                  precision    recall  f1-score   support\n",
      "\n",
      "    infringement       0.26      0.29      0.28        31\n",
      "non_infringement       0.64      0.61      0.62        64\n",
      "\n",
      "        accuracy                           0.51        95\n",
      "       macro avg       0.45      0.45      0.45        95\n",
      "    weighted avg       0.52      0.51      0.51        95\n",
      "\n"
     ]
    },
    {
     "name": "stderr",
     "output_type": "stream",
     "text": [
      "Training Epochs:  81%|████████  | 1619/2000 [01:07<00:05, 72.41it/s]"
     ]
    },
    {
     "name": "stdout",
     "output_type": "stream",
     "text": [
      "Epoch 1610/2000, Loss: 0.0001\n",
      "Test Accuracy at Epoch 1610: 50.53%\n",
      "Test F1-score at Epoch 1610: 0.6240\n",
      "Classification Report at Epoch 1610:\n",
      "                  precision    recall  f1-score   support\n",
      "\n",
      "    infringement       0.26      0.29      0.28        31\n",
      "non_infringement       0.64      0.61      0.62        64\n",
      "\n",
      "        accuracy                           0.51        95\n",
      "       macro avg       0.45      0.45      0.45        95\n",
      "    weighted avg       0.52      0.51      0.51        95\n",
      "\n",
      "Epoch 1620/2000, Loss: 0.0001\n",
      "Test Accuracy at Epoch 1620: 50.53%\n",
      "Test F1-score at Epoch 1620: 0.6240\n",
      "Classification Report at Epoch 1620:\n",
      "                  precision    recall  f1-score   support\n",
      "\n",
      "    infringement       0.26      0.29      0.28        31\n",
      "non_infringement       0.64      0.61      0.62        64\n",
      "\n",
      "        accuracy                           0.51        95\n",
      "       macro avg       0.45      0.45      0.45        95\n",
      "    weighted avg       0.52      0.51      0.51        95\n",
      "\n"
     ]
    },
    {
     "name": "stderr",
     "output_type": "stream",
     "text": [
      "Training Epochs:  82%|████████▏ | 1635/2000 [01:08<00:05, 63.25it/s]"
     ]
    },
    {
     "name": "stdout",
     "output_type": "stream",
     "text": [
      "Epoch 1630/2000, Loss: 0.0001\n",
      "Test Accuracy at Epoch 1630: 50.53%\n",
      "Test F1-score at Epoch 1630: 0.6240\n",
      "Classification Report at Epoch 1630:\n",
      "                  precision    recall  f1-score   support\n",
      "\n",
      "    infringement       0.26      0.29      0.28        31\n",
      "non_infringement       0.64      0.61      0.62        64\n",
      "\n",
      "        accuracy                           0.51        95\n",
      "       macro avg       0.45      0.45      0.45        95\n",
      "    weighted avg       0.52      0.51      0.51        95\n",
      "\n",
      "Epoch 1640/2000, Loss: 0.0001\n",
      "Test Accuracy at Epoch 1640: 50.53%\n",
      "Test F1-score at Epoch 1640: 0.6240\n",
      "Classification Report at Epoch 1640:\n",
      "                  precision    recall  f1-score   support\n",
      "\n",
      "    infringement       0.26      0.29      0.28        31\n",
      "non_infringement       0.64      0.61      0.62        64\n",
      "\n",
      "        accuracy                           0.51        95\n",
      "       macro avg       0.45      0.45      0.45        95\n",
      "    weighted avg       0.52      0.51      0.51        95\n",
      "\n"
     ]
    },
    {
     "name": "stderr",
     "output_type": "stream",
     "text": [
      "Training Epochs:  83%|████████▎ | 1657/2000 [01:08<00:06, 54.34it/s]"
     ]
    },
    {
     "name": "stdout",
     "output_type": "stream",
     "text": [
      "Epoch 1650/2000, Loss: 0.0001\n",
      "Test Accuracy at Epoch 1650: 50.53%\n",
      "Test F1-score at Epoch 1650: 0.6240\n",
      "Classification Report at Epoch 1650:\n",
      "                  precision    recall  f1-score   support\n",
      "\n",
      "    infringement       0.26      0.29      0.28        31\n",
      "non_infringement       0.64      0.61      0.62        64\n",
      "\n",
      "        accuracy                           0.51        95\n",
      "       macro avg       0.45      0.45      0.45        95\n",
      "    weighted avg       0.52      0.51      0.51        95\n",
      "\n"
     ]
    },
    {
     "name": "stderr",
     "output_type": "stream",
     "text": [
      "Training Epochs:  84%|████████▎ | 1671/2000 [01:08<00:05, 59.01it/s]"
     ]
    },
    {
     "name": "stdout",
     "output_type": "stream",
     "text": [
      "Epoch 1660/2000, Loss: 0.0001\n",
      "Test Accuracy at Epoch 1660: 50.53%\n",
      "Test F1-score at Epoch 1660: 0.6240\n",
      "Classification Report at Epoch 1660:\n",
      "                  precision    recall  f1-score   support\n",
      "\n",
      "    infringement       0.26      0.29      0.28        31\n",
      "non_infringement       0.64      0.61      0.62        64\n",
      "\n",
      "        accuracy                           0.51        95\n",
      "       macro avg       0.45      0.45      0.45        95\n",
      "    weighted avg       0.52      0.51      0.51        95\n",
      "\n",
      "Epoch 1670/2000, Loss: 0.0001\n",
      "Test Accuracy at Epoch 1670: 50.53%\n",
      "Test F1-score at Epoch 1670: 0.6240\n",
      "Classification Report at Epoch 1670:\n",
      "                  precision    recall  f1-score   support\n",
      "\n",
      "    infringement       0.26      0.29      0.28        31\n",
      "non_infringement       0.64      0.61      0.62        64\n",
      "\n",
      "        accuracy                           0.51        95\n",
      "       macro avg       0.45      0.45      0.45        95\n",
      "    weighted avg       0.52      0.51      0.51        95\n",
      "\n"
     ]
    },
    {
     "name": "stderr",
     "output_type": "stream",
     "text": [
      "Training Epochs:  85%|████████▍ | 1695/2000 [01:09<00:04, 69.54it/s]"
     ]
    },
    {
     "name": "stdout",
     "output_type": "stream",
     "text": [
      "Epoch 1680/2000, Loss: 0.0001\n",
      "Test Accuracy at Epoch 1680: 50.53%\n",
      "Test F1-score at Epoch 1680: 0.6240\n",
      "Classification Report at Epoch 1680:\n",
      "                  precision    recall  f1-score   support\n",
      "\n",
      "    infringement       0.26      0.29      0.28        31\n",
      "non_infringement       0.64      0.61      0.62        64\n",
      "\n",
      "        accuracy                           0.51        95\n",
      "       macro avg       0.45      0.45      0.45        95\n",
      "    weighted avg       0.52      0.51      0.51        95\n",
      "\n",
      "Epoch 1690/2000, Loss: 0.0001\n",
      "Test Accuracy at Epoch 1690: 50.53%\n",
      "Test F1-score at Epoch 1690: 0.6240\n",
      "Classification Report at Epoch 1690:\n",
      "                  precision    recall  f1-score   support\n",
      "\n",
      "    infringement       0.26      0.29      0.28        31\n",
      "non_infringement       0.64      0.61      0.62        64\n",
      "\n",
      "        accuracy                           0.51        95\n",
      "       macro avg       0.45      0.45      0.45        95\n",
      "    weighted avg       0.52      0.51      0.51        95\n",
      "\n"
     ]
    },
    {
     "name": "stderr",
     "output_type": "stream",
     "text": [
      "Training Epochs:  85%|████████▌ | 1703/2000 [01:09<00:04, 62.04it/s]"
     ]
    },
    {
     "name": "stdout",
     "output_type": "stream",
     "text": [
      "Epoch 1700/2000, Loss: 0.0001\n",
      "Test Accuracy at Epoch 1700: 50.53%\n",
      "Test F1-score at Epoch 1700: 0.6240\n",
      "Classification Report at Epoch 1700:\n",
      "                  precision    recall  f1-score   support\n",
      "\n",
      "    infringement       0.26      0.29      0.28        31\n",
      "non_infringement       0.64      0.61      0.62        64\n",
      "\n",
      "        accuracy                           0.51        95\n",
      "       macro avg       0.45      0.45      0.45        95\n",
      "    weighted avg       0.52      0.51      0.51        95\n",
      "\n",
      "Epoch 1710/2000, Loss: 0.0001\n"
     ]
    },
    {
     "name": "stderr",
     "output_type": "stream",
     "text": [
      "Training Epochs:  86%|████████▌ | 1718/2000 [01:09<00:04, 60.59it/s]"
     ]
    },
    {
     "name": "stdout",
     "output_type": "stream",
     "text": [
      "Test Accuracy at Epoch 1710: 50.53%\n",
      "Test F1-score at Epoch 1710: 0.6240\n",
      "Classification Report at Epoch 1710:\n",
      "                  precision    recall  f1-score   support\n",
      "\n",
      "    infringement       0.26      0.29      0.28        31\n",
      "non_infringement       0.64      0.61      0.62        64\n",
      "\n",
      "        accuracy                           0.51        95\n",
      "       macro avg       0.45      0.45      0.45        95\n",
      "    weighted avg       0.52      0.51      0.51        95\n",
      "\n",
      "Epoch 1720/2000, Loss: 0.0001\n",
      "Test Accuracy at Epoch 1720: 50.53%\n",
      "Test F1-score at Epoch 1720: 0.6240\n",
      "Classification Report at Epoch 1720:\n",
      "                  precision    recall  f1-score   support\n",
      "\n",
      "    infringement       0.26      0.29      0.28        31\n",
      "non_infringement       0.64      0.61      0.62        64\n",
      "\n",
      "        accuracy                           0.51        95\n",
      "       macro avg       0.45      0.45      0.45        95\n",
      "    weighted avg       0.52      0.51      0.51        95\n",
      "\n"
     ]
    },
    {
     "name": "stderr",
     "output_type": "stream",
     "text": [
      "Training Epochs:  87%|████████▋ | 1741/2000 [01:09<00:04, 63.82it/s]"
     ]
    },
    {
     "name": "stdout",
     "output_type": "stream",
     "text": [
      "Epoch 1730/2000, Loss: 0.0001\n",
      "Test Accuracy at Epoch 1730: 50.53%\n",
      "Test F1-score at Epoch 1730: 0.6240\n",
      "Classification Report at Epoch 1730:\n",
      "                  precision    recall  f1-score   support\n",
      "\n",
      "    infringement       0.26      0.29      0.28        31\n",
      "non_infringement       0.64      0.61      0.62        64\n",
      "\n",
      "        accuracy                           0.51        95\n",
      "       macro avg       0.45      0.45      0.45        95\n",
      "    weighted avg       0.52      0.51      0.51        95\n",
      "\n",
      "Epoch 1740/2000, Loss: 0.0001\n",
      "Test Accuracy at Epoch 1740: 50.53%\n",
      "Test F1-score at Epoch 1740: 0.6240\n",
      "Classification Report at Epoch 1740:\n",
      "                  precision    recall  f1-score   support\n",
      "\n",
      "    infringement       0.26      0.29      0.28        31\n",
      "non_infringement       0.64      0.61      0.62        64\n",
      "\n",
      "        accuracy                           0.51        95\n",
      "       macro avg       0.45      0.45      0.45        95\n",
      "    weighted avg       0.52      0.51      0.51        95\n",
      "\n"
     ]
    },
    {
     "name": "stderr",
     "output_type": "stream",
     "text": [
      "Training Epochs:  88%|████████▊ | 1758/2000 [01:10<00:03, 69.71it/s]"
     ]
    },
    {
     "name": "stdout",
     "output_type": "stream",
     "text": [
      "Epoch 1750/2000, Loss: 0.0001\n",
      "Test Accuracy at Epoch 1750: 50.53%\n",
      "Test F1-score at Epoch 1750: 0.6240\n",
      "Classification Report at Epoch 1750:\n",
      "                  precision    recall  f1-score   support\n",
      "\n",
      "    infringement       0.26      0.29      0.28        31\n",
      "non_infringement       0.64      0.61      0.62        64\n",
      "\n",
      "        accuracy                           0.51        95\n",
      "       macro avg       0.45      0.45      0.45        95\n",
      "    weighted avg       0.52      0.51      0.51        95\n",
      "\n",
      "Epoch 1760/2000, Loss: 0.0001\n",
      "Test Accuracy at Epoch 1760: 50.53%\n",
      "Test F1-score at Epoch 1760: 0.6240\n",
      "Classification Report at Epoch 1760:\n",
      "                  precision    recall  f1-score   support\n",
      "\n",
      "    infringement       0.26      0.29      0.28        31\n",
      "non_infringement       0.64      0.61      0.62        64\n",
      "\n",
      "        accuracy                           0.51        95\n",
      "       macro avg       0.45      0.45      0.45        95\n",
      "    weighted avg       0.52      0.51      0.51        95\n",
      "\n"
     ]
    },
    {
     "name": "stderr",
     "output_type": "stream",
     "text": [
      "Training Epochs:  89%|████████▉ | 1783/2000 [01:10<00:02, 73.51it/s]"
     ]
    },
    {
     "name": "stdout",
     "output_type": "stream",
     "text": [
      "Epoch 1770/2000, Loss: 0.0001\n",
      "Test Accuracy at Epoch 1770: 50.53%\n",
      "Test F1-score at Epoch 1770: 0.6240\n",
      "Classification Report at Epoch 1770:\n",
      "                  precision    recall  f1-score   support\n",
      "\n",
      "    infringement       0.26      0.29      0.28        31\n",
      "non_infringement       0.64      0.61      0.62        64\n",
      "\n",
      "        accuracy                           0.51        95\n",
      "       macro avg       0.45      0.45      0.45        95\n",
      "    weighted avg       0.52      0.51      0.51        95\n",
      "\n",
      "Epoch 1780/2000, Loss: 0.0001\n",
      "Test Accuracy at Epoch 1780: 50.53%\n",
      "Test F1-score at Epoch 1780: 0.6240\n",
      "Classification Report at Epoch 1780:\n",
      "                  precision    recall  f1-score   support\n",
      "\n",
      "    infringement       0.26      0.29      0.28        31\n",
      "non_infringement       0.64      0.61      0.62        64\n",
      "\n",
      "        accuracy                           0.51        95\n",
      "       macro avg       0.45      0.45      0.45        95\n",
      "    weighted avg       0.52      0.51      0.51        95\n",
      "\n"
     ]
    },
    {
     "name": "stderr",
     "output_type": "stream",
     "text": [
      "Training Epochs:  90%|█████████ | 1800/2000 [01:10<00:02, 76.30it/s]"
     ]
    },
    {
     "name": "stdout",
     "output_type": "stream",
     "text": [
      "Epoch 1790/2000, Loss: 0.0001\n",
      "Test Accuracy at Epoch 1790: 50.53%\n",
      "Test F1-score at Epoch 1790: 0.6240\n",
      "Classification Report at Epoch 1790:\n",
      "                  precision    recall  f1-score   support\n",
      "\n",
      "    infringement       0.26      0.29      0.28        31\n",
      "non_infringement       0.64      0.61      0.62        64\n",
      "\n",
      "        accuracy                           0.51        95\n",
      "       macro avg       0.45      0.45      0.45        95\n",
      "    weighted avg       0.52      0.51      0.51        95\n",
      "\n",
      "Epoch 1800/2000, Loss: 0.0001\n",
      "Test Accuracy at Epoch 1800: 50.53%\n",
      "Test F1-score at Epoch 1800: 0.6240\n",
      "Classification Report at Epoch 1800:\n",
      "                  precision    recall  f1-score   support\n",
      "\n",
      "    infringement       0.26      0.29      0.28        31\n",
      "non_infringement       0.64      0.61      0.62        64\n",
      "\n",
      "        accuracy                           0.51        95\n",
      "       macro avg       0.45      0.45      0.45        95\n",
      "    weighted avg       0.52      0.51      0.51        95\n",
      "\n"
     ]
    },
    {
     "name": "stderr",
     "output_type": "stream",
     "text": [
      "Training Epochs:  91%|█████████ | 1824/2000 [01:11<00:02, 74.29it/s]"
     ]
    },
    {
     "name": "stdout",
     "output_type": "stream",
     "text": [
      "Epoch 1810/2000, Loss: 0.0001\n",
      "Test Accuracy at Epoch 1810: 50.53%\n",
      "Test F1-score at Epoch 1810: 0.6240\n",
      "Classification Report at Epoch 1810:\n",
      "                  precision    recall  f1-score   support\n",
      "\n",
      "    infringement       0.26      0.29      0.28        31\n",
      "non_infringement       0.64      0.61      0.62        64\n",
      "\n",
      "        accuracy                           0.51        95\n",
      "       macro avg       0.45      0.45      0.45        95\n",
      "    weighted avg       0.52      0.51      0.51        95\n",
      "\n",
      "Epoch 1820/2000, Loss: 0.0001\n",
      "Test Accuracy at Epoch 1820: 50.53%\n",
      "Test F1-score at Epoch 1820: 0.6240\n",
      "Classification Report at Epoch 1820:\n",
      "                  precision    recall  f1-score   support\n",
      "\n",
      "    infringement       0.26      0.29      0.28        31\n",
      "non_infringement       0.64      0.61      0.62        64\n",
      "\n",
      "        accuracy                           0.51        95\n",
      "       macro avg       0.45      0.45      0.45        95\n",
      "    weighted avg       0.52      0.51      0.51        95\n",
      "\n"
     ]
    },
    {
     "name": "stderr",
     "output_type": "stream",
     "text": [
      "Training Epochs:  92%|█████████▏| 1840/2000 [01:11<00:02, 74.27it/s]"
     ]
    },
    {
     "name": "stdout",
     "output_type": "stream",
     "text": [
      "Epoch 1830/2000, Loss: 0.0001\n",
      "Test Accuracy at Epoch 1830: 50.53%\n",
      "Test F1-score at Epoch 1830: 0.6240\n",
      "Classification Report at Epoch 1830:\n",
      "                  precision    recall  f1-score   support\n",
      "\n",
      "    infringement       0.26      0.29      0.28        31\n",
      "non_infringement       0.64      0.61      0.62        64\n",
      "\n",
      "        accuracy                           0.51        95\n",
      "       macro avg       0.45      0.45      0.45        95\n",
      "    weighted avg       0.52      0.51      0.51        95\n",
      "\n",
      "Epoch 1840/2000, Loss: 0.0001\n",
      "Test Accuracy at Epoch 1840: 50.53%\n",
      "Test F1-score at Epoch 1840: 0.6240\n",
      "Classification Report at Epoch 1840:\n",
      "                  precision    recall  f1-score   support\n",
      "\n",
      "    infringement       0.26      0.29      0.28        31\n",
      "non_infringement       0.64      0.61      0.62        64\n",
      "\n",
      "        accuracy                           0.51        95\n",
      "       macro avg       0.45      0.45      0.45        95\n",
      "    weighted avg       0.52      0.51      0.51        95\n",
      "\n"
     ]
    },
    {
     "name": "stderr",
     "output_type": "stream",
     "text": [
      "Training Epochs:  93%|█████████▎| 1857/2000 [01:11<00:01, 72.21it/s]"
     ]
    },
    {
     "name": "stdout",
     "output_type": "stream",
     "text": [
      "Epoch 1850/2000, Loss: 0.0001\n",
      "Test Accuracy at Epoch 1850: 50.53%\n",
      "Test F1-score at Epoch 1850: 0.6240\n",
      "Classification Report at Epoch 1850:\n",
      "                  precision    recall  f1-score   support\n",
      "\n",
      "    infringement       0.26      0.29      0.28        31\n",
      "non_infringement       0.64      0.61      0.62        64\n",
      "\n",
      "        accuracy                           0.51        95\n",
      "       macro avg       0.45      0.45      0.45        95\n",
      "    weighted avg       0.52      0.51      0.51        95\n",
      "\n",
      "Epoch 1860/2000, Loss: 0.0001\n",
      "Test Accuracy at Epoch 1860: 50.53%\n",
      "Test F1-score at Epoch 1860: 0.6240\n",
      "Classification Report at Epoch 1860:\n",
      "                  precision    recall  f1-score   support\n",
      "\n",
      "    infringement       0.26      0.29      0.28        31\n",
      "non_infringement       0.64      0.61      0.62        64\n",
      "\n",
      "        accuracy                           0.51        95\n",
      "       macro avg       0.45      0.45      0.45        95\n",
      "    weighted avg       0.52      0.51      0.51        95\n",
      "\n"
     ]
    },
    {
     "name": "stderr",
     "output_type": "stream",
     "text": [
      "Training Epochs:  94%|█████████▍| 1881/2000 [01:11<00:01, 66.61it/s]"
     ]
    },
    {
     "name": "stdout",
     "output_type": "stream",
     "text": [
      "Epoch 1870/2000, Loss: 0.0001\n",
      "Test Accuracy at Epoch 1870: 50.53%\n",
      "Test F1-score at Epoch 1870: 0.6240\n",
      "Classification Report at Epoch 1870:\n",
      "                  precision    recall  f1-score   support\n",
      "\n",
      "    infringement       0.26      0.29      0.28        31\n",
      "non_infringement       0.64      0.61      0.62        64\n",
      "\n",
      "        accuracy                           0.51        95\n",
      "       macro avg       0.45      0.45      0.45        95\n",
      "    weighted avg       0.52      0.51      0.51        95\n",
      "\n",
      "Epoch 1880/2000, Loss: 0.0001\n",
      "Test Accuracy at Epoch 1880: 50.53%\n",
      "Test F1-score at Epoch 1880: 0.6240\n",
      "Classification Report at Epoch 1880:\n",
      "                  precision    recall  f1-score   support\n",
      "\n",
      "    infringement       0.26      0.29      0.28        31\n",
      "non_infringement       0.64      0.61      0.62        64\n",
      "\n",
      "        accuracy                           0.51        95\n",
      "       macro avg       0.45      0.45      0.45        95\n",
      "    weighted avg       0.52      0.51      0.51        95\n",
      "\n"
     ]
    },
    {
     "name": "stderr",
     "output_type": "stream",
     "text": [
      "Training Epochs:  94%|█████████▍| 1888/2000 [01:14<00:10, 10.49it/s]"
     ]
    },
    {
     "name": "stdout",
     "output_type": "stream",
     "text": [
      "Epoch 1890/2000, Loss: 0.0001\n",
      "Test Accuracy at Epoch 1890: 50.53%\n",
      "Test F1-score at Epoch 1890: 0.6240\n",
      "Classification Report at Epoch 1890:\n",
      "                  precision    recall  f1-score   support\n",
      "\n",
      "    infringement       0.26      0.29      0.28        31\n",
      "non_infringement       0.64      0.61      0.62        64\n",
      "\n",
      "        accuracy                           0.51        95\n",
      "       macro avg       0.45      0.45      0.45        95\n",
      "    weighted avg       0.52      0.51      0.51        95\n",
      "\n"
     ]
    },
    {
     "name": "stderr",
     "output_type": "stream",
     "text": [
      "Training Epochs:  95%|█████████▌| 1900/2000 [01:18<00:23,  4.30it/s]"
     ]
    },
    {
     "name": "stdout",
     "output_type": "stream",
     "text": [
      "Epoch 1900/2000, Loss: 0.0001\n",
      "Test Accuracy at Epoch 1900: 50.53%\n",
      "Test F1-score at Epoch 1900: 0.6240\n",
      "Classification Report at Epoch 1900:\n",
      "                  precision    recall  f1-score   support\n",
      "\n",
      "    infringement       0.26      0.29      0.28        31\n",
      "non_infringement       0.64      0.61      0.62        64\n",
      "\n",
      "        accuracy                           0.51        95\n",
      "       macro avg       0.45      0.45      0.45        95\n",
      "    weighted avg       0.52      0.51      0.51        95\n",
      "\n"
     ]
    },
    {
     "name": "stderr",
     "output_type": "stream",
     "text": [
      "Training Epochs:  96%|█████████▌| 1910/2000 [01:22<00:30,  2.93it/s]"
     ]
    },
    {
     "name": "stdout",
     "output_type": "stream",
     "text": [
      "Epoch 1910/2000, Loss: 0.0001\n",
      "Test Accuracy at Epoch 1910: 50.53%\n",
      "Test F1-score at Epoch 1910: 0.6240\n",
      "Classification Report at Epoch 1910:\n",
      "                  precision    recall  f1-score   support\n",
      "\n",
      "    infringement       0.26      0.29      0.28        31\n",
      "non_infringement       0.64      0.61      0.62        64\n",
      "\n",
      "        accuracy                           0.51        95\n",
      "       macro avg       0.45      0.45      0.45        95\n",
      "    weighted avg       0.52      0.51      0.51        95\n",
      "\n"
     ]
    },
    {
     "name": "stderr",
     "output_type": "stream",
     "text": [
      "Training Epochs:  96%|█████████▌| 1920/2000 [01:26<00:30,  2.60it/s]"
     ]
    },
    {
     "name": "stdout",
     "output_type": "stream",
     "text": [
      "Epoch 1920/2000, Loss: 0.0001\n",
      "Test Accuracy at Epoch 1920: 50.53%\n",
      "Test F1-score at Epoch 1920: 0.6240\n",
      "Classification Report at Epoch 1920:\n",
      "                  precision    recall  f1-score   support\n",
      "\n",
      "    infringement       0.26      0.29      0.28        31\n",
      "non_infringement       0.64      0.61      0.62        64\n",
      "\n",
      "        accuracy                           0.51        95\n",
      "       macro avg       0.45      0.45      0.45        95\n",
      "    weighted avg       0.52      0.51      0.51        95\n",
      "\n"
     ]
    },
    {
     "name": "stderr",
     "output_type": "stream",
     "text": [
      "Training Epochs:  96%|█████████▋| 1930/2000 [01:29<00:27,  2.59it/s]"
     ]
    },
    {
     "name": "stdout",
     "output_type": "stream",
     "text": [
      "Epoch 1930/2000, Loss: 0.0001\n",
      "Test Accuracy at Epoch 1930: 50.53%\n",
      "Test F1-score at Epoch 1930: 0.6240\n",
      "Classification Report at Epoch 1930:\n",
      "                  precision    recall  f1-score   support\n",
      "\n",
      "    infringement       0.26      0.29      0.28        31\n",
      "non_infringement       0.64      0.61      0.62        64\n",
      "\n",
      "        accuracy                           0.51        95\n",
      "       macro avg       0.45      0.45      0.45        95\n",
      "    weighted avg       0.52      0.51      0.51        95\n",
      "\n"
     ]
    },
    {
     "name": "stderr",
     "output_type": "stream",
     "text": [
      "Training Epochs:  97%|█████████▋| 1940/2000 [01:33<00:23,  2.58it/s]"
     ]
    },
    {
     "name": "stdout",
     "output_type": "stream",
     "text": [
      "Epoch 1940/2000, Loss: 0.0001\n",
      "Test Accuracy at Epoch 1940: 50.53%\n",
      "Test F1-score at Epoch 1940: 0.6240\n",
      "Classification Report at Epoch 1940:\n",
      "                  precision    recall  f1-score   support\n",
      "\n",
      "    infringement       0.26      0.29      0.28        31\n",
      "non_infringement       0.64      0.61      0.62        64\n",
      "\n",
      "        accuracy                           0.51        95\n",
      "       macro avg       0.45      0.45      0.45        95\n",
      "    weighted avg       0.52      0.51      0.51        95\n",
      "\n"
     ]
    },
    {
     "name": "stderr",
     "output_type": "stream",
     "text": [
      "Training Epochs:  98%|█████████▊| 1950/2000 [01:37<00:19,  2.60it/s]"
     ]
    },
    {
     "name": "stdout",
     "output_type": "stream",
     "text": [
      "Epoch 1950/2000, Loss: 0.0001\n",
      "Test Accuracy at Epoch 1950: 50.53%\n",
      "Test F1-score at Epoch 1950: 0.6240\n",
      "Classification Report at Epoch 1950:\n",
      "                  precision    recall  f1-score   support\n",
      "\n",
      "    infringement       0.26      0.29      0.28        31\n",
      "non_infringement       0.64      0.61      0.62        64\n",
      "\n",
      "        accuracy                           0.51        95\n",
      "       macro avg       0.45      0.45      0.45        95\n",
      "    weighted avg       0.52      0.51      0.51        95\n",
      "\n"
     ]
    },
    {
     "name": "stderr",
     "output_type": "stream",
     "text": [
      "Training Epochs:  98%|█████████▊| 1960/2000 [01:41<00:15,  2.59it/s]"
     ]
    },
    {
     "name": "stdout",
     "output_type": "stream",
     "text": [
      "Epoch 1960/2000, Loss: 0.0001\n",
      "Test Accuracy at Epoch 1960: 50.53%\n",
      "Test F1-score at Epoch 1960: 0.6240\n",
      "Classification Report at Epoch 1960:\n",
      "                  precision    recall  f1-score   support\n",
      "\n",
      "    infringement       0.26      0.29      0.28        31\n",
      "non_infringement       0.64      0.61      0.62        64\n",
      "\n",
      "        accuracy                           0.51        95\n",
      "       macro avg       0.45      0.45      0.45        95\n",
      "    weighted avg       0.52      0.51      0.51        95\n",
      "\n"
     ]
    },
    {
     "name": "stderr",
     "output_type": "stream",
     "text": [
      "Training Epochs:  98%|█████████▊| 1970/2000 [01:45<00:11,  2.56it/s]"
     ]
    },
    {
     "name": "stdout",
     "output_type": "stream",
     "text": [
      "Epoch 1970/2000, Loss: 0.0001\n",
      "Test Accuracy at Epoch 1970: 50.53%\n",
      "Test F1-score at Epoch 1970: 0.6240\n",
      "Classification Report at Epoch 1970:\n",
      "                  precision    recall  f1-score   support\n",
      "\n",
      "    infringement       0.26      0.29      0.28        31\n",
      "non_infringement       0.64      0.61      0.62        64\n",
      "\n",
      "        accuracy                           0.51        95\n",
      "       macro avg       0.45      0.45      0.45        95\n",
      "    weighted avg       0.52      0.51      0.51        95\n",
      "\n"
     ]
    },
    {
     "name": "stderr",
     "output_type": "stream",
     "text": [
      "Training Epochs:  99%|█████████▉| 1980/2000 [01:49<00:07,  2.50it/s]"
     ]
    },
    {
     "name": "stdout",
     "output_type": "stream",
     "text": [
      "Epoch 1980/2000, Loss: 0.0001\n",
      "Test Accuracy at Epoch 1980: 50.53%\n",
      "Test F1-score at Epoch 1980: 0.6240\n",
      "Classification Report at Epoch 1980:\n",
      "                  precision    recall  f1-score   support\n",
      "\n",
      "    infringement       0.26      0.29      0.28        31\n",
      "non_infringement       0.64      0.61      0.62        64\n",
      "\n",
      "        accuracy                           0.51        95\n",
      "       macro avg       0.45      0.45      0.45        95\n",
      "    weighted avg       0.52      0.51      0.51        95\n",
      "\n"
     ]
    },
    {
     "name": "stderr",
     "output_type": "stream",
     "text": [
      "Training Epochs: 100%|█████████▉| 1990/2000 [01:52<00:03,  2.57it/s]"
     ]
    },
    {
     "name": "stdout",
     "output_type": "stream",
     "text": [
      "Epoch 1990/2000, Loss: 0.0001\n",
      "Test Accuracy at Epoch 1990: 50.53%\n",
      "Test F1-score at Epoch 1990: 0.6240\n",
      "Classification Report at Epoch 1990:\n",
      "                  precision    recall  f1-score   support\n",
      "\n",
      "    infringement       0.26      0.29      0.28        31\n",
      "non_infringement       0.64      0.61      0.62        64\n",
      "\n",
      "        accuracy                           0.51        95\n",
      "       macro avg       0.45      0.45      0.45        95\n",
      "    weighted avg       0.52      0.51      0.51        95\n",
      "\n"
     ]
    },
    {
     "name": "stderr",
     "output_type": "stream",
     "text": [
      "Training Epochs: 100%|██████████| 2000/2000 [01:56<00:00, 17.14it/s]"
     ]
    },
    {
     "name": "stdout",
     "output_type": "stream",
     "text": [
      "Epoch 2000/2000, Loss: 0.0001\n",
      "Test Accuracy at Epoch 2000: 50.53%\n",
      "Test F1-score at Epoch 2000: 0.6240\n",
      "Classification Report at Epoch 2000:\n",
      "                  precision    recall  f1-score   support\n",
      "\n",
      "    infringement       0.26      0.29      0.28        31\n",
      "non_infringement       0.64      0.61      0.62        64\n",
      "\n",
      "        accuracy                           0.51        95\n",
      "       macro avg       0.45      0.45      0.45        95\n",
      "    weighted avg       0.52      0.51      0.51        95\n",
      "\n"
     ]
    },
    {
     "name": "stderr",
     "output_type": "stream",
     "text": [
      "\n",
      "/tmp/ipykernel_663193/2033666368.py:59: FutureWarning: You are using `torch.load` with `weights_only=False` (the current default value), which uses the default pickle module implicitly. It is possible to construct malicious pickle data which will execute arbitrary code during unpickling (See https://github.com/pytorch/pytorch/blob/main/SECURITY.md#untrusted-models for more details). In a future release, the default value for `weights_only` will be flipped to `True`. This limits the functions that could be executed during unpickling. Arbitrary objects will no longer be allowed to be loaded via this mode unless they are explicitly allowlisted by the user via `torch.serialization.add_safe_globals`. We recommend you start setting `weights_only=True` for any use case where you don't have full control of the loaded file. Please open an issue on GitHub for any issues related to this experimental feature.\n",
      "  custom_mlp.load_state_dict(torch.load(checkpoint_path))\n"
     ]
    },
    {
     "data": {
      "image/png": "[encoded data removed]",
      "text/plain": [
       "<Figure size 1000x500 with 1 Axes>"
      ]
     },
     "metadata": {},
     "output_type": "display_data"
    },
    {
     "name": "stdout",
     "output_type": "stream",
     "text": [
      "Final Model Accuracy: 67.37%\n",
      "Final Model F1-score: 0.8050\n"
     ]
    }
   ],
   "source": [
    "input_dim = X_train.shape[1]\n",
    "hidden_dim = 256\n",
    "\n",
    "custom_mlp, losses, best_accuracy, best_f1 = train_model(X_train, y_train, X_test, y_test, input_dim, hidden_dim)"
   ]
  },
  {
   "cell_type": "code",
   "execution_count": 22,
   "metadata": {},
   "outputs": [
    {
     "name": "stdout",
     "output_type": "stream",
     "text": [
      "Checkpoint saved to '/home/guangwei/LLM-COPYRIGHT/copyright_newVersion/models/train_input_reference_last_token.pth'.\n"
     ]
    }
   ],
   "source": [
    "def save_checkpoint(model, optimizer, epoch, loss, filepath):\n",
    "    checkpoint = {\n",
    "        'epoch': epoch + 1,\n",
    "        'model_state_dict': model.state_dict(),\n",
    "        'optimizer_state_dict': optimizer.state_dict(),\n",
    "        'loss': loss\n",
    "    }\n",
    "    torch.save(checkpoint, filepath)\n",
    "    print(f\"Checkpoint saved to '{filepath}'.\")\n",
    "\n",
    "save_checkpoint(custom_mlp, torch.optim.Adam(custom_mlp.parameters()), len(losses), losses[-1], checkpoint_file)"
   ]
  },
  {
   "cell_type": "code",
   "execution_count": 23,
   "metadata": {},
   "outputs": [
    {
     "name": "stdout",
     "output_type": "stream",
     "text": [
      "                  precision    recall  f1-score   support\n",
      "\n",
      "    infringement       0.00      0.00      0.00        31\n",
      "non_infringement       0.67      1.00      0.81        64\n",
      "\n",
      "        accuracy                           0.67        95\n",
      "       macro avg       0.34      0.50      0.40        95\n",
      "    weighted avg       0.45      0.67      0.54        95\n",
      "\n"
     ]
    },
    {
     "name": "stderr",
     "output_type": "stream",
     "text": [
      "/tmp/ipykernel_663193/2137335780.py:1: UserWarning: To copy construct from a tensor, it is recommended to use sourceTensor.clone().detach() or sourceTensor.clone().detach().requires_grad_(True), rather than torch.tensor(sourceTensor).\n",
      "  y_pred_final = (torch.sigmoid(torch.tensor(custom_mlp(torch.tensor(X_test, dtype=torch.float32)))) > 0.5).float().numpy()\n",
      "/home/guangwei/miniconda3/envs/zdh/lib/python3.12/site-packages/sklearn/metrics/_classification.py:1531: UndefinedMetricWarning: Precision is ill-defined and being set to 0.0 in labels with no predicted samples. Use `zero_division` parameter to control this behavior.\n",
      "  _warn_prf(average, modifier, f\"{metric.capitalize()} is\", len(result))\n",
      "/home/guangwei/miniconda3/envs/zdh/lib/python3.12/site-packages/sklearn/metrics/_classification.py:1531: UndefinedMetricWarning: Precision is ill-defined and being set to 0.0 in labels with no predicted samples. Use `zero_division` parameter to control this behavior.\n",
      "  _warn_prf(average, modifier, f\"{metric.capitalize()} is\", len(result))\n",
      "/home/guangwei/miniconda3/envs/zdh/lib/python3.12/site-packages/sklearn/metrics/_classification.py:1531: UndefinedMetricWarning: Precision is ill-defined and being set to 0.0 in labels with no predicted samples. Use `zero_division` parameter to control this behavior.\n",
      "  _warn_prf(average, modifier, f\"{metric.capitalize()} is\", len(result))\n"
     ]
    }
   ],
   "source": [
    "y_pred_final = (torch.sigmoid(torch.tensor(custom_mlp(torch.tensor(X_test, dtype=torch.float32)))) > 0.5).float().numpy()\n",
    "print(classification_report(y_test, y_pred_final, target_names=[\"infringement\", \"non_infringement\"]))"
   ]
  }
 ],
 "metadata": {
  "kernelspec": {
   "display_name": "zdh",
   "language": "python",
   "name": "python3"
  },
  "language_info": {
   "codemirror_mode": {
    "name": "ipython",
    "version": 3
   },
   "file_extension": ".py",
   "mimetype": "text/x-python",
   "name": "python",
   "nbconvert_exporter": "python",
   "pygments_lexer": "ipython3",
   "version": "3.12.3"
  }
 },
 "nbformat": 4,
 "nbformat_minor": 2
}
