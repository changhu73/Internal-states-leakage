{
 "cells": [
  {
   "cell_type": "code",
   "execution_count": 1,
   "metadata": {},
   "outputs": [
    {
     "name": "stderr",
     "output_type": "stream",
     "text": [
      "/home/guangwei/miniconda3/envs/zdh/lib/python3.12/site-packages/tqdm/auto.py:21: TqdmWarning: IProgress not found. Please update jupyter and ipywidgets. See https://ipywidgets.readthedocs.io/en/stable/user_install.html\n",
      "  from .autonotebook import tqdm as notebook_tqdm\n"
     ]
    }
   ],
   "source": [
    "# import packages & variables\n",
    "import argparse\n",
    "import torch\n",
    "import torch.nn as nn\n",
    "import numpy as np\n",
    "from sklearn.metrics import accuracy_score, classification_report\n",
    "import matplotlib.pyplot as plt\n",
    "from tqdm import tqdm\n",
    "from transformers import AutoTokenizer, AutoModelForCausalLM, AutoModel, AutoModelForSequenceClassification\n",
    "import json\n",
    "import os\n",
    "\n",
    "os.environ[\"CUDA_VISIBLE_DEVICES\"] = \"5\"\n",
    "\n",
    "# Parameters\n",
    "model_name = 'meta-llama/Meta-Llama-3.1-8B'\n",
    "non_infringement_file = '/home/guangwei/LLM-COPYRIGHT/copyright_newVersion/test_division/extra_25.non_infringement.json'\n",
    "infringement_file = '/home/guangwei/LLM-COPYRIGHT/copyright_newVersion/test_division/extra_25.infringement.json'\n",
    "checkpoint_file = '/home/guangwei/LLM-COPYRIGHT/copyright_newVersion/models/train_input_reference_last_token.pth'\n"
   ]
  },
  {
   "cell_type": "code",
   "execution_count": 2,
   "metadata": {},
   "outputs": [],
   "source": [
    "# Define CustumMLP for internal states train\n",
    "class CustomMLP(nn.Module):\n",
    "    def __init__(self, input_dim, hidden_dim):\n",
    "        super(CustomMLP, self).__init__()\n",
    "        self.down = nn.Linear(input_dim, hidden_dim)\n",
    "        self.gate = nn.Linear(input_dim, hidden_dim)\n",
    "        self.up = nn.Linear(hidden_dim, 1)\n",
    "        self.activation = nn.SiLU()\n",
    "\n",
    "    def forward(self, x):\n",
    "        down_output = self.down(x)\n",
    "        gate_output = self.gate(x)\n",
    "        gated_output = down_output * self.activation(gate_output)\n",
    "        return self.up(gated_output)"
   ]
  },
  {
   "cell_type": "code",
   "execution_count": 3,
   "metadata": {},
   "outputs": [],
   "source": [
    "# Extract hidden states/reference embeddings\n",
    "def extract_hidden_states(texts, model, tokenizer, batch_size=4):\n",
    "    device = torch.device(\"cuda\" if torch.cuda.is_available() else \"cpu\")\n",
    "    model.to(device)\n",
    "    model = nn.DataParallel(model)\n",
    "    hidden_states = []\n",
    "    for i in tqdm(range(0, len(texts), batch_size), desc=\"Processing data batches\"):\n",
    "        batch_texts = texts[i:i + batch_size]\n",
    "        inputs = tokenizer(batch_texts, return_tensors=\"pt\", padding=True, truncation=True)\n",
    "        with torch.no_grad():\n",
    "            outputs = model(**inputs)\n",
    "        \n",
    "        # 访问最后一个隐藏层的最后一个token的隐藏状态\n",
    "        # hidden_states[-1]表示最后一个隐藏层，mean(dim=1)表示取所有头的均值\n",
    "        last_layer_hidden_states = outputs.hidden_states[-1]\n",
    "        last_token_hidden_states = last_layer_hidden_states[:, -1, :]  # -1表示最后一个token\n",
    "        hidden_states.append(last_token_hidden_states.cpu().numpy())\n",
    "    return np.vstack(hidden_states)\n",
    "\n",
    "def extract_reference_embeddings(references, model, tokenizer, batch_size=4):\n",
    "    device = torch.device(\"cuda\" if torch.cuda.is_available() else \"cpu\")\n",
    "    model.to(device)\n",
    "    model = nn.DataParallel(model)\n",
    "    embeddings = []\n",
    "    for i in tqdm(range(0, len(references), batch_size), desc=\"Processing references\"):\n",
    "        batch_references = references[i:i + batch_size]\n",
    "        inputs = tokenizer(batch_references, return_tensors=\"pt\", padding=True, truncation=True).to(device)\n",
    "        with torch.no_grad():\n",
    "            outputs = model(**inputs)\n",
    "        embeddings.append(outputs.pooler_output.cpu().numpy())\n",
    "    return np.vstack(embeddings)"
   ]
  },
  {
   "cell_type": "code",
   "execution_count": 4,
   "metadata": {},
   "outputs": [],
   "source": [
    "# load data for infringement & non infringement\n",
    "def load_data(non_infringement_file, infringement_file):\n",
    "    with open(non_infringement_file, 'r', encoding='utf-8') as file:\n",
    "        non_infringement_json_data = json.load(file)\n",
    "\n",
    "    non_infringement_outputs = [entry['input'] for entry in non_infringement_json_data]\n",
    "    non_infringement_references = [entry['reference'] for entry in non_infringement_json_data]\n",
    "    y_non_infringement = [1] * len(non_infringement_outputs)\n",
    "\n",
    "    with open(infringement_file, 'r', encoding='utf-8') as file:\n",
    "        infringement_json_data = json.load(file)\n",
    "\n",
    "    infringement_outputs = [entry['input'] for entry in infringement_json_data]\n",
    "    infringement_references = [entry['reference'] for entry in infringement_json_data]\n",
    "    y_infringement = [0] * len(infringement_outputs)\n",
    "\n",
    "    return non_infringement_outputs, non_infringement_references, y_non_infringement, infringement_outputs, infringement_references, y_infringement"
   ]
  },
  {
   "cell_type": "code",
   "execution_count": 5,
   "metadata": {},
   "outputs": [],
   "source": [
    "from sklearn.metrics import accuracy_score, classification_report, f1_score\n",
    "\n",
    "# Train for best model\n",
    "def train_model(X_train, y_train, X_test, y_test, input_dim, hidden_dim, epochs=2500, lr=0.001, checkpoint_path=checkpoint_file):\n",
    "    custom_mlp = CustomMLP(input_dim, hidden_dim)\n",
    "    criterion = nn.BCEWithLogitsLoss()\n",
    "    optimizer = torch.optim.Adam(custom_mlp.parameters(), lr=lr)\n",
    "\n",
    "    X_train_tensor = torch.tensor(X_train, dtype=torch.float32)\n",
    "    y_train_tensor = torch.tensor(y_train, dtype=torch.float32).unsqueeze(1)\n",
    "\n",
    "    best_accuracy = -float('inf')\n",
    "    best_f1 = -float('inf')  # Track best F1-score\n",
    "    best_model_state = None\n",
    "    best_epoch = 0\n",
    "    losses = []\n",
    "\n",
    "    for epoch in tqdm(range(epochs), desc=\"Training Epochs\"):\n",
    "        custom_mlp.train()\n",
    "        optimizer.zero_grad()\n",
    "        outputs = custom_mlp(X_train_tensor)\n",
    "        loss = criterion(outputs, y_train_tensor)\n",
    "        loss.backward()\n",
    "        optimizer.step()\n",
    "        losses.append(loss.item())\n",
    "\n",
    "        # Every 10 epochs, evaluate the model\n",
    "        if (epoch + 1) % 10 == 0:\n",
    "            print(f\"Epoch {epoch + 1}/{epochs}, Loss: {loss.item():.4f}\")\n",
    "            \n",
    "            custom_mlp.eval()\n",
    "            X_test_tensor = torch.tensor(X_test, dtype=torch.float32)\n",
    "            with torch.no_grad():\n",
    "                y_pred_logits = custom_mlp(X_test_tensor)\n",
    "                y_pred = (torch.sigmoid(y_pred_logits) > 0.5).float().numpy()\n",
    "            \n",
    "            # Calculate accuracy and F1-score\n",
    "            accuracy = accuracy_score(y_test, y_pred)\n",
    "            f1 = f1_score(y_test, y_pred)  # F1-score calculation\n",
    "            \n",
    "            print(f\"Test Accuracy at Epoch {epoch + 1}: {accuracy * 100:.2f}%\")\n",
    "            print(f\"Test F1-score at Epoch {epoch + 1}: {f1:.4f}\")\n",
    "            \n",
    "            # Generate classification report\n",
    "            report = classification_report(y_test, y_pred, target_names=[\"infringement\", \"non_infringement\"])\n",
    "            print(f\"Classification Report at Epoch {epoch + 1}:\\n{report}\")\n",
    "\n",
    "            # Save the model if it achieves a better F1-score\n",
    "            if f1 > best_f1:\n",
    "                best_accuracy = accuracy\n",
    "                best_f1 = f1\n",
    "                best_model_state = custom_mlp.state_dict()\n",
    "                best_epoch = epoch + 1\n",
    "                torch.save(best_model_state, checkpoint_path)\n",
    "                print(f\"New best model saved with F1-score {best_f1:.4f} at epoch {best_epoch}\")\n",
    "                print(f\"Best Classification Report at Epoch {best_epoch}:\\n{report}\")\n",
    "\n",
    "    # Load the best model state\n",
    "    custom_mlp.load_state_dict(torch.load(checkpoint_path))\n",
    "\n",
    "    # Plot loss curve\n",
    "    plt.figure(figsize=(10, 5))\n",
    "    plt.plot(losses, label='Training Loss')\n",
    "    plt.xlabel('Epoch')\n",
    "    plt.ylabel('Loss')\n",
    "    plt.title('Training Loss Curve')\n",
    "    plt.legend()\n",
    "    plt.show()\n",
    "\n",
    "    print(f\"Final Model Accuracy: {best_accuracy * 100:.2f}%\")\n",
    "    print(f\"Final Model F1-score: {best_f1:.4f}\")\n",
    "    \n",
    "    return custom_mlp, losses, best_accuracy, best_f1\n"
   ]
  },
  {
   "cell_type": "code",
   "execution_count": 6,
   "metadata": {},
   "outputs": [
    {
     "name": "stderr",
     "output_type": "stream",
     "text": [
      "/home/guangwei/miniconda3/envs/zdh/lib/python3.12/site-packages/transformers/generation/configuration_utils.py:777: UserWarning: `return_dict_in_generate` is NOT set to `True`, but `output_hidden_states` is. When `return_dict_in_generate` is not `True`, `output_hidden_states` is ignored.\n",
      "  warnings.warn(\n",
      "Loading checkpoint shards: 100%|██████████| 4/4 [00:02<00:00,  1.39it/s]\n"
     ]
    }
   ],
   "source": [
    "tokenizer = AutoTokenizer.from_pretrained(model_name, model_max_length=512)\n",
    "model = AutoModelForCausalLM.from_pretrained(model_name, output_hidden_states=True)\n",
    "tokenizer.pad_token = tokenizer.eos_token\n",
    "bert_tokenizer = AutoTokenizer.from_pretrained('google-bert/bert-base-uncased')\n",
    "bert_model = AutoModel.from_pretrained('google-bert/bert-base-uncased')\n",
    "bert_tokenizer.pad_token = tokenizer.eos_token\n",
    "\n",
    "non_infringement_outputs, non_infringement_references, y_non_infringement, infringement_outputs, infringement_references, y_infringement = load_data(\n",
    "    non_infringement_file, infringement_file\n",
    ")\n",
    "\n",
    "y_non_infringement = np.array(y_non_infringement)\n",
    "y_infringement = np.array(y_infringement)\n"
   ]
  },
  {
   "cell_type": "code",
   "execution_count": 7,
   "metadata": {},
   "outputs": [
    {
     "name": "stdout",
     "output_type": "stream",
     "text": [
      "Extracting hidden states for non_infringement texts...\n"
     ]
    },
    {
     "name": "stderr",
     "output_type": "stream",
     "text": [
      "Processing data batches:   0%|          | 0/220 [00:00<?, ?it/s]Starting from v4.46, the `logits` model output will have the same type as the model (except at train time, where it will always be FP32)\n",
      "Processing data batches: 100%|██████████| 220/220 [01:01<00:00,  3.61it/s]\n"
     ]
    },
    {
     "name": "stdout",
     "output_type": "stream",
     "text": [
      "Extracting reference embeddings for non_infringement texts...\n"
     ]
    },
    {
     "name": "stderr",
     "output_type": "stream",
     "text": [
      "Processing references: 100%|██████████| 220/220 [00:02<00:00, 96.53it/s] \n"
     ]
    },
    {
     "name": "stdout",
     "output_type": "stream",
     "text": [
      "Extracting hidden states for infringement texts...\n"
     ]
    },
    {
     "name": "stderr",
     "output_type": "stream",
     "text": [
      "Processing data batches: 100%|██████████| 200/200 [01:13<00:00,  2.70it/s]\n"
     ]
    },
    {
     "name": "stdout",
     "output_type": "stream",
     "text": [
      "Extracting reference embeddings for infringement texts...\n"
     ]
    },
    {
     "name": "stderr",
     "output_type": "stream",
     "text": [
      "Processing references: 100%|██████████| 200/200 [00:01<00:00, 106.49it/s]\n"
     ]
    }
   ],
   "source": [
    "print(\"Extracting hidden states for non_infringement texts...\")\n",
    "X_non_infringement = extract_hidden_states(non_infringement_outputs, model, tokenizer)\n",
    "print(\"Extracting reference embeddings for non_infringement texts...\")\n",
    "reference_embeddings_non_infringement = extract_reference_embeddings(non_infringement_references, bert_model, bert_tokenizer)\n",
    "X_non_infringement_combined = np.hstack([X_non_infringement, reference_embeddings_non_infringement])\n",
    "\n",
    "print(\"Extracting hidden states for infringement texts...\")\n",
    "X_infringement = extract_hidden_states(infringement_outputs, model, tokenizer)\n",
    "print(\"Extracting reference embeddings for infringement texts...\")\n",
    "reference_embeddings_infringement = extract_reference_embeddings(infringement_references, bert_model, bert_tokenizer)\n",
    "X_infringement_combined = np.hstack([X_infringement, reference_embeddings_infringement])"
   ]
  },
  {
   "cell_type": "code",
   "execution_count": 8,
   "metadata": {},
   "outputs": [
    {
     "name": "stdout",
     "output_type": "stream",
     "text": [
      "Data successfully split into training and test sets.\n"
     ]
    }
   ],
   "source": [
    "split_index_non_infringement = int(0.8 * len(X_non_infringement_combined))\n",
    "X_non_infringement_train = X_non_infringement_combined[:split_index_non_infringement]\n",
    "X_non_infringement_test = X_non_infringement_combined[split_index_non_infringement:]\n",
    "y_non_infringement_train = y_non_infringement[:split_index_non_infringement]\n",
    "y_non_infringement_test = y_non_infringement[split_index_non_infringement:]\n",
    "\n",
    "split_index_infringement = int(0.8 * len(X_infringement_combined))\n",
    "X_infringement_train = X_infringement_combined[:split_index_infringement]\n",
    "X_infringement_test = X_infringement_combined[split_index_infringement:]\n",
    "y_infringement_train = y_infringement[:split_index_infringement]\n",
    "y_infringement_test = y_infringement[split_index_infringement:]\n",
    "\n",
    "X_train = np.vstack((X_non_infringement_train, X_infringement_train))\n",
    "X_test = np.vstack((X_non_infringement_test, X_infringement_test))\n",
    "y_train = np.concatenate((y_non_infringement_train, y_infringement_train))\n",
    "y_test = np.concatenate((y_non_infringement_test, y_infringement_test))\n",
    "\n",
    "print(\"Data successfully split into training and test sets.\")"
   ]
  },
  {
   "cell_type": "code",
   "execution_count": 9,
   "metadata": {},
   "outputs": [
    {
     "name": "stderr",
     "output_type": "stream",
     "text": [
      "Training Epochs:   1%|          | 15/2500 [00:00<01:23, 29.65it/s]"
     ]
    },
    {
     "name": "stdout",
     "output_type": "stream",
     "text": [
      "Epoch 10/2500, Loss: 0.5261\n",
      "Test Accuracy at Epoch 10: 72.02%\n",
      "Test F1-score at Epoch 10: 0.7432\n",
      "Classification Report at Epoch 10:\n",
      "                  precision    recall  f1-score   support\n",
      "\n",
      "    infringement       0.73      0.66      0.69       160\n",
      "non_infringement       0.72      0.77      0.74       176\n",
      "\n",
      "        accuracy                           0.72       336\n",
      "       macro avg       0.72      0.72      0.72       336\n",
      "    weighted avg       0.72      0.72      0.72       336\n",
      "\n",
      "New best model saved with F1-score 0.7432 at epoch 10\n",
      "Best Classification Report at Epoch 10:\n",
      "                  precision    recall  f1-score   support\n",
      "\n",
      "    infringement       0.73      0.66      0.69       160\n",
      "non_infringement       0.72      0.77      0.74       176\n",
      "\n",
      "        accuracy                           0.72       336\n",
      "       macro avg       0.72      0.72      0.72       336\n",
      "    weighted avg       0.72      0.72      0.72       336\n",
      "\n"
     ]
    },
    {
     "name": "stderr",
     "output_type": "stream",
     "text": [
      "Training Epochs:   1%|          | 23/2500 [00:00<01:21, 30.34it/s]"
     ]
    },
    {
     "name": "stdout",
     "output_type": "stream",
     "text": [
      "Epoch 20/2500, Loss: 0.4790\n",
      "Test Accuracy at Epoch 20: 70.54%\n",
      "Test F1-score at Epoch 20: 0.7755\n",
      "Classification Report at Epoch 20:\n",
      "                  precision    recall  f1-score   support\n",
      "\n",
      "    infringement       0.93      0.41      0.57       160\n",
      "non_infringement       0.65      0.97      0.78       176\n",
      "\n",
      "        accuracy                           0.71       336\n",
      "       macro avg       0.79      0.69      0.67       336\n",
      "    weighted avg       0.78      0.71      0.68       336\n",
      "\n",
      "New best model saved with F1-score 0.7755 at epoch 20\n",
      "Best Classification Report at Epoch 20:\n",
      "                  precision    recall  f1-score   support\n",
      "\n",
      "    infringement       0.93      0.41      0.57       160\n",
      "non_infringement       0.65      0.97      0.78       176\n",
      "\n",
      "        accuracy                           0.71       336\n",
      "       macro avg       0.79      0.69      0.67       336\n",
      "    weighted avg       0.78      0.71      0.68       336\n",
      "\n"
     ]
    },
    {
     "name": "stderr",
     "output_type": "stream",
     "text": [
      "Training Epochs:   1%|▏         | 33/2500 [00:01<01:16, 32.07it/s]"
     ]
    },
    {
     "name": "stdout",
     "output_type": "stream",
     "text": [
      "Epoch 30/2500, Loss: 0.4075\n",
      "Test Accuracy at Epoch 30: 75.00%\n",
      "Test F1-score at Epoch 30: 0.7857\n",
      "Classification Report at Epoch 30:\n",
      "                  precision    recall  f1-score   support\n",
      "\n",
      "    infringement       0.82      0.61      0.70       160\n",
      "non_infringement       0.71      0.88      0.79       176\n",
      "\n",
      "        accuracy                           0.75       336\n",
      "       macro avg       0.76      0.74      0.74       336\n",
      "    weighted avg       0.76      0.75      0.74       336\n",
      "\n",
      "New best model saved with F1-score 0.7857 at epoch 30\n",
      "Best Classification Report at Epoch 30:\n",
      "                  precision    recall  f1-score   support\n",
      "\n",
      "    infringement       0.82      0.61      0.70       160\n",
      "non_infringement       0.71      0.88      0.79       176\n",
      "\n",
      "        accuracy                           0.75       336\n",
      "       macro avg       0.76      0.74      0.74       336\n",
      "    weighted avg       0.76      0.75      0.74       336\n",
      "\n"
     ]
    },
    {
     "name": "stderr",
     "output_type": "stream",
     "text": [
      "Training Epochs:   2%|▏         | 44/2500 [00:01<01:01, 39.93it/s]"
     ]
    },
    {
     "name": "stdout",
     "output_type": "stream",
     "text": [
      "Epoch 40/2500, Loss: 0.3542\n",
      "Test Accuracy at Epoch 40: 72.32%\n",
      "Test F1-score at Epoch 40: 0.7533\n",
      "Classification Report at Epoch 40:\n",
      "                  precision    recall  f1-score   support\n",
      "\n",
      "    infringement       0.75      0.63      0.68       160\n",
      "non_infringement       0.71      0.81      0.75       176\n",
      "\n",
      "        accuracy                           0.72       336\n",
      "       macro avg       0.73      0.72      0.72       336\n",
      "    weighted avg       0.73      0.72      0.72       336\n",
      "\n"
     ]
    },
    {
     "name": "stderr",
     "output_type": "stream",
     "text": [
      "Training Epochs:   2%|▏         | 56/2500 [00:01<00:58, 41.73it/s]"
     ]
    },
    {
     "name": "stdout",
     "output_type": "stream",
     "text": [
      "Epoch 50/2500, Loss: 0.3004\n",
      "Test Accuracy at Epoch 50: 75.00%\n",
      "Test F1-score at Epoch 50: 0.7812\n",
      "Classification Report at Epoch 50:\n",
      "                  precision    recall  f1-score   support\n",
      "\n",
      "    infringement       0.80      0.64      0.71       160\n",
      "non_infringement       0.72      0.85      0.78       176\n",
      "\n",
      "        accuracy                           0.75       336\n",
      "       macro avg       0.76      0.74      0.74       336\n",
      "    weighted avg       0.76      0.75      0.75       336\n",
      "\n"
     ]
    },
    {
     "name": "stderr",
     "output_type": "stream",
     "text": [
      "Training Epochs:   3%|▎         | 67/2500 [00:01<01:00, 40.38it/s]"
     ]
    },
    {
     "name": "stdout",
     "output_type": "stream",
     "text": [
      "Epoch 60/2500, Loss: 0.2575\n",
      "Test Accuracy at Epoch 60: 75.89%\n",
      "Test F1-score at Epoch 60: 0.7851\n",
      "Classification Report at Epoch 60:\n",
      "                  precision    recall  f1-score   support\n",
      "\n",
      "    infringement       0.79      0.67      0.73       160\n",
      "non_infringement       0.74      0.84      0.79       176\n",
      "\n",
      "        accuracy                           0.76       336\n",
      "       macro avg       0.76      0.75      0.76       336\n",
      "    weighted avg       0.76      0.76      0.76       336\n",
      "\n"
     ]
    },
    {
     "name": "stderr",
     "output_type": "stream",
     "text": [
      "Training Epochs:   3%|▎         | 78/2500 [00:02<00:56, 42.61it/s]"
     ]
    },
    {
     "name": "stdout",
     "output_type": "stream",
     "text": [
      "Epoch 70/2500, Loss: 0.2205\n",
      "Test Accuracy at Epoch 70: 76.79%\n",
      "Test F1-score at Epoch 70: 0.7914\n",
      "Classification Report at Epoch 70:\n",
      "                  precision    recall  f1-score   support\n",
      "\n",
      "    infringement       0.80      0.69      0.74       160\n",
      "non_infringement       0.75      0.84      0.79       176\n",
      "\n",
      "        accuracy                           0.77       336\n",
      "       macro avg       0.77      0.76      0.76       336\n",
      "    weighted avg       0.77      0.77      0.77       336\n",
      "\n",
      "New best model saved with F1-score 0.7914 at epoch 70\n",
      "Best Classification Report at Epoch 70:\n",
      "                  precision    recall  f1-score   support\n",
      "\n",
      "    infringement       0.80      0.69      0.74       160\n",
      "non_infringement       0.75      0.84      0.79       176\n",
      "\n",
      "        accuracy                           0.77       336\n",
      "       macro avg       0.77      0.76      0.76       336\n",
      "    weighted avg       0.77      0.77      0.77       336\n",
      "\n"
     ]
    },
    {
     "name": "stderr",
     "output_type": "stream",
     "text": [
      "Training Epochs:   3%|▎         | 83/2500 [00:02<01:03, 38.30it/s]"
     ]
    },
    {
     "name": "stdout",
     "output_type": "stream",
     "text": [
      "Epoch 80/2500, Loss: 0.2999\n",
      "Test Accuracy at Epoch 80: 74.40%\n",
      "Test F1-score at Epoch 80: 0.7584\n",
      "Classification Report at Epoch 80:\n",
      "                  precision    recall  f1-score   support\n",
      "\n",
      "    infringement       0.74      0.72      0.73       160\n",
      "non_infringement       0.75      0.77      0.76       176\n",
      "\n",
      "        accuracy                           0.74       336\n",
      "       macro avg       0.74      0.74      0.74       336\n",
      "    weighted avg       0.74      0.74      0.74       336\n",
      "\n"
     ]
    },
    {
     "name": "stderr",
     "output_type": "stream",
     "text": [
      "Training Epochs:   4%|▍         | 94/2500 [00:02<01:00, 39.46it/s]"
     ]
    },
    {
     "name": "stdout",
     "output_type": "stream",
     "text": [
      "Epoch 90/2500, Loss: 0.2115\n",
      "Test Accuracy at Epoch 90: 73.21%\n",
      "Test F1-score at Epoch 90: 0.7458\n",
      "Classification Report at Epoch 90:\n",
      "                  precision    recall  f1-score   support\n",
      "\n",
      "    infringement       0.72      0.71      0.72       160\n",
      "non_infringement       0.74      0.75      0.75       176\n",
      "\n",
      "        accuracy                           0.73       336\n",
      "       macro avg       0.73      0.73      0.73       336\n",
      "    weighted avg       0.73      0.73      0.73       336\n",
      "\n"
     ]
    },
    {
     "name": "stderr",
     "output_type": "stream",
     "text": [
      "Training Epochs:   4%|▍         | 109/2500 [00:03<00:56, 42.10it/s]"
     ]
    },
    {
     "name": "stdout",
     "output_type": "stream",
     "text": [
      "Epoch 100/2500, Loss: 0.1926\n",
      "Test Accuracy at Epoch 100: 78.57%\n",
      "Test F1-score at Epoch 100: 0.8135\n",
      "Classification Report at Epoch 100:\n",
      "                  precision    recall  f1-score   support\n",
      "\n",
      "    infringement       0.85      0.67      0.75       160\n",
      "non_infringement       0.75      0.89      0.81       176\n",
      "\n",
      "        accuracy                           0.79       336\n",
      "       macro avg       0.80      0.78      0.78       336\n",
      "    weighted avg       0.80      0.79      0.78       336\n",
      "\n",
      "New best model saved with F1-score 0.8135 at epoch 100\n",
      "Best Classification Report at Epoch 100:\n",
      "                  precision    recall  f1-score   support\n",
      "\n",
      "    infringement       0.85      0.67      0.75       160\n",
      "non_infringement       0.75      0.89      0.81       176\n",
      "\n",
      "        accuracy                           0.79       336\n",
      "       macro avg       0.80      0.78      0.78       336\n",
      "    weighted avg       0.80      0.79      0.78       336\n",
      "\n"
     ]
    },
    {
     "name": "stderr",
     "output_type": "stream",
     "text": [
      "Training Epochs:   5%|▍         | 114/2500 [00:03<01:07, 35.42it/s]"
     ]
    },
    {
     "name": "stdout",
     "output_type": "stream",
     "text": [
      "Epoch 110/2500, Loss: 0.1503\n",
      "Test Accuracy at Epoch 110: 80.95%\n",
      "Test F1-score at Epoch 110: 0.8408\n",
      "Classification Report at Epoch 110:\n",
      "                  precision    recall  f1-score   support\n",
      "\n",
      "    infringement       0.94      0.64      0.76       160\n",
      "non_infringement       0.75      0.96      0.84       176\n",
      "\n",
      "        accuracy                           0.81       336\n",
      "       macro avg       0.84      0.80      0.80       336\n",
      "    weighted avg       0.84      0.81      0.80       336\n",
      "\n",
      "New best model saved with F1-score 0.8408 at epoch 110\n",
      "Best Classification Report at Epoch 110:\n",
      "                  precision    recall  f1-score   support\n",
      "\n",
      "    infringement       0.94      0.64      0.76       160\n",
      "non_infringement       0.75      0.96      0.84       176\n",
      "\n",
      "        accuracy                           0.81       336\n",
      "       macro avg       0.84      0.80      0.80       336\n",
      "    weighted avg       0.84      0.81      0.80       336\n",
      "\n"
     ]
    },
    {
     "name": "stderr",
     "output_type": "stream",
     "text": [
      "Training Epochs:   5%|▌         | 126/2500 [00:03<00:56, 41.91it/s]"
     ]
    },
    {
     "name": "stdout",
     "output_type": "stream",
     "text": [
      "Epoch 120/2500, Loss: 0.1469\n",
      "Test Accuracy at Epoch 120: 76.19%\n",
      "Test F1-score at Epoch 120: 0.7838\n",
      "Classification Report at Epoch 120:\n",
      "                  precision    recall  f1-score   support\n",
      "\n",
      "    infringement       0.78      0.69      0.74       160\n",
      "non_infringement       0.75      0.82      0.78       176\n",
      "\n",
      "        accuracy                           0.76       336\n",
      "       macro avg       0.76      0.76      0.76       336\n",
      "    weighted avg       0.76      0.76      0.76       336\n",
      "\n"
     ]
    },
    {
     "name": "stderr",
     "output_type": "stream",
     "text": [
      "Training Epochs:   5%|▌         | 137/2500 [00:03<00:56, 41.65it/s]"
     ]
    },
    {
     "name": "stdout",
     "output_type": "stream",
     "text": [
      "Epoch 130/2500, Loss: 0.1207\n",
      "Test Accuracy at Epoch 130: 77.98%\n",
      "Test F1-score at Epoch 130: 0.8083\n",
      "Classification Report at Epoch 130:\n",
      "                  precision    recall  f1-score   support\n",
      "\n",
      "    infringement       0.84      0.66      0.74       160\n",
      "non_infringement       0.74      0.89      0.81       176\n",
      "\n",
      "        accuracy                           0.78       336\n",
      "       macro avg       0.79      0.77      0.77       336\n",
      "    weighted avg       0.79      0.78      0.78       336\n",
      "\n",
      "Epoch 140/2500, Loss: 0.1176\n"
     ]
    },
    {
     "name": "stderr",
     "output_type": "stream",
     "text": [
      "Training Epochs:   6%|▌         | 147/2500 [00:03<00:58, 40.03it/s]"
     ]
    },
    {
     "name": "stdout",
     "output_type": "stream",
     "text": [
      "Test Accuracy at Epoch 140: 77.38%\n",
      "Test F1-score at Epoch 140: 0.7989\n",
      "Classification Report at Epoch 140:\n",
      "                  precision    recall  f1-score   support\n",
      "\n",
      "    infringement       0.81      0.68      0.74       160\n",
      "non_infringement       0.75      0.86      0.80       176\n",
      "\n",
      "        accuracy                           0.77       336\n",
      "       macro avg       0.78      0.77      0.77       336\n",
      "    weighted avg       0.78      0.77      0.77       336\n",
      "\n"
     ]
    },
    {
     "name": "stderr",
     "output_type": "stream",
     "text": [
      "Training Epochs:   6%|▋         | 157/2500 [00:04<00:58, 40.37it/s]"
     ]
    },
    {
     "name": "stdout",
     "output_type": "stream",
     "text": [
      "Epoch 150/2500, Loss: 0.2110\n",
      "Test Accuracy at Epoch 150: 75.89%\n",
      "Test F1-score at Epoch 150: 0.8103\n",
      "Classification Report at Epoch 150:\n",
      "                  precision    recall  f1-score   support\n",
      "\n",
      "    infringement       0.96      0.51      0.67       160\n",
      "non_infringement       0.69      0.98      0.81       176\n",
      "\n",
      "        accuracy                           0.76       336\n",
      "       macro avg       0.83      0.75      0.74       336\n",
      "    weighted avg       0.82      0.76      0.74       336\n",
      "\n"
     ]
    },
    {
     "name": "stderr",
     "output_type": "stream",
     "text": [
      "Training Epochs:   6%|▋         | 162/2500 [00:04<01:04, 36.42it/s]"
     ]
    },
    {
     "name": "stdout",
     "output_type": "stream",
     "text": [
      "Epoch 160/2500, Loss: 0.1253\n",
      "Test Accuracy at Epoch 160: 74.70%\n",
      "Test F1-score at Epoch 160: 0.7684\n",
      "Classification Report at Epoch 160:\n",
      "                  precision    recall  f1-score   support\n",
      "\n",
      "    infringement       0.76      0.69      0.72       160\n",
      "non_infringement       0.74      0.80      0.77       176\n",
      "\n",
      "        accuracy                           0.75       336\n",
      "       macro avg       0.75      0.74      0.74       336\n",
      "    weighted avg       0.75      0.75      0.75       336\n",
      "\n"
     ]
    },
    {
     "name": "stderr",
     "output_type": "stream",
     "text": [
      "Training Epochs:   7%|▋         | 173/2500 [00:04<00:55, 41.61it/s]"
     ]
    },
    {
     "name": "stdout",
     "output_type": "stream",
     "text": [
      "Epoch 170/2500, Loss: 0.0938\n",
      "Test Accuracy at Epoch 170: 76.79%\n",
      "Test F1-score at Epoch 170: 0.7926\n",
      "Classification Report at Epoch 170:\n",
      "                  precision    recall  f1-score   support\n",
      "\n",
      "    infringement       0.80      0.68      0.74       160\n",
      "non_infringement       0.74      0.85      0.79       176\n",
      "\n",
      "        accuracy                           0.77       336\n",
      "       macro avg       0.77      0.76      0.76       336\n",
      "    weighted avg       0.77      0.77      0.77       336\n",
      "\n"
     ]
    },
    {
     "name": "stderr",
     "output_type": "stream",
     "text": [
      "Training Epochs:   8%|▊         | 189/2500 [00:04<00:50, 45.56it/s]"
     ]
    },
    {
     "name": "stdout",
     "output_type": "stream",
     "text": [
      "Epoch 180/2500, Loss: 0.0840\n",
      "Test Accuracy at Epoch 180: 76.19%\n",
      "Test F1-score at Epoch 180: 0.7849\n",
      "Classification Report at Epoch 180:\n",
      "                  precision    recall  f1-score   support\n",
      "\n",
      "    infringement       0.79      0.69      0.73       160\n",
      "non_infringement       0.74      0.83      0.78       176\n",
      "\n",
      "        accuracy                           0.76       336\n",
      "       macro avg       0.77      0.76      0.76       336\n",
      "    weighted avg       0.76      0.76      0.76       336\n",
      "\n",
      "Epoch 190/2500, Loss: 0.0801\n"
     ]
    },
    {
     "name": "stderr",
     "output_type": "stream",
     "text": [
      "Training Epochs:   8%|▊         | 194/2500 [00:05<00:50, 45.58it/s]"
     ]
    },
    {
     "name": "stdout",
     "output_type": "stream",
     "text": [
      "Test Accuracy at Epoch 190: 77.38%\n",
      "Test F1-score at Epoch 190: 0.7968\n",
      "Classification Report at Epoch 190:\n",
      "                  precision    recall  f1-score   support\n",
      "\n",
      "    infringement       0.80      0.69      0.74       160\n",
      "non_infringement       0.75      0.85      0.80       176\n",
      "\n",
      "        accuracy                           0.77       336\n",
      "       macro avg       0.78      0.77      0.77       336\n",
      "    weighted avg       0.78      0.77      0.77       336\n",
      "\n"
     ]
    },
    {
     "name": "stderr",
     "output_type": "stream",
     "text": [
      "Training Epochs:   8%|▊         | 204/2500 [00:05<00:52, 43.59it/s]"
     ]
    },
    {
     "name": "stdout",
     "output_type": "stream",
     "text": [
      "Epoch 200/2500, Loss: 0.0726\n",
      "Test Accuracy at Epoch 200: 77.68%\n",
      "Test F1-score at Epoch 200: 0.8011\n",
      "Classification Report at Epoch 200:\n",
      "                  precision    recall  f1-score   support\n",
      "\n",
      "    infringement       0.81      0.69      0.75       160\n",
      "non_infringement       0.75      0.86      0.80       176\n",
      "\n",
      "        accuracy                           0.78       336\n",
      "       macro avg       0.78      0.77      0.77       336\n",
      "    weighted avg       0.78      0.78      0.77       336\n",
      "\n",
      "Epoch 210/2500, Loss: 0.0670\n"
     ]
    },
    {
     "name": "stderr",
     "output_type": "stream",
     "text": [
      "Training Epochs:   9%|▊         | 215/2500 [00:05<00:54, 41.93it/s]"
     ]
    },
    {
     "name": "stdout",
     "output_type": "stream",
     "text": [
      "Test Accuracy at Epoch 210: 77.68%\n",
      "Test F1-score at Epoch 210: 0.8031\n",
      "Classification Report at Epoch 210:\n",
      "                  precision    recall  f1-score   support\n",
      "\n",
      "    infringement       0.82      0.68      0.74       160\n",
      "non_infringement       0.75      0.87      0.80       176\n",
      "\n",
      "        accuracy                           0.78       336\n",
      "       macro avg       0.79      0.77      0.77       336\n",
      "    weighted avg       0.78      0.78      0.77       336\n",
      "\n"
     ]
    },
    {
     "name": "stderr",
     "output_type": "stream",
     "text": [
      "Training Epochs:   9%|▉         | 226/2500 [00:05<00:48, 46.59it/s]"
     ]
    },
    {
     "name": "stdout",
     "output_type": "stream",
     "text": [
      "Epoch 220/2500, Loss: 0.0639\n",
      "Test Accuracy at Epoch 220: 77.98%\n",
      "Test F1-score at Epoch 220: 0.8053\n",
      "Classification Report at Epoch 220:\n",
      "                  precision    recall  f1-score   support\n",
      "\n",
      "    infringement       0.83      0.68      0.75       160\n",
      "non_infringement       0.75      0.87      0.81       176\n",
      "\n",
      "        accuracy                           0.78       336\n",
      "       macro avg       0.79      0.78      0.78       336\n",
      "    weighted avg       0.79      0.78      0.78       336\n",
      "\n"
     ]
    },
    {
     "name": "stderr",
     "output_type": "stream",
     "text": [
      "Training Epochs:   9%|▉         | 237/2500 [00:06<00:51, 44.13it/s]"
     ]
    },
    {
     "name": "stdout",
     "output_type": "stream",
     "text": [
      "Epoch 230/2500, Loss: 0.0615\n",
      "Test Accuracy at Epoch 230: 77.08%\n",
      "Test F1-score at Epoch 230: 0.7968\n",
      "Classification Report at Epoch 230:\n",
      "                  precision    recall  f1-score   support\n",
      "\n",
      "    infringement       0.81      0.68      0.74       160\n",
      "non_infringement       0.74      0.86      0.80       176\n",
      "\n",
      "        accuracy                           0.77       336\n",
      "       macro avg       0.78      0.77      0.77       336\n",
      "    weighted avg       0.78      0.77      0.77       336\n",
      "\n"
     ]
    },
    {
     "name": "stderr",
     "output_type": "stream",
     "text": [
      "Training Epochs:  10%|▉         | 248/2500 [00:06<00:46, 48.20it/s]"
     ]
    },
    {
     "name": "stdout",
     "output_type": "stream",
     "text": [
      "Epoch 240/2500, Loss: 0.0594\n",
      "Test Accuracy at Epoch 240: 77.08%\n",
      "Test F1-score at Epoch 240: 0.7947\n",
      "Classification Report at Epoch 240:\n",
      "                  precision    recall  f1-score   support\n",
      "\n",
      "    infringement       0.80      0.69      0.74       160\n",
      "non_infringement       0.75      0.85      0.79       176\n",
      "\n",
      "        accuracy                           0.77       336\n",
      "       macro avg       0.78      0.77      0.77       336\n",
      "    weighted avg       0.77      0.77      0.77       336\n",
      "\n"
     ]
    },
    {
     "name": "stderr",
     "output_type": "stream",
     "text": [
      "Training Epochs:  10%|█         | 259/2500 [00:06<00:48, 45.78it/s]"
     ]
    },
    {
     "name": "stdout",
     "output_type": "stream",
     "text": [
      "Epoch 250/2500, Loss: 0.0577\n",
      "Test Accuracy at Epoch 250: 76.49%\n",
      "Test F1-score at Epoch 250: 0.7916\n",
      "Classification Report at Epoch 250:\n",
      "                  precision    recall  f1-score   support\n",
      "\n",
      "    infringement       0.80      0.67      0.73       160\n",
      "non_infringement       0.74      0.85      0.79       176\n",
      "\n",
      "        accuracy                           0.76       336\n",
      "       macro avg       0.77      0.76      0.76       336\n",
      "    weighted avg       0.77      0.76      0.76       336\n",
      "\n",
      "Epoch 260/2500, Loss: 0.0563\n"
     ]
    },
    {
     "name": "stderr",
     "output_type": "stream",
     "text": [
      "Training Epochs:  11%|█         | 264/2500 [00:06<00:48, 46.47it/s]"
     ]
    },
    {
     "name": "stdout",
     "output_type": "stream",
     "text": [
      "Test Accuracy at Epoch 260: 76.49%\n",
      "Test F1-score at Epoch 260: 0.7916\n",
      "Classification Report at Epoch 260:\n",
      "                  precision    recall  f1-score   support\n",
      "\n",
      "    infringement       0.80      0.67      0.73       160\n",
      "non_infringement       0.74      0.85      0.79       176\n",
      "\n",
      "        accuracy                           0.76       336\n",
      "       macro avg       0.77      0.76      0.76       336\n",
      "    weighted avg       0.77      0.76      0.76       336\n",
      "\n"
     ]
    },
    {
     "name": "stderr",
     "output_type": "stream",
     "text": [
      "Training Epochs:  11%|█         | 280/2500 [00:07<00:47, 46.84it/s]"
     ]
    },
    {
     "name": "stdout",
     "output_type": "stream",
     "text": [
      "Epoch 270/2500, Loss: 0.0551\n",
      "Test Accuracy at Epoch 270: 76.79%\n",
      "Test F1-score at Epoch 270: 0.7937\n",
      "Classification Report at Epoch 270:\n",
      "                  precision    recall  f1-score   support\n",
      "\n",
      "    infringement       0.81      0.68      0.73       160\n",
      "non_infringement       0.74      0.85      0.79       176\n",
      "\n",
      "        accuracy                           0.77       336\n",
      "       macro avg       0.77      0.76      0.76       336\n",
      "    weighted avg       0.77      0.77      0.77       336\n",
      "\n",
      "Epoch 280/2500, Loss: 0.0540\n",
      "Test Accuracy at Epoch 280: 76.49%\n",
      "Test F1-score at Epoch 280: 0.7916\n",
      "Classification Report at Epoch 280:\n",
      "                  precision    recall  f1-score   support\n",
      "\n",
      "    infringement       0.80      0.67      0.73       160\n",
      "non_infringement       0.74      0.85      0.79       176\n",
      "\n",
      "        accuracy                           0.76       336\n",
      "       macro avg       0.77      0.76      0.76       336\n",
      "    weighted avg       0.77      0.76      0.76       336\n",
      "\n"
     ]
    },
    {
     "name": "stderr",
     "output_type": "stream",
     "text": [
      "Training Epochs:  12%|█▏        | 296/2500 [00:07<00:46, 47.19it/s]"
     ]
    },
    {
     "name": "stdout",
     "output_type": "stream",
     "text": [
      "Epoch 290/2500, Loss: 0.0531\n",
      "Test Accuracy at Epoch 290: 76.79%\n",
      "Test F1-score at Epoch 290: 0.7937\n",
      "Classification Report at Epoch 290:\n",
      "                  precision    recall  f1-score   support\n",
      "\n",
      "    infringement       0.81      0.68      0.73       160\n",
      "non_infringement       0.74      0.85      0.79       176\n",
      "\n",
      "        accuracy                           0.77       336\n",
      "       macro avg       0.77      0.76      0.76       336\n",
      "    weighted avg       0.77      0.77      0.77       336\n",
      "\n",
      "Epoch 300/2500, Loss: 0.0523\n"
     ]
    },
    {
     "name": "stderr",
     "output_type": "stream",
     "text": [
      "Training Epochs:  12%|█▏        | 306/2500 [00:07<00:50, 43.59it/s]"
     ]
    },
    {
     "name": "stdout",
     "output_type": "stream",
     "text": [
      "Test Accuracy at Epoch 300: 76.49%\n",
      "Test F1-score at Epoch 300: 0.7927\n",
      "Classification Report at Epoch 300:\n",
      "                  precision    recall  f1-score   support\n",
      "\n",
      "    infringement       0.81      0.66      0.73       160\n",
      "non_infringement       0.74      0.86      0.79       176\n",
      "\n",
      "        accuracy                           0.76       336\n",
      "       macro avg       0.77      0.76      0.76       336\n",
      "    weighted avg       0.77      0.76      0.76       336\n",
      "\n"
     ]
    },
    {
     "name": "stderr",
     "output_type": "stream",
     "text": [
      "Training Epochs:  13%|█▎        | 317/2500 [00:07<00:44, 48.69it/s]"
     ]
    },
    {
     "name": "stdout",
     "output_type": "stream",
     "text": [
      "Epoch 310/2500, Loss: 0.0515\n",
      "Test Accuracy at Epoch 310: 76.79%\n",
      "Test F1-score at Epoch 310: 0.7947\n",
      "Classification Report at Epoch 310:\n",
      "                  precision    recall  f1-score   support\n",
      "\n",
      "    infringement       0.81      0.67      0.73       160\n",
      "non_infringement       0.74      0.86      0.79       176\n",
      "\n",
      "        accuracy                           0.77       336\n",
      "       macro avg       0.78      0.76      0.76       336\n",
      "    weighted avg       0.77      0.77      0.77       336\n",
      "\n",
      "Epoch 320/2500, Loss: 0.0510\n",
      "Test Accuracy at Epoch 320: 76.49%\n",
      "Test F1-score at Epoch 320: 0.7916\n"
     ]
    },
    {
     "name": "stderr",
     "output_type": "stream",
     "text": [
      "Training Epochs:  13%|█▎        | 328/2500 [00:08<00:46, 46.52it/s]"
     ]
    },
    {
     "name": "stdout",
     "output_type": "stream",
     "text": [
      "Classification Report at Epoch 320:\n",
      "                  precision    recall  f1-score   support\n",
      "\n",
      "    infringement       0.80      0.67      0.73       160\n",
      "non_infringement       0.74      0.85      0.79       176\n",
      "\n",
      "        accuracy                           0.76       336\n",
      "       macro avg       0.77      0.76      0.76       336\n",
      "    weighted avg       0.77      0.76      0.76       336\n",
      "\n"
     ]
    },
    {
     "name": "stderr",
     "output_type": "stream",
     "text": [
      "Training Epochs:  14%|█▎        | 339/2500 [00:08<00:43, 49.44it/s]"
     ]
    },
    {
     "name": "stdout",
     "output_type": "stream",
     "text": [
      "Epoch 330/2500, Loss: 0.0505\n",
      "Test Accuracy at Epoch 330: 76.49%\n",
      "Test F1-score at Epoch 330: 0.7916\n",
      "Classification Report at Epoch 330:\n",
      "                  precision    recall  f1-score   support\n",
      "\n",
      "    infringement       0.80      0.67      0.73       160\n",
      "non_infringement       0.74      0.85      0.79       176\n",
      "\n",
      "        accuracy                           0.76       336\n",
      "       macro avg       0.77      0.76      0.76       336\n",
      "    weighted avg       0.77      0.76      0.76       336\n",
      "\n"
     ]
    },
    {
     "name": "stderr",
     "output_type": "stream",
     "text": [
      "Training Epochs:  14%|█▍        | 345/2500 [00:08<00:50, 43.05it/s]"
     ]
    },
    {
     "name": "stdout",
     "output_type": "stream",
     "text": [
      "Epoch 340/2500, Loss: 0.0497\n",
      "Test Accuracy at Epoch 340: 77.68%\n",
      "Test F1-score at Epoch 340: 0.7989\n",
      "Classification Report at Epoch 340:\n",
      "                  precision    recall  f1-score   support\n",
      "\n",
      "    infringement       0.81      0.70      0.75       160\n",
      "non_infringement       0.76      0.85      0.80       176\n",
      "\n",
      "        accuracy                           0.78       336\n",
      "       macro avg       0.78      0.77      0.77       336\n",
      "    weighted avg       0.78      0.78      0.78       336\n",
      "\n",
      "Epoch 350/2500, Loss: 0.0491\n"
     ]
    },
    {
     "name": "stderr",
     "output_type": "stream",
     "text": [
      "Training Epochs:  14%|█▍        | 356/2500 [00:08<00:44, 47.94it/s]"
     ]
    },
    {
     "name": "stdout",
     "output_type": "stream",
     "text": [
      "Test Accuracy at Epoch 350: 77.68%\n",
      "Test F1-score at Epoch 350: 0.7989\n",
      "Classification Report at Epoch 350:\n",
      "                  precision    recall  f1-score   support\n",
      "\n",
      "    infringement       0.81      0.70      0.75       160\n",
      "non_infringement       0.76      0.85      0.80       176\n",
      "\n",
      "        accuracy                           0.78       336\n",
      "       macro avg       0.78      0.77      0.77       336\n",
      "    weighted avg       0.78      0.78      0.78       336\n",
      "\n"
     ]
    },
    {
     "name": "stderr",
     "output_type": "stream",
     "text": [
      "Training Epochs:  15%|█▍        | 367/2500 [00:08<00:46, 45.60it/s]"
     ]
    },
    {
     "name": "stdout",
     "output_type": "stream",
     "text": [
      "Epoch 360/2500, Loss: 0.0486\n",
      "Test Accuracy at Epoch 360: 77.68%\n",
      "Test F1-score at Epoch 360: 0.7989\n",
      "Classification Report at Epoch 360:\n",
      "                  precision    recall  f1-score   support\n",
      "\n",
      "    infringement       0.81      0.70      0.75       160\n",
      "non_infringement       0.76      0.85      0.80       176\n",
      "\n",
      "        accuracy                           0.78       336\n",
      "       macro avg       0.78      0.77      0.77       336\n",
      "    weighted avg       0.78      0.78      0.78       336\n",
      "\n",
      "Epoch 370/2500, Loss: 0.0481\n",
      "Test Accuracy at Epoch 370: 77.08%\n",
      "Test F1-score at Epoch 370: 0.7925\n"
     ]
    },
    {
     "name": "stderr",
     "output_type": "stream",
     "text": [
      "Training Epochs:  15%|█▌        | 377/2500 [00:09<00:49, 42.56it/s]"
     ]
    },
    {
     "name": "stdout",
     "output_type": "stream",
     "text": [
      "Classification Report at Epoch 370:\n",
      "                  precision    recall  f1-score   support\n",
      "\n",
      "    infringement       0.79      0.70      0.74       160\n",
      "non_infringement       0.75      0.84      0.79       176\n",
      "\n",
      "        accuracy                           0.77       336\n",
      "       macro avg       0.77      0.77      0.77       336\n",
      "    weighted avg       0.77      0.77      0.77       336\n",
      "\n"
     ]
    },
    {
     "name": "stderr",
     "output_type": "stream",
     "text": [
      "Training Epochs:  16%|█▌        | 388/2500 [00:09<00:44, 47.96it/s]"
     ]
    },
    {
     "name": "stdout",
     "output_type": "stream",
     "text": [
      "Epoch 380/2500, Loss: 0.0479\n",
      "Test Accuracy at Epoch 380: 77.08%\n",
      "Test F1-score at Epoch 380: 0.7936\n",
      "Classification Report at Epoch 380:\n",
      "                  precision    recall  f1-score   support\n",
      "\n",
      "    infringement       0.80      0.69      0.74       160\n",
      "non_infringement       0.75      0.84      0.79       176\n",
      "\n",
      "        accuracy                           0.77       336\n",
      "       macro avg       0.77      0.77      0.77       336\n",
      "    weighted avg       0.77      0.77      0.77       336\n",
      "\n",
      "Epoch 390/2500, Loss: 0.0473\n",
      "Test Accuracy at Epoch 390: 77.08%\n",
      "Test F1-score at Epoch 390: 0.7936\n",
      "Classification Report at Epoch 390:\n",
      "                  precision    recall  f1-score   support\n",
      "\n",
      "    infringement       0.80      0.69      0.74       160\n",
      "non_infringement       0.75      0.84      0.79       176\n",
      "\n",
      "        accuracy                           0.77       336\n",
      "       macro avg       0.77      0.77      0.77       336\n",
      "    weighted avg       0.77      0.77      0.77       336\n",
      "\n"
     ]
    },
    {
     "name": "stderr",
     "output_type": "stream",
     "text": [
      "Training Epochs:  16%|█▋        | 409/2500 [00:09<00:43, 47.80it/s]"
     ]
    },
    {
     "name": "stdout",
     "output_type": "stream",
     "text": [
      "Epoch 400/2500, Loss: 0.0470\n",
      "Test Accuracy at Epoch 400: 77.38%\n",
      "Test F1-score at Epoch 400: 0.7957\n",
      "Classification Report at Epoch 400:\n",
      "                  precision    recall  f1-score   support\n",
      "\n",
      "    infringement       0.80      0.70      0.75       160\n",
      "non_infringement       0.76      0.84      0.80       176\n",
      "\n",
      "        accuracy                           0.77       336\n",
      "       macro avg       0.78      0.77      0.77       336\n",
      "    weighted avg       0.78      0.77      0.77       336\n",
      "\n",
      "Epoch 410/2500, Loss: 0.0466\n",
      "Test Accuracy at Epoch 410: 77.38%\n",
      "Test F1-score at Epoch 410: 0.7968\n"
     ]
    },
    {
     "name": "stderr",
     "output_type": "stream",
     "text": [
      "Training Epochs:  17%|█▋        | 414/2500 [00:10<00:50, 41.17it/s]"
     ]
    },
    {
     "name": "stdout",
     "output_type": "stream",
     "text": [
      "Classification Report at Epoch 410:\n",
      "                  precision    recall  f1-score   support\n",
      "\n",
      "    infringement       0.80      0.69      0.74       160\n",
      "non_infringement       0.75      0.85      0.80       176\n",
      "\n",
      "        accuracy                           0.77       336\n",
      "       macro avg       0.78      0.77      0.77       336\n",
      "    weighted avg       0.78      0.77      0.77       336\n",
      "\n"
     ]
    },
    {
     "name": "stderr",
     "output_type": "stream",
     "text": [
      "Training Epochs:  17%|█▋        | 426/2500 [00:10<00:43, 47.41it/s]"
     ]
    },
    {
     "name": "stdout",
     "output_type": "stream",
     "text": [
      "Epoch 420/2500, Loss: 0.0463\n",
      "Test Accuracy at Epoch 420: 77.38%\n",
      "Test F1-score at Epoch 420: 0.7968\n",
      "Classification Report at Epoch 420:\n",
      "                  precision    recall  f1-score   support\n",
      "\n",
      "    infringement       0.80      0.69      0.74       160\n",
      "non_infringement       0.75      0.85      0.80       176\n",
      "\n",
      "        accuracy                           0.77       336\n",
      "       macro avg       0.78      0.77      0.77       336\n",
      "    weighted avg       0.78      0.77      0.77       336\n",
      "\n"
     ]
    },
    {
     "name": "stderr",
     "output_type": "stream",
     "text": [
      "Training Epochs:  17%|█▋        | 437/2500 [00:10<00:45, 45.29it/s]"
     ]
    },
    {
     "name": "stdout",
     "output_type": "stream",
     "text": [
      "Epoch 430/2500, Loss: 0.0460\n",
      "Test Accuracy at Epoch 430: 77.08%\n",
      "Test F1-score at Epoch 430: 0.7936\n",
      "Classification Report at Epoch 430:\n",
      "                  precision    recall  f1-score   support\n",
      "\n",
      "    infringement       0.80      0.69      0.74       160\n",
      "non_infringement       0.75      0.84      0.79       176\n",
      "\n",
      "        accuracy                           0.77       336\n",
      "       macro avg       0.77      0.77      0.77       336\n",
      "    weighted avg       0.77      0.77      0.77       336\n",
      "\n",
      "Epoch 440/2500, Loss: 0.0457\n"
     ]
    },
    {
     "name": "stderr",
     "output_type": "stream",
     "text": [
      "Training Epochs:  18%|█▊        | 447/2500 [00:10<00:49, 41.34it/s]"
     ]
    },
    {
     "name": "stdout",
     "output_type": "stream",
     "text": [
      "Test Accuracy at Epoch 440: 77.08%\n",
      "Test F1-score at Epoch 440: 0.7936\n",
      "Classification Report at Epoch 440:\n",
      "                  precision    recall  f1-score   support\n",
      "\n",
      "    infringement       0.80      0.69      0.74       160\n",
      "non_infringement       0.75      0.84      0.79       176\n",
      "\n",
      "        accuracy                           0.77       336\n",
      "       macro avg       0.77      0.77      0.77       336\n",
      "    weighted avg       0.77      0.77      0.77       336\n",
      "\n"
     ]
    },
    {
     "name": "stderr",
     "output_type": "stream",
     "text": [
      "Training Epochs:  18%|█▊        | 458/2500 [00:10<00:44, 46.18it/s]"
     ]
    },
    {
     "name": "stdout",
     "output_type": "stream",
     "text": [
      "Epoch 450/2500, Loss: 0.0455\n",
      "Test Accuracy at Epoch 450: 77.68%\n",
      "Test F1-score at Epoch 450: 0.7989\n",
      "Classification Report at Epoch 450:\n",
      "                  precision    recall  f1-score   support\n",
      "\n",
      "    infringement       0.81      0.70      0.75       160\n",
      "non_infringement       0.76      0.85      0.80       176\n",
      "\n",
      "        accuracy                           0.78       336\n",
      "       macro avg       0.78      0.77      0.77       336\n",
      "    weighted avg       0.78      0.78      0.78       336\n",
      "\n",
      "Epoch 460/2500, Loss: 0.0453\n"
     ]
    },
    {
     "name": "stderr",
     "output_type": "stream",
     "text": [
      "Training Epochs:  19%|█▊        | 463/2500 [00:11<00:43, 46.98it/s]"
     ]
    },
    {
     "name": "stdout",
     "output_type": "stream",
     "text": [
      "Test Accuracy at Epoch 460: 77.38%\n",
      "Test F1-score at Epoch 460: 0.7968\n",
      "Classification Report at Epoch 460:\n",
      "                  precision    recall  f1-score   support\n",
      "\n",
      "    infringement       0.80      0.69      0.74       160\n",
      "non_infringement       0.75      0.85      0.80       176\n",
      "\n",
      "        accuracy                           0.77       336\n",
      "       macro avg       0.78      0.77      0.77       336\n",
      "    weighted avg       0.78      0.77      0.77       336\n",
      "\n"
     ]
    },
    {
     "name": "stderr",
     "output_type": "stream",
     "text": [
      "Training Epochs:  19%|█▉        | 479/2500 [00:11<00:42, 47.21it/s]"
     ]
    },
    {
     "name": "stdout",
     "output_type": "stream",
     "text": [
      "Epoch 470/2500, Loss: 0.0450\n",
      "Test Accuracy at Epoch 470: 77.38%\n",
      "Test F1-score at Epoch 470: 0.7957\n",
      "Classification Report at Epoch 470:\n",
      "                  precision    recall  f1-score   support\n",
      "\n",
      "    infringement       0.80      0.70      0.75       160\n",
      "non_infringement       0.76      0.84      0.80       176\n",
      "\n",
      "        accuracy                           0.77       336\n",
      "       macro avg       0.78      0.77      0.77       336\n",
      "    weighted avg       0.78      0.77      0.77       336\n",
      "\n",
      "Epoch 480/2500, Loss: 0.0461\n",
      "Test Accuracy at Epoch 480: 75.00%\n",
      "Test F1-score at Epoch 480: 0.7680\n"
     ]
    },
    {
     "name": "stderr",
     "output_type": "stream",
     "text": [
      "Training Epochs:  19%|█▉        | 484/2500 [00:11<00:50, 40.16it/s]"
     ]
    },
    {
     "name": "stdout",
     "output_type": "stream",
     "text": [
      "Classification Report at Epoch 480:\n",
      "                  precision    recall  f1-score   support\n",
      "\n",
      "    infringement       0.75      0.71      0.73       160\n",
      "non_infringement       0.75      0.79      0.77       176\n",
      "\n",
      "        accuracy                           0.75       336\n",
      "       macro avg       0.75      0.75      0.75       336\n",
      "    weighted avg       0.75      0.75      0.75       336\n",
      "\n"
     ]
    },
    {
     "name": "stderr",
     "output_type": "stream",
     "text": [
      "Training Epochs:  20%|█▉        | 496/2500 [00:11<00:45, 43.62it/s]"
     ]
    },
    {
     "name": "stdout",
     "output_type": "stream",
     "text": [
      "Epoch 490/2500, Loss: 0.0530\n",
      "Test Accuracy at Epoch 490: 81.55%\n",
      "Test F1-score at Epoch 490: 0.8410\n",
      "Classification Report at Epoch 490:\n",
      "                  precision    recall  f1-score   support\n",
      "\n",
      "    infringement       0.90      0.69      0.78       160\n",
      "non_infringement       0.77      0.93      0.84       176\n",
      "\n",
      "        accuracy                           0.82       336\n",
      "       macro avg       0.83      0.81      0.81       336\n",
      "    weighted avg       0.83      0.82      0.81       336\n",
      "\n",
      "New best model saved with F1-score 0.8410 at epoch 490\n",
      "Best Classification Report at Epoch 490:\n",
      "                  precision    recall  f1-score   support\n",
      "\n",
      "    infringement       0.90      0.69      0.78       160\n",
      "non_infringement       0.77      0.93      0.84       176\n",
      "\n",
      "        accuracy                           0.82       336\n",
      "       macro avg       0.83      0.81      0.81       336\n",
      "    weighted avg       0.83      0.82      0.81       336\n",
      "\n"
     ]
    },
    {
     "name": "stderr",
     "output_type": "stream",
     "text": [
      "Training Epochs:  20%|██        | 507/2500 [00:12<00:46, 42.67it/s]"
     ]
    },
    {
     "name": "stdout",
     "output_type": "stream",
     "text": [
      "Epoch 500/2500, Loss: 1.9522\n",
      "Test Accuracy at Epoch 500: 61.90%\n",
      "Test F1-score at Epoch 500: 0.5328\n",
      "Classification Report at Epoch 500:\n",
      "                  precision    recall  f1-score   support\n",
      "\n",
      "    infringement       0.57      0.84      0.68       160\n",
      "non_infringement       0.74      0.41      0.53       176\n",
      "\n",
      "        accuracy                           0.62       336\n",
      "       macro avg       0.66      0.63      0.61       336\n",
      "    weighted avg       0.66      0.62      0.60       336\n",
      "\n"
     ]
    },
    {
     "name": "stderr",
     "output_type": "stream",
     "text": [
      "Training Epochs:  20%|██        | 512/2500 [00:12<01:03, 31.39it/s]"
     ]
    },
    {
     "name": "stdout",
     "output_type": "stream",
     "text": [
      "Epoch 510/2500, Loss: 0.2628\n",
      "Test Accuracy at Epoch 510: 73.51%\n",
      "Test F1-score at Epoch 510: 0.7945\n",
      "Classification Report at Epoch 510:\n",
      "                  precision    recall  f1-score   support\n",
      "\n",
      "    infringement       0.95      0.47      0.63       160\n",
      "non_infringement       0.67      0.98      0.79       176\n",
      "\n",
      "        accuracy                           0.74       336\n",
      "       macro avg       0.81      0.72      0.71       336\n",
      "    weighted avg       0.80      0.74      0.72       336\n",
      "\n"
     ]
    },
    {
     "name": "stderr",
     "output_type": "stream",
     "text": [
      "Training Epochs:  21%|██        | 523/2500 [00:12<00:51, 38.43it/s]"
     ]
    },
    {
     "name": "stdout",
     "output_type": "stream",
     "text": [
      "Epoch 520/2500, Loss: 0.3324\n",
      "Test Accuracy at Epoch 520: 75.30%\n",
      "Test F1-score at Epoch 520: 0.7930\n",
      "Classification Report at Epoch 520:\n",
      "                  precision    recall  f1-score   support\n",
      "\n",
      "    infringement       0.85      0.59      0.69       160\n",
      "non_infringement       0.71      0.90      0.79       176\n",
      "\n",
      "        accuracy                           0.75       336\n",
      "       macro avg       0.78      0.75      0.74       336\n",
      "    weighted avg       0.77      0.75      0.75       336\n",
      "\n"
     ]
    },
    {
     "name": "stderr",
     "output_type": "stream",
     "text": [
      "Training Epochs:  22%|██▏       | 540/2500 [00:13<00:44, 44.24it/s]"
     ]
    },
    {
     "name": "stdout",
     "output_type": "stream",
     "text": [
      "Epoch 530/2500, Loss: 0.3923\n",
      "Test Accuracy at Epoch 530: 75.00%\n",
      "Test F1-score at Epoch 530: 0.7910\n",
      "Classification Report at Epoch 530:\n",
      "                  precision    recall  f1-score   support\n",
      "\n",
      "    infringement       0.85      0.58      0.69       160\n",
      "non_infringement       0.70      0.90      0.79       176\n",
      "\n",
      "        accuracy                           0.75       336\n",
      "       macro avg       0.77      0.74      0.74       336\n",
      "    weighted avg       0.77      0.75      0.74       336\n",
      "\n",
      "Epoch 540/2500, Loss: 0.2529\n",
      "Test Accuracy at Epoch 540: 76.49%\n",
      "Test F1-score at Epoch 540: 0.7927\n",
      "Classification Report at Epoch 540:\n",
      "                  precision    recall  f1-score   support\n",
      "\n",
      "    infringement       0.81      0.66      0.73       160\n",
      "non_infringement       0.74      0.86      0.79       176\n",
      "\n",
      "        accuracy                           0.76       336\n",
      "       macro avg       0.77      0.76      0.76       336\n",
      "    weighted avg       0.77      0.76      0.76       336\n",
      "\n"
     ]
    },
    {
     "name": "stderr",
     "output_type": "stream",
     "text": [
      "Training Epochs:  22%|██▏       | 557/2500 [00:13<00:40, 48.15it/s]"
     ]
    },
    {
     "name": "stdout",
     "output_type": "stream",
     "text": [
      "Epoch 550/2500, Loss: 0.2313\n",
      "Test Accuracy at Epoch 550: 75.30%\n",
      "Test F1-score at Epoch 550: 0.7940\n",
      "Classification Report at Epoch 550:\n",
      "                  precision    recall  f1-score   support\n",
      "\n",
      "    infringement       0.85      0.58      0.69       160\n",
      "non_infringement       0.70      0.91      0.79       176\n",
      "\n",
      "        accuracy                           0.75       336\n",
      "       macro avg       0.78      0.75      0.74       336\n",
      "    weighted avg       0.78      0.75      0.75       336\n",
      "\n",
      "Epoch 560/2500, Loss: 0.2056\n",
      "Test Accuracy at Epoch 560: 75.89%\n",
      "Test F1-score at Epoch 560: 0.7949\n"
     ]
    },
    {
     "name": "stderr",
     "output_type": "stream",
     "text": [
      "Training Epochs:  23%|██▎       | 567/2500 [00:13<00:44, 43.20it/s]"
     ]
    },
    {
     "name": "stdout",
     "output_type": "stream",
     "text": [
      "Classification Report at Epoch 560:\n",
      "                  precision    recall  f1-score   support\n",
      "\n",
      "    infringement       0.84      0.61      0.71       160\n",
      "non_infringement       0.72      0.89      0.79       176\n",
      "\n",
      "        accuracy                           0.76       336\n",
      "       macro avg       0.78      0.75      0.75       336\n",
      "    weighted avg       0.77      0.76      0.75       336\n",
      "\n"
     ]
    },
    {
     "name": "stderr",
     "output_type": "stream",
     "text": [
      "Training Epochs:  23%|██▎       | 579/2500 [00:13<00:38, 49.33it/s]"
     ]
    },
    {
     "name": "stdout",
     "output_type": "stream",
     "text": [
      "Epoch 570/2500, Loss: 0.1868\n",
      "Test Accuracy at Epoch 570: 73.21%\n",
      "Test F1-score at Epoch 570: 0.7644\n",
      "Classification Report at Epoch 570:\n",
      "                  precision    recall  f1-score   support\n",
      "\n",
      "    infringement       0.77      0.62      0.69       160\n",
      "non_infringement       0.71      0.83      0.76       176\n",
      "\n",
      "        accuracy                           0.73       336\n",
      "       macro avg       0.74      0.73      0.73       336\n",
      "    weighted avg       0.74      0.73      0.73       336\n",
      "\n",
      "Epoch 580/2500, Loss: 0.1658\n",
      "Test Accuracy at Epoch 580: 75.89%\n",
      "Test F1-score at Epoch 580: 0.7907\n",
      "Classification Report at Epoch 580:\n",
      "                  precision    recall  f1-score   support\n",
      "\n",
      "    infringement       0.82      0.64      0.72       160\n",
      "non_infringement       0.73      0.87      0.79       176\n",
      "\n",
      "        accuracy                           0.76       336\n",
      "       macro avg       0.77      0.75      0.75       336\n",
      "    weighted avg       0.77      0.76      0.76       336\n",
      "\n"
     ]
    },
    {
     "name": "stderr",
     "output_type": "stream",
     "text": [
      "Training Epochs:  24%|██▍       | 596/2500 [00:14<00:39, 47.96it/s]"
     ]
    },
    {
     "name": "stdout",
     "output_type": "stream",
     "text": [
      "Epoch 590/2500, Loss: 0.1479\n",
      "Test Accuracy at Epoch 590: 75.60%\n",
      "Test F1-score at Epoch 590: 0.7876\n",
      "Classification Report at Epoch 590:\n",
      "                  precision    recall  f1-score   support\n",
      "\n",
      "    infringement       0.81      0.64      0.71       160\n",
      "non_infringement       0.72      0.86      0.79       176\n",
      "\n",
      "        accuracy                           0.76       336\n",
      "       macro avg       0.77      0.75      0.75       336\n",
      "    weighted avg       0.76      0.76      0.75       336\n",
      "\n",
      "Epoch 600/2500, Loss: 0.1316\n"
     ]
    },
    {
     "name": "stderr",
     "output_type": "stream",
     "text": [
      "Training Epochs:  24%|██▍       | 607/2500 [00:14<00:41, 45.88it/s]"
     ]
    },
    {
     "name": "stdout",
     "output_type": "stream",
     "text": [
      "Test Accuracy at Epoch 600: 75.30%\n",
      "Test F1-score at Epoch 600: 0.7833\n",
      "Classification Report at Epoch 600:\n",
      "                  precision    recall  f1-score   support\n",
      "\n",
      "    infringement       0.80      0.64      0.71       160\n",
      "non_infringement       0.72      0.85      0.78       176\n",
      "\n",
      "        accuracy                           0.75       336\n",
      "       macro avg       0.76      0.75      0.75       336\n",
      "    weighted avg       0.76      0.75      0.75       336\n",
      "\n"
     ]
    },
    {
     "name": "stderr",
     "output_type": "stream",
     "text": [
      "Training Epochs:  25%|██▍       | 618/2500 [00:14<00:37, 49.92it/s]"
     ]
    },
    {
     "name": "stdout",
     "output_type": "stream",
     "text": [
      "Epoch 610/2500, Loss: 0.5254\n",
      "Test Accuracy at Epoch 610: 78.27%\n",
      "Test F1-score at Epoch 610: 0.8133\n",
      "Classification Report at Epoch 610:\n",
      "                  precision    recall  f1-score   support\n",
      "\n",
      "    infringement       0.86      0.65      0.74       160\n",
      "non_infringement       0.74      0.90      0.81       176\n",
      "\n",
      "        accuracy                           0.78       336\n",
      "       macro avg       0.80      0.78      0.78       336\n",
      "    weighted avg       0.80      0.78      0.78       336\n",
      "\n"
     ]
    },
    {
     "name": "stderr",
     "output_type": "stream",
     "text": [
      "Training Epochs:  25%|██▍       | 624/2500 [00:14<00:44, 42.47it/s]"
     ]
    },
    {
     "name": "stdout",
     "output_type": "stream",
     "text": [
      "Epoch 620/2500, Loss: 0.1760\n",
      "Test Accuracy at Epoch 620: 76.19%\n",
      "Test F1-score at Epoch 620: 0.7849\n",
      "Classification Report at Epoch 620:\n",
      "                  precision    recall  f1-score   support\n",
      "\n",
      "    infringement       0.79      0.69      0.73       160\n",
      "non_infringement       0.74      0.83      0.78       176\n",
      "\n",
      "        accuracy                           0.76       336\n",
      "       macro avg       0.77      0.76      0.76       336\n",
      "    weighted avg       0.76      0.76      0.76       336\n",
      "\n",
      "Epoch 630/2500, Loss: 0.1654\n"
     ]
    },
    {
     "name": "stderr",
     "output_type": "stream",
     "text": [
      "Training Epochs:  25%|██▌       | 636/2500 [00:15<00:40, 46.03it/s]"
     ]
    },
    {
     "name": "stdout",
     "output_type": "stream",
     "text": [
      "Test Accuracy at Epoch 630: 75.00%\n",
      "Test F1-score at Epoch 630: 0.8000\n",
      "Classification Report at Epoch 630:\n",
      "                  precision    recall  f1-score   support\n",
      "\n",
      "    infringement       0.91      0.53      0.67       160\n",
      "non_infringement       0.69      0.95      0.80       176\n",
      "\n",
      "        accuracy                           0.75       336\n",
      "       macro avg       0.80      0.74      0.73       336\n",
      "    weighted avg       0.80      0.75      0.74       336\n",
      "\n"
     ]
    },
    {
     "name": "stderr",
     "output_type": "stream",
     "text": [
      "Training Epochs:  26%|██▌       | 646/2500 [00:15<00:48, 38.62it/s]"
     ]
    },
    {
     "name": "stdout",
     "output_type": "stream",
     "text": [
      "Epoch 640/2500, Loss: 0.1521\n",
      "Test Accuracy at Epoch 640: 77.38%\n",
      "Test F1-score at Epoch 640: 0.8051\n",
      "Classification Report at Epoch 640:\n",
      "                  precision    recall  f1-score   support\n",
      "\n",
      "    infringement       0.84      0.64      0.73       160\n",
      "non_infringement       0.73      0.89      0.81       176\n",
      "\n",
      "        accuracy                           0.77       336\n",
      "       macro avg       0.79      0.77      0.77       336\n",
      "    weighted avg       0.79      0.77      0.77       336\n",
      "\n"
     ]
    },
    {
     "name": "stderr",
     "output_type": "stream",
     "text": [
      "Training Epochs:  26%|██▋       | 657/2500 [00:15<00:45, 40.93it/s]"
     ]
    },
    {
     "name": "stdout",
     "output_type": "stream",
     "text": [
      "Epoch 650/2500, Loss: 0.1306\n",
      "Test Accuracy at Epoch 650: 77.68%\n",
      "Test F1-score at Epoch 650: 0.8042\n",
      "Classification Report at Epoch 650:\n",
      "                  precision    recall  f1-score   support\n",
      "\n",
      "    infringement       0.83      0.67      0.74       160\n",
      "non_infringement       0.74      0.88      0.80       176\n",
      "\n",
      "        accuracy                           0.78       336\n",
      "       macro avg       0.79      0.77      0.77       336\n",
      "    weighted avg       0.78      0.78      0.77       336\n",
      "\n"
     ]
    },
    {
     "name": "stderr",
     "output_type": "stream",
     "text": [
      "Training Epochs:  26%|██▋       | 662/2500 [00:15<00:43, 42.10it/s]"
     ]
    },
    {
     "name": "stdout",
     "output_type": "stream",
     "text": [
      "Epoch 660/2500, Loss: 0.1178\n",
      "Test Accuracy at Epoch 660: 77.38%\n",
      "Test F1-score at Epoch 660: 0.8051\n",
      "Classification Report at Epoch 660:\n",
      "                  precision    recall  f1-score   support\n",
      "\n",
      "    infringement       0.84      0.64      0.73       160\n",
      "non_infringement       0.73      0.89      0.81       176\n",
      "\n",
      "        accuracy                           0.77       336\n",
      "       macro avg       0.79      0.77      0.77       336\n",
      "    weighted avg       0.79      0.77      0.77       336\n",
      "\n"
     ]
    },
    {
     "name": "stderr",
     "output_type": "stream",
     "text": [
      "Training Epochs:  27%|██▋       | 679/2500 [00:16<00:40, 45.10it/s]"
     ]
    },
    {
     "name": "stdout",
     "output_type": "stream",
     "text": [
      "Epoch 670/2500, Loss: 0.1068\n",
      "Test Accuracy at Epoch 670: 78.87%\n",
      "Test F1-score at Epoch 670: 0.8184\n",
      "Classification Report at Epoch 670:\n",
      "                  precision    recall  f1-score   support\n",
      "\n",
      "    infringement       0.87      0.66      0.75       160\n",
      "non_infringement       0.74      0.91      0.82       176\n",
      "\n",
      "        accuracy                           0.79       336\n",
      "       macro avg       0.81      0.78      0.78       336\n",
      "    weighted avg       0.80      0.79      0.78       336\n",
      "\n",
      "Epoch 680/2500, Loss: 0.0978\n"
     ]
    },
    {
     "name": "stderr",
     "output_type": "stream",
     "text": [
      "Training Epochs:  27%|██▋       | 684/2500 [00:16<00:39, 45.67it/s]"
     ]
    },
    {
     "name": "stdout",
     "output_type": "stream",
     "text": [
      "Test Accuracy at Epoch 680: 78.57%\n",
      "Test F1-score at Epoch 680: 0.8154\n",
      "Classification Report at Epoch 680:\n",
      "                  precision    recall  f1-score   support\n",
      "\n",
      "    infringement       0.86      0.66      0.74       160\n",
      "non_infringement       0.74      0.90      0.82       176\n",
      "\n",
      "        accuracy                           0.79       336\n",
      "       macro avg       0.80      0.78      0.78       336\n",
      "    weighted avg       0.80      0.79      0.78       336\n",
      "\n"
     ]
    },
    {
     "name": "stderr",
     "output_type": "stream",
     "text": [
      "Training Epochs:  28%|██▊       | 694/2500 [00:16<00:41, 43.09it/s]"
     ]
    },
    {
     "name": "stdout",
     "output_type": "stream",
     "text": [
      "Epoch 690/2500, Loss: 0.0894\n",
      "Test Accuracy at Epoch 690: 79.46%\n",
      "Test F1-score at Epoch 690: 0.8226\n",
      "Classification Report at Epoch 690:\n",
      "                  precision    recall  f1-score   support\n",
      "\n",
      "    infringement       0.87      0.67      0.76       160\n",
      "non_infringement       0.75      0.91      0.82       176\n",
      "\n",
      "        accuracy                           0.79       336\n",
      "       macro avg       0.81      0.79      0.79       336\n",
      "    weighted avg       0.81      0.79      0.79       336\n",
      "\n",
      "Epoch 700/2500, Loss: 0.0827\n",
      "Test Accuracy at Epoch 700: 80.06%\n",
      "Test F1-score at Epoch 700: 0.8286\n"
     ]
    },
    {
     "name": "stderr",
     "output_type": "stream",
     "text": [
      "Training Epochs:  28%|██▊       | 705/2500 [00:16<00:43, 41.19it/s]"
     ]
    },
    {
     "name": "stdout",
     "output_type": "stream",
     "text": [
      "Classification Report at Epoch 700:\n",
      "                  precision    recall  f1-score   support\n",
      "\n",
      "    infringement       0.88      0.67      0.76       160\n",
      "non_infringement       0.75      0.92      0.83       176\n",
      "\n",
      "        accuracy                           0.80       336\n",
      "       macro avg       0.82      0.79      0.80       336\n",
      "    weighted avg       0.82      0.80      0.80       336\n",
      "\n"
     ]
    },
    {
     "name": "stderr",
     "output_type": "stream",
     "text": [
      "Training Epochs:  29%|██▊       | 717/2500 [00:17<00:37, 47.96it/s]"
     ]
    },
    {
     "name": "stdout",
     "output_type": "stream",
     "text": [
      "Epoch 710/2500, Loss: 0.0770\n",
      "Test Accuracy at Epoch 710: 80.36%\n",
      "Test F1-score at Epoch 710: 0.8316\n",
      "Classification Report at Epoch 710:\n",
      "                  precision    recall  f1-score   support\n",
      "\n",
      "    infringement       0.89      0.67      0.76       160\n",
      "non_infringement       0.75      0.93      0.83       176\n",
      "\n",
      "        accuracy                           0.80       336\n",
      "       macro avg       0.82      0.80      0.80       336\n",
      "    weighted avg       0.82      0.80      0.80       336\n",
      "\n",
      "Epoch 720/2500, Loss: 0.0723\n",
      "Test Accuracy at Epoch 720: 79.17%\n",
      "Test F1-score at Epoch 720: 0.8196\n",
      "Classification Report at Epoch 720:\n",
      "                  precision    recall  f1-score   support\n",
      "\n",
      "    infringement       0.86      0.67      0.75       160\n",
      "non_infringement       0.75      0.90      0.82       176\n",
      "\n",
      "        accuracy                           0.79       336\n",
      "       macro avg       0.81      0.79      0.79       336\n",
      "    weighted avg       0.80      0.79      0.79       336\n",
      "\n"
     ]
    },
    {
     "name": "stderr",
     "output_type": "stream",
     "text": [
      "Training Epochs:  29%|██▉       | 733/2500 [00:17<00:43, 41.09it/s]"
     ]
    },
    {
     "name": "stdout",
     "output_type": "stream",
     "text": [
      "Epoch 730/2500, Loss: 0.0684\n",
      "Test Accuracy at Epoch 730: 77.68%\n",
      "Test F1-score at Epoch 730: 0.8101\n",
      "Classification Report at Epoch 730:\n",
      "                  precision    recall  f1-score   support\n",
      "\n",
      "    infringement       0.86      0.63      0.73       160\n",
      "non_infringement       0.73      0.91      0.81       176\n",
      "\n",
      "        accuracy                           0.78       336\n",
      "       macro avg       0.80      0.77      0.77       336\n",
      "    weighted avg       0.79      0.78      0.77       336\n",
      "\n"
     ]
    },
    {
     "name": "stderr",
     "output_type": "stream",
     "text": [
      "Training Epochs:  30%|██▉       | 749/2500 [00:17<00:39, 44.14it/s]"
     ]
    },
    {
     "name": "stdout",
     "output_type": "stream",
     "text": [
      "Epoch 740/2500, Loss: 0.0652\n",
      "Test Accuracy at Epoch 740: 77.08%\n",
      "Test F1-score at Epoch 740: 0.8041\n",
      "Classification Report at Epoch 740:\n",
      "                  precision    recall  f1-score   support\n",
      "\n",
      "    infringement       0.85      0.63      0.72       160\n",
      "non_infringement       0.73      0.90      0.80       176\n",
      "\n",
      "        accuracy                           0.77       336\n",
      "       macro avg       0.79      0.76      0.76       336\n",
      "    weighted avg       0.79      0.77      0.77       336\n",
      "\n",
      "Epoch 750/2500, Loss: 0.0625\n",
      "Test Accuracy at Epoch 750: 76.79%\n",
      "Test F1-score at Epoch 750: 0.8020\n"
     ]
    },
    {
     "name": "stderr",
     "output_type": "stream",
     "text": [
      "Training Epochs:  30%|███       | 754/2500 [00:17<00:42, 41.10it/s]"
     ]
    },
    {
     "name": "stdout",
     "output_type": "stream",
     "text": [
      "Classification Report at Epoch 750:\n",
      "                  precision    recall  f1-score   support\n",
      "\n",
      "    infringement       0.85      0.62      0.72       160\n",
      "non_infringement       0.72      0.90      0.80       176\n",
      "\n",
      "        accuracy                           0.77       336\n",
      "       macro avg       0.79      0.76      0.76       336\n",
      "    weighted avg       0.78      0.77      0.76       336\n",
      "\n"
     ]
    },
    {
     "name": "stderr",
     "output_type": "stream",
     "text": [
      "Training Epochs:  31%|███       | 766/2500 [00:18<00:36, 47.55it/s]"
     ]
    },
    {
     "name": "stdout",
     "output_type": "stream",
     "text": [
      "Epoch 760/2500, Loss: 0.0603\n",
      "Test Accuracy at Epoch 760: 77.08%\n",
      "Test F1-score at Epoch 760: 0.8041\n",
      "Classification Report at Epoch 760:\n",
      "                  precision    recall  f1-score   support\n",
      "\n",
      "    infringement       0.85      0.63      0.72       160\n",
      "non_infringement       0.73      0.90      0.80       176\n",
      "\n",
      "        accuracy                           0.77       336\n",
      "       macro avg       0.79      0.76      0.76       336\n",
      "    weighted avg       0.79      0.77      0.77       336\n",
      "\n",
      "Epoch 770/2500, Loss: 0.0585\n",
      "Test Accuracy at Epoch 770: 77.38%\n",
      "Test F1-score at Epoch 770: 0.8071\n",
      "Classification Report at Epoch 770:\n",
      "                  precision    recall  f1-score   support\n",
      "\n",
      "    infringement       0.86      0.63      0.73       160\n",
      "non_infringement       0.73      0.90      0.81       176\n",
      "\n",
      "        accuracy                           0.77       336\n",
      "       macro avg       0.79      0.77      0.77       336\n",
      "    weighted avg       0.79      0.77      0.77       336\n",
      "\n"
     ]
    },
    {
     "name": "stderr",
     "output_type": "stream",
     "text": [
      "Training Epochs:  32%|███▏      | 789/2500 [00:18<00:33, 50.54it/s]"
     ]
    },
    {
     "name": "stdout",
     "output_type": "stream",
     "text": [
      "Epoch 780/2500, Loss: 0.0569\n",
      "Test Accuracy at Epoch 780: 77.38%\n",
      "Test F1-score at Epoch 780: 0.8071\n",
      "Classification Report at Epoch 780:\n",
      "                  precision    recall  f1-score   support\n",
      "\n",
      "    infringement       0.86      0.63      0.73       160\n",
      "non_infringement       0.73      0.90      0.81       176\n",
      "\n",
      "        accuracy                           0.77       336\n",
      "       macro avg       0.79      0.77      0.77       336\n",
      "    weighted avg       0.79      0.77      0.77       336\n",
      "\n",
      "Epoch 790/2500, Loss: 0.0555\n",
      "Test Accuracy at Epoch 790: 77.38%\n",
      "Test F1-score at Epoch 790: 0.8071\n",
      "Classification Report at Epoch 790:\n",
      "                  precision    recall  f1-score   support\n",
      "\n",
      "    infringement       0.86      0.63      0.73       160\n",
      "non_infringement       0.73      0.90      0.81       176\n",
      "\n",
      "        accuracy                           0.77       336\n",
      "       macro avg       0.79      0.77      0.77       336\n",
      "    weighted avg       0.79      0.77      0.77       336\n",
      "\n"
     ]
    },
    {
     "name": "stderr",
     "output_type": "stream",
     "text": [
      "Training Epochs:  32%|███▏      | 808/2500 [00:19<00:33, 50.17it/s]"
     ]
    },
    {
     "name": "stdout",
     "output_type": "stream",
     "text": [
      "Epoch 800/2500, Loss: 0.0544\n",
      "Test Accuracy at Epoch 800: 77.38%\n",
      "Test F1-score at Epoch 800: 0.8071\n",
      "Classification Report at Epoch 800:\n",
      "                  precision    recall  f1-score   support\n",
      "\n",
      "    infringement       0.86      0.63      0.73       160\n",
      "non_infringement       0.73      0.90      0.81       176\n",
      "\n",
      "        accuracy                           0.77       336\n",
      "       macro avg       0.79      0.77      0.77       336\n",
      "    weighted avg       0.79      0.77      0.77       336\n",
      "\n",
      "Epoch 810/2500, Loss: 0.0533\n",
      "Test Accuracy at Epoch 810: 77.38%\n",
      "Test F1-score at Epoch 810: 0.8071\n",
      "Classification Report at Epoch 810:\n",
      "                  precision    recall  f1-score   support\n",
      "\n",
      "    infringement       0.86      0.63      0.73       160\n",
      "non_infringement       0.73      0.90      0.81       176\n",
      "\n",
      "        accuracy                           0.77       336\n",
      "       macro avg       0.79      0.77      0.77       336\n",
      "    weighted avg       0.79      0.77      0.77       336\n",
      "\n"
     ]
    },
    {
     "name": "stderr",
     "output_type": "stream",
     "text": [
      "Training Epochs:  33%|███▎      | 826/2500 [00:19<00:35, 47.76it/s]"
     ]
    },
    {
     "name": "stdout",
     "output_type": "stream",
     "text": [
      "Epoch 820/2500, Loss: 0.0524\n",
      "Test Accuracy at Epoch 820: 77.68%\n",
      "Test F1-score at Epoch 820: 0.8101\n",
      "Classification Report at Epoch 820:\n",
      "                  precision    recall  f1-score   support\n",
      "\n",
      "    infringement       0.86      0.63      0.73       160\n",
      "non_infringement       0.73      0.91      0.81       176\n",
      "\n",
      "        accuracy                           0.78       336\n",
      "       macro avg       0.80      0.77      0.77       336\n",
      "    weighted avg       0.79      0.78      0.77       336\n",
      "\n"
     ]
    },
    {
     "name": "stderr",
     "output_type": "stream",
     "text": [
      "Training Epochs:  33%|███▎      | 837/2500 [00:19<00:36, 45.23it/s]"
     ]
    },
    {
     "name": "stdout",
     "output_type": "stream",
     "text": [
      "Epoch 830/2500, Loss: 0.0516\n",
      "Test Accuracy at Epoch 830: 77.68%\n",
      "Test F1-score at Epoch 830: 0.8101\n",
      "Classification Report at Epoch 830:\n",
      "                  precision    recall  f1-score   support\n",
      "\n",
      "    infringement       0.86      0.63      0.73       160\n",
      "non_infringement       0.73      0.91      0.81       176\n",
      "\n",
      "        accuracy                           0.78       336\n",
      "       macro avg       0.80      0.77      0.77       336\n",
      "    weighted avg       0.79      0.78      0.77       336\n",
      "\n",
      "Epoch 840/2500, Loss: 0.0521\n"
     ]
    },
    {
     "name": "stderr",
     "output_type": "stream",
     "text": [
      "Training Epochs:  34%|███▍      | 847/2500 [00:19<00:39, 41.78it/s]"
     ]
    },
    {
     "name": "stdout",
     "output_type": "stream",
     "text": [
      "Test Accuracy at Epoch 840: 78.27%\n",
      "Test F1-score at Epoch 840: 0.8180\n",
      "Classification Report at Epoch 840:\n",
      "                  precision    recall  f1-score   support\n",
      "\n",
      "    infringement       0.89      0.62      0.73       160\n",
      "non_infringement       0.73      0.93      0.82       176\n",
      "\n",
      "        accuracy                           0.78       336\n",
      "       macro avg       0.81      0.78      0.77       336\n",
      "    weighted avg       0.81      0.78      0.78       336\n",
      "\n"
     ]
    },
    {
     "name": "stderr",
     "output_type": "stream",
     "text": [
      "Training Epochs:  34%|███▍      | 858/2500 [00:20<00:35, 45.87it/s]"
     ]
    },
    {
     "name": "stdout",
     "output_type": "stream",
     "text": [
      "Epoch 850/2500, Loss: 4.0757\n",
      "Test Accuracy at Epoch 850: 71.43%\n",
      "Test F1-score at Epoch 850: 0.7798\n",
      "Classification Report at Epoch 850:\n",
      "                  precision    recall  f1-score   support\n",
      "\n",
      "    infringement       0.92      0.44      0.59       160\n",
      "non_infringement       0.65      0.97      0.78       176\n",
      "\n",
      "        accuracy                           0.71       336\n",
      "       macro avg       0.79      0.70      0.69       336\n",
      "    weighted avg       0.78      0.71      0.69       336\n",
      "\n"
     ]
    },
    {
     "name": "stderr",
     "output_type": "stream",
     "text": [
      "Training Epochs:  35%|███▍      | 863/2500 [00:20<00:39, 41.28it/s]"
     ]
    },
    {
     "name": "stdout",
     "output_type": "stream",
     "text": [
      "Epoch 860/2500, Loss: 1.0307\n",
      "Test Accuracy at Epoch 860: 72.32%\n",
      "Test F1-score at Epoch 860: 0.7273\n",
      "Classification Report at Epoch 860:\n",
      "                  precision    recall  f1-score   support\n",
      "\n",
      "    infringement       0.70      0.74      0.72       160\n",
      "non_infringement       0.75      0.70      0.73       176\n",
      "\n",
      "        accuracy                           0.72       336\n",
      "       macro avg       0.72      0.72      0.72       336\n",
      "    weighted avg       0.73      0.72      0.72       336\n",
      "\n"
     ]
    },
    {
     "name": "stderr",
     "output_type": "stream",
     "text": [
      "Training Epochs:  35%|███▌      | 879/2500 [00:20<00:34, 46.85it/s]"
     ]
    },
    {
     "name": "stdout",
     "output_type": "stream",
     "text": [
      "Epoch 870/2500, Loss: 0.4762\n",
      "Test Accuracy at Epoch 870: 69.64%\n",
      "Test F1-score at Epoch 870: 0.7692\n",
      "Classification Report at Epoch 870:\n",
      "                  precision    recall  f1-score   support\n",
      "\n",
      "    infringement       0.91      0.40      0.56       160\n",
      "non_infringement       0.64      0.97      0.77       176\n",
      "\n",
      "        accuracy                           0.70       336\n",
      "       macro avg       0.78      0.68      0.66       336\n",
      "    weighted avg       0.77      0.70      0.67       336\n",
      "\n",
      "Epoch 880/2500, Loss: 0.4436\n"
     ]
    },
    {
     "name": "stderr",
     "output_type": "stream",
     "text": [
      "Training Epochs:  36%|███▌      | 890/2500 [00:20<00:36, 43.78it/s]"
     ]
    },
    {
     "name": "stdout",
     "output_type": "stream",
     "text": [
      "Test Accuracy at Epoch 880: 68.45%\n",
      "Test F1-score at Epoch 880: 0.7634\n",
      "Classification Report at Epoch 880:\n",
      "                  precision    recall  f1-score   support\n",
      "\n",
      "    infringement       0.92      0.37      0.53       160\n",
      "non_infringement       0.63      0.97      0.76       176\n",
      "\n",
      "        accuracy                           0.68       336\n",
      "       macro avg       0.78      0.67      0.65       336\n",
      "    weighted avg       0.77      0.68      0.65       336\n",
      "\n",
      "Epoch 890/2500, Loss: 0.4062\n",
      "Test Accuracy at Epoch 890: 70.83%\n",
      "Test F1-score at Epoch 890: 0.7731\n",
      "Classification Report at Epoch 890:\n",
      "                  precision    recall  f1-score   support\n",
      "\n",
      "    infringement       0.89      0.44      0.59       160\n",
      "non_infringement       0.65      0.95      0.77       176\n",
      "\n",
      "        accuracy                           0.71       336\n",
      "       macro avg       0.77      0.70      0.68       336\n",
      "    weighted avg       0.76      0.71      0.69       336\n",
      "\n"
     ]
    },
    {
     "name": "stderr",
     "output_type": "stream",
     "text": [
      "Training Epochs:  36%|███▋      | 908/2500 [00:21<00:34, 46.49it/s]"
     ]
    },
    {
     "name": "stdout",
     "output_type": "stream",
     "text": [
      "Epoch 900/2500, Loss: 0.3672\n",
      "Test Accuracy at Epoch 900: 73.21%\n",
      "Test F1-score at Epoch 900: 0.7867\n",
      "Classification Report at Epoch 900:\n",
      "                  precision    recall  f1-score   support\n",
      "\n",
      "    infringement       0.89      0.50      0.64       160\n",
      "non_infringement       0.67      0.94      0.79       176\n",
      "\n",
      "        accuracy                           0.73       336\n",
      "       macro avg       0.78      0.72      0.71       336\n",
      "    weighted avg       0.78      0.73      0.72       336\n",
      "\n",
      "Epoch 910/2500, Loss: 0.3265\n",
      "Test Accuracy at Epoch 910: 74.11%\n",
      "Test F1-score at Epoch 910: 0.7786\n",
      "Classification Report at Epoch 910:\n",
      "                  precision    recall  f1-score   support\n",
      "\n",
      "    infringement       0.81      0.60      0.69       160\n",
      "non_infringement       0.71      0.87      0.78       176\n",
      "\n",
      "        accuracy                           0.74       336\n",
      "       macro avg       0.76      0.73      0.73       336\n",
      "    weighted avg       0.75      0.74      0.74       336\n",
      "\n"
     ]
    },
    {
     "name": "stderr",
     "output_type": "stream",
     "text": [
      "Training Epochs:  37%|███▋      | 926/2500 [00:21<00:34, 45.52it/s]"
     ]
    },
    {
     "name": "stdout",
     "output_type": "stream",
     "text": [
      "Epoch 920/2500, Loss: 0.2857\n",
      "Test Accuracy at Epoch 920: 74.11%\n",
      "Test F1-score at Epoch 920: 0.7752\n",
      "Classification Report at Epoch 920:\n",
      "                  precision    recall  f1-score   support\n",
      "\n",
      "    infringement       0.79      0.62      0.69       160\n",
      "non_infringement       0.71      0.85      0.78       176\n",
      "\n",
      "        accuracy                           0.74       336\n",
      "       macro avg       0.75      0.74      0.73       336\n",
      "    weighted avg       0.75      0.74      0.74       336\n",
      "\n"
     ]
    },
    {
     "name": "stderr",
     "output_type": "stream",
     "text": [
      "Training Epochs:  37%|███▋      | 931/2500 [00:21<00:46, 33.88it/s]"
     ]
    },
    {
     "name": "stdout",
     "output_type": "stream",
     "text": [
      "Epoch 930/2500, Loss: 0.2757\n",
      "Test Accuracy at Epoch 930: 70.83%\n",
      "Test F1-score at Epoch 930: 0.7293\n",
      "Classification Report at Epoch 930:\n",
      "                  precision    recall  f1-score   support\n",
      "\n",
      "    infringement       0.71      0.66      0.68       160\n",
      "non_infringement       0.71      0.75      0.73       176\n",
      "\n",
      "        accuracy                           0.71       336\n",
      "       macro avg       0.71      0.71      0.71       336\n",
      "    weighted avg       0.71      0.71      0.71       336\n",
      "\n"
     ]
    },
    {
     "name": "stderr",
     "output_type": "stream",
     "text": [
      "Training Epochs:  38%|███▊      | 942/2500 [00:22<00:38, 40.65it/s]"
     ]
    },
    {
     "name": "stdout",
     "output_type": "stream",
     "text": [
      "Epoch 940/2500, Loss: 0.3658\n",
      "Test Accuracy at Epoch 940: 72.02%\n",
      "Test F1-score at Epoch 940: 0.7834\n",
      "Classification Report at Epoch 940:\n",
      "                  precision    recall  f1-score   support\n",
      "\n",
      "    infringement       0.92      0.45      0.61       160\n",
      "non_infringement       0.66      0.97      0.78       176\n",
      "\n",
      "        accuracy                           0.72       336\n",
      "       macro avg       0.79      0.71      0.69       336\n",
      "    weighted avg       0.78      0.72      0.70       336\n",
      "\n"
     ]
    },
    {
     "name": "stderr",
     "output_type": "stream",
     "text": [
      "Training Epochs:  38%|███▊      | 955/2500 [00:22<00:34, 45.06it/s]"
     ]
    },
    {
     "name": "stdout",
     "output_type": "stream",
     "text": [
      "Epoch 950/2500, Loss: 0.4644\n",
      "Test Accuracy at Epoch 950: 67.26%\n",
      "Test F1-score at Epoch 950: 0.7043\n",
      "Classification Report at Epoch 950:\n",
      "                  precision    recall  f1-score   support\n",
      "\n",
      "    infringement       0.68      0.59      0.63       160\n",
      "non_infringement       0.67      0.74      0.70       176\n",
      "\n",
      "        accuracy                           0.67       336\n",
      "       macro avg       0.67      0.67      0.67       336\n",
      "    weighted avg       0.67      0.67      0.67       336\n",
      "\n",
      "Epoch 960/2500, Loss: 0.4574\n",
      "Test Accuracy at Epoch 960: 70.83%\n",
      "Test F1-score at Epoch 960: 0.7633\n",
      "Classification Report at Epoch 960:\n",
      "                  precision    recall  f1-score   support\n",
      "\n",
      "    infringement       0.82      0.50      0.62       160\n",
      "non_infringement       0.66      0.90      0.76       176\n",
      "\n",
      "        accuracy                           0.71       336\n",
      "       macro avg       0.74      0.70      0.69       336\n",
      "    weighted avg       0.74      0.71      0.70       336\n",
      "\n"
     ]
    },
    {
     "name": "stderr",
     "output_type": "stream",
     "text": [
      "Training Epochs:  39%|███▉      | 980/2500 [00:22<00:31, 47.70it/s]"
     ]
    },
    {
     "name": "stdout",
     "output_type": "stream",
     "text": [
      "Epoch 970/2500, Loss: 0.4440\n",
      "Test Accuracy at Epoch 970: 72.32%\n",
      "Test F1-score at Epoch 970: 0.7780\n",
      "Classification Report at Epoch 970:\n",
      "                  precision    recall  f1-score   support\n",
      "\n",
      "    infringement       0.86      0.50      0.63       160\n",
      "non_infringement       0.67      0.93      0.78       176\n",
      "\n",
      "        accuracy                           0.72       336\n",
      "       macro avg       0.77      0.71      0.71       336\n",
      "    weighted avg       0.76      0.72      0.71       336\n",
      "\n",
      "Epoch 980/2500, Loss: 0.4560\n",
      "Test Accuracy at Epoch 980: 72.62%\n",
      "Test F1-score at Epoch 980: 0.7617\n",
      "Classification Report at Epoch 980:\n",
      "                  precision    recall  f1-score   support\n",
      "\n",
      "    infringement       0.77      0.61      0.68       160\n",
      "non_infringement       0.70      0.84      0.76       176\n",
      "\n",
      "        accuracy                           0.73       336\n",
      "       macro avg       0.73      0.72      0.72       336\n",
      "    weighted avg       0.73      0.73      0.72       336\n",
      "\n"
     ]
    },
    {
     "name": "stderr",
     "output_type": "stream",
     "text": [
      "Training Epochs:  40%|███▉      | 999/2500 [00:23<00:32, 46.36it/s]"
     ]
    },
    {
     "name": "stdout",
     "output_type": "stream",
     "text": [
      "Epoch 990/2500, Loss: 0.3833\n",
      "Test Accuracy at Epoch 990: 74.11%\n",
      "Test F1-score at Epoch 990: 0.7862\n",
      "Classification Report at Epoch 990:\n",
      "                  precision    recall  f1-score   support\n",
      "\n",
      "    infringement       0.85      0.56      0.67       160\n",
      "non_infringement       0.69      0.91      0.79       176\n",
      "\n",
      "        accuracy                           0.74       336\n",
      "       macro avg       0.77      0.73      0.73       336\n",
      "    weighted avg       0.77      0.74      0.73       336\n",
      "\n",
      "Epoch 1000/2500, Loss: 0.3179\n",
      "Test Accuracy at Epoch 1000: 74.40%\n",
      "Test F1-score at Epoch 1000: 0.7817\n",
      "Classification Report at Epoch 1000:\n",
      "                  precision    recall  f1-score   support\n",
      "\n",
      "    infringement       0.81      0.60      0.69       160\n",
      "non_infringement       0.71      0.88      0.78       176\n",
      "\n",
      "        accuracy                           0.74       336\n",
      "       macro avg       0.76      0.74      0.74       336\n",
      "    weighted avg       0.76      0.74      0.74       336\n",
      "\n"
     ]
    },
    {
     "name": "stderr",
     "output_type": "stream",
     "text": [
      "Training Epochs:  41%|████      | 1016/2500 [00:23<00:32, 45.46it/s]"
     ]
    },
    {
     "name": "stdout",
     "output_type": "stream",
     "text": [
      "Epoch 1010/2500, Loss: 0.2571\n",
      "Test Accuracy at Epoch 1010: 68.15%\n",
      "Test F1-score at Epoch 1010: 0.6844\n",
      "Classification Report at Epoch 1010:\n",
      "                  precision    recall  f1-score   support\n",
      "\n",
      "    infringement       0.65      0.71      0.68       160\n",
      "non_infringement       0.71      0.66      0.68       176\n",
      "\n",
      "        accuracy                           0.68       336\n",
      "       macro avg       0.68      0.68      0.68       336\n",
      "    weighted avg       0.68      0.68      0.68       336\n",
      "\n",
      "Epoch 1020/2500, Loss: 0.2149\n",
      "Test Accuracy at Epoch 1020: 69.64%\n",
      "Test F1-score at Epoch 1020: 0.7135\n",
      "Classification Report at Epoch 1020:\n",
      "                  precision    recall  f1-score   support\n",
      "\n",
      "    infringement       0.69      0.67      0.68       160\n",
      "non_infringement       0.71      0.72      0.71       176\n",
      "\n",
      "        accuracy                           0.70       336\n",
      "       macro avg       0.70      0.70      0.70       336\n",
      "    weighted avg       0.70      0.70      0.70       336\n",
      "\n"
     ]
    },
    {
     "name": "stderr",
     "output_type": "stream",
     "text": [
      "Training Epochs:  41%|████▏     | 1033/2500 [00:24<00:37, 39.05it/s]"
     ]
    },
    {
     "name": "stdout",
     "output_type": "stream",
     "text": [
      "Epoch 1030/2500, Loss: 0.1787\n",
      "Test Accuracy at Epoch 1030: 69.94%\n",
      "Test F1-score at Epoch 1030: 0.7263\n",
      "Classification Report at Epoch 1030:\n",
      "                  precision    recall  f1-score   support\n",
      "\n",
      "    infringement       0.71      0.63      0.67       160\n",
      "non_infringement       0.69      0.76      0.73       176\n",
      "\n",
      "        accuracy                           0.70       336\n",
      "       macro avg       0.70      0.70      0.70       336\n",
      "    weighted avg       0.70      0.70      0.70       336\n",
      "\n"
     ]
    },
    {
     "name": "stderr",
     "output_type": "stream",
     "text": [
      "Training Epochs:  42%|████▏     | 1050/2500 [00:24<00:31, 45.66it/s]"
     ]
    },
    {
     "name": "stdout",
     "output_type": "stream",
     "text": [
      "Epoch 1040/2500, Loss: 0.1582\n",
      "Test Accuracy at Epoch 1040: 69.05%\n",
      "Test F1-score at Epoch 1040: 0.7062\n",
      "Classification Report at Epoch 1040:\n",
      "                  precision    recall  f1-score   support\n",
      "\n",
      "    infringement       0.68      0.67      0.67       160\n",
      "non_infringement       0.70      0.71      0.71       176\n",
      "\n",
      "        accuracy                           0.69       336\n",
      "       macro avg       0.69      0.69      0.69       336\n",
      "    weighted avg       0.69      0.69      0.69       336\n",
      "\n",
      "Epoch 1050/2500, Loss: 0.1548\n",
      "Test Accuracy at Epoch 1050: 68.75%\n",
      "Test F1-score at Epoch 1050: 0.6939\n",
      "Classification Report at Epoch 1050:\n",
      "                  precision    recall  f1-score   support\n",
      "\n",
      "    infringement       0.66      0.70      0.68       160\n",
      "non_infringement       0.71      0.68      0.69       176\n",
      "\n",
      "        accuracy                           0.69       336\n",
      "       macro avg       0.69      0.69      0.69       336\n",
      "    weighted avg       0.69      0.69      0.69       336\n",
      "\n"
     ]
    },
    {
     "name": "stderr",
     "output_type": "stream",
     "text": [
      "Training Epochs:  43%|████▎     | 1069/2500 [00:24<00:27, 51.63it/s]"
     ]
    },
    {
     "name": "stdout",
     "output_type": "stream",
     "text": [
      "Epoch 1060/2500, Loss: 0.1251\n",
      "Test Accuracy at Epoch 1060: 74.70%\n",
      "Test F1-score at Epoch 1060: 0.7696\n",
      "Classification Report at Epoch 1060:\n",
      "                  precision    recall  f1-score   support\n",
      "\n",
      "    infringement       0.76      0.68      0.72       160\n",
      "non_infringement       0.74      0.81      0.77       176\n",
      "\n",
      "        accuracy                           0.75       336\n",
      "       macro avg       0.75      0.74      0.74       336\n",
      "    weighted avg       0.75      0.75      0.75       336\n",
      "\n",
      "Epoch 1070/2500, Loss: 0.1173\n",
      "Test Accuracy at Epoch 1070: 77.38%\n",
      "Test F1-score at Epoch 1070: 0.8128\n",
      "Classification Report at Epoch 1070:\n",
      "                  precision    recall  f1-score   support\n",
      "\n",
      "    infringement       0.90      0.59      0.71       160\n",
      "non_infringement       0.72      0.94      0.81       176\n",
      "\n",
      "        accuracy                           0.77       336\n",
      "       macro avg       0.81      0.77      0.76       336\n",
      "    weighted avg       0.80      0.77      0.77       336\n",
      "\n"
     ]
    },
    {
     "name": "stderr",
     "output_type": "stream",
     "text": [
      "Training Epochs:  44%|████▎     | 1088/2500 [00:25<00:27, 52.04it/s]"
     ]
    },
    {
     "name": "stdout",
     "output_type": "stream",
     "text": [
      "Epoch 1080/2500, Loss: 0.0929\n",
      "Test Accuracy at Epoch 1080: 78.57%\n",
      "Test F1-score at Epoch 1080: 0.8115\n",
      "Classification Report at Epoch 1080:\n",
      "                  precision    recall  f1-score   support\n",
      "\n",
      "    infringement       0.84      0.68      0.75       160\n",
      "non_infringement       0.75      0.88      0.81       176\n",
      "\n",
      "        accuracy                           0.79       336\n",
      "       macro avg       0.80      0.78      0.78       336\n",
      "    weighted avg       0.79      0.79      0.78       336\n",
      "\n",
      "Epoch 1090/2500, Loss: 0.6176\n",
      "Test Accuracy at Epoch 1090: 66.67%\n",
      "Test F1-score at Epoch 1090: 0.6627\n",
      "Classification Report at Epoch 1090:\n",
      "                  precision    recall  f1-score   support\n",
      "\n",
      "    infringement       0.63      0.71      0.67       160\n",
      "non_infringement       0.71      0.62      0.66       176\n",
      "\n",
      "        accuracy                           0.67       336\n",
      "       macro avg       0.67      0.67      0.67       336\n",
      "    weighted avg       0.67      0.67      0.67       336\n",
      "\n"
     ]
    },
    {
     "name": "stderr",
     "output_type": "stream",
     "text": [
      "Training Epochs:  44%|████▍     | 1107/2500 [00:25<00:27, 51.17it/s]"
     ]
    },
    {
     "name": "stdout",
     "output_type": "stream",
     "text": [
      "Epoch 1100/2500, Loss: 0.1264\n",
      "Test Accuracy at Epoch 1100: 75.00%\n",
      "Test F1-score at Epoch 1100: 0.8000\n",
      "Classification Report at Epoch 1100:\n",
      "                  precision    recall  f1-score   support\n",
      "\n",
      "    infringement       0.91      0.53      0.67       160\n",
      "non_infringement       0.69      0.95      0.80       176\n",
      "\n",
      "        accuracy                           0.75       336\n",
      "       macro avg       0.80      0.74      0.73       336\n",
      "    weighted avg       0.80      0.75      0.74       336\n",
      "\n",
      "Epoch 1110/2500, Loss: 0.1230\n",
      "Test Accuracy at Epoch 1110: 77.38%\n",
      "Test F1-score at Epoch 1110: 0.8164\n",
      "Classification Report at Epoch 1110:\n",
      "                  precision    recall  f1-score   support\n",
      "\n",
      "    infringement       0.93      0.57      0.71       160\n",
      "non_infringement       0.71      0.96      0.82       176\n",
      "\n",
      "        accuracy                           0.77       336\n",
      "       macro avg       0.82      0.76      0.76       336\n",
      "    weighted avg       0.81      0.77      0.76       336\n",
      "\n"
     ]
    },
    {
     "name": "stderr",
     "output_type": "stream",
     "text": [
      "Training Epochs:  45%|████▌     | 1131/2500 [00:26<00:25, 52.94it/s]"
     ]
    },
    {
     "name": "stdout",
     "output_type": "stream",
     "text": [
      "Epoch 1120/2500, Loss: 0.1116\n",
      "Test Accuracy at Epoch 1120: 79.46%\n",
      "Test F1-score at Epoch 1120: 0.8271\n",
      "Classification Report at Epoch 1120:\n",
      "                  precision    recall  f1-score   support\n",
      "\n",
      "    infringement       0.90      0.64      0.75       160\n",
      "non_infringement       0.74      0.94      0.83       176\n",
      "\n",
      "        accuracy                           0.79       336\n",
      "       macro avg       0.82      0.79      0.79       336\n",
      "    weighted avg       0.82      0.79      0.79       336\n",
      "\n",
      "Epoch 1130/2500, Loss: 0.0892\n",
      "Test Accuracy at Epoch 1130: 78.87%\n",
      "Test F1-score at Epoch 1130: 0.8203\n",
      "Classification Report at Epoch 1130:\n",
      "                  precision    recall  f1-score   support\n",
      "\n",
      "    infringement       0.88      0.64      0.74       160\n",
      "non_infringement       0.74      0.92      0.82       176\n",
      "\n",
      "        accuracy                           0.79       336\n",
      "       macro avg       0.81      0.78      0.78       336\n",
      "    weighted avg       0.81      0.79      0.78       336\n",
      "\n"
     ]
    },
    {
     "name": "stderr",
     "output_type": "stream",
     "text": [
      "Training Epochs:  46%|████▌     | 1150/2500 [00:26<00:27, 49.96it/s]"
     ]
    },
    {
     "name": "stdout",
     "output_type": "stream",
     "text": [
      "Epoch 1140/2500, Loss: 0.0784\n",
      "Test Accuracy at Epoch 1140: 78.57%\n",
      "Test F1-score at Epoch 1140: 0.8115\n",
      "Classification Report at Epoch 1140:\n",
      "                  precision    recall  f1-score   support\n",
      "\n",
      "    infringement       0.84      0.68      0.75       160\n",
      "non_infringement       0.75      0.88      0.81       176\n",
      "\n",
      "        accuracy                           0.79       336\n",
      "       macro avg       0.80      0.78      0.78       336\n",
      "    weighted avg       0.79      0.79      0.78       336\n",
      "\n",
      "Epoch 1150/2500, Loss: 0.0682\n",
      "Test Accuracy at Epoch 1150: 77.38%\n",
      "Test F1-score at Epoch 1150: 0.8041\n",
      "Classification Report at Epoch 1150:\n",
      "                  precision    recall  f1-score   support\n",
      "\n",
      "    infringement       0.84      0.65      0.73       160\n",
      "non_infringement       0.74      0.89      0.80       176\n",
      "\n",
      "        accuracy                           0.77       336\n",
      "       macro avg       0.79      0.77      0.77       336\n",
      "    weighted avg       0.78      0.77      0.77       336\n",
      "\n"
     ]
    },
    {
     "name": "stderr",
     "output_type": "stream",
     "text": [
      "Training Epochs:  47%|████▋     | 1170/2500 [00:26<00:25, 51.71it/s]"
     ]
    },
    {
     "name": "stdout",
     "output_type": "stream",
     "text": [
      "Epoch 1160/2500, Loss: 0.0619\n",
      "Test Accuracy at Epoch 1160: 77.08%\n",
      "Test F1-score at Epoch 1160: 0.8021\n",
      "Classification Report at Epoch 1160:\n",
      "                  precision    recall  f1-score   support\n",
      "\n",
      "    infringement       0.84      0.64      0.73       160\n",
      "non_infringement       0.73      0.89      0.80       176\n",
      "\n",
      "        accuracy                           0.77       336\n",
      "       macro avg       0.78      0.77      0.76       336\n",
      "    weighted avg       0.78      0.77      0.77       336\n",
      "\n",
      "Epoch 1170/2500, Loss: 0.0573\n",
      "Test Accuracy at Epoch 1170: 76.49%\n",
      "Test F1-score at Epoch 1170: 0.7969\n",
      "Classification Report at Epoch 1170:\n",
      "                  precision    recall  f1-score   support\n",
      "\n",
      "    infringement       0.83      0.64      0.72       160\n",
      "non_infringement       0.73      0.88      0.80       176\n",
      "\n",
      "        accuracy                           0.76       336\n",
      "       macro avg       0.78      0.76      0.76       336\n",
      "    weighted avg       0.78      0.76      0.76       336\n",
      "\n"
     ]
    },
    {
     "name": "stderr",
     "output_type": "stream",
     "text": [
      "Training Epochs:  48%|████▊     | 1190/2500 [00:27<00:25, 50.55it/s]"
     ]
    },
    {
     "name": "stdout",
     "output_type": "stream",
     "text": [
      "Epoch 1180/2500, Loss: 0.0539\n",
      "Test Accuracy at Epoch 1180: 76.19%\n",
      "Test F1-score at Epoch 1180: 0.7949\n",
      "Classification Report at Epoch 1180:\n",
      "                  precision    recall  f1-score   support\n",
      "\n",
      "    infringement       0.83      0.63      0.72       160\n",
      "non_infringement       0.72      0.88      0.79       176\n",
      "\n",
      "        accuracy                           0.76       336\n",
      "       macro avg       0.78      0.76      0.76       336\n",
      "    weighted avg       0.77      0.76      0.76       336\n",
      "\n",
      "Epoch 1190/2500, Loss: 0.0515\n",
      "Test Accuracy at Epoch 1190: 75.89%\n",
      "Test F1-score at Epoch 1190: 0.7928\n",
      "Classification Report at Epoch 1190:\n",
      "                  precision    recall  f1-score   support\n",
      "\n",
      "    infringement       0.83      0.62      0.71       160\n",
      "non_infringement       0.72      0.88      0.79       176\n",
      "\n",
      "        accuracy                           0.76       336\n",
      "       macro avg       0.77      0.75      0.75       336\n",
      "    weighted avg       0.77      0.76      0.75       336\n",
      "\n"
     ]
    },
    {
     "name": "stderr",
     "output_type": "stream",
     "text": [
      "Training Epochs:  48%|████▊     | 1210/2500 [00:27<00:25, 49.95it/s]"
     ]
    },
    {
     "name": "stdout",
     "output_type": "stream",
     "text": [
      "Epoch 1200/2500, Loss: 0.0498\n",
      "Test Accuracy at Epoch 1200: 76.19%\n",
      "Test F1-score at Epoch 1200: 0.7949\n",
      "Classification Report at Epoch 1200:\n",
      "                  precision    recall  f1-score   support\n",
      "\n",
      "    infringement       0.83      0.63      0.72       160\n",
      "non_infringement       0.72      0.88      0.79       176\n",
      "\n",
      "        accuracy                           0.76       336\n",
      "       macro avg       0.78      0.76      0.76       336\n",
      "    weighted avg       0.77      0.76      0.76       336\n",
      "\n",
      "Epoch 1210/2500, Loss: 0.0485\n",
      "Test Accuracy at Epoch 1210: 76.19%\n",
      "Test F1-score at Epoch 1210: 0.7949\n",
      "Classification Report at Epoch 1210:\n",
      "                  precision    recall  f1-score   support\n",
      "\n",
      "    infringement       0.83      0.63      0.72       160\n",
      "non_infringement       0.72      0.88      0.79       176\n",
      "\n",
      "        accuracy                           0.76       336\n",
      "       macro avg       0.78      0.76      0.76       336\n",
      "    weighted avg       0.77      0.76      0.76       336\n",
      "\n"
     ]
    },
    {
     "name": "stderr",
     "output_type": "stream",
     "text": [
      "Training Epochs:  49%|████▉     | 1230/2500 [00:28<00:25, 50.31it/s]"
     ]
    },
    {
     "name": "stdout",
     "output_type": "stream",
     "text": [
      "Epoch 1220/2500, Loss: 0.0475\n",
      "Test Accuracy at Epoch 1220: 75.89%\n",
      "Test F1-score at Epoch 1220: 0.7928\n",
      "Classification Report at Epoch 1220:\n",
      "                  precision    recall  f1-score   support\n",
      "\n",
      "    infringement       0.83      0.62      0.71       160\n",
      "non_infringement       0.72      0.88      0.79       176\n",
      "\n",
      "        accuracy                           0.76       336\n",
      "       macro avg       0.77      0.75      0.75       336\n",
      "    weighted avg       0.77      0.76      0.75       336\n",
      "\n",
      "Epoch 1230/2500, Loss: 0.0467\n",
      "Test Accuracy at Epoch 1230: 75.00%\n",
      "Test F1-score at Epoch 1230: 0.7835\n",
      "Classification Report at Epoch 1230:\n",
      "                  precision    recall  f1-score   support\n",
      "\n",
      "    infringement       0.81      0.62      0.70       160\n",
      "non_infringement       0.72      0.86      0.78       176\n",
      "\n",
      "        accuracy                           0.75       336\n",
      "       macro avg       0.76      0.74      0.74       336\n",
      "    weighted avg       0.76      0.75      0.75       336\n",
      "\n"
     ]
    },
    {
     "name": "stderr",
     "output_type": "stream",
     "text": [
      "Training Epochs:  50%|█████     | 1250/2500 [00:28<00:25, 49.89it/s]"
     ]
    },
    {
     "name": "stdout",
     "output_type": "stream",
     "text": [
      "Epoch 1240/2500, Loss: 0.0461\n",
      "Test Accuracy at Epoch 1240: 75.00%\n",
      "Test F1-score at Epoch 1240: 0.7835\n",
      "Classification Report at Epoch 1240:\n",
      "                  precision    recall  f1-score   support\n",
      "\n",
      "    infringement       0.81      0.62      0.70       160\n",
      "non_infringement       0.72      0.86      0.78       176\n",
      "\n",
      "        accuracy                           0.75       336\n",
      "       macro avg       0.76      0.74      0.74       336\n",
      "    weighted avg       0.76      0.75      0.75       336\n",
      "\n",
      "Epoch 1250/2500, Loss: 0.0456\n",
      "Test Accuracy at Epoch 1250: 74.70%\n",
      "Test F1-score at Epoch 1250: 0.7826\n",
      "Classification Report at Epoch 1250:\n",
      "                  precision    recall  f1-score   support\n",
      "\n",
      "    infringement       0.81      0.61      0.70       160\n",
      "non_infringement       0.71      0.87      0.78       176\n",
      "\n",
      "        accuracy                           0.75       336\n",
      "       macro avg       0.76      0.74      0.74       336\n",
      "    weighted avg       0.76      0.75      0.74       336\n",
      "\n"
     ]
    },
    {
     "name": "stderr",
     "output_type": "stream",
     "text": [
      "Training Epochs:  51%|█████     | 1270/2500 [00:28<00:24, 49.84it/s]"
     ]
    },
    {
     "name": "stdout",
     "output_type": "stream",
     "text": [
      "Epoch 1260/2500, Loss: 0.0452\n",
      "Test Accuracy at Epoch 1260: 75.30%\n",
      "Test F1-score at Epoch 1260: 0.7833\n",
      "Classification Report at Epoch 1260:\n",
      "                  precision    recall  f1-score   support\n",
      "\n",
      "    infringement       0.80      0.64      0.71       160\n",
      "non_infringement       0.72      0.85      0.78       176\n",
      "\n",
      "        accuracy                           0.75       336\n",
      "       macro avg       0.76      0.75      0.75       336\n",
      "    weighted avg       0.76      0.75      0.75       336\n",
      "\n",
      "Epoch 1270/2500, Loss: 0.0448\n",
      "Test Accuracy at Epoch 1270: 75.60%\n",
      "Test F1-score at Epoch 1270: 0.7853\n",
      "Classification Report at Epoch 1270:\n",
      "                  precision    recall  f1-score   support\n",
      "\n",
      "    infringement       0.80      0.65      0.72       160\n",
      "non_infringement       0.73      0.85      0.79       176\n",
      "\n",
      "        accuracy                           0.76       336\n",
      "       macro avg       0.76      0.75      0.75       336\n",
      "    weighted avg       0.76      0.76      0.75       336\n",
      "\n"
     ]
    },
    {
     "name": "stderr",
     "output_type": "stream",
     "text": [
      "Training Epochs:  52%|█████▏    | 1289/2500 [00:29<00:24, 48.77it/s]"
     ]
    },
    {
     "name": "stdout",
     "output_type": "stream",
     "text": [
      "Epoch 1280/2500, Loss: 0.0445\n",
      "Test Accuracy at Epoch 1280: 75.30%\n",
      "Test F1-score at Epoch 1280: 0.7833\n",
      "Classification Report at Epoch 1280:\n",
      "                  precision    recall  f1-score   support\n",
      "\n",
      "    infringement       0.80      0.64      0.71       160\n",
      "non_infringement       0.72      0.85      0.78       176\n",
      "\n",
      "        accuracy                           0.75       336\n",
      "       macro avg       0.76      0.75      0.75       336\n",
      "    weighted avg       0.76      0.75      0.75       336\n",
      "\n",
      "Epoch 1290/2500, Loss: 0.0512\n",
      "Test Accuracy at Epoch 1290: 77.38%\n",
      "Test F1-score at Epoch 1290: 0.8051\n",
      "Classification Report at Epoch 1290:\n",
      "                  precision    recall  f1-score   support\n",
      "\n",
      "    infringement       0.84      0.64      0.73       160\n",
      "non_infringement       0.73      0.89      0.81       176\n",
      "\n",
      "        accuracy                           0.77       336\n",
      "       macro avg       0.79      0.77      0.77       336\n",
      "    weighted avg       0.79      0.77      0.77       336\n",
      "\n"
     ]
    },
    {
     "name": "stderr",
     "output_type": "stream",
     "text": [
      "Training Epochs:  52%|█████▏    | 1307/2500 [00:29<00:24, 47.89it/s]"
     ]
    },
    {
     "name": "stdout",
     "output_type": "stream",
     "text": [
      "Epoch 1300/2500, Loss: 0.0530\n",
      "Test Accuracy at Epoch 1300: 76.19%\n",
      "Test F1-score at Epoch 1300: 0.7884\n",
      "Classification Report at Epoch 1300:\n",
      "                  precision    recall  f1-score   support\n",
      "\n",
      "    infringement       0.80      0.67      0.73       160\n",
      "non_infringement       0.74      0.85      0.79       176\n",
      "\n",
      "        accuracy                           0.76       336\n",
      "       macro avg       0.77      0.76      0.76       336\n",
      "    weighted avg       0.77      0.76      0.76       336\n",
      "\n",
      "Epoch 1310/2500, Loss: 0.0504\n",
      "Test Accuracy at Epoch 1310: 77.68%\n",
      "Test F1-score at Epoch 1310: 0.8072\n",
      "Classification Report at Epoch 1310:\n",
      "                  precision    recall  f1-score   support\n",
      "\n",
      "    infringement       0.85      0.65      0.73       160\n",
      "non_infringement       0.74      0.89      0.81       176\n",
      "\n",
      "        accuracy                           0.78       336\n",
      "       macro avg       0.79      0.77      0.77       336\n",
      "    weighted avg       0.79      0.78      0.77       336\n",
      "\n"
     ]
    },
    {
     "name": "stderr",
     "output_type": "stream",
     "text": [
      "Training Epochs:  53%|█████▎    | 1325/2500 [00:30<00:24, 47.29it/s]"
     ]
    },
    {
     "name": "stdout",
     "output_type": "stream",
     "text": [
      "Epoch 1320/2500, Loss: 0.0491\n",
      "Test Accuracy at Epoch 1320: 76.19%\n",
      "Test F1-score at Epoch 1320: 0.7884\n",
      "Classification Report at Epoch 1320:\n",
      "                  precision    recall  f1-score   support\n",
      "\n",
      "    infringement       0.80      0.67      0.73       160\n",
      "non_infringement       0.74      0.85      0.79       176\n",
      "\n",
      "        accuracy                           0.76       336\n",
      "       macro avg       0.77      0.76      0.76       336\n",
      "    weighted avg       0.77      0.76      0.76       336\n",
      "\n",
      "Epoch 1330/2500, Loss: 0.0461\n",
      "Test Accuracy at Epoch 1330: 77.38%\n",
      "Test F1-score at Epoch 1330: 0.8041\n",
      "Classification Report at Epoch 1330:\n",
      "                  precision    recall  f1-score   support\n",
      "\n",
      "    infringement       0.84      0.65      0.73       160\n",
      "non_infringement       0.74      0.89      0.80       176\n",
      "\n",
      "        accuracy                           0.77       336\n",
      "       macro avg       0.79      0.77      0.77       336\n",
      "    weighted avg       0.78      0.77      0.77       336\n",
      "\n"
     ]
    },
    {
     "name": "stderr",
     "output_type": "stream",
     "text": [
      "Training Epochs:  54%|█████▍    | 1350/2500 [00:30<00:22, 50.18it/s]"
     ]
    },
    {
     "name": "stdout",
     "output_type": "stream",
     "text": [
      "Epoch 1340/2500, Loss: 0.0462\n",
      "Test Accuracy at Epoch 1340: 76.19%\n",
      "Test F1-score at Epoch 1340: 0.7884\n",
      "Classification Report at Epoch 1340:\n",
      "                  precision    recall  f1-score   support\n",
      "\n",
      "    infringement       0.80      0.67      0.73       160\n",
      "non_infringement       0.74      0.85      0.79       176\n",
      "\n",
      "        accuracy                           0.76       336\n",
      "       macro avg       0.77      0.76      0.76       336\n",
      "    weighted avg       0.77      0.76      0.76       336\n",
      "\n",
      "Epoch 1350/2500, Loss: 0.0446\n",
      "Test Accuracy at Epoch 1350: 75.89%\n",
      "Test F1-score at Epoch 1350: 0.7896\n",
      "Classification Report at Epoch 1350:\n",
      "                  precision    recall  f1-score   support\n",
      "\n",
      "    infringement       0.81      0.64      0.72       160\n",
      "non_infringement       0.73      0.86      0.79       176\n",
      "\n",
      "        accuracy                           0.76       336\n",
      "       macro avg       0.77      0.75      0.75       336\n",
      "    weighted avg       0.77      0.76      0.76       336\n",
      "\n"
     ]
    },
    {
     "name": "stderr",
     "output_type": "stream",
     "text": [
      "Training Epochs:  55%|█████▍    | 1369/2500 [00:31<00:21, 52.60it/s]"
     ]
    },
    {
     "name": "stdout",
     "output_type": "stream",
     "text": [
      "Epoch 1360/2500, Loss: 0.0443\n",
      "Test Accuracy at Epoch 1360: 75.60%\n",
      "Test F1-score at Epoch 1360: 0.7853\n",
      "Classification Report at Epoch 1360:\n",
      "                  precision    recall  f1-score   support\n",
      "\n",
      "    infringement       0.80      0.65      0.72       160\n",
      "non_infringement       0.73      0.85      0.79       176\n",
      "\n",
      "        accuracy                           0.76       336\n",
      "       macro avg       0.76      0.75      0.75       336\n",
      "    weighted avg       0.76      0.76      0.75       336\n",
      "\n",
      "Epoch 1370/2500, Loss: 0.0431\n",
      "Test Accuracy at Epoch 1370: 75.30%\n",
      "Test F1-score at Epoch 1370: 0.7833\n",
      "Classification Report at Epoch 1370:\n",
      "                  precision    recall  f1-score   support\n",
      "\n",
      "    infringement       0.80      0.64      0.71       160\n",
      "non_infringement       0.72      0.85      0.78       176\n",
      "\n",
      "        accuracy                           0.75       336\n",
      "       macro avg       0.76      0.75      0.75       336\n",
      "    weighted avg       0.76      0.75      0.75       336\n",
      "\n"
     ]
    },
    {
     "name": "stderr",
     "output_type": "stream",
     "text": [
      "Training Epochs:  56%|█████▌    | 1388/2500 [00:31<00:21, 52.85it/s]"
     ]
    },
    {
     "name": "stdout",
     "output_type": "stream",
     "text": [
      "Epoch 1380/2500, Loss: 0.0430\n",
      "Test Accuracy at Epoch 1380: 75.60%\n",
      "Test F1-score at Epoch 1380: 0.7853\n",
      "Classification Report at Epoch 1380:\n",
      "                  precision    recall  f1-score   support\n",
      "\n",
      "    infringement       0.80      0.65      0.72       160\n",
      "non_infringement       0.73      0.85      0.79       176\n",
      "\n",
      "        accuracy                           0.76       336\n",
      "       macro avg       0.76      0.75      0.75       336\n",
      "    weighted avg       0.76      0.76      0.75       336\n",
      "\n",
      "Epoch 1390/2500, Loss: 0.0428\n",
      "Test Accuracy at Epoch 1390: 75.30%\n",
      "Test F1-score at Epoch 1390: 0.7833\n",
      "Classification Report at Epoch 1390:\n",
      "                  precision    recall  f1-score   support\n",
      "\n",
      "    infringement       0.80      0.64      0.71       160\n",
      "non_infringement       0.72      0.85      0.78       176\n",
      "\n",
      "        accuracy                           0.75       336\n",
      "       macro avg       0.76      0.75      0.75       336\n",
      "    weighted avg       0.76      0.75      0.75       336\n",
      "\n"
     ]
    },
    {
     "name": "stderr",
     "output_type": "stream",
     "text": [
      "Training Epochs:  56%|█████▋    | 1407/2500 [00:31<00:20, 52.33it/s]"
     ]
    },
    {
     "name": "stdout",
     "output_type": "stream",
     "text": [
      "Epoch 1400/2500, Loss: 0.0437\n",
      "Test Accuracy at Epoch 1400: 75.60%\n",
      "Test F1-score at Epoch 1400: 0.7853\n",
      "Classification Report at Epoch 1400:\n",
      "                  precision    recall  f1-score   support\n",
      "\n",
      "    infringement       0.80      0.65      0.72       160\n",
      "non_infringement       0.73      0.85      0.79       176\n",
      "\n",
      "        accuracy                           0.76       336\n",
      "       macro avg       0.76      0.75      0.75       336\n",
      "    weighted avg       0.76      0.76      0.75       336\n",
      "\n",
      "Epoch 1410/2500, Loss: 0.0427\n",
      "Test Accuracy at Epoch 1410: 75.60%\n",
      "Test F1-score at Epoch 1410: 0.7853\n",
      "Classification Report at Epoch 1410:\n",
      "                  precision    recall  f1-score   support\n",
      "\n",
      "    infringement       0.80      0.65      0.72       160\n",
      "non_infringement       0.73      0.85      0.79       176\n",
      "\n",
      "        accuracy                           0.76       336\n",
      "       macro avg       0.76      0.75      0.75       336\n",
      "    weighted avg       0.76      0.76      0.75       336\n",
      "\n"
     ]
    },
    {
     "name": "stderr",
     "output_type": "stream",
     "text": [
      "Training Epochs:  57%|█████▋    | 1431/2500 [00:32<00:20, 52.44it/s]"
     ]
    },
    {
     "name": "stdout",
     "output_type": "stream",
     "text": [
      "Epoch 1420/2500, Loss: 0.0461\n",
      "Test Accuracy at Epoch 1420: 75.89%\n",
      "Test F1-score at Epoch 1420: 0.7885\n",
      "Classification Report at Epoch 1420:\n",
      "                  precision    recall  f1-score   support\n",
      "\n",
      "    infringement       0.81      0.65      0.72       160\n",
      "non_infringement       0.73      0.86      0.79       176\n",
      "\n",
      "        accuracy                           0.76       336\n",
      "       macro avg       0.77      0.75      0.75       336\n",
      "    weighted avg       0.77      0.76      0.76       336\n",
      "\n",
      "Epoch 1430/2500, Loss: 0.0427\n",
      "Test Accuracy at Epoch 1430: 75.60%\n",
      "Test F1-score at Epoch 1430: 0.7853\n",
      "Classification Report at Epoch 1430:\n",
      "                  precision    recall  f1-score   support\n",
      "\n",
      "    infringement       0.80      0.65      0.72       160\n",
      "non_infringement       0.73      0.85      0.79       176\n",
      "\n",
      "        accuracy                           0.76       336\n",
      "       macro avg       0.76      0.75      0.75       336\n",
      "    weighted avg       0.76      0.76      0.75       336\n",
      "\n"
     ]
    },
    {
     "name": "stderr",
     "output_type": "stream",
     "text": [
      "Training Epochs:  58%|█████▊    | 1450/2500 [00:32<00:20, 52.33it/s]"
     ]
    },
    {
     "name": "stdout",
     "output_type": "stream",
     "text": [
      "Epoch 1440/2500, Loss: 0.0481\n",
      "Test Accuracy at Epoch 1440: 76.19%\n",
      "Test F1-score at Epoch 1440: 0.7917\n",
      "Classification Report at Epoch 1440:\n",
      "                  precision    recall  f1-score   support\n",
      "\n",
      "    infringement       0.81      0.65      0.72       160\n",
      "non_infringement       0.73      0.86      0.79       176\n",
      "\n",
      "        accuracy                           0.76       336\n",
      "       macro avg       0.77      0.76      0.76       336\n",
      "    weighted avg       0.77      0.76      0.76       336\n",
      "\n",
      "Epoch 1450/2500, Loss: 0.0426\n",
      "Test Accuracy at Epoch 1450: 75.60%\n",
      "Test F1-score at Epoch 1450: 0.7853\n",
      "Classification Report at Epoch 1450:\n",
      "                  precision    recall  f1-score   support\n",
      "\n",
      "    infringement       0.80      0.65      0.72       160\n",
      "non_infringement       0.73      0.85      0.79       176\n",
      "\n",
      "        accuracy                           0.76       336\n",
      "       macro avg       0.76      0.75      0.75       336\n",
      "    weighted avg       0.76      0.76      0.75       336\n",
      "\n"
     ]
    },
    {
     "name": "stderr",
     "output_type": "stream",
     "text": [
      "Training Epochs:  59%|█████▊    | 1468/2500 [00:32<00:19, 52.37it/s]"
     ]
    },
    {
     "name": "stdout",
     "output_type": "stream",
     "text": [
      "Epoch 1460/2500, Loss: 0.0474\n",
      "Test Accuracy at Epoch 1460: 76.19%\n",
      "Test F1-score at Epoch 1460: 0.7917\n",
      "Classification Report at Epoch 1460:\n",
      "                  precision    recall  f1-score   support\n",
      "\n",
      "    infringement       0.81      0.65      0.72       160\n",
      "non_infringement       0.73      0.86      0.79       176\n",
      "\n",
      "        accuracy                           0.76       336\n",
      "       macro avg       0.77      0.76      0.76       336\n",
      "    weighted avg       0.77      0.76      0.76       336\n",
      "\n",
      "Epoch 1470/2500, Loss: 0.0422\n",
      "Test Accuracy at Epoch 1470: 75.89%\n",
      "Test F1-score at Epoch 1470: 0.7885\n",
      "Classification Report at Epoch 1470:\n",
      "                  precision    recall  f1-score   support\n",
      "\n",
      "    infringement       0.81      0.65      0.72       160\n",
      "non_infringement       0.73      0.86      0.79       176\n",
      "\n",
      "        accuracy                           0.76       336\n",
      "       macro avg       0.77      0.75      0.75       336\n",
      "    weighted avg       0.77      0.76      0.76       336\n",
      "\n"
     ]
    },
    {
     "name": "stderr",
     "output_type": "stream",
     "text": [
      "Training Epochs:  59%|█████▉    | 1487/2500 [00:33<00:19, 51.24it/s]"
     ]
    },
    {
     "name": "stdout",
     "output_type": "stream",
     "text": [
      "Epoch 1480/2500, Loss: 0.0432\n",
      "Test Accuracy at Epoch 1480: 75.60%\n",
      "Test F1-score at Epoch 1480: 0.7853\n",
      "Classification Report at Epoch 1480:\n",
      "                  precision    recall  f1-score   support\n",
      "\n",
      "    infringement       0.80      0.65      0.72       160\n",
      "non_infringement       0.73      0.85      0.79       176\n",
      "\n",
      "        accuracy                           0.76       336\n",
      "       macro avg       0.76      0.75      0.75       336\n",
      "    weighted avg       0.76      0.76      0.75       336\n",
      "\n",
      "Epoch 1490/2500, Loss: 0.0421\n",
      "Test Accuracy at Epoch 1490: 75.89%\n",
      "Test F1-score at Epoch 1490: 0.7885\n",
      "Classification Report at Epoch 1490:\n",
      "                  precision    recall  f1-score   support\n",
      "\n",
      "    infringement       0.81      0.65      0.72       160\n",
      "non_infringement       0.73      0.86      0.79       176\n",
      "\n",
      "        accuracy                           0.76       336\n",
      "       macro avg       0.77      0.75      0.75       336\n",
      "    weighted avg       0.77      0.76      0.76       336\n",
      "\n"
     ]
    },
    {
     "name": "stderr",
     "output_type": "stream",
     "text": [
      "Training Epochs:  60%|██████    | 1511/2500 [00:33<00:19, 51.10it/s]"
     ]
    },
    {
     "name": "stdout",
     "output_type": "stream",
     "text": [
      "Epoch 1500/2500, Loss: 0.0432\n",
      "Test Accuracy at Epoch 1500: 75.89%\n",
      "Test F1-score at Epoch 1500: 0.7874\n",
      "Classification Report at Epoch 1500:\n",
      "                  precision    recall  f1-score   support\n",
      "\n",
      "    infringement       0.80      0.66      0.72       160\n",
      "non_infringement       0.73      0.85      0.79       176\n",
      "\n",
      "        accuracy                           0.76       336\n",
      "       macro avg       0.77      0.75      0.75       336\n",
      "    weighted avg       0.76      0.76      0.76       336\n",
      "\n",
      "Epoch 1510/2500, Loss: 0.0441\n",
      "Test Accuracy at Epoch 1510: 76.19%\n",
      "Test F1-score at Epoch 1510: 0.7927\n",
      "Classification Report at Epoch 1510:\n",
      "                  precision    recall  f1-score   support\n",
      "\n",
      "    infringement       0.82      0.64      0.72       160\n",
      "non_infringement       0.73      0.87      0.79       176\n",
      "\n",
      "        accuracy                           0.76       336\n",
      "       macro avg       0.77      0.76      0.76       336\n",
      "    weighted avg       0.77      0.76      0.76       336\n",
      "\n"
     ]
    },
    {
     "name": "stderr",
     "output_type": "stream",
     "text": [
      "Training Epochs:  61%|██████    | 1530/2500 [00:34<00:18, 51.72it/s]"
     ]
    },
    {
     "name": "stdout",
     "output_type": "stream",
     "text": [
      "Epoch 1520/2500, Loss: 0.0464\n",
      "Test Accuracy at Epoch 1520: 75.89%\n",
      "Test F1-score at Epoch 1520: 0.7874\n",
      "Classification Report at Epoch 1520:\n",
      "                  precision    recall  f1-score   support\n",
      "\n",
      "    infringement       0.80      0.66      0.72       160\n",
      "non_infringement       0.73      0.85      0.79       176\n",
      "\n",
      "        accuracy                           0.76       336\n",
      "       macro avg       0.77      0.75      0.75       336\n",
      "    weighted avg       0.76      0.76      0.76       336\n",
      "\n",
      "Epoch 1530/2500, Loss: 0.0468\n",
      "Test Accuracy at Epoch 1530: 76.79%\n",
      "Test F1-score at Epoch 1530: 0.7990\n",
      "Classification Report at Epoch 1530:\n",
      "                  precision    recall  f1-score   support\n",
      "\n",
      "    infringement       0.83      0.64      0.73       160\n",
      "non_infringement       0.73      0.88      0.80       176\n",
      "\n",
      "        accuracy                           0.77       336\n",
      "       macro avg       0.78      0.76      0.76       336\n",
      "    weighted avg       0.78      0.77      0.76       336\n",
      "\n"
     ]
    },
    {
     "name": "stderr",
     "output_type": "stream",
     "text": [
      "Training Epochs:  62%|██████▏   | 1549/2500 [00:34<00:17, 53.47it/s]"
     ]
    },
    {
     "name": "stdout",
     "output_type": "stream",
     "text": [
      "Epoch 1540/2500, Loss: 0.0465\n",
      "Test Accuracy at Epoch 1540: 75.89%\n",
      "Test F1-score at Epoch 1540: 0.7874\n",
      "Classification Report at Epoch 1540:\n",
      "                  precision    recall  f1-score   support\n",
      "\n",
      "    infringement       0.80      0.66      0.72       160\n",
      "non_infringement       0.73      0.85      0.79       176\n",
      "\n",
      "        accuracy                           0.76       336\n",
      "       macro avg       0.77      0.75      0.75       336\n",
      "    weighted avg       0.76      0.76      0.76       336\n",
      "\n",
      "Epoch 1550/2500, Loss: 0.0466\n",
      "Test Accuracy at Epoch 1550: 76.19%\n",
      "Test F1-score at Epoch 1550: 0.7927\n",
      "Classification Report at Epoch 1550:\n",
      "                  precision    recall  f1-score   support\n",
      "\n",
      "    infringement       0.82      0.64      0.72       160\n",
      "non_infringement       0.73      0.87      0.79       176\n",
      "\n",
      "        accuracy                           0.76       336\n",
      "       macro avg       0.77      0.76      0.76       336\n",
      "    weighted avg       0.77      0.76      0.76       336\n",
      "\n"
     ]
    },
    {
     "name": "stderr",
     "output_type": "stream",
     "text": [
      "Training Epochs:  63%|██████▎   | 1568/2500 [00:34<00:18, 50.43it/s]"
     ]
    },
    {
     "name": "stdout",
     "output_type": "stream",
     "text": [
      "Epoch 1560/2500, Loss: 0.0432\n",
      "Test Accuracy at Epoch 1560: 75.89%\n",
      "Test F1-score at Epoch 1560: 0.7874\n",
      "Classification Report at Epoch 1560:\n",
      "                  precision    recall  f1-score   support\n",
      "\n",
      "    infringement       0.80      0.66      0.72       160\n",
      "non_infringement       0.73      0.85      0.79       176\n",
      "\n",
      "        accuracy                           0.76       336\n",
      "       macro avg       0.77      0.75      0.75       336\n",
      "    weighted avg       0.76      0.76      0.76       336\n",
      "\n",
      "Epoch 1570/2500, Loss: 0.0422\n",
      "Test Accuracy at Epoch 1570: 75.89%\n",
      "Test F1-score at Epoch 1570: 0.7885\n",
      "Classification Report at Epoch 1570:\n",
      "                  precision    recall  f1-score   support\n",
      "\n",
      "    infringement       0.81      0.65      0.72       160\n",
      "non_infringement       0.73      0.86      0.79       176\n",
      "\n",
      "        accuracy                           0.76       336\n",
      "       macro avg       0.77      0.75      0.75       336\n",
      "    weighted avg       0.77      0.76      0.76       336\n",
      "\n"
     ]
    },
    {
     "name": "stderr",
     "output_type": "stream",
     "text": [
      "Training Epochs:  63%|██████▎   | 1587/2500 [00:35<00:18, 50.37it/s]"
     ]
    },
    {
     "name": "stdout",
     "output_type": "stream",
     "text": [
      "Epoch 1580/2500, Loss: 0.0417\n",
      "Test Accuracy at Epoch 1580: 75.60%\n",
      "Test F1-score at Epoch 1580: 0.7865\n",
      "Classification Report at Epoch 1580:\n",
      "                  precision    recall  f1-score   support\n",
      "\n",
      "    infringement       0.80      0.64      0.72       160\n",
      "non_infringement       0.73      0.86      0.79       176\n",
      "\n",
      "        accuracy                           0.76       336\n",
      "       macro avg       0.77      0.75      0.75       336\n",
      "    weighted avg       0.76      0.76      0.75       336\n",
      "\n",
      "Epoch 1590/2500, Loss: 0.0426\n",
      "Test Accuracy at Epoch 1590: 75.89%\n",
      "Test F1-score at Epoch 1590: 0.7874\n",
      "Classification Report at Epoch 1590:\n",
      "                  precision    recall  f1-score   support\n",
      "\n",
      "    infringement       0.80      0.66      0.72       160\n",
      "non_infringement       0.73      0.85      0.79       176\n",
      "\n",
      "        accuracy                           0.76       336\n",
      "       macro avg       0.77      0.75      0.75       336\n",
      "    weighted avg       0.76      0.76      0.76       336\n",
      "\n"
     ]
    },
    {
     "name": "stderr",
     "output_type": "stream",
     "text": [
      "Training Epochs:  64%|██████▍   | 1605/2500 [00:35<00:18, 49.23it/s]"
     ]
    },
    {
     "name": "stdout",
     "output_type": "stream",
     "text": [
      "Epoch 1600/2500, Loss: 0.0441\n",
      "Test Accuracy at Epoch 1600: 76.19%\n",
      "Test F1-score at Epoch 1600: 0.7927\n",
      "Classification Report at Epoch 1600:\n",
      "                  precision    recall  f1-score   support\n",
      "\n",
      "    infringement       0.82      0.64      0.72       160\n",
      "non_infringement       0.73      0.87      0.79       176\n",
      "\n",
      "        accuracy                           0.76       336\n",
      "       macro avg       0.77      0.76      0.76       336\n",
      "    weighted avg       0.77      0.76      0.76       336\n",
      "\n",
      "Epoch 1610/2500, Loss: 0.0465\n",
      "Test Accuracy at Epoch 1610: 75.60%\n",
      "Test F1-score at Epoch 1610: 0.7842\n",
      "Classification Report at Epoch 1610:\n",
      "                  precision    recall  f1-score   support\n",
      "\n",
      "    infringement       0.80      0.66      0.72       160\n",
      "non_infringement       0.73      0.85      0.78       176\n",
      "\n",
      "        accuracy                           0.76       336\n",
      "       macro avg       0.76      0.75      0.75       336\n",
      "    weighted avg       0.76      0.76      0.75       336\n",
      "\n"
     ]
    },
    {
     "name": "stderr",
     "output_type": "stream",
     "text": [
      "Training Epochs:  65%|██████▌   | 1630/2500 [00:36<00:16, 51.36it/s]"
     ]
    },
    {
     "name": "stdout",
     "output_type": "stream",
     "text": [
      "Epoch 1620/2500, Loss: 0.0464\n",
      "Test Accuracy at Epoch 1620: 76.19%\n",
      "Test F1-score at Epoch 1620: 0.7927\n",
      "Classification Report at Epoch 1620:\n",
      "                  precision    recall  f1-score   support\n",
      "\n",
      "    infringement       0.82      0.64      0.72       160\n",
      "non_infringement       0.73      0.87      0.79       176\n",
      "\n",
      "        accuracy                           0.76       336\n",
      "       macro avg       0.77      0.76      0.76       336\n",
      "    weighted avg       0.77      0.76      0.76       336\n",
      "\n",
      "Epoch 1630/2500, Loss: 0.0450\n",
      "Test Accuracy at Epoch 1630: 75.89%\n",
      "Test F1-score at Epoch 1630: 0.7874\n",
      "Classification Report at Epoch 1630:\n",
      "                  precision    recall  f1-score   support\n",
      "\n",
      "    infringement       0.80      0.66      0.72       160\n",
      "non_infringement       0.73      0.85      0.79       176\n",
      "\n",
      "        accuracy                           0.76       336\n",
      "       macro avg       0.77      0.75      0.75       336\n",
      "    weighted avg       0.76      0.76      0.76       336\n",
      "\n"
     ]
    },
    {
     "name": "stderr",
     "output_type": "stream",
     "text": [
      "Training Epochs:  66%|██████▌   | 1649/2500 [00:36<00:15, 53.52it/s]"
     ]
    },
    {
     "name": "stdout",
     "output_type": "stream",
     "text": [
      "Epoch 1640/2500, Loss: 0.0429\n",
      "Test Accuracy at Epoch 1640: 75.89%\n",
      "Test F1-score at Epoch 1640: 0.7885\n",
      "Classification Report at Epoch 1640:\n",
      "                  precision    recall  f1-score   support\n",
      "\n",
      "    infringement       0.81      0.65      0.72       160\n",
      "non_infringement       0.73      0.86      0.79       176\n",
      "\n",
      "        accuracy                           0.76       336\n",
      "       macro avg       0.77      0.75      0.75       336\n",
      "    weighted avg       0.77      0.76      0.76       336\n",
      "\n",
      "Epoch 1650/2500, Loss: 0.0416\n",
      "Test Accuracy at Epoch 1650: 75.60%\n",
      "Test F1-score at Epoch 1650: 0.7865\n",
      "Classification Report at Epoch 1650:\n",
      "                  precision    recall  f1-score   support\n",
      "\n",
      "    infringement       0.80      0.64      0.72       160\n",
      "non_infringement       0.73      0.86      0.79       176\n",
      "\n",
      "        accuracy                           0.76       336\n",
      "       macro avg       0.77      0.75      0.75       336\n",
      "    weighted avg       0.76      0.76      0.75       336\n",
      "\n"
     ]
    },
    {
     "name": "stderr",
     "output_type": "stream",
     "text": [
      "Training Epochs:  67%|██████▋   | 1668/2500 [00:37<00:15, 52.31it/s]"
     ]
    },
    {
     "name": "stdout",
     "output_type": "stream",
     "text": [
      "Epoch 1660/2500, Loss: 0.0416\n",
      "Test Accuracy at Epoch 1660: 75.89%\n",
      "Test F1-score at Epoch 1660: 0.7874\n",
      "Classification Report at Epoch 1660:\n",
      "                  precision    recall  f1-score   support\n",
      "\n",
      "    infringement       0.80      0.66      0.72       160\n",
      "non_infringement       0.73      0.85      0.79       176\n",
      "\n",
      "        accuracy                           0.76       336\n",
      "       macro avg       0.77      0.75      0.75       336\n",
      "    weighted avg       0.76      0.76      0.76       336\n",
      "\n",
      "Epoch 1670/2500, Loss: 0.0427\n",
      "Test Accuracy at Epoch 1670: 76.19%\n",
      "Test F1-score at Epoch 1670: 0.7927\n",
      "Classification Report at Epoch 1670:\n",
      "                  precision    recall  f1-score   support\n",
      "\n",
      "    infringement       0.82      0.64      0.72       160\n",
      "non_infringement       0.73      0.87      0.79       176\n",
      "\n",
      "        accuracy                           0.76       336\n",
      "       macro avg       0.77      0.76      0.76       336\n",
      "    weighted avg       0.77      0.76      0.76       336\n",
      "\n"
     ]
    },
    {
     "name": "stderr",
     "output_type": "stream",
     "text": [
      "Training Epochs:  67%|██████▋   | 1687/2500 [00:37<00:15, 53.08it/s]"
     ]
    },
    {
     "name": "stdout",
     "output_type": "stream",
     "text": [
      "Epoch 1680/2500, Loss: 0.0450\n",
      "Test Accuracy at Epoch 1680: 75.89%\n",
      "Test F1-score at Epoch 1680: 0.7863\n",
      "Classification Report at Epoch 1680:\n",
      "                  precision    recall  f1-score   support\n",
      "\n",
      "    infringement       0.80      0.66      0.72       160\n",
      "non_infringement       0.73      0.85      0.79       176\n",
      "\n",
      "        accuracy                           0.76       336\n",
      "       macro avg       0.77      0.75      0.75       336\n",
      "    weighted avg       0.76      0.76      0.76       336\n",
      "\n",
      "Epoch 1690/2500, Loss: 0.0459\n",
      "Test Accuracy at Epoch 1690: 76.19%\n",
      "Test F1-score at Epoch 1690: 0.7927\n",
      "Classification Report at Epoch 1690:\n",
      "                  precision    recall  f1-score   support\n",
      "\n",
      "    infringement       0.82      0.64      0.72       160\n",
      "non_infringement       0.73      0.87      0.79       176\n",
      "\n",
      "        accuracy                           0.76       336\n",
      "       macro avg       0.77      0.76      0.76       336\n",
      "    weighted avg       0.77      0.76      0.76       336\n",
      "\n"
     ]
    },
    {
     "name": "stderr",
     "output_type": "stream",
     "text": [
      "Training Epochs:  68%|██████▊   | 1711/2500 [00:37<00:14, 52.90it/s]"
     ]
    },
    {
     "name": "stdout",
     "output_type": "stream",
     "text": [
      "Epoch 1700/2500, Loss: 0.0458\n",
      "Test Accuracy at Epoch 1700: 76.19%\n",
      "Test F1-score at Epoch 1700: 0.7895\n",
      "Classification Report at Epoch 1700:\n",
      "                  precision    recall  f1-score   support\n",
      "\n",
      "    infringement       0.80      0.66      0.73       160\n",
      "non_infringement       0.74      0.85      0.79       176\n",
      "\n",
      "        accuracy                           0.76       336\n",
      "       macro avg       0.77      0.76      0.76       336\n",
      "    weighted avg       0.77      0.76      0.76       336\n",
      "\n",
      "Epoch 1710/2500, Loss: 0.0433\n",
      "Test Accuracy at Epoch 1710: 75.89%\n",
      "Test F1-score at Epoch 1710: 0.7885\n",
      "Classification Report at Epoch 1710:\n",
      "                  precision    recall  f1-score   support\n",
      "\n",
      "    infringement       0.81      0.65      0.72       160\n",
      "non_infringement       0.73      0.86      0.79       176\n",
      "\n",
      "        accuracy                           0.76       336\n",
      "       macro avg       0.77      0.75      0.75       336\n",
      "    weighted avg       0.77      0.76      0.76       336\n",
      "\n"
     ]
    },
    {
     "name": "stderr",
     "output_type": "stream",
     "text": [
      "Training Epochs:  69%|██████▉   | 1730/2500 [00:38<00:14, 52.65it/s]"
     ]
    },
    {
     "name": "stdout",
     "output_type": "stream",
     "text": [
      "Epoch 1720/2500, Loss: 0.0416\n",
      "Test Accuracy at Epoch 1720: 75.89%\n",
      "Test F1-score at Epoch 1720: 0.7885\n",
      "Classification Report at Epoch 1720:\n",
      "                  precision    recall  f1-score   support\n",
      "\n",
      "    infringement       0.81      0.65      0.72       160\n",
      "non_infringement       0.73      0.86      0.79       176\n",
      "\n",
      "        accuracy                           0.76       336\n",
      "       macro avg       0.77      0.75      0.75       336\n",
      "    weighted avg       0.77      0.76      0.76       336\n",
      "\n",
      "Epoch 1730/2500, Loss: 0.0414\n",
      "Test Accuracy at Epoch 1730: 76.19%\n",
      "Test F1-score at Epoch 1730: 0.7895\n",
      "Classification Report at Epoch 1730:\n",
      "                  precision    recall  f1-score   support\n",
      "\n",
      "    infringement       0.80      0.66      0.73       160\n",
      "non_infringement       0.74      0.85      0.79       176\n",
      "\n",
      "        accuracy                           0.76       336\n",
      "       macro avg       0.77      0.76      0.76       336\n",
      "    weighted avg       0.77      0.76      0.76       336\n",
      "\n"
     ]
    },
    {
     "name": "stderr",
     "output_type": "stream",
     "text": [
      "Training Epochs:  70%|██████▉   | 1749/2500 [00:38<00:14, 53.39it/s]"
     ]
    },
    {
     "name": "stdout",
     "output_type": "stream",
     "text": [
      "Epoch 1740/2500, Loss: 0.0423\n",
      "Test Accuracy at Epoch 1740: 76.19%\n",
      "Test F1-score at Epoch 1740: 0.7927\n",
      "Classification Report at Epoch 1740:\n",
      "                  precision    recall  f1-score   support\n",
      "\n",
      "    infringement       0.82      0.64      0.72       160\n",
      "non_infringement       0.73      0.87      0.79       176\n",
      "\n",
      "        accuracy                           0.76       336\n",
      "       macro avg       0.77      0.76      0.76       336\n",
      "    weighted avg       0.77      0.76      0.76       336\n",
      "\n",
      "Epoch 1750/2500, Loss: 0.0444\n",
      "Test Accuracy at Epoch 1750: 75.89%\n",
      "Test F1-score at Epoch 1750: 0.7863\n",
      "Classification Report at Epoch 1750:\n",
      "                  precision    recall  f1-score   support\n",
      "\n",
      "    infringement       0.80      0.66      0.72       160\n",
      "non_infringement       0.73      0.85      0.79       176\n",
      "\n",
      "        accuracy                           0.76       336\n",
      "       macro avg       0.77      0.75      0.75       336\n",
      "    weighted avg       0.76      0.76      0.76       336\n",
      "\n"
     ]
    },
    {
     "name": "stderr",
     "output_type": "stream",
     "text": [
      "Training Epochs:  71%|███████   | 1768/2500 [00:38<00:13, 53.17it/s]"
     ]
    },
    {
     "name": "stdout",
     "output_type": "stream",
     "text": [
      "Epoch 1760/2500, Loss: 0.0455\n",
      "Test Accuracy at Epoch 1760: 76.19%\n",
      "Test F1-score at Epoch 1760: 0.7927\n",
      "Classification Report at Epoch 1760:\n",
      "                  precision    recall  f1-score   support\n",
      "\n",
      "    infringement       0.82      0.64      0.72       160\n",
      "non_infringement       0.73      0.87      0.79       176\n",
      "\n",
      "        accuracy                           0.76       336\n",
      "       macro avg       0.77      0.76      0.76       336\n",
      "    weighted avg       0.77      0.76      0.76       336\n",
      "\n",
      "Epoch 1770/2500, Loss: 0.0456\n",
      "Test Accuracy at Epoch 1770: 76.19%\n",
      "Test F1-score at Epoch 1770: 0.7895\n",
      "Classification Report at Epoch 1770:\n",
      "                  precision    recall  f1-score   support\n",
      "\n",
      "    infringement       0.80      0.66      0.73       160\n",
      "non_infringement       0.74      0.85      0.79       176\n",
      "\n",
      "        accuracy                           0.76       336\n",
      "       macro avg       0.77      0.76      0.76       336\n",
      "    weighted avg       0.77      0.76      0.76       336\n",
      "\n"
     ]
    },
    {
     "name": "stderr",
     "output_type": "stream",
     "text": [
      "Training Epochs:  71%|███████▏  | 1787/2500 [00:39<00:13, 51.78it/s]"
     ]
    },
    {
     "name": "stdout",
     "output_type": "stream",
     "text": [
      "Epoch 1780/2500, Loss: 0.0431\n",
      "Test Accuracy at Epoch 1780: 75.89%\n",
      "Test F1-score at Epoch 1780: 0.7885\n",
      "Classification Report at Epoch 1780:\n",
      "                  precision    recall  f1-score   support\n",
      "\n",
      "    infringement       0.81      0.65      0.72       160\n",
      "non_infringement       0.73      0.86      0.79       176\n",
      "\n",
      "        accuracy                           0.76       336\n",
      "       macro avg       0.77      0.75      0.75       336\n",
      "    weighted avg       0.77      0.76      0.76       336\n",
      "\n",
      "Epoch 1790/2500, Loss: 0.0415\n",
      "Test Accuracy at Epoch 1790: 75.89%\n",
      "Test F1-score at Epoch 1790: 0.7885\n",
      "Classification Report at Epoch 1790:\n",
      "                  precision    recall  f1-score   support\n",
      "\n",
      "    infringement       0.81      0.65      0.72       160\n",
      "non_infringement       0.73      0.86      0.79       176\n",
      "\n",
      "        accuracy                           0.76       336\n",
      "       macro avg       0.77      0.75      0.75       336\n",
      "    weighted avg       0.77      0.76      0.76       336\n",
      "\n"
     ]
    },
    {
     "name": "stderr",
     "output_type": "stream",
     "text": [
      "Training Epochs:  72%|███████▏  | 1811/2500 [00:39<00:13, 52.60it/s]"
     ]
    },
    {
     "name": "stdout",
     "output_type": "stream",
     "text": [
      "Epoch 1800/2500, Loss: 0.0413\n",
      "Test Accuracy at Epoch 1800: 76.49%\n",
      "Test F1-score at Epoch 1800: 0.7927\n",
      "Classification Report at Epoch 1800:\n",
      "                  precision    recall  f1-score   support\n",
      "\n",
      "    infringement       0.81      0.66      0.73       160\n",
      "non_infringement       0.74      0.86      0.79       176\n",
      "\n",
      "        accuracy                           0.76       336\n",
      "       macro avg       0.77      0.76      0.76       336\n",
      "    weighted avg       0.77      0.76      0.76       336\n",
      "\n",
      "Epoch 1810/2500, Loss: 0.0422\n",
      "Test Accuracy at Epoch 1810: 74.70%\n",
      "Test F1-score at Epoch 1810: 0.7826\n",
      "Classification Report at Epoch 1810:\n",
      "                  precision    recall  f1-score   support\n",
      "\n",
      "    infringement       0.81      0.61      0.70       160\n",
      "non_infringement       0.71      0.87      0.78       176\n",
      "\n",
      "        accuracy                           0.75       336\n",
      "       macro avg       0.76      0.74      0.74       336\n",
      "    weighted avg       0.76      0.75      0.74       336\n",
      "\n"
     ]
    },
    {
     "name": "stderr",
     "output_type": "stream",
     "text": [
      "Training Epochs:  73%|███████▎  | 1830/2500 [00:40<00:12, 52.42it/s]"
     ]
    },
    {
     "name": "stdout",
     "output_type": "stream",
     "text": [
      "Epoch 1820/2500, Loss: 0.0444\n",
      "Test Accuracy at Epoch 1820: 74.40%\n",
      "Test F1-score at Epoch 1820: 0.7760\n",
      "Classification Report at Epoch 1820:\n",
      "                  precision    recall  f1-score   support\n",
      "\n",
      "    infringement       0.79      0.63      0.70       160\n",
      "non_infringement       0.72      0.85      0.78       176\n",
      "\n",
      "        accuracy                           0.74       336\n",
      "       macro avg       0.75      0.74      0.74       336\n",
      "    weighted avg       0.75      0.74      0.74       336\n",
      "\n",
      "Epoch 1830/2500, Loss: 0.0453\n",
      "Test Accuracy at Epoch 1830: 74.70%\n",
      "Test F1-score at Epoch 1830: 0.7826\n",
      "Classification Report at Epoch 1830:\n",
      "                  precision    recall  f1-score   support\n",
      "\n",
      "    infringement       0.81      0.61      0.70       160\n",
      "non_infringement       0.71      0.87      0.78       176\n",
      "\n",
      "        accuracy                           0.75       336\n",
      "       macro avg       0.76      0.74      0.74       336\n",
      "    weighted avg       0.76      0.75      0.74       336\n",
      "\n"
     ]
    },
    {
     "name": "stderr",
     "output_type": "stream",
     "text": [
      "Training Epochs:  74%|███████▍  | 1850/2500 [00:40<00:12, 52.35it/s]"
     ]
    },
    {
     "name": "stdout",
     "output_type": "stream",
     "text": [
      "Epoch 1840/2500, Loss: 0.0451\n",
      "Test Accuracy at Epoch 1840: 74.70%\n",
      "Test F1-score at Epoch 1840: 0.7792\n",
      "Classification Report at Epoch 1840:\n",
      "                  precision    recall  f1-score   support\n",
      "\n",
      "    infringement       0.80      0.63      0.70       160\n",
      "non_infringement       0.72      0.85      0.78       176\n",
      "\n",
      "        accuracy                           0.75       336\n",
      "       macro avg       0.76      0.74      0.74       336\n",
      "    weighted avg       0.75      0.75      0.74       336\n",
      "\n",
      "Epoch 1850/2500, Loss: 0.0426\n",
      "Test Accuracy at Epoch 1850: 74.70%\n",
      "Test F1-score at Epoch 1850: 0.7804\n",
      "Classification Report at Epoch 1850:\n",
      "                  precision    recall  f1-score   support\n",
      "\n",
      "    infringement       0.80      0.62      0.70       160\n",
      "non_infringement       0.72      0.86      0.78       176\n",
      "\n",
      "        accuracy                           0.75       336\n",
      "       macro avg       0.76      0.74      0.74       336\n",
      "    weighted avg       0.76      0.75      0.74       336\n",
      "\n"
     ]
    },
    {
     "name": "stderr",
     "output_type": "stream",
     "text": [
      "Training Epochs:  75%|███████▍  | 1869/2500 [00:40<00:12, 50.99it/s]"
     ]
    },
    {
     "name": "stdout",
     "output_type": "stream",
     "text": [
      "Epoch 1860/2500, Loss: 0.0413\n",
      "Test Accuracy at Epoch 1860: 74.70%\n",
      "Test F1-score at Epoch 1860: 0.7804\n",
      "Classification Report at Epoch 1860:\n",
      "                  precision    recall  f1-score   support\n",
      "\n",
      "    infringement       0.80      0.62      0.70       160\n",
      "non_infringement       0.72      0.86      0.78       176\n",
      "\n",
      "        accuracy                           0.75       336\n",
      "       macro avg       0.76      0.74      0.74       336\n",
      "    weighted avg       0.76      0.75      0.74       336\n",
      "\n",
      "Epoch 1870/2500, Loss: 0.0412\n",
      "Test Accuracy at Epoch 1870: 74.70%\n",
      "Test F1-score at Epoch 1870: 0.7804\n",
      "Classification Report at Epoch 1870:\n",
      "                  precision    recall  f1-score   support\n",
      "\n",
      "    infringement       0.80      0.62      0.70       160\n",
      "non_infringement       0.72      0.86      0.78       176\n",
      "\n",
      "        accuracy                           0.75       336\n",
      "       macro avg       0.76      0.74      0.74       336\n",
      "    weighted avg       0.76      0.75      0.74       336\n",
      "\n"
     ]
    },
    {
     "name": "stderr",
     "output_type": "stream",
     "text": [
      "Training Epochs:  76%|███████▌  | 1888/2500 [00:41<00:12, 49.67it/s]"
     ]
    },
    {
     "name": "stdout",
     "output_type": "stream",
     "text": [
      "Epoch 1880/2500, Loss: 0.0423\n",
      "Test Accuracy at Epoch 1880: 74.70%\n",
      "Test F1-score at Epoch 1880: 0.7826\n",
      "Classification Report at Epoch 1880:\n",
      "                  precision    recall  f1-score   support\n",
      "\n",
      "    infringement       0.81      0.61      0.70       160\n",
      "non_infringement       0.71      0.87      0.78       176\n",
      "\n",
      "        accuracy                           0.75       336\n",
      "       macro avg       0.76      0.74      0.74       336\n",
      "    weighted avg       0.76      0.75      0.74       336\n",
      "\n",
      "Epoch 1890/2500, Loss: 0.0446\n",
      "Test Accuracy at Epoch 1890: 74.40%\n",
      "Test F1-score at Epoch 1890: 0.7760\n",
      "Classification Report at Epoch 1890:\n",
      "                  precision    recall  f1-score   support\n",
      "\n",
      "    infringement       0.79      0.63      0.70       160\n",
      "non_infringement       0.72      0.85      0.78       176\n",
      "\n",
      "        accuracy                           0.74       336\n",
      "       macro avg       0.75      0.74      0.74       336\n",
      "    weighted avg       0.75      0.74      0.74       336\n",
      "\n"
     ]
    },
    {
     "name": "stderr",
     "output_type": "stream",
     "text": [
      "Training Epochs:  76%|███████▋  | 1907/2500 [00:41<00:11, 50.77it/s]"
     ]
    },
    {
     "name": "stdout",
     "output_type": "stream",
     "text": [
      "Epoch 1900/2500, Loss: 0.0451\n",
      "Test Accuracy at Epoch 1900: 74.70%\n",
      "Test F1-score at Epoch 1900: 0.7826\n",
      "Classification Report at Epoch 1900:\n",
      "                  precision    recall  f1-score   support\n",
      "\n",
      "    infringement       0.81      0.61      0.70       160\n",
      "non_infringement       0.71      0.87      0.78       176\n",
      "\n",
      "        accuracy                           0.75       336\n",
      "       macro avg       0.76      0.74      0.74       336\n",
      "    weighted avg       0.76      0.75      0.74       336\n",
      "\n",
      "Epoch 1910/2500, Loss: 0.0444\n",
      "Test Accuracy at Epoch 1910: 74.70%\n",
      "Test F1-score at Epoch 1910: 0.7792\n",
      "Classification Report at Epoch 1910:\n",
      "                  precision    recall  f1-score   support\n",
      "\n",
      "    infringement       0.80      0.63      0.70       160\n",
      "non_infringement       0.72      0.85      0.78       176\n",
      "\n",
      "        accuracy                           0.75       336\n",
      "       macro avg       0.76      0.74      0.74       336\n",
      "    weighted avg       0.75      0.75      0.74       336\n",
      "\n"
     ]
    },
    {
     "name": "stderr",
     "output_type": "stream",
     "text": [
      "Training Epochs:  77%|███████▋  | 1930/2500 [00:42<00:11, 49.38it/s]"
     ]
    },
    {
     "name": "stdout",
     "output_type": "stream",
     "text": [
      "Epoch 1920/2500, Loss: 0.0421\n",
      "Test Accuracy at Epoch 1920: 74.70%\n",
      "Test F1-score at Epoch 1920: 0.7804\n",
      "Classification Report at Epoch 1920:\n",
      "                  precision    recall  f1-score   support\n",
      "\n",
      "    infringement       0.80      0.62      0.70       160\n",
      "non_infringement       0.72      0.86      0.78       176\n",
      "\n",
      "        accuracy                           0.75       336\n",
      "       macro avg       0.76      0.74      0.74       336\n",
      "    weighted avg       0.76      0.75      0.74       336\n",
      "\n",
      "Epoch 1930/2500, Loss: 0.0411\n",
      "Test Accuracy at Epoch 1930: 74.40%\n",
      "Test F1-score at Epoch 1930: 0.7784\n",
      "Classification Report at Epoch 1930:\n",
      "                  precision    recall  f1-score   support\n",
      "\n",
      "    infringement       0.80      0.62      0.70       160\n",
      "non_infringement       0.71      0.86      0.78       176\n",
      "\n",
      "        accuracy                           0.74       336\n",
      "       macro avg       0.76      0.74      0.74       336\n",
      "    weighted avg       0.75      0.74      0.74       336\n",
      "\n"
     ]
    },
    {
     "name": "stderr",
     "output_type": "stream",
     "text": [
      "Training Epochs:  78%|███████▊  | 1949/2500 [00:42<00:10, 52.08it/s]"
     ]
    },
    {
     "name": "stdout",
     "output_type": "stream",
     "text": [
      "Epoch 1940/2500, Loss: 0.0413\n",
      "Test Accuracy at Epoch 1940: 74.11%\n",
      "Test F1-score at Epoch 1940: 0.7740\n",
      "Classification Report at Epoch 1940:\n",
      "                  precision    recall  f1-score   support\n",
      "\n",
      "    infringement       0.79      0.62      0.70       160\n",
      "non_infringement       0.71      0.85      0.77       176\n",
      "\n",
      "        accuracy                           0.74       336\n",
      "       macro avg       0.75      0.74      0.74       336\n",
      "    weighted avg       0.75      0.74      0.74       336\n",
      "\n",
      "Epoch 1950/2500, Loss: 0.0425\n",
      "Test Accuracy at Epoch 1950: 74.70%\n",
      "Test F1-score at Epoch 1950: 0.7826\n",
      "Classification Report at Epoch 1950:\n",
      "                  precision    recall  f1-score   support\n",
      "\n",
      "    infringement       0.81      0.61      0.70       160\n",
      "non_infringement       0.71      0.87      0.78       176\n",
      "\n",
      "        accuracy                           0.75       336\n",
      "       macro avg       0.76      0.74      0.74       336\n",
      "    weighted avg       0.76      0.75      0.74       336\n",
      "\n"
     ]
    },
    {
     "name": "stderr",
     "output_type": "stream",
     "text": [
      "Training Epochs:  79%|███████▊  | 1968/2500 [00:43<00:10, 51.99it/s]"
     ]
    },
    {
     "name": "stdout",
     "output_type": "stream",
     "text": [
      "Epoch 1960/2500, Loss: 0.0448\n",
      "Test Accuracy at Epoch 1960: 74.40%\n",
      "Test F1-score at Epoch 1960: 0.7760\n",
      "Classification Report at Epoch 1960:\n",
      "                  precision    recall  f1-score   support\n",
      "\n",
      "    infringement       0.79      0.63      0.70       160\n",
      "non_infringement       0.72      0.85      0.78       176\n",
      "\n",
      "        accuracy                           0.74       336\n",
      "       macro avg       0.75      0.74      0.74       336\n",
      "    weighted avg       0.75      0.74      0.74       336\n",
      "\n",
      "Epoch 1970/2500, Loss: 0.0448\n",
      "Test Accuracy at Epoch 1970: 75.00%\n",
      "Test F1-score at Epoch 1970: 0.7846\n",
      "Classification Report at Epoch 1970:\n",
      "                  precision    recall  f1-score   support\n",
      "\n",
      "    infringement       0.81      0.62      0.70       160\n",
      "non_infringement       0.71      0.87      0.78       176\n",
      "\n",
      "        accuracy                           0.75       336\n",
      "       macro avg       0.76      0.74      0.74       336\n",
      "    weighted avg       0.76      0.75      0.75       336\n",
      "\n"
     ]
    },
    {
     "name": "stderr",
     "output_type": "stream",
     "text": [
      "Training Epochs:  79%|███████▉  | 1987/2500 [00:43<00:09, 52.85it/s]"
     ]
    },
    {
     "name": "stdout",
     "output_type": "stream",
     "text": [
      "Epoch 1980/2500, Loss: 0.0437\n",
      "Test Accuracy at Epoch 1980: 74.70%\n",
      "Test F1-score at Epoch 1980: 0.7792\n",
      "Classification Report at Epoch 1980:\n",
      "                  precision    recall  f1-score   support\n",
      "\n",
      "    infringement       0.80      0.63      0.70       160\n",
      "non_infringement       0.72      0.85      0.78       176\n",
      "\n",
      "        accuracy                           0.75       336\n",
      "       macro avg       0.76      0.74      0.74       336\n",
      "    weighted avg       0.75      0.75      0.74       336\n",
      "\n",
      "Epoch 1990/2500, Loss: 0.0417\n",
      "Test Accuracy at Epoch 1990: 74.70%\n",
      "Test F1-score at Epoch 1990: 0.7804\n",
      "Classification Report at Epoch 1990:\n",
      "                  precision    recall  f1-score   support\n",
      "\n",
      "    infringement       0.80      0.62      0.70       160\n",
      "non_infringement       0.72      0.86      0.78       176\n",
      "\n",
      "        accuracy                           0.75       336\n",
      "       macro avg       0.76      0.74      0.74       336\n",
      "    weighted avg       0.76      0.75      0.74       336\n",
      "\n"
     ]
    },
    {
     "name": "stderr",
     "output_type": "stream",
     "text": [
      "Training Epochs:  80%|████████  | 2005/2500 [00:43<00:09, 49.61it/s]"
     ]
    },
    {
     "name": "stdout",
     "output_type": "stream",
     "text": [
      "Epoch 2000/2500, Loss: 0.0410\n",
      "Test Accuracy at Epoch 2000: 74.40%\n",
      "Test F1-score at Epoch 2000: 0.7784\n",
      "Classification Report at Epoch 2000:\n",
      "                  precision    recall  f1-score   support\n",
      "\n",
      "    infringement       0.80      0.62      0.70       160\n",
      "non_infringement       0.71      0.86      0.78       176\n",
      "\n",
      "        accuracy                           0.74       336\n",
      "       macro avg       0.76      0.74      0.74       336\n",
      "    weighted avg       0.75      0.74      0.74       336\n",
      "\n",
      "Epoch 2010/2500, Loss: 0.0414\n",
      "Test Accuracy at Epoch 2010: 74.11%\n",
      "Test F1-score at Epoch 2010: 0.7740\n",
      "Classification Report at Epoch 2010:\n",
      "                  precision    recall  f1-score   support\n",
      "\n",
      "    infringement       0.79      0.62      0.70       160\n",
      "non_infringement       0.71      0.85      0.77       176\n",
      "\n",
      "        accuracy                           0.74       336\n",
      "       macro avg       0.75      0.74      0.74       336\n",
      "    weighted avg       0.75      0.74      0.74       336\n",
      "\n"
     ]
    },
    {
     "name": "stderr",
     "output_type": "stream",
     "text": [
      "Training Epochs:  81%|████████  | 2030/2500 [00:44<00:09, 50.42it/s]"
     ]
    },
    {
     "name": "stdout",
     "output_type": "stream",
     "text": [
      "Epoch 2020/2500, Loss: 0.0428\n",
      "Test Accuracy at Epoch 2020: 75.00%\n",
      "Test F1-score at Epoch 2020: 0.7846\n",
      "Classification Report at Epoch 2020:\n",
      "                  precision    recall  f1-score   support\n",
      "\n",
      "    infringement       0.81      0.62      0.70       160\n",
      "non_infringement       0.71      0.87      0.78       176\n",
      "\n",
      "        accuracy                           0.75       336\n",
      "       macro avg       0.76      0.74      0.74       336\n",
      "    weighted avg       0.76      0.75      0.75       336\n",
      "\n",
      "Epoch 2030/2500, Loss: 0.0450\n",
      "Test Accuracy at Epoch 2030: 74.40%\n",
      "Test F1-score at Epoch 2030: 0.7760\n",
      "Classification Report at Epoch 2030:\n",
      "                  precision    recall  f1-score   support\n",
      "\n",
      "    infringement       0.79      0.63      0.70       160\n",
      "non_infringement       0.72      0.85      0.78       176\n",
      "\n",
      "        accuracy                           0.74       336\n",
      "       macro avg       0.75      0.74      0.74       336\n",
      "    weighted avg       0.75      0.74      0.74       336\n",
      "\n"
     ]
    },
    {
     "name": "stderr",
     "output_type": "stream",
     "text": [
      "Training Epochs:  82%|████████▏ | 2049/2500 [00:44<00:08, 53.39it/s]"
     ]
    },
    {
     "name": "stdout",
     "output_type": "stream",
     "text": [
      "Epoch 2040/2500, Loss: 0.0445\n",
      "Test Accuracy at Epoch 2040: 75.00%\n",
      "Test F1-score at Epoch 2040: 0.7846\n",
      "Classification Report at Epoch 2040:\n",
      "                  precision    recall  f1-score   support\n",
      "\n",
      "    infringement       0.81      0.62      0.70       160\n",
      "non_infringement       0.71      0.87      0.78       176\n",
      "\n",
      "        accuracy                           0.75       336\n",
      "       macro avg       0.76      0.74      0.74       336\n",
      "    weighted avg       0.76      0.75      0.75       336\n",
      "\n",
      "Epoch 2050/2500, Loss: 0.0431\n",
      "Test Accuracy at Epoch 2050: 74.70%\n",
      "Test F1-score at Epoch 2050: 0.7792\n",
      "Classification Report at Epoch 2050:\n",
      "                  precision    recall  f1-score   support\n",
      "\n",
      "    infringement       0.80      0.63      0.70       160\n",
      "non_infringement       0.72      0.85      0.78       176\n",
      "\n",
      "        accuracy                           0.75       336\n",
      "       macro avg       0.76      0.74      0.74       336\n",
      "    weighted avg       0.75      0.75      0.74       336\n",
      "\n"
     ]
    },
    {
     "name": "stderr",
     "output_type": "stream",
     "text": [
      "Training Epochs:  83%|████████▎ | 2068/2500 [00:45<00:08, 52.95it/s]"
     ]
    },
    {
     "name": "stdout",
     "output_type": "stream",
     "text": [
      "Epoch 2060/2500, Loss: 0.0414\n",
      "Test Accuracy at Epoch 2060: 75.00%\n",
      "Test F1-score at Epoch 2060: 0.7824\n",
      "Classification Report at Epoch 2060:\n",
      "                  precision    recall  f1-score   support\n",
      "\n",
      "    infringement       0.80      0.63      0.71       160\n",
      "non_infringement       0.72      0.86      0.78       176\n",
      "\n",
      "        accuracy                           0.75       336\n",
      "       macro avg       0.76      0.74      0.74       336\n",
      "    weighted avg       0.76      0.75      0.75       336\n",
      "\n",
      "Epoch 2070/2500, Loss: 0.0409\n",
      "Test Accuracy at Epoch 2070: 74.40%\n",
      "Test F1-score at Epoch 2070: 0.7784\n",
      "Classification Report at Epoch 2070:\n",
      "                  precision    recall  f1-score   support\n",
      "\n",
      "    infringement       0.80      0.62      0.70       160\n",
      "non_infringement       0.71      0.86      0.78       176\n",
      "\n",
      "        accuracy                           0.74       336\n",
      "       macro avg       0.76      0.74      0.74       336\n",
      "    weighted avg       0.75      0.74      0.74       336\n",
      "\n"
     ]
    },
    {
     "name": "stderr",
     "output_type": "stream",
     "text": [
      "Training Epochs:  83%|████████▎ | 2087/2500 [00:45<00:07, 53.33it/s]"
     ]
    },
    {
     "name": "stdout",
     "output_type": "stream",
     "text": [
      "Epoch 2080/2500, Loss: 0.0415\n",
      "Test Accuracy at Epoch 2080: 74.11%\n",
      "Test F1-score at Epoch 2080: 0.7740\n",
      "Classification Report at Epoch 2080:\n",
      "                  precision    recall  f1-score   support\n",
      "\n",
      "    infringement       0.79      0.62      0.70       160\n",
      "non_infringement       0.71      0.85      0.77       176\n",
      "\n",
      "        accuracy                           0.74       336\n",
      "       macro avg       0.75      0.74      0.74       336\n",
      "    weighted avg       0.75      0.74      0.74       336\n",
      "\n",
      "Epoch 2090/2500, Loss: 0.0430\n",
      "Test Accuracy at Epoch 2090: 75.30%\n",
      "Test F1-score at Epoch 2090: 0.7877\n",
      "Classification Report at Epoch 2090:\n",
      "                  precision    recall  f1-score   support\n",
      "\n",
      "    infringement       0.82      0.62      0.70       160\n",
      "non_infringement       0.72      0.88      0.79       176\n",
      "\n",
      "        accuracy                           0.75       336\n",
      "       macro avg       0.77      0.75      0.75       336\n",
      "    weighted avg       0.76      0.75      0.75       336\n",
      "\n"
     ]
    },
    {
     "name": "stderr",
     "output_type": "stream",
     "text": [
      "Training Epochs:  84%|████████▍ | 2105/2500 [00:45<00:07, 51.60it/s]"
     ]
    },
    {
     "name": "stdout",
     "output_type": "stream",
     "text": [
      "Epoch 2100/2500, Loss: 0.0450\n",
      "Test Accuracy at Epoch 2100: 74.40%\n",
      "Test F1-score at Epoch 2100: 0.7760\n",
      "Classification Report at Epoch 2100:\n",
      "                  precision    recall  f1-score   support\n",
      "\n",
      "    infringement       0.79      0.63      0.70       160\n",
      "non_infringement       0.72      0.85      0.78       176\n",
      "\n",
      "        accuracy                           0.74       336\n",
      "       macro avg       0.75      0.74      0.74       336\n",
      "    weighted avg       0.75      0.74      0.74       336\n",
      "\n",
      "Epoch 2110/2500, Loss: 0.0442\n",
      "Test Accuracy at Epoch 2110: 75.30%\n",
      "Test F1-score at Epoch 2110: 0.7866\n",
      "Classification Report at Epoch 2110:\n",
      "                  precision    recall  f1-score   support\n",
      "\n",
      "    infringement       0.81      0.62      0.71       160\n",
      "non_infringement       0.72      0.87      0.79       176\n",
      "\n",
      "        accuracy                           0.75       336\n",
      "       macro avg       0.77      0.75      0.75       336\n",
      "    weighted avg       0.76      0.75      0.75       336\n",
      "\n"
     ]
    },
    {
     "name": "stderr",
     "output_type": "stream",
     "text": [
      "Training Epochs:  85%|████████▌ | 2130/2500 [00:46<00:07, 52.11it/s]"
     ]
    },
    {
     "name": "stdout",
     "output_type": "stream",
     "text": [
      "Epoch 2120/2500, Loss: 0.0427\n",
      "Test Accuracy at Epoch 2120: 74.70%\n",
      "Test F1-score at Epoch 2120: 0.7792\n",
      "Classification Report at Epoch 2120:\n",
      "                  precision    recall  f1-score   support\n",
      "\n",
      "    infringement       0.80      0.63      0.70       160\n",
      "non_infringement       0.72      0.85      0.78       176\n",
      "\n",
      "        accuracy                           0.75       336\n",
      "       macro avg       0.76      0.74      0.74       336\n",
      "    weighted avg       0.75      0.75      0.74       336\n",
      "\n",
      "Epoch 2130/2500, Loss: 0.0412\n",
      "Test Accuracy at Epoch 2130: 75.00%\n",
      "Test F1-score at Epoch 2130: 0.7824\n",
      "Classification Report at Epoch 2130:\n",
      "                  precision    recall  f1-score   support\n",
      "\n",
      "    infringement       0.80      0.63      0.71       160\n",
      "non_infringement       0.72      0.86      0.78       176\n",
      "\n",
      "        accuracy                           0.75       336\n",
      "       macro avg       0.76      0.74      0.74       336\n",
      "    weighted avg       0.76      0.75      0.75       336\n",
      "\n"
     ]
    },
    {
     "name": "stderr",
     "output_type": "stream",
     "text": [
      "Training Epochs:  86%|████████▌ | 2149/2500 [00:46<00:06, 53.92it/s]"
     ]
    },
    {
     "name": "stdout",
     "output_type": "stream",
     "text": [
      "Epoch 2140/2500, Loss: 0.0409\n",
      "Test Accuracy at Epoch 2140: 74.40%\n",
      "Test F1-score at Epoch 2140: 0.7784\n",
      "Classification Report at Epoch 2140:\n",
      "                  precision    recall  f1-score   support\n",
      "\n",
      "    infringement       0.80      0.62      0.70       160\n",
      "non_infringement       0.71      0.86      0.78       176\n",
      "\n",
      "        accuracy                           0.74       336\n",
      "       macro avg       0.76      0.74      0.74       336\n",
      "    weighted avg       0.75      0.74      0.74       336\n",
      "\n",
      "Epoch 2150/2500, Loss: 0.0416\n",
      "Test Accuracy at Epoch 2150: 74.11%\n",
      "Test F1-score at Epoch 2150: 0.7740\n",
      "Classification Report at Epoch 2150:\n",
      "                  precision    recall  f1-score   support\n",
      "\n",
      "    infringement       0.79      0.62      0.70       160\n",
      "non_infringement       0.71      0.85      0.77       176\n",
      "\n",
      "        accuracy                           0.74       336\n",
      "       macro avg       0.75      0.74      0.74       336\n",
      "    weighted avg       0.75      0.74      0.74       336\n",
      "\n"
     ]
    },
    {
     "name": "stderr",
     "output_type": "stream",
     "text": [
      "Training Epochs:  87%|████████▋ | 2168/2500 [00:47<00:06, 53.07it/s]"
     ]
    },
    {
     "name": "stdout",
     "output_type": "stream",
     "text": [
      "Epoch 2160/2500, Loss: 0.0431\n",
      "Test Accuracy at Epoch 2160: 75.30%\n",
      "Test F1-score at Epoch 2160: 0.7877\n",
      "Classification Report at Epoch 2160:\n",
      "                  precision    recall  f1-score   support\n",
      "\n",
      "    infringement       0.82      0.62      0.70       160\n",
      "non_infringement       0.72      0.88      0.79       176\n",
      "\n",
      "        accuracy                           0.75       336\n",
      "       macro avg       0.77      0.75      0.75       336\n",
      "    weighted avg       0.76      0.75      0.75       336\n",
      "\n",
      "Epoch 2170/2500, Loss: 0.0449\n",
      "Test Accuracy at Epoch 2170: 74.11%\n",
      "Test F1-score at Epoch 2170: 0.7728\n",
      "Classification Report at Epoch 2170:\n",
      "                  precision    recall  f1-score   support\n",
      "\n",
      "    infringement       0.78      0.63      0.70       160\n",
      "non_infringement       0.71      0.84      0.77       176\n",
      "\n",
      "        accuracy                           0.74       336\n",
      "       macro avg       0.75      0.74      0.74       336\n",
      "    weighted avg       0.75      0.74      0.74       336\n",
      "\n"
     ]
    },
    {
     "name": "stderr",
     "output_type": "stream",
     "text": [
      "Training Epochs:  87%|████████▋ | 2187/2500 [00:47<00:05, 54.04it/s]"
     ]
    },
    {
     "name": "stdout",
     "output_type": "stream",
     "text": [
      "Epoch 2180/2500, Loss: 0.0439\n",
      "Test Accuracy at Epoch 2180: 75.30%\n",
      "Test F1-score at Epoch 2180: 0.7866\n",
      "Classification Report at Epoch 2180:\n",
      "                  precision    recall  f1-score   support\n",
      "\n",
      "    infringement       0.81      0.62      0.71       160\n",
      "non_infringement       0.72      0.87      0.79       176\n",
      "\n",
      "        accuracy                           0.75       336\n",
      "       macro avg       0.77      0.75      0.75       336\n",
      "    weighted avg       0.76      0.75      0.75       336\n",
      "\n",
      "Epoch 2190/2500, Loss: 0.0424\n",
      "Test Accuracy at Epoch 2190: 75.00%\n",
      "Test F1-score at Epoch 2190: 0.7824\n",
      "Classification Report at Epoch 2190:\n",
      "                  precision    recall  f1-score   support\n",
      "\n",
      "    infringement       0.80      0.63      0.71       160\n",
      "non_infringement       0.72      0.86      0.78       176\n",
      "\n",
      "        accuracy                           0.75       336\n",
      "       macro avg       0.76      0.74      0.74       336\n",
      "    weighted avg       0.76      0.75      0.75       336\n",
      "\n"
     ]
    },
    {
     "name": "stderr",
     "output_type": "stream",
     "text": [
      "Training Epochs:  88%|████████▊ | 2205/2500 [00:47<00:05, 49.39it/s]"
     ]
    },
    {
     "name": "stdout",
     "output_type": "stream",
     "text": [
      "Epoch 2200/2500, Loss: 0.0411\n",
      "Test Accuracy at Epoch 2200: 75.00%\n",
      "Test F1-score at Epoch 2200: 0.7824\n",
      "Classification Report at Epoch 2200:\n",
      "                  precision    recall  f1-score   support\n",
      "\n",
      "    infringement       0.80      0.63      0.71       160\n",
      "non_infringement       0.72      0.86      0.78       176\n",
      "\n",
      "        accuracy                           0.75       336\n",
      "       macro avg       0.76      0.74      0.74       336\n",
      "    weighted avg       0.76      0.75      0.75       336\n",
      "\n",
      "Epoch 2210/2500, Loss: 0.0409\n",
      "Test Accuracy at Epoch 2210: 74.40%\n",
      "Test F1-score at Epoch 2210: 0.7784\n",
      "Classification Report at Epoch 2210:\n",
      "                  precision    recall  f1-score   support\n",
      "\n",
      "    infringement       0.80      0.62      0.70       160\n",
      "non_infringement       0.71      0.86      0.78       176\n",
      "\n",
      "        accuracy                           0.74       336\n",
      "       macro avg       0.76      0.74      0.74       336\n",
      "    weighted avg       0.75      0.74      0.74       336\n",
      "\n"
     ]
    },
    {
     "name": "stderr",
     "output_type": "stream",
     "text": [
      "Training Epochs:  89%|████████▉ | 2230/2500 [00:48<00:05, 49.58it/s]"
     ]
    },
    {
     "name": "stdout",
     "output_type": "stream",
     "text": [
      "Epoch 2220/2500, Loss: 0.0417\n",
      "Test Accuracy at Epoch 2220: 74.11%\n",
      "Test F1-score at Epoch 2220: 0.7740\n",
      "Classification Report at Epoch 2220:\n",
      "                  precision    recall  f1-score   support\n",
      "\n",
      "    infringement       0.79      0.62      0.70       160\n",
      "non_infringement       0.71      0.85      0.77       176\n",
      "\n",
      "        accuracy                           0.74       336\n",
      "       macro avg       0.75      0.74      0.74       336\n",
      "    weighted avg       0.75      0.74      0.74       336\n",
      "\n",
      "Epoch 2230/2500, Loss: 0.0431\n",
      "Test Accuracy at Epoch 2230: 75.30%\n",
      "Test F1-score at Epoch 2230: 0.7877\n",
      "Classification Report at Epoch 2230:\n",
      "                  precision    recall  f1-score   support\n",
      "\n",
      "    infringement       0.82      0.62      0.70       160\n",
      "non_infringement       0.72      0.88      0.79       176\n",
      "\n",
      "        accuracy                           0.75       336\n",
      "       macro avg       0.77      0.75      0.75       336\n",
      "    weighted avg       0.76      0.75      0.75       336\n",
      "\n"
     ]
    },
    {
     "name": "stderr",
     "output_type": "stream",
     "text": [
      "Training Epochs:  90%|████████▉ | 2249/2500 [00:48<00:04, 51.73it/s]"
     ]
    },
    {
     "name": "stdout",
     "output_type": "stream",
     "text": [
      "Epoch 2240/2500, Loss: 0.0448\n",
      "Test Accuracy at Epoch 2240: 74.11%\n",
      "Test F1-score at Epoch 2240: 0.7728\n",
      "Classification Report at Epoch 2240:\n",
      "                  precision    recall  f1-score   support\n",
      "\n",
      "    infringement       0.78      0.63      0.70       160\n",
      "non_infringement       0.71      0.84      0.77       176\n",
      "\n",
      "        accuracy                           0.74       336\n",
      "       macro avg       0.75      0.74      0.74       336\n",
      "    weighted avg       0.75      0.74      0.74       336\n",
      "\n",
      "Epoch 2250/2500, Loss: 0.0436\n",
      "Test Accuracy at Epoch 2250: 75.60%\n",
      "Test F1-score at Epoch 2250: 0.7897\n",
      "Classification Report at Epoch 2250:\n",
      "                  precision    recall  f1-score   support\n",
      "\n",
      "    infringement       0.82      0.62      0.71       160\n",
      "non_infringement       0.72      0.88      0.79       176\n",
      "\n",
      "        accuracy                           0.76       336\n",
      "       macro avg       0.77      0.75      0.75       336\n",
      "    weighted avg       0.77      0.76      0.75       336\n",
      "\n"
     ]
    },
    {
     "name": "stderr",
     "output_type": "stream",
     "text": [
      "Training Epochs:  91%|█████████ | 2268/2500 [00:49<00:04, 52.23it/s]"
     ]
    },
    {
     "name": "stdout",
     "output_type": "stream",
     "text": [
      "Epoch 2260/2500, Loss: 0.0422\n",
      "Test Accuracy at Epoch 2260: 75.00%\n",
      "Test F1-score at Epoch 2260: 0.7824\n",
      "Classification Report at Epoch 2260:\n",
      "                  precision    recall  f1-score   support\n",
      "\n",
      "    infringement       0.80      0.63      0.71       160\n",
      "non_infringement       0.72      0.86      0.78       176\n",
      "\n",
      "        accuracy                           0.75       336\n",
      "       macro avg       0.76      0.74      0.74       336\n",
      "    weighted avg       0.76      0.75      0.75       336\n",
      "\n",
      "Epoch 2270/2500, Loss: 0.0410\n",
      "Test Accuracy at Epoch 2270: 75.00%\n",
      "Test F1-score at Epoch 2270: 0.7824\n",
      "Classification Report at Epoch 2270:\n",
      "                  precision    recall  f1-score   support\n",
      "\n",
      "    infringement       0.80      0.63      0.71       160\n",
      "non_infringement       0.72      0.86      0.78       176\n",
      "\n",
      "        accuracy                           0.75       336\n",
      "       macro avg       0.76      0.74      0.74       336\n",
      "    weighted avg       0.76      0.75      0.75       336\n",
      "\n"
     ]
    },
    {
     "name": "stderr",
     "output_type": "stream",
     "text": [
      "Training Epochs:  91%|█████████▏| 2287/2500 [00:49<00:04, 52.75it/s]"
     ]
    },
    {
     "name": "stdout",
     "output_type": "stream",
     "text": [
      "Epoch 2280/2500, Loss: 0.0409\n",
      "Test Accuracy at Epoch 2280: 74.70%\n",
      "Test F1-score at Epoch 2280: 0.7815\n",
      "Classification Report at Epoch 2280:\n",
      "                  precision    recall  f1-score   support\n",
      "\n",
      "    infringement       0.80      0.62      0.70       160\n",
      "non_infringement       0.71      0.86      0.78       176\n",
      "\n",
      "        accuracy                           0.75       336\n",
      "       macro avg       0.76      0.74      0.74       336\n",
      "    weighted avg       0.76      0.75      0.74       336\n",
      "\n",
      "Epoch 2290/2500, Loss: 0.0417\n",
      "Test Accuracy at Epoch 2290: 74.11%\n",
      "Test F1-score at Epoch 2290: 0.7740\n",
      "Classification Report at Epoch 2290:\n",
      "                  precision    recall  f1-score   support\n",
      "\n",
      "    infringement       0.79      0.62      0.70       160\n",
      "non_infringement       0.71      0.85      0.77       176\n",
      "\n",
      "        accuracy                           0.74       336\n",
      "       macro avg       0.75      0.74      0.74       336\n",
      "    weighted avg       0.75      0.74      0.74       336\n",
      "\n"
     ]
    },
    {
     "name": "stderr",
     "output_type": "stream",
     "text": [
      "Training Epochs:  92%|█████████▏| 2307/2500 [00:49<00:03, 53.40it/s]"
     ]
    },
    {
     "name": "stdout",
     "output_type": "stream",
     "text": [
      "Epoch 2300/2500, Loss: 0.0431\n",
      "Test Accuracy at Epoch 2300: 75.00%\n",
      "Test F1-score at Epoch 2300: 0.7857\n",
      "Classification Report at Epoch 2300:\n",
      "                  precision    recall  f1-score   support\n",
      "\n",
      "    infringement       0.82      0.61      0.70       160\n",
      "non_infringement       0.71      0.88      0.79       176\n",
      "\n",
      "        accuracy                           0.75       336\n",
      "       macro avg       0.76      0.74      0.74       336\n",
      "    weighted avg       0.76      0.75      0.74       336\n",
      "\n",
      "Epoch 2310/2500, Loss: 0.0446\n",
      "Test Accuracy at Epoch 2310: 74.11%\n",
      "Test F1-score at Epoch 2310: 0.7728\n",
      "Classification Report at Epoch 2310:\n",
      "                  precision    recall  f1-score   support\n",
      "\n",
      "    infringement       0.78      0.63      0.70       160\n",
      "non_infringement       0.71      0.84      0.77       176\n",
      "\n",
      "        accuracy                           0.74       336\n",
      "       macro avg       0.75      0.74      0.74       336\n",
      "    weighted avg       0.75      0.74      0.74       336\n",
      "\n"
     ]
    },
    {
     "name": "stderr",
     "output_type": "stream",
     "text": [
      "Training Epochs:  93%|█████████▎| 2327/2500 [00:50<00:03, 54.03it/s]"
     ]
    },
    {
     "name": "stdout",
     "output_type": "stream",
     "text": [
      "Epoch 2320/2500, Loss: 0.0435\n",
      "Test Accuracy at Epoch 2320: 75.60%\n",
      "Test F1-score at Epoch 2320: 0.7897\n",
      "Classification Report at Epoch 2320:\n",
      "                  precision    recall  f1-score   support\n",
      "\n",
      "    infringement       0.82      0.62      0.71       160\n",
      "non_infringement       0.72      0.88      0.79       176\n",
      "\n",
      "        accuracy                           0.76       336\n",
      "       macro avg       0.77      0.75      0.75       336\n",
      "    weighted avg       0.77      0.76      0.75       336\n",
      "\n",
      "Epoch 2330/2500, Loss: 0.0420\n",
      "Test Accuracy at Epoch 2330: 75.00%\n",
      "Test F1-score at Epoch 2330: 0.7824\n",
      "Classification Report at Epoch 2330:\n",
      "                  precision    recall  f1-score   support\n",
      "\n",
      "    infringement       0.80      0.63      0.71       160\n",
      "non_infringement       0.72      0.86      0.78       176\n",
      "\n",
      "        accuracy                           0.75       336\n",
      "       macro avg       0.76      0.74      0.74       336\n",
      "    weighted avg       0.76      0.75      0.75       336\n",
      "\n"
     ]
    },
    {
     "name": "stderr",
     "output_type": "stream",
     "text": [
      "Training Epochs:  94%|█████████▍| 2347/2500 [00:50<00:02, 51.68it/s]"
     ]
    },
    {
     "name": "stdout",
     "output_type": "stream",
     "text": [
      "Epoch 2340/2500, Loss: 0.0409\n",
      "Test Accuracy at Epoch 2340: 75.00%\n",
      "Test F1-score at Epoch 2340: 0.7824\n",
      "Classification Report at Epoch 2340:\n",
      "                  precision    recall  f1-score   support\n",
      "\n",
      "    infringement       0.80      0.63      0.71       160\n",
      "non_infringement       0.72      0.86      0.78       176\n",
      "\n",
      "        accuracy                           0.75       336\n",
      "       macro avg       0.76      0.74      0.74       336\n",
      "    weighted avg       0.76      0.75      0.75       336\n",
      "\n",
      "Epoch 2350/2500, Loss: 0.0408\n",
      "Test Accuracy at Epoch 2350: 75.00%\n",
      "Test F1-score at Epoch 2350: 0.7846\n",
      "Classification Report at Epoch 2350:\n",
      "                  precision    recall  f1-score   support\n",
      "\n",
      "    infringement       0.81      0.62      0.70       160\n",
      "non_infringement       0.71      0.87      0.78       176\n",
      "\n",
      "        accuracy                           0.75       336\n",
      "       macro avg       0.76      0.74      0.74       336\n",
      "    weighted avg       0.76      0.75      0.75       336\n",
      "\n"
     ]
    },
    {
     "name": "stderr",
     "output_type": "stream",
     "text": [
      "Training Epochs:  95%|█████████▍| 2363/2500 [00:51<00:03, 44.10it/s]"
     ]
    },
    {
     "name": "stdout",
     "output_type": "stream",
     "text": [
      "Epoch 2360/2500, Loss: 0.0417\n",
      "Test Accuracy at Epoch 2360: 73.81%\n",
      "Test F1-score at Epoch 2360: 0.7708\n",
      "Classification Report at Epoch 2360:\n",
      "                  precision    recall  f1-score   support\n",
      "\n",
      "    infringement       0.78      0.62      0.69       160\n",
      "non_infringement       0.71      0.84      0.77       176\n",
      "\n",
      "        accuracy                           0.74       336\n",
      "       macro avg       0.75      0.73      0.73       336\n",
      "    weighted avg       0.74      0.74      0.73       336\n",
      "\n"
     ]
    },
    {
     "name": "stderr",
     "output_type": "stream",
     "text": [
      "Training Epochs:  95%|█████████▌| 2380/2500 [00:51<00:02, 46.85it/s]"
     ]
    },
    {
     "name": "stdout",
     "output_type": "stream",
     "text": [
      "Epoch 2370/2500, Loss: 0.0430\n",
      "Test Accuracy at Epoch 2370: 75.00%\n",
      "Test F1-score at Epoch 2370: 0.7857\n",
      "Classification Report at Epoch 2370:\n",
      "                  precision    recall  f1-score   support\n",
      "\n",
      "    infringement       0.82      0.61      0.70       160\n",
      "non_infringement       0.71      0.88      0.79       176\n",
      "\n",
      "        accuracy                           0.75       336\n",
      "       macro avg       0.76      0.74      0.74       336\n",
      "    weighted avg       0.76      0.75      0.74       336\n",
      "\n",
      "Epoch 2380/2500, Loss: 0.0445\n",
      "Test Accuracy at Epoch 2380: 74.11%\n",
      "Test F1-score at Epoch 2380: 0.7728\n",
      "Classification Report at Epoch 2380:\n",
      "                  precision    recall  f1-score   support\n",
      "\n",
      "    infringement       0.78      0.63      0.70       160\n",
      "non_infringement       0.71      0.84      0.77       176\n",
      "\n",
      "        accuracy                           0.74       336\n",
      "       macro avg       0.75      0.74      0.74       336\n",
      "    weighted avg       0.75      0.74      0.74       336\n",
      "\n"
     ]
    },
    {
     "name": "stderr",
     "output_type": "stream",
     "text": [
      "Training Epochs:  96%|█████████▌| 2397/2500 [00:51<00:02, 48.48it/s]"
     ]
    },
    {
     "name": "stdout",
     "output_type": "stream",
     "text": [
      "Epoch 2390/2500, Loss: 0.0433\n",
      "Test Accuracy at Epoch 2390: 75.60%\n",
      "Test F1-score at Epoch 2390: 0.7897\n",
      "Classification Report at Epoch 2390:\n",
      "                  precision    recall  f1-score   support\n",
      "\n",
      "    infringement       0.82      0.62      0.71       160\n",
      "non_infringement       0.72      0.88      0.79       176\n",
      "\n",
      "        accuracy                           0.76       336\n",
      "       macro avg       0.77      0.75      0.75       336\n",
      "    weighted avg       0.77      0.76      0.75       336\n",
      "\n",
      "Epoch 2400/2500, Loss: 0.0419\n"
     ]
    },
    {
     "name": "stderr",
     "output_type": "stream",
     "text": [
      "Training Epochs:  96%|█████████▋| 2407/2500 [00:52<00:02, 44.54it/s]"
     ]
    },
    {
     "name": "stdout",
     "output_type": "stream",
     "text": [
      "Test Accuracy at Epoch 2400: 75.00%\n",
      "Test F1-score at Epoch 2400: 0.7824\n",
      "Classification Report at Epoch 2400:\n",
      "                  precision    recall  f1-score   support\n",
      "\n",
      "    infringement       0.80      0.63      0.71       160\n",
      "non_infringement       0.72      0.86      0.78       176\n",
      "\n",
      "        accuracy                           0.75       336\n",
      "       macro avg       0.76      0.74      0.74       336\n",
      "    weighted avg       0.76      0.75      0.75       336\n",
      "\n"
     ]
    },
    {
     "name": "stderr",
     "output_type": "stream",
     "text": [
      "Training Epochs:  97%|█████████▋| 2420/2500 [00:52<00:01, 49.17it/s]"
     ]
    },
    {
     "name": "stdout",
     "output_type": "stream",
     "text": [
      "Epoch 2410/2500, Loss: 0.0409\n",
      "Test Accuracy at Epoch 2410: 75.00%\n",
      "Test F1-score at Epoch 2410: 0.7824\n",
      "Classification Report at Epoch 2410:\n",
      "                  precision    recall  f1-score   support\n",
      "\n",
      "    infringement       0.80      0.63      0.71       160\n",
      "non_infringement       0.72      0.86      0.78       176\n",
      "\n",
      "        accuracy                           0.75       336\n",
      "       macro avg       0.76      0.74      0.74       336\n",
      "    weighted avg       0.76      0.75      0.75       336\n",
      "\n",
      "Epoch 2420/2500, Loss: 0.0408\n",
      "Test Accuracy at Epoch 2420: 75.00%\n",
      "Test F1-score at Epoch 2420: 0.7846\n",
      "Classification Report at Epoch 2420:\n",
      "                  precision    recall  f1-score   support\n",
      "\n",
      "    infringement       0.81      0.62      0.70       160\n",
      "non_infringement       0.71      0.87      0.78       176\n",
      "\n",
      "        accuracy                           0.75       336\n",
      "       macro avg       0.76      0.74      0.74       336\n",
      "    weighted avg       0.76      0.75      0.75       336\n",
      "\n"
     ]
    },
    {
     "name": "stderr",
     "output_type": "stream",
     "text": [
      "Training Epochs:  97%|█████████▋| 2436/2500 [00:52<00:01, 49.78it/s]"
     ]
    },
    {
     "name": "stdout",
     "output_type": "stream",
     "text": [
      "Epoch 2430/2500, Loss: 0.0417\n",
      "Test Accuracy at Epoch 2430: 73.81%\n",
      "Test F1-score at Epoch 2430: 0.7708\n",
      "Classification Report at Epoch 2430:\n",
      "                  precision    recall  f1-score   support\n",
      "\n",
      "    infringement       0.78      0.62      0.69       160\n",
      "non_infringement       0.71      0.84      0.77       176\n",
      "\n",
      "        accuracy                           0.74       336\n",
      "       macro avg       0.75      0.73      0.73       336\n",
      "    weighted avg       0.74      0.74      0.73       336\n",
      "\n",
      "Epoch 2440/2500, Loss: 0.0430\n",
      "Test Accuracy at Epoch 2440: 75.00%\n",
      "Test F1-score at Epoch 2440: 0.7857\n"
     ]
    },
    {
     "name": "stderr",
     "output_type": "stream",
     "text": [
      "Training Epochs:  98%|█████████▊| 2448/2500 [00:52<00:01, 46.84it/s]"
     ]
    },
    {
     "name": "stdout",
     "output_type": "stream",
     "text": [
      "Classification Report at Epoch 2440:\n",
      "                  precision    recall  f1-score   support\n",
      "\n",
      "    infringement       0.82      0.61      0.70       160\n",
      "non_infringement       0.71      0.88      0.79       176\n",
      "\n",
      "        accuracy                           0.75       336\n",
      "       macro avg       0.76      0.74      0.74       336\n",
      "    weighted avg       0.76      0.75      0.74       336\n",
      "\n"
     ]
    },
    {
     "name": "stderr",
     "output_type": "stream",
     "text": [
      "Training Epochs:  98%|█████████▊| 2460/2500 [00:53<00:00, 49.77it/s]"
     ]
    },
    {
     "name": "stdout",
     "output_type": "stream",
     "text": [
      "Epoch 2450/2500, Loss: 0.0443\n",
      "Test Accuracy at Epoch 2450: 74.11%\n",
      "Test F1-score at Epoch 2450: 0.7728\n",
      "Classification Report at Epoch 2450:\n",
      "                  precision    recall  f1-score   support\n",
      "\n",
      "    infringement       0.78      0.63      0.70       160\n",
      "non_infringement       0.71      0.84      0.77       176\n",
      "\n",
      "        accuracy                           0.74       336\n",
      "       macro avg       0.75      0.74      0.74       336\n",
      "    weighted avg       0.75      0.74      0.74       336\n",
      "\n",
      "Epoch 2460/2500, Loss: 0.0432\n",
      "Test Accuracy at Epoch 2460: 75.60%\n",
      "Test F1-score at Epoch 2460: 0.7897\n",
      "Classification Report at Epoch 2460:\n",
      "                  precision    recall  f1-score   support\n",
      "\n",
      "    infringement       0.82      0.62      0.71       160\n",
      "non_infringement       0.72      0.88      0.79       176\n",
      "\n",
      "        accuracy                           0.76       336\n",
      "       macro avg       0.77      0.75      0.75       336\n",
      "    weighted avg       0.77      0.76      0.75       336\n",
      "\n"
     ]
    },
    {
     "name": "stderr",
     "output_type": "stream",
     "text": [
      "Training Epochs:  99%|█████████▉| 2478/2500 [00:53<00:00, 50.82it/s]"
     ]
    },
    {
     "name": "stdout",
     "output_type": "stream",
     "text": [
      "Epoch 2470/2500, Loss: 0.0418\n",
      "Test Accuracy at Epoch 2470: 74.70%\n",
      "Test F1-score at Epoch 2470: 0.7792\n",
      "Classification Report at Epoch 2470:\n",
      "                  precision    recall  f1-score   support\n",
      "\n",
      "    infringement       0.80      0.63      0.70       160\n",
      "non_infringement       0.72      0.85      0.78       176\n",
      "\n",
      "        accuracy                           0.75       336\n",
      "       macro avg       0.76      0.74      0.74       336\n",
      "    weighted avg       0.75      0.75      0.74       336\n",
      "\n",
      "Epoch 2480/2500, Loss: 0.0408\n",
      "Test Accuracy at Epoch 2480: 75.00%\n",
      "Test F1-score at Epoch 2480: 0.7824\n",
      "Classification Report at Epoch 2480:\n",
      "                  precision    recall  f1-score   support\n",
      "\n",
      "    infringement       0.80      0.63      0.71       160\n",
      "non_infringement       0.72      0.86      0.78       176\n",
      "\n",
      "        accuracy                           0.75       336\n",
      "       macro avg       0.76      0.74      0.74       336\n",
      "    weighted avg       0.76      0.75      0.75       336\n",
      "\n"
     ]
    },
    {
     "name": "stderr",
     "output_type": "stream",
     "text": [
      "Training Epochs: 100%|█████████▉| 2496/2500 [00:53<00:00, 50.08it/s]"
     ]
    },
    {
     "name": "stdout",
     "output_type": "stream",
     "text": [
      "Epoch 2490/2500, Loss: 0.0408\n",
      "Test Accuracy at Epoch 2490: 75.00%\n",
      "Test F1-score at Epoch 2490: 0.7846\n",
      "Classification Report at Epoch 2490:\n",
      "                  precision    recall  f1-score   support\n",
      "\n",
      "    infringement       0.81      0.62      0.70       160\n",
      "non_infringement       0.71      0.87      0.78       176\n",
      "\n",
      "        accuracy                           0.75       336\n",
      "       macro avg       0.76      0.74      0.74       336\n",
      "    weighted avg       0.76      0.75      0.75       336\n",
      "\n",
      "Epoch 2500/2500, Loss: 0.0417\n",
      "Test Accuracy at Epoch 2500: 73.81%\n",
      "Test F1-score at Epoch 2500: 0.7708\n",
      "Classification Report at Epoch 2500:\n",
      "                  precision    recall  f1-score   support\n",
      "\n",
      "    infringement       0.78      0.62      0.69       160\n",
      "non_infringement       0.71      0.84      0.77       176\n",
      "\n",
      "        accuracy                           0.74       336\n",
      "       macro avg       0.75      0.73      0.73       336\n",
      "    weighted avg       0.74      0.74      0.73       336\n",
      "\n"
     ]
    },
    {
     "name": "stderr",
     "output_type": "stream",
     "text": [
      "Training Epochs: 100%|██████████| 2500/2500 [00:53<00:00, 46.35it/s]\n",
      "/tmp/ipykernel_3958316/3818700350.py:59: FutureWarning: You are using `torch.load` with `weights_only=False` (the current default value), which uses the default pickle module implicitly. It is possible to construct malicious pickle data which will execute arbitrary code during unpickling (See https://github.com/pytorch/pytorch/blob/main/SECURITY.md#untrusted-models for more details). In a future release, the default value for `weights_only` will be flipped to `True`. This limits the functions that could be executed during unpickling. Arbitrary objects will no longer be allowed to be loaded via this mode unless they are explicitly allowlisted by the user via `torch.serialization.add_safe_globals`. We recommend you start setting `weights_only=True` for any use case where you don't have full control of the loaded file. Please open an issue on GitHub for any issues related to this experimental feature.\n",
      "  custom_mlp.load_state_dict(torch.load(checkpoint_path))\n"
     ]
    },
    {
     "data": {
      "image/png": "[encoded data removed]",
      "text/plain": [
       "<Figure size 1000x500 with 1 Axes>"
      ]
     },
     "metadata": {},
     "output_type": "display_data"
    },
    {
     "name": "stdout",
     "output_type": "stream",
     "text": [
      "Final Model Accuracy: 81.55%\n",
      "Final Model F1-score: 0.8410\n"
     ]
    }
   ],
   "source": [
    "input_dim = X_train.shape[1]\n",
    "hidden_dim = 256\n",
    "\n",
    "custom_mlp, losses, best_accuracy, best_f1 = train_model(X_train, y_train, X_test, y_test, input_dim, hidden_dim)"
   ]
  },
  {
   "cell_type": "code",
   "execution_count": 10,
   "metadata": {},
   "outputs": [
    {
     "name": "stdout",
     "output_type": "stream",
     "text": [
      "Checkpoint saved to '/home/guangwei/LLM-COPYRIGHT/copyright_newVersion/models/train_input_reference_last_token.pth'.\n"
     ]
    }
   ],
   "source": [
    "def save_checkpoint(model, optimizer, epoch, loss, filepath):\n",
    "    checkpoint = {\n",
    "        'epoch': epoch + 1,\n",
    "        'model_state_dict': model.state_dict(),\n",
    "        'optimizer_state_dict': optimizer.state_dict(),\n",
    "        'loss': loss\n",
    "    }\n",
    "    torch.save(checkpoint, filepath)\n",
    "    print(f\"Checkpoint saved to '{filepath}'.\")\n",
    "\n",
    "save_checkpoint(custom_mlp, torch.optim.Adam(custom_mlp.parameters()), len(losses), losses[-1], checkpoint_file)"
   ]
  },
  {
   "cell_type": "code",
   "execution_count": null,
   "metadata": {},
   "outputs": [
    {
     "name": "stderr",
     "output_type": "stream",
     "text": [
      "/tmp/ipykernel_3958316/2137335780.py:1: UserWarning: To copy construct from a tensor, it is recommended to use sourceTensor.clone().detach() or sourceTensor.clone().detach().requires_grad_(True), rather than torch.tensor(sourceTensor).\n",
      "  y_pred_final = (torch.sigmoid(torch.tensor(custom_mlp(torch.tensor(X_test, dtype=torch.float32)))) > 0.5).float().numpy()\n"
     ]
    },
    {
     "name": "stdout",
     "output_type": "stream",
     "text": [
      "                  precision    recall  f1-score   support\n",
      "\n",
      "    infringement       0.90      0.69      0.78       160\n",
      "non_infringement       0.77      0.93      0.84       176\n",
      "\n",
      "        accuracy                           0.82       336\n",
      "       macro avg       0.83      0.81      0.81       336\n",
      "    weighted avg       0.83      0.82      0.81       336\n",
      "\n"
     ]
    },
    {
     "ename": "",
     "evalue": "",
     "output_type": "error",
     "traceback": [
      "\u001b[1;31mThe Kernel crashed while executing code in the current cell or a previous cell. \n",
      "\u001b[1;31mPlease review the code in the cell(s) to identify a possible cause of the failure. \n",
      "\u001b[1;31mClick <a href='https://aka.ms/vscodeJupyterKernelCrash'>here</a> for more info. \n",
      "\u001b[1;31mView Jupyter <a href='command:jupyter.viewOutput'>log</a> for further details."
     ]
    }
   ],
   "source": [
    "y_pred_final = (torch.sigmoid(torch.tensor(custom_mlp(torch.tensor(X_test, dtype=torch.float32)))) > 0.5).float().numpy()\n",
    "print(classification_report(y_test, y_pred_final, target_names=[\"infringement\", \"non_infringement\"]))"
   ]
  }
 ],
 "metadata": {
  "kernelspec": {
   "display_name": "zdh",
   "language": "python",
   "name": "python3"
  },
  "language_info": {
   "codemirror_mode": {
    "name": "ipython",
    "version": 3
   },
   "file_extension": ".py",
   "mimetype": "text/x-python",
   "name": "python",
   "nbconvert_exporter": "python",
   "pygments_lexer": "ipython3",
   "version": "3.9.20"
  }
 },
 "nbformat": 4,
 "nbformat_minor": 2
}
