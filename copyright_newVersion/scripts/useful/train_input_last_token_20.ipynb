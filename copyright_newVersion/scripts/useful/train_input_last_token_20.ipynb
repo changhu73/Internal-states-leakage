{
 "cells": [
  {
   "cell_type": "code",
   "execution_count": 54,
   "metadata": {},
   "outputs": [],
   "source": [
    "# import packages\n",
    "import torch\n",
    "import torch.nn as nn\n",
    "import numpy as np\n",
    "from sklearn.metrics import accuracy_score, classification_report\n",
    "import matplotlib.pyplot as plt\n",
    "from tqdm import tqdm\n",
    "from transformers import AutoTokenizer, AutoModelForCausalLM\n",
    "import json\n",
    "import os\n",
    "\n",
    "os.environ[\"CUDA_VISIBLE_DEVICES\"] = \"5\"\n",
    "\n",
    "# Variables\n",
    "model_name = 'meta-llama/Meta-Llama-3.1-8B'\n",
    "non_infringement_file = '/home/guangwei/LLM-COPYRIGHT/copyright_newVersion/test_division/extra_20.non_infringement.json'\n",
    "infringement_file = '/home/guangwei/LLM-COPYRIGHT/copyright_newVersion/test_division/extra_20.infringement.json'\n",
    "checkpoint_file = '/home/guangwei/LLM-COPYRIGHT/copyright_newVersion/models/train_input_last_token.pth'"
   ]
  },
  {
   "cell_type": "code",
   "execution_count": 55,
   "metadata": {},
   "outputs": [],
   "source": [
    "# Define CustumMLP for internal states train\n",
    "class CustomMLP(nn.Module):\n",
    "    def __init__(self, input_dim, hidden_dim):\n",
    "        super(CustomMLP, self).__init__()\n",
    "        self.down = nn.Linear(input_dim, hidden_dim)\n",
    "        self.gate = nn.Linear(input_dim, hidden_dim)\n",
    "        self.up = nn.Linear(hidden_dim, 1)\n",
    "        self.activation = nn.SiLU()\n",
    "\n",
    "    def forward(self, x):\n",
    "        down_output = self.down(x)\n",
    "        gate_output = self.gate(x)\n",
    "        gated_output = down_output * self.activation(gate_output)\n",
    "        return self.up(gated_output)"
   ]
  },
  {
   "cell_type": "code",
   "execution_count": 56,
   "metadata": {},
   "outputs": [],
   "source": [
    "def extract_hidden_states(texts, model, tokenizer, batch_size=4):\n",
    "    device = torch.device(\"cuda\" if torch.cuda.is_available() else \"cpu\")\n",
    "    model.to(device)\n",
    "    model = nn.DataParallel(model)\n",
    "    hidden_states = []\n",
    "    for i in tqdm(range(0, len(texts), batch_size), desc=\"Processing data batches\"):\n",
    "        batch_texts = texts[i:i + batch_size]\n",
    "        inputs = tokenizer(batch_texts, return_tensors=\"pt\", padding=True, truncation=True)\n",
    "        with torch.no_grad():\n",
    "            outputs = model(**inputs)\n",
    "        \n",
    "        # 访问最后一个隐藏层的最后一个token的隐藏状态\n",
    "        # hidden_states[-1]表示最后一个隐藏层，mean(dim=1)表示取所有头的均值\n",
    "        last_layer_hidden_states = outputs.hidden_states[-1]\n",
    "        last_token_hidden_states = last_layer_hidden_states[:, -1, :]  # -1表示最后一个token\n",
    "        hidden_states.append(last_token_hidden_states.cpu().numpy())\n",
    "    return np.vstack(hidden_states)"
   ]
  },
  {
   "cell_type": "code",
   "execution_count": 57,
   "metadata": {},
   "outputs": [],
   "source": [
    "# lode data for infringement & non infringement\n",
    "def load_data(non_infringement_file, infringement_file):\n",
    "    with open(non_infringement_file, 'r', encoding='utf-8') as file:\n",
    "        non_infringement_json_data = json.load(file)\n",
    "\n",
    "    non_infringement_outputs = [entry['input'] for entry in non_infringement_json_data]\n",
    "    y_non_infringement = [1] * len(non_infringement_outputs)\n",
    "\n",
    "    with open(infringement_file, 'r', encoding='utf-8') as file:\n",
    "        infringement_json_data = json.load(file)\n",
    "\n",
    "    infringement_outputs = [entry['input'] for entry in infringement_json_data]\n",
    "    y_infringement = [0] * len(infringement_outputs)\n",
    "\n",
    "    return non_infringement_outputs, y_non_infringement, infringement_outputs, y_infringement"
   ]
  },
  {
   "cell_type": "code",
   "execution_count": 58,
   "metadata": {},
   "outputs": [],
   "source": [
    "from sklearn.metrics import accuracy_score, classification_report, f1_score\n",
    "\n",
    "# Train for best model\n",
    "def train_model(X_train, y_train, X_test, y_test, input_dim, hidden_dim, epochs=2500, lr=0.001, checkpoint_path=checkpoint_file):\n",
    "    custom_mlp = CustomMLP(input_dim, hidden_dim)\n",
    "    criterion = nn.BCEWithLogitsLoss()\n",
    "    optimizer = torch.optim.Adam(custom_mlp.parameters(), lr=lr)\n",
    "\n",
    "    X_train_tensor = torch.tensor(X_train, dtype=torch.float32)\n",
    "    y_train_tensor = torch.tensor(y_train, dtype=torch.float32).unsqueeze(1)\n",
    "\n",
    "    best_accuracy = -float('inf')  # Initialize the best accuracy to negative infinity\n",
    "    best_f1 = -float('inf')  # Initialize the best F1-score to negative infinity\n",
    "    best_model_state = None  # Store the state of the best model\n",
    "    best_epoch = 0  # Track the epoch with the best accuracy\n",
    "    losses = []\n",
    "\n",
    "    for epoch in tqdm(range(epochs), desc=\"Training Epochs\"):\n",
    "        custom_mlp.train()\n",
    "        optimizer.zero_grad()\n",
    "        outputs = custom_mlp(X_train_tensor)\n",
    "        loss = criterion(outputs, y_train_tensor)\n",
    "        loss.backward()\n",
    "        optimizer.step()\n",
    "        losses.append(loss.item())\n",
    "        \n",
    "        if (epoch + 1) % 10 == 0:\n",
    "            print(f\"Epoch {epoch + 1}/{epochs}, Loss: {loss.item():.4f}\")\n",
    "            \n",
    "            custom_mlp.eval()\n",
    "            X_test_tensor = torch.tensor(X_test, dtype=torch.float32)\n",
    "            with torch.no_grad():\n",
    "                y_pred_logits = custom_mlp(X_test_tensor)\n",
    "                y_pred = (torch.sigmoid(y_pred_logits) > 0.5).float().numpy()\n",
    "            \n",
    "            accuracy = accuracy_score(y_test, y_pred)\n",
    "            f1 = f1_score(y_test, y_pred)  # Calculate F1-score\n",
    "            print(f\"Test Accuracy at Epoch {epoch + 1}: {accuracy * 100:.2f}%\")\n",
    "            print(f\"Test F1-score at Epoch {epoch + 1}: {f1:.4f}\")\n",
    "            \n",
    "            report = classification_report(y_test, y_pred, target_names=[\"infringement\", \"non_infringement\"])\n",
    "            print(f\"Classification Report at Epoch {epoch + 1}:\\n{report}\")\n",
    "\n",
    "            # Check if the current model is the best based on F1-score\n",
    "            if f1 > best_f1:\n",
    "                best_accuracy = accuracy\n",
    "                best_f1 = f1\n",
    "                best_model_state = custom_mlp.state_dict()\n",
    "                best_epoch = epoch + 1\n",
    "                torch.save(best_model_state, checkpoint_path)\n",
    "                print(f\"New best model saved with F1-score {best_f1:.4f} at epoch {best_epoch}\")\n",
    "                print(f\"Best Classification Report at Epoch {best_epoch}:\\n{report}\")\n",
    "\n",
    "    # Load the best model state\n",
    "    custom_mlp.load_state_dict(torch.load(checkpoint_path))\n",
    "\n",
    "    # Plot loss curve\n",
    "    plt.figure(figsize=(10, 5))\n",
    "    plt.plot(losses, label='Training Loss')\n",
    "    plt.xlabel('Epoch')\n",
    "    plt.ylabel('Loss')\n",
    "    plt.title('Training Loss Curve')\n",
    "    plt.legend()\n",
    "    plt.show()\n",
    "\n",
    "    print(f\"Best Model was saved at epoch {best_epoch} with F1-score {best_f1:.4f} and accuracy {best_accuracy * 100:.2f}%\")\n",
    "    return custom_mlp, losses, best_accuracy, best_f1\n"
   ]
  },
  {
   "cell_type": "code",
   "execution_count": 59,
   "metadata": {},
   "outputs": [
    {
     "name": "stderr",
     "output_type": "stream",
     "text": [
      "/home/guangwei/miniconda3/envs/zdh/lib/python3.12/site-packages/transformers/generation/configuration_utils.py:777: UserWarning: `return_dict_in_generate` is NOT set to `True`, but `output_hidden_states` is. When `return_dict_in_generate` is not `True`, `output_hidden_states` is ignored.\n",
      "  warnings.warn(\n",
      "Loading checkpoint shards: 100%|██████████| 4/4 [00:02<00:00,  1.35it/s]\n"
     ]
    }
   ],
   "source": [
    "\n",
    "tokenizer = AutoTokenizer.from_pretrained(model_name, model_max_length=512)\n",
    "model = AutoModelForCausalLM.from_pretrained(model_name, output_hidden_states=True)\n",
    "tokenizer.pad_token = tokenizer.eos_token\n",
    "\n",
    "non_infringement_outputs, y_non_infringement, infringement_outputs, y_infringement = load_data(non_infringement_file, infringement_file)\n",
    "\n",
    "y_non_infringement = np.array(y_non_infringement)\n",
    "y_infringement = np.array(y_infringement)\n"
   ]
  },
  {
   "cell_type": "code",
   "execution_count": 60,
   "metadata": {},
   "outputs": [
    {
     "name": "stdout",
     "output_type": "stream",
     "text": [
      "Extracting hidden states for non_infringement texts...\n"
     ]
    },
    {
     "name": "stderr",
     "output_type": "stream",
     "text": [
      "Processing data batches: 100%|██████████| 154/154 [00:36<00:00,  4.20it/s]\n"
     ]
    },
    {
     "name": "stdout",
     "output_type": "stream",
     "text": [
      "Extracting hidden states for infringement texts...\n"
     ]
    },
    {
     "name": "stderr",
     "output_type": "stream",
     "text": [
      "Processing data batches: 100%|██████████| 153/153 [00:52<00:00,  2.94it/s]\n"
     ]
    }
   ],
   "source": [
    "print(\"Extracting hidden states for non_infringement texts...\")\n",
    "X_non_infringement = extract_hidden_states(non_infringement_outputs, model, tokenizer)\n",
    "\n",
    "print(\"Extracting hidden states for infringement texts...\")\n",
    "X_infringement = extract_hidden_states(infringement_outputs, model, tokenizer)"
   ]
  },
  {
   "cell_type": "code",
   "execution_count": 61,
   "metadata": {},
   "outputs": [
    {
     "name": "stdout",
     "output_type": "stream",
     "text": [
      "Data successfully split into training and test sets.\n"
     ]
    }
   ],
   "source": [
    "split_index_non_infringement = int(0.8 * len(X_non_infringement))\n",
    "X_non_infringement_train = X_non_infringement[:split_index_non_infringement]\n",
    "X_non_infringement_test = X_non_infringement[split_index_non_infringement:]\n",
    "y_non_infringement_train = y_non_infringement[:split_index_non_infringement]\n",
    "y_non_infringement_test = y_non_infringement[split_index_non_infringement:]\n",
    "\n",
    "split_index_infringement = int(0.8 * len(X_infringement))\n",
    "X_infringement_train = X_infringement[:split_index_infringement]\n",
    "X_infringement_test = X_infringement[split_index_infringement:]\n",
    "y_infringement_train = y_infringement[:split_index_infringement]\n",
    "y_infringement_test = y_infringement[split_index_infringement:]\n",
    "\n",
    "X_train = np.vstack((X_non_infringement_train, X_infringement_train))\n",
    "X_test = np.vstack((X_non_infringement_test, X_infringement_test))\n",
    "y_train = np.concatenate((y_non_infringement_train, y_infringement_train))\n",
    "y_test = np.concatenate((y_non_infringement_test, y_infringement_test))\n",
    "\n",
    "print(\"Data successfully split into training and test sets.\")\n"
   ]
  },
  {
   "cell_type": "code",
   "execution_count": 62,
   "metadata": {},
   "outputs": [
    {
     "name": "stderr",
     "output_type": "stream",
     "text": [
      "Training Epochs:   0%|          | 0/2500 [00:00<?, ?it/s]"
     ]
    },
    {
     "name": "stderr",
     "output_type": "stream",
     "text": [
      "Training Epochs:   1%|          | 19/2500 [00:00<00:57, 43.39it/s]"
     ]
    },
    {
     "name": "stdout",
     "output_type": "stream",
     "text": [
      "Epoch 10/2500, Loss: 1.6958\n",
      "Test Accuracy at Epoch 10: 69.92%\n",
      "Test F1-score at Epoch 10: 0.7613\n",
      "Classification Report at Epoch 10:\n",
      "                  precision    recall  f1-score   support\n",
      "\n",
      "    infringement       0.92      0.44      0.59       123\n",
      "non_infringement       0.63      0.96      0.76       123\n",
      "\n",
      "        accuracy                           0.70       246\n",
      "       macro avg       0.77      0.70      0.68       246\n",
      "    weighted avg       0.77      0.70      0.68       246\n",
      "\n",
      "New best model saved with F1-score 0.7613 at epoch 10\n",
      "Best Classification Report at Epoch 10:\n",
      "                  precision    recall  f1-score   support\n",
      "\n",
      "    infringement       0.92      0.44      0.59       123\n",
      "non_infringement       0.63      0.96      0.76       123\n",
      "\n",
      "        accuracy                           0.70       246\n",
      "       macro avg       0.77      0.70      0.68       246\n",
      "    weighted avg       0.77      0.70      0.68       246\n",
      "\n",
      "Epoch 20/2500, Loss: 0.5005\n"
     ]
    },
    {
     "name": "stderr",
     "output_type": "stream",
     "text": [
      "Training Epochs:   1%|          | 25/2500 [00:00<00:53, 46.58it/s]"
     ]
    },
    {
     "name": "stdout",
     "output_type": "stream",
     "text": [
      "Test Accuracy at Epoch 20: 72.36%\n",
      "Test F1-score at Epoch 20: 0.7687\n",
      "Classification Report at Epoch 20:\n",
      "                  precision    recall  f1-score   support\n",
      "\n",
      "    infringement       0.87      0.53      0.66       123\n",
      "non_infringement       0.66      0.92      0.77       123\n",
      "\n",
      "        accuracy                           0.72       246\n",
      "       macro avg       0.76      0.72      0.71       246\n",
      "    weighted avg       0.76      0.72      0.71       246\n",
      "\n",
      "New best model saved with F1-score 0.7687 at epoch 20\n",
      "Best Classification Report at Epoch 20:\n",
      "                  precision    recall  f1-score   support\n",
      "\n",
      "    infringement       0.87      0.53      0.66       123\n",
      "non_infringement       0.66      0.92      0.77       123\n",
      "\n",
      "        accuracy                           0.72       246\n",
      "       macro avg       0.76      0.72      0.71       246\n",
      "    weighted avg       0.76      0.72      0.71       246\n",
      "\n"
     ]
    },
    {
     "name": "stderr",
     "output_type": "stream",
     "text": [
      "Training Epochs:   1%|▏         | 37/2500 [00:00<00:52, 46.75it/s]"
     ]
    },
    {
     "name": "stdout",
     "output_type": "stream",
     "text": [
      "Epoch 30/2500, Loss: 0.4248\n",
      "Test Accuracy at Epoch 30: 73.98%\n",
      "Test F1-score at Epoch 30: 0.7143\n",
      "Classification Report at Epoch 30:\n",
      "                  precision    recall  f1-score   support\n",
      "\n",
      "    infringement       0.70      0.83      0.76       123\n",
      "non_infringement       0.79      0.65      0.71       123\n",
      "\n",
      "        accuracy                           0.74       246\n",
      "       macro avg       0.75      0.74      0.74       246\n",
      "    weighted avg       0.75      0.74      0.74       246\n",
      "\n",
      "Epoch 40/2500, Loss: 0.3219\n",
      "Test Accuracy at Epoch 40: 79.27%\n",
      "Test F1-score at Epoch 40: 0.7968\n",
      "Classification Report at Epoch 40:\n",
      "                  precision    recall  f1-score   support\n",
      "\n",
      "    infringement       0.81      0.77      0.79       123\n",
      "non_infringement       0.78      0.81      0.80       123\n",
      "\n",
      "        accuracy                           0.79       246\n",
      "       macro avg       0.79      0.79      0.79       246\n",
      "    weighted avg       0.79      0.79      0.79       246\n",
      "\n"
     ]
    },
    {
     "name": "stderr",
     "output_type": "stream",
     "text": [
      "Training Epochs:   2%|▏         | 47/2500 [00:01<00:58, 41.66it/s]"
     ]
    },
    {
     "name": "stdout",
     "output_type": "stream",
     "text": [
      "New best model saved with F1-score 0.7968 at epoch 40\n",
      "Best Classification Report at Epoch 40:\n",
      "                  precision    recall  f1-score   support\n",
      "\n",
      "    infringement       0.81      0.77      0.79       123\n",
      "non_infringement       0.78      0.81      0.80       123\n",
      "\n",
      "        accuracy                           0.79       246\n",
      "       macro avg       0.79      0.79      0.79       246\n",
      "    weighted avg       0.79      0.79      0.79       246\n",
      "\n"
     ]
    },
    {
     "name": "stderr",
     "output_type": "stream",
     "text": [
      "Training Epochs:   2%|▏         | 59/2500 [00:01<00:50, 48.65it/s]"
     ]
    },
    {
     "name": "stdout",
     "output_type": "stream",
     "text": [
      "Epoch 50/2500, Loss: 0.2814\n",
      "Test Accuracy at Epoch 50: 80.49%\n",
      "Test F1-score at Epoch 50: 0.8017\n",
      "Classification Report at Epoch 50:\n",
      "                  precision    recall  f1-score   support\n",
      "\n",
      "    infringement       0.80      0.82      0.81       123\n",
      "non_infringement       0.82      0.79      0.80       123\n",
      "\n",
      "        accuracy                           0.80       246\n",
      "       macro avg       0.81      0.80      0.80       246\n",
      "    weighted avg       0.81      0.80      0.80       246\n",
      "\n",
      "New best model saved with F1-score 0.8017 at epoch 50\n",
      "Best Classification Report at Epoch 50:\n",
      "                  precision    recall  f1-score   support\n",
      "\n",
      "    infringement       0.80      0.82      0.81       123\n",
      "non_infringement       0.82      0.79      0.80       123\n",
      "\n",
      "        accuracy                           0.80       246\n",
      "       macro avg       0.81      0.80      0.80       246\n",
      "    weighted avg       0.81      0.80      0.80       246\n",
      "\n",
      "Epoch 60/2500, Loss: 0.2419\n",
      "Test Accuracy at Epoch 60: 77.24%\n",
      "Test F1-score at Epoch 60: 0.7647\n",
      "Classification Report at Epoch 60:\n",
      "                  precision    recall  f1-score   support\n",
      "\n",
      "    infringement       0.76      0.80      0.78       123\n",
      "non_infringement       0.79      0.74      0.76       123\n",
      "\n",
      "        accuracy                           0.77       246\n",
      "       macro avg       0.77      0.77      0.77       246\n",
      "    weighted avg       0.77      0.77      0.77       246\n",
      "\n"
     ]
    },
    {
     "name": "stderr",
     "output_type": "stream",
     "text": [
      "Training Epochs:   3%|▎         | 77/2500 [00:01<00:47, 51.14it/s]"
     ]
    },
    {
     "name": "stdout",
     "output_type": "stream",
     "text": [
      "Epoch 70/2500, Loss: 0.2086\n",
      "Test Accuracy at Epoch 70: 76.02%\n",
      "Test F1-score at Epoch 70: 0.7468\n",
      "Classification Report at Epoch 70:\n",
      "                  precision    recall  f1-score   support\n",
      "\n",
      "    infringement       0.74      0.81      0.77       123\n",
      "non_infringement       0.79      0.71      0.75       123\n",
      "\n",
      "        accuracy                           0.76       246\n",
      "       macro avg       0.76      0.76      0.76       246\n",
      "    weighted avg       0.76      0.76      0.76       246\n",
      "\n",
      "Epoch 80/2500, Loss: 0.1791\n",
      "Test Accuracy at Epoch 80: 74.80%\n",
      "Test F1-score at Epoch 80: 0.7304\n",
      "Classification Report at Epoch 80:\n",
      "                  precision    recall  f1-score   support\n",
      "\n",
      "    infringement       0.72      0.81      0.76       123\n",
      "non_infringement       0.79      0.68      0.73       123\n",
      "\n",
      "        accuracy                           0.75       246\n",
      "       macro avg       0.75      0.75      0.75       246\n",
      "    weighted avg       0.75      0.75      0.75       246\n",
      "\n"
     ]
    },
    {
     "name": "stderr",
     "output_type": "stream",
     "text": [
      "Training Epochs:   4%|▍         | 101/2500 [00:02<00:45, 52.23it/s]"
     ]
    },
    {
     "name": "stdout",
     "output_type": "stream",
     "text": [
      "Epoch 90/2500, Loss: 0.1576\n",
      "Test Accuracy at Epoch 90: 73.17%\n",
      "Test F1-score at Epoch 90: 0.7080\n",
      "Classification Report at Epoch 90:\n",
      "                  precision    recall  f1-score   support\n",
      "\n",
      "    infringement       0.70      0.81      0.75       123\n",
      "non_infringement       0.78      0.65      0.71       123\n",
      "\n",
      "        accuracy                           0.73       246\n",
      "       macro avg       0.74      0.73      0.73       246\n",
      "    weighted avg       0.74      0.73      0.73       246\n",
      "\n",
      "Epoch 100/2500, Loss: 0.1407\n",
      "Test Accuracy at Epoch 100: 73.58%\n",
      "Test F1-score at Epoch 100: 0.7059\n",
      "Classification Report at Epoch 100:\n",
      "                  precision    recall  f1-score   support\n",
      "\n",
      "    infringement       0.70      0.84      0.76       123\n",
      "non_infringement       0.80      0.63      0.71       123\n",
      "\n",
      "        accuracy                           0.74       246\n",
      "       macro avg       0.75      0.74      0.73       246\n",
      "    weighted avg       0.75      0.74      0.73       246\n",
      "\n"
     ]
    },
    {
     "name": "stderr",
     "output_type": "stream",
     "text": [
      "Training Epochs:   5%|▍         | 120/2500 [00:02<00:47, 50.57it/s]"
     ]
    },
    {
     "name": "stdout",
     "output_type": "stream",
     "text": [
      "Epoch 110/2500, Loss: 0.1271\n",
      "Test Accuracy at Epoch 110: 72.76%\n",
      "Test F1-score at Epoch 110: 0.7022\n",
      "Classification Report at Epoch 110:\n",
      "                  precision    recall  f1-score   support\n",
      "\n",
      "    infringement       0.69      0.81      0.75       123\n",
      "non_infringement       0.77      0.64      0.70       123\n",
      "\n",
      "        accuracy                           0.73       246\n",
      "       macro avg       0.73      0.73      0.73       246\n",
      "    weighted avg       0.73      0.73      0.73       246\n",
      "\n",
      "Epoch 120/2500, Loss: 0.1173\n",
      "Test Accuracy at Epoch 120: 71.14%\n",
      "Test F1-score at Epoch 120: 0.6816\n",
      "Classification Report at Epoch 120:\n",
      "                  precision    recall  f1-score   support\n",
      "\n",
      "    infringement       0.68      0.80      0.74       123\n",
      "non_infringement       0.76      0.62      0.68       123\n",
      "\n",
      "        accuracy                           0.71       246\n",
      "       macro avg       0.72      0.71      0.71       246\n",
      "    weighted avg       0.72      0.71      0.71       246\n",
      "\n"
     ]
    },
    {
     "name": "stderr",
     "output_type": "stream",
     "text": [
      "Training Epochs:   6%|▌         | 138/2500 [00:02<00:46, 50.82it/s]"
     ]
    },
    {
     "name": "stdout",
     "output_type": "stream",
     "text": [
      "Epoch 130/2500, Loss: 0.1085\n",
      "Test Accuracy at Epoch 130: 71.54%\n",
      "Test F1-score at Epoch 130: 0.6875\n",
      "Classification Report at Epoch 130:\n",
      "                  precision    recall  f1-score   support\n",
      "\n",
      "    infringement       0.68      0.80      0.74       123\n",
      "non_infringement       0.76      0.63      0.69       123\n",
      "\n",
      "        accuracy                           0.72       246\n",
      "       macro avg       0.72      0.72      0.71       246\n",
      "    weighted avg       0.72      0.72      0.71       246\n",
      "\n",
      "Epoch 140/2500, Loss: 0.0983\n"
     ]
    },
    {
     "name": "stderr",
     "output_type": "stream",
     "text": [
      "Training Epochs:   6%|▌         | 150/2500 [00:03<00:48, 48.24it/s]"
     ]
    },
    {
     "name": "stdout",
     "output_type": "stream",
     "text": [
      "Test Accuracy at Epoch 140: 70.33%\n",
      "Test F1-score at Epoch 140: 0.6667\n",
      "Classification Report at Epoch 140:\n",
      "                  precision    recall  f1-score   support\n",
      "\n",
      "    infringement       0.67      0.81      0.73       123\n",
      "non_infringement       0.76      0.59      0.67       123\n",
      "\n",
      "        accuracy                           0.70       246\n",
      "       macro avg       0.71      0.70      0.70       246\n",
      "    weighted avg       0.71      0.70      0.70       246\n",
      "\n",
      "Epoch 150/2500, Loss: 0.0914\n",
      "Test Accuracy at Epoch 150: 69.92%\n",
      "Test F1-score at Epoch 150: 0.6542\n",
      "Classification Report at Epoch 150:\n",
      "                  precision    recall  f1-score   support\n",
      "\n",
      "    infringement       0.66      0.83      0.73       123\n",
      "non_infringement       0.77      0.57      0.65       123\n",
      "\n",
      "        accuracy                           0.70       246\n",
      "       macro avg       0.71      0.70      0.69       246\n",
      "    weighted avg       0.71      0.70      0.69       246\n",
      "\n"
     ]
    },
    {
     "name": "stderr",
     "output_type": "stream",
     "text": [
      "Training Epochs:   6%|▋         | 162/2500 [00:03<00:52, 44.93it/s]"
     ]
    },
    {
     "name": "stdout",
     "output_type": "stream",
     "text": [
      "Epoch 160/2500, Loss: 0.0848\n",
      "Test Accuracy at Epoch 160: 68.70%\n",
      "Test F1-score at Epoch 160: 0.6547\n",
      "Classification Report at Epoch 160:\n",
      "                  precision    recall  f1-score   support\n",
      "\n",
      "    infringement       0.66      0.78      0.71       123\n",
      "non_infringement       0.73      0.59      0.65       123\n",
      "\n",
      "        accuracy                           0.69       246\n",
      "       macro avg       0.69      0.69      0.68       246\n",
      "    weighted avg       0.69      0.69      0.68       246\n",
      "\n"
     ]
    },
    {
     "name": "stderr",
     "output_type": "stream",
     "text": [
      "Training Epochs:   7%|▋         | 175/2500 [00:03<00:46, 50.02it/s]"
     ]
    },
    {
     "name": "stdout",
     "output_type": "stream",
     "text": [
      "Epoch 170/2500, Loss: 0.0791\n",
      "Test Accuracy at Epoch 170: 68.29%\n",
      "Test F1-score at Epoch 170: 0.6422\n",
      "Classification Report at Epoch 170:\n",
      "                  precision    recall  f1-score   support\n",
      "\n",
      "    infringement       0.65      0.80      0.72       123\n",
      "non_infringement       0.74      0.57      0.64       123\n",
      "\n",
      "        accuracy                           0.68       246\n",
      "       macro avg       0.69      0.68      0.68       246\n",
      "    weighted avg       0.69      0.68      0.68       246\n",
      "\n"
     ]
    },
    {
     "name": "stderr",
     "output_type": "stream",
     "text": [
      "Training Epochs:   7%|▋         | 187/2500 [00:04<00:48, 47.88it/s]"
     ]
    },
    {
     "name": "stdout",
     "output_type": "stream",
     "text": [
      "Epoch 180/2500, Loss: 0.0747\n",
      "Test Accuracy at Epoch 180: 68.70%\n",
      "Test F1-score at Epoch 180: 0.6484\n",
      "Classification Report at Epoch 180:\n",
      "                  precision    recall  f1-score   support\n",
      "\n",
      "    infringement       0.65      0.80      0.72       123\n",
      "non_infringement       0.74      0.58      0.65       123\n",
      "\n",
      "        accuracy                           0.69       246\n",
      "       macro avg       0.70      0.69      0.68       246\n",
      "    weighted avg       0.70      0.69      0.68       246\n",
      "\n",
      "Epoch 190/2500, Loss: 0.0716\n"
     ]
    },
    {
     "name": "stderr",
     "output_type": "stream",
     "text": [
      "Training Epochs:   8%|▊         | 198/2500 [00:04<00:50, 45.57it/s]"
     ]
    },
    {
     "name": "stdout",
     "output_type": "stream",
     "text": [
      "Test Accuracy at Epoch 190: 68.70%\n",
      "Test F1-score at Epoch 190: 0.6484\n",
      "Classification Report at Epoch 190:\n",
      "                  precision    recall  f1-score   support\n",
      "\n",
      "    infringement       0.65      0.80      0.72       123\n",
      "non_infringement       0.74      0.58      0.65       123\n",
      "\n",
      "        accuracy                           0.69       246\n",
      "       macro avg       0.70      0.69      0.68       246\n",
      "    weighted avg       0.70      0.69      0.68       246\n",
      "\n"
     ]
    },
    {
     "name": "stderr",
     "output_type": "stream",
     "text": [
      "Training Epochs:   8%|▊         | 209/2500 [00:04<00:47, 47.90it/s]"
     ]
    },
    {
     "name": "stdout",
     "output_type": "stream",
     "text": [
      "Epoch 200/2500, Loss: 0.0698\n",
      "Test Accuracy at Epoch 200: 68.29%\n",
      "Test F1-score at Epoch 200: 0.6422\n",
      "Classification Report at Epoch 200:\n",
      "                  precision    recall  f1-score   support\n",
      "\n",
      "    infringement       0.65      0.80      0.72       123\n",
      "non_infringement       0.74      0.57      0.64       123\n",
      "\n",
      "        accuracy                           0.68       246\n",
      "       macro avg       0.69      0.68      0.68       246\n",
      "    weighted avg       0.69      0.68      0.68       246\n",
      "\n",
      "Epoch 210/2500, Loss: 0.0691\n",
      "Test Accuracy at Epoch 210: 69.11%\n",
      "Test F1-score at Epoch 210: 0.6545\n"
     ]
    },
    {
     "name": "stderr",
     "output_type": "stream",
     "text": [
      "Training Epochs:   9%|▊         | 214/2500 [00:04<00:47, 48.28it/s]"
     ]
    },
    {
     "name": "stdout",
     "output_type": "stream",
     "text": [
      "Classification Report at Epoch 210:\n",
      "                  precision    recall  f1-score   support\n",
      "\n",
      "    infringement       0.66      0.80      0.72       123\n",
      "non_infringement       0.74      0.59      0.65       123\n",
      "\n",
      "        accuracy                           0.69       246\n",
      "       macro avg       0.70      0.69      0.69       246\n",
      "    weighted avg       0.70      0.69      0.69       246\n",
      "\n"
     ]
    },
    {
     "name": "stderr",
     "output_type": "stream",
     "text": [
      "Training Epochs:   9%|▉         | 224/2500 [00:04<00:51, 44.35it/s]"
     ]
    },
    {
     "name": "stdout",
     "output_type": "stream",
     "text": [
      "Epoch 220/2500, Loss: 0.0685\n",
      "Test Accuracy at Epoch 220: 67.48%\n",
      "Test F1-score at Epoch 220: 0.6296\n",
      "Classification Report at Epoch 220:\n",
      "                  precision    recall  f1-score   support\n",
      "\n",
      "    infringement       0.64      0.80      0.71       123\n",
      "non_infringement       0.73      0.55      0.63       123\n",
      "\n",
      "        accuracy                           0.67       246\n",
      "       macro avg       0.69      0.67      0.67       246\n",
      "    weighted avg       0.69      0.67      0.67       246\n",
      "\n"
     ]
    },
    {
     "name": "stderr",
     "output_type": "stream",
     "text": [
      "Training Epochs:   9%|▉         | 235/2500 [00:05<00:58, 38.68it/s]"
     ]
    },
    {
     "name": "stdout",
     "output_type": "stream",
     "text": [
      "Epoch 230/2500, Loss: 0.0666\n",
      "Test Accuracy at Epoch 230: 69.92%\n",
      "Test F1-score at Epoch 230: 0.6726\n",
      "Classification Report at Epoch 230:\n",
      "                  precision    recall  f1-score   support\n",
      "\n",
      "    infringement       0.67      0.78      0.72       123\n",
      "non_infringement       0.74      0.62      0.67       123\n",
      "\n",
      "        accuracy                           0.70       246\n",
      "       macro avg       0.70      0.70      0.70       246\n",
      "    weighted avg       0.70      0.70      0.70       246\n",
      "\n"
     ]
    },
    {
     "name": "stderr",
     "output_type": "stream",
     "text": [
      "Training Epochs:  10%|▉         | 247/2500 [00:05<00:49, 45.97it/s]"
     ]
    },
    {
     "name": "stdout",
     "output_type": "stream",
     "text": [
      "Epoch 240/2500, Loss: 0.0652\n",
      "Test Accuracy at Epoch 240: 67.48%\n",
      "Test F1-score at Epoch 240: 0.6296\n",
      "Classification Report at Epoch 240:\n",
      "                  precision    recall  f1-score   support\n",
      "\n",
      "    infringement       0.64      0.80      0.71       123\n",
      "non_infringement       0.73      0.55      0.63       123\n",
      "\n",
      "        accuracy                           0.67       246\n",
      "       macro avg       0.69      0.67      0.67       246\n",
      "    weighted avg       0.69      0.67      0.67       246\n",
      "\n"
     ]
    },
    {
     "name": "stderr",
     "output_type": "stream",
     "text": [
      "Training Epochs:  10%|█         | 258/2500 [00:05<00:49, 45.06it/s]"
     ]
    },
    {
     "name": "stdout",
     "output_type": "stream",
     "text": [
      "Epoch 250/2500, Loss: 0.0635\n",
      "Test Accuracy at Epoch 250: 70.33%\n",
      "Test F1-score at Epoch 250: 0.6726\n",
      "Classification Report at Epoch 250:\n",
      "                  precision    recall  f1-score   support\n",
      "\n",
      "    infringement       0.67      0.80      0.73       123\n",
      "non_infringement       0.75      0.61      0.67       123\n",
      "\n",
      "        accuracy                           0.70       246\n",
      "       macro avg       0.71      0.70      0.70       246\n",
      "    weighted avg       0.71      0.70      0.70       246\n",
      "\n",
      "Epoch 260/2500, Loss: 0.0619\n"
     ]
    },
    {
     "name": "stderr",
     "output_type": "stream",
     "text": [
      "Training Epochs:  11%|█         | 263/2500 [00:05<00:48, 45.73it/s]"
     ]
    },
    {
     "name": "stdout",
     "output_type": "stream",
     "text": [
      "Test Accuracy at Epoch 260: 67.48%\n",
      "Test F1-score at Epoch 260: 0.6296\n",
      "Classification Report at Epoch 260:\n",
      "                  precision    recall  f1-score   support\n",
      "\n",
      "    infringement       0.64      0.80      0.71       123\n",
      "non_infringement       0.73      0.55      0.63       123\n",
      "\n",
      "        accuracy                           0.67       246\n",
      "       macro avg       0.69      0.67      0.67       246\n",
      "    weighted avg       0.69      0.67      0.67       246\n",
      "\n"
     ]
    },
    {
     "name": "stderr",
     "output_type": "stream",
     "text": [
      "Training Epochs:  11%|█         | 279/2500 [00:06<00:48, 45.84it/s]"
     ]
    },
    {
     "name": "stdout",
     "output_type": "stream",
     "text": [
      "Epoch 270/2500, Loss: 0.0618\n",
      "Test Accuracy at Epoch 270: 69.11%\n",
      "Test F1-score at Epoch 270: 0.6545\n",
      "Classification Report at Epoch 270:\n",
      "                  precision    recall  f1-score   support\n",
      "\n",
      "    infringement       0.66      0.80      0.72       123\n",
      "non_infringement       0.74      0.59      0.65       123\n",
      "\n",
      "        accuracy                           0.69       246\n",
      "       macro avg       0.70      0.69      0.69       246\n",
      "    weighted avg       0.70      0.69      0.69       246\n",
      "\n"
     ]
    },
    {
     "name": "stderr",
     "output_type": "stream",
     "text": [
      "Training Epochs:  11%|█▏        | 284/2500 [00:06<00:56, 39.46it/s]"
     ]
    },
    {
     "name": "stdout",
     "output_type": "stream",
     "text": [
      "Epoch 280/2500, Loss: 0.0660\n",
      "Test Accuracy at Epoch 280: 71.54%\n",
      "Test F1-score at Epoch 280: 0.6903\n",
      "Classification Report at Epoch 280:\n",
      "                  precision    recall  f1-score   support\n",
      "\n",
      "    infringement       0.69      0.80      0.74       123\n",
      "non_infringement       0.76      0.63      0.69       123\n",
      "\n",
      "        accuracy                           0.72       246\n",
      "       macro avg       0.72      0.72      0.71       246\n",
      "    weighted avg       0.72      0.72      0.71       246\n",
      "\n"
     ]
    },
    {
     "name": "stderr",
     "output_type": "stream",
     "text": [
      "Training Epochs:  12%|█▏        | 296/2500 [00:06<00:49, 44.52it/s]"
     ]
    },
    {
     "name": "stdout",
     "output_type": "stream",
     "text": [
      "Epoch 290/2500, Loss: 0.0678\n",
      "Test Accuracy at Epoch 290: 67.48%\n",
      "Test F1-score at Epoch 290: 0.6296\n",
      "Classification Report at Epoch 290:\n",
      "                  precision    recall  f1-score   support\n",
      "\n",
      "    infringement       0.64      0.80      0.71       123\n",
      "non_infringement       0.73      0.55      0.63       123\n",
      "\n",
      "        accuracy                           0.67       246\n",
      "       macro avg       0.69      0.67      0.67       246\n",
      "    weighted avg       0.69      0.67      0.67       246\n",
      "\n"
     ]
    },
    {
     "name": "stderr",
     "output_type": "stream",
     "text": [
      "Training Epochs:  12%|█▏        | 307/2500 [00:06<00:50, 43.49it/s]"
     ]
    },
    {
     "name": "stdout",
     "output_type": "stream",
     "text": [
      "Epoch 300/2500, Loss: 0.0634\n",
      "Test Accuracy at Epoch 300: 70.73%\n",
      "Test F1-score at Epoch 300: 0.6786\n",
      "Classification Report at Epoch 300:\n",
      "                  precision    recall  f1-score   support\n",
      "\n",
      "    infringement       0.68      0.80      0.73       123\n",
      "non_infringement       0.75      0.62      0.68       123\n",
      "\n",
      "        accuracy                           0.71       246\n",
      "       macro avg       0.71      0.71      0.70       246\n",
      "    weighted avg       0.71      0.71      0.70       246\n",
      "\n"
     ]
    },
    {
     "name": "stderr",
     "output_type": "stream",
     "text": [
      "Training Epochs:  13%|█▎        | 319/2500 [00:07<00:45, 48.06it/s]"
     ]
    },
    {
     "name": "stdout",
     "output_type": "stream",
     "text": [
      "Epoch 310/2500, Loss: 0.0611\n",
      "Test Accuracy at Epoch 310: 70.33%\n",
      "Test F1-score at Epoch 310: 0.6726\n",
      "Classification Report at Epoch 310:\n",
      "                  precision    recall  f1-score   support\n",
      "\n",
      "    infringement       0.67      0.80      0.73       123\n",
      "non_infringement       0.75      0.61      0.67       123\n",
      "\n",
      "        accuracy                           0.70       246\n",
      "       macro avg       0.71      0.70      0.70       246\n",
      "    weighted avg       0.71      0.70      0.70       246\n",
      "\n"
     ]
    },
    {
     "name": "stderr",
     "output_type": "stream",
     "text": [
      "Training Epochs:  13%|█▎        | 324/2500 [00:07<00:50, 43.25it/s]"
     ]
    },
    {
     "name": "stdout",
     "output_type": "stream",
     "text": [
      "Epoch 320/2500, Loss: 0.0602\n",
      "Test Accuracy at Epoch 320: 70.33%\n",
      "Test F1-score at Epoch 320: 0.6726\n",
      "Classification Report at Epoch 320:\n",
      "                  precision    recall  f1-score   support\n",
      "\n",
      "    infringement       0.67      0.80      0.73       123\n",
      "non_infringement       0.75      0.61      0.67       123\n",
      "\n",
      "        accuracy                           0.70       246\n",
      "       macro avg       0.71      0.70      0.70       246\n",
      "    weighted avg       0.71      0.70      0.70       246\n",
      "\n",
      "Epoch 330/2500, Loss: 0.0620\n",
      "Test Accuracy at Epoch 330: 67.07%\n",
      "Test F1-score at Epoch 330: 0.6233\n",
      "Classification Report at Epoch 330:\n",
      "                  precision    recall  f1-score   support\n",
      "\n",
      "    infringement       0.64      0.80      0.71       123\n",
      "non_infringement       0.73      0.54      0.62       123\n",
      "\n",
      "        accuracy                           0.67       246\n",
      "       macro avg       0.68      0.67      0.67       246\n",
      "    weighted avg       0.68      0.67      0.67       246\n",
      "\n"
     ]
    },
    {
     "name": "stderr",
     "output_type": "stream",
     "text": [
      "Training Epochs:  14%|█▍        | 347/2500 [00:07<00:47, 45.61it/s]"
     ]
    },
    {
     "name": "stdout",
     "output_type": "stream",
     "text": [
      "Epoch 340/2500, Loss: 0.0700\n",
      "Test Accuracy at Epoch 340: 70.33%\n",
      "Test F1-score at Epoch 340: 0.6726\n",
      "Classification Report at Epoch 340:\n",
      "                  precision    recall  f1-score   support\n",
      "\n",
      "    infringement       0.67      0.80      0.73       123\n",
      "non_infringement       0.75      0.61      0.67       123\n",
      "\n",
      "        accuracy                           0.70       246\n",
      "       macro avg       0.71      0.70      0.70       246\n",
      "    weighted avg       0.71      0.70      0.70       246\n",
      "\n",
      "Epoch 350/2500, Loss: 0.0613\n",
      "Test Accuracy at Epoch 350: 69.51%\n",
      "Test F1-score at Epoch 350: 0.6606\n",
      "Classification Report at Epoch 350:\n",
      "                  precision    recall  f1-score   support\n",
      "\n",
      "    infringement       0.66      0.80      0.72       123\n",
      "non_infringement       0.74      0.59      0.66       123\n",
      "\n",
      "        accuracy                           0.70       246\n",
      "       macro avg       0.70      0.70      0.69       246\n",
      "    weighted avg       0.70      0.70      0.69       246\n",
      "\n"
     ]
    },
    {
     "name": "stderr",
     "output_type": "stream",
     "text": [
      "Training Epochs:  15%|█▍        | 369/2500 [00:08<00:45, 47.12it/s]"
     ]
    },
    {
     "name": "stdout",
     "output_type": "stream",
     "text": [
      "Epoch 360/2500, Loss: 0.0643\n",
      "Test Accuracy at Epoch 360: 71.54%\n",
      "Test F1-score at Epoch 360: 0.6903\n",
      "Classification Report at Epoch 360:\n",
      "                  precision    recall  f1-score   support\n",
      "\n",
      "    infringement       0.69      0.80      0.74       123\n",
      "non_infringement       0.76      0.63      0.69       123\n",
      "\n",
      "        accuracy                           0.72       246\n",
      "       macro avg       0.72      0.72      0.71       246\n",
      "    weighted avg       0.72      0.72      0.71       246\n",
      "\n",
      "Epoch 370/2500, Loss: 0.0639\n",
      "Test Accuracy at Epoch 370: 67.89%\n",
      "Test F1-score at Epoch 370: 0.6359\n"
     ]
    },
    {
     "name": "stderr",
     "output_type": "stream",
     "text": [
      "Training Epochs:  15%|█▍        | 374/2500 [00:08<00:52, 40.73it/s]"
     ]
    },
    {
     "name": "stdout",
     "output_type": "stream",
     "text": [
      "Classification Report at Epoch 370:\n",
      "                  precision    recall  f1-score   support\n",
      "\n",
      "    infringement       0.64      0.80      0.71       123\n",
      "non_infringement       0.73      0.56      0.64       123\n",
      "\n",
      "        accuracy                           0.68       246\n",
      "       macro avg       0.69      0.68      0.67       246\n",
      "    weighted avg       0.69      0.68      0.67       246\n",
      "\n"
     ]
    },
    {
     "name": "stderr",
     "output_type": "stream",
     "text": [
      "Training Epochs:  15%|█▌        | 386/2500 [00:08<00:46, 45.14it/s]"
     ]
    },
    {
     "name": "stdout",
     "output_type": "stream",
     "text": [
      "Epoch 380/2500, Loss: 0.0620\n",
      "Test Accuracy at Epoch 380: 71.54%\n",
      "Test F1-score at Epoch 380: 0.6957\n",
      "Classification Report at Epoch 380:\n",
      "                  precision    recall  f1-score   support\n",
      "\n",
      "    infringement       0.69      0.78      0.73       123\n",
      "non_infringement       0.75      0.65      0.70       123\n",
      "\n",
      "        accuracy                           0.72       246\n",
      "       macro avg       0.72      0.72      0.71       246\n",
      "    weighted avg       0.72      0.72      0.71       246\n",
      "\n"
     ]
    },
    {
     "name": "stderr",
     "output_type": "stream",
     "text": [
      "Training Epochs:  16%|█▌        | 397/2500 [00:08<00:48, 43.10it/s]"
     ]
    },
    {
     "name": "stdout",
     "output_type": "stream",
     "text": [
      "Epoch 390/2500, Loss: 0.0604\n",
      "Test Accuracy at Epoch 390: 70.33%\n",
      "Test F1-score at Epoch 390: 0.6726\n",
      "Classification Report at Epoch 390:\n",
      "                  precision    recall  f1-score   support\n",
      "\n",
      "    infringement       0.67      0.80      0.73       123\n",
      "non_infringement       0.75      0.61      0.67       123\n",
      "\n",
      "        accuracy                           0.70       246\n",
      "       macro avg       0.71      0.70      0.70       246\n",
      "    weighted avg       0.71      0.70      0.70       246\n",
      "\n"
     ]
    },
    {
     "name": "stderr",
     "output_type": "stream",
     "text": [
      "Training Epochs:  16%|█▌        | 402/2500 [00:08<00:47, 44.01it/s]"
     ]
    },
    {
     "name": "stdout",
     "output_type": "stream",
     "text": [
      "Epoch 400/2500, Loss: 0.0599\n",
      "Test Accuracy at Epoch 400: 69.51%\n",
      "Test F1-score at Epoch 400: 0.6606\n",
      "Classification Report at Epoch 400:\n",
      "                  precision    recall  f1-score   support\n",
      "\n",
      "    infringement       0.66      0.80      0.72       123\n",
      "non_infringement       0.74      0.59      0.66       123\n",
      "\n",
      "        accuracy                           0.70       246\n",
      "       macro avg       0.70      0.70      0.69       246\n",
      "    weighted avg       0.70      0.70      0.69       246\n",
      "\n"
     ]
    },
    {
     "name": "stderr",
     "output_type": "stream",
     "text": [
      "Training Epochs:  17%|█▋        | 418/2500 [00:09<00:46, 44.74it/s]"
     ]
    },
    {
     "name": "stdout",
     "output_type": "stream",
     "text": [
      "Epoch 410/2500, Loss: 0.0680\n",
      "Test Accuracy at Epoch 410: 71.95%\n",
      "Test F1-score at Epoch 410: 0.7184\n",
      "Classification Report at Epoch 410:\n",
      "                  precision    recall  f1-score   support\n",
      "\n",
      "    infringement       0.72      0.72      0.72       123\n",
      "non_infringement       0.72      0.72      0.72       123\n",
      "\n",
      "        accuracy                           0.72       246\n",
      "       macro avg       0.72      0.72      0.72       246\n",
      "    weighted avg       0.72      0.72      0.72       246\n",
      "\n"
     ]
    },
    {
     "name": "stderr",
     "output_type": "stream",
     "text": [
      "Training Epochs:  17%|█▋        | 423/2500 [00:09<00:52, 39.75it/s]"
     ]
    },
    {
     "name": "stdout",
     "output_type": "stream",
     "text": [
      "Epoch 420/2500, Loss: 0.0738\n",
      "Test Accuracy at Epoch 420: 67.07%\n",
      "Test F1-score at Epoch 420: 0.6233\n",
      "Classification Report at Epoch 420:\n",
      "                  precision    recall  f1-score   support\n",
      "\n",
      "    infringement       0.64      0.80      0.71       123\n",
      "non_infringement       0.73      0.54      0.62       123\n",
      "\n",
      "        accuracy                           0.67       246\n",
      "       macro avg       0.68      0.67      0.67       246\n",
      "    weighted avg       0.68      0.67      0.67       246\n",
      "\n"
     ]
    },
    {
     "name": "stderr",
     "output_type": "stream",
     "text": [
      "Training Epochs:  17%|█▋        | 434/2500 [00:09<00:46, 44.77it/s]"
     ]
    },
    {
     "name": "stdout",
     "output_type": "stream",
     "text": [
      "Epoch 430/2500, Loss: 5.2534\n",
      "Test Accuracy at Epoch 430: 69.92%\n",
      "Test F1-score at Epoch 430: 0.7533\n",
      "Classification Report at Epoch 430:\n",
      "                  precision    recall  f1-score   support\n",
      "\n",
      "    infringement       0.86      0.48      0.61       123\n",
      "non_infringement       0.64      0.92      0.75       123\n",
      "\n",
      "        accuracy                           0.70       246\n",
      "       macro avg       0.75      0.70      0.68       246\n",
      "    weighted avg       0.75      0.70      0.68       246\n",
      "\n",
      "Epoch 440/2500, Loss: 0.4678\n",
      "Test Accuracy at Epoch 440: 69.11%\n",
      "Test F1-score at Epoch 440: 0.6415\n",
      "Classification Report at Epoch 440:\n",
      "                  precision    recall  f1-score   support\n",
      "\n",
      "    infringement       0.65      0.83      0.73       123\n",
      "non_infringement       0.76      0.55      0.64       123\n",
      "\n",
      "        accuracy                           0.69       246\n",
      "       macro avg       0.71      0.69      0.69       246\n",
      "    weighted avg       0.71      0.69      0.69       246\n",
      "\n"
     ]
    },
    {
     "name": "stderr",
     "output_type": "stream",
     "text": [
      "Training Epochs:  18%|█▊        | 456/2500 [00:10<00:42, 47.82it/s]"
     ]
    },
    {
     "name": "stdout",
     "output_type": "stream",
     "text": [
      "Epoch 450/2500, Loss: 0.3914\n",
      "Test Accuracy at Epoch 450: 76.02%\n",
      "Test F1-score at Epoch 450: 0.7511\n",
      "Classification Report at Epoch 450:\n",
      "                  precision    recall  f1-score   support\n",
      "\n",
      "    infringement       0.74      0.80      0.77       123\n",
      "non_infringement       0.78      0.72      0.75       123\n",
      "\n",
      "        accuracy                           0.76       246\n",
      "       macro avg       0.76      0.76      0.76       246\n",
      "    weighted avg       0.76      0.76      0.76       246\n",
      "\n"
     ]
    },
    {
     "name": "stderr",
     "output_type": "stream",
     "text": [
      "Training Epochs:  19%|█▊        | 467/2500 [00:10<00:46, 44.17it/s]"
     ]
    },
    {
     "name": "stdout",
     "output_type": "stream",
     "text": [
      "Epoch 460/2500, Loss: 0.3255\n",
      "Test Accuracy at Epoch 460: 76.83%\n",
      "Test F1-score at Epoch 460: 0.7654\n",
      "Classification Report at Epoch 460:\n",
      "                  precision    recall  f1-score   support\n",
      "\n",
      "    infringement       0.76      0.78      0.77       123\n",
      "non_infringement       0.78      0.76      0.77       123\n",
      "\n",
      "        accuracy                           0.77       246\n",
      "       macro avg       0.77      0.77      0.77       246\n",
      "    weighted avg       0.77      0.77      0.77       246\n",
      "\n"
     ]
    },
    {
     "name": "stderr",
     "output_type": "stream",
     "text": [
      "Training Epochs:  19%|█▉        | 472/2500 [00:10<00:47, 42.89it/s]"
     ]
    },
    {
     "name": "stdout",
     "output_type": "stream",
     "text": [
      "Epoch 470/2500, Loss: 0.2458\n",
      "Test Accuracy at Epoch 470: 69.51%\n",
      "Test F1-score at Epoch 470: 0.6696\n",
      "Classification Report at Epoch 470:\n",
      "                  precision    recall  f1-score   support\n",
      "\n",
      "    infringement       0.67      0.77      0.72       123\n",
      "non_infringement       0.73      0.62      0.67       123\n",
      "\n",
      "        accuracy                           0.70       246\n",
      "       macro avg       0.70      0.70      0.69       246\n",
      "    weighted avg       0.70      0.70      0.69       246\n",
      "\n"
     ]
    },
    {
     "name": "stderr",
     "output_type": "stream",
     "text": [
      "Training Epochs:  19%|█▉        | 487/2500 [00:10<00:46, 42.97it/s]"
     ]
    },
    {
     "name": "stdout",
     "output_type": "stream",
     "text": [
      "Epoch 480/2500, Loss: 0.2141\n",
      "Test Accuracy at Epoch 480: 70.73%\n",
      "Test F1-score at Epoch 480: 0.6757\n",
      "Classification Report at Epoch 480:\n",
      "                  precision    recall  f1-score   support\n",
      "\n",
      "    infringement       0.67      0.80      0.73       123\n",
      "non_infringement       0.76      0.61      0.68       123\n",
      "\n",
      "        accuracy                           0.71       246\n",
      "       macro avg       0.72      0.71      0.70       246\n",
      "    weighted avg       0.72      0.71      0.70       246\n",
      "\n",
      "Epoch 490/2500, Loss: 0.1674\n"
     ]
    },
    {
     "name": "stderr",
     "output_type": "stream",
     "text": [
      "Training Epochs:  20%|█▉        | 498/2500 [00:11<00:45, 44.21it/s]"
     ]
    },
    {
     "name": "stdout",
     "output_type": "stream",
     "text": [
      "Test Accuracy at Epoch 490: 70.73%\n",
      "Test F1-score at Epoch 490: 0.6786\n",
      "Classification Report at Epoch 490:\n",
      "                  precision    recall  f1-score   support\n",
      "\n",
      "    infringement       0.68      0.80      0.73       123\n",
      "non_infringement       0.75      0.62      0.68       123\n",
      "\n",
      "        accuracy                           0.71       246\n",
      "       macro avg       0.71      0.71      0.70       246\n",
      "    weighted avg       0.71      0.71      0.70       246\n",
      "\n"
     ]
    },
    {
     "name": "stderr",
     "output_type": "stream",
     "text": [
      "Training Epochs:  20%|██        | 510/2500 [00:11<00:40, 48.93it/s]"
     ]
    },
    {
     "name": "stdout",
     "output_type": "stream",
     "text": [
      "Epoch 500/2500, Loss: 0.1351\n",
      "Test Accuracy at Epoch 500: 72.36%\n",
      "Test F1-score at Epoch 500: 0.7119\n",
      "Classification Report at Epoch 500:\n",
      "                  precision    recall  f1-score   support\n",
      "\n",
      "    infringement       0.71      0.76      0.73       123\n",
      "non_infringement       0.74      0.68      0.71       123\n",
      "\n",
      "        accuracy                           0.72       246\n",
      "       macro avg       0.73      0.72      0.72       246\n",
      "    weighted avg       0.73      0.72      0.72       246\n",
      "\n",
      "Epoch 510/2500, Loss: 0.1644\n",
      "Test Accuracy at Epoch 510: 69.92%\n",
      "Test F1-score at Epoch 510: 0.6696\n",
      "Classification Report at Epoch 510:\n",
      "                  precision    recall  f1-score   support\n",
      "\n",
      "    infringement       0.67      0.79      0.72       123\n",
      "non_infringement       0.74      0.61      0.67       123\n",
      "\n",
      "        accuracy                           0.70       246\n",
      "       macro avg       0.71      0.70      0.70       246\n",
      "    weighted avg       0.71      0.70      0.70       246\n",
      "\n"
     ]
    },
    {
     "name": "stderr",
     "output_type": "stream",
     "text": [
      "Training Epochs:  21%|██        | 528/2500 [00:11<00:38, 51.04it/s]"
     ]
    },
    {
     "name": "stdout",
     "output_type": "stream",
     "text": [
      "Epoch 520/2500, Loss: 0.1026\n",
      "Test Accuracy at Epoch 520: 71.14%\n",
      "Test F1-score at Epoch 520: 0.6698\n",
      "Classification Report at Epoch 520:\n",
      "                  precision    recall  f1-score   support\n",
      "\n",
      "    infringement       0.67      0.84      0.74       123\n",
      "non_infringement       0.78      0.59      0.67       123\n",
      "\n",
      "        accuracy                           0.71       246\n",
      "       macro avg       0.73      0.71      0.71       246\n",
      "    weighted avg       0.73      0.71      0.71       246\n",
      "\n",
      "Epoch 530/2500, Loss: 0.0973\n",
      "Test Accuracy at Epoch 530: 68.70%\n",
      "Test F1-score at Epoch 530: 0.6608\n",
      "Classification Report at Epoch 530:\n",
      "                  precision    recall  f1-score   support\n",
      "\n",
      "    infringement       0.66      0.76      0.71       123\n",
      "non_infringement       0.72      0.61      0.66       123\n",
      "\n",
      "        accuracy                           0.69       246\n",
      "       macro avg       0.69      0.69      0.69       246\n",
      "    weighted avg       0.69      0.69      0.69       246\n",
      "\n"
     ]
    },
    {
     "name": "stderr",
     "output_type": "stream",
     "text": [
      "Training Epochs:  22%|██▏       | 546/2500 [00:12<00:38, 51.11it/s]"
     ]
    },
    {
     "name": "stdout",
     "output_type": "stream",
     "text": [
      "Epoch 540/2500, Loss: 0.0822\n",
      "Test Accuracy at Epoch 540: 69.51%\n",
      "Test F1-score at Epoch 540: 0.6725\n",
      "Classification Report at Epoch 540:\n",
      "                  precision    recall  f1-score   support\n",
      "\n",
      "    infringement       0.67      0.76      0.71       123\n",
      "non_infringement       0.73      0.63      0.67       123\n",
      "\n",
      "        accuracy                           0.70       246\n",
      "       macro avg       0.70      0.70      0.69       246\n",
      "    weighted avg       0.70      0.70      0.69       246\n",
      "\n",
      "Epoch 550/2500, Loss: 0.0767\n",
      "Test Accuracy at Epoch 550: 68.29%\n",
      "Test F1-score at Epoch 550: 0.6518\n",
      "Classification Report at Epoch 550:\n",
      "                  precision    recall  f1-score   support\n",
      "\n",
      "    infringement       0.66      0.77      0.71       123\n",
      "non_infringement       0.72      0.59      0.65       123\n",
      "\n",
      "        accuracy                           0.68       246\n",
      "       macro avg       0.69      0.68      0.68       246\n",
      "    weighted avg       0.69      0.68      0.68       246\n",
      "\n"
     ]
    },
    {
     "name": "stderr",
     "output_type": "stream",
     "text": [
      "Training Epochs:  23%|██▎       | 565/2500 [00:12<00:37, 52.20it/s]"
     ]
    },
    {
     "name": "stdout",
     "output_type": "stream",
     "text": [
      "Epoch 560/2500, Loss: 0.0722\n",
      "Test Accuracy at Epoch 560: 69.11%\n",
      "Test F1-score at Epoch 560: 0.6667\n",
      "Classification Report at Epoch 560:\n",
      "                  precision    recall  f1-score   support\n",
      "\n",
      "    infringement       0.67      0.76      0.71       123\n",
      "non_infringement       0.72      0.62      0.67       123\n",
      "\n",
      "        accuracy                           0.69       246\n",
      "       macro avg       0.70      0.69      0.69       246\n",
      "    weighted avg       0.70      0.69      0.69       246\n",
      "\n",
      "Epoch 570/2500, Loss: 0.0693\n",
      "Test Accuracy at Epoch 570: 69.11%\n",
      "Test F1-score at Epoch 570: 0.6667\n",
      "Classification Report at Epoch 570:\n",
      "                  precision    recall  f1-score   support\n",
      "\n",
      "    infringement       0.67      0.76      0.71       123\n",
      "non_infringement       0.72      0.62      0.67       123\n",
      "\n",
      "        accuracy                           0.69       246\n",
      "       macro avg       0.70      0.69      0.69       246\n",
      "    weighted avg       0.70      0.69      0.69       246\n",
      "\n"
     ]
    },
    {
     "name": "stderr",
     "output_type": "stream",
     "text": [
      "Training Epochs:  23%|██▎       | 584/2500 [00:12<00:37, 50.47it/s]"
     ]
    },
    {
     "name": "stdout",
     "output_type": "stream",
     "text": [
      "Epoch 580/2500, Loss: 0.0671\n",
      "Test Accuracy at Epoch 580: 68.29%\n",
      "Test F1-score at Epoch 580: 0.6455\n",
      "Classification Report at Epoch 580:\n",
      "                  precision    recall  f1-score   support\n",
      "\n",
      "    infringement       0.65      0.79      0.71       123\n",
      "non_infringement       0.73      0.58      0.65       123\n",
      "\n",
      "        accuracy                           0.68       246\n",
      "       macro avg       0.69      0.68      0.68       246\n",
      "    weighted avg       0.69      0.68      0.68       246\n",
      "\n",
      "Epoch 590/2500, Loss: 0.0655\n"
     ]
    },
    {
     "name": "stderr",
     "output_type": "stream",
     "text": [
      "Training Epochs:  24%|██▍       | 596/2500 [00:13<00:39, 47.81it/s]"
     ]
    },
    {
     "name": "stdout",
     "output_type": "stream",
     "text": [
      "Test Accuracy at Epoch 590: 68.70%\n",
      "Test F1-score at Epoch 590: 0.6516\n",
      "Classification Report at Epoch 590:\n",
      "                  precision    recall  f1-score   support\n",
      "\n",
      "    infringement       0.66      0.79      0.72       123\n",
      "non_infringement       0.73      0.59      0.65       123\n",
      "\n",
      "        accuracy                           0.69       246\n",
      "       macro avg       0.70      0.69      0.68       246\n",
      "    weighted avg       0.70      0.69      0.68       246\n",
      "\n",
      "Epoch 600/2500, Loss: 0.0642\n",
      "Test Accuracy at Epoch 600: 68.70%\n",
      "Test F1-score at Epoch 600: 0.6516\n",
      "Classification Report at Epoch 600:\n",
      "                  precision    recall  f1-score   support\n",
      "\n",
      "    infringement       0.66      0.79      0.72       123\n",
      "non_infringement       0.73      0.59      0.65       123\n",
      "\n",
      "        accuracy                           0.69       246\n",
      "       macro avg       0.70      0.69      0.68       246\n",
      "    weighted avg       0.70      0.69      0.68       246\n",
      "\n"
     ]
    },
    {
     "name": "stderr",
     "output_type": "stream",
     "text": [
      "Training Epochs:  25%|██▍       | 620/2500 [00:13<00:38, 48.40it/s]"
     ]
    },
    {
     "name": "stdout",
     "output_type": "stream",
     "text": [
      "Epoch 610/2500, Loss: 0.0634\n",
      "Test Accuracy at Epoch 610: 68.29%\n",
      "Test F1-score at Epoch 610: 0.6455\n",
      "Classification Report at Epoch 610:\n",
      "                  precision    recall  f1-score   support\n",
      "\n",
      "    infringement       0.65      0.79      0.71       123\n",
      "non_infringement       0.73      0.58      0.65       123\n",
      "\n",
      "        accuracy                           0.68       246\n",
      "       macro avg       0.69      0.68      0.68       246\n",
      "    weighted avg       0.69      0.68      0.68       246\n",
      "\n",
      "Epoch 620/2500, Loss: 0.0634\n",
      "Test Accuracy at Epoch 620: 67.89%\n",
      "Test F1-score at Epoch 620: 0.6457\n",
      "Classification Report at Epoch 620:\n",
      "                  precision    recall  f1-score   support\n",
      "\n",
      "    infringement       0.65      0.77      0.71       123\n",
      "non_infringement       0.72      0.59      0.65       123\n",
      "\n",
      "        accuracy                           0.68       246\n",
      "       macro avg       0.69      0.68      0.68       246\n",
      "    weighted avg       0.69      0.68      0.68       246\n",
      "\n"
     ]
    },
    {
     "name": "stderr",
     "output_type": "stream",
     "text": [
      "Training Epochs:  26%|██▌       | 638/2500 [00:14<00:40, 46.52it/s]"
     ]
    },
    {
     "name": "stdout",
     "output_type": "stream",
     "text": [
      "Epoch 630/2500, Loss: 0.0677\n",
      "Test Accuracy at Epoch 630: 68.29%\n",
      "Test F1-score at Epoch 630: 0.6389\n",
      "Classification Report at Epoch 630:\n",
      "                  precision    recall  f1-score   support\n",
      "\n",
      "    infringement       0.65      0.80      0.72       123\n",
      "non_infringement       0.74      0.56      0.64       123\n",
      "\n",
      "        accuracy                           0.68       246\n",
      "       macro avg       0.69      0.68      0.68       246\n",
      "    weighted avg       0.69      0.68      0.68       246\n",
      "\n",
      "Epoch 640/2500, Loss: 0.0675\n"
     ]
    },
    {
     "name": "stderr",
     "output_type": "stream",
     "text": [
      "Training Epochs:  26%|██▌       | 648/2500 [00:14<00:43, 42.94it/s]"
     ]
    },
    {
     "name": "stdout",
     "output_type": "stream",
     "text": [
      "Test Accuracy at Epoch 640: 71.54%\n",
      "Test F1-score at Epoch 640: 0.7009\n",
      "Classification Report at Epoch 640:\n",
      "                  precision    recall  f1-score   support\n",
      "\n",
      "    infringement       0.70      0.76      0.73       123\n",
      "non_infringement       0.74      0.67      0.70       123\n",
      "\n",
      "        accuracy                           0.72       246\n",
      "       macro avg       0.72      0.72      0.71       246\n",
      "    weighted avg       0.72      0.72      0.71       246\n",
      "\n"
     ]
    },
    {
     "name": "stderr",
     "output_type": "stream",
     "text": [
      "Training Epochs:  26%|██▋       | 660/2500 [00:14<00:38, 47.84it/s]"
     ]
    },
    {
     "name": "stdout",
     "output_type": "stream",
     "text": [
      "Epoch 650/2500, Loss: 0.0684\n",
      "Test Accuracy at Epoch 650: 68.29%\n",
      "Test F1-score at Epoch 650: 0.6518\n",
      "Classification Report at Epoch 650:\n",
      "                  precision    recall  f1-score   support\n",
      "\n",
      "    infringement       0.66      0.77      0.71       123\n",
      "non_infringement       0.72      0.59      0.65       123\n",
      "\n",
      "        accuracy                           0.68       246\n",
      "       macro avg       0.69      0.68      0.68       246\n",
      "    weighted avg       0.69      0.68      0.68       246\n",
      "\n",
      "Epoch 660/2500, Loss: 0.0618\n",
      "Test Accuracy at Epoch 660: 69.51%\n",
      "Test F1-score at Epoch 660: 0.6696\n",
      "Classification Report at Epoch 660:\n",
      "                  precision    recall  f1-score   support\n",
      "\n",
      "    infringement       0.67      0.77      0.72       123\n",
      "non_infringement       0.73      0.62      0.67       123\n",
      "\n",
      "        accuracy                           0.70       246\n",
      "       macro avg       0.70      0.70      0.69       246\n",
      "    weighted avg       0.70      0.70      0.69       246\n",
      "\n"
     ]
    },
    {
     "name": "stderr",
     "output_type": "stream",
     "text": [
      "Training Epochs:  27%|██▋       | 678/2500 [00:14<00:36, 50.60it/s]"
     ]
    },
    {
     "name": "stdout",
     "output_type": "stream",
     "text": [
      "Epoch 670/2500, Loss: 0.0628\n",
      "Test Accuracy at Epoch 670: 70.33%\n",
      "Test F1-score at Epoch 670: 0.6812\n",
      "Classification Report at Epoch 670:\n",
      "                  precision    recall  f1-score   support\n",
      "\n",
      "    infringement       0.68      0.77      0.72       123\n",
      "non_infringement       0.74      0.63      0.68       123\n",
      "\n",
      "        accuracy                           0.70       246\n",
      "       macro avg       0.71      0.70      0.70       246\n",
      "    weighted avg       0.71      0.70      0.70       246\n",
      "\n",
      "Epoch 680/2500, Loss: 0.0615\n",
      "Test Accuracy at Epoch 680: 70.33%\n",
      "Test F1-score at Epoch 680: 0.6756\n",
      "Classification Report at Epoch 680:\n",
      "                  precision    recall  f1-score   support\n",
      "\n",
      "    infringement       0.67      0.79      0.73       123\n",
      "non_infringement       0.75      0.62      0.68       123\n",
      "\n",
      "        accuracy                           0.70       246\n",
      "       macro avg       0.71      0.70      0.70       246\n",
      "    weighted avg       0.71      0.70      0.70       246\n",
      "\n"
     ]
    },
    {
     "name": "stderr",
     "output_type": "stream",
     "text": [
      "Training Epochs:  28%|██▊       | 697/2500 [00:15<00:34, 51.81it/s]"
     ]
    },
    {
     "name": "stdout",
     "output_type": "stream",
     "text": [
      "Epoch 690/2500, Loss: 0.0603\n",
      "Test Accuracy at Epoch 690: 68.29%\n",
      "Test F1-score at Epoch 690: 0.6455\n",
      "Classification Report at Epoch 690:\n",
      "                  precision    recall  f1-score   support\n",
      "\n",
      "    infringement       0.65      0.79      0.71       123\n",
      "non_infringement       0.73      0.58      0.65       123\n",
      "\n",
      "        accuracy                           0.68       246\n",
      "       macro avg       0.69      0.68      0.68       246\n",
      "    weighted avg       0.69      0.68      0.68       246\n",
      "\n",
      "Epoch 700/2500, Loss: 0.0600\n",
      "Test Accuracy at Epoch 700: 68.29%\n",
      "Test F1-score at Epoch 700: 0.6455\n",
      "Classification Report at Epoch 700:\n",
      "                  precision    recall  f1-score   support\n",
      "\n",
      "    infringement       0.65      0.79      0.71       123\n",
      "non_infringement       0.73      0.58      0.65       123\n",
      "\n",
      "        accuracy                           0.68       246\n",
      "       macro avg       0.69      0.68      0.68       246\n",
      "    weighted avg       0.69      0.68      0.68       246\n",
      "\n"
     ]
    },
    {
     "name": "stderr",
     "output_type": "stream",
     "text": [
      "Training Epochs:  29%|██▊       | 715/2500 [00:15<00:37, 47.78it/s]"
     ]
    },
    {
     "name": "stdout",
     "output_type": "stream",
     "text": [
      "Epoch 710/2500, Loss: 0.0598\n",
      "Test Accuracy at Epoch 710: 69.92%\n",
      "Test F1-score at Epoch 710: 0.6696\n",
      "Classification Report at Epoch 710:\n",
      "                  precision    recall  f1-score   support\n",
      "\n",
      "    infringement       0.67      0.79      0.72       123\n",
      "non_infringement       0.74      0.61      0.67       123\n",
      "\n",
      "        accuracy                           0.70       246\n",
      "       macro avg       0.71      0.70      0.70       246\n",
      "    weighted avg       0.71      0.70      0.70       246\n",
      "\n",
      "Epoch 720/2500, Loss: 0.0596\n"
     ]
    },
    {
     "name": "stderr",
     "output_type": "stream",
     "text": [
      "Training Epochs:  29%|██▉       | 725/2500 [00:15<00:39, 44.91it/s]"
     ]
    },
    {
     "name": "stdout",
     "output_type": "stream",
     "text": [
      "Test Accuracy at Epoch 720: 69.92%\n",
      "Test F1-score at Epoch 720: 0.6696\n",
      "Classification Report at Epoch 720:\n",
      "                  precision    recall  f1-score   support\n",
      "\n",
      "    infringement       0.67      0.79      0.72       123\n",
      "non_infringement       0.74      0.61      0.67       123\n",
      "\n",
      "        accuracy                           0.70       246\n",
      "       macro avg       0.71      0.70      0.70       246\n",
      "    weighted avg       0.71      0.70      0.70       246\n",
      "\n"
     ]
    },
    {
     "name": "stderr",
     "output_type": "stream",
     "text": [
      "Training Epochs:  29%|██▉       | 737/2500 [00:16<00:36, 48.57it/s]"
     ]
    },
    {
     "name": "stdout",
     "output_type": "stream",
     "text": [
      "Epoch 730/2500, Loss: 0.0594\n",
      "Test Accuracy at Epoch 730: 69.51%\n",
      "Test F1-score at Epoch 730: 0.6637\n",
      "Classification Report at Epoch 730:\n",
      "                  precision    recall  f1-score   support\n",
      "\n",
      "    infringement       0.66      0.79      0.72       123\n",
      "non_infringement       0.74      0.60      0.66       123\n",
      "\n",
      "        accuracy                           0.70       246\n",
      "       macro avg       0.70      0.70      0.69       246\n",
      "    weighted avg       0.70      0.70      0.69       246\n",
      "\n"
     ]
    },
    {
     "name": "stderr",
     "output_type": "stream",
     "text": [
      "Training Epochs:  30%|██▉       | 748/2500 [00:16<00:36, 47.62it/s]"
     ]
    },
    {
     "name": "stdout",
     "output_type": "stream",
     "text": [
      "Epoch 740/2500, Loss: 0.0593\n",
      "Test Accuracy at Epoch 740: 69.92%\n",
      "Test F1-score at Epoch 740: 0.6696\n",
      "Classification Report at Epoch 740:\n",
      "                  precision    recall  f1-score   support\n",
      "\n",
      "    infringement       0.67      0.79      0.72       123\n",
      "non_infringement       0.74      0.61      0.67       123\n",
      "\n",
      "        accuracy                           0.70       246\n",
      "       macro avg       0.71      0.70      0.70       246\n",
      "    weighted avg       0.71      0.70      0.70       246\n",
      "\n",
      "Epoch 750/2500, Loss: 0.0592\n",
      "Test Accuracy at Epoch 750: 69.92%\n",
      "Test F1-score at Epoch 750: 0.6696\n",
      "Classification Report at Epoch 750:\n",
      "                  precision    recall  f1-score   support\n",
      "\n",
      "    infringement       0.67      0.79      0.72       123\n",
      "non_infringement       0.74      0.61      0.67       123\n",
      "\n",
      "        accuracy                           0.70       246\n",
      "       macro avg       0.71      0.70      0.70       246\n",
      "    weighted avg       0.71      0.70      0.70       246\n",
      "\n"
     ]
    },
    {
     "name": "stderr",
     "output_type": "stream",
     "text": [
      "Training Epochs:  31%|███       | 766/2500 [00:16<00:35, 48.67it/s]"
     ]
    },
    {
     "name": "stdout",
     "output_type": "stream",
     "text": [
      "Epoch 760/2500, Loss: 0.0619\n",
      "Test Accuracy at Epoch 760: 70.33%\n",
      "Test F1-score at Epoch 760: 0.6812\n",
      "Classification Report at Epoch 760:\n",
      "                  precision    recall  f1-score   support\n",
      "\n",
      "    infringement       0.68      0.77      0.72       123\n",
      "non_infringement       0.74      0.63      0.68       123\n",
      "\n",
      "        accuracy                           0.70       246\n",
      "       macro avg       0.71      0.70      0.70       246\n",
      "    weighted avg       0.71      0.70      0.70       246\n",
      "\n",
      "Epoch 770/2500, Loss: 0.0597\n",
      "Test Accuracy at Epoch 770: 67.89%\n",
      "Test F1-score at Epoch 770: 0.6393\n",
      "Classification Report at Epoch 770:\n",
      "                  precision    recall  f1-score   support\n",
      "\n",
      "    infringement       0.65      0.79      0.71       123\n",
      "non_infringement       0.73      0.57      0.64       123\n",
      "\n",
      "        accuracy                           0.68       246\n",
      "       macro avg       0.69      0.68      0.67       246\n",
      "    weighted avg       0.69      0.68      0.67       246\n",
      "\n"
     ]
    },
    {
     "name": "stderr",
     "output_type": "stream",
     "text": [
      "Training Epochs:  32%|███▏      | 790/2500 [00:17<00:35, 47.99it/s]"
     ]
    },
    {
     "name": "stdout",
     "output_type": "stream",
     "text": [
      "Epoch 780/2500, Loss: 0.0607\n",
      "Test Accuracy at Epoch 780: 70.73%\n",
      "Test F1-score at Epoch 780: 0.6870\n",
      "Classification Report at Epoch 780:\n",
      "                  precision    recall  f1-score   support\n",
      "\n",
      "    infringement       0.68      0.77      0.73       123\n",
      "non_infringement       0.74      0.64      0.69       123\n",
      "\n",
      "        accuracy                           0.71       246\n",
      "       macro avg       0.71      0.71      0.71       246\n",
      "    weighted avg       0.71      0.71      0.71       246\n",
      "\n",
      "Epoch 790/2500, Loss: 0.0641\n",
      "Test Accuracy at Epoch 790: 67.89%\n",
      "Test F1-score at Epoch 790: 0.6393\n",
      "Classification Report at Epoch 790:\n",
      "                  precision    recall  f1-score   support\n",
      "\n",
      "    infringement       0.65      0.79      0.71       123\n",
      "non_infringement       0.73      0.57      0.64       123\n",
      "\n",
      "        accuracy                           0.68       246\n",
      "       macro avg       0.69      0.68      0.67       246\n",
      "    weighted avg       0.69      0.68      0.67       246\n",
      "\n"
     ]
    },
    {
     "name": "stderr",
     "output_type": "stream",
     "text": [
      "Training Epochs:  32%|███▏      | 808/2500 [00:17<00:36, 46.13it/s]"
     ]
    },
    {
     "name": "stdout",
     "output_type": "stream",
     "text": [
      "Epoch 800/2500, Loss: 0.0599\n",
      "Test Accuracy at Epoch 800: 68.29%\n",
      "Test F1-score at Epoch 800: 0.6389\n",
      "Classification Report at Epoch 800:\n",
      "                  precision    recall  f1-score   support\n",
      "\n",
      "    infringement       0.65      0.80      0.72       123\n",
      "non_infringement       0.74      0.56      0.64       123\n",
      "\n",
      "        accuracy                           0.68       246\n",
      "       macro avg       0.69      0.68      0.68       246\n",
      "    weighted avg       0.69      0.68      0.68       246\n",
      "\n",
      "Epoch 810/2500, Loss: 0.0600\n",
      "Test Accuracy at Epoch 810: 69.51%\n",
      "Test F1-score at Epoch 810: 0.6637\n"
     ]
    },
    {
     "name": "stderr",
     "output_type": "stream",
     "text": [
      "Training Epochs:  33%|███▎      | 818/2500 [00:17<00:38, 43.62it/s]"
     ]
    },
    {
     "name": "stdout",
     "output_type": "stream",
     "text": [
      "Classification Report at Epoch 810:\n",
      "                  precision    recall  f1-score   support\n",
      "\n",
      "    infringement       0.66      0.79      0.72       123\n",
      "non_infringement       0.74      0.60      0.66       123\n",
      "\n",
      "        accuracy                           0.70       246\n",
      "       macro avg       0.70      0.70      0.69       246\n",
      "    weighted avg       0.70      0.70      0.69       246\n",
      "\n"
     ]
    },
    {
     "name": "stderr",
     "output_type": "stream",
     "text": [
      "Training Epochs:  33%|███▎      | 830/2500 [00:18<00:34, 48.02it/s]"
     ]
    },
    {
     "name": "stdout",
     "output_type": "stream",
     "text": [
      "Epoch 820/2500, Loss: 0.0614\n",
      "Test Accuracy at Epoch 820: 69.92%\n",
      "Test F1-score at Epoch 820: 0.6754\n",
      "Classification Report at Epoch 820:\n",
      "                  precision    recall  f1-score   support\n",
      "\n",
      "    infringement       0.67      0.77      0.72       123\n",
      "non_infringement       0.73      0.63      0.68       123\n",
      "\n",
      "        accuracy                           0.70       246\n",
      "       macro avg       0.70      0.70      0.70       246\n",
      "    weighted avg       0.70      0.70      0.70       246\n",
      "\n",
      "Epoch 830/2500, Loss: 0.0599\n",
      "Test Accuracy at Epoch 830: 70.33%\n",
      "Test F1-score at Epoch 830: 0.6812\n",
      "Classification Report at Epoch 830:\n",
      "                  precision    recall  f1-score   support\n",
      "\n",
      "    infringement       0.68      0.77      0.72       123\n",
      "non_infringement       0.74      0.63      0.68       123\n",
      "\n",
      "        accuracy                           0.70       246\n",
      "       macro avg       0.71      0.70      0.70       246\n",
      "    weighted avg       0.71      0.70      0.70       246\n",
      "\n"
     ]
    },
    {
     "name": "stderr",
     "output_type": "stream",
     "text": [
      "Training Epochs:  34%|███▍      | 848/2500 [00:18<00:32, 51.38it/s]"
     ]
    },
    {
     "name": "stdout",
     "output_type": "stream",
     "text": [
      "Epoch 840/2500, Loss: 0.0593\n",
      "Test Accuracy at Epoch 840: 69.51%\n",
      "Test F1-score at Epoch 840: 0.6637\n",
      "Classification Report at Epoch 840:\n",
      "                  precision    recall  f1-score   support\n",
      "\n",
      "    infringement       0.66      0.79      0.72       123\n",
      "non_infringement       0.74      0.60      0.66       123\n",
      "\n",
      "        accuracy                           0.70       246\n",
      "       macro avg       0.70      0.70      0.69       246\n",
      "    weighted avg       0.70      0.70      0.69       246\n",
      "\n",
      "Epoch 850/2500, Loss: 0.0597\n",
      "Test Accuracy at Epoch 850: 67.89%\n",
      "Test F1-score at Epoch 850: 0.6393\n",
      "Classification Report at Epoch 850:\n",
      "                  precision    recall  f1-score   support\n",
      "\n",
      "    infringement       0.65      0.79      0.71       123\n",
      "non_infringement       0.73      0.57      0.64       123\n",
      "\n",
      "        accuracy                           0.68       246\n",
      "       macro avg       0.69      0.68      0.67       246\n",
      "    weighted avg       0.69      0.68      0.67       246\n",
      "\n"
     ]
    },
    {
     "name": "stderr",
     "output_type": "stream",
     "text": [
      "Training Epochs:  35%|███▍      | 867/2500 [00:18<00:31, 51.57it/s]"
     ]
    },
    {
     "name": "stdout",
     "output_type": "stream",
     "text": [
      "Epoch 860/2500, Loss: 0.0591\n",
      "Test Accuracy at Epoch 860: 69.92%\n",
      "Test F1-score at Epoch 860: 0.6696\n",
      "Classification Report at Epoch 860:\n",
      "                  precision    recall  f1-score   support\n",
      "\n",
      "    infringement       0.67      0.79      0.72       123\n",
      "non_infringement       0.74      0.61      0.67       123\n",
      "\n",
      "        accuracy                           0.70       246\n",
      "       macro avg       0.71      0.70      0.70       246\n",
      "    weighted avg       0.71      0.70      0.70       246\n",
      "\n",
      "Epoch 870/2500, Loss: 0.0586\n",
      "Test Accuracy at Epoch 870: 69.92%\n",
      "Test F1-score at Epoch 870: 0.6696\n",
      "Classification Report at Epoch 870:\n",
      "                  precision    recall  f1-score   support\n",
      "\n",
      "    infringement       0.67      0.79      0.72       123\n",
      "non_infringement       0.74      0.61      0.67       123\n",
      "\n",
      "        accuracy                           0.70       246\n",
      "       macro avg       0.71      0.70      0.70       246\n",
      "    weighted avg       0.71      0.70      0.70       246\n",
      "\n"
     ]
    },
    {
     "name": "stderr",
     "output_type": "stream",
     "text": [
      "Training Epochs:  35%|███▌      | 885/2500 [00:19<00:32, 49.01it/s]"
     ]
    },
    {
     "name": "stdout",
     "output_type": "stream",
     "text": [
      "Epoch 880/2500, Loss: 0.0587\n",
      "Test Accuracy at Epoch 880: 69.92%\n",
      "Test F1-score at Epoch 880: 0.6696\n",
      "Classification Report at Epoch 880:\n",
      "                  precision    recall  f1-score   support\n",
      "\n",
      "    infringement       0.67      0.79      0.72       123\n",
      "non_infringement       0.74      0.61      0.67       123\n",
      "\n",
      "        accuracy                           0.70       246\n",
      "       macro avg       0.71      0.70      0.70       246\n",
      "    weighted avg       0.71      0.70      0.70       246\n",
      "\n",
      "Epoch 890/2500, Loss: 0.0586\n",
      "Test Accuracy at Epoch 890: 69.51%\n",
      "Test F1-score at Epoch 890: 0.6637\n",
      "Classification Report at Epoch 890:\n",
      "                  precision    recall  f1-score   support\n",
      "\n",
      "    infringement       0.66      0.79      0.72       123\n",
      "non_infringement       0.74      0.60      0.66       123\n",
      "\n",
      "        accuracy                           0.70       246\n",
      "       macro avg       0.70      0.70      0.69       246\n",
      "    weighted avg       0.70      0.70      0.69       246\n",
      "\n"
     ]
    },
    {
     "name": "stderr",
     "output_type": "stream",
     "text": [
      "Training Epochs:  36%|███▋      | 909/2500 [00:19<00:30, 51.42it/s]"
     ]
    },
    {
     "name": "stdout",
     "output_type": "stream",
     "text": [
      "Epoch 900/2500, Loss: 0.0599\n",
      "Test Accuracy at Epoch 900: 69.11%\n",
      "Test F1-score at Epoch 900: 0.6577\n",
      "Classification Report at Epoch 900:\n",
      "                  precision    recall  f1-score   support\n",
      "\n",
      "    infringement       0.66      0.79      0.72       123\n",
      "non_infringement       0.74      0.59      0.66       123\n",
      "\n",
      "        accuracy                           0.69       246\n",
      "       macro avg       0.70      0.69      0.69       246\n",
      "    weighted avg       0.70      0.69      0.69       246\n",
      "\n",
      "Epoch 910/2500, Loss: 0.0596\n",
      "Test Accuracy at Epoch 910: 70.73%\n",
      "Test F1-score at Epoch 910: 0.6697\n",
      "Classification Report at Epoch 910:\n",
      "                  precision    recall  f1-score   support\n",
      "\n",
      "    infringement       0.67      0.82      0.74       123\n",
      "non_infringement       0.77      0.59      0.67       123\n",
      "\n",
      "        accuracy                           0.71       246\n",
      "       macro avg       0.72      0.71      0.70       246\n",
      "    weighted avg       0.72      0.71      0.70       246\n",
      "\n"
     ]
    },
    {
     "name": "stderr",
     "output_type": "stream",
     "text": [
      "Training Epochs:  37%|███▋      | 928/2500 [00:20<00:29, 54.17it/s]"
     ]
    },
    {
     "name": "stdout",
     "output_type": "stream",
     "text": [
      "Epoch 920/2500, Loss: 0.0586\n",
      "Test Accuracy at Epoch 920: 71.14%\n",
      "Test F1-score at Epoch 920: 0.6758\n",
      "Classification Report at Epoch 920:\n",
      "                  precision    recall  f1-score   support\n",
      "\n",
      "    infringement       0.67      0.82      0.74       123\n",
      "non_infringement       0.77      0.60      0.68       123\n",
      "\n",
      "        accuracy                           0.71       246\n",
      "       macro avg       0.72      0.71      0.71       246\n",
      "    weighted avg       0.72      0.71      0.71       246\n",
      "\n",
      "Epoch 930/2500, Loss: 0.0602\n",
      "Test Accuracy at Epoch 930: 70.73%\n",
      "Test F1-score at Epoch 930: 0.6697\n",
      "Classification Report at Epoch 930:\n",
      "                  precision    recall  f1-score   support\n",
      "\n",
      "    infringement       0.67      0.82      0.74       123\n",
      "non_infringement       0.77      0.59      0.67       123\n",
      "\n",
      "        accuracy                           0.71       246\n",
      "       macro avg       0.72      0.71      0.70       246\n",
      "    weighted avg       0.72      0.71      0.70       246\n",
      "\n"
     ]
    },
    {
     "name": "stderr",
     "output_type": "stream",
     "text": [
      "Training Epochs:  38%|███▊      | 947/2500 [00:20<00:27, 56.82it/s]"
     ]
    },
    {
     "name": "stdout",
     "output_type": "stream",
     "text": [
      "Epoch 940/2500, Loss: 0.0599\n",
      "Test Accuracy at Epoch 940: 72.36%\n",
      "Test F1-score at Epoch 940: 0.6991\n",
      "Classification Report at Epoch 940:\n",
      "                  precision    recall  f1-score   support\n",
      "\n",
      "    infringement       0.69      0.80      0.74       123\n",
      "non_infringement       0.77      0.64      0.70       123\n",
      "\n",
      "        accuracy                           0.72       246\n",
      "       macro avg       0.73      0.72      0.72       246\n",
      "    weighted avg       0.73      0.72      0.72       246\n",
      "\n",
      "Epoch 950/2500, Loss: 0.0602\n",
      "Test Accuracy at Epoch 950: 70.33%\n",
      "Test F1-score at Epoch 950: 0.6636\n",
      "Classification Report at Epoch 950:\n",
      "                  precision    recall  f1-score   support\n",
      "\n",
      "    infringement       0.66      0.82      0.73       123\n",
      "non_infringement       0.77      0.59      0.66       123\n",
      "\n",
      "        accuracy                           0.70       246\n",
      "       macro avg       0.72      0.70      0.70       246\n",
      "    weighted avg       0.72      0.70      0.70       246\n",
      "\n"
     ]
    },
    {
     "name": "stderr",
     "output_type": "stream",
     "text": [
      "Training Epochs:  39%|███▊      | 968/2500 [00:20<00:27, 56.47it/s]"
     ]
    },
    {
     "name": "stdout",
     "output_type": "stream",
     "text": [
      "Epoch 960/2500, Loss: 0.0628\n",
      "Test Accuracy at Epoch 960: 72.36%\n",
      "Test F1-score at Epoch 960: 0.6991\n",
      "Classification Report at Epoch 960:\n",
      "                  precision    recall  f1-score   support\n",
      "\n",
      "    infringement       0.69      0.80      0.74       123\n",
      "non_infringement       0.77      0.64      0.70       123\n",
      "\n",
      "        accuracy                           0.72       246\n",
      "       macro avg       0.73      0.72      0.72       246\n",
      "    weighted avg       0.73      0.72      0.72       246\n",
      "\n",
      "Epoch 970/2500, Loss: 0.0625\n",
      "Test Accuracy at Epoch 970: 72.76%\n",
      "Test F1-score at Epoch 970: 0.7048\n",
      "Classification Report at Epoch 970:\n",
      "                  precision    recall  f1-score   support\n",
      "\n",
      "    infringement       0.70      0.80      0.75       123\n",
      "non_infringement       0.77      0.65      0.70       123\n",
      "\n",
      "        accuracy                           0.73       246\n",
      "       macro avg       0.73      0.73      0.73       246\n",
      "    weighted avg       0.73      0.73      0.73       246\n",
      "\n"
     ]
    },
    {
     "name": "stderr",
     "output_type": "stream",
     "text": [
      "Training Epochs:  40%|███▉      | 988/2500 [00:21<00:27, 55.74it/s]"
     ]
    },
    {
     "name": "stdout",
     "output_type": "stream",
     "text": [
      "Epoch 980/2500, Loss: 0.0624\n",
      "Test Accuracy at Epoch 980: 71.95%\n",
      "Test F1-score at Epoch 980: 0.7039\n",
      "Classification Report at Epoch 980:\n",
      "                  precision    recall  f1-score   support\n",
      "\n",
      "    infringement       0.70      0.77      0.73       123\n",
      "non_infringement       0.75      0.67      0.70       123\n",
      "\n",
      "        accuracy                           0.72       246\n",
      "       macro avg       0.72      0.72      0.72       246\n",
      "    weighted avg       0.72      0.72      0.72       246\n",
      "\n",
      "Epoch 990/2500, Loss: 0.0592\n",
      "Test Accuracy at Epoch 990: 72.36%\n",
      "Test F1-score at Epoch 990: 0.6991\n",
      "Classification Report at Epoch 990:\n",
      "                  precision    recall  f1-score   support\n",
      "\n",
      "    infringement       0.69      0.80      0.74       123\n",
      "non_infringement       0.77      0.64      0.70       123\n",
      "\n",
      "        accuracy                           0.72       246\n",
      "       macro avg       0.73      0.72      0.72       246\n",
      "    weighted avg       0.73      0.72      0.72       246\n",
      "\n"
     ]
    },
    {
     "name": "stderr",
     "output_type": "stream",
     "text": [
      "Training Epochs:  40%|████      | 1007/2500 [00:21<00:27, 53.63it/s]"
     ]
    },
    {
     "name": "stdout",
     "output_type": "stream",
     "text": [
      "Epoch 1000/2500, Loss: 0.0589\n",
      "Test Accuracy at Epoch 1000: 71.14%\n",
      "Test F1-score at Epoch 1000: 0.6758\n",
      "Classification Report at Epoch 1000:\n",
      "                  precision    recall  f1-score   support\n",
      "\n",
      "    infringement       0.67      0.82      0.74       123\n",
      "non_infringement       0.77      0.60      0.68       123\n",
      "\n",
      "        accuracy                           0.71       246\n",
      "       macro avg       0.72      0.71      0.71       246\n",
      "    weighted avg       0.72      0.71      0.71       246\n",
      "\n",
      "Epoch 1010/2500, Loss: 0.0583\n",
      "Test Accuracy at Epoch 1010: 71.14%\n",
      "Test F1-score at Epoch 1010: 0.6758\n",
      "Classification Report at Epoch 1010:\n",
      "                  precision    recall  f1-score   support\n",
      "\n",
      "    infringement       0.67      0.82      0.74       123\n",
      "non_infringement       0.77      0.60      0.68       123\n",
      "\n",
      "        accuracy                           0.71       246\n",
      "       macro avg       0.72      0.71      0.71       246\n",
      "    weighted avg       0.72      0.71      0.71       246\n",
      "\n"
     ]
    },
    {
     "name": "stderr",
     "output_type": "stream",
     "text": [
      "Training Epochs:  41%|████▏     | 1032/2500 [00:22<00:27, 53.78it/s]"
     ]
    },
    {
     "name": "stdout",
     "output_type": "stream",
     "text": [
      "Epoch 1020/2500, Loss: 0.0584\n",
      "Test Accuracy at Epoch 1020: 71.95%\n",
      "Test F1-score at Epoch 1020: 0.6878\n",
      "Classification Report at Epoch 1020:\n",
      "                  precision    recall  f1-score   support\n",
      "\n",
      "    infringement       0.68      0.82      0.75       123\n",
      "non_infringement       0.78      0.62      0.69       123\n",
      "\n",
      "        accuracy                           0.72       246\n",
      "       macro avg       0.73      0.72      0.72       246\n",
      "    weighted avg       0.73      0.72      0.72       246\n",
      "\n",
      "Epoch 1030/2500, Loss: 0.0582\n",
      "Test Accuracy at Epoch 1030: 71.14%\n",
      "Test F1-score at Epoch 1030: 0.6758\n",
      "Classification Report at Epoch 1030:\n",
      "                  precision    recall  f1-score   support\n",
      "\n",
      "    infringement       0.67      0.82      0.74       123\n",
      "non_infringement       0.77      0.60      0.68       123\n",
      "\n",
      "        accuracy                           0.71       246\n",
      "       macro avg       0.72      0.71      0.71       246\n",
      "    weighted avg       0.72      0.71      0.71       246\n",
      "\n"
     ]
    },
    {
     "name": "stderr",
     "output_type": "stream",
     "text": [
      "Training Epochs:  42%|████▏     | 1046/2500 [00:22<00:27, 53.57it/s]"
     ]
    },
    {
     "name": "stdout",
     "output_type": "stream",
     "text": [
      "Epoch 1040/2500, Loss: 0.0583\n",
      "Test Accuracy at Epoch 1040: 71.14%\n",
      "Test F1-score at Epoch 1040: 0.6758\n",
      "Classification Report at Epoch 1040:\n",
      "                  precision    recall  f1-score   support\n",
      "\n",
      "    infringement       0.67      0.82      0.74       123\n",
      "non_infringement       0.77      0.60      0.68       123\n",
      "\n",
      "        accuracy                           0.71       246\n",
      "       macro avg       0.72      0.71      0.71       246\n",
      "    weighted avg       0.72      0.71      0.71       246\n",
      "\n"
     ]
    },
    {
     "name": "stderr",
     "output_type": "stream",
     "text": [
      "Training Epochs:  42%|████▏     | 1060/2500 [00:22<00:24, 58.65it/s]"
     ]
    },
    {
     "name": "stdout",
     "output_type": "stream",
     "text": [
      "Epoch 1050/2500, Loss: 0.0587\n",
      "Test Accuracy at Epoch 1050: 70.73%\n",
      "Test F1-score at Epoch 1050: 0.6697\n",
      "Classification Report at Epoch 1050:\n",
      "                  precision    recall  f1-score   support\n",
      "\n",
      "    infringement       0.67      0.82      0.74       123\n",
      "non_infringement       0.77      0.59      0.67       123\n",
      "\n",
      "        accuracy                           0.71       246\n",
      "       macro avg       0.72      0.71      0.70       246\n",
      "    weighted avg       0.72      0.71      0.70       246\n",
      "\n",
      "Epoch 1060/2500, Loss: 0.0588\n",
      "Test Accuracy at Epoch 1060: 70.73%\n",
      "Test F1-score at Epoch 1060: 0.6697\n",
      "Classification Report at Epoch 1060:\n",
      "                  precision    recall  f1-score   support\n",
      "\n",
      "    infringement       0.67      0.82      0.74       123\n",
      "non_infringement       0.77      0.59      0.67       123\n",
      "\n",
      "        accuracy                           0.71       246\n",
      "       macro avg       0.72      0.71      0.70       246\n",
      "    weighted avg       0.72      0.71      0.70       246\n",
      "\n"
     ]
    },
    {
     "name": "stderr",
     "output_type": "stream",
     "text": [
      "Training Epochs:  43%|████▎     | 1079/2500 [00:22<00:24, 58.02it/s]"
     ]
    },
    {
     "name": "stdout",
     "output_type": "stream",
     "text": [
      "Epoch 1070/2500, Loss: 0.0595\n",
      "Test Accuracy at Epoch 1070: 70.33%\n",
      "Test F1-score at Epoch 1070: 0.6636\n",
      "Classification Report at Epoch 1070:\n",
      "                  precision    recall  f1-score   support\n",
      "\n",
      "    infringement       0.66      0.82      0.73       123\n",
      "non_infringement       0.77      0.59      0.66       123\n",
      "\n",
      "        accuracy                           0.70       246\n",
      "       macro avg       0.72      0.70      0.70       246\n",
      "    weighted avg       0.72      0.70      0.70       246\n",
      "\n",
      "Epoch 1080/2500, Loss: 0.0595\n",
      "Test Accuracy at Epoch 1080: 70.33%\n",
      "Test F1-score at Epoch 1080: 0.6636\n",
      "Classification Report at Epoch 1080:\n",
      "                  precision    recall  f1-score   support\n",
      "\n",
      "    infringement       0.66      0.82      0.73       123\n",
      "non_infringement       0.77      0.59      0.66       123\n",
      "\n",
      "        accuracy                           0.70       246\n",
      "       macro avg       0.72      0.70      0.70       246\n",
      "    weighted avg       0.72      0.70      0.70       246\n",
      "\n"
     ]
    },
    {
     "name": "stderr",
     "output_type": "stream",
     "text": [
      "Training Epochs:  44%|████▍     | 1099/2500 [00:23<00:23, 58.81it/s]"
     ]
    },
    {
     "name": "stdout",
     "output_type": "stream",
     "text": [
      "Epoch 1090/2500, Loss: 0.0583\n",
      "Test Accuracy at Epoch 1090: 71.14%\n",
      "Test F1-score at Epoch 1090: 0.6758\n",
      "Classification Report at Epoch 1090:\n",
      "                  precision    recall  f1-score   support\n",
      "\n",
      "    infringement       0.67      0.82      0.74       123\n",
      "non_infringement       0.77      0.60      0.68       123\n",
      "\n",
      "        accuracy                           0.71       246\n",
      "       macro avg       0.72      0.71      0.71       246\n",
      "    weighted avg       0.72      0.71      0.71       246\n",
      "\n",
      "Epoch 1100/2500, Loss: 0.0592\n",
      "Test Accuracy at Epoch 1100: 70.33%\n",
      "Test F1-score at Epoch 1100: 0.6636\n",
      "Classification Report at Epoch 1100:\n",
      "                  precision    recall  f1-score   support\n",
      "\n",
      "    infringement       0.66      0.82      0.73       123\n",
      "non_infringement       0.77      0.59      0.66       123\n",
      "\n",
      "        accuracy                           0.70       246\n",
      "       macro avg       0.72      0.70      0.70       246\n",
      "    weighted avg       0.72      0.70      0.70       246\n",
      "\n"
     ]
    },
    {
     "name": "stderr",
     "output_type": "stream",
     "text": [
      "Training Epochs:  45%|████▍     | 1120/2500 [00:23<00:24, 55.32it/s]"
     ]
    },
    {
     "name": "stdout",
     "output_type": "stream",
     "text": [
      "Epoch 1110/2500, Loss: 0.0591\n",
      "Test Accuracy at Epoch 1110: 70.33%\n",
      "Test F1-score at Epoch 1110: 0.6636\n",
      "Classification Report at Epoch 1110:\n",
      "                  precision    recall  f1-score   support\n",
      "\n",
      "    infringement       0.66      0.82      0.73       123\n",
      "non_infringement       0.77      0.59      0.66       123\n",
      "\n",
      "        accuracy                           0.70       246\n",
      "       macro avg       0.72      0.70      0.70       246\n",
      "    weighted avg       0.72      0.70      0.70       246\n",
      "\n",
      "Epoch 1120/2500, Loss: 0.0581\n",
      "Test Accuracy at Epoch 1120: 71.14%\n",
      "Test F1-score at Epoch 1120: 0.6758\n",
      "Classification Report at Epoch 1120:\n",
      "                  precision    recall  f1-score   support\n",
      "\n",
      "    infringement       0.67      0.82      0.74       123\n",
      "non_infringement       0.77      0.60      0.68       123\n",
      "\n",
      "        accuracy                           0.71       246\n",
      "       macro avg       0.72      0.71      0.71       246\n",
      "    weighted avg       0.72      0.71      0.71       246\n",
      "\n"
     ]
    },
    {
     "name": "stderr",
     "output_type": "stream",
     "text": [
      "Training Epochs:  46%|████▌     | 1140/2500 [00:24<00:25, 53.61it/s]"
     ]
    },
    {
     "name": "stdout",
     "output_type": "stream",
     "text": [
      "Epoch 1130/2500, Loss: 0.0611\n",
      "Test Accuracy at Epoch 1130: 72.36%\n",
      "Test F1-score at Epoch 1130: 0.6991\n",
      "Classification Report at Epoch 1130:\n",
      "                  precision    recall  f1-score   support\n",
      "\n",
      "    infringement       0.69      0.80      0.74       123\n",
      "non_infringement       0.77      0.64      0.70       123\n",
      "\n",
      "        accuracy                           0.72       246\n",
      "       macro avg       0.73      0.72      0.72       246\n",
      "    weighted avg       0.73      0.72      0.72       246\n",
      "\n",
      "Epoch 1140/2500, Loss: 0.0600\n",
      "Test Accuracy at Epoch 1140: 70.33%\n",
      "Test F1-score at Epoch 1140: 0.6636\n",
      "Classification Report at Epoch 1140:\n",
      "                  precision    recall  f1-score   support\n",
      "\n",
      "    infringement       0.66      0.82      0.73       123\n",
      "non_infringement       0.77      0.59      0.66       123\n",
      "\n",
      "        accuracy                           0.70       246\n",
      "       macro avg       0.72      0.70      0.70       246\n",
      "    weighted avg       0.72      0.70      0.70       246\n",
      "\n"
     ]
    },
    {
     "name": "stderr",
     "output_type": "stream",
     "text": [
      "Training Epochs:  46%|████▌     | 1153/2500 [00:24<00:26, 51.06it/s]"
     ]
    },
    {
     "name": "stdout",
     "output_type": "stream",
     "text": [
      "Epoch 1150/2500, Loss: 0.0622\n",
      "Test Accuracy at Epoch 1150: 72.76%\n",
      "Test F1-score at Epoch 1150: 0.7048\n",
      "Classification Report at Epoch 1150:\n",
      "                  precision    recall  f1-score   support\n",
      "\n",
      "    infringement       0.70      0.80      0.75       123\n",
      "non_infringement       0.77      0.65      0.70       123\n",
      "\n",
      "        accuracy                           0.73       246\n",
      "       macro avg       0.73      0.73      0.73       246\n",
      "    weighted avg       0.73      0.73      0.73       246\n",
      "\n"
     ]
    },
    {
     "name": "stderr",
     "output_type": "stream",
     "text": [
      "Training Epochs:  47%|████▋     | 1167/2500 [00:24<00:23, 57.01it/s]"
     ]
    },
    {
     "name": "stdout",
     "output_type": "stream",
     "text": [
      "Epoch 1160/2500, Loss: 0.0584\n",
      "Test Accuracy at Epoch 1160: 73.17%\n",
      "Test F1-score at Epoch 1160: 0.7054\n",
      "Classification Report at Epoch 1160:\n",
      "                  precision    recall  f1-score   support\n",
      "\n",
      "    infringement       0.70      0.82      0.75       123\n",
      "non_infringement       0.78      0.64      0.71       123\n",
      "\n",
      "        accuracy                           0.73       246\n",
      "       macro avg       0.74      0.73      0.73       246\n",
      "    weighted avg       0.74      0.73      0.73       246\n",
      "\n",
      "Epoch 1170/2500, Loss: 0.0609\n",
      "Test Accuracy at Epoch 1170: 71.14%\n",
      "Test F1-score at Epoch 1170: 0.6816\n",
      "Classification Report at Epoch 1170:\n",
      "                  precision    recall  f1-score   support\n",
      "\n",
      "    infringement       0.68      0.80      0.74       123\n",
      "non_infringement       0.76      0.62      0.68       123\n",
      "\n",
      "        accuracy                           0.71       246\n",
      "       macro avg       0.72      0.71      0.71       246\n",
      "    weighted avg       0.72      0.71      0.71       246\n",
      "\n"
     ]
    },
    {
     "name": "stderr",
     "output_type": "stream",
     "text": [
      "Training Epochs:  47%|████▋     | 1187/2500 [00:24<00:22, 57.61it/s]"
     ]
    },
    {
     "name": "stdout",
     "output_type": "stream",
     "text": [
      "Epoch 1180/2500, Loss: 0.0584\n",
      "Test Accuracy at Epoch 1180: 71.14%\n",
      "Test F1-score at Epoch 1180: 0.6816\n",
      "Classification Report at Epoch 1180:\n",
      "                  precision    recall  f1-score   support\n",
      "\n",
      "    infringement       0.68      0.80      0.74       123\n",
      "non_infringement       0.76      0.62      0.68       123\n",
      "\n",
      "        accuracy                           0.71       246\n",
      "       macro avg       0.72      0.71      0.71       246\n",
      "    weighted avg       0.72      0.71      0.71       246\n",
      "\n",
      "Epoch 1190/2500, Loss: 0.0606\n",
      "Test Accuracy at Epoch 1190: 70.33%\n",
      "Test F1-score at Epoch 1190: 0.6636\n",
      "Classification Report at Epoch 1190:\n",
      "                  precision    recall  f1-score   support\n",
      "\n",
      "    infringement       0.66      0.82      0.73       123\n",
      "non_infringement       0.77      0.59      0.66       123\n",
      "\n",
      "        accuracy                           0.70       246\n",
      "       macro avg       0.72      0.70      0.70       246\n",
      "    weighted avg       0.72      0.70      0.70       246\n",
      "\n"
     ]
    },
    {
     "name": "stderr",
     "output_type": "stream",
     "text": [
      "Training Epochs:  48%|████▊     | 1207/2500 [00:25<00:24, 53.57it/s]"
     ]
    },
    {
     "name": "stdout",
     "output_type": "stream",
     "text": [
      "Epoch 1200/2500, Loss: 0.0598\n",
      "Test Accuracy at Epoch 1200: 70.33%\n",
      "Test F1-score at Epoch 1200: 0.6636\n",
      "Classification Report at Epoch 1200:\n",
      "                  precision    recall  f1-score   support\n",
      "\n",
      "    infringement       0.66      0.82      0.73       123\n",
      "non_infringement       0.77      0.59      0.66       123\n",
      "\n",
      "        accuracy                           0.70       246\n",
      "       macro avg       0.72      0.70      0.70       246\n",
      "    weighted avg       0.72      0.70      0.70       246\n",
      "\n",
      "Epoch 1210/2500, Loss: 0.0584\n",
      "Test Accuracy at Epoch 1210: 69.92%\n",
      "Test F1-score at Epoch 1210: 0.6574\n",
      "Classification Report at Epoch 1210:\n",
      "                  precision    recall  f1-score   support\n",
      "\n",
      "    infringement       0.66      0.82      0.73       123\n",
      "non_infringement       0.76      0.58      0.66       123\n",
      "\n",
      "        accuracy                           0.70       246\n",
      "       macro avg       0.71      0.70      0.69       246\n",
      "    weighted avg       0.71      0.70      0.69       246\n",
      "\n"
     ]
    },
    {
     "name": "stderr",
     "output_type": "stream",
     "text": [
      "Training Epochs:  49%|████▉     | 1231/2500 [00:25<00:24, 51.52it/s]"
     ]
    },
    {
     "name": "stdout",
     "output_type": "stream",
     "text": [
      "Epoch 1220/2500, Loss: 0.0584\n",
      "Test Accuracy at Epoch 1220: 70.73%\n",
      "Test F1-score at Epoch 1220: 0.6697\n",
      "Classification Report at Epoch 1220:\n",
      "                  precision    recall  f1-score   support\n",
      "\n",
      "    infringement       0.67      0.82      0.74       123\n",
      "non_infringement       0.77      0.59      0.67       123\n",
      "\n",
      "        accuracy                           0.71       246\n",
      "       macro avg       0.72      0.71      0.70       246\n",
      "    weighted avg       0.72      0.71      0.70       246\n",
      "\n",
      "Epoch 1230/2500, Loss: 0.0598\n",
      "Test Accuracy at Epoch 1230: 71.54%\n",
      "Test F1-score at Epoch 1230: 0.6875\n",
      "Classification Report at Epoch 1230:\n",
      "                  precision    recall  f1-score   support\n",
      "\n",
      "    infringement       0.68      0.80      0.74       123\n",
      "non_infringement       0.76      0.63      0.69       123\n",
      "\n",
      "        accuracy                           0.72       246\n",
      "       macro avg       0.72      0.72      0.71       246\n",
      "    weighted avg       0.72      0.72      0.71       246\n",
      "\n"
     ]
    },
    {
     "name": "stderr",
     "output_type": "stream",
     "text": [
      "Training Epochs:  50%|█████     | 1251/2500 [00:26<00:23, 54.24it/s]"
     ]
    },
    {
     "name": "stdout",
     "output_type": "stream",
     "text": [
      "Epoch 1240/2500, Loss: 0.0598\n",
      "Test Accuracy at Epoch 1240: 72.76%\n",
      "Test F1-score at Epoch 1240: 0.7048\n",
      "Classification Report at Epoch 1240:\n",
      "                  precision    recall  f1-score   support\n",
      "\n",
      "    infringement       0.70      0.80      0.75       123\n",
      "non_infringement       0.77      0.65      0.70       123\n",
      "\n",
      "        accuracy                           0.73       246\n",
      "       macro avg       0.73      0.73      0.73       246\n",
      "    weighted avg       0.73      0.73      0.73       246\n",
      "\n",
      "Epoch 1250/2500, Loss: 0.0584\n",
      "Test Accuracy at Epoch 1250: 71.54%\n",
      "Test F1-score at Epoch 1250: 0.6875\n",
      "Classification Report at Epoch 1250:\n",
      "                  precision    recall  f1-score   support\n",
      "\n",
      "    infringement       0.68      0.80      0.74       123\n",
      "non_infringement       0.76      0.63      0.69       123\n",
      "\n",
      "        accuracy                           0.72       246\n",
      "       macro avg       0.72      0.72      0.71       246\n",
      "    weighted avg       0.72      0.72      0.71       246\n",
      "\n"
     ]
    },
    {
     "name": "stderr",
     "output_type": "stream",
     "text": [
      "Training Epochs:  51%|█████     | 1270/2500 [00:26<00:22, 54.03it/s]"
     ]
    },
    {
     "name": "stdout",
     "output_type": "stream",
     "text": [
      "Epoch 1260/2500, Loss: 0.0586\n",
      "Test Accuracy at Epoch 1260: 70.73%\n",
      "Test F1-score at Epoch 1260: 0.6697\n",
      "Classification Report at Epoch 1260:\n",
      "                  precision    recall  f1-score   support\n",
      "\n",
      "    infringement       0.67      0.82      0.74       123\n",
      "non_infringement       0.77      0.59      0.67       123\n",
      "\n",
      "        accuracy                           0.71       246\n",
      "       macro avg       0.72      0.71      0.70       246\n",
      "    weighted avg       0.72      0.71      0.70       246\n",
      "\n",
      "Epoch 1270/2500, Loss: 0.0580\n",
      "Test Accuracy at Epoch 1270: 70.73%\n",
      "Test F1-score at Epoch 1270: 0.6697\n",
      "Classification Report at Epoch 1270:\n",
      "                  precision    recall  f1-score   support\n",
      "\n",
      "    infringement       0.67      0.82      0.74       123\n",
      "non_infringement       0.77      0.59      0.67       123\n",
      "\n",
      "        accuracy                           0.71       246\n",
      "       macro avg       0.72      0.71      0.70       246\n",
      "    weighted avg       0.72      0.71      0.70       246\n",
      "\n"
     ]
    },
    {
     "name": "stderr",
     "output_type": "stream",
     "text": [
      "Training Epochs:  52%|█████▏    | 1289/2500 [00:26<00:22, 53.06it/s]"
     ]
    },
    {
     "name": "stdout",
     "output_type": "stream",
     "text": [
      "Epoch 1280/2500, Loss: 0.0580\n",
      "Test Accuracy at Epoch 1280: 71.54%\n",
      "Test F1-score at Epoch 1280: 0.6818\n",
      "Classification Report at Epoch 1280:\n",
      "                  precision    recall  f1-score   support\n",
      "\n",
      "    infringement       0.68      0.82      0.74       123\n",
      "non_infringement       0.77      0.61      0.68       123\n",
      "\n",
      "        accuracy                           0.72       246\n",
      "       macro avg       0.73      0.72      0.71       246\n",
      "    weighted avg       0.73      0.72      0.71       246\n",
      "\n",
      "Epoch 1290/2500, Loss: 0.0582\n",
      "Test Accuracy at Epoch 1290: 71.95%\n",
      "Test F1-score at Epoch 1290: 0.6878\n",
      "Classification Report at Epoch 1290:\n",
      "                  precision    recall  f1-score   support\n",
      "\n",
      "    infringement       0.68      0.82      0.75       123\n",
      "non_infringement       0.78      0.62      0.69       123\n",
      "\n",
      "        accuracy                           0.72       246\n",
      "       macro avg       0.73      0.72      0.72       246\n",
      "    weighted avg       0.73      0.72      0.72       246\n",
      "\n"
     ]
    },
    {
     "name": "stderr",
     "output_type": "stream",
     "text": [
      "Training Epochs:  52%|█████▏    | 1308/2500 [00:27<00:22, 52.57it/s]"
     ]
    },
    {
     "name": "stdout",
     "output_type": "stream",
     "text": [
      "Epoch 1300/2500, Loss: 0.0581\n",
      "Test Accuracy at Epoch 1300: 71.95%\n",
      "Test F1-score at Epoch 1300: 0.6878\n",
      "Classification Report at Epoch 1300:\n",
      "                  precision    recall  f1-score   support\n",
      "\n",
      "    infringement       0.68      0.82      0.75       123\n",
      "non_infringement       0.78      0.62      0.69       123\n",
      "\n",
      "        accuracy                           0.72       246\n",
      "       macro avg       0.73      0.72      0.72       246\n",
      "    weighted avg       0.73      0.72      0.72       246\n",
      "\n",
      "Epoch 1310/2500, Loss: 0.0590\n",
      "Test Accuracy at Epoch 1310: 71.54%\n",
      "Test F1-score at Epoch 1310: 0.6875\n",
      "Classification Report at Epoch 1310:\n",
      "                  precision    recall  f1-score   support\n",
      "\n",
      "    infringement       0.68      0.80      0.74       123\n",
      "non_infringement       0.76      0.63      0.69       123\n",
      "\n",
      "        accuracy                           0.72       246\n",
      "       macro avg       0.72      0.72      0.71       246\n",
      "    weighted avg       0.72      0.72      0.71       246\n",
      "\n"
     ]
    },
    {
     "name": "stderr",
     "output_type": "stream",
     "text": [
      "Training Epochs:  53%|█████▎    | 1327/2500 [00:27<00:22, 51.14it/s]"
     ]
    },
    {
     "name": "stdout",
     "output_type": "stream",
     "text": [
      "Epoch 1320/2500, Loss: 0.0586\n",
      "Test Accuracy at Epoch 1320: 71.54%\n",
      "Test F1-score at Epoch 1320: 0.6875\n",
      "Classification Report at Epoch 1320:\n",
      "                  precision    recall  f1-score   support\n",
      "\n",
      "    infringement       0.68      0.80      0.74       123\n",
      "non_infringement       0.76      0.63      0.69       123\n",
      "\n",
      "        accuracy                           0.72       246\n",
      "       macro avg       0.72      0.72      0.71       246\n",
      "    weighted avg       0.72      0.72      0.71       246\n",
      "\n",
      "Epoch 1330/2500, Loss: 0.0585\n",
      "Test Accuracy at Epoch 1330: 71.95%\n",
      "Test F1-score at Epoch 1330: 0.6878\n",
      "Classification Report at Epoch 1330:\n",
      "                  precision    recall  f1-score   support\n",
      "\n",
      "    infringement       0.68      0.82      0.75       123\n",
      "non_infringement       0.78      0.62      0.69       123\n",
      "\n",
      "        accuracy                           0.72       246\n",
      "       macro avg       0.73      0.72      0.72       246\n",
      "    weighted avg       0.73      0.72      0.72       246\n",
      "\n"
     ]
    },
    {
     "name": "stderr",
     "output_type": "stream",
     "text": [
      "Training Epochs:  54%|█████▍    | 1346/2500 [00:28<00:21, 52.89it/s]"
     ]
    },
    {
     "name": "stdout",
     "output_type": "stream",
     "text": [
      "Epoch 1340/2500, Loss: 0.0591\n",
      "Test Accuracy at Epoch 1340: 71.54%\n",
      "Test F1-score at Epoch 1340: 0.6875\n",
      "Classification Report at Epoch 1340:\n",
      "                  precision    recall  f1-score   support\n",
      "\n",
      "    infringement       0.68      0.80      0.74       123\n",
      "non_infringement       0.76      0.63      0.69       123\n",
      "\n",
      "        accuracy                           0.72       246\n",
      "       macro avg       0.72      0.72      0.71       246\n",
      "    weighted avg       0.72      0.72      0.71       246\n",
      "\n",
      "Epoch 1350/2500, Loss: 0.0595\n",
      "Test Accuracy at Epoch 1350: 72.76%\n",
      "Test F1-score at Epoch 1350: 0.7048\n",
      "Classification Report at Epoch 1350:\n",
      "                  precision    recall  f1-score   support\n",
      "\n",
      "    infringement       0.70      0.80      0.75       123\n",
      "non_infringement       0.77      0.65      0.70       123\n",
      "\n",
      "        accuracy                           0.73       246\n",
      "       macro avg       0.73      0.73      0.73       246\n",
      "    weighted avg       0.73      0.73      0.73       246\n",
      "\n"
     ]
    },
    {
     "name": "stderr",
     "output_type": "stream",
     "text": [
      "Training Epochs:  55%|█████▍    | 1367/2500 [00:28<00:20, 54.77it/s]"
     ]
    },
    {
     "name": "stdout",
     "output_type": "stream",
     "text": [
      "Epoch 1360/2500, Loss: 0.0580\n",
      "Test Accuracy at Epoch 1360: 71.54%\n",
      "Test F1-score at Epoch 1360: 0.6818\n",
      "Classification Report at Epoch 1360:\n",
      "                  precision    recall  f1-score   support\n",
      "\n",
      "    infringement       0.68      0.82      0.74       123\n",
      "non_infringement       0.77      0.61      0.68       123\n",
      "\n",
      "        accuracy                           0.72       246\n",
      "       macro avg       0.73      0.72      0.71       246\n",
      "    weighted avg       0.73      0.72      0.71       246\n",
      "\n",
      "Epoch 1370/2500, Loss: 0.0592\n",
      "Test Accuracy at Epoch 1370: 71.54%\n",
      "Test F1-score at Epoch 1370: 0.6875\n",
      "Classification Report at Epoch 1370:\n",
      "                  precision    recall  f1-score   support\n",
      "\n",
      "    infringement       0.68      0.80      0.74       123\n",
      "non_infringement       0.76      0.63      0.69       123\n",
      "\n",
      "        accuracy                           0.72       246\n",
      "       macro avg       0.72      0.72      0.71       246\n",
      "    weighted avg       0.72      0.72      0.71       246\n",
      "\n"
     ]
    },
    {
     "name": "stderr",
     "output_type": "stream",
     "text": [
      "Training Epochs:  55%|█████▌    | 1387/2500 [00:28<00:20, 53.98it/s]"
     ]
    },
    {
     "name": "stdout",
     "output_type": "stream",
     "text": [
      "Epoch 1380/2500, Loss: 0.0602\n",
      "Test Accuracy at Epoch 1380: 72.76%\n",
      "Test F1-score at Epoch 1380: 0.7048\n",
      "Classification Report at Epoch 1380:\n",
      "                  precision    recall  f1-score   support\n",
      "\n",
      "    infringement       0.70      0.80      0.75       123\n",
      "non_infringement       0.77      0.65      0.70       123\n",
      "\n",
      "        accuracy                           0.73       246\n",
      "       macro avg       0.73      0.73      0.73       246\n",
      "    weighted avg       0.73      0.73      0.73       246\n",
      "\n"
     ]
    },
    {
     "name": "stderr",
     "output_type": "stream",
     "text": [
      "Training Epochs:  56%|█████▌    | 1399/2500 [00:29<00:20, 53.42it/s]"
     ]
    },
    {
     "name": "stdout",
     "output_type": "stream",
     "text": [
      "Epoch 1390/2500, Loss: 0.0580\n",
      "Test Accuracy at Epoch 1390: 70.73%\n",
      "Test F1-score at Epoch 1390: 0.6697\n",
      "Classification Report at Epoch 1390:\n",
      "                  precision    recall  f1-score   support\n",
      "\n",
      "    infringement       0.67      0.82      0.74       123\n",
      "non_infringement       0.77      0.59      0.67       123\n",
      "\n",
      "        accuracy                           0.71       246\n",
      "       macro avg       0.72      0.71      0.70       246\n",
      "    weighted avg       0.72      0.71      0.70       246\n",
      "\n",
      "Epoch 1400/2500, Loss: 0.0610\n"
     ]
    },
    {
     "name": "stderr",
     "output_type": "stream",
     "text": [
      "Training Epochs:  56%|█████▌    | 1405/2500 [00:29<00:24, 45.52it/s]"
     ]
    },
    {
     "name": "stdout",
     "output_type": "stream",
     "text": [
      "Test Accuracy at Epoch 1400: 69.92%\n",
      "Test F1-score at Epoch 1400: 0.6574\n",
      "Classification Report at Epoch 1400:\n",
      "                  precision    recall  f1-score   support\n",
      "\n",
      "    infringement       0.66      0.82      0.73       123\n",
      "non_infringement       0.76      0.58      0.66       123\n",
      "\n",
      "        accuracy                           0.70       246\n",
      "       macro avg       0.71      0.70      0.69       246\n",
      "    weighted avg       0.71      0.70      0.69       246\n",
      "\n",
      "Epoch 1410/2500, Loss: 0.0595\n",
      "Test Accuracy at Epoch 1410: 72.76%\n",
      "Test F1-score at Epoch 1410: 0.7048\n",
      "Classification Report at Epoch 1410:\n",
      "                  precision    recall  f1-score   support\n",
      "\n",
      "    infringement       0.70      0.80      0.75       123\n",
      "non_infringement       0.77      0.65      0.70       123\n",
      "\n",
      "        accuracy                           0.73       246\n",
      "       macro avg       0.73      0.73      0.73       246\n",
      "    weighted avg       0.73      0.73      0.73       246\n",
      "\n"
     ]
    },
    {
     "name": "stderr",
     "output_type": "stream",
     "text": [
      "Training Epochs:  57%|█████▋    | 1429/2500 [00:29<00:22, 48.15it/s]"
     ]
    },
    {
     "name": "stdout",
     "output_type": "stream",
     "text": [
      "Epoch 1420/2500, Loss: 0.0626\n",
      "Test Accuracy at Epoch 1420: 69.92%\n",
      "Test F1-score at Epoch 1420: 0.6574\n",
      "Classification Report at Epoch 1420:\n",
      "                  precision    recall  f1-score   support\n",
      "\n",
      "    infringement       0.66      0.82      0.73       123\n",
      "non_infringement       0.76      0.58      0.66       123\n",
      "\n",
      "        accuracy                           0.70       246\n",
      "       macro avg       0.71      0.70      0.69       246\n",
      "    weighted avg       0.71      0.70      0.69       246\n",
      "\n",
      "Epoch 1430/2500, Loss: 0.0586\n",
      "Test Accuracy at Epoch 1430: 70.73%\n",
      "Test F1-score at Epoch 1430: 0.6697\n",
      "Classification Report at Epoch 1430:\n",
      "                  precision    recall  f1-score   support\n",
      "\n",
      "    infringement       0.67      0.82      0.74       123\n",
      "non_infringement       0.77      0.59      0.67       123\n",
      "\n",
      "        accuracy                           0.71       246\n",
      "       macro avg       0.72      0.71      0.70       246\n",
      "    weighted avg       0.72      0.71      0.70       246\n",
      "\n"
     ]
    },
    {
     "name": "stderr",
     "output_type": "stream",
     "text": [
      "Training Epochs:  58%|█████▊    | 1447/2500 [00:30<00:21, 47.94it/s]"
     ]
    },
    {
     "name": "stdout",
     "output_type": "stream",
     "text": [
      "Epoch 1440/2500, Loss: 0.0630\n",
      "Test Accuracy at Epoch 1440: 72.76%\n",
      "Test F1-score at Epoch 1440: 0.7048\n",
      "Classification Report at Epoch 1440:\n",
      "                  precision    recall  f1-score   support\n",
      "\n",
      "    infringement       0.70      0.80      0.75       123\n",
      "non_infringement       0.77      0.65      0.70       123\n",
      "\n",
      "        accuracy                           0.73       246\n",
      "       macro avg       0.73      0.73      0.73       246\n",
      "    weighted avg       0.73      0.73      0.73       246\n",
      "\n",
      "Epoch 1450/2500, Loss: 0.0591\n",
      "Test Accuracy at Epoch 1450: 73.58%\n",
      "Test F1-score at Epoch 1450: 0.7162\n",
      "Classification Report at Epoch 1450:\n",
      "                  precision    recall  f1-score   support\n",
      "\n",
      "    infringement       0.71      0.80      0.75       123\n",
      "non_infringement       0.77      0.67      0.72       123\n",
      "\n",
      "        accuracy                           0.74       246\n",
      "       macro avg       0.74      0.74      0.73       246\n",
      "    weighted avg       0.74      0.74      0.73       246\n",
      "\n"
     ]
    },
    {
     "name": "stderr",
     "output_type": "stream",
     "text": [
      "Training Epochs:  59%|█████▉    | 1470/2500 [00:30<00:21, 48.71it/s]"
     ]
    },
    {
     "name": "stdout",
     "output_type": "stream",
     "text": [
      "Epoch 1460/2500, Loss: 0.0610\n",
      "Test Accuracy at Epoch 1460: 74.39%\n",
      "Test F1-score at Epoch 1460: 0.7273\n",
      "Classification Report at Epoch 1460:\n",
      "                  precision    recall  f1-score   support\n",
      "\n",
      "    infringement       0.72      0.80      0.76       123\n",
      "non_infringement       0.78      0.68      0.73       123\n",
      "\n",
      "        accuracy                           0.74       246\n",
      "       macro avg       0.75      0.74      0.74       246\n",
      "    weighted avg       0.75      0.74      0.74       246\n",
      "\n",
      "Epoch 1470/2500, Loss: 0.0600\n",
      "Test Accuracy at Epoch 1470: 73.58%\n",
      "Test F1-score at Epoch 1470: 0.7162\n",
      "Classification Report at Epoch 1470:\n",
      "                  precision    recall  f1-score   support\n",
      "\n",
      "    infringement       0.71      0.80      0.75       123\n",
      "non_infringement       0.77      0.67      0.72       123\n",
      "\n",
      "        accuracy                           0.74       246\n",
      "       macro avg       0.74      0.74      0.73       246\n",
      "    weighted avg       0.74      0.74      0.73       246\n",
      "\n"
     ]
    },
    {
     "name": "stderr",
     "output_type": "stream",
     "text": [
      "Training Epochs:  60%|█████▉    | 1488/2500 [00:30<00:19, 50.77it/s]"
     ]
    },
    {
     "name": "stdout",
     "output_type": "stream",
     "text": [
      "Epoch 1480/2500, Loss: 0.0582\n",
      "Test Accuracy at Epoch 1480: 72.76%\n",
      "Test F1-score at Epoch 1480: 0.6996\n",
      "Classification Report at Epoch 1480:\n",
      "                  precision    recall  f1-score   support\n",
      "\n",
      "    infringement       0.69      0.82      0.75       123\n",
      "non_infringement       0.78      0.63      0.70       123\n",
      "\n",
      "        accuracy                           0.73       246\n",
      "       macro avg       0.74      0.73      0.73       246\n",
      "    weighted avg       0.74      0.73      0.73       246\n",
      "\n",
      "Epoch 1490/2500, Loss: 0.0582\n",
      "Test Accuracy at Epoch 1490: 71.54%\n",
      "Test F1-score at Epoch 1490: 0.6818\n",
      "Classification Report at Epoch 1490:\n",
      "                  precision    recall  f1-score   support\n",
      "\n",
      "    infringement       0.68      0.82      0.74       123\n",
      "non_infringement       0.77      0.61      0.68       123\n",
      "\n",
      "        accuracy                           0.72       246\n",
      "       macro avg       0.73      0.72      0.71       246\n",
      "    weighted avg       0.73      0.72      0.71       246\n",
      "\n"
     ]
    },
    {
     "name": "stderr",
     "output_type": "stream",
     "text": [
      "Training Epochs:  60%|██████    | 1507/2500 [00:31<00:19, 50.89it/s]"
     ]
    },
    {
     "name": "stdout",
     "output_type": "stream",
     "text": [
      "Epoch 1500/2500, Loss: 0.0590\n",
      "Test Accuracy at Epoch 1500: 70.33%\n",
      "Test F1-score at Epoch 1500: 0.6636\n",
      "Classification Report at Epoch 1500:\n",
      "                  precision    recall  f1-score   support\n",
      "\n",
      "    infringement       0.66      0.82      0.73       123\n",
      "non_infringement       0.77      0.59      0.66       123\n",
      "\n",
      "        accuracy                           0.70       246\n",
      "       macro avg       0.72      0.70      0.70       246\n",
      "    weighted avg       0.72      0.70      0.70       246\n",
      "\n",
      "Epoch 1510/2500, Loss: 0.0597\n",
      "Test Accuracy at Epoch 1510: 70.33%\n",
      "Test F1-score at Epoch 1510: 0.6636\n",
      "Classification Report at Epoch 1510:\n",
      "                  precision    recall  f1-score   support\n",
      "\n",
      "    infringement       0.66      0.82      0.73       123\n",
      "non_infringement       0.77      0.59      0.66       123\n",
      "\n",
      "        accuracy                           0.70       246\n",
      "       macro avg       0.72      0.70      0.70       246\n",
      "    weighted avg       0.72      0.70      0.70       246\n",
      "\n"
     ]
    },
    {
     "name": "stderr",
     "output_type": "stream",
     "text": [
      "Training Epochs:  61%|██████    | 1525/2500 [00:31<00:19, 49.85it/s]"
     ]
    },
    {
     "name": "stdout",
     "output_type": "stream",
     "text": [
      "Epoch 1520/2500, Loss: 0.0600\n",
      "Test Accuracy at Epoch 1520: 70.33%\n",
      "Test F1-score at Epoch 1520: 0.6636\n",
      "Classification Report at Epoch 1520:\n",
      "                  precision    recall  f1-score   support\n",
      "\n",
      "    infringement       0.66      0.82      0.73       123\n",
      "non_infringement       0.77      0.59      0.66       123\n",
      "\n",
      "        accuracy                           0.70       246\n",
      "       macro avg       0.72      0.70      0.70       246\n",
      "    weighted avg       0.72      0.70      0.70       246\n",
      "\n",
      "Epoch 1530/2500, Loss: 0.0601\n",
      "Test Accuracy at Epoch 1530: 70.33%\n",
      "Test F1-score at Epoch 1530: 0.6636\n",
      "Classification Report at Epoch 1530:\n",
      "                  precision    recall  f1-score   support\n",
      "\n",
      "    infringement       0.66      0.82      0.73       123\n",
      "non_infringement       0.77      0.59      0.66       123\n",
      "\n",
      "        accuracy                           0.70       246\n",
      "       macro avg       0.72      0.70      0.70       246\n",
      "    weighted avg       0.72      0.70      0.70       246\n",
      "\n"
     ]
    },
    {
     "name": "stderr",
     "output_type": "stream",
     "text": [
      "Training Epochs:  62%|██████▏   | 1548/2500 [00:32<00:18, 50.62it/s]"
     ]
    },
    {
     "name": "stdout",
     "output_type": "stream",
     "text": [
      "Epoch 1540/2500, Loss: 0.0601\n",
      "Test Accuracy at Epoch 1540: 69.92%\n",
      "Test F1-score at Epoch 1540: 0.6574\n",
      "Classification Report at Epoch 1540:\n",
      "                  precision    recall  f1-score   support\n",
      "\n",
      "    infringement       0.66      0.82      0.73       123\n",
      "non_infringement       0.76      0.58      0.66       123\n",
      "\n",
      "        accuracy                           0.70       246\n",
      "       macro avg       0.71      0.70      0.69       246\n",
      "    weighted avg       0.71      0.70      0.69       246\n",
      "\n",
      "Epoch 1550/2500, Loss: 0.0599\n",
      "Test Accuracy at Epoch 1550: 69.92%\n",
      "Test F1-score at Epoch 1550: 0.6574\n",
      "Classification Report at Epoch 1550:\n",
      "                  precision    recall  f1-score   support\n",
      "\n",
      "    infringement       0.66      0.82      0.73       123\n",
      "non_infringement       0.76      0.58      0.66       123\n",
      "\n",
      "        accuracy                           0.70       246\n",
      "       macro avg       0.71      0.70      0.69       246\n",
      "    weighted avg       0.71      0.70      0.69       246\n",
      "\n"
     ]
    },
    {
     "name": "stderr",
     "output_type": "stream",
     "text": [
      "Training Epochs:  63%|██████▎   | 1566/2500 [00:32<00:18, 49.98it/s]"
     ]
    },
    {
     "name": "stdout",
     "output_type": "stream",
     "text": [
      "Epoch 1560/2500, Loss: 0.0591\n",
      "Test Accuracy at Epoch 1560: 69.92%\n",
      "Test F1-score at Epoch 1560: 0.6574\n",
      "Classification Report at Epoch 1560:\n",
      "                  precision    recall  f1-score   support\n",
      "\n",
      "    infringement       0.66      0.82      0.73       123\n",
      "non_infringement       0.76      0.58      0.66       123\n",
      "\n",
      "        accuracy                           0.70       246\n",
      "       macro avg       0.71      0.70      0.69       246\n",
      "    weighted avg       0.71      0.70      0.69       246\n",
      "\n",
      "Epoch 1570/2500, Loss: 0.0582\n",
      "Test Accuracy at Epoch 1570: 69.92%\n",
      "Test F1-score at Epoch 1570: 0.6574\n",
      "Classification Report at Epoch 1570:\n",
      "                  precision    recall  f1-score   support\n",
      "\n",
      "    infringement       0.66      0.82      0.73       123\n",
      "non_infringement       0.76      0.58      0.66       123\n",
      "\n",
      "        accuracy                           0.70       246\n",
      "       macro avg       0.71      0.70      0.69       246\n",
      "    weighted avg       0.71      0.70      0.69       246\n",
      "\n"
     ]
    },
    {
     "name": "stderr",
     "output_type": "stream",
     "text": [
      "Training Epochs:  64%|██████▎   | 1590/2500 [00:32<00:17, 51.19it/s]"
     ]
    },
    {
     "name": "stdout",
     "output_type": "stream",
     "text": [
      "Epoch 1580/2500, Loss: 0.0580\n",
      "Test Accuracy at Epoch 1580: 69.92%\n",
      "Test F1-score at Epoch 1580: 0.6574\n",
      "Classification Report at Epoch 1580:\n",
      "                  precision    recall  f1-score   support\n",
      "\n",
      "    infringement       0.66      0.82      0.73       123\n",
      "non_infringement       0.76      0.58      0.66       123\n",
      "\n",
      "        accuracy                           0.70       246\n",
      "       macro avg       0.71      0.70      0.69       246\n",
      "    weighted avg       0.71      0.70      0.69       246\n",
      "\n",
      "Epoch 1590/2500, Loss: 0.0583\n",
      "Test Accuracy at Epoch 1590: 70.33%\n",
      "Test F1-score at Epoch 1590: 0.6636\n",
      "Classification Report at Epoch 1590:\n",
      "                  precision    recall  f1-score   support\n",
      "\n",
      "    infringement       0.66      0.82      0.73       123\n",
      "non_infringement       0.77      0.59      0.66       123\n",
      "\n",
      "        accuracy                           0.70       246\n",
      "       macro avg       0.72      0.70      0.70       246\n",
      "    weighted avg       0.72      0.70      0.70       246\n",
      "\n"
     ]
    },
    {
     "name": "stderr",
     "output_type": "stream",
     "text": [
      "Training Epochs:  64%|██████▍   | 1609/2500 [00:33<00:16, 53.50it/s]"
     ]
    },
    {
     "name": "stdout",
     "output_type": "stream",
     "text": [
      "Epoch 1600/2500, Loss: 0.0589\n",
      "Test Accuracy at Epoch 1600: 70.73%\n",
      "Test F1-score at Epoch 1600: 0.6697\n",
      "Classification Report at Epoch 1600:\n",
      "                  precision    recall  f1-score   support\n",
      "\n",
      "    infringement       0.67      0.82      0.74       123\n",
      "non_infringement       0.77      0.59      0.67       123\n",
      "\n",
      "        accuracy                           0.71       246\n",
      "       macro avg       0.72      0.71      0.70       246\n",
      "    weighted avg       0.72      0.71      0.70       246\n",
      "\n",
      "Epoch 1610/2500, Loss: 0.0595\n",
      "Test Accuracy at Epoch 1610: 71.54%\n",
      "Test F1-score at Epoch 1610: 0.6875\n",
      "Classification Report at Epoch 1610:\n",
      "                  precision    recall  f1-score   support\n",
      "\n",
      "    infringement       0.68      0.80      0.74       123\n",
      "non_infringement       0.76      0.63      0.69       123\n",
      "\n",
      "        accuracy                           0.72       246\n",
      "       macro avg       0.72      0.72      0.71       246\n",
      "    weighted avg       0.72      0.72      0.71       246\n",
      "\n"
     ]
    },
    {
     "name": "stderr",
     "output_type": "stream",
     "text": [
      "Training Epochs:  65%|██████▌   | 1628/2500 [00:33<00:16, 52.64it/s]"
     ]
    },
    {
     "name": "stdout",
     "output_type": "stream",
     "text": [
      "Epoch 1620/2500, Loss: 0.0598\n",
      "Test Accuracy at Epoch 1620: 70.33%\n",
      "Test F1-score at Epoch 1620: 0.6812\n",
      "Classification Report at Epoch 1620:\n",
      "                  precision    recall  f1-score   support\n",
      "\n",
      "    infringement       0.68      0.77      0.72       123\n",
      "non_infringement       0.74      0.63      0.68       123\n",
      "\n",
      "        accuracy                           0.70       246\n",
      "       macro avg       0.71      0.70      0.70       246\n",
      "    weighted avg       0.71      0.70      0.70       246\n",
      "\n",
      "Epoch 1630/2500, Loss: 0.0597\n",
      "Test Accuracy at Epoch 1630: 70.33%\n",
      "Test F1-score at Epoch 1630: 0.6812\n",
      "Classification Report at Epoch 1630:\n",
      "                  precision    recall  f1-score   support\n",
      "\n",
      "    infringement       0.68      0.77      0.72       123\n",
      "non_infringement       0.74      0.63      0.68       123\n",
      "\n",
      "        accuracy                           0.70       246\n",
      "       macro avg       0.71      0.70      0.70       246\n",
      "    weighted avg       0.71      0.70      0.70       246\n",
      "\n"
     ]
    },
    {
     "name": "stderr",
     "output_type": "stream",
     "text": [
      "Training Epochs:  66%|██████▌   | 1646/2500 [00:34<00:17, 50.18it/s]"
     ]
    },
    {
     "name": "stdout",
     "output_type": "stream",
     "text": [
      "Epoch 1640/2500, Loss: 0.0592\n",
      "Test Accuracy at Epoch 1640: 70.33%\n",
      "Test F1-score at Epoch 1640: 0.6812\n",
      "Classification Report at Epoch 1640:\n",
      "                  precision    recall  f1-score   support\n",
      "\n",
      "    infringement       0.68      0.77      0.72       123\n",
      "non_infringement       0.74      0.63      0.68       123\n",
      "\n",
      "        accuracy                           0.70       246\n",
      "       macro avg       0.71      0.70      0.70       246\n",
      "    weighted avg       0.71      0.70      0.70       246\n",
      "\n",
      "Epoch 1650/2500, Loss: 0.0586\n",
      "Test Accuracy at Epoch 1650: 70.33%\n",
      "Test F1-score at Epoch 1650: 0.6812\n",
      "Classification Report at Epoch 1650:\n",
      "                  precision    recall  f1-score   support\n",
      "\n",
      "    infringement       0.68      0.77      0.72       123\n",
      "non_infringement       0.74      0.63      0.68       123\n",
      "\n",
      "        accuracy                           0.70       246\n",
      "       macro avg       0.71      0.70      0.70       246\n",
      "    weighted avg       0.71      0.70      0.70       246\n",
      "\n"
     ]
    },
    {
     "name": "stderr",
     "output_type": "stream",
     "text": [
      "Training Epochs:  67%|██████▋   | 1671/2500 [00:34<00:15, 53.18it/s]"
     ]
    },
    {
     "name": "stdout",
     "output_type": "stream",
     "text": [
      "Epoch 1660/2500, Loss: 0.0581\n",
      "Test Accuracy at Epoch 1660: 70.73%\n",
      "Test F1-score at Epoch 1660: 0.6814\n",
      "Classification Report at Epoch 1660:\n",
      "                  precision    recall  f1-score   support\n",
      "\n",
      "    infringement       0.68      0.79      0.73       123\n",
      "non_infringement       0.75      0.63      0.68       123\n",
      "\n",
      "        accuracy                           0.71       246\n",
      "       macro avg       0.71      0.71      0.71       246\n",
      "    weighted avg       0.71      0.71      0.71       246\n",
      "\n",
      "Epoch 1670/2500, Loss: 0.0580\n",
      "Test Accuracy at Epoch 1670: 69.92%\n",
      "Test F1-score at Epoch 1670: 0.6696\n",
      "Classification Report at Epoch 1670:\n",
      "                  precision    recall  f1-score   support\n",
      "\n",
      "    infringement       0.67      0.79      0.72       123\n",
      "non_infringement       0.74      0.61      0.67       123\n",
      "\n",
      "        accuracy                           0.70       246\n",
      "       macro avg       0.71      0.70      0.70       246\n",
      "    weighted avg       0.71      0.70      0.70       246\n",
      "\n"
     ]
    },
    {
     "name": "stderr",
     "output_type": "stream",
     "text": [
      "Training Epochs:  68%|██████▊   | 1690/2500 [00:34<00:15, 52.98it/s]"
     ]
    },
    {
     "name": "stdout",
     "output_type": "stream",
     "text": [
      "Epoch 1680/2500, Loss: 0.0583\n",
      "Test Accuracy at Epoch 1680: 69.92%\n",
      "Test F1-score at Epoch 1680: 0.6696\n",
      "Classification Report at Epoch 1680:\n",
      "                  precision    recall  f1-score   support\n",
      "\n",
      "    infringement       0.67      0.79      0.72       123\n",
      "non_infringement       0.74      0.61      0.67       123\n",
      "\n",
      "        accuracy                           0.70       246\n",
      "       macro avg       0.71      0.70      0.70       246\n",
      "    weighted avg       0.71      0.70      0.70       246\n",
      "\n",
      "Epoch 1690/2500, Loss: 0.0588\n",
      "Test Accuracy at Epoch 1690: 69.11%\n",
      "Test F1-score at Epoch 1690: 0.6577\n",
      "Classification Report at Epoch 1690:\n",
      "                  precision    recall  f1-score   support\n",
      "\n",
      "    infringement       0.66      0.79      0.72       123\n",
      "non_infringement       0.74      0.59      0.66       123\n",
      "\n",
      "        accuracy                           0.69       246\n",
      "       macro avg       0.70      0.69      0.69       246\n",
      "    weighted avg       0.70      0.69      0.69       246\n",
      "\n"
     ]
    },
    {
     "name": "stderr",
     "output_type": "stream",
     "text": [
      "Training Epochs:  68%|██████▊   | 1701/2500 [00:35<00:16, 47.09it/s]"
     ]
    },
    {
     "name": "stdout",
     "output_type": "stream",
     "text": [
      "Epoch 1700/2500, Loss: 0.0591\n",
      "Test Accuracy at Epoch 1700: 68.70%\n",
      "Test F1-score at Epoch 1700: 0.6516\n",
      "Classification Report at Epoch 1700:\n",
      "                  precision    recall  f1-score   support\n",
      "\n",
      "    infringement       0.66      0.79      0.72       123\n",
      "non_infringement       0.73      0.59      0.65       123\n",
      "\n",
      "        accuracy                           0.69       246\n",
      "       macro avg       0.70      0.69      0.68       246\n",
      "    weighted avg       0.70      0.69      0.68       246\n",
      "\n"
     ]
    },
    {
     "name": "stderr",
     "output_type": "stream",
     "text": [
      "Training Epochs:  69%|██████▉   | 1719/2500 [00:35<00:17, 44.95it/s]"
     ]
    },
    {
     "name": "stdout",
     "output_type": "stream",
     "text": [
      "Epoch 1710/2500, Loss: 0.0592\n",
      "Test Accuracy at Epoch 1710: 69.51%\n",
      "Test F1-score at Epoch 1710: 0.6575\n",
      "Classification Report at Epoch 1710:\n",
      "                  precision    recall  f1-score   support\n",
      "\n",
      "    infringement       0.66      0.80      0.73       123\n",
      "non_infringement       0.75      0.59      0.66       123\n",
      "\n",
      "        accuracy                           0.70       246\n",
      "       macro avg       0.71      0.70      0.69       246\n",
      "    weighted avg       0.71      0.70      0.69       246\n",
      "\n",
      "Epoch 1720/2500, Loss: 0.0594\n",
      "Test Accuracy at Epoch 1720: 70.33%\n",
      "Test F1-score at Epoch 1720: 0.6636\n",
      "Classification Report at Epoch 1720:\n",
      "                  precision    recall  f1-score   support\n",
      "\n",
      "    infringement       0.66      0.82      0.73       123\n",
      "non_infringement       0.77      0.59      0.66       123\n",
      "\n",
      "        accuracy                           0.70       246\n",
      "       macro avg       0.72      0.70      0.70       246\n",
      "    weighted avg       0.72      0.70      0.70       246\n",
      "\n"
     ]
    },
    {
     "name": "stderr",
     "output_type": "stream",
     "text": [
      "Training Epochs:  70%|██████▉   | 1738/2500 [00:36<00:15, 49.47it/s]"
     ]
    },
    {
     "name": "stdout",
     "output_type": "stream",
     "text": [
      "Epoch 1730/2500, Loss: 0.0594\n",
      "Test Accuracy at Epoch 1730: 70.33%\n",
      "Test F1-score at Epoch 1730: 0.6636\n",
      "Classification Report at Epoch 1730:\n",
      "                  precision    recall  f1-score   support\n",
      "\n",
      "    infringement       0.66      0.82      0.73       123\n",
      "non_infringement       0.77      0.59      0.66       123\n",
      "\n",
      "        accuracy                           0.70       246\n",
      "       macro avg       0.72      0.70      0.70       246\n",
      "    weighted avg       0.72      0.70      0.70       246\n",
      "\n",
      "Epoch 1740/2500, Loss: 0.0591\n",
      "Test Accuracy at Epoch 1740: 70.33%\n",
      "Test F1-score at Epoch 1740: 0.6636\n",
      "Classification Report at Epoch 1740:\n",
      "                  precision    recall  f1-score   support\n",
      "\n",
      "    infringement       0.66      0.82      0.73       123\n",
      "non_infringement       0.77      0.59      0.66       123\n",
      "\n",
      "        accuracy                           0.70       246\n",
      "       macro avg       0.72      0.70      0.70       246\n",
      "    weighted avg       0.72      0.70      0.70       246\n",
      "\n"
     ]
    },
    {
     "name": "stderr",
     "output_type": "stream",
     "text": [
      "Training Epochs:  70%|███████   | 1757/2500 [00:36<00:13, 54.02it/s]"
     ]
    },
    {
     "name": "stdout",
     "output_type": "stream",
     "text": [
      "Epoch 1750/2500, Loss: 0.0584\n",
      "Test Accuracy at Epoch 1750: 69.92%\n",
      "Test F1-score at Epoch 1750: 0.6574\n",
      "Classification Report at Epoch 1750:\n",
      "                  precision    recall  f1-score   support\n",
      "\n",
      "    infringement       0.66      0.82      0.73       123\n",
      "non_infringement       0.76      0.58      0.66       123\n",
      "\n",
      "        accuracy                           0.70       246\n",
      "       macro avg       0.71      0.70      0.69       246\n",
      "    weighted avg       0.71      0.70      0.69       246\n",
      "\n",
      "Epoch 1760/2500, Loss: 0.0580\n",
      "Test Accuracy at Epoch 1760: 70.33%\n",
      "Test F1-score at Epoch 1760: 0.6636\n",
      "Classification Report at Epoch 1760:\n",
      "                  precision    recall  f1-score   support\n",
      "\n",
      "    infringement       0.66      0.82      0.73       123\n",
      "non_infringement       0.77      0.59      0.66       123\n",
      "\n",
      "        accuracy                           0.70       246\n",
      "       macro avg       0.72      0.70      0.70       246\n",
      "    weighted avg       0.72      0.70      0.70       246\n",
      "\n"
     ]
    },
    {
     "name": "stderr",
     "output_type": "stream",
     "text": [
      "Training Epochs:  71%|███████   | 1777/2500 [00:36<00:13, 54.46it/s]"
     ]
    },
    {
     "name": "stdout",
     "output_type": "stream",
     "text": [
      "Epoch 1770/2500, Loss: 0.0582\n",
      "Test Accuracy at Epoch 1770: 69.51%\n",
      "Test F1-score at Epoch 1770: 0.6637\n",
      "Classification Report at Epoch 1770:\n",
      "                  precision    recall  f1-score   support\n",
      "\n",
      "    infringement       0.66      0.79      0.72       123\n",
      "non_infringement       0.74      0.60      0.66       123\n",
      "\n",
      "        accuracy                           0.70       246\n",
      "       macro avg       0.70      0.70      0.69       246\n",
      "    weighted avg       0.70      0.70      0.69       246\n",
      "\n",
      "Epoch 1780/2500, Loss: 0.0579\n",
      "Test Accuracy at Epoch 1780: 70.33%\n",
      "Test F1-score at Epoch 1780: 0.6636\n",
      "Classification Report at Epoch 1780:\n",
      "                  precision    recall  f1-score   support\n",
      "\n",
      "    infringement       0.66      0.82      0.73       123\n",
      "non_infringement       0.77      0.59      0.66       123\n",
      "\n",
      "        accuracy                           0.70       246\n",
      "       macro avg       0.72      0.70      0.70       246\n",
      "    weighted avg       0.72      0.70      0.70       246\n",
      "\n"
     ]
    },
    {
     "name": "stderr",
     "output_type": "stream",
     "text": [
      "Training Epochs:  72%|███████▏  | 1801/2500 [00:37<00:12, 53.99it/s]"
     ]
    },
    {
     "name": "stdout",
     "output_type": "stream",
     "text": [
      "Epoch 1790/2500, Loss: 0.0579\n",
      "Test Accuracy at Epoch 1790: 70.73%\n",
      "Test F1-score at Epoch 1790: 0.6697\n",
      "Classification Report at Epoch 1790:\n",
      "                  precision    recall  f1-score   support\n",
      "\n",
      "    infringement       0.67      0.82      0.74       123\n",
      "non_infringement       0.77      0.59      0.67       123\n",
      "\n",
      "        accuracy                           0.71       246\n",
      "       macro avg       0.72      0.71      0.70       246\n",
      "    weighted avg       0.72      0.71      0.70       246\n",
      "\n",
      "Epoch 1800/2500, Loss: 0.0579\n",
      "Test Accuracy at Epoch 1800: 70.33%\n",
      "Test F1-score at Epoch 1800: 0.6636\n",
      "Classification Report at Epoch 1800:\n",
      "                  precision    recall  f1-score   support\n",
      "\n",
      "    infringement       0.66      0.82      0.73       123\n",
      "non_infringement       0.77      0.59      0.66       123\n",
      "\n",
      "        accuracy                           0.70       246\n",
      "       macro avg       0.72      0.70      0.70       246\n",
      "    weighted avg       0.72      0.70      0.70       246\n",
      "\n"
     ]
    },
    {
     "name": "stderr",
     "output_type": "stream",
     "text": [
      "Training Epochs:  73%|███████▎  | 1820/2500 [00:37<00:13, 51.76it/s]"
     ]
    },
    {
     "name": "stdout",
     "output_type": "stream",
     "text": [
      "Epoch 1810/2500, Loss: 0.0579\n",
      "Test Accuracy at Epoch 1810: 70.73%\n",
      "Test F1-score at Epoch 1810: 0.6697\n",
      "Classification Report at Epoch 1810:\n",
      "                  precision    recall  f1-score   support\n",
      "\n",
      "    infringement       0.67      0.82      0.74       123\n",
      "non_infringement       0.77      0.59      0.67       123\n",
      "\n",
      "        accuracy                           0.71       246\n",
      "       macro avg       0.72      0.71      0.70       246\n",
      "    weighted avg       0.72      0.71      0.70       246\n",
      "\n",
      "Epoch 1820/2500, Loss: 0.0579\n",
      "Test Accuracy at Epoch 1820: 70.73%\n",
      "Test F1-score at Epoch 1820: 0.6697\n",
      "Classification Report at Epoch 1820:\n",
      "                  precision    recall  f1-score   support\n",
      "\n",
      "    infringement       0.67      0.82      0.74       123\n",
      "non_infringement       0.77      0.59      0.67       123\n",
      "\n",
      "        accuracy                           0.71       246\n",
      "       macro avg       0.72      0.71      0.70       246\n",
      "    weighted avg       0.72      0.71      0.70       246\n",
      "\n"
     ]
    },
    {
     "name": "stderr",
     "output_type": "stream",
     "text": [
      "Training Epochs:  74%|███████▎  | 1840/2500 [00:38<00:12, 52.00it/s]"
     ]
    },
    {
     "name": "stdout",
     "output_type": "stream",
     "text": [
      "Epoch 1830/2500, Loss: 0.0587\n",
      "Test Accuracy at Epoch 1830: 71.95%\n",
      "Test F1-score at Epoch 1830: 0.6933\n",
      "Classification Report at Epoch 1830:\n",
      "                  precision    recall  f1-score   support\n",
      "\n",
      "    infringement       0.69      0.80      0.74       123\n",
      "non_infringement       0.76      0.63      0.69       123\n",
      "\n",
      "        accuracy                           0.72       246\n",
      "       macro avg       0.73      0.72      0.72       246\n",
      "    weighted avg       0.73      0.72      0.72       246\n",
      "\n",
      "Epoch 1840/2500, Loss: 0.0582\n",
      "Test Accuracy at Epoch 1840: 70.33%\n",
      "Test F1-score at Epoch 1840: 0.6697\n",
      "Classification Report at Epoch 1840:\n",
      "                  precision    recall  f1-score   support\n",
      "\n",
      "    infringement       0.67      0.80      0.73       123\n",
      "non_infringement       0.76      0.60      0.67       123\n",
      "\n",
      "        accuracy                           0.70       246\n",
      "       macro avg       0.71      0.70      0.70       246\n",
      "    weighted avg       0.71      0.70      0.70       246\n",
      "\n"
     ]
    },
    {
     "name": "stderr",
     "output_type": "stream",
     "text": [
      "Training Epochs:  74%|███████▍  | 1853/2500 [00:38<00:13, 49.74it/s]"
     ]
    },
    {
     "name": "stdout",
     "output_type": "stream",
     "text": [
      "Epoch 1850/2500, Loss: 0.0584\n",
      "Test Accuracy at Epoch 1850: 70.33%\n",
      "Test F1-score at Epoch 1850: 0.6697\n",
      "Classification Report at Epoch 1850:\n",
      "                  precision    recall  f1-score   support\n",
      "\n",
      "    infringement       0.67      0.80      0.73       123\n",
      "non_infringement       0.76      0.60      0.67       123\n",
      "\n",
      "        accuracy                           0.70       246\n",
      "       macro avg       0.71      0.70      0.70       246\n",
      "    weighted avg       0.71      0.70      0.70       246\n",
      "\n"
     ]
    },
    {
     "name": "stderr",
     "output_type": "stream",
     "text": [
      "Training Epochs:  75%|███████▍  | 1867/2500 [00:38<00:11, 54.48it/s]"
     ]
    },
    {
     "name": "stdout",
     "output_type": "stream",
     "text": [
      "Epoch 1860/2500, Loss: 0.0594\n",
      "Test Accuracy at Epoch 1860: 71.95%\n",
      "Test F1-score at Epoch 1860: 0.6933\n",
      "Classification Report at Epoch 1860:\n",
      "                  precision    recall  f1-score   support\n",
      "\n",
      "    infringement       0.69      0.80      0.74       123\n",
      "non_infringement       0.76      0.63      0.69       123\n",
      "\n",
      "        accuracy                           0.72       246\n",
      "       macro avg       0.73      0.72      0.72       246\n",
      "    weighted avg       0.73      0.72      0.72       246\n",
      "\n",
      "Epoch 1870/2500, Loss: 0.0585\n",
      "Test Accuracy at Epoch 1870: 71.54%\n",
      "Test F1-score at Epoch 1870: 0.6875\n",
      "Classification Report at Epoch 1870:\n",
      "                  precision    recall  f1-score   support\n",
      "\n",
      "    infringement       0.68      0.80      0.74       123\n",
      "non_infringement       0.76      0.63      0.69       123\n",
      "\n",
      "        accuracy                           0.72       246\n",
      "       macro avg       0.72      0.72      0.71       246\n",
      "    weighted avg       0.72      0.72      0.71       246\n",
      "\n"
     ]
    },
    {
     "name": "stderr",
     "output_type": "stream",
     "text": [
      "Training Epochs:  75%|███████▌  | 1885/2500 [00:38<00:11, 52.08it/s]"
     ]
    },
    {
     "name": "stdout",
     "output_type": "stream",
     "text": [
      "Epoch 1880/2500, Loss: 0.0581\n",
      "Test Accuracy at Epoch 1880: 71.54%\n",
      "Test F1-score at Epoch 1880: 0.6818\n",
      "Classification Report at Epoch 1880:\n",
      "                  precision    recall  f1-score   support\n",
      "\n",
      "    infringement       0.68      0.82      0.74       123\n",
      "non_infringement       0.77      0.61      0.68       123\n",
      "\n",
      "        accuracy                           0.72       246\n",
      "       macro avg       0.73      0.72      0.71       246\n",
      "    weighted avg       0.73      0.72      0.71       246\n",
      "\n",
      "Epoch 1890/2500, Loss: 0.0586\n",
      "Test Accuracy at Epoch 1890: 71.14%\n",
      "Test F1-score at Epoch 1890: 0.6816\n",
      "Classification Report at Epoch 1890:\n",
      "                  precision    recall  f1-score   support\n",
      "\n",
      "    infringement       0.68      0.80      0.74       123\n",
      "non_infringement       0.76      0.62      0.68       123\n",
      "\n",
      "        accuracy                           0.71       246\n",
      "       macro avg       0.72      0.71      0.71       246\n",
      "    weighted avg       0.72      0.71      0.71       246\n",
      "\n"
     ]
    },
    {
     "name": "stderr",
     "output_type": "stream",
     "text": [
      "Training Epochs:  76%|███████▌  | 1903/2500 [00:39<00:12, 47.57it/s]"
     ]
    },
    {
     "name": "stdout",
     "output_type": "stream",
     "text": [
      "Epoch 1900/2500, Loss: 0.0594\n",
      "Test Accuracy at Epoch 1900: 72.36%\n",
      "Test F1-score at Epoch 1900: 0.6991\n",
      "Classification Report at Epoch 1900:\n",
      "                  precision    recall  f1-score   support\n",
      "\n",
      "    infringement       0.69      0.80      0.74       123\n",
      "non_infringement       0.77      0.64      0.70       123\n",
      "\n",
      "        accuracy                           0.72       246\n",
      "       macro avg       0.73      0.72      0.72       246\n",
      "    weighted avg       0.73      0.72      0.72       246\n",
      "\n"
     ]
    },
    {
     "name": "stderr",
     "output_type": "stream",
     "text": [
      "Training Epochs:  77%|███████▋  | 1915/2500 [00:39<00:12, 47.22it/s]"
     ]
    },
    {
     "name": "stdout",
     "output_type": "stream",
     "text": [
      "Epoch 1910/2500, Loss: 0.0586\n",
      "Test Accuracy at Epoch 1910: 71.95%\n",
      "Test F1-score at Epoch 1910: 0.6933\n",
      "Classification Report at Epoch 1910:\n",
      "                  precision    recall  f1-score   support\n",
      "\n",
      "    infringement       0.69      0.80      0.74       123\n",
      "non_infringement       0.76      0.63      0.69       123\n",
      "\n",
      "        accuracy                           0.72       246\n",
      "       macro avg       0.73      0.72      0.72       246\n",
      "    weighted avg       0.73      0.72      0.72       246\n",
      "\n",
      "Epoch 1920/2500, Loss: 0.0581\n",
      "Test Accuracy at Epoch 1920: 71.14%\n",
      "Test F1-score at Epoch 1920: 0.6816\n",
      "Classification Report at Epoch 1920:\n",
      "                  precision    recall  f1-score   support\n",
      "\n",
      "    infringement       0.68      0.80      0.74       123\n",
      "non_infringement       0.76      0.62      0.68       123\n",
      "\n",
      "        accuracy                           0.71       246\n",
      "       macro avg       0.72      0.71      0.71       246\n",
      "    weighted avg       0.72      0.71      0.71       246\n",
      "\n"
     ]
    },
    {
     "name": "stderr",
     "output_type": "stream",
     "text": [
      "Training Epochs:  78%|███████▊  | 1941/2500 [00:40<00:10, 51.32it/s]"
     ]
    },
    {
     "name": "stdout",
     "output_type": "stream",
     "text": [
      "Epoch 1930/2500, Loss: 0.0585\n",
      "Test Accuracy at Epoch 1930: 71.14%\n",
      "Test F1-score at Epoch 1930: 0.6816\n",
      "Classification Report at Epoch 1930:\n",
      "                  precision    recall  f1-score   support\n",
      "\n",
      "    infringement       0.68      0.80      0.74       123\n",
      "non_infringement       0.76      0.62      0.68       123\n",
      "\n",
      "        accuracy                           0.71       246\n",
      "       macro avg       0.72      0.71      0.71       246\n",
      "    weighted avg       0.72      0.71      0.71       246\n",
      "\n",
      "Epoch 1940/2500, Loss: 0.0594\n",
      "Test Accuracy at Epoch 1940: 72.36%\n",
      "Test F1-score at Epoch 1940: 0.6991\n",
      "Classification Report at Epoch 1940:\n",
      "                  precision    recall  f1-score   support\n",
      "\n",
      "    infringement       0.69      0.80      0.74       123\n",
      "non_infringement       0.77      0.64      0.70       123\n",
      "\n",
      "        accuracy                           0.72       246\n",
      "       macro avg       0.73      0.72      0.72       246\n",
      "    weighted avg       0.73      0.72      0.72       246\n",
      "\n"
     ]
    },
    {
     "name": "stderr",
     "output_type": "stream",
     "text": [
      "Training Epochs:  78%|███████▊  | 1960/2500 [00:40<00:10, 50.58it/s]"
     ]
    },
    {
     "name": "stdout",
     "output_type": "stream",
     "text": [
      "Epoch 1950/2500, Loss: 0.0586\n",
      "Test Accuracy at Epoch 1950: 71.95%\n",
      "Test F1-score at Epoch 1950: 0.6933\n",
      "Classification Report at Epoch 1950:\n",
      "                  precision    recall  f1-score   support\n",
      "\n",
      "    infringement       0.69      0.80      0.74       123\n",
      "non_infringement       0.76      0.63      0.69       123\n",
      "\n",
      "        accuracy                           0.72       246\n",
      "       macro avg       0.73      0.72      0.72       246\n",
      "    weighted avg       0.73      0.72      0.72       246\n",
      "\n",
      "Epoch 1960/2500, Loss: 0.0582\n",
      "Test Accuracy at Epoch 1960: 71.14%\n",
      "Test F1-score at Epoch 1960: 0.6816\n",
      "Classification Report at Epoch 1960:\n",
      "                  precision    recall  f1-score   support\n",
      "\n",
      "    infringement       0.68      0.80      0.74       123\n",
      "non_infringement       0.76      0.62      0.68       123\n",
      "\n",
      "        accuracy                           0.71       246\n",
      "       macro avg       0.72      0.71      0.71       246\n",
      "    weighted avg       0.72      0.71      0.71       246\n",
      "\n"
     ]
    },
    {
     "name": "stderr",
     "output_type": "stream",
     "text": [
      "Training Epochs:  79%|███████▉  | 1980/2500 [00:40<00:09, 52.11it/s]"
     ]
    },
    {
     "name": "stdout",
     "output_type": "stream",
     "text": [
      "Epoch 1970/2500, Loss: 0.0584\n",
      "Test Accuracy at Epoch 1970: 71.14%\n",
      "Test F1-score at Epoch 1970: 0.6816\n",
      "Classification Report at Epoch 1970:\n",
      "                  precision    recall  f1-score   support\n",
      "\n",
      "    infringement       0.68      0.80      0.74       123\n",
      "non_infringement       0.76      0.62      0.68       123\n",
      "\n",
      "        accuracy                           0.71       246\n",
      "       macro avg       0.72      0.71      0.71       246\n",
      "    weighted avg       0.72      0.71      0.71       246\n",
      "\n",
      "Epoch 1980/2500, Loss: 0.0593\n",
      "Test Accuracy at Epoch 1980: 71.54%\n",
      "Test F1-score at Epoch 1980: 0.6875\n",
      "Classification Report at Epoch 1980:\n",
      "                  precision    recall  f1-score   support\n",
      "\n",
      "    infringement       0.68      0.80      0.74       123\n",
      "non_infringement       0.76      0.63      0.69       123\n",
      "\n",
      "        accuracy                           0.72       246\n",
      "       macro avg       0.72      0.72      0.71       246\n",
      "    weighted avg       0.72      0.72      0.71       246\n",
      "\n"
     ]
    },
    {
     "name": "stderr",
     "output_type": "stream",
     "text": [
      "Training Epochs:  80%|███████▉  | 1993/2500 [00:41<00:10, 50.44it/s]"
     ]
    },
    {
     "name": "stdout",
     "output_type": "stream",
     "text": [
      "Epoch 1990/2500, Loss: 0.0588\n",
      "Test Accuracy at Epoch 1990: 71.95%\n",
      "Test F1-score at Epoch 1990: 0.6933\n",
      "Classification Report at Epoch 1990:\n",
      "                  precision    recall  f1-score   support\n",
      "\n",
      "    infringement       0.69      0.80      0.74       123\n",
      "non_infringement       0.76      0.63      0.69       123\n",
      "\n",
      "        accuracy                           0.72       246\n",
      "       macro avg       0.73      0.72      0.72       246\n",
      "    weighted avg       0.73      0.72      0.72       246\n",
      "\n"
     ]
    },
    {
     "name": "stderr",
     "output_type": "stream",
     "text": [
      "Training Epochs:  80%|████████  | 2007/2500 [00:41<00:08, 56.26it/s]"
     ]
    },
    {
     "name": "stdout",
     "output_type": "stream",
     "text": [
      "Epoch 2000/2500, Loss: 0.0582\n",
      "Test Accuracy at Epoch 2000: 71.14%\n",
      "Test F1-score at Epoch 2000: 0.6816\n",
      "Classification Report at Epoch 2000:\n",
      "                  precision    recall  f1-score   support\n",
      "\n",
      "    infringement       0.68      0.80      0.74       123\n",
      "non_infringement       0.76      0.62      0.68       123\n",
      "\n",
      "        accuracy                           0.71       246\n",
      "       macro avg       0.72      0.71      0.71       246\n",
      "    weighted avg       0.72      0.71      0.71       246\n",
      "\n",
      "Epoch 2010/2500, Loss: 0.0583\n",
      "Test Accuracy at Epoch 2010: 71.14%\n",
      "Test F1-score at Epoch 2010: 0.6816\n",
      "Classification Report at Epoch 2010:\n",
      "                  precision    recall  f1-score   support\n",
      "\n",
      "    infringement       0.68      0.80      0.74       123\n",
      "non_infringement       0.76      0.62      0.68       123\n",
      "\n",
      "        accuracy                           0.71       246\n",
      "       macro avg       0.72      0.71      0.71       246\n",
      "    weighted avg       0.72      0.71      0.71       246\n",
      "\n"
     ]
    },
    {
     "name": "stderr",
     "output_type": "stream",
     "text": [
      "Training Epochs:  81%|████████  | 2027/2500 [00:41<00:08, 57.11it/s]"
     ]
    },
    {
     "name": "stdout",
     "output_type": "stream",
     "text": [
      "Epoch 2020/2500, Loss: 0.0590\n",
      "Test Accuracy at Epoch 2020: 71.14%\n",
      "Test F1-score at Epoch 2020: 0.6816\n",
      "Classification Report at Epoch 2020:\n",
      "                  precision    recall  f1-score   support\n",
      "\n",
      "    infringement       0.68      0.80      0.74       123\n",
      "non_infringement       0.76      0.62      0.68       123\n",
      "\n",
      "        accuracy                           0.71       246\n",
      "       macro avg       0.72      0.71      0.71       246\n",
      "    weighted avg       0.72      0.71      0.71       246\n",
      "\n",
      "Epoch 2030/2500, Loss: 0.0590\n",
      "Test Accuracy at Epoch 2030: 71.95%\n",
      "Test F1-score at Epoch 2030: 0.6933\n",
      "Classification Report at Epoch 2030:\n",
      "                  precision    recall  f1-score   support\n",
      "\n",
      "    infringement       0.69      0.80      0.74       123\n",
      "non_infringement       0.76      0.63      0.69       123\n",
      "\n",
      "        accuracy                           0.72       246\n",
      "       macro avg       0.73      0.72      0.72       246\n",
      "    weighted avg       0.73      0.72      0.72       246\n",
      "\n"
     ]
    },
    {
     "name": "stderr",
     "output_type": "stream",
     "text": [
      "Training Epochs:  82%|████████▏ | 2045/2500 [00:42<00:08, 52.30it/s]"
     ]
    },
    {
     "name": "stdout",
     "output_type": "stream",
     "text": [
      "Epoch 2040/2500, Loss: 0.0583\n",
      "Test Accuracy at Epoch 2040: 71.14%\n",
      "Test F1-score at Epoch 2040: 0.6816\n",
      "Classification Report at Epoch 2040:\n",
      "                  precision    recall  f1-score   support\n",
      "\n",
      "    infringement       0.68      0.80      0.74       123\n",
      "non_infringement       0.76      0.62      0.68       123\n",
      "\n",
      "        accuracy                           0.71       246\n",
      "       macro avg       0.72      0.71      0.71       246\n",
      "    weighted avg       0.72      0.71      0.71       246\n",
      "\n",
      "Epoch 2050/2500, Loss: 0.0583\n",
      "Test Accuracy at Epoch 2050: 71.14%\n",
      "Test F1-score at Epoch 2050: 0.6816\n",
      "Classification Report at Epoch 2050:\n",
      "                  precision    recall  f1-score   support\n",
      "\n",
      "    infringement       0.68      0.80      0.74       123\n",
      "non_infringement       0.76      0.62      0.68       123\n",
      "\n",
      "        accuracy                           0.71       246\n",
      "       macro avg       0.72      0.71      0.71       246\n",
      "    weighted avg       0.72      0.71      0.71       246\n",
      "\n"
     ]
    },
    {
     "name": "stderr",
     "output_type": "stream",
     "text": [
      "Training Epochs:  83%|████████▎ | 2070/2500 [00:42<00:07, 54.52it/s]"
     ]
    },
    {
     "name": "stdout",
     "output_type": "stream",
     "text": [
      "Epoch 2060/2500, Loss: 0.0588\n",
      "Test Accuracy at Epoch 2060: 69.51%\n",
      "Test F1-score at Epoch 2060: 0.6696\n",
      "Classification Report at Epoch 2060:\n",
      "                  precision    recall  f1-score   support\n",
      "\n",
      "    infringement       0.67      0.77      0.72       123\n",
      "non_infringement       0.73      0.62      0.67       123\n",
      "\n",
      "        accuracy                           0.70       246\n",
      "       macro avg       0.70      0.70      0.69       246\n",
      "    weighted avg       0.70      0.70      0.69       246\n",
      "\n",
      "Epoch 2070/2500, Loss: 0.0591\n",
      "Test Accuracy at Epoch 2070: 69.92%\n",
      "Test F1-score at Epoch 2070: 0.6754\n",
      "Classification Report at Epoch 2070:\n",
      "                  precision    recall  f1-score   support\n",
      "\n",
      "    infringement       0.67      0.77      0.72       123\n",
      "non_infringement       0.73      0.63      0.68       123\n",
      "\n",
      "        accuracy                           0.70       246\n",
      "       macro avg       0.70      0.70      0.70       246\n",
      "    weighted avg       0.70      0.70      0.70       246\n",
      "\n"
     ]
    },
    {
     "name": "stderr",
     "output_type": "stream",
     "text": [
      "Training Epochs:  84%|████████▎ | 2089/2500 [00:42<00:07, 54.29it/s]"
     ]
    },
    {
     "name": "stdout",
     "output_type": "stream",
     "text": [
      "Epoch 2080/2500, Loss: 0.0585\n",
      "Test Accuracy at Epoch 2080: 69.51%\n",
      "Test F1-score at Epoch 2080: 0.6696\n",
      "Classification Report at Epoch 2080:\n",
      "                  precision    recall  f1-score   support\n",
      "\n",
      "    infringement       0.67      0.77      0.72       123\n",
      "non_infringement       0.73      0.62      0.67       123\n",
      "\n",
      "        accuracy                           0.70       246\n",
      "       macro avg       0.70      0.70      0.69       246\n",
      "    weighted avg       0.70      0.70      0.69       246\n",
      "\n",
      "Epoch 2090/2500, Loss: 0.0583\n",
      "Test Accuracy at Epoch 2090: 69.51%\n",
      "Test F1-score at Epoch 2090: 0.6696\n",
      "Classification Report at Epoch 2090:\n",
      "                  precision    recall  f1-score   support\n",
      "\n",
      "    infringement       0.67      0.77      0.72       123\n",
      "non_infringement       0.73      0.62      0.67       123\n",
      "\n",
      "        accuracy                           0.70       246\n",
      "       macro avg       0.70      0.70      0.69       246\n",
      "    weighted avg       0.70      0.70      0.69       246\n",
      "\n"
     ]
    },
    {
     "name": "stderr",
     "output_type": "stream",
     "text": [
      "Training Epochs:  84%|████████▍ | 2108/2500 [00:43<00:07, 51.61it/s]"
     ]
    },
    {
     "name": "stdout",
     "output_type": "stream",
     "text": [
      "Epoch 2100/2500, Loss: 0.0585\n",
      "Test Accuracy at Epoch 2100: 69.51%\n",
      "Test F1-score at Epoch 2100: 0.6696\n",
      "Classification Report at Epoch 2100:\n",
      "                  precision    recall  f1-score   support\n",
      "\n",
      "    infringement       0.67      0.77      0.72       123\n",
      "non_infringement       0.73      0.62      0.67       123\n",
      "\n",
      "        accuracy                           0.70       246\n",
      "       macro avg       0.70      0.70      0.69       246\n",
      "    weighted avg       0.70      0.70      0.69       246\n",
      "\n",
      "Epoch 2110/2500, Loss: 0.0590\n",
      "Test Accuracy at Epoch 2110: 69.51%\n",
      "Test F1-score at Epoch 2110: 0.6696\n",
      "Classification Report at Epoch 2110:\n",
      "                  precision    recall  f1-score   support\n",
      "\n",
      "    infringement       0.67      0.77      0.72       123\n",
      "non_infringement       0.73      0.62      0.67       123\n",
      "\n",
      "        accuracy                           0.70       246\n",
      "       macro avg       0.70      0.70      0.69       246\n",
      "    weighted avg       0.70      0.70      0.69       246\n",
      "\n"
     ]
    },
    {
     "name": "stderr",
     "output_type": "stream",
     "text": [
      "Training Epochs:  85%|████████▌ | 2127/2500 [00:43<00:07, 51.17it/s]"
     ]
    },
    {
     "name": "stdout",
     "output_type": "stream",
     "text": [
      "Epoch 2120/2500, Loss: 0.0588\n",
      "Test Accuracy at Epoch 2120: 69.92%\n",
      "Test F1-score at Epoch 2120: 0.6754\n",
      "Classification Report at Epoch 2120:\n",
      "                  precision    recall  f1-score   support\n",
      "\n",
      "    infringement       0.67      0.77      0.72       123\n",
      "non_infringement       0.73      0.63      0.68       123\n",
      "\n",
      "        accuracy                           0.70       246\n",
      "       macro avg       0.70      0.70      0.70       246\n",
      "    weighted avg       0.70      0.70      0.70       246\n",
      "\n",
      "Epoch 2130/2500, Loss: 0.0584\n",
      "Test Accuracy at Epoch 2130: 69.51%\n",
      "Test F1-score at Epoch 2130: 0.6696\n",
      "Classification Report at Epoch 2130:\n",
      "                  precision    recall  f1-score   support\n",
      "\n",
      "    infringement       0.67      0.77      0.72       123\n",
      "non_infringement       0.73      0.62      0.67       123\n",
      "\n",
      "        accuracy                           0.70       246\n",
      "       macro avg       0.70      0.70      0.69       246\n",
      "    weighted avg       0.70      0.70      0.69       246\n",
      "\n"
     ]
    },
    {
     "name": "stderr",
     "output_type": "stream",
     "text": [
      "Training Epochs:  86%|████████▌ | 2145/2500 [00:44<00:07, 48.44it/s]"
     ]
    },
    {
     "name": "stdout",
     "output_type": "stream",
     "text": [
      "Epoch 2140/2500, Loss: 0.0584\n",
      "Test Accuracy at Epoch 2140: 69.51%\n",
      "Test F1-score at Epoch 2140: 0.6696\n",
      "Classification Report at Epoch 2140:\n",
      "                  precision    recall  f1-score   support\n",
      "\n",
      "    infringement       0.67      0.77      0.72       123\n",
      "non_infringement       0.73      0.62      0.67       123\n",
      "\n",
      "        accuracy                           0.70       246\n",
      "       macro avg       0.70      0.70      0.69       246\n",
      "    weighted avg       0.70      0.70      0.69       246\n",
      "\n",
      "Epoch 2150/2500, Loss: 0.0587\n",
      "Test Accuracy at Epoch 2150: 69.51%\n",
      "Test F1-score at Epoch 2150: 0.6696\n",
      "Classification Report at Epoch 2150:\n",
      "                  precision    recall  f1-score   support\n",
      "\n",
      "    infringement       0.67      0.77      0.72       123\n",
      "non_infringement       0.73      0.62      0.67       123\n",
      "\n",
      "        accuracy                           0.70       246\n",
      "       macro avg       0.70      0.70      0.69       246\n",
      "    weighted avg       0.70      0.70      0.69       246\n",
      "\n"
     ]
    },
    {
     "name": "stderr",
     "output_type": "stream",
     "text": [
      "Training Epochs:  87%|████████▋ | 2170/2500 [00:44<00:06, 50.63it/s]"
     ]
    },
    {
     "name": "stdout",
     "output_type": "stream",
     "text": [
      "Epoch 2160/2500, Loss: 0.0588\n",
      "Test Accuracy at Epoch 2160: 69.92%\n",
      "Test F1-score at Epoch 2160: 0.6754\n",
      "Classification Report at Epoch 2160:\n",
      "                  precision    recall  f1-score   support\n",
      "\n",
      "    infringement       0.67      0.77      0.72       123\n",
      "non_infringement       0.73      0.63      0.68       123\n",
      "\n",
      "        accuracy                           0.70       246\n",
      "       macro avg       0.70      0.70      0.70       246\n",
      "    weighted avg       0.70      0.70      0.70       246\n",
      "\n",
      "Epoch 2170/2500, Loss: 0.0585\n",
      "Test Accuracy at Epoch 2170: 69.92%\n",
      "Test F1-score at Epoch 2170: 0.6754\n",
      "Classification Report at Epoch 2170:\n",
      "                  precision    recall  f1-score   support\n",
      "\n",
      "    infringement       0.67      0.77      0.72       123\n",
      "non_infringement       0.73      0.63      0.68       123\n",
      "\n",
      "        accuracy                           0.70       246\n",
      "       macro avg       0.70      0.70      0.70       246\n",
      "    weighted avg       0.70      0.70      0.70       246\n",
      "\n"
     ]
    },
    {
     "name": "stderr",
     "output_type": "stream",
     "text": [
      "Training Epochs:  88%|████████▊ | 2188/2500 [00:44<00:06, 51.05it/s]"
     ]
    },
    {
     "name": "stdout",
     "output_type": "stream",
     "text": [
      "Epoch 2180/2500, Loss: 0.0584\n",
      "Test Accuracy at Epoch 2180: 69.51%\n",
      "Test F1-score at Epoch 2180: 0.6696\n",
      "Classification Report at Epoch 2180:\n",
      "                  precision    recall  f1-score   support\n",
      "\n",
      "    infringement       0.67      0.77      0.72       123\n",
      "non_infringement       0.73      0.62      0.67       123\n",
      "\n",
      "        accuracy                           0.70       246\n",
      "       macro avg       0.70      0.70      0.69       246\n",
      "    weighted avg       0.70      0.70      0.69       246\n",
      "\n",
      "Epoch 2190/2500, Loss: 0.0585\n",
      "Test Accuracy at Epoch 2190: 69.51%\n",
      "Test F1-score at Epoch 2190: 0.6696\n",
      "Classification Report at Epoch 2190:\n",
      "                  precision    recall  f1-score   support\n",
      "\n",
      "    infringement       0.67      0.77      0.72       123\n",
      "non_infringement       0.73      0.62      0.67       123\n",
      "\n",
      "        accuracy                           0.70       246\n",
      "       macro avg       0.70      0.70      0.69       246\n",
      "    weighted avg       0.70      0.70      0.69       246\n",
      "\n"
     ]
    },
    {
     "name": "stderr",
     "output_type": "stream",
     "text": [
      "Training Epochs:  88%|████████▊ | 2206/2500 [00:45<00:05, 49.59it/s]"
     ]
    },
    {
     "name": "stdout",
     "output_type": "stream",
     "text": [
      "Epoch 2200/2500, Loss: 0.0588\n",
      "Test Accuracy at Epoch 2200: 69.92%\n",
      "Test F1-score at Epoch 2200: 0.6754\n",
      "Classification Report at Epoch 2200:\n",
      "                  precision    recall  f1-score   support\n",
      "\n",
      "    infringement       0.67      0.77      0.72       123\n",
      "non_infringement       0.73      0.63      0.68       123\n",
      "\n",
      "        accuracy                           0.70       246\n",
      "       macro avg       0.70      0.70      0.70       246\n",
      "    weighted avg       0.70      0.70      0.70       246\n",
      "\n",
      "Epoch 2210/2500, Loss: 0.0587\n",
      "Test Accuracy at Epoch 2210: 69.92%\n",
      "Test F1-score at Epoch 2210: 0.6754\n",
      "Classification Report at Epoch 2210:\n",
      "                  precision    recall  f1-score   support\n",
      "\n",
      "    infringement       0.67      0.77      0.72       123\n",
      "non_infringement       0.73      0.63      0.68       123\n",
      "\n",
      "        accuracy                           0.70       246\n",
      "       macro avg       0.70      0.70      0.70       246\n",
      "    weighted avg       0.70      0.70      0.70       246\n",
      "\n"
     ]
    },
    {
     "name": "stderr",
     "output_type": "stream",
     "text": [
      "Training Epochs:  89%|████████▉ | 2230/2500 [00:45<00:05, 50.28it/s]"
     ]
    },
    {
     "name": "stdout",
     "output_type": "stream",
     "text": [
      "Epoch 2220/2500, Loss: 0.0585\n",
      "Test Accuracy at Epoch 2220: 69.92%\n",
      "Test F1-score at Epoch 2220: 0.6754\n",
      "Classification Report at Epoch 2220:\n",
      "                  precision    recall  f1-score   support\n",
      "\n",
      "    infringement       0.67      0.77      0.72       123\n",
      "non_infringement       0.73      0.63      0.68       123\n",
      "\n",
      "        accuracy                           0.70       246\n",
      "       macro avg       0.70      0.70      0.70       246\n",
      "    weighted avg       0.70      0.70      0.70       246\n",
      "\n",
      "Epoch 2230/2500, Loss: 0.0585\n",
      "Test Accuracy at Epoch 2230: 69.92%\n",
      "Test F1-score at Epoch 2230: 0.6754\n",
      "Classification Report at Epoch 2230:\n",
      "                  precision    recall  f1-score   support\n",
      "\n",
      "    infringement       0.67      0.77      0.72       123\n",
      "non_infringement       0.73      0.63      0.68       123\n",
      "\n",
      "        accuracy                           0.70       246\n",
      "       macro avg       0.70      0.70      0.70       246\n",
      "    weighted avg       0.70      0.70      0.70       246\n",
      "\n"
     ]
    },
    {
     "name": "stderr",
     "output_type": "stream",
     "text": [
      "Training Epochs:  90%|████████▉ | 2249/2500 [00:46<00:04, 53.20it/s]"
     ]
    },
    {
     "name": "stdout",
     "output_type": "stream",
     "text": [
      "Epoch 2240/2500, Loss: 0.0586\n",
      "Test Accuracy at Epoch 2240: 69.92%\n",
      "Test F1-score at Epoch 2240: 0.6754\n",
      "Classification Report at Epoch 2240:\n",
      "                  precision    recall  f1-score   support\n",
      "\n",
      "    infringement       0.67      0.77      0.72       123\n",
      "non_infringement       0.73      0.63      0.68       123\n",
      "\n",
      "        accuracy                           0.70       246\n",
      "       macro avg       0.70      0.70      0.70       246\n",
      "    weighted avg       0.70      0.70      0.70       246\n",
      "\n",
      "Epoch 2250/2500, Loss: 0.0587\n",
      "Test Accuracy at Epoch 2250: 69.92%\n",
      "Test F1-score at Epoch 2250: 0.6754\n",
      "Classification Report at Epoch 2250:\n",
      "                  precision    recall  f1-score   support\n",
      "\n",
      "    infringement       0.67      0.77      0.72       123\n",
      "non_infringement       0.73      0.63      0.68       123\n",
      "\n",
      "        accuracy                           0.70       246\n",
      "       macro avg       0.70      0.70      0.70       246\n",
      "    weighted avg       0.70      0.70      0.70       246\n",
      "\n"
     ]
    },
    {
     "name": "stderr",
     "output_type": "stream",
     "text": [
      "Training Epochs:  91%|█████████ | 2268/2500 [00:46<00:04, 53.90it/s]"
     ]
    },
    {
     "name": "stdout",
     "output_type": "stream",
     "text": [
      "Epoch 2260/2500, Loss: 0.0585\n",
      "Test Accuracy at Epoch 2260: 69.92%\n",
      "Test F1-score at Epoch 2260: 0.6754\n",
      "Classification Report at Epoch 2260:\n",
      "                  precision    recall  f1-score   support\n",
      "\n",
      "    infringement       0.67      0.77      0.72       123\n",
      "non_infringement       0.73      0.63      0.68       123\n",
      "\n",
      "        accuracy                           0.70       246\n",
      "       macro avg       0.70      0.70      0.70       246\n",
      "    weighted avg       0.70      0.70      0.70       246\n",
      "\n",
      "Epoch 2270/2500, Loss: 0.0585\n",
      "Test Accuracy at Epoch 2270: 69.92%\n",
      "Test F1-score at Epoch 2270: 0.6754\n",
      "Classification Report at Epoch 2270:\n",
      "                  precision    recall  f1-score   support\n",
      "\n",
      "    infringement       0.67      0.77      0.72       123\n",
      "non_infringement       0.73      0.63      0.68       123\n",
      "\n",
      "        accuracy                           0.70       246\n",
      "       macro avg       0.70      0.70      0.70       246\n",
      "    weighted avg       0.70      0.70      0.70       246\n",
      "\n"
     ]
    },
    {
     "name": "stderr",
     "output_type": "stream",
     "text": [
      "Training Epochs:  91%|█████████▏| 2287/2500 [00:46<00:04, 53.13it/s]"
     ]
    },
    {
     "name": "stdout",
     "output_type": "stream",
     "text": [
      "Epoch 2280/2500, Loss: 0.0586\n",
      "Test Accuracy at Epoch 2280: 69.92%\n",
      "Test F1-score at Epoch 2280: 0.6754\n",
      "Classification Report at Epoch 2280:\n",
      "                  precision    recall  f1-score   support\n",
      "\n",
      "    infringement       0.67      0.77      0.72       123\n",
      "non_infringement       0.73      0.63      0.68       123\n",
      "\n",
      "        accuracy                           0.70       246\n",
      "       macro avg       0.70      0.70      0.70       246\n",
      "    weighted avg       0.70      0.70      0.70       246\n",
      "\n",
      "Epoch 2290/2500, Loss: 0.0586\n",
      "Test Accuracy at Epoch 2290: 69.92%\n",
      "Test F1-score at Epoch 2290: 0.6754\n",
      "Classification Report at Epoch 2290:\n",
      "                  precision    recall  f1-score   support\n",
      "\n",
      "    infringement       0.67      0.77      0.72       123\n",
      "non_infringement       0.73      0.63      0.68       123\n",
      "\n",
      "        accuracy                           0.70       246\n",
      "       macro avg       0.70      0.70      0.70       246\n",
      "    weighted avg       0.70      0.70      0.70       246\n",
      "\n"
     ]
    },
    {
     "name": "stderr",
     "output_type": "stream",
     "text": [
      "Training Epochs:  92%|█████████▏| 2307/2500 [00:47<00:03, 53.36it/s]"
     ]
    },
    {
     "name": "stdout",
     "output_type": "stream",
     "text": [
      "Epoch 2300/2500, Loss: 0.0586\n",
      "Test Accuracy at Epoch 2300: 69.51%\n",
      "Test F1-score at Epoch 2300: 0.6696\n",
      "Classification Report at Epoch 2300:\n",
      "                  precision    recall  f1-score   support\n",
      "\n",
      "    infringement       0.67      0.77      0.72       123\n",
      "non_infringement       0.73      0.62      0.67       123\n",
      "\n",
      "        accuracy                           0.70       246\n",
      "       macro avg       0.70      0.70      0.69       246\n",
      "    weighted avg       0.70      0.70      0.69       246\n",
      "\n",
      "Epoch 2310/2500, Loss: 0.0585\n",
      "Test Accuracy at Epoch 2310: 69.51%\n",
      "Test F1-score at Epoch 2310: 0.6696\n",
      "Classification Report at Epoch 2310:\n",
      "                  precision    recall  f1-score   support\n",
      "\n",
      "    infringement       0.67      0.77      0.72       123\n",
      "non_infringement       0.73      0.62      0.67       123\n",
      "\n",
      "        accuracy                           0.70       246\n",
      "       macro avg       0.70      0.70      0.69       246\n",
      "    weighted avg       0.70      0.70      0.69       246\n",
      "\n"
     ]
    },
    {
     "name": "stderr",
     "output_type": "stream",
     "text": [
      "Training Epochs:  93%|█████████▎| 2327/2500 [00:47<00:03, 53.18it/s]"
     ]
    },
    {
     "name": "stdout",
     "output_type": "stream",
     "text": [
      "Epoch 2320/2500, Loss: 0.0585\n",
      "Test Accuracy at Epoch 2320: 69.51%\n",
      "Test F1-score at Epoch 2320: 0.6696\n",
      "Classification Report at Epoch 2320:\n",
      "                  precision    recall  f1-score   support\n",
      "\n",
      "    infringement       0.67      0.77      0.72       123\n",
      "non_infringement       0.73      0.62      0.67       123\n",
      "\n",
      "        accuracy                           0.70       246\n",
      "       macro avg       0.70      0.70      0.69       246\n",
      "    weighted avg       0.70      0.70      0.69       246\n",
      "\n",
      "Epoch 2330/2500, Loss: 0.0586\n",
      "Test Accuracy at Epoch 2330: 69.51%\n",
      "Test F1-score at Epoch 2330: 0.6696\n",
      "Classification Report at Epoch 2330:\n",
      "                  precision    recall  f1-score   support\n",
      "\n",
      "    infringement       0.67      0.77      0.72       123\n",
      "non_infringement       0.73      0.62      0.67       123\n",
      "\n",
      "        accuracy                           0.70       246\n",
      "       macro avg       0.70      0.70      0.69       246\n",
      "    weighted avg       0.70      0.70      0.69       246\n",
      "\n"
     ]
    },
    {
     "name": "stderr",
     "output_type": "stream",
     "text": [
      "Training Epochs:  94%|█████████▍| 2347/2500 [00:48<00:02, 54.07it/s]"
     ]
    },
    {
     "name": "stdout",
     "output_type": "stream",
     "text": [
      "Epoch 2340/2500, Loss: 0.0586\n",
      "Test Accuracy at Epoch 2340: 69.51%\n",
      "Test F1-score at Epoch 2340: 0.6696\n",
      "Classification Report at Epoch 2340:\n",
      "                  precision    recall  f1-score   support\n",
      "\n",
      "    infringement       0.67      0.77      0.72       123\n",
      "non_infringement       0.73      0.62      0.67       123\n",
      "\n",
      "        accuracy                           0.70       246\n",
      "       macro avg       0.70      0.70      0.69       246\n",
      "    weighted avg       0.70      0.70      0.69       246\n",
      "\n",
      "Epoch 2350/2500, Loss: 0.0585\n",
      "Test Accuracy at Epoch 2350: 69.51%\n",
      "Test F1-score at Epoch 2350: 0.6696\n",
      "Classification Report at Epoch 2350:\n",
      "                  precision    recall  f1-score   support\n",
      "\n",
      "    infringement       0.67      0.77      0.72       123\n",
      "non_infringement       0.73      0.62      0.67       123\n",
      "\n",
      "        accuracy                           0.70       246\n",
      "       macro avg       0.70      0.70      0.69       246\n",
      "    weighted avg       0.70      0.70      0.69       246\n",
      "\n"
     ]
    },
    {
     "name": "stderr",
     "output_type": "stream",
     "text": [
      "Training Epochs:  95%|█████████▍| 2367/2500 [00:48<00:02, 54.81it/s]"
     ]
    },
    {
     "name": "stdout",
     "output_type": "stream",
     "text": [
      "Epoch 2360/2500, Loss: 0.0585\n",
      "Test Accuracy at Epoch 2360: 69.51%\n",
      "Test F1-score at Epoch 2360: 0.6696\n",
      "Classification Report at Epoch 2360:\n",
      "                  precision    recall  f1-score   support\n",
      "\n",
      "    infringement       0.67      0.77      0.72       123\n",
      "non_infringement       0.73      0.62      0.67       123\n",
      "\n",
      "        accuracy                           0.70       246\n",
      "       macro avg       0.70      0.70      0.69       246\n",
      "    weighted avg       0.70      0.70      0.69       246\n",
      "\n",
      "Epoch 2370/2500, Loss: 0.0586\n",
      "Test Accuracy at Epoch 2370: 69.51%\n",
      "Test F1-score at Epoch 2370: 0.6696\n",
      "Classification Report at Epoch 2370:\n",
      "                  precision    recall  f1-score   support\n",
      "\n",
      "    infringement       0.67      0.77      0.72       123\n",
      "non_infringement       0.73      0.62      0.67       123\n",
      "\n",
      "        accuracy                           0.70       246\n",
      "       macro avg       0.70      0.70      0.69       246\n",
      "    weighted avg       0.70      0.70      0.69       246\n",
      "\n"
     ]
    },
    {
     "name": "stderr",
     "output_type": "stream",
     "text": [
      "Training Epochs:  95%|█████████▌| 2385/2500 [00:48<00:02, 52.26it/s]"
     ]
    },
    {
     "name": "stdout",
     "output_type": "stream",
     "text": [
      "Epoch 2380/2500, Loss: 0.0585\n",
      "Test Accuracy at Epoch 2380: 69.51%\n",
      "Test F1-score at Epoch 2380: 0.6696\n",
      "Classification Report at Epoch 2380:\n",
      "                  precision    recall  f1-score   support\n",
      "\n",
      "    infringement       0.67      0.77      0.72       123\n",
      "non_infringement       0.73      0.62      0.67       123\n",
      "\n",
      "        accuracy                           0.70       246\n",
      "       macro avg       0.70      0.70      0.69       246\n",
      "    weighted avg       0.70      0.70      0.69       246\n",
      "\n",
      "Epoch 2390/2500, Loss: 0.0585\n",
      "Test Accuracy at Epoch 2390: 69.11%\n",
      "Test F1-score at Epoch 2390: 0.6637\n",
      "Classification Report at Epoch 2390:\n",
      "                  precision    recall  f1-score   support\n",
      "\n",
      "    infringement       0.66      0.77      0.71       123\n",
      "non_infringement       0.73      0.61      0.66       123\n",
      "\n",
      "        accuracy                           0.69       246\n",
      "       macro avg       0.70      0.69      0.69       246\n",
      "    weighted avg       0.70      0.69      0.69       246\n",
      "\n"
     ]
    },
    {
     "name": "stderr",
     "output_type": "stream",
     "text": [
      "Training Epochs:  96%|█████████▋| 2410/2500 [00:49<00:01, 51.94it/s]"
     ]
    },
    {
     "name": "stdout",
     "output_type": "stream",
     "text": [
      "Epoch 2400/2500, Loss: 0.0585\n",
      "Test Accuracy at Epoch 2400: 69.11%\n",
      "Test F1-score at Epoch 2400: 0.6637\n",
      "Classification Report at Epoch 2400:\n",
      "                  precision    recall  f1-score   support\n",
      "\n",
      "    infringement       0.66      0.77      0.71       123\n",
      "non_infringement       0.73      0.61      0.66       123\n",
      "\n",
      "        accuracy                           0.69       246\n",
      "       macro avg       0.70      0.69      0.69       246\n",
      "    weighted avg       0.70      0.69      0.69       246\n",
      "\n",
      "Epoch 2410/2500, Loss: 0.0585\n",
      "Test Accuracy at Epoch 2410: 69.11%\n",
      "Test F1-score at Epoch 2410: 0.6637\n",
      "Classification Report at Epoch 2410:\n",
      "                  precision    recall  f1-score   support\n",
      "\n",
      "    infringement       0.66      0.77      0.71       123\n",
      "non_infringement       0.73      0.61      0.66       123\n",
      "\n",
      "        accuracy                           0.69       246\n",
      "       macro avg       0.70      0.69      0.69       246\n",
      "    weighted avg       0.70      0.69      0.69       246\n",
      "\n"
     ]
    },
    {
     "name": "stderr",
     "output_type": "stream",
     "text": [
      "Training Epochs:  97%|█████████▋| 2429/2500 [00:49<00:01, 52.74it/s]"
     ]
    },
    {
     "name": "stdout",
     "output_type": "stream",
     "text": [
      "Epoch 2420/2500, Loss: 0.0585\n",
      "Test Accuracy at Epoch 2420: 69.11%\n",
      "Test F1-score at Epoch 2420: 0.6637\n",
      "Classification Report at Epoch 2420:\n",
      "                  precision    recall  f1-score   support\n",
      "\n",
      "    infringement       0.66      0.77      0.71       123\n",
      "non_infringement       0.73      0.61      0.66       123\n",
      "\n",
      "        accuracy                           0.69       246\n",
      "       macro avg       0.70      0.69      0.69       246\n",
      "    weighted avg       0.70      0.69      0.69       246\n",
      "\n",
      "Epoch 2430/2500, Loss: 0.0585\n",
      "Test Accuracy at Epoch 2430: 69.11%\n",
      "Test F1-score at Epoch 2430: 0.6637\n",
      "Classification Report at Epoch 2430:\n",
      "                  precision    recall  f1-score   support\n",
      "\n",
      "    infringement       0.66      0.77      0.71       123\n",
      "non_infringement       0.73      0.61      0.66       123\n",
      "\n",
      "        accuracy                           0.69       246\n",
      "       macro avg       0.70      0.69      0.69       246\n",
      "    weighted avg       0.70      0.69      0.69       246\n",
      "\n"
     ]
    },
    {
     "name": "stderr",
     "output_type": "stream",
     "text": [
      "Training Epochs:  98%|█████████▊| 2448/2500 [00:50<00:00, 52.23it/s]"
     ]
    },
    {
     "name": "stdout",
     "output_type": "stream",
     "text": [
      "Epoch 2440/2500, Loss: 0.0585\n",
      "Test Accuracy at Epoch 2440: 69.11%\n",
      "Test F1-score at Epoch 2440: 0.6637\n",
      "Classification Report at Epoch 2440:\n",
      "                  precision    recall  f1-score   support\n",
      "\n",
      "    infringement       0.66      0.77      0.71       123\n",
      "non_infringement       0.73      0.61      0.66       123\n",
      "\n",
      "        accuracy                           0.69       246\n",
      "       macro avg       0.70      0.69      0.69       246\n",
      "    weighted avg       0.70      0.69      0.69       246\n",
      "\n",
      "Epoch 2450/2500, Loss: 0.0585\n",
      "Test Accuracy at Epoch 2450: 69.11%\n",
      "Test F1-score at Epoch 2450: 0.6637\n",
      "Classification Report at Epoch 2450:\n",
      "                  precision    recall  f1-score   support\n",
      "\n",
      "    infringement       0.66      0.77      0.71       123\n",
      "non_infringement       0.73      0.61      0.66       123\n",
      "\n",
      "        accuracy                           0.69       246\n",
      "       macro avg       0.70      0.69      0.69       246\n",
      "    weighted avg       0.70      0.69      0.69       246\n",
      "\n"
     ]
    },
    {
     "name": "stderr",
     "output_type": "stream",
     "text": [
      "Training Epochs:  99%|█████████▊| 2467/2500 [00:50<00:00, 53.12it/s]"
     ]
    },
    {
     "name": "stdout",
     "output_type": "stream",
     "text": [
      "Epoch 2460/2500, Loss: 0.0585\n",
      "Test Accuracy at Epoch 2460: 69.11%\n",
      "Test F1-score at Epoch 2460: 0.6637\n",
      "Classification Report at Epoch 2460:\n",
      "                  precision    recall  f1-score   support\n",
      "\n",
      "    infringement       0.66      0.77      0.71       123\n",
      "non_infringement       0.73      0.61      0.66       123\n",
      "\n",
      "        accuracy                           0.69       246\n",
      "       macro avg       0.70      0.69      0.69       246\n",
      "    weighted avg       0.70      0.69      0.69       246\n",
      "\n",
      "Epoch 2470/2500, Loss: 0.0585\n",
      "Test Accuracy at Epoch 2470: 69.11%\n",
      "Test F1-score at Epoch 2470: 0.6637\n",
      "Classification Report at Epoch 2470:\n",
      "                  precision    recall  f1-score   support\n",
      "\n",
      "    infringement       0.66      0.77      0.71       123\n",
      "non_infringement       0.73      0.61      0.66       123\n",
      "\n",
      "        accuracy                           0.69       246\n",
      "       macro avg       0.70      0.69      0.69       246\n",
      "    weighted avg       0.70      0.69      0.69       246\n",
      "\n"
     ]
    },
    {
     "name": "stderr",
     "output_type": "stream",
     "text": [
      "Training Epochs:  99%|█████████▉| 2485/2500 [00:50<00:00, 52.92it/s]"
     ]
    },
    {
     "name": "stdout",
     "output_type": "stream",
     "text": [
      "Epoch 2480/2500, Loss: 0.0585\n",
      "Test Accuracy at Epoch 2480: 69.11%\n",
      "Test F1-score at Epoch 2480: 0.6637\n",
      "Classification Report at Epoch 2480:\n",
      "                  precision    recall  f1-score   support\n",
      "\n",
      "    infringement       0.66      0.77      0.71       123\n",
      "non_infringement       0.73      0.61      0.66       123\n",
      "\n",
      "        accuracy                           0.69       246\n",
      "       macro avg       0.70      0.69      0.69       246\n",
      "    weighted avg       0.70      0.69      0.69       246\n",
      "\n"
     ]
    },
    {
     "name": "stderr",
     "output_type": "stream",
     "text": [
      "Training Epochs: 100%|█████████▉| 2498/2500 [00:51<00:00, 48.28it/s]"
     ]
    },
    {
     "name": "stdout",
     "output_type": "stream",
     "text": [
      "Epoch 2490/2500, Loss: 0.0585\n",
      "Test Accuracy at Epoch 2490: 69.11%\n",
      "Test F1-score at Epoch 2490: 0.6637\n",
      "Classification Report at Epoch 2490:\n",
      "                  precision    recall  f1-score   support\n",
      "\n",
      "    infringement       0.66      0.77      0.71       123\n",
      "non_infringement       0.73      0.61      0.66       123\n",
      "\n",
      "        accuracy                           0.69       246\n",
      "       macro avg       0.70      0.69      0.69       246\n",
      "    weighted avg       0.70      0.69      0.69       246\n",
      "\n"
     ]
    },
    {
     "name": "stderr",
     "output_type": "stream",
     "text": [
      "Training Epochs: 100%|██████████| 2500/2500 [00:51<00:00, 48.78it/s]\n",
      "/tmp/ipykernel_1342044/2175062796.py:55: FutureWarning: You are using `torch.load` with `weights_only=False` (the current default value), which uses the default pickle module implicitly. It is possible to construct malicious pickle data which will execute arbitrary code during unpickling (See https://github.com/pytorch/pytorch/blob/main/SECURITY.md#untrusted-models for more details). In a future release, the default value for `weights_only` will be flipped to `True`. This limits the functions that could be executed during unpickling. Arbitrary objects will no longer be allowed to be loaded via this mode unless they are explicitly allowlisted by the user via `torch.serialization.add_safe_globals`. We recommend you start setting `weights_only=True` for any use case where you don't have full control of the loaded file. Please open an issue on GitHub for any issues related to this experimental feature.\n",
      "  custom_mlp.load_state_dict(torch.load(checkpoint_path))\n"
     ]
    },
    {
     "name": "stdout",
     "output_type": "stream",
     "text": [
      "Epoch 2500/2500, Loss: 0.0585\n",
      "Test Accuracy at Epoch 2500: 69.11%\n",
      "Test F1-score at Epoch 2500: 0.6637\n",
      "Classification Report at Epoch 2500:\n",
      "                  precision    recall  f1-score   support\n",
      "\n",
      "    infringement       0.66      0.77      0.71       123\n",
      "non_infringement       0.73      0.61      0.66       123\n",
      "\n",
      "        accuracy                           0.69       246\n",
      "       macro avg       0.70      0.69      0.69       246\n",
      "    weighted avg       0.70      0.69      0.69       246\n",
      "\n"
     ]
    },
    {
     "data": {
      "image/png": "[encoded data removed]",
      "text/plain": [
       "<Figure size 1000x500 with 1 Axes>"
      ]
     },
     "metadata": {},
     "output_type": "display_data"
    },
    {
     "name": "stdout",
     "output_type": "stream",
     "text": [
      "Best Model was saved at epoch 50 with F1-score 0.8017 and accuracy 80.49%\n"
     ]
    }
   ],
   "source": [
    "input_dim = X_train.shape[1]\n",
    "hidden_dim = 256\n",
    "\n",
    "custom_mlp, losses, best_accuracy, best_f1 = train_model(X_train, y_train, X_test, y_test, input_dim, hidden_dim)"
   ]
  },
  {
   "cell_type": "code",
   "execution_count": 63,
   "metadata": {},
   "outputs": [
    {
     "name": "stdout",
     "output_type": "stream",
     "text": [
      "Checkpoint saved to '/home/guangwei/LLM-COPYRIGHT/copyright_newVersion/models/train_input_last_token.pth'.\n"
     ]
    }
   ],
   "source": [
    "def save_checkpoint(model, optimizer, epoch, loss, filepath):\n",
    "    checkpoint = {\n",
    "        'epoch': epoch + 1,\n",
    "        'model_state_dict': model.state_dict(),\n",
    "        'optimizer_state_dict': optimizer.state_dict(),\n",
    "        'loss': loss\n",
    "    }\n",
    "    torch.save(checkpoint, filepath)\n",
    "    print(f\"Checkpoint saved to '{filepath}'.\")\n",
    "\n",
    "save_checkpoint(custom_mlp, torch.optim.Adam(custom_mlp.parameters()), len(losses), losses[-1], checkpoint_file)"
   ]
  },
  {
   "cell_type": "code",
   "execution_count": null,
   "metadata": {},
   "outputs": [
    {
     "name": "stdout",
     "output_type": "stream",
     "text": [
      "Final Model Accuracy: 80.49%\n",
      "                  precision    recall  f1-score   support\n",
      "\n",
      "    infringement       0.80      0.82      0.81       123\n",
      "non_infringement       0.82      0.79      0.80       123\n",
      "\n",
      "        accuracy                           0.80       246\n",
      "       macro avg       0.81      0.80      0.80       246\n",
      "    weighted avg       0.81      0.80      0.80       246\n",
      "\n"
     ]
    },
    {
     "name": "stderr",
     "output_type": "stream",
     "text": [
      "/tmp/ipykernel_1342044/3740627605.py:2: UserWarning: To copy construct from a tensor, it is recommended to use sourceTensor.clone().detach() or sourceTensor.clone().detach().requires_grad_(True), rather than torch.tensor(sourceTensor).\n",
      "  y_pred_final = (torch.sigmoid(torch.tensor(custom_mlp(torch.tensor(X_test, dtype=torch.float32)))) > 0.5).float().numpy()\n"
     ]
    },
    {
     "ename": "",
     "evalue": "",
     "output_type": "error",
     "traceback": [
      "\u001b[1;31mThe Kernel crashed while executing code in the current cell or a previous cell. \n",
      "\u001b[1;31mPlease review the code in the cell(s) to identify a possible cause of the failure. \n",
      "\u001b[1;31mClick <a href='https://aka.ms/vscodeJupyterKernelCrash'>here</a> for more info. \n",
      "\u001b[1;31mView Jupyter <a href='command:jupyter.viewOutput'>log</a> for further details."
     ]
    }
   ],
   "source": [
    "print(f\"Final Model Accuracy: {best_accuracy * 100:.2f}%\")\n",
    "y_pred_final = (torch.sigmoid(torch.tensor(custom_mlp(torch.tensor(X_test, dtype=torch.float32)))) > 0.5).float().numpy()\n",
    "print(classification_report(y_test, y_pred_final, target_names=[\"infringement\", \"non_infringement\"]))"
   ]
  }
 ],
 "metadata": {
  "kernelspec": {
   "display_name": "zdh",
   "language": "python",
   "name": "python3"
  },
  "language_info": {
   "codemirror_mode": {
    "name": "ipython",
    "version": 3
   },
   "file_extension": ".py",
   "mimetype": "text/x-python",
   "name": "python",
   "nbconvert_exporter": "python",
   "pygments_lexer": "ipython3",
   "version": "3.12.3"
  }
 },
 "nbformat": 4,
 "nbformat_minor": 2
}
