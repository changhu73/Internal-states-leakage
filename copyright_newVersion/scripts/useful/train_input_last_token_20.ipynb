{
 "cells": [
  {
   "cell_type": "code",
   "execution_count": 1,
   "metadata": {},
   "outputs": [
    {
     "name": "stderr",
     "output_type": "stream",
     "text": [
      "/home/guangwei/miniconda3/envs/zdh/lib/python3.9/site-packages/tqdm/auto.py:21: TqdmWarning: IProgress not found. Please update jupyter and ipywidgets. See https://ipywidgets.readthedocs.io/en/stable/user_install.html\n",
      "  from .autonotebook import tqdm as notebook_tqdm\n"
     ]
    }
   ],
   "source": [
    "# import packages\n",
    "import torch\n",
    "import torch.nn as nn\n",
    "import numpy as np\n",
    "from sklearn.metrics import accuracy_score, classification_report\n",
    "import matplotlib.pyplot as plt\n",
    "from tqdm import tqdm\n",
    "from transformers import AutoTokenizer, AutoModelForCausalLM\n",
    "import json\n",
    "import os\n",
    "\n",
    "os.environ[\"CUDA_VISIBLE_DEVICES\"] = \"5\"\n",
    "\n",
    "# Variables\n",
    "model_name = 'meta-llama/Meta-Llama-3.1-8B'\n",
    "non_infringement_file = '/home/guangwei/LLM-COPYRIGHT/copyright_newVersion/test_division/extra_20.non_infringement.json'\n",
    "infringement_file = '/home/guangwei/LLM-COPYRIGHT/copyright_newVersion/test_division/extra_20.infringement.json'\n",
    "checkpoint_file = '/home/guangwei/LLM-COPYRIGHT/copyright_newVersion/models/train_input_last_token.pth'"
   ]
  },
  {
   "cell_type": "code",
   "execution_count": 2,
   "metadata": {},
   "outputs": [],
   "source": [
    "# Define CustumMLP for internal states train\n",
    "class CustomMLP(nn.Module):\n",
    "    def __init__(self, input_dim, hidden_dim):\n",
    "        super(CustomMLP, self).__init__()\n",
    "        self.down = nn.Linear(input_dim, hidden_dim)\n",
    "        self.gate = nn.Linear(input_dim, hidden_dim)\n",
    "        self.up = nn.Linear(hidden_dim, 1)\n",
    "        self.activation = nn.SiLU()\n",
    "\n",
    "    def forward(self, x):\n",
    "        down_output = self.down(x)\n",
    "        gate_output = self.gate(x)\n",
    "        gated_output = down_output * self.activation(gate_output)\n",
    "        return self.up(gated_output)"
   ]
  },
  {
   "cell_type": "code",
   "execution_count": 3,
   "metadata": {},
   "outputs": [],
   "source": [
    "def extract_hidden_states(texts, model, tokenizer, batch_size=4):\n",
    "    device = torch.device(\"cuda\" if torch.cuda.is_available() else \"cpu\")\n",
    "    model.to(device)\n",
    "    model = nn.DataParallel(model)\n",
    "    hidden_states = []\n",
    "    for i in tqdm(range(0, len(texts), batch_size), desc=\"Processing data batches\"):\n",
    "        batch_texts = texts[i:i + batch_size]\n",
    "        inputs = tokenizer(batch_texts, return_tensors=\"pt\", padding=True, truncation=True)\n",
    "        with torch.no_grad():\n",
    "            outputs = model(**inputs)\n",
    "        \n",
    "        # 访问最后一个隐藏层的最后一个token的隐藏状态\n",
    "        # hidden_states[-1]表示最后一个隐藏层，mean(dim=1)表示取所有头的均值\n",
    "        last_layer_hidden_states = outputs.hidden_states[-1]\n",
    "        last_token_hidden_states = last_layer_hidden_states[:, -1, :]  # -1表示最后一个token\n",
    "        hidden_states.append(last_token_hidden_states.cpu().numpy())\n",
    "    return np.vstack(hidden_states)"
   ]
  },
  {
   "cell_type": "code",
   "execution_count": 4,
   "metadata": {},
   "outputs": [],
   "source": [
    "# lode data for infringement & non infringement\n",
    "def load_data(non_infringement_file, infringement_file):\n",
    "    with open(non_infringement_file, 'r', encoding='utf-8') as file:\n",
    "        non_infringement_json_data = json.load(file)\n",
    "\n",
    "    non_infringement_outputs = [entry['input'] for entry in non_infringement_json_data]\n",
    "    y_non_infringement = [1] * len(non_infringement_outputs)\n",
    "\n",
    "    with open(infringement_file, 'r', encoding='utf-8') as file:\n",
    "        infringement_json_data = json.load(file)\n",
    "\n",
    "    infringement_outputs = [entry['input'] for entry in infringement_json_data]\n",
    "    y_infringement = [0] * len(infringement_outputs)\n",
    "\n",
    "    return non_infringement_outputs, y_non_infringement, infringement_outputs, y_infringement"
   ]
  },
  {
   "cell_type": "code",
   "execution_count": 5,
   "metadata": {},
   "outputs": [],
   "source": [
    "# Train for best model\n",
    "def train_model(X_train, y_train, X_test, y_test, input_dim, hidden_dim, epochs=500, lr=0.001, checkpoint_path=checkpoint_file):\n",
    "    custom_mlp = CustomMLP(input_dim, hidden_dim)\n",
    "    criterion = nn.BCEWithLogitsLoss()\n",
    "    optimizer = torch.optim.Adam(custom_mlp.parameters(), lr=lr)\n",
    "\n",
    "    X_train_tensor = torch.tensor(X_train, dtype=torch.float32)\n",
    "    y_train_tensor = torch.tensor(y_train, dtype=torch.float32).unsqueeze(1)\n",
    "\n",
    "    best_accuracy = -float('inf')  # Initialize the best accuracy to negative infinity\n",
    "    best_model_state = None  # Store the state of the best model\n",
    "    best_epoch = 0  # Track the epoch with the best accuracy\n",
    "    losses = []\n",
    "\n",
    "    for epoch in tqdm(range(epochs), desc=\"Training Epochs\"):\n",
    "        custom_mlp.train()\n",
    "        optimizer.zero_grad()\n",
    "        outputs = custom_mlp(X_train_tensor)\n",
    "        loss = criterion(outputs, y_train_tensor)\n",
    "        loss.backward()\n",
    "        optimizer.step()\n",
    "        losses.append(loss.item())\n",
    "        \n",
    "        if (epoch + 1) % 10 == 0:\n",
    "            print(f\"Epoch {epoch + 1}/{epochs}, Loss: {loss.item():.4f}\")\n",
    "            \n",
    "            custom_mlp.eval()\n",
    "            X_test_tensor = torch.tensor(X_test, dtype=torch.float32)\n",
    "            with torch.no_grad():\n",
    "                y_pred_logits = custom_mlp(X_test_tensor)\n",
    "                y_pred = (torch.sigmoid(y_pred_logits) > 0.5).float().numpy()\n",
    "            \n",
    "            accuracy = accuracy_score(y_test, y_pred)\n",
    "            print(f\"Test Accuracy at Epoch {epoch + 1}: {accuracy * 100:.2f}%\")\n",
    "            \n",
    "            report = classification_report(y_test, y_pred, target_names=[\"infringement\", \"non_infringement\"])\n",
    "            print(f\"Classification Report at Epoch {epoch + 1}:\\n{report}\")\n",
    "\n",
    "            if accuracy > best_accuracy:\n",
    "                best_accuracy = accuracy\n",
    "                best_model_state = custom_mlp.state_dict()\n",
    "                best_epoch = epoch + 1\n",
    "                torch.save(best_model_state, checkpoint_path)\n",
    "                print(f\"New best model saved with accuracy {best_accuracy * 100:.2f}% at epoch {best_epoch}\")\n",
    "                print(f\"Best Classification Report at Epoch {best_epoch}:\\n{report}\")\n",
    "\n",
    "    custom_mlp.load_state_dict(torch.load(checkpoint_path))\n",
    "\n",
    "    plt.figure(figsize=(10, 5))\n",
    "    plt.plot(losses, label='Training Loss')\n",
    "    plt.xlabel('Epoch')\n",
    "    plt.ylabel('Loss')\n",
    "    plt.title('Training Loss Curve')\n",
    "    plt.legend()\n",
    "    plt.show()\n",
    "\n",
    "    print(f\"Best Model was saved at epoch {best_epoch} with accuracy {best_accuracy * 100:.2f}%\")\n",
    "    return custom_mlp, losses, best_accuracy"
   ]
  },
  {
   "cell_type": "code",
   "execution_count": 6,
   "metadata": {},
   "outputs": [
    {
     "name": "stderr",
     "output_type": "stream",
     "text": [
      "/home/guangwei/miniconda3/envs/zdh/lib/python3.9/site-packages/transformers/generation/configuration_utils.py:777: UserWarning: `return_dict_in_generate` is NOT set to `True`, but `output_hidden_states` is. When `return_dict_in_generate` is not `True`, `output_hidden_states` is ignored.\n",
      "  warnings.warn(\n",
      "Loading checkpoint shards: 100%|██████████| 4/4 [00:02<00:00,  1.35it/s]\n"
     ]
    }
   ],
   "source": [
    "\n",
    "tokenizer = AutoTokenizer.from_pretrained(model_name, model_max_length=512)\n",
    "model = AutoModelForCausalLM.from_pretrained(model_name, output_hidden_states=True)\n",
    "tokenizer.pad_token = tokenizer.eos_token\n",
    "\n",
    "non_infringement_outputs, y_non_infringement, infringement_outputs, y_infringement = load_data(non_infringement_file, infringement_file)\n",
    "\n",
    "y_non_infringement = np.array(y_non_infringement)\n",
    "y_infringement = np.array(y_infringement)\n"
   ]
  },
  {
   "cell_type": "code",
   "execution_count": 7,
   "metadata": {},
   "outputs": [
    {
     "name": "stdout",
     "output_type": "stream",
     "text": [
      "Extracting hidden states for non_infringement texts...\n"
     ]
    },
    {
     "name": "stderr",
     "output_type": "stream",
     "text": [
      "Processing data batches:   0%|          | 0/154 [00:00<?, ?it/s]Starting from v4.46, the `logits` model output will have the same type as the model (except at train time, where it will always be FP32)\n",
      "Processing data batches: 100%|██████████| 154/154 [00:38<00:00,  4.04it/s]\n"
     ]
    },
    {
     "name": "stdout",
     "output_type": "stream",
     "text": [
      "Extracting hidden states for infringement texts...\n"
     ]
    },
    {
     "name": "stderr",
     "output_type": "stream",
     "text": [
      "Processing data batches: 100%|██████████| 153/153 [00:52<00:00,  2.92it/s]\n"
     ]
    }
   ],
   "source": [
    "print(\"Extracting hidden states for non_infringement texts...\")\n",
    "X_non_infringement = extract_hidden_states(non_infringement_outputs, model, tokenizer)\n",
    "\n",
    "print(\"Extracting hidden states for infringement texts...\")\n",
    "X_infringement = extract_hidden_states(infringement_outputs, model, tokenizer)"
   ]
  },
  {
   "cell_type": "code",
   "execution_count": null,
   "metadata": {},
   "outputs": [
    {
     "name": "stdout",
     "output_type": "stream",
     "text": [
      "Extracting hidden states for non_infringement texts...\n"
     ]
    },
    {
     "name": "stderr",
     "output_type": "stream",
     "text": [
      "Processing data batches:   0%|          | 0/154 [00:00<?, ?it/s]Starting from v4.46, the `logits` model output will have the same type as the model (except at train time, where it will always be FP32)\n",
      "Processing data batches: 100%|██████████| 154/154 [00:38<00:00,  4.04it/s]\n"
     ]
    },
    {
     "name": "stdout",
     "output_type": "stream",
     "text": [
      "Extracting hidden states for infringement texts...\n"
     ]
    },
    {
     "name": "stderr",
     "output_type": "stream",
     "text": [
      "Processing data batches: 100%|██████████| 153/153 [00:52<00:00,  2.92it/s]\n"
     ]
    }
   ],
   "source": [
    "print(\"Extracting hidden states for non_infringement texts...\")\n",
    "X_non_infringement = extract_hidden_states(non_infringement_outputs, model, tokenizer)\n",
    "\n",
    "print(\"Extracting hidden states for infringement texts...\")\n",
    "X_infringement = extract_hidden_states(infringement_outputs, model, tokenizer)"
   ]
  },
  {
   "cell_type": "code",
   "execution_count": 8,
   "metadata": {},
   "outputs": [
    {
     "name": "stdout",
     "output_type": "stream",
     "text": [
      "Data successfully split into training and test sets.\n"
     ]
    }
   ],
   "source": [
    "split_index_non_infringement = int(0.8 * len(X_non_infringement))\n",
    "X_non_infringement_train = X_non_infringement[:split_index_non_infringement]\n",
    "X_non_infringement_test = X_non_infringement[split_index_non_infringement:]\n",
    "y_non_infringement_train = y_non_infringement[:split_index_non_infringement]\n",
    "y_non_infringement_test = y_non_infringement[split_index_non_infringement:]\n",
    "\n",
    "split_index_infringement = int(0.8 * len(X_infringement))\n",
    "X_infringement_train = X_infringement[:split_index_infringement]\n",
    "X_infringement_test = X_infringement[split_index_infringement:]\n",
    "y_infringement_train = y_infringement[:split_index_infringement]\n",
    "y_infringement_test = y_infringement[split_index_infringement:]\n",
    "\n",
    "X_train = np.vstack((X_non_infringement_train, X_infringement_train))\n",
    "X_test = np.vstack((X_non_infringement_test, X_infringement_test))\n",
    "y_train = np.concatenate((y_non_infringement_train, y_infringement_train))\n",
    "y_test = np.concatenate((y_non_infringement_test, y_infringement_test))\n",
    "\n",
    "print(\"Data successfully split into training and test sets.\")\n"
   ]
  },
  {
   "cell_type": "code",
   "execution_count": 9,
   "metadata": {},
   "outputs": [
    {
     "name": "stderr",
     "output_type": "stream",
     "text": [
      "Training Epochs:   3%|▎         | 14/500 [00:00<00:17, 28.50it/s]"
     ]
    },
    {
     "name": "stdout",
     "output_type": "stream",
     "text": [
      "Epoch 10/500, Loss: 1.2185\n",
      "Test Accuracy at Epoch 10: 70.33%\n",
      "Classification Report at Epoch 10:\n",
      "                  precision    recall  f1-score   support\n",
      "\n",
      "    infringement       0.67      0.80      0.73       123\n",
      "non_infringement       0.76      0.60      0.67       123\n",
      "\n",
      "        accuracy                           0.70       246\n",
      "       macro avg       0.71      0.70      0.70       246\n",
      "    weighted avg       0.71      0.70      0.70       246\n",
      "\n",
      "New best model saved with accuracy 70.33% at epoch 10\n",
      "Best Classification Report at Epoch 10:\n",
      "                  precision    recall  f1-score   support\n",
      "\n",
      "    infringement       0.67      0.80      0.73       123\n",
      "non_infringement       0.76      0.60      0.67       123\n",
      "\n",
      "        accuracy                           0.70       246\n",
      "       macro avg       0.71      0.70      0.70       246\n",
      "    weighted avg       0.71      0.70      0.70       246\n",
      "\n"
     ]
    },
    {
     "name": "stderr",
     "output_type": "stream",
     "text": [
      "Training Epochs:   5%|▍         | 24/500 [00:00<00:16, 28.24it/s]"
     ]
    },
    {
     "name": "stdout",
     "output_type": "stream",
     "text": [
      "Epoch 20/500, Loss: 0.5000\n",
      "Test Accuracy at Epoch 20: 67.48%\n",
      "Classification Report at Epoch 20:\n",
      "                  precision    recall  f1-score   support\n",
      "\n",
      "    infringement       0.81      0.46      0.58       123\n",
      "non_infringement       0.62      0.89      0.73       123\n",
      "\n",
      "        accuracy                           0.67       246\n",
      "       macro avg       0.72      0.67      0.66       246\n",
      "    weighted avg       0.72      0.67      0.66       246\n",
      "\n"
     ]
    },
    {
     "name": "stderr",
     "output_type": "stream",
     "text": [
      "Training Epochs:   7%|▋         | 35/500 [00:01<00:15, 29.07it/s]"
     ]
    },
    {
     "name": "stdout",
     "output_type": "stream",
     "text": [
      "Epoch 30/500, Loss: 0.4558\n",
      "Test Accuracy at Epoch 30: 67.89%\n",
      "Classification Report at Epoch 30:\n",
      "                  precision    recall  f1-score   support\n",
      "\n",
      "    infringement       0.77      0.51      0.61       123\n",
      "non_infringement       0.63      0.85      0.72       123\n",
      "\n",
      "        accuracy                           0.68       246\n",
      "       macro avg       0.70      0.68      0.67       246\n",
      "    weighted avg       0.70      0.68      0.67       246\n",
      "\n"
     ]
    },
    {
     "name": "stderr",
     "output_type": "stream",
     "text": [
      "Training Epochs:   9%|▉         | 47/500 [00:01<00:14, 30.96it/s]"
     ]
    },
    {
     "name": "stdout",
     "output_type": "stream",
     "text": [
      "Epoch 40/500, Loss: 0.4291\n",
      "Test Accuracy at Epoch 40: 66.67%\n",
      "Classification Report at Epoch 40:\n",
      "                  precision    recall  f1-score   support\n",
      "\n",
      "    infringement       0.78      0.46      0.58       123\n",
      "non_infringement       0.62      0.87      0.72       123\n",
      "\n",
      "        accuracy                           0.67       246\n",
      "       macro avg       0.70      0.67      0.65       246\n",
      "    weighted avg       0.70      0.67      0.65       246\n",
      "\n"
     ]
    },
    {
     "name": "stderr",
     "output_type": "stream",
     "text": [
      "Training Epochs:  10%|█         | 51/500 [00:01<00:16, 27.14it/s]"
     ]
    },
    {
     "name": "stdout",
     "output_type": "stream",
     "text": [
      "Epoch 50/500, Loss: 0.3961\n",
      "Test Accuracy at Epoch 50: 73.98%\n",
      "Classification Report at Epoch 50:\n",
      "                  precision    recall  f1-score   support\n",
      "\n",
      "    infringement       0.81      0.63      0.71       123\n",
      "non_infringement       0.70      0.85      0.77       123\n",
      "\n",
      "        accuracy                           0.74       246\n",
      "       macro avg       0.75      0.74      0.74       246\n",
      "    weighted avg       0.75      0.74      0.74       246\n",
      "\n",
      "New best model saved with accuracy 73.98% at epoch 50\n",
      "Best Classification Report at Epoch 50:\n",
      "                  precision    recall  f1-score   support\n",
      "\n",
      "    infringement       0.81      0.63      0.71       123\n",
      "non_infringement       0.70      0.85      0.77       123\n",
      "\n",
      "        accuracy                           0.74       246\n",
      "       macro avg       0.75      0.74      0.74       246\n",
      "    weighted avg       0.75      0.74      0.74       246\n",
      "\n"
     ]
    },
    {
     "name": "stderr",
     "output_type": "stream",
     "text": [
      "Training Epochs:  13%|█▎        | 63/500 [00:02<00:15, 27.59it/s]"
     ]
    },
    {
     "name": "stdout",
     "output_type": "stream",
     "text": [
      "Epoch 60/500, Loss: 0.3545\n",
      "Test Accuracy at Epoch 60: 75.61%\n",
      "Classification Report at Epoch 60:\n",
      "                  precision    recall  f1-score   support\n",
      "\n",
      "    infringement       0.82      0.66      0.73       123\n",
      "non_infringement       0.71      0.85      0.78       123\n",
      "\n",
      "        accuracy                           0.76       246\n",
      "       macro avg       0.77      0.76      0.75       246\n",
      "    weighted avg       0.77      0.76      0.75       246\n",
      "\n",
      "New best model saved with accuracy 75.61% at epoch 60\n",
      "Best Classification Report at Epoch 60:\n",
      "                  precision    recall  f1-score   support\n",
      "\n",
      "    infringement       0.82      0.66      0.73       123\n",
      "non_infringement       0.71      0.85      0.78       123\n",
      "\n",
      "        accuracy                           0.76       246\n",
      "       macro avg       0.77      0.76      0.75       246\n",
      "    weighted avg       0.77      0.76      0.75       246\n",
      "\n"
     ]
    },
    {
     "name": "stderr",
     "output_type": "stream",
     "text": [
      "Training Epochs:  14%|█▍        | 71/500 [00:02<00:15, 28.51it/s]"
     ]
    },
    {
     "name": "stdout",
     "output_type": "stream",
     "text": [
      "Epoch 70/500, Loss: 0.3084\n",
      "Test Accuracy at Epoch 70: 76.83%\n",
      "Classification Report at Epoch 70:\n",
      "                  precision    recall  f1-score   support\n",
      "\n",
      "    infringement       0.79      0.72      0.76       123\n",
      "non_infringement       0.75      0.81      0.78       123\n",
      "\n",
      "        accuracy                           0.77       246\n",
      "       macro avg       0.77      0.77      0.77       246\n",
      "    weighted avg       0.77      0.77      0.77       246\n",
      "\n",
      "New best model saved with accuracy 76.83% at epoch 70\n",
      "Best Classification Report at Epoch 70:\n",
      "                  precision    recall  f1-score   support\n",
      "\n",
      "    infringement       0.79      0.72      0.76       123\n",
      "non_infringement       0.75      0.81      0.78       123\n",
      "\n",
      "        accuracy                           0.77       246\n",
      "       macro avg       0.77      0.77      0.77       246\n",
      "    weighted avg       0.77      0.77      0.77       246\n",
      "\n"
     ]
    },
    {
     "name": "stderr",
     "output_type": "stream",
     "text": [
      "Training Epochs:  17%|█▋        | 83/500 [00:02<00:14, 28.74it/s]"
     ]
    },
    {
     "name": "stdout",
     "output_type": "stream",
     "text": [
      "Epoch 80/500, Loss: 0.2599\n",
      "Test Accuracy at Epoch 80: 77.24%\n",
      "Classification Report at Epoch 80:\n",
      "                  precision    recall  f1-score   support\n",
      "\n",
      "    infringement       0.78      0.76      0.77       123\n",
      "non_infringement       0.76      0.79      0.78       123\n",
      "\n",
      "        accuracy                           0.77       246\n",
      "       macro avg       0.77      0.77      0.77       246\n",
      "    weighted avg       0.77      0.77      0.77       246\n",
      "\n",
      "New best model saved with accuracy 77.24% at epoch 80\n",
      "Best Classification Report at Epoch 80:\n",
      "                  precision    recall  f1-score   support\n",
      "\n",
      "    infringement       0.78      0.76      0.77       123\n",
      "non_infringement       0.76      0.79      0.78       123\n",
      "\n",
      "        accuracy                           0.77       246\n",
      "       macro avg       0.77      0.77      0.77       246\n",
      "    weighted avg       0.77      0.77      0.77       246\n",
      "\n"
     ]
    },
    {
     "name": "stderr",
     "output_type": "stream",
     "text": [
      "Training Epochs:  19%|█▉        | 94/500 [00:03<00:13, 30.27it/s]"
     ]
    },
    {
     "name": "stdout",
     "output_type": "stream",
     "text": [
      "Epoch 90/500, Loss: 0.2117\n",
      "Test Accuracy at Epoch 90: 75.20%\n",
      "Classification Report at Epoch 90:\n",
      "                  precision    recall  f1-score   support\n",
      "\n",
      "    infringement       0.74      0.78      0.76       123\n",
      "non_infringement       0.77      0.72      0.74       123\n",
      "\n",
      "        accuracy                           0.75       246\n",
      "       macro avg       0.75      0.75      0.75       246\n",
      "    weighted avg       0.75      0.75      0.75       246\n",
      "\n"
     ]
    },
    {
     "name": "stderr",
     "output_type": "stream",
     "text": [
      "Training Epochs:  21%|██        | 105/500 [00:03<00:13, 29.46it/s]"
     ]
    },
    {
     "name": "stdout",
     "output_type": "stream",
     "text": [
      "Epoch 100/500, Loss: 0.1729\n",
      "Test Accuracy at Epoch 100: 71.54%\n",
      "Classification Report at Epoch 100:\n",
      "                  precision    recall  f1-score   support\n",
      "\n",
      "    infringement       0.69      0.77      0.73       123\n",
      "non_infringement       0.74      0.66      0.70       123\n",
      "\n",
      "        accuracy                           0.72       246\n",
      "       macro avg       0.72      0.72      0.71       246\n",
      "    weighted avg       0.72      0.72      0.71       246\n",
      "\n"
     ]
    },
    {
     "name": "stderr",
     "output_type": "stream",
     "text": [
      "Training Epochs:  22%|██▏       | 112/500 [00:04<00:14, 27.51it/s]"
     ]
    },
    {
     "name": "stdout",
     "output_type": "stream",
     "text": [
      "Epoch 110/500, Loss: 0.1601\n",
      "Test Accuracy at Epoch 110: 72.36%\n",
      "Classification Report at Epoch 110:\n",
      "                  precision    recall  f1-score   support\n",
      "\n",
      "    infringement       0.71      0.75      0.73       123\n",
      "non_infringement       0.74      0.70      0.72       123\n",
      "\n",
      "        accuracy                           0.72       246\n",
      "       macro avg       0.72      0.72      0.72       246\n",
      "    weighted avg       0.72      0.72      0.72       246\n",
      "\n"
     ]
    },
    {
     "name": "stderr",
     "output_type": "stream",
     "text": [
      "Training Epochs:  25%|██▍       | 124/500 [00:04<00:15, 25.02it/s]"
     ]
    },
    {
     "name": "stdout",
     "output_type": "stream",
     "text": [
      "Epoch 120/500, Loss: 0.1403\n",
      "Test Accuracy at Epoch 120: 69.51%\n",
      "Classification Report at Epoch 120:\n",
      "                  precision    recall  f1-score   support\n",
      "\n",
      "    infringement       0.66      0.80      0.72       123\n",
      "non_infringement       0.74      0.59      0.66       123\n",
      "\n",
      "        accuracy                           0.70       246\n",
      "       macro avg       0.70      0.70      0.69       246\n",
      "    weighted avg       0.70      0.70      0.69       246\n",
      "\n"
     ]
    },
    {
     "name": "stderr",
     "output_type": "stream",
     "text": [
      "Training Epochs:  27%|██▋       | 134/500 [00:04<00:12, 28.21it/s]"
     ]
    },
    {
     "name": "stdout",
     "output_type": "stream",
     "text": [
      "Epoch 130/500, Loss: 0.1104\n",
      "Test Accuracy at Epoch 130: 69.11%\n",
      "Classification Report at Epoch 130:\n",
      "                  precision    recall  f1-score   support\n",
      "\n",
      "    infringement       0.66      0.80      0.72       123\n",
      "non_infringement       0.74      0.59      0.65       123\n",
      "\n",
      "        accuracy                           0.69       246\n",
      "       macro avg       0.70      0.69      0.69       246\n",
      "    weighted avg       0.70      0.69      0.69       246\n",
      "\n"
     ]
    },
    {
     "name": "stderr",
     "output_type": "stream",
     "text": [
      "Training Epochs:  30%|██▉       | 148/500 [00:05<00:10, 33.95it/s]"
     ]
    },
    {
     "name": "stdout",
     "output_type": "stream",
     "text": [
      "Epoch 140/500, Loss: 0.1019\n",
      "Test Accuracy at Epoch 140: 70.33%\n",
      "Classification Report at Epoch 140:\n",
      "                  precision    recall  f1-score   support\n",
      "\n",
      "    infringement       0.67      0.80      0.73       123\n",
      "non_infringement       0.75      0.61      0.67       123\n",
      "\n",
      "        accuracy                           0.70       246\n",
      "       macro avg       0.71      0.70      0.70       246\n",
      "    weighted avg       0.71      0.70      0.70       246\n",
      "\n"
     ]
    },
    {
     "name": "stderr",
     "output_type": "stream",
     "text": [
      "Training Epochs:  31%|███       | 156/500 [00:05<00:10, 34.04it/s]"
     ]
    },
    {
     "name": "stdout",
     "output_type": "stream",
     "text": [
      "Epoch 150/500, Loss: 0.0909\n",
      "Test Accuracy at Epoch 150: 69.51%\n",
      "Classification Report at Epoch 150:\n",
      "                  precision    recall  f1-score   support\n",
      "\n",
      "    infringement       0.66      0.80      0.72       123\n",
      "non_infringement       0.74      0.59      0.66       123\n",
      "\n",
      "        accuracy                           0.70       246\n",
      "       macro avg       0.70      0.70      0.69       246\n",
      "    weighted avg       0.70      0.70      0.69       246\n",
      "\n"
     ]
    },
    {
     "name": "stderr",
     "output_type": "stream",
     "text": [
      "Training Epochs:  32%|███▏      | 161/500 [00:05<00:11, 29.09it/s]"
     ]
    },
    {
     "name": "stdout",
     "output_type": "stream",
     "text": [
      "Epoch 160/500, Loss: 0.0825\n",
      "Test Accuracy at Epoch 160: 68.70%\n",
      "Classification Report at Epoch 160:\n",
      "                  precision    recall  f1-score   support\n",
      "\n",
      "    infringement       0.66      0.77      0.71       123\n",
      "non_infringement       0.73      0.60      0.66       123\n",
      "\n",
      "        accuracy                           0.69       246\n",
      "       macro avg       0.69      0.69      0.68       246\n",
      "    weighted avg       0.69      0.69      0.68       246\n",
      "\n"
     ]
    },
    {
     "name": "stderr",
     "output_type": "stream",
     "text": [
      "Training Epochs:  35%|███▍      | 173/500 [00:06<00:10, 32.53it/s]"
     ]
    },
    {
     "name": "stdout",
     "output_type": "stream",
     "text": [
      "Epoch 170/500, Loss: 0.0771\n",
      "Test Accuracy at Epoch 170: 68.70%\n",
      "Classification Report at Epoch 170:\n",
      "                  precision    recall  f1-score   support\n",
      "\n",
      "    infringement       0.66      0.77      0.71       123\n",
      "non_infringement       0.73      0.60      0.66       123\n",
      "\n",
      "        accuracy                           0.69       246\n",
      "       macro avg       0.69      0.69      0.68       246\n",
      "    weighted avg       0.69      0.69      0.68       246\n",
      "\n"
     ]
    },
    {
     "name": "stderr",
     "output_type": "stream",
     "text": [
      "Training Epochs:  38%|███▊      | 189/500 [00:06<00:07, 40.72it/s]"
     ]
    },
    {
     "name": "stdout",
     "output_type": "stream",
     "text": [
      "Epoch 180/500, Loss: 0.0733\n",
      "Test Accuracy at Epoch 180: 67.48%\n",
      "Classification Report at Epoch 180:\n",
      "                  precision    recall  f1-score   support\n",
      "\n",
      "    infringement       0.65      0.77      0.70       123\n",
      "non_infringement       0.72      0.58      0.64       123\n",
      "\n",
      "        accuracy                           0.67       246\n",
      "       macro avg       0.68      0.67      0.67       246\n",
      "    weighted avg       0.68      0.67      0.67       246\n",
      "\n"
     ]
    },
    {
     "name": "stderr",
     "output_type": "stream",
     "text": [
      "Training Epochs:  39%|███▉      | 194/500 [00:06<00:07, 42.89it/s]"
     ]
    },
    {
     "name": "stdout",
     "output_type": "stream",
     "text": [
      "Epoch 190/500, Loss: 0.0704\n",
      "Test Accuracy at Epoch 190: 67.48%\n",
      "Classification Report at Epoch 190:\n",
      "                  precision    recall  f1-score   support\n",
      "\n",
      "    infringement       0.65      0.77      0.70       123\n",
      "non_infringement       0.72      0.58      0.64       123\n",
      "\n",
      "        accuracy                           0.67       246\n",
      "       macro avg       0.68      0.67      0.67       246\n",
      "    weighted avg       0.68      0.67      0.67       246\n",
      "\n"
     ]
    },
    {
     "name": "stderr",
     "output_type": "stream",
     "text": [
      "Training Epochs:  41%|████      | 204/500 [00:06<00:07, 41.63it/s]"
     ]
    },
    {
     "name": "stdout",
     "output_type": "stream",
     "text": [
      "Epoch 200/500, Loss: 0.0684\n",
      "Test Accuracy at Epoch 200: 67.07%\n",
      "Classification Report at Epoch 200:\n",
      "                  precision    recall  f1-score   support\n",
      "\n",
      "    infringement       0.64      0.77      0.70       123\n",
      "non_infringement       0.71      0.57      0.63       123\n",
      "\n",
      "        accuracy                           0.67       246\n",
      "       macro avg       0.68      0.67      0.67       246\n",
      "    weighted avg       0.68      0.67      0.67       246\n",
      "\n",
      "Epoch 210/500, Loss: 0.0722\n"
     ]
    },
    {
     "name": "stderr",
     "output_type": "stream",
     "text": [
      "Training Epochs:  43%|████▎     | 216/500 [00:07<00:06, 41.33it/s]"
     ]
    },
    {
     "name": "stdout",
     "output_type": "stream",
     "text": [
      "Test Accuracy at Epoch 210: 66.67%\n",
      "Classification Report at Epoch 210:\n",
      "                  precision    recall  f1-score   support\n",
      "\n",
      "    infringement       0.63      0.79      0.70       123\n",
      "non_infringement       0.72      0.54      0.62       123\n",
      "\n",
      "        accuracy                           0.67       246\n",
      "       macro avg       0.68      0.67      0.66       246\n",
      "    weighted avg       0.68      0.67      0.66       246\n",
      "\n"
     ]
    },
    {
     "name": "stderr",
     "output_type": "stream",
     "text": [
      "Training Epochs:  45%|████▌     | 227/500 [00:07<00:06, 45.43it/s]"
     ]
    },
    {
     "name": "stdout",
     "output_type": "stream",
     "text": [
      "Epoch 220/500, Loss: 0.3143\n",
      "Test Accuracy at Epoch 220: 67.48%\n",
      "Classification Report at Epoch 220:\n",
      "                  precision    recall  f1-score   support\n",
      "\n",
      "    infringement       0.64      0.80      0.71       123\n",
      "non_infringement       0.73      0.55      0.63       123\n",
      "\n",
      "        accuracy                           0.67       246\n",
      "       macro avg       0.69      0.67      0.67       246\n",
      "    weighted avg       0.69      0.67      0.67       246\n",
      "\n",
      "Epoch 230/500, Loss: 0.1034\n"
     ]
    },
    {
     "name": "stderr",
     "output_type": "stream",
     "text": [
      "Training Epochs:  47%|████▋     | 237/500 [00:07<00:06, 41.31it/s]"
     ]
    },
    {
     "name": "stdout",
     "output_type": "stream",
     "text": [
      "Test Accuracy at Epoch 230: 67.89%\n",
      "Classification Report at Epoch 230:\n",
      "                  precision    recall  f1-score   support\n",
      "\n",
      "    infringement       0.64      0.81      0.72       123\n",
      "non_infringement       0.74      0.54      0.63       123\n",
      "\n",
      "        accuracy                           0.68       246\n",
      "       macro avg       0.69      0.68      0.67       246\n",
      "    weighted avg       0.69      0.68      0.67       246\n",
      "\n"
     ]
    },
    {
     "name": "stderr",
     "output_type": "stream",
     "text": [
      "Training Epochs:  50%|████▉     | 248/500 [00:07<00:05, 46.66it/s]"
     ]
    },
    {
     "name": "stdout",
     "output_type": "stream",
     "text": [
      "Epoch 240/500, Loss: 0.1111\n",
      "Test Accuracy at Epoch 240: 67.48%\n",
      "Classification Report at Epoch 240:\n",
      "                  precision    recall  f1-score   support\n",
      "\n",
      "    infringement       0.66      0.72      0.69       123\n",
      "non_infringement       0.69      0.63      0.66       123\n",
      "\n",
      "        accuracy                           0.67       246\n",
      "       macro avg       0.68      0.67      0.67       246\n",
      "    weighted avg       0.68      0.67      0.67       246\n",
      "\n",
      "Epoch 250/500, Loss: 0.0854\n"
     ]
    },
    {
     "name": "stderr",
     "output_type": "stream",
     "text": [
      "Training Epochs:  51%|█████     | 253/500 [00:07<00:06, 41.12it/s]"
     ]
    },
    {
     "name": "stdout",
     "output_type": "stream",
     "text": [
      "Test Accuracy at Epoch 250: 69.11%\n",
      "Classification Report at Epoch 250:\n",
      "                  precision    recall  f1-score   support\n",
      "\n",
      "    infringement       0.66      0.80      0.72       123\n",
      "non_infringement       0.75      0.58      0.65       123\n",
      "\n",
      "        accuracy                           0.69       246\n",
      "       macro avg       0.70      0.69      0.69       246\n",
      "    weighted avg       0.70      0.69      0.69       246\n",
      "\n"
     ]
    },
    {
     "name": "stderr",
     "output_type": "stream",
     "text": [
      "Training Epochs:  53%|█████▎    | 264/500 [00:08<00:05, 45.55it/s]"
     ]
    },
    {
     "name": "stdout",
     "output_type": "stream",
     "text": [
      "Epoch 260/500, Loss: 0.0752\n",
      "Test Accuracy at Epoch 260: 69.92%\n",
      "Classification Report at Epoch 260:\n",
      "                  precision    recall  f1-score   support\n",
      "\n",
      "    infringement       0.67      0.77      0.72       123\n",
      "non_infringement       0.73      0.63      0.68       123\n",
      "\n",
      "        accuracy                           0.70       246\n",
      "       macro avg       0.70      0.70      0.70       246\n",
      "    weighted avg       0.70      0.70      0.70       246\n",
      "\n"
     ]
    },
    {
     "name": "stderr",
     "output_type": "stream",
     "text": [
      "Training Epochs:  55%|█████▍    | 274/500 [00:08<00:05, 43.31it/s]"
     ]
    },
    {
     "name": "stdout",
     "output_type": "stream",
     "text": [
      "Epoch 270/500, Loss: 0.0704\n",
      "Test Accuracy at Epoch 270: 67.48%\n",
      "Classification Report at Epoch 270:\n",
      "                  precision    recall  f1-score   support\n",
      "\n",
      "    infringement       0.65      0.77      0.70       123\n",
      "non_infringement       0.72      0.58      0.64       123\n",
      "\n",
      "        accuracy                           0.67       246\n",
      "       macro avg       0.68      0.67      0.67       246\n",
      "    weighted avg       0.68      0.67      0.67       246\n",
      "\n"
     ]
    },
    {
     "name": "stderr",
     "output_type": "stream",
     "text": [
      "Training Epochs:  57%|█████▋    | 286/500 [00:08<00:04, 45.61it/s]"
     ]
    },
    {
     "name": "stdout",
     "output_type": "stream",
     "text": [
      "Epoch 280/500, Loss: 0.0681\n",
      "Test Accuracy at Epoch 280: 68.29%\n",
      "Classification Report at Epoch 280:\n",
      "                  precision    recall  f1-score   support\n",
      "\n",
      "    infringement       0.66      0.77      0.71       123\n",
      "non_infringement       0.72      0.59      0.65       123\n",
      "\n",
      "        accuracy                           0.68       246\n",
      "       macro avg       0.69      0.68      0.68       246\n",
      "    weighted avg       0.69      0.68      0.68       246\n",
      "\n"
     ]
    },
    {
     "name": "stderr",
     "output_type": "stream",
     "text": [
      "Training Epochs:  59%|█████▉    | 297/500 [00:08<00:04, 47.32it/s]"
     ]
    },
    {
     "name": "stdout",
     "output_type": "stream",
     "text": [
      "Epoch 290/500, Loss: 0.0667\n",
      "Test Accuracy at Epoch 290: 68.29%\n",
      "Classification Report at Epoch 290:\n",
      "                  precision    recall  f1-score   support\n",
      "\n",
      "    infringement       0.66      0.77      0.71       123\n",
      "non_infringement       0.72      0.59      0.65       123\n",
      "\n",
      "        accuracy                           0.68       246\n",
      "       macro avg       0.69      0.68      0.68       246\n",
      "    weighted avg       0.69      0.68      0.68       246\n",
      "\n",
      "Epoch 300/500, Loss: 0.0656\n",
      "Test Accuracy at Epoch 300: 68.29%\n",
      "Classification Report at Epoch 300:\n",
      "                  precision    recall  f1-score   support\n",
      "\n",
      "    infringement       0.66      0.77      0.71       123\n",
      "non_infringement       0.72      0.59      0.65       123\n",
      "\n",
      "        accuracy                           0.68       246\n",
      "       macro avg       0.69      0.68      0.68       246\n",
      "    weighted avg       0.69      0.68      0.68       246\n",
      "\n"
     ]
    },
    {
     "name": "stderr",
     "output_type": "stream",
     "text": [
      "Training Epochs:  64%|██████▎   | 318/500 [00:09<00:03, 47.13it/s]"
     ]
    },
    {
     "name": "stdout",
     "output_type": "stream",
     "text": [
      "Epoch 310/500, Loss: 0.0649\n",
      "Test Accuracy at Epoch 310: 68.29%\n",
      "Classification Report at Epoch 310:\n",
      "                  precision    recall  f1-score   support\n",
      "\n",
      "    infringement       0.66      0.77      0.71       123\n",
      "non_infringement       0.72      0.59      0.65       123\n",
      "\n",
      "        accuracy                           0.68       246\n",
      "       macro avg       0.69      0.68      0.68       246\n",
      "    weighted avg       0.69      0.68      0.68       246\n",
      "\n",
      "Epoch 320/500, Loss: 0.0643\n",
      "Test Accuracy at Epoch 320: 67.89%\n"
     ]
    },
    {
     "name": "stderr",
     "output_type": "stream",
     "text": [
      "Training Epochs:  66%|██████▌   | 329/500 [00:09<00:03, 46.97it/s]"
     ]
    },
    {
     "name": "stdout",
     "output_type": "stream",
     "text": [
      "Classification Report at Epoch 320:\n",
      "                  precision    recall  f1-score   support\n",
      "\n",
      "    infringement       0.65      0.77      0.71       123\n",
      "non_infringement       0.72      0.59      0.65       123\n",
      "\n",
      "        accuracy                           0.68       246\n",
      "       macro avg       0.69      0.68      0.68       246\n",
      "    weighted avg       0.69      0.68      0.68       246\n",
      "\n"
     ]
    },
    {
     "name": "stderr",
     "output_type": "stream",
     "text": [
      "Training Epochs:  67%|██████▋   | 335/500 [00:09<00:03, 48.86it/s]"
     ]
    },
    {
     "name": "stdout",
     "output_type": "stream",
     "text": [
      "Epoch 330/500, Loss: 0.0638\n",
      "Test Accuracy at Epoch 330: 67.89%\n",
      "Classification Report at Epoch 330:\n",
      "                  precision    recall  f1-score   support\n",
      "\n",
      "    infringement       0.65      0.77      0.71       123\n",
      "non_infringement       0.72      0.59      0.65       123\n",
      "\n",
      "        accuracy                           0.68       246\n",
      "       macro avg       0.69      0.68      0.68       246\n",
      "    weighted avg       0.69      0.68      0.68       246\n",
      "\n",
      "Epoch 340/500, Loss: 0.0634\n",
      "Test Accuracy at Epoch 340: 68.29%\n",
      "Classification Report at Epoch 340:\n",
      "                  precision    recall  f1-score   support\n",
      "\n",
      "    infringement       0.66      0.77      0.71       123\n",
      "non_infringement       0.72      0.59      0.65       123\n",
      "\n",
      "        accuracy                           0.68       246\n",
      "       macro avg       0.69      0.68      0.68       246\n",
      "    weighted avg       0.69      0.68      0.68       246\n",
      "\n"
     ]
    },
    {
     "name": "stderr",
     "output_type": "stream",
     "text": [
      "Training Epochs:  72%|███████▏  | 358/500 [00:10<00:02, 47.55it/s]"
     ]
    },
    {
     "name": "stdout",
     "output_type": "stream",
     "text": [
      "Epoch 350/500, Loss: 0.0630\n",
      "Test Accuracy at Epoch 350: 68.29%\n",
      "Classification Report at Epoch 350:\n",
      "                  precision    recall  f1-score   support\n",
      "\n",
      "    infringement       0.66      0.77      0.71       123\n",
      "non_infringement       0.72      0.59      0.65       123\n",
      "\n",
      "        accuracy                           0.68       246\n",
      "       macro avg       0.69      0.68      0.68       246\n",
      "    weighted avg       0.69      0.68      0.68       246\n",
      "\n"
     ]
    },
    {
     "name": "stderr",
     "output_type": "stream",
     "text": [
      "Training Epochs:  74%|███████▎  | 368/500 [00:10<00:03, 43.75it/s]"
     ]
    },
    {
     "name": "stdout",
     "output_type": "stream",
     "text": [
      "Epoch 360/500, Loss: 0.0627\n",
      "Test Accuracy at Epoch 360: 68.29%\n",
      "Classification Report at Epoch 360:\n",
      "                  precision    recall  f1-score   support\n",
      "\n",
      "    infringement       0.66      0.77      0.71       123\n",
      "non_infringement       0.72      0.59      0.65       123\n",
      "\n",
      "        accuracy                           0.68       246\n",
      "       macro avg       0.69      0.68      0.68       246\n",
      "    weighted avg       0.69      0.68      0.68       246\n",
      "\n"
     ]
    },
    {
     "name": "stderr",
     "output_type": "stream",
     "text": [
      "Training Epochs:  75%|███████▍  | 373/500 [00:10<00:02, 44.46it/s]"
     ]
    },
    {
     "name": "stdout",
     "output_type": "stream",
     "text": [
      "Epoch 370/500, Loss: 0.0624\n",
      "Test Accuracy at Epoch 370: 67.48%\n",
      "Classification Report at Epoch 370:\n",
      "                  precision    recall  f1-score   support\n",
      "\n",
      "    infringement       0.65      0.77      0.70       123\n",
      "non_infringement       0.72      0.58      0.64       123\n",
      "\n",
      "        accuracy                           0.67       246\n",
      "       macro avg       0.68      0.67      0.67       246\n",
      "    weighted avg       0.68      0.67      0.67       246\n",
      "\n"
     ]
    },
    {
     "name": "stderr",
     "output_type": "stream",
     "text": [
      "Training Epochs:  78%|███████▊  | 389/500 [00:10<00:02, 46.80it/s]"
     ]
    },
    {
     "name": "stdout",
     "output_type": "stream",
     "text": [
      "Epoch 380/500, Loss: 0.0621\n",
      "Test Accuracy at Epoch 380: 67.48%\n",
      "Classification Report at Epoch 380:\n",
      "                  precision    recall  f1-score   support\n",
      "\n",
      "    infringement       0.65      0.77      0.70       123\n",
      "non_infringement       0.72      0.58      0.64       123\n",
      "\n",
      "        accuracy                           0.67       246\n",
      "       macro avg       0.68      0.67      0.67       246\n",
      "    weighted avg       0.68      0.67      0.67       246\n",
      "\n",
      "Epoch 390/500, Loss: 0.0619\n"
     ]
    },
    {
     "name": "stderr",
     "output_type": "stream",
     "text": [
      "Training Epochs:  79%|███████▉  | 394/500 [00:11<00:02, 39.52it/s]"
     ]
    },
    {
     "name": "stdout",
     "output_type": "stream",
     "text": [
      "Test Accuracy at Epoch 390: 67.89%\n",
      "Classification Report at Epoch 390:\n",
      "                  precision    recall  f1-score   support\n",
      "\n",
      "    infringement       0.65      0.77      0.71       123\n",
      "non_infringement       0.72      0.59      0.65       123\n",
      "\n",
      "        accuracy                           0.68       246\n",
      "       macro avg       0.69      0.68      0.68       246\n",
      "    weighted avg       0.69      0.68      0.68       246\n",
      "\n"
     ]
    },
    {
     "name": "stderr",
     "output_type": "stream",
     "text": [
      "Training Epochs:  81%|████████  | 404/500 [00:11<00:02, 39.72it/s]"
     ]
    },
    {
     "name": "stdout",
     "output_type": "stream",
     "text": [
      "Epoch 400/500, Loss: 0.0616\n",
      "Test Accuracy at Epoch 400: 67.89%\n",
      "Classification Report at Epoch 400:\n",
      "                  precision    recall  f1-score   support\n",
      "\n",
      "    infringement       0.65      0.77      0.71       123\n",
      "non_infringement       0.72      0.59      0.65       123\n",
      "\n",
      "        accuracy                           0.68       246\n",
      "       macro avg       0.69      0.68      0.68       246\n",
      "    weighted avg       0.69      0.68      0.68       246\n",
      "\n"
     ]
    },
    {
     "name": "stderr",
     "output_type": "stream",
     "text": [
      "Training Epochs:  84%|████████▎ | 418/500 [00:11<00:02, 38.21it/s]"
     ]
    },
    {
     "name": "stdout",
     "output_type": "stream",
     "text": [
      "Epoch 410/500, Loss: 0.0614\n",
      "Test Accuracy at Epoch 410: 67.48%\n",
      "Classification Report at Epoch 410:\n",
      "                  precision    recall  f1-score   support\n",
      "\n",
      "    infringement       0.65      0.77      0.70       123\n",
      "non_infringement       0.72      0.58      0.64       123\n",
      "\n",
      "        accuracy                           0.67       246\n",
      "       macro avg       0.68      0.67      0.67       246\n",
      "    weighted avg       0.68      0.67      0.67       246\n",
      "\n"
     ]
    },
    {
     "name": "stderr",
     "output_type": "stream",
     "text": [
      "Training Epochs:  84%|████████▍ | 422/500 [00:11<00:02, 33.47it/s]"
     ]
    },
    {
     "name": "stdout",
     "output_type": "stream",
     "text": [
      "Epoch 420/500, Loss: 0.0612\n",
      "Test Accuracy at Epoch 420: 67.48%\n",
      "Classification Report at Epoch 420:\n",
      "                  precision    recall  f1-score   support\n",
      "\n",
      "    infringement       0.65      0.77      0.70       123\n",
      "non_infringement       0.72      0.58      0.64       123\n",
      "\n",
      "        accuracy                           0.67       246\n",
      "       macro avg       0.68      0.67      0.67       246\n",
      "    weighted avg       0.68      0.67      0.67       246\n",
      "\n"
     ]
    },
    {
     "name": "stderr",
     "output_type": "stream",
     "text": [
      "Training Epochs:  87%|████████▋ | 435/500 [00:12<00:01, 37.09it/s]"
     ]
    },
    {
     "name": "stdout",
     "output_type": "stream",
     "text": [
      "Epoch 430/500, Loss: 0.0611\n",
      "Test Accuracy at Epoch 430: 67.89%\n",
      "Classification Report at Epoch 430:\n",
      "                  precision    recall  f1-score   support\n",
      "\n",
      "    infringement       0.65      0.77      0.71       123\n",
      "non_infringement       0.72      0.59      0.65       123\n",
      "\n",
      "        accuracy                           0.68       246\n",
      "       macro avg       0.69      0.68      0.68       246\n",
      "    weighted avg       0.69      0.68      0.68       246\n",
      "\n"
     ]
    },
    {
     "name": "stderr",
     "output_type": "stream",
     "text": [
      "Training Epochs:  89%|████████▉ | 447/500 [00:12<00:01, 36.05it/s]"
     ]
    },
    {
     "name": "stdout",
     "output_type": "stream",
     "text": [
      "Epoch 440/500, Loss: 0.0609\n",
      "Test Accuracy at Epoch 440: 67.89%\n",
      "Classification Report at Epoch 440:\n",
      "                  precision    recall  f1-score   support\n",
      "\n",
      "    infringement       0.65      0.77      0.71       123\n",
      "non_infringement       0.72      0.59      0.65       123\n",
      "\n",
      "        accuracy                           0.68       246\n",
      "       macro avg       0.69      0.68      0.68       246\n",
      "    weighted avg       0.69      0.68      0.68       246\n",
      "\n"
     ]
    },
    {
     "name": "stderr",
     "output_type": "stream",
     "text": [
      "Training Epochs:  91%|█████████ | 455/500 [00:12<00:01, 34.20it/s]"
     ]
    },
    {
     "name": "stdout",
     "output_type": "stream",
     "text": [
      "Epoch 450/500, Loss: 0.0607\n",
      "Test Accuracy at Epoch 450: 67.89%\n",
      "Classification Report at Epoch 450:\n",
      "                  precision    recall  f1-score   support\n",
      "\n",
      "    infringement       0.65      0.77      0.71       123\n",
      "non_infringement       0.72      0.59      0.65       123\n",
      "\n",
      "        accuracy                           0.68       246\n",
      "       macro avg       0.69      0.68      0.68       246\n",
      "    weighted avg       0.69      0.68      0.68       246\n",
      "\n"
     ]
    },
    {
     "name": "stderr",
     "output_type": "stream",
     "text": [
      "Training Epochs:  93%|█████████▎| 464/500 [00:13<00:01, 32.60it/s]"
     ]
    },
    {
     "name": "stdout",
     "output_type": "stream",
     "text": [
      "Epoch 460/500, Loss: 0.0606\n",
      "Test Accuracy at Epoch 460: 67.89%\n",
      "Classification Report at Epoch 460:\n",
      "                  precision    recall  f1-score   support\n",
      "\n",
      "    infringement       0.65      0.77      0.71       123\n",
      "non_infringement       0.72      0.59      0.65       123\n",
      "\n",
      "        accuracy                           0.68       246\n",
      "       macro avg       0.69      0.68      0.68       246\n",
      "    weighted avg       0.69      0.68      0.68       246\n",
      "\n"
     ]
    },
    {
     "name": "stderr",
     "output_type": "stream",
     "text": [
      "Training Epochs:  95%|█████████▍| 473/500 [00:13<00:00, 36.78it/s]"
     ]
    },
    {
     "name": "stdout",
     "output_type": "stream",
     "text": [
      "Epoch 470/500, Loss: 0.0604\n",
      "Test Accuracy at Epoch 470: 67.89%\n",
      "Classification Report at Epoch 470:\n",
      "                  precision    recall  f1-score   support\n",
      "\n",
      "    infringement       0.65      0.77      0.71       123\n",
      "non_infringement       0.72      0.59      0.65       123\n",
      "\n",
      "        accuracy                           0.68       246\n",
      "       macro avg       0.69      0.68      0.68       246\n",
      "    weighted avg       0.69      0.68      0.68       246\n",
      "\n"
     ]
    },
    {
     "name": "stderr",
     "output_type": "stream",
     "text": [
      "Training Epochs:  98%|█████████▊| 489/500 [00:13<00:00, 41.15it/s]"
     ]
    },
    {
     "name": "stdout",
     "output_type": "stream",
     "text": [
      "Epoch 480/500, Loss: 0.0603\n",
      "Test Accuracy at Epoch 480: 67.89%\n",
      "Classification Report at Epoch 480:\n",
      "                  precision    recall  f1-score   support\n",
      "\n",
      "    infringement       0.65      0.77      0.71       123\n",
      "non_infringement       0.72      0.59      0.65       123\n",
      "\n",
      "        accuracy                           0.68       246\n",
      "       macro avg       0.69      0.68      0.68       246\n",
      "    weighted avg       0.69      0.68      0.68       246\n",
      "\n"
     ]
    },
    {
     "name": "stderr",
     "output_type": "stream",
     "text": [
      "Training Epochs:  99%|█████████▉| 494/500 [00:13<00:00, 41.82it/s]"
     ]
    },
    {
     "name": "stdout",
     "output_type": "stream",
     "text": [
      "Epoch 490/500, Loss: 0.0602\n",
      "Test Accuracy at Epoch 490: 67.89%\n",
      "Classification Report at Epoch 490:\n",
      "                  precision    recall  f1-score   support\n",
      "\n",
      "    infringement       0.65      0.77      0.71       123\n",
      "non_infringement       0.72      0.59      0.65       123\n",
      "\n",
      "        accuracy                           0.68       246\n",
      "       macro avg       0.69      0.68      0.68       246\n",
      "    weighted avg       0.69      0.68      0.68       246\n",
      "\n"
     ]
    },
    {
     "name": "stderr",
     "output_type": "stream",
     "text": [
      "Training Epochs: 100%|██████████| 500/500 [00:13<00:00, 35.76it/s]\n",
      "/tmp/ipykernel_2525345/3960048660.py:47: FutureWarning: You are using `torch.load` with `weights_only=False` (the current default value), which uses the default pickle module implicitly. It is possible to construct malicious pickle data which will execute arbitrary code during unpickling (See https://github.com/pytorch/pytorch/blob/main/SECURITY.md#untrusted-models for more details). In a future release, the default value for `weights_only` will be flipped to `True`. This limits the functions that could be executed during unpickling. Arbitrary objects will no longer be allowed to be loaded via this mode unless they are explicitly allowlisted by the user via `torch.serialization.add_safe_globals`. We recommend you start setting `weights_only=True` for any use case where you don't have full control of the loaded file. Please open an issue on GitHub for any issues related to this experimental feature.\n",
      "  custom_mlp.load_state_dict(torch.load(checkpoint_path))\n"
     ]
    },
    {
     "name": "stdout",
     "output_type": "stream",
     "text": [
      "Epoch 500/500, Loss: 0.0601\n",
      "Test Accuracy at Epoch 500: 67.89%\n",
      "Classification Report at Epoch 500:\n",
      "                  precision    recall  f1-score   support\n",
      "\n",
      "    infringement       0.65      0.77      0.71       123\n",
      "non_infringement       0.72      0.59      0.65       123\n",
      "\n",
      "        accuracy                           0.68       246\n",
      "       macro avg       0.69      0.68      0.68       246\n",
      "    weighted avg       0.69      0.68      0.68       246\n",
      "\n"
     ]
    },
    {
     "data": {
      "image/png": "[encoded data removed]",
      "text/plain": [
       "<Figure size 1000x500 with 1 Axes>"
      ]
     },
     "metadata": {},
     "output_type": "display_data"
    },
    {
     "name": "stdout",
     "output_type": "stream",
     "text": [
      "Best Model was saved at epoch 80 with accuracy 77.24%\n"
     ]
    }
   ],
   "source": [
    "input_dim = X_train.shape[1]\n",
    "hidden_dim = 256\n",
    "\n",
    "custom_mlp, losses, best_accuracy = train_model(X_train, y_train, X_test, y_test, input_dim, hidden_dim)"
   ]
  },
  {
   "cell_type": "code",
   "execution_count": 10,
   "metadata": {},
   "outputs": [
    {
     "name": "stdout",
     "output_type": "stream",
     "text": [
      "Checkpoint saved to '/home/guangwei/LLM-COPYRIGHT/copyright_newVersion/models/train_input_last_token.pth'.\n"
     ]
    }
   ],
   "source": [
    "def save_checkpoint(model, optimizer, epoch, loss, filepath):\n",
    "    checkpoint = {\n",
    "        'epoch': epoch + 1,\n",
    "        'model_state_dict': model.state_dict(),\n",
    "        'optimizer_state_dict': optimizer.state_dict(),\n",
    "        'loss': loss\n",
    "    }\n",
    "    torch.save(checkpoint, filepath)\n",
    "    print(f\"Checkpoint saved to '{filepath}'.\")\n",
    "\n",
    "save_checkpoint(custom_mlp, torch.optim.Adam(custom_mlp.parameters()), len(losses), losses[-1], checkpoint_file)"
   ]
  },
  {
   "cell_type": "code",
   "execution_count": 11,
   "metadata": {},
   "outputs": [
    {
     "name": "stdout",
     "output_type": "stream",
     "text": [
      "Final Model Accuracy: 77.24%\n",
      "                  precision    recall  f1-score   support\n",
      "\n",
      "    infringement       0.78      0.76      0.77       123\n",
      "non_infringement       0.76      0.79      0.78       123\n",
      "\n",
      "        accuracy                           0.77       246\n",
      "       macro avg       0.77      0.77      0.77       246\n",
      "    weighted avg       0.77      0.77      0.77       246\n",
      "\n"
     ]
    },
    {
     "name": "stderr",
     "output_type": "stream",
     "text": [
      "/tmp/ipykernel_2525345/3740627605.py:2: UserWarning: To copy construct from a tensor, it is recommended to use sourceTensor.clone().detach() or sourceTensor.clone().detach().requires_grad_(True), rather than torch.tensor(sourceTensor).\n",
      "  y_pred_final = (torch.sigmoid(torch.tensor(custom_mlp(torch.tensor(X_test, dtype=torch.float32)))) > 0.5).float().numpy()\n"
     ]
    }
   ],
   "source": [
    "print(f\"Final Model Accuracy: {best_accuracy * 100:.2f}%\")\n",
    "y_pred_final = (torch.sigmoid(torch.tensor(custom_mlp(torch.tensor(X_test, dtype=torch.float32)))) > 0.5).float().numpy()\n",
    "print(classification_report(y_test, y_pred_final, target_names=[\"infringement\", \"non_infringement\"]))"
   ]
  }
 ],
 "metadata": {
  "kernelspec": {
   "display_name": "zdh",
   "language": "python",
   "name": "python3"
  },
  "language_info": {
   "codemirror_mode": {
    "name": "ipython",
    "version": 3
   },
   "file_extension": ".py",
   "mimetype": "text/x-python",
   "name": "python",
   "nbconvert_exporter": "python",
   "pygments_lexer": "ipython3",
   "version": "3.9.20"
  }
 },
 "nbformat": 4,
 "nbformat_minor": 2
}
