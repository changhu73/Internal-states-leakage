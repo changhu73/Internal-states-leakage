{
 "cells": [
  {
   "cell_type": "code",
   "execution_count": 12,
   "metadata": {},
   "outputs": [],
   "source": [
    "# import packages\n",
    "import torch\n",
    "import torch.nn as nn\n",
    "import numpy as np\n",
    "from sklearn.metrics import accuracy_score, classification_report\n",
    "import matplotlib.pyplot as plt\n",
    "from tqdm import tqdm\n",
    "from transformers import AutoTokenizer, AutoModelForCausalLM\n",
    "import json\n",
    "import os\n",
    "\n",
    "os.environ[\"CUDA_VISIBLE_DEVICES\"] = \"5\"\n",
    "\n",
    "# Variables\n",
    "model_name = 'meta-llama/Meta-Llama-3.1-8B'\n",
    "non_infringement_file = '/home/guangwei/LLM-COPYRIGHT/copyright_newVersion/test_division/extra_35.non_infringement.json'\n",
    "infringement_file = '/home/guangwei/LLM-COPYRIGHT/copyright_newVersion/test_division/extra_35.infringement.json'\n",
    "checkpoint_file = '/home/guangwei/LLM-COPYRIGHT/copyright_newVersion/models/train_input_last_token.pth'"
   ]
  },
  {
   "cell_type": "code",
   "execution_count": 13,
   "metadata": {},
   "outputs": [],
   "source": [
    "# Define CustumMLP for internal states train\n",
    "class CustomMLP(nn.Module):\n",
    "    def __init__(self, input_dim, hidden_dim):\n",
    "        super(CustomMLP, self).__init__()\n",
    "        self.down = nn.Linear(input_dim, hidden_dim)\n",
    "        self.gate = nn.Linear(input_dim, hidden_dim)\n",
    "        self.up = nn.Linear(hidden_dim, 1)\n",
    "        self.activation = nn.SiLU()\n",
    "\n",
    "    def forward(self, x):\n",
    "        down_output = self.down(x)\n",
    "        gate_output = self.gate(x)\n",
    "        gated_output = down_output * self.activation(gate_output)\n",
    "        return self.up(gated_output)"
   ]
  },
  {
   "cell_type": "code",
   "execution_count": 14,
   "metadata": {},
   "outputs": [],
   "source": [
    "def extract_hidden_states(texts, model, tokenizer, batch_size=4):\n",
    "    device = torch.device(\"cuda\" if torch.cuda.is_available() else \"cpu\")\n",
    "    model.to(device)\n",
    "    model = nn.DataParallel(model)\n",
    "    hidden_states = []\n",
    "    for i in tqdm(range(0, len(texts), batch_size), desc=\"Processing data batches\"):\n",
    "        batch_texts = texts[i:i + batch_size]\n",
    "        inputs = tokenizer(batch_texts, return_tensors=\"pt\", padding=True, truncation=True)\n",
    "        with torch.no_grad():\n",
    "            outputs = model(**inputs)\n",
    "        \n",
    "        # 访问最后一个隐藏层的最后一个token的隐藏状态\n",
    "        # hidden_states[-1]表示最后一个隐藏层，mean(dim=1)表示取所有头的均值\n",
    "        last_layer_hidden_states = outputs.hidden_states[-1]\n",
    "        last_token_hidden_states = last_layer_hidden_states[:, -1, :]  # -1表示最后一个token\n",
    "        hidden_states.append(last_token_hidden_states.cpu().numpy())\n",
    "    return np.vstack(hidden_states)"
   ]
  },
  {
   "cell_type": "code",
   "execution_count": 15,
   "metadata": {},
   "outputs": [],
   "source": [
    "# lode data for infringement & non infringement\n",
    "def load_data(non_infringement_file, infringement_file):\n",
    "    with open(non_infringement_file, 'r', encoding='utf-8') as file:\n",
    "        non_infringement_json_data = json.load(file)\n",
    "\n",
    "    non_infringement_outputs = [entry['input'] for entry in non_infringement_json_data]\n",
    "    y_non_infringement = [1] * len(non_infringement_outputs)\n",
    "\n",
    "    with open(infringement_file, 'r', encoding='utf-8') as file:\n",
    "        infringement_json_data = json.load(file)\n",
    "\n",
    "    infringement_outputs = [entry['input'] for entry in infringement_json_data]\n",
    "    y_infringement = [0] * len(infringement_outputs)\n",
    "\n",
    "    return non_infringement_outputs, y_non_infringement, infringement_outputs, y_infringement"
   ]
  },
  {
   "cell_type": "code",
   "execution_count": 16,
   "metadata": {},
   "outputs": [],
   "source": [
    "from sklearn.metrics import accuracy_score, classification_report, f1_score\n",
    "\n",
    "# Train for best model\n",
    "def train_model(X_train, y_train, X_test, y_test, input_dim, hidden_dim, epochs=500, lr=0.001, checkpoint_path=checkpoint_file):\n",
    "    custom_mlp = CustomMLP(input_dim, hidden_dim)\n",
    "    criterion = nn.BCEWithLogitsLoss()\n",
    "    optimizer = torch.optim.Adam(custom_mlp.parameters(), lr=lr)\n",
    "\n",
    "    X_train_tensor = torch.tensor(X_train, dtype=torch.float32)\n",
    "    y_train_tensor = torch.tensor(y_train, dtype=torch.float32).unsqueeze(1)\n",
    "\n",
    "    best_accuracy = -float('inf')  # Initialize the best accuracy to negative infinity\n",
    "    best_f1 = -float('inf')  # Initialize the best F1-score to negative infinity\n",
    "    best_model_state = None  # Store the state of the best model\n",
    "    best_epoch = 0  # Track the epoch with the best accuracy\n",
    "    losses = []\n",
    "\n",
    "    for epoch in tqdm(range(epochs), desc=\"Training Epochs\"):\n",
    "        custom_mlp.train()\n",
    "        optimizer.zero_grad()\n",
    "        outputs = custom_mlp(X_train_tensor)\n",
    "        loss = criterion(outputs, y_train_tensor)\n",
    "        loss.backward()\n",
    "        optimizer.step()\n",
    "        losses.append(loss.item())\n",
    "        \n",
    "        if (epoch + 1) % 10 == 0:\n",
    "            print(f\"Epoch {epoch + 1}/{epochs}, Loss: {loss.item():.4f}\")\n",
    "            \n",
    "            custom_mlp.eval()\n",
    "            X_test_tensor = torch.tensor(X_test, dtype=torch.float32)\n",
    "            with torch.no_grad():\n",
    "                y_pred_logits = custom_mlp(X_test_tensor)\n",
    "                y_pred = (torch.sigmoid(y_pred_logits) > 0.5).float().numpy()\n",
    "            \n",
    "            accuracy = accuracy_score(y_test, y_pred)\n",
    "            f1 = f1_score(y_test, y_pred)  # Calculate F1-score\n",
    "            print(f\"Test Accuracy at Epoch {epoch + 1}: {accuracy * 100:.2f}%\")\n",
    "            print(f\"Test F1-score at Epoch {epoch + 1}: {f1:.4f}\")\n",
    "            \n",
    "            report = classification_report(y_test, y_pred, target_names=[\"infringement\", \"non_infringement\"])\n",
    "            print(f\"Classification Report at Epoch {epoch + 1}:\\n{report}\")\n",
    "\n",
    "            # Check if the current model is the best based on F1-score\n",
    "            if f1 > best_f1:\n",
    "                best_accuracy = accuracy\n",
    "                best_f1 = f1\n",
    "                best_model_state = custom_mlp.state_dict()\n",
    "                best_epoch = epoch + 1\n",
    "                torch.save(best_model_state, checkpoint_path)\n",
    "                print(f\"New best model saved with F1-score {best_f1:.4f} at epoch {best_epoch}\")\n",
    "                print(f\"Best Classification Report at Epoch {best_epoch}:\\n{report}\")\n",
    "\n",
    "    # Load the best model state\n",
    "    custom_mlp.load_state_dict(torch.load(checkpoint_path))\n",
    "\n",
    "    # Plot loss curve\n",
    "    plt.figure(figsize=(10, 5))\n",
    "    plt.plot(losses, label='Training Loss')\n",
    "    plt.xlabel('Epoch')\n",
    "    plt.ylabel('Loss')\n",
    "    plt.title('Training Loss Curve')\n",
    "    plt.legend()\n",
    "    plt.show()\n",
    "\n",
    "    print(f\"Best Model was saved at epoch {best_epoch} with F1-score {best_f1:.4f} and accuracy {best_accuracy * 100:.2f}%\")\n",
    "    return custom_mlp, losses, best_accuracy, best_f1\n"
   ]
  },
  {
   "cell_type": "code",
   "execution_count": 17,
   "metadata": {},
   "outputs": [
    {
     "name": "stderr",
     "output_type": "stream",
     "text": [
      "/home/guangwei/miniconda3/envs/zdh/lib/python3.12/site-packages/transformers/generation/configuration_utils.py:777: UserWarning: `return_dict_in_generate` is NOT set to `True`, but `output_hidden_states` is. When `return_dict_in_generate` is not `True`, `output_hidden_states` is ignored.\n",
      "  warnings.warn(\n",
      "Loading checkpoint shards: 100%|██████████| 4/4 [00:07<00:00,  1.75s/it]\n"
     ]
    }
   ],
   "source": [
    "\n",
    "tokenizer = AutoTokenizer.from_pretrained(model_name, model_max_length=512)\n",
    "model = AutoModelForCausalLM.from_pretrained(model_name, output_hidden_states=True)\n",
    "tokenizer.pad_token = tokenizer.eos_token\n",
    "\n",
    "non_infringement_outputs, y_non_infringement, infringement_outputs, y_infringement = load_data(non_infringement_file, infringement_file)\n",
    "\n",
    "y_non_infringement = np.array(y_non_infringement)\n",
    "y_infringement = np.array(y_infringement)\n"
   ]
  },
  {
   "cell_type": "code",
   "execution_count": 18,
   "metadata": {},
   "outputs": [
    {
     "name": "stdout",
     "output_type": "stream",
     "text": [
      "Extracting hidden states for non_infringement texts...\n"
     ]
    },
    {
     "name": "stderr",
     "output_type": "stream",
     "text": [
      "Processing data batches: 100%|██████████| 232/232 [01:06<00:00,  3.46it/s]\n"
     ]
    },
    {
     "name": "stdout",
     "output_type": "stream",
     "text": [
      "Extracting hidden states for infringement texts...\n"
     ]
    },
    {
     "name": "stderr",
     "output_type": "stream",
     "text": [
      "Processing data batches: 100%|██████████| 243/243 [01:25<00:00,  2.85it/s]\n"
     ]
    }
   ],
   "source": [
    "print(\"Extracting hidden states for non_infringement texts...\")\n",
    "X_non_infringement = extract_hidden_states(non_infringement_outputs, model, tokenizer)\n",
    "\n",
    "print(\"Extracting hidden states for infringement texts...\")\n",
    "X_infringement = extract_hidden_states(infringement_outputs, model, tokenizer)"
   ]
  },
  {
   "cell_type": "code",
   "execution_count": 19,
   "metadata": {},
   "outputs": [
    {
     "name": "stdout",
     "output_type": "stream",
     "text": [
      "Data successfully split into training and test sets.\n"
     ]
    }
   ],
   "source": [
    "split_index_non_infringement = int(0.8 * len(X_non_infringement))\n",
    "X_non_infringement_train = X_non_infringement[:split_index_non_infringement]\n",
    "X_non_infringement_test = X_non_infringement[split_index_non_infringement:]\n",
    "y_non_infringement_train = y_non_infringement[:split_index_non_infringement]\n",
    "y_non_infringement_test = y_non_infringement[split_index_non_infringement:]\n",
    "\n",
    "split_index_infringement = int(0.8 * len(X_infringement))\n",
    "X_infringement_train = X_infringement[:split_index_infringement]\n",
    "X_infringement_test = X_infringement[split_index_infringement:]\n",
    "y_infringement_train = y_infringement[:split_index_infringement]\n",
    "y_infringement_test = y_infringement[split_index_infringement:]\n",
    "\n",
    "X_train = np.vstack((X_non_infringement_train, X_infringement_train))\n",
    "X_test = np.vstack((X_non_infringement_test, X_infringement_test))\n",
    "y_train = np.concatenate((y_non_infringement_train, y_infringement_train))\n",
    "y_test = np.concatenate((y_non_infringement_test, y_infringement_test))\n",
    "\n",
    "print(\"Data successfully split into training and test sets.\")\n"
   ]
  },
  {
   "cell_type": "code",
   "execution_count": 20,
   "metadata": {},
   "outputs": [
    {
     "name": "stderr",
     "output_type": "stream",
     "text": [
      "Training Epochs:   2%|▏         | 9/500 [00:03<02:05,  3.91it/s]"
     ]
    },
    {
     "name": "stdout",
     "output_type": "stream",
     "text": [
      "Epoch 10/500, Loss: 0.8924\n",
      "Test Accuracy at Epoch 10: 57.74%\n",
      "Test F1-score at Epoch 10: 0.3925\n",
      "Classification Report at Epoch 10:\n",
      "                  precision    recall  f1-score   support\n",
      "\n",
      "    infringement       0.56      0.86      0.68       195\n",
      "non_infringement       0.66      0.28      0.39       186\n",
      "\n",
      "        accuracy                           0.58       381\n",
      "       macro avg       0.61      0.57      0.53       381\n",
      "    weighted avg       0.61      0.58      0.54       381\n",
      "\n",
      "New best model saved with F1-score 0.3925 at epoch 10\n",
      "Best Classification Report at Epoch 10:\n",
      "                  precision    recall  f1-score   support\n",
      "\n",
      "    infringement       0.56      0.86      0.68       195\n",
      "non_infringement       0.66      0.28      0.39       186\n",
      "\n",
      "        accuracy                           0.58       381\n",
      "       macro avg       0.61      0.57      0.53       381\n",
      "    weighted avg       0.61      0.58      0.54       381\n",
      "\n"
     ]
    },
    {
     "name": "stderr",
     "output_type": "stream",
     "text": [
      "Training Epochs:   4%|▍         | 19/500 [00:04<01:00,  8.02it/s]"
     ]
    },
    {
     "name": "stdout",
     "output_type": "stream",
     "text": [
      "Epoch 20/500, Loss: 0.4806\n",
      "Test Accuracy at Epoch 20: 57.22%\n",
      "Test F1-score at Epoch 20: 0.4725\n",
      "Classification Report at Epoch 20:\n",
      "                  precision    recall  f1-score   support\n",
      "\n",
      "    infringement       0.56      0.74      0.64       195\n",
      "non_infringement       0.59      0.39      0.47       186\n",
      "\n",
      "        accuracy                           0.57       381\n",
      "       macro avg       0.58      0.57      0.56       381\n",
      "    weighted avg       0.58      0.57      0.56       381\n",
      "\n",
      "New best model saved with F1-score 0.4725 at epoch 20\n",
      "Best Classification Report at Epoch 20:\n",
      "                  precision    recall  f1-score   support\n",
      "\n",
      "    infringement       0.56      0.74      0.64       195\n",
      "non_infringement       0.59      0.39      0.47       186\n",
      "\n",
      "        accuracy                           0.57       381\n",
      "       macro avg       0.58      0.57      0.56       381\n",
      "    weighted avg       0.58      0.57      0.56       381\n",
      "\n"
     ]
    },
    {
     "name": "stderr",
     "output_type": "stream",
     "text": [
      "Training Epochs:   6%|▌         | 30/500 [00:08<02:50,  2.75it/s]"
     ]
    },
    {
     "name": "stdout",
     "output_type": "stream",
     "text": [
      "Epoch 30/500, Loss: 0.4949\n",
      "Test Accuracy at Epoch 30: 64.83%\n",
      "Test F1-score at Epoch 30: 0.7087\n",
      "Classification Report at Epoch 30:\n",
      "                  precision    recall  f1-score   support\n",
      "\n",
      "    infringement       0.79      0.43      0.56       195\n",
      "non_infringement       0.59      0.88      0.71       186\n",
      "\n",
      "        accuracy                           0.65       381\n",
      "       macro avg       0.69      0.65      0.63       381\n",
      "    weighted avg       0.69      0.65      0.63       381\n",
      "\n",
      "New best model saved with F1-score 0.7087 at epoch 30\n",
      "Best Classification Report at Epoch 30:\n",
      "                  precision    recall  f1-score   support\n",
      "\n",
      "    infringement       0.79      0.43      0.56       195\n",
      "non_infringement       0.59      0.88      0.71       186\n",
      "\n",
      "        accuracy                           0.65       381\n",
      "       macro avg       0.69      0.65      0.63       381\n",
      "    weighted avg       0.69      0.65      0.63       381\n",
      "\n"
     ]
    },
    {
     "name": "stderr",
     "output_type": "stream",
     "text": [
      "Training Epochs:   9%|▊         | 43/500 [00:12<01:28,  5.16it/s]"
     ]
    },
    {
     "name": "stdout",
     "output_type": "stream",
     "text": [
      "Epoch 40/500, Loss: 0.4609\n",
      "Test Accuracy at Epoch 40: 64.83%\n",
      "Test F1-score at Epoch 40: 0.6278\n",
      "Classification Report at Epoch 40:\n",
      "                  precision    recall  f1-score   support\n",
      "\n",
      "    infringement       0.65      0.69      0.67       195\n",
      "non_infringement       0.65      0.61      0.63       186\n",
      "\n",
      "        accuracy                           0.65       381\n",
      "       macro avg       0.65      0.65      0.65       381\n",
      "    weighted avg       0.65      0.65      0.65       381\n",
      "\n"
     ]
    },
    {
     "name": "stderr",
     "output_type": "stream",
     "text": [
      "Training Epochs:  11%|█         | 53/500 [00:12<00:34, 13.11it/s]"
     ]
    },
    {
     "name": "stdout",
     "output_type": "stream",
     "text": [
      "Epoch 50/500, Loss: 0.4440\n",
      "Test Accuracy at Epoch 50: 67.45%\n",
      "Test F1-score at Epoch 50: 0.6946\n",
      "Classification Report at Epoch 50:\n",
      "                  precision    recall  f1-score   support\n",
      "\n",
      "    infringement       0.72      0.59      0.65       195\n",
      "non_infringement       0.64      0.76      0.69       186\n",
      "\n",
      "        accuracy                           0.67       381\n",
      "       macro avg       0.68      0.68      0.67       381\n",
      "    weighted avg       0.68      0.67      0.67       381\n",
      "\n"
     ]
    },
    {
     "name": "stderr",
     "output_type": "stream",
     "text": [
      "Training Epochs:  12%|█▏        | 62/500 [00:13<00:26, 16.23it/s]"
     ]
    },
    {
     "name": "stdout",
     "output_type": "stream",
     "text": [
      "Epoch 60/500, Loss: 0.4221\n",
      "Test Accuracy at Epoch 60: 65.09%\n",
      "Test F1-score at Epoch 60: 0.6491\n",
      "Classification Report at Epoch 60:\n",
      "                  precision    recall  f1-score   support\n",
      "\n",
      "    infringement       0.66      0.64      0.65       195\n",
      "non_infringement       0.64      0.66      0.65       186\n",
      "\n",
      "        accuracy                           0.65       381\n",
      "       macro avg       0.65      0.65      0.65       381\n",
      "    weighted avg       0.65      0.65      0.65       381\n",
      "\n"
     ]
    },
    {
     "name": "stderr",
     "output_type": "stream",
     "text": [
      "Training Epochs:  14%|█▍        | 70/500 [00:13<00:38, 11.23it/s]"
     ]
    },
    {
     "name": "stdout",
     "output_type": "stream",
     "text": [
      "Epoch 70/500, Loss: 0.3958\n",
      "Test Accuracy at Epoch 70: 66.40%\n",
      "Test F1-score at Epoch 70: 0.6768\n",
      "Classification Report at Epoch 70:\n",
      "                  precision    recall  f1-score   support\n",
      "\n",
      "    infringement       0.70      0.61      0.65       195\n",
      "non_infringement       0.64      0.72      0.68       186\n",
      "\n",
      "        accuracy                           0.66       381\n",
      "       macro avg       0.67      0.67      0.66       381\n",
      "    weighted avg       0.67      0.66      0.66       381\n",
      "\n"
     ]
    },
    {
     "name": "stderr",
     "output_type": "stream",
     "text": [
      "Training Epochs:  16%|█▌        | 81/500 [00:15<00:38, 10.94it/s]"
     ]
    },
    {
     "name": "stdout",
     "output_type": "stream",
     "text": [
      "Epoch 80/500, Loss: 0.3685\n",
      "Test Accuracy at Epoch 80: 67.72%\n",
      "Test F1-score at Epoch 80: 0.6917\n",
      "Classification Report at Epoch 80:\n",
      "                  precision    recall  f1-score   support\n",
      "\n",
      "    infringement       0.71      0.62      0.66       195\n",
      "non_infringement       0.65      0.74      0.69       186\n",
      "\n",
      "        accuracy                           0.68       381\n",
      "       macro avg       0.68      0.68      0.68       381\n",
      "    weighted avg       0.68      0.68      0.68       381\n",
      "\n"
     ]
    },
    {
     "name": "stderr",
     "output_type": "stream",
     "text": [
      "Training Epochs:  18%|█▊        | 90/500 [00:18<02:45,  2.48it/s]"
     ]
    },
    {
     "name": "stdout",
     "output_type": "stream",
     "text": [
      "Epoch 90/500, Loss: 0.3398\n",
      "Test Accuracy at Epoch 90: 67.45%\n",
      "Test F1-score at Epoch 90: 0.6884\n",
      "Classification Report at Epoch 90:\n",
      "                  precision    recall  f1-score   support\n",
      "\n",
      "    infringement       0.71      0.62      0.66       195\n",
      "non_infringement       0.65      0.74      0.69       186\n",
      "\n",
      "        accuracy                           0.67       381\n",
      "       macro avg       0.68      0.68      0.67       381\n",
      "    weighted avg       0.68      0.67      0.67       381\n",
      "\n"
     ]
    },
    {
     "name": "stderr",
     "output_type": "stream",
     "text": [
      "Training Epochs:  20%|█▉        | 99/500 [00:19<00:46,  8.57it/s]"
     ]
    },
    {
     "name": "stdout",
     "output_type": "stream",
     "text": [
      "Epoch 100/500, Loss: 0.3137\n",
      "Test Accuracy at Epoch 100: 66.40%\n",
      "Test F1-score at Epoch 100: 0.6667\n",
      "Classification Report at Epoch 100:\n",
      "                  precision    recall  f1-score   support\n",
      "\n",
      "    infringement       0.68      0.64      0.66       195\n",
      "non_infringement       0.65      0.69      0.67       186\n",
      "\n",
      "        accuracy                           0.66       381\n",
      "       macro avg       0.66      0.66      0.66       381\n",
      "    weighted avg       0.67      0.66      0.66       381\n",
      "\n"
     ]
    },
    {
     "name": "stderr",
     "output_type": "stream",
     "text": [
      "Training Epochs:  22%|██▏       | 110/500 [00:23<02:01,  3.20it/s]"
     ]
    },
    {
     "name": "stdout",
     "output_type": "stream",
     "text": [
      "Epoch 110/500, Loss: 0.2902\n",
      "Test Accuracy at Epoch 110: 66.40%\n",
      "Test F1-score at Epoch 110: 0.6614\n",
      "Classification Report at Epoch 110:\n",
      "                  precision    recall  f1-score   support\n",
      "\n",
      "    infringement       0.68      0.66      0.67       195\n",
      "non_infringement       0.65      0.67      0.66       186\n",
      "\n",
      "        accuracy                           0.66       381\n",
      "       macro avg       0.66      0.66      0.66       381\n",
      "    weighted avg       0.66      0.66      0.66       381\n",
      "\n"
     ]
    },
    {
     "name": "stderr",
     "output_type": "stream",
     "text": [
      "Training Epochs:  24%|██▍       | 122/500 [00:27<01:18,  4.82it/s]"
     ]
    },
    {
     "name": "stdout",
     "output_type": "stream",
     "text": [
      "Epoch 120/500, Loss: 0.2683\n",
      "Test Accuracy at Epoch 120: 66.40%\n",
      "Test F1-score at Epoch 120: 0.6614\n",
      "Classification Report at Epoch 120:\n",
      "                  precision    recall  f1-score   support\n",
      "\n",
      "    infringement       0.68      0.66      0.67       195\n",
      "non_infringement       0.65      0.67      0.66       186\n",
      "\n",
      "        accuracy                           0.66       381\n",
      "       macro avg       0.66      0.66      0.66       381\n",
      "    weighted avg       0.66      0.66      0.66       381\n",
      "\n"
     ]
    },
    {
     "name": "stderr",
     "output_type": "stream",
     "text": [
      "Training Epochs:  26%|██▋       | 132/500 [00:28<00:30, 12.00it/s]"
     ]
    },
    {
     "name": "stdout",
     "output_type": "stream",
     "text": [
      "Epoch 130/500, Loss: 0.2472\n",
      "Test Accuracy at Epoch 130: 65.88%\n",
      "Test F1-score at Epoch 130: 0.6579\n",
      "Classification Report at Epoch 130:\n",
      "                  precision    recall  f1-score   support\n",
      "\n",
      "    infringement       0.67      0.65      0.66       195\n",
      "non_infringement       0.64      0.67      0.66       186\n",
      "\n",
      "        accuracy                           0.66       381\n",
      "       macro avg       0.66      0.66      0.66       381\n",
      "    weighted avg       0.66      0.66      0.66       381\n",
      "\n"
     ]
    },
    {
     "name": "stderr",
     "output_type": "stream",
     "text": [
      "Training Epochs:  28%|██▊       | 142/500 [00:29<00:18, 19.29it/s]"
     ]
    },
    {
     "name": "stdout",
     "output_type": "stream",
     "text": [
      "Epoch 140/500, Loss: 0.3123\n",
      "Test Accuracy at Epoch 140: 70.87%\n",
      "Test F1-score at Epoch 140: 0.7550\n",
      "Classification Report at Epoch 140:\n",
      "                  precision    recall  f1-score   support\n",
      "\n",
      "    infringement       0.87      0.51      0.64       195\n",
      "non_infringement       0.64      0.92      0.75       186\n",
      "\n",
      "        accuracy                           0.71       381\n",
      "       macro avg       0.75      0.71      0.70       381\n",
      "    weighted avg       0.76      0.71      0.70       381\n",
      "\n",
      "New best model saved with F1-score 0.7550 at epoch 140\n",
      "Best Classification Report at Epoch 140:\n",
      "                  precision    recall  f1-score   support\n",
      "\n",
      "    infringement       0.87      0.51      0.64       195\n",
      "non_infringement       0.64      0.92      0.75       186\n",
      "\n",
      "        accuracy                           0.71       381\n",
      "       macro avg       0.75      0.71      0.70       381\n",
      "    weighted avg       0.76      0.71      0.70       381\n",
      "\n"
     ]
    },
    {
     "name": "stderr",
     "output_type": "stream",
     "text": [
      "Training Epochs:  31%|███       | 154/500 [00:29<00:12, 27.46it/s]"
     ]
    },
    {
     "name": "stdout",
     "output_type": "stream",
     "text": [
      "Epoch 150/500, Loss: 0.2429\n",
      "Test Accuracy at Epoch 150: 70.60%\n",
      "Test F1-score at Epoch 150: 0.7321\n",
      "Classification Report at Epoch 150:\n",
      "                  precision    recall  f1-score   support\n",
      "\n",
      "    infringement       0.78      0.59      0.67       195\n",
      "non_infringement       0.66      0.82      0.73       186\n",
      "\n",
      "        accuracy                           0.71       381\n",
      "       macro avg       0.72      0.71      0.70       381\n",
      "    weighted avg       0.72      0.71      0.70       381\n",
      "\n"
     ]
    },
    {
     "name": "stderr",
     "output_type": "stream",
     "text": [
      "Training Epochs:  33%|███▎      | 164/500 [00:30<00:15, 22.08it/s]"
     ]
    },
    {
     "name": "stdout",
     "output_type": "stream",
     "text": [
      "Epoch 160/500, Loss: 0.2160\n",
      "Test Accuracy at Epoch 160: 65.09%\n",
      "Test F1-score at Epoch 160: 0.6376\n",
      "Classification Report at Epoch 160:\n",
      "                  precision    recall  f1-score   support\n",
      "\n",
      "    infringement       0.66      0.67      0.66       195\n",
      "non_infringement       0.65      0.63      0.64       186\n",
      "\n",
      "        accuracy                           0.65       381\n",
      "       macro avg       0.65      0.65      0.65       381\n",
      "    weighted avg       0.65      0.65      0.65       381\n",
      "\n"
     ]
    },
    {
     "name": "stderr",
     "output_type": "stream",
     "text": [
      "Training Epochs:  34%|███▍      | 171/500 [00:30<00:12, 25.96it/s]"
     ]
    },
    {
     "name": "stdout",
     "output_type": "stream",
     "text": [
      "Epoch 170/500, Loss: 0.2123\n",
      "Test Accuracy at Epoch 170: 66.14%\n",
      "Test F1-score at Epoch 170: 0.6596\n",
      "Classification Report at Epoch 170:\n",
      "                  precision    recall  f1-score   support\n",
      "\n",
      "    infringement       0.68      0.65      0.66       195\n",
      "non_infringement       0.65      0.67      0.66       186\n",
      "\n",
      "        accuracy                           0.66       381\n",
      "       macro avg       0.66      0.66      0.66       381\n",
      "    weighted avg       0.66      0.66      0.66       381\n",
      "\n"
     ]
    },
    {
     "name": "stderr",
     "output_type": "stream",
     "text": [
      "Training Epochs:  36%|███▌      | 179/500 [00:34<01:41,  3.18it/s]"
     ]
    },
    {
     "name": "stdout",
     "output_type": "stream",
     "text": [
      "Epoch 180/500, Loss: 0.1876\n",
      "Test Accuracy at Epoch 180: 65.35%\n",
      "Test F1-score at Epoch 180: 0.6471\n",
      "Classification Report at Epoch 180:\n",
      "                  precision    recall  f1-score   support\n",
      "\n",
      "    infringement       0.66      0.66      0.66       195\n",
      "non_infringement       0.64      0.65      0.65       186\n",
      "\n",
      "        accuracy                           0.65       381\n",
      "       macro avg       0.65      0.65      0.65       381\n",
      "    weighted avg       0.65      0.65      0.65       381\n",
      "\n"
     ]
    },
    {
     "name": "stderr",
     "output_type": "stream",
     "text": [
      "Training Epochs:  38%|███▊      | 192/500 [00:35<00:33,  9.28it/s]"
     ]
    },
    {
     "name": "stdout",
     "output_type": "stream",
     "text": [
      "Epoch 190/500, Loss: 0.2012\n",
      "Test Accuracy at Epoch 190: 66.40%\n",
      "Test F1-score at Epoch 190: 0.6684\n",
      "Classification Report at Epoch 190:\n",
      "                  precision    recall  f1-score   support\n",
      "\n",
      "    infringement       0.69      0.64      0.66       195\n",
      "non_infringement       0.65      0.69      0.67       186\n",
      "\n",
      "        accuracy                           0.66       381\n",
      "       macro avg       0.67      0.66      0.66       381\n",
      "    weighted avg       0.67      0.66      0.66       381\n",
      "\n"
     ]
    },
    {
     "name": "stderr",
     "output_type": "stream",
     "text": [
      "Training Epochs:  40%|████      | 202/500 [00:36<00:18, 15.89it/s]"
     ]
    },
    {
     "name": "stdout",
     "output_type": "stream",
     "text": [
      "Epoch 200/500, Loss: 0.1671\n",
      "Test Accuracy at Epoch 200: 65.88%\n",
      "Test F1-score at Epoch 200: 0.6615\n",
      "Classification Report at Epoch 200:\n",
      "                  precision    recall  f1-score   support\n",
      "\n",
      "    infringement       0.68      0.64      0.66       195\n",
      "non_infringement       0.64      0.68      0.66       186\n",
      "\n",
      "        accuracy                           0.66       381\n",
      "       macro avg       0.66      0.66      0.66       381\n",
      "    weighted avg       0.66      0.66      0.66       381\n",
      "\n"
     ]
    },
    {
     "name": "stderr",
     "output_type": "stream",
     "text": [
      "Training Epochs:  42%|████▏     | 211/500 [00:36<00:15, 18.66it/s]"
     ]
    },
    {
     "name": "stdout",
     "output_type": "stream",
     "text": [
      "Epoch 210/500, Loss: 0.1579\n",
      "Test Accuracy at Epoch 210: 67.45%\n",
      "Test F1-score at Epoch 210: 0.6884\n",
      "Classification Report at Epoch 210:\n",
      "                  precision    recall  f1-score   support\n",
      "\n",
      "    infringement       0.71      0.62      0.66       195\n",
      "non_infringement       0.65      0.74      0.69       186\n",
      "\n",
      "        accuracy                           0.67       381\n",
      "       macro avg       0.68      0.68      0.67       381\n",
      "    weighted avg       0.68      0.67      0.67       381\n",
      "\n"
     ]
    },
    {
     "name": "stderr",
     "output_type": "stream",
     "text": [
      "Training Epochs:  45%|████▍     | 223/500 [00:37<00:12, 21.35it/s]"
     ]
    },
    {
     "name": "stdout",
     "output_type": "stream",
     "text": [
      "Epoch 220/500, Loss: 0.1862\n",
      "Test Accuracy at Epoch 220: 68.77%\n",
      "Test F1-score at Epoch 220: 0.7160\n",
      "Classification Report at Epoch 220:\n",
      "                  precision    recall  f1-score   support\n",
      "\n",
      "    infringement       0.76      0.57      0.65       195\n",
      "non_infringement       0.64      0.81      0.72       186\n",
      "\n",
      "        accuracy                           0.69       381\n",
      "       macro avg       0.70      0.69      0.68       381\n",
      "    weighted avg       0.70      0.69      0.68       381\n",
      "\n"
     ]
    },
    {
     "name": "stderr",
     "output_type": "stream",
     "text": [
      "Training Epochs:  47%|████▋     | 234/500 [00:37<00:09, 26.85it/s]"
     ]
    },
    {
     "name": "stdout",
     "output_type": "stream",
     "text": [
      "Epoch 230/500, Loss: 0.1763\n",
      "Test Accuracy at Epoch 230: 66.40%\n",
      "Test F1-score at Epoch 230: 0.6649\n",
      "Classification Report at Epoch 230:\n",
      "                  precision    recall  f1-score   support\n",
      "\n",
      "    infringement       0.68      0.65      0.66       195\n",
      "non_infringement       0.65      0.68      0.66       186\n",
      "\n",
      "        accuracy                           0.66       381\n",
      "       macro avg       0.66      0.66      0.66       381\n",
      "    weighted avg       0.66      0.66      0.66       381\n",
      "\n"
     ]
    },
    {
     "name": "stderr",
     "output_type": "stream",
     "text": [
      "Training Epochs:  49%|████▊     | 243/500 [00:37<00:09, 28.32it/s]"
     ]
    },
    {
     "name": "stdout",
     "output_type": "stream",
     "text": [
      "Epoch 240/500, Loss: 0.1352\n",
      "Test Accuracy at Epoch 240: 64.83%\n",
      "Test F1-score at Epoch 240: 0.6319\n",
      "Classification Report at Epoch 240:\n",
      "                  precision    recall  f1-score   support\n",
      "\n",
      "    infringement       0.65      0.68      0.66       195\n",
      "non_infringement       0.65      0.62      0.63       186\n",
      "\n",
      "        accuracy                           0.65       381\n",
      "       macro avg       0.65      0.65      0.65       381\n",
      "    weighted avg       0.65      0.65      0.65       381\n",
      "\n"
     ]
    },
    {
     "name": "stderr",
     "output_type": "stream",
     "text": [
      "Training Epochs:  50%|█████     | 252/500 [00:38<00:07, 33.14it/s]"
     ]
    },
    {
     "name": "stdout",
     "output_type": "stream",
     "text": [
      "Epoch 250/500, Loss: 0.1329\n",
      "Test Accuracy at Epoch 250: 65.09%\n",
      "Test F1-score at Epoch 250: 0.6415\n",
      "Classification Report at Epoch 250:\n",
      "                  precision    recall  f1-score   support\n",
      "\n",
      "    infringement       0.66      0.66      0.66       195\n",
      "non_infringement       0.64      0.64      0.64       186\n",
      "\n",
      "        accuracy                           0.65       381\n",
      "       macro avg       0.65      0.65      0.65       381\n",
      "    weighted avg       0.65      0.65      0.65       381\n",
      "\n"
     ]
    },
    {
     "name": "stderr",
     "output_type": "stream",
     "text": [
      "Training Epochs:  52%|█████▏    | 261/500 [00:38<00:08, 28.44it/s]"
     ]
    },
    {
     "name": "stdout",
     "output_type": "stream",
     "text": [
      "Epoch 260/500, Loss: 0.1281\n",
      "Test Accuracy at Epoch 260: 65.35%\n",
      "Test F1-score at Epoch 260: 0.6471\n",
      "Classification Report at Epoch 260:\n",
      "                  precision    recall  f1-score   support\n",
      "\n",
      "    infringement       0.66      0.66      0.66       195\n",
      "non_infringement       0.64      0.65      0.65       186\n",
      "\n",
      "        accuracy                           0.65       381\n",
      "       macro avg       0.65      0.65      0.65       381\n",
      "    weighted avg       0.65      0.65      0.65       381\n",
      "\n"
     ]
    },
    {
     "name": "stderr",
     "output_type": "stream",
     "text": [
      "Training Epochs:  54%|█████▍    | 270/500 [00:41<00:44,  5.12it/s]"
     ]
    },
    {
     "name": "stdout",
     "output_type": "stream",
     "text": [
      "Epoch 270/500, Loss: 0.1264\n",
      "Test Accuracy at Epoch 270: 65.62%\n",
      "Test F1-score at Epoch 270: 0.6597\n",
      "Classification Report at Epoch 270:\n",
      "                  precision    recall  f1-score   support\n",
      "\n",
      "    infringement       0.68      0.63      0.65       195\n",
      "non_infringement       0.64      0.68      0.66       186\n",
      "\n",
      "        accuracy                           0.66       381\n",
      "       macro avg       0.66      0.66      0.66       381\n",
      "    weighted avg       0.66      0.66      0.66       381\n",
      "\n"
     ]
    },
    {
     "name": "stderr",
     "output_type": "stream",
     "text": [
      "Training Epochs:  56%|█████▌    | 280/500 [00:46<01:36,  2.28it/s]"
     ]
    },
    {
     "name": "stdout",
     "output_type": "stream",
     "text": [
      "Epoch 280/500, Loss: 0.1196\n",
      "Test Accuracy at Epoch 280: 66.14%\n",
      "Test F1-score at Epoch 280: 0.6684\n",
      "Classification Report at Epoch 280:\n",
      "                  precision    recall  f1-score   support\n",
      "\n",
      "    infringement       0.69      0.63      0.65       195\n",
      "non_infringement       0.64      0.70      0.67       186\n",
      "\n",
      "        accuracy                           0.66       381\n",
      "       macro avg       0.66      0.66      0.66       381\n",
      "    weighted avg       0.66      0.66      0.66       381\n",
      "\n"
     ]
    },
    {
     "name": "stderr",
     "output_type": "stream",
     "text": [
      "Training Epochs:  58%|█████▊    | 290/500 [00:51<01:54,  1.84it/s]"
     ]
    },
    {
     "name": "stdout",
     "output_type": "stream",
     "text": [
      "Epoch 290/500, Loss: 0.1173\n",
      "Test Accuracy at Epoch 290: 66.14%\n",
      "Test F1-score at Epoch 290: 0.6632\n",
      "Classification Report at Epoch 290:\n",
      "                  precision    recall  f1-score   support\n",
      "\n",
      "    infringement       0.68      0.64      0.66       195\n",
      "non_infringement       0.64      0.68      0.66       186\n",
      "\n",
      "        accuracy                           0.66       381\n",
      "       macro avg       0.66      0.66      0.66       381\n",
      "    weighted avg       0.66      0.66      0.66       381\n",
      "\n"
     ]
    },
    {
     "name": "stderr",
     "output_type": "stream",
     "text": [
      "Training Epochs:  60%|██████    | 301/500 [00:53<00:26,  7.56it/s]"
     ]
    },
    {
     "name": "stdout",
     "output_type": "stream",
     "text": [
      "Epoch 300/500, Loss: 0.1157\n",
      "Test Accuracy at Epoch 300: 66.14%\n",
      "Test F1-score at Epoch 300: 0.6632\n",
      "Classification Report at Epoch 300:\n",
      "                  precision    recall  f1-score   support\n",
      "\n",
      "    infringement       0.68      0.64      0.66       195\n",
      "non_infringement       0.64      0.68      0.66       186\n",
      "\n",
      "        accuracy                           0.66       381\n",
      "       macro avg       0.66      0.66      0.66       381\n",
      "    weighted avg       0.66      0.66      0.66       381\n",
      "\n"
     ]
    },
    {
     "name": "stderr",
     "output_type": "stream",
     "text": [
      "Training Epochs:  62%|██████▏   | 312/500 [00:54<00:11, 16.37it/s]"
     ]
    },
    {
     "name": "stdout",
     "output_type": "stream",
     "text": [
      "Epoch 310/500, Loss: 0.1141\n",
      "Test Accuracy at Epoch 310: 65.88%\n",
      "Test F1-score at Epoch 310: 0.6615\n",
      "Classification Report at Epoch 310:\n",
      "                  precision    recall  f1-score   support\n",
      "\n",
      "    infringement       0.68      0.64      0.66       195\n",
      "non_infringement       0.64      0.68      0.66       186\n",
      "\n",
      "        accuracy                           0.66       381\n",
      "       macro avg       0.66      0.66      0.66       381\n",
      "    weighted avg       0.66      0.66      0.66       381\n",
      "\n"
     ]
    },
    {
     "name": "stderr",
     "output_type": "stream",
     "text": [
      "Training Epochs:  65%|██████▍   | 323/500 [00:54<00:07, 22.72it/s]"
     ]
    },
    {
     "name": "stdout",
     "output_type": "stream",
     "text": [
      "Epoch 320/500, Loss: 0.1165\n",
      "Test Accuracy at Epoch 320: 65.35%\n",
      "Test F1-score at Epoch 320: 0.6526\n",
      "Classification Report at Epoch 320:\n",
      "                  precision    recall  f1-score   support\n",
      "\n",
      "    infringement       0.67      0.64      0.65       195\n",
      "non_infringement       0.64      0.67      0.65       186\n",
      "\n",
      "        accuracy                           0.65       381\n",
      "       macro avg       0.65      0.65      0.65       381\n",
      "    weighted avg       0.65      0.65      0.65       381\n",
      "\n"
     ]
    },
    {
     "name": "stderr",
     "output_type": "stream",
     "text": [
      "Training Epochs:  66%|██████▋   | 332/500 [00:54<00:05, 30.41it/s]"
     ]
    },
    {
     "name": "stdout",
     "output_type": "stream",
     "text": [
      "Epoch 330/500, Loss: 0.1164\n",
      "Test Accuracy at Epoch 330: 65.62%\n",
      "Test F1-score at Epoch 330: 0.6749\n",
      "Classification Report at Epoch 330:\n",
      "                  precision    recall  f1-score   support\n",
      "\n",
      "    infringement       0.70      0.58      0.64       195\n",
      "non_infringement       0.63      0.73      0.67       186\n",
      "\n",
      "        accuracy                           0.66       381\n",
      "       macro avg       0.66      0.66      0.66       381\n",
      "    weighted avg       0.66      0.66      0.65       381\n",
      "\n"
     ]
    },
    {
     "name": "stderr",
     "output_type": "stream",
     "text": [
      "Training Epochs:  68%|██████▊   | 342/500 [00:56<00:21,  7.44it/s]"
     ]
    },
    {
     "name": "stdout",
     "output_type": "stream",
     "text": [
      "Epoch 340/500, Loss: 0.1157\n",
      "Test Accuracy at Epoch 340: 65.88%\n",
      "Test F1-score at Epoch 340: 0.6632\n",
      "Classification Report at Epoch 340:\n",
      "                  precision    recall  f1-score   support\n",
      "\n",
      "    infringement       0.68      0.63      0.65       195\n",
      "non_infringement       0.64      0.69      0.66       186\n",
      "\n",
      "        accuracy                           0.66       381\n",
      "       macro avg       0.66      0.66      0.66       381\n",
      "    weighted avg       0.66      0.66      0.66       381\n",
      "\n"
     ]
    },
    {
     "name": "stderr",
     "output_type": "stream",
     "text": [
      "Training Epochs:  70%|███████   | 351/500 [00:57<00:12, 11.75it/s]"
     ]
    },
    {
     "name": "stdout",
     "output_type": "stream",
     "text": [
      "Epoch 350/500, Loss: 0.1124\n",
      "Test Accuracy at Epoch 350: 65.35%\n",
      "Test F1-score at Epoch 350: 0.6526\n",
      "Classification Report at Epoch 350:\n",
      "                  precision    recall  f1-score   support\n",
      "\n",
      "    infringement       0.67      0.64      0.65       195\n",
      "non_infringement       0.64      0.67      0.65       186\n",
      "\n",
      "        accuracy                           0.65       381\n",
      "       macro avg       0.65      0.65      0.65       381\n",
      "    weighted avg       0.65      0.65      0.65       381\n",
      "\n"
     ]
    },
    {
     "name": "stderr",
     "output_type": "stream",
     "text": [
      "Training Epochs:  73%|███████▎  | 366/500 [00:57<00:06, 22.19it/s]"
     ]
    },
    {
     "name": "stdout",
     "output_type": "stream",
     "text": [
      "Epoch 360/500, Loss: 0.1120\n",
      "Test Accuracy at Epoch 360: 65.09%\n",
      "Test F1-score at Epoch 360: 0.6683\n",
      "Classification Report at Epoch 360:\n",
      "                  precision    recall  f1-score   support\n",
      "\n",
      "    infringement       0.69      0.58      0.63       195\n",
      "non_infringement       0.62      0.72      0.67       186\n",
      "\n",
      "        accuracy                           0.65       381\n",
      "       macro avg       0.66      0.65      0.65       381\n",
      "    weighted avg       0.66      0.65      0.65       381\n",
      "\n"
     ]
    },
    {
     "name": "stderr",
     "output_type": "stream",
     "text": [
      "Training Epochs:  74%|███████▍  | 370/500 [00:58<00:05, 25.01it/s]"
     ]
    },
    {
     "name": "stdout",
     "output_type": "stream",
     "text": [
      "Epoch 370/500, Loss: 0.1134\n",
      "Test Accuracy at Epoch 370: 66.40%\n",
      "Test F1-score at Epoch 370: 0.6614\n",
      "Classification Report at Epoch 370:\n",
      "                  precision    recall  f1-score   support\n",
      "\n",
      "    infringement       0.68      0.66      0.67       195\n",
      "non_infringement       0.65      0.67      0.66       186\n",
      "\n",
      "        accuracy                           0.66       381\n",
      "       macro avg       0.66      0.66      0.66       381\n",
      "    weighted avg       0.66      0.66      0.66       381\n",
      "\n"
     ]
    },
    {
     "name": "stderr",
     "output_type": "stream",
     "text": [
      "Training Epochs:  76%|███████▋  | 382/500 [00:59<00:08, 13.65it/s]"
     ]
    },
    {
     "name": "stdout",
     "output_type": "stream",
     "text": [
      "Epoch 380/500, Loss: 0.1133\n",
      "Test Accuracy at Epoch 380: 65.35%\n",
      "Test F1-score at Epoch 380: 0.6526\n",
      "Classification Report at Epoch 380:\n",
      "                  precision    recall  f1-score   support\n",
      "\n",
      "    infringement       0.67      0.64      0.65       195\n",
      "non_infringement       0.64      0.67      0.65       186\n",
      "\n",
      "        accuracy                           0.65       381\n",
      "       macro avg       0.65      0.65      0.65       381\n",
      "    weighted avg       0.65      0.65      0.65       381\n",
      "\n"
     ]
    },
    {
     "name": "stderr",
     "output_type": "stream",
     "text": [
      "Training Epochs:  78%|███████▊  | 390/500 [01:01<00:28,  3.89it/s]"
     ]
    },
    {
     "name": "stdout",
     "output_type": "stream",
     "text": [
      "Epoch 390/500, Loss: 0.1118\n",
      "Test Accuracy at Epoch 390: 66.40%\n",
      "Test F1-score at Epoch 390: 0.6614\n",
      "Classification Report at Epoch 390:\n",
      "                  precision    recall  f1-score   support\n",
      "\n",
      "    infringement       0.68      0.66      0.67       195\n",
      "non_infringement       0.65      0.67      0.66       186\n",
      "\n",
      "        accuracy                           0.66       381\n",
      "       macro avg       0.66      0.66      0.66       381\n",
      "    weighted avg       0.66      0.66      0.66       381\n",
      "\n"
     ]
    },
    {
     "name": "stderr",
     "output_type": "stream",
     "text": [
      "Training Epochs:  80%|████████  | 401/500 [01:05<00:18,  5.42it/s]"
     ]
    },
    {
     "name": "stdout",
     "output_type": "stream",
     "text": [
      "Epoch 400/500, Loss: 0.1107\n",
      "Test Accuracy at Epoch 400: 65.35%\n",
      "Test F1-score at Epoch 400: 0.6526\n",
      "Classification Report at Epoch 400:\n",
      "                  precision    recall  f1-score   support\n",
      "\n",
      "    infringement       0.67      0.64      0.65       195\n",
      "non_infringement       0.64      0.67      0.65       186\n",
      "\n",
      "        accuracy                           0.65       381\n",
      "       macro avg       0.65      0.65      0.65       381\n",
      "    weighted avg       0.65      0.65      0.65       381\n",
      "\n"
     ]
    },
    {
     "name": "stderr",
     "output_type": "stream",
     "text": [
      "Training Epochs:  82%|████████▏ | 410/500 [01:07<00:20,  4.46it/s]"
     ]
    },
    {
     "name": "stdout",
     "output_type": "stream",
     "text": [
      "Epoch 410/500, Loss: 0.1116\n",
      "Test Accuracy at Epoch 410: 66.40%\n",
      "Test F1-score at Epoch 410: 0.6614\n",
      "Classification Report at Epoch 410:\n",
      "                  precision    recall  f1-score   support\n",
      "\n",
      "    infringement       0.68      0.66      0.67       195\n",
      "non_infringement       0.65      0.67      0.66       186\n",
      "\n",
      "        accuracy                           0.66       381\n",
      "       macro avg       0.66      0.66      0.66       381\n",
      "    weighted avg       0.66      0.66      0.66       381\n",
      "\n"
     ]
    },
    {
     "name": "stderr",
     "output_type": "stream",
     "text": [
      "Training Epochs:  85%|████████▍ | 424/500 [01:10<00:06, 11.69it/s]"
     ]
    },
    {
     "name": "stdout",
     "output_type": "stream",
     "text": [
      "Epoch 420/500, Loss: 0.1117\n",
      "Test Accuracy at Epoch 420: 65.62%\n",
      "Test F1-score at Epoch 420: 0.6525\n",
      "Classification Report at Epoch 420:\n",
      "                  precision    recall  f1-score   support\n",
      "\n",
      "    infringement       0.67      0.65      0.66       195\n",
      "non_infringement       0.64      0.66      0.65       186\n",
      "\n",
      "        accuracy                           0.66       381\n",
      "       macro avg       0.66      0.66      0.66       381\n",
      "    weighted avg       0.66      0.66      0.66       381\n",
      "\n"
     ]
    },
    {
     "name": "stderr",
     "output_type": "stream",
     "text": [
      "Training Epochs:  87%|████████▋ | 435/500 [01:10<00:02, 21.74it/s]"
     ]
    },
    {
     "name": "stdout",
     "output_type": "stream",
     "text": [
      "Epoch 430/500, Loss: 0.1105\n",
      "Test Accuracy at Epoch 430: 66.40%\n",
      "Test F1-score at Epoch 430: 0.6614\n",
      "Classification Report at Epoch 430:\n",
      "                  precision    recall  f1-score   support\n",
      "\n",
      "    infringement       0.68      0.66      0.67       195\n",
      "non_infringement       0.65      0.67      0.66       186\n",
      "\n",
      "        accuracy                           0.66       381\n",
      "       macro avg       0.66      0.66      0.66       381\n",
      "    weighted avg       0.66      0.66      0.66       381\n",
      "\n"
     ]
    },
    {
     "name": "stderr",
     "output_type": "stream",
     "text": [
      "Training Epochs:  89%|████████▊ | 443/500 [01:10<00:02, 26.02it/s]"
     ]
    },
    {
     "name": "stdout",
     "output_type": "stream",
     "text": [
      "Epoch 440/500, Loss: 0.1087\n",
      "Test Accuracy at Epoch 440: 64.83%\n",
      "Test F1-score at Epoch 440: 0.6474\n",
      "Classification Report at Epoch 440:\n",
      "                  precision    recall  f1-score   support\n",
      "\n",
      "    infringement       0.66      0.64      0.65       195\n",
      "non_infringement       0.63      0.66      0.65       186\n",
      "\n",
      "        accuracy                           0.65       381\n",
      "       macro avg       0.65      0.65      0.65       381\n",
      "    weighted avg       0.65      0.65      0.65       381\n",
      "\n"
     ]
    },
    {
     "name": "stderr",
     "output_type": "stream",
     "text": [
      "Training Epochs:  90%|█████████ | 451/500 [01:11<00:03, 14.16it/s]"
     ]
    },
    {
     "name": "stdout",
     "output_type": "stream",
     "text": [
      "Epoch 450/500, Loss: 0.1086\n",
      "Test Accuracy at Epoch 450: 66.40%\n",
      "Test F1-score at Epoch 450: 0.6614\n",
      "Classification Report at Epoch 450:\n",
      "                  precision    recall  f1-score   support\n",
      "\n",
      "    infringement       0.68      0.66      0.67       195\n",
      "non_infringement       0.65      0.67      0.66       186\n",
      "\n",
      "        accuracy                           0.66       381\n",
      "       macro avg       0.66      0.66      0.66       381\n",
      "    weighted avg       0.66      0.66      0.66       381\n",
      "\n"
     ]
    },
    {
     "name": "stderr",
     "output_type": "stream",
     "text": [
      "Training Epochs:  93%|█████████▎| 463/500 [01:12<00:02, 18.16it/s]"
     ]
    },
    {
     "name": "stdout",
     "output_type": "stream",
     "text": [
      "Epoch 460/500, Loss: 0.1102\n",
      "Test Accuracy at Epoch 460: 65.88%\n",
      "Test F1-score at Epoch 460: 0.6543\n",
      "Classification Report at Epoch 460:\n",
      "                  precision    recall  f1-score   support\n",
      "\n",
      "    infringement       0.67      0.66      0.66       195\n",
      "non_infringement       0.65      0.66      0.65       186\n",
      "\n",
      "        accuracy                           0.66       381\n",
      "       macro avg       0.66      0.66      0.66       381\n",
      "    weighted avg       0.66      0.66      0.66       381\n",
      "\n"
     ]
    },
    {
     "name": "stderr",
     "output_type": "stream",
     "text": [
      "Training Epochs:  94%|█████████▍| 472/500 [01:12<00:01, 18.09it/s]"
     ]
    },
    {
     "name": "stdout",
     "output_type": "stream",
     "text": [
      "Epoch 470/500, Loss: 0.1064\n",
      "Test Accuracy at Epoch 470: 66.67%\n",
      "Test F1-score at Epoch 470: 0.6649\n",
      "Classification Report at Epoch 470:\n",
      "                  precision    recall  f1-score   support\n",
      "\n",
      "    infringement       0.68      0.66      0.67       195\n",
      "non_infringement       0.65      0.68      0.66       186\n",
      "\n",
      "        accuracy                           0.67       381\n",
      "       macro avg       0.67      0.67      0.67       381\n",
      "    weighted avg       0.67      0.67      0.67       381\n",
      "\n"
     ]
    },
    {
     "name": "stderr",
     "output_type": "stream",
     "text": [
      "Training Epochs:  97%|█████████▋| 484/500 [01:14<00:01, 12.97it/s]"
     ]
    },
    {
     "name": "stdout",
     "output_type": "stream",
     "text": [
      "Epoch 480/500, Loss: 0.1082\n",
      "Test Accuracy at Epoch 480: 66.40%\n",
      "Test F1-score at Epoch 480: 0.6632\n",
      "Classification Report at Epoch 480:\n",
      "                  precision    recall  f1-score   support\n",
      "\n",
      "    infringement       0.68      0.65      0.66       195\n",
      "non_infringement       0.65      0.68      0.66       186\n",
      "\n",
      "        accuracy                           0.66       381\n",
      "       macro avg       0.66      0.66      0.66       381\n",
      "    weighted avg       0.66      0.66      0.66       381\n",
      "\n"
     ]
    },
    {
     "name": "stderr",
     "output_type": "stream",
     "text": [
      "Training Epochs:  98%|█████████▊| 489/500 [01:14<00:00, 15.65it/s]"
     ]
    },
    {
     "name": "stdout",
     "output_type": "stream",
     "text": [
      "Epoch 490/500, Loss: 0.1091\n",
      "Test Accuracy at Epoch 490: 65.88%\n",
      "Test F1-score at Epoch 490: 0.6782\n",
      "Classification Report at Epoch 490:\n",
      "                  precision    recall  f1-score   support\n",
      "\n",
      "    infringement       0.70      0.58      0.64       195\n",
      "non_infringement       0.63      0.74      0.68       186\n",
      "\n",
      "        accuracy                           0.66       381\n",
      "       macro avg       0.66      0.66      0.66       381\n",
      "    weighted avg       0.66      0.66      0.66       381\n",
      "\n"
     ]
    },
    {
     "name": "stderr",
     "output_type": "stream",
     "text": [
      "Training Epochs: 100%|██████████| 500/500 [01:18<00:00,  6.35it/s]\n",
      "/tmp/ipykernel_4114113/1789105606.py:55: FutureWarning: You are using `torch.load` with `weights_only=False` (the current default value), which uses the default pickle module implicitly. It is possible to construct malicious pickle data which will execute arbitrary code during unpickling (See https://github.com/pytorch/pytorch/blob/main/SECURITY.md#untrusted-models for more details). In a future release, the default value for `weights_only` will be flipped to `True`. This limits the functions that could be executed during unpickling. Arbitrary objects will no longer be allowed to be loaded via this mode unless they are explicitly allowlisted by the user via `torch.serialization.add_safe_globals`. We recommend you start setting `weights_only=True` for any use case where you don't have full control of the loaded file. Please open an issue on GitHub for any issues related to this experimental feature.\n",
      "  custom_mlp.load_state_dict(torch.load(checkpoint_path))\n"
     ]
    },
    {
     "name": "stdout",
     "output_type": "stream",
     "text": [
      "Epoch 500/500, Loss: 0.1183\n",
      "Test Accuracy at Epoch 500: 65.35%\n",
      "Test F1-score at Epoch 500: 0.6471\n",
      "Classification Report at Epoch 500:\n",
      "                  precision    recall  f1-score   support\n",
      "\n",
      "    infringement       0.66      0.66      0.66       195\n",
      "non_infringement       0.64      0.65      0.65       186\n",
      "\n",
      "        accuracy                           0.65       381\n",
      "       macro avg       0.65      0.65      0.65       381\n",
      "    weighted avg       0.65      0.65      0.65       381\n",
      "\n"
     ]
    },
    {
     "data": {
      "image/png": "[encoded data removed]",
      "text/plain": [
       "<Figure size 1000x500 with 1 Axes>"
      ]
     },
     "metadata": {},
     "output_type": "display_data"
    },
    {
     "name": "stdout",
     "output_type": "stream",
     "text": [
      "Best Model was saved at epoch 140 with F1-score 0.7550 and accuracy 70.87%\n"
     ]
    }
   ],
   "source": [
    "input_dim = X_train.shape[1]\n",
    "hidden_dim = 256\n",
    "\n",
    "custom_mlp, losses, best_accuracy, best_f1 = train_model(X_train, y_train, X_test, y_test, input_dim, hidden_dim)"
   ]
  },
  {
   "cell_type": "code",
   "execution_count": 21,
   "metadata": {},
   "outputs": [
    {
     "name": "stdout",
     "output_type": "stream",
     "text": [
      "Checkpoint saved to '/home/guangwei/LLM-COPYRIGHT/copyright_newVersion/models/train_input_last_token.pth'.\n"
     ]
    }
   ],
   "source": [
    "def save_checkpoint(model, optimizer, epoch, loss, filepath):\n",
    "    checkpoint = {\n",
    "        'epoch': epoch + 1,\n",
    "        'model_state_dict': model.state_dict(),\n",
    "        'optimizer_state_dict': optimizer.state_dict(),\n",
    "        'loss': loss\n",
    "    }\n",
    "    torch.save(checkpoint, filepath)\n",
    "    print(f\"Checkpoint saved to '{filepath}'.\")\n",
    "\n",
    "save_checkpoint(custom_mlp, torch.optim.Adam(custom_mlp.parameters()), len(losses), losses[-1], checkpoint_file)"
   ]
  },
  {
   "cell_type": "code",
   "execution_count": null,
   "metadata": {},
   "outputs": [
    {
     "name": "stdout",
     "output_type": "stream",
     "text": [
      "Final Model Accuracy: 70.87%\n"
     ]
    },
    {
     "name": "stderr",
     "output_type": "stream",
     "text": [
      "/tmp/ipykernel_4114113/3740627605.py:2: UserWarning: To copy construct from a tensor, it is recommended to use sourceTensor.clone().detach() or sourceTensor.clone().detach().requires_grad_(True), rather than torch.tensor(sourceTensor).\n",
      "  y_pred_final = (torch.sigmoid(torch.tensor(custom_mlp(torch.tensor(X_test, dtype=torch.float32)))) > 0.5).float().numpy()\n"
     ]
    },
    {
     "name": "stdout",
     "output_type": "stream",
     "text": [
      "                  precision    recall  f1-score   support\n",
      "\n",
      "    infringement       0.87      0.51      0.64       195\n",
      "non_infringement       0.64      0.92      0.75       186\n",
      "\n",
      "        accuracy                           0.71       381\n",
      "       macro avg       0.75      0.71      0.70       381\n",
      "    weighted avg       0.76      0.71      0.70       381\n",
      "\n"
     ]
    },
    {
     "ename": "",
     "evalue": "",
     "output_type": "error",
     "traceback": [
      "\u001b[1;31mThe Kernel crashed while executing code in the current cell or a previous cell. \n",
      "\u001b[1;31mPlease review the code in the cell(s) to identify a possible cause of the failure. \n",
      "\u001b[1;31mClick <a href='https://aka.ms/vscodeJupyterKernelCrash'>here</a> for more info. \n",
      "\u001b[1;31mView Jupyter <a href='command:jupyter.viewOutput'>log</a> for further details."
     ]
    }
   ],
   "source": [
    "print(f\"Final Model Accuracy: {best_accuracy * 100:.2f}%\")\n",
    "y_pred_final = (torch.sigmoid(torch.tensor(custom_mlp(torch.tensor(X_test, dtype=torch.float32)))) > 0.5).float().numpy()\n",
    "print(classification_report(y_test, y_pred_final, target_names=[\"infringement\", \"non_infringement\"]))"
   ]
  }
 ],
 "metadata": {
  "kernelspec": {
   "display_name": "zdh",
   "language": "python",
   "name": "python3"
  },
  "language_info": {
   "codemirror_mode": {
    "name": "ipython",
    "version": 3
   },
   "file_extension": ".py",
   "mimetype": "text/x-python",
   "name": "python",
   "nbconvert_exporter": "python",
   "pygments_lexer": "ipython3",
   "version": "3.12.3"
  }
 },
 "nbformat": 4,
 "nbformat_minor": 2
}
