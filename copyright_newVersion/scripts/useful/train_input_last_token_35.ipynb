{
 "cells": [
  {
   "cell_type": "code",
   "execution_count": 1,
   "metadata": {},
   "outputs": [
    {
     "name": "stderr",
     "output_type": "stream",
     "text": [
      "/home/guangwei/miniconda3/envs/zdh/lib/python3.12/site-packages/tqdm/auto.py:21: TqdmWarning: IProgress not found. Please update jupyter and ipywidgets. See https://ipywidgets.readthedocs.io/en/stable/user_install.html\n",
      "  from .autonotebook import tqdm as notebook_tqdm\n"
     ]
    }
   ],
   "source": [
    "# import packages\n",
    "import torch\n",
    "import torch.nn as nn\n",
    "import numpy as np\n",
    "from sklearn.metrics import accuracy_score, classification_report\n",
    "import matplotlib.pyplot as plt\n",
    "from tqdm import tqdm\n",
    "from transformers import AutoTokenizer, AutoModelForCausalLM\n",
    "import json\n",
    "import os\n",
    "\n",
    "os.environ[\"CUDA_VISIBLE_DEVICES\"] = \"5\"\n",
    "\n",
    "# Variables\n",
    "model_name = 'meta-llama/Meta-Llama-3.1-8B'\n",
    "non_infringement_file = '/home/guangwei/LLM-COPYRIGHT/copyright_newVersion/test_division/extra_35.non_infringement.json'\n",
    "infringement_file = '/home/guangwei/LLM-COPYRIGHT/copyright_newVersion/test_division/extra_35.infringement.json'\n",
    "checkpoint_file = '/home/guangwei/LLM-COPYRIGHT/copyright_newVersion/models/train_input_last_token.pth'"
   ]
  },
  {
   "cell_type": "code",
   "execution_count": 2,
   "metadata": {},
   "outputs": [],
   "source": [
    "# Define CustumMLP for internal states train\n",
    "class CustomMLP(nn.Module):\n",
    "    def __init__(self, input_dim, hidden_dim):\n",
    "        super(CustomMLP, self).__init__()\n",
    "        self.down = nn.Linear(input_dim, hidden_dim)\n",
    "        self.gate = nn.Linear(input_dim, hidden_dim)\n",
    "        self.up = nn.Linear(hidden_dim, 1)\n",
    "        self.activation = nn.SiLU()\n",
    "\n",
    "    def forward(self, x):\n",
    "        down_output = self.down(x)\n",
    "        gate_output = self.gate(x)\n",
    "        gated_output = down_output * self.activation(gate_output)\n",
    "        return self.up(gated_output)"
   ]
  },
  {
   "cell_type": "code",
   "execution_count": 3,
   "metadata": {},
   "outputs": [],
   "source": [
    "def extract_hidden_states(texts, model, tokenizer, batch_size=4):\n",
    "    device = torch.device(\"cuda\" if torch.cuda.is_available() else \"cpu\")\n",
    "    model.to(device)\n",
    "    model = nn.DataParallel(model)\n",
    "    hidden_states = []\n",
    "    for i in tqdm(range(0, len(texts), batch_size), desc=\"Processing data batches\"):\n",
    "        batch_texts = texts[i:i + batch_size]\n",
    "        inputs = tokenizer(batch_texts, return_tensors=\"pt\", padding=True, truncation=True)\n",
    "        with torch.no_grad():\n",
    "            outputs = model(**inputs)\n",
    "        \n",
    "        # 访问最后一个隐藏层的最后一个token的隐藏状态\n",
    "        # hidden_states[-1]表示最后一个隐藏层，mean(dim=1)表示取所有头的均值\n",
    "        last_layer_hidden_states = outputs.hidden_states[-1]\n",
    "        last_token_hidden_states = last_layer_hidden_states[:, -1, :]  # -1表示最后一个token\n",
    "        hidden_states.append(last_token_hidden_states.cpu().numpy())\n",
    "    return np.vstack(hidden_states)"
   ]
  },
  {
   "cell_type": "code",
   "execution_count": 4,
   "metadata": {},
   "outputs": [],
   "source": [
    "# lode data for infringement & non infringement\n",
    "def load_data(non_infringement_file, infringement_file):\n",
    "    with open(non_infringement_file, 'r', encoding='utf-8') as file:\n",
    "        non_infringement_json_data = json.load(file)\n",
    "\n",
    "    non_infringement_outputs = [entry['input'] for entry in non_infringement_json_data]\n",
    "    y_non_infringement = [1] * len(non_infringement_outputs)\n",
    "\n",
    "    with open(infringement_file, 'r', encoding='utf-8') as file:\n",
    "        infringement_json_data = json.load(file)\n",
    "\n",
    "    infringement_outputs = [entry['input'] for entry in infringement_json_data]\n",
    "    y_infringement = [0] * len(infringement_outputs)\n",
    "\n",
    "    return non_infringement_outputs, y_non_infringement, infringement_outputs, y_infringement"
   ]
  },
  {
   "cell_type": "code",
   "execution_count": 5,
   "metadata": {},
   "outputs": [],
   "source": [
    "from sklearn.metrics import accuracy_score, classification_report, f1_score\n",
    "\n",
    "# Train for best model\n",
    "def train_model(X_train, y_train, X_test, y_test, input_dim, hidden_dim, epochs=500, lr=0.001, checkpoint_path=checkpoint_file):\n",
    "    custom_mlp = CustomMLP(input_dim, hidden_dim)\n",
    "    criterion = nn.BCEWithLogitsLoss()\n",
    "    optimizer = torch.optim.Adam(custom_mlp.parameters(), lr=lr)\n",
    "\n",
    "    X_train_tensor = torch.tensor(X_train, dtype=torch.float32)\n",
    "    y_train_tensor = torch.tensor(y_train, dtype=torch.float32).unsqueeze(1)\n",
    "\n",
    "    best_accuracy = -float('inf')  # Initialize the best accuracy to negative infinity\n",
    "    best_f1 = -float('inf')  # Initialize the best F1-score to negative infinity\n",
    "    best_model_state = None  # Store the state of the best model\n",
    "    best_epoch = 0  # Track the epoch with the best accuracy\n",
    "    losses = []\n",
    "\n",
    "    for epoch in tqdm(range(epochs), desc=\"Training Epochs\"):\n",
    "        custom_mlp.train()\n",
    "        optimizer.zero_grad()\n",
    "        outputs = custom_mlp(X_train_tensor)\n",
    "        loss = criterion(outputs, y_train_tensor)\n",
    "        loss.backward()\n",
    "        optimizer.step()\n",
    "        losses.append(loss.item())\n",
    "        \n",
    "        if (epoch + 1) % 10 == 0:\n",
    "            print(f\"Epoch {epoch + 1}/{epochs}, Loss: {loss.item():.4f}\")\n",
    "            \n",
    "            custom_mlp.eval()\n",
    "            X_test_tensor = torch.tensor(X_test, dtype=torch.float32)\n",
    "            with torch.no_grad():\n",
    "                y_pred_logits = custom_mlp(X_test_tensor)\n",
    "                y_pred = (torch.sigmoid(y_pred_logits) > 0.5).float().numpy()\n",
    "            \n",
    "            accuracy = accuracy_score(y_test, y_pred)\n",
    "            f1 = f1_score(y_test, y_pred)  # Calculate F1-score\n",
    "            print(f\"Test Accuracy at Epoch {epoch + 1}: {accuracy * 100:.2f}%\")\n",
    "            print(f\"Test F1-score at Epoch {epoch + 1}: {f1:.4f}\")\n",
    "            \n",
    "            report = classification_report(y_test, y_pred, target_names=[\"infringement\", \"non_infringement\"])\n",
    "            print(f\"Classification Report at Epoch {epoch + 1}:\\n{report}\")\n",
    "\n",
    "            # Check if the current model is the best based on F1-score\n",
    "            if f1 > best_f1:\n",
    "                best_accuracy = accuracy\n",
    "                best_f1 = f1\n",
    "                best_model_state = custom_mlp.state_dict()\n",
    "                best_epoch = epoch + 1\n",
    "                torch.save(best_model_state, checkpoint_path)\n",
    "                print(f\"New best model saved with F1-score {best_f1:.4f} at epoch {best_epoch}\")\n",
    "                print(f\"Best Classification Report at Epoch {best_epoch}:\\n{report}\")\n",
    "\n",
    "    # Load the best model state\n",
    "    custom_mlp.load_state_dict(torch.load(checkpoint_path))\n",
    "\n",
    "    # Plot loss curve\n",
    "    plt.figure(figsize=(10, 5))\n",
    "    plt.plot(losses, label='Training Loss')\n",
    "    plt.xlabel('Epoch')\n",
    "    plt.ylabel('Loss')\n",
    "    plt.title('Training Loss Curve')\n",
    "    plt.legend()\n",
    "    plt.show()\n",
    "\n",
    "    print(f\"Best Model was saved at epoch {best_epoch} with F1-score {best_f1:.4f} and accuracy {best_accuracy * 100:.2f}%\")\n",
    "    return custom_mlp, losses, best_accuracy, best_f1\n"
   ]
  },
  {
   "cell_type": "code",
   "execution_count": 6,
   "metadata": {},
   "outputs": [
    {
     "name": "stderr",
     "output_type": "stream",
     "text": [
      "/home/guangwei/miniconda3/envs/zdh/lib/python3.12/site-packages/transformers/generation/configuration_utils.py:777: UserWarning: `return_dict_in_generate` is NOT set to `True`, but `output_hidden_states` is. When `return_dict_in_generate` is not `True`, `output_hidden_states` is ignored.\n",
      "  warnings.warn(\n",
      "Loading checkpoint shards: 100%|██████████| 4/4 [00:07<00:00,  1.76s/it]\n"
     ]
    }
   ],
   "source": [
    "\n",
    "tokenizer = AutoTokenizer.from_pretrained(model_name, model_max_length=512)\n",
    "model = AutoModelForCausalLM.from_pretrained(model_name, output_hidden_states=True)\n",
    "tokenizer.pad_token = tokenizer.eos_token\n",
    "\n",
    "non_infringement_outputs, y_non_infringement, infringement_outputs, y_infringement = load_data(non_infringement_file, infringement_file)\n",
    "\n",
    "y_non_infringement = np.array(y_non_infringement)\n",
    "y_infringement = np.array(y_infringement)\n"
   ]
  },
  {
   "cell_type": "code",
   "execution_count": null,
   "metadata": {},
   "outputs": [
    {
     "name": "stdout",
     "output_type": "stream",
     "text": [
      "Extracting hidden states for non_infringement texts...\n"
     ]
    },
    {
     "name": "stderr",
     "output_type": "stream",
     "text": [
      "Processing data batches:   0%|          | 0/232 [00:00<?, ?it/s]Starting from v4.46, the `logits` model output will have the same type as the model (except at train time, where it will always be FP32)\n",
      "Processing data batches:   1%|          | 2/232 [00:02<04:37,  1.20s/it]"
     ]
    }
   ],
   "source": [
    "print(\"Extracting hidden states for non_infringement texts...\")\n",
    "X_non_infringement = extract_hidden_states(non_infringement_outputs, model, tokenizer)\n",
    "\n",
    "print(\"Extracting hidden states for infringement texts...\")\n",
    "X_infringement = extract_hidden_states(infringement_outputs, model, tokenizer)"
   ]
  },
  {
   "cell_type": "code",
   "execution_count": null,
   "metadata": {},
   "outputs": [
    {
     "name": "stdout",
     "output_type": "stream",
     "text": [
      "Data successfully split into training and test sets.\n"
     ]
    }
   ],
   "source": [
    "split_index_non_infringement = int(0.8 * len(X_non_infringement))\n",
    "X_non_infringement_train = X_non_infringement[:split_index_non_infringement]\n",
    "X_non_infringement_test = X_non_infringement[split_index_non_infringement:]\n",
    "y_non_infringement_train = y_non_infringement[:split_index_non_infringement]\n",
    "y_non_infringement_test = y_non_infringement[split_index_non_infringement:]\n",
    "\n",
    "split_index_infringement = int(0.8 * len(X_infringement))\n",
    "X_infringement_train = X_infringement[:split_index_infringement]\n",
    "X_infringement_test = X_infringement[split_index_infringement:]\n",
    "y_infringement_train = y_infringement[:split_index_infringement]\n",
    "y_infringement_test = y_infringement[split_index_infringement:]\n",
    "\n",
    "X_train = np.vstack((X_non_infringement_train, X_infringement_train))\n",
    "X_test = np.vstack((X_non_infringement_test, X_infringement_test))\n",
    "y_train = np.concatenate((y_non_infringement_train, y_infringement_train))\n",
    "y_test = np.concatenate((y_non_infringement_test, y_infringement_test))\n",
    "\n",
    "print(\"Data successfully split into training and test sets.\")\n"
   ]
  },
  {
   "cell_type": "code",
   "execution_count": null,
   "metadata": {},
   "outputs": [
    {
     "name": "stderr",
     "output_type": "stream",
     "text": [
      "Training Epochs:   0%|          | 10/2500 [00:03<08:19,  4.98it/s]"
     ]
    },
    {
     "name": "stdout",
     "output_type": "stream",
     "text": [
      "Epoch 10/2500, Loss: 1.1196\n",
      "Test Accuracy at Epoch 10: 65.88%\n",
      "Test F1-score at Epoch 10: 0.7162\n",
      "Classification Report at Epoch 10:\n",
      "                  precision    recall  f1-score   support\n",
      "\n",
      "    infringement       0.80      0.45      0.57       195\n",
      "non_infringement       0.60      0.88      0.72       186\n",
      "\n",
      "        accuracy                           0.66       381\n",
      "       macro avg       0.70      0.66      0.64       381\n",
      "    weighted avg       0.70      0.66      0.64       381\n",
      "\n",
      "New best model saved with F1-score 0.7162 at epoch 10\n",
      "Best Classification Report at Epoch 10:\n",
      "                  precision    recall  f1-score   support\n",
      "\n",
      "    infringement       0.80      0.45      0.57       195\n",
      "non_infringement       0.60      0.88      0.72       186\n",
      "\n",
      "        accuracy                           0.66       381\n",
      "       macro avg       0.70      0.66      0.64       381\n",
      "    weighted avg       0.70      0.66      0.64       381\n",
      "\n"
     ]
    },
    {
     "name": "stderr",
     "output_type": "stream",
     "text": [
      "Training Epochs:   1%|          | 21/2500 [00:04<05:24,  7.64it/s]"
     ]
    },
    {
     "name": "stdout",
     "output_type": "stream",
     "text": [
      "Epoch 20/2500, Loss: 0.4699\n",
      "Test Accuracy at Epoch 20: 54.59%\n",
      "Test F1-score at Epoch 20: 0.3799\n",
      "Classification Report at Epoch 20:\n",
      "                  precision    recall  f1-score   support\n",
      "\n",
      "    infringement       0.54      0.79      0.64       195\n",
      "non_infringement       0.57      0.28      0.38       186\n",
      "\n",
      "        accuracy                           0.55       381\n",
      "       macro avg       0.55      0.54      0.51       381\n",
      "    weighted avg       0.55      0.55      0.51       381\n",
      "\n"
     ]
    },
    {
     "name": "stderr",
     "output_type": "stream",
     "text": [
      "Training Epochs:   1%|          | 30/2500 [00:08<17:19,  2.38it/s]"
     ]
    },
    {
     "name": "stdout",
     "output_type": "stream",
     "text": [
      "Epoch 30/2500, Loss: 0.4449\n",
      "Test Accuracy at Epoch 30: 63.52%\n",
      "Test F1-score at Epoch 30: 0.6085\n",
      "Classification Report at Epoch 30:\n",
      "                  precision    recall  f1-score   support\n",
      "\n",
      "    infringement       0.63      0.69      0.66       195\n",
      "non_infringement       0.64      0.58      0.61       186\n",
      "\n",
      "        accuracy                           0.64       381\n",
      "       macro avg       0.64      0.63      0.63       381\n",
      "    weighted avg       0.64      0.64      0.63       381\n",
      "\n"
     ]
    },
    {
     "name": "stderr",
     "output_type": "stream",
     "text": [
      "Training Epochs:   2%|▏         | 40/2500 [00:08<03:40, 11.17it/s]"
     ]
    },
    {
     "name": "stdout",
     "output_type": "stream",
     "text": [
      "Epoch 40/2500, Loss: 0.3826\n",
      "Test Accuracy at Epoch 40: 66.93%\n",
      "Test F1-score at Epoch 40: 0.6818\n",
      "Classification Report at Epoch 40:\n",
      "                  precision    recall  f1-score   support\n",
      "\n",
      "    infringement       0.70      0.62      0.66       195\n",
      "non_infringement       0.64      0.73      0.68       186\n",
      "\n",
      "        accuracy                           0.67       381\n",
      "       macro avg       0.67      0.67      0.67       381\n",
      "    weighted avg       0.67      0.67      0.67       381\n",
      "\n"
     ]
    },
    {
     "name": "stderr",
     "output_type": "stream",
     "text": [
      "Training Epochs:   2%|▏         | 50/2500 [00:12<14:21,  2.84it/s]"
     ]
    },
    {
     "name": "stdout",
     "output_type": "stream",
     "text": [
      "Epoch 50/2500, Loss: 0.3451\n",
      "Test Accuracy at Epoch 50: 69.03%\n",
      "Test F1-score at Epoch 50: 0.7108\n",
      "Classification Report at Epoch 50:\n",
      "                  precision    recall  f1-score   support\n",
      "\n",
      "    infringement       0.74      0.61      0.67       195\n",
      "non_infringement       0.65      0.78      0.71       186\n",
      "\n",
      "        accuracy                           0.69       381\n",
      "       macro avg       0.70      0.69      0.69       381\n",
      "    weighted avg       0.70      0.69      0.69       381\n",
      "\n"
     ]
    },
    {
     "name": "stderr",
     "output_type": "stream",
     "text": [
      "Training Epochs:   2%|▏         | 61/2500 [00:14<08:55,  4.55it/s]"
     ]
    },
    {
     "name": "stdout",
     "output_type": "stream",
     "text": [
      "Epoch 60/2500, Loss: 0.3127\n",
      "Test Accuracy at Epoch 60: 68.50%\n",
      "Test F1-score at Epoch 60: 0.6809\n",
      "Classification Report at Epoch 60:\n",
      "                  precision    recall  f1-score   support\n",
      "\n",
      "    infringement       0.70      0.68      0.69       195\n",
      "non_infringement       0.67      0.69      0.68       186\n",
      "\n",
      "        accuracy                           0.69       381\n",
      "       macro avg       0.69      0.69      0.68       381\n",
      "    weighted avg       0.69      0.69      0.69       381\n",
      "\n"
     ]
    },
    {
     "name": "stderr",
     "output_type": "stream",
     "text": [
      "Training Epochs:   3%|▎         | 70/2500 [00:17<18:30,  2.19it/s]"
     ]
    },
    {
     "name": "stdout",
     "output_type": "stream",
     "text": [
      "Epoch 70/2500, Loss: 0.2827\n",
      "Test Accuracy at Epoch 70: 67.72%\n",
      "Test F1-score at Epoch 70: 0.6822\n",
      "Classification Report at Epoch 70:\n",
      "                  precision    recall  f1-score   support\n",
      "\n",
      "    infringement       0.70      0.65      0.67       195\n",
      "non_infringement       0.66      0.71      0.68       186\n",
      "\n",
      "        accuracy                           0.68       381\n",
      "       macro avg       0.68      0.68      0.68       381\n",
      "    weighted avg       0.68      0.68      0.68       381\n",
      "\n"
     ]
    },
    {
     "name": "stderr",
     "output_type": "stream",
     "text": [
      "Training Epochs:   3%|▎         | 80/2500 [00:18<06:41,  6.03it/s]"
     ]
    },
    {
     "name": "stdout",
     "output_type": "stream",
     "text": [
      "Epoch 80/2500, Loss: 0.2612\n",
      "Test Accuracy at Epoch 80: 68.24%\n",
      "Test F1-score at Epoch 80: 0.7027\n",
      "Classification Report at Epoch 80:\n",
      "                  precision    recall  f1-score   support\n",
      "\n",
      "    infringement       0.73      0.60      0.66       195\n",
      "non_infringement       0.65      0.77      0.70       186\n",
      "\n",
      "        accuracy                           0.68       381\n",
      "       macro avg       0.69      0.68      0.68       381\n",
      "    weighted avg       0.69      0.68      0.68       381\n",
      "\n"
     ]
    },
    {
     "name": "stderr",
     "output_type": "stream",
     "text": [
      "Training Epochs:   4%|▎         | 92/2500 [00:22<05:51,  6.84it/s]"
     ]
    },
    {
     "name": "stdout",
     "output_type": "stream",
     "text": [
      "Epoch 90/2500, Loss: 0.2370\n",
      "Test Accuracy at Epoch 90: 66.93%\n",
      "Test F1-score at Epoch 90: 0.6850\n",
      "Classification Report at Epoch 90:\n",
      "                  precision    recall  f1-score   support\n",
      "\n",
      "    infringement       0.71      0.61      0.65       195\n",
      "non_infringement       0.64      0.74      0.69       186\n",
      "\n",
      "        accuracy                           0.67       381\n",
      "       macro avg       0.67      0.67      0.67       381\n",
      "    weighted avg       0.67      0.67      0.67       381\n",
      "\n"
     ]
    },
    {
     "name": "stderr",
     "output_type": "stream",
     "text": [
      "Training Epochs:   4%|▍         | 100/2500 [00:23<07:21,  5.44it/s]"
     ]
    },
    {
     "name": "stdout",
     "output_type": "stream",
     "text": [
      "Epoch 100/2500, Loss: 0.2275\n",
      "Test Accuracy at Epoch 100: 67.72%\n",
      "Test F1-score at Epoch 100: 0.6755\n",
      "Classification Report at Epoch 100:\n",
      "                  precision    recall  f1-score   support\n",
      "\n",
      "    infringement       0.69      0.67      0.68       195\n",
      "non_infringement       0.66      0.69      0.68       186\n",
      "\n",
      "        accuracy                           0.68       381\n",
      "       macro avg       0.68      0.68      0.68       381\n",
      "    weighted avg       0.68      0.68      0.68       381\n",
      "\n"
     ]
    },
    {
     "name": "stderr",
     "output_type": "stream",
     "text": [
      "Training Epochs:   4%|▍         | 110/2500 [00:24<07:29,  5.32it/s]"
     ]
    },
    {
     "name": "stdout",
     "output_type": "stream",
     "text": [
      "Epoch 110/2500, Loss: 0.2629\n",
      "Test Accuracy at Epoch 110: 70.87%\n",
      "Test F1-score at Epoch 110: 0.7338\n",
      "Classification Report at Epoch 110:\n",
      "                  precision    recall  f1-score   support\n",
      "\n",
      "    infringement       0.78      0.60      0.68       195\n",
      "non_infringement       0.66      0.82      0.73       186\n",
      "\n",
      "        accuracy                           0.71       381\n",
      "       macro avg       0.72      0.71      0.71       381\n",
      "    weighted avg       0.72      0.71      0.71       381\n",
      "\n",
      "New best model saved with F1-score 0.7338 at epoch 110\n",
      "Best Classification Report at Epoch 110:\n",
      "                  precision    recall  f1-score   support\n",
      "\n",
      "    infringement       0.78      0.60      0.68       195\n",
      "non_infringement       0.66      0.82      0.73       186\n",
      "\n",
      "        accuracy                           0.71       381\n",
      "       macro avg       0.72      0.71      0.71       381\n",
      "    weighted avg       0.72      0.71      0.71       381\n",
      "\n"
     ]
    },
    {
     "name": "stderr",
     "output_type": "stream",
     "text": [
      "Training Epochs:   5%|▍         | 119/2500 [00:27<06:01,  6.59it/s]"
     ]
    },
    {
     "name": "stdout",
     "output_type": "stream",
     "text": [
      "Epoch 120/2500, Loss: 0.2132\n",
      "Test Accuracy at Epoch 120: 68.24%\n",
      "Test F1-score at Epoch 120: 0.6952\n",
      "Classification Report at Epoch 120:\n",
      "                  precision    recall  f1-score   support\n",
      "\n",
      "    infringement       0.72      0.63      0.67       195\n",
      "non_infringement       0.65      0.74      0.70       186\n",
      "\n",
      "        accuracy                           0.68       381\n",
      "       macro avg       0.69      0.68      0.68       381\n",
      "    weighted avg       0.69      0.68      0.68       381\n",
      "\n"
     ]
    },
    {
     "name": "stderr",
     "output_type": "stream",
     "text": [
      "Training Epochs:   5%|▌         | 131/2500 [00:31<08:39,  4.56it/s]"
     ]
    },
    {
     "name": "stdout",
     "output_type": "stream",
     "text": [
      "Epoch 130/2500, Loss: 0.1960\n",
      "Test Accuracy at Epoch 130: 67.98%\n",
      "Test F1-score at Epoch 130: 0.6935\n",
      "Classification Report at Epoch 130:\n",
      "                  precision    recall  f1-score   support\n",
      "\n",
      "    infringement       0.72      0.62      0.66       195\n",
      "non_infringement       0.65      0.74      0.69       186\n",
      "\n",
      "        accuracy                           0.68       381\n",
      "       macro avg       0.68      0.68      0.68       381\n",
      "    weighted avg       0.68      0.68      0.68       381\n",
      "\n"
     ]
    },
    {
     "name": "stderr",
     "output_type": "stream",
     "text": [
      "Training Epochs:   6%|▌         | 140/2500 [00:33<10:06,  3.89it/s]"
     ]
    },
    {
     "name": "stdout",
     "output_type": "stream",
     "text": [
      "Epoch 140/2500, Loss: 0.2653\n",
      "Test Accuracy at Epoch 140: 65.35%\n",
      "Test F1-score at Epoch 140: 0.6118\n",
      "Classification Report at Epoch 140:\n",
      "                  precision    recall  f1-score   support\n",
      "\n",
      "    infringement       0.64      0.74      0.69       195\n",
      "non_infringement       0.68      0.56      0.61       186\n",
      "\n",
      "        accuracy                           0.65       381\n",
      "       macro avg       0.66      0.65      0.65       381\n",
      "    weighted avg       0.66      0.65      0.65       381\n",
      "\n"
     ]
    },
    {
     "name": "stderr",
     "output_type": "stream",
     "text": [
      "Training Epochs:   6%|▌         | 151/2500 [00:36<07:02,  5.55it/s]"
     ]
    },
    {
     "name": "stdout",
     "output_type": "stream",
     "text": [
      "Epoch 150/2500, Loss: 0.2026\n",
      "Test Accuracy at Epoch 150: 67.45%\n",
      "Test F1-score at Epoch 150: 0.6771\n",
      "Classification Report at Epoch 150:\n",
      "                  precision    recall  f1-score   support\n",
      "\n",
      "    infringement       0.69      0.65      0.67       195\n",
      "non_infringement       0.66      0.70      0.68       186\n",
      "\n",
      "        accuracy                           0.67       381\n",
      "       macro avg       0.68      0.68      0.67       381\n",
      "    weighted avg       0.68      0.67      0.67       381\n",
      "\n"
     ]
    },
    {
     "name": "stderr",
     "output_type": "stream",
     "text": [
      "Training Epochs:   6%|▋         | 162/2500 [00:37<02:18, 16.87it/s]"
     ]
    },
    {
     "name": "stdout",
     "output_type": "stream",
     "text": [
      "Epoch 160/2500, Loss: 0.1640\n",
      "Test Accuracy at Epoch 160: 69.03%\n",
      "Test F1-score at Epoch 160: 0.7079\n",
      "Classification Report at Epoch 160:\n",
      "                  precision    recall  f1-score   support\n",
      "\n",
      "    infringement       0.74      0.62      0.67       195\n",
      "non_infringement       0.66      0.77      0.71       186\n",
      "\n",
      "        accuracy                           0.69       381\n",
      "       macro avg       0.70      0.69      0.69       381\n",
      "    weighted avg       0.70      0.69      0.69       381\n",
      "\n"
     ]
    },
    {
     "name": "stderr",
     "output_type": "stream",
     "text": [
      "Training Epochs:   7%|▋         | 168/2500 [00:37<01:59, 19.50it/s]"
     ]
    },
    {
     "name": "stdout",
     "output_type": "stream",
     "text": [
      "Epoch 170/2500, Loss: 0.1558\n",
      "Test Accuracy at Epoch 170: 67.98%\n",
      "Test F1-score at Epoch 170: 0.6904\n",
      "Classification Report at Epoch 170:\n",
      "                  precision    recall  f1-score   support\n",
      "\n",
      "    infringement       0.71      0.63      0.67       195\n",
      "non_infringement       0.65      0.73      0.69       186\n",
      "\n",
      "        accuracy                           0.68       381\n",
      "       macro avg       0.68      0.68      0.68       381\n",
      "    weighted avg       0.68      0.68      0.68       381\n",
      "\n"
     ]
    },
    {
     "name": "stderr",
     "output_type": "stream",
     "text": [
      "Training Epochs:   7%|▋         | 181/2500 [00:41<06:56,  5.57it/s]"
     ]
    },
    {
     "name": "stdout",
     "output_type": "stream",
     "text": [
      "Epoch 180/2500, Loss: 0.2114\n",
      "Test Accuracy at Epoch 180: 70.87%\n",
      "Test F1-score at Epoch 180: 0.7338\n",
      "Classification Report at Epoch 180:\n",
      "                  precision    recall  f1-score   support\n",
      "\n",
      "    infringement       0.78      0.60      0.68       195\n",
      "non_infringement       0.66      0.82      0.73       186\n",
      "\n",
      "        accuracy                           0.71       381\n",
      "       macro avg       0.72      0.71      0.71       381\n",
      "    weighted avg       0.72      0.71      0.71       381\n",
      "\n"
     ]
    },
    {
     "name": "stderr",
     "output_type": "stream",
     "text": [
      "Training Epochs:   8%|▊         | 189/2500 [00:42<04:27,  8.65it/s]"
     ]
    },
    {
     "name": "stdout",
     "output_type": "stream",
     "text": [
      "Epoch 190/2500, Loss: 0.1538\n",
      "Test Accuracy at Epoch 190: 69.82%\n",
      "Test F1-score at Epoch 190: 0.7188\n",
      "Classification Report at Epoch 190:\n",
      "                  precision    recall  f1-score   support\n",
      "\n",
      "    infringement       0.75      0.61      0.67       195\n",
      "non_infringement       0.66      0.79      0.72       186\n",
      "\n",
      "        accuracy                           0.70       381\n",
      "       macro avg       0.71      0.70      0.70       381\n",
      "    weighted avg       0.71      0.70      0.70       381\n",
      "\n"
     ]
    },
    {
     "name": "stderr",
     "output_type": "stream",
     "text": [
      "Training Epochs:   8%|▊         | 200/2500 [00:44<09:34,  4.00it/s]"
     ]
    },
    {
     "name": "stdout",
     "output_type": "stream",
     "text": [
      "Epoch 200/2500, Loss: 0.1686\n",
      "Test Accuracy at Epoch 200: 67.72%\n",
      "Test F1-score at Epoch 200: 0.6805\n",
      "Classification Report at Epoch 200:\n",
      "                  precision    recall  f1-score   support\n",
      "\n",
      "    infringement       0.70      0.65      0.67       195\n",
      "non_infringement       0.66      0.70      0.68       186\n",
      "\n",
      "        accuracy                           0.68       381\n",
      "       macro avg       0.68      0.68      0.68       381\n",
      "    weighted avg       0.68      0.68      0.68       381\n",
      "\n"
     ]
    },
    {
     "name": "stderr",
     "output_type": "stream",
     "text": [
      "Training Epochs:   8%|▊         | 211/2500 [00:46<05:28,  6.97it/s]"
     ]
    },
    {
     "name": "stdout",
     "output_type": "stream",
     "text": [
      "Epoch 210/2500, Loss: 0.1473\n",
      "Test Accuracy at Epoch 210: 67.45%\n",
      "Test F1-score at Epoch 210: 0.6869\n",
      "Classification Report at Epoch 210:\n",
      "                  precision    recall  f1-score   support\n",
      "\n",
      "    infringement       0.71      0.62      0.66       195\n",
      "non_infringement       0.65      0.73      0.69       186\n",
      "\n",
      "        accuracy                           0.67       381\n",
      "       macro avg       0.68      0.68      0.67       381\n",
      "    weighted avg       0.68      0.67      0.67       381\n",
      "\n"
     ]
    },
    {
     "name": "stderr",
     "output_type": "stream",
     "text": [
      "Training Epochs:   9%|▉         | 223/2500 [00:47<02:08, 17.78it/s]"
     ]
    },
    {
     "name": "stdout",
     "output_type": "stream",
     "text": [
      "Epoch 220/2500, Loss: 0.2245\n",
      "Test Accuracy at Epoch 220: 65.62%\n",
      "Test F1-score at Epoch 220: 0.6391\n",
      "Classification Report at Epoch 220:\n",
      "                  precision    recall  f1-score   support\n",
      "\n",
      "    infringement       0.66      0.69      0.67       195\n",
      "non_infringement       0.66      0.62      0.64       186\n",
      "\n",
      "        accuracy                           0.66       381\n",
      "       macro avg       0.66      0.66      0.66       381\n",
      "    weighted avg       0.66      0.66      0.66       381\n",
      "\n"
     ]
    },
    {
     "name": "stderr",
     "output_type": "stream",
     "text": [
      "Training Epochs:   9%|▉         | 237/2500 [00:47<01:03, 35.48it/s]"
     ]
    },
    {
     "name": "stdout",
     "output_type": "stream",
     "text": [
      "Epoch 230/2500, Loss: 0.2367\n",
      "Test Accuracy at Epoch 230: 69.29%\n",
      "Test F1-score at Epoch 230: 0.7038\n",
      "Classification Report at Epoch 230:\n",
      "                  precision    recall  f1-score   support\n",
      "\n",
      "    infringement       0.73      0.64      0.68       195\n",
      "non_infringement       0.67      0.75      0.70       186\n",
      "\n",
      "        accuracy                           0.69       381\n",
      "       macro avg       0.70      0.69      0.69       381\n",
      "    weighted avg       0.70      0.69      0.69       381\n",
      "\n",
      "Epoch 240/2500, Loss: 0.1719\n",
      "Test Accuracy at Epoch 240: 68.77%\n",
      "Test F1-score at Epoch 240: 0.7003\n",
      "Classification Report at Epoch 240:\n",
      "                  precision    recall  f1-score   support\n",
      "\n",
      "    infringement       0.72      0.63      0.67       195\n",
      "non_infringement       0.66      0.75      0.70       186\n",
      "\n",
      "        accuracy                           0.69       381\n",
      "       macro avg       0.69      0.69      0.69       381\n",
      "    weighted avg       0.69      0.69      0.69       381\n",
      "\n"
     ]
    },
    {
     "name": "stderr",
     "output_type": "stream",
     "text": [
      "Training Epochs:  10%|█         | 258/2500 [00:48<00:53, 42.09it/s]"
     ]
    },
    {
     "name": "stdout",
     "output_type": "stream",
     "text": [
      "Epoch 250/2500, Loss: 0.1374\n",
      "Test Accuracy at Epoch 250: 69.03%\n",
      "Test F1-score at Epoch 250: 0.7079\n",
      "Classification Report at Epoch 250:\n",
      "                  precision    recall  f1-score   support\n",
      "\n",
      "    infringement       0.74      0.62      0.67       195\n",
      "non_infringement       0.66      0.77      0.71       186\n",
      "\n",
      "        accuracy                           0.69       381\n",
      "       macro avg       0.70      0.69      0.69       381\n",
      "    weighted avg       0.70      0.69      0.69       381\n",
      "\n",
      "Epoch 260/2500, Loss: 0.1341\n",
      "Test Accuracy at Epoch 260: 69.29%\n",
      "Test F1-score at Epoch 260: 0.7097\n",
      "Classification Report at Epoch 260:\n",
      "                  precision    recall  f1-score   support\n",
      "\n",
      "    infringement       0.74      0.62      0.67       195\n",
      "non_infringement       0.66      0.77      0.71       186\n",
      "\n",
      "        accuracy                           0.69       381\n",
      "       macro avg       0.70      0.69      0.69       381\n",
      "    weighted avg       0.70      0.69      0.69       381\n",
      "\n"
     ]
    },
    {
     "name": "stderr",
     "output_type": "stream",
     "text": [
      "Training Epochs:  11%|█         | 270/2500 [00:51<06:31,  5.69it/s]"
     ]
    },
    {
     "name": "stdout",
     "output_type": "stream",
     "text": [
      "Epoch 270/2500, Loss: 0.1289\n",
      "Test Accuracy at Epoch 270: 68.77%\n",
      "Test F1-score at Epoch 270: 0.7032\n",
      "Classification Report at Epoch 270:\n",
      "                  precision    recall  f1-score   support\n",
      "\n",
      "    infringement       0.73      0.62      0.67       195\n",
      "non_infringement       0.66      0.76      0.70       186\n",
      "\n",
      "        accuracy                           0.69       381\n",
      "       macro avg       0.69      0.69      0.69       381\n",
      "    weighted avg       0.69      0.69      0.69       381\n",
      "\n"
     ]
    },
    {
     "name": "stderr",
     "output_type": "stream",
     "text": [
      "Training Epochs:  11%|█         | 280/2500 [00:53<04:48,  7.69it/s]"
     ]
    },
    {
     "name": "stdout",
     "output_type": "stream",
     "text": [
      "Epoch 280/2500, Loss: 0.1255\n",
      "Test Accuracy at Epoch 280: 68.50%\n",
      "Test F1-score at Epoch 280: 0.6875\n",
      "Classification Report at Epoch 280:\n",
      "                  precision    recall  f1-score   support\n",
      "\n",
      "    infringement       0.70      0.66      0.68       195\n",
      "non_infringement       0.67      0.71      0.69       186\n",
      "\n",
      "        accuracy                           0.69       381\n",
      "       macro avg       0.69      0.69      0.69       381\n",
      "    weighted avg       0.69      0.69      0.68       381\n",
      "\n"
     ]
    },
    {
     "name": "stderr",
     "output_type": "stream",
     "text": [
      "Training Epochs:  12%|█▏        | 288/2500 [00:54<04:58,  7.41it/s]"
     ]
    },
    {
     "name": "stdout",
     "output_type": "stream",
     "text": [
      "Epoch 290/2500, Loss: 0.1225\n",
      "Test Accuracy at Epoch 290: 69.03%\n",
      "Test F1-score at Epoch 290: 0.7020\n",
      "Classification Report at Epoch 290:\n",
      "                  precision    recall  f1-score   support\n",
      "\n",
      "    infringement       0.73      0.64      0.68       195\n",
      "non_infringement       0.66      0.75      0.70       186\n",
      "\n",
      "        accuracy                           0.69       381\n",
      "       macro avg       0.69      0.69      0.69       381\n",
      "    weighted avg       0.69      0.69      0.69       381\n",
      "\n"
     ]
    },
    {
     "name": "stderr",
     "output_type": "stream",
     "text": [
      "Training Epochs:  12%|█▏        | 304/2500 [00:57<03:31, 10.37it/s]"
     ]
    },
    {
     "name": "stdout",
     "output_type": "stream",
     "text": [
      "Epoch 300/2500, Loss: 0.1201\n",
      "Test Accuracy at Epoch 300: 69.29%\n",
      "Test F1-score at Epoch 300: 0.7038\n",
      "Classification Report at Epoch 300:\n",
      "                  precision    recall  f1-score   support\n",
      "\n",
      "    infringement       0.73      0.64      0.68       195\n",
      "non_infringement       0.67      0.75      0.70       186\n",
      "\n",
      "        accuracy                           0.69       381\n",
      "       macro avg       0.70      0.69      0.69       381\n",
      "    weighted avg       0.70      0.69      0.69       381\n",
      "\n"
     ]
    },
    {
     "name": "stderr",
     "output_type": "stream",
     "text": [
      "Training Epochs:  12%|█▏        | 312/2500 [00:57<02:05, 17.48it/s]"
     ]
    },
    {
     "name": "stdout",
     "output_type": "stream",
     "text": [
      "Epoch 310/2500, Loss: 0.1186\n",
      "Test Accuracy at Epoch 310: 69.03%\n",
      "Test F1-score at Epoch 310: 0.6927\n",
      "Classification Report at Epoch 310:\n",
      "                  precision    recall  f1-score   support\n",
      "\n",
      "    infringement       0.71      0.67      0.69       195\n",
      "non_infringement       0.67      0.72      0.69       186\n",
      "\n",
      "        accuracy                           0.69       381\n",
      "       macro avg       0.69      0.69      0.69       381\n",
      "    weighted avg       0.69      0.69      0.69       381\n",
      "\n"
     ]
    },
    {
     "name": "stderr",
     "output_type": "stream",
     "text": [
      "Training Epochs:  13%|█▎        | 318/2500 [00:58<02:09, 16.81it/s]"
     ]
    },
    {
     "name": "stdout",
     "output_type": "stream",
     "text": [
      "Epoch 320/2500, Loss: 1.1872\n",
      "Test Accuracy at Epoch 320: 69.82%\n",
      "Test F1-score at Epoch 320: 0.7103\n",
      "Classification Report at Epoch 320:\n",
      "                  precision    recall  f1-score   support\n",
      "\n",
      "    infringement       0.74      0.64      0.68       195\n",
      "non_infringement       0.67      0.76      0.71       186\n",
      "\n",
      "        accuracy                           0.70       381\n",
      "       macro avg       0.70      0.70      0.70       381\n",
      "    weighted avg       0.70      0.70      0.70       381\n",
      "\n"
     ]
    },
    {
     "name": "stderr",
     "output_type": "stream",
     "text": [
      "Training Epochs:  13%|█▎        | 331/2500 [01:02<05:51,  6.18it/s]"
     ]
    },
    {
     "name": "stdout",
     "output_type": "stream",
     "text": [
      "Epoch 330/2500, Loss: 0.1924\n",
      "Test Accuracy at Epoch 330: 70.08%\n",
      "Test F1-score at Epoch 330: 0.6902\n",
      "Classification Report at Epoch 330:\n",
      "                  precision    recall  f1-score   support\n",
      "\n",
      "    infringement       0.70      0.72      0.71       195\n",
      "non_infringement       0.70      0.68      0.69       186\n",
      "\n",
      "        accuracy                           0.70       381\n",
      "       macro avg       0.70      0.70      0.70       381\n",
      "    weighted avg       0.70      0.70      0.70       381\n",
      "\n"
     ]
    },
    {
     "name": "stderr",
     "output_type": "stream",
     "text": [
      "Training Epochs:  14%|█▎        | 340/2500 [01:04<11:05,  3.24it/s]"
     ]
    },
    {
     "name": "stdout",
     "output_type": "stream",
     "text": [
      "Epoch 340/2500, Loss: 0.2091\n",
      "Test Accuracy at Epoch 340: 69.29%\n",
      "Test F1-score at Epoch 340: 0.6992\n",
      "Classification Report at Epoch 340:\n",
      "                  precision    recall  f1-score   support\n",
      "\n",
      "    infringement       0.72      0.66      0.69       195\n",
      "non_infringement       0.67      0.73      0.70       186\n",
      "\n",
      "        accuracy                           0.69       381\n",
      "       macro avg       0.69      0.69      0.69       381\n",
      "    weighted avg       0.70      0.69      0.69       381\n",
      "\n"
     ]
    },
    {
     "name": "stderr",
     "output_type": "stream",
     "text": [
      "Training Epochs:  14%|█▍        | 351/2500 [01:07<07:23,  4.84it/s]"
     ]
    },
    {
     "name": "stdout",
     "output_type": "stream",
     "text": [
      "Epoch 350/2500, Loss: 0.1745\n",
      "Test Accuracy at Epoch 350: 69.82%\n",
      "Test F1-score at Epoch 350: 0.7132\n",
      "Classification Report at Epoch 350:\n",
      "                  precision    recall  f1-score   support\n",
      "\n",
      "    infringement       0.74      0.63      0.68       195\n",
      "non_infringement       0.67      0.77      0.71       186\n",
      "\n",
      "        accuracy                           0.70       381\n",
      "       macro avg       0.70      0.70      0.70       381\n",
      "    weighted avg       0.70      0.70      0.70       381\n",
      "\n"
     ]
    },
    {
     "name": "stderr",
     "output_type": "stream",
     "text": [
      "Training Epochs:  15%|█▍        | 363/2500 [01:08<01:50, 19.33it/s]"
     ]
    },
    {
     "name": "stdout",
     "output_type": "stream",
     "text": [
      "Epoch 360/2500, Loss: 0.1502\n",
      "Test Accuracy at Epoch 360: 68.50%\n",
      "Test F1-score at Epoch 360: 0.6939\n",
      "Classification Report at Epoch 360:\n",
      "                  precision    recall  f1-score   support\n",
      "\n",
      "    infringement       0.71      0.64      0.68       195\n",
      "non_infringement       0.66      0.73      0.69       186\n",
      "\n",
      "        accuracy                           0.69       381\n",
      "       macro avg       0.69      0.69      0.68       381\n",
      "    weighted avg       0.69      0.69      0.68       381\n",
      "\n"
     ]
    },
    {
     "name": "stderr",
     "output_type": "stream",
     "text": [
      "Training Epochs:  15%|█▍        | 369/2500 [01:09<06:21,  5.58it/s]"
     ]
    },
    {
     "name": "stdout",
     "output_type": "stream",
     "text": [
      "Epoch 370/2500, Loss: 0.1338\n",
      "Test Accuracy at Epoch 370: 69.03%\n",
      "Test F1-score at Epoch 370: 0.6943\n",
      "Classification Report at Epoch 370:\n",
      "                  precision    recall  f1-score   support\n",
      "\n",
      "    infringement       0.71      0.66      0.69       195\n",
      "non_infringement       0.67      0.72      0.69       186\n",
      "\n",
      "        accuracy                           0.69       381\n",
      "       macro avg       0.69      0.69      0.69       381\n",
      "    weighted avg       0.69      0.69      0.69       381\n",
      "\n"
     ]
    },
    {
     "name": "stderr",
     "output_type": "stream",
     "text": [
      "Training Epochs:  15%|█▌        | 384/2500 [01:12<03:18, 10.66it/s]"
     ]
    },
    {
     "name": "stdout",
     "output_type": "stream",
     "text": [
      "Epoch 380/2500, Loss: 0.1288\n",
      "Test Accuracy at Epoch 380: 69.03%\n",
      "Test F1-score at Epoch 380: 0.6959\n",
      "Classification Report at Epoch 380:\n",
      "                  precision    recall  f1-score   support\n",
      "\n",
      "    infringement       0.72      0.66      0.68       195\n",
      "non_infringement       0.67      0.73      0.70       186\n",
      "\n",
      "        accuracy                           0.69       381\n",
      "       macro avg       0.69      0.69      0.69       381\n",
      "    weighted avg       0.69      0.69      0.69       381\n",
      "\n"
     ]
    },
    {
     "name": "stderr",
     "output_type": "stream",
     "text": [
      "Training Epochs:  16%|█▌        | 392/2500 [01:12<01:51, 18.98it/s]"
     ]
    },
    {
     "name": "stdout",
     "output_type": "stream",
     "text": [
      "Epoch 390/2500, Loss: 0.1243\n",
      "Test Accuracy at Epoch 390: 68.77%\n",
      "Test F1-score at Epoch 390: 0.6941\n",
      "Classification Report at Epoch 390:\n",
      "                  precision    recall  f1-score   support\n",
      "\n",
      "    infringement       0.71      0.65      0.68       195\n",
      "non_infringement       0.67      0.73      0.69       186\n",
      "\n",
      "        accuracy                           0.69       381\n",
      "       macro avg       0.69      0.69      0.69       381\n",
      "    weighted avg       0.69      0.69      0.69       381\n",
      "\n"
     ]
    },
    {
     "name": "stderr",
     "output_type": "stream",
     "text": [
      "Training Epochs:  16%|█▌        | 400/2500 [01:13<01:35, 22.02it/s]"
     ]
    },
    {
     "name": "stdout",
     "output_type": "stream",
     "text": [
      "Epoch 400/2500, Loss: 0.1213\n",
      "Test Accuracy at Epoch 400: 68.77%\n",
      "Test F1-score at Epoch 400: 0.6941\n",
      "Classification Report at Epoch 400:\n",
      "                  precision    recall  f1-score   support\n",
      "\n",
      "    infringement       0.71      0.65      0.68       195\n",
      "non_infringement       0.67      0.73      0.69       186\n",
      "\n",
      "        accuracy                           0.69       381\n",
      "       macro avg       0.69      0.69      0.69       381\n",
      "    weighted avg       0.69      0.69      0.69       381\n",
      "\n"
     ]
    },
    {
     "name": "stderr",
     "output_type": "stream",
     "text": [
      "Training Epochs:  16%|█▋        | 409/2500 [01:14<04:43,  7.39it/s]"
     ]
    },
    {
     "name": "stdout",
     "output_type": "stream",
     "text": [
      "Epoch 410/2500, Loss: 0.1189\n",
      "Test Accuracy at Epoch 410: 67.98%\n",
      "Test F1-score at Epoch 410: 0.6904\n",
      "Classification Report at Epoch 410:\n",
      "                  precision    recall  f1-score   support\n",
      "\n",
      "    infringement       0.71      0.63      0.67       195\n",
      "non_infringement       0.65      0.73      0.69       186\n",
      "\n",
      "        accuracy                           0.68       381\n",
      "       macro avg       0.68      0.68      0.68       381\n",
      "    weighted avg       0.68      0.68      0.68       381\n",
      "\n"
     ]
    },
    {
     "name": "stderr",
     "output_type": "stream",
     "text": [
      "Training Epochs:  17%|█▋        | 421/2500 [01:18<07:17,  4.75it/s]"
     ]
    },
    {
     "name": "stdout",
     "output_type": "stream",
     "text": [
      "Epoch 420/2500, Loss: 0.1170\n",
      "Test Accuracy at Epoch 420: 68.77%\n",
      "Test F1-score at Epoch 420: 0.6957\n",
      "Classification Report at Epoch 420:\n",
      "                  precision    recall  f1-score   support\n",
      "\n",
      "    infringement       0.72      0.65      0.68       195\n",
      "non_infringement       0.66      0.73      0.70       186\n",
      "\n",
      "        accuracy                           0.69       381\n",
      "       macro avg       0.69      0.69      0.69       381\n",
      "    weighted avg       0.69      0.69      0.69       381\n",
      "\n"
     ]
    },
    {
     "name": "stderr",
     "output_type": "stream",
     "text": [
      "Training Epochs:  17%|█▋        | 432/2500 [01:19<02:37, 13.17it/s]"
     ]
    },
    {
     "name": "stdout",
     "output_type": "stream",
     "text": [
      "Epoch 430/2500, Loss: 0.1154\n",
      "Test Accuracy at Epoch 430: 67.98%\n",
      "Test F1-score at Epoch 430: 0.6904\n",
      "Classification Report at Epoch 430:\n",
      "                  precision    recall  f1-score   support\n",
      "\n",
      "    infringement       0.71      0.63      0.67       195\n",
      "non_infringement       0.65      0.73      0.69       186\n",
      "\n",
      "        accuracy                           0.68       381\n",
      "       macro avg       0.68      0.68      0.68       381\n",
      "    weighted avg       0.68      0.68      0.68       381\n",
      "\n"
     ]
    },
    {
     "name": "stderr",
     "output_type": "stream",
     "text": [
      "Training Epochs:  18%|█▊        | 440/2500 [01:22<12:11,  2.82it/s]"
     ]
    },
    {
     "name": "stdout",
     "output_type": "stream",
     "text": [
      "Epoch 440/2500, Loss: 0.1142\n",
      "Test Accuracy at Epoch 440: 67.98%\n",
      "Test F1-score at Epoch 440: 0.6904\n",
      "Classification Report at Epoch 440:\n",
      "                  precision    recall  f1-score   support\n",
      "\n",
      "    infringement       0.71      0.63      0.67       195\n",
      "non_infringement       0.65      0.73      0.69       186\n",
      "\n",
      "        accuracy                           0.68       381\n",
      "       macro avg       0.68      0.68      0.68       381\n",
      "    weighted avg       0.68      0.68      0.68       381\n",
      "\n"
     ]
    },
    {
     "name": "stderr",
     "output_type": "stream",
     "text": [
      "Training Epochs:  18%|█▊        | 450/2500 [01:24<08:30,  4.01it/s]"
     ]
    },
    {
     "name": "stdout",
     "output_type": "stream",
     "text": [
      "Epoch 450/2500, Loss: 0.1131\n",
      "Test Accuracy at Epoch 450: 67.98%\n",
      "Test F1-score at Epoch 450: 0.6904\n",
      "Classification Report at Epoch 450:\n",
      "                  precision    recall  f1-score   support\n",
      "\n",
      "    infringement       0.71      0.63      0.67       195\n",
      "non_infringement       0.65      0.73      0.69       186\n",
      "\n",
      "        accuracy                           0.68       381\n",
      "       macro avg       0.68      0.68      0.68       381\n",
      "    weighted avg       0.68      0.68      0.68       381\n",
      "\n"
     ]
    },
    {
     "name": "stderr",
     "output_type": "stream",
     "text": [
      "Training Epochs:  18%|█▊        | 460/2500 [01:26<09:40,  3.52it/s]"
     ]
    },
    {
     "name": "stdout",
     "output_type": "stream",
     "text": [
      "Epoch 460/2500, Loss: 0.1122\n",
      "Test Accuracy at Epoch 460: 67.98%\n",
      "Test F1-score at Epoch 460: 0.6904\n",
      "Classification Report at Epoch 460:\n",
      "                  precision    recall  f1-score   support\n",
      "\n",
      "    infringement       0.71      0.63      0.67       195\n",
      "non_infringement       0.65      0.73      0.69       186\n",
      "\n",
      "        accuracy                           0.68       381\n",
      "       macro avg       0.68      0.68      0.68       381\n",
      "    weighted avg       0.68      0.68      0.68       381\n",
      "\n"
     ]
    },
    {
     "name": "stderr",
     "output_type": "stream",
     "text": [
      "Training Epochs:  19%|█▉        | 471/2500 [01:29<07:14,  4.67it/s]"
     ]
    },
    {
     "name": "stdout",
     "output_type": "stream",
     "text": [
      "Epoch 470/2500, Loss: 0.1113\n",
      "Test Accuracy at Epoch 470: 68.24%\n",
      "Test F1-score at Epoch 470: 0.6937\n",
      "Classification Report at Epoch 470:\n",
      "                  precision    recall  f1-score   support\n",
      "\n",
      "    infringement       0.72      0.63      0.67       195\n",
      "non_infringement       0.66      0.74      0.69       186\n",
      "\n",
      "        accuracy                           0.68       381\n",
      "       macro avg       0.69      0.68      0.68       381\n",
      "    weighted avg       0.69      0.68      0.68       381\n",
      "\n"
     ]
    },
    {
     "name": "stderr",
     "output_type": "stream",
     "text": [
      "Training Epochs:  19%|█▉        | 479/2500 [01:29<02:49, 11.95it/s]"
     ]
    },
    {
     "name": "stdout",
     "output_type": "stream",
     "text": [
      "Epoch 480/2500, Loss: 0.1106\n",
      "Test Accuracy at Epoch 480: 68.24%\n",
      "Test F1-score at Epoch 480: 0.6937\n",
      "Classification Report at Epoch 480:\n",
      "                  precision    recall  f1-score   support\n",
      "\n",
      "    infringement       0.72      0.63      0.67       195\n",
      "non_infringement       0.66      0.74      0.69       186\n",
      "\n",
      "        accuracy                           0.68       381\n",
      "       macro avg       0.69      0.68      0.68       381\n",
      "    weighted avg       0.69      0.68      0.68       381\n",
      "\n"
     ]
    },
    {
     "name": "stderr",
     "output_type": "stream",
     "text": [
      "Training Epochs:  20%|█▉        | 490/2500 [01:33<07:42,  4.34it/s]"
     ]
    },
    {
     "name": "stdout",
     "output_type": "stream",
     "text": [
      "Epoch 490/2500, Loss: 0.1100\n",
      "Test Accuracy at Epoch 490: 68.24%\n",
      "Test F1-score at Epoch 490: 0.6937\n",
      "Classification Report at Epoch 490:\n",
      "                  precision    recall  f1-score   support\n",
      "\n",
      "    infringement       0.72      0.63      0.67       195\n",
      "non_infringement       0.66      0.74      0.69       186\n",
      "\n",
      "        accuracy                           0.68       381\n",
      "       macro avg       0.69      0.68      0.68       381\n",
      "    weighted avg       0.69      0.68      0.68       381\n",
      "\n"
     ]
    },
    {
     "name": "stderr",
     "output_type": "stream",
     "text": [
      "Training Epochs:  20%|██        | 501/2500 [01:34<02:46, 12.03it/s]"
     ]
    },
    {
     "name": "stdout",
     "output_type": "stream",
     "text": [
      "Epoch 500/2500, Loss: 0.1094\n",
      "Test Accuracy at Epoch 500: 68.24%\n",
      "Test F1-score at Epoch 500: 0.6937\n",
      "Classification Report at Epoch 500:\n",
      "                  precision    recall  f1-score   support\n",
      "\n",
      "    infringement       0.72      0.63      0.67       195\n",
      "non_infringement       0.66      0.74      0.69       186\n",
      "\n",
      "        accuracy                           0.68       381\n",
      "       macro avg       0.69      0.68      0.68       381\n",
      "    weighted avg       0.69      0.68      0.68       381\n",
      "\n"
     ]
    },
    {
     "name": "stderr",
     "output_type": "stream",
     "text": [
      "Training Epochs:  20%|██        | 512/2500 [01:35<04:14,  7.81it/s]"
     ]
    },
    {
     "name": "stdout",
     "output_type": "stream",
     "text": [
      "Epoch 510/2500, Loss: 0.1088\n",
      "Test Accuracy at Epoch 510: 68.24%\n",
      "Test F1-score at Epoch 510: 0.6937\n",
      "Classification Report at Epoch 510:\n",
      "                  precision    recall  f1-score   support\n",
      "\n",
      "    infringement       0.72      0.63      0.67       195\n",
      "non_infringement       0.66      0.74      0.69       186\n",
      "\n",
      "        accuracy                           0.68       381\n",
      "       macro avg       0.69      0.68      0.68       381\n",
      "    weighted avg       0.69      0.68      0.68       381\n",
      "\n"
     ]
    },
    {
     "name": "stderr",
     "output_type": "stream",
     "text": [
      "Training Epochs:  21%|██        | 520/2500 [01:38<11:31,  2.86it/s]"
     ]
    },
    {
     "name": "stdout",
     "output_type": "stream",
     "text": [
      "Epoch 520/2500, Loss: 0.1083\n",
      "Test Accuracy at Epoch 520: 68.24%\n",
      "Test F1-score at Epoch 520: 0.6937\n",
      "Classification Report at Epoch 520:\n",
      "                  precision    recall  f1-score   support\n",
      "\n",
      "    infringement       0.72      0.63      0.67       195\n",
      "non_infringement       0.66      0.74      0.69       186\n",
      "\n",
      "        accuracy                           0.68       381\n",
      "       macro avg       0.69      0.68      0.68       381\n",
      "    weighted avg       0.69      0.68      0.68       381\n",
      "\n"
     ]
    },
    {
     "name": "stderr",
     "output_type": "stream",
     "text": [
      "Training Epochs:  21%|██▏       | 532/2500 [01:41<04:14,  7.72it/s]"
     ]
    },
    {
     "name": "stdout",
     "output_type": "stream",
     "text": [
      "Epoch 530/2500, Loss: 0.1079\n",
      "Test Accuracy at Epoch 530: 68.24%\n",
      "Test F1-score at Epoch 530: 0.6937\n",
      "Classification Report at Epoch 530:\n",
      "                  precision    recall  f1-score   support\n",
      "\n",
      "    infringement       0.72      0.63      0.67       195\n",
      "non_infringement       0.66      0.74      0.69       186\n",
      "\n",
      "        accuracy                           0.68       381\n",
      "       macro avg       0.69      0.68      0.68       381\n",
      "    weighted avg       0.69      0.68      0.68       381\n",
      "\n"
     ]
    },
    {
     "name": "stderr",
     "output_type": "stream",
     "text": [
      "Training Epochs:  22%|██▏       | 541/2500 [01:41<02:24, 13.55it/s]"
     ]
    },
    {
     "name": "stdout",
     "output_type": "stream",
     "text": [
      "Epoch 540/2500, Loss: 0.1075\n",
      "Test Accuracy at Epoch 540: 68.24%\n",
      "Test F1-score at Epoch 540: 0.6937\n",
      "Classification Report at Epoch 540:\n",
      "                  precision    recall  f1-score   support\n",
      "\n",
      "    infringement       0.72      0.63      0.67       195\n",
      "non_infringement       0.66      0.74      0.69       186\n",
      "\n",
      "        accuracy                           0.68       381\n",
      "       macro avg       0.69      0.68      0.68       381\n",
      "    weighted avg       0.69      0.68      0.68       381\n",
      "\n"
     ]
    },
    {
     "name": "stderr",
     "output_type": "stream",
     "text": [
      "Training Epochs:  22%|██▏       | 550/2500 [01:44<07:31,  4.32it/s]"
     ]
    },
    {
     "name": "stdout",
     "output_type": "stream",
     "text": [
      "Epoch 550/2500, Loss: 0.1071\n",
      "Test Accuracy at Epoch 550: 68.24%\n",
      "Test F1-score at Epoch 550: 0.6937\n",
      "Classification Report at Epoch 550:\n",
      "                  precision    recall  f1-score   support\n",
      "\n",
      "    infringement       0.72      0.63      0.67       195\n",
      "non_infringement       0.66      0.74      0.69       186\n",
      "\n",
      "        accuracy                           0.68       381\n",
      "       macro avg       0.69      0.68      0.68       381\n",
      "    weighted avg       0.69      0.68      0.68       381\n",
      "\n"
     ]
    },
    {
     "name": "stderr",
     "output_type": "stream",
     "text": [
      "Training Epochs:  22%|██▏       | 561/2500 [01:46<07:20,  4.40it/s]"
     ]
    },
    {
     "name": "stdout",
     "output_type": "stream",
     "text": [
      "Epoch 560/2500, Loss: 0.1067\n",
      "Test Accuracy at Epoch 560: 68.24%\n",
      "Test F1-score at Epoch 560: 0.6937\n",
      "Classification Report at Epoch 560:\n",
      "                  precision    recall  f1-score   support\n",
      "\n",
      "    infringement       0.72      0.63      0.67       195\n",
      "non_infringement       0.66      0.74      0.69       186\n",
      "\n",
      "        accuracy                           0.68       381\n",
      "       macro avg       0.69      0.68      0.68       381\n",
      "    weighted avg       0.69      0.68      0.68       381\n",
      "\n"
     ]
    },
    {
     "name": "stderr",
     "output_type": "stream",
     "text": [
      "Training Epochs:  23%|██▎       | 570/2500 [01:48<08:38,  3.72it/s]"
     ]
    },
    {
     "name": "stdout",
     "output_type": "stream",
     "text": [
      "Epoch 570/2500, Loss: 0.1086\n",
      "Test Accuracy at Epoch 570: 69.82%\n",
      "Test F1-score at Epoch 570: 0.7160\n",
      "Classification Report at Epoch 570:\n",
      "                  precision    recall  f1-score   support\n",
      "\n",
      "    infringement       0.75      0.62      0.68       195\n",
      "non_infringement       0.66      0.78      0.72       186\n",
      "\n",
      "        accuracy                           0.70       381\n",
      "       macro avg       0.70      0.70      0.70       381\n",
      "    weighted avg       0.71      0.70      0.70       381\n",
      "\n"
     ]
    },
    {
     "name": "stderr",
     "output_type": "stream",
     "text": [
      "Training Epochs:  23%|██▎       | 581/2500 [01:52<05:25,  5.89it/s]"
     ]
    },
    {
     "name": "stdout",
     "output_type": "stream",
     "text": [
      "Epoch 580/2500, Loss: 0.1734\n",
      "Test Accuracy at Epoch 580: 69.82%\n",
      "Test F1-score at Epoch 580: 0.7044\n",
      "Classification Report at Epoch 580:\n",
      "                  precision    recall  f1-score   support\n",
      "\n",
      "    infringement       0.72      0.66      0.69       195\n",
      "non_infringement       0.67      0.74      0.70       186\n",
      "\n",
      "        accuracy                           0.70       381\n",
      "       macro avg       0.70      0.70      0.70       381\n",
      "    weighted avg       0.70      0.70      0.70       381\n",
      "\n"
     ]
    },
    {
     "name": "stderr",
     "output_type": "stream",
     "text": [
      "Training Epochs:  24%|██▎       | 593/2500 [01:52<01:57, 16.25it/s]"
     ]
    },
    {
     "name": "stdout",
     "output_type": "stream",
     "text": [
      "Epoch 590/2500, Loss: 0.1137\n",
      "Test Accuracy at Epoch 590: 66.67%\n",
      "Test F1-score at Epoch 590: 0.6684\n",
      "Classification Report at Epoch 590:\n",
      "                  precision    recall  f1-score   support\n",
      "\n",
      "    infringement       0.68      0.65      0.66       195\n",
      "non_infringement       0.65      0.69      0.67       186\n",
      "\n",
      "        accuracy                           0.67       381\n",
      "       macro avg       0.67      0.67      0.67       381\n",
      "    weighted avg       0.67      0.67      0.67       381\n",
      "\n"
     ]
    },
    {
     "name": "stderr",
     "output_type": "stream",
     "text": [
      "Training Epochs:  24%|██▍       | 602/2500 [01:53<01:13, 25.66it/s]"
     ]
    },
    {
     "name": "stdout",
     "output_type": "stream",
     "text": [
      "Epoch 600/2500, Loss: 0.1092\n",
      "Test Accuracy at Epoch 600: 69.82%\n",
      "Test F1-score at Epoch 600: 0.7146\n",
      "Classification Report at Epoch 600:\n",
      "                  precision    recall  f1-score   support\n",
      "\n",
      "    infringement       0.74      0.63      0.68       195\n",
      "non_infringement       0.66      0.77      0.71       186\n",
      "\n",
      "        accuracy                           0.70       381\n",
      "       macro avg       0.70      0.70      0.70       381\n",
      "    weighted avg       0.70      0.70      0.70       381\n",
      "\n"
     ]
    },
    {
     "name": "stderr",
     "output_type": "stream",
     "text": [
      "Training Epochs:  24%|██▍       | 610/2500 [01:54<04:23,  7.18it/s]"
     ]
    },
    {
     "name": "stdout",
     "output_type": "stream",
     "text": [
      "Epoch 610/2500, Loss: 0.1084\n",
      "Test Accuracy at Epoch 610: 69.03%\n",
      "Test F1-score at Epoch 610: 0.6943\n",
      "Classification Report at Epoch 610:\n",
      "                  precision    recall  f1-score   support\n",
      "\n",
      "    infringement       0.71      0.66      0.69       195\n",
      "non_infringement       0.67      0.72      0.69       186\n",
      "\n",
      "        accuracy                           0.69       381\n",
      "       macro avg       0.69      0.69      0.69       381\n",
      "    weighted avg       0.69      0.69      0.69       381\n",
      "\n"
     ]
    },
    {
     "name": "stderr",
     "output_type": "stream",
     "text": [
      "Training Epochs:  25%|██▍       | 620/2500 [01:57<05:43,  5.47it/s]"
     ]
    },
    {
     "name": "stdout",
     "output_type": "stream",
     "text": [
      "Epoch 620/2500, Loss: 0.1072\n",
      "Test Accuracy at Epoch 620: 69.03%\n",
      "Test F1-score at Epoch 620: 0.7050\n",
      "Classification Report at Epoch 620:\n",
      "                  precision    recall  f1-score   support\n",
      "\n",
      "    infringement       0.73      0.63      0.67       195\n",
      "non_infringement       0.66      0.76      0.70       186\n",
      "\n",
      "        accuracy                           0.69       381\n",
      "       macro avg       0.69      0.69      0.69       381\n",
      "    weighted avg       0.70      0.69      0.69       381\n",
      "\n"
     ]
    },
    {
     "name": "stderr",
     "output_type": "stream",
     "text": [
      "Training Epochs:  25%|██▌       | 629/2500 [01:58<03:55,  7.96it/s]"
     ]
    },
    {
     "name": "stdout",
     "output_type": "stream",
     "text": [
      "Epoch 630/2500, Loss: 0.1064\n",
      "Test Accuracy at Epoch 630: 68.50%\n",
      "Test F1-score at Epoch 630: 0.6954\n",
      "Classification Report at Epoch 630:\n",
      "                  precision    recall  f1-score   support\n",
      "\n",
      "    infringement       0.72      0.64      0.67       195\n",
      "non_infringement       0.66      0.74      0.70       186\n",
      "\n",
      "        accuracy                           0.69       381\n",
      "       macro avg       0.69      0.69      0.68       381\n",
      "    weighted avg       0.69      0.69      0.68       381\n",
      "\n"
     ]
    },
    {
     "name": "stderr",
     "output_type": "stream",
     "text": [
      "Training Epochs:  26%|██▌       | 639/2500 [01:59<03:02, 10.18it/s]"
     ]
    },
    {
     "name": "stdout",
     "output_type": "stream",
     "text": [
      "Epoch 640/2500, Loss: 0.1060\n",
      "Test Accuracy at Epoch 640: 69.03%\n",
      "Test F1-score at Epoch 640: 0.7020\n",
      "Classification Report at Epoch 640:\n",
      "                  precision    recall  f1-score   support\n",
      "\n",
      "    infringement       0.73      0.64      0.68       195\n",
      "non_infringement       0.66      0.75      0.70       186\n",
      "\n",
      "        accuracy                           0.69       381\n",
      "       macro avg       0.69      0.69      0.69       381\n",
      "    weighted avg       0.69      0.69      0.69       381\n",
      "\n"
     ]
    },
    {
     "name": "stderr",
     "output_type": "stream",
     "text": [
      "Training Epochs:  26%|██▌       | 652/2500 [02:03<05:00,  6.15it/s]"
     ]
    },
    {
     "name": "stdout",
     "output_type": "stream",
     "text": [
      "Epoch 650/2500, Loss: 0.1055\n",
      "Test Accuracy at Epoch 650: 69.03%\n",
      "Test F1-score at Epoch 650: 0.7035\n",
      "Classification Report at Epoch 650:\n",
      "                  precision    recall  f1-score   support\n",
      "\n",
      "    infringement       0.73      0.63      0.68       195\n",
      "non_infringement       0.66      0.75      0.70       186\n",
      "\n",
      "        accuracy                           0.69       381\n",
      "       macro avg       0.69      0.69      0.69       381\n",
      "    weighted avg       0.69      0.69      0.69       381\n",
      "\n"
     ]
    },
    {
     "name": "stderr",
     "output_type": "stream",
     "text": [
      "Training Epochs:  27%|██▋       | 664/2500 [02:03<01:44, 17.49it/s]"
     ]
    },
    {
     "name": "stdout",
     "output_type": "stream",
     "text": [
      "Epoch 660/2500, Loss: 0.1052\n",
      "Test Accuracy at Epoch 660: 69.03%\n",
      "Test F1-score at Epoch 660: 0.7035\n",
      "Classification Report at Epoch 660:\n",
      "                  precision    recall  f1-score   support\n",
      "\n",
      "    infringement       0.73      0.63      0.68       195\n",
      "non_infringement       0.66      0.75      0.70       186\n",
      "\n",
      "        accuracy                           0.69       381\n",
      "       macro avg       0.69      0.69      0.69       381\n",
      "    weighted avg       0.69      0.69      0.69       381\n",
      "\n"
     ]
    },
    {
     "name": "stderr",
     "output_type": "stream",
     "text": [
      "Training Epochs:  27%|██▋       | 678/2500 [02:04<00:58, 31.40it/s]"
     ]
    },
    {
     "name": "stdout",
     "output_type": "stream",
     "text": [
      "Epoch 670/2500, Loss: 0.1049\n",
      "Test Accuracy at Epoch 670: 69.55%\n",
      "Test F1-score at Epoch 670: 0.7071\n",
      "Classification Report at Epoch 670:\n",
      "                  precision    recall  f1-score   support\n",
      "\n",
      "    infringement       0.73      0.64      0.68       195\n",
      "non_infringement       0.67      0.75      0.71       186\n",
      "\n",
      "        accuracy                           0.70       381\n",
      "       macro avg       0.70      0.70      0.70       381\n",
      "    weighted avg       0.70      0.70      0.69       381\n",
      "\n",
      "Epoch 680/2500, Loss: 0.1047\n",
      "Test Accuracy at Epoch 680: 69.29%\n",
      "Test F1-score at Epoch 680: 0.7068\n",
      "Classification Report at Epoch 680:\n",
      "                  precision    recall  f1-score   support\n",
      "\n",
      "    infringement       0.73      0.63      0.68       195\n",
      "non_infringement       0.66      0.76      0.71       186\n",
      "\n",
      "        accuracy                           0.69       381\n",
      "       macro avg       0.70      0.69      0.69       381\n",
      "    weighted avg       0.70      0.69      0.69       381\n",
      "\n"
     ]
    },
    {
     "name": "stderr",
     "output_type": "stream",
     "text": [
      "Training Epochs:  28%|██▊       | 691/2500 [02:07<06:33,  4.60it/s]"
     ]
    },
    {
     "name": "stdout",
     "output_type": "stream",
     "text": [
      "Epoch 690/2500, Loss: 0.1046\n",
      "Test Accuracy at Epoch 690: 69.29%\n",
      "Test F1-score at Epoch 690: 0.7097\n",
      "Classification Report at Epoch 690:\n",
      "                  precision    recall  f1-score   support\n",
      "\n",
      "    infringement       0.74      0.62      0.67       195\n",
      "non_infringement       0.66      0.77      0.71       186\n",
      "\n",
      "        accuracy                           0.69       381\n",
      "       macro avg       0.70      0.69      0.69       381\n",
      "    weighted avg       0.70      0.69      0.69       381\n",
      "\n"
     ]
    },
    {
     "name": "stderr",
     "output_type": "stream",
     "text": [
      "Training Epochs:  28%|██▊       | 700/2500 [02:09<03:52,  7.74it/s]"
     ]
    },
    {
     "name": "stdout",
     "output_type": "stream",
     "text": [
      "Epoch 700/2500, Loss: 0.1097\n",
      "Test Accuracy at Epoch 700: 69.29%\n",
      "Test F1-score at Epoch 700: 0.7068\n",
      "Classification Report at Epoch 700:\n",
      "                  precision    recall  f1-score   support\n",
      "\n",
      "    infringement       0.73      0.63      0.68       195\n",
      "non_infringement       0.66      0.76      0.71       186\n",
      "\n",
      "        accuracy                           0.69       381\n",
      "       macro avg       0.70      0.69      0.69       381\n",
      "    weighted avg       0.70      0.69      0.69       381\n",
      "\n"
     ]
    },
    {
     "name": "stderr",
     "output_type": "stream",
     "text": [
      "Training Epochs:  28%|██▊       | 711/2500 [02:10<03:18,  9.00it/s]"
     ]
    },
    {
     "name": "stdout",
     "output_type": "stream",
     "text": [
      "Epoch 710/2500, Loss: 0.1177\n",
      "Test Accuracy at Epoch 710: 69.82%\n",
      "Test F1-score at Epoch 710: 0.7160\n",
      "Classification Report at Epoch 710:\n",
      "                  precision    recall  f1-score   support\n",
      "\n",
      "    infringement       0.75      0.62      0.68       195\n",
      "non_infringement       0.66      0.78      0.72       186\n",
      "\n",
      "        accuracy                           0.70       381\n",
      "       macro avg       0.70      0.70      0.70       381\n",
      "    weighted avg       0.71      0.70      0.70       381\n",
      "\n"
     ]
    },
    {
     "name": "stderr",
     "output_type": "stream",
     "text": [
      "Training Epochs:  29%|██▉       | 722/2500 [02:12<04:28,  6.63it/s]"
     ]
    },
    {
     "name": "stdout",
     "output_type": "stream",
     "text": [
      "Epoch 720/2500, Loss: 0.1131\n",
      "Test Accuracy at Epoch 720: 70.34%\n",
      "Test F1-score at Epoch 720: 0.7224\n",
      "Classification Report at Epoch 720:\n",
      "                  precision    recall  f1-score   support\n",
      "\n",
      "    infringement       0.76      0.62      0.68       195\n",
      "non_infringement       0.67      0.79      0.72       186\n",
      "\n",
      "        accuracy                           0.70       381\n",
      "       macro avg       0.71      0.71      0.70       381\n",
      "    weighted avg       0.71      0.70      0.70       381\n",
      "\n"
     ]
    },
    {
     "name": "stderr",
     "output_type": "stream",
     "text": [
      "Training Epochs:  29%|██▉       | 730/2500 [02:13<03:46,  7.82it/s]"
     ]
    },
    {
     "name": "stdout",
     "output_type": "stream",
     "text": [
      "Epoch 730/2500, Loss: 0.1049\n",
      "Test Accuracy at Epoch 730: 70.08%\n",
      "Test F1-score at Epoch 730: 0.7192\n",
      "Classification Report at Epoch 730:\n",
      "                  precision    recall  f1-score   support\n",
      "\n",
      "    infringement       0.75      0.62      0.68       195\n",
      "non_infringement       0.66      0.78      0.72       186\n",
      "\n",
      "        accuracy                           0.70       381\n",
      "       macro avg       0.71      0.70      0.70       381\n",
      "    weighted avg       0.71      0.70      0.70       381\n",
      "\n"
     ]
    },
    {
     "name": "stderr",
     "output_type": "stream",
     "text": [
      "Training Epochs:  30%|██▉       | 745/2500 [02:16<02:27, 11.89it/s]"
     ]
    },
    {
     "name": "stdout",
     "output_type": "stream",
     "text": [
      "Epoch 740/2500, Loss: 0.1061\n",
      "Test Accuracy at Epoch 740: 70.34%\n",
      "Test F1-score at Epoch 740: 0.7154\n",
      "Classification Report at Epoch 740:\n",
      "                  precision    recall  f1-score   support\n",
      "\n",
      "    infringement       0.74      0.65      0.69       195\n",
      "non_infringement       0.67      0.76      0.72       186\n",
      "\n",
      "        accuracy                           0.70       381\n",
      "       macro avg       0.71      0.70      0.70       381\n",
      "    weighted avg       0.71      0.70      0.70       381\n",
      "\n"
     ]
    },
    {
     "name": "stderr",
     "output_type": "stream",
     "text": [
      "Training Epochs:  30%|███       | 761/2500 [02:16<00:59, 29.22it/s]"
     ]
    },
    {
     "name": "stdout",
     "output_type": "stream",
     "text": [
      "Epoch 750/2500, Loss: 0.1068\n",
      "Test Accuracy at Epoch 750: 70.34%\n",
      "Test F1-score at Epoch 750: 0.7095\n",
      "Classification Report at Epoch 750:\n",
      "                  precision    recall  f1-score   support\n",
      "\n",
      "    infringement       0.73      0.67      0.70       195\n",
      "non_infringement       0.68      0.74      0.71       186\n",
      "\n",
      "        accuracy                           0.70       381\n",
      "       macro avg       0.71      0.70      0.70       381\n",
      "    weighted avg       0.71      0.70      0.70       381\n",
      "\n",
      "Epoch 760/2500, Loss: 0.1052\n",
      "Test Accuracy at Epoch 760: 69.55%\n",
      "Test F1-score at Epoch 760: 0.7129\n",
      "Classification Report at Epoch 760:\n",
      "                  precision    recall  f1-score   support\n",
      "\n",
      "    infringement       0.74      0.62      0.68       195\n",
      "non_infringement       0.66      0.77      0.71       186\n",
      "\n",
      "        accuracy                           0.70       381\n",
      "       macro avg       0.70      0.70      0.69       381\n",
      "    weighted avg       0.70      0.70      0.69       381\n",
      "\n"
     ]
    },
    {
     "name": "stderr",
     "output_type": "stream",
     "text": [
      "Training Epochs:  31%|███       | 769/2500 [02:19<05:40,  5.08it/s]"
     ]
    },
    {
     "name": "stdout",
     "output_type": "stream",
     "text": [
      "Epoch 770/2500, Loss: 0.1059\n",
      "Test Accuracy at Epoch 770: 70.87%\n",
      "Test F1-score at Epoch 770: 0.7161\n",
      "Classification Report at Epoch 770:\n",
      "                  precision    recall  f1-score   support\n",
      "\n",
      "    infringement       0.74      0.67      0.70       195\n",
      "non_infringement       0.68      0.75      0.72       186\n",
      "\n",
      "        accuracy                           0.71       381\n",
      "       macro avg       0.71      0.71      0.71       381\n",
      "    weighted avg       0.71      0.71      0.71       381\n",
      "\n"
     ]
    },
    {
     "name": "stderr",
     "output_type": "stream",
     "text": [
      "Training Epochs:  31%|███       | 780/2500 [02:21<04:57,  5.79it/s]"
     ]
    },
    {
     "name": "stdout",
     "output_type": "stream",
     "text": [
      "Epoch 780/2500, Loss: 0.1054\n",
      "Test Accuracy at Epoch 780: 70.87%\n",
      "Test F1-score at Epoch 780: 0.7176\n",
      "Classification Report at Epoch 780:\n",
      "                  precision    recall  f1-score   support\n",
      "\n",
      "    infringement       0.74      0.66      0.70       195\n",
      "non_infringement       0.68      0.76      0.72       186\n",
      "\n",
      "        accuracy                           0.71       381\n",
      "       macro avg       0.71      0.71      0.71       381\n",
      "    weighted avg       0.71      0.71      0.71       381\n",
      "\n"
     ]
    },
    {
     "name": "stderr",
     "output_type": "stream",
     "text": [
      "Training Epochs:  32%|███▏      | 790/2500 [02:22<03:10,  8.97it/s]"
     ]
    },
    {
     "name": "stdout",
     "output_type": "stream",
     "text": [
      "Epoch 790/2500, Loss: 0.1151\n",
      "Test Accuracy at Epoch 790: 69.55%\n",
      "Test F1-score at Epoch 790: 0.6995\n",
      "Classification Report at Epoch 790:\n",
      "                  precision    recall  f1-score   support\n",
      "\n",
      "    infringement       0.72      0.67      0.69       195\n",
      "non_infringement       0.68      0.73      0.70       186\n",
      "\n",
      "        accuracy                           0.70       381\n",
      "       macro avg       0.70      0.70      0.70       381\n",
      "    weighted avg       0.70      0.70      0.70       381\n",
      "\n"
     ]
    },
    {
     "name": "stderr",
     "output_type": "stream",
     "text": [
      "Training Epochs:  32%|███▏      | 800/2500 [02:25<09:11,  3.08it/s]"
     ]
    },
    {
     "name": "stdout",
     "output_type": "stream",
     "text": [
      "Epoch 800/2500, Loss: 0.1116\n",
      "Test Accuracy at Epoch 800: 70.34%\n",
      "Test F1-score at Epoch 800: 0.7224\n",
      "Classification Report at Epoch 800:\n",
      "                  precision    recall  f1-score   support\n",
      "\n",
      "    infringement       0.76      0.62      0.68       195\n",
      "non_infringement       0.67      0.79      0.72       186\n",
      "\n",
      "        accuracy                           0.70       381\n",
      "       macro avg       0.71      0.71      0.70       381\n",
      "    weighted avg       0.71      0.70      0.70       381\n",
      "\n"
     ]
    },
    {
     "name": "stderr",
     "output_type": "stream",
     "text": [
      "Training Epochs:  32%|███▏      | 810/2500 [02:27<04:43,  5.97it/s]"
     ]
    },
    {
     "name": "stdout",
     "output_type": "stream",
     "text": [
      "Epoch 810/2500, Loss: 0.1062\n",
      "Test Accuracy at Epoch 810: 70.60%\n",
      "Test F1-score at Epoch 810: 0.7128\n",
      "Classification Report at Epoch 810:\n",
      "                  precision    recall  f1-score   support\n",
      "\n",
      "    infringement       0.73      0.67      0.70       195\n",
      "non_infringement       0.68      0.75      0.71       186\n",
      "\n",
      "        accuracy                           0.71       381\n",
      "       macro avg       0.71      0.71      0.71       381\n",
      "    weighted avg       0.71      0.71      0.71       381\n",
      "\n"
     ]
    },
    {
     "name": "stderr",
     "output_type": "stream",
     "text": [
      "Training Epochs:  33%|███▎      | 820/2500 [02:29<06:53,  4.06it/s]"
     ]
    },
    {
     "name": "stdout",
     "output_type": "stream",
     "text": [
      "Epoch 820/2500, Loss: 0.1040\n",
      "Test Accuracy at Epoch 820: 70.34%\n",
      "Test F1-score at Epoch 820: 0.7224\n",
      "Classification Report at Epoch 820:\n",
      "                  precision    recall  f1-score   support\n",
      "\n",
      "    infringement       0.76      0.62      0.68       195\n",
      "non_infringement       0.67      0.79      0.72       186\n",
      "\n",
      "        accuracy                           0.70       381\n",
      "       macro avg       0.71      0.71      0.70       381\n",
      "    weighted avg       0.71      0.70      0.70       381\n",
      "\n"
     ]
    },
    {
     "name": "stderr",
     "output_type": "stream",
     "text": [
      "Training Epochs:  33%|███▎      | 831/2500 [02:32<04:32,  6.13it/s]"
     ]
    },
    {
     "name": "stdout",
     "output_type": "stream",
     "text": [
      "Epoch 830/2500, Loss: 0.1030\n",
      "Test Accuracy at Epoch 830: 69.82%\n",
      "Test F1-score at Epoch 830: 0.7132\n",
      "Classification Report at Epoch 830:\n",
      "                  precision    recall  f1-score   support\n",
      "\n",
      "    infringement       0.74      0.63      0.68       195\n",
      "non_infringement       0.67      0.77      0.71       186\n",
      "\n",
      "        accuracy                           0.70       381\n",
      "       macro avg       0.70      0.70      0.70       381\n",
      "    weighted avg       0.70      0.70      0.70       381\n",
      "\n"
     ]
    },
    {
     "name": "stderr",
     "output_type": "stream",
     "text": [
      "Training Epochs:  34%|███▎      | 841/2500 [02:34<03:56,  7.01it/s]"
     ]
    },
    {
     "name": "stdout",
     "output_type": "stream",
     "text": [
      "Epoch 840/2500, Loss: 0.1124\n",
      "Test Accuracy at Epoch 840: 70.60%\n",
      "Test F1-score at Epoch 840: 0.7128\n",
      "Classification Report at Epoch 840:\n",
      "                  precision    recall  f1-score   support\n",
      "\n",
      "    infringement       0.73      0.67      0.70       195\n",
      "non_infringement       0.68      0.75      0.71       186\n",
      "\n",
      "        accuracy                           0.71       381\n",
      "       macro avg       0.71      0.71      0.71       381\n",
      "    weighted avg       0.71      0.71      0.71       381\n",
      "\n"
     ]
    },
    {
     "name": "stderr",
     "output_type": "stream",
     "text": [
      "Training Epochs:  34%|███▍      | 851/2500 [02:35<03:23,  8.09it/s]"
     ]
    },
    {
     "name": "stdout",
     "output_type": "stream",
     "text": [
      "Epoch 850/2500, Loss: 0.1083\n",
      "Test Accuracy at Epoch 850: 70.34%\n",
      "Test F1-score at Epoch 850: 0.7224\n",
      "Classification Report at Epoch 850:\n",
      "                  precision    recall  f1-score   support\n",
      "\n",
      "    infringement       0.76      0.62      0.68       195\n",
      "non_infringement       0.67      0.79      0.72       186\n",
      "\n",
      "        accuracy                           0.70       381\n",
      "       macro avg       0.71      0.71      0.70       381\n",
      "    weighted avg       0.71      0.70      0.70       381\n",
      "\n"
     ]
    },
    {
     "name": "stderr",
     "output_type": "stream",
     "text": [
      "Training Epochs:  35%|███▍      | 863/2500 [02:39<04:34,  5.95it/s]"
     ]
    },
    {
     "name": "stdout",
     "output_type": "stream",
     "text": [
      "Epoch 860/2500, Loss: 0.1072\n",
      "Test Accuracy at Epoch 860: 70.60%\n",
      "Test F1-score at Epoch 860: 0.7128\n",
      "Classification Report at Epoch 860:\n",
      "                  precision    recall  f1-score   support\n",
      "\n",
      "    infringement       0.73      0.67      0.70       195\n",
      "non_infringement       0.68      0.75      0.71       186\n",
      "\n",
      "        accuracy                           0.71       381\n",
      "       macro avg       0.71      0.71      0.71       381\n",
      "    weighted avg       0.71      0.71      0.71       381\n",
      "\n"
     ]
    },
    {
     "name": "stderr",
     "output_type": "stream",
     "text": [
      "Training Epochs:  35%|███▌      | 876/2500 [02:39<01:16, 21.14it/s]"
     ]
    },
    {
     "name": "stdout",
     "output_type": "stream",
     "text": [
      "Epoch 870/2500, Loss: 0.1052\n",
      "Test Accuracy at Epoch 870: 70.34%\n",
      "Test F1-score at Epoch 870: 0.7224\n",
      "Classification Report at Epoch 870:\n",
      "                  precision    recall  f1-score   support\n",
      "\n",
      "    infringement       0.76      0.62      0.68       195\n",
      "non_infringement       0.67      0.79      0.72       186\n",
      "\n",
      "        accuracy                           0.70       381\n",
      "       macro avg       0.71      0.71      0.70       381\n",
      "    weighted avg       0.71      0.70      0.70       381\n",
      "\n",
      "Epoch 880/2500, Loss: 0.1026\n",
      "Test Accuracy at Epoch 880: 70.08%\n",
      "Test F1-score at Epoch 880: 0.7136\n",
      "Classification Report at Epoch 880:\n",
      "                  precision    recall  f1-score   support\n",
      "\n",
      "    infringement       0.74      0.64      0.69       195\n",
      "non_infringement       0.67      0.76      0.71       186\n",
      "\n",
      "        accuracy                           0.70       381\n",
      "       macro avg       0.70      0.70      0.70       381\n",
      "    weighted avg       0.71      0.70      0.70       381\n",
      "\n"
     ]
    },
    {
     "name": "stderr",
     "output_type": "stream",
     "text": [
      "Training Epochs:  36%|███▌      | 889/2500 [02:41<03:58,  6.76it/s]"
     ]
    },
    {
     "name": "stdout",
     "output_type": "stream",
     "text": [
      "Epoch 890/2500, Loss: 0.1084\n",
      "Test Accuracy at Epoch 890: 70.08%\n",
      "Test F1-score at Epoch 890: 0.7136\n",
      "Classification Report at Epoch 890:\n",
      "                  precision    recall  f1-score   support\n",
      "\n",
      "    infringement       0.74      0.64      0.69       195\n",
      "non_infringement       0.67      0.76      0.71       186\n",
      "\n",
      "        accuracy                           0.70       381\n",
      "       macro avg       0.70      0.70      0.70       381\n",
      "    weighted avg       0.71      0.70      0.70       381\n",
      "\n"
     ]
    },
    {
     "name": "stderr",
     "output_type": "stream",
     "text": [
      "Training Epochs:  36%|███▌      | 901/2500 [02:43<03:43,  7.15it/s]"
     ]
    },
    {
     "name": "stdout",
     "output_type": "stream",
     "text": [
      "Epoch 900/2500, Loss: 0.1054\n",
      "Test Accuracy at Epoch 900: 70.08%\n",
      "Test F1-score at Epoch 900: 0.7192\n",
      "Classification Report at Epoch 900:\n",
      "                  precision    recall  f1-score   support\n",
      "\n",
      "    infringement       0.75      0.62      0.68       195\n",
      "non_infringement       0.66      0.78      0.72       186\n",
      "\n",
      "        accuracy                           0.70       381\n",
      "       macro avg       0.71      0.70      0.70       381\n",
      "    weighted avg       0.71      0.70      0.70       381\n",
      "\n"
     ]
    },
    {
     "name": "stderr",
     "output_type": "stream",
     "text": [
      "Training Epochs:  37%|███▋      | 915/2500 [02:45<02:09, 12.28it/s]"
     ]
    },
    {
     "name": "stdout",
     "output_type": "stream",
     "text": [
      "Epoch 910/2500, Loss: 0.1094\n",
      "Test Accuracy at Epoch 910: 70.60%\n",
      "Test F1-score at Epoch 910: 0.7128\n",
      "Classification Report at Epoch 910:\n",
      "                  precision    recall  f1-score   support\n",
      "\n",
      "    infringement       0.73      0.67      0.70       195\n",
      "non_infringement       0.68      0.75      0.71       186\n",
      "\n",
      "        accuracy                           0.71       381\n",
      "       macro avg       0.71      0.71      0.71       381\n",
      "    weighted avg       0.71      0.71      0.71       381\n",
      "\n"
     ]
    },
    {
     "name": "stderr",
     "output_type": "stream",
     "text": [
      "Training Epochs:  37%|███▋      | 920/2500 [02:46<04:49,  5.45it/s]"
     ]
    },
    {
     "name": "stdout",
     "output_type": "stream",
     "text": [
      "Epoch 920/2500, Loss: 0.1071\n",
      "Test Accuracy at Epoch 920: 70.34%\n",
      "Test F1-score at Epoch 920: 0.7224\n",
      "Classification Report at Epoch 920:\n",
      "                  precision    recall  f1-score   support\n",
      "\n",
      "    infringement       0.76      0.62      0.68       195\n",
      "non_infringement       0.67      0.79      0.72       186\n",
      "\n",
      "        accuracy                           0.70       381\n",
      "       macro avg       0.71      0.71      0.70       381\n",
      "    weighted avg       0.71      0.70      0.70       381\n",
      "\n"
     ]
    },
    {
     "name": "stderr",
     "output_type": "stream",
     "text": [
      "Training Epochs:  37%|███▋      | 932/2500 [02:50<05:53,  4.43it/s]"
     ]
    },
    {
     "name": "stdout",
     "output_type": "stream",
     "text": [
      "Epoch 930/2500, Loss: 0.1029\n",
      "Test Accuracy at Epoch 930: 70.08%\n",
      "Test F1-score at Epoch 930: 0.7136\n",
      "Classification Report at Epoch 930:\n",
      "                  precision    recall  f1-score   support\n",
      "\n",
      "    infringement       0.74      0.64      0.69       195\n",
      "non_infringement       0.67      0.76      0.71       186\n",
      "\n",
      "        accuracy                           0.70       381\n",
      "       macro avg       0.70      0.70      0.70       381\n",
      "    weighted avg       0.71      0.70      0.70       381\n",
      "\n"
     ]
    },
    {
     "name": "stderr",
     "output_type": "stream",
     "text": [
      "Training Epochs:  38%|███▊      | 945/2500 [02:50<01:24, 18.45it/s]"
     ]
    },
    {
     "name": "stdout",
     "output_type": "stream",
     "text": [
      "Epoch 940/2500, Loss: 0.1032\n",
      "Test Accuracy at Epoch 940: 70.60%\n",
      "Test F1-score at Epoch 940: 0.7228\n",
      "Classification Report at Epoch 940:\n",
      "                  precision    recall  f1-score   support\n",
      "\n",
      "    infringement       0.75      0.63      0.69       195\n",
      "non_infringement       0.67      0.78      0.72       186\n",
      "\n",
      "        accuracy                           0.71       381\n",
      "       macro avg       0.71      0.71      0.70       381\n",
      "    weighted avg       0.71      0.71      0.70       381\n",
      "\n"
     ]
    },
    {
     "name": "stderr",
     "output_type": "stream",
     "text": [
      "Training Epochs:  38%|███▊      | 950/2500 [02:51<01:02, 24.83it/s]"
     ]
    },
    {
     "name": "stdout",
     "output_type": "stream",
     "text": [
      "Epoch 950/2500, Loss: 0.1031\n",
      "Test Accuracy at Epoch 950: 70.08%\n",
      "Test F1-score at Epoch 950: 0.7192\n",
      "Classification Report at Epoch 950:\n",
      "                  precision    recall  f1-score   support\n",
      "\n",
      "    infringement       0.75      0.62      0.68       195\n",
      "non_infringement       0.66      0.78      0.72       186\n",
      "\n",
      "        accuracy                           0.70       381\n",
      "       macro avg       0.71      0.70      0.70       381\n",
      "    weighted avg       0.71      0.70      0.70       381\n",
      "\n"
     ]
    },
    {
     "name": "stderr",
     "output_type": "stream",
     "text": [
      "Training Epochs:  38%|███▊      | 961/2500 [02:52<02:50,  9.05it/s]"
     ]
    },
    {
     "name": "stdout",
     "output_type": "stream",
     "text": [
      "Epoch 960/2500, Loss: 0.1120\n",
      "Test Accuracy at Epoch 960: 70.34%\n",
      "Test F1-score at Epoch 960: 0.7095\n",
      "Classification Report at Epoch 960:\n",
      "                  precision    recall  f1-score   support\n",
      "\n",
      "    infringement       0.73      0.67      0.70       195\n",
      "non_infringement       0.68      0.74      0.71       186\n",
      "\n",
      "        accuracy                           0.70       381\n",
      "       macro avg       0.71      0.70      0.70       381\n",
      "    weighted avg       0.71      0.70      0.70       381\n",
      "\n"
     ]
    },
    {
     "name": "stderr",
     "output_type": "stream",
     "text": [
      "Training Epochs:  39%|███▉      | 971/2500 [02:54<03:39,  6.96it/s]"
     ]
    },
    {
     "name": "stdout",
     "output_type": "stream",
     "text": [
      "Epoch 970/2500, Loss: 0.1075\n",
      "Test Accuracy at Epoch 970: 70.34%\n",
      "Test F1-score at Epoch 970: 0.7224\n",
      "Classification Report at Epoch 970:\n",
      "                  precision    recall  f1-score   support\n",
      "\n",
      "    infringement       0.76      0.62      0.68       195\n",
      "non_infringement       0.67      0.79      0.72       186\n",
      "\n",
      "        accuracy                           0.70       381\n",
      "       macro avg       0.71      0.71      0.70       381\n",
      "    weighted avg       0.71      0.70      0.70       381\n",
      "\n"
     ]
    },
    {
     "name": "stderr",
     "output_type": "stream",
     "text": [
      "Training Epochs:  39%|███▉      | 986/2500 [02:55<01:15, 20.12it/s]"
     ]
    },
    {
     "name": "stdout",
     "output_type": "stream",
     "text": [
      "Epoch 980/2500, Loss: 0.1039\n",
      "Test Accuracy at Epoch 980: 70.08%\n",
      "Test F1-score at Epoch 980: 0.7092\n",
      "Classification Report at Epoch 980:\n",
      "                  precision    recall  f1-score   support\n",
      "\n",
      "    infringement       0.73      0.66      0.69       195\n",
      "non_infringement       0.67      0.75      0.71       186\n",
      "\n",
      "        accuracy                           0.70       381\n",
      "       macro avg       0.70      0.70      0.70       381\n",
      "    weighted avg       0.70      0.70      0.70       381\n",
      "\n"
     ]
    },
    {
     "name": "stderr",
     "output_type": "stream",
     "text": [
      "Training Epochs:  40%|███▉      | 996/2500 [02:55<00:48, 30.94it/s]"
     ]
    },
    {
     "name": "stdout",
     "output_type": "stream",
     "text": [
      "Epoch 990/2500, Loss: 0.1021\n",
      "Test Accuracy at Epoch 990: 70.08%\n",
      "Test F1-score at Epoch 990: 0.7192\n",
      "Classification Report at Epoch 990:\n",
      "                  precision    recall  f1-score   support\n",
      "\n",
      "    infringement       0.75      0.62      0.68       195\n",
      "non_infringement       0.66      0.78      0.72       186\n",
      "\n",
      "        accuracy                           0.70       381\n",
      "       macro avg       0.71      0.70      0.70       381\n",
      "    weighted avg       0.71      0.70      0.70       381\n",
      "\n"
     ]
    },
    {
     "name": "stderr",
     "output_type": "stream",
     "text": [
      "Training Epochs:  40%|████      | 1009/2500 [02:55<00:34, 43.68it/s]"
     ]
    },
    {
     "name": "stdout",
     "output_type": "stream",
     "text": [
      "Epoch 1000/2500, Loss: 0.1017\n",
      "Test Accuracy at Epoch 1000: 71.13%\n",
      "Test F1-score at Epoch 1000: 0.7264\n",
      "Classification Report at Epoch 1000:\n",
      "                  precision    recall  f1-score   support\n",
      "\n",
      "    infringement       0.76      0.64      0.69       195\n",
      "non_infringement       0.68      0.78      0.73       186\n",
      "\n",
      "        accuracy                           0.71       381\n",
      "       macro avg       0.72      0.71      0.71       381\n",
      "    weighted avg       0.72      0.71      0.71       381\n",
      "\n"
     ]
    },
    {
     "name": "stderr",
     "output_type": "stream",
     "text": [
      "Training Epochs:  41%|████      | 1014/2500 [02:55<00:35, 41.36it/s]"
     ]
    },
    {
     "name": "stdout",
     "output_type": "stream",
     "text": [
      "Epoch 1010/2500, Loss: 0.1106\n",
      "Test Accuracy at Epoch 1010: 70.08%\n",
      "Test F1-score at Epoch 1010: 0.7092\n",
      "Classification Report at Epoch 1010:\n",
      "                  precision    recall  f1-score   support\n",
      "\n",
      "    infringement       0.73      0.66      0.69       195\n",
      "non_infringement       0.67      0.75      0.71       186\n",
      "\n",
      "        accuracy                           0.70       381\n",
      "       macro avg       0.70      0.70      0.70       381\n",
      "    weighted avg       0.70      0.70      0.70       381\n",
      "\n"
     ]
    },
    {
     "name": "stderr",
     "output_type": "stream",
     "text": [
      "Training Epochs:  41%|████      | 1024/2500 [02:56<00:44, 33.04it/s]"
     ]
    },
    {
     "name": "stdout",
     "output_type": "stream",
     "text": [
      "Epoch 1020/2500, Loss: 0.1060\n",
      "Test Accuracy at Epoch 1020: 70.34%\n",
      "Test F1-score at Epoch 1020: 0.7224\n",
      "Classification Report at Epoch 1020:\n",
      "                  precision    recall  f1-score   support\n",
      "\n",
      "    infringement       0.76      0.62      0.68       195\n",
      "non_infringement       0.67      0.79      0.72       186\n",
      "\n",
      "        accuracy                           0.70       381\n",
      "       macro avg       0.71      0.71      0.70       381\n",
      "    weighted avg       0.71      0.70      0.70       381\n",
      "\n"
     ]
    },
    {
     "name": "stderr",
     "output_type": "stream",
     "text": [
      "Training Epochs:  41%|████      | 1031/2500 [02:56<01:35, 15.37it/s]"
     ]
    },
    {
     "name": "stdout",
     "output_type": "stream",
     "text": [
      "Epoch 1030/2500, Loss: 0.1059\n",
      "Test Accuracy at Epoch 1030: 69.82%\n",
      "Test F1-score at Epoch 1030: 0.7059\n",
      "Classification Report at Epoch 1030:\n",
      "                  precision    recall  f1-score   support\n",
      "\n",
      "    infringement       0.73      0.66      0.69       195\n",
      "non_infringement       0.67      0.74      0.71       186\n",
      "\n",
      "        accuracy                           0.70       381\n",
      "       macro avg       0.70      0.70      0.70       381\n",
      "    weighted avg       0.70      0.70      0.70       381\n",
      "\n"
     ]
    },
    {
     "name": "stderr",
     "output_type": "stream",
     "text": [
      "Training Epochs:  42%|████▏     | 1039/2500 [02:58<03:05,  7.89it/s]"
     ]
    },
    {
     "name": "stdout",
     "output_type": "stream",
     "text": [
      "Epoch 1040/2500, Loss: 0.1042\n",
      "Test Accuracy at Epoch 1040: 70.34%\n",
      "Test F1-score at Epoch 1040: 0.7224\n",
      "Classification Report at Epoch 1040:\n",
      "                  precision    recall  f1-score   support\n",
      "\n",
      "    infringement       0.76      0.62      0.68       195\n",
      "non_infringement       0.67      0.79      0.72       186\n",
      "\n",
      "        accuracy                           0.70       381\n",
      "       macro avg       0.71      0.71      0.70       381\n",
      "    weighted avg       0.71      0.70      0.70       381\n",
      "\n"
     ]
    },
    {
     "name": "stderr",
     "output_type": "stream",
     "text": [
      "Training Epochs:  42%|████▏     | 1050/2500 [03:02<04:59,  4.85it/s]"
     ]
    },
    {
     "name": "stdout",
     "output_type": "stream",
     "text": [
      "Epoch 1050/2500, Loss: 0.1017\n",
      "Test Accuracy at Epoch 1050: 71.13%\n",
      "Test F1-score at Epoch 1050: 0.7264\n",
      "Classification Report at Epoch 1050:\n",
      "                  precision    recall  f1-score   support\n",
      "\n",
      "    infringement       0.76      0.64      0.69       195\n",
      "non_infringement       0.68      0.78      0.73       186\n",
      "\n",
      "        accuracy                           0.71       381\n",
      "       macro avg       0.72      0.71      0.71       381\n",
      "    weighted avg       0.72      0.71      0.71       381\n",
      "\n"
     ]
    },
    {
     "name": "stderr",
     "output_type": "stream",
     "text": [
      "Training Epochs:  42%|████▏     | 1060/2500 [03:03<02:17, 10.47it/s]"
     ]
    },
    {
     "name": "stdout",
     "output_type": "stream",
     "text": [
      "Epoch 1060/2500, Loss: 0.1044\n",
      "Test Accuracy at Epoch 1060: 71.13%\n",
      "Test F1-score at Epoch 1060: 0.7264\n",
      "Classification Report at Epoch 1060:\n",
      "                  precision    recall  f1-score   support\n",
      "\n",
      "    infringement       0.76      0.64      0.69       195\n",
      "non_infringement       0.68      0.78      0.73       186\n",
      "\n",
      "        accuracy                           0.71       381\n",
      "       macro avg       0.72      0.71      0.71       381\n",
      "    weighted avg       0.72      0.71      0.71       381\n",
      "\n"
     ]
    },
    {
     "name": "stderr",
     "output_type": "stream",
     "text": [
      "Training Epochs:  43%|████▎     | 1073/2500 [03:05<02:36,  9.14it/s]"
     ]
    },
    {
     "name": "stdout",
     "output_type": "stream",
     "text": [
      "Epoch 1070/2500, Loss: 0.1035\n",
      "Test Accuracy at Epoch 1070: 70.34%\n",
      "Test F1-score at Epoch 1070: 0.7210\n",
      "Classification Report at Epoch 1070:\n",
      "                  precision    recall  f1-score   support\n",
      "\n",
      "    infringement       0.75      0.63      0.68       195\n",
      "non_infringement       0.67      0.78      0.72       186\n",
      "\n",
      "        accuracy                           0.70       381\n",
      "       macro avg       0.71      0.71      0.70       381\n",
      "    weighted avg       0.71      0.70      0.70       381\n",
      "\n"
     ]
    },
    {
     "name": "stderr",
     "output_type": "stream",
     "text": [
      "Training Epochs:  43%|████▎     | 1085/2500 [03:05<01:01, 23.01it/s]"
     ]
    },
    {
     "name": "stdout",
     "output_type": "stream",
     "text": [
      "Epoch 1080/2500, Loss: 0.1089\n",
      "Test Accuracy at Epoch 1080: 69.55%\n",
      "Test F1-score at Epoch 1080: 0.7026\n",
      "Classification Report at Epoch 1080:\n",
      "                  precision    recall  f1-score   support\n",
      "\n",
      "    infringement       0.72      0.66      0.69       195\n",
      "non_infringement       0.67      0.74      0.70       186\n",
      "\n",
      "        accuracy                           0.70       381\n",
      "       macro avg       0.70      0.70      0.70       381\n",
      "    weighted avg       0.70      0.70      0.70       381\n",
      "\n"
     ]
    },
    {
     "name": "stderr",
     "output_type": "stream",
     "text": [
      "Training Epochs:  44%|████▎     | 1092/2500 [03:06<01:02, 22.50it/s]"
     ]
    },
    {
     "name": "stdout",
     "output_type": "stream",
     "text": [
      "Epoch 1090/2500, Loss: 0.1061\n",
      "Test Accuracy at Epoch 1090: 70.34%\n",
      "Test F1-score at Epoch 1090: 0.7224\n",
      "Classification Report at Epoch 1090:\n",
      "                  precision    recall  f1-score   support\n",
      "\n",
      "    infringement       0.76      0.62      0.68       195\n",
      "non_infringement       0.67      0.79      0.72       186\n",
      "\n",
      "        accuracy                           0.70       381\n",
      "       macro avg       0.71      0.71      0.70       381\n",
      "    weighted avg       0.71      0.70      0.70       381\n",
      "\n"
     ]
    },
    {
     "name": "stderr",
     "output_type": "stream",
     "text": [
      "Training Epochs:  44%|████▍     | 1103/2500 [03:07<01:27, 16.02it/s]"
     ]
    },
    {
     "name": "stdout",
     "output_type": "stream",
     "text": [
      "Epoch 1100/2500, Loss: 0.1027\n",
      "Test Accuracy at Epoch 1100: 70.08%\n",
      "Test F1-score at Epoch 1100: 0.7136\n",
      "Classification Report at Epoch 1100:\n",
      "                  precision    recall  f1-score   support\n",
      "\n",
      "    infringement       0.74      0.64      0.69       195\n",
      "non_infringement       0.67      0.76      0.71       186\n",
      "\n",
      "        accuracy                           0.70       381\n",
      "       macro avg       0.70      0.70      0.70       381\n",
      "    weighted avg       0.71      0.70      0.70       381\n",
      "\n"
     ]
    },
    {
     "name": "stderr",
     "output_type": "stream",
     "text": [
      "Training Epochs:  45%|████▍     | 1121/2500 [03:07<00:36, 37.70it/s]"
     ]
    },
    {
     "name": "stdout",
     "output_type": "stream",
     "text": [
      "Epoch 1110/2500, Loss: 0.1011\n",
      "Test Accuracy at Epoch 1110: 70.34%\n",
      "Test F1-score at Epoch 1110: 0.7210\n",
      "Classification Report at Epoch 1110:\n",
      "                  precision    recall  f1-score   support\n",
      "\n",
      "    infringement       0.75      0.63      0.68       195\n",
      "non_infringement       0.67      0.78      0.72       186\n",
      "\n",
      "        accuracy                           0.70       381\n",
      "       macro avg       0.71      0.71      0.70       381\n",
      "    weighted avg       0.71      0.70      0.70       381\n",
      "\n",
      "Epoch 1120/2500, Loss: 0.1013\n",
      "Test Accuracy at Epoch 1120: 70.34%\n",
      "Test F1-score at Epoch 1120: 0.7210\n",
      "Classification Report at Epoch 1120:\n",
      "                  precision    recall  f1-score   support\n",
      "\n",
      "    infringement       0.75      0.63      0.68       195\n",
      "non_infringement       0.67      0.78      0.72       186\n",
      "\n",
      "        accuracy                           0.70       381\n",
      "       macro avg       0.71      0.71      0.70       381\n",
      "    weighted avg       0.71      0.70      0.70       381\n",
      "\n"
     ]
    },
    {
     "name": "stderr",
     "output_type": "stream",
     "text": [
      "Training Epochs:  45%|████▌     | 1131/2500 [03:07<00:35, 38.17it/s]"
     ]
    },
    {
     "name": "stdout",
     "output_type": "stream",
     "text": [
      "Epoch 1130/2500, Loss: 0.1090\n",
      "Test Accuracy at Epoch 1130: 69.03%\n",
      "Test F1-score at Epoch 1130: 0.7005\n",
      "Classification Report at Epoch 1130:\n",
      "                  precision    recall  f1-score   support\n",
      "\n",
      "    infringement       0.72      0.64      0.68       195\n",
      "non_infringement       0.66      0.74      0.70       186\n",
      "\n",
      "        accuracy                           0.69       381\n",
      "       macro avg       0.69      0.69      0.69       381\n",
      "    weighted avg       0.69      0.69      0.69       381\n",
      "\n"
     ]
    },
    {
     "name": "stderr",
     "output_type": "stream",
     "text": [
      "Training Epochs:  46%|████▌     | 1140/2500 [03:10<03:40,  6.18it/s]"
     ]
    },
    {
     "name": "stdout",
     "output_type": "stream",
     "text": [
      "Epoch 1140/2500, Loss: 0.1055\n",
      "Test Accuracy at Epoch 1140: 70.08%\n",
      "Test F1-score at Epoch 1140: 0.7192\n",
      "Classification Report at Epoch 1140:\n",
      "                  precision    recall  f1-score   support\n",
      "\n",
      "    infringement       0.75      0.62      0.68       195\n",
      "non_infringement       0.66      0.78      0.72       186\n",
      "\n",
      "        accuracy                           0.70       381\n",
      "       macro avg       0.71      0.70      0.70       381\n",
      "    weighted avg       0.71      0.70      0.70       381\n",
      "\n"
     ]
    },
    {
     "name": "stderr",
     "output_type": "stream",
     "text": [
      "Training Epochs:  46%|████▌     | 1151/2500 [03:13<03:53,  5.78it/s]"
     ]
    },
    {
     "name": "stdout",
     "output_type": "stream",
     "text": [
      "Epoch 1150/2500, Loss: 0.1049\n",
      "Test Accuracy at Epoch 1150: 69.55%\n",
      "Test F1-score at Epoch 1150: 0.7071\n",
      "Classification Report at Epoch 1150:\n",
      "                  precision    recall  f1-score   support\n",
      "\n",
      "    infringement       0.73      0.64      0.68       195\n",
      "non_infringement       0.67      0.75      0.71       186\n",
      "\n",
      "        accuracy                           0.70       381\n",
      "       macro avg       0.70      0.70      0.70       381\n",
      "    weighted avg       0.70      0.70      0.69       381\n",
      "\n"
     ]
    },
    {
     "name": "stderr",
     "output_type": "stream",
     "text": [
      "Training Epochs:  46%|████▋     | 1160/2500 [03:14<05:04,  4.41it/s]"
     ]
    },
    {
     "name": "stdout",
     "output_type": "stream",
     "text": [
      "Epoch 1160/2500, Loss: 0.1030\n",
      "Test Accuracy at Epoch 1160: 70.34%\n",
      "Test F1-score at Epoch 1160: 0.7224\n",
      "Classification Report at Epoch 1160:\n",
      "                  precision    recall  f1-score   support\n",
      "\n",
      "    infringement       0.76      0.62      0.68       195\n",
      "non_infringement       0.67      0.79      0.72       186\n",
      "\n",
      "        accuracy                           0.70       381\n",
      "       macro avg       0.71      0.71      0.70       381\n",
      "    weighted avg       0.71      0.70      0.70       381\n",
      "\n"
     ]
    },
    {
     "name": "stderr",
     "output_type": "stream",
     "text": [
      "Training Epochs:  47%|████▋     | 1172/2500 [03:17<02:32,  8.72it/s]"
     ]
    },
    {
     "name": "stdout",
     "output_type": "stream",
     "text": [
      "Epoch 1170/2500, Loss: 0.1010\n",
      "Test Accuracy at Epoch 1170: 71.13%\n",
      "Test F1-score at Epoch 1170: 0.7264\n",
      "Classification Report at Epoch 1170:\n",
      "                  precision    recall  f1-score   support\n",
      "\n",
      "    infringement       0.76      0.64      0.69       195\n",
      "non_infringement       0.68      0.78      0.73       186\n",
      "\n",
      "        accuracy                           0.71       381\n",
      "       macro avg       0.72      0.71      0.71       381\n",
      "    weighted avg       0.72      0.71      0.71       381\n",
      "\n"
     ]
    },
    {
     "name": "stderr",
     "output_type": "stream",
     "text": [
      "Training Epochs:  47%|████▋     | 1184/2500 [03:17<00:56, 23.46it/s]"
     ]
    },
    {
     "name": "stdout",
     "output_type": "stream",
     "text": [
      "Epoch 1180/2500, Loss: 0.1029\n",
      "Test Accuracy at Epoch 1180: 71.13%\n",
      "Test F1-score at Epoch 1180: 0.7264\n",
      "Classification Report at Epoch 1180:\n",
      "                  precision    recall  f1-score   support\n",
      "\n",
      "    infringement       0.76      0.64      0.69       195\n",
      "non_infringement       0.68      0.78      0.73       186\n",
      "\n",
      "        accuracy                           0.71       381\n",
      "       macro avg       0.72      0.71      0.71       381\n",
      "    weighted avg       0.72      0.71      0.71       381\n",
      "\n",
      "Epoch 1190/2500, Loss: 0.1026\n",
      "Test Accuracy at Epoch 1190: 70.34%\n",
      "Test F1-score at Epoch 1190: 0.7210\n",
      "Classification Report at Epoch 1190:\n",
      "                  precision    recall  f1-score   support\n",
      "\n",
      "    infringement       0.75      0.63      0.68       195\n",
      "non_infringement       0.67      0.78      0.72       186\n",
      "\n",
      "        accuracy                           0.70       381\n",
      "       macro avg       0.71      0.71      0.70       381\n",
      "    weighted avg       0.71      0.70      0.70       381\n",
      "\n"
     ]
    },
    {
     "name": "stderr",
     "output_type": "stream",
     "text": [
      "Training Epochs:  48%|████▊     | 1202/2500 [03:18<01:40, 12.90it/s]"
     ]
    },
    {
     "name": "stdout",
     "output_type": "stream",
     "text": [
      "Epoch 1200/2500, Loss: 0.1077\n",
      "Test Accuracy at Epoch 1200: 69.55%\n",
      "Test F1-score at Epoch 1200: 0.7071\n",
      "Classification Report at Epoch 1200:\n",
      "                  precision    recall  f1-score   support\n",
      "\n",
      "    infringement       0.73      0.64      0.68       195\n",
      "non_infringement       0.67      0.75      0.71       186\n",
      "\n",
      "        accuracy                           0.70       381\n",
      "       macro avg       0.70      0.70      0.70       381\n",
      "    weighted avg       0.70      0.70      0.69       381\n",
      "\n"
     ]
    },
    {
     "name": "stderr",
     "output_type": "stream",
     "text": [
      "Training Epochs:  49%|████▊     | 1214/2500 [03:19<01:14, 17.21it/s]"
     ]
    },
    {
     "name": "stdout",
     "output_type": "stream",
     "text": [
      "Epoch 1210/2500, Loss: 0.1053\n",
      "Test Accuracy at Epoch 1210: 70.60%\n",
      "Test F1-score at Epoch 1210: 0.7255\n",
      "Classification Report at Epoch 1210:\n",
      "                  precision    recall  f1-score   support\n",
      "\n",
      "    infringement       0.76      0.62      0.68       195\n",
      "non_infringement       0.67      0.80      0.73       186\n",
      "\n",
      "        accuracy                           0.71       381\n",
      "       macro avg       0.71      0.71      0.70       381\n",
      "    weighted avg       0.71      0.71      0.70       381\n",
      "\n"
     ]
    },
    {
     "name": "stderr",
     "output_type": "stream",
     "text": [
      "Training Epochs:  49%|████▉     | 1225/2500 [03:19<00:47, 26.59it/s]"
     ]
    },
    {
     "name": "stdout",
     "output_type": "stream",
     "text": [
      "Epoch 1220/2500, Loss: 0.1026\n",
      "Test Accuracy at Epoch 1220: 70.08%\n",
      "Test F1-score at Epoch 1220: 0.7136\n",
      "Classification Report at Epoch 1220:\n",
      "                  precision    recall  f1-score   support\n",
      "\n",
      "    infringement       0.74      0.64      0.69       195\n",
      "non_infringement       0.67      0.76      0.71       186\n",
      "\n",
      "        accuracy                           0.70       381\n",
      "       macro avg       0.70      0.70      0.70       381\n",
      "    weighted avg       0.71      0.70      0.70       381\n",
      "\n"
     ]
    },
    {
     "name": "stderr",
     "output_type": "stream",
     "text": [
      "Training Epochs:  49%|████▉     | 1232/2500 [03:20<01:12, 17.49it/s]"
     ]
    },
    {
     "name": "stdout",
     "output_type": "stream",
     "text": [
      "Epoch 1230/2500, Loss: 0.1008\n",
      "Test Accuracy at Epoch 1230: 70.60%\n",
      "Test F1-score at Epoch 1230: 0.7241\n",
      "Classification Report at Epoch 1230:\n",
      "                  precision    recall  f1-score   support\n",
      "\n",
      "    infringement       0.76      0.63      0.69       195\n",
      "non_infringement       0.67      0.79      0.72       186\n",
      "\n",
      "        accuracy                           0.71       381\n",
      "       macro avg       0.71      0.71      0.70       381\n",
      "    weighted avg       0.71      0.71      0.70       381\n",
      "\n"
     ]
    },
    {
     "name": "stderr",
     "output_type": "stream",
     "text": [
      "Training Epochs:  50%|████▉     | 1240/2500 [03:22<03:59,  5.26it/s]"
     ]
    },
    {
     "name": "stdout",
     "output_type": "stream",
     "text": [
      "Epoch 1240/2500, Loss: 0.1004\n",
      "Test Accuracy at Epoch 1240: 71.39%\n",
      "Test F1-score at Epoch 1240: 0.7295\n",
      "Classification Report at Epoch 1240:\n",
      "                  precision    recall  f1-score   support\n",
      "\n",
      "    infringement       0.76      0.64      0.70       195\n",
      "non_infringement       0.68      0.79      0.73       186\n",
      "\n",
      "        accuracy                           0.71       381\n",
      "       macro avg       0.72      0.72      0.71       381\n",
      "    weighted avg       0.72      0.71      0.71       381\n",
      "\n"
     ]
    },
    {
     "name": "stderr",
     "output_type": "stream",
     "text": [
      "Training Epochs:  50%|█████     | 1252/2500 [03:25<02:47,  7.45it/s]"
     ]
    },
    {
     "name": "stdout",
     "output_type": "stream",
     "text": [
      "Epoch 1250/2500, Loss: 0.1056\n",
      "Test Accuracy at Epoch 1250: 70.60%\n",
      "Test F1-score at Epoch 1250: 0.7200\n",
      "Classification Report at Epoch 1250:\n",
      "                  precision    recall  f1-score   support\n",
      "\n",
      "    infringement       0.75      0.64      0.69       195\n",
      "non_infringement       0.67      0.77      0.72       186\n",
      "\n",
      "        accuracy                           0.71       381\n",
      "       macro avg       0.71      0.71      0.71       381\n",
      "    weighted avg       0.71      0.71      0.70       381\n",
      "\n"
     ]
    },
    {
     "name": "stderr",
     "output_type": "stream",
     "text": [
      "Training Epochs:  50%|█████     | 1260/2500 [03:25<01:54, 10.80it/s]"
     ]
    },
    {
     "name": "stdout",
     "output_type": "stream",
     "text": [
      "Epoch 1260/2500, Loss: 0.1039\n",
      "Test Accuracy at Epoch 1260: 70.60%\n",
      "Test F1-score at Epoch 1260: 0.7241\n",
      "Classification Report at Epoch 1260:\n",
      "                  precision    recall  f1-score   support\n",
      "\n",
      "    infringement       0.76      0.63      0.69       195\n",
      "non_infringement       0.67      0.79      0.72       186\n",
      "\n",
      "        accuracy                           0.71       381\n",
      "       macro avg       0.71      0.71      0.70       381\n",
      "    weighted avg       0.71      0.71      0.70       381\n",
      "\n"
     ]
    },
    {
     "name": "stderr",
     "output_type": "stream",
     "text": [
      "Training Epochs:  51%|█████     | 1270/2500 [03:26<01:52, 10.91it/s]"
     ]
    },
    {
     "name": "stdout",
     "output_type": "stream",
     "text": [
      "Epoch 1270/2500, Loss: 0.1055\n",
      "Test Accuracy at Epoch 1270: 70.08%\n",
      "Test F1-score at Epoch 1270: 0.7136\n",
      "Classification Report at Epoch 1270:\n",
      "                  precision    recall  f1-score   support\n",
      "\n",
      "    infringement       0.74      0.64      0.69       195\n",
      "non_infringement       0.67      0.76      0.71       186\n",
      "\n",
      "        accuracy                           0.70       381\n",
      "       macro avg       0.70      0.70      0.70       381\n",
      "    weighted avg       0.71      0.70      0.70       381\n",
      "\n"
     ]
    },
    {
     "name": "stderr",
     "output_type": "stream",
     "text": [
      "Training Epochs:  51%|█████     | 1280/2500 [03:30<06:42,  3.03it/s]"
     ]
    },
    {
     "name": "stdout",
     "output_type": "stream",
     "text": [
      "Epoch 1280/2500, Loss: 0.1039\n",
      "Test Accuracy at Epoch 1280: 70.87%\n",
      "Test F1-score at Epoch 1280: 0.7273\n",
      "Classification Report at Epoch 1280:\n",
      "                  precision    recall  f1-score   support\n",
      "\n",
      "    infringement       0.76      0.63      0.69       195\n",
      "non_infringement       0.67      0.80      0.73       186\n",
      "\n",
      "        accuracy                           0.71       381\n",
      "       macro avg       0.72      0.71      0.71       381\n",
      "    weighted avg       0.72      0.71      0.71       381\n",
      "\n"
     ]
    },
    {
     "name": "stderr",
     "output_type": "stream",
     "text": [
      "Training Epochs:  52%|█████▏    | 1292/2500 [03:31<01:36, 12.46it/s]"
     ]
    },
    {
     "name": "stdout",
     "output_type": "stream",
     "text": [
      "Epoch 1290/2500, Loss: 0.1013\n",
      "Test Accuracy at Epoch 1290: 70.87%\n",
      "Test F1-score at Epoch 1290: 0.7232\n",
      "Classification Report at Epoch 1290:\n",
      "                  precision    recall  f1-score   support\n",
      "\n",
      "    infringement       0.75      0.64      0.69       195\n",
      "non_infringement       0.67      0.78      0.72       186\n",
      "\n",
      "        accuracy                           0.71       381\n",
      "       macro avg       0.71      0.71      0.71       381\n",
      "    weighted avg       0.71      0.71      0.71       381\n",
      "\n"
     ]
    },
    {
     "name": "stderr",
     "output_type": "stream",
     "text": [
      "Training Epochs:  52%|█████▏    | 1303/2500 [03:32<00:59, 20.19it/s]"
     ]
    },
    {
     "name": "stdout",
     "output_type": "stream",
     "text": [
      "Epoch 1300/2500, Loss: 0.1002\n",
      "Test Accuracy at Epoch 1300: 70.60%\n",
      "Test F1-score at Epoch 1300: 0.7241\n",
      "Classification Report at Epoch 1300:\n",
      "                  precision    recall  f1-score   support\n",
      "\n",
      "    infringement       0.76      0.63      0.69       195\n",
      "non_infringement       0.67      0.79      0.72       186\n",
      "\n",
      "        accuracy                           0.71       381\n",
      "       macro avg       0.71      0.71      0.70       381\n",
      "    weighted avg       0.71      0.71      0.70       381\n",
      "\n"
     ]
    },
    {
     "name": "stderr",
     "output_type": "stream",
     "text": [
      "Training Epochs:  53%|█████▎    | 1314/2500 [03:32<00:47, 24.72it/s]"
     ]
    },
    {
     "name": "stdout",
     "output_type": "stream",
     "text": [
      "Epoch 1310/2500, Loss: 0.1002\n",
      "Test Accuracy at Epoch 1310: 70.87%\n",
      "Test F1-score at Epoch 1310: 0.7259\n",
      "Classification Report at Epoch 1310:\n",
      "                  precision    recall  f1-score   support\n",
      "\n",
      "    infringement       0.76      0.63      0.69       195\n",
      "non_infringement       0.67      0.79      0.73       186\n",
      "\n",
      "        accuracy                           0.71       381\n",
      "       macro avg       0.72      0.71      0.71       381\n",
      "    weighted avg       0.72      0.71      0.71       381\n",
      "\n"
     ]
    },
    {
     "name": "stderr",
     "output_type": "stream",
     "text": [
      "Training Epochs:  53%|█████▎    | 1324/2500 [03:32<00:34, 34.50it/s]"
     ]
    },
    {
     "name": "stdout",
     "output_type": "stream",
     "text": [
      "Epoch 1320/2500, Loss: 0.1062\n",
      "Test Accuracy at Epoch 1320: 70.87%\n",
      "Test F1-score at Epoch 1320: 0.7232\n",
      "Classification Report at Epoch 1320:\n",
      "                  precision    recall  f1-score   support\n",
      "\n",
      "    infringement       0.75      0.64      0.69       195\n",
      "non_infringement       0.67      0.78      0.72       186\n",
      "\n",
      "        accuracy                           0.71       381\n",
      "       macro avg       0.71      0.71      0.71       381\n",
      "    weighted avg       0.71      0.71      0.71       381\n",
      "\n",
      "Epoch 1330/2500, Loss: 0.1037\n"
     ]
    },
    {
     "name": "stderr",
     "output_type": "stream",
     "text": [
      "Training Epochs:  53%|█████▎    | 1335/2500 [03:32<00:29, 40.06it/s]"
     ]
    },
    {
     "name": "stdout",
     "output_type": "stream",
     "text": [
      "Test Accuracy at Epoch 1330: 70.60%\n",
      "Test F1-score at Epoch 1330: 0.7241\n",
      "Classification Report at Epoch 1330:\n",
      "                  precision    recall  f1-score   support\n",
      "\n",
      "    infringement       0.76      0.63      0.69       195\n",
      "non_infringement       0.67      0.79      0.72       186\n",
      "\n",
      "        accuracy                           0.71       381\n",
      "       macro avg       0.71      0.71      0.70       381\n",
      "    weighted avg       0.71      0.71      0.70       381\n",
      "\n"
     ]
    },
    {
     "name": "stderr",
     "output_type": "stream",
     "text": [
      "Training Epochs:  54%|█████▍    | 1347/2500 [03:33<00:24, 47.06it/s]"
     ]
    },
    {
     "name": "stdout",
     "output_type": "stream",
     "text": [
      "Epoch 1340/2500, Loss: 0.1044\n",
      "Test Accuracy at Epoch 1340: 70.34%\n",
      "Test F1-score at Epoch 1340: 0.7168\n",
      "Classification Report at Epoch 1340:\n",
      "                  precision    recall  f1-score   support\n",
      "\n",
      "    infringement       0.74      0.64      0.69       195\n",
      "non_infringement       0.67      0.77      0.72       186\n",
      "\n",
      "        accuracy                           0.70       381\n",
      "       macro avg       0.71      0.70      0.70       381\n",
      "    weighted avg       0.71      0.70      0.70       381\n",
      "\n"
     ]
    },
    {
     "name": "stderr",
     "output_type": "stream",
     "text": [
      "Training Epochs:  54%|█████▍    | 1352/2500 [03:33<00:28, 40.22it/s]"
     ]
    },
    {
     "name": "stdout",
     "output_type": "stream",
     "text": [
      "Epoch 1350/2500, Loss: 0.1033\n",
      "Test Accuracy at Epoch 1350: 70.87%\n",
      "Test F1-score at Epoch 1350: 0.7273\n",
      "Classification Report at Epoch 1350:\n",
      "                  precision    recall  f1-score   support\n",
      "\n",
      "    infringement       0.76      0.63      0.69       195\n",
      "non_infringement       0.67      0.80      0.73       186\n",
      "\n",
      "        accuracy                           0.71       381\n",
      "       macro avg       0.72      0.71      0.71       381\n",
      "    weighted avg       0.72      0.71      0.71       381\n",
      "\n"
     ]
    },
    {
     "name": "stderr",
     "output_type": "stream",
     "text": [
      "Training Epochs:  55%|█████▍    | 1365/2500 [03:33<00:43, 26.00it/s]"
     ]
    },
    {
     "name": "stdout",
     "output_type": "stream",
     "text": [
      "Epoch 1360/2500, Loss: 0.1010\n",
      "Test Accuracy at Epoch 1360: 70.87%\n",
      "Test F1-score at Epoch 1360: 0.7232\n",
      "Classification Report at Epoch 1360:\n",
      "                  precision    recall  f1-score   support\n",
      "\n",
      "    infringement       0.75      0.64      0.69       195\n",
      "non_infringement       0.67      0.78      0.72       186\n",
      "\n",
      "        accuracy                           0.71       381\n",
      "       macro avg       0.71      0.71      0.71       381\n",
      "    weighted avg       0.71      0.71      0.71       381\n",
      "\n"
     ]
    },
    {
     "name": "stderr",
     "output_type": "stream",
     "text": [
      "Training Epochs:  55%|█████▍    | 1372/2500 [03:34<00:52, 21.62it/s]"
     ]
    },
    {
     "name": "stdout",
     "output_type": "stream",
     "text": [
      "Epoch 1370/2500, Loss: 0.0999\n",
      "Test Accuracy at Epoch 1370: 70.60%\n",
      "Test F1-score at Epoch 1370: 0.7241\n",
      "Classification Report at Epoch 1370:\n",
      "                  precision    recall  f1-score   support\n",
      "\n",
      "    infringement       0.76      0.63      0.69       195\n",
      "non_infringement       0.67      0.79      0.72       186\n",
      "\n",
      "        accuracy                           0.71       381\n",
      "       macro avg       0.71      0.71      0.70       381\n",
      "    weighted avg       0.71      0.71      0.70       381\n",
      "\n"
     ]
    },
    {
     "name": "stderr",
     "output_type": "stream",
     "text": [
      "Training Epochs:  55%|█████▌    | 1381/2500 [03:35<01:57,  9.49it/s]"
     ]
    },
    {
     "name": "stdout",
     "output_type": "stream",
     "text": [
      "Epoch 1380/2500, Loss: 0.0998\n",
      "Test Accuracy at Epoch 1380: 71.13%\n",
      "Test F1-score at Epoch 1380: 0.7264\n",
      "Classification Report at Epoch 1380:\n",
      "                  precision    recall  f1-score   support\n",
      "\n",
      "    infringement       0.76      0.64      0.69       195\n",
      "non_infringement       0.68      0.78      0.73       186\n",
      "\n",
      "        accuracy                           0.71       381\n",
      "       macro avg       0.72      0.71      0.71       381\n",
      "    weighted avg       0.72      0.71      0.71       381\n",
      "\n"
     ]
    },
    {
     "name": "stderr",
     "output_type": "stream",
     "text": [
      "Training Epochs:  56%|█████▌    | 1398/2500 [03:35<00:41, 26.66it/s]"
     ]
    },
    {
     "name": "stdout",
     "output_type": "stream",
     "text": [
      "Epoch 1390/2500, Loss: 0.1050\n",
      "Test Accuracy at Epoch 1390: 70.87%\n",
      "Test F1-score at Epoch 1390: 0.7232\n",
      "Classification Report at Epoch 1390:\n",
      "                  precision    recall  f1-score   support\n",
      "\n",
      "    infringement       0.75      0.64      0.69       195\n",
      "non_infringement       0.67      0.78      0.72       186\n",
      "\n",
      "        accuracy                           0.71       381\n",
      "       macro avg       0.71      0.71      0.71       381\n",
      "    weighted avg       0.71      0.71      0.71       381\n",
      "\n",
      "Epoch 1400/2500, Loss: 0.1022\n",
      "Test Accuracy at Epoch 1400: 70.60%\n",
      "Test F1-score at Epoch 1400: 0.7241\n",
      "Classification Report at Epoch 1400:\n",
      "                  precision    recall  f1-score   support\n",
      "\n",
      "    infringement       0.76      0.63      0.69       195\n",
      "non_infringement       0.67      0.79      0.72       186\n",
      "\n",
      "        accuracy                           0.71       381\n",
      "       macro avg       0.71      0.71      0.70       381\n",
      "    weighted avg       0.71      0.71      0.70       381\n",
      "\n"
     ]
    },
    {
     "name": "stderr",
     "output_type": "stream",
     "text": [
      "Training Epochs:  57%|█████▋    | 1414/2500 [03:36<00:35, 30.91it/s]"
     ]
    },
    {
     "name": "stdout",
     "output_type": "stream",
     "text": [
      "Epoch 1410/2500, Loss: 0.1049\n",
      "Test Accuracy at Epoch 1410: 70.34%\n",
      "Test F1-score at Epoch 1410: 0.7168\n",
      "Classification Report at Epoch 1410:\n",
      "                  precision    recall  f1-score   support\n",
      "\n",
      "    infringement       0.74      0.64      0.69       195\n",
      "non_infringement       0.67      0.77      0.72       186\n",
      "\n",
      "        accuracy                           0.70       381\n",
      "       macro avg       0.71      0.70      0.70       381\n",
      "    weighted avg       0.71      0.70      0.70       381\n",
      "\n"
     ]
    },
    {
     "name": "stderr",
     "output_type": "stream",
     "text": [
      "Training Epochs:  57%|█████▋    | 1421/2500 [03:37<02:00,  8.95it/s]"
     ]
    },
    {
     "name": "stdout",
     "output_type": "stream",
     "text": [
      "Epoch 1420/2500, Loss: 0.1039\n",
      "Test Accuracy at Epoch 1420: 70.87%\n",
      "Test F1-score at Epoch 1420: 0.7273\n",
      "Classification Report at Epoch 1420:\n",
      "                  precision    recall  f1-score   support\n",
      "\n",
      "    infringement       0.76      0.63      0.69       195\n",
      "non_infringement       0.67      0.80      0.73       186\n",
      "\n",
      "        accuracy                           0.71       381\n",
      "       macro avg       0.72      0.71      0.71       381\n",
      "    weighted avg       0.72      0.71      0.71       381\n",
      "\n"
     ]
    },
    {
     "name": "stderr",
     "output_type": "stream",
     "text": [
      "Training Epochs:  57%|█████▋    | 1431/2500 [03:41<05:12,  3.43it/s]"
     ]
    },
    {
     "name": "stdout",
     "output_type": "stream",
     "text": [
      "Epoch 1430/2500, Loss: 0.1017\n",
      "Test Accuracy at Epoch 1430: 70.34%\n",
      "Test F1-score at Epoch 1430: 0.7168\n",
      "Classification Report at Epoch 1430:\n",
      "                  precision    recall  f1-score   support\n",
      "\n",
      "    infringement       0.74      0.64      0.69       195\n",
      "non_infringement       0.67      0.77      0.72       186\n",
      "\n",
      "        accuracy                           0.70       381\n",
      "       macro avg       0.71      0.70      0.70       381\n",
      "    weighted avg       0.71      0.70      0.70       381\n",
      "\n"
     ]
    },
    {
     "name": "stderr",
     "output_type": "stream",
     "text": [
      "Training Epochs:  58%|█████▊    | 1439/2500 [03:42<02:13,  7.92it/s]"
     ]
    },
    {
     "name": "stdout",
     "output_type": "stream",
     "text": [
      "Epoch 1440/2500, Loss: 0.1005\n",
      "Test Accuracy at Epoch 1440: 70.60%\n",
      "Test F1-score at Epoch 1440: 0.7241\n",
      "Classification Report at Epoch 1440:\n",
      "                  precision    recall  f1-score   support\n",
      "\n",
      "    infringement       0.76      0.63      0.69       195\n",
      "non_infringement       0.67      0.79      0.72       186\n",
      "\n",
      "        accuracy                           0.71       381\n",
      "       macro avg       0.71      0.71      0.70       381\n",
      "    weighted avg       0.71      0.71      0.70       381\n",
      "\n"
     ]
    },
    {
     "name": "stderr",
     "output_type": "stream",
     "text": [
      "Training Epochs:  58%|█████▊    | 1451/2500 [03:46<04:31,  3.87it/s]"
     ]
    },
    {
     "name": "stdout",
     "output_type": "stream",
     "text": [
      "Epoch 1450/2500, Loss: 0.0996\n",
      "Test Accuracy at Epoch 1450: 70.87%\n",
      "Test F1-score at Epoch 1450: 0.7232\n",
      "Classification Report at Epoch 1450:\n",
      "                  precision    recall  f1-score   support\n",
      "\n",
      "    infringement       0.75      0.64      0.69       195\n",
      "non_infringement       0.67      0.78      0.72       186\n",
      "\n",
      "        accuracy                           0.71       381\n",
      "       macro avg       0.71      0.71      0.71       381\n",
      "    weighted avg       0.71      0.71      0.71       381\n",
      "\n"
     ]
    },
    {
     "name": "stderr",
     "output_type": "stream",
     "text": [
      "Training Epochs:  58%|█████▊    | 1462/2500 [03:46<00:58, 17.87it/s]"
     ]
    },
    {
     "name": "stdout",
     "output_type": "stream",
     "text": [
      "Epoch 1460/2500, Loss: 0.1016\n",
      "Test Accuracy at Epoch 1460: 70.87%\n",
      "Test F1-score at Epoch 1460: 0.7232\n",
      "Classification Report at Epoch 1460:\n",
      "                  precision    recall  f1-score   support\n",
      "\n",
      "    infringement       0.75      0.64      0.69       195\n",
      "non_infringement       0.67      0.78      0.72       186\n",
      "\n",
      "        accuracy                           0.71       381\n",
      "       macro avg       0.71      0.71      0.71       381\n",
      "    weighted avg       0.71      0.71      0.71       381\n",
      "\n"
     ]
    },
    {
     "name": "stderr",
     "output_type": "stream",
     "text": [
      "Training Epochs:  59%|█████▉    | 1475/2500 [03:47<00:34, 29.44it/s]"
     ]
    },
    {
     "name": "stdout",
     "output_type": "stream",
     "text": [
      "Epoch 1470/2500, Loss: 0.0998\n",
      "Test Accuracy at Epoch 1470: 70.60%\n",
      "Test F1-score at Epoch 1470: 0.7228\n",
      "Classification Report at Epoch 1470:\n",
      "                  precision    recall  f1-score   support\n",
      "\n",
      "    infringement       0.75      0.63      0.69       195\n",
      "non_infringement       0.67      0.78      0.72       186\n",
      "\n",
      "        accuracy                           0.71       381\n",
      "       macro avg       0.71      0.71      0.70       381\n",
      "    weighted avg       0.71      0.71      0.70       381\n",
      "\n"
     ]
    },
    {
     "name": "stderr",
     "output_type": "stream",
     "text": [
      "Training Epochs:  59%|█████▉    | 1484/2500 [03:47<00:30, 33.26it/s]"
     ]
    },
    {
     "name": "stdout",
     "output_type": "stream",
     "text": [
      "Epoch 1480/2500, Loss: 0.1049\n",
      "Test Accuracy at Epoch 1480: 70.34%\n",
      "Test F1-score at Epoch 1480: 0.7168\n",
      "Classification Report at Epoch 1480:\n",
      "                  precision    recall  f1-score   support\n",
      "\n",
      "    infringement       0.74      0.64      0.69       195\n",
      "non_infringement       0.67      0.77      0.72       186\n",
      "\n",
      "        accuracy                           0.70       381\n",
      "       macro avg       0.71      0.70      0.70       381\n",
      "    weighted avg       0.71      0.70      0.70       381\n",
      "\n"
     ]
    },
    {
     "name": "stderr",
     "output_type": "stream",
     "text": [
      "Training Epochs:  60%|█████▉    | 1494/2500 [03:48<01:12, 13.95it/s]"
     ]
    },
    {
     "name": "stdout",
     "output_type": "stream",
     "text": [
      "Epoch 1490/2500, Loss: 0.1029\n",
      "Test Accuracy at Epoch 1490: 70.60%\n",
      "Test F1-score at Epoch 1490: 0.7241\n",
      "Classification Report at Epoch 1490:\n",
      "                  precision    recall  f1-score   support\n",
      "\n",
      "    infringement       0.76      0.63      0.69       195\n",
      "non_infringement       0.67      0.79      0.72       186\n",
      "\n",
      "        accuracy                           0.71       381\n",
      "       macro avg       0.71      0.71      0.70       381\n",
      "    weighted avg       0.71      0.71      0.70       381\n",
      "\n"
     ]
    },
    {
     "name": "stderr",
     "output_type": "stream",
     "text": [
      "Training Epochs:  60%|██████    | 1504/2500 [03:48<00:42, 23.66it/s]"
     ]
    },
    {
     "name": "stdout",
     "output_type": "stream",
     "text": [
      "Epoch 1500/2500, Loss: 0.1025\n",
      "Test Accuracy at Epoch 1500: 70.34%\n",
      "Test F1-score at Epoch 1500: 0.7168\n",
      "Classification Report at Epoch 1500:\n",
      "                  precision    recall  f1-score   support\n",
      "\n",
      "    infringement       0.74      0.64      0.69       195\n",
      "non_infringement       0.67      0.77      0.72       186\n",
      "\n",
      "        accuracy                           0.70       381\n",
      "       macro avg       0.71      0.70      0.70       381\n",
      "    weighted avg       0.71      0.70      0.70       381\n",
      "\n"
     ]
    },
    {
     "name": "stderr",
     "output_type": "stream",
     "text": [
      "Training Epochs:  61%|██████    | 1520/2500 [03:49<00:26, 36.37it/s]"
     ]
    },
    {
     "name": "stdout",
     "output_type": "stream",
     "text": [
      "Epoch 1510/2500, Loss: 0.1028\n",
      "Test Accuracy at Epoch 1510: 70.87%\n",
      "Test F1-score at Epoch 1510: 0.7273\n",
      "Classification Report at Epoch 1510:\n",
      "                  precision    recall  f1-score   support\n",
      "\n",
      "    infringement       0.76      0.63      0.69       195\n",
      "non_infringement       0.67      0.80      0.73       186\n",
      "\n",
      "        accuracy                           0.71       381\n",
      "       macro avg       0.72      0.71      0.71       381\n",
      "    weighted avg       0.72      0.71      0.71       381\n",
      "\n",
      "Epoch 1520/2500, Loss: 0.1008\n",
      "Test Accuracy at Epoch 1520: 70.34%\n",
      "Test F1-score at Epoch 1520: 0.7168\n",
      "Classification Report at Epoch 1520:\n",
      "                  precision    recall  f1-score   support\n",
      "\n",
      "    infringement       0.74      0.64      0.69       195\n",
      "non_infringement       0.67      0.77      0.72       186\n",
      "\n",
      "        accuracy                           0.70       381\n",
      "       macro avg       0.71      0.70      0.70       381\n",
      "    weighted avg       0.71      0.70      0.70       381\n",
      "\n"
     ]
    },
    {
     "name": "stderr",
     "output_type": "stream",
     "text": [
      "Training Epochs:  61%|██████    | 1531/2500 [03:49<00:29, 32.49it/s]"
     ]
    },
    {
     "name": "stdout",
     "output_type": "stream",
     "text": [
      "Epoch 1530/2500, Loss: 0.0998\n",
      "Test Accuracy at Epoch 1530: 70.60%\n",
      "Test F1-score at Epoch 1530: 0.7241\n",
      "Classification Report at Epoch 1530:\n",
      "                  precision    recall  f1-score   support\n",
      "\n",
      "    infringement       0.76      0.63      0.69       195\n",
      "non_infringement       0.67      0.79      0.72       186\n",
      "\n",
      "        accuracy                           0.71       381\n",
      "       macro avg       0.71      0.71      0.70       381\n",
      "    weighted avg       0.71      0.71      0.70       381\n",
      "\n"
     ]
    },
    {
     "name": "stderr",
     "output_type": "stream",
     "text": [
      "Training Epochs:  62%|██████▏   | 1544/2500 [03:49<00:26, 36.09it/s]"
     ]
    },
    {
     "name": "stdout",
     "output_type": "stream",
     "text": [
      "Epoch 1540/2500, Loss: 0.0991\n",
      "Test Accuracy at Epoch 1540: 70.87%\n",
      "Test F1-score at Epoch 1540: 0.7232\n",
      "Classification Report at Epoch 1540:\n",
      "                  precision    recall  f1-score   support\n",
      "\n",
      "    infringement       0.75      0.64      0.69       195\n",
      "non_infringement       0.67      0.78      0.72       186\n",
      "\n",
      "        accuracy                           0.71       381\n",
      "       macro avg       0.71      0.71      0.71       381\n",
      "    weighted avg       0.71      0.71      0.71       381\n",
      "\n"
     ]
    },
    {
     "name": "stderr",
     "output_type": "stream",
     "text": [
      "Training Epochs:  62%|██████▏   | 1557/2500 [03:50<00:43, 21.50it/s]"
     ]
    },
    {
     "name": "stdout",
     "output_type": "stream",
     "text": [
      "Epoch 1550/2500, Loss: 0.1023\n",
      "Test Accuracy at Epoch 1550: 70.87%\n",
      "Test F1-score at Epoch 1550: 0.7232\n",
      "Classification Report at Epoch 1550:\n",
      "                  precision    recall  f1-score   support\n",
      "\n",
      "    infringement       0.75      0.64      0.69       195\n",
      "non_infringement       0.67      0.78      0.72       186\n",
      "\n",
      "        accuracy                           0.71       381\n",
      "       macro avg       0.71      0.71      0.71       381\n",
      "    weighted avg       0.71      0.71      0.71       381\n",
      "\n",
      "Epoch 1560/2500, Loss: 0.0998\n",
      "Test Accuracy at Epoch 1560: 70.34%\n",
      "Test F1-score at Epoch 1560: 0.7210\n",
      "Classification Report at Epoch 1560:\n",
      "                  precision    recall  f1-score   support\n",
      "\n",
      "    infringement       0.75      0.63      0.68       195\n",
      "non_infringement       0.67      0.78      0.72       186\n",
      "\n",
      "        accuracy                           0.70       381\n",
      "       macro avg       0.71      0.71      0.70       381\n",
      "    weighted avg       0.71      0.70      0.70       381\n",
      "\n"
     ]
    },
    {
     "name": "stderr",
     "output_type": "stream",
     "text": [
      "Training Epochs:  63%|██████▎   | 1570/2500 [03:54<03:02,  5.09it/s]"
     ]
    },
    {
     "name": "stdout",
     "output_type": "stream",
     "text": [
      "Epoch 1570/2500, Loss: 0.1050\n",
      "Test Accuracy at Epoch 1570: 70.34%\n",
      "Test F1-score at Epoch 1570: 0.7168\n",
      "Classification Report at Epoch 1570:\n",
      "                  precision    recall  f1-score   support\n",
      "\n",
      "    infringement       0.74      0.64      0.69       195\n",
      "non_infringement       0.67      0.77      0.72       186\n",
      "\n",
      "        accuracy                           0.70       381\n",
      "       macro avg       0.71      0.70      0.70       381\n",
      "    weighted avg       0.71      0.70      0.70       381\n",
      "\n"
     ]
    },
    {
     "name": "stderr",
     "output_type": "stream",
     "text": [
      "Training Epochs:  63%|██████▎   | 1581/2500 [03:55<01:50,  8.34it/s]"
     ]
    },
    {
     "name": "stdout",
     "output_type": "stream",
     "text": [
      "Epoch 1580/2500, Loss: 0.1025\n",
      "Test Accuracy at Epoch 1580: 70.60%\n",
      "Test F1-score at Epoch 1580: 0.7241\n",
      "Classification Report at Epoch 1580:\n",
      "                  precision    recall  f1-score   support\n",
      "\n",
      "    infringement       0.76      0.63      0.69       195\n",
      "non_infringement       0.67      0.79      0.72       186\n",
      "\n",
      "        accuracy                           0.71       381\n",
      "       macro avg       0.71      0.71      0.70       381\n",
      "    weighted avg       0.71      0.71      0.70       381\n",
      "\n"
     ]
    },
    {
     "name": "stderr",
     "output_type": "stream",
     "text": [
      "Training Epochs:  64%|██████▎   | 1590/2500 [03:58<02:59,  5.07it/s]"
     ]
    },
    {
     "name": "stdout",
     "output_type": "stream",
     "text": [
      "Epoch 1590/2500, Loss: 0.1019\n",
      "Test Accuracy at Epoch 1590: 70.34%\n",
      "Test F1-score at Epoch 1590: 0.7168\n",
      "Classification Report at Epoch 1590:\n",
      "                  precision    recall  f1-score   support\n",
      "\n",
      "    infringement       0.74      0.64      0.69       195\n",
      "non_infringement       0.67      0.77      0.72       186\n",
      "\n",
      "        accuracy                           0.70       381\n",
      "       macro avg       0.71      0.70      0.70       381\n",
      "    weighted avg       0.71      0.70      0.70       381\n",
      "\n"
     ]
    },
    {
     "name": "stderr",
     "output_type": "stream",
     "text": [
      "Training Epochs:  64%|██████▍   | 1601/2500 [03:59<02:27,  6.08it/s]"
     ]
    },
    {
     "name": "stdout",
     "output_type": "stream",
     "text": [
      "Epoch 1600/2500, Loss: 0.1020\n",
      "Test Accuracy at Epoch 1600: 70.87%\n",
      "Test F1-score at Epoch 1600: 0.7273\n",
      "Classification Report at Epoch 1600:\n",
      "                  precision    recall  f1-score   support\n",
      "\n",
      "    infringement       0.76      0.63      0.69       195\n",
      "non_infringement       0.67      0.80      0.73       186\n",
      "\n",
      "        accuracy                           0.71       381\n",
      "       macro avg       0.72      0.71      0.71       381\n",
      "    weighted avg       0.72      0.71      0.71       381\n",
      "\n"
     ]
    },
    {
     "name": "stderr",
     "output_type": "stream",
     "text": [
      "Training Epochs:  65%|██████▍   | 1613/2500 [04:00<00:54, 16.35it/s]"
     ]
    },
    {
     "name": "stdout",
     "output_type": "stream",
     "text": [
      "Epoch 1610/2500, Loss: 0.0996\n",
      "Test Accuracy at Epoch 1610: 70.87%\n",
      "Test F1-score at Epoch 1610: 0.7232\n",
      "Classification Report at Epoch 1610:\n",
      "                  precision    recall  f1-score   support\n",
      "\n",
      "    infringement       0.75      0.64      0.69       195\n",
      "non_infringement       0.67      0.78      0.72       186\n",
      "\n",
      "        accuracy                           0.71       381\n",
      "       macro avg       0.71      0.71      0.71       381\n",
      "    weighted avg       0.71      0.71      0.71       381\n",
      "\n"
     ]
    },
    {
     "name": "stderr",
     "output_type": "stream",
     "text": [
      "Training Epochs:  65%|██████▌   | 1626/2500 [04:01<00:28, 30.17it/s]"
     ]
    },
    {
     "name": "stdout",
     "output_type": "stream",
     "text": [
      "Epoch 1620/2500, Loss: 0.0991\n",
      "Test Accuracy at Epoch 1620: 70.34%\n",
      "Test F1-score at Epoch 1620: 0.7210\n",
      "Classification Report at Epoch 1620:\n",
      "                  precision    recall  f1-score   support\n",
      "\n",
      "    infringement       0.75      0.63      0.68       195\n",
      "non_infringement       0.67      0.78      0.72       186\n",
      "\n",
      "        accuracy                           0.70       381\n",
      "       macro avg       0.71      0.71      0.70       381\n",
      "    weighted avg       0.71      0.70      0.70       381\n",
      "\n"
     ]
    },
    {
     "name": "stderr",
     "output_type": "stream",
     "text": [
      "Training Epochs:  65%|██████▌   | 1635/2500 [04:01<00:27, 30.95it/s]"
     ]
    },
    {
     "name": "stdout",
     "output_type": "stream",
     "text": [
      "Epoch 1630/2500, Loss: 0.0989\n",
      "Test Accuracy at Epoch 1630: 70.87%\n",
      "Test F1-score at Epoch 1630: 0.7232\n",
      "Classification Report at Epoch 1630:\n",
      "                  precision    recall  f1-score   support\n",
      "\n",
      "    infringement       0.75      0.64      0.69       195\n",
      "non_infringement       0.67      0.78      0.72       186\n",
      "\n",
      "        accuracy                           0.71       381\n",
      "       macro avg       0.71      0.71      0.71       381\n",
      "    weighted avg       0.71      0.71      0.71       381\n",
      "\n"
     ]
    },
    {
     "name": "stderr",
     "output_type": "stream",
     "text": [
      "Training Epochs:  66%|██████▌   | 1643/2500 [04:01<00:28, 30.17it/s]"
     ]
    },
    {
     "name": "stdout",
     "output_type": "stream",
     "text": [
      "Epoch 1640/2500, Loss: 0.1012\n",
      "Test Accuracy at Epoch 1640: 70.87%\n",
      "Test F1-score at Epoch 1640: 0.7232\n",
      "Classification Report at Epoch 1640:\n",
      "                  precision    recall  f1-score   support\n",
      "\n",
      "    infringement       0.75      0.64      0.69       195\n",
      "non_infringement       0.67      0.78      0.72       186\n",
      "\n",
      "        accuracy                           0.71       381\n",
      "       macro avg       0.71      0.71      0.71       381\n",
      "    weighted avg       0.71      0.71      0.71       381\n",
      "\n"
     ]
    },
    {
     "name": "stderr",
     "output_type": "stream",
     "text": [
      "Training Epochs:  66%|██████▌   | 1647/2500 [04:01<00:27, 30.54it/s]"
     ]
    },
    {
     "name": "stdout",
     "output_type": "stream",
     "text": [
      "Epoch 1650/2500, Loss: 0.1006\n",
      "Test Accuracy at Epoch 1650: 70.34%\n",
      "Test F1-score at Epoch 1650: 0.7210\n",
      "Classification Report at Epoch 1650:\n",
      "                  precision    recall  f1-score   support\n",
      "\n",
      "    infringement       0.75      0.63      0.68       195\n",
      "non_infringement       0.67      0.78      0.72       186\n",
      "\n",
      "        accuracy                           0.70       381\n",
      "       macro avg       0.71      0.71      0.70       381\n",
      "    weighted avg       0.71      0.70      0.70       381\n",
      "\n"
     ]
    },
    {
     "name": "stderr",
     "output_type": "stream",
     "text": [
      "Training Epochs:  66%|██████▋   | 1660/2500 [04:02<00:49, 17.06it/s]"
     ]
    },
    {
     "name": "stdout",
     "output_type": "stream",
     "text": [
      "Epoch 1660/2500, Loss: 0.1039\n",
      "Test Accuracy at Epoch 1660: 70.34%\n",
      "Test F1-score at Epoch 1660: 0.7168\n",
      "Classification Report at Epoch 1660:\n",
      "                  precision    recall  f1-score   support\n",
      "\n",
      "    infringement       0.74      0.64      0.69       195\n",
      "non_infringement       0.67      0.77      0.72       186\n",
      "\n",
      "        accuracy                           0.70       381\n",
      "       macro avg       0.71      0.70      0.70       381\n",
      "    weighted avg       0.71      0.70      0.70       381\n",
      "\n"
     ]
    },
    {
     "name": "stderr",
     "output_type": "stream",
     "text": [
      "Training Epochs:  67%|██████▋   | 1668/2500 [04:03<00:43, 18.93it/s]"
     ]
    },
    {
     "name": "stdout",
     "output_type": "stream",
     "text": [
      "Epoch 1670/2500, Loss: 0.1026\n",
      "Test Accuracy at Epoch 1670: 70.60%\n",
      "Test F1-score at Epoch 1670: 0.7241\n",
      "Classification Report at Epoch 1670:\n",
      "                  precision    recall  f1-score   support\n",
      "\n",
      "    infringement       0.76      0.63      0.69       195\n",
      "non_infringement       0.67      0.79      0.72       186\n",
      "\n",
      "        accuracy                           0.71       381\n",
      "       macro avg       0.71      0.71      0.70       381\n",
      "    weighted avg       0.71      0.71      0.70       381\n",
      "\n"
     ]
    },
    {
     "name": "stderr",
     "output_type": "stream",
     "text": [
      "Training Epochs:  67%|██████▋   | 1680/2500 [04:07<05:46,  2.37it/s]"
     ]
    },
    {
     "name": "stdout",
     "output_type": "stream",
     "text": [
      "Epoch 1680/2500, Loss: 0.1021\n",
      "Test Accuracy at Epoch 1680: 70.34%\n",
      "Test F1-score at Epoch 1680: 0.7168\n",
      "Classification Report at Epoch 1680:\n",
      "                  precision    recall  f1-score   support\n",
      "\n",
      "    infringement       0.74      0.64      0.69       195\n",
      "non_infringement       0.67      0.77      0.72       186\n",
      "\n",
      "        accuracy                           0.70       381\n",
      "       macro avg       0.71      0.70      0.70       381\n",
      "    weighted avg       0.71      0.70      0.70       381\n",
      "\n"
     ]
    },
    {
     "name": "stderr",
     "output_type": "stream",
     "text": [
      "Training Epochs:  68%|██████▊   | 1693/2500 [04:09<01:07, 12.00it/s]"
     ]
    },
    {
     "name": "stdout",
     "output_type": "stream",
     "text": [
      "Epoch 1690/2500, Loss: 0.1009\n",
      "Test Accuracy at Epoch 1690: 70.60%\n",
      "Test F1-score at Epoch 1690: 0.7241\n",
      "Classification Report at Epoch 1690:\n",
      "                  precision    recall  f1-score   support\n",
      "\n",
      "    infringement       0.76      0.63      0.69       195\n",
      "non_infringement       0.67      0.79      0.72       186\n",
      "\n",
      "        accuracy                           0.71       381\n",
      "       macro avg       0.71      0.71      0.70       381\n",
      "    weighted avg       0.71      0.71      0.70       381\n",
      "\n"
     ]
    },
    {
     "name": "stderr",
     "output_type": "stream",
     "text": [
      "Training Epochs:  68%|██████▊   | 1704/2500 [04:09<00:32, 24.27it/s]"
     ]
    },
    {
     "name": "stdout",
     "output_type": "stream",
     "text": [
      "Epoch 1700/2500, Loss: 0.0998\n",
      "Test Accuracy at Epoch 1700: 70.34%\n",
      "Test F1-score at Epoch 1700: 0.7168\n",
      "Classification Report at Epoch 1700:\n",
      "                  precision    recall  f1-score   support\n",
      "\n",
      "    infringement       0.74      0.64      0.69       195\n",
      "non_infringement       0.67      0.77      0.72       186\n",
      "\n",
      "        accuracy                           0.70       381\n",
      "       macro avg       0.71      0.70      0.70       381\n",
      "    weighted avg       0.71      0.70      0.70       381\n",
      "\n"
     ]
    },
    {
     "name": "stderr",
     "output_type": "stream",
     "text": [
      "Training Epochs:  68%|██████▊   | 1712/2500 [04:09<00:26, 29.38it/s]"
     ]
    },
    {
     "name": "stdout",
     "output_type": "stream",
     "text": [
      "Epoch 1710/2500, Loss: 0.0989\n",
      "Test Accuracy at Epoch 1710: 70.34%\n",
      "Test F1-score at Epoch 1710: 0.7210\n",
      "Classification Report at Epoch 1710:\n",
      "                  precision    recall  f1-score   support\n",
      "\n",
      "    infringement       0.75      0.63      0.68       195\n",
      "non_infringement       0.67      0.78      0.72       186\n",
      "\n",
      "        accuracy                           0.70       381\n",
      "       macro avg       0.71      0.71      0.70       381\n",
      "    weighted avg       0.71      0.70      0.70       381\n",
      "\n"
     ]
    },
    {
     "name": "stderr",
     "output_type": "stream",
     "text": [
      "Training Epochs:  69%|██████▉   | 1719/2500 [04:10<00:55, 14.05it/s]"
     ]
    },
    {
     "name": "stdout",
     "output_type": "stream",
     "text": [
      "Epoch 1720/2500, Loss: 0.0986\n",
      "Test Accuracy at Epoch 1720: 70.87%\n",
      "Test F1-score at Epoch 1720: 0.7232\n",
      "Classification Report at Epoch 1720:\n",
      "                  precision    recall  f1-score   support\n",
      "\n",
      "    infringement       0.75      0.64      0.69       195\n",
      "non_infringement       0.67      0.78      0.72       186\n",
      "\n",
      "        accuracy                           0.71       381\n",
      "       macro avg       0.71      0.71      0.71       381\n",
      "    weighted avg       0.71      0.71      0.71       381\n",
      "\n"
     ]
    },
    {
     "name": "stderr",
     "output_type": "stream",
     "text": [
      "Training Epochs:  69%|██████▉   | 1730/2500 [04:15<04:54,  2.61it/s]"
     ]
    },
    {
     "name": "stdout",
     "output_type": "stream",
     "text": [
      "Epoch 1730/2500, Loss: 0.0989\n",
      "Test Accuracy at Epoch 1730: 70.34%\n",
      "Test F1-score at Epoch 1730: 0.7196\n",
      "Classification Report at Epoch 1730:\n",
      "                  precision    recall  f1-score   support\n",
      "\n",
      "    infringement       0.75      0.63      0.69       195\n",
      "non_infringement       0.67      0.78      0.72       186\n",
      "\n",
      "        accuracy                           0.70       381\n",
      "       macro avg       0.71      0.71      0.70       381\n",
      "    weighted avg       0.71      0.70      0.70       381\n",
      "\n"
     ]
    },
    {
     "name": "stderr",
     "output_type": "stream",
     "text": [
      "Training Epochs:  70%|██████▉   | 1741/2500 [04:16<01:33,  8.09it/s]"
     ]
    },
    {
     "name": "stdout",
     "output_type": "stream",
     "text": [
      "Epoch 1740/2500, Loss: 0.0997\n",
      "Test Accuracy at Epoch 1740: 70.08%\n",
      "Test F1-score at Epoch 1740: 0.7178\n",
      "Classification Report at Epoch 1740:\n",
      "                  precision    recall  f1-score   support\n",
      "\n",
      "    infringement       0.75      0.63      0.68       195\n",
      "non_infringement       0.67      0.78      0.72       186\n",
      "\n",
      "        accuracy                           0.70       381\n",
      "       macro avg       0.71      0.70      0.70       381\n",
      "    weighted avg       0.71      0.70      0.70       381\n",
      "\n"
     ]
    },
    {
     "name": "stderr",
     "output_type": "stream",
     "text": [
      "Training Epochs:  70%|███████   | 1753/2500 [04:18<01:34,  7.92it/s]"
     ]
    },
    {
     "name": "stdout",
     "output_type": "stream",
     "text": [
      "Epoch 1750/2500, Loss: 0.1013\n",
      "Test Accuracy at Epoch 1750: 70.87%\n",
      "Test F1-score at Epoch 1750: 0.7232\n",
      "Classification Report at Epoch 1750:\n",
      "                  precision    recall  f1-score   support\n",
      "\n",
      "    infringement       0.75      0.64      0.69       195\n",
      "non_infringement       0.67      0.78      0.72       186\n",
      "\n",
      "        accuracy                           0.71       381\n",
      "       macro avg       0.71      0.71      0.71       381\n",
      "    weighted avg       0.71      0.71      0.71       381\n",
      "\n"
     ]
    },
    {
     "name": "stderr",
     "output_type": "stream",
     "text": [
      "Training Epochs:  71%|███████   | 1764/2500 [04:18<00:37, 19.40it/s]"
     ]
    },
    {
     "name": "stdout",
     "output_type": "stream",
     "text": [
      "Epoch 1760/2500, Loss: 0.1017\n",
      "Test Accuracy at Epoch 1760: 70.34%\n",
      "Test F1-score at Epoch 1760: 0.7210\n",
      "Classification Report at Epoch 1760:\n",
      "                  precision    recall  f1-score   support\n",
      "\n",
      "    infringement       0.75      0.63      0.68       195\n",
      "non_infringement       0.67      0.78      0.72       186\n",
      "\n",
      "        accuracy                           0.70       381\n",
      "       macro avg       0.71      0.71      0.70       381\n",
      "    weighted avg       0.71      0.70      0.70       381\n",
      "\n"
     ]
    },
    {
     "name": "stderr",
     "output_type": "stream",
     "text": [
      "Training Epochs:  71%|███████   | 1773/2500 [04:19<00:36, 20.03it/s]"
     ]
    },
    {
     "name": "stdout",
     "output_type": "stream",
     "text": [
      "Epoch 1770/2500, Loss: 0.1029\n",
      "Test Accuracy at Epoch 1770: 70.34%\n",
      "Test F1-score at Epoch 1770: 0.7168\n",
      "Classification Report at Epoch 1770:\n",
      "                  precision    recall  f1-score   support\n",
      "\n",
      "    infringement       0.74      0.64      0.69       195\n",
      "non_infringement       0.67      0.77      0.72       186\n",
      "\n",
      "        accuracy                           0.70       381\n",
      "       macro avg       0.71      0.70      0.70       381\n",
      "    weighted avg       0.71      0.70      0.70       381\n",
      "\n"
     ]
    },
    {
     "name": "stderr",
     "output_type": "stream",
     "text": [
      "Training Epochs:  71%|███████▏  | 1782/2500 [04:19<01:03, 11.32it/s]"
     ]
    },
    {
     "name": "stdout",
     "output_type": "stream",
     "text": [
      "Epoch 1780/2500, Loss: 0.1018\n",
      "Test Accuracy at Epoch 1780: 70.34%\n",
      "Test F1-score at Epoch 1780: 0.7210\n",
      "Classification Report at Epoch 1780:\n",
      "                  precision    recall  f1-score   support\n",
      "\n",
      "    infringement       0.75      0.63      0.68       195\n",
      "non_infringement       0.67      0.78      0.72       186\n",
      "\n",
      "        accuracy                           0.70       381\n",
      "       macro avg       0.71      0.71      0.70       381\n",
      "    weighted avg       0.71      0.70      0.70       381\n",
      "\n"
     ]
    },
    {
     "name": "stderr",
     "output_type": "stream",
     "text": [
      "Training Epochs:  72%|███████▏  | 1791/2500 [04:20<00:50, 14.09it/s]"
     ]
    },
    {
     "name": "stdout",
     "output_type": "stream",
     "text": [
      "Epoch 1790/2500, Loss: 0.1017\n",
      "Test Accuracy at Epoch 1790: 70.08%\n",
      "Test F1-score at Epoch 1790: 0.7136\n",
      "Classification Report at Epoch 1790:\n",
      "                  precision    recall  f1-score   support\n",
      "\n",
      "    infringement       0.74      0.64      0.69       195\n",
      "non_infringement       0.67      0.76      0.71       186\n",
      "\n",
      "        accuracy                           0.70       381\n",
      "       macro avg       0.70      0.70      0.70       381\n",
      "    weighted avg       0.71      0.70      0.70       381\n",
      "\n"
     ]
    },
    {
     "name": "stderr",
     "output_type": "stream",
     "text": [
      "Training Epochs:  72%|███████▏  | 1802/2500 [04:20<00:32, 21.28it/s]"
     ]
    },
    {
     "name": "stdout",
     "output_type": "stream",
     "text": [
      "Epoch 1800/2500, Loss: 0.1005\n",
      "Test Accuracy at Epoch 1800: 70.60%\n",
      "Test F1-score at Epoch 1800: 0.7241\n",
      "Classification Report at Epoch 1800:\n",
      "                  precision    recall  f1-score   support\n",
      "\n",
      "    infringement       0.76      0.63      0.69       195\n",
      "non_infringement       0.67      0.79      0.72       186\n",
      "\n",
      "        accuracy                           0.71       381\n",
      "       macro avg       0.71      0.71      0.70       381\n",
      "    weighted avg       0.71      0.71      0.70       381\n",
      "\n"
     ]
    },
    {
     "name": "stderr",
     "output_type": "stream",
     "text": [
      "Training Epochs:  72%|███████▏  | 1810/2500 [04:22<02:04,  5.54it/s]"
     ]
    },
    {
     "name": "stdout",
     "output_type": "stream",
     "text": [
      "Epoch 1810/2500, Loss: 0.0999\n",
      "Test Accuracy at Epoch 1810: 70.34%\n",
      "Test F1-score at Epoch 1810: 0.7168\n",
      "Classification Report at Epoch 1810:\n",
      "                  precision    recall  f1-score   support\n",
      "\n",
      "    infringement       0.74      0.64      0.69       195\n",
      "non_infringement       0.67      0.77      0.72       186\n",
      "\n",
      "        accuracy                           0.70       381\n",
      "       macro avg       0.71      0.70      0.70       381\n",
      "    weighted avg       0.71      0.70      0.70       381\n",
      "\n"
     ]
    },
    {
     "name": "stderr",
     "output_type": "stream",
     "text": [
      "Training Epochs:  73%|███████▎  | 1822/2500 [04:25<01:40,  6.72it/s]"
     ]
    },
    {
     "name": "stdout",
     "output_type": "stream",
     "text": [
      "Epoch 1820/2500, Loss: 0.0990\n",
      "Test Accuracy at Epoch 1820: 70.08%\n",
      "Test F1-score at Epoch 1820: 0.7178\n",
      "Classification Report at Epoch 1820:\n",
      "                  precision    recall  f1-score   support\n",
      "\n",
      "    infringement       0.75      0.63      0.68       195\n",
      "non_infringement       0.67      0.78      0.72       186\n",
      "\n",
      "        accuracy                           0.70       381\n",
      "       macro avg       0.71      0.70      0.70       381\n",
      "    weighted avg       0.71      0.70      0.70       381\n",
      "\n"
     ]
    },
    {
     "name": "stderr",
     "output_type": "stream",
     "text": [
      "Training Epochs:  73%|███████▎  | 1830/2500 [04:27<02:38,  4.22it/s]"
     ]
    },
    {
     "name": "stdout",
     "output_type": "stream",
     "text": [
      "Epoch 1830/2500, Loss: 0.0985\n",
      "Test Accuracy at Epoch 1830: 70.87%\n",
      "Test F1-score at Epoch 1830: 0.7232\n",
      "Classification Report at Epoch 1830:\n",
      "                  precision    recall  f1-score   support\n",
      "\n",
      "    infringement       0.75      0.64      0.69       195\n",
      "non_infringement       0.67      0.78      0.72       186\n",
      "\n",
      "        accuracy                           0.71       381\n",
      "       macro avg       0.71      0.71      0.71       381\n",
      "    weighted avg       0.71      0.71      0.71       381\n",
      "\n"
     ]
    },
    {
     "name": "stderr",
     "output_type": "stream",
     "text": [
      "Training Epochs:  74%|███████▎  | 1841/2500 [04:29<01:45,  6.24it/s]"
     ]
    },
    {
     "name": "stdout",
     "output_type": "stream",
     "text": [
      "Epoch 1840/2500, Loss: 0.0984\n",
      "Test Accuracy at Epoch 1840: 70.08%\n",
      "Test F1-score at Epoch 1840: 0.7178\n",
      "Classification Report at Epoch 1840:\n",
      "                  precision    recall  f1-score   support\n",
      "\n",
      "    infringement       0.75      0.63      0.68       195\n",
      "non_infringement       0.67      0.78      0.72       186\n",
      "\n",
      "        accuracy                           0.70       381\n",
      "       macro avg       0.71      0.70      0.70       381\n",
      "    weighted avg       0.71      0.70      0.70       381\n",
      "\n"
     ]
    },
    {
     "name": "stderr",
     "output_type": "stream",
     "text": [
      "Training Epochs:  74%|███████▍  | 1853/2500 [04:30<00:39, 16.26it/s]"
     ]
    },
    {
     "name": "stdout",
     "output_type": "stream",
     "text": [
      "Epoch 1850/2500, Loss: 0.0987\n",
      "Test Accuracy at Epoch 1850: 70.87%\n",
      "Test F1-score at Epoch 1850: 0.7232\n",
      "Classification Report at Epoch 1850:\n",
      "                  precision    recall  f1-score   support\n",
      "\n",
      "    infringement       0.75      0.64      0.69       195\n",
      "non_infringement       0.67      0.78      0.72       186\n",
      "\n",
      "        accuracy                           0.71       381\n",
      "       macro avg       0.71      0.71      0.71       381\n",
      "    weighted avg       0.71      0.71      0.71       381\n",
      "\n"
     ]
    },
    {
     "name": "stderr",
     "output_type": "stream",
     "text": [
      "Training Epochs:  74%|███████▍  | 1859/2500 [04:30<00:34, 18.60it/s]"
     ]
    },
    {
     "name": "stdout",
     "output_type": "stream",
     "text": [
      "Epoch 1860/2500, Loss: 0.1013\n",
      "Test Accuracy at Epoch 1860: 70.60%\n",
      "Test F1-score at Epoch 1860: 0.7200\n",
      "Classification Report at Epoch 1860:\n",
      "                  precision    recall  f1-score   support\n",
      "\n",
      "    infringement       0.75      0.64      0.69       195\n",
      "non_infringement       0.67      0.77      0.72       186\n",
      "\n",
      "        accuracy                           0.71       381\n",
      "       macro avg       0.71      0.71      0.71       381\n",
      "    weighted avg       0.71      0.71      0.70       381\n",
      "\n"
     ]
    },
    {
     "name": "stderr",
     "output_type": "stream",
     "text": [
      "Training Epochs:  75%|███████▍  | 1873/2500 [04:32<01:24,  7.44it/s]"
     ]
    },
    {
     "name": "stdout",
     "output_type": "stream",
     "text": [
      "Epoch 1870/2500, Loss: 0.1001\n",
      "Test Accuracy at Epoch 1870: 70.34%\n",
      "Test F1-score at Epoch 1870: 0.7210\n",
      "Classification Report at Epoch 1870:\n",
      "                  precision    recall  f1-score   support\n",
      "\n",
      "    infringement       0.75      0.63      0.68       195\n",
      "non_infringement       0.67      0.78      0.72       186\n",
      "\n",
      "        accuracy                           0.70       381\n",
      "       macro avg       0.71      0.71      0.70       381\n",
      "    weighted avg       0.71      0.70      0.70       381\n",
      "\n"
     ]
    },
    {
     "name": "stderr",
     "output_type": "stream",
     "text": [
      "Training Epochs:  75%|███████▌  | 1886/2500 [04:33<00:29, 20.51it/s]"
     ]
    },
    {
     "name": "stdout",
     "output_type": "stream",
     "text": [
      "Epoch 1880/2500, Loss: 0.0984\n",
      "Test Accuracy at Epoch 1880: 70.60%\n",
      "Test F1-score at Epoch 1880: 0.7214\n",
      "Classification Report at Epoch 1880:\n",
      "                  precision    recall  f1-score   support\n",
      "\n",
      "    infringement       0.75      0.64      0.69       195\n",
      "non_infringement       0.67      0.78      0.72       186\n",
      "\n",
      "        accuracy                           0.71       381\n",
      "       macro avg       0.71      0.71      0.71       381\n",
      "    weighted avg       0.71      0.71      0.70       381\n",
      "\n",
      "Epoch 1890/2500, Loss: 0.1041\n",
      "Test Accuracy at Epoch 1890: 70.08%\n",
      "Test F1-score at Epoch 1890: 0.7136\n",
      "Classification Report at Epoch 1890:\n",
      "                  precision    recall  f1-score   support\n",
      "\n",
      "    infringement       0.74      0.64      0.69       195\n",
      "non_infringement       0.67      0.76      0.71       186\n",
      "\n",
      "        accuracy                           0.70       381\n",
      "       macro avg       0.70      0.70      0.70       381\n",
      "    weighted avg       0.71      0.70      0.70       381\n",
      "\n"
     ]
    },
    {
     "name": "stderr",
     "output_type": "stream",
     "text": [
      "Training Epochs:  76%|███████▋  | 1910/2500 [04:33<00:14, 40.89it/s]"
     ]
    },
    {
     "name": "stdout",
     "output_type": "stream",
     "text": [
      "Epoch 1900/2500, Loss: 0.1014\n",
      "Test Accuracy at Epoch 1900: 70.34%\n",
      "Test F1-score at Epoch 1900: 0.7210\n",
      "Classification Report at Epoch 1900:\n",
      "                  precision    recall  f1-score   support\n",
      "\n",
      "    infringement       0.75      0.63      0.68       195\n",
      "non_infringement       0.67      0.78      0.72       186\n",
      "\n",
      "        accuracy                           0.70       381\n",
      "       macro avg       0.71      0.71      0.70       381\n",
      "    weighted avg       0.71      0.70      0.70       381\n",
      "\n",
      "Epoch 1910/2500, Loss: 0.0983\n",
      "Test Accuracy at Epoch 1910: 70.34%\n",
      "Test F1-score at Epoch 1910: 0.7196\n",
      "Classification Report at Epoch 1910:\n",
      "                  precision    recall  f1-score   support\n",
      "\n",
      "    infringement       0.75      0.63      0.69       195\n",
      "non_infringement       0.67      0.78      0.72       186\n",
      "\n",
      "        accuracy                           0.70       381\n",
      "       macro avg       0.71      0.71      0.70       381\n",
      "    weighted avg       0.71      0.70      0.70       381\n",
      "\n"
     ]
    },
    {
     "name": "stderr",
     "output_type": "stream",
     "text": [
      "Training Epochs:  77%|███████▋  | 1919/2500 [04:35<00:50, 11.61it/s]"
     ]
    },
    {
     "name": "stdout",
     "output_type": "stream",
     "text": [
      "Epoch 1920/2500, Loss: 0.1033\n",
      "Test Accuracy at Epoch 1920: 70.60%\n",
      "Test F1-score at Epoch 1920: 0.7200\n",
      "Classification Report at Epoch 1920:\n",
      "                  precision    recall  f1-score   support\n",
      "\n",
      "    infringement       0.75      0.64      0.69       195\n",
      "non_infringement       0.67      0.77      0.72       186\n",
      "\n",
      "        accuracy                           0.71       381\n",
      "       macro avg       0.71      0.71      0.71       381\n",
      "    weighted avg       0.71      0.71      0.70       381\n",
      "\n"
     ]
    },
    {
     "name": "stderr",
     "output_type": "stream",
     "text": [
      "Training Epochs:  77%|███████▋  | 1931/2500 [04:38<01:55,  4.92it/s]"
     ]
    },
    {
     "name": "stdout",
     "output_type": "stream",
     "text": [
      "Epoch 1930/2500, Loss: 0.1013\n",
      "Test Accuracy at Epoch 1930: 70.34%\n",
      "Test F1-score at Epoch 1930: 0.7210\n",
      "Classification Report at Epoch 1930:\n",
      "                  precision    recall  f1-score   support\n",
      "\n",
      "    infringement       0.75      0.63      0.68       195\n",
      "non_infringement       0.67      0.78      0.72       186\n",
      "\n",
      "        accuracy                           0.70       381\n",
      "       macro avg       0.71      0.71      0.70       381\n",
      "    weighted avg       0.71      0.70      0.70       381\n",
      "\n"
     ]
    },
    {
     "name": "stderr",
     "output_type": "stream",
     "text": [
      "Training Epochs:  78%|███████▊  | 1943/2500 [04:39<00:46, 11.92it/s]"
     ]
    },
    {
     "name": "stdout",
     "output_type": "stream",
     "text": [
      "Epoch 1940/2500, Loss: 0.0992\n",
      "Test Accuracy at Epoch 1940: 70.87%\n",
      "Test F1-score at Epoch 1940: 0.7232\n",
      "Classification Report at Epoch 1940:\n",
      "                  precision    recall  f1-score   support\n",
      "\n",
      "    infringement       0.75      0.64      0.69       195\n",
      "non_infringement       0.67      0.78      0.72       186\n",
      "\n",
      "        accuracy                           0.71       381\n",
      "       macro avg       0.71      0.71      0.71       381\n",
      "    weighted avg       0.71      0.71      0.71       381\n",
      "\n"
     ]
    },
    {
     "name": "stderr",
     "output_type": "stream",
     "text": [
      "Training Epochs:  78%|███████▊  | 1951/2500 [04:39<00:27, 20.12it/s]"
     ]
    },
    {
     "name": "stdout",
     "output_type": "stream",
     "text": [
      "Epoch 1950/2500, Loss: 0.0989\n",
      "Test Accuracy at Epoch 1950: 70.60%\n",
      "Test F1-score at Epoch 1950: 0.7200\n",
      "Classification Report at Epoch 1950:\n",
      "                  precision    recall  f1-score   support\n",
      "\n",
      "    infringement       0.75      0.64      0.69       195\n",
      "non_infringement       0.67      0.77      0.72       186\n",
      "\n",
      "        accuracy                           0.71       381\n",
      "       macro avg       0.71      0.71      0.71       381\n",
      "    weighted avg       0.71      0.71      0.70       381\n",
      "\n"
     ]
    },
    {
     "name": "stderr",
     "output_type": "stream",
     "text": [
      "Training Epochs:  78%|███████▊  | 1959/2500 [04:41<01:32,  5.85it/s]"
     ]
    },
    {
     "name": "stdout",
     "output_type": "stream",
     "text": [
      "Epoch 1960/2500, Loss: 0.1010\n",
      "Test Accuracy at Epoch 1960: 70.08%\n",
      "Test F1-score at Epoch 1960: 0.7136\n",
      "Classification Report at Epoch 1960:\n",
      "                  precision    recall  f1-score   support\n",
      "\n",
      "    infringement       0.74      0.64      0.69       195\n",
      "non_infringement       0.67      0.76      0.71       186\n",
      "\n",
      "        accuracy                           0.70       381\n",
      "       macro avg       0.70      0.70      0.70       381\n",
      "    weighted avg       0.71      0.70      0.70       381\n",
      "\n"
     ]
    },
    {
     "name": "stderr",
     "output_type": "stream",
     "text": [
      "Training Epochs:  79%|███████▉  | 1972/2500 [04:44<01:29,  5.91it/s]"
     ]
    },
    {
     "name": "stdout",
     "output_type": "stream",
     "text": [
      "Epoch 1970/2500, Loss: 0.0986\n",
      "Test Accuracy at Epoch 1970: 70.08%\n",
      "Test F1-score at Epoch 1970: 0.7178\n",
      "Classification Report at Epoch 1970:\n",
      "                  precision    recall  f1-score   support\n",
      "\n",
      "    infringement       0.75      0.63      0.68       195\n",
      "non_infringement       0.67      0.78      0.72       186\n",
      "\n",
      "        accuracy                           0.70       381\n",
      "       macro avg       0.71      0.70      0.70       381\n",
      "    weighted avg       0.71      0.70      0.70       381\n",
      "\n"
     ]
    },
    {
     "name": "stderr",
     "output_type": "stream",
     "text": [
      "Training Epochs:  79%|███████▉  | 1982/2500 [04:44<00:37, 13.77it/s]"
     ]
    },
    {
     "name": "stdout",
     "output_type": "stream",
     "text": [
      "Epoch 1980/2500, Loss: 0.0990\n",
      "Test Accuracy at Epoch 1980: 70.60%\n",
      "Test F1-score at Epoch 1980: 0.7200\n",
      "Classification Report at Epoch 1980:\n",
      "                  precision    recall  f1-score   support\n",
      "\n",
      "    infringement       0.75      0.64      0.69       195\n",
      "non_infringement       0.67      0.77      0.72       186\n",
      "\n",
      "        accuracy                           0.71       381\n",
      "       macro avg       0.71      0.71      0.71       381\n",
      "    weighted avg       0.71      0.71      0.70       381\n",
      "\n"
     ]
    },
    {
     "name": "stderr",
     "output_type": "stream",
     "text": [
      "Training Epochs:  79%|███████▉  | 1987/2500 [04:45<00:24, 20.79it/s]"
     ]
    },
    {
     "name": "stdout",
     "output_type": "stream",
     "text": [
      "Epoch 1990/2500, Loss: 0.0981\n",
      "Test Accuracy at Epoch 1990: 70.34%\n",
      "Test F1-score at Epoch 1990: 0.7196\n",
      "Classification Report at Epoch 1990:\n",
      "                  precision    recall  f1-score   support\n",
      "\n",
      "    infringement       0.75      0.63      0.69       195\n",
      "non_infringement       0.67      0.78      0.72       186\n",
      "\n",
      "        accuracy                           0.70       381\n",
      "       macro avg       0.71      0.71      0.70       381\n",
      "    weighted avg       0.71      0.70      0.70       381\n",
      "\n"
     ]
    },
    {
     "name": "stderr",
     "output_type": "stream",
     "text": [
      "Training Epochs:  80%|████████  | 2000/2500 [04:45<00:29, 16.78it/s]"
     ]
    },
    {
     "name": "stdout",
     "output_type": "stream",
     "text": [
      "Epoch 2000/2500, Loss: 0.0994\n",
      "Test Accuracy at Epoch 2000: 70.08%\n",
      "Test F1-score at Epoch 2000: 0.7178\n",
      "Classification Report at Epoch 2000:\n",
      "                  precision    recall  f1-score   support\n",
      "\n",
      "    infringement       0.75      0.63      0.68       195\n",
      "non_infringement       0.67      0.78      0.72       186\n",
      "\n",
      "        accuracy                           0.70       381\n",
      "       macro avg       0.71      0.70      0.70       381\n",
      "    weighted avg       0.71      0.70      0.70       381\n",
      "\n"
     ]
    },
    {
     "name": "stderr",
     "output_type": "stream",
     "text": [
      "Training Epochs:  80%|████████  | 2011/2500 [04:46<00:23, 21.09it/s]"
     ]
    },
    {
     "name": "stdout",
     "output_type": "stream",
     "text": [
      "Epoch 2010/2500, Loss: 0.0981\n",
      "Test Accuracy at Epoch 2010: 70.87%\n",
      "Test F1-score at Epoch 2010: 0.7232\n",
      "Classification Report at Epoch 2010:\n",
      "                  precision    recall  f1-score   support\n",
      "\n",
      "    infringement       0.75      0.64      0.69       195\n",
      "non_infringement       0.67      0.78      0.72       186\n",
      "\n",
      "        accuracy                           0.71       381\n",
      "       macro avg       0.71      0.71      0.71       381\n",
      "    weighted avg       0.71      0.71      0.71       381\n",
      "\n"
     ]
    },
    {
     "name": "stderr",
     "output_type": "stream",
     "text": [
      "Training Epochs:  81%|████████  | 2026/2500 [04:46<00:13, 35.21it/s]"
     ]
    },
    {
     "name": "stdout",
     "output_type": "stream",
     "text": [
      "Epoch 2020/2500, Loss: 0.0996\n",
      "Test Accuracy at Epoch 2020: 70.87%\n",
      "Test F1-score at Epoch 2020: 0.7232\n",
      "Classification Report at Epoch 2020:\n",
      "                  precision    recall  f1-score   support\n",
      "\n",
      "    infringement       0.75      0.64      0.69       195\n",
      "non_infringement       0.67      0.78      0.72       186\n",
      "\n",
      "        accuracy                           0.71       381\n",
      "       macro avg       0.71      0.71      0.71       381\n",
      "    weighted avg       0.71      0.71      0.71       381\n",
      "\n",
      "Epoch 2030/2500, Loss: 0.0990\n",
      "Test Accuracy at Epoch 2030: 69.82%\n",
      "Test F1-score at Epoch 2030: 0.7118\n",
      "Classification Report at Epoch 2030:\n",
      "                  precision    recall  f1-score   support\n",
      "\n",
      "    infringement       0.74      0.64      0.68       195\n",
      "non_infringement       0.67      0.76      0.71       186\n",
      "\n",
      "        accuracy                           0.70       381\n",
      "       macro avg       0.70      0.70      0.70       381\n",
      "    weighted avg       0.70      0.70      0.70       381\n",
      "\n"
     ]
    },
    {
     "name": "stderr",
     "output_type": "stream",
     "text": [
      "Training Epochs:  82%|████████▏ | 2044/2500 [04:48<00:31, 14.31it/s]"
     ]
    },
    {
     "name": "stdout",
     "output_type": "stream",
     "text": [
      "Epoch 2040/2500, Loss: 0.0989\n",
      "Test Accuracy at Epoch 2040: 70.60%\n",
      "Test F1-score at Epoch 2040: 0.7200\n",
      "Classification Report at Epoch 2040:\n",
      "                  precision    recall  f1-score   support\n",
      "\n",
      "    infringement       0.75      0.64      0.69       195\n",
      "non_infringement       0.67      0.77      0.72       186\n",
      "\n",
      "        accuracy                           0.71       381\n",
      "       macro avg       0.71      0.71      0.71       381\n",
      "    weighted avg       0.71      0.71      0.70       381\n",
      "\n"
     ]
    },
    {
     "name": "stderr",
     "output_type": "stream",
     "text": [
      "Training Epochs:  82%|████████▏ | 2054/2500 [04:49<00:18, 23.66it/s]"
     ]
    },
    {
     "name": "stdout",
     "output_type": "stream",
     "text": [
      "Epoch 2050/2500, Loss: 0.1034\n",
      "Test Accuracy at Epoch 2050: 70.60%\n",
      "Test F1-score at Epoch 2050: 0.7200\n",
      "Classification Report at Epoch 2050:\n",
      "                  precision    recall  f1-score   support\n",
      "\n",
      "    infringement       0.75      0.64      0.69       195\n",
      "non_infringement       0.67      0.77      0.72       186\n",
      "\n",
      "        accuracy                           0.71       381\n",
      "       macro avg       0.71      0.71      0.71       381\n",
      "    weighted avg       0.71      0.71      0.70       381\n",
      "\n"
     ]
    },
    {
     "name": "stderr",
     "output_type": "stream",
     "text": [
      "Training Epochs:  82%|████████▏ | 2058/2500 [04:49<00:25, 17.01it/s]"
     ]
    },
    {
     "name": "stdout",
     "output_type": "stream",
     "text": [
      "Epoch 2060/2500, Loss: 0.0987\n",
      "Test Accuracy at Epoch 2060: 70.60%\n",
      "Test F1-score at Epoch 2060: 0.7214\n",
      "Classification Report at Epoch 2060:\n",
      "                  precision    recall  f1-score   support\n",
      "\n",
      "    infringement       0.75      0.64      0.69       195\n",
      "non_infringement       0.67      0.78      0.72       186\n",
      "\n",
      "        accuracy                           0.71       381\n",
      "       macro avg       0.71      0.71      0.71       381\n",
      "    weighted avg       0.71      0.71      0.70       381\n",
      "\n"
     ]
    },
    {
     "name": "stderr",
     "output_type": "stream",
     "text": [
      "Training Epochs:  83%|████████▎ | 2070/2500 [04:54<02:12,  3.25it/s]"
     ]
    },
    {
     "name": "stdout",
     "output_type": "stream",
     "text": [
      "Epoch 2070/2500, Loss: 0.0992\n",
      "Test Accuracy at Epoch 2070: 70.60%\n",
      "Test F1-score at Epoch 2070: 0.7200\n",
      "Classification Report at Epoch 2070:\n",
      "                  precision    recall  f1-score   support\n",
      "\n",
      "    infringement       0.75      0.64      0.69       195\n",
      "non_infringement       0.67      0.77      0.72       186\n",
      "\n",
      "        accuracy                           0.71       381\n",
      "       macro avg       0.71      0.71      0.71       381\n",
      "    weighted avg       0.71      0.71      0.70       381\n",
      "\n"
     ]
    },
    {
     "name": "stderr",
     "output_type": "stream",
     "text": [
      "Training Epochs:  83%|████████▎ | 2082/2500 [04:55<00:45,  9.12it/s]"
     ]
    },
    {
     "name": "stdout",
     "output_type": "stream",
     "text": [
      "Epoch 2080/2500, Loss: 0.1001\n",
      "Test Accuracy at Epoch 2080: 70.60%\n",
      "Test F1-score at Epoch 2080: 0.7200\n",
      "Classification Report at Epoch 2080:\n",
      "                  precision    recall  f1-score   support\n",
      "\n",
      "    infringement       0.75      0.64      0.69       195\n",
      "non_infringement       0.67      0.77      0.72       186\n",
      "\n",
      "        accuracy                           0.71       381\n",
      "       macro avg       0.71      0.71      0.71       381\n",
      "    weighted avg       0.71      0.71      0.70       381\n",
      "\n"
     ]
    },
    {
     "name": "stderr",
     "output_type": "stream",
     "text": [
      "Training Epochs:  84%|████████▎ | 2093/2500 [04:56<00:27, 14.78it/s]"
     ]
    },
    {
     "name": "stdout",
     "output_type": "stream",
     "text": [
      "Epoch 2090/2500, Loss: 0.0976\n",
      "Test Accuracy at Epoch 2090: 70.34%\n",
      "Test F1-score at Epoch 2090: 0.7196\n",
      "Classification Report at Epoch 2090:\n",
      "                  precision    recall  f1-score   support\n",
      "\n",
      "    infringement       0.75      0.63      0.69       195\n",
      "non_infringement       0.67      0.78      0.72       186\n",
      "\n",
      "        accuracy                           0.70       381\n",
      "       macro avg       0.71      0.71      0.70       381\n",
      "    weighted avg       0.71      0.70      0.70       381\n",
      "\n"
     ]
    },
    {
     "name": "stderr",
     "output_type": "stream",
     "text": [
      "Training Epochs:  84%|████████▍ | 2100/2500 [04:56<00:20, 19.86it/s]"
     ]
    },
    {
     "name": "stdout",
     "output_type": "stream",
     "text": [
      "Epoch 2100/2500, Loss: 0.1066\n",
      "Test Accuracy at Epoch 2100: 70.08%\n",
      "Test F1-score at Epoch 2100: 0.7136\n",
      "Classification Report at Epoch 2100:\n",
      "                  precision    recall  f1-score   support\n",
      "\n",
      "    infringement       0.74      0.64      0.69       195\n",
      "non_infringement       0.67      0.76      0.71       186\n",
      "\n",
      "        accuracy                           0.70       381\n",
      "       macro avg       0.70      0.70      0.70       381\n",
      "    weighted avg       0.71      0.70      0.70       381\n",
      "\n"
     ]
    },
    {
     "name": "stderr",
     "output_type": "stream",
     "text": [
      "Training Epochs:  84%|████████▍ | 2109/2500 [04:58<00:37, 10.52it/s]"
     ]
    },
    {
     "name": "stdout",
     "output_type": "stream",
     "text": [
      "Epoch 2110/2500, Loss: 0.0994\n",
      "Test Accuracy at Epoch 2110: 70.60%\n",
      "Test F1-score at Epoch 2110: 0.7214\n",
      "Classification Report at Epoch 2110:\n",
      "                  precision    recall  f1-score   support\n",
      "\n",
      "    infringement       0.75      0.64      0.69       195\n",
      "non_infringement       0.67      0.78      0.72       186\n",
      "\n",
      "        accuracy                           0.71       381\n",
      "       macro avg       0.71      0.71      0.71       381\n",
      "    weighted avg       0.71      0.71      0.70       381\n",
      "\n"
     ]
    },
    {
     "name": "stderr",
     "output_type": "stream",
     "text": [
      "Training Epochs:  85%|████████▍ | 2123/2500 [05:00<00:34, 10.79it/s]"
     ]
    },
    {
     "name": "stdout",
     "output_type": "stream",
     "text": [
      "Epoch 2120/2500, Loss: 0.0983\n",
      "Test Accuracy at Epoch 2120: 70.34%\n",
      "Test F1-score at Epoch 2120: 0.7196\n",
      "Classification Report at Epoch 2120:\n",
      "                  precision    recall  f1-score   support\n",
      "\n",
      "    infringement       0.75      0.63      0.69       195\n",
      "non_infringement       0.67      0.78      0.72       186\n",
      "\n",
      "        accuracy                           0.70       381\n",
      "       macro avg       0.71      0.71      0.70       381\n",
      "    weighted avg       0.71      0.70      0.70       381\n",
      "\n"
     ]
    },
    {
     "name": "stderr",
     "output_type": "stream",
     "text": [
      "Training Epochs:  85%|████████▌ | 2130/2500 [05:00<00:21, 16.92it/s]"
     ]
    },
    {
     "name": "stdout",
     "output_type": "stream",
     "text": [
      "Epoch 2130/2500, Loss: 0.0997\n",
      "Test Accuracy at Epoch 2130: 70.08%\n",
      "Test F1-score at Epoch 2130: 0.7136\n",
      "Classification Report at Epoch 2130:\n",
      "                  precision    recall  f1-score   support\n",
      "\n",
      "    infringement       0.74      0.64      0.69       195\n",
      "non_infringement       0.67      0.76      0.71       186\n",
      "\n",
      "        accuracy                           0.70       381\n",
      "       macro avg       0.70      0.70      0.70       381\n",
      "    weighted avg       0.71      0.70      0.70       381\n",
      "\n"
     ]
    },
    {
     "name": "stderr",
     "output_type": "stream",
     "text": [
      "Training Epochs:  86%|████████▌ | 2141/2500 [05:02<00:33, 10.72it/s]"
     ]
    },
    {
     "name": "stdout",
     "output_type": "stream",
     "text": [
      "Epoch 2140/2500, Loss: 0.0986\n",
      "Test Accuracy at Epoch 2140: 70.08%\n",
      "Test F1-score at Epoch 2140: 0.7178\n",
      "Classification Report at Epoch 2140:\n",
      "                  precision    recall  f1-score   support\n",
      "\n",
      "    infringement       0.75      0.63      0.68       195\n",
      "non_infringement       0.67      0.78      0.72       186\n",
      "\n",
      "        accuracy                           0.70       381\n",
      "       macro avg       0.71      0.70      0.70       381\n",
      "    weighted avg       0.71      0.70      0.70       381\n",
      "\n"
     ]
    },
    {
     "name": "stderr",
     "output_type": "stream",
     "text": [
      "Training Epochs:  86%|████████▌ | 2149/2500 [05:02<00:25, 13.55it/s]"
     ]
    },
    {
     "name": "stdout",
     "output_type": "stream",
     "text": [
      "Epoch 2150/2500, Loss: 0.0977\n",
      "Test Accuracy at Epoch 2150: 70.60%\n",
      "Test F1-score at Epoch 2150: 0.7214\n",
      "Classification Report at Epoch 2150:\n",
      "                  precision    recall  f1-score   support\n",
      "\n",
      "    infringement       0.75      0.64      0.69       195\n",
      "non_infringement       0.67      0.78      0.72       186\n",
      "\n",
      "        accuracy                           0.71       381\n",
      "       macro avg       0.71      0.71      0.71       381\n",
      "    weighted avg       0.71      0.71      0.70       381\n",
      "\n"
     ]
    },
    {
     "name": "stderr",
     "output_type": "stream",
     "text": [
      "Training Epochs:  87%|████████▋ | 2164/2500 [05:04<00:27, 12.11it/s]"
     ]
    },
    {
     "name": "stdout",
     "output_type": "stream",
     "text": [
      "Epoch 2160/2500, Loss: 0.1006\n",
      "Test Accuracy at Epoch 2160: 70.08%\n",
      "Test F1-score at Epoch 2160: 0.7178\n",
      "Classification Report at Epoch 2160:\n",
      "                  precision    recall  f1-score   support\n",
      "\n",
      "    infringement       0.75      0.63      0.68       195\n",
      "non_infringement       0.67      0.78      0.72       186\n",
      "\n",
      "        accuracy                           0.70       381\n",
      "       macro avg       0.71      0.70      0.70       381\n",
      "    weighted avg       0.71      0.70      0.70       381\n",
      "\n"
     ]
    },
    {
     "name": "stderr",
     "output_type": "stream",
     "text": [
      "Training Epochs:  87%|████████▋ | 2170/2500 [05:05<00:20, 16.12it/s]"
     ]
    },
    {
     "name": "stdout",
     "output_type": "stream",
     "text": [
      "Epoch 2170/2500, Loss: 0.0989\n",
      "Test Accuracy at Epoch 2170: 70.60%\n",
      "Test F1-score at Epoch 2170: 0.7200\n",
      "Classification Report at Epoch 2170:\n",
      "                  precision    recall  f1-score   support\n",
      "\n",
      "    infringement       0.75      0.64      0.69       195\n",
      "non_infringement       0.67      0.77      0.72       186\n",
      "\n",
      "        accuracy                           0.71       381\n",
      "       macro avg       0.71      0.71      0.71       381\n",
      "    weighted avg       0.71      0.71      0.70       381\n",
      "\n"
     ]
    },
    {
     "name": "stderr",
     "output_type": "stream",
     "text": [
      "Training Epochs:  87%|████████▋ | 2181/2500 [05:08<01:02,  5.11it/s]"
     ]
    },
    {
     "name": "stdout",
     "output_type": "stream",
     "text": [
      "Epoch 2180/2500, Loss: 0.0979\n",
      "Test Accuracy at Epoch 2180: 70.34%\n",
      "Test F1-score at Epoch 2180: 0.7182\n",
      "Classification Report at Epoch 2180:\n",
      "                  precision    recall  f1-score   support\n",
      "\n",
      "    infringement       0.75      0.64      0.69       195\n",
      "non_infringement       0.67      0.77      0.72       186\n",
      "\n",
      "        accuracy                           0.70       381\n",
      "       macro avg       0.71      0.71      0.70       381\n",
      "    weighted avg       0.71      0.70      0.70       381\n",
      "\n"
     ]
    },
    {
     "name": "stderr",
     "output_type": "stream",
     "text": [
      "Training Epochs:  88%|████████▊ | 2191/2500 [05:09<00:23, 13.34it/s]"
     ]
    },
    {
     "name": "stdout",
     "output_type": "stream",
     "text": [
      "Epoch 2190/2500, Loss: 0.1035\n",
      "Test Accuracy at Epoch 2190: 69.82%\n",
      "Test F1-score at Epoch 2190: 0.7103\n",
      "Classification Report at Epoch 2190:\n",
      "                  precision    recall  f1-score   support\n",
      "\n",
      "    infringement       0.74      0.64      0.68       195\n",
      "non_infringement       0.67      0.76      0.71       186\n",
      "\n",
      "        accuracy                           0.70       381\n",
      "       macro avg       0.70      0.70      0.70       381\n",
      "    weighted avg       0.70      0.70      0.70       381\n",
      "\n"
     ]
    },
    {
     "name": "stderr",
     "output_type": "stream",
     "text": [
      "Training Epochs:  88%|████████▊ | 2201/2500 [05:09<00:11, 25.81it/s]"
     ]
    },
    {
     "name": "stdout",
     "output_type": "stream",
     "text": [
      "Epoch 2200/2500, Loss: 0.1008\n",
      "Test Accuracy at Epoch 2200: 70.08%\n",
      "Test F1-score at Epoch 2200: 0.7178\n",
      "Classification Report at Epoch 2200:\n",
      "                  precision    recall  f1-score   support\n",
      "\n",
      "    infringement       0.75      0.63      0.68       195\n",
      "non_infringement       0.67      0.78      0.72       186\n",
      "\n",
      "        accuracy                           0.70       381\n",
      "       macro avg       0.71      0.70      0.70       381\n",
      "    weighted avg       0.71      0.70      0.70       381\n",
      "\n"
     ]
    },
    {
     "name": "stderr",
     "output_type": "stream",
     "text": [
      "Training Epochs:  88%|████████▊ | 2207/2500 [05:09<00:10, 27.80it/s]"
     ]
    },
    {
     "name": "stdout",
     "output_type": "stream",
     "text": [
      "Epoch 2210/2500, Loss: 0.0981\n",
      "Test Accuracy at Epoch 2210: 70.08%\n",
      "Test F1-score at Epoch 2210: 0.7178\n",
      "Classification Report at Epoch 2210:\n",
      "                  precision    recall  f1-score   support\n",
      "\n",
      "    infringement       0.75      0.63      0.68       195\n",
      "non_infringement       0.67      0.78      0.72       186\n",
      "\n",
      "        accuracy                           0.70       381\n",
      "       macro avg       0.71      0.70      0.70       381\n",
      "    weighted avg       0.71      0.70      0.70       381\n",
      "\n"
     ]
    },
    {
     "name": "stderr",
     "output_type": "stream",
     "text": [
      "Training Epochs:  89%|████████▉ | 2220/2500 [05:14<01:01,  4.55it/s]"
     ]
    },
    {
     "name": "stdout",
     "output_type": "stream",
     "text": [
      "Epoch 2220/2500, Loss: 0.0977\n",
      "Test Accuracy at Epoch 2220: 70.08%\n",
      "Test F1-score at Epoch 2220: 0.7150\n",
      "Classification Report at Epoch 2220:\n",
      "                  precision    recall  f1-score   support\n",
      "\n",
      "    infringement       0.74      0.64      0.69       195\n",
      "non_infringement       0.67      0.77      0.71       186\n",
      "\n",
      "        accuracy                           0.70       381\n",
      "       macro avg       0.71      0.70      0.70       381\n",
      "    weighted avg       0.71      0.70      0.70       381\n",
      "\n"
     ]
    },
    {
     "name": "stderr",
     "output_type": "stream",
     "text": [
      "Training Epochs:  89%|████████▉ | 2230/2500 [05:15<01:01,  4.41it/s]"
     ]
    },
    {
     "name": "stdout",
     "output_type": "stream",
     "text": [
      "Epoch 2230/2500, Loss: 0.0983\n",
      "Test Accuracy at Epoch 2230: 70.34%\n",
      "Test F1-score at Epoch 2230: 0.7168\n",
      "Classification Report at Epoch 2230:\n",
      "                  precision    recall  f1-score   support\n",
      "\n",
      "    infringement       0.74      0.64      0.69       195\n",
      "non_infringement       0.67      0.77      0.72       186\n",
      "\n",
      "        accuracy                           0.70       381\n",
      "       macro avg       0.71      0.70      0.70       381\n",
      "    weighted avg       0.71      0.70      0.70       381\n",
      "\n"
     ]
    },
    {
     "name": "stderr",
     "output_type": "stream",
     "text": [
      "Training Epochs:  90%|████████▉ | 2239/2500 [05:16<00:27,  9.60it/s]"
     ]
    },
    {
     "name": "stdout",
     "output_type": "stream",
     "text": [
      "Epoch 2240/2500, Loss: 0.1058\n",
      "Test Accuracy at Epoch 2240: 69.82%\n",
      "Test F1-score at Epoch 2240: 0.7103\n",
      "Classification Report at Epoch 2240:\n",
      "                  precision    recall  f1-score   support\n",
      "\n",
      "    infringement       0.74      0.64      0.68       195\n",
      "non_infringement       0.67      0.76      0.71       186\n",
      "\n",
      "        accuracy                           0.70       381\n",
      "       macro avg       0.70      0.70      0.70       381\n",
      "    weighted avg       0.70      0.70      0.70       381\n",
      "\n"
     ]
    },
    {
     "name": "stderr",
     "output_type": "stream",
     "text": [
      "Training Epochs:  90%|█████████ | 2250/2500 [05:18<00:50,  4.98it/s]"
     ]
    },
    {
     "name": "stdout",
     "output_type": "stream",
     "text": [
      "Epoch 2250/2500, Loss: 0.0982\n",
      "Test Accuracy at Epoch 2250: 70.34%\n",
      "Test F1-score at Epoch 2250: 0.7168\n",
      "Classification Report at Epoch 2250:\n",
      "                  precision    recall  f1-score   support\n",
      "\n",
      "    infringement       0.74      0.64      0.69       195\n",
      "non_infringement       0.67      0.77      0.72       186\n",
      "\n",
      "        accuracy                           0.70       381\n",
      "       macro avg       0.71      0.70      0.70       381\n",
      "    weighted avg       0.71      0.70      0.70       381\n",
      "\n"
     ]
    },
    {
     "name": "stderr",
     "output_type": "stream",
     "text": [
      "Training Epochs:  90%|█████████ | 2261/2500 [05:22<00:43,  5.47it/s]"
     ]
    },
    {
     "name": "stdout",
     "output_type": "stream",
     "text": [
      "Epoch 2260/2500, Loss: 0.1011\n",
      "Test Accuracy at Epoch 2260: 69.82%\n",
      "Test F1-score at Epoch 2260: 0.7146\n",
      "Classification Report at Epoch 2260:\n",
      "                  precision    recall  f1-score   support\n",
      "\n",
      "    infringement       0.74      0.63      0.68       195\n",
      "non_infringement       0.66      0.77      0.71       186\n",
      "\n",
      "        accuracy                           0.70       381\n",
      "       macro avg       0.70      0.70      0.70       381\n",
      "    weighted avg       0.70      0.70      0.70       381\n",
      "\n"
     ]
    },
    {
     "name": "stderr",
     "output_type": "stream",
     "text": [
      "Training Epochs:  91%|█████████ | 2272/2500 [05:23<00:22, 10.15it/s]"
     ]
    },
    {
     "name": "stdout",
     "output_type": "stream",
     "text": [
      "Epoch 2270/2500, Loss: 0.0976\n",
      "Test Accuracy at Epoch 2270: 69.82%\n",
      "Test F1-score at Epoch 2270: 0.7118\n",
      "Classification Report at Epoch 2270:\n",
      "                  precision    recall  f1-score   support\n",
      "\n",
      "    infringement       0.74      0.64      0.68       195\n",
      "non_infringement       0.67      0.76      0.71       186\n",
      "\n",
      "        accuracy                           0.70       381\n",
      "       macro avg       0.70      0.70      0.70       381\n",
      "    weighted avg       0.70      0.70      0.70       381\n",
      "\n"
     ]
    },
    {
     "name": "stderr",
     "output_type": "stream",
     "text": [
      "Training Epochs:  91%|█████████▏| 2282/2500 [05:23<00:11, 18.96it/s]"
     ]
    },
    {
     "name": "stdout",
     "output_type": "stream",
     "text": [
      "Epoch 2280/2500, Loss: 0.0981\n",
      "Test Accuracy at Epoch 2280: 69.55%\n",
      "Test F1-score at Epoch 2280: 0.7114\n",
      "Classification Report at Epoch 2280:\n",
      "                  precision    recall  f1-score   support\n",
      "\n",
      "    infringement       0.74      0.63      0.68       195\n",
      "non_infringement       0.66      0.77      0.71       186\n",
      "\n",
      "        accuracy                           0.70       381\n",
      "       macro avg       0.70      0.70      0.69       381\n",
      "    weighted avg       0.70      0.70      0.69       381\n",
      "\n"
     ]
    },
    {
     "name": "stderr",
     "output_type": "stream",
     "text": [
      "Training Epochs:  92%|█████████▏| 2289/2500 [05:24<00:22,  9.32it/s]"
     ]
    },
    {
     "name": "stdout",
     "output_type": "stream",
     "text": [
      "Epoch 2290/2500, Loss: 0.0977\n",
      "Test Accuracy at Epoch 2290: 69.55%\n",
      "Test F1-score at Epoch 2290: 0.7114\n",
      "Classification Report at Epoch 2290:\n",
      "                  precision    recall  f1-score   support\n",
      "\n",
      "    infringement       0.74      0.63      0.68       195\n",
      "non_infringement       0.66      0.77      0.71       186\n",
      "\n",
      "        accuracy                           0.70       381\n",
      "       macro avg       0.70      0.70      0.69       381\n",
      "    weighted avg       0.70      0.70      0.69       381\n",
      "\n"
     ]
    },
    {
     "name": "stderr",
     "output_type": "stream",
     "text": [
      "Training Epochs:  92%|█████████▏| 2302/2500 [05:27<00:26,  7.57it/s]"
     ]
    },
    {
     "name": "stdout",
     "output_type": "stream",
     "text": [
      "Epoch 2300/2500, Loss: 0.0977\n",
      "Test Accuracy at Epoch 2300: 69.55%\n",
      "Test F1-score at Epoch 2300: 0.7100\n",
      "Classification Report at Epoch 2300:\n",
      "                  precision    recall  f1-score   support\n",
      "\n",
      "    infringement       0.74      0.63      0.68       195\n",
      "non_infringement       0.66      0.76      0.71       186\n",
      "\n",
      "        accuracy                           0.70       381\n",
      "       macro avg       0.70      0.70      0.69       381\n",
      "    weighted avg       0.70      0.70      0.69       381\n",
      "\n"
     ]
    },
    {
     "name": "stderr",
     "output_type": "stream",
     "text": [
      "Training Epochs:  92%|█████████▏| 2309/2500 [05:28<00:16, 11.79it/s]"
     ]
    },
    {
     "name": "stdout",
     "output_type": "stream",
     "text": [
      "Epoch 2310/2500, Loss: 0.0982\n",
      "Test Accuracy at Epoch 2310: 70.08%\n",
      "Test F1-score at Epoch 2310: 0.7136\n",
      "Classification Report at Epoch 2310:\n",
      "                  precision    recall  f1-score   support\n",
      "\n",
      "    infringement       0.74      0.64      0.69       195\n",
      "non_infringement       0.67      0.76      0.71       186\n",
      "\n",
      "        accuracy                           0.70       381\n",
      "       macro avg       0.70      0.70      0.70       381\n",
      "    weighted avg       0.71      0.70      0.70       381\n",
      "\n"
     ]
    },
    {
     "name": "stderr",
     "output_type": "stream",
     "text": [
      "Training Epochs:  93%|█████████▎| 2321/2500 [05:29<00:15, 11.60it/s]"
     ]
    },
    {
     "name": "stdout",
     "output_type": "stream",
     "text": [
      "Epoch 2320/2500, Loss: 0.0983\n",
      "Test Accuracy at Epoch 2320: 69.55%\n",
      "Test F1-score at Epoch 2320: 0.7114\n",
      "Classification Report at Epoch 2320:\n",
      "                  precision    recall  f1-score   support\n",
      "\n",
      "    infringement       0.74      0.63      0.68       195\n",
      "non_infringement       0.66      0.77      0.71       186\n",
      "\n",
      "        accuracy                           0.70       381\n",
      "       macro avg       0.70      0.70      0.69       381\n",
      "    weighted avg       0.70      0.70      0.69       381\n",
      "\n"
     ]
    },
    {
     "name": "stderr",
     "output_type": "stream",
     "text": [
      "Training Epochs:  93%|█████████▎| 2330/2500 [05:29<00:10, 15.83it/s]"
     ]
    },
    {
     "name": "stdout",
     "output_type": "stream",
     "text": [
      "Epoch 2330/2500, Loss: 0.0974\n",
      "Test Accuracy at Epoch 2330: 70.08%\n",
      "Test F1-score at Epoch 2330: 0.7136\n",
      "Classification Report at Epoch 2330:\n",
      "                  precision    recall  f1-score   support\n",
      "\n",
      "    infringement       0.74      0.64      0.69       195\n",
      "non_infringement       0.67      0.76      0.71       186\n",
      "\n",
      "        accuracy                           0.70       381\n",
      "       macro avg       0.70      0.70      0.70       381\n",
      "    weighted avg       0.71      0.70      0.70       381\n",
      "\n"
     ]
    },
    {
     "name": "stderr",
     "output_type": "stream",
     "text": [
      "Training Epochs:  94%|█████████▎| 2339/2500 [05:31<00:20,  7.67it/s]"
     ]
    },
    {
     "name": "stdout",
     "output_type": "stream",
     "text": [
      "Epoch 2340/2500, Loss: 0.0993\n",
      "Test Accuracy at Epoch 2340: 70.08%\n",
      "Test F1-score at Epoch 2340: 0.7136\n",
      "Classification Report at Epoch 2340:\n",
      "                  precision    recall  f1-score   support\n",
      "\n",
      "    infringement       0.74      0.64      0.69       195\n",
      "non_infringement       0.67      0.76      0.71       186\n",
      "\n",
      "        accuracy                           0.70       381\n",
      "       macro avg       0.70      0.70      0.70       381\n",
      "    weighted avg       0.71      0.70      0.70       381\n",
      "\n"
     ]
    },
    {
     "name": "stderr",
     "output_type": "stream",
     "text": [
      "Training Epochs:  94%|█████████▍| 2351/2500 [05:33<00:22,  6.70it/s]"
     ]
    },
    {
     "name": "stdout",
     "output_type": "stream",
     "text": [
      "Epoch 2350/2500, Loss: 0.0992\n",
      "Test Accuracy at Epoch 2350: 70.34%\n",
      "Test F1-score at Epoch 2350: 0.7154\n",
      "Classification Report at Epoch 2350:\n",
      "                  precision    recall  f1-score   support\n",
      "\n",
      "    infringement       0.74      0.65      0.69       195\n",
      "non_infringement       0.67      0.76      0.72       186\n",
      "\n",
      "        accuracy                           0.70       381\n",
      "       macro avg       0.71      0.70      0.70       381\n",
      "    weighted avg       0.71      0.70      0.70       381\n",
      "\n"
     ]
    },
    {
     "name": "stderr",
     "output_type": "stream",
     "text": [
      "Training Epochs:  94%|█████████▍| 2360/2500 [05:34<00:17,  8.01it/s]"
     ]
    },
    {
     "name": "stdout",
     "output_type": "stream",
     "text": [
      "Epoch 2360/2500, Loss: 0.1000\n",
      "Test Accuracy at Epoch 2360: 69.29%\n",
      "Test F1-score at Epoch 2360: 0.7023\n",
      "Classification Report at Epoch 2360:\n",
      "                  precision    recall  f1-score   support\n",
      "\n",
      "    infringement       0.72      0.65      0.68       195\n",
      "non_infringement       0.67      0.74      0.70       186\n",
      "\n",
      "        accuracy                           0.69       381\n",
      "       macro avg       0.70      0.69      0.69       381\n",
      "    weighted avg       0.70      0.69      0.69       381\n",
      "\n"
     ]
    },
    {
     "name": "stderr",
     "output_type": "stream",
     "text": [
      "Training Epochs:  95%|█████████▍| 2373/2500 [05:37<00:12, 10.22it/s]"
     ]
    },
    {
     "name": "stdout",
     "output_type": "stream",
     "text": [
      "Epoch 2370/2500, Loss: 0.1009\n",
      "Test Accuracy at Epoch 2370: 69.82%\n",
      "Test F1-score at Epoch 2370: 0.7132\n",
      "Classification Report at Epoch 2370:\n",
      "                  precision    recall  f1-score   support\n",
      "\n",
      "    infringement       0.74      0.63      0.68       195\n",
      "non_infringement       0.67      0.77      0.71       186\n",
      "\n",
      "        accuracy                           0.70       381\n",
      "       macro avg       0.70      0.70      0.70       381\n",
      "    weighted avg       0.70      0.70      0.70       381\n",
      "\n"
     ]
    },
    {
     "name": "stderr",
     "output_type": "stream",
     "text": [
      "Training Epochs:  95%|█████████▌| 2383/2500 [05:37<00:05, 21.59it/s]"
     ]
    },
    {
     "name": "stdout",
     "output_type": "stream",
     "text": [
      "Epoch 2380/2500, Loss: 0.0993\n",
      "Test Accuracy at Epoch 2380: 69.82%\n",
      "Test F1-score at Epoch 2380: 0.7146\n",
      "Classification Report at Epoch 2380:\n",
      "                  precision    recall  f1-score   support\n",
      "\n",
      "    infringement       0.74      0.63      0.68       195\n",
      "non_infringement       0.66      0.77      0.71       186\n",
      "\n",
      "        accuracy                           0.70       381\n",
      "       macro avg       0.70      0.70      0.70       381\n",
      "    weighted avg       0.70      0.70      0.70       381\n",
      "\n"
     ]
    },
    {
     "name": "stderr",
     "output_type": "stream",
     "text": [
      "Training Epochs:  96%|█████████▌| 2400/2500 [05:37<00:02, 39.12it/s]"
     ]
    },
    {
     "name": "stdout",
     "output_type": "stream",
     "text": [
      "Epoch 2390/2500, Loss: 0.0987\n",
      "Test Accuracy at Epoch 2390: 70.08%\n",
      "Test F1-score at Epoch 2390: 0.7136\n",
      "Classification Report at Epoch 2390:\n",
      "                  precision    recall  f1-score   support\n",
      "\n",
      "    infringement       0.74      0.64      0.69       195\n",
      "non_infringement       0.67      0.76      0.71       186\n",
      "\n",
      "        accuracy                           0.70       381\n",
      "       macro avg       0.70      0.70      0.70       381\n",
      "    weighted avg       0.71      0.70      0.70       381\n",
      "\n",
      "Epoch 2400/2500, Loss: 0.0972\n",
      "Test Accuracy at Epoch 2400: 70.08%\n",
      "Test F1-score at Epoch 2400: 0.7136\n",
      "Classification Report at Epoch 2400:\n",
      "                  precision    recall  f1-score   support\n",
      "\n",
      "    infringement       0.74      0.64      0.69       195\n",
      "non_infringement       0.67      0.76      0.71       186\n",
      "\n",
      "        accuracy                           0.70       381\n",
      "       macro avg       0.70      0.70      0.70       381\n",
      "    weighted avg       0.71      0.70      0.70       381\n",
      "\n"
     ]
    },
    {
     "name": "stderr",
     "output_type": "stream",
     "text": [
      "Training Epochs:  96%|█████████▋| 2409/2500 [05:41<00:17,  5.12it/s]"
     ]
    },
    {
     "name": "stdout",
     "output_type": "stream",
     "text": [
      "Epoch 2410/2500, Loss: 0.0989\n",
      "Test Accuracy at Epoch 2410: 70.08%\n",
      "Test F1-score at Epoch 2410: 0.7136\n",
      "Classification Report at Epoch 2410:\n",
      "                  precision    recall  f1-score   support\n",
      "\n",
      "    infringement       0.74      0.64      0.69       195\n",
      "non_infringement       0.67      0.76      0.71       186\n",
      "\n",
      "        accuracy                           0.70       381\n",
      "       macro avg       0.70      0.70      0.70       381\n",
      "    weighted avg       0.71      0.70      0.70       381\n",
      "\n"
     ]
    },
    {
     "name": "stderr",
     "output_type": "stream",
     "text": [
      "Training Epochs:  97%|█████████▋| 2421/2500 [05:42<00:09,  8.35it/s]"
     ]
    },
    {
     "name": "stdout",
     "output_type": "stream",
     "text": [
      "Epoch 2420/2500, Loss: 0.0970\n",
      "Test Accuracy at Epoch 2420: 69.29%\n",
      "Test F1-score at Epoch 2420: 0.7082\n",
      "Classification Report at Epoch 2420:\n",
      "                  precision    recall  f1-score   support\n",
      "\n",
      "    infringement       0.73      0.63      0.68       195\n",
      "non_infringement       0.66      0.76      0.71       186\n",
      "\n",
      "        accuracy                           0.69       381\n",
      "       macro avg       0.70      0.69      0.69       381\n",
      "    weighted avg       0.70      0.69      0.69       381\n",
      "\n"
     ]
    },
    {
     "name": "stderr",
     "output_type": "stream",
     "text": [
      "Training Epochs:  98%|█████████▊| 2438/2500 [05:43<00:04, 12.47it/s]"
     ]
    },
    {
     "name": "stdout",
     "output_type": "stream",
     "text": [
      "Epoch 2430/2500, Loss: 0.0970\n",
      "Test Accuracy at Epoch 2430: 70.08%\n",
      "Test F1-score at Epoch 2430: 0.7136\n",
      "Classification Report at Epoch 2430:\n",
      "                  precision    recall  f1-score   support\n",
      "\n",
      "    infringement       0.74      0.64      0.69       195\n",
      "non_infringement       0.67      0.76      0.71       186\n",
      "\n",
      "        accuracy                           0.70       381\n",
      "       macro avg       0.70      0.70      0.70       381\n",
      "    weighted avg       0.71      0.70      0.70       381\n",
      "\n"
     ]
    },
    {
     "name": "stderr",
     "output_type": "stream",
     "text": [
      "Training Epochs:  98%|█████████▊| 2441/2500 [05:44<00:04, 14.02it/s]"
     ]
    },
    {
     "name": "stdout",
     "output_type": "stream",
     "text": [
      "Epoch 2440/2500, Loss: 0.0976\n",
      "Test Accuracy at Epoch 2440: 69.55%\n",
      "Test F1-score at Epoch 2440: 0.7114\n",
      "Classification Report at Epoch 2440:\n",
      "                  precision    recall  f1-score   support\n",
      "\n",
      "    infringement       0.74      0.63      0.68       195\n",
      "non_infringement       0.66      0.77      0.71       186\n",
      "\n",
      "        accuracy                           0.70       381\n",
      "       macro avg       0.70      0.70      0.69       381\n",
      "    weighted avg       0.70      0.70      0.69       381\n",
      "\n"
     ]
    },
    {
     "name": "stderr",
     "output_type": "stream",
     "text": [
      "Training Epochs:  98%|█████████▊| 2450/2500 [05:45<00:05,  8.54it/s]"
     ]
    },
    {
     "name": "stdout",
     "output_type": "stream",
     "text": [
      "Epoch 2450/2500, Loss: 0.0976\n",
      "Test Accuracy at Epoch 2450: 70.08%\n",
      "Test F1-score at Epoch 2450: 0.7150\n",
      "Classification Report at Epoch 2450:\n",
      "                  precision    recall  f1-score   support\n",
      "\n",
      "    infringement       0.74      0.64      0.69       195\n",
      "non_infringement       0.67      0.77      0.71       186\n",
      "\n",
      "        accuracy                           0.70       381\n",
      "       macro avg       0.71      0.70      0.70       381\n",
      "    weighted avg       0.71      0.70      0.70       381\n",
      "\n"
     ]
    },
    {
     "name": "stderr",
     "output_type": "stream",
     "text": [
      "Training Epochs:  99%|█████████▊| 2463/2500 [05:46<00:03, 11.32it/s]"
     ]
    },
    {
     "name": "stdout",
     "output_type": "stream",
     "text": [
      "Epoch 2460/2500, Loss: 0.1020\n",
      "Test Accuracy at Epoch 2460: 69.55%\n",
      "Test F1-score at Epoch 2460: 0.7129\n",
      "Classification Report at Epoch 2460:\n",
      "                  precision    recall  f1-score   support\n",
      "\n",
      "    infringement       0.74      0.62      0.68       195\n",
      "non_infringement       0.66      0.77      0.71       186\n",
      "\n",
      "        accuracy                           0.70       381\n",
      "       macro avg       0.70      0.70      0.69       381\n",
      "    weighted avg       0.70      0.70      0.69       381\n",
      "\n"
     ]
    },
    {
     "name": "stderr",
     "output_type": "stream",
     "text": [
      "Training Epochs:  99%|█████████▉| 2480/2500 [05:46<00:00, 30.22it/s]"
     ]
    },
    {
     "name": "stdout",
     "output_type": "stream",
     "text": [
      "Epoch 2470/2500, Loss: 0.1041\n",
      "Test Accuracy at Epoch 2470: 68.77%\n",
      "Test F1-score at Epoch 2470: 0.7003\n",
      "Classification Report at Epoch 2470:\n",
      "                  precision    recall  f1-score   support\n",
      "\n",
      "    infringement       0.72      0.63      0.67       195\n",
      "non_infringement       0.66      0.75      0.70       186\n",
      "\n",
      "        accuracy                           0.69       381\n",
      "       macro avg       0.69      0.69      0.69       381\n",
      "    weighted avg       0.69      0.69      0.69       381\n",
      "\n",
      "Epoch 2480/2500, Loss: 0.1059\n",
      "Test Accuracy at Epoch 2480: 69.29%\n",
      "Test F1-score at Epoch 2480: 0.7053\n",
      "Classification Report at Epoch 2480:\n",
      "                  precision    recall  f1-score   support\n",
      "\n",
      "    infringement       0.73      0.64      0.68       195\n",
      "non_infringement       0.66      0.75      0.71       186\n",
      "\n",
      "        accuracy                           0.69       381\n",
      "       macro avg       0.70      0.69      0.69       381\n",
      "    weighted avg       0.70      0.69      0.69       381\n",
      "\n"
     ]
    },
    {
     "name": "stderr",
     "output_type": "stream",
     "text": [
      "Training Epochs: 100%|█████████▉| 2489/2500 [05:49<00:01,  6.34it/s]"
     ]
    },
    {
     "name": "stdout",
     "output_type": "stream",
     "text": [
      "Epoch 2490/2500, Loss: 0.0991\n",
      "Test Accuracy at Epoch 2490: 69.82%\n",
      "Test F1-score at Epoch 2490: 0.7132\n",
      "Classification Report at Epoch 2490:\n",
      "                  precision    recall  f1-score   support\n",
      "\n",
      "    infringement       0.74      0.63      0.68       195\n",
      "non_infringement       0.67      0.77      0.71       186\n",
      "\n",
      "        accuracy                           0.70       381\n",
      "       macro avg       0.70      0.70      0.70       381\n",
      "    weighted avg       0.70      0.70      0.70       381\n",
      "\n"
     ]
    },
    {
     "name": "stderr",
     "output_type": "stream",
     "text": [
      "Training Epochs: 100%|██████████| 2500/2500 [05:51<00:00,  7.10it/s]\n",
      "/tmp/ipykernel_486172/2175062796.py:55: FutureWarning: You are using `torch.load` with `weights_only=False` (the current default value), which uses the default pickle module implicitly. It is possible to construct malicious pickle data which will execute arbitrary code during unpickling (See https://github.com/pytorch/pytorch/blob/main/SECURITY.md#untrusted-models for more details). In a future release, the default value for `weights_only` will be flipped to `True`. This limits the functions that could be executed during unpickling. Arbitrary objects will no longer be allowed to be loaded via this mode unless they are explicitly allowlisted by the user via `torch.serialization.add_safe_globals`. We recommend you start setting `weights_only=True` for any use case where you don't have full control of the loaded file. Please open an issue on GitHub for any issues related to this experimental feature.\n",
      "  custom_mlp.load_state_dict(torch.load(checkpoint_path))\n"
     ]
    },
    {
     "name": "stdout",
     "output_type": "stream",
     "text": [
      "Epoch 2500/2500, Loss: 0.0975\n",
      "Test Accuracy at Epoch 2500: 69.82%\n",
      "Test F1-score at Epoch 2500: 0.7118\n",
      "Classification Report at Epoch 2500:\n",
      "                  precision    recall  f1-score   support\n",
      "\n",
      "    infringement       0.74      0.64      0.68       195\n",
      "non_infringement       0.67      0.76      0.71       186\n",
      "\n",
      "        accuracy                           0.70       381\n",
      "       macro avg       0.70      0.70      0.70       381\n",
      "    weighted avg       0.70      0.70      0.70       381\n",
      "\n"
     ]
    },
    {
     "data": {
      "image/png": "[encoded data removed]",
      "text/plain": [
       "<Figure size 1000x500 with 1 Axes>"
      ]
     },
     "metadata": {},
     "output_type": "display_data"
    },
    {
     "name": "stdout",
     "output_type": "stream",
     "text": [
      "Best Model was saved at epoch 110 with F1-score 0.7338 and accuracy 70.87%\n"
     ]
    }
   ],
   "source": [
    "input_dim = X_train.shape[1]\n",
    "hidden_dim = 256\n",
    "\n",
    "custom_mlp, losses, best_accuracy, best_f1 = train_model(X_train, y_train, X_test, y_test, input_dim, hidden_dim)"
   ]
  },
  {
   "cell_type": "code",
   "execution_count": null,
   "metadata": {},
   "outputs": [
    {
     "name": "stdout",
     "output_type": "stream",
     "text": [
      "Checkpoint saved to '/home/guangwei/LLM-COPYRIGHT/copyright_newVersion/models/train_input_last_token.pth'.\n"
     ]
    }
   ],
   "source": [
    "def save_checkpoint(model, optimizer, epoch, loss, filepath):\n",
    "    checkpoint = {\n",
    "        'epoch': epoch + 1,\n",
    "        'model_state_dict': model.state_dict(),\n",
    "        'optimizer_state_dict': optimizer.state_dict(),\n",
    "        'loss': loss\n",
    "    }\n",
    "    torch.save(checkpoint, filepath)\n",
    "    print(f\"Checkpoint saved to '{filepath}'.\")\n",
    "\n",
    "save_checkpoint(custom_mlp, torch.optim.Adam(custom_mlp.parameters()), len(losses), losses[-1], checkpoint_file)"
   ]
  },
  {
   "cell_type": "code",
   "execution_count": null,
   "metadata": {},
   "outputs": [
    {
     "name": "stdout",
     "output_type": "stream",
     "text": [
      "Final Model Accuracy: 70.87%\n",
      "                  precision    recall  f1-score   support\n",
      "\n",
      "    infringement       0.78      0.60      0.68       195\n",
      "non_infringement       0.66      0.82      0.73       186\n",
      "\n",
      "        accuracy                           0.71       381\n",
      "       macro avg       0.72      0.71      0.71       381\n",
      "    weighted avg       0.72      0.71      0.71       381\n",
      "\n"
     ]
    },
    {
     "name": "stderr",
     "output_type": "stream",
     "text": [
      "/tmp/ipykernel_486172/3740627605.py:2: UserWarning: To copy construct from a tensor, it is recommended to use sourceTensor.clone().detach() or sourceTensor.clone().detach().requires_grad_(True), rather than torch.tensor(sourceTensor).\n",
      "  y_pred_final = (torch.sigmoid(torch.tensor(custom_mlp(torch.tensor(X_test, dtype=torch.float32)))) > 0.5).float().numpy()\n"
     ]
    },
    {
     "ename": "",
     "evalue": "",
     "output_type": "error",
     "traceback": [
      "\u001b[1;31mThe Kernel crashed while executing code in the current cell or a previous cell. \n",
      "\u001b[1;31mPlease review the code in the cell(s) to identify a possible cause of the failure. \n",
      "\u001b[1;31mClick <a href='https://aka.ms/vscodeJupyterKernelCrash'>here</a> for more info. \n",
      "\u001b[1;31mView Jupyter <a href='command:jupyter.viewOutput'>log</a> for further details."
     ]
    }
   ],
   "source": [
    "print(f\"Final Model Accuracy: {best_accuracy * 100:.2f}%\")\n",
    "y_pred_final = (torch.sigmoid(torch.tensor(custom_mlp(torch.tensor(X_test, dtype=torch.float32)))) > 0.5).float().numpy()\n",
    "print(classification_report(y_test, y_pred_final, target_names=[\"infringement\", \"non_infringement\"]))"
   ]
  }
 ],
 "metadata": {
  "kernelspec": {
   "display_name": "zdh",
   "language": "python",
   "name": "python3"
  },
  "language_info": {
   "codemirror_mode": {
    "name": "ipython",
    "version": 3
   },
   "file_extension": ".py",
   "mimetype": "text/x-python",
   "name": "python",
   "nbconvert_exporter": "python",
   "pygments_lexer": "ipython3",
   "version": "3.12.3"
  }
 },
 "nbformat": 4,
 "nbformat_minor": 2
}
