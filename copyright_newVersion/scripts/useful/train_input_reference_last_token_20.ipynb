{
 "cells": [
  {
   "cell_type": "code",
   "execution_count": 30,
   "metadata": {},
   "outputs": [],
   "source": [
    "# import packages & variables\n",
    "import argparse\n",
    "import torch\n",
    "import torch.nn as nn\n",
    "import numpy as np\n",
    "from sklearn.metrics import accuracy_score, classification_report\n",
    "import matplotlib.pyplot as plt\n",
    "from tqdm import tqdm\n",
    "from transformers import AutoTokenizer, AutoModelForCausalLM, AutoModel, AutoModelForSequenceClassification\n",
    "import json\n",
    "import os\n",
    "\n",
    "os.environ[\"CUDA_VISIBLE_DEVICES\"] = \"0\"\n",
    "\n",
    "# Parameters\n",
    "model_name = 'meta-llama/Meta-Llama-3.1-8B'\n",
    "non_infringement_file = '/home/guangwei/LLM-COPYRIGHT/copyright_newVersion/test_division/extra_20.non_infringement.json'\n",
    "infringement_file = '/home/guangwei/LLM-COPYRIGHT/copyright_newVersion/test_division/extra_20.infringement.json'\n",
    "checkpoint_file = '/home/guangwei/LLM-COPYRIGHT/copyright_newVersion/models/train_input_reference_last_token.pth'\n"
   ]
  },
  {
   "cell_type": "code",
   "execution_count": 31,
   "metadata": {},
   "outputs": [],
   "source": [
    "# Define CustumMLP for internal states train\n",
    "class CustomMLP(nn.Module):\n",
    "    def __init__(self, input_dim, hidden_dim):\n",
    "        super(CustomMLP, self).__init__()\n",
    "        self.down = nn.Linear(input_dim, hidden_dim)\n",
    "        self.gate = nn.Linear(input_dim, hidden_dim)\n",
    "        self.up = nn.Linear(hidden_dim, 1)\n",
    "        self.activation = nn.SiLU()\n",
    "\n",
    "    def forward(self, x):\n",
    "        down_output = self.down(x)\n",
    "        gate_output = self.gate(x)\n",
    "        gated_output = down_output * self.activation(gate_output)\n",
    "        return self.up(gated_output)"
   ]
  },
  {
   "cell_type": "code",
   "execution_count": 32,
   "metadata": {},
   "outputs": [],
   "source": [
    "# Extract hidden states/reference embeddings\n",
    "def extract_hidden_states(texts, model, tokenizer, batch_size=4):\n",
    "    device = torch.device(\"cuda\" if torch.cuda.is_available() else \"cpu\")\n",
    "    model.to(device)\n",
    "    model = nn.DataParallel(model)\n",
    "    hidden_states = []\n",
    "    for i in tqdm(range(0, len(texts), batch_size), desc=\"Processing data batches\"):\n",
    "        batch_texts = texts[i:i + batch_size]\n",
    "        inputs = tokenizer(batch_texts, return_tensors=\"pt\", padding=True, truncation=True)\n",
    "        with torch.no_grad():\n",
    "            outputs = model(**inputs)\n",
    "        \n",
    "        # 访问最后一个隐藏层的最后一个token的隐藏状态\n",
    "        # hidden_states[-1]表示最后一个隐藏层，mean(dim=1)表示取所有头的均值\n",
    "        last_layer_hidden_states = outputs.hidden_states[-1]\n",
    "        last_token_hidden_states = last_layer_hidden_states[:, -1, :]  # -1表示最后一个token\n",
    "        hidden_states.append(last_token_hidden_states.cpu().numpy())\n",
    "    return np.vstack(hidden_states)\n",
    "\n",
    "def extract_reference_embeddings(references, model, tokenizer, batch_size=4):\n",
    "    device = torch.device(\"cuda\" if torch.cuda.is_available() else \"cpu\")\n",
    "    model.to(device)\n",
    "    model = nn.DataParallel(model)\n",
    "    embeddings = []\n",
    "    for i in tqdm(range(0, len(references), batch_size), desc=\"Processing references\"):\n",
    "        batch_references = references[i:i + batch_size]\n",
    "        inputs = tokenizer(batch_references, return_tensors=\"pt\", padding=True, truncation=True).to(device)\n",
    "        with torch.no_grad():\n",
    "            outputs = model(**inputs)\n",
    "        embeddings.append(outputs.pooler_output.cpu().numpy())\n",
    "    return np.vstack(embeddings)"
   ]
  },
  {
   "cell_type": "code",
   "execution_count": 33,
   "metadata": {},
   "outputs": [],
   "source": [
    "# load data for infringement & non infringement\n",
    "def load_data(non_infringement_file, infringement_file):\n",
    "    with open(non_infringement_file, 'r', encoding='utf-8') as file:\n",
    "        non_infringement_json_data = json.load(file)\n",
    "\n",
    "    non_infringement_outputs = [entry['input'] for entry in non_infringement_json_data]\n",
    "    non_infringement_references = [entry['reference'] for entry in non_infringement_json_data]\n",
    "    y_non_infringement = [1] * len(non_infringement_outputs)\n",
    "\n",
    "    with open(infringement_file, 'r', encoding='utf-8') as file:\n",
    "        infringement_json_data = json.load(file)\n",
    "\n",
    "    infringement_outputs = [entry['input'] for entry in infringement_json_data]\n",
    "    infringement_references = [entry['reference'] for entry in infringement_json_data]\n",
    "    y_infringement = [0] * len(infringement_outputs)\n",
    "\n",
    "    return non_infringement_outputs, non_infringement_references, y_non_infringement, infringement_outputs, infringement_references, y_infringement"
   ]
  },
  {
   "cell_type": "code",
   "execution_count": 34,
   "metadata": {},
   "outputs": [],
   "source": [
    "from sklearn.metrics import accuracy_score, classification_report, f1_score\n",
    "\n",
    "# Train for best model\n",
    "def train_model(X_train, y_train, X_test, y_test, input_dim, hidden_dim, epochs=2500, lr=0.001, checkpoint_path=checkpoint_file):\n",
    "    custom_mlp = CustomMLP(input_dim, hidden_dim)\n",
    "    criterion = nn.BCEWithLogitsLoss()\n",
    "    optimizer = torch.optim.Adam(custom_mlp.parameters(), lr=lr)\n",
    "\n",
    "    X_train_tensor = torch.tensor(X_train, dtype=torch.float32)\n",
    "    y_train_tensor = torch.tensor(y_train, dtype=torch.float32).unsqueeze(1)\n",
    "\n",
    "    best_accuracy = -float('inf')\n",
    "    best_f1 = -float('inf')  # Track best F1-score\n",
    "    best_model_state = None\n",
    "    best_epoch = 0\n",
    "    losses = []\n",
    "\n",
    "    for epoch in tqdm(range(epochs), desc=\"Training Epochs\"):\n",
    "        custom_mlp.train()\n",
    "        optimizer.zero_grad()\n",
    "        outputs = custom_mlp(X_train_tensor)\n",
    "        loss = criterion(outputs, y_train_tensor)\n",
    "        loss.backward()\n",
    "        optimizer.step()\n",
    "        losses.append(loss.item())\n",
    "\n",
    "        # Every 10 epochs, evaluate the model\n",
    "        if (epoch + 1) % 10 == 0:\n",
    "            print(f\"Epoch {epoch + 1}/{epochs}, Loss: {loss.item():.4f}\")\n",
    "            \n",
    "            custom_mlp.eval()\n",
    "            X_test_tensor = torch.tensor(X_test, dtype=torch.float32)\n",
    "            with torch.no_grad():\n",
    "                y_pred_logits = custom_mlp(X_test_tensor)\n",
    "                y_pred = (torch.sigmoid(y_pred_logits) > 0.5).float().numpy()\n",
    "            \n",
    "            # Calculate accuracy and F1-score\n",
    "            accuracy = accuracy_score(y_test, y_pred)\n",
    "            f1 = f1_score(y_test, y_pred)  # F1-score calculation\n",
    "            \n",
    "            print(f\"Test Accuracy at Epoch {epoch + 1}: {accuracy * 100:.2f}%\")\n",
    "            print(f\"Test F1-score at Epoch {epoch + 1}: {f1:.4f}\")\n",
    "            \n",
    "            # Generate classification report\n",
    "            report = classification_report(y_test, y_pred, target_names=[\"infringement\", \"non_infringement\"])\n",
    "            print(f\"Classification Report at Epoch {epoch + 1}:\\n{report}\")\n",
    "\n",
    "            # Save the model if it achieves a better F1-score\n",
    "            if f1 > best_f1:\n",
    "                best_accuracy = accuracy\n",
    "                best_f1 = f1\n",
    "                best_model_state = custom_mlp.state_dict()\n",
    "                best_epoch = epoch + 1\n",
    "                torch.save(best_model_state, checkpoint_path)\n",
    "                print(f\"New best model saved with F1-score {best_f1:.4f} at epoch {best_epoch}\")\n",
    "                print(f\"Best Classification Report at Epoch {best_epoch}:\\n{report}\")\n",
    "\n",
    "    # Load the best model state\n",
    "    custom_mlp.load_state_dict(torch.load(checkpoint_path))\n",
    "\n",
    "    # Plot loss curve\n",
    "    plt.figure(figsize=(10, 5))\n",
    "    plt.plot(losses, label='Training Loss')\n",
    "    plt.xlabel('Epoch')\n",
    "    plt.ylabel('Loss')\n",
    "    plt.title('Training Loss Curve')\n",
    "    plt.legend()\n",
    "    plt.show()\n",
    "\n",
    "    print(f\"Final Model Accuracy: {best_accuracy * 100:.2f}%\")\n",
    "    print(f\"Final Model F1-score: {best_f1:.4f}\")\n",
    "    \n",
    "    return custom_mlp, losses, best_accuracy, best_f1\n"
   ]
  },
  {
   "cell_type": "code",
   "execution_count": 35,
   "metadata": {},
   "outputs": [
    {
     "name": "stderr",
     "output_type": "stream",
     "text": [
      "/home/guangwei/miniconda3/envs/zdh/lib/python3.12/site-packages/transformers/generation/configuration_utils.py:777: UserWarning: `return_dict_in_generate` is NOT set to `True`, but `output_hidden_states` is. When `return_dict_in_generate` is not `True`, `output_hidden_states` is ignored.\n",
      "  warnings.warn(\n",
      "Loading checkpoint shards: 100%|██████████| 4/4 [00:02<00:00,  1.44it/s]\n"
     ]
    }
   ],
   "source": [
    "tokenizer = AutoTokenizer.from_pretrained(model_name, model_max_length=512)\n",
    "model = AutoModelForCausalLM.from_pretrained(model_name, output_hidden_states=True)\n",
    "tokenizer.pad_token = tokenizer.eos_token\n",
    "bert_tokenizer = AutoTokenizer.from_pretrained('google-bert/bert-base-uncased')\n",
    "bert_model = AutoModel.from_pretrained('google-bert/bert-base-uncased')\n",
    "bert_tokenizer.pad_token = tokenizer.eos_token\n",
    "\n",
    "non_infringement_outputs, non_infringement_references, y_non_infringement, infringement_outputs, infringement_references, y_infringement = load_data(\n",
    "    non_infringement_file, infringement_file\n",
    ")\n",
    "\n",
    "y_non_infringement = np.array(y_non_infringement)\n",
    "y_infringement = np.array(y_infringement)\n"
   ]
  },
  {
   "cell_type": "code",
   "execution_count": 36,
   "metadata": {},
   "outputs": [
    {
     "name": "stdout",
     "output_type": "stream",
     "text": [
      "Extracting hidden states for non_infringement texts...\n"
     ]
    },
    {
     "name": "stderr",
     "output_type": "stream",
     "text": [
      "Processing data batches: 100%|██████████| 154/154 [00:37<00:00,  4.14it/s]\n"
     ]
    },
    {
     "name": "stdout",
     "output_type": "stream",
     "text": [
      "Extracting reference embeddings for non_infringement texts...\n"
     ]
    },
    {
     "name": "stderr",
     "output_type": "stream",
     "text": [
      "Processing references: 100%|██████████| 154/154 [00:02<00:00, 58.36it/s]\n"
     ]
    },
    {
     "name": "stdout",
     "output_type": "stream",
     "text": [
      "Extracting hidden states for infringement texts...\n"
     ]
    },
    {
     "name": "stderr",
     "output_type": "stream",
     "text": [
      "Processing data batches: 100%|██████████| 153/153 [00:52<00:00,  2.94it/s]\n"
     ]
    },
    {
     "name": "stdout",
     "output_type": "stream",
     "text": [
      "Extracting reference embeddings for infringement texts...\n"
     ]
    },
    {
     "name": "stderr",
     "output_type": "stream",
     "text": [
      "Processing references: 100%|██████████| 153/153 [00:01<00:00, 99.69it/s] \n"
     ]
    }
   ],
   "source": [
    "print(\"Extracting hidden states for non_infringement texts...\")\n",
    "X_non_infringement = extract_hidden_states(non_infringement_outputs, model, tokenizer)\n",
    "print(\"Extracting reference embeddings for non_infringement texts...\")\n",
    "reference_embeddings_non_infringement = extract_reference_embeddings(non_infringement_references, bert_model, bert_tokenizer)\n",
    "X_non_infringement_combined = np.hstack([X_non_infringement, reference_embeddings_non_infringement])\n",
    "\n",
    "print(\"Extracting hidden states for infringement texts...\")\n",
    "X_infringement = extract_hidden_states(infringement_outputs, model, tokenizer)\n",
    "print(\"Extracting reference embeddings for infringement texts...\")\n",
    "reference_embeddings_infringement = extract_reference_embeddings(infringement_references, bert_model, bert_tokenizer)\n",
    "X_infringement_combined = np.hstack([X_infringement, reference_embeddings_infringement])"
   ]
  },
  {
   "cell_type": "code",
   "execution_count": 37,
   "metadata": {},
   "outputs": [
    {
     "name": "stdout",
     "output_type": "stream",
     "text": [
      "Data successfully split into training and test sets.\n"
     ]
    }
   ],
   "source": [
    "split_index_non_infringement = int(0.8 * len(X_non_infringement_combined))\n",
    "X_non_infringement_train = X_non_infringement_combined[:split_index_non_infringement]\n",
    "X_non_infringement_test = X_non_infringement_combined[split_index_non_infringement:]\n",
    "y_non_infringement_train = y_non_infringement[:split_index_non_infringement]\n",
    "y_non_infringement_test = y_non_infringement[split_index_non_infringement:]\n",
    "\n",
    "split_index_infringement = int(0.8 * len(X_infringement_combined))\n",
    "X_infringement_train = X_infringement_combined[:split_index_infringement]\n",
    "X_infringement_test = X_infringement_combined[split_index_infringement:]\n",
    "y_infringement_train = y_infringement[:split_index_infringement]\n",
    "y_infringement_test = y_infringement[split_index_infringement:]\n",
    "\n",
    "X_train = np.vstack((X_non_infringement_train, X_infringement_train))\n",
    "X_test = np.vstack((X_non_infringement_test, X_infringement_test))\n",
    "y_train = np.concatenate((y_non_infringement_train, y_infringement_train))\n",
    "y_test = np.concatenate((y_non_infringement_test, y_infringement_test))\n",
    "\n",
    "print(\"Data successfully split into training and test sets.\")"
   ]
  },
  {
   "cell_type": "code",
   "execution_count": 38,
   "metadata": {},
   "outputs": [
    {
     "name": "stderr",
     "output_type": "stream",
     "text": [
      "Training Epochs:   1%|          | 19/2500 [00:00<00:59, 41.53it/s]"
     ]
    },
    {
     "name": "stdout",
     "output_type": "stream",
     "text": [
      "Epoch 10/2500, Loss: 3.5951\n",
      "Test Accuracy at Epoch 10: 61.38%\n",
      "Test F1-score at Epoch 10: 0.4444\n",
      "Classification Report at Epoch 10:\n",
      "                  precision    recall  f1-score   support\n",
      "\n",
      "    infringement       0.57      0.92      0.70       123\n",
      "non_infringement       0.79      0.31      0.44       123\n",
      "\n",
      "        accuracy                           0.61       246\n",
      "       macro avg       0.68      0.61      0.57       246\n",
      "    weighted avg       0.68      0.61      0.57       246\n",
      "\n",
      "New best model saved with F1-score 0.4444 at epoch 10\n",
      "Best Classification Report at Epoch 10:\n",
      "                  precision    recall  f1-score   support\n",
      "\n",
      "    infringement       0.57      0.92      0.70       123\n",
      "non_infringement       0.79      0.31      0.44       123\n",
      "\n",
      "        accuracy                           0.61       246\n",
      "       macro avg       0.68      0.61      0.57       246\n",
      "    weighted avg       0.68      0.61      0.57       246\n",
      "\n"
     ]
    },
    {
     "name": "stderr",
     "output_type": "stream",
     "text": [
      "Training Epochs:   1%|          | 25/2500 [00:00<01:08, 36.05it/s]"
     ]
    },
    {
     "name": "stdout",
     "output_type": "stream",
     "text": [
      "Epoch 20/2500, Loss: 0.3924\n",
      "Test Accuracy at Epoch 20: 75.61%\n",
      "Test F1-score at Epoch 20: 0.7391\n",
      "Classification Report at Epoch 20:\n",
      "                  precision    recall  f1-score   support\n",
      "\n",
      "    infringement       0.73      0.82      0.77       123\n",
      "non_infringement       0.79      0.69      0.74       123\n",
      "\n",
      "        accuracy                           0.76       246\n",
      "       macro avg       0.76      0.76      0.76       246\n",
      "    weighted avg       0.76      0.76      0.76       246\n",
      "\n",
      "New best model saved with F1-score 0.7391 at epoch 20\n",
      "Best Classification Report at Epoch 20:\n",
      "                  precision    recall  f1-score   support\n",
      "\n",
      "    infringement       0.73      0.82      0.77       123\n",
      "non_infringement       0.79      0.69      0.74       123\n",
      "\n",
      "        accuracy                           0.76       246\n",
      "       macro avg       0.76      0.76      0.76       246\n",
      "    weighted avg       0.76      0.76      0.76       246\n",
      "\n"
     ]
    },
    {
     "name": "stderr",
     "output_type": "stream",
     "text": [
      "Training Epochs:   1%|▏         | 37/2500 [00:01<00:59, 41.11it/s]"
     ]
    },
    {
     "name": "stdout",
     "output_type": "stream",
     "text": [
      "Epoch 30/2500, Loss: 0.3935\n",
      "Test Accuracy at Epoch 30: 76.42%\n",
      "Test F1-score at Epoch 30: 0.7411\n",
      "Classification Report at Epoch 30:\n",
      "                  precision    recall  f1-score   support\n",
      "\n",
      "    infringement       0.72      0.85      0.78       123\n",
      "non_infringement       0.82      0.67      0.74       123\n",
      "\n",
      "        accuracy                           0.76       246\n",
      "       macro avg       0.77      0.76      0.76       246\n",
      "    weighted avg       0.77      0.76      0.76       246\n",
      "\n",
      "New best model saved with F1-score 0.7411 at epoch 30\n",
      "Best Classification Report at Epoch 30:\n",
      "                  precision    recall  f1-score   support\n",
      "\n",
      "    infringement       0.72      0.85      0.78       123\n",
      "non_infringement       0.82      0.67      0.74       123\n",
      "\n",
      "        accuracy                           0.76       246\n",
      "       macro avg       0.77      0.76      0.76       246\n",
      "    weighted avg       0.77      0.76      0.76       246\n",
      "\n"
     ]
    },
    {
     "name": "stderr",
     "output_type": "stream",
     "text": [
      "Training Epochs:   2%|▏         | 49/2500 [00:01<00:51, 47.88it/s]"
     ]
    },
    {
     "name": "stdout",
     "output_type": "stream",
     "text": [
      "Epoch 40/2500, Loss: 0.3416\n",
      "Test Accuracy at Epoch 40: 79.67%\n",
      "Test F1-score at Epoch 40: 0.8016\n",
      "Classification Report at Epoch 40:\n",
      "                  precision    recall  f1-score   support\n",
      "\n",
      "    infringement       0.81      0.77      0.79       123\n",
      "non_infringement       0.78      0.82      0.80       123\n",
      "\n",
      "        accuracy                           0.80       246\n",
      "       macro avg       0.80      0.80      0.80       246\n",
      "    weighted avg       0.80      0.80      0.80       246\n",
      "\n",
      "New best model saved with F1-score 0.8016 at epoch 40\n",
      "Best Classification Report at Epoch 40:\n",
      "                  precision    recall  f1-score   support\n",
      "\n",
      "    infringement       0.81      0.77      0.79       123\n",
      "non_infringement       0.78      0.82      0.80       123\n",
      "\n",
      "        accuracy                           0.80       246\n",
      "       macro avg       0.80      0.80      0.80       246\n",
      "    weighted avg       0.80      0.80      0.80       246\n",
      "\n",
      "Epoch 50/2500, Loss: 0.2832\n",
      "Test Accuracy at Epoch 50: 79.67%\n",
      "Test F1-score at Epoch 50: 0.7951\n",
      "Classification Report at Epoch 50:\n",
      "                  precision    recall  f1-score   support\n",
      "\n",
      "    infringement       0.79      0.80      0.80       123\n",
      "non_infringement       0.80      0.79      0.80       123\n",
      "\n",
      "        accuracy                           0.80       246\n",
      "       macro avg       0.80      0.80      0.80       246\n",
      "    weighted avg       0.80      0.80      0.80       246\n",
      "\n"
     ]
    },
    {
     "name": "stderr",
     "output_type": "stream",
     "text": [
      "Training Epochs:   3%|▎         | 68/2500 [00:01<00:48, 50.49it/s]"
     ]
    },
    {
     "name": "stdout",
     "output_type": "stream",
     "text": [
      "Epoch 60/2500, Loss: 0.2384\n",
      "Test Accuracy at Epoch 60: 77.64%\n",
      "Test F1-score at Epoch 60: 0.7699\n",
      "Classification Report at Epoch 60:\n",
      "                  precision    recall  f1-score   support\n",
      "\n",
      "    infringement       0.76      0.80      0.78       123\n",
      "non_infringement       0.79      0.75      0.77       123\n",
      "\n",
      "        accuracy                           0.78       246\n",
      "       macro avg       0.78      0.78      0.78       246\n",
      "    weighted avg       0.78      0.78      0.78       246\n",
      "\n",
      "Epoch 70/2500, Loss: 0.2069\n",
      "Test Accuracy at Epoch 70: 75.20%\n",
      "Test F1-score at Epoch 70: 0.7469\n",
      "Classification Report at Epoch 70:\n",
      "                  precision    recall  f1-score   support\n",
      "\n",
      "    infringement       0.74      0.77      0.76       123\n",
      "non_infringement       0.76      0.73      0.75       123\n",
      "\n",
      "        accuracy                           0.75       246\n",
      "       macro avg       0.75      0.75      0.75       246\n",
      "    weighted avg       0.75      0.75      0.75       246\n",
      "\n"
     ]
    },
    {
     "name": "stderr",
     "output_type": "stream",
     "text": [
      "Training Epochs:   3%|▎         | 86/2500 [00:02<00:49, 48.60it/s]"
     ]
    },
    {
     "name": "stdout",
     "output_type": "stream",
     "text": [
      "Epoch 80/2500, Loss: 0.1831\n",
      "Test Accuracy at Epoch 80: 74.80%\n",
      "Test F1-score at Epoch 80: 0.7350\n",
      "Classification Report at Epoch 80:\n",
      "                  precision    recall  f1-score   support\n",
      "\n",
      "    infringement       0.73      0.80      0.76       123\n",
      "non_infringement       0.77      0.70      0.74       123\n",
      "\n",
      "        accuracy                           0.75       246\n",
      "       macro avg       0.75      0.75      0.75       246\n",
      "    weighted avg       0.75      0.75      0.75       246\n",
      "\n",
      "Epoch 90/2500, Loss: 0.1619\n",
      "Test Accuracy at Epoch 90: 76.42%\n",
      "Test F1-score at Epoch 90: 0.7478\n",
      "Classification Report at Epoch 90:\n",
      "                  precision    recall  f1-score   support\n",
      "\n",
      "    infringement       0.73      0.83      0.78       123\n",
      "non_infringement       0.80      0.70      0.75       123\n",
      "\n",
      "        accuracy                           0.76       246\n",
      "       macro avg       0.77      0.76      0.76       246\n",
      "    weighted avg       0.77      0.76      0.76       246\n",
      "\n"
     ]
    },
    {
     "name": "stderr",
     "output_type": "stream",
     "text": [
      "Training Epochs:   4%|▍         | 110/2500 [00:02<00:45, 52.67it/s]"
     ]
    },
    {
     "name": "stdout",
     "output_type": "stream",
     "text": [
      "Epoch 100/2500, Loss: 0.1437\n",
      "Test Accuracy at Epoch 100: 76.02%\n",
      "Test F1-score at Epoch 100: 0.7401\n",
      "Classification Report at Epoch 100:\n",
      "                  precision    recall  f1-score   support\n",
      "\n",
      "    infringement       0.73      0.84      0.78       123\n",
      "non_infringement       0.81      0.68      0.74       123\n",
      "\n",
      "        accuracy                           0.76       246\n",
      "       macro avg       0.77      0.76      0.76       246\n",
      "    weighted avg       0.77      0.76      0.76       246\n",
      "\n",
      "Epoch 110/2500, Loss: 0.1284\n",
      "Test Accuracy at Epoch 110: 76.02%\n",
      "Test F1-score at Epoch 110: 0.7401\n",
      "Classification Report at Epoch 110:\n",
      "                  precision    recall  f1-score   support\n",
      "\n",
      "    infringement       0.73      0.84      0.78       123\n",
      "non_infringement       0.81      0.68      0.74       123\n",
      "\n",
      "        accuracy                           0.76       246\n",
      "       macro avg       0.77      0.76      0.76       246\n",
      "    weighted avg       0.77      0.76      0.76       246\n",
      "\n"
     ]
    },
    {
     "name": "stderr",
     "output_type": "stream",
     "text": [
      "Training Epochs:   5%|▌         | 130/2500 [00:02<00:46, 51.32it/s]"
     ]
    },
    {
     "name": "stdout",
     "output_type": "stream",
     "text": [
      "Epoch 120/2500, Loss: 0.1151\n",
      "Test Accuracy at Epoch 120: 73.58%\n",
      "Test F1-score at Epoch 120: 0.7186\n",
      "Classification Report at Epoch 120:\n",
      "                  precision    recall  f1-score   support\n",
      "\n",
      "    infringement       0.71      0.80      0.75       123\n",
      "non_infringement       0.77      0.67      0.72       123\n",
      "\n",
      "        accuracy                           0.74       246\n",
      "       macro avg       0.74      0.74      0.73       246\n",
      "    weighted avg       0.74      0.74      0.73       246\n",
      "\n",
      "Epoch 130/2500, Loss: 0.1032\n",
      "Test Accuracy at Epoch 130: 73.58%\n",
      "Test F1-score at Epoch 130: 0.7186\n",
      "Classification Report at Epoch 130:\n",
      "                  precision    recall  f1-score   support\n",
      "\n",
      "    infringement       0.71      0.80      0.75       123\n",
      "non_infringement       0.77      0.67      0.72       123\n",
      "\n",
      "        accuracy                           0.74       246\n",
      "       macro avg       0.74      0.74      0.73       246\n",
      "    weighted avg       0.74      0.74      0.73       246\n",
      "\n"
     ]
    },
    {
     "name": "stderr",
     "output_type": "stream",
     "text": [
      "Training Epochs:   6%|▌         | 150/2500 [00:03<00:46, 50.88it/s]"
     ]
    },
    {
     "name": "stdout",
     "output_type": "stream",
     "text": [
      "Epoch 140/2500, Loss: 0.1405\n",
      "Test Accuracy at Epoch 140: 68.70%\n",
      "Test F1-score at Epoch 140: 0.6169\n",
      "Classification Report at Epoch 140:\n",
      "                  precision    recall  f1-score   support\n",
      "\n",
      "    infringement       0.64      0.87      0.74       123\n",
      "non_infringement       0.79      0.50      0.62       123\n",
      "\n",
      "        accuracy                           0.69       246\n",
      "       macro avg       0.72      0.69      0.68       246\n",
      "    weighted avg       0.72      0.69      0.68       246\n",
      "\n",
      "Epoch 150/2500, Loss: 0.1525\n",
      "Test Accuracy at Epoch 150: 63.82%\n",
      "Test F1-score at Epoch 150: 0.5241\n",
      "Classification Report at Epoch 150:\n",
      "                  precision    recall  f1-score   support\n",
      "\n",
      "    infringement       0.59      0.88      0.71       123\n",
      "non_infringement       0.77      0.40      0.52       123\n",
      "\n",
      "        accuracy                           0.64       246\n",
      "       macro avg       0.68      0.64      0.62       246\n",
      "    weighted avg       0.68      0.64      0.62       246\n",
      "\n"
     ]
    },
    {
     "name": "stderr",
     "output_type": "stream",
     "text": [
      "Training Epochs:   7%|▋         | 170/2500 [00:03<00:44, 52.34it/s]"
     ]
    },
    {
     "name": "stdout",
     "output_type": "stream",
     "text": [
      "Epoch 160/2500, Loss: 0.2380\n",
      "Test Accuracy at Epoch 160: 77.24%\n",
      "Test F1-score at Epoch 160: 0.7647\n",
      "Classification Report at Epoch 160:\n",
      "                  precision    recall  f1-score   support\n",
      "\n",
      "    infringement       0.76      0.80      0.78       123\n",
      "non_infringement       0.79      0.74      0.76       123\n",
      "\n",
      "        accuracy                           0.77       246\n",
      "       macro avg       0.77      0.77      0.77       246\n",
      "    weighted avg       0.77      0.77      0.77       246\n",
      "\n",
      "Epoch 170/2500, Loss: 0.1404\n",
      "Test Accuracy at Epoch 170: 71.14%\n",
      "Test F1-score at Epoch 170: 0.6698\n",
      "Classification Report at Epoch 170:\n",
      "                  precision    recall  f1-score   support\n",
      "\n",
      "    infringement       0.67      0.84      0.74       123\n",
      "non_infringement       0.78      0.59      0.67       123\n",
      "\n",
      "        accuracy                           0.71       246\n",
      "       macro avg       0.73      0.71      0.71       246\n",
      "    weighted avg       0.73      0.71      0.71       246\n",
      "\n"
     ]
    },
    {
     "name": "stderr",
     "output_type": "stream",
     "text": [
      "Training Epochs:   7%|▋         | 183/2500 [00:03<00:45, 50.81it/s]"
     ]
    },
    {
     "name": "stdout",
     "output_type": "stream",
     "text": [
      "Epoch 180/2500, Loss: 0.1316\n",
      "Test Accuracy at Epoch 180: 72.76%\n",
      "Test F1-score at Epoch 180: 0.6968\n",
      "Classification Report at Epoch 180:\n",
      "                  precision    recall  f1-score   support\n",
      "\n",
      "    infringement       0.69      0.83      0.75       123\n",
      "non_infringement       0.79      0.63      0.70       123\n",
      "\n",
      "        accuracy                           0.73       246\n",
      "       macro avg       0.74      0.73      0.72       246\n",
      "    weighted avg       0.74      0.73      0.72       246\n",
      "\n"
     ]
    },
    {
     "name": "stderr",
     "output_type": "stream",
     "text": [
      "Training Epochs:   8%|▊         | 197/2500 [00:04<00:41, 55.83it/s]"
     ]
    },
    {
     "name": "stdout",
     "output_type": "stream",
     "text": [
      "Epoch 190/2500, Loss: 0.1063\n",
      "Test Accuracy at Epoch 190: 73.98%\n",
      "Test F1-score at Epoch 190: 0.7217\n",
      "Classification Report at Epoch 190:\n",
      "                  precision    recall  f1-score   support\n",
      "\n",
      "    infringement       0.71      0.80      0.76       123\n",
      "non_infringement       0.78      0.67      0.72       123\n",
      "\n",
      "        accuracy                           0.74       246\n",
      "       macro avg       0.74      0.74      0.74       246\n",
      "    weighted avg       0.74      0.74      0.74       246\n",
      "\n",
      "Epoch 200/2500, Loss: 0.0968\n",
      "Test Accuracy at Epoch 200: 73.17%\n",
      "Test F1-score at Epoch 200: 0.7080\n",
      "Classification Report at Epoch 200:\n",
      "                  precision    recall  f1-score   support\n",
      "\n",
      "    infringement       0.70      0.81      0.75       123\n",
      "non_infringement       0.78      0.65      0.71       123\n",
      "\n",
      "        accuracy                           0.73       246\n",
      "       macro avg       0.74      0.73      0.73       246\n",
      "    weighted avg       0.74      0.73      0.73       246\n",
      "\n"
     ]
    },
    {
     "name": "stderr",
     "output_type": "stream",
     "text": [
      "Training Epochs:   9%|▊         | 217/2500 [00:04<00:40, 55.90it/s]"
     ]
    },
    {
     "name": "stdout",
     "output_type": "stream",
     "text": [
      "Epoch 210/2500, Loss: 0.0889\n",
      "Test Accuracy at Epoch 210: 73.17%\n",
      "Test F1-score at Epoch 210: 0.7105\n",
      "Classification Report at Epoch 210:\n",
      "                  precision    recall  f1-score   support\n",
      "\n",
      "    infringement       0.70      0.80      0.75       123\n",
      "non_infringement       0.77      0.66      0.71       123\n",
      "\n",
      "        accuracy                           0.73       246\n",
      "       macro avg       0.74      0.73      0.73       246\n",
      "    weighted avg       0.74      0.73      0.73       246\n",
      "\n",
      "Epoch 220/2500, Loss: 0.0831\n",
      "Test Accuracy at Epoch 220: 72.76%\n",
      "Test F1-score at Epoch 220: 0.7048\n",
      "Classification Report at Epoch 220:\n",
      "                  precision    recall  f1-score   support\n",
      "\n",
      "    infringement       0.70      0.80      0.75       123\n",
      "non_infringement       0.77      0.65      0.70       123\n",
      "\n",
      "        accuracy                           0.73       246\n",
      "       macro avg       0.73      0.73      0.73       246\n",
      "    weighted avg       0.73      0.73      0.73       246\n",
      "\n"
     ]
    },
    {
     "name": "stderr",
     "output_type": "stream",
     "text": [
      "Training Epochs:   9%|▉         | 237/2500 [00:04<00:41, 54.88it/s]"
     ]
    },
    {
     "name": "stdout",
     "output_type": "stream",
     "text": [
      "Epoch 230/2500, Loss: 0.0781\n",
      "Test Accuracy at Epoch 230: 72.76%\n",
      "Test F1-score at Epoch 230: 0.7048\n",
      "Classification Report at Epoch 230:\n",
      "                  precision    recall  f1-score   support\n",
      "\n",
      "    infringement       0.70      0.80      0.75       123\n",
      "non_infringement       0.77      0.65      0.70       123\n",
      "\n",
      "        accuracy                           0.73       246\n",
      "       macro avg       0.73      0.73      0.73       246\n",
      "    weighted avg       0.73      0.73      0.73       246\n",
      "\n",
      "Epoch 240/2500, Loss: 0.0741\n",
      "Test Accuracy at Epoch 240: 72.76%\n",
      "Test F1-score at Epoch 240: 0.7048\n",
      "Classification Report at Epoch 240:\n",
      "                  precision    recall  f1-score   support\n",
      "\n",
      "    infringement       0.70      0.80      0.75       123\n",
      "non_infringement       0.77      0.65      0.70       123\n",
      "\n",
      "        accuracy                           0.73       246\n",
      "       macro avg       0.73      0.73      0.73       246\n",
      "    weighted avg       0.73      0.73      0.73       246\n",
      "\n"
     ]
    },
    {
     "name": "stderr",
     "output_type": "stream",
     "text": [
      "Training Epochs:  10%|█         | 261/2500 [00:05<00:41, 54.17it/s]"
     ]
    },
    {
     "name": "stdout",
     "output_type": "stream",
     "text": [
      "Epoch 250/2500, Loss: 0.0707\n",
      "Test Accuracy at Epoch 250: 72.36%\n",
      "Test F1-score at Epoch 250: 0.7018\n",
      "Classification Report at Epoch 250:\n",
      "                  precision    recall  f1-score   support\n",
      "\n",
      "    infringement       0.70      0.80      0.74       123\n",
      "non_infringement       0.76      0.65      0.70       123\n",
      "\n",
      "        accuracy                           0.72       246\n",
      "       macro avg       0.73      0.72      0.72       246\n",
      "    weighted avg       0.73      0.72      0.72       246\n",
      "\n",
      "Epoch 260/2500, Loss: 0.0677\n",
      "Test Accuracy at Epoch 260: 71.14%\n",
      "Test F1-score at Epoch 260: 0.6926\n",
      "Classification Report at Epoch 260:\n",
      "                  precision    recall  f1-score   support\n",
      "\n",
      "    infringement       0.69      0.77      0.73       123\n",
      "non_infringement       0.74      0.65      0.69       123\n",
      "\n",
      "        accuracy                           0.71       246\n",
      "       macro avg       0.71      0.71      0.71       246\n",
      "    weighted avg       0.71      0.71      0.71       246\n",
      "\n"
     ]
    },
    {
     "name": "stderr",
     "output_type": "stream",
     "text": [
      "Training Epochs:  11%|█         | 280/2500 [00:05<00:41, 52.86it/s]"
     ]
    },
    {
     "name": "stdout",
     "output_type": "stream",
     "text": [
      "Epoch 270/2500, Loss: 0.0651\n",
      "Test Accuracy at Epoch 270: 71.14%\n",
      "Test F1-score at Epoch 270: 0.6926\n",
      "Classification Report at Epoch 270:\n",
      "                  precision    recall  f1-score   support\n",
      "\n",
      "    infringement       0.69      0.77      0.73       123\n",
      "non_infringement       0.74      0.65      0.69       123\n",
      "\n",
      "        accuracy                           0.71       246\n",
      "       macro avg       0.71      0.71      0.71       246\n",
      "    weighted avg       0.71      0.71      0.71       246\n",
      "\n",
      "Epoch 280/2500, Loss: 0.0630\n",
      "Test Accuracy at Epoch 280: 71.14%\n",
      "Test F1-score at Epoch 280: 0.6926\n",
      "Classification Report at Epoch 280:\n",
      "                  precision    recall  f1-score   support\n",
      "\n",
      "    infringement       0.69      0.77      0.73       123\n",
      "non_infringement       0.74      0.65      0.69       123\n",
      "\n",
      "        accuracy                           0.71       246\n",
      "       macro avg       0.71      0.71      0.71       246\n",
      "    weighted avg       0.71      0.71      0.71       246\n",
      "\n"
     ]
    },
    {
     "name": "stderr",
     "output_type": "stream",
     "text": [
      "Training Epochs:  12%|█▏        | 299/2500 [00:06<00:40, 54.42it/s]"
     ]
    },
    {
     "name": "stdout",
     "output_type": "stream",
     "text": [
      "Epoch 290/2500, Loss: 0.0611\n",
      "Test Accuracy at Epoch 290: 71.54%\n",
      "Test F1-score at Epoch 290: 0.6983\n",
      "Classification Report at Epoch 290:\n",
      "                  precision    recall  f1-score   support\n",
      "\n",
      "    infringement       0.69      0.77      0.73       123\n",
      "non_infringement       0.74      0.66      0.70       123\n",
      "\n",
      "        accuracy                           0.72       246\n",
      "       macro avg       0.72      0.72      0.71       246\n",
      "    weighted avg       0.72      0.72      0.71       246\n",
      "\n",
      "Epoch 300/2500, Loss: 0.0595\n",
      "Test Accuracy at Epoch 300: 71.54%\n",
      "Test F1-score at Epoch 300: 0.6983\n",
      "Classification Report at Epoch 300:\n",
      "                  precision    recall  f1-score   support\n",
      "\n",
      "    infringement       0.69      0.77      0.73       123\n",
      "non_infringement       0.74      0.66      0.70       123\n",
      "\n",
      "        accuracy                           0.72       246\n",
      "       macro avg       0.72      0.72      0.71       246\n",
      "    weighted avg       0.72      0.72      0.71       246\n",
      "\n"
     ]
    },
    {
     "name": "stderr",
     "output_type": "stream",
     "text": [
      "Training Epochs:  13%|█▎        | 318/2500 [00:06<00:40, 54.52it/s]"
     ]
    },
    {
     "name": "stdout",
     "output_type": "stream",
     "text": [
      "Epoch 310/2500, Loss: 0.0582\n",
      "Test Accuracy at Epoch 310: 72.36%\n",
      "Test F1-score at Epoch 310: 0.7043\n",
      "Classification Report at Epoch 310:\n",
      "                  precision    recall  f1-score   support\n",
      "\n",
      "    infringement       0.70      0.79      0.74       123\n",
      "non_infringement       0.76      0.66      0.70       123\n",
      "\n",
      "        accuracy                           0.72       246\n",
      "       macro avg       0.73      0.72      0.72       246\n",
      "    weighted avg       0.73      0.72      0.72       246\n",
      "\n",
      "Epoch 320/2500, Loss: 0.0570\n",
      "Test Accuracy at Epoch 320: 72.36%\n",
      "Test F1-score at Epoch 320: 0.7043\n",
      "Classification Report at Epoch 320:\n",
      "                  precision    recall  f1-score   support\n",
      "\n",
      "    infringement       0.70      0.79      0.74       123\n",
      "non_infringement       0.76      0.66      0.70       123\n",
      "\n",
      "        accuracy                           0.72       246\n",
      "       macro avg       0.73      0.72      0.72       246\n",
      "    weighted avg       0.73      0.72      0.72       246\n",
      "\n"
     ]
    },
    {
     "name": "stderr",
     "output_type": "stream",
     "text": [
      "Training Epochs:  13%|█▎        | 337/2500 [00:06<00:40, 53.83it/s]"
     ]
    },
    {
     "name": "stdout",
     "output_type": "stream",
     "text": [
      "Epoch 330/2500, Loss: 0.0560\n",
      "Test Accuracy at Epoch 330: 72.36%\n",
      "Test F1-score at Epoch 330: 0.7043\n",
      "Classification Report at Epoch 330:\n",
      "                  precision    recall  f1-score   support\n",
      "\n",
      "    infringement       0.70      0.79      0.74       123\n",
      "non_infringement       0.76      0.66      0.70       123\n",
      "\n",
      "        accuracy                           0.72       246\n",
      "       macro avg       0.73      0.72      0.72       246\n",
      "    weighted avg       0.73      0.72      0.72       246\n",
      "\n",
      "Epoch 340/2500, Loss: 0.0551\n",
      "Test Accuracy at Epoch 340: 72.36%\n",
      "Test F1-score at Epoch 340: 0.7043\n",
      "Classification Report at Epoch 340:\n",
      "                  precision    recall  f1-score   support\n",
      "\n",
      "    infringement       0.70      0.79      0.74       123\n",
      "non_infringement       0.76      0.66      0.70       123\n",
      "\n",
      "        accuracy                           0.72       246\n",
      "       macro avg       0.73      0.72      0.72       246\n",
      "    weighted avg       0.73      0.72      0.72       246\n",
      "\n"
     ]
    },
    {
     "name": "stderr",
     "output_type": "stream",
     "text": [
      "Training Epochs:  14%|█▍        | 357/2500 [00:07<00:39, 53.83it/s]"
     ]
    },
    {
     "name": "stdout",
     "output_type": "stream",
     "text": [
      "Epoch 350/2500, Loss: 0.0544\n",
      "Test Accuracy at Epoch 350: 72.36%\n",
      "Test F1-score at Epoch 350: 0.7043\n",
      "Classification Report at Epoch 350:\n",
      "                  precision    recall  f1-score   support\n",
      "\n",
      "    infringement       0.70      0.79      0.74       123\n",
      "non_infringement       0.76      0.66      0.70       123\n",
      "\n",
      "        accuracy                           0.72       246\n",
      "       macro avg       0.73      0.72      0.72       246\n",
      "    weighted avg       0.73      0.72      0.72       246\n",
      "\n",
      "Epoch 360/2500, Loss: 0.0537\n",
      "Test Accuracy at Epoch 360: 72.36%\n",
      "Test F1-score at Epoch 360: 0.7043\n",
      "Classification Report at Epoch 360:\n",
      "                  precision    recall  f1-score   support\n",
      "\n",
      "    infringement       0.70      0.79      0.74       123\n",
      "non_infringement       0.76      0.66      0.70       123\n",
      "\n",
      "        accuracy                           0.72       246\n",
      "       macro avg       0.73      0.72      0.72       246\n",
      "    weighted avg       0.73      0.72      0.72       246\n",
      "\n"
     ]
    },
    {
     "name": "stderr",
     "output_type": "stream",
     "text": [
      "Training Epochs:  15%|█▌        | 381/2500 [00:07<00:40, 52.19it/s]"
     ]
    },
    {
     "name": "stdout",
     "output_type": "stream",
     "text": [
      "Epoch 370/2500, Loss: 0.0533\n",
      "Test Accuracy at Epoch 370: 72.36%\n",
      "Test F1-score at Epoch 370: 0.7043\n",
      "Classification Report at Epoch 370:\n",
      "                  precision    recall  f1-score   support\n",
      "\n",
      "    infringement       0.70      0.79      0.74       123\n",
      "non_infringement       0.76      0.66      0.70       123\n",
      "\n",
      "        accuracy                           0.72       246\n",
      "       macro avg       0.73      0.72      0.72       246\n",
      "    weighted avg       0.73      0.72      0.72       246\n",
      "\n",
      "Epoch 380/2500, Loss: 0.0526\n",
      "Test Accuracy at Epoch 380: 72.36%\n",
      "Test F1-score at Epoch 380: 0.7043\n",
      "Classification Report at Epoch 380:\n",
      "                  precision    recall  f1-score   support\n",
      "\n",
      "    infringement       0.70      0.79      0.74       123\n",
      "non_infringement       0.76      0.66      0.70       123\n",
      "\n",
      "        accuracy                           0.72       246\n",
      "       macro avg       0.73      0.72      0.72       246\n",
      "    weighted avg       0.73      0.72      0.72       246\n",
      "\n"
     ]
    },
    {
     "name": "stderr",
     "output_type": "stream",
     "text": [
      "Training Epochs:  16%|█▌        | 400/2500 [00:08<00:42, 49.36it/s]"
     ]
    },
    {
     "name": "stdout",
     "output_type": "stream",
     "text": [
      "Epoch 390/2500, Loss: 0.0522\n",
      "Test Accuracy at Epoch 390: 72.76%\n",
      "Test F1-score at Epoch 390: 0.7100\n",
      "Classification Report at Epoch 390:\n",
      "                  precision    recall  f1-score   support\n",
      "\n",
      "    infringement       0.70      0.79      0.74       123\n",
      "non_infringement       0.76      0.67      0.71       123\n",
      "\n",
      "        accuracy                           0.73       246\n",
      "       macro avg       0.73      0.73      0.73       246\n",
      "    weighted avg       0.73      0.73      0.73       246\n",
      "\n",
      "Epoch 400/2500, Loss: 0.0517\n",
      "Test Accuracy at Epoch 400: 72.76%\n",
      "Test F1-score at Epoch 400: 0.7100\n",
      "Classification Report at Epoch 400:\n",
      "                  precision    recall  f1-score   support\n",
      "\n",
      "    infringement       0.70      0.79      0.74       123\n",
      "non_infringement       0.76      0.67      0.71       123\n",
      "\n",
      "        accuracy                           0.73       246\n",
      "       macro avg       0.73      0.73      0.73       246\n",
      "    weighted avg       0.73      0.73      0.73       246\n",
      "\n"
     ]
    },
    {
     "name": "stderr",
     "output_type": "stream",
     "text": [
      "Training Epochs:  17%|█▋        | 420/2500 [00:08<00:41, 49.84it/s]"
     ]
    },
    {
     "name": "stdout",
     "output_type": "stream",
     "text": [
      "Epoch 410/2500, Loss: 0.0514\n",
      "Test Accuracy at Epoch 410: 72.76%\n",
      "Test F1-score at Epoch 410: 0.7100\n",
      "Classification Report at Epoch 410:\n",
      "                  precision    recall  f1-score   support\n",
      "\n",
      "    infringement       0.70      0.79      0.74       123\n",
      "non_infringement       0.76      0.67      0.71       123\n",
      "\n",
      "        accuracy                           0.73       246\n",
      "       macro avg       0.73      0.73      0.73       246\n",
      "    weighted avg       0.73      0.73      0.73       246\n",
      "\n",
      "Epoch 420/2500, Loss: 0.0510\n",
      "Test Accuracy at Epoch 420: 72.76%\n",
      "Test F1-score at Epoch 420: 0.7100\n",
      "Classification Report at Epoch 420:\n",
      "                  precision    recall  f1-score   support\n",
      "\n",
      "    infringement       0.70      0.79      0.74       123\n",
      "non_infringement       0.76      0.67      0.71       123\n",
      "\n",
      "        accuracy                           0.73       246\n",
      "       macro avg       0.73      0.73      0.73       246\n",
      "    weighted avg       0.73      0.73      0.73       246\n",
      "\n"
     ]
    },
    {
     "name": "stderr",
     "output_type": "stream",
     "text": [
      "Training Epochs:  18%|█▊        | 440/2500 [00:08<00:39, 51.66it/s]"
     ]
    },
    {
     "name": "stdout",
     "output_type": "stream",
     "text": [
      "Epoch 430/2500, Loss: 0.0507\n",
      "Test Accuracy at Epoch 430: 72.76%\n",
      "Test F1-score at Epoch 430: 0.7100\n",
      "Classification Report at Epoch 430:\n",
      "                  precision    recall  f1-score   support\n",
      "\n",
      "    infringement       0.70      0.79      0.74       123\n",
      "non_infringement       0.76      0.67      0.71       123\n",
      "\n",
      "        accuracy                           0.73       246\n",
      "       macro avg       0.73      0.73      0.73       246\n",
      "    weighted avg       0.73      0.73      0.73       246\n",
      "\n",
      "Epoch 440/2500, Loss: 0.0504\n",
      "Test Accuracy at Epoch 440: 72.76%\n",
      "Test F1-score at Epoch 440: 0.7100\n",
      "Classification Report at Epoch 440:\n",
      "                  precision    recall  f1-score   support\n",
      "\n",
      "    infringement       0.70      0.79      0.74       123\n",
      "non_infringement       0.76      0.67      0.71       123\n",
      "\n",
      "        accuracy                           0.73       246\n",
      "       macro avg       0.73      0.73      0.73       246\n",
      "    weighted avg       0.73      0.73      0.73       246\n",
      "\n"
     ]
    },
    {
     "name": "stderr",
     "output_type": "stream",
     "text": [
      "Training Epochs:  18%|█▊        | 460/2500 [00:09<00:39, 52.26it/s]"
     ]
    },
    {
     "name": "stdout",
     "output_type": "stream",
     "text": [
      "Epoch 450/2500, Loss: 0.0502\n",
      "Test Accuracy at Epoch 450: 72.36%\n",
      "Test F1-score at Epoch 450: 0.7069\n",
      "Classification Report at Epoch 450:\n",
      "                  precision    recall  f1-score   support\n",
      "\n",
      "    infringement       0.70      0.78      0.74       123\n",
      "non_infringement       0.75      0.67      0.71       123\n",
      "\n",
      "        accuracy                           0.72       246\n",
      "       macro avg       0.73      0.72      0.72       246\n",
      "    weighted avg       0.73      0.72      0.72       246\n",
      "\n",
      "Epoch 460/2500, Loss: 0.0500\n",
      "Test Accuracy at Epoch 460: 72.36%\n",
      "Test F1-score at Epoch 460: 0.7069\n",
      "Classification Report at Epoch 460:\n",
      "                  precision    recall  f1-score   support\n",
      "\n",
      "    infringement       0.70      0.78      0.74       123\n",
      "non_infringement       0.75      0.67      0.71       123\n",
      "\n",
      "        accuracy                           0.72       246\n",
      "       macro avg       0.73      0.72      0.72       246\n",
      "    weighted avg       0.73      0.72      0.72       246\n",
      "\n"
     ]
    },
    {
     "name": "stderr",
     "output_type": "stream",
     "text": [
      "Training Epochs:  19%|█▉        | 473/2500 [00:09<00:40, 49.44it/s]"
     ]
    },
    {
     "name": "stdout",
     "output_type": "stream",
     "text": [
      "Epoch 470/2500, Loss: 0.0497\n",
      "Test Accuracy at Epoch 470: 72.36%\n",
      "Test F1-score at Epoch 470: 0.7069\n",
      "Classification Report at Epoch 470:\n",
      "                  precision    recall  f1-score   support\n",
      "\n",
      "    infringement       0.70      0.78      0.74       123\n",
      "non_infringement       0.75      0.67      0.71       123\n",
      "\n",
      "        accuracy                           0.72       246\n",
      "       macro avg       0.73      0.72      0.72       246\n",
      "    weighted avg       0.73      0.72      0.72       246\n",
      "\n"
     ]
    },
    {
     "name": "stderr",
     "output_type": "stream",
     "text": [
      "Training Epochs:  19%|█▉        | 487/2500 [00:09<00:35, 55.94it/s]"
     ]
    },
    {
     "name": "stdout",
     "output_type": "stream",
     "text": [
      "Epoch 480/2500, Loss: 0.0496\n",
      "Test Accuracy at Epoch 480: 72.36%\n",
      "Test F1-score at Epoch 480: 0.7069\n",
      "Classification Report at Epoch 480:\n",
      "                  precision    recall  f1-score   support\n",
      "\n",
      "    infringement       0.70      0.78      0.74       123\n",
      "non_infringement       0.75      0.67      0.71       123\n",
      "\n",
      "        accuracy                           0.72       246\n",
      "       macro avg       0.73      0.72      0.72       246\n",
      "    weighted avg       0.73      0.72      0.72       246\n",
      "\n",
      "Epoch 490/2500, Loss: 0.0494\n",
      "Test Accuracy at Epoch 490: 72.36%\n",
      "Test F1-score at Epoch 490: 0.7069\n",
      "Classification Report at Epoch 490:\n",
      "                  precision    recall  f1-score   support\n",
      "\n",
      "    infringement       0.70      0.78      0.74       123\n",
      "non_infringement       0.75      0.67      0.71       123\n",
      "\n",
      "        accuracy                           0.72       246\n",
      "       macro avg       0.73      0.72      0.72       246\n",
      "    weighted avg       0.73      0.72      0.72       246\n",
      "\n"
     ]
    },
    {
     "name": "stderr",
     "output_type": "stream",
     "text": [
      "Training Epochs:  20%|██        | 507/2500 [00:10<00:36, 55.28it/s]"
     ]
    },
    {
     "name": "stdout",
     "output_type": "stream",
     "text": [
      "Epoch 500/2500, Loss: 0.0492\n",
      "Test Accuracy at Epoch 500: 72.36%\n",
      "Test F1-score at Epoch 500: 0.7069\n",
      "Classification Report at Epoch 500:\n",
      "                  precision    recall  f1-score   support\n",
      "\n",
      "    infringement       0.70      0.78      0.74       123\n",
      "non_infringement       0.75      0.67      0.71       123\n",
      "\n",
      "        accuracy                           0.72       246\n",
      "       macro avg       0.73      0.72      0.72       246\n",
      "    weighted avg       0.73      0.72      0.72       246\n",
      "\n",
      "Epoch 510/2500, Loss: 0.0491\n",
      "Test Accuracy at Epoch 510: 72.36%\n",
      "Test F1-score at Epoch 510: 0.7069\n",
      "Classification Report at Epoch 510:\n",
      "                  precision    recall  f1-score   support\n",
      "\n",
      "    infringement       0.70      0.78      0.74       123\n",
      "non_infringement       0.75      0.67      0.71       123\n",
      "\n",
      "        accuracy                           0.72       246\n",
      "       macro avg       0.73      0.72      0.72       246\n",
      "    weighted avg       0.73      0.72      0.72       246\n",
      "\n"
     ]
    },
    {
     "name": "stderr",
     "output_type": "stream",
     "text": [
      "Training Epochs:  21%|██        | 527/2500 [00:10<00:35, 55.74it/s]"
     ]
    },
    {
     "name": "stdout",
     "output_type": "stream",
     "text": [
      "Epoch 520/2500, Loss: 0.0489\n",
      "Test Accuracy at Epoch 520: 73.17%\n",
      "Test F1-score at Epoch 520: 0.7179\n",
      "Classification Report at Epoch 520:\n",
      "                  precision    recall  f1-score   support\n",
      "\n",
      "    infringement       0.71      0.78      0.74       123\n",
      "non_infringement       0.76      0.68      0.72       123\n",
      "\n",
      "        accuracy                           0.73       246\n",
      "       macro avg       0.73      0.73      0.73       246\n",
      "    weighted avg       0.73      0.73      0.73       246\n",
      "\n",
      "Epoch 530/2500, Loss: 0.0488\n",
      "Test Accuracy at Epoch 530: 73.98%\n",
      "Test F1-score at Epoch 530: 0.7288\n",
      "Classification Report at Epoch 530:\n",
      "                  precision    recall  f1-score   support\n",
      "\n",
      "    infringement       0.72      0.78      0.75       123\n",
      "non_infringement       0.76      0.70      0.73       123\n",
      "\n",
      "        accuracy                           0.74       246\n",
      "       macro avg       0.74      0.74      0.74       246\n",
      "    weighted avg       0.74      0.74      0.74       246\n",
      "\n"
     ]
    },
    {
     "name": "stderr",
     "output_type": "stream",
     "text": [
      "Training Epochs:  22%|██▏       | 547/2500 [00:10<00:36, 54.25it/s]"
     ]
    },
    {
     "name": "stdout",
     "output_type": "stream",
     "text": [
      "Epoch 540/2500, Loss: 0.0487\n",
      "Test Accuracy at Epoch 540: 73.98%\n",
      "Test F1-score at Epoch 540: 0.7288\n",
      "Classification Report at Epoch 540:\n",
      "                  precision    recall  f1-score   support\n",
      "\n",
      "    infringement       0.72      0.78      0.75       123\n",
      "non_infringement       0.76      0.70      0.73       123\n",
      "\n",
      "        accuracy                           0.74       246\n",
      "       macro avg       0.74      0.74      0.74       246\n",
      "    weighted avg       0.74      0.74      0.74       246\n",
      "\n",
      "Epoch 550/2500, Loss: 0.0486\n",
      "Test Accuracy at Epoch 550: 73.17%\n",
      "Test F1-score at Epoch 550: 0.7179\n",
      "Classification Report at Epoch 550:\n",
      "                  precision    recall  f1-score   support\n",
      "\n",
      "    infringement       0.71      0.78      0.74       123\n",
      "non_infringement       0.76      0.68      0.72       123\n",
      "\n",
      "        accuracy                           0.73       246\n",
      "       macro avg       0.73      0.73      0.73       246\n",
      "    weighted avg       0.73      0.73      0.73       246\n",
      "\n"
     ]
    },
    {
     "name": "stderr",
     "output_type": "stream",
     "text": [
      "Training Epochs:  23%|██▎       | 571/2500 [00:11<00:36, 52.89it/s]"
     ]
    },
    {
     "name": "stdout",
     "output_type": "stream",
     "text": [
      "Epoch 560/2500, Loss: 0.0486\n",
      "Test Accuracy at Epoch 560: 72.36%\n",
      "Test F1-score at Epoch 560: 0.7069\n",
      "Classification Report at Epoch 560:\n",
      "                  precision    recall  f1-score   support\n",
      "\n",
      "    infringement       0.70      0.78      0.74       123\n",
      "non_infringement       0.75      0.67      0.71       123\n",
      "\n",
      "        accuracy                           0.72       246\n",
      "       macro avg       0.73      0.72      0.72       246\n",
      "    weighted avg       0.73      0.72      0.72       246\n",
      "\n",
      "Epoch 570/2500, Loss: 0.0484\n",
      "Test Accuracy at Epoch 570: 72.36%\n",
      "Test F1-score at Epoch 570: 0.7069\n",
      "Classification Report at Epoch 570:\n",
      "                  precision    recall  f1-score   support\n",
      "\n",
      "    infringement       0.70      0.78      0.74       123\n",
      "non_infringement       0.75      0.67      0.71       123\n",
      "\n",
      "        accuracy                           0.72       246\n",
      "       macro avg       0.73      0.72      0.72       246\n",
      "    weighted avg       0.73      0.72      0.72       246\n",
      "\n"
     ]
    },
    {
     "name": "stderr",
     "output_type": "stream",
     "text": [
      "Training Epochs:  24%|██▎       | 589/2500 [00:11<00:35, 53.81it/s]"
     ]
    },
    {
     "name": "stdout",
     "output_type": "stream",
     "text": [
      "Epoch 580/2500, Loss: 0.0483\n",
      "Test Accuracy at Epoch 580: 71.54%\n",
      "Test F1-score at Epoch 580: 0.6957\n",
      "Classification Report at Epoch 580:\n",
      "                  precision    recall  f1-score   support\n",
      "\n",
      "    infringement       0.69      0.78      0.73       123\n",
      "non_infringement       0.75      0.65      0.70       123\n",
      "\n",
      "        accuracy                           0.72       246\n",
      "       macro avg       0.72      0.72      0.71       246\n",
      "    weighted avg       0.72      0.72      0.71       246\n",
      "\n",
      "Epoch 590/2500, Loss: 0.0482\n",
      "Test Accuracy at Epoch 590: 71.14%\n",
      "Test F1-score at Epoch 590: 0.6900\n",
      "Classification Report at Epoch 590:\n",
      "                  precision    recall  f1-score   support\n",
      "\n",
      "    infringement       0.69      0.78      0.73       123\n",
      "non_infringement       0.75      0.64      0.69       123\n",
      "\n",
      "        accuracy                           0.71       246\n",
      "       macro avg       0.72      0.71      0.71       246\n",
      "    weighted avg       0.72      0.71      0.71       246\n",
      "\n"
     ]
    },
    {
     "name": "stderr",
     "output_type": "stream",
     "text": [
      "Training Epochs:  24%|██▍       | 608/2500 [00:12<00:34, 54.20it/s]"
     ]
    },
    {
     "name": "stdout",
     "output_type": "stream",
     "text": [
      "Epoch 600/2500, Loss: 0.0481\n",
      "Test Accuracy at Epoch 600: 71.14%\n",
      "Test F1-score at Epoch 600: 0.6900\n",
      "Classification Report at Epoch 600:\n",
      "                  precision    recall  f1-score   support\n",
      "\n",
      "    infringement       0.69      0.78      0.73       123\n",
      "non_infringement       0.75      0.64      0.69       123\n",
      "\n",
      "        accuracy                           0.71       246\n",
      "       macro avg       0.72      0.71      0.71       246\n",
      "    weighted avg       0.72      0.71      0.71       246\n",
      "\n",
      "Epoch 610/2500, Loss: 0.0480\n",
      "Test Accuracy at Epoch 610: 71.14%\n",
      "Test F1-score at Epoch 610: 0.6900\n",
      "Classification Report at Epoch 610:\n",
      "                  precision    recall  f1-score   support\n",
      "\n",
      "    infringement       0.69      0.78      0.73       123\n",
      "non_infringement       0.75      0.64      0.69       123\n",
      "\n",
      "        accuracy                           0.71       246\n",
      "       macro avg       0.72      0.71      0.71       246\n",
      "    weighted avg       0.72      0.71      0.71       246\n",
      "\n"
     ]
    },
    {
     "name": "stderr",
     "output_type": "stream",
     "text": [
      "Training Epochs:  25%|██▌       | 628/2500 [00:12<00:34, 55.00it/s]"
     ]
    },
    {
     "name": "stdout",
     "output_type": "stream",
     "text": [
      "Epoch 620/2500, Loss: 0.0480\n",
      "Test Accuracy at Epoch 620: 71.14%\n",
      "Test F1-score at Epoch 620: 0.6900\n",
      "Classification Report at Epoch 620:\n",
      "                  precision    recall  f1-score   support\n",
      "\n",
      "    infringement       0.69      0.78      0.73       123\n",
      "non_infringement       0.75      0.64      0.69       123\n",
      "\n",
      "        accuracy                           0.71       246\n",
      "       macro avg       0.72      0.71      0.71       246\n",
      "    weighted avg       0.72      0.71      0.71       246\n",
      "\n",
      "Epoch 630/2500, Loss: 0.0479\n",
      "Test Accuracy at Epoch 630: 71.14%\n",
      "Test F1-score at Epoch 630: 0.6900\n",
      "Classification Report at Epoch 630:\n",
      "                  precision    recall  f1-score   support\n",
      "\n",
      "    infringement       0.69      0.78      0.73       123\n",
      "non_infringement       0.75      0.64      0.69       123\n",
      "\n",
      "        accuracy                           0.71       246\n",
      "       macro avg       0.72      0.71      0.71       246\n",
      "    weighted avg       0.72      0.71      0.71       246\n",
      "\n"
     ]
    },
    {
     "name": "stderr",
     "output_type": "stream",
     "text": [
      "Training Epochs:  26%|██▌       | 647/2500 [00:12<00:35, 52.03it/s]"
     ]
    },
    {
     "name": "stdout",
     "output_type": "stream",
     "text": [
      "Epoch 640/2500, Loss: 0.0479\n",
      "Test Accuracy at Epoch 640: 71.14%\n",
      "Test F1-score at Epoch 640: 0.6900\n",
      "Classification Report at Epoch 640:\n",
      "                  precision    recall  f1-score   support\n",
      "\n",
      "    infringement       0.69      0.78      0.73       123\n",
      "non_infringement       0.75      0.64      0.69       123\n",
      "\n",
      "        accuracy                           0.71       246\n",
      "       macro avg       0.72      0.71      0.71       246\n",
      "    weighted avg       0.72      0.71      0.71       246\n",
      "\n",
      "Epoch 650/2500, Loss: 0.0478\n",
      "Test Accuracy at Epoch 650: 71.14%\n",
      "Test F1-score at Epoch 650: 0.6900\n",
      "Classification Report at Epoch 650:\n",
      "                  precision    recall  f1-score   support\n",
      "\n",
      "    infringement       0.69      0.78      0.73       123\n",
      "non_infringement       0.75      0.64      0.69       123\n",
      "\n",
      "        accuracy                           0.71       246\n",
      "       macro avg       0.72      0.71      0.71       246\n",
      "    weighted avg       0.72      0.71      0.71       246\n",
      "\n"
     ]
    },
    {
     "name": "stderr",
     "output_type": "stream",
     "text": [
      "Training Epochs:  27%|██▋       | 671/2500 [00:13<00:34, 52.58it/s]"
     ]
    },
    {
     "name": "stdout",
     "output_type": "stream",
     "text": [
      "Epoch 660/2500, Loss: 0.0478\n",
      "Test Accuracy at Epoch 660: 71.14%\n",
      "Test F1-score at Epoch 660: 0.6900\n",
      "Classification Report at Epoch 660:\n",
      "                  precision    recall  f1-score   support\n",
      "\n",
      "    infringement       0.69      0.78      0.73       123\n",
      "non_infringement       0.75      0.64      0.69       123\n",
      "\n",
      "        accuracy                           0.71       246\n",
      "       macro avg       0.72      0.71      0.71       246\n",
      "    weighted avg       0.72      0.71      0.71       246\n",
      "\n",
      "Epoch 670/2500, Loss: 0.0477\n",
      "Test Accuracy at Epoch 670: 71.14%\n",
      "Test F1-score at Epoch 670: 0.6900\n",
      "Classification Report at Epoch 670:\n",
      "                  precision    recall  f1-score   support\n",
      "\n",
      "    infringement       0.69      0.78      0.73       123\n",
      "non_infringement       0.75      0.64      0.69       123\n",
      "\n",
      "        accuracy                           0.71       246\n",
      "       macro avg       0.72      0.71      0.71       246\n",
      "    weighted avg       0.72      0.71      0.71       246\n",
      "\n"
     ]
    },
    {
     "name": "stderr",
     "output_type": "stream",
     "text": [
      "Training Epochs:  28%|██▊       | 690/2500 [00:13<00:34, 52.88it/s]"
     ]
    },
    {
     "name": "stdout",
     "output_type": "stream",
     "text": [
      "Epoch 680/2500, Loss: 0.0477\n",
      "Test Accuracy at Epoch 680: 71.54%\n",
      "Test F1-score at Epoch 680: 0.6957\n",
      "Classification Report at Epoch 680:\n",
      "                  precision    recall  f1-score   support\n",
      "\n",
      "    infringement       0.69      0.78      0.73       123\n",
      "non_infringement       0.75      0.65      0.70       123\n",
      "\n",
      "        accuracy                           0.72       246\n",
      "       macro avg       0.72      0.72      0.71       246\n",
      "    weighted avg       0.72      0.72      0.71       246\n",
      "\n",
      "Epoch 690/2500, Loss: 0.0476\n",
      "Test Accuracy at Epoch 690: 71.54%\n",
      "Test F1-score at Epoch 690: 0.6957\n",
      "Classification Report at Epoch 690:\n",
      "                  precision    recall  f1-score   support\n",
      "\n",
      "    infringement       0.69      0.78      0.73       123\n",
      "non_infringement       0.75      0.65      0.70       123\n",
      "\n",
      "        accuracy                           0.72       246\n",
      "       macro avg       0.72      0.72      0.71       246\n",
      "    weighted avg       0.72      0.72      0.71       246\n",
      "\n"
     ]
    },
    {
     "name": "stderr",
     "output_type": "stream",
     "text": [
      "Training Epochs:  28%|██▊       | 710/2500 [00:14<00:33, 54.09it/s]"
     ]
    },
    {
     "name": "stdout",
     "output_type": "stream",
     "text": [
      "Epoch 700/2500, Loss: 0.0476\n",
      "Test Accuracy at Epoch 700: 71.54%\n",
      "Test F1-score at Epoch 700: 0.6957\n",
      "Classification Report at Epoch 700:\n",
      "                  precision    recall  f1-score   support\n",
      "\n",
      "    infringement       0.69      0.78      0.73       123\n",
      "non_infringement       0.75      0.65      0.70       123\n",
      "\n",
      "        accuracy                           0.72       246\n",
      "       macro avg       0.72      0.72      0.71       246\n",
      "    weighted avg       0.72      0.72      0.71       246\n",
      "\n",
      "Epoch 710/2500, Loss: 0.0475\n",
      "Test Accuracy at Epoch 710: 71.54%\n",
      "Test F1-score at Epoch 710: 0.6957\n",
      "Classification Report at Epoch 710:\n",
      "                  precision    recall  f1-score   support\n",
      "\n",
      "    infringement       0.69      0.78      0.73       123\n",
      "non_infringement       0.75      0.65      0.70       123\n",
      "\n",
      "        accuracy                           0.72       246\n",
      "       macro avg       0.72      0.72      0.71       246\n",
      "    weighted avg       0.72      0.72      0.71       246\n",
      "\n"
     ]
    },
    {
     "name": "stderr",
     "output_type": "stream",
     "text": [
      "Training Epochs:  29%|██▉       | 730/2500 [00:14<00:33, 52.25it/s]"
     ]
    },
    {
     "name": "stdout",
     "output_type": "stream",
     "text": [
      "Epoch 720/2500, Loss: 0.0475\n",
      "Test Accuracy at Epoch 720: 71.54%\n",
      "Test F1-score at Epoch 720: 0.6957\n",
      "Classification Report at Epoch 720:\n",
      "                  precision    recall  f1-score   support\n",
      "\n",
      "    infringement       0.69      0.78      0.73       123\n",
      "non_infringement       0.75      0.65      0.70       123\n",
      "\n",
      "        accuracy                           0.72       246\n",
      "       macro avg       0.72      0.72      0.71       246\n",
      "    weighted avg       0.72      0.72      0.71       246\n",
      "\n",
      "Epoch 730/2500, Loss: 0.0475\n",
      "Test Accuracy at Epoch 730: 72.76%\n",
      "Test F1-score at Epoch 730: 0.7124\n",
      "Classification Report at Epoch 730:\n",
      "                  precision    recall  f1-score   support\n",
      "\n",
      "    infringement       0.71      0.78      0.74       123\n",
      "non_infringement       0.75      0.67      0.71       123\n",
      "\n",
      "        accuracy                           0.73       246\n",
      "       macro avg       0.73      0.73      0.73       246\n",
      "    weighted avg       0.73      0.73      0.73       246\n",
      "\n"
     ]
    },
    {
     "name": "stderr",
     "output_type": "stream",
     "text": [
      "Training Epochs:  30%|███       | 750/2500 [00:14<00:33, 51.82it/s]"
     ]
    },
    {
     "name": "stdout",
     "output_type": "stream",
     "text": [
      "Epoch 740/2500, Loss: 0.0476\n",
      "Test Accuracy at Epoch 740: 71.54%\n",
      "Test F1-score at Epoch 740: 0.6957\n",
      "Classification Report at Epoch 740:\n",
      "                  precision    recall  f1-score   support\n",
      "\n",
      "    infringement       0.69      0.78      0.73       123\n",
      "non_infringement       0.75      0.65      0.70       123\n",
      "\n",
      "        accuracy                           0.72       246\n",
      "       macro avg       0.72      0.72      0.71       246\n",
      "    weighted avg       0.72      0.72      0.71       246\n",
      "\n",
      "Epoch 750/2500, Loss: 0.0475\n",
      "Test Accuracy at Epoch 750: 72.76%\n",
      "Test F1-score at Epoch 750: 0.7124\n",
      "Classification Report at Epoch 750:\n",
      "                  precision    recall  f1-score   support\n",
      "\n",
      "    infringement       0.71      0.78      0.74       123\n",
      "non_infringement       0.75      0.67      0.71       123\n",
      "\n",
      "        accuracy                           0.73       246\n",
      "       macro avg       0.73      0.73      0.73       246\n",
      "    weighted avg       0.73      0.73      0.73       246\n",
      "\n"
     ]
    },
    {
     "name": "stderr",
     "output_type": "stream",
     "text": [
      "Training Epochs:  31%|███       | 770/2500 [00:15<00:33, 51.75it/s]"
     ]
    },
    {
     "name": "stdout",
     "output_type": "stream",
     "text": [
      "Epoch 760/2500, Loss: 0.0476\n",
      "Test Accuracy at Epoch 760: 72.36%\n",
      "Test F1-score at Epoch 760: 0.7069\n",
      "Classification Report at Epoch 760:\n",
      "                  precision    recall  f1-score   support\n",
      "\n",
      "    infringement       0.70      0.78      0.74       123\n",
      "non_infringement       0.75      0.67      0.71       123\n",
      "\n",
      "        accuracy                           0.72       246\n",
      "       macro avg       0.73      0.72      0.72       246\n",
      "    weighted avg       0.73      0.72      0.72       246\n",
      "\n",
      "Epoch 770/2500, Loss: 0.0481\n",
      "Test Accuracy at Epoch 770: 71.14%\n",
      "Test F1-score at Epoch 770: 0.6900\n",
      "Classification Report at Epoch 770:\n",
      "                  precision    recall  f1-score   support\n",
      "\n",
      "    infringement       0.69      0.78      0.73       123\n",
      "non_infringement       0.75      0.64      0.69       123\n",
      "\n",
      "        accuracy                           0.71       246\n",
      "       macro avg       0.72      0.71      0.71       246\n",
      "    weighted avg       0.72      0.71      0.71       246\n",
      "\n"
     ]
    },
    {
     "name": "stderr",
     "output_type": "stream",
     "text": [
      "Training Epochs:  32%|███▏      | 790/2500 [00:15<00:33, 51.18it/s]"
     ]
    },
    {
     "name": "stdout",
     "output_type": "stream",
     "text": [
      "Epoch 780/2500, Loss: 0.0490\n",
      "Test Accuracy at Epoch 780: 72.76%\n",
      "Test F1-score at Epoch 780: 0.7124\n",
      "Classification Report at Epoch 780:\n",
      "                  precision    recall  f1-score   support\n",
      "\n",
      "    infringement       0.71      0.78      0.74       123\n",
      "non_infringement       0.75      0.67      0.71       123\n",
      "\n",
      "        accuracy                           0.73       246\n",
      "       macro avg       0.73      0.73      0.73       246\n",
      "    weighted avg       0.73      0.73      0.73       246\n",
      "\n",
      "Epoch 790/2500, Loss: 0.0477\n",
      "Test Accuracy at Epoch 790: 72.76%\n",
      "Test F1-score at Epoch 790: 0.7124\n",
      "Classification Report at Epoch 790:\n",
      "                  precision    recall  f1-score   support\n",
      "\n",
      "    infringement       0.71      0.78      0.74       123\n",
      "non_infringement       0.75      0.67      0.71       123\n",
      "\n",
      "        accuracy                           0.73       246\n",
      "       macro avg       0.73      0.73      0.73       246\n",
      "    weighted avg       0.73      0.73      0.73       246\n",
      "\n"
     ]
    },
    {
     "name": "stderr",
     "output_type": "stream",
     "text": [
      "Training Epochs:  32%|███▏      | 803/2500 [00:15<00:34, 49.50it/s]"
     ]
    },
    {
     "name": "stdout",
     "output_type": "stream",
     "text": [
      "Epoch 800/2500, Loss: 0.0493\n",
      "Test Accuracy at Epoch 800: 69.92%\n",
      "Test F1-score at Epoch 800: 0.6696\n",
      "Classification Report at Epoch 800:\n",
      "                  precision    recall  f1-score   support\n",
      "\n",
      "    infringement       0.67      0.79      0.72       123\n",
      "non_infringement       0.74      0.61      0.67       123\n",
      "\n",
      "        accuracy                           0.70       246\n",
      "       macro avg       0.71      0.70      0.70       246\n",
      "    weighted avg       0.71      0.70      0.70       246\n",
      "\n"
     ]
    },
    {
     "name": "stderr",
     "output_type": "stream",
     "text": [
      "Training Epochs:  33%|███▎      | 817/2500 [00:16<00:30, 55.92it/s]"
     ]
    },
    {
     "name": "stdout",
     "output_type": "stream",
     "text": [
      "Epoch 810/2500, Loss: 0.0502\n",
      "Test Accuracy at Epoch 810: 72.76%\n",
      "Test F1-score at Epoch 810: 0.7124\n",
      "Classification Report at Epoch 810:\n",
      "                  precision    recall  f1-score   support\n",
      "\n",
      "    infringement       0.71      0.78      0.74       123\n",
      "non_infringement       0.75      0.67      0.71       123\n",
      "\n",
      "        accuracy                           0.73       246\n",
      "       macro avg       0.73      0.73      0.73       246\n",
      "    weighted avg       0.73      0.73      0.73       246\n",
      "\n",
      "Epoch 820/2500, Loss: 0.0491\n",
      "Test Accuracy at Epoch 820: 73.17%\n",
      "Test F1-score at Epoch 820: 0.7179\n",
      "Classification Report at Epoch 820:\n",
      "                  precision    recall  f1-score   support\n",
      "\n",
      "    infringement       0.71      0.78      0.74       123\n",
      "non_infringement       0.76      0.68      0.72       123\n",
      "\n",
      "        accuracy                           0.73       246\n",
      "       macro avg       0.73      0.73      0.73       246\n",
      "    weighted avg       0.73      0.73      0.73       246\n",
      "\n"
     ]
    },
    {
     "name": "stderr",
     "output_type": "stream",
     "text": [
      "Training Epochs:  33%|███▎      | 837/2500 [00:16<00:30, 55.41it/s]"
     ]
    },
    {
     "name": "stdout",
     "output_type": "stream",
     "text": [
      "Epoch 830/2500, Loss: 0.0508\n",
      "Test Accuracy at Epoch 830: 70.73%\n",
      "Test F1-score at Epoch 830: 0.6814\n",
      "Classification Report at Epoch 830:\n",
      "                  precision    recall  f1-score   support\n",
      "\n",
      "    infringement       0.68      0.79      0.73       123\n",
      "non_infringement       0.75      0.63      0.68       123\n",
      "\n",
      "        accuracy                           0.71       246\n",
      "       macro avg       0.71      0.71      0.71       246\n",
      "    weighted avg       0.71      0.71      0.71       246\n",
      "\n",
      "Epoch 840/2500, Loss: 0.0474\n",
      "Test Accuracy at Epoch 840: 71.54%\n",
      "Test F1-score at Epoch 840: 0.6930\n",
      "Classification Report at Epoch 840:\n",
      "                  precision    recall  f1-score   support\n",
      "\n",
      "    infringement       0.69      0.79      0.73       123\n",
      "non_infringement       0.75      0.64      0.69       123\n",
      "\n",
      "        accuracy                           0.72       246\n",
      "       macro avg       0.72      0.72      0.71       246\n",
      "    weighted avg       0.72      0.72      0.71       246\n",
      "\n"
     ]
    },
    {
     "name": "stderr",
     "output_type": "stream",
     "text": [
      "Training Epochs:  34%|███▍      | 857/2500 [00:16<00:29, 54.99it/s]"
     ]
    },
    {
     "name": "stdout",
     "output_type": "stream",
     "text": [
      "Epoch 850/2500, Loss: 0.0507\n",
      "Test Accuracy at Epoch 850: 73.17%\n",
      "Test F1-score at Epoch 850: 0.7179\n",
      "Classification Report at Epoch 850:\n",
      "                  precision    recall  f1-score   support\n",
      "\n",
      "    infringement       0.71      0.78      0.74       123\n",
      "non_infringement       0.76      0.68      0.72       123\n",
      "\n",
      "        accuracy                           0.73       246\n",
      "       macro avg       0.73      0.73      0.73       246\n",
      "    weighted avg       0.73      0.73      0.73       246\n",
      "\n",
      "Epoch 860/2500, Loss: 0.0484\n",
      "Test Accuracy at Epoch 860: 72.76%\n",
      "Test F1-score at Epoch 860: 0.7100\n",
      "Classification Report at Epoch 860:\n",
      "                  precision    recall  f1-score   support\n",
      "\n",
      "    infringement       0.70      0.79      0.74       123\n",
      "non_infringement       0.76      0.67      0.71       123\n",
      "\n",
      "        accuracy                           0.73       246\n",
      "       macro avg       0.73      0.73      0.73       246\n",
      "    weighted avg       0.73      0.73      0.73       246\n",
      "\n"
     ]
    },
    {
     "name": "stderr",
     "output_type": "stream",
     "text": [
      "Training Epochs:  35%|███▌      | 877/2500 [00:17<00:29, 55.27it/s]"
     ]
    },
    {
     "name": "stdout",
     "output_type": "stream",
     "text": [
      "Epoch 870/2500, Loss: 0.0489\n",
      "Test Accuracy at Epoch 870: 70.73%\n",
      "Test F1-score at Epoch 870: 0.6814\n",
      "Classification Report at Epoch 870:\n",
      "                  precision    recall  f1-score   support\n",
      "\n",
      "    infringement       0.68      0.79      0.73       123\n",
      "non_infringement       0.75      0.63      0.68       123\n",
      "\n",
      "        accuracy                           0.71       246\n",
      "       macro avg       0.71      0.71      0.71       246\n",
      "    weighted avg       0.71      0.71      0.71       246\n",
      "\n",
      "Epoch 880/2500, Loss: 0.0502\n",
      "Test Accuracy at Epoch 880: 72.76%\n",
      "Test F1-score at Epoch 880: 0.7124\n",
      "Classification Report at Epoch 880:\n",
      "                  precision    recall  f1-score   support\n",
      "\n",
      "    infringement       0.71      0.78      0.74       123\n",
      "non_infringement       0.75      0.67      0.71       123\n",
      "\n",
      "        accuracy                           0.73       246\n",
      "       macro avg       0.73      0.73      0.73       246\n",
      "    weighted avg       0.73      0.73      0.73       246\n",
      "\n"
     ]
    },
    {
     "name": "stderr",
     "output_type": "stream",
     "text": [
      "Training Epochs:  36%|███▌      | 896/2500 [00:17<00:31, 51.55it/s]"
     ]
    },
    {
     "name": "stdout",
     "output_type": "stream",
     "text": [
      "Epoch 890/2500, Loss: 0.0474\n",
      "Test Accuracy at Epoch 890: 72.76%\n",
      "Test F1-score at Epoch 890: 0.7124\n",
      "Classification Report at Epoch 890:\n",
      "                  precision    recall  f1-score   support\n",
      "\n",
      "    infringement       0.71      0.78      0.74       123\n",
      "non_infringement       0.75      0.67      0.71       123\n",
      "\n",
      "        accuracy                           0.73       246\n",
      "       macro avg       0.73      0.73      0.73       246\n",
      "    weighted avg       0.73      0.73      0.73       246\n",
      "\n",
      "Epoch 900/2500, Loss: 0.0504\n",
      "Test Accuracy at Epoch 900: 70.73%\n",
      "Test F1-score at Epoch 900: 0.6814\n",
      "Classification Report at Epoch 900:\n",
      "                  precision    recall  f1-score   support\n",
      "\n",
      "    infringement       0.68      0.79      0.73       123\n",
      "non_infringement       0.75      0.63      0.68       123\n",
      "\n",
      "        accuracy                           0.71       246\n",
      "       macro avg       0.71      0.71      0.71       246\n",
      "    weighted avg       0.71      0.71      0.71       246\n",
      "\n"
     ]
    },
    {
     "name": "stderr",
     "output_type": "stream",
     "text": [
      "Training Epochs:  37%|███▋      | 914/2500 [00:18<00:40, 38.97it/s]"
     ]
    },
    {
     "name": "stdout",
     "output_type": "stream",
     "text": [
      "Epoch 910/2500, Loss: 0.0481\n",
      "Test Accuracy at Epoch 910: 72.76%\n",
      "Test F1-score at Epoch 910: 0.7100\n",
      "Classification Report at Epoch 910:\n",
      "                  precision    recall  f1-score   support\n",
      "\n",
      "    infringement       0.70      0.79      0.74       123\n",
      "non_infringement       0.76      0.67      0.71       123\n",
      "\n",
      "        accuracy                           0.73       246\n",
      "       macro avg       0.73      0.73      0.73       246\n",
      "    weighted avg       0.73      0.73      0.73       246\n",
      "\n"
     ]
    },
    {
     "name": "stderr",
     "output_type": "stream",
     "text": [
      "Training Epochs:  37%|███▋      | 927/2500 [00:18<00:32, 48.00it/s]"
     ]
    },
    {
     "name": "stdout",
     "output_type": "stream",
     "text": [
      "Epoch 920/2500, Loss: 0.0488\n",
      "Test Accuracy at Epoch 920: 73.17%\n",
      "Test F1-score at Epoch 920: 0.7179\n",
      "Classification Report at Epoch 920:\n",
      "                  precision    recall  f1-score   support\n",
      "\n",
      "    infringement       0.71      0.78      0.74       123\n",
      "non_infringement       0.76      0.68      0.72       123\n",
      "\n",
      "        accuracy                           0.73       246\n",
      "       macro avg       0.73      0.73      0.73       246\n",
      "    weighted avg       0.73      0.73      0.73       246\n",
      "\n",
      "Epoch 930/2500, Loss: 0.0500\n",
      "Test Accuracy at Epoch 930: 72.76%\n",
      "Test F1-score at Epoch 930: 0.7100\n",
      "Classification Report at Epoch 930:\n",
      "                  precision    recall  f1-score   support\n",
      "\n",
      "    infringement       0.70      0.79      0.74       123\n",
      "non_infringement       0.76      0.67      0.71       123\n",
      "\n",
      "        accuracy                           0.73       246\n",
      "       macro avg       0.73      0.73      0.73       246\n",
      "    weighted avg       0.73      0.73      0.73       246\n",
      "\n"
     ]
    },
    {
     "name": "stderr",
     "output_type": "stream",
     "text": [
      "Training Epochs:  38%|███▊      | 946/2500 [00:18<00:30, 50.98it/s]"
     ]
    },
    {
     "name": "stdout",
     "output_type": "stream",
     "text": [
      "Epoch 940/2500, Loss: 0.0474\n",
      "Test Accuracy at Epoch 940: 71.54%\n",
      "Test F1-score at Epoch 940: 0.6930\n",
      "Classification Report at Epoch 940:\n",
      "                  precision    recall  f1-score   support\n",
      "\n",
      "    infringement       0.69      0.79      0.73       123\n",
      "non_infringement       0.75      0.64      0.69       123\n",
      "\n",
      "        accuracy                           0.72       246\n",
      "       macro avg       0.72      0.72      0.71       246\n",
      "    weighted avg       0.72      0.72      0.71       246\n",
      "\n",
      "Epoch 950/2500, Loss: 0.0503\n",
      "Test Accuracy at Epoch 950: 73.17%\n",
      "Test F1-score at Epoch 950: 0.7179\n",
      "Classification Report at Epoch 950:\n",
      "                  precision    recall  f1-score   support\n",
      "\n",
      "    infringement       0.71      0.78      0.74       123\n",
      "non_infringement       0.76      0.68      0.72       123\n",
      "\n",
      "        accuracy                           0.73       246\n",
      "       macro avg       0.73      0.73      0.73       246\n",
      "    weighted avg       0.73      0.73      0.73       246\n",
      "\n"
     ]
    },
    {
     "name": "stderr",
     "output_type": "stream",
     "text": [
      "Training Epochs:  39%|███▉      | 970/2500 [00:19<00:30, 50.87it/s]"
     ]
    },
    {
     "name": "stdout",
     "output_type": "stream",
     "text": [
      "Epoch 960/2500, Loss: 0.0481\n",
      "Test Accuracy at Epoch 960: 72.76%\n",
      "Test F1-score at Epoch 960: 0.7100\n",
      "Classification Report at Epoch 960:\n",
      "                  precision    recall  f1-score   support\n",
      "\n",
      "    infringement       0.70      0.79      0.74       123\n",
      "non_infringement       0.76      0.67      0.71       123\n",
      "\n",
      "        accuracy                           0.73       246\n",
      "       macro avg       0.73      0.73      0.73       246\n",
      "    weighted avg       0.73      0.73      0.73       246\n",
      "\n",
      "Epoch 970/2500, Loss: 0.0486\n",
      "Test Accuracy at Epoch 970: 71.14%\n",
      "Test F1-score at Epoch 970: 0.6872\n",
      "Classification Report at Epoch 970:\n",
      "                  precision    recall  f1-score   support\n",
      "\n",
      "    infringement       0.68      0.79      0.73       123\n",
      "non_infringement       0.75      0.63      0.69       123\n",
      "\n",
      "        accuracy                           0.71       246\n",
      "       macro avg       0.72      0.71      0.71       246\n",
      "    weighted avg       0.72      0.71      0.71       246\n",
      "\n"
     ]
    },
    {
     "name": "stderr",
     "output_type": "stream",
     "text": [
      "Training Epochs:  40%|███▉      | 989/2500 [00:19<00:27, 53.97it/s]"
     ]
    },
    {
     "name": "stdout",
     "output_type": "stream",
     "text": [
      "Epoch 980/2500, Loss: 0.0500\n",
      "Test Accuracy at Epoch 980: 72.76%\n",
      "Test F1-score at Epoch 980: 0.7124\n",
      "Classification Report at Epoch 980:\n",
      "                  precision    recall  f1-score   support\n",
      "\n",
      "    infringement       0.71      0.78      0.74       123\n",
      "non_infringement       0.75      0.67      0.71       123\n",
      "\n",
      "        accuracy                           0.73       246\n",
      "       macro avg       0.73      0.73      0.73       246\n",
      "    weighted avg       0.73      0.73      0.73       246\n",
      "\n",
      "Epoch 990/2500, Loss: 0.0473\n",
      "Test Accuracy at Epoch 990: 73.17%\n",
      "Test F1-score at Epoch 990: 0.7155\n",
      "Classification Report at Epoch 990:\n",
      "                  precision    recall  f1-score   support\n",
      "\n",
      "    infringement       0.71      0.79      0.75       123\n",
      "non_infringement       0.76      0.67      0.72       123\n",
      "\n",
      "        accuracy                           0.73       246\n",
      "       macro avg       0.73      0.73      0.73       246\n",
      "    weighted avg       0.73      0.73      0.73       246\n",
      "\n"
     ]
    },
    {
     "name": "stderr",
     "output_type": "stream",
     "text": [
      "Training Epochs:  40%|████      | 1008/2500 [00:20<00:27, 53.37it/s]"
     ]
    },
    {
     "name": "stdout",
     "output_type": "stream",
     "text": [
      "Epoch 1000/2500, Loss: 0.0500\n",
      "Test Accuracy at Epoch 1000: 71.14%\n",
      "Test F1-score at Epoch 1000: 0.6872\n",
      "Classification Report at Epoch 1000:\n",
      "                  precision    recall  f1-score   support\n",
      "\n",
      "    infringement       0.68      0.79      0.73       123\n",
      "non_infringement       0.75      0.63      0.69       123\n",
      "\n",
      "        accuracy                           0.71       246\n",
      "       macro avg       0.72      0.71      0.71       246\n",
      "    weighted avg       0.72      0.71      0.71       246\n",
      "\n",
      "Epoch 1010/2500, Loss: 0.0482\n",
      "Test Accuracy at Epoch 1010: 72.76%\n",
      "Test F1-score at Epoch 1010: 0.7100\n",
      "Classification Report at Epoch 1010:\n",
      "                  precision    recall  f1-score   support\n",
      "\n",
      "    infringement       0.70      0.79      0.74       123\n",
      "non_infringement       0.76      0.67      0.71       123\n",
      "\n",
      "        accuracy                           0.73       246\n",
      "       macro avg       0.73      0.73      0.73       246\n",
      "    weighted avg       0.73      0.73      0.73       246\n",
      "\n"
     ]
    },
    {
     "name": "stderr",
     "output_type": "stream",
     "text": [
      "Training Epochs:  41%|████      | 1027/2500 [00:20<00:28, 52.30it/s]"
     ]
    },
    {
     "name": "stdout",
     "output_type": "stream",
     "text": [
      "Epoch 1020/2500, Loss: 0.0481\n",
      "Test Accuracy at Epoch 1020: 73.58%\n",
      "Test F1-score at Epoch 1020: 0.7210\n",
      "Classification Report at Epoch 1020:\n",
      "                  precision    recall  f1-score   support\n",
      "\n",
      "    infringement       0.71      0.79      0.75       123\n",
      "non_infringement       0.76      0.68      0.72       123\n",
      "\n",
      "        accuracy                           0.74       246\n",
      "       macro avg       0.74      0.74      0.74       246\n",
      "    weighted avg       0.74      0.74      0.74       246\n",
      "\n",
      "Epoch 1030/2500, Loss: 0.0501\n",
      "Test Accuracy at Epoch 1030: 72.76%\n",
      "Test F1-score at Epoch 1030: 0.7100\n",
      "Classification Report at Epoch 1030:\n",
      "                  precision    recall  f1-score   support\n",
      "\n",
      "    infringement       0.70      0.79      0.74       123\n",
      "non_infringement       0.76      0.67      0.71       123\n",
      "\n",
      "        accuracy                           0.73       246\n",
      "       macro avg       0.73      0.73      0.73       246\n",
      "    weighted avg       0.73      0.73      0.73       246\n",
      "\n"
     ]
    },
    {
     "name": "stderr",
     "output_type": "stream",
     "text": [
      "Training Epochs:  42%|████▏     | 1051/2500 [00:20<00:27, 52.16it/s]"
     ]
    },
    {
     "name": "stdout",
     "output_type": "stream",
     "text": [
      "Epoch 1040/2500, Loss: 0.0473\n",
      "Test Accuracy at Epoch 1040: 72.76%\n",
      "Test F1-score at Epoch 1040: 0.7100\n",
      "Classification Report at Epoch 1040:\n",
      "                  precision    recall  f1-score   support\n",
      "\n",
      "    infringement       0.70      0.79      0.74       123\n",
      "non_infringement       0.76      0.67      0.71       123\n",
      "\n",
      "        accuracy                           0.73       246\n",
      "       macro avg       0.73      0.73      0.73       246\n",
      "    weighted avg       0.73      0.73      0.73       246\n",
      "\n",
      "Epoch 1050/2500, Loss: 0.0495\n",
      "Test Accuracy at Epoch 1050: 73.58%\n",
      "Test F1-score at Epoch 1050: 0.7210\n",
      "Classification Report at Epoch 1050:\n",
      "                  precision    recall  f1-score   support\n",
      "\n",
      "    infringement       0.71      0.79      0.75       123\n",
      "non_infringement       0.76      0.68      0.72       123\n",
      "\n",
      "        accuracy                           0.74       246\n",
      "       macro avg       0.74      0.74      0.74       246\n",
      "    weighted avg       0.74      0.74      0.74       246\n",
      "\n"
     ]
    },
    {
     "name": "stderr",
     "output_type": "stream",
     "text": [
      "Training Epochs:  43%|████▎     | 1063/2500 [00:21<00:36, 39.49it/s]"
     ]
    },
    {
     "name": "stdout",
     "output_type": "stream",
     "text": [
      "Epoch 1060/2500, Loss: 0.0490\n",
      "Test Accuracy at Epoch 1060: 72.76%\n",
      "Test F1-score at Epoch 1060: 0.7100\n",
      "Classification Report at Epoch 1060:\n",
      "                  precision    recall  f1-score   support\n",
      "\n",
      "    infringement       0.70      0.79      0.74       123\n",
      "non_infringement       0.76      0.67      0.71       123\n",
      "\n",
      "        accuracy                           0.73       246\n",
      "       macro avg       0.73      0.73      0.73       246\n",
      "    weighted avg       0.73      0.73      0.73       246\n",
      "\n"
     ]
    },
    {
     "name": "stderr",
     "output_type": "stream",
     "text": [
      "Training Epochs:  43%|████▎     | 1077/2500 [00:21<00:31, 45.36it/s]"
     ]
    },
    {
     "name": "stdout",
     "output_type": "stream",
     "text": [
      "Epoch 1070/2500, Loss: 0.0477\n",
      "Test Accuracy at Epoch 1070: 71.14%\n",
      "Test F1-score at Epoch 1070: 0.6872\n",
      "Classification Report at Epoch 1070:\n",
      "                  precision    recall  f1-score   support\n",
      "\n",
      "    infringement       0.68      0.79      0.73       123\n",
      "non_infringement       0.75      0.63      0.69       123\n",
      "\n",
      "        accuracy                           0.71       246\n",
      "       macro avg       0.72      0.71      0.71       246\n",
      "    weighted avg       0.72      0.71      0.71       246\n",
      "\n",
      "Epoch 1080/2500, Loss: 0.0502\n",
      "Test Accuracy at Epoch 1080: 73.58%\n",
      "Test F1-score at Epoch 1080: 0.7210\n",
      "Classification Report at Epoch 1080:\n",
      "                  precision    recall  f1-score   support\n",
      "\n",
      "    infringement       0.71      0.79      0.75       123\n",
      "non_infringement       0.76      0.68      0.72       123\n",
      "\n",
      "        accuracy                           0.74       246\n",
      "       macro avg       0.74      0.74      0.74       246\n",
      "    weighted avg       0.74      0.74      0.74       246\n",
      "\n"
     ]
    },
    {
     "name": "stderr",
     "output_type": "stream",
     "text": [
      "Training Epochs:  44%|████▍     | 1101/2500 [00:22<00:29, 47.72it/s]"
     ]
    },
    {
     "name": "stdout",
     "output_type": "stream",
     "text": [
      "Epoch 1090/2500, Loss: 0.0474\n",
      "Test Accuracy at Epoch 1090: 72.76%\n",
      "Test F1-score at Epoch 1090: 0.7100\n",
      "Classification Report at Epoch 1090:\n",
      "                  precision    recall  f1-score   support\n",
      "\n",
      "    infringement       0.70      0.79      0.74       123\n",
      "non_infringement       0.76      0.67      0.71       123\n",
      "\n",
      "        accuracy                           0.73       246\n",
      "       macro avg       0.73      0.73      0.73       246\n",
      "    weighted avg       0.73      0.73      0.73       246\n",
      "\n",
      "Epoch 1100/2500, Loss: 0.0488\n",
      "Test Accuracy at Epoch 1100: 71.14%\n",
      "Test F1-score at Epoch 1100: 0.6872\n",
      "Classification Report at Epoch 1100:\n",
      "                  precision    recall  f1-score   support\n",
      "\n",
      "    infringement       0.68      0.79      0.73       123\n",
      "non_infringement       0.75      0.63      0.69       123\n",
      "\n",
      "        accuracy                           0.71       246\n",
      "       macro avg       0.72      0.71      0.71       246\n",
      "    weighted avg       0.72      0.71      0.71       246\n",
      "\n"
     ]
    },
    {
     "name": "stderr",
     "output_type": "stream",
     "text": [
      "Training Epochs:  45%|████▍     | 1120/2500 [00:22<00:30, 45.53it/s]"
     ]
    },
    {
     "name": "stdout",
     "output_type": "stream",
     "text": [
      "Epoch 1110/2500, Loss: 0.0493\n",
      "Test Accuracy at Epoch 1110: 73.17%\n",
      "Test F1-score at Epoch 1110: 0.7155\n",
      "Classification Report at Epoch 1110:\n",
      "                  precision    recall  f1-score   support\n",
      "\n",
      "    infringement       0.71      0.79      0.75       123\n",
      "non_infringement       0.76      0.67      0.72       123\n",
      "\n",
      "        accuracy                           0.73       246\n",
      "       macro avg       0.73      0.73      0.73       246\n",
      "    weighted avg       0.73      0.73      0.73       246\n",
      "\n",
      "Epoch 1120/2500, Loss: 0.0472\n",
      "Test Accuracy at Epoch 1120: 73.17%\n",
      "Test F1-score at Epoch 1120: 0.7155\n",
      "Classification Report at Epoch 1120:\n",
      "                  precision    recall  f1-score   support\n",
      "\n",
      "    infringement       0.71      0.79      0.75       123\n",
      "non_infringement       0.76      0.67      0.72       123\n",
      "\n",
      "        accuracy                           0.73       246\n",
      "       macro avg       0.73      0.73      0.73       246\n",
      "    weighted avg       0.73      0.73      0.73       246\n",
      "\n"
     ]
    },
    {
     "name": "stderr",
     "output_type": "stream",
     "text": [
      "Training Epochs:  46%|████▌     | 1138/2500 [00:22<00:26, 51.04it/s]"
     ]
    },
    {
     "name": "stdout",
     "output_type": "stream",
     "text": [
      "Epoch 1130/2500, Loss: 0.0499\n",
      "Test Accuracy at Epoch 1130: 71.14%\n",
      "Test F1-score at Epoch 1130: 0.6872\n",
      "Classification Report at Epoch 1130:\n",
      "                  precision    recall  f1-score   support\n",
      "\n",
      "    infringement       0.68      0.79      0.73       123\n",
      "non_infringement       0.75      0.63      0.69       123\n",
      "\n",
      "        accuracy                           0.71       246\n",
      "       macro avg       0.72      0.71      0.71       246\n",
      "    weighted avg       0.72      0.71      0.71       246\n",
      "\n",
      "Epoch 1140/2500, Loss: 0.0478\n",
      "Test Accuracy at Epoch 1140: 72.76%\n",
      "Test F1-score at Epoch 1140: 0.7100\n",
      "Classification Report at Epoch 1140:\n",
      "                  precision    recall  f1-score   support\n",
      "\n",
      "    infringement       0.70      0.79      0.74       123\n",
      "non_infringement       0.76      0.67      0.71       123\n",
      "\n",
      "        accuracy                           0.73       246\n",
      "       macro avg       0.73      0.73      0.73       246\n",
      "    weighted avg       0.73      0.73      0.73       246\n",
      "\n"
     ]
    },
    {
     "name": "stderr",
     "output_type": "stream",
     "text": [
      "Training Epochs:  46%|████▋     | 1157/2500 [00:23<00:26, 51.24it/s]"
     ]
    },
    {
     "name": "stdout",
     "output_type": "stream",
     "text": [
      "Epoch 1150/2500, Loss: 0.0483\n",
      "Test Accuracy at Epoch 1150: 73.58%\n",
      "Test F1-score at Epoch 1150: 0.7210\n",
      "Classification Report at Epoch 1150:\n",
      "                  precision    recall  f1-score   support\n",
      "\n",
      "    infringement       0.71      0.79      0.75       123\n",
      "non_infringement       0.76      0.68      0.72       123\n",
      "\n",
      "        accuracy                           0.74       246\n",
      "       macro avg       0.74      0.74      0.74       246\n",
      "    weighted avg       0.74      0.74      0.74       246\n",
      "\n",
      "Epoch 1160/2500, Loss: 0.0497\n",
      "Test Accuracy at Epoch 1160: 72.76%\n",
      "Test F1-score at Epoch 1160: 0.7100\n",
      "Classification Report at Epoch 1160:\n",
      "                  precision    recall  f1-score   support\n",
      "\n",
      "    infringement       0.70      0.79      0.74       123\n",
      "non_infringement       0.76      0.67      0.71       123\n",
      "\n",
      "        accuracy                           0.73       246\n",
      "       macro avg       0.73      0.73      0.73       246\n",
      "    weighted avg       0.73      0.73      0.73       246\n",
      "\n"
     ]
    },
    {
     "name": "stderr",
     "output_type": "stream",
     "text": [
      "Training Epochs:  47%|████▋     | 1181/2500 [00:23<00:25, 52.21it/s]"
     ]
    },
    {
     "name": "stdout",
     "output_type": "stream",
     "text": [
      "Epoch 1170/2500, Loss: 0.0471\n",
      "Test Accuracy at Epoch 1170: 72.76%\n",
      "Test F1-score at Epoch 1170: 0.7100\n",
      "Classification Report at Epoch 1170:\n",
      "                  precision    recall  f1-score   support\n",
      "\n",
      "    infringement       0.70      0.79      0.74       123\n",
      "non_infringement       0.76      0.67      0.71       123\n",
      "\n",
      "        accuracy                           0.73       246\n",
      "       macro avg       0.73      0.73      0.73       246\n",
      "    weighted avg       0.73      0.73      0.73       246\n",
      "\n",
      "Epoch 1180/2500, Loss: 0.0492\n",
      "Test Accuracy at Epoch 1180: 73.58%\n",
      "Test F1-score at Epoch 1180: 0.7210\n",
      "Classification Report at Epoch 1180:\n",
      "                  precision    recall  f1-score   support\n",
      "\n",
      "    infringement       0.71      0.79      0.75       123\n",
      "non_infringement       0.76      0.68      0.72       123\n",
      "\n",
      "        accuracy                           0.74       246\n",
      "       macro avg       0.74      0.74      0.74       246\n",
      "    weighted avg       0.74      0.74      0.74       246\n",
      "\n"
     ]
    },
    {
     "name": "stderr",
     "output_type": "stream",
     "text": [
      "Training Epochs:  48%|████▊     | 1200/2500 [00:24<00:24, 52.71it/s]"
     ]
    },
    {
     "name": "stdout",
     "output_type": "stream",
     "text": [
      "Epoch 1190/2500, Loss: 0.0489\n",
      "Test Accuracy at Epoch 1190: 72.76%\n",
      "Test F1-score at Epoch 1190: 0.7100\n",
      "Classification Report at Epoch 1190:\n",
      "                  precision    recall  f1-score   support\n",
      "\n",
      "    infringement       0.70      0.79      0.74       123\n",
      "non_infringement       0.76      0.67      0.71       123\n",
      "\n",
      "        accuracy                           0.73       246\n",
      "       macro avg       0.73      0.73      0.73       246\n",
      "    weighted avg       0.73      0.73      0.73       246\n",
      "\n",
      "Epoch 1200/2500, Loss: 0.0475\n",
      "Test Accuracy at Epoch 1200: 72.36%\n",
      "Test F1-score at Epoch 1200: 0.7043\n",
      "Classification Report at Epoch 1200:\n",
      "                  precision    recall  f1-score   support\n",
      "\n",
      "    infringement       0.70      0.79      0.74       123\n",
      "non_infringement       0.76      0.66      0.70       123\n",
      "\n",
      "        accuracy                           0.72       246\n",
      "       macro avg       0.73      0.72      0.72       246\n",
      "    weighted avg       0.73      0.72      0.72       246\n",
      "\n"
     ]
    },
    {
     "name": "stderr",
     "output_type": "stream",
     "text": [
      "Training Epochs:  49%|████▉     | 1220/2500 [00:24<00:24, 52.09it/s]"
     ]
    },
    {
     "name": "stdout",
     "output_type": "stream",
     "text": [
      "Epoch 1210/2500, Loss: 0.0499\n",
      "Test Accuracy at Epoch 1210: 73.58%\n",
      "Test F1-score at Epoch 1210: 0.7210\n",
      "Classification Report at Epoch 1210:\n",
      "                  precision    recall  f1-score   support\n",
      "\n",
      "    infringement       0.71      0.79      0.75       123\n",
      "non_infringement       0.76      0.68      0.72       123\n",
      "\n",
      "        accuracy                           0.74       246\n",
      "       macro avg       0.74      0.74      0.74       246\n",
      "    weighted avg       0.74      0.74      0.74       246\n",
      "\n",
      "Epoch 1220/2500, Loss: 0.0473\n",
      "Test Accuracy at Epoch 1220: 72.76%\n",
      "Test F1-score at Epoch 1220: 0.7100\n",
      "Classification Report at Epoch 1220:\n",
      "                  precision    recall  f1-score   support\n",
      "\n",
      "    infringement       0.70      0.79      0.74       123\n",
      "non_infringement       0.76      0.67      0.71       123\n",
      "\n",
      "        accuracy                           0.73       246\n",
      "       macro avg       0.73      0.73      0.73       246\n",
      "    weighted avg       0.73      0.73      0.73       246\n",
      "\n"
     ]
    },
    {
     "name": "stderr",
     "output_type": "stream",
     "text": [
      "Training Epochs:  50%|████▉     | 1240/2500 [00:24<00:24, 51.15it/s]"
     ]
    },
    {
     "name": "stdout",
     "output_type": "stream",
     "text": [
      "Epoch 1230/2500, Loss: 0.0486\n",
      "Test Accuracy at Epoch 1230: 72.36%\n",
      "Test F1-score at Epoch 1230: 0.7043\n",
      "Classification Report at Epoch 1230:\n",
      "                  precision    recall  f1-score   support\n",
      "\n",
      "    infringement       0.70      0.79      0.74       123\n",
      "non_infringement       0.76      0.66      0.70       123\n",
      "\n",
      "        accuracy                           0.72       246\n",
      "       macro avg       0.73      0.72      0.72       246\n",
      "    weighted avg       0.73      0.72      0.72       246\n",
      "\n",
      "Epoch 1240/2500, Loss: 0.0492\n",
      "Test Accuracy at Epoch 1240: 73.17%\n",
      "Test F1-score at Epoch 1240: 0.7155\n",
      "Classification Report at Epoch 1240:\n",
      "                  precision    recall  f1-score   support\n",
      "\n",
      "    infringement       0.71      0.79      0.75       123\n",
      "non_infringement       0.76      0.67      0.72       123\n",
      "\n",
      "        accuracy                           0.73       246\n",
      "       macro avg       0.73      0.73      0.73       246\n",
      "    weighted avg       0.73      0.73      0.73       246\n",
      "\n"
     ]
    },
    {
     "name": "stderr",
     "output_type": "stream",
     "text": [
      "Training Epochs:  50%|█████     | 1253/2500 [00:25<00:25, 49.62it/s]"
     ]
    },
    {
     "name": "stdout",
     "output_type": "stream",
     "text": [
      "Epoch 1250/2500, Loss: 0.0471\n",
      "Test Accuracy at Epoch 1250: 72.76%\n",
      "Test F1-score at Epoch 1250: 0.7100\n",
      "Classification Report at Epoch 1250:\n",
      "                  precision    recall  f1-score   support\n",
      "\n",
      "    infringement       0.70      0.79      0.74       123\n",
      "non_infringement       0.76      0.67      0.71       123\n",
      "\n",
      "        accuracy                           0.73       246\n",
      "       macro avg       0.73      0.73      0.73       246\n",
      "    weighted avg       0.73      0.73      0.73       246\n",
      "\n"
     ]
    },
    {
     "name": "stderr",
     "output_type": "stream",
     "text": [
      "Training Epochs:  51%|█████     | 1267/2500 [00:25<00:21, 56.24it/s]"
     ]
    },
    {
     "name": "stdout",
     "output_type": "stream",
     "text": [
      "Epoch 1260/2500, Loss: 0.0494\n",
      "Test Accuracy at Epoch 1260: 71.54%\n",
      "Test F1-score at Epoch 1260: 0.6930\n",
      "Classification Report at Epoch 1260:\n",
      "                  precision    recall  f1-score   support\n",
      "\n",
      "    infringement       0.69      0.79      0.73       123\n",
      "non_infringement       0.75      0.64      0.69       123\n",
      "\n",
      "        accuracy                           0.72       246\n",
      "       macro avg       0.72      0.72      0.71       246\n",
      "    weighted avg       0.72      0.72      0.71       246\n",
      "\n",
      "Epoch 1270/2500, Loss: 0.0481\n",
      "Test Accuracy at Epoch 1270: 72.76%\n",
      "Test F1-score at Epoch 1270: 0.7100\n",
      "Classification Report at Epoch 1270:\n",
      "                  precision    recall  f1-score   support\n",
      "\n",
      "    infringement       0.70      0.79      0.74       123\n",
      "non_infringement       0.76      0.67      0.71       123\n",
      "\n",
      "        accuracy                           0.73       246\n",
      "       macro avg       0.73      0.73      0.73       246\n",
      "    weighted avg       0.73      0.73      0.73       246\n",
      "\n"
     ]
    },
    {
     "name": "stderr",
     "output_type": "stream",
     "text": [
      "Training Epochs:  51%|█████▏    | 1287/2500 [00:25<00:21, 56.36it/s]"
     ]
    },
    {
     "name": "stdout",
     "output_type": "stream",
     "text": [
      "Epoch 1280/2500, Loss: 0.0478\n",
      "Test Accuracy at Epoch 1280: 73.58%\n",
      "Test F1-score at Epoch 1280: 0.7210\n",
      "Classification Report at Epoch 1280:\n",
      "                  precision    recall  f1-score   support\n",
      "\n",
      "    infringement       0.71      0.79      0.75       123\n",
      "non_infringement       0.76      0.68      0.72       123\n",
      "\n",
      "        accuracy                           0.74       246\n",
      "       macro avg       0.74      0.74      0.74       246\n",
      "    weighted avg       0.74      0.74      0.74       246\n",
      "\n",
      "Epoch 1290/2500, Loss: 0.0496\n",
      "Test Accuracy at Epoch 1290: 72.36%\n",
      "Test F1-score at Epoch 1290: 0.7043\n",
      "Classification Report at Epoch 1290:\n",
      "                  precision    recall  f1-score   support\n",
      "\n",
      "    infringement       0.70      0.79      0.74       123\n",
      "non_infringement       0.76      0.66      0.70       123\n",
      "\n",
      "        accuracy                           0.72       246\n",
      "       macro avg       0.73      0.72      0.72       246\n",
      "    weighted avg       0.73      0.72      0.72       246\n",
      "\n"
     ]
    },
    {
     "name": "stderr",
     "output_type": "stream",
     "text": [
      "Training Epochs:  52%|█████▏    | 1305/2500 [00:26<00:22, 52.79it/s]"
     ]
    },
    {
     "name": "stdout",
     "output_type": "stream",
     "text": [
      "Epoch 1300/2500, Loss: 0.0472\n",
      "Test Accuracy at Epoch 1300: 72.76%\n",
      "Test F1-score at Epoch 1300: 0.7100\n",
      "Classification Report at Epoch 1300:\n",
      "                  precision    recall  f1-score   support\n",
      "\n",
      "    infringement       0.70      0.79      0.74       123\n",
      "non_infringement       0.76      0.67      0.71       123\n",
      "\n",
      "        accuracy                           0.73       246\n",
      "       macro avg       0.73      0.73      0.73       246\n",
      "    weighted avg       0.73      0.73      0.73       246\n",
      "\n",
      "Epoch 1310/2500, Loss: 0.0484\n",
      "Test Accuracy at Epoch 1310: 73.58%\n",
      "Test F1-score at Epoch 1310: 0.7210\n",
      "Classification Report at Epoch 1310:\n",
      "                  precision    recall  f1-score   support\n",
      "\n",
      "    infringement       0.71      0.79      0.75       123\n",
      "non_infringement       0.76      0.68      0.72       123\n",
      "\n",
      "        accuracy                           0.74       246\n",
      "       macro avg       0.74      0.74      0.74       246\n",
      "    weighted avg       0.74      0.74      0.74       246\n",
      "\n"
     ]
    },
    {
     "name": "stderr",
     "output_type": "stream",
     "text": [
      "Training Epochs:  53%|█████▎    | 1330/2500 [00:26<00:22, 53.07it/s]"
     ]
    },
    {
     "name": "stdout",
     "output_type": "stream",
     "text": [
      "Epoch 1320/2500, Loss: 0.0492\n",
      "Test Accuracy at Epoch 1320: 72.76%\n",
      "Test F1-score at Epoch 1320: 0.7100\n",
      "Classification Report at Epoch 1320:\n",
      "                  precision    recall  f1-score   support\n",
      "\n",
      "    infringement       0.70      0.79      0.74       123\n",
      "non_infringement       0.76      0.67      0.71       123\n",
      "\n",
      "        accuracy                           0.73       246\n",
      "       macro avg       0.73      0.73      0.73       246\n",
      "    weighted avg       0.73      0.73      0.73       246\n",
      "\n",
      "Epoch 1330/2500, Loss: 0.0471\n",
      "Test Accuracy at Epoch 1330: 72.36%\n",
      "Test F1-score at Epoch 1330: 0.7043\n",
      "Classification Report at Epoch 1330:\n",
      "                  precision    recall  f1-score   support\n",
      "\n",
      "    infringement       0.70      0.79      0.74       123\n",
      "non_infringement       0.76      0.66      0.70       123\n",
      "\n",
      "        accuracy                           0.72       246\n",
      "       macro avg       0.73      0.72      0.72       246\n",
      "    weighted avg       0.73      0.72      0.72       246\n",
      "\n"
     ]
    },
    {
     "name": "stderr",
     "output_type": "stream",
     "text": [
      "Training Epochs:  54%|█████▍    | 1349/2500 [00:26<00:22, 52.00it/s]"
     ]
    },
    {
     "name": "stdout",
     "output_type": "stream",
     "text": [
      "Epoch 1340/2500, Loss: 0.0494\n",
      "Test Accuracy at Epoch 1340: 73.58%\n",
      "Test F1-score at Epoch 1340: 0.7210\n",
      "Classification Report at Epoch 1340:\n",
      "                  precision    recall  f1-score   support\n",
      "\n",
      "    infringement       0.71      0.79      0.75       123\n",
      "non_infringement       0.76      0.68      0.72       123\n",
      "\n",
      "        accuracy                           0.74       246\n",
      "       macro avg       0.74      0.74      0.74       246\n",
      "    weighted avg       0.74      0.74      0.74       246\n",
      "\n",
      "Epoch 1350/2500, Loss: 0.0481\n",
      "Test Accuracy at Epoch 1350: 72.76%\n",
      "Test F1-score at Epoch 1350: 0.7100\n",
      "Classification Report at Epoch 1350:\n",
      "                  precision    recall  f1-score   support\n",
      "\n",
      "    infringement       0.70      0.79      0.74       123\n",
      "non_infringement       0.76      0.67      0.71       123\n",
      "\n",
      "        accuracy                           0.73       246\n",
      "       macro avg       0.73      0.73      0.73       246\n",
      "    weighted avg       0.73      0.73      0.73       246\n",
      "\n"
     ]
    },
    {
     "name": "stderr",
     "output_type": "stream",
     "text": [
      "Training Epochs:  55%|█████▍    | 1369/2500 [00:27<00:20, 55.17it/s]"
     ]
    },
    {
     "name": "stdout",
     "output_type": "stream",
     "text": [
      "Epoch 1360/2500, Loss: 0.0475\n",
      "Test Accuracy at Epoch 1360: 72.36%\n",
      "Test F1-score at Epoch 1360: 0.7043\n",
      "Classification Report at Epoch 1360:\n",
      "                  precision    recall  f1-score   support\n",
      "\n",
      "    infringement       0.70      0.79      0.74       123\n",
      "non_infringement       0.76      0.66      0.70       123\n",
      "\n",
      "        accuracy                           0.72       246\n",
      "       macro avg       0.73      0.72      0.72       246\n",
      "    weighted avg       0.73      0.72      0.72       246\n",
      "\n",
      "Epoch 1370/2500, Loss: 0.0495\n",
      "Test Accuracy at Epoch 1370: 73.58%\n",
      "Test F1-score at Epoch 1370: 0.7210\n",
      "Classification Report at Epoch 1370:\n",
      "                  precision    recall  f1-score   support\n",
      "\n",
      "    infringement       0.71      0.79      0.75       123\n",
      "non_infringement       0.76      0.68      0.72       123\n",
      "\n",
      "        accuracy                           0.74       246\n",
      "       macro avg       0.74      0.74      0.74       246\n",
      "    weighted avg       0.74      0.74      0.74       246\n",
      "\n"
     ]
    },
    {
     "name": "stderr",
     "output_type": "stream",
     "text": [
      "Training Epochs:  56%|█████▌    | 1388/2500 [00:27<00:19, 55.62it/s]"
     ]
    },
    {
     "name": "stdout",
     "output_type": "stream",
     "text": [
      "Epoch 1380/2500, Loss: 0.0473\n",
      "Test Accuracy at Epoch 1380: 72.76%\n",
      "Test F1-score at Epoch 1380: 0.7100\n",
      "Classification Report at Epoch 1380:\n",
      "                  precision    recall  f1-score   support\n",
      "\n",
      "    infringement       0.70      0.79      0.74       123\n",
      "non_infringement       0.76      0.67      0.71       123\n",
      "\n",
      "        accuracy                           0.73       246\n",
      "       macro avg       0.73      0.73      0.73       246\n",
      "    weighted avg       0.73      0.73      0.73       246\n",
      "\n",
      "Epoch 1390/2500, Loss: 0.0482\n",
      "Test Accuracy at Epoch 1390: 72.36%\n",
      "Test F1-score at Epoch 1390: 0.7043\n",
      "Classification Report at Epoch 1390:\n",
      "                  precision    recall  f1-score   support\n",
      "\n",
      "    infringement       0.70      0.79      0.74       123\n",
      "non_infringement       0.76      0.66      0.70       123\n",
      "\n",
      "        accuracy                           0.72       246\n",
      "       macro avg       0.73      0.72      0.72       246\n",
      "    weighted avg       0.73      0.72      0.72       246\n",
      "\n"
     ]
    },
    {
     "name": "stderr",
     "output_type": "stream",
     "text": [
      "Training Epochs:  56%|█████▋    | 1408/2500 [00:28<00:20, 54.42it/s]"
     ]
    },
    {
     "name": "stdout",
     "output_type": "stream",
     "text": [
      "Epoch 1400/2500, Loss: 0.0491\n",
      "Test Accuracy at Epoch 1400: 73.17%\n",
      "Test F1-score at Epoch 1400: 0.7155\n",
      "Classification Report at Epoch 1400:\n",
      "                  precision    recall  f1-score   support\n",
      "\n",
      "    infringement       0.71      0.79      0.75       123\n",
      "non_infringement       0.76      0.67      0.72       123\n",
      "\n",
      "        accuracy                           0.73       246\n",
      "       macro avg       0.73      0.73      0.73       246\n",
      "    weighted avg       0.73      0.73      0.73       246\n",
      "\n",
      "Epoch 1410/2500, Loss: 0.0470\n",
      "Test Accuracy at Epoch 1410: 72.76%\n",
      "Test F1-score at Epoch 1410: 0.7100\n",
      "Classification Report at Epoch 1410:\n",
      "                  precision    recall  f1-score   support\n",
      "\n",
      "    infringement       0.70      0.79      0.74       123\n",
      "non_infringement       0.76      0.67      0.71       123\n",
      "\n",
      "        accuracy                           0.73       246\n",
      "       macro avg       0.73      0.73      0.73       246\n",
      "    weighted avg       0.73      0.73      0.73       246\n",
      "\n"
     ]
    },
    {
     "name": "stderr",
     "output_type": "stream",
     "text": [
      "Training Epochs:  57%|█████▋    | 1427/2500 [00:28<00:20, 52.98it/s]"
     ]
    },
    {
     "name": "stdout",
     "output_type": "stream",
     "text": [
      "Epoch 1420/2500, Loss: 0.0486\n",
      "Test Accuracy at Epoch 1420: 71.54%\n",
      "Test F1-score at Epoch 1420: 0.6930\n",
      "Classification Report at Epoch 1420:\n",
      "                  precision    recall  f1-score   support\n",
      "\n",
      "    infringement       0.69      0.79      0.73       123\n",
      "non_infringement       0.75      0.64      0.69       123\n",
      "\n",
      "        accuracy                           0.72       246\n",
      "       macro avg       0.72      0.72      0.71       246\n",
      "    weighted avg       0.72      0.72      0.71       246\n",
      "\n",
      "Epoch 1430/2500, Loss: 0.0486\n",
      "Test Accuracy at Epoch 1430: 73.17%\n",
      "Test F1-score at Epoch 1430: 0.7155\n",
      "Classification Report at Epoch 1430:\n",
      "                  precision    recall  f1-score   support\n",
      "\n",
      "    infringement       0.71      0.79      0.75       123\n",
      "non_infringement       0.76      0.67      0.72       123\n",
      "\n",
      "        accuracy                           0.73       246\n",
      "       macro avg       0.73      0.73      0.73       246\n",
      "    weighted avg       0.73      0.73      0.73       246\n",
      "\n"
     ]
    },
    {
     "name": "stderr",
     "output_type": "stream",
     "text": [
      "Training Epochs:  58%|█████▊    | 1451/2500 [00:28<00:19, 54.86it/s]"
     ]
    },
    {
     "name": "stdout",
     "output_type": "stream",
     "text": [
      "Epoch 1440/2500, Loss: 0.0470\n",
      "Test Accuracy at Epoch 1440: 72.76%\n",
      "Test F1-score at Epoch 1440: 0.7100\n",
      "Classification Report at Epoch 1440:\n",
      "                  precision    recall  f1-score   support\n",
      "\n",
      "    infringement       0.70      0.79      0.74       123\n",
      "non_infringement       0.76      0.67      0.71       123\n",
      "\n",
      "        accuracy                           0.73       246\n",
      "       macro avg       0.73      0.73      0.73       246\n",
      "    weighted avg       0.73      0.73      0.73       246\n",
      "\n",
      "Epoch 1450/2500, Loss: 0.0487\n",
      "Test Accuracy at Epoch 1450: 71.54%\n",
      "Test F1-score at Epoch 1450: 0.6930\n",
      "Classification Report at Epoch 1450:\n",
      "                  precision    recall  f1-score   support\n",
      "\n",
      "    infringement       0.69      0.79      0.73       123\n",
      "non_infringement       0.75      0.64      0.69       123\n",
      "\n",
      "        accuracy                           0.72       246\n",
      "       macro avg       0.72      0.72      0.71       246\n",
      "    weighted avg       0.72      0.72      0.71       246\n",
      "\n"
     ]
    },
    {
     "name": "stderr",
     "output_type": "stream",
     "text": [
      "Training Epochs:  59%|█████▉    | 1471/2500 [00:29<00:19, 54.06it/s]"
     ]
    },
    {
     "name": "stdout",
     "output_type": "stream",
     "text": [
      "Epoch 1460/2500, Loss: 0.0485\n",
      "Test Accuracy at Epoch 1460: 73.17%\n",
      "Test F1-score at Epoch 1460: 0.7155\n",
      "Classification Report at Epoch 1460:\n",
      "                  precision    recall  f1-score   support\n",
      "\n",
      "    infringement       0.71      0.79      0.75       123\n",
      "non_infringement       0.76      0.67      0.72       123\n",
      "\n",
      "        accuracy                           0.73       246\n",
      "       macro avg       0.73      0.73      0.73       246\n",
      "    weighted avg       0.73      0.73      0.73       246\n",
      "\n",
      "Epoch 1470/2500, Loss: 0.0470\n",
      "Test Accuracy at Epoch 1470: 72.76%\n",
      "Test F1-score at Epoch 1470: 0.7100\n",
      "Classification Report at Epoch 1470:\n",
      "                  precision    recall  f1-score   support\n",
      "\n",
      "    infringement       0.70      0.79      0.74       123\n",
      "non_infringement       0.76      0.67      0.71       123\n",
      "\n",
      "        accuracy                           0.73       246\n",
      "       macro avg       0.73      0.73      0.73       246\n",
      "    weighted avg       0.73      0.73      0.73       246\n",
      "\n"
     ]
    },
    {
     "name": "stderr",
     "output_type": "stream",
     "text": [
      "Training Epochs:  59%|█████▉    | 1485/2500 [00:29<00:18, 53.83it/s]"
     ]
    },
    {
     "name": "stdout",
     "output_type": "stream",
     "text": [
      "Epoch 1480/2500, Loss: 0.0470\n",
      "Test Accuracy at Epoch 1480: 72.76%\n",
      "Test F1-score at Epoch 1480: 0.7100\n",
      "Classification Report at Epoch 1480:\n",
      "                  precision    recall  f1-score   support\n",
      "\n",
      "    infringement       0.70      0.79      0.74       123\n",
      "non_infringement       0.76      0.67      0.71       123\n",
      "\n",
      "        accuracy                           0.73       246\n",
      "       macro avg       0.73      0.73      0.73       246\n",
      "    weighted avg       0.73      0.73      0.73       246\n",
      "\n",
      "Epoch 1490/2500, Loss: 0.0470\n",
      "Test Accuracy at Epoch 1490: 72.76%\n",
      "Test F1-score at Epoch 1490: 0.7100\n"
     ]
    },
    {
     "name": "stderr",
     "output_type": "stream",
     "text": [
      "Training Epochs:  60%|█████▉    | 1498/2500 [00:29<00:17, 58.19it/s]"
     ]
    },
    {
     "name": "stdout",
     "output_type": "stream",
     "text": [
      "Classification Report at Epoch 1490:\n",
      "                  precision    recall  f1-score   support\n",
      "\n",
      "    infringement       0.70      0.79      0.74       123\n",
      "non_infringement       0.76      0.67      0.71       123\n",
      "\n",
      "        accuracy                           0.73       246\n",
      "       macro avg       0.73      0.73      0.73       246\n",
      "    weighted avg       0.73      0.73      0.73       246\n",
      "\n",
      "Epoch 1500/2500, Loss: 0.0474\n",
      "Test Accuracy at Epoch 1500: 72.76%\n",
      "Test F1-score at Epoch 1500: 0.7100\n",
      "Classification Report at Epoch 1500:\n",
      "                  precision    recall  f1-score   support\n",
      "\n",
      "    infringement       0.70      0.79      0.74       123\n",
      "non_infringement       0.76      0.67      0.71       123\n",
      "\n",
      "        accuracy                           0.73       246\n",
      "       macro avg       0.73      0.73      0.73       246\n",
      "    weighted avg       0.73      0.73      0.73       246\n",
      "\n"
     ]
    },
    {
     "name": "stderr",
     "output_type": "stream",
     "text": [
      "Training Epochs:  61%|██████    | 1519/2500 [00:30<00:16, 57.95it/s]"
     ]
    },
    {
     "name": "stdout",
     "output_type": "stream",
     "text": [
      "Epoch 1510/2500, Loss: 0.0481\n",
      "Test Accuracy at Epoch 1510: 72.76%\n",
      "Test F1-score at Epoch 1510: 0.7100\n",
      "Classification Report at Epoch 1510:\n",
      "                  precision    recall  f1-score   support\n",
      "\n",
      "    infringement       0.70      0.79      0.74       123\n",
      "non_infringement       0.76      0.67      0.71       123\n",
      "\n",
      "        accuracy                           0.73       246\n",
      "       macro avg       0.73      0.73      0.73       246\n",
      "    weighted avg       0.73      0.73      0.73       246\n",
      "\n",
      "Epoch 1520/2500, Loss: 0.0471\n",
      "Test Accuracy at Epoch 1520: 72.76%\n",
      "Test F1-score at Epoch 1520: 0.7100\n",
      "Classification Report at Epoch 1520:\n",
      "                  precision    recall  f1-score   support\n",
      "\n",
      "    infringement       0.70      0.79      0.74       123\n",
      "non_infringement       0.76      0.67      0.71       123\n",
      "\n",
      "        accuracy                           0.73       246\n",
      "       macro avg       0.73      0.73      0.73       246\n",
      "    weighted avg       0.73      0.73      0.73       246\n",
      "\n"
     ]
    },
    {
     "name": "stderr",
     "output_type": "stream",
     "text": [
      "Training Epochs:  62%|██████▏   | 1539/2500 [00:30<00:16, 57.84it/s]"
     ]
    },
    {
     "name": "stdout",
     "output_type": "stream",
     "text": [
      "Epoch 1530/2500, Loss: 0.0471\n",
      "Test Accuracy at Epoch 1530: 72.76%\n",
      "Test F1-score at Epoch 1530: 0.7100\n",
      "Classification Report at Epoch 1530:\n",
      "                  precision    recall  f1-score   support\n",
      "\n",
      "    infringement       0.70      0.79      0.74       123\n",
      "non_infringement       0.76      0.67      0.71       123\n",
      "\n",
      "        accuracy                           0.73       246\n",
      "       macro avg       0.73      0.73      0.73       246\n",
      "    weighted avg       0.73      0.73      0.73       246\n",
      "\n",
      "Epoch 1540/2500, Loss: 0.0470\n",
      "Test Accuracy at Epoch 1540: 72.76%\n",
      "Test F1-score at Epoch 1540: 0.7100\n",
      "Classification Report at Epoch 1540:\n",
      "                  precision    recall  f1-score   support\n",
      "\n",
      "    infringement       0.70      0.79      0.74       123\n",
      "non_infringement       0.76      0.67      0.71       123\n",
      "\n",
      "        accuracy                           0.73       246\n",
      "       macro avg       0.73      0.73      0.73       246\n",
      "    weighted avg       0.73      0.73      0.73       246\n",
      "\n"
     ]
    },
    {
     "name": "stderr",
     "output_type": "stream",
     "text": [
      "Training Epochs:  62%|██████▏   | 1559/2500 [00:30<00:16, 57.46it/s]"
     ]
    },
    {
     "name": "stdout",
     "output_type": "stream",
     "text": [
      "Epoch 1550/2500, Loss: 0.0474\n",
      "Test Accuracy at Epoch 1550: 72.76%\n",
      "Test F1-score at Epoch 1550: 0.7100\n",
      "Classification Report at Epoch 1550:\n",
      "                  precision    recall  f1-score   support\n",
      "\n",
      "    infringement       0.70      0.79      0.74       123\n",
      "non_infringement       0.76      0.67      0.71       123\n",
      "\n",
      "        accuracy                           0.73       246\n",
      "       macro avg       0.73      0.73      0.73       246\n",
      "    weighted avg       0.73      0.73      0.73       246\n",
      "\n",
      "Epoch 1560/2500, Loss: 0.0480\n",
      "Test Accuracy at Epoch 1560: 72.76%\n",
      "Test F1-score at Epoch 1560: 0.7100\n",
      "Classification Report at Epoch 1560:\n",
      "                  precision    recall  f1-score   support\n",
      "\n",
      "    infringement       0.70      0.79      0.74       123\n",
      "non_infringement       0.76      0.67      0.71       123\n",
      "\n",
      "        accuracy                           0.73       246\n",
      "       macro avg       0.73      0.73      0.73       246\n",
      "    weighted avg       0.73      0.73      0.73       246\n",
      "\n"
     ]
    },
    {
     "name": "stderr",
     "output_type": "stream",
     "text": [
      "Training Epochs:  63%|██████▎   | 1580/2500 [00:31<00:16, 54.28it/s]"
     ]
    },
    {
     "name": "stdout",
     "output_type": "stream",
     "text": [
      "Epoch 1570/2500, Loss: 0.0471\n",
      "Test Accuracy at Epoch 1570: 72.76%\n",
      "Test F1-score at Epoch 1570: 0.7100\n",
      "Classification Report at Epoch 1570:\n",
      "                  precision    recall  f1-score   support\n",
      "\n",
      "    infringement       0.70      0.79      0.74       123\n",
      "non_infringement       0.76      0.67      0.71       123\n",
      "\n",
      "        accuracy                           0.73       246\n",
      "       macro avg       0.73      0.73      0.73       246\n",
      "    weighted avg       0.73      0.73      0.73       246\n",
      "\n",
      "Epoch 1580/2500, Loss: 0.0473\n",
      "Test Accuracy at Epoch 1580: 72.36%\n",
      "Test F1-score at Epoch 1580: 0.7043\n",
      "Classification Report at Epoch 1580:\n",
      "                  precision    recall  f1-score   support\n",
      "\n",
      "    infringement       0.70      0.79      0.74       123\n",
      "non_infringement       0.76      0.66      0.70       123\n",
      "\n",
      "        accuracy                           0.72       246\n",
      "       macro avg       0.73      0.72      0.72       246\n",
      "    weighted avg       0.73      0.72      0.72       246\n",
      "\n"
     ]
    },
    {
     "name": "stderr",
     "output_type": "stream",
     "text": [
      "Training Epochs:  64%|██████▍   | 1602/2500 [00:31<00:16, 55.08it/s]"
     ]
    },
    {
     "name": "stdout",
     "output_type": "stream",
     "text": [
      "Epoch 1590/2500, Loss: 0.0471\n",
      "Test Accuracy at Epoch 1590: 72.76%\n",
      "Test F1-score at Epoch 1590: 0.7100\n",
      "Classification Report at Epoch 1590:\n",
      "                  precision    recall  f1-score   support\n",
      "\n",
      "    infringement       0.70      0.79      0.74       123\n",
      "non_infringement       0.76      0.67      0.71       123\n",
      "\n",
      "        accuracy                           0.73       246\n",
      "       macro avg       0.73      0.73      0.73       246\n",
      "    weighted avg       0.73      0.73      0.73       246\n",
      "\n",
      "Epoch 1600/2500, Loss: 0.0470\n",
      "Test Accuracy at Epoch 1600: 72.36%\n",
      "Test F1-score at Epoch 1600: 0.7043\n",
      "Classification Report at Epoch 1600:\n",
      "                  precision    recall  f1-score   support\n",
      "\n",
      "    infringement       0.70      0.79      0.74       123\n",
      "non_infringement       0.76      0.66      0.70       123\n",
      "\n",
      "        accuracy                           0.72       246\n",
      "       macro avg       0.73      0.72      0.72       246\n",
      "    weighted avg       0.73      0.72      0.72       246\n",
      "\n"
     ]
    },
    {
     "name": "stderr",
     "output_type": "stream",
     "text": [
      "Training Epochs:  65%|██████▍   | 1616/2500 [00:31<00:16, 52.07it/s]"
     ]
    },
    {
     "name": "stdout",
     "output_type": "stream",
     "text": [
      "Epoch 1610/2500, Loss: 0.0473\n",
      "Test Accuracy at Epoch 1610: 73.17%\n",
      "Test F1-score at Epoch 1610: 0.7155\n",
      "Classification Report at Epoch 1610:\n",
      "                  precision    recall  f1-score   support\n",
      "\n",
      "    infringement       0.71      0.79      0.75       123\n",
      "non_infringement       0.76      0.67      0.72       123\n",
      "\n",
      "        accuracy                           0.73       246\n",
      "       macro avg       0.73      0.73      0.73       246\n",
      "    weighted avg       0.73      0.73      0.73       246\n",
      "\n"
     ]
    },
    {
     "name": "stderr",
     "output_type": "stream",
     "text": [
      "Training Epochs:  65%|██████▌   | 1630/2500 [00:32<00:15, 56.90it/s]"
     ]
    },
    {
     "name": "stdout",
     "output_type": "stream",
     "text": [
      "Epoch 1620/2500, Loss: 0.0476\n",
      "Test Accuracy at Epoch 1620: 71.54%\n",
      "Test F1-score at Epoch 1620: 0.6930\n",
      "Classification Report at Epoch 1620:\n",
      "                  precision    recall  f1-score   support\n",
      "\n",
      "    infringement       0.69      0.79      0.73       123\n",
      "non_infringement       0.75      0.64      0.69       123\n",
      "\n",
      "        accuracy                           0.72       246\n",
      "       macro avg       0.72      0.72      0.71       246\n",
      "    weighted avg       0.72      0.72      0.71       246\n",
      "\n",
      "Epoch 1630/2500, Loss: 0.0474\n",
      "Test Accuracy at Epoch 1630: 73.58%\n",
      "Test F1-score at Epoch 1630: 0.7210\n",
      "Classification Report at Epoch 1630:\n",
      "                  precision    recall  f1-score   support\n",
      "\n",
      "    infringement       0.71      0.79      0.75       123\n",
      "non_infringement       0.76      0.68      0.72       123\n",
      "\n",
      "        accuracy                           0.74       246\n",
      "       macro avg       0.74      0.74      0.74       246\n",
      "    weighted avg       0.74      0.74      0.74       246\n",
      "\n"
     ]
    },
    {
     "name": "stderr",
     "output_type": "stream",
     "text": [
      "Training Epochs:  66%|██████▌   | 1649/2500 [00:32<00:14, 57.41it/s]"
     ]
    },
    {
     "name": "stdout",
     "output_type": "stream",
     "text": [
      "Epoch 1640/2500, Loss: 0.0473\n",
      "Test Accuracy at Epoch 1640: 72.36%\n",
      "Test F1-score at Epoch 1640: 0.7043\n",
      "Classification Report at Epoch 1640:\n",
      "                  precision    recall  f1-score   support\n",
      "\n",
      "    infringement       0.70      0.79      0.74       123\n",
      "non_infringement       0.76      0.66      0.70       123\n",
      "\n",
      "        accuracy                           0.72       246\n",
      "       macro avg       0.73      0.72      0.72       246\n",
      "    weighted avg       0.73      0.72      0.72       246\n",
      "\n",
      "Epoch 1650/2500, Loss: 0.0475\n",
      "Test Accuracy at Epoch 1650: 76.02%\n",
      "Test F1-score at Epoch 1650: 0.7531\n",
      "Classification Report at Epoch 1650:\n",
      "                  precision    recall  f1-score   support\n",
      "\n",
      "    infringement       0.75      0.79      0.77       123\n",
      "non_infringement       0.78      0.73      0.75       123\n",
      "\n",
      "        accuracy                           0.76       246\n",
      "       macro avg       0.76      0.76      0.76       246\n",
      "    weighted avg       0.76      0.76      0.76       246\n",
      "\n"
     ]
    },
    {
     "name": "stderr",
     "output_type": "stream",
     "text": [
      "Training Epochs:  67%|██████▋   | 1668/2500 [00:32<00:14, 55.97it/s]"
     ]
    },
    {
     "name": "stdout",
     "output_type": "stream",
     "text": [
      "Epoch 1660/2500, Loss: 0.0475\n",
      "Test Accuracy at Epoch 1660: 71.54%\n",
      "Test F1-score at Epoch 1660: 0.6930\n",
      "Classification Report at Epoch 1660:\n",
      "                  precision    recall  f1-score   support\n",
      "\n",
      "    infringement       0.69      0.79      0.73       123\n",
      "non_infringement       0.75      0.64      0.69       123\n",
      "\n",
      "        accuracy                           0.72       246\n",
      "       macro avg       0.72      0.72      0.71       246\n",
      "    weighted avg       0.72      0.72      0.71       246\n",
      "\n",
      "Epoch 1670/2500, Loss: 0.0474\n",
      "Test Accuracy at Epoch 1670: 76.02%\n",
      "Test F1-score at Epoch 1670: 0.7531\n",
      "Classification Report at Epoch 1670:\n",
      "                  precision    recall  f1-score   support\n",
      "\n",
      "    infringement       0.75      0.79      0.77       123\n",
      "non_infringement       0.78      0.73      0.75       123\n",
      "\n",
      "        accuracy                           0.76       246\n",
      "       macro avg       0.76      0.76      0.76       246\n",
      "    weighted avg       0.76      0.76      0.76       246\n",
      "\n"
     ]
    },
    {
     "name": "stderr",
     "output_type": "stream",
     "text": [
      "Training Epochs:  67%|██████▋   | 1687/2500 [00:33<00:14, 56.28it/s]"
     ]
    },
    {
     "name": "stdout",
     "output_type": "stream",
     "text": [
      "Epoch 1680/2500, Loss: 0.0474\n",
      "Test Accuracy at Epoch 1680: 72.36%\n",
      "Test F1-score at Epoch 1680: 0.7043\n",
      "Classification Report at Epoch 1680:\n",
      "                  precision    recall  f1-score   support\n",
      "\n",
      "    infringement       0.70      0.79      0.74       123\n",
      "non_infringement       0.76      0.66      0.70       123\n",
      "\n",
      "        accuracy                           0.72       246\n",
      "       macro avg       0.73      0.72      0.72       246\n",
      "    weighted avg       0.73      0.72      0.72       246\n",
      "\n",
      "Epoch 1690/2500, Loss: 0.0475\n",
      "Test Accuracy at Epoch 1690: 76.02%\n",
      "Test F1-score at Epoch 1690: 0.7531\n",
      "Classification Report at Epoch 1690:\n",
      "                  precision    recall  f1-score   support\n",
      "\n",
      "    infringement       0.75      0.79      0.77       123\n",
      "non_infringement       0.78      0.73      0.75       123\n",
      "\n",
      "        accuracy                           0.76       246\n",
      "       macro avg       0.76      0.76      0.76       246\n",
      "    weighted avg       0.76      0.76      0.76       246\n",
      "\n"
     ]
    },
    {
     "name": "stderr",
     "output_type": "stream",
     "text": [
      "Training Epochs:  68%|██████▊   | 1711/2500 [00:33<00:14, 54.02it/s]"
     ]
    },
    {
     "name": "stdout",
     "output_type": "stream",
     "text": [
      "Epoch 1700/2500, Loss: 0.0474\n",
      "Test Accuracy at Epoch 1700: 72.36%\n",
      "Test F1-score at Epoch 1700: 0.7043\n",
      "Classification Report at Epoch 1700:\n",
      "                  precision    recall  f1-score   support\n",
      "\n",
      "    infringement       0.70      0.79      0.74       123\n",
      "non_infringement       0.76      0.66      0.70       123\n",
      "\n",
      "        accuracy                           0.72       246\n",
      "       macro avg       0.73      0.72      0.72       246\n",
      "    weighted avg       0.73      0.72      0.72       246\n",
      "\n",
      "Epoch 1710/2500, Loss: 0.0473\n",
      "Test Accuracy at Epoch 1710: 76.02%\n",
      "Test F1-score at Epoch 1710: 0.7531\n",
      "Classification Report at Epoch 1710:\n",
      "                  precision    recall  f1-score   support\n",
      "\n",
      "    infringement       0.75      0.79      0.77       123\n",
      "non_infringement       0.78      0.73      0.75       123\n",
      "\n",
      "        accuracy                           0.76       246\n",
      "       macro avg       0.76      0.76      0.76       246\n",
      "    weighted avg       0.76      0.76      0.76       246\n",
      "\n"
     ]
    },
    {
     "name": "stderr",
     "output_type": "stream",
     "text": [
      "Training Epochs:  69%|██████▉   | 1730/2500 [00:34<00:14, 51.69it/s]"
     ]
    },
    {
     "name": "stdout",
     "output_type": "stream",
     "text": [
      "Epoch 1720/2500, Loss: 0.0474\n",
      "Test Accuracy at Epoch 1720: 71.54%\n",
      "Test F1-score at Epoch 1720: 0.6930\n",
      "Classification Report at Epoch 1720:\n",
      "                  precision    recall  f1-score   support\n",
      "\n",
      "    infringement       0.69      0.79      0.73       123\n",
      "non_infringement       0.75      0.64      0.69       123\n",
      "\n",
      "        accuracy                           0.72       246\n",
      "       macro avg       0.72      0.72      0.71       246\n",
      "    weighted avg       0.72      0.72      0.71       246\n",
      "\n",
      "Epoch 1730/2500, Loss: 0.0473\n",
      "Test Accuracy at Epoch 1730: 76.02%\n",
      "Test F1-score at Epoch 1730: 0.7531\n",
      "Classification Report at Epoch 1730:\n",
      "                  precision    recall  f1-score   support\n",
      "\n",
      "    infringement       0.75      0.79      0.77       123\n",
      "non_infringement       0.78      0.73      0.75       123\n",
      "\n",
      "        accuracy                           0.76       246\n",
      "       macro avg       0.76      0.76      0.76       246\n",
      "    weighted avg       0.76      0.76      0.76       246\n",
      "\n"
     ]
    },
    {
     "name": "stderr",
     "output_type": "stream",
     "text": [
      "Training Epochs:  70%|███████   | 1750/2500 [00:34<00:14, 52.04it/s]"
     ]
    },
    {
     "name": "stdout",
     "output_type": "stream",
     "text": [
      "Epoch 1740/2500, Loss: 0.0473\n",
      "Test Accuracy at Epoch 1740: 72.36%\n",
      "Test F1-score at Epoch 1740: 0.7043\n",
      "Classification Report at Epoch 1740:\n",
      "                  precision    recall  f1-score   support\n",
      "\n",
      "    infringement       0.70      0.79      0.74       123\n",
      "non_infringement       0.76      0.66      0.70       123\n",
      "\n",
      "        accuracy                           0.72       246\n",
      "       macro avg       0.73      0.72      0.72       246\n",
      "    weighted avg       0.73      0.72      0.72       246\n",
      "\n",
      "Epoch 1750/2500, Loss: 0.0473\n",
      "Test Accuracy at Epoch 1750: 75.61%\n",
      "Test F1-score at Epoch 1750: 0.7479\n",
      "Classification Report at Epoch 1750:\n",
      "                  precision    recall  f1-score   support\n",
      "\n",
      "    infringement       0.74      0.79      0.76       123\n",
      "non_infringement       0.77      0.72      0.75       123\n",
      "\n",
      "        accuracy                           0.76       246\n",
      "       macro avg       0.76      0.76      0.76       246\n",
      "    weighted avg       0.76      0.76      0.76       246\n",
      "\n"
     ]
    },
    {
     "name": "stderr",
     "output_type": "stream",
     "text": [
      "Training Epochs:  71%|███████   | 1763/2500 [00:34<00:14, 49.68it/s]"
     ]
    },
    {
     "name": "stdout",
     "output_type": "stream",
     "text": [
      "Epoch 1760/2500, Loss: 0.0472\n",
      "Test Accuracy at Epoch 1760: 72.36%\n",
      "Test F1-score at Epoch 1760: 0.7043\n",
      "Classification Report at Epoch 1760:\n",
      "                  precision    recall  f1-score   support\n",
      "\n",
      "    infringement       0.70      0.79      0.74       123\n",
      "non_infringement       0.76      0.66      0.70       123\n",
      "\n",
      "        accuracy                           0.72       246\n",
      "       macro avg       0.73      0.72      0.72       246\n",
      "    weighted avg       0.73      0.72      0.72       246\n",
      "\n"
     ]
    },
    {
     "name": "stderr",
     "output_type": "stream",
     "text": [
      "Training Epochs:  71%|███████   | 1777/2500 [00:34<00:12, 56.96it/s]"
     ]
    },
    {
     "name": "stdout",
     "output_type": "stream",
     "text": [
      "Epoch 1770/2500, Loss: 0.0472\n",
      "Test Accuracy at Epoch 1770: 75.61%\n",
      "Test F1-score at Epoch 1770: 0.7479\n",
      "Classification Report at Epoch 1770:\n",
      "                  precision    recall  f1-score   support\n",
      "\n",
      "    infringement       0.74      0.79      0.76       123\n",
      "non_infringement       0.77      0.72      0.75       123\n",
      "\n",
      "        accuracy                           0.76       246\n",
      "       macro avg       0.76      0.76      0.76       246\n",
      "    weighted avg       0.76      0.76      0.76       246\n",
      "\n",
      "Epoch 1780/2500, Loss: 0.0472\n",
      "Test Accuracy at Epoch 1780: 72.36%\n",
      "Test F1-score at Epoch 1780: 0.7043\n",
      "Classification Report at Epoch 1780:\n",
      "                  precision    recall  f1-score   support\n",
      "\n",
      "    infringement       0.70      0.79      0.74       123\n",
      "non_infringement       0.76      0.66      0.70       123\n",
      "\n",
      "        accuracy                           0.72       246\n",
      "       macro avg       0.73      0.72      0.72       246\n",
      "    weighted avg       0.73      0.72      0.72       246\n",
      "\n"
     ]
    },
    {
     "name": "stderr",
     "output_type": "stream",
     "text": [
      "Training Epochs:  72%|███████▏  | 1797/2500 [00:35<00:12, 55.92it/s]"
     ]
    },
    {
     "name": "stdout",
     "output_type": "stream",
     "text": [
      "Epoch 1790/2500, Loss: 0.0471\n",
      "Test Accuracy at Epoch 1790: 75.61%\n",
      "Test F1-score at Epoch 1790: 0.7479\n",
      "Classification Report at Epoch 1790:\n",
      "                  precision    recall  f1-score   support\n",
      "\n",
      "    infringement       0.74      0.79      0.76       123\n",
      "non_infringement       0.77      0.72      0.75       123\n",
      "\n",
      "        accuracy                           0.76       246\n",
      "       macro avg       0.76      0.76      0.76       246\n",
      "    weighted avg       0.76      0.76      0.76       246\n",
      "\n",
      "Epoch 1800/2500, Loss: 0.0471\n",
      "Test Accuracy at Epoch 1800: 72.36%\n",
      "Test F1-score at Epoch 1800: 0.7043\n",
      "Classification Report at Epoch 1800:\n",
      "                  precision    recall  f1-score   support\n",
      "\n",
      "    infringement       0.70      0.79      0.74       123\n",
      "non_infringement       0.76      0.66      0.70       123\n",
      "\n",
      "        accuracy                           0.72       246\n",
      "       macro avg       0.73      0.72      0.72       246\n",
      "    weighted avg       0.73      0.72      0.72       246\n",
      "\n"
     ]
    },
    {
     "name": "stderr",
     "output_type": "stream",
     "text": [
      "Training Epochs:  73%|███████▎  | 1818/2500 [00:35<00:11, 57.31it/s]"
     ]
    },
    {
     "name": "stdout",
     "output_type": "stream",
     "text": [
      "Epoch 1810/2500, Loss: 0.0471\n",
      "Test Accuracy at Epoch 1810: 75.61%\n",
      "Test F1-score at Epoch 1810: 0.7479\n",
      "Classification Report at Epoch 1810:\n",
      "                  precision    recall  f1-score   support\n",
      "\n",
      "    infringement       0.74      0.79      0.76       123\n",
      "non_infringement       0.77      0.72      0.75       123\n",
      "\n",
      "        accuracy                           0.76       246\n",
      "       macro avg       0.76      0.76      0.76       246\n",
      "    weighted avg       0.76      0.76      0.76       246\n",
      "\n",
      "Epoch 1820/2500, Loss: 0.0470\n",
      "Test Accuracy at Epoch 1820: 72.36%\n",
      "Test F1-score at Epoch 1820: 0.7043\n",
      "Classification Report at Epoch 1820:\n",
      "                  precision    recall  f1-score   support\n",
      "\n",
      "    infringement       0.70      0.79      0.74       123\n",
      "non_infringement       0.76      0.66      0.70       123\n",
      "\n",
      "        accuracy                           0.72       246\n",
      "       macro avg       0.73      0.72      0.72       246\n",
      "    weighted avg       0.73      0.72      0.72       246\n",
      "\n"
     ]
    },
    {
     "name": "stderr",
     "output_type": "stream",
     "text": [
      "Training Epochs:  73%|███████▎  | 1837/2500 [00:36<00:11, 56.18it/s]"
     ]
    },
    {
     "name": "stdout",
     "output_type": "stream",
     "text": [
      "Epoch 1830/2500, Loss: 0.0470\n",
      "Test Accuracy at Epoch 1830: 76.02%\n",
      "Test F1-score at Epoch 1830: 0.7531\n",
      "Classification Report at Epoch 1830:\n",
      "                  precision    recall  f1-score   support\n",
      "\n",
      "    infringement       0.75      0.79      0.77       123\n",
      "non_infringement       0.78      0.73      0.75       123\n",
      "\n",
      "        accuracy                           0.76       246\n",
      "       macro avg       0.76      0.76      0.76       246\n",
      "    weighted avg       0.76      0.76      0.76       246\n",
      "\n",
      "Epoch 1840/2500, Loss: 0.0470\n",
      "Test Accuracy at Epoch 1840: 72.36%\n",
      "Test F1-score at Epoch 1840: 0.7043\n",
      "Classification Report at Epoch 1840:\n",
      "                  precision    recall  f1-score   support\n",
      "\n",
      "    infringement       0.70      0.79      0.74       123\n",
      "non_infringement       0.76      0.66      0.70       123\n",
      "\n",
      "        accuracy                           0.72       246\n",
      "       macro avg       0.73      0.72      0.72       246\n",
      "    weighted avg       0.73      0.72      0.72       246\n",
      "\n"
     ]
    },
    {
     "name": "stderr",
     "output_type": "stream",
     "text": [
      "Training Epochs:  74%|███████▍  | 1858/2500 [00:36<00:11, 57.27it/s]"
     ]
    },
    {
     "name": "stdout",
     "output_type": "stream",
     "text": [
      "Epoch 1850/2500, Loss: 0.0470\n",
      "Test Accuracy at Epoch 1850: 76.02%\n",
      "Test F1-score at Epoch 1850: 0.7531\n",
      "Classification Report at Epoch 1850:\n",
      "                  precision    recall  f1-score   support\n",
      "\n",
      "    infringement       0.75      0.79      0.77       123\n",
      "non_infringement       0.78      0.73      0.75       123\n",
      "\n",
      "        accuracy                           0.76       246\n",
      "       macro avg       0.76      0.76      0.76       246\n",
      "    weighted avg       0.76      0.76      0.76       246\n",
      "\n",
      "Epoch 1860/2500, Loss: 0.0470\n",
      "Test Accuracy at Epoch 1860: 72.36%\n",
      "Test F1-score at Epoch 1860: 0.7043\n",
      "Classification Report at Epoch 1860:\n",
      "                  precision    recall  f1-score   support\n",
      "\n",
      "    infringement       0.70      0.79      0.74       123\n",
      "non_infringement       0.76      0.66      0.70       123\n",
      "\n",
      "        accuracy                           0.72       246\n",
      "       macro avg       0.73      0.72      0.72       246\n",
      "    weighted avg       0.73      0.72      0.72       246\n",
      "\n"
     ]
    },
    {
     "name": "stderr",
     "output_type": "stream",
     "text": [
      "Training Epochs:  75%|███████▌  | 1877/2500 [00:36<00:11, 54.78it/s]"
     ]
    },
    {
     "name": "stdout",
     "output_type": "stream",
     "text": [
      "Epoch 1870/2500, Loss: 0.0470\n",
      "Test Accuracy at Epoch 1870: 73.58%\n",
      "Test F1-score at Epoch 1870: 0.7210\n",
      "Classification Report at Epoch 1870:\n",
      "                  precision    recall  f1-score   support\n",
      "\n",
      "    infringement       0.71      0.79      0.75       123\n",
      "non_infringement       0.76      0.68      0.72       123\n",
      "\n",
      "        accuracy                           0.74       246\n",
      "       macro avg       0.74      0.74      0.74       246\n",
      "    weighted avg       0.74      0.74      0.74       246\n",
      "\n",
      "Epoch 1880/2500, Loss: 0.0469\n",
      "Test Accuracy at Epoch 1880: 72.76%\n",
      "Test F1-score at Epoch 1880: 0.7100\n",
      "Classification Report at Epoch 1880:\n",
      "                  precision    recall  f1-score   support\n",
      "\n",
      "    infringement       0.70      0.79      0.74       123\n",
      "non_infringement       0.76      0.67      0.71       123\n",
      "\n",
      "        accuracy                           0.73       246\n",
      "       macro avg       0.73      0.73      0.73       246\n",
      "    weighted avg       0.73      0.73      0.73       246\n",
      "\n"
     ]
    },
    {
     "name": "stderr",
     "output_type": "stream",
     "text": [
      "Training Epochs:  76%|███████▌  | 1896/2500 [00:37<00:11, 54.15it/s]"
     ]
    },
    {
     "name": "stdout",
     "output_type": "stream",
     "text": [
      "Epoch 1890/2500, Loss: 0.0469\n",
      "Test Accuracy at Epoch 1890: 73.58%\n",
      "Test F1-score at Epoch 1890: 0.7210\n",
      "Classification Report at Epoch 1890:\n",
      "                  precision    recall  f1-score   support\n",
      "\n",
      "    infringement       0.71      0.79      0.75       123\n",
      "non_infringement       0.76      0.68      0.72       123\n",
      "\n",
      "        accuracy                           0.74       246\n",
      "       macro avg       0.74      0.74      0.74       246\n",
      "    weighted avg       0.74      0.74      0.74       246\n",
      "\n"
     ]
    },
    {
     "name": "stderr",
     "output_type": "stream",
     "text": [
      "Training Epochs:  76%|███████▋  | 1909/2500 [00:37<00:10, 57.55it/s]"
     ]
    },
    {
     "name": "stdout",
     "output_type": "stream",
     "text": [
      "Epoch 1900/2500, Loss: 0.0469\n",
      "Test Accuracy at Epoch 1900: 72.76%\n",
      "Test F1-score at Epoch 1900: 0.7100\n",
      "Classification Report at Epoch 1900:\n",
      "                  precision    recall  f1-score   support\n",
      "\n",
      "    infringement       0.70      0.79      0.74       123\n",
      "non_infringement       0.76      0.67      0.71       123\n",
      "\n",
      "        accuracy                           0.73       246\n",
      "       macro avg       0.73      0.73      0.73       246\n",
      "    weighted avg       0.73      0.73      0.73       246\n",
      "\n",
      "Epoch 1910/2500, Loss: 0.0470\n",
      "Test Accuracy at Epoch 1910: 73.58%\n",
      "Test F1-score at Epoch 1910: 0.7210\n",
      "Classification Report at Epoch 1910:\n",
      "                  precision    recall  f1-score   support\n",
      "\n",
      "    infringement       0.71      0.79      0.75       123\n",
      "non_infringement       0.76      0.68      0.72       123\n",
      "\n",
      "        accuracy                           0.74       246\n",
      "       macro avg       0.74      0.74      0.74       246\n",
      "    weighted avg       0.74      0.74      0.74       246\n",
      "\n"
     ]
    },
    {
     "name": "stderr",
     "output_type": "stream",
     "text": [
      "Training Epochs:  77%|███████▋  | 1928/2500 [00:37<00:10, 56.36it/s]"
     ]
    },
    {
     "name": "stdout",
     "output_type": "stream",
     "text": [
      "Epoch 1920/2500, Loss: 0.0470\n",
      "Test Accuracy at Epoch 1920: 73.17%\n",
      "Test F1-score at Epoch 1920: 0.7155\n",
      "Classification Report at Epoch 1920:\n",
      "                  precision    recall  f1-score   support\n",
      "\n",
      "    infringement       0.71      0.79      0.75       123\n",
      "non_infringement       0.76      0.67      0.72       123\n",
      "\n",
      "        accuracy                           0.73       246\n",
      "       macro avg       0.73      0.73      0.73       246\n",
      "    weighted avg       0.73      0.73      0.73       246\n",
      "\n",
      "Epoch 1930/2500, Loss: 0.0470\n",
      "Test Accuracy at Epoch 1930: 73.58%\n",
      "Test F1-score at Epoch 1930: 0.7210\n",
      "Classification Report at Epoch 1930:\n",
      "                  precision    recall  f1-score   support\n",
      "\n",
      "    infringement       0.71      0.79      0.75       123\n",
      "non_infringement       0.76      0.68      0.72       123\n",
      "\n",
      "        accuracy                           0.74       246\n",
      "       macro avg       0.74      0.74      0.74       246\n",
      "    weighted avg       0.74      0.74      0.74       246\n",
      "\n"
     ]
    },
    {
     "name": "stderr",
     "output_type": "stream",
     "text": [
      "Training Epochs:  78%|███████▊  | 1947/2500 [00:38<00:09, 55.31it/s]"
     ]
    },
    {
     "name": "stdout",
     "output_type": "stream",
     "text": [
      "Epoch 1940/2500, Loss: 0.0470\n",
      "Test Accuracy at Epoch 1940: 73.17%\n",
      "Test F1-score at Epoch 1940: 0.7155\n",
      "Classification Report at Epoch 1940:\n",
      "                  precision    recall  f1-score   support\n",
      "\n",
      "    infringement       0.71      0.79      0.75       123\n",
      "non_infringement       0.76      0.67      0.72       123\n",
      "\n",
      "        accuracy                           0.73       246\n",
      "       macro avg       0.73      0.73      0.73       246\n",
      "    weighted avg       0.73      0.73      0.73       246\n",
      "\n",
      "Epoch 1950/2500, Loss: 0.0471\n",
      "Test Accuracy at Epoch 1950: 73.17%\n",
      "Test F1-score at Epoch 1950: 0.7155\n",
      "Classification Report at Epoch 1950:\n",
      "                  precision    recall  f1-score   support\n",
      "\n",
      "    infringement       0.71      0.79      0.75       123\n",
      "non_infringement       0.76      0.67      0.72       123\n",
      "\n",
      "        accuracy                           0.73       246\n",
      "       macro avg       0.73      0.73      0.73       246\n",
      "    weighted avg       0.73      0.73      0.73       246\n",
      "\n"
     ]
    },
    {
     "name": "stderr",
     "output_type": "stream",
     "text": [
      "Training Epochs:  79%|███████▉  | 1971/2500 [00:38<00:09, 54.54it/s]"
     ]
    },
    {
     "name": "stdout",
     "output_type": "stream",
     "text": [
      "Epoch 1960/2500, Loss: 0.0471\n",
      "Test Accuracy at Epoch 1960: 73.58%\n",
      "Test F1-score at Epoch 1960: 0.7210\n",
      "Classification Report at Epoch 1960:\n",
      "                  precision    recall  f1-score   support\n",
      "\n",
      "    infringement       0.71      0.79      0.75       123\n",
      "non_infringement       0.76      0.68      0.72       123\n",
      "\n",
      "        accuracy                           0.74       246\n",
      "       macro avg       0.74      0.74      0.74       246\n",
      "    weighted avg       0.74      0.74      0.74       246\n",
      "\n",
      "Epoch 1970/2500, Loss: 0.0472\n",
      "Test Accuracy at Epoch 1970: 73.17%\n",
      "Test F1-score at Epoch 1970: 0.7155\n",
      "Classification Report at Epoch 1970:\n",
      "                  precision    recall  f1-score   support\n",
      "\n",
      "    infringement       0.71      0.79      0.75       123\n",
      "non_infringement       0.76      0.67      0.72       123\n",
      "\n",
      "        accuracy                           0.73       246\n",
      "       macro avg       0.73      0.73      0.73       246\n",
      "    weighted avg       0.73      0.73      0.73       246\n",
      "\n"
     ]
    },
    {
     "name": "stderr",
     "output_type": "stream",
     "text": [
      "Training Epochs:  80%|███████▉  | 1990/2500 [00:38<00:09, 53.36it/s]"
     ]
    },
    {
     "name": "stdout",
     "output_type": "stream",
     "text": [
      "Epoch 1980/2500, Loss: 0.0473\n",
      "Test Accuracy at Epoch 1980: 76.02%\n",
      "Test F1-score at Epoch 1980: 0.7531\n",
      "Classification Report at Epoch 1980:\n",
      "                  precision    recall  f1-score   support\n",
      "\n",
      "    infringement       0.75      0.79      0.77       123\n",
      "non_infringement       0.78      0.73      0.75       123\n",
      "\n",
      "        accuracy                           0.76       246\n",
      "       macro avg       0.76      0.76      0.76       246\n",
      "    weighted avg       0.76      0.76      0.76       246\n",
      "\n",
      "Epoch 1990/2500, Loss: 0.0474\n",
      "Test Accuracy at Epoch 1990: 72.76%\n",
      "Test F1-score at Epoch 1990: 0.7100\n",
      "Classification Report at Epoch 1990:\n",
      "                  precision    recall  f1-score   support\n",
      "\n",
      "    infringement       0.70      0.79      0.74       123\n",
      "non_infringement       0.76      0.67      0.71       123\n",
      "\n",
      "        accuracy                           0.73       246\n",
      "       macro avg       0.73      0.73      0.73       246\n",
      "    weighted avg       0.73      0.73      0.73       246\n",
      "\n"
     ]
    },
    {
     "name": "stderr",
     "output_type": "stream",
     "text": [
      "Training Epochs:  80%|████████  | 2009/2500 [00:39<00:08, 54.87it/s]"
     ]
    },
    {
     "name": "stdout",
     "output_type": "stream",
     "text": [
      "Epoch 2000/2500, Loss: 0.0475\n",
      "Test Accuracy at Epoch 2000: 76.02%\n",
      "Test F1-score at Epoch 2000: 0.7531\n",
      "Classification Report at Epoch 2000:\n",
      "                  precision    recall  f1-score   support\n",
      "\n",
      "    infringement       0.75      0.79      0.77       123\n",
      "non_infringement       0.78      0.73      0.75       123\n",
      "\n",
      "        accuracy                           0.76       246\n",
      "       macro avg       0.76      0.76      0.76       246\n",
      "    weighted avg       0.76      0.76      0.76       246\n",
      "\n",
      "Epoch 2010/2500, Loss: 0.0476\n",
      "Test Accuracy at Epoch 2010: 72.76%\n",
      "Test F1-score at Epoch 2010: 0.7100\n",
      "Classification Report at Epoch 2010:\n",
      "                  precision    recall  f1-score   support\n",
      "\n",
      "    infringement       0.70      0.79      0.74       123\n",
      "non_infringement       0.76      0.67      0.71       123\n",
      "\n",
      "        accuracy                           0.73       246\n",
      "       macro avg       0.73      0.73      0.73       246\n",
      "    weighted avg       0.73      0.73      0.73       246\n",
      "\n"
     ]
    },
    {
     "name": "stderr",
     "output_type": "stream",
     "text": [
      "Training Epochs:  81%|████████  | 2028/2500 [00:39<00:08, 54.05it/s]"
     ]
    },
    {
     "name": "stdout",
     "output_type": "stream",
     "text": [
      "Epoch 2020/2500, Loss: 0.0477\n",
      "Test Accuracy at Epoch 2020: 76.83%\n",
      "Test F1-score at Epoch 2020: 0.7635\n",
      "Classification Report at Epoch 2020:\n",
      "                  precision    recall  f1-score   support\n",
      "\n",
      "    infringement       0.76      0.79      0.77       123\n",
      "non_infringement       0.78      0.75      0.76       123\n",
      "\n",
      "        accuracy                           0.77       246\n",
      "       macro avg       0.77      0.77      0.77       246\n",
      "    weighted avg       0.77      0.77      0.77       246\n",
      "\n",
      "Epoch 2030/2500, Loss: 0.0478\n",
      "Test Accuracy at Epoch 2030: 73.17%\n",
      "Test F1-score at Epoch 2030: 0.7155\n",
      "Classification Report at Epoch 2030:\n",
      "                  precision    recall  f1-score   support\n",
      "\n",
      "    infringement       0.71      0.79      0.75       123\n",
      "non_infringement       0.76      0.67      0.72       123\n",
      "\n",
      "        accuracy                           0.73       246\n",
      "       macro avg       0.73      0.73      0.73       246\n",
      "    weighted avg       0.73      0.73      0.73       246\n",
      "\n"
     ]
    },
    {
     "name": "stderr",
     "output_type": "stream",
     "text": [
      "Training Epochs:  82%|████████▏ | 2047/2500 [00:40<00:08, 54.73it/s]"
     ]
    },
    {
     "name": "stdout",
     "output_type": "stream",
     "text": [
      "Epoch 2040/2500, Loss: 0.0479\n",
      "Test Accuracy at Epoch 2040: 76.02%\n",
      "Test F1-score at Epoch 2040: 0.7572\n",
      "Classification Report at Epoch 2040:\n",
      "                  precision    recall  f1-score   support\n",
      "\n",
      "    infringement       0.75      0.77      0.76       123\n",
      "non_infringement       0.77      0.75      0.76       123\n",
      "\n",
      "        accuracy                           0.76       246\n",
      "       macro avg       0.76      0.76      0.76       246\n",
      "    weighted avg       0.76      0.76      0.76       246\n",
      "\n",
      "Epoch 2050/2500, Loss: 0.0480\n",
      "Test Accuracy at Epoch 2050: 72.36%\n",
      "Test F1-score at Epoch 2050: 0.7043\n",
      "Classification Report at Epoch 2050:\n",
      "                  precision    recall  f1-score   support\n",
      "\n",
      "    infringement       0.70      0.79      0.74       123\n",
      "non_infringement       0.76      0.66      0.70       123\n",
      "\n",
      "        accuracy                           0.72       246\n",
      "       macro avg       0.73      0.72      0.72       246\n",
      "    weighted avg       0.73      0.72      0.72       246\n",
      "\n"
     ]
    },
    {
     "name": "stderr",
     "output_type": "stream",
     "text": [
      "Training Epochs:  83%|████████▎ | 2067/2500 [00:40<00:07, 55.66it/s]"
     ]
    },
    {
     "name": "stdout",
     "output_type": "stream",
     "text": [
      "Epoch 2060/2500, Loss: 0.0481\n",
      "Test Accuracy at Epoch 2060: 76.02%\n",
      "Test F1-score at Epoch 2060: 0.7572\n",
      "Classification Report at Epoch 2060:\n",
      "                  precision    recall  f1-score   support\n",
      "\n",
      "    infringement       0.75      0.77      0.76       123\n",
      "non_infringement       0.77      0.75      0.76       123\n",
      "\n",
      "        accuracy                           0.76       246\n",
      "       macro avg       0.76      0.76      0.76       246\n",
      "    weighted avg       0.76      0.76      0.76       246\n",
      "\n",
      "Epoch 2070/2500, Loss: 0.0483\n",
      "Test Accuracy at Epoch 2070: 72.36%\n",
      "Test F1-score at Epoch 2070: 0.7043\n",
      "Classification Report at Epoch 2070:\n",
      "                  precision    recall  f1-score   support\n",
      "\n",
      "    infringement       0.70      0.79      0.74       123\n",
      "non_infringement       0.76      0.66      0.70       123\n",
      "\n",
      "        accuracy                           0.72       246\n",
      "       macro avg       0.73      0.72      0.72       246\n",
      "    weighted avg       0.73      0.72      0.72       246\n",
      "\n"
     ]
    },
    {
     "name": "stderr",
     "output_type": "stream",
     "text": [
      "Training Epochs:  83%|████████▎ | 2086/2500 [00:40<00:08, 51.55it/s]"
     ]
    },
    {
     "name": "stdout",
     "output_type": "stream",
     "text": [
      "Epoch 2080/2500, Loss: 0.0483\n",
      "Test Accuracy at Epoch 2080: 76.42%\n",
      "Test F1-score at Epoch 2080: 0.7623\n",
      "Classification Report at Epoch 2080:\n",
      "                  precision    recall  f1-score   support\n",
      "\n",
      "    infringement       0.76      0.77      0.77       123\n",
      "non_infringement       0.77      0.76      0.76       123\n",
      "\n",
      "        accuracy                           0.76       246\n",
      "       macro avg       0.76      0.76      0.76       246\n",
      "    weighted avg       0.76      0.76      0.76       246\n",
      "\n"
     ]
    },
    {
     "name": "stderr",
     "output_type": "stream",
     "text": [
      "Training Epochs:  84%|████████▍ | 2099/2500 [00:40<00:07, 56.87it/s]"
     ]
    },
    {
     "name": "stdout",
     "output_type": "stream",
     "text": [
      "Epoch 2090/2500, Loss: 0.0484\n",
      "Test Accuracy at Epoch 2090: 72.36%\n",
      "Test F1-score at Epoch 2090: 0.7043\n",
      "Classification Report at Epoch 2090:\n",
      "                  precision    recall  f1-score   support\n",
      "\n",
      "    infringement       0.70      0.79      0.74       123\n",
      "non_infringement       0.76      0.66      0.70       123\n",
      "\n",
      "        accuracy                           0.72       246\n",
      "       macro avg       0.73      0.72      0.72       246\n",
      "    weighted avg       0.73      0.72      0.72       246\n",
      "\n",
      "Epoch 2100/2500, Loss: 0.0484\n",
      "Test Accuracy at Epoch 2100: 76.83%\n",
      "Test F1-score at Epoch 2100: 0.7673\n",
      "Classification Report at Epoch 2100:\n",
      "                  precision    recall  f1-score   support\n",
      "\n",
      "    infringement       0.77      0.77      0.77       123\n",
      "non_infringement       0.77      0.76      0.77       123\n",
      "\n",
      "        accuracy                           0.77       246\n",
      "       macro avg       0.77      0.77      0.77       246\n",
      "    weighted avg       0.77      0.77      0.77       246\n",
      "\n"
     ]
    },
    {
     "name": "stderr",
     "output_type": "stream",
     "text": [
      "Training Epochs:  85%|████████▍ | 2118/2500 [00:41<00:06, 56.19it/s]"
     ]
    },
    {
     "name": "stdout",
     "output_type": "stream",
     "text": [
      "Epoch 2110/2500, Loss: 0.0485\n",
      "Test Accuracy at Epoch 2110: 72.36%\n",
      "Test F1-score at Epoch 2110: 0.7043\n",
      "Classification Report at Epoch 2110:\n",
      "                  precision    recall  f1-score   support\n",
      "\n",
      "    infringement       0.70      0.79      0.74       123\n",
      "non_infringement       0.76      0.66      0.70       123\n",
      "\n",
      "        accuracy                           0.72       246\n",
      "       macro avg       0.73      0.72      0.72       246\n",
      "    weighted avg       0.73      0.72      0.72       246\n",
      "\n",
      "Epoch 2120/2500, Loss: 0.0485\n",
      "Test Accuracy at Epoch 2120: 76.83%\n",
      "Test F1-score at Epoch 2120: 0.7673\n",
      "Classification Report at Epoch 2120:\n",
      "                  precision    recall  f1-score   support\n",
      "\n",
      "    infringement       0.77      0.77      0.77       123\n",
      "non_infringement       0.77      0.76      0.77       123\n",
      "\n",
      "        accuracy                           0.77       246\n",
      "       macro avg       0.77      0.77      0.77       246\n",
      "    weighted avg       0.77      0.77      0.77       246\n",
      "\n"
     ]
    },
    {
     "name": "stderr",
     "output_type": "stream",
     "text": [
      "Training Epochs:  85%|████████▌ | 2137/2500 [00:41<00:06, 56.45it/s]"
     ]
    },
    {
     "name": "stdout",
     "output_type": "stream",
     "text": [
      "Epoch 2130/2500, Loss: 0.0485\n",
      "Test Accuracy at Epoch 2130: 72.36%\n",
      "Test F1-score at Epoch 2130: 0.7043\n",
      "Classification Report at Epoch 2130:\n",
      "                  precision    recall  f1-score   support\n",
      "\n",
      "    infringement       0.70      0.79      0.74       123\n",
      "non_infringement       0.76      0.66      0.70       123\n",
      "\n",
      "        accuracy                           0.72       246\n",
      "       macro avg       0.73      0.72      0.72       246\n",
      "    weighted avg       0.73      0.72      0.72       246\n",
      "\n",
      "Epoch 2140/2500, Loss: 0.0484\n",
      "Test Accuracy at Epoch 2140: 76.83%\n",
      "Test F1-score at Epoch 2140: 0.7673\n",
      "Classification Report at Epoch 2140:\n",
      "                  precision    recall  f1-score   support\n",
      "\n",
      "    infringement       0.77      0.77      0.77       123\n",
      "non_infringement       0.77      0.76      0.77       123\n",
      "\n",
      "        accuracy                           0.77       246\n",
      "       macro avg       0.77      0.77      0.77       246\n",
      "    weighted avg       0.77      0.77      0.77       246\n",
      "\n"
     ]
    },
    {
     "name": "stderr",
     "output_type": "stream",
     "text": [
      "Training Epochs:  86%|████████▋ | 2161/2500 [00:42<00:06, 53.69it/s]"
     ]
    },
    {
     "name": "stdout",
     "output_type": "stream",
     "text": [
      "Epoch 2150/2500, Loss: 0.0485\n",
      "Test Accuracy at Epoch 2150: 72.36%\n",
      "Test F1-score at Epoch 2150: 0.7043\n",
      "Classification Report at Epoch 2150:\n",
      "                  precision    recall  f1-score   support\n",
      "\n",
      "    infringement       0.70      0.79      0.74       123\n",
      "non_infringement       0.76      0.66      0.70       123\n",
      "\n",
      "        accuracy                           0.72       246\n",
      "       macro avg       0.73      0.72      0.72       246\n",
      "    weighted avg       0.73      0.72      0.72       246\n",
      "\n",
      "Epoch 2160/2500, Loss: 0.0483\n",
      "Test Accuracy at Epoch 2160: 76.83%\n",
      "Test F1-score at Epoch 2160: 0.7673\n",
      "Classification Report at Epoch 2160:\n",
      "                  precision    recall  f1-score   support\n",
      "\n",
      "    infringement       0.77      0.77      0.77       123\n",
      "non_infringement       0.77      0.76      0.77       123\n",
      "\n",
      "        accuracy                           0.77       246\n",
      "       macro avg       0.77      0.77      0.77       246\n",
      "    weighted avg       0.77      0.77      0.77       246\n",
      "\n"
     ]
    },
    {
     "name": "stderr",
     "output_type": "stream",
     "text": [
      "Training Epochs:  87%|████████▋ | 2180/2500 [00:42<00:05, 54.36it/s]"
     ]
    },
    {
     "name": "stdout",
     "output_type": "stream",
     "text": [
      "Epoch 2170/2500, Loss: 0.0483\n",
      "Test Accuracy at Epoch 2170: 72.36%\n",
      "Test F1-score at Epoch 2170: 0.7043\n",
      "Classification Report at Epoch 2170:\n",
      "                  precision    recall  f1-score   support\n",
      "\n",
      "    infringement       0.70      0.79      0.74       123\n",
      "non_infringement       0.76      0.66      0.70       123\n",
      "\n",
      "        accuracy                           0.72       246\n",
      "       macro avg       0.73      0.72      0.72       246\n",
      "    weighted avg       0.73      0.72      0.72       246\n",
      "\n",
      "Epoch 2180/2500, Loss: 0.0482\n",
      "Test Accuracy at Epoch 2180: 76.83%\n",
      "Test F1-score at Epoch 2180: 0.7673\n",
      "Classification Report at Epoch 2180:\n",
      "                  precision    recall  f1-score   support\n",
      "\n",
      "    infringement       0.77      0.77      0.77       123\n",
      "non_infringement       0.77      0.76      0.77       123\n",
      "\n",
      "        accuracy                           0.77       246\n",
      "       macro avg       0.77      0.77      0.77       246\n",
      "    weighted avg       0.77      0.77      0.77       246\n",
      "\n"
     ]
    },
    {
     "name": "stderr",
     "output_type": "stream",
     "text": [
      "Training Epochs:  88%|████████▊ | 2200/2500 [00:42<00:05, 53.88it/s]"
     ]
    },
    {
     "name": "stdout",
     "output_type": "stream",
     "text": [
      "Epoch 2190/2500, Loss: 0.0481\n",
      "Test Accuracy at Epoch 2190: 72.36%\n",
      "Test F1-score at Epoch 2190: 0.7043\n",
      "Classification Report at Epoch 2190:\n",
      "                  precision    recall  f1-score   support\n",
      "\n",
      "    infringement       0.70      0.79      0.74       123\n",
      "non_infringement       0.76      0.66      0.70       123\n",
      "\n",
      "        accuracy                           0.72       246\n",
      "       macro avg       0.73      0.72      0.72       246\n",
      "    weighted avg       0.73      0.72      0.72       246\n",
      "\n",
      "Epoch 2200/2500, Loss: 0.0480\n",
      "Test Accuracy at Epoch 2200: 76.83%\n",
      "Test F1-score at Epoch 2200: 0.7673\n",
      "Classification Report at Epoch 2200:\n",
      "                  precision    recall  f1-score   support\n",
      "\n",
      "    infringement       0.77      0.77      0.77       123\n",
      "non_infringement       0.77      0.76      0.77       123\n",
      "\n",
      "        accuracy                           0.77       246\n",
      "       macro avg       0.77      0.77      0.77       246\n",
      "    weighted avg       0.77      0.77      0.77       246\n",
      "\n"
     ]
    },
    {
     "name": "stderr",
     "output_type": "stream",
     "text": [
      "Training Epochs:  89%|████████▉ | 2222/2500 [00:43<00:04, 56.13it/s]"
     ]
    },
    {
     "name": "stdout",
     "output_type": "stream",
     "text": [
      "Epoch 2210/2500, Loss: 0.0479\n",
      "Test Accuracy at Epoch 2210: 72.36%\n",
      "Test F1-score at Epoch 2210: 0.7043\n",
      "Classification Report at Epoch 2210:\n",
      "                  precision    recall  f1-score   support\n",
      "\n",
      "    infringement       0.70      0.79      0.74       123\n",
      "non_infringement       0.76      0.66      0.70       123\n",
      "\n",
      "        accuracy                           0.72       246\n",
      "       macro avg       0.73      0.72      0.72       246\n",
      "    weighted avg       0.73      0.72      0.72       246\n",
      "\n",
      "Epoch 2220/2500, Loss: 0.0478\n",
      "Test Accuracy at Epoch 2220: 76.83%\n",
      "Test F1-score at Epoch 2220: 0.7673\n",
      "Classification Report at Epoch 2220:\n",
      "                  precision    recall  f1-score   support\n",
      "\n",
      "    infringement       0.77      0.77      0.77       123\n",
      "non_infringement       0.77      0.76      0.77       123\n",
      "\n",
      "        accuracy                           0.77       246\n",
      "       macro avg       0.77      0.77      0.77       246\n",
      "    weighted avg       0.77      0.77      0.77       246\n",
      "\n"
     ]
    },
    {
     "name": "stderr",
     "output_type": "stream",
     "text": [
      "Training Epochs:  89%|████████▉ | 2237/2500 [00:43<00:04, 52.73it/s]"
     ]
    },
    {
     "name": "stdout",
     "output_type": "stream",
     "text": [
      "Epoch 2230/2500, Loss: 0.0477\n",
      "Test Accuracy at Epoch 2230: 72.36%\n",
      "Test F1-score at Epoch 2230: 0.7043\n",
      "Classification Report at Epoch 2230:\n",
      "                  precision    recall  f1-score   support\n",
      "\n",
      "    infringement       0.70      0.79      0.74       123\n",
      "non_infringement       0.76      0.66      0.70       123\n",
      "\n",
      "        accuracy                           0.72       246\n",
      "       macro avg       0.73      0.72      0.72       246\n",
      "    weighted avg       0.73      0.72      0.72       246\n",
      "\n"
     ]
    },
    {
     "name": "stderr",
     "output_type": "stream",
     "text": [
      "Training Epochs:  90%|█████████ | 2250/2500 [00:43<00:04, 55.86it/s]"
     ]
    },
    {
     "name": "stdout",
     "output_type": "stream",
     "text": [
      "Epoch 2240/2500, Loss: 0.0475\n",
      "Test Accuracy at Epoch 2240: 76.83%\n",
      "Test F1-score at Epoch 2240: 0.7673\n",
      "Classification Report at Epoch 2240:\n",
      "                  precision    recall  f1-score   support\n",
      "\n",
      "    infringement       0.77      0.77      0.77       123\n",
      "non_infringement       0.77      0.76      0.77       123\n",
      "\n",
      "        accuracy                           0.77       246\n",
      "       macro avg       0.77      0.77      0.77       246\n",
      "    weighted avg       0.77      0.77      0.77       246\n",
      "\n",
      "Epoch 2250/2500, Loss: 0.0475\n",
      "Test Accuracy at Epoch 2250: 72.76%\n",
      "Test F1-score at Epoch 2250: 0.7100\n",
      "Classification Report at Epoch 2250:\n",
      "                  precision    recall  f1-score   support\n",
      "\n",
      "    infringement       0.70      0.79      0.74       123\n",
      "non_infringement       0.76      0.67      0.71       123\n",
      "\n",
      "        accuracy                           0.73       246\n",
      "       macro avg       0.73      0.73      0.73       246\n",
      "    weighted avg       0.73      0.73      0.73       246\n",
      "\n"
     ]
    },
    {
     "name": "stderr",
     "output_type": "stream",
     "text": [
      "Training Epochs:  91%|█████████ | 2269/2500 [00:44<00:04, 57.40it/s]"
     ]
    },
    {
     "name": "stdout",
     "output_type": "stream",
     "text": [
      "Epoch 2260/2500, Loss: 0.0473\n",
      "Test Accuracy at Epoch 2260: 76.42%\n",
      "Test F1-score at Epoch 2260: 0.7623\n",
      "Classification Report at Epoch 2260:\n",
      "                  precision    recall  f1-score   support\n",
      "\n",
      "    infringement       0.76      0.77      0.77       123\n",
      "non_infringement       0.77      0.76      0.76       123\n",
      "\n",
      "        accuracy                           0.76       246\n",
      "       macro avg       0.76      0.76      0.76       246\n",
      "    weighted avg       0.76      0.76      0.76       246\n",
      "\n",
      "Epoch 2270/2500, Loss: 0.0473\n",
      "Test Accuracy at Epoch 2270: 72.76%\n",
      "Test F1-score at Epoch 2270: 0.7100\n",
      "Classification Report at Epoch 2270:\n",
      "                  precision    recall  f1-score   support\n",
      "\n",
      "    infringement       0.70      0.79      0.74       123\n",
      "non_infringement       0.76      0.67      0.71       123\n",
      "\n",
      "        accuracy                           0.73       246\n",
      "       macro avg       0.73      0.73      0.73       246\n",
      "    weighted avg       0.73      0.73      0.73       246\n",
      "\n"
     ]
    },
    {
     "name": "stderr",
     "output_type": "stream",
     "text": [
      "Training Epochs:  92%|█████████▏| 2289/2500 [00:44<00:03, 56.98it/s]"
     ]
    },
    {
     "name": "stdout",
     "output_type": "stream",
     "text": [
      "Epoch 2280/2500, Loss: 0.0472\n",
      "Test Accuracy at Epoch 2280: 76.42%\n",
      "Test F1-score at Epoch 2280: 0.7623\n",
      "Classification Report at Epoch 2280:\n",
      "                  precision    recall  f1-score   support\n",
      "\n",
      "    infringement       0.76      0.77      0.77       123\n",
      "non_infringement       0.77      0.76      0.76       123\n",
      "\n",
      "        accuracy                           0.76       246\n",
      "       macro avg       0.76      0.76      0.76       246\n",
      "    weighted avg       0.76      0.76      0.76       246\n",
      "\n",
      "Epoch 2290/2500, Loss: 0.0471\n",
      "Test Accuracy at Epoch 2290: 73.17%\n",
      "Test F1-score at Epoch 2290: 0.7155\n",
      "Classification Report at Epoch 2290:\n",
      "                  precision    recall  f1-score   support\n",
      "\n",
      "    infringement       0.71      0.79      0.75       123\n",
      "non_infringement       0.76      0.67      0.72       123\n",
      "\n",
      "        accuracy                           0.73       246\n",
      "       macro avg       0.73      0.73      0.73       246\n",
      "    weighted avg       0.73      0.73      0.73       246\n",
      "\n"
     ]
    },
    {
     "name": "stderr",
     "output_type": "stream",
     "text": [
      "Training Epochs:  92%|█████████▏| 2308/2500 [00:44<00:03, 51.55it/s]"
     ]
    },
    {
     "name": "stdout",
     "output_type": "stream",
     "text": [
      "Epoch 2300/2500, Loss: 0.0470\n",
      "Test Accuracy at Epoch 2300: 76.42%\n",
      "Test F1-score at Epoch 2300: 0.7623\n",
      "Classification Report at Epoch 2300:\n",
      "                  precision    recall  f1-score   support\n",
      "\n",
      "    infringement       0.76      0.77      0.77       123\n",
      "non_infringement       0.77      0.76      0.76       123\n",
      "\n",
      "        accuracy                           0.76       246\n",
      "       macro avg       0.76      0.76      0.76       246\n",
      "    weighted avg       0.76      0.76      0.76       246\n",
      "\n",
      "Epoch 2310/2500, Loss: 0.0470\n",
      "Test Accuracy at Epoch 2310: 75.61%\n",
      "Test F1-score at Epoch 2310: 0.7479\n",
      "Classification Report at Epoch 2310:\n",
      "                  precision    recall  f1-score   support\n",
      "\n",
      "    infringement       0.74      0.79      0.76       123\n",
      "non_infringement       0.77      0.72      0.75       123\n",
      "\n",
      "        accuracy                           0.76       246\n",
      "       macro avg       0.76      0.76      0.76       246\n",
      "    weighted avg       0.76      0.76      0.76       246\n",
      "\n"
     ]
    },
    {
     "name": "stderr",
     "output_type": "stream",
     "text": [
      "Training Epochs:  93%|█████████▎| 2327/2500 [00:45<00:03, 53.43it/s]"
     ]
    },
    {
     "name": "stdout",
     "output_type": "stream",
     "text": [
      "Epoch 2320/2500, Loss: 0.0469\n",
      "Test Accuracy at Epoch 2320: 76.02%\n",
      "Test F1-score at Epoch 2320: 0.7572\n",
      "Classification Report at Epoch 2320:\n",
      "                  precision    recall  f1-score   support\n",
      "\n",
      "    infringement       0.75      0.77      0.76       123\n",
      "non_infringement       0.77      0.75      0.76       123\n",
      "\n",
      "        accuracy                           0.76       246\n",
      "       macro avg       0.76      0.76      0.76       246\n",
      "    weighted avg       0.76      0.76      0.76       246\n",
      "\n",
      "Epoch 2330/2500, Loss: 0.0469\n",
      "Test Accuracy at Epoch 2330: 75.61%\n",
      "Test F1-score at Epoch 2330: 0.7479\n",
      "Classification Report at Epoch 2330:\n",
      "                  precision    recall  f1-score   support\n",
      "\n",
      "    infringement       0.74      0.79      0.76       123\n",
      "non_infringement       0.77      0.72      0.75       123\n",
      "\n",
      "        accuracy                           0.76       246\n",
      "       macro avg       0.76      0.76      0.76       246\n",
      "    weighted avg       0.76      0.76      0.76       246\n",
      "\n"
     ]
    },
    {
     "name": "stderr",
     "output_type": "stream",
     "text": [
      "Training Epochs:  94%|█████████▍| 2345/2500 [00:45<00:03, 51.61it/s]"
     ]
    },
    {
     "name": "stdout",
     "output_type": "stream",
     "text": [
      "Epoch 2340/2500, Loss: 0.0469\n",
      "Test Accuracy at Epoch 2340: 76.02%\n",
      "Test F1-score at Epoch 2340: 0.7572\n",
      "Classification Report at Epoch 2340:\n",
      "                  precision    recall  f1-score   support\n",
      "\n",
      "    infringement       0.75      0.77      0.76       123\n",
      "non_infringement       0.77      0.75      0.76       123\n",
      "\n",
      "        accuracy                           0.76       246\n",
      "       macro avg       0.76      0.76      0.76       246\n",
      "    weighted avg       0.76      0.76      0.76       246\n",
      "\n",
      "Epoch 2350/2500, Loss: 0.0469\n",
      "Test Accuracy at Epoch 2350: 75.61%\n",
      "Test F1-score at Epoch 2350: 0.7479\n",
      "Classification Report at Epoch 2350:\n",
      "                  precision    recall  f1-score   support\n",
      "\n",
      "    infringement       0.74      0.79      0.76       123\n",
      "non_infringement       0.77      0.72      0.75       123\n",
      "\n",
      "        accuracy                           0.76       246\n",
      "       macro avg       0.76      0.76      0.76       246\n",
      "    weighted avg       0.76      0.76      0.76       246\n",
      "\n"
     ]
    },
    {
     "name": "stderr",
     "output_type": "stream",
     "text": [
      "Training Epochs:  95%|█████████▍| 2371/2500 [00:46<00:02, 54.32it/s]"
     ]
    },
    {
     "name": "stdout",
     "output_type": "stream",
     "text": [
      "Epoch 2360/2500, Loss: 0.0469\n",
      "Test Accuracy at Epoch 2360: 76.02%\n",
      "Test F1-score at Epoch 2360: 0.7572\n",
      "Classification Report at Epoch 2360:\n",
      "                  precision    recall  f1-score   support\n",
      "\n",
      "    infringement       0.75      0.77      0.76       123\n",
      "non_infringement       0.77      0.75      0.76       123\n",
      "\n",
      "        accuracy                           0.76       246\n",
      "       macro avg       0.76      0.76      0.76       246\n",
      "    weighted avg       0.76      0.76      0.76       246\n",
      "\n",
      "Epoch 2370/2500, Loss: 0.0469\n",
      "Test Accuracy at Epoch 2370: 75.61%\n",
      "Test F1-score at Epoch 2370: 0.7521\n",
      "Classification Report at Epoch 2370:\n",
      "                  precision    recall  f1-score   support\n",
      "\n",
      "    infringement       0.75      0.77      0.76       123\n",
      "non_infringement       0.76      0.74      0.75       123\n",
      "\n",
      "        accuracy                           0.76       246\n",
      "       macro avg       0.76      0.76      0.76       246\n",
      "    weighted avg       0.76      0.76      0.76       246\n",
      "\n"
     ]
    },
    {
     "name": "stderr",
     "output_type": "stream",
     "text": [
      "Training Epochs:  95%|█████████▌| 2385/2500 [00:46<00:02, 54.05it/s]"
     ]
    },
    {
     "name": "stdout",
     "output_type": "stream",
     "text": [
      "Epoch 2380/2500, Loss: 0.0470\n",
      "Test Accuracy at Epoch 2380: 76.02%\n",
      "Test F1-score at Epoch 2380: 0.7572\n",
      "Classification Report at Epoch 2380:\n",
      "                  precision    recall  f1-score   support\n",
      "\n",
      "    infringement       0.75      0.77      0.76       123\n",
      "non_infringement       0.77      0.75      0.76       123\n",
      "\n",
      "        accuracy                           0.76       246\n",
      "       macro avg       0.76      0.76      0.76       246\n",
      "    weighted avg       0.76      0.76      0.76       246\n",
      "\n",
      "Epoch 2390/2500, Loss: 0.0470\n"
     ]
    },
    {
     "name": "stderr",
     "output_type": "stream",
     "text": [
      "Training Epochs:  96%|█████████▌| 2398/2500 [00:46<00:01, 58.30it/s]"
     ]
    },
    {
     "name": "stdout",
     "output_type": "stream",
     "text": [
      "Test Accuracy at Epoch 2390: 76.02%\n",
      "Test F1-score at Epoch 2390: 0.7572\n",
      "Classification Report at Epoch 2390:\n",
      "                  precision    recall  f1-score   support\n",
      "\n",
      "    infringement       0.75      0.77      0.76       123\n",
      "non_infringement       0.77      0.75      0.76       123\n",
      "\n",
      "        accuracy                           0.76       246\n",
      "       macro avg       0.76      0.76      0.76       246\n",
      "    weighted avg       0.76      0.76      0.76       246\n",
      "\n",
      "Epoch 2400/2500, Loss: 0.0471\n",
      "Test Accuracy at Epoch 2400: 75.61%\n",
      "Test F1-score at Epoch 2400: 0.7521\n",
      "Classification Report at Epoch 2400:\n",
      "                  precision    recall  f1-score   support\n",
      "\n",
      "    infringement       0.75      0.77      0.76       123\n",
      "non_infringement       0.76      0.74      0.75       123\n",
      "\n",
      "        accuracy                           0.76       246\n",
      "       macro avg       0.76      0.76      0.76       246\n",
      "    weighted avg       0.76      0.76      0.76       246\n",
      "\n"
     ]
    },
    {
     "name": "stderr",
     "output_type": "stream",
     "text": [
      "Training Epochs:  97%|█████████▋| 2418/2500 [00:46<00:01, 54.73it/s]"
     ]
    },
    {
     "name": "stdout",
     "output_type": "stream",
     "text": [
      "Epoch 2410/2500, Loss: 0.0472\n",
      "Test Accuracy at Epoch 2410: 76.02%\n",
      "Test F1-score at Epoch 2410: 0.7572\n",
      "Classification Report at Epoch 2410:\n",
      "                  precision    recall  f1-score   support\n",
      "\n",
      "    infringement       0.75      0.77      0.76       123\n",
      "non_infringement       0.77      0.75      0.76       123\n",
      "\n",
      "        accuracy                           0.76       246\n",
      "       macro avg       0.76      0.76      0.76       246\n",
      "    weighted avg       0.76      0.76      0.76       246\n",
      "\n",
      "Epoch 2420/2500, Loss: 0.0473\n",
      "Test Accuracy at Epoch 2420: 74.80%\n",
      "Test F1-score at Epoch 2420: 0.7417\n",
      "Classification Report at Epoch 2420:\n",
      "                  precision    recall  f1-score   support\n",
      "\n",
      "    infringement       0.74      0.77      0.75       123\n",
      "non_infringement       0.76      0.72      0.74       123\n",
      "\n",
      "        accuracy                           0.75       246\n",
      "       macro avg       0.75      0.75      0.75       246\n",
      "    weighted avg       0.75      0.75      0.75       246\n",
      "\n"
     ]
    },
    {
     "name": "stderr",
     "output_type": "stream",
     "text": [
      "Training Epochs:  97%|█████████▋| 2436/2500 [00:47<00:01, 48.56it/s]"
     ]
    },
    {
     "name": "stdout",
     "output_type": "stream",
     "text": [
      "Epoch 2430/2500, Loss: 0.0474\n",
      "Test Accuracy at Epoch 2430: 76.02%\n",
      "Test F1-score at Epoch 2430: 0.7572\n",
      "Classification Report at Epoch 2430:\n",
      "                  precision    recall  f1-score   support\n",
      "\n",
      "    infringement       0.75      0.77      0.76       123\n",
      "non_infringement       0.77      0.75      0.76       123\n",
      "\n",
      "        accuracy                           0.76       246\n",
      "       macro avg       0.76      0.76      0.76       246\n",
      "    weighted avg       0.76      0.76      0.76       246\n",
      "\n"
     ]
    },
    {
     "name": "stderr",
     "output_type": "stream",
     "text": [
      "Training Epochs:  98%|█████████▊| 2442/2500 [00:47<00:01, 42.97it/s]"
     ]
    },
    {
     "name": "stdout",
     "output_type": "stream",
     "text": [
      "Epoch 2440/2500, Loss: 0.0475\n",
      "Test Accuracy at Epoch 2440: 75.61%\n",
      "Test F1-score at Epoch 2440: 0.7479\n",
      "Classification Report at Epoch 2440:\n",
      "                  precision    recall  f1-score   support\n",
      "\n",
      "    infringement       0.74      0.79      0.76       123\n",
      "non_infringement       0.77      0.72      0.75       123\n",
      "\n",
      "        accuracy                           0.76       246\n",
      "       macro avg       0.76      0.76      0.76       246\n",
      "    weighted avg       0.76      0.76      0.76       246\n",
      "\n"
     ]
    },
    {
     "name": "stderr",
     "output_type": "stream",
     "text": [
      "Training Epochs:  98%|█████████▊| 2455/2500 [00:47<00:00, 50.66it/s]"
     ]
    },
    {
     "name": "stdout",
     "output_type": "stream",
     "text": [
      "Epoch 2450/2500, Loss: 0.0476\n",
      "Test Accuracy at Epoch 2450: 76.42%\n",
      "Test F1-score at Epoch 2450: 0.7623\n",
      "Classification Report at Epoch 2450:\n",
      "                  precision    recall  f1-score   support\n",
      "\n",
      "    infringement       0.76      0.77      0.77       123\n",
      "non_infringement       0.77      0.76      0.76       123\n",
      "\n",
      "        accuracy                           0.76       246\n",
      "       macro avg       0.76      0.76      0.76       246\n",
      "    weighted avg       0.76      0.76      0.76       246\n",
      "\n",
      "Epoch 2460/2500, Loss: 0.0477\n"
     ]
    },
    {
     "name": "stderr",
     "output_type": "stream",
     "text": [
      "Training Epochs:  99%|█████████▊| 2468/2500 [00:48<00:00, 46.34it/s]"
     ]
    },
    {
     "name": "stdout",
     "output_type": "stream",
     "text": [
      "Test Accuracy at Epoch 2460: 75.61%\n",
      "Test F1-score at Epoch 2460: 0.7479\n",
      "Classification Report at Epoch 2460:\n",
      "                  precision    recall  f1-score   support\n",
      "\n",
      "    infringement       0.74      0.79      0.76       123\n",
      "non_infringement       0.77      0.72      0.75       123\n",
      "\n",
      "        accuracy                           0.76       246\n",
      "       macro avg       0.76      0.76      0.76       246\n",
      "    weighted avg       0.76      0.76      0.76       246\n",
      "\n"
     ]
    },
    {
     "name": "stderr",
     "output_type": "stream",
     "text": [
      "Training Epochs:  99%|█████████▉| 2474/2500 [00:48<00:00, 49.11it/s]"
     ]
    },
    {
     "name": "stdout",
     "output_type": "stream",
     "text": [
      "Epoch 2470/2500, Loss: 0.0478\n",
      "Test Accuracy at Epoch 2470: 76.42%\n",
      "Test F1-score at Epoch 2470: 0.7623\n",
      "Classification Report at Epoch 2470:\n",
      "                  precision    recall  f1-score   support\n",
      "\n",
      "    infringement       0.76      0.77      0.77       123\n",
      "non_infringement       0.77      0.76      0.76       123\n",
      "\n",
      "        accuracy                           0.76       246\n",
      "       macro avg       0.76      0.76      0.76       246\n",
      "    weighted avg       0.76      0.76      0.76       246\n",
      "\n"
     ]
    },
    {
     "name": "stderr",
     "output_type": "stream",
     "text": [
      "Training Epochs:  99%|█████████▉| 2487/2500 [00:48<00:00, 49.08it/s]"
     ]
    },
    {
     "name": "stdout",
     "output_type": "stream",
     "text": [
      "Epoch 2480/2500, Loss: 0.0479\n",
      "Test Accuracy at Epoch 2480: 75.61%\n",
      "Test F1-score at Epoch 2480: 0.7479\n",
      "Classification Report at Epoch 2480:\n",
      "                  precision    recall  f1-score   support\n",
      "\n",
      "    infringement       0.74      0.79      0.76       123\n",
      "non_infringement       0.77      0.72      0.75       123\n",
      "\n",
      "        accuracy                           0.76       246\n",
      "       macro avg       0.76      0.76      0.76       246\n",
      "    weighted avg       0.76      0.76      0.76       246\n",
      "\n",
      "Epoch 2490/2500, Loss: 0.0480\n",
      "Test Accuracy at Epoch 2490: 76.42%\n",
      "Test F1-score at Epoch 2490: 0.7623\n",
      "Classification Report at Epoch 2490:\n",
      "                  precision    recall  f1-score   support\n",
      "\n",
      "    infringement       0.76      0.77      0.77       123\n",
      "non_infringement       0.77      0.76      0.76       123\n",
      "\n",
      "        accuracy                           0.76       246\n",
      "       macro avg       0.76      0.76      0.76       246\n",
      "    weighted avg       0.76      0.76      0.76       246\n",
      "\n"
     ]
    },
    {
     "name": "stderr",
     "output_type": "stream",
     "text": [
      "Training Epochs: 100%|██████████| 2500/2500 [00:48<00:00, 51.28it/s]\n",
      "/tmp/ipykernel_1341861/3818700350.py:59: FutureWarning: You are using `torch.load` with `weights_only=False` (the current default value), which uses the default pickle module implicitly. It is possible to construct malicious pickle data which will execute arbitrary code during unpickling (See https://github.com/pytorch/pytorch/blob/main/SECURITY.md#untrusted-models for more details). In a future release, the default value for `weights_only` will be flipped to `True`. This limits the functions that could be executed during unpickling. Arbitrary objects will no longer be allowed to be loaded via this mode unless they are explicitly allowlisted by the user via `torch.serialization.add_safe_globals`. We recommend you start setting `weights_only=True` for any use case where you don't have full control of the loaded file. Please open an issue on GitHub for any issues related to this experimental feature.\n",
      "  custom_mlp.load_state_dict(torch.load(checkpoint_path))\n"
     ]
    },
    {
     "name": "stdout",
     "output_type": "stream",
     "text": [
      "Epoch 2500/2500, Loss: 0.0481\n",
      "Test Accuracy at Epoch 2500: 75.61%\n",
      "Test F1-score at Epoch 2500: 0.7479\n",
      "Classification Report at Epoch 2500:\n",
      "                  precision    recall  f1-score   support\n",
      "\n",
      "    infringement       0.74      0.79      0.76       123\n",
      "non_infringement       0.77      0.72      0.75       123\n",
      "\n",
      "        accuracy                           0.76       246\n",
      "       macro avg       0.76      0.76      0.76       246\n",
      "    weighted avg       0.76      0.76      0.76       246\n",
      "\n"
     ]
    },
    {
     "data": {
      "image/png": "[encoded data removed]",
      "text/plain": [
       "<Figure size 1000x500 with 1 Axes>"
      ]
     },
     "metadata": {},
     "output_type": "display_data"
    },
    {
     "name": "stdout",
     "output_type": "stream",
     "text": [
      "Final Model Accuracy: 79.67%\n",
      "Final Model F1-score: 0.8016\n"
     ]
    }
   ],
   "source": [
    "input_dim = X_train.shape[1]\n",
    "hidden_dim = 256\n",
    "\n",
    "custom_mlp, losses, best_accuracy, best_f1 = train_model(X_train, y_train, X_test, y_test, input_dim, hidden_dim)"
   ]
  },
  {
   "cell_type": "code",
   "execution_count": 39,
   "metadata": {},
   "outputs": [
    {
     "name": "stdout",
     "output_type": "stream",
     "text": [
      "Checkpoint saved to '/home/guangwei/LLM-COPYRIGHT/copyright_newVersion/models/train_input_reference_last_token.pth'.\n"
     ]
    }
   ],
   "source": [
    "def save_checkpoint(model, optimizer, epoch, loss, filepath):\n",
    "    checkpoint = {\n",
    "        'epoch': epoch + 1,\n",
    "        'model_state_dict': model.state_dict(),\n",
    "        'optimizer_state_dict': optimizer.state_dict(),\n",
    "        'loss': loss\n",
    "    }\n",
    "    torch.save(checkpoint, filepath)\n",
    "    print(f\"Checkpoint saved to '{filepath}'.\")\n",
    "\n",
    "save_checkpoint(custom_mlp, torch.optim.Adam(custom_mlp.parameters()), len(losses), losses[-1], checkpoint_file)"
   ]
  },
  {
   "cell_type": "code",
   "execution_count": null,
   "metadata": {},
   "outputs": [
    {
     "name": "stderr",
     "output_type": "stream",
     "text": [
      "/tmp/ipykernel_1341861/2137335780.py:1: UserWarning: To copy construct from a tensor, it is recommended to use sourceTensor.clone().detach() or sourceTensor.clone().detach().requires_grad_(True), rather than torch.tensor(sourceTensor).\n",
      "  y_pred_final = (torch.sigmoid(torch.tensor(custom_mlp(torch.tensor(X_test, dtype=torch.float32)))) > 0.5).float().numpy()\n"
     ]
    },
    {
     "name": "stdout",
     "output_type": "stream",
     "text": [
      "                  precision    recall  f1-score   support\n",
      "\n",
      "    infringement       0.81      0.77      0.79       123\n",
      "non_infringement       0.78      0.82      0.80       123\n",
      "\n",
      "        accuracy                           0.80       246\n",
      "       macro avg       0.80      0.80      0.80       246\n",
      "    weighted avg       0.80      0.80      0.80       246\n",
      "\n"
     ]
    },
    {
     "ename": "",
     "evalue": "",
     "output_type": "error",
     "traceback": [
      "\u001b[1;31mThe Kernel crashed while executing code in the current cell or a previous cell. \n",
      "\u001b[1;31mPlease review the code in the cell(s) to identify a possible cause of the failure. \n",
      "\u001b[1;31mClick <a href='https://aka.ms/vscodeJupyterKernelCrash'>here</a> for more info. \n",
      "\u001b[1;31mView Jupyter <a href='command:jupyter.viewOutput'>log</a> for further details."
     ]
    }
   ],
   "source": [
    "y_pred_final = (torch.sigmoid(torch.tensor(custom_mlp(torch.tensor(X_test, dtype=torch.float32)))) > 0.5).float().numpy()\n",
    "print(classification_report(y_test, y_pred_final, target_names=[\"infringement\", \"non_infringement\"]))"
   ]
  }
 ],
 "metadata": {
  "kernelspec": {
   "display_name": "zdh",
   "language": "python",
   "name": "python3"
  },
  "language_info": {
   "codemirror_mode": {
    "name": "ipython",
    "version": 3
   },
   "file_extension": ".py",
   "mimetype": "text/x-python",
   "name": "python",
   "nbconvert_exporter": "python",
   "pygments_lexer": "ipython3",
   "version": "3.12.3"
  }
 },
 "nbformat": 4,
 "nbformat_minor": 2
}
