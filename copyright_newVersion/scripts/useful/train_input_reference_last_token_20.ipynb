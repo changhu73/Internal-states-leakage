{
 "cells": [
  {
   "cell_type": "code",
   "execution_count": 1,
   "metadata": {},
   "outputs": [
    {
     "name": "stderr",
     "output_type": "stream",
     "text": [
      "/home/guangwei/miniconda3/envs/zdh/lib/python3.9/site-packages/tqdm/auto.py:21: TqdmWarning: IProgress not found. Please update jupyter and ipywidgets. See https://ipywidgets.readthedocs.io/en/stable/user_install.html\n",
      "  from .autonotebook import tqdm as notebook_tqdm\n"
     ]
    }
   ],
   "source": [
    "# import packages & variables\n",
    "import argparse\n",
    "import torch\n",
    "import torch.nn as nn\n",
    "import numpy as np\n",
    "from sklearn.metrics import accuracy_score, classification_report\n",
    "import matplotlib.pyplot as plt\n",
    "from tqdm import tqdm\n",
    "from transformers import AutoTokenizer, AutoModelForCausalLM, AutoModel, AutoModelForSequenceClassification\n",
    "import json\n",
    "import os\n",
    "\n",
    "os.environ[\"CUDA_VISIBLE_DEVICES\"] = \"5\"\n",
    "\n",
    "# Parameters\n",
    "model_name = 'meta-llama/Meta-Llama-3.1-8B'\n",
    "non_infringement_file = '/home/guangwei/LLM-COPYRIGHT/copyright_newVersion/test_division/extra_20.non_infringement.json'\n",
    "infringement_file = '/home/guangwei/LLM-COPYRIGHT/copyright_newVersion/test_division/extra_20.infringement.json'\n",
    "checkpoint_file = '/home/guangwei/LLM-COPYRIGHT/copyright_newVersion/models/train_input_reference_last_token.pth'\n"
   ]
  },
  {
   "cell_type": "code",
   "execution_count": 2,
   "metadata": {},
   "outputs": [],
   "source": [
    "# Define CustumMLP for internal states train\n",
    "class CustomMLP(nn.Module):\n",
    "    def __init__(self, input_dim, hidden_dim):\n",
    "        super(CustomMLP, self).__init__()\n",
    "        self.down = nn.Linear(input_dim, hidden_dim)\n",
    "        self.gate = nn.Linear(input_dim, hidden_dim)\n",
    "        self.up = nn.Linear(hidden_dim, 1)\n",
    "        self.activation = nn.SiLU()\n",
    "\n",
    "    def forward(self, x):\n",
    "        down_output = self.down(x)\n",
    "        gate_output = self.gate(x)\n",
    "        gated_output = down_output * self.activation(gate_output)\n",
    "        return self.up(gated_output)"
   ]
  },
  {
   "cell_type": "code",
   "execution_count": 3,
   "metadata": {},
   "outputs": [],
   "source": [
    "# Extract hidden states/reference embeddings\n",
    "def extract_hidden_states(texts, model, tokenizer, batch_size=4):\n",
    "    device = torch.device(\"cuda\" if torch.cuda.is_available() else \"cpu\")\n",
    "    model.to(device)\n",
    "    model = nn.DataParallel(model)\n",
    "    hidden_states = []\n",
    "    for i in tqdm(range(0, len(texts), batch_size), desc=\"Processing data batches\"):\n",
    "        batch_texts = texts[i:i + batch_size]\n",
    "        inputs = tokenizer(batch_texts, return_tensors=\"pt\", padding=True, truncation=True)\n",
    "        with torch.no_grad():\n",
    "            outputs = model(**inputs)\n",
    "        \n",
    "        # 访问最后一个隐藏层的最后一个token的隐藏状态\n",
    "        # hidden_states[-1]表示最后一个隐藏层，mean(dim=1)表示取所有头的均值\n",
    "        last_layer_hidden_states = outputs.hidden_states[-1]\n",
    "        last_token_hidden_states = last_layer_hidden_states[:, -1, :]  # -1表示最后一个token\n",
    "        hidden_states.append(last_token_hidden_states.cpu().numpy())\n",
    "    return np.vstack(hidden_states)\n",
    "\n",
    "def extract_reference_embeddings(references, model, tokenizer, batch_size=4):\n",
    "    device = torch.device(\"cuda\" if torch.cuda.is_available() else \"cpu\")\n",
    "    model.to(device)\n",
    "    model = nn.DataParallel(model)\n",
    "    embeddings = []\n",
    "    for i in tqdm(range(0, len(references), batch_size), desc=\"Processing references\"):\n",
    "        batch_references = references[i:i + batch_size]\n",
    "        inputs = tokenizer(batch_references, return_tensors=\"pt\", padding=True, truncation=True).to(device)\n",
    "        with torch.no_grad():\n",
    "            outputs = model(**inputs)\n",
    "        embeddings.append(outputs.pooler_output.cpu().numpy())\n",
    "    return np.vstack(embeddings)"
   ]
  },
  {
   "cell_type": "code",
   "execution_count": 4,
   "metadata": {},
   "outputs": [],
   "source": [
    "# load data for infringement & non infringement\n",
    "def load_data(non_infringement_file, infringement_file):\n",
    "    with open(non_infringement_file, 'r', encoding='utf-8') as file:\n",
    "        non_infringement_json_data = json.load(file)\n",
    "\n",
    "    non_infringement_outputs = [entry['input'] for entry in non_infringement_json_data]\n",
    "    non_infringement_references = [entry['reference'] for entry in non_infringement_json_data]\n",
    "    y_non_infringement = [1] * len(non_infringement_outputs)\n",
    "\n",
    "    with open(infringement_file, 'r', encoding='utf-8') as file:\n",
    "        infringement_json_data = json.load(file)\n",
    "\n",
    "    infringement_outputs = [entry['input'] for entry in infringement_json_data]\n",
    "    infringement_references = [entry['reference'] for entry in infringement_json_data]\n",
    "    y_infringement = [0] * len(infringement_outputs)\n",
    "\n",
    "    return non_infringement_outputs, non_infringement_references, y_non_infringement, infringement_outputs, infringement_references, y_infringement"
   ]
  },
  {
   "cell_type": "code",
   "execution_count": 5,
   "metadata": {},
   "outputs": [],
   "source": [
    "# Train for best model\n",
    "def train_model(X_train, y_train, X_test, y_test, input_dim, hidden_dim, epochs=500, lr=0.001, checkpoint_path=checkpoint_file):\n",
    "    custom_mlp = CustomMLP(input_dim, hidden_dim)\n",
    "    criterion = nn.BCEWithLogitsLoss()\n",
    "    optimizer = torch.optim.Adam(custom_mlp.parameters(), lr=lr)\n",
    "\n",
    "    X_train_tensor = torch.tensor(X_train, dtype=torch.float32)\n",
    "    y_train_tensor = torch.tensor(y_train, dtype=torch.float32).unsqueeze(1)\n",
    "\n",
    "    best_accuracy = -float('inf')\n",
    "    best_model_state = None\n",
    "    best_epoch = 0\n",
    "    losses = []\n",
    "\n",
    "    for epoch in tqdm(range(epochs), desc=\"Training Epochs\"):\n",
    "        custom_mlp.train()\n",
    "        optimizer.zero_grad()\n",
    "        outputs = custom_mlp(X_train_tensor)\n",
    "        loss = criterion(outputs, y_train_tensor)\n",
    "        loss.backward()\n",
    "        optimizer.step()\n",
    "        losses.append(loss.item())\n",
    "\n",
    "        if (epoch + 1) % 10 == 0:\n",
    "            print(f\"Epoch {epoch + 1}/{epochs}, Loss: {loss.item():.4f}\")\n",
    "            \n",
    "            custom_mlp.eval()\n",
    "            X_test_tensor = torch.tensor(X_test, dtype=torch.float32)\n",
    "            with torch.no_grad():\n",
    "                y_pred_logits = custom_mlp(X_test_tensor)\n",
    "                y_pred = (torch.sigmoid(y_pred_logits) > 0.5).float().numpy()\n",
    "            \n",
    "            accuracy = accuracy_score(y_test, y_pred)\n",
    "            print(f\"Test Accuracy at Epoch {epoch + 1}: {accuracy * 100:.2f}%\")\n",
    "            \n",
    "            report = classification_report(y_test, y_pred, target_names=[\"infringement\", \"non_infringement\"])\n",
    "            print(f\"Classification Report at Epoch {epoch + 1}:\\n{report}\")\n",
    "\n",
    "            if accuracy > best_accuracy:\n",
    "                best_accuracy = accuracy\n",
    "                best_model_state = custom_mlp.state_dict()\n",
    "                best_epoch = epoch + 1\n",
    "                torch.save(best_model_state, checkpoint_path)\n",
    "                print(f\"New best model saved with accuracy {best_accuracy * 100:.2f}% at epoch {best_epoch}\")\n",
    "                print(f\"Best Classification Report at Epoch {best_epoch}:\\n{report}\")\n",
    "\n",
    "    custom_mlp.load_state_dict(torch.load(checkpoint_path))\n",
    "\n",
    "    plt.figure(figsize=(10, 5))\n",
    "    plt.plot(losses, label='Training Loss')\n",
    "    plt.xlabel('Epoch')\n",
    "    plt.ylabel('Loss')\n",
    "    plt.title('Training Loss Curve')\n",
    "    plt.legend()\n",
    "    plt.show()\n",
    "\n",
    "    print(f\"Final Model Accuracy: {best_accuracy * 100:.2f}%\")\n",
    "    \n",
    "    return custom_mlp, losses, best_accuracy"
   ]
  },
  {
   "cell_type": "code",
   "execution_count": 6,
   "metadata": {},
   "outputs": [
    {
     "name": "stderr",
     "output_type": "stream",
     "text": [
      "/home/guangwei/miniconda3/envs/zdh/lib/python3.9/site-packages/transformers/generation/configuration_utils.py:777: UserWarning: `return_dict_in_generate` is NOT set to `True`, but `output_hidden_states` is. When `return_dict_in_generate` is not `True`, `output_hidden_states` is ignored.\n",
      "  warnings.warn(\n",
      "Loading checkpoint shards: 100%|██████████| 4/4 [00:03<00:00,  1.30it/s]\n"
     ]
    }
   ],
   "source": [
    "tokenizer = AutoTokenizer.from_pretrained(model_name, model_max_length=512)\n",
    "model = AutoModelForCausalLM.from_pretrained(model_name, output_hidden_states=True)\n",
    "tokenizer.pad_token = tokenizer.eos_token\n",
    "bert_tokenizer = AutoTokenizer.from_pretrained('google-bert/bert-base-uncased')\n",
    "bert_model = AutoModel.from_pretrained('google-bert/bert-base-uncased')\n",
    "bert_tokenizer.pad_token = tokenizer.eos_token\n",
    "\n",
    "non_infringement_outputs, non_infringement_references, y_non_infringement, infringement_outputs, infringement_references, y_infringement = load_data(\n",
    "    non_infringement_file, infringement_file\n",
    ")\n",
    "\n",
    "y_non_infringement = np.array(y_non_infringement)\n",
    "y_infringement = np.array(y_infringement)\n"
   ]
  },
  {
   "cell_type": "code",
   "execution_count": 7,
   "metadata": {},
   "outputs": [
    {
     "name": "stdout",
     "output_type": "stream",
     "text": [
      "Extracting hidden states for non_infringement texts...\n"
     ]
    },
    {
     "name": "stderr",
     "output_type": "stream",
     "text": [
      "Processing data batches:   0%|          | 0/154 [00:00<?, ?it/s]Starting from v4.46, the `logits` model output will have the same type as the model (except at train time, where it will always be FP32)\n",
      "Processing data batches: 100%|██████████| 154/154 [00:38<00:00,  3.97it/s]\n"
     ]
    },
    {
     "name": "stdout",
     "output_type": "stream",
     "text": [
      "Extracting reference embeddings for non_infringement texts...\n"
     ]
    },
    {
     "name": "stderr",
     "output_type": "stream",
     "text": [
      "Processing references: 100%|██████████| 154/154 [00:01<00:00, 79.54it/s]\n"
     ]
    },
    {
     "name": "stdout",
     "output_type": "stream",
     "text": [
      "Extracting hidden states for infringement texts...\n"
     ]
    },
    {
     "name": "stderr",
     "output_type": "stream",
     "text": [
      "Processing data batches: 100%|██████████| 153/153 [00:52<00:00,  2.91it/s]\n"
     ]
    },
    {
     "name": "stdout",
     "output_type": "stream",
     "text": [
      "Extracting reference embeddings for infringement texts...\n"
     ]
    },
    {
     "name": "stderr",
     "output_type": "stream",
     "text": [
      "Processing references: 100%|██████████| 153/153 [00:01<00:00, 92.73it/s] \n"
     ]
    }
   ],
   "source": [
    "print(\"Extracting hidden states for non_infringement texts...\")\n",
    "X_non_infringement = extract_hidden_states(non_infringement_outputs, model, tokenizer)\n",
    "print(\"Extracting reference embeddings for non_infringement texts...\")\n",
    "reference_embeddings_non_infringement = extract_reference_embeddings(non_infringement_references, bert_model, bert_tokenizer)\n",
    "X_non_infringement_combined = np.hstack([X_non_infringement, reference_embeddings_non_infringement])\n",
    "\n",
    "print(\"Extracting hidden states for infringement texts...\")\n",
    "X_infringement = extract_hidden_states(infringement_outputs, model, tokenizer)\n",
    "print(\"Extracting reference embeddings for infringement texts...\")\n",
    "reference_embeddings_infringement = extract_reference_embeddings(infringement_references, bert_model, bert_tokenizer)\n",
    "X_infringement_combined = np.hstack([X_infringement, reference_embeddings_infringement])"
   ]
  },
  {
   "cell_type": "code",
   "execution_count": 8,
   "metadata": {},
   "outputs": [
    {
     "name": "stdout",
     "output_type": "stream",
     "text": [
      "Data successfully split into training and test sets.\n"
     ]
    }
   ],
   "source": [
    "split_index_non_infringement = int(0.8 * len(X_non_infringement_combined))\n",
    "X_non_infringement_train = X_non_infringement_combined[:split_index_non_infringement]\n",
    "X_non_infringement_test = X_non_infringement_combined[split_index_non_infringement:]\n",
    "y_non_infringement_train = y_non_infringement[:split_index_non_infringement]\n",
    "y_non_infringement_test = y_non_infringement[split_index_non_infringement:]\n",
    "\n",
    "split_index_infringement = int(0.8 * len(X_infringement_combined))\n",
    "X_infringement_train = X_infringement_combined[:split_index_infringement]\n",
    "X_infringement_test = X_infringement_combined[split_index_infringement:]\n",
    "y_infringement_train = y_infringement[:split_index_infringement]\n",
    "y_infringement_test = y_infringement[split_index_infringement:]\n",
    "\n",
    "X_train = np.vstack((X_non_infringement_train, X_infringement_train))\n",
    "X_test = np.vstack((X_non_infringement_test, X_infringement_test))\n",
    "y_train = np.concatenate((y_non_infringement_train, y_infringement_train))\n",
    "y_test = np.concatenate((y_non_infringement_test, y_infringement_test))\n",
    "\n",
    "print(\"Data successfully split into training and test sets.\")"
   ]
  },
  {
   "cell_type": "code",
   "execution_count": 9,
   "metadata": {},
   "outputs": [
    {
     "name": "stdout",
     "output_type": "stream",
     "text": [
      "Training MLP model with input_dim=4864 and hidden_dim=256\n"
     ]
    },
    {
     "name": "stderr",
     "output_type": "stream",
     "text": [
      "Training Epochs:   2%|▏         | 12/500 [00:00<00:28, 16.91it/s]"
     ]
    },
    {
     "name": "stdout",
     "output_type": "stream",
     "text": [
      "Epoch 10/500, Loss: 1.2487\n",
      "Test Accuracy at Epoch 10: 67.89%\n",
      "Classification Report at Epoch 10:\n",
      "                  precision    recall  f1-score   support\n",
      "\n",
      "    infringement       0.62      0.92      0.74       123\n",
      "non_infringement       0.84      0.44      0.58       123\n",
      "\n",
      "        accuracy                           0.68       246\n",
      "       macro avg       0.73      0.68      0.66       246\n",
      "    weighted avg       0.73      0.68      0.66       246\n",
      "\n",
      "New best model saved with accuracy 67.89% at epoch 10\n",
      "Best Classification Report at Epoch 10:\n",
      "                  precision    recall  f1-score   support\n",
      "\n",
      "    infringement       0.62      0.92      0.74       123\n",
      "non_infringement       0.84      0.44      0.58       123\n",
      "\n",
      "        accuracy                           0.68       246\n",
      "       macro avg       0.73      0.68      0.66       246\n",
      "    weighted avg       0.73      0.68      0.66       246\n",
      "\n"
     ]
    },
    {
     "name": "stderr",
     "output_type": "stream",
     "text": [
      "Training Epochs:   5%|▌         | 25/500 [00:01<00:17, 27.51it/s]"
     ]
    },
    {
     "name": "stdout",
     "output_type": "stream",
     "text": [
      "Epoch 20/500, Loss: 0.3525\n",
      "Test Accuracy at Epoch 20: 76.42%\n",
      "Classification Report at Epoch 20:\n",
      "                  precision    recall  f1-score   support\n",
      "\n",
      "    infringement       0.90      0.59      0.72       123\n",
      "non_infringement       0.70      0.93      0.80       123\n",
      "\n",
      "        accuracy                           0.76       246\n",
      "       macro avg       0.80      0.76      0.76       246\n",
      "    weighted avg       0.80      0.76      0.76       246\n",
      "\n",
      "New best model saved with accuracy 76.42% at epoch 20\n",
      "Best Classification Report at Epoch 20:\n",
      "                  precision    recall  f1-score   support\n",
      "\n",
      "    infringement       0.90      0.59      0.72       123\n",
      "non_infringement       0.70      0.93      0.80       123\n",
      "\n",
      "        accuracy                           0.76       246\n",
      "       macro avg       0.80      0.76      0.76       246\n",
      "    weighted avg       0.80      0.76      0.76       246\n",
      "\n"
     ]
    },
    {
     "name": "stderr",
     "output_type": "stream",
     "text": [
      "Training Epochs:   7%|▋         | 34/500 [00:01<00:14, 32.65it/s]"
     ]
    },
    {
     "name": "stdout",
     "output_type": "stream",
     "text": [
      "Epoch 30/500, Loss: 0.3993\n",
      "Test Accuracy at Epoch 30: 73.58%\n",
      "Classification Report at Epoch 30:\n",
      "                  precision    recall  f1-score   support\n",
      "\n",
      "    infringement       0.69      0.85      0.76       123\n",
      "non_infringement       0.80      0.63      0.70       123\n",
      "\n",
      "        accuracy                           0.74       246\n",
      "       macro avg       0.75      0.74      0.73       246\n",
      "    weighted avg       0.75      0.74      0.73       246\n",
      "\n"
     ]
    },
    {
     "name": "stderr",
     "output_type": "stream",
     "text": [
      "Training Epochs:   9%|▊         | 43/500 [00:01<00:15, 28.98it/s]"
     ]
    },
    {
     "name": "stdout",
     "output_type": "stream",
     "text": [
      "Epoch 40/500, Loss: 0.3226\n",
      "Test Accuracy at Epoch 40: 75.61%\n",
      "Classification Report at Epoch 40:\n",
      "                  precision    recall  f1-score   support\n",
      "\n",
      "    infringement       0.81      0.67      0.73       123\n",
      "non_infringement       0.72      0.84      0.77       123\n",
      "\n",
      "        accuracy                           0.76       246\n",
      "       macro avg       0.76      0.76      0.75       246\n",
      "    weighted avg       0.76      0.76      0.75       246\n",
      "\n"
     ]
    },
    {
     "name": "stderr",
     "output_type": "stream",
     "text": [
      "Training Epochs:  11%|█▏        | 57/500 [00:01<00:12, 34.96it/s]"
     ]
    },
    {
     "name": "stdout",
     "output_type": "stream",
     "text": [
      "Epoch 50/500, Loss: 0.2789\n",
      "Test Accuracy at Epoch 50: 79.67%\n",
      "Classification Report at Epoch 50:\n",
      "                  precision    recall  f1-score   support\n",
      "\n",
      "    infringement       0.83      0.75      0.79       123\n",
      "non_infringement       0.77      0.85      0.81       123\n",
      "\n",
      "        accuracy                           0.80       246\n",
      "       macro avg       0.80      0.80      0.80       246\n",
      "    weighted avg       0.80      0.80      0.80       246\n",
      "\n",
      "New best model saved with accuracy 79.67% at epoch 50\n",
      "Best Classification Report at Epoch 50:\n",
      "                  precision    recall  f1-score   support\n",
      "\n",
      "    infringement       0.83      0.75      0.79       123\n",
      "non_infringement       0.77      0.85      0.81       123\n",
      "\n",
      "        accuracy                           0.80       246\n",
      "       macro avg       0.80      0.80      0.80       246\n",
      "    weighted avg       0.80      0.80      0.80       246\n",
      "\n"
     ]
    },
    {
     "name": "stderr",
     "output_type": "stream",
     "text": [
      "Training Epochs:  12%|█▏        | 62/500 [00:02<00:11, 37.45it/s]"
     ]
    },
    {
     "name": "stdout",
     "output_type": "stream",
     "text": [
      "Epoch 60/500, Loss: 0.2418\n",
      "Test Accuracy at Epoch 60: 76.02%\n",
      "Classification Report at Epoch 60:\n",
      "                  precision    recall  f1-score   support\n",
      "\n",
      "    infringement       0.74      0.80      0.77       123\n",
      "non_infringement       0.78      0.72      0.75       123\n",
      "\n",
      "        accuracy                           0.76       246\n",
      "       macro avg       0.76      0.76      0.76       246\n",
      "    weighted avg       0.76      0.76      0.76       246\n",
      "\n"
     ]
    },
    {
     "name": "stderr",
     "output_type": "stream",
     "text": [
      "Training Epochs:  15%|█▌        | 76/500 [00:02<00:11, 38.03it/s]"
     ]
    },
    {
     "name": "stdout",
     "output_type": "stream",
     "text": [
      "Epoch 70/500, Loss: 0.2134\n",
      "Test Accuracy at Epoch 70: 76.42%\n",
      "Classification Report at Epoch 70:\n",
      "                  precision    recall  f1-score   support\n",
      "\n",
      "    infringement       0.74      0.80      0.77       123\n",
      "non_infringement       0.79      0.72      0.75       123\n",
      "\n",
      "        accuracy                           0.76       246\n",
      "       macro avg       0.77      0.76      0.76       246\n",
      "    weighted avg       0.77      0.76      0.76       246\n",
      "\n"
     ]
    },
    {
     "name": "stderr",
     "output_type": "stream",
     "text": [
      "Training Epochs:  16%|█▌        | 81/500 [00:02<00:12, 33.52it/s]"
     ]
    },
    {
     "name": "stdout",
     "output_type": "stream",
     "text": [
      "Epoch 80/500, Loss: 0.1871\n",
      "Test Accuracy at Epoch 80: 77.24%\n",
      "Classification Report at Epoch 80:\n",
      "                  precision    recall  f1-score   support\n",
      "\n",
      "    infringement       0.76      0.80      0.78       123\n",
      "non_infringement       0.79      0.74      0.76       123\n",
      "\n",
      "        accuracy                           0.77       246\n",
      "       macro avg       0.77      0.77      0.77       246\n",
      "    weighted avg       0.77      0.77      0.77       246\n",
      "\n"
     ]
    },
    {
     "name": "stderr",
     "output_type": "stream",
     "text": [
      "Training Epochs:  19%|█▉        | 95/500 [00:02<00:10, 40.20it/s]"
     ]
    },
    {
     "name": "stdout",
     "output_type": "stream",
     "text": [
      "Epoch 90/500, Loss: 0.1652\n",
      "Test Accuracy at Epoch 90: 73.17%\n",
      "Classification Report at Epoch 90:\n",
      "                  precision    recall  f1-score   support\n",
      "\n",
      "    infringement       0.70      0.80      0.75       123\n",
      "non_infringement       0.77      0.66      0.71       123\n",
      "\n",
      "        accuracy                           0.73       246\n",
      "       macro avg       0.74      0.73      0.73       246\n",
      "    weighted avg       0.74      0.73      0.73       246\n",
      "\n"
     ]
    },
    {
     "name": "stderr",
     "output_type": "stream",
     "text": [
      "Training Epochs:  21%|██        | 106/500 [00:03<00:09, 40.79it/s]"
     ]
    },
    {
     "name": "stdout",
     "output_type": "stream",
     "text": [
      "Epoch 100/500, Loss: 0.1463\n",
      "Test Accuracy at Epoch 100: 73.98%\n",
      "Classification Report at Epoch 100:\n",
      "                  precision    recall  f1-score   support\n",
      "\n",
      "    infringement       0.70      0.83      0.76       123\n",
      "non_infringement       0.79      0.65      0.71       123\n",
      "\n",
      "        accuracy                           0.74       246\n",
      "       macro avg       0.75      0.74      0.74       246\n",
      "    weighted avg       0.75      0.74      0.74       246\n",
      "\n"
     ]
    },
    {
     "name": "stderr",
     "output_type": "stream",
     "text": [
      "Training Epochs:  23%|██▎       | 116/500 [00:03<00:09, 39.35it/s]"
     ]
    },
    {
     "name": "stdout",
     "output_type": "stream",
     "text": [
      "Epoch 110/500, Loss: 0.1300\n",
      "Test Accuracy at Epoch 110: 73.98%\n",
      "Classification Report at Epoch 110:\n",
      "                  precision    recall  f1-score   support\n",
      "\n",
      "    infringement       0.70      0.83      0.76       123\n",
      "non_infringement       0.79      0.65      0.71       123\n",
      "\n",
      "        accuracy                           0.74       246\n",
      "       macro avg       0.75      0.74      0.74       246\n",
      "    weighted avg       0.75      0.74      0.74       246\n",
      "\n"
     ]
    },
    {
     "name": "stderr",
     "output_type": "stream",
     "text": [
      "Training Epochs:  25%|██▌       | 127/500 [00:03<00:08, 43.96it/s]"
     ]
    },
    {
     "name": "stdout",
     "output_type": "stream",
     "text": [
      "Epoch 120/500, Loss: 0.1161\n",
      "Test Accuracy at Epoch 120: 73.98%\n",
      "Classification Report at Epoch 120:\n",
      "                  precision    recall  f1-score   support\n",
      "\n",
      "    infringement       0.70      0.84      0.76       123\n",
      "non_infringement       0.80      0.64      0.71       123\n",
      "\n",
      "        accuracy                           0.74       246\n",
      "       macro avg       0.75      0.74      0.74       246\n",
      "    weighted avg       0.75      0.74      0.74       246\n",
      "\n"
     ]
    },
    {
     "name": "stderr",
     "output_type": "stream",
     "text": [
      "Training Epochs:  28%|██▊       | 138/500 [00:03<00:08, 44.21it/s]"
     ]
    },
    {
     "name": "stdout",
     "output_type": "stream",
     "text": [
      "Epoch 130/500, Loss: 0.1037\n",
      "Test Accuracy at Epoch 130: 73.58%\n",
      "Classification Report at Epoch 130:\n",
      "                  precision    recall  f1-score   support\n",
      "\n",
      "    infringement       0.70      0.83      0.76       123\n",
      "non_infringement       0.79      0.64      0.71       123\n",
      "\n",
      "        accuracy                           0.74       246\n",
      "       macro avg       0.74      0.74      0.73       246\n",
      "    weighted avg       0.74      0.74      0.73       246\n",
      "\n",
      "Epoch 140/500, Loss: 0.0932\n"
     ]
    },
    {
     "name": "stderr",
     "output_type": "stream",
     "text": [
      "Training Epochs:  30%|██▉       | 148/500 [00:04<00:08, 42.82it/s]"
     ]
    },
    {
     "name": "stdout",
     "output_type": "stream",
     "text": [
      "Test Accuracy at Epoch 140: 73.58%\n",
      "Classification Report at Epoch 140:\n",
      "                  precision    recall  f1-score   support\n",
      "\n",
      "    infringement       0.70      0.83      0.76       123\n",
      "non_infringement       0.79      0.64      0.71       123\n",
      "\n",
      "        accuracy                           0.74       246\n",
      "       macro avg       0.74      0.74      0.73       246\n",
      "    weighted avg       0.74      0.74      0.73       246\n",
      "\n"
     ]
    },
    {
     "name": "stderr",
     "output_type": "stream",
     "text": [
      "Training Epochs:  32%|███▏      | 159/500 [00:04<00:07, 46.83it/s]"
     ]
    },
    {
     "name": "stdout",
     "output_type": "stream",
     "text": [
      "Epoch 150/500, Loss: 0.0844\n",
      "Test Accuracy at Epoch 150: 73.98%\n",
      "Classification Report at Epoch 150:\n",
      "                  precision    recall  f1-score   support\n",
      "\n",
      "    infringement       0.70      0.83      0.76       123\n",
      "non_infringement       0.79      0.65      0.71       123\n",
      "\n",
      "        accuracy                           0.74       246\n",
      "       macro avg       0.75      0.74      0.74       246\n",
      "    weighted avg       0.75      0.74      0.74       246\n",
      "\n",
      "Epoch 160/500, Loss: 0.0774\n"
     ]
    },
    {
     "name": "stderr",
     "output_type": "stream",
     "text": [
      "Training Epochs:  34%|███▍      | 169/500 [00:04<00:07, 44.94it/s]"
     ]
    },
    {
     "name": "stdout",
     "output_type": "stream",
     "text": [
      "Test Accuracy at Epoch 160: 73.17%\n",
      "Classification Report at Epoch 160:\n",
      "                  precision    recall  f1-score   support\n",
      "\n",
      "    infringement       0.70      0.80      0.75       123\n",
      "non_infringement       0.77      0.66      0.71       123\n",
      "\n",
      "        accuracy                           0.73       246\n",
      "       macro avg       0.74      0.73      0.73       246\n",
      "    weighted avg       0.74      0.73      0.73       246\n",
      "\n"
     ]
    },
    {
     "name": "stderr",
     "output_type": "stream",
     "text": [
      "Training Epochs:  35%|███▍      | 174/500 [00:04<00:07, 45.35it/s]"
     ]
    },
    {
     "name": "stdout",
     "output_type": "stream",
     "text": [
      "Epoch 170/500, Loss: 0.0719\n",
      "Test Accuracy at Epoch 170: 73.17%\n",
      "Classification Report at Epoch 170:\n",
      "                  precision    recall  f1-score   support\n",
      "\n",
      "    infringement       0.70      0.80      0.75       123\n",
      "non_infringement       0.77      0.66      0.71       123\n",
      "\n",
      "        accuracy                           0.73       246\n",
      "       macro avg       0.74      0.73      0.73       246\n",
      "    weighted avg       0.74      0.73      0.73       246\n",
      "\n",
      "Epoch 180/500, Loss: 0.0677\n"
     ]
    },
    {
     "name": "stderr",
     "output_type": "stream",
     "text": [
      "Training Epochs:  37%|███▋      | 185/500 [00:05<00:07, 42.55it/s]"
     ]
    },
    {
     "name": "stdout",
     "output_type": "stream",
     "text": [
      "Test Accuracy at Epoch 180: 73.17%\n",
      "Classification Report at Epoch 180:\n",
      "                  precision    recall  f1-score   support\n",
      "\n",
      "    infringement       0.70      0.80      0.75       123\n",
      "non_infringement       0.77      0.66      0.71       123\n",
      "\n",
      "        accuracy                           0.73       246\n",
      "       macro avg       0.74      0.73      0.73       246\n",
      "    weighted avg       0.74      0.73      0.73       246\n",
      "\n"
     ]
    },
    {
     "name": "stderr",
     "output_type": "stream",
     "text": [
      "Training Epochs:  39%|███▉      | 196/500 [00:05<00:06, 46.98it/s]"
     ]
    },
    {
     "name": "stdout",
     "output_type": "stream",
     "text": [
      "Epoch 190/500, Loss: 0.0644\n",
      "Test Accuracy at Epoch 190: 73.98%\n",
      "Classification Report at Epoch 190:\n",
      "                  precision    recall  f1-score   support\n",
      "\n",
      "    infringement       0.71      0.80      0.76       123\n",
      "non_infringement       0.78      0.67      0.72       123\n",
      "\n",
      "        accuracy                           0.74       246\n",
      "       macro avg       0.74      0.74      0.74       246\n",
      "    weighted avg       0.74      0.74      0.74       246\n",
      "\n",
      "Epoch 200/500, Loss: 0.0618\n"
     ]
    },
    {
     "name": "stderr",
     "output_type": "stream",
     "text": [
      "Training Epochs:  41%|████      | 206/500 [00:05<00:06, 43.42it/s]"
     ]
    },
    {
     "name": "stdout",
     "output_type": "stream",
     "text": [
      "Test Accuracy at Epoch 200: 73.98%\n",
      "Classification Report at Epoch 200:\n",
      "                  precision    recall  f1-score   support\n",
      "\n",
      "    infringement       0.71      0.80      0.76       123\n",
      "non_infringement       0.78      0.67      0.72       123\n",
      "\n",
      "        accuracy                           0.74       246\n",
      "       macro avg       0.74      0.74      0.74       246\n",
      "    weighted avg       0.74      0.74      0.74       246\n",
      "\n"
     ]
    },
    {
     "name": "stderr",
     "output_type": "stream",
     "text": [
      "Training Epochs:  43%|████▎     | 217/500 [00:05<00:05, 47.70it/s]"
     ]
    },
    {
     "name": "stdout",
     "output_type": "stream",
     "text": [
      "Epoch 210/500, Loss: 0.0603\n",
      "Test Accuracy at Epoch 210: 72.76%\n",
      "Classification Report at Epoch 210:\n",
      "                  precision    recall  f1-score   support\n",
      "\n",
      "    infringement       0.70      0.80      0.75       123\n",
      "non_infringement       0.76      0.66      0.71       123\n",
      "\n",
      "        accuracy                           0.73       246\n",
      "       macro avg       0.73      0.73      0.73       246\n",
      "    weighted avg       0.73      0.73      0.73       246\n",
      "\n",
      "Epoch 220/500, Loss: 0.0581\n"
     ]
    },
    {
     "name": "stderr",
     "output_type": "stream",
     "text": [
      "Training Epochs:  46%|████▌     | 228/500 [00:05<00:05, 46.53it/s]"
     ]
    },
    {
     "name": "stdout",
     "output_type": "stream",
     "text": [
      "Test Accuracy at Epoch 220: 72.76%\n",
      "Classification Report at Epoch 220:\n",
      "                  precision    recall  f1-score   support\n",
      "\n",
      "    infringement       0.70      0.80      0.75       123\n",
      "non_infringement       0.76      0.66      0.71       123\n",
      "\n",
      "        accuracy                           0.73       246\n",
      "       macro avg       0.73      0.73      0.73       246\n",
      "    weighted avg       0.73      0.73      0.73       246\n",
      "\n",
      "Epoch 230/500, Loss: 0.0568\n",
      "Test Accuracy at Epoch 230: 73.58%\n"
     ]
    },
    {
     "name": "stderr",
     "output_type": "stream",
     "text": [
      "Training Epochs:  48%|████▊     | 239/500 [00:06<00:05, 45.20it/s]"
     ]
    },
    {
     "name": "stdout",
     "output_type": "stream",
     "text": [
      "Classification Report at Epoch 230:\n",
      "                  precision    recall  f1-score   support\n",
      "\n",
      "    infringement       0.71      0.80      0.75       123\n",
      "non_infringement       0.77      0.67      0.72       123\n",
      "\n",
      "        accuracy                           0.74       246\n",
      "       macro avg       0.74      0.74      0.73       246\n",
      "    weighted avg       0.74      0.74      0.73       246\n",
      "\n"
     ]
    },
    {
     "name": "stderr",
     "output_type": "stream",
     "text": [
      "Training Epochs:  49%|████▉     | 244/500 [00:06<00:05, 45.26it/s]"
     ]
    },
    {
     "name": "stdout",
     "output_type": "stream",
     "text": [
      "Epoch 240/500, Loss: 0.0557\n",
      "Test Accuracy at Epoch 240: 74.39%\n",
      "Classification Report at Epoch 240:\n",
      "                  precision    recall  f1-score   support\n",
      "\n",
      "    infringement       0.72      0.80      0.76       123\n",
      "non_infringement       0.77      0.69      0.73       123\n",
      "\n",
      "        accuracy                           0.74       246\n",
      "       macro avg       0.75      0.74      0.74       246\n",
      "    weighted avg       0.75      0.74      0.74       246\n",
      "\n"
     ]
    },
    {
     "name": "stderr",
     "output_type": "stream",
     "text": [
      "Training Epochs:  51%|█████     | 256/500 [00:06<00:05, 43.20it/s]"
     ]
    },
    {
     "name": "stdout",
     "output_type": "stream",
     "text": [
      "Epoch 250/500, Loss: 0.0548\n",
      "Test Accuracy at Epoch 250: 74.39%\n",
      "Classification Report at Epoch 250:\n",
      "                  precision    recall  f1-score   support\n",
      "\n",
      "    infringement       0.72      0.80      0.76       123\n",
      "non_infringement       0.77      0.69      0.73       123\n",
      "\n",
      "        accuracy                           0.74       246\n",
      "       macro avg       0.75      0.74      0.74       246\n",
      "    weighted avg       0.75      0.74      0.74       246\n",
      "\n"
     ]
    },
    {
     "name": "stderr",
     "output_type": "stream",
     "text": [
      "Training Epochs:  53%|█████▎    | 266/500 [00:06<00:05, 43.40it/s]"
     ]
    },
    {
     "name": "stdout",
     "output_type": "stream",
     "text": [
      "Epoch 260/500, Loss: 0.0540\n",
      "Test Accuracy at Epoch 260: 74.39%\n",
      "Classification Report at Epoch 260:\n",
      "                  precision    recall  f1-score   support\n",
      "\n",
      "    infringement       0.72      0.80      0.76       123\n",
      "non_infringement       0.77      0.69      0.73       123\n",
      "\n",
      "        accuracy                           0.74       246\n",
      "       macro avg       0.75      0.74      0.74       246\n",
      "    weighted avg       0.75      0.74      0.74       246\n",
      "\n"
     ]
    },
    {
     "name": "stderr",
     "output_type": "stream",
     "text": [
      "Training Epochs:  55%|█████▌    | 276/500 [00:07<00:05, 40.78it/s]"
     ]
    },
    {
     "name": "stdout",
     "output_type": "stream",
     "text": [
      "Epoch 270/500, Loss: 0.0533\n",
      "Test Accuracy at Epoch 270: 74.39%\n",
      "Classification Report at Epoch 270:\n",
      "                  precision    recall  f1-score   support\n",
      "\n",
      "    infringement       0.72      0.80      0.76       123\n",
      "non_infringement       0.77      0.69      0.73       123\n",
      "\n",
      "        accuracy                           0.74       246\n",
      "       macro avg       0.75      0.74      0.74       246\n",
      "    weighted avg       0.75      0.74      0.74       246\n",
      "\n"
     ]
    },
    {
     "name": "stderr",
     "output_type": "stream",
     "text": [
      "Training Epochs:  57%|█████▋    | 287/500 [00:07<00:04, 45.81it/s]"
     ]
    },
    {
     "name": "stdout",
     "output_type": "stream",
     "text": [
      "Epoch 280/500, Loss: 0.0527\n",
      "Test Accuracy at Epoch 280: 74.39%\n",
      "Classification Report at Epoch 280:\n",
      "                  precision    recall  f1-score   support\n",
      "\n",
      "    infringement       0.72      0.80      0.76       123\n",
      "non_infringement       0.77      0.69      0.73       123\n",
      "\n",
      "        accuracy                           0.74       246\n",
      "       macro avg       0.75      0.74      0.74       246\n",
      "    weighted avg       0.75      0.74      0.74       246\n",
      "\n"
     ]
    },
    {
     "name": "stderr",
     "output_type": "stream",
     "text": [
      "Training Epochs:  60%|█████▉    | 298/500 [00:07<00:04, 46.20it/s]"
     ]
    },
    {
     "name": "stdout",
     "output_type": "stream",
     "text": [
      "Epoch 290/500, Loss: 0.0522\n",
      "Test Accuracy at Epoch 290: 74.39%\n",
      "Classification Report at Epoch 290:\n",
      "                  precision    recall  f1-score   support\n",
      "\n",
      "    infringement       0.72      0.80      0.76       123\n",
      "non_infringement       0.77      0.69      0.73       123\n",
      "\n",
      "        accuracy                           0.74       246\n",
      "       macro avg       0.75      0.74      0.74       246\n",
      "    weighted avg       0.75      0.74      0.74       246\n",
      "\n"
     ]
    },
    {
     "name": "stderr",
     "output_type": "stream",
     "text": [
      "Training Epochs:  62%|██████▏   | 309/500 [00:07<00:03, 48.75it/s]"
     ]
    },
    {
     "name": "stdout",
     "output_type": "stream",
     "text": [
      "Epoch 300/500, Loss: 0.0518\n",
      "Test Accuracy at Epoch 300: 74.39%\n",
      "Classification Report at Epoch 300:\n",
      "                  precision    recall  f1-score   support\n",
      "\n",
      "    infringement       0.72      0.80      0.76       123\n",
      "non_infringement       0.77      0.69      0.73       123\n",
      "\n",
      "        accuracy                           0.74       246\n",
      "       macro avg       0.75      0.74      0.74       246\n",
      "    weighted avg       0.75      0.74      0.74       246\n",
      "\n"
     ]
    },
    {
     "name": "stderr",
     "output_type": "stream",
     "text": [
      "Training Epochs:  64%|██████▍   | 320/500 [00:08<00:03, 46.80it/s]"
     ]
    },
    {
     "name": "stdout",
     "output_type": "stream",
     "text": [
      "Epoch 310/500, Loss: 0.0516\n",
      "Test Accuracy at Epoch 310: 74.80%\n",
      "Classification Report at Epoch 310:\n",
      "                  precision    recall  f1-score   support\n",
      "\n",
      "    infringement       0.72      0.80      0.76       123\n",
      "non_infringement       0.78      0.69      0.73       123\n",
      "\n",
      "        accuracy                           0.75       246\n",
      "       macro avg       0.75      0.75      0.75       246\n",
      "    weighted avg       0.75      0.75      0.75       246\n",
      "\n",
      "Epoch 320/500, Loss: 0.0515\n",
      "Test Accuracy at Epoch 320: 73.98%\n",
      "Classification Report at Epoch 320:\n",
      "                  precision    recall  f1-score   support\n",
      "\n",
      "    infringement       0.71      0.80      0.76       123\n",
      "non_infringement       0.78      0.67      0.72       123\n",
      "\n",
      "        accuracy                           0.74       246\n",
      "       macro avg       0.74      0.74      0.74       246\n",
      "    weighted avg       0.74      0.74      0.74       246\n",
      "\n"
     ]
    },
    {
     "name": "stderr",
     "output_type": "stream",
     "text": [
      "Training Epochs:  68%|██████▊   | 338/500 [00:08<00:03, 48.43it/s]"
     ]
    },
    {
     "name": "stdout",
     "output_type": "stream",
     "text": [
      "Epoch 330/500, Loss: 0.0539\n",
      "Test Accuracy at Epoch 330: 74.80%\n",
      "Classification Report at Epoch 330:\n",
      "                  precision    recall  f1-score   support\n",
      "\n",
      "    infringement       0.72      0.80      0.76       123\n",
      "non_infringement       0.78      0.69      0.73       123\n",
      "\n",
      "        accuracy                           0.75       246\n",
      "       macro avg       0.75      0.75      0.75       246\n",
      "    weighted avg       0.75      0.75      0.75       246\n",
      "\n",
      "Epoch 340/500, Loss: 0.0711\n",
      "Test Accuracy at Epoch 340: 68.70%\n"
     ]
    },
    {
     "name": "stderr",
     "output_type": "stream",
     "text": [
      "Training Epochs:  69%|██████▉   | 344/500 [00:08<00:03, 49.08it/s]"
     ]
    },
    {
     "name": "stdout",
     "output_type": "stream",
     "text": [
      "Classification Report at Epoch 340:\n",
      "                  precision    recall  f1-score   support\n",
      "\n",
      "    infringement       0.65      0.83      0.73       123\n",
      "non_infringement       0.76      0.54      0.64       123\n",
      "\n",
      "        accuracy                           0.69       246\n",
      "       macro avg       0.70      0.69      0.68       246\n",
      "    weighted avg       0.70      0.69      0.68       246\n",
      "\n"
     ]
    },
    {
     "name": "stderr",
     "output_type": "stream",
     "text": [
      "Training Epochs:  71%|███████   | 356/500 [00:08<00:03, 47.62it/s]"
     ]
    },
    {
     "name": "stdout",
     "output_type": "stream",
     "text": [
      "Epoch 350/500, Loss: 0.5265\n",
      "Test Accuracy at Epoch 350: 71.95%\n",
      "Classification Report at Epoch 350:\n",
      "                  precision    recall  f1-score   support\n",
      "\n",
      "    infringement       0.77      0.63      0.69       123\n",
      "non_infringement       0.68      0.81      0.74       123\n",
      "\n",
      "        accuracy                           0.72       246\n",
      "       macro avg       0.73      0.72      0.72       246\n",
      "    weighted avg       0.73      0.72      0.72       246\n",
      "\n",
      "Epoch 360/500, Loss: 0.4364\n",
      "Test Accuracy at Epoch 360: 75.20%\n"
     ]
    },
    {
     "name": "stderr",
     "output_type": "stream",
     "text": [
      "Training Epochs:  73%|███████▎  | 367/500 [00:09<00:02, 44.49it/s]"
     ]
    },
    {
     "name": "stdout",
     "output_type": "stream",
     "text": [
      "Classification Report at Epoch 360:\n",
      "                  precision    recall  f1-score   support\n",
      "\n",
      "    infringement       0.83      0.63      0.72       123\n",
      "non_infringement       0.70      0.87      0.78       123\n",
      "\n",
      "        accuracy                           0.75       246\n",
      "       macro avg       0.77      0.75      0.75       246\n",
      "    weighted avg       0.77      0.75      0.75       246\n",
      "\n"
     ]
    },
    {
     "name": "stderr",
     "output_type": "stream",
     "text": [
      "Training Epochs:  76%|███████▌  | 378/500 [00:09<00:02, 49.44it/s]"
     ]
    },
    {
     "name": "stdout",
     "output_type": "stream",
     "text": [
      "Epoch 370/500, Loss: 0.3739\n",
      "Test Accuracy at Epoch 370: 75.61%\n",
      "Classification Report at Epoch 370:\n",
      "                  precision    recall  f1-score   support\n",
      "\n",
      "    infringement       0.85      0.62      0.72       123\n",
      "non_infringement       0.70      0.89      0.79       123\n",
      "\n",
      "        accuracy                           0.76       246\n",
      "       macro avg       0.78      0.76      0.75       246\n",
      "    weighted avg       0.78      0.76      0.75       246\n",
      "\n",
      "Epoch 380/500, Loss: 0.3667\n",
      "Test Accuracy at Epoch 380: 81.71%\n",
      "Classification Report at Epoch 380:\n",
      "                  precision    recall  f1-score   support\n",
      "\n",
      "    infringement       0.89      0.72      0.80       123\n",
      "non_infringement       0.77      0.91      0.83       123\n",
      "\n",
      "        accuracy                           0.82       246\n",
      "       macro avg       0.83      0.82      0.82       246\n",
      "    weighted avg       0.83      0.82      0.82       246\n",
      "\n"
     ]
    },
    {
     "name": "stderr",
     "output_type": "stream",
     "text": [
      "Training Epochs:  77%|███████▋  | 384/500 [00:09<00:02, 42.67it/s]"
     ]
    },
    {
     "name": "stdout",
     "output_type": "stream",
     "text": [
      "New best model saved with accuracy 81.71% at epoch 380\n",
      "Best Classification Report at Epoch 380:\n",
      "                  precision    recall  f1-score   support\n",
      "\n",
      "    infringement       0.89      0.72      0.80       123\n",
      "non_infringement       0.77      0.91      0.83       123\n",
      "\n",
      "        accuracy                           0.82       246\n",
      "       macro avg       0.83      0.82      0.82       246\n",
      "    weighted avg       0.83      0.82      0.82       246\n",
      "\n"
     ]
    },
    {
     "name": "stderr",
     "output_type": "stream",
     "text": [
      "Training Epochs:  78%|███████▊  | 389/500 [00:09<00:02, 44.19it/s]"
     ]
    },
    {
     "name": "stdout",
     "output_type": "stream",
     "text": [
      "Epoch 390/500, Loss: 0.2497\n",
      "Test Accuracy at Epoch 390: 77.24%\n",
      "Classification Report at Epoch 390:\n",
      "                  precision    recall  f1-score   support\n",
      "\n",
      "    infringement       0.80      0.72      0.76       123\n",
      "non_infringement       0.75      0.82      0.78       123\n",
      "\n",
      "        accuracy                           0.77       246\n",
      "       macro avg       0.77      0.77      0.77       246\n",
      "    weighted avg       0.77      0.77      0.77       246\n",
      "\n"
     ]
    },
    {
     "name": "stderr",
     "output_type": "stream",
     "text": [
      "Training Epochs:  82%|████████▏ | 409/500 [00:10<00:02, 40.61it/s]"
     ]
    },
    {
     "name": "stdout",
     "output_type": "stream",
     "text": [
      "Epoch 400/500, Loss: 0.1853\n",
      "Test Accuracy at Epoch 400: 80.49%\n",
      "Classification Report at Epoch 400:\n",
      "                  precision    recall  f1-score   support\n",
      "\n",
      "    infringement       0.83      0.76      0.80       123\n",
      "non_infringement       0.78      0.85      0.81       123\n",
      "\n",
      "        accuracy                           0.80       246\n",
      "       macro avg       0.81      0.80      0.80       246\n",
      "    weighted avg       0.81      0.80      0.80       246\n",
      "\n"
     ]
    },
    {
     "name": "stderr",
     "output_type": "stream",
     "text": [
      "Training Epochs:  83%|████████▎ | 414/500 [00:10<00:02, 37.54it/s]"
     ]
    },
    {
     "name": "stdout",
     "output_type": "stream",
     "text": [
      "Epoch 410/500, Loss: 0.1463\n",
      "Test Accuracy at Epoch 410: 77.64%\n",
      "Classification Report at Epoch 410:\n",
      "                  precision    recall  f1-score   support\n",
      "\n",
      "    infringement       0.78      0.76      0.77       123\n",
      "non_infringement       0.77      0.79      0.78       123\n",
      "\n",
      "        accuracy                           0.78       246\n",
      "       macro avg       0.78      0.78      0.78       246\n",
      "    weighted avg       0.78      0.78      0.78       246\n",
      "\n"
     ]
    },
    {
     "name": "stderr",
     "output_type": "stream",
     "text": [
      "Training Epochs:  85%|████████▌ | 426/500 [00:10<00:02, 32.57it/s]"
     ]
    },
    {
     "name": "stdout",
     "output_type": "stream",
     "text": [
      "Epoch 420/500, Loss: 0.1167\n",
      "Test Accuracy at Epoch 420: 73.98%\n",
      "Classification Report at Epoch 420:\n",
      "                  precision    recall  f1-score   support\n",
      "\n",
      "    infringement       0.70      0.85      0.77       123\n",
      "non_infringement       0.81      0.63      0.71       123\n",
      "\n",
      "        accuracy                           0.74       246\n",
      "       macro avg       0.75      0.74      0.74       246\n",
      "    weighted avg       0.75      0.74      0.74       246\n",
      "\n"
     ]
    },
    {
     "name": "stderr",
     "output_type": "stream",
     "text": [
      "Training Epochs:  87%|████████▋ | 437/500 [00:10<00:01, 41.61it/s]"
     ]
    },
    {
     "name": "stdout",
     "output_type": "stream",
     "text": [
      "Epoch 430/500, Loss: 0.0974\n",
      "Test Accuracy at Epoch 430: 77.24%\n",
      "Classification Report at Epoch 430:\n",
      "                  precision    recall  f1-score   support\n",
      "\n",
      "    infringement       0.76      0.80      0.78       123\n",
      "non_infringement       0.79      0.74      0.76       123\n",
      "\n",
      "        accuracy                           0.77       246\n",
      "       macro avg       0.77      0.77      0.77       246\n",
      "    weighted avg       0.77      0.77      0.77       246\n",
      "\n",
      "Epoch 440/500, Loss: 0.0804\n",
      "Test Accuracy at Epoch 440: 75.61%\n"
     ]
    },
    {
     "name": "stderr",
     "output_type": "stream",
     "text": [
      "Training Epochs:  90%|████████▉ | 448/500 [00:11<00:01, 43.76it/s]"
     ]
    },
    {
     "name": "stdout",
     "output_type": "stream",
     "text": [
      "Classification Report at Epoch 440:\n",
      "                  precision    recall  f1-score   support\n",
      "\n",
      "    infringement       0.72      0.83      0.77       123\n",
      "non_infringement       0.80      0.68      0.74       123\n",
      "\n",
      "        accuracy                           0.76       246\n",
      "       macro avg       0.76      0.76      0.75       246\n",
      "    weighted avg       0.76      0.76      0.75       246\n",
      "\n"
     ]
    },
    {
     "name": "stderr",
     "output_type": "stream",
     "text": [
      "Training Epochs:  92%|█████████▏| 459/500 [00:11<00:00, 48.70it/s]"
     ]
    },
    {
     "name": "stdout",
     "output_type": "stream",
     "text": [
      "Epoch 450/500, Loss: 0.0693\n",
      "Test Accuracy at Epoch 450: 74.80%\n",
      "Classification Report at Epoch 450:\n",
      "                  precision    recall  f1-score   support\n",
      "\n",
      "    infringement       0.71      0.85      0.77       123\n",
      "non_infringement       0.81      0.65      0.72       123\n",
      "\n",
      "        accuracy                           0.75       246\n",
      "       macro avg       0.76      0.75      0.75       246\n",
      "    weighted avg       0.76      0.75      0.75       246\n",
      "\n"
     ]
    },
    {
     "name": "stderr",
     "output_type": "stream",
     "text": [
      "Training Epochs:  93%|█████████▎| 465/500 [00:11<00:00, 41.36it/s]"
     ]
    },
    {
     "name": "stdout",
     "output_type": "stream",
     "text": [
      "Epoch 460/500, Loss: 0.0641\n",
      "Test Accuracy at Epoch 460: 77.24%\n",
      "Classification Report at Epoch 460:\n",
      "                  precision    recall  f1-score   support\n",
      "\n",
      "    infringement       0.74      0.83      0.78       123\n",
      "non_infringement       0.81      0.72      0.76       123\n",
      "\n",
      "        accuracy                           0.77       246\n",
      "       macro avg       0.78      0.77      0.77       246\n",
      "    weighted avg       0.78      0.77      0.77       246\n",
      "\n"
     ]
    },
    {
     "name": "stderr",
     "output_type": "stream",
     "text": [
      "Training Epochs:  95%|█████████▌| 475/500 [00:11<00:00, 44.33it/s]"
     ]
    },
    {
     "name": "stdout",
     "output_type": "stream",
     "text": [
      "Epoch 470/500, Loss: 0.0751\n",
      "Test Accuracy at Epoch 470: 77.24%\n",
      "Classification Report at Epoch 470:\n",
      "                  precision    recall  f1-score   support\n",
      "\n",
      "    infringement       0.74      0.83      0.78       123\n",
      "non_infringement       0.81      0.72      0.76       123\n",
      "\n",
      "        accuracy                           0.77       246\n",
      "       macro avg       0.78      0.77      0.77       246\n",
      "    weighted avg       0.78      0.77      0.77       246\n",
      "\n"
     ]
    },
    {
     "name": "stderr",
     "output_type": "stream",
     "text": [
      "Training Epochs:  97%|█████████▋| 486/500 [00:12<00:00, 43.65it/s]"
     ]
    },
    {
     "name": "stdout",
     "output_type": "stream",
     "text": [
      "Epoch 480/500, Loss: 0.0568\n",
      "Test Accuracy at Epoch 480: 78.46%\n",
      "Classification Report at Epoch 480:\n",
      "                  precision    recall  f1-score   support\n",
      "\n",
      "    infringement       0.76      0.83      0.79       123\n",
      "non_infringement       0.81      0.74      0.77       123\n",
      "\n",
      "        accuracy                           0.78       246\n",
      "       macro avg       0.79      0.78      0.78       246\n",
      "    weighted avg       0.79      0.78      0.78       246\n",
      "\n",
      "Epoch 490/500, Loss: 0.0534\n",
      "Test Accuracy at Epoch 490: 78.46%\n"
     ]
    },
    {
     "name": "stderr",
     "output_type": "stream",
     "text": [
      "Training Epochs:  99%|█████████▉| 497/500 [00:12<00:00, 43.72it/s]"
     ]
    },
    {
     "name": "stdout",
     "output_type": "stream",
     "text": [
      "Classification Report at Epoch 490:\n",
      "                  precision    recall  f1-score   support\n",
      "\n",
      "    infringement       0.75      0.85      0.80       123\n",
      "non_infringement       0.82      0.72      0.77       123\n",
      "\n",
      "        accuracy                           0.78       246\n",
      "       macro avg       0.79      0.78      0.78       246\n",
      "    weighted avg       0.79      0.78      0.78       246\n",
      "\n"
     ]
    },
    {
     "name": "stderr",
     "output_type": "stream",
     "text": [
      "Training Epochs: 100%|██████████| 500/500 [00:12<00:00, 40.56it/s]\n",
      "/tmp/ipykernel_2523799/1033092828.py:47: FutureWarning: You are using `torch.load` with `weights_only=False` (the current default value), which uses the default pickle module implicitly. It is possible to construct malicious pickle data which will execute arbitrary code during unpickling (See https://github.com/pytorch/pytorch/blob/main/SECURITY.md#untrusted-models for more details). In a future release, the default value for `weights_only` will be flipped to `True`. This limits the functions that could be executed during unpickling. Arbitrary objects will no longer be allowed to be loaded via this mode unless they are explicitly allowlisted by the user via `torch.serialization.add_safe_globals`. We recommend you start setting `weights_only=True` for any use case where you don't have full control of the loaded file. Please open an issue on GitHub for any issues related to this experimental feature.\n",
      "  custom_mlp.load_state_dict(torch.load(checkpoint_path))\n"
     ]
    },
    {
     "name": "stdout",
     "output_type": "stream",
     "text": [
      "Epoch 500/500, Loss: 0.0517\n",
      "Test Accuracy at Epoch 500: 77.64%\n",
      "Classification Report at Epoch 500:\n",
      "                  precision    recall  f1-score   support\n",
      "\n",
      "    infringement       0.75      0.83      0.79       123\n",
      "non_infringement       0.81      0.72      0.76       123\n",
      "\n",
      "        accuracy                           0.78       246\n",
      "       macro avg       0.78      0.78      0.78       246\n",
      "    weighted avg       0.78      0.78      0.78       246\n",
      "\n"
     ]
    },
    {
     "data": {
      "image/png": "[encoded data removed]",
      "text/plain": [
       "<Figure size 1000x500 with 1 Axes>"
      ]
     },
     "metadata": {},
     "output_type": "display_data"
    },
    {
     "name": "stdout",
     "output_type": "stream",
     "text": [
      "Final Model Accuracy: 81.71%\n"
     ]
    }
   ],
   "source": [
    "input_dim = X_train.shape[1]\n",
    "hidden_dim = 256 \n",
    "print(f\"Training MLP model with input_dim={input_dim} and hidden_dim={hidden_dim}\")\n",
    "\n",
    "custom_mlp, losses, best_accuracy = train_model(X_train, y_train, X_test, y_test, input_dim, hidden_dim)"
   ]
  },
  {
   "cell_type": "code",
   "execution_count": 10,
   "metadata": {},
   "outputs": [
    {
     "name": "stdout",
     "output_type": "stream",
     "text": [
      "Checkpoint saved to '/home/guangwei/LLM-COPYRIGHT/copyright_newVersion/models/train_input_reference_last_token.pth'.\n"
     ]
    }
   ],
   "source": [
    "def save_checkpoint(model, optimizer, epoch, loss, filepath):\n",
    "    checkpoint = {\n",
    "        'epoch': epoch + 1,\n",
    "        'model_state_dict': model.state_dict(),\n",
    "        'optimizer_state_dict': optimizer.state_dict(),\n",
    "        'loss': loss\n",
    "    }\n",
    "    torch.save(checkpoint, filepath)\n",
    "    print(f\"Checkpoint saved to '{filepath}'.\")\n",
    "\n",
    "save_checkpoint(custom_mlp, torch.optim.Adam(custom_mlp.parameters()), len(losses), losses[-1], checkpoint_file)"
   ]
  },
  {
   "cell_type": "code",
   "execution_count": 11,
   "metadata": {},
   "outputs": [
    {
     "name": "stdout",
     "output_type": "stream",
     "text": [
      "                  precision    recall  f1-score   support\n",
      "\n",
      "    infringement       0.89      0.72      0.80       123\n",
      "non_infringement       0.77      0.91      0.83       123\n",
      "\n",
      "        accuracy                           0.82       246\n",
      "       macro avg       0.83      0.82      0.82       246\n",
      "    weighted avg       0.83      0.82      0.82       246\n",
      "\n"
     ]
    },
    {
     "name": "stderr",
     "output_type": "stream",
     "text": [
      "/tmp/ipykernel_2523799/2137335780.py:1: UserWarning: To copy construct from a tensor, it is recommended to use sourceTensor.clone().detach() or sourceTensor.clone().detach().requires_grad_(True), rather than torch.tensor(sourceTensor).\n",
      "  y_pred_final = (torch.sigmoid(torch.tensor(custom_mlp(torch.tensor(X_test, dtype=torch.float32)))) > 0.5).float().numpy()\n"
     ]
    }
   ],
   "source": [
    "y_pred_final = (torch.sigmoid(torch.tensor(custom_mlp(torch.tensor(X_test, dtype=torch.float32)))) > 0.5).float().numpy()\n",
    "print(classification_report(y_test, y_pred_final, target_names=[\"infringement\", \"non_infringement\"]))"
   ]
  }
 ],
 "metadata": {
  "kernelspec": {
   "display_name": "zdh",
   "language": "python",
   "name": "python3"
  },
  "language_info": {
   "codemirror_mode": {
    "name": "ipython",
    "version": 3
   },
   "file_extension": ".py",
   "mimetype": "text/x-python",
   "name": "python",
   "nbconvert_exporter": "python",
   "pygments_lexer": "ipython3",
   "version": "3.9.20"
  }
 },
 "nbformat": 4,
 "nbformat_minor": 2
}
