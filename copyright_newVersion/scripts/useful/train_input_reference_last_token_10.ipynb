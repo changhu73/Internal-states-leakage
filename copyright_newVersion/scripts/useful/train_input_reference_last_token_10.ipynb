{
 "cells": [
  {
   "cell_type": "code",
   "execution_count": 1,
   "metadata": {},
   "outputs": [
    {
     "name": "stderr",
     "output_type": "stream",
     "text": [
      "/home/guangwei/miniconda3/envs/zdh/lib/python3.9/site-packages/tqdm/auto.py:21: TqdmWarning: IProgress not found. Please update jupyter and ipywidgets. See https://ipywidgets.readthedocs.io/en/stable/user_install.html\n",
      "  from .autonotebook import tqdm as notebook_tqdm\n"
     ]
    }
   ],
   "source": [
    "# import packages & variables\n",
    "import argparse\n",
    "import torch\n",
    "import torch.nn as nn\n",
    "import numpy as np\n",
    "from sklearn.metrics import accuracy_score, classification_report\n",
    "import matplotlib.pyplot as plt\n",
    "from tqdm import tqdm\n",
    "from transformers import AutoTokenizer, AutoModelForCausalLM, AutoModel, AutoModelForSequenceClassification\n",
    "import json\n",
    "import os\n",
    "\n",
    "os.environ[\"CUDA_VISIBLE_DEVICES\"] = \"5\"\n",
    "\n",
    "# Parameters\n",
    "model_name = 'meta-llama/Meta-Llama-3.1-8B'\n",
    "non_infringement_file = '/home/guangwei/LLM-COPYRIGHT/copyright_newVersion/test_division/extra_10.non_infringement.json'\n",
    "infringement_file = '/home/guangwei/LLM-COPYRIGHT/copyright_newVersion/test_division/extra_10.infringement.json'\n",
    "checkpoint_file = '/home/guangwei/LLM-COPYRIGHT/copyright_newVersion/models/train_input_reference_last_token.pth'\n"
   ]
  },
  {
   "cell_type": "code",
   "execution_count": 2,
   "metadata": {},
   "outputs": [],
   "source": [
    "# Define CustumMLP for internal states train\n",
    "class CustomMLP(nn.Module):\n",
    "    def __init__(self, input_dim, hidden_dim):\n",
    "        super(CustomMLP, self).__init__()\n",
    "        self.down = nn.Linear(input_dim, hidden_dim)\n",
    "        self.gate = nn.Linear(input_dim, hidden_dim)\n",
    "        self.up = nn.Linear(hidden_dim, 1)\n",
    "        self.activation = nn.SiLU()\n",
    "\n",
    "    def forward(self, x):\n",
    "        down_output = self.down(x)\n",
    "        gate_output = self.gate(x)\n",
    "        gated_output = down_output * self.activation(gate_output)\n",
    "        return self.up(gated_output)"
   ]
  },
  {
   "cell_type": "code",
   "execution_count": 3,
   "metadata": {},
   "outputs": [],
   "source": [
    "# Extract hidden states/reference embeddings\n",
    "def extract_hidden_states(texts, model, tokenizer, batch_size=4):\n",
    "    device = torch.device(\"cuda\" if torch.cuda.is_available() else \"cpu\")\n",
    "    model.to(device)\n",
    "    model = nn.DataParallel(model)\n",
    "    hidden_states = []\n",
    "    for i in tqdm(range(0, len(texts), batch_size), desc=\"Processing data batches\"):\n",
    "        batch_texts = texts[i:i + batch_size]\n",
    "        inputs = tokenizer(batch_texts, return_tensors=\"pt\", padding=True, truncation=True)\n",
    "        with torch.no_grad():\n",
    "            outputs = model(**inputs)\n",
    "        \n",
    "        # 访问最后一个隐藏层的最后一个token的隐藏状态\n",
    "        # hidden_states[-1]表示最后一个隐藏层，mean(dim=1)表示取所有头的均值\n",
    "        last_layer_hidden_states = outputs.hidden_states[-1]\n",
    "        last_token_hidden_states = last_layer_hidden_states[:, -1, :]  # -1表示最后一个token\n",
    "        hidden_states.append(last_token_hidden_states.cpu().numpy())\n",
    "    return np.vstack(hidden_states)\n",
    "\n",
    "def extract_reference_embeddings(references, model, tokenizer, batch_size=4):\n",
    "    device = torch.device(\"cuda\" if torch.cuda.is_available() else \"cpu\")\n",
    "    model.to(device)\n",
    "    model = nn.DataParallel(model)\n",
    "    embeddings = []\n",
    "    for i in tqdm(range(0, len(references), batch_size), desc=\"Processing references\"):\n",
    "        batch_references = references[i:i + batch_size]\n",
    "        inputs = tokenizer(batch_references, return_tensors=\"pt\", padding=True, truncation=True).to(device)\n",
    "        with torch.no_grad():\n",
    "            outputs = model(**inputs)\n",
    "        embeddings.append(outputs.pooler_output.cpu().numpy())\n",
    "    return np.vstack(embeddings)"
   ]
  },
  {
   "cell_type": "code",
   "execution_count": null,
   "metadata": {},
   "outputs": [],
   "source": [
    "import os\n",
    "import sqlite3\n",
    "import json\n",
    "from sentence_transformers import SentenceTransformer\n",
    "import faiss\n",
    "import numpy as np\n",
    "import torch\n",
    "from tqdm import tqdm\n",
    "\n",
    "# Set device for CUDA\n",
    "os.environ[\"CUDA_VISIBLE_DEVICES\"] = \"4\"\n",
    "device = 'cuda' if torch.cuda.is_available() else 'cpu'\n",
    "\n",
    "# Load the Sentence Transformer model\n",
    "model = SentenceTransformer('sentence-transformers/all-roberta-large-v1')\n",
    "model = model.to(device)\n",
    "\n",
    "# Function to load data from JSON files\n",
    "import json\n",
    "\n",
    "# Load data for infringement & non-infringement\n",
    "def load_data(non_infringement_file, infringement_file):\n",
    "    with open(non_infringement_file, 'r', encoding='utf-8') as file:\n",
    "        non_infringement_json_data = json.load(file)\n",
    "\n",
    "    # Extract input and reference text for non-infringement\n",
    "    non_infringement_outputs = [entry['input'] for entry in non_infringement_json_data]\n",
    "    non_infringement_references = [entry['reference'] for entry in non_infringement_json_data]\n",
    "    y_non_infringement = [1] * len(non_infringement_outputs)\n",
    "\n",
    "    with open(infringement_file, 'r', encoding='utf-8') as file:\n",
    "        infringement_json_data = json.load(file)\n",
    "\n",
    "    # Extract input and reference text for infringement\n",
    "    infringement_outputs = [entry['input'] for entry in infringement_json_data]\n",
    "    infringement_references = [entry['reference'] for entry in infringement_json_data]\n",
    "    y_infringement = [0] * len(infringement_outputs)\n",
    "\n",
    "    return (non_infringement_outputs, non_infringement_references, y_non_infringement,\n",
    "            infringement_outputs, infringement_references, y_infringement)\n",
    "\n",
    "# Example usage\n",
    "non_infringement_outputs, non_infringement_references, y_non_infringement, \\\n",
    "infringement_outputs, infringement_references, y_infringement = load_data('non_infringement.json', 'infringement.json')\n",
    "\n",
    "# Encode references in batches\n",
    "def batch_encode_references(model, references, batch_size=8):\n",
    "    all_vectors = []\n",
    "    for i in tqdm(range(0, len(references), batch_size), desc=\"Encoding references\"):\n",
    "        batch = references[i:i + batch_size]\n",
    "        batch_vectors = model.encode(batch, convert_to_tensor=True, device=device)\n",
    "        all_vectors.append(batch_vectors.cpu().numpy())\n",
    "    return np.vstack(all_vectors)\n",
    "\n",
    "# Encode the complete references\n",
    "reference_vectors = batch_encode_references(model, references)\n",
    "\n",
    "# Initialize FAISS index\n",
    "dimension = reference_vectors.shape[1]\n",
    "nlist = 3\n",
    "quantizer = faiss.IndexFlatL2(dimension)\n",
    "gpu_index = faiss.IndexIVFFlat(quantizer, dimension, nlist, faiss.METRIC_L2)\n",
    "\n",
    "# Train and add vectors to the FAISS index\n",
    "print(\"Training the index...\")\n",
    "gpu_index.train(reference_vectors)\n",
    "print(\"Index training completed.\")\n",
    "print(\"Adding vectors to the index...\")\n",
    "gpu_index.add(reference_vectors)\n",
    "print(\"Vectors added to the index.\")\n",
    "\n",
    "# Setting up SQLite database to store text and embeddings\n",
    "def setup_database():\n",
    "    conn = sqlite3.connect('reference_db.sqlite')\n",
    "    cursor = conn.cursor()\n",
    "    cursor.execute('''\n",
    "        CREATE TABLE IF NOT EXISTS reference_data (\n",
    "            id INTEGER PRIMARY KEY AUTOINCREMENT,\n",
    "            text TEXT NOT NULL,\n",
    "            embedding BLOB NOT NULL\n",
    "        )\n",
    "    ''')\n",
    "    conn.commit()\n",
    "    return conn\n",
    "\n",
    "# Function to store references and their embeddings directly in the database\n",
    "def store_references(conn, references, embeddings):\n",
    "    cursor = conn.cursor()\n",
    "    for ref, emb in zip(references, embeddings):\n",
    "        # Store each embedding as binary\n",
    "        cursor.execute('INSERT INTO reference_data (text, embedding) VALUES (?, ?)', \n",
    "                       (ref, emb.tobytes()))\n",
    "    conn.commit()\n",
    "\n",
    "# Store references in the database\n",
    "conn = setup_database()\n",
    "store_references(conn, references, reference_vectors)\n",
    "\n",
    "# Function to find the most relevant reference based on input text\n",
    "def search_next_sentence(input_text, top_k=1):\n",
    "    print(f\"Searching for next sentence for input: '{input_text}'...\")\n",
    "    input_vector = model.encode([input_text], convert_to_tensor=True, device=device).cpu().numpy()\n",
    "    _, indices = gpu_index.search(input_vector, top_k)\n",
    "    return [references[i] for i in indices[0]]\n",
    "\n",
    "# Example input sentence\n",
    "input_sentence = \"foes right and left. Ser Rodrik hammered at the big man in the shadowskin cloak, their horses dancing round each other as they traded blow for blow.\"\n",
    "next_sentence = search_next_sentence(input_sentence)\n",
    "print(\"Recommended next sentence:\", next_sentence)\n",
    "\n",
    "# Close the database connection\n",
    "conn.close()\n"
   ]
  },
  {
   "cell_type": "code",
   "execution_count": 5,
   "metadata": {},
   "outputs": [],
   "source": [
    "# Train for best model\n",
    "def train_model(X_train, y_train, X_test, y_test, input_dim, hidden_dim, epochs=500, lr=0.001, checkpoint_path=checkpoint_file):\n",
    "    custom_mlp = CustomMLP(input_dim, hidden_dim)\n",
    "    criterion = nn.BCEWithLogitsLoss()\n",
    "    optimizer = torch.optim.Adam(custom_mlp.parameters(), lr=lr)\n",
    "\n",
    "    X_train_tensor = torch.tensor(X_train, dtype=torch.float32)\n",
    "    y_train_tensor = torch.tensor(y_train, dtype=torch.float32).unsqueeze(1)\n",
    "\n",
    "    best_accuracy = -float('inf')\n",
    "    best_model_state = None\n",
    "    best_epoch = 0\n",
    "    losses = []\n",
    "\n",
    "    for epoch in tqdm(range(epochs), desc=\"Training Epochs\"):\n",
    "        custom_mlp.train()\n",
    "        optimizer.zero_grad()\n",
    "        outputs = custom_mlp(X_train_tensor)\n",
    "        loss = criterion(outputs, y_train_tensor)\n",
    "        loss.backward()\n",
    "        optimizer.step()\n",
    "        losses.append(loss.item())\n",
    "\n",
    "        if (epoch + 1) % 10 == 0:\n",
    "            print(f\"Epoch {epoch + 1}/{epochs}, Loss: {loss.item():.4f}\")\n",
    "            \n",
    "            custom_mlp.eval()\n",
    "            X_test_tensor = torch.tensor(X_test, dtype=torch.float32)\n",
    "            with torch.no_grad():\n",
    "                y_pred_logits = custom_mlp(X_test_tensor)\n",
    "                y_pred = (torch.sigmoid(y_pred_logits) > 0.5).float().numpy()\n",
    "            \n",
    "            accuracy = accuracy_score(y_test, y_pred)\n",
    "            print(f\"Test Accuracy at Epoch {epoch + 1}: {accuracy * 100:.2f}%\")\n",
    "            \n",
    "            report = classification_report(y_test, y_pred, target_names=[\"infringement\", \"non_infringement\"])\n",
    "            print(f\"Classification Report at Epoch {epoch + 1}:\\n{report}\")\n",
    "\n",
    "            if accuracy > best_accuracy:\n",
    "                best_accuracy = accuracy\n",
    "                best_model_state = custom_mlp.state_dict()\n",
    "                best_epoch = epoch + 1\n",
    "                torch.save(best_model_state, checkpoint_path)\n",
    "                print(f\"New best model saved with accuracy {best_accuracy * 100:.2f}% at epoch {best_epoch}\")\n",
    "                print(f\"Best Classification Report at Epoch {best_epoch}:\\n{report}\")\n",
    "\n",
    "    custom_mlp.load_state_dict(torch.load(checkpoint_path))\n",
    "\n",
    "    plt.figure(figsize=(10, 5))\n",
    "    plt.plot(losses, label='Training Loss')\n",
    "    plt.xlabel('Epoch')\n",
    "    plt.ylabel('Loss')\n",
    "    plt.title('Training Loss Curve')\n",
    "    plt.legend()\n",
    "    plt.show()\n",
    "\n",
    "    print(f\"Final Model Accuracy: {best_accuracy * 100:.2f}%\")\n",
    "    \n",
    "    return custom_mlp, losses, best_accuracy"
   ]
  },
  {
   "cell_type": "code",
   "execution_count": 6,
   "metadata": {},
   "outputs": [
    {
     "name": "stderr",
     "output_type": "stream",
     "text": [
      "/home/guangwei/miniconda3/envs/zdh/lib/python3.9/site-packages/transformers/generation/configuration_utils.py:777: UserWarning: `return_dict_in_generate` is NOT set to `True`, but `output_hidden_states` is. When `return_dict_in_generate` is not `True`, `output_hidden_states` is ignored.\n",
      "  warnings.warn(\n",
      "Loading checkpoint shards: 100%|██████████| 4/4 [00:02<00:00,  1.39it/s]\n"
     ]
    }
   ],
   "source": [
    "tokenizer = AutoTokenizer.from_pretrained(model_name, model_max_length=512)\n",
    "model = AutoModelForCausalLM.from_pretrained(model_name, output_hidden_states=True)\n",
    "tokenizer.pad_token = tokenizer.eos_token\n",
    "bert_tokenizer = AutoTokenizer.from_pretrained('google-bert/bert-base-uncased')\n",
    "bert_model = AutoModel.from_pretrained('google-bert/bert-base-uncased')\n",
    "bert_tokenizer.pad_token = tokenizer.eos_token\n",
    "\n",
    "non_infringement_outputs, non_infringement_references, y_non_infringement, infringement_outputs, infringement_references, y_infringement = load_data(\n",
    "    non_infringement_file, infringement_file\n",
    ")\n",
    "\n",
    "y_non_infringement = np.array(y_non_infringement)\n",
    "y_infringement = np.array(y_infringement)\n"
   ]
  },
  {
   "cell_type": "code",
   "execution_count": 7,
   "metadata": {},
   "outputs": [
    {
     "name": "stdout",
     "output_type": "stream",
     "text": [
      "Extracting hidden states for non_infringement texts...\n"
     ]
    },
    {
     "name": "stderr",
     "output_type": "stream",
     "text": [
      "Processing data batches:   0%|          | 0/65 [00:00<?, ?it/s]Starting from v4.46, the `logits` model output will have the same type as the model (except at train time, where it will always be FP32)\n",
      "Processing data batches: 100%|██████████| 65/65 [00:19<00:00,  3.35it/s]\n"
     ]
    },
    {
     "name": "stdout",
     "output_type": "stream",
     "text": [
      "Extracting reference embeddings for non_infringement texts...\n"
     ]
    },
    {
     "name": "stderr",
     "output_type": "stream",
     "text": [
      "Processing references: 100%|██████████| 65/65 [00:01<00:00, 43.32it/s]\n"
     ]
    },
    {
     "name": "stdout",
     "output_type": "stream",
     "text": [
      "Extracting hidden states for infringement texts...\n"
     ]
    },
    {
     "name": "stderr",
     "output_type": "stream",
     "text": [
      "Processing data batches: 100%|██████████| 81/81 [00:23<00:00,  3.41it/s]\n"
     ]
    },
    {
     "name": "stdout",
     "output_type": "stream",
     "text": [
      "Extracting reference embeddings for infringement texts...\n"
     ]
    },
    {
     "name": "stderr",
     "output_type": "stream",
     "text": [
      "Processing references: 100%|██████████| 81/81 [00:00<00:00, 107.15it/s]\n"
     ]
    }
   ],
   "source": [
    "print(\"Extracting hidden states for non_infringement texts...\")\n",
    "X_non_infringement = extract_hidden_states(non_infringement_outputs, model, tokenizer)\n",
    "print(\"Extracting reference embeddings for non_infringement texts...\")\n",
    "reference_embeddings_non_infringement = extract_reference_embeddings(non_infringement_references, bert_model, bert_tokenizer)\n",
    "X_non_infringement_combined = np.hstack([X_non_infringement, reference_embeddings_non_infringement])\n",
    "\n",
    "print(\"Extracting hidden states for infringement texts...\")\n",
    "X_infringement = extract_hidden_states(infringement_outputs, model, tokenizer)\n",
    "print(\"Extracting reference embeddings for infringement texts...\")\n",
    "reference_embeddings_infringement = extract_reference_embeddings(infringement_references, bert_model, bert_tokenizer)\n",
    "X_infringement_combined = np.hstack([X_infringement, reference_embeddings_infringement])"
   ]
  },
  {
   "cell_type": "code",
   "execution_count": 8,
   "metadata": {},
   "outputs": [
    {
     "name": "stdout",
     "output_type": "stream",
     "text": [
      "Data successfully split into training and test sets.\n"
     ]
    }
   ],
   "source": [
    "split_index_non_infringement = int(0.8 * len(X_non_infringement_combined))\n",
    "X_non_infringement_train = X_non_infringement_combined[:split_index_non_infringement]\n",
    "X_non_infringement_test = X_non_infringement_combined[split_index_non_infringement:]\n",
    "y_non_infringement_train = y_non_infringement[:split_index_non_infringement]\n",
    "y_non_infringement_test = y_non_infringement[split_index_non_infringement:]\n",
    "\n",
    "split_index_infringement = int(0.8 * len(X_infringement_combined))\n",
    "X_infringement_train = X_infringement_combined[:split_index_infringement]\n",
    "X_infringement_test = X_infringement_combined[split_index_infringement:]\n",
    "y_infringement_train = y_infringement[:split_index_infringement]\n",
    "y_infringement_test = y_infringement[split_index_infringement:]\n",
    "\n",
    "X_train = np.vstack((X_non_infringement_train, X_infringement_train))\n",
    "X_test = np.vstack((X_non_infringement_test, X_infringement_test))\n",
    "y_train = np.concatenate((y_non_infringement_train, y_infringement_train))\n",
    "y_test = np.concatenate((y_non_infringement_test, y_infringement_test))\n",
    "\n",
    "print(\"Data successfully split into training and test sets.\")"
   ]
  },
  {
   "cell_type": "code",
   "execution_count": 9,
   "metadata": {},
   "outputs": [
    {
     "name": "stdout",
     "output_type": "stream",
     "text": [
      "Training MLP model with input_dim=4864 and hidden_dim=256\n"
     ]
    },
    {
     "name": "stderr",
     "output_type": "stream",
     "text": [
      "Training Epochs:   3%|▎         | 16/500 [00:00<00:11, 43.49it/s]"
     ]
    },
    {
     "name": "stdout",
     "output_type": "stream",
     "text": [
      "Epoch 10/500, Loss: 0.4859\n",
      "Test Accuracy at Epoch 10: 87.18%\n",
      "Classification Report at Epoch 10:\n",
      "                  precision    recall  f1-score   support\n",
      "\n",
      "    infringement       0.98      0.78      0.87        65\n",
      "non_infringement       0.78      0.98      0.87        52\n",
      "\n",
      "        accuracy                           0.87       117\n",
      "       macro avg       0.88      0.88      0.87       117\n",
      "    weighted avg       0.89      0.87      0.87       117\n",
      "\n",
      "New best model saved with accuracy 87.18% at epoch 10\n",
      "Best Classification Report at Epoch 10:\n",
      "                  precision    recall  f1-score   support\n",
      "\n",
      "    infringement       0.98      0.78      0.87        65\n",
      "non_infringement       0.78      0.98      0.87        52\n",
      "\n",
      "        accuracy                           0.87       117\n",
      "       macro avg       0.88      0.88      0.87       117\n",
      "    weighted avg       0.89      0.87      0.87       117\n",
      "\n"
     ]
    },
    {
     "name": "stderr",
     "output_type": "stream",
     "text": [
      "Training Epochs:   5%|▌         | 27/500 [00:00<00:09, 47.90it/s]"
     ]
    },
    {
     "name": "stdout",
     "output_type": "stream",
     "text": [
      "Epoch 20/500, Loss: 0.2138\n",
      "Test Accuracy at Epoch 20: 86.32%\n",
      "Classification Report at Epoch 20:\n",
      "                  precision    recall  f1-score   support\n",
      "\n",
      "    infringement       0.87      0.89      0.88        65\n",
      "non_infringement       0.86      0.83      0.84        52\n",
      "\n",
      "        accuracy                           0.86       117\n",
      "       macro avg       0.86      0.86      0.86       117\n",
      "    weighted avg       0.86      0.86      0.86       117\n",
      "\n",
      "Epoch 30/500, Loss: 0.1688\n",
      "Test Accuracy at Epoch 30: 89.74%\n",
      "Classification Report at Epoch 30:\n",
      "                  precision    recall  f1-score   support\n",
      "\n",
      "    infringement       0.95      0.86      0.90        65\n",
      "non_infringement       0.84      0.94      0.89        52\n",
      "\n",
      "        accuracy                           0.90       117\n",
      "       macro avg       0.90      0.90      0.90       117\n",
      "    weighted avg       0.90      0.90      0.90       117\n",
      "\n",
      "New best model saved with accuracy 89.74% at epoch 30\n",
      "Best Classification Report at Epoch 30:\n",
      "                  precision    recall  f1-score   support\n",
      "\n",
      "    infringement       0.95      0.86      0.90        65\n",
      "non_infringement       0.84      0.94      0.89        52\n",
      "\n",
      "        accuracy                           0.90       117\n",
      "       macro avg       0.90      0.90      0.90       117\n",
      "    weighted avg       0.90      0.90      0.90       117\n",
      "\n"
     ]
    },
    {
     "name": "stderr",
     "output_type": "stream",
     "text": [
      "Training Epochs:   8%|▊         | 39/500 [00:02<00:39, 11.59it/s]"
     ]
    },
    {
     "name": "stdout",
     "output_type": "stream",
     "text": [
      "Epoch 40/500, Loss: 0.1238\n",
      "Test Accuracy at Epoch 40: 88.89%\n",
      "Classification Report at Epoch 40:\n",
      "                  precision    recall  f1-score   support\n",
      "\n",
      "    infringement       0.93      0.86      0.90        65\n",
      "non_infringement       0.84      0.92      0.88        52\n",
      "\n",
      "        accuracy                           0.89       117\n",
      "       macro avg       0.89      0.89      0.89       117\n",
      "    weighted avg       0.89      0.89      0.89       117\n",
      "\n"
     ]
    },
    {
     "name": "stderr",
     "output_type": "stream",
     "text": [
      "Training Epochs:  11%|█         | 53/500 [00:03<00:33, 13.33it/s]"
     ]
    },
    {
     "name": "stdout",
     "output_type": "stream",
     "text": [
      "Epoch 50/500, Loss: 0.0889\n",
      "Test Accuracy at Epoch 50: 88.03%\n",
      "Classification Report at Epoch 50:\n",
      "                  precision    recall  f1-score   support\n",
      "\n",
      "    infringement       0.92      0.86      0.89        65\n",
      "non_infringement       0.84      0.90      0.87        52\n",
      "\n",
      "        accuracy                           0.88       117\n",
      "       macro avg       0.88      0.88      0.88       117\n",
      "    weighted avg       0.88      0.88      0.88       117\n",
      "\n"
     ]
    },
    {
     "name": "stderr",
     "output_type": "stream",
     "text": [
      "Training Epochs:  13%|█▎        | 63/500 [00:03<00:24, 17.94it/s]"
     ]
    },
    {
     "name": "stdout",
     "output_type": "stream",
     "text": [
      "Epoch 60/500, Loss: 0.0634\n",
      "Test Accuracy at Epoch 60: 88.03%\n",
      "Classification Report at Epoch 60:\n",
      "                  precision    recall  f1-score   support\n",
      "\n",
      "    infringement       0.92      0.86      0.89        65\n",
      "non_infringement       0.84      0.90      0.87        52\n",
      "\n",
      "        accuracy                           0.88       117\n",
      "       macro avg       0.88      0.88      0.88       117\n",
      "    weighted avg       0.88      0.88      0.88       117\n",
      "\n"
     ]
    },
    {
     "name": "stderr",
     "output_type": "stream",
     "text": [
      "Training Epochs:  14%|█▍        | 71/500 [00:04<00:33, 12.99it/s]"
     ]
    },
    {
     "name": "stdout",
     "output_type": "stream",
     "text": [
      "Epoch 70/500, Loss: 0.0454\n",
      "Test Accuracy at Epoch 70: 88.03%\n",
      "Classification Report at Epoch 70:\n",
      "                  precision    recall  f1-score   support\n",
      "\n",
      "    infringement       0.92      0.86      0.89        65\n",
      "non_infringement       0.84      0.90      0.87        52\n",
      "\n",
      "        accuracy                           0.88       117\n",
      "       macro avg       0.88      0.88      0.88       117\n",
      "    weighted avg       0.88      0.88      0.88       117\n",
      "\n"
     ]
    },
    {
     "name": "stderr",
     "output_type": "stream",
     "text": [
      "Training Epochs:  16%|█▌        | 81/500 [00:05<00:31, 13.11it/s]"
     ]
    },
    {
     "name": "stdout",
     "output_type": "stream",
     "text": [
      "Epoch 80/500, Loss: 0.0325\n",
      "Test Accuracy at Epoch 80: 87.18%\n",
      "Classification Report at Epoch 80:\n",
      "                  precision    recall  f1-score   support\n",
      "\n",
      "    infringement       0.90      0.86      0.88        65\n",
      "non_infringement       0.84      0.88      0.86        52\n",
      "\n",
      "        accuracy                           0.87       117\n",
      "       macro avg       0.87      0.87      0.87       117\n",
      "    weighted avg       0.87      0.87      0.87       117\n",
      "\n"
     ]
    },
    {
     "name": "stderr",
     "output_type": "stream",
     "text": [
      "Training Epochs:  19%|█▊        | 93/500 [00:05<00:24, 16.91it/s]"
     ]
    },
    {
     "name": "stdout",
     "output_type": "stream",
     "text": [
      "Epoch 90/500, Loss: 0.0243\n",
      "Test Accuracy at Epoch 90: 87.18%\n",
      "Classification Report at Epoch 90:\n",
      "                  precision    recall  f1-score   support\n",
      "\n",
      "    infringement       0.90      0.86      0.88        65\n",
      "non_infringement       0.84      0.88      0.86        52\n",
      "\n",
      "        accuracy                           0.87       117\n",
      "       macro avg       0.87      0.87      0.87       117\n",
      "    weighted avg       0.87      0.87      0.87       117\n",
      "\n"
     ]
    },
    {
     "name": "stderr",
     "output_type": "stream",
     "text": [
      "Training Epochs:  21%|██        | 106/500 [00:06<00:14, 27.69it/s]"
     ]
    },
    {
     "name": "stdout",
     "output_type": "stream",
     "text": [
      "Epoch 100/500, Loss: 0.0197\n",
      "Test Accuracy at Epoch 100: 87.18%\n",
      "Classification Report at Epoch 100:\n",
      "                  precision    recall  f1-score   support\n",
      "\n",
      "    infringement       0.90      0.86      0.88        65\n",
      "non_infringement       0.84      0.88      0.86        52\n",
      "\n",
      "        accuracy                           0.87       117\n",
      "       macro avg       0.87      0.87      0.87       117\n",
      "    weighted avg       0.87      0.87      0.87       117\n",
      "\n"
     ]
    },
    {
     "name": "stderr",
     "output_type": "stream",
     "text": [
      "Training Epochs:  23%|██▎       | 117/500 [00:06<00:09, 40.29it/s]"
     ]
    },
    {
     "name": "stdout",
     "output_type": "stream",
     "text": [
      "Epoch 110/500, Loss: 0.0171\n",
      "Test Accuracy at Epoch 110: 87.18%\n",
      "Classification Report at Epoch 110:\n",
      "                  precision    recall  f1-score   support\n",
      "\n",
      "    infringement       0.90      0.86      0.88        65\n",
      "non_infringement       0.84      0.88      0.86        52\n",
      "\n",
      "        accuracy                           0.87       117\n",
      "       macro avg       0.87      0.87      0.87       117\n",
      "    weighted avg       0.87      0.87      0.87       117\n",
      "\n",
      "Epoch 120/500, Loss: 0.0155\n",
      "Test Accuracy at Epoch 120: 88.03%\n",
      "Classification Report at Epoch 120:\n",
      "                  precision    recall  f1-score   support\n",
      "\n",
      "    infringement       0.92      0.86      0.89        65\n",
      "non_infringement       0.84      0.90      0.87        52\n",
      "\n",
      "        accuracy                           0.88       117\n",
      "       macro avg       0.88      0.88      0.88       117\n",
      "    weighted avg       0.88      0.88      0.88       117\n",
      "\n"
     ]
    },
    {
     "name": "stderr",
     "output_type": "stream",
     "text": [
      "Training Epochs:  27%|██▋       | 136/500 [00:06<00:07, 51.08it/s]"
     ]
    },
    {
     "name": "stdout",
     "output_type": "stream",
     "text": [
      "Epoch 130/500, Loss: 0.0146\n",
      "Test Accuracy at Epoch 130: 88.03%\n",
      "Classification Report at Epoch 130:\n",
      "                  precision    recall  f1-score   support\n",
      "\n",
      "    infringement       0.92      0.86      0.89        65\n",
      "non_infringement       0.84      0.90      0.87        52\n",
      "\n",
      "        accuracy                           0.88       117\n",
      "       macro avg       0.88      0.88      0.88       117\n",
      "    weighted avg       0.88      0.88      0.88       117\n",
      "\n",
      "Epoch 140/500, Loss: 0.0139\n",
      "Test Accuracy at Epoch 140: 87.18%\n",
      "Classification Report at Epoch 140:\n",
      "                  precision    recall  f1-score   support\n",
      "\n",
      "    infringement       0.90      0.86      0.88        65\n",
      "non_infringement       0.84      0.88      0.86        52\n",
      "\n",
      "        accuracy                           0.87       117\n",
      "       macro avg       0.87      0.87      0.87       117\n",
      "    weighted avg       0.87      0.87      0.87       117\n",
      "\n"
     ]
    },
    {
     "name": "stderr",
     "output_type": "stream",
     "text": [
      "Training Epochs:  32%|███▏      | 160/500 [00:07<00:06, 50.82it/s]"
     ]
    },
    {
     "name": "stdout",
     "output_type": "stream",
     "text": [
      "Epoch 150/500, Loss: 0.0135\n",
      "Test Accuracy at Epoch 150: 87.18%\n",
      "Classification Report at Epoch 150:\n",
      "                  precision    recall  f1-score   support\n",
      "\n",
      "    infringement       0.90      0.86      0.88        65\n",
      "non_infringement       0.84      0.88      0.86        52\n",
      "\n",
      "        accuracy                           0.87       117\n",
      "       macro avg       0.87      0.87      0.87       117\n",
      "    weighted avg       0.87      0.87      0.87       117\n",
      "\n",
      "Epoch 160/500, Loss: 0.0132\n",
      "Test Accuracy at Epoch 160: 87.18%\n",
      "Classification Report at Epoch 160:\n",
      "                  precision    recall  f1-score   support\n",
      "\n",
      "    infringement       0.90      0.86      0.88        65\n",
      "non_infringement       0.84      0.88      0.86        52\n",
      "\n",
      "        accuracy                           0.87       117\n",
      "       macro avg       0.87      0.87      0.87       117\n",
      "    weighted avg       0.87      0.87      0.87       117\n",
      "\n"
     ]
    },
    {
     "name": "stderr",
     "output_type": "stream",
     "text": [
      "Training Epochs:  36%|███▌      | 180/500 [00:07<00:06, 52.59it/s]"
     ]
    },
    {
     "name": "stdout",
     "output_type": "stream",
     "text": [
      "Epoch 170/500, Loss: 0.0129\n",
      "Test Accuracy at Epoch 170: 87.18%\n",
      "Classification Report at Epoch 170:\n",
      "                  precision    recall  f1-score   support\n",
      "\n",
      "    infringement       0.90      0.86      0.88        65\n",
      "non_infringement       0.84      0.88      0.86        52\n",
      "\n",
      "        accuracy                           0.87       117\n",
      "       macro avg       0.87      0.87      0.87       117\n",
      "    weighted avg       0.87      0.87      0.87       117\n",
      "\n",
      "Epoch 180/500, Loss: 0.0127\n",
      "Test Accuracy at Epoch 180: 87.18%\n",
      "Classification Report at Epoch 180:\n",
      "                  precision    recall  f1-score   support\n",
      "\n",
      "    infringement       0.90      0.86      0.88        65\n",
      "non_infringement       0.84      0.88      0.86        52\n",
      "\n",
      "        accuracy                           0.87       117\n",
      "       macro avg       0.87      0.87      0.87       117\n",
      "    weighted avg       0.87      0.87      0.87       117\n",
      "\n"
     ]
    },
    {
     "name": "stderr",
     "output_type": "stream",
     "text": [
      "Training Epochs:  40%|████      | 200/500 [00:08<00:05, 51.93it/s]"
     ]
    },
    {
     "name": "stdout",
     "output_type": "stream",
     "text": [
      "Epoch 190/500, Loss: 0.0125\n",
      "Test Accuracy at Epoch 190: 87.18%\n",
      "Classification Report at Epoch 190:\n",
      "                  precision    recall  f1-score   support\n",
      "\n",
      "    infringement       0.90      0.86      0.88        65\n",
      "non_infringement       0.84      0.88      0.86        52\n",
      "\n",
      "        accuracy                           0.87       117\n",
      "       macro avg       0.87      0.87      0.87       117\n",
      "    weighted avg       0.87      0.87      0.87       117\n",
      "\n",
      "Epoch 200/500, Loss: 0.0124\n",
      "Test Accuracy at Epoch 200: 87.18%\n",
      "Classification Report at Epoch 200:\n",
      "                  precision    recall  f1-score   support\n",
      "\n",
      "    infringement       0.90      0.86      0.88        65\n",
      "non_infringement       0.84      0.88      0.86        52\n",
      "\n",
      "        accuracy                           0.87       117\n",
      "       macro avg       0.87      0.87      0.87       117\n",
      "    weighted avg       0.87      0.87      0.87       117\n",
      "\n"
     ]
    },
    {
     "name": "stderr",
     "output_type": "stream",
     "text": [
      "Training Epochs:  44%|████▍     | 220/500 [00:08<00:05, 53.99it/s]"
     ]
    },
    {
     "name": "stdout",
     "output_type": "stream",
     "text": [
      "Epoch 210/500, Loss: 0.0123\n",
      "Test Accuracy at Epoch 210: 87.18%\n",
      "Classification Report at Epoch 210:\n",
      "                  precision    recall  f1-score   support\n",
      "\n",
      "    infringement       0.90      0.86      0.88        65\n",
      "non_infringement       0.84      0.88      0.86        52\n",
      "\n",
      "        accuracy                           0.87       117\n",
      "       macro avg       0.87      0.87      0.87       117\n",
      "    weighted avg       0.87      0.87      0.87       117\n",
      "\n",
      "Epoch 220/500, Loss: 0.0122\n",
      "Test Accuracy at Epoch 220: 87.18%\n",
      "Classification Report at Epoch 220:\n",
      "                  precision    recall  f1-score   support\n",
      "\n",
      "    infringement       0.90      0.86      0.88        65\n",
      "non_infringement       0.84      0.88      0.86        52\n",
      "\n",
      "        accuracy                           0.87       117\n",
      "       macro avg       0.87      0.87      0.87       117\n",
      "    weighted avg       0.87      0.87      0.87       117\n",
      "\n"
     ]
    },
    {
     "name": "stderr",
     "output_type": "stream",
     "text": [
      "Training Epochs:  47%|████▋     | 235/500 [00:08<00:05, 51.72it/s]"
     ]
    },
    {
     "name": "stdout",
     "output_type": "stream",
     "text": [
      "Epoch 230/500, Loss: 0.0121\n",
      "Test Accuracy at Epoch 230: 87.18%\n",
      "Classification Report at Epoch 230:\n",
      "                  precision    recall  f1-score   support\n",
      "\n",
      "    infringement       0.90      0.86      0.88        65\n",
      "non_infringement       0.84      0.88      0.86        52\n",
      "\n",
      "        accuracy                           0.87       117\n",
      "       macro avg       0.87      0.87      0.87       117\n",
      "    weighted avg       0.87      0.87      0.87       117\n",
      "\n"
     ]
    },
    {
     "name": "stderr",
     "output_type": "stream",
     "text": [
      "Training Epochs:  50%|████▉     | 249/500 [00:08<00:04, 56.95it/s]"
     ]
    },
    {
     "name": "stdout",
     "output_type": "stream",
     "text": [
      "Epoch 240/500, Loss: 0.0121\n",
      "Test Accuracy at Epoch 240: 87.18%\n",
      "Classification Report at Epoch 240:\n",
      "                  precision    recall  f1-score   support\n",
      "\n",
      "    infringement       0.90      0.86      0.88        65\n",
      "non_infringement       0.84      0.88      0.86        52\n",
      "\n",
      "        accuracy                           0.87       117\n",
      "       macro avg       0.87      0.87      0.87       117\n",
      "    weighted avg       0.87      0.87      0.87       117\n",
      "\n",
      "Epoch 250/500, Loss: 0.0120\n",
      "Test Accuracy at Epoch 250: 87.18%\n",
      "Classification Report at Epoch 250:\n",
      "                  precision    recall  f1-score   support\n",
      "\n",
      "    infringement       0.90      0.86      0.88        65\n",
      "non_infringement       0.84      0.88      0.86        52\n",
      "\n",
      "        accuracy                           0.87       117\n",
      "       macro avg       0.87      0.87      0.87       117\n",
      "    weighted avg       0.87      0.87      0.87       117\n",
      "\n"
     ]
    },
    {
     "name": "stderr",
     "output_type": "stream",
     "text": [
      "Training Epochs:  54%|█████▍    | 269/500 [00:09<00:03, 58.23it/s]"
     ]
    },
    {
     "name": "stdout",
     "output_type": "stream",
     "text": [
      "Epoch 260/500, Loss: 0.0120\n",
      "Test Accuracy at Epoch 260: 87.18%\n",
      "Classification Report at Epoch 260:\n",
      "                  precision    recall  f1-score   support\n",
      "\n",
      "    infringement       0.90      0.86      0.88        65\n",
      "non_infringement       0.84      0.88      0.86        52\n",
      "\n",
      "        accuracy                           0.87       117\n",
      "       macro avg       0.87      0.87      0.87       117\n",
      "    weighted avg       0.87      0.87      0.87       117\n",
      "\n",
      "Epoch 270/500, Loss: 0.0119\n",
      "Test Accuracy at Epoch 270: 87.18%\n",
      "Classification Report at Epoch 270:\n",
      "                  precision    recall  f1-score   support\n",
      "\n",
      "    infringement       0.90      0.86      0.88        65\n",
      "non_infringement       0.84      0.88      0.86        52\n",
      "\n",
      "        accuracy                           0.87       117\n",
      "       macro avg       0.87      0.87      0.87       117\n",
      "    weighted avg       0.87      0.87      0.87       117\n",
      "\n"
     ]
    },
    {
     "name": "stderr",
     "output_type": "stream",
     "text": [
      "Training Epochs:  58%|█████▊    | 290/500 [00:09<00:03, 58.40it/s]"
     ]
    },
    {
     "name": "stdout",
     "output_type": "stream",
     "text": [
      "Epoch 280/500, Loss: 0.0119\n",
      "Test Accuracy at Epoch 280: 87.18%\n",
      "Classification Report at Epoch 280:\n",
      "                  precision    recall  f1-score   support\n",
      "\n",
      "    infringement       0.90      0.86      0.88        65\n",
      "non_infringement       0.84      0.88      0.86        52\n",
      "\n",
      "        accuracy                           0.87       117\n",
      "       macro avg       0.87      0.87      0.87       117\n",
      "    weighted avg       0.87      0.87      0.87       117\n",
      "\n",
      "Epoch 290/500, Loss: 0.0118\n",
      "Test Accuracy at Epoch 290: 87.18%\n",
      "Classification Report at Epoch 290:\n",
      "                  precision    recall  f1-score   support\n",
      "\n",
      "    infringement       0.90      0.86      0.88        65\n",
      "non_infringement       0.84      0.88      0.86        52\n",
      "\n",
      "        accuracy                           0.87       117\n",
      "       macro avg       0.87      0.87      0.87       117\n",
      "    weighted avg       0.87      0.87      0.87       117\n",
      "\n"
     ]
    },
    {
     "name": "stderr",
     "output_type": "stream",
     "text": [
      "Training Epochs:  62%|██████▏   | 312/500 [00:10<00:03, 59.57it/s]"
     ]
    },
    {
     "name": "stdout",
     "output_type": "stream",
     "text": [
      "Epoch 300/500, Loss: 0.0118\n",
      "Test Accuracy at Epoch 300: 87.18%\n",
      "Classification Report at Epoch 300:\n",
      "                  precision    recall  f1-score   support\n",
      "\n",
      "    infringement       0.90      0.86      0.88        65\n",
      "non_infringement       0.84      0.88      0.86        52\n",
      "\n",
      "        accuracy                           0.87       117\n",
      "       macro avg       0.87      0.87      0.87       117\n",
      "    weighted avg       0.87      0.87      0.87       117\n",
      "\n",
      "Epoch 310/500, Loss: 0.0118\n",
      "Test Accuracy at Epoch 310: 87.18%\n",
      "Classification Report at Epoch 310:\n",
      "                  precision    recall  f1-score   support\n",
      "\n",
      "    infringement       0.90      0.86      0.88        65\n",
      "non_infringement       0.84      0.88      0.86        52\n",
      "\n",
      "        accuracy                           0.87       117\n",
      "       macro avg       0.87      0.87      0.87       117\n",
      "    weighted avg       0.87      0.87      0.87       117\n",
      "\n"
     ]
    },
    {
     "name": "stderr",
     "output_type": "stream",
     "text": [
      "Training Epochs:  65%|██████▌   | 327/500 [00:10<00:02, 58.87it/s]"
     ]
    },
    {
     "name": "stdout",
     "output_type": "stream",
     "text": [
      "Epoch 320/500, Loss: 0.0118\n",
      "Test Accuracy at Epoch 320: 87.18%\n",
      "Classification Report at Epoch 320:\n",
      "                  precision    recall  f1-score   support\n",
      "\n",
      "    infringement       0.90      0.86      0.88        65\n",
      "non_infringement       0.84      0.88      0.86        52\n",
      "\n",
      "        accuracy                           0.87       117\n",
      "       macro avg       0.87      0.87      0.87       117\n",
      "    weighted avg       0.87      0.87      0.87       117\n",
      "\n",
      "Epoch 330/500, Loss: 0.0117\n",
      "Test Accuracy at Epoch 330: 87.18%\n",
      "Classification Report at Epoch 330:\n",
      "                  precision    recall  f1-score   support\n",
      "\n",
      "    infringement       0.90      0.86      0.88        65\n",
      "non_infringement       0.84      0.88      0.86        52\n",
      "\n",
      "        accuracy                           0.87       117\n",
      "       macro avg       0.87      0.87      0.87       117\n",
      "    weighted avg       0.87      0.87      0.87       117\n",
      "\n"
     ]
    },
    {
     "name": "stderr",
     "output_type": "stream",
     "text": [
      "Training Epochs:  70%|███████   | 350/500 [00:10<00:02, 58.81it/s]"
     ]
    },
    {
     "name": "stdout",
     "output_type": "stream",
     "text": [
      "Epoch 340/500, Loss: 0.0117\n",
      "Test Accuracy at Epoch 340: 87.18%\n",
      "Classification Report at Epoch 340:\n",
      "                  precision    recall  f1-score   support\n",
      "\n",
      "    infringement       0.90      0.86      0.88        65\n",
      "non_infringement       0.84      0.88      0.86        52\n",
      "\n",
      "        accuracy                           0.87       117\n",
      "       macro avg       0.87      0.87      0.87       117\n",
      "    weighted avg       0.87      0.87      0.87       117\n",
      "\n",
      "Epoch 350/500, Loss: 0.0117\n",
      "Test Accuracy at Epoch 350: 87.18%\n",
      "Classification Report at Epoch 350:\n",
      "                  precision    recall  f1-score   support\n",
      "\n",
      "    infringement       0.90      0.86      0.88        65\n",
      "non_infringement       0.84      0.88      0.86        52\n",
      "\n",
      "        accuracy                           0.87       117\n",
      "       macro avg       0.87      0.87      0.87       117\n",
      "    weighted avg       0.87      0.87      0.87       117\n",
      "\n"
     ]
    },
    {
     "name": "stderr",
     "output_type": "stream",
     "text": [
      "Training Epochs:  73%|███████▎  | 365/500 [00:10<00:02, 63.92it/s]"
     ]
    },
    {
     "name": "stdout",
     "output_type": "stream",
     "text": [
      "Epoch 360/500, Loss: 0.0117\n",
      "Test Accuracy at Epoch 360: 87.18%\n",
      "Classification Report at Epoch 360:\n",
      "                  precision    recall  f1-score   support\n",
      "\n",
      "    infringement       0.90      0.86      0.88        65\n",
      "non_infringement       0.84      0.88      0.86        52\n",
      "\n",
      "        accuracy                           0.87       117\n",
      "       macro avg       0.87      0.87      0.87       117\n",
      "    weighted avg       0.87      0.87      0.87       117\n",
      "\n",
      "Epoch 370/500, Loss: 0.0117\n",
      "Test Accuracy at Epoch 370: 87.18%\n",
      "Classification Report at Epoch 370:\n",
      "                  precision    recall  f1-score   support\n",
      "\n",
      "    infringement       0.90      0.86      0.88        65\n",
      "non_infringement       0.84      0.88      0.86        52\n",
      "\n",
      "        accuracy                           0.87       117\n",
      "       macro avg       0.87      0.87      0.87       117\n",
      "    weighted avg       0.87      0.87      0.87       117\n",
      "\n"
     ]
    },
    {
     "name": "stderr",
     "output_type": "stream",
     "text": [
      "Training Epochs:  78%|███████▊  | 388/500 [00:11<00:01, 65.04it/s]"
     ]
    },
    {
     "name": "stdout",
     "output_type": "stream",
     "text": [
      "Epoch 380/500, Loss: 0.0117\n",
      "Test Accuracy at Epoch 380: 87.18%\n",
      "Classification Report at Epoch 380:\n",
      "                  precision    recall  f1-score   support\n",
      "\n",
      "    infringement       0.90      0.86      0.88        65\n",
      "non_infringement       0.84      0.88      0.86        52\n",
      "\n",
      "        accuracy                           0.87       117\n",
      "       macro avg       0.87      0.87      0.87       117\n",
      "    weighted avg       0.87      0.87      0.87       117\n",
      "\n",
      "Epoch 390/500, Loss: 0.0116\n",
      "Test Accuracy at Epoch 390: 87.18%\n",
      "Classification Report at Epoch 390:\n",
      "                  precision    recall  f1-score   support\n",
      "\n",
      "    infringement       0.90      0.86      0.88        65\n",
      "non_infringement       0.84      0.88      0.86        52\n",
      "\n",
      "        accuracy                           0.87       117\n",
      "       macro avg       0.87      0.87      0.87       117\n",
      "    weighted avg       0.87      0.87      0.87       117\n",
      "\n"
     ]
    },
    {
     "name": "stderr",
     "output_type": "stream",
     "text": [
      "Training Epochs:  82%|████████▏ | 410/500 [00:11<00:01, 62.92it/s]"
     ]
    },
    {
     "name": "stdout",
     "output_type": "stream",
     "text": [
      "Epoch 400/500, Loss: 0.0116\n",
      "Test Accuracy at Epoch 400: 87.18%\n",
      "Classification Report at Epoch 400:\n",
      "                  precision    recall  f1-score   support\n",
      "\n",
      "    infringement       0.90      0.86      0.88        65\n",
      "non_infringement       0.84      0.88      0.86        52\n",
      "\n",
      "        accuracy                           0.87       117\n",
      "       macro avg       0.87      0.87      0.87       117\n",
      "    weighted avg       0.87      0.87      0.87       117\n",
      "\n",
      "Epoch 410/500, Loss: 0.0116\n",
      "Test Accuracy at Epoch 410: 87.18%\n",
      "Classification Report at Epoch 410:\n",
      "                  precision    recall  f1-score   support\n",
      "\n",
      "    infringement       0.90      0.86      0.88        65\n",
      "non_infringement       0.84      0.88      0.86        52\n",
      "\n",
      "        accuracy                           0.87       117\n",
      "       macro avg       0.87      0.87      0.87       117\n",
      "    weighted avg       0.87      0.87      0.87       117\n",
      "\n"
     ]
    },
    {
     "name": "stderr",
     "output_type": "stream",
     "text": [
      "Training Epochs:  85%|████████▌ | 425/500 [00:11<00:01, 50.76it/s]"
     ]
    },
    {
     "name": "stdout",
     "output_type": "stream",
     "text": [
      "Epoch 420/500, Loss: 0.0116\n",
      "Test Accuracy at Epoch 420: 87.18%\n",
      "Classification Report at Epoch 420:\n",
      "                  precision    recall  f1-score   support\n",
      "\n",
      "    infringement       0.90      0.86      0.88        65\n",
      "non_infringement       0.84      0.88      0.86        52\n",
      "\n",
      "        accuracy                           0.87       117\n",
      "       macro avg       0.87      0.87      0.87       117\n",
      "    weighted avg       0.87      0.87      0.87       117\n",
      "\n"
     ]
    },
    {
     "name": "stderr",
     "output_type": "stream",
     "text": [
      "Training Epochs:  86%|████████▌ | 431/500 [00:12<00:03, 21.65it/s]"
     ]
    },
    {
     "name": "stdout",
     "output_type": "stream",
     "text": [
      "Epoch 430/500, Loss: 0.0116\n",
      "Test Accuracy at Epoch 430: 87.18%\n",
      "Classification Report at Epoch 430:\n",
      "                  precision    recall  f1-score   support\n",
      "\n",
      "    infringement       0.90      0.86      0.88        65\n",
      "non_infringement       0.84      0.88      0.86        52\n",
      "\n",
      "        accuracy                           0.87       117\n",
      "       macro avg       0.87      0.87      0.87       117\n",
      "    weighted avg       0.87      0.87      0.87       117\n",
      "\n"
     ]
    },
    {
     "name": "stderr",
     "output_type": "stream",
     "text": [
      "Training Epochs:  88%|████████▊ | 440/500 [00:13<00:03, 15.23it/s]"
     ]
    },
    {
     "name": "stdout",
     "output_type": "stream",
     "text": [
      "Epoch 440/500, Loss: 0.0116\n",
      "Test Accuracy at Epoch 440: 87.18%\n",
      "Classification Report at Epoch 440:\n",
      "                  precision    recall  f1-score   support\n",
      "\n",
      "    infringement       0.90      0.86      0.88        65\n",
      "non_infringement       0.84      0.88      0.86        52\n",
      "\n",
      "        accuracy                           0.87       117\n",
      "       macro avg       0.87      0.87      0.87       117\n",
      "    weighted avg       0.87      0.87      0.87       117\n",
      "\n"
     ]
    },
    {
     "name": "stderr",
     "output_type": "stream",
     "text": [
      "Training Epochs:  90%|█████████ | 452/500 [00:14<00:03, 12.50it/s]"
     ]
    },
    {
     "name": "stdout",
     "output_type": "stream",
     "text": [
      "Epoch 450/500, Loss: 0.0116\n",
      "Test Accuracy at Epoch 450: 87.18%\n",
      "Classification Report at Epoch 450:\n",
      "                  precision    recall  f1-score   support\n",
      "\n",
      "    infringement       0.90      0.86      0.88        65\n",
      "non_infringement       0.84      0.88      0.86        52\n",
      "\n",
      "        accuracy                           0.87       117\n",
      "       macro avg       0.87      0.87      0.87       117\n",
      "    weighted avg       0.87      0.87      0.87       117\n",
      "\n"
     ]
    },
    {
     "name": "stderr",
     "output_type": "stream",
     "text": [
      "Training Epochs:  92%|█████████▏| 462/500 [00:15<00:02, 12.74it/s]"
     ]
    },
    {
     "name": "stdout",
     "output_type": "stream",
     "text": [
      "Epoch 460/500, Loss: 0.0116\n",
      "Test Accuracy at Epoch 460: 87.18%\n",
      "Classification Report at Epoch 460:\n",
      "                  precision    recall  f1-score   support\n",
      "\n",
      "    infringement       0.90      0.86      0.88        65\n",
      "non_infringement       0.84      0.88      0.86        52\n",
      "\n",
      "        accuracy                           0.87       117\n",
      "       macro avg       0.87      0.87      0.87       117\n",
      "    weighted avg       0.87      0.87      0.87       117\n",
      "\n"
     ]
    },
    {
     "name": "stderr",
     "output_type": "stream",
     "text": [
      "Training Epochs:  94%|█████████▍| 472/500 [00:16<00:02, 11.80it/s]"
     ]
    },
    {
     "name": "stdout",
     "output_type": "stream",
     "text": [
      "Epoch 470/500, Loss: 0.0116\n",
      "Test Accuracy at Epoch 470: 87.18%\n",
      "Classification Report at Epoch 470:\n",
      "                  precision    recall  f1-score   support\n",
      "\n",
      "    infringement       0.90      0.86      0.88        65\n",
      "non_infringement       0.84      0.88      0.86        52\n",
      "\n",
      "        accuracy                           0.87       117\n",
      "       macro avg       0.87      0.87      0.87       117\n",
      "    weighted avg       0.87      0.87      0.87       117\n",
      "\n"
     ]
    },
    {
     "name": "stderr",
     "output_type": "stream",
     "text": [
      "Training Epochs:  96%|█████████▌| 481/500 [00:16<00:01, 17.32it/s]"
     ]
    },
    {
     "name": "stdout",
     "output_type": "stream",
     "text": [
      "Epoch 480/500, Loss: 0.0116\n",
      "Test Accuracy at Epoch 480: 87.18%\n",
      "Classification Report at Epoch 480:\n",
      "                  precision    recall  f1-score   support\n",
      "\n",
      "    infringement       0.90      0.86      0.88        65\n",
      "non_infringement       0.84      0.88      0.86        52\n",
      "\n",
      "        accuracy                           0.87       117\n",
      "       macro avg       0.87      0.87      0.87       117\n",
      "    weighted avg       0.87      0.87      0.87       117\n",
      "\n"
     ]
    },
    {
     "name": "stderr",
     "output_type": "stream",
     "text": [
      "Training Epochs:  99%|█████████▉| 494/500 [00:17<00:00, 23.33it/s]"
     ]
    },
    {
     "name": "stdout",
     "output_type": "stream",
     "text": [
      "Epoch 490/500, Loss: 0.0115\n",
      "Test Accuracy at Epoch 490: 87.18%\n",
      "Classification Report at Epoch 490:\n",
      "                  precision    recall  f1-score   support\n",
      "\n",
      "    infringement       0.90      0.86      0.88        65\n",
      "non_infringement       0.84      0.88      0.86        52\n",
      "\n",
      "        accuracy                           0.87       117\n",
      "       macro avg       0.87      0.87      0.87       117\n",
      "    weighted avg       0.87      0.87      0.87       117\n",
      "\n"
     ]
    },
    {
     "name": "stderr",
     "output_type": "stream",
     "text": [
      "Training Epochs: 100%|██████████| 500/500 [00:17<00:00, 28.73it/s]\n",
      "/tmp/ipykernel_2595178/1033092828.py:47: FutureWarning: You are using `torch.load` with `weights_only=False` (the current default value), which uses the default pickle module implicitly. It is possible to construct malicious pickle data which will execute arbitrary code during unpickling (See https://github.com/pytorch/pytorch/blob/main/SECURITY.md#untrusted-models for more details). In a future release, the default value for `weights_only` will be flipped to `True`. This limits the functions that could be executed during unpickling. Arbitrary objects will no longer be allowed to be loaded via this mode unless they are explicitly allowlisted by the user via `torch.serialization.add_safe_globals`. We recommend you start setting `weights_only=True` for any use case where you don't have full control of the loaded file. Please open an issue on GitHub for any issues related to this experimental feature.\n",
      "  custom_mlp.load_state_dict(torch.load(checkpoint_path))\n"
     ]
    },
    {
     "name": "stdout",
     "output_type": "stream",
     "text": [
      "Epoch 500/500, Loss: 0.0115\n",
      "Test Accuracy at Epoch 500: 87.18%\n",
      "Classification Report at Epoch 500:\n",
      "                  precision    recall  f1-score   support\n",
      "\n",
      "    infringement       0.90      0.86      0.88        65\n",
      "non_infringement       0.84      0.88      0.86        52\n",
      "\n",
      "        accuracy                           0.87       117\n",
      "       macro avg       0.87      0.87      0.87       117\n",
      "    weighted avg       0.87      0.87      0.87       117\n",
      "\n"
     ]
    },
    {
     "data": {
      "image/png": "[encoded data removed]",
      "text/plain": [
       "<Figure size 1000x500 with 1 Axes>"
      ]
     },
     "metadata": {},
     "output_type": "display_data"
    },
    {
     "name": "stdout",
     "output_type": "stream",
     "text": [
      "Final Model Accuracy: 89.74%\n"
     ]
    }
   ],
   "source": [
    "input_dim = X_train.shape[1]\n",
    "hidden_dim = 256 \n",
    "print(f\"Training MLP model with input_dim={input_dim} and hidden_dim={hidden_dim}\")\n",
    "\n",
    "custom_mlp, losses, best_accuracy = train_model(X_train, y_train, X_test, y_test, input_dim, hidden_dim)"
   ]
  },
  {
   "cell_type": "code",
   "execution_count": 10,
   "metadata": {},
   "outputs": [
    {
     "name": "stdout",
     "output_type": "stream",
     "text": [
      "Checkpoint saved to '/home/guangwei/LLM-COPYRIGHT/copyright_newVersion/models/train_input_reference_last_token.pth'.\n"
     ]
    }
   ],
   "source": [
    "def save_checkpoint(model, optimizer, epoch, loss, filepath):\n",
    "    checkpoint = {\n",
    "        'epoch': epoch + 1,\n",
    "        'model_state_dict': model.state_dict(),\n",
    "        'optimizer_state_dict': optimizer.state_dict(),\n",
    "        'loss': loss\n",
    "    }\n",
    "    torch.save(checkpoint, filepath)\n",
    "    print(f\"Checkpoint saved to '{filepath}'.\")\n",
    "\n",
    "save_checkpoint(custom_mlp, torch.optim.Adam(custom_mlp.parameters()), len(losses), losses[-1], checkpoint_file)"
   ]
  },
  {
   "cell_type": "code",
   "execution_count": null,
   "metadata": {},
   "outputs": [
    {
     "name": "stdout",
     "output_type": "stream",
     "text": [
      "                  precision    recall  f1-score   support\n",
      "\n",
      "    infringement       0.95      0.86      0.90        65\n",
      "non_infringement       0.84      0.94      0.89        52\n",
      "\n",
      "        accuracy                           0.90       117\n",
      "       macro avg       0.90      0.90      0.90       117\n",
      "    weighted avg       0.90      0.90      0.90       117\n",
      "\n"
     ]
    },
    {
     "name": "stderr",
     "output_type": "stream",
     "text": [
      "/tmp/ipykernel_2595178/2137335780.py:1: UserWarning: To copy construct from a tensor, it is recommended to use sourceTensor.clone().detach() or sourceTensor.clone().detach().requires_grad_(True), rather than torch.tensor(sourceTensor).\n",
      "  y_pred_final = (torch.sigmoid(torch.tensor(custom_mlp(torch.tensor(X_test, dtype=torch.float32)))) > 0.5).float().numpy()\n"
     ]
    },
    {
     "ename": "",
     "evalue": "",
     "output_type": "error",
     "traceback": [
      "\u001b[1;31mThe Kernel crashed while executing code in the current cell or a previous cell. \n",
      "\u001b[1;31mPlease review the code in the cell(s) to identify a possible cause of the failure. \n",
      "\u001b[1;31mClick <a href='https://aka.ms/vscodeJupyterKernelCrash'>here</a> for more info. \n",
      "\u001b[1;31mView Jupyter <a href='command:jupyter.viewOutput'>log</a> for further details."
     ]
    }
   ],
   "source": [
    "y_pred_final = (torch.sigmoid(torch.tensor(custom_mlp(torch.tensor(X_test, dtype=torch.float32)))) > 0.5).float().numpy()\n",
    "print(classification_report(y_test, y_pred_final, target_names=[\"infringement\", \"non_infringement\"]))"
   ]
  }
 ],
 "metadata": {
  "kernelspec": {
   "display_name": "zdh",
   "language": "python",
   "name": "python3"
  },
  "language_info": {
   "codemirror_mode": {
    "name": "ipython",
    "version": 3
   },
   "file_extension": ".py",
   "mimetype": "text/x-python",
   "name": "python",
   "nbconvert_exporter": "python",
   "pygments_lexer": "ipython3",
   "version": "3.9.20"
  }
 },
 "nbformat": 4,
 "nbformat_minor": 2
}
