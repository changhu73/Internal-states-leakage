{
 "cells": [
  {
   "cell_type": "code",
   "execution_count": 1,
   "metadata": {},
   "outputs": [
    {
     "name": "stderr",
     "output_type": "stream",
     "text": [
      "/home/guangwei/miniconda3/envs/zdh/lib/python3.12/site-packages/tqdm/auto.py:21: TqdmWarning: IProgress not found. Please update jupyter and ipywidgets. See https://ipywidgets.readthedocs.io/en/stable/user_install.html\n",
      "  from .autonotebook import tqdm as notebook_tqdm\n"
     ]
    }
   ],
   "source": [
    "# import packages\n",
    "import torch\n",
    "import torch.nn as nn\n",
    "import numpy as np\n",
    "from sklearn.metrics import accuracy_score, classification_report\n",
    "import matplotlib.pyplot as plt\n",
    "from tqdm import tqdm\n",
    "from transformers import AutoTokenizer, AutoModelForCausalLM\n",
    "import json\n",
    "import os\n",
    "\n",
    "os.environ[\"CUDA_VISIBLE_DEVICES\"] = \"5\"\n",
    "\n",
    "# Variables\n",
    "model_name = 'meta-llama/Meta-Llama-3.1-8B'\n",
    "non_infringement_file = '/home/guangwei/LLM-COPYRIGHT/copyright_newVersion/test_division/extra_25.non_infringement.json'\n",
    "infringement_file = '/home/guangwei/LLM-COPYRIGHT/copyright_newVersion/test_division/extra_25.infringement.json'\n",
    "checkpoint_file = '/home/guangwei/LLM-COPYRIGHT/copyright_newVersion/models/train_input_last_token.pth'"
   ]
  },
  {
   "cell_type": "code",
   "execution_count": 2,
   "metadata": {},
   "outputs": [],
   "source": [
    "# Define CustumMLP for internal states train\n",
    "class CustomMLP(nn.Module):\n",
    "    def __init__(self, input_dim, hidden_dim):\n",
    "        super(CustomMLP, self).__init__()\n",
    "        self.down = nn.Linear(input_dim, hidden_dim)\n",
    "        self.gate = nn.Linear(input_dim, hidden_dim)\n",
    "        self.up = nn.Linear(hidden_dim, 1)\n",
    "        self.activation = nn.SiLU()\n",
    "\n",
    "    def forward(self, x):\n",
    "        down_output = self.down(x)\n",
    "        gate_output = self.gate(x)\n",
    "        gated_output = down_output * self.activation(gate_output)\n",
    "        return self.up(gated_output)"
   ]
  },
  {
   "cell_type": "code",
   "execution_count": 3,
   "metadata": {},
   "outputs": [],
   "source": [
    "def extract_hidden_states(texts, model, tokenizer, batch_size=4):\n",
    "    device = torch.device(\"cuda\" if torch.cuda.is_available() else \"cpu\")\n",
    "    model.to(device)\n",
    "    model = nn.DataParallel(model)\n",
    "    hidden_states = []\n",
    "    for i in tqdm(range(0, len(texts), batch_size), desc=\"Processing data batches\"):\n",
    "        batch_texts = texts[i:i + batch_size]\n",
    "        inputs = tokenizer(batch_texts, return_tensors=\"pt\", padding=True, truncation=True)\n",
    "        with torch.no_grad():\n",
    "            outputs = model(**inputs)\n",
    "        \n",
    "        # 访问最后一个隐藏层的最后一个token的隐藏状态\n",
    "        # hidden_states[-1]表示最后一个隐藏层，mean(dim=1)表示取所有头的均值\n",
    "        last_layer_hidden_states = outputs.hidden_states[-1]\n",
    "        last_token_hidden_states = last_layer_hidden_states[:, -1, :]  # -1表示最后一个token\n",
    "        hidden_states.append(last_token_hidden_states.cpu().numpy())\n",
    "    return np.vstack(hidden_states)"
   ]
  },
  {
   "cell_type": "code",
   "execution_count": 4,
   "metadata": {},
   "outputs": [],
   "source": [
    "# lode data for infringement & non infringement\n",
    "def load_data(non_infringement_file, infringement_file):\n",
    "    with open(non_infringement_file, 'r', encoding='utf-8') as file:\n",
    "        non_infringement_json_data = json.load(file)\n",
    "\n",
    "    non_infringement_outputs = [entry['input'] for entry in non_infringement_json_data]\n",
    "    y_non_infringement = [1] * len(non_infringement_outputs)\n",
    "\n",
    "    with open(infringement_file, 'r', encoding='utf-8') as file:\n",
    "        infringement_json_data = json.load(file)\n",
    "\n",
    "    infringement_outputs = [entry['input'] for entry in infringement_json_data]\n",
    "    y_infringement = [0] * len(infringement_outputs)\n",
    "\n",
    "    return non_infringement_outputs, y_non_infringement, infringement_outputs, y_infringement"
   ]
  },
  {
   "cell_type": "code",
   "execution_count": 5,
   "metadata": {},
   "outputs": [],
   "source": [
    "from sklearn.metrics import accuracy_score, classification_report, f1_score\n",
    "\n",
    "# Train for best model\n",
    "def train_model(X_train, y_train, X_test, y_test, input_dim, hidden_dim, epochs=2500, lr=0.001, checkpoint_path=checkpoint_file):\n",
    "    custom_mlp = CustomMLP(input_dim, hidden_dim)\n",
    "    criterion = nn.BCEWithLogitsLoss()\n",
    "    optimizer = torch.optim.Adam(custom_mlp.parameters(), lr=lr)\n",
    "\n",
    "    X_train_tensor = torch.tensor(X_train, dtype=torch.float32)\n",
    "    y_train_tensor = torch.tensor(y_train, dtype=torch.float32).unsqueeze(1)\n",
    "\n",
    "    best_accuracy = -float('inf')  # Initialize the best accuracy to negative infinity\n",
    "    best_f1 = -float('inf')  # Initialize the best F1-score to negative infinity\n",
    "    best_model_state = None  # Store the state of the best model\n",
    "    best_epoch = 0  # Track the epoch with the best accuracy\n",
    "    losses = []\n",
    "\n",
    "    for epoch in tqdm(range(epochs), desc=\"Training Epochs\"):\n",
    "        custom_mlp.train()\n",
    "        optimizer.zero_grad()\n",
    "        outputs = custom_mlp(X_train_tensor)\n",
    "        loss = criterion(outputs, y_train_tensor)\n",
    "        loss.backward()\n",
    "        optimizer.step()\n",
    "        losses.append(loss.item())\n",
    "        \n",
    "        if (epoch + 1) % 10 == 0:\n",
    "            print(f\"Epoch {epoch + 1}/{epochs}, Loss: {loss.item():.4f}\")\n",
    "            \n",
    "            custom_mlp.eval()\n",
    "            X_test_tensor = torch.tensor(X_test, dtype=torch.float32)\n",
    "            with torch.no_grad():\n",
    "                y_pred_logits = custom_mlp(X_test_tensor)\n",
    "                y_pred = (torch.sigmoid(y_pred_logits) > 0.5).float().numpy()\n",
    "            \n",
    "            accuracy = accuracy_score(y_test, y_pred)\n",
    "            f1 = f1_score(y_test, y_pred)  # Calculate F1-score\n",
    "            print(f\"Test Accuracy at Epoch {epoch + 1}: {accuracy * 100:.2f}%\")\n",
    "            print(f\"Test F1-score at Epoch {epoch + 1}: {f1:.4f}\")\n",
    "            \n",
    "            report = classification_report(y_test, y_pred, target_names=[\"infringement\", \"non_infringement\"])\n",
    "            print(f\"Classification Report at Epoch {epoch + 1}:\\n{report}\")\n",
    "\n",
    "            # Check if the current model is the best based on F1-score\n",
    "            if f1 > best_f1:\n",
    "                best_accuracy = accuracy\n",
    "                best_f1 = f1\n",
    "                best_model_state = custom_mlp.state_dict()\n",
    "                best_epoch = epoch + 1\n",
    "                torch.save(best_model_state, checkpoint_path)\n",
    "                print(f\"New best model saved with F1-score {best_f1:.4f} at epoch {best_epoch}\")\n",
    "                print(f\"Best Classification Report at Epoch {best_epoch}:\\n{report}\")\n",
    "\n",
    "    # Load the best model state\n",
    "    custom_mlp.load_state_dict(torch.load(checkpoint_path))\n",
    "\n",
    "    # Plot loss curve\n",
    "    plt.figure(figsize=(10, 5))\n",
    "    plt.plot(losses, label='Training Loss')\n",
    "    plt.xlabel('Epoch')\n",
    "    plt.ylabel('Loss')\n",
    "    plt.title('Training Loss Curve')\n",
    "    plt.legend()\n",
    "    plt.show()\n",
    "\n",
    "    print(f\"Best Model was saved at epoch {best_epoch} with F1-score {best_f1:.4f} and accuracy {best_accuracy * 100:.2f}%\")\n",
    "    return custom_mlp, losses, best_accuracy, best_f1\n"
   ]
  },
  {
   "cell_type": "code",
   "execution_count": 6,
   "metadata": {},
   "outputs": [
    {
     "name": "stderr",
     "output_type": "stream",
     "text": [
      "/home/guangwei/miniconda3/envs/zdh/lib/python3.12/site-packages/transformers/generation/configuration_utils.py:777: UserWarning: `return_dict_in_generate` is NOT set to `True`, but `output_hidden_states` is. When `return_dict_in_generate` is not `True`, `output_hidden_states` is ignored.\n",
      "  warnings.warn(\n",
      "Loading checkpoint shards: 100%|██████████| 4/4 [00:02<00:00,  1.63it/s]\n"
     ]
    }
   ],
   "source": [
    "\n",
    "tokenizer = AutoTokenizer.from_pretrained(model_name, model_max_length=512)\n",
    "model = AutoModelForCausalLM.from_pretrained(model_name, output_hidden_states=True)\n",
    "tokenizer.pad_token = tokenizer.eos_token\n",
    "\n",
    "non_infringement_outputs, y_non_infringement, infringement_outputs, y_infringement = load_data(non_infringement_file, infringement_file)\n",
    "\n",
    "y_non_infringement = np.array(y_non_infringement)\n",
    "y_infringement = np.array(y_infringement)\n"
   ]
  },
  {
   "cell_type": "code",
   "execution_count": 7,
   "metadata": {},
   "outputs": [
    {
     "name": "stdout",
     "output_type": "stream",
     "text": [
      "Extracting hidden states for non_infringement texts...\n"
     ]
    },
    {
     "name": "stderr",
     "output_type": "stream",
     "text": [
      "Processing data batches:   0%|          | 0/220 [00:00<?, ?it/s]Starting from v4.46, the `logits` model output will have the same type as the model (except at train time, where it will always be FP32)\n",
      "Processing data batches: 100%|██████████| 220/220 [01:01<00:00,  3.61it/s]\n"
     ]
    },
    {
     "name": "stdout",
     "output_type": "stream",
     "text": [
      "Extracting hidden states for infringement texts...\n"
     ]
    },
    {
     "name": "stderr",
     "output_type": "stream",
     "text": [
      "Processing data batches: 100%|██████████| 200/200 [01:13<00:00,  2.70it/s]\n"
     ]
    }
   ],
   "source": [
    "print(\"Extracting hidden states for non_infringement texts...\")\n",
    "X_non_infringement = extract_hidden_states(non_infringement_outputs, model, tokenizer)\n",
    "\n",
    "print(\"Extracting hidden states for infringement texts...\")\n",
    "X_infringement = extract_hidden_states(infringement_outputs, model, tokenizer)"
   ]
  },
  {
   "cell_type": "code",
   "execution_count": 8,
   "metadata": {},
   "outputs": [
    {
     "name": "stdout",
     "output_type": "stream",
     "text": [
      "Data successfully split into training and test sets.\n"
     ]
    }
   ],
   "source": [
    "split_index_non_infringement = int(0.8 * len(X_non_infringement))\n",
    "X_non_infringement_train = X_non_infringement[:split_index_non_infringement]\n",
    "X_non_infringement_test = X_non_infringement[split_index_non_infringement:]\n",
    "y_non_infringement_train = y_non_infringement[:split_index_non_infringement]\n",
    "y_non_infringement_test = y_non_infringement[split_index_non_infringement:]\n",
    "\n",
    "split_index_infringement = int(0.8 * len(X_infringement))\n",
    "X_infringement_train = X_infringement[:split_index_infringement]\n",
    "X_infringement_test = X_infringement[split_index_infringement:]\n",
    "y_infringement_train = y_infringement[:split_index_infringement]\n",
    "y_infringement_test = y_infringement[split_index_infringement:]\n",
    "\n",
    "X_train = np.vstack((X_non_infringement_train, X_infringement_train))\n",
    "X_test = np.vstack((X_non_infringement_test, X_infringement_test))\n",
    "y_train = np.concatenate((y_non_infringement_train, y_infringement_train))\n",
    "y_test = np.concatenate((y_non_infringement_test, y_infringement_test))\n",
    "\n",
    "print(\"Data successfully split into training and test sets.\")\n"
   ]
  },
  {
   "cell_type": "code",
   "execution_count": 9,
   "metadata": {},
   "outputs": [
    {
     "name": "stderr",
     "output_type": "stream",
     "text": [
      "Training Epochs:   1%|          | 14/2500 [00:00<01:24, 29.54it/s]"
     ]
    },
    {
     "name": "stdout",
     "output_type": "stream",
     "text": [
      "Epoch 10/2500, Loss: 0.6748\n",
      "Test Accuracy at Epoch 10: 53.87%\n",
      "Test F1-score at Epoch 10: 0.3568\n",
      "Classification Report at Epoch 10:\n",
      "                  precision    recall  f1-score   support\n",
      "\n",
      "    infringement       0.51      0.86      0.64       160\n",
      "non_infringement       0.66      0.24      0.36       176\n",
      "\n",
      "        accuracy                           0.54       336\n",
      "       macro avg       0.59      0.55      0.50       336\n",
      "    weighted avg       0.59      0.54      0.49       336\n",
      "\n",
      "New best model saved with F1-score 0.3568 at epoch 10\n",
      "Best Classification Report at Epoch 10:\n",
      "                  precision    recall  f1-score   support\n",
      "\n",
      "    infringement       0.51      0.86      0.64       160\n",
      "non_infringement       0.66      0.24      0.36       176\n",
      "\n",
      "        accuracy                           0.54       336\n",
      "       macro avg       0.59      0.55      0.50       336\n",
      "    weighted avg       0.59      0.54      0.49       336\n",
      "\n"
     ]
    },
    {
     "name": "stderr",
     "output_type": "stream",
     "text": [
      "Training Epochs:   1%|          | 24/2500 [00:00<01:14, 33.18it/s]"
     ]
    },
    {
     "name": "stdout",
     "output_type": "stream",
     "text": [
      "Epoch 20/2500, Loss: 0.4922\n",
      "Test Accuracy at Epoch 20: 68.75%\n",
      "Test F1-score at Epoch 20: 0.7407\n",
      "Classification Report at Epoch 20:\n",
      "                  precision    recall  f1-score   support\n",
      "\n",
      "    infringement       0.76      0.51      0.61       160\n",
      "non_infringement       0.66      0.85      0.74       176\n",
      "\n",
      "        accuracy                           0.69       336\n",
      "       macro avg       0.71      0.68      0.67       336\n",
      "    weighted avg       0.70      0.69      0.68       336\n",
      "\n",
      "New best model saved with F1-score 0.7407 at epoch 20\n",
      "Best Classification Report at Epoch 20:\n",
      "                  precision    recall  f1-score   support\n",
      "\n",
      "    infringement       0.76      0.51      0.61       160\n",
      "non_infringement       0.66      0.85      0.74       176\n",
      "\n",
      "        accuracy                           0.69       336\n",
      "       macro avg       0.71      0.68      0.67       336\n",
      "    weighted avg       0.70      0.69      0.68       336\n",
      "\n"
     ]
    },
    {
     "name": "stderr",
     "output_type": "stream",
     "text": [
      "Training Epochs:   1%|▏         | 36/2500 [00:01<00:55, 44.28it/s]"
     ]
    },
    {
     "name": "stdout",
     "output_type": "stream",
     "text": [
      "Epoch 30/2500, Loss: 0.4638\n",
      "Test Accuracy at Epoch 30: 67.26%\n",
      "Test F1-score at Epoch 30: 0.7343\n",
      "Classification Report at Epoch 30:\n",
      "                  precision    recall  f1-score   support\n",
      "\n",
      "    infringement       0.76      0.46      0.57       160\n",
      "non_infringement       0.64      0.86      0.73       176\n",
      "\n",
      "        accuracy                           0.67       336\n",
      "       macro avg       0.70      0.66      0.65       336\n",
      "    weighted avg       0.69      0.67      0.66       336\n",
      "\n",
      "Epoch 40/2500, Loss: 0.4246\n",
      "Test Accuracy at Epoch 40: 71.43%\n",
      "Test F1-score at Epoch 40: 0.7635\n",
      "Classification Report at Epoch 40:\n",
      "                  precision    recall  f1-score   support\n",
      "\n",
      "    infringement       0.80      0.53      0.64       160\n",
      "non_infringement       0.67      0.88      0.76       176\n",
      "\n",
      "        accuracy                           0.71       336\n",
      "       macro avg       0.74      0.71      0.70       336\n",
      "    weighted avg       0.73      0.71      0.70       336\n",
      "\n"
     ]
    },
    {
     "name": "stderr",
     "output_type": "stream",
     "text": [
      "Training Epochs:   2%|▏         | 47/2500 [00:01<00:56, 43.25it/s]"
     ]
    },
    {
     "name": "stdout",
     "output_type": "stream",
     "text": [
      "New best model saved with F1-score 0.7635 at epoch 40\n",
      "Best Classification Report at Epoch 40:\n",
      "                  precision    recall  f1-score   support\n",
      "\n",
      "    infringement       0.80      0.53      0.64       160\n",
      "non_infringement       0.67      0.88      0.76       176\n",
      "\n",
      "        accuracy                           0.71       336\n",
      "       macro avg       0.74      0.71      0.70       336\n",
      "    weighted avg       0.73      0.71      0.70       336\n",
      "\n"
     ]
    },
    {
     "name": "stderr",
     "output_type": "stream",
     "text": [
      "Training Epochs:   2%|▏         | 52/2500 [00:01<00:59, 41.41it/s]"
     ]
    },
    {
     "name": "stdout",
     "output_type": "stream",
     "text": [
      "Epoch 50/2500, Loss: 0.3720\n",
      "Test Accuracy at Epoch 50: 71.43%\n",
      "Test F1-score at Epoch 50: 0.7563\n",
      "Classification Report at Epoch 50:\n",
      "                  precision    recall  f1-score   support\n",
      "\n",
      "    infringement       0.77      0.57      0.65       160\n",
      "non_infringement       0.68      0.85      0.76       176\n",
      "\n",
      "        accuracy                           0.71       336\n",
      "       macro avg       0.73      0.71      0.71       336\n",
      "    weighted avg       0.73      0.71      0.71       336\n",
      "\n"
     ]
    },
    {
     "name": "stderr",
     "output_type": "stream",
     "text": [
      "Training Epochs:   3%|▎         | 70/2500 [00:01<00:52, 46.34it/s]"
     ]
    },
    {
     "name": "stdout",
     "output_type": "stream",
     "text": [
      "Epoch 60/2500, Loss: 0.3151\n",
      "Test Accuracy at Epoch 60: 70.83%\n",
      "Test F1-score at Epoch 60: 0.7461\n",
      "Classification Report at Epoch 60:\n",
      "                  precision    recall  f1-score   support\n",
      "\n",
      "    infringement       0.75      0.59      0.66       160\n",
      "non_infringement       0.69      0.82      0.75       176\n",
      "\n",
      "        accuracy                           0.71       336\n",
      "       macro avg       0.72      0.70      0.70       336\n",
      "    weighted avg       0.71      0.71      0.70       336\n",
      "\n",
      "Epoch 70/2500, Loss: 0.2689\n",
      "Test Accuracy at Epoch 70: 69.05%\n",
      "Test F1-score at Epoch 70: 0.7234\n",
      "Classification Report at Epoch 70:\n",
      "                  precision    recall  f1-score   support\n",
      "\n",
      "    infringement       0.71      0.60      0.65       160\n",
      "non_infringement       0.68      0.77      0.72       176\n",
      "\n",
      "        accuracy                           0.69       336\n",
      "       macro avg       0.69      0.69      0.69       336\n",
      "    weighted avg       0.69      0.69      0.69       336\n",
      "\n"
     ]
    },
    {
     "name": "stderr",
     "output_type": "stream",
     "text": [
      "Training Epochs:   3%|▎         | 83/2500 [00:02<00:56, 42.89it/s]"
     ]
    },
    {
     "name": "stdout",
     "output_type": "stream",
     "text": [
      "Epoch 80/2500, Loss: 0.2881\n",
      "Test Accuracy at Epoch 80: 71.43%\n",
      "Test F1-score at Epoch 80: 0.7474\n",
      "Classification Report at Epoch 80:\n",
      "                  precision    recall  f1-score   support\n",
      "\n",
      "    infringement       0.74      0.61      0.67       160\n",
      "non_infringement       0.70      0.81      0.75       176\n",
      "\n",
      "        accuracy                           0.71       336\n",
      "       macro avg       0.72      0.71      0.71       336\n",
      "    weighted avg       0.72      0.71      0.71       336\n",
      "\n"
     ]
    },
    {
     "name": "stderr",
     "output_type": "stream",
     "text": [
      "Training Epochs:   4%|▎         | 93/2500 [00:02<01:03, 37.65it/s]"
     ]
    },
    {
     "name": "stdout",
     "output_type": "stream",
     "text": [
      "Epoch 90/2500, Loss: 0.2364\n",
      "Test Accuracy at Epoch 90: 73.21%\n",
      "Test F1-score at Epoch 90: 0.7656\n",
      "Classification Report at Epoch 90:\n",
      "                  precision    recall  f1-score   support\n",
      "\n",
      "    infringement       0.77      0.62      0.69       160\n",
      "non_infringement       0.71      0.84      0.77       176\n",
      "\n",
      "        accuracy                           0.73       336\n",
      "       macro avg       0.74      0.73      0.73       336\n",
      "    weighted avg       0.74      0.73      0.73       336\n",
      "\n",
      "New best model saved with F1-score 0.7656 at epoch 90\n",
      "Best Classification Report at Epoch 90:\n",
      "                  precision    recall  f1-score   support\n",
      "\n",
      "    infringement       0.77      0.62      0.69       160\n",
      "non_infringement       0.71      0.84      0.77       176\n",
      "\n",
      "        accuracy                           0.73       336\n",
      "       macro avg       0.74      0.73      0.73       336\n",
      "    weighted avg       0.74      0.73      0.73       336\n",
      "\n"
     ]
    },
    {
     "name": "stderr",
     "output_type": "stream",
     "text": [
      "Training Epochs:   4%|▍         | 103/2500 [00:02<00:58, 40.76it/s]"
     ]
    },
    {
     "name": "stdout",
     "output_type": "stream",
     "text": [
      "Epoch 100/2500, Loss: 0.2032\n",
      "Test Accuracy at Epoch 100: 74.40%\n",
      "Test F1-score at Epoch 100: 0.7839\n",
      "Classification Report at Epoch 100:\n",
      "                  precision    recall  f1-score   support\n",
      "\n",
      "    infringement       0.82      0.59      0.69       160\n",
      "non_infringement       0.70      0.89      0.78       176\n",
      "\n",
      "        accuracy                           0.74       336\n",
      "       macro avg       0.76      0.74      0.74       336\n",
      "    weighted avg       0.76      0.74      0.74       336\n",
      "\n",
      "New best model saved with F1-score 0.7839 at epoch 100\n",
      "Best Classification Report at Epoch 100:\n",
      "                  precision    recall  f1-score   support\n",
      "\n",
      "    infringement       0.82      0.59      0.69       160\n",
      "non_infringement       0.70      0.89      0.78       176\n",
      "\n",
      "        accuracy                           0.74       336\n",
      "       macro avg       0.76      0.74      0.74       336\n",
      "    weighted avg       0.76      0.74      0.74       336\n",
      "\n"
     ]
    },
    {
     "name": "stderr",
     "output_type": "stream",
     "text": [
      "Training Epochs:   5%|▍         | 115/2500 [00:02<00:53, 44.44it/s]"
     ]
    },
    {
     "name": "stdout",
     "output_type": "stream",
     "text": [
      "Epoch 110/2500, Loss: 0.1870\n",
      "Test Accuracy at Epoch 110: 71.43%\n",
      "Test F1-score at Epoch 110: 0.7348\n",
      "Classification Report at Epoch 110:\n",
      "                  precision    recall  f1-score   support\n",
      "\n",
      "    infringement       0.71      0.67      0.69       160\n",
      "non_infringement       0.72      0.76      0.73       176\n",
      "\n",
      "        accuracy                           0.71       336\n",
      "       macro avg       0.71      0.71      0.71       336\n",
      "    weighted avg       0.71      0.71      0.71       336\n",
      "\n",
      "Epoch 120/2500, Loss: 0.1695\n",
      "Test Accuracy at Epoch 120: 74.40%\n",
      "Test F1-score at Epoch 120: 0.7701\n",
      "Classification Report at Epoch 120:\n",
      "                  precision    recall  f1-score   support\n",
      "\n",
      "    infringement       0.77      0.66      0.71       160\n",
      "non_infringement       0.73      0.82      0.77       176\n",
      "\n",
      "        accuracy                           0.74       336\n",
      "       macro avg       0.75      0.74      0.74       336\n",
      "    weighted avg       0.75      0.74      0.74       336\n",
      "\n"
     ]
    },
    {
     "name": "stderr",
     "output_type": "stream",
     "text": [
      "Training Epochs:   5%|▌         | 134/2500 [00:03<00:52, 44.66it/s]"
     ]
    },
    {
     "name": "stdout",
     "output_type": "stream",
     "text": [
      "Epoch 130/2500, Loss: 0.1630\n",
      "Test Accuracy at Epoch 130: 74.70%\n",
      "Test F1-score at Epoch 130: 0.7859\n",
      "Classification Report at Epoch 130:\n",
      "                  precision    recall  f1-score   support\n",
      "\n",
      "    infringement       0.83      0.59      0.69       160\n",
      "non_infringement       0.71      0.89      0.79       176\n",
      "\n",
      "        accuracy                           0.75       336\n",
      "       macro avg       0.77      0.74      0.74       336\n",
      "    weighted avg       0.76      0.75      0.74       336\n",
      "\n",
      "New best model saved with F1-score 0.7859 at epoch 130\n",
      "Best Classification Report at Epoch 130:\n",
      "                  precision    recall  f1-score   support\n",
      "\n",
      "    infringement       0.83      0.59      0.69       160\n",
      "non_infringement       0.71      0.89      0.79       176\n",
      "\n",
      "        accuracy                           0.75       336\n",
      "       macro avg       0.77      0.74      0.74       336\n",
      "    weighted avg       0.76      0.75      0.74       336\n",
      "\n",
      "Epoch 140/2500, Loss: 0.1710\n",
      "Test Accuracy at Epoch 140: 75.00%\n",
      "Test F1-score at Epoch 140: 0.7868\n",
      "Classification Report at Epoch 140:\n",
      "                  precision    recall  f1-score   support\n",
      "\n",
      "    infringement       0.82      0.61      0.70       160\n",
      "non_infringement       0.71      0.88      0.79       176\n",
      "\n",
      "        accuracy                           0.75       336\n",
      "       macro avg       0.77      0.74      0.74       336\n",
      "    weighted avg       0.76      0.75      0.74       336\n",
      "\n"
     ]
    },
    {
     "name": "stderr",
     "output_type": "stream",
     "text": [
      "Training Epochs:   6%|▌         | 147/2500 [00:03<00:44, 52.31it/s]"
     ]
    },
    {
     "name": "stdout",
     "output_type": "stream",
     "text": [
      "New best model saved with F1-score 0.7868 at epoch 140\n",
      "Best Classification Report at Epoch 140:\n",
      "                  precision    recall  f1-score   support\n",
      "\n",
      "    infringement       0.82      0.61      0.70       160\n",
      "non_infringement       0.71      0.88      0.79       176\n",
      "\n",
      "        accuracy                           0.75       336\n",
      "       macro avg       0.77      0.74      0.74       336\n",
      "    weighted avg       0.76      0.75      0.74       336\n",
      "\n"
     ]
    },
    {
     "name": "stderr",
     "output_type": "stream",
     "text": [
      "Training Epochs:   6%|▋         | 160/2500 [00:03<00:46, 49.89it/s]"
     ]
    },
    {
     "name": "stdout",
     "output_type": "stream",
     "text": [
      "Epoch 150/2500, Loss: 0.1389\n",
      "Test Accuracy at Epoch 150: 71.73%\n",
      "Test F1-score at Epoch 150: 0.7493\n",
      "Classification Report at Epoch 150:\n",
      "                  precision    recall  f1-score   support\n",
      "\n",
      "    infringement       0.74      0.62      0.68       160\n",
      "non_infringement       0.70      0.81      0.75       176\n",
      "\n",
      "        accuracy                           0.72       336\n",
      "       macro avg       0.72      0.71      0.71       336\n",
      "    weighted avg       0.72      0.72      0.71       336\n",
      "\n",
      "Epoch 160/2500, Loss: 0.1345\n",
      "Test Accuracy at Epoch 160: 73.51%\n",
      "Test F1-score at Epoch 160: 0.7712\n",
      "Classification Report at Epoch 160:\n",
      "                  precision    recall  f1-score   support\n",
      "\n",
      "    infringement       0.79      0.61      0.69       160\n",
      "non_infringement       0.70      0.85      0.77       176\n",
      "\n",
      "        accuracy                           0.74       336\n",
      "       macro avg       0.75      0.73      0.73       336\n",
      "    weighted avg       0.74      0.74      0.73       336\n",
      "\n"
     ]
    },
    {
     "name": "stderr",
     "output_type": "stream",
     "text": [
      "Training Epochs:   7%|▋         | 173/2500 [00:04<00:49, 46.79it/s]"
     ]
    },
    {
     "name": "stdout",
     "output_type": "stream",
     "text": [
      "Epoch 170/2500, Loss: 0.1490\n",
      "Test Accuracy at Epoch 170: 68.45%\n",
      "Test F1-score at Epoch 170: 0.7006\n",
      "Classification Report at Epoch 170:\n",
      "                  precision    recall  f1-score   support\n",
      "\n",
      "    infringement       0.67      0.66      0.67       160\n",
      "non_infringement       0.70      0.70      0.70       176\n",
      "\n",
      "        accuracy                           0.68       336\n",
      "       macro avg       0.68      0.68      0.68       336\n",
      "    weighted avg       0.68      0.68      0.68       336\n",
      "\n"
     ]
    },
    {
     "name": "stderr",
     "output_type": "stream",
     "text": [
      "Training Epochs:   7%|▋         | 183/2500 [00:04<00:57, 40.06it/s]"
     ]
    },
    {
     "name": "stdout",
     "output_type": "stream",
     "text": [
      "Epoch 180/2500, Loss: 0.1513\n",
      "Test Accuracy at Epoch 180: 73.21%\n",
      "Test F1-score at Epoch 180: 0.7761\n",
      "Classification Report at Epoch 180:\n",
      "                  precision    recall  f1-score   support\n",
      "\n",
      "    infringement       0.82      0.56      0.67       160\n",
      "non_infringement       0.69      0.89      0.78       176\n",
      "\n",
      "        accuracy                           0.73       336\n",
      "       macro avg       0.75      0.72      0.72       336\n",
      "    weighted avg       0.75      0.73      0.72       336\n",
      "\n"
     ]
    },
    {
     "name": "stderr",
     "output_type": "stream",
     "text": [
      "Training Epochs:   8%|▊         | 197/2500 [00:04<00:46, 49.02it/s]"
     ]
    },
    {
     "name": "stdout",
     "output_type": "stream",
     "text": [
      "Epoch 190/2500, Loss: 0.1111\n",
      "Test Accuracy at Epoch 190: 72.62%\n",
      "Test F1-score at Epoch 190: 0.7629\n",
      "Classification Report at Epoch 190:\n",
      "                  precision    recall  f1-score   support\n",
      "\n",
      "    infringement       0.77      0.60      0.68       160\n",
      "non_infringement       0.70      0.84      0.76       176\n",
      "\n",
      "        accuracy                           0.73       336\n",
      "       macro avg       0.74      0.72      0.72       336\n",
      "    weighted avg       0.73      0.73      0.72       336\n",
      "\n",
      "Epoch 200/2500, Loss: 0.1780\n",
      "Test Accuracy at Epoch 200: 68.75%\n",
      "Test F1-score at Epoch 200: 0.7042\n",
      "Classification Report at Epoch 200:\n",
      "                  precision    recall  f1-score   support\n",
      "\n",
      "    infringement       0.68      0.66      0.67       160\n",
      "non_infringement       0.70      0.71      0.70       176\n",
      "\n",
      "        accuracy                           0.69       336\n",
      "       macro avg       0.69      0.69      0.69       336\n",
      "    weighted avg       0.69      0.69      0.69       336\n",
      "\n"
     ]
    },
    {
     "name": "stderr",
     "output_type": "stream",
     "text": [
      "Training Epochs:   9%|▊         | 215/2500 [00:05<00:47, 47.99it/s]"
     ]
    },
    {
     "name": "stdout",
     "output_type": "stream",
     "text": [
      "Epoch 210/2500, Loss: 0.1084\n",
      "Test Accuracy at Epoch 210: 73.51%\n",
      "Test F1-score at Epoch 210: 0.7724\n",
      "Classification Report at Epoch 210:\n",
      "                  precision    recall  f1-score   support\n",
      "\n",
      "    infringement       0.79      0.60      0.68       160\n",
      "non_infringement       0.70      0.86      0.77       176\n",
      "\n",
      "        accuracy                           0.74       336\n",
      "       macro avg       0.75      0.73      0.73       336\n",
      "    weighted avg       0.75      0.74      0.73       336\n",
      "\n",
      "Epoch 220/2500, Loss: 0.1041\n",
      "Test Accuracy at Epoch 220: 68.45%\n",
      "Test F1-score at Epoch 220: 0.7135\n"
     ]
    },
    {
     "name": "stderr",
     "output_type": "stream",
     "text": [
      "Training Epochs:   9%|▉         | 225/2500 [00:05<00:53, 42.26it/s]"
     ]
    },
    {
     "name": "stdout",
     "output_type": "stream",
     "text": [
      "Classification Report at Epoch 220:\n",
      "                  precision    recall  f1-score   support\n",
      "\n",
      "    infringement       0.69      0.61      0.65       160\n",
      "non_infringement       0.68      0.75      0.71       176\n",
      "\n",
      "        accuracy                           0.68       336\n",
      "       macro avg       0.69      0.68      0.68       336\n",
      "    weighted avg       0.69      0.68      0.68       336\n",
      "\n"
     ]
    },
    {
     "name": "stderr",
     "output_type": "stream",
     "text": [
      "Training Epochs:   9%|▉         | 235/2500 [00:05<00:52, 43.23it/s]"
     ]
    },
    {
     "name": "stdout",
     "output_type": "stream",
     "text": [
      "Epoch 230/2500, Loss: 0.0996\n",
      "Test Accuracy at Epoch 230: 72.32%\n",
      "Test F1-score at Epoch 230: 0.7609\n",
      "Classification Report at Epoch 230:\n",
      "                  precision    recall  f1-score   support\n",
      "\n",
      "    infringement       0.77      0.59      0.67       160\n",
      "non_infringement       0.69      0.84      0.76       176\n",
      "\n",
      "        accuracy                           0.72       336\n",
      "       macro avg       0.73      0.72      0.72       336\n",
      "    weighted avg       0.73      0.72      0.72       336\n",
      "\n"
     ]
    },
    {
     "name": "stderr",
     "output_type": "stream",
     "text": [
      "Training Epochs:  10%|▉         | 245/2500 [00:05<01:00, 37.49it/s]"
     ]
    },
    {
     "name": "stdout",
     "output_type": "stream",
     "text": [
      "Epoch 240/2500, Loss: 0.0936\n",
      "Test Accuracy at Epoch 240: 68.75%\n",
      "Test F1-score at Epoch 240: 0.7185\n",
      "Classification Report at Epoch 240:\n",
      "                  precision    recall  f1-score   support\n",
      "\n",
      "    infringement       0.70      0.61      0.65       160\n",
      "non_infringement       0.68      0.76      0.72       176\n",
      "\n",
      "        accuracy                           0.69       336\n",
      "       macro avg       0.69      0.68      0.68       336\n",
      "    weighted avg       0.69      0.69      0.69       336\n",
      "\n"
     ]
    },
    {
     "name": "stderr",
     "output_type": "stream",
     "text": [
      "Training Epochs:  10%|█         | 256/2500 [00:06<00:55, 40.45it/s]"
     ]
    },
    {
     "name": "stdout",
     "output_type": "stream",
     "text": [
      "Epoch 250/2500, Loss: 0.0919\n",
      "Test Accuracy at Epoch 250: 71.13%\n",
      "Test F1-score at Epoch 250: 0.7454\n",
      "Classification Report at Epoch 250:\n",
      "                  precision    recall  f1-score   support\n",
      "\n",
      "    infringement       0.74      0.61      0.67       160\n",
      "non_infringement       0.69      0.81      0.75       176\n",
      "\n",
      "        accuracy                           0.71       336\n",
      "       macro avg       0.72      0.71      0.71       336\n",
      "    weighted avg       0.72      0.71      0.71       336\n",
      "\n"
     ]
    },
    {
     "name": "stderr",
     "output_type": "stream",
     "text": [
      "Training Epochs:  11%|█         | 270/2500 [00:06<00:42, 51.98it/s]"
     ]
    },
    {
     "name": "stdout",
     "output_type": "stream",
     "text": [
      "Epoch 260/2500, Loss: 0.0882\n",
      "Test Accuracy at Epoch 260: 70.83%\n",
      "Test F1-score at Epoch 260: 0.7435\n",
      "Classification Report at Epoch 260:\n",
      "                  precision    recall  f1-score   support\n",
      "\n",
      "    infringement       0.74      0.60      0.66       160\n",
      "non_infringement       0.69      0.81      0.74       176\n",
      "\n",
      "        accuracy                           0.71       336\n",
      "       macro avg       0.71      0.70      0.70       336\n",
      "    weighted avg       0.71      0.71      0.70       336\n",
      "\n",
      "Epoch 270/2500, Loss: 0.0861\n",
      "Test Accuracy at Epoch 270: 70.54%\n",
      "Test F1-score at Epoch 270: 0.7415\n",
      "Classification Report at Epoch 270:\n",
      "                  precision    recall  f1-score   support\n",
      "\n",
      "    infringement       0.74      0.59      0.66       160\n",
      "non_infringement       0.69      0.81      0.74       176\n",
      "\n",
      "        accuracy                           0.71       336\n",
      "       macro avg       0.71      0.70      0.70       336\n",
      "    weighted avg       0.71      0.71      0.70       336\n",
      "\n"
     ]
    },
    {
     "name": "stderr",
     "output_type": "stream",
     "text": [
      "Training Epochs:  12%|█▏        | 290/2500 [00:06<00:38, 57.26it/s]"
     ]
    },
    {
     "name": "stdout",
     "output_type": "stream",
     "text": [
      "Epoch 280/2500, Loss: 0.0843\n",
      "Test Accuracy at Epoch 280: 69.05%\n",
      "Test F1-score at Epoch 280: 0.7234\n",
      "Classification Report at Epoch 280:\n",
      "                  precision    recall  f1-score   support\n",
      "\n",
      "    infringement       0.71      0.60      0.65       160\n",
      "non_infringement       0.68      0.77      0.72       176\n",
      "\n",
      "        accuracy                           0.69       336\n",
      "       macro avg       0.69      0.69      0.69       336\n",
      "    weighted avg       0.69      0.69      0.69       336\n",
      "\n",
      "Epoch 290/2500, Loss: 0.0826\n",
      "Test Accuracy at Epoch 290: 70.24%\n",
      "Test F1-score at Epoch 290: 0.7382\n",
      "Classification Report at Epoch 290:\n",
      "                  precision    recall  f1-score   support\n",
      "\n",
      "    infringement       0.73      0.59      0.66       160\n",
      "non_infringement       0.68      0.80      0.74       176\n",
      "\n",
      "        accuracy                           0.70       336\n",
      "       macro avg       0.71      0.70      0.70       336\n",
      "    weighted avg       0.71      0.70      0.70       336\n",
      "\n"
     ]
    },
    {
     "name": "stderr",
     "output_type": "stream",
     "text": [
      "Training Epochs:  12%|█▏        | 310/2500 [00:07<00:40, 54.28it/s]"
     ]
    },
    {
     "name": "stdout",
     "output_type": "stream",
     "text": [
      "Epoch 300/2500, Loss: 0.0852\n",
      "Test Accuracy at Epoch 300: 73.51%\n",
      "Test F1-score at Epoch 300: 0.7676\n",
      "Classification Report at Epoch 300:\n",
      "                  precision    recall  f1-score   support\n",
      "\n",
      "    infringement       0.78      0.62      0.69       160\n",
      "non_infringement       0.71      0.84      0.77       176\n",
      "\n",
      "        accuracy                           0.74       336\n",
      "       macro avg       0.74      0.73      0.73       336\n",
      "    weighted avg       0.74      0.74      0.73       336\n",
      "\n",
      "Epoch 310/2500, Loss: 0.0952\n",
      "Test Accuracy at Epoch 310: 68.75%\n",
      "Test F1-score at Epoch 310: 0.7059\n",
      "Classification Report at Epoch 310:\n",
      "                  precision    recall  f1-score   support\n",
      "\n",
      "    infringement       0.68      0.66      0.67       160\n",
      "non_infringement       0.70      0.72      0.71       176\n",
      "\n",
      "        accuracy                           0.69       336\n",
      "       macro avg       0.69      0.69      0.69       336\n",
      "    weighted avg       0.69      0.69      0.69       336\n",
      "\n"
     ]
    },
    {
     "name": "stderr",
     "output_type": "stream",
     "text": [
      "Training Epochs:  13%|█▎        | 325/2500 [00:07<00:48, 45.08it/s]"
     ]
    },
    {
     "name": "stdout",
     "output_type": "stream",
     "text": [
      "Epoch 320/2500, Loss: 0.9649\n",
      "Test Accuracy at Epoch 320: 72.92%\n",
      "Test F1-score at Epoch 320: 0.7560\n",
      "Classification Report at Epoch 320:\n",
      "                  precision    recall  f1-score   support\n",
      "\n",
      "    infringement       0.75      0.65      0.70       160\n",
      "non_infringement       0.72      0.80      0.76       176\n",
      "\n",
      "        accuracy                           0.73       336\n",
      "       macro avg       0.73      0.73      0.73       336\n",
      "    weighted avg       0.73      0.73      0.73       336\n",
      "\n"
     ]
    },
    {
     "name": "stderr",
     "output_type": "stream",
     "text": [
      "Training Epochs:  13%|█▎        | 337/2500 [00:07<00:45, 47.55it/s]"
     ]
    },
    {
     "name": "stdout",
     "output_type": "stream",
     "text": [
      "Epoch 330/2500, Loss: 0.3942\n",
      "Test Accuracy at Epoch 330: 76.19%\n",
      "Test F1-score at Epoch 330: 0.7938\n",
      "Classification Report at Epoch 330:\n",
      "                  precision    recall  f1-score   support\n",
      "\n",
      "    infringement       0.82      0.64      0.72       160\n",
      "non_infringement       0.73      0.88      0.79       176\n",
      "\n",
      "        accuracy                           0.76       336\n",
      "       macro avg       0.77      0.76      0.76       336\n",
      "    weighted avg       0.77      0.76      0.76       336\n",
      "\n",
      "New best model saved with F1-score 0.7938 at epoch 330\n",
      "Best Classification Report at Epoch 330:\n",
      "                  precision    recall  f1-score   support\n",
      "\n",
      "    infringement       0.82      0.64      0.72       160\n",
      "non_infringement       0.73      0.88      0.79       176\n",
      "\n",
      "        accuracy                           0.76       336\n",
      "       macro avg       0.77      0.76      0.76       336\n",
      "    weighted avg       0.77      0.76      0.76       336\n",
      "\n"
     ]
    },
    {
     "name": "stderr",
     "output_type": "stream",
     "text": [
      "Training Epochs:  14%|█▍        | 350/2500 [00:07<00:40, 53.44it/s]"
     ]
    },
    {
     "name": "stdout",
     "output_type": "stream",
     "text": [
      "Epoch 340/2500, Loss: 0.1585\n",
      "Test Accuracy at Epoch 340: 72.02%\n",
      "Test F1-score at Epoch 340: 0.7500\n",
      "Classification Report at Epoch 340:\n",
      "                  precision    recall  f1-score   support\n",
      "\n",
      "    infringement       0.74      0.63      0.68       160\n",
      "non_infringement       0.70      0.80      0.75       176\n",
      "\n",
      "        accuracy                           0.72       336\n",
      "       macro avg       0.72      0.72      0.72       336\n",
      "    weighted avg       0.72      0.72      0.72       336\n",
      "\n",
      "Epoch 350/2500, Loss: 0.1302\n",
      "Test Accuracy at Epoch 350: 73.51%\n",
      "Test F1-score at Epoch 350: 0.7664\n",
      "Classification Report at Epoch 350:\n",
      "                  precision    recall  f1-score   support\n",
      "\n",
      "    infringement       0.77      0.63      0.69       160\n",
      "non_infringement       0.71      0.83      0.77       176\n",
      "\n",
      "        accuracy                           0.74       336\n",
      "       macro avg       0.74      0.73      0.73       336\n",
      "    weighted avg       0.74      0.74      0.73       336\n",
      "\n"
     ]
    },
    {
     "name": "stderr",
     "output_type": "stream",
     "text": [
      "Training Epochs:  15%|█▍        | 372/2500 [00:08<00:37, 56.11it/s]"
     ]
    },
    {
     "name": "stdout",
     "output_type": "stream",
     "text": [
      "Epoch 360/2500, Loss: 0.1122\n",
      "Test Accuracy at Epoch 360: 75.00%\n",
      "Test F1-score at Epoch 360: 0.7812\n",
      "Classification Report at Epoch 360:\n",
      "                  precision    recall  f1-score   support\n",
      "\n",
      "    infringement       0.80      0.64      0.71       160\n",
      "non_infringement       0.72      0.85      0.78       176\n",
      "\n",
      "        accuracy                           0.75       336\n",
      "       macro avg       0.76      0.74      0.74       336\n",
      "    weighted avg       0.76      0.75      0.75       336\n",
      "\n",
      "Epoch 370/2500, Loss: 0.1032\n",
      "Test Accuracy at Epoch 370: 72.92%\n",
      "Test F1-score at Epoch 370: 0.7586\n",
      "Classification Report at Epoch 370:\n",
      "                  precision    recall  f1-score   support\n",
      "\n",
      "    infringement       0.76      0.64      0.69       160\n",
      "non_infringement       0.71      0.81      0.76       176\n",
      "\n",
      "        accuracy                           0.73       336\n",
      "       macro avg       0.73      0.72      0.73       336\n",
      "    weighted avg       0.73      0.73      0.73       336\n",
      "\n"
     ]
    },
    {
     "name": "stderr",
     "output_type": "stream",
     "text": [
      "Training Epochs:  15%|█▌        | 387/2500 [00:08<00:37, 55.61it/s]"
     ]
    },
    {
     "name": "stdout",
     "output_type": "stream",
     "text": [
      "Epoch 380/2500, Loss: 0.0989\n",
      "Test Accuracy at Epoch 380: 72.02%\n",
      "Test F1-score at Epoch 380: 0.7500\n",
      "Classification Report at Epoch 380:\n",
      "                  precision    recall  f1-score   support\n",
      "\n",
      "    infringement       0.74      0.63      0.68       160\n",
      "non_infringement       0.70      0.80      0.75       176\n",
      "\n",
      "        accuracy                           0.72       336\n",
      "       macro avg       0.72      0.72      0.72       336\n",
      "    weighted avg       0.72      0.72      0.72       336\n",
      "\n"
     ]
    },
    {
     "name": "stderr",
     "output_type": "stream",
     "text": [
      "Training Epochs:  16%|█▌        | 401/2500 [00:08<00:35, 59.79it/s]"
     ]
    },
    {
     "name": "stdout",
     "output_type": "stream",
     "text": [
      "Epoch 390/2500, Loss: 0.0961\n",
      "Test Accuracy at Epoch 390: 72.62%\n",
      "Test F1-score at Epoch 390: 0.7566\n",
      "Classification Report at Epoch 390:\n",
      "                  precision    recall  f1-score   support\n",
      "\n",
      "    infringement       0.75      0.63      0.69       160\n",
      "non_infringement       0.71      0.81      0.76       176\n",
      "\n",
      "        accuracy                           0.73       336\n",
      "       macro avg       0.73      0.72      0.72       336\n",
      "    weighted avg       0.73      0.73      0.72       336\n",
      "\n",
      "Epoch 400/2500, Loss: 0.0941\n",
      "Test Accuracy at Epoch 400: 71.73%\n",
      "Test F1-score at Epoch 400: 0.7480\n",
      "Classification Report at Epoch 400:\n",
      "                  precision    recall  f1-score   support\n",
      "\n",
      "    infringement       0.74      0.62      0.68       160\n",
      "non_infringement       0.70      0.80      0.75       176\n",
      "\n",
      "        accuracy                           0.72       336\n",
      "       macro avg       0.72      0.71      0.71       336\n",
      "    weighted avg       0.72      0.72      0.71       336\n",
      "\n"
     ]
    },
    {
     "name": "stderr",
     "output_type": "stream",
     "text": [
      "Training Epochs:  17%|█▋        | 415/2500 [00:08<00:35, 58.05it/s]"
     ]
    },
    {
     "name": "stdout",
     "output_type": "stream",
     "text": [
      "Epoch 410/2500, Loss: 0.0926\n",
      "Test Accuracy at Epoch 410: 72.02%\n",
      "Test F1-score at Epoch 410: 0.7500\n",
      "Classification Report at Epoch 410:\n",
      "                  precision    recall  f1-score   support\n",
      "\n",
      "    infringement       0.74      0.63      0.68       160\n",
      "non_infringement       0.70      0.80      0.75       176\n",
      "\n",
      "        accuracy                           0.72       336\n",
      "       macro avg       0.72      0.72      0.72       336\n",
      "    weighted avg       0.72      0.72      0.72       336\n",
      "\n",
      "Epoch 420/2500, Loss: 0.0912\n",
      "Test Accuracy at Epoch 420: 71.73%\n",
      "Test F1-score at Epoch 420: 0.7480\n",
      "Classification Report at Epoch 420:\n",
      "                  precision    recall  f1-score   support\n",
      "\n",
      "    infringement       0.74      0.62      0.68       160\n",
      "non_infringement       0.70      0.80      0.75       176\n",
      "\n",
      "        accuracy                           0.72       336\n",
      "       macro avg       0.72      0.71      0.71       336\n",
      "    weighted avg       0.72      0.72      0.71       336\n",
      "\n"
     ]
    },
    {
     "name": "stderr",
     "output_type": "stream",
     "text": [
      "Training Epochs:  17%|█▋        | 434/2500 [00:09<00:43, 47.22it/s]"
     ]
    },
    {
     "name": "stdout",
     "output_type": "stream",
     "text": [
      "Epoch 430/2500, Loss: 0.0899\n",
      "Test Accuracy at Epoch 430: 71.73%\n",
      "Test F1-score at Epoch 430: 0.7480\n",
      "Classification Report at Epoch 430:\n",
      "                  precision    recall  f1-score   support\n",
      "\n",
      "    infringement       0.74      0.62      0.68       160\n",
      "non_infringement       0.70      0.80      0.75       176\n",
      "\n",
      "        accuracy                           0.72       336\n",
      "       macro avg       0.72      0.71      0.71       336\n",
      "    weighted avg       0.72      0.72      0.71       336\n",
      "\n",
      "Epoch 440/2500, Loss: 0.0887\n",
      "Test Accuracy at Epoch 440: 72.02%\n",
      "Test F1-score at Epoch 440: 0.7500\n",
      "Classification Report at Epoch 440:\n",
      "                  precision    recall  f1-score   support\n",
      "\n",
      "    infringement       0.74      0.63      0.68       160\n",
      "non_infringement       0.70      0.80      0.75       176\n",
      "\n",
      "        accuracy                           0.72       336\n",
      "       macro avg       0.72      0.72      0.72       336\n",
      "    weighted avg       0.72      0.72      0.72       336\n",
      "\n"
     ]
    },
    {
     "name": "stderr",
     "output_type": "stream",
     "text": [
      "Training Epochs:  18%|█▊        | 460/2500 [00:09<00:38, 52.54it/s]"
     ]
    },
    {
     "name": "stdout",
     "output_type": "stream",
     "text": [
      "Epoch 450/2500, Loss: 0.0875\n",
      "Test Accuracy at Epoch 450: 72.02%\n",
      "Test F1-score at Epoch 450: 0.7500\n",
      "Classification Report at Epoch 450:\n",
      "                  precision    recall  f1-score   support\n",
      "\n",
      "    infringement       0.74      0.63      0.68       160\n",
      "non_infringement       0.70      0.80      0.75       176\n",
      "\n",
      "        accuracy                           0.72       336\n",
      "       macro avg       0.72      0.72      0.72       336\n",
      "    weighted avg       0.72      0.72      0.72       336\n",
      "\n",
      "Epoch 460/2500, Loss: 0.0865\n",
      "Test Accuracy at Epoch 460: 71.73%\n",
      "Test F1-score at Epoch 460: 0.7480\n",
      "Classification Report at Epoch 460:\n",
      "                  precision    recall  f1-score   support\n",
      "\n",
      "    infringement       0.74      0.62      0.68       160\n",
      "non_infringement       0.70      0.80      0.75       176\n",
      "\n",
      "        accuracy                           0.72       336\n",
      "       macro avg       0.72      0.71      0.71       336\n",
      "    weighted avg       0.72      0.72      0.71       336\n",
      "\n"
     ]
    },
    {
     "name": "stderr",
     "output_type": "stream",
     "text": [
      "Training Epochs:  19%|█▉        | 480/2500 [00:10<00:35, 56.64it/s]"
     ]
    },
    {
     "name": "stdout",
     "output_type": "stream",
     "text": [
      "Epoch 470/2500, Loss: 0.0855\n",
      "Test Accuracy at Epoch 470: 71.73%\n",
      "Test F1-score at Epoch 470: 0.7480\n",
      "Classification Report at Epoch 470:\n",
      "                  precision    recall  f1-score   support\n",
      "\n",
      "    infringement       0.74      0.62      0.68       160\n",
      "non_infringement       0.70      0.80      0.75       176\n",
      "\n",
      "        accuracy                           0.72       336\n",
      "       macro avg       0.72      0.71      0.71       336\n",
      "    weighted avg       0.72      0.72      0.71       336\n",
      "\n",
      "Epoch 480/2500, Loss: 0.0846\n",
      "Test Accuracy at Epoch 480: 71.13%\n",
      "Test F1-score at Epoch 480: 0.7441\n",
      "Classification Report at Epoch 480:\n",
      "                  precision    recall  f1-score   support\n",
      "\n",
      "    infringement       0.74      0.61      0.67       160\n",
      "non_infringement       0.69      0.80      0.74       176\n",
      "\n",
      "        accuracy                           0.71       336\n",
      "       macro avg       0.72      0.71      0.71       336\n",
      "    weighted avg       0.71      0.71      0.71       336\n",
      "\n"
     ]
    },
    {
     "name": "stderr",
     "output_type": "stream",
     "text": [
      "Training Epochs:  20%|██        | 502/2500 [00:10<00:34, 57.24it/s]"
     ]
    },
    {
     "name": "stdout",
     "output_type": "stream",
     "text": [
      "Epoch 490/2500, Loss: 0.0837\n",
      "Test Accuracy at Epoch 490: 71.13%\n",
      "Test F1-score at Epoch 490: 0.7441\n",
      "Classification Report at Epoch 490:\n",
      "                  precision    recall  f1-score   support\n",
      "\n",
      "    infringement       0.74      0.61      0.67       160\n",
      "non_infringement       0.69      0.80      0.74       176\n",
      "\n",
      "        accuracy                           0.71       336\n",
      "       macro avg       0.72      0.71      0.71       336\n",
      "    weighted avg       0.71      0.71      0.71       336\n",
      "\n",
      "Epoch 500/2500, Loss: 0.0830\n",
      "Test Accuracy at Epoch 500: 71.43%\n",
      "Test F1-score at Epoch 500: 0.7460\n",
      "Classification Report at Epoch 500:\n",
      "                  precision    recall  f1-score   support\n",
      "\n",
      "    infringement       0.74      0.62      0.67       160\n",
      "non_infringement       0.70      0.80      0.75       176\n",
      "\n",
      "        accuracy                           0.71       336\n",
      "       macro avg       0.72      0.71      0.71       336\n",
      "    weighted avg       0.72      0.71      0.71       336\n",
      "\n"
     ]
    },
    {
     "name": "stderr",
     "output_type": "stream",
     "text": [
      "Training Epochs:  21%|██        | 517/2500 [00:10<00:36, 54.74it/s]"
     ]
    },
    {
     "name": "stdout",
     "output_type": "stream",
     "text": [
      "Epoch 510/2500, Loss: 0.0822\n",
      "Test Accuracy at Epoch 510: 71.43%\n",
      "Test F1-score at Epoch 510: 0.7460\n",
      "Classification Report at Epoch 510:\n",
      "                  precision    recall  f1-score   support\n",
      "\n",
      "    infringement       0.74      0.62      0.67       160\n",
      "non_infringement       0.70      0.80      0.75       176\n",
      "\n",
      "        accuracy                           0.71       336\n",
      "       macro avg       0.72      0.71      0.71       336\n",
      "    weighted avg       0.72      0.71      0.71       336\n",
      "\n"
     ]
    },
    {
     "name": "stderr",
     "output_type": "stream",
     "text": [
      "Training Epochs:  21%|██▏       | 533/2500 [00:11<00:31, 62.77it/s]"
     ]
    },
    {
     "name": "stdout",
     "output_type": "stream",
     "text": [
      "Epoch 520/2500, Loss: 0.0815\n",
      "Test Accuracy at Epoch 520: 71.13%\n",
      "Test F1-score at Epoch 520: 0.7441\n",
      "Classification Report at Epoch 520:\n",
      "                  precision    recall  f1-score   support\n",
      "\n",
      "    infringement       0.74      0.61      0.67       160\n",
      "non_infringement       0.69      0.80      0.74       176\n",
      "\n",
      "        accuracy                           0.71       336\n",
      "       macro avg       0.72      0.71      0.71       336\n",
      "    weighted avg       0.71      0.71      0.71       336\n",
      "\n",
      "Epoch 530/2500, Loss: 0.0809\n",
      "Test Accuracy at Epoch 530: 71.43%\n",
      "Test F1-score at Epoch 530: 0.7460\n",
      "Classification Report at Epoch 530:\n",
      "                  precision    recall  f1-score   support\n",
      "\n",
      "    infringement       0.74      0.62      0.67       160\n",
      "non_infringement       0.70      0.80      0.75       176\n",
      "\n",
      "        accuracy                           0.71       336\n",
      "       macro avg       0.72      0.71      0.71       336\n",
      "    weighted avg       0.72      0.71      0.71       336\n",
      "\n"
     ]
    },
    {
     "name": "stderr",
     "output_type": "stream",
     "text": [
      "Training Epochs:  22%|██▏       | 548/2500 [00:11<00:31, 62.28it/s]"
     ]
    },
    {
     "name": "stdout",
     "output_type": "stream",
     "text": [
      "Epoch 540/2500, Loss: 0.0803\n",
      "Test Accuracy at Epoch 540: 69.64%\n",
      "Test F1-score at Epoch 540: 0.7273\n",
      "Classification Report at Epoch 540:\n",
      "                  precision    recall  f1-score   support\n",
      "\n",
      "    infringement       0.71      0.61      0.66       160\n",
      "non_infringement       0.69      0.77      0.73       176\n",
      "\n",
      "        accuracy                           0.70       336\n",
      "       macro avg       0.70      0.69      0.69       336\n",
      "    weighted avg       0.70      0.70      0.69       336\n",
      "\n",
      "Epoch 550/2500, Loss: 0.0797\n",
      "Test Accuracy at Epoch 550: 69.64%\n",
      "Test F1-score at Epoch 550: 0.7273\n",
      "Classification Report at Epoch 550:\n",
      "                  precision    recall  f1-score   support\n",
      "\n",
      "    infringement       0.71      0.61      0.66       160\n",
      "non_infringement       0.69      0.77      0.73       176\n",
      "\n",
      "        accuracy                           0.70       336\n",
      "       macro avg       0.70      0.69      0.69       336\n",
      "    weighted avg       0.70      0.70      0.69       336\n",
      "\n"
     ]
    },
    {
     "name": "stderr",
     "output_type": "stream",
     "text": [
      "Training Epochs:  23%|██▎       | 563/2500 [00:11<00:33, 57.63it/s]"
     ]
    },
    {
     "name": "stdout",
     "output_type": "stream",
     "text": [
      "Epoch 560/2500, Loss: 0.0792\n",
      "Test Accuracy at Epoch 560: 69.94%\n",
      "Test F1-score at Epoch 560: 0.7292\n",
      "Classification Report at Epoch 560:\n",
      "                  precision    recall  f1-score   support\n",
      "\n",
      "    infringement       0.71      0.62      0.66       160\n",
      "non_infringement       0.69      0.77      0.73       176\n",
      "\n",
      "        accuracy                           0.70       336\n",
      "       macro avg       0.70      0.70      0.70       336\n",
      "    weighted avg       0.70      0.70      0.70       336\n",
      "\n"
     ]
    },
    {
     "name": "stderr",
     "output_type": "stream",
     "text": [
      "Training Epochs:  23%|██▎       | 578/2500 [00:11<00:29, 64.20it/s]"
     ]
    },
    {
     "name": "stdout",
     "output_type": "stream",
     "text": [
      "Epoch 570/2500, Loss: 0.0787\n",
      "Test Accuracy at Epoch 570: 69.94%\n",
      "Test F1-score at Epoch 570: 0.7292\n",
      "Classification Report at Epoch 570:\n",
      "                  precision    recall  f1-score   support\n",
      "\n",
      "    infringement       0.71      0.62      0.66       160\n",
      "non_infringement       0.69      0.77      0.73       176\n",
      "\n",
      "        accuracy                           0.70       336\n",
      "       macro avg       0.70      0.70      0.70       336\n",
      "    weighted avg       0.70      0.70      0.70       336\n",
      "\n",
      "Epoch 580/2500, Loss: 0.0783\n",
      "Test Accuracy at Epoch 580: 69.64%\n",
      "Test F1-score at Epoch 580: 0.7273\n",
      "Classification Report at Epoch 580:\n",
      "                  precision    recall  f1-score   support\n",
      "\n",
      "    infringement       0.71      0.61      0.66       160\n",
      "non_infringement       0.69      0.77      0.73       176\n",
      "\n",
      "        accuracy                           0.70       336\n",
      "       macro avg       0.70      0.69      0.69       336\n",
      "    weighted avg       0.70      0.70      0.69       336\n",
      "\n"
     ]
    },
    {
     "name": "stderr",
     "output_type": "stream",
     "text": [
      "Training Epochs:  24%|██▍       | 600/2500 [00:12<00:32, 58.38it/s]"
     ]
    },
    {
     "name": "stdout",
     "output_type": "stream",
     "text": [
      "Epoch 590/2500, Loss: 0.0778\n",
      "Test Accuracy at Epoch 590: 69.94%\n",
      "Test F1-score at Epoch 590: 0.7292\n",
      "Classification Report at Epoch 590:\n",
      "                  precision    recall  f1-score   support\n",
      "\n",
      "    infringement       0.71      0.62      0.66       160\n",
      "non_infringement       0.69      0.77      0.73       176\n",
      "\n",
      "        accuracy                           0.70       336\n",
      "       macro avg       0.70      0.70      0.70       336\n",
      "    weighted avg       0.70      0.70      0.70       336\n",
      "\n",
      "Epoch 600/2500, Loss: 0.0774\n",
      "Test Accuracy at Epoch 600: 69.64%\n",
      "Test F1-score at Epoch 600: 0.7273\n",
      "Classification Report at Epoch 600:\n",
      "                  precision    recall  f1-score   support\n",
      "\n",
      "    infringement       0.71      0.61      0.66       160\n",
      "non_infringement       0.69      0.77      0.73       176\n",
      "\n",
      "        accuracy                           0.70       336\n",
      "       macro avg       0.70      0.69      0.69       336\n",
      "    weighted avg       0.70      0.70      0.69       336\n",
      "\n"
     ]
    },
    {
     "name": "stderr",
     "output_type": "stream",
     "text": [
      "Training Epochs:  25%|██▍       | 622/2500 [00:12<00:32, 57.36it/s]"
     ]
    },
    {
     "name": "stdout",
     "output_type": "stream",
     "text": [
      "Epoch 610/2500, Loss: 0.0770\n",
      "Test Accuracy at Epoch 610: 68.75%\n",
      "Test F1-score at Epoch 610: 0.7170\n",
      "Classification Report at Epoch 610:\n",
      "                  precision    recall  f1-score   support\n",
      "\n",
      "    infringement       0.70      0.61      0.65       160\n",
      "non_infringement       0.68      0.76      0.72       176\n",
      "\n",
      "        accuracy                           0.69       336\n",
      "       macro avg       0.69      0.68      0.68       336\n",
      "    weighted avg       0.69      0.69      0.69       336\n",
      "\n",
      "Epoch 620/2500, Loss: 0.0766\n",
      "Test Accuracy at Epoch 620: 69.05%\n",
      "Test F1-score at Epoch 620: 0.7189\n",
      "Classification Report at Epoch 620:\n",
      "                  precision    recall  f1-score   support\n",
      "\n",
      "    infringement       0.70      0.62      0.66       160\n",
      "non_infringement       0.69      0.76      0.72       176\n",
      "\n",
      "        accuracy                           0.69       336\n",
      "       macro avg       0.69      0.69      0.69       336\n",
      "    weighted avg       0.69      0.69      0.69       336\n",
      "\n"
     ]
    },
    {
     "name": "stderr",
     "output_type": "stream",
     "text": [
      "Training Epochs:  25%|██▌       | 637/2500 [00:12<00:34, 54.53it/s]"
     ]
    },
    {
     "name": "stdout",
     "output_type": "stream",
     "text": [
      "Epoch 630/2500, Loss: 0.0762\n",
      "Test Accuracy at Epoch 630: 68.75%\n",
      "Test F1-score at Epoch 630: 0.7170\n",
      "Classification Report at Epoch 630:\n",
      "                  precision    recall  f1-score   support\n",
      "\n",
      "    infringement       0.70      0.61      0.65       160\n",
      "non_infringement       0.68      0.76      0.72       176\n",
      "\n",
      "        accuracy                           0.69       336\n",
      "       macro avg       0.69      0.68      0.68       336\n",
      "    weighted avg       0.69      0.69      0.69       336\n",
      "\n"
     ]
    },
    {
     "name": "stderr",
     "output_type": "stream",
     "text": [
      "Training Epochs:  26%|██▌       | 651/2500 [00:13<00:31, 59.64it/s]"
     ]
    },
    {
     "name": "stdout",
     "output_type": "stream",
     "text": [
      "Epoch 640/2500, Loss: 0.0759\n",
      "Test Accuracy at Epoch 640: 68.75%\n",
      "Test F1-score at Epoch 640: 0.7170\n",
      "Classification Report at Epoch 640:\n",
      "                  precision    recall  f1-score   support\n",
      "\n",
      "    infringement       0.70      0.61      0.65       160\n",
      "non_infringement       0.68      0.76      0.72       176\n",
      "\n",
      "        accuracy                           0.69       336\n",
      "       macro avg       0.69      0.68      0.68       336\n",
      "    weighted avg       0.69      0.69      0.69       336\n",
      "\n",
      "Epoch 650/2500, Loss: 0.0756\n",
      "Test Accuracy at Epoch 650: 68.75%\n",
      "Test F1-score at Epoch 650: 0.7170\n",
      "Classification Report at Epoch 650:\n",
      "                  precision    recall  f1-score   support\n",
      "\n",
      "    infringement       0.70      0.61      0.65       160\n",
      "non_infringement       0.68      0.76      0.72       176\n",
      "\n",
      "        accuracy                           0.69       336\n",
      "       macro avg       0.69      0.68      0.68       336\n",
      "    weighted avg       0.69      0.69      0.69       336\n",
      "\n"
     ]
    },
    {
     "name": "stderr",
     "output_type": "stream",
     "text": [
      "Training Epochs:  27%|██▋       | 672/2500 [00:13<00:30, 60.31it/s]"
     ]
    },
    {
     "name": "stdout",
     "output_type": "stream",
     "text": [
      "Epoch 660/2500, Loss: 0.0753\n",
      "Test Accuracy at Epoch 660: 69.05%\n",
      "Test F1-score at Epoch 660: 0.7189\n",
      "Classification Report at Epoch 660:\n",
      "                  precision    recall  f1-score   support\n",
      "\n",
      "    infringement       0.70      0.62      0.66       160\n",
      "non_infringement       0.69      0.76      0.72       176\n",
      "\n",
      "        accuracy                           0.69       336\n",
      "       macro avg       0.69      0.69      0.69       336\n",
      "    weighted avg       0.69      0.69      0.69       336\n",
      "\n",
      "Epoch 670/2500, Loss: 0.0750\n",
      "Test Accuracy at Epoch 670: 69.05%\n",
      "Test F1-score at Epoch 670: 0.7189\n",
      "Classification Report at Epoch 670:\n",
      "                  precision    recall  f1-score   support\n",
      "\n",
      "    infringement       0.70      0.62      0.66       160\n",
      "non_infringement       0.69      0.76      0.72       176\n",
      "\n",
      "        accuracy                           0.69       336\n",
      "       macro avg       0.69      0.69      0.69       336\n",
      "    weighted avg       0.69      0.69      0.69       336\n",
      "\n"
     ]
    },
    {
     "name": "stderr",
     "output_type": "stream",
     "text": [
      "Training Epochs:  27%|██▋       | 686/2500 [00:13<00:31, 57.71it/s]"
     ]
    },
    {
     "name": "stdout",
     "output_type": "stream",
     "text": [
      "Epoch 680/2500, Loss: 0.0747\n",
      "Test Accuracy at Epoch 680: 69.05%\n",
      "Test F1-score at Epoch 680: 0.7189\n",
      "Classification Report at Epoch 680:\n",
      "                  precision    recall  f1-score   support\n",
      "\n",
      "    infringement       0.70      0.62      0.66       160\n",
      "non_infringement       0.69      0.76      0.72       176\n",
      "\n",
      "        accuracy                           0.69       336\n",
      "       macro avg       0.69      0.69      0.69       336\n",
      "    weighted avg       0.69      0.69      0.69       336\n",
      "\n",
      "Epoch 690/2500, Loss: 0.0744\n",
      "Test Accuracy at Epoch 690: 69.05%\n",
      "Test F1-score at Epoch 690: 0.7189\n",
      "Classification Report at Epoch 690:\n",
      "                  precision    recall  f1-score   support\n",
      "\n",
      "    infringement       0.70      0.62      0.66       160\n",
      "non_infringement       0.69      0.76      0.72       176\n",
      "\n",
      "        accuracy                           0.69       336\n",
      "       macro avg       0.69      0.69      0.69       336\n",
      "    weighted avg       0.69      0.69      0.69       336\n",
      "\n"
     ]
    },
    {
     "name": "stderr",
     "output_type": "stream",
     "text": [
      "Training Epochs:  28%|██▊       | 702/2500 [00:14<00:32, 55.54it/s]"
     ]
    },
    {
     "name": "stdout",
     "output_type": "stream",
     "text": [
      "Epoch 700/2500, Loss: 0.0742\n",
      "Test Accuracy at Epoch 700: 69.05%\n",
      "Test F1-score at Epoch 700: 0.7189\n",
      "Classification Report at Epoch 700:\n",
      "                  precision    recall  f1-score   support\n",
      "\n",
      "    infringement       0.70      0.62      0.66       160\n",
      "non_infringement       0.69      0.76      0.72       176\n",
      "\n",
      "        accuracy                           0.69       336\n",
      "       macro avg       0.69      0.69      0.69       336\n",
      "    weighted avg       0.69      0.69      0.69       336\n",
      "\n"
     ]
    },
    {
     "name": "stderr",
     "output_type": "stream",
     "text": [
      "Training Epochs:  29%|██▊       | 718/2500 [00:14<00:28, 62.65it/s]"
     ]
    },
    {
     "name": "stdout",
     "output_type": "stream",
     "text": [
      "Epoch 710/2500, Loss: 0.0739\n",
      "Test Accuracy at Epoch 710: 68.75%\n",
      "Test F1-score at Epoch 710: 0.7170\n",
      "Classification Report at Epoch 710:\n",
      "                  precision    recall  f1-score   support\n",
      "\n",
      "    infringement       0.70      0.61      0.65       160\n",
      "non_infringement       0.68      0.76      0.72       176\n",
      "\n",
      "        accuracy                           0.69       336\n",
      "       macro avg       0.69      0.68      0.68       336\n",
      "    weighted avg       0.69      0.69      0.69       336\n",
      "\n",
      "Epoch 720/2500, Loss: 0.0737\n",
      "Test Accuracy at Epoch 720: 69.05%\n",
      "Test F1-score at Epoch 720: 0.7189\n",
      "Classification Report at Epoch 720:\n",
      "                  precision    recall  f1-score   support\n",
      "\n",
      "    infringement       0.70      0.62      0.66       160\n",
      "non_infringement       0.69      0.76      0.72       176\n",
      "\n",
      "        accuracy                           0.69       336\n",
      "       macro avg       0.69      0.69      0.69       336\n",
      "    weighted avg       0.69      0.69      0.69       336\n",
      "\n"
     ]
    },
    {
     "name": "stderr",
     "output_type": "stream",
     "text": [
      "Training Epochs:  30%|██▉       | 739/2500 [00:14<00:28, 61.40it/s]"
     ]
    },
    {
     "name": "stdout",
     "output_type": "stream",
     "text": [
      "Epoch 730/2500, Loss: 0.0735\n",
      "Test Accuracy at Epoch 730: 69.05%\n",
      "Test F1-score at Epoch 730: 0.7189\n",
      "Classification Report at Epoch 730:\n",
      "                  precision    recall  f1-score   support\n",
      "\n",
      "    infringement       0.70      0.62      0.66       160\n",
      "non_infringement       0.69      0.76      0.72       176\n",
      "\n",
      "        accuracy                           0.69       336\n",
      "       macro avg       0.69      0.69      0.69       336\n",
      "    weighted avg       0.69      0.69      0.69       336\n",
      "\n",
      "Epoch 740/2500, Loss: 0.0733\n",
      "Test Accuracy at Epoch 740: 69.05%\n",
      "Test F1-score at Epoch 740: 0.7189\n",
      "Classification Report at Epoch 740:\n",
      "                  precision    recall  f1-score   support\n",
      "\n",
      "    infringement       0.70      0.62      0.66       160\n",
      "non_infringement       0.69      0.76      0.72       176\n",
      "\n",
      "        accuracy                           0.69       336\n",
      "       macro avg       0.69      0.69      0.69       336\n",
      "    weighted avg       0.69      0.69      0.69       336\n",
      "\n"
     ]
    },
    {
     "name": "stderr",
     "output_type": "stream",
     "text": [
      "Training Epochs:  30%|███       | 761/2500 [00:14<00:29, 59.91it/s]"
     ]
    },
    {
     "name": "stdout",
     "output_type": "stream",
     "text": [
      "Epoch 750/2500, Loss: 0.0731\n",
      "Test Accuracy at Epoch 750: 69.05%\n",
      "Test F1-score at Epoch 750: 0.7189\n",
      "Classification Report at Epoch 750:\n",
      "                  precision    recall  f1-score   support\n",
      "\n",
      "    infringement       0.70      0.62      0.66       160\n",
      "non_infringement       0.69      0.76      0.72       176\n",
      "\n",
      "        accuracy                           0.69       336\n",
      "       macro avg       0.69      0.69      0.69       336\n",
      "    weighted avg       0.69      0.69      0.69       336\n",
      "\n",
      "Epoch 760/2500, Loss: 0.0729\n",
      "Test Accuracy at Epoch 760: 69.35%\n",
      "Test F1-score at Epoch 760: 0.7224\n",
      "Classification Report at Epoch 760:\n",
      "                  precision    recall  f1-score   support\n",
      "\n",
      "    infringement       0.70      0.62      0.66       160\n",
      "non_infringement       0.69      0.76      0.72       176\n",
      "\n",
      "        accuracy                           0.69       336\n",
      "       macro avg       0.69      0.69      0.69       336\n",
      "    weighted avg       0.69      0.69      0.69       336\n",
      "\n"
     ]
    },
    {
     "name": "stderr",
     "output_type": "stream",
     "text": [
      "Training Epochs:  31%|███       | 776/2500 [00:15<00:30, 57.33it/s]"
     ]
    },
    {
     "name": "stdout",
     "output_type": "stream",
     "text": [
      "Epoch 770/2500, Loss: 0.0727\n",
      "Test Accuracy at Epoch 770: 69.35%\n",
      "Test F1-score at Epoch 770: 0.7224\n",
      "Classification Report at Epoch 770:\n",
      "                  precision    recall  f1-score   support\n",
      "\n",
      "    infringement       0.70      0.62      0.66       160\n",
      "non_infringement       0.69      0.76      0.72       176\n",
      "\n",
      "        accuracy                           0.69       336\n",
      "       macro avg       0.69      0.69      0.69       336\n",
      "    weighted avg       0.69      0.69      0.69       336\n",
      "\n",
      "Epoch 780/2500, Loss: 0.0726\n"
     ]
    },
    {
     "name": "stderr",
     "output_type": "stream",
     "text": [
      "Training Epochs:  32%|███▏      | 790/2500 [00:15<00:28, 59.87it/s]"
     ]
    },
    {
     "name": "stdout",
     "output_type": "stream",
     "text": [
      "Test Accuracy at Epoch 780: 69.35%\n",
      "Test F1-score at Epoch 780: 0.7224\n",
      "Classification Report at Epoch 780:\n",
      "                  precision    recall  f1-score   support\n",
      "\n",
      "    infringement       0.70      0.62      0.66       160\n",
      "non_infringement       0.69      0.76      0.72       176\n",
      "\n",
      "        accuracy                           0.69       336\n",
      "       macro avg       0.69      0.69      0.69       336\n",
      "    weighted avg       0.69      0.69      0.69       336\n",
      "\n",
      "Epoch 790/2500, Loss: 0.0724\n",
      "Test Accuracy at Epoch 790: 69.35%\n",
      "Test F1-score at Epoch 790: 0.7224\n",
      "Classification Report at Epoch 790:\n",
      "                  precision    recall  f1-score   support\n",
      "\n",
      "    infringement       0.70      0.62      0.66       160\n",
      "non_infringement       0.69      0.76      0.72       176\n",
      "\n",
      "        accuracy                           0.69       336\n",
      "       macro avg       0.69      0.69      0.69       336\n",
      "    weighted avg       0.69      0.69      0.69       336\n",
      "\n"
     ]
    },
    {
     "name": "stderr",
     "output_type": "stream",
     "text": [
      "Training Epochs:  32%|███▏      | 811/2500 [00:15<00:28, 59.69it/s]"
     ]
    },
    {
     "name": "stdout",
     "output_type": "stream",
     "text": [
      "Epoch 800/2500, Loss: 0.0723\n",
      "Test Accuracy at Epoch 800: 69.35%\n",
      "Test F1-score at Epoch 800: 0.7224\n",
      "Classification Report at Epoch 800:\n",
      "                  precision    recall  f1-score   support\n",
      "\n",
      "    infringement       0.70      0.62      0.66       160\n",
      "non_infringement       0.69      0.76      0.72       176\n",
      "\n",
      "        accuracy                           0.69       336\n",
      "       macro avg       0.69      0.69      0.69       336\n",
      "    weighted avg       0.69      0.69      0.69       336\n",
      "\n",
      "Epoch 810/2500, Loss: 0.0721\n",
      "Test Accuracy at Epoch 810: 69.35%\n",
      "Test F1-score at Epoch 810: 0.7224\n",
      "Classification Report at Epoch 810:\n",
      "                  precision    recall  f1-score   support\n",
      "\n",
      "    infringement       0.70      0.62      0.66       160\n",
      "non_infringement       0.69      0.76      0.72       176\n",
      "\n",
      "        accuracy                           0.69       336\n",
      "       macro avg       0.69      0.69      0.69       336\n",
      "    weighted avg       0.69      0.69      0.69       336\n",
      "\n"
     ]
    },
    {
     "name": "stderr",
     "output_type": "stream",
     "text": [
      "Training Epochs:  33%|███▎      | 832/2500 [00:16<00:29, 56.40it/s]"
     ]
    },
    {
     "name": "stdout",
     "output_type": "stream",
     "text": [
      "Epoch 820/2500, Loss: 0.0720\n",
      "Test Accuracy at Epoch 820: 69.05%\n",
      "Test F1-score at Epoch 820: 0.7204\n",
      "Classification Report at Epoch 820:\n",
      "                  precision    recall  f1-score   support\n",
      "\n",
      "    infringement       0.70      0.61      0.65       160\n",
      "non_infringement       0.68      0.76      0.72       176\n",
      "\n",
      "        accuracy                           0.69       336\n",
      "       macro avg       0.69      0.69      0.69       336\n",
      "    weighted avg       0.69      0.69      0.69       336\n",
      "\n",
      "Epoch 830/2500, Loss: 0.0719\n",
      "Test Accuracy at Epoch 830: 69.35%\n",
      "Test F1-score at Epoch 830: 0.7224\n",
      "Classification Report at Epoch 830:\n",
      "                  precision    recall  f1-score   support\n",
      "\n",
      "    infringement       0.70      0.62      0.66       160\n",
      "non_infringement       0.69      0.76      0.72       176\n",
      "\n",
      "        accuracy                           0.69       336\n",
      "       macro avg       0.69      0.69      0.69       336\n",
      "    weighted avg       0.69      0.69      0.69       336\n",
      "\n"
     ]
    },
    {
     "name": "stderr",
     "output_type": "stream",
     "text": [
      "Training Epochs:  34%|███▍      | 847/2500 [00:16<00:30, 54.32it/s]"
     ]
    },
    {
     "name": "stdout",
     "output_type": "stream",
     "text": [
      "Epoch 840/2500, Loss: 0.0718\n",
      "Test Accuracy at Epoch 840: 69.35%\n",
      "Test F1-score at Epoch 840: 0.7224\n",
      "Classification Report at Epoch 840:\n",
      "                  precision    recall  f1-score   support\n",
      "\n",
      "    infringement       0.70      0.62      0.66       160\n",
      "non_infringement       0.69      0.76      0.72       176\n",
      "\n",
      "        accuracy                           0.69       336\n",
      "       macro avg       0.69      0.69      0.69       336\n",
      "    weighted avg       0.69      0.69      0.69       336\n",
      "\n"
     ]
    },
    {
     "name": "stderr",
     "output_type": "stream",
     "text": [
      "Training Epochs:  34%|███▍      | 861/2500 [00:16<00:27, 59.31it/s]"
     ]
    },
    {
     "name": "stdout",
     "output_type": "stream",
     "text": [
      "Epoch 850/2500, Loss: 0.0721\n",
      "Test Accuracy at Epoch 850: 69.64%\n",
      "Test F1-score at Epoch 850: 0.7258\n",
      "Classification Report at Epoch 850:\n",
      "                  precision    recall  f1-score   support\n",
      "\n",
      "    infringement       0.71      0.62      0.66       160\n",
      "non_infringement       0.69      0.77      0.73       176\n",
      "\n",
      "        accuracy                           0.70       336\n",
      "       macro avg       0.70      0.69      0.69       336\n",
      "    weighted avg       0.70      0.70      0.69       336\n",
      "\n",
      "Epoch 860/2500, Loss: 0.0750\n",
      "Test Accuracy at Epoch 860: 68.75%\n",
      "Test F1-score at Epoch 860: 0.7170\n",
      "Classification Report at Epoch 860:\n",
      "                  precision    recall  f1-score   support\n",
      "\n",
      "    infringement       0.70      0.61      0.65       160\n",
      "non_infringement       0.68      0.76      0.72       176\n",
      "\n",
      "        accuracy                           0.69       336\n",
      "       macro avg       0.69      0.68      0.68       336\n",
      "    weighted avg       0.69      0.69      0.69       336\n",
      "\n"
     ]
    },
    {
     "name": "stderr",
     "output_type": "stream",
     "text": [
      "Training Epochs:  35%|███▌      | 881/2500 [00:17<00:27, 58.31it/s]"
     ]
    },
    {
     "name": "stdout",
     "output_type": "stream",
     "text": [
      "Epoch 870/2500, Loss: 0.0733\n",
      "Test Accuracy at Epoch 870: 68.75%\n",
      "Test F1-score at Epoch 870: 0.7170\n",
      "Classification Report at Epoch 870:\n",
      "                  precision    recall  f1-score   support\n",
      "\n",
      "    infringement       0.70      0.61      0.65       160\n",
      "non_infringement       0.68      0.76      0.72       176\n",
      "\n",
      "        accuracy                           0.69       336\n",
      "       macro avg       0.69      0.68      0.68       336\n",
      "    weighted avg       0.69      0.69      0.69       336\n",
      "\n",
      "Epoch 880/2500, Loss: 0.0862\n",
      "Test Accuracy at Epoch 880: 68.75%\n",
      "Test F1-score at Epoch 880: 0.7170\n",
      "Classification Report at Epoch 880:\n",
      "                  precision    recall  f1-score   support\n",
      "\n",
      "    infringement       0.70      0.61      0.65       160\n",
      "non_infringement       0.68      0.76      0.72       176\n",
      "\n",
      "        accuracy                           0.69       336\n",
      "       macro avg       0.69      0.68      0.68       336\n",
      "    weighted avg       0.69      0.69      0.69       336\n",
      "\n"
     ]
    },
    {
     "name": "stderr",
     "output_type": "stream",
     "text": [
      "Training Epochs:  36%|███▌      | 894/2500 [00:17<00:30, 52.20it/s]"
     ]
    },
    {
     "name": "stdout",
     "output_type": "stream",
     "text": [
      "Epoch 890/2500, Loss: 0.0885\n",
      "Test Accuracy at Epoch 890: 69.05%\n",
      "Test F1-score at Epoch 890: 0.7219\n",
      "Classification Report at Epoch 890:\n",
      "                  precision    recall  f1-score   support\n",
      "\n",
      "    infringement       0.70      0.61      0.65       160\n",
      "non_infringement       0.68      0.77      0.72       176\n",
      "\n",
      "        accuracy                           0.69       336\n",
      "       macro avg       0.69      0.69      0.69       336\n",
      "    weighted avg       0.69      0.69      0.69       336\n",
      "\n",
      "Epoch 900/2500, Loss: 0.0744\n",
      "Test Accuracy at Epoch 900: 67.86%\n",
      "Test F1-score at Epoch 900: 0.7097\n",
      "Classification Report at Epoch 900:\n",
      "                  precision    recall  f1-score   support\n",
      "\n",
      "    infringement       0.69      0.60      0.64       160\n",
      "non_infringement       0.67      0.75      0.71       176\n",
      "\n",
      "        accuracy                           0.68       336\n",
      "       macro avg       0.68      0.68      0.67       336\n",
      "    weighted avg       0.68      0.68      0.68       336\n",
      "\n"
     ]
    },
    {
     "name": "stderr",
     "output_type": "stream",
     "text": [
      "Training Epochs:  37%|███▋      | 921/2500 [00:17<00:28, 56.29it/s]"
     ]
    },
    {
     "name": "stdout",
     "output_type": "stream",
     "text": [
      "Epoch 910/2500, Loss: 0.0742\n",
      "Test Accuracy at Epoch 910: 68.45%\n",
      "Test F1-score at Epoch 910: 0.7135\n",
      "Classification Report at Epoch 910:\n",
      "                  precision    recall  f1-score   support\n",
      "\n",
      "    infringement       0.69      0.61      0.65       160\n",
      "non_infringement       0.68      0.75      0.71       176\n",
      "\n",
      "        accuracy                           0.68       336\n",
      "       macro avg       0.69      0.68      0.68       336\n",
      "    weighted avg       0.69      0.68      0.68       336\n",
      "\n",
      "Epoch 920/2500, Loss: 0.0718\n",
      "Test Accuracy at Epoch 920: 69.05%\n",
      "Test F1-score at Epoch 920: 0.7204\n",
      "Classification Report at Epoch 920:\n",
      "                  precision    recall  f1-score   support\n",
      "\n",
      "    infringement       0.70      0.61      0.65       160\n",
      "non_infringement       0.68      0.76      0.72       176\n",
      "\n",
      "        accuracy                           0.69       336\n",
      "       macro avg       0.69      0.69      0.69       336\n",
      "    weighted avg       0.69      0.69      0.69       336\n",
      "\n"
     ]
    },
    {
     "name": "stderr",
     "output_type": "stream",
     "text": [
      "Training Epochs:  37%|███▋      | 936/2500 [00:18<00:27, 57.21it/s]"
     ]
    },
    {
     "name": "stdout",
     "output_type": "stream",
     "text": [
      "Epoch 930/2500, Loss: 0.0718\n",
      "Test Accuracy at Epoch 930: 69.05%\n",
      "Test F1-score at Epoch 930: 0.7204\n",
      "Classification Report at Epoch 930:\n",
      "                  precision    recall  f1-score   support\n",
      "\n",
      "    infringement       0.70      0.61      0.65       160\n",
      "non_infringement       0.68      0.76      0.72       176\n",
      "\n",
      "        accuracy                           0.69       336\n",
      "       macro avg       0.69      0.69      0.69       336\n",
      "    weighted avg       0.69      0.69      0.69       336\n",
      "\n",
      "Epoch 940/2500, Loss: 0.0714\n",
      "Test Accuracy at Epoch 940: 69.35%\n",
      "Test F1-score at Epoch 940: 0.7224\n",
      "Classification Report at Epoch 940:\n",
      "                  precision    recall  f1-score   support\n",
      "\n",
      "    infringement       0.70      0.62      0.66       160\n",
      "non_infringement       0.69      0.76      0.72       176\n",
      "\n",
      "        accuracy                           0.69       336\n",
      "       macro avg       0.69      0.69      0.69       336\n",
      "    weighted avg       0.69      0.69      0.69       336\n",
      "\n"
     ]
    },
    {
     "name": "stderr",
     "output_type": "stream",
     "text": [
      "Training Epochs:  38%|███▊      | 950/2500 [00:18<00:25, 61.60it/s]"
     ]
    },
    {
     "name": "stdout",
     "output_type": "stream",
     "text": [
      "Epoch 950/2500, Loss: 0.0713\n",
      "Test Accuracy at Epoch 950: 69.35%\n",
      "Test F1-score at Epoch 950: 0.7224\n",
      "Classification Report at Epoch 950:\n",
      "                  precision    recall  f1-score   support\n",
      "\n",
      "    infringement       0.70      0.62      0.66       160\n",
      "non_infringement       0.69      0.76      0.72       176\n",
      "\n",
      "        accuracy                           0.69       336\n",
      "       macro avg       0.69      0.69      0.69       336\n",
      "    weighted avg       0.69      0.69      0.69       336\n",
      "\n"
     ]
    },
    {
     "name": "stderr",
     "output_type": "stream",
     "text": [
      "Training Epochs:  39%|███▉      | 971/2500 [00:18<00:26, 58.49it/s]"
     ]
    },
    {
     "name": "stdout",
     "output_type": "stream",
     "text": [
      "Epoch 960/2500, Loss: 0.0712\n",
      "Test Accuracy at Epoch 960: 69.35%\n",
      "Test F1-score at Epoch 960: 0.7224\n",
      "Classification Report at Epoch 960:\n",
      "                  precision    recall  f1-score   support\n",
      "\n",
      "    infringement       0.70      0.62      0.66       160\n",
      "non_infringement       0.69      0.76      0.72       176\n",
      "\n",
      "        accuracy                           0.69       336\n",
      "       macro avg       0.69      0.69      0.69       336\n",
      "    weighted avg       0.69      0.69      0.69       336\n",
      "\n",
      "Epoch 970/2500, Loss: 0.0711\n",
      "Test Accuracy at Epoch 970: 69.05%\n",
      "Test F1-score at Epoch 970: 0.7204\n",
      "Classification Report at Epoch 970:\n",
      "                  precision    recall  f1-score   support\n",
      "\n",
      "    infringement       0.70      0.61      0.65       160\n",
      "non_infringement       0.68      0.76      0.72       176\n",
      "\n",
      "        accuracy                           0.69       336\n",
      "       macro avg       0.69      0.69      0.69       336\n",
      "    weighted avg       0.69      0.69      0.69       336\n",
      "\n"
     ]
    },
    {
     "name": "stderr",
     "output_type": "stream",
     "text": [
      "Training Epochs:  39%|███▉      | 984/2500 [00:19<00:33, 45.71it/s]"
     ]
    },
    {
     "name": "stdout",
     "output_type": "stream",
     "text": [
      "Epoch 980/2500, Loss: 0.0710\n",
      "Test Accuracy at Epoch 980: 69.05%\n",
      "Test F1-score at Epoch 980: 0.7204\n",
      "Classification Report at Epoch 980:\n",
      "                  precision    recall  f1-score   support\n",
      "\n",
      "    infringement       0.70      0.61      0.65       160\n",
      "non_infringement       0.68      0.76      0.72       176\n",
      "\n",
      "        accuracy                           0.69       336\n",
      "       macro avg       0.69      0.69      0.69       336\n",
      "    weighted avg       0.69      0.69      0.69       336\n",
      "\n"
     ]
    },
    {
     "name": "stderr",
     "output_type": "stream",
     "text": [
      "Training Epochs:  40%|███▉      | 997/2500 [00:19<00:32, 46.95it/s]"
     ]
    },
    {
     "name": "stdout",
     "output_type": "stream",
     "text": [
      "Epoch 990/2500, Loss: 0.0709\n",
      "Test Accuracy at Epoch 990: 69.05%\n",
      "Test F1-score at Epoch 990: 0.7204\n",
      "Classification Report at Epoch 990:\n",
      "                  precision    recall  f1-score   support\n",
      "\n",
      "    infringement       0.70      0.61      0.65       160\n",
      "non_infringement       0.68      0.76      0.72       176\n",
      "\n",
      "        accuracy                           0.69       336\n",
      "       macro avg       0.69      0.69      0.69       336\n",
      "    weighted avg       0.69      0.69      0.69       336\n",
      "\n"
     ]
    },
    {
     "name": "stderr",
     "output_type": "stream",
     "text": [
      "Training Epochs:  40%|████      | 1011/2500 [00:19<00:26, 55.27it/s]"
     ]
    },
    {
     "name": "stdout",
     "output_type": "stream",
     "text": [
      "Epoch 1000/2500, Loss: 0.0708\n",
      "Test Accuracy at Epoch 1000: 69.35%\n",
      "Test F1-score at Epoch 1000: 0.7224\n",
      "Classification Report at Epoch 1000:\n",
      "                  precision    recall  f1-score   support\n",
      "\n",
      "    infringement       0.70      0.62      0.66       160\n",
      "non_infringement       0.69      0.76      0.72       176\n",
      "\n",
      "        accuracy                           0.69       336\n",
      "       macro avg       0.69      0.69      0.69       336\n",
      "    weighted avg       0.69      0.69      0.69       336\n",
      "\n",
      "Epoch 1010/2500, Loss: 0.0707\n",
      "Test Accuracy at Epoch 1010: 68.75%\n",
      "Test F1-score at Epoch 1010: 0.7170\n",
      "Classification Report at Epoch 1010:\n",
      "                  precision    recall  f1-score   support\n",
      "\n",
      "    infringement       0.70      0.61      0.65       160\n",
      "non_infringement       0.68      0.76      0.72       176\n",
      "\n",
      "        accuracy                           0.69       336\n",
      "       macro avg       0.69      0.68      0.68       336\n",
      "    weighted avg       0.69      0.69      0.69       336\n",
      "\n"
     ]
    },
    {
     "name": "stderr",
     "output_type": "stream",
     "text": [
      "Training Epochs:  41%|████      | 1031/2500 [00:19<00:24, 59.36it/s]"
     ]
    },
    {
     "name": "stdout",
     "output_type": "stream",
     "text": [
      "Epoch 1020/2500, Loss: 0.0707\n",
      "Test Accuracy at Epoch 1020: 69.05%\n",
      "Test F1-score at Epoch 1020: 0.7189\n",
      "Classification Report at Epoch 1020:\n",
      "                  precision    recall  f1-score   support\n",
      "\n",
      "    infringement       0.70      0.62      0.66       160\n",
      "non_infringement       0.69      0.76      0.72       176\n",
      "\n",
      "        accuracy                           0.69       336\n",
      "       macro avg       0.69      0.69      0.69       336\n",
      "    weighted avg       0.69      0.69      0.69       336\n",
      "\n",
      "Epoch 1030/2500, Loss: 0.0706\n",
      "Test Accuracy at Epoch 1030: 68.75%\n",
      "Test F1-score at Epoch 1030: 0.7170\n",
      "Classification Report at Epoch 1030:\n",
      "                  precision    recall  f1-score   support\n",
      "\n",
      "    infringement       0.70      0.61      0.65       160\n",
      "non_infringement       0.68      0.76      0.72       176\n",
      "\n",
      "        accuracy                           0.69       336\n",
      "       macro avg       0.69      0.68      0.68       336\n",
      "    weighted avg       0.69      0.69      0.69       336\n",
      "\n"
     ]
    },
    {
     "name": "stderr",
     "output_type": "stream",
     "text": [
      "Training Epochs:  42%|████▏     | 1046/2500 [00:20<00:26, 54.39it/s]"
     ]
    },
    {
     "name": "stdout",
     "output_type": "stream",
     "text": [
      "Epoch 1040/2500, Loss: 0.0705\n",
      "Test Accuracy at Epoch 1040: 69.05%\n",
      "Test F1-score at Epoch 1040: 0.7189\n",
      "Classification Report at Epoch 1040:\n",
      "                  precision    recall  f1-score   support\n",
      "\n",
      "    infringement       0.70      0.62      0.66       160\n",
      "non_infringement       0.69      0.76      0.72       176\n",
      "\n",
      "        accuracy                           0.69       336\n",
      "       macro avg       0.69      0.69      0.69       336\n",
      "    weighted avg       0.69      0.69      0.69       336\n",
      "\n",
      "Epoch 1050/2500, Loss: 0.0766\n",
      "Test Accuracy at Epoch 1050: 69.35%\n",
      "Test F1-score at Epoch 1050: 0.7193\n",
      "Classification Report at Epoch 1050:\n",
      "                  precision    recall  f1-score   support\n",
      "\n",
      "    infringement       0.70      0.63      0.66       160\n",
      "non_infringement       0.69      0.75      0.72       176\n",
      "\n",
      "        accuracy                           0.69       336\n",
      "       macro avg       0.69      0.69      0.69       336\n",
      "    weighted avg       0.69      0.69      0.69       336\n",
      "\n"
     ]
    },
    {
     "name": "stderr",
     "output_type": "stream",
     "text": [
      "Training Epochs:  43%|████▎     | 1069/2500 [00:20<00:24, 58.36it/s]"
     ]
    },
    {
     "name": "stdout",
     "output_type": "stream",
     "text": [
      "Epoch 1060/2500, Loss: 0.0719\n",
      "Test Accuracy at Epoch 1060: 69.05%\n",
      "Test F1-score at Epoch 1060: 0.7158\n",
      "Classification Report at Epoch 1060:\n",
      "                  precision    recall  f1-score   support\n",
      "\n",
      "    infringement       0.69      0.63      0.66       160\n",
      "non_infringement       0.69      0.74      0.72       176\n",
      "\n",
      "        accuracy                           0.69       336\n",
      "       macro avg       0.69      0.69      0.69       336\n",
      "    weighted avg       0.69      0.69      0.69       336\n",
      "\n",
      "Epoch 1070/2500, Loss: 0.0749\n",
      "Test Accuracy at Epoch 1070: 68.75%\n",
      "Test F1-score at Epoch 1070: 0.7154\n"
     ]
    },
    {
     "name": "stderr",
     "output_type": "stream",
     "text": [
      "Training Epochs:  43%|████▎     | 1083/2500 [00:20<00:22, 62.65it/s]"
     ]
    },
    {
     "name": "stdout",
     "output_type": "stream",
     "text": [
      "Classification Report at Epoch 1070:\n",
      "                  precision    recall  f1-score   support\n",
      "\n",
      "    infringement       0.69      0.62      0.65       160\n",
      "non_infringement       0.68      0.75      0.72       176\n",
      "\n",
      "        accuracy                           0.69       336\n",
      "       macro avg       0.69      0.68      0.68       336\n",
      "    weighted avg       0.69      0.69      0.69       336\n",
      "\n",
      "Epoch 1080/2500, Loss: 0.0722\n",
      "Test Accuracy at Epoch 1080: 69.94%\n",
      "Test F1-score at Epoch 1080: 0.7292\n",
      "Classification Report at Epoch 1080:\n",
      "                  precision    recall  f1-score   support\n",
      "\n",
      "    infringement       0.71      0.62      0.66       160\n",
      "non_infringement       0.69      0.77      0.73       176\n",
      "\n",
      "        accuracy                           0.70       336\n",
      "       macro avg       0.70      0.70      0.70       336\n",
      "    weighted avg       0.70      0.70      0.70       336\n",
      "\n"
     ]
    },
    {
     "name": "stderr",
     "output_type": "stream",
     "text": [
      "Training Epochs:  44%|████▍     | 1098/2500 [00:20<00:23, 60.74it/s]"
     ]
    },
    {
     "name": "stdout",
     "output_type": "stream",
     "text": [
      "Epoch 1090/2500, Loss: 0.0723\n",
      "Test Accuracy at Epoch 1090: 68.75%\n",
      "Test F1-score at Epoch 1090: 0.7170\n",
      "Classification Report at Epoch 1090:\n",
      "                  precision    recall  f1-score   support\n",
      "\n",
      "    infringement       0.70      0.61      0.65       160\n",
      "non_infringement       0.68      0.76      0.72       176\n",
      "\n",
      "        accuracy                           0.69       336\n",
      "       macro avg       0.69      0.68      0.68       336\n",
      "    weighted avg       0.69      0.69      0.69       336\n",
      "\n",
      "Epoch 1100/2500, Loss: 0.0753\n",
      "Test Accuracy at Epoch 1100: 69.35%\n",
      "Test F1-score at Epoch 1100: 0.7193\n",
      "Classification Report at Epoch 1100:\n",
      "                  precision    recall  f1-score   support\n",
      "\n",
      "    infringement       0.70      0.63      0.66       160\n",
      "non_infringement       0.69      0.75      0.72       176\n",
      "\n",
      "        accuracy                           0.69       336\n",
      "       macro avg       0.69      0.69      0.69       336\n",
      "    weighted avg       0.69      0.69      0.69       336\n",
      "\n"
     ]
    },
    {
     "name": "stderr",
     "output_type": "stream",
     "text": [
      "Training Epochs:  44%|████▍     | 1112/2500 [00:21<00:24, 56.45it/s]"
     ]
    },
    {
     "name": "stdout",
     "output_type": "stream",
     "text": [
      "Epoch 1110/2500, Loss: 0.0745\n",
      "Test Accuracy at Epoch 1110: 69.05%\n",
      "Test F1-score at Epoch 1110: 0.7204\n",
      "Classification Report at Epoch 1110:\n",
      "                  precision    recall  f1-score   support\n",
      "\n",
      "    infringement       0.70      0.61      0.65       160\n",
      "non_infringement       0.68      0.76      0.72       176\n",
      "\n",
      "        accuracy                           0.69       336\n",
      "       macro avg       0.69      0.69      0.69       336\n",
      "    weighted avg       0.69      0.69      0.69       336\n",
      "\n",
      "Epoch 1120/2500, Loss: 0.0774\n",
      "Test Accuracy at Epoch 1120: 69.05%\n",
      "Test F1-score at Epoch 1120: 0.7143\n"
     ]
    },
    {
     "name": "stderr",
     "output_type": "stream",
     "text": [
      "Training Epochs:  45%|████▌     | 1128/2500 [00:21<00:21, 64.70it/s]"
     ]
    },
    {
     "name": "stdout",
     "output_type": "stream",
     "text": [
      "Classification Report at Epoch 1120:\n",
      "                  precision    recall  f1-score   support\n",
      "\n",
      "    infringement       0.69      0.64      0.66       160\n",
      "non_infringement       0.69      0.74      0.71       176\n",
      "\n",
      "        accuracy                           0.69       336\n",
      "       macro avg       0.69      0.69      0.69       336\n",
      "    weighted avg       0.69      0.69      0.69       336\n",
      "\n",
      "Epoch 1130/2500, Loss: 0.0717\n",
      "Test Accuracy at Epoch 1130: 69.35%\n",
      "Test F1-score at Epoch 1130: 0.7224\n",
      "Classification Report at Epoch 1130:\n",
      "                  precision    recall  f1-score   support\n",
      "\n",
      "    infringement       0.70      0.62      0.66       160\n",
      "non_infringement       0.69      0.76      0.72       176\n",
      "\n",
      "        accuracy                           0.69       336\n",
      "       macro avg       0.69      0.69      0.69       336\n",
      "    weighted avg       0.69      0.69      0.69       336\n",
      "\n"
     ]
    },
    {
     "name": "stderr",
     "output_type": "stream",
     "text": [
      "Training Epochs:  46%|████▌     | 1150/2500 [00:21<00:22, 60.09it/s]"
     ]
    },
    {
     "name": "stdout",
     "output_type": "stream",
     "text": [
      "Epoch 1140/2500, Loss: 0.0734\n",
      "Test Accuracy at Epoch 1140: 68.75%\n",
      "Test F1-score at Epoch 1140: 0.7139\n",
      "Classification Report at Epoch 1140:\n",
      "                  precision    recall  f1-score   support\n",
      "\n",
      "    infringement       0.69      0.62      0.66       160\n",
      "non_infringement       0.69      0.74      0.71       176\n",
      "\n",
      "        accuracy                           0.69       336\n",
      "       macro avg       0.69      0.68      0.68       336\n",
      "    weighted avg       0.69      0.69      0.69       336\n",
      "\n",
      "Epoch 1150/2500, Loss: 0.0721\n",
      "Test Accuracy at Epoch 1150: 68.75%\n",
      "Test F1-score at Epoch 1150: 0.7185\n",
      "Classification Report at Epoch 1150:\n",
      "                  precision    recall  f1-score   support\n",
      "\n",
      "    infringement       0.70      0.61      0.65       160\n",
      "non_infringement       0.68      0.76      0.72       176\n",
      "\n",
      "        accuracy                           0.69       336\n",
      "       macro avg       0.69      0.68      0.68       336\n",
      "    weighted avg       0.69      0.69      0.69       336\n",
      "\n"
     ]
    },
    {
     "name": "stderr",
     "output_type": "stream",
     "text": [
      "Training Epochs:  47%|████▋     | 1165/2500 [00:22<00:22, 58.82it/s]"
     ]
    },
    {
     "name": "stdout",
     "output_type": "stream",
     "text": [
      "Epoch 1160/2500, Loss: 0.0718\n",
      "Test Accuracy at Epoch 1160: 68.75%\n",
      "Test F1-score at Epoch 1160: 0.7154\n",
      "Classification Report at Epoch 1160:\n",
      "                  precision    recall  f1-score   support\n",
      "\n",
      "    infringement       0.69      0.62      0.65       160\n",
      "non_infringement       0.68      0.75      0.72       176\n",
      "\n",
      "        accuracy                           0.69       336\n",
      "       macro avg       0.69      0.68      0.68       336\n",
      "    weighted avg       0.69      0.69      0.69       336\n",
      "\n",
      "Epoch 1170/2500, Loss: 0.0717\n",
      "Test Accuracy at Epoch 1170: 69.64%\n",
      "Test F1-score at Epoch 1170: 0.7273\n",
      "Classification Report at Epoch 1170:\n",
      "                  precision    recall  f1-score   support\n",
      "\n",
      "    infringement       0.71      0.61      0.66       160\n",
      "non_infringement       0.69      0.77      0.73       176\n",
      "\n",
      "        accuracy                           0.70       336\n",
      "       macro avg       0.70      0.69      0.69       336\n",
      "    weighted avg       0.70      0.70      0.69       336\n",
      "\n"
     ]
    },
    {
     "name": "stderr",
     "output_type": "stream",
     "text": [
      "Training Epochs:  47%|████▋     | 1187/2500 [00:22<00:23, 56.85it/s]"
     ]
    },
    {
     "name": "stdout",
     "output_type": "stream",
     "text": [
      "Epoch 1180/2500, Loss: 0.0793\n",
      "Test Accuracy at Epoch 1180: 69.35%\n",
      "Test F1-score at Epoch 1180: 0.7253\n",
      "Classification Report at Epoch 1180:\n",
      "                  precision    recall  f1-score   support\n",
      "\n",
      "    infringement       0.71      0.61      0.65       160\n",
      "non_infringement       0.68      0.77      0.73       176\n",
      "\n",
      "        accuracy                           0.69       336\n",
      "       macro avg       0.70      0.69      0.69       336\n",
      "    weighted avg       0.70      0.69      0.69       336\n",
      "\n"
     ]
    },
    {
     "name": "stderr",
     "output_type": "stream",
     "text": [
      "Training Epochs:  48%|████▊     | 1201/2500 [00:22<00:21, 60.90it/s]"
     ]
    },
    {
     "name": "stdout",
     "output_type": "stream",
     "text": [
      "Epoch 1190/2500, Loss: 0.0749\n",
      "Test Accuracy at Epoch 1190: 68.45%\n",
      "Test F1-score at Epoch 1190: 0.7135\n",
      "Classification Report at Epoch 1190:\n",
      "                  precision    recall  f1-score   support\n",
      "\n",
      "    infringement       0.69      0.61      0.65       160\n",
      "non_infringement       0.68      0.75      0.71       176\n",
      "\n",
      "        accuracy                           0.68       336\n",
      "       macro avg       0.69      0.68      0.68       336\n",
      "    weighted avg       0.69      0.68      0.68       336\n",
      "\n",
      "Epoch 1200/2500, Loss: 0.0923\n",
      "Test Accuracy at Epoch 1200: 69.35%\n",
      "Test F1-score at Epoch 1200: 0.7253\n",
      "Classification Report at Epoch 1200:\n",
      "                  precision    recall  f1-score   support\n",
      "\n",
      "    infringement       0.71      0.61      0.65       160\n",
      "non_infringement       0.68      0.77      0.73       176\n",
      "\n",
      "        accuracy                           0.69       336\n",
      "       macro avg       0.70      0.69      0.69       336\n",
      "    weighted avg       0.70      0.69      0.69       336\n",
      "\n"
     ]
    },
    {
     "name": "stderr",
     "output_type": "stream",
     "text": [
      "Training Epochs:  49%|████▉     | 1223/2500 [00:23<00:20, 61.16it/s]"
     ]
    },
    {
     "name": "stdout",
     "output_type": "stream",
     "text": [
      "Epoch 1210/2500, Loss: 0.0804\n",
      "Test Accuracy at Epoch 1210: 69.05%\n",
      "Test F1-score at Epoch 1210: 0.7204\n",
      "Classification Report at Epoch 1210:\n",
      "                  precision    recall  f1-score   support\n",
      "\n",
      "    infringement       0.70      0.61      0.65       160\n",
      "non_infringement       0.68      0.76      0.72       176\n",
      "\n",
      "        accuracy                           0.69       336\n",
      "       macro avg       0.69      0.69      0.69       336\n",
      "    weighted avg       0.69      0.69      0.69       336\n",
      "\n",
      "Epoch 1220/2500, Loss: 0.0736\n",
      "Test Accuracy at Epoch 1220: 69.05%\n",
      "Test F1-score at Epoch 1220: 0.7174\n",
      "Classification Report at Epoch 1220:\n",
      "                  precision    recall  f1-score   support\n",
      "\n",
      "    infringement       0.69      0.62      0.66       160\n",
      "non_infringement       0.69      0.75      0.72       176\n",
      "\n",
      "        accuracy                           0.69       336\n",
      "       macro avg       0.69      0.69      0.69       336\n",
      "    weighted avg       0.69      0.69      0.69       336\n",
      "\n"
     ]
    },
    {
     "name": "stderr",
     "output_type": "stream",
     "text": [
      "Training Epochs:  49%|████▉     | 1237/2500 [00:23<00:22, 56.62it/s]"
     ]
    },
    {
     "name": "stdout",
     "output_type": "stream",
     "text": [
      "Epoch 1230/2500, Loss: 0.0718\n",
      "Test Accuracy at Epoch 1230: 68.45%\n",
      "Test F1-score at Epoch 1230: 0.7088\n",
      "Classification Report at Epoch 1230:\n",
      "                  precision    recall  f1-score   support\n",
      "\n",
      "    infringement       0.68      0.63      0.66       160\n",
      "non_infringement       0.69      0.73      0.71       176\n",
      "\n",
      "        accuracy                           0.68       336\n",
      "       macro avg       0.68      0.68      0.68       336\n",
      "    weighted avg       0.68      0.68      0.68       336\n",
      "\n"
     ]
    },
    {
     "name": "stderr",
     "output_type": "stream",
     "text": [
      "Training Epochs:  50%|█████     | 1251/2500 [00:23<00:19, 62.49it/s]"
     ]
    },
    {
     "name": "stdout",
     "output_type": "stream",
     "text": [
      "Epoch 1240/2500, Loss: 0.0712\n",
      "Test Accuracy at Epoch 1240: 69.35%\n",
      "Test F1-score at Epoch 1240: 0.7193\n",
      "Classification Report at Epoch 1240:\n",
      "                  precision    recall  f1-score   support\n",
      "\n",
      "    infringement       0.70      0.63      0.66       160\n",
      "non_infringement       0.69      0.75      0.72       176\n",
      "\n",
      "        accuracy                           0.69       336\n",
      "       macro avg       0.69      0.69      0.69       336\n",
      "    weighted avg       0.69      0.69      0.69       336\n",
      "\n",
      "Epoch 1250/2500, Loss: 0.0721\n",
      "Test Accuracy at Epoch 1250: 69.35%\n",
      "Test F1-score at Epoch 1250: 0.7193\n",
      "Classification Report at Epoch 1250:\n",
      "                  precision    recall  f1-score   support\n",
      "\n",
      "    infringement       0.70      0.63      0.66       160\n",
      "non_infringement       0.69      0.75      0.72       176\n",
      "\n",
      "        accuracy                           0.69       336\n",
      "       macro avg       0.69      0.69      0.69       336\n",
      "    weighted avg       0.69      0.69      0.69       336\n",
      "\n"
     ]
    },
    {
     "name": "stderr",
     "output_type": "stream",
     "text": [
      "Training Epochs:  51%|█████     | 1272/2500 [00:23<00:19, 62.57it/s]"
     ]
    },
    {
     "name": "stdout",
     "output_type": "stream",
     "text": [
      "Epoch 1260/2500, Loss: 0.0720\n",
      "Test Accuracy at Epoch 1260: 69.35%\n",
      "Test F1-score at Epoch 1260: 0.7193\n",
      "Classification Report at Epoch 1260:\n",
      "                  precision    recall  f1-score   support\n",
      "\n",
      "    infringement       0.70      0.63      0.66       160\n",
      "non_infringement       0.69      0.75      0.72       176\n",
      "\n",
      "        accuracy                           0.69       336\n",
      "       macro avg       0.69      0.69      0.69       336\n",
      "    weighted avg       0.69      0.69      0.69       336\n",
      "\n",
      "Epoch 1270/2500, Loss: 0.0716\n",
      "Test Accuracy at Epoch 1270: 69.35%\n",
      "Test F1-score at Epoch 1270: 0.7193\n",
      "Classification Report at Epoch 1270:\n",
      "                  precision    recall  f1-score   support\n",
      "\n",
      "    infringement       0.70      0.63      0.66       160\n",
      "non_infringement       0.69      0.75      0.72       176\n",
      "\n",
      "        accuracy                           0.69       336\n",
      "       macro avg       0.69      0.69      0.69       336\n",
      "    weighted avg       0.69      0.69      0.69       336\n",
      "\n"
     ]
    },
    {
     "name": "stderr",
     "output_type": "stream",
     "text": [
      "Training Epochs:  51%|█████▏    | 1287/2500 [00:24<00:21, 57.26it/s]"
     ]
    },
    {
     "name": "stdout",
     "output_type": "stream",
     "text": [
      "Epoch 1280/2500, Loss: 0.0726\n",
      "Test Accuracy at Epoch 1280: 68.15%\n",
      "Test F1-score at Epoch 1280: 0.7052\n",
      "Classification Report at Epoch 1280:\n",
      "                  precision    recall  f1-score   support\n",
      "\n",
      "    infringement       0.68      0.63      0.65       160\n",
      "non_infringement       0.68      0.73      0.71       176\n",
      "\n",
      "        accuracy                           0.68       336\n",
      "       macro avg       0.68      0.68      0.68       336\n",
      "    weighted avg       0.68      0.68      0.68       336\n",
      "\n"
     ]
    },
    {
     "name": "stderr",
     "output_type": "stream",
     "text": [
      "Training Epochs:  52%|█████▏    | 1301/2500 [00:24<00:20, 59.18it/s]"
     ]
    },
    {
     "name": "stdout",
     "output_type": "stream",
     "text": [
      "Epoch 1290/2500, Loss: 0.0731\n",
      "Test Accuracy at Epoch 1290: 68.15%\n",
      "Test F1-score at Epoch 1290: 0.7052\n",
      "Classification Report at Epoch 1290:\n",
      "                  precision    recall  f1-score   support\n",
      "\n",
      "    infringement       0.68      0.63      0.65       160\n",
      "non_infringement       0.68      0.73      0.71       176\n",
      "\n",
      "        accuracy                           0.68       336\n",
      "       macro avg       0.68      0.68      0.68       336\n",
      "    weighted avg       0.68      0.68      0.68       336\n",
      "\n",
      "Epoch 1300/2500, Loss: 0.0722\n",
      "Test Accuracy at Epoch 1300: 69.35%\n",
      "Test F1-score at Epoch 1300: 0.7193\n",
      "Classification Report at Epoch 1300:\n",
      "                  precision    recall  f1-score   support\n",
      "\n",
      "    infringement       0.70      0.63      0.66       160\n",
      "non_infringement       0.69      0.75      0.72       176\n",
      "\n",
      "        accuracy                           0.69       336\n",
      "       macro avg       0.69      0.69      0.69       336\n",
      "    weighted avg       0.69      0.69      0.69       336\n",
      "\n"
     ]
    },
    {
     "name": "stderr",
     "output_type": "stream",
     "text": [
      "Training Epochs:  53%|█████▎    | 1323/2500 [00:24<00:19, 60.59it/s]"
     ]
    },
    {
     "name": "stdout",
     "output_type": "stream",
     "text": [
      "Epoch 1310/2500, Loss: 0.0716\n",
      "Test Accuracy at Epoch 1310: 69.35%\n",
      "Test F1-score at Epoch 1310: 0.7193\n",
      "Classification Report at Epoch 1310:\n",
      "                  precision    recall  f1-score   support\n",
      "\n",
      "    infringement       0.70      0.63      0.66       160\n",
      "non_infringement       0.69      0.75      0.72       176\n",
      "\n",
      "        accuracy                           0.69       336\n",
      "       macro avg       0.69      0.69      0.69       336\n",
      "    weighted avg       0.69      0.69      0.69       336\n",
      "\n",
      "Epoch 1320/2500, Loss: 0.0711\n",
      "Test Accuracy at Epoch 1320: 69.35%\n",
      "Test F1-score at Epoch 1320: 0.7193\n",
      "Classification Report at Epoch 1320:\n",
      "                  precision    recall  f1-score   support\n",
      "\n",
      "    infringement       0.70      0.63      0.66       160\n",
      "non_infringement       0.69      0.75      0.72       176\n",
      "\n",
      "        accuracy                           0.69       336\n",
      "       macro avg       0.69      0.69      0.69       336\n",
      "    weighted avg       0.69      0.69      0.69       336\n",
      "\n"
     ]
    },
    {
     "name": "stderr",
     "output_type": "stream",
     "text": [
      "Training Epochs:  54%|█████▎    | 1338/2500 [00:24<00:19, 59.03it/s]"
     ]
    },
    {
     "name": "stdout",
     "output_type": "stream",
     "text": [
      "Epoch 1330/2500, Loss: 0.0709\n",
      "Test Accuracy at Epoch 1330: 69.35%\n",
      "Test F1-score at Epoch 1330: 0.7193\n",
      "Classification Report at Epoch 1330:\n",
      "                  precision    recall  f1-score   support\n",
      "\n",
      "    infringement       0.70      0.63      0.66       160\n",
      "non_infringement       0.69      0.75      0.72       176\n",
      "\n",
      "        accuracy                           0.69       336\n",
      "       macro avg       0.69      0.69      0.69       336\n",
      "    weighted avg       0.69      0.69      0.69       336\n",
      "\n",
      "Epoch 1340/2500, Loss: 0.0712\n",
      "Test Accuracy at Epoch 1340: 69.35%\n",
      "Test F1-score at Epoch 1340: 0.7193\n",
      "Classification Report at Epoch 1340:\n",
      "                  precision    recall  f1-score   support\n",
      "\n",
      "    infringement       0.70      0.63      0.66       160\n",
      "non_infringement       0.69      0.75      0.72       176\n",
      "\n",
      "        accuracy                           0.69       336\n",
      "       macro avg       0.69      0.69      0.69       336\n",
      "    weighted avg       0.69      0.69      0.69       336\n",
      "\n"
     ]
    },
    {
     "name": "stderr",
     "output_type": "stream",
     "text": [
      "Training Epochs:  54%|█████▍    | 1360/2500 [00:25<00:19, 59.91it/s]"
     ]
    },
    {
     "name": "stdout",
     "output_type": "stream",
     "text": [
      "Epoch 1350/2500, Loss: 0.0722\n",
      "Test Accuracy at Epoch 1350: 69.05%\n",
      "Test F1-score at Epoch 1350: 0.7158\n",
      "Classification Report at Epoch 1350:\n",
      "                  precision    recall  f1-score   support\n",
      "\n",
      "    infringement       0.69      0.63      0.66       160\n",
      "non_infringement       0.69      0.74      0.72       176\n",
      "\n",
      "        accuracy                           0.69       336\n",
      "       macro avg       0.69      0.69      0.69       336\n",
      "    weighted avg       0.69      0.69      0.69       336\n",
      "\n",
      "Epoch 1360/2500, Loss: 0.0732\n",
      "Test Accuracy at Epoch 1360: 68.15%\n",
      "Test F1-score at Epoch 1360: 0.7052\n",
      "Classification Report at Epoch 1360:\n",
      "                  precision    recall  f1-score   support\n",
      "\n",
      "    infringement       0.68      0.63      0.65       160\n",
      "non_infringement       0.68      0.73      0.71       176\n",
      "\n",
      "        accuracy                           0.68       336\n",
      "       macro avg       0.68      0.68      0.68       336\n",
      "    weighted avg       0.68      0.68      0.68       336\n",
      "\n"
     ]
    },
    {
     "name": "stderr",
     "output_type": "stream",
     "text": [
      "Training Epochs:  55%|█████▌    | 1375/2500 [00:25<00:17, 65.49it/s]"
     ]
    },
    {
     "name": "stdout",
     "output_type": "stream",
     "text": [
      "Epoch 1370/2500, Loss: 0.0725\n",
      "Test Accuracy at Epoch 1370: 69.35%\n",
      "Test F1-score at Epoch 1370: 0.7193\n",
      "Classification Report at Epoch 1370:\n",
      "                  precision    recall  f1-score   support\n",
      "\n",
      "    infringement       0.70      0.63      0.66       160\n",
      "non_infringement       0.69      0.75      0.72       176\n",
      "\n",
      "        accuracy                           0.69       336\n",
      "       macro avg       0.69      0.69      0.69       336\n",
      "    weighted avg       0.69      0.69      0.69       336\n",
      "\n",
      "Epoch 1380/2500, Loss: 0.0715\n",
      "Test Accuracy at Epoch 1380: 69.35%\n",
      "Test F1-score at Epoch 1380: 0.7193\n"
     ]
    },
    {
     "name": "stderr",
     "output_type": "stream",
     "text": [
      "Training Epochs:  56%|█████▌    | 1390/2500 [00:25<00:18, 61.00it/s]"
     ]
    },
    {
     "name": "stdout",
     "output_type": "stream",
     "text": [
      "Classification Report at Epoch 1380:\n",
      "                  precision    recall  f1-score   support\n",
      "\n",
      "    infringement       0.70      0.63      0.66       160\n",
      "non_infringement       0.69      0.75      0.72       176\n",
      "\n",
      "        accuracy                           0.69       336\n",
      "       macro avg       0.69      0.69      0.69       336\n",
      "    weighted avg       0.69      0.69      0.69       336\n",
      "\n",
      "Epoch 1390/2500, Loss: 0.0709\n",
      "Test Accuracy at Epoch 1390: 69.35%\n",
      "Test F1-score at Epoch 1390: 0.7193\n",
      "Classification Report at Epoch 1390:\n",
      "                  precision    recall  f1-score   support\n",
      "\n",
      "    infringement       0.70      0.63      0.66       160\n",
      "non_infringement       0.69      0.75      0.72       176\n",
      "\n",
      "        accuracy                           0.69       336\n",
      "       macro avg       0.69      0.69      0.69       336\n",
      "    weighted avg       0.69      0.69      0.69       336\n",
      "\n"
     ]
    },
    {
     "name": "stderr",
     "output_type": "stream",
     "text": [
      "Training Epochs:  56%|█████▌    | 1405/2500 [00:26<00:18, 58.24it/s]"
     ]
    },
    {
     "name": "stdout",
     "output_type": "stream",
     "text": [
      "Epoch 1400/2500, Loss: 0.0706\n",
      "Test Accuracy at Epoch 1400: 69.64%\n",
      "Test F1-score at Epoch 1400: 0.7228\n",
      "Classification Report at Epoch 1400:\n",
      "                  precision    recall  f1-score   support\n",
      "\n",
      "    infringement       0.70      0.63      0.66       160\n",
      "non_infringement       0.69      0.76      0.72       176\n",
      "\n",
      "        accuracy                           0.70       336\n",
      "       macro avg       0.70      0.69      0.69       336\n",
      "    weighted avg       0.70      0.70      0.70       336\n",
      "\n",
      "Epoch 1410/2500, Loss: 0.0707\n",
      "Test Accuracy at Epoch 1410: 69.35%\n",
      "Test F1-score at Epoch 1410: 0.7193\n",
      "Classification Report at Epoch 1410:\n",
      "                  precision    recall  f1-score   support\n",
      "\n",
      "    infringement       0.70      0.63      0.66       160\n",
      "non_infringement       0.69      0.75      0.72       176\n",
      "\n",
      "        accuracy                           0.69       336\n",
      "       macro avg       0.69      0.69      0.69       336\n",
      "    weighted avg       0.69      0.69      0.69       336\n",
      "\n"
     ]
    },
    {
     "name": "stderr",
     "output_type": "stream",
     "text": [
      "Training Epochs:  57%|█████▋    | 1427/2500 [00:26<00:18, 56.65it/s]"
     ]
    },
    {
     "name": "stdout",
     "output_type": "stream",
     "text": [
      "Epoch 1420/2500, Loss: 0.0716\n",
      "Test Accuracy at Epoch 1420: 68.45%\n",
      "Test F1-score at Epoch 1420: 0.7088\n",
      "Classification Report at Epoch 1420:\n",
      "                  precision    recall  f1-score   support\n",
      "\n",
      "    infringement       0.68      0.63      0.66       160\n",
      "non_infringement       0.69      0.73      0.71       176\n",
      "\n",
      "        accuracy                           0.68       336\n",
      "       macro avg       0.68      0.68      0.68       336\n",
      "    weighted avg       0.68      0.68      0.68       336\n",
      "\n"
     ]
    },
    {
     "name": "stderr",
     "output_type": "stream",
     "text": [
      "Training Epochs:  58%|█████▊    | 1441/2500 [00:26<00:17, 60.84it/s]"
     ]
    },
    {
     "name": "stdout",
     "output_type": "stream",
     "text": [
      "Epoch 1430/2500, Loss: 0.0735\n",
      "Test Accuracy at Epoch 1430: 68.15%\n",
      "Test F1-score at Epoch 1430: 0.7052\n",
      "Classification Report at Epoch 1430:\n",
      "                  precision    recall  f1-score   support\n",
      "\n",
      "    infringement       0.68      0.63      0.65       160\n",
      "non_infringement       0.68      0.73      0.71       176\n",
      "\n",
      "        accuracy                           0.68       336\n",
      "       macro avg       0.68      0.68      0.68       336\n",
      "    weighted avg       0.68      0.68      0.68       336\n",
      "\n",
      "Epoch 1440/2500, Loss: 0.0730\n",
      "Test Accuracy at Epoch 1440: 68.15%\n",
      "Test F1-score at Epoch 1440: 0.7052\n",
      "Classification Report at Epoch 1440:\n",
      "                  precision    recall  f1-score   support\n",
      "\n",
      "    infringement       0.68      0.63      0.65       160\n",
      "non_infringement       0.68      0.73      0.71       176\n",
      "\n",
      "        accuracy                           0.68       336\n",
      "       macro avg       0.68      0.68      0.68       336\n",
      "    weighted avg       0.68      0.68      0.68       336\n",
      "\n"
     ]
    },
    {
     "name": "stderr",
     "output_type": "stream",
     "text": [
      "Training Epochs:  58%|█████▊    | 1462/2500 [00:26<00:16, 62.93it/s]"
     ]
    },
    {
     "name": "stdout",
     "output_type": "stream",
     "text": [
      "Epoch 1450/2500, Loss: 0.0712\n",
      "Test Accuracy at Epoch 1450: 69.35%\n",
      "Test F1-score at Epoch 1450: 0.7193\n",
      "Classification Report at Epoch 1450:\n",
      "                  precision    recall  f1-score   support\n",
      "\n",
      "    infringement       0.70      0.63      0.66       160\n",
      "non_infringement       0.69      0.75      0.72       176\n",
      "\n",
      "        accuracy                           0.69       336\n",
      "       macro avg       0.69      0.69      0.69       336\n",
      "    weighted avg       0.69      0.69      0.69       336\n",
      "\n",
      "Epoch 1460/2500, Loss: 0.0705\n",
      "Test Accuracy at Epoch 1460: 69.35%\n",
      "Test F1-score at Epoch 1460: 0.7193\n",
      "Classification Report at Epoch 1460:\n",
      "                  precision    recall  f1-score   support\n",
      "\n",
      "    infringement       0.70      0.63      0.66       160\n",
      "non_infringement       0.69      0.75      0.72       176\n",
      "\n",
      "        accuracy                           0.69       336\n",
      "       macro avg       0.69      0.69      0.69       336\n",
      "    weighted avg       0.69      0.69      0.69       336\n",
      "\n"
     ]
    },
    {
     "name": "stderr",
     "output_type": "stream",
     "text": [
      "Training Epochs:  59%|█████▉    | 1477/2500 [00:27<00:17, 58.07it/s]"
     ]
    },
    {
     "name": "stdout",
     "output_type": "stream",
     "text": [
      "Epoch 1470/2500, Loss: 0.0701\n",
      "Test Accuracy at Epoch 1470: 69.35%\n",
      "Test F1-score at Epoch 1470: 0.7209\n",
      "Classification Report at Epoch 1470:\n",
      "                  precision    recall  f1-score   support\n",
      "\n",
      "    infringement       0.70      0.62      0.66       160\n",
      "non_infringement       0.69      0.76      0.72       176\n",
      "\n",
      "        accuracy                           0.69       336\n",
      "       macro avg       0.69      0.69      0.69       336\n",
      "    weighted avg       0.69      0.69      0.69       336\n",
      "\n"
     ]
    },
    {
     "name": "stderr",
     "output_type": "stream",
     "text": [
      "Training Epochs:  60%|█████▉    | 1491/2500 [00:27<00:16, 61.84it/s]"
     ]
    },
    {
     "name": "stdout",
     "output_type": "stream",
     "text": [
      "Epoch 1480/2500, Loss: 0.0698\n",
      "Test Accuracy at Epoch 1480: 69.35%\n",
      "Test F1-score at Epoch 1480: 0.7209\n",
      "Classification Report at Epoch 1480:\n",
      "                  precision    recall  f1-score   support\n",
      "\n",
      "    infringement       0.70      0.62      0.66       160\n",
      "non_infringement       0.69      0.76      0.72       176\n",
      "\n",
      "        accuracy                           0.69       336\n",
      "       macro avg       0.69      0.69      0.69       336\n",
      "    weighted avg       0.69      0.69      0.69       336\n",
      "\n",
      "Epoch 1490/2500, Loss: 0.0704\n",
      "Test Accuracy at Epoch 1490: 69.35%\n",
      "Test F1-score at Epoch 1490: 0.7224\n",
      "Classification Report at Epoch 1490:\n",
      "                  precision    recall  f1-score   support\n",
      "\n",
      "    infringement       0.70      0.62      0.66       160\n",
      "non_infringement       0.69      0.76      0.72       176\n",
      "\n",
      "        accuracy                           0.69       336\n",
      "       macro avg       0.69      0.69      0.69       336\n",
      "    weighted avg       0.69      0.69      0.69       336\n",
      "\n"
     ]
    },
    {
     "name": "stderr",
     "output_type": "stream",
     "text": [
      "Training Epochs:  60%|██████    | 1512/2500 [00:27<00:16, 61.73it/s]"
     ]
    },
    {
     "name": "stdout",
     "output_type": "stream",
     "text": [
      "Epoch 1500/2500, Loss: 0.0730\n",
      "Test Accuracy at Epoch 1500: 68.75%\n",
      "Test F1-score at Epoch 1500: 0.7185\n",
      "Classification Report at Epoch 1500:\n",
      "                  precision    recall  f1-score   support\n",
      "\n",
      "    infringement       0.70      0.61      0.65       160\n",
      "non_infringement       0.68      0.76      0.72       176\n",
      "\n",
      "        accuracy                           0.69       336\n",
      "       macro avg       0.69      0.68      0.68       336\n",
      "    weighted avg       0.69      0.69      0.69       336\n",
      "\n",
      "Epoch 1510/2500, Loss: 0.0716\n",
      "Test Accuracy at Epoch 1510: 68.75%\n",
      "Test F1-score at Epoch 1510: 0.7185\n",
      "Classification Report at Epoch 1510:\n",
      "                  precision    recall  f1-score   support\n",
      "\n",
      "    infringement       0.70      0.61      0.65       160\n",
      "non_infringement       0.68      0.76      0.72       176\n",
      "\n",
      "        accuracy                           0.69       336\n",
      "       macro avg       0.69      0.68      0.68       336\n",
      "    weighted avg       0.69      0.69      0.69       336\n",
      "\n"
     ]
    },
    {
     "name": "stderr",
     "output_type": "stream",
     "text": [
      "Training Epochs:  61%|██████    | 1527/2500 [00:28<00:16, 58.14it/s]"
     ]
    },
    {
     "name": "stdout",
     "output_type": "stream",
     "text": [
      "Epoch 1520/2500, Loss: 0.0698\n",
      "Test Accuracy at Epoch 1520: 69.05%\n",
      "Test F1-score at Epoch 1520: 0.7204\n",
      "Classification Report at Epoch 1520:\n",
      "                  precision    recall  f1-score   support\n",
      "\n",
      "    infringement       0.70      0.61      0.65       160\n",
      "non_infringement       0.68      0.76      0.72       176\n",
      "\n",
      "        accuracy                           0.69       336\n",
      "       macro avg       0.69      0.69      0.69       336\n",
      "    weighted avg       0.69      0.69      0.69       336\n",
      "\n"
     ]
    },
    {
     "name": "stderr",
     "output_type": "stream",
     "text": [
      "Training Epochs:  62%|██████▏   | 1541/2500 [00:28<00:15, 60.32it/s]"
     ]
    },
    {
     "name": "stdout",
     "output_type": "stream",
     "text": [
      "Epoch 1530/2500, Loss: 0.0696\n",
      "Test Accuracy at Epoch 1530: 69.05%\n",
      "Test F1-score at Epoch 1530: 0.7204\n",
      "Classification Report at Epoch 1530:\n",
      "                  precision    recall  f1-score   support\n",
      "\n",
      "    infringement       0.70      0.61      0.65       160\n",
      "non_infringement       0.68      0.76      0.72       176\n",
      "\n",
      "        accuracy                           0.69       336\n",
      "       macro avg       0.69      0.69      0.69       336\n",
      "    weighted avg       0.69      0.69      0.69       336\n",
      "\n",
      "Epoch 1540/2500, Loss: 0.0698\n",
      "Test Accuracy at Epoch 1540: 69.35%\n",
      "Test F1-score at Epoch 1540: 0.7224\n",
      "Classification Report at Epoch 1540:\n",
      "                  precision    recall  f1-score   support\n",
      "\n",
      "    infringement       0.70      0.62      0.66       160\n",
      "non_infringement       0.69      0.76      0.72       176\n",
      "\n",
      "        accuracy                           0.69       336\n",
      "       macro avg       0.69      0.69      0.69       336\n",
      "    weighted avg       0.69      0.69      0.69       336\n",
      "\n"
     ]
    },
    {
     "name": "stderr",
     "output_type": "stream",
     "text": [
      "Training Epochs:  62%|██████▏   | 1562/2500 [00:28<00:15, 60.25it/s]"
     ]
    },
    {
     "name": "stdout",
     "output_type": "stream",
     "text": [
      "Epoch 1550/2500, Loss: 0.0696\n",
      "Test Accuracy at Epoch 1550: 69.05%\n",
      "Test F1-score at Epoch 1550: 0.7204\n",
      "Classification Report at Epoch 1550:\n",
      "                  precision    recall  f1-score   support\n",
      "\n",
      "    infringement       0.70      0.61      0.65       160\n",
      "non_infringement       0.68      0.76      0.72       176\n",
      "\n",
      "        accuracy                           0.69       336\n",
      "       macro avg       0.69      0.69      0.69       336\n",
      "    weighted avg       0.69      0.69      0.69       336\n",
      "\n",
      "Epoch 1560/2500, Loss: 0.0707\n",
      "Test Accuracy at Epoch 1560: 68.75%\n",
      "Test F1-score at Epoch 1560: 0.7185\n",
      "Classification Report at Epoch 1560:\n",
      "                  precision    recall  f1-score   support\n",
      "\n",
      "    infringement       0.70      0.61      0.65       160\n",
      "non_infringement       0.68      0.76      0.72       176\n",
      "\n",
      "        accuracy                           0.69       336\n",
      "       macro avg       0.69      0.68      0.68       336\n",
      "    weighted avg       0.69      0.69      0.69       336\n",
      "\n"
     ]
    },
    {
     "name": "stderr",
     "output_type": "stream",
     "text": [
      "Training Epochs:  63%|██████▎   | 1583/2500 [00:29<00:15, 60.96it/s]"
     ]
    },
    {
     "name": "stdout",
     "output_type": "stream",
     "text": [
      "Epoch 1570/2500, Loss: 0.0696\n",
      "Test Accuracy at Epoch 1570: 69.35%\n",
      "Test F1-score at Epoch 1570: 0.7224\n",
      "Classification Report at Epoch 1570:\n",
      "                  precision    recall  f1-score   support\n",
      "\n",
      "    infringement       0.70      0.62      0.66       160\n",
      "non_infringement       0.69      0.76      0.72       176\n",
      "\n",
      "        accuracy                           0.69       336\n",
      "       macro avg       0.69      0.69      0.69       336\n",
      "    weighted avg       0.69      0.69      0.69       336\n",
      "\n",
      "Epoch 1580/2500, Loss: 0.0696\n",
      "Test Accuracy at Epoch 1580: 69.35%\n",
      "Test F1-score at Epoch 1580: 0.7224\n",
      "Classification Report at Epoch 1580:\n",
      "                  precision    recall  f1-score   support\n",
      "\n",
      "    infringement       0.70      0.62      0.66       160\n",
      "non_infringement       0.69      0.76      0.72       176\n",
      "\n",
      "        accuracy                           0.69       336\n",
      "       macro avg       0.69      0.69      0.69       336\n",
      "    weighted avg       0.69      0.69      0.69       336\n",
      "\n"
     ]
    },
    {
     "name": "stderr",
     "output_type": "stream",
     "text": [
      "Training Epochs:  64%|██████▍   | 1597/2500 [00:29<00:15, 59.73it/s]"
     ]
    },
    {
     "name": "stdout",
     "output_type": "stream",
     "text": [
      "Epoch 1590/2500, Loss: 0.0711\n",
      "Test Accuracy at Epoch 1590: 69.94%\n",
      "Test F1-score at Epoch 1590: 0.7263\n",
      "Classification Report at Epoch 1590:\n",
      "                  precision    recall  f1-score   support\n",
      "\n",
      "    infringement       0.71      0.63      0.67       160\n",
      "non_infringement       0.69      0.76      0.73       176\n",
      "\n",
      "        accuracy                           0.70       336\n",
      "       macro avg       0.70      0.70      0.70       336\n",
      "    weighted avg       0.70      0.70      0.70       336\n",
      "\n",
      "Epoch 1600/2500, Loss: 0.0701\n",
      "Test Accuracy at Epoch 1600: 69.35%\n",
      "Test F1-score at Epoch 1600: 0.7224\n",
      "Classification Report at Epoch 1600:\n",
      "                  precision    recall  f1-score   support\n",
      "\n",
      "    infringement       0.70      0.62      0.66       160\n",
      "non_infringement       0.69      0.76      0.72       176\n",
      "\n",
      "        accuracy                           0.69       336\n",
      "       macro avg       0.69      0.69      0.69       336\n",
      "    weighted avg       0.69      0.69      0.69       336\n",
      "\n"
     ]
    },
    {
     "name": "stderr",
     "output_type": "stream",
     "text": [
      "Training Epochs:  65%|██████▍   | 1618/2500 [00:29<00:15, 57.70it/s]"
     ]
    },
    {
     "name": "stdout",
     "output_type": "stream",
     "text": [
      "Epoch 1610/2500, Loss: 0.0722\n",
      "Test Accuracy at Epoch 1610: 69.05%\n",
      "Test F1-score at Epoch 1610: 0.7189\n",
      "Classification Report at Epoch 1610:\n",
      "                  precision    recall  f1-score   support\n",
      "\n",
      "    infringement       0.70      0.62      0.66       160\n",
      "non_infringement       0.69      0.76      0.72       176\n",
      "\n",
      "        accuracy                           0.69       336\n",
      "       macro avg       0.69      0.69      0.69       336\n",
      "    weighted avg       0.69      0.69      0.69       336\n",
      "\n",
      "Epoch 1620/2500, Loss: 0.0703\n"
     ]
    },
    {
     "name": "stderr",
     "output_type": "stream",
     "text": [
      "Training Epochs:  65%|██████▌   | 1632/2500 [00:29<00:13, 62.84it/s]"
     ]
    },
    {
     "name": "stdout",
     "output_type": "stream",
     "text": [
      "Test Accuracy at Epoch 1620: 69.64%\n",
      "Test F1-score at Epoch 1620: 0.7213\n",
      "Classification Report at Epoch 1620:\n",
      "                  precision    recall  f1-score   support\n",
      "\n",
      "    infringement       0.70      0.64      0.67       160\n",
      "non_infringement       0.69      0.75      0.72       176\n",
      "\n",
      "        accuracy                           0.70       336\n",
      "       macro avg       0.70      0.69      0.69       336\n",
      "    weighted avg       0.70      0.70      0.70       336\n",
      "\n",
      "Epoch 1630/2500, Loss: 0.0696\n",
      "Test Accuracy at Epoch 1630: 69.35%\n",
      "Test F1-score at Epoch 1630: 0.7224\n",
      "Classification Report at Epoch 1630:\n",
      "                  precision    recall  f1-score   support\n",
      "\n",
      "    infringement       0.70      0.62      0.66       160\n",
      "non_infringement       0.69      0.76      0.72       176\n",
      "\n",
      "        accuracy                           0.69       336\n",
      "       macro avg       0.69      0.69      0.69       336\n",
      "    weighted avg       0.69      0.69      0.69       336\n",
      "\n"
     ]
    },
    {
     "name": "stderr",
     "output_type": "stream",
     "text": [
      "Training Epochs:  66%|██████▌   | 1647/2500 [00:30<00:13, 61.02it/s]"
     ]
    },
    {
     "name": "stdout",
     "output_type": "stream",
     "text": [
      "Epoch 1640/2500, Loss: 0.0698\n",
      "Test Accuracy at Epoch 1640: 69.05%\n",
      "Test F1-score at Epoch 1640: 0.7174\n",
      "Classification Report at Epoch 1640:\n",
      "                  precision    recall  f1-score   support\n",
      "\n",
      "    infringement       0.69      0.62      0.66       160\n",
      "non_infringement       0.69      0.75      0.72       176\n",
      "\n",
      "        accuracy                           0.69       336\n",
      "       macro avg       0.69      0.69      0.69       336\n",
      "    weighted avg       0.69      0.69      0.69       336\n",
      "\n",
      "Epoch 1650/2500, Loss: 0.0695\n",
      "Test Accuracy at Epoch 1650: 69.05%\n",
      "Test F1-score at Epoch 1650: 0.7204\n",
      "Classification Report at Epoch 1650:\n",
      "                  precision    recall  f1-score   support\n",
      "\n",
      "    infringement       0.70      0.61      0.65       160\n",
      "non_infringement       0.68      0.76      0.72       176\n",
      "\n",
      "        accuracy                           0.69       336\n",
      "       macro avg       0.69      0.69      0.69       336\n",
      "    weighted avg       0.69      0.69      0.69       336\n",
      "\n"
     ]
    },
    {
     "name": "stderr",
     "output_type": "stream",
     "text": [
      "Training Epochs:  67%|██████▋   | 1668/2500 [00:30<00:15, 54.68it/s]"
     ]
    },
    {
     "name": "stdout",
     "output_type": "stream",
     "text": [
      "Epoch 1660/2500, Loss: 0.0702\n",
      "Test Accuracy at Epoch 1660: 69.05%\n",
      "Test F1-score at Epoch 1660: 0.7204\n",
      "Classification Report at Epoch 1660:\n",
      "                  precision    recall  f1-score   support\n",
      "\n",
      "    infringement       0.70      0.61      0.65       160\n",
      "non_infringement       0.68      0.76      0.72       176\n",
      "\n",
      "        accuracy                           0.69       336\n",
      "       macro avg       0.69      0.69      0.69       336\n",
      "    weighted avg       0.69      0.69      0.69       336\n",
      "\n"
     ]
    },
    {
     "name": "stderr",
     "output_type": "stream",
     "text": [
      "Training Epochs:  67%|██████▋   | 1674/2500 [00:30<00:15, 53.66it/s]"
     ]
    },
    {
     "name": "stdout",
     "output_type": "stream",
     "text": [
      "Epoch 1670/2500, Loss: 0.0698\n",
      "Test Accuracy at Epoch 1670: 69.05%\n",
      "Test F1-score at Epoch 1670: 0.7204\n",
      "Classification Report at Epoch 1670:\n",
      "                  precision    recall  f1-score   support\n",
      "\n",
      "    infringement       0.70      0.61      0.65       160\n",
      "non_infringement       0.68      0.76      0.72       176\n",
      "\n",
      "        accuracy                           0.69       336\n",
      "       macro avg       0.69      0.69      0.69       336\n",
      "    weighted avg       0.69      0.69      0.69       336\n",
      "\n",
      "Epoch 1680/2500, Loss: 0.0740\n",
      "Test Accuracy at Epoch 1680: 69.05%\n",
      "Test F1-score at Epoch 1680: 0.7204\n"
     ]
    },
    {
     "name": "stderr",
     "output_type": "stream",
     "text": [
      "Training Epochs:  67%|██████▋   | 1680/2500 [00:30<00:15, 53.35it/s]"
     ]
    },
    {
     "name": "stdout",
     "output_type": "stream",
     "text": [
      "Classification Report at Epoch 1680:\n",
      "                  precision    recall  f1-score   support\n",
      "\n",
      "    infringement       0.70      0.61      0.65       160\n",
      "non_infringement       0.68      0.76      0.72       176\n",
      "\n",
      "        accuracy                           0.69       336\n",
      "       macro avg       0.69      0.69      0.69       336\n",
      "    weighted avg       0.69      0.69      0.69       336\n",
      "\n"
     ]
    },
    {
     "name": "stderr",
     "output_type": "stream",
     "text": [
      "Training Epochs:  68%|██████▊   | 1691/2500 [00:31<00:22, 35.69it/s]"
     ]
    },
    {
     "name": "stdout",
     "output_type": "stream",
     "text": [
      "Epoch 1690/2500, Loss: 0.0809\n",
      "Test Accuracy at Epoch 1690: 69.05%\n",
      "Test F1-score at Epoch 1690: 0.7219\n",
      "Classification Report at Epoch 1690:\n",
      "                  precision    recall  f1-score   support\n",
      "\n",
      "    infringement       0.70      0.61      0.65       160\n",
      "non_infringement       0.68      0.77      0.72       176\n",
      "\n",
      "        accuracy                           0.69       336\n",
      "       macro avg       0.69      0.69      0.69       336\n",
      "    weighted avg       0.69      0.69      0.69       336\n",
      "\n"
     ]
    },
    {
     "name": "stderr",
     "output_type": "stream",
     "text": [
      "Training Epochs:  68%|██████▊   | 1703/2500 [00:31<00:33, 23.54it/s]"
     ]
    },
    {
     "name": "stdout",
     "output_type": "stream",
     "text": [
      "Epoch 1700/2500, Loss: 0.0725\n",
      "Test Accuracy at Epoch 1700: 68.75%\n",
      "Test F1-score at Epoch 1700: 0.7170\n",
      "Classification Report at Epoch 1700:\n",
      "                  precision    recall  f1-score   support\n",
      "\n",
      "    infringement       0.70      0.61      0.65       160\n",
      "non_infringement       0.68      0.76      0.72       176\n",
      "\n",
      "        accuracy                           0.69       336\n",
      "       macro avg       0.69      0.68      0.68       336\n",
      "    weighted avg       0.69      0.69      0.69       336\n",
      "\n"
     ]
    },
    {
     "name": "stderr",
     "output_type": "stream",
     "text": [
      "Training Epochs:  68%|██████▊   | 1712/2500 [00:32<00:48, 16.29it/s]"
     ]
    },
    {
     "name": "stdout",
     "output_type": "stream",
     "text": [
      "Epoch 1710/2500, Loss: 0.0705\n",
      "Test Accuracy at Epoch 1710: 69.05%\n",
      "Test F1-score at Epoch 1710: 0.7204\n",
      "Classification Report at Epoch 1710:\n",
      "                  precision    recall  f1-score   support\n",
      "\n",
      "    infringement       0.70      0.61      0.65       160\n",
      "non_infringement       0.68      0.76      0.72       176\n",
      "\n",
      "        accuracy                           0.69       336\n",
      "       macro avg       0.69      0.69      0.69       336\n",
      "    weighted avg       0.69      0.69      0.69       336\n",
      "\n"
     ]
    },
    {
     "name": "stderr",
     "output_type": "stream",
     "text": [
      "Training Epochs:  69%|██████▉   | 1721/2500 [00:32<00:47, 16.43it/s]"
     ]
    },
    {
     "name": "stdout",
     "output_type": "stream",
     "text": [
      "Epoch 1720/2500, Loss: 0.0730\n",
      "Test Accuracy at Epoch 1720: 69.05%\n",
      "Test F1-score at Epoch 1720: 0.7174\n",
      "Classification Report at Epoch 1720:\n",
      "                  precision    recall  f1-score   support\n",
      "\n",
      "    infringement       0.69      0.62      0.66       160\n",
      "non_infringement       0.69      0.75      0.72       176\n",
      "\n",
      "        accuracy                           0.69       336\n",
      "       macro avg       0.69      0.69      0.69       336\n",
      "    weighted avg       0.69      0.69      0.69       336\n",
      "\n"
     ]
    },
    {
     "name": "stderr",
     "output_type": "stream",
     "text": [
      "Training Epochs:  69%|██████▉   | 1732/2500 [00:33<00:38, 20.14it/s]"
     ]
    },
    {
     "name": "stdout",
     "output_type": "stream",
     "text": [
      "Epoch 1730/2500, Loss: 0.0714\n",
      "Test Accuracy at Epoch 1730: 69.35%\n",
      "Test F1-score at Epoch 1730: 0.7224\n",
      "Classification Report at Epoch 1730:\n",
      "                  precision    recall  f1-score   support\n",
      "\n",
      "    infringement       0.70      0.62      0.66       160\n",
      "non_infringement       0.69      0.76      0.72       176\n",
      "\n",
      "        accuracy                           0.69       336\n",
      "       macro avg       0.69      0.69      0.69       336\n",
      "    weighted avg       0.69      0.69      0.69       336\n",
      "\n"
     ]
    },
    {
     "name": "stderr",
     "output_type": "stream",
     "text": [
      "Training Epochs:  70%|██████▉   | 1741/2500 [00:34<00:42, 17.96it/s]"
     ]
    },
    {
     "name": "stdout",
     "output_type": "stream",
     "text": [
      "Epoch 1740/2500, Loss: 0.0756\n",
      "Test Accuracy at Epoch 1740: 69.35%\n",
      "Test F1-score at Epoch 1740: 0.7193\n",
      "Classification Report at Epoch 1740:\n",
      "                  precision    recall  f1-score   support\n",
      "\n",
      "    infringement       0.70      0.63      0.66       160\n",
      "non_infringement       0.69      0.75      0.72       176\n",
      "\n",
      "        accuracy                           0.69       336\n",
      "       macro avg       0.69      0.69      0.69       336\n",
      "    weighted avg       0.69      0.69      0.69       336\n",
      "\n"
     ]
    },
    {
     "name": "stderr",
     "output_type": "stream",
     "text": [
      "Training Epochs:  70%|███████   | 1754/2500 [00:34<00:43, 17.20it/s]"
     ]
    },
    {
     "name": "stdout",
     "output_type": "stream",
     "text": [
      "Epoch 1750/2500, Loss: 0.0713\n",
      "Test Accuracy at Epoch 1750: 69.05%\n",
      "Test F1-score at Epoch 1750: 0.7204\n",
      "Classification Report at Epoch 1750:\n",
      "                  precision    recall  f1-score   support\n",
      "\n",
      "    infringement       0.70      0.61      0.65       160\n",
      "non_infringement       0.68      0.76      0.72       176\n",
      "\n",
      "        accuracy                           0.69       336\n",
      "       macro avg       0.69      0.69      0.69       336\n",
      "    weighted avg       0.69      0.69      0.69       336\n",
      "\n"
     ]
    },
    {
     "name": "stderr",
     "output_type": "stream",
     "text": [
      "Training Epochs:  71%|███████   | 1768/2500 [00:35<00:23, 31.72it/s]"
     ]
    },
    {
     "name": "stdout",
     "output_type": "stream",
     "text": [
      "Epoch 1760/2500, Loss: 0.0708\n",
      "Test Accuracy at Epoch 1760: 69.05%\n",
      "Test F1-score at Epoch 1760: 0.7219\n",
      "Classification Report at Epoch 1760:\n",
      "                  precision    recall  f1-score   support\n",
      "\n",
      "    infringement       0.70      0.61      0.65       160\n",
      "non_infringement       0.68      0.77      0.72       176\n",
      "\n",
      "        accuracy                           0.69       336\n",
      "       macro avg       0.69      0.69      0.69       336\n",
      "    weighted avg       0.69      0.69      0.69       336\n",
      "\n"
     ]
    },
    {
     "name": "stderr",
     "output_type": "stream",
     "text": [
      "Training Epochs:  71%|███████   | 1780/2500 [00:35<00:15, 45.25it/s]"
     ]
    },
    {
     "name": "stdout",
     "output_type": "stream",
     "text": [
      "Epoch 1770/2500, Loss: 0.0733\n",
      "Test Accuracy at Epoch 1770: 69.94%\n",
      "Test F1-score at Epoch 1770: 0.7233\n",
      "Classification Report at Epoch 1770:\n",
      "                  precision    recall  f1-score   support\n",
      "\n",
      "    infringement       0.70      0.64      0.67       160\n",
      "non_infringement       0.70      0.75      0.72       176\n",
      "\n",
      "        accuracy                           0.70       336\n",
      "       macro avg       0.70      0.70      0.70       336\n",
      "    weighted avg       0.70      0.70      0.70       336\n",
      "\n",
      "Epoch 1780/2500, Loss: 0.0708\n",
      "Test Accuracy at Epoch 1780: 68.75%\n",
      "Test F1-score at Epoch 1780: 0.7185\n",
      "Classification Report at Epoch 1780:\n",
      "                  precision    recall  f1-score   support\n",
      "\n",
      "    infringement       0.70      0.61      0.65       160\n",
      "non_infringement       0.68      0.76      0.72       176\n",
      "\n",
      "        accuracy                           0.69       336\n",
      "       macro avg       0.69      0.68      0.68       336\n",
      "    weighted avg       0.69      0.69      0.69       336\n",
      "\n"
     ]
    },
    {
     "name": "stderr",
     "output_type": "stream",
     "text": [
      "Training Epochs:  72%|███████▏  | 1794/2500 [00:35<00:14, 47.53it/s]"
     ]
    },
    {
     "name": "stdout",
     "output_type": "stream",
     "text": [
      "Epoch 1790/2500, Loss: 0.0709\n",
      "Test Accuracy at Epoch 1790: 69.35%\n",
      "Test F1-score at Epoch 1790: 0.7193\n",
      "Classification Report at Epoch 1790:\n",
      "                  precision    recall  f1-score   support\n",
      "\n",
      "    infringement       0.70      0.63      0.66       160\n",
      "non_infringement       0.69      0.75      0.72       176\n",
      "\n",
      "        accuracy                           0.69       336\n",
      "       macro avg       0.69      0.69      0.69       336\n",
      "    weighted avg       0.69      0.69      0.69       336\n",
      "\n"
     ]
    },
    {
     "name": "stderr",
     "output_type": "stream",
     "text": [
      "Training Epochs:  72%|███████▏  | 1808/2500 [00:35<00:12, 55.92it/s]"
     ]
    },
    {
     "name": "stdout",
     "output_type": "stream",
     "text": [
      "Epoch 1800/2500, Loss: 0.0695\n",
      "Test Accuracy at Epoch 1800: 69.05%\n",
      "Test F1-score at Epoch 1800: 0.7204\n",
      "Classification Report at Epoch 1800:\n",
      "                  precision    recall  f1-score   support\n",
      "\n",
      "    infringement       0.70      0.61      0.65       160\n",
      "non_infringement       0.68      0.76      0.72       176\n",
      "\n",
      "        accuracy                           0.69       336\n",
      "       macro avg       0.69      0.69      0.69       336\n",
      "    weighted avg       0.69      0.69      0.69       336\n",
      "\n",
      "Epoch 1810/2500, Loss: 0.0706\n",
      "Test Accuracy at Epoch 1810: 69.05%\n",
      "Test F1-score at Epoch 1810: 0.7174\n",
      "Classification Report at Epoch 1810:\n",
      "                  precision    recall  f1-score   support\n",
      "\n",
      "    infringement       0.69      0.62      0.66       160\n",
      "non_infringement       0.69      0.75      0.72       176\n",
      "\n",
      "        accuracy                           0.69       336\n",
      "       macro avg       0.69      0.69      0.69       336\n",
      "    weighted avg       0.69      0.69      0.69       336\n",
      "\n"
     ]
    },
    {
     "name": "stderr",
     "output_type": "stream",
     "text": [
      "Training Epochs:  73%|███████▎  | 1827/2500 [00:36<00:12, 54.47it/s]"
     ]
    },
    {
     "name": "stdout",
     "output_type": "stream",
     "text": [
      "Epoch 1820/2500, Loss: 0.0711\n",
      "Test Accuracy at Epoch 1820: 69.05%\n",
      "Test F1-score at Epoch 1820: 0.7174\n",
      "Classification Report at Epoch 1820:\n",
      "                  precision    recall  f1-score   support\n",
      "\n",
      "    infringement       0.69      0.62      0.66       160\n",
      "non_infringement       0.69      0.75      0.72       176\n",
      "\n",
      "        accuracy                           0.69       336\n",
      "       macro avg       0.69      0.69      0.69       336\n",
      "    weighted avg       0.69      0.69      0.69       336\n",
      "\n",
      "Epoch 1830/2500, Loss: 0.0722\n",
      "Test Accuracy at Epoch 1830: 69.35%\n",
      "Test F1-score at Epoch 1830: 0.7193\n",
      "Classification Report at Epoch 1830:\n",
      "                  precision    recall  f1-score   support\n",
      "\n",
      "    infringement       0.70      0.63      0.66       160\n",
      "non_infringement       0.69      0.75      0.72       176\n",
      "\n",
      "        accuracy                           0.69       336\n",
      "       macro avg       0.69      0.69      0.69       336\n",
      "    weighted avg       0.69      0.69      0.69       336\n",
      "\n"
     ]
    },
    {
     "name": "stderr",
     "output_type": "stream",
     "text": [
      "Training Epochs:  74%|███████▍  | 1848/2500 [00:36<00:10, 60.34it/s]"
     ]
    },
    {
     "name": "stdout",
     "output_type": "stream",
     "text": [
      "Epoch 1840/2500, Loss: 0.0719\n",
      "Test Accuracy at Epoch 1840: 68.75%\n",
      "Test F1-score at Epoch 1840: 0.7185\n",
      "Classification Report at Epoch 1840:\n",
      "                  precision    recall  f1-score   support\n",
      "\n",
      "    infringement       0.70      0.61      0.65       160\n",
      "non_infringement       0.68      0.76      0.72       176\n",
      "\n",
      "        accuracy                           0.69       336\n",
      "       macro avg       0.69      0.68      0.68       336\n",
      "    weighted avg       0.69      0.69      0.69       336\n",
      "\n",
      "Epoch 1850/2500, Loss: 0.0698\n",
      "Test Accuracy at Epoch 1850: 69.64%\n",
      "Test F1-score at Epoch 1850: 0.7213\n",
      "Classification Report at Epoch 1850:\n",
      "                  precision    recall  f1-score   support\n",
      "\n",
      "    infringement       0.70      0.64      0.67       160\n",
      "non_infringement       0.69      0.75      0.72       176\n",
      "\n",
      "        accuracy                           0.70       336\n",
      "       macro avg       0.70      0.69      0.69       336\n",
      "    weighted avg       0.70      0.70      0.70       336\n",
      "\n"
     ]
    },
    {
     "name": "stderr",
     "output_type": "stream",
     "text": [
      "Training Epochs:  75%|███████▍  | 1869/2500 [00:36<00:11, 57.35it/s]"
     ]
    },
    {
     "name": "stdout",
     "output_type": "stream",
     "text": [
      "Epoch 1860/2500, Loss: 0.0704\n",
      "Test Accuracy at Epoch 1860: 69.35%\n",
      "Test F1-score at Epoch 1860: 0.7224\n",
      "Classification Report at Epoch 1860:\n",
      "                  precision    recall  f1-score   support\n",
      "\n",
      "    infringement       0.70      0.62      0.66       160\n",
      "non_infringement       0.69      0.76      0.72       176\n",
      "\n",
      "        accuracy                           0.69       336\n",
      "       macro avg       0.69      0.69      0.69       336\n",
      "    weighted avg       0.69      0.69      0.69       336\n",
      "\n",
      "Epoch 1870/2500, Loss: 0.0775\n",
      "Test Accuracy at Epoch 1870: 69.05%\n",
      "Test F1-score at Epoch 1870: 0.7143\n",
      "Classification Report at Epoch 1870:\n",
      "                  precision    recall  f1-score   support\n",
      "\n",
      "    infringement       0.69      0.64      0.66       160\n",
      "non_infringement       0.69      0.74      0.71       176\n",
      "\n",
      "        accuracy                           0.69       336\n",
      "       macro avg       0.69      0.69      0.69       336\n",
      "    weighted avg       0.69      0.69      0.69       336\n",
      "\n"
     ]
    },
    {
     "name": "stderr",
     "output_type": "stream",
     "text": [
      "Training Epochs:  76%|███████▌  | 1889/2500 [00:37<00:11, 52.83it/s]"
     ]
    },
    {
     "name": "stdout",
     "output_type": "stream",
     "text": [
      "Epoch 1880/2500, Loss: 0.0696\n",
      "Test Accuracy at Epoch 1880: 69.05%\n",
      "Test F1-score at Epoch 1880: 0.7158\n",
      "Classification Report at Epoch 1880:\n",
      "                  precision    recall  f1-score   support\n",
      "\n",
      "    infringement       0.69      0.63      0.66       160\n",
      "non_infringement       0.69      0.74      0.72       176\n",
      "\n",
      "        accuracy                           0.69       336\n",
      "       macro avg       0.69      0.69      0.69       336\n",
      "    weighted avg       0.69      0.69      0.69       336\n",
      "\n",
      "Epoch 1890/2500, Loss: 0.0725\n",
      "Test Accuracy at Epoch 1890: 68.75%\n",
      "Test F1-score at Epoch 1890: 0.7185\n",
      "Classification Report at Epoch 1890:\n",
      "                  precision    recall  f1-score   support\n",
      "\n",
      "    infringement       0.70      0.61      0.65       160\n",
      "non_infringement       0.68      0.76      0.72       176\n",
      "\n",
      "        accuracy                           0.69       336\n",
      "       macro avg       0.69      0.68      0.68       336\n",
      "    weighted avg       0.69      0.69      0.69       336\n",
      "\n"
     ]
    },
    {
     "name": "stderr",
     "output_type": "stream",
     "text": [
      "Training Epochs:  76%|███████▋  | 1908/2500 [00:37<00:11, 51.98it/s]"
     ]
    },
    {
     "name": "stdout",
     "output_type": "stream",
     "text": [
      "Epoch 1900/2500, Loss: 0.0754\n",
      "Test Accuracy at Epoch 1900: 69.05%\n",
      "Test F1-score at Epoch 1900: 0.7174\n",
      "Classification Report at Epoch 1900:\n",
      "                  precision    recall  f1-score   support\n",
      "\n",
      "    infringement       0.69      0.62      0.66       160\n",
      "non_infringement       0.69      0.75      0.72       176\n",
      "\n",
      "        accuracy                           0.69       336\n",
      "       macro avg       0.69      0.69      0.69       336\n",
      "    weighted avg       0.69      0.69      0.69       336\n",
      "\n",
      "Epoch 1910/2500, Loss: 0.0714\n",
      "Test Accuracy at Epoch 1910: 69.05%\n",
      "Test F1-score at Epoch 1910: 0.7204\n",
      "Classification Report at Epoch 1910:\n",
      "                  precision    recall  f1-score   support\n",
      "\n",
      "    infringement       0.70      0.61      0.65       160\n",
      "non_infringement       0.68      0.76      0.72       176\n",
      "\n",
      "        accuracy                           0.69       336\n",
      "       macro avg       0.69      0.69      0.69       336\n",
      "    weighted avg       0.69      0.69      0.69       336\n",
      "\n"
     ]
    },
    {
     "name": "stderr",
     "output_type": "stream",
     "text": [
      "Training Epochs:  77%|███████▋  | 1927/2500 [00:38<00:11, 51.20it/s]"
     ]
    },
    {
     "name": "stdout",
     "output_type": "stream",
     "text": [
      "Epoch 1920/2500, Loss: 0.0735\n",
      "Test Accuracy at Epoch 1920: 69.05%\n",
      "Test F1-score at Epoch 1920: 0.7158\n",
      "Classification Report at Epoch 1920:\n",
      "                  precision    recall  f1-score   support\n",
      "\n",
      "    infringement       0.69      0.63      0.66       160\n",
      "non_infringement       0.69      0.74      0.72       176\n",
      "\n",
      "        accuracy                           0.69       336\n",
      "       macro avg       0.69      0.69      0.69       336\n",
      "    weighted avg       0.69      0.69      0.69       336\n",
      "\n",
      "Epoch 1930/2500, Loss: 0.0729\n",
      "Test Accuracy at Epoch 1930: 68.75%\n",
      "Test F1-score at Epoch 1930: 0.7185\n",
      "Classification Report at Epoch 1930:\n",
      "                  precision    recall  f1-score   support\n",
      "\n",
      "    infringement       0.70      0.61      0.65       160\n",
      "non_infringement       0.68      0.76      0.72       176\n",
      "\n",
      "        accuracy                           0.69       336\n",
      "       macro avg       0.69      0.68      0.68       336\n",
      "    weighted avg       0.69      0.69      0.69       336\n",
      "\n"
     ]
    },
    {
     "name": "stderr",
     "output_type": "stream",
     "text": [
      "Training Epochs:  78%|███████▊  | 1945/2500 [00:38<00:10, 50.72it/s]"
     ]
    },
    {
     "name": "stdout",
     "output_type": "stream",
     "text": [
      "Epoch 1940/2500, Loss: 0.0720\n",
      "Test Accuracy at Epoch 1940: 69.35%\n",
      "Test F1-score at Epoch 1940: 0.7193\n",
      "Classification Report at Epoch 1940:\n",
      "                  precision    recall  f1-score   support\n",
      "\n",
      "    infringement       0.70      0.63      0.66       160\n",
      "non_infringement       0.69      0.75      0.72       176\n",
      "\n",
      "        accuracy                           0.69       336\n",
      "       macro avg       0.69      0.69      0.69       336\n",
      "    weighted avg       0.69      0.69      0.69       336\n",
      "\n",
      "Epoch 1950/2500, Loss: 0.0739\n",
      "Test Accuracy at Epoch 1950: 68.75%\n",
      "Test F1-score at Epoch 1950: 0.7185\n",
      "Classification Report at Epoch 1950:\n",
      "                  precision    recall  f1-score   support\n",
      "\n",
      "    infringement       0.70      0.61      0.65       160\n",
      "non_infringement       0.68      0.76      0.72       176\n",
      "\n",
      "        accuracy                           0.69       336\n",
      "       macro avg       0.69      0.68      0.68       336\n",
      "    weighted avg       0.69      0.69      0.69       336\n",
      "\n"
     ]
    },
    {
     "name": "stderr",
     "output_type": "stream",
     "text": [
      "Training Epochs:  79%|███████▉  | 1970/2500 [00:39<00:10, 50.11it/s]"
     ]
    },
    {
     "name": "stdout",
     "output_type": "stream",
     "text": [
      "Epoch 1960/2500, Loss: 0.0759\n",
      "Test Accuracy at Epoch 1960: 68.75%\n",
      "Test F1-score at Epoch 1960: 0.7123\n",
      "Classification Report at Epoch 1960:\n",
      "                  precision    recall  f1-score   support\n",
      "\n",
      "    infringement       0.69      0.63      0.66       160\n",
      "non_infringement       0.69      0.74      0.71       176\n",
      "\n",
      "        accuracy                           0.69       336\n",
      "       macro avg       0.69      0.68      0.69       336\n",
      "    weighted avg       0.69      0.69      0.69       336\n",
      "\n",
      "Epoch 1970/2500, Loss: 0.0722\n",
      "Test Accuracy at Epoch 1970: 68.75%\n",
      "Test F1-score at Epoch 1970: 0.7185\n",
      "Classification Report at Epoch 1970:\n",
      "                  precision    recall  f1-score   support\n",
      "\n",
      "    infringement       0.70      0.61      0.65       160\n",
      "non_infringement       0.68      0.76      0.72       176\n",
      "\n",
      "        accuracy                           0.69       336\n",
      "       macro avg       0.69      0.68      0.68       336\n",
      "    weighted avg       0.69      0.69      0.69       336\n",
      "\n"
     ]
    },
    {
     "name": "stderr",
     "output_type": "stream",
     "text": [
      "Training Epochs:  80%|███████▉  | 1990/2500 [00:39<00:09, 52.03it/s]"
     ]
    },
    {
     "name": "stdout",
     "output_type": "stream",
     "text": [
      "Epoch 1980/2500, Loss: 0.0714\n",
      "Test Accuracy at Epoch 1980: 69.05%\n",
      "Test F1-score at Epoch 1980: 0.7143\n",
      "Classification Report at Epoch 1980:\n",
      "                  precision    recall  f1-score   support\n",
      "\n",
      "    infringement       0.69      0.64      0.66       160\n",
      "non_infringement       0.69      0.74      0.71       176\n",
      "\n",
      "        accuracy                           0.69       336\n",
      "       macro avg       0.69      0.69      0.69       336\n",
      "    weighted avg       0.69      0.69      0.69       336\n",
      "\n",
      "Epoch 1990/2500, Loss: 0.0695\n",
      "Test Accuracy at Epoch 1990: 69.35%\n",
      "Test F1-score at Epoch 1990: 0.7224\n",
      "Classification Report at Epoch 1990:\n",
      "                  precision    recall  f1-score   support\n",
      "\n",
      "    infringement       0.70      0.62      0.66       160\n",
      "non_infringement       0.69      0.76      0.72       176\n",
      "\n",
      "        accuracy                           0.69       336\n",
      "       macro avg       0.69      0.69      0.69       336\n",
      "    weighted avg       0.69      0.69      0.69       336\n",
      "\n"
     ]
    },
    {
     "name": "stderr",
     "output_type": "stream",
     "text": [
      "Training Epochs:  80%|████████  | 2010/2500 [00:39<00:09, 50.71it/s]"
     ]
    },
    {
     "name": "stdout",
     "output_type": "stream",
     "text": [
      "Epoch 2000/2500, Loss: 0.0696\n",
      "Test Accuracy at Epoch 2000: 69.35%\n",
      "Test F1-score at Epoch 2000: 0.7209\n",
      "Classification Report at Epoch 2000:\n",
      "                  precision    recall  f1-score   support\n",
      "\n",
      "    infringement       0.70      0.62      0.66       160\n",
      "non_infringement       0.69      0.76      0.72       176\n",
      "\n",
      "        accuracy                           0.69       336\n",
      "       macro avg       0.69      0.69      0.69       336\n",
      "    weighted avg       0.69      0.69      0.69       336\n",
      "\n",
      "Epoch 2010/2500, Loss: 0.0704\n",
      "Test Accuracy at Epoch 2010: 69.05%\n",
      "Test F1-score at Epoch 2010: 0.7174\n",
      "Classification Report at Epoch 2010:\n",
      "                  precision    recall  f1-score   support\n",
      "\n",
      "    infringement       0.69      0.62      0.66       160\n",
      "non_infringement       0.69      0.75      0.72       176\n",
      "\n",
      "        accuracy                           0.69       336\n",
      "       macro avg       0.69      0.69      0.69       336\n",
      "    weighted avg       0.69      0.69      0.69       336\n",
      "\n"
     ]
    },
    {
     "name": "stderr",
     "output_type": "stream",
     "text": [
      "Training Epochs:  81%|████████  | 2030/2500 [00:40<00:09, 52.18it/s]"
     ]
    },
    {
     "name": "stdout",
     "output_type": "stream",
     "text": [
      "Epoch 2020/2500, Loss: 0.0720\n",
      "Test Accuracy at Epoch 2020: 68.75%\n",
      "Test F1-score at Epoch 2020: 0.7185\n",
      "Classification Report at Epoch 2020:\n",
      "                  precision    recall  f1-score   support\n",
      "\n",
      "    infringement       0.70      0.61      0.65       160\n",
      "non_infringement       0.68      0.76      0.72       176\n",
      "\n",
      "        accuracy                           0.69       336\n",
      "       macro avg       0.69      0.68      0.68       336\n",
      "    weighted avg       0.69      0.69      0.69       336\n",
      "\n",
      "Epoch 2030/2500, Loss: 0.0737\n",
      "Test Accuracy at Epoch 2030: 69.05%\n",
      "Test F1-score at Epoch 2030: 0.7143\n",
      "Classification Report at Epoch 2030:\n",
      "                  precision    recall  f1-score   support\n",
      "\n",
      "    infringement       0.69      0.64      0.66       160\n",
      "non_infringement       0.69      0.74      0.71       176\n",
      "\n",
      "        accuracy                           0.69       336\n",
      "       macro avg       0.69      0.69      0.69       336\n",
      "    weighted avg       0.69      0.69      0.69       336\n",
      "\n"
     ]
    },
    {
     "name": "stderr",
     "output_type": "stream",
     "text": [
      "Training Epochs:  82%|████████▏ | 2052/2500 [00:40<00:07, 56.79it/s]"
     ]
    },
    {
     "name": "stdout",
     "output_type": "stream",
     "text": [
      "Epoch 2040/2500, Loss: 0.0723\n",
      "Test Accuracy at Epoch 2040: 69.35%\n",
      "Test F1-score at Epoch 2040: 0.7224\n",
      "Classification Report at Epoch 2040:\n",
      "                  precision    recall  f1-score   support\n",
      "\n",
      "    infringement       0.70      0.62      0.66       160\n",
      "non_infringement       0.69      0.76      0.72       176\n",
      "\n",
      "        accuracy                           0.69       336\n",
      "       macro avg       0.69      0.69      0.69       336\n",
      "    weighted avg       0.69      0.69      0.69       336\n",
      "\n",
      "Epoch 2050/2500, Loss: 0.0713\n",
      "Test Accuracy at Epoch 2050: 68.75%\n",
      "Test F1-score at Epoch 2050: 0.7123\n",
      "Classification Report at Epoch 2050:\n",
      "                  precision    recall  f1-score   support\n",
      "\n",
      "    infringement       0.69      0.63      0.66       160\n",
      "non_infringement       0.69      0.74      0.71       176\n",
      "\n",
      "        accuracy                           0.69       336\n",
      "       macro avg       0.69      0.68      0.69       336\n",
      "    weighted avg       0.69      0.69      0.69       336\n",
      "\n"
     ]
    },
    {
     "name": "stderr",
     "output_type": "stream",
     "text": [
      "Training Epochs:  83%|████████▎ | 2067/2500 [00:40<00:07, 55.92it/s]"
     ]
    },
    {
     "name": "stdout",
     "output_type": "stream",
     "text": [
      "Epoch 2060/2500, Loss: 0.0709\n",
      "Test Accuracy at Epoch 2060: 68.75%\n",
      "Test F1-score at Epoch 2060: 0.7123\n",
      "Classification Report at Epoch 2060:\n",
      "                  precision    recall  f1-score   support\n",
      "\n",
      "    infringement       0.69      0.63      0.66       160\n",
      "non_infringement       0.69      0.74      0.71       176\n",
      "\n",
      "        accuracy                           0.69       336\n",
      "       macro avg       0.69      0.68      0.69       336\n",
      "    weighted avg       0.69      0.69      0.69       336\n",
      "\n",
      "Epoch 2070/2500, Loss: 0.0705\n"
     ]
    },
    {
     "name": "stderr",
     "output_type": "stream",
     "text": [
      "Training Epochs:  83%|████████▎ | 2081/2500 [00:41<00:06, 60.08it/s]"
     ]
    },
    {
     "name": "stdout",
     "output_type": "stream",
     "text": [
      "Test Accuracy at Epoch 2070: 69.05%\n",
      "Test F1-score at Epoch 2070: 0.7204\n",
      "Classification Report at Epoch 2070:\n",
      "                  precision    recall  f1-score   support\n",
      "\n",
      "    infringement       0.70      0.61      0.65       160\n",
      "non_infringement       0.68      0.76      0.72       176\n",
      "\n",
      "        accuracy                           0.69       336\n",
      "       macro avg       0.69      0.69      0.69       336\n",
      "    weighted avg       0.69      0.69      0.69       336\n",
      "\n",
      "Epoch 2080/2500, Loss: 0.0710\n",
      "Test Accuracy at Epoch 2080: 69.35%\n",
      "Test F1-score at Epoch 2080: 0.7193\n",
      "Classification Report at Epoch 2080:\n",
      "                  precision    recall  f1-score   support\n",
      "\n",
      "    infringement       0.70      0.63      0.66       160\n",
      "non_infringement       0.69      0.75      0.72       176\n",
      "\n",
      "        accuracy                           0.69       336\n",
      "       macro avg       0.69      0.69      0.69       336\n",
      "    weighted avg       0.69      0.69      0.69       336\n",
      "\n"
     ]
    },
    {
     "name": "stderr",
     "output_type": "stream",
     "text": [
      "Training Epochs:  84%|████████▍ | 2094/2500 [00:41<00:08, 48.14it/s]"
     ]
    },
    {
     "name": "stdout",
     "output_type": "stream",
     "text": [
      "Epoch 2090/2500, Loss: 0.0694\n",
      "Test Accuracy at Epoch 2090: 69.64%\n",
      "Test F1-score at Epoch 2090: 0.7243\n",
      "Classification Report at Epoch 2090:\n",
      "                  precision    recall  f1-score   support\n",
      "\n",
      "    infringement       0.70      0.62      0.66       160\n",
      "non_infringement       0.69      0.76      0.72       176\n",
      "\n",
      "        accuracy                           0.70       336\n",
      "       macro avg       0.70      0.69      0.69       336\n",
      "    weighted avg       0.70      0.70      0.69       336\n",
      "\n"
     ]
    },
    {
     "name": "stderr",
     "output_type": "stream",
     "text": [
      "Training Epochs:  84%|████████▍ | 2100/2500 [00:41<00:07, 50.68it/s]"
     ]
    },
    {
     "name": "stdout",
     "output_type": "stream",
     "text": [
      "Epoch 2100/2500, Loss: 0.0694\n",
      "Test Accuracy at Epoch 2100: 69.35%\n",
      "Test F1-score at Epoch 2100: 0.7163\n",
      "Classification Report at Epoch 2100:\n",
      "                  precision    recall  f1-score   support\n",
      "\n",
      "    infringement       0.69      0.64      0.67       160\n",
      "non_infringement       0.70      0.74      0.72       176\n",
      "\n",
      "        accuracy                           0.69       336\n",
      "       macro avg       0.69      0.69      0.69       336\n",
      "    weighted avg       0.69      0.69      0.69       336\n",
      "\n"
     ]
    },
    {
     "name": "stderr",
     "output_type": "stream",
     "text": [
      "Training Epochs:  84%|████████▍ | 2112/2500 [00:41<00:08, 44.12it/s]"
     ]
    },
    {
     "name": "stdout",
     "output_type": "stream",
     "text": [
      "Epoch 2110/2500, Loss: 0.0698\n",
      "Test Accuracy at Epoch 2110: 69.64%\n",
      "Test F1-score at Epoch 2110: 0.7243\n",
      "Classification Report at Epoch 2110:\n",
      "                  precision    recall  f1-score   support\n",
      "\n",
      "    infringement       0.70      0.62      0.66       160\n",
      "non_infringement       0.69      0.76      0.72       176\n",
      "\n",
      "        accuracy                           0.70       336\n",
      "       macro avg       0.70      0.69      0.69       336\n",
      "    weighted avg       0.70      0.70      0.69       336\n",
      "\n"
     ]
    },
    {
     "name": "stderr",
     "output_type": "stream",
     "text": [
      "Training Epochs:  85%|████████▌ | 2130/2500 [00:42<00:07, 46.31it/s]"
     ]
    },
    {
     "name": "stdout",
     "output_type": "stream",
     "text": [
      "Epoch 2120/2500, Loss: 0.0695\n",
      "Test Accuracy at Epoch 2120: 70.24%\n",
      "Test F1-score at Epoch 2120: 0.7268\n",
      "Classification Report at Epoch 2120:\n",
      "                  precision    recall  f1-score   support\n",
      "\n",
      "    infringement       0.71      0.64      0.67       160\n",
      "non_infringement       0.70      0.76      0.73       176\n",
      "\n",
      "        accuracy                           0.70       336\n",
      "       macro avg       0.70      0.70      0.70       336\n",
      "    weighted avg       0.70      0.70      0.70       336\n",
      "\n",
      "Epoch 2130/2500, Loss: 0.0694\n",
      "Test Accuracy at Epoch 2130: 68.75%\n",
      "Test F1-score at Epoch 2130: 0.7139\n",
      "Classification Report at Epoch 2130:\n",
      "                  precision    recall  f1-score   support\n",
      "\n",
      "    infringement       0.69      0.62      0.66       160\n",
      "non_infringement       0.69      0.74      0.71       176\n",
      "\n",
      "        accuracy                           0.69       336\n",
      "       macro avg       0.69      0.68      0.68       336\n",
      "    weighted avg       0.69      0.69      0.69       336\n",
      "\n"
     ]
    },
    {
     "name": "stderr",
     "output_type": "stream",
     "text": [
      "Training Epochs:  86%|████████▌ | 2149/2500 [00:42<00:06, 53.25it/s]"
     ]
    },
    {
     "name": "stdout",
     "output_type": "stream",
     "text": [
      "Epoch 2140/2500, Loss: 0.0699\n",
      "Test Accuracy at Epoch 2140: 69.05%\n",
      "Test F1-score at Epoch 2140: 0.7158\n",
      "Classification Report at Epoch 2140:\n",
      "                  precision    recall  f1-score   support\n",
      "\n",
      "    infringement       0.69      0.63      0.66       160\n",
      "non_infringement       0.69      0.74      0.72       176\n",
      "\n",
      "        accuracy                           0.69       336\n",
      "       macro avg       0.69      0.69      0.69       336\n",
      "    weighted avg       0.69      0.69      0.69       336\n",
      "\n",
      "Epoch 2150/2500, Loss: 0.0735\n",
      "Test Accuracy at Epoch 2150: 69.35%\n",
      "Test F1-score at Epoch 2150: 0.7163\n",
      "Classification Report at Epoch 2150:\n",
      "                  precision    recall  f1-score   support\n",
      "\n",
      "    infringement       0.69      0.64      0.67       160\n",
      "non_infringement       0.70      0.74      0.72       176\n",
      "\n",
      "        accuracy                           0.69       336\n",
      "       macro avg       0.69      0.69      0.69       336\n",
      "    weighted avg       0.69      0.69      0.69       336\n",
      "\n"
     ]
    },
    {
     "name": "stderr",
     "output_type": "stream",
     "text": [
      "Training Epochs:  87%|████████▋ | 2167/2500 [00:43<00:07, 44.96it/s]"
     ]
    },
    {
     "name": "stdout",
     "output_type": "stream",
     "text": [
      "Epoch 2160/2500, Loss: 0.0701\n",
      "Test Accuracy at Epoch 2160: 69.94%\n",
      "Test F1-score at Epoch 2160: 0.7248\n",
      "Classification Report at Epoch 2160:\n",
      "                  precision    recall  f1-score   support\n",
      "\n",
      "    infringement       0.70      0.64      0.67       160\n",
      "non_infringement       0.70      0.76      0.72       176\n",
      "\n",
      "        accuracy                           0.70       336\n",
      "       macro avg       0.70      0.70      0.70       336\n",
      "    weighted avg       0.70      0.70      0.70       336\n",
      "\n"
     ]
    },
    {
     "name": "stderr",
     "output_type": "stream",
     "text": [
      "Training Epochs:  87%|████████▋ | 2180/2500 [00:43<00:06, 47.93it/s]"
     ]
    },
    {
     "name": "stdout",
     "output_type": "stream",
     "text": [
      "Epoch 2170/2500, Loss: 0.0734\n",
      "Test Accuracy at Epoch 2170: 69.64%\n",
      "Test F1-score at Epoch 2170: 0.7198\n",
      "Classification Report at Epoch 2170:\n",
      "                  precision    recall  f1-score   support\n",
      "\n",
      "    infringement       0.70      0.64      0.67       160\n",
      "non_infringement       0.70      0.74      0.72       176\n",
      "\n",
      "        accuracy                           0.70       336\n",
      "       macro avg       0.70      0.69      0.69       336\n",
      "    weighted avg       0.70      0.70      0.70       336\n",
      "\n",
      "Epoch 2180/2500, Loss: 0.0696\n",
      "Test Accuracy at Epoch 2180: 69.94%\n",
      "Test F1-score at Epoch 2180: 0.7248\n",
      "Classification Report at Epoch 2180:\n",
      "                  precision    recall  f1-score   support\n",
      "\n",
      "    infringement       0.70      0.64      0.67       160\n",
      "non_infringement       0.70      0.76      0.72       176\n",
      "\n",
      "        accuracy                           0.70       336\n",
      "       macro avg       0.70      0.70      0.70       336\n",
      "    weighted avg       0.70      0.70      0.70       336\n",
      "\n"
     ]
    },
    {
     "name": "stderr",
     "output_type": "stream",
     "text": [
      "Training Epochs:  88%|████████▊ | 2193/2500 [00:43<00:06, 49.20it/s]"
     ]
    },
    {
     "name": "stdout",
     "output_type": "stream",
     "text": [
      "Epoch 2190/2500, Loss: 0.0713\n",
      "Test Accuracy at Epoch 2190: 70.24%\n",
      "Test F1-score at Epoch 2190: 0.7268\n",
      "Classification Report at Epoch 2190:\n",
      "                  precision    recall  f1-score   support\n",
      "\n",
      "    infringement       0.71      0.64      0.67       160\n",
      "non_infringement       0.70      0.76      0.73       176\n",
      "\n",
      "        accuracy                           0.70       336\n",
      "       macro avg       0.70      0.70      0.70       336\n",
      "    weighted avg       0.70      0.70      0.70       336\n",
      "\n"
     ]
    },
    {
     "name": "stderr",
     "output_type": "stream",
     "text": [
      "Training Epochs:  88%|████████▊ | 2206/2500 [00:43<00:06, 48.00it/s]"
     ]
    },
    {
     "name": "stdout",
     "output_type": "stream",
     "text": [
      "Epoch 2200/2500, Loss: 0.0723\n",
      "Test Accuracy at Epoch 2200: 69.64%\n",
      "Test F1-score at Epoch 2200: 0.7243\n",
      "Classification Report at Epoch 2200:\n",
      "                  precision    recall  f1-score   support\n",
      "\n",
      "    infringement       0.70      0.62      0.66       160\n",
      "non_infringement       0.69      0.76      0.72       176\n",
      "\n",
      "        accuracy                           0.70       336\n",
      "       macro avg       0.70      0.69      0.69       336\n",
      "    weighted avg       0.70      0.70      0.69       336\n",
      "\n"
     ]
    },
    {
     "name": "stderr",
     "output_type": "stream",
     "text": [
      "Training Epochs:  89%|████████▉ | 2219/2500 [00:44<00:05, 49.82it/s]"
     ]
    },
    {
     "name": "stdout",
     "output_type": "stream",
     "text": [
      "Epoch 2210/2500, Loss: 0.0693\n",
      "Test Accuracy at Epoch 2210: 69.94%\n",
      "Test F1-score at Epoch 2210: 0.7248\n",
      "Classification Report at Epoch 2210:\n",
      "                  precision    recall  f1-score   support\n",
      "\n",
      "    infringement       0.70      0.64      0.67       160\n",
      "non_infringement       0.70      0.76      0.72       176\n",
      "\n",
      "        accuracy                           0.70       336\n",
      "       macro avg       0.70      0.70      0.70       336\n",
      "    weighted avg       0.70      0.70      0.70       336\n",
      "\n",
      "Epoch 2220/2500, Loss: 0.0713\n",
      "Test Accuracy at Epoch 2220: 69.35%\n",
      "Test F1-score at Epoch 2220: 0.7178\n",
      "Classification Report at Epoch 2220:\n",
      "                  precision    recall  f1-score   support\n",
      "\n",
      "    infringement       0.69      0.64      0.66       160\n",
      "non_infringement       0.69      0.74      0.72       176\n",
      "\n",
      "        accuracy                           0.69       336\n",
      "       macro avg       0.69      0.69      0.69       336\n",
      "    weighted avg       0.69      0.69      0.69       336\n",
      "\n"
     ]
    },
    {
     "name": "stderr",
     "output_type": "stream",
     "text": [
      "Training Epochs:  89%|████████▉ | 2236/2500 [00:44<00:06, 43.35it/s]"
     ]
    },
    {
     "name": "stdout",
     "output_type": "stream",
     "text": [
      "Epoch 2230/2500, Loss: 0.0743\n",
      "Test Accuracy at Epoch 2230: 69.05%\n",
      "Test F1-score at Epoch 2230: 0.7204\n",
      "Classification Report at Epoch 2230:\n",
      "                  precision    recall  f1-score   support\n",
      "\n",
      "    infringement       0.70      0.61      0.65       160\n",
      "non_infringement       0.68      0.76      0.72       176\n",
      "\n",
      "        accuracy                           0.69       336\n",
      "       macro avg       0.69      0.69      0.69       336\n",
      "    weighted avg       0.69      0.69      0.69       336\n",
      "\n"
     ]
    },
    {
     "name": "stderr",
     "output_type": "stream",
     "text": [
      "Training Epochs:  90%|████████▉ | 2246/2500 [00:44<00:06, 38.39it/s]"
     ]
    },
    {
     "name": "stdout",
     "output_type": "stream",
     "text": [
      "Epoch 2240/2500, Loss: 0.0727\n",
      "Test Accuracy at Epoch 2240: 69.05%\n",
      "Test F1-score at Epoch 2240: 0.7127\n",
      "Classification Report at Epoch 2240:\n",
      "                  precision    recall  f1-score   support\n",
      "\n",
      "    infringement       0.69      0.64      0.66       160\n",
      "non_infringement       0.69      0.73      0.71       176\n",
      "\n",
      "        accuracy                           0.69       336\n",
      "       macro avg       0.69      0.69      0.69       336\n",
      "    weighted avg       0.69      0.69      0.69       336\n",
      "\n",
      "Epoch 2250/2500, Loss: 0.0734\n"
     ]
    },
    {
     "name": "stderr",
     "output_type": "stream",
     "text": [
      "Training Epochs:  90%|█████████ | 2257/2500 [00:45<00:05, 41.73it/s]"
     ]
    },
    {
     "name": "stdout",
     "output_type": "stream",
     "text": [
      "Test Accuracy at Epoch 2250: 69.05%\n",
      "Test F1-score at Epoch 2250: 0.7204\n",
      "Classification Report at Epoch 2250:\n",
      "                  precision    recall  f1-score   support\n",
      "\n",
      "    infringement       0.70      0.61      0.65       160\n",
      "non_infringement       0.68      0.76      0.72       176\n",
      "\n",
      "        accuracy                           0.69       336\n",
      "       macro avg       0.69      0.69      0.69       336\n",
      "    weighted avg       0.69      0.69      0.69       336\n",
      "\n"
     ]
    },
    {
     "name": "stderr",
     "output_type": "stream",
     "text": [
      "Training Epochs:  91%|█████████ | 2270/2500 [00:45<00:04, 51.33it/s]"
     ]
    },
    {
     "name": "stdout",
     "output_type": "stream",
     "text": [
      "Epoch 2260/2500, Loss: 0.0746\n",
      "Test Accuracy at Epoch 2260: 69.35%\n",
      "Test F1-score at Epoch 2260: 0.7147\n",
      "Classification Report at Epoch 2260:\n",
      "                  precision    recall  f1-score   support\n",
      "\n",
      "    infringement       0.69      0.65      0.67       160\n",
      "non_infringement       0.70      0.73      0.71       176\n",
      "\n",
      "        accuracy                           0.69       336\n",
      "       macro avg       0.69      0.69      0.69       336\n",
      "    weighted avg       0.69      0.69      0.69       336\n",
      "\n",
      "Epoch 2270/2500, Loss: 0.0749\n",
      "Test Accuracy at Epoch 2270: 68.45%\n",
      "Test F1-score at Epoch 2270: 0.7166\n",
      "Classification Report at Epoch 2270:\n",
      "                  precision    recall  f1-score   support\n",
      "\n",
      "    infringement       0.70      0.60      0.64       160\n",
      "non_infringement       0.68      0.76      0.72       176\n",
      "\n",
      "        accuracy                           0.68       336\n",
      "       macro avg       0.69      0.68      0.68       336\n",
      "    weighted avg       0.69      0.68      0.68       336\n",
      "\n"
     ]
    },
    {
     "name": "stderr",
     "output_type": "stream",
     "text": [
      "Training Epochs:  92%|█████████▏| 2291/2500 [00:45<00:03, 56.12it/s]"
     ]
    },
    {
     "name": "stdout",
     "output_type": "stream",
     "text": [
      "Epoch 2280/2500, Loss: 0.0729\n",
      "Test Accuracy at Epoch 2280: 69.35%\n",
      "Test F1-score at Epoch 2280: 0.7163\n",
      "Classification Report at Epoch 2280:\n",
      "                  precision    recall  f1-score   support\n",
      "\n",
      "    infringement       0.69      0.64      0.67       160\n",
      "non_infringement       0.70      0.74      0.72       176\n",
      "\n",
      "        accuracy                           0.69       336\n",
      "       macro avg       0.69      0.69      0.69       336\n",
      "    weighted avg       0.69      0.69      0.69       336\n",
      "\n",
      "Epoch 2290/2500, Loss: 0.0697\n",
      "Test Accuracy at Epoch 2290: 69.64%\n",
      "Test F1-score at Epoch 2290: 0.7243\n",
      "Classification Report at Epoch 2290:\n",
      "                  precision    recall  f1-score   support\n",
      "\n",
      "    infringement       0.70      0.62      0.66       160\n",
      "non_infringement       0.69      0.76      0.72       176\n",
      "\n",
      "        accuracy                           0.70       336\n",
      "       macro avg       0.70      0.69      0.69       336\n",
      "    weighted avg       0.70      0.70      0.69       336\n",
      "\n"
     ]
    },
    {
     "name": "stderr",
     "output_type": "stream",
     "text": [
      "Training Epochs:  92%|█████████▏| 2306/2500 [00:46<00:03, 53.24it/s]"
     ]
    },
    {
     "name": "stdout",
     "output_type": "stream",
     "text": [
      "Epoch 2300/2500, Loss: 0.0703\n",
      "Test Accuracy at Epoch 2300: 69.35%\n",
      "Test F1-score at Epoch 2300: 0.7163\n",
      "Classification Report at Epoch 2300:\n",
      "                  precision    recall  f1-score   support\n",
      "\n",
      "    infringement       0.69      0.64      0.67       160\n",
      "non_infringement       0.70      0.74      0.72       176\n",
      "\n",
      "        accuracy                           0.69       336\n",
      "       macro avg       0.69      0.69      0.69       336\n",
      "    weighted avg       0.69      0.69      0.69       336\n",
      "\n"
     ]
    },
    {
     "name": "stderr",
     "output_type": "stream",
     "text": [
      "Training Epochs:  93%|█████████▎| 2320/2500 [00:46<00:03, 56.36it/s]"
     ]
    },
    {
     "name": "stdout",
     "output_type": "stream",
     "text": [
      "Epoch 2310/2500, Loss: 0.0692\n",
      "Test Accuracy at Epoch 2310: 69.05%\n",
      "Test F1-score at Epoch 2310: 0.7189\n",
      "Classification Report at Epoch 2310:\n",
      "                  precision    recall  f1-score   support\n",
      "\n",
      "    infringement       0.70      0.62      0.66       160\n",
      "non_infringement       0.69      0.76      0.72       176\n",
      "\n",
      "        accuracy                           0.69       336\n",
      "       macro avg       0.69      0.69      0.69       336\n",
      "    weighted avg       0.69      0.69      0.69       336\n",
      "\n",
      "Epoch 2320/2500, Loss: 0.0718\n",
      "Test Accuracy at Epoch 2320: 68.75%\n",
      "Test F1-score at Epoch 2320: 0.7170\n",
      "Classification Report at Epoch 2320:\n",
      "                  precision    recall  f1-score   support\n",
      "\n",
      "    infringement       0.70      0.61      0.65       160\n",
      "non_infringement       0.68      0.76      0.72       176\n",
      "\n",
      "        accuracy                           0.69       336\n",
      "       macro avg       0.69      0.68      0.68       336\n",
      "    weighted avg       0.69      0.69      0.69       336\n",
      "\n"
     ]
    },
    {
     "name": "stderr",
     "output_type": "stream",
     "text": [
      "Training Epochs:  94%|█████████▎| 2340/2500 [00:46<00:02, 57.76it/s]"
     ]
    },
    {
     "name": "stdout",
     "output_type": "stream",
     "text": [
      "Epoch 2330/2500, Loss: 0.0701\n",
      "Test Accuracy at Epoch 2330: 68.75%\n",
      "Test F1-score at Epoch 2330: 0.7139\n",
      "Classification Report at Epoch 2330:\n",
      "                  precision    recall  f1-score   support\n",
      "\n",
      "    infringement       0.69      0.62      0.66       160\n",
      "non_infringement       0.69      0.74      0.71       176\n",
      "\n",
      "        accuracy                           0.69       336\n",
      "       macro avg       0.69      0.68      0.68       336\n",
      "    weighted avg       0.69      0.69      0.69       336\n",
      "\n",
      "Epoch 2340/2500, Loss: 0.0693\n",
      "Test Accuracy at Epoch 2340: 68.75%\n",
      "Test F1-score at Epoch 2340: 0.7170\n",
      "Classification Report at Epoch 2340:\n",
      "                  precision    recall  f1-score   support\n",
      "\n",
      "    infringement       0.70      0.61      0.65       160\n",
      "non_infringement       0.68      0.76      0.72       176\n",
      "\n",
      "        accuracy                           0.69       336\n",
      "       macro avg       0.69      0.68      0.68       336\n",
      "    weighted avg       0.69      0.69      0.69       336\n",
      "\n"
     ]
    },
    {
     "name": "stderr",
     "output_type": "stream",
     "text": [
      "Training Epochs:  94%|█████████▍| 2361/2500 [00:47<00:02, 59.26it/s]"
     ]
    },
    {
     "name": "stdout",
     "output_type": "stream",
     "text": [
      "Epoch 2350/2500, Loss: 0.0696\n",
      "Test Accuracy at Epoch 2350: 68.75%\n",
      "Test F1-score at Epoch 2350: 0.7123\n",
      "Classification Report at Epoch 2350:\n",
      "                  precision    recall  f1-score   support\n",
      "\n",
      "    infringement       0.69      0.63      0.66       160\n",
      "non_infringement       0.69      0.74      0.71       176\n",
      "\n",
      "        accuracy                           0.69       336\n",
      "       macro avg       0.69      0.68      0.69       336\n",
      "    weighted avg       0.69      0.69      0.69       336\n",
      "\n",
      "Epoch 2360/2500, Loss: 0.0701\n",
      "Test Accuracy at Epoch 2360: 69.35%\n",
      "Test F1-score at Epoch 2360: 0.7193\n",
      "Classification Report at Epoch 2360:\n",
      "                  precision    recall  f1-score   support\n",
      "\n",
      "    infringement       0.70      0.63      0.66       160\n",
      "non_infringement       0.69      0.75      0.72       176\n",
      "\n",
      "        accuracy                           0.69       336\n",
      "       macro avg       0.69      0.69      0.69       336\n",
      "    weighted avg       0.69      0.69      0.69       336\n",
      "\n"
     ]
    },
    {
     "name": "stderr",
     "output_type": "stream",
     "text": [
      "Training Epochs:  95%|█████████▌| 2376/2500 [00:47<00:02, 56.52it/s]"
     ]
    },
    {
     "name": "stdout",
     "output_type": "stream",
     "text": [
      "Epoch 2370/2500, Loss: 0.0715\n",
      "Test Accuracy at Epoch 2370: 68.75%\n",
      "Test F1-score at Epoch 2370: 0.7123\n",
      "Classification Report at Epoch 2370:\n",
      "                  precision    recall  f1-score   support\n",
      "\n",
      "    infringement       0.69      0.63      0.66       160\n",
      "non_infringement       0.69      0.74      0.71       176\n",
      "\n",
      "        accuracy                           0.69       336\n",
      "       macro avg       0.69      0.68      0.69       336\n",
      "    weighted avg       0.69      0.69      0.69       336\n",
      "\n",
      "Epoch 2380/2500, Loss: 0.0708\n"
     ]
    },
    {
     "name": "stderr",
     "output_type": "stream",
     "text": [
      "Training Epochs:  96%|█████████▌| 2390/2500 [00:47<00:01, 60.98it/s]"
     ]
    },
    {
     "name": "stdout",
     "output_type": "stream",
     "text": [
      "Test Accuracy at Epoch 2380: 68.75%\n",
      "Test F1-score at Epoch 2380: 0.7123\n",
      "Classification Report at Epoch 2380:\n",
      "                  precision    recall  f1-score   support\n",
      "\n",
      "    infringement       0.69      0.63      0.66       160\n",
      "non_infringement       0.69      0.74      0.71       176\n",
      "\n",
      "        accuracy                           0.69       336\n",
      "       macro avg       0.69      0.68      0.69       336\n",
      "    weighted avg       0.69      0.69      0.69       336\n",
      "\n",
      "Epoch 2390/2500, Loss: 0.0720\n",
      "Test Accuracy at Epoch 2390: 69.05%\n",
      "Test F1-score at Epoch 2390: 0.7204\n",
      "Classification Report at Epoch 2390:\n",
      "                  precision    recall  f1-score   support\n",
      "\n",
      "    infringement       0.70      0.61      0.65       160\n",
      "non_infringement       0.68      0.76      0.72       176\n",
      "\n",
      "        accuracy                           0.69       336\n",
      "       macro avg       0.69      0.69      0.69       336\n",
      "    weighted avg       0.69      0.69      0.69       336\n",
      "\n"
     ]
    },
    {
     "name": "stderr",
     "output_type": "stream",
     "text": [
      "Training Epochs:  96%|█████████▌| 2404/2500 [00:47<00:01, 57.91it/s]"
     ]
    },
    {
     "name": "stdout",
     "output_type": "stream",
     "text": [
      "Epoch 2400/2500, Loss: 0.0706\n",
      "Test Accuracy at Epoch 2400: 68.15%\n",
      "Test F1-score at Epoch 2400: 0.7100\n",
      "Classification Report at Epoch 2400:\n",
      "                  precision    recall  f1-score   support\n",
      "\n",
      "    infringement       0.69      0.61      0.65       160\n",
      "non_infringement       0.68      0.74      0.71       176\n",
      "\n",
      "        accuracy                           0.68       336\n",
      "       macro avg       0.68      0.68      0.68       336\n",
      "    weighted avg       0.68      0.68      0.68       336\n",
      "\n",
      "Epoch 2410/2500, Loss: 0.0757\n",
      "Test Accuracy at Epoch 2410: 68.75%\n",
      "Test F1-score at Epoch 2410: 0.7123\n",
      "Classification Report at Epoch 2410:\n",
      "                  precision    recall  f1-score   support\n",
      "\n",
      "    infringement       0.69      0.63      0.66       160\n",
      "non_infringement       0.69      0.74      0.71       176\n",
      "\n",
      "        accuracy                           0.69       336\n",
      "       macro avg       0.69      0.68      0.69       336\n",
      "    weighted avg       0.69      0.69      0.69       336\n",
      "\n"
     ]
    },
    {
     "name": "stderr",
     "output_type": "stream",
     "text": [
      "Training Epochs:  97%|█████████▋| 2431/2500 [00:48<00:01, 56.72it/s]"
     ]
    },
    {
     "name": "stdout",
     "output_type": "stream",
     "text": [
      "Epoch 2420/2500, Loss: 0.0714\n",
      "Test Accuracy at Epoch 2420: 69.94%\n",
      "Test F1-score at Epoch 2420: 0.7233\n",
      "Classification Report at Epoch 2420:\n",
      "                  precision    recall  f1-score   support\n",
      "\n",
      "    infringement       0.70      0.64      0.67       160\n",
      "non_infringement       0.70      0.75      0.72       176\n",
      "\n",
      "        accuracy                           0.70       336\n",
      "       macro avg       0.70      0.70      0.70       336\n",
      "    weighted avg       0.70      0.70      0.70       336\n",
      "\n",
      "Epoch 2430/2500, Loss: 0.0767\n",
      "Test Accuracy at Epoch 2430: 68.75%\n",
      "Test F1-score at Epoch 2430: 0.7170\n",
      "Classification Report at Epoch 2430:\n",
      "                  precision    recall  f1-score   support\n",
      "\n",
      "    infringement       0.70      0.61      0.65       160\n",
      "non_infringement       0.68      0.76      0.72       176\n",
      "\n",
      "        accuracy                           0.69       336\n",
      "       macro avg       0.69      0.68      0.68       336\n",
      "    weighted avg       0.69      0.69      0.69       336\n",
      "\n"
     ]
    },
    {
     "name": "stderr",
     "output_type": "stream",
     "text": [
      "Training Epochs:  98%|█████████▊| 2452/2500 [00:48<00:00, 58.15it/s]"
     ]
    },
    {
     "name": "stdout",
     "output_type": "stream",
     "text": [
      "Epoch 2440/2500, Loss: 0.0753\n",
      "Test Accuracy at Epoch 2440: 69.05%\n",
      "Test F1-score at Epoch 2440: 0.7204\n",
      "Classification Report at Epoch 2440:\n",
      "                  precision    recall  f1-score   support\n",
      "\n",
      "    infringement       0.70      0.61      0.65       160\n",
      "non_infringement       0.68      0.76      0.72       176\n",
      "\n",
      "        accuracy                           0.69       336\n",
      "       macro avg       0.69      0.69      0.69       336\n",
      "    weighted avg       0.69      0.69      0.69       336\n",
      "\n",
      "Epoch 2450/2500, Loss: 0.0732\n",
      "Test Accuracy at Epoch 2450: 68.45%\n",
      "Test F1-score at Epoch 2450: 0.7088\n",
      "Classification Report at Epoch 2450:\n",
      "                  precision    recall  f1-score   support\n",
      "\n",
      "    infringement       0.68      0.63      0.66       160\n",
      "non_infringement       0.69      0.73      0.71       176\n",
      "\n",
      "        accuracy                           0.68       336\n",
      "       macro avg       0.68      0.68      0.68       336\n",
      "    weighted avg       0.68      0.68      0.68       336\n",
      "\n"
     ]
    },
    {
     "name": "stderr",
     "output_type": "stream",
     "text": [
      "Training Epochs:  99%|█████████▊| 2467/2500 [00:48<00:00, 56.75it/s]"
     ]
    },
    {
     "name": "stdout",
     "output_type": "stream",
     "text": [
      "Epoch 2460/2500, Loss: 0.0710\n",
      "Test Accuracy at Epoch 2460: 68.45%\n",
      "Test F1-score at Epoch 2460: 0.7135\n",
      "Classification Report at Epoch 2460:\n",
      "                  precision    recall  f1-score   support\n",
      "\n",
      "    infringement       0.69      0.61      0.65       160\n",
      "non_infringement       0.68      0.75      0.71       176\n",
      "\n",
      "        accuracy                           0.68       336\n",
      "       macro avg       0.69      0.68      0.68       336\n",
      "    weighted avg       0.69      0.68      0.68       336\n",
      "\n",
      "Epoch 2470/2500, Loss: 0.0692\n"
     ]
    },
    {
     "name": "stderr",
     "output_type": "stream",
     "text": [
      "Training Epochs:  99%|█████████▉| 2480/2500 [00:49<00:00, 59.00it/s]"
     ]
    },
    {
     "name": "stdout",
     "output_type": "stream",
     "text": [
      "Test Accuracy at Epoch 2470: 69.05%\n",
      "Test F1-score at Epoch 2470: 0.7158\n",
      "Classification Report at Epoch 2470:\n",
      "                  precision    recall  f1-score   support\n",
      "\n",
      "    infringement       0.69      0.63      0.66       160\n",
      "non_infringement       0.69      0.74      0.72       176\n",
      "\n",
      "        accuracy                           0.69       336\n",
      "       macro avg       0.69      0.69      0.69       336\n",
      "    weighted avg       0.69      0.69      0.69       336\n",
      "\n",
      "Epoch 2480/2500, Loss: 0.0700\n",
      "Test Accuracy at Epoch 2480: 68.75%\n",
      "Test F1-score at Epoch 2480: 0.7139\n",
      "Classification Report at Epoch 2480:\n",
      "                  precision    recall  f1-score   support\n",
      "\n",
      "    infringement       0.69      0.62      0.66       160\n",
      "non_infringement       0.69      0.74      0.71       176\n",
      "\n",
      "        accuracy                           0.69       336\n",
      "       macro avg       0.69      0.68      0.68       336\n",
      "    weighted avg       0.69      0.69      0.69       336\n",
      "\n"
     ]
    },
    {
     "name": "stderr",
     "output_type": "stream",
     "text": [
      "Training Epochs: 100%|██████████| 2500/2500 [00:49<00:00, 50.55it/s]"
     ]
    },
    {
     "name": "stdout",
     "output_type": "stream",
     "text": [
      "Epoch 2490/2500, Loss: 0.0707\n",
      "Test Accuracy at Epoch 2490: 68.15%\n",
      "Test F1-score at Epoch 2490: 0.7100\n",
      "Classification Report at Epoch 2490:\n",
      "                  precision    recall  f1-score   support\n",
      "\n",
      "    infringement       0.69      0.61      0.65       160\n",
      "non_infringement       0.68      0.74      0.71       176\n",
      "\n",
      "        accuracy                           0.68       336\n",
      "       macro avg       0.68      0.68      0.68       336\n",
      "    weighted avg       0.68      0.68      0.68       336\n",
      "\n",
      "Epoch 2500/2500, Loss: 0.0735\n",
      "Test Accuracy at Epoch 2500: 69.05%\n",
      "Test F1-score at Epoch 2500: 0.7143\n",
      "Classification Report at Epoch 2500:\n",
      "                  precision    recall  f1-score   support\n",
      "\n",
      "    infringement       0.69      0.64      0.66       160\n",
      "non_infringement       0.69      0.74      0.71       176\n",
      "\n",
      "        accuracy                           0.69       336\n",
      "       macro avg       0.69      0.69      0.69       336\n",
      "    weighted avg       0.69      0.69      0.69       336\n",
      "\n"
     ]
    },
    {
     "name": "stderr",
     "output_type": "stream",
     "text": [
      "\n",
      "/tmp/ipykernel_3953547/2175062796.py:55: FutureWarning: You are using `torch.load` with `weights_only=False` (the current default value), which uses the default pickle module implicitly. It is possible to construct malicious pickle data which will execute arbitrary code during unpickling (See https://github.com/pytorch/pytorch/blob/main/SECURITY.md#untrusted-models for more details). In a future release, the default value for `weights_only` will be flipped to `True`. This limits the functions that could be executed during unpickling. Arbitrary objects will no longer be allowed to be loaded via this mode unless they are explicitly allowlisted by the user via `torch.serialization.add_safe_globals`. We recommend you start setting `weights_only=True` for any use case where you don't have full control of the loaded file. Please open an issue on GitHub for any issues related to this experimental feature.\n",
      "  custom_mlp.load_state_dict(torch.load(checkpoint_path))\n"
     ]
    },
    {
     "data": {
      "image/png": "[encoded data removed]",
      "text/plain": [
       "<Figure size 1000x500 with 1 Axes>"
      ]
     },
     "metadata": {},
     "output_type": "display_data"
    },
    {
     "name": "stdout",
     "output_type": "stream",
     "text": [
      "Best Model was saved at epoch 330 with F1-score 0.7938 and accuracy 76.19%\n"
     ]
    }
   ],
   "source": [
    "input_dim = X_train.shape[1]\n",
    "hidden_dim = 256\n",
    "\n",
    "custom_mlp, losses, best_accuracy, best_f1 = train_model(X_train, y_train, X_test, y_test, input_dim, hidden_dim)"
   ]
  },
  {
   "cell_type": "code",
   "execution_count": 10,
   "metadata": {},
   "outputs": [
    {
     "name": "stdout",
     "output_type": "stream",
     "text": [
      "Checkpoint saved to '/home/guangwei/LLM-COPYRIGHT/copyright_newVersion/models/train_input_last_token.pth'.\n"
     ]
    }
   ],
   "source": [
    "def save_checkpoint(model, optimizer, epoch, loss, filepath):\n",
    "    checkpoint = {\n",
    "        'epoch': epoch + 1,\n",
    "        'model_state_dict': model.state_dict(),\n",
    "        'optimizer_state_dict': optimizer.state_dict(),\n",
    "        'loss': loss\n",
    "    }\n",
    "    torch.save(checkpoint, filepath)\n",
    "    print(f\"Checkpoint saved to '{filepath}'.\")\n",
    "\n",
    "save_checkpoint(custom_mlp, torch.optim.Adam(custom_mlp.parameters()), len(losses), losses[-1], checkpoint_file)"
   ]
  },
  {
   "cell_type": "code",
   "execution_count": 11,
   "metadata": {},
   "outputs": [
    {
     "name": "stdout",
     "output_type": "stream",
     "text": [
      "Final Model Accuracy: 76.19%\n",
      "                  precision    recall  f1-score   support\n",
      "\n",
      "    infringement       0.82      0.64      0.72       160\n",
      "non_infringement       0.73      0.88      0.79       176\n",
      "\n",
      "        accuracy                           0.76       336\n",
      "       macro avg       0.77      0.76      0.76       336\n",
      "    weighted avg       0.77      0.76      0.76       336\n",
      "\n"
     ]
    },
    {
     "name": "stderr",
     "output_type": "stream",
     "text": [
      "/tmp/ipykernel_3953547/3740627605.py:2: UserWarning: To copy construct from a tensor, it is recommended to use sourceTensor.clone().detach() or sourceTensor.clone().detach().requires_grad_(True), rather than torch.tensor(sourceTensor).\n",
      "  y_pred_final = (torch.sigmoid(torch.tensor(custom_mlp(torch.tensor(X_test, dtype=torch.float32)))) > 0.5).float().numpy()\n"
     ]
    }
   ],
   "source": [
    "print(f\"Final Model Accuracy: {best_accuracy * 100:.2f}%\")\n",
    "y_pred_final = (torch.sigmoid(torch.tensor(custom_mlp(torch.tensor(X_test, dtype=torch.float32)))) > 0.5).float().numpy()\n",
    "print(classification_report(y_test, y_pred_final, target_names=[\"infringement\", \"non_infringement\"]))"
   ]
  }
 ],
 "metadata": {
  "kernelspec": {
   "display_name": "zdh",
   "language": "python",
   "name": "python3"
  },
  "language_info": {
   "codemirror_mode": {
    "name": "ipython",
    "version": 3
   },
   "file_extension": ".py",
   "mimetype": "text/x-python",
   "name": "python",
   "nbconvert_exporter": "python",
   "pygments_lexer": "ipython3",
   "version": "3.12.3"
  }
 },
 "nbformat": 4,
 "nbformat_minor": 2
}
