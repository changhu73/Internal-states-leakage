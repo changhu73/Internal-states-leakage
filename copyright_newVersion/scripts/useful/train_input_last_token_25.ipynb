{
 "cells": [
  {
   "cell_type": "code",
   "execution_count": 1,
   "metadata": {},
   "outputs": [
    {
     "name": "stderr",
     "output_type": "stream",
     "text": [
      "/home/guangwei/miniconda3/envs/zdh/lib/python3.9/site-packages/tqdm/auto.py:21: TqdmWarning: IProgress not found. Please update jupyter and ipywidgets. See https://ipywidgets.readthedocs.io/en/stable/user_install.html\n",
      "  from .autonotebook import tqdm as notebook_tqdm\n"
     ]
    }
   ],
   "source": [
    "# import packages\n",
    "import torch\n",
    "import torch.nn as nn\n",
    "import numpy as np\n",
    "from sklearn.metrics import accuracy_score, classification_report\n",
    "import matplotlib.pyplot as plt\n",
    "from tqdm import tqdm\n",
    "from transformers import AutoTokenizer, AutoModelForCausalLM\n",
    "import json\n",
    "import os\n",
    "\n",
    "os.environ[\"CUDA_VISIBLE_DEVICES\"] = \"5\"\n",
    "\n",
    "# Variables\n",
    "model_name = 'meta-llama/Meta-Llama-3.1-8B'\n",
    "non_infringement_file = '/home/guangwei/LLM-COPYRIGHT/copyright_newVersion/test_division/extra_25.non_infringement.json'\n",
    "infringement_file = '/home/guangwei/LLM-COPYRIGHT/copyright_newVersion/test_division/extra_25.infringement.json'\n",
    "checkpoint_file = '/home/guangwei/LLM-COPYRIGHT/copyright_newVersion/models/train_input_last_token.pth'"
   ]
  },
  {
   "cell_type": "code",
   "execution_count": 2,
   "metadata": {},
   "outputs": [],
   "source": [
    "# Define CustumMLP for internal states train\n",
    "class CustomMLP(nn.Module):\n",
    "    def __init__(self, input_dim, hidden_dim):\n",
    "        super(CustomMLP, self).__init__()\n",
    "        self.down = nn.Linear(input_dim, hidden_dim)\n",
    "        self.gate = nn.Linear(input_dim, hidden_dim)\n",
    "        self.up = nn.Linear(hidden_dim, 1)\n",
    "        self.activation = nn.SiLU()\n",
    "\n",
    "    def forward(self, x):\n",
    "        down_output = self.down(x)\n",
    "        gate_output = self.gate(x)\n",
    "        gated_output = down_output * self.activation(gate_output)\n",
    "        return self.up(gated_output)"
   ]
  },
  {
   "cell_type": "code",
   "execution_count": 3,
   "metadata": {},
   "outputs": [],
   "source": [
    "def extract_hidden_states(texts, model, tokenizer, batch_size=4):\n",
    "    device = torch.device(\"cuda\" if torch.cuda.is_available() else \"cpu\")\n",
    "    model.to(device)\n",
    "    model = nn.DataParallel(model)\n",
    "    hidden_states = []\n",
    "    for i in tqdm(range(0, len(texts), batch_size), desc=\"Processing data batches\"):\n",
    "        batch_texts = texts[i:i + batch_size]\n",
    "        inputs = tokenizer(batch_texts, return_tensors=\"pt\", padding=True, truncation=True)\n",
    "        with torch.no_grad():\n",
    "            outputs = model(**inputs)\n",
    "        \n",
    "        # 访问最后一个隐藏层的最后一个token的隐藏状态\n",
    "        # hidden_states[-1]表示最后一个隐藏层，mean(dim=1)表示取所有头的均值\n",
    "        last_layer_hidden_states = outputs.hidden_states[-1]\n",
    "        last_token_hidden_states = last_layer_hidden_states[:, -1, :]  # -1表示最后一个token\n",
    "        hidden_states.append(last_token_hidden_states.cpu().numpy())\n",
    "    return np.vstack(hidden_states)"
   ]
  },
  {
   "cell_type": "code",
   "execution_count": 4,
   "metadata": {},
   "outputs": [],
   "source": [
    "# lode data for infringement & non infringement\n",
    "def load_data(non_infringement_file, infringement_file):\n",
    "    with open(non_infringement_file, 'r', encoding='utf-8') as file:\n",
    "        non_infringement_json_data = json.load(file)\n",
    "\n",
    "    non_infringement_outputs = [entry['input'] for entry in non_infringement_json_data]\n",
    "    y_non_infringement = [1] * len(non_infringement_outputs)\n",
    "\n",
    "    with open(infringement_file, 'r', encoding='utf-8') as file:\n",
    "        infringement_json_data = json.load(file)\n",
    "\n",
    "    infringement_outputs = [entry['input'] for entry in infringement_json_data]\n",
    "    y_infringement = [0] * len(infringement_outputs)\n",
    "\n",
    "    return non_infringement_outputs, y_non_infringement, infringement_outputs, y_infringement"
   ]
  },
  {
   "cell_type": "code",
   "execution_count": 5,
   "metadata": {},
   "outputs": [],
   "source": [
    "# Train for best model\n",
    "def train_model(X_train, y_train, X_test, y_test, input_dim, hidden_dim, epochs=500, lr=0.001, checkpoint_path=checkpoint_file):\n",
    "    custom_mlp = CustomMLP(input_dim, hidden_dim)\n",
    "    criterion = nn.BCEWithLogitsLoss()\n",
    "    optimizer = torch.optim.Adam(custom_mlp.parameters(), lr=lr)\n",
    "\n",
    "    X_train_tensor = torch.tensor(X_train, dtype=torch.float32)\n",
    "    y_train_tensor = torch.tensor(y_train, dtype=torch.float32).unsqueeze(1)\n",
    "\n",
    "    best_accuracy = -float('inf')  # Initialize the best accuracy to negative infinity\n",
    "    best_model_state = None  # Store the state of the best model\n",
    "    best_epoch = 0  # Track the epoch with the best accuracy\n",
    "    losses = []\n",
    "\n",
    "    for epoch in tqdm(range(epochs), desc=\"Training Epochs\"):\n",
    "        custom_mlp.train()\n",
    "        optimizer.zero_grad()\n",
    "        outputs = custom_mlp(X_train_tensor)\n",
    "        loss = criterion(outputs, y_train_tensor)\n",
    "        loss.backward()\n",
    "        optimizer.step()\n",
    "        losses.append(loss.item())\n",
    "        \n",
    "        if (epoch + 1) % 10 == 0:\n",
    "            print(f\"Epoch {epoch + 1}/{epochs}, Loss: {loss.item():.4f}\")\n",
    "            \n",
    "            custom_mlp.eval()\n",
    "            X_test_tensor = torch.tensor(X_test, dtype=torch.float32)\n",
    "            with torch.no_grad():\n",
    "                y_pred_logits = custom_mlp(X_test_tensor)\n",
    "                y_pred = (torch.sigmoid(y_pred_logits) > 0.5).float().numpy()\n",
    "            \n",
    "            accuracy = accuracy_score(y_test, y_pred)\n",
    "            print(f\"Test Accuracy at Epoch {epoch + 1}: {accuracy * 100:.2f}%\")\n",
    "            \n",
    "            report = classification_report(y_test, y_pred, target_names=[\"infringement\", \"non_infringement\"])\n",
    "            print(f\"Classification Report at Epoch {epoch + 1}:\\n{report}\")\n",
    "\n",
    "            if accuracy > best_accuracy:\n",
    "                best_accuracy = accuracy\n",
    "                best_model_state = custom_mlp.state_dict()\n",
    "                best_epoch = epoch + 1\n",
    "                torch.save(best_model_state, checkpoint_path)\n",
    "                print(f\"New best model saved with accuracy {best_accuracy * 100:.2f}% at epoch {best_epoch}\")\n",
    "                print(f\"Best Classification Report at Epoch {best_epoch}:\\n{report}\")\n",
    "\n",
    "    custom_mlp.load_state_dict(torch.load(checkpoint_path))\n",
    "\n",
    "    plt.figure(figsize=(10, 5))\n",
    "    plt.plot(losses, label='Training Loss')\n",
    "    plt.xlabel('Epoch')\n",
    "    plt.ylabel('Loss')\n",
    "    plt.title('Training Loss Curve')\n",
    "    plt.legend()\n",
    "    plt.show()\n",
    "\n",
    "    print(f\"Best Model was saved at epoch {best_epoch} with accuracy {best_accuracy * 100:.2f}%\")\n",
    "    return custom_mlp, losses, best_accuracy"
   ]
  },
  {
   "cell_type": "code",
   "execution_count": 6,
   "metadata": {},
   "outputs": [
    {
     "name": "stderr",
     "output_type": "stream",
     "text": [
      "/home/guangwei/miniconda3/envs/zdh/lib/python3.9/site-packages/transformers/generation/configuration_utils.py:777: UserWarning: `return_dict_in_generate` is NOT set to `True`, but `output_hidden_states` is. When `return_dict_in_generate` is not `True`, `output_hidden_states` is ignored.\n",
      "  warnings.warn(\n",
      "Loading checkpoint shards: 100%|██████████| 4/4 [00:03<00:00,  1.13it/s]\n"
     ]
    }
   ],
   "source": [
    "\n",
    "tokenizer = AutoTokenizer.from_pretrained(model_name, model_max_length=512)\n",
    "model = AutoModelForCausalLM.from_pretrained(model_name, output_hidden_states=True)\n",
    "tokenizer.pad_token = tokenizer.eos_token\n",
    "\n",
    "non_infringement_outputs, y_non_infringement, infringement_outputs, y_infringement = load_data(non_infringement_file, infringement_file)\n",
    "\n",
    "y_non_infringement = np.array(y_non_infringement)\n",
    "y_infringement = np.array(y_infringement)\n"
   ]
  },
  {
   "cell_type": "code",
   "execution_count": 7,
   "metadata": {},
   "outputs": [
    {
     "name": "stdout",
     "output_type": "stream",
     "text": [
      "Extracting hidden states for non_infringement texts...\n"
     ]
    },
    {
     "name": "stderr",
     "output_type": "stream",
     "text": [
      "Processing data batches:   0%|          | 0/154 [00:00<?, ?it/s]Starting from v4.46, the `logits` model output will have the same type as the model (except at train time, where it will always be FP32)\n",
      "Processing data batches: 100%|██████████| 154/154 [00:39<00:00,  3.93it/s]\n"
     ]
    },
    {
     "name": "stdout",
     "output_type": "stream",
     "text": [
      "Extracting hidden states for infringement texts...\n"
     ]
    },
    {
     "name": "stderr",
     "output_type": "stream",
     "text": [
      "Processing data batches: 100%|██████████| 200/200 [01:14<00:00,  2.69it/s]\n"
     ]
    }
   ],
   "source": [
    "print(\"Extracting hidden states for non_infringement texts...\")\n",
    "X_non_infringement = extract_hidden_states(non_infringement_outputs, model, tokenizer)\n",
    "\n",
    "print(\"Extracting hidden states for infringement texts...\")\n",
    "X_infringement = extract_hidden_states(infringement_outputs, model, tokenizer)"
   ]
  },
  {
   "cell_type": "code",
   "execution_count": 8,
   "metadata": {},
   "outputs": [
    {
     "name": "stdout",
     "output_type": "stream",
     "text": [
      "Data successfully split into training and test sets.\n"
     ]
    }
   ],
   "source": [
    "split_index_non_infringement = int(0.8 * len(X_non_infringement))\n",
    "X_non_infringement_train = X_non_infringement[:split_index_non_infringement]\n",
    "X_non_infringement_test = X_non_infringement[split_index_non_infringement:]\n",
    "y_non_infringement_train = y_non_infringement[:split_index_non_infringement]\n",
    "y_non_infringement_test = y_non_infringement[split_index_non_infringement:]\n",
    "\n",
    "split_index_infringement = int(0.8 * len(X_infringement))\n",
    "X_infringement_train = X_infringement[:split_index_infringement]\n",
    "X_infringement_test = X_infringement[split_index_infringement:]\n",
    "y_infringement_train = y_infringement[:split_index_infringement]\n",
    "y_infringement_test = y_infringement[split_index_infringement:]\n",
    "\n",
    "X_train = np.vstack((X_non_infringement_train, X_infringement_train))\n",
    "X_test = np.vstack((X_non_infringement_test, X_infringement_test))\n",
    "y_train = np.concatenate((y_non_infringement_train, y_infringement_train))\n",
    "y_test = np.concatenate((y_non_infringement_test, y_infringement_test))\n",
    "\n",
    "print(\"Data successfully split into training and test sets.\")\n"
   ]
  },
  {
   "cell_type": "code",
   "execution_count": 9,
   "metadata": {},
   "outputs": [
    {
     "name": "stderr",
     "output_type": "stream",
     "text": [
      "Training Epochs:   3%|▎         | 15/500 [00:00<00:16, 29.01it/s]"
     ]
    },
    {
     "name": "stdout",
     "output_type": "stream",
     "text": [
      "Epoch 10/500, Loss: 0.4590\n",
      "Test Accuracy at Epoch 10: 68.20%\n",
      "Classification Report at Epoch 10:\n",
      "                  precision    recall  f1-score   support\n",
      "\n",
      "    infringement       0.73      0.69      0.71       160\n",
      "non_infringement       0.63      0.67      0.65       123\n",
      "\n",
      "        accuracy                           0.68       283\n",
      "       macro avg       0.68      0.68      0.68       283\n",
      "    weighted avg       0.68      0.68      0.68       283\n",
      "\n",
      "New best model saved with accuracy 68.20% at epoch 10\n",
      "Best Classification Report at Epoch 10:\n",
      "                  precision    recall  f1-score   support\n",
      "\n",
      "    infringement       0.73      0.69      0.71       160\n",
      "non_infringement       0.63      0.67      0.65       123\n",
      "\n",
      "        accuracy                           0.68       283\n",
      "       macro avg       0.68      0.68      0.68       283\n",
      "    weighted avg       0.68      0.68      0.68       283\n",
      "\n"
     ]
    },
    {
     "name": "stderr",
     "output_type": "stream",
     "text": [
      "Training Epochs:   5%|▌         | 25/500 [00:00<00:14, 31.97it/s]"
     ]
    },
    {
     "name": "stdout",
     "output_type": "stream",
     "text": [
      "Epoch 20/500, Loss: 0.3682\n",
      "Test Accuracy at Epoch 20: 67.84%\n",
      "Classification Report at Epoch 20:\n",
      "                  precision    recall  f1-score   support\n",
      "\n",
      "    infringement       0.74      0.67      0.70       160\n",
      "non_infringement       0.62      0.69      0.65       123\n",
      "\n",
      "        accuracy                           0.68       283\n",
      "       macro avg       0.68      0.68      0.68       283\n",
      "    weighted avg       0.68      0.68      0.68       283\n",
      "\n"
     ]
    },
    {
     "name": "stderr",
     "output_type": "stream",
     "text": [
      "Training Epochs:   7%|▋         | 36/500 [00:01<00:11, 40.06it/s]"
     ]
    },
    {
     "name": "stdout",
     "output_type": "stream",
     "text": [
      "Epoch 30/500, Loss: 0.3118\n",
      "Test Accuracy at Epoch 30: 65.02%\n",
      "Classification Report at Epoch 30:\n",
      "                  precision    recall  f1-score   support\n",
      "\n",
      "    infringement       0.71      0.64      0.67       160\n",
      "non_infringement       0.59      0.67      0.62       123\n",
      "\n",
      "        accuracy                           0.65       283\n",
      "       macro avg       0.65      0.65      0.65       283\n",
      "    weighted avg       0.66      0.65      0.65       283\n",
      "\n"
     ]
    },
    {
     "name": "stderr",
     "output_type": "stream",
     "text": [
      "Training Epochs:   9%|▉         | 47/500 [00:01<00:11, 41.07it/s]"
     ]
    },
    {
     "name": "stdout",
     "output_type": "stream",
     "text": [
      "Epoch 40/500, Loss: 0.2587\n",
      "Test Accuracy at Epoch 40: 63.60%\n",
      "Classification Report at Epoch 40:\n",
      "                  precision    recall  f1-score   support\n",
      "\n",
      "    infringement       0.68      0.67      0.68       160\n",
      "non_infringement       0.58      0.59      0.59       123\n",
      "\n",
      "        accuracy                           0.64       283\n",
      "       macro avg       0.63      0.63      0.63       283\n",
      "    weighted avg       0.64      0.64      0.64       283\n",
      "\n"
     ]
    },
    {
     "name": "stderr",
     "output_type": "stream",
     "text": [
      "Training Epochs:  12%|█▏        | 59/500 [00:01<00:09, 48.44it/s]"
     ]
    },
    {
     "name": "stdout",
     "output_type": "stream",
     "text": [
      "Epoch 50/500, Loss: 0.2176\n",
      "Test Accuracy at Epoch 50: 62.90%\n",
      "Classification Report at Epoch 50:\n",
      "                  precision    recall  f1-score   support\n",
      "\n",
      "    infringement       0.67      0.69      0.68       160\n",
      "non_infringement       0.58      0.55      0.56       123\n",
      "\n",
      "        accuracy                           0.63       283\n",
      "       macro avg       0.62      0.62      0.62       283\n",
      "    weighted avg       0.63      0.63      0.63       283\n",
      "\n",
      "Epoch 60/500, Loss: 0.1800\n",
      "Test Accuracy at Epoch 60: 62.19%\n",
      "Classification Report at Epoch 60:\n",
      "                  precision    recall  f1-score   support\n",
      "\n",
      "    infringement       0.66      0.69      0.67       160\n",
      "non_infringement       0.57      0.53      0.55       123\n",
      "\n",
      "        accuracy                           0.62       283\n",
      "       macro avg       0.61      0.61      0.61       283\n",
      "    weighted avg       0.62      0.62      0.62       283\n",
      "\n"
     ]
    },
    {
     "name": "stderr",
     "output_type": "stream",
     "text": [
      "Training Epochs:  15%|█▌        | 77/500 [00:02<00:08, 51.01it/s]"
     ]
    },
    {
     "name": "stdout",
     "output_type": "stream",
     "text": [
      "Epoch 70/500, Loss: 0.2263\n",
      "Test Accuracy at Epoch 70: 60.42%\n",
      "Classification Report at Epoch 70:\n",
      "                  precision    recall  f1-score   support\n",
      "\n",
      "    infringement       0.62      0.78      0.69       160\n",
      "non_infringement       0.57      0.37      0.45       123\n",
      "\n",
      "        accuracy                           0.60       283\n",
      "       macro avg       0.59      0.58      0.57       283\n",
      "    weighted avg       0.60      0.60      0.59       283\n",
      "\n",
      "Epoch 80/500, Loss: 0.1782\n",
      "Test Accuracy at Epoch 80: 62.54%\n",
      "Classification Report at Epoch 80:\n",
      "                  precision    recall  f1-score   support\n",
      "\n",
      "    infringement       0.67      0.67      0.67       160\n",
      "non_infringement       0.57      0.57      0.57       123\n",
      "\n",
      "        accuracy                           0.63       283\n",
      "       macro avg       0.62      0.62      0.62       283\n",
      "    weighted avg       0.63      0.63      0.63       283\n",
      "\n"
     ]
    },
    {
     "name": "stderr",
     "output_type": "stream",
     "text": [
      "Training Epochs:  19%|█▊        | 93/500 [00:02<00:09, 43.82it/s]"
     ]
    },
    {
     "name": "stdout",
     "output_type": "stream",
     "text": [
      "Epoch 90/500, Loss: 0.1518\n",
      "Test Accuracy at Epoch 90: 62.90%\n",
      "Classification Report at Epoch 90:\n",
      "                  precision    recall  f1-score   support\n",
      "\n",
      "    infringement       0.67      0.68      0.67       160\n",
      "non_infringement       0.57      0.57      0.57       123\n",
      "\n",
      "        accuracy                           0.63       283\n",
      "       macro avg       0.62      0.62      0.62       283\n",
      "    weighted avg       0.63      0.63      0.63       283\n",
      "\n"
     ]
    },
    {
     "name": "stderr",
     "output_type": "stream",
     "text": [
      "Training Epochs:  22%|██▏       | 110/500 [00:02<00:08, 47.41it/s]"
     ]
    },
    {
     "name": "stdout",
     "output_type": "stream",
     "text": [
      "Epoch 100/500, Loss: 0.1270\n",
      "Test Accuracy at Epoch 100: 65.37%\n",
      "Classification Report at Epoch 100:\n",
      "                  precision    recall  f1-score   support\n",
      "\n",
      "    infringement       0.69      0.71      0.70       160\n",
      "non_infringement       0.61      0.58      0.59       123\n",
      "\n",
      "        accuracy                           0.65       283\n",
      "       macro avg       0.65      0.64      0.65       283\n",
      "    weighted avg       0.65      0.65      0.65       283\n",
      "\n",
      "Epoch 110/500, Loss: 0.1150\n",
      "Test Accuracy at Epoch 110: 66.08%\n",
      "Classification Report at Epoch 110:\n",
      "                  precision    recall  f1-score   support\n",
      "\n",
      "    infringement       0.70      0.70      0.70       160\n",
      "non_infringement       0.61      0.61      0.61       123\n",
      "\n",
      "        accuracy                           0.66       283\n",
      "       macro avg       0.65      0.65      0.65       283\n",
      "    weighted avg       0.66      0.66      0.66       283\n",
      "\n"
     ]
    },
    {
     "name": "stderr",
     "output_type": "stream",
     "text": [
      "Training Epochs:  24%|██▍       | 121/500 [00:03<00:08, 46.86it/s]"
     ]
    },
    {
     "name": "stdout",
     "output_type": "stream",
     "text": [
      "Epoch 120/500, Loss: 0.1031\n",
      "Test Accuracy at Epoch 120: 66.08%\n",
      "Classification Report at Epoch 120:\n",
      "                  precision    recall  f1-score   support\n",
      "\n",
      "    infringement       0.70      0.70      0.70       160\n",
      "non_infringement       0.61      0.61      0.61       123\n",
      "\n",
      "        accuracy                           0.66       283\n",
      "       macro avg       0.65      0.65      0.65       283\n",
      "    weighted avg       0.66      0.66      0.66       283\n",
      "\n"
     ]
    },
    {
     "name": "stderr",
     "output_type": "stream",
     "text": [
      "Training Epochs:  28%|██▊       | 138/500 [00:03<00:08, 44.77it/s]"
     ]
    },
    {
     "name": "stdout",
     "output_type": "stream",
     "text": [
      "Epoch 130/500, Loss: 0.0937\n",
      "Test Accuracy at Epoch 130: 64.31%\n",
      "Classification Report at Epoch 130:\n",
      "                  precision    recall  f1-score   support\n",
      "\n",
      "    infringement       0.68      0.70      0.69       160\n",
      "non_infringement       0.59      0.57      0.58       123\n",
      "\n",
      "        accuracy                           0.64       283\n",
      "       macro avg       0.64      0.63      0.64       283\n",
      "    weighted avg       0.64      0.64      0.64       283\n",
      "\n",
      "Epoch 140/500, Loss: 0.0860\n",
      "Test Accuracy at Epoch 140: 63.96%\n"
     ]
    },
    {
     "name": "stderr",
     "output_type": "stream",
     "text": [
      "Training Epochs:  29%|██▉       | 144/500 [00:03<00:07, 46.78it/s]"
     ]
    },
    {
     "name": "stdout",
     "output_type": "stream",
     "text": [
      "Classification Report at Epoch 140:\n",
      "                  precision    recall  f1-score   support\n",
      "\n",
      "    infringement       0.68      0.69      0.69       160\n",
      "non_infringement       0.59      0.57      0.58       123\n",
      "\n",
      "        accuracy                           0.64       283\n",
      "       macro avg       0.63      0.63      0.63       283\n",
      "    weighted avg       0.64      0.64      0.64       283\n",
      "\n",
      "Epoch 150/500, Loss: 0.0807\n"
     ]
    },
    {
     "name": "stderr",
     "output_type": "stream",
     "text": [
      "Training Epochs:  31%|███       | 156/500 [00:03<00:07, 47.66it/s]"
     ]
    },
    {
     "name": "stdout",
     "output_type": "stream",
     "text": [
      "Test Accuracy at Epoch 150: 63.60%\n",
      "Classification Report at Epoch 150:\n",
      "                  precision    recall  f1-score   support\n",
      "\n",
      "    infringement       0.68      0.68      0.68       160\n",
      "non_infringement       0.58      0.59      0.58       123\n",
      "\n",
      "        accuracy                           0.64       283\n",
      "       macro avg       0.63      0.63      0.63       283\n",
      "    weighted avg       0.64      0.64      0.64       283\n",
      "\n",
      "Epoch 160/500, Loss: 0.6331\n",
      "Test Accuracy at Epoch 160: 60.78%\n",
      "Classification Report at Epoch 160:\n",
      "                  precision    recall  f1-score   support\n",
      "\n",
      "    infringement       0.62      0.80      0.70       160\n",
      "non_infringement       0.58      0.36      0.44       123\n",
      "\n",
      "        accuracy                           0.61       283\n",
      "       macro avg       0.60      0.58      0.57       283\n",
      "    weighted avg       0.60      0.61      0.59       283\n",
      "\n"
     ]
    },
    {
     "name": "stderr",
     "output_type": "stream",
     "text": [
      "Training Epochs:  35%|███▍      | 174/500 [00:04<00:07, 46.13it/s]"
     ]
    },
    {
     "name": "stdout",
     "output_type": "stream",
     "text": [
      "Epoch 170/500, Loss: 0.3186\n",
      "Test Accuracy at Epoch 170: 67.49%\n",
      "Classification Report at Epoch 170:\n",
      "                  precision    recall  f1-score   support\n",
      "\n",
      "    infringement       0.76      0.62      0.68       160\n",
      "non_infringement       0.60      0.74      0.66       123\n",
      "\n",
      "        accuracy                           0.67       283\n",
      "       macro avg       0.68      0.68      0.67       283\n",
      "    weighted avg       0.69      0.67      0.68       283\n",
      "\n"
     ]
    },
    {
     "name": "stderr",
     "output_type": "stream",
     "text": [
      "Training Epochs:  37%|███▋      | 187/500 [00:04<00:06, 51.66it/s]"
     ]
    },
    {
     "name": "stdout",
     "output_type": "stream",
     "text": [
      "Epoch 180/500, Loss: 0.1808\n",
      "Test Accuracy at Epoch 180: 70.67%\n",
      "Classification Report at Epoch 180:\n",
      "                  precision    recall  f1-score   support\n",
      "\n",
      "    infringement       0.74      0.75      0.74       160\n",
      "non_infringement       0.67      0.65      0.66       123\n",
      "\n",
      "        accuracy                           0.71       283\n",
      "       macro avg       0.70      0.70      0.70       283\n",
      "    weighted avg       0.71      0.71      0.71       283\n",
      "\n",
      "New best model saved with accuracy 70.67% at epoch 180\n",
      "Best Classification Report at Epoch 180:\n",
      "                  precision    recall  f1-score   support\n",
      "\n",
      "    infringement       0.74      0.75      0.74       160\n",
      "non_infringement       0.67      0.65      0.66       123\n",
      "\n",
      "        accuracy                           0.71       283\n",
      "       macro avg       0.70      0.70      0.70       283\n",
      "    weighted avg       0.71      0.71      0.71       283\n",
      "\n"
     ]
    },
    {
     "name": "stderr",
     "output_type": "stream",
     "text": [
      "Training Epochs:  40%|████      | 200/500 [00:04<00:05, 51.16it/s]"
     ]
    },
    {
     "name": "stdout",
     "output_type": "stream",
     "text": [
      "Epoch 190/500, Loss: 0.1232\n",
      "Test Accuracy at Epoch 190: 67.49%\n",
      "Classification Report at Epoch 190:\n",
      "                  precision    recall  f1-score   support\n",
      "\n",
      "    infringement       0.71      0.71      0.71       160\n",
      "non_infringement       0.63      0.63      0.63       123\n",
      "\n",
      "        accuracy                           0.67       283\n",
      "       macro avg       0.67      0.67      0.67       283\n",
      "    weighted avg       0.67      0.67      0.67       283\n",
      "\n",
      "Epoch 200/500, Loss: 0.1019\n",
      "Test Accuracy at Epoch 200: 67.14%\n",
      "Classification Report at Epoch 200:\n",
      "                  precision    recall  f1-score   support\n",
      "\n",
      "    infringement       0.74      0.65      0.69       160\n",
      "non_infringement       0.61      0.70      0.65       123\n",
      "\n",
      "        accuracy                           0.67       283\n",
      "       macro avg       0.67      0.67      0.67       283\n",
      "    weighted avg       0.68      0.67      0.67       283\n",
      "\n"
     ]
    },
    {
     "name": "stderr",
     "output_type": "stream",
     "text": [
      "Training Epochs:  43%|████▎     | 213/500 [00:04<00:05, 49.98it/s]"
     ]
    },
    {
     "name": "stdout",
     "output_type": "stream",
     "text": [
      "Epoch 210/500, Loss: 0.0908\n",
      "Test Accuracy at Epoch 210: 67.14%\n",
      "Classification Report at Epoch 210:\n",
      "                  precision    recall  f1-score   support\n",
      "\n",
      "    infringement       0.72      0.68      0.70       160\n",
      "non_infringement       0.61      0.66      0.64       123\n",
      "\n",
      "        accuracy                           0.67       283\n",
      "       macro avg       0.67      0.67      0.67       283\n",
      "    weighted avg       0.67      0.67      0.67       283\n",
      "\n"
     ]
    },
    {
     "name": "stderr",
     "output_type": "stream",
     "text": [
      "Training Epochs:  45%|████▌     | 227/500 [00:05<00:05, 54.55it/s]"
     ]
    },
    {
     "name": "stdout",
     "output_type": "stream",
     "text": [
      "Epoch 220/500, Loss: 0.0847\n",
      "Test Accuracy at Epoch 220: 66.78%\n",
      "Classification Report at Epoch 220:\n",
      "                  precision    recall  f1-score   support\n",
      "\n",
      "    infringement       0.71      0.70      0.70       160\n",
      "non_infringement       0.62      0.63      0.62       123\n",
      "\n",
      "        accuracy                           0.67       283\n",
      "       macro avg       0.66      0.66      0.66       283\n",
      "    weighted avg       0.67      0.67      0.67       283\n",
      "\n",
      "Epoch 230/500, Loss: 0.0803\n",
      "Test Accuracy at Epoch 230: 65.37%\n",
      "Classification Report at Epoch 230:\n",
      "                  precision    recall  f1-score   support\n",
      "\n",
      "    infringement       0.69      0.70      0.70       160\n",
      "non_infringement       0.60      0.59      0.60       123\n",
      "\n",
      "        accuracy                           0.65       283\n",
      "       macro avg       0.65      0.65      0.65       283\n",
      "    weighted avg       0.65      0.65      0.65       283\n",
      "\n"
     ]
    },
    {
     "name": "stderr",
     "output_type": "stream",
     "text": [
      "Training Epochs:  49%|████▉     | 247/500 [00:05<00:04, 55.77it/s]"
     ]
    },
    {
     "name": "stdout",
     "output_type": "stream",
     "text": [
      "Epoch 240/500, Loss: 0.0773\n",
      "Test Accuracy at Epoch 240: 65.72%\n",
      "Classification Report at Epoch 240:\n",
      "                  precision    recall  f1-score   support\n",
      "\n",
      "    infringement       0.69      0.71      0.70       160\n",
      "non_infringement       0.61      0.59      0.60       123\n",
      "\n",
      "        accuracy                           0.66       283\n",
      "       macro avg       0.65      0.65      0.65       283\n",
      "    weighted avg       0.66      0.66      0.66       283\n",
      "\n",
      "Epoch 250/500, Loss: 0.0752\n",
      "Test Accuracy at Epoch 250: 65.37%\n",
      "Classification Report at Epoch 250:\n",
      "                  precision    recall  f1-score   support\n",
      "\n",
      "    infringement       0.69      0.71      0.70       160\n",
      "non_infringement       0.61      0.59      0.60       123\n",
      "\n",
      "        accuracy                           0.65       283\n",
      "       macro avg       0.65      0.65      0.65       283\n",
      "    weighted avg       0.65      0.65      0.65       283\n",
      "\n"
     ]
    },
    {
     "name": "stderr",
     "output_type": "stream",
     "text": [
      "Training Epochs:  54%|█████▍    | 271/500 [00:06<00:04, 53.51it/s]"
     ]
    },
    {
     "name": "stdout",
     "output_type": "stream",
     "text": [
      "Epoch 260/500, Loss: 0.0737\n",
      "Test Accuracy at Epoch 260: 65.37%\n",
      "Classification Report at Epoch 260:\n",
      "                  precision    recall  f1-score   support\n",
      "\n",
      "    infringement       0.69      0.71      0.70       160\n",
      "non_infringement       0.61      0.58      0.59       123\n",
      "\n",
      "        accuracy                           0.65       283\n",
      "       macro avg       0.65      0.64      0.65       283\n",
      "    weighted avg       0.65      0.65      0.65       283\n",
      "\n",
      "Epoch 270/500, Loss: 0.0725\n",
      "Test Accuracy at Epoch 270: 65.37%\n",
      "Classification Report at Epoch 270:\n",
      "                  precision    recall  f1-score   support\n",
      "\n",
      "    infringement       0.69      0.71      0.70       160\n",
      "non_infringement       0.61      0.58      0.59       123\n",
      "\n",
      "        accuracy                           0.65       283\n",
      "       macro avg       0.65      0.64      0.65       283\n",
      "    weighted avg       0.65      0.65      0.65       283\n",
      "\n"
     ]
    },
    {
     "name": "stderr",
     "output_type": "stream",
     "text": [
      "Training Epochs:  58%|█████▊    | 291/500 [00:06<00:03, 54.61it/s]"
     ]
    },
    {
     "name": "stdout",
     "output_type": "stream",
     "text": [
      "Epoch 280/500, Loss: 0.0716\n",
      "Test Accuracy at Epoch 280: 65.72%\n",
      "Classification Report at Epoch 280:\n",
      "                  precision    recall  f1-score   support\n",
      "\n",
      "    infringement       0.69      0.71      0.70       160\n",
      "non_infringement       0.61      0.59      0.60       123\n",
      "\n",
      "        accuracy                           0.66       283\n",
      "       macro avg       0.65      0.65      0.65       283\n",
      "    weighted avg       0.66      0.66      0.66       283\n",
      "\n",
      "Epoch 290/500, Loss: 0.0708\n",
      "Test Accuracy at Epoch 290: 65.02%\n",
      "Classification Report at Epoch 290:\n",
      "                  precision    recall  f1-score   support\n",
      "\n",
      "    infringement       0.68      0.71      0.70       160\n",
      "non_infringement       0.60      0.58      0.59       123\n",
      "\n",
      "        accuracy                           0.65       283\n",
      "       macro avg       0.64      0.64      0.64       283\n",
      "    weighted avg       0.65      0.65      0.65       283\n",
      "\n"
     ]
    },
    {
     "name": "stderr",
     "output_type": "stream",
     "text": [
      "Training Epochs:  62%|██████▏   | 311/500 [00:06<00:03, 56.93it/s]"
     ]
    },
    {
     "name": "stdout",
     "output_type": "stream",
     "text": [
      "Epoch 300/500, Loss: 0.0702\n",
      "Test Accuracy at Epoch 300: 65.37%\n",
      "Classification Report at Epoch 300:\n",
      "                  precision    recall  f1-score   support\n",
      "\n",
      "    infringement       0.69      0.71      0.70       160\n",
      "non_infringement       0.61      0.58      0.59       123\n",
      "\n",
      "        accuracy                           0.65       283\n",
      "       macro avg       0.65      0.64      0.65       283\n",
      "    weighted avg       0.65      0.65      0.65       283\n",
      "\n",
      "Epoch 310/500, Loss: 0.0697\n",
      "Test Accuracy at Epoch 310: 65.37%\n",
      "Classification Report at Epoch 310:\n",
      "                  precision    recall  f1-score   support\n",
      "\n",
      "    infringement       0.69      0.71      0.70       160\n",
      "non_infringement       0.61      0.58      0.59       123\n",
      "\n",
      "        accuracy                           0.65       283\n",
      "       macro avg       0.65      0.64      0.65       283\n",
      "    weighted avg       0.65      0.65      0.65       283\n",
      "\n"
     ]
    },
    {
     "name": "stderr",
     "output_type": "stream",
     "text": [
      "Training Epochs:  66%|██████▌   | 330/500 [00:07<00:03, 56.58it/s]"
     ]
    },
    {
     "name": "stdout",
     "output_type": "stream",
     "text": [
      "Epoch 320/500, Loss: 0.0693\n",
      "Test Accuracy at Epoch 320: 65.37%\n",
      "Classification Report at Epoch 320:\n",
      "                  precision    recall  f1-score   support\n",
      "\n",
      "    infringement       0.69      0.71      0.70       160\n",
      "non_infringement       0.61      0.58      0.59       123\n",
      "\n",
      "        accuracy                           0.65       283\n",
      "       macro avg       0.65      0.64      0.65       283\n",
      "    weighted avg       0.65      0.65      0.65       283\n",
      "\n",
      "Epoch 330/500, Loss: 0.0689\n",
      "Test Accuracy at Epoch 330: 65.37%\n",
      "Classification Report at Epoch 330:\n",
      "                  precision    recall  f1-score   support\n",
      "\n",
      "    infringement       0.69      0.71      0.70       160\n",
      "non_infringement       0.61      0.58      0.59       123\n",
      "\n",
      "        accuracy                           0.65       283\n",
      "       macro avg       0.65      0.64      0.65       283\n",
      "    weighted avg       0.65      0.65      0.65       283\n",
      "\n"
     ]
    },
    {
     "name": "stderr",
     "output_type": "stream",
     "text": [
      "Training Epochs:  70%|███████   | 351/500 [00:07<00:02, 55.19it/s]"
     ]
    },
    {
     "name": "stdout",
     "output_type": "stream",
     "text": [
      "Epoch 340/500, Loss: 0.0687\n",
      "Test Accuracy at Epoch 340: 65.02%\n",
      "Classification Report at Epoch 340:\n",
      "                  precision    recall  f1-score   support\n",
      "\n",
      "    infringement       0.68      0.71      0.70       160\n",
      "non_infringement       0.60      0.57      0.59       123\n",
      "\n",
      "        accuracy                           0.65       283\n",
      "       macro avg       0.64      0.64      0.64       283\n",
      "    weighted avg       0.65      0.65      0.65       283\n",
      "\n",
      "Epoch 350/500, Loss: 0.0684\n",
      "Test Accuracy at Epoch 350: 64.66%\n",
      "Classification Report at Epoch 350:\n",
      "                  precision    recall  f1-score   support\n",
      "\n",
      "    infringement       0.68      0.71      0.69       160\n",
      "non_infringement       0.60      0.57      0.58       123\n",
      "\n",
      "        accuracy                           0.65       283\n",
      "       macro avg       0.64      0.64      0.64       283\n",
      "    weighted avg       0.64      0.65      0.65       283\n",
      "\n"
     ]
    },
    {
     "name": "stderr",
     "output_type": "stream",
     "text": [
      "Training Epochs:  73%|███████▎  | 364/500 [00:07<00:02, 51.47it/s]"
     ]
    },
    {
     "name": "stdout",
     "output_type": "stream",
     "text": [
      "Epoch 360/500, Loss: 0.0681\n",
      "Test Accuracy at Epoch 360: 65.02%\n",
      "Classification Report at Epoch 360:\n",
      "                  precision    recall  f1-score   support\n",
      "\n",
      "    infringement       0.68      0.71      0.70       160\n",
      "non_infringement       0.60      0.57      0.59       123\n",
      "\n",
      "        accuracy                           0.65       283\n",
      "       macro avg       0.64      0.64      0.64       283\n",
      "    weighted avg       0.65      0.65      0.65       283\n",
      "\n"
     ]
    },
    {
     "name": "stderr",
     "output_type": "stream",
     "text": [
      "Training Epochs:  75%|███████▌  | 376/500 [00:08<00:02, 51.11it/s]"
     ]
    },
    {
     "name": "stdout",
     "output_type": "stream",
     "text": [
      "Epoch 370/500, Loss: 0.0679\n",
      "Test Accuracy at Epoch 370: 64.31%\n",
      "Classification Report at Epoch 370:\n",
      "                  precision    recall  f1-score   support\n",
      "\n",
      "    infringement       0.68      0.71      0.69       160\n",
      "non_infringement       0.59      0.56      0.58       123\n",
      "\n",
      "        accuracy                           0.64       283\n",
      "       macro avg       0.64      0.63      0.63       283\n",
      "    weighted avg       0.64      0.64      0.64       283\n",
      "\n"
     ]
    },
    {
     "name": "stderr",
     "output_type": "stream",
     "text": [
      "Training Epochs:  77%|███████▋  | 387/500 [00:08<00:02, 42.63it/s]"
     ]
    },
    {
     "name": "stdout",
     "output_type": "stream",
     "text": [
      "Epoch 380/500, Loss: 0.0677\n",
      "Test Accuracy at Epoch 380: 64.66%\n",
      "Classification Report at Epoch 380:\n",
      "                  precision    recall  f1-score   support\n",
      "\n",
      "    infringement       0.68      0.71      0.70       160\n",
      "non_infringement       0.60      0.56      0.58       123\n",
      "\n",
      "        accuracy                           0.65       283\n",
      "       macro avg       0.64      0.64      0.64       283\n",
      "    weighted avg       0.64      0.65      0.65       283\n",
      "\n"
     ]
    },
    {
     "name": "stderr",
     "output_type": "stream",
     "text": [
      "Training Epochs:  78%|███████▊  | 392/500 [00:08<00:02, 41.75it/s]"
     ]
    },
    {
     "name": "stdout",
     "output_type": "stream",
     "text": [
      "Epoch 390/500, Loss: 0.0676\n",
      "Test Accuracy at Epoch 390: 64.31%\n",
      "Classification Report at Epoch 390:\n",
      "                  precision    recall  f1-score   support\n",
      "\n",
      "    infringement       0.68      0.71      0.69       160\n",
      "non_infringement       0.59      0.56      0.58       123\n",
      "\n",
      "        accuracy                           0.64       283\n",
      "       macro avg       0.64      0.63      0.63       283\n",
      "    weighted avg       0.64      0.64      0.64       283\n",
      "\n"
     ]
    },
    {
     "name": "stderr",
     "output_type": "stream",
     "text": [
      "Training Epochs:  81%|████████▏ | 407/500 [00:08<00:02, 41.99it/s]"
     ]
    },
    {
     "name": "stdout",
     "output_type": "stream",
     "text": [
      "Epoch 400/500, Loss: 0.0674\n",
      "Test Accuracy at Epoch 400: 64.66%\n",
      "Classification Report at Epoch 400:\n",
      "                  precision    recall  f1-score   support\n",
      "\n",
      "    infringement       0.68      0.71      0.70       160\n",
      "non_infringement       0.60      0.56      0.58       123\n",
      "\n",
      "        accuracy                           0.65       283\n",
      "       macro avg       0.64      0.64      0.64       283\n",
      "    weighted avg       0.64      0.65      0.65       283\n",
      "\n"
     ]
    },
    {
     "name": "stderr",
     "output_type": "stream",
     "text": [
      "Training Epochs:  84%|████████▎ | 418/500 [00:09<00:01, 41.11it/s]"
     ]
    },
    {
     "name": "stdout",
     "output_type": "stream",
     "text": [
      "Epoch 410/500, Loss: 0.0673\n",
      "Test Accuracy at Epoch 410: 64.66%\n",
      "Classification Report at Epoch 410:\n",
      "                  precision    recall  f1-score   support\n",
      "\n",
      "    infringement       0.68      0.71      0.70       160\n",
      "non_infringement       0.60      0.56      0.58       123\n",
      "\n",
      "        accuracy                           0.65       283\n",
      "       macro avg       0.64      0.64      0.64       283\n",
      "    weighted avg       0.64      0.65      0.65       283\n",
      "\n",
      "Epoch 420/500, Loss: 0.0672\n"
     ]
    },
    {
     "name": "stderr",
     "output_type": "stream",
     "text": [
      "Training Epochs:  85%|████████▍ | 423/500 [00:09<00:01, 42.17it/s]"
     ]
    },
    {
     "name": "stdout",
     "output_type": "stream",
     "text": [
      "Test Accuracy at Epoch 420: 64.31%\n",
      "Classification Report at Epoch 420:\n",
      "                  precision    recall  f1-score   support\n",
      "\n",
      "    infringement       0.68      0.71      0.69       160\n",
      "non_infringement       0.59      0.56      0.58       123\n",
      "\n",
      "        accuracy                           0.64       283\n",
      "       macro avg       0.64      0.63      0.63       283\n",
      "    weighted avg       0.64      0.64      0.64       283\n",
      "\n"
     ]
    },
    {
     "name": "stderr",
     "output_type": "stream",
     "text": [
      "Training Epochs:  88%|████████▊ | 439/500 [00:09<00:01, 44.95it/s]"
     ]
    },
    {
     "name": "stdout",
     "output_type": "stream",
     "text": [
      "Epoch 430/500, Loss: 0.0671\n",
      "Test Accuracy at Epoch 430: 64.66%\n",
      "Classification Report at Epoch 430:\n",
      "                  precision    recall  f1-score   support\n",
      "\n",
      "    infringement       0.68      0.71      0.70       160\n",
      "non_infringement       0.60      0.56      0.58       123\n",
      "\n",
      "        accuracy                           0.65       283\n",
      "       macro avg       0.64      0.64      0.64       283\n",
      "    weighted avg       0.64      0.65      0.65       283\n",
      "\n",
      "Epoch 440/500, Loss: 0.0670\n"
     ]
    },
    {
     "name": "stderr",
     "output_type": "stream",
     "text": [
      "Training Epochs:  89%|████████▉ | 444/500 [00:09<00:01, 40.52it/s]"
     ]
    },
    {
     "name": "stdout",
     "output_type": "stream",
     "text": [
      "Test Accuracy at Epoch 440: 64.31%\n",
      "Classification Report at Epoch 440:\n",
      "                  precision    recall  f1-score   support\n",
      "\n",
      "    infringement       0.68      0.71      0.69       160\n",
      "non_infringement       0.59      0.56      0.58       123\n",
      "\n",
      "        accuracy                           0.64       283\n",
      "       macro avg       0.64      0.63      0.63       283\n",
      "    weighted avg       0.64      0.64      0.64       283\n",
      "\n"
     ]
    },
    {
     "name": "stderr",
     "output_type": "stream",
     "text": [
      "Training Epochs:  91%|█████████ | 456/500 [00:09<00:00, 46.78it/s]"
     ]
    },
    {
     "name": "stdout",
     "output_type": "stream",
     "text": [
      "Epoch 450/500, Loss: 0.0669\n",
      "Test Accuracy at Epoch 450: 64.31%\n",
      "Classification Report at Epoch 450:\n",
      "                  precision    recall  f1-score   support\n",
      "\n",
      "    infringement       0.68      0.71      0.69       160\n",
      "non_infringement       0.59      0.56      0.58       123\n",
      "\n",
      "        accuracy                           0.64       283\n",
      "       macro avg       0.64      0.63      0.63       283\n",
      "    weighted avg       0.64      0.64      0.64       283\n",
      "\n",
      "Epoch 460/500, Loss: 0.0668\n",
      "Test Accuracy at Epoch 460: 65.02%\n",
      "Classification Report at Epoch 460:\n",
      "                  precision    recall  f1-score   support\n",
      "\n",
      "    infringement       0.68      0.71      0.70       160\n",
      "non_infringement       0.60      0.57      0.59       123\n",
      "\n",
      "        accuracy                           0.65       283\n",
      "       macro avg       0.64      0.64      0.64       283\n",
      "    weighted avg       0.65      0.65      0.65       283\n",
      "\n"
     ]
    },
    {
     "name": "stderr",
     "output_type": "stream",
     "text": [
      "Training Epochs:  94%|█████████▍| 472/500 [00:10<00:00, 44.40it/s]"
     ]
    },
    {
     "name": "stdout",
     "output_type": "stream",
     "text": [
      "Epoch 470/500, Loss: 0.0667\n",
      "Test Accuracy at Epoch 470: 65.02%\n",
      "Classification Report at Epoch 470:\n",
      "                  precision    recall  f1-score   support\n",
      "\n",
      "    infringement       0.68      0.71      0.70       160\n",
      "non_infringement       0.60      0.57      0.59       123\n",
      "\n",
      "        accuracy                           0.65       283\n",
      "       macro avg       0.64      0.64      0.64       283\n",
      "    weighted avg       0.65      0.65      0.65       283\n",
      "\n"
     ]
    },
    {
     "name": "stderr",
     "output_type": "stream",
     "text": [
      "Training Epochs:  98%|█████████▊| 489/500 [00:10<00:00, 45.11it/s]"
     ]
    },
    {
     "name": "stdout",
     "output_type": "stream",
     "text": [
      "Epoch 480/500, Loss: 0.0667\n",
      "Test Accuracy at Epoch 480: 65.02%\n",
      "Classification Report at Epoch 480:\n",
      "                  precision    recall  f1-score   support\n",
      "\n",
      "    infringement       0.68      0.71      0.70       160\n",
      "non_infringement       0.60      0.57      0.59       123\n",
      "\n",
      "        accuracy                           0.65       283\n",
      "       macro avg       0.64      0.64      0.64       283\n",
      "    weighted avg       0.65      0.65      0.65       283\n",
      "\n",
      "Epoch 490/500, Loss: 0.0666\n"
     ]
    },
    {
     "name": "stderr",
     "output_type": "stream",
     "text": [
      "Training Epochs:  99%|█████████▉| 494/500 [00:10<00:00, 40.38it/s]"
     ]
    },
    {
     "name": "stdout",
     "output_type": "stream",
     "text": [
      "Test Accuracy at Epoch 490: 65.02%\n",
      "Classification Report at Epoch 490:\n",
      "                  precision    recall  f1-score   support\n",
      "\n",
      "    infringement       0.68      0.71      0.70       160\n",
      "non_infringement       0.60      0.57      0.59       123\n",
      "\n",
      "        accuracy                           0.65       283\n",
      "       macro avg       0.64      0.64      0.64       283\n",
      "    weighted avg       0.65      0.65      0.65       283\n",
      "\n"
     ]
    },
    {
     "name": "stderr",
     "output_type": "stream",
     "text": [
      "Training Epochs: 100%|██████████| 500/500 [00:11<00:00, 45.24it/s]\n",
      "/tmp/ipykernel_2528405/3960048660.py:47: FutureWarning: You are using `torch.load` with `weights_only=False` (the current default value), which uses the default pickle module implicitly. It is possible to construct malicious pickle data which will execute arbitrary code during unpickling (See https://github.com/pytorch/pytorch/blob/main/SECURITY.md#untrusted-models for more details). In a future release, the default value for `weights_only` will be flipped to `True`. This limits the functions that could be executed during unpickling. Arbitrary objects will no longer be allowed to be loaded via this mode unless they are explicitly allowlisted by the user via `torch.serialization.add_safe_globals`. We recommend you start setting `weights_only=True` for any use case where you don't have full control of the loaded file. Please open an issue on GitHub for any issues related to this experimental feature.\n",
      "  custom_mlp.load_state_dict(torch.load(checkpoint_path))\n"
     ]
    },
    {
     "name": "stdout",
     "output_type": "stream",
     "text": [
      "Epoch 500/500, Loss: 0.0665\n",
      "Test Accuracy at Epoch 500: 65.02%\n",
      "Classification Report at Epoch 500:\n",
      "                  precision    recall  f1-score   support\n",
      "\n",
      "    infringement       0.68      0.71      0.70       160\n",
      "non_infringement       0.60      0.57      0.59       123\n",
      "\n",
      "        accuracy                           0.65       283\n",
      "       macro avg       0.64      0.64      0.64       283\n",
      "    weighted avg       0.65      0.65      0.65       283\n",
      "\n"
     ]
    },
    {
     "data": {
      "image/png": "[encoded data removed]",
      "text/plain": [
       "<Figure size 1000x500 with 1 Axes>"
      ]
     },
     "metadata": {},
     "output_type": "display_data"
    },
    {
     "name": "stdout",
     "output_type": "stream",
     "text": [
      "Best Model was saved at epoch 180 with accuracy 70.67%\n"
     ]
    }
   ],
   "source": [
    "input_dim = X_train.shape[1]\n",
    "hidden_dim = 256\n",
    "\n",
    "custom_mlp, losses, best_accuracy = train_model(X_train, y_train, X_test, y_test, input_dim, hidden_dim)"
   ]
  },
  {
   "cell_type": "code",
   "execution_count": 10,
   "metadata": {},
   "outputs": [
    {
     "name": "stdout",
     "output_type": "stream",
     "text": [
      "Checkpoint saved to '/home/guangwei/LLM-COPYRIGHT/copyright_newVersion/models/train_input_last_token.pth'.\n"
     ]
    }
   ],
   "source": [
    "def save_checkpoint(model, optimizer, epoch, loss, filepath):\n",
    "    checkpoint = {\n",
    "        'epoch': epoch + 1,\n",
    "        'model_state_dict': model.state_dict(),\n",
    "        'optimizer_state_dict': optimizer.state_dict(),\n",
    "        'loss': loss\n",
    "    }\n",
    "    torch.save(checkpoint, filepath)\n",
    "    print(f\"Checkpoint saved to '{filepath}'.\")\n",
    "\n",
    "save_checkpoint(custom_mlp, torch.optim.Adam(custom_mlp.parameters()), len(losses), losses[-1], checkpoint_file)"
   ]
  },
  {
   "cell_type": "code",
   "execution_count": 11,
   "metadata": {},
   "outputs": [
    {
     "name": "stdout",
     "output_type": "stream",
     "text": [
      "Final Model Accuracy: 70.67%\n",
      "                  precision    recall  f1-score   support\n",
      "\n",
      "    infringement       0.74      0.75      0.74       160\n",
      "non_infringement       0.67      0.65      0.66       123\n",
      "\n",
      "        accuracy                           0.71       283\n",
      "       macro avg       0.70      0.70      0.70       283\n",
      "    weighted avg       0.71      0.71      0.71       283\n",
      "\n"
     ]
    },
    {
     "name": "stderr",
     "output_type": "stream",
     "text": [
      "/tmp/ipykernel_2528405/3740627605.py:2: UserWarning: To copy construct from a tensor, it is recommended to use sourceTensor.clone().detach() or sourceTensor.clone().detach().requires_grad_(True), rather than torch.tensor(sourceTensor).\n",
      "  y_pred_final = (torch.sigmoid(torch.tensor(custom_mlp(torch.tensor(X_test, dtype=torch.float32)))) > 0.5).float().numpy()\n"
     ]
    }
   ],
   "source": [
    "print(f\"Final Model Accuracy: {best_accuracy * 100:.2f}%\")\n",
    "y_pred_final = (torch.sigmoid(torch.tensor(custom_mlp(torch.tensor(X_test, dtype=torch.float32)))) > 0.5).float().numpy()\n",
    "print(classification_report(y_test, y_pred_final, target_names=[\"infringement\", \"non_infringement\"]))"
   ]
  }
 ],
 "metadata": {
  "kernelspec": {
   "display_name": "zdh",
   "language": "python",
   "name": "python3"
  },
  "language_info": {
   "codemirror_mode": {
    "name": "ipython",
    "version": 3
   },
   "file_extension": ".py",
   "mimetype": "text/x-python",
   "name": "python",
   "nbconvert_exporter": "python",
   "pygments_lexer": "ipython3",
   "version": "3.9.20"
  }
 },
 "nbformat": 4,
 "nbformat_minor": 2
}
