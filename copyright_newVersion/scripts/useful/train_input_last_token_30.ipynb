{
 "cells": [
  {
   "cell_type": "code",
   "execution_count": null,
   "metadata": {},
   "outputs": [
    {
     "name": "stderr",
     "output_type": "stream",
     "text": [
      "/home/guangwei/miniconda3/envs/zdh/lib/python3.12/site-packages/tqdm/auto.py:21: TqdmWarning: IProgress not found. Please update jupyter and ipywidgets. See https://ipywidgets.readthedocs.io/en/stable/user_install.html\n",
      "  from .autonotebook import tqdm as notebook_tqdm\n"
     ]
    }
   ],
   "source": [
    "# import packages\n",
    "import torch\n",
    "import torch.nn as nn\n",
    "import numpy as np\n",
    "from sklearn.metrics import accuracy_score, classification_report\n",
    "import matplotlib.pyplot as plt\n",
    "from tqdm import tqdm\n",
    "from transformers import AutoTokenizer, AutoModelForCausalLM\n",
    "import json\n",
    "import os\n",
    "\n",
    "os.environ[\"CUDA_VISIBLE_DEVICES\"] = \"5\"\n",
    "\n",
    "# Variables\n",
    "model_name = 'meta-llama/Meta-Llama-3.1-8B'\n",
    "non_infringement_file = '/home/guangwei/LLM-COPYRIGHT/copyright_newVersion/test_division/extra_30.non_infringement.json'\n",
    "infringement_file = '/home/guangwei/LLM-COPYRIGHT/copyright_newVersion/test_division/extra_30.infringement.json'\n",
    "checkpoint_file = '/home/guangwei/LLM-COPYRIGHT/copyright_newVersion/models/train_input_last_token.pth'"
   ]
  },
  {
   "cell_type": "code",
   "execution_count": 2,
   "metadata": {},
   "outputs": [],
   "source": [
    "# Define CustumMLP for internal states train\n",
    "class CustomMLP(nn.Module):\n",
    "    def __init__(self, input_dim, hidden_dim):\n",
    "        super(CustomMLP, self).__init__()\n",
    "        self.down = nn.Linear(input_dim, hidden_dim)\n",
    "        self.gate = nn.Linear(input_dim, hidden_dim)\n",
    "        self.up = nn.Linear(hidden_dim, 1)\n",
    "        self.activation = nn.SiLU()\n",
    "\n",
    "    def forward(self, x):\n",
    "        down_output = self.down(x)\n",
    "        gate_output = self.gate(x)\n",
    "        gated_output = down_output * self.activation(gate_output)\n",
    "        return self.up(gated_output)"
   ]
  },
  {
   "cell_type": "code",
   "execution_count": 3,
   "metadata": {},
   "outputs": [],
   "source": [
    "def extract_hidden_states(texts, model, tokenizer, batch_size=4):\n",
    "    device = torch.device(\"cuda\" if torch.cuda.is_available() else \"cpu\")\n",
    "    model.to(device)\n",
    "    model = nn.DataParallel(model)\n",
    "    hidden_states = []\n",
    "    for i in tqdm(range(0, len(texts), batch_size), desc=\"Processing data batches\"):\n",
    "        batch_texts = texts[i:i + batch_size]\n",
    "        inputs = tokenizer(batch_texts, return_tensors=\"pt\", padding=True, truncation=True)\n",
    "        with torch.no_grad():\n",
    "            outputs = model(**inputs)\n",
    "        \n",
    "        # 访问最后一个隐藏层的最后一个token的隐藏状态\n",
    "        # hidden_states[-1]表示最后一个隐藏层，mean(dim=1)表示取所有头的均值\n",
    "        last_layer_hidden_states = outputs.hidden_states[-1]\n",
    "        last_token_hidden_states = last_layer_hidden_states[:, -1, :]  # -1表示最后一个token\n",
    "        hidden_states.append(last_token_hidden_states.cpu().numpy())\n",
    "    return np.vstack(hidden_states)"
   ]
  },
  {
   "cell_type": "code",
   "execution_count": 4,
   "metadata": {},
   "outputs": [],
   "source": [
    "# lode data for infringement & non infringement\n",
    "def load_data(non_infringement_file, infringement_file):\n",
    "    with open(non_infringement_file, 'r', encoding='utf-8') as file:\n",
    "        non_infringement_json_data = json.load(file)\n",
    "\n",
    "    non_infringement_outputs = [entry['input'] for entry in non_infringement_json_data]\n",
    "    y_non_infringement = [1] * len(non_infringement_outputs)\n",
    "\n",
    "    with open(infringement_file, 'r', encoding='utf-8') as file:\n",
    "        infringement_json_data = json.load(file)\n",
    "\n",
    "    infringement_outputs = [entry['input'] for entry in infringement_json_data]\n",
    "    y_infringement = [0] * len(infringement_outputs)\n",
    "\n",
    "    return non_infringement_outputs, y_non_infringement, infringement_outputs, y_infringement"
   ]
  },
  {
   "cell_type": "code",
   "execution_count": null,
   "metadata": {},
   "outputs": [],
   "source": [
    "from sklearn.metrics import accuracy_score, classification_report, f1_score\n",
    "\n",
    "# Train for best model\n",
    "def train_model(X_train, y_train, X_test, y_test, input_dim, hidden_dim, epochs=2500, lr=0.001, checkpoint_path=checkpoint_file):\n",
    "    custom_mlp = CustomMLP(input_dim, hidden_dim)\n",
    "    criterion = nn.BCEWithLogitsLoss()\n",
    "    optimizer = torch.optim.Adam(custom_mlp.parameters(), lr=lr)\n",
    "\n",
    "    X_train_tensor = torch.tensor(X_train, dtype=torch.float32)\n",
    "    y_train_tensor = torch.tensor(y_train, dtype=torch.float32).unsqueeze(1)\n",
    "\n",
    "    best_accuracy = -float('inf')  # Initialize the best accuracy to negative infinity\n",
    "    best_f1 = -float('inf')  # Initialize the best F1-score to negative infinity\n",
    "    best_model_state = None  # Store the state of the best model\n",
    "    best_epoch = 0  # Track the epoch with the best accuracy\n",
    "    losses = []\n",
    "\n",
    "    for epoch in tqdm(range(epochs), desc=\"Training Epochs\"):\n",
    "        custom_mlp.train()\n",
    "        optimizer.zero_grad()\n",
    "        outputs = custom_mlp(X_train_tensor)\n",
    "        loss = criterion(outputs, y_train_tensor)\n",
    "        loss.backward()\n",
    "        optimizer.step()\n",
    "        losses.append(loss.item())\n",
    "        \n",
    "        if (epoch + 1) % 10 == 0:\n",
    "            print(f\"Epoch {epoch + 1}/{epochs}, Loss: {loss.item():.4f}\")\n",
    "            \n",
    "            custom_mlp.eval()\n",
    "            X_test_tensor = torch.tensor(X_test, dtype=torch.float32)\n",
    "            with torch.no_grad():\n",
    "                y_pred_logits = custom_mlp(X_test_tensor)\n",
    "                y_pred = (torch.sigmoid(y_pred_logits) > 0.5).float().numpy()\n",
    "            \n",
    "            accuracy = accuracy_score(y_test, y_pred)\n",
    "            f1 = f1_score(y_test, y_pred)  # Calculate F1-score\n",
    "            print(f\"Test Accuracy at Epoch {epoch + 1}: {accuracy * 100:.2f}%\")\n",
    "            print(f\"Test F1-score at Epoch {epoch + 1}: {f1:.4f}\")\n",
    "            \n",
    "            report = classification_report(y_test, y_pred, target_names=[\"infringement\", \"non_infringement\"])\n",
    "            print(f\"Classification Report at Epoch {epoch + 1}:\\n{report}\")\n",
    "\n",
    "            # Check if the current model is the best based on F1-score\n",
    "            if f1 > best_f1:\n",
    "                best_accuracy = accuracy\n",
    "                best_f1 = f1\n",
    "                best_model_state = custom_mlp.state_dict()\n",
    "                best_epoch = epoch + 1\n",
    "                torch.save(best_model_state, checkpoint_path)\n",
    "                print(f\"New best model saved with F1-score {best_f1:.4f} at epoch {best_epoch}\")\n",
    "                print(f\"Best Classification Report at Epoch {best_epoch}:\\n{report}\")\n",
    "\n",
    "    # Load the best model state\n",
    "    custom_mlp.load_state_dict(torch.load(checkpoint_path))\n",
    "\n",
    "    # Plot loss curve\n",
    "    plt.figure(figsize=(10, 5))\n",
    "    plt.plot(losses, label='Training Loss')\n",
    "    plt.xlabel('Epoch')\n",
    "    plt.ylabel('Loss')\n",
    "    plt.title('Training Loss Curve')\n",
    "    plt.legend()\n",
    "    plt.show()\n",
    "\n",
    "    print(f\"Best Model was saved at epoch {best_epoch} with F1-score {best_f1:.4f} and accuracy {best_accuracy * 100:.2f}%\")\n",
    "    return custom_mlp, losses, best_accuracy, best_f1\n"
   ]
  },
  {
   "cell_type": "code",
   "execution_count": 6,
   "metadata": {},
   "outputs": [
    {
     "name": "stderr",
     "output_type": "stream",
     "text": [
      "/home/guangwei/miniconda3/envs/zdh/lib/python3.12/site-packages/transformers/generation/configuration_utils.py:777: UserWarning: `return_dict_in_generate` is NOT set to `True`, but `output_hidden_states` is. When `return_dict_in_generate` is not `True`, `output_hidden_states` is ignored.\n",
      "  warnings.warn(\n",
      "Loading checkpoint shards: 100%|██████████| 4/4 [00:02<00:00,  1.40it/s]\n"
     ]
    }
   ],
   "source": [
    "\n",
    "tokenizer = AutoTokenizer.from_pretrained(model_name, model_max_length=512)\n",
    "model = AutoModelForCausalLM.from_pretrained(model_name, output_hidden_states=True)\n",
    "tokenizer.pad_token = tokenizer.eos_token\n",
    "\n",
    "non_infringement_outputs, y_non_infringement, infringement_outputs, y_infringement = load_data(non_infringement_file, infringement_file)\n",
    "\n",
    "y_non_infringement = np.array(y_non_infringement)\n",
    "y_infringement = np.array(y_infringement)\n"
   ]
  },
  {
   "cell_type": "code",
   "execution_count": 7,
   "metadata": {},
   "outputs": [
    {
     "name": "stdout",
     "output_type": "stream",
     "text": [
      "Extracting hidden states for non_infringement texts...\n"
     ]
    },
    {
     "name": "stderr",
     "output_type": "stream",
     "text": [
      "Processing data batches:   0%|          | 0/232 [00:00<?, ?it/s]Starting from v4.46, the `logits` model output will have the same type as the model (except at train time, where it will always be FP32)\n",
      "Processing data batches: 100%|██████████| 232/232 [01:51<00:00,  2.08it/s]\n"
     ]
    },
    {
     "name": "stdout",
     "output_type": "stream",
     "text": [
      "Extracting hidden states for infringement texts...\n"
     ]
    },
    {
     "name": "stderr",
     "output_type": "stream",
     "text": [
      "Processing data batches: 100%|██████████| 243/243 [02:54<00:00,  1.39it/s]\n"
     ]
    }
   ],
   "source": [
    "print(\"Extracting hidden states for non_infringement texts...\")\n",
    "X_non_infringement = extract_hidden_states(non_infringement_outputs, model, tokenizer)\n",
    "\n",
    "print(\"Extracting hidden states for infringement texts...\")\n",
    "X_infringement = extract_hidden_states(infringement_outputs, model, tokenizer)"
   ]
  },
  {
   "cell_type": "code",
   "execution_count": 8,
   "metadata": {},
   "outputs": [
    {
     "name": "stdout",
     "output_type": "stream",
     "text": [
      "Data successfully split into training and test sets.\n"
     ]
    }
   ],
   "source": [
    "split_index_non_infringement = int(0.8 * len(X_non_infringement))\n",
    "X_non_infringement_train = X_non_infringement[:split_index_non_infringement]\n",
    "X_non_infringement_test = X_non_infringement[split_index_non_infringement:]\n",
    "y_non_infringement_train = y_non_infringement[:split_index_non_infringement]\n",
    "y_non_infringement_test = y_non_infringement[split_index_non_infringement:]\n",
    "\n",
    "split_index_infringement = int(0.8 * len(X_infringement))\n",
    "X_infringement_train = X_infringement[:split_index_infringement]\n",
    "X_infringement_test = X_infringement[split_index_infringement:]\n",
    "y_infringement_train = y_infringement[:split_index_infringement]\n",
    "y_infringement_test = y_infringement[split_index_infringement:]\n",
    "\n",
    "X_train = np.vstack((X_non_infringement_train, X_infringement_train))\n",
    "X_test = np.vstack((X_non_infringement_test, X_infringement_test))\n",
    "y_train = np.concatenate((y_non_infringement_train, y_infringement_train))\n",
    "y_test = np.concatenate((y_non_infringement_test, y_infringement_test))\n",
    "\n",
    "print(\"Data successfully split into training and test sets.\")\n"
   ]
  },
  {
   "cell_type": "code",
   "execution_count": 9,
   "metadata": {},
   "outputs": [
    {
     "name": "stderr",
     "output_type": "stream",
     "text": [
      "Training Epochs:   0%|          | 10/2500 [00:00<01:30, 27.63it/s]"
     ]
    },
    {
     "name": "stdout",
     "output_type": "stream",
     "text": [
      "Epoch 10/2500, Loss: 0.5042\n",
      "Test Accuracy at Epoch 10: 57.89%\n",
      "Test F1-score at Epoch 10: 0.3701\n",
      "Classification Report at Epoch 10:\n",
      "                  precision    recall  f1-score   support\n",
      "\n",
      "    infringement       0.55      0.89      0.68       194\n",
      "non_infringement       0.69      0.25      0.37       186\n",
      "\n",
      "        accuracy                           0.58       380\n",
      "       macro avg       0.62      0.57      0.53       380\n",
      "    weighted avg       0.62      0.58      0.53       380\n",
      "\n",
      "New best model saved with F1-score 0.3701 at epoch 10\n",
      "Best Classification Report at Epoch 10:\n",
      "                  precision    recall  f1-score   support\n",
      "\n",
      "    infringement       0.55      0.89      0.68       194\n",
      "non_infringement       0.69      0.25      0.37       186\n",
      "\n",
      "        accuracy                           0.58       380\n",
      "       macro avg       0.62      0.57      0.53       380\n",
      "    weighted avg       0.62      0.58      0.53       380\n",
      "\n"
     ]
    },
    {
     "name": "stderr",
     "output_type": "stream",
     "text": [
      "Training Epochs:   1%|          | 23/2500 [00:00<01:16, 32.26it/s]"
     ]
    },
    {
     "name": "stdout",
     "output_type": "stream",
     "text": [
      "Epoch 20/2500, Loss: 0.4632\n",
      "Test Accuracy at Epoch 20: 62.89%\n",
      "Test F1-score at Epoch 20: 0.7032\n",
      "Classification Report at Epoch 20:\n",
      "                  precision    recall  f1-score   support\n",
      "\n",
      "    infringement       0.79      0.37      0.51       194\n",
      "non_infringement       0.58      0.90      0.70       186\n",
      "\n",
      "        accuracy                           0.63       380\n",
      "       macro avg       0.68      0.63      0.60       380\n",
      "    weighted avg       0.69      0.63      0.60       380\n",
      "\n",
      "New best model saved with F1-score 0.7032 at epoch 20\n",
      "Best Classification Report at Epoch 20:\n",
      "                  precision    recall  f1-score   support\n",
      "\n",
      "    infringement       0.79      0.37      0.51       194\n",
      "non_infringement       0.58      0.90      0.70       186\n",
      "\n",
      "        accuracy                           0.63       380\n",
      "       macro avg       0.68      0.63      0.60       380\n",
      "    weighted avg       0.69      0.63      0.60       380\n",
      "\n"
     ]
    },
    {
     "name": "stderr",
     "output_type": "stream",
     "text": [
      "Training Epochs:   1%|▏         | 36/2500 [00:01<01:06, 37.32it/s]"
     ]
    },
    {
     "name": "stdout",
     "output_type": "stream",
     "text": [
      "Epoch 30/2500, Loss: 0.4456\n",
      "Test Accuracy at Epoch 30: 64.47%\n",
      "Test F1-score at Epoch 30: 0.6341\n",
      "Classification Report at Epoch 30:\n",
      "                  precision    recall  f1-score   support\n",
      "\n",
      "    infringement       0.65      0.66      0.65       194\n",
      "non_infringement       0.64      0.63      0.63       186\n",
      "\n",
      "        accuracy                           0.64       380\n",
      "       macro avg       0.64      0.64      0.64       380\n",
      "    weighted avg       0.64      0.64      0.64       380\n",
      "\n"
     ]
    },
    {
     "name": "stderr",
     "output_type": "stream",
     "text": [
      "Training Epochs:   2%|▏         | 44/2500 [00:01<01:07, 36.14it/s]"
     ]
    },
    {
     "name": "stdout",
     "output_type": "stream",
     "text": [
      "Epoch 40/2500, Loss: 0.3990\n",
      "Test Accuracy at Epoch 40: 67.63%\n",
      "Test F1-score at Epoch 40: 0.6772\n",
      "Classification Report at Epoch 40:\n",
      "                  precision    recall  f1-score   support\n",
      "\n",
      "    infringement       0.69      0.66      0.68       194\n",
      "non_infringement       0.66      0.69      0.68       186\n",
      "\n",
      "        accuracy                           0.68       380\n",
      "       macro avg       0.68      0.68      0.68       380\n",
      "    weighted avg       0.68      0.68      0.68       380\n",
      "\n"
     ]
    },
    {
     "name": "stderr",
     "output_type": "stream",
     "text": [
      "Training Epochs:   2%|▏         | 54/2500 [00:01<01:01, 39.86it/s]"
     ]
    },
    {
     "name": "stdout",
     "output_type": "stream",
     "text": [
      "Epoch 50/2500, Loss: 0.3628\n",
      "Test Accuracy at Epoch 50: 64.21%\n",
      "Test F1-score at Epoch 50: 0.6531\n",
      "Classification Report at Epoch 50:\n",
      "                  precision    recall  f1-score   support\n",
      "\n",
      "    infringement       0.67      0.60      0.63       194\n",
      "non_infringement       0.62      0.69      0.65       186\n",
      "\n",
      "        accuracy                           0.64       380\n",
      "       macro avg       0.64      0.64      0.64       380\n",
      "    weighted avg       0.64      0.64      0.64       380\n",
      "\n"
     ]
    },
    {
     "name": "stderr",
     "output_type": "stream",
     "text": [
      "Training Epochs:   3%|▎         | 63/2500 [00:01<01:08, 35.67it/s]"
     ]
    },
    {
     "name": "stdout",
     "output_type": "stream",
     "text": [
      "Epoch 60/2500, Loss: 0.3334\n",
      "Test Accuracy at Epoch 60: 68.95%\n",
      "Test F1-score at Epoch 60: 0.7035\n",
      "Classification Report at Epoch 60:\n",
      "                  precision    recall  f1-score   support\n",
      "\n",
      "    infringement       0.73      0.63      0.67       194\n",
      "non_infringement       0.66      0.75      0.70       186\n",
      "\n",
      "        accuracy                           0.69       380\n",
      "       macro avg       0.69      0.69      0.69       380\n",
      "    weighted avg       0.69      0.69      0.69       380\n",
      "\n",
      "New best model saved with F1-score 0.7035 at epoch 60\n",
      "Best Classification Report at Epoch 60:\n",
      "                  precision    recall  f1-score   support\n",
      "\n",
      "    infringement       0.73      0.63      0.67       194\n",
      "non_infringement       0.66      0.75      0.70       186\n",
      "\n",
      "        accuracy                           0.69       380\n",
      "       macro avg       0.69      0.69      0.69       380\n",
      "    weighted avg       0.69      0.69      0.69       380\n",
      "\n"
     ]
    },
    {
     "name": "stderr",
     "output_type": "stream",
     "text": [
      "Training Epochs:   3%|▎         | 77/2500 [00:02<01:07, 35.69it/s]"
     ]
    },
    {
     "name": "stdout",
     "output_type": "stream",
     "text": [
      "Epoch 70/2500, Loss: 0.3101\n",
      "Test Accuracy at Epoch 70: 62.89%\n",
      "Test F1-score at Epoch 70: 0.6299\n",
      "Classification Report at Epoch 70:\n",
      "                  precision    recall  f1-score   support\n",
      "\n",
      "    infringement       0.64      0.61      0.63       194\n",
      "non_infringement       0.62      0.65      0.63       186\n",
      "\n",
      "        accuracy                           0.63       380\n",
      "       macro avg       0.63      0.63      0.63       380\n",
      "    weighted avg       0.63      0.63      0.63       380\n",
      "\n"
     ]
    },
    {
     "name": "stderr",
     "output_type": "stream",
     "text": [
      "Training Epochs:   3%|▎         | 82/2500 [00:02<01:20, 30.02it/s]"
     ]
    },
    {
     "name": "stdout",
     "output_type": "stream",
     "text": [
      "Epoch 80/2500, Loss: 0.2876\n",
      "Test Accuracy at Epoch 80: 66.05%\n",
      "Test F1-score at Epoch 80: 0.6684\n",
      "Classification Report at Epoch 80:\n",
      "                  precision    recall  f1-score   support\n",
      "\n",
      "    infringement       0.68      0.62      0.65       194\n",
      "non_infringement       0.64      0.70      0.67       186\n",
      "\n",
      "        accuracy                           0.66       380\n",
      "       macro avg       0.66      0.66      0.66       380\n",
      "    weighted avg       0.66      0.66      0.66       380\n",
      "\n"
     ]
    },
    {
     "name": "stderr",
     "output_type": "stream",
     "text": [
      "Training Epochs:   4%|▍         | 97/2500 [00:02<01:01, 38.77it/s]"
     ]
    },
    {
     "name": "stdout",
     "output_type": "stream",
     "text": [
      "Epoch 90/2500, Loss: 0.2666\n",
      "Test Accuracy at Epoch 90: 65.00%\n",
      "Test F1-score at Epoch 90: 0.6581\n",
      "Classification Report at Epoch 90:\n",
      "                  precision    recall  f1-score   support\n",
      "\n",
      "    infringement       0.67      0.61      0.64       194\n",
      "non_infringement       0.63      0.69      0.66       186\n",
      "\n",
      "        accuracy                           0.65       380\n",
      "       macro avg       0.65      0.65      0.65       380\n",
      "    weighted avg       0.65      0.65      0.65       380\n",
      "\n"
     ]
    },
    {
     "name": "stderr",
     "output_type": "stream",
     "text": [
      "Training Epochs:   4%|▍         | 107/2500 [00:03<01:03, 37.91it/s]"
     ]
    },
    {
     "name": "stdout",
     "output_type": "stream",
     "text": [
      "Epoch 100/2500, Loss: 0.2469\n",
      "Test Accuracy at Epoch 100: 66.05%\n",
      "Test F1-score at Epoch 100: 0.6649\n",
      "Classification Report at Epoch 100:\n",
      "                  precision    recall  f1-score   support\n",
      "\n",
      "    infringement       0.68      0.63      0.66       194\n",
      "non_infringement       0.64      0.69      0.66       186\n",
      "\n",
      "        accuracy                           0.66       380\n",
      "       macro avg       0.66      0.66      0.66       380\n",
      "    weighted avg       0.66      0.66      0.66       380\n",
      "\n"
     ]
    },
    {
     "name": "stderr",
     "output_type": "stream",
     "text": [
      "Training Epochs:   4%|▍         | 112/2500 [00:03<01:02, 38.05it/s]"
     ]
    },
    {
     "name": "stdout",
     "output_type": "stream",
     "text": [
      "Epoch 110/2500, Loss: 0.2285\n",
      "Test Accuracy at Epoch 110: 66.84%\n",
      "Test F1-score at Epoch 110: 0.6753\n",
      "Classification Report at Epoch 110:\n",
      "                  precision    recall  f1-score   support\n",
      "\n",
      "    infringement       0.69      0.63      0.66       194\n",
      "non_infringement       0.65      0.70      0.68       186\n",
      "\n",
      "        accuracy                           0.67       380\n",
      "       macro avg       0.67      0.67      0.67       380\n",
      "    weighted avg       0.67      0.67      0.67       380\n",
      "\n"
     ]
    },
    {
     "name": "stderr",
     "output_type": "stream",
     "text": [
      "Training Epochs:   5%|▌         | 125/2500 [00:03<01:04, 36.97it/s]"
     ]
    },
    {
     "name": "stdout",
     "output_type": "stream",
     "text": [
      "Epoch 120/2500, Loss: 0.2110\n",
      "Test Accuracy at Epoch 120: 67.11%\n",
      "Test F1-score at Epoch 120: 0.6819\n",
      "Classification Report at Epoch 120:\n",
      "                  precision    recall  f1-score   support\n",
      "\n",
      "    infringement       0.70      0.62      0.66       194\n",
      "non_infringement       0.65      0.72      0.68       186\n",
      "\n",
      "        accuracy                           0.67       380\n",
      "       macro avg       0.67      0.67      0.67       380\n",
      "    weighted avg       0.67      0.67      0.67       380\n",
      "\n"
     ]
    },
    {
     "name": "stderr",
     "output_type": "stream",
     "text": [
      "Training Epochs:   6%|▌         | 138/2500 [00:03<01:02, 37.49it/s]"
     ]
    },
    {
     "name": "stdout",
     "output_type": "stream",
     "text": [
      "Epoch 130/2500, Loss: 0.4415\n",
      "Test Accuracy at Epoch 130: 64.47%\n",
      "Test F1-score at Epoch 130: 0.6110\n",
      "Classification Report at Epoch 130:\n",
      "                  precision    recall  f1-score   support\n",
      "\n",
      "    infringement       0.63      0.72      0.67       194\n",
      "non_infringement       0.66      0.57      0.61       186\n",
      "\n",
      "        accuracy                           0.64       380\n",
      "       macro avg       0.65      0.64      0.64       380\n",
      "    weighted avg       0.65      0.64      0.64       380\n",
      "\n"
     ]
    },
    {
     "name": "stderr",
     "output_type": "stream",
     "text": [
      "Training Epochs:   6%|▌         | 142/2500 [00:04<01:09, 33.70it/s]"
     ]
    },
    {
     "name": "stdout",
     "output_type": "stream",
     "text": [
      "Epoch 140/2500, Loss: 0.2670\n",
      "Test Accuracy at Epoch 140: 64.21%\n",
      "Test F1-score at Epoch 140: 0.6222\n",
      "Classification Report at Epoch 140:\n",
      "                  precision    recall  f1-score   support\n",
      "\n",
      "    infringement       0.64      0.68      0.66       194\n",
      "non_infringement       0.64      0.60      0.62       186\n",
      "\n",
      "        accuracy                           0.64       380\n",
      "       macro avg       0.64      0.64      0.64       380\n",
      "    weighted avg       0.64      0.64      0.64       380\n",
      "\n"
     ]
    },
    {
     "name": "stderr",
     "output_type": "stream",
     "text": [
      "Training Epochs:   6%|▌         | 151/2500 [00:04<01:07, 34.59it/s]"
     ]
    },
    {
     "name": "stdout",
     "output_type": "stream",
     "text": [
      "Epoch 150/2500, Loss: 0.1977\n",
      "Test Accuracy at Epoch 150: 70.53%\n",
      "Test F1-score at Epoch 150: 0.7295\n",
      "Classification Report at Epoch 150:\n",
      "                  precision    recall  f1-score   support\n",
      "\n",
      "    infringement       0.77      0.60      0.68       194\n",
      "non_infringement       0.66      0.81      0.73       186\n",
      "\n",
      "        accuracy                           0.71       380\n",
      "       macro avg       0.72      0.71      0.70       380\n",
      "    weighted avg       0.72      0.71      0.70       380\n",
      "\n",
      "New best model saved with F1-score 0.7295 at epoch 150\n",
      "Best Classification Report at Epoch 150:\n",
      "                  precision    recall  f1-score   support\n",
      "\n",
      "    infringement       0.77      0.60      0.68       194\n",
      "non_infringement       0.66      0.81      0.73       186\n",
      "\n",
      "        accuracy                           0.71       380\n",
      "       macro avg       0.72      0.71      0.70       380\n",
      "    weighted avg       0.72      0.71      0.70       380\n",
      "\n"
     ]
    },
    {
     "name": "stderr",
     "output_type": "stream",
     "text": [
      "Training Epochs:   7%|▋         | 165/2500 [00:04<01:05, 35.81it/s]"
     ]
    },
    {
     "name": "stdout",
     "output_type": "stream",
     "text": [
      "Epoch 160/2500, Loss: 0.1930\n",
      "Test Accuracy at Epoch 160: 66.58%\n",
      "Test F1-score at Epoch 160: 0.6735\n",
      "Classification Report at Epoch 160:\n",
      "                  precision    recall  f1-score   support\n",
      "\n",
      "    infringement       0.69      0.63      0.66       194\n",
      "non_infringement       0.65      0.70      0.67       186\n",
      "\n",
      "        accuracy                           0.67       380\n",
      "       macro avg       0.67      0.67      0.67       380\n",
      "    weighted avg       0.67      0.67      0.67       380\n",
      "\n"
     ]
    },
    {
     "name": "stderr",
     "output_type": "stream",
     "text": [
      "Training Epochs:   7%|▋         | 178/2500 [00:05<01:03, 36.38it/s]"
     ]
    },
    {
     "name": "stdout",
     "output_type": "stream",
     "text": [
      "Epoch 170/2500, Loss: 0.1753\n",
      "Test Accuracy at Epoch 170: 66.32%\n",
      "Test F1-score at Epoch 170: 0.6735\n",
      "Classification Report at Epoch 170:\n",
      "                  precision    recall  f1-score   support\n",
      "\n",
      "    infringement       0.69      0.62      0.65       194\n",
      "non_infringement       0.64      0.71      0.67       186\n",
      "\n",
      "        accuracy                           0.66       380\n",
      "       macro avg       0.67      0.66      0.66       380\n",
      "    weighted avg       0.67      0.66      0.66       380\n",
      "\n"
     ]
    },
    {
     "name": "stderr",
     "output_type": "stream",
     "text": [
      "Training Epochs:   7%|▋         | 182/2500 [00:05<01:11, 32.48it/s]"
     ]
    },
    {
     "name": "stdout",
     "output_type": "stream",
     "text": [
      "Epoch 180/2500, Loss: 0.1620\n",
      "Test Accuracy at Epoch 180: 66.58%\n",
      "Test F1-score at Epoch 180: 0.6701\n",
      "Classification Report at Epoch 180:\n",
      "                  precision    recall  f1-score   support\n",
      "\n",
      "    infringement       0.69      0.64      0.66       194\n",
      "non_infringement       0.65      0.69      0.67       186\n",
      "\n",
      "        accuracy                           0.67       380\n",
      "       macro avg       0.67      0.67      0.67       380\n",
      "    weighted avg       0.67      0.67      0.67       380\n",
      "\n"
     ]
    },
    {
     "name": "stderr",
     "output_type": "stream",
     "text": [
      "Training Epochs:   8%|▊         | 196/2500 [00:05<01:03, 36.17it/s]"
     ]
    },
    {
     "name": "stdout",
     "output_type": "stream",
     "text": [
      "Epoch 190/2500, Loss: 0.1570\n",
      "Test Accuracy at Epoch 190: 66.32%\n",
      "Test F1-score at Epoch 190: 0.6847\n",
      "Classification Report at Epoch 190:\n",
      "                  precision    recall  f1-score   support\n",
      "\n",
      "    infringement       0.71      0.58      0.64       194\n",
      "non_infringement       0.63      0.75      0.68       186\n",
      "\n",
      "        accuracy                           0.66       380\n",
      "       macro avg       0.67      0.66      0.66       380\n",
      "    weighted avg       0.67      0.66      0.66       380\n",
      "\n"
     ]
    },
    {
     "name": "stderr",
     "output_type": "stream",
     "text": [
      "Training Epochs:   8%|▊         | 204/2500 [00:05<01:04, 35.44it/s]"
     ]
    },
    {
     "name": "stdout",
     "output_type": "stream",
     "text": [
      "Epoch 200/2500, Loss: 0.3341\n",
      "Test Accuracy at Epoch 200: 61.05%\n",
      "Test F1-score at Epoch 200: 0.5488\n",
      "Classification Report at Epoch 200:\n",
      "                  precision    recall  f1-score   support\n",
      "\n",
      "    infringement       0.60      0.73      0.66       194\n",
      "non_infringement       0.63      0.48      0.55       186\n",
      "\n",
      "        accuracy                           0.61       380\n",
      "       macro avg       0.62      0.61      0.60       380\n",
      "    weighted avg       0.61      0.61      0.60       380\n",
      "\n"
     ]
    },
    {
     "name": "stderr",
     "output_type": "stream",
     "text": [
      "Training Epochs:   9%|▊         | 213/2500 [00:06<01:08, 33.39it/s]"
     ]
    },
    {
     "name": "stdout",
     "output_type": "stream",
     "text": [
      "Epoch 210/2500, Loss: 0.1915\n",
      "Test Accuracy at Epoch 210: 64.21%\n",
      "Test F1-score at Epoch 210: 0.6158\n",
      "Classification Report at Epoch 210:\n",
      "                  precision    recall  f1-score   support\n",
      "\n",
      "    infringement       0.64      0.70      0.67       194\n",
      "non_infringement       0.65      0.59      0.62       186\n",
      "\n",
      "        accuracy                           0.64       380\n",
      "       macro avg       0.64      0.64      0.64       380\n",
      "    weighted avg       0.64      0.64      0.64       380\n",
      "\n"
     ]
    },
    {
     "name": "stderr",
     "output_type": "stream",
     "text": [
      "Training Epochs:   9%|▉         | 222/2500 [00:06<01:02, 36.66it/s]"
     ]
    },
    {
     "name": "stdout",
     "output_type": "stream",
     "text": [
      "Epoch 220/2500, Loss: 0.1965\n",
      "Test Accuracy at Epoch 220: 65.26%\n",
      "Test F1-score at Epoch 220: 0.6508\n",
      "Classification Report at Epoch 220:\n",
      "                  precision    recall  f1-score   support\n",
      "\n",
      "    infringement       0.66      0.64      0.65       194\n",
      "non_infringement       0.64      0.66      0.65       186\n",
      "\n",
      "        accuracy                           0.65       380\n",
      "       macro avg       0.65      0.65      0.65       380\n",
      "    weighted avg       0.65      0.65      0.65       380\n",
      "\n"
     ]
    },
    {
     "name": "stderr",
     "output_type": "stream",
     "text": [
      "Training Epochs:   9%|▉         | 235/2500 [00:06<01:01, 36.75it/s]"
     ]
    },
    {
     "name": "stdout",
     "output_type": "stream",
     "text": [
      "Epoch 230/2500, Loss: 0.1526\n",
      "Test Accuracy at Epoch 230: 67.11%\n",
      "Test F1-score at Epoch 230: 0.6944\n",
      "Classification Report at Epoch 230:\n",
      "                  precision    recall  f1-score   support\n",
      "\n",
      "    infringement       0.72      0.58      0.64       194\n",
      "non_infringement       0.64      0.76      0.69       186\n",
      "\n",
      "        accuracy                           0.67       380\n",
      "       macro avg       0.68      0.67      0.67       380\n",
      "    weighted avg       0.68      0.67      0.67       380\n",
      "\n"
     ]
    },
    {
     "name": "stderr",
     "output_type": "stream",
     "text": [
      "Training Epochs:  10%|▉         | 243/2500 [00:07<01:04, 34.96it/s]"
     ]
    },
    {
     "name": "stdout",
     "output_type": "stream",
     "text": [
      "Epoch 240/2500, Loss: 0.1424\n",
      "Test Accuracy at Epoch 240: 65.79%\n",
      "Test F1-score at Epoch 240: 0.6597\n",
      "Classification Report at Epoch 240:\n",
      "                  precision    recall  f1-score   support\n",
      "\n",
      "    infringement       0.67      0.64      0.66       194\n",
      "non_infringement       0.64      0.68      0.66       186\n",
      "\n",
      "        accuracy                           0.66       380\n",
      "       macro avg       0.66      0.66      0.66       380\n",
      "    weighted avg       0.66      0.66      0.66       380\n",
      "\n"
     ]
    },
    {
     "name": "stderr",
     "output_type": "stream",
     "text": [
      "Training Epochs:  10%|█         | 252/2500 [00:07<01:07, 33.11it/s]"
     ]
    },
    {
     "name": "stdout",
     "output_type": "stream",
     "text": [
      "Epoch 250/2500, Loss: 0.1345\n",
      "Test Accuracy at Epoch 250: 65.79%\n",
      "Test F1-score at Epoch 250: 0.6632\n",
      "Classification Report at Epoch 250:\n",
      "                  precision    recall  f1-score   support\n",
      "\n",
      "    infringement       0.68      0.63      0.65       194\n",
      "non_infringement       0.64      0.69      0.66       186\n",
      "\n",
      "        accuracy                           0.66       380\n",
      "       macro avg       0.66      0.66      0.66       380\n",
      "    weighted avg       0.66      0.66      0.66       380\n",
      "\n"
     ]
    },
    {
     "name": "stderr",
     "output_type": "stream",
     "text": [
      "Training Epochs:  11%|█         | 265/2500 [00:07<00:59, 37.54it/s]"
     ]
    },
    {
     "name": "stdout",
     "output_type": "stream",
     "text": [
      "Epoch 260/2500, Loss: 0.1296\n",
      "Test Accuracy at Epoch 260: 66.84%\n",
      "Test F1-score at Epoch 260: 0.6786\n",
      "Classification Report at Epoch 260:\n",
      "                  precision    recall  f1-score   support\n",
      "\n",
      "    infringement       0.70      0.62      0.66       194\n",
      "non_infringement       0.65      0.72      0.68       186\n",
      "\n",
      "        accuracy                           0.67       380\n",
      "       macro avg       0.67      0.67      0.67       380\n",
      "    weighted avg       0.67      0.67      0.67       380\n",
      "\n"
     ]
    },
    {
     "name": "stderr",
     "output_type": "stream",
     "text": [
      "Training Epochs:  11%|█         | 273/2500 [00:07<01:04, 34.63it/s]"
     ]
    },
    {
     "name": "stdout",
     "output_type": "stream",
     "text": [
      "Epoch 270/2500, Loss: 0.1246\n",
      "Test Accuracy at Epoch 270: 67.11%\n",
      "Test F1-score at Epoch 270: 0.6803\n",
      "Classification Report at Epoch 270:\n",
      "                  precision    recall  f1-score   support\n",
      "\n",
      "    infringement       0.70      0.63      0.66       194\n",
      "non_infringement       0.65      0.72      0.68       186\n",
      "\n",
      "        accuracy                           0.67       380\n",
      "       macro avg       0.67      0.67      0.67       380\n",
      "    weighted avg       0.67      0.67      0.67       380\n",
      "\n"
     ]
    },
    {
     "name": "stderr",
     "output_type": "stream",
     "text": [
      "Training Epochs:  11%|█▏        | 282/2500 [00:08<01:05, 33.71it/s]"
     ]
    },
    {
     "name": "stdout",
     "output_type": "stream",
     "text": [
      "Epoch 280/2500, Loss: 0.1211\n",
      "Test Accuracy at Epoch 280: 67.11%\n",
      "Test F1-score at Epoch 280: 0.6803\n",
      "Classification Report at Epoch 280:\n",
      "                  precision    recall  f1-score   support\n",
      "\n",
      "    infringement       0.70      0.63      0.66       194\n",
      "non_infringement       0.65      0.72      0.68       186\n",
      "\n",
      "        accuracy                           0.67       380\n",
      "       macro avg       0.67      0.67      0.67       380\n",
      "    weighted avg       0.67      0.67      0.67       380\n",
      "\n"
     ]
    },
    {
     "name": "stderr",
     "output_type": "stream",
     "text": [
      "Training Epochs:  12%|█▏        | 295/2500 [00:08<01:05, 33.56it/s]"
     ]
    },
    {
     "name": "stdout",
     "output_type": "stream",
     "text": [
      "Epoch 290/2500, Loss: 0.1181\n",
      "Test Accuracy at Epoch 290: 67.89%\n",
      "Test F1-score at Epoch 290: 0.6935\n",
      "Classification Report at Epoch 290:\n",
      "                  precision    recall  f1-score   support\n",
      "\n",
      "    infringement       0.71      0.62      0.66       194\n",
      "non_infringement       0.65      0.74      0.69       186\n",
      "\n",
      "        accuracy                           0.68       380\n",
      "       macro avg       0.68      0.68      0.68       380\n",
      "    weighted avg       0.68      0.68      0.68       380\n",
      "\n"
     ]
    },
    {
     "name": "stderr",
     "output_type": "stream",
     "text": [
      "Training Epochs:  12%|█▏        | 305/2500 [00:08<00:59, 36.67it/s]"
     ]
    },
    {
     "name": "stdout",
     "output_type": "stream",
     "text": [
      "Epoch 300/2500, Loss: 0.1156\n",
      "Test Accuracy at Epoch 300: 67.11%\n",
      "Test F1-score at Epoch 300: 0.6803\n",
      "Classification Report at Epoch 300:\n",
      "                  precision    recall  f1-score   support\n",
      "\n",
      "    infringement       0.70      0.63      0.66       194\n",
      "non_infringement       0.65      0.72      0.68       186\n",
      "\n",
      "        accuracy                           0.67       380\n",
      "       macro avg       0.67      0.67      0.67       380\n",
      "    weighted avg       0.67      0.67      0.67       380\n",
      "\n"
     ]
    },
    {
     "name": "stderr",
     "output_type": "stream",
     "text": [
      "Training Epochs:  13%|█▎        | 313/2500 [00:09<01:03, 34.37it/s]"
     ]
    },
    {
     "name": "stdout",
     "output_type": "stream",
     "text": [
      "Epoch 310/2500, Loss: 0.1145\n",
      "Test Accuracy at Epoch 310: 67.37%\n",
      "Test F1-score at Epoch 310: 0.6821\n",
      "Classification Report at Epoch 310:\n",
      "                  precision    recall  f1-score   support\n",
      "\n",
      "    infringement       0.70      0.63      0.66       194\n",
      "non_infringement       0.65      0.72      0.68       186\n",
      "\n",
      "        accuracy                           0.67       380\n",
      "       macro avg       0.68      0.67      0.67       380\n",
      "    weighted avg       0.68      0.67      0.67       380\n",
      "\n"
     ]
    },
    {
     "name": "stderr",
     "output_type": "stream",
     "text": [
      "Training Epochs:  13%|█▎        | 322/2500 [00:09<01:05, 33.32it/s]"
     ]
    },
    {
     "name": "stdout",
     "output_type": "stream",
     "text": [
      "Epoch 320/2500, Loss: 0.6345\n",
      "Test Accuracy at Epoch 320: 63.42%\n",
      "Test F1-score at Epoch 320: 0.7192\n",
      "Classification Report at Epoch 320:\n",
      "                  precision    recall  f1-score   support\n",
      "\n",
      "    infringement       0.89      0.32      0.48       194\n",
      "non_infringement       0.58      0.96      0.72       186\n",
      "\n",
      "        accuracy                           0.63       380\n",
      "       macro avg       0.73      0.64      0.60       380\n",
      "    weighted avg       0.73      0.63      0.59       380\n",
      "\n"
     ]
    },
    {
     "name": "stderr",
     "output_type": "stream",
     "text": [
      "Training Epochs:  13%|█▎        | 330/2500 [00:09<01:08, 31.85it/s]"
     ]
    },
    {
     "name": "stdout",
     "output_type": "stream",
     "text": [
      "Epoch 330/2500, Loss: 0.2819\n",
      "Test Accuracy at Epoch 330: 67.11%\n",
      "Test F1-score at Epoch 330: 0.7368\n",
      "Classification Report at Epoch 330:\n",
      "                  precision    recall  f1-score   support\n",
      "\n",
      "    infringement       0.88      0.41      0.56       194\n",
      "non_infringement       0.61      0.94      0.74       186\n",
      "\n",
      "        accuracy                           0.67       380\n",
      "       macro avg       0.74      0.68      0.65       380\n",
      "    weighted avg       0.75      0.67      0.65       380\n",
      "\n",
      "New best model saved with F1-score 0.7368 at epoch 330\n",
      "Best Classification Report at Epoch 330:\n",
      "                  precision    recall  f1-score   support\n",
      "\n",
      "    infringement       0.88      0.41      0.56       194\n",
      "non_infringement       0.61      0.94      0.74       186\n",
      "\n",
      "        accuracy                           0.67       380\n",
      "       macro avg       0.74      0.68      0.65       380\n",
      "    weighted avg       0.75      0.67      0.65       380\n",
      "\n"
     ]
    },
    {
     "name": "stderr",
     "output_type": "stream",
     "text": [
      "Training Epochs:  14%|█▍        | 345/2500 [00:09<01:01, 35.28it/s]"
     ]
    },
    {
     "name": "stdout",
     "output_type": "stream",
     "text": [
      "Epoch 340/2500, Loss: 0.2876\n",
      "Test Accuracy at Epoch 340: 68.16%\n",
      "Test F1-score at Epoch 340: 0.7231\n",
      "Classification Report at Epoch 340:\n",
      "                  precision    recall  f1-score   support\n",
      "\n",
      "    infringement       0.78      0.52      0.63       194\n",
      "non_infringement       0.63      0.85      0.72       186\n",
      "\n",
      "        accuracy                           0.68       380\n",
      "       macro avg       0.71      0.69      0.67       380\n",
      "    weighted avg       0.71      0.68      0.67       380\n",
      "\n"
     ]
    },
    {
     "name": "stderr",
     "output_type": "stream",
     "text": [
      "Training Epochs:  14%|█▍        | 358/2500 [00:10<00:57, 37.31it/s]"
     ]
    },
    {
     "name": "stdout",
     "output_type": "stream",
     "text": [
      "Epoch 350/2500, Loss: 0.2349\n",
      "Test Accuracy at Epoch 350: 68.95%\n",
      "Test F1-score at Epoch 350: 0.7204\n",
      "Classification Report at Epoch 350:\n",
      "                  precision    recall  f1-score   support\n",
      "\n",
      "    infringement       0.76      0.57      0.65       194\n",
      "non_infringement       0.64      0.82      0.72       186\n",
      "\n",
      "        accuracy                           0.69       380\n",
      "       macro avg       0.70      0.69      0.69       380\n",
      "    weighted avg       0.71      0.69      0.68       380\n",
      "\n"
     ]
    },
    {
     "name": "stderr",
     "output_type": "stream",
     "text": [
      "Training Epochs:  14%|█▍        | 362/2500 [00:10<00:56, 37.59it/s]"
     ]
    },
    {
     "name": "stdout",
     "output_type": "stream",
     "text": [
      "Epoch 360/2500, Loss: 0.2027\n",
      "Test Accuracy at Epoch 360: 67.89%\n",
      "Test F1-score at Epoch 360: 0.6888\n",
      "Classification Report at Epoch 360:\n",
      "                  precision    recall  f1-score   support\n",
      "\n",
      "    infringement       0.71      0.63      0.67       194\n",
      "non_infringement       0.66      0.73      0.69       186\n",
      "\n",
      "        accuracy                           0.68       380\n",
      "       macro avg       0.68      0.68      0.68       380\n",
      "    weighted avg       0.68      0.68      0.68       380\n",
      "\n"
     ]
    },
    {
     "name": "stderr",
     "output_type": "stream",
     "text": [
      "Training Epochs:  15%|█▌        | 375/2500 [00:10<00:55, 38.07it/s]"
     ]
    },
    {
     "name": "stdout",
     "output_type": "stream",
     "text": [
      "Epoch 370/2500, Loss: 0.1809\n",
      "Test Accuracy at Epoch 370: 67.11%\n",
      "Test F1-score at Epoch 370: 0.6803\n",
      "Classification Report at Epoch 370:\n",
      "                  precision    recall  f1-score   support\n",
      "\n",
      "    infringement       0.70      0.63      0.66       194\n",
      "non_infringement       0.65      0.72      0.68       186\n",
      "\n",
      "        accuracy                           0.67       380\n",
      "       macro avg       0.67      0.67      0.67       380\n",
      "    weighted avg       0.67      0.67      0.67       380\n",
      "\n"
     ]
    },
    {
     "name": "stderr",
     "output_type": "stream",
     "text": [
      "Training Epochs:  16%|█▌        | 388/2500 [00:11<00:54, 38.68it/s]"
     ]
    },
    {
     "name": "stdout",
     "output_type": "stream",
     "text": [
      "Epoch 380/2500, Loss: 0.1660\n",
      "Test Accuracy at Epoch 380: 67.89%\n",
      "Test F1-score at Epoch 380: 0.6888\n",
      "Classification Report at Epoch 380:\n",
      "                  precision    recall  f1-score   support\n",
      "\n",
      "    infringement       0.71      0.63      0.67       194\n",
      "non_infringement       0.66      0.73      0.69       186\n",
      "\n",
      "        accuracy                           0.68       380\n",
      "       macro avg       0.68      0.68      0.68       380\n",
      "    weighted avg       0.68      0.68      0.68       380\n",
      "\n"
     ]
    },
    {
     "name": "stderr",
     "output_type": "stream",
     "text": [
      "Training Epochs:  16%|█▌        | 393/2500 [00:11<01:00, 34.55it/s]"
     ]
    },
    {
     "name": "stdout",
     "output_type": "stream",
     "text": [
      "Epoch 390/2500, Loss: 0.1539\n",
      "Test Accuracy at Epoch 390: 67.63%\n",
      "Test F1-score at Epoch 390: 0.6854\n",
      "Classification Report at Epoch 390:\n",
      "                  precision    recall  f1-score   support\n",
      "\n",
      "    infringement       0.70      0.63      0.67       194\n",
      "non_infringement       0.65      0.72      0.69       186\n",
      "\n",
      "        accuracy                           0.68       380\n",
      "       macro avg       0.68      0.68      0.68       380\n",
      "    weighted avg       0.68      0.68      0.68       380\n",
      "\n"
     ]
    },
    {
     "name": "stderr",
     "output_type": "stream",
     "text": [
      "Training Epochs:  16%|█▌        | 402/2500 [00:11<00:59, 35.30it/s]"
     ]
    },
    {
     "name": "stdout",
     "output_type": "stream",
     "text": [
      "Epoch 400/2500, Loss: 0.1448\n",
      "Test Accuracy at Epoch 400: 67.63%\n",
      "Test F1-score at Epoch 400: 0.6854\n",
      "Classification Report at Epoch 400:\n",
      "                  precision    recall  f1-score   support\n",
      "\n",
      "    infringement       0.70      0.63      0.67       194\n",
      "non_infringement       0.65      0.72      0.69       186\n",
      "\n",
      "        accuracy                           0.68       380\n",
      "       macro avg       0.68      0.68      0.68       380\n",
      "    weighted avg       0.68      0.68      0.68       380\n",
      "\n"
     ]
    },
    {
     "name": "stderr",
     "output_type": "stream",
     "text": [
      "Training Epochs:  17%|█▋        | 415/2500 [00:11<00:56, 36.84it/s]"
     ]
    },
    {
     "name": "stdout",
     "output_type": "stream",
     "text": [
      "Epoch 410/2500, Loss: 0.1372\n",
      "Test Accuracy at Epoch 410: 67.37%\n",
      "Test F1-score at Epoch 410: 0.6837\n",
      "Classification Report at Epoch 410:\n",
      "                  precision    recall  f1-score   support\n",
      "\n",
      "    infringement       0.70      0.63      0.66       194\n",
      "non_infringement       0.65      0.72      0.68       186\n",
      "\n",
      "        accuracy                           0.67       380\n",
      "       macro avg       0.68      0.67      0.67       380\n",
      "    weighted avg       0.68      0.67      0.67       380\n",
      "\n"
     ]
    },
    {
     "name": "stderr",
     "output_type": "stream",
     "text": [
      "Training Epochs:  17%|█▋        | 424/2500 [00:12<00:58, 35.27it/s]"
     ]
    },
    {
     "name": "stdout",
     "output_type": "stream",
     "text": [
      "Epoch 420/2500, Loss: 0.1310\n",
      "Test Accuracy at Epoch 420: 67.63%\n",
      "Test F1-score at Epoch 420: 0.6870\n",
      "Classification Report at Epoch 420:\n",
      "                  precision    recall  f1-score   support\n",
      "\n",
      "    infringement       0.71      0.63      0.66       194\n",
      "non_infringement       0.65      0.73      0.69       186\n",
      "\n",
      "        accuracy                           0.68       380\n",
      "       macro avg       0.68      0.68      0.68       380\n",
      "    weighted avg       0.68      0.68      0.68       380\n",
      "\n"
     ]
    },
    {
     "name": "stderr",
     "output_type": "stream",
     "text": [
      "Training Epochs:  17%|█▋        | 433/2500 [00:12<00:55, 37.35it/s]"
     ]
    },
    {
     "name": "stdout",
     "output_type": "stream",
     "text": [
      "Epoch 430/2500, Loss: 0.1260\n",
      "Test Accuracy at Epoch 430: 67.37%\n",
      "Test F1-score at Epoch 430: 0.6837\n",
      "Classification Report at Epoch 430:\n",
      "                  precision    recall  f1-score   support\n",
      "\n",
      "    infringement       0.70      0.63      0.66       194\n",
      "non_infringement       0.65      0.72      0.68       186\n",
      "\n",
      "        accuracy                           0.67       380\n",
      "       macro avg       0.68      0.67      0.67       380\n",
      "    weighted avg       0.68      0.67      0.67       380\n",
      "\n"
     ]
    },
    {
     "name": "stderr",
     "output_type": "stream",
     "text": [
      "Training Epochs:  18%|█▊        | 446/2500 [00:12<00:56, 36.56it/s]"
     ]
    },
    {
     "name": "stdout",
     "output_type": "stream",
     "text": [
      "Epoch 440/2500, Loss: 0.1218\n",
      "Test Accuracy at Epoch 440: 68.42%\n",
      "Test F1-score at Epoch 440: 0.6842\n",
      "Classification Report at Epoch 440:\n",
      "                  precision    recall  f1-score   support\n",
      "\n",
      "    infringement       0.70      0.67      0.68       194\n",
      "non_infringement       0.67      0.70      0.68       186\n",
      "\n",
      "        accuracy                           0.68       380\n",
      "       macro avg       0.68      0.68      0.68       380\n",
      "    weighted avg       0.68      0.68      0.68       380\n",
      "\n"
     ]
    },
    {
     "name": "stderr",
     "output_type": "stream",
     "text": [
      "Training Epochs:  18%|█▊        | 455/2500 [00:13<00:58, 35.00it/s]"
     ]
    },
    {
     "name": "stdout",
     "output_type": "stream",
     "text": [
      "Epoch 450/2500, Loss: 0.2358\n",
      "Test Accuracy at Epoch 450: 66.32%\n",
      "Test F1-score at Epoch 450: 0.6541\n",
      "Classification Report at Epoch 450:\n",
      "                  precision    recall  f1-score   support\n",
      "\n",
      "    infringement       0.67      0.68      0.67       194\n",
      "non_infringement       0.66      0.65      0.65       186\n",
      "\n",
      "        accuracy                           0.66       380\n",
      "       macro avg       0.66      0.66      0.66       380\n",
      "    weighted avg       0.66      0.66      0.66       380\n",
      "\n"
     ]
    },
    {
     "name": "stderr",
     "output_type": "stream",
     "text": [
      "Training Epochs:  19%|█▊        | 464/2500 [00:13<00:59, 33.96it/s]"
     ]
    },
    {
     "name": "stdout",
     "output_type": "stream",
     "text": [
      "Epoch 460/2500, Loss: 0.4351\n",
      "Test Accuracy at Epoch 460: 67.37%\n",
      "Test F1-score at Epoch 460: 0.7269\n",
      "Classification Report at Epoch 460:\n",
      "                  precision    recall  f1-score   support\n",
      "\n",
      "    infringement       0.81      0.47      0.59       194\n",
      "non_infringement       0.62      0.89      0.73       186\n",
      "\n",
      "        accuracy                           0.67       380\n",
      "       macro avg       0.71      0.68      0.66       380\n",
      "    weighted avg       0.72      0.67      0.66       380\n",
      "\n"
     ]
    },
    {
     "name": "stderr",
     "output_type": "stream",
     "text": [
      "Training Epochs:  19%|█▉        | 473/2500 [00:13<00:54, 37.28it/s]"
     ]
    },
    {
     "name": "stdout",
     "output_type": "stream",
     "text": [
      "Epoch 470/2500, Loss: 0.2283\n",
      "Test Accuracy at Epoch 470: 66.58%\n",
      "Test F1-score at Epoch 470: 0.6768\n",
      "Classification Report at Epoch 470:\n",
      "                  precision    recall  f1-score   support\n",
      "\n",
      "    infringement       0.69      0.62      0.65       194\n",
      "non_infringement       0.64      0.72      0.68       186\n",
      "\n",
      "        accuracy                           0.67       380\n",
      "       macro avg       0.67      0.67      0.67       380\n",
      "    weighted avg       0.67      0.67      0.67       380\n",
      "\n"
     ]
    },
    {
     "name": "stderr",
     "output_type": "stream",
     "text": [
      "Training Epochs:  19%|█▉        | 486/2500 [00:13<00:52, 38.08it/s]"
     ]
    },
    {
     "name": "stdout",
     "output_type": "stream",
     "text": [
      "Epoch 480/2500, Loss: 0.1648\n",
      "Test Accuracy at Epoch 480: 67.63%\n",
      "Test F1-score at Epoch 480: 0.6854\n",
      "Classification Report at Epoch 480:\n",
      "                  precision    recall  f1-score   support\n",
      "\n",
      "    infringement       0.70      0.63      0.67       194\n",
      "non_infringement       0.65      0.72      0.69       186\n",
      "\n",
      "        accuracy                           0.68       380\n",
      "       macro avg       0.68      0.68      0.68       380\n",
      "    weighted avg       0.68      0.68      0.68       380\n",
      "\n"
     ]
    },
    {
     "name": "stderr",
     "output_type": "stream",
     "text": [
      "Training Epochs:  20%|█▉        | 495/2500 [00:14<00:56, 35.65it/s]"
     ]
    },
    {
     "name": "stdout",
     "output_type": "stream",
     "text": [
      "Epoch 490/2500, Loss: 0.1477\n",
      "Test Accuracy at Epoch 490: 67.63%\n",
      "Test F1-score at Epoch 490: 0.6917\n",
      "Classification Report at Epoch 490:\n",
      "                  precision    recall  f1-score   support\n",
      "\n",
      "    infringement       0.71      0.61      0.66       194\n",
      "non_infringement       0.65      0.74      0.69       186\n",
      "\n",
      "        accuracy                           0.68       380\n",
      "       macro avg       0.68      0.68      0.68       380\n",
      "    weighted avg       0.68      0.68      0.68       380\n",
      "\n"
     ]
    },
    {
     "name": "stderr",
     "output_type": "stream",
     "text": [
      "Training Epochs:  20%|██        | 505/2500 [00:14<00:49, 40.00it/s]"
     ]
    },
    {
     "name": "stdout",
     "output_type": "stream",
     "text": [
      "Epoch 500/2500, Loss: 0.1351\n",
      "Test Accuracy at Epoch 500: 67.89%\n",
      "Test F1-score at Epoch 500: 0.6935\n",
      "Classification Report at Epoch 500:\n",
      "                  precision    recall  f1-score   support\n",
      "\n",
      "    infringement       0.71      0.62      0.66       194\n",
      "non_infringement       0.65      0.74      0.69       186\n",
      "\n",
      "        accuracy                           0.68       380\n",
      "       macro avg       0.68      0.68      0.68       380\n",
      "    weighted avg       0.68      0.68      0.68       380\n",
      "\n"
     ]
    },
    {
     "name": "stderr",
     "output_type": "stream",
     "text": [
      "Training Epochs:  21%|██        | 515/2500 [00:14<00:51, 38.20it/s]"
     ]
    },
    {
     "name": "stdout",
     "output_type": "stream",
     "text": [
      "Epoch 510/2500, Loss: 0.1292\n",
      "Test Accuracy at Epoch 510: 67.63%\n",
      "Test F1-score at Epoch 510: 0.6902\n",
      "Classification Report at Epoch 510:\n",
      "                  precision    recall  f1-score   support\n",
      "\n",
      "    infringement       0.71      0.62      0.66       194\n",
      "non_infringement       0.65      0.74      0.69       186\n",
      "\n",
      "        accuracy                           0.68       380\n",
      "       macro avg       0.68      0.68      0.68       380\n",
      "    weighted avg       0.68      0.68      0.68       380\n",
      "\n"
     ]
    },
    {
     "name": "stderr",
     "output_type": "stream",
     "text": [
      "Training Epochs:  21%|██        | 525/2500 [00:14<00:54, 36.43it/s]"
     ]
    },
    {
     "name": "stdout",
     "output_type": "stream",
     "text": [
      "Epoch 520/2500, Loss: 0.1247\n",
      "Test Accuracy at Epoch 520: 67.63%\n",
      "Test F1-score at Epoch 520: 0.6886\n",
      "Classification Report at Epoch 520:\n",
      "                  precision    recall  f1-score   support\n",
      "\n",
      "    infringement       0.71      0.62      0.66       194\n",
      "non_infringement       0.65      0.73      0.69       186\n",
      "\n",
      "        accuracy                           0.68       380\n",
      "       macro avg       0.68      0.68      0.68       380\n",
      "    weighted avg       0.68      0.68      0.68       380\n",
      "\n"
     ]
    },
    {
     "name": "stderr",
     "output_type": "stream",
     "text": [
      "Training Epochs:  21%|██▏       | 535/2500 [00:15<00:49, 39.95it/s]"
     ]
    },
    {
     "name": "stdout",
     "output_type": "stream",
     "text": [
      "Epoch 530/2500, Loss: 0.1213\n",
      "Test Accuracy at Epoch 530: 67.37%\n",
      "Test F1-score at Epoch 530: 0.6853\n",
      "Classification Report at Epoch 530:\n",
      "                  precision    recall  f1-score   support\n",
      "\n",
      "    infringement       0.70      0.62      0.66       194\n",
      "non_infringement       0.65      0.73      0.69       186\n",
      "\n",
      "        accuracy                           0.67       380\n",
      "       macro avg       0.68      0.67      0.67       380\n",
      "    weighted avg       0.68      0.67      0.67       380\n",
      "\n"
     ]
    },
    {
     "name": "stderr",
     "output_type": "stream",
     "text": [
      "Training Epochs:  22%|██▏       | 545/2500 [00:15<00:51, 38.24it/s]"
     ]
    },
    {
     "name": "stdout",
     "output_type": "stream",
     "text": [
      "Epoch 540/2500, Loss: 0.1187\n",
      "Test Accuracy at Epoch 540: 67.89%\n",
      "Test F1-score at Epoch 540: 0.6919\n",
      "Classification Report at Epoch 540:\n",
      "                  precision    recall  f1-score   support\n",
      "\n",
      "    infringement       0.71      0.62      0.66       194\n",
      "non_infringement       0.65      0.74      0.69       186\n",
      "\n",
      "        accuracy                           0.68       380\n",
      "       macro avg       0.68      0.68      0.68       380\n",
      "    weighted avg       0.68      0.68      0.68       380\n",
      "\n"
     ]
    },
    {
     "name": "stderr",
     "output_type": "stream",
     "text": [
      "Training Epochs:  22%|██▏       | 555/2500 [00:15<00:52, 36.82it/s]"
     ]
    },
    {
     "name": "stdout",
     "output_type": "stream",
     "text": [
      "Epoch 550/2500, Loss: 0.1165\n",
      "Test Accuracy at Epoch 550: 67.63%\n",
      "Test F1-score at Epoch 550: 0.6886\n",
      "Classification Report at Epoch 550:\n",
      "                  precision    recall  f1-score   support\n",
      "\n",
      "    infringement       0.71      0.62      0.66       194\n",
      "non_infringement       0.65      0.73      0.69       186\n",
      "\n",
      "        accuracy                           0.68       380\n",
      "       macro avg       0.68      0.68      0.68       380\n",
      "    weighted avg       0.68      0.68      0.68       380\n",
      "\n"
     ]
    },
    {
     "name": "stderr",
     "output_type": "stream",
     "text": [
      "Training Epochs:  23%|██▎       | 565/2500 [00:16<00:49, 39.38it/s]"
     ]
    },
    {
     "name": "stdout",
     "output_type": "stream",
     "text": [
      "Epoch 560/2500, Loss: 0.1146\n",
      "Test Accuracy at Epoch 560: 69.21%\n",
      "Test F1-score at Epoch 560: 0.6992\n",
      "Classification Report at Epoch 560:\n",
      "                  precision    recall  f1-score   support\n",
      "\n",
      "    infringement       0.72      0.65      0.68       194\n",
      "non_infringement       0.67      0.73      0.70       186\n",
      "\n",
      "        accuracy                           0.69       380\n",
      "       macro avg       0.69      0.69      0.69       380\n",
      "    weighted avg       0.69      0.69      0.69       380\n",
      "\n"
     ]
    },
    {
     "name": "stderr",
     "output_type": "stream",
     "text": [
      "Training Epochs:  23%|██▎       | 575/2500 [00:16<00:51, 37.19it/s]"
     ]
    },
    {
     "name": "stdout",
     "output_type": "stream",
     "text": [
      "Epoch 570/2500, Loss: 0.1130\n",
      "Test Accuracy at Epoch 570: 69.21%\n",
      "Test F1-score at Epoch 570: 0.6992\n",
      "Classification Report at Epoch 570:\n",
      "                  precision    recall  f1-score   support\n",
      "\n",
      "    infringement       0.72      0.65      0.68       194\n",
      "non_infringement       0.67      0.73      0.70       186\n",
      "\n",
      "        accuracy                           0.69       380\n",
      "       macro avg       0.69      0.69      0.69       380\n",
      "    weighted avg       0.69      0.69      0.69       380\n",
      "\n"
     ]
    },
    {
     "name": "stderr",
     "output_type": "stream",
     "text": [
      "Training Epochs:  23%|██▎       | 584/2500 [00:16<00:56, 34.15it/s]"
     ]
    },
    {
     "name": "stdout",
     "output_type": "stream",
     "text": [
      "Epoch 580/2500, Loss: 0.1115\n",
      "Test Accuracy at Epoch 580: 68.68%\n",
      "Test F1-score at Epoch 580: 0.6941\n",
      "Classification Report at Epoch 580:\n",
      "                  precision    recall  f1-score   support\n",
      "\n",
      "    infringement       0.71      0.65      0.68       194\n",
      "non_infringement       0.67      0.73      0.69       186\n",
      "\n",
      "        accuracy                           0.69       380\n",
      "       macro avg       0.69      0.69      0.69       380\n",
      "    weighted avg       0.69      0.69      0.69       380\n",
      "\n"
     ]
    },
    {
     "name": "stderr",
     "output_type": "stream",
     "text": [
      "Training Epochs:  24%|██▎       | 593/2500 [00:16<00:52, 36.06it/s]"
     ]
    },
    {
     "name": "stdout",
     "output_type": "stream",
     "text": [
      "Epoch 590/2500, Loss: 0.1103\n",
      "Test Accuracy at Epoch 590: 69.74%\n",
      "Test F1-score at Epoch 590: 0.6950\n",
      "Classification Report at Epoch 590:\n",
      "                  precision    recall  f1-score   support\n",
      "\n",
      "    infringement       0.71      0.69      0.70       194\n",
      "non_infringement       0.69      0.70      0.69       186\n",
      "\n",
      "        accuracy                           0.70       380\n",
      "       macro avg       0.70      0.70      0.70       380\n",
      "    weighted avg       0.70      0.70      0.70       380\n",
      "\n"
     ]
    },
    {
     "name": "stderr",
     "output_type": "stream",
     "text": [
      "Training Epochs:  24%|██▍       | 601/2500 [00:17<01:02, 30.63it/s]"
     ]
    },
    {
     "name": "stdout",
     "output_type": "stream",
     "text": [
      "Epoch 600/2500, Loss: 0.1092\n",
      "Test Accuracy at Epoch 600: 69.47%\n",
      "Test F1-score at Epoch 600: 0.6931\n",
      "Classification Report at Epoch 600:\n",
      "                  precision    recall  f1-score   support\n",
      "\n",
      "    infringement       0.71      0.69      0.70       194\n",
      "non_infringement       0.68      0.70      0.69       186\n",
      "\n",
      "        accuracy                           0.69       380\n",
      "       macro avg       0.69      0.69      0.69       380\n",
      "    weighted avg       0.70      0.69      0.69       380\n",
      "\n"
     ]
    },
    {
     "name": "stderr",
     "output_type": "stream",
     "text": [
      "Training Epochs:  25%|██▍       | 615/2500 [00:17<00:55, 33.71it/s]"
     ]
    },
    {
     "name": "stdout",
     "output_type": "stream",
     "text": [
      "Epoch 610/2500, Loss: 0.1082\n",
      "Test Accuracy at Epoch 610: 69.21%\n",
      "Test F1-score at Epoch 610: 0.6913\n",
      "Classification Report at Epoch 610:\n",
      "                  precision    recall  f1-score   support\n",
      "\n",
      "    infringement       0.71      0.68      0.69       194\n",
      "non_infringement       0.68      0.70      0.69       186\n",
      "\n",
      "        accuracy                           0.69       380\n",
      "       macro avg       0.69      0.69      0.69       380\n",
      "    weighted avg       0.69      0.69      0.69       380\n",
      "\n"
     ]
    },
    {
     "name": "stderr",
     "output_type": "stream",
     "text": [
      "Training Epochs:  25%|██▍       | 624/2500 [00:17<00:57, 32.38it/s]"
     ]
    },
    {
     "name": "stdout",
     "output_type": "stream",
     "text": [
      "Epoch 620/2500, Loss: 0.1073\n",
      "Test Accuracy at Epoch 620: 69.47%\n",
      "Test F1-score at Epoch 620: 0.6931\n",
      "Classification Report at Epoch 620:\n",
      "                  precision    recall  f1-score   support\n",
      "\n",
      "    infringement       0.71      0.69      0.70       194\n",
      "non_infringement       0.68      0.70      0.69       186\n",
      "\n",
      "        accuracy                           0.69       380\n",
      "       macro avg       0.69      0.69      0.69       380\n",
      "    weighted avg       0.70      0.69      0.69       380\n",
      "\n"
     ]
    },
    {
     "name": "stderr",
     "output_type": "stream",
     "text": [
      "Training Epochs:  25%|██▌       | 632/2500 [00:17<00:53, 34.70it/s]"
     ]
    },
    {
     "name": "stdout",
     "output_type": "stream",
     "text": [
      "Epoch 630/2500, Loss: 0.1065\n",
      "Test Accuracy at Epoch 630: 69.47%\n",
      "Test F1-score at Epoch 630: 0.6931\n",
      "Classification Report at Epoch 630:\n",
      "                  precision    recall  f1-score   support\n",
      "\n",
      "    infringement       0.71      0.69      0.70       194\n",
      "non_infringement       0.68      0.70      0.69       186\n",
      "\n",
      "        accuracy                           0.69       380\n",
      "       macro avg       0.69      0.69      0.69       380\n",
      "    weighted avg       0.70      0.69      0.69       380\n",
      "\n"
     ]
    },
    {
     "name": "stderr",
     "output_type": "stream",
     "text": [
      "Training Epochs:  26%|██▌       | 645/2500 [00:18<00:50, 36.59it/s]"
     ]
    },
    {
     "name": "stdout",
     "output_type": "stream",
     "text": [
      "Epoch 640/2500, Loss: 0.1057\n",
      "Test Accuracy at Epoch 640: 69.74%\n",
      "Test F1-score at Epoch 640: 0.6950\n",
      "Classification Report at Epoch 640:\n",
      "                  precision    recall  f1-score   support\n",
      "\n",
      "    infringement       0.71      0.69      0.70       194\n",
      "non_infringement       0.69      0.70      0.69       186\n",
      "\n",
      "        accuracy                           0.70       380\n",
      "       macro avg       0.70      0.70      0.70       380\n",
      "    weighted avg       0.70      0.70      0.70       380\n",
      "\n"
     ]
    },
    {
     "name": "stderr",
     "output_type": "stream",
     "text": [
      "Training Epochs:  26%|██▋       | 658/2500 [00:18<00:48, 38.05it/s]"
     ]
    },
    {
     "name": "stdout",
     "output_type": "stream",
     "text": [
      "Epoch 650/2500, Loss: 0.1051\n",
      "Test Accuracy at Epoch 650: 69.47%\n",
      "Test F1-score at Epoch 650: 0.6931\n",
      "Classification Report at Epoch 650:\n",
      "                  precision    recall  f1-score   support\n",
      "\n",
      "    infringement       0.71      0.69      0.70       194\n",
      "non_infringement       0.68      0.70      0.69       186\n",
      "\n",
      "        accuracy                           0.69       380\n",
      "       macro avg       0.69      0.69      0.69       380\n",
      "    weighted avg       0.70      0.69      0.69       380\n",
      "\n"
     ]
    },
    {
     "name": "stderr",
     "output_type": "stream",
     "text": [
      "Training Epochs:  26%|██▋       | 662/2500 [00:18<00:48, 38.15it/s]"
     ]
    },
    {
     "name": "stdout",
     "output_type": "stream",
     "text": [
      "Epoch 660/2500, Loss: 0.1044\n",
      "Test Accuracy at Epoch 660: 69.47%\n",
      "Test F1-score at Epoch 660: 0.6931\n",
      "Classification Report at Epoch 660:\n",
      "                  precision    recall  f1-score   support\n",
      "\n",
      "    infringement       0.71      0.69      0.70       194\n",
      "non_infringement       0.68      0.70      0.69       186\n",
      "\n",
      "        accuracy                           0.69       380\n",
      "       macro avg       0.69      0.69      0.69       380\n",
      "    weighted avg       0.70      0.69      0.69       380\n",
      "\n"
     ]
    },
    {
     "name": "stderr",
     "output_type": "stream",
     "text": [
      "Training Epochs:  27%|██▋       | 675/2500 [00:19<00:47, 38.72it/s]"
     ]
    },
    {
     "name": "stdout",
     "output_type": "stream",
     "text": [
      "Epoch 670/2500, Loss: 0.1039\n",
      "Test Accuracy at Epoch 670: 69.74%\n",
      "Test F1-score at Epoch 670: 0.6950\n",
      "Classification Report at Epoch 670:\n",
      "                  precision    recall  f1-score   support\n",
      "\n",
      "    infringement       0.71      0.69      0.70       194\n",
      "non_infringement       0.69      0.70      0.69       186\n",
      "\n",
      "        accuracy                           0.70       380\n",
      "       macro avg       0.70      0.70      0.70       380\n",
      "    weighted avg       0.70      0.70      0.70       380\n",
      "\n"
     ]
    },
    {
     "name": "stderr",
     "output_type": "stream",
     "text": [
      "Training Epochs:  27%|██▋       | 684/2500 [00:19<00:48, 37.08it/s]"
     ]
    },
    {
     "name": "stdout",
     "output_type": "stream",
     "text": [
      "Epoch 680/2500, Loss: 0.1035\n",
      "Test Accuracy at Epoch 680: 69.74%\n",
      "Test F1-score at Epoch 680: 0.6950\n",
      "Classification Report at Epoch 680:\n",
      "                  precision    recall  f1-score   support\n",
      "\n",
      "    infringement       0.71      0.69      0.70       194\n",
      "non_infringement       0.69      0.70      0.69       186\n",
      "\n",
      "        accuracy                           0.70       380\n",
      "       macro avg       0.70      0.70      0.70       380\n",
      "    weighted avg       0.70      0.70      0.70       380\n",
      "\n"
     ]
    },
    {
     "name": "stderr",
     "output_type": "stream",
     "text": [
      "Training Epochs:  28%|██▊       | 694/2500 [00:19<00:51, 34.87it/s]"
     ]
    },
    {
     "name": "stdout",
     "output_type": "stream",
     "text": [
      "Epoch 690/2500, Loss: 0.1049\n",
      "Test Accuracy at Epoch 690: 68.95%\n",
      "Test F1-score at Epoch 690: 0.6845\n",
      "Classification Report at Epoch 690:\n",
      "                  precision    recall  f1-score   support\n",
      "\n",
      "    infringement       0.70      0.69      0.69       194\n",
      "non_infringement       0.68      0.69      0.68       186\n",
      "\n",
      "        accuracy                           0.69       380\n",
      "       macro avg       0.69      0.69      0.69       380\n",
      "    weighted avg       0.69      0.69      0.69       380\n",
      "\n"
     ]
    },
    {
     "name": "stderr",
     "output_type": "stream",
     "text": [
      "Training Epochs:  28%|██▊       | 703/2500 [00:19<00:48, 37.07it/s]"
     ]
    },
    {
     "name": "stdout",
     "output_type": "stream",
     "text": [
      "Epoch 700/2500, Loss: 0.1279\n",
      "Test Accuracy at Epoch 700: 65.79%\n",
      "Test F1-score at Epoch 700: 0.6845\n",
      "Classification Report at Epoch 700:\n",
      "                  precision    recall  f1-score   support\n",
      "\n",
      "    infringement       0.71      0.56      0.63       194\n",
      "non_infringement       0.62      0.76      0.68       186\n",
      "\n",
      "        accuracy                           0.66       380\n",
      "       macro avg       0.67      0.66      0.66       380\n",
      "    weighted avg       0.67      0.66      0.65       380\n",
      "\n"
     ]
    },
    {
     "name": "stderr",
     "output_type": "stream",
     "text": [
      "Training Epochs:  28%|██▊       | 712/2500 [00:20<01:01, 29.09it/s]"
     ]
    },
    {
     "name": "stdout",
     "output_type": "stream",
     "text": [
      "Epoch 710/2500, Loss: 0.1130\n",
      "Test Accuracy at Epoch 710: 66.84%\n",
      "Test F1-score at Epoch 710: 0.6866\n",
      "Classification Report at Epoch 710:\n",
      "                  precision    recall  f1-score   support\n",
      "\n",
      "    infringement       0.71      0.60      0.65       194\n",
      "non_infringement       0.64      0.74      0.69       186\n",
      "\n",
      "        accuracy                           0.67       380\n",
      "       macro avg       0.67      0.67      0.67       380\n",
      "    weighted avg       0.67      0.67      0.67       380\n",
      "\n"
     ]
    },
    {
     "name": "stderr",
     "output_type": "stream",
     "text": [
      "Training Epochs:  29%|██▉       | 721/2500 [00:20<00:56, 31.41it/s]"
     ]
    },
    {
     "name": "stdout",
     "output_type": "stream",
     "text": [
      "Epoch 720/2500, Loss: 0.1071\n",
      "Test Accuracy at Epoch 720: 66.58%\n",
      "Test F1-score at Epoch 720: 0.6684\n",
      "Classification Report at Epoch 720:\n",
      "                  precision    recall  f1-score   support\n",
      "\n",
      "    infringement       0.68      0.64      0.66       194\n",
      "non_infringement       0.65      0.69      0.67       186\n",
      "\n",
      "        accuracy                           0.67       380\n",
      "       macro avg       0.67      0.67      0.67       380\n",
      "    weighted avg       0.67      0.67      0.67       380\n",
      "\n"
     ]
    },
    {
     "name": "stderr",
     "output_type": "stream",
     "text": [
      "Training Epochs:  29%|██▉       | 736/2500 [00:21<00:50, 35.16it/s]"
     ]
    },
    {
     "name": "stdout",
     "output_type": "stream",
     "text": [
      "Epoch 730/2500, Loss: 0.1037\n",
      "Test Accuracy at Epoch 730: 67.11%\n",
      "Test F1-score at Epoch 730: 0.6787\n",
      "Classification Report at Epoch 730:\n",
      "                  precision    recall  f1-score   support\n",
      "\n",
      "    infringement       0.69      0.63      0.66       194\n",
      "non_infringement       0.65      0.71      0.68       186\n",
      "\n",
      "        accuracy                           0.67       380\n",
      "       macro avg       0.67      0.67      0.67       380\n",
      "    weighted avg       0.67      0.67      0.67       380\n",
      "\n"
     ]
    },
    {
     "name": "stderr",
     "output_type": "stream",
     "text": [
      "Training Epochs:  30%|██▉       | 746/2500 [00:21<00:43, 40.71it/s]"
     ]
    },
    {
     "name": "stdout",
     "output_type": "stream",
     "text": [
      "Epoch 740/2500, Loss: 0.1036\n",
      "Test Accuracy at Epoch 740: 68.68%\n",
      "Test F1-score at Epoch 740: 0.6810\n",
      "Classification Report at Epoch 740:\n",
      "                  precision    recall  f1-score   support\n",
      "\n",
      "    infringement       0.69      0.69      0.69       194\n",
      "non_infringement       0.68      0.68      0.68       186\n",
      "\n",
      "        accuracy                           0.69       380\n",
      "       macro avg       0.69      0.69      0.69       380\n",
      "    weighted avg       0.69      0.69      0.69       380\n",
      "\n"
     ]
    },
    {
     "name": "stderr",
     "output_type": "stream",
     "text": [
      "Training Epochs:  30%|███       | 757/2500 [00:21<00:42, 41.10it/s]"
     ]
    },
    {
     "name": "stdout",
     "output_type": "stream",
     "text": [
      "Epoch 750/2500, Loss: 0.1028\n",
      "Test Accuracy at Epoch 750: 68.16%\n",
      "Test F1-score at Epoch 750: 0.6773\n",
      "Classification Report at Epoch 750:\n",
      "                  precision    recall  f1-score   support\n",
      "\n",
      "    infringement       0.69      0.68      0.69       194\n",
      "non_infringement       0.67      0.68      0.68       186\n",
      "\n",
      "        accuracy                           0.68       380\n",
      "       macro avg       0.68      0.68      0.68       380\n",
      "    weighted avg       0.68      0.68      0.68       380\n",
      "\n",
      "Epoch 760/2500, Loss: 0.1076\n"
     ]
    },
    {
     "name": "stderr",
     "output_type": "stream",
     "text": [
      "Training Epochs:  31%|███       | 767/2500 [00:21<00:43, 39.86it/s]"
     ]
    },
    {
     "name": "stdout",
     "output_type": "stream",
     "text": [
      "Test Accuracy at Epoch 760: 65.26%\n",
      "Test F1-score at Epoch 760: 0.6667\n",
      "Classification Report at Epoch 760:\n",
      "                  precision    recall  f1-score   support\n",
      "\n",
      "    infringement       0.68      0.60      0.64       194\n",
      "non_infringement       0.63      0.71      0.67       186\n",
      "\n",
      "        accuracy                           0.65       380\n",
      "       macro avg       0.66      0.65      0.65       380\n",
      "    weighted avg       0.66      0.65      0.65       380\n",
      "\n"
     ]
    },
    {
     "name": "stderr",
     "output_type": "stream",
     "text": [
      "Training Epochs:  31%|███       | 778/2500 [00:21<00:38, 44.61it/s]"
     ]
    },
    {
     "name": "stdout",
     "output_type": "stream",
     "text": [
      "Epoch 770/2500, Loss: 0.1064\n",
      "Test Accuracy at Epoch 770: 68.42%\n",
      "Test F1-score at Epoch 770: 0.6757\n",
      "Classification Report at Epoch 770:\n",
      "                  precision    recall  f1-score   support\n",
      "\n",
      "    infringement       0.69      0.70      0.69       194\n",
      "non_infringement       0.68      0.67      0.68       186\n",
      "\n",
      "        accuracy                           0.68       380\n",
      "       macro avg       0.68      0.68      0.68       380\n",
      "    weighted avg       0.68      0.68      0.68       380\n",
      "\n"
     ]
    },
    {
     "name": "stderr",
     "output_type": "stream",
     "text": [
      "Training Epochs:  31%|███▏      | 783/2500 [00:22<00:43, 39.50it/s]"
     ]
    },
    {
     "name": "stdout",
     "output_type": "stream",
     "text": [
      "Epoch 780/2500, Loss: 0.1210\n",
      "Test Accuracy at Epoch 780: 67.37%\n",
      "Test F1-score at Epoch 780: 0.6961\n",
      "Classification Report at Epoch 780:\n",
      "                  precision    recall  f1-score   support\n",
      "\n",
      "    infringement       0.72      0.59      0.65       194\n",
      "non_infringement       0.64      0.76      0.70       186\n",
      "\n",
      "        accuracy                           0.67       380\n",
      "       macro avg       0.68      0.68      0.67       380\n",
      "    weighted avg       0.68      0.67      0.67       380\n",
      "\n"
     ]
    },
    {
     "name": "stderr",
     "output_type": "stream",
     "text": [
      "Training Epochs:  32%|███▏      | 794/2500 [00:22<00:38, 44.77it/s]"
     ]
    },
    {
     "name": "stdout",
     "output_type": "stream",
     "text": [
      "Epoch 790/2500, Loss: 0.1030\n",
      "Test Accuracy at Epoch 790: 67.37%\n",
      "Test F1-score at Epoch 790: 0.6931\n",
      "Classification Report at Epoch 790:\n",
      "                  precision    recall  f1-score   support\n",
      "\n",
      "    infringement       0.72      0.60      0.65       194\n",
      "non_infringement       0.64      0.75      0.69       186\n",
      "\n",
      "        accuracy                           0.67       380\n",
      "       macro avg       0.68      0.68      0.67       380\n",
      "    weighted avg       0.68      0.67      0.67       380\n",
      "\n"
     ]
    },
    {
     "name": "stderr",
     "output_type": "stream",
     "text": [
      "Training Epochs:  32%|███▏      | 806/2500 [00:22<00:38, 43.97it/s]"
     ]
    },
    {
     "name": "stdout",
     "output_type": "stream",
     "text": [
      "Epoch 800/2500, Loss: 0.1012\n",
      "Test Accuracy at Epoch 800: 68.68%\n",
      "Test F1-score at Epoch 800: 0.6860\n",
      "Classification Report at Epoch 800:\n",
      "                  precision    recall  f1-score   support\n",
      "\n",
      "    infringement       0.70      0.68      0.69       194\n",
      "non_infringement       0.67      0.70      0.69       186\n",
      "\n",
      "        accuracy                           0.69       380\n",
      "       macro avg       0.69      0.69      0.69       380\n",
      "    weighted avg       0.69      0.69      0.69       380\n",
      "\n"
     ]
    },
    {
     "name": "stderr",
     "output_type": "stream",
     "text": [
      "Training Epochs:  32%|███▏      | 811/2500 [00:22<00:37, 44.60it/s]"
     ]
    },
    {
     "name": "stdout",
     "output_type": "stream",
     "text": [
      "Epoch 810/2500, Loss: 0.1034\n",
      "Test Accuracy at Epoch 810: 69.74%\n",
      "Test F1-score at Epoch 810: 0.6933\n",
      "Classification Report at Epoch 810:\n",
      "                  precision    recall  f1-score   support\n",
      "\n",
      "    infringement       0.71      0.70      0.70       194\n",
      "non_infringement       0.69      0.70      0.69       186\n",
      "\n",
      "        accuracy                           0.70       380\n",
      "       macro avg       0.70      0.70      0.70       380\n",
      "    weighted avg       0.70      0.70      0.70       380\n",
      "\n"
     ]
    },
    {
     "name": "stderr",
     "output_type": "stream",
     "text": [
      "Training Epochs:  33%|███▎      | 828/2500 [00:23<00:38, 43.69it/s]"
     ]
    },
    {
     "name": "stdout",
     "output_type": "stream",
     "text": [
      "Epoch 820/2500, Loss: 0.1026\n",
      "Test Accuracy at Epoch 820: 68.68%\n",
      "Test F1-score at Epoch 820: 0.6957\n",
      "Classification Report at Epoch 820:\n",
      "                  precision    recall  f1-score   support\n",
      "\n",
      "    infringement       0.71      0.64      0.68       194\n",
      "non_infringement       0.66      0.73      0.70       186\n",
      "\n",
      "        accuracy                           0.69       380\n",
      "       macro avg       0.69      0.69      0.69       380\n",
      "    weighted avg       0.69      0.69      0.69       380\n",
      "\n"
     ]
    },
    {
     "name": "stderr",
     "output_type": "stream",
     "text": [
      "Training Epochs:  33%|███▎      | 833/2500 [00:23<00:42, 38.93it/s]"
     ]
    },
    {
     "name": "stdout",
     "output_type": "stream",
     "text": [
      "Epoch 830/2500, Loss: 0.0999\n",
      "Test Accuracy at Epoch 830: 69.21%\n",
      "Test F1-score at Epoch 830: 0.6897\n",
      "Classification Report at Epoch 830:\n",
      "                  precision    recall  f1-score   support\n",
      "\n",
      "    infringement       0.70      0.69      0.69       194\n",
      "non_infringement       0.68      0.70      0.69       186\n",
      "\n",
      "        accuracy                           0.69       380\n",
      "       macro avg       0.69      0.69      0.69       380\n",
      "    weighted avg       0.69      0.69      0.69       380\n",
      "\n"
     ]
    },
    {
     "name": "stderr",
     "output_type": "stream",
     "text": [
      "Training Epochs:  34%|███▍      | 844/2500 [00:23<00:38, 42.86it/s]"
     ]
    },
    {
     "name": "stdout",
     "output_type": "stream",
     "text": [
      "Epoch 840/2500, Loss: 0.1169\n",
      "Test Accuracy at Epoch 840: 68.95%\n",
      "Test F1-score at Epoch 840: 0.6828\n",
      "Classification Report at Epoch 840:\n",
      "                  precision    recall  f1-score   support\n",
      "\n",
      "    infringement       0.70      0.70      0.70       194\n",
      "non_infringement       0.68      0.68      0.68       186\n",
      "\n",
      "        accuracy                           0.69       380\n",
      "       macro avg       0.69      0.69      0.69       380\n",
      "    weighted avg       0.69      0.69      0.69       380\n",
      "\n"
     ]
    },
    {
     "name": "stderr",
     "output_type": "stream",
     "text": [
      "Training Epochs:  34%|███▍      | 855/2500 [00:23<00:42, 38.66it/s]"
     ]
    },
    {
     "name": "stdout",
     "output_type": "stream",
     "text": [
      "Epoch 850/2500, Loss: 0.1115\n",
      "Test Accuracy at Epoch 850: 68.42%\n",
      "Test F1-score at Epoch 850: 0.6939\n",
      "Classification Report at Epoch 850:\n",
      "                  precision    recall  f1-score   support\n",
      "\n",
      "    infringement       0.71      0.64      0.67       194\n",
      "non_infringement       0.66      0.73      0.69       186\n",
      "\n",
      "        accuracy                           0.68       380\n",
      "       macro avg       0.69      0.69      0.68       380\n",
      "    weighted avg       0.69      0.68      0.68       380\n",
      "\n"
     ]
    },
    {
     "name": "stderr",
     "output_type": "stream",
     "text": [
      "Training Epochs:  35%|███▍      | 865/2500 [00:24<00:44, 36.43it/s]"
     ]
    },
    {
     "name": "stdout",
     "output_type": "stream",
     "text": [
      "Epoch 860/2500, Loss: 0.1102\n",
      "Test Accuracy at Epoch 860: 67.63%\n",
      "Test F1-score at Epoch 860: 0.6963\n",
      "Classification Report at Epoch 860:\n",
      "                  precision    recall  f1-score   support\n",
      "\n",
      "    infringement       0.72      0.60      0.65       194\n",
      "non_infringement       0.64      0.76      0.70       186\n",
      "\n",
      "        accuracy                           0.68       380\n",
      "       macro avg       0.68      0.68      0.67       380\n",
      "    weighted avg       0.68      0.68      0.67       380\n",
      "\n"
     ]
    },
    {
     "name": "stderr",
     "output_type": "stream",
     "text": [
      "Training Epochs:  35%|███▌      | 877/2500 [00:24<00:36, 44.86it/s]"
     ]
    },
    {
     "name": "stdout",
     "output_type": "stream",
     "text": [
      "Epoch 870/2500, Loss: 0.1001\n",
      "Test Accuracy at Epoch 870: 70.26%\n",
      "Test F1-score at Epoch 870: 0.7065\n",
      "Classification Report at Epoch 870:\n",
      "                  precision    recall  f1-score   support\n",
      "\n",
      "    infringement       0.72      0.68      0.70       194\n",
      "non_infringement       0.68      0.73      0.71       186\n",
      "\n",
      "        accuracy                           0.70       380\n",
      "       macro avg       0.70      0.70      0.70       380\n",
      "    weighted avg       0.70      0.70      0.70       380\n",
      "\n",
      "Epoch 880/2500, Loss: 0.1003\n",
      "Test Accuracy at Epoch 880: 69.74%\n",
      "Test F1-score at Epoch 880: 0.6933\n",
      "Classification Report at Epoch 880:\n",
      "                  precision    recall  f1-score   support\n",
      "\n",
      "    infringement       0.71      0.70      0.70       194\n",
      "non_infringement       0.69      0.70      0.69       186\n",
      "\n",
      "        accuracy                           0.70       380\n",
      "       macro avg       0.70      0.70      0.70       380\n",
      "    weighted avg       0.70      0.70      0.70       380\n",
      "\n"
     ]
    },
    {
     "name": "stderr",
     "output_type": "stream",
     "text": [
      "Training Epochs:  36%|███▌      | 893/2500 [00:24<00:36, 44.12it/s]"
     ]
    },
    {
     "name": "stdout",
     "output_type": "stream",
     "text": [
      "Epoch 890/2500, Loss: 0.0993\n",
      "Test Accuracy at Epoch 890: 70.26%\n",
      "Test F1-score at Epoch 890: 0.7065\n",
      "Classification Report at Epoch 890:\n",
      "                  precision    recall  f1-score   support\n",
      "\n",
      "    infringement       0.72      0.68      0.70       194\n",
      "non_infringement       0.68      0.73      0.71       186\n",
      "\n",
      "        accuracy                           0.70       380\n",
      "       macro avg       0.70      0.70      0.70       380\n",
      "    weighted avg       0.70      0.70      0.70       380\n",
      "\n"
     ]
    },
    {
     "name": "stderr",
     "output_type": "stream",
     "text": [
      "Training Epochs:  36%|███▋      | 910/2500 [00:25<00:34, 46.27it/s]"
     ]
    },
    {
     "name": "stdout",
     "output_type": "stream",
     "text": [
      "Epoch 900/2500, Loss: 0.1022\n",
      "Test Accuracy at Epoch 900: 68.68%\n",
      "Test F1-score at Epoch 900: 0.6957\n",
      "Classification Report at Epoch 900:\n",
      "                  precision    recall  f1-score   support\n",
      "\n",
      "    infringement       0.71      0.64      0.68       194\n",
      "non_infringement       0.66      0.73      0.70       186\n",
      "\n",
      "        accuracy                           0.69       380\n",
      "       macro avg       0.69      0.69      0.69       380\n",
      "    weighted avg       0.69      0.69      0.69       380\n",
      "\n",
      "Epoch 910/2500, Loss: 0.1010\n",
      "Test Accuracy at Epoch 910: 68.68%\n",
      "Test F1-score at Epoch 910: 0.6957\n",
      "Classification Report at Epoch 910:\n",
      "                  precision    recall  f1-score   support\n",
      "\n",
      "    infringement       0.71      0.64      0.68       194\n",
      "non_infringement       0.66      0.73      0.70       186\n",
      "\n",
      "        accuracy                           0.69       380\n",
      "       macro avg       0.69      0.69      0.69       380\n",
      "    weighted avg       0.69      0.69      0.69       380\n",
      "\n"
     ]
    },
    {
     "name": "stderr",
     "output_type": "stream",
     "text": [
      "Training Epochs:  37%|███▋      | 929/2500 [00:25<00:32, 48.74it/s]"
     ]
    },
    {
     "name": "stdout",
     "output_type": "stream",
     "text": [
      "Epoch 920/2500, Loss: 0.0999\n",
      "Test Accuracy at Epoch 920: 70.26%\n",
      "Test F1-score at Epoch 920: 0.7065\n",
      "Classification Report at Epoch 920:\n",
      "                  precision    recall  f1-score   support\n",
      "\n",
      "    infringement       0.72      0.68      0.70       194\n",
      "non_infringement       0.68      0.73      0.71       186\n",
      "\n",
      "        accuracy                           0.70       380\n",
      "       macro avg       0.70      0.70      0.70       380\n",
      "    weighted avg       0.70      0.70      0.70       380\n",
      "\n",
      "Epoch 930/2500, Loss: 0.1116\n",
      "Test Accuracy at Epoch 930: 69.74%\n",
      "Test F1-score at Epoch 930: 0.6933\n",
      "Classification Report at Epoch 930:\n",
      "                  precision    recall  f1-score   support\n",
      "\n",
      "    infringement       0.71      0.70      0.70       194\n",
      "non_infringement       0.69      0.70      0.69       186\n",
      "\n",
      "        accuracy                           0.70       380\n",
      "       macro avg       0.70      0.70      0.70       380\n",
      "    weighted avg       0.70      0.70      0.70       380\n",
      "\n"
     ]
    },
    {
     "name": "stderr",
     "output_type": "stream",
     "text": [
      "Training Epochs:  38%|███▊      | 947/2500 [00:25<00:32, 47.13it/s]"
     ]
    },
    {
     "name": "stdout",
     "output_type": "stream",
     "text": [
      "Epoch 940/2500, Loss: 0.1003\n",
      "Test Accuracy at Epoch 940: 69.74%\n",
      "Test F1-score at Epoch 940: 0.6933\n",
      "Classification Report at Epoch 940:\n",
      "                  precision    recall  f1-score   support\n",
      "\n",
      "    infringement       0.71      0.70      0.70       194\n",
      "non_infringement       0.69      0.70      0.69       186\n",
      "\n",
      "        accuracy                           0.70       380\n",
      "       macro avg       0.70      0.70      0.70       380\n",
      "    weighted avg       0.70      0.70      0.70       380\n",
      "\n",
      "Epoch 950/2500, Loss: 0.1050\n"
     ]
    },
    {
     "name": "stderr",
     "output_type": "stream",
     "text": [
      "Training Epochs:  38%|███▊      | 957/2500 [00:26<00:36, 42.48it/s]"
     ]
    },
    {
     "name": "stdout",
     "output_type": "stream",
     "text": [
      "Test Accuracy at Epoch 950: 68.68%\n",
      "Test F1-score at Epoch 950: 0.6957\n",
      "Classification Report at Epoch 950:\n",
      "                  precision    recall  f1-score   support\n",
      "\n",
      "    infringement       0.71      0.64      0.68       194\n",
      "non_infringement       0.66      0.73      0.70       186\n",
      "\n",
      "        accuracy                           0.69       380\n",
      "       macro avg       0.69      0.69      0.69       380\n",
      "    weighted avg       0.69      0.69      0.69       380\n",
      "\n"
     ]
    },
    {
     "name": "stderr",
     "output_type": "stream",
     "text": [
      "Training Epochs:  39%|███▉      | 969/2500 [00:26<00:31, 48.82it/s]"
     ]
    },
    {
     "name": "stdout",
     "output_type": "stream",
     "text": [
      "Epoch 960/2500, Loss: 0.1000\n",
      "Test Accuracy at Epoch 960: 68.68%\n",
      "Test F1-score at Epoch 960: 0.6957\n",
      "Classification Report at Epoch 960:\n",
      "                  precision    recall  f1-score   support\n",
      "\n",
      "    infringement       0.71      0.64      0.68       194\n",
      "non_infringement       0.66      0.73      0.70       186\n",
      "\n",
      "        accuracy                           0.69       380\n",
      "       macro avg       0.69      0.69      0.69       380\n",
      "    weighted avg       0.69      0.69      0.69       380\n",
      "\n",
      "Epoch 970/2500, Loss: 0.0989\n",
      "Test Accuracy at Epoch 970: 69.74%\n",
      "Test F1-score at Epoch 970: 0.6950\n",
      "Classification Report at Epoch 970:\n",
      "                  precision    recall  f1-score   support\n",
      "\n",
      "    infringement       0.71      0.69      0.70       194\n",
      "non_infringement       0.69      0.70      0.69       186\n",
      "\n",
      "        accuracy                           0.70       380\n",
      "       macro avg       0.70      0.70      0.70       380\n",
      "    weighted avg       0.70      0.70      0.70       380\n",
      "\n"
     ]
    },
    {
     "name": "stderr",
     "output_type": "stream",
     "text": [
      "Training Epochs:  39%|███▉      | 986/2500 [00:26<00:31, 47.34it/s]"
     ]
    },
    {
     "name": "stdout",
     "output_type": "stream",
     "text": [
      "Epoch 980/2500, Loss: 0.0982\n",
      "Test Accuracy at Epoch 980: 70.26%\n",
      "Test F1-score at Epoch 980: 0.7065\n",
      "Classification Report at Epoch 980:\n",
      "                  precision    recall  f1-score   support\n",
      "\n",
      "    infringement       0.72      0.68      0.70       194\n",
      "non_infringement       0.68      0.73      0.71       186\n",
      "\n",
      "        accuracy                           0.70       380\n",
      "       macro avg       0.70      0.70      0.70       380\n",
      "    weighted avg       0.70      0.70      0.70       380\n",
      "\n"
     ]
    },
    {
     "name": "stderr",
     "output_type": "stream",
     "text": [
      "Training Epochs:  40%|███▉      | 997/2500 [00:27<00:32, 46.36it/s]"
     ]
    },
    {
     "name": "stdout",
     "output_type": "stream",
     "text": [
      "Epoch 990/2500, Loss: 0.1010\n",
      "Test Accuracy at Epoch 990: 68.68%\n",
      "Test F1-score at Epoch 990: 0.6957\n",
      "Classification Report at Epoch 990:\n",
      "                  precision    recall  f1-score   support\n",
      "\n",
      "    infringement       0.71      0.64      0.68       194\n",
      "non_infringement       0.66      0.73      0.70       186\n",
      "\n",
      "        accuracy                           0.69       380\n",
      "       macro avg       0.69      0.69      0.69       380\n",
      "    weighted avg       0.69      0.69      0.69       380\n",
      "\n",
      "Epoch 1000/2500, Loss: 0.0990\n"
     ]
    },
    {
     "name": "stderr",
     "output_type": "stream",
     "text": [
      "Training Epochs:  40%|████      | 1003/2500 [00:27<00:31, 48.13it/s]"
     ]
    },
    {
     "name": "stdout",
     "output_type": "stream",
     "text": [
      "Test Accuracy at Epoch 1000: 68.68%\n",
      "Test F1-score at Epoch 1000: 0.6957\n",
      "Classification Report at Epoch 1000:\n",
      "                  precision    recall  f1-score   support\n",
      "\n",
      "    infringement       0.71      0.64      0.68       194\n",
      "non_infringement       0.66      0.73      0.70       186\n",
      "\n",
      "        accuracy                           0.69       380\n",
      "       macro avg       0.69      0.69      0.69       380\n",
      "    weighted avg       0.69      0.69      0.69       380\n",
      "\n"
     ]
    },
    {
     "name": "stderr",
     "output_type": "stream",
     "text": [
      "Training Epochs:  41%|████      | 1020/2500 [00:27<00:31, 46.91it/s]"
     ]
    },
    {
     "name": "stdout",
     "output_type": "stream",
     "text": [
      "Epoch 1010/2500, Loss: 0.0979\n",
      "Test Accuracy at Epoch 1010: 70.26%\n",
      "Test F1-score at Epoch 1010: 0.7065\n",
      "Classification Report at Epoch 1010:\n",
      "                  precision    recall  f1-score   support\n",
      "\n",
      "    infringement       0.72      0.68      0.70       194\n",
      "non_infringement       0.68      0.73      0.71       186\n",
      "\n",
      "        accuracy                           0.70       380\n",
      "       macro avg       0.70      0.70      0.70       380\n",
      "    weighted avg       0.70      0.70      0.70       380\n",
      "\n",
      "Epoch 1020/2500, Loss: 0.0974\n",
      "Test Accuracy at Epoch 1020: 70.26%\n",
      "Test F1-score at Epoch 1020: 0.7065\n",
      "Classification Report at Epoch 1020:\n",
      "                  precision    recall  f1-score   support\n",
      "\n",
      "    infringement       0.72      0.68      0.70       194\n",
      "non_infringement       0.68      0.73      0.71       186\n",
      "\n",
      "        accuracy                           0.70       380\n",
      "       macro avg       0.70      0.70      0.70       380\n",
      "    weighted avg       0.70      0.70      0.70       380\n",
      "\n"
     ]
    },
    {
     "name": "stderr",
     "output_type": "stream",
     "text": [
      "Training Epochs:  42%|████▏     | 1038/2500 [00:27<00:31, 47.07it/s]"
     ]
    },
    {
     "name": "stdout",
     "output_type": "stream",
     "text": [
      "Epoch 1030/2500, Loss: 0.1057\n",
      "Test Accuracy at Epoch 1030: 69.21%\n",
      "Test F1-score at Epoch 1030: 0.6863\n",
      "Classification Report at Epoch 1030:\n",
      "                  precision    recall  f1-score   support\n",
      "\n",
      "    infringement       0.70      0.70      0.70       194\n",
      "non_infringement       0.68      0.69      0.69       186\n",
      "\n",
      "        accuracy                           0.69       380\n",
      "       macro avg       0.69      0.69      0.69       380\n",
      "    weighted avg       0.69      0.69      0.69       380\n",
      "\n",
      "Epoch 1040/2500, Loss: 0.0986\n",
      "Test Accuracy at Epoch 1040: 69.47%\n",
      "Test F1-score at Epoch 1040: 0.6931\n"
     ]
    },
    {
     "name": "stderr",
     "output_type": "stream",
     "text": [
      "Training Epochs:  42%|████▏     | 1048/2500 [00:28<00:33, 42.93it/s]"
     ]
    },
    {
     "name": "stdout",
     "output_type": "stream",
     "text": [
      "Classification Report at Epoch 1040:\n",
      "                  precision    recall  f1-score   support\n",
      "\n",
      "    infringement       0.71      0.69      0.70       194\n",
      "non_infringement       0.68      0.70      0.69       186\n",
      "\n",
      "        accuracy                           0.69       380\n",
      "       macro avg       0.69      0.69      0.69       380\n",
      "    weighted avg       0.70      0.69      0.69       380\n",
      "\n"
     ]
    },
    {
     "name": "stderr",
     "output_type": "stream",
     "text": [
      "Training Epochs:  42%|████▏     | 1060/2500 [00:28<00:30, 47.49it/s]"
     ]
    },
    {
     "name": "stdout",
     "output_type": "stream",
     "text": [
      "Epoch 1050/2500, Loss: 0.1032\n",
      "Test Accuracy at Epoch 1050: 70.79%\n",
      "Test F1-score at Epoch 1050: 0.7132\n",
      "Classification Report at Epoch 1050:\n",
      "                  precision    recall  f1-score   support\n",
      "\n",
      "    infringement       0.73      0.68      0.70       194\n",
      "non_infringement       0.69      0.74      0.71       186\n",
      "\n",
      "        accuracy                           0.71       380\n",
      "       macro avg       0.71      0.71      0.71       380\n",
      "    weighted avg       0.71      0.71      0.71       380\n",
      "\n",
      "Epoch 1060/2500, Loss: 0.0968\n",
      "Test Accuracy at Epoch 1060: 68.68%\n",
      "Test F1-score at Epoch 1060: 0.6957\n",
      "Classification Report at Epoch 1060:\n",
      "                  precision    recall  f1-score   support\n",
      "\n",
      "    infringement       0.71      0.64      0.68       194\n",
      "non_infringement       0.66      0.73      0.70       186\n",
      "\n",
      "        accuracy                           0.69       380\n",
      "       macro avg       0.69      0.69      0.69       380\n",
      "    weighted avg       0.69      0.69      0.69       380\n",
      "\n"
     ]
    },
    {
     "name": "stderr",
     "output_type": "stream",
     "text": [
      "Training Epochs:  43%|████▎     | 1076/2500 [00:28<00:29, 47.61it/s]"
     ]
    },
    {
     "name": "stdout",
     "output_type": "stream",
     "text": [
      "Epoch 1070/2500, Loss: 0.0967\n",
      "Test Accuracy at Epoch 1070: 71.05%\n",
      "Test F1-score at Epoch 1070: 0.7120\n",
      "Classification Report at Epoch 1070:\n",
      "                  precision    recall  f1-score   support\n",
      "\n",
      "    infringement       0.73      0.69      0.71       194\n",
      "non_infringement       0.69      0.73      0.71       186\n",
      "\n",
      "        accuracy                           0.71       380\n",
      "       macro avg       0.71      0.71      0.71       380\n",
      "    weighted avg       0.71      0.71      0.71       380\n",
      "\n",
      "Epoch 1080/2500, Loss: 0.0965\n",
      "Test Accuracy at Epoch 1080: 69.74%\n",
      "Test F1-score at Epoch 1080: 0.6950\n",
      "Classification Report at Epoch 1080:\n",
      "                  precision    recall  f1-score   support\n",
      "\n",
      "    infringement       0.71      0.69      0.70       194\n",
      "non_infringement       0.69      0.70      0.69       186\n",
      "\n",
      "        accuracy                           0.70       380\n",
      "       macro avg       0.70      0.70      0.70       380\n",
      "    weighted avg       0.70      0.70      0.70       380\n",
      "\n"
     ]
    },
    {
     "name": "stderr",
     "output_type": "stream",
     "text": [
      "Training Epochs:  44%|████▎     | 1093/2500 [00:29<00:29, 47.13it/s]"
     ]
    },
    {
     "name": "stdout",
     "output_type": "stream",
     "text": [
      "Epoch 1090/2500, Loss: 0.0988\n",
      "Test Accuracy at Epoch 1090: 69.47%\n",
      "Test F1-score at Epoch 1090: 0.6898\n",
      "Classification Report at Epoch 1090:\n",
      "                  precision    recall  f1-score   support\n",
      "\n",
      "    infringement       0.70      0.70      0.70       194\n",
      "non_infringement       0.69      0.69      0.69       186\n",
      "\n",
      "        accuracy                           0.69       380\n",
      "       macro avg       0.69      0.69      0.69       380\n",
      "    weighted avg       0.69      0.69      0.69       380\n",
      "\n"
     ]
    },
    {
     "name": "stderr",
     "output_type": "stream",
     "text": [
      "Training Epochs:  44%|████▍     | 1110/2500 [00:29<00:29, 46.79it/s]"
     ]
    },
    {
     "name": "stdout",
     "output_type": "stream",
     "text": [
      "Epoch 1100/2500, Loss: 0.0997\n",
      "Test Accuracy at Epoch 1100: 68.42%\n",
      "Test F1-score at Epoch 1100: 0.7044\n",
      "Classification Report at Epoch 1100:\n",
      "                  precision    recall  f1-score   support\n",
      "\n",
      "    infringement       0.73      0.60      0.66       194\n",
      "non_infringement       0.65      0.77      0.70       186\n",
      "\n",
      "        accuracy                           0.68       380\n",
      "       macro avg       0.69      0.69      0.68       380\n",
      "    weighted avg       0.69      0.68      0.68       380\n",
      "\n",
      "Epoch 1110/2500, Loss: 0.1079\n",
      "Test Accuracy at Epoch 1110: 69.47%\n",
      "Test F1-score at Epoch 1110: 0.6898\n",
      "Classification Report at Epoch 1110:\n",
      "                  precision    recall  f1-score   support\n",
      "\n",
      "    infringement       0.70      0.70      0.70       194\n",
      "non_infringement       0.69      0.69      0.69       186\n",
      "\n",
      "        accuracy                           0.69       380\n",
      "       macro avg       0.69      0.69      0.69       380\n",
      "    weighted avg       0.69      0.69      0.69       380\n",
      "\n"
     ]
    },
    {
     "name": "stderr",
     "output_type": "stream",
     "text": [
      "Training Epochs:  45%|████▌     | 1128/2500 [00:29<00:29, 46.57it/s]"
     ]
    },
    {
     "name": "stdout",
     "output_type": "stream",
     "text": [
      "Epoch 1120/2500, Loss: 0.1040\n",
      "Test Accuracy at Epoch 1120: 69.74%\n",
      "Test F1-score at Epoch 1120: 0.6933\n",
      "Classification Report at Epoch 1120:\n",
      "                  precision    recall  f1-score   support\n",
      "\n",
      "    infringement       0.71      0.70      0.70       194\n",
      "non_infringement       0.69      0.70      0.69       186\n",
      "\n",
      "        accuracy                           0.70       380\n",
      "       macro avg       0.70      0.70      0.70       380\n",
      "    weighted avg       0.70      0.70      0.70       380\n",
      "\n",
      "Epoch 1130/2500, Loss: 0.0960\n",
      "Test Accuracy at Epoch 1130: 71.05%\n",
      "Test F1-score at Epoch 1130: 0.7120\n",
      "Classification Report at Epoch 1130:\n",
      "                  precision    recall  f1-score   support\n",
      "\n",
      "    infringement       0.73      0.69      0.71       194\n",
      "non_infringement       0.69      0.73      0.71       186\n",
      "\n",
      "        accuracy                           0.71       380\n",
      "       macro avg       0.71      0.71      0.71       380\n",
      "    weighted avg       0.71      0.71      0.71       380\n",
      "\n"
     ]
    },
    {
     "name": "stderr",
     "output_type": "stream",
     "text": [
      "Training Epochs:  46%|████▌     | 1145/2500 [00:30<00:29, 45.58it/s]"
     ]
    },
    {
     "name": "stdout",
     "output_type": "stream",
     "text": [
      "Epoch 1140/2500, Loss: 0.0969\n",
      "Test Accuracy at Epoch 1140: 71.05%\n",
      "Test F1-score at Epoch 1140: 0.7150\n",
      "Classification Report at Epoch 1140:\n",
      "                  precision    recall  f1-score   support\n",
      "\n",
      "    infringement       0.73      0.68      0.71       194\n",
      "non_infringement       0.69      0.74      0.72       186\n",
      "\n",
      "        accuracy                           0.71       380\n",
      "       macro avg       0.71      0.71      0.71       380\n",
      "    weighted avg       0.71      0.71      0.71       380\n",
      "\n",
      "Epoch 1150/2500, Loss: 0.0963\n",
      "Test Accuracy at Epoch 1150: 69.74%\n",
      "Test F1-score at Epoch 1150: 0.6950\n",
      "Classification Report at Epoch 1150:\n",
      "                  precision    recall  f1-score   support\n",
      "\n",
      "    infringement       0.71      0.69      0.70       194\n",
      "non_infringement       0.69      0.70      0.69       186\n",
      "\n",
      "        accuracy                           0.70       380\n",
      "       macro avg       0.70      0.70      0.70       380\n",
      "    weighted avg       0.70      0.70      0.70       380\n",
      "\n"
     ]
    },
    {
     "name": "stderr",
     "output_type": "stream",
     "text": [
      "Training Epochs:  47%|████▋     | 1167/2500 [00:30<00:27, 48.76it/s]"
     ]
    },
    {
     "name": "stdout",
     "output_type": "stream",
     "text": [
      "Epoch 1160/2500, Loss: 0.0955\n",
      "Test Accuracy at Epoch 1160: 70.26%\n",
      "Test F1-score at Epoch 1160: 0.7065\n",
      "Classification Report at Epoch 1160:\n",
      "                  precision    recall  f1-score   support\n",
      "\n",
      "    infringement       0.72      0.68      0.70       194\n",
      "non_infringement       0.68      0.73      0.71       186\n",
      "\n",
      "        accuracy                           0.70       380\n",
      "       macro avg       0.70      0.70      0.70       380\n",
      "    weighted avg       0.70      0.70      0.70       380\n",
      "\n",
      "Epoch 1170/2500, Loss: 0.0967\n",
      "Test Accuracy at Epoch 1170: 69.21%\n",
      "Test F1-score at Epoch 1170: 0.7023\n",
      "Classification Report at Epoch 1170:\n",
      "                  precision    recall  f1-score   support\n",
      "\n",
      "    infringement       0.72      0.64      0.68       194\n",
      "non_infringement       0.67      0.74      0.70       186\n",
      "\n",
      "        accuracy                           0.69       380\n",
      "       macro avg       0.69      0.69      0.69       380\n",
      "    weighted avg       0.70      0.69      0.69       380\n",
      "\n"
     ]
    },
    {
     "name": "stderr",
     "output_type": "stream",
     "text": [
      "Training Epochs:  47%|████▋     | 1177/2500 [00:31<00:31, 42.66it/s]"
     ]
    },
    {
     "name": "stdout",
     "output_type": "stream",
     "text": [
      "Epoch 1180/2500, Loss: 0.1044\n",
      "Test Accuracy at Epoch 1180: 69.47%\n",
      "Test F1-score at Epoch 1180: 0.6882\n",
      "Classification Report at Epoch 1180:\n",
      "                  precision    recall  f1-score   support\n",
      "\n",
      "    infringement       0.70      0.70      0.70       194\n",
      "non_infringement       0.69      0.69      0.69       186\n",
      "\n",
      "        accuracy                           0.69       380\n",
      "       macro avg       0.69      0.69      0.69       380\n",
      "    weighted avg       0.69      0.69      0.69       380\n",
      "\n"
     ]
    },
    {
     "name": "stderr",
     "output_type": "stream",
     "text": [
      "Training Epochs:  48%|████▊     | 1190/2500 [00:31<00:43, 30.43it/s]"
     ]
    },
    {
     "name": "stdout",
     "output_type": "stream",
     "text": [
      "Epoch 1190/2500, Loss: 0.0965\n",
      "Test Accuracy at Epoch 1190: 69.47%\n",
      "Test F1-score at Epoch 1190: 0.6898\n",
      "Classification Report at Epoch 1190:\n",
      "                  precision    recall  f1-score   support\n",
      "\n",
      "    infringement       0.70      0.70      0.70       194\n",
      "non_infringement       0.69      0.69      0.69       186\n",
      "\n",
      "        accuracy                           0.69       380\n",
      "       macro avg       0.69      0.69      0.69       380\n",
      "    weighted avg       0.69      0.69      0.69       380\n",
      "\n"
     ]
    },
    {
     "name": "stderr",
     "output_type": "stream",
     "text": [
      "Training Epochs:  48%|████▊     | 1198/2500 [00:32<01:11, 18.21it/s]"
     ]
    },
    {
     "name": "stdout",
     "output_type": "stream",
     "text": [
      "Epoch 1200/2500, Loss: 0.0962\n",
      "Test Accuracy at Epoch 1200: 71.32%\n",
      "Test F1-score at Epoch 1200: 0.7183\n",
      "Classification Report at Epoch 1200:\n",
      "                  precision    recall  f1-score   support\n",
      "\n",
      "    infringement       0.74      0.68      0.71       194\n",
      "non_infringement       0.69      0.75      0.72       186\n",
      "\n",
      "        accuracy                           0.71       380\n",
      "       macro avg       0.71      0.71      0.71       380\n",
      "    weighted avg       0.71      0.71      0.71       380\n",
      "\n"
     ]
    },
    {
     "name": "stderr",
     "output_type": "stream",
     "text": [
      "Training Epochs:  48%|████▊     | 1210/2500 [00:35<05:14,  4.10it/s]"
     ]
    },
    {
     "name": "stdout",
     "output_type": "stream",
     "text": [
      "Epoch 1210/2500, Loss: 0.0974\n",
      "Test Accuracy at Epoch 1210: 71.05%\n",
      "Test F1-score at Epoch 1210: 0.7165\n",
      "Classification Report at Epoch 1210:\n",
      "                  precision    recall  f1-score   support\n",
      "\n",
      "    infringement       0.74      0.68      0.70       194\n",
      "non_infringement       0.69      0.75      0.72       186\n",
      "\n",
      "        accuracy                           0.71       380\n",
      "       macro avg       0.71      0.71      0.71       380\n",
      "    weighted avg       0.71      0.71      0.71       380\n",
      "\n"
     ]
    },
    {
     "name": "stderr",
     "output_type": "stream",
     "text": [
      "Training Epochs:  49%|████▉     | 1225/2500 [00:40<03:16,  6.48it/s]"
     ]
    },
    {
     "name": "stdout",
     "output_type": "stream",
     "text": [
      "Epoch 1220/2500, Loss: 0.0962\n",
      "Test Accuracy at Epoch 1220: 71.05%\n",
      "Test F1-score at Epoch 1220: 0.7135\n",
      "Classification Report at Epoch 1220:\n",
      "                  precision    recall  f1-score   support\n",
      "\n",
      "    infringement       0.73      0.69      0.71       194\n",
      "non_infringement       0.69      0.74      0.71       186\n",
      "\n",
      "        accuracy                           0.71       380\n",
      "       macro avg       0.71      0.71      0.71       380\n",
      "    weighted avg       0.71      0.71      0.71       380\n",
      "\n"
     ]
    },
    {
     "name": "stderr",
     "output_type": "stream",
     "text": [
      "Training Epochs:  49%|████▉     | 1232/2500 [00:40<01:48, 11.68it/s]"
     ]
    },
    {
     "name": "stdout",
     "output_type": "stream",
     "text": [
      "Epoch 1230/2500, Loss: 0.0953\n",
      "Test Accuracy at Epoch 1230: 70.53%\n",
      "Test F1-score at Epoch 1230: 0.7098\n",
      "Classification Report at Epoch 1230:\n",
      "                  precision    recall  f1-score   support\n",
      "\n",
      "    infringement       0.73      0.68      0.70       194\n",
      "non_infringement       0.69      0.74      0.71       186\n",
      "\n",
      "        accuracy                           0.71       380\n",
      "       macro avg       0.71      0.71      0.71       380\n",
      "    weighted avg       0.71      0.71      0.71       380\n",
      "\n"
     ]
    },
    {
     "name": "stderr",
     "output_type": "stream",
     "text": [
      "Training Epochs:  50%|████▉     | 1238/2500 [00:40<01:06, 18.88it/s]"
     ]
    },
    {
     "name": "stdout",
     "output_type": "stream",
     "text": [
      "Epoch 1240/2500, Loss: 0.0973\n",
      "Test Accuracy at Epoch 1240: 70.00%\n",
      "Test F1-score at Epoch 1240: 0.6984\n",
      "Classification Report at Epoch 1240:\n",
      "                  precision    recall  f1-score   support\n",
      "\n",
      "    infringement       0.71      0.69      0.70       194\n",
      "non_infringement       0.69      0.71      0.70       186\n",
      "\n",
      "        accuracy                           0.70       380\n",
      "       macro avg       0.70      0.70      0.70       380\n",
      "    weighted avg       0.70      0.70      0.70       380\n",
      "\n"
     ]
    },
    {
     "name": "stderr",
     "output_type": "stream",
     "text": [
      "Training Epochs:  50%|████▉     | 1249/2500 [00:43<03:29,  5.96it/s]"
     ]
    },
    {
     "name": "stdout",
     "output_type": "stream",
     "text": [
      "Epoch 1250/2500, Loss: 0.0950\n",
      "Test Accuracy at Epoch 1250: 70.00%\n",
      "Test F1-score at Epoch 1250: 0.6984\n",
      "Classification Report at Epoch 1250:\n",
      "                  precision    recall  f1-score   support\n",
      "\n",
      "    infringement       0.71      0.69      0.70       194\n",
      "non_infringement       0.69      0.71      0.70       186\n",
      "\n",
      "        accuracy                           0.70       380\n",
      "       macro avg       0.70      0.70      0.70       380\n",
      "    weighted avg       0.70      0.70      0.70       380\n",
      "\n"
     ]
    },
    {
     "name": "stderr",
     "output_type": "stream",
     "text": [
      "Training Epochs:  50%|█████     | 1260/2500 [00:47<06:27,  3.20it/s]"
     ]
    },
    {
     "name": "stdout",
     "output_type": "stream",
     "text": [
      "Epoch 1260/2500, Loss: 0.1064\n",
      "Test Accuracy at Epoch 1260: 69.74%\n",
      "Test F1-score at Epoch 1260: 0.6933\n",
      "Classification Report at Epoch 1260:\n",
      "                  precision    recall  f1-score   support\n",
      "\n",
      "    infringement       0.71      0.70      0.70       194\n",
      "non_infringement       0.69      0.70      0.69       186\n",
      "\n",
      "        accuracy                           0.70       380\n",
      "       macro avg       0.70      0.70      0.70       380\n",
      "    weighted avg       0.70      0.70      0.70       380\n",
      "\n"
     ]
    },
    {
     "name": "stderr",
     "output_type": "stream",
     "text": [
      "Training Epochs:  51%|█████     | 1270/2500 [00:51<08:35,  2.38it/s]"
     ]
    },
    {
     "name": "stdout",
     "output_type": "stream",
     "text": [
      "Epoch 1270/2500, Loss: 0.0958\n",
      "Test Accuracy at Epoch 1270: 70.00%\n",
      "Test F1-score at Epoch 1270: 0.6984\n",
      "Classification Report at Epoch 1270:\n",
      "                  precision    recall  f1-score   support\n",
      "\n",
      "    infringement       0.71      0.69      0.70       194\n",
      "non_infringement       0.69      0.71      0.70       186\n",
      "\n",
      "        accuracy                           0.70       380\n",
      "       macro avg       0.70      0.70      0.70       380\n",
      "    weighted avg       0.70      0.70      0.70       380\n",
      "\n"
     ]
    },
    {
     "name": "stderr",
     "output_type": "stream",
     "text": [
      "Training Epochs:  51%|█████     | 1281/2500 [00:52<02:09,  9.40it/s]"
     ]
    },
    {
     "name": "stdout",
     "output_type": "stream",
     "text": [
      "Epoch 1280/2500, Loss: 0.1033\n",
      "Test Accuracy at Epoch 1280: 69.47%\n",
      "Test F1-score at Epoch 1280: 0.7056\n",
      "Classification Report at Epoch 1280:\n",
      "                  precision    recall  f1-score   support\n",
      "\n",
      "    infringement       0.73      0.64      0.68       194\n",
      "non_infringement       0.67      0.75      0.71       186\n",
      "\n",
      "        accuracy                           0.69       380\n",
      "       macro avg       0.70      0.70      0.69       380\n",
      "    weighted avg       0.70      0.69      0.69       380\n",
      "\n"
     ]
    },
    {
     "name": "stderr",
     "output_type": "stream",
     "text": [
      "Training Epochs:  52%|█████▏    | 1289/2500 [00:52<01:12, 16.61it/s]"
     ]
    },
    {
     "name": "stdout",
     "output_type": "stream",
     "text": [
      "Epoch 1290/2500, Loss: 0.1013\n",
      "Test Accuracy at Epoch 1290: 69.47%\n",
      "Test F1-score at Epoch 1290: 0.7056\n",
      "Classification Report at Epoch 1290:\n",
      "                  precision    recall  f1-score   support\n",
      "\n",
      "    infringement       0.73      0.64      0.68       194\n",
      "non_infringement       0.67      0.75      0.71       186\n",
      "\n",
      "        accuracy                           0.69       380\n",
      "       macro avg       0.70      0.70      0.69       380\n",
      "    weighted avg       0.70      0.69      0.69       380\n",
      "\n"
     ]
    },
    {
     "name": "stderr",
     "output_type": "stream",
     "text": [
      "Training Epochs:  52%|█████▏    | 1299/2500 [00:53<01:09, 17.19it/s]"
     ]
    },
    {
     "name": "stdout",
     "output_type": "stream",
     "text": [
      "Epoch 1300/2500, Loss: 0.0984\n",
      "Test Accuracy at Epoch 1300: 71.05%\n",
      "Test F1-score at Epoch 1300: 0.7165\n",
      "Classification Report at Epoch 1300:\n",
      "                  precision    recall  f1-score   support\n",
      "\n",
      "    infringement       0.74      0.68      0.70       194\n",
      "non_infringement       0.69      0.75      0.72       186\n",
      "\n",
      "        accuracy                           0.71       380\n",
      "       macro avg       0.71      0.71      0.71       380\n",
      "    weighted avg       0.71      0.71      0.71       380\n",
      "\n"
     ]
    },
    {
     "name": "stderr",
     "output_type": "stream",
     "text": [
      "Training Epochs:  52%|█████▏    | 1309/2500 [00:54<01:29, 13.38it/s]"
     ]
    },
    {
     "name": "stdout",
     "output_type": "stream",
     "text": [
      "Epoch 1310/2500, Loss: 0.0958\n",
      "Test Accuracy at Epoch 1310: 71.32%\n",
      "Test F1-score at Epoch 1310: 0.7198\n",
      "Classification Report at Epoch 1310:\n",
      "                  precision    recall  f1-score   support\n",
      "\n",
      "    infringement       0.74      0.68      0.71       194\n",
      "non_infringement       0.69      0.75      0.72       186\n",
      "\n",
      "        accuracy                           0.71       380\n",
      "       macro avg       0.71      0.71      0.71       380\n",
      "    weighted avg       0.72      0.71      0.71       380\n",
      "\n"
     ]
    },
    {
     "name": "stderr",
     "output_type": "stream",
     "text": [
      "Training Epochs:  53%|█████▎    | 1319/2500 [00:55<01:18, 15.12it/s]"
     ]
    },
    {
     "name": "stdout",
     "output_type": "stream",
     "text": [
      "Epoch 1320/2500, Loss: 0.0949\n",
      "Test Accuracy at Epoch 1320: 71.05%\n",
      "Test F1-score at Epoch 1320: 0.7135\n",
      "Classification Report at Epoch 1320:\n",
      "                  precision    recall  f1-score   support\n",
      "\n",
      "    infringement       0.73      0.69      0.71       194\n",
      "non_infringement       0.69      0.74      0.71       186\n",
      "\n",
      "        accuracy                           0.71       380\n",
      "       macro avg       0.71      0.71      0.71       380\n",
      "    weighted avg       0.71      0.71      0.71       380\n",
      "\n"
     ]
    },
    {
     "name": "stderr",
     "output_type": "stream",
     "text": [
      "Training Epochs:  53%|█████▎    | 1330/2500 [00:59<07:32,  2.59it/s]"
     ]
    },
    {
     "name": "stdout",
     "output_type": "stream",
     "text": [
      "Epoch 1330/2500, Loss: 0.0945\n",
      "Test Accuracy at Epoch 1330: 70.79%\n",
      "Test F1-score at Epoch 1330: 0.7117\n",
      "Classification Report at Epoch 1330:\n",
      "                  precision    recall  f1-score   support\n",
      "\n",
      "    infringement       0.73      0.68      0.70       194\n",
      "non_infringement       0.69      0.74      0.71       186\n",
      "\n",
      "        accuracy                           0.71       380\n",
      "       macro avg       0.71      0.71      0.71       380\n",
      "    weighted avg       0.71      0.71      0.71       380\n",
      "\n"
     ]
    },
    {
     "name": "stderr",
     "output_type": "stream",
     "text": [
      "Training Epochs:  54%|█████▎    | 1341/2500 [01:00<01:51, 10.40it/s]"
     ]
    },
    {
     "name": "stdout",
     "output_type": "stream",
     "text": [
      "Epoch 1340/2500, Loss: 0.0951\n",
      "Test Accuracy at Epoch 1340: 70.00%\n",
      "Test F1-score at Epoch 1340: 0.6984\n",
      "Classification Report at Epoch 1340:\n",
      "                  precision    recall  f1-score   support\n",
      "\n",
      "    infringement       0.71      0.69      0.70       194\n",
      "non_infringement       0.69      0.71      0.70       186\n",
      "\n",
      "        accuracy                           0.70       380\n",
      "       macro avg       0.70      0.70      0.70       380\n",
      "    weighted avg       0.70      0.70      0.70       380\n",
      "\n"
     ]
    },
    {
     "name": "stderr",
     "output_type": "stream",
     "text": [
      "Training Epochs:  54%|█████▍    | 1351/2500 [01:00<01:10, 16.27it/s]"
     ]
    },
    {
     "name": "stdout",
     "output_type": "stream",
     "text": [
      "Epoch 1350/2500, Loss: 0.0977\n",
      "Test Accuracy at Epoch 1350: 70.00%\n",
      "Test F1-score at Epoch 1350: 0.6984\n",
      "Classification Report at Epoch 1350:\n",
      "                  precision    recall  f1-score   support\n",
      "\n",
      "    infringement       0.71      0.69      0.70       194\n",
      "non_infringement       0.69      0.71      0.70       186\n",
      "\n",
      "        accuracy                           0.70       380\n",
      "       macro avg       0.70      0.70      0.70       380\n",
      "    weighted avg       0.70      0.70      0.70       380\n",
      "\n"
     ]
    },
    {
     "name": "stderr",
     "output_type": "stream",
     "text": [
      "Training Epochs:  55%|█████▍    | 1364/2500 [01:01<00:42, 26.42it/s]"
     ]
    },
    {
     "name": "stdout",
     "output_type": "stream",
     "text": [
      "Epoch 1360/2500, Loss: 0.0947\n",
      "Test Accuracy at Epoch 1360: 70.00%\n",
      "Test F1-score at Epoch 1360: 0.6984\n",
      "Classification Report at Epoch 1360:\n",
      "                  precision    recall  f1-score   support\n",
      "\n",
      "    infringement       0.71      0.69      0.70       194\n",
      "non_infringement       0.69      0.71      0.70       186\n",
      "\n",
      "        accuracy                           0.70       380\n",
      "       macro avg       0.70      0.70      0.70       380\n",
      "    weighted avg       0.70      0.70      0.70       380\n",
      "\n"
     ]
    },
    {
     "name": "stderr",
     "output_type": "stream",
     "text": [
      "Training Epochs:  55%|█████▍    | 1369/2500 [01:01<00:43, 25.98it/s]"
     ]
    },
    {
     "name": "stdout",
     "output_type": "stream",
     "text": [
      "Epoch 1370/2500, Loss: 0.0973\n",
      "Test Accuracy at Epoch 1370: 71.32%\n",
      "Test F1-score at Epoch 1370: 0.7154\n",
      "Classification Report at Epoch 1370:\n",
      "                  precision    recall  f1-score   support\n",
      "\n",
      "    infringement       0.73      0.69      0.71       194\n",
      "non_infringement       0.70      0.74      0.72       186\n",
      "\n",
      "        accuracy                           0.71       380\n",
      "       macro avg       0.71      0.71      0.71       380\n",
      "    weighted avg       0.71      0.71      0.71       380\n",
      "\n"
     ]
    },
    {
     "name": "stderr",
     "output_type": "stream",
     "text": [
      "Training Epochs:  55%|█████▌    | 1387/2500 [01:03<01:19, 14.06it/s]"
     ]
    },
    {
     "name": "stdout",
     "output_type": "stream",
     "text": [
      "Epoch 1380/2500, Loss: 0.0981\n",
      "Test Accuracy at Epoch 1380: 70.00%\n",
      "Test F1-score at Epoch 1380: 0.6968\n",
      "Classification Report at Epoch 1380:\n",
      "                  precision    recall  f1-score   support\n",
      "\n",
      "    infringement       0.71      0.70      0.70       194\n",
      "non_infringement       0.69      0.70      0.70       186\n",
      "\n",
      "        accuracy                           0.70       380\n",
      "       macro avg       0.70      0.70      0.70       380\n",
      "    weighted avg       0.70      0.70      0.70       380\n",
      "\n"
     ]
    },
    {
     "name": "stderr",
     "output_type": "stream",
     "text": [
      "Training Epochs:  56%|█████▌    | 1391/2500 [01:03<01:13, 15.12it/s]"
     ]
    },
    {
     "name": "stdout",
     "output_type": "stream",
     "text": [
      "Epoch 1390/2500, Loss: 0.0962\n",
      "Test Accuracy at Epoch 1390: 69.21%\n",
      "Test F1-score at Epoch 1390: 0.6880\n",
      "Classification Report at Epoch 1390:\n",
      "                  precision    recall  f1-score   support\n",
      "\n",
      "    infringement       0.70      0.69      0.70       194\n",
      "non_infringement       0.68      0.69      0.69       186\n",
      "\n",
      "        accuracy                           0.69       380\n",
      "       macro avg       0.69      0.69      0.69       380\n",
      "    weighted avg       0.69      0.69      0.69       380\n",
      "\n"
     ]
    },
    {
     "name": "stderr",
     "output_type": "stream",
     "text": [
      "Training Epochs:  56%|█████▌    | 1401/2500 [01:04<00:47, 22.98it/s]"
     ]
    },
    {
     "name": "stdout",
     "output_type": "stream",
     "text": [
      "Epoch 1400/2500, Loss: 0.1063\n",
      "Test Accuracy at Epoch 1400: 68.68%\n",
      "Test F1-score at Epoch 1400: 0.6792\n",
      "Classification Report at Epoch 1400:\n",
      "                  precision    recall  f1-score   support\n",
      "\n",
      "    infringement       0.69      0.70      0.69       194\n",
      "non_infringement       0.68      0.68      0.68       186\n",
      "\n",
      "        accuracy                           0.69       380\n",
      "       macro avg       0.69      0.69      0.69       380\n",
      "    weighted avg       0.69      0.69      0.69       380\n",
      "\n"
     ]
    },
    {
     "name": "stderr",
     "output_type": "stream",
     "text": [
      "Training Epochs:  57%|█████▋    | 1414/2500 [01:04<00:36, 29.77it/s]"
     ]
    },
    {
     "name": "stdout",
     "output_type": "stream",
     "text": [
      "Epoch 1410/2500, Loss: 0.0952\n",
      "Test Accuracy at Epoch 1410: 66.32%\n",
      "Test F1-score at Epoch 1410: 0.6735\n",
      "Classification Report at Epoch 1410:\n",
      "                  precision    recall  f1-score   support\n",
      "\n",
      "    infringement       0.69      0.62      0.65       194\n",
      "non_infringement       0.64      0.71      0.67       186\n",
      "\n",
      "        accuracy                           0.66       380\n",
      "       macro avg       0.67      0.66      0.66       380\n",
      "    weighted avg       0.67      0.66      0.66       380\n",
      "\n"
     ]
    },
    {
     "name": "stderr",
     "output_type": "stream",
     "text": [
      "Training Epochs:  57%|█████▋    | 1418/2500 [01:04<00:50, 21.32it/s]"
     ]
    },
    {
     "name": "stdout",
     "output_type": "stream",
     "text": [
      "Epoch 1420/2500, Loss: 0.0952\n",
      "Test Accuracy at Epoch 1420: 70.00%\n",
      "Test F1-score at Epoch 1420: 0.7031\n",
      "Classification Report at Epoch 1420:\n",
      "                  precision    recall  f1-score   support\n",
      "\n",
      "    infringement       0.72      0.68      0.70       194\n",
      "non_infringement       0.68      0.73      0.70       186\n",
      "\n",
      "        accuracy                           0.70       380\n",
      "       macro avg       0.70      0.70      0.70       380\n",
      "    weighted avg       0.70      0.70      0.70       380\n",
      "\n"
     ]
    },
    {
     "name": "stderr",
     "output_type": "stream",
     "text": [
      "Training Epochs:  57%|█████▋    | 1430/2500 [01:08<04:38,  3.84it/s]"
     ]
    },
    {
     "name": "stdout",
     "output_type": "stream",
     "text": [
      "Epoch 1430/2500, Loss: 0.0947\n",
      "Test Accuracy at Epoch 1430: 70.00%\n",
      "Test F1-score at Epoch 1430: 0.7031\n",
      "Classification Report at Epoch 1430:\n",
      "                  precision    recall  f1-score   support\n",
      "\n",
      "    infringement       0.72      0.68      0.70       194\n",
      "non_infringement       0.68      0.73      0.70       186\n",
      "\n",
      "        accuracy                           0.70       380\n",
      "       macro avg       0.70      0.70      0.70       380\n",
      "    weighted avg       0.70      0.70      0.70       380\n",
      "\n"
     ]
    },
    {
     "name": "stderr",
     "output_type": "stream",
     "text": [
      "Training Epochs:  58%|█████▊    | 1441/2500 [01:09<01:30, 11.65it/s]"
     ]
    },
    {
     "name": "stdout",
     "output_type": "stream",
     "text": [
      "Epoch 1440/2500, Loss: 0.0944\n",
      "Test Accuracy at Epoch 1440: 70.00%\n",
      "Test F1-score at Epoch 1440: 0.7031\n",
      "Classification Report at Epoch 1440:\n",
      "                  precision    recall  f1-score   support\n",
      "\n",
      "    infringement       0.72      0.68      0.70       194\n",
      "non_infringement       0.68      0.73      0.70       186\n",
      "\n",
      "        accuracy                           0.70       380\n",
      "       macro avg       0.70      0.70      0.70       380\n",
      "    weighted avg       0.70      0.70      0.70       380\n",
      "\n"
     ]
    },
    {
     "name": "stderr",
     "output_type": "stream",
     "text": [
      "Training Epochs:  58%|█████▊    | 1448/2500 [01:10<03:01,  5.80it/s]"
     ]
    },
    {
     "name": "stdout",
     "output_type": "stream",
     "text": [
      "Epoch 1450/2500, Loss: 0.0941\n",
      "Test Accuracy at Epoch 1450: 70.00%\n",
      "Test F1-score at Epoch 1450: 0.7016\n",
      "Classification Report at Epoch 1450:\n",
      "                  precision    recall  f1-score   support\n",
      "\n",
      "    infringement       0.72      0.68      0.70       194\n",
      "non_infringement       0.68      0.72      0.70       186\n",
      "\n",
      "        accuracy                           0.70       380\n",
      "       macro avg       0.70      0.70      0.70       380\n",
      "    weighted avg       0.70      0.70      0.70       380\n",
      "\n"
     ]
    },
    {
     "name": "stderr",
     "output_type": "stream",
     "text": [
      "Training Epochs:  58%|█████▊    | 1461/2500 [01:11<01:25, 12.13it/s]"
     ]
    },
    {
     "name": "stdout",
     "output_type": "stream",
     "text": [
      "Epoch 1460/2500, Loss: 0.0940\n",
      "Test Accuracy at Epoch 1460: 70.26%\n",
      "Test F1-score at Epoch 1460: 0.7034\n",
      "Classification Report at Epoch 1460:\n",
      "                  precision    recall  f1-score   support\n",
      "\n",
      "    infringement       0.72      0.69      0.70       194\n",
      "non_infringement       0.69      0.72      0.70       186\n",
      "\n",
      "        accuracy                           0.70       380\n",
      "       macro avg       0.70      0.70      0.70       380\n",
      "    weighted avg       0.70      0.70      0.70       380\n",
      "\n"
     ]
    },
    {
     "name": "stderr",
     "output_type": "stream",
     "text": [
      "Training Epochs:  59%|█████▉    | 1471/2500 [01:12<01:15, 13.54it/s]"
     ]
    },
    {
     "name": "stdout",
     "output_type": "stream",
     "text": [
      "Epoch 1470/2500, Loss: 0.0938\n",
      "Test Accuracy at Epoch 1470: 69.74%\n",
      "Test F1-score at Epoch 1470: 0.6997\n",
      "Classification Report at Epoch 1470:\n",
      "                  precision    recall  f1-score   support\n",
      "\n",
      "    infringement       0.72      0.68      0.69       194\n",
      "non_infringement       0.68      0.72      0.70       186\n",
      "\n",
      "        accuracy                           0.70       380\n",
      "       macro avg       0.70      0.70      0.70       380\n",
      "    weighted avg       0.70      0.70      0.70       380\n",
      "\n"
     ]
    },
    {
     "name": "stderr",
     "output_type": "stream",
     "text": [
      "Training Epochs:  59%|█████▉    | 1480/2500 [01:12<00:45, 22.23it/s]"
     ]
    },
    {
     "name": "stdout",
     "output_type": "stream",
     "text": [
      "Epoch 1480/2500, Loss: 0.0938\n",
      "Test Accuracy at Epoch 1480: 69.21%\n",
      "Test F1-score at Epoch 1480: 0.6880\n",
      "Classification Report at Epoch 1480:\n",
      "                  precision    recall  f1-score   support\n",
      "\n",
      "    infringement       0.70      0.69      0.70       194\n",
      "non_infringement       0.68      0.69      0.69       186\n",
      "\n",
      "        accuracy                           0.69       380\n",
      "       macro avg       0.69      0.69      0.69       380\n",
      "    weighted avg       0.69      0.69      0.69       380\n",
      "\n"
     ]
    },
    {
     "name": "stderr",
     "output_type": "stream",
     "text": [
      "Training Epochs:  60%|█████▉    | 1491/2500 [01:15<03:54,  4.30it/s]"
     ]
    },
    {
     "name": "stdout",
     "output_type": "stream",
     "text": [
      "Epoch 1490/2500, Loss: 0.0986\n",
      "Test Accuracy at Epoch 1490: 68.95%\n",
      "Test F1-score at Epoch 1490: 0.6828\n",
      "Classification Report at Epoch 1490:\n",
      "                  precision    recall  f1-score   support\n",
      "\n",
      "    infringement       0.70      0.70      0.70       194\n",
      "non_infringement       0.68      0.68      0.68       186\n",
      "\n",
      "        accuracy                           0.69       380\n",
      "       macro avg       0.69      0.69      0.69       380\n",
      "    weighted avg       0.69      0.69      0.69       380\n",
      "\n"
     ]
    },
    {
     "name": "stderr",
     "output_type": "stream",
     "text": [
      "Training Epochs:  60%|██████    | 1500/2500 [01:16<01:48,  9.24it/s]"
     ]
    },
    {
     "name": "stdout",
     "output_type": "stream",
     "text": [
      "Epoch 1500/2500, Loss: 0.1011\n",
      "Test Accuracy at Epoch 1500: 69.21%\n",
      "Test F1-score at Epoch 1500: 0.7053\n",
      "Classification Report at Epoch 1500:\n",
      "                  precision    recall  f1-score   support\n",
      "\n",
      "    infringement       0.73      0.63      0.68       194\n",
      "non_infringement       0.66      0.75      0.71       186\n",
      "\n",
      "        accuracy                           0.69       380\n",
      "       macro avg       0.70      0.69      0.69       380\n",
      "    weighted avg       0.70      0.69      0.69       380\n",
      "\n"
     ]
    },
    {
     "name": "stderr",
     "output_type": "stream",
     "text": [
      "Training Epochs:  60%|██████    | 1510/2500 [01:19<03:57,  4.16it/s]"
     ]
    },
    {
     "name": "stdout",
     "output_type": "stream",
     "text": [
      "Epoch 1510/2500, Loss: 0.0962\n",
      "Test Accuracy at Epoch 1510: 70.00%\n",
      "Test F1-score at Epoch 1510: 0.7016\n",
      "Classification Report at Epoch 1510:\n",
      "                  precision    recall  f1-score   support\n",
      "\n",
      "    infringement       0.72      0.68      0.70       194\n",
      "non_infringement       0.68      0.72      0.70       186\n",
      "\n",
      "        accuracy                           0.70       380\n",
      "       macro avg       0.70      0.70      0.70       380\n",
      "    weighted avg       0.70      0.70      0.70       380\n",
      "\n"
     ]
    },
    {
     "name": "stderr",
     "output_type": "stream",
     "text": [
      "Training Epochs:  61%|██████    | 1520/2500 [01:23<07:11,  2.27it/s]"
     ]
    },
    {
     "name": "stdout",
     "output_type": "stream",
     "text": [
      "Epoch 1520/2500, Loss: 0.0954\n",
      "Test Accuracy at Epoch 1520: 69.47%\n",
      "Test F1-score at Epoch 1520: 0.6898\n",
      "Classification Report at Epoch 1520:\n",
      "                  precision    recall  f1-score   support\n",
      "\n",
      "    infringement       0.70      0.70      0.70       194\n",
      "non_infringement       0.69      0.69      0.69       186\n",
      "\n",
      "        accuracy                           0.69       380\n",
      "       macro avg       0.69      0.69      0.69       380\n",
      "    weighted avg       0.69      0.69      0.69       380\n",
      "\n"
     ]
    },
    {
     "name": "stderr",
     "output_type": "stream",
     "text": [
      "Training Epochs:  61%|██████    | 1531/2500 [01:26<02:56,  5.48it/s]"
     ]
    },
    {
     "name": "stdout",
     "output_type": "stream",
     "text": [
      "Epoch 1530/2500, Loss: 0.0963\n",
      "Test Accuracy at Epoch 1530: 68.16%\n",
      "Test F1-score at Epoch 1530: 0.6905\n",
      "Classification Report at Epoch 1530:\n",
      "                  precision    recall  f1-score   support\n",
      "\n",
      "    infringement       0.71      0.64      0.67       194\n",
      "non_infringement       0.66      0.73      0.69       186\n",
      "\n",
      "        accuracy                           0.68       380\n",
      "       macro avg       0.68      0.68      0.68       380\n",
      "    weighted avg       0.68      0.68      0.68       380\n",
      "\n"
     ]
    },
    {
     "name": "stderr",
     "output_type": "stream",
     "text": [
      "Training Epochs:  62%|██████▏   | 1541/2500 [01:27<01:00, 15.85it/s]"
     ]
    },
    {
     "name": "stdout",
     "output_type": "stream",
     "text": [
      "Epoch 1540/2500, Loss: 0.0938\n",
      "Test Accuracy at Epoch 1540: 70.26%\n",
      "Test F1-score at Epoch 1540: 0.7050\n",
      "Classification Report at Epoch 1540:\n",
      "                  precision    recall  f1-score   support\n",
      "\n",
      "    infringement       0.72      0.68      0.70       194\n",
      "non_infringement       0.69      0.73      0.70       186\n",
      "\n",
      "        accuracy                           0.70       380\n",
      "       macro avg       0.70      0.70      0.70       380\n",
      "    weighted avg       0.70      0.70      0.70       380\n",
      "\n"
     ]
    },
    {
     "name": "stderr",
     "output_type": "stream",
     "text": [
      "Training Epochs:  62%|██████▏   | 1556/2500 [01:27<00:28, 32.57it/s]"
     ]
    },
    {
     "name": "stdout",
     "output_type": "stream",
     "text": [
      "Epoch 1550/2500, Loss: 0.0937\n",
      "Test Accuracy at Epoch 1550: 70.79%\n",
      "Test F1-score at Epoch 1550: 0.7087\n",
      "Classification Report at Epoch 1550:\n",
      "                  precision    recall  f1-score   support\n",
      "\n",
      "    infringement       0.72      0.69      0.71       194\n",
      "non_infringement       0.69      0.73      0.71       186\n",
      "\n",
      "        accuracy                           0.71       380\n",
      "       macro avg       0.71      0.71      0.71       380\n",
      "    weighted avg       0.71      0.71      0.71       380\n",
      "\n",
      "Epoch 1560/2500, Loss: 0.0953\n",
      "Test Accuracy at Epoch 1560: 69.21%\n",
      "Test F1-score at Epoch 1560: 0.6880\n",
      "Classification Report at Epoch 1560:\n",
      "                  precision    recall  f1-score   support\n",
      "\n",
      "    infringement       0.70      0.69      0.70       194\n",
      "non_infringement       0.68      0.69      0.69       186\n",
      "\n",
      "        accuracy                           0.69       380\n",
      "       macro avg       0.69      0.69      0.69       380\n",
      "    weighted avg       0.69      0.69      0.69       380\n",
      "\n"
     ]
    },
    {
     "name": "stderr",
     "output_type": "stream",
     "text": [
      "Training Epochs:  63%|██████▎   | 1572/2500 [01:27<00:23, 39.75it/s]"
     ]
    },
    {
     "name": "stdout",
     "output_type": "stream",
     "text": [
      "Epoch 1570/2500, Loss: 0.0935\n",
      "Test Accuracy at Epoch 1570: 69.47%\n",
      "Test F1-score at Epoch 1570: 0.6915\n",
      "Classification Report at Epoch 1570:\n",
      "                  precision    recall  f1-score   support\n",
      "\n",
      "    infringement       0.71      0.69      0.70       194\n",
      "non_infringement       0.68      0.70      0.69       186\n",
      "\n",
      "        accuracy                           0.69       380\n",
      "       macro avg       0.69      0.69      0.69       380\n",
      "    weighted avg       0.69      0.69      0.69       380\n",
      "\n"
     ]
    },
    {
     "name": "stderr",
     "output_type": "stream",
     "text": [
      "Training Epochs:  64%|██████▎   | 1589/2500 [01:28<00:21, 42.99it/s]"
     ]
    },
    {
     "name": "stdout",
     "output_type": "stream",
     "text": [
      "Epoch 1580/2500, Loss: 0.0982\n",
      "Test Accuracy at Epoch 1580: 68.95%\n",
      "Test F1-score at Epoch 1580: 0.6828\n",
      "Classification Report at Epoch 1580:\n",
      "                  precision    recall  f1-score   support\n",
      "\n",
      "    infringement       0.70      0.70      0.70       194\n",
      "non_infringement       0.68      0.68      0.68       186\n",
      "\n",
      "        accuracy                           0.69       380\n",
      "       macro avg       0.69      0.69      0.69       380\n",
      "    weighted avg       0.69      0.69      0.69       380\n",
      "\n"
     ]
    },
    {
     "name": "stderr",
     "output_type": "stream",
     "text": [
      "Training Epochs:  64%|██████▍   | 1594/2500 [01:28<00:23, 38.03it/s]"
     ]
    },
    {
     "name": "stdout",
     "output_type": "stream",
     "text": [
      "Epoch 1590/2500, Loss: 0.1037\n",
      "Test Accuracy at Epoch 1590: 67.89%\n",
      "Test F1-score at Epoch 1590: 0.6965\n",
      "Classification Report at Epoch 1590:\n",
      "                  precision    recall  f1-score   support\n",
      "\n",
      "    infringement       0.72      0.61      0.66       194\n",
      "non_infringement       0.65      0.75      0.70       186\n",
      "\n",
      "        accuracy                           0.68       380\n",
      "       macro avg       0.68      0.68      0.68       380\n",
      "    weighted avg       0.68      0.68      0.68       380\n",
      "\n"
     ]
    },
    {
     "name": "stderr",
     "output_type": "stream",
     "text": [
      "Training Epochs:  64%|██████▍   | 1606/2500 [01:28<00:19, 45.77it/s]"
     ]
    },
    {
     "name": "stdout",
     "output_type": "stream",
     "text": [
      "Epoch 1600/2500, Loss: 0.0937\n",
      "Test Accuracy at Epoch 1600: 69.47%\n",
      "Test F1-score at Epoch 1600: 0.7056\n",
      "Classification Report at Epoch 1600:\n",
      "                  precision    recall  f1-score   support\n",
      "\n",
      "    infringement       0.73      0.64      0.68       194\n",
      "non_infringement       0.67      0.75      0.71       186\n",
      "\n",
      "        accuracy                           0.69       380\n",
      "       macro avg       0.70      0.70      0.69       380\n",
      "    weighted avg       0.70      0.69      0.69       380\n",
      "\n",
      "Epoch 1610/2500, Loss: 0.0978\n"
     ]
    },
    {
     "name": "stderr",
     "output_type": "stream",
     "text": [
      "Training Epochs:  64%|██████▍   | 1611/2500 [01:28<00:23, 38.58it/s]"
     ]
    },
    {
     "name": "stdout",
     "output_type": "stream",
     "text": [
      "Test Accuracy at Epoch 1610: 67.63%\n",
      "Test F1-score at Epoch 1610: 0.6737\n",
      "Classification Report at Epoch 1610:\n",
      "                  precision    recall  f1-score   support\n",
      "\n",
      "    infringement       0.69      0.67      0.68       194\n",
      "non_infringement       0.66      0.68      0.67       186\n",
      "\n",
      "        accuracy                           0.68       380\n",
      "       macro avg       0.68      0.68      0.68       380\n",
      "    weighted avg       0.68      0.68      0.68       380\n",
      "\n"
     ]
    },
    {
     "name": "stderr",
     "output_type": "stream",
     "text": [
      "Training Epochs:  65%|██████▍   | 1622/2500 [01:29<00:20, 43.38it/s]"
     ]
    },
    {
     "name": "stdout",
     "output_type": "stream",
     "text": [
      "Epoch 1620/2500, Loss: 0.0942\n",
      "Test Accuracy at Epoch 1620: 68.68%\n",
      "Test F1-score at Epoch 1620: 0.6941\n",
      "Classification Report at Epoch 1620:\n",
      "                  precision    recall  f1-score   support\n",
      "\n",
      "    infringement       0.71      0.65      0.68       194\n",
      "non_infringement       0.67      0.73      0.69       186\n",
      "\n",
      "        accuracy                           0.69       380\n",
      "       macro avg       0.69      0.69      0.69       380\n",
      "    weighted avg       0.69      0.69      0.69       380\n",
      "\n"
     ]
    },
    {
     "name": "stderr",
     "output_type": "stream",
     "text": [
      "Training Epochs:  65%|██████▌   | 1632/2500 [01:29<00:37, 22.96it/s]"
     ]
    },
    {
     "name": "stdout",
     "output_type": "stream",
     "text": [
      "Epoch 1630/2500, Loss: 0.0937\n",
      "Test Accuracy at Epoch 1630: 67.89%\n",
      "Test F1-score at Epoch 1630: 0.6806\n",
      "Classification Report at Epoch 1630:\n",
      "                  precision    recall  f1-score   support\n",
      "\n",
      "    infringement       0.70      0.66      0.68       194\n",
      "non_infringement       0.66      0.70      0.68       186\n",
      "\n",
      "        accuracy                           0.68       380\n",
      "       macro avg       0.68      0.68      0.68       380\n",
      "    weighted avg       0.68      0.68      0.68       380\n",
      "\n"
     ]
    },
    {
     "name": "stderr",
     "output_type": "stream",
     "text": [
      "Training Epochs:  66%|██████▌   | 1642/2500 [01:29<00:29, 28.96it/s]"
     ]
    },
    {
     "name": "stdout",
     "output_type": "stream",
     "text": [
      "Epoch 1640/2500, Loss: 0.0934\n",
      "Test Accuracy at Epoch 1640: 67.37%\n",
      "Test F1-score at Epoch 1640: 0.6771\n",
      "Classification Report at Epoch 1640:\n",
      "                  precision    recall  f1-score   support\n",
      "\n",
      "    infringement       0.69      0.65      0.67       194\n",
      "non_infringement       0.66      0.70      0.68       186\n",
      "\n",
      "        accuracy                           0.67       380\n",
      "       macro avg       0.67      0.67      0.67       380\n",
      "    weighted avg       0.67      0.67      0.67       380\n",
      "\n"
     ]
    },
    {
     "name": "stderr",
     "output_type": "stream",
     "text": [
      "Training Epochs:  66%|██████▌   | 1656/2500 [01:30<00:23, 36.00it/s]"
     ]
    },
    {
     "name": "stdout",
     "output_type": "stream",
     "text": [
      "Epoch 1650/2500, Loss: 0.0953\n",
      "Test Accuracy at Epoch 1650: 67.11%\n",
      "Test F1-score at Epoch 1650: 0.6867\n",
      "Classification Report at Epoch 1650:\n",
      "                  precision    recall  f1-score   support\n",
      "\n",
      "    infringement       0.71      0.61      0.65       194\n",
      "non_infringement       0.64      0.74      0.69       186\n",
      "\n",
      "        accuracy                           0.67       380\n",
      "       macro avg       0.67      0.67      0.67       380\n",
      "    weighted avg       0.68      0.67      0.67       380\n",
      "\n"
     ]
    },
    {
     "name": "stderr",
     "output_type": "stream",
     "text": [
      "Training Epochs:  66%|██████▋   | 1661/2500 [01:30<00:26, 32.03it/s]"
     ]
    },
    {
     "name": "stdout",
     "output_type": "stream",
     "text": [
      "Epoch 1660/2500, Loss: 0.0933\n",
      "Test Accuracy at Epoch 1660: 68.16%\n",
      "Test F1-score at Epoch 1660: 0.6824\n",
      "Classification Report at Epoch 1660:\n",
      "                  precision    recall  f1-score   support\n",
      "\n",
      "    infringement       0.70      0.66      0.68       194\n",
      "non_infringement       0.67      0.70      0.68       186\n",
      "\n",
      "        accuracy                           0.68       380\n",
      "       macro avg       0.68      0.68      0.68       380\n",
      "    weighted avg       0.68      0.68      0.68       380\n",
      "\n"
     ]
    },
    {
     "name": "stderr",
     "output_type": "stream",
     "text": [
      "Training Epochs:  67%|██████▋   | 1672/2500 [01:30<00:21, 37.75it/s]"
     ]
    },
    {
     "name": "stdout",
     "output_type": "stream",
     "text": [
      "Epoch 1670/2500, Loss: 0.0978\n",
      "Test Accuracy at Epoch 1670: 67.89%\n",
      "Test F1-score at Epoch 1670: 0.6789\n",
      "Classification Report at Epoch 1670:\n",
      "                  precision    recall  f1-score   support\n",
      "\n",
      "    infringement       0.69      0.66      0.68       194\n",
      "non_infringement       0.66      0.69      0.68       186\n",
      "\n",
      "        accuracy                           0.68       380\n",
      "       macro avg       0.68      0.68      0.68       380\n",
      "    weighted avg       0.68      0.68      0.68       380\n",
      "\n"
     ]
    },
    {
     "name": "stderr",
     "output_type": "stream",
     "text": [
      "Training Epochs:  67%|██████▋   | 1681/2500 [01:31<00:22, 36.00it/s]"
     ]
    },
    {
     "name": "stdout",
     "output_type": "stream",
     "text": [
      "Epoch 1680/2500, Loss: 0.0967\n",
      "Test Accuracy at Epoch 1680: 67.89%\n",
      "Test F1-score at Epoch 1680: 0.6839\n",
      "Classification Report at Epoch 1680:\n",
      "                  precision    recall  f1-score   support\n",
      "\n",
      "    infringement       0.70      0.65      0.67       194\n",
      "non_infringement       0.66      0.71      0.68       186\n",
      "\n",
      "        accuracy                           0.68       380\n",
      "       macro avg       0.68      0.68      0.68       380\n",
      "    weighted avg       0.68      0.68      0.68       380\n",
      "\n"
     ]
    },
    {
     "name": "stderr",
     "output_type": "stream",
     "text": [
      "Training Epochs:  68%|██████▊   | 1692/2500 [01:31<00:31, 25.73it/s]"
     ]
    },
    {
     "name": "stdout",
     "output_type": "stream",
     "text": [
      "Epoch 1690/2500, Loss: 0.0997\n",
      "Test Accuracy at Epoch 1690: 68.95%\n",
      "Test F1-score at Epoch 1690: 0.6828\n",
      "Classification Report at Epoch 1690:\n",
      "                  precision    recall  f1-score   support\n",
      "\n",
      "    infringement       0.70      0.70      0.70       194\n",
      "non_infringement       0.68      0.68      0.68       186\n",
      "\n",
      "        accuracy                           0.69       380\n",
      "       macro avg       0.69      0.69      0.69       380\n",
      "    weighted avg       0.69      0.69      0.69       380\n",
      "\n"
     ]
    },
    {
     "name": "stderr",
     "output_type": "stream",
     "text": [
      "Training Epochs:  68%|██████▊   | 1709/2500 [01:31<00:21, 37.50it/s]"
     ]
    },
    {
     "name": "stdout",
     "output_type": "stream",
     "text": [
      "Epoch 1700/2500, Loss: 0.0945\n",
      "Test Accuracy at Epoch 1700: 67.63%\n",
      "Test F1-score at Epoch 1700: 0.6789\n",
      "Classification Report at Epoch 1700:\n",
      "                  precision    recall  f1-score   support\n",
      "\n",
      "    infringement       0.69      0.65      0.67       194\n",
      "non_infringement       0.66      0.70      0.68       186\n",
      "\n",
      "        accuracy                           0.68       380\n",
      "       macro avg       0.68      0.68      0.68       380\n",
      "    weighted avg       0.68      0.68      0.68       380\n",
      "\n"
     ]
    },
    {
     "name": "stderr",
     "output_type": "stream",
     "text": [
      "Training Epochs:  69%|██████▊   | 1714/2500 [01:32<00:24, 31.92it/s]"
     ]
    },
    {
     "name": "stdout",
     "output_type": "stream",
     "text": [
      "Epoch 1710/2500, Loss: 0.0935\n",
      "Test Accuracy at Epoch 1710: 68.68%\n",
      "Test F1-score at Epoch 1710: 0.6941\n",
      "Classification Report at Epoch 1710:\n",
      "                  precision    recall  f1-score   support\n",
      "\n",
      "    infringement       0.71      0.65      0.68       194\n",
      "non_infringement       0.67      0.73      0.69       186\n",
      "\n",
      "        accuracy                           0.69       380\n",
      "       macro avg       0.69      0.69      0.69       380\n",
      "    weighted avg       0.69      0.69      0.69       380\n",
      "\n"
     ]
    },
    {
     "name": "stderr",
     "output_type": "stream",
     "text": [
      "Training Epochs:  69%|██████▉   | 1722/2500 [01:32<00:33, 23.22it/s]"
     ]
    },
    {
     "name": "stdout",
     "output_type": "stream",
     "text": [
      "Epoch 1720/2500, Loss: 0.0940\n",
      "Test Accuracy at Epoch 1720: 67.11%\n",
      "Test F1-score at Epoch 1720: 0.6753\n",
      "Classification Report at Epoch 1720:\n",
      "                  precision    recall  f1-score   support\n",
      "\n",
      "    infringement       0.69      0.64      0.67       194\n",
      "non_infringement       0.65      0.70      0.68       186\n",
      "\n",
      "        accuracy                           0.67       380\n",
      "       macro avg       0.67      0.67      0.67       380\n",
      "    weighted avg       0.67      0.67      0.67       380\n",
      "\n"
     ]
    },
    {
     "name": "stderr",
     "output_type": "stream",
     "text": [
      "Training Epochs:  69%|██████▉   | 1732/2500 [01:32<00:25, 30.24it/s]"
     ]
    },
    {
     "name": "stdout",
     "output_type": "stream",
     "text": [
      "Epoch 1730/2500, Loss: 0.0945\n",
      "Test Accuracy at Epoch 1730: 68.16%\n",
      "Test F1-score at Epoch 1730: 0.6824\n",
      "Classification Report at Epoch 1730:\n",
      "                  precision    recall  f1-score   support\n",
      "\n",
      "    infringement       0.70      0.66      0.68       194\n",
      "non_infringement       0.67      0.70      0.68       186\n",
      "\n",
      "        accuracy                           0.68       380\n",
      "       macro avg       0.68      0.68      0.68       380\n",
      "    weighted avg       0.68      0.68      0.68       380\n",
      "\n"
     ]
    },
    {
     "name": "stderr",
     "output_type": "stream",
     "text": [
      "Training Epochs:  70%|██████▉   | 1741/2500 [01:33<00:28, 26.60it/s]"
     ]
    },
    {
     "name": "stdout",
     "output_type": "stream",
     "text": [
      "Epoch 1740/2500, Loss: 0.0934\n",
      "Test Accuracy at Epoch 1740: 67.63%\n",
      "Test F1-score at Epoch 1740: 0.6789\n",
      "Classification Report at Epoch 1740:\n",
      "                  precision    recall  f1-score   support\n",
      "\n",
      "    infringement       0.69      0.65      0.67       194\n",
      "non_infringement       0.66      0.70      0.68       186\n",
      "\n",
      "        accuracy                           0.68       380\n",
      "       macro avg       0.68      0.68      0.68       380\n",
      "    weighted avg       0.68      0.68      0.68       380\n",
      "\n"
     ]
    },
    {
     "name": "stderr",
     "output_type": "stream",
     "text": [
      "Training Epochs:  70%|███████   | 1750/2500 [01:36<02:35,  4.81it/s]"
     ]
    },
    {
     "name": "stdout",
     "output_type": "stream",
     "text": [
      "Epoch 1750/2500, Loss: 0.0975\n",
      "Test Accuracy at Epoch 1750: 67.63%\n",
      "Test F1-score at Epoch 1750: 0.6737\n",
      "Classification Report at Epoch 1750:\n",
      "                  precision    recall  f1-score   support\n",
      "\n",
      "    infringement       0.69      0.67      0.68       194\n",
      "non_infringement       0.66      0.68      0.67       186\n",
      "\n",
      "        accuracy                           0.68       380\n",
      "       macro avg       0.68      0.68      0.68       380\n",
      "    weighted avg       0.68      0.68      0.68       380\n",
      "\n"
     ]
    },
    {
     "name": "stderr",
     "output_type": "stream",
     "text": [
      "Training Epochs:  70%|███████   | 1758/2500 [01:37<01:31,  8.10it/s]"
     ]
    },
    {
     "name": "stdout",
     "output_type": "stream",
     "text": [
      "Epoch 1760/2500, Loss: 0.0944\n",
      "Test Accuracy at Epoch 1760: 67.11%\n",
      "Test F1-score at Epoch 1760: 0.6867\n",
      "Classification Report at Epoch 1760:\n",
      "                  precision    recall  f1-score   support\n",
      "\n",
      "    infringement       0.71      0.61      0.65       194\n",
      "non_infringement       0.64      0.74      0.69       186\n",
      "\n",
      "        accuracy                           0.67       380\n",
      "       macro avg       0.67      0.67      0.67       380\n",
      "    weighted avg       0.68      0.67      0.67       380\n",
      "\n"
     ]
    },
    {
     "name": "stderr",
     "output_type": "stream",
     "text": [
      "Training Epochs:  71%|███████   | 1771/2500 [01:37<00:45, 16.16it/s]"
     ]
    },
    {
     "name": "stdout",
     "output_type": "stream",
     "text": [
      "Epoch 1770/2500, Loss: 0.0950\n",
      "Test Accuracy at Epoch 1770: 67.63%\n",
      "Test F1-score at Epoch 1770: 0.6737\n",
      "Classification Report at Epoch 1770:\n",
      "                  precision    recall  f1-score   support\n",
      "\n",
      "    infringement       0.69      0.67      0.68       194\n",
      "non_infringement       0.66      0.68      0.67       186\n",
      "\n",
      "        accuracy                           0.68       380\n",
      "       macro avg       0.68      0.68      0.68       380\n",
      "    weighted avg       0.68      0.68      0.68       380\n",
      "\n"
     ]
    },
    {
     "name": "stderr",
     "output_type": "stream",
     "text": [
      "Training Epochs:  71%|███████▏  | 1784/2500 [01:38<00:30, 23.10it/s]"
     ]
    },
    {
     "name": "stdout",
     "output_type": "stream",
     "text": [
      "Epoch 1780/2500, Loss: 0.0990\n",
      "Test Accuracy at Epoch 1780: 67.11%\n",
      "Test F1-score at Epoch 1780: 0.6867\n",
      "Classification Report at Epoch 1780:\n",
      "                  precision    recall  f1-score   support\n",
      "\n",
      "    infringement       0.71      0.61      0.65       194\n",
      "non_infringement       0.64      0.74      0.69       186\n",
      "\n",
      "        accuracy                           0.67       380\n",
      "       macro avg       0.67      0.67      0.67       380\n",
      "    weighted avg       0.68      0.67      0.67       380\n",
      "\n"
     ]
    },
    {
     "name": "stderr",
     "output_type": "stream",
     "text": [
      "Training Epochs:  72%|███████▏  | 1788/2500 [01:38<00:29, 24.15it/s]"
     ]
    },
    {
     "name": "stdout",
     "output_type": "stream",
     "text": [
      "Epoch 1790/2500, Loss: 0.0936\n",
      "Test Accuracy at Epoch 1790: 67.11%\n",
      "Test F1-score at Epoch 1790: 0.6753\n",
      "Classification Report at Epoch 1790:\n",
      "                  precision    recall  f1-score   support\n",
      "\n",
      "    infringement       0.69      0.64      0.67       194\n",
      "non_infringement       0.65      0.70      0.68       186\n",
      "\n",
      "        accuracy                           0.67       380\n",
      "       macro avg       0.67      0.67      0.67       380\n",
      "    weighted avg       0.67      0.67      0.67       380\n",
      "\n"
     ]
    },
    {
     "name": "stderr",
     "output_type": "stream",
     "text": [
      "Training Epochs:  72%|███████▏  | 1800/2500 [01:41<03:07,  3.74it/s]"
     ]
    },
    {
     "name": "stdout",
     "output_type": "stream",
     "text": [
      "Epoch 1800/2500, Loss: 0.0937\n",
      "Test Accuracy at Epoch 1800: 67.89%\n",
      "Test F1-score at Epoch 1800: 0.6806\n",
      "Classification Report at Epoch 1800:\n",
      "                  precision    recall  f1-score   support\n",
      "\n",
      "    infringement       0.70      0.66      0.68       194\n",
      "non_infringement       0.66      0.70      0.68       186\n",
      "\n",
      "        accuracy                           0.68       380\n",
      "       macro avg       0.68      0.68      0.68       380\n",
      "    weighted avg       0.68      0.68      0.68       380\n",
      "\n"
     ]
    },
    {
     "name": "stderr",
     "output_type": "stream",
     "text": [
      "Training Epochs:  72%|███████▏  | 1810/2500 [01:43<01:12,  9.56it/s]"
     ]
    },
    {
     "name": "stdout",
     "output_type": "stream",
     "text": [
      "Epoch 1810/2500, Loss: 0.0932\n",
      "Test Accuracy at Epoch 1810: 67.89%\n",
      "Test F1-score at Epoch 1810: 0.6806\n",
      "Classification Report at Epoch 1810:\n",
      "                  precision    recall  f1-score   support\n",
      "\n",
      "    infringement       0.70      0.66      0.68       194\n",
      "non_infringement       0.66      0.70      0.68       186\n",
      "\n",
      "        accuracy                           0.68       380\n",
      "       macro avg       0.68      0.68      0.68       380\n",
      "    weighted avg       0.68      0.68      0.68       380\n",
      "\n"
     ]
    },
    {
     "name": "stderr",
     "output_type": "stream",
     "text": [
      "Training Epochs:  73%|███████▎  | 1820/2500 [01:44<01:21,  8.34it/s]"
     ]
    },
    {
     "name": "stdout",
     "output_type": "stream",
     "text": [
      "Epoch 1820/2500, Loss: 0.0964\n",
      "Test Accuracy at Epoch 1820: 67.37%\n",
      "Test F1-score at Epoch 1820: 0.6720\n",
      "Classification Report at Epoch 1820:\n",
      "                  precision    recall  f1-score   support\n",
      "\n",
      "    infringement       0.69      0.66      0.68       194\n",
      "non_infringement       0.66      0.68      0.67       186\n",
      "\n",
      "        accuracy                           0.67       380\n",
      "       macro avg       0.67      0.67      0.67       380\n",
      "    weighted avg       0.67      0.67      0.67       380\n",
      "\n"
     ]
    },
    {
     "name": "stderr",
     "output_type": "stream",
     "text": [
      "Training Epochs:  73%|███████▎  | 1830/2500 [01:47<03:30,  3.19it/s]"
     ]
    },
    {
     "name": "stdout",
     "output_type": "stream",
     "text": [
      "Epoch 1830/2500, Loss: 0.0931\n",
      "Test Accuracy at Epoch 1830: 67.11%\n",
      "Test F1-score at Epoch 1830: 0.6753\n",
      "Classification Report at Epoch 1830:\n",
      "                  precision    recall  f1-score   support\n",
      "\n",
      "    infringement       0.69      0.64      0.67       194\n",
      "non_infringement       0.65      0.70      0.68       186\n",
      "\n",
      "        accuracy                           0.67       380\n",
      "       macro avg       0.67      0.67      0.67       380\n",
      "    weighted avg       0.67      0.67      0.67       380\n",
      "\n"
     ]
    },
    {
     "name": "stderr",
     "output_type": "stream",
     "text": [
      "Training Epochs:  74%|███████▎  | 1840/2500 [01:51<05:04,  2.17it/s]"
     ]
    },
    {
     "name": "stdout",
     "output_type": "stream",
     "text": [
      "Epoch 1840/2500, Loss: 0.1014\n",
      "Test Accuracy at Epoch 1840: 67.11%\n",
      "Test F1-score at Epoch 1840: 0.6867\n",
      "Classification Report at Epoch 1840:\n",
      "                  precision    recall  f1-score   support\n",
      "\n",
      "    infringement       0.71      0.61      0.65       194\n",
      "non_infringement       0.64      0.74      0.69       186\n",
      "\n",
      "        accuracy                           0.67       380\n",
      "       macro avg       0.67      0.67      0.67       380\n",
      "    weighted avg       0.68      0.67      0.67       380\n",
      "\n"
     ]
    },
    {
     "name": "stderr",
     "output_type": "stream",
     "text": [
      "Training Epochs:  74%|███████▍  | 1850/2500 [01:55<04:11,  2.58it/s]"
     ]
    },
    {
     "name": "stdout",
     "output_type": "stream",
     "text": [
      "Epoch 1850/2500, Loss: 0.0941\n",
      "Test Accuracy at Epoch 1850: 67.89%\n",
      "Test F1-score at Epoch 1850: 0.6789\n",
      "Classification Report at Epoch 1850:\n",
      "                  precision    recall  f1-score   support\n",
      "\n",
      "    infringement       0.69      0.66      0.68       194\n",
      "non_infringement       0.66      0.69      0.68       186\n",
      "\n",
      "        accuracy                           0.68       380\n",
      "       macro avg       0.68      0.68      0.68       380\n",
      "    weighted avg       0.68      0.68      0.68       380\n",
      "\n"
     ]
    },
    {
     "name": "stderr",
     "output_type": "stream",
     "text": [
      "Training Epochs:  74%|███████▍  | 1861/2500 [01:56<00:56, 11.33it/s]"
     ]
    },
    {
     "name": "stdout",
     "output_type": "stream",
     "text": [
      "Epoch 1860/2500, Loss: 0.0978\n",
      "Test Accuracy at Epoch 1860: 69.47%\n",
      "Test F1-score at Epoch 1860: 0.7085\n",
      "Classification Report at Epoch 1860:\n",
      "                  precision    recall  f1-score   support\n",
      "\n",
      "    infringement       0.73      0.63      0.68       194\n",
      "non_infringement       0.67      0.76      0.71       186\n",
      "\n",
      "        accuracy                           0.69       380\n",
      "       macro avg       0.70      0.70      0.69       380\n",
      "    weighted avg       0.70      0.69      0.69       380\n",
      "\n"
     ]
    },
    {
     "name": "stderr",
     "output_type": "stream",
     "text": [
      "Training Epochs:  75%|███████▍  | 1873/2500 [01:56<00:31, 19.90it/s]"
     ]
    },
    {
     "name": "stdout",
     "output_type": "stream",
     "text": [
      "Epoch 1870/2500, Loss: 1.5926\n",
      "Test Accuracy at Epoch 1870: 64.21%\n",
      "Test F1-score at Epoch 1870: 0.7213\n",
      "Classification Report at Epoch 1870:\n",
      "                  precision    recall  f1-score   support\n",
      "\n",
      "    infringement       0.87      0.35      0.50       194\n",
      "non_infringement       0.58      0.95      0.72       186\n",
      "\n",
      "        accuracy                           0.64       380\n",
      "       macro avg       0.73      0.65      0.61       380\n",
      "    weighted avg       0.73      0.64      0.61       380\n",
      "\n"
     ]
    },
    {
     "name": "stderr",
     "output_type": "stream",
     "text": [
      "Training Epochs:  75%|███████▌  | 1883/2500 [01:57<00:26, 23.57it/s]"
     ]
    },
    {
     "name": "stdout",
     "output_type": "stream",
     "text": [
      "Epoch 1880/2500, Loss: 0.4573\n",
      "Test Accuracy at Epoch 1880: 70.53%\n",
      "Test F1-score at Epoch 1880: 0.7241\n",
      "Classification Report at Epoch 1880:\n",
      "                  precision    recall  f1-score   support\n",
      "\n",
      "    infringement       0.76      0.62      0.68       194\n",
      "non_infringement       0.67      0.79      0.72       186\n",
      "\n",
      "        accuracy                           0.71       380\n",
      "       macro avg       0.71      0.71      0.70       380\n",
      "    weighted avg       0.71      0.71      0.70       380\n",
      "\n"
     ]
    },
    {
     "name": "stderr",
     "output_type": "stream",
     "text": [
      "Training Epochs:  76%|███████▌  | 1893/2500 [01:57<00:22, 27.26it/s]"
     ]
    },
    {
     "name": "stdout",
     "output_type": "stream",
     "text": [
      "Epoch 1890/2500, Loss: 0.3380\n",
      "Test Accuracy at Epoch 1890: 69.74%\n",
      "Test F1-score at Epoch 1890: 0.7013\n",
      "Classification Report at Epoch 1890:\n",
      "                  precision    recall  f1-score   support\n",
      "\n",
      "    infringement       0.72      0.67      0.69       194\n",
      "non_infringement       0.68      0.73      0.70       186\n",
      "\n",
      "        accuracy                           0.70       380\n",
      "       macro avg       0.70      0.70      0.70       380\n",
      "    weighted avg       0.70      0.70      0.70       380\n",
      "\n"
     ]
    },
    {
     "name": "stderr",
     "output_type": "stream",
     "text": [
      "Training Epochs:  76%|███████▌  | 1904/2500 [01:57<00:18, 32.84it/s]"
     ]
    },
    {
     "name": "stdout",
     "output_type": "stream",
     "text": [
      "Epoch 1900/2500, Loss: 0.3615\n",
      "Test Accuracy at Epoch 1900: 66.05%\n",
      "Test F1-score at Epoch 1900: 0.6799\n",
      "Classification Report at Epoch 1900:\n",
      "                  precision    recall  f1-score   support\n",
      "\n",
      "    infringement       0.70      0.59      0.64       194\n",
      "non_infringement       0.63      0.74      0.68       186\n",
      "\n",
      "        accuracy                           0.66       380\n",
      "       macro avg       0.67      0.66      0.66       380\n",
      "    weighted avg       0.67      0.66      0.66       380\n",
      "\n"
     ]
    },
    {
     "name": "stderr",
     "output_type": "stream",
     "text": [
      "Training Epochs:  76%|███████▋  | 1908/2500 [01:57<00:23, 25.29it/s]"
     ]
    },
    {
     "name": "stdout",
     "output_type": "stream",
     "text": [
      "Epoch 1910/2500, Loss: 0.2912\n",
      "Test Accuracy at Epoch 1910: 68.42%\n",
      "Test F1-score at Epoch 1910: 0.6907\n",
      "Classification Report at Epoch 1910:\n",
      "                  precision    recall  f1-score   support\n",
      "\n",
      "    infringement       0.71      0.65      0.68       194\n",
      "non_infringement       0.66      0.72      0.69       186\n",
      "\n",
      "        accuracy                           0.68       380\n",
      "       macro avg       0.69      0.68      0.68       380\n",
      "    weighted avg       0.69      0.68      0.68       380\n",
      "\n"
     ]
    },
    {
     "name": "stderr",
     "output_type": "stream",
     "text": [
      "Training Epochs:  77%|███████▋  | 1920/2500 [02:03<03:18,  2.92it/s]"
     ]
    },
    {
     "name": "stdout",
     "output_type": "stream",
     "text": [
      "Epoch 1920/2500, Loss: 0.2795\n",
      "Test Accuracy at Epoch 1920: 67.63%\n",
      "Test F1-score at Epoch 1920: 0.6476\n",
      "Classification Report at Epoch 1920:\n",
      "                  precision    recall  f1-score   support\n",
      "\n",
      "    infringement       0.66      0.74      0.70       194\n",
      "non_infringement       0.69      0.61      0.65       186\n",
      "\n",
      "        accuracy                           0.68       380\n",
      "       macro avg       0.68      0.67      0.67       380\n",
      "    weighted avg       0.68      0.68      0.67       380\n",
      "\n"
     ]
    },
    {
     "name": "stderr",
     "output_type": "stream",
     "text": [
      "Training Epochs:  77%|███████▋  | 1930/2500 [02:08<04:09,  2.29it/s]"
     ]
    },
    {
     "name": "stdout",
     "output_type": "stream",
     "text": [
      "Epoch 1930/2500, Loss: 0.2918\n",
      "Test Accuracy at Epoch 1930: 67.89%\n",
      "Test F1-score at Epoch 1930: 0.6630\n",
      "Classification Report at Epoch 1930:\n",
      "                  precision    recall  f1-score   support\n",
      "\n",
      "    infringement       0.68      0.71      0.69       194\n",
      "non_infringement       0.68      0.65      0.66       186\n",
      "\n",
      "        accuracy                           0.68       380\n",
      "       macro avg       0.68      0.68      0.68       380\n",
      "    weighted avg       0.68      0.68      0.68       380\n",
      "\n"
     ]
    },
    {
     "name": "stderr",
     "output_type": "stream",
     "text": [
      "Training Epochs:  78%|███████▊  | 1940/2500 [02:10<02:46,  3.36it/s]"
     ]
    },
    {
     "name": "stdout",
     "output_type": "stream",
     "text": [
      "Epoch 1940/2500, Loss: 0.2648\n",
      "Test Accuracy at Epoch 1940: 70.53%\n",
      "Test F1-score at Epoch 1940: 0.6957\n",
      "Classification Report at Epoch 1940:\n",
      "                  precision    recall  f1-score   support\n",
      "\n",
      "    infringement       0.71      0.72      0.71       194\n",
      "non_infringement       0.70      0.69      0.70       186\n",
      "\n",
      "        accuracy                           0.71       380\n",
      "       macro avg       0.71      0.70      0.70       380\n",
      "    weighted avg       0.71      0.71      0.71       380\n",
      "\n"
     ]
    },
    {
     "name": "stderr",
     "output_type": "stream",
     "text": [
      "Training Epochs:  78%|███████▊  | 1950/2500 [02:14<03:55,  2.34it/s]"
     ]
    },
    {
     "name": "stdout",
     "output_type": "stream",
     "text": [
      "Epoch 1950/2500, Loss: 0.2523\n",
      "Test Accuracy at Epoch 1950: 69.47%\n",
      "Test F1-score at Epoch 1950: 0.6796\n",
      "Classification Report at Epoch 1950:\n",
      "                  precision    recall  f1-score   support\n",
      "\n",
      "    infringement       0.69      0.73      0.71       194\n",
      "non_infringement       0.70      0.66      0.68       186\n",
      "\n",
      "        accuracy                           0.69       380\n",
      "       macro avg       0.70      0.69      0.69       380\n",
      "    weighted avg       0.69      0.69      0.69       380\n",
      "\n"
     ]
    },
    {
     "name": "stderr",
     "output_type": "stream",
     "text": [
      "Training Epochs:  78%|███████▊  | 1961/2500 [02:17<02:08,  4.19it/s]"
     ]
    },
    {
     "name": "stdout",
     "output_type": "stream",
     "text": [
      "Epoch 1960/2500, Loss: 0.2302\n",
      "Test Accuracy at Epoch 1960: 67.63%\n",
      "Test F1-score at Epoch 1960: 0.6667\n",
      "Classification Report at Epoch 1960:\n",
      "                  precision    recall  f1-score   support\n",
      "\n",
      "    infringement       0.68      0.69      0.69       194\n",
      "non_infringement       0.67      0.66      0.67       186\n",
      "\n",
      "        accuracy                           0.68       380\n",
      "       macro avg       0.68      0.68      0.68       380\n",
      "    weighted avg       0.68      0.68      0.68       380\n",
      "\n"
     ]
    },
    {
     "name": "stderr",
     "output_type": "stream",
     "text": [
      "Training Epochs:  79%|███████▉  | 1976/2500 [02:17<00:27, 19.04it/s]"
     ]
    },
    {
     "name": "stdout",
     "output_type": "stream",
     "text": [
      "Epoch 1970/2500, Loss: 0.2235\n",
      "Test Accuracy at Epoch 1970: 67.89%\n",
      "Test F1-score at Epoch 1970: 0.6720\n",
      "Classification Report at Epoch 1970:\n",
      "                  precision    recall  f1-score   support\n",
      "\n",
      "    infringement       0.69      0.69      0.69       194\n",
      "non_infringement       0.67      0.67      0.67       186\n",
      "\n",
      "        accuracy                           0.68       380\n",
      "       macro avg       0.68      0.68      0.68       380\n",
      "    weighted avg       0.68      0.68      0.68       380\n",
      "\n",
      "Epoch 1980/2500, Loss: 0.2091\n",
      "Test Accuracy at Epoch 1980: 69.47%\n",
      "Test F1-score at Epoch 1980: 0.6931\n",
      "Classification Report at Epoch 1980:\n",
      "                  precision    recall  f1-score   support\n",
      "\n",
      "    infringement       0.71      0.69      0.70       194\n",
      "non_infringement       0.68      0.70      0.69       186\n",
      "\n",
      "        accuracy                           0.69       380\n",
      "       macro avg       0.69      0.69      0.69       380\n",
      "    weighted avg       0.70      0.69      0.69       380\n",
      "\n"
     ]
    },
    {
     "name": "stderr",
     "output_type": "stream",
     "text": [
      "Training Epochs:  80%|███████▉  | 1995/2500 [02:18<00:17, 29.70it/s]"
     ]
    },
    {
     "name": "stdout",
     "output_type": "stream",
     "text": [
      "Epoch 1990/2500, Loss: 0.2009\n",
      "Test Accuracy at Epoch 1990: 68.16%\n",
      "Test F1-score at Epoch 1990: 0.6739\n",
      "Classification Report at Epoch 1990:\n",
      "                  precision    recall  f1-score   support\n",
      "\n",
      "    infringement       0.69      0.69      0.69       194\n",
      "non_infringement       0.68      0.67      0.67       186\n",
      "\n",
      "        accuracy                           0.68       380\n",
      "       macro avg       0.68      0.68      0.68       380\n",
      "    weighted avg       0.68      0.68      0.68       380\n",
      "\n"
     ]
    },
    {
     "name": "stderr",
     "output_type": "stream",
     "text": [
      "Training Epochs:  80%|████████  | 2000/2500 [02:18<00:14, 33.46it/s]"
     ]
    },
    {
     "name": "stdout",
     "output_type": "stream",
     "text": [
      "Epoch 2000/2500, Loss: 0.1812\n",
      "Test Accuracy at Epoch 2000: 68.95%\n",
      "Test F1-score at Epoch 2000: 0.6845\n",
      "Classification Report at Epoch 2000:\n",
      "                  precision    recall  f1-score   support\n",
      "\n",
      "    infringement       0.70      0.69      0.69       194\n",
      "non_infringement       0.68      0.69      0.68       186\n",
      "\n",
      "        accuracy                           0.69       380\n",
      "       macro avg       0.69      0.69      0.69       380\n",
      "    weighted avg       0.69      0.69      0.69       380\n",
      "\n"
     ]
    },
    {
     "name": "stderr",
     "output_type": "stream",
     "text": [
      "Training Epochs:  81%|████████  | 2013/2500 [02:18<00:16, 29.30it/s]"
     ]
    },
    {
     "name": "stdout",
     "output_type": "stream",
     "text": [
      "Epoch 2010/2500, Loss: 0.1617\n",
      "Test Accuracy at Epoch 2010: 71.32%\n",
      "Test F1-score at Epoch 2010: 0.7046\n",
      "Classification Report at Epoch 2010:\n",
      "                  precision    recall  f1-score   support\n",
      "\n",
      "    infringement       0.72      0.73      0.72       194\n",
      "non_infringement       0.71      0.70      0.70       186\n",
      "\n",
      "        accuracy                           0.71       380\n",
      "       macro avg       0.71      0.71      0.71       380\n",
      "    weighted avg       0.71      0.71      0.71       380\n",
      "\n"
     ]
    },
    {
     "name": "stderr",
     "output_type": "stream",
     "text": [
      "Training Epochs:  81%|████████  | 2020/2500 [02:18<00:15, 31.44it/s]"
     ]
    },
    {
     "name": "stdout",
     "output_type": "stream",
     "text": [
      "Epoch 2020/2500, Loss: 0.1455\n",
      "Test Accuracy at Epoch 2020: 69.74%\n",
      "Test F1-score at Epoch 2020: 0.6849\n",
      "Classification Report at Epoch 2020:\n",
      "                  precision    recall  f1-score   support\n",
      "\n",
      "    infringement       0.70      0.72      0.71       194\n",
      "non_infringement       0.70      0.67      0.68       186\n",
      "\n",
      "        accuracy                           0.70       380\n",
      "       macro avg       0.70      0.70      0.70       380\n",
      "    weighted avg       0.70      0.70      0.70       380\n",
      "\n"
     ]
    },
    {
     "name": "stderr",
     "output_type": "stream",
     "text": [
      "Training Epochs:  81%|████████  | 2028/2500 [02:19<00:18, 25.38it/s]"
     ]
    },
    {
     "name": "stdout",
     "output_type": "stream",
     "text": [
      "Epoch 2030/2500, Loss: 0.1676\n",
      "Test Accuracy at Epoch 2030: 70.79%\n",
      "Test F1-score at Epoch 2030: 0.6959\n",
      "Classification Report at Epoch 2030:\n",
      "                  precision    recall  f1-score   support\n",
      "\n",
      "    infringement       0.71      0.73      0.72       194\n",
      "non_infringement       0.71      0.68      0.70       186\n",
      "\n",
      "        accuracy                           0.71       380\n",
      "       macro avg       0.71      0.71      0.71       380\n",
      "    weighted avg       0.71      0.71      0.71       380\n",
      "\n"
     ]
    },
    {
     "name": "stderr",
     "output_type": "stream",
     "text": [
      "Training Epochs:  82%|████████▏ | 2040/2500 [02:19<00:18, 24.90it/s]"
     ]
    },
    {
     "name": "stdout",
     "output_type": "stream",
     "text": [
      "Epoch 2040/2500, Loss: 0.1559\n",
      "Test Accuracy at Epoch 2040: 69.21%\n",
      "Test F1-score at Epoch 2040: 0.6741\n",
      "Classification Report at Epoch 2040:\n",
      "                  precision    recall  f1-score   support\n",
      "\n",
      "    infringement       0.69      0.73      0.71       194\n",
      "non_infringement       0.70      0.65      0.67       186\n",
      "\n",
      "        accuracy                           0.69       380\n",
      "       macro avg       0.69      0.69      0.69       380\n",
      "    weighted avg       0.69      0.69      0.69       380\n",
      "\n"
     ]
    },
    {
     "name": "stderr",
     "output_type": "stream",
     "text": [
      "Training Epochs:  82%|████████▏ | 2057/2500 [02:21<00:21, 20.63it/s]"
     ]
    },
    {
     "name": "stdout",
     "output_type": "stream",
     "text": [
      "Epoch 2050/2500, Loss: 0.1462\n",
      "Test Accuracy at Epoch 2050: 70.53%\n",
      "Test F1-score at Epoch 2050: 0.6940\n",
      "Classification Report at Epoch 2050:\n",
      "                  precision    recall  f1-score   support\n",
      "\n",
      "    infringement       0.70      0.73      0.72       194\n",
      "non_infringement       0.71      0.68      0.69       186\n",
      "\n",
      "        accuracy                           0.71       380\n",
      "       macro avg       0.71      0.70      0.70       380\n",
      "    weighted avg       0.71      0.71      0.71       380\n",
      "\n"
     ]
    },
    {
     "name": "stderr",
     "output_type": "stream",
     "text": [
      "Training Epochs:  82%|████████▏ | 2061/2500 [02:21<00:20, 21.66it/s]"
     ]
    },
    {
     "name": "stdout",
     "output_type": "stream",
     "text": [
      "Epoch 2060/2500, Loss: 0.1376\n",
      "Test Accuracy at Epoch 2060: 70.79%\n",
      "Test F1-score at Epoch 2060: 0.6959\n",
      "Classification Report at Epoch 2060:\n",
      "                  precision    recall  f1-score   support\n",
      "\n",
      "    infringement       0.71      0.73      0.72       194\n",
      "non_infringement       0.71      0.68      0.70       186\n",
      "\n",
      "        accuracy                           0.71       380\n",
      "       macro avg       0.71      0.71      0.71       380\n",
      "    weighted avg       0.71      0.71      0.71       380\n",
      "\n"
     ]
    },
    {
     "name": "stderr",
     "output_type": "stream",
     "text": [
      "Training Epochs:  83%|████████▎ | 2075/2500 [02:21<00:14, 28.51it/s]"
     ]
    },
    {
     "name": "stdout",
     "output_type": "stream",
     "text": [
      "Epoch 2070/2500, Loss: 0.1305\n",
      "Test Accuracy at Epoch 2070: 70.79%\n",
      "Test F1-score at Epoch 2070: 0.6975\n",
      "Classification Report at Epoch 2070:\n",
      "                  precision    recall  f1-score   support\n",
      "\n",
      "    infringement       0.71      0.73      0.72       194\n",
      "non_infringement       0.71      0.69      0.70       186\n",
      "\n",
      "        accuracy                           0.71       380\n",
      "       macro avg       0.71      0.71      0.71       380\n",
      "    weighted avg       0.71      0.71      0.71       380\n",
      "\n"
     ]
    },
    {
     "name": "stderr",
     "output_type": "stream",
     "text": [
      "Training Epochs:  83%|████████▎ | 2079/2500 [02:21<00:13, 30.87it/s]"
     ]
    },
    {
     "name": "stdout",
     "output_type": "stream",
     "text": [
      "Epoch 2080/2500, Loss: 0.1335\n",
      "Test Accuracy at Epoch 2080: 71.05%\n",
      "Test F1-score at Epoch 2080: 0.7011\n",
      "Classification Report at Epoch 2080:\n",
      "                  precision    recall  f1-score   support\n",
      "\n",
      "    infringement       0.71      0.73      0.72       194\n",
      "non_infringement       0.71      0.69      0.70       186\n",
      "\n",
      "        accuracy                           0.71       380\n",
      "       macro avg       0.71      0.71      0.71       380\n",
      "    weighted avg       0.71      0.71      0.71       380\n",
      "\n"
     ]
    },
    {
     "name": "stderr",
     "output_type": "stream",
     "text": [
      "Training Epochs:  84%|████████▍ | 2094/2500 [02:22<00:16, 25.14it/s]"
     ]
    },
    {
     "name": "stdout",
     "output_type": "stream",
     "text": [
      "Epoch 2090/2500, Loss: 0.1848\n",
      "Test Accuracy at Epoch 2090: 70.53%\n",
      "Test F1-score at Epoch 2090: 0.7098\n",
      "Classification Report at Epoch 2090:\n",
      "                  precision    recall  f1-score   support\n",
      "\n",
      "    infringement       0.73      0.68      0.70       194\n",
      "non_infringement       0.69      0.74      0.71       186\n",
      "\n",
      "        accuracy                           0.71       380\n",
      "       macro avg       0.71      0.71      0.71       380\n",
      "    weighted avg       0.71      0.71      0.71       380\n",
      "\n"
     ]
    },
    {
     "name": "stderr",
     "output_type": "stream",
     "text": [
      "Training Epochs:  84%|████████▍ | 2098/2500 [02:22<00:16, 24.79it/s]"
     ]
    },
    {
     "name": "stdout",
     "output_type": "stream",
     "text": [
      "Epoch 2100/2500, Loss: 0.1652\n",
      "Test Accuracy at Epoch 2100: 67.89%\n",
      "Test F1-score at Epoch 2100: 0.6856\n",
      "Classification Report at Epoch 2100:\n",
      "                  precision    recall  f1-score   support\n",
      "\n",
      "    infringement       0.70      0.64      0.67       194\n",
      "non_infringement       0.66      0.72      0.69       186\n",
      "\n",
      "        accuracy                           0.68       380\n",
      "       macro avg       0.68      0.68      0.68       380\n",
      "    weighted avg       0.68      0.68      0.68       380\n",
      "\n"
     ]
    },
    {
     "name": "stderr",
     "output_type": "stream",
     "text": [
      "Training Epochs:  84%|████████▍ | 2110/2500 [02:23<00:26, 14.80it/s]"
     ]
    },
    {
     "name": "stdout",
     "output_type": "stream",
     "text": [
      "Epoch 2110/2500, Loss: 0.1686\n",
      "Test Accuracy at Epoch 2110: 67.89%\n",
      "Test F1-score at Epoch 2110: 0.6755\n",
      "Classification Report at Epoch 2110:\n",
      "                  precision    recall  f1-score   support\n",
      "\n",
      "    infringement       0.69      0.68      0.68       194\n",
      "non_infringement       0.67      0.68      0.68       186\n",
      "\n",
      "        accuracy                           0.68       380\n",
      "       macro avg       0.68      0.68      0.68       380\n",
      "    weighted avg       0.68      0.68      0.68       380\n",
      "\n"
     ]
    },
    {
     "name": "stderr",
     "output_type": "stream",
     "text": [
      "Training Epochs:  85%|████████▍ | 2120/2500 [02:24<00:28, 13.49it/s]"
     ]
    },
    {
     "name": "stdout",
     "output_type": "stream",
     "text": [
      "Epoch 2120/2500, Loss: 0.1621\n",
      "Test Accuracy at Epoch 2120: 68.16%\n",
      "Test F1-score at Epoch 2120: 0.6756\n",
      "Classification Report at Epoch 2120:\n",
      "                  precision    recall  f1-score   support\n",
      "\n",
      "    infringement       0.69      0.69      0.69       194\n",
      "non_infringement       0.67      0.68      0.68       186\n",
      "\n",
      "        accuracy                           0.68       380\n",
      "       macro avg       0.68      0.68      0.68       380\n",
      "    weighted avg       0.68      0.68      0.68       380\n",
      "\n"
     ]
    },
    {
     "name": "stderr",
     "output_type": "stream",
     "text": [
      "Training Epochs:  85%|████████▌ | 2131/2500 [02:25<00:18, 19.96it/s]"
     ]
    },
    {
     "name": "stdout",
     "output_type": "stream",
     "text": [
      "Epoch 2130/2500, Loss: 0.1555\n",
      "Test Accuracy at Epoch 2130: 69.47%\n",
      "Test F1-score at Epoch 2130: 0.6947\n",
      "Classification Report at Epoch 2130:\n",
      "                  precision    recall  f1-score   support\n",
      "\n",
      "    infringement       0.71      0.68      0.69       194\n",
      "non_infringement       0.68      0.71      0.69       186\n",
      "\n",
      "        accuracy                           0.69       380\n",
      "       macro avg       0.70      0.70      0.69       380\n",
      "    weighted avg       0.70      0.69      0.69       380\n",
      "\n"
     ]
    },
    {
     "name": "stderr",
     "output_type": "stream",
     "text": [
      "Training Epochs:  85%|████████▌ | 2137/2500 [02:25<00:18, 19.68it/s]"
     ]
    },
    {
     "name": "stdout",
     "output_type": "stream",
     "text": [
      "Epoch 2140/2500, Loss: 0.1504\n",
      "Test Accuracy at Epoch 2140: 69.47%\n",
      "Test F1-score at Epoch 2140: 0.6947\n",
      "Classification Report at Epoch 2140:\n",
      "                  precision    recall  f1-score   support\n",
      "\n",
      "    infringement       0.71      0.68      0.69       194\n",
      "non_infringement       0.68      0.71      0.69       186\n",
      "\n",
      "        accuracy                           0.69       380\n",
      "       macro avg       0.70      0.70      0.69       380\n",
      "    weighted avg       0.70      0.69      0.69       380\n",
      "\n"
     ]
    },
    {
     "name": "stderr",
     "output_type": "stream",
     "text": [
      "Training Epochs:  86%|████████▌ | 2155/2500 [02:26<00:13, 25.93it/s]"
     ]
    },
    {
     "name": "stdout",
     "output_type": "stream",
     "text": [
      "Epoch 2150/2500, Loss: 0.1446\n",
      "Test Accuracy at Epoch 2150: 69.21%\n",
      "Test F1-score at Epoch 2150: 0.6929\n",
      "Classification Report at Epoch 2150:\n",
      "                  precision    recall  f1-score   support\n",
      "\n",
      "    infringement       0.71      0.68      0.69       194\n",
      "non_infringement       0.68      0.71      0.69       186\n",
      "\n",
      "        accuracy                           0.69       380\n",
      "       macro avg       0.69      0.69      0.69       380\n",
      "    weighted avg       0.69      0.69      0.69       380\n",
      "\n"
     ]
    },
    {
     "name": "stderr",
     "output_type": "stream",
     "text": [
      "Training Epochs:  87%|████████▋ | 2164/2500 [02:26<00:10, 31.50it/s]"
     ]
    },
    {
     "name": "stdout",
     "output_type": "stream",
     "text": [
      "Epoch 2160/2500, Loss: 0.1409\n",
      "Test Accuracy at Epoch 2160: 68.68%\n",
      "Test F1-score at Epoch 2160: 0.6860\n",
      "Classification Report at Epoch 2160:\n",
      "                  precision    recall  f1-score   support\n",
      "\n",
      "    infringement       0.70      0.68      0.69       194\n",
      "non_infringement       0.67      0.70      0.69       186\n",
      "\n",
      "        accuracy                           0.69       380\n",
      "       macro avg       0.69      0.69      0.69       380\n",
      "    weighted avg       0.69      0.69      0.69       380\n",
      "\n"
     ]
    },
    {
     "name": "stderr",
     "output_type": "stream",
     "text": [
      "Training Epochs:  87%|████████▋ | 2175/2500 [02:26<00:08, 36.57it/s]"
     ]
    },
    {
     "name": "stdout",
     "output_type": "stream",
     "text": [
      "Epoch 2170/2500, Loss: 0.1447\n",
      "Test Accuracy at Epoch 2170: 68.95%\n",
      "Test F1-score at Epoch 2170: 0.6895\n",
      "Classification Report at Epoch 2170:\n",
      "                  precision    recall  f1-score   support\n",
      "\n",
      "    infringement       0.70      0.68      0.69       194\n",
      "non_infringement       0.68      0.70      0.69       186\n",
      "\n",
      "        accuracy                           0.69       380\n",
      "       macro avg       0.69      0.69      0.69       380\n",
      "    weighted avg       0.69      0.69      0.69       380\n",
      "\n"
     ]
    },
    {
     "name": "stderr",
     "output_type": "stream",
     "text": [
      "Training Epochs:  87%|████████▋ | 2180/2500 [02:26<00:08, 35.69it/s]"
     ]
    },
    {
     "name": "stdout",
     "output_type": "stream",
     "text": [
      "Epoch 2180/2500, Loss: 0.1408\n",
      "Test Accuracy at Epoch 2180: 67.63%\n",
      "Test F1-score at Epoch 2180: 0.6720\n",
      "Classification Report at Epoch 2180:\n",
      "                  precision    recall  f1-score   support\n",
      "\n",
      "    infringement       0.69      0.68      0.68       194\n",
      "non_infringement       0.67      0.68      0.67       186\n",
      "\n",
      "        accuracy                           0.68       380\n",
      "       macro avg       0.68      0.68      0.68       380\n",
      "    weighted avg       0.68      0.68      0.68       380\n",
      "\n"
     ]
    },
    {
     "name": "stderr",
     "output_type": "stream",
     "text": [
      "Training Epochs:  88%|████████▊ | 2190/2500 [02:27<00:11, 27.69it/s]"
     ]
    },
    {
     "name": "stdout",
     "output_type": "stream",
     "text": [
      "Epoch 2190/2500, Loss: 0.1376\n",
      "Test Accuracy at Epoch 2190: 69.21%\n",
      "Test F1-score at Epoch 2190: 0.6929\n",
      "Classification Report at Epoch 2190:\n",
      "                  precision    recall  f1-score   support\n",
      "\n",
      "    infringement       0.71      0.68      0.69       194\n",
      "non_infringement       0.68      0.71      0.69       186\n",
      "\n",
      "        accuracy                           0.69       380\n",
      "       macro avg       0.69      0.69      0.69       380\n",
      "    weighted avg       0.69      0.69      0.69       380\n",
      "\n"
     ]
    },
    {
     "name": "stderr",
     "output_type": "stream",
     "text": [
      "Training Epochs:  88%|████████▊ | 2199/2500 [02:30<01:01,  4.90it/s]"
     ]
    },
    {
     "name": "stdout",
     "output_type": "stream",
     "text": [
      "Epoch 2200/2500, Loss: 0.1348\n",
      "Test Accuracy at Epoch 2200: 69.21%\n",
      "Test F1-score at Epoch 2200: 0.6913\n",
      "Classification Report at Epoch 2200:\n",
      "                  precision    recall  f1-score   support\n",
      "\n",
      "    infringement       0.71      0.68      0.69       194\n",
      "non_infringement       0.68      0.70      0.69       186\n",
      "\n",
      "        accuracy                           0.69       380\n",
      "       macro avg       0.69      0.69      0.69       380\n",
      "    weighted avg       0.69      0.69      0.69       380\n",
      "\n"
     ]
    },
    {
     "name": "stderr",
     "output_type": "stream",
     "text": [
      "Training Epochs:  88%|████████▊ | 2207/2500 [02:31<00:43,  6.71it/s]"
     ]
    },
    {
     "name": "stdout",
     "output_type": "stream",
     "text": [
      "Epoch 2210/2500, Loss: 0.1321\n",
      "Test Accuracy at Epoch 2210: 68.68%\n",
      "Test F1-score at Epoch 2210: 0.6860\n",
      "Classification Report at Epoch 2210:\n",
      "                  precision    recall  f1-score   support\n",
      "\n",
      "    infringement       0.70      0.68      0.69       194\n",
      "non_infringement       0.67      0.70      0.69       186\n",
      "\n",
      "        accuracy                           0.69       380\n",
      "       macro avg       0.69      0.69      0.69       380\n",
      "    weighted avg       0.69      0.69      0.69       380\n",
      "\n"
     ]
    },
    {
     "name": "stderr",
     "output_type": "stream",
     "text": [
      "Training Epochs:  89%|████████▉ | 2220/2500 [02:34<01:21,  3.42it/s]"
     ]
    },
    {
     "name": "stdout",
     "output_type": "stream",
     "text": [
      "Epoch 2220/2500, Loss: 0.1293\n",
      "Test Accuracy at Epoch 2220: 68.68%\n",
      "Test F1-score at Epoch 2220: 0.6860\n",
      "Classification Report at Epoch 2220:\n",
      "                  precision    recall  f1-score   support\n",
      "\n",
      "    infringement       0.70      0.68      0.69       194\n",
      "non_infringement       0.67      0.70      0.69       186\n",
      "\n",
      "        accuracy                           0.69       380\n",
      "       macro avg       0.69      0.69      0.69       380\n",
      "    weighted avg       0.69      0.69      0.69       380\n",
      "\n"
     ]
    },
    {
     "name": "stderr",
     "output_type": "stream",
     "text": [
      "Training Epochs:  89%|████████▉ | 2230/2500 [02:39<02:06,  2.13it/s]"
     ]
    },
    {
     "name": "stdout",
     "output_type": "stream",
     "text": [
      "Epoch 2230/2500, Loss: 0.1255\n",
      "Test Accuracy at Epoch 2230: 68.68%\n",
      "Test F1-score at Epoch 2230: 0.6860\n",
      "Classification Report at Epoch 2230:\n",
      "                  precision    recall  f1-score   support\n",
      "\n",
      "    infringement       0.70      0.68      0.69       194\n",
      "non_infringement       0.67      0.70      0.69       186\n",
      "\n",
      "        accuracy                           0.69       380\n",
      "       macro avg       0.69      0.69      0.69       380\n",
      "    weighted avg       0.69      0.69      0.69       380\n",
      "\n"
     ]
    },
    {
     "name": "stderr",
     "output_type": "stream",
     "text": [
      "Training Epochs:  90%|████████▉ | 2240/2500 [02:43<01:42,  2.54it/s]"
     ]
    },
    {
     "name": "stdout",
     "output_type": "stream",
     "text": [
      "Epoch 2240/2500, Loss: 0.1264\n",
      "Test Accuracy at Epoch 2240: 65.53%\n",
      "Test F1-score at Epoch 2240: 0.6562\n",
      "Classification Report at Epoch 2240:\n",
      "                  precision    recall  f1-score   support\n",
      "\n",
      "    infringement       0.67      0.64      0.65       194\n",
      "non_infringement       0.64      0.67      0.66       186\n",
      "\n",
      "        accuracy                           0.66       380\n",
      "       macro avg       0.66      0.66      0.66       380\n",
      "    weighted avg       0.66      0.66      0.66       380\n",
      "\n"
     ]
    },
    {
     "name": "stderr",
     "output_type": "stream",
     "text": [
      "Training Epochs:  90%|█████████ | 2256/2500 [02:44<00:14, 16.77it/s]"
     ]
    },
    {
     "name": "stdout",
     "output_type": "stream",
     "text": [
      "Epoch 2250/2500, Loss: 0.1244\n",
      "Test Accuracy at Epoch 2250: 65.79%\n",
      "Test F1-score at Epoch 2250: 0.6579\n",
      "Classification Report at Epoch 2250:\n",
      "                  precision    recall  f1-score   support\n",
      "\n",
      "    infringement       0.67      0.64      0.66       194\n",
      "non_infringement       0.64      0.67      0.66       186\n",
      "\n",
      "        accuracy                           0.66       380\n",
      "       macro avg       0.66      0.66      0.66       380\n",
      "    weighted avg       0.66      0.66      0.66       380\n",
      "\n"
     ]
    },
    {
     "name": "stderr",
     "output_type": "stream",
     "text": [
      "Training Epochs:  90%|█████████ | 2259/2500 [02:44<00:23, 10.36it/s]"
     ]
    },
    {
     "name": "stdout",
     "output_type": "stream",
     "text": [
      "Epoch 2260/2500, Loss: 0.1227\n",
      "Test Accuracy at Epoch 2260: 65.00%\n",
      "Test F1-score at Epoch 2260: 0.6509\n",
      "Classification Report at Epoch 2260:\n",
      "                  precision    recall  f1-score   support\n",
      "\n",
      "    infringement       0.66      0.63      0.65       194\n",
      "non_infringement       0.64      0.67      0.65       186\n",
      "\n",
      "        accuracy                           0.65       380\n",
      "       macro avg       0.65      0.65      0.65       380\n",
      "    weighted avg       0.65      0.65      0.65       380\n",
      "\n"
     ]
    },
    {
     "name": "stderr",
     "output_type": "stream",
     "text": [
      "Training Epochs:  91%|█████████ | 2270/2500 [02:49<01:42,  2.25it/s]"
     ]
    },
    {
     "name": "stdout",
     "output_type": "stream",
     "text": [
      "Epoch 2270/2500, Loss: 0.1210\n",
      "Test Accuracy at Epoch 2270: 65.53%\n",
      "Test F1-score at Epoch 2270: 0.6544\n",
      "Classification Report at Epoch 2270:\n",
      "                  precision    recall  f1-score   support\n",
      "\n",
      "    infringement       0.67      0.64      0.66       194\n",
      "non_infringement       0.64      0.67      0.65       186\n",
      "\n",
      "        accuracy                           0.66       380\n",
      "       macro avg       0.66      0.66      0.66       380\n",
      "    weighted avg       0.66      0.66      0.66       380\n",
      "\n"
     ]
    },
    {
     "name": "stderr",
     "output_type": "stream",
     "text": [
      "Training Epochs:  91%|█████████ | 2279/2500 [02:51<00:35,  6.19it/s]"
     ]
    },
    {
     "name": "stdout",
     "output_type": "stream",
     "text": [
      "Epoch 2280/2500, Loss: 0.1222\n",
      "Test Accuracy at Epoch 2280: 66.58%\n",
      "Test F1-score at Epoch 2280: 0.6684\n",
      "Classification Report at Epoch 2280:\n",
      "                  precision    recall  f1-score   support\n",
      "\n",
      "    infringement       0.68      0.64      0.66       194\n",
      "non_infringement       0.65      0.69      0.67       186\n",
      "\n",
      "        accuracy                           0.67       380\n",
      "       macro avg       0.67      0.67      0.67       380\n",
      "    weighted avg       0.67      0.67      0.67       380\n",
      "\n"
     ]
    },
    {
     "name": "stderr",
     "output_type": "stream",
     "text": [
      "Training Epochs:  92%|█████████▏| 2294/2500 [02:54<00:23,  8.91it/s]"
     ]
    },
    {
     "name": "stdout",
     "output_type": "stream",
     "text": [
      "Epoch 2290/2500, Loss: 0.1420\n",
      "Test Accuracy at Epoch 2290: 64.74%\n",
      "Test F1-score at Epoch 2290: 0.6510\n",
      "Classification Report at Epoch 2290:\n",
      "                  precision    recall  f1-score   support\n",
      "\n",
      "    infringement       0.66      0.62      0.64       194\n",
      "non_infringement       0.63      0.67      0.65       186\n",
      "\n",
      "        accuracy                           0.65       380\n",
      "       macro avg       0.65      0.65      0.65       380\n",
      "    weighted avg       0.65      0.65      0.65       380\n",
      "\n"
     ]
    },
    {
     "name": "stderr",
     "output_type": "stream",
     "text": [
      "Training Epochs:  92%|█████████▏| 2300/2500 [02:55<00:23,  8.43it/s]"
     ]
    },
    {
     "name": "stdout",
     "output_type": "stream",
     "text": [
      "Epoch 2300/2500, Loss: 0.2166\n",
      "Test Accuracy at Epoch 2300: 67.63%\n",
      "Test F1-score at Epoch 2300: 0.6685\n",
      "Classification Report at Epoch 2300:\n",
      "                  precision    recall  f1-score   support\n",
      "\n",
      "    infringement       0.68      0.69      0.68       194\n",
      "non_infringement       0.67      0.67      0.67       186\n",
      "\n",
      "        accuracy                           0.68       380\n",
      "       macro avg       0.68      0.68      0.68       380\n",
      "    weighted avg       0.68      0.68      0.68       380\n",
      "\n"
     ]
    },
    {
     "name": "stderr",
     "output_type": "stream",
     "text": [
      "Training Epochs:  92%|█████████▏| 2310/2500 [02:55<00:14, 13.34it/s]"
     ]
    },
    {
     "name": "stdout",
     "output_type": "stream",
     "text": [
      "Epoch 2310/2500, Loss: 0.5474\n",
      "Test Accuracy at Epoch 2310: 68.68%\n",
      "Test F1-score at Epoch 2310: 0.7302\n",
      "Classification Report at Epoch 2310:\n",
      "                  precision    recall  f1-score   support\n",
      "\n",
      "    infringement       0.80      0.52      0.63       194\n",
      "non_infringement       0.63      0.87      0.73       186\n",
      "\n",
      "        accuracy                           0.69       380\n",
      "       macro avg       0.72      0.69      0.68       380\n",
      "    weighted avg       0.72      0.69      0.68       380\n",
      "\n"
     ]
    },
    {
     "name": "stderr",
     "output_type": "stream",
     "text": [
      "Training Epochs:  93%|█████████▎| 2326/2500 [02:56<00:08, 20.46it/s]"
     ]
    },
    {
     "name": "stdout",
     "output_type": "stream",
     "text": [
      "Epoch 2320/2500, Loss: 0.4477\n",
      "Test Accuracy at Epoch 2320: 67.63%\n",
      "Test F1-score at Epoch 2320: 0.7106\n",
      "Classification Report at Epoch 2320:\n",
      "                  precision    recall  f1-score   support\n",
      "\n",
      "    infringement       0.75      0.55      0.63       194\n",
      "non_infringement       0.63      0.81      0.71       186\n",
      "\n",
      "        accuracy                           0.68       380\n",
      "       macro avg       0.69      0.68      0.67       380\n",
      "    weighted avg       0.69      0.68      0.67       380\n",
      "\n"
     ]
    },
    {
     "name": "stderr",
     "output_type": "stream",
     "text": [
      "Training Epochs:  93%|█████████▎| 2330/2500 [02:56<00:07, 21.69it/s]"
     ]
    },
    {
     "name": "stdout",
     "output_type": "stream",
     "text": [
      "Epoch 2330/2500, Loss: 0.5928\n",
      "Test Accuracy at Epoch 2330: 63.95%\n",
      "Test F1-score at Epoch 2330: 0.7243\n",
      "Classification Report at Epoch 2330:\n",
      "                  precision    recall  f1-score   support\n",
      "\n",
      "    infringement       0.91      0.32      0.48       194\n",
      "non_infringement       0.58      0.97      0.72       186\n",
      "\n",
      "        accuracy                           0.64       380\n",
      "       macro avg       0.75      0.65      0.60       380\n",
      "    weighted avg       0.75      0.64      0.60       380\n",
      "\n"
     ]
    },
    {
     "name": "stderr",
     "output_type": "stream",
     "text": [
      "Training Epochs:  94%|█████████▎| 2340/2500 [02:58<00:17,  9.31it/s]"
     ]
    },
    {
     "name": "stdout",
     "output_type": "stream",
     "text": [
      "Epoch 2340/2500, Loss: 0.6405\n",
      "Test Accuracy at Epoch 2340: 62.63%\n",
      "Test F1-score at Epoch 2340: 0.7137\n",
      "Classification Report at Epoch 2340:\n",
      "                  precision    recall  f1-score   support\n",
      "\n",
      "    infringement       0.87      0.31      0.46       194\n",
      "non_infringement       0.57      0.95      0.71       186\n",
      "\n",
      "        accuracy                           0.63       380\n",
      "       macro avg       0.72      0.63      0.59       380\n",
      "    weighted avg       0.72      0.63      0.59       380\n",
      "\n"
     ]
    },
    {
     "name": "stderr",
     "output_type": "stream",
     "text": [
      "Training Epochs:  94%|█████████▍| 2353/2500 [02:59<00:08, 17.06it/s]"
     ]
    },
    {
     "name": "stdout",
     "output_type": "stream",
     "text": [
      "Epoch 2350/2500, Loss: 0.4772\n",
      "Test Accuracy at Epoch 2350: 67.37%\n",
      "Test F1-score at Epoch 2350: 0.7328\n",
      "Classification Report at Epoch 2350:\n",
      "                  precision    recall  f1-score   support\n",
      "\n",
      "    infringement       0.84      0.44      0.58       194\n",
      "non_infringement       0.61      0.91      0.73       186\n",
      "\n",
      "        accuracy                           0.67       380\n",
      "       macro avg       0.73      0.68      0.66       380\n",
      "    weighted avg       0.73      0.67      0.66       380\n",
      "\n",
      "Epoch 2360/2500, Loss: 0.4703\n"
     ]
    },
    {
     "name": "stderr",
     "output_type": "stream",
     "text": [
      "Training Epochs:  95%|█████████▍| 2364/2500 [02:59<00:05, 23.10it/s]"
     ]
    },
    {
     "name": "stdout",
     "output_type": "stream",
     "text": [
      "Test Accuracy at Epoch 2360: 68.95%\n",
      "Test F1-score at Epoch 2360: 0.7511\n",
      "Classification Report at Epoch 2360:\n",
      "                  precision    recall  f1-score   support\n",
      "\n",
      "    infringement       0.91      0.43      0.59       194\n",
      "non_infringement       0.62      0.96      0.75       186\n",
      "\n",
      "        accuracy                           0.69       380\n",
      "       macro avg       0.77      0.69      0.67       380\n",
      "    weighted avg       0.77      0.69      0.67       380\n",
      "\n",
      "New best model saved with F1-score 0.7511 at epoch 2360\n",
      "Best Classification Report at Epoch 2360:\n",
      "                  precision    recall  f1-score   support\n",
      "\n",
      "    infringement       0.91      0.43      0.59       194\n",
      "non_infringement       0.62      0.96      0.75       186\n",
      "\n",
      "        accuracy                           0.69       380\n",
      "       macro avg       0.77      0.69      0.67       380\n",
      "    weighted avg       0.77      0.69      0.67       380\n",
      "\n"
     ]
    },
    {
     "name": "stderr",
     "output_type": "stream",
     "text": [
      "Training Epochs:  95%|█████████▍| 2374/2500 [02:59<00:04, 27.62it/s]"
     ]
    },
    {
     "name": "stdout",
     "output_type": "stream",
     "text": [
      "Epoch 2370/2500, Loss: 0.4728\n",
      "Test Accuracy at Epoch 2370: 66.32%\n",
      "Test F1-score at Epoch 2370: 0.7344\n",
      "Classification Report at Epoch 2370:\n",
      "                  precision    recall  f1-score   support\n",
      "\n",
      "    infringement       0.89      0.39      0.54       194\n",
      "non_infringement       0.60      0.95      0.73       186\n",
      "\n",
      "        accuracy                           0.66       380\n",
      "       macro avg       0.75      0.67      0.64       380\n",
      "    weighted avg       0.75      0.66      0.63       380\n",
      "\n"
     ]
    },
    {
     "name": "stderr",
     "output_type": "stream",
     "text": [
      "Training Epochs:  95%|█████████▌| 2385/2500 [02:59<00:03, 36.40it/s]"
     ]
    },
    {
     "name": "stdout",
     "output_type": "stream",
     "text": [
      "Epoch 2380/2500, Loss: 0.4686\n",
      "Test Accuracy at Epoch 2380: 64.47%\n",
      "Test F1-score at Epoch 2380: 0.7273\n",
      "Classification Report at Epoch 2380:\n",
      "                  precision    recall  f1-score   support\n",
      "\n",
      "    infringement       0.92      0.34      0.49       194\n",
      "non_infringement       0.58      0.97      0.73       186\n",
      "\n",
      "        accuracy                           0.64       380\n",
      "       macro avg       0.75      0.65      0.61       380\n",
      "    weighted avg       0.75      0.64      0.61       380\n",
      "\n"
     ]
    },
    {
     "name": "stderr",
     "output_type": "stream",
     "text": [
      "Training Epochs:  96%|█████████▌| 2394/2500 [03:00<00:03, 29.10it/s]"
     ]
    },
    {
     "name": "stdout",
     "output_type": "stream",
     "text": [
      "Epoch 2390/2500, Loss: 0.4607\n",
      "Test Accuracy at Epoch 2390: 65.53%\n",
      "Test F1-score at Epoch 2390: 0.7332\n",
      "Classification Report at Epoch 2390:\n",
      "                  precision    recall  f1-score   support\n",
      "\n",
      "    infringement       0.92      0.36      0.51       194\n",
      "non_infringement       0.59      0.97      0.73       186\n",
      "\n",
      "        accuracy                           0.66       380\n",
      "       macro avg       0.76      0.66      0.62       380\n",
      "    weighted avg       0.76      0.66      0.62       380\n",
      "\n"
     ]
    },
    {
     "name": "stderr",
     "output_type": "stream",
     "text": [
      "Training Epochs:  96%|█████████▋| 2408/2500 [03:00<00:02, 33.09it/s]"
     ]
    },
    {
     "name": "stdout",
     "output_type": "stream",
     "text": [
      "Epoch 2400/2500, Loss: 0.4418\n",
      "Test Accuracy at Epoch 2400: 68.95%\n",
      "Test F1-score at Epoch 2400: 0.7122\n",
      "Classification Report at Epoch 2400:\n",
      "                  precision    recall  f1-score   support\n",
      "\n",
      "    infringement       0.74      0.60      0.66       194\n",
      "non_infringement       0.65      0.78      0.71       186\n",
      "\n",
      "        accuracy                           0.69       380\n",
      "       macro avg       0.70      0.69      0.69       380\n",
      "    weighted avg       0.70      0.69      0.69       380\n",
      "\n"
     ]
    },
    {
     "name": "stderr",
     "output_type": "stream",
     "text": [
      "Training Epochs:  97%|█████████▋| 2418/2500 [03:01<00:02, 35.74it/s]"
     ]
    },
    {
     "name": "stdout",
     "output_type": "stream",
     "text": [
      "Epoch 2410/2500, Loss: 0.4133\n",
      "Test Accuracy at Epoch 2410: 68.68%\n",
      "Test F1-score at Epoch 2410: 0.6987\n",
      "Classification Report at Epoch 2410:\n",
      "                  precision    recall  f1-score   support\n",
      "\n",
      "    infringement       0.72      0.63      0.67       194\n",
      "non_infringement       0.66      0.74      0.70       186\n",
      "\n",
      "        accuracy                           0.69       380\n",
      "       macro avg       0.69      0.69      0.69       380\n",
      "    weighted avg       0.69      0.69      0.69       380\n",
      "\n",
      "Epoch 2420/2500, Loss: 0.4311\n",
      "Test Accuracy at Epoch 2420: 70.79%\n",
      "Test F1-score at Epoch 2420: 0.7633\n",
      "Classification Report at Epoch 2420:\n",
      "                  precision    recall  f1-score   support\n",
      "\n",
      "    infringement       0.93      0.46      0.62       194\n",
      "non_infringement       0.63      0.96      0.76       186\n",
      "\n",
      "        accuracy                           0.71       380\n",
      "       macro avg       0.78      0.71      0.69       380\n",
      "    weighted avg       0.78      0.71      0.69       380\n",
      "\n",
      "New best model saved with F1-score 0.7633 at epoch 2420\n",
      "Best Classification Report at Epoch 2420:\n",
      "                  precision    recall  f1-score   support\n",
      "\n",
      "    infringement       0.93      0.46      0.62       194\n",
      "non_infringement       0.63      0.96      0.76       186\n",
      "\n",
      "        accuracy                           0.71       380\n",
      "       macro avg       0.78      0.71      0.69       380\n",
      "    weighted avg       0.78      0.71      0.69       380\n",
      "\n"
     ]
    },
    {
     "name": "stderr",
     "output_type": "stream",
     "text": [
      "Training Epochs:  97%|█████████▋| 2432/2500 [03:01<00:02, 23.57it/s]"
     ]
    },
    {
     "name": "stdout",
     "output_type": "stream",
     "text": [
      "Epoch 2430/2500, Loss: 0.4349\n",
      "Test Accuracy at Epoch 2430: 63.68%\n",
      "Test F1-score at Epoch 2430: 0.7229\n",
      "Classification Report at Epoch 2430:\n",
      "                  precision    recall  f1-score   support\n",
      "\n",
      "    infringement       0.91      0.32      0.47       194\n",
      "non_infringement       0.58      0.97      0.72       186\n",
      "\n",
      "        accuracy                           0.64       380\n",
      "       macro avg       0.74      0.64      0.60       380\n",
      "    weighted avg       0.75      0.64      0.60       380\n",
      "\n"
     ]
    },
    {
     "name": "stderr",
     "output_type": "stream",
     "text": [
      "Training Epochs:  98%|█████████▊| 2438/2500 [03:02<00:02, 22.54it/s]"
     ]
    },
    {
     "name": "stdout",
     "output_type": "stream",
     "text": [
      "Epoch 2440/2500, Loss: 0.4252\n",
      "Test Accuracy at Epoch 2440: 71.32%\n",
      "Test F1-score at Epoch 2440: 0.7625\n",
      "Classification Report at Epoch 2440:\n",
      "                  precision    recall  f1-score   support\n",
      "\n",
      "    infringement       0.90      0.49      0.64       194\n",
      "non_infringement       0.64      0.94      0.76       186\n",
      "\n",
      "        accuracy                           0.71       380\n",
      "       macro avg       0.77      0.72      0.70       380\n",
      "    weighted avg       0.77      0.71      0.70       380\n",
      "\n"
     ]
    },
    {
     "name": "stderr",
     "output_type": "stream",
     "text": [
      "Training Epochs:  98%|█████████▊| 2452/2500 [03:04<00:04, 11.06it/s]"
     ]
    },
    {
     "name": "stdout",
     "output_type": "stream",
     "text": [
      "Epoch 2450/2500, Loss: 0.3786\n",
      "Test Accuracy at Epoch 2450: 67.37%\n",
      "Test F1-score at Epoch 2450: 0.7075\n",
      "Classification Report at Epoch 2450:\n",
      "                  precision    recall  f1-score   support\n",
      "\n",
      "    infringement       0.75      0.55      0.63       194\n",
      "non_infringement       0.63      0.81      0.71       186\n",
      "\n",
      "        accuracy                           0.67       380\n",
      "       macro avg       0.69      0.68      0.67       380\n",
      "    weighted avg       0.69      0.67      0.67       380\n",
      "\n"
     ]
    },
    {
     "name": "stderr",
     "output_type": "stream",
     "text": [
      "Training Epochs:  99%|█████████▊| 2463/2500 [03:04<00:01, 19.34it/s]"
     ]
    },
    {
     "name": "stdout",
     "output_type": "stream",
     "text": [
      "Epoch 2460/2500, Loss: 0.4159\n",
      "Test Accuracy at Epoch 2460: 70.26%\n",
      "Test F1-score at Epoch 2460: 0.7570\n",
      "Classification Report at Epoch 2460:\n",
      "                  precision    recall  f1-score   support\n",
      "\n",
      "    infringement       0.90      0.47      0.62       194\n",
      "non_infringement       0.63      0.95      0.76       186\n",
      "\n",
      "        accuracy                           0.70       380\n",
      "       macro avg       0.77      0.71      0.69       380\n",
      "    weighted avg       0.77      0.70      0.69       380\n",
      "\n"
     ]
    },
    {
     "name": "stderr",
     "output_type": "stream",
     "text": [
      "Training Epochs:  99%|█████████▉| 2473/2500 [03:04<00:01, 25.50it/s]"
     ]
    },
    {
     "name": "stdout",
     "output_type": "stream",
     "text": [
      "Epoch 2470/2500, Loss: 0.4095\n",
      "Test Accuracy at Epoch 2470: 70.53%\n",
      "Test F1-score at Epoch 2470: 0.7586\n",
      "Classification Report at Epoch 2470:\n",
      "                  precision    recall  f1-score   support\n",
      "\n",
      "    infringement       0.90      0.47      0.62       194\n",
      "non_infringement       0.63      0.95      0.76       186\n",
      "\n",
      "        accuracy                           0.71       380\n",
      "       macro avg       0.77      0.71      0.69       380\n",
      "    weighted avg       0.77      0.71      0.69       380\n",
      "\n"
     ]
    },
    {
     "name": "stderr",
     "output_type": "stream",
     "text": [
      "Training Epochs:  99%|█████████▉| 2487/2500 [03:05<00:00, 35.11it/s]"
     ]
    },
    {
     "name": "stdout",
     "output_type": "stream",
     "text": [
      "Epoch 2480/2500, Loss: 0.4031\n",
      "Test Accuracy at Epoch 2480: 72.89%\n",
      "Test F1-score at Epoch 2480: 0.7736\n",
      "Classification Report at Epoch 2480:\n",
      "                  precision    recall  f1-score   support\n",
      "\n",
      "    infringement       0.91      0.52      0.66       194\n",
      "non_infringement       0.65      0.95      0.77       186\n",
      "\n",
      "        accuracy                           0.73       380\n",
      "       macro avg       0.78      0.73      0.72       380\n",
      "    weighted avg       0.78      0.73      0.72       380\n",
      "\n",
      "New best model saved with F1-score 0.7736 at epoch 2480\n",
      "Best Classification Report at Epoch 2480:\n",
      "                  precision    recall  f1-score   support\n",
      "\n",
      "    infringement       0.91      0.52      0.66       194\n",
      "non_infringement       0.65      0.95      0.77       186\n",
      "\n",
      "        accuracy                           0.73       380\n",
      "       macro avg       0.78      0.73      0.72       380\n",
      "    weighted avg       0.78      0.73      0.72       380\n",
      "\n"
     ]
    },
    {
     "name": "stderr",
     "output_type": "stream",
     "text": [
      "Training Epochs: 100%|█████████▉| 2497/2500 [03:05<00:00, 38.13it/s]"
     ]
    },
    {
     "name": "stdout",
     "output_type": "stream",
     "text": [
      "Epoch 2490/2500, Loss: 0.3969\n",
      "Test Accuracy at Epoch 2490: 73.16%\n",
      "Test F1-score at Epoch 2490: 0.7733\n",
      "Classification Report at Epoch 2490:\n",
      "                  precision    recall  f1-score   support\n",
      "\n",
      "    infringement       0.90      0.54      0.67       194\n",
      "non_infringement       0.66      0.94      0.77       186\n",
      "\n",
      "        accuracy                           0.73       380\n",
      "       macro avg       0.78      0.74      0.72       380\n",
      "    weighted avg       0.78      0.73      0.72       380\n",
      "\n"
     ]
    },
    {
     "name": "stderr",
     "output_type": "stream",
     "text": [
      "Training Epochs: 100%|██████████| 2500/2500 [03:05<00:00, 13.47it/s]\n",
      "/tmp/ipykernel_3963944/2175062796.py:55: FutureWarning: You are using `torch.load` with `weights_only=False` (the current default value), which uses the default pickle module implicitly. It is possible to construct malicious pickle data which will execute arbitrary code during unpickling (See https://github.com/pytorch/pytorch/blob/main/SECURITY.md#untrusted-models for more details). In a future release, the default value for `weights_only` will be flipped to `True`. This limits the functions that could be executed during unpickling. Arbitrary objects will no longer be allowed to be loaded via this mode unless they are explicitly allowlisted by the user via `torch.serialization.add_safe_globals`. We recommend you start setting `weights_only=True` for any use case where you don't have full control of the loaded file. Please open an issue on GitHub for any issues related to this experimental feature.\n",
      "  custom_mlp.load_state_dict(torch.load(checkpoint_path))\n"
     ]
    },
    {
     "name": "stdout",
     "output_type": "stream",
     "text": [
      "Epoch 2500/2500, Loss: 0.3904\n",
      "Test Accuracy at Epoch 2500: 72.89%\n",
      "Test F1-score at Epoch 2500: 0.7696\n",
      "Classification Report at Epoch 2500:\n",
      "                  precision    recall  f1-score   support\n",
      "\n",
      "    infringement       0.88      0.54      0.67       194\n",
      "non_infringement       0.66      0.92      0.77       186\n",
      "\n",
      "        accuracy                           0.73       380\n",
      "       macro avg       0.77      0.73      0.72       380\n",
      "    weighted avg       0.77      0.73      0.72       380\n",
      "\n"
     ]
    },
    {
     "data": {
      "image/png": "[encoded data removed]",
      "text/plain": [
       "<Figure size 1000x500 with 1 Axes>"
      ]
     },
     "metadata": {},
     "output_type": "display_data"
    },
    {
     "name": "stdout",
     "output_type": "stream",
     "text": [
      "Best Model was saved at epoch 2480 with F1-score 0.7736 and accuracy 72.89%\n"
     ]
    }
   ],
   "source": [
    "input_dim = X_train.shape[1]\n",
    "hidden_dim = 256\n",
    "\n",
    "custom_mlp, losses, best_accuracy, best_f1 = train_model(X_train, y_train, X_test, y_test, input_dim, hidden_dim)"
   ]
  },
  {
   "cell_type": "code",
   "execution_count": 10,
   "metadata": {},
   "outputs": [
    {
     "name": "stdout",
     "output_type": "stream",
     "text": [
      "Checkpoint saved to '/home/guangwei/LLM-COPYRIGHT/copyright_newVersion/models/train_input_last_token.pth'.\n"
     ]
    }
   ],
   "source": [
    "def save_checkpoint(model, optimizer, epoch, loss, filepath):\n",
    "    checkpoint = {\n",
    "        'epoch': epoch + 1,\n",
    "        'model_state_dict': model.state_dict(),\n",
    "        'optimizer_state_dict': optimizer.state_dict(),\n",
    "        'loss': loss\n",
    "    }\n",
    "    torch.save(checkpoint, filepath)\n",
    "    print(f\"Checkpoint saved to '{filepath}'.\")\n",
    "\n",
    "save_checkpoint(custom_mlp, torch.optim.Adam(custom_mlp.parameters()), len(losses), losses[-1], checkpoint_file)"
   ]
  },
  {
   "cell_type": "code",
   "execution_count": null,
   "metadata": {},
   "outputs": [
    {
     "name": "stdout",
     "output_type": "stream",
     "text": [
      "Final Model Accuracy: 72.89%\n",
      "                  precision    recall  f1-score   support\n",
      "\n",
      "    infringement       0.91      0.52      0.66       194\n",
      "non_infringement       0.65      0.95      0.77       186\n",
      "\n",
      "        accuracy                           0.73       380\n",
      "       macro avg       0.78      0.73      0.72       380\n",
      "    weighted avg       0.78      0.73      0.72       380\n",
      "\n"
     ]
    },
    {
     "name": "stderr",
     "output_type": "stream",
     "text": [
      "/tmp/ipykernel_3963944/3740627605.py:2: UserWarning: To copy construct from a tensor, it is recommended to use sourceTensor.clone().detach() or sourceTensor.clone().detach().requires_grad_(True), rather than torch.tensor(sourceTensor).\n",
      "  y_pred_final = (torch.sigmoid(torch.tensor(custom_mlp(torch.tensor(X_test, dtype=torch.float32)))) > 0.5).float().numpy()\n"
     ]
    },
    {
     "ename": "",
     "evalue": "",
     "output_type": "error",
     "traceback": [
      "\u001b[1;31mThe Kernel crashed while executing code in the current cell or a previous cell. \n",
      "\u001b[1;31mPlease review the code in the cell(s) to identify a possible cause of the failure. \n",
      "\u001b[1;31mClick <a href='https://aka.ms/vscodeJupyterKernelCrash'>here</a> for more info. \n",
      "\u001b[1;31mView Jupyter <a href='command:jupyter.viewOutput'>log</a> for further details."
     ]
    }
   ],
   "source": [
    "print(f\"Final Model Accuracy: {best_accuracy * 100:.2f}%\")\n",
    "y_pred_final = (torch.sigmoid(torch.tensor(custom_mlp(torch.tensor(X_test, dtype=torch.float32)))) > 0.5).float().numpy()\n",
    "print(classification_report(y_test, y_pred_final, target_names=[\"infringement\", \"non_infringement\"]))"
   ]
  }
 ],
 "metadata": {
  "kernelspec": {
   "display_name": "zdh",
   "language": "python",
   "name": "python3"
  },
  "language_info": {
   "codemirror_mode": {
    "name": "ipython",
    "version": 3
   },
   "file_extension": ".py",
   "mimetype": "text/x-python",
   "name": "python",
   "nbconvert_exporter": "python",
   "pygments_lexer": "ipython3",
   "version": "3.9.20"
  }
 },
 "nbformat": 4,
 "nbformat_minor": 2
}
