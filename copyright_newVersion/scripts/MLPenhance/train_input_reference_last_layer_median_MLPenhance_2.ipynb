{
 "cells": [
  {
   "cell_type": "code",
   "execution_count": 1,
   "metadata": {},
   "outputs": [
    {
     "name": "stderr",
     "output_type": "stream",
     "text": [
      "/home/guangwei/miniconda3/envs/sit/lib/python3.9/site-packages/tqdm/auto.py:21: TqdmWarning: IProgress not found. Please update jupyter and ipywidgets. See https://ipywidgets.readthedocs.io/en/stable/user_install.html\n",
      "  from .autonotebook import tqdm as notebook_tqdm\n"
     ]
    }
   ],
   "source": [
    "# import packages & variables\n",
    "import argparse\n",
    "import torch\n",
    "import torch.nn as nn\n",
    "import numpy as np\n",
    "from sklearn.metrics import accuracy_score, classification_report\n",
    "import matplotlib.pyplot as plt\n",
    "from tqdm import tqdm\n",
    "from transformers import AutoTokenizer, AutoModelForCausalLM, AutoModel, AutoModelForSequenceClassification\n",
    "import json\n",
    "import os\n",
    "\n",
    "os.environ[\"CUDA_VISIBLE_DEVICES\"] = \"5\"\n",
    "\n",
    "# Parameters\n",
    "model_name = 'meta-llama/Meta-Llama-3.1-8B'\n",
    "non_infringement_file = '/home/guangwei/LLM-COPYRIGHT/copyright_newVersion/test_division/extra.non_infringement.json'\n",
    "infringement_file = '/home/guangwei/LLM-COPYRIGHT/copyright_newVersion/test_division/extra.infringement.json'\n",
    "checkpoint_file = '/home/guangwei/LLM-COPYRIGHT/copyright_newVersion/models/train_input_reference_last_layer_MLPenhance_2.pth'\n"
   ]
  },
  {
   "cell_type": "code",
   "execution_count": 2,
   "metadata": {},
   "outputs": [],
   "source": [
    "# Define CustomMLP with more complexity\n",
    "class CustomMLP(nn.Module):\n",
    "    def __init__(self, input_dim, hidden_dim, num_layers=4, dropout_prob=0.3):\n",
    "        super(CustomMLP, self).__init__()\n",
    "\n",
    "        # Store the number of layers\n",
    "        self.num_layers = num_layers\n",
    "\n",
    "        # Define the first down and gate layers\n",
    "        self.down1 = nn.Linear(input_dim, hidden_dim)\n",
    "        self.gate1 = nn.Linear(input_dim, hidden_dim)\n",
    "\n",
    "        # Create additional layers dynamically\n",
    "        self.down_layers = nn.ModuleList([\n",
    "            nn.Linear(hidden_dim, hidden_dim) for _ in range(num_layers - 1)\n",
    "        ])\n",
    "        self.gate_layers = nn.ModuleList([\n",
    "            nn.Linear(hidden_dim, hidden_dim) for _ in range(num_layers - 1)\n",
    "        ])\n",
    "\n",
    "        # Add batch normalization for each layer\n",
    "        self.batch_norm_layers = nn.ModuleList([\n",
    "            nn.BatchNorm1d(hidden_dim) for _ in range(num_layers)\n",
    "        ])\n",
    "\n",
    "        # Add residual connection for each layer\n",
    "        self.residual_connections = nn.ModuleList([\n",
    "            nn.Linear(input_dim, hidden_dim) if i == 0 else nn.Identity() \n",
    "            for i in range(num_layers)\n",
    "        ])\n",
    "\n",
    "        # Final output layer\n",
    "        self.up = nn.Linear(hidden_dim, 1)\n",
    "\n",
    "        # Activation function (Swish/SiLU)\n",
    "        self.activation = nn.SiLU()\n",
    "\n",
    "        # Dropout layer for regularization\n",
    "        self.dropout = nn.Dropout(dropout_prob)\n",
    "\n",
    "    def forward(self, x):\n",
    "        # First layer with down/gate and residual connection\n",
    "        down_output = self.down1(x)\n",
    "        gate_output = self.gate1(x)\n",
    "        gated_output = down_output * self.activation(gate_output)\n",
    "\n",
    "        # Residual connection for first layer\n",
    "        residual = self.residual_connections[0](x)\n",
    "        gated_output = gated_output + residual\n",
    "\n",
    "        # Apply batch normalization\n",
    "        gated_output = self.batch_norm_layers[0](gated_output)\n",
    "\n",
    "        # Process through additional layers\n",
    "        for i in range(1, self.num_layers):\n",
    "            down_output = self.down_layers[i - 1](gated_output)\n",
    "            gate_output = self.gate_layers[i - 1](gated_output)\n",
    "            gated_output = down_output * self.activation(gate_output)\n",
    "\n",
    "            # Residual connection\n",
    "            residual = self.residual_connections[i](gated_output)\n",
    "            gated_output = gated_output + residual\n",
    "\n",
    "            # Batch normalization\n",
    "            gated_output = self.batch_norm_layers[i](gated_output)\n",
    "\n",
    "            # Dropout regularization\n",
    "            gated_output = self.dropout(gated_output)\n",
    "\n",
    "        # Final output layer\n",
    "        output = self.up(gated_output)\n",
    "        return output"
   ]
  },
  {
   "cell_type": "code",
   "execution_count": 3,
   "metadata": {},
   "outputs": [],
   "source": [
    "# Extract hidden states/reference embeddings\n",
    "def extract_hidden_states(texts, model, tokenizer, batch_size=4):\n",
    "    device = torch.device(\"cuda\" if torch.cuda.is_available() else \"cpu\")\n",
    "    model.to(device)\n",
    "    model = nn.DataParallel(model)\n",
    "    hidden_states = []\n",
    "    for i in tqdm(range(0, len(texts), batch_size), desc=\"Processing data batches\"):\n",
    "        batch_texts = texts[i:i + batch_size]\n",
    "        inputs = tokenizer(batch_texts, return_tensors=\"pt\", padding=True, truncation=True).to(device)\n",
    "        with torch.no_grad():\n",
    "            outputs = model(**inputs)\n",
    "        hidden_states.append(outputs.hidden_states[-1].mean(dim=1).cpu().numpy())\n",
    "    return np.vstack(hidden_states)\n",
    "\n",
    "def extract_reference_embeddings(references, model, tokenizer, batch_size=4):\n",
    "    device = torch.device(\"cuda\" if torch.cuda.is_available() else \"cpu\")\n",
    "    model.to(device)\n",
    "    model = nn.DataParallel(model)\n",
    "    embeddings = []\n",
    "    for i in tqdm(range(0, len(references), batch_size), desc=\"Processing references\"):\n",
    "        batch_references = references[i:i + batch_size]\n",
    "        inputs = tokenizer(batch_references, return_tensors=\"pt\", padding=True, truncation=True).to(device)\n",
    "        with torch.no_grad():\n",
    "            outputs = model(**inputs)\n",
    "        embeddings.append(outputs.pooler_output.cpu().numpy())\n",
    "    return np.vstack(embeddings)"
   ]
  },
  {
   "cell_type": "code",
   "execution_count": 4,
   "metadata": {},
   "outputs": [],
   "source": [
    "# load data for infringement & non infringement\n",
    "def load_data(non_infringement_file, infringement_file):\n",
    "    with open(non_infringement_file, 'r', encoding='utf-8') as file:\n",
    "        non_infringement_json_data = json.load(file)\n",
    "\n",
    "    non_infringement_outputs = [entry['input'] for entry in non_infringement_json_data]\n",
    "    non_infringement_references = [entry['reference'] for entry in non_infringement_json_data]\n",
    "    y_non_infringement = [1] * len(non_infringement_outputs)\n",
    "\n",
    "    with open(infringement_file, 'r', encoding='utf-8') as file:\n",
    "        infringement_json_data = json.load(file)\n",
    "\n",
    "    infringement_outputs = [entry['input'] for entry in infringement_json_data]\n",
    "    infringement_references = [entry['reference'] for entry in infringement_json_data]\n",
    "    y_infringement = [0] * len(infringement_outputs)\n",
    "\n",
    "    return non_infringement_outputs, non_infringement_references, y_non_infringement, infringement_outputs, infringement_references, y_infringement"
   ]
  },
  {
   "cell_type": "code",
   "execution_count": 5,
   "metadata": {},
   "outputs": [],
   "source": [
    "# Train for best model\n",
    "def train_model(X_train, y_train, X_test, y_test, input_dim, hidden_dim, epochs=500, lr=0.001, checkpoint_path=checkpoint_file):\n",
    "    custom_mlp = CustomMLP(input_dim, hidden_dim)\n",
    "    criterion = nn.BCEWithLogitsLoss()\n",
    "    optimizer = torch.optim.Adam(custom_mlp.parameters(), lr=lr)\n",
    "\n",
    "    X_train_tensor = torch.tensor(X_train, dtype=torch.float32)\n",
    "    y_train_tensor = torch.tensor(y_train, dtype=torch.float32).unsqueeze(1)\n",
    "\n",
    "    best_accuracy = -float('inf')\n",
    "    best_model_state = None\n",
    "    best_epoch = 0\n",
    "    losses = []\n",
    "\n",
    "    for epoch in tqdm(range(epochs), desc=\"Training Epochs\"):\n",
    "        custom_mlp.train()\n",
    "        optimizer.zero_grad()\n",
    "        outputs = custom_mlp(X_train_tensor)\n",
    "        loss = criterion(outputs, y_train_tensor)\n",
    "        loss.backward()\n",
    "        optimizer.step()\n",
    "        losses.append(loss.item())\n",
    "\n",
    "        if (epoch + 1) % 10 == 0:\n",
    "            print(f\"Epoch {epoch + 1}/{epochs}, Loss: {loss.item():.4f}\")\n",
    "            \n",
    "            custom_mlp.eval()\n",
    "            X_test_tensor = torch.tensor(X_test, dtype=torch.float32)\n",
    "            with torch.no_grad():\n",
    "                y_pred_logits = custom_mlp(X_test_tensor)\n",
    "                y_pred = (torch.sigmoid(y_pred_logits) > 0.5).float().numpy()\n",
    "            \n",
    "            accuracy = accuracy_score(y_test, y_pred)\n",
    "            print(f\"Test Accuracy at Epoch {epoch + 1}: {accuracy * 100:.2f}%\")\n",
    "            \n",
    "            report = classification_report(y_test, y_pred, target_names=[\"infringement\", \"non_infringement\"])\n",
    "            print(f\"Classification Report at Epoch {epoch + 1}:\\n{report}\")\n",
    "\n",
    "            if accuracy > best_accuracy:\n",
    "                best_accuracy = accuracy\n",
    "                best_model_state = custom_mlp.state_dict()\n",
    "                best_epoch = epoch + 1\n",
    "                torch.save(best_model_state, checkpoint_path)\n",
    "                print(f\"New best model saved with accuracy {best_accuracy * 100:.2f}% at epoch {best_epoch}\")\n",
    "                print(f\"Best Classification Report at Epoch {best_epoch}:\\n{report}\")\n",
    "\n",
    "    custom_mlp.load_state_dict(torch.load(checkpoint_path))\n",
    "\n",
    "    plt.figure(figsize=(10, 5))\n",
    "    plt.plot(losses, label='Training Loss')\n",
    "    plt.xlabel('Epoch')\n",
    "    plt.ylabel('Loss')\n",
    "    plt.title('Training Loss Curve')\n",
    "    plt.legend()\n",
    "    plt.show()\n",
    "\n",
    "    print(f\"Final Model Accuracy: {best_accuracy * 100:.2f}%\")\n",
    "    \n",
    "    return custom_mlp, losses, best_accuracy"
   ]
  },
  {
   "cell_type": "code",
   "execution_count": 6,
   "metadata": {},
   "outputs": [
    {
     "name": "stderr",
     "output_type": "stream",
     "text": [
      "Loading checkpoint shards: 100%|██████████| 4/4 [00:03<00:00,  1.29it/s]\n",
      "/home/guangwei/miniconda3/envs/sit/lib/python3.9/site-packages/transformers/tokenization_utils_base.py:1601: FutureWarning: `clean_up_tokenization_spaces` was not set. It will be set to `True` by default. This behavior will be depracted in transformers v4.45, and will be then set to `False` by default. For more details check this issue: https://github.com/huggingface/transformers/issues/31884\n",
      "  warnings.warn(\n"
     ]
    }
   ],
   "source": [
    "tokenizer = AutoTokenizer.from_pretrained(model_name, model_max_length=512)\n",
    "model = AutoModelForCausalLM.from_pretrained(model_name, output_hidden_states=True)\n",
    "tokenizer.pad_token = tokenizer.eos_token\n",
    "bert_tokenizer = AutoTokenizer.from_pretrained('google-bert/bert-base-uncased')\n",
    "bert_model = AutoModel.from_pretrained('google-bert/bert-base-uncased')\n",
    "bert_tokenizer.pad_token = tokenizer.eos_token\n",
    "\n",
    "non_infringement_outputs, non_infringement_references, y_non_infringement, infringement_outputs, infringement_references, y_infringement = load_data(\n",
    "    non_infringement_file, infringement_file\n",
    ")\n",
    "\n",
    "y_non_infringement = np.array(y_non_infringement)\n",
    "y_infringement = np.array(y_infringement)\n"
   ]
  },
  {
   "cell_type": "code",
   "execution_count": 7,
   "metadata": {},
   "outputs": [
    {
     "name": "stdout",
     "output_type": "stream",
     "text": [
      "Extracting hidden states for non_infringement texts...\n"
     ]
    },
    {
     "name": "stderr",
     "output_type": "stream",
     "text": [
      "Processing data batches:   0%|          | 0/373 [00:00<?, ?it/s]We detected that you are passing `past_key_values` as a tuple and this is deprecated and will be removed in v4.43. Please use an appropriate `Cache` class (https://huggingface.co/docs/transformers/v4.41.3/en/internal/generation_utils#transformers.Cache)\n",
      "Processing data batches: 100%|██████████| 373/373 [01:43<00:00,  3.60it/s]\n"
     ]
    },
    {
     "name": "stdout",
     "output_type": "stream",
     "text": [
      "Extracting reference embeddings for non_infringement texts...\n"
     ]
    },
    {
     "name": "stderr",
     "output_type": "stream",
     "text": [
      "Processing references: 100%|██████████| 373/373 [00:03<00:00, 97.53it/s] \n"
     ]
    },
    {
     "name": "stdout",
     "output_type": "stream",
     "text": [
      "Extracting hidden states for infringement texts...\n"
     ]
    },
    {
     "name": "stderr",
     "output_type": "stream",
     "text": [
      "Processing data batches:  79%|███████▉  | 281/354 [01:41<00:10,  6.81it/s]"
     ]
    }
   ],
   "source": [
    "print(\"Extracting hidden states for non_infringement texts...\")\n",
    "X_non_infringement = extract_hidden_states(non_infringement_outputs, model, tokenizer)\n",
    "print(\"Extracting reference embeddings for non_infringement texts...\")\n",
    "reference_embeddings_non_infringement = extract_reference_embeddings(non_infringement_references, bert_model, bert_tokenizer)\n",
    "X_non_infringement_combined = np.hstack([X_non_infringement, reference_embeddings_non_infringement])\n",
    "\n",
    "print(\"Extracting hidden states for infringement texts...\")\n",
    "X_infringement = extract_hidden_states(infringement_outputs, model, tokenizer)\n",
    "print(\"Extracting reference embeddings for infringement texts...\")\n",
    "reference_embeddings_infringement = extract_reference_embeddings(infringement_references, bert_model, bert_tokenizer)\n",
    "X_infringement_combined = np.hstack([X_infringement, reference_embeddings_infringement])"
   ]
  },
  {
   "cell_type": "code",
   "execution_count": 8,
   "metadata": {},
   "outputs": [
    {
     "name": "stdout",
     "output_type": "stream",
     "text": [
      "Data successfully split into training and test sets.\n"
     ]
    }
   ],
   "source": [
    "split_index_non_infringement = int(0.8 * len(X_non_infringement_combined))\n",
    "X_non_infringement_train = X_non_infringement_combined[:split_index_non_infringement]\n",
    "X_non_infringement_test = X_non_infringement_combined[split_index_non_infringement:]\n",
    "y_non_infringement_train = y_non_infringement[:split_index_non_infringement]\n",
    "y_non_infringement_test = y_non_infringement[split_index_non_infringement:]\n",
    "\n",
    "split_index_infringement = int(0.8 * len(X_infringement_combined))\n",
    "X_infringement_train = X_infringement_combined[:split_index_infringement]\n",
    "X_infringement_test = X_infringement_combined[split_index_infringement:]\n",
    "y_infringement_train = y_infringement[:split_index_infringement]\n",
    "y_infringement_test = y_infringement[split_index_infringement:]\n",
    "\n",
    "X_train = np.vstack((X_non_infringement_train, X_infringement_train))\n",
    "X_test = np.vstack((X_non_infringement_test, X_infringement_test))\n",
    "y_train = np.concatenate((y_non_infringement_train, y_infringement_train))\n",
    "y_test = np.concatenate((y_non_infringement_test, y_infringement_test))\n",
    "\n",
    "print(\"Data successfully split into training and test sets.\")"
   ]
  },
  {
   "cell_type": "code",
   "execution_count": 9,
   "metadata": {},
   "outputs": [
    {
     "name": "stdout",
     "output_type": "stream",
     "text": [
      "Training MLP model with input_dim=4864 and hidden_dim=256\n"
     ]
    },
    {
     "name": "stderr",
     "output_type": "stream",
     "text": [
      "Training Epochs:   2%|▏         | 11/500 [00:01<00:47, 10.39it/s]"
     ]
    },
    {
     "name": "stdout",
     "output_type": "stream",
     "text": [
      "Epoch 10/500, Loss: 1.2807\n",
      "Test Accuracy at Epoch 10: 60.93%\n",
      "Classification Report at Epoch 10:\n",
      "                  precision    recall  f1-score   support\n",
      "\n",
      "    infringement       0.63      0.48      0.54       283\n",
      "non_infringement       0.60      0.73      0.66       298\n",
      "\n",
      "        accuracy                           0.61       581\n",
      "       macro avg       0.61      0.61      0.60       581\n",
      "    weighted avg       0.61      0.61      0.60       581\n",
      "\n",
      "New best model saved with accuracy 60.93% at epoch 10\n",
      "Best Classification Report at Epoch 10:\n",
      "                  precision    recall  f1-score   support\n",
      "\n",
      "    infringement       0.63      0.48      0.54       283\n",
      "non_infringement       0.60      0.73      0.66       298\n",
      "\n",
      "        accuracy                           0.61       581\n",
      "       macro avg       0.61      0.61      0.60       581\n",
      "    weighted avg       0.61      0.61      0.60       581\n",
      "\n"
     ]
    },
    {
     "name": "stderr",
     "output_type": "stream",
     "text": [
      "Training Epochs:   4%|▍         | 21/500 [00:02<00:54,  8.77it/s]"
     ]
    },
    {
     "name": "stdout",
     "output_type": "stream",
     "text": [
      "Epoch 20/500, Loss: 0.5745\n",
      "Test Accuracy at Epoch 20: 66.78%\n",
      "Classification Report at Epoch 20:\n",
      "                  precision    recall  f1-score   support\n",
      "\n",
      "    infringement       0.67      0.61      0.64       283\n",
      "non_infringement       0.66      0.72      0.69       298\n",
      "\n",
      "        accuracy                           0.67       581\n",
      "       macro avg       0.67      0.67      0.67       581\n",
      "    weighted avg       0.67      0.67      0.67       581\n",
      "\n",
      "New best model saved with accuracy 66.78% at epoch 20\n",
      "Best Classification Report at Epoch 20:\n",
      "                  precision    recall  f1-score   support\n",
      "\n",
      "    infringement       0.67      0.61      0.64       283\n",
      "non_infringement       0.66      0.72      0.69       298\n",
      "\n",
      "        accuracy                           0.67       581\n",
      "       macro avg       0.67      0.67      0.67       581\n",
      "    weighted avg       0.67      0.67      0.67       581\n",
      "\n"
     ]
    },
    {
     "name": "stderr",
     "output_type": "stream",
     "text": [
      "Training Epochs:   6%|▌         | 31/500 [00:03<01:08,  6.86it/s]"
     ]
    },
    {
     "name": "stdout",
     "output_type": "stream",
     "text": [
      "Epoch 30/500, Loss: 0.4656\n",
      "Test Accuracy at Epoch 30: 67.81%\n",
      "Classification Report at Epoch 30:\n",
      "                  precision    recall  f1-score   support\n",
      "\n",
      "    infringement       0.70      0.60      0.65       283\n",
      "non_infringement       0.67      0.75      0.70       298\n",
      "\n",
      "        accuracy                           0.68       581\n",
      "       macro avg       0.68      0.68      0.68       581\n",
      "    weighted avg       0.68      0.68      0.68       581\n",
      "\n",
      "New best model saved with accuracy 67.81% at epoch 30\n",
      "Best Classification Report at Epoch 30:\n",
      "                  precision    recall  f1-score   support\n",
      "\n",
      "    infringement       0.70      0.60      0.65       283\n",
      "non_infringement       0.67      0.75      0.70       298\n",
      "\n",
      "        accuracy                           0.68       581\n",
      "       macro avg       0.68      0.68      0.68       581\n",
      "    weighted avg       0.68      0.68      0.68       581\n",
      "\n"
     ]
    },
    {
     "name": "stderr",
     "output_type": "stream",
     "text": [
      "Training Epochs:   8%|▊         | 40/500 [00:04<00:45, 10.12it/s]"
     ]
    },
    {
     "name": "stdout",
     "output_type": "stream",
     "text": [
      "Epoch 40/500, Loss: 0.4351\n",
      "Test Accuracy at Epoch 40: 69.02%\n",
      "Classification Report at Epoch 40:\n",
      "                  precision    recall  f1-score   support\n",
      "\n",
      "    infringement       0.71      0.61      0.66       283\n",
      "non_infringement       0.68      0.76      0.72       298\n",
      "\n",
      "        accuracy                           0.69       581\n",
      "       macro avg       0.69      0.69      0.69       581\n",
      "    weighted avg       0.69      0.69      0.69       581\n",
      "\n",
      "New best model saved with accuracy 69.02% at epoch 40\n",
      "Best Classification Report at Epoch 40:\n",
      "                  precision    recall  f1-score   support\n",
      "\n",
      "    infringement       0.71      0.61      0.66       283\n",
      "non_infringement       0.68      0.76      0.72       298\n",
      "\n",
      "        accuracy                           0.69       581\n",
      "       macro avg       0.69      0.69      0.69       581\n",
      "    weighted avg       0.69      0.69      0.69       581\n",
      "\n"
     ]
    },
    {
     "name": "stderr",
     "output_type": "stream",
     "text": [
      "Training Epochs:  10%|█         | 52/500 [00:05<00:46,  9.66it/s]"
     ]
    },
    {
     "name": "stdout",
     "output_type": "stream",
     "text": [
      "Epoch 50/500, Loss: 0.4201\n",
      "Test Accuracy at Epoch 50: 68.50%\n",
      "Classification Report at Epoch 50:\n",
      "                  precision    recall  f1-score   support\n",
      "\n",
      "    infringement       0.73      0.57      0.64       283\n",
      "non_infringement       0.66      0.80      0.72       298\n",
      "\n",
      "        accuracy                           0.69       581\n",
      "       macro avg       0.69      0.68      0.68       581\n",
      "    weighted avg       0.69      0.69      0.68       581\n",
      "\n"
     ]
    },
    {
     "name": "stderr",
     "output_type": "stream",
     "text": [
      "Training Epochs:  12%|█▏        | 62/500 [00:06<00:30, 14.30it/s]"
     ]
    },
    {
     "name": "stdout",
     "output_type": "stream",
     "text": [
      "Epoch 60/500, Loss: 0.4074\n",
      "Test Accuracy at Epoch 60: 69.54%\n",
      "Classification Report at Epoch 60:\n",
      "                  precision    recall  f1-score   support\n",
      "\n",
      "    infringement       0.75      0.57      0.65       283\n",
      "non_infringement       0.67      0.82      0.73       298\n",
      "\n",
      "        accuracy                           0.70       581\n",
      "       macro avg       0.71      0.69      0.69       581\n",
      "    weighted avg       0.70      0.70      0.69       581\n",
      "\n",
      "New best model saved with accuracy 69.54% at epoch 60\n",
      "Best Classification Report at Epoch 60:\n",
      "                  precision    recall  f1-score   support\n",
      "\n",
      "    infringement       0.75      0.57      0.65       283\n",
      "non_infringement       0.67      0.82      0.73       298\n",
      "\n",
      "        accuracy                           0.70       581\n",
      "       macro avg       0.71      0.69      0.69       581\n",
      "    weighted avg       0.70      0.70      0.69       581\n",
      "\n"
     ]
    },
    {
     "name": "stderr",
     "output_type": "stream",
     "text": [
      "Training Epochs:  14%|█▍        | 71/500 [00:07<00:37, 11.53it/s]"
     ]
    },
    {
     "name": "stdout",
     "output_type": "stream",
     "text": [
      "Epoch 70/500, Loss: 0.3922\n",
      "Test Accuracy at Epoch 70: 69.88%\n",
      "Classification Report at Epoch 70:\n",
      "                  precision    recall  f1-score   support\n",
      "\n",
      "    infringement       0.76      0.56      0.64       283\n",
      "non_infringement       0.66      0.83      0.74       298\n",
      "\n",
      "        accuracy                           0.70       581\n",
      "       macro avg       0.71      0.70      0.69       581\n",
      "    weighted avg       0.71      0.70      0.69       581\n",
      "\n",
      "New best model saved with accuracy 69.88% at epoch 70\n",
      "Best Classification Report at Epoch 70:\n",
      "                  precision    recall  f1-score   support\n",
      "\n",
      "    infringement       0.76      0.56      0.64       283\n",
      "non_infringement       0.66      0.83      0.74       298\n",
      "\n",
      "        accuracy                           0.70       581\n",
      "       macro avg       0.71      0.70      0.69       581\n",
      "    weighted avg       0.71      0.70      0.69       581\n",
      "\n"
     ]
    },
    {
     "name": "stderr",
     "output_type": "stream",
     "text": [
      "Training Epochs:  16%|█▋        | 82/500 [00:07<00:29, 14.34it/s]"
     ]
    },
    {
     "name": "stdout",
     "output_type": "stream",
     "text": [
      "Epoch 80/500, Loss: 0.3745\n",
      "Test Accuracy at Epoch 80: 67.99%\n",
      "Classification Report at Epoch 80:\n",
      "                  precision    recall  f1-score   support\n",
      "\n",
      "    infringement       0.76      0.51      0.61       283\n",
      "non_infringement       0.64      0.85      0.73       298\n",
      "\n",
      "        accuracy                           0.68       581\n",
      "       macro avg       0.70      0.68      0.67       581\n",
      "    weighted avg       0.70      0.68      0.67       581\n",
      "\n"
     ]
    },
    {
     "name": "stderr",
     "output_type": "stream",
     "text": [
      "Training Epochs:  18%|█▊        | 92/500 [00:08<00:29, 13.92it/s]"
     ]
    },
    {
     "name": "stdout",
     "output_type": "stream",
     "text": [
      "Epoch 90/500, Loss: 0.3506\n",
      "Test Accuracy at Epoch 90: 69.19%\n",
      "Classification Report at Epoch 90:\n",
      "                  precision    recall  f1-score   support\n",
      "\n",
      "    infringement       0.78      0.51      0.62       283\n",
      "non_infringement       0.65      0.86      0.74       298\n",
      "\n",
      "        accuracy                           0.69       581\n",
      "       macro avg       0.72      0.69      0.68       581\n",
      "    weighted avg       0.71      0.69      0.68       581\n",
      "\n"
     ]
    },
    {
     "name": "stderr",
     "output_type": "stream",
     "text": [
      "Training Epochs:  20%|██        | 100/500 [00:09<00:26, 15.17it/s]"
     ]
    },
    {
     "name": "stdout",
     "output_type": "stream",
     "text": [
      "Epoch 100/500, Loss: 0.3232\n",
      "Test Accuracy at Epoch 100: 71.77%\n",
      "Classification Report at Epoch 100:\n",
      "                  precision    recall  f1-score   support\n",
      "\n",
      "    infringement       0.79      0.57      0.66       283\n",
      "non_infringement       0.68      0.86      0.76       298\n",
      "\n",
      "        accuracy                           0.72       581\n",
      "       macro avg       0.74      0.71      0.71       581\n",
      "    weighted avg       0.73      0.72      0.71       581\n",
      "\n",
      "New best model saved with accuracy 71.77% at epoch 100\n",
      "Best Classification Report at Epoch 100:\n",
      "                  precision    recall  f1-score   support\n",
      "\n",
      "    infringement       0.79      0.57      0.66       283\n",
      "non_infringement       0.68      0.86      0.76       298\n",
      "\n",
      "        accuracy                           0.72       581\n",
      "       macro avg       0.74      0.71      0.71       581\n",
      "    weighted avg       0.73      0.72      0.71       581\n",
      "\n"
     ]
    },
    {
     "name": "stderr",
     "output_type": "stream",
     "text": [
      "Training Epochs:  23%|██▎       | 113/500 [00:09<00:23, 16.51it/s]"
     ]
    },
    {
     "name": "stdout",
     "output_type": "stream",
     "text": [
      "Epoch 110/500, Loss: 0.2896\n",
      "Test Accuracy at Epoch 110: 71.77%\n",
      "Classification Report at Epoch 110:\n",
      "                  precision    recall  f1-score   support\n",
      "\n",
      "    infringement       0.79      0.57      0.66       283\n",
      "non_infringement       0.68      0.86      0.76       298\n",
      "\n",
      "        accuracy                           0.72       581\n",
      "       macro avg       0.74      0.71      0.71       581\n",
      "    weighted avg       0.73      0.72      0.71       581\n",
      "\n"
     ]
    },
    {
     "name": "stderr",
     "output_type": "stream",
     "text": [
      "Training Epochs:  24%|██▍       | 121/500 [00:10<00:24, 15.40it/s]"
     ]
    },
    {
     "name": "stdout",
     "output_type": "stream",
     "text": [
      "Epoch 120/500, Loss: 0.2605\n",
      "Test Accuracy at Epoch 120: 72.98%\n",
      "Classification Report at Epoch 120:\n",
      "                  precision    recall  f1-score   support\n",
      "\n",
      "    infringement       0.80      0.59      0.68       283\n",
      "non_infringement       0.69      0.86      0.77       298\n",
      "\n",
      "        accuracy                           0.73       581\n",
      "       macro avg       0.75      0.73      0.72       581\n",
      "    weighted avg       0.74      0.73      0.72       581\n",
      "\n",
      "New best model saved with accuracy 72.98% at epoch 120\n",
      "Best Classification Report at Epoch 120:\n",
      "                  precision    recall  f1-score   support\n",
      "\n",
      "    infringement       0.80      0.59      0.68       283\n",
      "non_infringement       0.69      0.86      0.77       298\n",
      "\n",
      "        accuracy                           0.73       581\n",
      "       macro avg       0.75      0.73      0.72       581\n",
      "    weighted avg       0.74      0.73      0.72       581\n",
      "\n"
     ]
    },
    {
     "name": "stderr",
     "output_type": "stream",
     "text": [
      "Training Epochs:  26%|██▌       | 131/500 [00:11<00:22, 16.28it/s]"
     ]
    },
    {
     "name": "stdout",
     "output_type": "stream",
     "text": [
      "Epoch 130/500, Loss: 0.2376\n",
      "Test Accuracy at Epoch 130: 71.26%\n",
      "Classification Report at Epoch 130:\n",
      "                  precision    recall  f1-score   support\n",
      "\n",
      "    infringement       0.78      0.57      0.66       283\n",
      "non_infringement       0.67      0.85      0.75       298\n",
      "\n",
      "        accuracy                           0.71       581\n",
      "       macro avg       0.73      0.71      0.70       581\n",
      "    weighted avg       0.73      0.71      0.71       581\n",
      "\n"
     ]
    },
    {
     "name": "stderr",
     "output_type": "stream",
     "text": [
      "Training Epochs:  28%|██▊       | 142/500 [00:11<00:23, 15.14it/s]"
     ]
    },
    {
     "name": "stdout",
     "output_type": "stream",
     "text": [
      "Epoch 140/500, Loss: 0.2225\n",
      "Test Accuracy at Epoch 140: 71.60%\n",
      "Classification Report at Epoch 140:\n",
      "                  precision    recall  f1-score   support\n",
      "\n",
      "    infringement       0.78      0.58      0.66       283\n",
      "non_infringement       0.68      0.85      0.75       298\n",
      "\n",
      "        accuracy                           0.72       581\n",
      "       macro avg       0.73      0.71      0.71       581\n",
      "    weighted avg       0.73      0.72      0.71       581\n",
      "\n"
     ]
    },
    {
     "name": "stderr",
     "output_type": "stream",
     "text": [
      "Training Epochs:  30%|███       | 152/500 [00:12<00:20, 16.82it/s]"
     ]
    },
    {
     "name": "stdout",
     "output_type": "stream",
     "text": [
      "Epoch 150/500, Loss: 0.2127\n",
      "Test Accuracy at Epoch 150: 71.26%\n",
      "Classification Report at Epoch 150:\n",
      "                  precision    recall  f1-score   support\n",
      "\n",
      "    infringement       0.77      0.58      0.66       283\n",
      "non_infringement       0.68      0.84      0.75       298\n",
      "\n",
      "        accuracy                           0.71       581\n",
      "       macro avg       0.73      0.71      0.71       581\n",
      "    weighted avg       0.72      0.71      0.71       581\n",
      "\n"
     ]
    },
    {
     "name": "stderr",
     "output_type": "stream",
     "text": [
      "Training Epochs:  32%|███▏      | 162/500 [00:12<00:21, 15.44it/s]"
     ]
    },
    {
     "name": "stdout",
     "output_type": "stream",
     "text": [
      "Epoch 160/500, Loss: 0.2037\n",
      "Test Accuracy at Epoch 160: 70.22%\n",
      "Classification Report at Epoch 160:\n",
      "                  precision    recall  f1-score   support\n",
      "\n",
      "    infringement       0.76      0.56      0.65       283\n",
      "non_infringement       0.67      0.84      0.74       298\n",
      "\n",
      "        accuracy                           0.70       581\n",
      "       macro avg       0.72      0.70      0.69       581\n",
      "    weighted avg       0.71      0.70      0.70       581\n",
      "\n"
     ]
    },
    {
     "name": "stderr",
     "output_type": "stream",
     "text": [
      "Training Epochs:  34%|███▍      | 172/500 [00:13<00:18, 17.37it/s]"
     ]
    },
    {
     "name": "stdout",
     "output_type": "stream",
     "text": [
      "Epoch 170/500, Loss: 0.1990\n",
      "Test Accuracy at Epoch 170: 69.02%\n",
      "Classification Report at Epoch 170:\n",
      "                  precision    recall  f1-score   support\n",
      "\n",
      "    infringement       0.76      0.53      0.63       283\n",
      "non_infringement       0.65      0.84      0.74       298\n",
      "\n",
      "        accuracy                           0.69       581\n",
      "       macro avg       0.71      0.69      0.68       581\n",
      "    weighted avg       0.71      0.69      0.68       581\n",
      "\n"
     ]
    },
    {
     "name": "stderr",
     "output_type": "stream",
     "text": [
      "Training Epochs:  36%|███▋      | 182/500 [00:14<00:20, 15.46it/s]"
     ]
    },
    {
     "name": "stdout",
     "output_type": "stream",
     "text": [
      "Epoch 180/500, Loss: 0.1954\n",
      "Test Accuracy at Epoch 180: 69.19%\n",
      "Classification Report at Epoch 180:\n",
      "                  precision    recall  f1-score   support\n",
      "\n",
      "    infringement       0.75      0.56      0.64       283\n",
      "non_infringement       0.66      0.82      0.73       298\n",
      "\n",
      "        accuracy                           0.69       581\n",
      "       macro avg       0.70      0.69      0.69       581\n",
      "    weighted avg       0.70      0.69      0.69       581\n",
      "\n"
     ]
    },
    {
     "name": "stderr",
     "output_type": "stream",
     "text": [
      "Training Epochs:  38%|███▊      | 190/500 [00:14<00:18, 16.82it/s]"
     ]
    },
    {
     "name": "stdout",
     "output_type": "stream",
     "text": [
      "Epoch 190/500, Loss: 0.1920\n",
      "Test Accuracy at Epoch 190: 69.71%\n",
      "Classification Report at Epoch 190:\n",
      "                  precision    recall  f1-score   support\n",
      "\n",
      "    infringement       0.77      0.54      0.64       283\n",
      "non_infringement       0.66      0.84      0.74       298\n",
      "\n",
      "        accuracy                           0.70       581\n",
      "       macro avg       0.71      0.69      0.69       581\n",
      "    weighted avg       0.71      0.70      0.69       581\n",
      "\n"
     ]
    },
    {
     "name": "stderr",
     "output_type": "stream",
     "text": [
      "Training Epochs:  41%|████      | 203/500 [00:15<00:21, 13.67it/s]"
     ]
    },
    {
     "name": "stdout",
     "output_type": "stream",
     "text": [
      "Epoch 200/500, Loss: 0.1880\n",
      "Test Accuracy at Epoch 200: 69.88%\n",
      "Classification Report at Epoch 200:\n",
      "                  precision    recall  f1-score   support\n",
      "\n",
      "    infringement       0.77      0.54      0.64       283\n",
      "non_infringement       0.66      0.85      0.74       298\n",
      "\n",
      "        accuracy                           0.70       581\n",
      "       macro avg       0.72      0.69      0.69       581\n",
      "    weighted avg       0.72      0.70      0.69       581\n",
      "\n"
     ]
    },
    {
     "name": "stderr",
     "output_type": "stream",
     "text": [
      "Training Epochs:  42%|████▏     | 212/500 [00:16<00:19, 14.81it/s]"
     ]
    },
    {
     "name": "stdout",
     "output_type": "stream",
     "text": [
      "Epoch 210/500, Loss: 0.1886\n",
      "Test Accuracy at Epoch 210: 70.22%\n",
      "Classification Report at Epoch 210:\n",
      "                  precision    recall  f1-score   support\n",
      "\n",
      "    infringement       0.78      0.55      0.64       283\n",
      "non_infringement       0.66      0.85      0.75       298\n",
      "\n",
      "        accuracy                           0.70       581\n",
      "       macro avg       0.72      0.70      0.69       581\n",
      "    weighted avg       0.72      0.70      0.69       581\n",
      "\n"
     ]
    },
    {
     "name": "stderr",
     "output_type": "stream",
     "text": [
      "Training Epochs:  45%|████▍     | 223/500 [00:17<00:15, 17.50it/s]"
     ]
    },
    {
     "name": "stdout",
     "output_type": "stream",
     "text": [
      "Epoch 220/500, Loss: 0.1871\n",
      "Test Accuracy at Epoch 220: 69.19%\n",
      "Classification Report at Epoch 220:\n",
      "                  precision    recall  f1-score   support\n",
      "\n",
      "    infringement       0.76      0.53      0.63       283\n",
      "non_infringement       0.66      0.84      0.74       298\n",
      "\n",
      "        accuracy                           0.69       581\n",
      "       macro avg       0.71      0.69      0.68       581\n",
      "    weighted avg       0.71      0.69      0.68       581\n",
      "\n"
     ]
    },
    {
     "name": "stderr",
     "output_type": "stream",
     "text": [
      "Training Epochs:  46%|████▋     | 232/500 [00:17<00:16, 16.32it/s]"
     ]
    },
    {
     "name": "stdout",
     "output_type": "stream",
     "text": [
      "Epoch 230/500, Loss: 0.1843\n",
      "Test Accuracy at Epoch 230: 70.40%\n",
      "Classification Report at Epoch 230:\n",
      "                  precision    recall  f1-score   support\n",
      "\n",
      "    infringement       0.79      0.53      0.64       283\n",
      "non_infringement       0.66      0.87      0.75       298\n",
      "\n",
      "        accuracy                           0.70       581\n",
      "       macro avg       0.73      0.70      0.69       581\n",
      "    weighted avg       0.73      0.70      0.69       581\n",
      "\n"
     ]
    },
    {
     "name": "stderr",
     "output_type": "stream",
     "text": [
      "Training Epochs:  48%|████▊     | 242/500 [00:18<00:15, 16.66it/s]"
     ]
    },
    {
     "name": "stdout",
     "output_type": "stream",
     "text": [
      "Epoch 240/500, Loss: 0.1894\n",
      "Test Accuracy at Epoch 240: 68.85%\n",
      "Classification Report at Epoch 240:\n",
      "                  precision    recall  f1-score   support\n",
      "\n",
      "    infringement       0.76      0.53      0.62       283\n",
      "non_infringement       0.65      0.84      0.73       298\n",
      "\n",
      "        accuracy                           0.69       581\n",
      "       macro avg       0.71      0.68      0.68       581\n",
      "    weighted avg       0.70      0.69      0.68       581\n",
      "\n"
     ]
    },
    {
     "name": "stderr",
     "output_type": "stream",
     "text": [
      "Training Epochs:  50%|█████     | 252/500 [00:18<00:15, 16.41it/s]"
     ]
    },
    {
     "name": "stdout",
     "output_type": "stream",
     "text": [
      "Epoch 250/500, Loss: 0.1832\n",
      "Test Accuracy at Epoch 250: 69.19%\n",
      "Classification Report at Epoch 250:\n",
      "                  precision    recall  f1-score   support\n",
      "\n",
      "    infringement       0.78      0.52      0.62       283\n",
      "non_infringement       0.65      0.86      0.74       298\n",
      "\n",
      "        accuracy                           0.69       581\n",
      "       macro avg       0.71      0.69      0.68       581\n",
      "    weighted avg       0.71      0.69      0.68       581\n",
      "\n"
     ]
    },
    {
     "name": "stderr",
     "output_type": "stream",
     "text": [
      "Training Epochs:  53%|█████▎    | 263/500 [00:19<00:13, 18.18it/s]"
     ]
    },
    {
     "name": "stdout",
     "output_type": "stream",
     "text": [
      "Epoch 260/500, Loss: 0.1815\n",
      "Test Accuracy at Epoch 260: 71.26%\n",
      "Classification Report at Epoch 260:\n",
      "                  precision    recall  f1-score   support\n",
      "\n",
      "    infringement       0.81      0.54      0.65       283\n",
      "non_infringement       0.67      0.88      0.76       298\n",
      "\n",
      "        accuracy                           0.71       581\n",
      "       macro avg       0.74      0.71      0.70       581\n",
      "    weighted avg       0.74      0.71      0.70       581\n",
      "\n"
     ]
    },
    {
     "name": "stderr",
     "output_type": "stream",
     "text": [
      "Training Epochs:  54%|█████▍    | 272/500 [00:20<00:12, 17.60it/s]"
     ]
    },
    {
     "name": "stdout",
     "output_type": "stream",
     "text": [
      "Epoch 270/500, Loss: 0.1786\n",
      "Test Accuracy at Epoch 270: 70.22%\n",
      "Classification Report at Epoch 270:\n",
      "                  precision    recall  f1-score   support\n",
      "\n",
      "    infringement       0.80      0.52      0.63       283\n",
      "non_infringement       0.66      0.88      0.75       298\n",
      "\n",
      "        accuracy                           0.70       581\n",
      "       macro avg       0.73      0.70      0.69       581\n",
      "    weighted avg       0.73      0.70      0.69       581\n",
      "\n"
     ]
    },
    {
     "name": "stderr",
     "output_type": "stream",
     "text": [
      "Training Epochs:  56%|█████▋    | 282/500 [00:20<00:13, 16.68it/s]"
     ]
    },
    {
     "name": "stdout",
     "output_type": "stream",
     "text": [
      "Epoch 280/500, Loss: 0.1806\n",
      "Test Accuracy at Epoch 280: 70.05%\n",
      "Classification Report at Epoch 280:\n",
      "                  precision    recall  f1-score   support\n",
      "\n",
      "    infringement       0.81      0.51      0.62       283\n",
      "non_infringement       0.65      0.89      0.75       298\n",
      "\n",
      "        accuracy                           0.70       581\n",
      "       macro avg       0.73      0.70      0.69       581\n",
      "    weighted avg       0.73      0.70      0.69       581\n",
      "\n"
     ]
    },
    {
     "name": "stderr",
     "output_type": "stream",
     "text": [
      "Training Epochs:  58%|█████▊    | 291/500 [00:21<00:12, 16.38it/s]"
     ]
    },
    {
     "name": "stdout",
     "output_type": "stream",
     "text": [
      "Epoch 290/500, Loss: 0.1786\n",
      "Test Accuracy at Epoch 290: 70.74%\n",
      "Classification Report at Epoch 290:\n",
      "                  precision    recall  f1-score   support\n",
      "\n",
      "    infringement       0.81      0.52      0.63       283\n",
      "non_infringement       0.66      0.89      0.76       298\n",
      "\n",
      "        accuracy                           0.71       581\n",
      "       macro avg       0.74      0.70      0.70       581\n",
      "    weighted avg       0.73      0.71      0.70       581\n",
      "\n"
     ]
    },
    {
     "name": "stderr",
     "output_type": "stream",
     "text": [
      "Training Epochs:  60%|██████    | 302/500 [00:21<00:13, 14.97it/s]"
     ]
    },
    {
     "name": "stdout",
     "output_type": "stream",
     "text": [
      "Epoch 300/500, Loss: 0.1772\n",
      "Test Accuracy at Epoch 300: 70.05%\n",
      "Classification Report at Epoch 300:\n",
      "                  precision    recall  f1-score   support\n",
      "\n",
      "    infringement       0.80      0.51      0.62       283\n",
      "non_infringement       0.66      0.88      0.75       298\n",
      "\n",
      "        accuracy                           0.70       581\n",
      "       macro avg       0.73      0.70      0.69       581\n",
      "    weighted avg       0.73      0.70      0.69       581\n",
      "\n"
     ]
    },
    {
     "name": "stderr",
     "output_type": "stream",
     "text": [
      "Training Epochs:  62%|██████▏   | 312/500 [00:22<00:12, 15.38it/s]"
     ]
    },
    {
     "name": "stdout",
     "output_type": "stream",
     "text": [
      "Epoch 310/500, Loss: 0.1750\n",
      "Test Accuracy at Epoch 310: 69.36%\n",
      "Classification Report at Epoch 310:\n",
      "                  precision    recall  f1-score   support\n",
      "\n",
      "    infringement       0.81      0.48      0.61       283\n",
      "non_infringement       0.65      0.89      0.75       298\n",
      "\n",
      "        accuracy                           0.69       581\n",
      "       macro avg       0.73      0.69      0.68       581\n",
      "    weighted avg       0.73      0.69      0.68       581\n",
      "\n"
     ]
    },
    {
     "name": "stderr",
     "output_type": "stream",
     "text": [
      "Training Epochs:  64%|██████▍   | 321/500 [00:23<00:11, 16.27it/s]"
     ]
    },
    {
     "name": "stdout",
     "output_type": "stream",
     "text": [
      "Epoch 320/500, Loss: 0.1754\n",
      "Test Accuracy at Epoch 320: 70.57%\n",
      "Classification Report at Epoch 320:\n",
      "                  precision    recall  f1-score   support\n",
      "\n",
      "    infringement       0.80      0.52      0.63       283\n",
      "non_infringement       0.66      0.88      0.75       298\n",
      "\n",
      "        accuracy                           0.71       581\n",
      "       macro avg       0.73      0.70      0.69       581\n",
      "    weighted avg       0.73      0.71      0.70       581\n",
      "\n"
     ]
    },
    {
     "name": "stderr",
     "output_type": "stream",
     "text": [
      "Training Epochs:  66%|██████▋   | 332/500 [00:23<00:10, 15.92it/s]"
     ]
    },
    {
     "name": "stdout",
     "output_type": "stream",
     "text": [
      "Epoch 330/500, Loss: 0.1759\n",
      "Test Accuracy at Epoch 330: 69.71%\n",
      "Classification Report at Epoch 330:\n",
      "                  precision    recall  f1-score   support\n",
      "\n",
      "    infringement       0.81      0.50      0.62       283\n",
      "non_infringement       0.65      0.89      0.75       298\n",
      "\n",
      "        accuracy                           0.70       581\n",
      "       macro avg       0.73      0.69      0.68       581\n",
      "    weighted avg       0.73      0.70      0.68       581\n",
      "\n"
     ]
    },
    {
     "name": "stderr",
     "output_type": "stream",
     "text": [
      "Training Epochs:  68%|██████▊   | 342/500 [00:24<00:09, 16.09it/s]"
     ]
    },
    {
     "name": "stdout",
     "output_type": "stream",
     "text": [
      "Epoch 340/500, Loss: 0.1758\n",
      "Test Accuracy at Epoch 340: 69.88%\n",
      "Classification Report at Epoch 340:\n",
      "                  precision    recall  f1-score   support\n",
      "\n",
      "    infringement       0.80      0.51      0.62       283\n",
      "non_infringement       0.65      0.88      0.75       298\n",
      "\n",
      "        accuracy                           0.70       581\n",
      "       macro avg       0.73      0.69      0.69       581\n",
      "    weighted avg       0.72      0.70      0.69       581\n",
      "\n"
     ]
    },
    {
     "name": "stderr",
     "output_type": "stream",
     "text": [
      "Training Epochs:  70%|███████   | 352/500 [00:25<00:09, 16.03it/s]"
     ]
    },
    {
     "name": "stdout",
     "output_type": "stream",
     "text": [
      "Epoch 350/500, Loss: 0.1735\n",
      "Test Accuracy at Epoch 350: 70.91%\n",
      "Classification Report at Epoch 350:\n",
      "                  precision    recall  f1-score   support\n",
      "\n",
      "    infringement       0.81      0.52      0.64       283\n",
      "non_infringement       0.66      0.89      0.76       298\n",
      "\n",
      "        accuracy                           0.71       581\n",
      "       macro avg       0.74      0.70      0.70       581\n",
      "    weighted avg       0.74      0.71      0.70       581\n",
      "\n"
     ]
    },
    {
     "name": "stderr",
     "output_type": "stream",
     "text": [
      "Training Epochs:  72%|███████▏  | 362/500 [00:25<00:09, 13.95it/s]"
     ]
    },
    {
     "name": "stdout",
     "output_type": "stream",
     "text": [
      "Epoch 360/500, Loss: 0.1866\n",
      "Test Accuracy at Epoch 360: 69.02%\n",
      "Classification Report at Epoch 360:\n",
      "                  precision    recall  f1-score   support\n",
      "\n",
      "    infringement       0.80      0.48      0.60       283\n",
      "non_infringement       0.64      0.89      0.75       298\n",
      "\n",
      "        accuracy                           0.69       581\n",
      "       macro avg       0.72      0.69      0.67       581\n",
      "    weighted avg       0.72      0.69      0.68       581\n",
      "\n"
     ]
    },
    {
     "name": "stderr",
     "output_type": "stream",
     "text": [
      "Training Epochs:  74%|███████▍  | 372/500 [00:26<00:07, 16.31it/s]"
     ]
    },
    {
     "name": "stdout",
     "output_type": "stream",
     "text": [
      "Epoch 370/500, Loss: 0.1822\n",
      "Test Accuracy at Epoch 370: 68.85%\n",
      "Classification Report at Epoch 370:\n",
      "                  precision    recall  f1-score   support\n",
      "\n",
      "    infringement       0.80      0.48      0.60       283\n",
      "non_infringement       0.64      0.89      0.75       298\n",
      "\n",
      "        accuracy                           0.69       581\n",
      "       macro avg       0.72      0.68      0.67       581\n",
      "    weighted avg       0.72      0.69      0.67       581\n",
      "\n"
     ]
    },
    {
     "name": "stderr",
     "output_type": "stream",
     "text": [
      "Training Epochs:  76%|███████▌  | 381/500 [00:26<00:08, 13.86it/s]"
     ]
    },
    {
     "name": "stdout",
     "output_type": "stream",
     "text": [
      "Epoch 380/500, Loss: 0.1778\n",
      "Test Accuracy at Epoch 380: 71.26%\n",
      "Classification Report at Epoch 380:\n",
      "                  precision    recall  f1-score   support\n",
      "\n",
      "    infringement       0.80      0.55      0.65       283\n",
      "non_infringement       0.67      0.87      0.76       298\n",
      "\n",
      "        accuracy                           0.71       581\n",
      "       macro avg       0.73      0.71      0.70       581\n",
      "    weighted avg       0.73      0.71      0.70       581\n",
      "\n"
     ]
    },
    {
     "name": "stderr",
     "output_type": "stream",
     "text": [
      "Training Epochs:  79%|███████▊  | 393/500 [00:27<00:06, 17.73it/s]"
     ]
    },
    {
     "name": "stdout",
     "output_type": "stream",
     "text": [
      "Epoch 390/500, Loss: 0.1750\n",
      "Test Accuracy at Epoch 390: 70.40%\n",
      "Classification Report at Epoch 390:\n",
      "                  precision    recall  f1-score   support\n",
      "\n",
      "    infringement       0.81      0.51      0.63       283\n",
      "non_infringement       0.66      0.89      0.75       298\n",
      "\n",
      "        accuracy                           0.70       581\n",
      "       macro avg       0.73      0.70      0.69       581\n",
      "    weighted avg       0.73      0.70      0.69       581\n",
      "\n"
     ]
    },
    {
     "name": "stderr",
     "output_type": "stream",
     "text": [
      "Training Epochs:  81%|████████  | 403/500 [00:28<00:06, 16.12it/s]"
     ]
    },
    {
     "name": "stdout",
     "output_type": "stream",
     "text": [
      "Epoch 400/500, Loss: 0.1754\n",
      "Test Accuracy at Epoch 400: 71.08%\n",
      "Classification Report at Epoch 400:\n",
      "                  precision    recall  f1-score   support\n",
      "\n",
      "    infringement       0.81      0.53      0.64       283\n",
      "non_infringement       0.66      0.88      0.76       298\n",
      "\n",
      "        accuracy                           0.71       581\n",
      "       macro avg       0.74      0.71      0.70       581\n",
      "    weighted avg       0.73      0.71      0.70       581\n",
      "\n"
     ]
    },
    {
     "name": "stderr",
     "output_type": "stream",
     "text": [
      "Training Epochs:  83%|████████▎ | 413/500 [00:29<00:05, 14.69it/s]"
     ]
    },
    {
     "name": "stdout",
     "output_type": "stream",
     "text": [
      "Epoch 410/500, Loss: 0.1729\n",
      "Test Accuracy at Epoch 410: 71.08%\n",
      "Classification Report at Epoch 410:\n",
      "                  precision    recall  f1-score   support\n",
      "\n",
      "    infringement       0.80      0.54      0.65       283\n",
      "non_infringement       0.67      0.87      0.76       298\n",
      "\n",
      "        accuracy                           0.71       581\n",
      "       macro avg       0.73      0.71      0.70       581\n",
      "    weighted avg       0.73      0.71      0.70       581\n",
      "\n"
     ]
    },
    {
     "name": "stderr",
     "output_type": "stream",
     "text": [
      "Training Epochs:  84%|████████▍ | 420/500 [00:29<00:05, 15.27it/s]"
     ]
    },
    {
     "name": "stdout",
     "output_type": "stream",
     "text": [
      "Epoch 420/500, Loss: 0.1739\n",
      "Test Accuracy at Epoch 420: 71.26%\n",
      "Classification Report at Epoch 420:\n",
      "                  precision    recall  f1-score   support\n",
      "\n",
      "    infringement       0.82      0.52      0.64       283\n",
      "non_infringement       0.66      0.89      0.76       298\n",
      "\n",
      "        accuracy                           0.71       581\n",
      "       macro avg       0.74      0.71      0.70       581\n",
      "    weighted avg       0.74      0.71      0.70       581\n",
      "\n"
     ]
    },
    {
     "name": "stderr",
     "output_type": "stream",
     "text": [
      "Training Epochs:  87%|████████▋ | 433/500 [00:30<00:04, 15.57it/s]"
     ]
    },
    {
     "name": "stdout",
     "output_type": "stream",
     "text": [
      "Epoch 430/500, Loss: 0.1742\n",
      "Test Accuracy at Epoch 430: 70.91%\n",
      "Classification Report at Epoch 430:\n",
      "                  precision    recall  f1-score   support\n",
      "\n",
      "    infringement       0.81      0.52      0.64       283\n",
      "non_infringement       0.66      0.89      0.76       298\n",
      "\n",
      "        accuracy                           0.71       581\n",
      "       macro avg       0.74      0.70      0.70       581\n",
      "    weighted avg       0.74      0.71      0.70       581\n",
      "\n"
     ]
    },
    {
     "name": "stderr",
     "output_type": "stream",
     "text": [
      "Training Epochs:  88%|████████▊ | 441/500 [00:30<00:03, 16.93it/s]"
     ]
    },
    {
     "name": "stdout",
     "output_type": "stream",
     "text": [
      "Epoch 440/500, Loss: 0.1733\n",
      "Test Accuracy at Epoch 440: 70.57%\n",
      "Classification Report at Epoch 440:\n",
      "                  precision    recall  f1-score   support\n",
      "\n",
      "    infringement       0.83      0.50      0.62       283\n",
      "non_infringement       0.66      0.90      0.76       298\n",
      "\n",
      "        accuracy                           0.71       581\n",
      "       macro avg       0.74      0.70      0.69       581\n",
      "    weighted avg       0.74      0.71      0.69       581\n",
      "\n"
     ]
    },
    {
     "name": "stderr",
     "output_type": "stream",
     "text": [
      "Training Epochs:  91%|█████████ | 453/500 [00:31<00:02, 17.71it/s]"
     ]
    },
    {
     "name": "stdout",
     "output_type": "stream",
     "text": [
      "Epoch 450/500, Loss: 0.1717\n",
      "Test Accuracy at Epoch 450: 70.22%\n",
      "Classification Report at Epoch 450:\n",
      "                  precision    recall  f1-score   support\n",
      "\n",
      "    infringement       0.82      0.50      0.62       283\n",
      "non_infringement       0.65      0.89      0.75       298\n",
      "\n",
      "        accuracy                           0.70       581\n",
      "       macro avg       0.73      0.70      0.69       581\n",
      "    weighted avg       0.73      0.70      0.69       581\n",
      "\n"
     ]
    },
    {
     "name": "stderr",
     "output_type": "stream",
     "text": [
      "Training Epochs:  92%|█████████▏| 460/500 [00:31<00:02, 16.72it/s]"
     ]
    },
    {
     "name": "stdout",
     "output_type": "stream",
     "text": [
      "Epoch 460/500, Loss: 0.1716\n",
      "Test Accuracy at Epoch 460: 70.40%\n",
      "Classification Report at Epoch 460:\n",
      "                  precision    recall  f1-score   support\n",
      "\n",
      "    infringement       0.82      0.51      0.62       283\n",
      "non_infringement       0.66      0.89      0.76       298\n",
      "\n",
      "        accuracy                           0.70       581\n",
      "       macro avg       0.74      0.70      0.69       581\n",
      "    weighted avg       0.73      0.70      0.69       581\n",
      "\n"
     ]
    },
    {
     "name": "stderr",
     "output_type": "stream",
     "text": [
      "Training Epochs:  94%|█████████▍| 472/500 [00:32<00:01, 16.65it/s]"
     ]
    },
    {
     "name": "stdout",
     "output_type": "stream",
     "text": [
      "Epoch 470/500, Loss: 0.1705\n",
      "Test Accuracy at Epoch 470: 71.08%\n",
      "Classification Report at Epoch 470:\n",
      "                  precision    recall  f1-score   support\n",
      "\n",
      "    infringement       0.81      0.53      0.64       283\n",
      "non_infringement       0.66      0.89      0.76       298\n",
      "\n",
      "        accuracy                           0.71       581\n",
      "       macro avg       0.74      0.71      0.70       581\n",
      "    weighted avg       0.74      0.71      0.70       581\n",
      "\n"
     ]
    },
    {
     "name": "stderr",
     "output_type": "stream",
     "text": [
      "Training Epochs:  96%|█████████▋| 482/500 [00:33<00:01, 14.70it/s]"
     ]
    },
    {
     "name": "stdout",
     "output_type": "stream",
     "text": [
      "Epoch 480/500, Loss: 0.1717\n",
      "Test Accuracy at Epoch 480: 69.54%\n",
      "Classification Report at Epoch 480:\n",
      "                  precision    recall  f1-score   support\n",
      "\n",
      "    infringement       0.79      0.51      0.62       283\n",
      "non_infringement       0.65      0.87      0.75       298\n",
      "\n",
      "        accuracy                           0.70       581\n",
      "       macro avg       0.72      0.69      0.68       581\n",
      "    weighted avg       0.72      0.70      0.68       581\n",
      "\n"
     ]
    },
    {
     "name": "stderr",
     "output_type": "stream",
     "text": [
      "Training Epochs:  99%|█████████▊| 493/500 [00:33<00:00, 17.10it/s]"
     ]
    },
    {
     "name": "stdout",
     "output_type": "stream",
     "text": [
      "Epoch 490/500, Loss: 0.1724\n",
      "Test Accuracy at Epoch 490: 70.74%\n",
      "Classification Report at Epoch 490:\n",
      "                  precision    recall  f1-score   support\n",
      "\n",
      "    infringement       0.79      0.54      0.64       283\n",
      "non_infringement       0.67      0.86      0.75       298\n",
      "\n",
      "        accuracy                           0.71       581\n",
      "       macro avg       0.73      0.70      0.70       581\n",
      "    weighted avg       0.73      0.71      0.70       581\n",
      "\n"
     ]
    },
    {
     "name": "stderr",
     "output_type": "stream",
     "text": [
      "Training Epochs: 100%|██████████| 500/500 [00:34<00:00, 14.42it/s]"
     ]
    },
    {
     "name": "stdout",
     "output_type": "stream",
     "text": [
      "Epoch 500/500, Loss: 0.1727\n",
      "Test Accuracy at Epoch 500: 69.71%\n",
      "Classification Report at Epoch 500:\n",
      "                  precision    recall  f1-score   support\n",
      "\n",
      "    infringement       0.79      0.51      0.62       283\n",
      "non_infringement       0.65      0.87      0.75       298\n",
      "\n",
      "        accuracy                           0.70       581\n",
      "       macro avg       0.72      0.69      0.68       581\n",
      "    weighted avg       0.72      0.70      0.69       581\n",
      "\n"
     ]
    },
    {
     "name": "stderr",
     "output_type": "stream",
     "text": [
      "\n",
      "/tmp/ipykernel_336573/1033092828.py:47: FutureWarning: You are using `torch.load` with `weights_only=False` (the current default value), which uses the default pickle module implicitly. It is possible to construct malicious pickle data which will execute arbitrary code during unpickling (See https://github.com/pytorch/pytorch/blob/main/SECURITY.md#untrusted-models for more details). In a future release, the default value for `weights_only` will be flipped to `True`. This limits the functions that could be executed during unpickling. Arbitrary objects will no longer be allowed to be loaded via this mode unless they are explicitly allowlisted by the user via `torch.serialization.add_safe_globals`. We recommend you start setting `weights_only=True` for any use case where you don't have full control of the loaded file. Please open an issue on GitHub for any issues related to this experimental feature.\n",
      "  custom_mlp.load_state_dict(torch.load(checkpoint_path))\n"
     ]
    },
    {
     "data": {
      "image/png": "[encoded data removed]",
      "text/plain": [
       "<Figure size 1000x500 with 1 Axes>"
      ]
     },
     "metadata": {},
     "output_type": "display_data"
    },
    {
     "name": "stdout",
     "output_type": "stream",
     "text": [
      "Final Model Accuracy: 72.98%\n"
     ]
    }
   ],
   "source": [
    "input_dim = X_train.shape[1]\n",
    "hidden_dim = 256 \n",
    "print(f\"Training MLP model with input_dim={input_dim} and hidden_dim={hidden_dim}\")\n",
    "\n",
    "custom_mlp, losses, best_accuracy = train_model(X_train, y_train, X_test, y_test, input_dim, hidden_dim)"
   ]
  },
  {
   "cell_type": "code",
   "execution_count": 10,
   "metadata": {},
   "outputs": [
    {
     "name": "stdout",
     "output_type": "stream",
     "text": [
      "Checkpoint saved to '/home/guangwei/LLM-COPYRIGHT/copyright_newVersion/models/train_input_reference_last_layer_MLPenhance.pth'.\n"
     ]
    }
   ],
   "source": [
    "def save_checkpoint(model, optimizer, epoch, loss, filepath):\n",
    "    checkpoint = {\n",
    "        'epoch': epoch + 1,\n",
    "        'model_state_dict': model.state_dict(),\n",
    "        'optimizer_state_dict': optimizer.state_dict(),\n",
    "        'loss': loss\n",
    "    }\n",
    "    torch.save(checkpoint, filepath)\n",
    "    print(f\"Checkpoint saved to '{filepath}'.\")\n",
    "\n",
    "save_checkpoint(custom_mlp, torch.optim.Adam(custom_mlp.parameters()), len(losses), losses[-1], checkpoint_file)"
   ]
  },
  {
   "cell_type": "code",
   "execution_count": 11,
   "metadata": {},
   "outputs": [
    {
     "name": "stdout",
     "output_type": "stream",
     "text": [
      "                  precision    recall  f1-score   support\n",
      "\n",
      "    infringement       0.80      0.59      0.68       283\n",
      "non_infringement       0.69      0.86      0.77       298\n",
      "\n",
      "        accuracy                           0.73       581\n",
      "       macro avg       0.75      0.73      0.72       581\n",
      "    weighted avg       0.74      0.73      0.72       581\n",
      "\n"
     ]
    },
    {
     "name": "stderr",
     "output_type": "stream",
     "text": [
      "/tmp/ipykernel_336573/2137335780.py:1: UserWarning: To copy construct from a tensor, it is recommended to use sourceTensor.clone().detach() or sourceTensor.clone().detach().requires_grad_(True), rather than torch.tensor(sourceTensor).\n",
      "  y_pred_final = (torch.sigmoid(torch.tensor(custom_mlp(torch.tensor(X_test, dtype=torch.float32)))) > 0.5).float().numpy()\n"
     ]
    }
   ],
   "source": [
    "y_pred_final = (torch.sigmoid(torch.tensor(custom_mlp(torch.tensor(X_test, dtype=torch.float32)))) > 0.5).float().numpy()\n",
    "print(classification_report(y_test, y_pred_final, target_names=[\"infringement\", \"non_infringement\"]))"
   ]
  }
 ],
 "metadata": {
  "kernelspec": {
   "display_name": "sit",
   "language": "python",
   "name": "python3"
  },
  "language_info": {
   "codemirror_mode": {
    "name": "ipython",
    "version": 3
   },
   "file_extension": ".py",
   "mimetype": "text/x-python",
   "name": "python",
   "nbconvert_exporter": "python",
   "pygments_lexer": "ipython3",
   "version": "3.9.20"
  }
 },
 "nbformat": 4,
 "nbformat_minor": 2
}
