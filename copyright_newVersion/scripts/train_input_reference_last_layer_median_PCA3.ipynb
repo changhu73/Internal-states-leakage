{
 "cells": [
  {
   "cell_type": "code",
   "execution_count": 14,
   "metadata": {},
   "outputs": [],
   "source": [
    "# import packages & variables\n",
    "import argparse\n",
    "import torch\n",
    "import torch.nn as nn\n",
    "import numpy as np\n",
    "from sklearn.metrics import accuracy_score, classification_report\n",
    "import matplotlib.pyplot as plt\n",
    "from tqdm import tqdm\n",
    "from transformers import AutoTokenizer, AutoModelForCausalLM, AutoModel, AutoModelForSequenceClassification\n",
    "import json\n",
    "\n",
    "# Parameters\n",
    "model_name = 'meta-llama/Meta-Llama-3.1-8B'\n",
    "non_infringement_file = '/home/guangwei/LLM-COPYRIGHT/copyright_newVersion/test_division/extra.non_infringement.json'\n",
    "infringement_file = '/home/guangwei/LLM-COPYRIGHT/copyright_newVersion/test_division/extra.infringement.json'\n",
    "checkpoint_file = '/home/guangwei/LLM-COPYRIGHT/copyright_newVersion/models/train_input_reference_last_layer_PCA3.pth'\n"
   ]
  },
  {
   "cell_type": "code",
   "execution_count": 15,
   "metadata": {},
   "outputs": [],
   "source": [
    "# Define CustumMLP for internal states train\n",
    "class CustomMLP(nn.Module):\n",
    "    def __init__(self, input_dim, hidden_dim):\n",
    "        super(CustomMLP, self).__init__()\n",
    "        self.down = nn.Linear(input_dim, hidden_dim)\n",
    "        self.gate = nn.Linear(input_dim, hidden_dim)\n",
    "        self.up = nn.Linear(hidden_dim, 1)\n",
    "        self.activation = nn.SiLU()\n",
    "\n",
    "    def forward(self, x):\n",
    "        down_output = self.down(x)\n",
    "        gate_output = self.gate(x)\n",
    "        gated_output = down_output * self.activation(gate_output)\n",
    "        return self.up(gated_output)"
   ]
  },
  {
   "cell_type": "code",
   "execution_count": 16,
   "metadata": {},
   "outputs": [],
   "source": [
    "# Extract hidden states/reference embeddings\n",
    "from sklearn.decomposition import PCA\n",
    "\n",
    "def extract_hidden_states(texts, model, tokenizer, apply_pca=True, n_components=3, batch_size=128):\n",
    "    hidden_states = []\n",
    "    for i in tqdm(range(0, len(texts), batch_size), desc=\"Processing data batches\"):\n",
    "        batch_texts = texts[i:i + batch_size]\n",
    "        inputs = tokenizer(batch_texts, return_tensors=\"pt\", padding=True, truncation=True)\n",
    "        with torch.no_grad():\n",
    "            outputs = model(**inputs)\n",
    "        hidden_state = outputs.hidden_states[-1].mean(dim=1).cpu().numpy()\n",
    "        hidden_states.append(hidden_state)\n",
    "\n",
    "    hidden_states = np.vstack(hidden_states)\n",
    "    \n",
    "    # 应用 PCA 降维\n",
    "    if apply_pca:\n",
    "        pca = PCA(n_components=n_components)\n",
    "        hidden_states = pca.fit_transform(hidden_states)\n",
    "        print(f\"Hidden states reduced to {n_components} dimensions using PCA.\")\n",
    "        \n",
    "    return hidden_states\n",
    "\n",
    "def extract_reference_embeddings(references, model, tokenizer, batch_size=128):\n",
    "    embeddings = []\n",
    "    for i in tqdm(range(0, len(references), batch_size), desc=\"Processing references\"):\n",
    "        batch_references = references[i:i + batch_size]\n",
    "        inputs = tokenizer(batch_references, return_tensors=\"pt\", padding=True, truncation=True)\n",
    "        with torch.no_grad():\n",
    "            outputs = model(**inputs)\n",
    "        embeddings.append(outputs.pooler_output.cpu().numpy())\n",
    "    return np.vstack(embeddings)"
   ]
  },
  {
   "cell_type": "code",
   "execution_count": 17,
   "metadata": {},
   "outputs": [],
   "source": [
    "# load data for infringement & non infringement\n",
    "def load_data(non_infringement_file, infringement_file):\n",
    "    with open(non_infringement_file, 'r', encoding='utf-8') as file:\n",
    "        non_infringement_json_data = json.load(file)\n",
    "\n",
    "    non_infringement_outputs = [entry['input'] for entry in non_infringement_json_data]\n",
    "    non_infringement_references = [entry['reference'] for entry in non_infringement_json_data]\n",
    "    y_non_infringement = [1] * len(non_infringement_outputs)\n",
    "\n",
    "    with open(infringement_file, 'r', encoding='utf-8') as file:\n",
    "        infringement_json_data = json.load(file)\n",
    "\n",
    "    infringement_outputs = [entry['input'] for entry in infringement_json_data]\n",
    "    infringement_references = [entry['reference'] for entry in infringement_json_data]\n",
    "    y_infringement = [0] * len(infringement_outputs)\n",
    "\n",
    "    return non_infringement_outputs, non_infringement_references, y_non_infringement, infringement_outputs, infringement_references, y_infringement"
   ]
  },
  {
   "cell_type": "code",
   "execution_count": 18,
   "metadata": {},
   "outputs": [],
   "source": [
    "# Train for best model\n",
    "def train_model(X_train, y_train, X_test, y_test, input_dim, hidden_dim, epochs=500, lr=0.001, checkpoint_path=checkpoint_file):\n",
    "    custom_mlp = CustomMLP(input_dim, hidden_dim)\n",
    "    criterion = nn.BCEWithLogitsLoss()\n",
    "    optimizer = torch.optim.Adam(custom_mlp.parameters(), lr=lr)\n",
    "\n",
    "    X_train_tensor = torch.tensor(X_train, dtype=torch.float32)\n",
    "    y_train_tensor = torch.tensor(y_train, dtype=torch.float32).unsqueeze(1)\n",
    "\n",
    "    best_accuracy = -float('inf')\n",
    "    best_model_state = None\n",
    "    best_epoch = 0\n",
    "    losses = []\n",
    "\n",
    "    for epoch in tqdm(range(epochs), desc=\"Training Epochs\"):\n",
    "        custom_mlp.train()\n",
    "        optimizer.zero_grad()\n",
    "        outputs = custom_mlp(X_train_tensor)\n",
    "        loss = criterion(outputs, y_train_tensor)\n",
    "        loss.backward()\n",
    "        optimizer.step()\n",
    "        losses.append(loss.item())\n",
    "\n",
    "        if (epoch + 1) % 10 == 0:\n",
    "            print(f\"Epoch {epoch + 1}/{epochs}, Loss: {loss.item():.4f}\")\n",
    "            \n",
    "            custom_mlp.eval()\n",
    "            X_test_tensor = torch.tensor(X_test, dtype=torch.float32)\n",
    "            with torch.no_grad():\n",
    "                y_pred_logits = custom_mlp(X_test_tensor)\n",
    "                y_pred = (torch.sigmoid(y_pred_logits) > 0.5).float().numpy()\n",
    "            \n",
    "            accuracy = accuracy_score(y_test, y_pred)\n",
    "            print(f\"Test Accuracy at Epoch {epoch + 1}: {accuracy * 100:.2f}%\")\n",
    "            \n",
    "            report = classification_report(y_test, y_pred, target_names=[\"infringement\", \"non_infringement\"])\n",
    "            print(f\"Classification Report at Epoch {epoch + 1}:\\n{report}\")\n",
    "\n",
    "            if accuracy > best_accuracy:\n",
    "                best_accuracy = accuracy\n",
    "                best_model_state = custom_mlp.state_dict()\n",
    "                best_epoch = epoch + 1\n",
    "                torch.save(best_model_state, checkpoint_path)\n",
    "                print(f\"New best model saved with accuracy {best_accuracy * 100:.2f}% at epoch {best_epoch}\")\n",
    "                print(f\"Best Classification Report at Epoch {best_epoch}:\\n{report}\")\n",
    "\n",
    "    custom_mlp.load_state_dict(torch.load(checkpoint_path))\n",
    "\n",
    "    plt.figure(figsize=(10, 5))\n",
    "    plt.plot(losses, label='Training Loss')\n",
    "    plt.xlabel('Epoch')\n",
    "    plt.ylabel('Loss')\n",
    "    plt.title('Training Loss Curve')\n",
    "    plt.legend()\n",
    "    plt.show()\n",
    "\n",
    "    print(f\"Final Model Accuracy: {best_accuracy * 100:.2f}%\")\n",
    "    \n",
    "    return custom_mlp, losses, best_accuracy"
   ]
  },
  {
   "cell_type": "code",
   "execution_count": 19,
   "metadata": {},
   "outputs": [
    {
     "name": "stderr",
     "output_type": "stream",
     "text": [
      "/home/guangwei/anaconda3/envs/sit/lib/python3.8/site-packages/transformers/generation/configuration_utils.py:777: UserWarning: `return_dict_in_generate` is NOT set to `True`, but `output_hidden_states` is. When `return_dict_in_generate` is not `True`, `output_hidden_states` is ignored.\n",
      "  warnings.warn(\n",
      "Loading checkpoint shards: 100%|██████████| 4/4 [00:02<00:00,  1.44it/s]\n",
      "/home/guangwei/anaconda3/envs/sit/lib/python3.8/site-packages/transformers/tokenization_utils_base.py:1617: FutureWarning: `clean_up_tokenization_spaces` was not set. It will be set to `True` by default. This behavior will be deprecated in transformers v4.45, and will be then set to `False` by default. For more details check this issue: https://github.com/huggingface/transformers/issues/31884\n",
      "  warnings.warn(\n"
     ]
    }
   ],
   "source": [
    "tokenizer = AutoTokenizer.from_pretrained(model_name, model_max_length=512)\n",
    "model = AutoModelForCausalLM.from_pretrained(model_name, output_hidden_states=True)\n",
    "tokenizer.pad_token = tokenizer.eos_token\n",
    "bert_tokenizer = AutoTokenizer.from_pretrained('google-bert/bert-base-uncased')\n",
    "bert_model = AutoModel.from_pretrained('google-bert/bert-base-uncased')\n",
    "bert_tokenizer.pad_token = tokenizer.eos_token\n",
    "\n",
    "non_infringement_outputs, non_infringement_references, y_non_infringement, infringement_outputs, infringement_references, y_infringement = load_data(\n",
    "    non_infringement_file, infringement_file\n",
    ")\n",
    "\n",
    "y_non_infringement = np.array(y_non_infringement)\n",
    "y_infringement = np.array(y_infringement)\n"
   ]
  },
  {
   "cell_type": "code",
   "execution_count": 20,
   "metadata": {},
   "outputs": [
    {
     "name": "stdout",
     "output_type": "stream",
     "text": [
      "Extracting hidden states for non_infringement texts...\n"
     ]
    },
    {
     "name": "stderr",
     "output_type": "stream",
     "text": [
      "Processing data batches: 100%|██████████| 12/12 [17:46<00:00, 88.90s/it]\n"
     ]
    },
    {
     "name": "stdout",
     "output_type": "stream",
     "text": [
      "Hidden states reduced to 3 dimensions using PCA.\n",
      "Extracting reference embeddings for non_infringement texts...\n"
     ]
    },
    {
     "name": "stderr",
     "output_type": "stream",
     "text": [
      "Processing references: 100%|██████████| 12/12 [00:28<00:00,  2.40s/it]\n"
     ]
    },
    {
     "name": "stdout",
     "output_type": "stream",
     "text": [
      "Extracting hidden states for infringement texts...\n"
     ]
    },
    {
     "name": "stderr",
     "output_type": "stream",
     "text": [
      "Processing data batches: 100%|██████████| 12/12 [17:45<00:00, 88.82s/it]\n"
     ]
    },
    {
     "name": "stdout",
     "output_type": "stream",
     "text": [
      "Hidden states reduced to 3 dimensions using PCA.\n",
      "Extracting reference embeddings for infringement texts...\n"
     ]
    },
    {
     "name": "stderr",
     "output_type": "stream",
     "text": [
      "Processing references: 100%|██████████| 12/12 [00:22<00:00,  1.89s/it]\n"
     ]
    }
   ],
   "source": [
    "print(\"Extracting hidden states for non_infringement texts...\")\n",
    "X_non_infringement = extract_hidden_states(non_infringement_outputs, model, tokenizer)\n",
    "print(\"Extracting reference embeddings for non_infringement texts...\")\n",
    "reference_embeddings_non_infringement = extract_reference_embeddings(non_infringement_references, bert_model, bert_tokenizer)\n",
    "X_non_infringement_combined = np.hstack([X_non_infringement, reference_embeddings_non_infringement])\n",
    "\n",
    "print(\"Extracting hidden states for infringement texts...\")\n",
    "X_infringement = extract_hidden_states(infringement_outputs, model, tokenizer)\n",
    "print(\"Extracting reference embeddings for infringement texts...\")\n",
    "reference_embeddings_infringement = extract_reference_embeddings(infringement_references, bert_model, bert_tokenizer)\n",
    "X_infringement_combined = np.hstack([X_infringement, reference_embeddings_infringement])"
   ]
  },
  {
   "cell_type": "code",
   "execution_count": 21,
   "metadata": {},
   "outputs": [
    {
     "name": "stdout",
     "output_type": "stream",
     "text": [
      "Data successfully split into training and test sets.\n"
     ]
    }
   ],
   "source": [
    "split_index_non_infringement = int(0.8 * len(X_non_infringement_combined))\n",
    "X_non_infringement_train = X_non_infringement_combined[:split_index_non_infringement]\n",
    "X_non_infringement_test = X_non_infringement_combined[split_index_non_infringement:]\n",
    "y_non_infringement_train = y_non_infringement[:split_index_non_infringement]\n",
    "y_non_infringement_test = y_non_infringement[split_index_non_infringement:]\n",
    "\n",
    "split_index_infringement = int(0.8 * len(X_infringement_combined))\n",
    "X_infringement_train = X_infringement_combined[:split_index_infringement]\n",
    "X_infringement_test = X_infringement_combined[split_index_infringement:]\n",
    "y_infringement_train = y_infringement[:split_index_infringement]\n",
    "y_infringement_test = y_infringement[split_index_infringement:]\n",
    "\n",
    "X_train = np.vstack((X_non_infringement_train, X_infringement_train))\n",
    "X_test = np.vstack((X_non_infringement_test, X_infringement_test))\n",
    "y_train = np.concatenate((y_non_infringement_train, y_infringement_train))\n",
    "y_test = np.concatenate((y_non_infringement_test, y_infringement_test))\n",
    "\n",
    "print(\"Data successfully split into training and test sets.\")"
   ]
  },
  {
   "cell_type": "code",
   "execution_count": 22,
   "metadata": {},
   "outputs": [
    {
     "name": "stdout",
     "output_type": "stream",
     "text": [
      "Training MLP model with input_dim=771 and hidden_dim=256\n"
     ]
    },
    {
     "name": "stderr",
     "output_type": "stream",
     "text": [
      "Training Epochs:   2%|▏         | 10/500 [00:00<00:05, 93.84it/s]"
     ]
    },
    {
     "name": "stdout",
     "output_type": "stream",
     "text": [
      "Epoch 10/500, Loss: 0.5767\n",
      "Test Accuracy at Epoch 10: 44.41%\n",
      "Classification Report at Epoch 10:\n",
      "                  precision    recall  f1-score   support\n",
      "\n",
      "    infringement       0.44      0.49      0.46       283\n",
      "non_infringement       0.45      0.40      0.42       298\n",
      "\n",
      "        accuracy                           0.44       581\n",
      "       macro avg       0.44      0.45      0.44       581\n",
      "    weighted avg       0.44      0.44      0.44       581\n",
      "\n",
      "New best model saved with accuracy 44.41% at epoch 10\n",
      "Best Classification Report at Epoch 10:\n",
      "                  precision    recall  f1-score   support\n",
      "\n",
      "    infringement       0.44      0.49      0.46       283\n",
      "non_infringement       0.45      0.40      0.42       298\n",
      "\n",
      "        accuracy                           0.44       581\n",
      "       macro avg       0.44      0.45      0.44       581\n",
      "    weighted avg       0.44      0.44      0.44       581\n",
      "\n",
      "Epoch 20/500, Loss: 0.5111\n",
      "Test Accuracy at Epoch 20: 53.53%\n"
     ]
    },
    {
     "name": "stderr",
     "output_type": "stream",
     "text": [
      "Training Epochs:   4%|▍         | 21/500 [00:00<00:04, 99.15it/s]"
     ]
    },
    {
     "name": "stdout",
     "output_type": "stream",
     "text": [
      "Classification Report at Epoch 20:\n",
      "                  precision    recall  f1-score   support\n",
      "\n",
      "    infringement       0.53      0.47      0.50       283\n",
      "non_infringement       0.54      0.60      0.57       298\n",
      "\n",
      "        accuracy                           0.54       581\n",
      "       macro avg       0.53      0.53      0.53       581\n",
      "    weighted avg       0.53      0.54      0.53       581\n",
      "\n",
      "New best model saved with accuracy 53.53% at epoch 20\n",
      "Best Classification Report at Epoch 20:\n",
      "                  precision    recall  f1-score   support\n",
      "\n",
      "    infringement       0.53      0.47      0.50       283\n",
      "non_infringement       0.54      0.60      0.57       298\n",
      "\n",
      "        accuracy                           0.54       581\n",
      "       macro avg       0.53      0.53      0.53       581\n",
      "    weighted avg       0.53      0.54      0.53       581\n",
      "\n",
      "Epoch 30/500, Loss: 0.5241\n",
      "Test Accuracy at Epoch 30: 58.00%\n",
      "Classification Report at Epoch 30:\n",
      "                  precision    recall  f1-score   support\n",
      "\n",
      "    infringement       0.60      0.41      0.49       283\n",
      "non_infringement       0.57      0.74      0.64       298\n",
      "\n",
      "        accuracy                           0.58       581\n",
      "       macro avg       0.59      0.58      0.57       581\n",
      "    weighted avg       0.58      0.58      0.57       581\n",
      "\n"
     ]
    },
    {
     "name": "stderr",
     "output_type": "stream",
     "text": [
      "Training Epochs:   7%|▋         | 33/500 [00:00<00:05, 86.92it/s]"
     ]
    },
    {
     "name": "stdout",
     "output_type": "stream",
     "text": [
      "New best model saved with accuracy 58.00% at epoch 30\n",
      "Best Classification Report at Epoch 30:\n",
      "                  precision    recall  f1-score   support\n",
      "\n",
      "    infringement       0.60      0.41      0.49       283\n",
      "non_infringement       0.57      0.74      0.64       298\n",
      "\n",
      "        accuracy                           0.58       581\n",
      "       macro avg       0.59      0.58      0.57       581\n",
      "    weighted avg       0.58      0.58      0.57       581\n",
      "\n"
     ]
    },
    {
     "name": "stderr",
     "output_type": "stream",
     "text": [
      "Training Epochs:   8%|▊         | 42/500 [00:00<00:05, 86.10it/s]"
     ]
    },
    {
     "name": "stdout",
     "output_type": "stream",
     "text": [
      "Epoch 40/500, Loss: 0.4406\n",
      "Test Accuracy at Epoch 40: 57.66%\n",
      "Classification Report at Epoch 40:\n",
      "                  precision    recall  f1-score   support\n",
      "\n",
      "    infringement       0.58      0.49      0.53       283\n",
      "non_infringement       0.58      0.66      0.62       298\n",
      "\n",
      "        accuracy                           0.58       581\n",
      "       macro avg       0.58      0.57      0.57       581\n",
      "    weighted avg       0.58      0.58      0.57       581\n",
      "\n"
     ]
    },
    {
     "name": "stderr",
     "output_type": "stream",
     "text": [
      "Training Epochs:  11%|█         | 54/500 [00:00<00:04, 96.03it/s]"
     ]
    },
    {
     "name": "stdout",
     "output_type": "stream",
     "text": [
      "Epoch 50/500, Loss: 0.4023\n",
      "Test Accuracy at Epoch 50: 56.63%\n",
      "Classification Report at Epoch 50:\n",
      "                  precision    recall  f1-score   support\n",
      "\n",
      "    infringement       0.56      0.54      0.55       283\n",
      "non_infringement       0.57      0.59      0.58       298\n",
      "\n",
      "        accuracy                           0.57       581\n",
      "       macro avg       0.57      0.57      0.57       581\n",
      "    weighted avg       0.57      0.57      0.57       581\n",
      "\n",
      "Epoch 60/500, Loss: 0.3631\n",
      "Test Accuracy at Epoch 60: 59.38%\n",
      "Classification Report at Epoch 60:\n",
      "                  precision    recall  f1-score   support\n",
      "\n",
      "    infringement       0.62      0.44      0.51       283\n",
      "non_infringement       0.58      0.74      0.65       298\n",
      "\n",
      "        accuracy                           0.59       581\n",
      "       macro avg       0.60      0.59      0.58       581\n",
      "    weighted avg       0.60      0.59      0.58       581\n",
      "\n",
      "New best model saved with accuracy 59.38% at epoch 60\n",
      "Best Classification Report at Epoch 60:\n",
      "                  precision    recall  f1-score   support\n",
      "\n",
      "    infringement       0.62      0.44      0.51       283\n",
      "non_infringement       0.58      0.74      0.65       298\n",
      "\n",
      "        accuracy                           0.59       581\n",
      "       macro avg       0.60      0.59      0.58       581\n",
      "    weighted avg       0.60      0.59      0.58       581\n",
      "\n"
     ]
    },
    {
     "name": "stderr",
     "output_type": "stream",
     "text": [
      "Training Epochs:  17%|█▋        | 86/500 [00:00<00:04, 85.79it/s]"
     ]
    },
    {
     "name": "stdout",
     "output_type": "stream",
     "text": [
      "Epoch 70/500, Loss: 0.3253\n",
      "Test Accuracy at Epoch 70: 60.93%\n",
      "Classification Report at Epoch 70:\n",
      "                  precision    recall  f1-score   support\n",
      "\n",
      "    infringement       0.63      0.47      0.54       283\n",
      "non_infringement       0.60      0.74      0.66       298\n",
      "\n",
      "        accuracy                           0.61       581\n",
      "       macro avg       0.61      0.61      0.60       581\n",
      "    weighted avg       0.61      0.61      0.60       581\n",
      "\n",
      "New best model saved with accuracy 60.93% at epoch 70\n",
      "Best Classification Report at Epoch 70:\n",
      "                  precision    recall  f1-score   support\n",
      "\n",
      "    infringement       0.63      0.47      0.54       283\n",
      "non_infringement       0.60      0.74      0.66       298\n",
      "\n",
      "        accuracy                           0.61       581\n",
      "       macro avg       0.61      0.61      0.60       581\n",
      "    weighted avg       0.61      0.61      0.60       581\n",
      "\n",
      "Epoch 80/500, Loss: 0.3264\n",
      "Test Accuracy at Epoch 80: 61.10%\n",
      "Classification Report at Epoch 80:\n",
      "                  precision    recall  f1-score   support\n",
      "\n",
      "    infringement       0.63      0.49      0.55       283\n",
      "non_infringement       0.60      0.73      0.66       298\n",
      "\n",
      "        accuracy                           0.61       581\n",
      "       macro avg       0.61      0.61      0.60       581\n",
      "    weighted avg       0.61      0.61      0.61       581\n",
      "\n",
      "New best model saved with accuracy 61.10% at epoch 80\n",
      "Best Classification Report at Epoch 80:\n",
      "                  precision    recall  f1-score   support\n",
      "\n",
      "    infringement       0.63      0.49      0.55       283\n",
      "non_infringement       0.60      0.73      0.66       298\n",
      "\n",
      "        accuracy                           0.61       581\n",
      "       macro avg       0.61      0.61      0.60       581\n",
      "    weighted avg       0.61      0.61      0.61       581\n",
      "\n"
     ]
    },
    {
     "name": "stderr",
     "output_type": "stream",
     "text": [
      "Training Epochs:  19%|█▉        | 96/500 [00:01<00:04, 88.16it/s]"
     ]
    },
    {
     "name": "stdout",
     "output_type": "stream",
     "text": [
      "Epoch 90/500, Loss: 0.2827\n",
      "Test Accuracy at Epoch 90: 66.78%\n",
      "Classification Report at Epoch 90:\n",
      "                  precision    recall  f1-score   support\n",
      "\n",
      "    infringement       0.67      0.64      0.65       283\n",
      "non_infringement       0.67      0.70      0.68       298\n",
      "\n",
      "        accuracy                           0.67       581\n",
      "       macro avg       0.67      0.67      0.67       581\n",
      "    weighted avg       0.67      0.67      0.67       581\n",
      "\n",
      "New best model saved with accuracy 66.78% at epoch 90\n",
      "Best Classification Report at Epoch 90:\n",
      "                  precision    recall  f1-score   support\n",
      "\n",
      "    infringement       0.67      0.64      0.65       283\n",
      "non_infringement       0.67      0.70      0.68       298\n",
      "\n",
      "        accuracy                           0.67       581\n",
      "       macro avg       0.67      0.67      0.67       581\n",
      "    weighted avg       0.67      0.67      0.67       581\n",
      "\n",
      "Epoch 100/500, Loss: 0.2531\n",
      "Test Accuracy at Epoch 100: 66.61%\n",
      "Classification Report at Epoch 100:\n",
      "                  precision    recall  f1-score   support\n",
      "\n",
      "    infringement       0.69      0.56      0.62       283\n",
      "non_infringement       0.65      0.77      0.70       298\n",
      "\n",
      "        accuracy                           0.67       581\n",
      "       macro avg       0.67      0.66      0.66       581\n",
      "    weighted avg       0.67      0.67      0.66       581\n",
      "\n"
     ]
    },
    {
     "name": "stderr",
     "output_type": "stream",
     "text": [
      "Training Epochs:  25%|██▌       | 125/500 [00:01<00:04, 84.68it/s]"
     ]
    },
    {
     "name": "stdout",
     "output_type": "stream",
     "text": [
      "Epoch 110/500, Loss: 0.3108\n",
      "Test Accuracy at Epoch 110: 63.17%\n",
      "Classification Report at Epoch 110:\n",
      "                  precision    recall  f1-score   support\n",
      "\n",
      "    infringement       0.60      0.72      0.66       283\n",
      "non_infringement       0.68      0.54      0.60       298\n",
      "\n",
      "        accuracy                           0.63       581\n",
      "       macro avg       0.64      0.63      0.63       581\n",
      "    weighted avg       0.64      0.63      0.63       581\n",
      "\n",
      "Epoch 120/500, Loss: 0.2173\n",
      "Test Accuracy at Epoch 120: 68.16%\n",
      "Classification Report at Epoch 120:\n",
      "                  precision    recall  f1-score   support\n",
      "\n",
      "    infringement       0.67      0.67      0.67       283\n",
      "non_infringement       0.69      0.69      0.69       298\n",
      "\n",
      "        accuracy                           0.68       581\n",
      "       macro avg       0.68      0.68      0.68       581\n",
      "    weighted avg       0.68      0.68      0.68       581\n",
      "\n",
      "New best model saved with accuracy 68.16% at epoch 120\n",
      "Best Classification Report at Epoch 120:\n",
      "                  precision    recall  f1-score   support\n",
      "\n",
      "    infringement       0.67      0.67      0.67       283\n",
      "non_infringement       0.69      0.69      0.69       298\n",
      "\n",
      "        accuracy                           0.68       581\n",
      "       macro avg       0.68      0.68      0.68       581\n",
      "    weighted avg       0.68      0.68      0.68       581\n",
      "\n"
     ]
    },
    {
     "name": "stderr",
     "output_type": "stream",
     "text": [
      "Training Epochs:  27%|██▋       | 134/500 [00:01<00:04, 75.70it/s]"
     ]
    },
    {
     "name": "stdout",
     "output_type": "stream",
     "text": [
      "Epoch 130/500, Loss: 0.2074\n",
      "Test Accuracy at Epoch 130: 67.13%\n",
      "Classification Report at Epoch 130:\n",
      "                  precision    recall  f1-score   support\n",
      "\n",
      "    infringement       0.69      0.59      0.63       283\n",
      "non_infringement       0.66      0.75      0.70       298\n",
      "\n",
      "        accuracy                           0.67       581\n",
      "       macro avg       0.67      0.67      0.67       581\n",
      "    weighted avg       0.67      0.67      0.67       581\n",
      "\n",
      "Epoch 140/500, Loss: 0.1843\n",
      "Test Accuracy at Epoch 140: 70.22%\n",
      "Classification Report at Epoch 140:\n",
      "                  precision    recall  f1-score   support\n",
      "\n",
      "    infringement       0.74      0.61      0.67       283\n",
      "non_infringement       0.68      0.79      0.73       298\n",
      "\n",
      "        accuracy                           0.70       581\n",
      "       macro avg       0.71      0.70      0.70       581\n",
      "    weighted avg       0.71      0.70      0.70       581\n",
      "\n",
      "New best model saved with accuracy 70.22% at epoch 140\n",
      "Best Classification Report at Epoch 140:\n",
      "                  precision    recall  f1-score   support\n",
      "\n",
      "    infringement       0.74      0.61      0.67       283\n",
      "non_infringement       0.68      0.79      0.73       298\n",
      "\n",
      "        accuracy                           0.70       581\n",
      "       macro avg       0.71      0.70      0.70       581\n",
      "    weighted avg       0.71      0.70      0.70       581\n",
      "\n"
     ]
    },
    {
     "name": "stderr",
     "output_type": "stream",
     "text": [
      "Training Epochs:  34%|███▎      | 168/500 [00:01<00:03, 95.67it/s]"
     ]
    },
    {
     "name": "stdout",
     "output_type": "stream",
     "text": [
      "Epoch 150/500, Loss: 0.1620\n",
      "Test Accuracy at Epoch 150: 72.46%\n",
      "Classification Report at Epoch 150:\n",
      "                  precision    recall  f1-score   support\n",
      "\n",
      "    infringement       0.79      0.59      0.68       283\n",
      "non_infringement       0.69      0.85      0.76       298\n",
      "\n",
      "        accuracy                           0.72       581\n",
      "       macro avg       0.74      0.72      0.72       581\n",
      "    weighted avg       0.74      0.72      0.72       581\n",
      "\n",
      "New best model saved with accuracy 72.46% at epoch 150\n",
      "Best Classification Report at Epoch 150:\n",
      "                  precision    recall  f1-score   support\n",
      "\n",
      "    infringement       0.79      0.59      0.68       283\n",
      "non_infringement       0.69      0.85      0.76       298\n",
      "\n",
      "        accuracy                           0.72       581\n",
      "       macro avg       0.74      0.72      0.72       581\n",
      "    weighted avg       0.74      0.72      0.72       581\n",
      "\n",
      "Epoch 160/500, Loss: 0.1436\n",
      "Test Accuracy at Epoch 160: 72.29%\n",
      "Classification Report at Epoch 160:\n",
      "                  precision    recall  f1-score   support\n",
      "\n",
      "    infringement       0.79      0.59      0.68       283\n",
      "non_infringement       0.69      0.85      0.76       298\n",
      "\n",
      "        accuracy                           0.72       581\n",
      "       macro avg       0.74      0.72      0.72       581\n",
      "    weighted avg       0.73      0.72      0.72       581\n",
      "\n"
     ]
    },
    {
     "name": "stderr",
     "output_type": "stream",
     "text": [
      "Training Epochs:  38%|███▊      | 189/500 [00:02<00:03, 92.27it/s]"
     ]
    },
    {
     "name": "stdout",
     "output_type": "stream",
     "text": [
      "Epoch 170/500, Loss: 0.2356\n",
      "Test Accuracy at Epoch 170: 64.03%\n",
      "Classification Report at Epoch 170:\n",
      "                  precision    recall  f1-score   support\n",
      "\n",
      "    infringement       0.76      0.38      0.51       283\n",
      "non_infringement       0.60      0.89      0.72       298\n",
      "\n",
      "        accuracy                           0.64       581\n",
      "       macro avg       0.68      0.63      0.61       581\n",
      "    weighted avg       0.68      0.64      0.62       581\n",
      "\n",
      "Epoch 180/500, Loss: 0.1745\n",
      "Test Accuracy at Epoch 180: 72.81%\n",
      "Classification Report at Epoch 180:\n",
      "                  precision    recall  f1-score   support\n",
      "\n",
      "    infringement       0.80      0.58      0.68       283\n",
      "non_infringement       0.69      0.87      0.77       298\n",
      "\n",
      "        accuracy                           0.73       581\n",
      "       macro avg       0.75      0.72      0.72       581\n",
      "    weighted avg       0.74      0.73      0.72       581\n",
      "\n",
      "New best model saved with accuracy 72.81% at epoch 180\n",
      "Best Classification Report at Epoch 180:\n",
      "                  precision    recall  f1-score   support\n",
      "\n",
      "    infringement       0.80      0.58      0.68       283\n",
      "non_infringement       0.69      0.87      0.77       298\n",
      "\n",
      "        accuracy                           0.73       581\n",
      "       macro avg       0.75      0.72      0.72       581\n",
      "    weighted avg       0.74      0.73      0.72       581\n",
      "\n",
      "Epoch 190/500, Loss: 0.1492\n",
      "Test Accuracy at Epoch 190: 71.77%\n",
      "Classification Report at Epoch 190:\n",
      "                  precision    recall  f1-score   support\n",
      "\n",
      "    infringement       0.78      0.58      0.67       283\n",
      "non_infringement       0.68      0.85      0.76       298\n",
      "\n",
      "        accuracy                           0.72       581\n",
      "       macro avg       0.73      0.71      0.71       581\n",
      "    weighted avg       0.73      0.72      0.71       581\n",
      "\n"
     ]
    },
    {
     "name": "stderr",
     "output_type": "stream",
     "text": [
      "Training Epochs:  42%|████▏     | 210/500 [00:02<00:03, 84.67it/s]"
     ]
    },
    {
     "name": "stdout",
     "output_type": "stream",
     "text": [
      "Epoch 200/500, Loss: 0.1306\n",
      "Test Accuracy at Epoch 200: 72.29%\n",
      "Classification Report at Epoch 200:\n",
      "                  precision    recall  f1-score   support\n",
      "\n",
      "    infringement       0.78      0.60      0.68       283\n",
      "non_infringement       0.69      0.84      0.76       298\n",
      "\n",
      "        accuracy                           0.72       581\n",
      "       macro avg       0.74      0.72      0.72       581\n",
      "    weighted avg       0.73      0.72      0.72       581\n",
      "\n",
      "Epoch 210/500, Loss: 0.1187\n",
      "Test Accuracy at Epoch 210: 72.81%\n",
      "Classification Report at Epoch 210:\n",
      "                  precision    recall  f1-score   support\n",
      "\n",
      "    infringement       0.79      0.60      0.68       283\n",
      "non_infringement       0.69      0.85      0.76       298\n",
      "\n",
      "        accuracy                           0.73       581\n",
      "       macro avg       0.74      0.72      0.72       581\n",
      "    weighted avg       0.74      0.73      0.72       581\n",
      "\n"
     ]
    },
    {
     "name": "stderr",
     "output_type": "stream",
     "text": [
      "Training Epochs:  47%|████▋     | 233/500 [00:02<00:02, 95.57it/s]"
     ]
    },
    {
     "name": "stdout",
     "output_type": "stream",
     "text": [
      "Epoch 220/500, Loss: 0.1091\n",
      "Test Accuracy at Epoch 220: 73.84%\n",
      "Classification Report at Epoch 220:\n",
      "                  precision    recall  f1-score   support\n",
      "\n",
      "    infringement       0.80      0.61      0.69       283\n",
      "non_infringement       0.70      0.86      0.77       298\n",
      "\n",
      "        accuracy                           0.74       581\n",
      "       macro avg       0.75      0.74      0.73       581\n",
      "    weighted avg       0.75      0.74      0.73       581\n",
      "\n",
      "New best model saved with accuracy 73.84% at epoch 220\n",
      "Best Classification Report at Epoch 220:\n",
      "                  precision    recall  f1-score   support\n",
      "\n",
      "    infringement       0.80      0.61      0.69       283\n",
      "non_infringement       0.70      0.86      0.77       298\n",
      "\n",
      "        accuracy                           0.74       581\n",
      "       macro avg       0.75      0.74      0.73       581\n",
      "    weighted avg       0.75      0.74      0.73       581\n",
      "\n",
      "Epoch 230/500, Loss: 0.1016\n",
      "Test Accuracy at Epoch 230: 73.67%\n",
      "Classification Report at Epoch 230:\n",
      "                  precision    recall  f1-score   support\n",
      "\n",
      "    infringement       0.80      0.61      0.69       283\n",
      "non_infringement       0.70      0.86      0.77       298\n",
      "\n",
      "        accuracy                           0.74       581\n",
      "       macro avg       0.75      0.73      0.73       581\n",
      "    weighted avg       0.75      0.74      0.73       581\n",
      "\n",
      "Epoch 240/500, Loss: 0.0949\n",
      "Test Accuracy at Epoch 240: 73.67%\n",
      "Classification Report at Epoch 240:\n",
      "                  precision    recall  f1-score   support\n",
      "\n",
      "    infringement       0.80      0.61      0.69       283\n",
      "non_infringement       0.70      0.86      0.77       298\n",
      "\n",
      "        accuracy                           0.74       581\n",
      "       macro avg       0.75      0.73      0.73       581\n",
      "    weighted avg       0.75      0.74      0.73       581\n",
      "\n"
     ]
    },
    {
     "name": "stderr",
     "output_type": "stream",
     "text": [
      "Training Epochs:  53%|█████▎    | 267/500 [00:02<00:02, 96.57it/s]"
     ]
    },
    {
     "name": "stdout",
     "output_type": "stream",
     "text": [
      "Epoch 250/500, Loss: 0.0886\n",
      "Test Accuracy at Epoch 250: 73.32%\n",
      "Classification Report at Epoch 250:\n",
      "                  precision    recall  f1-score   support\n",
      "\n",
      "    infringement       0.79      0.61      0.69       283\n",
      "non_infringement       0.70      0.85      0.77       298\n",
      "\n",
      "        accuracy                           0.73       581\n",
      "       macro avg       0.75      0.73      0.73       581\n",
      "    weighted avg       0.74      0.73      0.73       581\n",
      "\n",
      "Epoch 260/500, Loss: 0.0827\n",
      "Test Accuracy at Epoch 260: 73.32%\n",
      "Classification Report at Epoch 260:\n",
      "                  precision    recall  f1-score   support\n",
      "\n",
      "    infringement       0.79      0.61      0.69       283\n",
      "non_infringement       0.70      0.85      0.77       298\n",
      "\n",
      "        accuracy                           0.73       581\n",
      "       macro avg       0.75      0.73      0.73       581\n",
      "    weighted avg       0.74      0.73      0.73       581\n",
      "\n",
      "Epoch 270/500, Loss: 0.0770\n",
      "Test Accuracy at Epoch 270: 73.32%\n",
      "Classification Report at Epoch 270:\n",
      "                  precision    recall  f1-score   support\n",
      "\n",
      "    infringement       0.79      0.61      0.69       283\n",
      "non_infringement       0.70      0.85      0.77       298\n",
      "\n",
      "        accuracy                           0.73       581\n",
      "       macro avg       0.75      0.73      0.73       581\n",
      "    weighted avg       0.74      0.73      0.73       581\n",
      "\n"
     ]
    },
    {
     "name": "stderr",
     "output_type": "stream",
     "text": [
      "Training Epochs:  57%|█████▋    | 287/500 [00:03<00:02, 86.01it/s]"
     ]
    },
    {
     "name": "stdout",
     "output_type": "stream",
     "text": [
      "Epoch 280/500, Loss: 0.0715\n",
      "Test Accuracy at Epoch 280: 73.32%\n",
      "Classification Report at Epoch 280:\n",
      "                  precision    recall  f1-score   support\n",
      "\n",
      "    infringement       0.79      0.61      0.69       283\n",
      "non_infringement       0.70      0.85      0.77       298\n",
      "\n",
      "        accuracy                           0.73       581\n",
      "       macro avg       0.75      0.73      0.73       581\n",
      "    weighted avg       0.74      0.73      0.73       581\n",
      "\n",
      "Epoch 290/500, Loss: 0.0661\n",
      "Test Accuracy at Epoch 290: 72.63%\n",
      "Classification Report at Epoch 290:\n",
      "                  precision    recall  f1-score   support\n",
      "\n",
      "    infringement       0.79      0.60      0.68       283\n",
      "non_infringement       0.69      0.85      0.76       298\n",
      "\n",
      "        accuracy                           0.73       581\n",
      "       macro avg       0.74      0.72      0.72       581\n",
      "    weighted avg       0.74      0.73      0.72       581\n",
      "\n"
     ]
    },
    {
     "name": "stderr",
     "output_type": "stream",
     "text": [
      "Training Epochs:  61%|██████    | 306/500 [00:03<00:02, 88.67it/s]"
     ]
    },
    {
     "name": "stdout",
     "output_type": "stream",
     "text": [
      "Epoch 300/500, Loss: 0.0609\n",
      "Test Accuracy at Epoch 300: 72.98%\n",
      "Classification Report at Epoch 300:\n",
      "                  precision    recall  f1-score   support\n",
      "\n",
      "    infringement       0.79      0.60      0.69       283\n",
      "non_infringement       0.69      0.85      0.76       298\n",
      "\n",
      "        accuracy                           0.73       581\n",
      "       macro avg       0.74      0.73      0.72       581\n",
      "    weighted avg       0.74      0.73      0.73       581\n",
      "\n",
      "Epoch 310/500, Loss: 0.0558\n",
      "Test Accuracy at Epoch 310: 72.98%\n",
      "Classification Report at Epoch 310:\n",
      "                  precision    recall  f1-score   support\n",
      "\n",
      "    infringement       0.79      0.60      0.69       283\n",
      "non_infringement       0.69      0.85      0.76       298\n",
      "\n",
      "        accuracy                           0.73       581\n",
      "       macro avg       0.74      0.73      0.72       581\n",
      "    weighted avg       0.74      0.73      0.73       581\n",
      "\n"
     ]
    },
    {
     "name": "stderr",
     "output_type": "stream",
     "text": [
      "Training Epochs:  68%|██████▊   | 339/500 [00:03<00:01, 92.13it/s]"
     ]
    },
    {
     "name": "stdout",
     "output_type": "stream",
     "text": [
      "Epoch 320/500, Loss: 0.2255\n",
      "Test Accuracy at Epoch 320: 70.22%\n",
      "Classification Report at Epoch 320:\n",
      "                  precision    recall  f1-score   support\n",
      "\n",
      "    infringement       0.69      0.70      0.69       283\n",
      "non_infringement       0.71      0.71      0.71       298\n",
      "\n",
      "        accuracy                           0.70       581\n",
      "       macro avg       0.70      0.70      0.70       581\n",
      "    weighted avg       0.70      0.70      0.70       581\n",
      "\n",
      "Epoch 330/500, Loss: 0.0831\n",
      "Test Accuracy at Epoch 330: 71.08%\n",
      "Classification Report at Epoch 330:\n",
      "                  precision    recall  f1-score   support\n",
      "\n",
      "    infringement       0.76      0.59      0.67       283\n",
      "non_infringement       0.68      0.83      0.75       298\n",
      "\n",
      "        accuracy                           0.71       581\n",
      "       macro avg       0.72      0.71      0.71       581\n",
      "    weighted avg       0.72      0.71      0.71       581\n",
      "\n",
      "Epoch 340/500, Loss: 0.0659\n",
      "Test Accuracy at Epoch 340: 72.46%\n",
      "Classification Report at Epoch 340:\n",
      "                  precision    recall  f1-score   support\n",
      "\n",
      "    infringement       0.79      0.59      0.68       283\n",
      "non_infringement       0.69      0.85      0.76       298\n",
      "\n",
      "        accuracy                           0.72       581\n",
      "       macro avg       0.74      0.72      0.72       581\n",
      "    weighted avg       0.74      0.72      0.72       581\n",
      "\n"
     ]
    },
    {
     "name": "stderr",
     "output_type": "stream",
     "text": [
      "Training Epochs:  72%|███████▏  | 360/500 [00:04<00:01, 92.27it/s]"
     ]
    },
    {
     "name": "stdout",
     "output_type": "stream",
     "text": [
      "Epoch 350/500, Loss: 0.0544\n",
      "Test Accuracy at Epoch 350: 72.46%\n",
      "Classification Report at Epoch 350:\n",
      "                  precision    recall  f1-score   support\n",
      "\n",
      "    infringement       0.80      0.58      0.67       283\n",
      "non_infringement       0.68      0.86      0.76       298\n",
      "\n",
      "        accuracy                           0.72       581\n",
      "       macro avg       0.74      0.72      0.72       581\n",
      "    weighted avg       0.74      0.72      0.72       581\n",
      "\n",
      "Epoch 360/500, Loss: 0.0494\n",
      "Test Accuracy at Epoch 360: 71.94%\n",
      "Classification Report at Epoch 360:\n",
      "                  precision    recall  f1-score   support\n",
      "\n",
      "    infringement       0.79      0.58      0.67       283\n",
      "non_infringement       0.68      0.86      0.76       298\n",
      "\n",
      "        accuracy                           0.72       581\n",
      "       macro avg       0.74      0.72      0.71       581\n",
      "    weighted avg       0.73      0.72      0.71       581\n",
      "\n"
     ]
    },
    {
     "name": "stderr",
     "output_type": "stream",
     "text": [
      "Training Epochs:  76%|███████▋  | 382/500 [00:04<00:01, 100.38it/s]"
     ]
    },
    {
     "name": "stdout",
     "output_type": "stream",
     "text": [
      "Epoch 370/500, Loss: 0.0440\n",
      "Test Accuracy at Epoch 370: 72.63%\n",
      "Classification Report at Epoch 370:\n",
      "                  precision    recall  f1-score   support\n",
      "\n",
      "    infringement       0.80      0.59      0.68       283\n",
      "non_infringement       0.69      0.86      0.76       298\n",
      "\n",
      "        accuracy                           0.73       581\n",
      "       macro avg       0.74      0.72      0.72       581\n",
      "    weighted avg       0.74      0.73      0.72       581\n",
      "\n",
      "Epoch 380/500, Loss: 0.0406\n",
      "Test Accuracy at Epoch 380: 72.63%\n",
      "Classification Report at Epoch 380:\n",
      "                  precision    recall  f1-score   support\n",
      "\n",
      "    infringement       0.80      0.59      0.68       283\n",
      "non_infringement       0.69      0.86      0.76       298\n",
      "\n",
      "        accuracy                           0.73       581\n",
      "       macro avg       0.74      0.72      0.72       581\n",
      "    weighted avg       0.74      0.73      0.72       581\n",
      "\n",
      "Epoch 390/500, Loss: 0.0378\n",
      "Test Accuracy at Epoch 390: 72.63%\n",
      "Classification Report at Epoch 390:\n",
      "                  precision    recall  f1-score   support\n",
      "\n",
      "    infringement       0.80      0.59      0.68       283\n",
      "non_infringement       0.69      0.86      0.76       298\n",
      "\n",
      "        accuracy                           0.73       581\n",
      "       macro avg       0.74      0.72      0.72       581\n",
      "    weighted avg       0.74      0.73      0.72       581\n",
      "\n"
     ]
    },
    {
     "name": "stderr",
     "output_type": "stream",
     "text": [
      "Training Epochs:  83%|████████▎ | 417/500 [00:04<00:00, 102.22it/s]"
     ]
    },
    {
     "name": "stdout",
     "output_type": "stream",
     "text": [
      "Epoch 400/500, Loss: 0.0353\n",
      "Test Accuracy at Epoch 400: 72.63%\n",
      "Classification Report at Epoch 400:\n",
      "                  precision    recall  f1-score   support\n",
      "\n",
      "    infringement       0.80      0.59      0.68       283\n",
      "non_infringement       0.69      0.86      0.76       298\n",
      "\n",
      "        accuracy                           0.73       581\n",
      "       macro avg       0.74      0.72      0.72       581\n",
      "    weighted avg       0.74      0.73      0.72       581\n",
      "\n",
      "Epoch 410/500, Loss: 0.0331\n",
      "Test Accuracy at Epoch 410: 72.63%\n",
      "Classification Report at Epoch 410:\n",
      "                  precision    recall  f1-score   support\n",
      "\n",
      "    infringement       0.80      0.59      0.68       283\n",
      "non_infringement       0.69      0.86      0.76       298\n",
      "\n",
      "        accuracy                           0.73       581\n",
      "       macro avg       0.74      0.72      0.72       581\n",
      "    weighted avg       0.74      0.73      0.72       581\n",
      "\n",
      "Epoch 420/500, Loss: 0.0310\n",
      "Test Accuracy at Epoch 420: 72.63%\n",
      "Classification Report at Epoch 420:\n",
      "                  precision    recall  f1-score   support\n",
      "\n",
      "    infringement       0.80      0.59      0.68       283\n",
      "non_infringement       0.69      0.86      0.76       298\n",
      "\n",
      "        accuracy                           0.73       581\n",
      "       macro avg       0.74      0.72      0.72       581\n",
      "    weighted avg       0.74      0.73      0.72       581\n",
      "\n"
     ]
    },
    {
     "name": "stderr",
     "output_type": "stream",
     "text": [
      "Training Epochs:  88%|████████▊ | 440/500 [00:04<00:00, 90.26it/s] "
     ]
    },
    {
     "name": "stdout",
     "output_type": "stream",
     "text": [
      "Epoch 430/500, Loss: 0.0291\n",
      "Test Accuracy at Epoch 430: 72.63%\n",
      "Classification Report at Epoch 430:\n",
      "                  precision    recall  f1-score   support\n",
      "\n",
      "    infringement       0.80      0.59      0.68       283\n",
      "non_infringement       0.69      0.86      0.76       298\n",
      "\n",
      "        accuracy                           0.73       581\n",
      "       macro avg       0.74      0.72      0.72       581\n",
      "    weighted avg       0.74      0.73      0.72       581\n",
      "\n",
      "Epoch 440/500, Loss: 0.0273\n",
      "Test Accuracy at Epoch 440: 72.63%\n",
      "Classification Report at Epoch 440:\n",
      "                  precision    recall  f1-score   support\n",
      "\n",
      "    infringement       0.80      0.59      0.68       283\n",
      "non_infringement       0.69      0.86      0.76       298\n",
      "\n",
      "        accuracy                           0.73       581\n",
      "       macro avg       0.74      0.72      0.72       581\n",
      "    weighted avg       0.74      0.73      0.72       581\n",
      "\n"
     ]
    },
    {
     "name": "stderr",
     "output_type": "stream",
     "text": [
      "Training Epochs:  93%|█████████▎| 464/500 [00:05<00:00, 101.77it/s]"
     ]
    },
    {
     "name": "stdout",
     "output_type": "stream",
     "text": [
      "Epoch 450/500, Loss: 0.0256\n",
      "Test Accuracy at Epoch 450: 72.63%\n",
      "Classification Report at Epoch 450:\n",
      "                  precision    recall  f1-score   support\n",
      "\n",
      "    infringement       0.80      0.59      0.68       283\n",
      "non_infringement       0.69      0.86      0.76       298\n",
      "\n",
      "        accuracy                           0.73       581\n",
      "       macro avg       0.74      0.72      0.72       581\n",
      "    weighted avg       0.74      0.73      0.72       581\n",
      "\n",
      "Epoch 460/500, Loss: 0.0241\n",
      "Test Accuracy at Epoch 460: 72.63%\n",
      "Classification Report at Epoch 460:\n",
      "                  precision    recall  f1-score   support\n",
      "\n",
      "    infringement       0.80      0.59      0.68       283\n",
      "non_infringement       0.69      0.86      0.76       298\n",
      "\n",
      "        accuracy                           0.73       581\n",
      "       macro avg       0.74      0.72      0.72       581\n",
      "    weighted avg       0.74      0.73      0.72       581\n",
      "\n"
     ]
    },
    {
     "name": "stderr",
     "output_type": "stream",
     "text": [
      "Training Epochs:  97%|█████████▋| 487/500 [00:05<00:00, 99.27it/s] "
     ]
    },
    {
     "name": "stdout",
     "output_type": "stream",
     "text": [
      "Epoch 470/500, Loss: 0.0226\n",
      "Test Accuracy at Epoch 470: 72.63%\n",
      "Classification Report at Epoch 470:\n",
      "                  precision    recall  f1-score   support\n",
      "\n",
      "    infringement       0.80      0.59      0.68       283\n",
      "non_infringement       0.69      0.86      0.76       298\n",
      "\n",
      "        accuracy                           0.73       581\n",
      "       macro avg       0.74      0.72      0.72       581\n",
      "    weighted avg       0.74      0.73      0.72       581\n",
      "\n",
      "Epoch 480/500, Loss: 0.0212\n",
      "Test Accuracy at Epoch 480: 72.63%\n",
      "Classification Report at Epoch 480:\n",
      "                  precision    recall  f1-score   support\n",
      "\n",
      "    infringement       0.80      0.59      0.68       283\n",
      "non_infringement       0.69      0.86      0.76       298\n",
      "\n",
      "        accuracy                           0.73       581\n",
      "       macro avg       0.74      0.72      0.72       581\n",
      "    weighted avg       0.74      0.73      0.72       581\n",
      "\n",
      "Epoch 490/500, Loss: 0.0199\n",
      "Test Accuracy at Epoch 490: 72.81%\n",
      "Classification Report at Epoch 490:\n",
      "                  precision    recall  f1-score   support\n",
      "\n",
      "    infringement       0.80      0.59      0.68       283\n",
      "non_infringement       0.69      0.86      0.76       298\n",
      "\n",
      "        accuracy                           0.73       581\n",
      "       macro avg       0.74      0.72      0.72       581\n",
      "    weighted avg       0.74      0.73      0.72       581\n",
      "\n"
     ]
    },
    {
     "name": "stderr",
     "output_type": "stream",
     "text": [
      "Training Epochs: 100%|██████████| 500/500 [00:05<00:00, 91.76it/s] \n",
      "/tmp/ipykernel_326179/1033092828.py:47: FutureWarning: You are using `torch.load` with `weights_only=False` (the current default value), which uses the default pickle module implicitly. It is possible to construct malicious pickle data which will execute arbitrary code during unpickling (See https://github.com/pytorch/pytorch/blob/main/SECURITY.md#untrusted-models for more details). In a future release, the default value for `weights_only` will be flipped to `True`. This limits the functions that could be executed during unpickling. Arbitrary objects will no longer be allowed to be loaded via this mode unless they are explicitly allowlisted by the user via `torch.serialization.add_safe_globals`. We recommend you start setting `weights_only=True` for any use case where you don't have full control of the loaded file. Please open an issue on GitHub for any issues related to this experimental feature.\n",
      "  custom_mlp.load_state_dict(torch.load(checkpoint_path))\n"
     ]
    },
    {
     "name": "stdout",
     "output_type": "stream",
     "text": [
      "Epoch 500/500, Loss: 0.0187\n",
      "Test Accuracy at Epoch 500: 72.81%\n",
      "Classification Report at Epoch 500:\n",
      "                  precision    recall  f1-score   support\n",
      "\n",
      "    infringement       0.80      0.59      0.68       283\n",
      "non_infringement       0.69      0.86      0.76       298\n",
      "\n",
      "        accuracy                           0.73       581\n",
      "       macro avg       0.74      0.72      0.72       581\n",
      "    weighted avg       0.74      0.73      0.72       581\n",
      "\n"
     ]
    },
    {
     "data": {
      "image/png": "[encoded data removed]",
      "text/plain": [
       "<Figure size 1000x500 with 1 Axes>"
      ]
     },
     "metadata": {},
     "output_type": "display_data"
    },
    {
     "name": "stdout",
     "output_type": "stream",
     "text": [
      "Final Model Accuracy: 73.84%\n"
     ]
    }
   ],
   "source": [
    "input_dim = X_train.shape[1]\n",
    "hidden_dim = 256 \n",
    "print(f\"Training MLP model with input_dim={input_dim} and hidden_dim={hidden_dim}\")\n",
    "\n",
    "custom_mlp, losses, best_accuracy = train_model(X_train, y_train, X_test, y_test, input_dim, hidden_dim)"
   ]
  },
  {
   "cell_type": "code",
   "execution_count": 23,
   "metadata": {},
   "outputs": [
    {
     "name": "stdout",
     "output_type": "stream",
     "text": [
      "Checkpoint saved to '/home/guangwei/LLM-COPYRIGHT/copyright_newVersion/models/train_input_reference_last_layer_PCA3.pth'.\n"
     ]
    }
   ],
   "source": [
    "def save_checkpoint(model, optimizer, epoch, loss, filepath):\n",
    "    checkpoint = {\n",
    "        'epoch': epoch + 1,\n",
    "        'model_state_dict': model.state_dict(),\n",
    "        'optimizer_state_dict': optimizer.state_dict(),\n",
    "        'loss': loss\n",
    "    }\n",
    "    torch.save(checkpoint, filepath)\n",
    "    print(f\"Checkpoint saved to '{filepath}'.\")\n",
    "\n",
    "save_checkpoint(custom_mlp, torch.optim.Adam(custom_mlp.parameters()), len(losses), losses[-1], checkpoint_file)"
   ]
  },
  {
   "cell_type": "code",
   "execution_count": 24,
   "metadata": {},
   "outputs": [
    {
     "name": "stdout",
     "output_type": "stream",
     "text": [
      "                  precision    recall  f1-score   support\n",
      "\n",
      "    infringement       0.80      0.61      0.69       283\n",
      "non_infringement       0.70      0.86      0.77       298\n",
      "\n",
      "        accuracy                           0.74       581\n",
      "       macro avg       0.75      0.74      0.73       581\n",
      "    weighted avg       0.75      0.74      0.73       581\n",
      "\n"
     ]
    },
    {
     "name": "stderr",
     "output_type": "stream",
     "text": [
      "/tmp/ipykernel_326179/2137335780.py:1: UserWarning: To copy construct from a tensor, it is recommended to use sourceTensor.clone().detach() or sourceTensor.clone().detach().requires_grad_(True), rather than torch.tensor(sourceTensor).\n",
      "  y_pred_final = (torch.sigmoid(torch.tensor(custom_mlp(torch.tensor(X_test, dtype=torch.float32)))) > 0.5).float().numpy()\n"
     ]
    }
   ],
   "source": [
    "y_pred_final = (torch.sigmoid(torch.tensor(custom_mlp(torch.tensor(X_test, dtype=torch.float32)))) > 0.5).float().numpy()\n",
    "print(classification_report(y_test, y_pred_final, target_names=[\"infringement\", \"non_infringement\"]))"
   ]
  },
  {
   "cell_type": "code",
   "execution_count": 25,
   "metadata": {},
   "outputs": [
    {
     "data": {
      "image/png": "[encoded data removed]",
      "text/plain": [
       "<Figure size 1000x500 with 1 Axes>"
      ]
     },
     "metadata": {},
     "output_type": "display_data"
    }
   ],
   "source": [
    "import numpy as np\n",
    "import torch\n",
    "from sklearn.decomposition import PCA\n",
    "import matplotlib.pyplot as plt\n",
    "\n",
    "# PCA 降维\n",
    "pca = PCA(n_components=2)\n",
    "hidden_states_pca = pca.fit_transform(X_non_infringement)\n",
    "reference_embeddings_pca = pca.fit_transform(reference_embeddings_non_infringement)\n",
    "\n",
    "# 绘制 internal states 和 reference embeddings，使用不同颜色区分\n",
    "plt.figure(figsize=(10, 5))\n",
    "\n",
    "# 绘制 internal states (蓝色)\n",
    "plt.scatter(hidden_states_pca[:, 0], hidden_states_pca[:, 1], c='blue', label='Internal States')\n",
    "\n",
    "# 绘制 reference embeddings (红色)\n",
    "plt.scatter(reference_embeddings_pca[:, 0], reference_embeddings_pca[:, 1], c='red', label='Reference Embeddings')\n",
    "\n",
    "plt.title(\"PCA of Internal States and Reference Embeddings\")\n",
    "plt.legend()\n",
    "\n",
    "plt.show()\n",
    "\n",
    "# # 计算欧氏距离和余弦相似度\n",
    "# from sklearn.metrics.pairwise import cosine_similarity, euclidean_distances\n",
    "\n",
    "# euclidean_dist = euclidean_distances(reference_embeddings_non_infringement, X_non_infringement_combined)\n",
    "# cosine_sim = cosine_similarity(reference_embeddings_non_infringement, X_non_infringement_combined)\n",
    "\n",
    "# print(\"Euclidean Distance Matrix Shape: \", euclidean_dist.shape)\n",
    "# print(\"Cosine Similarity Matrix Shape: \", cosine_sim.shape)\n"
   ]
  }
 ],
 "metadata": {
  "kernelspec": {
   "display_name": "sit",
   "language": "python",
   "name": "python3"
  },
  "language_info": {
   "codemirror_mode": {
    "name": "ipython",
    "version": 3
   },
   "file_extension": ".py",
   "mimetype": "text/x-python",
   "name": "python",
   "nbconvert_exporter": "python",
   "pygments_lexer": "ipython3",
   "version": "3.8.10"
  }
 },
 "nbformat": 4,
 "nbformat_minor": 2
}
