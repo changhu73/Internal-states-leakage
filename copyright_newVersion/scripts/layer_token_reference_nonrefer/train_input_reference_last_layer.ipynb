{
 "cells": [
  {
   "cell_type": "code",
   "execution_count": 12,
   "metadata": {},
   "outputs": [],
   "source": [
    "# import packages & variables\n",
    "import argparse\n",
    "import torch\n",
    "import torch.nn as nn\n",
    "import numpy as np\n",
    "from sklearn.metrics import accuracy_score, classification_report\n",
    "import matplotlib.pyplot as plt\n",
    "from tqdm import tqdm\n",
    "from transformers import AutoTokenizer, AutoModelForCausalLM, AutoModel, AutoModelForSequenceClassification\n",
    "import json\n",
    "import os\n",
    "\n",
    "os.environ[\"CUDA_VISIBLE_DEVICES\"] = \"5\"\n",
    "\n",
    "# Parameters\n",
    "model_name = 'meta-llama/Meta-Llama-3.1-8B'\n",
    "non_infringement_file = '/home/guangwei/LLM-COPYRIGHT/copyright_newVersion/test_division/extra_30.non_infringement.json'\n",
    "infringement_file = '/home/guangwei/LLM-COPYRIGHT/copyright_newVersion/test_division/extra_30.infringement.json'\n",
    "checkpoint_file = '/home/guangwei/LLM-COPYRIGHT/copyright_newVersion/models/train_input_reference_last_layer.pth'\n"
   ]
  },
  {
   "cell_type": "code",
   "execution_count": 13,
   "metadata": {},
   "outputs": [],
   "source": [
    "# Define CustumMLP for internal states train\n",
    "class CustomMLP(nn.Module):\n",
    "    def __init__(self, input_dim, hidden_dim):\n",
    "        super(CustomMLP, self).__init__()\n",
    "        self.down = nn.Linear(input_dim, hidden_dim)\n",
    "        self.gate = nn.Linear(input_dim, hidden_dim)\n",
    "        self.up = nn.Linear(hidden_dim, 1)\n",
    "        self.activation = nn.SiLU()\n",
    "\n",
    "    def forward(self, x):\n",
    "        down_output = self.down(x)\n",
    "        gate_output = self.gate(x)\n",
    "        gated_output = down_output * self.activation(gate_output)\n",
    "        return self.up(gated_output)"
   ]
  },
  {
   "cell_type": "code",
   "execution_count": 14,
   "metadata": {},
   "outputs": [],
   "source": [
    "# Extract hidden states/reference embeddings\n",
    "def extract_hidden_states(texts, model, tokenizer, batch_size=4):\n",
    "    device = torch.device(\"cuda\" if torch.cuda.is_available() else \"cpu\")\n",
    "    model.to(device)\n",
    "    model = nn.DataParallel(model)\n",
    "    hidden_states = []\n",
    "    for i in tqdm(range(0, len(texts), batch_size), desc=\"Processing data batches\"):\n",
    "        batch_texts = texts[i:i + batch_size]\n",
    "        inputs = tokenizer(batch_texts, return_tensors=\"pt\", padding=True, truncation=True).to(device)\n",
    "        with torch.no_grad():\n",
    "            outputs = model(**inputs)\n",
    "        hidden_states.append(outputs.hidden_states[-1].mean(dim=1).cpu().numpy())\n",
    "    return np.vstack(hidden_states)\n",
    "\n",
    "def extract_reference_embeddings(references, model, tokenizer, batch_size=4):\n",
    "    device = torch.device(\"cuda\" if torch.cuda.is_available() else \"cpu\")\n",
    "    model.to(device)\n",
    "    model = nn.DataParallel(model)\n",
    "    embeddings = []\n",
    "    for i in tqdm(range(0, len(references), batch_size), desc=\"Processing references\"):\n",
    "        batch_references = references[i:i + batch_size]\n",
    "        inputs = tokenizer(batch_references, return_tensors=\"pt\", padding=True, truncation=True).to(device)\n",
    "        with torch.no_grad():\n",
    "            outputs = model(**inputs)\n",
    "        embeddings.append(outputs.pooler_output.cpu().numpy())\n",
    "    return np.vstack(embeddings)"
   ]
  },
  {
   "cell_type": "code",
   "execution_count": 15,
   "metadata": {},
   "outputs": [],
   "source": [
    "# load data for infringement & non infringement\n",
    "def load_data(non_infringement_file, infringement_file):\n",
    "    with open(non_infringement_file, 'r', encoding='utf-8') as file:\n",
    "        non_infringement_json_data = json.load(file)\n",
    "\n",
    "    non_infringement_outputs = [entry['input'] for entry in non_infringement_json_data]\n",
    "    non_infringement_references = [entry['reference'] for entry in non_infringement_json_data]\n",
    "    y_non_infringement = [1] * len(non_infringement_outputs)\n",
    "\n",
    "    with open(infringement_file, 'r', encoding='utf-8') as file:\n",
    "        infringement_json_data = json.load(file)\n",
    "\n",
    "    infringement_outputs = [entry['input'] for entry in infringement_json_data]\n",
    "    infringement_references = [entry['reference'] for entry in infringement_json_data]\n",
    "    y_infringement = [0] * len(infringement_outputs)\n",
    "\n",
    "    return non_infringement_outputs, non_infringement_references, y_non_infringement, infringement_outputs, infringement_references, y_infringement"
   ]
  },
  {
   "cell_type": "code",
   "execution_count": 16,
   "metadata": {},
   "outputs": [],
   "source": [
    "# Train for best model\n",
    "def train_model(X_train, y_train, X_test, y_test, input_dim, hidden_dim, epochs=500, lr=0.001, checkpoint_path=checkpoint_file):\n",
    "    custom_mlp = CustomMLP(input_dim, hidden_dim)\n",
    "    criterion = nn.BCEWithLogitsLoss()\n",
    "    optimizer = torch.optim.Adam(custom_mlp.parameters(), lr=lr)\n",
    "\n",
    "    X_train_tensor = torch.tensor(X_train, dtype=torch.float32)\n",
    "    y_train_tensor = torch.tensor(y_train, dtype=torch.float32).unsqueeze(1)\n",
    "\n",
    "    best_accuracy = -float('inf')\n",
    "    best_model_state = None\n",
    "    best_epoch = 0\n",
    "    losses = []\n",
    "\n",
    "    for epoch in tqdm(range(epochs), desc=\"Training Epochs\"):\n",
    "        custom_mlp.train()\n",
    "        optimizer.zero_grad()\n",
    "        outputs = custom_mlp(X_train_tensor)\n",
    "        loss = criterion(outputs, y_train_tensor)\n",
    "        loss.backward()\n",
    "        optimizer.step()\n",
    "        losses.append(loss.item())\n",
    "\n",
    "        if (epoch + 1) % 10 == 0:\n",
    "            print(f\"Epoch {epoch + 1}/{epochs}, Loss: {loss.item():.4f}\")\n",
    "            \n",
    "            custom_mlp.eval()\n",
    "            X_test_tensor = torch.tensor(X_test, dtype=torch.float32)\n",
    "            with torch.no_grad():\n",
    "                y_pred_logits = custom_mlp(X_test_tensor)\n",
    "                y_pred = (torch.sigmoid(y_pred_logits) > 0.5).float().numpy()\n",
    "            \n",
    "            accuracy = accuracy_score(y_test, y_pred)\n",
    "            print(f\"Test Accuracy at Epoch {epoch + 1}: {accuracy * 100:.2f}%\")\n",
    "            \n",
    "            report = classification_report(y_test, y_pred, target_names=[\"infringement\", \"non_infringement\"])\n",
    "            print(f\"Classification Report at Epoch {epoch + 1}:\\n{report}\")\n",
    "\n",
    "            if accuracy > best_accuracy:\n",
    "                best_accuracy = accuracy\n",
    "                best_model_state = custom_mlp.state_dict()\n",
    "                best_epoch = epoch + 1\n",
    "                torch.save(best_model_state, checkpoint_path)\n",
    "                print(f\"New best model saved with accuracy {best_accuracy * 100:.2f}% at epoch {best_epoch}\")\n",
    "                print(f\"Best Classification Report at Epoch {best_epoch}:\\n{report}\")\n",
    "\n",
    "    custom_mlp.load_state_dict(torch.load(checkpoint_path))\n",
    "\n",
    "    plt.figure(figsize=(10, 5))\n",
    "    plt.plot(losses, label='Training Loss')\n",
    "    plt.xlabel('Epoch')\n",
    "    plt.ylabel('Loss')\n",
    "    plt.title('Training Loss Curve')\n",
    "    plt.legend()\n",
    "    plt.show()\n",
    "\n",
    "    print(f\"Final Model Accuracy: {best_accuracy * 100:.2f}%\")\n",
    "    \n",
    "    return custom_mlp, losses, best_accuracy"
   ]
  },
  {
   "cell_type": "code",
   "execution_count": 17,
   "metadata": {},
   "outputs": [
    {
     "name": "stderr",
     "output_type": "stream",
     "text": [
      "/home/guangwei/miniconda3/envs/zdh/lib/python3.9/site-packages/transformers/generation/configuration_utils.py:777: UserWarning: `return_dict_in_generate` is NOT set to `True`, but `output_hidden_states` is. When `return_dict_in_generate` is not `True`, `output_hidden_states` is ignored.\n",
      "  warnings.warn(\n",
      "Loading checkpoint shards: 100%|██████████| 4/4 [00:03<00:00,  1.32it/s]\n"
     ]
    }
   ],
   "source": [
    "tokenizer = AutoTokenizer.from_pretrained(model_name, model_max_length=512)\n",
    "model = AutoModelForCausalLM.from_pretrained(model_name, output_hidden_states=True)\n",
    "tokenizer.pad_token = tokenizer.eos_token\n",
    "bert_tokenizer = AutoTokenizer.from_pretrained('google-bert/bert-base-uncased')\n",
    "bert_model = AutoModel.from_pretrained('google-bert/bert-base-uncased')\n",
    "bert_tokenizer.pad_token = tokenizer.eos_token\n",
    "\n",
    "non_infringement_outputs, non_infringement_references, y_non_infringement, infringement_outputs, infringement_references, y_infringement = load_data(\n",
    "    non_infringement_file, infringement_file\n",
    ")\n",
    "\n",
    "y_non_infringement = np.array(y_non_infringement)\n",
    "y_infringement = np.array(y_infringement)\n"
   ]
  },
  {
   "cell_type": "code",
   "execution_count": 18,
   "metadata": {},
   "outputs": [
    {
     "name": "stdout",
     "output_type": "stream",
     "text": [
      "Extracting hidden states for non_infringement texts...\n"
     ]
    },
    {
     "name": "stderr",
     "output_type": "stream",
     "text": [
      "Processing data batches: 100%|██████████| 232/232 [01:01<00:00,  3.74it/s]\n"
     ]
    },
    {
     "name": "stdout",
     "output_type": "stream",
     "text": [
      "Extracting reference embeddings for non_infringement texts...\n"
     ]
    },
    {
     "name": "stderr",
     "output_type": "stream",
     "text": [
      "Processing references: 100%|██████████| 232/232 [00:02<00:00, 101.95it/s]\n"
     ]
    },
    {
     "name": "stdout",
     "output_type": "stream",
     "text": [
      "Extracting hidden states for infringement texts...\n"
     ]
    },
    {
     "name": "stderr",
     "output_type": "stream",
     "text": [
      "Processing data batches: 100%|██████████| 243/243 [01:20<00:00,  3.02it/s]\n"
     ]
    },
    {
     "name": "stdout",
     "output_type": "stream",
     "text": [
      "Extracting reference embeddings for infringement texts...\n"
     ]
    },
    {
     "name": "stderr",
     "output_type": "stream",
     "text": [
      "Processing references: 100%|██████████| 243/243 [00:02<00:00, 86.85it/s]\n"
     ]
    }
   ],
   "source": [
    "print(\"Extracting hidden states for non_infringement texts...\")\n",
    "X_non_infringement = extract_hidden_states(non_infringement_outputs, model, tokenizer)\n",
    "print(\"Extracting reference embeddings for non_infringement texts...\")\n",
    "reference_embeddings_non_infringement = extract_reference_embeddings(non_infringement_references, bert_model, bert_tokenizer)\n",
    "X_non_infringement_combined = np.hstack([X_non_infringement, reference_embeddings_non_infringement])\n",
    "\n",
    "print(\"Extracting hidden states for infringement texts...\")\n",
    "X_infringement = extract_hidden_states(infringement_outputs, model, tokenizer)\n",
    "print(\"Extracting reference embeddings for infringement texts...\")\n",
    "reference_embeddings_infringement = extract_reference_embeddings(infringement_references, bert_model, bert_tokenizer)\n",
    "X_infringement_combined = np.hstack([X_infringement, reference_embeddings_infringement])"
   ]
  },
  {
   "cell_type": "code",
   "execution_count": 19,
   "metadata": {},
   "outputs": [
    {
     "name": "stdout",
     "output_type": "stream",
     "text": [
      "Data successfully split into training and test sets.\n"
     ]
    }
   ],
   "source": [
    "split_index_non_infringement = int(0.8 * len(X_non_infringement_combined))\n",
    "X_non_infringement_train = X_non_infringement_combined[:split_index_non_infringement]\n",
    "X_non_infringement_test = X_non_infringement_combined[split_index_non_infringement:]\n",
    "y_non_infringement_train = y_non_infringement[:split_index_non_infringement]\n",
    "y_non_infringement_test = y_non_infringement[split_index_non_infringement:]\n",
    "\n",
    "split_index_infringement = int(0.8 * len(X_infringement_combined))\n",
    "X_infringement_train = X_infringement_combined[:split_index_infringement]\n",
    "X_infringement_test = X_infringement_combined[split_index_infringement:]\n",
    "y_infringement_train = y_infringement[:split_index_infringement]\n",
    "y_infringement_test = y_infringement[split_index_infringement:]\n",
    "\n",
    "X_train = np.vstack((X_non_infringement_train, X_infringement_train))\n",
    "X_test = np.vstack((X_non_infringement_test, X_infringement_test))\n",
    "y_train = np.concatenate((y_non_infringement_train, y_infringement_train))\n",
    "y_test = np.concatenate((y_non_infringement_test, y_infringement_test))\n",
    "\n",
    "print(\"Data successfully split into training and test sets.\")"
   ]
  },
  {
   "cell_type": "code",
   "execution_count": 20,
   "metadata": {},
   "outputs": [
    {
     "name": "stdout",
     "output_type": "stream",
     "text": [
      "Training MLP model with input_dim=4864 and hidden_dim=256\n"
     ]
    },
    {
     "name": "stderr",
     "output_type": "stream",
     "text": [
      "Training Epochs:   0%|          | 0/500 [00:00<?, ?it/s]"
     ]
    },
    {
     "name": "stderr",
     "output_type": "stream",
     "text": [
      "Training Epochs:   2%|▏         | 9/500 [00:00<00:16, 29.83it/s]"
     ]
    },
    {
     "name": "stdout",
     "output_type": "stream",
     "text": [
      "Epoch 10/500, Loss: 0.4536\n",
      "Test Accuracy at Epoch 10: 68.42%\n",
      "Classification Report at Epoch 10:\n",
      "                  precision    recall  f1-score   support\n",
      "\n",
      "    infringement       0.95      0.40      0.57       194\n",
      "non_infringement       0.61      0.98      0.75       186\n",
      "\n",
      "        accuracy                           0.68       380\n",
      "       macro avg       0.78      0.69      0.66       380\n",
      "    weighted avg       0.78      0.68      0.66       380\n",
      "\n",
      "New best model saved with accuracy 68.42% at epoch 10\n",
      "Best Classification Report at Epoch 10:\n",
      "                  precision    recall  f1-score   support\n",
      "\n",
      "    infringement       0.95      0.40      0.57       194\n",
      "non_infringement       0.61      0.98      0.75       186\n",
      "\n",
      "        accuracy                           0.68       380\n",
      "       macro avg       0.78      0.69      0.66       380\n",
      "    weighted avg       0.78      0.68      0.66       380\n",
      "\n"
     ]
    },
    {
     "name": "stderr",
     "output_type": "stream",
     "text": [
      "Training Epochs:   5%|▌         | 25/500 [00:01<00:16, 28.11it/s]"
     ]
    },
    {
     "name": "stdout",
     "output_type": "stream",
     "text": [
      "Epoch 20/500, Loss: 0.3185\n",
      "Test Accuracy at Epoch 20: 73.42%\n",
      "Classification Report at Epoch 20:\n",
      "                  precision    recall  f1-score   support\n",
      "\n",
      "    infringement       0.81      0.63      0.71       194\n",
      "non_infringement       0.69      0.84      0.76       186\n",
      "\n",
      "        accuracy                           0.73       380\n",
      "       macro avg       0.75      0.74      0.73       380\n",
      "    weighted avg       0.75      0.73      0.73       380\n",
      "\n",
      "New best model saved with accuracy 73.42% at epoch 20\n",
      "Best Classification Report at Epoch 20:\n",
      "                  precision    recall  f1-score   support\n",
      "\n",
      "    infringement       0.81      0.63      0.71       194\n",
      "non_infringement       0.69      0.84      0.76       186\n",
      "\n",
      "        accuracy                           0.73       380\n",
      "       macro avg       0.75      0.74      0.73       380\n",
      "    weighted avg       0.75      0.73      0.73       380\n",
      "\n"
     ]
    },
    {
     "name": "stderr",
     "output_type": "stream",
     "text": [
      "Training Epochs:   7%|▋         | 34/500 [00:01<00:14, 31.33it/s]"
     ]
    },
    {
     "name": "stdout",
     "output_type": "stream",
     "text": [
      "Epoch 30/500, Loss: 0.2199\n",
      "Test Accuracy at Epoch 30: 75.26%\n",
      "Classification Report at Epoch 30:\n",
      "                  precision    recall  f1-score   support\n",
      "\n",
      "    infringement       0.82      0.65      0.73       194\n",
      "non_infringement       0.70      0.85      0.77       186\n",
      "\n",
      "        accuracy                           0.75       380\n",
      "       macro avg       0.76      0.75      0.75       380\n",
      "    weighted avg       0.77      0.75      0.75       380\n",
      "\n",
      "New best model saved with accuracy 75.26% at epoch 30\n",
      "Best Classification Report at Epoch 30:\n",
      "                  precision    recall  f1-score   support\n",
      "\n",
      "    infringement       0.82      0.65      0.73       194\n",
      "non_infringement       0.70      0.85      0.77       186\n",
      "\n",
      "        accuracy                           0.75       380\n",
      "       macro avg       0.76      0.75      0.75       380\n",
      "    weighted avg       0.77      0.75      0.75       380\n",
      "\n"
     ]
    },
    {
     "name": "stderr",
     "output_type": "stream",
     "text": [
      "Training Epochs:   9%|▊         | 43/500 [00:01<00:12, 35.26it/s]"
     ]
    },
    {
     "name": "stdout",
     "output_type": "stream",
     "text": [
      "Epoch 40/500, Loss: 0.1521\n",
      "Test Accuracy at Epoch 40: 76.84%\n",
      "Classification Report at Epoch 40:\n",
      "                  precision    recall  f1-score   support\n",
      "\n",
      "    infringement       0.85      0.66      0.74       194\n",
      "non_infringement       0.71      0.88      0.79       186\n",
      "\n",
      "        accuracy                           0.77       380\n",
      "       macro avg       0.78      0.77      0.77       380\n",
      "    weighted avg       0.78      0.77      0.77       380\n",
      "\n",
      "New best model saved with accuracy 76.84% at epoch 40\n",
      "Best Classification Report at Epoch 40:\n",
      "                  precision    recall  f1-score   support\n",
      "\n",
      "    infringement       0.85      0.66      0.74       194\n",
      "non_infringement       0.71      0.88      0.79       186\n",
      "\n",
      "        accuracy                           0.77       380\n",
      "       macro avg       0.78      0.77      0.77       380\n",
      "    weighted avg       0.78      0.77      0.77       380\n",
      "\n"
     ]
    },
    {
     "name": "stderr",
     "output_type": "stream",
     "text": [
      "Training Epochs:  11%|█         | 56/500 [00:01<00:11, 37.43it/s]"
     ]
    },
    {
     "name": "stdout",
     "output_type": "stream",
     "text": [
      "Epoch 50/500, Loss: 0.1207\n",
      "Test Accuracy at Epoch 50: 77.11%\n",
      "Classification Report at Epoch 50:\n",
      "                  precision    recall  f1-score   support\n",
      "\n",
      "    infringement       0.84      0.68      0.75       194\n",
      "non_infringement       0.72      0.87      0.79       186\n",
      "\n",
      "        accuracy                           0.77       380\n",
      "       macro avg       0.78      0.77      0.77       380\n",
      "    weighted avg       0.78      0.77      0.77       380\n",
      "\n",
      "New best model saved with accuracy 77.11% at epoch 50\n",
      "Best Classification Report at Epoch 50:\n",
      "                  precision    recall  f1-score   support\n",
      "\n",
      "    infringement       0.84      0.68      0.75       194\n",
      "non_infringement       0.72      0.87      0.79       186\n",
      "\n",
      "        accuracy                           0.77       380\n",
      "       macro avg       0.78      0.77      0.77       380\n",
      "    weighted avg       0.78      0.77      0.77       380\n",
      "\n"
     ]
    },
    {
     "name": "stderr",
     "output_type": "stream",
     "text": [
      "Training Epochs:  13%|█▎        | 66/500 [00:02<00:11, 38.01it/s]"
     ]
    },
    {
     "name": "stdout",
     "output_type": "stream",
     "text": [
      "Epoch 60/500, Loss: 0.1026\n",
      "Test Accuracy at Epoch 60: 76.05%\n",
      "Classification Report at Epoch 60:\n",
      "                  precision    recall  f1-score   support\n",
      "\n",
      "    infringement       0.82      0.68      0.74       194\n",
      "non_infringement       0.71      0.85      0.78       186\n",
      "\n",
      "        accuracy                           0.76       380\n",
      "       macro avg       0.77      0.76      0.76       380\n",
      "    weighted avg       0.77      0.76      0.76       380\n",
      "\n"
     ]
    },
    {
     "name": "stderr",
     "output_type": "stream",
     "text": [
      "Training Epochs:  15%|█▌        | 77/500 [00:02<00:10, 38.81it/s]"
     ]
    },
    {
     "name": "stdout",
     "output_type": "stream",
     "text": [
      "Epoch 70/500, Loss: 0.0951\n",
      "Test Accuracy at Epoch 70: 74.47%\n",
      "Classification Report at Epoch 70:\n",
      "                  precision    recall  f1-score   support\n",
      "\n",
      "    infringement       0.83      0.62      0.71       194\n",
      "non_infringement       0.69      0.87      0.77       186\n",
      "\n",
      "        accuracy                           0.74       380\n",
      "       macro avg       0.76      0.75      0.74       380\n",
      "    weighted avg       0.76      0.74      0.74       380\n",
      "\n"
     ]
    },
    {
     "name": "stderr",
     "output_type": "stream",
     "text": [
      "Training Epochs:  17%|█▋        | 87/500 [00:02<00:09, 42.50it/s]"
     ]
    },
    {
     "name": "stdout",
     "output_type": "stream",
     "text": [
      "Epoch 80/500, Loss: 0.0923\n",
      "Test Accuracy at Epoch 80: 75.79%\n",
      "Classification Report at Epoch 80:\n",
      "                  precision    recall  f1-score   support\n",
      "\n",
      "    infringement       0.84      0.65      0.73       194\n",
      "non_infringement       0.71      0.87      0.78       186\n",
      "\n",
      "        accuracy                           0.76       380\n",
      "       macro avg       0.77      0.76      0.76       380\n",
      "    weighted avg       0.77      0.76      0.76       380\n",
      "\n"
     ]
    },
    {
     "name": "stderr",
     "output_type": "stream",
     "text": [
      "Training Epochs:  19%|█▉        | 97/500 [00:02<00:09, 40.89it/s]"
     ]
    },
    {
     "name": "stdout",
     "output_type": "stream",
     "text": [
      "Epoch 90/500, Loss: 0.0874\n",
      "Test Accuracy at Epoch 90: 75.26%\n",
      "Classification Report at Epoch 90:\n",
      "                  precision    recall  f1-score   support\n",
      "\n",
      "    infringement       0.84      0.64      0.73       194\n",
      "non_infringement       0.70      0.87      0.78       186\n",
      "\n",
      "        accuracy                           0.75       380\n",
      "       macro avg       0.77      0.76      0.75       380\n",
      "    weighted avg       0.77      0.75      0.75       380\n",
      "\n"
     ]
    },
    {
     "name": "stderr",
     "output_type": "stream",
     "text": [
      "Training Epochs:  22%|██▏       | 108/500 [00:03<00:08, 44.36it/s]"
     ]
    },
    {
     "name": "stdout",
     "output_type": "stream",
     "text": [
      "Epoch 100/500, Loss: 0.0837\n",
      "Test Accuracy at Epoch 100: 74.74%\n",
      "Classification Report at Epoch 100:\n",
      "                  precision    recall  f1-score   support\n",
      "\n",
      "    infringement       0.83      0.63      0.72       194\n",
      "non_infringement       0.69      0.87      0.77       186\n",
      "\n",
      "        accuracy                           0.75       380\n",
      "       macro avg       0.76      0.75      0.74       380\n",
      "    weighted avg       0.76      0.75      0.74       380\n",
      "\n"
     ]
    },
    {
     "name": "stderr",
     "output_type": "stream",
     "text": [
      "Training Epochs:  23%|██▎       | 113/500 [00:03<00:09, 39.86it/s]"
     ]
    },
    {
     "name": "stdout",
     "output_type": "stream",
     "text": [
      "Epoch 110/500, Loss: 0.0836\n",
      "Test Accuracy at Epoch 110: 79.47%\n",
      "Classification Report at Epoch 110:\n",
      "                  precision    recall  f1-score   support\n",
      "\n",
      "    infringement       0.85      0.73      0.78       194\n",
      "non_infringement       0.75      0.86      0.80       186\n",
      "\n",
      "        accuracy                           0.79       380\n",
      "       macro avg       0.80      0.80      0.79       380\n",
      "    weighted avg       0.80      0.79      0.79       380\n",
      "\n",
      "New best model saved with accuracy 79.47% at epoch 110\n",
      "Best Classification Report at Epoch 110:\n",
      "                  precision    recall  f1-score   support\n",
      "\n",
      "    infringement       0.85      0.73      0.78       194\n",
      "non_infringement       0.75      0.86      0.80       186\n",
      "\n",
      "        accuracy                           0.79       380\n",
      "       macro avg       0.80      0.80      0.79       380\n",
      "    weighted avg       0.80      0.79      0.79       380\n",
      "\n"
     ]
    },
    {
     "name": "stderr",
     "output_type": "stream",
     "text": [
      "Training Epochs:  26%|██▌       | 128/500 [00:03<00:09, 37.52it/s]"
     ]
    },
    {
     "name": "stdout",
     "output_type": "stream",
     "text": [
      "Epoch 120/500, Loss: 0.0819\n",
      "Test Accuracy at Epoch 120: 75.79%\n",
      "Classification Report at Epoch 120:\n",
      "                  precision    recall  f1-score   support\n",
      "\n",
      "    infringement       0.85      0.63      0.73       194\n",
      "non_infringement       0.70      0.89      0.78       186\n",
      "\n",
      "        accuracy                           0.76       380\n",
      "       macro avg       0.78      0.76      0.75       380\n",
      "    weighted avg       0.78      0.76      0.75       380\n",
      "\n"
     ]
    },
    {
     "name": "stderr",
     "output_type": "stream",
     "text": [
      "Training Epochs:  28%|██▊       | 139/500 [00:03<00:08, 44.36it/s]"
     ]
    },
    {
     "name": "stdout",
     "output_type": "stream",
     "text": [
      "Epoch 130/500, Loss: 0.0813\n",
      "Test Accuracy at Epoch 130: 76.32%\n",
      "Classification Report at Epoch 130:\n",
      "                  precision    recall  f1-score   support\n",
      "\n",
      "    infringement       0.86      0.64      0.74       194\n",
      "non_infringement       0.71      0.89      0.79       186\n",
      "\n",
      "        accuracy                           0.76       380\n",
      "       macro avg       0.78      0.77      0.76       380\n",
      "    weighted avg       0.78      0.76      0.76       380\n",
      "\n"
     ]
    },
    {
     "name": "stderr",
     "output_type": "stream",
     "text": [
      "Training Epochs:  29%|██▉       | 144/500 [00:04<00:08, 39.86it/s]"
     ]
    },
    {
     "name": "stdout",
     "output_type": "stream",
     "text": [
      "Epoch 140/500, Loss: 0.0792\n",
      "Test Accuracy at Epoch 140: 75.53%\n",
      "Classification Report at Epoch 140:\n",
      "                  precision    recall  f1-score   support\n",
      "\n",
      "    infringement       0.85      0.63      0.72       194\n",
      "non_infringement       0.70      0.89      0.78       186\n",
      "\n",
      "        accuracy                           0.76       380\n",
      "       macro avg       0.77      0.76      0.75       380\n",
      "    weighted avg       0.78      0.76      0.75       380\n",
      "\n"
     ]
    },
    {
     "name": "stderr",
     "output_type": "stream",
     "text": [
      "Training Epochs:  31%|███       | 156/500 [00:04<00:07, 45.43it/s]"
     ]
    },
    {
     "name": "stdout",
     "output_type": "stream",
     "text": [
      "Epoch 150/500, Loss: 0.0780\n",
      "Test Accuracy at Epoch 150: 75.79%\n",
      "Classification Report at Epoch 150:\n",
      "                  precision    recall  f1-score   support\n",
      "\n",
      "    infringement       0.85      0.64      0.73       194\n",
      "non_infringement       0.70      0.88      0.78       186\n",
      "\n",
      "        accuracy                           0.76       380\n",
      "       macro avg       0.78      0.76      0.76       380\n",
      "    weighted avg       0.78      0.76      0.75       380\n",
      "\n"
     ]
    },
    {
     "name": "stderr",
     "output_type": "stream",
     "text": [
      "Training Epochs:  33%|███▎      | 167/500 [00:04<00:07, 45.11it/s]"
     ]
    },
    {
     "name": "stdout",
     "output_type": "stream",
     "text": [
      "Epoch 160/500, Loss: 0.0905\n",
      "Test Accuracy at Epoch 160: 76.05%\n",
      "Classification Report at Epoch 160:\n",
      "                  precision    recall  f1-score   support\n",
      "\n",
      "    infringement       0.87      0.63      0.73       194\n",
      "non_infringement       0.70      0.90      0.79       186\n",
      "\n",
      "        accuracy                           0.76       380\n",
      "       macro avg       0.78      0.76      0.76       380\n",
      "    weighted avg       0.78      0.76      0.76       380\n",
      "\n",
      "Epoch 170/500, Loss: 0.0773\n",
      "Test Accuracy at Epoch 170: 78.42%\n"
     ]
    },
    {
     "name": "stderr",
     "output_type": "stream",
     "text": [
      "Training Epochs:  35%|███▌      | 177/500 [00:04<00:07, 40.52it/s]"
     ]
    },
    {
     "name": "stdout",
     "output_type": "stream",
     "text": [
      "Classification Report at Epoch 170:\n",
      "                  precision    recall  f1-score   support\n",
      "\n",
      "    infringement       0.86      0.69      0.77       194\n",
      "non_infringement       0.73      0.88      0.80       186\n",
      "\n",
      "        accuracy                           0.78       380\n",
      "       macro avg       0.80      0.79      0.78       380\n",
      "    weighted avg       0.80      0.78      0.78       380\n",
      "\n"
     ]
    },
    {
     "name": "stderr",
     "output_type": "stream",
     "text": [
      "Training Epochs:  38%|███▊      | 188/500 [00:05<00:06, 45.02it/s]"
     ]
    },
    {
     "name": "stdout",
     "output_type": "stream",
     "text": [
      "Epoch 180/500, Loss: 0.0767\n",
      "Test Accuracy at Epoch 180: 77.89%\n",
      "Classification Report at Epoch 180:\n",
      "                  precision    recall  f1-score   support\n",
      "\n",
      "    infringement       0.87      0.66      0.75       194\n",
      "non_infringement       0.72      0.90      0.80       186\n",
      "\n",
      "        accuracy                           0.78       380\n",
      "       macro avg       0.80      0.78      0.78       380\n",
      "    weighted avg       0.80      0.78      0.78       380\n",
      "\n"
     ]
    },
    {
     "name": "stderr",
     "output_type": "stream",
     "text": [
      "Training Epochs:  39%|███▊      | 193/500 [00:05<00:07, 41.99it/s]"
     ]
    },
    {
     "name": "stdout",
     "output_type": "stream",
     "text": [
      "Epoch 190/500, Loss: 0.0759\n",
      "Test Accuracy at Epoch 190: 78.42%\n",
      "Classification Report at Epoch 190:\n",
      "                  precision    recall  f1-score   support\n",
      "\n",
      "    infringement       0.86      0.69      0.76       194\n",
      "non_infringement       0.73      0.89      0.80       186\n",
      "\n",
      "        accuracy                           0.78       380\n",
      "       macro avg       0.80      0.79      0.78       380\n",
      "    weighted avg       0.80      0.78      0.78       380\n",
      "\n"
     ]
    },
    {
     "name": "stderr",
     "output_type": "stream",
     "text": [
      "Training Epochs:  42%|████▏     | 209/500 [00:05<00:06, 48.41it/s]"
     ]
    },
    {
     "name": "stdout",
     "output_type": "stream",
     "text": [
      "Epoch 200/500, Loss: 0.0754\n",
      "Test Accuracy at Epoch 200: 78.42%\n",
      "Classification Report at Epoch 200:\n",
      "                  precision    recall  f1-score   support\n",
      "\n",
      "    infringement       0.87      0.68      0.76       194\n",
      "non_infringement       0.73      0.90      0.80       186\n",
      "\n",
      "        accuracy                           0.78       380\n",
      "       macro avg       0.80      0.79      0.78       380\n",
      "    weighted avg       0.80      0.78      0.78       380\n",
      "\n",
      "Epoch 210/500, Loss: 0.0814\n",
      "Test Accuracy at Epoch 210: 78.68%\n"
     ]
    },
    {
     "name": "stderr",
     "output_type": "stream",
     "text": [
      "Training Epochs:  43%|████▎     | 214/500 [00:05<00:06, 43.74it/s]"
     ]
    },
    {
     "name": "stdout",
     "output_type": "stream",
     "text": [
      "Classification Report at Epoch 210:\n",
      "                  precision    recall  f1-score   support\n",
      "\n",
      "    infringement       0.86      0.70      0.77       194\n",
      "non_infringement       0.74      0.88      0.80       186\n",
      "\n",
      "        accuracy                           0.79       380\n",
      "       macro avg       0.80      0.79      0.79       380\n",
      "    weighted avg       0.80      0.79      0.79       380\n",
      "\n"
     ]
    },
    {
     "name": "stderr",
     "output_type": "stream",
     "text": [
      "Training Epochs:  45%|████▌     | 225/500 [00:05<00:06, 43.78it/s]"
     ]
    },
    {
     "name": "stdout",
     "output_type": "stream",
     "text": [
      "Epoch 220/500, Loss: 0.0769\n",
      "Test Accuracy at Epoch 220: 78.16%\n",
      "Classification Report at Epoch 220:\n",
      "                  precision    recall  f1-score   support\n",
      "\n",
      "    infringement       0.86      0.69      0.76       194\n",
      "non_infringement       0.73      0.88      0.80       186\n",
      "\n",
      "        accuracy                           0.78       380\n",
      "       macro avg       0.79      0.78      0.78       380\n",
      "    weighted avg       0.79      0.78      0.78       380\n",
      "\n"
     ]
    },
    {
     "name": "stderr",
     "output_type": "stream",
     "text": [
      "Training Epochs:  47%|████▋     | 235/500 [00:06<00:06, 40.76it/s]"
     ]
    },
    {
     "name": "stdout",
     "output_type": "stream",
     "text": [
      "Epoch 230/500, Loss: 0.0752\n",
      "Test Accuracy at Epoch 230: 78.42%\n",
      "Classification Report at Epoch 230:\n",
      "                  precision    recall  f1-score   support\n",
      "\n",
      "    infringement       0.88      0.67      0.76       194\n",
      "non_infringement       0.72      0.90      0.80       186\n",
      "\n",
      "        accuracy                           0.78       380\n",
      "       macro avg       0.80      0.79      0.78       380\n",
      "    weighted avg       0.80      0.78      0.78       380\n",
      "\n"
     ]
    },
    {
     "name": "stderr",
     "output_type": "stream",
     "text": [
      "Training Epochs:  49%|████▉     | 245/500 [00:06<00:06, 39.62it/s]"
     ]
    },
    {
     "name": "stdout",
     "output_type": "stream",
     "text": [
      "Epoch 240/500, Loss: 0.0751\n",
      "Test Accuracy at Epoch 240: 78.42%\n",
      "Classification Report at Epoch 240:\n",
      "                  precision    recall  f1-score   support\n",
      "\n",
      "    infringement       0.88      0.67      0.76       194\n",
      "non_infringement       0.72      0.90      0.80       186\n",
      "\n",
      "        accuracy                           0.78       380\n",
      "       macro avg       0.80      0.79      0.78       380\n",
      "    weighted avg       0.80      0.78      0.78       380\n",
      "\n"
     ]
    },
    {
     "name": "stderr",
     "output_type": "stream",
     "text": [
      "Training Epochs:  51%|█████     | 256/500 [00:06<00:05, 45.84it/s]"
     ]
    },
    {
     "name": "stdout",
     "output_type": "stream",
     "text": [
      "Epoch 250/500, Loss: 0.0747\n",
      "Test Accuracy at Epoch 250: 78.68%\n",
      "Classification Report at Epoch 250:\n",
      "                  precision    recall  f1-score   support\n",
      "\n",
      "    infringement       0.88      0.68      0.76       194\n",
      "non_infringement       0.73      0.90      0.81       186\n",
      "\n",
      "        accuracy                           0.79       380\n",
      "       macro avg       0.80      0.79      0.78       380\n",
      "    weighted avg       0.80      0.79      0.78       380\n",
      "\n",
      "Epoch 260/500, Loss: 0.0798\n",
      "Test Accuracy at Epoch 260: 76.05%\n"
     ]
    },
    {
     "name": "stderr",
     "output_type": "stream",
     "text": [
      "Training Epochs:  53%|█████▎    | 266/500 [00:06<00:05, 42.15it/s]"
     ]
    },
    {
     "name": "stdout",
     "output_type": "stream",
     "text": [
      "Classification Report at Epoch 260:\n",
      "                  precision    recall  f1-score   support\n",
      "\n",
      "    infringement       0.89      0.60      0.72       194\n",
      "non_infringement       0.69      0.92      0.79       186\n",
      "\n",
      "        accuracy                           0.76       380\n",
      "       macro avg       0.79      0.76      0.76       380\n",
      "    weighted avg       0.79      0.76      0.75       380\n",
      "\n"
     ]
    },
    {
     "name": "stderr",
     "output_type": "stream",
     "text": [
      "Training Epochs:  55%|█████▌    | 277/500 [00:07<00:04, 45.83it/s]"
     ]
    },
    {
     "name": "stdout",
     "output_type": "stream",
     "text": [
      "Epoch 270/500, Loss: 0.0803\n",
      "Test Accuracy at Epoch 270: 76.84%\n",
      "Classification Report at Epoch 270:\n",
      "                  precision    recall  f1-score   support\n",
      "\n",
      "    infringement       0.88      0.63      0.74       194\n",
      "non_infringement       0.70      0.91      0.79       186\n",
      "\n",
      "        accuracy                           0.77       380\n",
      "       macro avg       0.79      0.77      0.76       380\n",
      "    weighted avg       0.79      0.77      0.76       380\n",
      "\n"
     ]
    },
    {
     "name": "stderr",
     "output_type": "stream",
     "text": [
      "Training Epochs:  58%|█████▊    | 288/500 [00:07<00:04, 44.69it/s]"
     ]
    },
    {
     "name": "stdout",
     "output_type": "stream",
     "text": [
      "Epoch 280/500, Loss: 0.0752\n",
      "Test Accuracy at Epoch 280: 77.63%\n",
      "Classification Report at Epoch 280:\n",
      "                  precision    recall  f1-score   support\n",
      "\n",
      "    infringement       0.88      0.65      0.75       194\n",
      "non_infringement       0.71      0.91      0.80       186\n",
      "\n",
      "        accuracy                           0.78       380\n",
      "       macro avg       0.80      0.78      0.77       380\n",
      "    weighted avg       0.80      0.78      0.77       380\n",
      "\n",
      "Epoch 290/500, Loss: 0.0749\n"
     ]
    },
    {
     "name": "stderr",
     "output_type": "stream",
     "text": [
      "Training Epochs:  59%|█████▊    | 293/500 [00:07<00:04, 45.31it/s]"
     ]
    },
    {
     "name": "stdout",
     "output_type": "stream",
     "text": [
      "Test Accuracy at Epoch 290: 78.42%\n",
      "Classification Report at Epoch 290:\n",
      "                  precision    recall  f1-score   support\n",
      "\n",
      "    infringement       0.88      0.66      0.76       194\n",
      "non_infringement       0.72      0.91      0.80       186\n",
      "\n",
      "        accuracy                           0.78       380\n",
      "       macro avg       0.80      0.79      0.78       380\n",
      "    weighted avg       0.80      0.78      0.78       380\n",
      "\n"
     ]
    },
    {
     "name": "stderr",
     "output_type": "stream",
     "text": [
      "Training Epochs:  62%|██████▏   | 309/500 [00:07<00:04, 45.07it/s]"
     ]
    },
    {
     "name": "stdout",
     "output_type": "stream",
     "text": [
      "Epoch 300/500, Loss: 0.0745\n",
      "Test Accuracy at Epoch 300: 78.68%\n",
      "Classification Report at Epoch 300:\n",
      "                  precision    recall  f1-score   support\n",
      "\n",
      "    infringement       0.88      0.68      0.76       194\n",
      "non_infringement       0.73      0.90      0.81       186\n",
      "\n",
      "        accuracy                           0.79       380\n",
      "       macro avg       0.80      0.79      0.78       380\n",
      "    weighted avg       0.80      0.79      0.78       380\n",
      "\n",
      "Epoch 310/500, Loss: 0.0744\n"
     ]
    },
    {
     "name": "stderr",
     "output_type": "stream",
     "text": [
      "Training Epochs:  63%|██████▎   | 314/500 [00:08<00:04, 40.53it/s]"
     ]
    },
    {
     "name": "stdout",
     "output_type": "stream",
     "text": [
      "Test Accuracy at Epoch 310: 78.42%\n",
      "Classification Report at Epoch 310:\n",
      "                  precision    recall  f1-score   support\n",
      "\n",
      "    infringement       0.88      0.67      0.76       194\n",
      "non_infringement       0.72      0.90      0.80       186\n",
      "\n",
      "        accuracy                           0.78       380\n",
      "       macro avg       0.80      0.79      0.78       380\n",
      "    weighted avg       0.80      0.78      0.78       380\n",
      "\n"
     ]
    },
    {
     "name": "stderr",
     "output_type": "stream",
     "text": [
      "Training Epochs:  65%|██████▌   | 326/500 [00:08<00:03, 44.77it/s]"
     ]
    },
    {
     "name": "stdout",
     "output_type": "stream",
     "text": [
      "Epoch 320/500, Loss: 0.0743\n",
      "Test Accuracy at Epoch 320: 78.68%\n",
      "Classification Report at Epoch 320:\n",
      "                  precision    recall  f1-score   support\n",
      "\n",
      "    infringement       0.88      0.68      0.76       194\n",
      "non_infringement       0.73      0.90      0.81       186\n",
      "\n",
      "        accuracy                           0.79       380\n",
      "       macro avg       0.80      0.79      0.78       380\n",
      "    weighted avg       0.80      0.79      0.78       380\n",
      "\n"
     ]
    },
    {
     "name": "stderr",
     "output_type": "stream",
     "text": [
      "Training Epochs:  67%|██████▋   | 336/500 [00:08<00:04, 40.38it/s]"
     ]
    },
    {
     "name": "stdout",
     "output_type": "stream",
     "text": [
      "Epoch 330/500, Loss: 0.0743\n",
      "Test Accuracy at Epoch 330: 78.68%\n",
      "Classification Report at Epoch 330:\n",
      "                  precision    recall  f1-score   support\n",
      "\n",
      "    infringement       0.87      0.68      0.77       194\n",
      "non_infringement       0.73      0.90      0.80       186\n",
      "\n",
      "        accuracy                           0.79       380\n",
      "       macro avg       0.80      0.79      0.79       380\n",
      "    weighted avg       0.80      0.79      0.78       380\n",
      "\n"
     ]
    },
    {
     "name": "stderr",
     "output_type": "stream",
     "text": [
      "Training Epochs:  69%|██████▉   | 345/500 [00:08<00:04, 34.61it/s]"
     ]
    },
    {
     "name": "stdout",
     "output_type": "stream",
     "text": [
      "Epoch 340/500, Loss: 0.0788\n",
      "Test Accuracy at Epoch 340: 76.05%\n",
      "Classification Report at Epoch 340:\n",
      "                  precision    recall  f1-score   support\n",
      "\n",
      "    infringement       0.89      0.61      0.72       194\n",
      "non_infringement       0.69      0.92      0.79       186\n",
      "\n",
      "        accuracy                           0.76       380\n",
      "       macro avg       0.79      0.76      0.76       380\n",
      "    weighted avg       0.79      0.76      0.76       380\n",
      "\n"
     ]
    },
    {
     "name": "stderr",
     "output_type": "stream",
     "text": [
      "Training Epochs:  71%|███████   | 353/500 [00:09<00:04, 35.83it/s]"
     ]
    },
    {
     "name": "stdout",
     "output_type": "stream",
     "text": [
      "Epoch 350/500, Loss: 0.0754\n",
      "Test Accuracy at Epoch 350: 78.42%\n",
      "Classification Report at Epoch 350:\n",
      "                  precision    recall  f1-score   support\n",
      "\n",
      "    infringement       0.87      0.68      0.76       194\n",
      "non_infringement       0.73      0.90      0.80       186\n",
      "\n",
      "        accuracy                           0.78       380\n",
      "       macro avg       0.80      0.79      0.78       380\n",
      "    weighted avg       0.80      0.78      0.78       380\n",
      "\n"
     ]
    },
    {
     "name": "stderr",
     "output_type": "stream",
     "text": [
      "Training Epochs:  73%|███████▎  | 366/500 [00:09<00:03, 35.64it/s]"
     ]
    },
    {
     "name": "stdout",
     "output_type": "stream",
     "text": [
      "Epoch 360/500, Loss: 0.0747\n",
      "Test Accuracy at Epoch 360: 78.16%\n",
      "Classification Report at Epoch 360:\n",
      "                  precision    recall  f1-score   support\n",
      "\n",
      "    infringement       0.88      0.66      0.76       194\n",
      "non_infringement       0.72      0.90      0.80       186\n",
      "\n",
      "        accuracy                           0.78       380\n",
      "       macro avg       0.80      0.78      0.78       380\n",
      "    weighted avg       0.80      0.78      0.78       380\n",
      "\n"
     ]
    },
    {
     "name": "stderr",
     "output_type": "stream",
     "text": [
      "Training Epochs:  75%|███████▍  | 374/500 [00:09<00:03, 33.64it/s]"
     ]
    },
    {
     "name": "stdout",
     "output_type": "stream",
     "text": [
      "Epoch 370/500, Loss: 0.0743\n",
      "Test Accuracy at Epoch 370: 78.16%\n",
      "Classification Report at Epoch 370:\n",
      "                  precision    recall  f1-score   support\n",
      "\n",
      "    infringement       0.88      0.66      0.76       194\n",
      "non_infringement       0.72      0.90      0.80       186\n",
      "\n",
      "        accuracy                           0.78       380\n",
      "       macro avg       0.80      0.78      0.78       380\n",
      "    weighted avg       0.80      0.78      0.78       380\n",
      "\n"
     ]
    },
    {
     "name": "stderr",
     "output_type": "stream",
     "text": [
      "Training Epochs:  77%|███████▋  | 383/500 [00:10<00:03, 29.88it/s]"
     ]
    },
    {
     "name": "stdout",
     "output_type": "stream",
     "text": [
      "Epoch 380/500, Loss: 0.0742\n",
      "Test Accuracy at Epoch 380: 78.42%\n",
      "Classification Report at Epoch 380:\n",
      "                  precision    recall  f1-score   support\n",
      "\n",
      "    infringement       0.88      0.66      0.76       194\n",
      "non_infringement       0.72      0.91      0.80       186\n",
      "\n",
      "        accuracy                           0.78       380\n",
      "       macro avg       0.80      0.79      0.78       380\n",
      "    weighted avg       0.80      0.78      0.78       380\n",
      "\n"
     ]
    },
    {
     "name": "stderr",
     "output_type": "stream",
     "text": [
      "Training Epochs:  78%|███████▊  | 392/500 [00:10<00:03, 33.55it/s]"
     ]
    },
    {
     "name": "stdout",
     "output_type": "stream",
     "text": [
      "Epoch 390/500, Loss: 0.0740\n",
      "Test Accuracy at Epoch 390: 78.16%\n",
      "Classification Report at Epoch 390:\n",
      "                  precision    recall  f1-score   support\n",
      "\n",
      "    infringement       0.87      0.67      0.76       194\n",
      "non_infringement       0.72      0.90      0.80       186\n",
      "\n",
      "        accuracy                           0.78       380\n",
      "       macro avg       0.80      0.78      0.78       380\n",
      "    weighted avg       0.80      0.78      0.78       380\n",
      "\n"
     ]
    },
    {
     "name": "stderr",
     "output_type": "stream",
     "text": [
      "Training Epochs:  81%|████████  | 404/500 [00:10<00:03, 31.94it/s]"
     ]
    },
    {
     "name": "stdout",
     "output_type": "stream",
     "text": [
      "Epoch 400/500, Loss: 0.0746\n",
      "Test Accuracy at Epoch 400: 76.84%\n",
      "Classification Report at Epoch 400:\n",
      "                  precision    recall  f1-score   support\n",
      "\n",
      "    infringement       0.88      0.63      0.74       194\n",
      "non_infringement       0.70      0.91      0.79       186\n",
      "\n",
      "        accuracy                           0.77       380\n",
      "       macro avg       0.79      0.77      0.76       380\n",
      "    weighted avg       0.79      0.77      0.76       380\n",
      "\n"
     ]
    },
    {
     "name": "stderr",
     "output_type": "stream",
     "text": [
      "Training Epochs:  84%|████████▎ | 418/500 [00:11<00:02, 36.78it/s]"
     ]
    },
    {
     "name": "stdout",
     "output_type": "stream",
     "text": [
      "Epoch 410/500, Loss: 0.0740\n",
      "Test Accuracy at Epoch 410: 78.68%\n",
      "Classification Report at Epoch 410:\n",
      "                  precision    recall  f1-score   support\n",
      "\n",
      "    infringement       0.87      0.68      0.77       194\n",
      "non_infringement       0.73      0.90      0.80       186\n",
      "\n",
      "        accuracy                           0.79       380\n",
      "       macro avg       0.80      0.79      0.79       380\n",
      "    weighted avg       0.80      0.79      0.78       380\n",
      "\n"
     ]
    },
    {
     "name": "stderr",
     "output_type": "stream",
     "text": [
      "Training Epochs:  84%|████████▍ | 422/500 [00:11<00:02, 33.19it/s]"
     ]
    },
    {
     "name": "stdout",
     "output_type": "stream",
     "text": [
      "Epoch 420/500, Loss: 0.0742\n",
      "Test Accuracy at Epoch 420: 78.16%\n",
      "Classification Report at Epoch 420:\n",
      "                  precision    recall  f1-score   support\n",
      "\n",
      "    infringement       0.88      0.66      0.76       194\n",
      "non_infringement       0.72      0.90      0.80       186\n",
      "\n",
      "        accuracy                           0.78       380\n",
      "       macro avg       0.80      0.78      0.78       380\n",
      "    weighted avg       0.80      0.78      0.78       380\n",
      "\n"
     ]
    },
    {
     "name": "stderr",
     "output_type": "stream",
     "text": [
      "Training Epochs:  87%|████████▋ | 436/500 [00:11<00:01, 38.20it/s]"
     ]
    },
    {
     "name": "stdout",
     "output_type": "stream",
     "text": [
      "Epoch 430/500, Loss: 0.0740\n",
      "Test Accuracy at Epoch 430: 78.16%\n",
      "Classification Report at Epoch 430:\n",
      "                  precision    recall  f1-score   support\n",
      "\n",
      "    infringement       0.88      0.66      0.76       194\n",
      "non_infringement       0.72      0.90      0.80       186\n",
      "\n",
      "        accuracy                           0.78       380\n",
      "       macro avg       0.80      0.78      0.78       380\n",
      "    weighted avg       0.80      0.78      0.78       380\n",
      "\n"
     ]
    },
    {
     "name": "stderr",
     "output_type": "stream",
     "text": [
      "Training Epochs:  89%|████████▉ | 445/500 [00:11<00:01, 36.17it/s]"
     ]
    },
    {
     "name": "stdout",
     "output_type": "stream",
     "text": [
      "Epoch 440/500, Loss: 0.0744\n",
      "Test Accuracy at Epoch 440: 76.58%\n",
      "Classification Report at Epoch 440:\n",
      "                  precision    recall  f1-score   support\n",
      "\n",
      "    infringement       0.87      0.63      0.73       194\n",
      "non_infringement       0.70      0.90      0.79       186\n",
      "\n",
      "        accuracy                           0.77       380\n",
      "       macro avg       0.79      0.77      0.76       380\n",
      "    weighted avg       0.79      0.77      0.76       380\n",
      "\n"
     ]
    },
    {
     "name": "stderr",
     "output_type": "stream",
     "text": [
      "Training Epochs:  92%|█████████▏| 458/500 [00:12<00:01, 37.22it/s]"
     ]
    },
    {
     "name": "stdout",
     "output_type": "stream",
     "text": [
      "Epoch 450/500, Loss: 0.0740\n",
      "Test Accuracy at Epoch 450: 78.68%\n",
      "Classification Report at Epoch 450:\n",
      "                  precision    recall  f1-score   support\n",
      "\n",
      "    infringement       0.87      0.68      0.77       194\n",
      "non_infringement       0.73      0.90      0.80       186\n",
      "\n",
      "        accuracy                           0.79       380\n",
      "       macro avg       0.80      0.79      0.79       380\n",
      "    weighted avg       0.80      0.79      0.78       380\n",
      "\n"
     ]
    },
    {
     "name": "stderr",
     "output_type": "stream",
     "text": [
      "Training Epochs:  93%|█████████▎| 463/500 [00:12<00:00, 39.11it/s]"
     ]
    },
    {
     "name": "stdout",
     "output_type": "stream",
     "text": [
      "Epoch 460/500, Loss: 0.0741\n",
      "Test Accuracy at Epoch 460: 78.68%\n",
      "Classification Report at Epoch 460:\n",
      "                  precision    recall  f1-score   support\n",
      "\n",
      "    infringement       0.88      0.68      0.76       194\n",
      "non_infringement       0.73      0.90      0.81       186\n",
      "\n",
      "        accuracy                           0.79       380\n",
      "       macro avg       0.80      0.79      0.78       380\n",
      "    weighted avg       0.80      0.79      0.78       380\n",
      "\n"
     ]
    },
    {
     "name": "stderr",
     "output_type": "stream",
     "text": [
      "Training Epochs:  96%|█████████▌| 478/500 [00:12<00:00, 40.99it/s]"
     ]
    },
    {
     "name": "stdout",
     "output_type": "stream",
     "text": [
      "Epoch 470/500, Loss: 0.0740\n",
      "Test Accuracy at Epoch 470: 78.68%\n",
      "Classification Report at Epoch 470:\n",
      "                  precision    recall  f1-score   support\n",
      "\n",
      "    infringement       0.88      0.68      0.76       194\n",
      "non_infringement       0.73      0.90      0.81       186\n",
      "\n",
      "        accuracy                           0.79       380\n",
      "       macro avg       0.80      0.79      0.78       380\n",
      "    weighted avg       0.80      0.79      0.78       380\n",
      "\n"
     ]
    },
    {
     "name": "stderr",
     "output_type": "stream",
     "text": [
      "Training Epochs:  97%|█████████▋| 483/500 [00:12<00:00, 37.67it/s]"
     ]
    },
    {
     "name": "stdout",
     "output_type": "stream",
     "text": [
      "Epoch 480/500, Loss: 0.0740\n",
      "Test Accuracy at Epoch 480: 78.42%\n",
      "Classification Report at Epoch 480:\n",
      "                  precision    recall  f1-score   support\n",
      "\n",
      "    infringement       0.88      0.67      0.76       194\n",
      "non_infringement       0.72      0.90      0.80       186\n",
      "\n",
      "        accuracy                           0.78       380\n",
      "       macro avg       0.80      0.79      0.78       380\n",
      "    weighted avg       0.80      0.78      0.78       380\n",
      "\n"
     ]
    },
    {
     "name": "stderr",
     "output_type": "stream",
     "text": [
      "Training Epochs: 100%|██████████| 500/500 [00:13<00:00, 38.03it/s]\n",
      "/tmp/ipykernel_2501260/1033092828.py:47: FutureWarning: You are using `torch.load` with `weights_only=False` (the current default value), which uses the default pickle module implicitly. It is possible to construct malicious pickle data which will execute arbitrary code during unpickling (See https://github.com/pytorch/pytorch/blob/main/SECURITY.md#untrusted-models for more details). In a future release, the default value for `weights_only` will be flipped to `True`. This limits the functions that could be executed during unpickling. Arbitrary objects will no longer be allowed to be loaded via this mode unless they are explicitly allowlisted by the user via `torch.serialization.add_safe_globals`. We recommend you start setting `weights_only=True` for any use case where you don't have full control of the loaded file. Please open an issue on GitHub for any issues related to this experimental feature.\n",
      "  custom_mlp.load_state_dict(torch.load(checkpoint_path))\n"
     ]
    },
    {
     "name": "stdout",
     "output_type": "stream",
     "text": [
      "Epoch 490/500, Loss: 0.0739\n",
      "Test Accuracy at Epoch 490: 78.42%\n",
      "Classification Report at Epoch 490:\n",
      "                  precision    recall  f1-score   support\n",
      "\n",
      "    infringement       0.88      0.67      0.76       194\n",
      "non_infringement       0.72      0.90      0.80       186\n",
      "\n",
      "        accuracy                           0.78       380\n",
      "       macro avg       0.80      0.79      0.78       380\n",
      "    weighted avg       0.80      0.78      0.78       380\n",
      "\n",
      "Epoch 500/500, Loss: 0.0815\n",
      "Test Accuracy at Epoch 500: 76.84%\n",
      "Classification Report at Epoch 500:\n",
      "                  precision    recall  f1-score   support\n",
      "\n",
      "    infringement       0.88      0.63      0.74       194\n",
      "non_infringement       0.70      0.91      0.79       186\n",
      "\n",
      "        accuracy                           0.77       380\n",
      "       macro avg       0.79      0.77      0.76       380\n",
      "    weighted avg       0.79      0.77      0.76       380\n",
      "\n"
     ]
    },
    {
     "data": {
      "image/png": "[encoded data removed]",
      "text/plain": [
       "<Figure size 1000x500 with 1 Axes>"
      ]
     },
     "metadata": {},
     "output_type": "display_data"
    },
    {
     "name": "stdout",
     "output_type": "stream",
     "text": [
      "Final Model Accuracy: 79.47%\n"
     ]
    }
   ],
   "source": [
    "input_dim = X_train.shape[1]\n",
    "hidden_dim = 256 \n",
    "print(f\"Training MLP model with input_dim={input_dim} and hidden_dim={hidden_dim}\")\n",
    "\n",
    "custom_mlp, losses, best_accuracy = train_model(X_train, y_train, X_test, y_test, input_dim, hidden_dim)"
   ]
  },
  {
   "cell_type": "code",
   "execution_count": 21,
   "metadata": {},
   "outputs": [
    {
     "name": "stdout",
     "output_type": "stream",
     "text": [
      "Checkpoint saved to '/home/guangwei/LLM-COPYRIGHT/copyright_newVersion/models/train_input_reference_last_layer.pth'.\n"
     ]
    }
   ],
   "source": [
    "def save_checkpoint(model, optimizer, epoch, loss, filepath):\n",
    "    checkpoint = {\n",
    "        'epoch': epoch + 1,\n",
    "        'model_state_dict': model.state_dict(),\n",
    "        'optimizer_state_dict': optimizer.state_dict(),\n",
    "        'loss': loss\n",
    "    }\n",
    "    torch.save(checkpoint, filepath)\n",
    "    print(f\"Checkpoint saved to '{filepath}'.\")\n",
    "\n",
    "save_checkpoint(custom_mlp, torch.optim.Adam(custom_mlp.parameters()), len(losses), losses[-1], checkpoint_file)"
   ]
  },
  {
   "cell_type": "code",
   "execution_count": 22,
   "metadata": {},
   "outputs": [
    {
     "name": "stdout",
     "output_type": "stream",
     "text": [
      "                  precision    recall  f1-score   support\n",
      "\n",
      "    infringement       0.85      0.73      0.78       194\n",
      "non_infringement       0.75      0.86      0.80       186\n",
      "\n",
      "        accuracy                           0.79       380\n",
      "       macro avg       0.80      0.80      0.79       380\n",
      "    weighted avg       0.80      0.79      0.79       380\n",
      "\n"
     ]
    },
    {
     "name": "stderr",
     "output_type": "stream",
     "text": [
      "/tmp/ipykernel_2501260/2137335780.py:1: UserWarning: To copy construct from a tensor, it is recommended to use sourceTensor.clone().detach() or sourceTensor.clone().detach().requires_grad_(True), rather than torch.tensor(sourceTensor).\n",
      "  y_pred_final = (torch.sigmoid(torch.tensor(custom_mlp(torch.tensor(X_test, dtype=torch.float32)))) > 0.5).float().numpy()\n"
     ]
    }
   ],
   "source": [
    "y_pred_final = (torch.sigmoid(torch.tensor(custom_mlp(torch.tensor(X_test, dtype=torch.float32)))) > 0.5).float().numpy()\n",
    "print(classification_report(y_test, y_pred_final, target_names=[\"infringement\", \"non_infringement\"]))"
   ]
  }
 ],
 "metadata": {
  "kernelspec": {
   "display_name": "zdh",
   "language": "python",
   "name": "python3"
  },
  "language_info": {
   "codemirror_mode": {
    "name": "ipython",
    "version": 3
   },
   "file_extension": ".py",
   "mimetype": "text/x-python",
   "name": "python",
   "nbconvert_exporter": "python",
   "pygments_lexer": "ipython3",
   "version": "3.9.20"
  }
 },
 "nbformat": 4,
 "nbformat_minor": 2
}
