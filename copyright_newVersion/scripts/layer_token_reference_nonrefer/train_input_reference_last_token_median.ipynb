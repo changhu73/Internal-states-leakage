{
 "cells": [
  {
   "cell_type": "code",
   "execution_count": 29,
   "metadata": {},
   "outputs": [],
   "source": [
    "# import packages & variables\n",
    "import argparse\n",
    "import torch\n",
    "import torch.nn as nn\n",
    "import numpy as np\n",
    "from sklearn.metrics import accuracy_score, classification_report\n",
    "import matplotlib.pyplot as plt\n",
    "from tqdm import tqdm\n",
    "from transformers import AutoTokenizer, AutoModelForCausalLM, AutoModel, AutoModelForSequenceClassification\n",
    "import json\n",
    "import os\n",
    "\n",
    "os.environ[\"CUDA_VISIBLE_DEVICES\"] = \"5\"\n",
    "\n",
    "# Parameters\n",
    "model_name = 'meta-llama/Meta-Llama-3.1-8B'\n",
    "non_infringement_file = '/home/guangwei/LLM-COPYRIGHT/copyright_newVersion/test_division/extra.non_infringement.json'\n",
    "infringement_file = '/home/guangwei/LLM-COPYRIGHT/copyright_newVersion/test_division/extra.infringement.json'\n",
    "checkpoint_file = '/home/guangwei/LLM-COPYRIGHT/copyright_newVersion/models/train_input_reference_last_token.pth'\n"
   ]
  },
  {
   "cell_type": "code",
   "execution_count": 30,
   "metadata": {},
   "outputs": [],
   "source": [
    "# Define CustumMLP for internal states train\n",
    "class CustomMLP(nn.Module):\n",
    "    def __init__(self, input_dim, hidden_dim):\n",
    "        super(CustomMLP, self).__init__()\n",
    "        self.down = nn.Linear(input_dim, hidden_dim)\n",
    "        self.gate = nn.Linear(input_dim, hidden_dim)\n",
    "        self.up = nn.Linear(hidden_dim, 1)\n",
    "        self.activation = nn.SiLU()\n",
    "\n",
    "    def forward(self, x):\n",
    "        down_output = self.down(x)\n",
    "        gate_output = self.gate(x)\n",
    "        gated_output = down_output * self.activation(gate_output)\n",
    "        return self.up(gated_output)"
   ]
  },
  {
   "cell_type": "code",
   "execution_count": 31,
   "metadata": {},
   "outputs": [],
   "source": [
    "# Extract hidden states/reference embeddings\n",
    "def extract_hidden_states(texts, model, tokenizer, batch_size=4):\n",
    "    device = torch.device(\"cuda\" if torch.cuda.is_available() else \"cpu\")\n",
    "    model.to(device)\n",
    "    model = nn.DataParallel(model)\n",
    "    hidden_states = []\n",
    "    for i in tqdm(range(0, len(texts), batch_size), desc=\"Processing data batches\"):\n",
    "        batch_texts = texts[i:i + batch_size]\n",
    "        inputs = tokenizer(batch_texts, return_tensors=\"pt\", padding=True, truncation=True)\n",
    "        with torch.no_grad():\n",
    "            outputs = model(**inputs)\n",
    "        \n",
    "        # 访问最后一个隐藏层的最后一个token的隐藏状态\n",
    "        # hidden_states[-1]表示最后一个隐藏层，mean(dim=1)表示取所有头的均值\n",
    "        last_layer_hidden_states = outputs.hidden_states[-1]\n",
    "        last_token_hidden_states = last_layer_hidden_states[:, -1, :]  # -1表示最后一个token\n",
    "        hidden_states.append(last_token_hidden_states.cpu().numpy())\n",
    "    return np.vstack(hidden_states)\n",
    "\n",
    "def extract_reference_embeddings(references, model, tokenizer, batch_size=4):\n",
    "    device = torch.device(\"cuda\" if torch.cuda.is_available() else \"cpu\")\n",
    "    model.to(device)\n",
    "    model = nn.DataParallel(model)\n",
    "    embeddings = []\n",
    "    for i in tqdm(range(0, len(references), batch_size), desc=\"Processing references\"):\n",
    "        batch_references = references[i:i + batch_size]\n",
    "        inputs = tokenizer(batch_references, return_tensors=\"pt\", padding=True, truncation=True).to(device)\n",
    "        with torch.no_grad():\n",
    "            outputs = model(**inputs)\n",
    "        embeddings.append(outputs.pooler_output.cpu().numpy())\n",
    "    return np.vstack(embeddings)"
   ]
  },
  {
   "cell_type": "code",
   "execution_count": 32,
   "metadata": {},
   "outputs": [],
   "source": [
    "# load data for infringement & non infringement\n",
    "def load_data(non_infringement_file, infringement_file):\n",
    "    with open(non_infringement_file, 'r', encoding='utf-8') as file:\n",
    "        non_infringement_json_data = json.load(file)\n",
    "\n",
    "    non_infringement_outputs = [entry['input'] for entry in non_infringement_json_data]\n",
    "    non_infringement_references = [entry['reference'] for entry in non_infringement_json_data]\n",
    "    y_non_infringement = [1] * len(non_infringement_outputs)\n",
    "\n",
    "    with open(infringement_file, 'r', encoding='utf-8') as file:\n",
    "        infringement_json_data = json.load(file)\n",
    "\n",
    "    infringement_outputs = [entry['input'] for entry in infringement_json_data]\n",
    "    infringement_references = [entry['reference'] for entry in infringement_json_data]\n",
    "    y_infringement = [0] * len(infringement_outputs)\n",
    "\n",
    "    return non_infringement_outputs, non_infringement_references, y_non_infringement, infringement_outputs, infringement_references, y_infringement"
   ]
  },
  {
   "cell_type": "code",
   "execution_count": 33,
   "metadata": {},
   "outputs": [],
   "source": [
    "# Train for best model\n",
    "def train_model(X_train, y_train, X_test, y_test, input_dim, hidden_dim, epochs=500, lr=0.001, checkpoint_path=checkpoint_file):\n",
    "    custom_mlp = CustomMLP(input_dim, hidden_dim)\n",
    "    criterion = nn.BCEWithLogitsLoss()\n",
    "    optimizer = torch.optim.Adam(custom_mlp.parameters(), lr=lr)\n",
    "\n",
    "    X_train_tensor = torch.tensor(X_train, dtype=torch.float32)\n",
    "    y_train_tensor = torch.tensor(y_train, dtype=torch.float32).unsqueeze(1)\n",
    "\n",
    "    best_accuracy = -float('inf')\n",
    "    best_model_state = None\n",
    "    best_epoch = 0\n",
    "    losses = []\n",
    "\n",
    "    for epoch in tqdm(range(epochs), desc=\"Training Epochs\"):\n",
    "        custom_mlp.train()\n",
    "        optimizer.zero_grad()\n",
    "        outputs = custom_mlp(X_train_tensor)\n",
    "        loss = criterion(outputs, y_train_tensor)\n",
    "        loss.backward()\n",
    "        optimizer.step()\n",
    "        losses.append(loss.item())\n",
    "\n",
    "        if (epoch + 1) % 10 == 0:\n",
    "            print(f\"Epoch {epoch + 1}/{epochs}, Loss: {loss.item():.4f}\")\n",
    "            \n",
    "            custom_mlp.eval()\n",
    "            X_test_tensor = torch.tensor(X_test, dtype=torch.float32)\n",
    "            with torch.no_grad():\n",
    "                y_pred_logits = custom_mlp(X_test_tensor)\n",
    "                y_pred = (torch.sigmoid(y_pred_logits) > 0.5).float().numpy()\n",
    "            \n",
    "            accuracy = accuracy_score(y_test, y_pred)\n",
    "            print(f\"Test Accuracy at Epoch {epoch + 1}: {accuracy * 100:.2f}%\")\n",
    "            \n",
    "            report = classification_report(y_test, y_pred, target_names=[\"infringement\", \"non_infringement\"])\n",
    "            print(f\"Classification Report at Epoch {epoch + 1}:\\n{report}\")\n",
    "\n",
    "            if accuracy > best_accuracy:\n",
    "                best_accuracy = accuracy\n",
    "                best_model_state = custom_mlp.state_dict()\n",
    "                best_epoch = epoch + 1\n",
    "                torch.save(best_model_state, checkpoint_path)\n",
    "                print(f\"New best model saved with accuracy {best_accuracy * 100:.2f}% at epoch {best_epoch}\")\n",
    "                print(f\"Best Classification Report at Epoch {best_epoch}:\\n{report}\")\n",
    "\n",
    "    custom_mlp.load_state_dict(torch.load(checkpoint_path))\n",
    "\n",
    "    plt.figure(figsize=(10, 5))\n",
    "    plt.plot(losses, label='Training Loss')\n",
    "    plt.xlabel('Epoch')\n",
    "    plt.ylabel('Loss')\n",
    "    plt.title('Training Loss Curve')\n",
    "    plt.legend()\n",
    "    plt.show()\n",
    "\n",
    "    print(f\"Final Model Accuracy: {best_accuracy * 100:.2f}%\")\n",
    "    \n",
    "    return custom_mlp, losses, best_accuracy"
   ]
  },
  {
   "cell_type": "code",
   "execution_count": 34,
   "metadata": {},
   "outputs": [
    {
     "name": "stderr",
     "output_type": "stream",
     "text": [
      "Loading checkpoint shards: 100%|██████████| 4/4 [00:04<00:00,  1.04s/it]\n"
     ]
    }
   ],
   "source": [
    "tokenizer = AutoTokenizer.from_pretrained(model_name, model_max_length=512)\n",
    "model = AutoModelForCausalLM.from_pretrained(model_name, output_hidden_states=True)\n",
    "tokenizer.pad_token = tokenizer.eos_token\n",
    "bert_tokenizer = AutoTokenizer.from_pretrained('google-bert/bert-base-uncased')\n",
    "bert_model = AutoModel.from_pretrained('google-bert/bert-base-uncased')\n",
    "bert_tokenizer.pad_token = tokenizer.eos_token\n",
    "\n",
    "non_infringement_outputs, non_infringement_references, y_non_infringement, infringement_outputs, infringement_references, y_infringement = load_data(\n",
    "    non_infringement_file, infringement_file\n",
    ")\n",
    "\n",
    "y_non_infringement = np.array(y_non_infringement)\n",
    "y_infringement = np.array(y_infringement)\n"
   ]
  },
  {
   "cell_type": "code",
   "execution_count": 35,
   "metadata": {},
   "outputs": [
    {
     "name": "stdout",
     "output_type": "stream",
     "text": [
      "Extracting hidden states for non_infringement texts...\n"
     ]
    },
    {
     "name": "stderr",
     "output_type": "stream",
     "text": [
      "Processing data batches: 100%|██████████| 373/373 [01:42<00:00,  3.65it/s]\n"
     ]
    },
    {
     "name": "stdout",
     "output_type": "stream",
     "text": [
      "Extracting reference embeddings for non_infringement texts...\n"
     ]
    },
    {
     "name": "stderr",
     "output_type": "stream",
     "text": [
      "Processing references: 100%|██████████| 373/373 [00:03<00:00, 98.52it/s] \n"
     ]
    },
    {
     "name": "stdout",
     "output_type": "stream",
     "text": [
      "Extracting hidden states for infringement texts...\n"
     ]
    },
    {
     "name": "stderr",
     "output_type": "stream",
     "text": [
      "Processing data batches: 100%|██████████| 354/354 [01:52<00:00,  3.15it/s]\n"
     ]
    },
    {
     "name": "stdout",
     "output_type": "stream",
     "text": [
      "Extracting reference embeddings for infringement texts...\n"
     ]
    },
    {
     "name": "stderr",
     "output_type": "stream",
     "text": [
      "Processing references: 100%|██████████| 354/354 [00:03<00:00, 106.76it/s]\n"
     ]
    }
   ],
   "source": [
    "print(\"Extracting hidden states for non_infringement texts...\")\n",
    "X_non_infringement = extract_hidden_states(non_infringement_outputs, model, tokenizer)\n",
    "print(\"Extracting reference embeddings for non_infringement texts...\")\n",
    "reference_embeddings_non_infringement = extract_reference_embeddings(non_infringement_references, bert_model, bert_tokenizer)\n",
    "X_non_infringement_combined = np.hstack([X_non_infringement, reference_embeddings_non_infringement])\n",
    "\n",
    "print(\"Extracting hidden states for infringement texts...\")\n",
    "X_infringement = extract_hidden_states(infringement_outputs, model, tokenizer)\n",
    "print(\"Extracting reference embeddings for infringement texts...\")\n",
    "reference_embeddings_infringement = extract_reference_embeddings(infringement_references, bert_model, bert_tokenizer)\n",
    "X_infringement_combined = np.hstack([X_infringement, reference_embeddings_infringement])"
   ]
  },
  {
   "cell_type": "code",
   "execution_count": 36,
   "metadata": {},
   "outputs": [
    {
     "name": "stdout",
     "output_type": "stream",
     "text": [
      "Data successfully split into training and test sets.\n"
     ]
    }
   ],
   "source": [
    "split_index_non_infringement = int(0.8 * len(X_non_infringement_combined))\n",
    "X_non_infringement_train = X_non_infringement_combined[:split_index_non_infringement]\n",
    "X_non_infringement_test = X_non_infringement_combined[split_index_non_infringement:]\n",
    "y_non_infringement_train = y_non_infringement[:split_index_non_infringement]\n",
    "y_non_infringement_test = y_non_infringement[split_index_non_infringement:]\n",
    "\n",
    "split_index_infringement = int(0.8 * len(X_infringement_combined))\n",
    "X_infringement_train = X_infringement_combined[:split_index_infringement]\n",
    "X_infringement_test = X_infringement_combined[split_index_infringement:]\n",
    "y_infringement_train = y_infringement[:split_index_infringement]\n",
    "y_infringement_test = y_infringement[split_index_infringement:]\n",
    "\n",
    "X_train = np.vstack((X_non_infringement_train, X_infringement_train))\n",
    "X_test = np.vstack((X_non_infringement_test, X_infringement_test))\n",
    "y_train = np.concatenate((y_non_infringement_train, y_infringement_train))\n",
    "y_test = np.concatenate((y_non_infringement_test, y_infringement_test))\n",
    "\n",
    "print(\"Data successfully split into training and test sets.\")"
   ]
  },
  {
   "cell_type": "code",
   "execution_count": 37,
   "metadata": {},
   "outputs": [
    {
     "name": "stdout",
     "output_type": "stream",
     "text": [
      "Training MLP model with input_dim=4864 and hidden_dim=256\n"
     ]
    },
    {
     "name": "stderr",
     "output_type": "stream",
     "text": [
      "Training Epochs:   3%|▎         | 15/500 [00:00<00:18, 26.94it/s]"
     ]
    },
    {
     "name": "stdout",
     "output_type": "stream",
     "text": [
      "Epoch 10/500, Loss: 2.3484\n",
      "Test Accuracy at Epoch 10: 53.70%\n",
      "Classification Report at Epoch 10:\n",
      "                  precision    recall  f1-score   support\n",
      "\n",
      "    infringement       0.51      0.92      0.66       283\n",
      "non_infringement       0.70      0.17      0.27       298\n",
      "\n",
      "        accuracy                           0.54       581\n",
      "       macro avg       0.61      0.55      0.47       581\n",
      "    weighted avg       0.61      0.54      0.46       581\n",
      "\n",
      "New best model saved with accuracy 53.70% at epoch 10\n",
      "Best Classification Report at Epoch 10:\n",
      "                  precision    recall  f1-score   support\n",
      "\n",
      "    infringement       0.51      0.92      0.66       283\n",
      "non_infringement       0.70      0.17      0.27       298\n",
      "\n",
      "        accuracy                           0.54       581\n",
      "       macro avg       0.61      0.55      0.47       581\n",
      "    weighted avg       0.61      0.54      0.46       581\n",
      "\n"
     ]
    },
    {
     "name": "stderr",
     "output_type": "stream",
     "text": [
      "Training Epochs:   5%|▌         | 25/500 [00:01<00:17, 27.71it/s]"
     ]
    },
    {
     "name": "stdout",
     "output_type": "stream",
     "text": [
      "Epoch 20/500, Loss: 0.5642\n",
      "Test Accuracy at Epoch 20: 61.10%\n",
      "Classification Report at Epoch 20:\n",
      "                  precision    recall  f1-score   support\n",
      "\n",
      "    infringement       0.70      0.35      0.47       283\n",
      "non_infringement       0.58      0.86      0.69       298\n",
      "\n",
      "        accuracy                           0.61       581\n",
      "       macro avg       0.64      0.60      0.58       581\n",
      "    weighted avg       0.64      0.61      0.58       581\n",
      "\n",
      "New best model saved with accuracy 61.10% at epoch 20\n",
      "Best Classification Report at Epoch 20:\n",
      "                  precision    recall  f1-score   support\n",
      "\n",
      "    infringement       0.70      0.35      0.47       283\n",
      "non_infringement       0.58      0.86      0.69       298\n",
      "\n",
      "        accuracy                           0.61       581\n",
      "       macro avg       0.64      0.60      0.58       581\n",
      "    weighted avg       0.64      0.61      0.58       581\n",
      "\n"
     ]
    },
    {
     "name": "stderr",
     "output_type": "stream",
     "text": [
      "Training Epochs:   7%|▋         | 35/500 [00:01<00:15, 29.68it/s]"
     ]
    },
    {
     "name": "stdout",
     "output_type": "stream",
     "text": [
      "Epoch 30/500, Loss: 0.5412\n",
      "Test Accuracy at Epoch 30: 64.20%\n",
      "Classification Report at Epoch 30:\n",
      "                  precision    recall  f1-score   support\n",
      "\n",
      "    infringement       0.70      0.46      0.56       283\n",
      "non_infringement       0.61      0.82      0.70       298\n",
      "\n",
      "        accuracy                           0.64       581\n",
      "       macro avg       0.66      0.64      0.63       581\n",
      "    weighted avg       0.66      0.64      0.63       581\n",
      "\n",
      "New best model saved with accuracy 64.20% at epoch 30\n",
      "Best Classification Report at Epoch 30:\n",
      "                  precision    recall  f1-score   support\n",
      "\n",
      "    infringement       0.70      0.46      0.56       283\n",
      "non_infringement       0.61      0.82      0.70       298\n",
      "\n",
      "        accuracy                           0.64       581\n",
      "       macro avg       0.66      0.64      0.63       581\n",
      "    weighted avg       0.66      0.64      0.63       581\n",
      "\n"
     ]
    },
    {
     "name": "stderr",
     "output_type": "stream",
     "text": [
      "Training Epochs:   9%|▊         | 43/500 [00:01<00:17, 26.40it/s]"
     ]
    },
    {
     "name": "stdout",
     "output_type": "stream",
     "text": [
      "Epoch 40/500, Loss: 0.5360\n",
      "Test Accuracy at Epoch 40: 64.72%\n",
      "Classification Report at Epoch 40:\n",
      "                  precision    recall  f1-score   support\n",
      "\n",
      "    infringement       0.72      0.45      0.55       283\n",
      "non_infringement       0.61      0.84      0.71       298\n",
      "\n",
      "        accuracy                           0.65       581\n",
      "       macro avg       0.67      0.64      0.63       581\n",
      "    weighted avg       0.67      0.65      0.63       581\n",
      "\n",
      "New best model saved with accuracy 64.72% at epoch 40\n",
      "Best Classification Report at Epoch 40:\n",
      "                  precision    recall  f1-score   support\n",
      "\n",
      "    infringement       0.72      0.45      0.55       283\n",
      "non_infringement       0.61      0.84      0.71       298\n",
      "\n",
      "        accuracy                           0.65       581\n",
      "       macro avg       0.67      0.64      0.63       581\n",
      "    weighted avg       0.67      0.65      0.63       581\n",
      "\n"
     ]
    },
    {
     "name": "stderr",
     "output_type": "stream",
     "text": [
      "Training Epochs:  10%|█         | 51/500 [00:01<00:16, 26.97it/s]"
     ]
    },
    {
     "name": "stdout",
     "output_type": "stream",
     "text": [
      "Epoch 50/500, Loss: 0.5307\n",
      "Test Accuracy at Epoch 50: 65.23%\n",
      "Classification Report at Epoch 50:\n",
      "                  precision    recall  f1-score   support\n",
      "\n",
      "    infringement       0.72      0.47      0.57       283\n",
      "non_infringement       0.62      0.83      0.71       298\n",
      "\n",
      "        accuracy                           0.65       581\n",
      "       macro avg       0.67      0.65      0.64       581\n",
      "    weighted avg       0.67      0.65      0.64       581\n",
      "\n",
      "New best model saved with accuracy 65.23% at epoch 50\n",
      "Best Classification Report at Epoch 50:\n",
      "                  precision    recall  f1-score   support\n",
      "\n",
      "    infringement       0.72      0.47      0.57       283\n",
      "non_infringement       0.62      0.83      0.71       298\n",
      "\n",
      "        accuracy                           0.65       581\n",
      "       macro avg       0.67      0.65      0.64       581\n",
      "    weighted avg       0.67      0.65      0.64       581\n",
      "\n"
     ]
    },
    {
     "name": "stderr",
     "output_type": "stream",
     "text": [
      "Training Epochs:  13%|█▎        | 63/500 [00:02<00:15, 27.60it/s]"
     ]
    },
    {
     "name": "stdout",
     "output_type": "stream",
     "text": [
      "Epoch 60/500, Loss: 0.5254\n",
      "Test Accuracy at Epoch 60: 64.72%\n",
      "Classification Report at Epoch 60:\n",
      "                  precision    recall  f1-score   support\n",
      "\n",
      "    infringement       0.70      0.48      0.57       283\n",
      "non_infringement       0.62      0.81      0.70       298\n",
      "\n",
      "        accuracy                           0.65       581\n",
      "       macro avg       0.66      0.64      0.64       581\n",
      "    weighted avg       0.66      0.65      0.64       581\n",
      "\n"
     ]
    },
    {
     "name": "stderr",
     "output_type": "stream",
     "text": [
      "Training Epochs:  15%|█▌        | 75/500 [00:02<00:14, 29.53it/s]"
     ]
    },
    {
     "name": "stdout",
     "output_type": "stream",
     "text": [
      "Epoch 70/500, Loss: 0.5205\n",
      "Test Accuracy at Epoch 70: 65.06%\n",
      "Classification Report at Epoch 70:\n",
      "                  precision    recall  f1-score   support\n",
      "\n",
      "    infringement       0.71      0.48      0.57       283\n",
      "non_infringement       0.62      0.81      0.70       298\n",
      "\n",
      "        accuracy                           0.65       581\n",
      "       macro avg       0.66      0.65      0.64       581\n",
      "    weighted avg       0.66      0.65      0.64       581\n",
      "\n"
     ]
    },
    {
     "name": "stderr",
     "output_type": "stream",
     "text": [
      "Training Epochs:  17%|█▋        | 84/500 [00:02<00:12, 33.17it/s]"
     ]
    },
    {
     "name": "stdout",
     "output_type": "stream",
     "text": [
      "Epoch 80/500, Loss: 0.5153\n",
      "Test Accuracy at Epoch 80: 64.89%\n",
      "Classification Report at Epoch 80:\n",
      "                  precision    recall  f1-score   support\n",
      "\n",
      "    infringement       0.69      0.51      0.59       283\n",
      "non_infringement       0.63      0.78      0.69       298\n",
      "\n",
      "        accuracy                           0.65       581\n",
      "       macro avg       0.66      0.65      0.64       581\n",
      "    weighted avg       0.66      0.65      0.64       581\n",
      "\n"
     ]
    },
    {
     "name": "stderr",
     "output_type": "stream",
     "text": [
      "Training Epochs:  19%|█▉        | 97/500 [00:03<00:11, 33.82it/s]"
     ]
    },
    {
     "name": "stdout",
     "output_type": "stream",
     "text": [
      "Epoch 90/500, Loss: 0.5098\n",
      "Test Accuracy at Epoch 90: 64.03%\n",
      "Classification Report at Epoch 90:\n",
      "                  precision    recall  f1-score   support\n",
      "\n",
      "    infringement       0.67      0.51      0.58       283\n",
      "non_infringement       0.62      0.76      0.68       298\n",
      "\n",
      "        accuracy                           0.64       581\n",
      "       macro avg       0.65      0.64      0.63       581\n",
      "    weighted avg       0.65      0.64      0.63       581\n",
      "\n"
     ]
    },
    {
     "name": "stderr",
     "output_type": "stream",
     "text": [
      "Training Epochs:  20%|██        | 101/500 [00:03<00:11, 33.80it/s]"
     ]
    },
    {
     "name": "stdout",
     "output_type": "stream",
     "text": [
      "Epoch 100/500, Loss: 0.5035\n",
      "Test Accuracy at Epoch 100: 63.17%\n",
      "Classification Report at Epoch 100:\n",
      "                  precision    recall  f1-score   support\n",
      "\n",
      "    infringement       0.65      0.52      0.58       283\n",
      "non_infringement       0.62      0.73      0.67       298\n",
      "\n",
      "        accuracy                           0.63       581\n",
      "       macro avg       0.64      0.63      0.63       581\n",
      "    weighted avg       0.63      0.63      0.63       581\n",
      "\n"
     ]
    },
    {
     "name": "stderr",
     "output_type": "stream",
     "text": [
      "Training Epochs:  23%|██▎       | 114/500 [00:04<00:13, 28.27it/s]"
     ]
    },
    {
     "name": "stdout",
     "output_type": "stream",
     "text": [
      "Epoch 110/500, Loss: 0.4963\n",
      "Test Accuracy at Epoch 110: 63.86%\n",
      "Classification Report at Epoch 110:\n",
      "                  precision    recall  f1-score   support\n",
      "\n",
      "    infringement       0.66      0.53      0.59       283\n",
      "non_infringement       0.62      0.74      0.68       298\n",
      "\n",
      "        accuracy                           0.64       581\n",
      "       macro avg       0.64      0.64      0.63       581\n",
      "    weighted avg       0.64      0.64      0.63       581\n",
      "\n"
     ]
    },
    {
     "name": "stderr",
     "output_type": "stream",
     "text": [
      "Training Epochs:  24%|██▍       | 122/500 [00:04<00:11, 32.34it/s]"
     ]
    },
    {
     "name": "stdout",
     "output_type": "stream",
     "text": [
      "Epoch 120/500, Loss: 0.4895\n",
      "Test Accuracy at Epoch 120: 63.86%\n",
      "Classification Report at Epoch 120:\n",
      "                  precision    recall  f1-score   support\n",
      "\n",
      "    infringement       0.66      0.53      0.59       283\n",
      "non_infringement       0.62      0.74      0.68       298\n",
      "\n",
      "        accuracy                           0.64       581\n",
      "       macro avg       0.64      0.64      0.63       581\n",
      "    weighted avg       0.64      0.64      0.63       581\n",
      "\n"
     ]
    },
    {
     "name": "stderr",
     "output_type": "stream",
     "text": [
      "Training Epochs:  27%|██▋       | 134/500 [00:04<00:11, 32.36it/s]"
     ]
    },
    {
     "name": "stdout",
     "output_type": "stream",
     "text": [
      "Epoch 130/500, Loss: 0.4793\n",
      "Test Accuracy at Epoch 130: 66.09%\n",
      "Classification Report at Epoch 130:\n",
      "                  precision    recall  f1-score   support\n",
      "\n",
      "    infringement       0.69      0.55      0.61       283\n",
      "non_infringement       0.64      0.77      0.70       298\n",
      "\n",
      "        accuracy                           0.66       581\n",
      "       macro avg       0.67      0.66      0.66       581\n",
      "    weighted avg       0.67      0.66      0.66       581\n",
      "\n",
      "New best model saved with accuracy 66.09% at epoch 130\n",
      "Best Classification Report at Epoch 130:\n",
      "                  precision    recall  f1-score   support\n",
      "\n",
      "    infringement       0.69      0.55      0.61       283\n",
      "non_infringement       0.64      0.77      0.70       298\n",
      "\n",
      "        accuracy                           0.66       581\n",
      "       macro avg       0.67      0.66      0.66       581\n",
      "    weighted avg       0.67      0.66      0.66       581\n",
      "\n"
     ]
    },
    {
     "name": "stderr",
     "output_type": "stream",
     "text": [
      "Training Epochs:  28%|██▊       | 142/500 [00:04<00:12, 29.48it/s]"
     ]
    },
    {
     "name": "stdout",
     "output_type": "stream",
     "text": [
      "Epoch 140/500, Loss: 0.4687\n",
      "Test Accuracy at Epoch 140: 67.64%\n",
      "Classification Report at Epoch 140:\n",
      "                  precision    recall  f1-score   support\n",
      "\n",
      "    infringement       0.72      0.55      0.63       283\n",
      "non_infringement       0.65      0.79      0.72       298\n",
      "\n",
      "        accuracy                           0.68       581\n",
      "       macro avg       0.68      0.67      0.67       581\n",
      "    weighted avg       0.68      0.68      0.67       581\n",
      "\n",
      "New best model saved with accuracy 67.64% at epoch 140\n",
      "Best Classification Report at Epoch 140:\n",
      "                  precision    recall  f1-score   support\n",
      "\n",
      "    infringement       0.72      0.55      0.63       283\n",
      "non_infringement       0.65      0.79      0.72       298\n",
      "\n",
      "        accuracy                           0.68       581\n",
      "       macro avg       0.68      0.67      0.67       581\n",
      "    weighted avg       0.68      0.68      0.67       581\n",
      "\n"
     ]
    },
    {
     "name": "stderr",
     "output_type": "stream",
     "text": [
      "Training Epochs:  31%|███       | 156/500 [00:05<00:11, 30.61it/s]"
     ]
    },
    {
     "name": "stdout",
     "output_type": "stream",
     "text": [
      "Epoch 150/500, Loss: 0.4568\n",
      "Test Accuracy at Epoch 150: 67.99%\n",
      "Classification Report at Epoch 150:\n",
      "                  precision    recall  f1-score   support\n",
      "\n",
      "    infringement       0.72      0.55      0.63       283\n",
      "non_infringement       0.65      0.80      0.72       298\n",
      "\n",
      "        accuracy                           0.68       581\n",
      "       macro avg       0.69      0.68      0.67       581\n",
      "    weighted avg       0.69      0.68      0.67       581\n",
      "\n",
      "New best model saved with accuracy 67.99% at epoch 150\n",
      "Best Classification Report at Epoch 150:\n",
      "                  precision    recall  f1-score   support\n",
      "\n",
      "    infringement       0.72      0.55      0.63       283\n",
      "non_infringement       0.65      0.80      0.72       298\n",
      "\n",
      "        accuracy                           0.68       581\n",
      "       macro avg       0.69      0.68      0.67       581\n",
      "    weighted avg       0.69      0.68      0.67       581\n",
      "\n"
     ]
    },
    {
     "name": "stderr",
     "output_type": "stream",
     "text": [
      "Training Epochs:  33%|███▎      | 164/500 [00:05<00:11, 30.01it/s]"
     ]
    },
    {
     "name": "stdout",
     "output_type": "stream",
     "text": [
      "Epoch 160/500, Loss: 0.4434\n",
      "Test Accuracy at Epoch 160: 67.99%\n",
      "Classification Report at Epoch 160:\n",
      "                  precision    recall  f1-score   support\n",
      "\n",
      "    infringement       0.74      0.53      0.62       283\n",
      "non_infringement       0.65      0.82      0.72       298\n",
      "\n",
      "        accuracy                           0.68       581\n",
      "       macro avg       0.69      0.68      0.67       581\n",
      "    weighted avg       0.69      0.68      0.67       581\n",
      "\n"
     ]
    },
    {
     "name": "stderr",
     "output_type": "stream",
     "text": [
      "Training Epochs:  34%|███▍      | 172/500 [00:05<00:10, 30.43it/s]"
     ]
    },
    {
     "name": "stdout",
     "output_type": "stream",
     "text": [
      "Epoch 170/500, Loss: 0.4282\n",
      "Test Accuracy at Epoch 170: 68.16%\n",
      "Classification Report at Epoch 170:\n",
      "                  precision    recall  f1-score   support\n",
      "\n",
      "    infringement       0.75      0.52      0.61       283\n",
      "non_infringement       0.65      0.84      0.73       298\n",
      "\n",
      "        accuracy                           0.68       581\n",
      "       macro avg       0.70      0.68      0.67       581\n",
      "    weighted avg       0.70      0.68      0.67       581\n",
      "\n",
      "New best model saved with accuracy 68.16% at epoch 170\n",
      "Best Classification Report at Epoch 170:\n",
      "                  precision    recall  f1-score   support\n",
      "\n",
      "    infringement       0.75      0.52      0.61       283\n",
      "non_infringement       0.65      0.84      0.73       298\n",
      "\n",
      "        accuracy                           0.68       581\n",
      "       macro avg       0.70      0.68      0.67       581\n",
      "    weighted avg       0.70      0.68      0.67       581\n",
      "\n"
     ]
    },
    {
     "name": "stderr",
     "output_type": "stream",
     "text": [
      "Training Epochs:  37%|███▋      | 184/500 [00:06<00:10, 30.80it/s]"
     ]
    },
    {
     "name": "stdout",
     "output_type": "stream",
     "text": [
      "Epoch 180/500, Loss: 0.4112\n",
      "Test Accuracy at Epoch 180: 68.67%\n",
      "Classification Report at Epoch 180:\n",
      "                  precision    recall  f1-score   support\n",
      "\n",
      "    infringement       0.76      0.53      0.62       283\n",
      "non_infringement       0.65      0.84      0.73       298\n",
      "\n",
      "        accuracy                           0.69       581\n",
      "       macro avg       0.70      0.68      0.68       581\n",
      "    weighted avg       0.70      0.69      0.68       581\n",
      "\n",
      "New best model saved with accuracy 68.67% at epoch 180\n",
      "Best Classification Report at Epoch 180:\n",
      "                  precision    recall  f1-score   support\n",
      "\n",
      "    infringement       0.76      0.53      0.62       283\n",
      "non_infringement       0.65      0.84      0.73       298\n",
      "\n",
      "        accuracy                           0.69       581\n",
      "       macro avg       0.70      0.68      0.68       581\n",
      "    weighted avg       0.70      0.69      0.68       581\n",
      "\n"
     ]
    },
    {
     "name": "stderr",
     "output_type": "stream",
     "text": [
      "Training Epochs:  39%|███▉      | 195/500 [00:06<00:10, 29.78it/s]"
     ]
    },
    {
     "name": "stdout",
     "output_type": "stream",
     "text": [
      "Epoch 190/500, Loss: 0.3934\n",
      "Test Accuracy at Epoch 190: 69.88%\n",
      "Classification Report at Epoch 190:\n",
      "                  precision    recall  f1-score   support\n",
      "\n",
      "    infringement       0.76      0.56      0.65       283\n",
      "non_infringement       0.67      0.83      0.74       298\n",
      "\n",
      "        accuracy                           0.70       581\n",
      "       macro avg       0.71      0.70      0.69       581\n",
      "    weighted avg       0.71      0.70      0.69       581\n",
      "\n",
      "New best model saved with accuracy 69.88% at epoch 190\n",
      "Best Classification Report at Epoch 190:\n",
      "                  precision    recall  f1-score   support\n",
      "\n",
      "    infringement       0.76      0.56      0.65       283\n",
      "non_infringement       0.67      0.83      0.74       298\n",
      "\n",
      "        accuracy                           0.70       581\n",
      "       macro avg       0.71      0.70      0.69       581\n",
      "    weighted avg       0.71      0.70      0.69       581\n",
      "\n"
     ]
    },
    {
     "name": "stderr",
     "output_type": "stream",
     "text": [
      "Training Epochs:  41%|████      | 206/500 [00:07<00:09, 31.47it/s]"
     ]
    },
    {
     "name": "stdout",
     "output_type": "stream",
     "text": [
      "Epoch 200/500, Loss: 0.3766\n",
      "Test Accuracy at Epoch 200: 70.91%\n",
      "Classification Report at Epoch 200:\n",
      "                  precision    recall  f1-score   support\n",
      "\n",
      "    infringement       0.76      0.59      0.66       283\n",
      "non_infringement       0.68      0.82      0.74       298\n",
      "\n",
      "        accuracy                           0.71       581\n",
      "       macro avg       0.72      0.71      0.70       581\n",
      "    weighted avg       0.72      0.71      0.70       581\n",
      "\n",
      "New best model saved with accuracy 70.91% at epoch 200\n",
      "Best Classification Report at Epoch 200:\n",
      "                  precision    recall  f1-score   support\n",
      "\n",
      "    infringement       0.76      0.59      0.66       283\n",
      "non_infringement       0.68      0.82      0.74       298\n",
      "\n",
      "        accuracy                           0.71       581\n",
      "       macro avg       0.72      0.71      0.70       581\n",
      "    weighted avg       0.72      0.71      0.70       581\n",
      "\n"
     ]
    },
    {
     "name": "stderr",
     "output_type": "stream",
     "text": [
      "Training Epochs:  43%|████▎     | 215/500 [00:07<00:09, 31.35it/s]"
     ]
    },
    {
     "name": "stdout",
     "output_type": "stream",
     "text": [
      "Epoch 210/500, Loss: 0.3615\n",
      "Test Accuracy at Epoch 210: 70.57%\n",
      "Classification Report at Epoch 210:\n",
      "                  precision    recall  f1-score   support\n",
      "\n",
      "    infringement       0.75      0.60      0.67       283\n",
      "non_infringement       0.68      0.81      0.74       298\n",
      "\n",
      "        accuracy                           0.71       581\n",
      "       macro avg       0.71      0.70      0.70       581\n",
      "    weighted avg       0.71      0.71      0.70       581\n",
      "\n"
     ]
    },
    {
     "name": "stderr",
     "output_type": "stream",
     "text": [
      "Training Epochs:  45%|████▍     | 224/500 [00:07<00:08, 30.97it/s]"
     ]
    },
    {
     "name": "stdout",
     "output_type": "stream",
     "text": [
      "Epoch 220/500, Loss: 0.3477\n",
      "Test Accuracy at Epoch 220: 71.60%\n",
      "Classification Report at Epoch 220:\n",
      "                  precision    recall  f1-score   support\n",
      "\n",
      "    infringement       0.75      0.62      0.68       283\n",
      "non_infringement       0.69      0.81      0.74       298\n",
      "\n",
      "        accuracy                           0.72       581\n",
      "       macro avg       0.72      0.71      0.71       581\n",
      "    weighted avg       0.72      0.72      0.71       581\n",
      "\n",
      "New best model saved with accuracy 71.60% at epoch 220\n",
      "Best Classification Report at Epoch 220:\n",
      "                  precision    recall  f1-score   support\n",
      "\n",
      "    infringement       0.75      0.62      0.68       283\n",
      "non_infringement       0.69      0.81      0.74       298\n",
      "\n",
      "        accuracy                           0.72       581\n",
      "       macro avg       0.72      0.71      0.71       581\n",
      "    weighted avg       0.72      0.72      0.71       581\n",
      "\n"
     ]
    },
    {
     "name": "stderr",
     "output_type": "stream",
     "text": [
      "Training Epochs:  47%|████▋     | 233/500 [00:07<00:08, 32.57it/s]"
     ]
    },
    {
     "name": "stdout",
     "output_type": "stream",
     "text": [
      "Epoch 230/500, Loss: 0.3348\n",
      "Test Accuracy at Epoch 230: 72.29%\n",
      "Classification Report at Epoch 230:\n",
      "                  precision    recall  f1-score   support\n",
      "\n",
      "    infringement       0.76      0.63      0.69       283\n",
      "non_infringement       0.70      0.81      0.75       298\n",
      "\n",
      "        accuracy                           0.72       581\n",
      "       macro avg       0.73      0.72      0.72       581\n",
      "    weighted avg       0.73      0.72      0.72       581\n",
      "\n",
      "New best model saved with accuracy 72.29% at epoch 230\n",
      "Best Classification Report at Epoch 230:\n",
      "                  precision    recall  f1-score   support\n",
      "\n",
      "    infringement       0.76      0.63      0.69       283\n",
      "non_infringement       0.70      0.81      0.75       298\n",
      "\n",
      "        accuracy                           0.72       581\n",
      "       macro avg       0.73      0.72      0.72       581\n",
      "    weighted avg       0.73      0.72      0.72       581\n",
      "\n"
     ]
    },
    {
     "name": "stderr",
     "output_type": "stream",
     "text": [
      "Training Epochs:  49%|████▊     | 243/500 [00:08<00:10, 24.73it/s]"
     ]
    },
    {
     "name": "stdout",
     "output_type": "stream",
     "text": [
      "Epoch 240/500, Loss: 0.3223\n",
      "Test Accuracy at Epoch 240: 72.98%\n",
      "Classification Report at Epoch 240:\n",
      "                  precision    recall  f1-score   support\n",
      "\n",
      "    infringement       0.77      0.63      0.69       283\n",
      "non_infringement       0.70      0.83      0.76       298\n",
      "\n",
      "        accuracy                           0.73       581\n",
      "       macro avg       0.74      0.73      0.73       581\n",
      "    weighted avg       0.74      0.73      0.73       581\n",
      "\n",
      "New best model saved with accuracy 72.98% at epoch 240\n",
      "Best Classification Report at Epoch 240:\n",
      "                  precision    recall  f1-score   support\n",
      "\n",
      "    infringement       0.77      0.63      0.69       283\n",
      "non_infringement       0.70      0.83      0.76       298\n",
      "\n",
      "        accuracy                           0.73       581\n",
      "       macro avg       0.74      0.73      0.73       581\n",
      "    weighted avg       0.74      0.73      0.73       581\n",
      "\n"
     ]
    },
    {
     "name": "stderr",
     "output_type": "stream",
     "text": [
      "Training Epochs:  50%|█████     | 252/500 [00:08<00:08, 30.33it/s]"
     ]
    },
    {
     "name": "stdout",
     "output_type": "stream",
     "text": [
      "Epoch 250/500, Loss: 0.3103\n",
      "Test Accuracy at Epoch 250: 72.98%\n",
      "Classification Report at Epoch 250:\n",
      "                  precision    recall  f1-score   support\n",
      "\n",
      "    infringement       0.77      0.63      0.70       283\n",
      "non_infringement       0.70      0.82      0.76       298\n",
      "\n",
      "        accuracy                           0.73       581\n",
      "       macro avg       0.74      0.73      0.73       581\n",
      "    weighted avg       0.74      0.73      0.73       581\n",
      "\n"
     ]
    },
    {
     "name": "stderr",
     "output_type": "stream",
     "text": [
      "Training Epochs:  53%|█████▎    | 264/500 [00:08<00:07, 32.56it/s]"
     ]
    },
    {
     "name": "stdout",
     "output_type": "stream",
     "text": [
      "Epoch 260/500, Loss: 0.2987\n",
      "Test Accuracy at Epoch 260: 72.98%\n",
      "Classification Report at Epoch 260:\n",
      "                  precision    recall  f1-score   support\n",
      "\n",
      "    infringement       0.76      0.64      0.70       283\n",
      "non_infringement       0.71      0.81      0.76       298\n",
      "\n",
      "        accuracy                           0.73       581\n",
      "       macro avg       0.74      0.73      0.73       581\n",
      "    weighted avg       0.73      0.73      0.73       581\n",
      "\n"
     ]
    },
    {
     "name": "stderr",
     "output_type": "stream",
     "text": [
      "Training Epochs:  55%|█████▌    | 277/500 [00:09<00:06, 33.40it/s]"
     ]
    },
    {
     "name": "stdout",
     "output_type": "stream",
     "text": [
      "Epoch 270/500, Loss: 0.2870\n",
      "Test Accuracy at Epoch 270: 71.77%\n",
      "Classification Report at Epoch 270:\n",
      "                  precision    recall  f1-score   support\n",
      "\n",
      "    infringement       0.74      0.64      0.69       283\n",
      "non_infringement       0.70      0.79      0.74       298\n",
      "\n",
      "        accuracy                           0.72       581\n",
      "       macro avg       0.72      0.72      0.72       581\n",
      "    weighted avg       0.72      0.72      0.72       581\n",
      "\n"
     ]
    },
    {
     "name": "stderr",
     "output_type": "stream",
     "text": [
      "Training Epochs:  57%|█████▋    | 285/500 [00:09<00:07, 30.66it/s]"
     ]
    },
    {
     "name": "stdout",
     "output_type": "stream",
     "text": [
      "Epoch 280/500, Loss: 0.2811\n",
      "Test Accuracy at Epoch 280: 72.46%\n",
      "Classification Report at Epoch 280:\n",
      "                  precision    recall  f1-score   support\n",
      "\n",
      "    infringement       0.73      0.70      0.71       283\n",
      "non_infringement       0.72      0.75      0.74       298\n",
      "\n",
      "        accuracy                           0.72       581\n",
      "       macro avg       0.72      0.72      0.72       581\n",
      "    weighted avg       0.72      0.72      0.72       581\n",
      "\n"
     ]
    },
    {
     "name": "stderr",
     "output_type": "stream",
     "text": [
      "Training Epochs:  59%|█████▊    | 293/500 [00:09<00:06, 32.98it/s]"
     ]
    },
    {
     "name": "stdout",
     "output_type": "stream",
     "text": [
      "Epoch 290/500, Loss: 0.3304\n",
      "Test Accuracy at Epoch 290: 70.57%\n",
      "Classification Report at Epoch 290:\n",
      "                  precision    recall  f1-score   support\n",
      "\n",
      "    infringement       0.76      0.57      0.65       283\n",
      "non_infringement       0.67      0.83      0.74       298\n",
      "\n",
      "        accuracy                           0.71       581\n",
      "       macro avg       0.72      0.70      0.70       581\n",
      "    weighted avg       0.72      0.71      0.70       581\n",
      "\n"
     ]
    },
    {
     "name": "stderr",
     "output_type": "stream",
     "text": [
      "Training Epochs:  61%|██████    | 305/500 [00:10<00:05, 32.82it/s]"
     ]
    },
    {
     "name": "stdout",
     "output_type": "stream",
     "text": [
      "Epoch 300/500, Loss: 0.2949\n",
      "Test Accuracy at Epoch 300: 71.60%\n",
      "Classification Report at Epoch 300:\n",
      "                  precision    recall  f1-score   support\n",
      "\n",
      "    infringement       0.73      0.67      0.70       283\n",
      "non_infringement       0.71      0.76      0.73       298\n",
      "\n",
      "        accuracy                           0.72       581\n",
      "       macro avg       0.72      0.71      0.71       581\n",
      "    weighted avg       0.72      0.72      0.72       581\n",
      "\n"
     ]
    },
    {
     "name": "stderr",
     "output_type": "stream",
     "text": [
      "Training Epochs:  63%|██████▎   | 317/500 [00:10<00:05, 33.49it/s]"
     ]
    },
    {
     "name": "stdout",
     "output_type": "stream",
     "text": [
      "Epoch 310/500, Loss: 0.2729\n",
      "Test Accuracy at Epoch 310: 69.88%\n",
      "Classification Report at Epoch 310:\n",
      "                  precision    recall  f1-score   support\n",
      "\n",
      "    infringement       0.75      0.57      0.65       283\n",
      "non_infringement       0.67      0.82      0.74       298\n",
      "\n",
      "        accuracy                           0.70       581\n",
      "       macro avg       0.71      0.70      0.69       581\n",
      "    weighted avg       0.71      0.70      0.69       581\n",
      "\n"
     ]
    },
    {
     "name": "stderr",
     "output_type": "stream",
     "text": [
      "Training Epochs:  65%|██████▌   | 325/500 [00:10<00:05, 32.33it/s]"
     ]
    },
    {
     "name": "stdout",
     "output_type": "stream",
     "text": [
      "Epoch 320/500, Loss: 0.2608\n",
      "Test Accuracy at Epoch 320: 70.57%\n",
      "Classification Report at Epoch 320:\n",
      "                  precision    recall  f1-score   support\n",
      "\n",
      "    infringement       0.75      0.59      0.66       283\n",
      "non_infringement       0.68      0.82      0.74       298\n",
      "\n",
      "        accuracy                           0.71       581\n",
      "       macro avg       0.71      0.70      0.70       581\n",
      "    weighted avg       0.71      0.71      0.70       581\n",
      "\n"
     ]
    },
    {
     "name": "stderr",
     "output_type": "stream",
     "text": [
      "Training Epochs:  67%|██████▋   | 333/500 [00:11<00:05, 29.00it/s]"
     ]
    },
    {
     "name": "stdout",
     "output_type": "stream",
     "text": [
      "Epoch 330/500, Loss: 0.2509\n",
      "Test Accuracy at Epoch 330: 71.26%\n",
      "Classification Report at Epoch 330:\n",
      "                  precision    recall  f1-score   support\n",
      "\n",
      "    infringement       0.75      0.61      0.68       283\n",
      "non_infringement       0.69      0.81      0.74       298\n",
      "\n",
      "        accuracy                           0.71       581\n",
      "       macro avg       0.72      0.71      0.71       581\n",
      "    weighted avg       0.72      0.71      0.71       581\n",
      "\n"
     ]
    },
    {
     "name": "stderr",
     "output_type": "stream",
     "text": [
      "Training Epochs:  69%|██████▉   | 345/500 [00:11<00:05, 30.35it/s]"
     ]
    },
    {
     "name": "stdout",
     "output_type": "stream",
     "text": [
      "Epoch 340/500, Loss: 0.2447\n",
      "Test Accuracy at Epoch 340: 71.08%\n",
      "Classification Report at Epoch 340:\n",
      "                  precision    recall  f1-score   support\n",
      "\n",
      "    infringement       0.76      0.59      0.67       283\n",
      "non_infringement       0.68      0.83      0.75       298\n",
      "\n",
      "        accuracy                           0.71       581\n",
      "       macro avg       0.72      0.71      0.71       581\n",
      "    weighted avg       0.72      0.71      0.71       581\n",
      "\n"
     ]
    },
    {
     "name": "stderr",
     "output_type": "stream",
     "text": [
      "Training Epochs:  71%|███████▏  | 357/500 [00:11<00:04, 34.22it/s]"
     ]
    },
    {
     "name": "stdout",
     "output_type": "stream",
     "text": [
      "Epoch 350/500, Loss: 0.2563\n",
      "Test Accuracy at Epoch 350: 72.81%\n",
      "Classification Report at Epoch 350:\n",
      "                  precision    recall  f1-score   support\n",
      "\n",
      "    infringement       0.76      0.64      0.70       283\n",
      "non_infringement       0.70      0.81      0.75       298\n",
      "\n",
      "        accuracy                           0.73       581\n",
      "       macro avg       0.73      0.73      0.73       581\n",
      "    weighted avg       0.73      0.73      0.73       581\n",
      "\n"
     ]
    },
    {
     "name": "stderr",
     "output_type": "stream",
     "text": [
      "Training Epochs:  73%|███████▎  | 365/500 [00:12<00:04, 31.71it/s]"
     ]
    },
    {
     "name": "stdout",
     "output_type": "stream",
     "text": [
      "Epoch 360/500, Loss: 0.2306\n",
      "Test Accuracy at Epoch 360: 70.57%\n",
      "Classification Report at Epoch 360:\n",
      "                  precision    recall  f1-score   support\n",
      "\n",
      "    infringement       0.76      0.58      0.66       283\n",
      "non_infringement       0.67      0.83      0.74       298\n",
      "\n",
      "        accuracy                           0.71       581\n",
      "       macro avg       0.72      0.70      0.70       581\n",
      "    weighted avg       0.72      0.71      0.70       581\n",
      "\n"
     ]
    },
    {
     "name": "stderr",
     "output_type": "stream",
     "text": [
      "Training Epochs:  75%|███████▍  | 373/500 [00:12<00:04, 29.20it/s]"
     ]
    },
    {
     "name": "stdout",
     "output_type": "stream",
     "text": [
      "Epoch 370/500, Loss: 0.2246\n",
      "Test Accuracy at Epoch 370: 70.91%\n",
      "Classification Report at Epoch 370:\n",
      "                  precision    recall  f1-score   support\n",
      "\n",
      "    infringement       0.76      0.59      0.66       283\n",
      "non_infringement       0.68      0.83      0.74       298\n",
      "\n",
      "        accuracy                           0.71       581\n",
      "       macro avg       0.72      0.71      0.70       581\n",
      "    weighted avg       0.72      0.71      0.70       581\n",
      "\n"
     ]
    },
    {
     "name": "stderr",
     "output_type": "stream",
     "text": [
      "Training Epochs:  77%|███████▋  | 385/500 [00:12<00:03, 29.67it/s]"
     ]
    },
    {
     "name": "stdout",
     "output_type": "stream",
     "text": [
      "Epoch 380/500, Loss: 0.2199\n",
      "Test Accuracy at Epoch 380: 71.60%\n",
      "Classification Report at Epoch 380:\n",
      "                  precision    recall  f1-score   support\n",
      "\n",
      "    infringement       0.76      0.61      0.68       283\n",
      "non_infringement       0.69      0.82      0.75       298\n",
      "\n",
      "        accuracy                           0.72       581\n",
      "       macro avg       0.72      0.71      0.71       581\n",
      "    weighted avg       0.72      0.72      0.71       581\n",
      "\n"
     ]
    },
    {
     "name": "stderr",
     "output_type": "stream",
     "text": [
      "Training Epochs:  79%|███████▊  | 393/500 [00:13<00:03, 32.42it/s]"
     ]
    },
    {
     "name": "stdout",
     "output_type": "stream",
     "text": [
      "Epoch 390/500, Loss: 0.2459\n",
      "Test Accuracy at Epoch 390: 70.40%\n",
      "Classification Report at Epoch 390:\n",
      "                  precision    recall  f1-score   support\n",
      "\n",
      "    infringement       0.78      0.55      0.64       283\n",
      "non_infringement       0.67      0.85      0.75       298\n",
      "\n",
      "        accuracy                           0.70       581\n",
      "       macro avg       0.72      0.70      0.70       581\n",
      "    weighted avg       0.72      0.70      0.70       581\n",
      "\n"
     ]
    },
    {
     "name": "stderr",
     "output_type": "stream",
     "text": [
      "Training Epochs:  81%|████████  | 405/500 [00:13<00:02, 32.11it/s]"
     ]
    },
    {
     "name": "stdout",
     "output_type": "stream",
     "text": [
      "Epoch 400/500, Loss: 0.2146\n",
      "Test Accuracy at Epoch 400: 70.40%\n",
      "Classification Report at Epoch 400:\n",
      "                  precision    recall  f1-score   support\n",
      "\n",
      "    infringement       0.75      0.59      0.66       283\n",
      "non_infringement       0.68      0.81      0.74       298\n",
      "\n",
      "        accuracy                           0.70       581\n",
      "       macro avg       0.71      0.70      0.70       581\n",
      "    weighted avg       0.71      0.70      0.70       581\n",
      "\n"
     ]
    },
    {
     "name": "stderr",
     "output_type": "stream",
     "text": [
      "Training Epochs:  83%|████████▎ | 417/500 [00:13<00:02, 33.79it/s]"
     ]
    },
    {
     "name": "stdout",
     "output_type": "stream",
     "text": [
      "Epoch 410/500, Loss: 0.2130\n",
      "Test Accuracy at Epoch 410: 70.22%\n",
      "Classification Report at Epoch 410:\n",
      "                  precision    recall  f1-score   support\n",
      "\n",
      "    infringement       0.75      0.58      0.66       283\n",
      "non_infringement       0.67      0.82      0.74       298\n",
      "\n",
      "        accuracy                           0.70       581\n",
      "       macro avg       0.71      0.70      0.70       581\n",
      "    weighted avg       0.71      0.70      0.70       581\n",
      "\n"
     ]
    },
    {
     "name": "stderr",
     "output_type": "stream",
     "text": [
      "Training Epochs:  85%|████████▌ | 425/500 [00:14<00:02, 30.58it/s]"
     ]
    },
    {
     "name": "stdout",
     "output_type": "stream",
     "text": [
      "Epoch 420/500, Loss: 0.2126\n",
      "Test Accuracy at Epoch 420: 70.57%\n",
      "Classification Report at Epoch 420:\n",
      "                  precision    recall  f1-score   support\n",
      "\n",
      "    infringement       0.75      0.59      0.66       283\n",
      "non_infringement       0.68      0.82      0.74       298\n",
      "\n",
      "        accuracy                           0.71       581\n",
      "       macro avg       0.71      0.70      0.70       581\n",
      "    weighted avg       0.71      0.71      0.70       581\n",
      "\n"
     ]
    },
    {
     "name": "stderr",
     "output_type": "stream",
     "text": [
      "Training Epochs:  87%|████████▋ | 433/500 [00:14<00:02, 29.60it/s]"
     ]
    },
    {
     "name": "stdout",
     "output_type": "stream",
     "text": [
      "Epoch 430/500, Loss: 0.2180\n",
      "Test Accuracy at Epoch 430: 71.26%\n",
      "Classification Report at Epoch 430:\n",
      "                  precision    recall  f1-score   support\n",
      "\n",
      "    infringement       0.75      0.62      0.68       283\n",
      "non_infringement       0.69      0.80      0.74       298\n",
      "\n",
      "        accuracy                           0.71       581\n",
      "       macro avg       0.72      0.71      0.71       581\n",
      "    weighted avg       0.72      0.71      0.71       581\n",
      "\n"
     ]
    },
    {
     "name": "stderr",
     "output_type": "stream",
     "text": [
      "Training Epochs:  89%|████████▉ | 445/500 [00:14<00:01, 30.04it/s]"
     ]
    },
    {
     "name": "stdout",
     "output_type": "stream",
     "text": [
      "Epoch 440/500, Loss: 0.2052\n",
      "Test Accuracy at Epoch 440: 71.26%\n",
      "Classification Report at Epoch 440:\n",
      "                  precision    recall  f1-score   support\n",
      "\n",
      "    infringement       0.75      0.61      0.67       283\n",
      "non_infringement       0.69      0.81      0.74       298\n",
      "\n",
      "        accuracy                           0.71       581\n",
      "       macro avg       0.72      0.71      0.71       581\n",
      "    weighted avg       0.72      0.71      0.71       581\n",
      "\n"
     ]
    },
    {
     "name": "stderr",
     "output_type": "stream",
     "text": [
      "Training Epochs:  91%|█████████ | 453/500 [00:15<00:01, 32.67it/s]"
     ]
    },
    {
     "name": "stdout",
     "output_type": "stream",
     "text": [
      "Epoch 450/500, Loss: 0.1974\n",
      "Test Accuracy at Epoch 450: 70.22%\n",
      "Classification Report at Epoch 450:\n",
      "                  precision    recall  f1-score   support\n",
      "\n",
      "    infringement       0.75      0.58      0.66       283\n",
      "non_infringement       0.67      0.82      0.74       298\n",
      "\n",
      "        accuracy                           0.70       581\n",
      "       macro avg       0.71      0.70      0.70       581\n",
      "    weighted avg       0.71      0.70      0.70       581\n",
      "\n"
     ]
    },
    {
     "name": "stderr",
     "output_type": "stream",
     "text": [
      "Training Epochs:  93%|█████████▎| 465/500 [00:15<00:01, 33.40it/s]"
     ]
    },
    {
     "name": "stdout",
     "output_type": "stream",
     "text": [
      "Epoch 460/500, Loss: 0.2118\n",
      "Test Accuracy at Epoch 460: 69.71%\n",
      "Classification Report at Epoch 460:\n",
      "                  precision    recall  f1-score   support\n",
      "\n",
      "    infringement       0.76      0.55      0.64       283\n",
      "non_infringement       0.66      0.83      0.74       298\n",
      "\n",
      "        accuracy                           0.70       581\n",
      "       macro avg       0.71      0.69      0.69       581\n",
      "    weighted avg       0.71      0.70      0.69       581\n",
      "\n"
     ]
    },
    {
     "name": "stderr",
     "output_type": "stream",
     "text": [
      "Training Epochs:  95%|█████████▌| 477/500 [00:15<00:00, 29.76it/s]"
     ]
    },
    {
     "name": "stdout",
     "output_type": "stream",
     "text": [
      "Epoch 470/500, Loss: 0.2061\n",
      "Test Accuracy at Epoch 470: 70.22%\n",
      "Classification Report at Epoch 470:\n",
      "                  precision    recall  f1-score   support\n",
      "\n",
      "    infringement       0.76      0.57      0.65       283\n",
      "non_infringement       0.67      0.83      0.74       298\n",
      "\n",
      "        accuracy                           0.70       581\n",
      "       macro avg       0.71      0.70      0.70       581\n",
      "    weighted avg       0.71      0.70      0.70       581\n",
      "\n"
     ]
    },
    {
     "name": "stderr",
     "output_type": "stream",
     "text": [
      "Training Epochs:  97%|█████████▋| 485/500 [00:16<00:00, 31.58it/s]"
     ]
    },
    {
     "name": "stdout",
     "output_type": "stream",
     "text": [
      "Epoch 480/500, Loss: 0.1956\n",
      "Test Accuracy at Epoch 480: 70.05%\n",
      "Classification Report at Epoch 480:\n",
      "                  precision    recall  f1-score   support\n",
      "\n",
      "    infringement       0.75      0.58      0.65       283\n",
      "non_infringement       0.67      0.82      0.74       298\n",
      "\n",
      "        accuracy                           0.70       581\n",
      "       macro avg       0.71      0.70      0.69       581\n",
      "    weighted avg       0.71      0.70      0.70       581\n",
      "\n"
     ]
    },
    {
     "name": "stderr",
     "output_type": "stream",
     "text": [
      "Training Epochs:  99%|█████████▉| 495/500 [00:16<00:00, 31.94it/s]"
     ]
    },
    {
     "name": "stdout",
     "output_type": "stream",
     "text": [
      "Epoch 490/500, Loss: 0.1909\n",
      "Test Accuracy at Epoch 490: 69.19%\n",
      "Classification Report at Epoch 490:\n",
      "                  precision    recall  f1-score   support\n",
      "\n",
      "    infringement       0.73      0.59      0.65       283\n",
      "non_infringement       0.67      0.79      0.73       298\n",
      "\n",
      "        accuracy                           0.69       581\n",
      "       macro avg       0.70      0.69      0.69       581\n",
      "    weighted avg       0.70      0.69      0.69       581\n",
      "\n"
     ]
    },
    {
     "name": "stderr",
     "output_type": "stream",
     "text": [
      "Training Epochs: 100%|██████████| 500/500 [00:16<00:00, 30.29it/s]\n",
      "/tmp/ipykernel_1340726/1033092828.py:47: FutureWarning: You are using `torch.load` with `weights_only=False` (the current default value), which uses the default pickle module implicitly. It is possible to construct malicious pickle data which will execute arbitrary code during unpickling (See https://github.com/pytorch/pytorch/blob/main/SECURITY.md#untrusted-models for more details). In a future release, the default value for `weights_only` will be flipped to `True`. This limits the functions that could be executed during unpickling. Arbitrary objects will no longer be allowed to be loaded via this mode unless they are explicitly allowlisted by the user via `torch.serialization.add_safe_globals`. We recommend you start setting `weights_only=True` for any use case where you don't have full control of the loaded file. Please open an issue on GitHub for any issues related to this experimental feature.\n",
      "  custom_mlp.load_state_dict(torch.load(checkpoint_path))\n"
     ]
    },
    {
     "name": "stdout",
     "output_type": "stream",
     "text": [
      "Epoch 500/500, Loss: 0.1960\n",
      "Test Accuracy at Epoch 500: 69.88%\n",
      "Classification Report at Epoch 500:\n",
      "                  precision    recall  f1-score   support\n",
      "\n",
      "    infringement       0.73      0.60      0.66       283\n",
      "non_infringement       0.68      0.79      0.73       298\n",
      "\n",
      "        accuracy                           0.70       581\n",
      "       macro avg       0.70      0.70      0.69       581\n",
      "    weighted avg       0.70      0.70      0.70       581\n",
      "\n"
     ]
    },
    {
     "data": {
      "image/png": "[encoded data removed]",
      "text/plain": [
       "<Figure size 1000x500 with 1 Axes>"
      ]
     },
     "metadata": {},
     "output_type": "display_data"
    },
    {
     "name": "stdout",
     "output_type": "stream",
     "text": [
      "Final Model Accuracy: 72.98%\n"
     ]
    }
   ],
   "source": [
    "input_dim = X_train.shape[1]\n",
    "hidden_dim = 256 \n",
    "print(f\"Training MLP model with input_dim={input_dim} and hidden_dim={hidden_dim}\")\n",
    "\n",
    "custom_mlp, losses, best_accuracy = train_model(X_train, y_train, X_test, y_test, input_dim, hidden_dim)"
   ]
  },
  {
   "cell_type": "code",
   "execution_count": 38,
   "metadata": {},
   "outputs": [
    {
     "name": "stdout",
     "output_type": "stream",
     "text": [
      "Checkpoint saved to '/home/guangwei/LLM-COPYRIGHT/copyright_newVersion/models/train_input_reference_last_token.pth'.\n"
     ]
    }
   ],
   "source": [
    "def save_checkpoint(model, optimizer, epoch, loss, filepath):\n",
    "    checkpoint = {\n",
    "        'epoch': epoch + 1,\n",
    "        'model_state_dict': model.state_dict(),\n",
    "        'optimizer_state_dict': optimizer.state_dict(),\n",
    "        'loss': loss\n",
    "    }\n",
    "    torch.save(checkpoint, filepath)\n",
    "    print(f\"Checkpoint saved to '{filepath}'.\")\n",
    "\n",
    "save_checkpoint(custom_mlp, torch.optim.Adam(custom_mlp.parameters()), len(losses), losses[-1], checkpoint_file)"
   ]
  },
  {
   "cell_type": "code",
   "execution_count": 39,
   "metadata": {},
   "outputs": [
    {
     "name": "stderr",
     "output_type": "stream",
     "text": [
      "/tmp/ipykernel_1340726/2137335780.py:1: UserWarning: To copy construct from a tensor, it is recommended to use sourceTensor.clone().detach() or sourceTensor.clone().detach().requires_grad_(True), rather than torch.tensor(sourceTensor).\n",
      "  y_pred_final = (torch.sigmoid(torch.tensor(custom_mlp(torch.tensor(X_test, dtype=torch.float32)))) > 0.5).float().numpy()\n"
     ]
    },
    {
     "name": "stdout",
     "output_type": "stream",
     "text": [
      "                  precision    recall  f1-score   support\n",
      "\n",
      "    infringement       0.77      0.63      0.69       283\n",
      "non_infringement       0.70      0.83      0.76       298\n",
      "\n",
      "        accuracy                           0.73       581\n",
      "       macro avg       0.74      0.73      0.73       581\n",
      "    weighted avg       0.74      0.73      0.73       581\n",
      "\n"
     ]
    }
   ],
   "source": [
    "y_pred_final = (torch.sigmoid(torch.tensor(custom_mlp(torch.tensor(X_test, dtype=torch.float32)))) > 0.5).float().numpy()\n",
    "print(classification_report(y_test, y_pred_final, target_names=[\"infringement\", \"non_infringement\"]))"
   ]
  }
 ],
 "metadata": {
  "kernelspec": {
   "display_name": "sit",
   "language": "python",
   "name": "python3"
  },
  "language_info": {
   "codemirror_mode": {
    "name": "ipython",
    "version": 3
   },
   "file_extension": ".py",
   "mimetype": "text/x-python",
   "name": "python",
   "nbconvert_exporter": "python",
   "pygments_lexer": "ipython3",
   "version": "3.9.0"
  }
 },
 "nbformat": 4,
 "nbformat_minor": 2
}
