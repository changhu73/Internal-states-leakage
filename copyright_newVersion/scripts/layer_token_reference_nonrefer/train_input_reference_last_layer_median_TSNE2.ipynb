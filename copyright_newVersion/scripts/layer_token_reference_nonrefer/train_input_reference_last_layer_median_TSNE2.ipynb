{
 "cells": [
  {
   "cell_type": "code",
   "execution_count": 1,
   "metadata": {},
   "outputs": [
    {
     "name": "stderr",
     "output_type": "stream",
     "text": [
      "/home/guangwei/miniconda3/envs/sit/lib/python3.9/site-packages/tqdm/auto.py:21: TqdmWarning: IProgress not found. Please update jupyter and ipywidgets. See https://ipywidgets.readthedocs.io/en/stable/user_install.html\n",
      "  from .autonotebook import tqdm as notebook_tqdm\n"
     ]
    }
   ],
   "source": [
    "# import packages & variables\n",
    "import argparse\n",
    "import torch\n",
    "import torch.nn as nn\n",
    "import numpy as np\n",
    "from sklearn.metrics import accuracy_score, classification_report\n",
    "import matplotlib.pyplot as plt\n",
    "from tqdm import tqdm\n",
    "from transformers import AutoTokenizer, AutoModelForCausalLM, AutoModel, AutoModelForSequenceClassification\n",
    "import json\n",
    "import os\n",
    "\n",
    "os.environ[\"CUDA_VISIBLE_DEVICES\"] = \"5\"\n",
    "\n",
    "# Parameters\n",
    "model_name = 'meta-llama/Meta-Llama-3.1-8B'\n",
    "non_infringement_file = '/home/guangwei/LLM-COPYRIGHT/copyright_newVersion/test_division/extra.non_infringement.json'\n",
    "infringement_file = '/home/guangwei/LLM-COPYRIGHT/copyright_newVersion/test_division/extra.infringement.json'\n",
    "checkpoint_file = '/home/guangwei/LLM-COPYRIGHT/copyright_newVersion/models/train_input_reference_last_layer_TSNE2.pth'\n"
   ]
  },
  {
   "cell_type": "code",
   "execution_count": 2,
   "metadata": {},
   "outputs": [],
   "source": [
    "# Define CustumMLP for internal states train\n",
    "class CustomMLP(nn.Module):\n",
    "    def __init__(self, input_dim, hidden_dim):\n",
    "        super(CustomMLP, self).__init__()\n",
    "        self.down = nn.Linear(input_dim, hidden_dim)\n",
    "        self.gate = nn.Linear(input_dim, hidden_dim)\n",
    "        self.up = nn.Linear(hidden_dim, 1)\n",
    "        self.activation = nn.SiLU()\n",
    "\n",
    "    def forward(self, x):\n",
    "        down_output = self.down(x)\n",
    "        gate_output = self.gate(x)\n",
    "        gated_output = down_output * self.activation(gate_output)\n",
    "        return self.up(gated_output)"
   ]
  },
  {
   "cell_type": "code",
   "execution_count": 3,
   "metadata": {},
   "outputs": [],
   "source": [
    "# Extract hidden states/reference embeddings\n",
    "from sklearn.manifold import TSNE\n",
    "def extract_hidden_states(texts, model, tokenizer, apply_tsne=True, n_components=2, batch_size=4):\n",
    "    device = torch.device(\"cuda\" if torch.cuda.is_available() else \"cpu\")\n",
    "    model.to(device)\n",
    "    model = nn.DataParallel(model)\n",
    "    hidden_states = []\n",
    "    for i in tqdm(range(0, len(texts), batch_size), desc=\"Processing data batches\"):\n",
    "        batch_texts = texts[i:i + batch_size]\n",
    "        inputs = tokenizer(batch_texts, return_tensors=\"pt\", padding=True, truncation=True)\n",
    "        with torch.no_grad():\n",
    "            outputs = model(**inputs)\n",
    "        hidden_state = outputs.hidden_states[-1].mean(dim=1).cpu().numpy()\n",
    "        hidden_states.append(hidden_state)\n",
    "\n",
    "    hidden_states = np.vstack(hidden_states)\n",
    "    if apply_tsne:\n",
    "        tsne = TSNE(n_components=n_components, random_state=42)\n",
    "        hidden_states = tsne.fit_transform(hidden_states)\n",
    "        print(f\"Hidden states reduced to {n_components} dimensions using t-SNE.\")\n",
    "        \n",
    "    return hidden_states\n",
    "\n",
    "def extract_reference_embeddings(references, model, tokenizer, batch_size=4):\n",
    "    device = torch.device(\"cuda\" if torch.cuda.is_available() else \"cpu\")\n",
    "    model.to(device)\n",
    "    model = nn.DataParallel(model)\n",
    "    embeddings = []\n",
    "    for i in tqdm(range(0, len(references), batch_size), desc=\"Processing references\"):\n",
    "        batch_references = references[i:i + batch_size]\n",
    "        inputs = tokenizer(batch_references, return_tensors=\"pt\", padding=True, truncation=True).to(device)\n",
    "        with torch.no_grad():\n",
    "            outputs = model(**inputs)\n",
    "        embeddings.append(outputs.pooler_output.cpu().numpy())\n",
    "    return np.vstack(embeddings)"
   ]
  },
  {
   "cell_type": "code",
   "execution_count": 4,
   "metadata": {},
   "outputs": [],
   "source": [
    "# load data for infringement & non infringement\n",
    "def load_data(non_infringement_file, infringement_file):\n",
    "    with open(non_infringement_file, 'r', encoding='utf-8') as file:\n",
    "        non_infringement_json_data = json.load(file)\n",
    "\n",
    "    non_infringement_outputs = [entry['input'] for entry in non_infringement_json_data]\n",
    "    non_infringement_references = [entry['reference'] for entry in non_infringement_json_data]\n",
    "    y_non_infringement = [1] * len(non_infringement_outputs)\n",
    "\n",
    "    with open(infringement_file, 'r', encoding='utf-8') as file:\n",
    "        infringement_json_data = json.load(file)\n",
    "\n",
    "    infringement_outputs = [entry['input'] for entry in infringement_json_data]\n",
    "    infringement_references = [entry['reference'] for entry in infringement_json_data]\n",
    "    y_infringement = [0] * len(infringement_outputs)\n",
    "\n",
    "    return non_infringement_outputs, non_infringement_references, y_non_infringement, infringement_outputs, infringement_references, y_infringement"
   ]
  },
  {
   "cell_type": "code",
   "execution_count": 5,
   "metadata": {},
   "outputs": [],
   "source": [
    "# Train for best model\n",
    "def train_model(X_train, y_train, X_test, y_test, input_dim, hidden_dim, epochs=2000, lr=0.001, checkpoint_path=checkpoint_file):\n",
    "    custom_mlp = CustomMLP(input_dim, hidden_dim)\n",
    "    criterion = nn.BCEWithLogitsLoss()\n",
    "    optimizer = torch.optim.Adam(custom_mlp.parameters(), lr=lr)\n",
    "\n",
    "    X_train_tensor = torch.tensor(X_train, dtype=torch.float32)\n",
    "    y_train_tensor = torch.tensor(y_train, dtype=torch.float32).unsqueeze(1)\n",
    "\n",
    "    best_accuracy = -float('inf')\n",
    "    best_model_state = None\n",
    "    best_epoch = 0\n",
    "    losses = []\n",
    "\n",
    "    for epoch in tqdm(range(epochs), desc=\"Training Epochs\"):\n",
    "        custom_mlp.train()\n",
    "        optimizer.zero_grad()\n",
    "        outputs = custom_mlp(X_train_tensor)\n",
    "        loss = criterion(outputs, y_train_tensor)\n",
    "        loss.backward()\n",
    "        optimizer.step()\n",
    "        losses.append(loss.item())\n",
    "\n",
    "        if (epoch + 1) % 10 == 0:\n",
    "            print(f\"Epoch {epoch + 1}/{epochs}, Loss: {loss.item():.4f}\")\n",
    "            \n",
    "            custom_mlp.eval()\n",
    "            X_test_tensor = torch.tensor(X_test, dtype=torch.float32)\n",
    "            with torch.no_grad():\n",
    "                y_pred_logits = custom_mlp(X_test_tensor)\n",
    "                y_pred = (torch.sigmoid(y_pred_logits) > 0.5).float().numpy()\n",
    "            \n",
    "            accuracy = accuracy_score(y_test, y_pred)\n",
    "            print(f\"Test Accuracy at Epoch {epoch + 1}: {accuracy * 100:.2f}%\")\n",
    "            \n",
    "            report = classification_report(y_test, y_pred, target_names=[\"infringement\", \"non_infringement\"])\n",
    "            print(f\"Classification Report at Epoch {epoch + 1}:\\n{report}\")\n",
    "\n",
    "            if accuracy > best_accuracy:\n",
    "                best_accuracy = accuracy\n",
    "                best_model_state = custom_mlp.state_dict()\n",
    "                best_epoch = epoch + 1\n",
    "                torch.save(best_model_state, checkpoint_path)\n",
    "                print(f\"New best model saved with accuracy {best_accuracy * 100:.2f}% at epoch {best_epoch}\")\n",
    "                print(f\"Best Classification Report at Epoch {best_epoch}:\\n{report}\")\n",
    "\n",
    "    custom_mlp.load_state_dict(torch.load(checkpoint_path))\n",
    "\n",
    "    plt.figure(figsize=(10, 5))\n",
    "    plt.plot(losses, label='Training Loss')\n",
    "    plt.xlabel('Epoch')\n",
    "    plt.ylabel('Loss')\n",
    "    plt.title('Training Loss Curve')\n",
    "    plt.legend()\n",
    "    plt.show()\n",
    "\n",
    "    print(f\"Final Model Accuracy: {best_accuracy * 100:.2f}%\")\n",
    "    \n",
    "    return custom_mlp, losses, best_accuracy"
   ]
  },
  {
   "cell_type": "code",
   "execution_count": 6,
   "metadata": {},
   "outputs": [
    {
     "name": "stderr",
     "output_type": "stream",
     "text": [
      "Loading checkpoint shards: 100%|██████████| 4/4 [00:02<00:00,  1.35it/s]\n",
      "/home/guangwei/miniconda3/envs/sit/lib/python3.9/site-packages/transformers/tokenization_utils_base.py:1601: FutureWarning: `clean_up_tokenization_spaces` was not set. It will be set to `True` by default. This behavior will be depracted in transformers v4.45, and will be then set to `False` by default. For more details check this issue: https://github.com/huggingface/transformers/issues/31884\n",
      "  warnings.warn(\n"
     ]
    }
   ],
   "source": [
    "tokenizer = AutoTokenizer.from_pretrained(model_name, model_max_length=512)\n",
    "model = AutoModelForCausalLM.from_pretrained(model_name, output_hidden_states=True)\n",
    "tokenizer.pad_token = tokenizer.eos_token\n",
    "bert_tokenizer = AutoTokenizer.from_pretrained('google-bert/bert-base-uncased')\n",
    "bert_model = AutoModel.from_pretrained('google-bert/bert-base-uncased')\n",
    "bert_tokenizer.pad_token = tokenizer.eos_token\n",
    "\n",
    "non_infringement_outputs, non_infringement_references, y_non_infringement, infringement_outputs, infringement_references, y_infringement = load_data(\n",
    "    non_infringement_file, infringement_file\n",
    ")\n",
    "\n",
    "y_non_infringement = np.array(y_non_infringement)\n",
    "y_infringement = np.array(y_infringement)\n"
   ]
  },
  {
   "cell_type": "code",
   "execution_count": 7,
   "metadata": {},
   "outputs": [
    {
     "name": "stdout",
     "output_type": "stream",
     "text": [
      "Extracting hidden states for non_infringement texts...\n"
     ]
    },
    {
     "name": "stderr",
     "output_type": "stream",
     "text": [
      "Processing data batches:   0%|          | 0/373 [00:00<?, ?it/s]We detected that you are passing `past_key_values` as a tuple and this is deprecated and will be removed in v4.43. Please use an appropriate `Cache` class (https://huggingface.co/docs/transformers/v4.41.3/en/internal/generation_utils#transformers.Cache)\n",
      "Processing data batches: 100%|██████████| 373/373 [01:47<00:00,  3.48it/s]\n",
      "huggingface/tokenizers: The current process just got forked, after parallelism has already been used. Disabling parallelism to avoid deadlocks...\n",
      "To disable this warning, you can either:\n",
      "\t- Avoid using `tokenizers` before the fork if possible\n",
      "\t- Explicitly set the environment variable TOKENIZERS_PARALLELISM=(true | false)\n",
      "huggingface/tokenizers: The current process just got forked, after parallelism has already been used. Disabling parallelism to avoid deadlocks...\n",
      "To disable this warning, you can either:\n",
      "\t- Avoid using `tokenizers` before the fork if possible\n",
      "\t- Explicitly set the environment variable TOKENIZERS_PARALLELISM=(true | false)\n"
     ]
    },
    {
     "name": "stdout",
     "output_type": "stream",
     "text": [
      "Hidden states reduced to 2 dimensions using t-SNE.\n",
      "Extracting reference embeddings for non_infringement texts...\n"
     ]
    },
    {
     "name": "stderr",
     "output_type": "stream",
     "text": [
      "Processing references: 100%|██████████| 373/373 [00:04<00:00, 92.05it/s] \n"
     ]
    },
    {
     "name": "stdout",
     "output_type": "stream",
     "text": [
      "Extracting hidden states for infringement texts...\n"
     ]
    },
    {
     "name": "stderr",
     "output_type": "stream",
     "text": [
      "Processing data batches: 100%|██████████| 354/354 [01:52<00:00,  3.13it/s]\n"
     ]
    },
    {
     "name": "stdout",
     "output_type": "stream",
     "text": [
      "Hidden states reduced to 2 dimensions using t-SNE.\n",
      "Extracting reference embeddings for infringement texts...\n"
     ]
    },
    {
     "name": "stderr",
     "output_type": "stream",
     "text": [
      "Processing references: 100%|██████████| 354/354 [00:03<00:00, 100.36it/s]\n"
     ]
    }
   ],
   "source": [
    "print(\"Extracting hidden states for non_infringement texts...\")\n",
    "X_non_infringement = extract_hidden_states(non_infringement_outputs, model, tokenizer)\n",
    "print(\"Extracting reference embeddings for non_infringement texts...\")\n",
    "reference_embeddings_non_infringement = extract_reference_embeddings(non_infringement_references, bert_model, bert_tokenizer)\n",
    "X_non_infringement_combined = np.hstack([X_non_infringement, reference_embeddings_non_infringement])\n",
    "\n",
    "print(\"Extracting hidden states for infringement texts...\")\n",
    "X_infringement = extract_hidden_states(infringement_outputs, model, tokenizer)\n",
    "print(\"Extracting reference embeddings for infringement texts...\")\n",
    "reference_embeddings_infringement = extract_reference_embeddings(infringement_references, bert_model, bert_tokenizer)\n",
    "X_infringement_combined = np.hstack([X_infringement, reference_embeddings_infringement])"
   ]
  },
  {
   "cell_type": "code",
   "execution_count": 8,
   "metadata": {},
   "outputs": [
    {
     "name": "stdout",
     "output_type": "stream",
     "text": [
      "Data successfully split into training and test sets.\n"
     ]
    }
   ],
   "source": [
    "split_index_non_infringement = int(0.8 * len(X_non_infringement_combined))\n",
    "X_non_infringement_train = X_non_infringement_combined[:split_index_non_infringement]\n",
    "X_non_infringement_test = X_non_infringement_combined[split_index_non_infringement:]\n",
    "y_non_infringement_train = y_non_infringement[:split_index_non_infringement]\n",
    "y_non_infringement_test = y_non_infringement[split_index_non_infringement:]\n",
    "\n",
    "split_index_infringement = int(0.8 * len(X_infringement_combined))\n",
    "X_infringement_train = X_infringement_combined[:split_index_infringement]\n",
    "X_infringement_test = X_infringement_combined[split_index_infringement:]\n",
    "y_infringement_train = y_infringement[:split_index_infringement]\n",
    "y_infringement_test = y_infringement[split_index_infringement:]\n",
    "\n",
    "X_train = np.vstack((X_non_infringement_train, X_infringement_train))\n",
    "X_test = np.vstack((X_non_infringement_test, X_infringement_test))\n",
    "y_train = np.concatenate((y_non_infringement_train, y_infringement_train))\n",
    "y_test = np.concatenate((y_non_infringement_test, y_infringement_test))\n",
    "\n",
    "print(\"Data successfully split into training and test sets.\")"
   ]
  },
  {
   "cell_type": "code",
   "execution_count": 9,
   "metadata": {},
   "outputs": [
    {
     "name": "stdout",
     "output_type": "stream",
     "text": [
      "Training MLP model with input_dim=770 and hidden_dim=256\n"
     ]
    },
    {
     "name": "stderr",
     "output_type": "stream",
     "text": [
      "Training Epochs:   1%|          | 12/2000 [00:00<01:29, 22.11it/s]"
     ]
    },
    {
     "name": "stdout",
     "output_type": "stream",
     "text": [
      "Epoch 10/2000, Loss: 0.5765\n",
      "Test Accuracy at Epoch 10: 60.76%\n",
      "Classification Report at Epoch 10:\n",
      "                  precision    recall  f1-score   support\n",
      "\n",
      "    infringement       0.62      0.50      0.55       283\n",
      "non_infringement       0.60      0.71      0.65       298\n",
      "\n",
      "        accuracy                           0.61       581\n",
      "       macro avg       0.61      0.60      0.60       581\n",
      "    weighted avg       0.61      0.61      0.60       581\n",
      "\n",
      "New best model saved with accuracy 60.76% at epoch 10\n",
      "Best Classification Report at Epoch 10:\n",
      "                  precision    recall  f1-score   support\n",
      "\n",
      "    infringement       0.62      0.50      0.55       283\n",
      "non_infringement       0.60      0.71      0.65       298\n",
      "\n",
      "        accuracy                           0.61       581\n",
      "       macro avg       0.61      0.60      0.60       581\n",
      "    weighted avg       0.61      0.61      0.60       581\n",
      "\n"
     ]
    },
    {
     "name": "stderr",
     "output_type": "stream",
     "text": [
      "Training Epochs:   1%|▏         | 25/2000 [00:00<01:09, 28.48it/s]"
     ]
    },
    {
     "name": "stdout",
     "output_type": "stream",
     "text": [
      "Epoch 20/2000, Loss: 0.4830\n",
      "Test Accuracy at Epoch 20: 61.79%\n",
      "Classification Report at Epoch 20:\n",
      "                  precision    recall  f1-score   support\n",
      "\n",
      "    infringement       0.61      0.61      0.61       283\n",
      "non_infringement       0.63      0.62      0.62       298\n",
      "\n",
      "        accuracy                           0.62       581\n",
      "       macro avg       0.62      0.62      0.62       581\n",
      "    weighted avg       0.62      0.62      0.62       581\n",
      "\n",
      "New best model saved with accuracy 61.79% at epoch 20\n",
      "Best Classification Report at Epoch 20:\n",
      "                  precision    recall  f1-score   support\n",
      "\n",
      "    infringement       0.61      0.61      0.61       283\n",
      "non_infringement       0.63      0.62      0.62       298\n",
      "\n",
      "        accuracy                           0.62       581\n",
      "       macro avg       0.62      0.62      0.62       581\n",
      "    weighted avg       0.62      0.62      0.62       581\n",
      "\n"
     ]
    },
    {
     "name": "stderr",
     "output_type": "stream",
     "text": [
      "Training Epochs:   2%|▏         | 33/2000 [00:01<01:02, 31.69it/s]"
     ]
    },
    {
     "name": "stdout",
     "output_type": "stream",
     "text": [
      "Epoch 30/2000, Loss: 0.4022\n",
      "Test Accuracy at Epoch 30: 65.75%\n",
      "Classification Report at Epoch 30:\n",
      "                  precision    recall  f1-score   support\n",
      "\n",
      "    infringement       0.62      0.77      0.69       283\n",
      "non_infringement       0.72      0.55      0.62       298\n",
      "\n",
      "        accuracy                           0.66       581\n",
      "       macro avg       0.67      0.66      0.65       581\n",
      "    weighted avg       0.67      0.66      0.65       581\n",
      "\n",
      "New best model saved with accuracy 65.75% at epoch 30\n",
      "Best Classification Report at Epoch 30:\n",
      "                  precision    recall  f1-score   support\n",
      "\n",
      "    infringement       0.62      0.77      0.69       283\n",
      "non_infringement       0.72      0.55      0.62       298\n",
      "\n",
      "        accuracy                           0.66       581\n",
      "       macro avg       0.67      0.66      0.65       581\n",
      "    weighted avg       0.67      0.66      0.65       581\n",
      "\n"
     ]
    },
    {
     "name": "stderr",
     "output_type": "stream",
     "text": [
      "Training Epochs:   2%|▏         | 46/2000 [00:01<01:11, 27.47it/s]"
     ]
    },
    {
     "name": "stdout",
     "output_type": "stream",
     "text": [
      "Epoch 40/2000, Loss: 0.3329\n",
      "Test Accuracy at Epoch 40: 73.49%\n",
      "Classification Report at Epoch 40:\n",
      "                  precision    recall  f1-score   support\n",
      "\n",
      "    infringement       0.75      0.69      0.72       283\n",
      "non_infringement       0.72      0.78      0.75       298\n",
      "\n",
      "        accuracy                           0.73       581\n",
      "       macro avg       0.74      0.73      0.73       581\n",
      "    weighted avg       0.74      0.73      0.73       581\n",
      "\n",
      "New best model saved with accuracy 73.49% at epoch 40\n",
      "Best Classification Report at Epoch 40:\n",
      "                  precision    recall  f1-score   support\n",
      "\n",
      "    infringement       0.75      0.69      0.72       283\n",
      "non_infringement       0.72      0.78      0.75       298\n",
      "\n",
      "        accuracy                           0.73       581\n",
      "       macro avg       0.74      0.73      0.73       581\n",
      "    weighted avg       0.74      0.73      0.73       581\n",
      "\n"
     ]
    },
    {
     "name": "stderr",
     "output_type": "stream",
     "text": [
      "Training Epochs:   3%|▎         | 57/2000 [00:01<00:53, 36.55it/s]"
     ]
    },
    {
     "name": "stdout",
     "output_type": "stream",
     "text": [
      "Epoch 50/2000, Loss: 0.2714\n",
      "Test Accuracy at Epoch 50: 72.63%\n",
      "Classification Report at Epoch 50:\n",
      "                  precision    recall  f1-score   support\n",
      "\n",
      "    infringement       0.78      0.61      0.68       283\n",
      "non_infringement       0.69      0.84      0.76       298\n",
      "\n",
      "        accuracy                           0.73       581\n",
      "       macro avg       0.74      0.72      0.72       581\n",
      "    weighted avg       0.74      0.73      0.72       581\n",
      "\n"
     ]
    },
    {
     "name": "stderr",
     "output_type": "stream",
     "text": [
      "Training Epochs:   3%|▎         | 62/2000 [00:02<00:49, 39.50it/s]"
     ]
    },
    {
     "name": "stdout",
     "output_type": "stream",
     "text": [
      "Epoch 60/2000, Loss: 0.2256\n",
      "Test Accuracy at Epoch 60: 72.12%\n",
      "Classification Report at Epoch 60:\n",
      "                  precision    recall  f1-score   support\n",
      "\n",
      "    infringement       0.71      0.72      0.72       283\n",
      "non_infringement       0.73      0.72      0.73       298\n",
      "\n",
      "        accuracy                           0.72       581\n",
      "       macro avg       0.72      0.72      0.72       581\n",
      "    weighted avg       0.72      0.72      0.72       581\n",
      "\n"
     ]
    },
    {
     "name": "stderr",
     "output_type": "stream",
     "text": [
      "Training Epochs:   4%|▎         | 71/2000 [00:02<00:59, 32.29it/s]"
     ]
    },
    {
     "name": "stdout",
     "output_type": "stream",
     "text": [
      "Epoch 70/2000, Loss: 0.1678\n",
      "Test Accuracy at Epoch 70: 75.56%\n",
      "Classification Report at Epoch 70:\n",
      "                  precision    recall  f1-score   support\n",
      "\n",
      "    infringement       0.77      0.72      0.74       283\n",
      "non_infringement       0.75      0.79      0.77       298\n",
      "\n",
      "        accuracy                           0.76       581\n",
      "       macro avg       0.76      0.75      0.75       581\n",
      "    weighted avg       0.76      0.76      0.76       581\n",
      "\n",
      "New best model saved with accuracy 75.56% at epoch 70\n",
      "Best Classification Report at Epoch 70:\n",
      "                  precision    recall  f1-score   support\n",
      "\n",
      "    infringement       0.77      0.72      0.74       283\n",
      "non_infringement       0.75      0.79      0.77       298\n",
      "\n",
      "        accuracy                           0.76       581\n",
      "       macro avg       0.76      0.75      0.75       581\n",
      "    weighted avg       0.76      0.76      0.76       581\n",
      "\n"
     ]
    },
    {
     "name": "stderr",
     "output_type": "stream",
     "text": [
      "Training Epochs:   4%|▍         | 83/2000 [00:02<01:01, 31.32it/s]"
     ]
    },
    {
     "name": "stdout",
     "output_type": "stream",
     "text": [
      "Epoch 80/2000, Loss: 0.1336\n",
      "Test Accuracy at Epoch 80: 74.53%\n",
      "Classification Report at Epoch 80:\n",
      "                  precision    recall  f1-score   support\n",
      "\n",
      "    infringement       0.81      0.63      0.71       283\n",
      "non_infringement       0.71      0.86      0.78       298\n",
      "\n",
      "        accuracy                           0.75       581\n",
      "       macro avg       0.76      0.74      0.74       581\n",
      "    weighted avg       0.76      0.75      0.74       581\n",
      "\n"
     ]
    },
    {
     "name": "stderr",
     "output_type": "stream",
     "text": [
      "Training Epochs:   5%|▍         | 95/2000 [00:03<01:00, 31.58it/s]"
     ]
    },
    {
     "name": "stdout",
     "output_type": "stream",
     "text": [
      "Epoch 90/2000, Loss: 0.0981\n",
      "Test Accuracy at Epoch 90: 78.66%\n",
      "Classification Report at Epoch 90:\n",
      "                  precision    recall  f1-score   support\n",
      "\n",
      "    infringement       0.88      0.65      0.75       283\n",
      "non_infringement       0.73      0.92      0.82       298\n",
      "\n",
      "        accuracy                           0.79       581\n",
      "       macro avg       0.81      0.78      0.78       581\n",
      "    weighted avg       0.81      0.79      0.78       581\n",
      "\n",
      "New best model saved with accuracy 78.66% at epoch 90\n",
      "Best Classification Report at Epoch 90:\n",
      "                  precision    recall  f1-score   support\n",
      "\n",
      "    infringement       0.88      0.65      0.75       283\n",
      "non_infringement       0.73      0.92      0.82       298\n",
      "\n",
      "        accuracy                           0.79       581\n",
      "       macro avg       0.81      0.78      0.78       581\n",
      "    weighted avg       0.81      0.79      0.78       581\n",
      "\n"
     ]
    },
    {
     "name": "stderr",
     "output_type": "stream",
     "text": [
      "Training Epochs:   5%|▌         | 102/2000 [00:03<01:07, 28.23it/s]"
     ]
    },
    {
     "name": "stdout",
     "output_type": "stream",
     "text": [
      "Epoch 100/2000, Loss: 0.0769\n",
      "Test Accuracy at Epoch 100: 79.86%\n",
      "Classification Report at Epoch 100:\n",
      "                  precision    recall  f1-score   support\n",
      "\n",
      "    infringement       0.84      0.73      0.78       283\n",
      "non_infringement       0.77      0.87      0.82       298\n",
      "\n",
      "        accuracy                           0.80       581\n",
      "       macro avg       0.80      0.80      0.80       581\n",
      "    weighted avg       0.80      0.80      0.80       581\n",
      "\n",
      "New best model saved with accuracy 79.86% at epoch 100\n",
      "Best Classification Report at Epoch 100:\n",
      "                  precision    recall  f1-score   support\n",
      "\n",
      "    infringement       0.84      0.73      0.78       283\n",
      "non_infringement       0.77      0.87      0.82       298\n",
      "\n",
      "        accuracy                           0.80       581\n",
      "       macro avg       0.80      0.80      0.80       581\n",
      "    weighted avg       0.80      0.80      0.80       581\n",
      "\n"
     ]
    },
    {
     "name": "stderr",
     "output_type": "stream",
     "text": [
      "Training Epochs:   6%|▌         | 117/2000 [00:03<00:59, 31.75it/s]"
     ]
    },
    {
     "name": "stdout",
     "output_type": "stream",
     "text": [
      "Epoch 110/2000, Loss: 0.0564\n",
      "Test Accuracy at Epoch 110: 81.41%\n",
      "Classification Report at Epoch 110:\n",
      "                  precision    recall  f1-score   support\n",
      "\n",
      "    infringement       0.89      0.71      0.79       283\n",
      "non_infringement       0.77      0.92      0.83       298\n",
      "\n",
      "        accuracy                           0.81       581\n",
      "       macro avg       0.83      0.81      0.81       581\n",
      "    weighted avg       0.83      0.81      0.81       581\n",
      "\n",
      "New best model saved with accuracy 81.41% at epoch 110\n",
      "Best Classification Report at Epoch 110:\n",
      "                  precision    recall  f1-score   support\n",
      "\n",
      "    infringement       0.89      0.71      0.79       283\n",
      "non_infringement       0.77      0.92      0.83       298\n",
      "\n",
      "        accuracy                           0.81       581\n",
      "       macro avg       0.83      0.81      0.81       581\n",
      "    weighted avg       0.83      0.81      0.81       581\n",
      "\n"
     ]
    },
    {
     "name": "stderr",
     "output_type": "stream",
     "text": [
      "Training Epochs:   6%|▌         | 121/2000 [00:04<01:03, 29.65it/s]"
     ]
    },
    {
     "name": "stdout",
     "output_type": "stream",
     "text": [
      "Epoch 120/2000, Loss: 0.0430\n",
      "Test Accuracy at Epoch 120: 80.55%\n",
      "Classification Report at Epoch 120:\n",
      "                  precision    recall  f1-score   support\n",
      "\n",
      "    infringement       0.89      0.69      0.78       283\n",
      "non_infringement       0.76      0.92      0.83       298\n",
      "\n",
      "        accuracy                           0.81       581\n",
      "       macro avg       0.82      0.80      0.80       581\n",
      "    weighted avg       0.82      0.81      0.80       581\n",
      "\n"
     ]
    },
    {
     "name": "stderr",
     "output_type": "stream",
     "text": [
      "Training Epochs:   7%|▋         | 133/2000 [00:04<01:07, 27.82it/s]"
     ]
    },
    {
     "name": "stdout",
     "output_type": "stream",
     "text": [
      "Epoch 130/2000, Loss: 0.0337\n",
      "Test Accuracy at Epoch 130: 82.27%\n",
      "Classification Report at Epoch 130:\n",
      "                  precision    recall  f1-score   support\n",
      "\n",
      "    infringement       0.92      0.69      0.79       283\n",
      "non_infringement       0.76      0.95      0.85       298\n",
      "\n",
      "        accuracy                           0.82       581\n",
      "       macro avg       0.84      0.82      0.82       581\n",
      "    weighted avg       0.84      0.82      0.82       581\n",
      "\n",
      "New best model saved with accuracy 82.27% at epoch 130\n",
      "Best Classification Report at Epoch 130:\n",
      "                  precision    recall  f1-score   support\n",
      "\n",
      "    infringement       0.92      0.69      0.79       283\n",
      "non_infringement       0.76      0.95      0.85       298\n",
      "\n",
      "        accuracy                           0.82       581\n",
      "       macro avg       0.84      0.82      0.82       581\n",
      "    weighted avg       0.84      0.82      0.82       581\n",
      "\n"
     ]
    },
    {
     "name": "stderr",
     "output_type": "stream",
     "text": [
      "Training Epochs:   7%|▋         | 145/2000 [00:04<01:01, 30.20it/s]"
     ]
    },
    {
     "name": "stdout",
     "output_type": "stream",
     "text": [
      "Epoch 140/2000, Loss: 0.0245\n",
      "Test Accuracy at Epoch 140: 80.90%\n",
      "Classification Report at Epoch 140:\n",
      "                  precision    recall  f1-score   support\n",
      "\n",
      "    infringement       0.89      0.70      0.78       283\n",
      "non_infringement       0.76      0.92      0.83       298\n",
      "\n",
      "        accuracy                           0.81       581\n",
      "       macro avg       0.82      0.81      0.81       581\n",
      "    weighted avg       0.82      0.81      0.81       581\n",
      "\n"
     ]
    },
    {
     "name": "stderr",
     "output_type": "stream",
     "text": [
      "Training Epochs:   8%|▊         | 155/2000 [00:05<00:50, 36.33it/s]"
     ]
    },
    {
     "name": "stdout",
     "output_type": "stream",
     "text": [
      "Epoch 150/2000, Loss: 0.0186\n",
      "Test Accuracy at Epoch 150: 80.21%\n",
      "Classification Report at Epoch 150:\n",
      "                  precision    recall  f1-score   support\n",
      "\n",
      "    infringement       0.87      0.70      0.77       283\n",
      "non_infringement       0.76      0.90      0.82       298\n",
      "\n",
      "        accuracy                           0.80       581\n",
      "       macro avg       0.81      0.80      0.80       581\n",
      "    weighted avg       0.81      0.80      0.80       581\n",
      "\n"
     ]
    },
    {
     "name": "stderr",
     "output_type": "stream",
     "text": [
      "Training Epochs:   8%|▊         | 166/2000 [00:05<00:45, 40.48it/s]"
     ]
    },
    {
     "name": "stdout",
     "output_type": "stream",
     "text": [
      "Epoch 160/2000, Loss: 0.0142\n",
      "Test Accuracy at Epoch 160: 82.44%\n",
      "Classification Report at Epoch 160:\n",
      "                  precision    recall  f1-score   support\n",
      "\n",
      "    infringement       0.91      0.71      0.80       283\n",
      "non_infringement       0.77      0.94      0.85       298\n",
      "\n",
      "        accuracy                           0.82       581\n",
      "       macro avg       0.84      0.82      0.82       581\n",
      "    weighted avg       0.84      0.82      0.82       581\n",
      "\n",
      "New best model saved with accuracy 82.44% at epoch 160\n",
      "Best Classification Report at Epoch 160:\n",
      "                  precision    recall  f1-score   support\n",
      "\n",
      "    infringement       0.91      0.71      0.80       283\n",
      "non_infringement       0.77      0.94      0.85       298\n",
      "\n",
      "        accuracy                           0.82       581\n",
      "       macro avg       0.84      0.82      0.82       581\n",
      "    weighted avg       0.84      0.82      0.82       581\n",
      "\n",
      "Epoch 170/2000, Loss: 0.0111\n",
      "Test Accuracy at Epoch 170: 82.62%\n"
     ]
    },
    {
     "name": "stderr",
     "output_type": "stream",
     "text": [
      "Training Epochs:   9%|▊         | 172/2000 [00:05<00:42, 43.25it/s]"
     ]
    },
    {
     "name": "stdout",
     "output_type": "stream",
     "text": [
      "Classification Report at Epoch 170:\n",
      "                  precision    recall  f1-score   support\n",
      "\n",
      "    infringement       0.92      0.71      0.80       283\n",
      "non_infringement       0.77      0.94      0.85       298\n",
      "\n",
      "        accuracy                           0.83       581\n",
      "       macro avg       0.84      0.82      0.82       581\n",
      "    weighted avg       0.84      0.83      0.82       581\n",
      "\n",
      "New best model saved with accuracy 82.62% at epoch 170\n",
      "Best Classification Report at Epoch 170:\n",
      "                  precision    recall  f1-score   support\n",
      "\n",
      "    infringement       0.92      0.71      0.80       283\n",
      "non_infringement       0.77      0.94      0.85       298\n",
      "\n",
      "        accuracy                           0.83       581\n",
      "       macro avg       0.84      0.82      0.82       581\n",
      "    weighted avg       0.84      0.83      0.82       581\n",
      "\n"
     ]
    },
    {
     "name": "stderr",
     "output_type": "stream",
     "text": [
      "Training Epochs:   9%|▉         | 181/2000 [00:05<00:55, 32.53it/s]"
     ]
    },
    {
     "name": "stdout",
     "output_type": "stream",
     "text": [
      "Epoch 180/2000, Loss: 0.0089\n",
      "Test Accuracy at Epoch 180: 82.96%\n",
      "Classification Report at Epoch 180:\n",
      "                  precision    recall  f1-score   support\n",
      "\n",
      "    infringement       0.93      0.70      0.80       283\n",
      "non_infringement       0.77      0.95      0.85       298\n",
      "\n",
      "        accuracy                           0.83       581\n",
      "       macro avg       0.85      0.83      0.83       581\n",
      "    weighted avg       0.85      0.83      0.83       581\n",
      "\n",
      "New best model saved with accuracy 82.96% at epoch 180\n",
      "Best Classification Report at Epoch 180:\n",
      "                  precision    recall  f1-score   support\n",
      "\n",
      "    infringement       0.93      0.70      0.80       283\n",
      "non_infringement       0.77      0.95      0.85       298\n",
      "\n",
      "        accuracy                           0.83       581\n",
      "       macro avg       0.85      0.83      0.83       581\n",
      "    weighted avg       0.85      0.83      0.83       581\n",
      "\n"
     ]
    },
    {
     "name": "stderr",
     "output_type": "stream",
     "text": [
      "Training Epochs:  10%|▉         | 194/2000 [00:06<00:51, 34.91it/s]"
     ]
    },
    {
     "name": "stdout",
     "output_type": "stream",
     "text": [
      "Epoch 190/2000, Loss: 0.0073\n",
      "Test Accuracy at Epoch 190: 82.44%\n",
      "Classification Report at Epoch 190:\n",
      "                  precision    recall  f1-score   support\n",
      "\n",
      "    infringement       0.92      0.70      0.80       283\n",
      "non_infringement       0.77      0.94      0.85       298\n",
      "\n",
      "        accuracy                           0.82       581\n",
      "       macro avg       0.84      0.82      0.82       581\n",
      "    weighted avg       0.84      0.82      0.82       581\n",
      "\n"
     ]
    },
    {
     "name": "stderr",
     "output_type": "stream",
     "text": [
      "Training Epochs:  10%|█         | 204/2000 [00:06<00:50, 35.48it/s]"
     ]
    },
    {
     "name": "stdout",
     "output_type": "stream",
     "text": [
      "Epoch 200/2000, Loss: 0.0062\n",
      "Test Accuracy at Epoch 200: 82.10%\n",
      "Classification Report at Epoch 200:\n",
      "                  precision    recall  f1-score   support\n",
      "\n",
      "    infringement       0.91      0.70      0.79       283\n",
      "non_infringement       0.77      0.94      0.84       298\n",
      "\n",
      "        accuracy                           0.82       581\n",
      "       macro avg       0.84      0.82      0.82       581\n",
      "    weighted avg       0.84      0.82      0.82       581\n",
      "\n"
     ]
    },
    {
     "name": "stderr",
     "output_type": "stream",
     "text": [
      "Training Epochs:  11%|█         | 213/2000 [00:06<00:48, 37.08it/s]"
     ]
    },
    {
     "name": "stdout",
     "output_type": "stream",
     "text": [
      "Epoch 210/2000, Loss: 0.0053\n",
      "Test Accuracy at Epoch 210: 82.10%\n",
      "Classification Report at Epoch 210:\n",
      "                  precision    recall  f1-score   support\n",
      "\n",
      "    infringement       0.91      0.70      0.79       283\n",
      "non_infringement       0.77      0.94      0.84       298\n",
      "\n",
      "        accuracy                           0.82       581\n",
      "       macro avg       0.84      0.82      0.82       581\n",
      "    weighted avg       0.84      0.82      0.82       581\n",
      "\n"
     ]
    },
    {
     "name": "stderr",
     "output_type": "stream",
     "text": [
      "Training Epochs:  11%|█         | 221/2000 [00:07<01:06, 26.73it/s]"
     ]
    },
    {
     "name": "stdout",
     "output_type": "stream",
     "text": [
      "Epoch 220/2000, Loss: 0.0046\n",
      "Test Accuracy at Epoch 220: 81.76%\n",
      "Classification Report at Epoch 220:\n",
      "                  precision    recall  f1-score   support\n",
      "\n",
      "    infringement       0.91      0.70      0.79       283\n",
      "non_infringement       0.76      0.93      0.84       298\n",
      "\n",
      "        accuracy                           0.82       581\n",
      "       macro avg       0.84      0.81      0.81       581\n",
      "    weighted avg       0.83      0.82      0.81       581\n",
      "\n"
     ]
    },
    {
     "name": "stderr",
     "output_type": "stream",
     "text": [
      "Training Epochs:  12%|█▏        | 231/2000 [00:07<01:04, 27.30it/s]"
     ]
    },
    {
     "name": "stdout",
     "output_type": "stream",
     "text": [
      "Epoch 230/2000, Loss: 0.0040\n",
      "Test Accuracy at Epoch 230: 81.58%\n",
      "Classification Report at Epoch 230:\n",
      "                  precision    recall  f1-score   support\n",
      "\n",
      "    infringement       0.90      0.70      0.79       283\n",
      "non_infringement       0.76      0.93      0.84       298\n",
      "\n",
      "        accuracy                           0.82       581\n",
      "       macro avg       0.83      0.81      0.81       581\n",
      "    weighted avg       0.83      0.82      0.81       581\n",
      "\n"
     ]
    },
    {
     "name": "stderr",
     "output_type": "stream",
     "text": [
      "Training Epochs:  12%|█▏        | 247/2000 [00:08<00:54, 31.88it/s]"
     ]
    },
    {
     "name": "stdout",
     "output_type": "stream",
     "text": [
      "Epoch 240/2000, Loss: 0.0035\n",
      "Test Accuracy at Epoch 240: 80.03%\n",
      "Classification Report at Epoch 240:\n",
      "                  precision    recall  f1-score   support\n",
      "\n",
      "    infringement       0.86      0.70      0.77       283\n",
      "non_infringement       0.76      0.90      0.82       298\n",
      "\n",
      "        accuracy                           0.80       581\n",
      "       macro avg       0.81      0.80      0.80       581\n",
      "    weighted avg       0.81      0.80      0.80       581\n",
      "\n"
     ]
    },
    {
     "name": "stderr",
     "output_type": "stream",
     "text": [
      "Training Epochs:  13%|█▎        | 255/2000 [00:08<00:58, 29.70it/s]"
     ]
    },
    {
     "name": "stdout",
     "output_type": "stream",
     "text": [
      "Epoch 250/2000, Loss: 0.0032\n",
      "Test Accuracy at Epoch 250: 80.03%\n",
      "Classification Report at Epoch 250:\n",
      "                  precision    recall  f1-score   support\n",
      "\n",
      "    infringement       0.86      0.70      0.77       283\n",
      "non_infringement       0.76      0.90      0.82       298\n",
      "\n",
      "        accuracy                           0.80       581\n",
      "       macro avg       0.81      0.80      0.80       581\n",
      "    weighted avg       0.81      0.80      0.80       581\n",
      "\n"
     ]
    },
    {
     "name": "stderr",
     "output_type": "stream",
     "text": [
      "Training Epochs:  13%|█▎        | 262/2000 [00:08<01:03, 27.46it/s]"
     ]
    },
    {
     "name": "stdout",
     "output_type": "stream",
     "text": [
      "Epoch 260/2000, Loss: 0.0028\n",
      "Test Accuracy at Epoch 260: 79.86%\n",
      "Classification Report at Epoch 260:\n",
      "                  precision    recall  f1-score   support\n",
      "\n",
      "    infringement       0.86      0.70      0.77       283\n",
      "non_infringement       0.76      0.90      0.82       298\n",
      "\n",
      "        accuracy                           0.80       581\n",
      "       macro avg       0.81      0.80      0.80       581\n",
      "    weighted avg       0.81      0.80      0.80       581\n",
      "\n"
     ]
    },
    {
     "name": "stderr",
     "output_type": "stream",
     "text": [
      "Training Epochs:  14%|█▍        | 275/2000 [00:09<01:07, 25.37it/s]"
     ]
    },
    {
     "name": "stdout",
     "output_type": "stream",
     "text": [
      "Epoch 270/2000, Loss: 0.0026\n",
      "Test Accuracy at Epoch 270: 79.86%\n",
      "Classification Report at Epoch 270:\n",
      "                  precision    recall  f1-score   support\n",
      "\n",
      "    infringement       0.86      0.70      0.77       283\n",
      "non_infringement       0.76      0.90      0.82       298\n",
      "\n",
      "        accuracy                           0.80       581\n",
      "       macro avg       0.81      0.80      0.80       581\n",
      "    weighted avg       0.81      0.80      0.80       581\n",
      "\n"
     ]
    },
    {
     "name": "stderr",
     "output_type": "stream",
     "text": [
      "Training Epochs:  14%|█▍        | 284/2000 [00:09<01:12, 23.68it/s]"
     ]
    },
    {
     "name": "stdout",
     "output_type": "stream",
     "text": [
      "Epoch 280/2000, Loss: 0.0023\n",
      "Test Accuracy at Epoch 280: 79.86%\n",
      "Classification Report at Epoch 280:\n",
      "                  precision    recall  f1-score   support\n",
      "\n",
      "    infringement       0.86      0.70      0.77       283\n",
      "non_infringement       0.76      0.90      0.82       298\n",
      "\n",
      "        accuracy                           0.80       581\n",
      "       macro avg       0.81      0.80      0.80       581\n",
      "    weighted avg       0.81      0.80      0.80       581\n",
      "\n"
     ]
    },
    {
     "name": "stderr",
     "output_type": "stream",
     "text": [
      "Training Epochs:  15%|█▍        | 294/2000 [00:10<01:04, 26.37it/s]"
     ]
    },
    {
     "name": "stdout",
     "output_type": "stream",
     "text": [
      "Epoch 290/2000, Loss: 0.0021\n",
      "Test Accuracy at Epoch 290: 79.86%\n",
      "Classification Report at Epoch 290:\n",
      "                  precision    recall  f1-score   support\n",
      "\n",
      "    infringement       0.86      0.70      0.77       283\n",
      "non_infringement       0.76      0.90      0.82       298\n",
      "\n",
      "        accuracy                           0.80       581\n",
      "       macro avg       0.81      0.80      0.80       581\n",
      "    weighted avg       0.81      0.80      0.80       581\n",
      "\n"
     ]
    },
    {
     "name": "stderr",
     "output_type": "stream",
     "text": [
      "Training Epochs:  15%|█▌        | 303/2000 [00:10<01:13, 23.10it/s]"
     ]
    },
    {
     "name": "stdout",
     "output_type": "stream",
     "text": [
      "Epoch 300/2000, Loss: 0.0019\n",
      "Test Accuracy at Epoch 300: 80.03%\n",
      "Classification Report at Epoch 300:\n",
      "                  precision    recall  f1-score   support\n",
      "\n",
      "    infringement       0.86      0.70      0.77       283\n",
      "non_infringement       0.76      0.90      0.82       298\n",
      "\n",
      "        accuracy                           0.80       581\n",
      "       macro avg       0.81      0.80      0.80       581\n",
      "    weighted avg       0.81      0.80      0.80       581\n",
      "\n"
     ]
    },
    {
     "name": "stderr",
     "output_type": "stream",
     "text": [
      "Training Epochs:  16%|█▌        | 314/2000 [00:10<01:02, 27.06it/s]"
     ]
    },
    {
     "name": "stdout",
     "output_type": "stream",
     "text": [
      "Epoch 310/2000, Loss: 0.0018\n",
      "Test Accuracy at Epoch 310: 79.86%\n",
      "Classification Report at Epoch 310:\n",
      "                  precision    recall  f1-score   support\n",
      "\n",
      "    infringement       0.86      0.70      0.77       283\n",
      "non_infringement       0.76      0.90      0.82       298\n",
      "\n",
      "        accuracy                           0.80       581\n",
      "       macro avg       0.81      0.80      0.80       581\n",
      "    weighted avg       0.81      0.80      0.80       581\n",
      "\n"
     ]
    },
    {
     "name": "stderr",
     "output_type": "stream",
     "text": [
      "Training Epochs:  16%|█▌        | 324/2000 [00:11<01:03, 26.47it/s]"
     ]
    },
    {
     "name": "stdout",
     "output_type": "stream",
     "text": [
      "Epoch 320/2000, Loss: 0.0016\n",
      "Test Accuracy at Epoch 320: 79.52%\n",
      "Classification Report at Epoch 320:\n",
      "                  precision    recall  f1-score   support\n",
      "\n",
      "    infringement       0.86      0.69      0.77       283\n",
      "non_infringement       0.75      0.90      0.82       298\n",
      "\n",
      "        accuracy                           0.80       581\n",
      "       macro avg       0.81      0.79      0.79       581\n",
      "    weighted avg       0.81      0.80      0.79       581\n",
      "\n"
     ]
    },
    {
     "name": "stderr",
     "output_type": "stream",
     "text": [
      "Training Epochs:  16%|█▋        | 330/2000 [00:11<01:02, 26.52it/s]"
     ]
    },
    {
     "name": "stdout",
     "output_type": "stream",
     "text": [
      "Epoch 330/2000, Loss: 0.0015\n",
      "Test Accuracy at Epoch 330: 79.52%\n",
      "Classification Report at Epoch 330:\n",
      "                  precision    recall  f1-score   support\n",
      "\n",
      "    infringement       0.86      0.69      0.77       283\n",
      "non_infringement       0.75      0.90      0.82       298\n",
      "\n",
      "        accuracy                           0.80       581\n",
      "       macro avg       0.81      0.79      0.79       581\n",
      "    weighted avg       0.81      0.80      0.79       581\n",
      "\n"
     ]
    },
    {
     "name": "stderr",
     "output_type": "stream",
     "text": [
      "Training Epochs:  17%|█▋        | 343/2000 [00:12<01:09, 23.85it/s]"
     ]
    },
    {
     "name": "stdout",
     "output_type": "stream",
     "text": [
      "Epoch 340/2000, Loss: 0.0014\n",
      "Test Accuracy at Epoch 340: 79.52%\n",
      "Classification Report at Epoch 340:\n",
      "                  precision    recall  f1-score   support\n",
      "\n",
      "    infringement       0.86      0.69      0.77       283\n",
      "non_infringement       0.75      0.90      0.82       298\n",
      "\n",
      "        accuracy                           0.80       581\n",
      "       macro avg       0.81      0.79      0.79       581\n",
      "    weighted avg       0.81      0.80      0.79       581\n",
      "\n"
     ]
    },
    {
     "name": "stderr",
     "output_type": "stream",
     "text": [
      "Training Epochs:  18%|█▊        | 352/2000 [00:12<01:35, 17.20it/s]"
     ]
    },
    {
     "name": "stdout",
     "output_type": "stream",
     "text": [
      "Epoch 350/2000, Loss: 0.0013\n",
      "Test Accuracy at Epoch 350: 79.52%\n",
      "Classification Report at Epoch 350:\n",
      "                  precision    recall  f1-score   support\n",
      "\n",
      "    infringement       0.86      0.69      0.77       283\n",
      "non_infringement       0.75      0.90      0.82       298\n",
      "\n",
      "        accuracy                           0.80       581\n",
      "       macro avg       0.81      0.79      0.79       581\n",
      "    weighted avg       0.81      0.80      0.79       581\n",
      "\n"
     ]
    },
    {
     "name": "stderr",
     "output_type": "stream",
     "text": [
      "Training Epochs:  18%|█▊        | 359/2000 [00:12<01:25, 19.13it/s]"
     ]
    },
    {
     "name": "stdout",
     "output_type": "stream",
     "text": [
      "Epoch 360/2000, Loss: 0.0012\n",
      "Test Accuracy at Epoch 360: 79.52%\n",
      "Classification Report at Epoch 360:\n",
      "                  precision    recall  f1-score   support\n",
      "\n",
      "    infringement       0.86      0.69      0.77       283\n",
      "non_infringement       0.75      0.90      0.82       298\n",
      "\n",
      "        accuracy                           0.80       581\n",
      "       macro avg       0.81      0.79      0.79       581\n",
      "    weighted avg       0.81      0.80      0.79       581\n",
      "\n"
     ]
    },
    {
     "name": "stderr",
     "output_type": "stream",
     "text": [
      "Training Epochs:  19%|█▊        | 372/2000 [00:13<01:28, 18.41it/s]"
     ]
    },
    {
     "name": "stdout",
     "output_type": "stream",
     "text": [
      "Epoch 370/2000, Loss: 0.0011\n",
      "Test Accuracy at Epoch 370: 79.52%\n",
      "Classification Report at Epoch 370:\n",
      "                  precision    recall  f1-score   support\n",
      "\n",
      "    infringement       0.86      0.69      0.77       283\n",
      "non_infringement       0.75      0.90      0.82       298\n",
      "\n",
      "        accuracy                           0.80       581\n",
      "       macro avg       0.81      0.79      0.79       581\n",
      "    weighted avg       0.81      0.80      0.79       581\n",
      "\n"
     ]
    },
    {
     "name": "stderr",
     "output_type": "stream",
     "text": [
      "Training Epochs:  19%|█▉        | 383/2000 [00:14<01:11, 22.77it/s]"
     ]
    },
    {
     "name": "stdout",
     "output_type": "stream",
     "text": [
      "Epoch 380/2000, Loss: 0.0010\n",
      "Test Accuracy at Epoch 380: 79.35%\n",
      "Classification Report at Epoch 380:\n",
      "                  precision    recall  f1-score   support\n",
      "\n",
      "    infringement       0.86      0.69      0.76       283\n",
      "non_infringement       0.75      0.90      0.82       298\n",
      "\n",
      "        accuracy                           0.79       581\n",
      "       macro avg       0.81      0.79      0.79       581\n",
      "    weighted avg       0.80      0.79      0.79       581\n",
      "\n"
     ]
    },
    {
     "name": "stderr",
     "output_type": "stream",
     "text": [
      "Training Epochs:  20%|█▉        | 390/2000 [00:14<01:00, 26.76it/s]"
     ]
    },
    {
     "name": "stdout",
     "output_type": "stream",
     "text": [
      "Epoch 390/2000, Loss: 0.0009\n",
      "Test Accuracy at Epoch 390: 79.69%\n",
      "Classification Report at Epoch 390:\n",
      "                  precision    recall  f1-score   support\n",
      "\n",
      "    infringement       0.87      0.69      0.77       283\n",
      "non_infringement       0.75      0.90      0.82       298\n",
      "\n",
      "        accuracy                           0.80       581\n",
      "       macro avg       0.81      0.79      0.79       581\n",
      "    weighted avg       0.81      0.80      0.79       581\n",
      "\n"
     ]
    },
    {
     "name": "stderr",
     "output_type": "stream",
     "text": [
      "Training Epochs:  20%|██        | 403/2000 [00:15<01:15, 21.04it/s]"
     ]
    },
    {
     "name": "stdout",
     "output_type": "stream",
     "text": [
      "Epoch 400/2000, Loss: 0.0009\n",
      "Test Accuracy at Epoch 400: 79.86%\n",
      "Classification Report at Epoch 400:\n",
      "                  precision    recall  f1-score   support\n",
      "\n",
      "    infringement       0.87      0.69      0.77       283\n",
      "non_infringement       0.75      0.90      0.82       298\n",
      "\n",
      "        accuracy                           0.80       581\n",
      "       macro avg       0.81      0.80      0.80       581\n",
      "    weighted avg       0.81      0.80      0.80       581\n",
      "\n"
     ]
    },
    {
     "name": "stderr",
     "output_type": "stream",
     "text": [
      "Training Epochs:  21%|██        | 415/2000 [00:15<00:55, 28.61it/s]"
     ]
    },
    {
     "name": "stdout",
     "output_type": "stream",
     "text": [
      "Epoch 410/2000, Loss: 0.0008\n",
      "Test Accuracy at Epoch 410: 80.03%\n",
      "Classification Report at Epoch 410:\n",
      "                  precision    recall  f1-score   support\n",
      "\n",
      "    infringement       0.87      0.69      0.77       283\n",
      "non_infringement       0.75      0.91      0.82       298\n",
      "\n",
      "        accuracy                           0.80       581\n",
      "       macro avg       0.81      0.80      0.80       581\n",
      "    weighted avg       0.81      0.80      0.80       581\n",
      "\n"
     ]
    },
    {
     "name": "stderr",
     "output_type": "stream",
     "text": [
      "Training Epochs:  21%|██        | 423/2000 [00:15<00:55, 28.67it/s]"
     ]
    },
    {
     "name": "stdout",
     "output_type": "stream",
     "text": [
      "Epoch 420/2000, Loss: 0.0008\n",
      "Test Accuracy at Epoch 420: 80.21%\n",
      "Classification Report at Epoch 420:\n",
      "                  precision    recall  f1-score   support\n",
      "\n",
      "    infringement       0.88      0.69      0.77       283\n",
      "non_infringement       0.75      0.91      0.82       298\n",
      "\n",
      "        accuracy                           0.80       581\n",
      "       macro avg       0.82      0.80      0.80       581\n",
      "    weighted avg       0.82      0.80      0.80       581\n",
      "\n"
     ]
    },
    {
     "name": "stderr",
     "output_type": "stream",
     "text": [
      "Training Epochs:  22%|██▏       | 432/2000 [00:16<01:00, 25.84it/s]"
     ]
    },
    {
     "name": "stdout",
     "output_type": "stream",
     "text": [
      "Epoch 430/2000, Loss: 0.0007\n",
      "Test Accuracy at Epoch 430: 80.38%\n",
      "Classification Report at Epoch 430:\n",
      "                  precision    recall  f1-score   support\n",
      "\n",
      "    infringement       0.88      0.69      0.77       283\n",
      "non_infringement       0.76      0.91      0.83       298\n",
      "\n",
      "        accuracy                           0.80       581\n",
      "       macro avg       0.82      0.80      0.80       581\n",
      "    weighted avg       0.82      0.80      0.80       581\n",
      "\n"
     ]
    },
    {
     "name": "stderr",
     "output_type": "stream",
     "text": [
      "Training Epochs:  22%|██▏       | 446/2000 [00:16<00:50, 31.02it/s]"
     ]
    },
    {
     "name": "stdout",
     "output_type": "stream",
     "text": [
      "Epoch 440/2000, Loss: 0.0007\n",
      "Test Accuracy at Epoch 440: 80.38%\n",
      "Classification Report at Epoch 440:\n",
      "                  precision    recall  f1-score   support\n",
      "\n",
      "    infringement       0.88      0.69      0.77       283\n",
      "non_infringement       0.76      0.91      0.83       298\n",
      "\n",
      "        accuracy                           0.80       581\n",
      "       macro avg       0.82      0.80      0.80       581\n",
      "    weighted avg       0.82      0.80      0.80       581\n",
      "\n"
     ]
    },
    {
     "name": "stderr",
     "output_type": "stream",
     "text": [
      "Training Epochs:  23%|██▎       | 456/2000 [00:16<00:40, 38.44it/s]"
     ]
    },
    {
     "name": "stdout",
     "output_type": "stream",
     "text": [
      "Epoch 450/2000, Loss: 0.0007\n",
      "Test Accuracy at Epoch 450: 80.72%\n",
      "Classification Report at Epoch 450:\n",
      "                  precision    recall  f1-score   support\n",
      "\n",
      "    infringement       0.89      0.69      0.78       283\n",
      "non_infringement       0.76      0.92      0.83       298\n",
      "\n",
      "        accuracy                           0.81       581\n",
      "       macro avg       0.82      0.80      0.80       581\n",
      "    weighted avg       0.82      0.81      0.80       581\n",
      "\n"
     ]
    },
    {
     "name": "stderr",
     "output_type": "stream",
     "text": [
      "Training Epochs:  23%|██▎       | 461/2000 [00:16<00:40, 37.99it/s]"
     ]
    },
    {
     "name": "stdout",
     "output_type": "stream",
     "text": [
      "Epoch 460/2000, Loss: 0.0006\n",
      "Test Accuracy at Epoch 460: 80.72%\n",
      "Classification Report at Epoch 460:\n",
      "                  precision    recall  f1-score   support\n",
      "\n",
      "    infringement       0.89      0.69      0.78       283\n",
      "non_infringement       0.76      0.92      0.83       298\n",
      "\n",
      "        accuracy                           0.81       581\n",
      "       macro avg       0.82      0.80      0.80       581\n",
      "    weighted avg       0.82      0.81      0.80       581\n",
      "\n"
     ]
    },
    {
     "name": "stderr",
     "output_type": "stream",
     "text": [
      "Training Epochs:  24%|██▎       | 470/2000 [00:17<00:47, 31.95it/s]"
     ]
    },
    {
     "name": "stdout",
     "output_type": "stream",
     "text": [
      "Epoch 470/2000, Loss: 0.0006\n",
      "Test Accuracy at Epoch 470: 81.07%\n",
      "Classification Report at Epoch 470:\n",
      "                  precision    recall  f1-score   support\n",
      "\n",
      "    infringement       0.90      0.69      0.78       283\n",
      "non_infringement       0.76      0.93      0.83       298\n",
      "\n",
      "        accuracy                           0.81       581\n",
      "       macro avg       0.83      0.81      0.81       581\n",
      "    weighted avg       0.83      0.81      0.81       581\n",
      "\n"
     ]
    },
    {
     "name": "stderr",
     "output_type": "stream",
     "text": [
      "Training Epochs:  24%|██▍       | 487/2000 [00:17<00:53, 28.16it/s]"
     ]
    },
    {
     "name": "stdout",
     "output_type": "stream",
     "text": [
      "Epoch 480/2000, Loss: 0.0006\n",
      "Test Accuracy at Epoch 480: 81.07%\n",
      "Classification Report at Epoch 480:\n",
      "                  precision    recall  f1-score   support\n",
      "\n",
      "    infringement       0.90      0.69      0.78       283\n",
      "non_infringement       0.76      0.93      0.83       298\n",
      "\n",
      "        accuracy                           0.81       581\n",
      "       macro avg       0.83      0.81      0.81       581\n",
      "    weighted avg       0.83      0.81      0.81       581\n",
      "\n"
     ]
    },
    {
     "name": "stderr",
     "output_type": "stream",
     "text": [
      "Training Epochs:  25%|██▍       | 492/2000 [00:18<00:55, 27.41it/s]"
     ]
    },
    {
     "name": "stdout",
     "output_type": "stream",
     "text": [
      "Epoch 490/2000, Loss: 0.0005\n",
      "Test Accuracy at Epoch 490: 81.07%\n",
      "Classification Report at Epoch 490:\n",
      "                  precision    recall  f1-score   support\n",
      "\n",
      "    infringement       0.90      0.69      0.78       283\n",
      "non_infringement       0.76      0.93      0.83       298\n",
      "\n",
      "        accuracy                           0.81       581\n",
      "       macro avg       0.83      0.81      0.81       581\n",
      "    weighted avg       0.83      0.81      0.81       581\n",
      "\n"
     ]
    },
    {
     "name": "stderr",
     "output_type": "stream",
     "text": [
      "Training Epochs:  25%|██▌       | 505/2000 [00:18<00:49, 30.41it/s]"
     ]
    },
    {
     "name": "stdout",
     "output_type": "stream",
     "text": [
      "Epoch 500/2000, Loss: 0.0005\n",
      "Test Accuracy at Epoch 500: 81.07%\n",
      "Classification Report at Epoch 500:\n",
      "                  precision    recall  f1-score   support\n",
      "\n",
      "    infringement       0.90      0.69      0.78       283\n",
      "non_infringement       0.76      0.93      0.83       298\n",
      "\n",
      "        accuracy                           0.81       581\n",
      "       macro avg       0.83      0.81      0.81       581\n",
      "    weighted avg       0.83      0.81      0.81       581\n",
      "\n"
     ]
    },
    {
     "name": "stderr",
     "output_type": "stream",
     "text": [
      "Training Epochs:  26%|██▌       | 512/2000 [00:18<01:06, 22.26it/s]"
     ]
    },
    {
     "name": "stdout",
     "output_type": "stream",
     "text": [
      "Epoch 510/2000, Loss: 0.0005\n",
      "Test Accuracy at Epoch 510: 81.07%\n",
      "Classification Report at Epoch 510:\n",
      "                  precision    recall  f1-score   support\n",
      "\n",
      "    infringement       0.90      0.69      0.78       283\n",
      "non_infringement       0.76      0.93      0.83       298\n",
      "\n",
      "        accuracy                           0.81       581\n",
      "       macro avg       0.83      0.81      0.81       581\n",
      "    weighted avg       0.83      0.81      0.81       581\n",
      "\n"
     ]
    },
    {
     "name": "stderr",
     "output_type": "stream",
     "text": [
      "Training Epochs:  26%|██▋       | 526/2000 [00:19<00:59, 24.74it/s]"
     ]
    },
    {
     "name": "stdout",
     "output_type": "stream",
     "text": [
      "Epoch 520/2000, Loss: 0.0005\n",
      "Test Accuracy at Epoch 520: 81.07%\n",
      "Classification Report at Epoch 520:\n",
      "                  precision    recall  f1-score   support\n",
      "\n",
      "    infringement       0.90      0.69      0.78       283\n",
      "non_infringement       0.76      0.93      0.83       298\n",
      "\n",
      "        accuracy                           0.81       581\n",
      "       macro avg       0.83      0.81      0.81       581\n",
      "    weighted avg       0.83      0.81      0.81       581\n",
      "\n"
     ]
    },
    {
     "name": "stderr",
     "output_type": "stream",
     "text": [
      "Training Epochs:  27%|██▋       | 534/2000 [00:19<00:50, 28.81it/s]"
     ]
    },
    {
     "name": "stdout",
     "output_type": "stream",
     "text": [
      "Epoch 530/2000, Loss: 0.0005\n",
      "Test Accuracy at Epoch 530: 81.07%\n",
      "Classification Report at Epoch 530:\n",
      "                  precision    recall  f1-score   support\n",
      "\n",
      "    infringement       0.90      0.69      0.78       283\n",
      "non_infringement       0.76      0.93      0.83       298\n",
      "\n",
      "        accuracy                           0.81       581\n",
      "       macro avg       0.83      0.81      0.81       581\n",
      "    weighted avg       0.83      0.81      0.81       581\n",
      "\n"
     ]
    },
    {
     "name": "stderr",
     "output_type": "stream",
     "text": [
      "Training Epochs:  27%|██▋       | 544/2000 [00:20<00:40, 35.70it/s]"
     ]
    },
    {
     "name": "stdout",
     "output_type": "stream",
     "text": [
      "Epoch 540/2000, Loss: 0.0004\n",
      "Test Accuracy at Epoch 540: 81.07%\n",
      "Classification Report at Epoch 540:\n",
      "                  precision    recall  f1-score   support\n",
      "\n",
      "    infringement       0.90      0.69      0.78       283\n",
      "non_infringement       0.76      0.93      0.83       298\n",
      "\n",
      "        accuracy                           0.81       581\n",
      "       macro avg       0.83      0.81      0.81       581\n",
      "    weighted avg       0.83      0.81      0.81       581\n",
      "\n"
     ]
    },
    {
     "name": "stderr",
     "output_type": "stream",
     "text": [
      "Training Epochs:  28%|██▊       | 556/2000 [00:20<00:45, 32.02it/s]"
     ]
    },
    {
     "name": "stdout",
     "output_type": "stream",
     "text": [
      "Epoch 550/2000, Loss: 0.0004\n",
      "Test Accuracy at Epoch 550: 81.07%\n",
      "Classification Report at Epoch 550:\n",
      "                  precision    recall  f1-score   support\n",
      "\n",
      "    infringement       0.90      0.69      0.78       283\n",
      "non_infringement       0.76      0.93      0.83       298\n",
      "\n",
      "        accuracy                           0.81       581\n",
      "       macro avg       0.83      0.81      0.81       581\n",
      "    weighted avg       0.83      0.81      0.81       581\n",
      "\n"
     ]
    },
    {
     "name": "stderr",
     "output_type": "stream",
     "text": [
      "Training Epochs:  28%|██▊       | 565/2000 [00:20<00:50, 28.46it/s]"
     ]
    },
    {
     "name": "stdout",
     "output_type": "stream",
     "text": [
      "Epoch 560/2000, Loss: 0.0004\n",
      "Test Accuracy at Epoch 560: 81.07%\n",
      "Classification Report at Epoch 560:\n",
      "                  precision    recall  f1-score   support\n",
      "\n",
      "    infringement       0.90      0.69      0.78       283\n",
      "non_infringement       0.76      0.93      0.83       298\n",
      "\n",
      "        accuracy                           0.81       581\n",
      "       macro avg       0.83      0.81      0.81       581\n",
      "    weighted avg       0.83      0.81      0.81       581\n",
      "\n"
     ]
    },
    {
     "name": "stderr",
     "output_type": "stream",
     "text": [
      "Training Epochs:  29%|██▊       | 573/2000 [00:21<00:52, 27.35it/s]"
     ]
    },
    {
     "name": "stdout",
     "output_type": "stream",
     "text": [
      "Epoch 570/2000, Loss: 0.0004\n",
      "Test Accuracy at Epoch 570: 81.07%\n",
      "Classification Report at Epoch 570:\n",
      "                  precision    recall  f1-score   support\n",
      "\n",
      "    infringement       0.90      0.69      0.78       283\n",
      "non_infringement       0.76      0.93      0.83       298\n",
      "\n",
      "        accuracy                           0.81       581\n",
      "       macro avg       0.83      0.81      0.81       581\n",
      "    weighted avg       0.83      0.81      0.81       581\n",
      "\n"
     ]
    },
    {
     "name": "stderr",
     "output_type": "stream",
     "text": [
      "Training Epochs:  29%|██▉       | 588/2000 [00:21<00:33, 41.88it/s]"
     ]
    },
    {
     "name": "stdout",
     "output_type": "stream",
     "text": [
      "Epoch 580/2000, Loss: 0.0004\n",
      "Test Accuracy at Epoch 580: 81.07%\n",
      "Classification Report at Epoch 580:\n",
      "                  precision    recall  f1-score   support\n",
      "\n",
      "    infringement       0.90      0.69      0.78       283\n",
      "non_infringement       0.76      0.93      0.83       298\n",
      "\n",
      "        accuracy                           0.81       581\n",
      "       macro avg       0.83      0.81      0.81       581\n",
      "    weighted avg       0.83      0.81      0.81       581\n",
      "\n",
      "Epoch 590/2000, Loss: 0.0004\n",
      "Test Accuracy at Epoch 590: 81.07%\n",
      "Classification Report at Epoch 590:\n",
      "                  precision    recall  f1-score   support\n",
      "\n",
      "    infringement       0.90      0.69      0.78       283\n",
      "non_infringement       0.76      0.93      0.83       298\n",
      "\n",
      "        accuracy                           0.81       581\n",
      "       macro avg       0.83      0.81      0.81       581\n",
      "    weighted avg       0.83      0.81      0.81       581\n",
      "\n"
     ]
    },
    {
     "name": "stderr",
     "output_type": "stream",
     "text": [
      "Training Epochs:  30%|███       | 607/2000 [00:21<00:31, 44.41it/s]"
     ]
    },
    {
     "name": "stdout",
     "output_type": "stream",
     "text": [
      "Epoch 600/2000, Loss: 0.0003\n",
      "Test Accuracy at Epoch 600: 81.07%\n",
      "Classification Report at Epoch 600:\n",
      "                  precision    recall  f1-score   support\n",
      "\n",
      "    infringement       0.90      0.69      0.78       283\n",
      "non_infringement       0.76      0.93      0.83       298\n",
      "\n",
      "        accuracy                           0.81       581\n",
      "       macro avg       0.83      0.81      0.81       581\n",
      "    weighted avg       0.83      0.81      0.81       581\n",
      "\n",
      "Epoch 610/2000, Loss: 0.0003\n",
      "Test Accuracy at Epoch 610: 81.07%\n",
      "Classification Report at Epoch 610:\n",
      "                  precision    recall  f1-score   support\n",
      "\n",
      "    infringement       0.90      0.69      0.78       283\n",
      "non_infringement       0.76      0.93      0.83       298\n",
      "\n",
      "        accuracy                           0.81       581\n",
      "       macro avg       0.83      0.81      0.81       581\n",
      "    weighted avg       0.83      0.81      0.81       581\n",
      "\n"
     ]
    },
    {
     "name": "stderr",
     "output_type": "stream",
     "text": [
      "Training Epochs:  31%|███       | 622/2000 [00:22<00:38, 35.99it/s]"
     ]
    },
    {
     "name": "stdout",
     "output_type": "stream",
     "text": [
      "Epoch 620/2000, Loss: 0.0003\n",
      "Test Accuracy at Epoch 620: 81.07%\n",
      "Classification Report at Epoch 620:\n",
      "                  precision    recall  f1-score   support\n",
      "\n",
      "    infringement       0.90      0.69      0.78       283\n",
      "non_infringement       0.76      0.93      0.83       298\n",
      "\n",
      "        accuracy                           0.81       581\n",
      "       macro avg       0.83      0.81      0.81       581\n",
      "    weighted avg       0.83      0.81      0.81       581\n",
      "\n",
      "Epoch 630/2000, Loss: 0.0003\n",
      "Test Accuracy at Epoch 630: 81.07%\n"
     ]
    },
    {
     "name": "stderr",
     "output_type": "stream",
     "text": [
      "Training Epochs:  32%|███▏      | 636/2000 [00:22<00:30, 44.40it/s]"
     ]
    },
    {
     "name": "stdout",
     "output_type": "stream",
     "text": [
      "Classification Report at Epoch 630:\n",
      "                  precision    recall  f1-score   support\n",
      "\n",
      "    infringement       0.90      0.69      0.78       283\n",
      "non_infringement       0.76      0.93      0.83       298\n",
      "\n",
      "        accuracy                           0.81       581\n",
      "       macro avg       0.83      0.81      0.81       581\n",
      "    weighted avg       0.83      0.81      0.81       581\n",
      "\n",
      "Epoch 640/2000, Loss: 0.0003\n",
      "Test Accuracy at Epoch 640: 80.90%\n",
      "Classification Report at Epoch 640:\n",
      "                  precision    recall  f1-score   support\n",
      "\n",
      "    infringement       0.89      0.69      0.78       283\n",
      "non_infringement       0.76      0.92      0.83       298\n",
      "\n",
      "        accuracy                           0.81       581\n",
      "       macro avg       0.83      0.81      0.81       581\n",
      "    weighted avg       0.82      0.81      0.81       581\n",
      "\n"
     ]
    },
    {
     "name": "stderr",
     "output_type": "stream",
     "text": [
      "Training Epochs:  33%|███▎      | 656/2000 [00:23<00:27, 49.33it/s]"
     ]
    },
    {
     "name": "stdout",
     "output_type": "stream",
     "text": [
      "Epoch 650/2000, Loss: 0.0003\n",
      "Test Accuracy at Epoch 650: 80.90%\n",
      "Classification Report at Epoch 650:\n",
      "                  precision    recall  f1-score   support\n",
      "\n",
      "    infringement       0.89      0.69      0.78       283\n",
      "non_infringement       0.76      0.92      0.83       298\n",
      "\n",
      "        accuracy                           0.81       581\n",
      "       macro avg       0.83      0.81      0.81       581\n",
      "    weighted avg       0.82      0.81      0.81       581\n",
      "\n"
     ]
    },
    {
     "name": "stderr",
     "output_type": "stream",
     "text": [
      "Training Epochs:  33%|███▎      | 668/2000 [00:23<00:26, 49.68it/s]"
     ]
    },
    {
     "name": "stdout",
     "output_type": "stream",
     "text": [
      "Epoch 660/2000, Loss: 0.0003\n",
      "Test Accuracy at Epoch 660: 80.90%\n",
      "Classification Report at Epoch 660:\n",
      "                  precision    recall  f1-score   support\n",
      "\n",
      "    infringement       0.89      0.69      0.78       283\n",
      "non_infringement       0.76      0.92      0.83       298\n",
      "\n",
      "        accuracy                           0.81       581\n",
      "       macro avg       0.83      0.81      0.81       581\n",
      "    weighted avg       0.82      0.81      0.81       581\n",
      "\n"
     ]
    },
    {
     "name": "stderr",
     "output_type": "stream",
     "text": [
      "Training Epochs:  34%|███▎      | 674/2000 [00:23<00:28, 46.23it/s]"
     ]
    },
    {
     "name": "stdout",
     "output_type": "stream",
     "text": [
      "Epoch 670/2000, Loss: 0.0003\n",
      "Test Accuracy at Epoch 670: 80.90%\n",
      "Classification Report at Epoch 670:\n",
      "                  precision    recall  f1-score   support\n",
      "\n",
      "    infringement       0.89      0.69      0.78       283\n",
      "non_infringement       0.76      0.92      0.83       298\n",
      "\n",
      "        accuracy                           0.81       581\n",
      "       macro avg       0.83      0.81      0.81       581\n",
      "    weighted avg       0.82      0.81      0.81       581\n",
      "\n"
     ]
    },
    {
     "name": "stderr",
     "output_type": "stream",
     "text": [
      "Training Epochs:  34%|███▍      | 684/2000 [00:23<00:37, 35.56it/s]"
     ]
    },
    {
     "name": "stdout",
     "output_type": "stream",
     "text": [
      "Epoch 680/2000, Loss: 0.0003\n",
      "Test Accuracy at Epoch 680: 80.90%\n",
      "Classification Report at Epoch 680:\n",
      "                  precision    recall  f1-score   support\n",
      "\n",
      "    infringement       0.89      0.69      0.78       283\n",
      "non_infringement       0.76      0.92      0.83       298\n",
      "\n",
      "        accuracy                           0.81       581\n",
      "       macro avg       0.83      0.81      0.81       581\n",
      "    weighted avg       0.82      0.81      0.81       581\n",
      "\n"
     ]
    },
    {
     "name": "stderr",
     "output_type": "stream",
     "text": [
      "Training Epochs:  35%|███▍      | 697/2000 [00:24<00:28, 46.40it/s]"
     ]
    },
    {
     "name": "stdout",
     "output_type": "stream",
     "text": [
      "Epoch 690/2000, Loss: 0.0002\n",
      "Test Accuracy at Epoch 690: 80.90%\n",
      "Classification Report at Epoch 690:\n",
      "                  precision    recall  f1-score   support\n",
      "\n",
      "    infringement       0.89      0.69      0.78       283\n",
      "non_infringement       0.76      0.92      0.83       298\n",
      "\n",
      "        accuracy                           0.81       581\n",
      "       macro avg       0.83      0.81      0.81       581\n",
      "    weighted avg       0.82      0.81      0.81       581\n",
      "\n",
      "Epoch 700/2000, Loss: 0.0002\n",
      "Test Accuracy at Epoch 700: 80.90%\n",
      "Classification Report at Epoch 700:\n",
      "                  precision    recall  f1-score   support\n",
      "\n",
      "    infringement       0.89      0.69      0.78       283\n",
      "non_infringement       0.76      0.92      0.83       298\n",
      "\n",
      "        accuracy                           0.81       581\n",
      "       macro avg       0.83      0.81      0.81       581\n",
      "    weighted avg       0.82      0.81      0.81       581\n",
      "\n"
     ]
    },
    {
     "name": "stderr",
     "output_type": "stream",
     "text": [
      "Training Epochs:  36%|███▌      | 717/2000 [00:24<00:23, 53.86it/s]"
     ]
    },
    {
     "name": "stdout",
     "output_type": "stream",
     "text": [
      "Epoch 710/2000, Loss: 0.0002\n",
      "Test Accuracy at Epoch 710: 80.90%\n",
      "Classification Report at Epoch 710:\n",
      "                  precision    recall  f1-score   support\n",
      "\n",
      "    infringement       0.89      0.69      0.78       283\n",
      "non_infringement       0.76      0.92      0.83       298\n",
      "\n",
      "        accuracy                           0.81       581\n",
      "       macro avg       0.83      0.81      0.81       581\n",
      "    weighted avg       0.82      0.81      0.81       581\n",
      "\n",
      "Epoch 720/2000, Loss: 0.0002\n",
      "Test Accuracy at Epoch 720: 80.72%\n",
      "Classification Report at Epoch 720:\n",
      "                  precision    recall  f1-score   support\n",
      "\n",
      "    infringement       0.89      0.69      0.78       283\n",
      "non_infringement       0.76      0.92      0.83       298\n",
      "\n",
      "        accuracy                           0.81       581\n",
      "       macro avg       0.82      0.80      0.80       581\n",
      "    weighted avg       0.82      0.81      0.80       581\n",
      "\n"
     ]
    },
    {
     "name": "stderr",
     "output_type": "stream",
     "text": [
      "Training Epochs:  37%|███▋      | 735/2000 [00:24<00:32, 38.95it/s]"
     ]
    },
    {
     "name": "stdout",
     "output_type": "stream",
     "text": [
      "Epoch 730/2000, Loss: 0.0002\n",
      "Test Accuracy at Epoch 730: 80.72%\n",
      "Classification Report at Epoch 730:\n",
      "                  precision    recall  f1-score   support\n",
      "\n",
      "    infringement       0.89      0.69      0.78       283\n",
      "non_infringement       0.76      0.92      0.83       298\n",
      "\n",
      "        accuracy                           0.81       581\n",
      "       macro avg       0.82      0.80      0.80       581\n",
      "    weighted avg       0.82      0.81      0.80       581\n",
      "\n"
     ]
    },
    {
     "name": "stderr",
     "output_type": "stream",
     "text": [
      "Training Epochs:  37%|███▋      | 745/2000 [00:25<00:42, 29.20it/s]"
     ]
    },
    {
     "name": "stdout",
     "output_type": "stream",
     "text": [
      "Epoch 740/2000, Loss: 0.0002\n",
      "Test Accuracy at Epoch 740: 80.72%\n",
      "Classification Report at Epoch 740:\n",
      "                  precision    recall  f1-score   support\n",
      "\n",
      "    infringement       0.89      0.69      0.78       283\n",
      "non_infringement       0.76      0.92      0.83       298\n",
      "\n",
      "        accuracy                           0.81       581\n",
      "       macro avg       0.82      0.80      0.80       581\n",
      "    weighted avg       0.82      0.81      0.80       581\n",
      "\n"
     ]
    },
    {
     "name": "stderr",
     "output_type": "stream",
     "text": [
      "Training Epochs:  38%|███▊      | 759/2000 [00:25<00:33, 37.40it/s]"
     ]
    },
    {
     "name": "stdout",
     "output_type": "stream",
     "text": [
      "Epoch 750/2000, Loss: 0.0002\n",
      "Test Accuracy at Epoch 750: 80.72%\n",
      "Classification Report at Epoch 750:\n",
      "                  precision    recall  f1-score   support\n",
      "\n",
      "    infringement       0.89      0.69      0.78       283\n",
      "non_infringement       0.76      0.92      0.83       298\n",
      "\n",
      "        accuracy                           0.81       581\n",
      "       macro avg       0.82      0.80      0.80       581\n",
      "    weighted avg       0.82      0.81      0.80       581\n",
      "\n"
     ]
    },
    {
     "name": "stderr",
     "output_type": "stream",
     "text": [
      "Training Epochs:  38%|███▊      | 764/2000 [00:25<00:36, 34.14it/s]"
     ]
    },
    {
     "name": "stdout",
     "output_type": "stream",
     "text": [
      "Epoch 760/2000, Loss: 0.0002\n",
      "Test Accuracy at Epoch 760: 80.72%\n",
      "Classification Report at Epoch 760:\n",
      "                  precision    recall  f1-score   support\n",
      "\n",
      "    infringement       0.89      0.69      0.78       283\n",
      "non_infringement       0.76      0.92      0.83       298\n",
      "\n",
      "        accuracy                           0.81       581\n",
      "       macro avg       0.82      0.80      0.80       581\n",
      "    weighted avg       0.82      0.81      0.80       581\n",
      "\n"
     ]
    },
    {
     "name": "stderr",
     "output_type": "stream",
     "text": [
      "Training Epochs:  39%|███▊      | 774/2000 [00:26<00:35, 34.20it/s]"
     ]
    },
    {
     "name": "stdout",
     "output_type": "stream",
     "text": [
      "Epoch 770/2000, Loss: 0.0002\n",
      "Test Accuracy at Epoch 770: 80.72%\n",
      "Classification Report at Epoch 770:\n",
      "                  precision    recall  f1-score   support\n",
      "\n",
      "    infringement       0.89      0.69      0.78       283\n",
      "non_infringement       0.76      0.92      0.83       298\n",
      "\n",
      "        accuracy                           0.81       581\n",
      "       macro avg       0.82      0.80      0.80       581\n",
      "    weighted avg       0.82      0.81      0.80       581\n",
      "\n"
     ]
    },
    {
     "name": "stderr",
     "output_type": "stream",
     "text": [
      "Training Epochs:  39%|███▉      | 783/2000 [00:26<00:31, 38.46it/s]"
     ]
    },
    {
     "name": "stdout",
     "output_type": "stream",
     "text": [
      "Epoch 780/2000, Loss: 0.0002\n",
      "Test Accuracy at Epoch 780: 80.55%\n",
      "Classification Report at Epoch 780:\n",
      "                  precision    recall  f1-score   support\n",
      "\n",
      "    infringement       0.89      0.69      0.78       283\n",
      "non_infringement       0.76      0.92      0.83       298\n",
      "\n",
      "        accuracy                           0.81       581\n",
      "       macro avg       0.82      0.80      0.80       581\n",
      "    weighted avg       0.82      0.81      0.80       581\n",
      "\n"
     ]
    },
    {
     "name": "stderr",
     "output_type": "stream",
     "text": [
      "Training Epochs:  40%|████      | 800/2000 [00:26<00:29, 40.54it/s]"
     ]
    },
    {
     "name": "stdout",
     "output_type": "stream",
     "text": [
      "Epoch 790/2000, Loss: 0.0002\n",
      "Test Accuracy at Epoch 790: 80.55%\n",
      "Classification Report at Epoch 790:\n",
      "                  precision    recall  f1-score   support\n",
      "\n",
      "    infringement       0.89      0.69      0.78       283\n",
      "non_infringement       0.76      0.92      0.83       298\n",
      "\n",
      "        accuracy                           0.81       581\n",
      "       macro avg       0.82      0.80      0.80       581\n",
      "    weighted avg       0.82      0.81      0.80       581\n",
      "\n",
      "Epoch 800/2000, Loss: 0.0002\n",
      "Test Accuracy at Epoch 800: 80.55%\n",
      "Classification Report at Epoch 800:\n",
      "                  precision    recall  f1-score   support\n",
      "\n",
      "    infringement       0.89      0.69      0.78       283\n",
      "non_infringement       0.76      0.92      0.83       298\n",
      "\n",
      "        accuracy                           0.81       581\n",
      "       macro avg       0.82      0.80      0.80       581\n",
      "    weighted avg       0.82      0.81      0.80       581\n",
      "\n"
     ]
    },
    {
     "name": "stderr",
     "output_type": "stream",
     "text": [
      "Training Epochs:  41%|████      | 816/2000 [00:27<00:28, 41.70it/s]"
     ]
    },
    {
     "name": "stdout",
     "output_type": "stream",
     "text": [
      "Epoch 810/2000, Loss: 0.0002\n",
      "Test Accuracy at Epoch 810: 80.55%\n",
      "Classification Report at Epoch 810:\n",
      "                  precision    recall  f1-score   support\n",
      "\n",
      "    infringement       0.89      0.69      0.78       283\n",
      "non_infringement       0.76      0.92      0.83       298\n",
      "\n",
      "        accuracy                           0.81       581\n",
      "       macro avg       0.82      0.80      0.80       581\n",
      "    weighted avg       0.82      0.81      0.80       581\n",
      "\n"
     ]
    },
    {
     "name": "stderr",
     "output_type": "stream",
     "text": [
      "Training Epochs:  41%|████      | 821/2000 [00:27<00:31, 37.57it/s]"
     ]
    },
    {
     "name": "stdout",
     "output_type": "stream",
     "text": [
      "Epoch 820/2000, Loss: 0.0002\n",
      "Test Accuracy at Epoch 820: 80.55%\n",
      "Classification Report at Epoch 820:\n",
      "                  precision    recall  f1-score   support\n",
      "\n",
      "    infringement       0.89      0.69      0.78       283\n",
      "non_infringement       0.76      0.92      0.83       298\n",
      "\n",
      "        accuracy                           0.81       581\n",
      "       macro avg       0.82      0.80      0.80       581\n",
      "    weighted avg       0.82      0.81      0.80       581\n",
      "\n"
     ]
    },
    {
     "name": "stderr",
     "output_type": "stream",
     "text": [
      "Training Epochs:  42%|████▏     | 835/2000 [00:27<00:33, 34.59it/s]"
     ]
    },
    {
     "name": "stdout",
     "output_type": "stream",
     "text": [
      "Epoch 830/2000, Loss: 0.0001\n",
      "Test Accuracy at Epoch 830: 80.55%\n",
      "Classification Report at Epoch 830:\n",
      "                  precision    recall  f1-score   support\n",
      "\n",
      "    infringement       0.89      0.69      0.78       283\n",
      "non_infringement       0.76      0.92      0.83       298\n",
      "\n",
      "        accuracy                           0.81       581\n",
      "       macro avg       0.82      0.80      0.80       581\n",
      "    weighted avg       0.82      0.81      0.80       581\n",
      "\n"
     ]
    },
    {
     "name": "stderr",
     "output_type": "stream",
     "text": [
      "Training Epochs:  42%|████▏     | 840/2000 [00:27<00:31, 37.32it/s]"
     ]
    },
    {
     "name": "stdout",
     "output_type": "stream",
     "text": [
      "Epoch 840/2000, Loss: 0.0001\n",
      "Test Accuracy at Epoch 840: 80.55%\n",
      "Classification Report at Epoch 840:\n",
      "                  precision    recall  f1-score   support\n",
      "\n",
      "    infringement       0.89      0.69      0.78       283\n",
      "non_infringement       0.76      0.92      0.83       298\n",
      "\n",
      "        accuracy                           0.81       581\n",
      "       macro avg       0.82      0.80      0.80       581\n",
      "    weighted avg       0.82      0.81      0.80       581\n",
      "\n"
     ]
    },
    {
     "name": "stderr",
     "output_type": "stream",
     "text": [
      "Training Epochs:  43%|████▎     | 853/2000 [00:28<00:36, 31.16it/s]"
     ]
    },
    {
     "name": "stdout",
     "output_type": "stream",
     "text": [
      "Epoch 850/2000, Loss: 0.0001\n",
      "Test Accuracy at Epoch 850: 80.55%\n",
      "Classification Report at Epoch 850:\n",
      "                  precision    recall  f1-score   support\n",
      "\n",
      "    infringement       0.89      0.69      0.78       283\n",
      "non_infringement       0.76      0.92      0.83       298\n",
      "\n",
      "        accuracy                           0.81       581\n",
      "       macro avg       0.82      0.80      0.80       581\n",
      "    weighted avg       0.82      0.81      0.80       581\n",
      "\n"
     ]
    },
    {
     "name": "stderr",
     "output_type": "stream",
     "text": [
      "Training Epochs:  43%|████▎     | 868/2000 [00:28<00:30, 37.12it/s]"
     ]
    },
    {
     "name": "stdout",
     "output_type": "stream",
     "text": [
      "Epoch 860/2000, Loss: 0.0001\n",
      "Test Accuracy at Epoch 860: 80.55%\n",
      "Classification Report at Epoch 860:\n",
      "                  precision    recall  f1-score   support\n",
      "\n",
      "    infringement       0.89      0.69      0.78       283\n",
      "non_infringement       0.76      0.92      0.83       298\n",
      "\n",
      "        accuracy                           0.81       581\n",
      "       macro avg       0.82      0.80      0.80       581\n",
      "    weighted avg       0.82      0.81      0.80       581\n",
      "\n"
     ]
    },
    {
     "name": "stderr",
     "output_type": "stream",
     "text": [
      "Training Epochs:  44%|████▎     | 873/2000 [00:28<00:28, 39.37it/s]"
     ]
    },
    {
     "name": "stdout",
     "output_type": "stream",
     "text": [
      "Epoch 870/2000, Loss: 0.0001\n",
      "Test Accuracy at Epoch 870: 80.55%\n",
      "Classification Report at Epoch 870:\n",
      "                  precision    recall  f1-score   support\n",
      "\n",
      "    infringement       0.89      0.69      0.78       283\n",
      "non_infringement       0.76      0.92      0.83       298\n",
      "\n",
      "        accuracy                           0.81       581\n",
      "       macro avg       0.82      0.80      0.80       581\n",
      "    weighted avg       0.82      0.81      0.80       581\n",
      "\n"
     ]
    },
    {
     "name": "stderr",
     "output_type": "stream",
     "text": [
      "Training Epochs:  45%|████▍     | 892/2000 [00:29<00:22, 49.97it/s]"
     ]
    },
    {
     "name": "stdout",
     "output_type": "stream",
     "text": [
      "Epoch 880/2000, Loss: 0.0001\n",
      "Test Accuracy at Epoch 880: 80.55%\n",
      "Classification Report at Epoch 880:\n",
      "                  precision    recall  f1-score   support\n",
      "\n",
      "    infringement       0.89      0.69      0.78       283\n",
      "non_infringement       0.76      0.92      0.83       298\n",
      "\n",
      "        accuracy                           0.81       581\n",
      "       macro avg       0.82      0.80      0.80       581\n",
      "    weighted avg       0.82      0.81      0.80       581\n",
      "\n",
      "Epoch 890/2000, Loss: 0.0001\n",
      "Test Accuracy at Epoch 890: 80.55%\n",
      "Classification Report at Epoch 890:\n",
      "                  precision    recall  f1-score   support\n",
      "\n",
      "    infringement       0.89      0.69      0.78       283\n",
      "non_infringement       0.76      0.92      0.83       298\n",
      "\n",
      "        accuracy                           0.81       581\n",
      "       macro avg       0.82      0.80      0.80       581\n",
      "    weighted avg       0.82      0.81      0.80       581\n",
      "\n"
     ]
    },
    {
     "name": "stderr",
     "output_type": "stream",
     "text": [
      "Training Epochs:  45%|████▌     | 903/2000 [00:29<00:29, 37.51it/s]"
     ]
    },
    {
     "name": "stdout",
     "output_type": "stream",
     "text": [
      "Epoch 900/2000, Loss: 0.0001\n",
      "Test Accuracy at Epoch 900: 80.55%\n",
      "Classification Report at Epoch 900:\n",
      "                  precision    recall  f1-score   support\n",
      "\n",
      "    infringement       0.89      0.69      0.78       283\n",
      "non_infringement       0.76      0.92      0.83       298\n",
      "\n",
      "        accuracy                           0.81       581\n",
      "       macro avg       0.82      0.80      0.80       581\n",
      "    weighted avg       0.82      0.81      0.80       581\n",
      "\n"
     ]
    },
    {
     "name": "stderr",
     "output_type": "stream",
     "text": [
      "Training Epochs:  46%|████▌     | 916/2000 [00:30<00:31, 34.19it/s]"
     ]
    },
    {
     "name": "stdout",
     "output_type": "stream",
     "text": [
      "Epoch 910/2000, Loss: 0.0001\n",
      "Test Accuracy at Epoch 910: 80.55%\n",
      "Classification Report at Epoch 910:\n",
      "                  precision    recall  f1-score   support\n",
      "\n",
      "    infringement       0.89      0.69      0.78       283\n",
      "non_infringement       0.76      0.92      0.83       298\n",
      "\n",
      "        accuracy                           0.81       581\n",
      "       macro avg       0.82      0.80      0.80       581\n",
      "    weighted avg       0.82      0.81      0.80       581\n",
      "\n"
     ]
    },
    {
     "name": "stderr",
     "output_type": "stream",
     "text": [
      "Training Epochs:  46%|████▋     | 926/2000 [00:30<00:29, 35.81it/s]"
     ]
    },
    {
     "name": "stdout",
     "output_type": "stream",
     "text": [
      "Epoch 920/2000, Loss: 0.0001\n",
      "Test Accuracy at Epoch 920: 80.55%\n",
      "Classification Report at Epoch 920:\n",
      "                  precision    recall  f1-score   support\n",
      "\n",
      "    infringement       0.89      0.69      0.78       283\n",
      "non_infringement       0.76      0.92      0.83       298\n",
      "\n",
      "        accuracy                           0.81       581\n",
      "       macro avg       0.82      0.80      0.80       581\n",
      "    weighted avg       0.82      0.81      0.80       581\n",
      "\n"
     ]
    },
    {
     "name": "stderr",
     "output_type": "stream",
     "text": [
      "Training Epochs:  47%|████▋     | 934/2000 [00:30<00:31, 34.32it/s]"
     ]
    },
    {
     "name": "stdout",
     "output_type": "stream",
     "text": [
      "Epoch 930/2000, Loss: 0.0001\n",
      "Test Accuracy at Epoch 930: 80.55%\n",
      "Classification Report at Epoch 930:\n",
      "                  precision    recall  f1-score   support\n",
      "\n",
      "    infringement       0.89      0.69      0.78       283\n",
      "non_infringement       0.76      0.92      0.83       298\n",
      "\n",
      "        accuracy                           0.81       581\n",
      "       macro avg       0.82      0.80      0.80       581\n",
      "    weighted avg       0.82      0.81      0.80       581\n",
      "\n"
     ]
    },
    {
     "name": "stderr",
     "output_type": "stream",
     "text": [
      "Training Epochs:  47%|████▋     | 940/2000 [00:30<00:33, 31.69it/s]"
     ]
    },
    {
     "name": "stdout",
     "output_type": "stream",
     "text": [
      "Epoch 940/2000, Loss: 0.0001\n",
      "Test Accuracy at Epoch 940: 80.55%\n",
      "Classification Report at Epoch 940:\n",
      "                  precision    recall  f1-score   support\n",
      "\n",
      "    infringement       0.89      0.69      0.78       283\n",
      "non_infringement       0.76      0.92      0.83       298\n",
      "\n",
      "        accuracy                           0.81       581\n",
      "       macro avg       0.82      0.80      0.80       581\n",
      "    weighted avg       0.82      0.81      0.80       581\n",
      "\n"
     ]
    },
    {
     "name": "stderr",
     "output_type": "stream",
     "text": [
      "Training Epochs:  48%|████▊     | 956/2000 [00:31<00:28, 36.28it/s]"
     ]
    },
    {
     "name": "stdout",
     "output_type": "stream",
     "text": [
      "Epoch 950/2000, Loss: 0.0001\n",
      "Test Accuracy at Epoch 950: 80.55%\n",
      "Classification Report at Epoch 950:\n",
      "                  precision    recall  f1-score   support\n",
      "\n",
      "    infringement       0.89      0.69      0.78       283\n",
      "non_infringement       0.76      0.92      0.83       298\n",
      "\n",
      "        accuracy                           0.81       581\n",
      "       macro avg       0.82      0.80      0.80       581\n",
      "    weighted avg       0.82      0.81      0.80       581\n",
      "\n"
     ]
    },
    {
     "name": "stderr",
     "output_type": "stream",
     "text": [
      "Training Epochs:  48%|████▊     | 966/2000 [00:31<00:26, 39.20it/s]"
     ]
    },
    {
     "name": "stdout",
     "output_type": "stream",
     "text": [
      "Epoch 960/2000, Loss: 0.0001\n",
      "Test Accuracy at Epoch 960: 80.55%\n",
      "Classification Report at Epoch 960:\n",
      "                  precision    recall  f1-score   support\n",
      "\n",
      "    infringement       0.89      0.69      0.78       283\n",
      "non_infringement       0.76      0.92      0.83       298\n",
      "\n",
      "        accuracy                           0.81       581\n",
      "       macro avg       0.82      0.80      0.80       581\n",
      "    weighted avg       0.82      0.81      0.80       581\n",
      "\n",
      "Epoch 970/2000, Loss: 0.0001\n",
      "Test Accuracy at Epoch 970: 80.55%\n",
      "Classification Report at Epoch 970:\n",
      "                  precision    recall  f1-score   support\n",
      "\n",
      "    infringement       0.89      0.69      0.78       283\n",
      "non_infringement       0.76      0.92      0.83       298\n",
      "\n",
      "        accuracy                           0.81       581\n",
      "       macro avg       0.82      0.80      0.80       581\n",
      "    weighted avg       0.82      0.81      0.80       581\n",
      "\n"
     ]
    },
    {
     "name": "stderr",
     "output_type": "stream",
     "text": [
      "Training Epochs:  49%|████▉     | 988/2000 [00:31<00:23, 42.37it/s]"
     ]
    },
    {
     "name": "stdout",
     "output_type": "stream",
     "text": [
      "Epoch 980/2000, Loss: 0.0001\n",
      "Test Accuracy at Epoch 980: 80.55%\n",
      "Classification Report at Epoch 980:\n",
      "                  precision    recall  f1-score   support\n",
      "\n",
      "    infringement       0.89      0.69      0.78       283\n",
      "non_infringement       0.76      0.92      0.83       298\n",
      "\n",
      "        accuracy                           0.81       581\n",
      "       macro avg       0.82      0.80      0.80       581\n",
      "    weighted avg       0.82      0.81      0.80       581\n",
      "\n"
     ]
    },
    {
     "name": "stderr",
     "output_type": "stream",
     "text": [
      "Training Epochs:  50%|████▉     | 993/2000 [00:32<00:23, 42.93it/s]"
     ]
    },
    {
     "name": "stdout",
     "output_type": "stream",
     "text": [
      "Epoch 990/2000, Loss: 0.0001\n",
      "Test Accuracy at Epoch 990: 80.55%\n",
      "Classification Report at Epoch 990:\n",
      "                  precision    recall  f1-score   support\n",
      "\n",
      "    infringement       0.89      0.69      0.78       283\n",
      "non_infringement       0.76      0.92      0.83       298\n",
      "\n",
      "        accuracy                           0.81       581\n",
      "       macro avg       0.82      0.80      0.80       581\n",
      "    weighted avg       0.82      0.81      0.80       581\n",
      "\n"
     ]
    },
    {
     "name": "stderr",
     "output_type": "stream",
     "text": [
      "Training Epochs:  50%|█████     | 1003/2000 [00:32<00:31, 31.87it/s]"
     ]
    },
    {
     "name": "stdout",
     "output_type": "stream",
     "text": [
      "Epoch 1000/2000, Loss: 0.0001\n",
      "Test Accuracy at Epoch 1000: 80.55%\n",
      "Classification Report at Epoch 1000:\n",
      "                  precision    recall  f1-score   support\n",
      "\n",
      "    infringement       0.89      0.69      0.78       283\n",
      "non_infringement       0.76      0.92      0.83       298\n",
      "\n",
      "        accuracy                           0.81       581\n",
      "       macro avg       0.82      0.80      0.80       581\n",
      "    weighted avg       0.82      0.81      0.80       581\n",
      "\n"
     ]
    },
    {
     "name": "stderr",
     "output_type": "stream",
     "text": [
      "Training Epochs:  51%|█████     | 1022/2000 [00:32<00:20, 48.44it/s]"
     ]
    },
    {
     "name": "stdout",
     "output_type": "stream",
     "text": [
      "Epoch 1010/2000, Loss: 0.0001\n",
      "Test Accuracy at Epoch 1010: 80.55%\n",
      "Classification Report at Epoch 1010:\n",
      "                  precision    recall  f1-score   support\n",
      "\n",
      "    infringement       0.89      0.69      0.78       283\n",
      "non_infringement       0.76      0.92      0.83       298\n",
      "\n",
      "        accuracy                           0.81       581\n",
      "       macro avg       0.82      0.80      0.80       581\n",
      "    weighted avg       0.82      0.81      0.80       581\n",
      "\n",
      "Epoch 1020/2000, Loss: 0.0001\n",
      "Test Accuracy at Epoch 1020: 80.55%\n",
      "Classification Report at Epoch 1020:\n",
      "                  precision    recall  f1-score   support\n",
      "\n",
      "    infringement       0.89      0.69      0.78       283\n",
      "non_infringement       0.76      0.92      0.83       298\n",
      "\n",
      "        accuracy                           0.81       581\n",
      "       macro avg       0.82      0.80      0.80       581\n",
      "    weighted avg       0.82      0.81      0.80       581\n",
      "\n"
     ]
    },
    {
     "name": "stderr",
     "output_type": "stream",
     "text": [
      "Training Epochs:  52%|█████▏    | 1036/2000 [00:33<00:19, 48.89it/s]"
     ]
    },
    {
     "name": "stdout",
     "output_type": "stream",
     "text": [
      "Epoch 1030/2000, Loss: 0.0001\n",
      "Test Accuracy at Epoch 1030: 80.55%\n",
      "Classification Report at Epoch 1030:\n",
      "                  precision    recall  f1-score   support\n",
      "\n",
      "    infringement       0.89      0.69      0.78       283\n",
      "non_infringement       0.76      0.92      0.83       298\n",
      "\n",
      "        accuracy                           0.81       581\n",
      "       macro avg       0.82      0.80      0.80       581\n",
      "    weighted avg       0.82      0.81      0.80       581\n",
      "\n",
      "Epoch 1040/2000, Loss: 0.0001\n",
      "Test Accuracy at Epoch 1040: 80.55%\n"
     ]
    },
    {
     "name": "stderr",
     "output_type": "stream",
     "text": [
      "Training Epochs:  52%|█████▏    | 1049/2000 [00:33<00:17, 55.46it/s]"
     ]
    },
    {
     "name": "stdout",
     "output_type": "stream",
     "text": [
      "Classification Report at Epoch 1040:\n",
      "                  precision    recall  f1-score   support\n",
      "\n",
      "    infringement       0.89      0.69      0.78       283\n",
      "non_infringement       0.76      0.92      0.83       298\n",
      "\n",
      "        accuracy                           0.81       581\n",
      "       macro avg       0.82      0.80      0.80       581\n",
      "    weighted avg       0.82      0.81      0.80       581\n",
      "\n"
     ]
    },
    {
     "name": "stderr",
     "output_type": "stream",
     "text": [
      "Training Epochs:  53%|█████▎    | 1055/2000 [00:33<00:19, 47.49it/s]"
     ]
    },
    {
     "name": "stdout",
     "output_type": "stream",
     "text": [
      "Epoch 1050/2000, Loss: 0.0001\n",
      "Test Accuracy at Epoch 1050: 80.55%\n",
      "Classification Report at Epoch 1050:\n",
      "                  precision    recall  f1-score   support\n",
      "\n",
      "    infringement       0.89      0.69      0.78       283\n",
      "non_infringement       0.76      0.92      0.83       298\n",
      "\n",
      "        accuracy                           0.81       581\n",
      "       macro avg       0.82      0.80      0.80       581\n",
      "    weighted avg       0.82      0.81      0.80       581\n",
      "\n"
     ]
    },
    {
     "name": "stderr",
     "output_type": "stream",
     "text": [
      "Training Epochs:  53%|█████▎    | 1061/2000 [00:33<00:19, 47.14it/s]"
     ]
    },
    {
     "name": "stdout",
     "output_type": "stream",
     "text": [
      "Epoch 1060/2000, Loss: 0.0001\n",
      "Test Accuracy at Epoch 1060: 80.55%\n",
      "Classification Report at Epoch 1060:\n",
      "                  precision    recall  f1-score   support\n",
      "\n",
      "    infringement       0.89      0.69      0.78       283\n",
      "non_infringement       0.76      0.92      0.83       298\n",
      "\n",
      "        accuracy                           0.81       581\n",
      "       macro avg       0.82      0.80      0.80       581\n",
      "    weighted avg       0.82      0.81      0.80       581\n",
      "\n"
     ]
    },
    {
     "name": "stderr",
     "output_type": "stream",
     "text": [
      "Training Epochs:  54%|█████▎    | 1074/2000 [00:34<00:23, 39.49it/s]"
     ]
    },
    {
     "name": "stdout",
     "output_type": "stream",
     "text": [
      "Epoch 1070/2000, Loss: 0.0001\n",
      "Test Accuracy at Epoch 1070: 80.55%\n",
      "Classification Report at Epoch 1070:\n",
      "                  precision    recall  f1-score   support\n",
      "\n",
      "    infringement       0.89      0.69      0.78       283\n",
      "non_infringement       0.76      0.92      0.83       298\n",
      "\n",
      "        accuracy                           0.81       581\n",
      "       macro avg       0.82      0.80      0.80       581\n",
      "    weighted avg       0.82      0.81      0.80       581\n",
      "\n",
      "Epoch 1080/2000, Loss: 0.0001\n"
     ]
    },
    {
     "name": "stderr",
     "output_type": "stream",
     "text": [
      "Training Epochs:  54%|█████▍    | 1086/2000 [00:34<00:20, 43.70it/s]"
     ]
    },
    {
     "name": "stdout",
     "output_type": "stream",
     "text": [
      "Test Accuracy at Epoch 1080: 80.55%\n",
      "Classification Report at Epoch 1080:\n",
      "                  precision    recall  f1-score   support\n",
      "\n",
      "    infringement       0.89      0.69      0.78       283\n",
      "non_infringement       0.76      0.92      0.83       298\n",
      "\n",
      "        accuracy                           0.81       581\n",
      "       macro avg       0.82      0.80      0.80       581\n",
      "    weighted avg       0.82      0.81      0.80       581\n",
      "\n",
      "Epoch 1090/2000, Loss: 0.0001\n",
      "Test Accuracy at Epoch 1090: 80.55%\n",
      "Classification Report at Epoch 1090:\n",
      "                  precision    recall  f1-score   support\n",
      "\n",
      "    infringement       0.89      0.69      0.78       283\n",
      "non_infringement       0.76      0.92      0.83       298\n",
      "\n",
      "        accuracy                           0.81       581\n",
      "       macro avg       0.82      0.80      0.80       581\n",
      "    weighted avg       0.82      0.81      0.80       581\n",
      "\n"
     ]
    },
    {
     "name": "stderr",
     "output_type": "stream",
     "text": [
      "Training Epochs:  55%|█████▌    | 1108/2000 [00:34<00:20, 43.96it/s]"
     ]
    },
    {
     "name": "stdout",
     "output_type": "stream",
     "text": [
      "Epoch 1100/2000, Loss: 0.0001\n",
      "Test Accuracy at Epoch 1100: 80.55%\n",
      "Classification Report at Epoch 1100:\n",
      "                  precision    recall  f1-score   support\n",
      "\n",
      "    infringement       0.89      0.69      0.78       283\n",
      "non_infringement       0.76      0.92      0.83       298\n",
      "\n",
      "        accuracy                           0.81       581\n",
      "       macro avg       0.82      0.80      0.80       581\n",
      "    weighted avg       0.82      0.81      0.80       581\n",
      "\n"
     ]
    },
    {
     "name": "stderr",
     "output_type": "stream",
     "text": [
      "Training Epochs:  56%|█████▌    | 1113/2000 [00:34<00:20, 43.35it/s]"
     ]
    },
    {
     "name": "stdout",
     "output_type": "stream",
     "text": [
      "Epoch 1110/2000, Loss: 0.0001\n",
      "Test Accuracy at Epoch 1110: 80.55%\n",
      "Classification Report at Epoch 1110:\n",
      "                  precision    recall  f1-score   support\n",
      "\n",
      "    infringement       0.89      0.69      0.78       283\n",
      "non_infringement       0.76      0.92      0.83       298\n",
      "\n",
      "        accuracy                           0.81       581\n",
      "       macro avg       0.82      0.80      0.80       581\n",
      "    weighted avg       0.82      0.81      0.80       581\n",
      "\n"
     ]
    },
    {
     "name": "stderr",
     "output_type": "stream",
     "text": [
      "Training Epochs:  56%|█████▋    | 1129/2000 [00:35<00:19, 45.61it/s]"
     ]
    },
    {
     "name": "stdout",
     "output_type": "stream",
     "text": [
      "Epoch 1120/2000, Loss: 0.0001\n",
      "Test Accuracy at Epoch 1120: 80.55%\n",
      "Classification Report at Epoch 1120:\n",
      "                  precision    recall  f1-score   support\n",
      "\n",
      "    infringement       0.89      0.69      0.78       283\n",
      "non_infringement       0.76      0.92      0.83       298\n",
      "\n",
      "        accuracy                           0.81       581\n",
      "       macro avg       0.82      0.80      0.80       581\n",
      "    weighted avg       0.82      0.81      0.80       581\n",
      "\n",
      "Epoch 1130/2000, Loss: 0.0001\n",
      "Test Accuracy at Epoch 1130: 80.55%\n",
      "Classification Report at Epoch 1130:\n",
      "                  precision    recall  f1-score   support\n",
      "\n",
      "    infringement       0.89      0.69      0.78       283\n",
      "non_infringement       0.76      0.92      0.83       298\n",
      "\n",
      "        accuracy                           0.81       581\n",
      "       macro avg       0.82      0.80      0.80       581\n",
      "    weighted avg       0.82      0.81      0.80       581\n",
      "\n"
     ]
    },
    {
     "name": "stderr",
     "output_type": "stream",
     "text": [
      "Training Epochs:  57%|█████▋    | 1146/2000 [00:35<00:19, 42.81it/s]"
     ]
    },
    {
     "name": "stdout",
     "output_type": "stream",
     "text": [
      "Epoch 1140/2000, Loss: 0.0001\n",
      "Test Accuracy at Epoch 1140: 80.55%\n",
      "Classification Report at Epoch 1140:\n",
      "                  precision    recall  f1-score   support\n",
      "\n",
      "    infringement       0.89      0.69      0.78       283\n",
      "non_infringement       0.76      0.92      0.83       298\n",
      "\n",
      "        accuracy                           0.81       581\n",
      "       macro avg       0.82      0.80      0.80       581\n",
      "    weighted avg       0.82      0.81      0.80       581\n",
      "\n"
     ]
    },
    {
     "name": "stderr",
     "output_type": "stream",
     "text": [
      "Training Epochs:  58%|█████▊    | 1156/2000 [00:35<00:21, 39.08it/s]"
     ]
    },
    {
     "name": "stdout",
     "output_type": "stream",
     "text": [
      "Epoch 1150/2000, Loss: 0.0001\n",
      "Test Accuracy at Epoch 1150: 80.55%\n",
      "Classification Report at Epoch 1150:\n",
      "                  precision    recall  f1-score   support\n",
      "\n",
      "    infringement       0.89      0.69      0.78       283\n",
      "non_infringement       0.76      0.92      0.83       298\n",
      "\n",
      "        accuracy                           0.81       581\n",
      "       macro avg       0.82      0.80      0.80       581\n",
      "    weighted avg       0.82      0.81      0.80       581\n",
      "\n"
     ]
    },
    {
     "name": "stderr",
     "output_type": "stream",
     "text": [
      "Training Epochs:  58%|█████▊    | 1166/2000 [00:36<00:21, 38.81it/s]"
     ]
    },
    {
     "name": "stdout",
     "output_type": "stream",
     "text": [
      "Epoch 1160/2000, Loss: 0.0001\n",
      "Test Accuracy at Epoch 1160: 80.55%\n",
      "Classification Report at Epoch 1160:\n",
      "                  precision    recall  f1-score   support\n",
      "\n",
      "    infringement       0.89      0.69      0.78       283\n",
      "non_infringement       0.76      0.92      0.83       298\n",
      "\n",
      "        accuracy                           0.81       581\n",
      "       macro avg       0.82      0.80      0.80       581\n",
      "    weighted avg       0.82      0.81      0.80       581\n",
      "\n"
     ]
    },
    {
     "name": "stderr",
     "output_type": "stream",
     "text": [
      "Training Epochs:  59%|█████▉    | 1176/2000 [00:36<00:19, 41.45it/s]"
     ]
    },
    {
     "name": "stdout",
     "output_type": "stream",
     "text": [
      "Epoch 1170/2000, Loss: 0.0001\n",
      "Test Accuracy at Epoch 1170: 80.55%\n",
      "Classification Report at Epoch 1170:\n",
      "                  precision    recall  f1-score   support\n",
      "\n",
      "    infringement       0.89      0.69      0.78       283\n",
      "non_infringement       0.76      0.92      0.83       298\n",
      "\n",
      "        accuracy                           0.81       581\n",
      "       macro avg       0.82      0.80      0.80       581\n",
      "    weighted avg       0.82      0.81      0.80       581\n",
      "\n"
     ]
    },
    {
     "name": "stderr",
     "output_type": "stream",
     "text": [
      "Training Epochs:  59%|█████▉    | 1181/2000 [00:36<00:22, 36.60it/s]"
     ]
    },
    {
     "name": "stdout",
     "output_type": "stream",
     "text": [
      "Epoch 1180/2000, Loss: 0.0001\n",
      "Test Accuracy at Epoch 1180: 80.55%\n",
      "Classification Report at Epoch 1180:\n",
      "                  precision    recall  f1-score   support\n",
      "\n",
      "    infringement       0.89      0.69      0.78       283\n",
      "non_infringement       0.76      0.92      0.83       298\n",
      "\n",
      "        accuracy                           0.81       581\n",
      "       macro avg       0.82      0.80      0.80       581\n",
      "    weighted avg       0.82      0.81      0.80       581\n",
      "\n"
     ]
    },
    {
     "name": "stderr",
     "output_type": "stream",
     "text": [
      "Training Epochs:  60%|█████▉    | 1195/2000 [00:37<00:24, 32.31it/s]"
     ]
    },
    {
     "name": "stdout",
     "output_type": "stream",
     "text": [
      "Epoch 1190/2000, Loss: 0.0001\n",
      "Test Accuracy at Epoch 1190: 80.38%\n",
      "Classification Report at Epoch 1190:\n",
      "                  precision    recall  f1-score   support\n",
      "\n",
      "    infringement       0.88      0.69      0.77       283\n",
      "non_infringement       0.76      0.91      0.83       298\n",
      "\n",
      "        accuracy                           0.80       581\n",
      "       macro avg       0.82      0.80      0.80       581\n",
      "    weighted avg       0.82      0.80      0.80       581\n",
      "\n",
      "Epoch 1200/2000, Loss: 0.0001\n",
      "Test Accuracy at Epoch 1200: 80.38%\n"
     ]
    },
    {
     "name": "stderr",
     "output_type": "stream",
     "text": [
      "Training Epochs:  60%|██████    | 1204/2000 [00:37<00:22, 36.03it/s]"
     ]
    },
    {
     "name": "stdout",
     "output_type": "stream",
     "text": [
      "Classification Report at Epoch 1200:\n",
      "                  precision    recall  f1-score   support\n",
      "\n",
      "    infringement       0.88      0.69      0.77       283\n",
      "non_infringement       0.76      0.91      0.83       298\n",
      "\n",
      "        accuracy                           0.80       581\n",
      "       macro avg       0.82      0.80      0.80       581\n",
      "    weighted avg       0.82      0.80      0.80       581\n",
      "\n",
      "Epoch 1210/2000, Loss: 0.0001\n"
     ]
    },
    {
     "name": "stderr",
     "output_type": "stream",
     "text": [
      "Training Epochs:  61%|██████    | 1218/2000 [00:37<00:15, 51.42it/s]"
     ]
    },
    {
     "name": "stdout",
     "output_type": "stream",
     "text": [
      "Test Accuracy at Epoch 1210: 80.38%\n",
      "Classification Report at Epoch 1210:\n",
      "                  precision    recall  f1-score   support\n",
      "\n",
      "    infringement       0.88      0.69      0.77       283\n",
      "non_infringement       0.76      0.91      0.83       298\n",
      "\n",
      "        accuracy                           0.80       581\n",
      "       macro avg       0.82      0.80      0.80       581\n",
      "    weighted avg       0.82      0.80      0.80       581\n",
      "\n",
      "Epoch 1220/2000, Loss: 0.0001\n",
      "Test Accuracy at Epoch 1220: 80.38%\n",
      "Classification Report at Epoch 1220:\n",
      "                  precision    recall  f1-score   support\n",
      "\n",
      "    infringement       0.88      0.69      0.77       283\n",
      "non_infringement       0.76      0.91      0.83       298\n",
      "\n",
      "        accuracy                           0.80       581\n",
      "       macro avg       0.82      0.80      0.80       581\n",
      "    weighted avg       0.82      0.80      0.80       581\n",
      "\n"
     ]
    },
    {
     "name": "stderr",
     "output_type": "stream",
     "text": [
      "Training Epochs:  62%|██████▏   | 1238/2000 [00:37<00:14, 52.80it/s]"
     ]
    },
    {
     "name": "stdout",
     "output_type": "stream",
     "text": [
      "Epoch 1230/2000, Loss: 0.0001\n",
      "Test Accuracy at Epoch 1230: 80.38%\n",
      "Classification Report at Epoch 1230:\n",
      "                  precision    recall  f1-score   support\n",
      "\n",
      "    infringement       0.88      0.69      0.77       283\n",
      "non_infringement       0.76      0.91      0.83       298\n",
      "\n",
      "        accuracy                           0.80       581\n",
      "       macro avg       0.82      0.80      0.80       581\n",
      "    weighted avg       0.82      0.80      0.80       581\n",
      "\n",
      "Epoch 1240/2000, Loss: 0.0000\n",
      "Test Accuracy at Epoch 1240: 80.38%\n",
      "Classification Report at Epoch 1240:\n",
      "                  precision    recall  f1-score   support\n",
      "\n",
      "    infringement       0.88      0.69      0.77       283\n",
      "non_infringement       0.76      0.91      0.83       298\n",
      "\n",
      "        accuracy                           0.80       581\n",
      "       macro avg       0.82      0.80      0.80       581\n",
      "    weighted avg       0.82      0.80      0.80       581\n",
      "\n"
     ]
    },
    {
     "name": "stderr",
     "output_type": "stream",
     "text": [
      "Training Epochs:  63%|██████▎   | 1257/2000 [00:38<00:18, 40.67it/s]"
     ]
    },
    {
     "name": "stdout",
     "output_type": "stream",
     "text": [
      "Epoch 1250/2000, Loss: 0.0000\n",
      "Test Accuracy at Epoch 1250: 80.38%\n",
      "Classification Report at Epoch 1250:\n",
      "                  precision    recall  f1-score   support\n",
      "\n",
      "    infringement       0.88      0.69      0.77       283\n",
      "non_infringement       0.76      0.91      0.83       298\n",
      "\n",
      "        accuracy                           0.80       581\n",
      "       macro avg       0.82      0.80      0.80       581\n",
      "    weighted avg       0.82      0.80      0.80       581\n",
      "\n"
     ]
    },
    {
     "name": "stderr",
     "output_type": "stream",
     "text": [
      "Training Epochs:  63%|██████▎   | 1267/2000 [00:38<00:18, 40.03it/s]"
     ]
    },
    {
     "name": "stdout",
     "output_type": "stream",
     "text": [
      "Epoch 1260/2000, Loss: 0.0000\n",
      "Test Accuracy at Epoch 1260: 80.21%\n",
      "Classification Report at Epoch 1260:\n",
      "                  precision    recall  f1-score   support\n",
      "\n",
      "    infringement       0.88      0.69      0.77       283\n",
      "non_infringement       0.75      0.91      0.82       298\n",
      "\n",
      "        accuracy                           0.80       581\n",
      "       macro avg       0.82      0.80      0.80       581\n",
      "    weighted avg       0.82      0.80      0.80       581\n",
      "\n"
     ]
    },
    {
     "name": "stderr",
     "output_type": "stream",
     "text": [
      "Training Epochs:  64%|██████▎   | 1272/2000 [00:38<00:17, 41.38it/s]"
     ]
    },
    {
     "name": "stdout",
     "output_type": "stream",
     "text": [
      "Epoch 1270/2000, Loss: 0.0000\n",
      "Test Accuracy at Epoch 1270: 80.21%\n",
      "Classification Report at Epoch 1270:\n",
      "                  precision    recall  f1-score   support\n",
      "\n",
      "    infringement       0.88      0.69      0.77       283\n",
      "non_infringement       0.75      0.91      0.82       298\n",
      "\n",
      "        accuracy                           0.80       581\n",
      "       macro avg       0.82      0.80      0.80       581\n",
      "    weighted avg       0.82      0.80      0.80       581\n",
      "\n"
     ]
    },
    {
     "name": "stderr",
     "output_type": "stream",
     "text": [
      "Training Epochs:  64%|██████▍   | 1288/2000 [00:39<00:16, 43.67it/s]"
     ]
    },
    {
     "name": "stdout",
     "output_type": "stream",
     "text": [
      "Epoch 1280/2000, Loss: 0.0000\n",
      "Test Accuracy at Epoch 1280: 80.21%\n",
      "Classification Report at Epoch 1280:\n",
      "                  precision    recall  f1-score   support\n",
      "\n",
      "    infringement       0.88      0.69      0.77       283\n",
      "non_infringement       0.75      0.91      0.82       298\n",
      "\n",
      "        accuracy                           0.80       581\n",
      "       macro avg       0.82      0.80      0.80       581\n",
      "    weighted avg       0.82      0.80      0.80       581\n",
      "\n"
     ]
    },
    {
     "name": "stderr",
     "output_type": "stream",
     "text": [
      "Training Epochs:  65%|██████▍   | 1293/2000 [00:39<00:18, 38.11it/s]"
     ]
    },
    {
     "name": "stdout",
     "output_type": "stream",
     "text": [
      "Epoch 1290/2000, Loss: 0.0000\n",
      "Test Accuracy at Epoch 1290: 80.21%\n",
      "Classification Report at Epoch 1290:\n",
      "                  precision    recall  f1-score   support\n",
      "\n",
      "    infringement       0.88      0.69      0.77       283\n",
      "non_infringement       0.75      0.91      0.82       298\n",
      "\n",
      "        accuracy                           0.80       581\n",
      "       macro avg       0.82      0.80      0.80       581\n",
      "    weighted avg       0.82      0.80      0.80       581\n",
      "\n"
     ]
    },
    {
     "name": "stderr",
     "output_type": "stream",
     "text": [
      "Training Epochs:  65%|██████▌   | 1307/2000 [00:39<00:14, 48.24it/s]"
     ]
    },
    {
     "name": "stdout",
     "output_type": "stream",
     "text": [
      "Epoch 1300/2000, Loss: 0.0000\n",
      "Test Accuracy at Epoch 1300: 80.21%\n",
      "Classification Report at Epoch 1300:\n",
      "                  precision    recall  f1-score   support\n",
      "\n",
      "    infringement       0.88      0.69      0.77       283\n",
      "non_infringement       0.75      0.91      0.82       298\n",
      "\n",
      "        accuracy                           0.80       581\n",
      "       macro avg       0.82      0.80      0.80       581\n",
      "    weighted avg       0.82      0.80      0.80       581\n",
      "\n"
     ]
    },
    {
     "name": "stderr",
     "output_type": "stream",
     "text": [
      "Training Epochs:  66%|██████▌   | 1313/2000 [00:39<00:20, 33.84it/s]"
     ]
    },
    {
     "name": "stdout",
     "output_type": "stream",
     "text": [
      "Epoch 1310/2000, Loss: 0.0000\n",
      "Test Accuracy at Epoch 1310: 80.21%\n",
      "Classification Report at Epoch 1310:\n",
      "                  precision    recall  f1-score   support\n",
      "\n",
      "    infringement       0.88      0.69      0.77       283\n",
      "non_infringement       0.75      0.91      0.82       298\n",
      "\n",
      "        accuracy                           0.80       581\n",
      "       macro avg       0.82      0.80      0.80       581\n",
      "    weighted avg       0.82      0.80      0.80       581\n",
      "\n"
     ]
    },
    {
     "name": "stderr",
     "output_type": "stream",
     "text": [
      "Training Epochs:  66%|██████▋   | 1327/2000 [00:40<00:19, 34.42it/s]"
     ]
    },
    {
     "name": "stdout",
     "output_type": "stream",
     "text": [
      "Epoch 1320/2000, Loss: 0.0000\n",
      "Test Accuracy at Epoch 1320: 80.21%\n",
      "Classification Report at Epoch 1320:\n",
      "                  precision    recall  f1-score   support\n",
      "\n",
      "    infringement       0.88      0.69      0.77       283\n",
      "non_infringement       0.75      0.91      0.82       298\n",
      "\n",
      "        accuracy                           0.80       581\n",
      "       macro avg       0.82      0.80      0.80       581\n",
      "    weighted avg       0.82      0.80      0.80       581\n",
      "\n"
     ]
    },
    {
     "name": "stderr",
     "output_type": "stream",
     "text": [
      "Training Epochs:  67%|██████▋   | 1331/2000 [00:40<00:19, 35.05it/s]"
     ]
    },
    {
     "name": "stdout",
     "output_type": "stream",
     "text": [
      "Epoch 1330/2000, Loss: 0.0000\n",
      "Test Accuracy at Epoch 1330: 80.21%\n",
      "Classification Report at Epoch 1330:\n",
      "                  precision    recall  f1-score   support\n",
      "\n",
      "    infringement       0.88      0.69      0.77       283\n",
      "non_infringement       0.75      0.91      0.82       298\n",
      "\n",
      "        accuracy                           0.80       581\n",
      "       macro avg       0.82      0.80      0.80       581\n",
      "    weighted avg       0.82      0.80      0.80       581\n",
      "\n"
     ]
    },
    {
     "name": "stderr",
     "output_type": "stream",
     "text": [
      "Training Epochs:  67%|██████▋   | 1343/2000 [00:40<00:19, 33.02it/s]"
     ]
    },
    {
     "name": "stdout",
     "output_type": "stream",
     "text": [
      "Epoch 1340/2000, Loss: 0.0000\n",
      "Test Accuracy at Epoch 1340: 80.21%\n",
      "Classification Report at Epoch 1340:\n",
      "                  precision    recall  f1-score   support\n",
      "\n",
      "    infringement       0.88      0.69      0.77       283\n",
      "non_infringement       0.75      0.91      0.82       298\n",
      "\n",
      "        accuracy                           0.80       581\n",
      "       macro avg       0.82      0.80      0.80       581\n",
      "    weighted avg       0.82      0.80      0.80       581\n",
      "\n"
     ]
    },
    {
     "name": "stderr",
     "output_type": "stream",
     "text": [
      "Training Epochs:  68%|██████▊   | 1351/2000 [00:41<00:19, 32.48it/s]"
     ]
    },
    {
     "name": "stdout",
     "output_type": "stream",
     "text": [
      "Epoch 1350/2000, Loss: 0.0000\n",
      "Test Accuracy at Epoch 1350: 80.21%\n",
      "Classification Report at Epoch 1350:\n",
      "                  precision    recall  f1-score   support\n",
      "\n",
      "    infringement       0.88      0.69      0.77       283\n",
      "non_infringement       0.75      0.91      0.82       298\n",
      "\n",
      "        accuracy                           0.80       581\n",
      "       macro avg       0.82      0.80      0.80       581\n",
      "    weighted avg       0.82      0.80      0.80       581\n",
      "\n"
     ]
    },
    {
     "name": "stderr",
     "output_type": "stream",
     "text": [
      "Training Epochs:  68%|██████▊   | 1365/2000 [00:41<00:19, 32.83it/s]"
     ]
    },
    {
     "name": "stdout",
     "output_type": "stream",
     "text": [
      "Epoch 1360/2000, Loss: 0.0000\n",
      "Test Accuracy at Epoch 1360: 80.21%\n",
      "Classification Report at Epoch 1360:\n",
      "                  precision    recall  f1-score   support\n",
      "\n",
      "    infringement       0.88      0.69      0.77       283\n",
      "non_infringement       0.75      0.91      0.82       298\n",
      "\n",
      "        accuracy                           0.80       581\n",
      "       macro avg       0.82      0.80      0.80       581\n",
      "    weighted avg       0.82      0.80      0.80       581\n",
      "\n"
     ]
    },
    {
     "name": "stderr",
     "output_type": "stream",
     "text": [
      "Training Epochs:  69%|██████▊   | 1374/2000 [00:41<00:18, 33.37it/s]"
     ]
    },
    {
     "name": "stdout",
     "output_type": "stream",
     "text": [
      "Epoch 1370/2000, Loss: 0.0000\n",
      "Test Accuracy at Epoch 1370: 80.21%\n",
      "Classification Report at Epoch 1370:\n",
      "                  precision    recall  f1-score   support\n",
      "\n",
      "    infringement       0.88      0.69      0.77       283\n",
      "non_infringement       0.75      0.91      0.82       298\n",
      "\n",
      "        accuracy                           0.80       581\n",
      "       macro avg       0.82      0.80      0.80       581\n",
      "    weighted avg       0.82      0.80      0.80       581\n",
      "\n"
     ]
    },
    {
     "name": "stderr",
     "output_type": "stream",
     "text": [
      "Training Epochs:  69%|██████▉   | 1383/2000 [00:42<00:19, 31.24it/s]"
     ]
    },
    {
     "name": "stdout",
     "output_type": "stream",
     "text": [
      "Epoch 1380/2000, Loss: 0.0000\n",
      "Test Accuracy at Epoch 1380: 80.21%\n",
      "Classification Report at Epoch 1380:\n",
      "                  precision    recall  f1-score   support\n",
      "\n",
      "    infringement       0.88      0.69      0.77       283\n",
      "non_infringement       0.75      0.91      0.82       298\n",
      "\n",
      "        accuracy                           0.80       581\n",
      "       macro avg       0.82      0.80      0.80       581\n",
      "    weighted avg       0.82      0.80      0.80       581\n",
      "\n"
     ]
    },
    {
     "name": "stderr",
     "output_type": "stream",
     "text": [
      "Training Epochs:  70%|██████▉   | 1395/2000 [00:42<00:19, 30.69it/s]"
     ]
    },
    {
     "name": "stdout",
     "output_type": "stream",
     "text": [
      "Epoch 1390/2000, Loss: 0.0000\n",
      "Test Accuracy at Epoch 1390: 80.03%\n",
      "Classification Report at Epoch 1390:\n",
      "                  precision    recall  f1-score   support\n",
      "\n",
      "    infringement       0.87      0.69      0.77       283\n",
      "non_infringement       0.75      0.91      0.82       298\n",
      "\n",
      "        accuracy                           0.80       581\n",
      "       macro avg       0.81      0.80      0.80       581\n",
      "    weighted avg       0.81      0.80      0.80       581\n",
      "\n"
     ]
    },
    {
     "name": "stderr",
     "output_type": "stream",
     "text": [
      "Training Epochs:  70%|███████   | 1404/2000 [00:42<00:20, 29.70it/s]"
     ]
    },
    {
     "name": "stdout",
     "output_type": "stream",
     "text": [
      "Epoch 1400/2000, Loss: 0.0000\n",
      "Test Accuracy at Epoch 1400: 79.86%\n",
      "Classification Report at Epoch 1400:\n",
      "                  precision    recall  f1-score   support\n",
      "\n",
      "    infringement       0.87      0.69      0.77       283\n",
      "non_infringement       0.75      0.90      0.82       298\n",
      "\n",
      "        accuracy                           0.80       581\n",
      "       macro avg       0.81      0.80      0.80       581\n",
      "    weighted avg       0.81      0.80      0.80       581\n",
      "\n"
     ]
    },
    {
     "name": "stderr",
     "output_type": "stream",
     "text": [
      "Training Epochs:  71%|███████   | 1417/2000 [00:43<00:16, 35.35it/s]"
     ]
    },
    {
     "name": "stdout",
     "output_type": "stream",
     "text": [
      "Epoch 1410/2000, Loss: 0.0000\n",
      "Test Accuracy at Epoch 1410: 79.86%\n",
      "Classification Report at Epoch 1410:\n",
      "                  precision    recall  f1-score   support\n",
      "\n",
      "    infringement       0.87      0.69      0.77       283\n",
      "non_infringement       0.75      0.90      0.82       298\n",
      "\n",
      "        accuracy                           0.80       581\n",
      "       macro avg       0.81      0.80      0.80       581\n",
      "    weighted avg       0.81      0.80      0.80       581\n",
      "\n"
     ]
    },
    {
     "name": "stderr",
     "output_type": "stream",
     "text": [
      "Training Epochs:  71%|███████▏  | 1426/2000 [00:43<00:17, 32.49it/s]"
     ]
    },
    {
     "name": "stdout",
     "output_type": "stream",
     "text": [
      "Epoch 1420/2000, Loss: 0.0000\n",
      "Test Accuracy at Epoch 1420: 79.86%\n",
      "Classification Report at Epoch 1420:\n",
      "                  precision    recall  f1-score   support\n",
      "\n",
      "    infringement       0.87      0.69      0.77       283\n",
      "non_infringement       0.75      0.90      0.82       298\n",
      "\n",
      "        accuracy                           0.80       581\n",
      "       macro avg       0.81      0.80      0.80       581\n",
      "    weighted avg       0.81      0.80      0.80       581\n",
      "\n"
     ]
    },
    {
     "name": "stderr",
     "output_type": "stream",
     "text": [
      "Training Epochs:  72%|███████▏  | 1434/2000 [00:43<00:17, 33.07it/s]"
     ]
    },
    {
     "name": "stdout",
     "output_type": "stream",
     "text": [
      "Epoch 1430/2000, Loss: 0.0000\n",
      "Test Accuracy at Epoch 1430: 79.86%\n",
      "Classification Report at Epoch 1430:\n",
      "                  precision    recall  f1-score   support\n",
      "\n",
      "    infringement       0.87      0.69      0.77       283\n",
      "non_infringement       0.75      0.90      0.82       298\n",
      "\n",
      "        accuracy                           0.80       581\n",
      "       macro avg       0.81      0.80      0.80       581\n",
      "    weighted avg       0.81      0.80      0.80       581\n",
      "\n"
     ]
    },
    {
     "name": "stderr",
     "output_type": "stream",
     "text": [
      "Training Epochs:  72%|███████▏  | 1445/2000 [00:44<00:13, 41.79it/s]"
     ]
    },
    {
     "name": "stdout",
     "output_type": "stream",
     "text": [
      "Epoch 1440/2000, Loss: 0.0000\n",
      "Test Accuracy at Epoch 1440: 79.86%\n",
      "Classification Report at Epoch 1440:\n",
      "                  precision    recall  f1-score   support\n",
      "\n",
      "    infringement       0.87      0.69      0.77       283\n",
      "non_infringement       0.75      0.90      0.82       298\n",
      "\n",
      "        accuracy                           0.80       581\n",
      "       macro avg       0.81      0.80      0.80       581\n",
      "    weighted avg       0.81      0.80      0.80       581\n",
      "\n"
     ]
    },
    {
     "name": "stderr",
     "output_type": "stream",
     "text": [
      "Training Epochs:  73%|███████▎  | 1454/2000 [00:44<00:16, 32.58it/s]"
     ]
    },
    {
     "name": "stdout",
     "output_type": "stream",
     "text": [
      "Epoch 1450/2000, Loss: 0.0000\n",
      "Test Accuracy at Epoch 1450: 79.86%\n",
      "Classification Report at Epoch 1450:\n",
      "                  precision    recall  f1-score   support\n",
      "\n",
      "    infringement       0.87      0.69      0.77       283\n",
      "non_infringement       0.75      0.90      0.82       298\n",
      "\n",
      "        accuracy                           0.80       581\n",
      "       macro avg       0.81      0.80      0.80       581\n",
      "    weighted avg       0.81      0.80      0.80       581\n",
      "\n"
     ]
    },
    {
     "name": "stderr",
     "output_type": "stream",
     "text": [
      "Training Epochs:  73%|███████▎  | 1467/2000 [00:44<00:15, 35.40it/s]"
     ]
    },
    {
     "name": "stdout",
     "output_type": "stream",
     "text": [
      "Epoch 1460/2000, Loss: 0.0000\n",
      "Test Accuracy at Epoch 1460: 79.86%\n",
      "Classification Report at Epoch 1460:\n",
      "                  precision    recall  f1-score   support\n",
      "\n",
      "    infringement       0.87      0.69      0.77       283\n",
      "non_infringement       0.75      0.90      0.82       298\n",
      "\n",
      "        accuracy                           0.80       581\n",
      "       macro avg       0.81      0.80      0.80       581\n",
      "    weighted avg       0.81      0.80      0.80       581\n",
      "\n"
     ]
    },
    {
     "name": "stderr",
     "output_type": "stream",
     "text": [
      "Training Epochs:  74%|███████▍  | 1476/2000 [00:44<00:13, 38.23it/s]"
     ]
    },
    {
     "name": "stdout",
     "output_type": "stream",
     "text": [
      "Epoch 1470/2000, Loss: 0.0000\n",
      "Test Accuracy at Epoch 1470: 79.69%\n",
      "Classification Report at Epoch 1470:\n",
      "                  precision    recall  f1-score   support\n",
      "\n",
      "    infringement       0.87      0.69      0.77       283\n",
      "non_infringement       0.75      0.90      0.82       298\n",
      "\n",
      "        accuracy                           0.80       581\n",
      "       macro avg       0.81      0.79      0.79       581\n",
      "    weighted avg       0.81      0.80      0.79       581\n",
      "\n"
     ]
    },
    {
     "name": "stderr",
     "output_type": "stream",
     "text": [
      "Training Epochs:  74%|███████▍  | 1484/2000 [00:45<00:13, 37.12it/s]"
     ]
    },
    {
     "name": "stdout",
     "output_type": "stream",
     "text": [
      "Epoch 1480/2000, Loss: 0.0000\n",
      "Test Accuracy at Epoch 1480: 79.69%\n",
      "Classification Report at Epoch 1480:\n",
      "                  precision    recall  f1-score   support\n",
      "\n",
      "    infringement       0.87      0.69      0.77       283\n",
      "non_infringement       0.75      0.90      0.82       298\n",
      "\n",
      "        accuracy                           0.80       581\n",
      "       macro avg       0.81      0.79      0.79       581\n",
      "    weighted avg       0.81      0.80      0.79       581\n",
      "\n"
     ]
    },
    {
     "name": "stderr",
     "output_type": "stream",
     "text": [
      "Training Epochs:  75%|███████▍  | 1497/2000 [00:45<00:13, 36.24it/s]"
     ]
    },
    {
     "name": "stdout",
     "output_type": "stream",
     "text": [
      "Epoch 1490/2000, Loss: 0.0000\n",
      "Test Accuracy at Epoch 1490: 79.69%\n",
      "Classification Report at Epoch 1490:\n",
      "                  precision    recall  f1-score   support\n",
      "\n",
      "    infringement       0.87      0.69      0.77       283\n",
      "non_infringement       0.75      0.90      0.82       298\n",
      "\n",
      "        accuracy                           0.80       581\n",
      "       macro avg       0.81      0.79      0.79       581\n",
      "    weighted avg       0.81      0.80      0.79       581\n",
      "\n"
     ]
    },
    {
     "name": "stderr",
     "output_type": "stream",
     "text": [
      "Training Epochs:  75%|███████▌  | 1506/2000 [00:45<00:16, 30.16it/s]"
     ]
    },
    {
     "name": "stdout",
     "output_type": "stream",
     "text": [
      "Epoch 1500/2000, Loss: 0.0000\n",
      "Test Accuracy at Epoch 1500: 79.69%\n",
      "Classification Report at Epoch 1500:\n",
      "                  precision    recall  f1-score   support\n",
      "\n",
      "    infringement       0.87      0.69      0.77       283\n",
      "non_infringement       0.75      0.90      0.82       298\n",
      "\n",
      "        accuracy                           0.80       581\n",
      "       macro avg       0.81      0.79      0.79       581\n",
      "    weighted avg       0.81      0.80      0.79       581\n",
      "\n"
     ]
    },
    {
     "name": "stderr",
     "output_type": "stream",
     "text": [
      "Training Epochs:  76%|███████▌  | 1515/2000 [00:46<00:15, 32.24it/s]"
     ]
    },
    {
     "name": "stdout",
     "output_type": "stream",
     "text": [
      "Epoch 1510/2000, Loss: 0.0000\n",
      "Test Accuracy at Epoch 1510: 79.69%\n",
      "Classification Report at Epoch 1510:\n",
      "                  precision    recall  f1-score   support\n",
      "\n",
      "    infringement       0.87      0.69      0.77       283\n",
      "non_infringement       0.75      0.90      0.82       298\n",
      "\n",
      "        accuracy                           0.80       581\n",
      "       macro avg       0.81      0.79      0.79       581\n",
      "    weighted avg       0.81      0.80      0.79       581\n",
      "\n"
     ]
    },
    {
     "name": "stderr",
     "output_type": "stream",
     "text": [
      "Training Epochs:  76%|███████▋  | 1527/2000 [00:46<00:11, 42.61it/s]"
     ]
    },
    {
     "name": "stdout",
     "output_type": "stream",
     "text": [
      "Epoch 1520/2000, Loss: 0.0000\n",
      "Test Accuracy at Epoch 1520: 79.69%\n",
      "Classification Report at Epoch 1520:\n",
      "                  precision    recall  f1-score   support\n",
      "\n",
      "    infringement       0.87      0.69      0.77       283\n",
      "non_infringement       0.75      0.90      0.82       298\n",
      "\n",
      "        accuracy                           0.80       581\n",
      "       macro avg       0.81      0.79      0.79       581\n",
      "    weighted avg       0.81      0.80      0.79       581\n",
      "\n",
      "Epoch 1530/2000, Loss: 0.0000\n",
      "Test Accuracy at Epoch 1530: 79.69%\n",
      "Classification Report at Epoch 1530:\n",
      "                  precision    recall  f1-score   support\n",
      "\n",
      "    infringement       0.87      0.69      0.77       283\n",
      "non_infringement       0.75      0.90      0.82       298\n",
      "\n",
      "        accuracy                           0.80       581\n",
      "       macro avg       0.81      0.79      0.79       581\n",
      "    weighted avg       0.81      0.80      0.79       581\n",
      "\n"
     ]
    },
    {
     "name": "stderr",
     "output_type": "stream",
     "text": [
      "Training Epochs:  77%|███████▋  | 1544/2000 [00:46<00:11, 40.59it/s]"
     ]
    },
    {
     "name": "stdout",
     "output_type": "stream",
     "text": [
      "Epoch 1540/2000, Loss: 0.0000\n",
      "Test Accuracy at Epoch 1540: 79.69%\n",
      "Classification Report at Epoch 1540:\n",
      "                  precision    recall  f1-score   support\n",
      "\n",
      "    infringement       0.87      0.69      0.77       283\n",
      "non_infringement       0.75      0.90      0.82       298\n",
      "\n",
      "        accuracy                           0.80       581\n",
      "       macro avg       0.81      0.79      0.79       581\n",
      "    weighted avg       0.81      0.80      0.79       581\n",
      "\n"
     ]
    },
    {
     "name": "stderr",
     "output_type": "stream",
     "text": [
      "Training Epochs:  78%|███████▊  | 1554/2000 [00:47<00:13, 33.03it/s]"
     ]
    },
    {
     "name": "stdout",
     "output_type": "stream",
     "text": [
      "Epoch 1550/2000, Loss: 0.0000\n",
      "Test Accuracy at Epoch 1550: 79.69%\n",
      "Classification Report at Epoch 1550:\n",
      "                  precision    recall  f1-score   support\n",
      "\n",
      "    infringement       0.87      0.69      0.77       283\n",
      "non_infringement       0.75      0.90      0.82       298\n",
      "\n",
      "        accuracy                           0.80       581\n",
      "       macro avg       0.81      0.79      0.79       581\n",
      "    weighted avg       0.81      0.80      0.79       581\n",
      "\n"
     ]
    },
    {
     "name": "stderr",
     "output_type": "stream",
     "text": [
      "Training Epochs:  78%|███████▊  | 1567/2000 [00:47<00:13, 32.41it/s]"
     ]
    },
    {
     "name": "stdout",
     "output_type": "stream",
     "text": [
      "Epoch 1560/2000, Loss: 0.0000\n",
      "Test Accuracy at Epoch 1560: 79.69%\n",
      "Classification Report at Epoch 1560:\n",
      "                  precision    recall  f1-score   support\n",
      "\n",
      "    infringement       0.87      0.69      0.77       283\n",
      "non_infringement       0.75      0.90      0.82       298\n",
      "\n",
      "        accuracy                           0.80       581\n",
      "       macro avg       0.81      0.79      0.79       581\n",
      "    weighted avg       0.81      0.80      0.79       581\n",
      "\n"
     ]
    },
    {
     "name": "stderr",
     "output_type": "stream",
     "text": [
      "Training Epochs:  79%|███████▉  | 1576/2000 [00:47<00:12, 35.12it/s]"
     ]
    },
    {
     "name": "stdout",
     "output_type": "stream",
     "text": [
      "Epoch 1570/2000, Loss: 0.0000\n",
      "Test Accuracy at Epoch 1570: 79.69%\n",
      "Classification Report at Epoch 1570:\n",
      "                  precision    recall  f1-score   support\n",
      "\n",
      "    infringement       0.87      0.69      0.77       283\n",
      "non_infringement       0.75      0.90      0.82       298\n",
      "\n",
      "        accuracy                           0.80       581\n",
      "       macro avg       0.81      0.79      0.79       581\n",
      "    weighted avg       0.81      0.80      0.79       581\n",
      "\n"
     ]
    },
    {
     "name": "stderr",
     "output_type": "stream",
     "text": [
      "Training Epochs:  79%|███████▉  | 1585/2000 [00:48<00:10, 38.69it/s]"
     ]
    },
    {
     "name": "stdout",
     "output_type": "stream",
     "text": [
      "Epoch 1580/2000, Loss: 0.0000\n",
      "Test Accuracy at Epoch 1580: 79.52%\n",
      "Classification Report at Epoch 1580:\n",
      "                  precision    recall  f1-score   support\n",
      "\n",
      "    infringement       0.87      0.68      0.76       283\n",
      "non_infringement       0.75      0.90      0.82       298\n",
      "\n",
      "        accuracy                           0.80       581\n",
      "       macro avg       0.81      0.79      0.79       581\n",
      "    weighted avg       0.81      0.80      0.79       581\n",
      "\n"
     ]
    },
    {
     "name": "stderr",
     "output_type": "stream",
     "text": [
      "Training Epochs:  80%|███████▉  | 1596/2000 [00:48<00:10, 39.25it/s]"
     ]
    },
    {
     "name": "stdout",
     "output_type": "stream",
     "text": [
      "Epoch 1590/2000, Loss: 0.0000\n",
      "Test Accuracy at Epoch 1590: 79.52%\n",
      "Classification Report at Epoch 1590:\n",
      "                  precision    recall  f1-score   support\n",
      "\n",
      "    infringement       0.87      0.68      0.76       283\n",
      "non_infringement       0.75      0.90      0.82       298\n",
      "\n",
      "        accuracy                           0.80       581\n",
      "       macro avg       0.81      0.79      0.79       581\n",
      "    weighted avg       0.81      0.80      0.79       581\n",
      "\n"
     ]
    },
    {
     "name": "stderr",
     "output_type": "stream",
     "text": [
      "Training Epochs:  80%|████████  | 1601/2000 [00:48<00:09, 40.50it/s]"
     ]
    },
    {
     "name": "stdout",
     "output_type": "stream",
     "text": [
      "Epoch 1600/2000, Loss: 0.0000\n",
      "Test Accuracy at Epoch 1600: 79.52%\n",
      "Classification Report at Epoch 1600:\n",
      "                  precision    recall  f1-score   support\n",
      "\n",
      "    infringement       0.87      0.68      0.76       283\n",
      "non_infringement       0.75      0.90      0.82       298\n",
      "\n",
      "        accuracy                           0.80       581\n",
      "       macro avg       0.81      0.79      0.79       581\n",
      "    weighted avg       0.81      0.80      0.79       581\n",
      "\n"
     ]
    },
    {
     "name": "stderr",
     "output_type": "stream",
     "text": [
      "Training Epochs:  81%|████████  | 1617/2000 [00:48<00:08, 42.81it/s]"
     ]
    },
    {
     "name": "stdout",
     "output_type": "stream",
     "text": [
      "Epoch 1610/2000, Loss: 0.0000\n",
      "Test Accuracy at Epoch 1610: 79.52%\n",
      "Classification Report at Epoch 1610:\n",
      "                  precision    recall  f1-score   support\n",
      "\n",
      "    infringement       0.87      0.68      0.76       283\n",
      "non_infringement       0.75      0.90      0.82       298\n",
      "\n",
      "        accuracy                           0.80       581\n",
      "       macro avg       0.81      0.79      0.79       581\n",
      "    weighted avg       0.81      0.80      0.79       581\n",
      "\n"
     ]
    },
    {
     "name": "stderr",
     "output_type": "stream",
     "text": [
      "Training Epochs:  81%|████████▏ | 1628/2000 [00:49<00:08, 41.68it/s]"
     ]
    },
    {
     "name": "stdout",
     "output_type": "stream",
     "text": [
      "Epoch 1620/2000, Loss: 0.0000\n",
      "Test Accuracy at Epoch 1620: 79.52%\n",
      "Classification Report at Epoch 1620:\n",
      "                  precision    recall  f1-score   support\n",
      "\n",
      "    infringement       0.87      0.68      0.76       283\n",
      "non_infringement       0.75      0.90      0.82       298\n",
      "\n",
      "        accuracy                           0.80       581\n",
      "       macro avg       0.81      0.79      0.79       581\n",
      "    weighted avg       0.81      0.80      0.79       581\n",
      "\n",
      "Epoch 1630/2000, Loss: 0.0000\n",
      "Test Accuracy at Epoch 1630: 79.52%\n"
     ]
    },
    {
     "name": "stderr",
     "output_type": "stream",
     "text": [
      "Training Epochs:  82%|████████▏ | 1634/2000 [00:49<00:08, 44.79it/s]"
     ]
    },
    {
     "name": "stdout",
     "output_type": "stream",
     "text": [
      "Classification Report at Epoch 1630:\n",
      "                  precision    recall  f1-score   support\n",
      "\n",
      "    infringement       0.87      0.68      0.76       283\n",
      "non_infringement       0.75      0.90      0.82       298\n",
      "\n",
      "        accuracy                           0.80       581\n",
      "       macro avg       0.81      0.79      0.79       581\n",
      "    weighted avg       0.81      0.80      0.79       581\n",
      "\n"
     ]
    },
    {
     "name": "stderr",
     "output_type": "stream",
     "text": [
      "Training Epochs:  82%|████████▏ | 1644/2000 [00:49<00:09, 39.28it/s]"
     ]
    },
    {
     "name": "stdout",
     "output_type": "stream",
     "text": [
      "Epoch 1640/2000, Loss: 0.0000\n",
      "Test Accuracy at Epoch 1640: 79.52%\n",
      "Classification Report at Epoch 1640:\n",
      "                  precision    recall  f1-score   support\n",
      "\n",
      "    infringement       0.87      0.68      0.76       283\n",
      "non_infringement       0.75      0.90      0.82       298\n",
      "\n",
      "        accuracy                           0.80       581\n",
      "       macro avg       0.81      0.79      0.79       581\n",
      "    weighted avg       0.81      0.80      0.79       581\n",
      "\n"
     ]
    },
    {
     "name": "stderr",
     "output_type": "stream",
     "text": [
      "Training Epochs:  83%|████████▎ | 1660/2000 [00:49<00:08, 41.30it/s]"
     ]
    },
    {
     "name": "stdout",
     "output_type": "stream",
     "text": [
      "Epoch 1650/2000, Loss: 0.0000\n",
      "Test Accuracy at Epoch 1650: 79.52%\n",
      "Classification Report at Epoch 1650:\n",
      "                  precision    recall  f1-score   support\n",
      "\n",
      "    infringement       0.87      0.68      0.76       283\n",
      "non_infringement       0.75      0.90      0.82       298\n",
      "\n",
      "        accuracy                           0.80       581\n",
      "       macro avg       0.81      0.79      0.79       581\n",
      "    weighted avg       0.81      0.80      0.79       581\n",
      "\n",
      "Epoch 1660/2000, Loss: 0.0000\n",
      "Test Accuracy at Epoch 1660: 79.52%\n",
      "Classification Report at Epoch 1660:\n",
      "                  precision    recall  f1-score   support\n",
      "\n",
      "    infringement       0.87      0.68      0.76       283\n",
      "non_infringement       0.75      0.90      0.82       298\n",
      "\n",
      "        accuracy                           0.80       581\n",
      "       macro avg       0.81      0.79      0.79       581\n",
      "    weighted avg       0.81      0.80      0.79       581\n",
      "\n"
     ]
    },
    {
     "name": "stderr",
     "output_type": "stream",
     "text": [
      "Training Epochs:  84%|████████▎ | 1673/2000 [00:50<00:09, 35.04it/s]"
     ]
    },
    {
     "name": "stdout",
     "output_type": "stream",
     "text": [
      "Epoch 1670/2000, Loss: 0.0000\n",
      "Test Accuracy at Epoch 1670: 79.52%\n",
      "Classification Report at Epoch 1670:\n",
      "                  precision    recall  f1-score   support\n",
      "\n",
      "    infringement       0.87      0.68      0.76       283\n",
      "non_infringement       0.75      0.90      0.82       298\n",
      "\n",
      "        accuracy                           0.80       581\n",
      "       macro avg       0.81      0.79      0.79       581\n",
      "    weighted avg       0.81      0.80      0.79       581\n",
      "\n"
     ]
    },
    {
     "name": "stderr",
     "output_type": "stream",
     "text": [
      "Training Epochs:  84%|████████▍ | 1686/2000 [00:50<00:08, 37.49it/s]"
     ]
    },
    {
     "name": "stdout",
     "output_type": "stream",
     "text": [
      "Epoch 1680/2000, Loss: 0.0000\n",
      "Test Accuracy at Epoch 1680: 79.52%\n",
      "Classification Report at Epoch 1680:\n",
      "                  precision    recall  f1-score   support\n",
      "\n",
      "    infringement       0.87      0.68      0.76       283\n",
      "non_infringement       0.75      0.90      0.82       298\n",
      "\n",
      "        accuracy                           0.80       581\n",
      "       macro avg       0.81      0.79      0.79       581\n",
      "    weighted avg       0.81      0.80      0.79       581\n",
      "\n"
     ]
    },
    {
     "name": "stderr",
     "output_type": "stream",
     "text": [
      "Training Epochs:  85%|████████▍ | 1691/2000 [00:50<00:07, 40.26it/s]"
     ]
    },
    {
     "name": "stdout",
     "output_type": "stream",
     "text": [
      "Epoch 1690/2000, Loss: 0.0000\n",
      "Test Accuracy at Epoch 1690: 79.52%\n",
      "Classification Report at Epoch 1690:\n",
      "                  precision    recall  f1-score   support\n",
      "\n",
      "    infringement       0.87      0.68      0.76       283\n",
      "non_infringement       0.75      0.90      0.82       298\n",
      "\n",
      "        accuracy                           0.80       581\n",
      "       macro avg       0.81      0.79      0.79       581\n",
      "    weighted avg       0.81      0.80      0.79       581\n",
      "\n"
     ]
    },
    {
     "name": "stderr",
     "output_type": "stream",
     "text": [
      "Training Epochs:  85%|████████▌ | 1707/2000 [00:51<00:06, 42.62it/s]"
     ]
    },
    {
     "name": "stdout",
     "output_type": "stream",
     "text": [
      "Epoch 1700/2000, Loss: 0.0000\n",
      "Test Accuracy at Epoch 1700: 79.52%\n",
      "Classification Report at Epoch 1700:\n",
      "                  precision    recall  f1-score   support\n",
      "\n",
      "    infringement       0.87      0.68      0.76       283\n",
      "non_infringement       0.75      0.90      0.82       298\n",
      "\n",
      "        accuracy                           0.80       581\n",
      "       macro avg       0.81      0.79      0.79       581\n",
      "    weighted avg       0.81      0.80      0.79       581\n",
      "\n"
     ]
    },
    {
     "name": "stderr",
     "output_type": "stream",
     "text": [
      "Training Epochs:  86%|████████▌ | 1712/2000 [00:51<00:07, 38.40it/s]"
     ]
    },
    {
     "name": "stdout",
     "output_type": "stream",
     "text": [
      "Epoch 1710/2000, Loss: 0.0000\n",
      "Test Accuracy at Epoch 1710: 79.52%\n",
      "Classification Report at Epoch 1710:\n",
      "                  precision    recall  f1-score   support\n",
      "\n",
      "    infringement       0.87      0.68      0.76       283\n",
      "non_infringement       0.75      0.90      0.82       298\n",
      "\n",
      "        accuracy                           0.80       581\n",
      "       macro avg       0.81      0.79      0.79       581\n",
      "    weighted avg       0.81      0.80      0.79       581\n",
      "\n"
     ]
    },
    {
     "name": "stderr",
     "output_type": "stream",
     "text": [
      "Training Epochs:  86%|████████▋ | 1726/2000 [00:51<00:08, 33.09it/s]"
     ]
    },
    {
     "name": "stdout",
     "output_type": "stream",
     "text": [
      "Epoch 1720/2000, Loss: 0.0000\n",
      "Test Accuracy at Epoch 1720: 79.52%\n",
      "Classification Report at Epoch 1720:\n",
      "                  precision    recall  f1-score   support\n",
      "\n",
      "    infringement       0.87      0.68      0.76       283\n",
      "non_infringement       0.75      0.90      0.82       298\n",
      "\n",
      "        accuracy                           0.80       581\n",
      "       macro avg       0.81      0.79      0.79       581\n",
      "    weighted avg       0.81      0.80      0.79       581\n",
      "\n"
     ]
    },
    {
     "name": "stderr",
     "output_type": "stream",
     "text": [
      "Training Epochs:  87%|████████▋ | 1735/2000 [00:52<00:07, 34.37it/s]"
     ]
    },
    {
     "name": "stdout",
     "output_type": "stream",
     "text": [
      "Epoch 1730/2000, Loss: 0.0000\n",
      "Test Accuracy at Epoch 1730: 79.52%\n",
      "Classification Report at Epoch 1730:\n",
      "                  precision    recall  f1-score   support\n",
      "\n",
      "    infringement       0.87      0.68      0.76       283\n",
      "non_infringement       0.75      0.90      0.82       298\n",
      "\n",
      "        accuracy                           0.80       581\n",
      "       macro avg       0.81      0.79      0.79       581\n",
      "    weighted avg       0.81      0.80      0.79       581\n",
      "\n"
     ]
    },
    {
     "name": "stderr",
     "output_type": "stream",
     "text": [
      "Training Epochs:  87%|████████▋ | 1745/2000 [00:52<00:06, 37.37it/s]"
     ]
    },
    {
     "name": "stdout",
     "output_type": "stream",
     "text": [
      "Epoch 1740/2000, Loss: 0.0000\n",
      "Test Accuracy at Epoch 1740: 79.52%\n",
      "Classification Report at Epoch 1740:\n",
      "                  precision    recall  f1-score   support\n",
      "\n",
      "    infringement       0.87      0.68      0.76       283\n",
      "non_infringement       0.75      0.90      0.82       298\n",
      "\n",
      "        accuracy                           0.80       581\n",
      "       macro avg       0.81      0.79      0.79       581\n",
      "    weighted avg       0.81      0.80      0.79       581\n",
      "\n"
     ]
    },
    {
     "name": "stderr",
     "output_type": "stream",
     "text": [
      "Training Epochs:  88%|████████▊ | 1753/2000 [00:52<00:07, 33.18it/s]"
     ]
    },
    {
     "name": "stdout",
     "output_type": "stream",
     "text": [
      "Epoch 1750/2000, Loss: 0.0000\n",
      "Test Accuracy at Epoch 1750: 79.52%\n",
      "Classification Report at Epoch 1750:\n",
      "                  precision    recall  f1-score   support\n",
      "\n",
      "    infringement       0.87      0.68      0.76       283\n",
      "non_infringement       0.75      0.90      0.82       298\n",
      "\n",
      "        accuracy                           0.80       581\n",
      "       macro avg       0.81      0.79      0.79       581\n",
      "    weighted avg       0.81      0.80      0.79       581\n",
      "\n",
      "Epoch 1760/2000, Loss: 0.0000\n",
      "Test Accuracy at Epoch 1760: 79.52%\n"
     ]
    },
    {
     "name": "stderr",
     "output_type": "stream",
     "text": [
      "Training Epochs:  88%|████████▊ | 1767/2000 [00:52<00:05, 42.68it/s]"
     ]
    },
    {
     "name": "stdout",
     "output_type": "stream",
     "text": [
      "Classification Report at Epoch 1760:\n",
      "                  precision    recall  f1-score   support\n",
      "\n",
      "    infringement       0.87      0.68      0.76       283\n",
      "non_infringement       0.75      0.90      0.82       298\n",
      "\n",
      "        accuracy                           0.80       581\n",
      "       macro avg       0.81      0.79      0.79       581\n",
      "    weighted avg       0.81      0.80      0.79       581\n",
      "\n"
     ]
    },
    {
     "name": "stderr",
     "output_type": "stream",
     "text": [
      "Training Epochs:  89%|████████▉ | 1779/2000 [00:53<00:05, 42.47it/s]"
     ]
    },
    {
     "name": "stdout",
     "output_type": "stream",
     "text": [
      "Epoch 1770/2000, Loss: 0.0000\n",
      "Test Accuracy at Epoch 1770: 79.52%\n",
      "Classification Report at Epoch 1770:\n",
      "                  precision    recall  f1-score   support\n",
      "\n",
      "    infringement       0.87      0.68      0.76       283\n",
      "non_infringement       0.75      0.90      0.82       298\n",
      "\n",
      "        accuracy                           0.80       581\n",
      "       macro avg       0.81      0.79      0.79       581\n",
      "    weighted avg       0.81      0.80      0.79       581\n",
      "\n",
      "Epoch 1780/2000, Loss: 0.0000\n",
      "Test Accuracy at Epoch 1780: 79.52%\n",
      "Classification Report at Epoch 1780:\n",
      "                  precision    recall  f1-score   support\n",
      "\n",
      "    infringement       0.87      0.68      0.76       283\n",
      "non_infringement       0.75      0.90      0.82       298\n",
      "\n",
      "        accuracy                           0.80       581\n",
      "       macro avg       0.81      0.79      0.79       581\n",
      "    weighted avg       0.81      0.80      0.79       581\n",
      "\n"
     ]
    },
    {
     "name": "stderr",
     "output_type": "stream",
     "text": [
      "Training Epochs:  90%|████████▉ | 1797/2000 [00:53<00:04, 48.07it/s]"
     ]
    },
    {
     "name": "stdout",
     "output_type": "stream",
     "text": [
      "Epoch 1790/2000, Loss: 0.0000\n",
      "Test Accuracy at Epoch 1790: 79.52%\n",
      "Classification Report at Epoch 1790:\n",
      "                  precision    recall  f1-score   support\n",
      "\n",
      "    infringement       0.87      0.68      0.76       283\n",
      "non_infringement       0.75      0.90      0.82       298\n",
      "\n",
      "        accuracy                           0.80       581\n",
      "       macro avg       0.81      0.79      0.79       581\n",
      "    weighted avg       0.81      0.80      0.79       581\n",
      "\n",
      "Epoch 1800/2000, Loss: 0.0000\n",
      "Test Accuracy at Epoch 1800: 79.52%\n",
      "Classification Report at Epoch 1800:\n",
      "                  precision    recall  f1-score   support\n",
      "\n",
      "    infringement       0.87      0.68      0.76       283\n",
      "non_infringement       0.75      0.90      0.82       298\n",
      "\n",
      "        accuracy                           0.80       581\n",
      "       macro avg       0.81      0.79      0.79       581\n",
      "    weighted avg       0.81      0.80      0.79       581\n",
      "\n"
     ]
    },
    {
     "name": "stderr",
     "output_type": "stream",
     "text": [
      "Training Epochs:  91%|█████████ | 1816/2000 [00:54<00:03, 51.41it/s]"
     ]
    },
    {
     "name": "stdout",
     "output_type": "stream",
     "text": [
      "Epoch 1810/2000, Loss: 0.0000\n",
      "Test Accuracy at Epoch 1810: 79.52%\n",
      "Classification Report at Epoch 1810:\n",
      "                  precision    recall  f1-score   support\n",
      "\n",
      "    infringement       0.87      0.68      0.76       283\n",
      "non_infringement       0.75      0.90      0.82       298\n",
      "\n",
      "        accuracy                           0.80       581\n",
      "       macro avg       0.81      0.79      0.79       581\n",
      "    weighted avg       0.81      0.80      0.79       581\n",
      "\n",
      "Epoch 1820/2000, Loss: 0.0000\n",
      "Test Accuracy at Epoch 1820: 79.52%\n",
      "Classification Report at Epoch 1820:\n",
      "                  precision    recall  f1-score   support\n",
      "\n",
      "    infringement       0.87      0.68      0.76       283\n",
      "non_infringement       0.75      0.90      0.82       298\n",
      "\n",
      "        accuracy                           0.80       581\n",
      "       macro avg       0.81      0.79      0.79       581\n",
      "    weighted avg       0.81      0.80      0.79       581\n",
      "\n"
     ]
    },
    {
     "name": "stderr",
     "output_type": "stream",
     "text": [
      "Training Epochs:  92%|█████████▏| 1839/2000 [00:54<00:02, 62.39it/s]"
     ]
    },
    {
     "name": "stdout",
     "output_type": "stream",
     "text": [
      "Epoch 1830/2000, Loss: 0.0000\n",
      "Test Accuracy at Epoch 1830: 79.52%\n",
      "Classification Report at Epoch 1830:\n",
      "                  precision    recall  f1-score   support\n",
      "\n",
      "    infringement       0.87      0.68      0.76       283\n",
      "non_infringement       0.75      0.90      0.82       298\n",
      "\n",
      "        accuracy                           0.80       581\n",
      "       macro avg       0.81      0.79      0.79       581\n",
      "    weighted avg       0.81      0.80      0.79       581\n",
      "\n",
      "Epoch 1840/2000, Loss: 0.0000\n",
      "Test Accuracy at Epoch 1840: 79.52%\n",
      "Classification Report at Epoch 1840:\n",
      "                  precision    recall  f1-score   support\n",
      "\n",
      "    infringement       0.87      0.68      0.76       283\n",
      "non_infringement       0.75      0.90      0.82       298\n",
      "\n",
      "        accuracy                           0.80       581\n",
      "       macro avg       0.81      0.79      0.79       581\n",
      "    weighted avg       0.81      0.80      0.79       581\n",
      "\n"
     ]
    },
    {
     "name": "stderr",
     "output_type": "stream",
     "text": [
      "Training Epochs:  93%|█████████▎| 1859/2000 [00:54<00:02, 50.94it/s]"
     ]
    },
    {
     "name": "stdout",
     "output_type": "stream",
     "text": [
      "Epoch 1850/2000, Loss: 0.0000\n",
      "Test Accuracy at Epoch 1850: 79.52%\n",
      "Classification Report at Epoch 1850:\n",
      "                  precision    recall  f1-score   support\n",
      "\n",
      "    infringement       0.87      0.68      0.76       283\n",
      "non_infringement       0.75      0.90      0.82       298\n",
      "\n",
      "        accuracy                           0.80       581\n",
      "       macro avg       0.81      0.79      0.79       581\n",
      "    weighted avg       0.81      0.80      0.79       581\n",
      "\n",
      "Epoch 1860/2000, Loss: 0.0000\n",
      "Test Accuracy at Epoch 1860: 79.52%\n",
      "Classification Report at Epoch 1860:\n",
      "                  precision    recall  f1-score   support\n",
      "\n",
      "    infringement       0.87      0.68      0.76       283\n",
      "non_infringement       0.75      0.90      0.82       298\n",
      "\n",
      "        accuracy                           0.80       581\n",
      "       macro avg       0.81      0.79      0.79       581\n",
      "    weighted avg       0.81      0.80      0.79       581\n",
      "\n"
     ]
    },
    {
     "name": "stderr",
     "output_type": "stream",
     "text": [
      "Training Epochs:  94%|█████████▍| 1876/2000 [00:55<00:02, 46.35it/s]"
     ]
    },
    {
     "name": "stdout",
     "output_type": "stream",
     "text": [
      "Epoch 1870/2000, Loss: 0.0000\n",
      "Test Accuracy at Epoch 1870: 79.52%\n",
      "Classification Report at Epoch 1870:\n",
      "                  precision    recall  f1-score   support\n",
      "\n",
      "    infringement       0.87      0.68      0.76       283\n",
      "non_infringement       0.75      0.90      0.82       298\n",
      "\n",
      "        accuracy                           0.80       581\n",
      "       macro avg       0.81      0.79      0.79       581\n",
      "    weighted avg       0.81      0.80      0.79       581\n",
      "\n"
     ]
    },
    {
     "name": "stderr",
     "output_type": "stream",
     "text": [
      "Training Epochs:  94%|█████████▍| 1887/2000 [00:55<00:02, 40.42it/s]"
     ]
    },
    {
     "name": "stdout",
     "output_type": "stream",
     "text": [
      "Epoch 1880/2000, Loss: 0.0000\n",
      "Test Accuracy at Epoch 1880: 79.52%\n",
      "Classification Report at Epoch 1880:\n",
      "                  precision    recall  f1-score   support\n",
      "\n",
      "    infringement       0.87      0.68      0.76       283\n",
      "non_infringement       0.75      0.90      0.82       298\n",
      "\n",
      "        accuracy                           0.80       581\n",
      "       macro avg       0.81      0.79      0.79       581\n",
      "    weighted avg       0.81      0.80      0.79       581\n",
      "\n"
     ]
    },
    {
     "name": "stderr",
     "output_type": "stream",
     "text": [
      "Training Epochs:  95%|█████████▍| 1892/2000 [00:55<00:02, 37.89it/s]"
     ]
    },
    {
     "name": "stdout",
     "output_type": "stream",
     "text": [
      "Epoch 1890/2000, Loss: 0.0000\n",
      "Test Accuracy at Epoch 1890: 79.52%\n",
      "Classification Report at Epoch 1890:\n",
      "                  precision    recall  f1-score   support\n",
      "\n",
      "    infringement       0.87      0.68      0.76       283\n",
      "non_infringement       0.75      0.90      0.82       298\n",
      "\n",
      "        accuracy                           0.80       581\n",
      "       macro avg       0.81      0.79      0.79       581\n",
      "    weighted avg       0.81      0.80      0.79       581\n",
      "\n"
     ]
    },
    {
     "name": "stderr",
     "output_type": "stream",
     "text": [
      "Training Epochs:  95%|█████████▍| 1898/2000 [00:55<00:02, 41.22it/s]"
     ]
    },
    {
     "name": "stdout",
     "output_type": "stream",
     "text": [
      "Epoch 1900/2000, Loss: 0.0000\n",
      "Test Accuracy at Epoch 1900: 79.52%\n",
      "Classification Report at Epoch 1900:\n",
      "                  precision    recall  f1-score   support\n",
      "\n",
      "    infringement       0.87      0.68      0.76       283\n",
      "non_infringement       0.75      0.90      0.82       298\n",
      "\n",
      "        accuracy                           0.80       581\n",
      "       macro avg       0.81      0.79      0.79       581\n",
      "    weighted avg       0.81      0.80      0.79       581\n",
      "\n"
     ]
    },
    {
     "name": "stderr",
     "output_type": "stream",
     "text": [
      "Training Epochs:  96%|█████████▌| 1914/2000 [00:56<00:02, 37.97it/s]"
     ]
    },
    {
     "name": "stdout",
     "output_type": "stream",
     "text": [
      "Epoch 1910/2000, Loss: 0.0000\n",
      "Test Accuracy at Epoch 1910: 79.52%\n",
      "Classification Report at Epoch 1910:\n",
      "                  precision    recall  f1-score   support\n",
      "\n",
      "    infringement       0.87      0.68      0.76       283\n",
      "non_infringement       0.75      0.90      0.82       298\n",
      "\n",
      "        accuracy                           0.80       581\n",
      "       macro avg       0.81      0.79      0.79       581\n",
      "    weighted avg       0.81      0.80      0.79       581\n",
      "\n",
      "Epoch 1920/2000, Loss: 0.0000\n",
      "Test Accuracy at Epoch 1920: 79.52%\n"
     ]
    },
    {
     "name": "stderr",
     "output_type": "stream",
     "text": [
      "Training Epochs:  96%|█████████▋| 1926/2000 [00:56<00:01, 43.75it/s]"
     ]
    },
    {
     "name": "stdout",
     "output_type": "stream",
     "text": [
      "Classification Report at Epoch 1920:\n",
      "                  precision    recall  f1-score   support\n",
      "\n",
      "    infringement       0.87      0.68      0.76       283\n",
      "non_infringement       0.75      0.90      0.82       298\n",
      "\n",
      "        accuracy                           0.80       581\n",
      "       macro avg       0.81      0.79      0.79       581\n",
      "    weighted avg       0.81      0.80      0.79       581\n",
      "\n",
      "Epoch 1930/2000, Loss: 0.0000\n",
      "Test Accuracy at Epoch 1930: 79.52%\n",
      "Classification Report at Epoch 1930:\n",
      "                  precision    recall  f1-score   support\n",
      "\n",
      "    infringement       0.87      0.68      0.76       283\n",
      "non_infringement       0.75      0.90      0.82       298\n",
      "\n",
      "        accuracy                           0.80       581\n",
      "       macro avg       0.81      0.79      0.79       581\n",
      "    weighted avg       0.81      0.80      0.79       581\n",
      "\n"
     ]
    },
    {
     "name": "stderr",
     "output_type": "stream",
     "text": [
      "Training Epochs:  97%|█████████▋| 1945/2000 [00:57<00:01, 46.37it/s]"
     ]
    },
    {
     "name": "stdout",
     "output_type": "stream",
     "text": [
      "Epoch 1940/2000, Loss: 0.0000\n",
      "Test Accuracy at Epoch 1940: 79.52%\n",
      "Classification Report at Epoch 1940:\n",
      "                  precision    recall  f1-score   support\n",
      "\n",
      "    infringement       0.87      0.68      0.76       283\n",
      "non_infringement       0.75      0.90      0.82       298\n",
      "\n",
      "        accuracy                           0.80       581\n",
      "       macro avg       0.81      0.79      0.79       581\n",
      "    weighted avg       0.81      0.80      0.79       581\n",
      "\n"
     ]
    },
    {
     "name": "stderr",
     "output_type": "stream",
     "text": [
      "Training Epochs:  98%|█████████▊| 1959/2000 [00:57<00:00, 55.25it/s]"
     ]
    },
    {
     "name": "stdout",
     "output_type": "stream",
     "text": [
      "Epoch 1950/2000, Loss: 0.0000\n",
      "Test Accuracy at Epoch 1950: 79.52%\n",
      "Classification Report at Epoch 1950:\n",
      "                  precision    recall  f1-score   support\n",
      "\n",
      "    infringement       0.87      0.68      0.76       283\n",
      "non_infringement       0.75      0.90      0.82       298\n",
      "\n",
      "        accuracy                           0.80       581\n",
      "       macro avg       0.81      0.79      0.79       581\n",
      "    weighted avg       0.81      0.80      0.79       581\n",
      "\n",
      "Epoch 1960/2000, Loss: 0.0000\n",
      "Test Accuracy at Epoch 1960: 79.52%\n",
      "Classification Report at Epoch 1960:\n",
      "                  precision    recall  f1-score   support\n",
      "\n",
      "    infringement       0.87      0.68      0.76       283\n",
      "non_infringement       0.75      0.90      0.82       298\n",
      "\n",
      "        accuracy                           0.80       581\n",
      "       macro avg       0.81      0.79      0.79       581\n",
      "    weighted avg       0.81      0.80      0.79       581\n",
      "\n"
     ]
    },
    {
     "name": "stderr",
     "output_type": "stream",
     "text": [
      "Training Epochs:  99%|█████████▊| 1972/2000 [00:57<00:00, 39.44it/s]"
     ]
    },
    {
     "name": "stdout",
     "output_type": "stream",
     "text": [
      "Epoch 1970/2000, Loss: 0.0000\n",
      "Test Accuracy at Epoch 1970: 79.52%\n",
      "Classification Report at Epoch 1970:\n",
      "                  precision    recall  f1-score   support\n",
      "\n",
      "    infringement       0.87      0.68      0.76       283\n",
      "non_infringement       0.75      0.90      0.82       298\n",
      "\n",
      "        accuracy                           0.80       581\n",
      "       macro avg       0.81      0.79      0.79       581\n",
      "    weighted avg       0.81      0.80      0.79       581\n",
      "\n"
     ]
    },
    {
     "name": "stderr",
     "output_type": "stream",
     "text": [
      "Training Epochs:  99%|█████████▉| 1987/2000 [00:58<00:00, 39.07it/s]"
     ]
    },
    {
     "name": "stdout",
     "output_type": "stream",
     "text": [
      "Epoch 1980/2000, Loss: 0.0000\n",
      "Test Accuracy at Epoch 1980: 79.52%\n",
      "Classification Report at Epoch 1980:\n",
      "                  precision    recall  f1-score   support\n",
      "\n",
      "    infringement       0.87      0.68      0.76       283\n",
      "non_infringement       0.75      0.90      0.82       298\n",
      "\n",
      "        accuracy                           0.80       581\n",
      "       macro avg       0.81      0.79      0.79       581\n",
      "    weighted avg       0.81      0.80      0.79       581\n",
      "\n"
     ]
    },
    {
     "name": "stderr",
     "output_type": "stream",
     "text": [
      "Training Epochs: 100%|█████████▉| 1992/2000 [00:58<00:00, 35.22it/s]"
     ]
    },
    {
     "name": "stdout",
     "output_type": "stream",
     "text": [
      "Epoch 1990/2000, Loss: 0.0000\n",
      "Test Accuracy at Epoch 1990: 79.52%\n",
      "Classification Report at Epoch 1990:\n",
      "                  precision    recall  f1-score   support\n",
      "\n",
      "    infringement       0.87      0.68      0.76       283\n",
      "non_infringement       0.75      0.90      0.82       298\n",
      "\n",
      "        accuracy                           0.80       581\n",
      "       macro avg       0.81      0.79      0.79       581\n",
      "    weighted avg       0.81      0.80      0.79       581\n",
      "\n"
     ]
    },
    {
     "name": "stderr",
     "output_type": "stream",
     "text": [
      "Training Epochs: 100%|██████████| 2000/2000 [00:58<00:00, 34.28it/s]\n",
      "/tmp/ipykernel_1475759/85556528.py:47: FutureWarning: You are using `torch.load` with `weights_only=False` (the current default value), which uses the default pickle module implicitly. It is possible to construct malicious pickle data which will execute arbitrary code during unpickling (See https://github.com/pytorch/pytorch/blob/main/SECURITY.md#untrusted-models for more details). In a future release, the default value for `weights_only` will be flipped to `True`. This limits the functions that could be executed during unpickling. Arbitrary objects will no longer be allowed to be loaded via this mode unless they are explicitly allowlisted by the user via `torch.serialization.add_safe_globals`. We recommend you start setting `weights_only=True` for any use case where you don't have full control of the loaded file. Please open an issue on GitHub for any issues related to this experimental feature.\n",
      "  custom_mlp.load_state_dict(torch.load(checkpoint_path))\n"
     ]
    },
    {
     "name": "stdout",
     "output_type": "stream",
     "text": [
      "Epoch 2000/2000, Loss: 0.0000\n",
      "Test Accuracy at Epoch 2000: 79.52%\n",
      "Classification Report at Epoch 2000:\n",
      "                  precision    recall  f1-score   support\n",
      "\n",
      "    infringement       0.87      0.68      0.76       283\n",
      "non_infringement       0.75      0.90      0.82       298\n",
      "\n",
      "        accuracy                           0.80       581\n",
      "       macro avg       0.81      0.79      0.79       581\n",
      "    weighted avg       0.81      0.80      0.79       581\n",
      "\n"
     ]
    },
    {
     "data": {
      "image/png": "[encoded data removed]",
      "text/plain": [
       "<Figure size 1000x500 with 1 Axes>"
      ]
     },
     "metadata": {},
     "output_type": "display_data"
    },
    {
     "name": "stdout",
     "output_type": "stream",
     "text": [
      "Final Model Accuracy: 82.96%\n"
     ]
    }
   ],
   "source": [
    "input_dim = X_train.shape[1]\n",
    "hidden_dim = 256 \n",
    "print(f\"Training MLP model with input_dim={input_dim} and hidden_dim={hidden_dim}\")\n",
    "\n",
    "custom_mlp, losses, best_accuracy = train_model(X_train, y_train, X_test, y_test, input_dim, hidden_dim)"
   ]
  },
  {
   "cell_type": "code",
   "execution_count": 10,
   "metadata": {},
   "outputs": [
    {
     "name": "stdout",
     "output_type": "stream",
     "text": [
      "Checkpoint saved to '/home/guangwei/LLM-COPYRIGHT/copyright_newVersion/models/train_input_reference_last_token_TSNE2.pth'.\n"
     ]
    }
   ],
   "source": [
    "def save_checkpoint(model, optimizer, epoch, loss, filepath):\n",
    "    checkpoint = {\n",
    "        'epoch': epoch + 1,\n",
    "        'model_state_dict': model.state_dict(),\n",
    "        'optimizer_state_dict': optimizer.state_dict(),\n",
    "        'loss': loss\n",
    "    }\n",
    "    torch.save(checkpoint, filepath)\n",
    "    print(f\"Checkpoint saved to '{filepath}'.\")\n",
    "\n",
    "save_checkpoint(custom_mlp, torch.optim.Adam(custom_mlp.parameters()), len(losses), losses[-1], checkpoint_file)"
   ]
  },
  {
   "cell_type": "code",
   "execution_count": 11,
   "metadata": {},
   "outputs": [
    {
     "name": "stderr",
     "output_type": "stream",
     "text": [
      "/tmp/ipykernel_1475759/2137335780.py:1: UserWarning: To copy construct from a tensor, it is recommended to use sourceTensor.clone().detach() or sourceTensor.clone().detach().requires_grad_(True), rather than torch.tensor(sourceTensor).\n",
      "  y_pred_final = (torch.sigmoid(torch.tensor(custom_mlp(torch.tensor(X_test, dtype=torch.float32)))) > 0.5).float().numpy()\n"
     ]
    },
    {
     "name": "stdout",
     "output_type": "stream",
     "text": [
      "                  precision    recall  f1-score   support\n",
      "\n",
      "    infringement       0.93      0.70      0.80       283\n",
      "non_infringement       0.77      0.95      0.85       298\n",
      "\n",
      "        accuracy                           0.83       581\n",
      "       macro avg       0.85      0.83      0.83       581\n",
      "    weighted avg       0.85      0.83      0.83       581\n",
      "\n"
     ]
    },
    {
     "ename": "",
     "evalue": "",
     "output_type": "error",
     "traceback": [
      "\u001b[1;31mThe Kernel crashed while executing code in the current cell or a previous cell. \n",
      "\u001b[1;31mPlease review the code in the cell(s) to identify a possible cause of the failure. \n",
      "\u001b[1;31mClick <a href='https://aka.ms/vscodeJupyterKernelCrash'>here</a> for more info. \n",
      "\u001b[1;31mView Jupyter <a href='command:jupyter.viewOutput'>log</a> for further details."
     ]
    }
   ],
   "source": [
    "y_pred_final = (torch.sigmoid(torch.tensor(custom_mlp(torch.tensor(X_test, dtype=torch.float32)))) > 0.5).float().numpy()\n",
    "print(classification_report(y_test, y_pred_final, target_names=[\"infringement\", \"non_infringement\"]))"
   ]
  }
 ],
 "metadata": {
  "kernelspec": {
   "display_name": "sit",
   "language": "python",
   "name": "python3"
  },
  "language_info": {
   "codemirror_mode": {
    "name": "ipython",
    "version": 3
   },
   "file_extension": ".py",
   "mimetype": "text/x-python",
   "name": "python",
   "nbconvert_exporter": "python",
   "pygments_lexer": "ipython3",
   "version": "3.9.20"
  }
 },
 "nbformat": 4,
 "nbformat_minor": 2
}
