{
 "cells": [
  {
   "cell_type": "code",
   "execution_count": 53,
   "metadata": {},
   "outputs": [],
   "source": [
    "# import packages & variables\n",
    "import argparse\n",
    "import torch\n",
    "import torch.nn as nn\n",
    "import numpy as np\n",
    "from sklearn.metrics import accuracy_score, classification_report\n",
    "import matplotlib.pyplot as plt\n",
    "from tqdm import tqdm\n",
    "from transformers import AutoTokenizer, AutoModelForCausalLM, AutoModel, AutoModelForSequenceClassification\n",
    "import json\n",
    "import os\n",
    "from sentence_transformers import SentenceTransformer\n",
    "\n",
    "os.environ[\"CUDA_VISIBLE_DEVICES\"] = \"5\"\n",
    "\n",
    "# Parameters\n",
    "model_name = 'meta-llama/Meta-Llama-3.1-8B'\n",
    "non_infringement_file = '/home/guangwei/LLM-COPYRIGHT/copyright_newVersion/test_division/extra.non_infringement.json'\n",
    "infringement_file = '/home/guangwei/LLM-COPYRIGHT/copyright_newVersion/test_division/extra.infringement.json'\n",
    "checkpoint_file = '/home/guangwei/LLM-COPYRIGHT/copyright_newVersion/models/train_input_reference_last_layer_test.pth'\n"
   ]
  },
  {
   "cell_type": "code",
   "execution_count": 54,
   "metadata": {},
   "outputs": [],
   "source": [
    "# Define CustumMLP for internal states train\n",
    "class CustomMLP(nn.Module):\n",
    "    def __init__(self, input_dim, hidden_dim):\n",
    "        super(CustomMLP, self).__init__()\n",
    "        self.down = nn.Linear(input_dim, hidden_dim)\n",
    "        self.gate = nn.Linear(input_dim, hidden_dim)\n",
    "        self.up = nn.Linear(hidden_dim, 1)\n",
    "        self.activation = nn.SiLU()\n",
    "\n",
    "    def forward(self, x):\n",
    "        down_output = self.down(x)\n",
    "        gate_output = self.gate(x)\n",
    "        gated_output = down_output * self.activation(gate_output)\n",
    "        return self.up(gated_output)"
   ]
  },
  {
   "cell_type": "code",
   "execution_count": 55,
   "metadata": {},
   "outputs": [],
   "source": [
    "# Extract hidden states/reference embeddings\n",
    "def extract_hidden_states(texts, model, tokenizer, batch_size=4, max_length=512):\n",
    "    device = torch.device(\"cuda\" if torch.cuda.is_available() else \"cpu\")\n",
    "    model.to(device)\n",
    "    model = nn.DataParallel(model)\n",
    "    hidden_states = []\n",
    "    \n",
    "    for i in tqdm(range(0, len(texts), batch_size), desc=\"Processing data batches\"):\n",
    "        batch_texts = texts[i:i + batch_size]\n",
    "        inputs = tokenizer(batch_texts, return_tensors=\"pt\", padding='max_length', truncation=True, max_length=max_length).to(device)\n",
    "        \n",
    "        with torch.no_grad():\n",
    "            outputs = model(**inputs)\n",
    "        \n",
    "        # 直接获取最后一层的隐藏状态，不取平均\n",
    "        last_hidden_state = outputs.hidden_states[-1].cpu().numpy()  # (batch_size, seq_len, hidden_dim)\n",
    "        hidden_states.append(last_hidden_state)\n",
    "    \n",
    "    # 将所有的batch连接起来\n",
    "    return np.concatenate(hidden_states, axis=0)  # (total_tokens, hidden_dim)\n",
    "\n",
    "def extract_reference_embeddings(references, model_name='paraphrase-MiniLM-L6-v2', batch_size=4):\n",
    "    embed_model = SentenceTransformer(model_name, device='cuda' if torch.cuda.is_available() else 'cpu')\n",
    "    embeddings = []\n",
    "    for i in tqdm(range(0, len(references), batch_size), desc=\"Processing references\"):\n",
    "        batch_references = references[i:i + batch_size]\n",
    "        batch_embeddings = embed_model.encode(batch_references)\n",
    "        embeddings.append(batch_embeddings)\n",
    "    return np.vstack(embeddings)\n"
   ]
  },
  {
   "cell_type": "code",
   "execution_count": 56,
   "metadata": {},
   "outputs": [],
   "source": [
    "# load data for infringement & non infringement\n",
    "def load_data(non_infringement_file, infringement_file):\n",
    "    with open(non_infringement_file, 'r', encoding='utf-8') as file:\n",
    "        non_infringement_json_data = json.load(file)\n",
    "\n",
    "    non_infringement_outputs = [entry['input'] for entry in non_infringement_json_data]\n",
    "    non_infringement_references = [entry['reference'] for entry in non_infringement_json_data]\n",
    "    y_non_infringement = [1] * len(non_infringement_outputs)\n",
    "\n",
    "    with open(infringement_file, 'r', encoding='utf-8') as file:\n",
    "        infringement_json_data = json.load(file)\n",
    "\n",
    "    infringement_outputs = [entry['input'] for entry in infringement_json_data]\n",
    "    infringement_references = [entry['reference'] for entry in infringement_json_data]\n",
    "    y_infringement = [0] * len(infringement_outputs)\n",
    "\n",
    "    return non_infringement_outputs, non_infringement_references, y_non_infringement, infringement_outputs, infringement_references, y_infringement"
   ]
  },
  {
   "cell_type": "code",
   "execution_count": 57,
   "metadata": {},
   "outputs": [],
   "source": [
    "# Train for best model\n",
    "def train_model(X_train, y_train, X_test, y_test, input_dim, hidden_dim, epochs=500, lr=0.001, checkpoint_path=checkpoint_file):\n",
    "    custom_mlp = CustomMLP(input_dim, hidden_dim)\n",
    "    criterion = nn.BCEWithLogitsLoss()\n",
    "    optimizer = torch.optim.Adam(custom_mlp.parameters(), lr=lr)\n",
    "\n",
    "    X_train_tensor = torch.tensor(X_train, dtype=torch.float32)\n",
    "    y_train_tensor = torch.tensor(y_train, dtype=torch.float32).unsqueeze(1)\n",
    "\n",
    "    best_accuracy = -float('inf')\n",
    "    best_model_state = None\n",
    "    best_epoch = 0\n",
    "    losses = []\n",
    "\n",
    "    for epoch in tqdm(range(epochs), desc=\"Training Epochs\"):\n",
    "        custom_mlp.train()\n",
    "        optimizer.zero_grad()\n",
    "        outputs = custom_mlp(X_train_tensor)\n",
    "        loss = criterion(outputs, y_train_tensor)\n",
    "        loss.backward()\n",
    "        optimizer.step()\n",
    "        losses.append(loss.item())\n",
    "\n",
    "        if (epoch + 1) % 10 == 0:\n",
    "            print(f\"Epoch {epoch + 1}/{epochs}, Loss: {loss.item():.4f}\")\n",
    "            \n",
    "            custom_mlp.eval()\n",
    "            X_test_tensor = torch.tensor(X_test, dtype=torch.float32)\n",
    "            with torch.no_grad():\n",
    "                y_pred_logits = custom_mlp(X_test_tensor)\n",
    "                y_pred = (torch.sigmoid(y_pred_logits) > 0.5).float().numpy()\n",
    "            \n",
    "            accuracy = accuracy_score(y_test, y_pred)\n",
    "            print(f\"Test Accuracy at Epoch {epoch + 1}: {accuracy * 100:.2f}%\")\n",
    "            \n",
    "            report = classification_report(y_test, y_pred, target_names=[\"infringement\", \"non_infringement\"])\n",
    "            print(f\"Classification Report at Epoch {epoch + 1}:\\n{report}\")\n",
    "\n",
    "            if accuracy > best_accuracy:\n",
    "                best_accuracy = accuracy\n",
    "                best_model_state = custom_mlp.state_dict()\n",
    "                best_epoch = epoch + 1\n",
    "                torch.save(best_model_state, checkpoint_path)\n",
    "                print(f\"New best model saved with accuracy {best_accuracy * 100:.2f}% at epoch {best_epoch}\")\n",
    "                print(f\"Best Classification Report at Epoch {best_epoch}:\\n{report}\")\n",
    "\n",
    "    custom_mlp.load_state_dict(torch.load(checkpoint_path))\n",
    "\n",
    "    plt.figure(figsize=(10, 5))\n",
    "    plt.plot(losses, label='Training Loss')\n",
    "    plt.xlabel('Epoch')\n",
    "    plt.ylabel('Loss')\n",
    "    plt.title('Training Loss Curve')\n",
    "    plt.legend()\n",
    "    plt.show()\n",
    "\n",
    "    print(f\"Final Model Accuracy: {best_accuracy * 100:.2f}%\")\n",
    "    \n",
    "    return custom_mlp, losses, best_accuracy"
   ]
  },
  {
   "cell_type": "code",
   "execution_count": 58,
   "metadata": {},
   "outputs": [
    {
     "name": "stderr",
     "output_type": "stream",
     "text": [
      "Loading checkpoint shards: 100%|██████████| 4/4 [00:02<00:00,  1.36it/s]\n"
     ]
    }
   ],
   "source": [
    "tokenizer = AutoTokenizer.from_pretrained(model_name, model_max_length=512)\n",
    "model = AutoModelForCausalLM.from_pretrained(model_name, output_hidden_states=True)\n",
    "tokenizer.pad_token = tokenizer.eos_token\n",
    "# bert_tokenizer = AutoTokenizer.from_pretrained('google-bert/bert-base-uncased')\n",
    "# bert_model = AutoModel.from_pretrained('google-bert/bert-base-uncased')\n",
    "# bert_tokenizer.pad_token = tokenizer.eos_token\n",
    "\n",
    "non_infringement_outputs, non_infringement_references, y_non_infringement, infringement_outputs, infringement_references, y_infringement = load_data(\n",
    "    non_infringement_file, infringement_file\n",
    ")\n",
    "\n",
    "y_non_infringement = np.array(y_non_infringement)\n",
    "y_infringement = np.array(y_infringement)\n"
   ]
  },
  {
   "cell_type": "code",
   "execution_count": 59,
   "metadata": {},
   "outputs": [],
   "source": [
    "from sklearn.decomposition import PCA\n",
    "\n",
    "pca = PCA(n_components=10)\n",
    "\n"
   ]
  },
  {
   "cell_type": "code",
   "execution_count": 61,
   "metadata": {},
   "outputs": [
    {
     "name": "stdout",
     "output_type": "stream",
     "text": [
      "Extracting hidden states for non_infringement texts...\n"
     ]
    },
    {
     "name": "stderr",
     "output_type": "stream",
     "text": [
      "Processing data batches: 100%|██████████| 373/373 [10:54<00:00,  1.76s/it]\n"
     ]
    },
    {
     "name": "stdout",
     "output_type": "stream",
     "text": [
      "Extracting reference embeddings for non_infringement texts...\n"
     ]
    },
    {
     "name": "stderr",
     "output_type": "stream",
     "text": [
      "Processing references: 100%|██████████| 373/373 [00:02<00:00, 162.31it/s]\n"
     ]
    },
    {
     "ename": "ValueError",
     "evalue": "all the input arrays must have same number of dimensions, but the array at index 0 has 3 dimension(s) and the array at index 1 has 2 dimension(s)",
     "output_type": "error",
     "traceback": [
      "\u001b[0;31m---------------------------------------------------------------------------\u001b[0m",
      "\u001b[0;31mValueError\u001b[0m                                Traceback (most recent call last)",
      "Cell \u001b[0;32mIn[61], line 9\u001b[0m\n\u001b[1;32m      4\u001b[0m reference_embeddings_non_infringement \u001b[38;5;241m=\u001b[39m extract_reference_embeddings(non_infringement_references)\n\u001b[1;32m      6\u001b[0m \u001b[38;5;66;03m# X_non_infringement = pca.fit_transform(X_non_infringement)\u001b[39;00m\n\u001b[1;32m      7\u001b[0m \u001b[38;5;66;03m# reference_embeddings_non_infringement = pca.fit_transform(reference_embeddings_non_infringement)\u001b[39;00m\n\u001b[0;32m----> 9\u001b[0m X_non_infringement_combined \u001b[38;5;241m=\u001b[39m \u001b[43mnp\u001b[49m\u001b[38;5;241;43m.\u001b[39;49m\u001b[43mhstack\u001b[49m\u001b[43m(\u001b[49m\u001b[43m[\u001b[49m\u001b[43mX_non_infringement\u001b[49m\u001b[43m,\u001b[49m\u001b[43m \u001b[49m\u001b[43mreference_embeddings_non_infringement\u001b[49m\u001b[43m]\u001b[49m\u001b[43m)\u001b[49m\n\u001b[1;32m     12\u001b[0m \u001b[38;5;28mprint\u001b[39m(\u001b[38;5;124m\"\u001b[39m\u001b[38;5;124mExtracting hidden states for infringement texts...\u001b[39m\u001b[38;5;124m\"\u001b[39m)\n\u001b[1;32m     13\u001b[0m X_infringement \u001b[38;5;241m=\u001b[39m extract_hidden_states(infringement_outputs, model, tokenizer)\n",
      "File \u001b[0;32m~/miniconda3/envs/zdh/lib/python3.9/site-packages/numpy/core/shape_base.py:359\u001b[0m, in \u001b[0;36mhstack\u001b[0;34m(tup, dtype, casting)\u001b[0m\n\u001b[1;32m    357\u001b[0m     \u001b[38;5;28;01mreturn\u001b[39;00m _nx\u001b[38;5;241m.\u001b[39mconcatenate(arrs, \u001b[38;5;241m0\u001b[39m, dtype\u001b[38;5;241m=\u001b[39mdtype, casting\u001b[38;5;241m=\u001b[39mcasting)\n\u001b[1;32m    358\u001b[0m \u001b[38;5;28;01melse\u001b[39;00m:\n\u001b[0;32m--> 359\u001b[0m     \u001b[38;5;28;01mreturn\u001b[39;00m \u001b[43m_nx\u001b[49m\u001b[38;5;241;43m.\u001b[39;49m\u001b[43mconcatenate\u001b[49m\u001b[43m(\u001b[49m\u001b[43marrs\u001b[49m\u001b[43m,\u001b[49m\u001b[43m \u001b[49m\u001b[38;5;241;43m1\u001b[39;49m\u001b[43m,\u001b[49m\u001b[43m \u001b[49m\u001b[43mdtype\u001b[49m\u001b[38;5;241;43m=\u001b[39;49m\u001b[43mdtype\u001b[49m\u001b[43m,\u001b[49m\u001b[43m \u001b[49m\u001b[43mcasting\u001b[49m\u001b[38;5;241;43m=\u001b[39;49m\u001b[43mcasting\u001b[49m\u001b[43m)\u001b[49m\n",
      "\u001b[0;31mValueError\u001b[0m: all the input arrays must have same number of dimensions, but the array at index 0 has 3 dimension(s) and the array at index 1 has 2 dimension(s)"
     ]
    }
   ],
   "source": [
    "print(\"Extracting hidden states for non_infringement texts...\")\n",
    "X_non_infringement = extract_hidden_states(non_infringement_outputs, model, tokenizer)\n",
    "print(\"Extracting reference embeddings for non_infringement texts...\")\n",
    "reference_embeddings_non_infringement = extract_reference_embeddings(non_infringement_references)\n",
    "\n",
    "# X_non_infringement = pca.fit_transform(X_non_infringement)\n",
    "# reference_embeddings_non_infringement = pca.fit_transform(reference_embeddings_non_infringement)\n",
    "\n",
    "X_non_infringement_combined = np.hstack([X_non_infringement, reference_embeddings_non_infringement])\n",
    "\n",
    "\n",
    "print(\"Extracting hidden states for infringement texts...\")\n",
    "X_infringement = extract_hidden_states(infringement_outputs, model, tokenizer)\n",
    "print(\"Extracting reference embeddings for infringement texts...\")\n",
    "reference_embeddings_infringement = extract_reference_embeddings(infringement_references)\n",
    "\n",
    "# X_infringement = pca.fit_transform(X_infringement)\n",
    "# reference_embeddings_infringement = pca.fit_transform(reference_embeddings_infringement)\n",
    "\n",
    "X_infringement_combined = np.hstack([X_infringement, reference_embeddings_infringement])"
   ]
  },
  {
   "cell_type": "code",
   "execution_count": 41,
   "metadata": {},
   "outputs": [
    {
     "name": "stdout",
     "output_type": "stream",
     "text": [
      "Data successfully split into training and test sets.\n"
     ]
    }
   ],
   "source": [
    "split_index_non_infringement = int(0.8 * len(X_non_infringement_combined))\n",
    "X_non_infringement_train = X_non_infringement_combined[:split_index_non_infringement]\n",
    "X_non_infringement_test = X_non_infringement_combined[split_index_non_infringement:]\n",
    "y_non_infringement_train = y_non_infringement[:split_index_non_infringement]\n",
    "y_non_infringement_test = y_non_infringement[split_index_non_infringement:]\n",
    "\n",
    "split_index_infringement = int(0.8 * len(X_infringement_combined))\n",
    "X_infringement_train = X_infringement_combined[:split_index_infringement]\n",
    "X_infringement_test = X_infringement_combined[split_index_infringement:]\n",
    "y_infringement_train = y_infringement[:split_index_infringement]\n",
    "y_infringement_test = y_infringement[split_index_infringement:]\n",
    "\n",
    "X_train = np.vstack((X_non_infringement_train, X_infringement_train))\n",
    "X_test = np.vstack((X_non_infringement_test, X_infringement_test))\n",
    "y_train = np.concatenate((y_non_infringement_train, y_infringement_train))\n",
    "y_test = np.concatenate((y_non_infringement_test, y_infringement_test))\n",
    "\n",
    "print(\"Data successfully split into training and test sets.\")"
   ]
  },
  {
   "cell_type": "code",
   "execution_count": 42,
   "metadata": {},
   "outputs": [
    {
     "name": "stdout",
     "output_type": "stream",
     "text": [
      "Training MLP model with input_dim=20 and hidden_dim=256\n"
     ]
    },
    {
     "name": "stderr",
     "output_type": "stream",
     "text": [
      "Training Epochs:   2%|▏         | 11/500 [00:00<00:04, 109.99it/s]"
     ]
    },
    {
     "name": "stdout",
     "output_type": "stream",
     "text": [
      "Epoch 10/500, Loss: 0.8529\n",
      "Test Accuracy at Epoch 10: 55.08%\n",
      "Classification Report at Epoch 10:\n",
      "                  precision    recall  f1-score   support\n",
      "\n",
      "    infringement       0.55      0.45      0.50       283\n",
      "non_infringement       0.55      0.64      0.60       298\n",
      "\n",
      "        accuracy                           0.55       581\n",
      "       macro avg       0.55      0.55      0.55       581\n",
      "    weighted avg       0.55      0.55      0.55       581\n",
      "\n",
      "New best model saved with accuracy 55.08% at epoch 10\n",
      "Best Classification Report at Epoch 10:\n",
      "                  precision    recall  f1-score   support\n",
      "\n",
      "    infringement       0.55      0.45      0.50       283\n",
      "non_infringement       0.55      0.64      0.60       298\n",
      "\n",
      "        accuracy                           0.55       581\n",
      "       macro avg       0.55      0.55      0.55       581\n",
      "    weighted avg       0.55      0.55      0.55       581\n",
      "\n",
      "Epoch 20/500, Loss: 0.2839\n",
      "Test Accuracy at Epoch 20: 72.98%\n",
      "Classification Report at Epoch 20:\n",
      "                  precision    recall  f1-score   support\n",
      "\n",
      "    infringement       0.68      0.86      0.76       283\n",
      "non_infringement       0.82      0.61      0.70       298\n",
      "\n",
      "        accuracy                           0.73       581\n",
      "       macro avg       0.75      0.73      0.73       581\n",
      "    weighted avg       0.75      0.73      0.73       581\n",
      "\n",
      "New best model saved with accuracy 72.98% at epoch 20\n",
      "Best Classification Report at Epoch 20:\n",
      "                  precision    recall  f1-score   support\n",
      "\n",
      "    infringement       0.68      0.86      0.76       283\n",
      "non_infringement       0.82      0.61      0.70       298\n",
      "\n",
      "        accuracy                           0.73       581\n",
      "       macro avg       0.75      0.73      0.73       581\n",
      "    weighted avg       0.75      0.73      0.73       581\n",
      "\n"
     ]
    },
    {
     "name": "stderr",
     "output_type": "stream",
     "text": [
      "Training Epochs:   9%|▉         | 46/500 [00:00<00:04, 103.34it/s]"
     ]
    },
    {
     "name": "stdout",
     "output_type": "stream",
     "text": [
      "Epoch 30/500, Loss: 0.1629\n",
      "Test Accuracy at Epoch 30: 76.94%\n",
      "Classification Report at Epoch 30:\n",
      "                  precision    recall  f1-score   support\n",
      "\n",
      "    infringement       0.71      0.89      0.79       283\n",
      "non_infringement       0.86      0.66      0.75       298\n",
      "\n",
      "        accuracy                           0.77       581\n",
      "       macro avg       0.79      0.77      0.77       581\n",
      "    weighted avg       0.79      0.77      0.77       581\n",
      "\n",
      "New best model saved with accuracy 76.94% at epoch 30\n",
      "Best Classification Report at Epoch 30:\n",
      "                  precision    recall  f1-score   support\n",
      "\n",
      "    infringement       0.71      0.89      0.79       283\n",
      "non_infringement       0.86      0.66      0.75       298\n",
      "\n",
      "        accuracy                           0.77       581\n",
      "       macro avg       0.79      0.77      0.77       581\n",
      "    weighted avg       0.79      0.77      0.77       581\n",
      "\n",
      "Epoch 40/500, Loss: 0.1103\n",
      "Test Accuracy at Epoch 40: 80.72%\n",
      "Classification Report at Epoch 40:\n",
      "                  precision    recall  f1-score   support\n",
      "\n",
      "    infringement       0.76      0.88      0.82       283\n",
      "non_infringement       0.87      0.73      0.80       298\n",
      "\n",
      "        accuracy                           0.81       581\n",
      "       macro avg       0.81      0.81      0.81       581\n",
      "    weighted avg       0.82      0.81      0.81       581\n",
      "\n",
      "New best model saved with accuracy 80.72% at epoch 40\n",
      "Best Classification Report at Epoch 40:\n",
      "                  precision    recall  f1-score   support\n",
      "\n",
      "    infringement       0.76      0.88      0.82       283\n",
      "non_infringement       0.87      0.73      0.80       298\n",
      "\n",
      "        accuracy                           0.81       581\n",
      "       macro avg       0.81      0.81      0.81       581\n",
      "    weighted avg       0.82      0.81      0.81       581\n",
      "\n",
      "Epoch 50/500, Loss: 0.0842\n",
      "Test Accuracy at Epoch 50: 83.13%\n",
      "Classification Report at Epoch 50:\n",
      "                  precision    recall  f1-score   support\n",
      "\n",
      "    infringement       0.78      0.91      0.84       283\n",
      "non_infringement       0.90      0.76      0.82       298\n",
      "\n",
      "        accuracy                           0.83       581\n",
      "       macro avg       0.84      0.83      0.83       581\n",
      "    weighted avg       0.84      0.83      0.83       581\n",
      "\n",
      "New best model saved with accuracy 83.13% at epoch 50\n",
      "Best Classification Report at Epoch 50:\n",
      "                  precision    recall  f1-score   support\n",
      "\n",
      "    infringement       0.78      0.91      0.84       283\n",
      "non_infringement       0.90      0.76      0.82       298\n",
      "\n",
      "        accuracy                           0.83       581\n",
      "       macro avg       0.84      0.83      0.83       581\n",
      "    weighted avg       0.84      0.83      0.83       581\n",
      "\n"
     ]
    },
    {
     "name": "stderr",
     "output_type": "stream",
     "text": [
      "Training Epochs:  14%|█▍        | 70/500 [00:00<00:05, 83.35it/s] "
     ]
    },
    {
     "name": "stdout",
     "output_type": "stream",
     "text": [
      "Epoch 60/500, Loss: 0.0689\n",
      "Test Accuracy at Epoch 60: 84.68%\n",
      "Classification Report at Epoch 60:\n",
      "                  precision    recall  f1-score   support\n",
      "\n",
      "    infringement       0.80      0.92      0.85       283\n",
      "non_infringement       0.91      0.78      0.84       298\n",
      "\n",
      "        accuracy                           0.85       581\n",
      "       macro avg       0.85      0.85      0.85       581\n",
      "    weighted avg       0.85      0.85      0.85       581\n",
      "\n",
      "New best model saved with accuracy 84.68% at epoch 60\n",
      "Best Classification Report at Epoch 60:\n",
      "                  precision    recall  f1-score   support\n",
      "\n",
      "    infringement       0.80      0.92      0.85       283\n",
      "non_infringement       0.91      0.78      0.84       298\n",
      "\n",
      "        accuracy                           0.85       581\n",
      "       macro avg       0.85      0.85      0.85       581\n",
      "    weighted avg       0.85      0.85      0.85       581\n",
      "\n",
      "Epoch 70/500, Loss: 0.0585\n",
      "Test Accuracy at Epoch 70: 85.71%\n",
      "Classification Report at Epoch 70:\n",
      "                  precision    recall  f1-score   support\n",
      "\n",
      "    infringement       0.81      0.92      0.86       283\n",
      "non_infringement       0.91      0.80      0.85       298\n",
      "\n",
      "        accuracy                           0.86       581\n",
      "       macro avg       0.86      0.86      0.86       581\n",
      "    weighted avg       0.86      0.86      0.86       581\n",
      "\n",
      "New best model saved with accuracy 85.71% at epoch 70\n",
      "Best Classification Report at Epoch 70:\n",
      "                  precision    recall  f1-score   support\n",
      "\n",
      "    infringement       0.81      0.92      0.86       283\n",
      "non_infringement       0.91      0.80      0.85       298\n",
      "\n",
      "        accuracy                           0.86       581\n",
      "       macro avg       0.86      0.86      0.86       581\n",
      "    weighted avg       0.86      0.86      0.86       581\n",
      "\n"
     ]
    },
    {
     "name": "stderr",
     "output_type": "stream",
     "text": [
      "Training Epochs:  18%|█▊        | 92/500 [00:00<00:04, 94.71it/s]"
     ]
    },
    {
     "name": "stdout",
     "output_type": "stream",
     "text": [
      "Epoch 80/500, Loss: 0.0510\n",
      "Test Accuracy at Epoch 80: 87.09%\n",
      "Classification Report at Epoch 80:\n",
      "                  precision    recall  f1-score   support\n",
      "\n",
      "    infringement       0.83      0.92      0.87       283\n",
      "non_infringement       0.91      0.83      0.87       298\n",
      "\n",
      "        accuracy                           0.87       581\n",
      "       macro avg       0.87      0.87      0.87       581\n",
      "    weighted avg       0.87      0.87      0.87       581\n",
      "\n",
      "New best model saved with accuracy 87.09% at epoch 80\n",
      "Best Classification Report at Epoch 80:\n",
      "                  precision    recall  f1-score   support\n",
      "\n",
      "    infringement       0.83      0.92      0.87       283\n",
      "non_infringement       0.91      0.83      0.87       298\n",
      "\n",
      "        accuracy                           0.87       581\n",
      "       macro avg       0.87      0.87      0.87       581\n",
      "    weighted avg       0.87      0.87      0.87       581\n",
      "\n",
      "Epoch 90/500, Loss: 0.0450\n",
      "Test Accuracy at Epoch 90: 87.44%\n",
      "Classification Report at Epoch 90:\n",
      "                  precision    recall  f1-score   support\n",
      "\n",
      "    infringement       0.84      0.92      0.88       283\n",
      "non_infringement       0.92      0.83      0.87       298\n",
      "\n",
      "        accuracy                           0.87       581\n",
      "       macro avg       0.88      0.88      0.87       581\n",
      "    weighted avg       0.88      0.87      0.87       581\n",
      "\n",
      "New best model saved with accuracy 87.44% at epoch 90\n",
      "Best Classification Report at Epoch 90:\n",
      "                  precision    recall  f1-score   support\n",
      "\n",
      "    infringement       0.84      0.92      0.88       283\n",
      "non_infringement       0.92      0.83      0.87       298\n",
      "\n",
      "        accuracy                           0.87       581\n",
      "       macro avg       0.88      0.88      0.87       581\n",
      "    weighted avg       0.88      0.87      0.87       581\n",
      "\n"
     ]
    },
    {
     "name": "stderr",
     "output_type": "stream",
     "text": [
      "Training Epochs:  23%|██▎       | 115/500 [00:01<00:04, 89.46it/s]"
     ]
    },
    {
     "name": "stdout",
     "output_type": "stream",
     "text": [
      "Epoch 100/500, Loss: 0.0401\n",
      "Test Accuracy at Epoch 100: 87.09%\n",
      "Classification Report at Epoch 100:\n",
      "                  precision    recall  f1-score   support\n",
      "\n",
      "    infringement       0.84      0.90      0.87       283\n",
      "non_infringement       0.90      0.84      0.87       298\n",
      "\n",
      "        accuracy                           0.87       581\n",
      "       macro avg       0.87      0.87      0.87       581\n",
      "    weighted avg       0.87      0.87      0.87       581\n",
      "\n",
      "Epoch 110/500, Loss: 0.0359\n",
      "Test Accuracy at Epoch 110: 87.09%\n",
      "Classification Report at Epoch 110:\n",
      "                  precision    recall  f1-score   support\n",
      "\n",
      "    infringement       0.84      0.90      0.87       283\n",
      "non_infringement       0.90      0.84      0.87       298\n",
      "\n",
      "        accuracy                           0.87       581\n",
      "       macro avg       0.87      0.87      0.87       581\n",
      "    weighted avg       0.87      0.87      0.87       581\n",
      "\n",
      "Epoch 120/500, Loss: 0.0322\n",
      "Test Accuracy at Epoch 120: 87.09%\n",
      "Classification Report at Epoch 120:\n",
      "                  precision    recall  f1-score   support\n",
      "\n",
      "    infringement       0.84      0.90      0.87       283\n",
      "non_infringement       0.90      0.84      0.87       298\n",
      "\n",
      "        accuracy                           0.87       581\n",
      "       macro avg       0.87      0.87      0.87       581\n",
      "    weighted avg       0.87      0.87      0.87       581\n",
      "\n"
     ]
    },
    {
     "name": "stderr",
     "output_type": "stream",
     "text": [
      "Training Epochs:  28%|██▊       | 139/500 [00:01<00:04, 88.36it/s]"
     ]
    },
    {
     "name": "stdout",
     "output_type": "stream",
     "text": [
      "Epoch 130/500, Loss: 0.0291\n",
      "Test Accuracy at Epoch 130: 87.09%\n",
      "Classification Report at Epoch 130:\n",
      "                  precision    recall  f1-score   support\n",
      "\n",
      "    infringement       0.84      0.90      0.87       283\n",
      "non_infringement       0.90      0.84      0.87       298\n",
      "\n",
      "        accuracy                           0.87       581\n",
      "       macro avg       0.87      0.87      0.87       581\n",
      "    weighted avg       0.87      0.87      0.87       581\n",
      "\n",
      "Epoch 140/500, Loss: 0.0263\n",
      "Test Accuracy at Epoch 140: 87.44%\n",
      "Classification Report at Epoch 140:\n",
      "                  precision    recall  f1-score   support\n",
      "\n",
      "    infringement       0.84      0.91      0.88       283\n",
      "non_infringement       0.91      0.84      0.87       298\n",
      "\n",
      "        accuracy                           0.87       581\n",
      "       macro avg       0.88      0.88      0.87       581\n",
      "    weighted avg       0.88      0.87      0.87       581\n",
      "\n"
     ]
    },
    {
     "name": "stderr",
     "output_type": "stream",
     "text": [
      "Training Epochs:  33%|███▎      | 163/500 [00:01<00:03, 102.36it/s]"
     ]
    },
    {
     "name": "stdout",
     "output_type": "stream",
     "text": [
      "Epoch 150/500, Loss: 0.0239\n",
      "Test Accuracy at Epoch 150: 87.44%\n",
      "Classification Report at Epoch 150:\n",
      "                  precision    recall  f1-score   support\n",
      "\n",
      "    infringement       0.84      0.91      0.88       283\n",
      "non_infringement       0.91      0.84      0.87       298\n",
      "\n",
      "        accuracy                           0.87       581\n",
      "       macro avg       0.88      0.88      0.87       581\n",
      "    weighted avg       0.88      0.87      0.87       581\n",
      "\n",
      "Epoch 160/500, Loss: 0.0217\n",
      "Test Accuracy at Epoch 160: 87.44%\n",
      "Classification Report at Epoch 160:\n",
      "                  precision    recall  f1-score   support\n",
      "\n",
      "    infringement       0.84      0.91      0.88       283\n",
      "non_infringement       0.91      0.84      0.87       298\n",
      "\n",
      "        accuracy                           0.87       581\n",
      "       macro avg       0.88      0.88      0.87       581\n",
      "    weighted avg       0.88      0.87      0.87       581\n",
      "\n",
      "Epoch 170/500, Loss: 0.0197\n",
      "Test Accuracy at Epoch 170: 87.61%\n",
      "Classification Report at Epoch 170:\n",
      "                  precision    recall  f1-score   support\n",
      "\n",
      "    infringement       0.84      0.92      0.88       283\n",
      "non_infringement       0.91      0.84      0.87       298\n",
      "\n",
      "        accuracy                           0.88       581\n",
      "       macro avg       0.88      0.88      0.88       581\n",
      "    weighted avg       0.88      0.88      0.88       581\n",
      "\n",
      "New best model saved with accuracy 87.61% at epoch 170\n",
      "Best Classification Report at Epoch 170:\n",
      "                  precision    recall  f1-score   support\n",
      "\n",
      "    infringement       0.84      0.92      0.88       283\n",
      "non_infringement       0.91      0.84      0.87       298\n",
      "\n",
      "        accuracy                           0.88       581\n",
      "       macro avg       0.88      0.88      0.88       581\n",
      "    weighted avg       0.88      0.88      0.88       581\n",
      "\n"
     ]
    },
    {
     "name": "stderr",
     "output_type": "stream",
     "text": [
      "Training Epochs:  40%|████      | 200/500 [00:02<00:02, 107.88it/s]"
     ]
    },
    {
     "name": "stdout",
     "output_type": "stream",
     "text": [
      "Epoch 180/500, Loss: 0.0180\n",
      "Test Accuracy at Epoch 180: 87.61%\n",
      "Classification Report at Epoch 180:\n",
      "                  precision    recall  f1-score   support\n",
      "\n",
      "    infringement       0.84      0.92      0.88       283\n",
      "non_infringement       0.91      0.84      0.87       298\n",
      "\n",
      "        accuracy                           0.88       581\n",
      "       macro avg       0.88      0.88      0.88       581\n",
      "    weighted avg       0.88      0.88      0.88       581\n",
      "\n",
      "Epoch 190/500, Loss: 0.0164\n",
      "Test Accuracy at Epoch 190: 87.95%\n",
      "Classification Report at Epoch 190:\n",
      "                  precision    recall  f1-score   support\n",
      "\n",
      "    infringement       0.85      0.92      0.88       283\n",
      "non_infringement       0.91      0.85      0.88       298\n",
      "\n",
      "        accuracy                           0.88       581\n",
      "       macro avg       0.88      0.88      0.88       581\n",
      "    weighted avg       0.88      0.88      0.88       581\n",
      "\n",
      "New best model saved with accuracy 87.95% at epoch 190\n",
      "Best Classification Report at Epoch 190:\n",
      "                  precision    recall  f1-score   support\n",
      "\n",
      "    infringement       0.85      0.92      0.88       283\n",
      "non_infringement       0.91      0.85      0.88       298\n",
      "\n",
      "        accuracy                           0.88       581\n",
      "       macro avg       0.88      0.88      0.88       581\n",
      "    weighted avg       0.88      0.88      0.88       581\n",
      "\n",
      "Epoch 200/500, Loss: 0.0150\n",
      "Test Accuracy at Epoch 200: 87.95%\n",
      "Classification Report at Epoch 200:\n",
      "                  precision    recall  f1-score   support\n",
      "\n",
      "    infringement       0.85      0.92      0.88       283\n",
      "non_infringement       0.91      0.85      0.88       298\n",
      "\n",
      "        accuracy                           0.88       581\n",
      "       macro avg       0.88      0.88      0.88       581\n",
      "    weighted avg       0.88      0.88      0.88       581\n",
      "\n"
     ]
    },
    {
     "name": "stderr",
     "output_type": "stream",
     "text": [
      "Training Epochs:  45%|████▌     | 225/500 [00:02<00:02, 104.02it/s]"
     ]
    },
    {
     "name": "stdout",
     "output_type": "stream",
     "text": [
      "Epoch 210/500, Loss: 0.0137\n",
      "Test Accuracy at Epoch 210: 87.95%\n",
      "Classification Report at Epoch 210:\n",
      "                  precision    recall  f1-score   support\n",
      "\n",
      "    infringement       0.85      0.92      0.88       283\n",
      "non_infringement       0.91      0.85      0.88       298\n",
      "\n",
      "        accuracy                           0.88       581\n",
      "       macro avg       0.88      0.88      0.88       581\n",
      "    weighted avg       0.88      0.88      0.88       581\n",
      "\n",
      "Epoch 220/500, Loss: 0.0126\n",
      "Test Accuracy at Epoch 220: 87.95%\n",
      "Classification Report at Epoch 220:\n",
      "                  precision    recall  f1-score   support\n",
      "\n",
      "    infringement       0.85      0.92      0.88       283\n",
      "non_infringement       0.91      0.85      0.88       298\n",
      "\n",
      "        accuracy                           0.88       581\n",
      "       macro avg       0.88      0.88      0.88       581\n",
      "    weighted avg       0.88      0.88      0.88       581\n",
      "\n"
     ]
    },
    {
     "name": "stderr",
     "output_type": "stream",
     "text": [
      "Training Epochs:  50%|█████     | 251/500 [00:02<00:02, 114.13it/s]"
     ]
    },
    {
     "name": "stdout",
     "output_type": "stream",
     "text": [
      "Epoch 230/500, Loss: 0.0115\n",
      "Test Accuracy at Epoch 230: 87.95%\n",
      "Classification Report at Epoch 230:\n",
      "                  precision    recall  f1-score   support\n",
      "\n",
      "    infringement       0.85      0.92      0.88       283\n",
      "non_infringement       0.91      0.85      0.88       298\n",
      "\n",
      "        accuracy                           0.88       581\n",
      "       macro avg       0.88      0.88      0.88       581\n",
      "    weighted avg       0.88      0.88      0.88       581\n",
      "\n",
      "Epoch 240/500, Loss: 0.0106\n",
      "Test Accuracy at Epoch 240: 87.95%\n",
      "Classification Report at Epoch 240:\n",
      "                  precision    recall  f1-score   support\n",
      "\n",
      "    infringement       0.85      0.92      0.88       283\n",
      "non_infringement       0.91      0.85      0.88       298\n",
      "\n",
      "        accuracy                           0.88       581\n",
      "       macro avg       0.88      0.88      0.88       581\n",
      "    weighted avg       0.88      0.88      0.88       581\n",
      "\n",
      "Epoch 250/500, Loss: 0.0097\n",
      "Test Accuracy at Epoch 250: 87.95%\n",
      "Classification Report at Epoch 250:\n",
      "                  precision    recall  f1-score   support\n",
      "\n",
      "    infringement       0.85      0.92      0.88       283\n",
      "non_infringement       0.91      0.85      0.88       298\n",
      "\n",
      "        accuracy                           0.88       581\n",
      "       macro avg       0.88      0.88      0.88       581\n",
      "    weighted avg       0.88      0.88      0.88       581\n",
      "\n"
     ]
    },
    {
     "name": "stderr",
     "output_type": "stream",
     "text": [
      "Training Epochs:  55%|█████▌    | 275/500 [00:02<00:02, 109.01it/s]"
     ]
    },
    {
     "name": "stdout",
     "output_type": "stream",
     "text": [
      "Epoch 260/500, Loss: 0.0090\n",
      "Test Accuracy at Epoch 260: 88.12%\n",
      "Classification Report at Epoch 260:\n",
      "                  precision    recall  f1-score   support\n",
      "\n",
      "    infringement       0.85      0.92      0.88       283\n",
      "non_infringement       0.92      0.85      0.88       298\n",
      "\n",
      "        accuracy                           0.88       581\n",
      "       macro avg       0.88      0.88      0.88       581\n",
      "    weighted avg       0.88      0.88      0.88       581\n",
      "\n",
      "New best model saved with accuracy 88.12% at epoch 260\n",
      "Best Classification Report at Epoch 260:\n",
      "                  precision    recall  f1-score   support\n",
      "\n",
      "    infringement       0.85      0.92      0.88       283\n",
      "non_infringement       0.92      0.85      0.88       298\n",
      "\n",
      "        accuracy                           0.88       581\n",
      "       macro avg       0.88      0.88      0.88       581\n",
      "    weighted avg       0.88      0.88      0.88       581\n",
      "\n",
      "Epoch 270/500, Loss: 0.0083\n",
      "Test Accuracy at Epoch 270: 88.12%\n",
      "Classification Report at Epoch 270:\n",
      "                  precision    recall  f1-score   support\n",
      "\n",
      "    infringement       0.85      0.92      0.88       283\n",
      "non_infringement       0.92      0.85      0.88       298\n",
      "\n",
      "        accuracy                           0.88       581\n",
      "       macro avg       0.88      0.88      0.88       581\n",
      "    weighted avg       0.88      0.88      0.88       581\n",
      "\n"
     ]
    },
    {
     "name": "stderr",
     "output_type": "stream",
     "text": [
      "Training Epochs:  60%|██████    | 300/500 [00:02<00:01, 111.53it/s]"
     ]
    },
    {
     "name": "stdout",
     "output_type": "stream",
     "text": [
      "Epoch 280/500, Loss: 0.0077\n",
      "Test Accuracy at Epoch 280: 88.12%\n",
      "Classification Report at Epoch 280:\n",
      "                  precision    recall  f1-score   support\n",
      "\n",
      "    infringement       0.85      0.92      0.88       283\n",
      "non_infringement       0.92      0.85      0.88       298\n",
      "\n",
      "        accuracy                           0.88       581\n",
      "       macro avg       0.88      0.88      0.88       581\n",
      "    weighted avg       0.88      0.88      0.88       581\n",
      "\n",
      "Epoch 290/500, Loss: 0.0071\n",
      "Test Accuracy at Epoch 290: 88.30%\n",
      "Classification Report at Epoch 290:\n",
      "                  precision    recall  f1-score   support\n",
      "\n",
      "    infringement       0.85      0.92      0.88       283\n",
      "non_infringement       0.92      0.85      0.88       298\n",
      "\n",
      "        accuracy                           0.88       581\n",
      "       macro avg       0.88      0.88      0.88       581\n",
      "    weighted avg       0.89      0.88      0.88       581\n",
      "\n",
      "New best model saved with accuracy 88.30% at epoch 290\n",
      "Best Classification Report at Epoch 290:\n",
      "                  precision    recall  f1-score   support\n",
      "\n",
      "    infringement       0.85      0.92      0.88       283\n",
      "non_infringement       0.92      0.85      0.88       298\n",
      "\n",
      "        accuracy                           0.88       581\n",
      "       macro avg       0.88      0.88      0.88       581\n",
      "    weighted avg       0.89      0.88      0.88       581\n",
      "\n",
      "Epoch 300/500, Loss: 0.0066\n",
      "Test Accuracy at Epoch 300: 88.30%\n",
      "Classification Report at Epoch 300:\n",
      "                  precision    recall  f1-score   support\n",
      "\n",
      "    infringement       0.85      0.92      0.88       283\n",
      "non_infringement       0.92      0.85      0.88       298\n",
      "\n",
      "        accuracy                           0.88       581\n",
      "       macro avg       0.88      0.88      0.88       581\n",
      "    weighted avg       0.89      0.88      0.88       581\n",
      "\n"
     ]
    },
    {
     "name": "stderr",
     "output_type": "stream",
     "text": [
      "Training Epochs:  65%|██████▌   | 325/500 [00:03<00:01, 107.18it/s]"
     ]
    },
    {
     "name": "stdout",
     "output_type": "stream",
     "text": [
      "Epoch 310/500, Loss: 0.0061\n",
      "Test Accuracy at Epoch 310: 88.30%\n",
      "Classification Report at Epoch 310:\n",
      "                  precision    recall  f1-score   support\n",
      "\n",
      "    infringement       0.85      0.92      0.88       283\n",
      "non_infringement       0.92      0.85      0.88       298\n",
      "\n",
      "        accuracy                           0.88       581\n",
      "       macro avg       0.88      0.88      0.88       581\n",
      "    weighted avg       0.89      0.88      0.88       581\n",
      "\n",
      "Epoch 320/500, Loss: 0.0057\n",
      "Test Accuracy at Epoch 320: 88.30%\n",
      "Classification Report at Epoch 320:\n",
      "                  precision    recall  f1-score   support\n",
      "\n",
      "    infringement       0.85      0.92      0.88       283\n",
      "non_infringement       0.92      0.85      0.88       298\n",
      "\n",
      "        accuracy                           0.88       581\n",
      "       macro avg       0.88      0.88      0.88       581\n",
      "    weighted avg       0.89      0.88      0.88       581\n",
      "\n",
      "Epoch 330/500, Loss: 0.0053\n",
      "Test Accuracy at Epoch 330: 88.30%\n",
      "Classification Report at Epoch 330:\n",
      "                  precision    recall  f1-score   support\n",
      "\n",
      "    infringement       0.85      0.92      0.88       283\n",
      "non_infringement       0.92      0.85      0.88       298\n",
      "\n",
      "        accuracy                           0.88       581\n",
      "       macro avg       0.88      0.88      0.88       581\n",
      "    weighted avg       0.89      0.88      0.88       581\n",
      "\n"
     ]
    },
    {
     "name": "stderr",
     "output_type": "stream",
     "text": [
      "Training Epochs:  70%|███████   | 350/500 [00:03<00:01, 95.26it/s] "
     ]
    },
    {
     "name": "stdout",
     "output_type": "stream",
     "text": [
      "Epoch 340/500, Loss: 0.0050\n",
      "Test Accuracy at Epoch 340: 88.30%\n",
      "Classification Report at Epoch 340:\n",
      "                  precision    recall  f1-score   support\n",
      "\n",
      "    infringement       0.85      0.92      0.88       283\n",
      "non_infringement       0.92      0.85      0.88       298\n",
      "\n",
      "        accuracy                           0.88       581\n",
      "       macro avg       0.88      0.88      0.88       581\n",
      "    weighted avg       0.89      0.88      0.88       581\n",
      "\n",
      "Epoch 350/500, Loss: 0.0047\n",
      "Test Accuracy at Epoch 350: 88.30%\n",
      "Classification Report at Epoch 350:\n",
      "                  precision    recall  f1-score   support\n",
      "\n",
      "    infringement       0.85      0.92      0.88       283\n",
      "non_infringement       0.92      0.85      0.88       298\n",
      "\n",
      "        accuracy                           0.88       581\n",
      "       macro avg       0.88      0.88      0.88       581\n",
      "    weighted avg       0.89      0.88      0.88       581\n",
      "\n"
     ]
    },
    {
     "name": "stderr",
     "output_type": "stream",
     "text": [
      "Training Epochs:  75%|███████▍  | 373/500 [00:03<00:01, 99.19it/s]"
     ]
    },
    {
     "name": "stdout",
     "output_type": "stream",
     "text": [
      "Epoch 360/500, Loss: 0.0044\n",
      "Test Accuracy at Epoch 360: 88.30%\n",
      "Classification Report at Epoch 360:\n",
      "                  precision    recall  f1-score   support\n",
      "\n",
      "    infringement       0.85      0.92      0.88       283\n",
      "non_infringement       0.92      0.85      0.88       298\n",
      "\n",
      "        accuracy                           0.88       581\n",
      "       macro avg       0.88      0.88      0.88       581\n",
      "    weighted avg       0.89      0.88      0.88       581\n",
      "\n",
      "Epoch 370/500, Loss: 0.0041\n",
      "Test Accuracy at Epoch 370: 88.30%\n",
      "Classification Report at Epoch 370:\n",
      "                  precision    recall  f1-score   support\n",
      "\n",
      "    infringement       0.85      0.92      0.88       283\n",
      "non_infringement       0.92      0.85      0.88       298\n",
      "\n",
      "        accuracy                           0.88       581\n",
      "       macro avg       0.88      0.88      0.88       581\n",
      "    weighted avg       0.89      0.88      0.88       581\n",
      "\n",
      "Epoch 380/500, Loss: 0.0039\n",
      "Test Accuracy at Epoch 380: 88.30%\n",
      "Classification Report at Epoch 380:\n",
      "                  precision    recall  f1-score   support\n",
      "\n",
      "    infringement       0.85      0.92      0.88       283\n",
      "non_infringement       0.92      0.85      0.88       298\n",
      "\n",
      "        accuracy                           0.88       581\n",
      "       macro avg       0.88      0.88      0.88       581\n",
      "    weighted avg       0.89      0.88      0.88       581\n",
      "\n"
     ]
    },
    {
     "name": "stderr",
     "output_type": "stream",
     "text": [
      "Training Epochs:  81%|████████▏ | 407/500 [00:04<00:00, 96.03it/s]"
     ]
    },
    {
     "name": "stdout",
     "output_type": "stream",
     "text": [
      "Epoch 390/500, Loss: 0.0036\n",
      "Test Accuracy at Epoch 390: 88.30%\n",
      "Classification Report at Epoch 390:\n",
      "                  precision    recall  f1-score   support\n",
      "\n",
      "    infringement       0.85      0.92      0.88       283\n",
      "non_infringement       0.92      0.85      0.88       298\n",
      "\n",
      "        accuracy                           0.88       581\n",
      "       macro avg       0.88      0.88      0.88       581\n",
      "    weighted avg       0.89      0.88      0.88       581\n",
      "\n",
      "Epoch 400/500, Loss: 0.0034\n",
      "Test Accuracy at Epoch 400: 88.30%\n",
      "Classification Report at Epoch 400:\n",
      "                  precision    recall  f1-score   support\n",
      "\n",
      "    infringement       0.85      0.92      0.88       283\n",
      "non_infringement       0.92      0.85      0.88       298\n",
      "\n",
      "        accuracy                           0.88       581\n",
      "       macro avg       0.88      0.88      0.88       581\n",
      "    weighted avg       0.89      0.88      0.88       581\n",
      "\n"
     ]
    },
    {
     "name": "stderr",
     "output_type": "stream",
     "text": [
      "Training Epochs:  84%|████████▍ | 419/500 [00:04<00:00, 89.34it/s]"
     ]
    },
    {
     "name": "stdout",
     "output_type": "stream",
     "text": [
      "Epoch 410/500, Loss: 0.0032\n",
      "Test Accuracy at Epoch 410: 88.30%\n",
      "Classification Report at Epoch 410:\n",
      "                  precision    recall  f1-score   support\n",
      "\n",
      "    infringement       0.85      0.92      0.88       283\n",
      "non_infringement       0.92      0.85      0.88       298\n",
      "\n",
      "        accuracy                           0.88       581\n",
      "       macro avg       0.88      0.88      0.88       581\n",
      "    weighted avg       0.89      0.88      0.88       581\n",
      "\n",
      "Epoch 420/500, Loss: 0.0031\n",
      "Test Accuracy at Epoch 420: 88.47%\n",
      "Classification Report at Epoch 420:\n",
      "                  precision    recall  f1-score   support\n",
      "\n",
      "    infringement       0.85      0.92      0.89       283\n",
      "non_infringement       0.92      0.85      0.88       298\n",
      "\n",
      "        accuracy                           0.88       581\n",
      "       macro avg       0.89      0.89      0.88       581\n",
      "    weighted avg       0.89      0.88      0.88       581\n",
      "\n",
      "New best model saved with accuracy 88.47% at epoch 420\n",
      "Best Classification Report at Epoch 420:\n",
      "                  precision    recall  f1-score   support\n",
      "\n",
      "    infringement       0.85      0.92      0.89       283\n",
      "non_infringement       0.92      0.85      0.88       298\n",
      "\n",
      "        accuracy                           0.88       581\n",
      "       macro avg       0.89      0.89      0.88       581\n",
      "    weighted avg       0.89      0.88      0.88       581\n",
      "\n"
     ]
    },
    {
     "name": "stderr",
     "output_type": "stream",
     "text": [
      "Training Epochs:  88%|████████▊ | 438/500 [00:04<00:00, 85.95it/s]"
     ]
    },
    {
     "name": "stdout",
     "output_type": "stream",
     "text": [
      "Epoch 430/500, Loss: 0.0029\n",
      "Test Accuracy at Epoch 430: 88.47%\n",
      "Classification Report at Epoch 430:\n",
      "                  precision    recall  f1-score   support\n",
      "\n",
      "    infringement       0.85      0.92      0.89       283\n",
      "non_infringement       0.92      0.85      0.88       298\n",
      "\n",
      "        accuracy                           0.88       581\n",
      "       macro avg       0.89      0.89      0.88       581\n",
      "    weighted avg       0.89      0.88      0.88       581\n",
      "\n",
      "Epoch 440/500, Loss: 0.0028\n",
      "Test Accuracy at Epoch 440: 88.64%\n",
      "Classification Report at Epoch 440:\n",
      "                  precision    recall  f1-score   support\n",
      "\n",
      "    infringement       0.85      0.93      0.89       283\n",
      "non_infringement       0.92      0.85      0.88       298\n",
      "\n",
      "        accuracy                           0.89       581\n",
      "       macro avg       0.89      0.89      0.89       581\n",
      "    weighted avg       0.89      0.89      0.89       581\n",
      "\n",
      "New best model saved with accuracy 88.64% at epoch 440\n",
      "Best Classification Report at Epoch 440:\n",
      "                  precision    recall  f1-score   support\n",
      "\n",
      "    infringement       0.85      0.93      0.89       283\n",
      "non_infringement       0.92      0.85      0.88       298\n",
      "\n",
      "        accuracy                           0.89       581\n",
      "       macro avg       0.89      0.89      0.89       581\n",
      "    weighted avg       0.89      0.89      0.89       581\n",
      "\n"
     ]
    },
    {
     "name": "stderr",
     "output_type": "stream",
     "text": [
      "Training Epochs:  94%|█████████▎| 468/500 [00:04<00:00, 90.64it/s]"
     ]
    },
    {
     "name": "stdout",
     "output_type": "stream",
     "text": [
      "Epoch 450/500, Loss: 0.0026\n",
      "Test Accuracy at Epoch 450: 88.64%\n",
      "Classification Report at Epoch 450:\n",
      "                  precision    recall  f1-score   support\n",
      "\n",
      "    infringement       0.85      0.93      0.89       283\n",
      "non_infringement       0.92      0.85      0.88       298\n",
      "\n",
      "        accuracy                           0.89       581\n",
      "       macro avg       0.89      0.89      0.89       581\n",
      "    weighted avg       0.89      0.89      0.89       581\n",
      "\n",
      "Epoch 460/500, Loss: 0.0025\n",
      "Test Accuracy at Epoch 460: 88.64%\n",
      "Classification Report at Epoch 460:\n",
      "                  precision    recall  f1-score   support\n",
      "\n",
      "    infringement       0.85      0.93      0.89       283\n",
      "non_infringement       0.92      0.85      0.88       298\n",
      "\n",
      "        accuracy                           0.89       581\n",
      "       macro avg       0.89      0.89      0.89       581\n",
      "    weighted avg       0.89      0.89      0.89       581\n",
      "\n",
      "Epoch 470/500, Loss: 0.0024\n",
      "Test Accuracy at Epoch 470: 88.64%\n",
      "Classification Report at Epoch 470:\n",
      "                  precision    recall  f1-score   support\n",
      "\n",
      "    infringement       0.85      0.93      0.89       283\n",
      "non_infringement       0.92      0.85      0.88       298\n",
      "\n",
      "        accuracy                           0.89       581\n",
      "       macro avg       0.89      0.89      0.89       581\n",
      "    weighted avg       0.89      0.89      0.89       581\n",
      "\n"
     ]
    },
    {
     "name": "stderr",
     "output_type": "stream",
     "text": [
      "Training Epochs:  98%|█████████▊| 490/500 [00:05<00:00, 88.47it/s]"
     ]
    },
    {
     "name": "stdout",
     "output_type": "stream",
     "text": [
      "Epoch 480/500, Loss: 0.0023\n",
      "Test Accuracy at Epoch 480: 88.64%\n",
      "Classification Report at Epoch 480:\n",
      "                  precision    recall  f1-score   support\n",
      "\n",
      "    infringement       0.85      0.93      0.89       283\n",
      "non_infringement       0.92      0.85      0.88       298\n",
      "\n",
      "        accuracy                           0.89       581\n",
      "       macro avg       0.89      0.89      0.89       581\n",
      "    weighted avg       0.89      0.89      0.89       581\n",
      "\n",
      "Epoch 490/500, Loss: 0.0021\n",
      "Test Accuracy at Epoch 490: 88.64%\n",
      "Classification Report at Epoch 490:\n",
      "                  precision    recall  f1-score   support\n",
      "\n",
      "    infringement       0.85      0.93      0.89       283\n",
      "non_infringement       0.92      0.85      0.88       298\n",
      "\n",
      "        accuracy                           0.89       581\n",
      "       macro avg       0.89      0.89      0.89       581\n",
      "    weighted avg       0.89      0.89      0.89       581\n",
      "\n"
     ]
    },
    {
     "name": "stderr",
     "output_type": "stream",
     "text": [
      "Training Epochs: 100%|██████████| 500/500 [00:05<00:00, 97.23it/s]"
     ]
    },
    {
     "name": "stdout",
     "output_type": "stream",
     "text": [
      "Epoch 500/500, Loss: 0.0020\n",
      "Test Accuracy at Epoch 500: 88.64%\n",
      "Classification Report at Epoch 500:\n",
      "                  precision    recall  f1-score   support\n",
      "\n",
      "    infringement       0.85      0.93      0.89       283\n",
      "non_infringement       0.92      0.85      0.88       298\n",
      "\n",
      "        accuracy                           0.89       581\n",
      "       macro avg       0.89      0.89      0.89       581\n",
      "    weighted avg       0.89      0.89      0.89       581\n",
      "\n"
     ]
    },
    {
     "name": "stderr",
     "output_type": "stream",
     "text": [
      "\n",
      "/tmp/ipykernel_3740431/1033092828.py:47: FutureWarning: You are using `torch.load` with `weights_only=False` (the current default value), which uses the default pickle module implicitly. It is possible to construct malicious pickle data which will execute arbitrary code during unpickling (See https://github.com/pytorch/pytorch/blob/main/SECURITY.md#untrusted-models for more details). In a future release, the default value for `weights_only` will be flipped to `True`. This limits the functions that could be executed during unpickling. Arbitrary objects will no longer be allowed to be loaded via this mode unless they are explicitly allowlisted by the user via `torch.serialization.add_safe_globals`. We recommend you start setting `weights_only=True` for any use case where you don't have full control of the loaded file. Please open an issue on GitHub for any issues related to this experimental feature.\n",
      "  custom_mlp.load_state_dict(torch.load(checkpoint_path))\n"
     ]
    },
    {
     "data": {
      "image/png": "[encoded data removed]",
      "text/plain": [
       "<Figure size 1000x500 with 1 Axes>"
      ]
     },
     "metadata": {},
     "output_type": "display_data"
    },
    {
     "name": "stdout",
     "output_type": "stream",
     "text": [
      "Final Model Accuracy: 88.64%\n"
     ]
    }
   ],
   "source": [
    "input_dim = X_train.shape[1]\n",
    "hidden_dim = 256 \n",
    "print(f\"Training MLP model with input_dim={input_dim} and hidden_dim={hidden_dim}\")\n",
    "\n",
    "custom_mlp, losses, best_accuracy = train_model(X_train, y_train, X_test, y_test, input_dim, hidden_dim)"
   ]
  },
  {
   "cell_type": "code",
   "execution_count": 43,
   "metadata": {},
   "outputs": [
    {
     "name": "stdout",
     "output_type": "stream",
     "text": [
      "Checkpoint saved to '/home/guangwei/LLM-COPYRIGHT/copyright_newVersion/models/train_input_reference_last_layer_test.pth'.\n"
     ]
    }
   ],
   "source": [
    "def save_checkpoint(model, optimizer, epoch, loss, filepath):\n",
    "    checkpoint = {\n",
    "        'epoch': epoch + 1,\n",
    "        'model_state_dict': model.state_dict(),\n",
    "        'optimizer_state_dict': optimizer.state_dict(),\n",
    "        'loss': loss\n",
    "    }\n",
    "    torch.save(checkpoint, filepath)\n",
    "    print(f\"Checkpoint saved to '{filepath}'.\")\n",
    "\n",
    "save_checkpoint(custom_mlp, torch.optim.Adam(custom_mlp.parameters()), len(losses), losses[-1], checkpoint_file)"
   ]
  },
  {
   "cell_type": "code",
   "execution_count": 44,
   "metadata": {},
   "outputs": [
    {
     "name": "stdout",
     "output_type": "stream",
     "text": [
      "                  precision    recall  f1-score   support\n",
      "\n",
      "    infringement       0.85      0.93      0.89       283\n",
      "non_infringement       0.92      0.85      0.88       298\n",
      "\n",
      "        accuracy                           0.89       581\n",
      "       macro avg       0.89      0.89      0.89       581\n",
      "    weighted avg       0.89      0.89      0.89       581\n",
      "\n"
     ]
    },
    {
     "name": "stderr",
     "output_type": "stream",
     "text": [
      "/tmp/ipykernel_3740431/2137335780.py:1: UserWarning: To copy construct from a tensor, it is recommended to use sourceTensor.clone().detach() or sourceTensor.clone().detach().requires_grad_(True), rather than torch.tensor(sourceTensor).\n",
      "  y_pred_final = (torch.sigmoid(torch.tensor(custom_mlp(torch.tensor(X_test, dtype=torch.float32)))) > 0.5).float().numpy()\n"
     ]
    }
   ],
   "source": [
    "y_pred_final = (torch.sigmoid(torch.tensor(custom_mlp(torch.tensor(X_test, dtype=torch.float32)))) > 0.5).float().numpy()\n",
    "print(classification_report(y_test, y_pred_final, target_names=[\"infringement\", \"non_infringement\"]))"
   ]
  }
 ],
 "metadata": {
  "kernelspec": {
   "display_name": "sit",
   "language": "python",
   "name": "python3"
  },
  "language_info": {
   "codemirror_mode": {
    "name": "ipython",
    "version": 3
   },
   "file_extension": ".py",
   "mimetype": "text/x-python",
   "name": "python",
   "nbconvert_exporter": "python",
   "pygments_lexer": "ipython3",
   "version": "3.9.20"
  }
 },
 "nbformat": 4,
 "nbformat_minor": 2
}
