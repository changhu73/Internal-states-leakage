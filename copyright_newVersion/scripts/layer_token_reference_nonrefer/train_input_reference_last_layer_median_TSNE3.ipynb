{
 "cells": [
  {
   "cell_type": "code",
   "execution_count": 1,
   "metadata": {},
   "outputs": [
    {
     "name": "stderr",
     "output_type": "stream",
     "text": [
      "/home/guangwei/miniconda3/envs/sit/lib/python3.9/site-packages/tqdm/auto.py:21: TqdmWarning: IProgress not found. Please update jupyter and ipywidgets. See https://ipywidgets.readthedocs.io/en/stable/user_install.html\n",
      "  from .autonotebook import tqdm as notebook_tqdm\n"
     ]
    }
   ],
   "source": [
    "# import packages & variables\n",
    "import argparse\n",
    "import torch\n",
    "import torch.nn as nn\n",
    "import numpy as np\n",
    "from sklearn.metrics import accuracy_score, classification_report\n",
    "import matplotlib.pyplot as plt\n",
    "from tqdm import tqdm\n",
    "from transformers import AutoTokenizer, AutoModelForCausalLM, AutoModel, AutoModelForSequenceClassification\n",
    "import json\n",
    "import os\n",
    "\n",
    "os.environ[\"CUDA_VISIBLE_DEVICES\"] = \"5\"\n",
    "\n",
    "# Parameters\n",
    "model_name = 'meta-llama/Meta-Llama-3.1-8B'\n",
    "non_infringement_file = '/home/guangwei/LLM-COPYRIGHT/copyright_newVersion/test_division/extra.non_infringement.json'\n",
    "infringement_file = '/home/guangwei/LLM-COPYRIGHT/copyright_newVersion/test_division/extra.infringement.json'\n",
    "checkpoint_file = '/home/guangwei/LLM-COPYRIGHT/copyright_newVersion/models/train_input_reference_last_layer_TSNE3.pth'\n"
   ]
  },
  {
   "cell_type": "code",
   "execution_count": 2,
   "metadata": {},
   "outputs": [],
   "source": [
    "# Define CustumMLP for internal states train\n",
    "class CustomMLP(nn.Module):\n",
    "    def __init__(self, input_dim, hidden_dim):\n",
    "        super(CustomMLP, self).__init__()\n",
    "        self.down = nn.Linear(input_dim, hidden_dim)\n",
    "        self.gate = nn.Linear(input_dim, hidden_dim)\n",
    "        self.up = nn.Linear(hidden_dim, 1)\n",
    "        self.activation = nn.SiLU()\n",
    "\n",
    "    def forward(self, x):\n",
    "        down_output = self.down(x)\n",
    "        gate_output = self.gate(x)\n",
    "        gated_output = down_output * self.activation(gate_output)\n",
    "        return self.up(gated_output)"
   ]
  },
  {
   "cell_type": "code",
   "execution_count": 3,
   "metadata": {},
   "outputs": [],
   "source": [
    "# Extract hidden states/reference embeddings\n",
    "from sklearn.manifold import TSNE\n",
    "def extract_hidden_states(texts, model, tokenizer, apply_tsne=True, n_components=3, batch_size=4):\n",
    "    device = torch.device(\"cuda\" if torch.cuda.is_available() else \"cpu\")\n",
    "    model.to(device)\n",
    "    model = nn.DataParallel(model)\n",
    "    hidden_states = []\n",
    "    for i in tqdm(range(0, len(texts), batch_size), desc=\"Processing data batches\"):\n",
    "        batch_texts = texts[i:i + batch_size]\n",
    "        inputs = tokenizer(batch_texts, return_tensors=\"pt\", padding=True, truncation=True)\n",
    "        with torch.no_grad():\n",
    "            outputs = model(**inputs)\n",
    "        hidden_state = outputs.hidden_states[-1].mean(dim=1).cpu().numpy()\n",
    "        hidden_states.append(hidden_state)\n",
    "\n",
    "    hidden_states = np.vstack(hidden_states)\n",
    "    if apply_tsne:\n",
    "        tsne = TSNE(n_components=n_components, random_state=42)\n",
    "        hidden_states = tsne.fit_transform(hidden_states)\n",
    "        print(f\"Hidden states reduced to {n_components} dimensions using t-SNE.\")\n",
    "        \n",
    "    return hidden_states\n",
    "\n",
    "def extract_reference_embeddings(references, model, tokenizer, batch_size=4):\n",
    "    device = torch.device(\"cuda\" if torch.cuda.is_available() else \"cpu\")\n",
    "    model.to(device)\n",
    "    model = nn.DataParallel(model)\n",
    "    embeddings = []\n",
    "    for i in tqdm(range(0, len(references), batch_size), desc=\"Processing references\"):\n",
    "        batch_references = references[i:i + batch_size]\n",
    "        inputs = tokenizer(batch_references, return_tensors=\"pt\", padding=True, truncation=True).to(device)\n",
    "        with torch.no_grad():\n",
    "            outputs = model(**inputs)\n",
    "        embeddings.append(outputs.pooler_output.cpu().numpy())\n",
    "    return np.vstack(embeddings)"
   ]
  },
  {
   "cell_type": "code",
   "execution_count": 4,
   "metadata": {},
   "outputs": [],
   "source": [
    "# load data for infringement & non infringement\n",
    "def load_data(non_infringement_file, infringement_file):\n",
    "    with open(non_infringement_file, 'r', encoding='utf-8') as file:\n",
    "        non_infringement_json_data = json.load(file)\n",
    "\n",
    "    non_infringement_outputs = [entry['input'] for entry in non_infringement_json_data]\n",
    "    non_infringement_references = [entry['reference'] for entry in non_infringement_json_data]\n",
    "    y_non_infringement = [1] * len(non_infringement_outputs)\n",
    "\n",
    "    with open(infringement_file, 'r', encoding='utf-8') as file:\n",
    "        infringement_json_data = json.load(file)\n",
    "\n",
    "    infringement_outputs = [entry['input'] for entry in infringement_json_data]\n",
    "    infringement_references = [entry['reference'] for entry in infringement_json_data]\n",
    "    y_infringement = [0] * len(infringement_outputs)\n",
    "\n",
    "    return non_infringement_outputs, non_infringement_references, y_non_infringement, infringement_outputs, infringement_references, y_infringement"
   ]
  },
  {
   "cell_type": "code",
   "execution_count": 5,
   "metadata": {},
   "outputs": [],
   "source": [
    "# Train for best model\n",
    "def train_model(X_train, y_train, X_test, y_test, input_dim, hidden_dim, epochs=2000, lr=0.001, checkpoint_path=checkpoint_file):\n",
    "    custom_mlp = CustomMLP(input_dim, hidden_dim)\n",
    "    criterion = nn.BCEWithLogitsLoss()\n",
    "    optimizer = torch.optim.Adam(custom_mlp.parameters(), lr=lr)\n",
    "\n",
    "    X_train_tensor = torch.tensor(X_train, dtype=torch.float32)\n",
    "    y_train_tensor = torch.tensor(y_train, dtype=torch.float32).unsqueeze(1)\n",
    "\n",
    "    best_accuracy = -float('inf')\n",
    "    best_model_state = None\n",
    "    best_epoch = 0\n",
    "    losses = []\n",
    "\n",
    "    for epoch in tqdm(range(epochs), desc=\"Training Epochs\"):\n",
    "        custom_mlp.train()\n",
    "        optimizer.zero_grad()\n",
    "        outputs = custom_mlp(X_train_tensor)\n",
    "        loss = criterion(outputs, y_train_tensor)\n",
    "        loss.backward()\n",
    "        optimizer.step()\n",
    "        losses.append(loss.item())\n",
    "\n",
    "        if (epoch + 1) % 10 == 0:\n",
    "            print(f\"Epoch {epoch + 1}/{epochs}, Loss: {loss.item():.4f}\")\n",
    "            \n",
    "            custom_mlp.eval()\n",
    "            X_test_tensor = torch.tensor(X_test, dtype=torch.float32)\n",
    "            with torch.no_grad():\n",
    "                y_pred_logits = custom_mlp(X_test_tensor)\n",
    "                y_pred = (torch.sigmoid(y_pred_logits) > 0.5).float().numpy()\n",
    "            \n",
    "            accuracy = accuracy_score(y_test, y_pred)\n",
    "            print(f\"Test Accuracy at Epoch {epoch + 1}: {accuracy * 100:.2f}%\")\n",
    "            \n",
    "            report = classification_report(y_test, y_pred, target_names=[\"infringement\", \"non_infringement\"])\n",
    "            print(f\"Classification Report at Epoch {epoch + 1}:\\n{report}\")\n",
    "\n",
    "            if accuracy > best_accuracy:\n",
    "                best_accuracy = accuracy\n",
    "                best_model_state = custom_mlp.state_dict()\n",
    "                best_epoch = epoch + 1\n",
    "                torch.save(best_model_state, checkpoint_path)\n",
    "                print(f\"New best model saved with accuracy {best_accuracy * 100:.2f}% at epoch {best_epoch}\")\n",
    "                print(f\"Best Classification Report at Epoch {best_epoch}:\\n{report}\")\n",
    "\n",
    "    custom_mlp.load_state_dict(torch.load(checkpoint_path))\n",
    "\n",
    "    plt.figure(figsize=(10, 5))\n",
    "    plt.plot(losses, label='Training Loss')\n",
    "    plt.xlabel('Epoch')\n",
    "    plt.ylabel('Loss')\n",
    "    plt.title('Training Loss Curve')\n",
    "    plt.legend()\n",
    "    plt.show()\n",
    "\n",
    "    print(f\"Final Model Accuracy: {best_accuracy * 100:.2f}%\")\n",
    "    \n",
    "    return custom_mlp, losses, best_accuracy"
   ]
  },
  {
   "cell_type": "code",
   "execution_count": 6,
   "metadata": {},
   "outputs": [
    {
     "name": "stderr",
     "output_type": "stream",
     "text": [
      "Loading checkpoint shards: 100%|██████████| 4/4 [00:03<00:00,  1.02it/s]\n",
      "/home/guangwei/miniconda3/envs/sit/lib/python3.9/site-packages/transformers/tokenization_utils_base.py:1601: FutureWarning: `clean_up_tokenization_spaces` was not set. It will be set to `True` by default. This behavior will be depracted in transformers v4.45, and will be then set to `False` by default. For more details check this issue: https://github.com/huggingface/transformers/issues/31884\n",
      "  warnings.warn(\n"
     ]
    }
   ],
   "source": [
    "tokenizer = AutoTokenizer.from_pretrained(model_name, model_max_length=512)\n",
    "model = AutoModelForCausalLM.from_pretrained(model_name, output_hidden_states=True)\n",
    "tokenizer.pad_token = tokenizer.eos_token\n",
    "bert_tokenizer = AutoTokenizer.from_pretrained('google-bert/bert-base-uncased')\n",
    "bert_model = AutoModel.from_pretrained('google-bert/bert-base-uncased')\n",
    "bert_tokenizer.pad_token = tokenizer.eos_token\n",
    "\n",
    "non_infringement_outputs, non_infringement_references, y_non_infringement, infringement_outputs, infringement_references, y_infringement = load_data(\n",
    "    non_infringement_file, infringement_file\n",
    ")\n",
    "\n",
    "y_non_infringement = np.array(y_non_infringement)\n",
    "y_infringement = np.array(y_infringement)\n"
   ]
  },
  {
   "cell_type": "code",
   "execution_count": 7,
   "metadata": {},
   "outputs": [
    {
     "name": "stdout",
     "output_type": "stream",
     "text": [
      "Extracting hidden states for non_infringement texts...\n"
     ]
    },
    {
     "name": "stderr",
     "output_type": "stream",
     "text": [
      "Processing data batches:   0%|          | 0/373 [00:00<?, ?it/s]We detected that you are passing `past_key_values` as a tuple and this is deprecated and will be removed in v4.43. Please use an appropriate `Cache` class (https://huggingface.co/docs/transformers/v4.41.3/en/internal/generation_utils#transformers.Cache)\n",
      "Processing data batches: 100%|██████████| 373/373 [01:51<00:00,  3.35it/s]\n",
      "huggingface/tokenizers: The current process just got forked, after parallelism has already been used. Disabling parallelism to avoid deadlocks...\n",
      "To disable this warning, you can either:\n",
      "\t- Avoid using `tokenizers` before the fork if possible\n",
      "\t- Explicitly set the environment variable TOKENIZERS_PARALLELISM=(true | false)\n",
      "huggingface/tokenizers: The current process just got forked, after parallelism has already been used. Disabling parallelism to avoid deadlocks...\n",
      "To disable this warning, you can either:\n",
      "\t- Avoid using `tokenizers` before the fork if possible\n",
      "\t- Explicitly set the environment variable TOKENIZERS_PARALLELISM=(true | false)\n"
     ]
    },
    {
     "name": "stdout",
     "output_type": "stream",
     "text": [
      "Hidden states reduced to 3 dimensions using t-SNE.\n",
      "Extracting reference embeddings for non_infringement texts...\n"
     ]
    },
    {
     "name": "stderr",
     "output_type": "stream",
     "text": [
      "Processing references: 100%|██████████| 373/373 [00:03<00:00, 97.54it/s] \n"
     ]
    },
    {
     "name": "stdout",
     "output_type": "stream",
     "text": [
      "Extracting hidden states for infringement texts...\n"
     ]
    },
    {
     "name": "stderr",
     "output_type": "stream",
     "text": [
      "Processing data batches: 100%|██████████| 354/354 [01:56<00:00,  3.04it/s]\n"
     ]
    },
    {
     "name": "stdout",
     "output_type": "stream",
     "text": [
      "Hidden states reduced to 3 dimensions using t-SNE.\n",
      "Extracting reference embeddings for infringement texts...\n"
     ]
    },
    {
     "name": "stderr",
     "output_type": "stream",
     "text": [
      "Processing references: 100%|██████████| 354/354 [00:03<00:00, 102.09it/s]\n"
     ]
    }
   ],
   "source": [
    "print(\"Extracting hidden states for non_infringement texts...\")\n",
    "X_non_infringement = extract_hidden_states(non_infringement_outputs, model, tokenizer)\n",
    "print(\"Extracting reference embeddings for non_infringement texts...\")\n",
    "reference_embeddings_non_infringement = extract_reference_embeddings(non_infringement_references, bert_model, bert_tokenizer)\n",
    "X_non_infringement_combined = np.hstack([X_non_infringement, reference_embeddings_non_infringement])\n",
    "\n",
    "print(\"Extracting hidden states for infringement texts...\")\n",
    "X_infringement = extract_hidden_states(infringement_outputs, model, tokenizer)\n",
    "print(\"Extracting reference embeddings for infringement texts...\")\n",
    "reference_embeddings_infringement = extract_reference_embeddings(infringement_references, bert_model, bert_tokenizer)\n",
    "X_infringement_combined = np.hstack([X_infringement, reference_embeddings_infringement])"
   ]
  },
  {
   "cell_type": "code",
   "execution_count": 8,
   "metadata": {},
   "outputs": [
    {
     "name": "stdout",
     "output_type": "stream",
     "text": [
      "Data successfully split into training and test sets.\n"
     ]
    }
   ],
   "source": [
    "split_index_non_infringement = int(0.8 * len(X_non_infringement_combined))\n",
    "X_non_infringement_train = X_non_infringement_combined[:split_index_non_infringement]\n",
    "X_non_infringement_test = X_non_infringement_combined[split_index_non_infringement:]\n",
    "y_non_infringement_train = y_non_infringement[:split_index_non_infringement]\n",
    "y_non_infringement_test = y_non_infringement[split_index_non_infringement:]\n",
    "\n",
    "split_index_infringement = int(0.8 * len(X_infringement_combined))\n",
    "X_infringement_train = X_infringement_combined[:split_index_infringement]\n",
    "X_infringement_test = X_infringement_combined[split_index_infringement:]\n",
    "y_infringement_train = y_infringement[:split_index_infringement]\n",
    "y_infringement_test = y_infringement[split_index_infringement:]\n",
    "\n",
    "X_train = np.vstack((X_non_infringement_train, X_infringement_train))\n",
    "X_test = np.vstack((X_non_infringement_test, X_infringement_test))\n",
    "y_train = np.concatenate((y_non_infringement_train, y_infringement_train))\n",
    "y_test = np.concatenate((y_non_infringement_test, y_infringement_test))\n",
    "\n",
    "print(\"Data successfully split into training and test sets.\")"
   ]
  },
  {
   "cell_type": "code",
   "execution_count": 9,
   "metadata": {},
   "outputs": [
    {
     "name": "stdout",
     "output_type": "stream",
     "text": [
      "Training MLP model with input_dim=771 and hidden_dim=256\n"
     ]
    },
    {
     "name": "stderr",
     "output_type": "stream",
     "text": [
      "Training Epochs:   0%|          | 0/2000 [00:00<?, ?it/s]"
     ]
    },
    {
     "name": "stderr",
     "output_type": "stream",
     "text": [
      "Training Epochs:   1%|          | 21/2000 [00:00<00:37, 52.22it/s]"
     ]
    },
    {
     "name": "stdout",
     "output_type": "stream",
     "text": [
      "Epoch 10/2000, Loss: 0.5427\n",
      "Test Accuracy at Epoch 10: 57.83%\n",
      "Classification Report at Epoch 10:\n",
      "                  precision    recall  f1-score   support\n",
      "\n",
      "    infringement       0.58      0.47      0.52       283\n",
      "non_infringement       0.58      0.68      0.62       298\n",
      "\n",
      "        accuracy                           0.58       581\n",
      "       macro avg       0.58      0.58      0.57       581\n",
      "    weighted avg       0.58      0.58      0.57       581\n",
      "\n",
      "New best model saved with accuracy 57.83% at epoch 10\n",
      "Best Classification Report at Epoch 10:\n",
      "                  precision    recall  f1-score   support\n",
      "\n",
      "    infringement       0.58      0.47      0.52       283\n",
      "non_infringement       0.58      0.68      0.62       298\n",
      "\n",
      "        accuracy                           0.58       581\n",
      "       macro avg       0.58      0.58      0.57       581\n",
      "    weighted avg       0.58      0.58      0.57       581\n",
      "\n",
      "Epoch 20/2000, Loss: 0.4448\n",
      "Test Accuracy at Epoch 20: 57.31%\n",
      "Classification Report at Epoch 20:\n",
      "                  precision    recall  f1-score   support\n",
      "\n",
      "    infringement       0.56      0.54      0.55       283\n",
      "non_infringement       0.58      0.60      0.59       298\n",
      "\n",
      "        accuracy                           0.57       581\n",
      "       macro avg       0.57      0.57      0.57       581\n",
      "    weighted avg       0.57      0.57      0.57       581\n",
      "\n"
     ]
    },
    {
     "name": "stderr",
     "output_type": "stream",
     "text": [
      "Training Epochs:   2%|▏         | 41/2000 [00:00<00:36, 54.31it/s]"
     ]
    },
    {
     "name": "stdout",
     "output_type": "stream",
     "text": [
      "Epoch 30/2000, Loss: 0.3497\n",
      "Test Accuracy at Epoch 30: 58.18%\n",
      "Classification Report at Epoch 30:\n",
      "                  precision    recall  f1-score   support\n",
      "\n",
      "    infringement       0.57      0.55      0.56       283\n",
      "non_infringement       0.59      0.61      0.60       298\n",
      "\n",
      "        accuracy                           0.58       581\n",
      "       macro avg       0.58      0.58      0.58       581\n",
      "    weighted avg       0.58      0.58      0.58       581\n",
      "\n",
      "New best model saved with accuracy 58.18% at epoch 30\n",
      "Best Classification Report at Epoch 30:\n",
      "                  precision    recall  f1-score   support\n",
      "\n",
      "    infringement       0.57      0.55      0.56       283\n",
      "non_infringement       0.59      0.61      0.60       298\n",
      "\n",
      "        accuracy                           0.58       581\n",
      "       macro avg       0.58      0.58      0.58       581\n",
      "    weighted avg       0.58      0.58      0.58       581\n",
      "\n",
      "Epoch 40/2000, Loss: 0.2733\n",
      "Test Accuracy at Epoch 40: 64.72%\n",
      "Classification Report at Epoch 40:\n",
      "                  precision    recall  f1-score   support\n",
      "\n",
      "    infringement       0.65      0.59      0.62       283\n",
      "non_infringement       0.64      0.70      0.67       298\n",
      "\n",
      "        accuracy                           0.65       581\n",
      "       macro avg       0.65      0.65      0.65       581\n",
      "    weighted avg       0.65      0.65      0.65       581\n",
      "\n",
      "New best model saved with accuracy 64.72% at epoch 40\n",
      "Best Classification Report at Epoch 40:\n",
      "                  precision    recall  f1-score   support\n",
      "\n",
      "    infringement       0.65      0.59      0.62       283\n",
      "non_infringement       0.64      0.70      0.67       298\n",
      "\n",
      "        accuracy                           0.65       581\n",
      "       macro avg       0.65      0.65      0.65       581\n",
      "    weighted avg       0.65      0.65      0.65       581\n",
      "\n"
     ]
    },
    {
     "name": "stderr",
     "output_type": "stream",
     "text": [
      "Training Epochs:   3%|▎         | 56/2000 [00:01<00:36, 52.94it/s]"
     ]
    },
    {
     "name": "stdout",
     "output_type": "stream",
     "text": [
      "Epoch 50/2000, Loss: 0.2077\n",
      "Test Accuracy at Epoch 50: 69.19%\n",
      "Classification Report at Epoch 50:\n",
      "                  precision    recall  f1-score   support\n",
      "\n",
      "    infringement       0.69      0.67      0.68       283\n",
      "non_infringement       0.70      0.71      0.70       298\n",
      "\n",
      "        accuracy                           0.69       581\n",
      "       macro avg       0.69      0.69      0.69       581\n",
      "    weighted avg       0.69      0.69      0.69       581\n",
      "\n",
      "New best model saved with accuracy 69.19% at epoch 50\n",
      "Best Classification Report at Epoch 50:\n",
      "                  precision    recall  f1-score   support\n",
      "\n",
      "    infringement       0.69      0.67      0.68       283\n",
      "non_infringement       0.70      0.71      0.70       298\n",
      "\n",
      "        accuracy                           0.69       581\n",
      "       macro avg       0.69      0.69      0.69       581\n",
      "    weighted avg       0.69      0.69      0.69       581\n",
      "\n"
     ]
    },
    {
     "name": "stderr",
     "output_type": "stream",
     "text": [
      "Training Epochs:   4%|▎         | 70/2000 [00:01<00:32, 58.93it/s]"
     ]
    },
    {
     "name": "stdout",
     "output_type": "stream",
     "text": [
      "Epoch 60/2000, Loss: 0.1527\n",
      "Test Accuracy at Epoch 60: 71.43%\n",
      "Classification Report at Epoch 60:\n",
      "                  precision    recall  f1-score   support\n",
      "\n",
      "    infringement       0.74      0.63      0.68       283\n",
      "non_infringement       0.69      0.80      0.74       298\n",
      "\n",
      "        accuracy                           0.71       581\n",
      "       macro avg       0.72      0.71      0.71       581\n",
      "    weighted avg       0.72      0.71      0.71       581\n",
      "\n",
      "New best model saved with accuracy 71.43% at epoch 60\n",
      "Best Classification Report at Epoch 60:\n",
      "                  precision    recall  f1-score   support\n",
      "\n",
      "    infringement       0.74      0.63      0.68       283\n",
      "non_infringement       0.69      0.80      0.74       298\n",
      "\n",
      "        accuracy                           0.71       581\n",
      "       macro avg       0.72      0.71      0.71       581\n",
      "    weighted avg       0.72      0.71      0.71       581\n",
      "\n",
      "Epoch 70/2000, Loss: 0.1126\n",
      "Test Accuracy at Epoch 70: 72.29%\n",
      "Classification Report at Epoch 70:\n",
      "                  precision    recall  f1-score   support\n",
      "\n",
      "    infringement       0.75      0.65      0.70       283\n",
      "non_infringement       0.70      0.79      0.75       298\n",
      "\n",
      "        accuracy                           0.72       581\n",
      "       macro avg       0.73      0.72      0.72       581\n",
      "    weighted avg       0.73      0.72      0.72       581\n",
      "\n",
      "New best model saved with accuracy 72.29% at epoch 70\n",
      "Best Classification Report at Epoch 70:\n",
      "                  precision    recall  f1-score   support\n",
      "\n",
      "    infringement       0.75      0.65      0.70       283\n",
      "non_infringement       0.70      0.79      0.75       298\n",
      "\n",
      "        accuracy                           0.72       581\n",
      "       macro avg       0.73      0.72      0.72       581\n",
      "    weighted avg       0.73      0.72      0.72       581\n",
      "\n"
     ]
    },
    {
     "name": "stderr",
     "output_type": "stream",
     "text": [
      "Training Epochs:   4%|▍         | 90/2000 [00:01<00:33, 57.02it/s]"
     ]
    },
    {
     "name": "stdout",
     "output_type": "stream",
     "text": [
      "Epoch 80/2000, Loss: 0.0846\n",
      "Test Accuracy at Epoch 80: 74.87%\n",
      "Classification Report at Epoch 80:\n",
      "                  precision    recall  f1-score   support\n",
      "\n",
      "    infringement       0.82      0.63      0.71       283\n",
      "non_infringement       0.71      0.87      0.78       298\n",
      "\n",
      "        accuracy                           0.75       581\n",
      "       macro avg       0.76      0.75      0.74       581\n",
      "    weighted avg       0.76      0.75      0.74       581\n",
      "\n",
      "New best model saved with accuracy 74.87% at epoch 80\n",
      "Best Classification Report at Epoch 80:\n",
      "                  precision    recall  f1-score   support\n",
      "\n",
      "    infringement       0.82      0.63      0.71       283\n",
      "non_infringement       0.71      0.87      0.78       298\n",
      "\n",
      "        accuracy                           0.75       581\n",
      "       macro avg       0.76      0.75      0.74       581\n",
      "    weighted avg       0.76      0.75      0.74       581\n",
      "\n",
      "Epoch 90/2000, Loss: 0.0640\n",
      "Test Accuracy at Epoch 90: 75.90%\n",
      "Classification Report at Epoch 90:\n",
      "                  precision    recall  f1-score   support\n",
      "\n",
      "    infringement       0.85      0.62      0.71       283\n",
      "non_infringement       0.71      0.89      0.79       298\n",
      "\n",
      "        accuracy                           0.76       581\n",
      "       macro avg       0.78      0.76      0.75       581\n",
      "    weighted avg       0.78      0.76      0.75       581\n",
      "\n",
      "New best model saved with accuracy 75.90% at epoch 90\n",
      "Best Classification Report at Epoch 90:\n",
      "                  precision    recall  f1-score   support\n",
      "\n",
      "    infringement       0.85      0.62      0.71       283\n",
      "non_infringement       0.71      0.89      0.79       298\n",
      "\n",
      "        accuracy                           0.76       581\n",
      "       macro avg       0.78      0.76      0.75       581\n",
      "    weighted avg       0.78      0.76      0.75       581\n",
      "\n"
     ]
    },
    {
     "name": "stderr",
     "output_type": "stream",
     "text": [
      "Training Epochs:   6%|▌         | 110/2000 [00:02<00:40, 46.68it/s]"
     ]
    },
    {
     "name": "stdout",
     "output_type": "stream",
     "text": [
      "Epoch 100/2000, Loss: 0.0489\n",
      "Test Accuracy at Epoch 100: 75.04%\n",
      "Classification Report at Epoch 100:\n",
      "                  precision    recall  f1-score   support\n",
      "\n",
      "    infringement       0.80      0.65      0.72       283\n",
      "non_infringement       0.72      0.85      0.78       298\n",
      "\n",
      "        accuracy                           0.75       581\n",
      "       macro avg       0.76      0.75      0.75       581\n",
      "    weighted avg       0.76      0.75      0.75       581\n",
      "\n",
      "Epoch 110/2000, Loss: 0.0355\n",
      "Test Accuracy at Epoch 110: 76.94%\n",
      "Classification Report at Epoch 110:\n",
      "                  precision    recall  f1-score   support\n",
      "\n",
      "    infringement       0.85      0.64      0.73       283\n",
      "non_infringement       0.72      0.89      0.80       298\n",
      "\n",
      "        accuracy                           0.77       581\n",
      "       macro avg       0.79      0.77      0.76       581\n",
      "    weighted avg       0.78      0.77      0.77       581\n",
      "\n",
      "New best model saved with accuracy 76.94% at epoch 110\n",
      "Best Classification Report at Epoch 110:\n",
      "                  precision    recall  f1-score   support\n",
      "\n",
      "    infringement       0.85      0.64      0.73       283\n",
      "non_infringement       0.72      0.89      0.80       298\n",
      "\n",
      "        accuracy                           0.77       581\n",
      "       macro avg       0.79      0.77      0.76       581\n",
      "    weighted avg       0.78      0.77      0.77       581\n",
      "\n"
     ]
    },
    {
     "name": "stderr",
     "output_type": "stream",
     "text": [
      "Training Epochs:   6%|▌         | 123/2000 [00:02<00:36, 51.23it/s]"
     ]
    },
    {
     "name": "stdout",
     "output_type": "stream",
     "text": [
      "Epoch 120/2000, Loss: 0.0254\n",
      "Test Accuracy at Epoch 120: 76.42%\n",
      "Classification Report at Epoch 120:\n",
      "                  precision    recall  f1-score   support\n",
      "\n",
      "    infringement       0.83      0.65      0.73       283\n",
      "non_infringement       0.73      0.87      0.79       298\n",
      "\n",
      "        accuracy                           0.76       581\n",
      "       macro avg       0.78      0.76      0.76       581\n",
      "    weighted avg       0.77      0.76      0.76       581\n",
      "\n"
     ]
    },
    {
     "name": "stderr",
     "output_type": "stream",
     "text": [
      "Training Epochs:   7%|▋         | 142/2000 [00:02<00:39, 47.61it/s]"
     ]
    },
    {
     "name": "stdout",
     "output_type": "stream",
     "text": [
      "Epoch 130/2000, Loss: 0.0180\n",
      "Test Accuracy at Epoch 130: 76.94%\n",
      "Classification Report at Epoch 130:\n",
      "                  precision    recall  f1-score   support\n",
      "\n",
      "    infringement       0.85      0.64      0.73       283\n",
      "non_infringement       0.72      0.89      0.80       298\n",
      "\n",
      "        accuracy                           0.77       581\n",
      "       macro avg       0.79      0.77      0.76       581\n",
      "    weighted avg       0.78      0.77      0.77       581\n",
      "\n",
      "Epoch 140/2000, Loss: 0.0129\n",
      "Test Accuracy at Epoch 140: 76.76%\n",
      "Classification Report at Epoch 140:\n",
      "                  precision    recall  f1-score   support\n",
      "\n",
      "    infringement       0.84      0.64      0.73       283\n",
      "non_infringement       0.72      0.89      0.80       298\n",
      "\n",
      "        accuracy                           0.77       581\n",
      "       macro avg       0.78      0.76      0.76       581\n",
      "    weighted avg       0.78      0.77      0.76       581\n",
      "\n"
     ]
    },
    {
     "name": "stderr",
     "output_type": "stream",
     "text": [
      "Training Epochs:   8%|▊         | 157/2000 [00:03<00:34, 52.70it/s]"
     ]
    },
    {
     "name": "stdout",
     "output_type": "stream",
     "text": [
      "Epoch 150/2000, Loss: 0.0095\n",
      "Test Accuracy at Epoch 150: 76.76%\n",
      "Classification Report at Epoch 150:\n",
      "                  precision    recall  f1-score   support\n",
      "\n",
      "    infringement       0.84      0.64      0.73       283\n",
      "non_infringement       0.72      0.89      0.80       298\n",
      "\n",
      "        accuracy                           0.77       581\n",
      "       macro avg       0.78      0.76      0.76       581\n",
      "    weighted avg       0.78      0.77      0.76       581\n",
      "\n",
      "Epoch 160/2000, Loss: 0.0071\n",
      "Test Accuracy at Epoch 160: 75.90%\n",
      "Classification Report at Epoch 160:\n",
      "                  precision    recall  f1-score   support\n",
      "\n",
      "    infringement       0.83      0.63      0.72       283\n",
      "non_infringement       0.72      0.88      0.79       298\n",
      "\n",
      "        accuracy                           0.76       581\n",
      "       macro avg       0.77      0.76      0.75       581\n",
      "    weighted avg       0.77      0.76      0.75       581\n",
      "\n"
     ]
    },
    {
     "name": "stderr",
     "output_type": "stream",
     "text": [
      "Training Epochs:   9%|▉         | 176/2000 [00:03<00:36, 50.67it/s]"
     ]
    },
    {
     "name": "stdout",
     "output_type": "stream",
     "text": [
      "Epoch 170/2000, Loss: 0.0055\n",
      "Test Accuracy at Epoch 170: 75.90%\n",
      "Classification Report at Epoch 170:\n",
      "                  precision    recall  f1-score   support\n",
      "\n",
      "    infringement       0.83      0.63      0.72       283\n",
      "non_infringement       0.72      0.88      0.79       298\n",
      "\n",
      "        accuracy                           0.76       581\n",
      "       macro avg       0.77      0.76      0.75       581\n",
      "    weighted avg       0.77      0.76      0.75       581\n",
      "\n"
     ]
    },
    {
     "name": "stderr",
     "output_type": "stream",
     "text": [
      "Training Epochs:   9%|▉         | 189/2000 [00:03<00:33, 54.70it/s]"
     ]
    },
    {
     "name": "stdout",
     "output_type": "stream",
     "text": [
      "Epoch 180/2000, Loss: 0.0043\n",
      "Test Accuracy at Epoch 180: 75.90%\n",
      "Classification Report at Epoch 180:\n",
      "                  precision    recall  f1-score   support\n",
      "\n",
      "    infringement       0.83      0.63      0.72       283\n",
      "non_infringement       0.72      0.88      0.79       298\n",
      "\n",
      "        accuracy                           0.76       581\n",
      "       macro avg       0.77      0.76      0.75       581\n",
      "    weighted avg       0.77      0.76      0.75       581\n",
      "\n",
      "Epoch 190/2000, Loss: 0.0035\n",
      "Test Accuracy at Epoch 190: 75.73%\n",
      "Classification Report at Epoch 190:\n",
      "                  precision    recall  f1-score   support\n",
      "\n",
      "    infringement       0.83      0.63      0.72       283\n",
      "non_infringement       0.71      0.88      0.79       298\n",
      "\n",
      "        accuracy                           0.76       581\n",
      "       macro avg       0.77      0.75      0.75       581\n",
      "    weighted avg       0.77      0.76      0.75       581\n",
      "\n"
     ]
    },
    {
     "name": "stderr",
     "output_type": "stream",
     "text": [
      "Training Epochs:  10%|█         | 210/2000 [00:04<00:29, 59.76it/s]"
     ]
    },
    {
     "name": "stdout",
     "output_type": "stream",
     "text": [
      "Epoch 200/2000, Loss: 0.0029\n",
      "Test Accuracy at Epoch 200: 75.73%\n",
      "Classification Report at Epoch 200:\n",
      "                  precision    recall  f1-score   support\n",
      "\n",
      "    infringement       0.83      0.63      0.72       283\n",
      "non_infringement       0.71      0.88      0.79       298\n",
      "\n",
      "        accuracy                           0.76       581\n",
      "       macro avg       0.77      0.75      0.75       581\n",
      "    weighted avg       0.77      0.76      0.75       581\n",
      "\n",
      "Epoch 210/2000, Loss: 0.0024\n",
      "Test Accuracy at Epoch 210: 75.73%\n",
      "Classification Report at Epoch 210:\n",
      "                  precision    recall  f1-score   support\n",
      "\n",
      "    infringement       0.83      0.63      0.72       283\n",
      "non_infringement       0.71      0.88      0.79       298\n",
      "\n",
      "        accuracy                           0.76       581\n",
      "       macro avg       0.77      0.75      0.75       581\n",
      "    weighted avg       0.77      0.76      0.75       581\n",
      "\n"
     ]
    },
    {
     "name": "stderr",
     "output_type": "stream",
     "text": [
      "Training Epochs:  12%|█▏        | 233/2000 [00:04<00:27, 64.82it/s]"
     ]
    },
    {
     "name": "stdout",
     "output_type": "stream",
     "text": [
      "Epoch 220/2000, Loss: 0.0021\n",
      "Test Accuracy at Epoch 220: 75.73%\n",
      "Classification Report at Epoch 220:\n",
      "                  precision    recall  f1-score   support\n",
      "\n",
      "    infringement       0.83      0.63      0.72       283\n",
      "non_infringement       0.71      0.88      0.79       298\n",
      "\n",
      "        accuracy                           0.76       581\n",
      "       macro avg       0.77      0.75      0.75       581\n",
      "    weighted avg       0.77      0.76      0.75       581\n",
      "\n",
      "Epoch 230/2000, Loss: 0.0018\n",
      "Test Accuracy at Epoch 230: 75.73%\n",
      "Classification Report at Epoch 230:\n",
      "                  precision    recall  f1-score   support\n",
      "\n",
      "    infringement       0.83      0.63      0.72       283\n",
      "non_infringement       0.71      0.88      0.79       298\n",
      "\n",
      "        accuracy                           0.76       581\n",
      "       macro avg       0.77      0.75      0.75       581\n",
      "    weighted avg       0.77      0.76      0.75       581\n",
      "\n",
      "Epoch 240/2000, Loss: 0.0015\n",
      "Test Accuracy at Epoch 240: 75.73%\n",
      "Classification Report at Epoch 240:\n",
      "                  precision    recall  f1-score   support\n",
      "\n",
      "    infringement       0.83      0.63      0.72       283\n",
      "non_infringement       0.71      0.88      0.79       298\n",
      "\n",
      "        accuracy                           0.76       581\n",
      "       macro avg       0.77      0.75      0.75       581\n",
      "    weighted avg       0.77      0.76      0.75       581\n",
      "\n"
     ]
    },
    {
     "name": "stderr",
     "output_type": "stream",
     "text": [
      "Training Epochs:  12%|█▏        | 247/2000 [00:05<01:02, 28.02it/s]"
     ]
    },
    {
     "name": "stdout",
     "output_type": "stream",
     "text": [
      "Epoch 250/2000, Loss: 0.0014\n",
      "Test Accuracy at Epoch 250: 75.73%\n",
      "Classification Report at Epoch 250:\n",
      "                  precision    recall  f1-score   support\n",
      "\n",
      "    infringement       0.83      0.63      0.72       283\n",
      "non_infringement       0.71      0.88      0.79       298\n",
      "\n",
      "        accuracy                           0.76       581\n",
      "       macro avg       0.77      0.75      0.75       581\n",
      "    weighted avg       0.77      0.76      0.75       581\n",
      "\n"
     ]
    },
    {
     "name": "stderr",
     "output_type": "stream",
     "text": [
      "Training Epochs:  13%|█▎        | 259/2000 [00:07<02:26, 11.85it/s]"
     ]
    },
    {
     "name": "stdout",
     "output_type": "stream",
     "text": [
      "Epoch 260/2000, Loss: 0.0012\n",
      "Test Accuracy at Epoch 260: 75.73%\n",
      "Classification Report at Epoch 260:\n",
      "                  precision    recall  f1-score   support\n",
      "\n",
      "    infringement       0.83      0.63      0.72       283\n",
      "non_infringement       0.71      0.88      0.79       298\n",
      "\n",
      "        accuracy                           0.76       581\n",
      "       macro avg       0.77      0.75      0.75       581\n",
      "    weighted avg       0.77      0.76      0.75       581\n",
      "\n"
     ]
    },
    {
     "name": "stderr",
     "output_type": "stream",
     "text": [
      "Training Epochs:  13%|█▎        | 268/2000 [00:08<02:14, 12.89it/s]"
     ]
    },
    {
     "name": "stdout",
     "output_type": "stream",
     "text": [
      "Epoch 270/2000, Loss: 0.0011\n",
      "Test Accuracy at Epoch 270: 75.73%\n",
      "Classification Report at Epoch 270:\n",
      "                  precision    recall  f1-score   support\n",
      "\n",
      "    infringement       0.83      0.63      0.72       283\n",
      "non_infringement       0.71      0.88      0.79       298\n",
      "\n",
      "        accuracy                           0.76       581\n",
      "       macro avg       0.77      0.75      0.75       581\n",
      "    weighted avg       0.77      0.76      0.75       581\n",
      "\n"
     ]
    },
    {
     "name": "stderr",
     "output_type": "stream",
     "text": [
      "Training Epochs:  14%|█▍        | 281/2000 [00:11<04:52,  5.88it/s]"
     ]
    },
    {
     "name": "stdout",
     "output_type": "stream",
     "text": [
      "Epoch 280/2000, Loss: 0.0010\n",
      "Test Accuracy at Epoch 280: 75.73%\n",
      "Classification Report at Epoch 280:\n",
      "                  precision    recall  f1-score   support\n",
      "\n",
      "    infringement       0.83      0.63      0.72       283\n",
      "non_infringement       0.71      0.88      0.79       298\n",
      "\n",
      "        accuracy                           0.76       581\n",
      "       macro avg       0.77      0.75      0.75       581\n",
      "    weighted avg       0.77      0.76      0.75       581\n",
      "\n"
     ]
    },
    {
     "name": "stderr",
     "output_type": "stream",
     "text": [
      "Training Epochs:  15%|█▍        | 295/2000 [00:12<02:39, 10.72it/s]"
     ]
    },
    {
     "name": "stdout",
     "output_type": "stream",
     "text": [
      "Epoch 290/2000, Loss: 0.0009\n",
      "Test Accuracy at Epoch 290: 75.73%\n",
      "Classification Report at Epoch 290:\n",
      "                  precision    recall  f1-score   support\n",
      "\n",
      "    infringement       0.83      0.63      0.72       283\n",
      "non_infringement       0.71      0.88      0.79       298\n",
      "\n",
      "        accuracy                           0.76       581\n",
      "       macro avg       0.77      0.75      0.75       581\n",
      "    weighted avg       0.77      0.76      0.75       581\n",
      "\n"
     ]
    },
    {
     "name": "stderr",
     "output_type": "stream",
     "text": [
      "Training Epochs:  15%|█▌        | 304/2000 [00:13<01:33, 18.18it/s]"
     ]
    },
    {
     "name": "stdout",
     "output_type": "stream",
     "text": [
      "Epoch 300/2000, Loss: 0.0008\n",
      "Test Accuracy at Epoch 300: 75.73%\n",
      "Classification Report at Epoch 300:\n",
      "                  precision    recall  f1-score   support\n",
      "\n",
      "    infringement       0.83      0.63      0.72       283\n",
      "non_infringement       0.71      0.88      0.79       298\n",
      "\n",
      "        accuracy                           0.76       581\n",
      "       macro avg       0.77      0.75      0.75       581\n",
      "    weighted avg       0.77      0.76      0.75       581\n",
      "\n"
     ]
    },
    {
     "name": "stderr",
     "output_type": "stream",
     "text": [
      "Training Epochs:  16%|█▌        | 314/2000 [00:13<01:18, 21.42it/s]"
     ]
    },
    {
     "name": "stdout",
     "output_type": "stream",
     "text": [
      "Epoch 310/2000, Loss: 0.0007\n",
      "Test Accuracy at Epoch 310: 75.56%\n",
      "Classification Report at Epoch 310:\n",
      "                  precision    recall  f1-score   support\n",
      "\n",
      "    infringement       0.83      0.63      0.71       283\n",
      "non_infringement       0.71      0.88      0.79       298\n",
      "\n",
      "        accuracy                           0.76       581\n",
      "       macro avg       0.77      0.75      0.75       581\n",
      "    weighted avg       0.77      0.76      0.75       581\n",
      "\n"
     ]
    },
    {
     "name": "stderr",
     "output_type": "stream",
     "text": [
      "Training Epochs:  16%|█▌        | 324/2000 [00:14<01:25, 19.51it/s]"
     ]
    },
    {
     "name": "stdout",
     "output_type": "stream",
     "text": [
      "Epoch 320/2000, Loss: 0.0007\n",
      "Test Accuracy at Epoch 320: 75.56%\n",
      "Classification Report at Epoch 320:\n",
      "                  precision    recall  f1-score   support\n",
      "\n",
      "    infringement       0.83      0.63      0.71       283\n",
      "non_infringement       0.71      0.88      0.79       298\n",
      "\n",
      "        accuracy                           0.76       581\n",
      "       macro avg       0.77      0.75      0.75       581\n",
      "    weighted avg       0.77      0.76      0.75       581\n",
      "\n"
     ]
    },
    {
     "name": "stderr",
     "output_type": "stream",
     "text": [
      "Training Epochs:  17%|█▋        | 333/2000 [00:14<01:09, 24.02it/s]"
     ]
    },
    {
     "name": "stdout",
     "output_type": "stream",
     "text": [
      "Epoch 330/2000, Loss: 0.0006\n",
      "Test Accuracy at Epoch 330: 75.56%\n",
      "Classification Report at Epoch 330:\n",
      "                  precision    recall  f1-score   support\n",
      "\n",
      "    infringement       0.83      0.63      0.71       283\n",
      "non_infringement       0.71      0.88      0.79       298\n",
      "\n",
      "        accuracy                           0.76       581\n",
      "       macro avg       0.77      0.75      0.75       581\n",
      "    weighted avg       0.77      0.76      0.75       581\n",
      "\n"
     ]
    },
    {
     "name": "stderr",
     "output_type": "stream",
     "text": [
      "Training Epochs:  17%|█▋        | 343/2000 [00:15<01:12, 22.70it/s]"
     ]
    },
    {
     "name": "stdout",
     "output_type": "stream",
     "text": [
      "Epoch 340/2000, Loss: 0.0006\n",
      "Test Accuracy at Epoch 340: 75.56%\n",
      "Classification Report at Epoch 340:\n",
      "                  precision    recall  f1-score   support\n",
      "\n",
      "    infringement       0.83      0.63      0.71       283\n",
      "non_infringement       0.71      0.88      0.79       298\n",
      "\n",
      "        accuracy                           0.76       581\n",
      "       macro avg       0.77      0.75      0.75       581\n",
      "    weighted avg       0.77      0.76      0.75       581\n",
      "\n"
     ]
    },
    {
     "name": "stderr",
     "output_type": "stream",
     "text": [
      "Training Epochs:  18%|█▊        | 352/2000 [00:15<01:12, 22.78it/s]"
     ]
    },
    {
     "name": "stdout",
     "output_type": "stream",
     "text": [
      "Epoch 350/2000, Loss: 0.0005\n",
      "Test Accuracy at Epoch 350: 75.56%\n",
      "Classification Report at Epoch 350:\n",
      "                  precision    recall  f1-score   support\n",
      "\n",
      "    infringement       0.83      0.63      0.71       283\n",
      "non_infringement       0.71      0.88      0.79       298\n",
      "\n",
      "        accuracy                           0.76       581\n",
      "       macro avg       0.77      0.75      0.75       581\n",
      "    weighted avg       0.77      0.76      0.75       581\n",
      "\n"
     ]
    },
    {
     "name": "stderr",
     "output_type": "stream",
     "text": [
      "Training Epochs:  18%|█▊        | 361/2000 [00:15<01:15, 21.72it/s]"
     ]
    },
    {
     "name": "stdout",
     "output_type": "stream",
     "text": [
      "Epoch 360/2000, Loss: 0.0005\n",
      "Test Accuracy at Epoch 360: 75.56%\n",
      "Classification Report at Epoch 360:\n",
      "                  precision    recall  f1-score   support\n",
      "\n",
      "    infringement       0.83      0.63      0.71       283\n",
      "non_infringement       0.71      0.88      0.79       298\n",
      "\n",
      "        accuracy                           0.76       581\n",
      "       macro avg       0.77      0.75      0.75       581\n",
      "    weighted avg       0.77      0.76      0.75       581\n",
      "\n"
     ]
    },
    {
     "name": "stderr",
     "output_type": "stream",
     "text": [
      "Training Epochs:  19%|█▊        | 373/2000 [00:16<01:23, 19.43it/s]"
     ]
    },
    {
     "name": "stdout",
     "output_type": "stream",
     "text": [
      "Epoch 370/2000, Loss: 0.0004\n",
      "Test Accuracy at Epoch 370: 75.56%\n",
      "Classification Report at Epoch 370:\n",
      "                  precision    recall  f1-score   support\n",
      "\n",
      "    infringement       0.83      0.63      0.71       283\n",
      "non_infringement       0.71      0.88      0.79       298\n",
      "\n",
      "        accuracy                           0.76       581\n",
      "       macro avg       0.77      0.75      0.75       581\n",
      "    weighted avg       0.77      0.76      0.75       581\n",
      "\n"
     ]
    },
    {
     "name": "stderr",
     "output_type": "stream",
     "text": [
      "Training Epochs:  19%|█▉        | 383/2000 [00:16<01:12, 22.15it/s]"
     ]
    },
    {
     "name": "stdout",
     "output_type": "stream",
     "text": [
      "Epoch 380/2000, Loss: 0.0004\n",
      "Test Accuracy at Epoch 380: 75.56%\n",
      "Classification Report at Epoch 380:\n",
      "                  precision    recall  f1-score   support\n",
      "\n",
      "    infringement       0.83      0.63      0.71       283\n",
      "non_infringement       0.71      0.88      0.79       298\n",
      "\n",
      "        accuracy                           0.76       581\n",
      "       macro avg       0.77      0.75      0.75       581\n",
      "    weighted avg       0.77      0.76      0.75       581\n",
      "\n"
     ]
    },
    {
     "name": "stderr",
     "output_type": "stream",
     "text": [
      "Training Epochs:  20%|█▉        | 392/2000 [00:17<01:12, 22.25it/s]"
     ]
    },
    {
     "name": "stdout",
     "output_type": "stream",
     "text": [
      "Epoch 390/2000, Loss: 0.0004\n",
      "Test Accuracy at Epoch 390: 75.56%\n",
      "Classification Report at Epoch 390:\n",
      "                  precision    recall  f1-score   support\n",
      "\n",
      "    infringement       0.83      0.63      0.71       283\n",
      "non_infringement       0.71      0.88      0.79       298\n",
      "\n",
      "        accuracy                           0.76       581\n",
      "       macro avg       0.77      0.75      0.75       581\n",
      "    weighted avg       0.77      0.76      0.75       581\n",
      "\n"
     ]
    },
    {
     "name": "stderr",
     "output_type": "stream",
     "text": [
      "Training Epochs:  20%|██        | 402/2000 [00:17<01:09, 22.98it/s]"
     ]
    },
    {
     "name": "stdout",
     "output_type": "stream",
     "text": [
      "Epoch 400/2000, Loss: 0.0004\n",
      "Test Accuracy at Epoch 400: 75.56%\n",
      "Classification Report at Epoch 400:\n",
      "                  precision    recall  f1-score   support\n",
      "\n",
      "    infringement       0.83      0.63      0.71       283\n",
      "non_infringement       0.71      0.88      0.79       298\n",
      "\n",
      "        accuracy                           0.76       581\n",
      "       macro avg       0.77      0.75      0.75       581\n",
      "    weighted avg       0.77      0.76      0.75       581\n",
      "\n"
     ]
    },
    {
     "name": "stderr",
     "output_type": "stream",
     "text": [
      "Training Epochs:  21%|██        | 414/2000 [00:18<00:52, 30.02it/s]"
     ]
    },
    {
     "name": "stdout",
     "output_type": "stream",
     "text": [
      "Epoch 410/2000, Loss: 0.0003\n",
      "Test Accuracy at Epoch 410: 75.56%\n",
      "Classification Report at Epoch 410:\n",
      "                  precision    recall  f1-score   support\n",
      "\n",
      "    infringement       0.83      0.63      0.71       283\n",
      "non_infringement       0.71      0.88      0.79       298\n",
      "\n",
      "        accuracy                           0.76       581\n",
      "       macro avg       0.77      0.75      0.75       581\n",
      "    weighted avg       0.77      0.76      0.75       581\n",
      "\n"
     ]
    },
    {
     "name": "stderr",
     "output_type": "stream",
     "text": [
      "Training Epochs:  21%|██▏       | 429/2000 [00:18<00:40, 38.58it/s]"
     ]
    },
    {
     "name": "stdout",
     "output_type": "stream",
     "text": [
      "Epoch 420/2000, Loss: 0.0003\n",
      "Test Accuracy at Epoch 420: 75.56%\n",
      "Classification Report at Epoch 420:\n",
      "                  precision    recall  f1-score   support\n",
      "\n",
      "    infringement       0.83      0.63      0.71       283\n",
      "non_infringement       0.71      0.88      0.79       298\n",
      "\n",
      "        accuracy                           0.76       581\n",
      "       macro avg       0.77      0.75      0.75       581\n",
      "    weighted avg       0.77      0.76      0.75       581\n",
      "\n",
      "Epoch 430/2000, Loss: 0.0003\n"
     ]
    },
    {
     "name": "stderr",
     "output_type": "stream",
     "text": [
      "Training Epochs:  22%|██▏       | 433/2000 [00:18<00:45, 34.50it/s]"
     ]
    },
    {
     "name": "stdout",
     "output_type": "stream",
     "text": [
      "Test Accuracy at Epoch 430: 75.56%\n",
      "Classification Report at Epoch 430:\n",
      "                  precision    recall  f1-score   support\n",
      "\n",
      "    infringement       0.83      0.63      0.71       283\n",
      "non_infringement       0.71      0.88      0.79       298\n",
      "\n",
      "        accuracy                           0.76       581\n",
      "       macro avg       0.77      0.75      0.75       581\n",
      "    weighted avg       0.77      0.76      0.75       581\n",
      "\n"
     ]
    },
    {
     "name": "stderr",
     "output_type": "stream",
     "text": [
      "Training Epochs:  22%|██▏       | 442/2000 [00:18<00:41, 37.45it/s]"
     ]
    },
    {
     "name": "stdout",
     "output_type": "stream",
     "text": [
      "Epoch 440/2000, Loss: 0.0003\n",
      "Test Accuracy at Epoch 440: 75.56%\n",
      "Classification Report at Epoch 440:\n",
      "                  precision    recall  f1-score   support\n",
      "\n",
      "    infringement       0.83      0.63      0.71       283\n",
      "non_infringement       0.71      0.88      0.79       298\n",
      "\n",
      "        accuracy                           0.76       581\n",
      "       macro avg       0.77      0.75      0.75       581\n",
      "    weighted avg       0.77      0.76      0.75       581\n",
      "\n"
     ]
    },
    {
     "name": "stderr",
     "output_type": "stream",
     "text": [
      "Training Epochs:  23%|██▎       | 455/2000 [00:19<00:44, 34.52it/s]"
     ]
    },
    {
     "name": "stdout",
     "output_type": "stream",
     "text": [
      "Epoch 450/2000, Loss: 0.0003\n",
      "Test Accuracy at Epoch 450: 75.56%\n",
      "Classification Report at Epoch 450:\n",
      "                  precision    recall  f1-score   support\n",
      "\n",
      "    infringement       0.83      0.63      0.71       283\n",
      "non_infringement       0.71      0.88      0.79       298\n",
      "\n",
      "        accuracy                           0.76       581\n",
      "       macro avg       0.77      0.75      0.75       581\n",
      "    weighted avg       0.77      0.76      0.75       581\n",
      "\n"
     ]
    },
    {
     "name": "stderr",
     "output_type": "stream",
     "text": [
      "Training Epochs:  23%|██▎       | 464/2000 [00:19<00:46, 33.27it/s]"
     ]
    },
    {
     "name": "stdout",
     "output_type": "stream",
     "text": [
      "Epoch 460/2000, Loss: 0.0002\n",
      "Test Accuracy at Epoch 460: 75.56%\n",
      "Classification Report at Epoch 460:\n",
      "                  precision    recall  f1-score   support\n",
      "\n",
      "    infringement       0.83      0.63      0.71       283\n",
      "non_infringement       0.71      0.88      0.79       298\n",
      "\n",
      "        accuracy                           0.76       581\n",
      "       macro avg       0.77      0.75      0.75       581\n",
      "    weighted avg       0.77      0.76      0.75       581\n",
      "\n"
     ]
    },
    {
     "name": "stderr",
     "output_type": "stream",
     "text": [
      "Training Epochs:  24%|██▎       | 472/2000 [00:19<00:51, 29.50it/s]"
     ]
    },
    {
     "name": "stdout",
     "output_type": "stream",
     "text": [
      "Epoch 470/2000, Loss: 0.0002\n",
      "Test Accuracy at Epoch 470: 75.56%\n",
      "Classification Report at Epoch 470:\n",
      "                  precision    recall  f1-score   support\n",
      "\n",
      "    infringement       0.83      0.63      0.71       283\n",
      "non_infringement       0.71      0.88      0.79       298\n",
      "\n",
      "        accuracy                           0.76       581\n",
      "       macro avg       0.77      0.75      0.75       581\n",
      "    weighted avg       0.77      0.76      0.75       581\n",
      "\n"
     ]
    },
    {
     "name": "stderr",
     "output_type": "stream",
     "text": [
      "Training Epochs:  24%|██▍       | 486/2000 [00:20<00:40, 37.40it/s]"
     ]
    },
    {
     "name": "stdout",
     "output_type": "stream",
     "text": [
      "Epoch 480/2000, Loss: 0.0002\n",
      "Test Accuracy at Epoch 480: 75.39%\n",
      "Classification Report at Epoch 480:\n",
      "                  precision    recall  f1-score   support\n",
      "\n",
      "    infringement       0.83      0.62      0.71       283\n",
      "non_infringement       0.71      0.88      0.79       298\n",
      "\n",
      "        accuracy                           0.75       581\n",
      "       macro avg       0.77      0.75      0.75       581\n",
      "    weighted avg       0.77      0.75      0.75       581\n",
      "\n"
     ]
    },
    {
     "name": "stderr",
     "output_type": "stream",
     "text": [
      "Training Epochs:  25%|██▍       | 496/2000 [00:20<00:35, 41.85it/s]"
     ]
    },
    {
     "name": "stdout",
     "output_type": "stream",
     "text": [
      "Epoch 490/2000, Loss: 0.0002\n",
      "Test Accuracy at Epoch 490: 75.39%\n",
      "Classification Report at Epoch 490:\n",
      "                  precision    recall  f1-score   support\n",
      "\n",
      "    infringement       0.83      0.62      0.71       283\n",
      "non_infringement       0.71      0.88      0.79       298\n",
      "\n",
      "        accuracy                           0.75       581\n",
      "       macro avg       0.77      0.75      0.75       581\n",
      "    weighted avg       0.77      0.75      0.75       581\n",
      "\n",
      "Epoch 500/2000, Loss: 0.0002\n",
      "Test Accuracy at Epoch 500: 75.39%\n",
      "Classification Report at Epoch 500:\n",
      "                  precision    recall  f1-score   support\n",
      "\n",
      "    infringement       0.83      0.62      0.71       283\n",
      "non_infringement       0.71      0.88      0.79       298\n",
      "\n",
      "        accuracy                           0.75       581\n",
      "       macro avg       0.77      0.75      0.75       581\n",
      "    weighted avg       0.77      0.75      0.75       581\n",
      "\n"
     ]
    },
    {
     "name": "stderr",
     "output_type": "stream",
     "text": [
      "Training Epochs:  26%|██▌       | 516/2000 [00:20<00:34, 42.46it/s]"
     ]
    },
    {
     "name": "stdout",
     "output_type": "stream",
     "text": [
      "Epoch 510/2000, Loss: 0.0002\n",
      "Test Accuracy at Epoch 510: 75.39%\n",
      "Classification Report at Epoch 510:\n",
      "                  precision    recall  f1-score   support\n",
      "\n",
      "    infringement       0.83      0.62      0.71       283\n",
      "non_infringement       0.71      0.88      0.79       298\n",
      "\n",
      "        accuracy                           0.75       581\n",
      "       macro avg       0.77      0.75      0.75       581\n",
      "    weighted avg       0.77      0.75      0.75       581\n",
      "\n"
     ]
    },
    {
     "name": "stderr",
     "output_type": "stream",
     "text": [
      "Training Epochs:  26%|██▌       | 521/2000 [00:21<00:48, 30.46it/s]"
     ]
    },
    {
     "name": "stdout",
     "output_type": "stream",
     "text": [
      "Epoch 520/2000, Loss: 0.0002\n",
      "Test Accuracy at Epoch 520: 75.39%\n",
      "Classification Report at Epoch 520:\n",
      "                  precision    recall  f1-score   support\n",
      "\n",
      "    infringement       0.83      0.62      0.71       283\n",
      "non_infringement       0.71      0.88      0.79       298\n",
      "\n",
      "        accuracy                           0.75       581\n",
      "       macro avg       0.77      0.75      0.75       581\n",
      "    weighted avg       0.77      0.75      0.75       581\n",
      "\n"
     ]
    },
    {
     "name": "stderr",
     "output_type": "stream",
     "text": [
      "Training Epochs:  26%|██▋       | 530/2000 [00:21<01:10, 20.75it/s]"
     ]
    },
    {
     "name": "stdout",
     "output_type": "stream",
     "text": [
      "Epoch 530/2000, Loss: 0.0002\n",
      "Test Accuracy at Epoch 530: 75.39%\n",
      "Classification Report at Epoch 530:\n",
      "                  precision    recall  f1-score   support\n",
      "\n",
      "    infringement       0.83      0.62      0.71       283\n",
      "non_infringement       0.71      0.88      0.79       298\n",
      "\n",
      "        accuracy                           0.75       581\n",
      "       macro avg       0.77      0.75      0.75       581\n",
      "    weighted avg       0.77      0.75      0.75       581\n",
      "\n"
     ]
    },
    {
     "name": "stderr",
     "output_type": "stream",
     "text": [
      "Training Epochs:  27%|██▋       | 542/2000 [00:22<01:49, 13.26it/s]"
     ]
    },
    {
     "name": "stdout",
     "output_type": "stream",
     "text": [
      "Epoch 540/2000, Loss: 0.0002\n",
      "Test Accuracy at Epoch 540: 75.39%\n",
      "Classification Report at Epoch 540:\n",
      "                  precision    recall  f1-score   support\n",
      "\n",
      "    infringement       0.83      0.62      0.71       283\n",
      "non_infringement       0.71      0.88      0.79       298\n",
      "\n",
      "        accuracy                           0.75       581\n",
      "       macro avg       0.77      0.75      0.75       581\n",
      "    weighted avg       0.77      0.75      0.75       581\n",
      "\n"
     ]
    },
    {
     "name": "stderr",
     "output_type": "stream",
     "text": [
      "Training Epochs:  28%|██▊       | 554/2000 [00:23<01:21, 17.73it/s]"
     ]
    },
    {
     "name": "stdout",
     "output_type": "stream",
     "text": [
      "Epoch 550/2000, Loss: 0.0002\n",
      "Test Accuracy at Epoch 550: 75.39%\n",
      "Classification Report at Epoch 550:\n",
      "                  precision    recall  f1-score   support\n",
      "\n",
      "    infringement       0.83      0.62      0.71       283\n",
      "non_infringement       0.71      0.88      0.79       298\n",
      "\n",
      "        accuracy                           0.75       581\n",
      "       macro avg       0.77      0.75      0.75       581\n",
      "    weighted avg       0.77      0.75      0.75       581\n",
      "\n"
     ]
    },
    {
     "name": "stderr",
     "output_type": "stream",
     "text": [
      "Training Epochs:  28%|██▊       | 561/2000 [00:23<01:01, 23.53it/s]"
     ]
    },
    {
     "name": "stdout",
     "output_type": "stream",
     "text": [
      "Epoch 560/2000, Loss: 0.0002\n",
      "Test Accuracy at Epoch 560: 75.56%\n",
      "Classification Report at Epoch 560:\n",
      "                  precision    recall  f1-score   support\n",
      "\n",
      "    infringement       0.83      0.62      0.71       283\n",
      "non_infringement       0.71      0.88      0.79       298\n",
      "\n",
      "        accuracy                           0.76       581\n",
      "       macro avg       0.77      0.75      0.75       581\n",
      "    weighted avg       0.77      0.76      0.75       581\n",
      "\n"
     ]
    },
    {
     "name": "stderr",
     "output_type": "stream",
     "text": [
      "Training Epochs:  29%|██▊       | 571/2000 [00:24<01:59, 11.94it/s]"
     ]
    },
    {
     "name": "stdout",
     "output_type": "stream",
     "text": [
      "Epoch 570/2000, Loss: 0.0001\n",
      "Test Accuracy at Epoch 570: 75.56%\n",
      "Classification Report at Epoch 570:\n",
      "                  precision    recall  f1-score   support\n",
      "\n",
      "    infringement       0.83      0.62      0.71       283\n",
      "non_infringement       0.71      0.88      0.79       298\n",
      "\n",
      "        accuracy                           0.76       581\n",
      "       macro avg       0.77      0.75      0.75       581\n",
      "    weighted avg       0.77      0.76      0.75       581\n",
      "\n"
     ]
    },
    {
     "name": "stderr",
     "output_type": "stream",
     "text": [
      "Training Epochs:  29%|██▉       | 579/2000 [00:25<01:52, 12.60it/s]"
     ]
    },
    {
     "name": "stdout",
     "output_type": "stream",
     "text": [
      "Epoch 580/2000, Loss: 0.0001\n",
      "Test Accuracy at Epoch 580: 75.39%\n",
      "Classification Report at Epoch 580:\n",
      "                  precision    recall  f1-score   support\n",
      "\n",
      "    infringement       0.83      0.62      0.71       283\n",
      "non_infringement       0.71      0.88      0.79       298\n",
      "\n",
      "        accuracy                           0.75       581\n",
      "       macro avg       0.77      0.75      0.75       581\n",
      "    weighted avg       0.77      0.75      0.75       581\n",
      "\n"
     ]
    },
    {
     "name": "stderr",
     "output_type": "stream",
     "text": [
      "Training Epochs:  30%|██▉       | 594/2000 [00:26<01:27, 15.98it/s]"
     ]
    },
    {
     "name": "stdout",
     "output_type": "stream",
     "text": [
      "Epoch 590/2000, Loss: 0.0001\n",
      "Test Accuracy at Epoch 590: 75.39%\n",
      "Classification Report at Epoch 590:\n",
      "                  precision    recall  f1-score   support\n",
      "\n",
      "    infringement       0.83      0.62      0.71       283\n",
      "non_infringement       0.71      0.88      0.79       298\n",
      "\n",
      "        accuracy                           0.75       581\n",
      "       macro avg       0.77      0.75      0.75       581\n",
      "    weighted avg       0.77      0.75      0.75       581\n",
      "\n"
     ]
    },
    {
     "name": "stderr",
     "output_type": "stream",
     "text": [
      "Training Epochs:  30%|███       | 602/2000 [00:26<01:07, 20.67it/s]"
     ]
    },
    {
     "name": "stdout",
     "output_type": "stream",
     "text": [
      "Epoch 600/2000, Loss: 0.0001\n",
      "Test Accuracy at Epoch 600: 75.39%\n",
      "Classification Report at Epoch 600:\n",
      "                  precision    recall  f1-score   support\n",
      "\n",
      "    infringement       0.83      0.62      0.71       283\n",
      "non_infringement       0.71      0.88      0.79       298\n",
      "\n",
      "        accuracy                           0.75       581\n",
      "       macro avg       0.77      0.75      0.75       581\n",
      "    weighted avg       0.77      0.75      0.75       581\n",
      "\n"
     ]
    },
    {
     "name": "stderr",
     "output_type": "stream",
     "text": [
      "Training Epochs:  31%|███       | 611/2000 [00:28<02:28,  9.36it/s]"
     ]
    },
    {
     "name": "stdout",
     "output_type": "stream",
     "text": [
      "Epoch 610/2000, Loss: 0.0001\n",
      "Test Accuracy at Epoch 610: 75.39%\n",
      "Classification Report at Epoch 610:\n",
      "                  precision    recall  f1-score   support\n",
      "\n",
      "    infringement       0.83      0.62      0.71       283\n",
      "non_infringement       0.71      0.88      0.79       298\n",
      "\n",
      "        accuracy                           0.75       581\n",
      "       macro avg       0.77      0.75      0.75       581\n",
      "    weighted avg       0.77      0.75      0.75       581\n",
      "\n"
     ]
    },
    {
     "name": "stderr",
     "output_type": "stream",
     "text": [
      "Training Epochs:  31%|███       | 624/2000 [00:28<01:11, 19.12it/s]"
     ]
    },
    {
     "name": "stdout",
     "output_type": "stream",
     "text": [
      "Epoch 620/2000, Loss: 0.0001\n",
      "Test Accuracy at Epoch 620: 75.39%\n",
      "Classification Report at Epoch 620:\n",
      "                  precision    recall  f1-score   support\n",
      "\n",
      "    infringement       0.83      0.62      0.71       283\n",
      "non_infringement       0.71      0.88      0.79       298\n",
      "\n",
      "        accuracy                           0.75       581\n",
      "       macro avg       0.77      0.75      0.75       581\n",
      "    weighted avg       0.77      0.75      0.75       581\n",
      "\n"
     ]
    },
    {
     "name": "stderr",
     "output_type": "stream",
     "text": [
      "Training Epochs:  32%|███▏      | 635/2000 [00:29<00:51, 26.47it/s]"
     ]
    },
    {
     "name": "stdout",
     "output_type": "stream",
     "text": [
      "Epoch 630/2000, Loss: 0.0001\n",
      "Test Accuracy at Epoch 630: 75.39%\n",
      "Classification Report at Epoch 630:\n",
      "                  precision    recall  f1-score   support\n",
      "\n",
      "    infringement       0.83      0.62      0.71       283\n",
      "non_infringement       0.71      0.88      0.79       298\n",
      "\n",
      "        accuracy                           0.75       581\n",
      "       macro avg       0.77      0.75      0.75       581\n",
      "    weighted avg       0.77      0.75      0.75       581\n",
      "\n"
     ]
    },
    {
     "name": "stderr",
     "output_type": "stream",
     "text": [
      "Training Epochs:  32%|███▏      | 645/2000 [00:29<00:38, 35.53it/s]"
     ]
    },
    {
     "name": "stdout",
     "output_type": "stream",
     "text": [
      "Epoch 640/2000, Loss: 0.0001\n",
      "Test Accuracy at Epoch 640: 75.56%\n",
      "Classification Report at Epoch 640:\n",
      "                  precision    recall  f1-score   support\n",
      "\n",
      "    infringement       0.84      0.62      0.71       283\n",
      "non_infringement       0.71      0.89      0.79       298\n",
      "\n",
      "        accuracy                           0.76       581\n",
      "       macro avg       0.77      0.75      0.75       581\n",
      "    weighted avg       0.77      0.76      0.75       581\n",
      "\n"
     ]
    },
    {
     "name": "stderr",
     "output_type": "stream",
     "text": [
      "Training Epochs:  33%|███▎      | 653/2000 [00:29<00:51, 26.35it/s]"
     ]
    },
    {
     "name": "stdout",
     "output_type": "stream",
     "text": [
      "Epoch 650/2000, Loss: 0.0001\n",
      "Test Accuracy at Epoch 650: 75.56%\n",
      "Classification Report at Epoch 650:\n",
      "                  precision    recall  f1-score   support\n",
      "\n",
      "    infringement       0.84      0.62      0.71       283\n",
      "non_infringement       0.71      0.89      0.79       298\n",
      "\n",
      "        accuracy                           0.76       581\n",
      "       macro avg       0.77      0.75      0.75       581\n",
      "    weighted avg       0.77      0.76      0.75       581\n",
      "\n"
     ]
    },
    {
     "name": "stderr",
     "output_type": "stream",
     "text": [
      "Training Epochs:  33%|███▎      | 663/2000 [00:30<00:49, 27.23it/s]"
     ]
    },
    {
     "name": "stdout",
     "output_type": "stream",
     "text": [
      "Epoch 660/2000, Loss: 0.0001\n",
      "Test Accuracy at Epoch 660: 75.56%\n",
      "Classification Report at Epoch 660:\n",
      "                  precision    recall  f1-score   support\n",
      "\n",
      "    infringement       0.84      0.62      0.71       283\n",
      "non_infringement       0.71      0.89      0.79       298\n",
      "\n",
      "        accuracy                           0.76       581\n",
      "       macro avg       0.77      0.75      0.75       581\n",
      "    weighted avg       0.77      0.76      0.75       581\n",
      "\n"
     ]
    },
    {
     "name": "stderr",
     "output_type": "stream",
     "text": [
      "Training Epochs:  34%|███▎      | 674/2000 [00:30<00:46, 28.70it/s]"
     ]
    },
    {
     "name": "stdout",
     "output_type": "stream",
     "text": [
      "Epoch 670/2000, Loss: 0.0001\n",
      "Test Accuracy at Epoch 670: 75.56%\n",
      "Classification Report at Epoch 670:\n",
      "                  precision    recall  f1-score   support\n",
      "\n",
      "    infringement       0.84      0.62      0.71       283\n",
      "non_infringement       0.71      0.89      0.79       298\n",
      "\n",
      "        accuracy                           0.76       581\n",
      "       macro avg       0.77      0.75      0.75       581\n",
      "    weighted avg       0.77      0.76      0.75       581\n",
      "\n"
     ]
    },
    {
     "name": "stderr",
     "output_type": "stream",
     "text": [
      "Training Epochs:  34%|███▍      | 681/2000 [00:31<01:13, 17.84it/s]"
     ]
    },
    {
     "name": "stdout",
     "output_type": "stream",
     "text": [
      "Epoch 680/2000, Loss: 0.0001\n",
      "Test Accuracy at Epoch 680: 75.56%\n",
      "Classification Report at Epoch 680:\n",
      "                  precision    recall  f1-score   support\n",
      "\n",
      "    infringement       0.84      0.62      0.71       283\n",
      "non_infringement       0.71      0.89      0.79       298\n",
      "\n",
      "        accuracy                           0.76       581\n",
      "       macro avg       0.77      0.75      0.75       581\n",
      "    weighted avg       0.77      0.76      0.75       581\n",
      "\n"
     ]
    },
    {
     "name": "stderr",
     "output_type": "stream",
     "text": [
      "Training Epochs:  35%|███▍      | 694/2000 [00:31<01:00, 21.48it/s]"
     ]
    },
    {
     "name": "stdout",
     "output_type": "stream",
     "text": [
      "Epoch 690/2000, Loss: 0.0001\n",
      "Test Accuracy at Epoch 690: 75.56%\n",
      "Classification Report at Epoch 690:\n",
      "                  precision    recall  f1-score   support\n",
      "\n",
      "    infringement       0.84      0.62      0.71       283\n",
      "non_infringement       0.71      0.89      0.79       298\n",
      "\n",
      "        accuracy                           0.76       581\n",
      "       macro avg       0.77      0.75      0.75       581\n",
      "    weighted avg       0.77      0.76      0.75       581\n",
      "\n"
     ]
    },
    {
     "name": "stderr",
     "output_type": "stream",
     "text": [
      "Training Epochs:  36%|███▌      | 710/2000 [00:32<00:35, 36.67it/s]"
     ]
    },
    {
     "name": "stdout",
     "output_type": "stream",
     "text": [
      "Epoch 700/2000, Loss: 0.0001\n",
      "Test Accuracy at Epoch 700: 75.56%\n",
      "Classification Report at Epoch 700:\n",
      "                  precision    recall  f1-score   support\n",
      "\n",
      "    infringement       0.84      0.62      0.71       283\n",
      "non_infringement       0.71      0.89      0.79       298\n",
      "\n",
      "        accuracy                           0.76       581\n",
      "       macro avg       0.77      0.75      0.75       581\n",
      "    weighted avg       0.77      0.76      0.75       581\n",
      "\n",
      "Epoch 710/2000, Loss: 0.0001\n",
      "Test Accuracy at Epoch 710: 75.56%\n",
      "Classification Report at Epoch 710:\n",
      "                  precision    recall  f1-score   support\n",
      "\n",
      "    infringement       0.84      0.62      0.71       283\n",
      "non_infringement       0.71      0.89      0.79       298\n",
      "\n",
      "        accuracy                           0.76       581\n",
      "       macro avg       0.77      0.75      0.75       581\n",
      "    weighted avg       0.77      0.76      0.75       581\n",
      "\n"
     ]
    },
    {
     "name": "stderr",
     "output_type": "stream",
     "text": [
      "Training Epochs:  36%|███▋      | 726/2000 [00:32<00:40, 31.74it/s]"
     ]
    },
    {
     "name": "stdout",
     "output_type": "stream",
     "text": [
      "Epoch 720/2000, Loss: 0.0001\n",
      "Test Accuracy at Epoch 720: 75.56%\n",
      "Classification Report at Epoch 720:\n",
      "                  precision    recall  f1-score   support\n",
      "\n",
      "    infringement       0.84      0.62      0.71       283\n",
      "non_infringement       0.71      0.89      0.79       298\n",
      "\n",
      "        accuracy                           0.76       581\n",
      "       macro avg       0.77      0.75      0.75       581\n",
      "    weighted avg       0.77      0.76      0.75       581\n",
      "\n"
     ]
    },
    {
     "name": "stderr",
     "output_type": "stream",
     "text": [
      "Training Epochs:  37%|███▋      | 737/2000 [00:32<00:31, 39.88it/s]"
     ]
    },
    {
     "name": "stdout",
     "output_type": "stream",
     "text": [
      "Epoch 730/2000, Loss: 0.0001\n",
      "Test Accuracy at Epoch 730: 75.56%\n",
      "Classification Report at Epoch 730:\n",
      "                  precision    recall  f1-score   support\n",
      "\n",
      "    infringement       0.84      0.62      0.71       283\n",
      "non_infringement       0.71      0.89      0.79       298\n",
      "\n",
      "        accuracy                           0.76       581\n",
      "       macro avg       0.77      0.75      0.75       581\n",
      "    weighted avg       0.77      0.76      0.75       581\n",
      "\n",
      "Epoch 740/2000, Loss: 0.0001\n",
      "Test Accuracy at Epoch 740: 75.56%\n",
      "Classification Report at Epoch 740:\n",
      "                  precision    recall  f1-score   support\n",
      "\n",
      "    infringement       0.84      0.62      0.71       283\n",
      "non_infringement       0.71      0.89      0.79       298\n",
      "\n",
      "        accuracy                           0.76       581\n",
      "       macro avg       0.77      0.75      0.75       581\n",
      "    weighted avg       0.77      0.76      0.75       581\n",
      "\n"
     ]
    },
    {
     "name": "stderr",
     "output_type": "stream",
     "text": [
      "Training Epochs:  38%|███▊      | 752/2000 [00:33<00:32, 38.43it/s]"
     ]
    },
    {
     "name": "stdout",
     "output_type": "stream",
     "text": [
      "Epoch 750/2000, Loss: 0.0001\n",
      "Test Accuracy at Epoch 750: 75.56%\n",
      "Classification Report at Epoch 750:\n",
      "                  precision    recall  f1-score   support\n",
      "\n",
      "    infringement       0.84      0.62      0.71       283\n",
      "non_infringement       0.71      0.89      0.79       298\n",
      "\n",
      "        accuracy                           0.76       581\n",
      "       macro avg       0.77      0.75      0.75       581\n",
      "    weighted avg       0.77      0.76      0.75       581\n",
      "\n"
     ]
    },
    {
     "name": "stderr",
     "output_type": "stream",
     "text": [
      "Training Epochs:  38%|███▊      | 763/2000 [00:33<00:32, 38.07it/s]"
     ]
    },
    {
     "name": "stdout",
     "output_type": "stream",
     "text": [
      "Epoch 760/2000, Loss: 0.0001\n",
      "Test Accuracy at Epoch 760: 75.56%\n",
      "Classification Report at Epoch 760:\n",
      "                  precision    recall  f1-score   support\n",
      "\n",
      "    infringement       0.84      0.62      0.71       283\n",
      "non_infringement       0.71      0.89      0.79       298\n",
      "\n",
      "        accuracy                           0.76       581\n",
      "       macro avg       0.77      0.75      0.75       581\n",
      "    weighted avg       0.77      0.76      0.75       581\n",
      "\n"
     ]
    },
    {
     "name": "stderr",
     "output_type": "stream",
     "text": [
      "Training Epochs:  39%|███▉      | 776/2000 [00:34<00:39, 30.95it/s]"
     ]
    },
    {
     "name": "stdout",
     "output_type": "stream",
     "text": [
      "Epoch 770/2000, Loss: 0.0001\n",
      "Test Accuracy at Epoch 770: 75.56%\n",
      "Classification Report at Epoch 770:\n",
      "                  precision    recall  f1-score   support\n",
      "\n",
      "    infringement       0.84      0.62      0.71       283\n",
      "non_infringement       0.71      0.89      0.79       298\n",
      "\n",
      "        accuracy                           0.76       581\n",
      "       macro avg       0.77      0.75      0.75       581\n",
      "    weighted avg       0.77      0.76      0.75       581\n",
      "\n"
     ]
    },
    {
     "name": "stderr",
     "output_type": "stream",
     "text": [
      "Training Epochs:  39%|███▉      | 780/2000 [00:34<00:38, 31.41it/s]"
     ]
    },
    {
     "name": "stdout",
     "output_type": "stream",
     "text": [
      "Epoch 780/2000, Loss: 0.0001\n",
      "Test Accuracy at Epoch 780: 75.56%\n",
      "Classification Report at Epoch 780:\n",
      "                  precision    recall  f1-score   support\n",
      "\n",
      "    infringement       0.84      0.62      0.71       283\n",
      "non_infringement       0.71      0.89      0.79       298\n",
      "\n",
      "        accuracy                           0.76       581\n",
      "       macro avg       0.77      0.75      0.75       581\n",
      "    weighted avg       0.77      0.76      0.75       581\n",
      "\n"
     ]
    },
    {
     "name": "stderr",
     "output_type": "stream",
     "text": [
      "Training Epochs:  40%|███▉      | 791/2000 [00:34<00:46, 25.77it/s]"
     ]
    },
    {
     "name": "stdout",
     "output_type": "stream",
     "text": [
      "Epoch 790/2000, Loss: 0.0001\n",
      "Test Accuracy at Epoch 790: 75.56%\n",
      "Classification Report at Epoch 790:\n",
      "                  precision    recall  f1-score   support\n",
      "\n",
      "    infringement       0.84      0.62      0.71       283\n",
      "non_infringement       0.71      0.89      0.79       298\n",
      "\n",
      "        accuracy                           0.76       581\n",
      "       macro avg       0.77      0.75      0.75       581\n",
      "    weighted avg       0.77      0.76      0.75       581\n",
      "\n"
     ]
    },
    {
     "name": "stderr",
     "output_type": "stream",
     "text": [
      "Training Epochs:  40%|████      | 803/2000 [00:35<00:43, 27.56it/s]"
     ]
    },
    {
     "name": "stdout",
     "output_type": "stream",
     "text": [
      "Epoch 800/2000, Loss: 0.0001\n",
      "Test Accuracy at Epoch 800: 75.56%\n",
      "Classification Report at Epoch 800:\n",
      "                  precision    recall  f1-score   support\n",
      "\n",
      "    infringement       0.84      0.62      0.71       283\n",
      "non_infringement       0.71      0.89      0.79       298\n",
      "\n",
      "        accuracy                           0.76       581\n",
      "       macro avg       0.77      0.75      0.75       581\n",
      "    weighted avg       0.77      0.76      0.75       581\n",
      "\n"
     ]
    },
    {
     "name": "stderr",
     "output_type": "stream",
     "text": [
      "Training Epochs:  41%|████      | 812/2000 [00:35<00:52, 22.67it/s]"
     ]
    },
    {
     "name": "stdout",
     "output_type": "stream",
     "text": [
      "Epoch 810/2000, Loss: 0.0001\n",
      "Test Accuracy at Epoch 810: 75.56%\n",
      "Classification Report at Epoch 810:\n",
      "                  precision    recall  f1-score   support\n",
      "\n",
      "    infringement       0.84      0.62      0.71       283\n",
      "non_infringement       0.71      0.89      0.79       298\n",
      "\n",
      "        accuracy                           0.76       581\n",
      "       macro avg       0.77      0.75      0.75       581\n",
      "    weighted avg       0.77      0.76      0.75       581\n",
      "\n"
     ]
    },
    {
     "name": "stderr",
     "output_type": "stream",
     "text": [
      "Training Epochs:  41%|████      | 822/2000 [00:35<00:49, 23.56it/s]"
     ]
    },
    {
     "name": "stdout",
     "output_type": "stream",
     "text": [
      "Epoch 820/2000, Loss: 0.0001\n",
      "Test Accuracy at Epoch 820: 75.56%\n",
      "Classification Report at Epoch 820:\n",
      "                  precision    recall  f1-score   support\n",
      "\n",
      "    infringement       0.84      0.62      0.71       283\n",
      "non_infringement       0.71      0.89      0.79       298\n",
      "\n",
      "        accuracy                           0.76       581\n",
      "       macro avg       0.77      0.75      0.75       581\n",
      "    weighted avg       0.77      0.76      0.75       581\n",
      "\n"
     ]
    },
    {
     "name": "stderr",
     "output_type": "stream",
     "text": [
      "Training Epochs:  42%|████▏     | 832/2000 [00:36<00:52, 22.29it/s]"
     ]
    },
    {
     "name": "stdout",
     "output_type": "stream",
     "text": [
      "Epoch 830/2000, Loss: 0.0001\n",
      "Test Accuracy at Epoch 830: 75.56%\n",
      "Classification Report at Epoch 830:\n",
      "                  precision    recall  f1-score   support\n",
      "\n",
      "    infringement       0.84      0.62      0.71       283\n",
      "non_infringement       0.71      0.89      0.79       298\n",
      "\n",
      "        accuracy                           0.76       581\n",
      "       macro avg       0.77      0.75      0.75       581\n",
      "    weighted avg       0.77      0.76      0.75       581\n",
      "\n"
     ]
    },
    {
     "name": "stderr",
     "output_type": "stream",
     "text": [
      "Training Epochs:  42%|████▏     | 843/2000 [00:36<00:47, 24.42it/s]"
     ]
    },
    {
     "name": "stdout",
     "output_type": "stream",
     "text": [
      "Epoch 840/2000, Loss: 0.0001\n",
      "Test Accuracy at Epoch 840: 75.56%\n",
      "Classification Report at Epoch 840:\n",
      "                  precision    recall  f1-score   support\n",
      "\n",
      "    infringement       0.84      0.62      0.71       283\n",
      "non_infringement       0.71      0.89      0.79       298\n",
      "\n",
      "        accuracy                           0.76       581\n",
      "       macro avg       0.77      0.75      0.75       581\n",
      "    weighted avg       0.77      0.76      0.75       581\n",
      "\n"
     ]
    },
    {
     "name": "stderr",
     "output_type": "stream",
     "text": [
      "Training Epochs:  43%|████▎     | 853/2000 [00:37<00:47, 24.15it/s]"
     ]
    },
    {
     "name": "stdout",
     "output_type": "stream",
     "text": [
      "Epoch 850/2000, Loss: 0.0001\n",
      "Test Accuracy at Epoch 850: 75.56%\n",
      "Classification Report at Epoch 850:\n",
      "                  precision    recall  f1-score   support\n",
      "\n",
      "    infringement       0.84      0.62      0.71       283\n",
      "non_infringement       0.71      0.89      0.79       298\n",
      "\n",
      "        accuracy                           0.76       581\n",
      "       macro avg       0.77      0.75      0.75       581\n",
      "    weighted avg       0.77      0.76      0.75       581\n",
      "\n"
     ]
    },
    {
     "name": "stderr",
     "output_type": "stream",
     "text": [
      "Training Epochs:  43%|████▎     | 862/2000 [00:37<00:57, 19.82it/s]"
     ]
    },
    {
     "name": "stdout",
     "output_type": "stream",
     "text": [
      "Epoch 860/2000, Loss: 0.0001\n",
      "Test Accuracy at Epoch 860: 75.56%\n",
      "Classification Report at Epoch 860:\n",
      "                  precision    recall  f1-score   support\n",
      "\n",
      "    infringement       0.84      0.62      0.71       283\n",
      "non_infringement       0.71      0.89      0.79       298\n",
      "\n",
      "        accuracy                           0.76       581\n",
      "       macro avg       0.77      0.75      0.75       581\n",
      "    weighted avg       0.77      0.76      0.75       581\n",
      "\n"
     ]
    },
    {
     "name": "stderr",
     "output_type": "stream",
     "text": [
      "Training Epochs:  44%|████▎     | 872/2000 [00:37<00:50, 22.40it/s]"
     ]
    },
    {
     "name": "stdout",
     "output_type": "stream",
     "text": [
      "Epoch 870/2000, Loss: 0.0001\n",
      "Test Accuracy at Epoch 870: 75.56%\n",
      "Classification Report at Epoch 870:\n",
      "                  precision    recall  f1-score   support\n",
      "\n",
      "    infringement       0.84      0.62      0.71       283\n",
      "non_infringement       0.71      0.89      0.79       298\n",
      "\n",
      "        accuracy                           0.76       581\n",
      "       macro avg       0.77      0.75      0.75       581\n",
      "    weighted avg       0.77      0.76      0.75       581\n",
      "\n"
     ]
    },
    {
     "name": "stderr",
     "output_type": "stream",
     "text": [
      "Training Epochs:  44%|████▍     | 882/2000 [00:38<00:48, 23.05it/s]"
     ]
    },
    {
     "name": "stdout",
     "output_type": "stream",
     "text": [
      "Epoch 880/2000, Loss: 0.0001\n",
      "Test Accuracy at Epoch 880: 75.56%\n",
      "Classification Report at Epoch 880:\n",
      "                  precision    recall  f1-score   support\n",
      "\n",
      "    infringement       0.84      0.62      0.71       283\n",
      "non_infringement       0.71      0.89      0.79       298\n",
      "\n",
      "        accuracy                           0.76       581\n",
      "       macro avg       0.77      0.75      0.75       581\n",
      "    weighted avg       0.77      0.76      0.75       581\n",
      "\n"
     ]
    },
    {
     "name": "stderr",
     "output_type": "stream",
     "text": [
      "Training Epochs:  44%|████▍     | 890/2000 [00:38<00:49, 22.60it/s]"
     ]
    },
    {
     "name": "stdout",
     "output_type": "stream",
     "text": [
      "Epoch 890/2000, Loss: 0.0000\n",
      "Test Accuracy at Epoch 890: 75.56%\n",
      "Classification Report at Epoch 890:\n",
      "                  precision    recall  f1-score   support\n",
      "\n",
      "    infringement       0.84      0.62      0.71       283\n",
      "non_infringement       0.71      0.89      0.79       298\n",
      "\n",
      "        accuracy                           0.76       581\n",
      "       macro avg       0.77      0.75      0.75       581\n",
      "    weighted avg       0.77      0.76      0.75       581\n",
      "\n"
     ]
    },
    {
     "name": "stderr",
     "output_type": "stream",
     "text": [
      "Training Epochs:  45%|████▌     | 902/2000 [00:39<00:56, 19.41it/s]"
     ]
    },
    {
     "name": "stdout",
     "output_type": "stream",
     "text": [
      "Epoch 900/2000, Loss: 0.0000\n",
      "Test Accuracy at Epoch 900: 75.56%\n",
      "Classification Report at Epoch 900:\n",
      "                  precision    recall  f1-score   support\n",
      "\n",
      "    infringement       0.84      0.62      0.71       283\n",
      "non_infringement       0.71      0.89      0.79       298\n",
      "\n",
      "        accuracy                           0.76       581\n",
      "       macro avg       0.77      0.75      0.75       581\n",
      "    weighted avg       0.77      0.76      0.75       581\n",
      "\n"
     ]
    },
    {
     "name": "stderr",
     "output_type": "stream",
     "text": [
      "Training Epochs:  46%|████▌     | 914/2000 [00:40<00:56, 19.30it/s]"
     ]
    },
    {
     "name": "stdout",
     "output_type": "stream",
     "text": [
      "Epoch 910/2000, Loss: 0.0000\n",
      "Test Accuracy at Epoch 910: 75.56%\n",
      "Classification Report at Epoch 910:\n",
      "                  precision    recall  f1-score   support\n",
      "\n",
      "    infringement       0.84      0.62      0.71       283\n",
      "non_infringement       0.71      0.89      0.79       298\n",
      "\n",
      "        accuracy                           0.76       581\n",
      "       macro avg       0.77      0.75      0.75       581\n",
      "    weighted avg       0.77      0.76      0.75       581\n",
      "\n"
     ]
    },
    {
     "name": "stderr",
     "output_type": "stream",
     "text": [
      "Training Epochs:  46%|████▌     | 923/2000 [00:40<00:54, 19.86it/s]"
     ]
    },
    {
     "name": "stdout",
     "output_type": "stream",
     "text": [
      "Epoch 920/2000, Loss: 0.0000\n",
      "Test Accuracy at Epoch 920: 76.25%\n",
      "Classification Report at Epoch 920:\n",
      "                  precision    recall  f1-score   support\n",
      "\n",
      "    infringement       0.84      0.63      0.72       283\n",
      "non_infringement       0.72      0.89      0.79       298\n",
      "\n",
      "        accuracy                           0.76       581\n",
      "       macro avg       0.78      0.76      0.76       581\n",
      "    weighted avg       0.78      0.76      0.76       581\n",
      "\n"
     ]
    },
    {
     "name": "stderr",
     "output_type": "stream",
     "text": [
      "Training Epochs:  47%|████▋     | 934/2000 [00:40<00:43, 24.49it/s]"
     ]
    },
    {
     "name": "stdout",
     "output_type": "stream",
     "text": [
      "Epoch 930/2000, Loss: 0.0000\n",
      "Test Accuracy at Epoch 930: 76.25%\n",
      "Classification Report at Epoch 930:\n",
      "                  precision    recall  f1-score   support\n",
      "\n",
      "    infringement       0.84      0.63      0.72       283\n",
      "non_infringement       0.72      0.89      0.79       298\n",
      "\n",
      "        accuracy                           0.76       581\n",
      "       macro avg       0.78      0.76      0.76       581\n",
      "    weighted avg       0.78      0.76      0.76       581\n",
      "\n"
     ]
    },
    {
     "name": "stderr",
     "output_type": "stream",
     "text": [
      "Training Epochs:  47%|████▋     | 943/2000 [00:41<00:55, 19.21it/s]"
     ]
    },
    {
     "name": "stdout",
     "output_type": "stream",
     "text": [
      "Epoch 940/2000, Loss: 0.0000\n",
      "Test Accuracy at Epoch 940: 76.25%\n",
      "Classification Report at Epoch 940:\n",
      "                  precision    recall  f1-score   support\n",
      "\n",
      "    infringement       0.84      0.63      0.72       283\n",
      "non_infringement       0.72      0.89      0.79       298\n",
      "\n",
      "        accuracy                           0.76       581\n",
      "       macro avg       0.78      0.76      0.76       581\n",
      "    weighted avg       0.78      0.76      0.76       581\n",
      "\n"
     ]
    },
    {
     "name": "stderr",
     "output_type": "stream",
     "text": [
      "Training Epochs:  47%|████▋     | 949/2000 [00:41<00:47, 22.31it/s]"
     ]
    },
    {
     "name": "stdout",
     "output_type": "stream",
     "text": [
      "Epoch 950/2000, Loss: 0.0000\n",
      "Test Accuracy at Epoch 950: 76.25%\n",
      "Classification Report at Epoch 950:\n",
      "                  precision    recall  f1-score   support\n",
      "\n",
      "    infringement       0.84      0.63      0.72       283\n",
      "non_infringement       0.72      0.89      0.79       298\n",
      "\n",
      "        accuracy                           0.76       581\n",
      "       macro avg       0.78      0.76      0.76       581\n",
      "    weighted avg       0.78      0.76      0.76       581\n",
      "\n"
     ]
    },
    {
     "name": "stderr",
     "output_type": "stream",
     "text": [
      "Training Epochs:  48%|████▊     | 962/2000 [00:42<00:49, 20.89it/s]"
     ]
    },
    {
     "name": "stdout",
     "output_type": "stream",
     "text": [
      "Epoch 960/2000, Loss: 0.0000\n",
      "Test Accuracy at Epoch 960: 76.25%\n",
      "Classification Report at Epoch 960:\n",
      "                  precision    recall  f1-score   support\n",
      "\n",
      "    infringement       0.84      0.63      0.72       283\n",
      "non_infringement       0.72      0.89      0.79       298\n",
      "\n",
      "        accuracy                           0.76       581\n",
      "       macro avg       0.78      0.76      0.76       581\n",
      "    weighted avg       0.78      0.76      0.76       581\n",
      "\n"
     ]
    },
    {
     "name": "stderr",
     "output_type": "stream",
     "text": [
      "Training Epochs:  49%|████▊     | 973/2000 [00:42<00:44, 23.26it/s]"
     ]
    },
    {
     "name": "stdout",
     "output_type": "stream",
     "text": [
      "Epoch 970/2000, Loss: 0.0000\n",
      "Test Accuracy at Epoch 970: 76.25%\n",
      "Classification Report at Epoch 970:\n",
      "                  precision    recall  f1-score   support\n",
      "\n",
      "    infringement       0.84      0.63      0.72       283\n",
      "non_infringement       0.72      0.89      0.79       298\n",
      "\n",
      "        accuracy                           0.76       581\n",
      "       macro avg       0.78      0.76      0.76       581\n",
      "    weighted avg       0.78      0.76      0.76       581\n",
      "\n"
     ]
    },
    {
     "name": "stderr",
     "output_type": "stream",
     "text": [
      "Training Epochs:  49%|████▉     | 983/2000 [00:43<00:38, 26.55it/s]"
     ]
    },
    {
     "name": "stdout",
     "output_type": "stream",
     "text": [
      "Epoch 980/2000, Loss: 0.0000\n",
      "Test Accuracy at Epoch 980: 76.25%\n",
      "Classification Report at Epoch 980:\n",
      "                  precision    recall  f1-score   support\n",
      "\n",
      "    infringement       0.84      0.63      0.72       283\n",
      "non_infringement       0.72      0.89      0.79       298\n",
      "\n",
      "        accuracy                           0.76       581\n",
      "       macro avg       0.78      0.76      0.76       581\n",
      "    weighted avg       0.78      0.76      0.76       581\n",
      "\n"
     ]
    },
    {
     "name": "stderr",
     "output_type": "stream",
     "text": [
      "Training Epochs:  50%|████▉     | 994/2000 [00:43<00:35, 27.99it/s]"
     ]
    },
    {
     "name": "stdout",
     "output_type": "stream",
     "text": [
      "Epoch 990/2000, Loss: 0.0000\n",
      "Test Accuracy at Epoch 990: 76.25%\n",
      "Classification Report at Epoch 990:\n",
      "                  precision    recall  f1-score   support\n",
      "\n",
      "    infringement       0.84      0.63      0.72       283\n",
      "non_infringement       0.72      0.89      0.79       298\n",
      "\n",
      "        accuracy                           0.76       581\n",
      "       macro avg       0.78      0.76      0.76       581\n",
      "    weighted avg       0.78      0.76      0.76       581\n",
      "\n"
     ]
    },
    {
     "name": "stderr",
     "output_type": "stream",
     "text": [
      "Training Epochs:  50%|█████     | 1004/2000 [00:44<00:33, 29.85it/s]"
     ]
    },
    {
     "name": "stdout",
     "output_type": "stream",
     "text": [
      "Epoch 1000/2000, Loss: 0.0000\n",
      "Test Accuracy at Epoch 1000: 76.08%\n",
      "Classification Report at Epoch 1000:\n",
      "                  precision    recall  f1-score   support\n",
      "\n",
      "    infringement       0.84      0.63      0.72       283\n",
      "non_infringement       0.72      0.89      0.79       298\n",
      "\n",
      "        accuracy                           0.76       581\n",
      "       macro avg       0.78      0.76      0.76       581\n",
      "    weighted avg       0.78      0.76      0.76       581\n",
      "\n"
     ]
    },
    {
     "name": "stderr",
     "output_type": "stream",
     "text": [
      "Training Epochs:  51%|█████     | 1012/2000 [00:44<00:40, 24.39it/s]"
     ]
    },
    {
     "name": "stdout",
     "output_type": "stream",
     "text": [
      "Epoch 1010/2000, Loss: 0.0000\n",
      "Test Accuracy at Epoch 1010: 76.08%\n",
      "Classification Report at Epoch 1010:\n",
      "                  precision    recall  f1-score   support\n",
      "\n",
      "    infringement       0.84      0.63      0.72       283\n",
      "non_infringement       0.72      0.89      0.79       298\n",
      "\n",
      "        accuracy                           0.76       581\n",
      "       macro avg       0.78      0.76      0.76       581\n",
      "    weighted avg       0.78      0.76      0.76       581\n",
      "\n"
     ]
    },
    {
     "name": "stderr",
     "output_type": "stream",
     "text": [
      "Training Epochs:  51%|█████     | 1022/2000 [00:45<00:59, 16.34it/s]"
     ]
    },
    {
     "name": "stdout",
     "output_type": "stream",
     "text": [
      "Epoch 1020/2000, Loss: 0.0000\n",
      "Test Accuracy at Epoch 1020: 76.08%\n",
      "Classification Report at Epoch 1020:\n",
      "                  precision    recall  f1-score   support\n",
      "\n",
      "    infringement       0.84      0.63      0.72       283\n",
      "non_infringement       0.72      0.89      0.79       298\n",
      "\n",
      "        accuracy                           0.76       581\n",
      "       macro avg       0.78      0.76      0.76       581\n",
      "    weighted avg       0.78      0.76      0.76       581\n",
      "\n"
     ]
    },
    {
     "name": "stderr",
     "output_type": "stream",
     "text": [
      "Training Epochs:  52%|█████▏    | 1033/2000 [00:45<00:51, 18.60it/s]"
     ]
    },
    {
     "name": "stdout",
     "output_type": "stream",
     "text": [
      "Epoch 1030/2000, Loss: 0.0000\n",
      "Test Accuracy at Epoch 1030: 76.08%\n",
      "Classification Report at Epoch 1030:\n",
      "                  precision    recall  f1-score   support\n",
      "\n",
      "    infringement       0.84      0.63      0.72       283\n",
      "non_infringement       0.72      0.89      0.79       298\n",
      "\n",
      "        accuracy                           0.76       581\n",
      "       macro avg       0.78      0.76      0.76       581\n",
      "    weighted avg       0.78      0.76      0.76       581\n",
      "\n"
     ]
    },
    {
     "name": "stderr",
     "output_type": "stream",
     "text": [
      "Training Epochs:  52%|█████▏    | 1042/2000 [00:46<00:48, 19.90it/s]"
     ]
    },
    {
     "name": "stdout",
     "output_type": "stream",
     "text": [
      "Epoch 1040/2000, Loss: 0.0000\n",
      "Test Accuracy at Epoch 1040: 76.08%\n",
      "Classification Report at Epoch 1040:\n",
      "                  precision    recall  f1-score   support\n",
      "\n",
      "    infringement       0.84      0.63      0.72       283\n",
      "non_infringement       0.72      0.89      0.79       298\n",
      "\n",
      "        accuracy                           0.76       581\n",
      "       macro avg       0.78      0.76      0.76       581\n",
      "    weighted avg       0.78      0.76      0.76       581\n",
      "\n"
     ]
    },
    {
     "name": "stderr",
     "output_type": "stream",
     "text": [
      "Training Epochs:  53%|█████▎    | 1051/2000 [00:46<01:01, 15.55it/s]"
     ]
    },
    {
     "name": "stdout",
     "output_type": "stream",
     "text": [
      "Epoch 1050/2000, Loss: 0.0000\n",
      "Test Accuracy at Epoch 1050: 76.08%\n",
      "Classification Report at Epoch 1050:\n",
      "                  precision    recall  f1-score   support\n",
      "\n",
      "    infringement       0.84      0.63      0.72       283\n",
      "non_infringement       0.72      0.89      0.79       298\n",
      "\n",
      "        accuracy                           0.76       581\n",
      "       macro avg       0.78      0.76      0.76       581\n",
      "    weighted avg       0.78      0.76      0.76       581\n",
      "\n"
     ]
    },
    {
     "name": "stderr",
     "output_type": "stream",
     "text": [
      "Training Epochs:  53%|█████▎    | 1061/2000 [00:47<01:05, 14.33it/s]"
     ]
    },
    {
     "name": "stdout",
     "output_type": "stream",
     "text": [
      "Epoch 1060/2000, Loss: 0.0000\n",
      "Test Accuracy at Epoch 1060: 76.08%\n",
      "Classification Report at Epoch 1060:\n",
      "                  precision    recall  f1-score   support\n",
      "\n",
      "    infringement       0.84      0.63      0.72       283\n",
      "non_infringement       0.72      0.89      0.79       298\n",
      "\n",
      "        accuracy                           0.76       581\n",
      "       macro avg       0.78      0.76      0.76       581\n",
      "    weighted avg       0.78      0.76      0.76       581\n",
      "\n"
     ]
    },
    {
     "name": "stderr",
     "output_type": "stream",
     "text": [
      "Training Epochs:  54%|█████▎    | 1073/2000 [00:48<01:03, 14.64it/s]"
     ]
    },
    {
     "name": "stdout",
     "output_type": "stream",
     "text": [
      "Epoch 1070/2000, Loss: 0.0000\n",
      "Test Accuracy at Epoch 1070: 76.08%\n",
      "Classification Report at Epoch 1070:\n",
      "                  precision    recall  f1-score   support\n",
      "\n",
      "    infringement       0.84      0.63      0.72       283\n",
      "non_infringement       0.72      0.89      0.79       298\n",
      "\n",
      "        accuracy                           0.76       581\n",
      "       macro avg       0.78      0.76      0.76       581\n",
      "    weighted avg       0.78      0.76      0.76       581\n",
      "\n"
     ]
    },
    {
     "name": "stderr",
     "output_type": "stream",
     "text": [
      "Training Epochs:  54%|█████▍    | 1085/2000 [00:48<00:39, 23.00it/s]"
     ]
    },
    {
     "name": "stdout",
     "output_type": "stream",
     "text": [
      "Epoch 1080/2000, Loss: 0.0000\n",
      "Test Accuracy at Epoch 1080: 76.08%\n",
      "Classification Report at Epoch 1080:\n",
      "                  precision    recall  f1-score   support\n",
      "\n",
      "    infringement       0.84      0.63      0.72       283\n",
      "non_infringement       0.72      0.89      0.79       298\n",
      "\n",
      "        accuracy                           0.76       581\n",
      "       macro avg       0.78      0.76      0.76       581\n",
      "    weighted avg       0.78      0.76      0.76       581\n",
      "\n"
     ]
    },
    {
     "name": "stderr",
     "output_type": "stream",
     "text": [
      "Training Epochs:  55%|█████▍    | 1092/2000 [00:49<00:45, 20.04it/s]"
     ]
    },
    {
     "name": "stdout",
     "output_type": "stream",
     "text": [
      "Epoch 1090/2000, Loss: 0.0000\n",
      "Test Accuracy at Epoch 1090: 78.14%\n",
      "Classification Report at Epoch 1090:\n",
      "                  precision    recall  f1-score   support\n",
      "\n",
      "    infringement       0.85      0.67      0.75       283\n",
      "non_infringement       0.74      0.89      0.81       298\n",
      "\n",
      "        accuracy                           0.78       581\n",
      "       macro avg       0.79      0.78      0.78       581\n",
      "    weighted avg       0.79      0.78      0.78       581\n",
      "\n",
      "New best model saved with accuracy 78.14% at epoch 1090\n",
      "Best Classification Report at Epoch 1090:\n",
      "                  precision    recall  f1-score   support\n",
      "\n",
      "    infringement       0.85      0.67      0.75       283\n",
      "non_infringement       0.74      0.89      0.81       298\n",
      "\n",
      "        accuracy                           0.78       581\n",
      "       macro avg       0.79      0.78      0.78       581\n",
      "    weighted avg       0.79      0.78      0.78       581\n",
      "\n"
     ]
    },
    {
     "name": "stderr",
     "output_type": "stream",
     "text": [
      "Training Epochs:  55%|█████▌    | 1105/2000 [00:49<00:39, 22.38it/s]"
     ]
    },
    {
     "name": "stdout",
     "output_type": "stream",
     "text": [
      "Epoch 1100/2000, Loss: 0.0000\n",
      "Test Accuracy at Epoch 1100: 78.14%\n",
      "Classification Report at Epoch 1100:\n",
      "                  precision    recall  f1-score   support\n",
      "\n",
      "    infringement       0.85      0.67      0.75       283\n",
      "non_infringement       0.74      0.89      0.81       298\n",
      "\n",
      "        accuracy                           0.78       581\n",
      "       macro avg       0.79      0.78      0.78       581\n",
      "    weighted avg       0.79      0.78      0.78       581\n",
      "\n"
     ]
    },
    {
     "name": "stderr",
     "output_type": "stream",
     "text": [
      "Training Epochs:  56%|█████▌    | 1113/2000 [00:50<00:31, 28.12it/s]"
     ]
    },
    {
     "name": "stdout",
     "output_type": "stream",
     "text": [
      "Epoch 1110/2000, Loss: 0.0000\n",
      "Test Accuracy at Epoch 1110: 78.14%\n",
      "Classification Report at Epoch 1110:\n",
      "                  precision    recall  f1-score   support\n",
      "\n",
      "    infringement       0.85      0.67      0.75       283\n",
      "non_infringement       0.74      0.89      0.81       298\n",
      "\n",
      "        accuracy                           0.78       581\n",
      "       macro avg       0.79      0.78      0.78       581\n",
      "    weighted avg       0.79      0.78      0.78       581\n",
      "\n"
     ]
    },
    {
     "name": "stderr",
     "output_type": "stream",
     "text": [
      "Training Epochs:  56%|█████▌    | 1124/2000 [00:50<00:31, 27.49it/s]"
     ]
    },
    {
     "name": "stdout",
     "output_type": "stream",
     "text": [
      "Epoch 1120/2000, Loss: 0.0000\n",
      "Test Accuracy at Epoch 1120: 78.14%\n",
      "Classification Report at Epoch 1120:\n",
      "                  precision    recall  f1-score   support\n",
      "\n",
      "    infringement       0.85      0.67      0.75       283\n",
      "non_infringement       0.74      0.89      0.81       298\n",
      "\n",
      "        accuracy                           0.78       581\n",
      "       macro avg       0.79      0.78      0.78       581\n",
      "    weighted avg       0.79      0.78      0.78       581\n",
      "\n"
     ]
    },
    {
     "name": "stderr",
     "output_type": "stream",
     "text": [
      "Training Epochs:  56%|█████▋    | 1128/2000 [00:50<00:33, 25.80it/s]"
     ]
    },
    {
     "name": "stdout",
     "output_type": "stream",
     "text": [
      "Epoch 1130/2000, Loss: 0.0000\n",
      "Test Accuracy at Epoch 1130: 78.14%\n",
      "Classification Report at Epoch 1130:\n",
      "                  precision    recall  f1-score   support\n",
      "\n",
      "    infringement       0.85      0.67      0.75       283\n",
      "non_infringement       0.74      0.89      0.81       298\n",
      "\n",
      "        accuracy                           0.78       581\n",
      "       macro avg       0.79      0.78      0.78       581\n",
      "    weighted avg       0.79      0.78      0.78       581\n",
      "\n"
     ]
    },
    {
     "name": "stderr",
     "output_type": "stream",
     "text": [
      "Training Epochs:  57%|█████▋    | 1141/2000 [00:51<00:53, 16.12it/s]"
     ]
    },
    {
     "name": "stdout",
     "output_type": "stream",
     "text": [
      "Epoch 1140/2000, Loss: 0.0000\n",
      "Test Accuracy at Epoch 1140: 78.14%\n",
      "Classification Report at Epoch 1140:\n",
      "                  precision    recall  f1-score   support\n",
      "\n",
      "    infringement       0.85      0.67      0.75       283\n",
      "non_infringement       0.74      0.89      0.81       298\n",
      "\n",
      "        accuracy                           0.78       581\n",
      "       macro avg       0.79      0.78      0.78       581\n",
      "    weighted avg       0.79      0.78      0.78       581\n",
      "\n"
     ]
    },
    {
     "name": "stderr",
     "output_type": "stream",
     "text": [
      "Training Epochs:  58%|█████▊    | 1154/2000 [00:52<00:35, 23.86it/s]"
     ]
    },
    {
     "name": "stdout",
     "output_type": "stream",
     "text": [
      "Epoch 1150/2000, Loss: 0.0000\n",
      "Test Accuracy at Epoch 1150: 78.14%\n",
      "Classification Report at Epoch 1150:\n",
      "                  precision    recall  f1-score   support\n",
      "\n",
      "    infringement       0.85      0.67      0.75       283\n",
      "non_infringement       0.74      0.89      0.81       298\n",
      "\n",
      "        accuracy                           0.78       581\n",
      "       macro avg       0.79      0.78      0.78       581\n",
      "    weighted avg       0.79      0.78      0.78       581\n",
      "\n"
     ]
    },
    {
     "name": "stderr",
     "output_type": "stream",
     "text": [
      "Training Epochs:  58%|█████▊    | 1160/2000 [00:52<00:40, 20.61it/s]"
     ]
    },
    {
     "name": "stdout",
     "output_type": "stream",
     "text": [
      "Epoch 1160/2000, Loss: 0.0000\n",
      "Test Accuracy at Epoch 1160: 78.14%\n",
      "Classification Report at Epoch 1160:\n",
      "                  precision    recall  f1-score   support\n",
      "\n",
      "    infringement       0.85      0.67      0.75       283\n",
      "non_infringement       0.74      0.89      0.81       298\n",
      "\n",
      "        accuracy                           0.78       581\n",
      "       macro avg       0.79      0.78      0.78       581\n",
      "    weighted avg       0.79      0.78      0.78       581\n",
      "\n"
     ]
    },
    {
     "name": "stderr",
     "output_type": "stream",
     "text": [
      "Training Epochs:  59%|█████▊    | 1171/2000 [00:53<01:03, 12.96it/s]"
     ]
    },
    {
     "name": "stdout",
     "output_type": "stream",
     "text": [
      "Epoch 1170/2000, Loss: 0.0000\n",
      "Test Accuracy at Epoch 1170: 78.14%\n",
      "Classification Report at Epoch 1170:\n",
      "                  precision    recall  f1-score   support\n",
      "\n",
      "    infringement       0.85      0.67      0.75       283\n",
      "non_infringement       0.74      0.89      0.81       298\n",
      "\n",
      "        accuracy                           0.78       581\n",
      "       macro avg       0.79      0.78      0.78       581\n",
      "    weighted avg       0.79      0.78      0.78       581\n",
      "\n"
     ]
    },
    {
     "name": "stderr",
     "output_type": "stream",
     "text": [
      "Training Epochs:  59%|█████▉    | 1181/2000 [00:54<01:12, 11.25it/s]"
     ]
    },
    {
     "name": "stdout",
     "output_type": "stream",
     "text": [
      "Epoch 1180/2000, Loss: 0.0000\n",
      "Test Accuracy at Epoch 1180: 78.14%\n",
      "Classification Report at Epoch 1180:\n",
      "                  precision    recall  f1-score   support\n",
      "\n",
      "    infringement       0.85      0.67      0.75       283\n",
      "non_infringement       0.74      0.89      0.81       298\n",
      "\n",
      "        accuracy                           0.78       581\n",
      "       macro avg       0.79      0.78      0.78       581\n",
      "    weighted avg       0.79      0.78      0.78       581\n",
      "\n"
     ]
    },
    {
     "name": "stderr",
     "output_type": "stream",
     "text": [
      "Training Epochs:  60%|█████▉    | 1191/2000 [00:55<00:58, 13.79it/s]"
     ]
    },
    {
     "name": "stdout",
     "output_type": "stream",
     "text": [
      "Epoch 1190/2000, Loss: 0.0000\n",
      "Test Accuracy at Epoch 1190: 78.14%\n",
      "Classification Report at Epoch 1190:\n",
      "                  precision    recall  f1-score   support\n",
      "\n",
      "    infringement       0.85      0.67      0.75       283\n",
      "non_infringement       0.74      0.89      0.81       298\n",
      "\n",
      "        accuracy                           0.78       581\n",
      "       macro avg       0.79      0.78      0.78       581\n",
      "    weighted avg       0.79      0.78      0.78       581\n",
      "\n"
     ]
    },
    {
     "name": "stderr",
     "output_type": "stream",
     "text": [
      "Training Epochs:  60%|██████    | 1200/2000 [00:55<01:07, 11.87it/s]"
     ]
    },
    {
     "name": "stdout",
     "output_type": "stream",
     "text": [
      "Epoch 1200/2000, Loss: 0.0000\n",
      "Test Accuracy at Epoch 1200: 78.14%\n",
      "Classification Report at Epoch 1200:\n",
      "                  precision    recall  f1-score   support\n",
      "\n",
      "    infringement       0.85      0.67      0.75       283\n",
      "non_infringement       0.74      0.89      0.81       298\n",
      "\n",
      "        accuracy                           0.78       581\n",
      "       macro avg       0.79      0.78      0.78       581\n",
      "    weighted avg       0.79      0.78      0.78       581\n",
      "\n"
     ]
    },
    {
     "name": "stderr",
     "output_type": "stream",
     "text": [
      "Training Epochs:  61%|██████    | 1211/2000 [00:56<01:01, 12.80it/s]"
     ]
    },
    {
     "name": "stdout",
     "output_type": "stream",
     "text": [
      "Epoch 1210/2000, Loss: 0.0000\n",
      "Test Accuracy at Epoch 1210: 78.14%\n",
      "Classification Report at Epoch 1210:\n",
      "                  precision    recall  f1-score   support\n",
      "\n",
      "    infringement       0.85      0.67      0.75       283\n",
      "non_infringement       0.74      0.89      0.81       298\n",
      "\n",
      "        accuracy                           0.78       581\n",
      "       macro avg       0.79      0.78      0.78       581\n",
      "    weighted avg       0.79      0.78      0.78       581\n",
      "\n"
     ]
    },
    {
     "name": "stderr",
     "output_type": "stream",
     "text": [
      "Training Epochs:  61%|██████    | 1222/2000 [00:57<00:48, 16.06it/s]"
     ]
    },
    {
     "name": "stdout",
     "output_type": "stream",
     "text": [
      "Epoch 1220/2000, Loss: 0.0000\n",
      "Test Accuracy at Epoch 1220: 78.14%\n",
      "Classification Report at Epoch 1220:\n",
      "                  precision    recall  f1-score   support\n",
      "\n",
      "    infringement       0.85      0.67      0.75       283\n",
      "non_infringement       0.74      0.89      0.81       298\n",
      "\n",
      "        accuracy                           0.78       581\n",
      "       macro avg       0.79      0.78      0.78       581\n",
      "    weighted avg       0.79      0.78      0.78       581\n",
      "\n"
     ]
    },
    {
     "name": "stderr",
     "output_type": "stream",
     "text": [
      "Training Epochs:  62%|██████▏   | 1231/2000 [00:57<00:34, 22.25it/s]"
     ]
    },
    {
     "name": "stdout",
     "output_type": "stream",
     "text": [
      "Epoch 1230/2000, Loss: 0.0000\n",
      "Test Accuracy at Epoch 1230: 78.14%\n",
      "Classification Report at Epoch 1230:\n",
      "                  precision    recall  f1-score   support\n",
      "\n",
      "    infringement       0.85      0.67      0.75       283\n",
      "non_infringement       0.74      0.89      0.81       298\n",
      "\n",
      "        accuracy                           0.78       581\n",
      "       macro avg       0.79      0.78      0.78       581\n",
      "    weighted avg       0.79      0.78      0.78       581\n",
      "\n"
     ]
    },
    {
     "name": "stderr",
     "output_type": "stream",
     "text": [
      "Training Epochs:  62%|██████▏   | 1243/2000 [00:58<00:43, 17.48it/s]"
     ]
    },
    {
     "name": "stdout",
     "output_type": "stream",
     "text": [
      "Epoch 1240/2000, Loss: 0.0000\n",
      "Test Accuracy at Epoch 1240: 78.14%\n",
      "Classification Report at Epoch 1240:\n",
      "                  precision    recall  f1-score   support\n",
      "\n",
      "    infringement       0.85      0.67      0.75       283\n",
      "non_infringement       0.74      0.89      0.81       298\n",
      "\n",
      "        accuracy                           0.78       581\n",
      "       macro avg       0.79      0.78      0.78       581\n",
      "    weighted avg       0.79      0.78      0.78       581\n",
      "\n"
     ]
    },
    {
     "name": "stderr",
     "output_type": "stream",
     "text": [
      "Training Epochs:  63%|██████▎   | 1252/2000 [00:58<00:34, 21.83it/s]"
     ]
    },
    {
     "name": "stdout",
     "output_type": "stream",
     "text": [
      "Epoch 1250/2000, Loss: 0.0000\n",
      "Test Accuracy at Epoch 1250: 77.97%\n",
      "Classification Report at Epoch 1250:\n",
      "                  precision    recall  f1-score   support\n",
      "\n",
      "    infringement       0.85      0.67      0.75       283\n",
      "non_infringement       0.74      0.89      0.80       298\n",
      "\n",
      "        accuracy                           0.78       581\n",
      "       macro avg       0.79      0.78      0.78       581\n",
      "    weighted avg       0.79      0.78      0.78       581\n",
      "\n"
     ]
    },
    {
     "name": "stderr",
     "output_type": "stream",
     "text": [
      "Training Epochs:  63%|██████▎   | 1261/2000 [00:59<00:43, 16.84it/s]"
     ]
    },
    {
     "name": "stdout",
     "output_type": "stream",
     "text": [
      "Epoch 1260/2000, Loss: 0.0000\n",
      "Test Accuracy at Epoch 1260: 77.97%\n",
      "Classification Report at Epoch 1260:\n",
      "                  precision    recall  f1-score   support\n",
      "\n",
      "    infringement       0.85      0.67      0.75       283\n",
      "non_infringement       0.74      0.89      0.80       298\n",
      "\n",
      "        accuracy                           0.78       581\n",
      "       macro avg       0.79      0.78      0.78       581\n",
      "    weighted avg       0.79      0.78      0.78       581\n",
      "\n"
     ]
    },
    {
     "name": "stderr",
     "output_type": "stream",
     "text": [
      "Training Epochs:  64%|██████▎   | 1271/2000 [01:00<01:00, 12.05it/s]"
     ]
    },
    {
     "name": "stdout",
     "output_type": "stream",
     "text": [
      "Epoch 1270/2000, Loss: 0.0000\n",
      "Test Accuracy at Epoch 1270: 77.97%\n",
      "Classification Report at Epoch 1270:\n",
      "                  precision    recall  f1-score   support\n",
      "\n",
      "    infringement       0.85      0.67      0.75       283\n",
      "non_infringement       0.74      0.89      0.80       298\n",
      "\n",
      "        accuracy                           0.78       581\n",
      "       macro avg       0.79      0.78      0.78       581\n",
      "    weighted avg       0.79      0.78      0.78       581\n",
      "\n"
     ]
    },
    {
     "name": "stderr",
     "output_type": "stream",
     "text": [
      "Training Epochs:  64%|██████▍   | 1281/2000 [01:01<00:45, 15.70it/s]"
     ]
    },
    {
     "name": "stdout",
     "output_type": "stream",
     "text": [
      "Epoch 1280/2000, Loss: 0.0000\n",
      "Test Accuracy at Epoch 1280: 77.97%\n",
      "Classification Report at Epoch 1280:\n",
      "                  precision    recall  f1-score   support\n",
      "\n",
      "    infringement       0.85      0.67      0.75       283\n",
      "non_infringement       0.74      0.89      0.80       298\n",
      "\n",
      "        accuracy                           0.78       581\n",
      "       macro avg       0.79      0.78      0.78       581\n",
      "    weighted avg       0.79      0.78      0.78       581\n",
      "\n"
     ]
    },
    {
     "name": "stderr",
     "output_type": "stream",
     "text": [
      "Training Epochs:  65%|██████▍   | 1292/2000 [01:01<00:57, 12.37it/s]"
     ]
    },
    {
     "name": "stdout",
     "output_type": "stream",
     "text": [
      "Epoch 1290/2000, Loss: 0.0000\n",
      "Test Accuracy at Epoch 1290: 77.97%\n",
      "Classification Report at Epoch 1290:\n",
      "                  precision    recall  f1-score   support\n",
      "\n",
      "    infringement       0.85      0.67      0.75       283\n",
      "non_infringement       0.74      0.89      0.80       298\n",
      "\n",
      "        accuracy                           0.78       581\n",
      "       macro avg       0.79      0.78      0.78       581\n",
      "    weighted avg       0.79      0.78      0.78       581\n",
      "\n"
     ]
    },
    {
     "name": "stderr",
     "output_type": "stream",
     "text": [
      "Training Epochs:  65%|██████▌   | 1302/2000 [01:02<00:53, 13.16it/s]"
     ]
    },
    {
     "name": "stdout",
     "output_type": "stream",
     "text": [
      "Epoch 1300/2000, Loss: 0.0000\n",
      "Test Accuracy at Epoch 1300: 77.97%\n",
      "Classification Report at Epoch 1300:\n",
      "                  precision    recall  f1-score   support\n",
      "\n",
      "    infringement       0.85      0.67      0.75       283\n",
      "non_infringement       0.74      0.89      0.80       298\n",
      "\n",
      "        accuracy                           0.78       581\n",
      "       macro avg       0.79      0.78      0.78       581\n",
      "    weighted avg       0.79      0.78      0.78       581\n",
      "\n"
     ]
    },
    {
     "name": "stderr",
     "output_type": "stream",
     "text": [
      "Training Epochs:  66%|██████▌   | 1311/2000 [01:03<00:45, 15.21it/s]"
     ]
    },
    {
     "name": "stdout",
     "output_type": "stream",
     "text": [
      "Epoch 1310/2000, Loss: 0.0000\n",
      "Test Accuracy at Epoch 1310: 77.97%\n",
      "Classification Report at Epoch 1310:\n",
      "                  precision    recall  f1-score   support\n",
      "\n",
      "    infringement       0.85      0.67      0.75       283\n",
      "non_infringement       0.74      0.89      0.80       298\n",
      "\n",
      "        accuracy                           0.78       581\n",
      "       macro avg       0.79      0.78      0.78       581\n",
      "    weighted avg       0.79      0.78      0.78       581\n",
      "\n"
     ]
    },
    {
     "name": "stderr",
     "output_type": "stream",
     "text": [
      "Training Epochs:  66%|██████▌   | 1323/2000 [01:04<00:39, 17.24it/s]"
     ]
    },
    {
     "name": "stdout",
     "output_type": "stream",
     "text": [
      "Epoch 1320/2000, Loss: 0.0000\n",
      "Test Accuracy at Epoch 1320: 77.97%\n",
      "Classification Report at Epoch 1320:\n",
      "                  precision    recall  f1-score   support\n",
      "\n",
      "    infringement       0.85      0.67      0.75       283\n",
      "non_infringement       0.74      0.89      0.80       298\n",
      "\n",
      "        accuracy                           0.78       581\n",
      "       macro avg       0.79      0.78      0.78       581\n",
      "    weighted avg       0.79      0.78      0.78       581\n",
      "\n"
     ]
    },
    {
     "name": "stderr",
     "output_type": "stream",
     "text": [
      "Training Epochs:  67%|██████▋   | 1333/2000 [01:04<00:41, 15.98it/s]"
     ]
    },
    {
     "name": "stdout",
     "output_type": "stream",
     "text": [
      "Epoch 1330/2000, Loss: 0.0000\n",
      "Test Accuracy at Epoch 1330: 77.97%\n",
      "Classification Report at Epoch 1330:\n",
      "                  precision    recall  f1-score   support\n",
      "\n",
      "    infringement       0.85      0.67      0.75       283\n",
      "non_infringement       0.74      0.89      0.80       298\n",
      "\n",
      "        accuracy                           0.78       581\n",
      "       macro avg       0.79      0.78      0.78       581\n",
      "    weighted avg       0.79      0.78      0.78       581\n",
      "\n"
     ]
    },
    {
     "name": "stderr",
     "output_type": "stream",
     "text": [
      "Training Epochs:  67%|██████▋   | 1343/2000 [01:05<00:35, 18.71it/s]"
     ]
    },
    {
     "name": "stdout",
     "output_type": "stream",
     "text": [
      "Epoch 1340/2000, Loss: 0.0000\n",
      "Test Accuracy at Epoch 1340: 77.97%\n",
      "Classification Report at Epoch 1340:\n",
      "                  precision    recall  f1-score   support\n",
      "\n",
      "    infringement       0.85      0.67      0.75       283\n",
      "non_infringement       0.74      0.89      0.80       298\n",
      "\n",
      "        accuracy                           0.78       581\n",
      "       macro avg       0.79      0.78      0.78       581\n",
      "    weighted avg       0.79      0.78      0.78       581\n",
      "\n"
     ]
    },
    {
     "name": "stderr",
     "output_type": "stream",
     "text": [
      "Training Epochs:  68%|██████▊   | 1353/2000 [01:05<00:28, 22.69it/s]"
     ]
    },
    {
     "name": "stdout",
     "output_type": "stream",
     "text": [
      "Epoch 1350/2000, Loss: 0.0000\n",
      "Test Accuracy at Epoch 1350: 77.97%\n",
      "Classification Report at Epoch 1350:\n",
      "                  precision    recall  f1-score   support\n",
      "\n",
      "    infringement       0.85      0.67      0.75       283\n",
      "non_infringement       0.74      0.89      0.80       298\n",
      "\n",
      "        accuracy                           0.78       581\n",
      "       macro avg       0.79      0.78      0.78       581\n",
      "    weighted avg       0.79      0.78      0.78       581\n",
      "\n"
     ]
    },
    {
     "name": "stderr",
     "output_type": "stream",
     "text": [
      "Training Epochs:  68%|██████▊   | 1362/2000 [01:06<00:40, 15.67it/s]"
     ]
    },
    {
     "name": "stdout",
     "output_type": "stream",
     "text": [
      "Epoch 1360/2000, Loss: 0.0000\n",
      "Test Accuracy at Epoch 1360: 77.97%\n",
      "Classification Report at Epoch 1360:\n",
      "                  precision    recall  f1-score   support\n",
      "\n",
      "    infringement       0.85      0.67      0.75       283\n",
      "non_infringement       0.74      0.89      0.80       298\n",
      "\n",
      "        accuracy                           0.78       581\n",
      "       macro avg       0.79      0.78      0.78       581\n",
      "    weighted avg       0.79      0.78      0.78       581\n",
      "\n"
     ]
    },
    {
     "name": "stderr",
     "output_type": "stream",
     "text": [
      "Training Epochs:  69%|██████▊   | 1372/2000 [01:06<00:39, 15.84it/s]"
     ]
    },
    {
     "name": "stdout",
     "output_type": "stream",
     "text": [
      "Epoch 1370/2000, Loss: 0.0000\n",
      "Test Accuracy at Epoch 1370: 77.80%\n",
      "Classification Report at Epoch 1370:\n",
      "                  precision    recall  f1-score   support\n",
      "\n",
      "    infringement       0.85      0.66      0.74       283\n",
      "non_infringement       0.74      0.89      0.80       298\n",
      "\n",
      "        accuracy                           0.78       581\n",
      "       macro avg       0.79      0.78      0.77       581\n",
      "    weighted avg       0.79      0.78      0.77       581\n",
      "\n"
     ]
    },
    {
     "name": "stderr",
     "output_type": "stream",
     "text": [
      "Training Epochs:  69%|██████▉   | 1383/2000 [01:07<00:38, 16.19it/s]"
     ]
    },
    {
     "name": "stdout",
     "output_type": "stream",
     "text": [
      "Epoch 1380/2000, Loss: 0.0000\n",
      "Test Accuracy at Epoch 1380: 77.80%\n",
      "Classification Report at Epoch 1380:\n",
      "                  precision    recall  f1-score   support\n",
      "\n",
      "    infringement       0.85      0.66      0.74       283\n",
      "non_infringement       0.74      0.89      0.80       298\n",
      "\n",
      "        accuracy                           0.78       581\n",
      "       macro avg       0.79      0.78      0.77       581\n",
      "    weighted avg       0.79      0.78      0.77       581\n",
      "\n"
     ]
    },
    {
     "name": "stderr",
     "output_type": "stream",
     "text": [
      "Training Epochs:  70%|██████▉   | 1394/2000 [01:08<00:30, 20.05it/s]"
     ]
    },
    {
     "name": "stdout",
     "output_type": "stream",
     "text": [
      "Epoch 1390/2000, Loss: 0.0000\n",
      "Test Accuracy at Epoch 1390: 77.80%\n",
      "Classification Report at Epoch 1390:\n",
      "                  precision    recall  f1-score   support\n",
      "\n",
      "    infringement       0.85      0.66      0.74       283\n",
      "non_infringement       0.74      0.89      0.80       298\n",
      "\n",
      "        accuracy                           0.78       581\n",
      "       macro avg       0.79      0.78      0.77       581\n",
      "    weighted avg       0.79      0.78      0.77       581\n",
      "\n"
     ]
    },
    {
     "name": "stderr",
     "output_type": "stream",
     "text": [
      "Training Epochs:  70%|███████   | 1401/2000 [01:08<00:32, 18.16it/s]"
     ]
    },
    {
     "name": "stdout",
     "output_type": "stream",
     "text": [
      "Epoch 1400/2000, Loss: 0.0000\n",
      "Test Accuracy at Epoch 1400: 77.80%\n",
      "Classification Report at Epoch 1400:\n",
      "                  precision    recall  f1-score   support\n",
      "\n",
      "    infringement       0.85      0.66      0.74       283\n",
      "non_infringement       0.74      0.89      0.80       298\n",
      "\n",
      "        accuracy                           0.78       581\n",
      "       macro avg       0.79      0.78      0.77       581\n",
      "    weighted avg       0.79      0.78      0.77       581\n",
      "\n"
     ]
    },
    {
     "name": "stderr",
     "output_type": "stream",
     "text": [
      "Training Epochs:  71%|███████   | 1411/2000 [01:09<00:47, 12.35it/s]"
     ]
    },
    {
     "name": "stdout",
     "output_type": "stream",
     "text": [
      "Epoch 1410/2000, Loss: 0.0000\n",
      "Test Accuracy at Epoch 1410: 77.80%\n",
      "Classification Report at Epoch 1410:\n",
      "                  precision    recall  f1-score   support\n",
      "\n",
      "    infringement       0.85      0.66      0.74       283\n",
      "non_infringement       0.74      0.89      0.80       298\n",
      "\n",
      "        accuracy                           0.78       581\n",
      "       macro avg       0.79      0.78      0.77       581\n",
      "    weighted avg       0.79      0.78      0.77       581\n",
      "\n"
     ]
    },
    {
     "name": "stderr",
     "output_type": "stream",
     "text": [
      "Training Epochs:  71%|███████   | 1421/2000 [01:10<00:37, 15.58it/s]"
     ]
    },
    {
     "name": "stdout",
     "output_type": "stream",
     "text": [
      "Epoch 1420/2000, Loss: 0.0000\n",
      "Test Accuracy at Epoch 1420: 77.80%\n",
      "Classification Report at Epoch 1420:\n",
      "                  precision    recall  f1-score   support\n",
      "\n",
      "    infringement       0.85      0.66      0.74       283\n",
      "non_infringement       0.74      0.89      0.80       298\n",
      "\n",
      "        accuracy                           0.78       581\n",
      "       macro avg       0.79      0.78      0.77       581\n",
      "    weighted avg       0.79      0.78      0.77       581\n",
      "\n"
     ]
    },
    {
     "name": "stderr",
     "output_type": "stream",
     "text": [
      "Training Epochs:  72%|███████▏  | 1432/2000 [01:10<00:36, 15.72it/s]"
     ]
    },
    {
     "name": "stdout",
     "output_type": "stream",
     "text": [
      "Epoch 1430/2000, Loss: 0.0000\n",
      "Test Accuracy at Epoch 1430: 77.80%\n",
      "Classification Report at Epoch 1430:\n",
      "                  precision    recall  f1-score   support\n",
      "\n",
      "    infringement       0.85      0.66      0.74       283\n",
      "non_infringement       0.74      0.89      0.80       298\n",
      "\n",
      "        accuracy                           0.78       581\n",
      "       macro avg       0.79      0.78      0.77       581\n",
      "    weighted avg       0.79      0.78      0.77       581\n",
      "\n"
     ]
    },
    {
     "name": "stderr",
     "output_type": "stream",
     "text": [
      "Training Epochs:  72%|███████▏  | 1440/2000 [01:11<00:41, 13.35it/s]"
     ]
    },
    {
     "name": "stdout",
     "output_type": "stream",
     "text": [
      "Epoch 1440/2000, Loss: 0.0000\n",
      "Test Accuracy at Epoch 1440: 77.80%\n",
      "Classification Report at Epoch 1440:\n",
      "                  precision    recall  f1-score   support\n",
      "\n",
      "    infringement       0.85      0.66      0.74       283\n",
      "non_infringement       0.74      0.89      0.80       298\n",
      "\n",
      "        accuracy                           0.78       581\n",
      "       macro avg       0.79      0.78      0.77       581\n",
      "    weighted avg       0.79      0.78      0.77       581\n",
      "\n"
     ]
    },
    {
     "name": "stderr",
     "output_type": "stream",
     "text": [
      "Training Epochs:  73%|███████▎  | 1452/2000 [01:12<00:43, 12.47it/s]"
     ]
    },
    {
     "name": "stdout",
     "output_type": "stream",
     "text": [
      "Epoch 1450/2000, Loss: 0.0000\n",
      "Test Accuracy at Epoch 1450: 77.80%\n",
      "Classification Report at Epoch 1450:\n",
      "                  precision    recall  f1-score   support\n",
      "\n",
      "    infringement       0.85      0.66      0.74       283\n",
      "non_infringement       0.74      0.89      0.80       298\n",
      "\n",
      "        accuracy                           0.78       581\n",
      "       macro avg       0.79      0.78      0.77       581\n",
      "    weighted avg       0.79      0.78      0.77       581\n",
      "\n"
     ]
    },
    {
     "name": "stderr",
     "output_type": "stream",
     "text": [
      "Training Epochs:  73%|███████▎  | 1463/2000 [01:13<00:28, 18.67it/s]"
     ]
    },
    {
     "name": "stdout",
     "output_type": "stream",
     "text": [
      "Epoch 1460/2000, Loss: 0.0000\n",
      "Test Accuracy at Epoch 1460: 77.80%\n",
      "Classification Report at Epoch 1460:\n",
      "                  precision    recall  f1-score   support\n",
      "\n",
      "    infringement       0.85      0.66      0.74       283\n",
      "non_infringement       0.74      0.89      0.80       298\n",
      "\n",
      "        accuracy                           0.78       581\n",
      "       macro avg       0.79      0.78      0.77       581\n",
      "    weighted avg       0.79      0.78      0.77       581\n",
      "\n"
     ]
    },
    {
     "name": "stderr",
     "output_type": "stream",
     "text": [
      "Training Epochs:  74%|███████▎  | 1472/2000 [01:13<00:34, 15.50it/s]"
     ]
    },
    {
     "name": "stdout",
     "output_type": "stream",
     "text": [
      "Epoch 1470/2000, Loss: 0.0000\n",
      "Test Accuracy at Epoch 1470: 77.80%\n",
      "Classification Report at Epoch 1470:\n",
      "                  precision    recall  f1-score   support\n",
      "\n",
      "    infringement       0.85      0.66      0.74       283\n",
      "non_infringement       0.74      0.89      0.80       298\n",
      "\n",
      "        accuracy                           0.78       581\n",
      "       macro avg       0.79      0.78      0.77       581\n",
      "    weighted avg       0.79      0.78      0.77       581\n",
      "\n"
     ]
    },
    {
     "name": "stderr",
     "output_type": "stream",
     "text": [
      "Training Epochs:  74%|███████▍  | 1481/2000 [01:14<00:39, 13.22it/s]"
     ]
    },
    {
     "name": "stdout",
     "output_type": "stream",
     "text": [
      "Epoch 1480/2000, Loss: 0.0000\n",
      "Test Accuracy at Epoch 1480: 77.80%\n",
      "Classification Report at Epoch 1480:\n",
      "                  precision    recall  f1-score   support\n",
      "\n",
      "    infringement       0.85      0.66      0.74       283\n",
      "non_infringement       0.74      0.89      0.80       298\n",
      "\n",
      "        accuracy                           0.78       581\n",
      "       macro avg       0.79      0.78      0.77       581\n",
      "    weighted avg       0.79      0.78      0.77       581\n",
      "\n"
     ]
    },
    {
     "name": "stderr",
     "output_type": "stream",
     "text": [
      "Training Epochs:  75%|███████▍  | 1491/2000 [01:15<00:42, 12.00it/s]"
     ]
    },
    {
     "name": "stdout",
     "output_type": "stream",
     "text": [
      "Epoch 1490/2000, Loss: 0.0000\n",
      "Test Accuracy at Epoch 1490: 77.80%\n",
      "Classification Report at Epoch 1490:\n",
      "                  precision    recall  f1-score   support\n",
      "\n",
      "    infringement       0.85      0.66      0.74       283\n",
      "non_infringement       0.74      0.89      0.80       298\n",
      "\n",
      "        accuracy                           0.78       581\n",
      "       macro avg       0.79      0.78      0.77       581\n",
      "    weighted avg       0.79      0.78      0.77       581\n",
      "\n"
     ]
    },
    {
     "name": "stderr",
     "output_type": "stream",
     "text": [
      "Training Epochs:  75%|███████▌  | 1500/2000 [01:15<00:34, 14.47it/s]"
     ]
    },
    {
     "name": "stdout",
     "output_type": "stream",
     "text": [
      "Epoch 1500/2000, Loss: 0.0000\n",
      "Test Accuracy at Epoch 1500: 77.80%\n",
      "Classification Report at Epoch 1500:\n",
      "                  precision    recall  f1-score   support\n",
      "\n",
      "    infringement       0.85      0.66      0.74       283\n",
      "non_infringement       0.74      0.89      0.80       298\n",
      "\n",
      "        accuracy                           0.78       581\n",
      "       macro avg       0.79      0.78      0.77       581\n",
      "    weighted avg       0.79      0.78      0.77       581\n",
      "\n"
     ]
    },
    {
     "name": "stderr",
     "output_type": "stream",
     "text": [
      "Training Epochs:  76%|███████▌  | 1514/2000 [01:16<00:25, 18.85it/s]"
     ]
    },
    {
     "name": "stdout",
     "output_type": "stream",
     "text": [
      "Epoch 1510/2000, Loss: 0.0000\n",
      "Test Accuracy at Epoch 1510: 77.80%\n",
      "Classification Report at Epoch 1510:\n",
      "                  precision    recall  f1-score   support\n",
      "\n",
      "    infringement       0.85      0.66      0.74       283\n",
      "non_infringement       0.74      0.89      0.80       298\n",
      "\n",
      "        accuracy                           0.78       581\n",
      "       macro avg       0.79      0.78      0.77       581\n",
      "    weighted avg       0.79      0.78      0.77       581\n",
      "\n"
     ]
    },
    {
     "name": "stderr",
     "output_type": "stream",
     "text": [
      "Training Epochs:  76%|███████▌  | 1523/2000 [01:17<00:22, 21.24it/s]"
     ]
    },
    {
     "name": "stdout",
     "output_type": "stream",
     "text": [
      "Epoch 1520/2000, Loss: 0.0000\n",
      "Test Accuracy at Epoch 1520: 77.80%\n",
      "Classification Report at Epoch 1520:\n",
      "                  precision    recall  f1-score   support\n",
      "\n",
      "    infringement       0.85      0.66      0.74       283\n",
      "non_infringement       0.74      0.89      0.80       298\n",
      "\n",
      "        accuracy                           0.78       581\n",
      "       macro avg       0.79      0.78      0.77       581\n",
      "    weighted avg       0.79      0.78      0.77       581\n",
      "\n"
     ]
    },
    {
     "name": "stderr",
     "output_type": "stream",
     "text": [
      "Training Epochs:  77%|███████▋  | 1532/2000 [01:17<00:23, 19.90it/s]"
     ]
    },
    {
     "name": "stdout",
     "output_type": "stream",
     "text": [
      "Epoch 1530/2000, Loss: 0.0000\n",
      "Test Accuracy at Epoch 1530: 77.80%\n",
      "Classification Report at Epoch 1530:\n",
      "                  precision    recall  f1-score   support\n",
      "\n",
      "    infringement       0.85      0.66      0.74       283\n",
      "non_infringement       0.74      0.89      0.80       298\n",
      "\n",
      "        accuracy                           0.78       581\n",
      "       macro avg       0.79      0.78      0.77       581\n",
      "    weighted avg       0.79      0.78      0.77       581\n",
      "\n"
     ]
    },
    {
     "name": "stderr",
     "output_type": "stream",
     "text": [
      "Training Epochs:  77%|███████▋  | 1543/2000 [01:18<00:18, 25.19it/s]"
     ]
    },
    {
     "name": "stdout",
     "output_type": "stream",
     "text": [
      "Epoch 1540/2000, Loss: 0.0000\n",
      "Test Accuracy at Epoch 1540: 77.80%\n",
      "Classification Report at Epoch 1540:\n",
      "                  precision    recall  f1-score   support\n",
      "\n",
      "    infringement       0.85      0.66      0.74       283\n",
      "non_infringement       0.74      0.89      0.80       298\n",
      "\n",
      "        accuracy                           0.78       581\n",
      "       macro avg       0.79      0.78      0.77       581\n",
      "    weighted avg       0.79      0.78      0.77       581\n",
      "\n"
     ]
    },
    {
     "name": "stderr",
     "output_type": "stream",
     "text": [
      "Training Epochs:  78%|███████▊  | 1554/2000 [01:18<00:16, 27.68it/s]"
     ]
    },
    {
     "name": "stdout",
     "output_type": "stream",
     "text": [
      "Epoch 1550/2000, Loss: 0.0000\n",
      "Test Accuracy at Epoch 1550: 77.80%\n",
      "Classification Report at Epoch 1550:\n",
      "                  precision    recall  f1-score   support\n",
      "\n",
      "    infringement       0.85      0.66      0.74       283\n",
      "non_infringement       0.74      0.89      0.80       298\n",
      "\n",
      "        accuracy                           0.78       581\n",
      "       macro avg       0.79      0.78      0.77       581\n",
      "    weighted avg       0.79      0.78      0.77       581\n",
      "\n"
     ]
    },
    {
     "name": "stderr",
     "output_type": "stream",
     "text": [
      "Training Epochs:  78%|███████▊  | 1561/2000 [01:18<00:18, 23.33it/s]"
     ]
    },
    {
     "name": "stdout",
     "output_type": "stream",
     "text": [
      "Epoch 1560/2000, Loss: 0.0000\n",
      "Test Accuracy at Epoch 1560: 77.80%\n",
      "Classification Report at Epoch 1560:\n",
      "                  precision    recall  f1-score   support\n",
      "\n",
      "    infringement       0.85      0.66      0.74       283\n",
      "non_infringement       0.74      0.89      0.80       298\n",
      "\n",
      "        accuracy                           0.78       581\n",
      "       macro avg       0.79      0.78      0.77       581\n",
      "    weighted avg       0.79      0.78      0.77       581\n",
      "\n"
     ]
    },
    {
     "name": "stderr",
     "output_type": "stream",
     "text": [
      "Training Epochs:  79%|███████▊  | 1573/2000 [01:19<00:17, 24.83it/s]"
     ]
    },
    {
     "name": "stdout",
     "output_type": "stream",
     "text": [
      "Epoch 1570/2000, Loss: 0.0000\n",
      "Test Accuracy at Epoch 1570: 77.80%\n",
      "Classification Report at Epoch 1570:\n",
      "                  precision    recall  f1-score   support\n",
      "\n",
      "    infringement       0.85      0.66      0.74       283\n",
      "non_infringement       0.74      0.89      0.80       298\n",
      "\n",
      "        accuracy                           0.78       581\n",
      "       macro avg       0.79      0.78      0.77       581\n",
      "    weighted avg       0.79      0.78      0.77       581\n",
      "\n"
     ]
    },
    {
     "name": "stderr",
     "output_type": "stream",
     "text": [
      "Training Epochs:  79%|███████▉  | 1584/2000 [01:19<00:15, 27.49it/s]"
     ]
    },
    {
     "name": "stdout",
     "output_type": "stream",
     "text": [
      "Epoch 1580/2000, Loss: 0.0000\n",
      "Test Accuracy at Epoch 1580: 77.80%\n",
      "Classification Report at Epoch 1580:\n",
      "                  precision    recall  f1-score   support\n",
      "\n",
      "    infringement       0.85      0.66      0.74       283\n",
      "non_infringement       0.74      0.89      0.80       298\n",
      "\n",
      "        accuracy                           0.78       581\n",
      "       macro avg       0.79      0.78      0.77       581\n",
      "    weighted avg       0.79      0.78      0.77       581\n",
      "\n"
     ]
    },
    {
     "name": "stderr",
     "output_type": "stream",
     "text": [
      "Training Epochs:  80%|███████▉  | 1595/2000 [01:20<00:13, 29.88it/s]"
     ]
    },
    {
     "name": "stdout",
     "output_type": "stream",
     "text": [
      "Epoch 1590/2000, Loss: 0.0000\n",
      "Test Accuracy at Epoch 1590: 77.80%\n",
      "Classification Report at Epoch 1590:\n",
      "                  precision    recall  f1-score   support\n",
      "\n",
      "    infringement       0.85      0.66      0.74       283\n",
      "non_infringement       0.74      0.89      0.80       298\n",
      "\n",
      "        accuracy                           0.78       581\n",
      "       macro avg       0.79      0.78      0.77       581\n",
      "    weighted avg       0.79      0.78      0.77       581\n",
      "\n"
     ]
    },
    {
     "name": "stderr",
     "output_type": "stream",
     "text": [
      "Training Epochs:  80%|████████  | 1603/2000 [01:20<00:13, 29.32it/s]"
     ]
    },
    {
     "name": "stdout",
     "output_type": "stream",
     "text": [
      "Epoch 1600/2000, Loss: 0.0000\n",
      "Test Accuracy at Epoch 1600: 77.80%\n",
      "Classification Report at Epoch 1600:\n",
      "                  precision    recall  f1-score   support\n",
      "\n",
      "    infringement       0.85      0.66      0.74       283\n",
      "non_infringement       0.74      0.89      0.80       298\n",
      "\n",
      "        accuracy                           0.78       581\n",
      "       macro avg       0.79      0.78      0.77       581\n",
      "    weighted avg       0.79      0.78      0.77       581\n",
      "\n"
     ]
    },
    {
     "name": "stderr",
     "output_type": "stream",
     "text": [
      "Training Epochs:  81%|████████  | 1613/2000 [01:20<00:17, 22.44it/s]"
     ]
    },
    {
     "name": "stdout",
     "output_type": "stream",
     "text": [
      "Epoch 1610/2000, Loss: 0.0000\n",
      "Test Accuracy at Epoch 1610: 77.80%\n",
      "Classification Report at Epoch 1610:\n",
      "                  precision    recall  f1-score   support\n",
      "\n",
      "    infringement       0.85      0.66      0.74       283\n",
      "non_infringement       0.74      0.89      0.80       298\n",
      "\n",
      "        accuracy                           0.78       581\n",
      "       macro avg       0.79      0.78      0.77       581\n",
      "    weighted avg       0.79      0.78      0.77       581\n",
      "\n"
     ]
    },
    {
     "name": "stderr",
     "output_type": "stream",
     "text": [
      "Training Epochs:  81%|████████  | 1621/2000 [01:21<00:15, 24.33it/s]"
     ]
    },
    {
     "name": "stdout",
     "output_type": "stream",
     "text": [
      "Epoch 1620/2000, Loss: 0.0000\n",
      "Test Accuracy at Epoch 1620: 77.80%\n",
      "Classification Report at Epoch 1620:\n",
      "                  precision    recall  f1-score   support\n",
      "\n",
      "    infringement       0.85      0.66      0.74       283\n",
      "non_infringement       0.74      0.89      0.80       298\n",
      "\n",
      "        accuracy                           0.78       581\n",
      "       macro avg       0.79      0.78      0.77       581\n",
      "    weighted avg       0.79      0.78      0.77       581\n",
      "\n"
     ]
    },
    {
     "name": "stderr",
     "output_type": "stream",
     "text": [
      "Training Epochs:  82%|████████▏ | 1635/2000 [01:21<00:17, 20.60it/s]"
     ]
    },
    {
     "name": "stdout",
     "output_type": "stream",
     "text": [
      "Epoch 1630/2000, Loss: 0.0000\n",
      "Test Accuracy at Epoch 1630: 77.80%\n",
      "Classification Report at Epoch 1630:\n",
      "                  precision    recall  f1-score   support\n",
      "\n",
      "    infringement       0.85      0.66      0.74       283\n",
      "non_infringement       0.74      0.89      0.80       298\n",
      "\n",
      "        accuracy                           0.78       581\n",
      "       macro avg       0.79      0.78      0.77       581\n",
      "    weighted avg       0.79      0.78      0.77       581\n",
      "\n"
     ]
    },
    {
     "name": "stderr",
     "output_type": "stream",
     "text": [
      "Training Epochs:  82%|████████▏ | 1644/2000 [01:22<00:17, 19.99it/s]"
     ]
    },
    {
     "name": "stdout",
     "output_type": "stream",
     "text": [
      "Epoch 1640/2000, Loss: 0.0000\n",
      "Test Accuracy at Epoch 1640: 77.80%\n",
      "Classification Report at Epoch 1640:\n",
      "                  precision    recall  f1-score   support\n",
      "\n",
      "    infringement       0.85      0.66      0.74       283\n",
      "non_infringement       0.74      0.89      0.80       298\n",
      "\n",
      "        accuracy                           0.78       581\n",
      "       macro avg       0.79      0.78      0.77       581\n",
      "    weighted avg       0.79      0.78      0.77       581\n",
      "\n"
     ]
    },
    {
     "name": "stderr",
     "output_type": "stream",
     "text": [
      "Training Epochs:  83%|████████▎ | 1653/2000 [01:22<00:18, 19.26it/s]"
     ]
    },
    {
     "name": "stdout",
     "output_type": "stream",
     "text": [
      "Epoch 1650/2000, Loss: 0.0000\n",
      "Test Accuracy at Epoch 1650: 77.80%\n",
      "Classification Report at Epoch 1650:\n",
      "                  precision    recall  f1-score   support\n",
      "\n",
      "    infringement       0.85      0.66      0.74       283\n",
      "non_infringement       0.74      0.89      0.80       298\n",
      "\n",
      "        accuracy                           0.78       581\n",
      "       macro avg       0.79      0.78      0.77       581\n",
      "    weighted avg       0.79      0.78      0.77       581\n",
      "\n"
     ]
    },
    {
     "name": "stderr",
     "output_type": "stream",
     "text": [
      "Training Epochs:  83%|████████▎ | 1662/2000 [01:23<00:21, 16.04it/s]"
     ]
    },
    {
     "name": "stdout",
     "output_type": "stream",
     "text": [
      "Epoch 1660/2000, Loss: 0.0000\n",
      "Test Accuracy at Epoch 1660: 77.80%\n",
      "Classification Report at Epoch 1660:\n",
      "                  precision    recall  f1-score   support\n",
      "\n",
      "    infringement       0.85      0.66      0.74       283\n",
      "non_infringement       0.74      0.89      0.80       298\n",
      "\n",
      "        accuracy                           0.78       581\n",
      "       macro avg       0.79      0.78      0.77       581\n",
      "    weighted avg       0.79      0.78      0.77       581\n",
      "\n"
     ]
    },
    {
     "name": "stderr",
     "output_type": "stream",
     "text": [
      "Training Epochs:  84%|████████▎ | 1671/2000 [01:24<00:21, 15.08it/s]"
     ]
    },
    {
     "name": "stdout",
     "output_type": "stream",
     "text": [
      "Epoch 1670/2000, Loss: 0.0000\n",
      "Test Accuracy at Epoch 1670: 77.80%\n",
      "Classification Report at Epoch 1670:\n",
      "                  precision    recall  f1-score   support\n",
      "\n",
      "    infringement       0.85      0.66      0.74       283\n",
      "non_infringement       0.74      0.89      0.80       298\n",
      "\n",
      "        accuracy                           0.78       581\n",
      "       macro avg       0.79      0.78      0.77       581\n",
      "    weighted avg       0.79      0.78      0.77       581\n",
      "\n"
     ]
    },
    {
     "name": "stderr",
     "output_type": "stream",
     "text": [
      "Training Epochs:  84%|████████▍ | 1683/2000 [01:24<00:13, 22.87it/s]"
     ]
    },
    {
     "name": "stdout",
     "output_type": "stream",
     "text": [
      "Epoch 1680/2000, Loss: 0.0000\n",
      "Test Accuracy at Epoch 1680: 77.80%\n",
      "Classification Report at Epoch 1680:\n",
      "                  precision    recall  f1-score   support\n",
      "\n",
      "    infringement       0.85      0.66      0.74       283\n",
      "non_infringement       0.74      0.89      0.80       298\n",
      "\n",
      "        accuracy                           0.78       581\n",
      "       macro avg       0.79      0.78      0.77       581\n",
      "    weighted avg       0.79      0.78      0.77       581\n",
      "\n"
     ]
    },
    {
     "name": "stderr",
     "output_type": "stream",
     "text": [
      "Training Epochs:  85%|████████▍ | 1694/2000 [01:24<00:10, 28.87it/s]"
     ]
    },
    {
     "name": "stdout",
     "output_type": "stream",
     "text": [
      "Epoch 1690/2000, Loss: 0.0000\n",
      "Test Accuracy at Epoch 1690: 77.80%\n",
      "Classification Report at Epoch 1690:\n",
      "                  precision    recall  f1-score   support\n",
      "\n",
      "    infringement       0.85      0.66      0.74       283\n",
      "non_infringement       0.74      0.89      0.80       298\n",
      "\n",
      "        accuracy                           0.78       581\n",
      "       macro avg       0.79      0.78      0.77       581\n",
      "    weighted avg       0.79      0.78      0.77       581\n",
      "\n"
     ]
    },
    {
     "name": "stderr",
     "output_type": "stream",
     "text": [
      "Training Epochs:  85%|████████▌ | 1704/2000 [01:25<00:12, 24.02it/s]"
     ]
    },
    {
     "name": "stdout",
     "output_type": "stream",
     "text": [
      "Epoch 1700/2000, Loss: 0.0000\n",
      "Test Accuracy at Epoch 1700: 77.80%\n",
      "Classification Report at Epoch 1700:\n",
      "                  precision    recall  f1-score   support\n",
      "\n",
      "    infringement       0.85      0.66      0.74       283\n",
      "non_infringement       0.74      0.89      0.80       298\n",
      "\n",
      "        accuracy                           0.78       581\n",
      "       macro avg       0.79      0.78      0.77       581\n",
      "    weighted avg       0.79      0.78      0.77       581\n",
      "\n"
     ]
    },
    {
     "name": "stderr",
     "output_type": "stream",
     "text": [
      "Training Epochs:  86%|████████▌ | 1712/2000 [01:26<00:18, 15.89it/s]"
     ]
    },
    {
     "name": "stdout",
     "output_type": "stream",
     "text": [
      "Epoch 1710/2000, Loss: 0.0000\n",
      "Test Accuracy at Epoch 1710: 77.80%\n",
      "Classification Report at Epoch 1710:\n",
      "                  precision    recall  f1-score   support\n",
      "\n",
      "    infringement       0.85      0.66      0.74       283\n",
      "non_infringement       0.74      0.89      0.80       298\n",
      "\n",
      "        accuracy                           0.78       581\n",
      "       macro avg       0.79      0.78      0.77       581\n",
      "    weighted avg       0.79      0.78      0.77       581\n",
      "\n"
     ]
    },
    {
     "name": "stderr",
     "output_type": "stream",
     "text": [
      "Training Epochs:  86%|████████▌ | 1722/2000 [01:26<00:18, 15.24it/s]"
     ]
    },
    {
     "name": "stdout",
     "output_type": "stream",
     "text": [
      "Epoch 1720/2000, Loss: 0.0000\n",
      "Test Accuracy at Epoch 1720: 77.80%\n",
      "Classification Report at Epoch 1720:\n",
      "                  precision    recall  f1-score   support\n",
      "\n",
      "    infringement       0.85      0.66      0.74       283\n",
      "non_infringement       0.74      0.89      0.80       298\n",
      "\n",
      "        accuracy                           0.78       581\n",
      "       macro avg       0.79      0.78      0.77       581\n",
      "    weighted avg       0.79      0.78      0.77       581\n",
      "\n"
     ]
    },
    {
     "name": "stderr",
     "output_type": "stream",
     "text": [
      "Training Epochs:  87%|████████▋ | 1733/2000 [01:27<00:11, 23.12it/s]"
     ]
    },
    {
     "name": "stdout",
     "output_type": "stream",
     "text": [
      "Epoch 1730/2000, Loss: 0.0000\n",
      "Test Accuracy at Epoch 1730: 77.80%\n",
      "Classification Report at Epoch 1730:\n",
      "                  precision    recall  f1-score   support\n",
      "\n",
      "    infringement       0.85      0.66      0.74       283\n",
      "non_infringement       0.74      0.89      0.80       298\n",
      "\n",
      "        accuracy                           0.78       581\n",
      "       macro avg       0.79      0.78      0.77       581\n",
      "    weighted avg       0.79      0.78      0.77       581\n",
      "\n"
     ]
    },
    {
     "name": "stderr",
     "output_type": "stream",
     "text": [
      "Training Epochs:  87%|████████▋ | 1743/2000 [01:27<00:10, 25.22it/s]"
     ]
    },
    {
     "name": "stdout",
     "output_type": "stream",
     "text": [
      "Epoch 1740/2000, Loss: 0.0000\n",
      "Test Accuracy at Epoch 1740: 77.80%\n",
      "Classification Report at Epoch 1740:\n",
      "                  precision    recall  f1-score   support\n",
      "\n",
      "    infringement       0.85      0.66      0.74       283\n",
      "non_infringement       0.74      0.89      0.80       298\n",
      "\n",
      "        accuracy                           0.78       581\n",
      "       macro avg       0.79      0.78      0.77       581\n",
      "    weighted avg       0.79      0.78      0.77       581\n",
      "\n"
     ]
    },
    {
     "name": "stderr",
     "output_type": "stream",
     "text": [
      "Training Epochs:  88%|████████▊ | 1752/2000 [01:27<00:08, 30.59it/s]"
     ]
    },
    {
     "name": "stdout",
     "output_type": "stream",
     "text": [
      "Epoch 1750/2000, Loss: 0.0000\n",
      "Test Accuracy at Epoch 1750: 77.80%\n",
      "Classification Report at Epoch 1750:\n",
      "                  precision    recall  f1-score   support\n",
      "\n",
      "    infringement       0.85      0.66      0.74       283\n",
      "non_infringement       0.74      0.89      0.80       298\n",
      "\n",
      "        accuracy                           0.78       581\n",
      "       macro avg       0.79      0.78      0.77       581\n",
      "    weighted avg       0.79      0.78      0.77       581\n",
      "\n"
     ]
    },
    {
     "name": "stderr",
     "output_type": "stream",
     "text": [
      "Training Epochs:  88%|████████▊ | 1765/2000 [01:28<00:06, 34.20it/s]"
     ]
    },
    {
     "name": "stdout",
     "output_type": "stream",
     "text": [
      "Epoch 1760/2000, Loss: 0.0000\n",
      "Test Accuracy at Epoch 1760: 77.80%\n",
      "Classification Report at Epoch 1760:\n",
      "                  precision    recall  f1-score   support\n",
      "\n",
      "    infringement       0.85      0.66      0.74       283\n",
      "non_infringement       0.74      0.89      0.80       298\n",
      "\n",
      "        accuracy                           0.78       581\n",
      "       macro avg       0.79      0.78      0.77       581\n",
      "    weighted avg       0.79      0.78      0.77       581\n",
      "\n"
     ]
    },
    {
     "name": "stderr",
     "output_type": "stream",
     "text": [
      "Training Epochs:  89%|████████▉ | 1776/2000 [01:28<00:06, 35.63it/s]"
     ]
    },
    {
     "name": "stdout",
     "output_type": "stream",
     "text": [
      "Epoch 1770/2000, Loss: 0.0000\n",
      "Test Accuracy at Epoch 1770: 77.80%\n",
      "Classification Report at Epoch 1770:\n",
      "                  precision    recall  f1-score   support\n",
      "\n",
      "    infringement       0.85      0.66      0.74       283\n",
      "non_infringement       0.74      0.89      0.80       298\n",
      "\n",
      "        accuracy                           0.78       581\n",
      "       macro avg       0.79      0.78      0.77       581\n",
      "    weighted avg       0.79      0.78      0.77       581\n",
      "\n"
     ]
    },
    {
     "name": "stderr",
     "output_type": "stream",
     "text": [
      "Training Epochs:  89%|████████▉ | 1786/2000 [01:28<00:05, 36.79it/s]"
     ]
    },
    {
     "name": "stdout",
     "output_type": "stream",
     "text": [
      "Epoch 1780/2000, Loss: 0.0000\n",
      "Test Accuracy at Epoch 1780: 77.80%\n",
      "Classification Report at Epoch 1780:\n",
      "                  precision    recall  f1-score   support\n",
      "\n",
      "    infringement       0.85      0.66      0.74       283\n",
      "non_infringement       0.74      0.89      0.80       298\n",
      "\n",
      "        accuracy                           0.78       581\n",
      "       macro avg       0.79      0.78      0.77       581\n",
      "    weighted avg       0.79      0.78      0.77       581\n",
      "\n"
     ]
    },
    {
     "name": "stderr",
     "output_type": "stream",
     "text": [
      "Training Epochs:  90%|████████▉ | 1795/2000 [01:28<00:05, 36.05it/s]"
     ]
    },
    {
     "name": "stdout",
     "output_type": "stream",
     "text": [
      "Epoch 1790/2000, Loss: 0.0000\n",
      "Test Accuracy at Epoch 1790: 77.80%\n",
      "Classification Report at Epoch 1790:\n",
      "                  precision    recall  f1-score   support\n",
      "\n",
      "    infringement       0.85      0.66      0.74       283\n",
      "non_infringement       0.74      0.89      0.80       298\n",
      "\n",
      "        accuracy                           0.78       581\n",
      "       macro avg       0.79      0.78      0.77       581\n",
      "    weighted avg       0.79      0.78      0.77       581\n",
      "\n"
     ]
    },
    {
     "name": "stderr",
     "output_type": "stream",
     "text": [
      "Training Epochs:  90%|█████████ | 1803/2000 [01:29<00:06, 28.93it/s]"
     ]
    },
    {
     "name": "stdout",
     "output_type": "stream",
     "text": [
      "Epoch 1800/2000, Loss: 0.0000\n",
      "Test Accuracy at Epoch 1800: 77.80%\n",
      "Classification Report at Epoch 1800:\n",
      "                  precision    recall  f1-score   support\n",
      "\n",
      "    infringement       0.85      0.66      0.74       283\n",
      "non_infringement       0.74      0.89      0.80       298\n",
      "\n",
      "        accuracy                           0.78       581\n",
      "       macro avg       0.79      0.78      0.77       581\n",
      "    weighted avg       0.79      0.78      0.77       581\n",
      "\n"
     ]
    },
    {
     "name": "stderr",
     "output_type": "stream",
     "text": [
      "Training Epochs:  91%|█████████ | 1816/2000 [01:29<00:05, 31.52it/s]"
     ]
    },
    {
     "name": "stdout",
     "output_type": "stream",
     "text": [
      "Epoch 1810/2000, Loss: 0.0000\n",
      "Test Accuracy at Epoch 1810: 77.80%\n",
      "Classification Report at Epoch 1810:\n",
      "                  precision    recall  f1-score   support\n",
      "\n",
      "    infringement       0.85      0.66      0.74       283\n",
      "non_infringement       0.74      0.89      0.80       298\n",
      "\n",
      "        accuracy                           0.78       581\n",
      "       macro avg       0.79      0.78      0.77       581\n",
      "    weighted avg       0.79      0.78      0.77       581\n",
      "\n"
     ]
    },
    {
     "name": "stderr",
     "output_type": "stream",
     "text": [
      "Training Epochs:  91%|█████████▏| 1827/2000 [01:29<00:04, 38.02it/s]"
     ]
    },
    {
     "name": "stdout",
     "output_type": "stream",
     "text": [
      "Epoch 1820/2000, Loss: 0.0000\n",
      "Test Accuracy at Epoch 1820: 77.80%\n",
      "Classification Report at Epoch 1820:\n",
      "                  precision    recall  f1-score   support\n",
      "\n",
      "    infringement       0.85      0.66      0.74       283\n",
      "non_infringement       0.74      0.89      0.80       298\n",
      "\n",
      "        accuracy                           0.78       581\n",
      "       macro avg       0.79      0.78      0.77       581\n",
      "    weighted avg       0.79      0.78      0.77       581\n",
      "\n"
     ]
    },
    {
     "name": "stderr",
     "output_type": "stream",
     "text": [
      "Training Epochs:  92%|█████████▏| 1838/2000 [01:30<00:03, 44.08it/s]"
     ]
    },
    {
     "name": "stdout",
     "output_type": "stream",
     "text": [
      "Epoch 1830/2000, Loss: 0.0000\n",
      "Test Accuracy at Epoch 1830: 77.80%\n",
      "Classification Report at Epoch 1830:\n",
      "                  precision    recall  f1-score   support\n",
      "\n",
      "    infringement       0.85      0.66      0.74       283\n",
      "non_infringement       0.74      0.89      0.80       298\n",
      "\n",
      "        accuracy                           0.78       581\n",
      "       macro avg       0.79      0.78      0.77       581\n",
      "    weighted avg       0.79      0.78      0.77       581\n",
      "\n"
     ]
    },
    {
     "name": "stderr",
     "output_type": "stream",
     "text": [
      "Training Epochs:  92%|█████████▏| 1849/2000 [01:30<00:03, 42.71it/s]"
     ]
    },
    {
     "name": "stdout",
     "output_type": "stream",
     "text": [
      "Epoch 1840/2000, Loss: 0.0000\n",
      "Test Accuracy at Epoch 1840: 77.80%\n",
      "Classification Report at Epoch 1840:\n",
      "                  precision    recall  f1-score   support\n",
      "\n",
      "    infringement       0.85      0.66      0.74       283\n",
      "non_infringement       0.74      0.89      0.80       298\n",
      "\n",
      "        accuracy                           0.78       581\n",
      "       macro avg       0.79      0.78      0.77       581\n",
      "    weighted avg       0.79      0.78      0.77       581\n",
      "\n",
      "Epoch 1850/2000, Loss: 0.0000\n",
      "Test Accuracy at Epoch 1850: 77.80%\n",
      "Classification Report at Epoch 1850:\n",
      "                  precision    recall  f1-score   support\n",
      "\n",
      "    infringement       0.85      0.66      0.74       283\n",
      "non_infringement       0.74      0.89      0.80       298\n",
      "\n",
      "        accuracy                           0.78       581\n",
      "       macro avg       0.79      0.78      0.77       581\n",
      "    weighted avg       0.79      0.78      0.77       581\n",
      "\n"
     ]
    },
    {
     "name": "stderr",
     "output_type": "stream",
     "text": [
      "Training Epochs:  93%|█████████▎| 1866/2000 [01:30<00:03, 42.32it/s]"
     ]
    },
    {
     "name": "stdout",
     "output_type": "stream",
     "text": [
      "Epoch 1860/2000, Loss: 0.0000\n",
      "Test Accuracy at Epoch 1860: 77.80%\n",
      "Classification Report at Epoch 1860:\n",
      "                  precision    recall  f1-score   support\n",
      "\n",
      "    infringement       0.85      0.66      0.74       283\n",
      "non_infringement       0.74      0.89      0.80       298\n",
      "\n",
      "        accuracy                           0.78       581\n",
      "       macro avg       0.79      0.78      0.77       581\n",
      "    weighted avg       0.79      0.78      0.77       581\n",
      "\n",
      "Epoch 1870/2000, Loss: 0.0000\n",
      "Test Accuracy at Epoch 1870: 77.80%\n",
      "Classification Report at Epoch 1870:\n",
      "                  precision    recall  f1-score   support\n",
      "\n",
      "    infringement       0.85      0.66      0.74       283\n",
      "non_infringement       0.74      0.89      0.80       298\n",
      "\n",
      "        accuracy                           0.78       581\n",
      "       macro avg       0.79      0.78      0.77       581\n",
      "    weighted avg       0.79      0.78      0.77       581\n",
      "\n"
     ]
    },
    {
     "name": "stderr",
     "output_type": "stream",
     "text": [
      "Training Epochs:  94%|█████████▍| 1885/2000 [01:31<00:02, 48.36it/s]"
     ]
    },
    {
     "name": "stdout",
     "output_type": "stream",
     "text": [
      "Epoch 1880/2000, Loss: 0.0000\n",
      "Test Accuracy at Epoch 1880: 77.80%\n",
      "Classification Report at Epoch 1880:\n",
      "                  precision    recall  f1-score   support\n",
      "\n",
      "    infringement       0.85      0.66      0.74       283\n",
      "non_infringement       0.74      0.89      0.80       298\n",
      "\n",
      "        accuracy                           0.78       581\n",
      "       macro avg       0.79      0.78      0.77       581\n",
      "    weighted avg       0.79      0.78      0.77       581\n",
      "\n",
      "Epoch 1890/2000, Loss: 0.0000\n",
      "Test Accuracy at Epoch 1890: 77.80%\n",
      "Classification Report at Epoch 1890:\n",
      "                  precision    recall  f1-score   support\n",
      "\n",
      "    infringement       0.85      0.66      0.74       283\n",
      "non_infringement       0.74      0.89      0.80       298\n",
      "\n",
      "        accuracy                           0.78       581\n",
      "       macro avg       0.79      0.78      0.77       581\n",
      "    weighted avg       0.79      0.78      0.77       581\n",
      "\n"
     ]
    },
    {
     "name": "stderr",
     "output_type": "stream",
     "text": [
      "Training Epochs:  96%|█████████▌| 1910/2000 [01:31<00:01, 50.89it/s]"
     ]
    },
    {
     "name": "stdout",
     "output_type": "stream",
     "text": [
      "Epoch 1900/2000, Loss: 0.0000\n",
      "Test Accuracy at Epoch 1900: 77.80%\n",
      "Classification Report at Epoch 1900:\n",
      "                  precision    recall  f1-score   support\n",
      "\n",
      "    infringement       0.85      0.66      0.74       283\n",
      "non_infringement       0.74      0.89      0.80       298\n",
      "\n",
      "        accuracy                           0.78       581\n",
      "       macro avg       0.79      0.78      0.77       581\n",
      "    weighted avg       0.79      0.78      0.77       581\n",
      "\n",
      "Epoch 1910/2000, Loss: 0.0000\n",
      "Test Accuracy at Epoch 1910: 77.80%\n",
      "Classification Report at Epoch 1910:\n",
      "                  precision    recall  f1-score   support\n",
      "\n",
      "    infringement       0.85      0.66      0.74       283\n",
      "non_infringement       0.74      0.89      0.80       298\n",
      "\n",
      "        accuracy                           0.78       581\n",
      "       macro avg       0.79      0.78      0.77       581\n",
      "    weighted avg       0.79      0.78      0.77       581\n",
      "\n"
     ]
    },
    {
     "name": "stderr",
     "output_type": "stream",
     "text": [
      "Training Epochs:  97%|█████████▋| 1931/2000 [01:32<00:01, 59.77it/s]"
     ]
    },
    {
     "name": "stdout",
     "output_type": "stream",
     "text": [
      "Epoch 1920/2000, Loss: 0.0000\n",
      "Test Accuracy at Epoch 1920: 77.80%\n",
      "Classification Report at Epoch 1920:\n",
      "                  precision    recall  f1-score   support\n",
      "\n",
      "    infringement       0.85      0.66      0.74       283\n",
      "non_infringement       0.74      0.89      0.80       298\n",
      "\n",
      "        accuracy                           0.78       581\n",
      "       macro avg       0.79      0.78      0.77       581\n",
      "    weighted avg       0.79      0.78      0.77       581\n",
      "\n",
      "Epoch 1930/2000, Loss: 0.0000\n",
      "Test Accuracy at Epoch 1930: 77.80%\n",
      "Classification Report at Epoch 1930:\n",
      "                  precision    recall  f1-score   support\n",
      "\n",
      "    infringement       0.85      0.66      0.74       283\n",
      "non_infringement       0.74      0.89      0.80       298\n",
      "\n",
      "        accuracy                           0.78       581\n",
      "       macro avg       0.79      0.78      0.77       581\n",
      "    weighted avg       0.79      0.78      0.77       581\n",
      "\n"
     ]
    },
    {
     "name": "stderr",
     "output_type": "stream",
     "text": [
      "Training Epochs:  97%|█████████▋| 1947/2000 [01:32<00:00, 59.77it/s]"
     ]
    },
    {
     "name": "stdout",
     "output_type": "stream",
     "text": [
      "Epoch 1940/2000, Loss: 0.0000\n",
      "Test Accuracy at Epoch 1940: 77.80%\n",
      "Classification Report at Epoch 1940:\n",
      "                  precision    recall  f1-score   support\n",
      "\n",
      "    infringement       0.85      0.66      0.74       283\n",
      "non_infringement       0.74      0.89      0.80       298\n",
      "\n",
      "        accuracy                           0.78       581\n",
      "       macro avg       0.79      0.78      0.77       581\n",
      "    weighted avg       0.79      0.78      0.77       581\n",
      "\n",
      "Epoch 1950/2000, Loss: 0.0000\n",
      "Test Accuracy at Epoch 1950: 77.80%\n",
      "Classification Report at Epoch 1950:\n",
      "                  precision    recall  f1-score   support\n",
      "\n",
      "    infringement       0.85      0.66      0.74       283\n",
      "non_infringement       0.74      0.89      0.80       298\n",
      "\n",
      "        accuracy                           0.78       581\n",
      "       macro avg       0.79      0.78      0.77       581\n",
      "    weighted avg       0.79      0.78      0.77       581\n",
      "\n"
     ]
    },
    {
     "name": "stderr",
     "output_type": "stream",
     "text": [
      "Training Epochs:  98%|█████████▊| 1965/2000 [01:32<00:00, 72.06it/s]"
     ]
    },
    {
     "name": "stdout",
     "output_type": "stream",
     "text": [
      "Epoch 1960/2000, Loss: 0.0000\n",
      "Test Accuracy at Epoch 1960: 77.80%\n",
      "Classification Report at Epoch 1960:\n",
      "                  precision    recall  f1-score   support\n",
      "\n",
      "    infringement       0.85      0.66      0.74       283\n",
      "non_infringement       0.74      0.89      0.80       298\n",
      "\n",
      "        accuracy                           0.78       581\n",
      "       macro avg       0.79      0.78      0.77       581\n",
      "    weighted avg       0.79      0.78      0.77       581\n",
      "\n",
      "Epoch 1970/2000, Loss: 0.0000\n",
      "Test Accuracy at Epoch 1970: 77.80%\n",
      "Classification Report at Epoch 1970:\n",
      "                  precision    recall  f1-score   support\n",
      "\n",
      "    infringement       0.85      0.66      0.74       283\n",
      "non_infringement       0.74      0.89      0.80       298\n",
      "\n",
      "        accuracy                           0.78       581\n",
      "       macro avg       0.79      0.78      0.77       581\n",
      "    weighted avg       0.79      0.78      0.77       581\n",
      "\n"
     ]
    },
    {
     "name": "stderr",
     "output_type": "stream",
     "text": [
      "Training Epochs: 100%|█████████▉| 1991/2000 [01:32<00:00, 75.09it/s]"
     ]
    },
    {
     "name": "stdout",
     "output_type": "stream",
     "text": [
      "Epoch 1980/2000, Loss: 0.0000\n",
      "Test Accuracy at Epoch 1980: 77.80%\n",
      "Classification Report at Epoch 1980:\n",
      "                  precision    recall  f1-score   support\n",
      "\n",
      "    infringement       0.85      0.66      0.74       283\n",
      "non_infringement       0.74      0.89      0.80       298\n",
      "\n",
      "        accuracy                           0.78       581\n",
      "       macro avg       0.79      0.78      0.77       581\n",
      "    weighted avg       0.79      0.78      0.77       581\n",
      "\n",
      "Epoch 1990/2000, Loss: 0.0000\n",
      "Test Accuracy at Epoch 1990: 77.80%\n",
      "Classification Report at Epoch 1990:\n",
      "                  precision    recall  f1-score   support\n",
      "\n",
      "    infringement       0.85      0.66      0.74       283\n",
      "non_infringement       0.74      0.89      0.80       298\n",
      "\n",
      "        accuracy                           0.78       581\n",
      "       macro avg       0.79      0.78      0.77       581\n",
      "    weighted avg       0.79      0.78      0.77       581\n",
      "\n"
     ]
    },
    {
     "name": "stderr",
     "output_type": "stream",
     "text": [
      "Training Epochs: 100%|██████████| 2000/2000 [01:32<00:00, 21.51it/s]\n",
      "/tmp/ipykernel_1468780/85556528.py:47: FutureWarning: You are using `torch.load` with `weights_only=False` (the current default value), which uses the default pickle module implicitly. It is possible to construct malicious pickle data which will execute arbitrary code during unpickling (See https://github.com/pytorch/pytorch/blob/main/SECURITY.md#untrusted-models for more details). In a future release, the default value for `weights_only` will be flipped to `True`. This limits the functions that could be executed during unpickling. Arbitrary objects will no longer be allowed to be loaded via this mode unless they are explicitly allowlisted by the user via `torch.serialization.add_safe_globals`. We recommend you start setting `weights_only=True` for any use case where you don't have full control of the loaded file. Please open an issue on GitHub for any issues related to this experimental feature.\n",
      "  custom_mlp.load_state_dict(torch.load(checkpoint_path))\n"
     ]
    },
    {
     "name": "stdout",
     "output_type": "stream",
     "text": [
      "Epoch 2000/2000, Loss: 0.0000\n",
      "Test Accuracy at Epoch 2000: 77.80%\n",
      "Classification Report at Epoch 2000:\n",
      "                  precision    recall  f1-score   support\n",
      "\n",
      "    infringement       0.85      0.66      0.74       283\n",
      "non_infringement       0.74      0.89      0.80       298\n",
      "\n",
      "        accuracy                           0.78       581\n",
      "       macro avg       0.79      0.78      0.77       581\n",
      "    weighted avg       0.79      0.78      0.77       581\n",
      "\n"
     ]
    },
    {
     "data": {
      "image/png": "[encoded data removed]",
      "text/plain": [
       "<Figure size 1000x500 with 1 Axes>"
      ]
     },
     "metadata": {},
     "output_type": "display_data"
    },
    {
     "name": "stdout",
     "output_type": "stream",
     "text": [
      "Final Model Accuracy: 78.14%\n"
     ]
    }
   ],
   "source": [
    "input_dim = X_train.shape[1]\n",
    "hidden_dim = 256 \n",
    "print(f\"Training MLP model with input_dim={input_dim} and hidden_dim={hidden_dim}\")\n",
    "\n",
    "custom_mlp, losses, best_accuracy = train_model(X_train, y_train, X_test, y_test, input_dim, hidden_dim)"
   ]
  },
  {
   "cell_type": "code",
   "execution_count": 10,
   "metadata": {},
   "outputs": [
    {
     "name": "stdout",
     "output_type": "stream",
     "text": [
      "Checkpoint saved to '/home/guangwei/LLM-COPYRIGHT/copyright_newVersion/models/train_input_reference_last_token_TSNE3.pth'.\n"
     ]
    }
   ],
   "source": [
    "def save_checkpoint(model, optimizer, epoch, loss, filepath):\n",
    "    checkpoint = {\n",
    "        'epoch': epoch + 1,\n",
    "        'model_state_dict': model.state_dict(),\n",
    "        'optimizer_state_dict': optimizer.state_dict(),\n",
    "        'loss': loss\n",
    "    }\n",
    "    torch.save(checkpoint, filepath)\n",
    "    print(f\"Checkpoint saved to '{filepath}'.\")\n",
    "\n",
    "save_checkpoint(custom_mlp, torch.optim.Adam(custom_mlp.parameters()), len(losses), losses[-1], checkpoint_file)"
   ]
  },
  {
   "cell_type": "code",
   "execution_count": 11,
   "metadata": {},
   "outputs": [
    {
     "name": "stderr",
     "output_type": "stream",
     "text": [
      "/tmp/ipykernel_1468780/2137335780.py:1: UserWarning: To copy construct from a tensor, it is recommended to use sourceTensor.clone().detach() or sourceTensor.clone().detach().requires_grad_(True), rather than torch.tensor(sourceTensor).\n",
      "  y_pred_final = (torch.sigmoid(torch.tensor(custom_mlp(torch.tensor(X_test, dtype=torch.float32)))) > 0.5).float().numpy()\n"
     ]
    },
    {
     "name": "stdout",
     "output_type": "stream",
     "text": [
      "                  precision    recall  f1-score   support\n",
      "\n",
      "    infringement       0.85      0.67      0.75       283\n",
      "non_infringement       0.74      0.89      0.81       298\n",
      "\n",
      "        accuracy                           0.78       581\n",
      "       macro avg       0.79      0.78      0.78       581\n",
      "    weighted avg       0.79      0.78      0.78       581\n",
      "\n"
     ]
    }
   ],
   "source": [
    "y_pred_final = (torch.sigmoid(torch.tensor(custom_mlp(torch.tensor(X_test, dtype=torch.float32)))) > 0.5).float().numpy()\n",
    "print(classification_report(y_test, y_pred_final, target_names=[\"infringement\", \"non_infringement\"]))"
   ]
  }
 ],
 "metadata": {
  "kernelspec": {
   "display_name": "sit",
   "language": "python",
   "name": "python3"
  },
  "language_info": {
   "codemirror_mode": {
    "name": "ipython",
    "version": 3
   },
   "file_extension": ".py",
   "mimetype": "text/x-python",
   "name": "python",
   "nbconvert_exporter": "python",
   "pygments_lexer": "ipython3",
   "version": "3.9.0"
  }
 },
 "nbformat": 4,
 "nbformat_minor": 2
}
