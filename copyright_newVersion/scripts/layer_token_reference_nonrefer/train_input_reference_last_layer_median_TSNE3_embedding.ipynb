{
 "cells": [
  {
   "cell_type": "code",
   "execution_count": 1,
   "metadata": {},
   "outputs": [
    {
     "name": "stderr",
     "output_type": "stream",
     "text": [
      "/home/guangwei/miniconda3/envs/sit/lib/python3.9/site-packages/tqdm/auto.py:21: TqdmWarning: IProgress not found. Please update jupyter and ipywidgets. See https://ipywidgets.readthedocs.io/en/stable/user_install.html\n",
      "  from .autonotebook import tqdm as notebook_tqdm\n"
     ]
    }
   ],
   "source": [
    "# import packages & variables\n",
    "import argparse\n",
    "import torch\n",
    "import torch.nn as nn\n",
    "import numpy as np\n",
    "from sklearn.metrics import accuracy_score, classification_report\n",
    "import matplotlib.pyplot as plt\n",
    "from tqdm import tqdm\n",
    "from transformers import AutoTokenizer, AutoModelForCausalLM, AutoModel, AutoModelForSequenceClassification\n",
    "import json\n",
    "import os\n",
    "\n",
    "os.environ[\"CUDA_VISIBLE_DEVICES\"] = \"5\"\n",
    "\n",
    "# Parameters\n",
    "model_name = 'meta-llama/Meta-Llama-3.1-8B'\n",
    "non_infringement_file = '/home/guangwei/LLM-COPYRIGHT/copyright_newVersion/test_division/extra.non_infringement.json'\n",
    "infringement_file = '/home/guangwei/LLM-COPYRIGHT/copyright_newVersion/test_division/extra.infringement.json'\n",
    "checkpoint_file = '/home/guangwei/LLM-COPYRIGHT/copyright_newVersion/models/train_input_reference_last_layer_TSNE3_embedding.pth'\n"
   ]
  },
  {
   "cell_type": "code",
   "execution_count": 2,
   "metadata": {},
   "outputs": [],
   "source": [
    "# Define CustumMLP for internal states train\n",
    "class CustomMLP(nn.Module):\n",
    "    def __init__(self, input_dim, hidden_dim):\n",
    "        super(CustomMLP, self).__init__()\n",
    "        self.down = nn.Linear(input_dim, hidden_dim)\n",
    "        self.gate = nn.Linear(input_dim, hidden_dim)\n",
    "        self.up = nn.Linear(hidden_dim, 1)\n",
    "        self.activation = nn.SiLU()\n",
    "\n",
    "    def forward(self, x):\n",
    "        down_output = self.down(x)\n",
    "        gate_output = self.gate(x)\n",
    "        gated_output = down_output * self.activation(gate_output)\n",
    "        return self.up(gated_output)"
   ]
  },
  {
   "cell_type": "code",
   "execution_count": 3,
   "metadata": {},
   "outputs": [],
   "source": [
    "# Extract hidden states/reference embeddings\n",
    "from sklearn.manifold import TSNE\n",
    "def extract_hidden_states(texts, model, tokenizer, batch_size=4):\n",
    "    device = torch.device(\"cuda\" if torch.cuda.is_available() else \"cpu\")\n",
    "    model.to(device)\n",
    "    model = nn.DataParallel(model)\n",
    "    hidden_states = []\n",
    "    for i in tqdm(range(0, len(texts), batch_size), desc=\"Processing data batches\"):\n",
    "        batch_texts = texts[i:i + batch_size]\n",
    "        inputs = tokenizer(batch_texts, return_tensors=\"pt\", padding=True, truncation=True).to(device)\n",
    "        with torch.no_grad():\n",
    "            outputs = model(**inputs)\n",
    "        hidden_states.append(outputs.hidden_states[-1].mean(dim=1).cpu().numpy())\n",
    "    return np.vstack(hidden_states)\n",
    "\n",
    "def extract_reference_embeddings(references, model, tokenizer, apply_tsne=True, n_components=3, batch_size=4):\n",
    "    device = torch.device(\"cuda\" if torch.cuda.is_available() else \"cpu\")\n",
    "    model.to(device)\n",
    "    model = nn.DataParallel(model)\n",
    "    embeddings = []\n",
    "    for i in tqdm(range(0, len(references), batch_size), desc=\"Processing references\"):\n",
    "        batch_references = references[i:i + batch_size]\n",
    "        inputs = tokenizer(batch_references, return_tensors=\"pt\", padding=True, truncation=True)\n",
    "        with torch.no_grad():\n",
    "            outputs = model(**inputs)\n",
    "        embeddings.append(outputs.pooler_output.cpu().numpy())  # 提取池化后的输出\n",
    "\n",
    "    embeddings = np.vstack(embeddings)\n",
    "    \n",
    "    # 应用 t-SNE\n",
    "    if apply_tsne:\n",
    "        tsne = TSNE(n_components=n_components, random_state=42)\n",
    "        embeddings = tsne.fit_transform(embeddings)\n",
    "        print(f\"Reference embeddings reduced to {n_components} dimensions using t-SNE.\")\n",
    "    \n",
    "    return embeddings"
   ]
  },
  {
   "cell_type": "code",
   "execution_count": 4,
   "metadata": {},
   "outputs": [],
   "source": [
    "# load data for infringement & non infringement\n",
    "def load_data(non_infringement_file, infringement_file):\n",
    "    with open(non_infringement_file, 'r', encoding='utf-8') as file:\n",
    "        non_infringement_json_data = json.load(file)\n",
    "\n",
    "    non_infringement_outputs = [entry['input'] for entry in non_infringement_json_data]\n",
    "    non_infringement_references = [entry['reference'] for entry in non_infringement_json_data]\n",
    "    y_non_infringement = [1] * len(non_infringement_outputs)\n",
    "\n",
    "    with open(infringement_file, 'r', encoding='utf-8') as file:\n",
    "        infringement_json_data = json.load(file)\n",
    "\n",
    "    infringement_outputs = [entry['input'] for entry in infringement_json_data]\n",
    "    infringement_references = [entry['reference'] for entry in infringement_json_data]\n",
    "    y_infringement = [0] * len(infringement_outputs)\n",
    "\n",
    "    return non_infringement_outputs, non_infringement_references, y_non_infringement, infringement_outputs, infringement_references, y_infringement"
   ]
  },
  {
   "cell_type": "code",
   "execution_count": 5,
   "metadata": {},
   "outputs": [],
   "source": [
    "# Train for best model\n",
    "def train_model(X_train, y_train, X_test, y_test, input_dim, hidden_dim, epochs=500, lr=0.001, checkpoint_path=checkpoint_file):\n",
    "    custom_mlp = CustomMLP(input_dim, hidden_dim)\n",
    "    criterion = nn.BCEWithLogitsLoss()\n",
    "    optimizer = torch.optim.Adam(custom_mlp.parameters(), lr=lr)\n",
    "\n",
    "    X_train_tensor = torch.tensor(X_train, dtype=torch.float32)\n",
    "    y_train_tensor = torch.tensor(y_train, dtype=torch.float32).unsqueeze(1)\n",
    "\n",
    "    best_accuracy = -float('inf')\n",
    "    best_model_state = None\n",
    "    best_epoch = 0\n",
    "    losses = []\n",
    "\n",
    "    for epoch in tqdm(range(epochs), desc=\"Training Epochs\"):\n",
    "        custom_mlp.train()\n",
    "        optimizer.zero_grad()\n",
    "        outputs = custom_mlp(X_train_tensor)\n",
    "        loss = criterion(outputs, y_train_tensor)\n",
    "        loss.backward()\n",
    "        optimizer.step()\n",
    "        losses.append(loss.item())\n",
    "\n",
    "        if (epoch + 1) % 10 == 0:\n",
    "            print(f\"Epoch {epoch + 1}/{epochs}, Loss: {loss.item():.4f}\")\n",
    "            \n",
    "            custom_mlp.eval()\n",
    "            X_test_tensor = torch.tensor(X_test, dtype=torch.float32)\n",
    "            with torch.no_grad():\n",
    "                y_pred_logits = custom_mlp(X_test_tensor)\n",
    "                y_pred = (torch.sigmoid(y_pred_logits) > 0.5).float().numpy()\n",
    "            \n",
    "            accuracy = accuracy_score(y_test, y_pred)\n",
    "            print(f\"Test Accuracy at Epoch {epoch + 1}: {accuracy * 100:.2f}%\")\n",
    "            \n",
    "            report = classification_report(y_test, y_pred, target_names=[\"infringement\", \"non_infringement\"])\n",
    "            print(f\"Classification Report at Epoch {epoch + 1}:\\n{report}\")\n",
    "\n",
    "            if accuracy > best_accuracy:\n",
    "                best_accuracy = accuracy\n",
    "                best_model_state = custom_mlp.state_dict()\n",
    "                best_epoch = epoch + 1\n",
    "                torch.save(best_model_state, checkpoint_path)\n",
    "                print(f\"New best model saved with accuracy {best_accuracy * 100:.2f}% at epoch {best_epoch}\")\n",
    "                print(f\"Best Classification Report at Epoch {best_epoch}:\\n{report}\")\n",
    "\n",
    "    custom_mlp.load_state_dict(torch.load(checkpoint_path))\n",
    "\n",
    "    plt.figure(figsize=(10, 5))\n",
    "    plt.plot(losses, label='Training Loss')\n",
    "    plt.xlabel('Epoch')\n",
    "    plt.ylabel('Loss')\n",
    "    plt.title('Training Loss Curve')\n",
    "    plt.legend()\n",
    "    plt.show()\n",
    "\n",
    "    print(f\"Final Model Accuracy: {best_accuracy * 100:.2f}%\")\n",
    "    \n",
    "    return custom_mlp, losses, best_accuracy"
   ]
  },
  {
   "cell_type": "code",
   "execution_count": 6,
   "metadata": {},
   "outputs": [
    {
     "name": "stderr",
     "output_type": "stream",
     "text": [
      "Loading checkpoint shards: 100%|██████████| 4/4 [00:05<00:00,  1.34s/it]\n",
      "/home/guangwei/miniconda3/envs/sit/lib/python3.9/site-packages/transformers/tokenization_utils_base.py:1601: FutureWarning: `clean_up_tokenization_spaces` was not set. It will be set to `True` by default. This behavior will be depracted in transformers v4.45, and will be then set to `False` by default. For more details check this issue: https://github.com/huggingface/transformers/issues/31884\n",
      "  warnings.warn(\n"
     ]
    }
   ],
   "source": [
    "tokenizer = AutoTokenizer.from_pretrained(model_name, model_max_length=512)\n",
    "model = AutoModelForCausalLM.from_pretrained(model_name, output_hidden_states=True)\n",
    "tokenizer.pad_token = tokenizer.eos_token\n",
    "bert_tokenizer = AutoTokenizer.from_pretrained('google-bert/bert-base-uncased')\n",
    "bert_model = AutoModel.from_pretrained('google-bert/bert-base-uncased')\n",
    "bert_tokenizer.pad_token = tokenizer.eos_token\n",
    "\n",
    "non_infringement_outputs, non_infringement_references, y_non_infringement, infringement_outputs, infringement_references, y_infringement = load_data(\n",
    "    non_infringement_file, infringement_file\n",
    ")\n",
    "\n",
    "y_non_infringement = np.array(y_non_infringement)\n",
    "y_infringement = np.array(y_infringement)\n"
   ]
  },
  {
   "cell_type": "code",
   "execution_count": 7,
   "metadata": {},
   "outputs": [
    {
     "name": "stdout",
     "output_type": "stream",
     "text": [
      "Extracting hidden states for non_infringement texts...\n"
     ]
    },
    {
     "name": "stderr",
     "output_type": "stream",
     "text": [
      "Processing data batches:   0%|          | 0/373 [00:00<?, ?it/s]We detected that you are passing `past_key_values` as a tuple and this is deprecated and will be removed in v4.43. Please use an appropriate `Cache` class (https://huggingface.co/docs/transformers/v4.41.3/en/internal/generation_utils#transformers.Cache)\n",
      "Processing data batches: 100%|██████████| 373/373 [01:44<00:00,  3.55it/s]\n"
     ]
    },
    {
     "name": "stdout",
     "output_type": "stream",
     "text": [
      "Extracting reference embeddings for non_infringement texts...\n"
     ]
    },
    {
     "name": "stderr",
     "output_type": "stream",
     "text": [
      "Processing references: 100%|██████████| 373/373 [00:04<00:00, 83.69it/s] \n",
      "huggingface/tokenizers: The current process just got forked, after parallelism has already been used. Disabling parallelism to avoid deadlocks...\n",
      "To disable this warning, you can either:\n",
      "\t- Avoid using `tokenizers` before the fork if possible\n",
      "\t- Explicitly set the environment variable TOKENIZERS_PARALLELISM=(true | false)\n",
      "huggingface/tokenizers: The current process just got forked, after parallelism has already been used. Disabling parallelism to avoid deadlocks...\n",
      "To disable this warning, you can either:\n",
      "\t- Avoid using `tokenizers` before the fork if possible\n",
      "\t- Explicitly set the environment variable TOKENIZERS_PARALLELISM=(true | false)\n"
     ]
    },
    {
     "name": "stdout",
     "output_type": "stream",
     "text": [
      "Reference embeddings reduced to 3 dimensions using t-SNE.\n",
      "Extracting hidden states for infringement texts...\n"
     ]
    },
    {
     "name": "stderr",
     "output_type": "stream",
     "text": [
      "Processing data batches: 100%|██████████| 354/354 [01:55<00:00,  3.06it/s]\n"
     ]
    },
    {
     "name": "stdout",
     "output_type": "stream",
     "text": [
      "Extracting reference embeddings for infringement texts...\n"
     ]
    },
    {
     "name": "stderr",
     "output_type": "stream",
     "text": [
      "Processing references: 100%|██████████| 354/354 [00:04<00:00, 74.55it/s]\n"
     ]
    },
    {
     "name": "stdout",
     "output_type": "stream",
     "text": [
      "Reference embeddings reduced to 3 dimensions using t-SNE.\n"
     ]
    }
   ],
   "source": [
    "print(\"Extracting hidden states for non_infringement texts...\")\n",
    "X_non_infringement = extract_hidden_states(non_infringement_outputs, model, tokenizer)\n",
    "print(\"Extracting reference embeddings for non_infringement texts...\")\n",
    "reference_embeddings_non_infringement = extract_reference_embeddings(non_infringement_references, bert_model, bert_tokenizer)\n",
    "X_non_infringement_combined = np.hstack([X_non_infringement, reference_embeddings_non_infringement])\n",
    "\n",
    "print(\"Extracting hidden states for infringement texts...\")\n",
    "X_infringement = extract_hidden_states(infringement_outputs, model, tokenizer)\n",
    "print(\"Extracting reference embeddings for infringement texts...\")\n",
    "reference_embeddings_infringement = extract_reference_embeddings(infringement_references, bert_model, bert_tokenizer)\n",
    "X_infringement_combined = np.hstack([X_infringement, reference_embeddings_infringement])"
   ]
  },
  {
   "cell_type": "code",
   "execution_count": 8,
   "metadata": {},
   "outputs": [
    {
     "name": "stdout",
     "output_type": "stream",
     "text": [
      "Data successfully split into training and test sets.\n"
     ]
    }
   ],
   "source": [
    "split_index_non_infringement = int(0.8 * len(X_non_infringement_combined))\n",
    "X_non_infringement_train = X_non_infringement_combined[:split_index_non_infringement]\n",
    "X_non_infringement_test = X_non_infringement_combined[split_index_non_infringement:]\n",
    "y_non_infringement_train = y_non_infringement[:split_index_non_infringement]\n",
    "y_non_infringement_test = y_non_infringement[split_index_non_infringement:]\n",
    "\n",
    "split_index_infringement = int(0.8 * len(X_infringement_combined))\n",
    "X_infringement_train = X_infringement_combined[:split_index_infringement]\n",
    "X_infringement_test = X_infringement_combined[split_index_infringement:]\n",
    "y_infringement_train = y_infringement[:split_index_infringement]\n",
    "y_infringement_test = y_infringement[split_index_infringement:]\n",
    "\n",
    "X_train = np.vstack((X_non_infringement_train, X_infringement_train))\n",
    "X_test = np.vstack((X_non_infringement_test, X_infringement_test))\n",
    "y_train = np.concatenate((y_non_infringement_train, y_infringement_train))\n",
    "y_test = np.concatenate((y_non_infringement_test, y_infringement_test))\n",
    "\n",
    "print(\"Data successfully split into training and test sets.\")"
   ]
  },
  {
   "cell_type": "code",
   "execution_count": 9,
   "metadata": {},
   "outputs": [
    {
     "name": "stdout",
     "output_type": "stream",
     "text": [
      "Training MLP model with input_dim=4099 and hidden_dim=256\n"
     ]
    },
    {
     "name": "stderr",
     "output_type": "stream",
     "text": [
      "Training Epochs:   0%|          | 0/500 [00:00<?, ?it/s]"
     ]
    },
    {
     "name": "stderr",
     "output_type": "stream",
     "text": [
      "Training Epochs:   2%|▏         | 11/500 [00:01<00:50,  9.64it/s]"
     ]
    },
    {
     "name": "stdout",
     "output_type": "stream",
     "text": [
      "Epoch 10/500, Loss: 0.5966\n",
      "Test Accuracy at Epoch 10: 65.23%\n",
      "Classification Report at Epoch 10:\n",
      "                  precision    recall  f1-score   support\n",
      "\n",
      "    infringement       0.95      0.30      0.46       283\n",
      "non_infringement       0.60      0.98      0.74       298\n",
      "\n",
      "        accuracy                           0.65       581\n",
      "       macro avg       0.77      0.64      0.60       581\n",
      "    weighted avg       0.77      0.65      0.61       581\n",
      "\n",
      "New best model saved with accuracy 65.23% at epoch 10\n",
      "Best Classification Report at Epoch 10:\n",
      "                  precision    recall  f1-score   support\n",
      "\n",
      "    infringement       0.95      0.30      0.46       283\n",
      "non_infringement       0.60      0.98      0.74       298\n",
      "\n",
      "        accuracy                           0.65       581\n",
      "       macro avg       0.77      0.64      0.60       581\n",
      "    weighted avg       0.77      0.65      0.61       581\n",
      "\n"
     ]
    },
    {
     "name": "stderr",
     "output_type": "stream",
     "text": [
      "Training Epochs:   4%|▍         | 21/500 [00:02<00:46, 10.22it/s]"
     ]
    },
    {
     "name": "stdout",
     "output_type": "stream",
     "text": [
      "Epoch 20/500, Loss: 0.4274\n",
      "Test Accuracy at Epoch 20: 70.40%\n",
      "Classification Report at Epoch 20:\n",
      "                  precision    recall  f1-score   support\n",
      "\n",
      "    infringement       0.78      0.54      0.64       283\n",
      "non_infringement       0.66      0.86      0.75       298\n",
      "\n",
      "        accuracy                           0.70       581\n",
      "       macro avg       0.72      0.70      0.69       581\n",
      "    weighted avg       0.72      0.70      0.70       581\n",
      "\n",
      "New best model saved with accuracy 70.40% at epoch 20\n",
      "Best Classification Report at Epoch 20:\n",
      "                  precision    recall  f1-score   support\n",
      "\n",
      "    infringement       0.78      0.54      0.64       283\n",
      "non_infringement       0.66      0.86      0.75       298\n",
      "\n",
      "        accuracy                           0.70       581\n",
      "       macro avg       0.72      0.70      0.69       581\n",
      "    weighted avg       0.72      0.70      0.70       581\n",
      "\n"
     ]
    },
    {
     "name": "stderr",
     "output_type": "stream",
     "text": [
      "Training Epochs:   6%|▌         | 31/500 [00:03<00:45, 10.21it/s]"
     ]
    },
    {
     "name": "stdout",
     "output_type": "stream",
     "text": [
      "Epoch 30/500, Loss: 0.3147\n",
      "Test Accuracy at Epoch 30: 75.56%\n",
      "Classification Report at Epoch 30:\n",
      "                  precision    recall  f1-score   support\n",
      "\n",
      "    infringement       0.77      0.71      0.74       283\n",
      "non_infringement       0.74      0.80      0.77       298\n",
      "\n",
      "        accuracy                           0.76       581\n",
      "       macro avg       0.76      0.75      0.75       581\n",
      "    weighted avg       0.76      0.76      0.75       581\n",
      "\n",
      "New best model saved with accuracy 75.56% at epoch 30\n",
      "Best Classification Report at Epoch 30:\n",
      "                  precision    recall  f1-score   support\n",
      "\n",
      "    infringement       0.77      0.71      0.74       283\n",
      "non_infringement       0.74      0.80      0.77       298\n",
      "\n",
      "        accuracy                           0.76       581\n",
      "       macro avg       0.76      0.75      0.75       581\n",
      "    weighted avg       0.76      0.76      0.75       581\n",
      "\n"
     ]
    },
    {
     "name": "stderr",
     "output_type": "stream",
     "text": [
      "Training Epochs:   8%|▊         | 41/500 [00:03<00:45, 10.15it/s]"
     ]
    },
    {
     "name": "stdout",
     "output_type": "stream",
     "text": [
      "Epoch 40/500, Loss: 0.2200\n",
      "Test Accuracy at Epoch 40: 76.08%\n",
      "Classification Report at Epoch 40:\n",
      "                  precision    recall  f1-score   support\n",
      "\n",
      "    infringement       0.77      0.72      0.74       283\n",
      "non_infringement       0.75      0.80      0.77       298\n",
      "\n",
      "        accuracy                           0.76       581\n",
      "       macro avg       0.76      0.76      0.76       581\n",
      "    weighted avg       0.76      0.76      0.76       581\n",
      "\n",
      "New best model saved with accuracy 76.08% at epoch 40\n",
      "Best Classification Report at Epoch 40:\n",
      "                  precision    recall  f1-score   support\n",
      "\n",
      "    infringement       0.77      0.72      0.74       283\n",
      "non_infringement       0.75      0.80      0.77       298\n",
      "\n",
      "        accuracy                           0.76       581\n",
      "       macro avg       0.76      0.76      0.76       581\n",
      "    weighted avg       0.76      0.76      0.76       581\n",
      "\n"
     ]
    },
    {
     "name": "stderr",
     "output_type": "stream",
     "text": [
      "Training Epochs:  10%|█         | 51/500 [00:04<00:39, 11.32it/s]"
     ]
    },
    {
     "name": "stdout",
     "output_type": "stream",
     "text": [
      "Epoch 50/500, Loss: 0.1371\n",
      "Test Accuracy at Epoch 50: 74.53%\n",
      "Classification Report at Epoch 50:\n",
      "                  precision    recall  f1-score   support\n",
      "\n",
      "    infringement       0.76      0.70      0.73       283\n",
      "non_infringement       0.74      0.79      0.76       298\n",
      "\n",
      "        accuracy                           0.75       581\n",
      "       macro avg       0.75      0.74      0.74       581\n",
      "    weighted avg       0.75      0.75      0.74       581\n",
      "\n"
     ]
    },
    {
     "name": "stderr",
     "output_type": "stream",
     "text": [
      "Training Epochs:  12%|█▏        | 59/500 [00:05<00:41, 10.71it/s]"
     ]
    },
    {
     "name": "stdout",
     "output_type": "stream",
     "text": [
      "Epoch 60/500, Loss: 0.1072\n",
      "Test Accuracy at Epoch 60: 72.63%\n",
      "Classification Report at Epoch 60:\n",
      "                  precision    recall  f1-score   support\n",
      "\n",
      "    infringement       0.71      0.75      0.73       283\n",
      "non_infringement       0.75      0.70      0.73       298\n",
      "\n",
      "        accuracy                           0.73       581\n",
      "       macro avg       0.73      0.73      0.73       581\n",
      "    weighted avg       0.73      0.73      0.73       581\n",
      "\n"
     ]
    },
    {
     "name": "stderr",
     "output_type": "stream",
     "text": [
      "Training Epochs:  14%|█▍        | 71/500 [00:06<00:47,  9.09it/s]"
     ]
    },
    {
     "name": "stdout",
     "output_type": "stream",
     "text": [
      "Epoch 70/500, Loss: 0.0624\n",
      "Test Accuracy at Epoch 70: 70.74%\n",
      "Classification Report at Epoch 70:\n",
      "                  precision    recall  f1-score   support\n",
      "\n",
      "    infringement       0.68      0.75      0.71       283\n",
      "non_infringement       0.74      0.67      0.70       298\n",
      "\n",
      "        accuracy                           0.71       581\n",
      "       macro avg       0.71      0.71      0.71       581\n",
      "    weighted avg       0.71      0.71      0.71       581\n",
      "\n"
     ]
    },
    {
     "name": "stderr",
     "output_type": "stream",
     "text": [
      "Training Epochs:  16%|█▌        | 80/500 [00:07<00:40, 10.36it/s]"
     ]
    },
    {
     "name": "stdout",
     "output_type": "stream",
     "text": [
      "Epoch 80/500, Loss: 0.0447\n",
      "Test Accuracy at Epoch 80: 70.22%\n",
      "Classification Report at Epoch 80:\n",
      "                  precision    recall  f1-score   support\n",
      "\n",
      "    infringement       0.67      0.75      0.71       283\n",
      "non_infringement       0.74      0.65      0.69       298\n",
      "\n",
      "        accuracy                           0.70       581\n",
      "       macro avg       0.70      0.70      0.70       581\n",
      "    weighted avg       0.71      0.70      0.70       581\n",
      "\n"
     ]
    },
    {
     "name": "stderr",
     "output_type": "stream",
     "text": [
      "Training Epochs:  18%|█▊        | 92/500 [00:08<00:37, 10.88it/s]"
     ]
    },
    {
     "name": "stdout",
     "output_type": "stream",
     "text": [
      "Epoch 90/500, Loss: 0.0318\n",
      "Test Accuracy at Epoch 90: 69.54%\n",
      "Classification Report at Epoch 90:\n",
      "                  precision    recall  f1-score   support\n",
      "\n",
      "    infringement       0.67      0.75      0.71       283\n",
      "non_infringement       0.73      0.64      0.68       298\n",
      "\n",
      "        accuracy                           0.70       581\n",
      "       macro avg       0.70      0.70      0.69       581\n",
      "    weighted avg       0.70      0.70      0.69       581\n",
      "\n"
     ]
    },
    {
     "name": "stderr",
     "output_type": "stream",
     "text": [
      "Training Epochs:  20%|██        | 100/500 [00:09<00:43,  9.17it/s]"
     ]
    },
    {
     "name": "stdout",
     "output_type": "stream",
     "text": [
      "Epoch 100/500, Loss: 0.0237\n",
      "Test Accuracy at Epoch 100: 69.54%\n",
      "Classification Report at Epoch 100:\n",
      "                  precision    recall  f1-score   support\n",
      "\n",
      "    infringement       0.67      0.73      0.70       283\n",
      "non_infringement       0.72      0.66      0.69       298\n",
      "\n",
      "        accuracy                           0.70       581\n",
      "       macro avg       0.70      0.70      0.70       581\n",
      "    weighted avg       0.70      0.70      0.70       581\n",
      "\n"
     ]
    },
    {
     "name": "stderr",
     "output_type": "stream",
     "text": [
      "Training Epochs:  22%|██▏       | 111/500 [00:10<00:37, 10.50it/s]"
     ]
    },
    {
     "name": "stdout",
     "output_type": "stream",
     "text": [
      "Epoch 110/500, Loss: 0.0178\n",
      "Test Accuracy at Epoch 110: 70.40%\n",
      "Classification Report at Epoch 110:\n",
      "                  precision    recall  f1-score   support\n",
      "\n",
      "    infringement       0.68      0.75      0.71       283\n",
      "non_infringement       0.74      0.66      0.70       298\n",
      "\n",
      "        accuracy                           0.70       581\n",
      "       macro avg       0.71      0.71      0.70       581\n",
      "    weighted avg       0.71      0.70      0.70       581\n",
      "\n"
     ]
    },
    {
     "name": "stderr",
     "output_type": "stream",
     "text": [
      "Training Epochs:  24%|██▍       | 121/500 [00:11<00:39,  9.55it/s]"
     ]
    },
    {
     "name": "stdout",
     "output_type": "stream",
     "text": [
      "Epoch 120/500, Loss: 0.0141\n",
      "Test Accuracy at Epoch 120: 70.22%\n",
      "Classification Report at Epoch 120:\n",
      "                  precision    recall  f1-score   support\n",
      "\n",
      "    infringement       0.68      0.75      0.71       283\n",
      "non_infringement       0.73      0.66      0.69       298\n",
      "\n",
      "        accuracy                           0.70       581\n",
      "       macro avg       0.70      0.70      0.70       581\n",
      "    weighted avg       0.71      0.70      0.70       581\n",
      "\n"
     ]
    },
    {
     "name": "stderr",
     "output_type": "stream",
     "text": [
      "Training Epochs:  26%|██▌       | 130/500 [00:13<00:59,  6.17it/s]"
     ]
    },
    {
     "name": "stdout",
     "output_type": "stream",
     "text": [
      "Epoch 130/500, Loss: 0.0115\n",
      "Test Accuracy at Epoch 130: 70.57%\n",
      "Classification Report at Epoch 130:\n",
      "                  precision    recall  f1-score   support\n",
      "\n",
      "    infringement       0.68      0.75      0.71       283\n",
      "non_infringement       0.74      0.66      0.70       298\n",
      "\n",
      "        accuracy                           0.71       581\n",
      "       macro avg       0.71      0.71      0.71       581\n",
      "    weighted avg       0.71      0.71      0.71       581\n",
      "\n"
     ]
    },
    {
     "name": "stderr",
     "output_type": "stream",
     "text": [
      "Training Epochs:  28%|██▊       | 141/500 [00:14<00:33, 10.79it/s]"
     ]
    },
    {
     "name": "stdout",
     "output_type": "stream",
     "text": [
      "Epoch 140/500, Loss: 0.0096\n",
      "Test Accuracy at Epoch 140: 70.57%\n",
      "Classification Report at Epoch 140:\n",
      "                  precision    recall  f1-score   support\n",
      "\n",
      "    infringement       0.68      0.75      0.71       283\n",
      "non_infringement       0.74      0.66      0.70       298\n",
      "\n",
      "        accuracy                           0.71       581\n",
      "       macro avg       0.71      0.71      0.71       581\n",
      "    weighted avg       0.71      0.71      0.71       581\n",
      "\n"
     ]
    },
    {
     "name": "stderr",
     "output_type": "stream",
     "text": [
      "Training Epochs:  30%|███       | 151/500 [00:15<00:36,  9.50it/s]"
     ]
    },
    {
     "name": "stdout",
     "output_type": "stream",
     "text": [
      "Epoch 150/500, Loss: 0.0082\n",
      "Test Accuracy at Epoch 150: 70.40%\n",
      "Classification Report at Epoch 150:\n",
      "                  precision    recall  f1-score   support\n",
      "\n",
      "    infringement       0.68      0.75      0.71       283\n",
      "non_infringement       0.74      0.66      0.70       298\n",
      "\n",
      "        accuracy                           0.70       581\n",
      "       macro avg       0.71      0.71      0.70       581\n",
      "    weighted avg       0.71      0.70      0.70       581\n",
      "\n"
     ]
    },
    {
     "name": "stderr",
     "output_type": "stream",
     "text": [
      "Training Epochs:  32%|███▏      | 161/500 [00:16<00:41,  8.17it/s]"
     ]
    },
    {
     "name": "stdout",
     "output_type": "stream",
     "text": [
      "Epoch 160/500, Loss: 0.0071\n",
      "Test Accuracy at Epoch 160: 70.40%\n",
      "Classification Report at Epoch 160:\n",
      "                  precision    recall  f1-score   support\n",
      "\n",
      "    infringement       0.68      0.75      0.71       283\n",
      "non_infringement       0.74      0.66      0.70       298\n",
      "\n",
      "        accuracy                           0.70       581\n",
      "       macro avg       0.71      0.71      0.70       581\n",
      "    weighted avg       0.71      0.70      0.70       581\n",
      "\n"
     ]
    },
    {
     "name": "stderr",
     "output_type": "stream",
     "text": [
      "Training Epochs:  34%|███▍      | 170/500 [00:17<00:47,  6.93it/s]"
     ]
    },
    {
     "name": "stdout",
     "output_type": "stream",
     "text": [
      "Epoch 170/500, Loss: 0.0063\n",
      "Test Accuracy at Epoch 170: 70.57%\n",
      "Classification Report at Epoch 170:\n",
      "                  precision    recall  f1-score   support\n",
      "\n",
      "    infringement       0.68      0.75      0.71       283\n",
      "non_infringement       0.74      0.66      0.70       298\n",
      "\n",
      "        accuracy                           0.71       581\n",
      "       macro avg       0.71      0.71      0.71       581\n",
      "    weighted avg       0.71      0.71      0.71       581\n",
      "\n"
     ]
    },
    {
     "name": "stderr",
     "output_type": "stream",
     "text": [
      "Training Epochs:  36%|███▌      | 181/500 [00:19<00:52,  6.04it/s]"
     ]
    },
    {
     "name": "stdout",
     "output_type": "stream",
     "text": [
      "Epoch 180/500, Loss: 0.0090\n",
      "Test Accuracy at Epoch 180: 69.54%\n",
      "Classification Report at Epoch 180:\n",
      "                  precision    recall  f1-score   support\n",
      "\n",
      "    infringement       0.66      0.76      0.71       283\n",
      "non_infringement       0.74      0.63      0.68       298\n",
      "\n",
      "        accuracy                           0.70       581\n",
      "       macro avg       0.70      0.70      0.69       581\n",
      "    weighted avg       0.70      0.70      0.69       581\n",
      "\n"
     ]
    },
    {
     "name": "stderr",
     "output_type": "stream",
     "text": [
      "Training Epochs:  38%|███▊      | 189/500 [00:19<00:31,  9.88it/s]"
     ]
    },
    {
     "name": "stdout",
     "output_type": "stream",
     "text": [
      "Epoch 190/500, Loss: 0.9131\n",
      "Test Accuracy at Epoch 190: 68.16%\n",
      "Classification Report at Epoch 190:\n",
      "                  precision    recall  f1-score   support\n",
      "\n",
      "    infringement       0.64      0.81      0.71       283\n",
      "non_infringement       0.76      0.56      0.64       298\n",
      "\n",
      "        accuracy                           0.68       581\n",
      "       macro avg       0.70      0.68      0.68       581\n",
      "    weighted avg       0.70      0.68      0.68       581\n",
      "\n"
     ]
    },
    {
     "name": "stderr",
     "output_type": "stream",
     "text": [
      "Training Epochs:  40%|████      | 202/500 [00:21<00:26, 11.12it/s]"
     ]
    },
    {
     "name": "stdout",
     "output_type": "stream",
     "text": [
      "Epoch 200/500, Loss: 0.2530\n",
      "Test Accuracy at Epoch 200: 66.78%\n",
      "Classification Report at Epoch 200:\n",
      "                  precision    recall  f1-score   support\n",
      "\n",
      "    infringement       0.66      0.67      0.66       283\n",
      "non_infringement       0.68      0.67      0.67       298\n",
      "\n",
      "        accuracy                           0.67       581\n",
      "       macro avg       0.67      0.67      0.67       581\n",
      "    weighted avg       0.67      0.67      0.67       581\n",
      "\n"
     ]
    },
    {
     "name": "stderr",
     "output_type": "stream",
     "text": [
      "Training Epochs:  42%|████▏     | 212/500 [00:22<00:30,  9.36it/s]"
     ]
    },
    {
     "name": "stdout",
     "output_type": "stream",
     "text": [
      "Epoch 210/500, Loss: 0.1678\n",
      "Test Accuracy at Epoch 210: 69.71%\n",
      "Classification Report at Epoch 210:\n",
      "                  precision    recall  f1-score   support\n",
      "\n",
      "    infringement       0.69      0.70      0.69       283\n",
      "non_infringement       0.71      0.69      0.70       298\n",
      "\n",
      "        accuracy                           0.70       581\n",
      "       macro avg       0.70      0.70      0.70       581\n",
      "    weighted avg       0.70      0.70      0.70       581\n",
      "\n"
     ]
    },
    {
     "name": "stderr",
     "output_type": "stream",
     "text": [
      "Training Epochs:  44%|████▍     | 220/500 [00:23<00:25, 10.85it/s]"
     ]
    },
    {
     "name": "stdout",
     "output_type": "stream",
     "text": [
      "Epoch 220/500, Loss: 0.1058\n",
      "Test Accuracy at Epoch 220: 70.05%\n",
      "Classification Report at Epoch 220:\n",
      "                  precision    recall  f1-score   support\n",
      "\n",
      "    infringement       0.68      0.73      0.70       283\n",
      "non_infringement       0.72      0.67      0.70       298\n",
      "\n",
      "        accuracy                           0.70       581\n",
      "       macro avg       0.70      0.70      0.70       581\n",
      "    weighted avg       0.70      0.70      0.70       581\n",
      "\n"
     ]
    },
    {
     "name": "stderr",
     "output_type": "stream",
     "text": [
      "Training Epochs:  46%|████▌     | 230/500 [00:24<00:27,  9.84it/s]"
     ]
    },
    {
     "name": "stdout",
     "output_type": "stream",
     "text": [
      "Epoch 230/500, Loss: 0.0684\n",
      "Test Accuracy at Epoch 230: 70.91%\n",
      "Classification Report at Epoch 230:\n",
      "                  precision    recall  f1-score   support\n",
      "\n",
      "    infringement       0.67      0.78      0.72       283\n",
      "non_infringement       0.75      0.64      0.69       298\n",
      "\n",
      "        accuracy                           0.71       581\n",
      "       macro avg       0.71      0.71      0.71       581\n",
      "    weighted avg       0.71      0.71      0.71       581\n",
      "\n"
     ]
    },
    {
     "name": "stderr",
     "output_type": "stream",
     "text": [
      "Training Epochs:  48%|████▊     | 241/500 [00:25<00:35,  7.24it/s]"
     ]
    },
    {
     "name": "stdout",
     "output_type": "stream",
     "text": [
      "Epoch 240/500, Loss: 0.0464\n",
      "Test Accuracy at Epoch 240: 72.12%\n",
      "Classification Report at Epoch 240:\n",
      "                  precision    recall  f1-score   support\n",
      "\n",
      "    infringement       0.69      0.78      0.73       283\n",
      "non_infringement       0.76      0.66      0.71       298\n",
      "\n",
      "        accuracy                           0.72       581\n",
      "       macro avg       0.73      0.72      0.72       581\n",
      "    weighted avg       0.73      0.72      0.72       581\n",
      "\n"
     ]
    },
    {
     "name": "stderr",
     "output_type": "stream",
     "text": [
      "Training Epochs:  50%|█████     | 251/500 [00:27<00:51,  4.85it/s]"
     ]
    },
    {
     "name": "stdout",
     "output_type": "stream",
     "text": [
      "Epoch 250/500, Loss: 0.0339\n",
      "Test Accuracy at Epoch 250: 72.12%\n",
      "Classification Report at Epoch 250:\n",
      "                  precision    recall  f1-score   support\n",
      "\n",
      "    infringement       0.69      0.78      0.73       283\n",
      "non_infringement       0.76      0.66      0.71       298\n",
      "\n",
      "        accuracy                           0.72       581\n",
      "       macro avg       0.73      0.72      0.72       581\n",
      "    weighted avg       0.73      0.72      0.72       581\n",
      "\n"
     ]
    },
    {
     "name": "stderr",
     "output_type": "stream",
     "text": [
      "Training Epochs:  52%|█████▏    | 260/500 [00:29<00:43,  5.58it/s]"
     ]
    },
    {
     "name": "stdout",
     "output_type": "stream",
     "text": [
      "Epoch 260/500, Loss: 0.0265\n",
      "Test Accuracy at Epoch 260: 72.29%\n",
      "Classification Report at Epoch 260:\n",
      "                  precision    recall  f1-score   support\n",
      "\n",
      "    infringement       0.69      0.78      0.73       283\n",
      "non_infringement       0.76      0.66      0.71       298\n",
      "\n",
      "        accuracy                           0.72       581\n",
      "       macro avg       0.73      0.72      0.72       581\n",
      "    weighted avg       0.73      0.72      0.72       581\n",
      "\n"
     ]
    },
    {
     "name": "stderr",
     "output_type": "stream",
     "text": [
      "Training Epochs:  54%|█████▍    | 270/500 [00:30<00:28,  8.08it/s]"
     ]
    },
    {
     "name": "stdout",
     "output_type": "stream",
     "text": [
      "Epoch 270/500, Loss: 0.0222\n",
      "Test Accuracy at Epoch 270: 72.29%\n",
      "Classification Report at Epoch 270:\n",
      "                  precision    recall  f1-score   support\n",
      "\n",
      "    infringement       0.69      0.78      0.73       283\n",
      "non_infringement       0.76      0.66      0.71       298\n",
      "\n",
      "        accuracy                           0.72       581\n",
      "       macro avg       0.73      0.72      0.72       581\n",
      "    weighted avg       0.73      0.72      0.72       581\n",
      "\n"
     ]
    },
    {
     "name": "stderr",
     "output_type": "stream",
     "text": [
      "Training Epochs:  56%|█████▌    | 280/500 [00:31<00:28,  7.78it/s]"
     ]
    },
    {
     "name": "stdout",
     "output_type": "stream",
     "text": [
      "Epoch 280/500, Loss: 0.0192\n",
      "Test Accuracy at Epoch 280: 72.29%\n",
      "Classification Report at Epoch 280:\n",
      "                  precision    recall  f1-score   support\n",
      "\n",
      "    infringement       0.69      0.78      0.73       283\n",
      "non_infringement       0.76      0.66      0.71       298\n",
      "\n",
      "        accuracy                           0.72       581\n",
      "       macro avg       0.73      0.72      0.72       581\n",
      "    weighted avg       0.73      0.72      0.72       581\n",
      "\n"
     ]
    },
    {
     "name": "stderr",
     "output_type": "stream",
     "text": [
      "Training Epochs:  58%|█████▊    | 291/500 [00:33<00:19, 10.58it/s]"
     ]
    },
    {
     "name": "stdout",
     "output_type": "stream",
     "text": [
      "Epoch 290/500, Loss: 0.0169\n",
      "Test Accuracy at Epoch 290: 72.29%\n",
      "Classification Report at Epoch 290:\n",
      "                  precision    recall  f1-score   support\n",
      "\n",
      "    infringement       0.69      0.79      0.74       283\n",
      "non_infringement       0.77      0.66      0.71       298\n",
      "\n",
      "        accuracy                           0.72       581\n",
      "       macro avg       0.73      0.72      0.72       581\n",
      "    weighted avg       0.73      0.72      0.72       581\n",
      "\n"
     ]
    },
    {
     "name": "stderr",
     "output_type": "stream",
     "text": [
      "Training Epochs:  60%|██████    | 301/500 [00:34<00:21,  9.18it/s]"
     ]
    },
    {
     "name": "stdout",
     "output_type": "stream",
     "text": [
      "Epoch 300/500, Loss: 0.0150\n",
      "Test Accuracy at Epoch 300: 72.29%\n",
      "Classification Report at Epoch 300:\n",
      "                  precision    recall  f1-score   support\n",
      "\n",
      "    infringement       0.69      0.80      0.74       283\n",
      "non_infringement       0.77      0.65      0.71       298\n",
      "\n",
      "        accuracy                           0.72       581\n",
      "       macro avg       0.73      0.72      0.72       581\n",
      "    weighted avg       0.73      0.72      0.72       581\n",
      "\n"
     ]
    },
    {
     "name": "stderr",
     "output_type": "stream",
     "text": [
      "Training Epochs:  62%|██████▏   | 311/500 [00:35<00:25,  7.35it/s]"
     ]
    },
    {
     "name": "stdout",
     "output_type": "stream",
     "text": [
      "Epoch 310/500, Loss: 0.0134\n",
      "Test Accuracy at Epoch 310: 71.94%\n",
      "Classification Report at Epoch 310:\n",
      "                  precision    recall  f1-score   support\n",
      "\n",
      "    infringement       0.68      0.79      0.73       283\n",
      "non_infringement       0.76      0.65      0.71       298\n",
      "\n",
      "        accuracy                           0.72       581\n",
      "       macro avg       0.72      0.72      0.72       581\n",
      "    weighted avg       0.73      0.72      0.72       581\n",
      "\n"
     ]
    },
    {
     "name": "stderr",
     "output_type": "stream",
     "text": [
      "Training Epochs:  64%|██████▍   | 321/500 [00:36<00:18,  9.83it/s]"
     ]
    },
    {
     "name": "stdout",
     "output_type": "stream",
     "text": [
      "Epoch 320/500, Loss: 0.0120\n",
      "Test Accuracy at Epoch 320: 71.26%\n",
      "Classification Report at Epoch 320:\n",
      "                  precision    recall  f1-score   support\n",
      "\n",
      "    infringement       0.68      0.79      0.73       283\n",
      "non_infringement       0.76      0.64      0.70       298\n",
      "\n",
      "        accuracy                           0.71       581\n",
      "       macro avg       0.72      0.71      0.71       581\n",
      "    weighted avg       0.72      0.71      0.71       581\n",
      "\n"
     ]
    },
    {
     "name": "stderr",
     "output_type": "stream",
     "text": [
      "Training Epochs:  66%|██████▌   | 330/500 [00:37<00:16, 10.09it/s]"
     ]
    },
    {
     "name": "stdout",
     "output_type": "stream",
     "text": [
      "Epoch 330/500, Loss: 0.0108\n",
      "Test Accuracy at Epoch 330: 71.26%\n",
      "Classification Report at Epoch 330:\n",
      "                  precision    recall  f1-score   support\n",
      "\n",
      "    infringement       0.68      0.79      0.73       283\n",
      "non_infringement       0.76      0.64      0.70       298\n",
      "\n",
      "        accuracy                           0.71       581\n",
      "       macro avg       0.72      0.71      0.71       581\n",
      "    weighted avg       0.72      0.71      0.71       581\n",
      "\n"
     ]
    },
    {
     "name": "stderr",
     "output_type": "stream",
     "text": [
      "Training Epochs:  68%|██████▊   | 340/500 [00:38<00:19,  8.34it/s]"
     ]
    },
    {
     "name": "stdout",
     "output_type": "stream",
     "text": [
      "Epoch 340/500, Loss: 0.0097\n",
      "Test Accuracy at Epoch 340: 71.08%\n",
      "Classification Report at Epoch 340:\n",
      "                  precision    recall  f1-score   support\n",
      "\n",
      "    infringement       0.67      0.79      0.73       283\n",
      "non_infringement       0.76      0.64      0.69       298\n",
      "\n",
      "        accuracy                           0.71       581\n",
      "       macro avg       0.72      0.71      0.71       581\n",
      "    weighted avg       0.72      0.71      0.71       581\n",
      "\n"
     ]
    },
    {
     "name": "stderr",
     "output_type": "stream",
     "text": [
      "Training Epochs:  70%|███████   | 351/500 [00:39<00:17,  8.45it/s]"
     ]
    },
    {
     "name": "stdout",
     "output_type": "stream",
     "text": [
      "Epoch 350/500, Loss: 0.0088\n",
      "Test Accuracy at Epoch 350: 71.08%\n",
      "Classification Report at Epoch 350:\n",
      "                  precision    recall  f1-score   support\n",
      "\n",
      "    infringement       0.67      0.79      0.73       283\n",
      "non_infringement       0.76      0.63      0.69       298\n",
      "\n",
      "        accuracy                           0.71       581\n",
      "       macro avg       0.72      0.71      0.71       581\n",
      "    weighted avg       0.72      0.71      0.71       581\n",
      "\n"
     ]
    },
    {
     "name": "stderr",
     "output_type": "stream",
     "text": [
      "Training Epochs:  72%|███████▏  | 360/500 [00:41<00:16,  8.74it/s]"
     ]
    },
    {
     "name": "stdout",
     "output_type": "stream",
     "text": [
      "Epoch 360/500, Loss: 0.0079\n",
      "Test Accuracy at Epoch 360: 70.74%\n",
      "Classification Report at Epoch 360:\n",
      "                  precision    recall  f1-score   support\n",
      "\n",
      "    infringement       0.67      0.79      0.72       283\n",
      "non_infringement       0.76      0.63      0.69       298\n",
      "\n",
      "        accuracy                           0.71       581\n",
      "       macro avg       0.71      0.71      0.71       581\n",
      "    weighted avg       0.72      0.71      0.71       581\n",
      "\n"
     ]
    },
    {
     "name": "stderr",
     "output_type": "stream",
     "text": [
      "Training Epochs:  74%|███████▍  | 372/500 [00:42<00:12, 10.33it/s]"
     ]
    },
    {
     "name": "stdout",
     "output_type": "stream",
     "text": [
      "Epoch 370/500, Loss: 0.0072\n",
      "Test Accuracy at Epoch 370: 70.05%\n",
      "Classification Report at Epoch 370:\n",
      "                  precision    recall  f1-score   support\n",
      "\n",
      "    infringement       0.67      0.77      0.72       283\n",
      "non_infringement       0.75      0.63      0.68       298\n",
      "\n",
      "        accuracy                           0.70       581\n",
      "       macro avg       0.71      0.70      0.70       581\n",
      "    weighted avg       0.71      0.70      0.70       581\n",
      "\n"
     ]
    },
    {
     "name": "stderr",
     "output_type": "stream",
     "text": [
      "Training Epochs:  76%|███████▋  | 382/500 [00:43<00:10, 11.29it/s]"
     ]
    },
    {
     "name": "stdout",
     "output_type": "stream",
     "text": [
      "Epoch 380/500, Loss: 0.0065\n",
      "Test Accuracy at Epoch 380: 70.22%\n",
      "Classification Report at Epoch 380:\n",
      "                  precision    recall  f1-score   support\n",
      "\n",
      "    infringement       0.67      0.77      0.72       283\n",
      "non_infringement       0.75      0.63      0.69       298\n",
      "\n",
      "        accuracy                           0.70       581\n",
      "       macro avg       0.71      0.70      0.70       581\n",
      "    weighted avg       0.71      0.70      0.70       581\n",
      "\n"
     ]
    },
    {
     "name": "stderr",
     "output_type": "stream",
     "text": [
      "Training Epochs:  78%|███████▊  | 392/500 [00:44<00:12,  8.42it/s]"
     ]
    },
    {
     "name": "stdout",
     "output_type": "stream",
     "text": [
      "Epoch 390/500, Loss: 0.0061\n",
      "Test Accuracy at Epoch 390: 70.22%\n",
      "Classification Report at Epoch 390:\n",
      "                  precision    recall  f1-score   support\n",
      "\n",
      "    infringement       0.67      0.77      0.72       283\n",
      "non_infringement       0.75      0.63      0.69       298\n",
      "\n",
      "        accuracy                           0.70       581\n",
      "       macro avg       0.71      0.70      0.70       581\n",
      "    weighted avg       0.71      0.70      0.70       581\n",
      "\n"
     ]
    },
    {
     "name": "stderr",
     "output_type": "stream",
     "text": [
      "Training Epochs:  80%|████████  | 400/500 [00:45<00:10,  9.55it/s]"
     ]
    },
    {
     "name": "stdout",
     "output_type": "stream",
     "text": [
      "Epoch 400/500, Loss: 0.0054\n",
      "Test Accuracy at Epoch 400: 70.22%\n",
      "Classification Report at Epoch 400:\n",
      "                  precision    recall  f1-score   support\n",
      "\n",
      "    infringement       0.67      0.77      0.72       283\n",
      "non_infringement       0.75      0.63      0.69       298\n",
      "\n",
      "        accuracy                           0.70       581\n",
      "       macro avg       0.71      0.70      0.70       581\n",
      "    weighted avg       0.71      0.70      0.70       581\n",
      "\n"
     ]
    },
    {
     "name": "stderr",
     "output_type": "stream",
     "text": [
      "Training Epochs:  82%|████████▏ | 411/500 [00:46<00:08, 10.48it/s]"
     ]
    },
    {
     "name": "stdout",
     "output_type": "stream",
     "text": [
      "Epoch 410/500, Loss: 0.0050\n",
      "Test Accuracy at Epoch 410: 70.40%\n",
      "Classification Report at Epoch 410:\n",
      "                  precision    recall  f1-score   support\n",
      "\n",
      "    infringement       0.67      0.78      0.72       283\n",
      "non_infringement       0.75      0.63      0.69       298\n",
      "\n",
      "        accuracy                           0.70       581\n",
      "       macro avg       0.71      0.71      0.70       581\n",
      "    weighted avg       0.71      0.70      0.70       581\n",
      "\n"
     ]
    },
    {
     "name": "stderr",
     "output_type": "stream",
     "text": [
      "Training Epochs:  84%|████████▍ | 421/500 [00:47<00:07, 10.53it/s]"
     ]
    },
    {
     "name": "stdout",
     "output_type": "stream",
     "text": [
      "Epoch 420/500, Loss: 0.0046\n",
      "Test Accuracy at Epoch 420: 70.40%\n",
      "Classification Report at Epoch 420:\n",
      "                  precision    recall  f1-score   support\n",
      "\n",
      "    infringement       0.67      0.78      0.72       283\n",
      "non_infringement       0.75      0.63      0.69       298\n",
      "\n",
      "        accuracy                           0.70       581\n",
      "       macro avg       0.71      0.71      0.70       581\n",
      "    weighted avg       0.71      0.70      0.70       581\n",
      "\n"
     ]
    },
    {
     "name": "stderr",
     "output_type": "stream",
     "text": [
      "Training Epochs:  86%|████████▌ | 431/500 [00:48<00:05, 11.91it/s]"
     ]
    },
    {
     "name": "stdout",
     "output_type": "stream",
     "text": [
      "Epoch 430/500, Loss: 0.0043\n",
      "Test Accuracy at Epoch 430: 70.05%\n",
      "Classification Report at Epoch 430:\n",
      "                  precision    recall  f1-score   support\n",
      "\n",
      "    infringement       0.66      0.78      0.72       283\n",
      "non_infringement       0.75      0.62      0.68       298\n",
      "\n",
      "        accuracy                           0.70       581\n",
      "       macro avg       0.71      0.70      0.70       581\n",
      "    weighted avg       0.71      0.70      0.70       581\n",
      "\n"
     ]
    },
    {
     "name": "stderr",
     "output_type": "stream",
     "text": [
      "Training Epochs:  88%|████████▊ | 441/500 [00:49<00:06,  9.51it/s]"
     ]
    },
    {
     "name": "stdout",
     "output_type": "stream",
     "text": [
      "Epoch 440/500, Loss: 0.0040\n",
      "Test Accuracy at Epoch 440: 70.40%\n",
      "Classification Report at Epoch 440:\n",
      "                  precision    recall  f1-score   support\n",
      "\n",
      "    infringement       0.67      0.78      0.72       283\n",
      "non_infringement       0.75      0.63      0.69       298\n",
      "\n",
      "        accuracy                           0.70       581\n",
      "       macro avg       0.71      0.71      0.70       581\n",
      "    weighted avg       0.71      0.70      0.70       581\n",
      "\n"
     ]
    },
    {
     "name": "stderr",
     "output_type": "stream",
     "text": [
      "Training Epochs:  90%|█████████ | 451/500 [00:50<00:04, 10.21it/s]"
     ]
    },
    {
     "name": "stdout",
     "output_type": "stream",
     "text": [
      "Epoch 450/500, Loss: 0.0036\n",
      "Test Accuracy at Epoch 450: 70.40%\n",
      "Classification Report at Epoch 450:\n",
      "                  precision    recall  f1-score   support\n",
      "\n",
      "    infringement       0.67      0.78      0.72       283\n",
      "non_infringement       0.75      0.63      0.69       298\n",
      "\n",
      "        accuracy                           0.70       581\n",
      "       macro avg       0.71      0.71      0.70       581\n",
      "    weighted avg       0.71      0.70      0.70       581\n",
      "\n"
     ]
    },
    {
     "name": "stderr",
     "output_type": "stream",
     "text": [
      "Training Epochs:  92%|█████████▏| 461/500 [00:51<00:02, 13.06it/s]"
     ]
    },
    {
     "name": "stdout",
     "output_type": "stream",
     "text": [
      "Epoch 460/500, Loss: 0.0033\n",
      "Test Accuracy at Epoch 460: 70.22%\n",
      "Classification Report at Epoch 460:\n",
      "                  precision    recall  f1-score   support\n",
      "\n",
      "    infringement       0.67      0.78      0.72       283\n",
      "non_infringement       0.75      0.63      0.68       298\n",
      "\n",
      "        accuracy                           0.70       581\n",
      "       macro avg       0.71      0.70      0.70       581\n",
      "    weighted avg       0.71      0.70      0.70       581\n",
      "\n"
     ]
    },
    {
     "name": "stderr",
     "output_type": "stream",
     "text": [
      "Training Epochs:  94%|█████████▍| 471/500 [00:52<00:02, 12.35it/s]"
     ]
    },
    {
     "name": "stdout",
     "output_type": "stream",
     "text": [
      "Epoch 470/500, Loss: 0.0031\n",
      "Test Accuracy at Epoch 470: 70.40%\n",
      "Classification Report at Epoch 470:\n",
      "                  precision    recall  f1-score   support\n",
      "\n",
      "    infringement       0.67      0.79      0.72       283\n",
      "non_infringement       0.76      0.62      0.68       298\n",
      "\n",
      "        accuracy                           0.70       581\n",
      "       macro avg       0.71      0.71      0.70       581\n",
      "    weighted avg       0.71      0.70      0.70       581\n",
      "\n"
     ]
    },
    {
     "name": "stderr",
     "output_type": "stream",
     "text": [
      "Training Epochs:  96%|█████████▌| 479/500 [00:52<00:01, 14.45it/s]"
     ]
    },
    {
     "name": "stdout",
     "output_type": "stream",
     "text": [
      "Epoch 480/500, Loss: 0.0029\n",
      "Test Accuracy at Epoch 480: 70.05%\n",
      "Classification Report at Epoch 480:\n",
      "                  precision    recall  f1-score   support\n",
      "\n",
      "    infringement       0.66      0.79      0.72       283\n",
      "non_infringement       0.75      0.62      0.68       298\n",
      "\n",
      "        accuracy                           0.70       581\n",
      "       macro avg       0.71      0.70      0.70       581\n",
      "    weighted avg       0.71      0.70      0.70       581\n",
      "\n"
     ]
    },
    {
     "name": "stderr",
     "output_type": "stream",
     "text": [
      "Training Epochs:  98%|█████████▊| 491/500 [00:54<00:00, 11.29it/s]"
     ]
    },
    {
     "name": "stdout",
     "output_type": "stream",
     "text": [
      "Epoch 490/500, Loss: 0.0028\n",
      "Test Accuracy at Epoch 490: 70.05%\n",
      "Classification Report at Epoch 490:\n",
      "                  precision    recall  f1-score   support\n",
      "\n",
      "    infringement       0.66      0.79      0.72       283\n",
      "non_infringement       0.75      0.62      0.68       298\n",
      "\n",
      "        accuracy                           0.70       581\n",
      "       macro avg       0.71      0.70      0.70       581\n",
      "    weighted avg       0.71      0.70      0.70       581\n",
      "\n"
     ]
    },
    {
     "name": "stderr",
     "output_type": "stream",
     "text": [
      "Training Epochs: 100%|██████████| 500/500 [00:55<00:00,  9.07it/s]\n",
      "/tmp/ipykernel_1491620/1033092828.py:47: FutureWarning: You are using `torch.load` with `weights_only=False` (the current default value), which uses the default pickle module implicitly. It is possible to construct malicious pickle data which will execute arbitrary code during unpickling (See https://github.com/pytorch/pytorch/blob/main/SECURITY.md#untrusted-models for more details). In a future release, the default value for `weights_only` will be flipped to `True`. This limits the functions that could be executed during unpickling. Arbitrary objects will no longer be allowed to be loaded via this mode unless they are explicitly allowlisted by the user via `torch.serialization.add_safe_globals`. We recommend you start setting `weights_only=True` for any use case where you don't have full control of the loaded file. Please open an issue on GitHub for any issues related to this experimental feature.\n",
      "  custom_mlp.load_state_dict(torch.load(checkpoint_path))\n"
     ]
    },
    {
     "name": "stdout",
     "output_type": "stream",
     "text": [
      "Epoch 500/500, Loss: 0.0026\n",
      "Test Accuracy at Epoch 500: 70.05%\n",
      "Classification Report at Epoch 500:\n",
      "                  precision    recall  f1-score   support\n",
      "\n",
      "    infringement       0.66      0.79      0.72       283\n",
      "non_infringement       0.75      0.62      0.68       298\n",
      "\n",
      "        accuracy                           0.70       581\n",
      "       macro avg       0.71      0.70      0.70       581\n",
      "    weighted avg       0.71      0.70      0.70       581\n",
      "\n"
     ]
    },
    {
     "data": {
      "image/png": "[encoded data removed]",
      "text/plain": [
       "<Figure size 1000x500 with 1 Axes>"
      ]
     },
     "metadata": {},
     "output_type": "display_data"
    },
    {
     "name": "stdout",
     "output_type": "stream",
     "text": [
      "Final Model Accuracy: 76.08%\n"
     ]
    }
   ],
   "source": [
    "input_dim = X_train.shape[1]\n",
    "hidden_dim = 256 \n",
    "print(f\"Training MLP model with input_dim={input_dim} and hidden_dim={hidden_dim}\")\n",
    "\n",
    "custom_mlp, losses, best_accuracy = train_model(X_train, y_train, X_test, y_test, input_dim, hidden_dim)"
   ]
  },
  {
   "cell_type": "code",
   "execution_count": 10,
   "metadata": {},
   "outputs": [
    {
     "name": "stdout",
     "output_type": "stream",
     "text": [
      "Checkpoint saved to '/home/guangwei/LLM-COPYRIGHT/copyright_newVersion/models/train_input_reference_last_layer_TSNE3_embedding.pth'.\n"
     ]
    }
   ],
   "source": [
    "def save_checkpoint(model, optimizer, epoch, loss, filepath):\n",
    "    checkpoint = {\n",
    "        'epoch': epoch + 1,\n",
    "        'model_state_dict': model.state_dict(),\n",
    "        'optimizer_state_dict': optimizer.state_dict(),\n",
    "        'loss': loss\n",
    "    }\n",
    "    torch.save(checkpoint, filepath)\n",
    "    print(f\"Checkpoint saved to '{filepath}'.\")\n",
    "\n",
    "save_checkpoint(custom_mlp, torch.optim.Adam(custom_mlp.parameters()), len(losses), losses[-1], checkpoint_file)"
   ]
  },
  {
   "cell_type": "code",
   "execution_count": 11,
   "metadata": {},
   "outputs": [
    {
     "name": "stdout",
     "output_type": "stream",
     "text": [
      "                  precision    recall  f1-score   support\n",
      "\n",
      "    infringement       0.77      0.72      0.74       283\n",
      "non_infringement       0.75      0.80      0.77       298\n",
      "\n",
      "        accuracy                           0.76       581\n",
      "       macro avg       0.76      0.76      0.76       581\n",
      "    weighted avg       0.76      0.76      0.76       581\n",
      "\n"
     ]
    },
    {
     "name": "stderr",
     "output_type": "stream",
     "text": [
      "/tmp/ipykernel_1491620/2137335780.py:1: UserWarning: To copy construct from a tensor, it is recommended to use sourceTensor.clone().detach() or sourceTensor.clone().detach().requires_grad_(True), rather than torch.tensor(sourceTensor).\n",
      "  y_pred_final = (torch.sigmoid(torch.tensor(custom_mlp(torch.tensor(X_test, dtype=torch.float32)))) > 0.5).float().numpy()\n"
     ]
    }
   ],
   "source": [
    "y_pred_final = (torch.sigmoid(torch.tensor(custom_mlp(torch.tensor(X_test, dtype=torch.float32)))) > 0.5).float().numpy()\n",
    "print(classification_report(y_test, y_pred_final, target_names=[\"infringement\", \"non_infringement\"]))"
   ]
  }
 ],
 "metadata": {
  "kernelspec": {
   "display_name": "sit",
   "language": "python",
   "name": "python3"
  },
  "language_info": {
   "codemirror_mode": {
    "name": "ipython",
    "version": 3
   },
   "file_extension": ".py",
   "mimetype": "text/x-python",
   "name": "python",
   "nbconvert_exporter": "python",
   "pygments_lexer": "ipython3",
   "version": "3.9.0"
  }
 },
 "nbformat": 4,
 "nbformat_minor": 2
}
