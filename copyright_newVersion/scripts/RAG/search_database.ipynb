{
 "cells": [
  {
   "cell_type": "code",
   "execution_count": 8,
   "metadata": {},
   "outputs": [
    {
     "name": "stdout",
     "output_type": "stream",
     "text": [
      "Most similar reference: ['cell, left to recuperate for a few hours, and then taken out and beaten again. There were also longer periods of recovery. He remembered them dimly, because they were spent chiefly in sleep or stupor. He remembered a cell with a plank bed, a sort of shelf sticking out from']\n"
     ]
    }
   ],
   "source": [
    "import os\n",
    "import sqlite3\n",
    "import numpy as np\n",
    "import faiss\n",
    "import torch\n",
    "from sentence_transformers import SentenceTransformer\n",
    "\n",
    "# Configuration for device\n",
    "os.environ[\"CUDA_VISIBLE_DEVICES\"] = \"4\"\n",
    "device = 'cuda' if torch.cuda.is_available() else 'cpu'\n",
    "\n",
    "# Load pre-trained model\n",
    "model = SentenceTransformer('sentence-transformers/all-roberta-large-v1')\n",
    "model = model.to(device)\n",
    "\n",
    "# Function to load embeddings from the database\n",
    "def load_data_from_db(db_path='reference_db.sqlite'):\n",
    "    conn = sqlite3.connect(db_path)\n",
    "    cursor = conn.cursor()\n",
    "    \n",
    "    # Retrieve input texts, reference texts, and embeddings\n",
    "    cursor.execute(\"SELECT input_text, reference_text, embedding FROM reference_data\")\n",
    "    data = cursor.fetchall()\n",
    "    \n",
    "    input_texts = []\n",
    "    references = []\n",
    "    input_vectors = []\n",
    "    \n",
    "    for inp, ref, emb in data:\n",
    "        input_texts.append(inp)\n",
    "        references.append(ref)\n",
    "        input_vectors.append(np.frombuffer(emb, dtype=np.float32))\n",
    "    \n",
    "    conn.close()\n",
    "    input_vectors = np.vstack(input_vectors)\n",
    "    return input_texts, references, input_vectors\n",
    "\n",
    "# Function to load the FAISS index with vectors\n",
    "def load_faiss_index(dimension, input_vectors):\n",
    "    nlist = 3  # Number of clusters\n",
    "    quantizer = faiss.IndexFlatL2(dimension)\n",
    "    gpu_index = faiss.IndexIVFFlat(quantizer, dimension, nlist, faiss.METRIC_L2)\n",
    "    \n",
    "    # Train and add vectors to the index\n",
    "    gpu_index.train(input_vectors)\n",
    "    gpu_index.add(input_vectors)\n",
    "    return gpu_index\n",
    "\n",
    "# Function to perform the search and retrieve the most similar reference\n",
    "def search_most_similar_reference(input_sentence, top_k=1, db_path='reference_db.sqlite'):\n",
    "    # Load data from the database\n",
    "    input_texts, references, input_vectors = load_data_from_db(db_path)\n",
    "    \n",
    "    # Load the FAISS index\n",
    "    gpu_index = load_faiss_index(dimension=input_vectors.shape[1], input_vectors=input_vectors)\n",
    "    \n",
    "    # Encode input sentence\n",
    "    input_vector = model.encode([input_sentence], convert_to_tensor=True, device=device).cpu().numpy()\n",
    "    \n",
    "    # Perform search on FAISS index\n",
    "    _, indices = gpu_index.search(input_vector, top_k)\n",
    "    \n",
    "    # Retrieve the most similar reference(s)\n",
    "    return [references[i] for i in indices[0]]\n",
    "\n",
    "# Example usage of the search function\n",
    "if __name__ == \"__main__\":\n",
    "    input_sentence = \"of his spine. There were times when it went on and on until the cruel, wicked, unforgivable thing seemed to him not that the guards continued to beat him but that he could not force himself into losing consciousness...\"\n",
    "    most_similar_reference = search_most_similar_reference(input_sentence)\n",
    "    print(\"Most similar reference:\", most_similar_reference)\n"
   ]
  }
 ],
 "metadata": {
  "kernelspec": {
   "display_name": "zdh",
   "language": "python",
   "name": "python3"
  },
  "language_info": {
   "codemirror_mode": {
    "name": "ipython",
    "version": 3
   },
   "file_extension": ".py",
   "mimetype": "text/x-python",
   "name": "python",
   "nbconvert_exporter": "python",
   "pygments_lexer": "ipython3",
   "version": "3.9.20"
  }
 },
 "nbformat": 4,
 "nbformat_minor": 2
}
