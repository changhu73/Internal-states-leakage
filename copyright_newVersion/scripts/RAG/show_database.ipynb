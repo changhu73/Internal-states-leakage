{
 "cells": [
  {
   "cell_type": "code",
   "execution_count": 10,
   "metadata": {},
   "outputs": [
    {
     "name": "stdout",
     "output_type": "stream",
     "text": [
      "Displaying a sample of 5 entries from the database:\n",
      "\n",
      "Entry 1:\n",
      "Input Text: doing so, since he was being fed at what appeared to be regular intervals. He was getting, he judged, three meals in the twenty-four hours; sometimes he wondered dimly whether he was getting them by night or by day. The food was surprisingly good, with meat at every third meal. Once there was even a packet of cigarettes. He had no matches, but the never-speaking guard who brought his food would give him a light. The first time he tried to smoke it made him sick, but he persevered, and spun the packet out for a long time, smoking half a cigarette after each meal. They had given him a white slate with a stump of pencil tied to the corner. At first he made no use of it. Even when he was awake he was completely torpid. Often he would lie from one meal to the next almost without stirring, sometimes asleep, sometimes waking into vague reveries in which it was too much trouble to open his eyes. He had long grown used to\n",
      "Reference Text: sleeping with a strong light on his face. It seemed to make no difference, except that one's dreams were more coherent. He dreamed a great deal all through this time, and they were always happy dreams. He was in the Golden Country, or he was sitting among enormous glorious\n",
      "Embedding (first 5 values): [ 0.0027232   0.05040497 -0.00681147 -0.01373173 -0.05177791]\n",
      "\n",
      "Entry 2:\n",
      "Input Text: fire, blinking at the light. \"He sent the girl away?\" \"He did better than that,\" Tyrion said. \"First he made my brother tell me the truth. The girl was a whore, you see. Jaime arranged the whole affair, the road, the outlaws, all of it. He thought it was time I had a woman. He paid double for a maiden, knowing it would be my first time. \"After Jaime had made his confession, to drive home the lesson, Lord Tywin brought my wife in and gave her to his guards. They paid her fair enough. A silver for each man, how many whores command that high a price? He sat me down in the corner of the barracks and bade me watch, and at the end she had so many silvers the coins were slipping through her fingers and rolling on the floor, she . . .\" The smoke was stinging his eyes. Tyrion cleared his throat and turned away from the fire, to gaze out into darkness\n",
      "Reference Text: . \"Lord Tywin had me go last,\" 404 GEORGE R.R. MARTIN he said in a quiet voice. \"And he gave me a gold coin to pay her, because I was a Lannister, and worth more.\" After a time he heard the noise again, the rasp of steel on stone as\n",
      "Embedding (first 5 values): [-0.03490051  0.0530871   0.00195217 -0.02819009 -0.05387433]\n",
      "\n",
      "Entry 3:\n",
      "Input Text: she was done. \"The real message is in what Sansa does not say. All this about how kindly and gently the Lannisters are treating her . . . I know the sound of a threat, even whispered. They have Sansa hostage, and they mean to keep her.\" \"There's no mention of Arya,\" Robb pointed out, miserable. \"No.\" Catelyn did not want to think what that might mean, not now, not here. \"I had hoped . . . if you still held the Imp, a trade of hostages . . .\" He took Sansa's letter and crumpled it in his fist, and she could tell from the way he did it that it was not the first time. \"Is there word from the Eyrie? I wrote to Aunt Lysa, asking help. Has she called Lord Arryn's banners, do you know? Will the knights of the Vale come join us?\" \"Only one,\" she said, \"the best of them, my uncle .\n",
      "Reference Text: . . but Brynden Blackfish was a Tully first. My sister is not about to stir beyond her Bloody Gate.\" Robb took it hard. \"Mother, what are we going to do? I brought this whole army together, eighteen thousand men, but I don't . . . I'm not certain . . .\" He looked to her\n",
      "Embedding (first 5 values): [ 0.00958441  0.02859078  0.00944705 -0.00618877 -0.01014728]\n",
      "\n",
      "Entry 4:\n",
      "Input Text: Sansa wanted Joffrey desperately, but she did not think she had the courage to do as the queen was asking. \"But he never . . . I don't . . . Your Grace, I wouldn't know what to say . . .\" The queen patted her hand. \"We will tell you what to write, child. The important thing is that you urge Lady Catelyn and your brother to keep the king's peace.\" \"It will go hard for them if they don't,\" said Grand Maester Pycelle. \"By the love you bear them, you must urge them to walk the path of wisdom.\" \"Your lady mother will no doubt fear for you dreadfully,\" the queen said. \"You must tell her that you are well and in our care, that we are treating you gently and seeing to your every want. Bid them to come to King's Landing and pledge their fealty to Joffrey when he takes his throne. If they do that . . . why, then we shall\n",
      "Reference Text: know that there is no taint in your blood, and when you come into the flower of your womanhood, you shall wed the king in the Great Sept of Baelor, before the eyes of gods and men.\" . . . wed the king . . . The words made her breath come faster, yet still Sansa\n",
      "Embedding (first 5 values): [ 0.00602893  0.02556745  0.00524885  0.01300121 -0.06115646]\n",
      "\n",
      "Entry 5:\n",
      "Input Text: Jaremy went on. \"The forest is vast. The wildlings might have fallen on him anywhere. I'd wager these two were the last survivors of his party, on their way back to us . . . but the enemy caught them before they could reach the safety of the Wall. The corpses are still fresh, these men cannot have been dead more than a day \"No, \" Samwell Tarly squeaked. Jon was startled. Sam's nervous, high-pitched voice was the last he would have expected to hear. The fat boy was frightened of the officers, and Ser Jaremy was not known for his patience. \"I did not ask for your views, boy,\" Rykker said coldly. \"Let him speak, ser,\" Jon blurted. Mormont's eyes flicked from Sam to Jon and back again. \"If the lad has something to say, I'll hear him out. Come closer, boy. We can't see you behind those horses.\" Sam edged past Jon and the garrons, sweating\n",
      "Reference Text: profusely. \"My lord, it . . . it can't be a day or . . . look . . . the blood . . .\" \"Yes?\" Mormont growled impatiently. \"Blood, what of it?\" \"He soils his smallclothes at the sight of it,\" Chett shouted out, and the rangers laughed. Sam mopped at the sweat on his brow. \"You . . . you can see\n",
      "Embedding (first 5 values): [-0.00975536  0.01482101 -0.01064935  0.0099772  -0.0679263 ]\n"
     ]
    }
   ],
   "source": [
    "import sqlite3\n",
    "import numpy as np\n",
    "\n",
    "# Function to load embeddings from database and display some of the data\n",
    "def load_and_display_database(db_path='reference_db.sqlite', sample_size=5):\n",
    "    # Connect to the database\n",
    "    conn = sqlite3.connect(db_path)\n",
    "    cursor = conn.cursor()\n",
    "    \n",
    "    # Retrieve all data from the table\n",
    "    cursor.execute('SELECT input_text, reference_text, embedding FROM reference_data')\n",
    "    data = cursor.fetchall()\n",
    "    \n",
    "    # Display a sample of the data\n",
    "    print(f\"Displaying a sample of {sample_size} entries from the database:\")\n",
    "    for i, (input_text, reference_text, embedding_blob) in enumerate(data[:sample_size]):\n",
    "        # Convert the binary embedding back to a NumPy array\n",
    "        embedding = np.frombuffer(embedding_blob, dtype=np.float32)\n",
    "        \n",
    "        # Display the data\n",
    "        print(f\"\\nEntry {i + 1}:\")\n",
    "        print(f\"Input Text: {input_text}\")\n",
    "        print(f\"Reference Text: {reference_text}\")\n",
    "        print(f\"Embedding (first 5 values): {embedding[:5]}\")  # Display the first 5 values of the embedding for brevity\n",
    "\n",
    "    # Close the database connection\n",
    "    conn.close()\n",
    "\n",
    "# Call the function to load and display data from the database\n",
    "load_and_display_database()\n"
   ]
  }
 ],
 "metadata": {
  "kernelspec": {
   "display_name": "zdh",
   "language": "python",
   "name": "python3"
  },
  "language_info": {
   "codemirror_mode": {
    "name": "ipython",
    "version": 3
   },
   "file_extension": ".py",
   "mimetype": "text/x-python",
   "name": "python",
   "nbconvert_exporter": "python",
   "pygments_lexer": "ipython3",
   "version": "3.9.20"
  }
 },
 "nbformat": 4,
 "nbformat_minor": 2
}
