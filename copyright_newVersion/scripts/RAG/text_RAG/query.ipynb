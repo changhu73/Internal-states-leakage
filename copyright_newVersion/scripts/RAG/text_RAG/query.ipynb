{
 "cells": [
  {
   "cell_type": "code",
   "execution_count": 4,
   "metadata": {},
   "outputs": [
    {
     "name": "stdout",
     "output_type": "stream",
     "text": [
      "The most similar reference_text is:\n",
      ". \"Lord Tywin had me go last,\" 404 GEORGE R.R. MARTIN he said in a quiet voice. \"And he gave me a gold coin to pay her, because I was a Lannister, and worth more.\" After a time he heard the noise again, the rasp of steel on stone as\n"
     ]
    }
   ],
   "source": [
    "import sqlite3\n",
    "import faiss\n",
    "import numpy as np\n",
    "from sentence_transformers import SentenceTransformer\n",
    "import torch\n",
    "\n",
    "# Set device for CUDA\n",
    "device = 'cuda' if torch.cuda.is_available() else 'cpu'\n",
    "\n",
    "# Load the Sentence Transformer model\n",
    "model = SentenceTransformer('sentence-transformers/all-roberta-large-v1')\n",
    "model = model.to(device)\n",
    "\n",
    "# Load FAISS index\n",
    "def load_faiss_index(index_path='faiss_index_quantized.index'):\n",
    "    # Load the FAISS index from the disk\n",
    "    index = faiss.read_index(index_path)\n",
    "    return index\n",
    "\n",
    "# Load all documents and embeddings from SQLite database\n",
    "def load_documents_from_db(db_name='rag_db.sqlite'):\n",
    "    conn = sqlite3.connect(db_name)\n",
    "    cursor = conn.cursor()\n",
    "\n",
    "    # Retrieve document ID, text, and embedding\n",
    "    cursor.execute(\"SELECT id, document_text, reference_text FROM documents\")\n",
    "    documents = cursor.fetchall()\n",
    "\n",
    "    conn.close()\n",
    "    return documents\n",
    "\n",
    "# Query function: input a sentence and return the most similar reference\n",
    "def query_most_similar_document(query, top_k=1):\n",
    "    # Load FAISS index\n",
    "    index = load_faiss_index()\n",
    "\n",
    "    # Convert query input to vector (embedding)\n",
    "    query_vector = model.encode([query], convert_to_tensor=True, device=device).cpu().numpy()\n",
    "\n",
    "    # Perform similarity search in FAISS index to find the most similar embeddings\n",
    "    _, indices = index.search(query_vector, top_k)\n",
    "\n",
    "    # Load all documents from the database\n",
    "    documents = load_documents_from_db()\n",
    "\n",
    "    # Retrieve the most similar document(s) from the database based on index result\n",
    "    similar_documents = [documents[i] for i in indices[0]]\n",
    "\n",
    "    # Extract and return the corresponding reference_text(s)\n",
    "    return [doc[2] for doc in similar_documents]\n",
    "\n",
    "# Define the query sentence directly in the code\n",
    "query = \"fire, blinking at the light. \\\"He sent the girl away?\\\" \\\"He did better than that,\\\" Tyrion said. \\\"First he made my brother tell me the truth. The girl was a whore, you see. Jaime arranged the whole affair, the road, the outlaws, all of it. He thought it was time I had a woman. He paid double for a maiden, knowing it would be my first time. \\\"After Jaime had made his confession, to drive home the lesson, Lord Tywin brought my wife in and gave her to his guards. They paid her fair enough. A silver for each man, how many whores command that high a price? He sat me down in the corner of the barracks and bade me watch, and at the end she had so many silvers the coins were slipping through her fingers and rolling on the floor, she . . .\\\" The smoke was stinging his eyes. Tyrion cleared his throat and turned away from the fire, to gaze out into darkness\"\n",
    "\n",
    "# Set top_k to 1 to get the most similar result\n",
    "top_k = 1\n",
    "\n",
    "# Call the query function to find the most similar reference(s)\n",
    "most_similar_references = query_most_similar_document(query, top_k=top_k)\n",
    "\n",
    "# Print the query results\n",
    "if most_similar_references:\n",
    "    print(\"The most similar reference_text is:\")\n",
    "    for ref in most_similar_references:\n",
    "        print(ref)\n",
    "else:\n",
    "    print(\"No similar document found.\")\n"
   ]
  }
 ],
 "metadata": {
  "kernelspec": {
   "display_name": "zdh",
   "language": "python",
   "name": "python3"
  },
  "language_info": {
   "codemirror_mode": {
    "name": "ipython",
    "version": 3
   },
   "file_extension": ".py",
   "mimetype": "text/x-python",
   "name": "python",
   "nbconvert_exporter": "python",
   "pygments_lexer": "ipython3",
   "version": "3.12.3"
  }
 },
 "nbformat": 4,
 "nbformat_minor": 2
}
