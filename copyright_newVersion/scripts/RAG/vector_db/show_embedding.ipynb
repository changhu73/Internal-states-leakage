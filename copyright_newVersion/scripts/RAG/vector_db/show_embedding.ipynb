{
 "cells": [
  {
   "cell_type": "code",
   "execution_count": 1,
   "metadata": {},
   "outputs": [
    {
     "name": "stdout",
     "output_type": "stream",
     "text": [
      "Input embedding (first record): [ 0.0027232   0.05040497 -0.00681147 ... -0.00522392 -0.03220653\n",
      " -0.01436376]\n",
      "Reference embedding (first record): [ 2.0961197e-02  4.4360373e-02 -3.4127858e-02 ...  2.7380051e-02\n",
      "  7.7944482e-05 -6.4846722e-04]\n"
     ]
    }
   ],
   "source": [
    "import sqlite3\n",
    "import numpy as np\n",
    "\n",
    "# Function to retrieve the first record from the database\n",
    "def get_first_record(db_name='rag_db.sqlite'):\n",
    "    \"\"\"\n",
    "    Retrieve the first record (input and reference embeddings) from the database.\n",
    "    \n",
    "    Parameters:\n",
    "    - db_name: The name of the SQLite database to retrieve data from.\n",
    "    \n",
    "    Returns:\n",
    "    - input_embedding: The input embedding as a numpy array.\n",
    "    - reference_embedding: The reference embedding as a numpy array.\n",
    "    \"\"\"\n",
    "    # Connect to the SQLite database\n",
    "    conn = sqlite3.connect(db_name)\n",
    "    cursor = conn.cursor()\n",
    "    \n",
    "    # Retrieve the first record from the documents table\n",
    "    cursor.execute(\"SELECT input_embedding, reference_embedding FROM documents LIMIT 1\")\n",
    "    result = cursor.fetchone()\n",
    "    \n",
    "    if result:\n",
    "        # Convert the BLOB data back to numpy arrays\n",
    "        input_embedding = np.frombuffer(result[0], dtype=np.float32)\n",
    "        reference_embedding = np.frombuffer(result[1], dtype=np.float32)\n",
    "        \n",
    "        # Close the connection\n",
    "        conn.close()\n",
    "        \n",
    "        return input_embedding, reference_embedding\n",
    "    else:\n",
    "        conn.close()\n",
    "        return None, None  # Return None if no records are found\n",
    "\n",
    "# Example usage\n",
    "input_embedding, reference_embedding = get_first_record()\n",
    "\n",
    "# Print the first record (embeddings)\n",
    "if input_embedding is not None and reference_embedding is not None:\n",
    "    print(\"Input embedding (first record):\", input_embedding)\n",
    "    print(\"Reference embedding (first record):\", reference_embedding)\n",
    "else:\n",
    "    print(\"No records found in the database.\")\n"
   ]
  }
 ],
 "metadata": {
  "kernelspec": {
   "display_name": "zdh",
   "language": "python",
   "name": "python3"
  },
  "language_info": {
   "codemirror_mode": {
    "name": "ipython",
    "version": 3
   },
   "file_extension": ".py",
   "mimetype": "text/x-python",
   "name": "python",
   "nbconvert_exporter": "python",
   "pygments_lexer": "ipython3",
   "version": "3.9.20"
  }
 },
 "nbformat": 4,
 "nbformat_minor": 2
}
