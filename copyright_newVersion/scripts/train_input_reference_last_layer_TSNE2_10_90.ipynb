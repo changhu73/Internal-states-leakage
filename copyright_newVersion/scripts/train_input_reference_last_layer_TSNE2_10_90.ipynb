{
 "cells": [
  {
   "cell_type": "code",
   "execution_count": 15,
   "metadata": {},
   "outputs": [],
   "source": [
    "# import packages & variables\n",
    "import argparse\n",
    "import torch\n",
    "import torch.nn as nn\n",
    "import numpy as np\n",
    "from sklearn.metrics import accuracy_score, classification_report\n",
    "import matplotlib.pyplot as plt\n",
    "from tqdm import tqdm\n",
    "from transformers import AutoTokenizer, AutoModelForCausalLM, AutoModel\n",
    "import json\n",
    "\n",
    "# Parameters\n",
    "model_name = 'meta-llama/Meta-Llama-3.1-8B'\n",
    "non_infringement_file = '/home/guangwei/LLM-COPYRIGHT/copyright_newVersion/test_division/extra_10.non_infringement.json'\n",
    "infringement_file = '/home/guangwei/LLM-COPYRIGHT/copyright_newVersion/test_division/extra_10.infringement.json'\n",
    "checkpoint_file = '/home/guangwei/LLM-COPYRIGHT/copyright_newVersion/models/train_input_reference_last_layer_TSNE2_10_90.pth'"
   ]
  },
  {
   "cell_type": "code",
   "execution_count": 16,
   "metadata": {},
   "outputs": [],
   "source": [
    "# Define CustumMLP for internal states train\n",
    "class CustomMLP(nn.Module):\n",
    "    def __init__(self, input_dim, hidden_dim):\n",
    "        super(CustomMLP, self).__init__()\n",
    "        self.down = nn.Linear(input_dim, hidden_dim)\n",
    "        self.gate = nn.Linear(input_dim, hidden_dim)\n",
    "        self.up = nn.Linear(hidden_dim, 1)\n",
    "        self.activation = nn.SiLU()\n",
    "\n",
    "    def forward(self, x):\n",
    "        down_output = self.down(x)\n",
    "        gate_output = self.gate(x)\n",
    "        gated_output = down_output * self.activation(gate_output)\n",
    "        return self.up(gated_output)"
   ]
  },
  {
   "cell_type": "code",
   "execution_count": 17,
   "metadata": {},
   "outputs": [],
   "source": [
    "# Extract hidden states(TSNE2)/reference embeddings\n",
    "from sklearn.manifold import TSNE\n",
    "def extract_hidden_states(texts, model, tokenizer, apply_tsne=True, n_components=2, batch_size=4):\n",
    "    hidden_states = []\n",
    "    for i in tqdm(range(0, len(texts), batch_size), desc=\"Processing data batches\"):\n",
    "        batch_texts = texts[i:i + batch_size]\n",
    "        inputs = tokenizer(batch_texts, return_tensors=\"pt\", padding=True, truncation=True)\n",
    "        with torch.no_grad():\n",
    "            outputs = model(**inputs)\n",
    "        hidden_state = outputs.hidden_states[-1].mean(dim=1).cpu().numpy()\n",
    "        hidden_states.append(hidden_state)\n",
    "\n",
    "    hidden_states = np.vstack(hidden_states)\n",
    "    if apply_tsne:\n",
    "        tsne = TSNE(n_components=n_components, random_state=42)\n",
    "        hidden_states = tsne.fit_transform(hidden_states)\n",
    "        print(f\"Hidden states reduced to {n_components} dimensions using t-SNE.\")\n",
    "        \n",
    "    return hidden_states\n",
    "\n",
    "def extract_reference_embeddings(references, model, tokenizer, batch_size=4):\n",
    "    embeddings = []\n",
    "    for i in tqdm(range(0, len(references), batch_size), desc=\"Processing references\"):\n",
    "        batch_references = references[i:i + batch_size]\n",
    "        inputs = tokenizer(batch_references, return_tensors=\"pt\", padding=True, truncation=True)\n",
    "        with torch.no_grad():\n",
    "            outputs = model(**inputs)\n",
    "        embeddings.append(outputs.pooler_output.cpu().numpy())\n",
    "    return np.vstack(embeddings)"
   ]
  },
  {
   "cell_type": "code",
   "execution_count": 18,
   "metadata": {},
   "outputs": [],
   "source": [
    "# lode data for infringement & non infringement\n",
    "def load_data(non_infringement_file, infringement_file):\n",
    "    with open(non_infringement_file, 'r', encoding='utf-8') as file:\n",
    "        non_infringement_json_data = json.load(file)\n",
    "\n",
    "    non_infringement_outputs = [entry['input'] for entry in non_infringement_json_data]\n",
    "    non_infringement_references = [entry['reference'] for entry in non_infringement_json_data]\n",
    "    y_non_infringement = [1] * len(non_infringement_outputs)\n",
    "\n",
    "    with open(infringement_file, 'r', encoding='utf-8') as file:\n",
    "        infringement_json_data = json.load(file)\n",
    "\n",
    "    infringement_outputs = [entry['input'] for entry in infringement_json_data]\n",
    "    infringement_references = [entry['reference'] for entry in infringement_json_data]\n",
    "    y_infringement = [0] * len(infringement_outputs)\n",
    "\n",
    "    return non_infringement_outputs, non_infringement_references, y_non_infringement, infringement_outputs, infringement_references, y_infringement"
   ]
  },
  {
   "cell_type": "code",
   "execution_count": 19,
   "metadata": {},
   "outputs": [],
   "source": [
    "# Train for best model\n",
    "def train_model(X_train, y_train, X_test, y_test, input_dim, hidden_dim, epochs=500, lr=0.001, checkpoint_path=checkpoint_file):\n",
    "    custom_mlp = CustomMLP(input_dim, hidden_dim)\n",
    "    criterion = nn.BCEWithLogitsLoss()\n",
    "    optimizer = torch.optim.Adam(custom_mlp.parameters(), lr=lr)\n",
    "\n",
    "    X_train_tensor = torch.tensor(X_train, dtype=torch.float32)\n",
    "    y_train_tensor = torch.tensor(y_train, dtype=torch.float32).unsqueeze(1)\n",
    "\n",
    "    best_accuracy = -float('inf')\n",
    "    best_model_state = None\n",
    "    best_epoch = 0\n",
    "    losses = []\n",
    "\n",
    "    for epoch in tqdm(range(epochs), desc=\"Training Epochs\"):\n",
    "        custom_mlp.train()\n",
    "        optimizer.zero_grad()\n",
    "        outputs = custom_mlp(X_train_tensor)\n",
    "        loss = criterion(outputs, y_train_tensor)\n",
    "        loss.backward()\n",
    "        optimizer.step()\n",
    "        losses.append(loss.item())\n",
    "\n",
    "        if (epoch + 1) % 10 == 0:\n",
    "            print(f\"Epoch {epoch + 1}/{epochs}, Loss: {loss.item():.4f}\")\n",
    "            \n",
    "            custom_mlp.eval()\n",
    "            X_test_tensor = torch.tensor(X_test, dtype=torch.float32)\n",
    "            with torch.no_grad():\n",
    "                y_pred_logits = custom_mlp(X_test_tensor)\n",
    "                y_pred = (torch.sigmoid(y_pred_logits) > 0.5).float().numpy()\n",
    "            \n",
    "            accuracy = accuracy_score(y_test, y_pred)\n",
    "            print(f\"Test Accuracy at Epoch {epoch + 1}: {accuracy * 100:.2f}%\")\n",
    "            \n",
    "            report = classification_report(y_test, y_pred, target_names=[\"infringement\", \"non_infringement\"])\n",
    "            print(f\"Classification Report at Epoch {epoch + 1}:\\n{report}\")\n",
    "\n",
    "            if accuracy > best_accuracy:\n",
    "                best_accuracy = accuracy\n",
    "                best_model_state = custom_mlp.state_dict()\n",
    "                best_epoch = epoch + 1\n",
    "                torch.save(best_model_state, checkpoint_path)\n",
    "                print(f\"New best model saved with accuracy {best_accuracy * 100:.2f}% at epoch {best_epoch}\")\n",
    "                print(f\"Best Classification Report at Epoch {best_epoch}:\\n{report}\")\n",
    "\n",
    "    custom_mlp.load_state_dict(torch.load(checkpoint_path))\n",
    "\n",
    "    plt.figure(figsize=(10, 5))\n",
    "    plt.plot(losses, label='Training Loss')\n",
    "    plt.xlabel('Epoch')\n",
    "    plt.ylabel('Loss')\n",
    "    plt.title('Training Loss Curve')\n",
    "    plt.legend()\n",
    "    plt.show()\n",
    "\n",
    "    print(f\"Best Model was saved at epoch {best_epoch} with accuracy {best_accuracy * 100:.2f}%\")\n",
    "    print(f\"Best Classification Report {report}\")\n",
    "    return custom_mlp, losses, best_accuracy"
   ]
  },
  {
   "cell_type": "code",
   "execution_count": 20,
   "metadata": {},
   "outputs": [],
   "source": [
    "# def main for reference embedding/train\n",
    "def main(model_name, non_infringement_file, infringement_file, checkpoint_path):\n",
    "    tokenizer = AutoTokenizer.from_pretrained(model_name, model_max_length=512)\n",
    "    model = AutoModelForCausalLM.from_pretrained(model_name, output_hidden_states=True)\n",
    "    tokenizer.pad_token = tokenizer.eos_token\n",
    "    bert_tokenizer = AutoTokenizer.from_pretrained('google-bert/bert-base-uncased')\n",
    "    bert_model = AutoModel.from_pretrained('google-bert/bert-base-uncased')\n",
    "    bert_tokenizer.pad_token = tokenizer.eos_token\n",
    "\n",
    "    non_infringement_outputs, non_infringement_references, y_non_infringement, infringement_outputs, infringement_references, y_infringement = load_data(\n",
    "        non_infringement_file, infringement_file\n",
    "    )\n",
    "\n",
    "    y_non_infringement = np.array(y_non_infringement)\n",
    "    y_infringement = np.array(y_infringement)\n",
    "\n",
    "    print(\"Extracting hidden states for non_infringement texts...\")\n",
    "    X_non_infringement = extract_hidden_states(non_infringement_outputs, model, tokenizer)\n",
    "    print(\"Extracting reference embeddings for non_infringement texts...\")\n",
    "    reference_embeddings_non_infringement = extract_reference_embeddings(non_infringement_references, bert_model, bert_tokenizer)\n",
    "    X_non_infringement_combined = np.hstack([X_non_infringement, reference_embeddings_non_infringement])\n",
    "\n",
    "    print(\"Extracting hidden states for infringement texts...\")\n",
    "    X_infringement = extract_hidden_states(infringement_outputs, model, tokenizer)\n",
    "    print(\"Extracting reference embeddings for infringement texts...\")\n",
    "    reference_embeddings_infringement = extract_reference_embeddings(infringement_references, bert_model, bert_tokenizer)\n",
    "    X_infringement_combined = np.hstack([X_infringement, reference_embeddings_infringement])\n",
    "\n",
    "    split_index_non_infringement = int(0.8 * len(X_non_infringement_combined))\n",
    "    X_non_infringement_train = X_non_infringement_combined[:split_index_non_infringement]\n",
    "    X_non_infringement_test = X_non_infringement_combined[split_index_non_infringement:]\n",
    "    y_non_infringement_train = y_non_infringement[:split_index_non_infringement]\n",
    "    y_non_infringement_test = y_non_infringement[split_index_non_infringement:]\n",
    "\n",
    "    split_index_infringement = int(0.8 * len(X_infringement_combined))\n",
    "    X_infringement_train = X_infringement_combined[:split_index_infringement]\n",
    "    X_infringement_test = X_infringement_combined[split_index_infringement:]\n",
    "    y_infringement_train = y_infringement[:split_index_infringement]\n",
    "    y_infringement_test = y_infringement[split_index_infringement:]\n",
    "\n",
    "    X_train = np.vstack((X_non_infringement_train, X_infringement_train))\n",
    "    X_test = np.vstack((X_non_infringement_test, X_infringement_test))\n",
    "    y_train = np.concatenate((y_non_infringement_train, y_infringement_train))\n",
    "    y_test = np.concatenate((y_non_infringement_test, y_infringement_test))\n",
    "\n",
    "    input_dim = X_train.shape[1]\n",
    "    hidden_dim = 256 \n",
    "    print(f\"Training MLP model with input_dim={input_dim} and hidden_dim={hidden_dim}\")\n",
    "\n",
    "    best_model, losses, best_accuracy = train_model(X_train, y_train, X_test, y_test, input_dim, hidden_dim)\n"
   ]
  },
  {
   "cell_type": "code",
   "execution_count": 21,
   "metadata": {},
   "outputs": [
    {
     "name": "stderr",
     "output_type": "stream",
     "text": [
      "Loading checkpoint shards: 100%|██████████| 4/4 [00:06<00:00,  1.58s/it]\n"
     ]
    },
    {
     "name": "stdout",
     "output_type": "stream",
     "text": [
      "Extracting hidden states for non_infringement texts...\n"
     ]
    },
    {
     "name": "stderr",
     "output_type": "stream",
     "text": [
      "Processing data batches: 100%|██████████| 65/65 [12:46<00:00, 11.79s/it]\n"
     ]
    },
    {
     "name": "stdout",
     "output_type": "stream",
     "text": [
      "Hidden states reduced to 2 dimensions using t-SNE.\n",
      "Extracting reference embeddings for non_infringement texts...\n"
     ]
    },
    {
     "name": "stderr",
     "output_type": "stream",
     "text": [
      "Processing references: 100%|██████████| 65/65 [00:29<00:00,  2.18it/s]\n"
     ]
    },
    {
     "name": "stdout",
     "output_type": "stream",
     "text": [
      "Extracting hidden states for infringement texts...\n"
     ]
    },
    {
     "name": "stderr",
     "output_type": "stream",
     "text": [
      "Processing data batches: 100%|██████████| 81/81 [40:43<00:00, 30.17s/it] \n"
     ]
    },
    {
     "name": "stdout",
     "output_type": "stream",
     "text": [
      "Hidden states reduced to 2 dimensions using t-SNE.\n",
      "Extracting reference embeddings for infringement texts...\n"
     ]
    },
    {
     "name": "stderr",
     "output_type": "stream",
     "text": [
      "Processing references: 100%|██████████| 81/81 [07:55<00:00,  5.87s/it]\n"
     ]
    },
    {
     "name": "stdout",
     "output_type": "stream",
     "text": [
      "Training MLP model with input_dim=770 and hidden_dim=256\n"
     ]
    },
    {
     "name": "stderr",
     "output_type": "stream",
     "text": [
      "Training Epochs:   2%|▏         | 10/500 [00:03<03:12,  2.54it/s]"
     ]
    },
    {
     "name": "stdout",
     "output_type": "stream",
     "text": [
      "Epoch 10/500, Loss: 0.5407\n",
      "Test Accuracy at Epoch 10: 70.09%\n",
      "Classification Report at Epoch 10:\n",
      "                  precision    recall  f1-score   support\n",
      "\n",
      "    infringement       0.67      0.89      0.77        65\n",
      "non_infringement       0.77      0.46      0.58        52\n",
      "\n",
      "        accuracy                           0.70       117\n",
      "       macro avg       0.72      0.68      0.67       117\n",
      "    weighted avg       0.72      0.70      0.68       117\n",
      "\n",
      "New best model saved with accuracy 70.09% at epoch 10\n",
      "Best Classification Report at Epoch 10:\n",
      "                  precision    recall  f1-score   support\n",
      "\n",
      "    infringement       0.67      0.89      0.77        65\n",
      "non_infringement       0.77      0.46      0.58        52\n",
      "\n",
      "        accuracy                           0.70       117\n",
      "       macro avg       0.72      0.68      0.67       117\n",
      "    weighted avg       0.72      0.70      0.68       117\n",
      "\n"
     ]
    },
    {
     "name": "stderr",
     "output_type": "stream",
     "text": [
      "Training Epochs:   4%|▍         | 20/500 [00:07<03:07,  2.56it/s]"
     ]
    },
    {
     "name": "stdout",
     "output_type": "stream",
     "text": [
      "Epoch 20/500, Loss: 0.4042\n",
      "Test Accuracy at Epoch 20: 51.28%\n",
      "Classification Report at Epoch 20:\n",
      "                  precision    recall  f1-score   support\n",
      "\n",
      "    infringement       0.57      0.49      0.53        65\n",
      "non_infringement       0.46      0.54      0.50        52\n",
      "\n",
      "        accuracy                           0.51       117\n",
      "       macro avg       0.52      0.52      0.51       117\n",
      "    weighted avg       0.52      0.51      0.51       117\n",
      "\n"
     ]
    },
    {
     "name": "stderr",
     "output_type": "stream",
     "text": [
      "Training Epochs:   6%|▌         | 30/500 [00:11<03:03,  2.56it/s]"
     ]
    },
    {
     "name": "stdout",
     "output_type": "stream",
     "text": [
      "Epoch 30/500, Loss: 0.2876\n",
      "Test Accuracy at Epoch 30: 58.12%\n",
      "Classification Report at Epoch 30:\n",
      "                  precision    recall  f1-score   support\n",
      "\n",
      "    infringement       0.65      0.52      0.58        65\n",
      "non_infringement       0.52      0.65      0.58        52\n",
      "\n",
      "        accuracy                           0.58       117\n",
      "       macro avg       0.59      0.59      0.58       117\n",
      "    weighted avg       0.60      0.58      0.58       117\n",
      "\n"
     ]
    },
    {
     "name": "stderr",
     "output_type": "stream",
     "text": [
      "Training Epochs:   8%|▊         | 40/500 [00:15<02:59,  2.57it/s]"
     ]
    },
    {
     "name": "stdout",
     "output_type": "stream",
     "text": [
      "Epoch 40/500, Loss: 0.1800\n",
      "Test Accuracy at Epoch 40: 66.67%\n",
      "Classification Report at Epoch 40:\n",
      "                  precision    recall  f1-score   support\n",
      "\n",
      "    infringement       0.78      0.55      0.65        65\n",
      "non_infringement       0.59      0.81      0.68        52\n",
      "\n",
      "        accuracy                           0.67       117\n",
      "       macro avg       0.69      0.68      0.67       117\n",
      "    weighted avg       0.70      0.67      0.66       117\n",
      "\n"
     ]
    },
    {
     "name": "stderr",
     "output_type": "stream",
     "text": [
      "Training Epochs:  10%|█         | 50/500 [00:19<02:55,  2.57it/s]"
     ]
    },
    {
     "name": "stdout",
     "output_type": "stream",
     "text": [
      "Epoch 50/500, Loss: 0.1114\n",
      "Test Accuracy at Epoch 50: 70.09%\n",
      "Classification Report at Epoch 50:\n",
      "                  precision    recall  f1-score   support\n",
      "\n",
      "    infringement       0.83      0.58      0.68        65\n",
      "non_infringement       0.62      0.85      0.72        52\n",
      "\n",
      "        accuracy                           0.70       117\n",
      "       macro avg       0.72      0.72      0.70       117\n",
      "    weighted avg       0.73      0.70      0.70       117\n",
      "\n"
     ]
    },
    {
     "name": "stderr",
     "output_type": "stream",
     "text": [
      "Training Epochs:  12%|█▏        | 60/500 [00:22<02:52,  2.56it/s]"
     ]
    },
    {
     "name": "stdout",
     "output_type": "stream",
     "text": [
      "Epoch 60/500, Loss: 0.0697\n",
      "Test Accuracy at Epoch 60: 73.50%\n",
      "Classification Report at Epoch 60:\n",
      "                  precision    recall  f1-score   support\n",
      "\n",
      "    infringement       0.90      0.58      0.71        65\n",
      "non_infringement       0.64      0.92      0.76        52\n",
      "\n",
      "        accuracy                           0.74       117\n",
      "       macro avg       0.77      0.75      0.73       117\n",
      "    weighted avg       0.79      0.74      0.73       117\n",
      "\n",
      "New best model saved with accuracy 73.50% at epoch 60\n",
      "Best Classification Report at Epoch 60:\n",
      "                  precision    recall  f1-score   support\n",
      "\n",
      "    infringement       0.90      0.58      0.71        65\n",
      "non_infringement       0.64      0.92      0.76        52\n",
      "\n",
      "        accuracy                           0.74       117\n",
      "       macro avg       0.77      0.75      0.73       117\n",
      "    weighted avg       0.79      0.74      0.73       117\n",
      "\n"
     ]
    },
    {
     "name": "stderr",
     "output_type": "stream",
     "text": [
      "Training Epochs:  14%|█▍        | 70/500 [00:26<03:03,  2.34it/s]"
     ]
    },
    {
     "name": "stdout",
     "output_type": "stream",
     "text": [
      "Epoch 70/500, Loss: 0.0458\n",
      "Test Accuracy at Epoch 70: 73.50%\n",
      "Classification Report at Epoch 70:\n",
      "                  precision    recall  f1-score   support\n",
      "\n",
      "    infringement       0.90      0.58      0.71        65\n",
      "non_infringement       0.64      0.92      0.76        52\n",
      "\n",
      "        accuracy                           0.74       117\n",
      "       macro avg       0.77      0.75      0.73       117\n",
      "    weighted avg       0.79      0.74      0.73       117\n",
      "\n"
     ]
    },
    {
     "name": "stderr",
     "output_type": "stream",
     "text": [
      "Training Epochs:  16%|█▌        | 80/500 [00:31<03:07,  2.24it/s]"
     ]
    },
    {
     "name": "stdout",
     "output_type": "stream",
     "text": [
      "Epoch 80/500, Loss: 0.0298\n",
      "Test Accuracy at Epoch 80: 72.65%\n",
      "Classification Report at Epoch 80:\n",
      "                  precision    recall  f1-score   support\n",
      "\n",
      "    infringement       0.88      0.58      0.70        65\n",
      "non_infringement       0.64      0.90      0.75        52\n",
      "\n",
      "        accuracy                           0.73       117\n",
      "       macro avg       0.76      0.74      0.72       117\n",
      "    weighted avg       0.77      0.73      0.72       117\n",
      "\n"
     ]
    },
    {
     "name": "stderr",
     "output_type": "stream",
     "text": [
      "Training Epochs:  18%|█▊        | 90/500 [00:35<03:00,  2.27it/s]"
     ]
    },
    {
     "name": "stdout",
     "output_type": "stream",
     "text": [
      "Epoch 90/500, Loss: 0.0207\n",
      "Test Accuracy at Epoch 90: 73.50%\n",
      "Classification Report at Epoch 90:\n",
      "                  precision    recall  f1-score   support\n",
      "\n",
      "    infringement       0.90      0.58      0.71        65\n",
      "non_infringement       0.64      0.92      0.76        52\n",
      "\n",
      "        accuracy                           0.74       117\n",
      "       macro avg       0.77      0.75      0.73       117\n",
      "    weighted avg       0.79      0.74      0.73       117\n",
      "\n"
     ]
    },
    {
     "name": "stderr",
     "output_type": "stream",
     "text": [
      "Training Epochs:  20%|██        | 100/500 [00:39<02:57,  2.26it/s]"
     ]
    },
    {
     "name": "stdout",
     "output_type": "stream",
     "text": [
      "Epoch 100/500, Loss: 0.0140\n",
      "Test Accuracy at Epoch 100: 71.79%\n",
      "Classification Report at Epoch 100:\n",
      "                  precision    recall  f1-score   support\n",
      "\n",
      "    infringement       0.90      0.55      0.69        65\n",
      "non_infringement       0.62      0.92      0.74        52\n",
      "\n",
      "        accuracy                           0.72       117\n",
      "       macro avg       0.76      0.74      0.71       117\n",
      "    weighted avg       0.78      0.72      0.71       117\n",
      "\n"
     ]
    },
    {
     "name": "stderr",
     "output_type": "stream",
     "text": [
      "Training Epochs:  22%|██▏       | 110/500 [00:44<02:51,  2.27it/s]"
     ]
    },
    {
     "name": "stdout",
     "output_type": "stream",
     "text": [
      "Epoch 110/500, Loss: 0.0091\n",
      "Test Accuracy at Epoch 110: 71.79%\n",
      "Classification Report at Epoch 110:\n",
      "                  precision    recall  f1-score   support\n",
      "\n",
      "    infringement       0.90      0.55      0.69        65\n",
      "non_infringement       0.62      0.92      0.74        52\n",
      "\n",
      "        accuracy                           0.72       117\n",
      "       macro avg       0.76      0.74      0.71       117\n",
      "    weighted avg       0.78      0.72      0.71       117\n",
      "\n"
     ]
    },
    {
     "name": "stderr",
     "output_type": "stream",
     "text": [
      "Training Epochs:  24%|██▍       | 120/500 [00:49<03:05,  2.05it/s]"
     ]
    },
    {
     "name": "stdout",
     "output_type": "stream",
     "text": [
      "Epoch 120/500, Loss: 0.0059\n",
      "Test Accuracy at Epoch 120: 71.79%\n",
      "Classification Report at Epoch 120:\n",
      "                  precision    recall  f1-score   support\n",
      "\n",
      "    infringement       0.90      0.55      0.69        65\n",
      "non_infringement       0.62      0.92      0.74        52\n",
      "\n",
      "        accuracy                           0.72       117\n",
      "       macro avg       0.76      0.74      0.71       117\n",
      "    weighted avg       0.78      0.72      0.71       117\n",
      "\n"
     ]
    },
    {
     "name": "stderr",
     "output_type": "stream",
     "text": [
      "Training Epochs:  26%|██▌       | 130/500 [00:54<03:02,  2.03it/s]"
     ]
    },
    {
     "name": "stdout",
     "output_type": "stream",
     "text": [
      "Epoch 130/500, Loss: 0.0040\n",
      "Test Accuracy at Epoch 130: 70.94%\n",
      "Classification Report at Epoch 130:\n",
      "                  precision    recall  f1-score   support\n",
      "\n",
      "    infringement       0.88      0.55      0.68        65\n",
      "non_infringement       0.62      0.90      0.73        52\n",
      "\n",
      "        accuracy                           0.71       117\n",
      "       macro avg       0.75      0.73      0.71       117\n",
      "    weighted avg       0.76      0.71      0.70       117\n",
      "\n"
     ]
    },
    {
     "name": "stderr",
     "output_type": "stream",
     "text": [
      "Training Epochs:  28%|██▊       | 140/500 [00:58<02:51,  2.10it/s]"
     ]
    },
    {
     "name": "stdout",
     "output_type": "stream",
     "text": [
      "Epoch 140/500, Loss: 0.0028\n",
      "Test Accuracy at Epoch 140: 71.79%\n",
      "Classification Report at Epoch 140:\n",
      "                  precision    recall  f1-score   support\n",
      "\n",
      "    infringement       0.88      0.57      0.69        65\n",
      "non_infringement       0.63      0.90      0.74        52\n",
      "\n",
      "        accuracy                           0.72       117\n",
      "       macro avg       0.75      0.74      0.72       117\n",
      "    weighted avg       0.77      0.72      0.71       117\n",
      "\n"
     ]
    },
    {
     "name": "stderr",
     "output_type": "stream",
     "text": [
      "Training Epochs:  30%|███       | 150/500 [01:03<02:48,  2.08it/s]"
     ]
    },
    {
     "name": "stdout",
     "output_type": "stream",
     "text": [
      "Epoch 150/500, Loss: 0.0021\n",
      "Test Accuracy at Epoch 150: 72.65%\n",
      "Classification Report at Epoch 150:\n",
      "                  precision    recall  f1-score   support\n",
      "\n",
      "    infringement       0.88      0.58      0.70        65\n",
      "non_infringement       0.64      0.90      0.75        52\n",
      "\n",
      "        accuracy                           0.73       117\n",
      "       macro avg       0.76      0.74      0.72       117\n",
      "    weighted avg       0.77      0.73      0.72       117\n",
      "\n"
     ]
    },
    {
     "name": "stderr",
     "output_type": "stream",
     "text": [
      "Training Epochs:  32%|███▏      | 160/500 [01:08<02:45,  2.05it/s]"
     ]
    },
    {
     "name": "stdout",
     "output_type": "stream",
     "text": [
      "Epoch 160/500, Loss: 0.0017\n",
      "Test Accuracy at Epoch 160: 72.65%\n",
      "Classification Report at Epoch 160:\n",
      "                  precision    recall  f1-score   support\n",
      "\n",
      "    infringement       0.88      0.58      0.70        65\n",
      "non_infringement       0.64      0.90      0.75        52\n",
      "\n",
      "        accuracy                           0.73       117\n",
      "       macro avg       0.76      0.74      0.72       117\n",
      "    weighted avg       0.77      0.73      0.72       117\n",
      "\n"
     ]
    },
    {
     "name": "stderr",
     "output_type": "stream",
     "text": [
      "Training Epochs:  34%|███▍      | 170/500 [01:12<02:39,  2.07it/s]"
     ]
    },
    {
     "name": "stdout",
     "output_type": "stream",
     "text": [
      "Epoch 170/500, Loss: 0.0013\n",
      "Test Accuracy at Epoch 170: 72.65%\n",
      "Classification Report at Epoch 170:\n",
      "                  precision    recall  f1-score   support\n",
      "\n",
      "    infringement       0.88      0.58      0.70        65\n",
      "non_infringement       0.64      0.90      0.75        52\n",
      "\n",
      "        accuracy                           0.73       117\n",
      "       macro avg       0.76      0.74      0.72       117\n",
      "    weighted avg       0.77      0.73      0.72       117\n",
      "\n"
     ]
    },
    {
     "name": "stderr",
     "output_type": "stream",
     "text": [
      "Training Epochs:  36%|███▌      | 180/500 [01:17<02:31,  2.12it/s]"
     ]
    },
    {
     "name": "stdout",
     "output_type": "stream",
     "text": [
      "Epoch 180/500, Loss: 0.0011\n",
      "Test Accuracy at Epoch 180: 72.65%\n",
      "Classification Report at Epoch 180:\n",
      "                  precision    recall  f1-score   support\n",
      "\n",
      "    infringement       0.88      0.58      0.70        65\n",
      "non_infringement       0.64      0.90      0.75        52\n",
      "\n",
      "        accuracy                           0.73       117\n",
      "       macro avg       0.76      0.74      0.72       117\n",
      "    weighted avg       0.77      0.73      0.72       117\n",
      "\n"
     ]
    },
    {
     "name": "stderr",
     "output_type": "stream",
     "text": [
      "Training Epochs:  38%|███▊      | 190/500 [01:22<02:29,  2.07it/s]"
     ]
    },
    {
     "name": "stdout",
     "output_type": "stream",
     "text": [
      "Epoch 190/500, Loss: 0.0009\n",
      "Test Accuracy at Epoch 190: 72.65%\n",
      "Classification Report at Epoch 190:\n",
      "                  precision    recall  f1-score   support\n",
      "\n",
      "    infringement       0.88      0.58      0.70        65\n",
      "non_infringement       0.64      0.90      0.75        52\n",
      "\n",
      "        accuracy                           0.73       117\n",
      "       macro avg       0.76      0.74      0.72       117\n",
      "    weighted avg       0.77      0.73      0.72       117\n",
      "\n"
     ]
    },
    {
     "name": "stderr",
     "output_type": "stream",
     "text": [
      "Training Epochs:  40%|████      | 200/500 [01:27<02:48,  1.78it/s]"
     ]
    },
    {
     "name": "stdout",
     "output_type": "stream",
     "text": [
      "Epoch 200/500, Loss: 0.0008\n",
      "Test Accuracy at Epoch 200: 72.65%\n",
      "Classification Report at Epoch 200:\n",
      "                  precision    recall  f1-score   support\n",
      "\n",
      "    infringement       0.88      0.58      0.70        65\n",
      "non_infringement       0.64      0.90      0.75        52\n",
      "\n",
      "        accuracy                           0.73       117\n",
      "       macro avg       0.76      0.74      0.72       117\n",
      "    weighted avg       0.77      0.73      0.72       117\n",
      "\n"
     ]
    },
    {
     "name": "stderr",
     "output_type": "stream",
     "text": [
      "Training Epochs:  42%|████▏     | 210/500 [01:32<02:22,  2.03it/s]"
     ]
    },
    {
     "name": "stdout",
     "output_type": "stream",
     "text": [
      "Epoch 210/500, Loss: 0.0006\n",
      "Test Accuracy at Epoch 210: 72.65%\n",
      "Classification Report at Epoch 210:\n",
      "                  precision    recall  f1-score   support\n",
      "\n",
      "    infringement       0.88      0.58      0.70        65\n",
      "non_infringement       0.64      0.90      0.75        52\n",
      "\n",
      "        accuracy                           0.73       117\n",
      "       macro avg       0.76      0.74      0.72       117\n",
      "    weighted avg       0.77      0.73      0.72       117\n",
      "\n"
     ]
    },
    {
     "name": "stderr",
     "output_type": "stream",
     "text": [
      "Training Epochs:  44%|████▍     | 220/500 [01:37<02:12,  2.11it/s]"
     ]
    },
    {
     "name": "stdout",
     "output_type": "stream",
     "text": [
      "Epoch 220/500, Loss: 0.0006\n",
      "Test Accuracy at Epoch 220: 72.65%\n",
      "Classification Report at Epoch 220:\n",
      "                  precision    recall  f1-score   support\n",
      "\n",
      "    infringement       0.88      0.58      0.70        65\n",
      "non_infringement       0.64      0.90      0.75        52\n",
      "\n",
      "        accuracy                           0.73       117\n",
      "       macro avg       0.76      0.74      0.72       117\n",
      "    weighted avg       0.77      0.73      0.72       117\n",
      "\n"
     ]
    },
    {
     "name": "stderr",
     "output_type": "stream",
     "text": [
      "Training Epochs:  46%|████▌     | 230/500 [01:41<02:10,  2.07it/s]"
     ]
    },
    {
     "name": "stdout",
     "output_type": "stream",
     "text": [
      "Epoch 230/500, Loss: 0.0005\n",
      "Test Accuracy at Epoch 230: 72.65%\n",
      "Classification Report at Epoch 230:\n",
      "                  precision    recall  f1-score   support\n",
      "\n",
      "    infringement       0.88      0.58      0.70        65\n",
      "non_infringement       0.64      0.90      0.75        52\n",
      "\n",
      "        accuracy                           0.73       117\n",
      "       macro avg       0.76      0.74      0.72       117\n",
      "    weighted avg       0.77      0.73      0.72       117\n",
      "\n"
     ]
    },
    {
     "name": "stderr",
     "output_type": "stream",
     "text": [
      "Training Epochs:  48%|████▊     | 240/500 [01:46<02:07,  2.05it/s]"
     ]
    },
    {
     "name": "stdout",
     "output_type": "stream",
     "text": [
      "Epoch 240/500, Loss: 0.0004\n",
      "Test Accuracy at Epoch 240: 72.65%\n",
      "Classification Report at Epoch 240:\n",
      "                  precision    recall  f1-score   support\n",
      "\n",
      "    infringement       0.88      0.58      0.70        65\n",
      "non_infringement       0.64      0.90      0.75        52\n",
      "\n",
      "        accuracy                           0.73       117\n",
      "       macro avg       0.76      0.74      0.72       117\n",
      "    weighted avg       0.77      0.73      0.72       117\n",
      "\n"
     ]
    },
    {
     "name": "stderr",
     "output_type": "stream",
     "text": [
      "Training Epochs:  50%|█████     | 250/500 [01:51<02:01,  2.06it/s]"
     ]
    },
    {
     "name": "stdout",
     "output_type": "stream",
     "text": [
      "Epoch 250/500, Loss: 0.0004\n",
      "Test Accuracy at Epoch 250: 72.65%\n",
      "Classification Report at Epoch 250:\n",
      "                  precision    recall  f1-score   support\n",
      "\n",
      "    infringement       0.88      0.58      0.70        65\n",
      "non_infringement       0.64      0.90      0.75        52\n",
      "\n",
      "        accuracy                           0.73       117\n",
      "       macro avg       0.76      0.74      0.72       117\n",
      "    weighted avg       0.77      0.73      0.72       117\n",
      "\n"
     ]
    },
    {
     "name": "stderr",
     "output_type": "stream",
     "text": [
      "Training Epochs:  52%|█████▏    | 260/500 [01:56<01:54,  2.10it/s]"
     ]
    },
    {
     "name": "stdout",
     "output_type": "stream",
     "text": [
      "Epoch 260/500, Loss: 0.0003\n",
      "Test Accuracy at Epoch 260: 71.79%\n",
      "Classification Report at Epoch 260:\n",
      "                  precision    recall  f1-score   support\n",
      "\n",
      "    infringement       0.86      0.58      0.70        65\n",
      "non_infringement       0.63      0.88      0.74        52\n",
      "\n",
      "        accuracy                           0.72       117\n",
      "       macro avg       0.75      0.73      0.72       117\n",
      "    weighted avg       0.76      0.72      0.71       117\n",
      "\n"
     ]
    },
    {
     "name": "stderr",
     "output_type": "stream",
     "text": [
      "Training Epochs:  54%|█████▍    | 270/500 [02:00<01:47,  2.14it/s]"
     ]
    },
    {
     "name": "stdout",
     "output_type": "stream",
     "text": [
      "Epoch 270/500, Loss: 0.0003\n",
      "Test Accuracy at Epoch 270: 71.79%\n",
      "Classification Report at Epoch 270:\n",
      "                  precision    recall  f1-score   support\n",
      "\n",
      "    infringement       0.86      0.58      0.70        65\n",
      "non_infringement       0.63      0.88      0.74        52\n",
      "\n",
      "        accuracy                           0.72       117\n",
      "       macro avg       0.75      0.73      0.72       117\n",
      "    weighted avg       0.76      0.72      0.71       117\n",
      "\n"
     ]
    },
    {
     "name": "stderr",
     "output_type": "stream",
     "text": [
      "Training Epochs:  56%|█████▌    | 280/500 [02:05<01:42,  2.14it/s]"
     ]
    },
    {
     "name": "stdout",
     "output_type": "stream",
     "text": [
      "Epoch 280/500, Loss: 0.0003\n",
      "Test Accuracy at Epoch 280: 71.79%\n",
      "Classification Report at Epoch 280:\n",
      "                  precision    recall  f1-score   support\n",
      "\n",
      "    infringement       0.86      0.58      0.70        65\n",
      "non_infringement       0.63      0.88      0.74        52\n",
      "\n",
      "        accuracy                           0.72       117\n",
      "       macro avg       0.75      0.73      0.72       117\n",
      "    weighted avg       0.76      0.72      0.71       117\n",
      "\n"
     ]
    },
    {
     "name": "stderr",
     "output_type": "stream",
     "text": [
      "Training Epochs:  58%|█████▊    | 290/500 [02:09<01:34,  2.23it/s]"
     ]
    },
    {
     "name": "stdout",
     "output_type": "stream",
     "text": [
      "Epoch 290/500, Loss: 0.0002\n",
      "Test Accuracy at Epoch 290: 71.79%\n",
      "Classification Report at Epoch 290:\n",
      "                  precision    recall  f1-score   support\n",
      "\n",
      "    infringement       0.86      0.58      0.70        65\n",
      "non_infringement       0.63      0.88      0.74        52\n",
      "\n",
      "        accuracy                           0.72       117\n",
      "       macro avg       0.75      0.73      0.72       117\n",
      "    weighted avg       0.76      0.72      0.71       117\n",
      "\n"
     ]
    },
    {
     "name": "stderr",
     "output_type": "stream",
     "text": [
      "Training Epochs:  60%|██████    | 300/500 [02:13<01:19,  2.52it/s]"
     ]
    },
    {
     "name": "stdout",
     "output_type": "stream",
     "text": [
      "Epoch 300/500, Loss: 0.0002\n",
      "Test Accuracy at Epoch 300: 71.79%\n",
      "Classification Report at Epoch 300:\n",
      "                  precision    recall  f1-score   support\n",
      "\n",
      "    infringement       0.86      0.58      0.70        65\n",
      "non_infringement       0.63      0.88      0.74        52\n",
      "\n",
      "        accuracy                           0.72       117\n",
      "       macro avg       0.75      0.73      0.72       117\n",
      "    weighted avg       0.76      0.72      0.71       117\n",
      "\n"
     ]
    },
    {
     "name": "stderr",
     "output_type": "stream",
     "text": [
      "Training Epochs:  62%|██████▏   | 310/500 [02:17<01:16,  2.48it/s]"
     ]
    },
    {
     "name": "stdout",
     "output_type": "stream",
     "text": [
      "Epoch 310/500, Loss: 0.0002\n",
      "Test Accuracy at Epoch 310: 71.79%\n",
      "Classification Report at Epoch 310:\n",
      "                  precision    recall  f1-score   support\n",
      "\n",
      "    infringement       0.86      0.58      0.70        65\n",
      "non_infringement       0.63      0.88      0.74        52\n",
      "\n",
      "        accuracy                           0.72       117\n",
      "       macro avg       0.75      0.73      0.72       117\n",
      "    weighted avg       0.76      0.72      0.71       117\n",
      "\n"
     ]
    },
    {
     "name": "stderr",
     "output_type": "stream",
     "text": [
      "Training Epochs:  64%|██████▍   | 320/500 [02:21<01:10,  2.56it/s]"
     ]
    },
    {
     "name": "stdout",
     "output_type": "stream",
     "text": [
      "Epoch 320/500, Loss: 0.0002\n",
      "Test Accuracy at Epoch 320: 71.79%\n",
      "Classification Report at Epoch 320:\n",
      "                  precision    recall  f1-score   support\n",
      "\n",
      "    infringement       0.86      0.58      0.70        65\n",
      "non_infringement       0.63      0.88      0.74        52\n",
      "\n",
      "        accuracy                           0.72       117\n",
      "       macro avg       0.75      0.73      0.72       117\n",
      "    weighted avg       0.76      0.72      0.71       117\n",
      "\n"
     ]
    },
    {
     "name": "stderr",
     "output_type": "stream",
     "text": [
      "Training Epochs:  66%|██████▌   | 330/500 [02:28<02:00,  1.41it/s]"
     ]
    },
    {
     "name": "stdout",
     "output_type": "stream",
     "text": [
      "Epoch 330/500, Loss: 0.0002\n",
      "Test Accuracy at Epoch 330: 71.79%\n",
      "Classification Report at Epoch 330:\n",
      "                  precision    recall  f1-score   support\n",
      "\n",
      "    infringement       0.86      0.58      0.70        65\n",
      "non_infringement       0.63      0.88      0.74        52\n",
      "\n",
      "        accuracy                           0.72       117\n",
      "       macro avg       0.75      0.73      0.72       117\n",
      "    weighted avg       0.76      0.72      0.71       117\n",
      "\n"
     ]
    },
    {
     "name": "stderr",
     "output_type": "stream",
     "text": [
      "Training Epochs:  68%|██████▊   | 340/500 [02:33<01:49,  1.46it/s]"
     ]
    },
    {
     "name": "stdout",
     "output_type": "stream",
     "text": [
      "Epoch 340/500, Loss: 0.0002\n",
      "Test Accuracy at Epoch 340: 71.79%\n",
      "Classification Report at Epoch 340:\n",
      "                  precision    recall  f1-score   support\n",
      "\n",
      "    infringement       0.86      0.58      0.70        65\n",
      "non_infringement       0.63      0.88      0.74        52\n",
      "\n",
      "        accuracy                           0.72       117\n",
      "       macro avg       0.75      0.73      0.72       117\n",
      "    weighted avg       0.76      0.72      0.71       117\n",
      "\n"
     ]
    },
    {
     "name": "stderr",
     "output_type": "stream",
     "text": [
      "Training Epochs:  70%|███████   | 350/500 [02:43<02:47,  1.12s/it]"
     ]
    },
    {
     "name": "stdout",
     "output_type": "stream",
     "text": [
      "Epoch 350/500, Loss: 0.0002\n",
      "Test Accuracy at Epoch 350: 71.79%\n",
      "Classification Report at Epoch 350:\n",
      "                  precision    recall  f1-score   support\n",
      "\n",
      "    infringement       0.86      0.58      0.70        65\n",
      "non_infringement       0.63      0.88      0.74        52\n",
      "\n",
      "        accuracy                           0.72       117\n",
      "       macro avg       0.75      0.73      0.72       117\n",
      "    weighted avg       0.76      0.72      0.71       117\n",
      "\n"
     ]
    },
    {
     "name": "stderr",
     "output_type": "stream",
     "text": [
      "Training Epochs:  72%|███████▏  | 360/500 [02:47<00:58,  2.41it/s]"
     ]
    },
    {
     "name": "stdout",
     "output_type": "stream",
     "text": [
      "Epoch 360/500, Loss: 0.0001\n",
      "Test Accuracy at Epoch 360: 71.79%\n",
      "Classification Report at Epoch 360:\n",
      "                  precision    recall  f1-score   support\n",
      "\n",
      "    infringement       0.86      0.58      0.70        65\n",
      "non_infringement       0.63      0.88      0.74        52\n",
      "\n",
      "        accuracy                           0.72       117\n",
      "       macro avg       0.75      0.73      0.72       117\n",
      "    weighted avg       0.76      0.72      0.71       117\n",
      "\n"
     ]
    },
    {
     "name": "stderr",
     "output_type": "stream",
     "text": [
      "Training Epochs:  74%|███████▍  | 370/500 [02:55<01:13,  1.77it/s]"
     ]
    },
    {
     "name": "stdout",
     "output_type": "stream",
     "text": [
      "Epoch 370/500, Loss: 0.0001\n",
      "Test Accuracy at Epoch 370: 71.79%\n",
      "Classification Report at Epoch 370:\n",
      "                  precision    recall  f1-score   support\n",
      "\n",
      "    infringement       0.86      0.58      0.70        65\n",
      "non_infringement       0.63      0.88      0.74        52\n",
      "\n",
      "        accuracy                           0.72       117\n",
      "       macro avg       0.75      0.73      0.72       117\n",
      "    weighted avg       0.76      0.72      0.71       117\n",
      "\n"
     ]
    },
    {
     "name": "stderr",
     "output_type": "stream",
     "text": [
      "Training Epochs:  76%|███████▌  | 380/500 [03:03<01:16,  1.56it/s]"
     ]
    },
    {
     "name": "stdout",
     "output_type": "stream",
     "text": [
      "Epoch 380/500, Loss: 0.0001\n",
      "Test Accuracy at Epoch 380: 71.79%\n",
      "Classification Report at Epoch 380:\n",
      "                  precision    recall  f1-score   support\n",
      "\n",
      "    infringement       0.86      0.58      0.70        65\n",
      "non_infringement       0.63      0.88      0.74        52\n",
      "\n",
      "        accuracy                           0.72       117\n",
      "       macro avg       0.75      0.73      0.72       117\n",
      "    weighted avg       0.76      0.72      0.71       117\n",
      "\n"
     ]
    },
    {
     "name": "stderr",
     "output_type": "stream",
     "text": [
      "Training Epochs:  78%|███████▊  | 390/500 [03:10<01:18,  1.40it/s]"
     ]
    },
    {
     "name": "stdout",
     "output_type": "stream",
     "text": [
      "Epoch 390/500, Loss: 0.0001\n",
      "Test Accuracy at Epoch 390: 71.79%\n",
      "Classification Report at Epoch 390:\n",
      "                  precision    recall  f1-score   support\n",
      "\n",
      "    infringement       0.86      0.58      0.70        65\n",
      "non_infringement       0.63      0.88      0.74        52\n",
      "\n",
      "        accuracy                           0.72       117\n",
      "       macro avg       0.75      0.73      0.72       117\n",
      "    weighted avg       0.76      0.72      0.71       117\n",
      "\n"
     ]
    },
    {
     "name": "stderr",
     "output_type": "stream",
     "text": [
      "Training Epochs:  80%|███████▉  | 399/500 [03:15<01:22,  1.23it/s]"
     ]
    },
    {
     "name": "stdout",
     "output_type": "stream",
     "text": [
      "Epoch 400/500, Loss: 0.0001\n",
      "Test Accuracy at Epoch 400: 71.79%\n"
     ]
    },
    {
     "name": "stderr",
     "output_type": "stream",
     "text": [
      "Training Epochs:  80%|████████  | 400/500 [03:16<01:36,  1.04it/s]"
     ]
    },
    {
     "name": "stdout",
     "output_type": "stream",
     "text": [
      "Classification Report at Epoch 400:\n",
      "                  precision    recall  f1-score   support\n",
      "\n",
      "    infringement       0.86      0.58      0.70        65\n",
      "non_infringement       0.63      0.88      0.74        52\n",
      "\n",
      "        accuracy                           0.72       117\n",
      "       macro avg       0.75      0.73      0.72       117\n",
      "    weighted avg       0.76      0.72      0.71       117\n",
      "\n"
     ]
    },
    {
     "name": "stderr",
     "output_type": "stream",
     "text": [
      "Training Epochs:  82%|████████▏ | 409/500 [03:21<00:48,  1.86it/s]"
     ]
    },
    {
     "name": "stdout",
     "output_type": "stream",
     "text": [
      "Epoch 410/500, Loss: 0.0001\n"
     ]
    },
    {
     "name": "stderr",
     "output_type": "stream",
     "text": [
      "Training Epochs:  82%|████████▏ | 410/500 [03:22<01:04,  1.40it/s]"
     ]
    },
    {
     "name": "stdout",
     "output_type": "stream",
     "text": [
      "Test Accuracy at Epoch 410: 71.79%\n",
      "Classification Report at Epoch 410:\n",
      "                  precision    recall  f1-score   support\n",
      "\n",
      "    infringement       0.86      0.58      0.70        65\n",
      "non_infringement       0.63      0.88      0.74        52\n",
      "\n",
      "        accuracy                           0.72       117\n",
      "       macro avg       0.75      0.73      0.72       117\n",
      "    weighted avg       0.76      0.72      0.71       117\n",
      "\n"
     ]
    },
    {
     "name": "stderr",
     "output_type": "stream",
     "text": [
      "Training Epochs:  84%|████████▍ | 420/500 [03:32<00:55,  1.45it/s]"
     ]
    },
    {
     "name": "stdout",
     "output_type": "stream",
     "text": [
      "Epoch 420/500, Loss: 0.0001\n",
      "Test Accuracy at Epoch 420: 71.79%\n",
      "Classification Report at Epoch 420:\n",
      "                  precision    recall  f1-score   support\n",
      "\n",
      "    infringement       0.86      0.58      0.70        65\n",
      "non_infringement       0.63      0.88      0.74        52\n",
      "\n",
      "        accuracy                           0.72       117\n",
      "       macro avg       0.75      0.73      0.72       117\n",
      "    weighted avg       0.76      0.72      0.71       117\n",
      "\n"
     ]
    },
    {
     "name": "stderr",
     "output_type": "stream",
     "text": [
      "Training Epochs:  86%|████████▌ | 430/500 [03:39<00:49,  1.42it/s]"
     ]
    },
    {
     "name": "stdout",
     "output_type": "stream",
     "text": [
      "Epoch 430/500, Loss: 0.0001\n",
      "Test Accuracy at Epoch 430: 71.79%\n",
      "Classification Report at Epoch 430:\n",
      "                  precision    recall  f1-score   support\n",
      "\n",
      "    infringement       0.86      0.58      0.70        65\n",
      "non_infringement       0.63      0.88      0.74        52\n",
      "\n",
      "        accuracy                           0.72       117\n",
      "       macro avg       0.75      0.73      0.72       117\n",
      "    weighted avg       0.76      0.72      0.71       117\n",
      "\n"
     ]
    },
    {
     "name": "stderr",
     "output_type": "stream",
     "text": [
      "Training Epochs:  88%|████████▊ | 440/500 [03:43<00:24,  2.49it/s]"
     ]
    },
    {
     "name": "stdout",
     "output_type": "stream",
     "text": [
      "Epoch 440/500, Loss: 0.0001\n",
      "Test Accuracy at Epoch 440: 71.79%\n",
      "Classification Report at Epoch 440:\n",
      "                  precision    recall  f1-score   support\n",
      "\n",
      "    infringement       0.86      0.58      0.70        65\n",
      "non_infringement       0.63      0.88      0.74        52\n",
      "\n",
      "        accuracy                           0.72       117\n",
      "       macro avg       0.75      0.73      0.72       117\n",
      "    weighted avg       0.76      0.72      0.71       117\n",
      "\n"
     ]
    },
    {
     "name": "stderr",
     "output_type": "stream",
     "text": [
      "Training Epochs:  90%|████████▉ | 449/500 [03:53<01:16,  1.50s/it]"
     ]
    },
    {
     "name": "stdout",
     "output_type": "stream",
     "text": [
      "Epoch 450/500, Loss: 0.0001\n"
     ]
    },
    {
     "name": "stderr",
     "output_type": "stream",
     "text": [
      "Training Epochs:  90%|█████████ | 450/500 [03:59<02:19,  2.79s/it]"
     ]
    },
    {
     "name": "stdout",
     "output_type": "stream",
     "text": [
      "Test Accuracy at Epoch 450: 71.79%\n",
      "Classification Report at Epoch 450:\n",
      "                  precision    recall  f1-score   support\n",
      "\n",
      "    infringement       0.86      0.58      0.70        65\n",
      "non_infringement       0.63      0.88      0.74        52\n",
      "\n",
      "        accuracy                           0.72       117\n",
      "       macro avg       0.75      0.73      0.72       117\n",
      "    weighted avg       0.76      0.72      0.71       117\n",
      "\n"
     ]
    },
    {
     "name": "stderr",
     "output_type": "stream",
     "text": [
      "Training Epochs:  92%|█████████▏| 460/500 [04:12<00:32,  1.24it/s]"
     ]
    },
    {
     "name": "stdout",
     "output_type": "stream",
     "text": [
      "Epoch 460/500, Loss: 0.0001\n",
      "Test Accuracy at Epoch 460: 71.79%\n",
      "Classification Report at Epoch 460:\n",
      "                  precision    recall  f1-score   support\n",
      "\n",
      "    infringement       0.86      0.58      0.70        65\n",
      "non_infringement       0.63      0.88      0.74        52\n",
      "\n",
      "        accuracy                           0.72       117\n",
      "       macro avg       0.75      0.73      0.72       117\n",
      "    weighted avg       0.76      0.72      0.71       117\n",
      "\n"
     ]
    },
    {
     "name": "stderr",
     "output_type": "stream",
     "text": [
      "Training Epochs:  94%|█████████▍| 470/500 [04:16<00:12,  2.43it/s]"
     ]
    },
    {
     "name": "stdout",
     "output_type": "stream",
     "text": [
      "Epoch 470/500, Loss: 0.0001\n",
      "Test Accuracy at Epoch 470: 71.79%\n",
      "Classification Report at Epoch 470:\n",
      "                  precision    recall  f1-score   support\n",
      "\n",
      "    infringement       0.86      0.58      0.70        65\n",
      "non_infringement       0.63      0.88      0.74        52\n",
      "\n",
      "        accuracy                           0.72       117\n",
      "       macro avg       0.75      0.73      0.72       117\n",
      "    weighted avg       0.76      0.72      0.71       117\n",
      "\n"
     ]
    },
    {
     "name": "stderr",
     "output_type": "stream",
     "text": [
      "Training Epochs:  96%|█████████▌| 480/500 [04:20<00:07,  2.56it/s]"
     ]
    },
    {
     "name": "stdout",
     "output_type": "stream",
     "text": [
      "Epoch 480/500, Loss: 0.0001\n",
      "Test Accuracy at Epoch 480: 71.79%\n",
      "Classification Report at Epoch 480:\n",
      "                  precision    recall  f1-score   support\n",
      "\n",
      "    infringement       0.86      0.58      0.70        65\n",
      "non_infringement       0.63      0.88      0.74        52\n",
      "\n",
      "        accuracy                           0.72       117\n",
      "       macro avg       0.75      0.73      0.72       117\n",
      "    weighted avg       0.76      0.72      0.71       117\n",
      "\n"
     ]
    },
    {
     "name": "stderr",
     "output_type": "stream",
     "text": [
      "Training Epochs:  98%|█████████▊| 490/500 [04:32<00:12,  1.26s/it]"
     ]
    },
    {
     "name": "stdout",
     "output_type": "stream",
     "text": [
      "Epoch 490/500, Loss: 0.0001\n",
      "Test Accuracy at Epoch 490: 71.79%\n",
      "Classification Report at Epoch 490:\n",
      "                  precision    recall  f1-score   support\n",
      "\n",
      "    infringement       0.86      0.58      0.70        65\n",
      "non_infringement       0.63      0.88      0.74        52\n",
      "\n",
      "        accuracy                           0.72       117\n",
      "       macro avg       0.75      0.73      0.72       117\n",
      "    weighted avg       0.76      0.72      0.71       117\n",
      "\n"
     ]
    },
    {
     "name": "stderr",
     "output_type": "stream",
     "text": [
      "Training Epochs: 100%|██████████| 500/500 [04:41<00:00,  1.78it/s]"
     ]
    },
    {
     "name": "stdout",
     "output_type": "stream",
     "text": [
      "Epoch 500/500, Loss: 0.0001\n",
      "Test Accuracy at Epoch 500: 71.79%\n",
      "Classification Report at Epoch 500:\n",
      "                  precision    recall  f1-score   support\n",
      "\n",
      "    infringement       0.86      0.58      0.70        65\n",
      "non_infringement       0.63      0.88      0.74        52\n",
      "\n",
      "        accuracy                           0.72       117\n",
      "       macro avg       0.75      0.73      0.72       117\n",
      "    weighted avg       0.76      0.72      0.71       117\n",
      "\n"
     ]
    },
    {
     "name": "stderr",
     "output_type": "stream",
     "text": [
      "\n",
      "/tmp/ipykernel_1587850/1936902679.py:47: FutureWarning: You are using `torch.load` with `weights_only=False` (the current default value), which uses the default pickle module implicitly. It is possible to construct malicious pickle data which will execute arbitrary code during unpickling (See https://github.com/pytorch/pytorch/blob/main/SECURITY.md#untrusted-models for more details). In a future release, the default value for `weights_only` will be flipped to `True`. This limits the functions that could be executed during unpickling. Arbitrary objects will no longer be allowed to be loaded via this mode unless they are explicitly allowlisted by the user via `torch.serialization.add_safe_globals`. We recommend you start setting `weights_only=True` for any use case where you don't have full control of the loaded file. Please open an issue on GitHub for any issues related to this experimental feature.\n",
      "  custom_mlp.load_state_dict(torch.load(checkpoint_path))\n"
     ]
    },
    {
     "data": {
      "image/png": "[encoded data removed]",
      "text/plain": [
       "<Figure size 1000x500 with 1 Axes>"
      ]
     },
     "metadata": {},
     "output_type": "display_data"
    },
    {
     "name": "stdout",
     "output_type": "stream",
     "text": [
      "Best Model was saved at epoch 60 with accuracy 73.50%\n",
      "Best Classification Report                   precision    recall  f1-score   support\n",
      "\n",
      "    infringement       0.86      0.58      0.70        65\n",
      "non_infringement       0.63      0.88      0.74        52\n",
      "\n",
      "        accuracy                           0.72       117\n",
      "       macro avg       0.75      0.73      0.72       117\n",
      "    weighted avg       0.76      0.72      0.71       117\n",
      "\n"
     ]
    }
   ],
   "source": [
    "\n",
    "# Run main\n",
    "main(model_name, non_infringement_file, infringement_file, checkpoint_file)\n"
   ]
  }
 ],
 "metadata": {
  "kernelspec": {
   "display_name": "sit",
   "language": "python",
   "name": "python3"
  },
  "language_info": {
   "codemirror_mode": {
    "name": "ipython",
    "version": 3
   },
   "file_extension": ".py",
   "mimetype": "text/x-python",
   "name": "python",
   "nbconvert_exporter": "python",
   "pygments_lexer": "ipython3",
   "version": "3.8.10"
  }
 },
 "nbformat": 4,
 "nbformat_minor": 2
}
