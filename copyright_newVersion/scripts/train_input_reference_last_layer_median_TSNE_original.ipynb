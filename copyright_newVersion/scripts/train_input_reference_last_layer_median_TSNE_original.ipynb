{
 "cells": [
  {
   "cell_type": "code",
   "execution_count": 3,
   "metadata": {},
   "outputs": [
    {
     "name": "stderr",
     "output_type": "stream",
     "text": [
      "/home/guangwei/anaconda3/envs/sit/lib/python3.8/site-packages/tqdm/auto.py:21: TqdmWarning: IProgress not found. Please update jupyter and ipywidgets. See https://ipywidgets.readthedocs.io/en/stable/user_install.html\n",
      "  from .autonotebook import tqdm as notebook_tqdm\n"
     ]
    }
   ],
   "source": [
    "# import packages & variables\n",
    "import argparse\n",
    "import torch\n",
    "import torch.nn as nn\n",
    "import numpy as np\n",
    "from sklearn.metrics import accuracy_score, classification_report\n",
    "import matplotlib.pyplot as plt\n",
    "from tqdm import tqdm\n",
    "from transformers import AutoTokenizer, AutoModelForCausalLM, AutoModel, AutoModelForSequenceClassification\n",
    "import json\n",
    "\n",
    "# Parameters\n",
    "model_name = 'meta-llama/Meta-Llama-3.1-8B'\n",
    "non_infringement_file = '/home/guangwei/LLM-COPYRIGHT/copyright_newVersion/test_division/extra_10.non_infringement.json'\n",
    "infringement_file = '/home/guangwei/LLM-COPYRIGHT/copyright_newVersion/test_division/extra_10.infringement.json'\n",
    "checkpoint_file = '/home/guangwei/LLM-COPYRIGHT/copyright_newVersion/models/train_input_reference_last_layer_TSNE_original.pth'\n"
   ]
  },
  {
   "cell_type": "code",
   "execution_count": 4,
   "metadata": {},
   "outputs": [],
   "source": [
    "# Define CustumMLP for internal states train\n",
    "class CustomMLP(nn.Module):\n",
    "    def __init__(self, input_dim, hidden_dim):\n",
    "        super(CustomMLP, self).__init__()\n",
    "        self.down = nn.Linear(input_dim, hidden_dim)\n",
    "        self.gate = nn.Linear(input_dim, hidden_dim)\n",
    "        self.up = nn.Linear(hidden_dim, 1)\n",
    "        self.activation = nn.SiLU()\n",
    "\n",
    "    def forward(self, x):\n",
    "        down_output = self.down(x)\n",
    "        gate_output = self.gate(x)\n",
    "        gated_output = down_output * self.activation(gate_output)\n",
    "        return self.up(gated_output)"
   ]
  },
  {
   "cell_type": "code",
   "execution_count": 5,
   "metadata": {},
   "outputs": [],
   "source": [
    "# Extract hidden states/reference embeddings\n",
    "def extract_hidden_states(texts, model, tokenizer, batch_size=128):\n",
    "    hidden_states = []\n",
    "    for i in tqdm(range(0, len(texts), batch_size), desc=\"Processing data batches\"):\n",
    "        batch_texts = texts[i:i + batch_size]\n",
    "        inputs = tokenizer(batch_texts, return_tensors=\"pt\", padding=True, truncation=True)\n",
    "        with torch.no_grad():\n",
    "            outputs = model(**inputs)\n",
    "        hidden_states.append(outputs.hidden_states[-1].mean(dim=1).cpu().numpy())\n",
    "    return np.vstack(hidden_states)\n",
    "\n",
    "def extract_reference_embeddings(references, model, tokenizer, batch_size=128):\n",
    "    embeddings = []\n",
    "    for i in tqdm(range(0, len(references), batch_size), desc=\"Processing references\"):\n",
    "        batch_references = references[i:i + batch_size]\n",
    "        inputs = tokenizer(batch_references, return_tensors=\"pt\", padding=True, truncation=True)\n",
    "        with torch.no_grad():\n",
    "            outputs = model(**inputs)\n",
    "        embeddings.append(outputs.pooler_output.cpu().numpy())\n",
    "    return np.vstack(embeddings)"
   ]
  },
  {
   "cell_type": "code",
   "execution_count": 6,
   "metadata": {},
   "outputs": [],
   "source": [
    "# load data for infringement & non infringement\n",
    "def load_data(non_infringement_file, infringement_file):\n",
    "    with open(non_infringement_file, 'r', encoding='utf-8') as file:\n",
    "        non_infringement_json_data = json.load(file)\n",
    "\n",
    "    non_infringement_outputs = [entry['input'] for entry in non_infringement_json_data]\n",
    "    non_infringement_references = [entry['reference'] for entry in non_infringement_json_data]\n",
    "    y_non_infringement = [1] * len(non_infringement_outputs)\n",
    "\n",
    "    with open(infringement_file, 'r', encoding='utf-8') as file:\n",
    "        infringement_json_data = json.load(file)\n",
    "\n",
    "    infringement_outputs = [entry['input'] for entry in infringement_json_data]\n",
    "    infringement_references = [entry['reference'] for entry in infringement_json_data]\n",
    "    y_infringement = [0] * len(infringement_outputs)\n",
    "\n",
    "    return non_infringement_outputs, non_infringement_references, y_non_infringement, infringement_outputs, infringement_references, y_infringement"
   ]
  },
  {
   "cell_type": "code",
   "execution_count": 7,
   "metadata": {},
   "outputs": [],
   "source": [
    "# Train for best model\n",
    "def train_model(X_train, y_train, X_test, y_test, input_dim, hidden_dim, epochs=500, lr=0.001, checkpoint_path=checkpoint_file):\n",
    "    custom_mlp = CustomMLP(input_dim, hidden_dim)\n",
    "    criterion = nn.BCEWithLogitsLoss()\n",
    "    optimizer = torch.optim.Adam(custom_mlp.parameters(), lr=lr)\n",
    "\n",
    "    X_train_tensor = torch.tensor(X_train, dtype=torch.float32)\n",
    "    y_train_tensor = torch.tensor(y_train, dtype=torch.float32).unsqueeze(1)\n",
    "\n",
    "    best_accuracy = -float('inf')\n",
    "    best_model_state = None\n",
    "    best_epoch = 0\n",
    "    losses = []\n",
    "\n",
    "    for epoch in tqdm(range(epochs), desc=\"Training Epochs\"):\n",
    "        custom_mlp.train()\n",
    "        optimizer.zero_grad()\n",
    "        outputs = custom_mlp(X_train_tensor)\n",
    "        loss = criterion(outputs, y_train_tensor)\n",
    "        loss.backward()\n",
    "        optimizer.step()\n",
    "        losses.append(loss.item())\n",
    "\n",
    "        if (epoch + 1) % 10 == 0:\n",
    "            print(f\"Epoch {epoch + 1}/{epochs}, Loss: {loss.item():.4f}\")\n",
    "            \n",
    "            custom_mlp.eval()\n",
    "            X_test_tensor = torch.tensor(X_test, dtype=torch.float32)\n",
    "            with torch.no_grad():\n",
    "                y_pred_logits = custom_mlp(X_test_tensor)\n",
    "                y_pred = (torch.sigmoid(y_pred_logits) > 0.5).float().numpy()\n",
    "            \n",
    "            accuracy = accuracy_score(y_test, y_pred)\n",
    "            print(f\"Test Accuracy at Epoch {epoch + 1}: {accuracy * 100:.2f}%\")\n",
    "            \n",
    "            report = classification_report(y_test, y_pred, target_names=[\"infringement\", \"non_infringement\"])\n",
    "            print(f\"Classification Report at Epoch {epoch + 1}:\\n{report}\")\n",
    "\n",
    "            if accuracy > best_accuracy:\n",
    "                best_accuracy = accuracy\n",
    "                best_model_state = custom_mlp.state_dict()\n",
    "                best_epoch = epoch + 1\n",
    "                torch.save(best_model_state, checkpoint_path)\n",
    "                print(f\"New best model saved with accuracy {best_accuracy * 100:.2f}% at epoch {best_epoch}\")\n",
    "                print(f\"Best Classification Report at Epoch {best_epoch}:\\n{report}\")\n",
    "\n",
    "    custom_mlp.load_state_dict(torch.load(checkpoint_path))\n",
    "\n",
    "    plt.figure(figsize=(10, 5))\n",
    "    plt.plot(losses, label='Training Loss')\n",
    "    plt.xlabel('Epoch')\n",
    "    plt.ylabel('Loss')\n",
    "    plt.title('Training Loss Curve')\n",
    "    plt.legend()\n",
    "    plt.show()\n",
    "\n",
    "    print(f\"Final Model Accuracy: {best_accuracy * 100:.2f}%\")\n",
    "    \n",
    "    return custom_mlp, losses, best_accuracy"
   ]
  },
  {
   "cell_type": "code",
   "execution_count": 8,
   "metadata": {},
   "outputs": [
    {
     "name": "stderr",
     "output_type": "stream",
     "text": [
      "/home/guangwei/anaconda3/envs/sit/lib/python3.8/site-packages/transformers/generation/configuration_utils.py:777: UserWarning: `return_dict_in_generate` is NOT set to `True`, but `output_hidden_states` is. When `return_dict_in_generate` is not `True`, `output_hidden_states` is ignored.\n",
      "  warnings.warn(\n",
      "Loading checkpoint shards: 100%|██████████| 4/4 [00:02<00:00,  1.59it/s]\n",
      "/home/guangwei/anaconda3/envs/sit/lib/python3.8/site-packages/transformers/tokenization_utils_base.py:1617: FutureWarning: `clean_up_tokenization_spaces` was not set. It will be set to `True` by default. This behavior will be deprecated in transformers v4.45, and will be then set to `False` by default. For more details check this issue: https://github.com/huggingface/transformers/issues/31884\n",
      "  warnings.warn(\n"
     ]
    }
   ],
   "source": [
    "tokenizer = AutoTokenizer.from_pretrained(model_name, model_max_length=512)\n",
    "model = AutoModelForCausalLM.from_pretrained(model_name, output_hidden_states=True)\n",
    "tokenizer.pad_token = tokenizer.eos_token\n",
    "bert_tokenizer = AutoTokenizer.from_pretrained('google-bert/bert-base-uncased')\n",
    "bert_model = AutoModel.from_pretrained('google-bert/bert-base-uncased')\n",
    "bert_tokenizer.pad_token = tokenizer.eos_token\n",
    "\n",
    "non_infringement_outputs, non_infringement_references, y_non_infringement, infringement_outputs, infringement_references, y_infringement = load_data(\n",
    "    non_infringement_file, infringement_file\n",
    ")\n",
    "\n",
    "y_non_infringement = np.array(y_non_infringement)\n",
    "y_infringement = np.array(y_infringement)\n"
   ]
  },
  {
   "cell_type": "code",
   "execution_count": 9,
   "metadata": {},
   "outputs": [
    {
     "name": "stdout",
     "output_type": "stream",
     "text": [
      "Extracting hidden states for non_infringement texts...\n"
     ]
    },
    {
     "name": "stderr",
     "output_type": "stream",
     "text": [
      "Processing data batches:   0%|          | 0/3 [00:00<?, ?it/s]Starting from v4.46, the `logits` model output will have the same type as the model (except at train time, where it will always be FP32)\n",
      "Processing data batches: 100%|██████████| 3/3 [07:10<00:00, 143.51s/it]\n"
     ]
    },
    {
     "name": "stdout",
     "output_type": "stream",
     "text": [
      "Extracting reference embeddings for non_infringement texts...\n"
     ]
    },
    {
     "name": "stderr",
     "output_type": "stream",
     "text": [
      "Processing references: 100%|██████████| 3/3 [00:16<00:00,  5.51s/it]\n"
     ]
    },
    {
     "name": "stdout",
     "output_type": "stream",
     "text": [
      "Extracting hidden states for infringement texts...\n"
     ]
    },
    {
     "name": "stderr",
     "output_type": "stream",
     "text": [
      "Processing data batches: 100%|██████████| 3/3 [07:13<00:00, 144.52s/it]\n"
     ]
    },
    {
     "name": "stdout",
     "output_type": "stream",
     "text": [
      "Extracting reference embeddings for infringement texts...\n"
     ]
    },
    {
     "name": "stderr",
     "output_type": "stream",
     "text": [
      "Processing references: 100%|██████████| 3/3 [00:18<00:00,  6.09s/it]\n"
     ]
    }
   ],
   "source": [
    "print(\"Extracting hidden states for non_infringement texts...\")\n",
    "X_non_infringement = extract_hidden_states(non_infringement_outputs, model, tokenizer)\n",
    "print(\"Extracting reference embeddings for non_infringement texts...\")\n",
    "reference_embeddings_non_infringement = extract_reference_embeddings(non_infringement_references, bert_model, bert_tokenizer)\n",
    "X_non_infringement_combined = np.hstack([X_non_infringement, reference_embeddings_non_infringement])\n",
    "\n",
    "print(\"Extracting hidden states for infringement texts...\")\n",
    "X_infringement = extract_hidden_states(infringement_outputs, model, tokenizer)\n",
    "print(\"Extracting reference embeddings for infringement texts...\")\n",
    "reference_embeddings_infringement = extract_reference_embeddings(infringement_references, bert_model, bert_tokenizer)\n",
    "X_infringement_combined = np.hstack([X_infringement, reference_embeddings_infringement])"
   ]
  },
  {
   "cell_type": "code",
   "execution_count": 10,
   "metadata": {},
   "outputs": [
    {
     "name": "stdout",
     "output_type": "stream",
     "text": [
      "Data successfully split into training and test sets.\n"
     ]
    }
   ],
   "source": [
    "split_index_non_infringement = int(0.8 * len(X_non_infringement_combined))\n",
    "X_non_infringement_train = X_non_infringement_combined[:split_index_non_infringement]\n",
    "X_non_infringement_test = X_non_infringement_combined[split_index_non_infringement:]\n",
    "y_non_infringement_train = y_non_infringement[:split_index_non_infringement]\n",
    "y_non_infringement_test = y_non_infringement[split_index_non_infringement:]\n",
    "\n",
    "split_index_infringement = int(0.8 * len(X_infringement_combined))\n",
    "X_infringement_train = X_infringement_combined[:split_index_infringement]\n",
    "X_infringement_test = X_infringement_combined[split_index_infringement:]\n",
    "y_infringement_train = y_infringement[:split_index_infringement]\n",
    "y_infringement_test = y_infringement[split_index_infringement:]\n",
    "\n",
    "X_train = np.vstack((X_non_infringement_train, X_infringement_train))\n",
    "X_test = np.vstack((X_non_infringement_test, X_infringement_test))\n",
    "y_train = np.concatenate((y_non_infringement_train, y_infringement_train))\n",
    "y_test = np.concatenate((y_non_infringement_test, y_infringement_test))\n",
    "\n",
    "print(\"Data successfully split into training and test sets.\")"
   ]
  },
  {
   "cell_type": "code",
   "execution_count": 11,
   "metadata": {},
   "outputs": [
    {
     "name": "stdout",
     "output_type": "stream",
     "text": [
      "Training MLP model with input_dim=4864 and hidden_dim=256\n"
     ]
    },
    {
     "name": "stderr",
     "output_type": "stream",
     "text": [
      "Training Epochs:   0%|          | 0/500 [00:00<?, ?it/s]/home/guangwei/anaconda3/envs/sit/lib/python3.8/site-packages/torch/autograd/graph.py:768: UserWarning: CUDA initialization: The NVIDIA driver on your system is too old (found version 11040). Please update your GPU driver by downloading and installing a new version from the URL: http://www.nvidia.com/Download/index.aspx Alternatively, go to: https://pytorch.org to install a PyTorch version that has been compiled with your version of the CUDA driver. (Triggered internally at ../c10/cuda/CUDAFunctions.cpp:108.)\n",
      "  return Variable._execution_engine.run_backward(  # Calls into the C++ engine to run the backward pass\n",
      "Training Epochs:   2%|▏         | 10/500 [00:04<03:33,  2.30it/s]"
     ]
    },
    {
     "name": "stdout",
     "output_type": "stream",
     "text": [
      "Epoch 10/500, Loss: 0.7754\n",
      "Test Accuracy at Epoch 10: 85.47%\n",
      "Classification Report at Epoch 10:\n",
      "                  precision    recall  f1-score   support\n",
      "\n",
      "    infringement       0.98      0.75      0.85        65\n",
      "non_infringement       0.76      0.98      0.86        52\n",
      "\n",
      "        accuracy                           0.85       117\n",
      "       macro avg       0.87      0.87      0.85       117\n",
      "    weighted avg       0.88      0.85      0.85       117\n",
      "\n",
      "New best model saved with accuracy 85.47% at epoch 10\n",
      "Best Classification Report at Epoch 10:\n",
      "                  precision    recall  f1-score   support\n",
      "\n",
      "    infringement       0.98      0.75      0.85        65\n",
      "non_infringement       0.76      0.98      0.86        52\n",
      "\n",
      "        accuracy                           0.85       117\n",
      "       macro avg       0.87      0.87      0.85       117\n",
      "    weighted avg       0.88      0.85      0.85       117\n",
      "\n"
     ]
    },
    {
     "name": "stderr",
     "output_type": "stream",
     "text": [
      "Training Epochs:   4%|▍         | 20/500 [00:08<03:32,  2.26it/s]"
     ]
    },
    {
     "name": "stdout",
     "output_type": "stream",
     "text": [
      "Epoch 20/500, Loss: 0.3794\n",
      "Test Accuracy at Epoch 20: 90.60%\n",
      "Classification Report at Epoch 20:\n",
      "                  precision    recall  f1-score   support\n",
      "\n",
      "    infringement       0.91      0.92      0.92        65\n",
      "non_infringement       0.90      0.88      0.89        52\n",
      "\n",
      "        accuracy                           0.91       117\n",
      "       macro avg       0.91      0.90      0.90       117\n",
      "    weighted avg       0.91      0.91      0.91       117\n",
      "\n",
      "New best model saved with accuracy 90.60% at epoch 20\n",
      "Best Classification Report at Epoch 20:\n",
      "                  precision    recall  f1-score   support\n",
      "\n",
      "    infringement       0.91      0.92      0.92        65\n",
      "non_infringement       0.90      0.88      0.89        52\n",
      "\n",
      "        accuracy                           0.91       117\n",
      "       macro avg       0.91      0.90      0.90       117\n",
      "    weighted avg       0.91      0.91      0.91       117\n",
      "\n"
     ]
    },
    {
     "name": "stderr",
     "output_type": "stream",
     "text": [
      "Training Epochs:   6%|▌         | 30/500 [00:12<03:19,  2.35it/s]"
     ]
    },
    {
     "name": "stdout",
     "output_type": "stream",
     "text": [
      "Epoch 30/500, Loss: 0.2202\n",
      "Test Accuracy at Epoch 30: 90.60%\n",
      "Classification Report at Epoch 30:\n",
      "                  precision    recall  f1-score   support\n",
      "\n",
      "    infringement       0.97      0.86      0.91        65\n",
      "non_infringement       0.85      0.96      0.90        52\n",
      "\n",
      "        accuracy                           0.91       117\n",
      "       macro avg       0.91      0.91      0.91       117\n",
      "    weighted avg       0.91      0.91      0.91       117\n",
      "\n"
     ]
    },
    {
     "name": "stderr",
     "output_type": "stream",
     "text": [
      "Training Epochs:  10%|█         | 50/500 [00:14<00:24, 18.27it/s]"
     ]
    },
    {
     "name": "stdout",
     "output_type": "stream",
     "text": [
      "Epoch 40/500, Loss: 0.1237\n",
      "Test Accuracy at Epoch 40: 88.89%\n",
      "Classification Report at Epoch 40:\n",
      "                  precision    recall  f1-score   support\n",
      "\n",
      "    infringement       0.93      0.86      0.90        65\n",
      "non_infringement       0.84      0.92      0.88        52\n",
      "\n",
      "        accuracy                           0.89       117\n",
      "       macro avg       0.89      0.89      0.89       117\n",
      "    weighted avg       0.89      0.89      0.89       117\n",
      "\n",
      "Epoch 50/500, Loss: 0.0638\n",
      "Test Accuracy at Epoch 50: 90.60%\n",
      "Classification Report at Epoch 50:\n",
      "                  precision    recall  f1-score   support\n",
      "\n",
      "    infringement       0.97      0.86      0.91        65\n",
      "non_infringement       0.85      0.96      0.90        52\n",
      "\n",
      "        accuracy                           0.91       117\n",
      "       macro avg       0.91      0.91      0.91       117\n",
      "    weighted avg       0.91      0.91      0.91       117\n",
      "\n"
     ]
    },
    {
     "name": "stderr",
     "output_type": "stream",
     "text": [
      "Training Epochs:  14%|█▎        | 68/500 [00:15<00:16, 26.31it/s]"
     ]
    },
    {
     "name": "stdout",
     "output_type": "stream",
     "text": [
      "Epoch 60/500, Loss: 0.0231\n",
      "Test Accuracy at Epoch 60: 90.60%\n",
      "Classification Report at Epoch 60:\n",
      "                  precision    recall  f1-score   support\n",
      "\n",
      "    infringement       0.97      0.86      0.91        65\n",
      "non_infringement       0.85      0.96      0.90        52\n",
      "\n",
      "        accuracy                           0.91       117\n",
      "       macro avg       0.91      0.91      0.91       117\n",
      "    weighted avg       0.91      0.91      0.91       117\n",
      "\n",
      "Epoch 70/500, Loss: 0.0109\n",
      "Test Accuracy at Epoch 70: 90.60%\n",
      "Classification Report at Epoch 70:\n",
      "                  precision    recall  f1-score   support\n",
      "\n",
      "    infringement       0.97      0.86      0.91        65\n",
      "non_infringement       0.85      0.96      0.90        52\n",
      "\n",
      "        accuracy                           0.91       117\n",
      "       macro avg       0.91      0.91      0.91       117\n",
      "    weighted avg       0.91      0.91      0.91       117\n",
      "\n"
     ]
    },
    {
     "name": "stderr",
     "output_type": "stream",
     "text": [
      "Training Epochs:  17%|█▋        | 83/500 [00:15<00:10, 41.02it/s]"
     ]
    },
    {
     "name": "stdout",
     "output_type": "stream",
     "text": [
      "Epoch 80/500, Loss: 0.0083\n",
      "Test Accuracy at Epoch 80: 92.31%\n",
      "Classification Report at Epoch 80:\n",
      "                  precision    recall  f1-score   support\n",
      "\n",
      "    infringement       1.00      0.86      0.93        65\n",
      "non_infringement       0.85      1.00      0.92        52\n",
      "\n",
      "        accuracy                           0.92       117\n",
      "       macro avg       0.93      0.93      0.92       117\n",
      "    weighted avg       0.93      0.92      0.92       117\n",
      "\n",
      "New best model saved with accuracy 92.31% at epoch 80\n",
      "Best Classification Report at Epoch 80:\n",
      "                  precision    recall  f1-score   support\n",
      "\n",
      "    infringement       1.00      0.86      0.93        65\n",
      "non_infringement       0.85      1.00      0.92        52\n",
      "\n",
      "        accuracy                           0.92       117\n",
      "       macro avg       0.93      0.93      0.92       117\n",
      "    weighted avg       0.93      0.92      0.92       117\n",
      "\n"
     ]
    },
    {
     "name": "stderr",
     "output_type": "stream",
     "text": [
      "Training Epochs:  18%|█▊        | 89/500 [00:16<00:20, 19.92it/s]"
     ]
    },
    {
     "name": "stdout",
     "output_type": "stream",
     "text": [
      "Epoch 90/500, Loss: 0.0076\n",
      "Test Accuracy at Epoch 90: 92.31%\n",
      "Classification Report at Epoch 90:\n",
      "                  precision    recall  f1-score   support\n",
      "\n",
      "    infringement       1.00      0.86      0.93        65\n",
      "non_infringement       0.85      1.00      0.92        52\n",
      "\n",
      "        accuracy                           0.92       117\n",
      "       macro avg       0.93      0.93      0.92       117\n",
      "    weighted avg       0.93      0.92      0.92       117\n",
      "\n"
     ]
    },
    {
     "name": "stderr",
     "output_type": "stream",
     "text": [
      "Training Epochs:  20%|█▉        | 98/500 [00:19<01:14,  5.41it/s]"
     ]
    },
    {
     "name": "stdout",
     "output_type": "stream",
     "text": [
      "Epoch 100/500, Loss: 0.0073\n",
      "Test Accuracy at Epoch 100: 92.31%\n",
      "Classification Report at Epoch 100:\n",
      "                  precision    recall  f1-score   support\n",
      "\n",
      "    infringement       1.00      0.86      0.93        65\n",
      "non_infringement       0.85      1.00      0.92        52\n",
      "\n",
      "        accuracy                           0.92       117\n",
      "       macro avg       0.93      0.93      0.92       117\n",
      "    weighted avg       0.93      0.92      0.92       117\n",
      "\n"
     ]
    },
    {
     "name": "stderr",
     "output_type": "stream",
     "text": [
      "Training Epochs:  22%|██▏       | 110/500 [00:21<00:52,  7.45it/s]"
     ]
    },
    {
     "name": "stdout",
     "output_type": "stream",
     "text": [
      "Epoch 110/500, Loss: 0.0072\n",
      "Test Accuracy at Epoch 110: 92.31%\n",
      "Classification Report at Epoch 110:\n",
      "                  precision    recall  f1-score   support\n",
      "\n",
      "    infringement       1.00      0.86      0.93        65\n",
      "non_infringement       0.85      1.00      0.92        52\n",
      "\n",
      "        accuracy                           0.92       117\n",
      "       macro avg       0.93      0.93      0.92       117\n",
      "    weighted avg       0.93      0.92      0.92       117\n",
      "\n"
     ]
    },
    {
     "name": "stderr",
     "output_type": "stream",
     "text": [
      "Training Epochs:  26%|██▌       | 129/500 [00:21<00:22, 16.81it/s]"
     ]
    },
    {
     "name": "stdout",
     "output_type": "stream",
     "text": [
      "Epoch 120/500, Loss: 0.0071\n",
      "Test Accuracy at Epoch 120: 92.31%\n",
      "Classification Report at Epoch 120:\n",
      "                  precision    recall  f1-score   support\n",
      "\n",
      "    infringement       1.00      0.86      0.93        65\n",
      "non_infringement       0.85      1.00      0.92        52\n",
      "\n",
      "        accuracy                           0.92       117\n",
      "       macro avg       0.93      0.93      0.92       117\n",
      "    weighted avg       0.93      0.92      0.92       117\n",
      "\n",
      "Epoch 130/500, Loss: 0.0071\n",
      "Test Accuracy at Epoch 130: 92.31%\n",
      "Classification Report at Epoch 130:\n",
      "                  precision    recall  f1-score   support\n",
      "\n",
      "    infringement       1.00      0.86      0.93        65\n",
      "non_infringement       0.85      1.00      0.92        52\n",
      "\n",
      "        accuracy                           0.92       117\n",
      "       macro avg       0.93      0.93      0.92       117\n",
      "    weighted avg       0.93      0.92      0.92       117\n",
      "\n"
     ]
    },
    {
     "name": "stderr",
     "output_type": "stream",
     "text": [
      "Training Epochs:  28%|██▊       | 138/500 [00:21<00:15, 22.75it/s]"
     ]
    },
    {
     "name": "stdout",
     "output_type": "stream",
     "text": [
      "Epoch 140/500, Loss: 0.0070\n",
      "Test Accuracy at Epoch 140: 92.31%\n",
      "Classification Report at Epoch 140:\n",
      "                  precision    recall  f1-score   support\n",
      "\n",
      "    infringement       1.00      0.86      0.93        65\n",
      "non_infringement       0.85      1.00      0.92        52\n",
      "\n",
      "        accuracy                           0.92       117\n",
      "       macro avg       0.93      0.93      0.92       117\n",
      "    weighted avg       0.93      0.92      0.92       117\n",
      "\n"
     ]
    },
    {
     "name": "stderr",
     "output_type": "stream",
     "text": [
      "Training Epochs:  30%|███       | 150/500 [00:26<01:12,  4.84it/s]"
     ]
    },
    {
     "name": "stdout",
     "output_type": "stream",
     "text": [
      "Epoch 150/500, Loss: 0.0070\n",
      "Test Accuracy at Epoch 150: 92.31%\n",
      "Classification Report at Epoch 150:\n",
      "                  precision    recall  f1-score   support\n",
      "\n",
      "    infringement       1.00      0.86      0.93        65\n",
      "non_infringement       0.85      1.00      0.92        52\n",
      "\n",
      "        accuracy                           0.92       117\n",
      "       macro avg       0.93      0.93      0.92       117\n",
      "    weighted avg       0.93      0.92      0.92       117\n",
      "\n"
     ]
    },
    {
     "name": "stderr",
     "output_type": "stream",
     "text": [
      "Training Epochs:  31%|███       | 154/500 [00:27<01:09,  4.95it/s]"
     ]
    },
    {
     "name": "stdout",
     "output_type": "stream",
     "text": [
      "Epoch 160/500, Loss: 0.0070\n",
      "Test Accuracy at Epoch 160: 92.31%\n",
      "Classification Report at Epoch 160:\n",
      "                  precision    recall  f1-score   support\n",
      "\n",
      "    infringement       1.00      0.86      0.93        65\n",
      "non_infringement       0.85      1.00      0.92        52\n",
      "\n",
      "        accuracy                           0.92       117\n",
      "       macro avg       0.93      0.93      0.92       117\n",
      "    weighted avg       0.93      0.92      0.92       117\n",
      "\n"
     ]
    },
    {
     "name": "stderr",
     "output_type": "stream",
     "text": [
      "Training Epochs:  34%|███▍      | 170/500 [00:30<01:21,  4.03it/s]"
     ]
    },
    {
     "name": "stdout",
     "output_type": "stream",
     "text": [
      "Epoch 170/500, Loss: 0.0069\n",
      "Test Accuracy at Epoch 170: 92.31%\n",
      "Classification Report at Epoch 170:\n",
      "                  precision    recall  f1-score   support\n",
      "\n",
      "    infringement       1.00      0.86      0.93        65\n",
      "non_infringement       0.85      1.00      0.92        52\n",
      "\n",
      "        accuracy                           0.92       117\n",
      "       macro avg       0.93      0.93      0.92       117\n",
      "    weighted avg       0.93      0.92      0.92       117\n",
      "\n"
     ]
    },
    {
     "name": "stderr",
     "output_type": "stream",
     "text": [
      "Training Epochs:  37%|███▋      | 185/500 [00:32<00:35,  8.93it/s]"
     ]
    },
    {
     "name": "stdout",
     "output_type": "stream",
     "text": [
      "Epoch 180/500, Loss: 0.0069\n",
      "Test Accuracy at Epoch 180: 92.31%\n",
      "Classification Report at Epoch 180:\n",
      "                  precision    recall  f1-score   support\n",
      "\n",
      "    infringement       1.00      0.86      0.93        65\n",
      "non_infringement       0.85      1.00      0.92        52\n",
      "\n",
      "        accuracy                           0.92       117\n",
      "       macro avg       0.93      0.93      0.92       117\n",
      "    weighted avg       0.93      0.92      0.92       117\n",
      "\n"
     ]
    },
    {
     "name": "stderr",
     "output_type": "stream",
     "text": [
      "Training Epochs:  40%|███▉      | 199/500 [00:33<00:13, 22.57it/s]"
     ]
    },
    {
     "name": "stdout",
     "output_type": "stream",
     "text": [
      "Epoch 190/500, Loss: 0.0084\n",
      "Test Accuracy at Epoch 190: 90.60%\n",
      "Classification Report at Epoch 190:\n",
      "                  precision    recall  f1-score   support\n",
      "\n",
      "    infringement       0.97      0.86      0.91        65\n",
      "non_infringement       0.85      0.96      0.90        52\n",
      "\n",
      "        accuracy                           0.91       117\n",
      "       macro avg       0.91      0.91      0.91       117\n",
      "    weighted avg       0.91      0.91      0.91       117\n",
      "\n",
      "Epoch 200/500, Loss: 0.0070\n",
      "Test Accuracy at Epoch 200: 92.31%\n",
      "Classification Report at Epoch 200:\n",
      "                  precision    recall  f1-score   support\n",
      "\n",
      "    infringement       1.00      0.86      0.93        65\n",
      "non_infringement       0.85      1.00      0.92        52\n",
      "\n",
      "        accuracy                           0.92       117\n",
      "       macro avg       0.93      0.93      0.92       117\n",
      "    weighted avg       0.93      0.92      0.92       117\n",
      "\n"
     ]
    },
    {
     "name": "stderr",
     "output_type": "stream",
     "text": [
      "Training Epochs:  42%|████▏     | 210/500 [00:33<00:14, 20.00it/s]"
     ]
    },
    {
     "name": "stdout",
     "output_type": "stream",
     "text": [
      "Epoch 210/500, Loss: 0.0072\n",
      "Test Accuracy at Epoch 210: 92.31%\n",
      "Classification Report at Epoch 210:\n",
      "                  precision    recall  f1-score   support\n",
      "\n",
      "    infringement       1.00      0.86      0.93        65\n",
      "non_infringement       0.85      1.00      0.92        52\n",
      "\n",
      "        accuracy                           0.92       117\n",
      "       macro avg       0.93      0.93      0.92       117\n",
      "    weighted avg       0.93      0.92      0.92       117\n",
      "\n"
     ]
    },
    {
     "name": "stderr",
     "output_type": "stream",
     "text": [
      "Training Epochs:  44%|████▍     | 219/500 [00:37<00:59,  4.73it/s]"
     ]
    },
    {
     "name": "stdout",
     "output_type": "stream",
     "text": [
      "Epoch 220/500, Loss: 0.0072\n",
      "Test Accuracy at Epoch 220: 92.31%\n",
      "Classification Report at Epoch 220:\n",
      "                  precision    recall  f1-score   support\n",
      "\n",
      "    infringement       1.00      0.86      0.93        65\n",
      "non_infringement       0.85      1.00      0.92        52\n",
      "\n",
      "        accuracy                           0.92       117\n",
      "       macro avg       0.93      0.93      0.92       117\n",
      "    weighted avg       0.93      0.92      0.92       117\n",
      "\n"
     ]
    },
    {
     "name": "stderr",
     "output_type": "stream",
     "text": [
      "Training Epochs:  46%|████▌     | 230/500 [00:42<01:53,  2.37it/s]"
     ]
    },
    {
     "name": "stdout",
     "output_type": "stream",
     "text": [
      "Epoch 230/500, Loss: 0.0068\n",
      "Test Accuracy at Epoch 230: 92.31%\n",
      "Classification Report at Epoch 230:\n",
      "                  precision    recall  f1-score   support\n",
      "\n",
      "    infringement       1.00      0.86      0.93        65\n",
      "non_infringement       0.85      1.00      0.92        52\n",
      "\n",
      "        accuracy                           0.92       117\n",
      "       macro avg       0.93      0.93      0.92       117\n",
      "    weighted avg       0.93      0.92      0.92       117\n",
      "\n"
     ]
    },
    {
     "name": "stderr",
     "output_type": "stream",
     "text": [
      "Training Epochs:  48%|████▊     | 240/500 [00:46<01:59,  2.18it/s]"
     ]
    },
    {
     "name": "stdout",
     "output_type": "stream",
     "text": [
      "Epoch 240/500, Loss: 0.0068\n",
      "Test Accuracy at Epoch 240: 92.31%\n",
      "Classification Report at Epoch 240:\n",
      "                  precision    recall  f1-score   support\n",
      "\n",
      "    infringement       1.00      0.86      0.93        65\n",
      "non_infringement       0.85      1.00      0.92        52\n",
      "\n",
      "        accuracy                           0.92       117\n",
      "       macro avg       0.93      0.93      0.92       117\n",
      "    weighted avg       0.93      0.92      0.92       117\n",
      "\n"
     ]
    },
    {
     "name": "stderr",
     "output_type": "stream",
     "text": [
      "Training Epochs:  50%|█████     | 250/500 [00:51<01:44,  2.38it/s]"
     ]
    },
    {
     "name": "stdout",
     "output_type": "stream",
     "text": [
      "Epoch 250/500, Loss: 0.0078\n",
      "Test Accuracy at Epoch 250: 92.31%\n",
      "Classification Report at Epoch 250:\n",
      "                  precision    recall  f1-score   support\n",
      "\n",
      "    infringement       1.00      0.86      0.93        65\n",
      "non_infringement       0.85      1.00      0.92        52\n",
      "\n",
      "        accuracy                           0.92       117\n",
      "       macro avg       0.93      0.93      0.92       117\n",
      "    weighted avg       0.93      0.92      0.92       117\n",
      "\n"
     ]
    },
    {
     "name": "stderr",
     "output_type": "stream",
     "text": [
      "Training Epochs:  52%|█████▏    | 260/500 [00:54<01:28,  2.72it/s]"
     ]
    },
    {
     "name": "stdout",
     "output_type": "stream",
     "text": [
      "Epoch 260/500, Loss: 0.0079\n",
      "Test Accuracy at Epoch 260: 92.31%\n",
      "Classification Report at Epoch 260:\n",
      "                  precision    recall  f1-score   support\n",
      "\n",
      "    infringement       1.00      0.86      0.93        65\n",
      "non_infringement       0.85      1.00      0.92        52\n",
      "\n",
      "        accuracy                           0.92       117\n",
      "       macro avg       0.93      0.93      0.92       117\n",
      "    weighted avg       0.93      0.92      0.92       117\n",
      "\n"
     ]
    },
    {
     "name": "stderr",
     "output_type": "stream",
     "text": [
      "Training Epochs:  55%|█████▍    | 273/500 [00:55<00:15, 14.50it/s]"
     ]
    },
    {
     "name": "stdout",
     "output_type": "stream",
     "text": [
      "Epoch 270/500, Loss: 0.0078\n",
      "Test Accuracy at Epoch 270: 92.31%\n",
      "Classification Report at Epoch 270:\n",
      "                  precision    recall  f1-score   support\n",
      "\n",
      "    infringement       1.00      0.86      0.93        65\n",
      "non_infringement       0.85      1.00      0.92        52\n",
      "\n",
      "        accuracy                           0.92       117\n",
      "       macro avg       0.93      0.93      0.92       117\n",
      "    weighted avg       0.93      0.92      0.92       117\n",
      "\n"
     ]
    },
    {
     "name": "stderr",
     "output_type": "stream",
     "text": [
      "Training Epochs:  56%|█████▌    | 279/500 [00:56<00:24,  8.92it/s]"
     ]
    },
    {
     "name": "stdout",
     "output_type": "stream",
     "text": [
      "Epoch 280/500, Loss: 0.0076\n",
      "Test Accuracy at Epoch 280: 92.31%\n",
      "Classification Report at Epoch 280:\n",
      "                  precision    recall  f1-score   support\n",
      "\n",
      "    infringement       1.00      0.86      0.93        65\n",
      "non_infringement       0.85      1.00      0.92        52\n",
      "\n",
      "        accuracy                           0.92       117\n",
      "       macro avg       0.93      0.93      0.92       117\n",
      "    weighted avg       0.93      0.92      0.92       117\n",
      "\n"
     ]
    },
    {
     "name": "stderr",
     "output_type": "stream",
     "text": [
      "Training Epochs:  58%|█████▊    | 289/500 [00:58<00:42,  5.00it/s]"
     ]
    },
    {
     "name": "stdout",
     "output_type": "stream",
     "text": [
      "Epoch 290/500, Loss: 0.0071\n",
      "Test Accuracy at Epoch 290: 90.60%\n",
      "Classification Report at Epoch 290:\n",
      "                  precision    recall  f1-score   support\n",
      "\n",
      "    infringement       0.97      0.86      0.91        65\n",
      "non_infringement       0.85      0.96      0.90        52\n",
      "\n",
      "        accuracy                           0.91       117\n",
      "       macro avg       0.91      0.91      0.91       117\n",
      "    weighted avg       0.91      0.91      0.91       117\n",
      "\n"
     ]
    },
    {
     "name": "stderr",
     "output_type": "stream",
     "text": [
      "Training Epochs:  60%|██████    | 300/500 [01:00<00:42,  4.72it/s]"
     ]
    },
    {
     "name": "stdout",
     "output_type": "stream",
     "text": [
      "Epoch 300/500, Loss: 0.0071\n",
      "Test Accuracy at Epoch 300: 92.31%\n",
      "Classification Report at Epoch 300:\n",
      "                  precision    recall  f1-score   support\n",
      "\n",
      "    infringement       1.00      0.86      0.93        65\n",
      "non_infringement       0.85      1.00      0.92        52\n",
      "\n",
      "        accuracy                           0.92       117\n",
      "       macro avg       0.93      0.93      0.92       117\n",
      "    weighted avg       0.93      0.92      0.92       117\n",
      "\n"
     ]
    },
    {
     "name": "stderr",
     "output_type": "stream",
     "text": [
      "Training Epochs:  62%|██████▏   | 312/500 [01:02<00:17, 10.50it/s]"
     ]
    },
    {
     "name": "stdout",
     "output_type": "stream",
     "text": [
      "Epoch 310/500, Loss: 0.0073\n",
      "Test Accuracy at Epoch 310: 90.60%\n",
      "Classification Report at Epoch 310:\n",
      "                  precision    recall  f1-score   support\n",
      "\n",
      "    infringement       0.97      0.86      0.91        65\n",
      "non_infringement       0.85      0.96      0.90        52\n",
      "\n",
      "        accuracy                           0.91       117\n",
      "       macro avg       0.91      0.91      0.91       117\n",
      "    weighted avg       0.91      0.91      0.91       117\n",
      "\n"
     ]
    },
    {
     "name": "stderr",
     "output_type": "stream",
     "text": [
      "Training Epochs:  64%|██████▍   | 319/500 [01:04<00:40,  4.44it/s]"
     ]
    },
    {
     "name": "stdout",
     "output_type": "stream",
     "text": [
      "Epoch 320/500, Loss: 0.0073\n",
      "Test Accuracy at Epoch 320: 92.31%\n",
      "Classification Report at Epoch 320:\n",
      "                  precision    recall  f1-score   support\n",
      "\n",
      "    infringement       1.00      0.86      0.93        65\n",
      "non_infringement       0.85      1.00      0.92        52\n",
      "\n",
      "        accuracy                           0.92       117\n",
      "       macro avg       0.93      0.93      0.92       117\n",
      "    weighted avg       0.93      0.92      0.92       117\n",
      "\n"
     ]
    },
    {
     "name": "stderr",
     "output_type": "stream",
     "text": [
      "Training Epochs:  66%|██████▌   | 330/500 [01:08<01:12,  2.35it/s]"
     ]
    },
    {
     "name": "stdout",
     "output_type": "stream",
     "text": [
      "Epoch 330/500, Loss: 0.0069\n",
      "Test Accuracy at Epoch 330: 90.60%\n",
      "Classification Report at Epoch 330:\n",
      "                  precision    recall  f1-score   support\n",
      "\n",
      "    infringement       0.97      0.86      0.91        65\n",
      "non_infringement       0.85      0.96      0.90        52\n",
      "\n",
      "        accuracy                           0.91       117\n",
      "       macro avg       0.91      0.91      0.91       117\n",
      "    weighted avg       0.91      0.91      0.91       117\n",
      "\n"
     ]
    },
    {
     "name": "stderr",
     "output_type": "stream",
     "text": [
      "Training Epochs:  68%|██████▊   | 340/500 [01:10<00:31,  5.08it/s]"
     ]
    },
    {
     "name": "stdout",
     "output_type": "stream",
     "text": [
      "Epoch 340/500, Loss: 0.0068\n",
      "Test Accuracy at Epoch 340: 92.31%\n",
      "Classification Report at Epoch 340:\n",
      "                  precision    recall  f1-score   support\n",
      "\n",
      "    infringement       1.00      0.86      0.93        65\n",
      "non_infringement       0.85      1.00      0.92        52\n",
      "\n",
      "        accuracy                           0.92       117\n",
      "       macro avg       0.93      0.93      0.92       117\n",
      "    weighted avg       0.93      0.92      0.92       117\n",
      "\n"
     ]
    },
    {
     "name": "stderr",
     "output_type": "stream",
     "text": [
      "Training Epochs:  70%|███████   | 350/500 [01:14<01:04,  2.32it/s]"
     ]
    },
    {
     "name": "stdout",
     "output_type": "stream",
     "text": [
      "Epoch 350/500, Loss: 0.0069\n",
      "Test Accuracy at Epoch 350: 90.60%\n",
      "Classification Report at Epoch 350:\n",
      "                  precision    recall  f1-score   support\n",
      "\n",
      "    infringement       0.97      0.86      0.91        65\n",
      "non_infringement       0.85      0.96      0.90        52\n",
      "\n",
      "        accuracy                           0.91       117\n",
      "       macro avg       0.91      0.91      0.91       117\n",
      "    weighted avg       0.91      0.91      0.91       117\n",
      "\n"
     ]
    },
    {
     "name": "stderr",
     "output_type": "stream",
     "text": [
      "Training Epochs:  72%|███████▏  | 360/500 [01:19<01:03,  2.21it/s]"
     ]
    },
    {
     "name": "stdout",
     "output_type": "stream",
     "text": [
      "Epoch 360/500, Loss: 0.0068\n",
      "Test Accuracy at Epoch 360: 92.31%\n",
      "Classification Report at Epoch 360:\n",
      "                  precision    recall  f1-score   support\n",
      "\n",
      "    infringement       1.00      0.86      0.93        65\n",
      "non_infringement       0.85      1.00      0.92        52\n",
      "\n",
      "        accuracy                           0.92       117\n",
      "       macro avg       0.93      0.93      0.92       117\n",
      "    weighted avg       0.93      0.92      0.92       117\n",
      "\n"
     ]
    },
    {
     "name": "stderr",
     "output_type": "stream",
     "text": [
      "Training Epochs:  74%|███████▍  | 370/500 [01:22<00:24,  5.35it/s]"
     ]
    },
    {
     "name": "stdout",
     "output_type": "stream",
     "text": [
      "Epoch 370/500, Loss: 0.0067\n",
      "Test Accuracy at Epoch 370: 90.60%\n",
      "Classification Report at Epoch 370:\n",
      "                  precision    recall  f1-score   support\n",
      "\n",
      "    infringement       0.97      0.86      0.91        65\n",
      "non_infringement       0.85      0.96      0.90        52\n",
      "\n",
      "        accuracy                           0.91       117\n",
      "       macro avg       0.91      0.91      0.91       117\n",
      "    weighted avg       0.91      0.91      0.91       117\n",
      "\n"
     ]
    },
    {
     "name": "stderr",
     "output_type": "stream",
     "text": [
      "Training Epochs:  76%|███████▌  | 380/500 [01:26<00:42,  2.82it/s]"
     ]
    },
    {
     "name": "stdout",
     "output_type": "stream",
     "text": [
      "Epoch 380/500, Loss: 0.0067\n",
      "Test Accuracy at Epoch 380: 92.31%\n",
      "Classification Report at Epoch 380:\n",
      "                  precision    recall  f1-score   support\n",
      "\n",
      "    infringement       1.00      0.86      0.93        65\n",
      "non_infringement       0.85      1.00      0.92        52\n",
      "\n",
      "        accuracy                           0.92       117\n",
      "       macro avg       0.93      0.93      0.92       117\n",
      "    weighted avg       0.93      0.92      0.92       117\n",
      "\n"
     ]
    },
    {
     "name": "stderr",
     "output_type": "stream",
     "text": [
      "Training Epochs:  78%|███████▊  | 390/500 [01:30<00:52,  2.10it/s]"
     ]
    },
    {
     "name": "stdout",
     "output_type": "stream",
     "text": [
      "Epoch 390/500, Loss: 0.0067\n",
      "Test Accuracy at Epoch 390: 90.60%\n",
      "Classification Report at Epoch 390:\n",
      "                  precision    recall  f1-score   support\n",
      "\n",
      "    infringement       0.97      0.86      0.91        65\n",
      "non_infringement       0.85      0.96      0.90        52\n",
      "\n",
      "        accuracy                           0.91       117\n",
      "       macro avg       0.91      0.91      0.91       117\n",
      "    weighted avg       0.91      0.91      0.91       117\n",
      "\n"
     ]
    },
    {
     "name": "stderr",
     "output_type": "stream",
     "text": [
      "Training Epochs:  82%|████████▏ | 411/500 [01:33<00:05, 17.08it/s]"
     ]
    },
    {
     "name": "stdout",
     "output_type": "stream",
     "text": [
      "Epoch 400/500, Loss: 0.0066\n",
      "Test Accuracy at Epoch 400: 92.31%\n",
      "Classification Report at Epoch 400:\n",
      "                  precision    recall  f1-score   support\n",
      "\n",
      "    infringement       1.00      0.86      0.93        65\n",
      "non_infringement       0.85      1.00      0.92        52\n",
      "\n",
      "        accuracy                           0.92       117\n",
      "       macro avg       0.93      0.93      0.92       117\n",
      "    weighted avg       0.93      0.92      0.92       117\n",
      "\n",
      "Epoch 410/500, Loss: 0.0066\n",
      "Test Accuracy at Epoch 410: 90.60%\n",
      "Classification Report at Epoch 410:\n",
      "                  precision    recall  f1-score   support\n",
      "\n",
      "    infringement       0.97      0.86      0.91        65\n",
      "non_infringement       0.85      0.96      0.90        52\n",
      "\n",
      "        accuracy                           0.91       117\n",
      "       macro avg       0.91      0.91      0.91       117\n",
      "    weighted avg       0.91      0.91      0.91       117\n",
      "\n"
     ]
    },
    {
     "name": "stderr",
     "output_type": "stream",
     "text": [
      "Training Epochs:  86%|████████▋ | 432/500 [01:34<00:01, 40.89it/s]"
     ]
    },
    {
     "name": "stdout",
     "output_type": "stream",
     "text": [
      "Epoch 420/500, Loss: 0.0066\n",
      "Test Accuracy at Epoch 420: 92.31%\n",
      "Classification Report at Epoch 420:\n",
      "                  precision    recall  f1-score   support\n",
      "\n",
      "    infringement       1.00      0.86      0.93        65\n",
      "non_infringement       0.85      1.00      0.92        52\n",
      "\n",
      "        accuracy                           0.92       117\n",
      "       macro avg       0.93      0.93      0.92       117\n",
      "    weighted avg       0.93      0.92      0.92       117\n",
      "\n",
      "Epoch 430/500, Loss: 0.0067\n",
      "Test Accuracy at Epoch 430: 90.60%\n",
      "Classification Report at Epoch 430:\n",
      "                  precision    recall  f1-score   support\n",
      "\n",
      "    infringement       0.97      0.86      0.91        65\n",
      "non_infringement       0.85      0.96      0.90        52\n",
      "\n",
      "        accuracy                           0.91       117\n",
      "       macro avg       0.91      0.91      0.91       117\n",
      "    weighted avg       0.91      0.91      0.91       117\n",
      "\n"
     ]
    },
    {
     "name": "stderr",
     "output_type": "stream",
     "text": [
      "Training Epochs:  89%|████████▉ | 447/500 [01:34<00:01, 42.55it/s]"
     ]
    },
    {
     "name": "stdout",
     "output_type": "stream",
     "text": [
      "Epoch 440/500, Loss: 0.0067\n",
      "Test Accuracy at Epoch 440: 92.31%\n",
      "Classification Report at Epoch 440:\n",
      "                  precision    recall  f1-score   support\n",
      "\n",
      "    infringement       1.00      0.86      0.93        65\n",
      "non_infringement       0.85      1.00      0.92        52\n",
      "\n",
      "        accuracy                           0.92       117\n",
      "       macro avg       0.93      0.93      0.92       117\n",
      "    weighted avg       0.93      0.92      0.92       117\n",
      "\n",
      "Epoch 450/500, Loss: 0.0066\n",
      "Test Accuracy at Epoch 450: 90.60%\n",
      "Classification Report at Epoch 450:\n",
      "                  precision    recall  f1-score   support\n",
      "\n",
      "    infringement       0.97      0.86      0.91        65\n",
      "non_infringement       0.85      0.96      0.90        52\n",
      "\n",
      "        accuracy                           0.91       117\n",
      "       macro avg       0.91      0.91      0.91       117\n",
      "    weighted avg       0.91      0.91      0.91       117\n",
      "\n"
     ]
    },
    {
     "name": "stderr",
     "output_type": "stream",
     "text": [
      "Training Epochs:  95%|█████████▌| 476/500 [01:34<00:00, 68.81it/s]"
     ]
    },
    {
     "name": "stdout",
     "output_type": "stream",
     "text": [
      "Epoch 460/500, Loss: 0.0068\n",
      "Test Accuracy at Epoch 460: 92.31%\n",
      "Classification Report at Epoch 460:\n",
      "                  precision    recall  f1-score   support\n",
      "\n",
      "    infringement       1.00      0.86      0.93        65\n",
      "non_infringement       0.85      1.00      0.92        52\n",
      "\n",
      "        accuracy                           0.92       117\n",
      "       macro avg       0.93      0.93      0.92       117\n",
      "    weighted avg       0.93      0.92      0.92       117\n",
      "\n",
      "Epoch 470/500, Loss: 0.0066\n",
      "Test Accuracy at Epoch 470: 90.60%\n",
      "Classification Report at Epoch 470:\n",
      "                  precision    recall  f1-score   support\n",
      "\n",
      "    infringement       0.97      0.86      0.91        65\n",
      "non_infringement       0.85      0.96      0.90        52\n",
      "\n",
      "        accuracy                           0.91       117\n",
      "       macro avg       0.91      0.91      0.91       117\n",
      "    weighted avg       0.91      0.91      0.91       117\n",
      "\n",
      "Epoch 480/500, Loss: 0.0070\n",
      "Test Accuracy at Epoch 480: 92.31%\n"
     ]
    },
    {
     "name": "stderr",
     "output_type": "stream",
     "text": [
      "Training Epochs:  97%|█████████▋| 486/500 [01:34<00:00, 74.46it/s]"
     ]
    },
    {
     "name": "stdout",
     "output_type": "stream",
     "text": [
      "Classification Report at Epoch 480:\n",
      "                  precision    recall  f1-score   support\n",
      "\n",
      "    infringement       1.00      0.86      0.93        65\n",
      "non_infringement       0.85      1.00      0.92        52\n",
      "\n",
      "        accuracy                           0.92       117\n",
      "       macro avg       0.93      0.93      0.92       117\n",
      "    weighted avg       0.93      0.92      0.92       117\n",
      "\n",
      "Epoch 490/500, Loss: 0.0068\n",
      "Test Accuracy at Epoch 490: 90.60%\n",
      "Classification Report at Epoch 490:\n",
      "                  precision    recall  f1-score   support\n",
      "\n",
      "    infringement       0.97      0.86      0.91        65\n",
      "non_infringement       0.85      0.96      0.90        52\n",
      "\n",
      "        accuracy                           0.91       117\n",
      "       macro avg       0.91      0.91      0.91       117\n",
      "    weighted avg       0.91      0.91      0.91       117\n",
      "\n"
     ]
    },
    {
     "name": "stderr",
     "output_type": "stream",
     "text": [
      "Training Epochs: 100%|██████████| 500/500 [01:35<00:00,  5.26it/s]\n",
      "/tmp/ipykernel_2978741/1033092828.py:47: FutureWarning: You are using `torch.load` with `weights_only=False` (the current default value), which uses the default pickle module implicitly. It is possible to construct malicious pickle data which will execute arbitrary code during unpickling (See https://github.com/pytorch/pytorch/blob/main/SECURITY.md#untrusted-models for more details). In a future release, the default value for `weights_only` will be flipped to `True`. This limits the functions that could be executed during unpickling. Arbitrary objects will no longer be allowed to be loaded via this mode unless they are explicitly allowlisted by the user via `torch.serialization.add_safe_globals`. We recommend you start setting `weights_only=True` for any use case where you don't have full control of the loaded file. Please open an issue on GitHub for any issues related to this experimental feature.\n",
      "  custom_mlp.load_state_dict(torch.load(checkpoint_path))\n"
     ]
    },
    {
     "name": "stdout",
     "output_type": "stream",
     "text": [
      "Epoch 500/500, Loss: 0.0073\n",
      "Test Accuracy at Epoch 500: 92.31%\n",
      "Classification Report at Epoch 500:\n",
      "                  precision    recall  f1-score   support\n",
      "\n",
      "    infringement       1.00      0.86      0.93        65\n",
      "non_infringement       0.85      1.00      0.92        52\n",
      "\n",
      "        accuracy                           0.92       117\n",
      "       macro avg       0.93      0.93      0.92       117\n",
      "    weighted avg       0.93      0.92      0.92       117\n",
      "\n"
     ]
    },
    {
     "data": {
      "image/png": "[encoded data removed]",
      "text/plain": [
       "<Figure size 1000x500 with 1 Axes>"
      ]
     },
     "metadata": {},
     "output_type": "display_data"
    },
    {
     "name": "stdout",
     "output_type": "stream",
     "text": [
      "Final Model Accuracy: 92.31%\n"
     ]
    }
   ],
   "source": [
    "input_dim = X_train.shape[1]\n",
    "hidden_dim = 256 \n",
    "print(f\"Training MLP model with input_dim={input_dim} and hidden_dim={hidden_dim}\")\n",
    "\n",
    "custom_mlp, losses, best_accuracy = train_model(X_train, y_train, X_test, y_test, input_dim, hidden_dim)"
   ]
  },
  {
   "cell_type": "code",
   "execution_count": 12,
   "metadata": {},
   "outputs": [
    {
     "name": "stdout",
     "output_type": "stream",
     "text": [
      "Checkpoint saved to '/home/guangwei/LLM-COPYRIGHT/copyright_newVersion/models/train_input_reference_last_layer_TSNE_original.pth'.\n"
     ]
    }
   ],
   "source": [
    "def save_checkpoint(model, optimizer, epoch, loss, filepath):\n",
    "    checkpoint = {\n",
    "        'epoch': epoch + 1,\n",
    "        'model_state_dict': model.state_dict(),\n",
    "        'optimizer_state_dict': optimizer.state_dict(),\n",
    "        'loss': loss\n",
    "    }\n",
    "    torch.save(checkpoint, filepath)\n",
    "    print(f\"Checkpoint saved to '{filepath}'.\")\n",
    "\n",
    "save_checkpoint(custom_mlp, torch.optim.Adam(custom_mlp.parameters()), len(losses), losses[-1], checkpoint_file)"
   ]
  },
  {
   "cell_type": "code",
   "execution_count": 13,
   "metadata": {},
   "outputs": [
    {
     "name": "stdout",
     "output_type": "stream",
     "text": [
      "                  precision    recall  f1-score   support\n",
      "\n",
      "    infringement       1.00      0.86      0.93        65\n",
      "non_infringement       0.85      1.00      0.92        52\n",
      "\n",
      "        accuracy                           0.92       117\n",
      "       macro avg       0.93      0.93      0.92       117\n",
      "    weighted avg       0.93      0.92      0.92       117\n",
      "\n"
     ]
    },
    {
     "name": "stderr",
     "output_type": "stream",
     "text": [
      "/tmp/ipykernel_2978741/2137335780.py:1: UserWarning: To copy construct from a tensor, it is recommended to use sourceTensor.clone().detach() or sourceTensor.clone().detach().requires_grad_(True), rather than torch.tensor(sourceTensor).\n",
      "  y_pred_final = (torch.sigmoid(torch.tensor(custom_mlp(torch.tensor(X_test, dtype=torch.float32)))) > 0.5).float().numpy()\n"
     ]
    }
   ],
   "source": [
    "y_pred_final = (torch.sigmoid(torch.tensor(custom_mlp(torch.tensor(X_test, dtype=torch.float32)))) > 0.5).float().numpy()\n",
    "print(classification_report(y_test, y_pred_final, target_names=[\"infringement\", \"non_infringement\"]))"
   ]
  },
  {
   "cell_type": "code",
   "execution_count": 14,
   "metadata": {},
   "outputs": [
    {
     "name": "stderr",
     "output_type": "stream",
     "text": [
      "huggingface/tokenizers: The current process just got forked, after parallelism has already been used. Disabling parallelism to avoid deadlocks...\n",
      "To disable this warning, you can either:\n",
      "\t- Avoid using `tokenizers` before the fork if possible\n",
      "\t- Explicitly set the environment variable TOKENIZERS_PARALLELISM=(true | false)\n",
      "huggingface/tokenizers: The current process just got forked, after parallelism has already been used. Disabling parallelism to avoid deadlocks...\n",
      "To disable this warning, you can either:\n",
      "\t- Avoid using `tokenizers` before the fork if possible\n",
      "\t- Explicitly set the environment variable TOKENIZERS_PARALLELISM=(true | false)\n"
     ]
    },
    {
     "data": {
      "image/png": "[encoded data removed]",
      "text/plain": [
       "<Figure size 1000x500 with 1 Axes>"
      ]
     },
     "metadata": {},
     "output_type": "display_data"
    }
   ],
   "source": [
    "import numpy as np\n",
    "import torch\n",
    "from sklearn.manifold import TSNE\n",
    "import matplotlib.pyplot as plt\n",
    "\n",
    "# t-SNE 降维\n",
    "tsne = TSNE(n_components=2, random_state=42)\n",
    "hidden_states_tsne = tsne.fit_transform(X_non_infringement)\n",
    "reference_embeddings_tsne = tsne.fit_transform(reference_embeddings_non_infringement)\n",
    "\n",
    "# 绘制 internal states 和 reference embeddings，使用不同颜色区分\n",
    "plt.figure(figsize=(10, 5))\n",
    "\n",
    "# 绘制 internal states (蓝色)\n",
    "plt.scatter(hidden_states_tsne[:, 0], hidden_states_tsne[:, 1], c='blue', label='Internal States')\n",
    "\n",
    "# 绘制 reference embeddings (红色)\n",
    "plt.scatter(reference_embeddings_tsne[:, 0], reference_embeddings_tsne[:, 1], c='red', label='Reference Embeddings')\n",
    "\n",
    "plt.title(\"t-SNE of Internal States and Reference Embeddings\")\n",
    "plt.legend()\n",
    "\n",
    "plt.show()\n",
    "\n",
    "# # 计算欧氏距离和余弦相似度\n",
    "# from sklearn.metrics.pairwise import cosine_similarity, euclidean_distances\n",
    "\n",
    "# euclidean_dist = euclidean_distances(reference_embeddings_non_infringement, X_non_infringement_combined)\n",
    "# cosine_sim = cosine_similarity(reference_embeddings_non_infringement, X_non_infringement_combined)\n",
    "\n",
    "# print(\"Euclidean Distance Matrix Shape: \", euclidean_dist.shape)\n",
    "# print(\"Cosine Similarity Matrix Shape: \", cosine_sim.shape)\n"
   ]
  }
 ],
 "metadata": {
  "kernelspec": {
   "display_name": "sit",
   "language": "python",
   "name": "python3"
  },
  "language_info": {
   "codemirror_mode": {
    "name": "ipython",
    "version": 3
   },
   "file_extension": ".py",
   "mimetype": "text/x-python",
   "name": "python",
   "nbconvert_exporter": "python",
   "pygments_lexer": "ipython3",
   "version": "3.8.20"
  }
 },
 "nbformat": 4,
 "nbformat_minor": 2
}
