{
 "cells": [
  {
   "cell_type": "code",
   "execution_count": 9,
   "metadata": {},
   "outputs": [],
   "source": [
    "# import packages & variables\n",
    "import argparse\n",
    "import torch\n",
    "import torch.nn as nn\n",
    "import numpy as np\n",
    "from sklearn.metrics import accuracy_score, classification_report\n",
    "import matplotlib.pyplot as plt\n",
    "from tqdm import tqdm\n",
    "from transformers import AutoTokenizer, AutoModelForCausalLM, AutoModel\n",
    "import json\n",
    "\n",
    "# Parameters\n",
    "model_name = 'meta-llama/Meta-Llama-3.1-8B'\n",
    "non_infringement_file = '/home/guangwei/LLM-COPYRIGHT/copyright_newVersion/test_division/extra.non_infringement.json'\n",
    "infringement_file = '/home/guangwei/LLM-COPYRIGHT/copyright_newVersion/test_division/extra.infringement.json'\n",
    "checkpoint_file = '/home/guangwei/LLM-COPYRIGHT/copyright_newVersion/models/train_input_reference_last_layer_DimensionalityReduce.pth'\n"
   ]
  },
  {
   "cell_type": "code",
   "execution_count": 10,
   "metadata": {},
   "outputs": [],
   "source": [
    "# Define CustumMLP for internal states train\n",
    "class CustomMLP(nn.Module):\n",
    "    def __init__(self, input_dim, hidden_dim):\n",
    "        super(CustomMLP, self).__init__()\n",
    "        self.down = nn.Linear(input_dim, hidden_dim)\n",
    "        self.gate = nn.Linear(input_dim, hidden_dim)\n",
    "        self.up = nn.Linear(hidden_dim, 1)\n",
    "        self.activation = nn.SiLU()\n",
    "\n",
    "    def forward(self, x):\n",
    "        down_output = self.down(x)\n",
    "        gate_output = self.gate(x)\n",
    "        gated_output = down_output * self.activation(gate_output)\n",
    "        return self.up(gated_output)"
   ]
  },
  {
   "cell_type": "code",
   "execution_count": 11,
   "metadata": {},
   "outputs": [],
   "source": [
    "class DimensionalityReducer(nn.Module):\n",
    "    def __init__(self, input_dim, output_dim):\n",
    "        super(DimensionalityReducer, self).__init__()\n",
    "        self.linear = nn.Linear(input_dim, output_dim)\n",
    "\n",
    "    def forward(self, x):\n",
    "        return self.linear(x)"
   ]
  },
  {
   "cell_type": "code",
   "execution_count": 12,
   "metadata": {},
   "outputs": [],
   "source": [
    "# Extract hidden states/reference embeddings\n",
    "def extract_hidden_states(texts, model, tokenizer, batch_size=128):\n",
    "    hidden_states = []\n",
    "    for i in tqdm(range(0, len(texts), batch_size), desc=\"Processing data batches\"):\n",
    "        batch_texts = texts[i:i + batch_size]\n",
    "        inputs = tokenizer(batch_texts, return_tensors=\"pt\", padding=True, truncation=True)\n",
    "        with torch.no_grad():\n",
    "            outputs = model(**inputs)\n",
    "        hidden_states.append(outputs.hidden_states[-1].mean(dim=1).cpu().numpy())\n",
    "    return np.vstack(hidden_states)\n",
    "\n",
    "def extract_reference_embeddings(references, model, tokenizer, batch_size=128):\n",
    "    embeddings = []\n",
    "    for i in tqdm(range(0, len(references), batch_size), desc=\"Processing references\"):\n",
    "        batch_references = references[i:i + batch_size]\n",
    "        inputs = tokenizer(batch_references, return_tensors=\"pt\", padding=True, truncation=True)\n",
    "        with torch.no_grad():\n",
    "            outputs = model(**inputs)\n",
    "        embeddings.append(outputs.pooler_output.cpu().numpy())\n",
    "    return np.vstack(embeddings)"
   ]
  },
  {
   "cell_type": "code",
   "execution_count": 13,
   "metadata": {},
   "outputs": [],
   "source": [
    "# load data for infringement & non infringement\n",
    "def load_data(non_infringement_file, infringement_file):\n",
    "    with open(non_infringement_file, 'r', encoding='utf-8') as file:\n",
    "        non_infringement_json_data = json.load(file)\n",
    "\n",
    "    non_infringement_outputs = [entry['input'] for entry in non_infringement_json_data]\n",
    "    non_infringement_references = [entry['reference'] for entry in non_infringement_json_data]\n",
    "    y_non_infringement = [1] * len(non_infringement_outputs)\n",
    "\n",
    "    with open(infringement_file, 'r', encoding='utf-8') as file:\n",
    "        infringement_json_data = json.load(file)\n",
    "\n",
    "    infringement_outputs = [entry['input'] for entry in infringement_json_data]\n",
    "    infringement_references = [entry['reference'] for entry in infringement_json_data]\n",
    "    y_infringement = [0] * len(infringement_outputs)\n",
    "\n",
    "    return non_infringement_outputs, non_infringement_references, y_non_infringement, infringement_outputs, infringement_references, y_infringement"
   ]
  },
  {
   "cell_type": "code",
   "execution_count": 14,
   "metadata": {},
   "outputs": [],
   "source": [
    "# Train for best model\n",
    "def train_model(X_train, y_train, X_test, y_test, input_dim, hidden_dim, epochs=500, lr=0.001, checkpoint_path=checkpoint_file):\n",
    "    custom_mlp = CustomMLP(input_dim, hidden_dim)\n",
    "    criterion = nn.BCEWithLogitsLoss()\n",
    "    optimizer = torch.optim.Adam(custom_mlp.parameters(), lr=lr)\n",
    "\n",
    "    X_train_tensor = torch.tensor(X_train, dtype=torch.float32)\n",
    "    y_train_tensor = torch.tensor(y_train, dtype=torch.float32).unsqueeze(1)\n",
    "\n",
    "    best_accuracy = -float('inf')\n",
    "    best_model_state = None\n",
    "    best_epoch = 0\n",
    "    losses = []\n",
    "\n",
    "    for epoch in tqdm(range(epochs), desc=\"Training Epochs\"):\n",
    "        custom_mlp.train()\n",
    "        optimizer.zero_grad()\n",
    "        outputs = custom_mlp(X_train_tensor)\n",
    "        loss = criterion(outputs, y_train_tensor)\n",
    "        loss.backward()\n",
    "        optimizer.step()\n",
    "        losses.append(loss.item())\n",
    "\n",
    "        if (epoch + 1) % 10 == 0:\n",
    "            print(f\"Epoch {epoch + 1}/{epochs}, Loss: {loss.item():.4f}\")\n",
    "            \n",
    "            custom_mlp.eval()\n",
    "            X_test_tensor = torch.tensor(X_test, dtype=torch.float32)\n",
    "            with torch.no_grad():\n",
    "                y_pred_logits = custom_mlp(X_test_tensor)\n",
    "                y_pred = (torch.sigmoid(y_pred_logits) > 0.5).float().numpy()\n",
    "            \n",
    "            accuracy = accuracy_score(y_test, y_pred)\n",
    "            print(f\"Test Accuracy at Epoch {epoch + 1}: {accuracy * 100:.2f}%\")\n",
    "            \n",
    "            report = classification_report(y_test, y_pred, target_names=[\"infringement\", \"non_infringement\"])\n",
    "            print(f\"Classification Report at Epoch {epoch + 1}:\\n{report}\")\n",
    "\n",
    "            if accuracy > best_accuracy:\n",
    "                best_accuracy = accuracy\n",
    "                best_model_state = custom_mlp.state_dict()\n",
    "                best_epoch = epoch + 1\n",
    "                torch.save(best_model_state, checkpoint_path)\n",
    "                print(f\"New best model saved with accuracy {best_accuracy * 100:.2f}% at epoch {best_epoch}\")\n",
    "                print(f\"Best Classification Report at Epoch {best_epoch}:\\n{report}\")\n",
    "\n",
    "    custom_mlp.load_state_dict(torch.load(checkpoint_path))\n",
    "\n",
    "    plt.figure(figsize=(10, 5))\n",
    "    plt.plot(losses, label='Training Loss')\n",
    "    plt.xlabel('Epoch')\n",
    "    plt.ylabel('Loss')\n",
    "    plt.title('Training Loss Curve')\n",
    "    plt.legend()\n",
    "    plt.show()\n",
    "\n",
    "    print(f\"Best Model was saved at epoch {best_epoch} with accuracy {best_accuracy * 100:.2f}%\")\n",
    "    print(f\"Best Classification Report {report}\")\n",
    "    return custom_mlp, losses, best_accuracy"
   ]
  },
  {
   "cell_type": "code",
   "execution_count": 15,
   "metadata": {},
   "outputs": [],
   "source": [
    "# def main for reference embedding/train\n",
    "def main(model_name, non_infringement_file, infringement_file, checkpoint_path):\n",
    "    tokenizer = AutoTokenizer.from_pretrained(model_name, model_max_length=512)\n",
    "    model = AutoModelForCausalLM.from_pretrained(model_name, output_hidden_states=True)\n",
    "    tokenizer.pad_token = tokenizer.eos_token\n",
    "    bert_tokenizer = AutoTokenizer.from_pretrained('google-bert/bert-base-uncased')\n",
    "    bert_model = AutoModel.from_pretrained('google-bert/bert-base-uncased')\n",
    "    bert_tokenizer.pad_token = tokenizer.eos_token\n",
    "\n",
    "    non_infringement_outputs, non_infringement_references, y_non_infringement, infringement_outputs, infringement_references, y_infringement = load_data(\n",
    "        non_infringement_file, infringement_file\n",
    "    )\n",
    "\n",
    "    y_non_infringement = np.array(y_non_infringement)\n",
    "    y_infringement = np.array(y_infringement)\n",
    "\n",
    "# dimensionality reducer\n",
    "    print(\"Extracting hidden states for non_infringement texts...\")\n",
    "    X_non_infringement = extract_hidden_states(non_infringement_outputs, model, tokenizer)\n",
    "    print(\"Extracting reference embeddings for non_infringement texts...\")\n",
    "    reference_embeddings_non_infringement = extract_reference_embeddings(non_infringement_references, bert_model, bert_tokenizer)\n",
    "    llama_dim = X_non_infringement.shape[1] \n",
    "    bert_dim = reference_embeddings_non_infringement.shape[1] \n",
    "    target_dim = bert_dim \n",
    "    reducer = DimensionalityReducer(llama_dim, target_dim)\n",
    "    X_non_infringement_reduced = reducer(torch.tensor(X_non_infringement)).detach().numpy()\n",
    "    X_non_infringement_combined = np.hstack([X_non_infringement_reduced, reference_embeddings_non_infringement])\n",
    "\n",
    "    print(\"Extracting hidden states for infringement texts...\")\n",
    "    X_infringement = extract_hidden_states(infringement_outputs, model, tokenizer)\n",
    "    print(\"Extracting reference embeddings for infringement texts...\")\n",
    "    reference_embeddings_infringement = extract_reference_embeddings(infringement_references, bert_model, bert_tokenizer)\n",
    "    llama_dim = X_infringement.shape[1] \n",
    "    bert_dim = reference_embeddings_infringement.shape[1] \n",
    "    target_dim = bert_dim \n",
    "    reducer = DimensionalityReducer(llama_dim, target_dim)\n",
    "    X_infringement_reduced = reducer(torch.tensor(X_infringement)).detach().numpy()\n",
    "    X_infringement_combined = np.hstack([X_infringement_reduced, reference_embeddings_infringement])\n",
    "\n",
    "\n",
    "    split_index_non_infringement = int(0.8 * len(X_non_infringement_combined))\n",
    "    X_non_infringement_train = X_non_infringement_combined[:split_index_non_infringement]\n",
    "    X_non_infringement_test = X_non_infringement_combined[split_index_non_infringement:]\n",
    "    y_non_infringement_train = y_non_infringement[:split_index_non_infringement]\n",
    "    y_non_infringement_test = y_non_infringement[split_index_non_infringement:]\n",
    "\n",
    "    split_index_infringement = int(0.8 * len(X_infringement_combined))\n",
    "    X_infringement_train = X_infringement_combined[:split_index_infringement]\n",
    "    X_infringement_test = X_infringement_combined[split_index_infringement:]\n",
    "    y_infringement_train = y_infringement[:split_index_infringement]\n",
    "    y_infringement_test = y_infringement[split_index_infringement:]\n",
    "\n",
    "    X_train = np.vstack((X_non_infringement_train, X_infringement_train))\n",
    "    X_test = np.vstack((X_non_infringement_test, X_infringement_test))\n",
    "    y_train = np.concatenate((y_non_infringement_train, y_infringement_train))\n",
    "    y_test = np.concatenate((y_non_infringement_test, y_infringement_test))\n",
    "\n",
    "    input_dim = X_train.shape[1]\n",
    "    hidden_dim = 256 \n",
    "    print(f\"Training MLP model with input_dim={input_dim} and hidden_dim={hidden_dim}\")\n",
    "\n",
    "    best_model, losses, best_accuracy = train_model(X_train, y_train, X_test, y_test, input_dim, hidden_dim)\n"
   ]
  },
  {
   "cell_type": "code",
   "execution_count": 16,
   "metadata": {},
   "outputs": [
    {
     "name": "stderr",
     "output_type": "stream",
     "text": [
      "Loading checkpoint shards: 100%|██████████| 4/4 [00:10<00:00,  2.67s/it]\n"
     ]
    },
    {
     "name": "stdout",
     "output_type": "stream",
     "text": [
      "Extracting hidden states for non_infringement texts...\n"
     ]
    },
    {
     "name": "stderr",
     "output_type": "stream",
     "text": [
      "Processing data batches: 100%|██████████| 12/12 [28:53<00:00, 144.48s/it] \n"
     ]
    },
    {
     "name": "stdout",
     "output_type": "stream",
     "text": [
      "Extracting reference embeddings for non_infringement texts...\n"
     ]
    },
    {
     "name": "stderr",
     "output_type": "stream",
     "text": [
      "Processing references: 100%|██████████| 12/12 [01:41<00:00,  8.46s/it]\n"
     ]
    },
    {
     "name": "stdout",
     "output_type": "stream",
     "text": [
      "Extracting hidden states for infringement texts...\n"
     ]
    },
    {
     "name": "stderr",
     "output_type": "stream",
     "text": [
      "Processing data batches: 100%|██████████| 12/12 [28:46<00:00, 143.91s/it] \n"
     ]
    },
    {
     "name": "stdout",
     "output_type": "stream",
     "text": [
      "Extracting reference embeddings for infringement texts...\n"
     ]
    },
    {
     "name": "stderr",
     "output_type": "stream",
     "text": [
      "Processing references: 100%|██████████| 12/12 [00:27<00:00,  2.32s/it]\n"
     ]
    },
    {
     "name": "stdout",
     "output_type": "stream",
     "text": [
      "Training MLP model with input_dim=1536 and hidden_dim=256\n"
     ]
    },
    {
     "name": "stderr",
     "output_type": "stream",
     "text": [
      "Training Epochs:   0%|          | 0/500 [00:00<?, ?it/s]/home/guangwei/anaconda3/envs/sit/lib/python3.8/site-packages/torch/autograd/graph.py:768: UserWarning: CUDA initialization: The NVIDIA driver on your system is too old (found version 11040). Please update your GPU driver by downloading and installing a new version from the URL: http://www.nvidia.com/Download/index.aspx Alternatively, go to: https://pytorch.org to install a PyTorch version that has been compiled with your version of the CUDA driver. (Triggered internally at ../c10/cuda/CUDAFunctions.cpp:108.)\n",
      "  return Variable._execution_engine.run_backward(  # Calls into the C++ engine to run the backward pass\n",
      "Training Epochs:   4%|▍         | 20/500 [00:00<00:09, 48.74it/s]"
     ]
    },
    {
     "name": "stdout",
     "output_type": "stream",
     "text": [
      "Epoch 10/500, Loss: 0.0015\n",
      "Test Accuracy at Epoch 10: 100.00%\n",
      "Classification Report at Epoch 10:\n",
      "                  precision    recall  f1-score   support\n",
      "\n",
      "    infringement       1.00      1.00      1.00       283\n",
      "non_infringement       1.00      1.00      1.00       298\n",
      "\n",
      "        accuracy                           1.00       581\n",
      "       macro avg       1.00      1.00      1.00       581\n",
      "    weighted avg       1.00      1.00      1.00       581\n",
      "\n",
      "New best model saved with accuracy 100.00% at epoch 10\n",
      "Best Classification Report at Epoch 10:\n",
      "                  precision    recall  f1-score   support\n",
      "\n",
      "    infringement       1.00      1.00      1.00       283\n",
      "non_infringement       1.00      1.00      1.00       298\n",
      "\n",
      "        accuracy                           1.00       581\n",
      "       macro avg       1.00      1.00      1.00       581\n",
      "    weighted avg       1.00      1.00      1.00       581\n",
      "\n",
      "Epoch 20/500, Loss: 0.0000\n",
      "Test Accuracy at Epoch 20: 100.00%\n",
      "Classification Report at Epoch 20:\n",
      "                  precision    recall  f1-score   support\n",
      "\n",
      "    infringement       1.00      1.00      1.00       283\n",
      "non_infringement       1.00      1.00      1.00       298\n",
      "\n",
      "        accuracy                           1.00       581\n",
      "       macro avg       1.00      1.00      1.00       581\n",
      "    weighted avg       1.00      1.00      1.00       581\n",
      "\n"
     ]
    },
    {
     "name": "stderr",
     "output_type": "stream",
     "text": [
      "Training Epochs:   8%|▊         | 40/500 [00:00<00:07, 57.65it/s]"
     ]
    },
    {
     "name": "stdout",
     "output_type": "stream",
     "text": [
      "Epoch 30/500, Loss: 0.0000\n",
      "Test Accuracy at Epoch 30: 100.00%\n",
      "Classification Report at Epoch 30:\n",
      "                  precision    recall  f1-score   support\n",
      "\n",
      "    infringement       1.00      1.00      1.00       283\n",
      "non_infringement       1.00      1.00      1.00       298\n",
      "\n",
      "        accuracy                           1.00       581\n",
      "       macro avg       1.00      1.00      1.00       581\n",
      "    weighted avg       1.00      1.00      1.00       581\n",
      "\n",
      "Epoch 40/500, Loss: 0.0000\n",
      "Test Accuracy at Epoch 40: 100.00%\n",
      "Classification Report at Epoch 40:\n",
      "                  precision    recall  f1-score   support\n",
      "\n",
      "    infringement       1.00      1.00      1.00       283\n",
      "non_infringement       1.00      1.00      1.00       298\n",
      "\n",
      "        accuracy                           1.00       581\n",
      "       macro avg       1.00      1.00      1.00       581\n",
      "    weighted avg       1.00      1.00      1.00       581\n",
      "\n"
     ]
    },
    {
     "name": "stderr",
     "output_type": "stream",
     "text": [
      "Training Epochs:  12%|█▏        | 61/500 [00:01<00:07, 61.53it/s]"
     ]
    },
    {
     "name": "stdout",
     "output_type": "stream",
     "text": [
      "Epoch 50/500, Loss: 0.0000\n",
      "Test Accuracy at Epoch 50: 100.00%\n",
      "Classification Report at Epoch 50:\n",
      "                  precision    recall  f1-score   support\n",
      "\n",
      "    infringement       1.00      1.00      1.00       283\n",
      "non_infringement       1.00      1.00      1.00       298\n",
      "\n",
      "        accuracy                           1.00       581\n",
      "       macro avg       1.00      1.00      1.00       581\n",
      "    weighted avg       1.00      1.00      1.00       581\n",
      "\n",
      "Epoch 60/500, Loss: 0.0000\n",
      "Test Accuracy at Epoch 60: 100.00%\n",
      "Classification Report at Epoch 60:\n",
      "                  precision    recall  f1-score   support\n",
      "\n",
      "    infringement       1.00      1.00      1.00       283\n",
      "non_infringement       1.00      1.00      1.00       298\n",
      "\n",
      "        accuracy                           1.00       581\n",
      "       macro avg       1.00      1.00      1.00       581\n",
      "    weighted avg       1.00      1.00      1.00       581\n",
      "\n"
     ]
    },
    {
     "name": "stderr",
     "output_type": "stream",
     "text": [
      "Training Epochs:  15%|█▌        | 76/500 [00:01<00:06, 64.78it/s]"
     ]
    },
    {
     "name": "stdout",
     "output_type": "stream",
     "text": [
      "Epoch 70/500, Loss: 0.0000\n",
      "Test Accuracy at Epoch 70: 100.00%\n",
      "Classification Report at Epoch 70:\n",
      "                  precision    recall  f1-score   support\n",
      "\n",
      "    infringement       1.00      1.00      1.00       283\n",
      "non_infringement       1.00      1.00      1.00       298\n",
      "\n",
      "        accuracy                           1.00       581\n",
      "       macro avg       1.00      1.00      1.00       581\n",
      "    weighted avg       1.00      1.00      1.00       581\n",
      "\n",
      "Epoch 80/500, Loss: 0.0000\n",
      "Test Accuracy at Epoch 80: 100.00%\n",
      "Classification Report at Epoch 80:\n",
      "                  precision    recall  f1-score   support\n",
      "\n",
      "    infringement       1.00      1.00      1.00       283\n",
      "non_infringement       1.00      1.00      1.00       298\n",
      "\n",
      "        accuracy                           1.00       581\n",
      "       macro avg       1.00      1.00      1.00       581\n",
      "    weighted avg       1.00      1.00      1.00       581\n",
      "\n"
     ]
    },
    {
     "name": "stderr",
     "output_type": "stream",
     "text": [
      "Training Epochs:  20%|██        | 100/500 [00:01<00:06, 58.27it/s]"
     ]
    },
    {
     "name": "stdout",
     "output_type": "stream",
     "text": [
      "Epoch 90/500, Loss: 0.0000\n",
      "Test Accuracy at Epoch 90: 100.00%\n",
      "Classification Report at Epoch 90:\n",
      "                  precision    recall  f1-score   support\n",
      "\n",
      "    infringement       1.00      1.00      1.00       283\n",
      "non_infringement       1.00      1.00      1.00       298\n",
      "\n",
      "        accuracy                           1.00       581\n",
      "       macro avg       1.00      1.00      1.00       581\n",
      "    weighted avg       1.00      1.00      1.00       581\n",
      "\n",
      "Epoch 100/500, Loss: 0.0000\n",
      "Test Accuracy at Epoch 100: 100.00%\n",
      "Classification Report at Epoch 100:\n",
      "                  precision    recall  f1-score   support\n",
      "\n",
      "    infringement       1.00      1.00      1.00       283\n",
      "non_infringement       1.00      1.00      1.00       298\n",
      "\n",
      "        accuracy                           1.00       581\n",
      "       macro avg       1.00      1.00      1.00       581\n",
      "    weighted avg       1.00      1.00      1.00       581\n",
      "\n"
     ]
    },
    {
     "name": "stderr",
     "output_type": "stream",
     "text": [
      "Training Epochs:  24%|██▍       | 122/500 [00:02<00:05, 65.33it/s]"
     ]
    },
    {
     "name": "stdout",
     "output_type": "stream",
     "text": [
      "Epoch 110/500, Loss: 0.0000\n",
      "Test Accuracy at Epoch 110: 100.00%\n",
      "Classification Report at Epoch 110:\n",
      "                  precision    recall  f1-score   support\n",
      "\n",
      "    infringement       1.00      1.00      1.00       283\n",
      "non_infringement       1.00      1.00      1.00       298\n",
      "\n",
      "        accuracy                           1.00       581\n",
      "       macro avg       1.00      1.00      1.00       581\n",
      "    weighted avg       1.00      1.00      1.00       581\n",
      "\n",
      "Epoch 120/500, Loss: 0.0000\n",
      "Test Accuracy at Epoch 120: 100.00%\n",
      "Classification Report at Epoch 120:\n",
      "                  precision    recall  f1-score   support\n",
      "\n",
      "    infringement       1.00      1.00      1.00       283\n",
      "non_infringement       1.00      1.00      1.00       298\n",
      "\n",
      "        accuracy                           1.00       581\n",
      "       macro avg       1.00      1.00      1.00       581\n",
      "    weighted avg       1.00      1.00      1.00       581\n",
      "\n"
     ]
    },
    {
     "name": "stderr",
     "output_type": "stream",
     "text": [
      "Training Epochs:  28%|██▊       | 138/500 [00:02<00:05, 69.28it/s]"
     ]
    },
    {
     "name": "stdout",
     "output_type": "stream",
     "text": [
      "Epoch 130/500, Loss: 0.0000\n",
      "Test Accuracy at Epoch 130: 100.00%\n",
      "Classification Report at Epoch 130:\n",
      "                  precision    recall  f1-score   support\n",
      "\n",
      "    infringement       1.00      1.00      1.00       283\n",
      "non_infringement       1.00      1.00      1.00       298\n",
      "\n",
      "        accuracy                           1.00       581\n",
      "       macro avg       1.00      1.00      1.00       581\n",
      "    weighted avg       1.00      1.00      1.00       581\n",
      "\n",
      "Epoch 140/500, Loss: 0.0000\n",
      "Test Accuracy at Epoch 140: 100.00%\n",
      "Classification Report at Epoch 140:\n",
      "                  precision    recall  f1-score   support\n",
      "\n",
      "    infringement       1.00      1.00      1.00       283\n",
      "non_infringement       1.00      1.00      1.00       298\n",
      "\n",
      "        accuracy                           1.00       581\n",
      "       macro avg       1.00      1.00      1.00       581\n",
      "    weighted avg       1.00      1.00      1.00       581\n",
      "\n"
     ]
    },
    {
     "name": "stderr",
     "output_type": "stream",
     "text": [
      "Training Epochs:  29%|██▉       | 146/500 [00:04<00:36,  9.59it/s]"
     ]
    },
    {
     "name": "stdout",
     "output_type": "stream",
     "text": [
      "Epoch 150/500, Loss: 0.0000\n",
      "Test Accuracy at Epoch 150: 100.00%\n",
      "Classification Report at Epoch 150:\n",
      "                  precision    recall  f1-score   support\n",
      "\n",
      "    infringement       1.00      1.00      1.00       283\n",
      "non_infringement       1.00      1.00      1.00       298\n",
      "\n",
      "        accuracy                           1.00       581\n",
      "       macro avg       1.00      1.00      1.00       581\n",
      "    weighted avg       1.00      1.00      1.00       581\n",
      "\n"
     ]
    },
    {
     "name": "stderr",
     "output_type": "stream",
     "text": [
      "Training Epochs:  34%|███▍      | 172/500 [00:10<00:36,  9.09it/s]"
     ]
    },
    {
     "name": "stdout",
     "output_type": "stream",
     "text": [
      "Epoch 160/500, Loss: 0.0000\n",
      "Test Accuracy at Epoch 160: 100.00%\n",
      "Classification Report at Epoch 160:\n",
      "                  precision    recall  f1-score   support\n",
      "\n",
      "    infringement       1.00      1.00      1.00       283\n",
      "non_infringement       1.00      1.00      1.00       298\n",
      "\n",
      "        accuracy                           1.00       581\n",
      "       macro avg       1.00      1.00      1.00       581\n",
      "    weighted avg       1.00      1.00      1.00       581\n",
      "\n",
      "Epoch 170/500, Loss: 0.0000\n",
      "Test Accuracy at Epoch 170: 100.00%\n",
      "Classification Report at Epoch 170:\n",
      "                  precision    recall  f1-score   support\n",
      "\n",
      "    infringement       1.00      1.00      1.00       283\n",
      "non_infringement       1.00      1.00      1.00       298\n",
      "\n",
      "        accuracy                           1.00       581\n",
      "       macro avg       1.00      1.00      1.00       581\n",
      "    weighted avg       1.00      1.00      1.00       581\n",
      "\n"
     ]
    },
    {
     "name": "stderr",
     "output_type": "stream",
     "text": [
      "Training Epochs:  37%|███▋      | 187/500 [00:10<00:17, 17.85it/s]"
     ]
    },
    {
     "name": "stdout",
     "output_type": "stream",
     "text": [
      "Epoch 180/500, Loss: 0.0000\n",
      "Test Accuracy at Epoch 180: 100.00%\n",
      "Classification Report at Epoch 180:\n",
      "                  precision    recall  f1-score   support\n",
      "\n",
      "    infringement       1.00      1.00      1.00       283\n",
      "non_infringement       1.00      1.00      1.00       298\n",
      "\n",
      "        accuracy                           1.00       581\n",
      "       macro avg       1.00      1.00      1.00       581\n",
      "    weighted avg       1.00      1.00      1.00       581\n",
      "\n",
      "Epoch 190/500, Loss: 0.0000\n",
      "Test Accuracy at Epoch 190: 100.00%\n",
      "Classification Report at Epoch 190:\n",
      "                  precision    recall  f1-score   support\n",
      "\n",
      "    infringement       1.00      1.00      1.00       283\n",
      "non_infringement       1.00      1.00      1.00       298\n",
      "\n",
      "        accuracy                           1.00       581\n",
      "       macro avg       1.00      1.00      1.00       581\n",
      "    weighted avg       1.00      1.00      1.00       581\n",
      "\n"
     ]
    },
    {
     "name": "stderr",
     "output_type": "stream",
     "text": [
      "Training Epochs:  42%|████▏     | 210/500 [00:10<00:07, 37.12it/s]"
     ]
    },
    {
     "name": "stdout",
     "output_type": "stream",
     "text": [
      "Epoch 200/500, Loss: 0.0000\n",
      "Test Accuracy at Epoch 200: 100.00%\n",
      "Classification Report at Epoch 200:\n",
      "                  precision    recall  f1-score   support\n",
      "\n",
      "    infringement       1.00      1.00      1.00       283\n",
      "non_infringement       1.00      1.00      1.00       298\n",
      "\n",
      "        accuracy                           1.00       581\n",
      "       macro avg       1.00      1.00      1.00       581\n",
      "    weighted avg       1.00      1.00      1.00       581\n",
      "\n",
      "Epoch 210/500, Loss: 0.0000\n",
      "Test Accuracy at Epoch 210: 100.00%\n",
      "Classification Report at Epoch 210:\n",
      "                  precision    recall  f1-score   support\n",
      "\n",
      "    infringement       1.00      1.00      1.00       283\n",
      "non_infringement       1.00      1.00      1.00       298\n",
      "\n",
      "        accuracy                           1.00       581\n",
      "       macro avg       1.00      1.00      1.00       581\n",
      "    weighted avg       1.00      1.00      1.00       581\n",
      "\n"
     ]
    },
    {
     "name": "stderr",
     "output_type": "stream",
     "text": [
      "Training Epochs:  47%|████▋     | 234/500 [00:11<00:04, 57.24it/s]"
     ]
    },
    {
     "name": "stdout",
     "output_type": "stream",
     "text": [
      "Epoch 220/500, Loss: 0.0000\n",
      "Test Accuracy at Epoch 220: 100.00%\n",
      "Classification Report at Epoch 220:\n",
      "                  precision    recall  f1-score   support\n",
      "\n",
      "    infringement       1.00      1.00      1.00       283\n",
      "non_infringement       1.00      1.00      1.00       298\n",
      "\n",
      "        accuracy                           1.00       581\n",
      "       macro avg       1.00      1.00      1.00       581\n",
      "    weighted avg       1.00      1.00      1.00       581\n",
      "\n",
      "Epoch 230/500, Loss: 0.0000\n",
      "Test Accuracy at Epoch 230: 100.00%\n",
      "Classification Report at Epoch 230:\n",
      "                  precision    recall  f1-score   support\n",
      "\n",
      "    infringement       1.00      1.00      1.00       283\n",
      "non_infringement       1.00      1.00      1.00       298\n",
      "\n",
      "        accuracy                           1.00       581\n",
      "       macro avg       1.00      1.00      1.00       581\n",
      "    weighted avg       1.00      1.00      1.00       581\n",
      "\n"
     ]
    },
    {
     "name": "stderr",
     "output_type": "stream",
     "text": [
      "Training Epochs:  50%|█████     | 250/500 [00:11<00:03, 65.35it/s]"
     ]
    },
    {
     "name": "stdout",
     "output_type": "stream",
     "text": [
      "Epoch 240/500, Loss: 0.0000\n",
      "Test Accuracy at Epoch 240: 100.00%\n",
      "Classification Report at Epoch 240:\n",
      "                  precision    recall  f1-score   support\n",
      "\n",
      "    infringement       1.00      1.00      1.00       283\n",
      "non_infringement       1.00      1.00      1.00       298\n",
      "\n",
      "        accuracy                           1.00       581\n",
      "       macro avg       1.00      1.00      1.00       581\n",
      "    weighted avg       1.00      1.00      1.00       581\n",
      "\n",
      "Epoch 250/500, Loss: 0.0000\n",
      "Test Accuracy at Epoch 250: 100.00%\n",
      "Classification Report at Epoch 250:\n",
      "                  precision    recall  f1-score   support\n",
      "\n",
      "    infringement       1.00      1.00      1.00       283\n",
      "non_infringement       1.00      1.00      1.00       298\n",
      "\n",
      "        accuracy                           1.00       581\n",
      "       macro avg       1.00      1.00      1.00       581\n",
      "    weighted avg       1.00      1.00      1.00       581\n",
      "\n"
     ]
    },
    {
     "name": "stderr",
     "output_type": "stream",
     "text": [
      "Training Epochs:  55%|█████▌    | 276/500 [00:11<00:03, 74.63it/s]"
     ]
    },
    {
     "name": "stdout",
     "output_type": "stream",
     "text": [
      "Epoch 260/500, Loss: 0.0000\n",
      "Test Accuracy at Epoch 260: 100.00%\n",
      "Classification Report at Epoch 260:\n",
      "                  precision    recall  f1-score   support\n",
      "\n",
      "    infringement       1.00      1.00      1.00       283\n",
      "non_infringement       1.00      1.00      1.00       298\n",
      "\n",
      "        accuracy                           1.00       581\n",
      "       macro avg       1.00      1.00      1.00       581\n",
      "    weighted avg       1.00      1.00      1.00       581\n",
      "\n",
      "Epoch 270/500, Loss: 0.0000\n",
      "Test Accuracy at Epoch 270: 100.00%\n",
      "Classification Report at Epoch 270:\n",
      "                  precision    recall  f1-score   support\n",
      "\n",
      "    infringement       1.00      1.00      1.00       283\n",
      "non_infringement       1.00      1.00      1.00       298\n",
      "\n",
      "        accuracy                           1.00       581\n",
      "       macro avg       1.00      1.00      1.00       581\n",
      "    weighted avg       1.00      1.00      1.00       581\n",
      "\n"
     ]
    },
    {
     "name": "stderr",
     "output_type": "stream",
     "text": [
      "Training Epochs:  58%|█████▊    | 292/500 [00:11<00:02, 74.26it/s]"
     ]
    },
    {
     "name": "stdout",
     "output_type": "stream",
     "text": [
      "Epoch 280/500, Loss: 0.0000\n",
      "Test Accuracy at Epoch 280: 100.00%\n",
      "Classification Report at Epoch 280:\n",
      "                  precision    recall  f1-score   support\n",
      "\n",
      "    infringement       1.00      1.00      1.00       283\n",
      "non_infringement       1.00      1.00      1.00       298\n",
      "\n",
      "        accuracy                           1.00       581\n",
      "       macro avg       1.00      1.00      1.00       581\n",
      "    weighted avg       1.00      1.00      1.00       581\n",
      "\n",
      "Epoch 290/500, Loss: 0.0000\n",
      "Test Accuracy at Epoch 290: 100.00%\n",
      "Classification Report at Epoch 290:\n",
      "                  precision    recall  f1-score   support\n",
      "\n",
      "    infringement       1.00      1.00      1.00       283\n",
      "non_infringement       1.00      1.00      1.00       298\n",
      "\n",
      "        accuracy                           1.00       581\n",
      "       macro avg       1.00      1.00      1.00       581\n",
      "    weighted avg       1.00      1.00      1.00       581\n",
      "\n"
     ]
    },
    {
     "name": "stderr",
     "output_type": "stream",
     "text": [
      "Training Epochs:  62%|██████▏   | 309/500 [00:12<00:02, 76.68it/s]"
     ]
    },
    {
     "name": "stdout",
     "output_type": "stream",
     "text": [
      "Epoch 300/500, Loss: 0.0000\n",
      "Test Accuracy at Epoch 300: 100.00%\n",
      "Classification Report at Epoch 300:\n",
      "                  precision    recall  f1-score   support\n",
      "\n",
      "    infringement       1.00      1.00      1.00       283\n",
      "non_infringement       1.00      1.00      1.00       298\n",
      "\n",
      "        accuracy                           1.00       581\n",
      "       macro avg       1.00      1.00      1.00       581\n",
      "    weighted avg       1.00      1.00      1.00       581\n",
      "\n",
      "Epoch 310/500, Loss: 0.0000\n",
      "Test Accuracy at Epoch 310: 100.00%\n",
      "Classification Report at Epoch 310:\n",
      "                  precision    recall  f1-score   support\n",
      "\n",
      "    infringement       1.00      1.00      1.00       283\n",
      "non_infringement       1.00      1.00      1.00       298\n",
      "\n",
      "        accuracy                           1.00       581\n",
      "       macro avg       1.00      1.00      1.00       581\n",
      "    weighted avg       1.00      1.00      1.00       581\n",
      "\n"
     ]
    },
    {
     "name": "stderr",
     "output_type": "stream",
     "text": [
      "Training Epochs:  67%|██████▋   | 333/500 [00:12<00:02, 78.02it/s]"
     ]
    },
    {
     "name": "stdout",
     "output_type": "stream",
     "text": [
      "Epoch 320/500, Loss: 0.0000\n",
      "Test Accuracy at Epoch 320: 100.00%\n",
      "Classification Report at Epoch 320:\n",
      "                  precision    recall  f1-score   support\n",
      "\n",
      "    infringement       1.00      1.00      1.00       283\n",
      "non_infringement       1.00      1.00      1.00       298\n",
      "\n",
      "        accuracy                           1.00       581\n",
      "       macro avg       1.00      1.00      1.00       581\n",
      "    weighted avg       1.00      1.00      1.00       581\n",
      "\n",
      "Epoch 330/500, Loss: 0.0000\n",
      "Test Accuracy at Epoch 330: 100.00%\n",
      "Classification Report at Epoch 330:\n",
      "                  precision    recall  f1-score   support\n",
      "\n",
      "    infringement       1.00      1.00      1.00       283\n",
      "non_infringement       1.00      1.00      1.00       298\n",
      "\n",
      "        accuracy                           1.00       581\n",
      "       macro avg       1.00      1.00      1.00       581\n",
      "    weighted avg       1.00      1.00      1.00       581\n",
      "\n"
     ]
    },
    {
     "name": "stderr",
     "output_type": "stream",
     "text": [
      "Training Epochs:  70%|███████   | 350/500 [00:12<00:01, 79.08it/s]"
     ]
    },
    {
     "name": "stdout",
     "output_type": "stream",
     "text": [
      "Epoch 340/500, Loss: 0.0000\n",
      "Test Accuracy at Epoch 340: 100.00%\n",
      "Classification Report at Epoch 340:\n",
      "                  precision    recall  f1-score   support\n",
      "\n",
      "    infringement       1.00      1.00      1.00       283\n",
      "non_infringement       1.00      1.00      1.00       298\n",
      "\n",
      "        accuracy                           1.00       581\n",
      "       macro avg       1.00      1.00      1.00       581\n",
      "    weighted avg       1.00      1.00      1.00       581\n",
      "\n",
      "Epoch 350/500, Loss: 0.0000\n",
      "Test Accuracy at Epoch 350: 100.00%\n",
      "Classification Report at Epoch 350:\n",
      "                  precision    recall  f1-score   support\n",
      "\n",
      "    infringement       1.00      1.00      1.00       283\n",
      "non_infringement       1.00      1.00      1.00       298\n",
      "\n",
      "        accuracy                           1.00       581\n",
      "       macro avg       1.00      1.00      1.00       581\n",
      "    weighted avg       1.00      1.00      1.00       581\n",
      "\n"
     ]
    },
    {
     "name": "stderr",
     "output_type": "stream",
     "text": [
      "Training Epochs:  74%|███████▎  | 368/500 [00:12<00:01, 81.30it/s]"
     ]
    },
    {
     "name": "stdout",
     "output_type": "stream",
     "text": [
      "Epoch 360/500, Loss: 0.0000\n",
      "Test Accuracy at Epoch 360: 100.00%\n",
      "Classification Report at Epoch 360:\n",
      "                  precision    recall  f1-score   support\n",
      "\n",
      "    infringement       1.00      1.00      1.00       283\n",
      "non_infringement       1.00      1.00      1.00       298\n",
      "\n",
      "        accuracy                           1.00       581\n",
      "       macro avg       1.00      1.00      1.00       581\n",
      "    weighted avg       1.00      1.00      1.00       581\n",
      "\n",
      "Epoch 370/500, Loss: 0.0000\n",
      "Test Accuracy at Epoch 370: 100.00%\n",
      "Classification Report at Epoch 370:\n",
      "                  precision    recall  f1-score   support\n",
      "\n",
      "    infringement       1.00      1.00      1.00       283\n",
      "non_infringement       1.00      1.00      1.00       298\n",
      "\n",
      "        accuracy                           1.00       581\n",
      "       macro avg       1.00      1.00      1.00       581\n",
      "    weighted avg       1.00      1.00      1.00       581\n",
      "\n"
     ]
    },
    {
     "name": "stderr",
     "output_type": "stream",
     "text": [
      "Training Epochs:  79%|███████▉  | 394/500 [00:13<00:01, 80.91it/s]"
     ]
    },
    {
     "name": "stdout",
     "output_type": "stream",
     "text": [
      "Epoch 380/500, Loss: 0.0000\n",
      "Test Accuracy at Epoch 380: 100.00%\n",
      "Classification Report at Epoch 380:\n",
      "                  precision    recall  f1-score   support\n",
      "\n",
      "    infringement       1.00      1.00      1.00       283\n",
      "non_infringement       1.00      1.00      1.00       298\n",
      "\n",
      "        accuracy                           1.00       581\n",
      "       macro avg       1.00      1.00      1.00       581\n",
      "    weighted avg       1.00      1.00      1.00       581\n",
      "\n",
      "Epoch 390/500, Loss: 0.0000\n",
      "Test Accuracy at Epoch 390: 100.00%\n",
      "Classification Report at Epoch 390:\n",
      "                  precision    recall  f1-score   support\n",
      "\n",
      "    infringement       1.00      1.00      1.00       283\n",
      "non_infringement       1.00      1.00      1.00       298\n",
      "\n",
      "        accuracy                           1.00       581\n",
      "       macro avg       1.00      1.00      1.00       581\n",
      "    weighted avg       1.00      1.00      1.00       581\n",
      "\n"
     ]
    },
    {
     "name": "stderr",
     "output_type": "stream",
     "text": [
      "Training Epochs:  82%|████████▏ | 412/500 [00:13<00:01, 81.24it/s]"
     ]
    },
    {
     "name": "stdout",
     "output_type": "stream",
     "text": [
      "Epoch 400/500, Loss: 0.0000\n",
      "Test Accuracy at Epoch 400: 100.00%\n",
      "Classification Report at Epoch 400:\n",
      "                  precision    recall  f1-score   support\n",
      "\n",
      "    infringement       1.00      1.00      1.00       283\n",
      "non_infringement       1.00      1.00      1.00       298\n",
      "\n",
      "        accuracy                           1.00       581\n",
      "       macro avg       1.00      1.00      1.00       581\n",
      "    weighted avg       1.00      1.00      1.00       581\n",
      "\n",
      "Epoch 410/500, Loss: 0.0000\n",
      "Test Accuracy at Epoch 410: 100.00%\n",
      "Classification Report at Epoch 410:\n",
      "                  precision    recall  f1-score   support\n",
      "\n",
      "    infringement       1.00      1.00      1.00       283\n",
      "non_infringement       1.00      1.00      1.00       298\n",
      "\n",
      "        accuracy                           1.00       581\n",
      "       macro avg       1.00      1.00      1.00       581\n",
      "    weighted avg       1.00      1.00      1.00       581\n",
      "\n"
     ]
    },
    {
     "name": "stderr",
     "output_type": "stream",
     "text": [
      "Training Epochs:  86%|████████▌ | 430/500 [00:13<00:00, 77.76it/s]"
     ]
    },
    {
     "name": "stdout",
     "output_type": "stream",
     "text": [
      "Epoch 420/500, Loss: 0.0000\n",
      "Test Accuracy at Epoch 420: 100.00%\n",
      "Classification Report at Epoch 420:\n",
      "                  precision    recall  f1-score   support\n",
      "\n",
      "    infringement       1.00      1.00      1.00       283\n",
      "non_infringement       1.00      1.00      1.00       298\n",
      "\n",
      "        accuracy                           1.00       581\n",
      "       macro avg       1.00      1.00      1.00       581\n",
      "    weighted avg       1.00      1.00      1.00       581\n",
      "\n",
      "Epoch 430/500, Loss: 0.0000\n",
      "Test Accuracy at Epoch 430: 100.00%\n",
      "Classification Report at Epoch 430:\n",
      "                  precision    recall  f1-score   support\n",
      "\n",
      "    infringement       1.00      1.00      1.00       283\n",
      "non_infringement       1.00      1.00      1.00       298\n",
      "\n",
      "        accuracy                           1.00       581\n",
      "       macro avg       1.00      1.00      1.00       581\n",
      "    weighted avg       1.00      1.00      1.00       581\n",
      "\n"
     ]
    },
    {
     "name": "stderr",
     "output_type": "stream",
     "text": [
      "Training Epochs:  90%|████████▉ | 448/500 [00:13<00:00, 81.15it/s]"
     ]
    },
    {
     "name": "stdout",
     "output_type": "stream",
     "text": [
      "Epoch 440/500, Loss: 0.0000\n",
      "Test Accuracy at Epoch 440: 100.00%\n",
      "Classification Report at Epoch 440:\n",
      "                  precision    recall  f1-score   support\n",
      "\n",
      "    infringement       1.00      1.00      1.00       283\n",
      "non_infringement       1.00      1.00      1.00       298\n",
      "\n",
      "        accuracy                           1.00       581\n",
      "       macro avg       1.00      1.00      1.00       581\n",
      "    weighted avg       1.00      1.00      1.00       581\n",
      "\n",
      "Epoch 450/500, Loss: 0.0000\n",
      "Test Accuracy at Epoch 450: 100.00%\n",
      "Classification Report at Epoch 450:\n",
      "                  precision    recall  f1-score   support\n",
      "\n",
      "    infringement       1.00      1.00      1.00       283\n",
      "non_infringement       1.00      1.00      1.00       298\n",
      "\n",
      "        accuracy                           1.00       581\n",
      "       macro avg       1.00      1.00      1.00       581\n",
      "    weighted avg       1.00      1.00      1.00       581\n",
      "\n"
     ]
    },
    {
     "name": "stderr",
     "output_type": "stream",
     "text": [
      "Training Epochs:  95%|█████████▌| 475/500 [00:14<00:00, 79.04it/s]"
     ]
    },
    {
     "name": "stdout",
     "output_type": "stream",
     "text": [
      "Epoch 460/500, Loss: 0.0000\n",
      "Test Accuracy at Epoch 460: 100.00%\n",
      "Classification Report at Epoch 460:\n",
      "                  precision    recall  f1-score   support\n",
      "\n",
      "    infringement       1.00      1.00      1.00       283\n",
      "non_infringement       1.00      1.00      1.00       298\n",
      "\n",
      "        accuracy                           1.00       581\n",
      "       macro avg       1.00      1.00      1.00       581\n",
      "    weighted avg       1.00      1.00      1.00       581\n",
      "\n",
      "Epoch 470/500, Loss: 0.0000\n",
      "Test Accuracy at Epoch 470: 100.00%\n",
      "Classification Report at Epoch 470:\n",
      "                  precision    recall  f1-score   support\n",
      "\n",
      "    infringement       1.00      1.00      1.00       283\n",
      "non_infringement       1.00      1.00      1.00       298\n",
      "\n",
      "        accuracy                           1.00       581\n",
      "       macro avg       1.00      1.00      1.00       581\n",
      "    weighted avg       1.00      1.00      1.00       581\n",
      "\n"
     ]
    },
    {
     "name": "stderr",
     "output_type": "stream",
     "text": [
      "Training Epochs:  99%|█████████▊| 493/500 [00:14<00:00, 79.23it/s]"
     ]
    },
    {
     "name": "stdout",
     "output_type": "stream",
     "text": [
      "Epoch 480/500, Loss: 0.0000\n",
      "Test Accuracy at Epoch 480: 100.00%\n",
      "Classification Report at Epoch 480:\n",
      "                  precision    recall  f1-score   support\n",
      "\n",
      "    infringement       1.00      1.00      1.00       283\n",
      "non_infringement       1.00      1.00      1.00       298\n",
      "\n",
      "        accuracy                           1.00       581\n",
      "       macro avg       1.00      1.00      1.00       581\n",
      "    weighted avg       1.00      1.00      1.00       581\n",
      "\n",
      "Epoch 490/500, Loss: 0.0000\n",
      "Test Accuracy at Epoch 490: 100.00%\n",
      "Classification Report at Epoch 490:\n",
      "                  precision    recall  f1-score   support\n",
      "\n",
      "    infringement       1.00      1.00      1.00       283\n",
      "non_infringement       1.00      1.00      1.00       298\n",
      "\n",
      "        accuracy                           1.00       581\n",
      "       macro avg       1.00      1.00      1.00       581\n",
      "    weighted avg       1.00      1.00      1.00       581\n",
      "\n"
     ]
    },
    {
     "name": "stderr",
     "output_type": "stream",
     "text": [
      "Training Epochs: 100%|██████████| 500/500 [00:14<00:00, 34.51it/s]\n",
      "/tmp/ipykernel_1270849/1936902679.py:47: FutureWarning: You are using `torch.load` with `weights_only=False` (the current default value), which uses the default pickle module implicitly. It is possible to construct malicious pickle data which will execute arbitrary code during unpickling (See https://github.com/pytorch/pytorch/blob/main/SECURITY.md#untrusted-models for more details). In a future release, the default value for `weights_only` will be flipped to `True`. This limits the functions that could be executed during unpickling. Arbitrary objects will no longer be allowed to be loaded via this mode unless they are explicitly allowlisted by the user via `torch.serialization.add_safe_globals`. We recommend you start setting `weights_only=True` for any use case where you don't have full control of the loaded file. Please open an issue on GitHub for any issues related to this experimental feature.\n",
      "  custom_mlp.load_state_dict(torch.load(checkpoint_path))\n"
     ]
    },
    {
     "name": "stdout",
     "output_type": "stream",
     "text": [
      "Epoch 500/500, Loss: 0.0000\n",
      "Test Accuracy at Epoch 500: 100.00%\n",
      "Classification Report at Epoch 500:\n",
      "                  precision    recall  f1-score   support\n",
      "\n",
      "    infringement       1.00      1.00      1.00       283\n",
      "non_infringement       1.00      1.00      1.00       298\n",
      "\n",
      "        accuracy                           1.00       581\n",
      "       macro avg       1.00      1.00      1.00       581\n",
      "    weighted avg       1.00      1.00      1.00       581\n",
      "\n"
     ]
    },
    {
     "data": {
      "image/png": "[encoded data removed]",
      "text/plain": [
       "<Figure size 1000x500 with 1 Axes>"
      ]
     },
     "metadata": {},
     "output_type": "display_data"
    },
    {
     "name": "stdout",
     "output_type": "stream",
     "text": [
      "Best Model was saved at epoch 10 with accuracy 100.00%\n",
      "Best Classification Report                   precision    recall  f1-score   support\n",
      "\n",
      "    infringement       1.00      1.00      1.00       283\n",
      "non_infringement       1.00      1.00      1.00       298\n",
      "\n",
      "        accuracy                           1.00       581\n",
      "       macro avg       1.00      1.00      1.00       581\n",
      "    weighted avg       1.00      1.00      1.00       581\n",
      "\n"
     ]
    }
   ],
   "source": [
    "\n",
    "# Run main\n",
    "main(model_name, non_infringement_file, infringement_file, checkpoint_file)\n",
    "\n",
    "# 映射维度\n"
   ]
  }
 ],
 "metadata": {
  "kernelspec": {
   "display_name": "sit",
   "language": "python",
   "name": "python3"
  },
  "language_info": {
   "codemirror_mode": {
    "name": "ipython",
    "version": 3
   },
   "file_extension": ".py",
   "mimetype": "text/x-python",
   "name": "python",
   "nbconvert_exporter": "python",
   "pygments_lexer": "ipython3",
   "version": "3.8.20"
  }
 },
 "nbformat": 4,
 "nbformat_minor": 2
}
