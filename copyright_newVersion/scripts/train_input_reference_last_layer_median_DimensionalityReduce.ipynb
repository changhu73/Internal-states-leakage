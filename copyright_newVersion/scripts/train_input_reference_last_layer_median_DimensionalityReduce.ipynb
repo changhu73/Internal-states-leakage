{
 "cells": [
  {
   "cell_type": "code",
   "execution_count": 17,
   "metadata": {},
   "outputs": [],
   "source": [
    "# import packages & variables\n",
    "import argparse\n",
    "import torch\n",
    "import torch.nn as nn\n",
    "import numpy as np\n",
    "from sklearn.metrics import accuracy_score, classification_report\n",
    "import matplotlib.pyplot as plt\n",
    "from tqdm import tqdm\n",
    "from transformers import AutoTokenizer, AutoModelForCausalLM, AutoModel\n",
    "import json\n",
    "\n",
    "# Parameters\n",
    "model_name = 'meta-llama/Meta-Llama-3.1-8B'\n",
    "non_infringement_file = '/home/guangwei/LLM-COPYRIGHT/copyright_newVersion/test_division/extra.non_infringement.json'\n",
    "infringement_file = '/home/guangwei/LLM-COPYRIGHT/copyright_newVersion/test_division/extra.infringement.json'\n",
    "checkpoint_file = '/home/guangwei/LLM-COPYRIGHT/copyright_newVersion/models/train_input_reference_last_layer_DimensionalityReduce.pth'\n"
   ]
  },
  {
   "cell_type": "code",
   "execution_count": 18,
   "metadata": {},
   "outputs": [],
   "source": [
    "# Define CustumMLP for internal states train\n",
    "class CustomMLP(nn.Module):\n",
    "    def __init__(self, input_dim, hidden_dim):\n",
    "        super(CustomMLP, self).__init__()\n",
    "        self.down = nn.Linear(input_dim, hidden_dim)\n",
    "        self.gate = nn.Linear(input_dim, hidden_dim)\n",
    "        self.up = nn.Linear(hidden_dim, 1)\n",
    "        self.activation = nn.SiLU()\n",
    "\n",
    "    def forward(self, x):\n",
    "        down_output = self.down(x)\n",
    "        gate_output = self.gate(x)\n",
    "        gated_output = down_output * self.activation(gate_output)\n",
    "        return self.up(gated_output)"
   ]
  },
  {
   "cell_type": "code",
   "execution_count": 19,
   "metadata": {},
   "outputs": [],
   "source": [
    "class DimensionalityReducer(nn.Module):\n",
    "    def __init__(self, input_dim, output_dim):\n",
    "        super(DimensionalityReducer, self).__init__()\n",
    "        self.linear = nn.Linear(input_dim, output_dim)\n",
    "\n",
    "    def forward(self, x):\n",
    "        return self.linear(x)"
   ]
  },
  {
   "cell_type": "code",
   "execution_count": 20,
   "metadata": {},
   "outputs": [],
   "source": [
    "# Extract hidden states/reference embeddings\n",
    "def extract_hidden_states(texts, model, tokenizer, batch_size=128):\n",
    "    hidden_states = []\n",
    "    for i in tqdm(range(0, len(texts), batch_size), desc=\"Processing data batches\"):\n",
    "        batch_texts = texts[i:i + batch_size]\n",
    "        inputs = tokenizer(batch_texts, return_tensors=\"pt\", padding=True, truncation=True)\n",
    "        with torch.no_grad():\n",
    "            outputs = model(**inputs)\n",
    "        hidden_states.append(outputs.hidden_states[-1].mean(dim=1).cpu().numpy())\n",
    "    return np.vstack(hidden_states)\n",
    "\n",
    "def extract_reference_embeddings(references, model, tokenizer, batch_size=128):\n",
    "    embeddings = []\n",
    "    for i in tqdm(range(0, len(references), batch_size), desc=\"Processing references\"):\n",
    "        batch_references = references[i:i + batch_size]\n",
    "        inputs = tokenizer(batch_references, return_tensors=\"pt\", padding=True, truncation=True)\n",
    "        with torch.no_grad():\n",
    "            outputs = model(**inputs)\n",
    "        embeddings.append(outputs.pooler_output.cpu().numpy())\n",
    "    return np.vstack(embeddings)"
   ]
  },
  {
   "cell_type": "code",
   "execution_count": 21,
   "metadata": {},
   "outputs": [],
   "source": [
    "# load data for infringement & non infringement\n",
    "def load_data(non_infringement_file, infringement_file):\n",
    "    with open(non_infringement_file, 'r', encoding='utf-8') as file:\n",
    "        non_infringement_json_data = json.load(file)\n",
    "\n",
    "    non_infringement_outputs = [entry['input'] for entry in non_infringement_json_data]\n",
    "    non_infringement_references = [entry['reference'] for entry in non_infringement_json_data]\n",
    "    y_non_infringement = [1] * len(non_infringement_outputs)\n",
    "\n",
    "    with open(infringement_file, 'r', encoding='utf-8') as file:\n",
    "        infringement_json_data = json.load(file)\n",
    "\n",
    "    infringement_outputs = [entry['input'] for entry in infringement_json_data]\n",
    "    infringement_references = [entry['reference'] for entry in infringement_json_data]\n",
    "    y_infringement = [0] * len(infringement_outputs)\n",
    "\n",
    "    return non_infringement_outputs, non_infringement_references, y_non_infringement, infringement_outputs, infringement_references, y_infringement"
   ]
  },
  {
   "cell_type": "code",
   "execution_count": 22,
   "metadata": {},
   "outputs": [],
   "source": [
    "# Train for best model\n",
    "def train_model(X_train, y_train, X_test, y_test, input_dim, hidden_dim, epochs=500, lr=0.001, checkpoint_path=checkpoint_file):\n",
    "    custom_mlp = CustomMLP(input_dim, hidden_dim)\n",
    "    criterion = nn.BCEWithLogitsLoss()\n",
    "    optimizer = torch.optim.Adam(custom_mlp.parameters(), lr=lr)\n",
    "\n",
    "    X_train_tensor = torch.tensor(X_train, dtype=torch.float32)\n",
    "    y_train_tensor = torch.tensor(y_train, dtype=torch.float32).unsqueeze(1)\n",
    "\n",
    "    best_accuracy = -float('inf')\n",
    "    best_model_state = None\n",
    "    best_epoch = 0\n",
    "    losses = []\n",
    "\n",
    "    for epoch in tqdm(range(epochs), desc=\"Training Epochs\"):\n",
    "        custom_mlp.train()\n",
    "        optimizer.zero_grad()\n",
    "        outputs = custom_mlp(X_train_tensor)\n",
    "        loss = criterion(outputs, y_train_tensor)\n",
    "        loss.backward()\n",
    "        optimizer.step()\n",
    "        losses.append(loss.item())\n",
    "\n",
    "        if (epoch + 1) % 10 == 0:\n",
    "            print(f\"Epoch {epoch + 1}/{epochs}, Loss: {loss.item():.4f}\")\n",
    "            \n",
    "            custom_mlp.eval()\n",
    "            X_test_tensor = torch.tensor(X_test, dtype=torch.float32)\n",
    "            with torch.no_grad():\n",
    "                y_pred_logits = custom_mlp(X_test_tensor)\n",
    "                y_pred = (torch.sigmoid(y_pred_logits) > 0.5).float().numpy()\n",
    "            \n",
    "            accuracy = accuracy_score(y_test, y_pred)\n",
    "            print(f\"Test Accuracy at Epoch {epoch + 1}: {accuracy * 100:.2f}%\")\n",
    "            \n",
    "            report = classification_report(y_test, y_pred, target_names=[\"infringement\", \"non_infringement\"])\n",
    "            print(f\"Classification Report at Epoch {epoch + 1}:\\n{report}\")\n",
    "\n",
    "            if accuracy > best_accuracy:\n",
    "                best_accuracy = accuracy\n",
    "                best_model_state = custom_mlp.state_dict()\n",
    "                best_epoch = epoch + 1\n",
    "                torch.save(best_model_state, checkpoint_path)\n",
    "                print(f\"New best model saved with accuracy {best_accuracy * 100:.2f}% at epoch {best_epoch}\")\n",
    "                print(f\"Best Classification Report at Epoch {best_epoch}:\\n{report}\")\n",
    "\n",
    "    custom_mlp.load_state_dict(torch.load(checkpoint_path))\n",
    "\n",
    "    plt.figure(figsize=(10, 5))\n",
    "    plt.plot(losses, label='Training Loss')\n",
    "    plt.xlabel('Epoch')\n",
    "    plt.ylabel('Loss')\n",
    "    plt.title('Training Loss Curve')\n",
    "    plt.legend()\n",
    "    plt.show()\n",
    "\n",
    "    print(f\"Best Model was saved at epoch {best_epoch} with accuracy {best_accuracy * 100:.2f}%\")\n",
    "    print(f\"Best Classification Report {report}\")\n",
    "    return custom_mlp, losses, best_accuracy"
   ]
  },
  {
   "cell_type": "code",
   "execution_count": 23,
   "metadata": {},
   "outputs": [],
   "source": [
    "# def main for reference embedding/train\n",
    "def main(model_name, non_infringement_file, infringement_file, checkpoint_path):\n",
    "    tokenizer = AutoTokenizer.from_pretrained(model_name, model_max_length=512)\n",
    "    model = AutoModelForCausalLM.from_pretrained(model_name, output_hidden_states=True)\n",
    "    tokenizer.pad_token = tokenizer.eos_token\n",
    "    bert_tokenizer = AutoTokenizer.from_pretrained('google-bert/bert-base-uncased')\n",
    "    bert_model = AutoModel.from_pretrained('google-bert/bert-base-uncased')\n",
    "    bert_tokenizer.pad_token = tokenizer.eos_token\n",
    "\n",
    "    non_infringement_outputs, non_infringement_references, y_non_infringement, infringement_outputs, infringement_references, y_infringement = load_data(\n",
    "        non_infringement_file, infringement_file\n",
    "    )\n",
    "\n",
    "    y_non_infringement = np.array(y_non_infringement)\n",
    "    y_infringement = np.array(y_infringement)\n",
    "\n",
    "# dimensionality reducer\n",
    "    print(\"Extracting hidden states for non_infringement texts...\")\n",
    "    X_non_infringement = extract_hidden_states(non_infringement_outputs, model, tokenizer)\n",
    "    print(\"Extracting reference embeddings for non_infringement texts...\")\n",
    "    reference_embeddings_non_infringement = extract_reference_embeddings(non_infringement_references, bert_model, bert_tokenizer)\n",
    "    llama_dim = X_non_infringement.shape[1] \n",
    "    bert_dim = reference_embeddings_non_infringement.shape[1]\n",
    "    reducer = DimensionalityReducer(llama_dim, bert_dim )\n",
    "    X_non_infringement_reduced = reducer(torch.tensor(X_non_infringement)).detach().numpy()\n",
    "    X_non_infringement_combined = np.hstack([X_non_infringement_reduced, reference_embeddings_non_infringement])\n",
    "\n",
    "    print(\"Extracting hidden states for infringement texts...\")\n",
    "    X_infringement = extract_hidden_states(infringement_outputs, model, tokenizer)\n",
    "    print(\"Extracting reference embeddings for infringement texts...\")\n",
    "    reference_embeddings_infringement = extract_reference_embeddings(infringement_references, bert_model, bert_tokenizer)\n",
    "    llama_dim = X_infringement.shape[1]\n",
    "    bert_dim = reference_embeddings_infringement.shape[1] \n",
    "    reducer = DimensionalityReducer(llama_dim, bert_dim)\n",
    "    X_infringement_reduced = reducer(torch.tensor(X_infringement)).detach().numpy()\n",
    "    X_infringement_combined = np.hstack([X_infringement_reduced, reference_embeddings_infringement])\n",
    "\n",
    "    split_index_non_infringement = int(0.8 * len(X_non_infringement_combined))\n",
    "    X_non_infringement_train = X_non_infringement_combined[:split_index_non_infringement]\n",
    "    X_non_infringement_test = X_non_infringement_combined[split_index_non_infringement:]\n",
    "    y_non_infringement_train = y_non_infringement[:split_index_non_infringement]\n",
    "    y_non_infringement_test = y_non_infringement[split_index_non_infringement:]\n",
    "\n",
    "    split_index_infringement = int(0.8 * len(X_infringement_combined))\n",
    "    X_infringement_train = X_infringement_combined[:split_index_infringement]\n",
    "    X_infringement_test = X_infringement_combined[split_index_infringement:]\n",
    "    y_infringement_train = y_infringement[:split_index_infringement]\n",
    "    y_infringement_test = y_infringement[split_index_infringement:]\n",
    "\n",
    "    X_train = np.vstack((X_non_infringement_train, X_infringement_train))\n",
    "    X_test = np.vstack((X_non_infringement_test, X_infringement_test))\n",
    "    y_train = np.concatenate((y_non_infringement_train, y_infringement_train))\n",
    "    y_test = np.concatenate((y_non_infringement_test, y_infringement_test))\n",
    "\n",
    "    input_dim = X_train.shape[1]\n",
    "    hidden_dim = 256 \n",
    "    print(f\"Training MLP model with input_dim={input_dim} and hidden_dim={hidden_dim}\")\n",
    "\n",
    "    best_model, losses, best_accuracy = train_model(X_train, y_train, X_test, y_test, input_dim, hidden_dim)\n"
   ]
  },
  {
   "cell_type": "code",
   "execution_count": null,
   "metadata": {},
   "outputs": [],
   "source": []
  },
  {
   "cell_type": "code",
   "execution_count": 24,
   "metadata": {},
   "outputs": [
    {
     "name": "stderr",
     "output_type": "stream",
     "text": [
      "/home/guangwei/anaconda3/envs/sit/lib/python3.8/site-packages/transformers/generation/configuration_utils.py:777: UserWarning: `return_dict_in_generate` is NOT set to `True`, but `output_hidden_states` is. When `return_dict_in_generate` is not `True`, `output_hidden_states` is ignored.\n",
      "  warnings.warn(\n",
      "Loading checkpoint shards: 100%|██████████| 4/4 [00:08<00:00,  2.15s/it]\n",
      "/home/guangwei/anaconda3/envs/sit/lib/python3.8/site-packages/transformers/tokenization_utils_base.py:1617: FutureWarning: `clean_up_tokenization_spaces` was not set. It will be set to `True` by default. This behavior will be deprecated in transformers v4.45, and will be then set to `False` by default. For more details check this issue: https://github.com/huggingface/transformers/issues/31884\n",
      "  warnings.warn(\n"
     ]
    },
    {
     "name": "stdout",
     "output_type": "stream",
     "text": [
      "Extracting hidden states for non_infringement texts...\n"
     ]
    },
    {
     "name": "stderr",
     "output_type": "stream",
     "text": [
      "Processing data batches: 100%|██████████| 12/12 [2:00:05<00:00, 600.46s/it] \n"
     ]
    },
    {
     "name": "stdout",
     "output_type": "stream",
     "text": [
      "Extracting reference embeddings for non_infringement texts...\n"
     ]
    },
    {
     "name": "stderr",
     "output_type": "stream",
     "text": [
      "Processing references: 100%|██████████| 12/12 [06:37<00:00, 33.16s/it]\n"
     ]
    },
    {
     "name": "stdout",
     "output_type": "stream",
     "text": [
      "Extracting hidden states for infringement texts...\n"
     ]
    },
    {
     "name": "stderr",
     "output_type": "stream",
     "text": [
      "Processing data batches: 100%|██████████| 12/12 [2:13:49<00:00, 669.13s/it]  \n"
     ]
    },
    {
     "name": "stdout",
     "output_type": "stream",
     "text": [
      "Extracting reference embeddings for infringement texts...\n"
     ]
    },
    {
     "name": "stderr",
     "output_type": "stream",
     "text": [
      "Processing references: 100%|██████████| 12/12 [05:14<00:00, 26.23s/it]\n"
     ]
    },
    {
     "name": "stdout",
     "output_type": "stream",
     "text": [
      "Training MLP model with input_dim=1536 and hidden_dim=256\n"
     ]
    },
    {
     "name": "stderr",
     "output_type": "stream",
     "text": [
      "Training Epochs:   2%|▏         | 9/500 [00:12<17:15,  2.11s/it]"
     ]
    },
    {
     "name": "stdout",
     "output_type": "stream",
     "text": [
      "Epoch 10/500, Loss: 0.0014\n",
      "Test Accuracy at Epoch 10: 100.00%\n",
      "Classification Report at Epoch 10:\n",
      "                  precision    recall  f1-score   support\n",
      "\n",
      "    infringement       1.00      1.00      1.00       283\n",
      "non_infringement       1.00      1.00      1.00       298\n",
      "\n",
      "        accuracy                           1.00       581\n",
      "       macro avg       1.00      1.00      1.00       581\n",
      "    weighted avg       1.00      1.00      1.00       581\n",
      "\n"
     ]
    },
    {
     "name": "stderr",
     "output_type": "stream",
     "text": [
      "Training Epochs:   2%|▏         | 10/500 [00:15<20:43,  2.54s/it]"
     ]
    },
    {
     "name": "stdout",
     "output_type": "stream",
     "text": [
      "New best model saved with accuracy 100.00% at epoch 10\n",
      "Best Classification Report at Epoch 10:\n",
      "                  precision    recall  f1-score   support\n",
      "\n",
      "    infringement       1.00      1.00      1.00       283\n",
      "non_infringement       1.00      1.00      1.00       298\n",
      "\n",
      "        accuracy                           1.00       581\n",
      "       macro avg       1.00      1.00      1.00       581\n",
      "    weighted avg       1.00      1.00      1.00       581\n",
      "\n"
     ]
    },
    {
     "name": "stderr",
     "output_type": "stream",
     "text": [
      "Training Epochs:   4%|▍         | 20/500 [00:34<10:41,  1.34s/it]"
     ]
    },
    {
     "name": "stdout",
     "output_type": "stream",
     "text": [
      "Epoch 20/500, Loss: 0.0000\n",
      "Test Accuracy at Epoch 20: 100.00%\n",
      "Classification Report at Epoch 20:\n",
      "                  precision    recall  f1-score   support\n",
      "\n",
      "    infringement       1.00      1.00      1.00       283\n",
      "non_infringement       1.00      1.00      1.00       298\n",
      "\n",
      "        accuracy                           1.00       581\n",
      "       macro avg       1.00      1.00      1.00       581\n",
      "    weighted avg       1.00      1.00      1.00       581\n",
      "\n"
     ]
    },
    {
     "name": "stderr",
     "output_type": "stream",
     "text": [
      "Training Epochs:   6%|▌         | 30/500 [00:42<06:25,  1.22it/s]"
     ]
    },
    {
     "name": "stdout",
     "output_type": "stream",
     "text": [
      "Epoch 30/500, Loss: 0.0000\n",
      "Test Accuracy at Epoch 30: 100.00%\n",
      "Classification Report at Epoch 30:\n",
      "                  precision    recall  f1-score   support\n",
      "\n",
      "    infringement       1.00      1.00      1.00       283\n",
      "non_infringement       1.00      1.00      1.00       298\n",
      "\n",
      "        accuracy                           1.00       581\n",
      "       macro avg       1.00      1.00      1.00       581\n",
      "    weighted avg       1.00      1.00      1.00       581\n",
      "\n"
     ]
    },
    {
     "name": "stderr",
     "output_type": "stream",
     "text": [
      "Training Epochs:   8%|▊         | 40/500 [00:47<04:25,  1.73it/s]"
     ]
    },
    {
     "name": "stdout",
     "output_type": "stream",
     "text": [
      "Epoch 40/500, Loss: 0.0000\n",
      "Test Accuracy at Epoch 40: 100.00%\n",
      "Classification Report at Epoch 40:\n",
      "                  precision    recall  f1-score   support\n",
      "\n",
      "    infringement       1.00      1.00      1.00       283\n",
      "non_infringement       1.00      1.00      1.00       298\n",
      "\n",
      "        accuracy                           1.00       581\n",
      "       macro avg       1.00      1.00      1.00       581\n",
      "    weighted avg       1.00      1.00      1.00       581\n",
      "\n"
     ]
    },
    {
     "name": "stderr",
     "output_type": "stream",
     "text": [
      "Training Epochs:  10%|█         | 50/500 [00:53<04:22,  1.72it/s]"
     ]
    },
    {
     "name": "stdout",
     "output_type": "stream",
     "text": [
      "Epoch 50/500, Loss: 0.0000\n",
      "Test Accuracy at Epoch 50: 100.00%\n",
      "Classification Report at Epoch 50:\n",
      "                  precision    recall  f1-score   support\n",
      "\n",
      "    infringement       1.00      1.00      1.00       283\n",
      "non_infringement       1.00      1.00      1.00       298\n",
      "\n",
      "        accuracy                           1.00       581\n",
      "       macro avg       1.00      1.00      1.00       581\n",
      "    weighted avg       1.00      1.00      1.00       581\n",
      "\n"
     ]
    },
    {
     "name": "stderr",
     "output_type": "stream",
     "text": [
      "Training Epochs:  12%|█▏        | 60/500 [00:59<04:50,  1.52it/s]"
     ]
    },
    {
     "name": "stdout",
     "output_type": "stream",
     "text": [
      "Epoch 60/500, Loss: 0.0000\n",
      "Test Accuracy at Epoch 60: 100.00%\n",
      "Classification Report at Epoch 60:\n",
      "                  precision    recall  f1-score   support\n",
      "\n",
      "    infringement       1.00      1.00      1.00       283\n",
      "non_infringement       1.00      1.00      1.00       298\n",
      "\n",
      "        accuracy                           1.00       581\n",
      "       macro avg       1.00      1.00      1.00       581\n",
      "    weighted avg       1.00      1.00      1.00       581\n",
      "\n"
     ]
    },
    {
     "name": "stderr",
     "output_type": "stream",
     "text": [
      "Training Epochs:  14%|█▍        | 69/500 [01:13<11:12,  1.56s/it]"
     ]
    },
    {
     "name": "stdout",
     "output_type": "stream",
     "text": [
      "Epoch 70/500, Loss: 0.0000\n"
     ]
    },
    {
     "name": "stderr",
     "output_type": "stream",
     "text": [
      "Training Epochs:  14%|█▍        | 70/500 [01:15<12:58,  1.81s/it]"
     ]
    },
    {
     "name": "stdout",
     "output_type": "stream",
     "text": [
      "Test Accuracy at Epoch 70: 100.00%\n",
      "Classification Report at Epoch 70:\n",
      "                  precision    recall  f1-score   support\n",
      "\n",
      "    infringement       1.00      1.00      1.00       283\n",
      "non_infringement       1.00      1.00      1.00       298\n",
      "\n",
      "        accuracy                           1.00       581\n",
      "       macro avg       1.00      1.00      1.00       581\n",
      "    weighted avg       1.00      1.00      1.00       581\n",
      "\n"
     ]
    },
    {
     "name": "stderr",
     "output_type": "stream",
     "text": [
      "Training Epochs:  16%|█▌        | 79/500 [01:36<14:35,  2.08s/it]"
     ]
    },
    {
     "name": "stdout",
     "output_type": "stream",
     "text": [
      "Epoch 80/500, Loss: 0.0000\n",
      "Test Accuracy at Epoch 80: 100.00%\n"
     ]
    },
    {
     "name": "stderr",
     "output_type": "stream",
     "text": [
      "Training Epochs:  16%|█▌        | 80/500 [01:38<14:01,  2.00s/it]"
     ]
    },
    {
     "name": "stdout",
     "output_type": "stream",
     "text": [
      "Classification Report at Epoch 80:\n",
      "                  precision    recall  f1-score   support\n",
      "\n",
      "    infringement       1.00      1.00      1.00       283\n",
      "non_infringement       1.00      1.00      1.00       298\n",
      "\n",
      "        accuracy                           1.00       581\n",
      "       macro avg       1.00      1.00      1.00       581\n",
      "    weighted avg       1.00      1.00      1.00       581\n",
      "\n"
     ]
    },
    {
     "name": "stderr",
     "output_type": "stream",
     "text": [
      "Training Epochs:  18%|█▊        | 90/500 [01:49<07:03,  1.03s/it]"
     ]
    },
    {
     "name": "stdout",
     "output_type": "stream",
     "text": [
      "Epoch 90/500, Loss: 0.0000\n",
      "Test Accuracy at Epoch 90: 100.00%\n",
      "Classification Report at Epoch 90:\n",
      "                  precision    recall  f1-score   support\n",
      "\n",
      "    infringement       1.00      1.00      1.00       283\n",
      "non_infringement       1.00      1.00      1.00       298\n",
      "\n",
      "        accuracy                           1.00       581\n",
      "       macro avg       1.00      1.00      1.00       581\n",
      "    weighted avg       1.00      1.00      1.00       581\n",
      "\n"
     ]
    },
    {
     "name": "stderr",
     "output_type": "stream",
     "text": [
      "Training Epochs:  20%|██        | 100/500 [01:57<04:39,  1.43it/s]"
     ]
    },
    {
     "name": "stdout",
     "output_type": "stream",
     "text": [
      "Epoch 100/500, Loss: 0.0000\n",
      "Test Accuracy at Epoch 100: 100.00%\n",
      "Classification Report at Epoch 100:\n",
      "                  precision    recall  f1-score   support\n",
      "\n",
      "    infringement       1.00      1.00      1.00       283\n",
      "non_infringement       1.00      1.00      1.00       298\n",
      "\n",
      "        accuracy                           1.00       581\n",
      "       macro avg       1.00      1.00      1.00       581\n",
      "    weighted avg       1.00      1.00      1.00       581\n",
      "\n"
     ]
    },
    {
     "name": "stderr",
     "output_type": "stream",
     "text": [
      "Training Epochs:  22%|██▏       | 109/500 [02:14<13:59,  2.15s/it]"
     ]
    },
    {
     "name": "stdout",
     "output_type": "stream",
     "text": [
      "Epoch 110/500, Loss: 0.0000\n"
     ]
    },
    {
     "name": "stderr",
     "output_type": "stream",
     "text": [
      "Training Epochs:  22%|██▏       | 110/500 [02:17<16:11,  2.49s/it]"
     ]
    },
    {
     "name": "stdout",
     "output_type": "stream",
     "text": [
      "Test Accuracy at Epoch 110: 100.00%\n",
      "Classification Report at Epoch 110:\n",
      "                  precision    recall  f1-score   support\n",
      "\n",
      "    infringement       1.00      1.00      1.00       283\n",
      "non_infringement       1.00      1.00      1.00       298\n",
      "\n",
      "        accuracy                           1.00       581\n",
      "       macro avg       1.00      1.00      1.00       581\n",
      "    weighted avg       1.00      1.00      1.00       581\n",
      "\n"
     ]
    },
    {
     "name": "stderr",
     "output_type": "stream",
     "text": [
      "Training Epochs:  24%|██▍       | 119/500 [02:33<08:18,  1.31s/it]"
     ]
    },
    {
     "name": "stdout",
     "output_type": "stream",
     "text": [
      "Epoch 120/500, Loss: 0.0000\n"
     ]
    },
    {
     "name": "stderr",
     "output_type": "stream",
     "text": [
      "Training Epochs:  24%|██▍       | 120/500 [02:34<07:47,  1.23s/it]"
     ]
    },
    {
     "name": "stdout",
     "output_type": "stream",
     "text": [
      "Test Accuracy at Epoch 120: 100.00%\n",
      "Classification Report at Epoch 120:\n",
      "                  precision    recall  f1-score   support\n",
      "\n",
      "    infringement       1.00      1.00      1.00       283\n",
      "non_infringement       1.00      1.00      1.00       298\n",
      "\n",
      "        accuracy                           1.00       581\n",
      "       macro avg       1.00      1.00      1.00       581\n",
      "    weighted avg       1.00      1.00      1.00       581\n",
      "\n"
     ]
    },
    {
     "name": "stderr",
     "output_type": "stream",
     "text": [
      "Training Epochs:  26%|██▌       | 130/500 [02:41<03:59,  1.55it/s]"
     ]
    },
    {
     "name": "stdout",
     "output_type": "stream",
     "text": [
      "Epoch 130/500, Loss: 0.0000\n",
      "Test Accuracy at Epoch 130: 100.00%\n",
      "Classification Report at Epoch 130:\n",
      "                  precision    recall  f1-score   support\n",
      "\n",
      "    infringement       1.00      1.00      1.00       283\n",
      "non_infringement       1.00      1.00      1.00       298\n",
      "\n",
      "        accuracy                           1.00       581\n",
      "       macro avg       1.00      1.00      1.00       581\n",
      "    weighted avg       1.00      1.00      1.00       581\n",
      "\n"
     ]
    },
    {
     "name": "stderr",
     "output_type": "stream",
     "text": [
      "Training Epochs:  28%|██▊       | 140/500 [02:48<03:31,  1.70it/s]"
     ]
    },
    {
     "name": "stdout",
     "output_type": "stream",
     "text": [
      "Epoch 140/500, Loss: 0.0000\n",
      "Test Accuracy at Epoch 140: 100.00%\n",
      "Classification Report at Epoch 140:\n",
      "                  precision    recall  f1-score   support\n",
      "\n",
      "    infringement       1.00      1.00      1.00       283\n",
      "non_infringement       1.00      1.00      1.00       298\n",
      "\n",
      "        accuracy                           1.00       581\n",
      "       macro avg       1.00      1.00      1.00       581\n",
      "    weighted avg       1.00      1.00      1.00       581\n",
      "\n"
     ]
    },
    {
     "name": "stderr",
     "output_type": "stream",
     "text": [
      "Training Epochs:  30%|███       | 150/500 [02:52<02:51,  2.04it/s]"
     ]
    },
    {
     "name": "stdout",
     "output_type": "stream",
     "text": [
      "Epoch 150/500, Loss: 0.0000\n",
      "Test Accuracy at Epoch 150: 100.00%\n",
      "Classification Report at Epoch 150:\n",
      "                  precision    recall  f1-score   support\n",
      "\n",
      "    infringement       1.00      1.00      1.00       283\n",
      "non_infringement       1.00      1.00      1.00       298\n",
      "\n",
      "        accuracy                           1.00       581\n",
      "       macro avg       1.00      1.00      1.00       581\n",
      "    weighted avg       1.00      1.00      1.00       581\n",
      "\n"
     ]
    },
    {
     "name": "stderr",
     "output_type": "stream",
     "text": [
      "Training Epochs:  32%|███▏      | 160/500 [02:57<02:48,  2.01it/s]"
     ]
    },
    {
     "name": "stdout",
     "output_type": "stream",
     "text": [
      "Epoch 160/500, Loss: 0.0000\n",
      "Test Accuracy at Epoch 160: 100.00%\n",
      "Classification Report at Epoch 160:\n",
      "                  precision    recall  f1-score   support\n",
      "\n",
      "    infringement       1.00      1.00      1.00       283\n",
      "non_infringement       1.00      1.00      1.00       298\n",
      "\n",
      "        accuracy                           1.00       581\n",
      "       macro avg       1.00      1.00      1.00       581\n",
      "    weighted avg       1.00      1.00      1.00       581\n",
      "\n"
     ]
    },
    {
     "name": "stderr",
     "output_type": "stream",
     "text": [
      "Training Epochs:  34%|███▍      | 170/500 [03:03<03:16,  1.68it/s]"
     ]
    },
    {
     "name": "stdout",
     "output_type": "stream",
     "text": [
      "Epoch 170/500, Loss: 0.0000\n",
      "Test Accuracy at Epoch 170: 100.00%\n",
      "Classification Report at Epoch 170:\n",
      "                  precision    recall  f1-score   support\n",
      "\n",
      "    infringement       1.00      1.00      1.00       283\n",
      "non_infringement       1.00      1.00      1.00       298\n",
      "\n",
      "        accuracy                           1.00       581\n",
      "       macro avg       1.00      1.00      1.00       581\n",
      "    weighted avg       1.00      1.00      1.00       581\n",
      "\n"
     ]
    },
    {
     "name": "stderr",
     "output_type": "stream",
     "text": [
      "Training Epochs:  36%|███▌      | 179/500 [03:15<08:54,  1.66s/it]"
     ]
    },
    {
     "name": "stdout",
     "output_type": "stream",
     "text": [
      "Epoch 180/500, Loss: 0.0000\n",
      "Test Accuracy at Epoch 180: 100.00%\n",
      "Classification Report at Epoch 180:\n",
      "                  precision    recall  f1-score   support\n",
      "\n",
      "    infringement       1.00      1.00      1.00       283\n",
      "non_infringement       1.00      1.00      1.00       298\n",
      "\n",
      "        accuracy                           1.00       581\n",
      "       macro avg       1.00      1.00      1.00       581\n",
      "    weighted avg       1.00      1.00      1.00       581\n",
      "\n"
     ]
    },
    {
     "name": "stderr",
     "output_type": "stream",
     "text": [
      "Training Epochs:  38%|███▊      | 189/500 [03:32<08:30,  1.64s/it]"
     ]
    },
    {
     "name": "stdout",
     "output_type": "stream",
     "text": [
      "Epoch 190/500, Loss: 0.0000\n",
      "Test Accuracy at Epoch 190: 100.00%\n"
     ]
    },
    {
     "name": "stderr",
     "output_type": "stream",
     "text": [
      "Training Epochs:  38%|███▊      | 190/500 [03:35<10:21,  2.00s/it]"
     ]
    },
    {
     "name": "stdout",
     "output_type": "stream",
     "text": [
      "Classification Report at Epoch 190:\n",
      "                  precision    recall  f1-score   support\n",
      "\n",
      "    infringement       1.00      1.00      1.00       283\n",
      "non_infringement       1.00      1.00      1.00       298\n",
      "\n",
      "        accuracy                           1.00       581\n",
      "       macro avg       1.00      1.00      1.00       581\n",
      "    weighted avg       1.00      1.00      1.00       581\n",
      "\n"
     ]
    },
    {
     "name": "stderr",
     "output_type": "stream",
     "text": [
      "Training Epochs:  40%|███▉      | 199/500 [03:50<06:40,  1.33s/it]"
     ]
    },
    {
     "name": "stdout",
     "output_type": "stream",
     "text": [
      "Epoch 200/500, Loss: 0.0000\n"
     ]
    },
    {
     "name": "stderr",
     "output_type": "stream",
     "text": [
      "Training Epochs:  40%|████      | 200/500 [03:51<07:31,  1.50s/it]"
     ]
    },
    {
     "name": "stdout",
     "output_type": "stream",
     "text": [
      "Test Accuracy at Epoch 200: 100.00%\n",
      "Classification Report at Epoch 200:\n",
      "                  precision    recall  f1-score   support\n",
      "\n",
      "    infringement       1.00      1.00      1.00       283\n",
      "non_infringement       1.00      1.00      1.00       298\n",
      "\n",
      "        accuracy                           1.00       581\n",
      "       macro avg       1.00      1.00      1.00       581\n",
      "    weighted avg       1.00      1.00      1.00       581\n",
      "\n"
     ]
    },
    {
     "name": "stderr",
     "output_type": "stream",
     "text": [
      "Training Epochs:  42%|████▏     | 209/500 [04:11<09:52,  2.04s/it]"
     ]
    },
    {
     "name": "stdout",
     "output_type": "stream",
     "text": [
      "Epoch 210/500, Loss: 0.0000\n"
     ]
    },
    {
     "name": "stderr",
     "output_type": "stream",
     "text": [
      "Training Epochs:  42%|████▏     | 210/500 [04:13<10:30,  2.17s/it]"
     ]
    },
    {
     "name": "stdout",
     "output_type": "stream",
     "text": [
      "Test Accuracy at Epoch 210: 100.00%\n",
      "Classification Report at Epoch 210:\n",
      "                  precision    recall  f1-score   support\n",
      "\n",
      "    infringement       1.00      1.00      1.00       283\n",
      "non_infringement       1.00      1.00      1.00       298\n",
      "\n",
      "        accuracy                           1.00       581\n",
      "       macro avg       1.00      1.00      1.00       581\n",
      "    weighted avg       1.00      1.00      1.00       581\n",
      "\n"
     ]
    },
    {
     "name": "stderr",
     "output_type": "stream",
     "text": [
      "Training Epochs:  44%|████▍     | 220/500 [04:21<03:58,  1.17it/s]"
     ]
    },
    {
     "name": "stdout",
     "output_type": "stream",
     "text": [
      "Epoch 220/500, Loss: 0.0000\n",
      "Test Accuracy at Epoch 220: 100.00%\n",
      "Classification Report at Epoch 220:\n",
      "                  precision    recall  f1-score   support\n",
      "\n",
      "    infringement       1.00      1.00      1.00       283\n",
      "non_infringement       1.00      1.00      1.00       298\n",
      "\n",
      "        accuracy                           1.00       581\n",
      "       macro avg       1.00      1.00      1.00       581\n",
      "    weighted avg       1.00      1.00      1.00       581\n",
      "\n"
     ]
    },
    {
     "name": "stderr",
     "output_type": "stream",
     "text": [
      "Training Epochs:  46%|████▌     | 230/500 [04:27<02:37,  1.71it/s]"
     ]
    },
    {
     "name": "stdout",
     "output_type": "stream",
     "text": [
      "Epoch 230/500, Loss: 0.0000\n",
      "Test Accuracy at Epoch 230: 100.00%\n",
      "Classification Report at Epoch 230:\n",
      "                  precision    recall  f1-score   support\n",
      "\n",
      "    infringement       1.00      1.00      1.00       283\n",
      "non_infringement       1.00      1.00      1.00       298\n",
      "\n",
      "        accuracy                           1.00       581\n",
      "       macro avg       1.00      1.00      1.00       581\n",
      "    weighted avg       1.00      1.00      1.00       581\n",
      "\n"
     ]
    },
    {
     "name": "stderr",
     "output_type": "stream",
     "text": [
      "Training Epochs:  48%|████▊     | 239/500 [04:47<09:07,  2.10s/it]"
     ]
    },
    {
     "name": "stdout",
     "output_type": "stream",
     "text": [
      "Epoch 240/500, Loss: 0.0000\n"
     ]
    },
    {
     "name": "stderr",
     "output_type": "stream",
     "text": [
      "Training Epochs:  48%|████▊     | 240/500 [04:48<08:15,  1.91s/it]"
     ]
    },
    {
     "name": "stdout",
     "output_type": "stream",
     "text": [
      "Test Accuracy at Epoch 240: 100.00%\n",
      "Classification Report at Epoch 240:\n",
      "                  precision    recall  f1-score   support\n",
      "\n",
      "    infringement       1.00      1.00      1.00       283\n",
      "non_infringement       1.00      1.00      1.00       298\n",
      "\n",
      "        accuracy                           1.00       581\n",
      "       macro avg       1.00      1.00      1.00       581\n",
      "    weighted avg       1.00      1.00      1.00       581\n",
      "\n"
     ]
    },
    {
     "name": "stderr",
     "output_type": "stream",
     "text": [
      "Training Epochs:  50%|████▉     | 249/500 [05:09<09:18,  2.22s/it]"
     ]
    },
    {
     "name": "stdout",
     "output_type": "stream",
     "text": [
      "Epoch 250/500, Loss: 0.0000\n",
      "Test Accuracy at Epoch 250: 100.00%\n"
     ]
    },
    {
     "name": "stderr",
     "output_type": "stream",
     "text": [
      "Training Epochs:  50%|█████     | 250/500 [05:12<09:46,  2.35s/it]"
     ]
    },
    {
     "name": "stdout",
     "output_type": "stream",
     "text": [
      "Classification Report at Epoch 250:\n",
      "                  precision    recall  f1-score   support\n",
      "\n",
      "    infringement       1.00      1.00      1.00       283\n",
      "non_infringement       1.00      1.00      1.00       298\n",
      "\n",
      "        accuracy                           1.00       581\n",
      "       macro avg       1.00      1.00      1.00       581\n",
      "    weighted avg       1.00      1.00      1.00       581\n",
      "\n"
     ]
    },
    {
     "name": "stderr",
     "output_type": "stream",
     "text": [
      "Training Epochs:  52%|█████▏    | 260/500 [05:19<01:53,  2.11it/s]"
     ]
    },
    {
     "name": "stdout",
     "output_type": "stream",
     "text": [
      "Epoch 260/500, Loss: 0.0000\n",
      "Test Accuracy at Epoch 260: 100.00%\n",
      "Classification Report at Epoch 260:\n",
      "                  precision    recall  f1-score   support\n",
      "\n",
      "    infringement       1.00      1.00      1.00       283\n",
      "non_infringement       1.00      1.00      1.00       298\n",
      "\n",
      "        accuracy                           1.00       581\n",
      "       macro avg       1.00      1.00      1.00       581\n",
      "    weighted avg       1.00      1.00      1.00       581\n",
      "\n"
     ]
    },
    {
     "name": "stderr",
     "output_type": "stream",
     "text": [
      "Training Epochs:  54%|█████▍    | 270/500 [05:21<00:38,  6.02it/s]"
     ]
    },
    {
     "name": "stdout",
     "output_type": "stream",
     "text": [
      "Epoch 270/500, Loss: 0.0000\n",
      "Test Accuracy at Epoch 270: 100.00%\n",
      "Classification Report at Epoch 270:\n",
      "                  precision    recall  f1-score   support\n",
      "\n",
      "    infringement       1.00      1.00      1.00       283\n",
      "non_infringement       1.00      1.00      1.00       298\n",
      "\n",
      "        accuracy                           1.00       581\n",
      "       macro avg       1.00      1.00      1.00       581\n",
      "    weighted avg       1.00      1.00      1.00       581\n",
      "\n"
     ]
    },
    {
     "name": "stderr",
     "output_type": "stream",
     "text": [
      "Training Epochs:  56%|█████▋    | 282/500 [05:22<00:17, 12.36it/s]"
     ]
    },
    {
     "name": "stdout",
     "output_type": "stream",
     "text": [
      "Epoch 280/500, Loss: 0.0000\n",
      "Test Accuracy at Epoch 280: 100.00%\n",
      "Classification Report at Epoch 280:\n",
      "                  precision    recall  f1-score   support\n",
      "\n",
      "    infringement       1.00      1.00      1.00       283\n",
      "non_infringement       1.00      1.00      1.00       298\n",
      "\n",
      "        accuracy                           1.00       581\n",
      "       macro avg       1.00      1.00      1.00       581\n",
      "    weighted avg       1.00      1.00      1.00       581\n",
      "\n"
     ]
    },
    {
     "name": "stderr",
     "output_type": "stream",
     "text": [
      "Training Epochs:  58%|█████▊    | 291/500 [05:22<00:11, 18.38it/s]"
     ]
    },
    {
     "name": "stdout",
     "output_type": "stream",
     "text": [
      "Epoch 290/500, Loss: 0.0000\n",
      "Test Accuracy at Epoch 290: 100.00%\n",
      "Classification Report at Epoch 290:\n",
      "                  precision    recall  f1-score   support\n",
      "\n",
      "    infringement       1.00      1.00      1.00       283\n",
      "non_infringement       1.00      1.00      1.00       298\n",
      "\n",
      "        accuracy                           1.00       581\n",
      "       macro avg       1.00      1.00      1.00       581\n",
      "    weighted avg       1.00      1.00      1.00       581\n",
      "\n"
     ]
    },
    {
     "name": "stderr",
     "output_type": "stream",
     "text": [
      "Training Epochs:  60%|██████    | 301/500 [05:23<00:14, 14.16it/s]"
     ]
    },
    {
     "name": "stdout",
     "output_type": "stream",
     "text": [
      "Epoch 300/500, Loss: 0.0000\n",
      "Test Accuracy at Epoch 300: 100.00%\n",
      "Classification Report at Epoch 300:\n",
      "                  precision    recall  f1-score   support\n",
      "\n",
      "    infringement       1.00      1.00      1.00       283\n",
      "non_infringement       1.00      1.00      1.00       298\n",
      "\n",
      "        accuracy                           1.00       581\n",
      "       macro avg       1.00      1.00      1.00       581\n",
      "    weighted avg       1.00      1.00      1.00       581\n",
      "\n"
     ]
    },
    {
     "name": "stderr",
     "output_type": "stream",
     "text": [
      "Training Epochs:  62%|██████▏   | 310/500 [05:27<01:18,  2.41it/s]"
     ]
    },
    {
     "name": "stdout",
     "output_type": "stream",
     "text": [
      "Epoch 310/500, Loss: 0.0000\n",
      "Test Accuracy at Epoch 310: 100.00%\n",
      "Classification Report at Epoch 310:\n",
      "                  precision    recall  f1-score   support\n",
      "\n",
      "    infringement       1.00      1.00      1.00       283\n",
      "non_infringement       1.00      1.00      1.00       298\n",
      "\n",
      "        accuracy                           1.00       581\n",
      "       macro avg       1.00      1.00      1.00       581\n",
      "    weighted avg       1.00      1.00      1.00       581\n",
      "\n"
     ]
    },
    {
     "name": "stderr",
     "output_type": "stream",
     "text": [
      "Training Epochs:  64%|██████▍   | 320/500 [05:33<02:05,  1.43it/s]"
     ]
    },
    {
     "name": "stdout",
     "output_type": "stream",
     "text": [
      "Epoch 320/500, Loss: 0.0000\n",
      "Test Accuracy at Epoch 320: 100.00%\n",
      "Classification Report at Epoch 320:\n",
      "                  precision    recall  f1-score   support\n",
      "\n",
      "    infringement       1.00      1.00      1.00       283\n",
      "non_infringement       1.00      1.00      1.00       298\n",
      "\n",
      "        accuracy                           1.00       581\n",
      "       macro avg       1.00      1.00      1.00       581\n",
      "    weighted avg       1.00      1.00      1.00       581\n",
      "\n"
     ]
    },
    {
     "name": "stderr",
     "output_type": "stream",
     "text": [
      "Training Epochs:  66%|██████▌   | 330/500 [05:40<02:05,  1.36it/s]"
     ]
    },
    {
     "name": "stdout",
     "output_type": "stream",
     "text": [
      "Epoch 330/500, Loss: 0.0000\n",
      "Test Accuracy at Epoch 330: 100.00%\n",
      "Classification Report at Epoch 330:\n",
      "                  precision    recall  f1-score   support\n",
      "\n",
      "    infringement       1.00      1.00      1.00       283\n",
      "non_infringement       1.00      1.00      1.00       298\n",
      "\n",
      "        accuracy                           1.00       581\n",
      "       macro avg       1.00      1.00      1.00       581\n",
      "    weighted avg       1.00      1.00      1.00       581\n",
      "\n"
     ]
    },
    {
     "name": "stderr",
     "output_type": "stream",
     "text": [
      "Training Epochs:  68%|██████▊   | 340/500 [05:48<02:03,  1.30it/s]"
     ]
    },
    {
     "name": "stdout",
     "output_type": "stream",
     "text": [
      "Epoch 340/500, Loss: 0.0000\n",
      "Test Accuracy at Epoch 340: 100.00%\n",
      "Classification Report at Epoch 340:\n",
      "                  precision    recall  f1-score   support\n",
      "\n",
      "    infringement       1.00      1.00      1.00       283\n",
      "non_infringement       1.00      1.00      1.00       298\n",
      "\n",
      "        accuracy                           1.00       581\n",
      "       macro avg       1.00      1.00      1.00       581\n",
      "    weighted avg       1.00      1.00      1.00       581\n",
      "\n"
     ]
    },
    {
     "name": "stderr",
     "output_type": "stream",
     "text": [
      "Training Epochs:  70%|███████   | 350/500 [05:54<01:30,  1.66it/s]"
     ]
    },
    {
     "name": "stdout",
     "output_type": "stream",
     "text": [
      "Epoch 350/500, Loss: 0.0000\n",
      "Test Accuracy at Epoch 350: 100.00%\n",
      "Classification Report at Epoch 350:\n",
      "                  precision    recall  f1-score   support\n",
      "\n",
      "    infringement       1.00      1.00      1.00       283\n",
      "non_infringement       1.00      1.00      1.00       298\n",
      "\n",
      "        accuracy                           1.00       581\n",
      "       macro avg       1.00      1.00      1.00       581\n",
      "    weighted avg       1.00      1.00      1.00       581\n",
      "\n"
     ]
    },
    {
     "name": "stderr",
     "output_type": "stream",
     "text": [
      "Training Epochs:  72%|███████▏  | 360/500 [06:00<01:19,  1.76it/s]"
     ]
    },
    {
     "name": "stdout",
     "output_type": "stream",
     "text": [
      "Epoch 360/500, Loss: 0.0000\n",
      "Test Accuracy at Epoch 360: 100.00%\n",
      "Classification Report at Epoch 360:\n",
      "                  precision    recall  f1-score   support\n",
      "\n",
      "    infringement       1.00      1.00      1.00       283\n",
      "non_infringement       1.00      1.00      1.00       298\n",
      "\n",
      "        accuracy                           1.00       581\n",
      "       macro avg       1.00      1.00      1.00       581\n",
      "    weighted avg       1.00      1.00      1.00       581\n",
      "\n"
     ]
    },
    {
     "name": "stderr",
     "output_type": "stream",
     "text": [
      "Training Epochs:  74%|███████▍  | 369/500 [06:09<03:01,  1.38s/it]"
     ]
    },
    {
     "name": "stdout",
     "output_type": "stream",
     "text": [
      "Epoch 370/500, Loss: 0.0000\n"
     ]
    },
    {
     "name": "stderr",
     "output_type": "stream",
     "text": [
      "Training Epochs:  74%|███████▍  | 370/500 [06:12<04:15,  1.97s/it]"
     ]
    },
    {
     "name": "stdout",
     "output_type": "stream",
     "text": [
      "Test Accuracy at Epoch 370: 100.00%\n",
      "Classification Report at Epoch 370:\n",
      "                  precision    recall  f1-score   support\n",
      "\n",
      "    infringement       1.00      1.00      1.00       283\n",
      "non_infringement       1.00      1.00      1.00       298\n",
      "\n",
      "        accuracy                           1.00       581\n",
      "       macro avg       1.00      1.00      1.00       581\n",
      "    weighted avg       1.00      1.00      1.00       581\n",
      "\n"
     ]
    },
    {
     "name": "stderr",
     "output_type": "stream",
     "text": [
      "Training Epochs:  76%|███████▌  | 379/500 [06:30<03:18,  1.64s/it]"
     ]
    },
    {
     "name": "stdout",
     "output_type": "stream",
     "text": [
      "Epoch 380/500, Loss: 0.0000\n"
     ]
    },
    {
     "name": "stderr",
     "output_type": "stream",
     "text": [
      "Training Epochs:  76%|███████▌  | 380/500 [06:32<03:42,  1.85s/it]"
     ]
    },
    {
     "name": "stdout",
     "output_type": "stream",
     "text": [
      "Test Accuracy at Epoch 380: 100.00%\n",
      "Classification Report at Epoch 380:\n",
      "                  precision    recall  f1-score   support\n",
      "\n",
      "    infringement       1.00      1.00      1.00       283\n",
      "non_infringement       1.00      1.00      1.00       298\n",
      "\n",
      "        accuracy                           1.00       581\n",
      "       macro avg       1.00      1.00      1.00       581\n",
      "    weighted avg       1.00      1.00      1.00       581\n",
      "\n"
     ]
    },
    {
     "name": "stderr",
     "output_type": "stream",
     "text": [
      "Training Epochs:  78%|███████▊  | 390/500 [06:39<00:47,  2.30it/s]"
     ]
    },
    {
     "name": "stdout",
     "output_type": "stream",
     "text": [
      "Epoch 390/500, Loss: 0.0000\n",
      "Test Accuracy at Epoch 390: 100.00%\n",
      "Classification Report at Epoch 390:\n",
      "                  precision    recall  f1-score   support\n",
      "\n",
      "    infringement       1.00      1.00      1.00       283\n",
      "non_infringement       1.00      1.00      1.00       298\n",
      "\n",
      "        accuracy                           1.00       581\n",
      "       macro avg       1.00      1.00      1.00       581\n",
      "    weighted avg       1.00      1.00      1.00       581\n",
      "\n"
     ]
    },
    {
     "name": "stderr",
     "output_type": "stream",
     "text": [
      "Training Epochs:  81%|████████  | 403/500 [06:41<00:08, 10.82it/s]"
     ]
    },
    {
     "name": "stdout",
     "output_type": "stream",
     "text": [
      "Epoch 400/500, Loss: 0.0000\n",
      "Test Accuracy at Epoch 400: 100.00%\n",
      "Classification Report at Epoch 400:\n",
      "                  precision    recall  f1-score   support\n",
      "\n",
      "    infringement       1.00      1.00      1.00       283\n",
      "non_infringement       1.00      1.00      1.00       298\n",
      "\n",
      "        accuracy                           1.00       581\n",
      "       macro avg       1.00      1.00      1.00       581\n",
      "    weighted avg       1.00      1.00      1.00       581\n",
      "\n"
     ]
    },
    {
     "name": "stderr",
     "output_type": "stream",
     "text": [
      "Training Epochs:  82%|████████▏ | 411/500 [06:41<00:06, 14.29it/s]"
     ]
    },
    {
     "name": "stdout",
     "output_type": "stream",
     "text": [
      "Epoch 410/500, Loss: 0.0000\n",
      "Test Accuracy at Epoch 410: 100.00%\n",
      "Classification Report at Epoch 410:\n",
      "                  precision    recall  f1-score   support\n",
      "\n",
      "    infringement       1.00      1.00      1.00       283\n",
      "non_infringement       1.00      1.00      1.00       298\n",
      "\n",
      "        accuracy                           1.00       581\n",
      "       macro avg       1.00      1.00      1.00       581\n",
      "    weighted avg       1.00      1.00      1.00       581\n",
      "\n"
     ]
    },
    {
     "name": "stderr",
     "output_type": "stream",
     "text": [
      "Training Epochs:  85%|████████▍ | 424/500 [06:42<00:04, 18.26it/s]"
     ]
    },
    {
     "name": "stdout",
     "output_type": "stream",
     "text": [
      "Epoch 420/500, Loss: 0.0000\n",
      "Test Accuracy at Epoch 420: 100.00%\n",
      "Classification Report at Epoch 420:\n",
      "                  precision    recall  f1-score   support\n",
      "\n",
      "    infringement       1.00      1.00      1.00       283\n",
      "non_infringement       1.00      1.00      1.00       298\n",
      "\n",
      "        accuracy                           1.00       581\n",
      "       macro avg       1.00      1.00      1.00       581\n",
      "    weighted avg       1.00      1.00      1.00       581\n",
      "\n"
     ]
    },
    {
     "name": "stderr",
     "output_type": "stream",
     "text": [
      "Training Epochs:  87%|████████▋ | 434/500 [06:42<00:02, 25.74it/s]"
     ]
    },
    {
     "name": "stdout",
     "output_type": "stream",
     "text": [
      "Epoch 430/500, Loss: 0.0000\n",
      "Test Accuracy at Epoch 430: 100.00%\n",
      "Classification Report at Epoch 430:\n",
      "                  precision    recall  f1-score   support\n",
      "\n",
      "    infringement       1.00      1.00      1.00       283\n",
      "non_infringement       1.00      1.00      1.00       298\n",
      "\n",
      "        accuracy                           1.00       581\n",
      "       macro avg       1.00      1.00      1.00       581\n",
      "    weighted avg       1.00      1.00      1.00       581\n",
      "\n"
     ]
    },
    {
     "name": "stderr",
     "output_type": "stream",
     "text": [
      "Training Epochs:  89%|████████▉ | 444/500 [06:42<00:01, 34.47it/s]"
     ]
    },
    {
     "name": "stdout",
     "output_type": "stream",
     "text": [
      "Epoch 440/500, Loss: 0.0000\n",
      "Test Accuracy at Epoch 440: 100.00%\n",
      "Classification Report at Epoch 440:\n",
      "                  precision    recall  f1-score   support\n",
      "\n",
      "    infringement       1.00      1.00      1.00       283\n",
      "non_infringement       1.00      1.00      1.00       298\n",
      "\n",
      "        accuracy                           1.00       581\n",
      "       macro avg       1.00      1.00      1.00       581\n",
      "    weighted avg       1.00      1.00      1.00       581\n",
      "\n",
      "Epoch 450/500, Loss: 0.0000\n",
      "Test Accuracy at Epoch 450: 100.00%\n"
     ]
    },
    {
     "name": "stderr",
     "output_type": "stream",
     "text": [
      "Training Epochs:  91%|█████████ | 456/500 [06:43<00:01, 43.11it/s]"
     ]
    },
    {
     "name": "stdout",
     "output_type": "stream",
     "text": [
      "Classification Report at Epoch 450:\n",
      "                  precision    recall  f1-score   support\n",
      "\n",
      "    infringement       1.00      1.00      1.00       283\n",
      "non_infringement       1.00      1.00      1.00       298\n",
      "\n",
      "        accuracy                           1.00       581\n",
      "       macro avg       1.00      1.00      1.00       581\n",
      "    weighted avg       1.00      1.00      1.00       581\n",
      "\n",
      "Epoch 460/500, Loss: 0.0000\n",
      "Test Accuracy at Epoch 460: 100.00%\n",
      "Classification Report at Epoch 460:\n",
      "                  precision    recall  f1-score   support\n",
      "\n",
      "    infringement       1.00      1.00      1.00       283\n",
      "non_infringement       1.00      1.00      1.00       298\n",
      "\n",
      "        accuracy                           1.00       581\n",
      "       macro avg       1.00      1.00      1.00       581\n",
      "    weighted avg       1.00      1.00      1.00       581\n",
      "\n"
     ]
    },
    {
     "name": "stderr",
     "output_type": "stream",
     "text": [
      "Training Epochs:  94%|█████████▍| 470/500 [06:43<00:00, 53.73it/s]"
     ]
    },
    {
     "name": "stdout",
     "output_type": "stream",
     "text": [
      "Epoch 470/500, Loss: 0.0000\n",
      "Test Accuracy at Epoch 470: 100.00%\n",
      "Classification Report at Epoch 470:\n",
      "                  precision    recall  f1-score   support\n",
      "\n",
      "    infringement       1.00      1.00      1.00       283\n",
      "non_infringement       1.00      1.00      1.00       298\n",
      "\n",
      "        accuracy                           1.00       581\n",
      "       macro avg       1.00      1.00      1.00       581\n",
      "    weighted avg       1.00      1.00      1.00       581\n",
      "\n"
     ]
    },
    {
     "name": "stderr",
     "output_type": "stream",
     "text": [
      "Training Epochs:  97%|█████████▋| 484/500 [06:43<00:00, 49.79it/s]"
     ]
    },
    {
     "name": "stdout",
     "output_type": "stream",
     "text": [
      "Epoch 480/500, Loss: 0.0000\n",
      "Test Accuracy at Epoch 480: 100.00%\n",
      "Classification Report at Epoch 480:\n",
      "                  precision    recall  f1-score   support\n",
      "\n",
      "    infringement       1.00      1.00      1.00       283\n",
      "non_infringement       1.00      1.00      1.00       298\n",
      "\n",
      "        accuracy                           1.00       581\n",
      "       macro avg       1.00      1.00      1.00       581\n",
      "    weighted avg       1.00      1.00      1.00       581\n",
      "\n",
      "Epoch 490/500, Loss: 0.0000\n",
      "Test Accuracy at Epoch 490: 100.00%\n",
      "Classification Report at Epoch 490:\n",
      "                  precision    recall  f1-score   support\n",
      "\n",
      "    infringement       1.00      1.00      1.00       283\n",
      "non_infringement       1.00      1.00      1.00       298\n",
      "\n",
      "        accuracy                           1.00       581\n",
      "       macro avg       1.00      1.00      1.00       581\n",
      "    weighted avg       1.00      1.00      1.00       581\n",
      "\n"
     ]
    },
    {
     "name": "stderr",
     "output_type": "stream",
     "text": [
      "Training Epochs: 100%|██████████| 500/500 [06:50<00:00,  1.22it/s]"
     ]
    },
    {
     "name": "stdout",
     "output_type": "stream",
     "text": [
      "Epoch 500/500, Loss: 0.0000\n",
      "Test Accuracy at Epoch 500: 100.00%\n",
      "Classification Report at Epoch 500:\n",
      "                  precision    recall  f1-score   support\n",
      "\n",
      "    infringement       1.00      1.00      1.00       283\n",
      "non_infringement       1.00      1.00      1.00       298\n",
      "\n",
      "        accuracy                           1.00       581\n",
      "       macro avg       1.00      1.00      1.00       581\n",
      "    weighted avg       1.00      1.00      1.00       581\n",
      "\n"
     ]
    },
    {
     "name": "stderr",
     "output_type": "stream",
     "text": [
      "\n",
      "/tmp/ipykernel_1270849/1936902679.py:47: FutureWarning: You are using `torch.load` with `weights_only=False` (the current default value), which uses the default pickle module implicitly. It is possible to construct malicious pickle data which will execute arbitrary code during unpickling (See https://github.com/pytorch/pytorch/blob/main/SECURITY.md#untrusted-models for more details). In a future release, the default value for `weights_only` will be flipped to `True`. This limits the functions that could be executed during unpickling. Arbitrary objects will no longer be allowed to be loaded via this mode unless they are explicitly allowlisted by the user via `torch.serialization.add_safe_globals`. We recommend you start setting `weights_only=True` for any use case where you don't have full control of the loaded file. Please open an issue on GitHub for any issues related to this experimental feature.\n",
      "  custom_mlp.load_state_dict(torch.load(checkpoint_path))\n"
     ]
    },
    {
     "data": {
      "image/png": "[encoded data removed]",
      "text/plain": [
       "<Figure size 1000x500 with 1 Axes>"
      ]
     },
     "metadata": {},
     "output_type": "display_data"
    },
    {
     "name": "stdout",
     "output_type": "stream",
     "text": [
      "Best Model was saved at epoch 10 with accuracy 100.00%\n",
      "Best Classification Report                   precision    recall  f1-score   support\n",
      "\n",
      "    infringement       1.00      1.00      1.00       283\n",
      "non_infringement       1.00      1.00      1.00       298\n",
      "\n",
      "        accuracy                           1.00       581\n",
      "       macro avg       1.00      1.00      1.00       581\n",
      "    weighted avg       1.00      1.00      1.00       581\n",
      "\n"
     ]
    }
   ],
   "source": [
    "\n",
    "# Run main\n",
    "main(model_name, non_infringement_file, infringement_file, checkpoint_file)\n",
    "\n",
    "# 映射维度\n"
   ]
  }
 ],
 "metadata": {
  "kernelspec": {
   "display_name": "sit",
   "language": "python",
   "name": "python3"
  },
  "language_info": {
   "codemirror_mode": {
    "name": "ipython",
    "version": 3
   },
   "file_extension": ".py",
   "mimetype": "text/x-python",
   "name": "python",
   "nbconvert_exporter": "python",
   "pygments_lexer": "ipython3",
   "version": "3.8.20"
  }
 },
 "nbformat": 4,
 "nbformat_minor": 2
}
