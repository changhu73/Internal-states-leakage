{
 "cells": [
  {
   "cell_type": "code",
   "execution_count": 44,
   "metadata": {},
   "outputs": [],
   "source": [
    "# import packages & variables\n",
    "import argparse\n",
    "import torch\n",
    "import torch.nn as nn\n",
    "import numpy as np\n",
    "from sklearn.metrics import accuracy_score, classification_report\n",
    "import matplotlib.pyplot as plt\n",
    "from tqdm import tqdm\n",
    "from transformers import AutoTokenizer, AutoModelForCausalLM, AutoModelForSequenceClassification, AutoModel\n",
    "import json\n",
    "\n",
    "\n",
    "# Parameters\n",
    "model_name = 'meta-llama/Meta-Llama-3.1-8B'\n",
    "non_infringement_file = '/home/guangwei/LLM-COPYRIGHT/copyright_newVersion/test_division/extra.non_infringement.json'\n",
    "infringement_file = '/home/guangwei/LLM-COPYRIGHT/copyright_newVersion/test_division/extra.infringement.json'"
   ]
  },
  {
   "cell_type": "code",
   "execution_count": 45,
   "metadata": {},
   "outputs": [],
   "source": [
    "def load_data(non_infringement_file, infringement_file):\n",
    "    non_infringement_texts = []\n",
    "    infringement_texts = []\n",
    "\n",
    "    with open(non_infringement_file) as f:\n",
    "        non_infringement_data = json.load(f)\n",
    "        non_infringement_texts = [item['input'] for item in non_infringement_data]\n",
    "\n",
    "    with open(infringement_file) as f:\n",
    "        infringement_data = json.load(f)\n",
    "        infringement_texts = [item['input'] for item in infringement_data]\n",
    "\n",
    "    return non_infringement_texts, infringement_texts"
   ]
  },
  {
   "cell_type": "code",
   "execution_count": 46,
   "metadata": {},
   "outputs": [],
   "source": [
    "def extract_last_token_hidden_states(texts, model, tokenizer, batch_size=2048):\n",
    "    hidden_states = []\n",
    "    for i in tqdm(range(0, len(texts), batch_size), desc=\"Processing data batches\"):\n",
    "        batch_texts = texts[i:i + batch_size]\n",
    "        inputs = tokenizer(batch_texts, return_tensors=\"pt\", padding=True, truncation=True)\n",
    "\n",
    "        with torch.no_grad():\n",
    "            outputs = model(**inputs, output_hidden_states=True)\n",
    "\n",
    "        hidden_states_list = []\n",
    "        for layer in outputs.hidden_states:\n",
    "            # print(f\"Layer shape: {layer.shape}\")\n",
    "            if len(layer.shape) == 3:\n",
    "                last_hidden_state = layer[:, -1, :]\n",
    "            elif len(layer.shape) == 2:\n",
    "                last_hidden_state = layer.unsqueeze(1)\n",
    "            else:\n",
    "                raise ValueError(\"Unexpected layer shape: {}\".format(layer.shape))\n",
    "                \n",
    "            hidden_states_list.append(last_hidden_state.cpu().numpy())\n",
    "\n",
    "        hidden_states.append(hidden_states_list)\n",
    "\n",
    "    return np.vstack(hidden_states)"
   ]
  },
  {
   "cell_type": "code",
   "execution_count": 47,
   "metadata": {},
   "outputs": [],
   "source": [
    "def generate_ngrams(texts, n=2):\n",
    "    ngram_texts = []\n",
    "    for text in texts:\n",
    "        tokens = text.split()\n",
    "        ngrams = [' '.join(tokens[i:i+n]) for i in range(len(tokens)-n+1)]\n",
    "        ngram_texts.extend(ngrams)\n",
    "    return ngram_texts"
   ]
  },
  {
   "cell_type": "code",
   "execution_count": 48,
   "metadata": {},
   "outputs": [],
   "source": [
    "def visualize_trends(hidden_states):\n",
    "    num_layers = len(hidden_states[0])\n",
    "    for layer_idx in range(num_layers):\n",
    "        layer_states = np.array([hidden_states[i][layer_idx] for i in range(len(hidden_states))])\n",
    "        plt.figure(figsize=(12, 6))\n",
    "        plt.title(f\"Trends of Last Token Hidden States - Layer {layer_idx + 1}\")\n",
    "        \n",
    "        for i in range(layer_states.shape[1]):\n",
    "            plt.plot(layer_states[:, i], label=f'Unit {i + 1}')\n",
    "        \n",
    "        plt.xlabel('Sample Index')\n",
    "        plt.ylabel('Hidden State Value')\n",
    "        plt.legend()\n",
    "        plt.show()"
   ]
  },
  {
   "cell_type": "code",
   "execution_count": 49,
   "metadata": {},
   "outputs": [
    {
     "name": "stderr",
     "output_type": "stream",
     "text": [
      "Loading checkpoint shards: 100%|██████████| 4/4 [00:06<00:00,  1.73s/it]\n",
      "Some weights of LlamaForSequenceClassification were not initialized from the model checkpoint at meta-llama/Meta-Llama-3.1-8B and are newly initialized: ['score.weight']\n",
      "You should probably TRAIN this model on a down-stream task to be able to use it for predictions and inference.\n",
      "Processing data batches: 100%|██████████| 71/71 [6:53:00<00:00, 349.02s/it]  \n"
     ]
    },
    {
     "ename": "ValueError",
     "evalue": "all the input array dimensions except for the concatenation axis must match exactly, but along dimension 1, the array at index 0 has size 2048 and the array at index 70 has size 1707",
     "output_type": "error",
     "traceback": [
      "\u001b[0;31m---------------------------------------------------------------------------\u001b[0m",
      "\u001b[0;31mValueError\u001b[0m                                Traceback (most recent call last)",
      "Cell \u001b[0;32mIn[49], line 13\u001b[0m\n\u001b[1;32m     10\u001b[0m all_texts \u001b[38;5;241m=\u001b[39m non_infringement_texts \u001b[38;5;241m+\u001b[39m infringement_texts\n\u001b[1;32m     11\u001b[0m ngram_texts \u001b[38;5;241m=\u001b[39m generate_ngrams(all_texts, n\u001b[38;5;241m=\u001b[39m\u001b[38;5;241m2\u001b[39m)\n\u001b[0;32m---> 13\u001b[0m hidden_states \u001b[38;5;241m=\u001b[39m \u001b[43mextract_last_token_hidden_states\u001b[49m\u001b[43m(\u001b[49m\u001b[43mngram_texts\u001b[49m\u001b[43m,\u001b[49m\u001b[43m \u001b[49m\u001b[43mmodel\u001b[49m\u001b[43m,\u001b[49m\u001b[43m \u001b[49m\u001b[43mtokenizer\u001b[49m\u001b[43m)\u001b[49m\n\u001b[1;32m     15\u001b[0m visualize_trends(hidden_states)\n",
      "Cell \u001b[0;32mIn[46], line 24\u001b[0m, in \u001b[0;36mextract_last_token_hidden_states\u001b[0;34m(texts, model, tokenizer, batch_size)\u001b[0m\n\u001b[1;32m     20\u001b[0m         hidden_states_list\u001b[38;5;241m.\u001b[39mappend(last_hidden_state\u001b[38;5;241m.\u001b[39mcpu()\u001b[38;5;241m.\u001b[39mnumpy())\n\u001b[1;32m     22\u001b[0m     hidden_states\u001b[38;5;241m.\u001b[39mappend(hidden_states_list)\n\u001b[0;32m---> 24\u001b[0m \u001b[38;5;28;01mreturn\u001b[39;00m \u001b[43mnp\u001b[49m\u001b[38;5;241;43m.\u001b[39;49m\u001b[43mvstack\u001b[49m\u001b[43m(\u001b[49m\u001b[43mhidden_states\u001b[49m\u001b[43m)\u001b[49m\n",
      "File \u001b[0;32m<__array_function__ internals>:200\u001b[0m, in \u001b[0;36mvstack\u001b[0;34m(*args, **kwargs)\u001b[0m\n",
      "File \u001b[0;32m~/anaconda3/envs/sit/lib/python3.8/site-packages/numpy/core/shape_base.py:296\u001b[0m, in \u001b[0;36mvstack\u001b[0;34m(tup, dtype, casting)\u001b[0m\n\u001b[1;32m    294\u001b[0m \u001b[38;5;28;01mif\u001b[39;00m \u001b[38;5;129;01mnot\u001b[39;00m \u001b[38;5;28misinstance\u001b[39m(arrs, \u001b[38;5;28mlist\u001b[39m):\n\u001b[1;32m    295\u001b[0m     arrs \u001b[38;5;241m=\u001b[39m [arrs]\n\u001b[0;32m--> 296\u001b[0m \u001b[38;5;28;01mreturn\u001b[39;00m \u001b[43m_nx\u001b[49m\u001b[38;5;241;43m.\u001b[39;49m\u001b[43mconcatenate\u001b[49m\u001b[43m(\u001b[49m\u001b[43marrs\u001b[49m\u001b[43m,\u001b[49m\u001b[43m \u001b[49m\u001b[38;5;241;43m0\u001b[39;49m\u001b[43m,\u001b[49m\u001b[43m \u001b[49m\u001b[43mdtype\u001b[49m\u001b[38;5;241;43m=\u001b[39;49m\u001b[43mdtype\u001b[49m\u001b[43m,\u001b[49m\u001b[43m \u001b[49m\u001b[43mcasting\u001b[49m\u001b[38;5;241;43m=\u001b[39;49m\u001b[43mcasting\u001b[49m\u001b[43m)\u001b[49m\n",
      "File \u001b[0;32m<__array_function__ internals>:200\u001b[0m, in \u001b[0;36mconcatenate\u001b[0;34m(*args, **kwargs)\u001b[0m\n",
      "\u001b[0;31mValueError\u001b[0m: all the input array dimensions except for the concatenation axis must match exactly, but along dimension 1, the array at index 0 has size 2048 and the array at index 70 has size 1707"
     ]
    },
    {
     "ename": "",
     "evalue": "",
     "output_type": "error",
     "traceback": [
      "\u001b[1;31mThe Kernel crashed while executing code in the current cell or a previous cell. \n",
      "\u001b[1;31mPlease review the code in the cell(s) to identify a possible cause of the failure. \n",
      "\u001b[1;31mClick <a href='https://aka.ms/vscodeJupyterKernelCrash'>here</a> for more info. \n",
      "\u001b[1;31mView Jupyter <a href='command:jupyter.viewOutput'>log</a> for further details."
     ]
    }
   ],
   "source": [
    "if __name__ == \"__main__\":\n",
    "    tokenizer = AutoTokenizer.from_pretrained(model_name)\n",
    "    model = AutoModelForSequenceClassification.from_pretrained(model_name, output_hidden_states=True)\n",
    "    if model.config.pad_token_id is None:\n",
    "        model.config.pad_token_id = tokenizer.pad_token_id if tokenizer.pad_token_id is not None else 0\n",
    "    tokenizer.pad_token = tokenizer.eos_token\n",
    "    non_infringement_texts, infringement_texts = load_data(non_infringement_file, infringement_file)\n",
    "    all_texts = non_infringement_texts + infringement_texts\n",
    "    ngram_texts = generate_ngrams(all_texts, n=2)\n",
    "    hidden_states = extract_last_token_hidden_states(ngram_texts, model, tokenizer)\n",
    "    visualize_trends(hidden_states)"
   ]
  }
 ],
 "metadata": {
  "kernelspec": {
   "display_name": "sit",
   "language": "python",
   "name": "python3"
  },
  "language_info": {
   "codemirror_mode": {
    "name": "ipython",
    "version": 3
   },
   "file_extension": ".py",
   "mimetype": "text/x-python",
   "name": "python",
   "nbconvert_exporter": "python",
   "pygments_lexer": "ipython3",
   "version": "3.8.10"
  }
 },
 "nbformat": 4,
 "nbformat_minor": 2
}
