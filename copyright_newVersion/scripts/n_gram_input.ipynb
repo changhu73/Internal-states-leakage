{
 "cells": [
  {
   "cell_type": "code",
   "execution_count": 1,
   "metadata": {},
   "outputs": [
    {
     "name": "stderr",
     "output_type": "stream",
     "text": [
      "/home/guangwei/miniconda3/envs/zdh/lib/python3.12/site-packages/tqdm/auto.py:21: TqdmWarning: IProgress not found. Please update jupyter and ipywidgets. See https://ipywidgets.readthedocs.io/en/stable/user_install.html\n",
      "  from .autonotebook import tqdm as notebook_tqdm\n"
     ]
    }
   ],
   "source": [
    "# import packages & variables\n",
    "import argparse\n",
    "import torch\n",
    "import torch.nn as nn\n",
    "import numpy as np\n",
    "from sklearn.metrics import accuracy_score, classification_report\n",
    "import matplotlib.pyplot as plt\n",
    "from tqdm import tqdm\n",
    "from transformers import AutoTokenizer, AutoModelForCausalLM, AutoModelForSequenceClassification, AutoModel\n",
    "import json\n",
    "\n",
    "\n",
    "# Parameters\n",
    "model_name = 'meta-llama/Meta-Llama-3.1-8B'\n",
    "non_infringement_file = '/home/guangwei/LLM-COPYRIGHT/copyright_newVersion/test_division/extra.non_infringement.json'\n",
    "infringement_file = '/home/guangwei/LLM-COPYRIGHT/copyright_newVersion/test_division/extra.infringement.json'"
   ]
  },
  {
   "cell_type": "code",
   "execution_count": 2,
   "metadata": {},
   "outputs": [],
   "source": [
    "def load_data(non_infringement_file, infringement_file):\n",
    "    non_infringement_texts = []\n",
    "    infringement_texts = []\n",
    "\n",
    "    with open(non_infringement_file) as f:\n",
    "        non_infringement_data = json.load(f)\n",
    "        non_infringement_texts = [item['input'] for item in non_infringement_data]\n",
    "\n",
    "    with open(infringement_file) as f:\n",
    "        infringement_data = json.load(f)\n",
    "        infringement_texts = [item['input'] for item in infringement_data]\n",
    "\n",
    "    return non_infringement_texts, infringement_texts"
   ]
  },
  {
   "cell_type": "code",
   "execution_count": 3,
   "metadata": {},
   "outputs": [],
   "source": [
    "def extract_last_token_hidden_states(texts, model, tokenizer, batch_size=2048):\n",
    "    hidden_states = []\n",
    "    for i in tqdm(range(0, len(texts), batch_size), desc=\"Processing data batches\"):\n",
    "        batch_texts = texts[i:i + batch_size]\n",
    "        inputs = tokenizer(batch_texts, return_tensors=\"pt\", padding=True, truncation=True)\n",
    "\n",
    "        with torch.no_grad():\n",
    "            outputs = model(**inputs, output_hidden_states=True)\n",
    "\n",
    "        hidden_states_list = []\n",
    "        for layer in outputs.hidden_states:\n",
    "            # print(f\"Layer shape: {layer.shape}\")\n",
    "            if len(layer.shape) == 3:\n",
    "                last_hidden_state = layer[:, -1, :]\n",
    "            elif len(layer.shape) == 2:\n",
    "                last_hidden_state = layer.unsqueeze(1)\n",
    "            else:\n",
    "                raise ValueError(\"Unexpected layer shape: {}\".format(layer.shape))\n",
    "                \n",
    "            hidden_states_list.append(last_hidden_state.cpu().numpy())\n",
    "\n",
    "        hidden_states.append(hidden_states_list)\n",
    "\n",
    "    return np.vstack(hidden_states)"
   ]
  },
  {
   "cell_type": "code",
   "execution_count": 4,
   "metadata": {},
   "outputs": [],
   "source": [
    "def generate_ngrams(texts, n=2):\n",
    "    ngram_texts = []\n",
    "    for text in texts:\n",
    "        tokens = text.split()\n",
    "        ngrams = [' '.join(tokens[i:i+n]) for i in range(len(tokens)-n+1)]\n",
    "        ngram_texts.extend(ngrams)\n",
    "    return ngram_texts"
   ]
  },
  {
   "cell_type": "code",
   "execution_count": 5,
   "metadata": {},
   "outputs": [],
   "source": [
    "def visualize_trends(hidden_states):\n",
    "    num_layers = len(hidden_states[0])\n",
    "    for layer_idx in range(num_layers):\n",
    "        layer_states = np.array([hidden_states[i][layer_idx] for i in range(len(hidden_states))])\n",
    "        plt.figure(figsize=(12, 6))\n",
    "        plt.title(f\"Trends of Last Token Hidden States - Layer {layer_idx + 1}\")\n",
    "        \n",
    "        for i in range(layer_states.shape[1]):\n",
    "            plt.plot(layer_states[:, i], label=f'Unit {i + 1}')\n",
    "        \n",
    "        plt.xlabel('Sample Index')\n",
    "        plt.ylabel('Hidden State Value')\n",
    "        plt.legend()\n",
    "        plt.show()"
   ]
  },
  {
   "cell_type": "code",
   "execution_count": null,
   "metadata": {},
   "outputs": [
    {
     "name": "stderr",
     "output_type": "stream",
     "text": [
      "Loading checkpoint shards: 100%|██████████| 4/4 [00:03<00:00,  1.28it/s]\n",
      "Some weights of LlamaForSequenceClassification were not initialized from the model checkpoint at meta-llama/Meta-Llama-3.1-8B and are newly initialized: ['score.weight']\n",
      "You should probably TRAIN this model on a down-stream task to be able to use it for predictions and inference.\n",
      "Processing data batches:   1%|▏         | 1/71 [03:03<3:34:18, 183.69s/it]"
     ]
    }
   ],
   "source": [
    "if __name__ == \"__main__\":\n",
    "    tokenizer = AutoTokenizer.from_pretrained(model_name)\n",
    "    model = AutoModelForSequenceClassification.from_pretrained(model_name, output_hidden_states=True)\n",
    "    if model.config.pad_token_id is None:\n",
    "        model.config.pad_token_id = tokenizer.pad_token_id if tokenizer.pad_token_id is not None else 0\n",
    "    tokenizer.pad_token = tokenizer.eos_token\n",
    "    non_infringement_texts, infringement_texts = load_data(non_infringement_file, infringement_file)\n",
    "    all_texts = non_infringement_texts + infringement_texts\n",
    "    ngram_texts = generate_ngrams(all_texts, n=2)\n",
    "    hidden_states = extract_last_token_hidden_states(ngram_texts, model, tokenizer)\n",
    "    visualize_trends(hidden_states)"
   ]
  }
 ],
 "metadata": {
  "kernelspec": {
   "display_name": "zdh",
   "language": "python",
   "name": "python3"
  },
  "language_info": {
   "codemirror_mode": {
    "name": "ipython",
    "version": 3
   },
   "file_extension": ".py",
   "mimetype": "text/x-python",
   "name": "python",
   "nbconvert_exporter": "python",
   "pygments_lexer": "ipython3",
   "version": "3.12.3"
  }
 },
 "nbformat": 4,
 "nbformat_minor": 2
}
