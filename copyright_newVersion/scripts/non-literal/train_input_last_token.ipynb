{
 "cells": [
  {
   "cell_type": "code",
   "execution_count": 1,
   "metadata": {},
   "outputs": [
    {
     "name": "stderr",
     "output_type": "stream",
     "text": [
      "/home/guangwei/miniconda3/envs/zdh/lib/python3.12/site-packages/tqdm/auto.py:21: TqdmWarning: IProgress not found. Please update jupyter and ipywidgets. See https://ipywidgets.readthedocs.io/en/stable/user_install.html\n",
      "  from .autonotebook import tqdm as notebook_tqdm\n"
     ]
    }
   ],
   "source": [
    "# import packages\n",
    "import torch\n",
    "import torch.nn as nn\n",
    "import numpy as np\n",
    "from sklearn.metrics import accuracy_score, classification_report\n",
    "import matplotlib.pyplot as plt\n",
    "from tqdm import tqdm\n",
    "from transformers import AutoTokenizer, AutoModelForCausalLM\n",
    "import json\n",
    "import os\n",
    "from accelerate import Accelerator\n",
    "\n",
    "os.environ[\"CUDA_VISIBLE_DEVICES\"] = \"1\"\n",
    "\n",
    "# Variables\n",
    "model_name = 'meta-llama/Llama-3.1-8B'\n",
    "non_infringement_file = '/home/guangwei/LLM-COPYRIGHT/copyright_newVersion/division_non/non.non_infringement.json'\n",
    "infringement_file = '/home/guangwei/LLM-COPYRIGHT/copyright_newVersion/division_non/non.infringement.json'\n",
    "checkpoint_file = '/home/guangwei/LLM-COPYRIGHT/copyright_newVersion/models/train_input_last_token.pth'"
   ]
  },
  {
   "cell_type": "code",
   "execution_count": 2,
   "metadata": {},
   "outputs": [],
   "source": [
    "# Define CustumMLP for internal states train\n",
    "class CustomMLP(nn.Module):\n",
    "    def __init__(self, input_dim, hidden_dim):\n",
    "        super(CustomMLP, self).__init__()\n",
    "        self.down = nn.Linear(input_dim, hidden_dim)\n",
    "        self.gate = nn.Linear(input_dim, hidden_dim)\n",
    "        self.up = nn.Linear(hidden_dim, 1)\n",
    "        self.activation = nn.SiLU()\n",
    "\n",
    "    def forward(self, x):\n",
    "        down_output = self.down(x)\n",
    "        gate_output = self.gate(x)\n",
    "        gated_output = down_output * self.activation(gate_output)\n",
    "        return self.up(gated_output)"
   ]
  },
  {
   "cell_type": "code",
   "execution_count": 3,
   "metadata": {},
   "outputs": [],
   "source": [
    "def extract_hidden_states(texts, model, tokenizer, batch_size=4):\n",
    "    device = torch.device(\"cuda\" if torch.cuda.is_available() else \"cpu\")\n",
    "    model.to(device)\n",
    "    model = nn.DataParallel(model)\n",
    "    hidden_states = []\n",
    "    for i in tqdm(range(0, len(texts), batch_size), desc=\"Processing data batches\"):\n",
    "        batch_texts = texts[i:i + batch_size]\n",
    "        inputs = tokenizer(batch_texts, return_tensors=\"pt\", padding=True, truncation=True)\n",
    "        with torch.no_grad():\n",
    "            outputs = model(**inputs)\n",
    "        \n",
    "        # 访问最后一个隐藏层的最后一个token的隐藏状态\n",
    "        # hidden_states[-1]表示最后一个隐藏层，mean(dim=1)表示取所有头的均值\n",
    "        last_layer_hidden_states = outputs.hidden_states[-1]\n",
    "        last_token_hidden_states = last_layer_hidden_states[:, -1, :]  # -1表示最后一个token\n",
    "        hidden_states.append(last_token_hidden_states.cpu().numpy())\n",
    "    return np.vstack(hidden_states)"
   ]
  },
  {
   "cell_type": "code",
   "execution_count": 4,
   "metadata": {},
   "outputs": [],
   "source": [
    "# lode data for infringement & non infringement\n",
    "def load_data(non_infringement_file, infringement_file):\n",
    "    with open(non_infringement_file, 'r', encoding='utf-8') as file:\n",
    "        non_infringement_json_data = json.load(file)\n",
    "\n",
    "    non_infringement_outputs = [entry['input'] for entry in non_infringement_json_data]\n",
    "    y_non_infringement = [1] * len(non_infringement_outputs)\n",
    "\n",
    "    with open(infringement_file, 'r', encoding='utf-8') as file:\n",
    "        infringement_json_data = json.load(file)\n",
    "\n",
    "    infringement_outputs = [entry['input'] for entry in infringement_json_data]\n",
    "    y_infringement = [0] * len(infringement_outputs)\n",
    "\n",
    "    return non_infringement_outputs, y_non_infringement, infringement_outputs, y_infringement"
   ]
  },
  {
   "cell_type": "code",
   "execution_count": 5,
   "metadata": {},
   "outputs": [],
   "source": [
    "from sklearn.metrics import accuracy_score, classification_report, f1_score\n",
    "\n",
    "# Train for best model\n",
    "def train_model(X_train, y_train, X_test, y_test, input_dim, hidden_dim, epochs=2000, lr=0.001, checkpoint_path=checkpoint_file):\n",
    "    custom_mlp = CustomMLP(input_dim, hidden_dim)\n",
    "    criterion = nn.BCEWithLogitsLoss()\n",
    "    optimizer = torch.optim.Adam(custom_mlp.parameters(), lr=lr)\n",
    "\n",
    "    X_train_tensor = torch.tensor(X_train, dtype=torch.float32)\n",
    "    y_train_tensor = torch.tensor(y_train, dtype=torch.float32).unsqueeze(1)\n",
    "\n",
    "    best_accuracy = -float('inf')  # Initialize the best accuracy to negative infinity\n",
    "    best_f1 = -float('inf')  # Initialize the best F1-score to negative infinity\n",
    "    best_model_state = None  # Store the state of the best model\n",
    "    best_epoch = 0  # Track the epoch with the best accuracy\n",
    "    losses = []\n",
    "\n",
    "    for epoch in tqdm(range(epochs), desc=\"Training Epochs\"):\n",
    "        custom_mlp.train()\n",
    "        optimizer.zero_grad()\n",
    "        outputs = custom_mlp(X_train_tensor)\n",
    "        loss = criterion(outputs, y_train_tensor)\n",
    "        loss.backward()\n",
    "        optimizer.step()\n",
    "        losses.append(loss.item())\n",
    "        \n",
    "        if (epoch + 1) % 10 == 0:\n",
    "            print(f\"Epoch {epoch + 1}/{epochs}, Loss: {loss.item():.4f}\")\n",
    "            \n",
    "            custom_mlp.eval()\n",
    "            X_test_tensor = torch.tensor(X_test, dtype=torch.float32)\n",
    "            with torch.no_grad():\n",
    "                y_pred_logits = custom_mlp(X_test_tensor)\n",
    "                y_pred = (torch.sigmoid(y_pred_logits) > 0.5).float().numpy()\n",
    "            \n",
    "            accuracy = accuracy_score(y_test, y_pred)\n",
    "            f1 = f1_score(y_test, y_pred)  # Calculate F1-score\n",
    "            print(f\"Test Accuracy at Epoch {epoch + 1}: {accuracy * 100:.2f}%\")\n",
    "            print(f\"Test F1-score at Epoch {epoch + 1}: {f1:.4f}\")\n",
    "            \n",
    "            report = classification_report(y_test, y_pred, target_names=[\"infringement\", \"non_infringement\"])\n",
    "            print(f\"Classification Report at Epoch {epoch + 1}:\\n{report}\")\n",
    "\n",
    "            # Check if the current model is the best based on F1-score\n",
    "            if f1 > best_f1:\n",
    "                best_accuracy = accuracy\n",
    "                best_f1 = f1\n",
    "                best_model_state = custom_mlp.state_dict()\n",
    "                best_epoch = epoch + 1\n",
    "                torch.save(best_model_state, checkpoint_path)\n",
    "                print(f\"New best model saved with F1-score {best_f1:.4f} at epoch {best_epoch}\")\n",
    "                print(f\"Best Classification Report at Epoch {best_epoch}:\\n{report}\")\n",
    "\n",
    "    # Load the best model state\n",
    "    custom_mlp.load_state_dict(torch.load(checkpoint_path))\n",
    "\n",
    "    # Plot loss curve\n",
    "    plt.figure(figsize=(10, 5))\n",
    "    plt.plot(losses, label='Training Loss')\n",
    "    plt.xlabel('Epoch')\n",
    "    plt.ylabel('Loss')\n",
    "    plt.title('Training Loss Curve')\n",
    "    plt.legend()\n",
    "    plt.show()\n",
    "\n",
    "    print(f\"Best Model was saved at epoch {best_epoch} with F1-score {best_f1:.4f} and accuracy {best_accuracy * 100:.2f}%\")\n",
    "    return custom_mlp, losses, best_accuracy, best_f1\n"
   ]
  },
  {
   "cell_type": "code",
   "execution_count": 6,
   "metadata": {},
   "outputs": [
    {
     "name": "stderr",
     "output_type": "stream",
     "text": [
      "Downloading shards: 100%|██████████| 4/4 [23:19<00:00, 349.97s/it]\n",
      "/home/guangwei/miniconda3/envs/zdh/lib/python3.12/site-packages/transformers/generation/configuration_utils.py:774: UserWarning: `return_dict_in_generate` is NOT set to `True`, but `output_hidden_states` is. When `return_dict_in_generate` is not `True`, `output_hidden_states` is ignored.\n",
      "  warnings.warn(\n",
      "Loading checkpoint shards: 100%|██████████| 4/4 [00:02<00:00,  1.47it/s]\n",
      "Detected kernel version 5.4.0, which is below the recommended minimum of 5.5.0; this can cause the process to hang. It is recommended to upgrade the kernel to the minimum version or higher.\n"
     ]
    }
   ],
   "source": [
    "\n",
    "tokenizer = AutoTokenizer.from_pretrained(model_name, model_max_length=512)\n",
    "model = AutoModelForCausalLM.from_pretrained(model_name, output_hidden_states=True)\n",
    "tokenizer.pad_token = tokenizer.eos_token\n",
    "\n",
    "non_infringement_outputs, y_non_infringement, infringement_outputs, y_infringement = load_data(non_infringement_file, infringement_file)\n",
    "\n",
    "y_non_infringement = np.array(y_non_infringement)\n",
    "y_infringement = np.array(y_infringement)\n",
    "\n",
    "\n",
    "accelerator = Accelerator()\n",
    "model, non_infringement_outputs, infringement_outputs = accelerator.prepare(model, non_infringement_outputs, infringement_outputs)"
   ]
  },
  {
   "cell_type": "code",
   "execution_count": 7,
   "metadata": {},
   "outputs": [
    {
     "name": "stdout",
     "output_type": "stream",
     "text": [
      "Extracting hidden states for non_infringement texts...\n"
     ]
    },
    {
     "name": "stderr",
     "output_type": "stream",
     "text": [
      "Processing data batches: 100%|██████████| 104/104 [00:10<00:00,  9.80it/s]\n"
     ]
    },
    {
     "name": "stdout",
     "output_type": "stream",
     "text": [
      "Extracting hidden states for infringement texts...\n"
     ]
    },
    {
     "name": "stderr",
     "output_type": "stream",
     "text": [
      "Processing data batches: 100%|██████████| 45/45 [00:04<00:00,  9.38it/s]\n"
     ]
    }
   ],
   "source": [
    "print(\"Extracting hidden states for non_infringement texts...\")\n",
    "X_non_infringement = extract_hidden_states(non_infringement_outputs, model, tokenizer)\n",
    "\n",
    "print(\"Extracting hidden states for infringement texts...\")\n",
    "X_infringement = extract_hidden_states(infringement_outputs, model, tokenizer)"
   ]
  },
  {
   "cell_type": "code",
   "execution_count": 8,
   "metadata": {},
   "outputs": [
    {
     "name": "stdout",
     "output_type": "stream",
     "text": [
      "Data successfully split into training and test sets.\n"
     ]
    }
   ],
   "source": [
    "split_index_non_infringement = int(0.8 * len(X_non_infringement))\n",
    "X_non_infringement_train = X_non_infringement[:split_index_non_infringement]\n",
    "X_non_infringement_test = X_non_infringement[split_index_non_infringement:]\n",
    "y_non_infringement_train = y_non_infringement[:split_index_non_infringement]\n",
    "y_non_infringement_test = y_non_infringement[split_index_non_infringement:]\n",
    "\n",
    "split_index_infringement = int(0.8 * len(X_infringement))\n",
    "X_infringement_train = X_infringement[:split_index_infringement]\n",
    "X_infringement_test = X_infringement[split_index_infringement:]\n",
    "y_infringement_train = y_infringement[:split_index_infringement]\n",
    "y_infringement_test = y_infringement[split_index_infringement:]\n",
    "\n",
    "X_train = np.vstack((X_non_infringement_train, X_infringement_train))\n",
    "X_test = np.vstack((X_non_infringement_test, X_infringement_test))\n",
    "y_train = np.concatenate((y_non_infringement_train, y_infringement_train))\n",
    "y_test = np.concatenate((y_non_infringement_test, y_infringement_test))\n",
    "\n",
    "print(\"Data successfully split into training and test sets.\")\n"
   ]
  },
  {
   "cell_type": "code",
   "execution_count": 9,
   "metadata": {},
   "outputs": [
    {
     "name": "stderr",
     "output_type": "stream",
     "text": [
      "Training Epochs:   1%|          | 20/2000 [00:00<00:39, 50.24it/s]"
     ]
    },
    {
     "name": "stdout",
     "output_type": "stream",
     "text": [
      "Epoch 10/2000, Loss: 5.3725\n",
      "Test Accuracy at Epoch 10: 35.29%\n",
      "Test F1-score at Epoch 10: 0.2667\n",
      "Classification Report at Epoch 10:\n",
      "                  precision    recall  f1-score   support\n",
      "\n",
      "    infringement       0.29      0.78      0.42        36\n",
      "non_infringement       0.64      0.17      0.27        83\n",
      "\n",
      "        accuracy                           0.35       119\n",
      "       macro avg       0.46      0.47      0.34       119\n",
      "    weighted avg       0.53      0.35      0.31       119\n",
      "\n",
      "New best model saved with F1-score 0.2667 at epoch 10\n",
      "Best Classification Report at Epoch 10:\n",
      "                  precision    recall  f1-score   support\n",
      "\n",
      "    infringement       0.29      0.78      0.42        36\n",
      "non_infringement       0.64      0.17      0.27        83\n",
      "\n",
      "        accuracy                           0.35       119\n",
      "       macro avg       0.46      0.47      0.34       119\n",
      "    weighted avg       0.53      0.35      0.31       119\n",
      "\n",
      "Epoch 20/2000, Loss: 0.4503\n",
      "Test Accuracy at Epoch 20: 67.23%\n",
      "Test F1-score at Epoch 20: 0.7914\n",
      "Classification Report at Epoch 20:\n",
      "                  precision    recall  f1-score   support\n",
      "\n",
      "    infringement       0.40      0.17      0.24        36\n",
      "non_infringement       0.71      0.89      0.79        83\n",
      "\n",
      "        accuracy                           0.67       119\n",
      "       macro avg       0.56      0.53      0.51       119\n",
      "    weighted avg       0.62      0.67      0.62       119\n",
      "\n",
      "New best model saved with F1-score 0.7914 at epoch 20\n",
      "Best Classification Report at Epoch 20:\n",
      "                  precision    recall  f1-score   support\n",
      "\n",
      "    infringement       0.40      0.17      0.24        36\n",
      "non_infringement       0.71      0.89      0.79        83\n",
      "\n",
      "        accuracy                           0.67       119\n",
      "       macro avg       0.56      0.53      0.51       119\n",
      "    weighted avg       0.62      0.67      0.62       119\n",
      "\n"
     ]
    },
    {
     "name": "stderr",
     "output_type": "stream",
     "text": [
      "Training Epochs:   2%|▏         | 41/2000 [00:00<00:32, 60.67it/s]"
     ]
    },
    {
     "name": "stdout",
     "output_type": "stream",
     "text": [
      "Epoch 30/2000, Loss: 0.4895\n",
      "Test Accuracy at Epoch 30: 71.43%\n",
      "Test F1-score at Epoch 30: 0.8265\n",
      "Classification Report at Epoch 30:\n",
      "                  precision    recall  f1-score   support\n",
      "\n",
      "    infringement       0.67      0.11      0.19        36\n",
      "non_infringement       0.72      0.98      0.83        83\n",
      "\n",
      "        accuracy                           0.71       119\n",
      "       macro avg       0.69      0.54      0.51       119\n",
      "    weighted avg       0.70      0.71      0.63       119\n",
      "\n",
      "New best model saved with F1-score 0.8265 at epoch 30\n",
      "Best Classification Report at Epoch 30:\n",
      "                  precision    recall  f1-score   support\n",
      "\n",
      "    infringement       0.67      0.11      0.19        36\n",
      "non_infringement       0.72      0.98      0.83        83\n",
      "\n",
      "        accuracy                           0.71       119\n",
      "       macro avg       0.69      0.54      0.51       119\n",
      "    weighted avg       0.70      0.71      0.63       119\n",
      "\n",
      "Epoch 40/2000, Loss: 0.4849\n",
      "Test Accuracy at Epoch 40: 68.07%\n",
      "Test F1-score at Epoch 40: 0.8021\n",
      "Classification Report at Epoch 40:\n",
      "                  precision    recall  f1-score   support\n",
      "\n",
      "    infringement       0.40      0.11      0.17        36\n",
      "non_infringement       0.71      0.93      0.80        83\n",
      "\n",
      "        accuracy                           0.68       119\n",
      "       macro avg       0.55      0.52      0.49       119\n",
      "    weighted avg       0.61      0.68      0.61       119\n",
      "\n"
     ]
    },
    {
     "name": "stderr",
     "output_type": "stream",
     "text": [
      "Training Epochs:   3%|▎         | 56/2000 [00:00<00:29, 65.61it/s]"
     ]
    },
    {
     "name": "stdout",
     "output_type": "stream",
     "text": [
      "Epoch 50/2000, Loss: 0.4708\n",
      "Test Accuracy at Epoch 50: 69.75%\n",
      "Test F1-score at Epoch 50: 0.8144\n",
      "Classification Report at Epoch 50:\n",
      "                  precision    recall  f1-score   support\n",
      "\n",
      "    infringement       0.50      0.11      0.18        36\n",
      "non_infringement       0.71      0.95      0.81        83\n",
      "\n",
      "        accuracy                           0.70       119\n",
      "       macro avg       0.61      0.53      0.50       119\n",
      "    weighted avg       0.65      0.70      0.62       119\n",
      "\n",
      "Epoch 60/2000, Loss: 0.4271\n",
      "Test Accuracy at Epoch 60: 70.59%\n",
      "Test F1-score at Epoch 60: 0.8205\n",
      "Classification Report at Epoch 60:\n",
      "                  precision    recall  f1-score   support\n",
      "\n",
      "    infringement       0.57      0.11      0.19        36\n",
      "non_infringement       0.71      0.96      0.82        83\n",
      "\n",
      "        accuracy                           0.71       119\n",
      "       macro avg       0.64      0.54      0.50       119\n",
      "    weighted avg       0.67      0.71      0.63       119\n",
      "\n"
     ]
    },
    {
     "name": "stderr",
     "output_type": "stream",
     "text": [
      "Training Epochs:   4%|▍         | 78/2000 [00:01<00:28, 66.81it/s]"
     ]
    },
    {
     "name": "stdout",
     "output_type": "stream",
     "text": [
      "Epoch 70/2000, Loss: 0.3840\n",
      "Test Accuracy at Epoch 70: 70.59%\n",
      "Test F1-score at Epoch 70: 0.8205\n",
      "Classification Report at Epoch 70:\n",
      "                  precision    recall  f1-score   support\n",
      "\n",
      "    infringement       0.57      0.11      0.19        36\n",
      "non_infringement       0.71      0.96      0.82        83\n",
      "\n",
      "        accuracy                           0.71       119\n",
      "       macro avg       0.64      0.54      0.50       119\n",
      "    weighted avg       0.67      0.71      0.63       119\n",
      "\n",
      "Epoch 80/2000, Loss: 0.3083\n",
      "Test Accuracy at Epoch 80: 70.59%\n",
      "Test F1-score at Epoch 80: 0.8168\n",
      "Classification Report at Epoch 80:\n",
      "                  precision    recall  f1-score   support\n",
      "\n",
      "    infringement       0.55      0.17      0.26        36\n",
      "non_infringement       0.72      0.94      0.82        83\n",
      "\n",
      "        accuracy                           0.71       119\n",
      "       macro avg       0.63      0.55      0.54       119\n",
      "    weighted avg       0.67      0.71      0.65       119\n",
      "\n"
     ]
    },
    {
     "name": "stderr",
     "output_type": "stream",
     "text": [
      "Training Epochs:   5%|▌         | 100/2000 [00:01<00:28, 66.92it/s]"
     ]
    },
    {
     "name": "stdout",
     "output_type": "stream",
     "text": [
      "Epoch 90/2000, Loss: 0.2701\n",
      "Test Accuracy at Epoch 90: 73.11%\n",
      "Test F1-score at Epoch 90: 0.8202\n",
      "Classification Report at Epoch 90:\n",
      "                  precision    recall  f1-score   support\n",
      "\n",
      "    infringement       0.58      0.39      0.47        36\n",
      "non_infringement       0.77      0.88      0.82        83\n",
      "\n",
      "        accuracy                           0.73       119\n",
      "       macro avg       0.68      0.63      0.64       119\n",
      "    weighted avg       0.71      0.73      0.71       119\n",
      "\n",
      "Epoch 100/2000, Loss: 0.2276\n",
      "Test Accuracy at Epoch 100: 71.43%\n",
      "Test F1-score at Epoch 100: 0.8090\n",
      "Classification Report at Epoch 100:\n",
      "                  precision    recall  f1-score   support\n",
      "\n",
      "    infringement       0.54      0.36      0.43        36\n",
      "non_infringement       0.76      0.87      0.81        83\n",
      "\n",
      "        accuracy                           0.71       119\n",
      "       macro avg       0.65      0.61      0.62       119\n",
      "    weighted avg       0.69      0.71      0.70       119\n",
      "\n"
     ]
    },
    {
     "name": "stderr",
     "output_type": "stream",
     "text": [
      "Training Epochs:   6%|▌         | 122/2000 [00:01<00:27, 68.25it/s]"
     ]
    },
    {
     "name": "stdout",
     "output_type": "stream",
     "text": [
      "Epoch 110/2000, Loss: 0.2192\n",
      "Test Accuracy at Epoch 110: 68.91%\n",
      "Test F1-score at Epoch 110: 0.8021\n",
      "Classification Report at Epoch 110:\n",
      "                  precision    recall  f1-score   support\n",
      "\n",
      "    infringement       0.47      0.19      0.27        36\n",
      "non_infringement       0.72      0.90      0.80        83\n",
      "\n",
      "        accuracy                           0.69       119\n",
      "       macro avg       0.59      0.55      0.54       119\n",
      "    weighted avg       0.64      0.69      0.64       119\n",
      "\n",
      "Epoch 120/2000, Loss: 0.1900\n",
      "Test Accuracy at Epoch 120: 68.07%\n",
      "Test F1-score at Epoch 120: 0.7791\n",
      "Classification Report at Epoch 120:\n",
      "                  precision    recall  f1-score   support\n",
      "\n",
      "    infringement       0.47      0.39      0.42        36\n",
      "non_infringement       0.75      0.81      0.78        83\n",
      "\n",
      "        accuracy                           0.68       119\n",
      "       macro avg       0.61      0.60      0.60       119\n",
      "    weighted avg       0.67      0.68      0.67       119\n",
      "\n"
     ]
    },
    {
     "name": "stderr",
     "output_type": "stream",
     "text": [
      "Training Epochs:   7%|▋         | 138/2000 [00:02<00:26, 70.15it/s]"
     ]
    },
    {
     "name": "stdout",
     "output_type": "stream",
     "text": [
      "Epoch 130/2000, Loss: 0.3269\n",
      "Test Accuracy at Epoch 130: 62.18%\n",
      "Test F1-score at Epoch 130: 0.7134\n",
      "Classification Report at Epoch 130:\n",
      "                  precision    recall  f1-score   support\n",
      "\n",
      "    infringement       0.40      0.50      0.44        36\n",
      "non_infringement       0.76      0.67      0.71        83\n",
      "\n",
      "        accuracy                           0.62       119\n",
      "       macro avg       0.58      0.59      0.58       119\n",
      "    weighted avg       0.65      0.62      0.63       119\n",
      "\n",
      "Epoch 140/2000, Loss: 0.1328\n",
      "Test Accuracy at Epoch 140: 63.87%\n",
      "Test F1-score at Epoch 140: 0.7296\n",
      "Classification Report at Epoch 140:\n",
      "                  precision    recall  f1-score   support\n",
      "\n",
      "    infringement       0.42      0.50      0.46        36\n",
      "non_infringement       0.76      0.70      0.73        83\n",
      "\n",
      "        accuracy                           0.64       119\n",
      "       macro avg       0.59      0.60      0.59       119\n",
      "    weighted avg       0.66      0.64      0.65       119\n",
      "\n"
     ]
    },
    {
     "name": "stderr",
     "output_type": "stream",
     "text": [
      "Training Epochs:   8%|▊         | 153/2000 [00:02<00:27, 67.38it/s]"
     ]
    },
    {
     "name": "stdout",
     "output_type": "stream",
     "text": [
      "Epoch 150/2000, Loss: 0.2170\n",
      "Test Accuracy at Epoch 150: 67.23%\n",
      "Test F1-score at Epoch 150: 0.7692\n",
      "Classification Report at Epoch 150:\n",
      "                  precision    recall  f1-score   support\n",
      "\n",
      "    infringement       0.45      0.42      0.43        36\n",
      "non_infringement       0.76      0.78      0.77        83\n",
      "\n",
      "        accuracy                           0.67       119\n",
      "       macro avg       0.61      0.60      0.60       119\n",
      "    weighted avg       0.66      0.67      0.67       119\n",
      "\n",
      "Epoch 160/2000, Loss: 0.1303\n",
      "Test Accuracy at Epoch 160: 69.75%\n",
      "Test F1-score at Epoch 160: 0.8085\n"
     ]
    },
    {
     "name": "stderr",
     "output_type": "stream",
     "text": [
      "Training Epochs:   8%|▊         | 167/2000 [00:02<00:29, 61.53it/s]"
     ]
    },
    {
     "name": "stdout",
     "output_type": "stream",
     "text": [
      "Classification Report at Epoch 160:\n",
      "                  precision    recall  f1-score   support\n",
      "\n",
      "    infringement       0.50      0.19      0.28        36\n",
      "non_infringement       0.72      0.92      0.81        83\n",
      "\n",
      "        accuracy                           0.70       119\n",
      "       macro avg       0.61      0.56      0.54       119\n",
      "    weighted avg       0.66      0.70      0.65       119\n",
      "\n",
      "Epoch 170/2000, Loss: 0.1149\n",
      "Test Accuracy at Epoch 170: 68.91%\n",
      "Test F1-score at Epoch 170: 0.8021\n",
      "Classification Report at Epoch 170:\n",
      "                  precision    recall  f1-score   support\n",
      "\n",
      "    infringement       0.47      0.19      0.27        36\n",
      "non_infringement       0.72      0.90      0.80        83\n",
      "\n",
      "        accuracy                           0.69       119\n",
      "       macro avg       0.59      0.55      0.54       119\n",
      "    weighted avg       0.64      0.69      0.64       119\n",
      "\n"
     ]
    },
    {
     "name": "stderr",
     "output_type": "stream",
     "text": [
      "Training Epochs:   9%|▉         | 187/2000 [00:03<00:34, 52.23it/s]"
     ]
    },
    {
     "name": "stdout",
     "output_type": "stream",
     "text": [
      "Epoch 180/2000, Loss: 0.0862\n",
      "Test Accuracy at Epoch 180: 68.07%\n",
      "Test F1-score at Epoch 180: 0.7979\n",
      "Classification Report at Epoch 180:\n",
      "                  precision    recall  f1-score   support\n",
      "\n",
      "    infringement       0.43      0.17      0.24        36\n",
      "non_infringement       0.71      0.90      0.80        83\n",
      "\n",
      "        accuracy                           0.68       119\n",
      "       macro avg       0.57      0.54      0.52       119\n",
      "    weighted avg       0.63      0.68      0.63       119\n",
      "\n",
      "Epoch 190/2000, Loss: 0.0635\n"
     ]
    },
    {
     "name": "stderr",
     "output_type": "stream",
     "text": [
      "Training Epochs:  10%|█         | 201/2000 [00:03<00:30, 58.64it/s]"
     ]
    },
    {
     "name": "stdout",
     "output_type": "stream",
     "text": [
      "Test Accuracy at Epoch 190: 68.07%\n",
      "Test F1-score at Epoch 190: 0.7935\n",
      "Classification Report at Epoch 190:\n",
      "                  precision    recall  f1-score   support\n",
      "\n",
      "    infringement       0.44      0.22      0.30        36\n",
      "non_infringement       0.72      0.88      0.79        83\n",
      "\n",
      "        accuracy                           0.68       119\n",
      "       macro avg       0.58      0.55      0.54       119\n",
      "    weighted avg       0.64      0.68      0.64       119\n",
      "\n",
      "Epoch 200/2000, Loss: 0.0523\n",
      "Test Accuracy at Epoch 200: 68.91%\n",
      "Test F1-score at Epoch 200: 0.8021\n",
      "Classification Report at Epoch 200:\n",
      "                  precision    recall  f1-score   support\n",
      "\n",
      "    infringement       0.47      0.19      0.27        36\n",
      "non_infringement       0.72      0.90      0.80        83\n",
      "\n",
      "        accuracy                           0.69       119\n",
      "       macro avg       0.59      0.55      0.54       119\n",
      "    weighted avg       0.64      0.69      0.64       119\n",
      "\n"
     ]
    },
    {
     "name": "stderr",
     "output_type": "stream",
     "text": [
      "Training Epochs:  11%|█         | 223/2000 [00:03<00:27, 64.77it/s]"
     ]
    },
    {
     "name": "stdout",
     "output_type": "stream",
     "text": [
      "Epoch 210/2000, Loss: 0.0440\n",
      "Test Accuracy at Epoch 210: 68.91%\n",
      "Test F1-score at Epoch 210: 0.8021\n",
      "Classification Report at Epoch 210:\n",
      "                  precision    recall  f1-score   support\n",
      "\n",
      "    infringement       0.47      0.19      0.27        36\n",
      "non_infringement       0.72      0.90      0.80        83\n",
      "\n",
      "        accuracy                           0.69       119\n",
      "       macro avg       0.59      0.55      0.54       119\n",
      "    weighted avg       0.64      0.69      0.64       119\n",
      "\n",
      "Epoch 220/2000, Loss: 0.0353\n",
      "Test Accuracy at Epoch 220: 68.07%\n",
      "Test F1-score at Epoch 220: 0.7935\n",
      "Classification Report at Epoch 220:\n",
      "                  precision    recall  f1-score   support\n",
      "\n",
      "    infringement       0.44      0.22      0.30        36\n",
      "non_infringement       0.72      0.88      0.79        83\n",
      "\n",
      "        accuracy                           0.68       119\n",
      "       macro avg       0.58      0.55      0.54       119\n",
      "    weighted avg       0.64      0.68      0.64       119\n",
      "\n"
     ]
    },
    {
     "name": "stderr",
     "output_type": "stream",
     "text": [
      "Training Epochs:  12%|█▏        | 238/2000 [00:03<00:26, 67.55it/s]"
     ]
    },
    {
     "name": "stdout",
     "output_type": "stream",
     "text": [
      "Epoch 230/2000, Loss: 0.0307\n",
      "Test Accuracy at Epoch 230: 68.91%\n",
      "Test F1-score at Epoch 230: 0.8000\n",
      "Classification Report at Epoch 230:\n",
      "                  precision    recall  f1-score   support\n",
      "\n",
      "    infringement       0.47      0.22      0.30        36\n",
      "non_infringement       0.73      0.89      0.80        83\n",
      "\n",
      "        accuracy                           0.69       119\n",
      "       macro avg       0.60      0.56      0.55       119\n",
      "    weighted avg       0.65      0.69      0.65       119\n",
      "\n",
      "Epoch 240/2000, Loss: 0.0273\n",
      "Test Accuracy at Epoch 240: 68.91%\n",
      "Test F1-score at Epoch 240: 0.8000\n",
      "Classification Report at Epoch 240:\n",
      "                  precision    recall  f1-score   support\n",
      "\n",
      "    infringement       0.47      0.22      0.30        36\n",
      "non_infringement       0.73      0.89      0.80        83\n",
      "\n",
      "        accuracy                           0.69       119\n",
      "       macro avg       0.60      0.56      0.55       119\n",
      "    weighted avg       0.65      0.69      0.65       119\n",
      "\n"
     ]
    },
    {
     "name": "stderr",
     "output_type": "stream",
     "text": [
      "Training Epochs:  13%|█▎        | 260/2000 [00:04<00:26, 66.17it/s]"
     ]
    },
    {
     "name": "stdout",
     "output_type": "stream",
     "text": [
      "Epoch 250/2000, Loss: 0.0247\n",
      "Test Accuracy at Epoch 250: 68.91%\n",
      "Test F1-score at Epoch 250: 0.8000\n",
      "Classification Report at Epoch 250:\n",
      "                  precision    recall  f1-score   support\n",
      "\n",
      "    infringement       0.47      0.22      0.30        36\n",
      "non_infringement       0.73      0.89      0.80        83\n",
      "\n",
      "        accuracy                           0.69       119\n",
      "       macro avg       0.60      0.56      0.55       119\n",
      "    weighted avg       0.65      0.69      0.65       119\n",
      "\n",
      "Epoch 260/2000, Loss: 0.0227\n",
      "Test Accuracy at Epoch 260: 68.91%\n",
      "Test F1-score at Epoch 260: 0.8000\n",
      "Classification Report at Epoch 260:\n",
      "                  precision    recall  f1-score   support\n",
      "\n",
      "    infringement       0.47      0.22      0.30        36\n",
      "non_infringement       0.73      0.89      0.80        83\n",
      "\n",
      "        accuracy                           0.69       119\n",
      "       macro avg       0.60      0.56      0.55       119\n",
      "    weighted avg       0.65      0.69      0.65       119\n",
      "\n"
     ]
    },
    {
     "name": "stderr",
     "output_type": "stream",
     "text": [
      "Training Epochs:  14%|█▍        | 282/2000 [00:04<00:26, 65.07it/s]"
     ]
    },
    {
     "name": "stdout",
     "output_type": "stream",
     "text": [
      "Epoch 270/2000, Loss: 0.0210\n",
      "Test Accuracy at Epoch 270: 68.91%\n",
      "Test F1-score at Epoch 270: 0.8000\n",
      "Classification Report at Epoch 270:\n",
      "                  precision    recall  f1-score   support\n",
      "\n",
      "    infringement       0.47      0.22      0.30        36\n",
      "non_infringement       0.73      0.89      0.80        83\n",
      "\n",
      "        accuracy                           0.69       119\n",
      "       macro avg       0.60      0.56      0.55       119\n",
      "    weighted avg       0.65      0.69      0.65       119\n",
      "\n",
      "Epoch 280/2000, Loss: 0.0196\n",
      "Test Accuracy at Epoch 280: 68.91%\n",
      "Test F1-score at Epoch 280: 0.8000\n",
      "Classification Report at Epoch 280:\n",
      "                  precision    recall  f1-score   support\n",
      "\n",
      "    infringement       0.47      0.22      0.30        36\n",
      "non_infringement       0.73      0.89      0.80        83\n",
      "\n",
      "        accuracy                           0.69       119\n",
      "       macro avg       0.60      0.56      0.55       119\n",
      "    weighted avg       0.65      0.69      0.65       119\n",
      "\n"
     ]
    },
    {
     "name": "stderr",
     "output_type": "stream",
     "text": [
      "Training Epochs:  15%|█▍        | 296/2000 [00:04<00:25, 65.81it/s]"
     ]
    },
    {
     "name": "stdout",
     "output_type": "stream",
     "text": [
      "Epoch 290/2000, Loss: 0.0184\n",
      "Test Accuracy at Epoch 290: 68.91%\n",
      "Test F1-score at Epoch 290: 0.8000\n",
      "Classification Report at Epoch 290:\n",
      "                  precision    recall  f1-score   support\n",
      "\n",
      "    infringement       0.47      0.22      0.30        36\n",
      "non_infringement       0.73      0.89      0.80        83\n",
      "\n",
      "        accuracy                           0.69       119\n",
      "       macro avg       0.60      0.56      0.55       119\n",
      "    weighted avg       0.65      0.69      0.65       119\n",
      "\n",
      "Epoch 300/2000, Loss: 0.0173\n",
      "Test Accuracy at Epoch 300: 68.07%\n",
      "Test F1-score at Epoch 300: 0.7935\n",
      "Classification Report at Epoch 300:\n",
      "                  precision    recall  f1-score   support\n",
      "\n",
      "    infringement       0.44      0.22      0.30        36\n",
      "non_infringement       0.72      0.88      0.79        83\n",
      "\n",
      "        accuracy                           0.68       119\n",
      "       macro avg       0.58      0.55      0.54       119\n",
      "    weighted avg       0.64      0.68      0.64       119\n",
      "\n"
     ]
    },
    {
     "name": "stderr",
     "output_type": "stream",
     "text": [
      "Training Epochs:  16%|█▌        | 318/2000 [00:05<00:25, 66.64it/s]"
     ]
    },
    {
     "name": "stdout",
     "output_type": "stream",
     "text": [
      "Epoch 310/2000, Loss: 0.0163\n",
      "Test Accuracy at Epoch 310: 68.07%\n",
      "Test F1-score at Epoch 310: 0.7935\n",
      "Classification Report at Epoch 310:\n",
      "                  precision    recall  f1-score   support\n",
      "\n",
      "    infringement       0.44      0.22      0.30        36\n",
      "non_infringement       0.72      0.88      0.79        83\n",
      "\n",
      "        accuracy                           0.68       119\n",
      "       macro avg       0.58      0.55      0.54       119\n",
      "    weighted avg       0.64      0.68      0.64       119\n",
      "\n",
      "Epoch 320/2000, Loss: 0.0166\n",
      "Test Accuracy at Epoch 320: 68.91%\n",
      "Test F1-score at Epoch 320: 0.8000\n",
      "Classification Report at Epoch 320:\n",
      "                  precision    recall  f1-score   support\n",
      "\n",
      "    infringement       0.47      0.22      0.30        36\n",
      "non_infringement       0.73      0.89      0.80        83\n",
      "\n",
      "        accuracy                           0.69       119\n",
      "       macro avg       0.60      0.56      0.55       119\n",
      "    weighted avg       0.65      0.69      0.65       119\n",
      "\n"
     ]
    },
    {
     "name": "stderr",
     "output_type": "stream",
     "text": [
      "Training Epochs:  17%|█▋        | 340/2000 [00:05<00:25, 64.13it/s]"
     ]
    },
    {
     "name": "stdout",
     "output_type": "stream",
     "text": [
      "Epoch 330/2000, Loss: 0.0159\n",
      "Test Accuracy at Epoch 330: 68.91%\n",
      "Test F1-score at Epoch 330: 0.8000\n",
      "Classification Report at Epoch 330:\n",
      "                  precision    recall  f1-score   support\n",
      "\n",
      "    infringement       0.47      0.22      0.30        36\n",
      "non_infringement       0.73      0.89      0.80        83\n",
      "\n",
      "        accuracy                           0.69       119\n",
      "       macro avg       0.60      0.56      0.55       119\n",
      "    weighted avg       0.65      0.69      0.65       119\n",
      "\n",
      "Epoch 340/2000, Loss: 0.0154\n",
      "Test Accuracy at Epoch 340: 68.07%\n",
      "Test F1-score at Epoch 340: 0.7935\n",
      "Classification Report at Epoch 340:\n",
      "                  precision    recall  f1-score   support\n",
      "\n",
      "    infringement       0.44      0.22      0.30        36\n",
      "non_infringement       0.72      0.88      0.79        83\n",
      "\n",
      "        accuracy                           0.68       119\n",
      "       macro avg       0.58      0.55      0.54       119\n",
      "    weighted avg       0.64      0.68      0.64       119\n",
      "\n"
     ]
    },
    {
     "name": "stderr",
     "output_type": "stream",
     "text": [
      "Training Epochs:  18%|█▊        | 360/2000 [00:05<00:30, 54.22it/s]"
     ]
    },
    {
     "name": "stdout",
     "output_type": "stream",
     "text": [
      "Epoch 350/2000, Loss: 0.0149\n",
      "Test Accuracy at Epoch 350: 68.07%\n",
      "Test F1-score at Epoch 350: 0.7935\n",
      "Classification Report at Epoch 350:\n",
      "                  precision    recall  f1-score   support\n",
      "\n",
      "    infringement       0.44      0.22      0.30        36\n",
      "non_infringement       0.72      0.88      0.79        83\n",
      "\n",
      "        accuracy                           0.68       119\n",
      "       macro avg       0.58      0.55      0.54       119\n",
      "    weighted avg       0.64      0.68      0.64       119\n",
      "\n",
      "Epoch 360/2000, Loss: 0.0144\n",
      "Test Accuracy at Epoch 360: 68.07%\n",
      "Test F1-score at Epoch 360: 0.7935\n",
      "Classification Report at Epoch 360:\n",
      "                  precision    recall  f1-score   support\n",
      "\n",
      "    infringement       0.44      0.22      0.30        36\n",
      "non_infringement       0.72      0.88      0.79        83\n",
      "\n",
      "        accuracy                           0.68       119\n",
      "       macro avg       0.58      0.55      0.54       119\n",
      "    weighted avg       0.64      0.68      0.64       119\n",
      "\n"
     ]
    },
    {
     "name": "stderr",
     "output_type": "stream",
     "text": [
      "Training Epochs:  19%|█▉        | 381/2000 [00:06<00:27, 59.14it/s]"
     ]
    },
    {
     "name": "stdout",
     "output_type": "stream",
     "text": [
      "Epoch 370/2000, Loss: 0.0139\n",
      "Test Accuracy at Epoch 370: 68.07%\n",
      "Test F1-score at Epoch 370: 0.7935\n",
      "Classification Report at Epoch 370:\n",
      "                  precision    recall  f1-score   support\n",
      "\n",
      "    infringement       0.44      0.22      0.30        36\n",
      "non_infringement       0.72      0.88      0.79        83\n",
      "\n",
      "        accuracy                           0.68       119\n",
      "       macro avg       0.58      0.55      0.54       119\n",
      "    weighted avg       0.64      0.68      0.64       119\n",
      "\n",
      "Epoch 380/2000, Loss: 0.0135\n",
      "Test Accuracy at Epoch 380: 68.07%\n",
      "Test F1-score at Epoch 380: 0.7935\n",
      "Classification Report at Epoch 380:\n",
      "                  precision    recall  f1-score   support\n",
      "\n",
      "    infringement       0.44      0.22      0.30        36\n",
      "non_infringement       0.72      0.88      0.79        83\n",
      "\n",
      "        accuracy                           0.68       119\n",
      "       macro avg       0.58      0.55      0.54       119\n",
      "    weighted avg       0.64      0.68      0.64       119\n",
      "\n"
     ]
    },
    {
     "name": "stderr",
     "output_type": "stream",
     "text": [
      "Training Epochs:  20%|█▉        | 397/2000 [00:06<00:24, 66.23it/s]"
     ]
    },
    {
     "name": "stdout",
     "output_type": "stream",
     "text": [
      "Epoch 390/2000, Loss: 0.0132\n",
      "Test Accuracy at Epoch 390: 67.23%\n",
      "Test F1-score at Epoch 390: 0.7869\n",
      "Classification Report at Epoch 390:\n",
      "                  precision    recall  f1-score   support\n",
      "\n",
      "    infringement       0.42      0.22      0.29        36\n",
      "non_infringement       0.72      0.87      0.79        83\n",
      "\n",
      "        accuracy                           0.67       119\n",
      "       macro avg       0.57      0.54      0.54       119\n",
      "    weighted avg       0.63      0.67      0.64       119\n",
      "\n",
      "Epoch 400/2000, Loss: 0.0128\n",
      "Test Accuracy at Epoch 400: 67.23%\n",
      "Test F1-score at Epoch 400: 0.7869\n",
      "Classification Report at Epoch 400:\n",
      "                  precision    recall  f1-score   support\n",
      "\n",
      "    infringement       0.42      0.22      0.29        36\n",
      "non_infringement       0.72      0.87      0.79        83\n",
      "\n",
      "        accuracy                           0.67       119\n",
      "       macro avg       0.57      0.54      0.54       119\n",
      "    weighted avg       0.63      0.67      0.64       119\n",
      "\n"
     ]
    },
    {
     "name": "stderr",
     "output_type": "stream",
     "text": [
      "Training Epochs:  21%|██        | 421/2000 [00:06<00:22, 70.56it/s]"
     ]
    },
    {
     "name": "stdout",
     "output_type": "stream",
     "text": [
      "Epoch 410/2000, Loss: 0.0125\n",
      "Test Accuracy at Epoch 410: 67.23%\n",
      "Test F1-score at Epoch 410: 0.7869\n",
      "Classification Report at Epoch 410:\n",
      "                  precision    recall  f1-score   support\n",
      "\n",
      "    infringement       0.42      0.22      0.29        36\n",
      "non_infringement       0.72      0.87      0.79        83\n",
      "\n",
      "        accuracy                           0.67       119\n",
      "       macro avg       0.57      0.54      0.54       119\n",
      "    weighted avg       0.63      0.67      0.64       119\n",
      "\n",
      "Epoch 420/2000, Loss: 0.0122\n",
      "Test Accuracy at Epoch 420: 67.23%\n",
      "Test F1-score at Epoch 420: 0.7869\n",
      "Classification Report at Epoch 420:\n",
      "                  precision    recall  f1-score   support\n",
      "\n",
      "    infringement       0.42      0.22      0.29        36\n",
      "non_infringement       0.72      0.87      0.79        83\n",
      "\n",
      "        accuracy                           0.67       119\n",
      "       macro avg       0.57      0.54      0.54       119\n",
      "    weighted avg       0.63      0.67      0.64       119\n",
      "\n"
     ]
    },
    {
     "name": "stderr",
     "output_type": "stream",
     "text": [
      "Training Epochs:  22%|██▏       | 437/2000 [00:06<00:22, 70.11it/s]"
     ]
    },
    {
     "name": "stdout",
     "output_type": "stream",
     "text": [
      "Epoch 430/2000, Loss: 0.0120\n",
      "Test Accuracy at Epoch 430: 68.07%\n",
      "Test F1-score at Epoch 430: 0.7935\n",
      "Classification Report at Epoch 430:\n",
      "                  precision    recall  f1-score   support\n",
      "\n",
      "    infringement       0.44      0.22      0.30        36\n",
      "non_infringement       0.72      0.88      0.79        83\n",
      "\n",
      "        accuracy                           0.68       119\n",
      "       macro avg       0.58      0.55      0.54       119\n",
      "    weighted avg       0.64      0.68      0.64       119\n",
      "\n",
      "Epoch 440/2000, Loss: 0.0118\n",
      "Test Accuracy at Epoch 440: 68.07%\n",
      "Test F1-score at Epoch 440: 0.7935\n",
      "Classification Report at Epoch 440:\n",
      "                  precision    recall  f1-score   support\n",
      "\n",
      "    infringement       0.44      0.22      0.30        36\n",
      "non_infringement       0.72      0.88      0.79        83\n",
      "\n",
      "        accuracy                           0.68       119\n",
      "       macro avg       0.58      0.55      0.54       119\n",
      "    weighted avg       0.64      0.68      0.64       119\n",
      "\n"
     ]
    },
    {
     "name": "stderr",
     "output_type": "stream",
     "text": [
      "Training Epochs:  23%|██▎       | 460/2000 [00:07<00:23, 66.05it/s]"
     ]
    },
    {
     "name": "stdout",
     "output_type": "stream",
     "text": [
      "Epoch 450/2000, Loss: 0.0116\n",
      "Test Accuracy at Epoch 450: 68.07%\n",
      "Test F1-score at Epoch 450: 0.7935\n",
      "Classification Report at Epoch 450:\n",
      "                  precision    recall  f1-score   support\n",
      "\n",
      "    infringement       0.44      0.22      0.30        36\n",
      "non_infringement       0.72      0.88      0.79        83\n",
      "\n",
      "        accuracy                           0.68       119\n",
      "       macro avg       0.58      0.55      0.54       119\n",
      "    weighted avg       0.64      0.68      0.64       119\n",
      "\n",
      "Epoch 460/2000, Loss: 0.0114\n",
      "Test Accuracy at Epoch 460: 68.07%\n",
      "Test F1-score at Epoch 460: 0.7935\n",
      "Classification Report at Epoch 460:\n",
      "                  precision    recall  f1-score   support\n",
      "\n",
      "    infringement       0.44      0.22      0.30        36\n",
      "non_infringement       0.72      0.88      0.79        83\n",
      "\n",
      "        accuracy                           0.68       119\n",
      "       macro avg       0.58      0.55      0.54       119\n",
      "    weighted avg       0.64      0.68      0.64       119\n",
      "\n"
     ]
    },
    {
     "name": "stderr",
     "output_type": "stream",
     "text": [
      "Training Epochs:  24%|██▍       | 476/2000 [00:07<00:21, 69.84it/s]"
     ]
    },
    {
     "name": "stdout",
     "output_type": "stream",
     "text": [
      "Epoch 470/2000, Loss: 0.0112\n",
      "Test Accuracy at Epoch 470: 67.23%\n",
      "Test F1-score at Epoch 470: 0.7892\n",
      "Classification Report at Epoch 470:\n",
      "                  precision    recall  f1-score   support\n",
      "\n",
      "    infringement       0.41      0.19      0.26        36\n",
      "non_infringement       0.72      0.88      0.79        83\n",
      "\n",
      "        accuracy                           0.67       119\n",
      "       macro avg       0.56      0.54      0.53       119\n",
      "    weighted avg       0.62      0.67      0.63       119\n",
      "\n",
      "Epoch 480/2000, Loss: 0.0111\n",
      "Test Accuracy at Epoch 480: 67.23%\n",
      "Test F1-score at Epoch 480: 0.7892\n",
      "Classification Report at Epoch 480:\n",
      "                  precision    recall  f1-score   support\n",
      "\n",
      "    infringement       0.41      0.19      0.26        36\n",
      "non_infringement       0.72      0.88      0.79        83\n",
      "\n",
      "        accuracy                           0.67       119\n",
      "       macro avg       0.56      0.54      0.53       119\n",
      "    weighted avg       0.62      0.67      0.63       119\n",
      "\n"
     ]
    },
    {
     "name": "stderr",
     "output_type": "stream",
     "text": [
      "Training Epochs:  25%|██▍       | 499/2000 [00:07<00:21, 69.58it/s]"
     ]
    },
    {
     "name": "stdout",
     "output_type": "stream",
     "text": [
      "Epoch 490/2000, Loss: 0.0109\n",
      "Test Accuracy at Epoch 490: 67.23%\n",
      "Test F1-score at Epoch 490: 0.7892\n",
      "Classification Report at Epoch 490:\n",
      "                  precision    recall  f1-score   support\n",
      "\n",
      "    infringement       0.41      0.19      0.26        36\n",
      "non_infringement       0.72      0.88      0.79        83\n",
      "\n",
      "        accuracy                           0.67       119\n",
      "       macro avg       0.56      0.54      0.53       119\n",
      "    weighted avg       0.62      0.67      0.63       119\n",
      "\n",
      "Epoch 500/2000, Loss: 0.0108\n",
      "Test Accuracy at Epoch 500: 67.23%\n",
      "Test F1-score at Epoch 500: 0.7892\n",
      "Classification Report at Epoch 500:\n",
      "                  precision    recall  f1-score   support\n",
      "\n",
      "    infringement       0.41      0.19      0.26        36\n",
      "non_infringement       0.72      0.88      0.79        83\n",
      "\n",
      "        accuracy                           0.67       119\n",
      "       macro avg       0.56      0.54      0.53       119\n",
      "    weighted avg       0.62      0.67      0.63       119\n",
      "\n"
     ]
    },
    {
     "name": "stderr",
     "output_type": "stream",
     "text": [
      "Training Epochs:  26%|██▌       | 520/2000 [00:08<00:22, 66.86it/s]"
     ]
    },
    {
     "name": "stdout",
     "output_type": "stream",
     "text": [
      "Epoch 510/2000, Loss: 0.0107\n",
      "Test Accuracy at Epoch 510: 67.23%\n",
      "Test F1-score at Epoch 510: 0.7892\n",
      "Classification Report at Epoch 510:\n",
      "                  precision    recall  f1-score   support\n",
      "\n",
      "    infringement       0.41      0.19      0.26        36\n",
      "non_infringement       0.72      0.88      0.79        83\n",
      "\n",
      "        accuracy                           0.67       119\n",
      "       macro avg       0.56      0.54      0.53       119\n",
      "    weighted avg       0.62      0.67      0.63       119\n",
      "\n",
      "Epoch 520/2000, Loss: 0.0106\n",
      "Test Accuracy at Epoch 520: 68.07%\n",
      "Test F1-score at Epoch 520: 0.7957\n",
      "Classification Report at Epoch 520:\n",
      "                  precision    recall  f1-score   support\n",
      "\n",
      "    infringement       0.44      0.19      0.27        36\n",
      "non_infringement       0.72      0.89      0.80        83\n",
      "\n",
      "        accuracy                           0.68       119\n",
      "       macro avg       0.58      0.54      0.53       119\n",
      "    weighted avg       0.63      0.68      0.64       119\n",
      "\n"
     ]
    },
    {
     "name": "stderr",
     "output_type": "stream",
     "text": [
      "Training Epochs:  27%|██▋       | 542/2000 [00:08<00:21, 69.23it/s]"
     ]
    },
    {
     "name": "stdout",
     "output_type": "stream",
     "text": [
      "Epoch 530/2000, Loss: 0.0105\n",
      "Test Accuracy at Epoch 530: 68.07%\n",
      "Test F1-score at Epoch 530: 0.7957\n",
      "Classification Report at Epoch 530:\n",
      "                  precision    recall  f1-score   support\n",
      "\n",
      "    infringement       0.44      0.19      0.27        36\n",
      "non_infringement       0.72      0.89      0.80        83\n",
      "\n",
      "        accuracy                           0.68       119\n",
      "       macro avg       0.58      0.54      0.53       119\n",
      "    weighted avg       0.63      0.68      0.64       119\n",
      "\n",
      "Epoch 540/2000, Loss: 0.0104\n",
      "Test Accuracy at Epoch 540: 68.07%\n",
      "Test F1-score at Epoch 540: 0.7957\n",
      "Classification Report at Epoch 540:\n",
      "                  precision    recall  f1-score   support\n",
      "\n",
      "    infringement       0.44      0.19      0.27        36\n",
      "non_infringement       0.72      0.89      0.80        83\n",
      "\n",
      "        accuracy                           0.68       119\n",
      "       macro avg       0.58      0.54      0.53       119\n",
      "    weighted avg       0.63      0.68      0.64       119\n",
      "\n"
     ]
    },
    {
     "name": "stderr",
     "output_type": "stream",
     "text": [
      "Training Epochs:  28%|██▊       | 558/2000 [00:08<00:20, 70.06it/s]"
     ]
    },
    {
     "name": "stdout",
     "output_type": "stream",
     "text": [
      "Epoch 550/2000, Loss: 0.0103\n",
      "Test Accuracy at Epoch 550: 68.07%\n",
      "Test F1-score at Epoch 550: 0.7957\n",
      "Classification Report at Epoch 550:\n",
      "                  precision    recall  f1-score   support\n",
      "\n",
      "    infringement       0.44      0.19      0.27        36\n",
      "non_infringement       0.72      0.89      0.80        83\n",
      "\n",
      "        accuracy                           0.68       119\n",
      "       macro avg       0.58      0.54      0.53       119\n",
      "    weighted avg       0.63      0.68      0.64       119\n",
      "\n",
      "Epoch 560/2000, Loss: 0.0102\n",
      "Test Accuracy at Epoch 560: 68.07%\n",
      "Test F1-score at Epoch 560: 0.7957\n",
      "Classification Report at Epoch 560:\n",
      "                  precision    recall  f1-score   support\n",
      "\n",
      "    infringement       0.44      0.19      0.27        36\n",
      "non_infringement       0.72      0.89      0.80        83\n",
      "\n",
      "        accuracy                           0.68       119\n",
      "       macro avg       0.58      0.54      0.53       119\n",
      "    weighted avg       0.63      0.68      0.64       119\n",
      "\n"
     ]
    },
    {
     "name": "stderr",
     "output_type": "stream",
     "text": [
      "Training Epochs:  29%|██▉       | 580/2000 [00:08<00:20, 68.38it/s]"
     ]
    },
    {
     "name": "stdout",
     "output_type": "stream",
     "text": [
      "Epoch 570/2000, Loss: 0.0102\n",
      "Test Accuracy at Epoch 570: 68.07%\n",
      "Test F1-score at Epoch 570: 0.7935\n",
      "Classification Report at Epoch 570:\n",
      "                  precision    recall  f1-score   support\n",
      "\n",
      "    infringement       0.44      0.22      0.30        36\n",
      "non_infringement       0.72      0.88      0.79        83\n",
      "\n",
      "        accuracy                           0.68       119\n",
      "       macro avg       0.58      0.55      0.54       119\n",
      "    weighted avg       0.64      0.68      0.64       119\n",
      "\n",
      "Epoch 580/2000, Loss: 0.0101\n",
      "Test Accuracy at Epoch 580: 68.07%\n",
      "Test F1-score at Epoch 580: 0.7935\n",
      "Classification Report at Epoch 580:\n",
      "                  precision    recall  f1-score   support\n",
      "\n",
      "    infringement       0.44      0.22      0.30        36\n",
      "non_infringement       0.72      0.88      0.79        83\n",
      "\n",
      "        accuracy                           0.68       119\n",
      "       macro avg       0.58      0.55      0.54       119\n",
      "    weighted avg       0.64      0.68      0.64       119\n",
      "\n"
     ]
    },
    {
     "name": "stderr",
     "output_type": "stream",
     "text": [
      "Training Epochs:  30%|███       | 603/2000 [00:09<00:20, 69.45it/s]"
     ]
    },
    {
     "name": "stdout",
     "output_type": "stream",
     "text": [
      "Epoch 590/2000, Loss: 0.0100\n",
      "Test Accuracy at Epoch 590: 68.07%\n",
      "Test F1-score at Epoch 590: 0.7935\n",
      "Classification Report at Epoch 590:\n",
      "                  precision    recall  f1-score   support\n",
      "\n",
      "    infringement       0.44      0.22      0.30        36\n",
      "non_infringement       0.72      0.88      0.79        83\n",
      "\n",
      "        accuracy                           0.68       119\n",
      "       macro avg       0.58      0.55      0.54       119\n",
      "    weighted avg       0.64      0.68      0.64       119\n",
      "\n",
      "Epoch 600/2000, Loss: 0.0100\n",
      "Test Accuracy at Epoch 600: 68.07%\n",
      "Test F1-score at Epoch 600: 0.7935\n",
      "Classification Report at Epoch 600:\n",
      "                  precision    recall  f1-score   support\n",
      "\n",
      "    infringement       0.44      0.22      0.30        36\n",
      "non_infringement       0.72      0.88      0.79        83\n",
      "\n",
      "        accuracy                           0.68       119\n",
      "       macro avg       0.58      0.55      0.54       119\n",
      "    weighted avg       0.64      0.68      0.64       119\n",
      "\n"
     ]
    },
    {
     "name": "stderr",
     "output_type": "stream",
     "text": [
      "Training Epochs:  31%|███       | 617/2000 [00:09<00:20, 69.12it/s]"
     ]
    },
    {
     "name": "stdout",
     "output_type": "stream",
     "text": [
      "Epoch 610/2000, Loss: 0.0099\n",
      "Test Accuracy at Epoch 610: 68.07%\n",
      "Test F1-score at Epoch 610: 0.7935\n",
      "Classification Report at Epoch 610:\n",
      "                  precision    recall  f1-score   support\n",
      "\n",
      "    infringement       0.44      0.22      0.30        36\n",
      "non_infringement       0.72      0.88      0.79        83\n",
      "\n",
      "        accuracy                           0.68       119\n",
      "       macro avg       0.58      0.55      0.54       119\n",
      "    weighted avg       0.64      0.68      0.64       119\n",
      "\n",
      "Epoch 620/2000, Loss: 0.0098\n",
      "Test Accuracy at Epoch 620: 68.07%\n",
      "Test F1-score at Epoch 620: 0.7935\n",
      "Classification Report at Epoch 620:\n",
      "                  precision    recall  f1-score   support\n",
      "\n",
      "    infringement       0.44      0.22      0.30        36\n",
      "non_infringement       0.72      0.88      0.79        83\n",
      "\n",
      "        accuracy                           0.68       119\n",
      "       macro avg       0.58      0.55      0.54       119\n",
      "    weighted avg       0.64      0.68      0.64       119\n",
      "\n"
     ]
    },
    {
     "name": "stderr",
     "output_type": "stream",
     "text": [
      "Training Epochs:  32%|███▏      | 639/2000 [00:09<00:19, 70.23it/s]"
     ]
    },
    {
     "name": "stdout",
     "output_type": "stream",
     "text": [
      "Epoch 630/2000, Loss: 0.0098\n",
      "Test Accuracy at Epoch 630: 68.07%\n",
      "Test F1-score at Epoch 630: 0.7935\n",
      "Classification Report at Epoch 630:\n",
      "                  precision    recall  f1-score   support\n",
      "\n",
      "    infringement       0.44      0.22      0.30        36\n",
      "non_infringement       0.72      0.88      0.79        83\n",
      "\n",
      "        accuracy                           0.68       119\n",
      "       macro avg       0.58      0.55      0.54       119\n",
      "    weighted avg       0.64      0.68      0.64       119\n",
      "\n",
      "Epoch 640/2000, Loss: 0.0097\n",
      "Test Accuracy at Epoch 640: 68.07%\n",
      "Test F1-score at Epoch 640: 0.7935\n",
      "Classification Report at Epoch 640:\n",
      "                  precision    recall  f1-score   support\n",
      "\n",
      "    infringement       0.44      0.22      0.30        36\n",
      "non_infringement       0.72      0.88      0.79        83\n",
      "\n",
      "        accuracy                           0.68       119\n",
      "       macro avg       0.58      0.55      0.54       119\n",
      "    weighted avg       0.64      0.68      0.64       119\n",
      "\n"
     ]
    },
    {
     "name": "stderr",
     "output_type": "stream",
     "text": [
      "Training Epochs:  33%|███▎      | 662/2000 [00:10<00:19, 68.32it/s]"
     ]
    },
    {
     "name": "stdout",
     "output_type": "stream",
     "text": [
      "Epoch 650/2000, Loss: 0.0097\n",
      "Test Accuracy at Epoch 650: 68.91%\n",
      "Test F1-score at Epoch 650: 0.8000\n",
      "Classification Report at Epoch 650:\n",
      "                  precision    recall  f1-score   support\n",
      "\n",
      "    infringement       0.47      0.22      0.30        36\n",
      "non_infringement       0.73      0.89      0.80        83\n",
      "\n",
      "        accuracy                           0.69       119\n",
      "       macro avg       0.60      0.56      0.55       119\n",
      "    weighted avg       0.65      0.69      0.65       119\n",
      "\n",
      "Epoch 660/2000, Loss: 0.0096\n",
      "Test Accuracy at Epoch 660: 68.91%\n",
      "Test F1-score at Epoch 660: 0.8000\n",
      "Classification Report at Epoch 660:\n",
      "                  precision    recall  f1-score   support\n",
      "\n",
      "    infringement       0.47      0.22      0.30        36\n",
      "non_infringement       0.73      0.89      0.80        83\n",
      "\n",
      "        accuracy                           0.69       119\n",
      "       macro avg       0.60      0.56      0.55       119\n",
      "    weighted avg       0.65      0.69      0.65       119\n",
      "\n"
     ]
    },
    {
     "name": "stderr",
     "output_type": "stream",
     "text": [
      "Training Epochs:  34%|███▍      | 678/2000 [00:10<00:18, 70.86it/s]"
     ]
    },
    {
     "name": "stdout",
     "output_type": "stream",
     "text": [
      "Epoch 670/2000, Loss: 0.0096\n",
      "Test Accuracy at Epoch 670: 68.91%\n",
      "Test F1-score at Epoch 670: 0.8000\n",
      "Classification Report at Epoch 670:\n",
      "                  precision    recall  f1-score   support\n",
      "\n",
      "    infringement       0.47      0.22      0.30        36\n",
      "non_infringement       0.73      0.89      0.80        83\n",
      "\n",
      "        accuracy                           0.69       119\n",
      "       macro avg       0.60      0.56      0.55       119\n",
      "    weighted avg       0.65      0.69      0.65       119\n",
      "\n",
      "Epoch 680/2000, Loss: 0.0096\n",
      "Test Accuracy at Epoch 680: 68.91%\n",
      "Test F1-score at Epoch 680: 0.8000\n",
      "Classification Report at Epoch 680:\n",
      "                  precision    recall  f1-score   support\n",
      "\n",
      "    infringement       0.47      0.22      0.30        36\n",
      "non_infringement       0.73      0.89      0.80        83\n",
      "\n",
      "        accuracy                           0.69       119\n",
      "       macro avg       0.60      0.56      0.55       119\n",
      "    weighted avg       0.65      0.69      0.65       119\n",
      "\n"
     ]
    },
    {
     "name": "stderr",
     "output_type": "stream",
     "text": [
      "Training Epochs:  35%|███▌      | 701/2000 [00:10<00:18, 68.52it/s]"
     ]
    },
    {
     "name": "stdout",
     "output_type": "stream",
     "text": [
      "Epoch 690/2000, Loss: 0.0095\n",
      "Test Accuracy at Epoch 690: 68.91%\n",
      "Test F1-score at Epoch 690: 0.8000\n",
      "Classification Report at Epoch 690:\n",
      "                  precision    recall  f1-score   support\n",
      "\n",
      "    infringement       0.47      0.22      0.30        36\n",
      "non_infringement       0.73      0.89      0.80        83\n",
      "\n",
      "        accuracy                           0.69       119\n",
      "       macro avg       0.60      0.56      0.55       119\n",
      "    weighted avg       0.65      0.69      0.65       119\n",
      "\n",
      "Epoch 700/2000, Loss: 0.0095\n",
      "Test Accuracy at Epoch 700: 68.91%\n",
      "Test F1-score at Epoch 700: 0.8000\n",
      "Classification Report at Epoch 700:\n",
      "                  precision    recall  f1-score   support\n",
      "\n",
      "    infringement       0.47      0.22      0.30        36\n",
      "non_infringement       0.73      0.89      0.80        83\n",
      "\n",
      "        accuracy                           0.69       119\n",
      "       macro avg       0.60      0.56      0.55       119\n",
      "    weighted avg       0.65      0.69      0.65       119\n",
      "\n"
     ]
    },
    {
     "name": "stderr",
     "output_type": "stream",
     "text": [
      "Training Epochs:  36%|███▌      | 717/2000 [00:10<00:17, 71.42it/s]"
     ]
    },
    {
     "name": "stdout",
     "output_type": "stream",
     "text": [
      "Epoch 710/2000, Loss: 0.0095\n",
      "Test Accuracy at Epoch 710: 68.91%\n",
      "Test F1-score at Epoch 710: 0.8000\n",
      "Classification Report at Epoch 710:\n",
      "                  precision    recall  f1-score   support\n",
      "\n",
      "    infringement       0.47      0.22      0.30        36\n",
      "non_infringement       0.73      0.89      0.80        83\n",
      "\n",
      "        accuracy                           0.69       119\n",
      "       macro avg       0.60      0.56      0.55       119\n",
      "    weighted avg       0.65      0.69      0.65       119\n",
      "\n",
      "Epoch 720/2000, Loss: 0.0094\n",
      "Test Accuracy at Epoch 720: 68.91%\n",
      "Test F1-score at Epoch 720: 0.8000\n",
      "Classification Report at Epoch 720:\n",
      "                  precision    recall  f1-score   support\n",
      "\n",
      "    infringement       0.47      0.22      0.30        36\n",
      "non_infringement       0.73      0.89      0.80        83\n",
      "\n",
      "        accuracy                           0.69       119\n",
      "       macro avg       0.60      0.56      0.55       119\n",
      "    weighted avg       0.65      0.69      0.65       119\n",
      "\n"
     ]
    },
    {
     "name": "stderr",
     "output_type": "stream",
     "text": [
      "Training Epochs:  37%|███▋      | 741/2000 [00:11<00:18, 69.01it/s]"
     ]
    },
    {
     "name": "stdout",
     "output_type": "stream",
     "text": [
      "Epoch 730/2000, Loss: 0.0094\n",
      "Test Accuracy at Epoch 730: 68.91%\n",
      "Test F1-score at Epoch 730: 0.8000\n",
      "Classification Report at Epoch 730:\n",
      "                  precision    recall  f1-score   support\n",
      "\n",
      "    infringement       0.47      0.22      0.30        36\n",
      "non_infringement       0.73      0.89      0.80        83\n",
      "\n",
      "        accuracy                           0.69       119\n",
      "       macro avg       0.60      0.56      0.55       119\n",
      "    weighted avg       0.65      0.69      0.65       119\n",
      "\n",
      "Epoch 740/2000, Loss: 0.0093\n",
      "Test Accuracy at Epoch 740: 68.91%\n",
      "Test F1-score at Epoch 740: 0.8000\n",
      "Classification Report at Epoch 740:\n",
      "                  precision    recall  f1-score   support\n",
      "\n",
      "    infringement       0.47      0.22      0.30        36\n",
      "non_infringement       0.73      0.89      0.80        83\n",
      "\n",
      "        accuracy                           0.69       119\n",
      "       macro avg       0.60      0.56      0.55       119\n",
      "    weighted avg       0.65      0.69      0.65       119\n",
      "\n"
     ]
    },
    {
     "name": "stderr",
     "output_type": "stream",
     "text": [
      "Training Epochs:  38%|███▊      | 764/2000 [00:11<00:18, 67.94it/s]"
     ]
    },
    {
     "name": "stdout",
     "output_type": "stream",
     "text": [
      "Epoch 750/2000, Loss: 0.0093\n",
      "Test Accuracy at Epoch 750: 68.91%\n",
      "Test F1-score at Epoch 750: 0.8000\n",
      "Classification Report at Epoch 750:\n",
      "                  precision    recall  f1-score   support\n",
      "\n",
      "    infringement       0.47      0.22      0.30        36\n",
      "non_infringement       0.73      0.89      0.80        83\n",
      "\n",
      "        accuracy                           0.69       119\n",
      "       macro avg       0.60      0.56      0.55       119\n",
      "    weighted avg       0.65      0.69      0.65       119\n",
      "\n",
      "Epoch 760/2000, Loss: 0.0093\n",
      "Test Accuracy at Epoch 760: 68.91%\n",
      "Test F1-score at Epoch 760: 0.8000\n",
      "Classification Report at Epoch 760:\n",
      "                  precision    recall  f1-score   support\n",
      "\n",
      "    infringement       0.47      0.22      0.30        36\n",
      "non_infringement       0.73      0.89      0.80        83\n",
      "\n",
      "        accuracy                           0.69       119\n",
      "       macro avg       0.60      0.56      0.55       119\n",
      "    weighted avg       0.65      0.69      0.65       119\n",
      "\n"
     ]
    },
    {
     "name": "stderr",
     "output_type": "stream",
     "text": [
      "Training Epochs:  39%|███▉      | 780/2000 [00:11<00:17, 71.39it/s]"
     ]
    },
    {
     "name": "stdout",
     "output_type": "stream",
     "text": [
      "Epoch 770/2000, Loss: 0.0093\n",
      "Test Accuracy at Epoch 770: 68.91%\n",
      "Test F1-score at Epoch 770: 0.8000\n",
      "Classification Report at Epoch 770:\n",
      "                  precision    recall  f1-score   support\n",
      "\n",
      "    infringement       0.47      0.22      0.30        36\n",
      "non_infringement       0.73      0.89      0.80        83\n",
      "\n",
      "        accuracy                           0.69       119\n",
      "       macro avg       0.60      0.56      0.55       119\n",
      "    weighted avg       0.65      0.69      0.65       119\n",
      "\n",
      "Epoch 780/2000, Loss: 0.0092\n",
      "Test Accuracy at Epoch 780: 68.91%\n",
      "Test F1-score at Epoch 780: 0.8000\n",
      "Classification Report at Epoch 780:\n",
      "                  precision    recall  f1-score   support\n",
      "\n",
      "    infringement       0.47      0.22      0.30        36\n",
      "non_infringement       0.73      0.89      0.80        83\n",
      "\n",
      "        accuracy                           0.69       119\n",
      "       macro avg       0.60      0.56      0.55       119\n",
      "    weighted avg       0.65      0.69      0.65       119\n",
      "\n"
     ]
    },
    {
     "name": "stderr",
     "output_type": "stream",
     "text": [
      "Training Epochs:  40%|███▉      | 797/2000 [00:12<00:16, 75.14it/s]"
     ]
    },
    {
     "name": "stdout",
     "output_type": "stream",
     "text": [
      "Epoch 790/2000, Loss: 0.0092\n",
      "Test Accuracy at Epoch 790: 68.91%\n",
      "Test F1-score at Epoch 790: 0.8000\n",
      "Classification Report at Epoch 790:\n",
      "                  precision    recall  f1-score   support\n",
      "\n",
      "    infringement       0.47      0.22      0.30        36\n",
      "non_infringement       0.73      0.89      0.80        83\n",
      "\n",
      "        accuracy                           0.69       119\n",
      "       macro avg       0.60      0.56      0.55       119\n",
      "    weighted avg       0.65      0.69      0.65       119\n",
      "\n",
      "Epoch 800/2000, Loss: 0.0092\n",
      "Test Accuracy at Epoch 800: 68.91%\n",
      "Test F1-score at Epoch 800: 0.8000\n",
      "Classification Report at Epoch 800:\n",
      "                  precision    recall  f1-score   support\n",
      "\n",
      "    infringement       0.47      0.22      0.30        36\n",
      "non_infringement       0.73      0.89      0.80        83\n",
      "\n",
      "        accuracy                           0.69       119\n",
      "       macro avg       0.60      0.56      0.55       119\n",
      "    weighted avg       0.65      0.69      0.65       119\n",
      "\n"
     ]
    },
    {
     "name": "stderr",
     "output_type": "stream",
     "text": [
      "Training Epochs:  41%|████      | 821/2000 [00:12<00:15, 75.05it/s]"
     ]
    },
    {
     "name": "stdout",
     "output_type": "stream",
     "text": [
      "Epoch 810/2000, Loss: 0.0091\n",
      "Test Accuracy at Epoch 810: 68.91%\n",
      "Test F1-score at Epoch 810: 0.8000\n",
      "Classification Report at Epoch 810:\n",
      "                  precision    recall  f1-score   support\n",
      "\n",
      "    infringement       0.47      0.22      0.30        36\n",
      "non_infringement       0.73      0.89      0.80        83\n",
      "\n",
      "        accuracy                           0.69       119\n",
      "       macro avg       0.60      0.56      0.55       119\n",
      "    weighted avg       0.65      0.69      0.65       119\n",
      "\n",
      "Epoch 820/2000, Loss: 0.0091\n",
      "Test Accuracy at Epoch 820: 69.75%\n",
      "Test F1-score at Epoch 820: 0.8065\n",
      "Classification Report at Epoch 820:\n",
      "                  precision    recall  f1-score   support\n",
      "\n",
      "    infringement       0.50      0.22      0.31        36\n",
      "non_infringement       0.73      0.90      0.81        83\n",
      "\n",
      "        accuracy                           0.70       119\n",
      "       macro avg       0.61      0.56      0.56       119\n",
      "    weighted avg       0.66      0.70      0.66       119\n",
      "\n"
     ]
    },
    {
     "name": "stderr",
     "output_type": "stream",
     "text": [
      "Training Epochs:  42%|████▏     | 839/2000 [00:12<00:15, 76.85it/s]"
     ]
    },
    {
     "name": "stdout",
     "output_type": "stream",
     "text": [
      "Epoch 830/2000, Loss: 0.0091\n",
      "Test Accuracy at Epoch 830: 69.75%\n",
      "Test F1-score at Epoch 830: 0.8065\n",
      "Classification Report at Epoch 830:\n",
      "                  precision    recall  f1-score   support\n",
      "\n",
      "    infringement       0.50      0.22      0.31        36\n",
      "non_infringement       0.73      0.90      0.81        83\n",
      "\n",
      "        accuracy                           0.70       119\n",
      "       macro avg       0.61      0.56      0.56       119\n",
      "    weighted avg       0.66      0.70      0.66       119\n",
      "\n",
      "Epoch 840/2000, Loss: 0.0090\n",
      "Test Accuracy at Epoch 840: 69.75%\n",
      "Test F1-score at Epoch 840: 0.8065\n",
      "Classification Report at Epoch 840:\n",
      "                  precision    recall  f1-score   support\n",
      "\n",
      "    infringement       0.50      0.22      0.31        36\n",
      "non_infringement       0.73      0.90      0.81        83\n",
      "\n",
      "        accuracy                           0.70       119\n",
      "       macro avg       0.61      0.56      0.56       119\n",
      "    weighted avg       0.66      0.70      0.66       119\n",
      "\n"
     ]
    },
    {
     "name": "stderr",
     "output_type": "stream",
     "text": [
      "Training Epochs:  43%|████▎     | 863/2000 [00:12<00:14, 76.75it/s]"
     ]
    },
    {
     "name": "stdout",
     "output_type": "stream",
     "text": [
      "Epoch 850/2000, Loss: 0.0087\n",
      "Test Accuracy at Epoch 850: 69.75%\n",
      "Test F1-score at Epoch 850: 0.8065\n",
      "Classification Report at Epoch 850:\n",
      "                  precision    recall  f1-score   support\n",
      "\n",
      "    infringement       0.50      0.22      0.31        36\n",
      "non_infringement       0.73      0.90      0.81        83\n",
      "\n",
      "        accuracy                           0.70       119\n",
      "       macro avg       0.61      0.56      0.56       119\n",
      "    weighted avg       0.66      0.70      0.66       119\n",
      "\n",
      "Epoch 860/2000, Loss: 0.0082\n",
      "Test Accuracy at Epoch 860: 69.75%\n",
      "Test F1-score at Epoch 860: 0.8065\n",
      "Classification Report at Epoch 860:\n",
      "                  precision    recall  f1-score   support\n",
      "\n",
      "    infringement       0.50      0.22      0.31        36\n",
      "non_infringement       0.73      0.90      0.81        83\n",
      "\n",
      "        accuracy                           0.70       119\n",
      "       macro avg       0.61      0.56      0.56       119\n",
      "    weighted avg       0.66      0.70      0.66       119\n",
      "\n"
     ]
    },
    {
     "name": "stderr",
     "output_type": "stream",
     "text": [
      "Training Epochs:  44%|████▍     | 880/2000 [00:13<00:14, 76.54it/s]"
     ]
    },
    {
     "name": "stdout",
     "output_type": "stream",
     "text": [
      "Epoch 870/2000, Loss: 0.0081\n",
      "Test Accuracy at Epoch 870: 69.75%\n",
      "Test F1-score at Epoch 870: 0.8065\n",
      "Classification Report at Epoch 870:\n",
      "                  precision    recall  f1-score   support\n",
      "\n",
      "    infringement       0.50      0.22      0.31        36\n",
      "non_infringement       0.73      0.90      0.81        83\n",
      "\n",
      "        accuracy                           0.70       119\n",
      "       macro avg       0.61      0.56      0.56       119\n",
      "    weighted avg       0.66      0.70      0.66       119\n",
      "\n",
      "Epoch 880/2000, Loss: 0.0089\n",
      "Test Accuracy at Epoch 880: 68.91%\n",
      "Test F1-score at Epoch 880: 0.8000\n",
      "Classification Report at Epoch 880:\n",
      "                  precision    recall  f1-score   support\n",
      "\n",
      "    infringement       0.47      0.22      0.30        36\n",
      "non_infringement       0.73      0.89      0.80        83\n",
      "\n",
      "        accuracy                           0.69       119\n",
      "       macro avg       0.60      0.56      0.55       119\n",
      "    weighted avg       0.65      0.69      0.65       119\n",
      "\n"
     ]
    },
    {
     "name": "stderr",
     "output_type": "stream",
     "text": [
      "Training Epochs:  45%|████▌     | 905/2000 [00:13<00:14, 77.64it/s]"
     ]
    },
    {
     "name": "stdout",
     "output_type": "stream",
     "text": [
      "Epoch 890/2000, Loss: 0.0089\n",
      "Test Accuracy at Epoch 890: 69.75%\n",
      "Test F1-score at Epoch 890: 0.8065\n",
      "Classification Report at Epoch 890:\n",
      "                  precision    recall  f1-score   support\n",
      "\n",
      "    infringement       0.50      0.22      0.31        36\n",
      "non_infringement       0.73      0.90      0.81        83\n",
      "\n",
      "        accuracy                           0.70       119\n",
      "       macro avg       0.61      0.56      0.56       119\n",
      "    weighted avg       0.66      0.70      0.66       119\n",
      "\n",
      "Epoch 900/2000, Loss: 0.0088\n",
      "Test Accuracy at Epoch 900: 68.91%\n",
      "Test F1-score at Epoch 900: 0.8000\n",
      "Classification Report at Epoch 900:\n",
      "                  precision    recall  f1-score   support\n",
      "\n",
      "    infringement       0.47      0.22      0.30        36\n",
      "non_infringement       0.73      0.89      0.80        83\n",
      "\n",
      "        accuracy                           0.69       119\n",
      "       macro avg       0.60      0.56      0.55       119\n",
      "    weighted avg       0.65      0.69      0.65       119\n",
      "\n"
     ]
    },
    {
     "name": "stderr",
     "output_type": "stream",
     "text": [
      "Training Epochs:  46%|████▌     | 921/2000 [00:13<00:13, 77.79it/s]"
     ]
    },
    {
     "name": "stdout",
     "output_type": "stream",
     "text": [
      "Epoch 910/2000, Loss: 0.0088\n",
      "Test Accuracy at Epoch 910: 69.75%\n",
      "Test F1-score at Epoch 910: 0.8065\n",
      "Classification Report at Epoch 910:\n",
      "                  precision    recall  f1-score   support\n",
      "\n",
      "    infringement       0.50      0.22      0.31        36\n",
      "non_infringement       0.73      0.90      0.81        83\n",
      "\n",
      "        accuracy                           0.70       119\n",
      "       macro avg       0.61      0.56      0.56       119\n",
      "    weighted avg       0.66      0.70      0.66       119\n",
      "\n",
      "Epoch 920/2000, Loss: 0.0087\n",
      "Test Accuracy at Epoch 920: 69.75%\n",
      "Test F1-score at Epoch 920: 0.8065\n",
      "Classification Report at Epoch 920:\n",
      "                  precision    recall  f1-score   support\n",
      "\n",
      "    infringement       0.50      0.22      0.31        36\n",
      "non_infringement       0.73      0.90      0.81        83\n",
      "\n",
      "        accuracy                           0.70       119\n",
      "       macro avg       0.61      0.56      0.56       119\n",
      "    weighted avg       0.66      0.70      0.66       119\n",
      "\n"
     ]
    },
    {
     "name": "stderr",
     "output_type": "stream",
     "text": [
      "Training Epochs:  47%|████▋     | 939/2000 [00:13<00:13, 80.00it/s]"
     ]
    },
    {
     "name": "stdout",
     "output_type": "stream",
     "text": [
      "Epoch 930/2000, Loss: 0.0087\n",
      "Test Accuracy at Epoch 930: 69.75%\n",
      "Test F1-score at Epoch 930: 0.8065\n",
      "Classification Report at Epoch 930:\n",
      "                  precision    recall  f1-score   support\n",
      "\n",
      "    infringement       0.50      0.22      0.31        36\n",
      "non_infringement       0.73      0.90      0.81        83\n",
      "\n",
      "        accuracy                           0.70       119\n",
      "       macro avg       0.61      0.56      0.56       119\n",
      "    weighted avg       0.66      0.70      0.66       119\n",
      "\n",
      "Epoch 940/2000, Loss: 0.0086\n",
      "Test Accuracy at Epoch 940: 69.75%\n",
      "Test F1-score at Epoch 940: 0.8065\n",
      "Classification Report at Epoch 940:\n",
      "                  precision    recall  f1-score   support\n",
      "\n",
      "    infringement       0.50      0.22      0.31        36\n",
      "non_infringement       0.73      0.90      0.81        83\n",
      "\n",
      "        accuracy                           0.70       119\n",
      "       macro avg       0.61      0.56      0.56       119\n",
      "    weighted avg       0.66      0.70      0.66       119\n",
      "\n"
     ]
    },
    {
     "name": "stderr",
     "output_type": "stream",
     "text": [
      "Training Epochs:  48%|████▊     | 964/2000 [00:14<00:13, 78.24it/s]"
     ]
    },
    {
     "name": "stdout",
     "output_type": "stream",
     "text": [
      "Epoch 950/2000, Loss: 0.0085\n",
      "Test Accuracy at Epoch 950: 69.75%\n",
      "Test F1-score at Epoch 950: 0.8065\n",
      "Classification Report at Epoch 950:\n",
      "                  precision    recall  f1-score   support\n",
      "\n",
      "    infringement       0.50      0.22      0.31        36\n",
      "non_infringement       0.73      0.90      0.81        83\n",
      "\n",
      "        accuracy                           0.70       119\n",
      "       macro avg       0.61      0.56      0.56       119\n",
      "    weighted avg       0.66      0.70      0.66       119\n",
      "\n",
      "Epoch 960/2000, Loss: 0.0085\n",
      "Test Accuracy at Epoch 960: 69.75%\n",
      "Test F1-score at Epoch 960: 0.8065\n",
      "Classification Report at Epoch 960:\n",
      "                  precision    recall  f1-score   support\n",
      "\n",
      "    infringement       0.50      0.22      0.31        36\n",
      "non_infringement       0.73      0.90      0.81        83\n",
      "\n",
      "        accuracy                           0.70       119\n",
      "       macro avg       0.61      0.56      0.56       119\n",
      "    weighted avg       0.66      0.70      0.66       119\n",
      "\n"
     ]
    },
    {
     "name": "stderr",
     "output_type": "stream",
     "text": [
      "Training Epochs:  49%|████▉     | 980/2000 [00:14<00:13, 77.35it/s]"
     ]
    },
    {
     "name": "stdout",
     "output_type": "stream",
     "text": [
      "Epoch 970/2000, Loss: 0.0083\n",
      "Test Accuracy at Epoch 970: 69.75%\n",
      "Test F1-score at Epoch 970: 0.8065\n",
      "Classification Report at Epoch 970:\n",
      "                  precision    recall  f1-score   support\n",
      "\n",
      "    infringement       0.50      0.22      0.31        36\n",
      "non_infringement       0.73      0.90      0.81        83\n",
      "\n",
      "        accuracy                           0.70       119\n",
      "       macro avg       0.61      0.56      0.56       119\n",
      "    weighted avg       0.66      0.70      0.66       119\n",
      "\n",
      "Epoch 980/2000, Loss: 0.0082\n",
      "Test Accuracy at Epoch 980: 69.75%\n",
      "Test F1-score at Epoch 980: 0.8065\n",
      "Classification Report at Epoch 980:\n",
      "                  precision    recall  f1-score   support\n",
      "\n",
      "    infringement       0.50      0.22      0.31        36\n",
      "non_infringement       0.73      0.90      0.81        83\n",
      "\n",
      "        accuracy                           0.70       119\n",
      "       macro avg       0.61      0.56      0.56       119\n",
      "    weighted avg       0.66      0.70      0.66       119\n",
      "\n"
     ]
    },
    {
     "name": "stderr",
     "output_type": "stream",
     "text": [
      "Training Epochs:  50%|█████     | 1005/2000 [00:14<00:12, 78.32it/s]"
     ]
    },
    {
     "name": "stdout",
     "output_type": "stream",
     "text": [
      "Epoch 990/2000, Loss: 0.0081\n",
      "Test Accuracy at Epoch 990: 69.75%\n",
      "Test F1-score at Epoch 990: 0.8065\n",
      "Classification Report at Epoch 990:\n",
      "                  precision    recall  f1-score   support\n",
      "\n",
      "    infringement       0.50      0.22      0.31        36\n",
      "non_infringement       0.73      0.90      0.81        83\n",
      "\n",
      "        accuracy                           0.70       119\n",
      "       macro avg       0.61      0.56      0.56       119\n",
      "    weighted avg       0.66      0.70      0.66       119\n",
      "\n",
      "Epoch 1000/2000, Loss: 0.0080\n",
      "Test Accuracy at Epoch 1000: 69.75%\n",
      "Test F1-score at Epoch 1000: 0.8065\n",
      "Classification Report at Epoch 1000:\n",
      "                  precision    recall  f1-score   support\n",
      "\n",
      "    infringement       0.50      0.22      0.31        36\n",
      "non_infringement       0.73      0.90      0.81        83\n",
      "\n",
      "        accuracy                           0.70       119\n",
      "       macro avg       0.61      0.56      0.56       119\n",
      "    weighted avg       0.66      0.70      0.66       119\n",
      "\n"
     ]
    },
    {
     "name": "stderr",
     "output_type": "stream",
     "text": [
      "Training Epochs:  51%|█████     | 1021/2000 [00:14<00:12, 78.26it/s]"
     ]
    },
    {
     "name": "stdout",
     "output_type": "stream",
     "text": [
      "Epoch 1010/2000, Loss: 0.0078\n",
      "Test Accuracy at Epoch 1010: 69.75%\n",
      "Test F1-score at Epoch 1010: 0.8065\n",
      "Classification Report at Epoch 1010:\n",
      "                  precision    recall  f1-score   support\n",
      "\n",
      "    infringement       0.50      0.22      0.31        36\n",
      "non_infringement       0.73      0.90      0.81        83\n",
      "\n",
      "        accuracy                           0.70       119\n",
      "       macro avg       0.61      0.56      0.56       119\n",
      "    weighted avg       0.66      0.70      0.66       119\n",
      "\n",
      "Epoch 1020/2000, Loss: 0.0077\n",
      "Test Accuracy at Epoch 1020: 69.75%\n",
      "Test F1-score at Epoch 1020: 0.8065\n",
      "Classification Report at Epoch 1020:\n",
      "                  precision    recall  f1-score   support\n",
      "\n",
      "    infringement       0.50      0.22      0.31        36\n",
      "non_infringement       0.73      0.90      0.81        83\n",
      "\n",
      "        accuracy                           0.70       119\n",
      "       macro avg       0.61      0.56      0.56       119\n",
      "    weighted avg       0.66      0.70      0.66       119\n",
      "\n"
     ]
    },
    {
     "name": "stderr",
     "output_type": "stream",
     "text": [
      "Training Epochs:  52%|█████▏    | 1039/2000 [00:15<00:11, 80.33it/s]"
     ]
    },
    {
     "name": "stdout",
     "output_type": "stream",
     "text": [
      "Epoch 1030/2000, Loss: 0.0075\n",
      "Test Accuracy at Epoch 1030: 69.75%\n",
      "Test F1-score at Epoch 1030: 0.8065\n",
      "Classification Report at Epoch 1030:\n",
      "                  precision    recall  f1-score   support\n",
      "\n",
      "    infringement       0.50      0.22      0.31        36\n",
      "non_infringement       0.73      0.90      0.81        83\n",
      "\n",
      "        accuracy                           0.70       119\n",
      "       macro avg       0.61      0.56      0.56       119\n",
      "    weighted avg       0.66      0.70      0.66       119\n",
      "\n",
      "Epoch 1040/2000, Loss: 0.0072\n",
      "Test Accuracy at Epoch 1040: 69.75%\n",
      "Test F1-score at Epoch 1040: 0.8065\n",
      "Classification Report at Epoch 1040:\n",
      "                  precision    recall  f1-score   support\n",
      "\n",
      "    infringement       0.50      0.22      0.31        36\n",
      "non_infringement       0.73      0.90      0.81        83\n",
      "\n",
      "        accuracy                           0.70       119\n",
      "       macro avg       0.61      0.56      0.56       119\n",
      "    weighted avg       0.66      0.70      0.66       119\n",
      "\n"
     ]
    },
    {
     "name": "stderr",
     "output_type": "stream",
     "text": [
      "Training Epochs:  53%|█████▎    | 1064/2000 [00:15<00:11, 78.50it/s]"
     ]
    },
    {
     "name": "stdout",
     "output_type": "stream",
     "text": [
      "Epoch 1050/2000, Loss: 0.0070\n",
      "Test Accuracy at Epoch 1050: 69.75%\n",
      "Test F1-score at Epoch 1050: 0.8065\n",
      "Classification Report at Epoch 1050:\n",
      "                  precision    recall  f1-score   support\n",
      "\n",
      "    infringement       0.50      0.22      0.31        36\n",
      "non_infringement       0.73      0.90      0.81        83\n",
      "\n",
      "        accuracy                           0.70       119\n",
      "       macro avg       0.61      0.56      0.56       119\n",
      "    weighted avg       0.66      0.70      0.66       119\n",
      "\n",
      "Epoch 1060/2000, Loss: 0.0066\n",
      "Test Accuracy at Epoch 1060: 69.75%\n",
      "Test F1-score at Epoch 1060: 0.8065\n",
      "Classification Report at Epoch 1060:\n",
      "                  precision    recall  f1-score   support\n",
      "\n",
      "    infringement       0.50      0.22      0.31        36\n",
      "non_infringement       0.73      0.90      0.81        83\n",
      "\n",
      "        accuracy                           0.70       119\n",
      "       macro avg       0.61      0.56      0.56       119\n",
      "    weighted avg       0.66      0.70      0.66       119\n",
      "\n"
     ]
    },
    {
     "name": "stderr",
     "output_type": "stream",
     "text": [
      "Training Epochs:  54%|█████▍    | 1080/2000 [00:15<00:11, 77.71it/s]"
     ]
    },
    {
     "name": "stdout",
     "output_type": "stream",
     "text": [
      "Epoch 1070/2000, Loss: 0.0062\n",
      "Test Accuracy at Epoch 1070: 69.75%\n",
      "Test F1-score at Epoch 1070: 0.8065\n",
      "Classification Report at Epoch 1070:\n",
      "                  precision    recall  f1-score   support\n",
      "\n",
      "    infringement       0.50      0.22      0.31        36\n",
      "non_infringement       0.73      0.90      0.81        83\n",
      "\n",
      "        accuracy                           0.70       119\n",
      "       macro avg       0.61      0.56      0.56       119\n",
      "    weighted avg       0.66      0.70      0.66       119\n",
      "\n",
      "Epoch 1080/2000, Loss: 0.0057\n",
      "Test Accuracy at Epoch 1080: 69.75%\n",
      "Test F1-score at Epoch 1080: 0.8065\n",
      "Classification Report at Epoch 1080:\n",
      "                  precision    recall  f1-score   support\n",
      "\n",
      "    infringement       0.50      0.22      0.31        36\n",
      "non_infringement       0.73      0.90      0.81        83\n",
      "\n",
      "        accuracy                           0.70       119\n",
      "       macro avg       0.61      0.56      0.56       119\n",
      "    weighted avg       0.66      0.70      0.66       119\n",
      "\n"
     ]
    },
    {
     "name": "stderr",
     "output_type": "stream",
     "text": [
      "Training Epochs:  55%|█████▍    | 1098/2000 [00:15<00:11, 80.27it/s]"
     ]
    },
    {
     "name": "stdout",
     "output_type": "stream",
     "text": [
      "Epoch 1090/2000, Loss: 0.0053\n",
      "Test Accuracy at Epoch 1090: 69.75%\n",
      "Test F1-score at Epoch 1090: 0.8065\n",
      "Classification Report at Epoch 1090:\n",
      "                  precision    recall  f1-score   support\n",
      "\n",
      "    infringement       0.50      0.22      0.31        36\n",
      "non_infringement       0.73      0.90      0.81        83\n",
      "\n",
      "        accuracy                           0.70       119\n",
      "       macro avg       0.61      0.56      0.56       119\n",
      "    weighted avg       0.66      0.70      0.66       119\n",
      "\n",
      "Epoch 1100/2000, Loss: 0.0047\n",
      "Test Accuracy at Epoch 1100: 69.75%\n",
      "Test F1-score at Epoch 1100: 0.8065\n",
      "Classification Report at Epoch 1100:\n",
      "                  precision    recall  f1-score   support\n",
      "\n",
      "    infringement       0.50      0.22      0.31        36\n",
      "non_infringement       0.73      0.90      0.81        83\n",
      "\n",
      "        accuracy                           0.70       119\n",
      "       macro avg       0.61      0.56      0.56       119\n",
      "    weighted avg       0.66      0.70      0.66       119\n",
      "\n"
     ]
    },
    {
     "name": "stderr",
     "output_type": "stream",
     "text": [
      "Training Epochs:  56%|█████▌    | 1123/2000 [00:16<00:11, 79.40it/s]"
     ]
    },
    {
     "name": "stdout",
     "output_type": "stream",
     "text": [
      "Epoch 1110/2000, Loss: 0.0041\n",
      "Test Accuracy at Epoch 1110: 69.75%\n",
      "Test F1-score at Epoch 1110: 0.8065\n",
      "Classification Report at Epoch 1110:\n",
      "                  precision    recall  f1-score   support\n",
      "\n",
      "    infringement       0.50      0.22      0.31        36\n",
      "non_infringement       0.73      0.90      0.81        83\n",
      "\n",
      "        accuracy                           0.70       119\n",
      "       macro avg       0.61      0.56      0.56       119\n",
      "    weighted avg       0.66      0.70      0.66       119\n",
      "\n",
      "Epoch 1120/2000, Loss: 0.0035\n",
      "Test Accuracy at Epoch 1120: 68.91%\n",
      "Test F1-score at Epoch 1120: 0.8000\n",
      "Classification Report at Epoch 1120:\n",
      "                  precision    recall  f1-score   support\n",
      "\n",
      "    infringement       0.47      0.22      0.30        36\n",
      "non_infringement       0.73      0.89      0.80        83\n",
      "\n",
      "        accuracy                           0.69       119\n",
      "       macro avg       0.60      0.56      0.55       119\n",
      "    weighted avg       0.65      0.69      0.65       119\n",
      "\n"
     ]
    },
    {
     "name": "stderr",
     "output_type": "stream",
     "text": [
      "Training Epochs:  57%|█████▋    | 1140/2000 [00:16<00:10, 79.01it/s]"
     ]
    },
    {
     "name": "stdout",
     "output_type": "stream",
     "text": [
      "Epoch 1130/2000, Loss: 0.0029\n",
      "Test Accuracy at Epoch 1130: 68.07%\n",
      "Test F1-score at Epoch 1130: 0.7935\n",
      "Classification Report at Epoch 1130:\n",
      "                  precision    recall  f1-score   support\n",
      "\n",
      "    infringement       0.44      0.22      0.30        36\n",
      "non_infringement       0.72      0.88      0.79        83\n",
      "\n",
      "        accuracy                           0.68       119\n",
      "       macro avg       0.58      0.55      0.54       119\n",
      "    weighted avg       0.64      0.68      0.64       119\n",
      "\n",
      "Epoch 1140/2000, Loss: 0.0025\n",
      "Test Accuracy at Epoch 1140: 68.07%\n",
      "Test F1-score at Epoch 1140: 0.7935\n",
      "Classification Report at Epoch 1140:\n",
      "                  precision    recall  f1-score   support\n",
      "\n",
      "    infringement       0.44      0.22      0.30        36\n",
      "non_infringement       0.72      0.88      0.79        83\n",
      "\n",
      "        accuracy                           0.68       119\n",
      "       macro avg       0.58      0.55      0.54       119\n",
      "    weighted avg       0.64      0.68      0.64       119\n",
      "\n"
     ]
    },
    {
     "name": "stderr",
     "output_type": "stream",
     "text": [
      "Training Epochs:  58%|█████▊    | 1158/2000 [00:16<00:10, 80.73it/s]"
     ]
    },
    {
     "name": "stdout",
     "output_type": "stream",
     "text": [
      "Epoch 1150/2000, Loss: 0.0021\n",
      "Test Accuracy at Epoch 1150: 68.07%\n",
      "Test F1-score at Epoch 1150: 0.7935\n",
      "Classification Report at Epoch 1150:\n",
      "                  precision    recall  f1-score   support\n",
      "\n",
      "    infringement       0.44      0.22      0.30        36\n",
      "non_infringement       0.72      0.88      0.79        83\n",
      "\n",
      "        accuracy                           0.68       119\n",
      "       macro avg       0.58      0.55      0.54       119\n",
      "    weighted avg       0.64      0.68      0.64       119\n",
      "\n",
      "Epoch 1160/2000, Loss: 0.0017\n",
      "Test Accuracy at Epoch 1160: 68.07%\n",
      "Test F1-score at Epoch 1160: 0.7935\n",
      "Classification Report at Epoch 1160:\n",
      "                  precision    recall  f1-score   support\n",
      "\n",
      "    infringement       0.44      0.22      0.30        36\n",
      "non_infringement       0.72      0.88      0.79        83\n",
      "\n",
      "        accuracy                           0.68       119\n",
      "       macro avg       0.58      0.55      0.54       119\n",
      "    weighted avg       0.64      0.68      0.64       119\n",
      "\n"
     ]
    },
    {
     "name": "stderr",
     "output_type": "stream",
     "text": [
      "Training Epochs:  59%|█████▉    | 1184/2000 [00:17<00:10, 79.25it/s]"
     ]
    },
    {
     "name": "stdout",
     "output_type": "stream",
     "text": [
      "Epoch 1170/2000, Loss: 0.0014\n",
      "Test Accuracy at Epoch 1170: 68.07%\n",
      "Test F1-score at Epoch 1170: 0.7935\n",
      "Classification Report at Epoch 1170:\n",
      "                  precision    recall  f1-score   support\n",
      "\n",
      "    infringement       0.44      0.22      0.30        36\n",
      "non_infringement       0.72      0.88      0.79        83\n",
      "\n",
      "        accuracy                           0.68       119\n",
      "       macro avg       0.58      0.55      0.54       119\n",
      "    weighted avg       0.64      0.68      0.64       119\n",
      "\n",
      "Epoch 1180/2000, Loss: 0.0012\n",
      "Test Accuracy at Epoch 1180: 68.07%\n",
      "Test F1-score at Epoch 1180: 0.7935\n",
      "Classification Report at Epoch 1180:\n",
      "                  precision    recall  f1-score   support\n",
      "\n",
      "    infringement       0.44      0.22      0.30        36\n",
      "non_infringement       0.72      0.88      0.79        83\n",
      "\n",
      "        accuracy                           0.68       119\n",
      "       macro avg       0.58      0.55      0.54       119\n",
      "    weighted avg       0.64      0.68      0.64       119\n",
      "\n"
     ]
    },
    {
     "name": "stderr",
     "output_type": "stream",
     "text": [
      "Training Epochs:  60%|██████    | 1200/2000 [00:17<00:10, 78.53it/s]"
     ]
    },
    {
     "name": "stdout",
     "output_type": "stream",
     "text": [
      "Epoch 1190/2000, Loss: 0.0010\n",
      "Test Accuracy at Epoch 1190: 68.07%\n",
      "Test F1-score at Epoch 1190: 0.7935\n",
      "Classification Report at Epoch 1190:\n",
      "                  precision    recall  f1-score   support\n",
      "\n",
      "    infringement       0.44      0.22      0.30        36\n",
      "non_infringement       0.72      0.88      0.79        83\n",
      "\n",
      "        accuracy                           0.68       119\n",
      "       macro avg       0.58      0.55      0.54       119\n",
      "    weighted avg       0.64      0.68      0.64       119\n",
      "\n",
      "Epoch 1200/2000, Loss: 0.0009\n",
      "Test Accuracy at Epoch 1200: 68.07%\n",
      "Test F1-score at Epoch 1200: 0.7935\n",
      "Classification Report at Epoch 1200:\n",
      "                  precision    recall  f1-score   support\n",
      "\n",
      "    infringement       0.44      0.22      0.30        36\n",
      "non_infringement       0.72      0.88      0.79        83\n",
      "\n",
      "        accuracy                           0.68       119\n",
      "       macro avg       0.58      0.55      0.54       119\n",
      "    weighted avg       0.64      0.68      0.64       119\n",
      "\n"
     ]
    },
    {
     "name": "stderr",
     "output_type": "stream",
     "text": [
      "Training Epochs:  61%|██████    | 1218/2000 [00:17<00:09, 80.75it/s]"
     ]
    },
    {
     "name": "stdout",
     "output_type": "stream",
     "text": [
      "Epoch 1210/2000, Loss: 0.0008\n",
      "Test Accuracy at Epoch 1210: 68.07%\n",
      "Test F1-score at Epoch 1210: 0.7935\n",
      "Classification Report at Epoch 1210:\n",
      "                  precision    recall  f1-score   support\n",
      "\n",
      "    infringement       0.44      0.22      0.30        36\n",
      "non_infringement       0.72      0.88      0.79        83\n",
      "\n",
      "        accuracy                           0.68       119\n",
      "       macro avg       0.58      0.55      0.54       119\n",
      "    weighted avg       0.64      0.68      0.64       119\n",
      "\n",
      "Epoch 1220/2000, Loss: 0.0007\n",
      "Test Accuracy at Epoch 1220: 67.23%\n",
      "Test F1-score at Epoch 1220: 0.7869\n",
      "Classification Report at Epoch 1220:\n",
      "                  precision    recall  f1-score   support\n",
      "\n",
      "    infringement       0.42      0.22      0.29        36\n",
      "non_infringement       0.72      0.87      0.79        83\n",
      "\n",
      "        accuracy                           0.67       119\n",
      "       macro avg       0.57      0.54      0.54       119\n",
      "    weighted avg       0.63      0.67      0.64       119\n",
      "\n"
     ]
    },
    {
     "name": "stderr",
     "output_type": "stream",
     "text": [
      "Training Epochs:  62%|██████▏   | 1244/2000 [00:17<00:09, 78.80it/s]"
     ]
    },
    {
     "name": "stdout",
     "output_type": "stream",
     "text": [
      "Epoch 1230/2000, Loss: 0.0006\n",
      "Test Accuracy at Epoch 1230: 67.23%\n",
      "Test F1-score at Epoch 1230: 0.7869\n",
      "Classification Report at Epoch 1230:\n",
      "                  precision    recall  f1-score   support\n",
      "\n",
      "    infringement       0.42      0.22      0.29        36\n",
      "non_infringement       0.72      0.87      0.79        83\n",
      "\n",
      "        accuracy                           0.67       119\n",
      "       macro avg       0.57      0.54      0.54       119\n",
      "    weighted avg       0.63      0.67      0.64       119\n",
      "\n",
      "Epoch 1240/2000, Loss: 0.0005\n",
      "Test Accuracy at Epoch 1240: 67.23%\n",
      "Test F1-score at Epoch 1240: 0.7869\n",
      "Classification Report at Epoch 1240:\n",
      "                  precision    recall  f1-score   support\n",
      "\n",
      "    infringement       0.42      0.22      0.29        36\n",
      "non_infringement       0.72      0.87      0.79        83\n",
      "\n",
      "        accuracy                           0.67       119\n",
      "       macro avg       0.57      0.54      0.54       119\n",
      "    weighted avg       0.63      0.67      0.64       119\n",
      "\n"
     ]
    },
    {
     "name": "stderr",
     "output_type": "stream",
     "text": [
      "Training Epochs:  63%|██████▎   | 1260/2000 [00:17<00:09, 78.62it/s]"
     ]
    },
    {
     "name": "stdout",
     "output_type": "stream",
     "text": [
      "Epoch 1250/2000, Loss: 0.0005\n",
      "Test Accuracy at Epoch 1250: 67.23%\n",
      "Test F1-score at Epoch 1250: 0.7869\n",
      "Classification Report at Epoch 1250:\n",
      "                  precision    recall  f1-score   support\n",
      "\n",
      "    infringement       0.42      0.22      0.29        36\n",
      "non_infringement       0.72      0.87      0.79        83\n",
      "\n",
      "        accuracy                           0.67       119\n",
      "       macro avg       0.57      0.54      0.54       119\n",
      "    weighted avg       0.63      0.67      0.64       119\n",
      "\n",
      "Epoch 1260/2000, Loss: 0.0004\n",
      "Test Accuracy at Epoch 1260: 67.23%\n",
      "Test F1-score at Epoch 1260: 0.7869\n",
      "Classification Report at Epoch 1260:\n",
      "                  precision    recall  f1-score   support\n",
      "\n",
      "    infringement       0.42      0.22      0.29        36\n",
      "non_infringement       0.72      0.87      0.79        83\n",
      "\n",
      "        accuracy                           0.67       119\n",
      "       macro avg       0.57      0.54      0.54       119\n",
      "    weighted avg       0.63      0.67      0.64       119\n",
      "\n"
     ]
    },
    {
     "name": "stderr",
     "output_type": "stream",
     "text": [
      "Training Epochs:  64%|██████▍   | 1278/2000 [00:18<00:09, 79.91it/s]"
     ]
    },
    {
     "name": "stdout",
     "output_type": "stream",
     "text": [
      "Epoch 1270/2000, Loss: 0.0004\n",
      "Test Accuracy at Epoch 1270: 67.23%\n",
      "Test F1-score at Epoch 1270: 0.7869\n",
      "Classification Report at Epoch 1270:\n",
      "                  precision    recall  f1-score   support\n",
      "\n",
      "    infringement       0.42      0.22      0.29        36\n",
      "non_infringement       0.72      0.87      0.79        83\n",
      "\n",
      "        accuracy                           0.67       119\n",
      "       macro avg       0.57      0.54      0.54       119\n",
      "    weighted avg       0.63      0.67      0.64       119\n",
      "\n",
      "Epoch 1280/2000, Loss: 0.0003\n",
      "Test Accuracy at Epoch 1280: 67.23%\n",
      "Test F1-score at Epoch 1280: 0.7869\n",
      "Classification Report at Epoch 1280:\n",
      "                  precision    recall  f1-score   support\n",
      "\n",
      "    infringement       0.42      0.22      0.29        36\n",
      "non_infringement       0.72      0.87      0.79        83\n",
      "\n",
      "        accuracy                           0.67       119\n",
      "       macro avg       0.57      0.54      0.54       119\n",
      "    weighted avg       0.63      0.67      0.64       119\n",
      "\n"
     ]
    },
    {
     "name": "stderr",
     "output_type": "stream",
     "text": [
      "Training Epochs:  65%|██████▌   | 1302/2000 [00:18<00:09, 73.04it/s]"
     ]
    },
    {
     "name": "stdout",
     "output_type": "stream",
     "text": [
      "Epoch 1290/2000, Loss: 0.0003\n",
      "Test Accuracy at Epoch 1290: 67.23%\n",
      "Test F1-score at Epoch 1290: 0.7869\n",
      "Classification Report at Epoch 1290:\n",
      "                  precision    recall  f1-score   support\n",
      "\n",
      "    infringement       0.42      0.22      0.29        36\n",
      "non_infringement       0.72      0.87      0.79        83\n",
      "\n",
      "        accuracy                           0.67       119\n",
      "       macro avg       0.57      0.54      0.54       119\n",
      "    weighted avg       0.63      0.67      0.64       119\n",
      "\n",
      "Epoch 1300/2000, Loss: 0.0002\n",
      "Test Accuracy at Epoch 1300: 67.23%\n",
      "Test F1-score at Epoch 1300: 0.7869\n",
      "Classification Report at Epoch 1300:\n",
      "                  precision    recall  f1-score   support\n",
      "\n",
      "    infringement       0.42      0.22      0.29        36\n",
      "non_infringement       0.72      0.87      0.79        83\n",
      "\n",
      "        accuracy                           0.67       119\n",
      "       macro avg       0.57      0.54      0.54       119\n",
      "    weighted avg       0.63      0.67      0.64       119\n",
      "\n"
     ]
    },
    {
     "name": "stderr",
     "output_type": "stream",
     "text": [
      "Training Epochs:  66%|██████▌   | 1319/2000 [00:18<00:08, 77.66it/s]"
     ]
    },
    {
     "name": "stdout",
     "output_type": "stream",
     "text": [
      "Epoch 1310/2000, Loss: 0.0002\n",
      "Test Accuracy at Epoch 1310: 67.23%\n",
      "Test F1-score at Epoch 1310: 0.7869\n",
      "Classification Report at Epoch 1310:\n",
      "                  precision    recall  f1-score   support\n",
      "\n",
      "    infringement       0.42      0.22      0.29        36\n",
      "non_infringement       0.72      0.87      0.79        83\n",
      "\n",
      "        accuracy                           0.67       119\n",
      "       macro avg       0.57      0.54      0.54       119\n",
      "    weighted avg       0.63      0.67      0.64       119\n",
      "\n",
      "Epoch 1320/2000, Loss: 0.0002\n",
      "Test Accuracy at Epoch 1320: 67.23%\n",
      "Test F1-score at Epoch 1320: 0.7869\n",
      "Classification Report at Epoch 1320:\n",
      "                  precision    recall  f1-score   support\n",
      "\n",
      "    infringement       0.42      0.22      0.29        36\n",
      "non_infringement       0.72      0.87      0.79        83\n",
      "\n",
      "        accuracy                           0.67       119\n",
      "       macro avg       0.57      0.54      0.54       119\n",
      "    weighted avg       0.63      0.67      0.64       119\n",
      "\n"
     ]
    },
    {
     "name": "stderr",
     "output_type": "stream",
     "text": [
      "Training Epochs:  67%|██████▋   | 1343/2000 [00:19<00:08, 77.99it/s]"
     ]
    },
    {
     "name": "stdout",
     "output_type": "stream",
     "text": [
      "Epoch 1330/2000, Loss: 0.0002\n",
      "Test Accuracy at Epoch 1330: 67.23%\n",
      "Test F1-score at Epoch 1330: 0.7869\n",
      "Classification Report at Epoch 1330:\n",
      "                  precision    recall  f1-score   support\n",
      "\n",
      "    infringement       0.42      0.22      0.29        36\n",
      "non_infringement       0.72      0.87      0.79        83\n",
      "\n",
      "        accuracy                           0.67       119\n",
      "       macro avg       0.57      0.54      0.54       119\n",
      "    weighted avg       0.63      0.67      0.64       119\n",
      "\n",
      "Epoch 1340/2000, Loss: 0.0002\n",
      "Test Accuracy at Epoch 1340: 67.23%\n",
      "Test F1-score at Epoch 1340: 0.7869\n",
      "Classification Report at Epoch 1340:\n",
      "                  precision    recall  f1-score   support\n",
      "\n",
      "    infringement       0.42      0.22      0.29        36\n",
      "non_infringement       0.72      0.87      0.79        83\n",
      "\n",
      "        accuracy                           0.67       119\n",
      "       macro avg       0.57      0.54      0.54       119\n",
      "    weighted avg       0.63      0.67      0.64       119\n",
      "\n"
     ]
    },
    {
     "name": "stderr",
     "output_type": "stream",
     "text": [
      "Training Epochs:  68%|██████▊   | 1360/2000 [00:19<00:08, 76.05it/s]"
     ]
    },
    {
     "name": "stdout",
     "output_type": "stream",
     "text": [
      "Epoch 1350/2000, Loss: 0.0001\n",
      "Test Accuracy at Epoch 1350: 66.39%\n",
      "Test F1-score at Epoch 1350: 0.7802\n",
      "Classification Report at Epoch 1350:\n",
      "                  precision    recall  f1-score   support\n",
      "\n",
      "    infringement       0.40      0.22      0.29        36\n",
      "non_infringement       0.72      0.86      0.78        83\n",
      "\n",
      "        accuracy                           0.66       119\n",
      "       macro avg       0.56      0.54      0.53       119\n",
      "    weighted avg       0.62      0.66      0.63       119\n",
      "\n",
      "Epoch 1360/2000, Loss: 0.0001\n",
      "Test Accuracy at Epoch 1360: 66.39%\n",
      "Test F1-score at Epoch 1360: 0.7802\n",
      "Classification Report at Epoch 1360:\n",
      "                  precision    recall  f1-score   support\n",
      "\n",
      "    infringement       0.40      0.22      0.29        36\n",
      "non_infringement       0.72      0.86      0.78        83\n",
      "\n",
      "        accuracy                           0.66       119\n",
      "       macro avg       0.56      0.54      0.53       119\n",
      "    weighted avg       0.62      0.66      0.63       119\n",
      "\n"
     ]
    },
    {
     "name": "stderr",
     "output_type": "stream",
     "text": [
      "Training Epochs:  69%|██████▉   | 1385/2000 [00:19<00:07, 78.15it/s]"
     ]
    },
    {
     "name": "stdout",
     "output_type": "stream",
     "text": [
      "Epoch 1370/2000, Loss: 0.0001\n",
      "Test Accuracy at Epoch 1370: 66.39%\n",
      "Test F1-score at Epoch 1370: 0.7802\n",
      "Classification Report at Epoch 1370:\n",
      "                  precision    recall  f1-score   support\n",
      "\n",
      "    infringement       0.40      0.22      0.29        36\n",
      "non_infringement       0.72      0.86      0.78        83\n",
      "\n",
      "        accuracy                           0.66       119\n",
      "       macro avg       0.56      0.54      0.53       119\n",
      "    weighted avg       0.62      0.66      0.63       119\n",
      "\n",
      "Epoch 1380/2000, Loss: 0.0001\n",
      "Test Accuracy at Epoch 1380: 66.39%\n",
      "Test F1-score at Epoch 1380: 0.7802\n",
      "Classification Report at Epoch 1380:\n",
      "                  precision    recall  f1-score   support\n",
      "\n",
      "    infringement       0.40      0.22      0.29        36\n",
      "non_infringement       0.72      0.86      0.78        83\n",
      "\n",
      "        accuracy                           0.66       119\n",
      "       macro avg       0.56      0.54      0.53       119\n",
      "    weighted avg       0.62      0.66      0.63       119\n",
      "\n"
     ]
    },
    {
     "name": "stderr",
     "output_type": "stream",
     "text": [
      "Training Epochs:  70%|███████   | 1401/2000 [00:19<00:08, 74.21it/s]"
     ]
    },
    {
     "name": "stdout",
     "output_type": "stream",
     "text": [
      "Epoch 1390/2000, Loss: 0.0001\n",
      "Test Accuracy at Epoch 1390: 66.39%\n",
      "Test F1-score at Epoch 1390: 0.7802\n",
      "Classification Report at Epoch 1390:\n",
      "                  precision    recall  f1-score   support\n",
      "\n",
      "    infringement       0.40      0.22      0.29        36\n",
      "non_infringement       0.72      0.86      0.78        83\n",
      "\n",
      "        accuracy                           0.66       119\n",
      "       macro avg       0.56      0.54      0.53       119\n",
      "    weighted avg       0.62      0.66      0.63       119\n",
      "\n",
      "Epoch 1400/2000, Loss: 0.0001\n",
      "Test Accuracy at Epoch 1400: 66.39%\n",
      "Test F1-score at Epoch 1400: 0.7802\n",
      "Classification Report at Epoch 1400:\n",
      "                  precision    recall  f1-score   support\n",
      "\n",
      "    infringement       0.40      0.22      0.29        36\n",
      "non_infringement       0.72      0.86      0.78        83\n",
      "\n",
      "        accuracy                           0.66       119\n",
      "       macro avg       0.56      0.54      0.53       119\n",
      "    weighted avg       0.62      0.66      0.63       119\n",
      "\n"
     ]
    },
    {
     "name": "stderr",
     "output_type": "stream",
     "text": [
      "Training Epochs:  71%|███████   | 1419/2000 [00:20<00:07, 77.54it/s]"
     ]
    },
    {
     "name": "stdout",
     "output_type": "stream",
     "text": [
      "Epoch 1410/2000, Loss: 0.0001\n",
      "Test Accuracy at Epoch 1410: 66.39%\n",
      "Test F1-score at Epoch 1410: 0.7802\n",
      "Classification Report at Epoch 1410:\n",
      "                  precision    recall  f1-score   support\n",
      "\n",
      "    infringement       0.40      0.22      0.29        36\n",
      "non_infringement       0.72      0.86      0.78        83\n",
      "\n",
      "        accuracy                           0.66       119\n",
      "       macro avg       0.56      0.54      0.53       119\n",
      "    weighted avg       0.62      0.66      0.63       119\n",
      "\n",
      "Epoch 1420/2000, Loss: 0.0001\n",
      "Test Accuracy at Epoch 1420: 66.39%\n",
      "Test F1-score at Epoch 1420: 0.7802\n",
      "Classification Report at Epoch 1420:\n",
      "                  precision    recall  f1-score   support\n",
      "\n",
      "    infringement       0.40      0.22      0.29        36\n",
      "non_infringement       0.72      0.86      0.78        83\n",
      "\n",
      "        accuracy                           0.66       119\n",
      "       macro avg       0.56      0.54      0.53       119\n",
      "    weighted avg       0.62      0.66      0.63       119\n",
      "\n"
     ]
    },
    {
     "name": "stderr",
     "output_type": "stream",
     "text": [
      "Training Epochs:  72%|███████▏  | 1443/2000 [00:20<00:07, 75.18it/s]"
     ]
    },
    {
     "name": "stdout",
     "output_type": "stream",
     "text": [
      "Epoch 1430/2000, Loss: 0.0001\n",
      "Test Accuracy at Epoch 1430: 66.39%\n",
      "Test F1-score at Epoch 1430: 0.7802\n",
      "Classification Report at Epoch 1430:\n",
      "                  precision    recall  f1-score   support\n",
      "\n",
      "    infringement       0.40      0.22      0.29        36\n",
      "non_infringement       0.72      0.86      0.78        83\n",
      "\n",
      "        accuracy                           0.66       119\n",
      "       macro avg       0.56      0.54      0.53       119\n",
      "    weighted avg       0.62      0.66      0.63       119\n",
      "\n",
      "Epoch 1440/2000, Loss: 0.0001\n",
      "Test Accuracy at Epoch 1440: 66.39%\n",
      "Test F1-score at Epoch 1440: 0.7802\n",
      "Classification Report at Epoch 1440:\n",
      "                  precision    recall  f1-score   support\n",
      "\n",
      "    infringement       0.40      0.22      0.29        36\n",
      "non_infringement       0.72      0.86      0.78        83\n",
      "\n",
      "        accuracy                           0.66       119\n",
      "       macro avg       0.56      0.54      0.53       119\n",
      "    weighted avg       0.62      0.66      0.63       119\n",
      "\n"
     ]
    },
    {
     "name": "stderr",
     "output_type": "stream",
     "text": [
      "Training Epochs:  73%|███████▎  | 1460/2000 [00:20<00:07, 74.39it/s]"
     ]
    },
    {
     "name": "stdout",
     "output_type": "stream",
     "text": [
      "Epoch 1450/2000, Loss: 0.0001\n",
      "Test Accuracy at Epoch 1450: 66.39%\n",
      "Test F1-score at Epoch 1450: 0.7802\n",
      "Classification Report at Epoch 1450:\n",
      "                  precision    recall  f1-score   support\n",
      "\n",
      "    infringement       0.40      0.22      0.29        36\n",
      "non_infringement       0.72      0.86      0.78        83\n",
      "\n",
      "        accuracy                           0.66       119\n",
      "       macro avg       0.56      0.54      0.53       119\n",
      "    weighted avg       0.62      0.66      0.63       119\n",
      "\n",
      "Epoch 1460/2000, Loss: 0.0001\n",
      "Test Accuracy at Epoch 1460: 66.39%\n",
      "Test F1-score at Epoch 1460: 0.7802\n",
      "Classification Report at Epoch 1460:\n",
      "                  precision    recall  f1-score   support\n",
      "\n",
      "    infringement       0.40      0.22      0.29        36\n",
      "non_infringement       0.72      0.86      0.78        83\n",
      "\n",
      "        accuracy                           0.66       119\n",
      "       macro avg       0.56      0.54      0.53       119\n",
      "    weighted avg       0.62      0.66      0.63       119\n",
      "\n"
     ]
    },
    {
     "name": "stderr",
     "output_type": "stream",
     "text": [
      "Training Epochs:  74%|███████▍  | 1477/2000 [00:20<00:06, 75.48it/s]"
     ]
    },
    {
     "name": "stdout",
     "output_type": "stream",
     "text": [
      "Epoch 1470/2000, Loss: 0.0001\n",
      "Test Accuracy at Epoch 1470: 66.39%\n",
      "Test F1-score at Epoch 1470: 0.7802\n",
      "Classification Report at Epoch 1470:\n",
      "                  precision    recall  f1-score   support\n",
      "\n",
      "    infringement       0.40      0.22      0.29        36\n",
      "non_infringement       0.72      0.86      0.78        83\n",
      "\n",
      "        accuracy                           0.66       119\n",
      "       macro avg       0.56      0.54      0.53       119\n",
      "    weighted avg       0.62      0.66      0.63       119\n",
      "\n",
      "Epoch 1480/2000, Loss: 0.0001\n",
      "Test Accuracy at Epoch 1480: 66.39%\n",
      "Test F1-score at Epoch 1480: 0.7802\n",
      "Classification Report at Epoch 1480:\n",
      "                  precision    recall  f1-score   support\n",
      "\n",
      "    infringement       0.40      0.22      0.29        36\n",
      "non_infringement       0.72      0.86      0.78        83\n",
      "\n",
      "        accuracy                           0.66       119\n",
      "       macro avg       0.56      0.54      0.53       119\n",
      "    weighted avg       0.62      0.66      0.63       119\n",
      "\n"
     ]
    },
    {
     "name": "stderr",
     "output_type": "stream",
     "text": [
      "Training Epochs:  75%|███████▌  | 1501/2000 [00:21<00:06, 74.32it/s]"
     ]
    },
    {
     "name": "stdout",
     "output_type": "stream",
     "text": [
      "Epoch 1490/2000, Loss: 0.0001\n",
      "Test Accuracy at Epoch 1490: 66.39%\n",
      "Test F1-score at Epoch 1490: 0.7802\n",
      "Classification Report at Epoch 1490:\n",
      "                  precision    recall  f1-score   support\n",
      "\n",
      "    infringement       0.40      0.22      0.29        36\n",
      "non_infringement       0.72      0.86      0.78        83\n",
      "\n",
      "        accuracy                           0.66       119\n",
      "       macro avg       0.56      0.54      0.53       119\n",
      "    weighted avg       0.62      0.66      0.63       119\n",
      "\n",
      "Epoch 1500/2000, Loss: 0.0001\n",
      "Test Accuracy at Epoch 1500: 66.39%\n",
      "Test F1-score at Epoch 1500: 0.7802\n",
      "Classification Report at Epoch 1500:\n",
      "                  precision    recall  f1-score   support\n",
      "\n",
      "    infringement       0.40      0.22      0.29        36\n",
      "non_infringement       0.72      0.86      0.78        83\n",
      "\n",
      "        accuracy                           0.66       119\n",
      "       macro avg       0.56      0.54      0.53       119\n",
      "    weighted avg       0.62      0.66      0.63       119\n",
      "\n"
     ]
    },
    {
     "name": "stderr",
     "output_type": "stream",
     "text": [
      "Training Epochs:  76%|███████▌  | 1519/2000 [00:21<00:06, 77.96it/s]"
     ]
    },
    {
     "name": "stdout",
     "output_type": "stream",
     "text": [
      "Epoch 1510/2000, Loss: 0.0001\n",
      "Test Accuracy at Epoch 1510: 66.39%\n",
      "Test F1-score at Epoch 1510: 0.7802\n",
      "Classification Report at Epoch 1510:\n",
      "                  precision    recall  f1-score   support\n",
      "\n",
      "    infringement       0.40      0.22      0.29        36\n",
      "non_infringement       0.72      0.86      0.78        83\n",
      "\n",
      "        accuracy                           0.66       119\n",
      "       macro avg       0.56      0.54      0.53       119\n",
      "    weighted avg       0.62      0.66      0.63       119\n",
      "\n",
      "Epoch 1520/2000, Loss: 0.0001\n",
      "Test Accuracy at Epoch 1520: 66.39%\n",
      "Test F1-score at Epoch 1520: 0.7802\n",
      "Classification Report at Epoch 1520:\n",
      "                  precision    recall  f1-score   support\n",
      "\n",
      "    infringement       0.40      0.22      0.29        36\n",
      "non_infringement       0.72      0.86      0.78        83\n",
      "\n",
      "        accuracy                           0.66       119\n",
      "       macro avg       0.56      0.54      0.53       119\n",
      "    weighted avg       0.62      0.66      0.63       119\n",
      "\n"
     ]
    },
    {
     "name": "stderr",
     "output_type": "stream",
     "text": [
      "Training Epochs:  77%|███████▋  | 1543/2000 [00:21<00:05, 77.84it/s]"
     ]
    },
    {
     "name": "stdout",
     "output_type": "stream",
     "text": [
      "Epoch 1530/2000, Loss: 0.0001\n",
      "Test Accuracy at Epoch 1530: 66.39%\n",
      "Test F1-score at Epoch 1530: 0.7802\n",
      "Classification Report at Epoch 1530:\n",
      "                  precision    recall  f1-score   support\n",
      "\n",
      "    infringement       0.40      0.22      0.29        36\n",
      "non_infringement       0.72      0.86      0.78        83\n",
      "\n",
      "        accuracy                           0.66       119\n",
      "       macro avg       0.56      0.54      0.53       119\n",
      "    weighted avg       0.62      0.66      0.63       119\n",
      "\n",
      "Epoch 1540/2000, Loss: 0.0001\n",
      "Test Accuracy at Epoch 1540: 66.39%\n",
      "Test F1-score at Epoch 1540: 0.7802\n",
      "Classification Report at Epoch 1540:\n",
      "                  precision    recall  f1-score   support\n",
      "\n",
      "    infringement       0.40      0.22      0.29        36\n",
      "non_infringement       0.72      0.86      0.78        83\n",
      "\n",
      "        accuracy                           0.66       119\n",
      "       macro avg       0.56      0.54      0.53       119\n",
      "    weighted avg       0.62      0.66      0.63       119\n",
      "\n"
     ]
    },
    {
     "name": "stderr",
     "output_type": "stream",
     "text": [
      "Training Epochs:  78%|███████▊  | 1560/2000 [00:21<00:05, 78.18it/s]"
     ]
    },
    {
     "name": "stdout",
     "output_type": "stream",
     "text": [
      "Epoch 1550/2000, Loss: 0.0001\n",
      "Test Accuracy at Epoch 1550: 66.39%\n",
      "Test F1-score at Epoch 1550: 0.7802\n",
      "Classification Report at Epoch 1550:\n",
      "                  precision    recall  f1-score   support\n",
      "\n",
      "    infringement       0.40      0.22      0.29        36\n",
      "non_infringement       0.72      0.86      0.78        83\n",
      "\n",
      "        accuracy                           0.66       119\n",
      "       macro avg       0.56      0.54      0.53       119\n",
      "    weighted avg       0.62      0.66      0.63       119\n",
      "\n",
      "Epoch 1560/2000, Loss: 0.0000\n",
      "Test Accuracy at Epoch 1560: 66.39%\n",
      "Test F1-score at Epoch 1560: 0.7802\n",
      "Classification Report at Epoch 1560:\n",
      "                  precision    recall  f1-score   support\n",
      "\n",
      "    infringement       0.40      0.22      0.29        36\n",
      "non_infringement       0.72      0.86      0.78        83\n",
      "\n",
      "        accuracy                           0.66       119\n",
      "       macro avg       0.56      0.54      0.53       119\n",
      "    weighted avg       0.62      0.66      0.63       119\n",
      "\n"
     ]
    },
    {
     "name": "stderr",
     "output_type": "stream",
     "text": [
      "Training Epochs:  79%|███████▉  | 1578/2000 [00:22<00:05, 79.42it/s]"
     ]
    },
    {
     "name": "stdout",
     "output_type": "stream",
     "text": [
      "Epoch 1570/2000, Loss: 0.0000\n",
      "Test Accuracy at Epoch 1570: 66.39%\n",
      "Test F1-score at Epoch 1570: 0.7802\n",
      "Classification Report at Epoch 1570:\n",
      "                  precision    recall  f1-score   support\n",
      "\n",
      "    infringement       0.40      0.22      0.29        36\n",
      "non_infringement       0.72      0.86      0.78        83\n",
      "\n",
      "        accuracy                           0.66       119\n",
      "       macro avg       0.56      0.54      0.53       119\n",
      "    weighted avg       0.62      0.66      0.63       119\n",
      "\n",
      "Epoch 1580/2000, Loss: 0.0000\n",
      "Test Accuracy at Epoch 1580: 66.39%\n",
      "Test F1-score at Epoch 1580: 0.7802\n",
      "Classification Report at Epoch 1580:\n",
      "                  precision    recall  f1-score   support\n",
      "\n",
      "    infringement       0.40      0.22      0.29        36\n",
      "non_infringement       0.72      0.86      0.78        83\n",
      "\n",
      "        accuracy                           0.66       119\n",
      "       macro avg       0.56      0.54      0.53       119\n",
      "    weighted avg       0.62      0.66      0.63       119\n",
      "\n"
     ]
    },
    {
     "name": "stderr",
     "output_type": "stream",
     "text": [
      "Training Epochs:  80%|████████  | 1602/2000 [00:22<00:05, 75.77it/s]"
     ]
    },
    {
     "name": "stdout",
     "output_type": "stream",
     "text": [
      "Epoch 1590/2000, Loss: 0.0000\n",
      "Test Accuracy at Epoch 1590: 66.39%\n",
      "Test F1-score at Epoch 1590: 0.7802\n",
      "Classification Report at Epoch 1590:\n",
      "                  precision    recall  f1-score   support\n",
      "\n",
      "    infringement       0.40      0.22      0.29        36\n",
      "non_infringement       0.72      0.86      0.78        83\n",
      "\n",
      "        accuracy                           0.66       119\n",
      "       macro avg       0.56      0.54      0.53       119\n",
      "    weighted avg       0.62      0.66      0.63       119\n",
      "\n",
      "Epoch 1600/2000, Loss: 0.0000\n",
      "Test Accuracy at Epoch 1600: 66.39%\n",
      "Test F1-score at Epoch 1600: 0.7802\n",
      "Classification Report at Epoch 1600:\n",
      "                  precision    recall  f1-score   support\n",
      "\n",
      "    infringement       0.40      0.22      0.29        36\n",
      "non_infringement       0.72      0.86      0.78        83\n",
      "\n",
      "        accuracy                           0.66       119\n",
      "       macro avg       0.56      0.54      0.53       119\n",
      "    weighted avg       0.62      0.66      0.63       119\n",
      "\n"
     ]
    },
    {
     "name": "stderr",
     "output_type": "stream",
     "text": [
      "Training Epochs:  81%|████████  | 1619/2000 [00:22<00:04, 77.70it/s]"
     ]
    },
    {
     "name": "stdout",
     "output_type": "stream",
     "text": [
      "Epoch 1610/2000, Loss: 0.0000\n",
      "Test Accuracy at Epoch 1610: 66.39%\n",
      "Test F1-score at Epoch 1610: 0.7802\n",
      "Classification Report at Epoch 1610:\n",
      "                  precision    recall  f1-score   support\n",
      "\n",
      "    infringement       0.40      0.22      0.29        36\n",
      "non_infringement       0.72      0.86      0.78        83\n",
      "\n",
      "        accuracy                           0.66       119\n",
      "       macro avg       0.56      0.54      0.53       119\n",
      "    weighted avg       0.62      0.66      0.63       119\n",
      "\n",
      "Epoch 1620/2000, Loss: 0.0000\n",
      "Test Accuracy at Epoch 1620: 66.39%\n",
      "Test F1-score at Epoch 1620: 0.7802\n",
      "Classification Report at Epoch 1620:\n",
      "                  precision    recall  f1-score   support\n",
      "\n",
      "    infringement       0.40      0.22      0.29        36\n",
      "non_infringement       0.72      0.86      0.78        83\n",
      "\n",
      "        accuracy                           0.66       119\n",
      "       macro avg       0.56      0.54      0.53       119\n",
      "    weighted avg       0.62      0.66      0.63       119\n",
      "\n"
     ]
    },
    {
     "name": "stderr",
     "output_type": "stream",
     "text": [
      "Training Epochs:  82%|████████▏ | 1644/2000 [00:22<00:04, 79.20it/s]"
     ]
    },
    {
     "name": "stdout",
     "output_type": "stream",
     "text": [
      "Epoch 1630/2000, Loss: 0.0000\n",
      "Test Accuracy at Epoch 1630: 66.39%\n",
      "Test F1-score at Epoch 1630: 0.7802\n",
      "Classification Report at Epoch 1630:\n",
      "                  precision    recall  f1-score   support\n",
      "\n",
      "    infringement       0.40      0.22      0.29        36\n",
      "non_infringement       0.72      0.86      0.78        83\n",
      "\n",
      "        accuracy                           0.66       119\n",
      "       macro avg       0.56      0.54      0.53       119\n",
      "    weighted avg       0.62      0.66      0.63       119\n",
      "\n",
      "Epoch 1640/2000, Loss: 0.0000\n",
      "Test Accuracy at Epoch 1640: 66.39%\n",
      "Test F1-score at Epoch 1640: 0.7802\n",
      "Classification Report at Epoch 1640:\n",
      "                  precision    recall  f1-score   support\n",
      "\n",
      "    infringement       0.40      0.22      0.29        36\n",
      "non_infringement       0.72      0.86      0.78        83\n",
      "\n",
      "        accuracy                           0.66       119\n",
      "       macro avg       0.56      0.54      0.53       119\n",
      "    weighted avg       0.62      0.66      0.63       119\n",
      "\n"
     ]
    },
    {
     "name": "stderr",
     "output_type": "stream",
     "text": [
      "Training Epochs:  83%|████████▎ | 1660/2000 [00:23<00:04, 78.41it/s]"
     ]
    },
    {
     "name": "stdout",
     "output_type": "stream",
     "text": [
      "Epoch 1650/2000, Loss: 0.0000\n",
      "Test Accuracy at Epoch 1650: 66.39%\n",
      "Test F1-score at Epoch 1650: 0.7802\n",
      "Classification Report at Epoch 1650:\n",
      "                  precision    recall  f1-score   support\n",
      "\n",
      "    infringement       0.40      0.22      0.29        36\n",
      "non_infringement       0.72      0.86      0.78        83\n",
      "\n",
      "        accuracy                           0.66       119\n",
      "       macro avg       0.56      0.54      0.53       119\n",
      "    weighted avg       0.62      0.66      0.63       119\n",
      "\n",
      "Epoch 1660/2000, Loss: 0.0000\n",
      "Test Accuracy at Epoch 1660: 66.39%\n",
      "Test F1-score at Epoch 1660: 0.7802\n",
      "Classification Report at Epoch 1660:\n",
      "                  precision    recall  f1-score   support\n",
      "\n",
      "    infringement       0.40      0.22      0.29        36\n",
      "non_infringement       0.72      0.86      0.78        83\n",
      "\n",
      "        accuracy                           0.66       119\n",
      "       macro avg       0.56      0.54      0.53       119\n",
      "    weighted avg       0.62      0.66      0.63       119\n",
      "\n"
     ]
    },
    {
     "name": "stderr",
     "output_type": "stream",
     "text": [
      "Training Epochs:  84%|████████▍ | 1678/2000 [00:23<00:04, 80.05it/s]"
     ]
    },
    {
     "name": "stdout",
     "output_type": "stream",
     "text": [
      "Epoch 1670/2000, Loss: 0.0000\n",
      "Test Accuracy at Epoch 1670: 66.39%\n",
      "Test F1-score at Epoch 1670: 0.7802\n",
      "Classification Report at Epoch 1670:\n",
      "                  precision    recall  f1-score   support\n",
      "\n",
      "    infringement       0.40      0.22      0.29        36\n",
      "non_infringement       0.72      0.86      0.78        83\n",
      "\n",
      "        accuracy                           0.66       119\n",
      "       macro avg       0.56      0.54      0.53       119\n",
      "    weighted avg       0.62      0.66      0.63       119\n",
      "\n",
      "Epoch 1680/2000, Loss: 0.0000\n",
      "Test Accuracy at Epoch 1680: 66.39%\n",
      "Test F1-score at Epoch 1680: 0.7802\n",
      "Classification Report at Epoch 1680:\n",
      "                  precision    recall  f1-score   support\n",
      "\n",
      "    infringement       0.40      0.22      0.29        36\n",
      "non_infringement       0.72      0.86      0.78        83\n",
      "\n",
      "        accuracy                           0.66       119\n",
      "       macro avg       0.56      0.54      0.53       119\n",
      "    weighted avg       0.62      0.66      0.63       119\n",
      "\n"
     ]
    },
    {
     "name": "stderr",
     "output_type": "stream",
     "text": [
      "Training Epochs:  85%|████████▌ | 1703/2000 [00:23<00:03, 79.08it/s]"
     ]
    },
    {
     "name": "stdout",
     "output_type": "stream",
     "text": [
      "Epoch 1690/2000, Loss: 0.0000\n",
      "Test Accuracy at Epoch 1690: 66.39%\n",
      "Test F1-score at Epoch 1690: 0.7802\n",
      "Classification Report at Epoch 1690:\n",
      "                  precision    recall  f1-score   support\n",
      "\n",
      "    infringement       0.40      0.22      0.29        36\n",
      "non_infringement       0.72      0.86      0.78        83\n",
      "\n",
      "        accuracy                           0.66       119\n",
      "       macro avg       0.56      0.54      0.53       119\n",
      "    weighted avg       0.62      0.66      0.63       119\n",
      "\n",
      "Epoch 1700/2000, Loss: 0.0000\n",
      "Test Accuracy at Epoch 1700: 66.39%\n",
      "Test F1-score at Epoch 1700: 0.7802\n",
      "Classification Report at Epoch 1700:\n",
      "                  precision    recall  f1-score   support\n",
      "\n",
      "    infringement       0.40      0.22      0.29        36\n",
      "non_infringement       0.72      0.86      0.78        83\n",
      "\n",
      "        accuracy                           0.66       119\n",
      "       macro avg       0.56      0.54      0.53       119\n",
      "    weighted avg       0.62      0.66      0.63       119\n",
      "\n"
     ]
    },
    {
     "name": "stderr",
     "output_type": "stream",
     "text": [
      "Training Epochs:  86%|████████▌ | 1720/2000 [00:23<00:03, 77.97it/s]"
     ]
    },
    {
     "name": "stdout",
     "output_type": "stream",
     "text": [
      "Epoch 1710/2000, Loss: 0.0000\n",
      "Test Accuracy at Epoch 1710: 66.39%\n",
      "Test F1-score at Epoch 1710: 0.7802\n",
      "Classification Report at Epoch 1710:\n",
      "                  precision    recall  f1-score   support\n",
      "\n",
      "    infringement       0.40      0.22      0.29        36\n",
      "non_infringement       0.72      0.86      0.78        83\n",
      "\n",
      "        accuracy                           0.66       119\n",
      "       macro avg       0.56      0.54      0.53       119\n",
      "    weighted avg       0.62      0.66      0.63       119\n",
      "\n",
      "Epoch 1720/2000, Loss: 0.0000\n",
      "Test Accuracy at Epoch 1720: 66.39%\n",
      "Test F1-score at Epoch 1720: 0.7802\n",
      "Classification Report at Epoch 1720:\n",
      "                  precision    recall  f1-score   support\n",
      "\n",
      "    infringement       0.40      0.22      0.29        36\n",
      "non_infringement       0.72      0.86      0.78        83\n",
      "\n",
      "        accuracy                           0.66       119\n",
      "       macro avg       0.56      0.54      0.53       119\n",
      "    weighted avg       0.62      0.66      0.63       119\n",
      "\n"
     ]
    },
    {
     "name": "stderr",
     "output_type": "stream",
     "text": [
      "Training Epochs:  87%|████████▋ | 1738/2000 [00:24<00:03, 79.35it/s]"
     ]
    },
    {
     "name": "stdout",
     "output_type": "stream",
     "text": [
      "Epoch 1730/2000, Loss: 0.0000\n",
      "Test Accuracy at Epoch 1730: 66.39%\n",
      "Test F1-score at Epoch 1730: 0.7802\n",
      "Classification Report at Epoch 1730:\n",
      "                  precision    recall  f1-score   support\n",
      "\n",
      "    infringement       0.40      0.22      0.29        36\n",
      "non_infringement       0.72      0.86      0.78        83\n",
      "\n",
      "        accuracy                           0.66       119\n",
      "       macro avg       0.56      0.54      0.53       119\n",
      "    weighted avg       0.62      0.66      0.63       119\n",
      "\n",
      "Epoch 1740/2000, Loss: 0.0000\n",
      "Test Accuracy at Epoch 1740: 66.39%\n",
      "Test F1-score at Epoch 1740: 0.7802\n",
      "Classification Report at Epoch 1740:\n",
      "                  precision    recall  f1-score   support\n",
      "\n",
      "    infringement       0.40      0.22      0.29        36\n",
      "non_infringement       0.72      0.86      0.78        83\n",
      "\n",
      "        accuracy                           0.66       119\n",
      "       macro avg       0.56      0.54      0.53       119\n",
      "    weighted avg       0.62      0.66      0.63       119\n",
      "\n"
     ]
    },
    {
     "name": "stderr",
     "output_type": "stream",
     "text": [
      "Training Epochs:  88%|████████▊ | 1762/2000 [00:24<00:03, 77.39it/s]"
     ]
    },
    {
     "name": "stdout",
     "output_type": "stream",
     "text": [
      "Epoch 1750/2000, Loss: 0.0000\n",
      "Test Accuracy at Epoch 1750: 66.39%\n",
      "Test F1-score at Epoch 1750: 0.7802\n",
      "Classification Report at Epoch 1750:\n",
      "                  precision    recall  f1-score   support\n",
      "\n",
      "    infringement       0.40      0.22      0.29        36\n",
      "non_infringement       0.72      0.86      0.78        83\n",
      "\n",
      "        accuracy                           0.66       119\n",
      "       macro avg       0.56      0.54      0.53       119\n",
      "    weighted avg       0.62      0.66      0.63       119\n",
      "\n",
      "Epoch 1760/2000, Loss: 0.0000\n",
      "Test Accuracy at Epoch 1760: 66.39%\n",
      "Test F1-score at Epoch 1760: 0.7802\n",
      "Classification Report at Epoch 1760:\n",
      "                  precision    recall  f1-score   support\n",
      "\n",
      "    infringement       0.40      0.22      0.29        36\n",
      "non_infringement       0.72      0.86      0.78        83\n",
      "\n",
      "        accuracy                           0.66       119\n",
      "       macro avg       0.56      0.54      0.53       119\n",
      "    weighted avg       0.62      0.66      0.63       119\n",
      "\n"
     ]
    },
    {
     "name": "stderr",
     "output_type": "stream",
     "text": [
      "Training Epochs:  89%|████████▉ | 1779/2000 [00:24<00:02, 78.87it/s]"
     ]
    },
    {
     "name": "stdout",
     "output_type": "stream",
     "text": [
      "Epoch 1770/2000, Loss: 0.0000\n",
      "Test Accuracy at Epoch 1770: 66.39%\n",
      "Test F1-score at Epoch 1770: 0.7802\n",
      "Classification Report at Epoch 1770:\n",
      "                  precision    recall  f1-score   support\n",
      "\n",
      "    infringement       0.40      0.22      0.29        36\n",
      "non_infringement       0.72      0.86      0.78        83\n",
      "\n",
      "        accuracy                           0.66       119\n",
      "       macro avg       0.56      0.54      0.53       119\n",
      "    weighted avg       0.62      0.66      0.63       119\n",
      "\n",
      "Epoch 1780/2000, Loss: 0.0000\n",
      "Test Accuracy at Epoch 1780: 66.39%\n",
      "Test F1-score at Epoch 1780: 0.7802\n",
      "Classification Report at Epoch 1780:\n",
      "                  precision    recall  f1-score   support\n",
      "\n",
      "    infringement       0.40      0.22      0.29        36\n",
      "non_infringement       0.72      0.86      0.78        83\n",
      "\n",
      "        accuracy                           0.66       119\n",
      "       macro avg       0.56      0.54      0.53       119\n",
      "    weighted avg       0.62      0.66      0.63       119\n",
      "\n"
     ]
    },
    {
     "name": "stderr",
     "output_type": "stream",
     "text": [
      "Training Epochs:  90%|█████████ | 1803/2000 [00:24<00:02, 77.60it/s]"
     ]
    },
    {
     "name": "stdout",
     "output_type": "stream",
     "text": [
      "Epoch 1790/2000, Loss: 0.0000\n",
      "Test Accuracy at Epoch 1790: 66.39%\n",
      "Test F1-score at Epoch 1790: 0.7802\n",
      "Classification Report at Epoch 1790:\n",
      "                  precision    recall  f1-score   support\n",
      "\n",
      "    infringement       0.40      0.22      0.29        36\n",
      "non_infringement       0.72      0.86      0.78        83\n",
      "\n",
      "        accuracy                           0.66       119\n",
      "       macro avg       0.56      0.54      0.53       119\n",
      "    weighted avg       0.62      0.66      0.63       119\n",
      "\n",
      "Epoch 1800/2000, Loss: 0.0000\n",
      "Test Accuracy at Epoch 1800: 66.39%\n",
      "Test F1-score at Epoch 1800: 0.7802\n",
      "Classification Report at Epoch 1800:\n",
      "                  precision    recall  f1-score   support\n",
      "\n",
      "    infringement       0.40      0.22      0.29        36\n",
      "non_infringement       0.72      0.86      0.78        83\n",
      "\n",
      "        accuracy                           0.66       119\n",
      "       macro avg       0.56      0.54      0.53       119\n",
      "    weighted avg       0.62      0.66      0.63       119\n",
      "\n"
     ]
    },
    {
     "name": "stderr",
     "output_type": "stream",
     "text": [
      "Training Epochs:  91%|█████████ | 1820/2000 [00:25<00:02, 77.60it/s]"
     ]
    },
    {
     "name": "stdout",
     "output_type": "stream",
     "text": [
      "Epoch 1810/2000, Loss: 0.0000\n",
      "Test Accuracy at Epoch 1810: 66.39%\n",
      "Test F1-score at Epoch 1810: 0.7802\n",
      "Classification Report at Epoch 1810:\n",
      "                  precision    recall  f1-score   support\n",
      "\n",
      "    infringement       0.40      0.22      0.29        36\n",
      "non_infringement       0.72      0.86      0.78        83\n",
      "\n",
      "        accuracy                           0.66       119\n",
      "       macro avg       0.56      0.54      0.53       119\n",
      "    weighted avg       0.62      0.66      0.63       119\n",
      "\n",
      "Epoch 1820/2000, Loss: 0.0000\n",
      "Test Accuracy at Epoch 1820: 66.39%\n",
      "Test F1-score at Epoch 1820: 0.7802\n",
      "Classification Report at Epoch 1820:\n",
      "                  precision    recall  f1-score   support\n",
      "\n",
      "    infringement       0.40      0.22      0.29        36\n",
      "non_infringement       0.72      0.86      0.78        83\n",
      "\n",
      "        accuracy                           0.66       119\n",
      "       macro avg       0.56      0.54      0.53       119\n",
      "    weighted avg       0.62      0.66      0.63       119\n",
      "\n"
     ]
    },
    {
     "name": "stderr",
     "output_type": "stream",
     "text": [
      "Training Epochs:  92%|█████████▏| 1838/2000 [00:25<00:02, 79.48it/s]"
     ]
    },
    {
     "name": "stdout",
     "output_type": "stream",
     "text": [
      "Epoch 1830/2000, Loss: 0.0000\n",
      "Test Accuracy at Epoch 1830: 66.39%\n",
      "Test F1-score at Epoch 1830: 0.7802\n",
      "Classification Report at Epoch 1830:\n",
      "                  precision    recall  f1-score   support\n",
      "\n",
      "    infringement       0.40      0.22      0.29        36\n",
      "non_infringement       0.72      0.86      0.78        83\n",
      "\n",
      "        accuracy                           0.66       119\n",
      "       macro avg       0.56      0.54      0.53       119\n",
      "    weighted avg       0.62      0.66      0.63       119\n",
      "\n",
      "Epoch 1840/2000, Loss: 0.0000\n",
      "Test Accuracy at Epoch 1840: 66.39%\n",
      "Test F1-score at Epoch 1840: 0.7802\n",
      "Classification Report at Epoch 1840:\n",
      "                  precision    recall  f1-score   support\n",
      "\n",
      "    infringement       0.40      0.22      0.29        36\n",
      "non_infringement       0.72      0.86      0.78        83\n",
      "\n",
      "        accuracy                           0.66       119\n",
      "       macro avg       0.56      0.54      0.53       119\n",
      "    weighted avg       0.62      0.66      0.63       119\n",
      "\n"
     ]
    },
    {
     "name": "stderr",
     "output_type": "stream",
     "text": [
      "Training Epochs:  93%|█████████▎| 1862/2000 [00:25<00:01, 77.67it/s]"
     ]
    },
    {
     "name": "stdout",
     "output_type": "stream",
     "text": [
      "Epoch 1850/2000, Loss: 0.0000\n",
      "Test Accuracy at Epoch 1850: 66.39%\n",
      "Test F1-score at Epoch 1850: 0.7802\n",
      "Classification Report at Epoch 1850:\n",
      "                  precision    recall  f1-score   support\n",
      "\n",
      "    infringement       0.40      0.22      0.29        36\n",
      "non_infringement       0.72      0.86      0.78        83\n",
      "\n",
      "        accuracy                           0.66       119\n",
      "       macro avg       0.56      0.54      0.53       119\n",
      "    weighted avg       0.62      0.66      0.63       119\n",
      "\n",
      "Epoch 1860/2000, Loss: 0.0000\n",
      "Test Accuracy at Epoch 1860: 66.39%\n",
      "Test F1-score at Epoch 1860: 0.7802\n",
      "Classification Report at Epoch 1860:\n",
      "                  precision    recall  f1-score   support\n",
      "\n",
      "    infringement       0.40      0.22      0.29        36\n",
      "non_infringement       0.72      0.86      0.78        83\n",
      "\n",
      "        accuracy                           0.66       119\n",
      "       macro avg       0.56      0.54      0.53       119\n",
      "    weighted avg       0.62      0.66      0.63       119\n",
      "\n"
     ]
    },
    {
     "name": "stderr",
     "output_type": "stream",
     "text": [
      "Training Epochs:  94%|█████████▍| 1879/2000 [00:25<00:01, 80.81it/s]"
     ]
    },
    {
     "name": "stdout",
     "output_type": "stream",
     "text": [
      "Epoch 1870/2000, Loss: 0.0000\n",
      "Test Accuracy at Epoch 1870: 66.39%\n",
      "Test F1-score at Epoch 1870: 0.7802\n",
      "Classification Report at Epoch 1870:\n",
      "                  precision    recall  f1-score   support\n",
      "\n",
      "    infringement       0.40      0.22      0.29        36\n",
      "non_infringement       0.72      0.86      0.78        83\n",
      "\n",
      "        accuracy                           0.66       119\n",
      "       macro avg       0.56      0.54      0.53       119\n",
      "    weighted avg       0.62      0.66      0.63       119\n",
      "\n",
      "Epoch 1880/2000, Loss: 0.0000\n",
      "Test Accuracy at Epoch 1880: 66.39%\n",
      "Test F1-score at Epoch 1880: 0.7802\n",
      "Classification Report at Epoch 1880:\n",
      "                  precision    recall  f1-score   support\n",
      "\n",
      "    infringement       0.40      0.22      0.29        36\n",
      "non_infringement       0.72      0.86      0.78        83\n",
      "\n",
      "        accuracy                           0.66       119\n",
      "       macro avg       0.56      0.54      0.53       119\n",
      "    weighted avg       0.62      0.66      0.63       119\n",
      "\n"
     ]
    },
    {
     "name": "stderr",
     "output_type": "stream",
     "text": [
      "Training Epochs:  95%|█████████▌| 1905/2000 [00:26<00:01, 79.03it/s]"
     ]
    },
    {
     "name": "stdout",
     "output_type": "stream",
     "text": [
      "Epoch 1890/2000, Loss: 0.0000\n",
      "Test Accuracy at Epoch 1890: 66.39%\n",
      "Test F1-score at Epoch 1890: 0.7802\n",
      "Classification Report at Epoch 1890:\n",
      "                  precision    recall  f1-score   support\n",
      "\n",
      "    infringement       0.40      0.22      0.29        36\n",
      "non_infringement       0.72      0.86      0.78        83\n",
      "\n",
      "        accuracy                           0.66       119\n",
      "       macro avg       0.56      0.54      0.53       119\n",
      "    weighted avg       0.62      0.66      0.63       119\n",
      "\n",
      "Epoch 1900/2000, Loss: 0.0000\n",
      "Test Accuracy at Epoch 1900: 66.39%\n",
      "Test F1-score at Epoch 1900: 0.7802\n",
      "Classification Report at Epoch 1900:\n",
      "                  precision    recall  f1-score   support\n",
      "\n",
      "    infringement       0.40      0.22      0.29        36\n",
      "non_infringement       0.72      0.86      0.78        83\n",
      "\n",
      "        accuracy                           0.66       119\n",
      "       macro avg       0.56      0.54      0.53       119\n",
      "    weighted avg       0.62      0.66      0.63       119\n",
      "\n"
     ]
    },
    {
     "name": "stderr",
     "output_type": "stream",
     "text": [
      "Training Epochs:  96%|█████████▌| 1921/2000 [00:26<00:01, 79.00it/s]"
     ]
    },
    {
     "name": "stdout",
     "output_type": "stream",
     "text": [
      "Epoch 1910/2000, Loss: 0.0000\n",
      "Test Accuracy at Epoch 1910: 66.39%\n",
      "Test F1-score at Epoch 1910: 0.7802\n",
      "Classification Report at Epoch 1910:\n",
      "                  precision    recall  f1-score   support\n",
      "\n",
      "    infringement       0.40      0.22      0.29        36\n",
      "non_infringement       0.72      0.86      0.78        83\n",
      "\n",
      "        accuracy                           0.66       119\n",
      "       macro avg       0.56      0.54      0.53       119\n",
      "    weighted avg       0.62      0.66      0.63       119\n",
      "\n",
      "Epoch 1920/2000, Loss: 0.0000\n",
      "Test Accuracy at Epoch 1920: 66.39%\n",
      "Test F1-score at Epoch 1920: 0.7802\n",
      "Classification Report at Epoch 1920:\n",
      "                  precision    recall  f1-score   support\n",
      "\n",
      "    infringement       0.40      0.22      0.29        36\n",
      "non_infringement       0.72      0.86      0.78        83\n",
      "\n",
      "        accuracy                           0.66       119\n",
      "       macro avg       0.56      0.54      0.53       119\n",
      "    weighted avg       0.62      0.66      0.63       119\n",
      "\n"
     ]
    },
    {
     "name": "stderr",
     "output_type": "stream",
     "text": [
      "Training Epochs:  97%|█████████▋| 1939/2000 [00:26<00:00, 80.78it/s]"
     ]
    },
    {
     "name": "stdout",
     "output_type": "stream",
     "text": [
      "Epoch 1930/2000, Loss: 0.0000\n",
      "Test Accuracy at Epoch 1930: 66.39%\n",
      "Test F1-score at Epoch 1930: 0.7802\n",
      "Classification Report at Epoch 1930:\n",
      "                  precision    recall  f1-score   support\n",
      "\n",
      "    infringement       0.40      0.22      0.29        36\n",
      "non_infringement       0.72      0.86      0.78        83\n",
      "\n",
      "        accuracy                           0.66       119\n",
      "       macro avg       0.56      0.54      0.53       119\n",
      "    weighted avg       0.62      0.66      0.63       119\n",
      "\n",
      "Epoch 1940/2000, Loss: 0.0000\n",
      "Test Accuracy at Epoch 1940: 66.39%\n",
      "Test F1-score at Epoch 1940: 0.7802\n",
      "Classification Report at Epoch 1940:\n",
      "                  precision    recall  f1-score   support\n",
      "\n",
      "    infringement       0.40      0.22      0.29        36\n",
      "non_infringement       0.72      0.86      0.78        83\n",
      "\n",
      "        accuracy                           0.66       119\n",
      "       macro avg       0.56      0.54      0.53       119\n",
      "    weighted avg       0.62      0.66      0.63       119\n",
      "\n"
     ]
    },
    {
     "name": "stderr",
     "output_type": "stream",
     "text": [
      "Training Epochs:  98%|█████████▊| 1966/2000 [00:27<00:00, 80.69it/s]"
     ]
    },
    {
     "name": "stdout",
     "output_type": "stream",
     "text": [
      "Epoch 1950/2000, Loss: 0.0000\n",
      "Test Accuracy at Epoch 1950: 66.39%\n",
      "Test F1-score at Epoch 1950: 0.7802\n",
      "Classification Report at Epoch 1950:\n",
      "                  precision    recall  f1-score   support\n",
      "\n",
      "    infringement       0.40      0.22      0.29        36\n",
      "non_infringement       0.72      0.86      0.78        83\n",
      "\n",
      "        accuracy                           0.66       119\n",
      "       macro avg       0.56      0.54      0.53       119\n",
      "    weighted avg       0.62      0.66      0.63       119\n",
      "\n",
      "Epoch 1960/2000, Loss: 0.0000\n",
      "Test Accuracy at Epoch 1960: 66.39%\n",
      "Test F1-score at Epoch 1960: 0.7802\n",
      "Classification Report at Epoch 1960:\n",
      "                  precision    recall  f1-score   support\n",
      "\n",
      "    infringement       0.40      0.22      0.29        36\n",
      "non_infringement       0.72      0.86      0.78        83\n",
      "\n",
      "        accuracy                           0.66       119\n",
      "       macro avg       0.56      0.54      0.53       119\n",
      "    weighted avg       0.62      0.66      0.63       119\n",
      "\n"
     ]
    },
    {
     "name": "stderr",
     "output_type": "stream",
     "text": [
      "Training Epochs:  99%|█████████▉| 1984/2000 [00:27<00:00, 79.72it/s]"
     ]
    },
    {
     "name": "stdout",
     "output_type": "stream",
     "text": [
      "Epoch 1970/2000, Loss: 0.0000\n",
      "Test Accuracy at Epoch 1970: 66.39%\n",
      "Test F1-score at Epoch 1970: 0.7802\n",
      "Classification Report at Epoch 1970:\n",
      "                  precision    recall  f1-score   support\n",
      "\n",
      "    infringement       0.40      0.22      0.29        36\n",
      "non_infringement       0.72      0.86      0.78        83\n",
      "\n",
      "        accuracy                           0.66       119\n",
      "       macro avg       0.56      0.54      0.53       119\n",
      "    weighted avg       0.62      0.66      0.63       119\n",
      "\n",
      "Epoch 1980/2000, Loss: 0.0000\n",
      "Test Accuracy at Epoch 1980: 66.39%\n",
      "Test F1-score at Epoch 1980: 0.7802\n",
      "Classification Report at Epoch 1980:\n",
      "                  precision    recall  f1-score   support\n",
      "\n",
      "    infringement       0.40      0.22      0.29        36\n",
      "non_infringement       0.72      0.86      0.78        83\n",
      "\n",
      "        accuracy                           0.66       119\n",
      "       macro avg       0.56      0.54      0.53       119\n",
      "    weighted avg       0.62      0.66      0.63       119\n",
      "\n"
     ]
    },
    {
     "name": "stderr",
     "output_type": "stream",
     "text": [
      "Training Epochs: 100%|██████████| 2000/2000 [00:27<00:00, 72.63it/s]"
     ]
    },
    {
     "name": "stdout",
     "output_type": "stream",
     "text": [
      "Epoch 1990/2000, Loss: 0.0000\n",
      "Test Accuracy at Epoch 1990: 66.39%\n",
      "Test F1-score at Epoch 1990: 0.7802\n",
      "Classification Report at Epoch 1990:\n",
      "                  precision    recall  f1-score   support\n",
      "\n",
      "    infringement       0.40      0.22      0.29        36\n",
      "non_infringement       0.72      0.86      0.78        83\n",
      "\n",
      "        accuracy                           0.66       119\n",
      "       macro avg       0.56      0.54      0.53       119\n",
      "    weighted avg       0.62      0.66      0.63       119\n",
      "\n",
      "Epoch 2000/2000, Loss: 0.0000\n",
      "Test Accuracy at Epoch 2000: 66.39%\n",
      "Test F1-score at Epoch 2000: 0.7802\n",
      "Classification Report at Epoch 2000:\n",
      "                  precision    recall  f1-score   support\n",
      "\n",
      "    infringement       0.40      0.22      0.29        36\n",
      "non_infringement       0.72      0.86      0.78        83\n",
      "\n",
      "        accuracy                           0.66       119\n",
      "       macro avg       0.56      0.54      0.53       119\n",
      "    weighted avg       0.62      0.66      0.63       119\n",
      "\n"
     ]
    },
    {
     "name": "stderr",
     "output_type": "stream",
     "text": [
      "\n",
      "/tmp/ipykernel_84034/3077705936.py:55: FutureWarning: You are using `torch.load` with `weights_only=False` (the current default value), which uses the default pickle module implicitly. It is possible to construct malicious pickle data which will execute arbitrary code during unpickling (See https://github.com/pytorch/pytorch/blob/main/SECURITY.md#untrusted-models for more details). In a future release, the default value for `weights_only` will be flipped to `True`. This limits the functions that could be executed during unpickling. Arbitrary objects will no longer be allowed to be loaded via this mode unless they are explicitly allowlisted by the user via `torch.serialization.add_safe_globals`. We recommend you start setting `weights_only=True` for any use case where you don't have full control of the loaded file. Please open an issue on GitHub for any issues related to this experimental feature.\n",
      "  custom_mlp.load_state_dict(torch.load(checkpoint_path))\n"
     ]
    },
    {
     "data": {
      "image/png": "[encoded data removed]",
      "text/plain": [
       "<Figure size 1000x500 with 1 Axes>"
      ]
     },
     "metadata": {},
     "output_type": "display_data"
    },
    {
     "name": "stdout",
     "output_type": "stream",
     "text": [
      "Best Model was saved at epoch 30 with F1-score 0.8265 and accuracy 71.43%\n"
     ]
    }
   ],
   "source": [
    "input_dim = X_train.shape[1]\n",
    "hidden_dim = 256\n",
    "\n",
    "custom_mlp, losses, best_accuracy, best_f1 = train_model(X_train, y_train, X_test, y_test, input_dim, hidden_dim)"
   ]
  },
  {
   "cell_type": "code",
   "execution_count": 10,
   "metadata": {},
   "outputs": [
    {
     "name": "stdout",
     "output_type": "stream",
     "text": [
      "Checkpoint saved to '/home/guangwei/LLM-COPYRIGHT/copyright_newVersion/models/train_input_last_token.pth'.\n"
     ]
    }
   ],
   "source": [
    "def save_checkpoint(model, optimizer, epoch, loss, filepath):\n",
    "    checkpoint = {\n",
    "        'epoch': epoch + 1,\n",
    "        'model_state_dict': model.state_dict(),\n",
    "        'optimizer_state_dict': optimizer.state_dict(),\n",
    "        'loss': loss\n",
    "    }\n",
    "    torch.save(checkpoint, filepath)\n",
    "    print(f\"Checkpoint saved to '{filepath}'.\")\n",
    "\n",
    "save_checkpoint(custom_mlp, torch.optim.Adam(custom_mlp.parameters()), len(losses), losses[-1], checkpoint_file)"
   ]
  },
  {
   "cell_type": "code",
   "execution_count": 11,
   "metadata": {},
   "outputs": [
    {
     "name": "stdout",
     "output_type": "stream",
     "text": [
      "Final Model Accuracy: 71.43%\n",
      "                  precision    recall  f1-score   support\n",
      "\n",
      "    infringement       0.67      0.11      0.19        36\n",
      "non_infringement       0.72      0.98      0.83        83\n",
      "\n",
      "        accuracy                           0.71       119\n",
      "       macro avg       0.69      0.54      0.51       119\n",
      "    weighted avg       0.70      0.71      0.63       119\n",
      "\n"
     ]
    },
    {
     "name": "stderr",
     "output_type": "stream",
     "text": [
      "/tmp/ipykernel_84034/3740627605.py:2: UserWarning: To copy construct from a tensor, it is recommended to use sourceTensor.clone().detach() or sourceTensor.clone().detach().requires_grad_(True), rather than torch.tensor(sourceTensor).\n",
      "  y_pred_final = (torch.sigmoid(torch.tensor(custom_mlp(torch.tensor(X_test, dtype=torch.float32)))) > 0.5).float().numpy()\n"
     ]
    }
   ],
   "source": [
    "print(f\"Final Model Accuracy: {best_accuracy * 100:.2f}%\")\n",
    "y_pred_final = (torch.sigmoid(torch.tensor(custom_mlp(torch.tensor(X_test, dtype=torch.float32)))) > 0.5).float().numpy()\n",
    "print(classification_report(y_test, y_pred_final, target_names=[\"infringement\", \"non_infringement\"]))"
   ]
  }
 ],
 "metadata": {
  "kernelspec": {
   "display_name": "zdh",
   "language": "python",
   "name": "python3"
  },
  "language_info": {
   "codemirror_mode": {
    "name": "ipython",
    "version": 3
   },
   "file_extension": ".py",
   "mimetype": "text/x-python",
   "name": "python",
   "nbconvert_exporter": "python",
   "pygments_lexer": "ipython3",
   "version": "3.12.3"
  }
 },
 "nbformat": 4,
 "nbformat_minor": 2
}
