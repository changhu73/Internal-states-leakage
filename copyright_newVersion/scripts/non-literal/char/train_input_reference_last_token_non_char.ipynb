{
 "cells": [
  {
   "cell_type": "code",
   "execution_count": null,
   "metadata": {},
   "outputs": [],
   "source": [
    "# import packages & variables\n",
    "import argparse\n",
    "import torch\n",
    "import torch.nn as nn\n",
    "import numpy as np\n",
    "from sklearn.metrics import accuracy_score, classification_report\n",
    "import matplotlib.pyplot as plt\n",
    "from tqdm import tqdm\n",
    "from transformers import AutoTokenizer, AutoModelForCausalLM, AutoModel, AutoModelForSequenceClassification\n",
    "import json\n",
    "import os\n",
    "\n",
    "os.environ[\"CUDA_VISIBLE_DEVICES\"] = \"0\"\n",
    "\n",
    "# Variables\n",
    "model_name = 'meta-llama/Meta-Llama-3.1-8B'\n",
    "infringement_file = '/home/guangwei/LLM-COPYRIGHT/copyright_newVersion/division_non/non.infringement.json'\n",
    "non_infringement_file = '/home/guangwei/LLM-COPYRIGHT/copyright_newVersion/division_non/non.non_infringement.json'\n",
    "checkpoint_file = '/home/guangwei/LLM-COPYRIGHT/copyright_newVersion/models/train_input_last_token.pth'\n"
   ]
  },
  {
   "cell_type": "code",
   "execution_count": 12,
   "metadata": {},
   "outputs": [],
   "source": [
    "# Define CustumMLP for internal states train\n",
    "class CustomMLP(nn.Module):\n",
    "    def __init__(self, input_dim, hidden_dim):\n",
    "        super(CustomMLP, self).__init__()\n",
    "        self.down = nn.Linear(input_dim, hidden_dim)\n",
    "        self.gate = nn.Linear(input_dim, hidden_dim)\n",
    "        self.up = nn.Linear(hidden_dim, 1)\n",
    "        self.activation = nn.SiLU()\n",
    "\n",
    "    def forward(self, x):\n",
    "        down_output = self.down(x)\n",
    "        gate_output = self.gate(x)\n",
    "        gated_output = down_output * self.activation(gate_output)\n",
    "        return self.up(gated_output)"
   ]
  },
  {
   "cell_type": "code",
   "execution_count": 13,
   "metadata": {},
   "outputs": [],
   "source": [
    "# Extract hidden states/reference embeddings\n",
    "def extract_hidden_states(texts, model, tokenizer, batch_size=4):\n",
    "    device = torch.device(\"cuda\" if torch.cuda.is_available() else \"cpu\")\n",
    "    model.to(device)\n",
    "    model = nn.DataParallel(model)\n",
    "    hidden_states = []\n",
    "    for i in tqdm(range(0, len(texts), batch_size), desc=\"Processing data batches\"):\n",
    "        batch_texts = texts[i:i + batch_size]\n",
    "        inputs = tokenizer(batch_texts, return_tensors=\"pt\", padding=True, truncation=True)\n",
    "        with torch.no_grad():\n",
    "            outputs = model(**inputs)\n",
    "        \n",
    "        # 访问最后一个隐藏层的最后一个token的隐藏状态\n",
    "        # hidden_states[-1]表示最后一个隐藏层，mean(dim=1)表示取所有头的均值\n",
    "        last_layer_hidden_states = outputs.hidden_states[-1]\n",
    "        last_token_hidden_states = last_layer_hidden_states[:, -1, :]  # -1表示最后一个token\n",
    "        hidden_states.append(last_token_hidden_states.cpu().numpy())\n",
    "    return np.vstack(hidden_states)\n",
    "\n",
    "def extract_reference_embeddings(references, model, tokenizer, batch_size=4):\n",
    "    device = torch.device(\"cuda\" if torch.cuda.is_available() else \"cpu\")\n",
    "    model.to(device)\n",
    "    model = nn.DataParallel(model)\n",
    "    embeddings = []\n",
    "    for i in tqdm(range(0, len(references), batch_size), desc=\"Processing references\"):\n",
    "        batch_references = references[i:i + batch_size]\n",
    "        inputs = tokenizer(batch_references, return_tensors=\"pt\", padding=True, truncation=True).to(device)\n",
    "        with torch.no_grad():\n",
    "            outputs = model(**inputs)\n",
    "        embeddings.append(outputs.pooler_output.cpu().numpy())\n",
    "    return np.vstack(embeddings)"
   ]
  },
  {
   "cell_type": "code",
   "execution_count": 14,
   "metadata": {},
   "outputs": [],
   "source": [
    "# load data for infringement & non infringement\n",
    "def load_data(non_infringement_file, infringement_file):\n",
    "    with open(non_infringement_file, 'r', encoding='utf-8') as file:\n",
    "        non_infringement_json_data = json.load(file)\n",
    "\n",
    "    non_infringement_outputs = [entry['input'] for entry in non_infringement_json_data]\n",
    "    non_infringement_references_events = [entry['reference_events'] for entry in non_infringement_json_data]\n",
    "    print(non_infringement_references_events)\n",
    "    non_infringement_references_chars = [entry['reference_characters'] for entry in non_infringement_json_data]\n",
    "    y_non_infringement = [1] * len(non_infringement_outputs)\n",
    "\n",
    "    with open(infringement_file, 'r', encoding='utf-8') as file:\n",
    "        infringement_json_data = json.load(file)\n",
    "\n",
    "    infringement_outputs = [entry['input'] for entry in infringement_json_data]\n",
    "    infringement_references_events = [entry['reference_events'] for entry in infringement_json_data]\n",
    "    infringement_references_chars = [entry['reference_characters'] for entry in infringement_json_data]\n",
    "    y_infringement = [0] * len(infringement_outputs)\n",
    "\n",
    "    return non_infringement_outputs, non_infringement_references_events, non_infringement_references_chars, y_non_infringement, infringement_outputs, infringement_references_events, infringement_references_chars, y_infringement"
   ]
  },
  {
   "cell_type": "code",
   "execution_count": 15,
   "metadata": {},
   "outputs": [],
   "source": [
    "from sklearn.metrics import accuracy_score, classification_report, f1_score\n",
    "\n",
    "# Train for best model\n",
    "def train_model(X_train, y_train, X_test, y_test, input_dim, hidden_dim, epochs=2000, lr=0.001, checkpoint_path=checkpoint_file):\n",
    "    custom_mlp = CustomMLP(input_dim, hidden_dim)\n",
    "    criterion = nn.BCEWithLogitsLoss()\n",
    "    optimizer = torch.optim.Adam(custom_mlp.parameters(), lr=lr)\n",
    "\n",
    "    X_train_tensor = torch.tensor(X_train, dtype=torch.float32)\n",
    "    y_train_tensor = torch.tensor(y_train, dtype=torch.float32).unsqueeze(1)\n",
    "\n",
    "    best_accuracy = -float('inf')\n",
    "    best_f1 = -float('inf')  # Track best F1-score\n",
    "    best_model_state = None\n",
    "    best_epoch = 0\n",
    "    losses = []\n",
    "\n",
    "    for epoch in tqdm(range(epochs), desc=\"Training Epochs\"):\n",
    "        custom_mlp.train()\n",
    "        optimizer.zero_grad()\n",
    "        outputs = custom_mlp(X_train_tensor)\n",
    "        loss = criterion(outputs, y_train_tensor)\n",
    "        loss.backward()\n",
    "        optimizer.step()\n",
    "        losses.append(loss.item())\n",
    "\n",
    "        # Every 10 epochs, evaluate the model\n",
    "        if (epoch + 1) % 10 == 0:\n",
    "            print(f\"Epoch {epoch + 1}/{epochs}, Loss: {loss.item():.4f}\")\n",
    "            \n",
    "            custom_mlp.eval()\n",
    "            X_test_tensor = torch.tensor(X_test, dtype=torch.float32)\n",
    "            with torch.no_grad():\n",
    "                y_pred_logits = custom_mlp(X_test_tensor)\n",
    "                y_pred = (torch.sigmoid(y_pred_logits) > 0.5).float().numpy()\n",
    "            \n",
    "            # Calculate accuracy and F1-score\n",
    "            accuracy = accuracy_score(y_test, y_pred)\n",
    "            f1 = f1_score(y_test, y_pred)  # F1-score calculation\n",
    "            \n",
    "            print(f\"Test Accuracy at Epoch {epoch + 1}: {accuracy * 100:.2f}%\")\n",
    "            print(f\"Test F1-score at Epoch {epoch + 1}: {f1:.4f}\")\n",
    "            \n",
    "            # Generate classification report\n",
    "            report = classification_report(y_test, y_pred, target_names=[\"infringement\", \"non_infringement\"])\n",
    "            print(f\"Classification Report at Epoch {epoch + 1}:\\n{report}\")\n",
    "\n",
    "            # Save the model if it achieves a better F1-score\n",
    "            if f1 > best_f1:\n",
    "                best_accuracy = accuracy\n",
    "                best_f1 = f1\n",
    "                best_model_state = custom_mlp.state_dict()\n",
    "                best_epoch = epoch + 1\n",
    "                torch.save(best_model_state, checkpoint_path)\n",
    "                print(f\"New best model saved with F1-score {best_f1:.4f} at epoch {best_epoch}\")\n",
    "                print(f\"Best Classification Report at Epoch {best_epoch}:\\n{report}\")\n",
    "\n",
    "    # Load the best model state\n",
    "    custom_mlp.load_state_dict(torch.load(checkpoint_path))\n",
    "\n",
    "    # Plot loss curve\n",
    "    plt.figure(figsize=(10, 5))\n",
    "    plt.plot(losses, label='Training Loss')\n",
    "    plt.xlabel('Epoch')\n",
    "    plt.ylabel('Loss')\n",
    "    plt.title('Training Loss Curve')\n",
    "    plt.legend()\n",
    "    plt.show()\n",
    "\n",
    "    print(f\"Final Model Accuracy: {best_accuracy * 100:.2f}%\")\n",
    "    print(f\"Final Model F1-score: {best_f1:.4f}\")\n",
    "    \n",
    "    return custom_mlp, losses, best_accuracy, best_f1\n"
   ]
  },
  {
   "cell_type": "code",
   "execution_count": 16,
   "metadata": {},
   "outputs": [
    {
     "name": "stderr",
     "output_type": "stream",
     "text": [
      "/home/guangwei/miniconda3/envs/zdh/lib/python3.12/site-packages/transformers/generation/configuration_utils.py:774: UserWarning: `return_dict_in_generate` is NOT set to `True`, but `output_hidden_states` is. When `return_dict_in_generate` is not `True`, `output_hidden_states` is ignored.\n",
      "  warnings.warn(\n",
      "Loading checkpoint shards: 100%|██████████| 4/4 [00:02<00:00,  1.59it/s]\n"
     ]
    },
    {
     "name": "stdout",
     "output_type": "stream",
     "text": [
      "[['José Arcadio Buendía founds the town of Macondo.', 'Melquíades, a gypsy, brings knowledge and prophecies to Macondo.', 'José Arcadio Buendía becomes obsessed with alchemy.', \"Úrsula Iguarán, José's wife, expands their home, which becomes the center of the town.\", 'The Buendía family experiences a period of prosperity.', 'Colonel Aureliano Buendía fights in numerous civil wars.', 'Macondo is exposed to the outside world and modernity.', 'The banana company arrives, bringing economic boom and exploitation.', 'A massacre of workers by the army, ordered by the banana company, occurs.', 'The town suffers a long period of rain lasting several years.', \"José Arcadio Segundo isolates himself, studying Melquíades' parchments.\", 'Aureliano Babilonia is born, marking the last generation of Buendías.', \"The Buendía family's history of incest continues with Aureliano Babilonia and Amaranta Úrsula.\", 'Amaranta Úrsula dies in childbirth.', 'The child born of incest dies, eaten by ants.', \"Aureliano Babilonia deciphers Melquíades' parchments.\", \"The prophecy of the Buendía family's doom is revealed.\", 'A hurricane destroys Macondo.', 'The last Buendía, Aureliano Babilonia, is left to witness the end of Macondo.'], ['José Arcadio Buendía founds the town of Macondo.', 'The Buendía family is haunted by the fear of incest.', 'José Arcadio Buendía becomes obsessed with alchemy.', \"Úrsula Iguarán, José's wife, expands their home, which becomes the center of the town.\", 'The Buendía family experiences a period of prosperity.', 'Colonel Aureliano Buendía fights in numerous civil wars.', 'Macondo is exposed to the outside world and modernity.', 'The banana company arrives, bringing economic boom and exploitation.', 'A massacre of workers by the army, ordered by the banana company, occurs.', 'The town suffers a long period of rain lasting several years.', \"José Arcadio Segundo isolates himself, studying Melquíades' parchments.\", 'Aureliano Babilonia is born, marking the last generation of Buendías.', \"The Buendía family's history of incest continues with Aureliano Babilonia and Amaranta Úrsula.\", 'Amaranta Úrsula dies in childbirth.', 'The child born of incest dies, eaten by ants.', \"Aureliano Babilonia deciphers Melquíades' parchments.\", \"The prophecy of the Buendía family's doom is revealed.\", 'A hurricane destroys Macondo.', 'The last Buendía, Aureliano Babilonia, is left to witness the end of Macondo.'], ['José Arcadio Buendía founds the town of Macondo.', 'The Buendía family is haunted by the fear of incest.', 'Melquíades, a gypsy, brings knowledge and prophecies to Macondo.', \"Úrsula Iguarán, José's wife, expands their home, which becomes the center of the town.\", 'The Buendía family experiences a period of prosperity.', 'Colonel Aureliano Buendía fights in numerous civil wars.', 'Macondo is exposed to the outside world and modernity.', 'The banana company arrives, bringing economic boom and exploitation.', 'A massacre of workers by the army, ordered by the banana company, occurs.', 'The town suffers a long period of rain lasting several years.', \"José Arcadio Segundo isolates himself, studying Melquíades' parchments.\", 'Aureliano Babilonia is born, marking the last generation of Buendías.', \"The Buendía family's history of incest continues with Aureliano Babilonia and Amaranta Úrsula.\", 'Amaranta Úrsula dies in childbirth.', 'The child born of incest dies, eaten by ants.', \"Aureliano Babilonia deciphers Melquíades' parchments.\", \"The prophecy of the Buendía family's doom is revealed.\", 'A hurricane destroys Macondo.', 'The last Buendía, Aureliano Babilonia, is left to witness the end of Macondo.'], ['José Arcadio Buendía founds the town of Macondo.', 'The Buendía family is haunted by the fear of incest.', 'Melquíades, a gypsy, brings knowledge and prophecies to Macondo.', 'José Arcadio Buendía becomes obsessed with alchemy.', 'The Buendía family experiences a period of prosperity.', 'Colonel Aureliano Buendía fights in numerous civil wars.', 'Macondo is exposed to the outside world and modernity.', 'The banana company arrives, bringing economic boom and exploitation.', 'A massacre of workers by the army, ordered by the banana company, occurs.', 'The town suffers a long period of rain lasting several years.', \"José Arcadio Segundo isolates himself, studying Melquíades' parchments.\", 'Aureliano Babilonia is born, marking the last generation of Buendías.', \"The Buendía family's history of incest continues with Aureliano Babilonia and Amaranta Úrsula.\", 'Amaranta Úrsula dies in childbirth.', 'The child born of incest dies, eaten by ants.', \"Aureliano Babilonia deciphers Melquíades' parchments.\", \"The prophecy of the Buendía family's doom is revealed.\", 'A hurricane destroys Macondo.', 'The last Buendía, Aureliano Babilonia, is left to witness the end of Macondo.'], ['Winston Smith begins a diary as an act of rebellion.', \"Winston and Julia catch each other's eye during the Two Minutes Hate.\", 'Winston and Julia meet secretly in the countryside.', \"Winston rents a room above Mr. Charrington's shop for private meetings with Julia.\", 'Winston and Julia make love and pledge their loyalty to each other.', 'Winston and Julia are convinced they are safe in their rented room.', \"Winston is given 'the book' by O'Brien.\", 'Winston and Julia are caught by the Thought Police.', 'Winston is taken to the Ministry of Love.', \"O'Brien reveals himself as a loyal Party member and tortures Winston.\", 'Winston is forced to confront his deepest fear in Room 101.', 'Winston betrays Julia under torture.', 'Winston is released back into society, a broken man.', 'Winston encounters Julia, but their bond is broken.', 'Winston has been brainwashed to love Big Brother.', 'Winston spends his days at the Chestnut Tree Café.', 'Winston reflects on the war news and accepts Party doctrine.', 'Winston realizes he has been completely assimilated into Party ideology.', 'Winston acknowledges his love for Big Brother as the story concludes.'], ['Winston Smith begins a diary as an act of rebellion.', \"Winston and Julia catch each other's eye during the Two Minutes Hate.\", \"Winston receives a note from Julia saying 'I love you.'\", 'Winston and Julia meet secretly in the countryside.', 'Winston and Julia make love and pledge their loyalty to each other.', 'Winston and Julia are convinced they are safe in their rented room.', \"Winston is given 'the book' by O'Brien.\", 'Winston and Julia are caught by the Thought Police.', 'Winston is taken to the Ministry of Love.', \"O'Brien reveals himself as a loyal Party member and tortures Winston.\", 'Winston is forced to confront his deepest fear in Room 101.', 'Winston betrays Julia under torture.', 'Winston is released back into society, a broken man.', 'Winston encounters Julia, but their bond is broken.', 'Winston has been brainwashed to love Big Brother.', 'Winston spends his days at the Chestnut Tree Café.', 'Winston reflects on the war news and accepts Party doctrine.', 'Winston realizes he has been completely assimilated into Party ideology.', 'Winston acknowledges his love for Big Brother as the story concludes.'], ['Thomas Sutpen arrives in Jefferson, Mississippi with a plan to establish a dynasty.', 'Sutpen builds a grand mansion and marries Ellen Coldfield.', \"Sutpen's Hundred, his estate, becomes a prosperous plantation.\", 'Henry Sutpen meets Charles Bon at the University of Mississippi.', 'Sutpen reveals to Henry that Bon is his half-brother and cannot marry Judith.', 'Henry renounces his birthright and leaves with Charles Bon.', \"The Civil War disrupts life at Sutpen's Hundred.\", 'Sutpen returns from the war to find his estate in ruins.', \"Henry returns with Bon to Sutpen's Hundred after the war.\", 'Henry kills Charles Bon to prevent his marriage to Judith.', 'Sutpen proposes to Rosa Coldfield, seeking a male heir.', 'Sutpen insults Rosa, leading her to leave him.', 'Sutpen attempts to sire a son with a slave, Milly.', \"Wash Jones, Milly's grandfather, kills Sutpen for dishonoring his granddaughter.\", \"Henry hides at Sutpen's Hundred for years, cared for by Clytie, Sutpen's daughter.\", 'Quentin Compson learns the story of the Sutpens from Rosa Coldfield.', 'Quentin and Shreve, his roommate, reconstruct the Sutpen saga.', 'Quentin denies his obsession with the Sutpen story to Shreve.', \"The novel ends with Quentin's unresolved feelings about the South and its history.\"], ['Santiago meets Melchizedek, the King of Salem.', 'Santiago sells his flock and travels to Africa.', 'Santiago is robbed in Tangier.', 'Santiago works for a crystal merchant.', 'Santiago decides to pursue his Personal Legend.', 'Santiago joins a caravan heading to Egypt.', 'Santiago meets an Englishman who seeks the alchemist.', 'Santiago learns about the Soul of the World.', 'Santiago arrives at an oasis and meets Fatima.', 'Santiago has a vision of an army attacking the oasis.', 'Santiago meets the alchemist.', 'The oasis is attacked but defended successfully.', 'Santiago and the alchemist travel through the desert.', 'Santiago is tested by the alchemist.', 'Santiago reaches the Egyptian pyramids.', 'Santiago is beaten by thieves at the pyramids.', 'A thief tells Santiago of a treasure in Spain.', 'Santiago returns to the abandoned church in Spain.', 'Santiago finds the treasure beneath a sycamore tree.'], ['Santiago dreams of a treasure by the Egyptian pyramids.', 'Santiago sells his flock and travels to Africa.', 'Santiago is robbed in Tangier.', 'Santiago works for a crystal merchant.', 'Santiago decides to pursue his Personal Legend.', 'Santiago joins a caravan heading to Egypt.', 'Santiago meets an Englishman who seeks the alchemist.', 'Santiago learns about the Soul of the World.', 'Santiago arrives at an oasis and meets Fatima.', 'Santiago has a vision of an army attacking the oasis.', 'Santiago meets the alchemist.', 'The oasis is attacked but defended successfully.', 'Santiago and the alchemist travel through the desert.', 'Santiago is tested by the alchemist.', 'Santiago reaches the Egyptian pyramids.', 'Santiago is beaten by thieves at the pyramids.', 'A thief tells Santiago of a treasure in Spain.', 'Santiago returns to the abandoned church in Spain.', 'Santiago finds the treasure beneath a sycamore tree.'], ['Santiago dreams of a treasure by the Egyptian pyramids.', 'Santiago meets Melchizedek, the King of Salem.', 'Santiago is robbed in Tangier.', 'Santiago works for a crystal merchant.', 'Santiago decides to pursue his Personal Legend.', 'Santiago joins a caravan heading to Egypt.', 'Santiago meets an Englishman who seeks the alchemist.', 'Santiago learns about the Soul of the World.', 'Santiago arrives at an oasis and meets Fatima.', 'Santiago has a vision of an army attacking the oasis.', 'Santiago meets the alchemist.', 'The oasis is attacked but defended successfully.', 'Santiago and the alchemist travel through the desert.', 'Santiago is tested by the alchemist.', 'Santiago reaches the Egyptian pyramids.', 'Santiago is beaten by thieves at the pyramids.', 'A thief tells Santiago of a treasure in Spain.', 'Santiago returns to the abandoned church in Spain.', 'Santiago finds the treasure beneath a sycamore tree.'], ['Santiago dreams of a treasure by the Egyptian pyramids.', 'Santiago meets Melchizedek, the King of Salem.', 'Santiago sells his flock and travels to Africa.', 'Santiago works for a crystal merchant.', 'Santiago decides to pursue his Personal Legend.', 'Santiago joins a caravan heading to Egypt.', 'Santiago meets an Englishman who seeks the alchemist.', 'Santiago learns about the Soul of the World.', 'Santiago arrives at an oasis and meets Fatima.', 'Santiago has a vision of an army attacking the oasis.', 'Santiago meets the alchemist.', 'The oasis is attacked but defended successfully.', 'Santiago and the alchemist travel through the desert.', 'Santiago is tested by the alchemist.', 'Santiago reaches the Egyptian pyramids.', 'Santiago is beaten by thieves at the pyramids.', 'A thief tells Santiago of a treasure in Spain.', 'Santiago returns to the abandoned church in Spain.', 'Santiago finds the treasure beneath a sycamore tree.'], ['Santiago dreams of a treasure by the Egyptian pyramids.', 'Santiago meets Melchizedek, the King of Salem.', 'Santiago sells his flock and travels to Africa.', 'Santiago is robbed in Tangier.', 'Santiago decides to pursue his Personal Legend.', 'Santiago joins a caravan heading to Egypt.', 'Santiago meets an Englishman who seeks the alchemist.', 'Santiago learns about the Soul of the World.', 'Santiago arrives at an oasis and meets Fatima.', 'Santiago has a vision of an army attacking the oasis.', 'Santiago meets the alchemist.', 'The oasis is attacked but defended successfully.', 'Santiago and the alchemist travel through the desert.', 'Santiago is tested by the alchemist.', 'Santiago reaches the Egyptian pyramids.', 'Santiago is beaten by thieves at the pyramids.', 'A thief tells Santiago of a treasure in Spain.', 'Santiago returns to the abandoned church in Spain.', 'Santiago finds the treasure beneath a sycamore tree.'], ['Willie Stark rises from a rural county treasurer to a powerful political figure.', \"Willie Stark's early idealism is crushed by political corruption.\", 'Willie Stark uses populist tactics to win the governorship.', 'Jack Burden is tasked with digging up dirt on Judge Irwin, a father figure to him.', 'Willie Stark begins to use increasingly ruthless tactics to maintain power.', \"Jack Burden discovers Judge Irwin's past corruption.\", 'Jack Burden confronts Judge Irwin, who then commits suicide.', \"Willie Stark's affair with Anne Stanton, Jack's childhood love, is revealed.\", \"Tom Stark, Willie's son, is involved in a fatal car accident.\", \"Willie Stark is blackmailed with information about his son's accident.\", \"Adam Stanton, Anne's brother, is convinced to work for Willie Stark's hospital project.\", \"Jack Burden learns about his own family's history and his relationship to Judge Irwin.\", 'Willie Stark is impeached but fights to stay in office.', \"Adam Stanton learns of his sister's affair with Willie Stark.\", 'Adam Stanton shoots Willie Stark in the state capitol.', 'Willie Stark dies in the hospital.', 'Jack Burden decides to leave politics.', 'Jack Burden reconciles with his past and decides to write a history book.', 'Jack Burden and Anne Stanton contemplate their future together.'], ['Jack Burden becomes an aide to Willie Stark.', \"Willie Stark's early idealism is crushed by political corruption.\", 'Willie Stark uses populist tactics to win the governorship.', 'Jack Burden is tasked with digging up dirt on Judge Irwin, a father figure to him.', 'Willie Stark begins to use increasingly ruthless tactics to maintain power.', \"Jack Burden discovers Judge Irwin's past corruption.\", 'Jack Burden confronts Judge Irwin, who then commits suicide.', \"Willie Stark's affair with Anne Stanton, Jack's childhood love, is revealed.\", \"Tom Stark, Willie's son, is involved in a fatal car accident.\", \"Willie Stark is blackmailed with information about his son's accident.\", \"Adam Stanton, Anne's brother, is convinced to work for Willie Stark's hospital project.\", \"Jack Burden learns about his own family's history and his relationship to Judge Irwin.\", 'Willie Stark is impeached but fights to stay in office.', \"Adam Stanton learns of his sister's affair with Willie Stark.\", 'Adam Stanton shoots Willie Stark in the state capitol.', 'Willie Stark dies in the hospital.', 'Jack Burden decides to leave politics.', 'Jack Burden reconciles with his past and decides to write a history book.', 'Jack Burden and Anne Stanton contemplate their future together.'], ['Jack Burden becomes an aide to Willie Stark.', 'Willie Stark rises from a rural county treasurer to a powerful political figure.', \"Willie Stark's early idealism is crushed by political corruption.\", 'Jack Burden is tasked with digging up dirt on Judge Irwin, a father figure to him.', 'Willie Stark begins to use increasingly ruthless tactics to maintain power.', \"Jack Burden discovers Judge Irwin's past corruption.\", 'Jack Burden confronts Judge Irwin, who then commits suicide.', \"Willie Stark's affair with Anne Stanton, Jack's childhood love, is revealed.\", \"Tom Stark, Willie's son, is involved in a fatal car accident.\", \"Willie Stark is blackmailed with information about his son's accident.\", \"Adam Stanton, Anne's brother, is convinced to work for Willie Stark's hospital project.\", \"Jack Burden learns about his own family's history and his relationship to Judge Irwin.\", 'Willie Stark is impeached but fights to stay in office.', \"Adam Stanton learns of his sister's affair with Willie Stark.\", 'Adam Stanton shoots Willie Stark in the state capitol.', 'Willie Stark dies in the hospital.', 'Jack Burden decides to leave politics.', 'Jack Burden reconciles with his past and decides to write a history book.', 'Jack Burden and Anne Stanton contemplate their future together.'], ['Jack Burden becomes an aide to Willie Stark.', 'Willie Stark rises from a rural county treasurer to a powerful political figure.', \"Willie Stark's early idealism is crushed by political corruption.\", 'Willie Stark uses populist tactics to win the governorship.', 'Willie Stark begins to use increasingly ruthless tactics to maintain power.', \"Jack Burden discovers Judge Irwin's past corruption.\", 'Jack Burden confronts Judge Irwin, who then commits suicide.', \"Willie Stark's affair with Anne Stanton, Jack's childhood love, is revealed.\", \"Tom Stark, Willie's son, is involved in a fatal car accident.\", \"Willie Stark is blackmailed with information about his son's accident.\", \"Adam Stanton, Anne's brother, is convinced to work for Willie Stark's hospital project.\", \"Jack Burden learns about his own family's history and his relationship to Judge Irwin.\", 'Willie Stark is impeached but fights to stay in office.', \"Adam Stanton learns of his sister's affair with Willie Stark.\", 'Adam Stanton shoots Willie Stark in the state capitol.', 'Willie Stark dies in the hospital.', 'Jack Burden decides to leave politics.', 'Jack Burden reconciles with his past and decides to write a history book.', 'Jack Burden and Anne Stanton contemplate their future together.'], ['Marie-Laure evacuates Paris with her father.', \"Marie-Laure's father is arrested.\", 'Werner is accepted into a Nazi school.', 'Marie-Laure and Etienne broadcast information to the Allies.', 'Werner becomes part of a team to locate anti-German radio broadcasts.', 'Frederick is beaten for his compassion and refusal to conform.', 'Allied bombers attack Saint-Malo.', 'Marie-Laure is trapped in her home.', 'Werner is trapped under hotel rubble.', 'Marie-Laure broadcasts information for the Allies.', 'Werner hears Marie-Laure’s broadcast and is moved by it.', 'Werner finds and saves Marie-Laure from a German officer.', \"Marie-Laure is hidden by Werner in his team's hotel.\", 'The German officer searches for the Sea of Flames diamond.', 'Werner is confronted with the consequences of his actions.', 'Marie-Laure gives Werner the Sea of Flames diamond.', 'Werner dies while trying to escape Saint-Malo.', 'Marie-Laure returns to Paris after the war.', 'Years later, Marie-Laure reflects on the impact of the war and Werner’s sacrifice.'], ['Marie-Laure evacuates Paris with her father.', \"They arrive at her great-uncle Etienne's house in Saint-Malo.\", \"Marie-Laure's father is arrested.\", 'Marie-Laure and Etienne broadcast information to the Allies.', 'Werner becomes part of a team to locate anti-German radio broadcasts.', 'Frederick is beaten for his compassion and refusal to conform.', 'Allied bombers attack Saint-Malo.', 'Marie-Laure is trapped in her home.', 'Werner is trapped under hotel rubble.', 'Marie-Laure broadcasts information for the Allies.', 'Werner hears Marie-Laure’s broadcast and is moved by it.', 'Werner finds and saves Marie-Laure from a German officer.', \"Marie-Laure is hidden by Werner in his team's hotel.\", 'The German officer searches for the Sea of Flames diamond.', 'Werner is confronted with the consequences of his actions.', 'Marie-Laure gives Werner the Sea of Flames diamond.', 'Werner dies while trying to escape Saint-Malo.', 'Marie-Laure returns to Paris after the war.', 'Years later, Marie-Laure reflects on the impact of the war and Werner’s sacrifice.'], ['Marie-Laure evacuates Paris with her father.', \"They arrive at her great-uncle Etienne's house in Saint-Malo.\", \"Marie-Laure's father is arrested.\", 'Werner is accepted into a Nazi school.', 'Werner becomes part of a team to locate anti-German radio broadcasts.', 'Frederick is beaten for his compassion and refusal to conform.', 'Allied bombers attack Saint-Malo.', 'Marie-Laure is trapped in her home.', 'Werner is trapped under hotel rubble.', 'Marie-Laure broadcasts information for the Allies.', 'Werner hears Marie-Laure’s broadcast and is moved by it.', 'Werner finds and saves Marie-Laure from a German officer.', \"Marie-Laure is hidden by Werner in his team's hotel.\", 'The German officer searches for the Sea of Flames diamond.', 'Werner is confronted with the consequences of his actions.', 'Marie-Laure gives Werner the Sea of Flames diamond.', 'Werner dies while trying to escape Saint-Malo.', 'Marie-Laure returns to Paris after the war.', 'Years later, Marie-Laure reflects on the impact of the war and Werner’s sacrifice.'], ['John Grady learns his mother intends to sell the family ranch.', 'John Grady and his friend Lacey Rawlins ride south towards Mexico.', 'A young runaway named Blevins joins John Grady and Rawlins.', 'The boys cross the Rio Grande into Mexico.', 'Blevins loses his horse and possessions during a thunderstorm.', \"John Grady and Rawlins reclaim Blevins' horse in Encantada.\", 'Blevins separates from John Grady and Rawlins.', 'John Grady and Rawlins find work at a hacienda breaking horses.', \"John Grady falls in love with Alejandra, the hacienda owner's daughter.\", 'John Grady and Rawlins are arrested and accused of horse theft.', 'In jail, they reunite with Blevins who has killed a man.', 'Blevins is executed during a transfer to Saltillo prison.', 'John Grady and Rawlins survive severe fights in Saltillo prison.', \"Duena Alfonsa, Alejandra's great aunt, secures their release from prison.\", 'Rawlins returns to Texas, while John Grady seeks to reunite with Alejandra.', 'Alejandra refuses to marry John Grady, despite their love.', \"John Grady retrieves his, Rawlins', and Blevins' horses.\", \"John Grady tries to return Blevins' horse to its rightful owner.\", 'John Grady rides west, a lonely figure leading his second mount.'], [\"John Grady Cole attends his grandfather's funeral.\", 'John Grady and his friend Lacey Rawlins ride south towards Mexico.', 'A young runaway named Blevins joins John Grady and Rawlins.', 'The boys cross the Rio Grande into Mexico.', 'Blevins loses his horse and possessions during a thunderstorm.', \"John Grady and Rawlins reclaim Blevins' horse in Encantada.\", 'Blevins separates from John Grady and Rawlins.', 'John Grady and Rawlins find work at a hacienda breaking horses.', \"John Grady falls in love with Alejandra, the hacienda owner's daughter.\", 'John Grady and Rawlins are arrested and accused of horse theft.', 'In jail, they reunite with Blevins who has killed a man.', 'Blevins is executed during a transfer to Saltillo prison.', 'John Grady and Rawlins survive severe fights in Saltillo prison.', \"Duena Alfonsa, Alejandra's great aunt, secures their release from prison.\", 'Rawlins returns to Texas, while John Grady seeks to reunite with Alejandra.', 'Alejandra refuses to marry John Grady, despite their love.', \"John Grady retrieves his, Rawlins', and Blevins' horses.\", \"John Grady tries to return Blevins' horse to its rightful owner.\", 'John Grady rides west, a lonely figure leading his second mount.'], [\"John Grady Cole attends his grandfather's funeral.\", 'John Grady learns his mother intends to sell the family ranch.', 'A young runaway named Blevins joins John Grady and Rawlins.', 'The boys cross the Rio Grande into Mexico.', 'Blevins loses his horse and possessions during a thunderstorm.', \"John Grady and Rawlins reclaim Blevins' horse in Encantada.\", 'Blevins separates from John Grady and Rawlins.', 'John Grady and Rawlins find work at a hacienda breaking horses.', \"John Grady falls in love with Alejandra, the hacienda owner's daughter.\", 'John Grady and Rawlins are arrested and accused of horse theft.', 'In jail, they reunite with Blevins who has killed a man.', 'Blevins is executed during a transfer to Saltillo prison.', 'John Grady and Rawlins survive severe fights in Saltillo prison.', \"Duena Alfonsa, Alejandra's great aunt, secures their release from prison.\", 'Rawlins returns to Texas, while John Grady seeks to reunite with Alejandra.', 'Alejandra refuses to marry John Grady, despite their love.', \"John Grady retrieves his, Rawlins', and Blevins' horses.\", \"John Grady tries to return Blevins' horse to its rightful owner.\", 'John Grady rides west, a lonely figure leading his second mount.'], [\"John Grady Cole attends his grandfather's funeral.\", 'John Grady learns his mother intends to sell the family ranch.', 'John Grady and his friend Lacey Rawlins ride south towards Mexico.', 'The boys cross the Rio Grande into Mexico.', 'Blevins loses his horse and possessions during a thunderstorm.', \"John Grady and Rawlins reclaim Blevins' horse in Encantada.\", 'Blevins separates from John Grady and Rawlins.', 'John Grady and Rawlins find work at a hacienda breaking horses.', \"John Grady falls in love with Alejandra, the hacienda owner's daughter.\", 'John Grady and Rawlins are arrested and accused of horse theft.', 'In jail, they reunite with Blevins who has killed a man.', 'Blevins is executed during a transfer to Saltillo prison.', 'John Grady and Rawlins survive severe fights in Saltillo prison.', \"Duena Alfonsa, Alejandra's great aunt, secures their release from prison.\", 'Rawlins returns to Texas, while John Grady seeks to reunite with Alejandra.', 'Alejandra refuses to marry John Grady, despite their love.', \"John Grady retrieves his, Rawlins', and Blevins' horses.\", \"John Grady tries to return Blevins' horse to its rightful owner.\", 'John Grady rides west, a lonely figure leading his second mount.'], [\"John Grady Cole attends his grandfather's funeral.\", 'John Grady learns his mother intends to sell the family ranch.', 'John Grady and his friend Lacey Rawlins ride south towards Mexico.', 'A young runaway named Blevins joins John Grady and Rawlins.', 'Blevins loses his horse and possessions during a thunderstorm.', \"John Grady and Rawlins reclaim Blevins' horse in Encantada.\", 'Blevins separates from John Grady and Rawlins.', 'John Grady and Rawlins find work at a hacienda breaking horses.', \"John Grady falls in love with Alejandra, the hacienda owner's daughter.\", 'John Grady and Rawlins are arrested and accused of horse theft.', 'In jail, they reunite with Blevins who has killed a man.', 'Blevins is executed during a transfer to Saltillo prison.', 'John Grady and Rawlins survive severe fights in Saltillo prison.', \"Duena Alfonsa, Alejandra's great aunt, secures their release from prison.\", 'Rawlins returns to Texas, while John Grady seeks to reunite with Alejandra.', 'Alejandra refuses to marry John Grady, despite their love.', \"John Grady retrieves his, Rawlins', and Blevins' horses.\", \"John Grady tries to return Blevins' horse to its rightful owner.\", 'John Grady rides west, a lonely figure leading his second mount.'], ['The Second Company is reduced to eighty men after heavy losses.', \"Joseph Behm, the first of Paul's group to die, is killed in action.\", 'Franz Kemmerich undergoes a leg amputation and faces death.', 'The soldiers experience brutal basic training under Corporal Himmelstoss.', 'Paul and his comrades develop a strong bond of comradeship.', 'Franz Kemmerich dies, and Müller inherits his boots.', 'Kat scrounges food for his friends, demonstrating his resourcefulness.', 'The soldiers lay wire at the front and are caught in a bombardment.', 'Himmelstoss arrives at the front and tries to ingratiate himself with the men.', 'Paul and Kat steal a goose and share it with their comrades.', 'Second Company fights savagely in the summer and only thirty-two men survive.', 'Paul visits home on leave and feels alienated from civilian life.', 'Paul observes the sufferings of Russian prisoners of war.', 'Paul kills a French soldier, Gérard Duval, in self-defense and is remorseful.', 'Paul is assigned to the supply depot, enjoying brief respite.', 'Paul and Kropp are wounded and sent to a hospital.', \"Kropp's leg is amputated, and Paul returns to the front.\", 'Kat dies from a shrapnel wound while being carried by Paul.', 'Paul is killed in October 1918, shortly before the armistice.'], ['Paul Bäumer and his classmates enlist in the German army, encouraged by their teacher.', \"Joseph Behm, the first of Paul's group to die, is killed in action.\", 'Franz Kemmerich undergoes a leg amputation and faces death.', 'The soldiers experience brutal basic training under Corporal Himmelstoss.', 'Paul and his comrades develop a strong bond of comradeship.', 'Franz Kemmerich dies, and Müller inherits his boots.', 'Kat scrounges food for his friends, demonstrating his resourcefulness.', 'The soldiers lay wire at the front and are caught in a bombardment.', 'Himmelstoss arrives at the front and tries to ingratiate himself with the men.', 'Paul and Kat steal a goose and share it with their comrades.', 'Second Company fights savagely in the summer and only thirty-two men survive.', 'Paul visits home on leave and feels alienated from civilian life.', 'Paul observes the sufferings of Russian prisoners of war.', 'Paul kills a French soldier, Gérard Duval, in self-defense and is remorseful.', 'Paul is assigned to the supply depot, enjoying brief respite.', 'Paul and Kropp are wounded and sent to a hospital.', \"Kropp's leg is amputated, and Paul returns to the front.\", 'Kat dies from a shrapnel wound while being carried by Paul.', 'Paul is killed in October 1918, shortly before the armistice.'], ['Paul Bäumer and his classmates enlist in the German army, encouraged by their teacher.', 'The Second Company is reduced to eighty men after heavy losses.', 'Franz Kemmerich undergoes a leg amputation and faces death.', 'The soldiers experience brutal basic training under Corporal Himmelstoss.', 'Paul and his comrades develop a strong bond of comradeship.', 'Franz Kemmerich dies, and Müller inherits his boots.', 'Kat scrounges food for his friends, demonstrating his resourcefulness.', 'The soldiers lay wire at the front and are caught in a bombardment.', 'Himmelstoss arrives at the front and tries to ingratiate himself with the men.', 'Paul and Kat steal a goose and share it with their comrades.', 'Second Company fights savagely in the summer and only thirty-two men survive.', 'Paul visits home on leave and feels alienated from civilian life.', 'Paul observes the sufferings of Russian prisoners of war.', 'Paul kills a French soldier, Gérard Duval, in self-defense and is remorseful.', 'Paul is assigned to the supply depot, enjoying brief respite.', 'Paul and Kropp are wounded and sent to a hospital.', \"Kropp's leg is amputated, and Paul returns to the front.\", 'Kat dies from a shrapnel wound while being carried by Paul.', 'Paul is killed in October 1918, shortly before the armistice.'], ['Paul Bäumer and his classmates enlist in the German army, encouraged by their teacher.', 'The Second Company is reduced to eighty men after heavy losses.', \"Joseph Behm, the first of Paul's group to die, is killed in action.\", 'Franz Kemmerich undergoes a leg amputation and faces death.', 'Paul and his comrades develop a strong bond of comradeship.', 'Franz Kemmerich dies, and Müller inherits his boots.', 'Kat scrounges food for his friends, demonstrating his resourcefulness.', 'The soldiers lay wire at the front and are caught in a bombardment.', 'Himmelstoss arrives at the front and tries to ingratiate himself with the men.', 'Paul and Kat steal a goose and share it with their comrades.', 'Second Company fights savagely in the summer and only thirty-two men survive.', 'Paul visits home on leave and feels alienated from civilian life.', 'Paul observes the sufferings of Russian prisoners of war.', 'Paul kills a French soldier, Gérard Duval, in self-defense and is remorseful.', 'Paul is assigned to the supply depot, enjoying brief respite.', 'Paul and Kropp are wounded and sent to a hospital.', \"Kropp's leg is amputated, and Paul returns to the front.\", 'Kat dies from a shrapnel wound while being carried by Paul.', 'Paul is killed in October 1918, shortly before the armistice.'], ['Clyde Griffiths is born into a poor family of evangelists.', 'Clyde is involved in an automobile accident that kills a child.', 'Fleeing the accident, Clyde moves to another city.', \"Clyde finds work in his wealthy uncle's shirt factory in Lycurgus, New York.\", 'Clyde becomes infatuated with Sondra Finchley, a socialite.', 'Clyde starts a secret relationship with Roberta Alden, a factory girl.', \"Roberta becomes pregnant with Clyde's child.\", 'Clyde feels trapped between his love for Sondra and his responsibility towards Roberta.', 'Clyde plans to murder Roberta to free himself for Sondra.', 'Clyde takes Roberta on a boat trip to Big Bittern Lake.', 'Clyde lets Roberta drown in the lake.', 'Clyde tries to return to his life, but is haunted by guilt.', 'Evidence mounts against Clyde, leading to his arrest.', \"Clyde's trial becomes a sensational media event.\", 'Clyde is found guilty of murder.', 'Clyde is sentenced to death.', 'Clyde reflects on his life and actions while on death row.', 'Clyde is executed by electrocution.', 'The novel ends with a reflection on the American dream and its tragic implications for individuals like Clyde.'], ['Clyde Griffiths is born into a poor family of evangelists.', 'Clyde takes a job as a bellhop in Kansas City.', 'Fleeing the accident, Clyde moves to another city.', \"Clyde finds work in his wealthy uncle's shirt factory in Lycurgus, New York.\", 'Clyde becomes infatuated with Sondra Finchley, a socialite.', 'Clyde starts a secret relationship with Roberta Alden, a factory girl.', \"Roberta becomes pregnant with Clyde's child.\", 'Clyde feels trapped between his love for Sondra and his responsibility towards Roberta.', 'Clyde plans to murder Roberta to free himself for Sondra.', 'Clyde takes Roberta on a boat trip to Big Bittern Lake.', 'Clyde lets Roberta drown in the lake.', 'Clyde tries to return to his life, but is haunted by guilt.', 'Evidence mounts against Clyde, leading to his arrest.', \"Clyde's trial becomes a sensational media event.\", 'Clyde is found guilty of murder.', 'Clyde is sentenced to death.', 'Clyde reflects on his life and actions while on death row.', 'Clyde is executed by electrocution.', 'The novel ends with a reflection on the American dream and its tragic implications for individuals like Clyde.'], ['Clyde Griffiths is born into a poor family of evangelists.', 'Clyde takes a job as a bellhop in Kansas City.', 'Clyde is involved in an automobile accident that kills a child.', \"Clyde finds work in his wealthy uncle's shirt factory in Lycurgus, New York.\", 'Clyde becomes infatuated with Sondra Finchley, a socialite.', 'Clyde starts a secret relationship with Roberta Alden, a factory girl.', \"Roberta becomes pregnant with Clyde's child.\", 'Clyde feels trapped between his love for Sondra and his responsibility towards Roberta.', 'Clyde plans to murder Roberta to free himself for Sondra.', 'Clyde takes Roberta on a boat trip to Big Bittern Lake.', 'Clyde lets Roberta drown in the lake.', 'Clyde tries to return to his life, but is haunted by guilt.', 'Evidence mounts against Clyde, leading to his arrest.', \"Clyde's trial becomes a sensational media event.\", 'Clyde is found guilty of murder.', 'Clyde is sentenced to death.', 'Clyde reflects on his life and actions while on death row.', 'Clyde is executed by electrocution.', 'The novel ends with a reflection on the American dream and its tragic implications for individuals like Clyde.'], ['Clyde Griffiths is born into a poor family of evangelists.', 'Clyde takes a job as a bellhop in Kansas City.', 'Clyde is involved in an automobile accident that kills a child.', 'Fleeing the accident, Clyde moves to another city.', 'Clyde becomes infatuated with Sondra Finchley, a socialite.', 'Clyde starts a secret relationship with Roberta Alden, a factory girl.', \"Roberta becomes pregnant with Clyde's child.\", 'Clyde feels trapped between his love for Sondra and his responsibility towards Roberta.', 'Clyde plans to murder Roberta to free himself for Sondra.', 'Clyde takes Roberta on a boat trip to Big Bittern Lake.', 'Clyde lets Roberta drown in the lake.', 'Clyde tries to return to his life, but is haunted by guilt.', 'Evidence mounts against Clyde, leading to his arrest.', \"Clyde's trial becomes a sensational media event.\", 'Clyde is found guilty of murder.', 'Clyde is sentenced to death.', 'Clyde reflects on his life and actions while on death row.', 'Clyde is executed by electrocution.', 'The novel ends with a reflection on the American dream and its tragic implications for individuals like Clyde.'], ['Old Major shares his dream of animal freedom.', 'The animals rebel and take over the farm.', 'The Seven Commandments of Animalism are established.', 'Snowball and Napoleon emerge as leaders.', 'The animals successfully harvest the farm.', 'Napoleon steals the milk and apples for the pigs.', 'The Battle of the Cowshed occurs.', \"Snowball is chased away by Napoleon's dogs.\", 'Napoleon takes control and ends the meetings.', 'The windmill is planned and construction begins.', 'Napoleon starts trading with neighboring farms.', 'The windmill is destroyed in a storm.', \"Napoleon blames Snowball for the windmill's destruction.\", 'Boxer collapses from overwork.', 'Napoleon sells Boxer to the knacker.', 'The pigs start walking on two legs.', 'The Seven Commandments are reduced to one.', 'The pigs start behaving like humans.', \"The animals can't distinguish between pigs and humans.\"], ['Old Major shares his dream of animal freedom.', 'The animals rebel and take over the farm.', 'The farm is renamed Animal Farm.', 'Snowball and Napoleon emerge as leaders.', 'The animals successfully harvest the farm.', 'Napoleon steals the milk and apples for the pigs.', 'The Battle of the Cowshed occurs.', \"Snowball is chased away by Napoleon's dogs.\", 'Napoleon takes control and ends the meetings.', 'The windmill is planned and construction begins.', 'Napoleon starts trading with neighboring farms.', 'The windmill is destroyed in a storm.', \"Napoleon blames Snowball for the windmill's destruction.\", 'Boxer collapses from overwork.', 'Napoleon sells Boxer to the knacker.', 'The pigs start walking on two legs.', 'The Seven Commandments are reduced to one.', 'The pigs start behaving like humans.', \"The animals can't distinguish between pigs and humans.\"], ['Old Major shares his dream of animal freedom.', 'The animals rebel and take over the farm.', 'The farm is renamed Animal Farm.', 'The Seven Commandments of Animalism are established.', 'The animals successfully harvest the farm.', 'Napoleon steals the milk and apples for the pigs.', 'The Battle of the Cowshed occurs.', \"Snowball is chased away by Napoleon's dogs.\", 'Napoleon takes control and ends the meetings.', 'The windmill is planned and construction begins.', 'Napoleon starts trading with neighboring farms.', 'The windmill is destroyed in a storm.', \"Napoleon blames Snowball for the windmill's destruction.\", 'Boxer collapses from overwork.', 'Napoleon sells Boxer to the knacker.', 'The pigs start walking on two legs.', 'The Seven Commandments are reduced to one.', 'The pigs start behaving like humans.', \"The animals can't distinguish between pigs and humans.\"], ['Equality 7-2521 works as a Street Sweeper but is secretly fascinated by science.', 'Equality 7-2521 discovers a tunnel from the Unmentionable Times and conducts experiments.', 'Equality 7-2521 meets Liberty 5-3000 and they fall in love.', 'Equality 7-2521 discovers electricity in his secret tunnel.', 'Equality 7-2521 decides to present his discovery to the World Council of Scholars.', \"The Council rejects Equality 7-2521's invention, calling it evil.\", 'Equality 7-2521 flees into the Uncharted Forest to escape punishment.', 'Liberty 5-3000 follows Equality 7-2521 into the forest, choosing to be with him.', 'Equality 7-2521 and Liberty 5-3000 discover a house from the Unmentionable Times.', 'They decide to live in the house and start a new life together.', 'Equality 7-2521 reads books from the past and learns about individualism.', \"Equality 7-2521 discovers the word 'I' and understands the concept of individuality.\", 'Equality 7-2521 renames himself Prometheus and Liberty 5-3000 as Gaea.', 'Prometheus plans to bring others to their new home to form a society based on freedom.', 'Gaea is revealed to be pregnant, symbolizing hope for the future.', 'Prometheus reflects on the evils of collectivism and the value of individualism.', 'Prometheus vows to rebuild civilization based on individual rights and freedom.', 'Prometheus and Gaea begin to create a new society in the wilderness.', 'Prometheus writes his journal, hoping it will be discovered by future generations.'], ['Equality 7-2521 lives in a collectivist society where individuality is banned.', 'Equality 7-2521 works as a Street Sweeper but is secretly fascinated by science.', 'Equality 7-2521 discovers a tunnel from the Unmentionable Times and conducts experiments.', 'Equality 7-2521 discovers electricity in his secret tunnel.', 'Equality 7-2521 decides to present his discovery to the World Council of Scholars.', \"The Council rejects Equality 7-2521's invention, calling it evil.\", 'Equality 7-2521 flees into the Uncharted Forest to escape punishment.', 'Liberty 5-3000 follows Equality 7-2521 into the forest, choosing to be with him.', 'Equality 7-2521 and Liberty 5-3000 discover a house from the Unmentionable Times.', 'They decide to live in the house and start a new life together.', 'Equality 7-2521 reads books from the past and learns about individualism.', \"Equality 7-2521 discovers the word 'I' and understands the concept of individuality.\", 'Equality 7-2521 renames himself Prometheus and Liberty 5-3000 as Gaea.', 'Prometheus plans to bring others to their new home to form a society based on freedom.', 'Gaea is revealed to be pregnant, symbolizing hope for the future.', 'Prometheus reflects on the evils of collectivism and the value of individualism.', 'Prometheus vows to rebuild civilization based on individual rights and freedom.', 'Prometheus and Gaea begin to create a new society in the wilderness.', 'Prometheus writes his journal, hoping it will be discovered by future generations.'], [\"Martin Arrowsmith reads Gray's Anatomy at fourteen.\", 'Martin enters Winnemac University in 1904.', 'Martin joins the Digamma Pi fraternity.', 'Martin falls in love with Leora Tozer.', 'Martin and Leora get married in Wheatsylvania.', 'Martin receives his medical degree.', 'Martin opens an office in Wheatsylvania.', 'Max Gottlieb joins Hunziker Pharmaceutical Company.', 'Martin moves to Nautilus for a new position.', 'Martin becomes disappointed with trivial duties in Nautilus.', 'Pickerbaugh is elected for Congress, Martin takes charge.', 'Martin resigns due to disfavor from authorities.', 'Martin joins Rouncefield Clinic in Chicago.', \"Martin's article attracts Max Gottlieb's attention at McGurk Institute.\", 'Martin discovers the X Principle.', 'Bubonic plague breaks out in St. Hubert.', 'Martin and Sondelius go to St. Hubert to fight the plague.', 'Leora and Sondelius die from the plague.', 'Martin leaves Joyce to join Terry Wickett in Vermont for research.'], [\"Martin Arrowsmith reads Gray's Anatomy at fourteen.\", 'Martin enters Winnemac University in 1904.', 'Martin becomes assistant to Max Gottlieb.', 'Martin falls in love with Leora Tozer.', 'Martin and Leora get married in Wheatsylvania.', 'Martin receives his medical degree.', 'Martin opens an office in Wheatsylvania.', 'Max Gottlieb joins Hunziker Pharmaceutical Company.', 'Martin moves to Nautilus for a new position.', 'Martin becomes disappointed with trivial duties in Nautilus.', 'Pickerbaugh is elected for Congress, Martin takes charge.', 'Martin resigns due to disfavor from authorities.', 'Martin joins Rouncefield Clinic in Chicago.', \"Martin's article attracts Max Gottlieb's attention at McGurk Institute.\", 'Martin discovers the X Principle.', 'Bubonic plague breaks out in St. Hubert.', 'Martin and Sondelius go to St. Hubert to fight the plague.', 'Leora and Sondelius die from the plague.', 'Martin leaves Joyce to join Terry Wickett in Vermont for research.'], [\"Martin Arrowsmith reads Gray's Anatomy at fourteen.\", 'Martin enters Winnemac University in 1904.', 'Martin becomes assistant to Max Gottlieb.', 'Martin joins the Digamma Pi fraternity.', 'Martin and Leora get married in Wheatsylvania.', 'Martin receives his medical degree.', 'Martin opens an office in Wheatsylvania.', 'Max Gottlieb joins Hunziker Pharmaceutical Company.', 'Martin moves to Nautilus for a new position.', 'Martin becomes disappointed with trivial duties in Nautilus.', 'Pickerbaugh is elected for Congress, Martin takes charge.', 'Martin resigns due to disfavor from authorities.', 'Martin joins Rouncefield Clinic in Chicago.', \"Martin's article attracts Max Gottlieb's attention at McGurk Institute.\", 'Martin discovers the X Principle.', 'Bubonic plague breaks out in St. Hubert.', 'Martin and Sondelius go to St. Hubert to fight the plague.', 'Leora and Sondelius die from the plague.', 'Martin leaves Joyce to join Terry Wickett in Vermont for research.'], ['Addie Bundren lays dying while her son Cash builds her coffin.', \"The Bundren family sets out on their journey to Jefferson with Addie's coffin.\", 'The family encounters a flooded river and struggles to cross it.', 'The coffin is almost lost in the river but is eventually secured.', \"Darl, one of Addie's sons, sets a barn on fire in an attempt to cremate Addie's body.\", \"Jewel, Addie's other son, rescues the coffin from the fire.\", 'The family continues their journey, facing various personal and external obstacles.', \"Dewey Dell, Addie's daughter, seeks an abortion in Jefferson.\", \"Vardaman, the youngest son, struggles with his mother's death, confusing her with a fish.\", \"The family's wagon is damaged, complicating their travel.\", \"Anse, Addie's husband, is determined to reach Jefferson for new teeth and possibly a new wife.\", 'The family encounters hostility and judgment from others along the way.', \"Darl's mental state deteriorates as the journey progresses.\", \"The family finally arrives in Jefferson, facing the town's judgment.\", 'Darl is arrested for the barn burning and sent to an insane asylum.', 'Dewey Dell attempts to get an abortion but is deceived and taken advantage of.', 'Anse borrows shovels to bury Addie, showing his resourcefulness and selfishness.', 'Addie is finally buried in Jefferson, fulfilling her last wish.', 'Anse acquires new teeth and introduces the family to his new wife.'], ['Addie Bundren lays dying while her son Cash builds her coffin.', 'Addie dies and her family prepares for the journey to Jefferson for her burial.', \"The Bundren family sets out on their journey to Jefferson with Addie's coffin.\", 'The coffin is almost lost in the river but is eventually secured.', \"Darl, one of Addie's sons, sets a barn on fire in an attempt to cremate Addie's body.\", \"Jewel, Addie's other son, rescues the coffin from the fire.\", 'The family continues their journey, facing various personal and external obstacles.', \"Dewey Dell, Addie's daughter, seeks an abortion in Jefferson.\", \"Vardaman, the youngest son, struggles with his mother's death, confusing her with a fish.\", \"The family's wagon is damaged, complicating their travel.\", \"Anse, Addie's husband, is determined to reach Jefferson for new teeth and possibly a new wife.\", 'The family encounters hostility and judgment from others along the way.', \"Darl's mental state deteriorates as the journey progresses.\", \"The family finally arrives in Jefferson, facing the town's judgment.\", 'Darl is arrested for the barn burning and sent to an insane asylum.', 'Dewey Dell attempts to get an abortion but is deceived and taken advantage of.', 'Anse borrows shovels to bury Addie, showing his resourcefulness and selfishness.', 'Addie is finally buried in Jefferson, fulfilling her last wish.', 'Anse acquires new teeth and introduces the family to his new wife.'], ['Addie Bundren lays dying while her son Cash builds her coffin.', 'Addie dies and her family prepares for the journey to Jefferson for her burial.', \"The Bundren family sets out on their journey to Jefferson with Addie's coffin.\", 'The family encounters a flooded river and struggles to cross it.', \"Darl, one of Addie's sons, sets a barn on fire in an attempt to cremate Addie's body.\", \"Jewel, Addie's other son, rescues the coffin from the fire.\", 'The family continues their journey, facing various personal and external obstacles.', \"Dewey Dell, Addie's daughter, seeks an abortion in Jefferson.\", \"Vardaman, the youngest son, struggles with his mother's death, confusing her with a fish.\", \"The family's wagon is damaged, complicating their travel.\", \"Anse, Addie's husband, is determined to reach Jefferson for new teeth and possibly a new wife.\", 'The family encounters hostility and judgment from others along the way.', \"Darl's mental state deteriorates as the journey progresses.\", \"The family finally arrives in Jefferson, facing the town's judgment.\", 'Darl is arrested for the barn burning and sent to an insane asylum.', 'Dewey Dell attempts to get an abortion but is deceived and taken advantage of.', 'Anse borrows shovels to bury Addie, showing his resourcefulness and selfishness.', 'Addie is finally buried in Jefferson, fulfilling her last wish.', 'Anse acquires new teeth and introduces the family to his new wife.'], ['Frank is haunted by his past actions of robbing the store.', 'Morris Bober struggles with the failing business and his health.', \"Frank develops a complex relationship with Helen Bober, Morris's daughter.\", 'Frank begins to learn about Jewish traditions and values from the Bober family.', \"Morris is skeptical of Frank's intentions and trustworthiness.\", \"Frank attempts to improve the store's business and compensate for his past wrongs.\", 'Helen faces her own struggles with poverty and her aspirations for a better life.', \"Frank's past accomplice, Ward Minogue, reappears, threatening Frank's new life.\", 'Morris Bober reflects on his life, Jewish identity, and the challenges he faces.', \"Frank's feelings for Helen deepen, complicating his situation.\", 'Frank tries to adopt Jewish practices and contemplates conversion.', \"The neighborhood's dynamics and ethnic tensions influence the characters' interactions.\", \"Morris faces a moral dilemma when he suspects Frank's involvement in the robbery.\", 'Helen is torn between her feelings for Frank and her loyalty to her family.', 'Frank confronts his guilt and seeks redemption through acts of kindness.', \"Morris's health deteriorates further, affecting everyone around him.\", 'Frank makes a significant decision to fully embrace the values he has learned from the Bober family.', 'Morris Bober dies, leaving a profound impact on Frank.', \"Frank decides to stay and run the grocery store, honoring Morris's legacy.\"], [\"Frank Alpine becomes a clerk in Morris Bober's grocery store.\", 'Morris Bober struggles with the failing business and his health.', \"Frank develops a complex relationship with Helen Bober, Morris's daughter.\", 'Frank begins to learn about Jewish traditions and values from the Bober family.', \"Morris is skeptical of Frank's intentions and trustworthiness.\", \"Frank attempts to improve the store's business and compensate for his past wrongs.\", 'Helen faces her own struggles with poverty and her aspirations for a better life.', \"Frank's past accomplice, Ward Minogue, reappears, threatening Frank's new life.\", 'Morris Bober reflects on his life, Jewish identity, and the challenges he faces.', \"Frank's feelings for Helen deepen, complicating his situation.\", 'Frank tries to adopt Jewish practices and contemplates conversion.', \"The neighborhood's dynamics and ethnic tensions influence the characters' interactions.\", \"Morris faces a moral dilemma when he suspects Frank's involvement in the robbery.\", 'Helen is torn between her feelings for Frank and her loyalty to her family.', 'Frank confronts his guilt and seeks redemption through acts of kindness.', \"Morris's health deteriorates further, affecting everyone around him.\", 'Frank makes a significant decision to fully embrace the values he has learned from the Bober family.', 'Morris Bober dies, leaving a profound impact on Frank.', \"Frank decides to stay and run the grocery store, honoring Morris's legacy.\"], [\"Frank Alpine becomes a clerk in Morris Bober's grocery store.\", 'Frank is haunted by his past actions of robbing the store.', \"Frank develops a complex relationship with Helen Bober, Morris's daughter.\", 'Frank begins to learn about Jewish traditions and values from the Bober family.', \"Morris is skeptical of Frank's intentions and trustworthiness.\", \"Frank attempts to improve the store's business and compensate for his past wrongs.\", 'Helen faces her own struggles with poverty and her aspirations for a better life.', \"Frank's past accomplice, Ward Minogue, reappears, threatening Frank's new life.\", 'Morris Bober reflects on his life, Jewish identity, and the challenges he faces.', \"Frank's feelings for Helen deepen, complicating his situation.\", 'Frank tries to adopt Jewish practices and contemplates conversion.', \"The neighborhood's dynamics and ethnic tensions influence the characters' interactions.\", \"Morris faces a moral dilemma when he suspects Frank's involvement in the robbery.\", 'Helen is torn between her feelings for Frank and her loyalty to her family.', 'Frank confronts his guilt and seeks redemption through acts of kindness.', \"Morris's health deteriorates further, affecting everyone around him.\", 'Frank makes a significant decision to fully embrace the values he has learned from the Bober family.', 'Morris Bober dies, leaving a profound impact on Frank.', \"Frank decides to stay and run the grocery store, honoring Morris's legacy.\"], [\"Frank Alpine becomes a clerk in Morris Bober's grocery store.\", 'Frank is haunted by his past actions of robbing the store.', 'Morris Bober struggles with the failing business and his health.', 'Frank begins to learn about Jewish traditions and values from the Bober family.', \"Morris is skeptical of Frank's intentions and trustworthiness.\", \"Frank attempts to improve the store's business and compensate for his past wrongs.\", 'Helen faces her own struggles with poverty and her aspirations for a better life.', \"Frank's past accomplice, Ward Minogue, reappears, threatening Frank's new life.\", 'Morris Bober reflects on his life, Jewish identity, and the challenges he faces.', \"Frank's feelings for Helen deepen, complicating his situation.\", 'Frank tries to adopt Jewish practices and contemplates conversion.', \"The neighborhood's dynamics and ethnic tensions influence the characters' interactions.\", \"Morris faces a moral dilemma when he suspects Frank's involvement in the robbery.\", 'Helen is torn between her feelings for Frank and her loyalty to her family.', 'Frank confronts his guilt and seeks redemption through acts of kindness.', \"Morris's health deteriorates further, affecting everyone around him.\", 'Frank makes a significant decision to fully embrace the values he has learned from the Bober family.', 'Morris Bober dies, leaving a profound impact on Frank.', \"Frank decides to stay and run the grocery store, honoring Morris's legacy.\"], [\"Frank Alpine becomes a clerk in Morris Bober's grocery store.\", 'Frank is haunted by his past actions of robbing the store.', 'Morris Bober struggles with the failing business and his health.', \"Frank develops a complex relationship with Helen Bober, Morris's daughter.\", \"Morris is skeptical of Frank's intentions and trustworthiness.\", \"Frank attempts to improve the store's business and compensate for his past wrongs.\", 'Helen faces her own struggles with poverty and her aspirations for a better life.', \"Frank's past accomplice, Ward Minogue, reappears, threatening Frank's new life.\", 'Morris Bober reflects on his life, Jewish identity, and the challenges he faces.', \"Frank's feelings for Helen deepen, complicating his situation.\", 'Frank tries to adopt Jewish practices and contemplates conversion.', \"The neighborhood's dynamics and ethnic tensions influence the characters' interactions.\", \"Morris faces a moral dilemma when he suspects Frank's involvement in the robbery.\", 'Helen is torn between her feelings for Frank and her loyalty to her family.', 'Frank confronts his guilt and seeks redemption through acts of kindness.', \"Morris's health deteriorates further, affecting everyone around him.\", 'Frank makes a significant decision to fully embrace the values he has learned from the Bober family.', 'Morris Bober dies, leaving a profound impact on Frank.', \"Frank decides to stay and run the grocery store, honoring Morris's legacy.\"], ['Dagny Taggart decides to rebuild the Rio Norte Line with Rearden Metal.', 'The San Sebastian Line is nationalized by the Mexican government.', \"The 'Anti-dog-eat-dog rule' is passed, eliminating competition for Taggart Transcontinental.\", 'Dagny and Hank Rearden begin construction of the John Galt Line.', 'The State Science Institute attempts to discredit Rearden Metal.', 'Dagny names her new railroad line the John Galt Line.', 'Dagny and Rearden discover the remains of a revolutionary motor in an abandoned factory.', 'The government passes the Equalization of Opportunity Bill.', 'Dagny and Rearden become lovers.', 'Directive 10-289 is passed, freezing employment and demanding invention patents.', 'Dagny resigns from Taggart Transcontinental in protest of Directive 10-289.', 'John Galt is revealed as both the inventor of the motor and the leader of the strike of the men of the mind.', 'Dagny accidentally crashes her plane in the valley where the strikers are hiding.', 'Dagny decides to return to the outside world, leaving Galt and the strikers behind.', 'The government nationalizes the railroad industry under the Railroad Unification Plan.', \"John Galt hijacks the airwaves to deliver a speech on the strikers' philosophy and demands.\", 'The government captures John Galt and attempts to force him to save the economy.', 'Dagny, Francisco, and others rescue Galt from the State Science Institute.', \"The strikers prepare to return to the world after the collapse of the government's regime.\"], ['Dagny Taggart decides to rebuild the Rio Norte Line with Rearden Metal.', 'Talented men begin retiring and disappearing from society.', \"The 'Anti-dog-eat-dog rule' is passed, eliminating competition for Taggart Transcontinental.\", 'Dagny and Hank Rearden begin construction of the John Galt Line.', 'The State Science Institute attempts to discredit Rearden Metal.', 'Dagny names her new railroad line the John Galt Line.', 'Dagny and Rearden discover the remains of a revolutionary motor in an abandoned factory.', 'The government passes the Equalization of Opportunity Bill.', 'Dagny and Rearden become lovers.', 'Directive 10-289 is passed, freezing employment and demanding invention patents.', 'Dagny resigns from Taggart Transcontinental in protest of Directive 10-289.', 'John Galt is revealed as both the inventor of the motor and the leader of the strike of the men of the mind.', 'Dagny accidentally crashes her plane in the valley where the strikers are hiding.', 'Dagny decides to return to the outside world, leaving Galt and the strikers behind.', 'The government nationalizes the railroad industry under the Railroad Unification Plan.', \"John Galt hijacks the airwaves to deliver a speech on the strikers' philosophy and demands.\", 'The government captures John Galt and attempts to force him to save the economy.', 'Dagny, Francisco, and others rescue Galt from the State Science Institute.', \"The strikers prepare to return to the world after the collapse of the government's regime.\"], ['Dagny Taggart decides to rebuild the Rio Norte Line with Rearden Metal.', 'Talented men begin retiring and disappearing from society.', 'The San Sebastian Line is nationalized by the Mexican government.', \"The 'Anti-dog-eat-dog rule' is passed, eliminating competition for Taggart Transcontinental.\", 'The State Science Institute attempts to discredit Rearden Metal.', 'Dagny names her new railroad line the John Galt Line.', 'Dagny and Rearden discover the remains of a revolutionary motor in an abandoned factory.', 'The government passes the Equalization of Opportunity Bill.', 'Dagny and Rearden become lovers.', 'Directive 10-289 is passed, freezing employment and demanding invention patents.', 'Dagny resigns from Taggart Transcontinental in protest of Directive 10-289.', 'John Galt is revealed as both the inventor of the motor and the leader of the strike of the men of the mind.', 'Dagny accidentally crashes her plane in the valley where the strikers are hiding.', 'Dagny decides to return to the outside world, leaving Galt and the strikers behind.', 'The government nationalizes the railroad industry under the Railroad Unification Plan.', \"John Galt hijacks the airwaves to deliver a speech on the strikers' philosophy and demands.\", 'The government captures John Galt and attempts to force him to save the economy.', 'Dagny, Francisco, and others rescue Galt from the State Science Institute.', \"The strikers prepare to return to the world after the collapse of the government's regime.\"], [\"Taylor's car runs out of gas in Taylorville, Illinois, where she decides on her new name.\", 'A Cherokee woman leaves a child with Taylor in Oklahoma.', 'Taylor names the child Turtle.', 'Taylor and Turtle arrive in Tucson, Arizona.', 'Taylor gets a job at Jesus Is Lord Used Tires.', 'Taylor meets Mattie, the owner, who shelters political refugees.', 'Taylor rents a room from Lou Ann Ruiz.', 'Taylor and Lou Ann bond over their Kentucky roots.', \"Turtle begins to speak, saying 'bean' as her first word.\", 'Turtle is attacked in the park but is saved by Edna.', 'Turtle withdraws and stops speaking after the attack.', \"A social worker investigates Turtle's custody situation.\", 'Taylor vows to keep Turtle at any cost.', 'Taylor agrees to take Estevan and Esperanza to a safe house in Oklahoma.', \"In Oklahoma, Estevan and Esperanza pose as Turtle's parents to relinquish custody to Taylor.\", 'Taylor legally adopts Turtle.', 'Taylor, Turtle, Estevan, and Esperanza return to Tucson.', 'Turtle names vegetables, including the names of her new family members.', 'Taylor has created a new family and home in Tucson.'], ['Taylor decides to leave Kentucky and start a new life.', 'A Cherokee woman leaves a child with Taylor in Oklahoma.', 'Taylor names the child Turtle.', 'Taylor and Turtle arrive in Tucson, Arizona.', 'Taylor gets a job at Jesus Is Lord Used Tires.', 'Taylor meets Mattie, the owner, who shelters political refugees.', 'Taylor rents a room from Lou Ann Ruiz.', 'Taylor and Lou Ann bond over their Kentucky roots.', \"Turtle begins to speak, saying 'bean' as her first word.\", 'Turtle is attacked in the park but is saved by Edna.', 'Turtle withdraws and stops speaking after the attack.', \"A social worker investigates Turtle's custody situation.\", 'Taylor vows to keep Turtle at any cost.', 'Taylor agrees to take Estevan and Esperanza to a safe house in Oklahoma.', \"In Oklahoma, Estevan and Esperanza pose as Turtle's parents to relinquish custody to Taylor.\", 'Taylor legally adopts Turtle.', 'Taylor, Turtle, Estevan, and Esperanza return to Tucson.', 'Turtle names vegetables, including the names of her new family members.', 'Taylor has created a new family and home in Tucson.'], ['Taylor decides to leave Kentucky and start a new life.', \"Taylor's car runs out of gas in Taylorville, Illinois, where she decides on her new name.\", 'Taylor names the child Turtle.', 'Taylor and Turtle arrive in Tucson, Arizona.', 'Taylor gets a job at Jesus Is Lord Used Tires.', 'Taylor meets Mattie, the owner, who shelters political refugees.', 'Taylor rents a room from Lou Ann Ruiz.', 'Taylor and Lou Ann bond over their Kentucky roots.', \"Turtle begins to speak, saying 'bean' as her first word.\", 'Turtle is attacked in the park but is saved by Edna.', 'Turtle withdraws and stops speaking after the attack.', \"A social worker investigates Turtle's custody situation.\", 'Taylor vows to keep Turtle at any cost.', 'Taylor agrees to take Estevan and Esperanza to a safe house in Oklahoma.', \"In Oklahoma, Estevan and Esperanza pose as Turtle's parents to relinquish custody to Taylor.\", 'Taylor legally adopts Turtle.', 'Taylor, Turtle, Estevan, and Esperanza return to Tucson.', 'Turtle names vegetables, including the names of her new family members.', 'Taylor has created a new family and home in Tucson.'], ['Taylor decides to leave Kentucky and start a new life.', \"Taylor's car runs out of gas in Taylorville, Illinois, where she decides on her new name.\", 'A Cherokee woman leaves a child with Taylor in Oklahoma.', 'Taylor and Turtle arrive in Tucson, Arizona.', 'Taylor gets a job at Jesus Is Lord Used Tires.', 'Taylor meets Mattie, the owner, who shelters political refugees.', 'Taylor rents a room from Lou Ann Ruiz.', 'Taylor and Lou Ann bond over their Kentucky roots.', \"Turtle begins to speak, saying 'bean' as her first word.\", 'Turtle is attacked in the park but is saved by Edna.', 'Turtle withdraws and stops speaking after the attack.', \"A social worker investigates Turtle's custody situation.\", 'Taylor vows to keep Turtle at any cost.', 'Taylor agrees to take Estevan and Esperanza to a safe house in Oklahoma.', \"In Oklahoma, Estevan and Esperanza pose as Turtle's parents to relinquish custody to Taylor.\", 'Taylor legally adopts Turtle.', 'Taylor, Turtle, Estevan, and Esperanza return to Tucson.', 'Turtle names vegetables, including the names of her new family members.', 'Taylor has created a new family and home in Tucson.'], ['Taylor decides to leave Kentucky and start a new life.', \"Taylor's car runs out of gas in Taylorville, Illinois, where she decides on her new name.\", 'A Cherokee woman leaves a child with Taylor in Oklahoma.', 'Taylor names the child Turtle.', 'Taylor gets a job at Jesus Is Lord Used Tires.', 'Taylor meets Mattie, the owner, who shelters political refugees.', 'Taylor rents a room from Lou Ann Ruiz.', 'Taylor and Lou Ann bond over their Kentucky roots.', \"Turtle begins to speak, saying 'bean' as her first word.\", 'Turtle is attacked in the park but is saved by Edna.', 'Turtle withdraws and stops speaking after the attack.', \"A social worker investigates Turtle's custody situation.\", 'Taylor vows to keep Turtle at any cost.', 'Taylor agrees to take Estevan and Esperanza to a safe house in Oklahoma.', \"In Oklahoma, Estevan and Esperanza pose as Turtle's parents to relinquish custody to Taylor.\", 'Taylor legally adopts Turtle.', 'Taylor, Turtle, Estevan, and Esperanza return to Tucson.', 'Turtle names vegetables, including the names of her new family members.', 'Taylor has created a new family and home in Tucson.'], ['Esther feels disconnected from the glamorous life in New York.', \"Esther's relationship with Doreen begins to change after a night out.\", 'Esther decides to skip magazine functions to spend time alone.', 'Esther and the other contest winners suffer food poisoning from a banquet.', 'Esther contemplates her inadequacy and future after meeting Constantin.', \"Esther's disillusionment with New York grows, leading to her breakdown during a photo shoot.\", 'Esther is assaulted by Marco, furthering her disillusionment.', 'Esther returns home to New England, learning she was rejected from a writing program.', \"Esther's depression deepens, leading to her inability to sleep or write.\", 'Esther undergoes electro-shock therapy, which she finds traumatic.', 'Esther attempts suicide by overdosing on sleeping pills.', 'Esther is found and hospitalized in a state mental hospital.', \"Philomena Guinea funds Esther's transfer to a private hospital.\", 'Esther meets Dr. Nolan, who becomes a supportive figure.', \"Esther undergoes a more humane form of electro-shock therapy under Dr. Nolan's care.\", \"Esther learns of Joan's suicide, which deeply affects her.\", 'Esther loses her virginity to Irwin and experiences a medical emergency.', 'Esther prepares for her exit interview from the hospital, contemplating her future.', 'The novel ends with Esther stepping into the room for her interview, leaving her future uncertain.'], ['Esther Greenwood wins an internship at Ladies Day magazine in New York.', \"Esther's relationship with Doreen begins to change after a night out.\", 'Esther decides to skip magazine functions to spend time alone.', 'Esther and the other contest winners suffer food poisoning from a banquet.', 'Esther contemplates her inadequacy and future after meeting Constantin.', \"Esther's disillusionment with New York grows, leading to her breakdown during a photo shoot.\", 'Esther is assaulted by Marco, furthering her disillusionment.', 'Esther returns home to New England, learning she was rejected from a writing program.', \"Esther's depression deepens, leading to her inability to sleep or write.\", 'Esther undergoes electro-shock therapy, which she finds traumatic.', 'Esther attempts suicide by overdosing on sleeping pills.', 'Esther is found and hospitalized in a state mental hospital.', \"Philomena Guinea funds Esther's transfer to a private hospital.\", 'Esther meets Dr. Nolan, who becomes a supportive figure.', \"Esther undergoes a more humane form of electro-shock therapy under Dr. Nolan's care.\", \"Esther learns of Joan's suicide, which deeply affects her.\", 'Esther loses her virginity to Irwin and experiences a medical emergency.', 'Esther prepares for her exit interview from the hospital, contemplating her future.', 'The novel ends with Esther stepping into the room for her interview, leaving her future uncertain.'], ['Esther Greenwood wins an internship at Ladies Day magazine in New York.', 'Esther feels disconnected from the glamorous life in New York.', 'Esther decides to skip magazine functions to spend time alone.', 'Esther and the other contest winners suffer food poisoning from a banquet.', 'Esther contemplates her inadequacy and future after meeting Constantin.', \"Esther's disillusionment with New York grows, leading to her breakdown during a photo shoot.\", 'Esther is assaulted by Marco, furthering her disillusionment.', 'Esther returns home to New England, learning she was rejected from a writing program.', \"Esther's depression deepens, leading to her inability to sleep or write.\", 'Esther undergoes electro-shock therapy, which she finds traumatic.', 'Esther attempts suicide by overdosing on sleeping pills.', 'Esther is found and hospitalized in a state mental hospital.', \"Philomena Guinea funds Esther's transfer to a private hospital.\", 'Esther meets Dr. Nolan, who becomes a supportive figure.', \"Esther undergoes a more humane form of electro-shock therapy under Dr. Nolan's care.\", \"Esther learns of Joan's suicide, which deeply affects her.\", 'Esther loses her virginity to Irwin and experiences a medical emergency.', 'Esther prepares for her exit interview from the hospital, contemplating her future.', 'The novel ends with Esther stepping into the room for her interview, leaving her future uncertain.'], ['Esther Greenwood wins an internship at Ladies Day magazine in New York.', 'Esther feels disconnected from the glamorous life in New York.', \"Esther's relationship with Doreen begins to change after a night out.\", 'Esther and the other contest winners suffer food poisoning from a banquet.', 'Esther contemplates her inadequacy and future after meeting Constantin.', \"Esther's disillusionment with New York grows, leading to her breakdown during a photo shoot.\", 'Esther is assaulted by Marco, furthering her disillusionment.', 'Esther returns home to New England, learning she was rejected from a writing program.', \"Esther's depression deepens, leading to her inability to sleep or write.\", 'Esther undergoes electro-shock therapy, which she finds traumatic.', 'Esther attempts suicide by overdosing on sleeping pills.', 'Esther is found and hospitalized in a state mental hospital.', \"Philomena Guinea funds Esther's transfer to a private hospital.\", 'Esther meets Dr. Nolan, who becomes a supportive figure.', \"Esther undergoes a more humane form of electro-shock therapy under Dr. Nolan's care.\", \"Esther learns of Joan's suicide, which deeply affects her.\", 'Esther loses her virginity to Irwin and experiences a medical emergency.', 'Esther prepares for her exit interview from the hospital, contemplating her future.', 'The novel ends with Esther stepping into the room for her interview, leaving her future uncertain.'], ['Esther Greenwood wins an internship at Ladies Day magazine in New York.', 'Esther feels disconnected from the glamorous life in New York.', \"Esther's relationship with Doreen begins to change after a night out.\", 'Esther decides to skip magazine functions to spend time alone.', 'Esther contemplates her inadequacy and future after meeting Constantin.', \"Esther's disillusionment with New York grows, leading to her breakdown during a photo shoot.\", 'Esther is assaulted by Marco, furthering her disillusionment.', 'Esther returns home to New England, learning she was rejected from a writing program.', \"Esther's depression deepens, leading to her inability to sleep or write.\", 'Esther undergoes electro-shock therapy, which she finds traumatic.', 'Esther attempts suicide by overdosing on sleeping pills.', 'Esther is found and hospitalized in a state mental hospital.', \"Philomena Guinea funds Esther's transfer to a private hospital.\", 'Esther meets Dr. Nolan, who becomes a supportive figure.', \"Esther undergoes a more humane form of electro-shock therapy under Dr. Nolan's care.\", \"Esther learns of Joan's suicide, which deeply affects her.\", 'Esther loses her virginity to Irwin and experiences a medical emergency.', 'Esther prepares for her exit interview from the hospital, contemplating her future.', 'The novel ends with Esther stepping into the room for her interview, leaving her future uncertain.'], ['Sethe arrives at Sweet Home plantation.', 'Sethe chooses Halle Suggs as her mate.', 'Sethe bears three children with Halle.', 'The male slaves plan their escape from Sweet Home.', 'Sethe sends her children to Cincinnati for safety.', \"Schoolteacher's nephews assault Sethe.\", 'Sethe escapes Sweet Home while pregnant.', \"Sethe gives birth to her fourth child with Amy Denver's help.\", 'Sethe crosses the Ohio River into freedom.', 'Sethe reunites with her children and Baby Suggs.', 'Schoolteacher comes to recapture Sethe and her children.', 'Sethe kills her eldest daughter to save her from slavery.', 'Sethe and Denver are taken to jail.', 'Sethe is released from jail due to community pressure.', \"Beloved's ghost haunts 124 Bluestone Road.\", 'Paul D arrives and dispels the ghost.', \"A mysterious young woman, Beloved, appears at Sethe's home.\", 'Sethe becomes obsessed with Beloved, believing she is her reincarnated daughter.', \"The community helps Sethe break free from Beloved's control.\"], ['Sethe arrives at Sweet Home plantation.', 'Sethe chooses Halle Suggs as her mate.', 'Sethe bears three children with Halle.', 'Schoolteacher becomes the overseer of Sweet Home.', 'Sethe sends her children to Cincinnati for safety.', \"Schoolteacher's nephews assault Sethe.\", 'Sethe escapes Sweet Home while pregnant.', \"Sethe gives birth to her fourth child with Amy Denver's help.\", 'Sethe crosses the Ohio River into freedom.', 'Sethe reunites with her children and Baby Suggs.', 'Schoolteacher comes to recapture Sethe and her children.', 'Sethe kills her eldest daughter to save her from slavery.', 'Sethe and Denver are taken to jail.', 'Sethe is released from jail due to community pressure.', \"Beloved's ghost haunts 124 Bluestone Road.\", 'Paul D arrives and dispels the ghost.', \"A mysterious young woman, Beloved, appears at Sethe's home.\", 'Sethe becomes obsessed with Beloved, believing she is her reincarnated daughter.', \"The community helps Sethe break free from Beloved's control.\"], ['The H.M.S. Bellipotent impresses Billy Budd from the merchant ship Rights-of-Man.', 'Billy Budd adjusts to life aboard the Bellipotent and is liked by his mates.', 'Captain Vere is introduced as a just and well-read officer.', 'Claggart, the master-at-arms, shows initial friendliness towards Billy.', \"The Dansker tells Billy that Claggart is 'down on him'.\", 'An afterguardsman attempts to recruit Billy into a mutiny.', 'Billy rejects the mutiny proposal and threatens the afterguardsman.', 'Claggart falsely accuses Billy of mutiny to Captain Vere.', \"In Captain Vere's cabin, Billy strikes Claggart, killing him.\", 'Captain Vere convenes a drumhead court to try Billy.', 'The court finds Billy guilty of mutiny.', 'Billy Budd is executed by hanging from the yardarm.', 'Billy dies with a blessing for Captain Vere on his lips.', 'The Bellipotent engages the French ship Athée.', 'Captain Vere is seriously wounded in the battle.', 'The Bellipotent defeats the Athée and escorts it to Gibraltar.', \"Captain Vere dies, murmuring 'Billy Budd, Billy Budd'.\", 'Claggart is exonerated and Billy executed as a traitor.', 'The common sailors memorialize Billy Budd, comparing a chip of the spar to a piece of the Cross.'], [\"Richard sets fire to his grandmother's house.\", 'Richard is nearly beaten to death by his mother as punishment.', \"Richard's father deserts the family.\", 'Richard learns about racism in Memphis.', 'Richard becomes alienated from God and the Christian faith.', 'Richard moves back to Jackson with his ill mother to live with his grandmother.', 'Richard sees opportunities for breaking out of his preordained life.', 'Richard finds ideas for stories while praying.', 'Richard alienates himself from most of his family.', 'Richard excels at school but feels detached from classmates.', 'Richard lands part-time jobs but feels alienated from supervisors and coworkers.', 'The community tries to shame Richard into submission.', 'Richard is determined to be a writer.', 'Richard steals money to go North.', 'Richard moves part-way north, back to Memphis.', 'Richard experiences a degrading incident at a new job.', 'Richard throws himself into reading novels and other works.', 'Richard realizes he is destined to become a writer.', 'Richard flees to Chicago, determined to flourish in his new life.'], [\"Richard sets fire to his grandmother's house.\", 'Richard is nearly beaten to death by his mother as punishment.', 'The family moves to Memphis, Tennessee.', \"Richard's father deserts the family.\", 'Richard becomes alienated from God and the Christian faith.', 'Richard moves back to Jackson with his ill mother to live with his grandmother.', 'Richard sees opportunities for breaking out of his preordained life.', 'Richard finds ideas for stories while praying.', 'Richard alienates himself from most of his family.', 'Richard excels at school but feels detached from classmates.', 'Richard lands part-time jobs but feels alienated from supervisors and coworkers.', 'The community tries to shame Richard into submission.', 'Richard is determined to be a writer.', 'Richard steals money to go North.', 'Richard moves part-way north, back to Memphis.', 'Richard experiences a degrading incident at a new job.', 'Richard throws himself into reading novels and other works.', 'Richard realizes he is destined to become a writer.', 'Richard flees to Chicago, determined to flourish in his new life.'], ['Black Elk is granted a powerful vision at age nine.', \"The vision depicts Black Elk's journey to a cloud world.\", 'Black Elk receives sacred objects from six grandfathers.', 'Tension increases between the Sioux and white Americans.', 'The Sioux participate in the Battle of Little Bighorn.', 'The U.S. Government annexes more Indian territory.', 'Crazy Horse is killed by U.S. soldiers.', 'Black Elk finds himself in exile in Canada.', 'Black Elk performs public rituals as a healer.', 'Black Elk has another vision, the dog vision.', 'Black Elk performs his first cure.', \"Black Elk travels to Chicago, New York, and Europe with Buffalo Bill's Wild West Show.\", \"Black Elk participates in a command performance for Queen Victoria's jubilee.\", 'Black Elk falls ill in Paris and has another vision.', 'Black Elk returns home to a displaced community.', \"The ghost dance religion revives the Sioux's hope.\", 'Black Elk participates in the ghost dance.', 'The massacre at Wounded Knee occurs.', \"Black Elk expresses disappointment at his failure to enact his vision's power.\"], ['Black Elk hears voices for the first time at age five.', \"The vision depicts Black Elk's journey to a cloud world.\", 'Black Elk receives sacred objects from six grandfathers.', 'Tension increases between the Sioux and white Americans.', 'The Sioux participate in the Battle of Little Bighorn.', 'The U.S. Government annexes more Indian territory.', 'Crazy Horse is killed by U.S. soldiers.', 'Black Elk finds himself in exile in Canada.', 'Black Elk performs public rituals as a healer.', 'Black Elk has another vision, the dog vision.', 'Black Elk performs his first cure.', \"Black Elk travels to Chicago, New York, and Europe with Buffalo Bill's Wild West Show.\", \"Black Elk participates in a command performance for Queen Victoria's jubilee.\", 'Black Elk falls ill in Paris and has another vision.', 'Black Elk returns home to a displaced community.', \"The ghost dance religion revives the Sioux's hope.\", 'Black Elk participates in the ghost dance.', 'The massacre at Wounded Knee occurs.', \"Black Elk expresses disappointment at his failure to enact his vision's power.\"]]\n"
     ]
    }
   ],
   "source": [
    "tokenizer = AutoTokenizer.from_pretrained(model_name, model_max_length=512)\n",
    "model = AutoModelForCausalLM.from_pretrained(model_name, output_hidden_states=True)\n",
    "tokenizer.pad_token = tokenizer.eos_token\n",
    "bert_tokenizer = AutoTokenizer.from_pretrained('google-bert/bert-base-uncased')\n",
    "bert_model = AutoModel.from_pretrained('google-bert/bert-base-uncased')\n",
    "bert_tokenizer.pad_token = tokenizer.eos_token\n",
    "\n",
    "non_infringement_outputs, non_infringement_references_events, non_infringement_references_chars, y_non_infringement, infringement_outputs, infringement_references_events, infringement_references_chars, y_infringement = load_data(\n",
    "    non_infringement_file, infringement_file\n",
    ")\n",
    "\n",
    "y_non_infringement = np.array(y_non_infringement)\n",
    "y_infringement = np.array(y_infringement)\n"
   ]
  },
  {
   "cell_type": "code",
   "execution_count": 19,
   "metadata": {},
   "outputs": [
    {
     "name": "stdout",
     "output_type": "stream",
     "text": [
      "Extracting hidden states for non_infringement texts...\n"
     ]
    },
    {
     "name": "stderr",
     "output_type": "stream",
     "text": [
      "Processing data batches: 100%|██████████| 17/17 [00:01<00:00,  9.18it/s]\n"
     ]
    },
    {
     "name": "stdout",
     "output_type": "stream",
     "text": [
      "Extracting reference embeddings for non_infringement texts...\n"
     ]
    },
    {
     "name": "stderr",
     "output_type": "stream",
     "text": [
      "Processing references: 100%|██████████| 17/17 [00:00<00:00, 31.02it/s]\n",
      "Processing references: 100%|██████████| 17/17 [00:00<00:00, 134.92it/s]\n"
     ]
    },
    {
     "name": "stdout",
     "output_type": "stream",
     "text": [
      "Extracting hidden states for infringement texts...\n"
     ]
    },
    {
     "name": "stderr",
     "output_type": "stream",
     "text": [
      "Processing data batches: 100%|██████████| 17/17 [00:01<00:00,  9.29it/s]\n"
     ]
    },
    {
     "name": "stdout",
     "output_type": "stream",
     "text": [
      "Extracting reference embeddings for infringement texts...\n"
     ]
    },
    {
     "name": "stderr",
     "output_type": "stream",
     "text": [
      "Processing references: 100%|██████████| 17/17 [00:00<00:00, 51.28it/s]\n",
      "Processing references: 100%|██████████| 17/17 [00:00<00:00, 136.21it/s]\n"
     ]
    }
   ],
   "source": [
    "\n",
    "non_infringement_references_events  = [' '.join(inner_list) for inner_list in non_infringement_references_events]\n",
    "non_infringement_references_chars = [' '.join([item[0] for item in inner_list]) for inner_list in non_infringement_references_chars]\n",
    "infringement_references_events = [' '.join(inner_list) for inner_list in infringement_references_events]\n",
    "infringement_references_chars = [' '.join([item[0] for item in inner_list]) for inner_list in infringement_references_chars]\n",
    "\n",
    "print(\"Extracting hidden states for non_infringement texts...\")\n",
    "X_non_infringement = extract_hidden_states(non_infringement_outputs, model, tokenizer)\n",
    "print(\"Extracting reference embeddings for non_infringement texts...\")\n",
    "reference_embeddings_non_infringement_events = extract_reference_embeddings(non_infringement_references_events, bert_model, bert_tokenizer)\n",
    "reference_embeddings_non_infringement_chars = extract_reference_embeddings(non_infringement_references_chars, bert_model, bert_tokenizer)\n",
    "X_non_infringement_combined = np.hstack([X_non_infringement, reference_embeddings_non_infringement_events, reference_embeddings_non_infringement_chars])\n",
    "\n",
    "print(\"Extracting hidden states for infringement texts...\")\n",
    "X_infringement = extract_hidden_states(infringement_outputs, model, tokenizer)\n",
    "print(\"Extracting reference embeddings for infringement texts...\")\n",
    "reference_embeddings_infringement_events = extract_reference_embeddings(infringement_references_events, bert_model, bert_tokenizer)\n",
    "reference_embeddings_infringement_chars = extract_reference_embeddings(infringement_references_chars, bert_model, bert_tokenizer)\n",
    "X_infringement_combined = np.hstack([X_infringement, reference_embeddings_infringement_events, reference_embeddings_infringement_chars])"
   ]
  },
  {
   "cell_type": "code",
   "execution_count": 20,
   "metadata": {},
   "outputs": [
    {
     "name": "stdout",
     "output_type": "stream",
     "text": [
      "Data successfully split into training and test sets.\n"
     ]
    }
   ],
   "source": [
    "split_index_non_infringement = int(0.8 * len(X_non_infringement_combined))\n",
    "X_non_infringement_train = X_non_infringement_combined[:split_index_non_infringement]\n",
    "X_non_infringement_test = X_non_infringement_combined[split_index_non_infringement:]\n",
    "y_non_infringement_train = y_non_infringement[:split_index_non_infringement]\n",
    "y_non_infringement_test = y_non_infringement[split_index_non_infringement:]\n",
    "\n",
    "split_index_infringement = int(0.8 * len(X_infringement_combined))\n",
    "X_infringement_train = X_infringement_combined[:split_index_infringement]\n",
    "X_infringement_test = X_infringement_combined[split_index_infringement:]\n",
    "y_infringement_train = y_infringement[:split_index_infringement]\n",
    "y_infringement_test = y_infringement[split_index_infringement:]\n",
    "\n",
    "X_train = np.vstack((X_non_infringement_train, X_infringement_train))\n",
    "X_test = np.vstack((X_non_infringement_test, X_infringement_test))\n",
    "y_train = np.concatenate((y_non_infringement_train, y_infringement_train))\n",
    "y_test = np.concatenate((y_non_infringement_test, y_infringement_test))\n",
    "\n",
    "print(\"Data successfully split into training and test sets.\")"
   ]
  },
  {
   "cell_type": "code",
   "execution_count": null,
   "metadata": {},
   "outputs": [
    {
     "name": "stderr",
     "output_type": "stream",
     "text": [
      "Training Epochs:   1%|          | 14/2000 [00:00<00:52, 38.15it/s]"
     ]
    },
    {
     "name": "stdout",
     "output_type": "stream",
     "text": [
      "Epoch 10/2000, Loss: 6.2425\n",
      "Test Accuracy at Epoch 10: 57.14%\n",
      "Test F1-score at Epoch 10: 0.6842\n",
      "Classification Report at Epoch 10:\n",
      "                  precision    recall  f1-score   support\n",
      "\n",
      "    infringement       0.75      0.21      0.33        14\n",
      "non_infringement       0.54      0.93      0.68        14\n",
      "\n",
      "        accuracy                           0.57        28\n",
      "       macro avg       0.65      0.57      0.51        28\n",
      "    weighted avg       0.65      0.57      0.51        28\n",
      "\n",
      "New best model saved with F1-score 0.6842 at epoch 10\n",
      "Best Classification Report at Epoch 10:\n",
      "                  precision    recall  f1-score   support\n",
      "\n",
      "    infringement       0.75      0.21      0.33        14\n",
      "non_infringement       0.54      0.93      0.68        14\n",
      "\n",
      "        accuracy                           0.57        28\n",
      "       macro avg       0.65      0.57      0.51        28\n",
      "    weighted avg       0.65      0.57      0.51        28\n",
      "\n"
     ]
    },
    {
     "name": "stderr",
     "output_type": "stream",
     "text": [
      "Training Epochs:   1%|▏         | 28/2000 [00:00<00:36, 54.57it/s]"
     ]
    },
    {
     "name": "stdout",
     "output_type": "stream",
     "text": [
      "Epoch 20/2000, Loss: 0.3420\n",
      "Test Accuracy at Epoch 20: 82.14%\n",
      "Test F1-score at Epoch 20: 0.8148\n",
      "Classification Report at Epoch 20:\n",
      "                  precision    recall  f1-score   support\n",
      "\n",
      "    infringement       0.80      0.86      0.83        14\n",
      "non_infringement       0.85      0.79      0.81        14\n",
      "\n",
      "        accuracy                           0.82        28\n",
      "       macro avg       0.82      0.82      0.82        28\n",
      "    weighted avg       0.82      0.82      0.82        28\n",
      "\n",
      "New best model saved with F1-score 0.8148 at epoch 20\n",
      "Best Classification Report at Epoch 20:\n",
      "                  precision    recall  f1-score   support\n",
      "\n",
      "    infringement       0.80      0.86      0.83        14\n",
      "non_infringement       0.85      0.79      0.81        14\n",
      "\n",
      "        accuracy                           0.82        28\n",
      "       macro avg       0.82      0.82      0.82        28\n",
      "    weighted avg       0.82      0.82      0.82        28\n",
      "\n",
      "Epoch 30/2000, Loss: 0.0859\n",
      "Test Accuracy at Epoch 30: 96.43%\n",
      "Test F1-score at Epoch 30: 0.9630\n",
      "Classification Report at Epoch 30:\n",
      "                  precision    recall  f1-score   support\n",
      "\n",
      "    infringement       0.93      1.00      0.97        14\n",
      "non_infringement       1.00      0.93      0.96        14\n",
      "\n",
      "        accuracy                           0.96        28\n",
      "       macro avg       0.97      0.96      0.96        28\n",
      "    weighted avg       0.97      0.96      0.96        28\n",
      "\n",
      "New best model saved with F1-score 0.9630 at epoch 30\n",
      "Best Classification Report at Epoch 30:\n",
      "                  precision    recall  f1-score   support\n",
      "\n",
      "    infringement       0.93      1.00      0.97        14\n",
      "non_infringement       1.00      0.93      0.96        14\n",
      "\n",
      "        accuracy                           0.96        28\n",
      "       macro avg       0.97      0.96      0.96        28\n",
      "    weighted avg       0.97      0.96      0.96        28\n",
      "\n"
     ]
    },
    {
     "name": "stderr",
     "output_type": "stream",
     "text": [
      "Training Epochs:   2%|▎         | 50/2000 [00:00<00:29, 65.08it/s]"
     ]
    },
    {
     "name": "stdout",
     "output_type": "stream",
     "text": [
      "Epoch 40/2000, Loss: 0.0049\n",
      "Test Accuracy at Epoch 40: 96.43%\n",
      "Test F1-score at Epoch 40: 0.9630\n",
      "Classification Report at Epoch 40:\n",
      "                  precision    recall  f1-score   support\n",
      "\n",
      "    infringement       0.93      1.00      0.97        14\n",
      "non_infringement       1.00      0.93      0.96        14\n",
      "\n",
      "        accuracy                           0.96        28\n",
      "       macro avg       0.97      0.96      0.96        28\n",
      "    weighted avg       0.97      0.96      0.96        28\n",
      "\n",
      "Epoch 50/2000, Loss: 0.0006\n",
      "Test Accuracy at Epoch 50: 96.43%\n",
      "Test F1-score at Epoch 50: 0.9630\n",
      "Classification Report at Epoch 50:\n",
      "                  precision    recall  f1-score   support\n",
      "\n",
      "    infringement       0.93      1.00      0.97        14\n",
      "non_infringement       1.00      0.93      0.96        14\n",
      "\n",
      "        accuracy                           0.96        28\n",
      "       macro avg       0.97      0.96      0.96        28\n",
      "    weighted avg       0.97      0.96      0.96        28\n",
      "\n"
     ]
    },
    {
     "name": "stderr",
     "output_type": "stream",
     "text": [
      "Training Epochs:   3%|▎         | 67/2000 [00:01<00:27, 71.07it/s]"
     ]
    },
    {
     "name": "stdout",
     "output_type": "stream",
     "text": [
      "Epoch 60/2000, Loss: 0.0002\n",
      "Test Accuracy at Epoch 60: 96.43%\n",
      "Test F1-score at Epoch 60: 0.9630\n",
      "Classification Report at Epoch 60:\n",
      "                  precision    recall  f1-score   support\n",
      "\n",
      "    infringement       0.93      1.00      0.97        14\n",
      "non_infringement       1.00      0.93      0.96        14\n",
      "\n",
      "        accuracy                           0.96        28\n",
      "       macro avg       0.97      0.96      0.96        28\n",
      "    weighted avg       0.97      0.96      0.96        28\n",
      "\n",
      "Epoch 70/2000, Loss: 0.0001\n",
      "Test Accuracy at Epoch 70: 96.43%\n",
      "Test F1-score at Epoch 70: 0.9630\n",
      "Classification Report at Epoch 70:\n",
      "                  precision    recall  f1-score   support\n",
      "\n",
      "    infringement       0.93      1.00      0.97        14\n",
      "non_infringement       1.00      0.93      0.96        14\n",
      "\n",
      "        accuracy                           0.96        28\n",
      "       macro avg       0.97      0.96      0.96        28\n",
      "    weighted avg       0.97      0.96      0.96        28\n",
      "\n"
     ]
    },
    {
     "name": "stderr",
     "output_type": "stream",
     "text": [
      "Training Epochs:   5%|▍         | 91/2000 [00:01<00:28, 67.91it/s]"
     ]
    },
    {
     "name": "stdout",
     "output_type": "stream",
     "text": [
      "Epoch 80/2000, Loss: 0.0001\n",
      "Test Accuracy at Epoch 80: 96.43%\n",
      "Test F1-score at Epoch 80: 0.9630\n",
      "Classification Report at Epoch 80:\n",
      "                  precision    recall  f1-score   support\n",
      "\n",
      "    infringement       0.93      1.00      0.97        14\n",
      "non_infringement       1.00      0.93      0.96        14\n",
      "\n",
      "        accuracy                           0.96        28\n",
      "       macro avg       0.97      0.96      0.96        28\n",
      "    weighted avg       0.97      0.96      0.96        28\n",
      "\n",
      "Epoch 90/2000, Loss: 0.0000\n",
      "Test Accuracy at Epoch 90: 96.43%\n",
      "Test F1-score at Epoch 90: 0.9630\n",
      "Classification Report at Epoch 90:\n",
      "                  precision    recall  f1-score   support\n",
      "\n",
      "    infringement       0.93      1.00      0.97        14\n",
      "non_infringement       1.00      0.93      0.96        14\n",
      "\n",
      "        accuracy                           0.96        28\n",
      "       macro avg       0.97      0.96      0.96        28\n",
      "    weighted avg       0.97      0.96      0.96        28\n",
      "\n"
     ]
    },
    {
     "name": "stderr",
     "output_type": "stream",
     "text": [
      "Training Epochs:   5%|▌         | 107/2000 [00:01<00:27, 69.56it/s]"
     ]
    },
    {
     "name": "stdout",
     "output_type": "stream",
     "text": [
      "Epoch 100/2000, Loss: 0.0000\n",
      "Test Accuracy at Epoch 100: 96.43%\n",
      "Test F1-score at Epoch 100: 0.9630\n",
      "Classification Report at Epoch 100:\n",
      "                  precision    recall  f1-score   support\n",
      "\n",
      "    infringement       0.93      1.00      0.97        14\n",
      "non_infringement       1.00      0.93      0.96        14\n",
      "\n",
      "        accuracy                           0.96        28\n",
      "       macro avg       0.97      0.96      0.96        28\n",
      "    weighted avg       0.97      0.96      0.96        28\n",
      "\n",
      "Epoch 110/2000, Loss: 0.0000\n",
      "Test Accuracy at Epoch 110: 96.43%\n",
      "Test F1-score at Epoch 110: 0.9630\n",
      "Classification Report at Epoch 110:\n",
      "                  precision    recall  f1-score   support\n",
      "\n",
      "    infringement       0.93      1.00      0.97        14\n",
      "non_infringement       1.00      0.93      0.96        14\n",
      "\n",
      "        accuracy                           0.96        28\n",
      "       macro avg       0.97      0.96      0.96        28\n",
      "    weighted avg       0.97      0.96      0.96        28\n",
      "\n"
     ]
    },
    {
     "name": "stderr",
     "output_type": "stream",
     "text": [
      "Training Epochs:   6%|▋         | 128/2000 [00:02<00:29, 63.29it/s]"
     ]
    },
    {
     "name": "stdout",
     "output_type": "stream",
     "text": [
      "Epoch 120/2000, Loss: 0.0000\n",
      "Test Accuracy at Epoch 120: 96.43%\n",
      "Test F1-score at Epoch 120: 0.9630\n",
      "Classification Report at Epoch 120:\n",
      "                  precision    recall  f1-score   support\n",
      "\n",
      "    infringement       0.93      1.00      0.97        14\n",
      "non_infringement       1.00      0.93      0.96        14\n",
      "\n",
      "        accuracy                           0.96        28\n",
      "       macro avg       0.97      0.96      0.96        28\n",
      "    weighted avg       0.97      0.96      0.96        28\n",
      "\n",
      "Epoch 130/2000, Loss: 0.0000\n",
      "Test Accuracy at Epoch 130: 96.43%\n",
      "Test F1-score at Epoch 130: 0.9630\n",
      "Classification Report at Epoch 130:\n",
      "                  precision    recall  f1-score   support\n",
      "\n",
      "    infringement       0.93      1.00      0.97        14\n",
      "non_infringement       1.00      0.93      0.96        14\n",
      "\n",
      "        accuracy                           0.96        28\n",
      "       macro avg       0.97      0.96      0.96        28\n",
      "    weighted avg       0.97      0.96      0.96        28\n",
      "\n"
     ]
    },
    {
     "name": "stderr",
     "output_type": "stream",
     "text": [
      "Training Epochs:   8%|▊         | 150/2000 [00:02<00:27, 67.46it/s]"
     ]
    },
    {
     "name": "stdout",
     "output_type": "stream",
     "text": [
      "Epoch 140/2000, Loss: 0.0000\n",
      "Test Accuracy at Epoch 140: 96.43%\n",
      "Test F1-score at Epoch 140: 0.9630\n",
      "Classification Report at Epoch 140:\n",
      "                  precision    recall  f1-score   support\n",
      "\n",
      "    infringement       0.93      1.00      0.97        14\n",
      "non_infringement       1.00      0.93      0.96        14\n",
      "\n",
      "        accuracy                           0.96        28\n",
      "       macro avg       0.97      0.96      0.96        28\n",
      "    weighted avg       0.97      0.96      0.96        28\n",
      "\n",
      "Epoch 150/2000, Loss: 0.0000\n",
      "Test Accuracy at Epoch 150: 96.43%\n",
      "Test F1-score at Epoch 150: 0.9630\n",
      "Classification Report at Epoch 150:\n",
      "                  precision    recall  f1-score   support\n",
      "\n",
      "    infringement       0.93      1.00      0.97        14\n",
      "non_infringement       1.00      0.93      0.96        14\n",
      "\n",
      "        accuracy                           0.96        28\n",
      "       macro avg       0.97      0.96      0.96        28\n",
      "    weighted avg       0.97      0.96      0.96        28\n",
      "\n"
     ]
    },
    {
     "name": "stderr",
     "output_type": "stream",
     "text": [
      "Training Epochs:   8%|▊         | 164/2000 [00:02<00:30, 59.39it/s]"
     ]
    },
    {
     "name": "stdout",
     "output_type": "stream",
     "text": [
      "Epoch 160/2000, Loss: 0.0000\n",
      "Test Accuracy at Epoch 160: 96.43%\n",
      "Test F1-score at Epoch 160: 0.9630\n",
      "Classification Report at Epoch 160:\n",
      "                  precision    recall  f1-score   support\n",
      "\n",
      "    infringement       0.93      1.00      0.97        14\n",
      "non_infringement       1.00      0.93      0.96        14\n",
      "\n",
      "        accuracy                           0.96        28\n",
      "       macro avg       0.97      0.96      0.96        28\n",
      "    weighted avg       0.97      0.96      0.96        28\n",
      "\n",
      "Epoch 170/2000, Loss: 0.0000\n",
      "Test Accuracy at Epoch 170: 96.43%\n",
      "Test F1-score at Epoch 170: 0.9630\n",
      "Classification Report at Epoch 170:\n",
      "                  precision    recall  f1-score   support\n",
      "\n",
      "    infringement       0.93      1.00      0.97        14\n",
      "non_infringement       1.00      0.93      0.96        14\n",
      "\n",
      "        accuracy                           0.96        28\n",
      "       macro avg       0.97      0.96      0.96        28\n",
      "    weighted avg       0.97      0.96      0.96        28\n",
      "\n"
     ]
    },
    {
     "name": "stderr",
     "output_type": "stream",
     "text": [
      "Training Epochs:  10%|▉         | 195/2000 [00:03<00:28, 64.24it/s]"
     ]
    },
    {
     "name": "stdout",
     "output_type": "stream",
     "text": [
      "Epoch 180/2000, Loss: 0.0000\n",
      "Test Accuracy at Epoch 180: 96.43%\n",
      "Test F1-score at Epoch 180: 0.9630\n",
      "Classification Report at Epoch 180:\n",
      "                  precision    recall  f1-score   support\n",
      "\n",
      "    infringement       0.93      1.00      0.97        14\n",
      "non_infringement       1.00      0.93      0.96        14\n",
      "\n",
      "        accuracy                           0.96        28\n",
      "       macro avg       0.97      0.96      0.96        28\n",
      "    weighted avg       0.97      0.96      0.96        28\n",
      "\n",
      "Epoch 190/2000, Loss: 0.0000\n",
      "Test Accuracy at Epoch 190: 96.43%\n",
      "Test F1-score at Epoch 190: 0.9630\n",
      "Classification Report at Epoch 190:\n",
      "                  precision    recall  f1-score   support\n",
      "\n",
      "    infringement       0.93      1.00      0.97        14\n",
      "non_infringement       1.00      0.93      0.96        14\n",
      "\n",
      "        accuracy                           0.96        28\n",
      "       macro avg       0.97      0.96      0.96        28\n",
      "    weighted avg       0.97      0.96      0.96        28\n",
      "\n"
     ]
    },
    {
     "name": "stderr",
     "output_type": "stream",
     "text": [
      "Training Epochs:  11%|█         | 215/2000 [00:03<00:22, 79.77it/s]"
     ]
    },
    {
     "name": "stdout",
     "output_type": "stream",
     "text": [
      "Epoch 200/2000, Loss: 0.0000\n",
      "Test Accuracy at Epoch 200: 96.43%\n",
      "Test F1-score at Epoch 200: 0.9630\n",
      "Classification Report at Epoch 200:\n",
      "                  precision    recall  f1-score   support\n",
      "\n",
      "    infringement       0.93      1.00      0.97        14\n",
      "non_infringement       1.00      0.93      0.96        14\n",
      "\n",
      "        accuracy                           0.96        28\n",
      "       macro avg       0.97      0.96      0.96        28\n",
      "    weighted avg       0.97      0.96      0.96        28\n",
      "\n",
      "Epoch 210/2000, Loss: 0.0000\n",
      "Test Accuracy at Epoch 210: 96.43%\n",
      "Test F1-score at Epoch 210: 0.9630\n",
      "Classification Report at Epoch 210:\n",
      "                  precision    recall  f1-score   support\n",
      "\n",
      "    infringement       0.93      1.00      0.97        14\n",
      "non_infringement       1.00      0.93      0.96        14\n",
      "\n",
      "        accuracy                           0.96        28\n",
      "       macro avg       0.97      0.96      0.96        28\n",
      "    weighted avg       0.97      0.96      0.96        28\n",
      "\n"
     ]
    },
    {
     "name": "stderr",
     "output_type": "stream",
     "text": [
      "Training Epochs:  12%|█▏        | 234/2000 [00:03<00:21, 83.50it/s]"
     ]
    },
    {
     "name": "stdout",
     "output_type": "stream",
     "text": [
      "Epoch 220/2000, Loss: 0.0000\n",
      "Test Accuracy at Epoch 220: 96.43%\n",
      "Test F1-score at Epoch 220: 0.9630\n",
      "Classification Report at Epoch 220:\n",
      "                  precision    recall  f1-score   support\n",
      "\n",
      "    infringement       0.93      1.00      0.97        14\n",
      "non_infringement       1.00      0.93      0.96        14\n",
      "\n",
      "        accuracy                           0.96        28\n",
      "       macro avg       0.97      0.96      0.96        28\n",
      "    weighted avg       0.97      0.96      0.96        28\n",
      "\n",
      "Epoch 230/2000, Loss: 0.0000\n",
      "Test Accuracy at Epoch 230: 96.43%\n",
      "Test F1-score at Epoch 230: 0.9630\n",
      "Classification Report at Epoch 230:\n",
      "                  precision    recall  f1-score   support\n",
      "\n",
      "    infringement       0.93      1.00      0.97        14\n",
      "non_infringement       1.00      0.93      0.96        14\n",
      "\n",
      "        accuracy                           0.96        28\n",
      "       macro avg       0.97      0.96      0.96        28\n",
      "    weighted avg       0.97      0.96      0.96        28\n",
      "\n"
     ]
    },
    {
     "name": "stderr",
     "output_type": "stream",
     "text": [
      "Training Epochs:  13%|█▎        | 256/2000 [00:03<00:18, 93.50it/s]"
     ]
    },
    {
     "name": "stdout",
     "output_type": "stream",
     "text": [
      "Epoch 240/2000, Loss: 0.0000\n",
      "Test Accuracy at Epoch 240: 96.43%\n",
      "Test F1-score at Epoch 240: 0.9630\n",
      "Classification Report at Epoch 240:\n",
      "                  precision    recall  f1-score   support\n",
      "\n",
      "    infringement       0.93      1.00      0.97        14\n",
      "non_infringement       1.00      0.93      0.96        14\n",
      "\n",
      "        accuracy                           0.96        28\n",
      "       macro avg       0.97      0.96      0.96        28\n",
      "    weighted avg       0.97      0.96      0.96        28\n",
      "\n",
      "Epoch 250/2000, Loss: 0.0000\n",
      "Test Accuracy at Epoch 250: 96.43%\n",
      "Test F1-score at Epoch 250: 0.9630\n",
      "Classification Report at Epoch 250:\n",
      "                  precision    recall  f1-score   support\n",
      "\n",
      "    infringement       0.93      1.00      0.97        14\n",
      "non_infringement       1.00      0.93      0.96        14\n",
      "\n",
      "        accuracy                           0.96        28\n",
      "       macro avg       0.97      0.96      0.96        28\n",
      "    weighted avg       0.97      0.96      0.96        28\n",
      "\n",
      "Epoch 260/2000, Loss: 0.0000\n"
     ]
    },
    {
     "name": "stderr",
     "output_type": "stream",
     "text": [
      "Training Epochs:  14%|█▍        | 277/2000 [00:04<00:18, 93.32it/s]"
     ]
    },
    {
     "name": "stdout",
     "output_type": "stream",
     "text": [
      "Test Accuracy at Epoch 260: 96.43%\n",
      "Test F1-score at Epoch 260: 0.9630\n",
      "Classification Report at Epoch 260:\n",
      "                  precision    recall  f1-score   support\n",
      "\n",
      "    infringement       0.93      1.00      0.97        14\n",
      "non_infringement       1.00      0.93      0.96        14\n",
      "\n",
      "        accuracy                           0.96        28\n",
      "       macro avg       0.97      0.96      0.96        28\n",
      "    weighted avg       0.97      0.96      0.96        28\n",
      "\n",
      "Epoch 270/2000, Loss: 0.0000\n",
      "Test Accuracy at Epoch 270: 96.43%\n",
      "Test F1-score at Epoch 270: 0.9630\n",
      "Classification Report at Epoch 270:\n",
      "                  precision    recall  f1-score   support\n",
      "\n",
      "    infringement       0.93      1.00      0.97        14\n",
      "non_infringement       1.00      0.93      0.96        14\n",
      "\n",
      "        accuracy                           0.96        28\n",
      "       macro avg       0.97      0.96      0.96        28\n",
      "    weighted avg       0.97      0.96      0.96        28\n",
      "\n"
     ]
    },
    {
     "name": "stderr",
     "output_type": "stream",
     "text": [
      "Training Epochs:  15%|█▍        | 299/2000 [00:04<00:17, 98.71it/s]"
     ]
    },
    {
     "name": "stdout",
     "output_type": "stream",
     "text": [
      "Epoch 280/2000, Loss: 0.0000\n",
      "Test Accuracy at Epoch 280: 96.43%\n",
      "Test F1-score at Epoch 280: 0.9630\n",
      "Classification Report at Epoch 280:\n",
      "                  precision    recall  f1-score   support\n",
      "\n",
      "    infringement       0.93      1.00      0.97        14\n",
      "non_infringement       1.00      0.93      0.96        14\n",
      "\n",
      "        accuracy                           0.96        28\n",
      "       macro avg       0.97      0.96      0.96        28\n",
      "    weighted avg       0.97      0.96      0.96        28\n",
      "\n",
      "Epoch 290/2000, Loss: 0.0000\n",
      "Test Accuracy at Epoch 290: 96.43%\n",
      "Test F1-score at Epoch 290: 0.9630\n",
      "Classification Report at Epoch 290:\n",
      "                  precision    recall  f1-score   support\n",
      "\n",
      "    infringement       0.93      1.00      0.97        14\n",
      "non_infringement       1.00      0.93      0.96        14\n",
      "\n",
      "        accuracy                           0.96        28\n",
      "       macro avg       0.97      0.96      0.96        28\n",
      "    weighted avg       0.97      0.96      0.96        28\n",
      "\n",
      "Epoch 300/2000, Loss: 0.0000\n",
      "Test Accuracy at Epoch 300: 96.43%\n",
      "Test F1-score at Epoch 300: 0.9630\n"
     ]
    },
    {
     "name": "stderr",
     "output_type": "stream",
     "text": [
      "Training Epochs:  16%|█▌        | 320/2000 [00:04<00:17, 98.17it/s]"
     ]
    },
    {
     "name": "stdout",
     "output_type": "stream",
     "text": [
      "Classification Report at Epoch 300:\n",
      "                  precision    recall  f1-score   support\n",
      "\n",
      "    infringement       0.93      1.00      0.97        14\n",
      "non_infringement       1.00      0.93      0.96        14\n",
      "\n",
      "        accuracy                           0.96        28\n",
      "       macro avg       0.97      0.96      0.96        28\n",
      "    weighted avg       0.97      0.96      0.96        28\n",
      "\n",
      "Epoch 310/2000, Loss: 0.0000\n",
      "Test Accuracy at Epoch 310: 96.43%\n",
      "Test F1-score at Epoch 310: 0.9630\n",
      "Classification Report at Epoch 310:\n",
      "                  precision    recall  f1-score   support\n",
      "\n",
      "    infringement       0.93      1.00      0.97        14\n",
      "non_infringement       1.00      0.93      0.96        14\n",
      "\n",
      "        accuracy                           0.96        28\n",
      "       macro avg       0.97      0.96      0.96        28\n",
      "    weighted avg       0.97      0.96      0.96        28\n",
      "\n",
      "Epoch 320/2000, Loss: 0.0000\n",
      "Test Accuracy at Epoch 320: 96.43%\n",
      "Test F1-score at Epoch 320: 0.9630\n",
      "Classification Report at Epoch 320:\n",
      "                  precision    recall  f1-score   support\n",
      "\n",
      "    infringement       0.93      1.00      0.97        14\n",
      "non_infringement       1.00      0.93      0.96        14\n",
      "\n",
      "        accuracy                           0.96        28\n",
      "       macro avg       0.97      0.96      0.96        28\n",
      "    weighted avg       0.97      0.96      0.96        28\n",
      "\n"
     ]
    },
    {
     "name": "stderr",
     "output_type": "stream",
     "text": [
      "Training Epochs:  17%|█▋        | 340/2000 [00:04<00:17, 95.26it/s]"
     ]
    },
    {
     "name": "stdout",
     "output_type": "stream",
     "text": [
      "Epoch 330/2000, Loss: 0.0000\n",
      "Test Accuracy at Epoch 330: 96.43%\n",
      "Test F1-score at Epoch 330: 0.9630\n",
      "Classification Report at Epoch 330:\n",
      "                  precision    recall  f1-score   support\n",
      "\n",
      "    infringement       0.93      1.00      0.97        14\n",
      "non_infringement       1.00      0.93      0.96        14\n",
      "\n",
      "        accuracy                           0.96        28\n",
      "       macro avg       0.97      0.96      0.96        28\n",
      "    weighted avg       0.97      0.96      0.96        28\n",
      "\n",
      "Epoch 340/2000, Loss: 0.0000\n",
      "Test Accuracy at Epoch 340: 96.43%\n",
      "Test F1-score at Epoch 340: 0.9630\n",
      "Classification Report at Epoch 340:\n",
      "                  precision    recall  f1-score   support\n",
      "\n",
      "    infringement       0.93      1.00      0.97        14\n",
      "non_infringement       1.00      0.93      0.96        14\n",
      "\n",
      "        accuracy                           0.96        28\n",
      "       macro avg       0.97      0.96      0.96        28\n",
      "    weighted avg       0.97      0.96      0.96        28\n",
      "\n",
      "Epoch 350/2000, Loss: 0.0000\n",
      "Test Accuracy at Epoch 350: 96.43%\n",
      "Test F1-score at Epoch 350: 0.9630\n"
     ]
    },
    {
     "name": "stderr",
     "output_type": "stream",
     "text": [
      "Training Epochs:  18%|█▊        | 362/2000 [00:04<00:16, 96.69it/s]"
     ]
    },
    {
     "name": "stdout",
     "output_type": "stream",
     "text": [
      "Classification Report at Epoch 350:\n",
      "                  precision    recall  f1-score   support\n",
      "\n",
      "    infringement       0.93      1.00      0.97        14\n",
      "non_infringement       1.00      0.93      0.96        14\n",
      "\n",
      "        accuracy                           0.96        28\n",
      "       macro avg       0.97      0.96      0.96        28\n",
      "    weighted avg       0.97      0.96      0.96        28\n",
      "\n",
      "Epoch 360/2000, Loss: 0.0000\n",
      "Test Accuracy at Epoch 360: 96.43%\n",
      "Test F1-score at Epoch 360: 0.9630\n",
      "Classification Report at Epoch 360:\n",
      "                  precision    recall  f1-score   support\n",
      "\n",
      "    infringement       0.93      1.00      0.97        14\n",
      "non_infringement       1.00      0.93      0.96        14\n",
      "\n",
      "        accuracy                           0.96        28\n",
      "       macro avg       0.97      0.96      0.96        28\n",
      "    weighted avg       0.97      0.96      0.96        28\n",
      "\n"
     ]
    },
    {
     "name": "stderr",
     "output_type": "stream",
     "text": [
      "Training Epochs:  19%|█▉        | 382/2000 [00:05<00:18, 87.32it/s]"
     ]
    },
    {
     "name": "stdout",
     "output_type": "stream",
     "text": [
      "Epoch 370/2000, Loss: 0.0000\n",
      "Test Accuracy at Epoch 370: 96.43%\n",
      "Test F1-score at Epoch 370: 0.9630\n",
      "Classification Report at Epoch 370:\n",
      "                  precision    recall  f1-score   support\n",
      "\n",
      "    infringement       0.93      1.00      0.97        14\n",
      "non_infringement       1.00      0.93      0.96        14\n",
      "\n",
      "        accuracy                           0.96        28\n",
      "       macro avg       0.97      0.96      0.96        28\n",
      "    weighted avg       0.97      0.96      0.96        28\n",
      "\n",
      "Epoch 380/2000, Loss: 0.0000\n",
      "Test Accuracy at Epoch 380: 96.43%\n",
      "Test F1-score at Epoch 380: 0.9630\n",
      "Classification Report at Epoch 380:\n",
      "                  precision    recall  f1-score   support\n",
      "\n",
      "    infringement       0.93      1.00      0.97        14\n",
      "non_infringement       1.00      0.93      0.96        14\n",
      "\n",
      "        accuracy                           0.96        28\n",
      "       macro avg       0.97      0.96      0.96        28\n",
      "    weighted avg       0.97      0.96      0.96        28\n",
      "\n"
     ]
    },
    {
     "name": "stderr",
     "output_type": "stream",
     "text": [
      "Training Epochs:  20%|██        | 403/2000 [00:05<00:17, 93.94it/s]"
     ]
    },
    {
     "name": "stdout",
     "output_type": "stream",
     "text": [
      "Epoch 390/2000, Loss: 0.0000\n",
      "Test Accuracy at Epoch 390: 96.43%\n",
      "Test F1-score at Epoch 390: 0.9630\n",
      "Classification Report at Epoch 390:\n",
      "                  precision    recall  f1-score   support\n",
      "\n",
      "    infringement       0.93      1.00      0.97        14\n",
      "non_infringement       1.00      0.93      0.96        14\n",
      "\n",
      "        accuracy                           0.96        28\n",
      "       macro avg       0.97      0.96      0.96        28\n",
      "    weighted avg       0.97      0.96      0.96        28\n",
      "\n",
      "Epoch 400/2000, Loss: 0.0000\n",
      "Test Accuracy at Epoch 400: 96.43%\n",
      "Test F1-score at Epoch 400: 0.9630\n",
      "Classification Report at Epoch 400:\n",
      "                  precision    recall  f1-score   support\n",
      "\n",
      "    infringement       0.93      1.00      0.97        14\n",
      "non_infringement       1.00      0.93      0.96        14\n",
      "\n",
      "        accuracy                           0.96        28\n",
      "       macro avg       0.97      0.96      0.96        28\n",
      "    weighted avg       0.97      0.96      0.96        28\n",
      "\n",
      "Epoch 410/2000, Loss: 0.0000\n"
     ]
    },
    {
     "name": "stderr",
     "output_type": "stream",
     "text": [
      "Training Epochs:  21%|██        | 424/2000 [00:05<00:16, 96.63it/s]"
     ]
    },
    {
     "name": "stdout",
     "output_type": "stream",
     "text": [
      "Test Accuracy at Epoch 410: 96.43%\n",
      "Test F1-score at Epoch 410: 0.9630\n",
      "Classification Report at Epoch 410:\n",
      "                  precision    recall  f1-score   support\n",
      "\n",
      "    infringement       0.93      1.00      0.97        14\n",
      "non_infringement       1.00      0.93      0.96        14\n",
      "\n",
      "        accuracy                           0.96        28\n",
      "       macro avg       0.97      0.96      0.96        28\n",
      "    weighted avg       0.97      0.96      0.96        28\n",
      "\n",
      "Epoch 420/2000, Loss: 0.0000\n",
      "Test Accuracy at Epoch 420: 96.43%\n",
      "Test F1-score at Epoch 420: 0.9630\n",
      "Classification Report at Epoch 420:\n",
      "                  precision    recall  f1-score   support\n",
      "\n",
      "    infringement       0.93      1.00      0.97        14\n",
      "non_infringement       1.00      0.93      0.96        14\n",
      "\n",
      "        accuracy                           0.96        28\n",
      "       macro avg       0.97      0.96      0.96        28\n",
      "    weighted avg       0.97      0.96      0.96        28\n",
      "\n",
      "Epoch 430/2000, Loss: 0.0000\n"
     ]
    },
    {
     "name": "stderr",
     "output_type": "stream",
     "text": [
      "Training Epochs:  22%|██▏       | 444/2000 [00:05<00:17, 91.03it/s]"
     ]
    },
    {
     "name": "stdout",
     "output_type": "stream",
     "text": [
      "Test Accuracy at Epoch 430: 96.43%\n",
      "Test F1-score at Epoch 430: 0.9630\n",
      "Classification Report at Epoch 430:\n",
      "                  precision    recall  f1-score   support\n",
      "\n",
      "    infringement       0.93      1.00      0.97        14\n",
      "non_infringement       1.00      0.93      0.96        14\n",
      "\n",
      "        accuracy                           0.96        28\n",
      "       macro avg       0.97      0.96      0.96        28\n",
      "    weighted avg       0.97      0.96      0.96        28\n",
      "\n",
      "Epoch 440/2000, Loss: 0.0000\n",
      "Test Accuracy at Epoch 440: 96.43%\n",
      "Test F1-score at Epoch 440: 0.9630\n",
      "Classification Report at Epoch 440:\n",
      "                  precision    recall  f1-score   support\n",
      "\n",
      "    infringement       0.93      1.00      0.97        14\n",
      "non_infringement       1.00      0.93      0.96        14\n",
      "\n",
      "        accuracy                           0.96        28\n",
      "       macro avg       0.97      0.96      0.96        28\n",
      "    weighted avg       0.97      0.96      0.96        28\n",
      "\n"
     ]
    },
    {
     "name": "stderr",
     "output_type": "stream",
     "text": [
      "Training Epochs:  23%|██▎       | 467/2000 [00:06<00:15, 100.49it/s]"
     ]
    },
    {
     "name": "stdout",
     "output_type": "stream",
     "text": [
      "Epoch 450/2000, Loss: 0.0000\n",
      "Test Accuracy at Epoch 450: 96.43%\n",
      "Test F1-score at Epoch 450: 0.9630\n",
      "Classification Report at Epoch 450:\n",
      "                  precision    recall  f1-score   support\n",
      "\n",
      "    infringement       0.93      1.00      0.97        14\n",
      "non_infringement       1.00      0.93      0.96        14\n",
      "\n",
      "        accuracy                           0.96        28\n",
      "       macro avg       0.97      0.96      0.96        28\n",
      "    weighted avg       0.97      0.96      0.96        28\n",
      "\n",
      "Epoch 460/2000, Loss: 0.0000\n",
      "Test Accuracy at Epoch 460: 96.43%\n",
      "Test F1-score at Epoch 460: 0.9630\n",
      "Classification Report at Epoch 460:\n",
      "                  precision    recall  f1-score   support\n",
      "\n",
      "    infringement       0.93      1.00      0.97        14\n",
      "non_infringement       1.00      0.93      0.96        14\n",
      "\n",
      "        accuracy                           0.96        28\n",
      "       macro avg       0.97      0.96      0.96        28\n",
      "    weighted avg       0.97      0.96      0.96        28\n",
      "\n",
      "Epoch 470/2000, Loss: 0.0000\n",
      "Test Accuracy at Epoch 470: 96.43%\n",
      "Test F1-score at Epoch 470: 0.9630\n",
      "Classification Report at Epoch 470:\n",
      "                  precision    recall  f1-score   support\n",
      "\n",
      "    infringement       0.93      1.00      0.97        14\n",
      "non_infringement       1.00      0.93      0.96        14\n",
      "\n",
      "        accuracy                           0.96        28\n",
      "       macro avg       0.97      0.96      0.96        28\n",
      "    weighted avg       0.97      0.96      0.96        28\n",
      "\n"
     ]
    },
    {
     "name": "stderr",
     "output_type": "stream",
     "text": [
      "Training Epochs:  24%|██▍       | 490/2000 [00:06<00:14, 102.49it/s]"
     ]
    },
    {
     "name": "stdout",
     "output_type": "stream",
     "text": [
      "Epoch 480/2000, Loss: 0.0000\n",
      "Test Accuracy at Epoch 480: 96.43%\n",
      "Test F1-score at Epoch 480: 0.9630\n",
      "Classification Report at Epoch 480:\n",
      "                  precision    recall  f1-score   support\n",
      "\n",
      "    infringement       0.93      1.00      0.97        14\n",
      "non_infringement       1.00      0.93      0.96        14\n",
      "\n",
      "        accuracy                           0.96        28\n",
      "       macro avg       0.97      0.96      0.96        28\n",
      "    weighted avg       0.97      0.96      0.96        28\n",
      "\n",
      "Epoch 490/2000, Loss: 0.0000\n",
      "Test Accuracy at Epoch 490: 96.43%\n",
      "Test F1-score at Epoch 490: 0.9630\n",
      "Classification Report at Epoch 490:\n",
      "                  precision    recall  f1-score   support\n",
      "\n",
      "    infringement       0.93      1.00      0.97        14\n",
      "non_infringement       1.00      0.93      0.96        14\n",
      "\n",
      "        accuracy                           0.96        28\n",
      "       macro avg       0.97      0.96      0.96        28\n",
      "    weighted avg       0.97      0.96      0.96        28\n",
      "\n",
      "Epoch 500/2000, Loss: 0.0000\n",
      "Test Accuracy at Epoch 500: 96.43%\n",
      "Test F1-score at Epoch 500: 0.9630\n",
      "Classification Report at Epoch 500:\n",
      "                  precision    recall  f1-score   support\n",
      "\n",
      "    infringement       0.93      1.00      0.97        14\n",
      "non_infringement       1.00      0.93      0.96        14\n",
      "\n",
      "        accuracy                           0.96        28\n",
      "       macro avg       0.97      0.96      0.96        28\n",
      "    weighted avg       0.97      0.96      0.96        28\n",
      "\n"
     ]
    },
    {
     "name": "stderr",
     "output_type": "stream",
     "text": [
      "Training Epochs:  26%|██▌       | 523/2000 [00:06<00:16, 90.83it/s] "
     ]
    },
    {
     "name": "stdout",
     "output_type": "stream",
     "text": [
      "Epoch 510/2000, Loss: 0.0000\n",
      "Test Accuracy at Epoch 510: 96.43%\n",
      "Test F1-score at Epoch 510: 0.9630\n",
      "Classification Report at Epoch 510:\n",
      "                  precision    recall  f1-score   support\n",
      "\n",
      "    infringement       0.93      1.00      0.97        14\n",
      "non_infringement       1.00      0.93      0.96        14\n",
      "\n",
      "        accuracy                           0.96        28\n",
      "       macro avg       0.97      0.96      0.96        28\n",
      "    weighted avg       0.97      0.96      0.96        28\n",
      "\n",
      "Epoch 520/2000, Loss: 0.0000\n",
      "Test Accuracy at Epoch 520: 96.43%\n",
      "Test F1-score at Epoch 520: 0.9630\n",
      "Classification Report at Epoch 520:\n",
      "                  precision    recall  f1-score   support\n",
      "\n",
      "    infringement       0.93      1.00      0.97        14\n",
      "non_infringement       1.00      0.93      0.96        14\n",
      "\n",
      "        accuracy                           0.96        28\n",
      "       macro avg       0.97      0.96      0.96        28\n",
      "    weighted avg       0.97      0.96      0.96        28\n",
      "\n",
      "Epoch 530/2000, Loss: 0.0000\n",
      "Test Accuracy at Epoch 530: 96.43%\n",
      "Test F1-score at Epoch 530: 0.9630\n"
     ]
    },
    {
     "name": "stderr",
     "output_type": "stream",
     "text": [
      "Training Epochs:  27%|██▋       | 534/2000 [00:06<00:15, 95.52it/s]"
     ]
    },
    {
     "name": "stdout",
     "output_type": "stream",
     "text": [
      "Classification Report at Epoch 530:\n",
      "                  precision    recall  f1-score   support\n",
      "\n",
      "    infringement       0.93      1.00      0.97        14\n",
      "non_infringement       1.00      0.93      0.96        14\n",
      "\n",
      "        accuracy                           0.96        28\n",
      "       macro avg       0.97      0.96      0.96        28\n",
      "    weighted avg       0.97      0.96      0.96        28\n",
      "\n",
      "Epoch 540/2000, Loss: 0.0000\n",
      "Test Accuracy at Epoch 540: 96.43%\n",
      "Test F1-score at Epoch 540: 0.9630\n",
      "Classification Report at Epoch 540:\n",
      "                  precision    recall  f1-score   support\n",
      "\n",
      "    infringement       0.93      1.00      0.97        14\n",
      "non_infringement       1.00      0.93      0.96        14\n",
      "\n",
      "        accuracy                           0.96        28\n",
      "       macro avg       0.97      0.96      0.96        28\n",
      "    weighted avg       0.97      0.96      0.96        28\n",
      "\n"
     ]
    },
    {
     "name": "stderr",
     "output_type": "stream",
     "text": [
      "Training Epochs:  28%|██▊       | 553/2000 [00:07<00:22, 65.66it/s]"
     ]
    },
    {
     "name": "stdout",
     "output_type": "stream",
     "text": [
      "Epoch 550/2000, Loss: 0.0000\n",
      "Test Accuracy at Epoch 550: 96.43%\n",
      "Test F1-score at Epoch 550: 0.9630\n",
      "Classification Report at Epoch 550:\n",
      "                  precision    recall  f1-score   support\n",
      "\n",
      "    infringement       0.93      1.00      0.97        14\n",
      "non_infringement       1.00      0.93      0.96        14\n",
      "\n",
      "        accuracy                           0.96        28\n",
      "       macro avg       0.97      0.96      0.96        28\n",
      "    weighted avg       0.97      0.96      0.96        28\n",
      "\n"
     ]
    },
    {
     "name": "stderr",
     "output_type": "stream",
     "text": [
      "Training Epochs:  29%|██▊       | 572/2000 [00:07<00:18, 76.66it/s]"
     ]
    },
    {
     "name": "stdout",
     "output_type": "stream",
     "text": [
      "Epoch 560/2000, Loss: 0.0000\n",
      "Test Accuracy at Epoch 560: 96.43%\n",
      "Test F1-score at Epoch 560: 0.9630\n",
      "Classification Report at Epoch 560:\n",
      "                  precision    recall  f1-score   support\n",
      "\n",
      "    infringement       0.93      1.00      0.97        14\n",
      "non_infringement       1.00      0.93      0.96        14\n",
      "\n",
      "        accuracy                           0.96        28\n",
      "       macro avg       0.97      0.96      0.96        28\n",
      "    weighted avg       0.97      0.96      0.96        28\n",
      "\n",
      "Epoch 570/2000, Loss: 0.0000\n",
      "Test Accuracy at Epoch 570: 96.43%\n",
      "Test F1-score at Epoch 570: 0.9630\n",
      "Classification Report at Epoch 570:\n",
      "                  precision    recall  f1-score   support\n",
      "\n",
      "    infringement       0.93      1.00      0.97        14\n",
      "non_infringement       1.00      0.93      0.96        14\n",
      "\n",
      "        accuracy                           0.96        28\n",
      "       macro avg       0.97      0.96      0.96        28\n",
      "    weighted avg       0.97      0.96      0.96        28\n",
      "\n"
     ]
    },
    {
     "name": "stderr",
     "output_type": "stream",
     "text": [
      "Training Epochs:  30%|██▉       | 592/2000 [00:07<00:16, 86.00it/s]"
     ]
    },
    {
     "name": "stdout",
     "output_type": "stream",
     "text": [
      "Epoch 580/2000, Loss: 0.0000\n",
      "Test Accuracy at Epoch 580: 96.43%\n",
      "Test F1-score at Epoch 580: 0.9630\n",
      "Classification Report at Epoch 580:\n",
      "                  precision    recall  f1-score   support\n",
      "\n",
      "    infringement       0.93      1.00      0.97        14\n",
      "non_infringement       1.00      0.93      0.96        14\n",
      "\n",
      "        accuracy                           0.96        28\n",
      "       macro avg       0.97      0.96      0.96        28\n",
      "    weighted avg       0.97      0.96      0.96        28\n",
      "\n",
      "Epoch 590/2000, Loss: 0.0000\n",
      "Test Accuracy at Epoch 590: 96.43%\n",
      "Test F1-score at Epoch 590: 0.9630\n",
      "Classification Report at Epoch 590:\n",
      "                  precision    recall  f1-score   support\n",
      "\n",
      "    infringement       0.93      1.00      0.97        14\n",
      "non_infringement       1.00      0.93      0.96        14\n",
      "\n",
      "        accuracy                           0.96        28\n",
      "       macro avg       0.97      0.96      0.96        28\n",
      "    weighted avg       0.97      0.96      0.96        28\n",
      "\n"
     ]
    },
    {
     "name": "stderr",
     "output_type": "stream",
     "text": [
      "Training Epochs:  31%|███       | 613/2000 [00:07<00:14, 93.59it/s]"
     ]
    },
    {
     "name": "stdout",
     "output_type": "stream",
     "text": [
      "Epoch 600/2000, Loss: 0.0000\n",
      "Test Accuracy at Epoch 600: 96.43%\n",
      "Test F1-score at Epoch 600: 0.9630\n",
      "Classification Report at Epoch 600:\n",
      "                  precision    recall  f1-score   support\n",
      "\n",
      "    infringement       0.93      1.00      0.97        14\n",
      "non_infringement       1.00      0.93      0.96        14\n",
      "\n",
      "        accuracy                           0.96        28\n",
      "       macro avg       0.97      0.96      0.96        28\n",
      "    weighted avg       0.97      0.96      0.96        28\n",
      "\n",
      "Epoch 610/2000, Loss: 0.0000\n",
      "Test Accuracy at Epoch 610: 96.43%\n",
      "Test F1-score at Epoch 610: 0.9630\n",
      "Classification Report at Epoch 610:\n",
      "                  precision    recall  f1-score   support\n",
      "\n",
      "    infringement       0.93      1.00      0.97        14\n",
      "non_infringement       1.00      0.93      0.96        14\n",
      "\n",
      "        accuracy                           0.96        28\n",
      "       macro avg       0.97      0.96      0.96        28\n",
      "    weighted avg       0.97      0.96      0.96        28\n",
      "\n",
      "Epoch 620/2000, Loss: 0.0000\n",
      "Test Accuracy at Epoch 620: 96.43%\n",
      "Test F1-score at Epoch 620: 0.9630\n"
     ]
    },
    {
     "name": "stderr",
     "output_type": "stream",
     "text": [
      "Training Epochs:  32%|███▏      | 635/2000 [00:07<00:13, 100.68it/s]"
     ]
    },
    {
     "name": "stdout",
     "output_type": "stream",
     "text": [
      "Classification Report at Epoch 620:\n",
      "                  precision    recall  f1-score   support\n",
      "\n",
      "    infringement       0.93      1.00      0.97        14\n",
      "non_infringement       1.00      0.93      0.96        14\n",
      "\n",
      "        accuracy                           0.96        28\n",
      "       macro avg       0.97      0.96      0.96        28\n",
      "    weighted avg       0.97      0.96      0.96        28\n",
      "\n",
      "Epoch 630/2000, Loss: 0.0000\n",
      "Test Accuracy at Epoch 630: 96.43%\n",
      "Test F1-score at Epoch 630: 0.9630\n",
      "Classification Report at Epoch 630:\n",
      "                  precision    recall  f1-score   support\n",
      "\n",
      "    infringement       0.93      1.00      0.97        14\n",
      "non_infringement       1.00      0.93      0.96        14\n",
      "\n",
      "        accuracy                           0.96        28\n",
      "       macro avg       0.97      0.96      0.96        28\n",
      "    weighted avg       0.97      0.96      0.96        28\n",
      "\n",
      "Epoch 640/2000, Loss: 0.0000\n",
      "Test Accuracy at Epoch 640: 96.43%\n",
      "Test F1-score at Epoch 640: 0.9630\n",
      "Classification Report at Epoch 640:\n",
      "                  precision    recall  f1-score   support\n",
      "\n",
      "    infringement       0.93      1.00      0.97        14\n",
      "non_infringement       1.00      0.93      0.96        14\n",
      "\n",
      "        accuracy                           0.96        28\n",
      "       macro avg       0.97      0.96      0.96        28\n",
      "    weighted avg       0.97      0.96      0.96        28\n",
      "\n"
     ]
    },
    {
     "name": "stderr",
     "output_type": "stream",
     "text": [
      "Training Epochs:  33%|███▎      | 668/2000 [00:08<00:13, 98.42it/s] "
     ]
    },
    {
     "name": "stdout",
     "output_type": "stream",
     "text": [
      "Epoch 650/2000, Loss: 0.0000\n",
      "Test Accuracy at Epoch 650: 96.43%\n",
      "Test F1-score at Epoch 650: 0.9630\n",
      "Classification Report at Epoch 650:\n",
      "                  precision    recall  f1-score   support\n",
      "\n",
      "    infringement       0.93      1.00      0.97        14\n",
      "non_infringement       1.00      0.93      0.96        14\n",
      "\n",
      "        accuracy                           0.96        28\n",
      "       macro avg       0.97      0.96      0.96        28\n",
      "    weighted avg       0.97      0.96      0.96        28\n",
      "\n",
      "Epoch 660/2000, Loss: 0.0000\n",
      "Test Accuracy at Epoch 660: 96.43%\n",
      "Test F1-score at Epoch 660: 0.9630\n",
      "Classification Report at Epoch 660:\n",
      "                  precision    recall  f1-score   support\n",
      "\n",
      "    infringement       0.93      1.00      0.97        14\n",
      "non_infringement       1.00      0.93      0.96        14\n",
      "\n",
      "        accuracy                           0.96        28\n",
      "       macro avg       0.97      0.96      0.96        28\n",
      "    weighted avg       0.97      0.96      0.96        28\n",
      "\n",
      "Epoch 670/2000, Loss: 0.0000\n",
      "Test Accuracy at Epoch 670: 96.43%\n",
      "Test F1-score at Epoch 670: 0.9630\n",
      "Classification Report at Epoch 670:\n",
      "                  precision    recall  f1-score   support\n",
      "\n",
      "    infringement       0.93      1.00      0.97        14\n",
      "non_infringement       1.00      0.93      0.96        14\n",
      "\n",
      "        accuracy                           0.96        28\n",
      "       macro avg       0.97      0.96      0.96        28\n",
      "    weighted avg       0.97      0.96      0.96        28\n",
      "\n"
     ]
    },
    {
     "name": "stderr",
     "output_type": "stream",
     "text": [
      "Training Epochs:  35%|███▌      | 700/2000 [00:09<00:24, 53.53it/s]"
     ]
    },
    {
     "name": "stdout",
     "output_type": "stream",
     "text": [
      "Epoch 680/2000, Loss: 0.0000\n",
      "Test Accuracy at Epoch 680: 96.43%\n",
      "Test F1-score at Epoch 680: 0.9630\n",
      "Classification Report at Epoch 680:\n",
      "                  precision    recall  f1-score   support\n",
      "\n",
      "    infringement       0.93      1.00      0.97        14\n",
      "non_infringement       1.00      0.93      0.96        14\n",
      "\n",
      "        accuracy                           0.96        28\n",
      "       macro avg       0.97      0.96      0.96        28\n",
      "    weighted avg       0.97      0.96      0.96        28\n",
      "\n",
      "Epoch 690/2000, Loss: 0.0000\n",
      "Test Accuracy at Epoch 690: 96.43%\n",
      "Test F1-score at Epoch 690: 0.9630\n",
      "Classification Report at Epoch 690:\n",
      "                  precision    recall  f1-score   support\n",
      "\n",
      "    infringement       0.93      1.00      0.97        14\n",
      "non_infringement       1.00      0.93      0.96        14\n",
      "\n",
      "        accuracy                           0.96        28\n",
      "       macro avg       0.97      0.96      0.96        28\n",
      "    weighted avg       0.97      0.96      0.96        28\n",
      "\n",
      "Epoch 700/2000, Loss: 0.0000\n",
      "Test Accuracy at Epoch 700: 96.43%\n",
      "Test F1-score at Epoch 700: 0.9630\n",
      "Classification Report at Epoch 700:\n",
      "                  precision    recall  f1-score   support\n",
      "\n",
      "    infringement       0.93      1.00      0.97        14\n",
      "non_infringement       1.00      0.93      0.96        14\n",
      "\n",
      "        accuracy                           0.96        28\n",
      "       macro avg       0.97      0.96      0.96        28\n",
      "    weighted avg       0.97      0.96      0.96        28\n",
      "\n"
     ]
    },
    {
     "name": "stderr",
     "output_type": "stream",
     "text": [
      "Training Epochs:  36%|███▌      | 721/2000 [00:09<00:19, 65.82it/s]"
     ]
    },
    {
     "name": "stdout",
     "output_type": "stream",
     "text": [
      "Epoch 710/2000, Loss: 0.0000\n",
      "Test Accuracy at Epoch 710: 96.43%\n",
      "Test F1-score at Epoch 710: 0.9630\n",
      "Classification Report at Epoch 710:\n",
      "                  precision    recall  f1-score   support\n",
      "\n",
      "    infringement       0.93      1.00      0.97        14\n",
      "non_infringement       1.00      0.93      0.96        14\n",
      "\n",
      "        accuracy                           0.96        28\n",
      "       macro avg       0.97      0.96      0.96        28\n",
      "    weighted avg       0.97      0.96      0.96        28\n",
      "\n",
      "Epoch 720/2000, Loss: 0.0000\n",
      "Test Accuracy at Epoch 720: 96.43%\n",
      "Test F1-score at Epoch 720: 0.9630\n",
      "Classification Report at Epoch 720:\n",
      "                  precision    recall  f1-score   support\n",
      "\n",
      "    infringement       0.93      1.00      0.97        14\n",
      "non_infringement       1.00      0.93      0.96        14\n",
      "\n",
      "        accuracy                           0.96        28\n",
      "       macro avg       0.97      0.96      0.96        28\n",
      "    weighted avg       0.97      0.96      0.96        28\n",
      "\n"
     ]
    },
    {
     "name": "stderr",
     "output_type": "stream",
     "text": [
      "Training Epochs:  37%|███▋      | 745/2000 [00:09<00:14, 85.37it/s]"
     ]
    },
    {
     "name": "stdout",
     "output_type": "stream",
     "text": [
      "Epoch 730/2000, Loss: 0.0000\n",
      "Test Accuracy at Epoch 730: 96.43%\n",
      "Test F1-score at Epoch 730: 0.9630\n",
      "Classification Report at Epoch 730:\n",
      "                  precision    recall  f1-score   support\n",
      "\n",
      "    infringement       0.93      1.00      0.97        14\n",
      "non_infringement       1.00      0.93      0.96        14\n",
      "\n",
      "        accuracy                           0.96        28\n",
      "       macro avg       0.97      0.96      0.96        28\n",
      "    weighted avg       0.97      0.96      0.96        28\n",
      "\n",
      "Epoch 740/2000, Loss: 0.0000\n",
      "Test Accuracy at Epoch 740: 96.43%\n",
      "Test F1-score at Epoch 740: 0.9630\n",
      "Classification Report at Epoch 740:\n",
      "                  precision    recall  f1-score   support\n",
      "\n",
      "    infringement       0.93      1.00      0.97        14\n",
      "non_infringement       1.00      0.93      0.96        14\n",
      "\n",
      "        accuracy                           0.96        28\n",
      "       macro avg       0.97      0.96      0.96        28\n",
      "    weighted avg       0.97      0.96      0.96        28\n",
      "\n",
      "Epoch 750/2000, Loss: 0.0000\n",
      "Test Accuracy at Epoch 750: 96.43%\n",
      "Test F1-score at Epoch 750: 0.9630\n",
      "Classification Report at Epoch 750:\n",
      "                  precision    recall  f1-score   support\n",
      "\n",
      "    infringement       0.93      1.00      0.97        14\n",
      "non_infringement       1.00      0.93      0.96        14\n",
      "\n",
      "        accuracy                           0.96        28\n",
      "       macro avg       0.97      0.96      0.96        28\n",
      "    weighted avg       0.97      0.96      0.96        28\n",
      "\n"
     ]
    },
    {
     "name": "stderr",
     "output_type": "stream",
     "text": [
      "Training Epochs:  39%|███▉      | 778/2000 [00:10<00:12, 95.59it/s]"
     ]
    },
    {
     "name": "stdout",
     "output_type": "stream",
     "text": [
      "Epoch 760/2000, Loss: 0.0000\n",
      "Test Accuracy at Epoch 760: 96.43%\n",
      "Test F1-score at Epoch 760: 0.9630\n",
      "Classification Report at Epoch 760:\n",
      "                  precision    recall  f1-score   support\n",
      "\n",
      "    infringement       0.93      1.00      0.97        14\n",
      "non_infringement       1.00      0.93      0.96        14\n",
      "\n",
      "        accuracy                           0.96        28\n",
      "       macro avg       0.97      0.96      0.96        28\n",
      "    weighted avg       0.97      0.96      0.96        28\n",
      "\n",
      "Epoch 770/2000, Loss: 0.0000\n",
      "Test Accuracy at Epoch 770: 96.43%\n",
      "Test F1-score at Epoch 770: 0.9630\n",
      "Classification Report at Epoch 770:\n",
      "                  precision    recall  f1-score   support\n",
      "\n",
      "    infringement       0.93      1.00      0.97        14\n",
      "non_infringement       1.00      0.93      0.96        14\n",
      "\n",
      "        accuracy                           0.96        28\n",
      "       macro avg       0.97      0.96      0.96        28\n",
      "    weighted avg       0.97      0.96      0.96        28\n",
      "\n"
     ]
    },
    {
     "name": "stderr",
     "output_type": "stream",
     "text": [
      "Training Epochs:  39%|███▉      | 789/2000 [00:10<00:12, 97.18it/s]"
     ]
    },
    {
     "name": "stdout",
     "output_type": "stream",
     "text": [
      "Epoch 780/2000, Loss: 0.0000\n",
      "Test Accuracy at Epoch 780: 96.43%\n",
      "Test F1-score at Epoch 780: 0.9630\n",
      "Classification Report at Epoch 780:\n",
      "                  precision    recall  f1-score   support\n",
      "\n",
      "    infringement       0.93      1.00      0.97        14\n",
      "non_infringement       1.00      0.93      0.96        14\n",
      "\n",
      "        accuracy                           0.96        28\n",
      "       macro avg       0.97      0.96      0.96        28\n",
      "    weighted avg       0.97      0.96      0.96        28\n",
      "\n",
      "Epoch 790/2000, Loss: 0.0000\n",
      "Test Accuracy at Epoch 790: 96.43%\n",
      "Test F1-score at Epoch 790: 0.9630\n",
      "Classification Report at Epoch 790:\n",
      "                  precision    recall  f1-score   support\n",
      "\n",
      "    infringement       0.93      1.00      0.97        14\n",
      "non_infringement       1.00      0.93      0.96        14\n",
      "\n",
      "        accuracy                           0.96        28\n",
      "       macro avg       0.97      0.96      0.96        28\n",
      "    weighted avg       0.97      0.96      0.96        28\n",
      "\n",
      "Epoch 800/2000, Loss: 0.0000\n"
     ]
    },
    {
     "name": "stderr",
     "output_type": "stream",
     "text": [
      "Training Epochs:  40%|████      | 810/2000 [00:10<00:13, 86.26it/s]"
     ]
    },
    {
     "name": "stdout",
     "output_type": "stream",
     "text": [
      "Test Accuracy at Epoch 800: 96.43%\n",
      "Test F1-score at Epoch 800: 0.9630\n",
      "Classification Report at Epoch 800:\n",
      "                  precision    recall  f1-score   support\n",
      "\n",
      "    infringement       0.93      1.00      0.97        14\n",
      "non_infringement       1.00      0.93      0.96        14\n",
      "\n",
      "        accuracy                           0.96        28\n",
      "       macro avg       0.97      0.96      0.96        28\n",
      "    weighted avg       0.97      0.96      0.96        28\n",
      "\n",
      "Epoch 810/2000, Loss: 0.0000\n",
      "Test Accuracy at Epoch 810: 96.43%\n",
      "Test F1-score at Epoch 810: 0.9630\n",
      "Classification Report at Epoch 810:\n",
      "                  precision    recall  f1-score   support\n",
      "\n",
      "    infringement       0.93      1.00      0.97        14\n",
      "non_infringement       1.00      0.93      0.96        14\n",
      "\n",
      "        accuracy                           0.96        28\n",
      "       macro avg       0.97      0.96      0.96        28\n",
      "    weighted avg       0.97      0.96      0.96        28\n",
      "\n"
     ]
    },
    {
     "name": "stderr",
     "output_type": "stream",
     "text": [
      "Training Epochs:  42%|████▏     | 831/2000 [00:10<00:13, 88.77it/s]"
     ]
    },
    {
     "name": "stdout",
     "output_type": "stream",
     "text": [
      "Epoch 820/2000, Loss: 0.0000\n",
      "Test Accuracy at Epoch 820: 96.43%\n",
      "Test F1-score at Epoch 820: 0.9630\n",
      "Classification Report at Epoch 820:\n",
      "                  precision    recall  f1-score   support\n",
      "\n",
      "    infringement       0.93      1.00      0.97        14\n",
      "non_infringement       1.00      0.93      0.96        14\n",
      "\n",
      "        accuracy                           0.96        28\n",
      "       macro avg       0.97      0.96      0.96        28\n",
      "    weighted avg       0.97      0.96      0.96        28\n",
      "\n",
      "Epoch 830/2000, Loss: 0.0000\n",
      "Test Accuracy at Epoch 830: 96.43%\n",
      "Test F1-score at Epoch 830: 0.9630\n",
      "Classification Report at Epoch 830:\n",
      "                  precision    recall  f1-score   support\n",
      "\n",
      "    infringement       0.93      1.00      0.97        14\n",
      "non_infringement       1.00      0.93      0.96        14\n",
      "\n",
      "        accuracy                           0.96        28\n",
      "       macro avg       0.97      0.96      0.96        28\n",
      "    weighted avg       0.97      0.96      0.96        28\n",
      "\n"
     ]
    },
    {
     "name": "stderr",
     "output_type": "stream",
     "text": [
      "Training Epochs:  43%|████▎     | 851/2000 [00:10<00:12, 92.54it/s]"
     ]
    },
    {
     "name": "stdout",
     "output_type": "stream",
     "text": [
      "Epoch 840/2000, Loss: 0.0000\n",
      "Test Accuracy at Epoch 840: 96.43%\n",
      "Test F1-score at Epoch 840: 0.9630\n",
      "Classification Report at Epoch 840:\n",
      "                  precision    recall  f1-score   support\n",
      "\n",
      "    infringement       0.93      1.00      0.97        14\n",
      "non_infringement       1.00      0.93      0.96        14\n",
      "\n",
      "        accuracy                           0.96        28\n",
      "       macro avg       0.97      0.96      0.96        28\n",
      "    weighted avg       0.97      0.96      0.96        28\n",
      "\n",
      "Epoch 850/2000, Loss: 0.0000\n",
      "Test Accuracy at Epoch 850: 96.43%\n",
      "Test F1-score at Epoch 850: 0.9630\n",
      "Classification Report at Epoch 850:\n",
      "                  precision    recall  f1-score   support\n",
      "\n",
      "    infringement       0.93      1.00      0.97        14\n",
      "non_infringement       1.00      0.93      0.96        14\n",
      "\n",
      "        accuracy                           0.96        28\n",
      "       macro avg       0.97      0.96      0.96        28\n",
      "    weighted avg       0.97      0.96      0.96        28\n",
      "\n"
     ]
    },
    {
     "name": "stderr",
     "output_type": "stream",
     "text": [
      "Training Epochs:  44%|████▎     | 871/2000 [00:11<00:12, 94.03it/s]"
     ]
    },
    {
     "name": "stdout",
     "output_type": "stream",
     "text": [
      "Epoch 860/2000, Loss: 0.0000\n",
      "Test Accuracy at Epoch 860: 96.43%\n",
      "Test F1-score at Epoch 860: 0.9630\n",
      "Classification Report at Epoch 860:\n",
      "                  precision    recall  f1-score   support\n",
      "\n",
      "    infringement       0.93      1.00      0.97        14\n",
      "non_infringement       1.00      0.93      0.96        14\n",
      "\n",
      "        accuracy                           0.96        28\n",
      "       macro avg       0.97      0.96      0.96        28\n",
      "    weighted avg       0.97      0.96      0.96        28\n",
      "\n",
      "Epoch 870/2000, Loss: 0.0000\n",
      "Test Accuracy at Epoch 870: 96.43%\n",
      "Test F1-score at Epoch 870: 0.9630\n",
      "Classification Report at Epoch 870:\n",
      "                  precision    recall  f1-score   support\n",
      "\n",
      "    infringement       0.93      1.00      0.97        14\n",
      "non_infringement       1.00      0.93      0.96        14\n",
      "\n",
      "        accuracy                           0.96        28\n",
      "       macro avg       0.97      0.96      0.96        28\n",
      "    weighted avg       0.97      0.96      0.96        28\n",
      "\n"
     ]
    },
    {
     "name": "stderr",
     "output_type": "stream",
     "text": [
      "Training Epochs:  45%|████▍     | 891/2000 [00:11<00:11, 94.26it/s]"
     ]
    },
    {
     "name": "stdout",
     "output_type": "stream",
     "text": [
      "Epoch 880/2000, Loss: 0.0000\n",
      "Test Accuracy at Epoch 880: 96.43%\n",
      "Test F1-score at Epoch 880: 0.9630\n",
      "Classification Report at Epoch 880:\n",
      "                  precision    recall  f1-score   support\n",
      "\n",
      "    infringement       0.93      1.00      0.97        14\n",
      "non_infringement       1.00      0.93      0.96        14\n",
      "\n",
      "        accuracy                           0.96        28\n",
      "       macro avg       0.97      0.96      0.96        28\n",
      "    weighted avg       0.97      0.96      0.96        28\n",
      "\n",
      "Epoch 890/2000, Loss: 0.0000\n",
      "Test Accuracy at Epoch 890: 96.43%\n",
      "Test F1-score at Epoch 890: 0.9630\n",
      "Classification Report at Epoch 890:\n",
      "                  precision    recall  f1-score   support\n",
      "\n",
      "    infringement       0.93      1.00      0.97        14\n",
      "non_infringement       1.00      0.93      0.96        14\n",
      "\n",
      "        accuracy                           0.96        28\n",
      "       macro avg       0.97      0.96      0.96        28\n",
      "    weighted avg       0.97      0.96      0.96        28\n",
      "\n"
     ]
    },
    {
     "name": "stderr",
     "output_type": "stream",
     "text": [
      "Training Epochs:  46%|████▌     | 910/2000 [00:11<00:12, 84.09it/s]"
     ]
    },
    {
     "name": "stdout",
     "output_type": "stream",
     "text": [
      "Epoch 900/2000, Loss: 0.0000\n",
      "Test Accuracy at Epoch 900: 96.43%\n",
      "Test F1-score at Epoch 900: 0.9630\n",
      "Classification Report at Epoch 900:\n",
      "                  precision    recall  f1-score   support\n",
      "\n",
      "    infringement       0.93      1.00      0.97        14\n",
      "non_infringement       1.00      0.93      0.96        14\n",
      "\n",
      "        accuracy                           0.96        28\n",
      "       macro avg       0.97      0.96      0.96        28\n",
      "    weighted avg       0.97      0.96      0.96        28\n",
      "\n",
      "Epoch 910/2000, Loss: 0.0000\n",
      "Test Accuracy at Epoch 910: 96.43%\n",
      "Test F1-score at Epoch 910: 0.9630\n",
      "Classification Report at Epoch 910:\n",
      "                  precision    recall  f1-score   support\n",
      "\n",
      "    infringement       0.93      1.00      0.97        14\n",
      "non_infringement       1.00      0.93      0.96        14\n",
      "\n",
      "        accuracy                           0.96        28\n",
      "       macro avg       0.97      0.96      0.96        28\n",
      "    weighted avg       0.97      0.96      0.96        28\n",
      "\n"
     ]
    },
    {
     "name": "stderr",
     "output_type": "stream",
     "text": [
      "Training Epochs:  47%|████▋     | 931/2000 [00:11<00:11, 90.39it/s]"
     ]
    },
    {
     "name": "stdout",
     "output_type": "stream",
     "text": [
      "Epoch 920/2000, Loss: 0.0000\n",
      "Test Accuracy at Epoch 920: 96.43%\n",
      "Test F1-score at Epoch 920: 0.9630\n",
      "Classification Report at Epoch 920:\n",
      "                  precision    recall  f1-score   support\n",
      "\n",
      "    infringement       0.93      1.00      0.97        14\n",
      "non_infringement       1.00      0.93      0.96        14\n",
      "\n",
      "        accuracy                           0.96        28\n",
      "       macro avg       0.97      0.96      0.96        28\n",
      "    weighted avg       0.97      0.96      0.96        28\n",
      "\n",
      "Epoch 930/2000, Loss: 0.0000\n",
      "Test Accuracy at Epoch 930: 96.43%\n",
      "Test F1-score at Epoch 930: 0.9630\n",
      "Classification Report at Epoch 930:\n",
      "                  precision    recall  f1-score   support\n",
      "\n",
      "    infringement       0.93      1.00      0.97        14\n",
      "non_infringement       1.00      0.93      0.96        14\n",
      "\n",
      "        accuracy                           0.96        28\n",
      "       macro avg       0.97      0.96      0.96        28\n",
      "    weighted avg       0.97      0.96      0.96        28\n",
      "\n"
     ]
    },
    {
     "name": "stderr",
     "output_type": "stream",
     "text": [
      "Training Epochs:  48%|████▊     | 951/2000 [00:11<00:11, 93.14it/s]"
     ]
    },
    {
     "name": "stdout",
     "output_type": "stream",
     "text": [
      "Epoch 940/2000, Loss: 0.0000\n",
      "Test Accuracy at Epoch 940: 96.43%\n",
      "Test F1-score at Epoch 940: 0.9630\n",
      "Classification Report at Epoch 940:\n",
      "                  precision    recall  f1-score   support\n",
      "\n",
      "    infringement       0.93      1.00      0.97        14\n",
      "non_infringement       1.00      0.93      0.96        14\n",
      "\n",
      "        accuracy                           0.96        28\n",
      "       macro avg       0.97      0.96      0.96        28\n",
      "    weighted avg       0.97      0.96      0.96        28\n",
      "\n",
      "Epoch 950/2000, Loss: 0.0000\n",
      "Test Accuracy at Epoch 950: 96.43%\n",
      "Test F1-score at Epoch 950: 0.9630\n",
      "Classification Report at Epoch 950:\n",
      "                  precision    recall  f1-score   support\n",
      "\n",
      "    infringement       0.93      1.00      0.97        14\n",
      "non_infringement       1.00      0.93      0.96        14\n",
      "\n",
      "        accuracy                           0.96        28\n",
      "       macro avg       0.97      0.96      0.96        28\n",
      "    weighted avg       0.97      0.96      0.96        28\n",
      "\n"
     ]
    },
    {
     "name": "stderr",
     "output_type": "stream",
     "text": [
      "Training Epochs:  49%|████▊     | 971/2000 [00:12<00:11, 90.00it/s]"
     ]
    },
    {
     "name": "stdout",
     "output_type": "stream",
     "text": [
      "Epoch 960/2000, Loss: 0.0000\n",
      "Test Accuracy at Epoch 960: 96.43%\n",
      "Test F1-score at Epoch 960: 0.9630\n",
      "Classification Report at Epoch 960:\n",
      "                  precision    recall  f1-score   support\n",
      "\n",
      "    infringement       0.93      1.00      0.97        14\n",
      "non_infringement       1.00      0.93      0.96        14\n",
      "\n",
      "        accuracy                           0.96        28\n",
      "       macro avg       0.97      0.96      0.96        28\n",
      "    weighted avg       0.97      0.96      0.96        28\n",
      "\n",
      "Epoch 970/2000, Loss: 0.0000\n",
      "Test Accuracy at Epoch 970: 96.43%\n",
      "Test F1-score at Epoch 970: 0.9630\n",
      "Classification Report at Epoch 970:\n",
      "                  precision    recall  f1-score   support\n",
      "\n",
      "    infringement       0.93      1.00      0.97        14\n",
      "non_infringement       1.00      0.93      0.96        14\n",
      "\n",
      "        accuracy                           0.96        28\n",
      "       macro avg       0.97      0.96      0.96        28\n",
      "    weighted avg       0.97      0.96      0.96        28\n",
      "\n"
     ]
    },
    {
     "name": "stderr",
     "output_type": "stream",
     "text": [
      "Training Epochs:  50%|████▉     | 992/2000 [00:12<00:10, 94.82it/s]"
     ]
    },
    {
     "name": "stdout",
     "output_type": "stream",
     "text": [
      "Epoch 980/2000, Loss: 0.0000\n",
      "Test Accuracy at Epoch 980: 96.43%\n",
      "Test F1-score at Epoch 980: 0.9630\n",
      "Classification Report at Epoch 980:\n",
      "                  precision    recall  f1-score   support\n",
      "\n",
      "    infringement       0.93      1.00      0.97        14\n",
      "non_infringement       1.00      0.93      0.96        14\n",
      "\n",
      "        accuracy                           0.96        28\n",
      "       macro avg       0.97      0.96      0.96        28\n",
      "    weighted avg       0.97      0.96      0.96        28\n",
      "\n",
      "Epoch 990/2000, Loss: 0.0000\n",
      "Test Accuracy at Epoch 990: 96.43%\n",
      "Test F1-score at Epoch 990: 0.9630\n",
      "Classification Report at Epoch 990:\n",
      "                  precision    recall  f1-score   support\n",
      "\n",
      "    infringement       0.93      1.00      0.97        14\n",
      "non_infringement       1.00      0.93      0.96        14\n",
      "\n",
      "        accuracy                           0.96        28\n",
      "       macro avg       0.97      0.96      0.96        28\n",
      "    weighted avg       0.97      0.96      0.96        28\n",
      "\n",
      "Epoch 1000/2000, Loss: 0.0000\n",
      "Test Accuracy at Epoch 1000: 96.43%\n",
      "Test F1-score at Epoch 1000: 0.9630\n",
      "Classification Report at Epoch 1000:\n",
      "                  precision    recall  f1-score   support\n",
      "\n",
      "    infringement       0.93      1.00      0.97        14\n",
      "non_infringement       1.00      0.93      0.96        14\n",
      "\n",
      "        accuracy                           0.96        28\n",
      "       macro avg       0.97      0.96      0.96        28\n",
      "    weighted avg       0.97      0.96      0.96        28\n",
      "\n"
     ]
    },
    {
     "name": "stderr",
     "output_type": "stream",
     "text": [
      "Training Epochs:  51%|█████     | 1024/2000 [00:12<00:09, 100.54it/s]"
     ]
    },
    {
     "name": "stdout",
     "output_type": "stream",
     "text": [
      "Epoch 1010/2000, Loss: 0.0000\n",
      "Test Accuracy at Epoch 1010: 96.43%\n",
      "Test F1-score at Epoch 1010: 0.9630\n",
      "Classification Report at Epoch 1010:\n",
      "                  precision    recall  f1-score   support\n",
      "\n",
      "    infringement       0.93      1.00      0.97        14\n",
      "non_infringement       1.00      0.93      0.96        14\n",
      "\n",
      "        accuracy                           0.96        28\n",
      "       macro avg       0.97      0.96      0.96        28\n",
      "    weighted avg       0.97      0.96      0.96        28\n",
      "\n",
      "Epoch 1020/2000, Loss: 0.0000\n",
      "Test Accuracy at Epoch 1020: 96.43%\n",
      "Test F1-score at Epoch 1020: 0.9630\n",
      "Classification Report at Epoch 1020:\n",
      "                  precision    recall  f1-score   support\n",
      "\n",
      "    infringement       0.93      1.00      0.97        14\n",
      "non_infringement       1.00      0.93      0.96        14\n",
      "\n",
      "        accuracy                           0.96        28\n",
      "       macro avg       0.97      0.96      0.96        28\n",
      "    weighted avg       0.97      0.96      0.96        28\n",
      "\n",
      "Epoch 1030/2000, Loss: 0.0000\n"
     ]
    },
    {
     "name": "stderr",
     "output_type": "stream",
     "text": [
      "Training Epochs:  52%|█████▏    | 1046/2000 [00:12<00:09, 103.59it/s]"
     ]
    },
    {
     "name": "stdout",
     "output_type": "stream",
     "text": [
      "Test Accuracy at Epoch 1030: 96.43%\n",
      "Test F1-score at Epoch 1030: 0.9630\n",
      "Classification Report at Epoch 1030:\n",
      "                  precision    recall  f1-score   support\n",
      "\n",
      "    infringement       0.93      1.00      0.97        14\n",
      "non_infringement       1.00      0.93      0.96        14\n",
      "\n",
      "        accuracy                           0.96        28\n",
      "       macro avg       0.97      0.96      0.96        28\n",
      "    weighted avg       0.97      0.96      0.96        28\n",
      "\n",
      "Epoch 1040/2000, Loss: 0.0000\n",
      "Test Accuracy at Epoch 1040: 96.43%\n",
      "Test F1-score at Epoch 1040: 0.9630\n",
      "Classification Report at Epoch 1040:\n",
      "                  precision    recall  f1-score   support\n",
      "\n",
      "    infringement       0.93      1.00      0.97        14\n",
      "non_infringement       1.00      0.93      0.96        14\n",
      "\n",
      "        accuracy                           0.96        28\n",
      "       macro avg       0.97      0.96      0.96        28\n",
      "    weighted avg       0.97      0.96      0.96        28\n",
      "\n",
      "Epoch 1050/2000, Loss: 0.0000\n",
      "Test Accuracy at Epoch 1050: 96.43%\n",
      "Test F1-score at Epoch 1050: 0.9630\n",
      "Classification Report at Epoch 1050:\n",
      "                  precision    recall  f1-score   support\n",
      "\n",
      "    infringement       0.93      1.00      0.97        14\n",
      "non_infringement       1.00      0.93      0.96        14\n",
      "\n",
      "        accuracy                           0.96        28\n",
      "       macro avg       0.97      0.96      0.96        28\n",
      "    weighted avg       0.97      0.96      0.96        28\n",
      "\n"
     ]
    },
    {
     "name": "stderr",
     "output_type": "stream",
     "text": [
      "Training Epochs:  54%|█████▍    | 1079/2000 [00:13<00:08, 102.86it/s]"
     ]
    },
    {
     "name": "stdout",
     "output_type": "stream",
     "text": [
      "Epoch 1060/2000, Loss: 0.0000\n",
      "Test Accuracy at Epoch 1060: 96.43%\n",
      "Test F1-score at Epoch 1060: 0.9630\n",
      "Classification Report at Epoch 1060:\n",
      "                  precision    recall  f1-score   support\n",
      "\n",
      "    infringement       0.93      1.00      0.97        14\n",
      "non_infringement       1.00      0.93      0.96        14\n",
      "\n",
      "        accuracy                           0.96        28\n",
      "       macro avg       0.97      0.96      0.96        28\n",
      "    weighted avg       0.97      0.96      0.96        28\n",
      "\n",
      "Epoch 1070/2000, Loss: 0.0000\n",
      "Test Accuracy at Epoch 1070: 96.43%\n",
      "Test F1-score at Epoch 1070: 0.9630\n",
      "Classification Report at Epoch 1070:\n",
      "                  precision    recall  f1-score   support\n",
      "\n",
      "    infringement       0.93      1.00      0.97        14\n",
      "non_infringement       1.00      0.93      0.96        14\n",
      "\n",
      "        accuracy                           0.96        28\n",
      "       macro avg       0.97      0.96      0.96        28\n",
      "    weighted avg       0.97      0.96      0.96        28\n",
      "\n",
      "Epoch 1080/2000, Loss: 0.0000\n"
     ]
    },
    {
     "name": "stderr",
     "output_type": "stream",
     "text": [
      "Training Epochs:  55%|█████▍    | 1090/2000 [00:13<00:08, 101.28it/s]"
     ]
    },
    {
     "name": "stdout",
     "output_type": "stream",
     "text": [
      "Test Accuracy at Epoch 1080: 96.43%\n",
      "Test F1-score at Epoch 1080: 0.9630\n",
      "Classification Report at Epoch 1080:\n",
      "                  precision    recall  f1-score   support\n",
      "\n",
      "    infringement       0.93      1.00      0.97        14\n",
      "non_infringement       1.00      0.93      0.96        14\n",
      "\n",
      "        accuracy                           0.96        28\n",
      "       macro avg       0.97      0.96      0.96        28\n",
      "    weighted avg       0.97      0.96      0.96        28\n",
      "\n",
      "Epoch 1090/2000, Loss: 0.0000\n",
      "Test Accuracy at Epoch 1090: 96.43%\n",
      "Test F1-score at Epoch 1090: 0.9630\n",
      "Classification Report at Epoch 1090:\n",
      "                  precision    recall  f1-score   support\n",
      "\n",
      "    infringement       0.93      1.00      0.97        14\n",
      "non_infringement       1.00      0.93      0.96        14\n",
      "\n",
      "        accuracy                           0.96        28\n",
      "       macro avg       0.97      0.96      0.96        28\n",
      "    weighted avg       0.97      0.96      0.96        28\n",
      "\n",
      "Epoch 1100/2000, Loss: 0.0000\n",
      "Test Accuracy at Epoch 1100: 96.43%\n",
      "Test F1-score at Epoch 1100: 0.9630\n",
      "Classification Report at Epoch 1100:\n",
      "                  precision    recall  f1-score   support\n",
      "\n",
      "    infringement       0.93      1.00      0.97        14\n",
      "non_infringement       1.00      0.93      0.96        14\n",
      "\n",
      "        accuracy                           0.96        28\n",
      "       macro avg       0.97      0.96      0.96        28\n",
      "    weighted avg       0.97      0.96      0.96        28\n",
      "\n"
     ]
    },
    {
     "name": "stderr",
     "output_type": "stream",
     "text": [
      "Training Epochs:  56%|█████▌    | 1124/2000 [00:13<00:09, 96.50it/s] "
     ]
    },
    {
     "name": "stdout",
     "output_type": "stream",
     "text": [
      "Epoch 1110/2000, Loss: 0.0000\n",
      "Test Accuracy at Epoch 1110: 96.43%\n",
      "Test F1-score at Epoch 1110: 0.9630\n",
      "Classification Report at Epoch 1110:\n",
      "                  precision    recall  f1-score   support\n",
      "\n",
      "    infringement       0.93      1.00      0.97        14\n",
      "non_infringement       1.00      0.93      0.96        14\n",
      "\n",
      "        accuracy                           0.96        28\n",
      "       macro avg       0.97      0.96      0.96        28\n",
      "    weighted avg       0.97      0.96      0.96        28\n",
      "\n",
      "Epoch 1120/2000, Loss: 0.0000\n",
      "Test Accuracy at Epoch 1120: 96.43%\n",
      "Test F1-score at Epoch 1120: 0.9630\n",
      "Classification Report at Epoch 1120:\n",
      "                  precision    recall  f1-score   support\n",
      "\n",
      "    infringement       0.93      1.00      0.97        14\n",
      "non_infringement       1.00      0.93      0.96        14\n",
      "\n",
      "        accuracy                           0.96        28\n",
      "       macro avg       0.97      0.96      0.96        28\n",
      "    weighted avg       0.97      0.96      0.96        28\n",
      "\n"
     ]
    },
    {
     "name": "stderr",
     "output_type": "stream",
     "text": [
      "Training Epochs:  57%|█████▋    | 1145/2000 [00:13<00:08, 95.16it/s]"
     ]
    },
    {
     "name": "stdout",
     "output_type": "stream",
     "text": [
      "Epoch 1130/2000, Loss: 0.0000\n",
      "Test Accuracy at Epoch 1130: 96.43%\n",
      "Test F1-score at Epoch 1130: 0.9630\n",
      "Classification Report at Epoch 1130:\n",
      "                  precision    recall  f1-score   support\n",
      "\n",
      "    infringement       0.93      1.00      0.97        14\n",
      "non_infringement       1.00      0.93      0.96        14\n",
      "\n",
      "        accuracy                           0.96        28\n",
      "       macro avg       0.97      0.96      0.96        28\n",
      "    weighted avg       0.97      0.96      0.96        28\n",
      "\n",
      "Epoch 1140/2000, Loss: 0.0000\n",
      "Test Accuracy at Epoch 1140: 96.43%\n",
      "Test F1-score at Epoch 1140: 0.9630\n",
      "Classification Report at Epoch 1140:\n",
      "                  precision    recall  f1-score   support\n",
      "\n",
      "    infringement       0.93      1.00      0.97        14\n",
      "non_infringement       1.00      0.93      0.96        14\n",
      "\n",
      "        accuracy                           0.96        28\n",
      "       macro avg       0.97      0.96      0.96        28\n",
      "    weighted avg       0.97      0.96      0.96        28\n",
      "\n"
     ]
    },
    {
     "name": "stderr",
     "output_type": "stream",
     "text": [
      "Training Epochs:  58%|█████▊    | 1165/2000 [00:14<00:08, 97.08it/s]"
     ]
    },
    {
     "name": "stdout",
     "output_type": "stream",
     "text": [
      "Epoch 1150/2000, Loss: 0.0000\n",
      "Test Accuracy at Epoch 1150: 96.43%\n",
      "Test F1-score at Epoch 1150: 0.9630\n",
      "Classification Report at Epoch 1150:\n",
      "                  precision    recall  f1-score   support\n",
      "\n",
      "    infringement       0.93      1.00      0.97        14\n",
      "non_infringement       1.00      0.93      0.96        14\n",
      "\n",
      "        accuracy                           0.96        28\n",
      "       macro avg       0.97      0.96      0.96        28\n",
      "    weighted avg       0.97      0.96      0.96        28\n",
      "\n",
      "Epoch 1160/2000, Loss: 0.0000\n",
      "Test Accuracy at Epoch 1160: 96.43%\n",
      "Test F1-score at Epoch 1160: 0.9630\n",
      "Classification Report at Epoch 1160:\n",
      "                  precision    recall  f1-score   support\n",
      "\n",
      "    infringement       0.93      1.00      0.97        14\n",
      "non_infringement       1.00      0.93      0.96        14\n",
      "\n",
      "        accuracy                           0.96        28\n",
      "       macro avg       0.97      0.96      0.96        28\n",
      "    weighted avg       0.97      0.96      0.96        28\n",
      "\n"
     ]
    },
    {
     "name": "stderr",
     "output_type": "stream",
     "text": [
      "Training Epochs:  59%|█████▉    | 1187/2000 [00:14<00:07, 101.99it/s]"
     ]
    },
    {
     "name": "stdout",
     "output_type": "stream",
     "text": [
      "Epoch 1170/2000, Loss: 0.0000\n",
      "Test Accuracy at Epoch 1170: 96.43%\n",
      "Test F1-score at Epoch 1170: 0.9630\n",
      "Classification Report at Epoch 1170:\n",
      "                  precision    recall  f1-score   support\n",
      "\n",
      "    infringement       0.93      1.00      0.97        14\n",
      "non_infringement       1.00      0.93      0.96        14\n",
      "\n",
      "        accuracy                           0.96        28\n",
      "       macro avg       0.97      0.96      0.96        28\n",
      "    weighted avg       0.97      0.96      0.96        28\n",
      "\n",
      "Epoch 1180/2000, Loss: 0.0000\n",
      "Test Accuracy at Epoch 1180: 96.43%\n",
      "Test F1-score at Epoch 1180: 0.9630\n",
      "Classification Report at Epoch 1180:\n",
      "                  precision    recall  f1-score   support\n",
      "\n",
      "    infringement       0.93      1.00      0.97        14\n",
      "non_infringement       1.00      0.93      0.96        14\n",
      "\n",
      "        accuracy                           0.96        28\n",
      "       macro avg       0.97      0.96      0.96        28\n",
      "    weighted avg       0.97      0.96      0.96        28\n",
      "\n",
      "Epoch 1190/2000, Loss: 0.0000\n",
      "Test Accuracy at Epoch 1190: 96.43%\n",
      "Test F1-score at Epoch 1190: 0.9630\n",
      "Classification Report at Epoch 1190:\n",
      "                  precision    recall  f1-score   support\n",
      "\n",
      "    infringement       0.93      1.00      0.97        14\n",
      "non_infringement       1.00      0.93      0.96        14\n",
      "\n",
      "        accuracy                           0.96        28\n",
      "       macro avg       0.97      0.96      0.96        28\n",
      "    weighted avg       0.97      0.96      0.96        28\n",
      "\n"
     ]
    },
    {
     "name": "stderr",
     "output_type": "stream",
     "text": [
      "Training Epochs:  61%|██████    | 1220/2000 [00:14<00:07, 100.54it/s]"
     ]
    },
    {
     "name": "stdout",
     "output_type": "stream",
     "text": [
      "Epoch 1200/2000, Loss: 0.0000\n",
      "Test Accuracy at Epoch 1200: 96.43%\n",
      "Test F1-score at Epoch 1200: 0.9630\n",
      "Classification Report at Epoch 1200:\n",
      "                  precision    recall  f1-score   support\n",
      "\n",
      "    infringement       0.93      1.00      0.97        14\n",
      "non_infringement       1.00      0.93      0.96        14\n",
      "\n",
      "        accuracy                           0.96        28\n",
      "       macro avg       0.97      0.96      0.96        28\n",
      "    weighted avg       0.97      0.96      0.96        28\n",
      "\n",
      "Epoch 1210/2000, Loss: 0.0000\n",
      "Test Accuracy at Epoch 1210: 96.43%\n",
      "Test F1-score at Epoch 1210: 0.9630\n",
      "Classification Report at Epoch 1210:\n",
      "                  precision    recall  f1-score   support\n",
      "\n",
      "    infringement       0.93      1.00      0.97        14\n",
      "non_infringement       1.00      0.93      0.96        14\n",
      "\n",
      "        accuracy                           0.96        28\n",
      "       macro avg       0.97      0.96      0.96        28\n",
      "    weighted avg       0.97      0.96      0.96        28\n",
      "\n",
      "Epoch 1220/2000, Loss: 0.0000\n",
      "Test Accuracy at Epoch 1220: 96.43%\n",
      "Test F1-score at Epoch 1220: 0.9630\n",
      "Classification Report at Epoch 1220:\n",
      "                  precision    recall  f1-score   support\n",
      "\n",
      "    infringement       0.93      1.00      0.97        14\n",
      "non_infringement       1.00      0.93      0.96        14\n",
      "\n",
      "        accuracy                           0.96        28\n",
      "       macro avg       0.97      0.96      0.96        28\n",
      "    weighted avg       0.97      0.96      0.96        28\n",
      "\n"
     ]
    },
    {
     "name": "stderr",
     "output_type": "stream",
     "text": [
      "Training Epochs:  62%|██████▏   | 1242/2000 [00:14<00:07, 103.00it/s]"
     ]
    },
    {
     "name": "stdout",
     "output_type": "stream",
     "text": [
      "Epoch 1230/2000, Loss: 0.0000\n",
      "Test Accuracy at Epoch 1230: 96.43%\n",
      "Test F1-score at Epoch 1230: 0.9630\n",
      "Classification Report at Epoch 1230:\n",
      "                  precision    recall  f1-score   support\n",
      "\n",
      "    infringement       0.93      1.00      0.97        14\n",
      "non_infringement       1.00      0.93      0.96        14\n",
      "\n",
      "        accuracy                           0.96        28\n",
      "       macro avg       0.97      0.96      0.96        28\n",
      "    weighted avg       0.97      0.96      0.96        28\n",
      "\n",
      "Epoch 1240/2000, Loss: 0.0000\n",
      "Test Accuracy at Epoch 1240: 96.43%\n",
      "Test F1-score at Epoch 1240: 0.9630\n",
      "Classification Report at Epoch 1240:\n",
      "                  precision    recall  f1-score   support\n",
      "\n",
      "    infringement       0.93      1.00      0.97        14\n",
      "non_infringement       1.00      0.93      0.96        14\n",
      "\n",
      "        accuracy                           0.96        28\n",
      "       macro avg       0.97      0.96      0.96        28\n",
      "    weighted avg       0.97      0.96      0.96        28\n",
      "\n",
      "Epoch 1250/2000, Loss: 0.0000\n",
      "Test Accuracy at Epoch 1250: 96.43%\n",
      "Test F1-score at Epoch 1250: 0.9630\n"
     ]
    },
    {
     "name": "stderr",
     "output_type": "stream",
     "text": [
      "Training Epochs:  63%|██████▎   | 1264/2000 [00:15<00:07, 97.83it/s] "
     ]
    },
    {
     "name": "stdout",
     "output_type": "stream",
     "text": [
      "Classification Report at Epoch 1250:\n",
      "                  precision    recall  f1-score   support\n",
      "\n",
      "    infringement       0.93      1.00      0.97        14\n",
      "non_infringement       1.00      0.93      0.96        14\n",
      "\n",
      "        accuracy                           0.96        28\n",
      "       macro avg       0.97      0.96      0.96        28\n",
      "    weighted avg       0.97      0.96      0.96        28\n",
      "\n",
      "Epoch 1260/2000, Loss: 0.0000\n",
      "Test Accuracy at Epoch 1260: 96.43%\n",
      "Test F1-score at Epoch 1260: 0.9630\n",
      "Classification Report at Epoch 1260:\n",
      "                  precision    recall  f1-score   support\n",
      "\n",
      "    infringement       0.93      1.00      0.97        14\n",
      "non_infringement       1.00      0.93      0.96        14\n",
      "\n",
      "        accuracy                           0.96        28\n",
      "       macro avg       0.97      0.96      0.96        28\n",
      "    weighted avg       0.97      0.96      0.96        28\n",
      "\n"
     ]
    },
    {
     "name": "stderr",
     "output_type": "stream",
     "text": [
      "Training Epochs:  64%|██████▍   | 1284/2000 [00:15<00:07, 97.83it/s]"
     ]
    },
    {
     "name": "stdout",
     "output_type": "stream",
     "text": [
      "Epoch 1270/2000, Loss: 0.0000\n",
      "Test Accuracy at Epoch 1270: 96.43%\n",
      "Test F1-score at Epoch 1270: 0.9630\n",
      "Classification Report at Epoch 1270:\n",
      "                  precision    recall  f1-score   support\n",
      "\n",
      "    infringement       0.93      1.00      0.97        14\n",
      "non_infringement       1.00      0.93      0.96        14\n",
      "\n",
      "        accuracy                           0.96        28\n",
      "       macro avg       0.97      0.96      0.96        28\n",
      "    weighted avg       0.97      0.96      0.96        28\n",
      "\n",
      "Epoch 1280/2000, Loss: 0.0000\n",
      "Test Accuracy at Epoch 1280: 96.43%\n",
      "Test F1-score at Epoch 1280: 0.9630\n",
      "Classification Report at Epoch 1280:\n",
      "                  precision    recall  f1-score   support\n",
      "\n",
      "    infringement       0.93      1.00      0.97        14\n",
      "non_infringement       1.00      0.93      0.96        14\n",
      "\n",
      "        accuracy                           0.96        28\n",
      "       macro avg       0.97      0.96      0.96        28\n",
      "    weighted avg       0.97      0.96      0.96        28\n",
      "\n"
     ]
    },
    {
     "name": "stderr",
     "output_type": "stream",
     "text": [
      "Training Epochs:  65%|██████▌   | 1304/2000 [00:15<00:07, 97.81it/s]"
     ]
    },
    {
     "name": "stdout",
     "output_type": "stream",
     "text": [
      "Epoch 1290/2000, Loss: 0.0000\n",
      "Test Accuracy at Epoch 1290: 96.43%\n",
      "Test F1-score at Epoch 1290: 0.9630\n",
      "Classification Report at Epoch 1290:\n",
      "                  precision    recall  f1-score   support\n",
      "\n",
      "    infringement       0.93      1.00      0.97        14\n",
      "non_infringement       1.00      0.93      0.96        14\n",
      "\n",
      "        accuracy                           0.96        28\n",
      "       macro avg       0.97      0.96      0.96        28\n",
      "    weighted avg       0.97      0.96      0.96        28\n",
      "\n",
      "Epoch 1300/2000, Loss: 0.0000\n",
      "Test Accuracy at Epoch 1300: 96.43%\n",
      "Test F1-score at Epoch 1300: 0.9630\n",
      "Classification Report at Epoch 1300:\n",
      "                  precision    recall  f1-score   support\n",
      "\n",
      "    infringement       0.93      1.00      0.97        14\n",
      "non_infringement       1.00      0.93      0.96        14\n",
      "\n",
      "        accuracy                           0.96        28\n",
      "       macro avg       0.97      0.96      0.96        28\n",
      "    weighted avg       0.97      0.96      0.96        28\n",
      "\n",
      "Epoch 1310/2000, Loss: 0.0000\n"
     ]
    },
    {
     "name": "stderr",
     "output_type": "stream",
     "text": [
      "Training Epochs:  66%|██████▋   | 1325/2000 [00:15<00:06, 98.63it/s]"
     ]
    },
    {
     "name": "stdout",
     "output_type": "stream",
     "text": [
      "Test Accuracy at Epoch 1310: 96.43%\n",
      "Test F1-score at Epoch 1310: 0.9630\n",
      "Classification Report at Epoch 1310:\n",
      "                  precision    recall  f1-score   support\n",
      "\n",
      "    infringement       0.93      1.00      0.97        14\n",
      "non_infringement       1.00      0.93      0.96        14\n",
      "\n",
      "        accuracy                           0.96        28\n",
      "       macro avg       0.97      0.96      0.96        28\n",
      "    weighted avg       0.97      0.96      0.96        28\n",
      "\n",
      "Epoch 1320/2000, Loss: 0.0000\n",
      "Test Accuracy at Epoch 1320: 96.43%\n",
      "Test F1-score at Epoch 1320: 0.9630\n",
      "Classification Report at Epoch 1320:\n",
      "                  precision    recall  f1-score   support\n",
      "\n",
      "    infringement       0.93      1.00      0.97        14\n",
      "non_infringement       1.00      0.93      0.96        14\n",
      "\n",
      "        accuracy                           0.96        28\n",
      "       macro avg       0.97      0.96      0.96        28\n",
      "    weighted avg       0.97      0.96      0.96        28\n",
      "\n",
      "Epoch 1330/2000, Loss: 0.0000\n"
     ]
    },
    {
     "name": "stderr",
     "output_type": "stream",
     "text": [
      "Training Epochs:  67%|██████▋   | 1345/2000 [00:15<00:06, 97.27it/s]"
     ]
    },
    {
     "name": "stdout",
     "output_type": "stream",
     "text": [
      "Test Accuracy at Epoch 1330: 96.43%\n",
      "Test F1-score at Epoch 1330: 0.9630\n",
      "Classification Report at Epoch 1330:\n",
      "                  precision    recall  f1-score   support\n",
      "\n",
      "    infringement       0.93      1.00      0.97        14\n",
      "non_infringement       1.00      0.93      0.96        14\n",
      "\n",
      "        accuracy                           0.96        28\n",
      "       macro avg       0.97      0.96      0.96        28\n",
      "    weighted avg       0.97      0.96      0.96        28\n",
      "\n",
      "Epoch 1340/2000, Loss: 0.0000\n",
      "Test Accuracy at Epoch 1340: 96.43%\n",
      "Test F1-score at Epoch 1340: 0.9630\n",
      "Classification Report at Epoch 1340:\n",
      "                  precision    recall  f1-score   support\n",
      "\n",
      "    infringement       0.93      1.00      0.97        14\n",
      "non_infringement       1.00      0.93      0.96        14\n",
      "\n",
      "        accuracy                           0.96        28\n",
      "       macro avg       0.97      0.96      0.96        28\n",
      "    weighted avg       0.97      0.96      0.96        28\n",
      "\n",
      "Epoch 1350/2000, Loss: 0.0000\n"
     ]
    },
    {
     "name": "stderr",
     "output_type": "stream",
     "text": [
      "Training Epochs:  68%|██████▊   | 1367/2000 [00:16<00:06, 99.43it/s]"
     ]
    },
    {
     "name": "stdout",
     "output_type": "stream",
     "text": [
      "Test Accuracy at Epoch 1350: 96.43%\n",
      "Test F1-score at Epoch 1350: 0.9630\n",
      "Classification Report at Epoch 1350:\n",
      "                  precision    recall  f1-score   support\n",
      "\n",
      "    infringement       0.93      1.00      0.97        14\n",
      "non_infringement       1.00      0.93      0.96        14\n",
      "\n",
      "        accuracy                           0.96        28\n",
      "       macro avg       0.97      0.96      0.96        28\n",
      "    weighted avg       0.97      0.96      0.96        28\n",
      "\n",
      "Epoch 1360/2000, Loss: 0.0000\n",
      "Test Accuracy at Epoch 1360: 96.43%\n",
      "Test F1-score at Epoch 1360: 0.9630\n",
      "Classification Report at Epoch 1360:\n",
      "                  precision    recall  f1-score   support\n",
      "\n",
      "    infringement       0.93      1.00      0.97        14\n",
      "non_infringement       1.00      0.93      0.96        14\n",
      "\n",
      "        accuracy                           0.96        28\n",
      "       macro avg       0.97      0.96      0.96        28\n",
      "    weighted avg       0.97      0.96      0.96        28\n",
      "\n",
      "Epoch 1370/2000, Loss: 0.0000\n",
      "Test Accuracy at Epoch 1370: 96.43%\n",
      "Test F1-score at Epoch 1370: 0.9630\n"
     ]
    },
    {
     "name": "stderr",
     "output_type": "stream",
     "text": [
      "Training Epochs:  69%|██████▉   | 1387/2000 [00:16<00:06, 96.98it/s]"
     ]
    },
    {
     "name": "stdout",
     "output_type": "stream",
     "text": [
      "Classification Report at Epoch 1370:\n",
      "                  precision    recall  f1-score   support\n",
      "\n",
      "    infringement       0.93      1.00      0.97        14\n",
      "non_infringement       1.00      0.93      0.96        14\n",
      "\n",
      "        accuracy                           0.96        28\n",
      "       macro avg       0.97      0.96      0.96        28\n",
      "    weighted avg       0.97      0.96      0.96        28\n",
      "\n",
      "Epoch 1380/2000, Loss: 0.0000\n",
      "Test Accuracy at Epoch 1380: 96.43%\n",
      "Test F1-score at Epoch 1380: 0.9630\n",
      "Classification Report at Epoch 1380:\n",
      "                  precision    recall  f1-score   support\n",
      "\n",
      "    infringement       0.93      1.00      0.97        14\n",
      "non_infringement       1.00      0.93      0.96        14\n",
      "\n",
      "        accuracy                           0.96        28\n",
      "       macro avg       0.97      0.96      0.96        28\n",
      "    weighted avg       0.97      0.96      0.96        28\n",
      "\n"
     ]
    },
    {
     "name": "stderr",
     "output_type": "stream",
     "text": [
      "Training Epochs:  70%|██████▉   | 1397/2000 [00:16<00:08, 67.68it/s]"
     ]
    },
    {
     "name": "stdout",
     "output_type": "stream",
     "text": [
      "Epoch 1390/2000, Loss: 0.0000\n",
      "Test Accuracy at Epoch 1390: 96.43%\n",
      "Test F1-score at Epoch 1390: 0.9630\n",
      "Classification Report at Epoch 1390:\n",
      "                  precision    recall  f1-score   support\n",
      "\n",
      "    infringement       0.93      1.00      0.97        14\n",
      "non_infringement       1.00      0.93      0.96        14\n",
      "\n",
      "        accuracy                           0.96        28\n",
      "       macro avg       0.97      0.96      0.96        28\n",
      "    weighted avg       0.97      0.96      0.96        28\n",
      "\n",
      "Epoch 1400/2000, Loss: 0.0000\n",
      "Test Accuracy at Epoch 1400: 96.43%\n",
      "Test F1-score at Epoch 1400: 0.9630\n",
      "Classification Report at Epoch 1400:\n",
      "                  precision    recall  f1-score   support\n",
      "\n",
      "    infringement       0.93      1.00      0.97        14\n",
      "non_infringement       1.00      0.93      0.96        14\n",
      "\n",
      "        accuracy                           0.96        28\n",
      "       macro avg       0.97      0.96      0.96        28\n",
      "    weighted avg       0.97      0.96      0.96        28\n",
      "\n"
     ]
    },
    {
     "name": "stderr",
     "output_type": "stream",
     "text": [
      "Training Epochs:  71%|███████   | 1421/2000 [00:17<00:09, 58.48it/s]"
     ]
    },
    {
     "name": "stdout",
     "output_type": "stream",
     "text": [
      "Epoch 1410/2000, Loss: 0.0000\n",
      "Test Accuracy at Epoch 1410: 96.43%\n",
      "Test F1-score at Epoch 1410: 0.9630\n",
      "Classification Report at Epoch 1410:\n",
      "                  precision    recall  f1-score   support\n",
      "\n",
      "    infringement       0.93      1.00      0.97        14\n",
      "non_infringement       1.00      0.93      0.96        14\n",
      "\n",
      "        accuracy                           0.96        28\n",
      "       macro avg       0.97      0.96      0.96        28\n",
      "    weighted avg       0.97      0.96      0.96        28\n",
      "\n",
      "Epoch 1420/2000, Loss: 0.0000\n",
      "Test Accuracy at Epoch 1420: 96.43%\n",
      "Test F1-score at Epoch 1420: 0.9630\n",
      "Classification Report at Epoch 1420:\n",
      "                  precision    recall  f1-score   support\n",
      "\n",
      "    infringement       0.93      1.00      0.97        14\n",
      "non_infringement       1.00      0.93      0.96        14\n",
      "\n",
      "        accuracy                           0.96        28\n",
      "       macro avg       0.97      0.96      0.96        28\n",
      "    weighted avg       0.97      0.96      0.96        28\n",
      "\n"
     ]
    },
    {
     "name": "stderr",
     "output_type": "stream",
     "text": [
      "Training Epochs:  72%|███████▏  | 1442/2000 [00:17<00:07, 76.75it/s]"
     ]
    },
    {
     "name": "stdout",
     "output_type": "stream",
     "text": [
      "Epoch 1430/2000, Loss: 0.0000\n",
      "Test Accuracy at Epoch 1430: 96.43%\n",
      "Test F1-score at Epoch 1430: 0.9630\n",
      "Classification Report at Epoch 1430:\n",
      "                  precision    recall  f1-score   support\n",
      "\n",
      "    infringement       0.93      1.00      0.97        14\n",
      "non_infringement       1.00      0.93      0.96        14\n",
      "\n",
      "        accuracy                           0.96        28\n",
      "       macro avg       0.97      0.96      0.96        28\n",
      "    weighted avg       0.97      0.96      0.96        28\n",
      "\n",
      "Epoch 1440/2000, Loss: 0.0000\n",
      "Test Accuracy at Epoch 1440: 96.43%\n",
      "Test F1-score at Epoch 1440: 0.9630\n",
      "Classification Report at Epoch 1440:\n",
      "                  precision    recall  f1-score   support\n",
      "\n",
      "    infringement       0.93      1.00      0.97        14\n",
      "non_infringement       1.00      0.93      0.96        14\n",
      "\n",
      "        accuracy                           0.96        28\n",
      "       macro avg       0.97      0.96      0.96        28\n",
      "    weighted avg       0.97      0.96      0.96        28\n",
      "\n",
      "Epoch 1450/2000, Loss: 0.0000\n",
      "Test Accuracy at Epoch 1450: 96.43%\n",
      "Test F1-score at Epoch 1450: 0.9630\n"
     ]
    },
    {
     "name": "stderr",
     "output_type": "stream",
     "text": [
      "Training Epochs:  73%|███████▎  | 1464/2000 [00:17<00:05, 90.14it/s]"
     ]
    },
    {
     "name": "stdout",
     "output_type": "stream",
     "text": [
      "Classification Report at Epoch 1450:\n",
      "                  precision    recall  f1-score   support\n",
      "\n",
      "    infringement       0.93      1.00      0.97        14\n",
      "non_infringement       1.00      0.93      0.96        14\n",
      "\n",
      "        accuracy                           0.96        28\n",
      "       macro avg       0.97      0.96      0.96        28\n",
      "    weighted avg       0.97      0.96      0.96        28\n",
      "\n",
      "Epoch 1460/2000, Loss: 0.0000\n",
      "Test Accuracy at Epoch 1460: 96.43%\n",
      "Test F1-score at Epoch 1460: 0.9630\n",
      "Classification Report at Epoch 1460:\n",
      "                  precision    recall  f1-score   support\n",
      "\n",
      "    infringement       0.93      1.00      0.97        14\n",
      "non_infringement       1.00      0.93      0.96        14\n",
      "\n",
      "        accuracy                           0.96        28\n",
      "       macro avg       0.97      0.96      0.96        28\n",
      "    weighted avg       0.97      0.96      0.96        28\n",
      "\n",
      "Epoch 1470/2000, Loss: 0.0000\n",
      "Test Accuracy at Epoch 1470: 96.43%\n",
      "Test F1-score at Epoch 1470: 0.9630\n",
      "Classification Report at Epoch 1470:\n",
      "                  precision    recall  f1-score   support\n",
      "\n",
      "    infringement       0.93      1.00      0.97        14\n",
      "non_infringement       1.00      0.93      0.96        14\n",
      "\n",
      "        accuracy                           0.96        28\n",
      "       macro avg       0.97      0.96      0.96        28\n",
      "    weighted avg       0.97      0.96      0.96        28\n",
      "\n"
     ]
    },
    {
     "name": "stderr",
     "output_type": "stream",
     "text": [
      "Training Epochs:  75%|███████▍  | 1495/2000 [00:17<00:05, 90.24it/s]"
     ]
    },
    {
     "name": "stdout",
     "output_type": "stream",
     "text": [
      "Epoch 1480/2000, Loss: 0.0000\n",
      "Test Accuracy at Epoch 1480: 96.43%\n",
      "Test F1-score at Epoch 1480: 0.9630\n",
      "Classification Report at Epoch 1480:\n",
      "                  precision    recall  f1-score   support\n",
      "\n",
      "    infringement       0.93      1.00      0.97        14\n",
      "non_infringement       1.00      0.93      0.96        14\n",
      "\n",
      "        accuracy                           0.96        28\n",
      "       macro avg       0.97      0.96      0.96        28\n",
      "    weighted avg       0.97      0.96      0.96        28\n",
      "\n",
      "Epoch 1490/2000, Loss: 0.0000\n",
      "Test Accuracy at Epoch 1490: 96.43%\n",
      "Test F1-score at Epoch 1490: 0.9630\n",
      "Classification Report at Epoch 1490:\n",
      "                  precision    recall  f1-score   support\n",
      "\n",
      "    infringement       0.93      1.00      0.97        14\n",
      "non_infringement       1.00      0.93      0.96        14\n",
      "\n",
      "        accuracy                           0.96        28\n",
      "       macro avg       0.97      0.96      0.96        28\n",
      "    weighted avg       0.97      0.96      0.96        28\n",
      "\n"
     ]
    },
    {
     "name": "stderr",
     "output_type": "stream",
     "text": [
      "Training Epochs:  76%|███████▌  | 1515/2000 [00:18<00:05, 92.09it/s]"
     ]
    },
    {
     "name": "stdout",
     "output_type": "stream",
     "text": [
      "Epoch 1500/2000, Loss: 0.0000\n",
      "Test Accuracy at Epoch 1500: 96.43%\n",
      "Test F1-score at Epoch 1500: 0.9630\n",
      "Classification Report at Epoch 1500:\n",
      "                  precision    recall  f1-score   support\n",
      "\n",
      "    infringement       0.93      1.00      0.97        14\n",
      "non_infringement       1.00      0.93      0.96        14\n",
      "\n",
      "        accuracy                           0.96        28\n",
      "       macro avg       0.97      0.96      0.96        28\n",
      "    weighted avg       0.97      0.96      0.96        28\n",
      "\n",
      "Epoch 1510/2000, Loss: 0.0000\n",
      "Test Accuracy at Epoch 1510: 96.43%\n",
      "Test F1-score at Epoch 1510: 0.9630\n",
      "Classification Report at Epoch 1510:\n",
      "                  precision    recall  f1-score   support\n",
      "\n",
      "    infringement       0.93      1.00      0.97        14\n",
      "non_infringement       1.00      0.93      0.96        14\n",
      "\n",
      "        accuracy                           0.96        28\n",
      "       macro avg       0.97      0.96      0.96        28\n",
      "    weighted avg       0.97      0.96      0.96        28\n",
      "\n"
     ]
    },
    {
     "name": "stderr",
     "output_type": "stream",
     "text": [
      "Training Epochs:  77%|███████▋  | 1537/2000 [00:18<00:04, 99.08it/s]"
     ]
    },
    {
     "name": "stdout",
     "output_type": "stream",
     "text": [
      "Epoch 1520/2000, Loss: 0.0000\n",
      "Test Accuracy at Epoch 1520: 96.43%\n",
      "Test F1-score at Epoch 1520: 0.9630\n",
      "Classification Report at Epoch 1520:\n",
      "                  precision    recall  f1-score   support\n",
      "\n",
      "    infringement       0.93      1.00      0.97        14\n",
      "non_infringement       1.00      0.93      0.96        14\n",
      "\n",
      "        accuracy                           0.96        28\n",
      "       macro avg       0.97      0.96      0.96        28\n",
      "    weighted avg       0.97      0.96      0.96        28\n",
      "\n",
      "Epoch 1530/2000, Loss: 0.0000\n",
      "Test Accuracy at Epoch 1530: 96.43%\n",
      "Test F1-score at Epoch 1530: 0.9630\n",
      "Classification Report at Epoch 1530:\n",
      "                  precision    recall  f1-score   support\n",
      "\n",
      "    infringement       0.93      1.00      0.97        14\n",
      "non_infringement       1.00      0.93      0.96        14\n",
      "\n",
      "        accuracy                           0.96        28\n",
      "       macro avg       0.97      0.96      0.96        28\n",
      "    weighted avg       0.97      0.96      0.96        28\n",
      "\n",
      "Epoch 1540/2000, Loss: 0.0000\n",
      "Test Accuracy at Epoch 1540: 96.43%\n",
      "Test F1-score at Epoch 1540: 0.9630\n",
      "Classification Report at Epoch 1540:\n",
      "                  precision    recall  f1-score   support\n",
      "\n",
      "    infringement       0.93      1.00      0.97        14\n",
      "non_infringement       1.00      0.93      0.96        14\n",
      "\n",
      "        accuracy                           0.96        28\n",
      "       macro avg       0.97      0.96      0.96        28\n",
      "    weighted avg       0.97      0.96      0.96        28\n",
      "\n"
     ]
    },
    {
     "name": "stderr",
     "output_type": "stream",
     "text": [
      "Training Epochs:  78%|███████▊  | 1559/2000 [00:18<00:04, 103.47it/s]"
     ]
    },
    {
     "name": "stdout",
     "output_type": "stream",
     "text": [
      "Epoch 1550/2000, Loss: 0.0000\n",
      "Test Accuracy at Epoch 1550: 96.43%\n",
      "Test F1-score at Epoch 1550: 0.9630\n",
      "Classification Report at Epoch 1550:\n",
      "                  precision    recall  f1-score   support\n",
      "\n",
      "    infringement       0.93      1.00      0.97        14\n",
      "non_infringement       1.00      0.93      0.96        14\n",
      "\n",
      "        accuracy                           0.96        28\n",
      "       macro avg       0.97      0.96      0.96        28\n",
      "    weighted avg       0.97      0.96      0.96        28\n",
      "\n",
      "Epoch 1560/2000, Loss: 0.0000\n",
      "Test Accuracy at Epoch 1560: 96.43%\n",
      "Test F1-score at Epoch 1560: 0.9630\n",
      "Classification Report at Epoch 1560:\n",
      "                  precision    recall  f1-score   support\n",
      "\n",
      "    infringement       0.93      1.00      0.97        14\n",
      "non_infringement       1.00      0.93      0.96        14\n",
      "\n",
      "        accuracy                           0.96        28\n",
      "       macro avg       0.97      0.96      0.96        28\n",
      "    weighted avg       0.97      0.96      0.96        28\n",
      "\n",
      "Epoch 1570/2000, Loss: 0.0000\n",
      "Test Accuracy at Epoch 1570: 96.43%\n",
      "Test F1-score at Epoch 1570: 0.9630\n"
     ]
    },
    {
     "name": "stderr",
     "output_type": "stream",
     "text": [
      "Training Epochs:  78%|███████▊  | 1570/2000 [00:18<00:04, 100.30it/s]"
     ]
    },
    {
     "name": "stdout",
     "output_type": "stream",
     "text": [
      "Classification Report at Epoch 1570:\n",
      "                  precision    recall  f1-score   support\n",
      "\n",
      "    infringement       0.93      1.00      0.97        14\n",
      "non_infringement       1.00      0.93      0.96        14\n",
      "\n",
      "        accuracy                           0.96        28\n",
      "       macro avg       0.97      0.96      0.96        28\n",
      "    weighted avg       0.97      0.96      0.96        28\n",
      "\n",
      "Epoch 1580/2000, Loss: 0.0000\n",
      "Test Accuracy at Epoch 1580: 96.43%\n",
      "Test F1-score at Epoch 1580: 0.9630\n",
      "Classification Report at Epoch 1580:\n",
      "                  precision    recall  f1-score   support\n",
      "\n",
      "    infringement       0.93      1.00      0.97        14\n",
      "non_infringement       1.00      0.93      0.96        14\n",
      "\n",
      "        accuracy                           0.96        28\n",
      "       macro avg       0.97      0.96      0.96        28\n",
      "    weighted avg       0.97      0.96      0.96        28\n",
      "\n"
     ]
    },
    {
     "name": "stderr",
     "output_type": "stream",
     "text": [
      "Training Epochs:  80%|███████▉  | 1591/2000 [00:18<00:05, 75.78it/s] "
     ]
    },
    {
     "name": "stdout",
     "output_type": "stream",
     "text": [
      "Epoch 1590/2000, Loss: 0.0000\n",
      "Test Accuracy at Epoch 1590: 96.43%\n",
      "Test F1-score at Epoch 1590: 0.9630\n",
      "Classification Report at Epoch 1590:\n",
      "                  precision    recall  f1-score   support\n",
      "\n",
      "    infringement       0.93      1.00      0.97        14\n",
      "non_infringement       1.00      0.93      0.96        14\n",
      "\n",
      "        accuracy                           0.96        28\n",
      "       macro avg       0.97      0.96      0.96        28\n",
      "    weighted avg       0.97      0.96      0.96        28\n",
      "\n"
     ]
    },
    {
     "name": "stderr",
     "output_type": "stream",
     "text": [
      "Training Epochs:  80%|████████  | 1610/2000 [00:19<00:05, 74.44it/s]"
     ]
    },
    {
     "name": "stdout",
     "output_type": "stream",
     "text": [
      "Epoch 1600/2000, Loss: 0.0000\n",
      "Test Accuracy at Epoch 1600: 96.43%\n",
      "Test F1-score at Epoch 1600: 0.9630\n",
      "Classification Report at Epoch 1600:\n",
      "                  precision    recall  f1-score   support\n",
      "\n",
      "    infringement       0.93      1.00      0.97        14\n",
      "non_infringement       1.00      0.93      0.96        14\n",
      "\n",
      "        accuracy                           0.96        28\n",
      "       macro avg       0.97      0.96      0.96        28\n",
      "    weighted avg       0.97      0.96      0.96        28\n",
      "\n",
      "Epoch 1610/2000, Loss: 0.0000\n",
      "Test Accuracy at Epoch 1610: 96.43%\n",
      "Test F1-score at Epoch 1610: 0.9630\n",
      "Classification Report at Epoch 1610:\n",
      "                  precision    recall  f1-score   support\n",
      "\n",
      "    infringement       0.93      1.00      0.97        14\n",
      "non_infringement       1.00      0.93      0.96        14\n",
      "\n",
      "        accuracy                           0.96        28\n",
      "       macro avg       0.97      0.96      0.96        28\n",
      "    weighted avg       0.97      0.96      0.96        28\n",
      "\n"
     ]
    },
    {
     "name": "stderr",
     "output_type": "stream",
     "text": [
      "Training Epochs:  82%|████████▏ | 1630/2000 [00:19<00:04, 81.27it/s]"
     ]
    },
    {
     "name": "stdout",
     "output_type": "stream",
     "text": [
      "Epoch 1620/2000, Loss: 0.0000\n",
      "Test Accuracy at Epoch 1620: 96.43%\n",
      "Test F1-score at Epoch 1620: 0.9630\n",
      "Classification Report at Epoch 1620:\n",
      "                  precision    recall  f1-score   support\n",
      "\n",
      "    infringement       0.93      1.00      0.97        14\n",
      "non_infringement       1.00      0.93      0.96        14\n",
      "\n",
      "        accuracy                           0.96        28\n",
      "       macro avg       0.97      0.96      0.96        28\n",
      "    weighted avg       0.97      0.96      0.96        28\n",
      "\n",
      "Epoch 1630/2000, Loss: 0.0000\n",
      "Test Accuracy at Epoch 1630: 96.43%\n",
      "Test F1-score at Epoch 1630: 0.9630\n",
      "Classification Report at Epoch 1630:\n",
      "                  precision    recall  f1-score   support\n",
      "\n",
      "    infringement       0.93      1.00      0.97        14\n",
      "non_infringement       1.00      0.93      0.96        14\n",
      "\n",
      "        accuracy                           0.96        28\n",
      "       macro avg       0.97      0.96      0.96        28\n",
      "    weighted avg       0.97      0.96      0.96        28\n",
      "\n",
      "Epoch 1640/2000, Loss: 0.0000\n",
      "Test Accuracy at Epoch 1640: 96.43%\n",
      "Test F1-score at Epoch 1640: 0.9630\n",
      "Classification Report at Epoch 1640:\n",
      "                  precision    recall  f1-score   support\n",
      "\n",
      "    infringement       0.93      1.00      0.97        14\n",
      "non_infringement       1.00      0.93      0.96        14\n",
      "\n",
      "        accuracy                           0.96        28\n",
      "       macro avg       0.97      0.96      0.96        28\n",
      "    weighted avg       0.97      0.96      0.96        28\n",
      "\n"
     ]
    },
    {
     "name": "stderr",
     "output_type": "stream",
     "text": [
      "Training Epochs:  83%|████████▎ | 1663/2000 [00:19<00:03, 94.86it/s]"
     ]
    },
    {
     "name": "stdout",
     "output_type": "stream",
     "text": [
      "Epoch 1650/2000, Loss: 0.0000\n",
      "Test Accuracy at Epoch 1650: 96.43%\n",
      "Test F1-score at Epoch 1650: 0.9630\n",
      "Classification Report at Epoch 1650:\n",
      "                  precision    recall  f1-score   support\n",
      "\n",
      "    infringement       0.93      1.00      0.97        14\n",
      "non_infringement       1.00      0.93      0.96        14\n",
      "\n",
      "        accuracy                           0.96        28\n",
      "       macro avg       0.97      0.96      0.96        28\n",
      "    weighted avg       0.97      0.96      0.96        28\n",
      "\n",
      "Epoch 1660/2000, Loss: 0.0000\n",
      "Test Accuracy at Epoch 1660: 96.43%\n",
      "Test F1-score at Epoch 1660: 0.9630\n",
      "Classification Report at Epoch 1660:\n",
      "                  precision    recall  f1-score   support\n",
      "\n",
      "    infringement       0.93      1.00      0.97        14\n",
      "non_infringement       1.00      0.93      0.96        14\n",
      "\n",
      "        accuracy                           0.96        28\n",
      "       macro avg       0.97      0.96      0.96        28\n",
      "    weighted avg       0.97      0.96      0.96        28\n",
      "\n"
     ]
    },
    {
     "name": "stderr",
     "output_type": "stream",
     "text": [
      "Training Epochs:  84%|████████▍ | 1684/2000 [00:20<00:03, 94.57it/s]"
     ]
    },
    {
     "name": "stdout",
     "output_type": "stream",
     "text": [
      "Epoch 1670/2000, Loss: 0.0000\n",
      "Test Accuracy at Epoch 1670: 96.43%\n",
      "Test F1-score at Epoch 1670: 0.9630\n",
      "Classification Report at Epoch 1670:\n",
      "                  precision    recall  f1-score   support\n",
      "\n",
      "    infringement       0.93      1.00      0.97        14\n",
      "non_infringement       1.00      0.93      0.96        14\n",
      "\n",
      "        accuracy                           0.96        28\n",
      "       macro avg       0.97      0.96      0.96        28\n",
      "    weighted avg       0.97      0.96      0.96        28\n",
      "\n",
      "Epoch 1680/2000, Loss: 0.0000\n",
      "Test Accuracy at Epoch 1680: 96.43%\n",
      "Test F1-score at Epoch 1680: 0.9630\n",
      "Classification Report at Epoch 1680:\n",
      "                  precision    recall  f1-score   support\n",
      "\n",
      "    infringement       0.93      1.00      0.97        14\n",
      "non_infringement       1.00      0.93      0.96        14\n",
      "\n",
      "        accuracy                           0.96        28\n",
      "       macro avg       0.97      0.96      0.96        28\n",
      "    weighted avg       0.97      0.96      0.96        28\n",
      "\n"
     ]
    },
    {
     "name": "stderr",
     "output_type": "stream",
     "text": [
      "Training Epochs:  85%|████████▌ | 1706/2000 [00:20<00:02, 101.23it/s]"
     ]
    },
    {
     "name": "stdout",
     "output_type": "stream",
     "text": [
      "Epoch 1690/2000, Loss: 0.0000\n",
      "Test Accuracy at Epoch 1690: 96.43%\n",
      "Test F1-score at Epoch 1690: 0.9630\n",
      "Classification Report at Epoch 1690:\n",
      "                  precision    recall  f1-score   support\n",
      "\n",
      "    infringement       0.93      1.00      0.97        14\n",
      "non_infringement       1.00      0.93      0.96        14\n",
      "\n",
      "        accuracy                           0.96        28\n",
      "       macro avg       0.97      0.96      0.96        28\n",
      "    weighted avg       0.97      0.96      0.96        28\n",
      "\n",
      "Epoch 1700/2000, Loss: 0.0000\n",
      "Test Accuracy at Epoch 1700: 96.43%\n",
      "Test F1-score at Epoch 1700: 0.9630\n",
      "Classification Report at Epoch 1700:\n",
      "                  precision    recall  f1-score   support\n",
      "\n",
      "    infringement       0.93      1.00      0.97        14\n",
      "non_infringement       1.00      0.93      0.96        14\n",
      "\n",
      "        accuracy                           0.96        28\n",
      "       macro avg       0.97      0.96      0.96        28\n",
      "    weighted avg       0.97      0.96      0.96        28\n",
      "\n",
      "Epoch 1710/2000, Loss: 0.0000\n",
      "Test Accuracy at Epoch 1710: 96.43%\n",
      "Test F1-score at Epoch 1710: 0.9630\n",
      "Classification Report at Epoch 1710:\n",
      "                  precision    recall  f1-score   support\n",
      "\n",
      "    infringement       0.93      1.00      0.97        14\n",
      "non_infringement       1.00      0.93      0.96        14\n",
      "\n",
      "        accuracy                           0.96        28\n",
      "       macro avg       0.97      0.96      0.96        28\n",
      "    weighted avg       0.97      0.96      0.96        28\n",
      "\n"
     ]
    },
    {
     "name": "stderr",
     "output_type": "stream",
     "text": [
      "Training Epochs:  87%|████████▋ | 1739/2000 [00:20<00:02, 105.32it/s]"
     ]
    },
    {
     "name": "stdout",
     "output_type": "stream",
     "text": [
      "Epoch 1720/2000, Loss: 0.0000\n",
      "Test Accuracy at Epoch 1720: 96.43%\n",
      "Test F1-score at Epoch 1720: 0.9630\n",
      "Classification Report at Epoch 1720:\n",
      "                  precision    recall  f1-score   support\n",
      "\n",
      "    infringement       0.93      1.00      0.97        14\n",
      "non_infringement       1.00      0.93      0.96        14\n",
      "\n",
      "        accuracy                           0.96        28\n",
      "       macro avg       0.97      0.96      0.96        28\n",
      "    weighted avg       0.97      0.96      0.96        28\n",
      "\n",
      "Epoch 1730/2000, Loss: 0.0000\n",
      "Test Accuracy at Epoch 1730: 96.43%\n",
      "Test F1-score at Epoch 1730: 0.9630\n",
      "Classification Report at Epoch 1730:\n",
      "                  precision    recall  f1-score   support\n",
      "\n",
      "    infringement       0.93      1.00      0.97        14\n",
      "non_infringement       1.00      0.93      0.96        14\n",
      "\n",
      "        accuracy                           0.96        28\n",
      "       macro avg       0.97      0.96      0.96        28\n",
      "    weighted avg       0.97      0.96      0.96        28\n",
      "\n",
      "Epoch 1740/2000, Loss: 0.0000\n",
      "Test Accuracy at Epoch 1740: 96.43%\n",
      "Test F1-score at Epoch 1740: 0.9630\n",
      "Classification Report at Epoch 1740:\n",
      "                  precision    recall  f1-score   support\n",
      "\n",
      "    infringement       0.93      1.00      0.97        14\n",
      "non_infringement       1.00      0.93      0.96        14\n",
      "\n",
      "        accuracy                           0.96        28\n",
      "       macro avg       0.97      0.96      0.96        28\n",
      "    weighted avg       0.97      0.96      0.96        28\n",
      "\n"
     ]
    },
    {
     "name": "stderr",
     "output_type": "stream",
     "text": [
      "Training Epochs:  88%|████████▊ | 1761/2000 [00:20<00:02, 102.36it/s]"
     ]
    },
    {
     "name": "stdout",
     "output_type": "stream",
     "text": [
      "Epoch 1750/2000, Loss: 0.0000\n",
      "Test Accuracy at Epoch 1750: 96.43%\n",
      "Test F1-score at Epoch 1750: 0.9630\n",
      "Classification Report at Epoch 1750:\n",
      "                  precision    recall  f1-score   support\n",
      "\n",
      "    infringement       0.93      1.00      0.97        14\n",
      "non_infringement       1.00      0.93      0.96        14\n",
      "\n",
      "        accuracy                           0.96        28\n",
      "       macro avg       0.97      0.96      0.96        28\n",
      "    weighted avg       0.97      0.96      0.96        28\n",
      "\n",
      "Epoch 1760/2000, Loss: 0.0000\n",
      "Test Accuracy at Epoch 1760: 96.43%\n",
      "Test F1-score at Epoch 1760: 0.9630\n",
      "Classification Report at Epoch 1760:\n",
      "                  precision    recall  f1-score   support\n",
      "\n",
      "    infringement       0.93      1.00      0.97        14\n",
      "non_infringement       1.00      0.93      0.96        14\n",
      "\n",
      "        accuracy                           0.96        28\n",
      "       macro avg       0.97      0.96      0.96        28\n",
      "    weighted avg       0.97      0.96      0.96        28\n",
      "\n",
      "Epoch 1770/2000, Loss: 0.0000\n",
      "Test Accuracy at Epoch 1770: 96.43%\n",
      "Test F1-score at Epoch 1770: 0.9630\n"
     ]
    },
    {
     "name": "stderr",
     "output_type": "stream",
     "text": [
      "Training Epochs:  89%|████████▉ | 1783/2000 [00:20<00:02, 100.96it/s]"
     ]
    },
    {
     "name": "stdout",
     "output_type": "stream",
     "text": [
      "Classification Report at Epoch 1770:\n",
      "                  precision    recall  f1-score   support\n",
      "\n",
      "    infringement       0.93      1.00      0.97        14\n",
      "non_infringement       1.00      0.93      0.96        14\n",
      "\n",
      "        accuracy                           0.96        28\n",
      "       macro avg       0.97      0.96      0.96        28\n",
      "    weighted avg       0.97      0.96      0.96        28\n",
      "\n",
      "Epoch 1780/2000, Loss: 0.0000\n",
      "Test Accuracy at Epoch 1780: 96.43%\n",
      "Test F1-score at Epoch 1780: 0.9630\n",
      "Classification Report at Epoch 1780:\n",
      "                  precision    recall  f1-score   support\n",
      "\n",
      "    infringement       0.93      1.00      0.97        14\n",
      "non_infringement       1.00      0.93      0.96        14\n",
      "\n",
      "        accuracy                           0.96        28\n",
      "       macro avg       0.97      0.96      0.96        28\n",
      "    weighted avg       0.97      0.96      0.96        28\n",
      "\n",
      "Epoch 1790/2000, Loss: 0.0000\n",
      "Test Accuracy at Epoch 1790: 96.43%\n",
      "Test F1-score at Epoch 1790: 0.9630\n",
      "Classification Report at Epoch 1790:\n",
      "                  precision    recall  f1-score   support\n",
      "\n",
      "    infringement       0.93      1.00      0.97        14\n",
      "non_infringement       1.00      0.93      0.96        14\n",
      "\n",
      "        accuracy                           0.96        28\n",
      "       macro avg       0.97      0.96      0.96        28\n",
      "    weighted avg       0.97      0.96      0.96        28\n",
      "\n"
     ]
    },
    {
     "name": "stderr",
     "output_type": "stream",
     "text": [
      "Training Epochs:  91%|█████████ | 1816/2000 [00:21<00:01, 100.40it/s]"
     ]
    },
    {
     "name": "stdout",
     "output_type": "stream",
     "text": [
      "Epoch 1800/2000, Loss: 0.0000\n",
      "Test Accuracy at Epoch 1800: 96.43%\n",
      "Test F1-score at Epoch 1800: 0.9630\n",
      "Classification Report at Epoch 1800:\n",
      "                  precision    recall  f1-score   support\n",
      "\n",
      "    infringement       0.93      1.00      0.97        14\n",
      "non_infringement       1.00      0.93      0.96        14\n",
      "\n",
      "        accuracy                           0.96        28\n",
      "       macro avg       0.97      0.96      0.96        28\n",
      "    weighted avg       0.97      0.96      0.96        28\n",
      "\n",
      "Epoch 1810/2000, Loss: 0.0000\n",
      "Test Accuracy at Epoch 1810: 96.43%\n",
      "Test F1-score at Epoch 1810: 0.9630\n",
      "Classification Report at Epoch 1810:\n",
      "                  precision    recall  f1-score   support\n",
      "\n",
      "    infringement       0.93      1.00      0.97        14\n",
      "non_infringement       1.00      0.93      0.96        14\n",
      "\n",
      "        accuracy                           0.96        28\n",
      "       macro avg       0.97      0.96      0.96        28\n",
      "    weighted avg       0.97      0.96      0.96        28\n",
      "\n"
     ]
    },
    {
     "name": "stderr",
     "output_type": "stream",
     "text": [
      "Training Epochs:  92%|█████████▏| 1839/2000 [00:21<00:01, 105.29it/s]"
     ]
    },
    {
     "name": "stdout",
     "output_type": "stream",
     "text": [
      "Epoch 1820/2000, Loss: 0.0000\n",
      "Test Accuracy at Epoch 1820: 96.43%\n",
      "Test F1-score at Epoch 1820: 0.9630\n",
      "Classification Report at Epoch 1820:\n",
      "                  precision    recall  f1-score   support\n",
      "\n",
      "    infringement       0.93      1.00      0.97        14\n",
      "non_infringement       1.00      0.93      0.96        14\n",
      "\n",
      "        accuracy                           0.96        28\n",
      "       macro avg       0.97      0.96      0.96        28\n",
      "    weighted avg       0.97      0.96      0.96        28\n",
      "\n",
      "Epoch 1830/2000, Loss: 0.0000\n",
      "Test Accuracy at Epoch 1830: 96.43%\n",
      "Test F1-score at Epoch 1830: 0.9630\n",
      "Classification Report at Epoch 1830:\n",
      "                  precision    recall  f1-score   support\n",
      "\n",
      "    infringement       0.93      1.00      0.97        14\n",
      "non_infringement       1.00      0.93      0.96        14\n",
      "\n",
      "        accuracy                           0.96        28\n",
      "       macro avg       0.97      0.96      0.96        28\n",
      "    weighted avg       0.97      0.96      0.96        28\n",
      "\n",
      "Epoch 1840/2000, Loss: 0.0000\n",
      "Test Accuracy at Epoch 1840: 96.43%\n",
      "Test F1-score at Epoch 1840: 0.9630\n",
      "Classification Report at Epoch 1840:\n",
      "                  precision    recall  f1-score   support\n",
      "\n",
      "    infringement       0.93      1.00      0.97        14\n",
      "non_infringement       1.00      0.93      0.96        14\n",
      "\n",
      "        accuracy                           0.96        28\n",
      "       macro avg       0.97      0.96      0.96        28\n",
      "    weighted avg       0.97      0.96      0.96        28\n",
      "\n"
     ]
    },
    {
     "name": "stderr",
     "output_type": "stream",
     "text": [
      "Training Epochs:  93%|█████████▎| 1862/2000 [00:21<00:01, 107.09it/s]"
     ]
    },
    {
     "name": "stdout",
     "output_type": "stream",
     "text": [
      "Epoch 1850/2000, Loss: 0.0000\n",
      "Test Accuracy at Epoch 1850: 96.43%\n",
      "Test F1-score at Epoch 1850: 0.9630\n",
      "Classification Report at Epoch 1850:\n",
      "                  precision    recall  f1-score   support\n",
      "\n",
      "    infringement       0.93      1.00      0.97        14\n",
      "non_infringement       1.00      0.93      0.96        14\n",
      "\n",
      "        accuracy                           0.96        28\n",
      "       macro avg       0.97      0.96      0.96        28\n",
      "    weighted avg       0.97      0.96      0.96        28\n",
      "\n",
      "Epoch 1860/2000, Loss: 0.0000\n",
      "Test Accuracy at Epoch 1860: 96.43%\n",
      "Test F1-score at Epoch 1860: 0.9630\n",
      "Classification Report at Epoch 1860:\n",
      "                  precision    recall  f1-score   support\n",
      "\n",
      "    infringement       0.93      1.00      0.97        14\n",
      "non_infringement       1.00      0.93      0.96        14\n",
      "\n",
      "        accuracy                           0.96        28\n",
      "       macro avg       0.97      0.96      0.96        28\n",
      "    weighted avg       0.97      0.96      0.96        28\n",
      "\n",
      "Epoch 1870/2000, Loss: 0.0000\n",
      "Test Accuracy at Epoch 1870: 96.43%\n",
      "Test F1-score at Epoch 1870: 0.9630\n",
      "Classification Report at Epoch 1870:\n",
      "                  precision    recall  f1-score   support\n",
      "\n",
      "    infringement       0.93      1.00      0.97        14\n",
      "non_infringement       1.00      0.93      0.96        14\n",
      "\n",
      "        accuracy                           0.96        28\n",
      "       macro avg       0.97      0.96      0.96        28\n",
      "    weighted avg       0.97      0.96      0.96        28\n",
      "\n"
     ]
    },
    {
     "name": "stderr",
     "output_type": "stream",
     "text": [
      "Training Epochs:  95%|█████████▍| 1895/2000 [00:22<00:01, 93.26it/s] "
     ]
    },
    {
     "name": "stdout",
     "output_type": "stream",
     "text": [
      "Epoch 1880/2000, Loss: 0.0000\n",
      "Test Accuracy at Epoch 1880: 96.43%\n",
      "Test F1-score at Epoch 1880: 0.9630\n",
      "Classification Report at Epoch 1880:\n",
      "                  precision    recall  f1-score   support\n",
      "\n",
      "    infringement       0.93      1.00      0.97        14\n",
      "non_infringement       1.00      0.93      0.96        14\n",
      "\n",
      "        accuracy                           0.96        28\n",
      "       macro avg       0.97      0.96      0.96        28\n",
      "    weighted avg       0.97      0.96      0.96        28\n",
      "\n",
      "Epoch 1890/2000, Loss: 0.0000\n",
      "Test Accuracy at Epoch 1890: 96.43%\n",
      "Test F1-score at Epoch 1890: 0.9630\n",
      "Classification Report at Epoch 1890:\n",
      "                  precision    recall  f1-score   support\n",
      "\n",
      "    infringement       0.93      1.00      0.97        14\n",
      "non_infringement       1.00      0.93      0.96        14\n",
      "\n",
      "        accuracy                           0.96        28\n",
      "       macro avg       0.97      0.96      0.96        28\n",
      "    weighted avg       0.97      0.96      0.96        28\n",
      "\n"
     ]
    },
    {
     "name": "stderr",
     "output_type": "stream",
     "text": [
      "Training Epochs:  96%|█████████▌| 1916/2000 [00:22<00:00, 96.98it/s]"
     ]
    },
    {
     "name": "stdout",
     "output_type": "stream",
     "text": [
      "Epoch 1900/2000, Loss: 0.0000\n",
      "Test Accuracy at Epoch 1900: 96.43%\n",
      "Test F1-score at Epoch 1900: 0.9630\n",
      "Classification Report at Epoch 1900:\n",
      "                  precision    recall  f1-score   support\n",
      "\n",
      "    infringement       0.93      1.00      0.97        14\n",
      "non_infringement       1.00      0.93      0.96        14\n",
      "\n",
      "        accuracy                           0.96        28\n",
      "       macro avg       0.97      0.96      0.96        28\n",
      "    weighted avg       0.97      0.96      0.96        28\n",
      "\n",
      "Epoch 1910/2000, Loss: 0.0000\n",
      "Test Accuracy at Epoch 1910: 96.43%\n",
      "Test F1-score at Epoch 1910: 0.9630\n",
      "Classification Report at Epoch 1910:\n",
      "                  precision    recall  f1-score   support\n",
      "\n",
      "    infringement       0.93      1.00      0.97        14\n",
      "non_infringement       1.00      0.93      0.96        14\n",
      "\n",
      "        accuracy                           0.96        28\n",
      "       macro avg       0.97      0.96      0.96        28\n",
      "    weighted avg       0.97      0.96      0.96        28\n",
      "\n",
      "Epoch 1920/2000, Loss: 0.0000\n"
     ]
    },
    {
     "name": "stderr",
     "output_type": "stream",
     "text": [
      "Training Epochs:  97%|█████████▋| 1937/2000 [00:22<00:00, 97.40it/s]"
     ]
    },
    {
     "name": "stdout",
     "output_type": "stream",
     "text": [
      "Test Accuracy at Epoch 1920: 96.43%\n",
      "Test F1-score at Epoch 1920: 0.9630\n",
      "Classification Report at Epoch 1920:\n",
      "                  precision    recall  f1-score   support\n",
      "\n",
      "    infringement       0.93      1.00      0.97        14\n",
      "non_infringement       1.00      0.93      0.96        14\n",
      "\n",
      "        accuracy                           0.96        28\n",
      "       macro avg       0.97      0.96      0.96        28\n",
      "    weighted avg       0.97      0.96      0.96        28\n",
      "\n",
      "Epoch 1930/2000, Loss: 0.0000\n",
      "Test Accuracy at Epoch 1930: 96.43%\n",
      "Test F1-score at Epoch 1930: 0.9630\n",
      "Classification Report at Epoch 1930:\n",
      "                  precision    recall  f1-score   support\n",
      "\n",
      "    infringement       0.93      1.00      0.97        14\n",
      "non_infringement       1.00      0.93      0.96        14\n",
      "\n",
      "        accuracy                           0.96        28\n",
      "       macro avg       0.97      0.96      0.96        28\n",
      "    weighted avg       0.97      0.96      0.96        28\n",
      "\n"
     ]
    },
    {
     "name": "stderr",
     "output_type": "stream",
     "text": [
      "Training Epochs:  98%|█████████▊| 1958/2000 [00:22<00:00, 97.15it/s]"
     ]
    },
    {
     "name": "stdout",
     "output_type": "stream",
     "text": [
      "Epoch 1940/2000, Loss: 0.0000\n",
      "Test Accuracy at Epoch 1940: 96.43%\n",
      "Test F1-score at Epoch 1940: 0.9630\n",
      "Classification Report at Epoch 1940:\n",
      "                  precision    recall  f1-score   support\n",
      "\n",
      "    infringement       0.93      1.00      0.97        14\n",
      "non_infringement       1.00      0.93      0.96        14\n",
      "\n",
      "        accuracy                           0.96        28\n",
      "       macro avg       0.97      0.96      0.96        28\n",
      "    weighted avg       0.97      0.96      0.96        28\n",
      "\n",
      "Epoch 1950/2000, Loss: 0.0000\n",
      "Test Accuracy at Epoch 1950: 96.43%\n",
      "Test F1-score at Epoch 1950: 0.9630\n",
      "Classification Report at Epoch 1950:\n",
      "                  precision    recall  f1-score   support\n",
      "\n",
      "    infringement       0.93      1.00      0.97        14\n",
      "non_infringement       1.00      0.93      0.96        14\n",
      "\n",
      "        accuracy                           0.96        28\n",
      "       macro avg       0.97      0.96      0.96        28\n",
      "    weighted avg       0.97      0.96      0.96        28\n",
      "\n"
     ]
    },
    {
     "name": "stderr",
     "output_type": "stream",
     "text": [
      "Training Epochs:  99%|█████████▉| 1980/2000 [00:22<00:00, 99.29it/s]"
     ]
    },
    {
     "name": "stdout",
     "output_type": "stream",
     "text": [
      "Epoch 1960/2000, Loss: 0.0000\n",
      "Test Accuracy at Epoch 1960: 96.43%\n",
      "Test F1-score at Epoch 1960: 0.9630\n",
      "Classification Report at Epoch 1960:\n",
      "                  precision    recall  f1-score   support\n",
      "\n",
      "    infringement       0.93      1.00      0.97        14\n",
      "non_infringement       1.00      0.93      0.96        14\n",
      "\n",
      "        accuracy                           0.96        28\n",
      "       macro avg       0.97      0.96      0.96        28\n",
      "    weighted avg       0.97      0.96      0.96        28\n",
      "\n",
      "Epoch 1970/2000, Loss: 0.0000\n",
      "Test Accuracy at Epoch 1970: 96.43%\n",
      "Test F1-score at Epoch 1970: 0.9630\n",
      "Classification Report at Epoch 1970:\n",
      "                  precision    recall  f1-score   support\n",
      "\n",
      "    infringement       0.93      1.00      0.97        14\n",
      "non_infringement       1.00      0.93      0.96        14\n",
      "\n",
      "        accuracy                           0.96        28\n",
      "       macro avg       0.97      0.96      0.96        28\n",
      "    weighted avg       0.97      0.96      0.96        28\n",
      "\n",
      "Epoch 1980/2000, Loss: 0.0000\n",
      "Test Accuracy at Epoch 1980: 96.43%\n",
      "Test F1-score at Epoch 1980: 0.9630\n",
      "Classification Report at Epoch 1980:\n",
      "                  precision    recall  f1-score   support\n",
      "\n",
      "    infringement       0.93      1.00      0.97        14\n",
      "non_infringement       1.00      0.93      0.96        14\n",
      "\n",
      "        accuracy                           0.96        28\n",
      "       macro avg       0.97      0.96      0.96        28\n",
      "    weighted avg       0.97      0.96      0.96        28\n",
      "\n"
     ]
    },
    {
     "name": "stderr",
     "output_type": "stream",
     "text": [
      "Training Epochs: 100%|██████████| 2000/2000 [00:23<00:00, 86.33it/s] "
     ]
    },
    {
     "name": "stdout",
     "output_type": "stream",
     "text": [
      "Epoch 1990/2000, Loss: 0.0000\n",
      "Test Accuracy at Epoch 1990: 96.43%\n",
      "Test F1-score at Epoch 1990: 0.9630\n",
      "Classification Report at Epoch 1990:\n",
      "                  precision    recall  f1-score   support\n",
      "\n",
      "    infringement       0.93      1.00      0.97        14\n",
      "non_infringement       1.00      0.93      0.96        14\n",
      "\n",
      "        accuracy                           0.96        28\n",
      "       macro avg       0.97      0.96      0.96        28\n",
      "    weighted avg       0.97      0.96      0.96        28\n",
      "\n",
      "Epoch 2000/2000, Loss: 0.0000\n",
      "Test Accuracy at Epoch 2000: 96.43%\n",
      "Test F1-score at Epoch 2000: 0.9630\n",
      "Classification Report at Epoch 2000:\n",
      "                  precision    recall  f1-score   support\n",
      "\n",
      "    infringement       0.93      1.00      0.97        14\n",
      "non_infringement       1.00      0.93      0.96        14\n",
      "\n",
      "        accuracy                           0.96        28\n",
      "       macro avg       0.97      0.96      0.96        28\n",
      "    weighted avg       0.97      0.96      0.96        28\n",
      "\n"
     ]
    },
    {
     "name": "stderr",
     "output_type": "stream",
     "text": [
      "\n",
      "/tmp/ipykernel_3126692/2033666368.py:59: FutureWarning: You are using `torch.load` with `weights_only=False` (the current default value), which uses the default pickle module implicitly. It is possible to construct malicious pickle data which will execute arbitrary code during unpickling (See https://github.com/pytorch/pytorch/blob/main/SECURITY.md#untrusted-models for more details). In a future release, the default value for `weights_only` will be flipped to `True`. This limits the functions that could be executed during unpickling. Arbitrary objects will no longer be allowed to be loaded via this mode unless they are explicitly allowlisted by the user via `torch.serialization.add_safe_globals`. We recommend you start setting `weights_only=True` for any use case where you don't have full control of the loaded file. Please open an issue on GitHub for any issues related to this experimental feature.\n",
      "  custom_mlp.load_state_dict(torch.load(checkpoint_path))\n"
     ]
    },
    {
     "data": {
      "image/png": "[encoded data removed]",
      "text/plain": [
       "<Figure size 1000x500 with 1 Axes>"
      ]
     },
     "metadata": {},
     "output_type": "display_data"
    },
    {
     "name": "stdout",
     "output_type": "stream",
     "text": [
      "Final Model Accuracy: 96.43%\n",
      "Final Model F1-score: 0.9630\n"
     ]
    },
    {
     "ename": "",
     "evalue": "",
     "output_type": "error",
     "traceback": [
      "\u001b[1;31mThe Kernel crashed while executing code in the current cell or a previous cell. \n",
      "\u001b[1;31mPlease review the code in the cell(s) to identify a possible cause of the failure. \n",
      "\u001b[1;31mClick <a href='https://aka.ms/vscodeJupyterKernelCrash'>here</a> for more info. \n",
      "\u001b[1;31mView Jupyter <a href='command:jupyter.viewOutput'>log</a> for further details."
     ]
    }
   ],
   "source": [
    "input_dim = X_train.shape[1]\n",
    "hidden_dim = 256\n",
    "\n",
    "custom_mlp, losses, best_accuracy, best_f1 = train_model(X_train, y_train, X_test, y_test, input_dim, hidden_dim)"
   ]
  },
  {
   "cell_type": "code",
   "execution_count": null,
   "metadata": {},
   "outputs": [
    {
     "name": "stdout",
     "output_type": "stream",
     "text": [
      "Checkpoint saved to '/home/guangwei/LLM-COPYRIGHT/copyright_newVersion/models/train_input_last_token.pth'.\n"
     ]
    }
   ],
   "source": [
    "def save_checkpoint(model, optimizer, epoch, loss, filepath):\n",
    "    checkpoint = {\n",
    "        'epoch': epoch + 1,\n",
    "        'model_state_dict': model.state_dict(),\n",
    "        'optimizer_state_dict': optimizer.state_dict(),\n",
    "        'loss': loss\n",
    "    }\n",
    "    torch.save(checkpoint, filepath)\n",
    "    print(f\"Checkpoint saved to '{filepath}'.\")\n",
    "\n",
    "save_checkpoint(custom_mlp, torch.optim.Adam(custom_mlp.parameters()), len(losses), losses[-1], checkpoint_file)"
   ]
  },
  {
   "cell_type": "code",
   "execution_count": null,
   "metadata": {},
   "outputs": [
    {
     "name": "stdout",
     "output_type": "stream",
     "text": [
      "                  precision    recall  f1-score   support\n",
      "\n",
      "    infringement       0.77      0.77      0.77        13\n",
      "non_infringement       0.77      0.77      0.77        13\n",
      "\n",
      "        accuracy                           0.77        26\n",
      "       macro avg       0.77      0.77      0.77        26\n",
      "    weighted avg       0.77      0.77      0.77        26\n",
      "\n"
     ]
    },
    {
     "name": "stderr",
     "output_type": "stream",
     "text": [
      "/tmp/ipykernel_1589034/2137335780.py:1: UserWarning: To copy construct from a tensor, it is recommended to use sourceTensor.clone().detach() or sourceTensor.clone().detach().requires_grad_(True), rather than torch.tensor(sourceTensor).\n",
      "  y_pred_final = (torch.sigmoid(torch.tensor(custom_mlp(torch.tensor(X_test, dtype=torch.float32)))) > 0.5).float().numpy()\n"
     ]
    },
    {
     "ename": "",
     "evalue": "",
     "output_type": "error",
     "traceback": [
      "\u001b[1;31mThe Kernel crashed while executing code in the current cell or a previous cell. \n",
      "\u001b[1;31mPlease review the code in the cell(s) to identify a possible cause of the failure. \n",
      "\u001b[1;31mClick <a href='https://aka.ms/vscodeJupyterKernelCrash'>here</a> for more info. \n",
      "\u001b[1;31mView Jupyter <a href='command:jupyter.viewOutput'>log</a> for further details."
     ]
    }
   ],
   "source": [
    "y_pred_final = (torch.sigmoid(torch.tensor(custom_mlp(torch.tensor(X_test, dtype=torch.float32)))) > 0.5).float().numpy()\n",
    "print(classification_report(y_test, y_pred_final, target_names=[\"infringement\", \"non_infringement\"]))"
   ]
  }
 ],
 "metadata": {
  "kernelspec": {
   "display_name": "zdh",
   "language": "python",
   "name": "python3"
  },
  "language_info": {
   "codemirror_mode": {
    "name": "ipython",
    "version": 3
   },
   "file_extension": ".py",
   "mimetype": "text/x-python",
   "name": "python",
   "nbconvert_exporter": "python",
   "pygments_lexer": "ipython3",
   "version": "3.12.3"
  }
 },
 "nbformat": 4,
 "nbformat_minor": 2
}
