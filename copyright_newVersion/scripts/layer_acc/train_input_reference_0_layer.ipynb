{
 "cells": [
  {
   "cell_type": "code",
   "execution_count": 1,
   "metadata": {},
   "outputs": [
    {
     "name": "stderr",
     "output_type": "stream",
     "text": [
      "/home/guangwei/miniconda3/envs/zdh/lib/python3.12/site-packages/tqdm/auto.py:21: TqdmWarning: IProgress not found. Please update jupyter and ipywidgets. See https://ipywidgets.readthedocs.io/en/stable/user_install.html\n",
      "  from .autonotebook import tqdm as notebook_tqdm\n"
     ]
    }
   ],
   "source": [
    "# import packages & variables\n",
    "import argparse\n",
    "import torch\n",
    "import torch.nn as nn\n",
    "import numpy as np\n",
    "from sklearn.metrics import accuracy_score, classification_report\n",
    "import matplotlib.pyplot as plt\n",
    "from tqdm import tqdm\n",
    "from transformers import AutoTokenizer, AutoModelForCausalLM, AutoModel, AutoModelForSequenceClassification\n",
    "import json\n",
    "import os\n",
    "\n",
    "os.environ[\"CUDA_VISIBLE_DEVICES\"] = \"5\"\n",
    "\n",
    "# Parameters\n",
    "model_name = 'meta-llama/Meta-Llama-3.1-8B'\n",
    "non_infringement_file = '/home/guangwei/LLM-COPYRIGHT/copyright_newVersion/test_division/extra_30.non_infringement.json'\n",
    "infringement_file = '/home/guangwei/LLM-COPYRIGHT/copyright_newVersion/test_division/extra_30.infringement.json'\n",
    "checkpoint_file = '/home/guangwei/LLM-COPYRIGHT/copyright_newVersion/models/train_input_reference_0_layer.pth'\n"
   ]
  },
  {
   "cell_type": "code",
   "execution_count": 2,
   "metadata": {},
   "outputs": [],
   "source": [
    "# Define CustumMLP for internal states train\n",
    "class CustomMLP(nn.Module):\n",
    "    def __init__(self, input_dim, hidden_dim):\n",
    "        super(CustomMLP, self).__init__()\n",
    "        self.down = nn.Linear(input_dim, hidden_dim)\n",
    "        self.gate = nn.Linear(input_dim, hidden_dim)\n",
    "        self.up = nn.Linear(hidden_dim, 1)\n",
    "        self.activation = nn.SiLU()\n",
    "\n",
    "    def forward(self, x):\n",
    "        down_output = self.down(x)\n",
    "        gate_output = self.gate(x)\n",
    "        gated_output = down_output * self.activation(gate_output)\n",
    "        return self.up(gated_output)"
   ]
  },
  {
   "cell_type": "code",
   "execution_count": 3,
   "metadata": {},
   "outputs": [],
   "source": [
    "# Extract hidden states/reference embeddings\n",
    "def extract_hidden_states(texts, model, tokenizer, batch_size=4):\n",
    "    device = torch.device(\"cuda\" if torch.cuda.is_available() else \"cpu\")\n",
    "    model.to(device)\n",
    "    model = nn.DataParallel(model)\n",
    "    hidden_states = []\n",
    "    \n",
    "    for i in tqdm(range(0, len(texts), batch_size), desc=\"Processing data batches\"):\n",
    "        batch_texts = texts[i:i + batch_size]\n",
    "        inputs = tokenizer(batch_texts, return_tensors=\"pt\", padding=True, truncation=True).to(device)\n",
    "        \n",
    "        with torch.no_grad():\n",
    "            outputs = model(**inputs)\n",
    "        hidden_states.append(outputs.hidden_states[0].mean(dim=1).cpu().numpy())\n",
    "    \n",
    "    return np.vstack(hidden_states)\n",
    "\n",
    "\n",
    "def extract_reference_embeddings(references, model, tokenizer, batch_size=4):\n",
    "    device = torch.device(\"cuda\" if torch.cuda.is_available() else \"cpu\")\n",
    "    model.to(device)\n",
    "    model = nn.DataParallel(model)\n",
    "    embeddings = []\n",
    "    for i in tqdm(range(0, len(references), batch_size), desc=\"Processing references\"):\n",
    "        batch_references = references[i:i + batch_size]\n",
    "        inputs = tokenizer(batch_references, return_tensors=\"pt\", padding=True, truncation=True).to(device)\n",
    "        with torch.no_grad():\n",
    "            outputs = model(**inputs)\n",
    "        embeddings.append(outputs.pooler_output.cpu().numpy())\n",
    "    return np.vstack(embeddings)"
   ]
  },
  {
   "cell_type": "code",
   "execution_count": 4,
   "metadata": {},
   "outputs": [],
   "source": [
    "# load data for infringement & non infringement\n",
    "def load_data(non_infringement_file, infringement_file):\n",
    "    with open(non_infringement_file, 'r', encoding='utf-8') as file:\n",
    "        non_infringement_json_data = json.load(file)\n",
    "\n",
    "    non_infringement_outputs = [entry['input'] for entry in non_infringement_json_data]\n",
    "    non_infringement_references = [entry['reference'] for entry in non_infringement_json_data]\n",
    "    y_non_infringement = [1] * len(non_infringement_outputs)\n",
    "\n",
    "    with open(infringement_file, 'r', encoding='utf-8') as file:\n",
    "        infringement_json_data = json.load(file)\n",
    "\n",
    "    infringement_outputs = [entry['input'] for entry in infringement_json_data]\n",
    "    infringement_references = [entry['reference'] for entry in infringement_json_data]\n",
    "    y_infringement = [0] * len(infringement_outputs)\n",
    "\n",
    "    return non_infringement_outputs, non_infringement_references, y_non_infringement, infringement_outputs, infringement_references, y_infringement"
   ]
  },
  {
   "cell_type": "code",
   "execution_count": 5,
   "metadata": {},
   "outputs": [],
   "source": [
    "# Train for best model\n",
    "def train_model(X_train, y_train, X_test, y_test, input_dim, hidden_dim, epochs=500, lr=0.001, checkpoint_path=checkpoint_file):\n",
    "    custom_mlp = CustomMLP(input_dim, hidden_dim)\n",
    "    criterion = nn.BCEWithLogitsLoss()\n",
    "    optimizer = torch.optim.Adam(custom_mlp.parameters(), lr=lr)\n",
    "\n",
    "    X_train_tensor = torch.tensor(X_train, dtype=torch.float32)\n",
    "    y_train_tensor = torch.tensor(y_train, dtype=torch.float32).unsqueeze(1)\n",
    "\n",
    "    best_accuracy = -float('inf')\n",
    "    best_model_state = None\n",
    "    best_epoch = 0\n",
    "    losses = []\n",
    "\n",
    "    for epoch in tqdm(range(epochs), desc=\"Training Epochs\"):\n",
    "        custom_mlp.train()\n",
    "        optimizer.zero_grad()\n",
    "        outputs = custom_mlp(X_train_tensor)\n",
    "        loss = criterion(outputs, y_train_tensor)\n",
    "        loss.backward()\n",
    "        optimizer.step()\n",
    "        losses.append(loss.item())\n",
    "\n",
    "        if (epoch + 1) % 10 == 0:\n",
    "            print(f\"Epoch {epoch + 1}/{epochs}, Loss: {loss.item():.4f}\")\n",
    "            \n",
    "            custom_mlp.eval()\n",
    "            X_test_tensor = torch.tensor(X_test, dtype=torch.float32)\n",
    "            with torch.no_grad():\n",
    "                y_pred_logits = custom_mlp(X_test_tensor)\n",
    "                y_pred = (torch.sigmoid(y_pred_logits) > 0.5).float().numpy()\n",
    "            \n",
    "            accuracy = accuracy_score(y_test, y_pred)\n",
    "            print(f\"Test Accuracy at Epoch {epoch + 1}: {accuracy * 100:.2f}%\")\n",
    "            \n",
    "            report = classification_report(y_test, y_pred, target_names=[\"infringement\", \"non_infringement\"])\n",
    "            print(f\"Classification Report at Epoch {epoch + 1}:\\n{report}\")\n",
    "\n",
    "            if accuracy > best_accuracy:\n",
    "                best_accuracy = accuracy\n",
    "                best_model_state = custom_mlp.state_dict()\n",
    "                best_epoch = epoch + 1\n",
    "                torch.save(best_model_state, checkpoint_path)\n",
    "                print(f\"New best model saved with accuracy {best_accuracy * 100:.2f}% at epoch {best_epoch}\")\n",
    "                print(f\"Best Classification Report at Epoch {best_epoch}:\\n{report}\")\n",
    "\n",
    "    custom_mlp.load_state_dict(torch.load(checkpoint_path))\n",
    "\n",
    "    plt.figure(figsize=(10, 5))\n",
    "    plt.plot(losses, label='Training Loss')\n",
    "    plt.xlabel('Epoch')\n",
    "    plt.ylabel('Loss')\n",
    "    plt.title('Training Loss Curve')\n",
    "    plt.legend()\n",
    "    plt.show()\n",
    "\n",
    "    print(f\"Final Model Accuracy: {best_accuracy * 100:.2f}%\")\n",
    "    \n",
    "    return custom_mlp, losses, best_accuracy"
   ]
  },
  {
   "cell_type": "code",
   "execution_count": 6,
   "metadata": {},
   "outputs": [
    {
     "name": "stderr",
     "output_type": "stream",
     "text": [
      "/home/guangwei/miniconda3/envs/zdh/lib/python3.12/site-packages/transformers/generation/configuration_utils.py:777: UserWarning: `return_dict_in_generate` is NOT set to `True`, but `output_hidden_states` is. When `return_dict_in_generate` is not `True`, `output_hidden_states` is ignored.\n",
      "  warnings.warn(\n",
      "Loading checkpoint shards: 100%|██████████| 4/4 [00:02<00:00,  1.56it/s]\n"
     ]
    }
   ],
   "source": [
    "tokenizer = AutoTokenizer.from_pretrained(model_name, model_max_length=512)\n",
    "model = AutoModelForCausalLM.from_pretrained(model_name, output_hidden_states=True)\n",
    "tokenizer.pad_token = tokenizer.eos_token\n",
    "bert_tokenizer = AutoTokenizer.from_pretrained('google-bert/bert-base-uncased')\n",
    "bert_model = AutoModel.from_pretrained('google-bert/bert-base-uncased')\n",
    "bert_tokenizer.pad_token = tokenizer.eos_token\n",
    "\n",
    "non_infringement_outputs, non_infringement_references, y_non_infringement, infringement_outputs, infringement_references, y_infringement = load_data(\n",
    "    non_infringement_file, infringement_file\n",
    ")\n",
    "\n",
    "y_non_infringement = np.array(y_non_infringement)\n",
    "y_infringement = np.array(y_infringement)\n"
   ]
  },
  {
   "cell_type": "code",
   "execution_count": 7,
   "metadata": {},
   "outputs": [
    {
     "name": "stdout",
     "output_type": "stream",
     "text": [
      "Extracting hidden states for non_infringement texts...\n"
     ]
    },
    {
     "name": "stderr",
     "output_type": "stream",
     "text": [
      "Processing data batches:   0%|          | 0/232 [00:00<?, ?it/s]Starting from v4.46, the `logits` model output will have the same type as the model (except at train time, where it will always be FP32)\n",
      "Processing data batches: 100%|██████████| 232/232 [01:02<00:00,  3.70it/s]\n"
     ]
    },
    {
     "name": "stdout",
     "output_type": "stream",
     "text": [
      "Extracting reference embeddings for non_infringement texts...\n"
     ]
    },
    {
     "name": "stderr",
     "output_type": "stream",
     "text": [
      "Processing references: 100%|██████████| 232/232 [00:02<00:00, 94.65it/s] \n"
     ]
    },
    {
     "name": "stdout",
     "output_type": "stream",
     "text": [
      "Extracting hidden states for infringement texts...\n"
     ]
    },
    {
     "name": "stderr",
     "output_type": "stream",
     "text": [
      "Processing data batches: 100%|██████████| 243/243 [01:20<00:00,  3.03it/s]\n"
     ]
    },
    {
     "name": "stdout",
     "output_type": "stream",
     "text": [
      "Extracting reference embeddings for infringement texts...\n"
     ]
    },
    {
     "name": "stderr",
     "output_type": "stream",
     "text": [
      "Processing references: 100%|██████████| 243/243 [00:02<00:00, 106.87it/s]\n"
     ]
    }
   ],
   "source": [
    "print(\"Extracting hidden states for non_infringement texts...\")\n",
    "X_non_infringement = extract_hidden_states(non_infringement_outputs, model, tokenizer)\n",
    "print(\"Extracting reference embeddings for non_infringement texts...\")\n",
    "reference_embeddings_non_infringement = extract_reference_embeddings(non_infringement_references, bert_model, bert_tokenizer)\n",
    "X_non_infringement_combined = np.hstack([X_non_infringement, reference_embeddings_non_infringement])\n",
    "\n",
    "print(\"Extracting hidden states for infringement texts...\")\n",
    "X_infringement = extract_hidden_states(infringement_outputs, model, tokenizer)\n",
    "print(\"Extracting reference embeddings for infringement texts...\")\n",
    "reference_embeddings_infringement = extract_reference_embeddings(infringement_references, bert_model, bert_tokenizer)\n",
    "X_infringement_combined = np.hstack([X_infringement, reference_embeddings_infringement])"
   ]
  },
  {
   "cell_type": "code",
   "execution_count": 8,
   "metadata": {},
   "outputs": [
    {
     "name": "stdout",
     "output_type": "stream",
     "text": [
      "Data successfully split into training and test sets.\n"
     ]
    }
   ],
   "source": [
    "split_index_non_infringement = int(0.8 * len(X_non_infringement_combined))\n",
    "X_non_infringement_train = X_non_infringement_combined[:split_index_non_infringement]\n",
    "X_non_infringement_test = X_non_infringement_combined[split_index_non_infringement:]\n",
    "y_non_infringement_train = y_non_infringement[:split_index_non_infringement]\n",
    "y_non_infringement_test = y_non_infringement[split_index_non_infringement:]\n",
    "\n",
    "split_index_infringement = int(0.8 * len(X_infringement_combined))\n",
    "X_infringement_train = X_infringement_combined[:split_index_infringement]\n",
    "X_infringement_test = X_infringement_combined[split_index_infringement:]\n",
    "y_infringement_train = y_infringement[:split_index_infringement]\n",
    "y_infringement_test = y_infringement[split_index_infringement:]\n",
    "\n",
    "X_train = np.vstack((X_non_infringement_train, X_infringement_train))\n",
    "X_test = np.vstack((X_non_infringement_test, X_infringement_test))\n",
    "y_train = np.concatenate((y_non_infringement_train, y_infringement_train))\n",
    "y_test = np.concatenate((y_non_infringement_test, y_infringement_test))\n",
    "\n",
    "print(\"Data successfully split into training and test sets.\")"
   ]
  },
  {
   "cell_type": "code",
   "execution_count": 9,
   "metadata": {},
   "outputs": [
    {
     "name": "stdout",
     "output_type": "stream",
     "text": [
      "Training MLP model with input_dim=4864 and hidden_dim=256\n"
     ]
    },
    {
     "name": "stderr",
     "output_type": "stream",
     "text": [
      "Training Epochs:   3%|▎         | 15/500 [00:00<00:15, 30.58it/s]"
     ]
    },
    {
     "name": "stdout",
     "output_type": "stream",
     "text": [
      "Epoch 10/500, Loss: 0.6755\n",
      "Test Accuracy at Epoch 10: 65.00%\n",
      "Classification Report at Epoch 10:\n",
      "                  precision    recall  f1-score   support\n",
      "\n",
      "    infringement       0.64      0.73      0.68       194\n",
      "non_infringement       0.67      0.57      0.61       186\n",
      "\n",
      "        accuracy                           0.65       380\n",
      "       macro avg       0.65      0.65      0.65       380\n",
      "    weighted avg       0.65      0.65      0.65       380\n",
      "\n",
      "New best model saved with accuracy 65.00% at epoch 10\n",
      "Best Classification Report at Epoch 10:\n",
      "                  precision    recall  f1-score   support\n",
      "\n",
      "    infringement       0.64      0.73      0.68       194\n",
      "non_infringement       0.67      0.57      0.61       186\n",
      "\n",
      "        accuracy                           0.65       380\n",
      "       macro avg       0.65      0.65      0.65       380\n",
      "    weighted avg       0.65      0.65      0.65       380\n",
      "\n"
     ]
    },
    {
     "name": "stderr",
     "output_type": "stream",
     "text": [
      "Training Epochs:   5%|▌         | 26/500 [00:00<00:11, 39.58it/s]"
     ]
    },
    {
     "name": "stdout",
     "output_type": "stream",
     "text": [
      "Epoch 20/500, Loss: 0.6526\n",
      "Test Accuracy at Epoch 20: 50.53%\n",
      "Classification Report at Epoch 20:\n",
      "                  precision    recall  f1-score   support\n",
      "\n",
      "    infringement       0.55      0.16      0.25       194\n",
      "non_infringement       0.50      0.87      0.63       186\n",
      "\n",
      "        accuracy                           0.51       380\n",
      "       macro avg       0.53      0.51      0.44       380\n",
      "    weighted avg       0.53      0.51      0.44       380\n",
      "\n"
     ]
    },
    {
     "name": "stderr",
     "output_type": "stream",
     "text": [
      "Training Epochs:   7%|▋         | 37/500 [00:01<00:11, 40.65it/s]"
     ]
    },
    {
     "name": "stdout",
     "output_type": "stream",
     "text": [
      "Epoch 30/500, Loss: 0.6016\n",
      "Test Accuracy at Epoch 30: 58.95%\n",
      "Classification Report at Epoch 30:\n",
      "                  precision    recall  f1-score   support\n",
      "\n",
      "    infringement       0.67      0.38      0.49       194\n",
      "non_infringement       0.56      0.81      0.66       186\n",
      "\n",
      "        accuracy                           0.59       380\n",
      "       macro avg       0.61      0.59      0.57       380\n",
      "    weighted avg       0.62      0.59      0.57       380\n",
      "\n"
     ]
    },
    {
     "name": "stderr",
     "output_type": "stream",
     "text": [
      "Training Epochs:   8%|▊         | 42/500 [00:01<00:10, 42.00it/s]"
     ]
    },
    {
     "name": "stdout",
     "output_type": "stream",
     "text": [
      "Epoch 40/500, Loss: 0.5633\n",
      "Test Accuracy at Epoch 40: 60.00%\n",
      "Classification Report at Epoch 40:\n",
      "                  precision    recall  f1-score   support\n",
      "\n",
      "    infringement       0.89      0.25      0.39       194\n",
      "non_infringement       0.55      0.97      0.70       186\n",
      "\n",
      "        accuracy                           0.60       380\n",
      "       macro avg       0.72      0.61      0.55       380\n",
      "    weighted avg       0.72      0.60      0.54       380\n",
      "\n"
     ]
    },
    {
     "name": "stderr",
     "output_type": "stream",
     "text": [
      "Training Epochs:  12%|█▏        | 58/500 [00:01<00:09, 44.40it/s]"
     ]
    },
    {
     "name": "stdout",
     "output_type": "stream",
     "text": [
      "Epoch 50/500, Loss: 0.5143\n",
      "Test Accuracy at Epoch 50: 64.47%\n",
      "Classification Report at Epoch 50:\n",
      "                  precision    recall  f1-score   support\n",
      "\n",
      "    infringement       0.80      0.41      0.54       194\n",
      "non_infringement       0.59      0.89      0.71       186\n",
      "\n",
      "        accuracy                           0.64       380\n",
      "       macro avg       0.69      0.65      0.63       380\n",
      "    weighted avg       0.70      0.64      0.62       380\n",
      "\n",
      "Epoch 60/500, Loss: 0.4837\n"
     ]
    },
    {
     "name": "stderr",
     "output_type": "stream",
     "text": [
      "Training Epochs:  13%|█▎        | 63/500 [00:01<00:11, 38.09it/s]"
     ]
    },
    {
     "name": "stdout",
     "output_type": "stream",
     "text": [
      "Test Accuracy at Epoch 60: 62.89%\n",
      "Classification Report at Epoch 60:\n",
      "                  precision    recall  f1-score   support\n",
      "\n",
      "    infringement       0.80      0.37      0.50       194\n",
      "non_infringement       0.58      0.90      0.70       186\n",
      "\n",
      "        accuracy                           0.63       380\n",
      "       macro avg       0.69      0.63      0.60       380\n",
      "    weighted avg       0.69      0.63      0.60       380\n",
      "\n"
     ]
    },
    {
     "name": "stderr",
     "output_type": "stream",
     "text": [
      "Training Epochs:  15%|█▍        | 73/500 [00:02<00:13, 30.72it/s]"
     ]
    },
    {
     "name": "stdout",
     "output_type": "stream",
     "text": [
      "Epoch 70/500, Loss: 0.4704\n",
      "Test Accuracy at Epoch 70: 58.95%\n",
      "Classification Report at Epoch 70:\n",
      "                  precision    recall  f1-score   support\n",
      "\n",
      "    infringement       0.80      0.26      0.40       194\n",
      "non_infringement       0.55      0.93      0.69       186\n",
      "\n",
      "        accuracy                           0.59       380\n",
      "       macro avg       0.67      0.60      0.54       380\n",
      "    weighted avg       0.67      0.59      0.54       380\n",
      "\n"
     ]
    },
    {
     "name": "stderr",
     "output_type": "stream",
     "text": [
      "Training Epochs:  16%|█▌        | 80/500 [00:02<00:18, 22.82it/s]"
     ]
    },
    {
     "name": "stdout",
     "output_type": "stream",
     "text": [
      "Epoch 80/500, Loss: 0.4242\n",
      "Test Accuracy at Epoch 80: 60.26%\n",
      "Classification Report at Epoch 80:\n",
      "                  precision    recall  f1-score   support\n",
      "\n",
      "    infringement       0.81      0.29      0.43       194\n",
      "non_infringement       0.56      0.93      0.70       186\n",
      "\n",
      "        accuracy                           0.60       380\n",
      "       macro avg       0.68      0.61      0.56       380\n",
      "    weighted avg       0.69      0.60      0.56       380\n",
      "\n"
     ]
    },
    {
     "name": "stderr",
     "output_type": "stream",
     "text": [
      "Training Epochs:  19%|█▉        | 95/500 [00:03<00:15, 26.77it/s]"
     ]
    },
    {
     "name": "stdout",
     "output_type": "stream",
     "text": [
      "Epoch 90/500, Loss: 0.3862\n",
      "Test Accuracy at Epoch 90: 63.68%\n",
      "Classification Report at Epoch 90:\n",
      "                  precision    recall  f1-score   support\n",
      "\n",
      "    infringement       0.83      0.37      0.51       194\n",
      "non_infringement       0.58      0.92      0.71       186\n",
      "\n",
      "        accuracy                           0.64       380\n",
      "       macro avg       0.70      0.64      0.61       380\n",
      "    weighted avg       0.71      0.64      0.61       380\n",
      "\n"
     ]
    },
    {
     "name": "stderr",
     "output_type": "stream",
     "text": [
      "Training Epochs:  20%|██        | 102/500 [00:03<00:15, 26.15it/s]"
     ]
    },
    {
     "name": "stdout",
     "output_type": "stream",
     "text": [
      "Epoch 100/500, Loss: 0.3959\n",
      "Test Accuracy at Epoch 100: 77.63%\n",
      "Classification Report at Epoch 100:\n",
      "                  precision    recall  f1-score   support\n",
      "\n",
      "    infringement       0.80      0.75      0.77       194\n",
      "non_infringement       0.75      0.81      0.78       186\n",
      "\n",
      "        accuracy                           0.78       380\n",
      "       macro avg       0.78      0.78      0.78       380\n",
      "    weighted avg       0.78      0.78      0.78       380\n",
      "\n",
      "New best model saved with accuracy 77.63% at epoch 100\n",
      "Best Classification Report at Epoch 100:\n",
      "                  precision    recall  f1-score   support\n",
      "\n",
      "    infringement       0.80      0.75      0.77       194\n",
      "non_infringement       0.75      0.81      0.78       186\n",
      "\n",
      "        accuracy                           0.78       380\n",
      "       macro avg       0.78      0.78      0.78       380\n",
      "    weighted avg       0.78      0.78      0.78       380\n",
      "\n"
     ]
    },
    {
     "name": "stderr",
     "output_type": "stream",
     "text": [
      "Training Epochs:  22%|██▏       | 111/500 [00:03<00:17, 22.40it/s]"
     ]
    },
    {
     "name": "stdout",
     "output_type": "stream",
     "text": [
      "Epoch 110/500, Loss: 0.3511\n",
      "Test Accuracy at Epoch 110: 75.79%\n",
      "Classification Report at Epoch 110:\n",
      "                  precision    recall  f1-score   support\n",
      "\n",
      "    infringement       0.86      0.63      0.73       194\n",
      "non_infringement       0.70      0.89      0.78       186\n",
      "\n",
      "        accuracy                           0.76       380\n",
      "       macro avg       0.78      0.76      0.75       380\n",
      "    weighted avg       0.78      0.76      0.75       380\n",
      "\n"
     ]
    },
    {
     "name": "stderr",
     "output_type": "stream",
     "text": [
      "Training Epochs:  25%|██▍       | 124/500 [00:04<00:12, 29.21it/s]"
     ]
    },
    {
     "name": "stdout",
     "output_type": "stream",
     "text": [
      "Epoch 120/500, Loss: 0.3279\n",
      "Test Accuracy at Epoch 120: 71.05%\n",
      "Classification Report at Epoch 120:\n",
      "                  precision    recall  f1-score   support\n",
      "\n",
      "    infringement       0.86      0.52      0.65       194\n",
      "non_infringement       0.64      0.91      0.76       186\n",
      "\n",
      "        accuracy                           0.71       380\n",
      "       macro avg       0.75      0.71      0.70       380\n",
      "    weighted avg       0.76      0.71      0.70       380\n",
      "\n"
     ]
    },
    {
     "name": "stderr",
     "output_type": "stream",
     "text": [
      "Training Epochs:  27%|██▋       | 133/500 [00:04<00:12, 29.46it/s]"
     ]
    },
    {
     "name": "stdout",
     "output_type": "stream",
     "text": [
      "Epoch 130/500, Loss: 0.3310\n",
      "Test Accuracy at Epoch 130: 78.95%\n",
      "Classification Report at Epoch 130:\n",
      "                  precision    recall  f1-score   support\n",
      "\n",
      "    infringement       0.81      0.77      0.79       194\n",
      "non_infringement       0.77      0.81      0.79       186\n",
      "\n",
      "        accuracy                           0.79       380\n",
      "       macro avg       0.79      0.79      0.79       380\n",
      "    weighted avg       0.79      0.79      0.79       380\n",
      "\n",
      "New best model saved with accuracy 78.95% at epoch 130\n",
      "Best Classification Report at Epoch 130:\n",
      "                  precision    recall  f1-score   support\n",
      "\n",
      "    infringement       0.81      0.77      0.79       194\n",
      "non_infringement       0.77      0.81      0.79       186\n",
      "\n",
      "        accuracy                           0.79       380\n",
      "       macro avg       0.79      0.79      0.79       380\n",
      "    weighted avg       0.79      0.79      0.79       380\n",
      "\n"
     ]
    },
    {
     "name": "stderr",
     "output_type": "stream",
     "text": [
      "Training Epochs:  28%|██▊       | 142/500 [00:04<00:11, 32.13it/s]"
     ]
    },
    {
     "name": "stdout",
     "output_type": "stream",
     "text": [
      "Epoch 140/500, Loss: 0.3245\n",
      "Test Accuracy at Epoch 140: 70.26%\n",
      "Classification Report at Epoch 140:\n",
      "                  precision    recall  f1-score   support\n",
      "\n",
      "    infringement       0.87      0.49      0.63       194\n",
      "non_infringement       0.63      0.92      0.75       186\n",
      "\n",
      "        accuracy                           0.70       380\n",
      "       macro avg       0.75      0.71      0.69       380\n",
      "    weighted avg       0.76      0.70      0.69       380\n",
      "\n"
     ]
    },
    {
     "name": "stderr",
     "output_type": "stream",
     "text": [
      "Training Epochs:  31%|███       | 154/500 [00:05<00:10, 32.73it/s]"
     ]
    },
    {
     "name": "stdout",
     "output_type": "stream",
     "text": [
      "Epoch 150/500, Loss: 0.2898\n",
      "Test Accuracy at Epoch 150: 72.63%\n",
      "Classification Report at Epoch 150:\n",
      "                  precision    recall  f1-score   support\n",
      "\n",
      "    infringement       0.87      0.55      0.67       194\n",
      "non_infringement       0.66      0.91      0.77       186\n",
      "\n",
      "        accuracy                           0.73       380\n",
      "       macro avg       0.76      0.73      0.72       380\n",
      "    weighted avg       0.77      0.73      0.72       380\n",
      "\n"
     ]
    },
    {
     "name": "stderr",
     "output_type": "stream",
     "text": [
      "Training Epochs:  32%|███▏      | 162/500 [00:05<00:11, 28.94it/s]"
     ]
    },
    {
     "name": "stdout",
     "output_type": "stream",
     "text": [
      "Epoch 160/500, Loss: 0.3053\n",
      "Test Accuracy at Epoch 160: 78.68%\n",
      "Classification Report at Epoch 160:\n",
      "                  precision    recall  f1-score   support\n",
      "\n",
      "    infringement       0.80      0.78      0.79       194\n",
      "non_infringement       0.77      0.80      0.79       186\n",
      "\n",
      "        accuracy                           0.79       380\n",
      "       macro avg       0.79      0.79      0.79       380\n",
      "    weighted avg       0.79      0.79      0.79       380\n",
      "\n"
     ]
    },
    {
     "name": "stderr",
     "output_type": "stream",
     "text": [
      "Training Epochs:  35%|███▌      | 176/500 [00:05<00:09, 34.55it/s]"
     ]
    },
    {
     "name": "stdout",
     "output_type": "stream",
     "text": [
      "Epoch 170/500, Loss: 0.2774\n",
      "Test Accuracy at Epoch 170: 72.63%\n",
      "Classification Report at Epoch 170:\n",
      "                  precision    recall  f1-score   support\n",
      "\n",
      "    infringement       0.94      0.49      0.65       194\n",
      "non_infringement       0.65      0.97      0.78       186\n",
      "\n",
      "        accuracy                           0.73       380\n",
      "       macro avg       0.79      0.73      0.71       380\n",
      "    weighted avg       0.80      0.73      0.71       380\n",
      "\n"
     ]
    },
    {
     "name": "stderr",
     "output_type": "stream",
     "text": [
      "Training Epochs:  37%|███▋      | 184/500 [00:06<00:10, 29.40it/s]"
     ]
    },
    {
     "name": "stdout",
     "output_type": "stream",
     "text": [
      "Epoch 180/500, Loss: 0.2693\n",
      "Test Accuracy at Epoch 180: 73.68%\n",
      "Classification Report at Epoch 180:\n",
      "                  precision    recall  f1-score   support\n",
      "\n",
      "    infringement       0.86      0.58      0.69       194\n",
      "non_infringement       0.67      0.90      0.77       186\n",
      "\n",
      "        accuracy                           0.74       380\n",
      "       macro avg       0.77      0.74      0.73       380\n",
      "    weighted avg       0.77      0.74      0.73       380\n",
      "\n"
     ]
    },
    {
     "name": "stderr",
     "output_type": "stream",
     "text": [
      "Training Epochs:  39%|███▊      | 193/500 [00:06<00:09, 31.99it/s]"
     ]
    },
    {
     "name": "stdout",
     "output_type": "stream",
     "text": [
      "Epoch 190/500, Loss: 0.2720\n",
      "Test Accuracy at Epoch 190: 71.84%\n",
      "Classification Report at Epoch 190:\n",
      "                  precision    recall  f1-score   support\n",
      "\n",
      "    infringement       0.95      0.47      0.63       194\n",
      "non_infringement       0.64      0.97      0.77       186\n",
      "\n",
      "        accuracy                           0.72       380\n",
      "       macro avg       0.79      0.72      0.70       380\n",
      "    weighted avg       0.80      0.72      0.70       380\n",
      "\n"
     ]
    },
    {
     "name": "stderr",
     "output_type": "stream",
     "text": [
      "Training Epochs:  41%|████▏     | 207/500 [00:06<00:08, 35.15it/s]"
     ]
    },
    {
     "name": "stdout",
     "output_type": "stream",
     "text": [
      "Epoch 200/500, Loss: 0.2609\n",
      "Test Accuracy at Epoch 200: 80.26%\n",
      "Classification Report at Epoch 200:\n",
      "                  precision    recall  f1-score   support\n",
      "\n",
      "    infringement       0.87      0.73      0.79       194\n",
      "non_infringement       0.76      0.88      0.81       186\n",
      "\n",
      "        accuracy                           0.80       380\n",
      "       macro avg       0.81      0.80      0.80       380\n",
      "    weighted avg       0.81      0.80      0.80       380\n",
      "\n",
      "New best model saved with accuracy 80.26% at epoch 200\n",
      "Best Classification Report at Epoch 200:\n",
      "                  precision    recall  f1-score   support\n",
      "\n",
      "    infringement       0.87      0.73      0.79       194\n",
      "non_infringement       0.76      0.88      0.81       186\n",
      "\n",
      "        accuracy                           0.80       380\n",
      "       macro avg       0.81      0.80      0.80       380\n",
      "    weighted avg       0.81      0.80      0.80       380\n",
      "\n"
     ]
    },
    {
     "name": "stderr",
     "output_type": "stream",
     "text": [
      "Training Epochs:  43%|████▎     | 217/500 [00:07<00:07, 36.37it/s]"
     ]
    },
    {
     "name": "stdout",
     "output_type": "stream",
     "text": [
      "Epoch 210/500, Loss: 0.2599\n",
      "Test Accuracy at Epoch 210: 73.68%\n",
      "Classification Report at Epoch 210:\n",
      "                  precision    recall  f1-score   support\n",
      "\n",
      "    infringement       0.95      0.51      0.66       194\n",
      "non_infringement       0.66      0.97      0.78       186\n",
      "\n",
      "        accuracy                           0.74       380\n",
      "       macro avg       0.80      0.74      0.72       380\n",
      "    weighted avg       0.81      0.74      0.72       380\n",
      "\n"
     ]
    },
    {
     "name": "stderr",
     "output_type": "stream",
     "text": [
      "Training Epochs:  44%|████▍     | 221/500 [00:07<00:09, 30.53it/s]"
     ]
    },
    {
     "name": "stdout",
     "output_type": "stream",
     "text": [
      "Epoch 220/500, Loss: 0.2769\n",
      "Test Accuracy at Epoch 220: 81.58%\n",
      "Classification Report at Epoch 220:\n",
      "                  precision    recall  f1-score   support\n",
      "\n",
      "    infringement       0.84      0.78      0.81       194\n",
      "non_infringement       0.79      0.85      0.82       186\n",
      "\n",
      "        accuracy                           0.82       380\n",
      "       macro avg       0.82      0.82      0.82       380\n",
      "    weighted avg       0.82      0.82      0.82       380\n",
      "\n",
      "New best model saved with accuracy 81.58% at epoch 220\n",
      "Best Classification Report at Epoch 220:\n",
      "                  precision    recall  f1-score   support\n",
      "\n",
      "    infringement       0.84      0.78      0.81       194\n",
      "non_infringement       0.79      0.85      0.82       186\n",
      "\n",
      "        accuracy                           0.82       380\n",
      "       macro avg       0.82      0.82      0.82       380\n",
      "    weighted avg       0.82      0.82      0.82       380\n",
      "\n"
     ]
    },
    {
     "name": "stderr",
     "output_type": "stream",
     "text": [
      "Training Epochs:  47%|████▋     | 236/500 [00:07<00:06, 39.76it/s]"
     ]
    },
    {
     "name": "stdout",
     "output_type": "stream",
     "text": [
      "Epoch 230/500, Loss: 0.2676\n",
      "Test Accuracy at Epoch 230: 71.58%\n",
      "Classification Report at Epoch 230:\n",
      "                  precision    recall  f1-score   support\n",
      "\n",
      "    infringement       0.94      0.47      0.63       194\n",
      "non_infringement       0.64      0.97      0.77       186\n",
      "\n",
      "        accuracy                           0.72       380\n",
      "       macro avg       0.79      0.72      0.70       380\n",
      "    weighted avg       0.79      0.72      0.70       380\n",
      "\n"
     ]
    },
    {
     "name": "stderr",
     "output_type": "stream",
     "text": [
      "Training Epochs:  49%|████▉     | 246/500 [00:07<00:06, 37.11it/s]"
     ]
    },
    {
     "name": "stdout",
     "output_type": "stream",
     "text": [
      "Epoch 240/500, Loss: 0.2546\n",
      "Test Accuracy at Epoch 240: 73.95%\n",
      "Classification Report at Epoch 240:\n",
      "                  precision    recall  f1-score   support\n",
      "\n",
      "    infringement       0.89      0.56      0.69       194\n",
      "non_infringement       0.67      0.92      0.78       186\n",
      "\n",
      "        accuracy                           0.74       380\n",
      "       macro avg       0.78      0.74      0.73       380\n",
      "    weighted avg       0.78      0.74      0.73       380\n",
      "\n"
     ]
    },
    {
     "name": "stderr",
     "output_type": "stream",
     "text": [
      "Training Epochs:  50%|█████     | 251/500 [00:08<00:07, 34.14it/s]"
     ]
    },
    {
     "name": "stdout",
     "output_type": "stream",
     "text": [
      "Epoch 250/500, Loss: 0.2312\n",
      "Test Accuracy at Epoch 250: 74.47%\n",
      "Classification Report at Epoch 250:\n",
      "                  precision    recall  f1-score   support\n",
      "\n",
      "    infringement       0.89      0.57      0.70       194\n",
      "non_infringement       0.67      0.92      0.78       186\n",
      "\n",
      "        accuracy                           0.74       380\n",
      "       macro avg       0.78      0.75      0.74       380\n",
      "    weighted avg       0.78      0.74      0.74       380\n",
      "\n"
     ]
    },
    {
     "name": "stderr",
     "output_type": "stream",
     "text": [
      "Training Epochs:  52%|█████▏    | 261/500 [00:08<00:06, 38.21it/s]"
     ]
    },
    {
     "name": "stdout",
     "output_type": "stream",
     "text": [
      "Epoch 260/500, Loss: 0.2258\n",
      "Test Accuracy at Epoch 260: 73.42%\n",
      "Classification Report at Epoch 260:\n",
      "                  precision    recall  f1-score   support\n",
      "\n",
      "    infringement       0.94      0.51      0.66       194\n",
      "non_infringement       0.65      0.97      0.78       186\n",
      "\n",
      "        accuracy                           0.73       380\n",
      "       macro avg       0.80      0.74      0.72       380\n",
      "    weighted avg       0.80      0.73      0.72       380\n",
      "\n"
     ]
    },
    {
     "name": "stderr",
     "output_type": "stream",
     "text": [
      "Training Epochs:  55%|█████▍    | 274/500 [00:08<00:06, 34.93it/s]"
     ]
    },
    {
     "name": "stdout",
     "output_type": "stream",
     "text": [
      "Epoch 270/500, Loss: 0.2208\n",
      "Test Accuracy at Epoch 270: 73.68%\n",
      "Classification Report at Epoch 270:\n",
      "                  precision    recall  f1-score   support\n",
      "\n",
      "    infringement       0.92      0.53      0.67       194\n",
      "non_infringement       0.66      0.95      0.78       186\n",
      "\n",
      "        accuracy                           0.74       380\n",
      "       macro avg       0.79      0.74      0.73       380\n",
      "    weighted avg       0.79      0.74      0.73       380\n",
      "\n"
     ]
    },
    {
     "name": "stderr",
     "output_type": "stream",
     "text": [
      "Training Epochs:  56%|█████▋    | 282/500 [00:09<00:07, 31.07it/s]"
     ]
    },
    {
     "name": "stdout",
     "output_type": "stream",
     "text": [
      "Epoch 280/500, Loss: 0.2227\n",
      "Test Accuracy at Epoch 280: 72.11%\n",
      "Classification Report at Epoch 280:\n",
      "                  precision    recall  f1-score   support\n",
      "\n",
      "    infringement       0.95      0.48      0.64       194\n",
      "non_infringement       0.64      0.97      0.77       186\n",
      "\n",
      "        accuracy                           0.72       380\n",
      "       macro avg       0.80      0.73      0.71       380\n",
      "    weighted avg       0.80      0.72      0.70       380\n",
      "\n"
     ]
    },
    {
     "name": "stderr",
     "output_type": "stream",
     "text": [
      "Training Epochs:  58%|█████▊    | 292/500 [00:09<00:06, 31.93it/s]"
     ]
    },
    {
     "name": "stdout",
     "output_type": "stream",
     "text": [
      "Epoch 290/500, Loss: 0.2637\n",
      "Test Accuracy at Epoch 290: 71.05%\n",
      "Classification Report at Epoch 290:\n",
      "                  precision    recall  f1-score   support\n",
      "\n",
      "    infringement       0.95      0.46      0.62       194\n",
      "non_infringement       0.63      0.97      0.77       186\n",
      "\n",
      "        accuracy                           0.71       380\n",
      "       macro avg       0.79      0.72      0.69       380\n",
      "    weighted avg       0.79      0.71      0.69       380\n",
      "\n"
     ]
    },
    {
     "name": "stderr",
     "output_type": "stream",
     "text": [
      "Training Epochs:  60%|██████    | 301/500 [00:09<00:05, 33.97it/s]"
     ]
    },
    {
     "name": "stdout",
     "output_type": "stream",
     "text": [
      "Epoch 300/500, Loss: 0.2188\n",
      "Test Accuracy at Epoch 300: 72.37%\n",
      "Classification Report at Epoch 300:\n",
      "                  precision    recall  f1-score   support\n",
      "\n",
      "    infringement       0.95      0.48      0.64       194\n",
      "non_infringement       0.64      0.97      0.78       186\n",
      "\n",
      "        accuracy                           0.72       380\n",
      "       macro avg       0.80      0.73      0.71       380\n",
      "    weighted avg       0.80      0.72      0.71       380\n",
      "\n"
     ]
    },
    {
     "name": "stderr",
     "output_type": "stream",
     "text": [
      "Training Epochs:  63%|██████▎   | 316/500 [00:10<00:04, 38.96it/s]"
     ]
    },
    {
     "name": "stdout",
     "output_type": "stream",
     "text": [
      "Epoch 310/500, Loss: 0.2136\n",
      "Test Accuracy at Epoch 310: 72.89%\n",
      "Classification Report at Epoch 310:\n",
      "                  precision    recall  f1-score   support\n",
      "\n",
      "    infringement       0.91      0.52      0.66       194\n",
      "non_infringement       0.65      0.95      0.77       186\n",
      "\n",
      "        accuracy                           0.73       380\n",
      "       macro avg       0.78      0.73      0.72       380\n",
      "    weighted avg       0.78      0.73      0.72       380\n",
      "\n"
     ]
    },
    {
     "name": "stderr",
     "output_type": "stream",
     "text": [
      "Training Epochs:  64%|██████▍   | 321/500 [00:10<00:05, 30.72it/s]"
     ]
    },
    {
     "name": "stdout",
     "output_type": "stream",
     "text": [
      "Epoch 320/500, Loss: 0.2121\n",
      "Test Accuracy at Epoch 320: 73.42%\n",
      "Classification Report at Epoch 320:\n",
      "                  precision    recall  f1-score   support\n",
      "\n",
      "    infringement       0.90      0.54      0.68       194\n",
      "non_infringement       0.66      0.94      0.78       186\n",
      "\n",
      "        accuracy                           0.73       380\n",
      "       macro avg       0.78      0.74      0.73       380\n",
      "    weighted avg       0.78      0.73      0.72       380\n",
      "\n"
     ]
    },
    {
     "name": "stderr",
     "output_type": "stream",
     "text": [
      "Training Epochs:  66%|██████▌   | 331/500 [00:10<00:05, 31.69it/s]"
     ]
    },
    {
     "name": "stdout",
     "output_type": "stream",
     "text": [
      "Epoch 330/500, Loss: 0.2053\n",
      "Test Accuracy at Epoch 330: 73.42%\n",
      "Classification Report at Epoch 330:\n",
      "                  precision    recall  f1-score   support\n",
      "\n",
      "    infringement       0.90      0.54      0.68       194\n",
      "non_infringement       0.66      0.94      0.78       186\n",
      "\n",
      "        accuracy                           0.73       380\n",
      "       macro avg       0.78      0.74      0.73       380\n",
      "    weighted avg       0.78      0.73      0.72       380\n",
      "\n"
     ]
    },
    {
     "name": "stderr",
     "output_type": "stream",
     "text": [
      "Training Epochs:  69%|██████▉   | 346/500 [00:10<00:03, 39.83it/s]"
     ]
    },
    {
     "name": "stdout",
     "output_type": "stream",
     "text": [
      "Epoch 340/500, Loss: 0.2016\n",
      "Test Accuracy at Epoch 340: 73.68%\n",
      "Classification Report at Epoch 340:\n",
      "                  precision    recall  f1-score   support\n",
      "\n",
      "    infringement       0.90      0.55      0.68       194\n",
      "non_infringement       0.66      0.94      0.78       186\n",
      "\n",
      "        accuracy                           0.74       380\n",
      "       macro avg       0.78      0.74      0.73       380\n",
      "    weighted avg       0.78      0.74      0.73       380\n",
      "\n"
     ]
    },
    {
     "name": "stderr",
     "output_type": "stream",
     "text": [
      "Training Epochs:  71%|███████   | 355/500 [00:11<00:04, 34.22it/s]"
     ]
    },
    {
     "name": "stdout",
     "output_type": "stream",
     "text": [
      "Epoch 350/500, Loss: 0.1976\n",
      "Test Accuracy at Epoch 350: 73.16%\n",
      "Classification Report at Epoch 350:\n",
      "                  precision    recall  f1-score   support\n",
      "\n",
      "    infringement       0.90      0.53      0.67       194\n",
      "non_infringement       0.66      0.94      0.77       186\n",
      "\n",
      "        accuracy                           0.73       380\n",
      "       macro avg       0.78      0.74      0.72       380\n",
      "    weighted avg       0.78      0.73      0.72       380\n",
      "\n"
     ]
    },
    {
     "name": "stderr",
     "output_type": "stream",
     "text": [
      "Training Epochs:  73%|███████▎  | 363/500 [00:11<00:04, 28.08it/s]"
     ]
    },
    {
     "name": "stdout",
     "output_type": "stream",
     "text": [
      "Epoch 360/500, Loss: 0.3806\n",
      "Test Accuracy at Epoch 360: 67.63%\n",
      "Classification Report at Epoch 360:\n",
      "                  precision    recall  f1-score   support\n",
      "\n",
      "    infringement       0.96      0.38      0.55       194\n",
      "non_infringement       0.60      0.98      0.75       186\n",
      "\n",
      "        accuracy                           0.68       380\n",
      "       macro avg       0.78      0.68      0.65       380\n",
      "    weighted avg       0.79      0.68      0.65       380\n",
      "\n"
     ]
    },
    {
     "name": "stderr",
     "output_type": "stream",
     "text": [
      "Training Epochs:  75%|███████▍  | 373/500 [00:11<00:03, 31.81it/s]"
     ]
    },
    {
     "name": "stdout",
     "output_type": "stream",
     "text": [
      "Epoch 370/500, Loss: 0.2848\n",
      "Test Accuracy at Epoch 370: 74.21%\n",
      "Classification Report at Epoch 370:\n",
      "                  precision    recall  f1-score   support\n",
      "\n",
      "    infringement       0.88      0.58      0.70       194\n",
      "non_infringement       0.67      0.91      0.78       186\n",
      "\n",
      "        accuracy                           0.74       380\n",
      "       macro avg       0.77      0.75      0.74       380\n",
      "    weighted avg       0.78      0.74      0.74       380\n",
      "\n"
     ]
    },
    {
     "name": "stderr",
     "output_type": "stream",
     "text": [
      "Training Epochs:  77%|███████▋  | 384/500 [00:12<00:02, 38.89it/s]"
     ]
    },
    {
     "name": "stdout",
     "output_type": "stream",
     "text": [
      "Epoch 380/500, Loss: 0.2360\n",
      "Test Accuracy at Epoch 380: 73.95%\n",
      "Classification Report at Epoch 380:\n",
      "                  precision    recall  f1-score   support\n",
      "\n",
      "    infringement       0.90      0.55      0.68       194\n",
      "non_infringement       0.67      0.94      0.78       186\n",
      "\n",
      "        accuracy                           0.74       380\n",
      "       macro avg       0.78      0.74      0.73       380\n",
      "    weighted avg       0.79      0.74      0.73       380\n",
      "\n"
     ]
    },
    {
     "name": "stderr",
     "output_type": "stream",
     "text": [
      "Training Epochs:  79%|███████▉  | 394/500 [00:12<00:02, 40.01it/s]"
     ]
    },
    {
     "name": "stdout",
     "output_type": "stream",
     "text": [
      "Epoch 390/500, Loss: 0.2074\n",
      "Test Accuracy at Epoch 390: 72.63%\n",
      "Classification Report at Epoch 390:\n",
      "                  precision    recall  f1-score   support\n",
      "\n",
      "    infringement       0.89      0.53      0.66       194\n",
      "non_infringement       0.65      0.94      0.77       186\n",
      "\n",
      "        accuracy                           0.73       380\n",
      "       macro avg       0.77      0.73      0.72       380\n",
      "    weighted avg       0.78      0.73      0.71       380\n",
      "\n",
      "Epoch 400/500, Loss: 0.1962\n"
     ]
    },
    {
     "name": "stderr",
     "output_type": "stream",
     "text": [
      "Training Epochs:  81%|████████  | 405/500 [00:12<00:02, 38.90it/s]"
     ]
    },
    {
     "name": "stdout",
     "output_type": "stream",
     "text": [
      "Test Accuracy at Epoch 400: 72.37%\n",
      "Classification Report at Epoch 400:\n",
      "                  precision    recall  f1-score   support\n",
      "\n",
      "    infringement       0.90      0.52      0.66       194\n",
      "non_infringement       0.65      0.94      0.77       186\n",
      "\n",
      "        accuracy                           0.72       380\n",
      "       macro avg       0.78      0.73      0.71       380\n",
      "    weighted avg       0.78      0.72      0.71       380\n",
      "\n"
     ]
    },
    {
     "name": "stderr",
     "output_type": "stream",
     "text": [
      "Training Epochs:  83%|████████▎ | 416/500 [00:12<00:01, 44.06it/s]"
     ]
    },
    {
     "name": "stdout",
     "output_type": "stream",
     "text": [
      "Epoch 410/500, Loss: 0.1929\n",
      "Test Accuracy at Epoch 410: 72.89%\n",
      "Classification Report at Epoch 410:\n",
      "                  precision    recall  f1-score   support\n",
      "\n",
      "    infringement       0.90      0.53      0.67       194\n",
      "non_infringement       0.66      0.94      0.77       186\n",
      "\n",
      "        accuracy                           0.73       380\n",
      "       macro avg       0.78      0.73      0.72       380\n",
      "    weighted avg       0.78      0.73      0.72       380\n",
      "\n",
      "Epoch 420/500, Loss: 0.1883\n"
     ]
    },
    {
     "name": "stderr",
     "output_type": "stream",
     "text": [
      "Training Epochs:  85%|████████▌ | 426/500 [00:13<00:01, 40.14it/s]"
     ]
    },
    {
     "name": "stdout",
     "output_type": "stream",
     "text": [
      "Test Accuracy at Epoch 420: 72.89%\n",
      "Classification Report at Epoch 420:\n",
      "                  precision    recall  f1-score   support\n",
      "\n",
      "    infringement       0.90      0.53      0.67       194\n",
      "non_infringement       0.66      0.94      0.77       186\n",
      "\n",
      "        accuracy                           0.73       380\n",
      "       macro avg       0.78      0.73      0.72       380\n",
      "    weighted avg       0.78      0.73      0.72       380\n",
      "\n"
     ]
    },
    {
     "name": "stderr",
     "output_type": "stream",
     "text": [
      "Training Epochs:  87%|████████▋ | 435/500 [00:13<00:01, 35.27it/s]"
     ]
    },
    {
     "name": "stdout",
     "output_type": "stream",
     "text": [
      "Epoch 430/500, Loss: 0.1855\n",
      "Test Accuracy at Epoch 430: 72.89%\n",
      "Classification Report at Epoch 430:\n",
      "                  precision    recall  f1-score   support\n",
      "\n",
      "    infringement       0.91      0.52      0.66       194\n",
      "non_infringement       0.65      0.95      0.77       186\n",
      "\n",
      "        accuracy                           0.73       380\n",
      "       macro avg       0.78      0.73      0.72       380\n",
      "    weighted avg       0.78      0.73      0.72       380\n",
      "\n"
     ]
    },
    {
     "name": "stderr",
     "output_type": "stream",
     "text": [
      "Training Epochs:  90%|████████▉ | 449/500 [00:13<00:01, 40.32it/s]"
     ]
    },
    {
     "name": "stdout",
     "output_type": "stream",
     "text": [
      "Epoch 440/500, Loss: 0.1827\n",
      "Test Accuracy at Epoch 440: 72.89%\n",
      "Classification Report at Epoch 440:\n",
      "                  precision    recall  f1-score   support\n",
      "\n",
      "    infringement       0.91      0.52      0.66       194\n",
      "non_infringement       0.65      0.95      0.77       186\n",
      "\n",
      "        accuracy                           0.73       380\n",
      "       macro avg       0.78      0.73      0.72       380\n",
      "    weighted avg       0.78      0.73      0.72       380\n",
      "\n"
     ]
    },
    {
     "name": "stderr",
     "output_type": "stream",
     "text": [
      "Training Epochs:  91%|█████████ | 454/500 [00:13<00:01, 37.64it/s]"
     ]
    },
    {
     "name": "stdout",
     "output_type": "stream",
     "text": [
      "Epoch 450/500, Loss: 0.1816\n",
      "Test Accuracy at Epoch 450: 73.16%\n",
      "Classification Report at Epoch 450:\n",
      "                  precision    recall  f1-score   support\n",
      "\n",
      "    infringement       0.93      0.51      0.66       194\n",
      "non_infringement       0.65      0.96      0.78       186\n",
      "\n",
      "        accuracy                           0.73       380\n",
      "       macro avg       0.79      0.74      0.72       380\n",
      "    weighted avg       0.80      0.73      0.72       380\n",
      "\n"
     ]
    },
    {
     "name": "stderr",
     "output_type": "stream",
     "text": [
      "Training Epochs:  93%|█████████▎| 466/500 [00:14<00:00, 43.79it/s]"
     ]
    },
    {
     "name": "stdout",
     "output_type": "stream",
     "text": [
      "Epoch 460/500, Loss: 0.2085\n",
      "Test Accuracy at Epoch 460: 74.47%\n",
      "Classification Report at Epoch 460:\n",
      "                  precision    recall  f1-score   support\n",
      "\n",
      "    infringement       0.87      0.59      0.70       194\n",
      "non_infringement       0.68      0.91      0.78       186\n",
      "\n",
      "        accuracy                           0.74       380\n",
      "       macro avg       0.77      0.75      0.74       380\n",
      "    weighted avg       0.78      0.74      0.74       380\n",
      "\n"
     ]
    },
    {
     "name": "stderr",
     "output_type": "stream",
     "text": [
      "Training Epochs:  95%|█████████▌| 477/500 [00:14<00:00, 43.45it/s]"
     ]
    },
    {
     "name": "stdout",
     "output_type": "stream",
     "text": [
      "Epoch 470/500, Loss: 0.2030\n",
      "Test Accuracy at Epoch 470: 72.37%\n",
      "Classification Report at Epoch 470:\n",
      "                  precision    recall  f1-score   support\n",
      "\n",
      "    infringement       0.93      0.49      0.65       194\n",
      "non_infringement       0.65      0.96      0.77       186\n",
      "\n",
      "        accuracy                           0.72       380\n",
      "       macro avg       0.79      0.73      0.71       380\n",
      "    weighted avg       0.79      0.72      0.71       380\n",
      "\n",
      "Epoch 480/500, Loss: 0.1833\n",
      "Test Accuracy at Epoch 480: 72.63%\n"
     ]
    },
    {
     "name": "stderr",
     "output_type": "stream",
     "text": [
      "Training Epochs:  97%|█████████▋| 487/500 [00:14<00:00, 40.72it/s]"
     ]
    },
    {
     "name": "stdout",
     "output_type": "stream",
     "text": [
      "Classification Report at Epoch 480:\n",
      "                  precision    recall  f1-score   support\n",
      "\n",
      "    infringement       0.89      0.53      0.66       194\n",
      "non_infringement       0.65      0.94      0.77       186\n",
      "\n",
      "        accuracy                           0.73       380\n",
      "       macro avg       0.77      0.73      0.72       380\n",
      "    weighted avg       0.78      0.73      0.71       380\n",
      "\n"
     ]
    },
    {
     "name": "stderr",
     "output_type": "stream",
     "text": [
      "Training Epochs: 100%|█████████▉| 498/500 [00:14<00:00, 45.75it/s]"
     ]
    },
    {
     "name": "stdout",
     "output_type": "stream",
     "text": [
      "Epoch 490/500, Loss: 0.1782\n",
      "Test Accuracy at Epoch 490: 73.16%\n",
      "Classification Report at Epoch 490:\n",
      "                  precision    recall  f1-score   support\n",
      "\n",
      "    infringement       0.90      0.54      0.67       194\n",
      "non_infringement       0.66      0.94      0.77       186\n",
      "\n",
      "        accuracy                           0.73       380\n",
      "       macro avg       0.78      0.74      0.72       380\n",
      "    weighted avg       0.78      0.73      0.72       380\n",
      "\n",
      "Epoch 500/500, Loss: 0.1766\n"
     ]
    },
    {
     "name": "stderr",
     "output_type": "stream",
     "text": [
      "Training Epochs: 100%|██████████| 500/500 [00:14<00:00, 33.70it/s]\n",
      "/tmp/ipykernel_3434633/1033092828.py:47: FutureWarning: You are using `torch.load` with `weights_only=False` (the current default value), which uses the default pickle module implicitly. It is possible to construct malicious pickle data which will execute arbitrary code during unpickling (See https://github.com/pytorch/pytorch/blob/main/SECURITY.md#untrusted-models for more details). In a future release, the default value for `weights_only` will be flipped to `True`. This limits the functions that could be executed during unpickling. Arbitrary objects will no longer be allowed to be loaded via this mode unless they are explicitly allowlisted by the user via `torch.serialization.add_safe_globals`. We recommend you start setting `weights_only=True` for any use case where you don't have full control of the loaded file. Please open an issue on GitHub for any issues related to this experimental feature.\n",
      "  custom_mlp.load_state_dict(torch.load(checkpoint_path))\n"
     ]
    },
    {
     "name": "stdout",
     "output_type": "stream",
     "text": [
      "Test Accuracy at Epoch 500: 73.16%\n",
      "Classification Report at Epoch 500:\n",
      "                  precision    recall  f1-score   support\n",
      "\n",
      "    infringement       0.90      0.53      0.67       194\n",
      "non_infringement       0.66      0.94      0.77       186\n",
      "\n",
      "        accuracy                           0.73       380\n",
      "       macro avg       0.78      0.74      0.72       380\n",
      "    weighted avg       0.78      0.73      0.72       380\n",
      "\n"
     ]
    },
    {
     "data": {
      "image/png": "[encoded data removed]",
      "text/plain": [
       "<Figure size 1000x500 with 1 Axes>"
      ]
     },
     "metadata": {},
     "output_type": "display_data"
    },
    {
     "name": "stdout",
     "output_type": "stream",
     "text": [
      "Final Model Accuracy: 81.58%\n"
     ]
    }
   ],
   "source": [
    "input_dim = X_train.shape[1]\n",
    "hidden_dim = 256 \n",
    "print(f\"Training MLP model with input_dim={input_dim} and hidden_dim={hidden_dim}\")\n",
    "\n",
    "custom_mlp, losses, best_accuracy = train_model(X_train, y_train, X_test, y_test, input_dim, hidden_dim)"
   ]
  },
  {
   "cell_type": "code",
   "execution_count": 10,
   "metadata": {},
   "outputs": [
    {
     "name": "stdout",
     "output_type": "stream",
     "text": [
      "Checkpoint saved to '/home/guangwei/LLM-COPYRIGHT/copyright_newVersion/models/train_input_reference_0_layer.pth'.\n"
     ]
    }
   ],
   "source": [
    "def save_checkpoint(model, optimizer, epoch, loss, filepath):\n",
    "    checkpoint = {\n",
    "        'epoch': epoch + 1,\n",
    "        'model_state_dict': model.state_dict(),\n",
    "        'optimizer_state_dict': optimizer.state_dict(),\n",
    "        'loss': loss\n",
    "    }\n",
    "    torch.save(checkpoint, filepath)\n",
    "    print(f\"Checkpoint saved to '{filepath}'.\")\n",
    "\n",
    "save_checkpoint(custom_mlp, torch.optim.Adam(custom_mlp.parameters()), len(losses), losses[-1], checkpoint_file)"
   ]
  },
  {
   "cell_type": "code",
   "execution_count": null,
   "metadata": {},
   "outputs": [
    {
     "name": "stdout",
     "output_type": "stream",
     "text": [
      "                  precision    recall  f1-score   support\n",
      "\n",
      "    infringement       0.84      0.78      0.81       194\n",
      "non_infringement       0.79      0.85      0.82       186\n",
      "\n",
      "        accuracy                           0.82       380\n",
      "       macro avg       0.82      0.82      0.82       380\n",
      "    weighted avg       0.82      0.82      0.82       380\n",
      "\n"
     ]
    },
    {
     "name": "stderr",
     "output_type": "stream",
     "text": [
      "/tmp/ipykernel_3434633/2137335780.py:1: UserWarning: To copy construct from a tensor, it is recommended to use sourceTensor.clone().detach() or sourceTensor.clone().detach().requires_grad_(True), rather than torch.tensor(sourceTensor).\n",
      "  y_pred_final = (torch.sigmoid(torch.tensor(custom_mlp(torch.tensor(X_test, dtype=torch.float32)))) > 0.5).float().numpy()\n"
     ]
    },
    {
     "ename": "",
     "evalue": "",
     "output_type": "error",
     "traceback": [
      "\u001b[1;31mThe Kernel crashed while executing code in the current cell or a previous cell. \n",
      "\u001b[1;31mPlease review the code in the cell(s) to identify a possible cause of the failure. \n",
      "\u001b[1;31mClick <a href='https://aka.ms/vscodeJupyterKernelCrash'>here</a> for more info. \n",
      "\u001b[1;31mView Jupyter <a href='command:jupyter.viewOutput'>log</a> for further details."
     ]
    }
   ],
   "source": [
    "y_pred_final = (torch.sigmoid(torch.tensor(custom_mlp(torch.tensor(X_test, dtype=torch.float32)))) > 0.5).float().numpy()\n",
    "print(classification_report(y_test, y_pred_final, target_names=[\"infringement\", \"non_infringement\"]))"
   ]
  }
 ],
 "metadata": {
  "kernelspec": {
   "display_name": "zdh",
   "language": "python",
   "name": "python3"
  },
  "language_info": {
   "codemirror_mode": {
    "name": "ipython",
    "version": 3
   },
   "file_extension": ".py",
   "mimetype": "text/x-python",
   "name": "python",
   "nbconvert_exporter": "python",
   "pygments_lexer": "ipython3",
   "version": "3.12.3"
  }
 },
 "nbformat": 4,
 "nbformat_minor": 2
}
