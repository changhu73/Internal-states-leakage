{
 "cells": [
  {
   "cell_type": "code",
   "execution_count": 8,
   "metadata": {},
   "outputs": [],
   "source": [
    "# import packages & variables\n",
    "import argparse\n",
    "import torch\n",
    "import torch.nn as nn\n",
    "import numpy as np\n",
    "from sklearn.metrics import accuracy_score, classification_report\n",
    "import matplotlib.pyplot as plt\n",
    "from tqdm import tqdm\n",
    "from transformers import AutoTokenizer, AutoModelForCausalLM, AutoModel, AutoModelForSequenceClassification\n",
    "import json\n",
    "\n",
    "# Parameters\n",
    "model_name = 'meta-llama/Meta-Llama-3.1-8B'\n",
    "non_infringement_file = '/home/guangwei/LLM-COPYRIGHT/copyright_newVersion/test_division/extra.non_infringement.json'\n",
    "infringement_file = '/home/guangwei/LLM-COPYRIGHT/copyright_newVersion/test_division/extra.infringement.json'\n",
    "checkpoint_file = '/home/guangwei/LLM-COPYRIGHT/copyright_newVersion/models/train_input_reference_last_layer_TSNE2.pth'\n"
   ]
  },
  {
   "cell_type": "code",
   "execution_count": 9,
   "metadata": {},
   "outputs": [],
   "source": [
    "# Define CustumMLP for internal states train\n",
    "class CustomMLP(nn.Module):\n",
    "    def __init__(self, input_dim, hidden_dim):\n",
    "        super(CustomMLP, self).__init__()\n",
    "        self.down = nn.Linear(input_dim, hidden_dim)\n",
    "        self.gate = nn.Linear(input_dim, hidden_dim)\n",
    "        self.up = nn.Linear(hidden_dim, 1)\n",
    "        self.activation = nn.SiLU()\n",
    "\n",
    "    def forward(self, x):\n",
    "        down_output = self.down(x)\n",
    "        gate_output = self.gate(x)\n",
    "        gated_output = down_output * self.activation(gate_output)\n",
    "        return self.up(gated_output)"
   ]
  },
  {
   "cell_type": "code",
   "execution_count": 10,
   "metadata": {},
   "outputs": [],
   "source": [
    "# Extract hidden states(TSNE2)/reference embeddings\n",
    "from sklearn.manifold import TSNE\n",
    "def extract_hidden_states(texts, model, tokenizer, apply_tsne=True, n_components=2, batch_size=128):\n",
    "    hidden_states = []\n",
    "    for i in tqdm(range(0, len(texts), batch_size), desc=\"Processing data batches\"):\n",
    "        batch_texts = texts[i:i + batch_size]\n",
    "        inputs = tokenizer(batch_texts, return_tensors=\"pt\", padding=True, truncation=True)\n",
    "        with torch.no_grad():\n",
    "            outputs = model(**inputs)\n",
    "        hidden_state = outputs.hidden_states[-1].mean(dim=1).cpu().numpy()\n",
    "        hidden_states.append(hidden_state)\n",
    "\n",
    "    hidden_states = np.vstack(hidden_states)\n",
    "    if apply_tsne:\n",
    "        tsne = TSNE(n_components=n_components, random_state=42)\n",
    "        hidden_states = tsne.fit_transform(hidden_states)\n",
    "        print(f\"Hidden states reduced to {n_components} dimensions using t-SNE.\")\n",
    "        \n",
    "    return hidden_states\n",
    "\n",
    "def extract_reference_embeddings(references, model, tokenizer, batch_size=128):\n",
    "    embeddings = []\n",
    "    for i in tqdm(range(0, len(references), batch_size), desc=\"Processing references\"):\n",
    "        batch_references = references[i:i + batch_size]\n",
    "        inputs = tokenizer(batch_references, return_tensors=\"pt\", padding=True, truncation=True)\n",
    "        with torch.no_grad():\n",
    "            outputs = model(**inputs)\n",
    "        embeddings.append(outputs.pooler_output.cpu().numpy())\n",
    "    return np.vstack(embeddings)"
   ]
  },
  {
   "cell_type": "code",
   "execution_count": 11,
   "metadata": {},
   "outputs": [],
   "source": [
    "# load data for infringement & non infringement\n",
    "def load_data(non_infringement_file, infringement_file):\n",
    "    with open(non_infringement_file, 'r', encoding='utf-8') as file:\n",
    "        non_infringement_json_data = json.load(file)\n",
    "\n",
    "    non_infringement_outputs = [entry['input'] for entry in non_infringement_json_data]\n",
    "    non_infringement_references = [entry['reference'] for entry in non_infringement_json_data]\n",
    "    y_non_infringement = [1] * len(non_infringement_outputs)\n",
    "\n",
    "    with open(infringement_file, 'r', encoding='utf-8') as file:\n",
    "        infringement_json_data = json.load(file)\n",
    "\n",
    "    infringement_outputs = [entry['input'] for entry in infringement_json_data]\n",
    "    infringement_references = [entry['reference'] for entry in infringement_json_data]\n",
    "    y_infringement = [0] * len(infringement_outputs)\n",
    "\n",
    "    return non_infringement_outputs, non_infringement_references, y_non_infringement, infringement_outputs, infringement_references, y_infringement"
   ]
  },
  {
   "cell_type": "code",
   "execution_count": 12,
   "metadata": {},
   "outputs": [],
   "source": [
    "# Train for best model\n",
    "def train_model(X_train, y_train, X_test, y_test, input_dim, hidden_dim, epochs=500, lr=0.001, checkpoint_path=checkpoint_file):\n",
    "    custom_mlp = CustomMLP(input_dim, hidden_dim)\n",
    "    criterion = nn.BCEWithLogitsLoss()\n",
    "    optimizer = torch.optim.Adam(custom_mlp.parameters(), lr=lr)\n",
    "\n",
    "    X_train_tensor = torch.tensor(X_train, dtype=torch.float32)\n",
    "    y_train_tensor = torch.tensor(y_train, dtype=torch.float32).unsqueeze(1)\n",
    "\n",
    "    best_accuracy = -float('inf')\n",
    "    best_model_state = None\n",
    "    best_epoch = 0\n",
    "    losses = []\n",
    "\n",
    "    for epoch in tqdm(range(epochs), desc=\"Training Epochs\"):\n",
    "        custom_mlp.train()\n",
    "        optimizer.zero_grad()\n",
    "        outputs = custom_mlp(X_train_tensor)\n",
    "        loss = criterion(outputs, y_train_tensor)\n",
    "        loss.backward()\n",
    "        optimizer.step()\n",
    "        losses.append(loss.item())\n",
    "\n",
    "        if (epoch + 1) % 10 == 0:\n",
    "            print(f\"Epoch {epoch + 1}/{epochs}, Loss: {loss.item():.4f}\")\n",
    "            \n",
    "            custom_mlp.eval()\n",
    "            X_test_tensor = torch.tensor(X_test, dtype=torch.float32)\n",
    "            with torch.no_grad():\n",
    "                y_pred_logits = custom_mlp(X_test_tensor)\n",
    "                y_pred = (torch.sigmoid(y_pred_logits) > 0.5).float().numpy()\n",
    "            \n",
    "            accuracy = accuracy_score(y_test, y_pred)\n",
    "            print(f\"Test Accuracy at Epoch {epoch + 1}: {accuracy * 100:.2f}%\")\n",
    "            \n",
    "            report = classification_report(y_test, y_pred, target_names=[\"infringement\", \"non_infringement\"])\n",
    "            print(f\"Classification Report at Epoch {epoch + 1}:\\n{report}\")\n",
    "\n",
    "            if accuracy > best_accuracy:\n",
    "                best_accuracy = accuracy\n",
    "                best_model_state = custom_mlp.state_dict()\n",
    "                best_epoch = epoch + 1\n",
    "                torch.save(best_model_state, checkpoint_path)\n",
    "                print(f\"New best model saved with accuracy {best_accuracy * 100:.2f}% at epoch {best_epoch}\")\n",
    "                print(f\"Best Classification Report at Epoch {best_epoch}:\\n{report}\")\n",
    "\n",
    "    custom_mlp.load_state_dict(torch.load(checkpoint_path))\n",
    "\n",
    "    plt.figure(figsize=(10, 5))\n",
    "    plt.plot(losses, label='Training Loss')\n",
    "    plt.xlabel('Epoch')\n",
    "    plt.ylabel('Loss')\n",
    "    plt.title('Training Loss Curve')\n",
    "    plt.legend()\n",
    "    plt.show()\n",
    "\n",
    "    print(f\"Final Model Accuracy: {best_accuracy * 100:.2f}%\")\n",
    "    \n",
    "    return custom_mlp, losses, best_accuracy"
   ]
  },
  {
   "cell_type": "code",
   "execution_count": 13,
   "metadata": {},
   "outputs": [
    {
     "name": "stderr",
     "output_type": "stream",
     "text": [
      "Loading checkpoint shards: 100%|██████████| 4/4 [00:02<00:00,  1.57it/s]\n"
     ]
    }
   ],
   "source": [
    "tokenizer = AutoTokenizer.from_pretrained(model_name, model_max_length=512)\n",
    "model = AutoModelForCausalLM.from_pretrained(model_name, output_hidden_states=True)\n",
    "tokenizer.pad_token = tokenizer.eos_token\n",
    "bert_tokenizer = AutoTokenizer.from_pretrained('google-bert/bert-base-uncased')\n",
    "bert_model = AutoModel.from_pretrained('google-bert/bert-base-uncased')\n",
    "bert_tokenizer.pad_token = tokenizer.eos_token\n",
    "\n",
    "non_infringement_outputs, non_infringement_references, y_non_infringement, infringement_outputs, infringement_references, y_infringement = load_data(\n",
    "    non_infringement_file, infringement_file\n",
    ")\n",
    "\n",
    "y_non_infringement = np.array(y_non_infringement)\n",
    "y_infringement = np.array(y_infringement)\n"
   ]
  },
  {
   "cell_type": "code",
   "execution_count": 14,
   "metadata": {},
   "outputs": [
    {
     "name": "stdout",
     "output_type": "stream",
     "text": [
      "Extracting hidden states for non_infringement texts...\n"
     ]
    },
    {
     "name": "stderr",
     "output_type": "stream",
     "text": [
      "Processing data batches: 100%|██████████| 12/12 [17:32<00:00, 87.68s/it]\n",
      "huggingface/tokenizers: The current process just got forked, after parallelism has already been used. Disabling parallelism to avoid deadlocks...\n",
      "To disable this warning, you can either:\n",
      "\t- Avoid using `tokenizers` before the fork if possible\n",
      "\t- Explicitly set the environment variable TOKENIZERS_PARALLELISM=(true | false)\n",
      "huggingface/tokenizers: The current process just got forked, after parallelism has already been used. Disabling parallelism to avoid deadlocks...\n",
      "To disable this warning, you can either:\n",
      "\t- Avoid using `tokenizers` before the fork if possible\n",
      "\t- Explicitly set the environment variable TOKENIZERS_PARALLELISM=(true | false)\n"
     ]
    },
    {
     "name": "stdout",
     "output_type": "stream",
     "text": [
      "Hidden states reduced to 2 dimensions using t-SNE.\n",
      "Extracting reference embeddings for non_infringement texts...\n"
     ]
    },
    {
     "name": "stderr",
     "output_type": "stream",
     "text": [
      "Processing references: 100%|██████████| 12/12 [00:34<00:00,  2.92s/it]\n"
     ]
    },
    {
     "name": "stdout",
     "output_type": "stream",
     "text": [
      "Extracting hidden states for infringement texts...\n"
     ]
    },
    {
     "name": "stderr",
     "output_type": "stream",
     "text": [
      "Processing data batches: 100%|██████████| 12/12 [17:54<00:00, 89.58s/it]\n"
     ]
    },
    {
     "name": "stdout",
     "output_type": "stream",
     "text": [
      "Hidden states reduced to 2 dimensions using t-SNE.\n",
      "Extracting reference embeddings for infringement texts...\n"
     ]
    },
    {
     "name": "stderr",
     "output_type": "stream",
     "text": [
      "Processing references: 100%|██████████| 12/12 [00:25<00:00,  2.10s/it]\n"
     ]
    }
   ],
   "source": [
    "print(\"Extracting hidden states for non_infringement texts...\")\n",
    "X_non_infringement = extract_hidden_states(non_infringement_outputs, model, tokenizer)\n",
    "print(\"Extracting reference embeddings for non_infringement texts...\")\n",
    "reference_embeddings_non_infringement = extract_reference_embeddings(non_infringement_references, bert_model, bert_tokenizer)\n",
    "X_non_infringement_combined = np.hstack([X_non_infringement, reference_embeddings_non_infringement])\n",
    "\n",
    "print(\"Extracting hidden states for infringement texts...\")\n",
    "X_infringement = extract_hidden_states(infringement_outputs, model, tokenizer)\n",
    "print(\"Extracting reference embeddings for infringement texts...\")\n",
    "reference_embeddings_infringement = extract_reference_embeddings(infringement_references, bert_model, bert_tokenizer)\n",
    "X_infringement_combined = np.hstack([X_infringement, reference_embeddings_infringement])"
   ]
  },
  {
   "cell_type": "code",
   "execution_count": 15,
   "metadata": {},
   "outputs": [
    {
     "name": "stdout",
     "output_type": "stream",
     "text": [
      "Data successfully split into training and test sets.\n"
     ]
    }
   ],
   "source": [
    "split_index_non_infringement = int(0.8 * len(X_non_infringement_combined))\n",
    "X_non_infringement_train = X_non_infringement_combined[:split_index_non_infringement]\n",
    "X_non_infringement_test = X_non_infringement_combined[split_index_non_infringement:]\n",
    "y_non_infringement_train = y_non_infringement[:split_index_non_infringement]\n",
    "y_non_infringement_test = y_non_infringement[split_index_non_infringement:]\n",
    "\n",
    "split_index_infringement = int(0.8 * len(X_infringement_combined))\n",
    "X_infringement_train = X_infringement_combined[:split_index_infringement]\n",
    "X_infringement_test = X_infringement_combined[split_index_infringement:]\n",
    "y_infringement_train = y_infringement[:split_index_infringement]\n",
    "y_infringement_test = y_infringement[split_index_infringement:]\n",
    "\n",
    "X_train = np.vstack((X_non_infringement_train, X_infringement_train))\n",
    "X_test = np.vstack((X_non_infringement_test, X_infringement_test))\n",
    "y_train = np.concatenate((y_non_infringement_train, y_infringement_train))\n",
    "y_test = np.concatenate((y_non_infringement_test, y_infringement_test))\n",
    "\n",
    "print(\"Data successfully split into training and test sets.\")"
   ]
  },
  {
   "cell_type": "code",
   "execution_count": 16,
   "metadata": {},
   "outputs": [
    {
     "name": "stdout",
     "output_type": "stream",
     "text": [
      "Training MLP model with input_dim=770 and hidden_dim=256\n"
     ]
    },
    {
     "name": "stderr",
     "output_type": "stream",
     "text": [
      "Training Epochs:   0%|          | 0/500 [00:00<?, ?it/s]/home/guangwei/anaconda3/envs/sit/lib/python3.8/site-packages/torch/autograd/graph.py:768: UserWarning: CUDA initialization: The NVIDIA driver on your system is too old (found version 11040). Please update your GPU driver by downloading and installing a new version from the URL: http://www.nvidia.com/Download/index.aspx Alternatively, go to: https://pytorch.org to install a PyTorch version that has been compiled with your version of the CUDA driver. (Triggered internally at ../c10/cuda/CUDAFunctions.cpp:108.)\n",
      "  return Variable._execution_engine.run_backward(  # Calls into the C++ engine to run the backward pass\n",
      "Training Epochs:   5%|▍         | 23/500 [00:00<00:06, 78.79it/s]"
     ]
    },
    {
     "name": "stdout",
     "output_type": "stream",
     "text": [
      "Epoch 10/500, Loss: 0.5396\n",
      "Test Accuracy at Epoch 10: 40.10%\n",
      "Classification Report at Epoch 10:\n",
      "                  precision    recall  f1-score   support\n",
      "\n",
      "    infringement       0.40      0.48      0.44       283\n",
      "non_infringement       0.40      0.33      0.36       298\n",
      "\n",
      "        accuracy                           0.40       581\n",
      "       macro avg       0.40      0.40      0.40       581\n",
      "    weighted avg       0.40      0.40      0.40       581\n",
      "\n",
      "New best model saved with accuracy 40.10% at epoch 10\n",
      "Best Classification Report at Epoch 10:\n",
      "                  precision    recall  f1-score   support\n",
      "\n",
      "    infringement       0.40      0.48      0.44       283\n",
      "non_infringement       0.40      0.33      0.36       298\n",
      "\n",
      "        accuracy                           0.40       581\n",
      "       macro avg       0.40      0.40      0.40       581\n",
      "    weighted avg       0.40      0.40      0.40       581\n",
      "\n",
      "Epoch 20/500, Loss: 0.4901\n",
      "Test Accuracy at Epoch 20: 47.16%\n",
      "Classification Report at Epoch 20:\n",
      "                  precision    recall  f1-score   support\n",
      "\n",
      "    infringement       0.47      0.60      0.53       283\n",
      "non_infringement       0.48      0.35      0.40       298\n",
      "\n",
      "        accuracy                           0.47       581\n",
      "       macro avg       0.47      0.47      0.46       581\n",
      "    weighted avg       0.47      0.47      0.46       581\n",
      "\n",
      "New best model saved with accuracy 47.16% at epoch 20\n",
      "Best Classification Report at Epoch 20:\n",
      "                  precision    recall  f1-score   support\n",
      "\n",
      "    infringement       0.47      0.60      0.53       283\n",
      "non_infringement       0.48      0.35      0.40       298\n",
      "\n",
      "        accuracy                           0.47       581\n",
      "       macro avg       0.47      0.47      0.46       581\n",
      "    weighted avg       0.47      0.47      0.46       581\n",
      "\n"
     ]
    },
    {
     "name": "stderr",
     "output_type": "stream",
     "text": [
      "Training Epochs:   8%|▊         | 42/500 [00:00<00:05, 76.69it/s]"
     ]
    },
    {
     "name": "stdout",
     "output_type": "stream",
     "text": [
      "Epoch 30/500, Loss: 0.4421\n",
      "Test Accuracy at Epoch 30: 53.01%\n",
      "Classification Report at Epoch 30:\n",
      "                  precision    recall  f1-score   support\n",
      "\n",
      "    infringement       0.51      0.64      0.57       283\n",
      "non_infringement       0.56      0.42      0.48       298\n",
      "\n",
      "        accuracy                           0.53       581\n",
      "       macro avg       0.53      0.53      0.53       581\n",
      "    weighted avg       0.54      0.53      0.52       581\n",
      "\n",
      "New best model saved with accuracy 53.01% at epoch 30\n",
      "Best Classification Report at Epoch 30:\n",
      "                  precision    recall  f1-score   support\n",
      "\n",
      "    infringement       0.51      0.64      0.57       283\n",
      "non_infringement       0.56      0.42      0.48       298\n",
      "\n",
      "        accuracy                           0.53       581\n",
      "       macro avg       0.53      0.53      0.53       581\n",
      "    weighted avg       0.54      0.53      0.52       581\n",
      "\n",
      "Epoch 40/500, Loss: 0.3833\n",
      "Test Accuracy at Epoch 40: 59.90%\n",
      "Classification Report at Epoch 40:\n",
      "                  precision    recall  f1-score   support\n",
      "\n",
      "    infringement       0.58      0.66      0.61       283\n",
      "non_infringement       0.63      0.54      0.58       298\n",
      "\n",
      "        accuracy                           0.60       581\n",
      "       macro avg       0.60      0.60      0.60       581\n",
      "    weighted avg       0.60      0.60      0.60       581\n",
      "\n",
      "New best model saved with accuracy 59.90% at epoch 40\n",
      "Best Classification Report at Epoch 40:\n",
      "                  precision    recall  f1-score   support\n",
      "\n",
      "    infringement       0.58      0.66      0.61       283\n",
      "non_infringement       0.63      0.54      0.58       298\n",
      "\n",
      "        accuracy                           0.60       581\n",
      "       macro avg       0.60      0.60      0.60       581\n",
      "    weighted avg       0.60      0.60      0.60       581\n",
      "\n"
     ]
    },
    {
     "name": "stderr",
     "output_type": "stream",
     "text": [
      "Training Epochs:  13%|█▎        | 63/500 [00:00<00:04, 91.47it/s]"
     ]
    },
    {
     "name": "stdout",
     "output_type": "stream",
     "text": [
      "Epoch 50/500, Loss: 0.3217\n",
      "Test Accuracy at Epoch 50: 61.96%\n",
      "Classification Report at Epoch 50:\n",
      "                  precision    recall  f1-score   support\n",
      "\n",
      "    infringement       0.60      0.63      0.62       283\n",
      "non_infringement       0.64      0.61      0.62       298\n",
      "\n",
      "        accuracy                           0.62       581\n",
      "       macro avg       0.62      0.62      0.62       581\n",
      "    weighted avg       0.62      0.62      0.62       581\n",
      "\n",
      "New best model saved with accuracy 61.96% at epoch 50\n",
      "Best Classification Report at Epoch 50:\n",
      "                  precision    recall  f1-score   support\n",
      "\n",
      "    infringement       0.60      0.63      0.62       283\n",
      "non_infringement       0.64      0.61      0.62       298\n",
      "\n",
      "        accuracy                           0.62       581\n",
      "       macro avg       0.62      0.62      0.62       581\n",
      "    weighted avg       0.62      0.62      0.62       581\n",
      "\n",
      "Epoch 60/500, Loss: 0.2703\n",
      "Test Accuracy at Epoch 60: 66.78%\n",
      "Classification Report at Epoch 60:\n",
      "                  precision    recall  f1-score   support\n",
      "\n",
      "    infringement       0.68      0.60      0.64       283\n",
      "non_infringement       0.66      0.73      0.69       298\n",
      "\n",
      "        accuracy                           0.67       581\n",
      "       macro avg       0.67      0.67      0.67       581\n",
      "    weighted avg       0.67      0.67      0.67       581\n",
      "\n",
      "New best model saved with accuracy 66.78% at epoch 60\n",
      "Best Classification Report at Epoch 60:\n",
      "                  precision    recall  f1-score   support\n",
      "\n",
      "    infringement       0.68      0.60      0.64       283\n",
      "non_infringement       0.66      0.73      0.69       298\n",
      "\n",
      "        accuracy                           0.67       581\n",
      "       macro avg       0.67      0.67      0.67       581\n",
      "    weighted avg       0.67      0.67      0.67       581\n",
      "\n"
     ]
    },
    {
     "name": "stderr",
     "output_type": "stream",
     "text": [
      "Training Epochs:  17%|█▋        | 84/500 [00:01<00:04, 91.51it/s]"
     ]
    },
    {
     "name": "stdout",
     "output_type": "stream",
     "text": [
      "Epoch 70/500, Loss: 0.2251\n",
      "Test Accuracy at Epoch 70: 71.43%\n",
      "Classification Report at Epoch 70:\n",
      "                  precision    recall  f1-score   support\n",
      "\n",
      "    infringement       0.72      0.69      0.70       283\n",
      "non_infringement       0.71      0.74      0.73       298\n",
      "\n",
      "        accuracy                           0.71       581\n",
      "       macro avg       0.71      0.71      0.71       581\n",
      "    weighted avg       0.71      0.71      0.71       581\n",
      "\n",
      "New best model saved with accuracy 71.43% at epoch 70\n",
      "Best Classification Report at Epoch 70:\n",
      "                  precision    recall  f1-score   support\n",
      "\n",
      "    infringement       0.72      0.69      0.70       283\n",
      "non_infringement       0.71      0.74      0.73       298\n",
      "\n",
      "        accuracy                           0.71       581\n",
      "       macro avg       0.71      0.71      0.71       581\n",
      "    weighted avg       0.71      0.71      0.71       581\n",
      "\n",
      "Epoch 80/500, Loss: 0.1910\n",
      "Test Accuracy at Epoch 80: 74.18%\n",
      "Classification Report at Epoch 80:\n",
      "                  precision    recall  f1-score   support\n",
      "\n",
      "    infringement       0.74      0.72      0.73       283\n",
      "non_infringement       0.74      0.77      0.75       298\n",
      "\n",
      "        accuracy                           0.74       581\n",
      "       macro avg       0.74      0.74      0.74       581\n",
      "    weighted avg       0.74      0.74      0.74       581\n",
      "\n",
      "New best model saved with accuracy 74.18% at epoch 80\n",
      "Best Classification Report at Epoch 80:\n",
      "                  precision    recall  f1-score   support\n",
      "\n",
      "    infringement       0.74      0.72      0.73       283\n",
      "non_infringement       0.74      0.77      0.75       298\n",
      "\n",
      "        accuracy                           0.74       581\n",
      "       macro avg       0.74      0.74      0.74       581\n",
      "    weighted avg       0.74      0.74      0.74       581\n",
      "\n",
      "Epoch 90/500, Loss: 0.1682\n",
      "Test Accuracy at Epoch 90: 72.12%\n"
     ]
    },
    {
     "name": "stderr",
     "output_type": "stream",
     "text": [
      "Training Epochs:  22%|██▏       | 109/500 [00:01<00:03, 106.08it/s]"
     ]
    },
    {
     "name": "stdout",
     "output_type": "stream",
     "text": [
      "Classification Report at Epoch 90:\n",
      "                  precision    recall  f1-score   support\n",
      "\n",
      "    infringement       0.76      0.62      0.68       283\n",
      "non_infringement       0.69      0.82      0.75       298\n",
      "\n",
      "        accuracy                           0.72       581\n",
      "       macro avg       0.73      0.72      0.72       581\n",
      "    weighted avg       0.73      0.72      0.72       581\n",
      "\n",
      "Epoch 100/500, Loss: 0.1585\n",
      "Test Accuracy at Epoch 100: 74.35%\n",
      "Classification Report at Epoch 100:\n",
      "                  precision    recall  f1-score   support\n",
      "\n",
      "    infringement       0.77      0.68      0.72       283\n",
      "non_infringement       0.73      0.80      0.76       298\n",
      "\n",
      "        accuracy                           0.74       581\n",
      "       macro avg       0.75      0.74      0.74       581\n",
      "    weighted avg       0.75      0.74      0.74       581\n",
      "\n",
      "New best model saved with accuracy 74.35% at epoch 100\n",
      "Best Classification Report at Epoch 100:\n",
      "                  precision    recall  f1-score   support\n",
      "\n",
      "    infringement       0.77      0.68      0.72       283\n",
      "non_infringement       0.73      0.80      0.76       298\n",
      "\n",
      "        accuracy                           0.74       581\n",
      "       macro avg       0.75      0.74      0.74       581\n",
      "    weighted avg       0.75      0.74      0.74       581\n",
      "\n"
     ]
    },
    {
     "name": "stderr",
     "output_type": "stream",
     "text": [
      "Training Epochs:  24%|██▍       | 120/500 [00:01<00:04, 91.59it/s] "
     ]
    },
    {
     "name": "stdout",
     "output_type": "stream",
     "text": [
      "Epoch 110/500, Loss: 0.1191\n",
      "Test Accuracy at Epoch 110: 72.63%\n",
      "Classification Report at Epoch 110:\n",
      "                  precision    recall  f1-score   support\n",
      "\n",
      "    infringement       0.74      0.68      0.71       283\n",
      "non_infringement       0.72      0.77      0.74       298\n",
      "\n",
      "        accuracy                           0.73       581\n",
      "       macro avg       0.73      0.73      0.73       581\n",
      "    weighted avg       0.73      0.73      0.73       581\n",
      "\n",
      "Epoch 120/500, Loss: 0.1037\n",
      "Test Accuracy at Epoch 120: 71.43%\n",
      "Classification Report at Epoch 120:\n",
      "                  precision    recall  f1-score   support\n",
      "\n",
      "    infringement       0.71      0.70      0.70       283\n",
      "non_infringement       0.72      0.73      0.72       298\n",
      "\n",
      "        accuracy                           0.71       581\n",
      "       macro avg       0.71      0.71      0.71       581\n",
      "    weighted avg       0.71      0.71      0.71       581\n",
      "\n",
      "Epoch 130/500, Loss: 0.0844\n",
      "Test Accuracy at Epoch 130: 73.67%\n",
      "Classification Report at Epoch 130:\n",
      "                  precision    recall  f1-score   support\n",
      "\n",
      "    infringement       0.74      0.71      0.72       283\n",
      "non_infringement       0.73      0.76      0.75       298\n",
      "\n",
      "        accuracy                           0.74       581\n",
      "       macro avg       0.74      0.74      0.74       581\n",
      "    weighted avg       0.74      0.74      0.74       581\n",
      "\n"
     ]
    },
    {
     "name": "stderr",
     "output_type": "stream",
     "text": [
      "Training Epochs:  31%|███       | 155/500 [00:01<00:03, 93.30it/s] "
     ]
    },
    {
     "name": "stdout",
     "output_type": "stream",
     "text": [
      "Epoch 140/500, Loss: 0.0691\n",
      "Test Accuracy at Epoch 140: 74.87%\n",
      "Classification Report at Epoch 140:\n",
      "                  precision    recall  f1-score   support\n",
      "\n",
      "    infringement       0.76      0.71      0.73       283\n",
      "non_infringement       0.74      0.78      0.76       298\n",
      "\n",
      "        accuracy                           0.75       581\n",
      "       macro avg       0.75      0.75      0.75       581\n",
      "    weighted avg       0.75      0.75      0.75       581\n",
      "\n",
      "New best model saved with accuracy 74.87% at epoch 140\n",
      "Best Classification Report at Epoch 140:\n",
      "                  precision    recall  f1-score   support\n",
      "\n",
      "    infringement       0.76      0.71      0.73       283\n",
      "non_infringement       0.74      0.78      0.76       298\n",
      "\n",
      "        accuracy                           0.75       581\n",
      "       macro avg       0.75      0.75      0.75       581\n",
      "    weighted avg       0.75      0.75      0.75       581\n",
      "\n",
      "Epoch 150/500, Loss: 0.0556\n",
      "Test Accuracy at Epoch 150: 75.22%\n",
      "Classification Report at Epoch 150:\n",
      "                  precision    recall  f1-score   support\n",
      "\n",
      "    infringement       0.78      0.69      0.73       283\n",
      "non_infringement       0.73      0.82      0.77       298\n",
      "\n",
      "        accuracy                           0.75       581\n",
      "       macro avg       0.76      0.75      0.75       581\n",
      "    weighted avg       0.75      0.75      0.75       581\n",
      "\n",
      "New best model saved with accuracy 75.22% at epoch 150\n",
      "Best Classification Report at Epoch 150:\n",
      "                  precision    recall  f1-score   support\n",
      "\n",
      "    infringement       0.78      0.69      0.73       283\n",
      "non_infringement       0.73      0.82      0.77       298\n",
      "\n",
      "        accuracy                           0.75       581\n",
      "       macro avg       0.76      0.75      0.75       581\n",
      "    weighted avg       0.75      0.75      0.75       581\n",
      "\n"
     ]
    },
    {
     "name": "stderr",
     "output_type": "stream",
     "text": [
      "Training Epochs:  36%|███▌      | 179/500 [00:01<00:03, 103.22it/s]"
     ]
    },
    {
     "name": "stdout",
     "output_type": "stream",
     "text": [
      "Epoch 160/500, Loss: 0.0445\n",
      "Test Accuracy at Epoch 160: 74.01%\n",
      "Classification Report at Epoch 160:\n",
      "                  precision    recall  f1-score   support\n",
      "\n",
      "    infringement       0.79      0.64      0.71       283\n",
      "non_infringement       0.71      0.84      0.77       298\n",
      "\n",
      "        accuracy                           0.74       581\n",
      "       macro avg       0.75      0.74      0.74       581\n",
      "    weighted avg       0.75      0.74      0.74       581\n",
      "\n",
      "Epoch 170/500, Loss: 0.0355\n",
      "Test Accuracy at Epoch 170: 73.67%\n",
      "Classification Report at Epoch 170:\n",
      "                  precision    recall  f1-score   support\n",
      "\n",
      "    infringement       0.78      0.64      0.70       283\n",
      "non_infringement       0.71      0.83      0.76       298\n",
      "\n",
      "        accuracy                           0.74       581\n",
      "       macro avg       0.74      0.73      0.73       581\n",
      "    weighted avg       0.74      0.74      0.73       581\n",
      "\n",
      "Epoch 180/500, Loss: 0.0321\n",
      "Test Accuracy at Epoch 180: 75.73%\n",
      "Classification Report at Epoch 180:\n",
      "                  precision    recall  f1-score   support\n",
      "\n",
      "    infringement       0.83      0.63      0.72       283\n",
      "non_infringement       0.72      0.88      0.79       298\n",
      "\n",
      "        accuracy                           0.76       581\n",
      "       macro avg       0.77      0.75      0.75       581\n",
      "    weighted avg       0.77      0.76      0.75       581\n",
      "\n",
      "New best model saved with accuracy 75.73% at epoch 180\n",
      "Best Classification Report at Epoch 180:\n",
      "                  precision    recall  f1-score   support\n",
      "\n",
      "    infringement       0.83      0.63      0.72       283\n",
      "non_infringement       0.72      0.88      0.79       298\n",
      "\n",
      "        accuracy                           0.76       581\n",
      "       macro avg       0.77      0.75      0.75       581\n",
      "    weighted avg       0.77      0.76      0.75       581\n",
      "\n"
     ]
    },
    {
     "name": "stderr",
     "output_type": "stream",
     "text": [
      "Training Epochs:  40%|████      | 201/500 [00:02<00:03, 90.60it/s] "
     ]
    },
    {
     "name": "stdout",
     "output_type": "stream",
     "text": [
      "Epoch 190/500, Loss: 0.0243\n",
      "Test Accuracy at Epoch 190: 75.56%\n",
      "Classification Report at Epoch 190:\n",
      "                  precision    recall  f1-score   support\n",
      "\n",
      "    infringement       0.82      0.63      0.72       283\n",
      "non_infringement       0.71      0.87      0.79       298\n",
      "\n",
      "        accuracy                           0.76       581\n",
      "       macro avg       0.77      0.75      0.75       581\n",
      "    weighted avg       0.77      0.76      0.75       581\n",
      "\n",
      "Epoch 200/500, Loss: 0.0199\n",
      "Test Accuracy at Epoch 200: 74.35%\n",
      "Classification Report at Epoch 200:\n",
      "                  precision    recall  f1-score   support\n",
      "\n",
      "    infringement       0.79      0.64      0.71       283\n",
      "non_infringement       0.71      0.84      0.77       298\n",
      "\n",
      "        accuracy                           0.74       581\n",
      "       macro avg       0.75      0.74      0.74       581\n",
      "    weighted avg       0.75      0.74      0.74       581\n",
      "\n",
      "Epoch 210/500, Loss: 0.0168\n",
      "Test Accuracy at Epoch 210: 76.08%\n",
      "Classification Report at Epoch 210:\n",
      "                  precision    recall  f1-score   support\n",
      "\n",
      "    infringement       0.83      0.64      0.72       283\n",
      "non_infringement       0.72      0.88      0.79       298\n",
      "\n",
      "        accuracy                           0.76       581\n",
      "       macro avg       0.77      0.76      0.76       581\n",
      "    weighted avg       0.77      0.76      0.76       581\n",
      "\n",
      "New best model saved with accuracy 76.08% at epoch 210\n",
      "Best Classification Report at Epoch 210:\n",
      "                  precision    recall  f1-score   support\n",
      "\n",
      "    infringement       0.83      0.64      0.72       283\n",
      "non_infringement       0.72      0.88      0.79       298\n",
      "\n",
      "        accuracy                           0.76       581\n",
      "       macro avg       0.77      0.76      0.76       581\n",
      "    weighted avg       0.77      0.76      0.76       581\n",
      "\n"
     ]
    },
    {
     "name": "stderr",
     "output_type": "stream",
     "text": [
      "Training Epochs:  47%|████▋     | 236/500 [00:02<00:02, 96.38it/s]"
     ]
    },
    {
     "name": "stdout",
     "output_type": "stream",
     "text": [
      "Epoch 220/500, Loss: 0.0144\n",
      "Test Accuracy at Epoch 220: 75.73%\n",
      "Classification Report at Epoch 220:\n",
      "                  precision    recall  f1-score   support\n",
      "\n",
      "    infringement       0.82      0.64      0.72       283\n",
      "non_infringement       0.72      0.87      0.79       298\n",
      "\n",
      "        accuracy                           0.76       581\n",
      "       macro avg       0.77      0.75      0.75       581\n",
      "    weighted avg       0.77      0.76      0.75       581\n",
      "\n",
      "Epoch 230/500, Loss: 0.0125\n",
      "Test Accuracy at Epoch 230: 75.56%\n",
      "Classification Report at Epoch 230:\n",
      "                  precision    recall  f1-score   support\n",
      "\n",
      "    infringement       0.83      0.63      0.71       283\n",
      "non_infringement       0.71      0.88      0.79       298\n",
      "\n",
      "        accuracy                           0.76       581\n",
      "       macro avg       0.77      0.75      0.75       581\n",
      "    weighted avg       0.77      0.76      0.75       581\n",
      "\n"
     ]
    },
    {
     "name": "stderr",
     "output_type": "stream",
     "text": [
      "Training Epochs:  52%|█████▏    | 260/500 [00:02<00:02, 104.68it/s]"
     ]
    },
    {
     "name": "stdout",
     "output_type": "stream",
     "text": [
      "Epoch 240/500, Loss: 0.0109\n",
      "Test Accuracy at Epoch 240: 75.73%\n",
      "Classification Report at Epoch 240:\n",
      "                  precision    recall  f1-score   support\n",
      "\n",
      "    infringement       0.83      0.63      0.72       283\n",
      "non_infringement       0.72      0.88      0.79       298\n",
      "\n",
      "        accuracy                           0.76       581\n",
      "       macro avg       0.77      0.75      0.75       581\n",
      "    weighted avg       0.77      0.76      0.75       581\n",
      "\n",
      "Epoch 250/500, Loss: 0.0097\n",
      "Test Accuracy at Epoch 250: 75.22%\n",
      "Classification Report at Epoch 250:\n",
      "                  precision    recall  f1-score   support\n",
      "\n",
      "    infringement       0.83      0.62      0.71       283\n",
      "non_infringement       0.71      0.88      0.78       298\n",
      "\n",
      "        accuracy                           0.75       581\n",
      "       macro avg       0.77      0.75      0.75       581\n",
      "    weighted avg       0.77      0.75      0.75       581\n",
      "\n",
      "Epoch 260/500, Loss: 0.0087\n",
      "Test Accuracy at Epoch 260: 75.22%\n",
      "Classification Report at Epoch 260:\n",
      "                  precision    recall  f1-score   support\n",
      "\n",
      "    infringement       0.83      0.62      0.71       283\n",
      "non_infringement       0.71      0.88      0.78       298\n",
      "\n",
      "        accuracy                           0.75       581\n",
      "       macro avg       0.77      0.75      0.75       581\n",
      "    weighted avg       0.77      0.75      0.75       581\n",
      "\n"
     ]
    },
    {
     "name": "stderr",
     "output_type": "stream",
     "text": [
      "Training Epochs:  56%|█████▋    | 282/500 [00:03<00:02, 95.99it/s] "
     ]
    },
    {
     "name": "stdout",
     "output_type": "stream",
     "text": [
      "Epoch 270/500, Loss: 0.0078\n",
      "Test Accuracy at Epoch 270: 75.39%\n",
      "Classification Report at Epoch 270:\n",
      "                  precision    recall  f1-score   support\n",
      "\n",
      "    infringement       0.83      0.62      0.71       283\n",
      "non_infringement       0.71      0.88      0.79       298\n",
      "\n",
      "        accuracy                           0.75       581\n",
      "       macro avg       0.77      0.75      0.75       581\n",
      "    weighted avg       0.77      0.75      0.75       581\n",
      "\n",
      "Epoch 280/500, Loss: 0.0072\n",
      "Test Accuracy at Epoch 280: 75.39%\n",
      "Classification Report at Epoch 280:\n",
      "                  precision    recall  f1-score   support\n",
      "\n",
      "    infringement       0.83      0.62      0.71       283\n",
      "non_infringement       0.71      0.88      0.79       298\n",
      "\n",
      "        accuracy                           0.75       581\n",
      "       macro avg       0.77      0.75      0.75       581\n",
      "    weighted avg       0.77      0.75      0.75       581\n",
      "\n",
      "Epoch 290/500, Loss: 0.0066\n",
      "Test Accuracy at Epoch 290: 75.04%\n",
      "Classification Report at Epoch 290:\n",
      "                  precision    recall  f1-score   support\n",
      "\n",
      "    infringement       0.83      0.61      0.70       283\n",
      "non_infringement       0.71      0.88      0.78       298\n",
      "\n",
      "        accuracy                           0.75       581\n",
      "       macro avg       0.77      0.75      0.74       581\n",
      "    weighted avg       0.77      0.75      0.75       581\n",
      "\n"
     ]
    },
    {
     "name": "stderr",
     "output_type": "stream",
     "text": [
      "Training Epochs:  61%|██████    | 305/500 [00:03<00:02, 87.23it/s] "
     ]
    },
    {
     "name": "stdout",
     "output_type": "stream",
     "text": [
      "Epoch 300/500, Loss: 0.0066\n",
      "Test Accuracy at Epoch 300: 75.39%\n",
      "Classification Report at Epoch 300:\n",
      "                  precision    recall  f1-score   support\n",
      "\n",
      "    infringement       0.83      0.63      0.71       283\n",
      "non_infringement       0.71      0.88      0.78       298\n",
      "\n",
      "        accuracy                           0.75       581\n",
      "       macro avg       0.77      0.75      0.75       581\n",
      "    weighted avg       0.77      0.75      0.75       581\n",
      "\n"
     ]
    },
    {
     "name": "stderr",
     "output_type": "stream",
     "text": [
      "Training Epochs:  63%|██████▎   | 315/500 [00:03<00:02, 63.82it/s]"
     ]
    },
    {
     "name": "stdout",
     "output_type": "stream",
     "text": [
      "Epoch 310/500, Loss: 0.0058\n",
      "Test Accuracy at Epoch 310: 75.22%\n",
      "Classification Report at Epoch 310:\n",
      "                  precision    recall  f1-score   support\n",
      "\n",
      "    infringement       0.84      0.61      0.71       283\n",
      "non_infringement       0.71      0.89      0.79       298\n",
      "\n",
      "        accuracy                           0.75       581\n",
      "       macro avg       0.77      0.75      0.75       581\n",
      "    weighted avg       0.77      0.75      0.75       581\n",
      "\n"
     ]
    },
    {
     "name": "stderr",
     "output_type": "stream",
     "text": [
      "Training Epochs:  67%|██████▋   | 334/500 [00:03<00:02, 72.34it/s]"
     ]
    },
    {
     "name": "stdout",
     "output_type": "stream",
     "text": [
      "Epoch 320/500, Loss: 0.0055\n",
      "Test Accuracy at Epoch 320: 75.73%\n",
      "Classification Report at Epoch 320:\n",
      "                  precision    recall  f1-score   support\n",
      "\n",
      "    infringement       0.85      0.61      0.71       283\n",
      "non_infringement       0.71      0.90      0.79       298\n",
      "\n",
      "        accuracy                           0.76       581\n",
      "       macro avg       0.78      0.75      0.75       581\n",
      "    weighted avg       0.78      0.76      0.75       581\n",
      "\n",
      "Epoch 330/500, Loss: 0.0052\n",
      "Test Accuracy at Epoch 330: 75.56%\n",
      "Classification Report at Epoch 330:\n",
      "                  precision    recall  f1-score   support\n",
      "\n",
      "    infringement       0.84      0.61      0.71       283\n",
      "non_infringement       0.71      0.89      0.79       298\n",
      "\n",
      "        accuracy                           0.76       581\n",
      "       macro avg       0.78      0.75      0.75       581\n",
      "    weighted avg       0.77      0.76      0.75       581\n",
      "\n"
     ]
    },
    {
     "name": "stderr",
     "output_type": "stream",
     "text": [
      "Training Epochs:  71%|███████   | 356/500 [00:04<00:01, 78.96it/s]"
     ]
    },
    {
     "name": "stdout",
     "output_type": "stream",
     "text": [
      "Epoch 340/500, Loss: 0.0052\n",
      "Test Accuracy at Epoch 340: 75.73%\n",
      "Classification Report at Epoch 340:\n",
      "                  precision    recall  f1-score   support\n",
      "\n",
      "    infringement       0.83      0.63      0.72       283\n",
      "non_infringement       0.71      0.88      0.79       298\n",
      "\n",
      "        accuracy                           0.76       581\n",
      "       macro avg       0.77      0.75      0.75       581\n",
      "    weighted avg       0.77      0.76      0.75       581\n",
      "\n",
      "Epoch 350/500, Loss: 0.0049\n",
      "Test Accuracy at Epoch 350: 75.90%\n",
      "Classification Report at Epoch 350:\n",
      "                  precision    recall  f1-score   support\n",
      "\n",
      "    infringement       0.85      0.61      0.71       283\n",
      "non_infringement       0.71      0.90      0.79       298\n",
      "\n",
      "        accuracy                           0.76       581\n",
      "       macro avg       0.78      0.76      0.75       581\n",
      "    weighted avg       0.78      0.76      0.75       581\n",
      "\n"
     ]
    },
    {
     "name": "stderr",
     "output_type": "stream",
     "text": [
      "Training Epochs:  75%|███████▍  | 374/500 [00:04<00:01, 75.65it/s]"
     ]
    },
    {
     "name": "stdout",
     "output_type": "stream",
     "text": [
      "Epoch 360/500, Loss: 0.0047\n",
      "Test Accuracy at Epoch 360: 75.73%\n",
      "Classification Report at Epoch 360:\n",
      "                  precision    recall  f1-score   support\n",
      "\n",
      "    infringement       0.85      0.61      0.71       283\n",
      "non_infringement       0.71      0.90      0.79       298\n",
      "\n",
      "        accuracy                           0.76       581\n",
      "       macro avg       0.78      0.75      0.75       581\n",
      "    weighted avg       0.78      0.76      0.75       581\n",
      "\n",
      "Epoch 370/500, Loss: 0.0047\n",
      "Test Accuracy at Epoch 370: 76.25%\n",
      "Classification Report at Epoch 370:\n",
      "                  precision    recall  f1-score   support\n",
      "\n",
      "    infringement       0.85      0.63      0.72       283\n",
      "non_infringement       0.72      0.89      0.79       298\n",
      "\n",
      "        accuracy                           0.76       581\n",
      "       macro avg       0.78      0.76      0.76       581\n",
      "    weighted avg       0.78      0.76      0.76       581\n",
      "\n",
      "New best model saved with accuracy 76.25% at epoch 370\n",
      "Best Classification Report at Epoch 370:\n",
      "                  precision    recall  f1-score   support\n",
      "\n",
      "    infringement       0.85      0.63      0.72       283\n",
      "non_infringement       0.72      0.89      0.79       298\n",
      "\n",
      "        accuracy                           0.76       581\n",
      "       macro avg       0.78      0.76      0.76       581\n",
      "    weighted avg       0.78      0.76      0.76       581\n",
      "\n"
     ]
    },
    {
     "name": "stderr",
     "output_type": "stream",
     "text": [
      "Training Epochs:  77%|███████▋  | 384/500 [00:04<00:01, 71.97it/s]"
     ]
    },
    {
     "name": "stdout",
     "output_type": "stream",
     "text": [
      "Epoch 380/500, Loss: 0.0044\n",
      "Test Accuracy at Epoch 380: 75.90%\n",
      "Classification Report at Epoch 380:\n",
      "                  precision    recall  f1-score   support\n",
      "\n",
      "    infringement       0.85      0.61      0.71       283\n",
      "non_infringement       0.71      0.90      0.79       298\n",
      "\n",
      "        accuracy                           0.76       581\n",
      "       macro avg       0.78      0.76      0.75       581\n",
      "    weighted avg       0.78      0.76      0.75       581\n",
      "\n",
      "Epoch 390/500, Loss: 0.0044\n",
      "Test Accuracy at Epoch 390: 75.90%\n",
      "Classification Report at Epoch 390:\n",
      "                  precision    recall  f1-score   support\n",
      "\n",
      "    infringement       0.85      0.61      0.71       283\n",
      "non_infringement       0.71      0.90      0.79       298\n",
      "\n",
      "        accuracy                           0.76       581\n",
      "       macro avg       0.78      0.76      0.75       581\n",
      "    weighted avg       0.78      0.76      0.75       581\n",
      "\n"
     ]
    },
    {
     "name": "stderr",
     "output_type": "stream",
     "text": [
      "Training Epochs:  82%|████████▏ | 410/500 [00:04<00:01, 79.72it/s]"
     ]
    },
    {
     "name": "stdout",
     "output_type": "stream",
     "text": [
      "Epoch 400/500, Loss: 0.0044\n",
      "Test Accuracy at Epoch 400: 76.25%\n",
      "Classification Report at Epoch 400:\n",
      "                  precision    recall  f1-score   support\n",
      "\n",
      "    infringement       0.85      0.63      0.72       283\n",
      "non_infringement       0.72      0.89      0.79       298\n",
      "\n",
      "        accuracy                           0.76       581\n",
      "       macro avg       0.78      0.76      0.76       581\n",
      "    weighted avg       0.78      0.76      0.76       581\n",
      "\n",
      "Epoch 410/500, Loss: 0.0042\n",
      "Test Accuracy at Epoch 410: 75.73%\n",
      "Classification Report at Epoch 410:\n",
      "                  precision    recall  f1-score   support\n",
      "\n",
      "    infringement       0.85      0.61      0.71       283\n",
      "non_infringement       0.71      0.90      0.79       298\n",
      "\n",
      "        accuracy                           0.76       581\n",
      "       macro avg       0.78      0.75      0.75       581\n",
      "    weighted avg       0.78      0.76      0.75       581\n",
      "\n"
     ]
    },
    {
     "name": "stderr",
     "output_type": "stream",
     "text": [
      "Training Epochs:  85%|████████▌ | 427/500 [00:05<00:01, 66.82it/s]"
     ]
    },
    {
     "name": "stdout",
     "output_type": "stream",
     "text": [
      "Epoch 420/500, Loss: 0.0042\n",
      "Test Accuracy at Epoch 420: 75.90%\n",
      "Classification Report at Epoch 420:\n",
      "                  precision    recall  f1-score   support\n",
      "\n",
      "    infringement       0.85      0.61      0.71       283\n",
      "non_infringement       0.71      0.90      0.79       298\n",
      "\n",
      "        accuracy                           0.76       581\n",
      "       macro avg       0.78      0.76      0.75       581\n",
      "    weighted avg       0.78      0.76      0.75       581\n",
      "\n",
      "Epoch 430/500, Loss: 0.0040\n",
      "Test Accuracy at Epoch 430: 76.25%\n",
      "Classification Report at Epoch 430:\n",
      "                  precision    recall  f1-score   support\n",
      "\n",
      "    infringement       0.85      0.63      0.72       283\n",
      "non_infringement       0.72      0.89      0.79       298\n",
      "\n",
      "        accuracy                           0.76       581\n",
      "       macro avg       0.78      0.76      0.76       581\n",
      "    weighted avg       0.78      0.76      0.76       581\n",
      "\n"
     ]
    },
    {
     "name": "stderr",
     "output_type": "stream",
     "text": [
      "Training Epochs:  90%|█████████ | 450/500 [00:05<00:00, 61.12it/s]"
     ]
    },
    {
     "name": "stdout",
     "output_type": "stream",
     "text": [
      "Epoch 440/500, Loss: 0.0041\n",
      "Test Accuracy at Epoch 440: 76.42%\n",
      "Classification Report at Epoch 440:\n",
      "                  precision    recall  f1-score   support\n",
      "\n",
      "    infringement       0.85      0.63      0.72       283\n",
      "non_infringement       0.72      0.89      0.80       298\n",
      "\n",
      "        accuracy                           0.76       581\n",
      "       macro avg       0.78      0.76      0.76       581\n",
      "    weighted avg       0.78      0.76      0.76       581\n",
      "\n",
      "New best model saved with accuracy 76.42% at epoch 440\n",
      "Best Classification Report at Epoch 440:\n",
      "                  precision    recall  f1-score   support\n",
      "\n",
      "    infringement       0.85      0.63      0.72       283\n",
      "non_infringement       0.72      0.89      0.80       298\n",
      "\n",
      "        accuracy                           0.76       581\n",
      "       macro avg       0.78      0.76      0.76       581\n",
      "    weighted avg       0.78      0.76      0.76       581\n",
      "\n",
      "Epoch 450/500, Loss: 0.0039\n",
      "Test Accuracy at Epoch 450: 75.73%\n",
      "Classification Report at Epoch 450:\n",
      "                  precision    recall  f1-score   support\n",
      "\n",
      "    infringement       0.84      0.61      0.71       283\n",
      "non_infringement       0.71      0.89      0.79       298\n",
      "\n",
      "        accuracy                           0.76       581\n",
      "       macro avg       0.78      0.75      0.75       581\n",
      "    weighted avg       0.78      0.76      0.75       581\n",
      "\n"
     ]
    },
    {
     "name": "stderr",
     "output_type": "stream",
     "text": [
      "Training Epochs:  93%|█████████▎| 465/500 [00:05<00:00, 62.02it/s]"
     ]
    },
    {
     "name": "stdout",
     "output_type": "stream",
     "text": [
      "Epoch 460/500, Loss: 0.0041\n",
      "Test Accuracy at Epoch 460: 76.08%\n",
      "Classification Report at Epoch 460:\n",
      "                  precision    recall  f1-score   support\n",
      "\n",
      "    infringement       0.85      0.61      0.71       283\n",
      "non_infringement       0.71      0.90      0.79       298\n",
      "\n",
      "        accuracy                           0.76       581\n",
      "       macro avg       0.78      0.76      0.75       581\n",
      "    weighted avg       0.78      0.76      0.76       581\n",
      "\n",
      "Epoch 470/500, Loss: 0.0039\n",
      "Test Accuracy at Epoch 470: 76.25%\n",
      "Classification Report at Epoch 470:\n",
      "                  precision    recall  f1-score   support\n",
      "\n",
      "    infringement       0.84      0.63      0.72       283\n",
      "non_infringement       0.72      0.89      0.79       298\n",
      "\n",
      "        accuracy                           0.76       581\n",
      "       macro avg       0.78      0.76      0.76       581\n",
      "    weighted avg       0.78      0.76      0.76       581\n",
      "\n"
     ]
    },
    {
     "name": "stderr",
     "output_type": "stream",
     "text": [
      "Training Epochs:  98%|█████████▊| 488/500 [00:06<00:00, 68.84it/s]"
     ]
    },
    {
     "name": "stdout",
     "output_type": "stream",
     "text": [
      "Epoch 480/500, Loss: 0.0038\n",
      "Test Accuracy at Epoch 480: 76.25%\n",
      "Classification Report at Epoch 480:\n",
      "                  precision    recall  f1-score   support\n",
      "\n",
      "    infringement       0.85      0.63      0.72       283\n",
      "non_infringement       0.72      0.89      0.79       298\n",
      "\n",
      "        accuracy                           0.76       581\n",
      "       macro avg       0.78      0.76      0.76       581\n",
      "    weighted avg       0.78      0.76      0.76       581\n",
      "\n",
      "Epoch 490/500, Loss: 0.0038\n",
      "Test Accuracy at Epoch 490: 75.73%\n",
      "Classification Report at Epoch 490:\n",
      "                  precision    recall  f1-score   support\n",
      "\n",
      "    infringement       0.84      0.61      0.71       283\n",
      "non_infringement       0.71      0.89      0.79       298\n",
      "\n",
      "        accuracy                           0.76       581\n",
      "       macro avg       0.78      0.75      0.75       581\n",
      "    weighted avg       0.78      0.76      0.75       581\n",
      "\n"
     ]
    },
    {
     "name": "stderr",
     "output_type": "stream",
     "text": [
      "Training Epochs: 100%|██████████| 500/500 [00:06<00:00, 80.06it/s]\n",
      "/tmp/ipykernel_3897506/1033092828.py:47: FutureWarning: You are using `torch.load` with `weights_only=False` (the current default value), which uses the default pickle module implicitly. It is possible to construct malicious pickle data which will execute arbitrary code during unpickling (See https://github.com/pytorch/pytorch/blob/main/SECURITY.md#untrusted-models for more details). In a future release, the default value for `weights_only` will be flipped to `True`. This limits the functions that could be executed during unpickling. Arbitrary objects will no longer be allowed to be loaded via this mode unless they are explicitly allowlisted by the user via `torch.serialization.add_safe_globals`. We recommend you start setting `weights_only=True` for any use case where you don't have full control of the loaded file. Please open an issue on GitHub for any issues related to this experimental feature.\n",
      "  custom_mlp.load_state_dict(torch.load(checkpoint_path))\n"
     ]
    },
    {
     "name": "stdout",
     "output_type": "stream",
     "text": [
      "Epoch 500/500, Loss: 0.0039\n",
      "Test Accuracy at Epoch 500: 75.90%\n",
      "Classification Report at Epoch 500:\n",
      "                  precision    recall  f1-score   support\n",
      "\n",
      "    infringement       0.85      0.62      0.71       283\n",
      "non_infringement       0.71      0.89      0.79       298\n",
      "\n",
      "        accuracy                           0.76       581\n",
      "       macro avg       0.78      0.76      0.75       581\n",
      "    weighted avg       0.78      0.76      0.75       581\n",
      "\n"
     ]
    },
    {
     "data": {
      "image/png": "[encoded data removed]",
      "text/plain": [
       "<Figure size 1000x500 with 1 Axes>"
      ]
     },
     "metadata": {},
     "output_type": "display_data"
    },
    {
     "name": "stdout",
     "output_type": "stream",
     "text": [
      "Final Model Accuracy: 76.42%\n"
     ]
    }
   ],
   "source": [
    "input_dim = X_train.shape[1]\n",
    "hidden_dim = 256 \n",
    "print(f\"Training MLP model with input_dim={input_dim} and hidden_dim={hidden_dim}\")\n",
    "\n",
    "custom_mlp, losses, best_accuracy = train_model(X_train, y_train, X_test, y_test, input_dim, hidden_dim)"
   ]
  },
  {
   "cell_type": "code",
   "execution_count": 17,
   "metadata": {},
   "outputs": [
    {
     "name": "stdout",
     "output_type": "stream",
     "text": [
      "Checkpoint saved to '/home/guangwei/LLM-COPYRIGHT/copyright_newVersion/models/train_input_reference_last_layer_TSNE2.pth'.\n"
     ]
    }
   ],
   "source": [
    "def save_checkpoint(model, optimizer, epoch, loss, filepath):\n",
    "    checkpoint = {\n",
    "        'epoch': epoch + 1,\n",
    "        'model_state_dict': model.state_dict(),\n",
    "        'optimizer_state_dict': optimizer.state_dict(),\n",
    "        'loss': loss\n",
    "    }\n",
    "    torch.save(checkpoint, filepath)\n",
    "    print(f\"Checkpoint saved to '{filepath}'.\")\n",
    "\n",
    "save_checkpoint(custom_mlp, torch.optim.Adam(custom_mlp.parameters()), len(losses), losses[-1], checkpoint_file)"
   ]
  },
  {
   "cell_type": "code",
   "execution_count": 18,
   "metadata": {},
   "outputs": [
    {
     "name": "stdout",
     "output_type": "stream",
     "text": [
      "                  precision    recall  f1-score   support\n",
      "\n",
      "    infringement       0.85      0.63      0.72       283\n",
      "non_infringement       0.72      0.89      0.80       298\n",
      "\n",
      "        accuracy                           0.76       581\n",
      "       macro avg       0.78      0.76      0.76       581\n",
      "    weighted avg       0.78      0.76      0.76       581\n",
      "\n"
     ]
    },
    {
     "name": "stderr",
     "output_type": "stream",
     "text": [
      "/tmp/ipykernel_3897506/2137335780.py:1: UserWarning: To copy construct from a tensor, it is recommended to use sourceTensor.clone().detach() or sourceTensor.clone().detach().requires_grad_(True), rather than torch.tensor(sourceTensor).\n",
      "  y_pred_final = (torch.sigmoid(torch.tensor(custom_mlp(torch.tensor(X_test, dtype=torch.float32)))) > 0.5).float().numpy()\n"
     ]
    }
   ],
   "source": [
    "y_pred_final = (torch.sigmoid(torch.tensor(custom_mlp(torch.tensor(X_test, dtype=torch.float32)))) > 0.5).float().numpy()\n",
    "print(classification_report(y_test, y_pred_final, target_names=[\"infringement\", \"non_infringement\"]))"
   ]
  }
 ],
 "metadata": {
  "kernelspec": {
   "display_name": "sit",
   "language": "python",
   "name": "python3"
  },
  "language_info": {
   "codemirror_mode": {
    "name": "ipython",
    "version": 3
   },
   "file_extension": ".py",
   "mimetype": "text/x-python",
   "name": "python",
   "nbconvert_exporter": "python",
   "pygments_lexer": "ipython3",
   "version": "3.8.10"
  }
 },
 "nbformat": 4,
 "nbformat_minor": 2
}
