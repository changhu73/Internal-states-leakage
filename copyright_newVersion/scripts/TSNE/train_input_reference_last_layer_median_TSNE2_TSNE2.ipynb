{
 "cells": [
  {
   "cell_type": "code",
   "execution_count": 1,
   "metadata": {},
   "outputs": [
    {
     "name": "stderr",
     "output_type": "stream",
     "text": [
      "/home/guangwei/miniconda3/envs/sit/lib/python3.9/site-packages/tqdm/auto.py:21: TqdmWarning: IProgress not found. Please update jupyter and ipywidgets. See https://ipywidgets.readthedocs.io/en/stable/user_install.html\n",
      "  from .autonotebook import tqdm as notebook_tqdm\n"
     ]
    }
   ],
   "source": [
    "# import packages & variables\n",
    "import argparse\n",
    "import torch\n",
    "import torch.nn as nn\n",
    "import numpy as np\n",
    "from sklearn.metrics import accuracy_score, classification_report\n",
    "import matplotlib.pyplot as plt\n",
    "from tqdm import tqdm\n",
    "from transformers import AutoTokenizer, AutoModelForCausalLM, AutoModel, AutoModelForSequenceClassification\n",
    "import json\n",
    "import os\n",
    "\n",
    "os.environ[\"CUDA_VISIBLE_DEVICES\"] = \"5\"\n",
    "\n",
    "# Parameters\n",
    "model_name = 'meta-llama/Meta-Llama-3.1-8B'\n",
    "non_infringement_file = '/home/guangwei/LLM-COPYRIGHT/copyright_newVersion/test_division/extra.non_infringement.json'\n",
    "infringement_file = '/home/guangwei/LLM-COPYRIGHT/copyright_newVersion/test_division/extra.infringement.json'\n",
    "checkpoint_file = '/home/guangwei/LLM-COPYRIGHT/copyright_newVersion/models/train_input_reference_last_layer_TSNE2_TSNE2.pth'\n"
   ]
  },
  {
   "cell_type": "code",
   "execution_count": 2,
   "metadata": {},
   "outputs": [],
   "source": [
    "# Define CustumMLP for internal states train\n",
    "class CustomMLP(nn.Module):\n",
    "    def __init__(self, input_dim, hidden_dim):\n",
    "        super(CustomMLP, self).__init__()\n",
    "        self.down = nn.Linear(input_dim, hidden_dim)\n",
    "        self.gate = nn.Linear(input_dim, hidden_dim)\n",
    "        self.up = nn.Linear(hidden_dim, 1)\n",
    "        self.activation = nn.SiLU()\n",
    "\n",
    "    def forward(self, x):\n",
    "        down_output = self.down(x)\n",
    "        gate_output = self.gate(x)\n",
    "        gated_output = down_output * self.activation(gate_output)\n",
    "        return self.up(gated_output)"
   ]
  },
  {
   "cell_type": "code",
   "execution_count": 3,
   "metadata": {},
   "outputs": [],
   "source": [
    "# Extract hidden states/reference embeddings\n",
    "from sklearn.manifold import TSNE\n",
    "def extract_hidden_states(texts, model, tokenizer, apply_tsne=True, n_components=2, batch_size=4):\n",
    "    device = torch.device(\"cuda\" if torch.cuda.is_available() else \"cpu\")\n",
    "    model.to(device)\n",
    "    model = nn.DataParallel(model)\n",
    "    hidden_states = []\n",
    "    for i in tqdm(range(0, len(texts), batch_size), desc=\"Processing data batches\"):\n",
    "        batch_texts = texts[i:i + batch_size]\n",
    "        inputs = tokenizer(batch_texts, return_tensors=\"pt\", padding=True, truncation=True)\n",
    "        with torch.no_grad():\n",
    "            outputs = model(**inputs)\n",
    "        hidden_state = outputs.hidden_states[-1].mean(dim=1).cpu().numpy()\n",
    "        hidden_states.append(hidden_state)\n",
    "\n",
    "    hidden_states = np.vstack(hidden_states)\n",
    "    if apply_tsne:\n",
    "        tsne = TSNE(n_components=n_components, random_state=42)\n",
    "        hidden_states = tsne.fit_transform(hidden_states)\n",
    "        print(f\"Hidden states reduced to {n_components} dimensions using t-SNE.\")\n",
    "        \n",
    "    return hidden_states\n",
    "\n",
    "def extract_reference_embeddings(references, model, tokenizer, apply_tsne=True, n_components=2, batch_size=4):\n",
    "    device = torch.device(\"cuda\" if torch.cuda.is_available() else \"cpu\")\n",
    "    model.to(device)\n",
    "    model = nn.DataParallel(model)\n",
    "    embeddings = []\n",
    "    for i in tqdm(range(0, len(references), batch_size), desc=\"Processing references\"):\n",
    "        batch_references = references[i:i + batch_size]\n",
    "        inputs = tokenizer(batch_references, return_tensors=\"pt\", padding=True, truncation=True)\n",
    "        with torch.no_grad():\n",
    "            outputs = model(**inputs)\n",
    "        embeddings.append(outputs.pooler_output.cpu().numpy())  # 提取池化后的输出\n",
    "\n",
    "    embeddings = np.vstack(embeddings)\n",
    "    \n",
    "    # 应用 t-SNE\n",
    "    if apply_tsne:\n",
    "        tsne = TSNE(n_components=n_components, random_state=42)\n",
    "        embeddings = tsne.fit_transform(embeddings)\n",
    "        print(f\"Reference embeddings reduced to {n_components} dimensions using t-SNE.\")\n",
    "    \n",
    "    return embeddings"
   ]
  },
  {
   "cell_type": "code",
   "execution_count": 4,
   "metadata": {},
   "outputs": [],
   "source": [
    "# load data for infringement & non infringement\n",
    "def load_data(non_infringement_file, infringement_file):\n",
    "    with open(non_infringement_file, 'r', encoding='utf-8') as file:\n",
    "        non_infringement_json_data = json.load(file)\n",
    "\n",
    "    non_infringement_outputs = [entry['input'] for entry in non_infringement_json_data]\n",
    "    non_infringement_references = [entry['reference'] for entry in non_infringement_json_data]\n",
    "    y_non_infringement = [1] * len(non_infringement_outputs)\n",
    "\n",
    "    with open(infringement_file, 'r', encoding='utf-8') as file:\n",
    "        infringement_json_data = json.load(file)\n",
    "\n",
    "    infringement_outputs = [entry['input'] for entry in infringement_json_data]\n",
    "    infringement_references = [entry['reference'] for entry in infringement_json_data]\n",
    "    y_infringement = [0] * len(infringement_outputs)\n",
    "\n",
    "    return non_infringement_outputs, non_infringement_references, y_non_infringement, infringement_outputs, infringement_references, y_infringement"
   ]
  },
  {
   "cell_type": "code",
   "execution_count": 5,
   "metadata": {},
   "outputs": [],
   "source": [
    "# Train for best model\n",
    "def train_model(X_train, y_train, X_test, y_test, input_dim, hidden_dim, epochs=2000, lr=0.001, checkpoint_path=checkpoint_file):\n",
    "    custom_mlp = CustomMLP(input_dim, hidden_dim)\n",
    "    criterion = nn.BCEWithLogitsLoss()\n",
    "    optimizer = torch.optim.Adam(custom_mlp.parameters(), lr=lr)\n",
    "\n",
    "    X_train_tensor = torch.tensor(X_train, dtype=torch.float32)\n",
    "    y_train_tensor = torch.tensor(y_train, dtype=torch.float32).unsqueeze(1)\n",
    "\n",
    "    best_accuracy = -float('inf')\n",
    "    best_model_state = None\n",
    "    best_epoch = 0\n",
    "    losses = []\n",
    "\n",
    "    for epoch in tqdm(range(epochs), desc=\"Training Epochs\"):\n",
    "        custom_mlp.train()\n",
    "        optimizer.zero_grad()\n",
    "        outputs = custom_mlp(X_train_tensor)\n",
    "        loss = criterion(outputs, y_train_tensor)\n",
    "        loss.backward()\n",
    "        optimizer.step()\n",
    "        losses.append(loss.item())\n",
    "\n",
    "        if (epoch + 1) % 10 == 0:\n",
    "            print(f\"Epoch {epoch + 1}/{epochs}, Loss: {loss.item():.4f}\")\n",
    "            \n",
    "            custom_mlp.eval()\n",
    "            X_test_tensor = torch.tensor(X_test, dtype=torch.float32)\n",
    "            with torch.no_grad():\n",
    "                y_pred_logits = custom_mlp(X_test_tensor)\n",
    "                y_pred = (torch.sigmoid(y_pred_logits) > 0.5).float().numpy()\n",
    "            \n",
    "            accuracy = accuracy_score(y_test, y_pred)\n",
    "            print(f\"Test Accuracy at Epoch {epoch + 1}: {accuracy * 100:.2f}%\")\n",
    "            \n",
    "            report = classification_report(y_test, y_pred, target_names=[\"infringement\", \"non_infringement\"])\n",
    "            print(f\"Classification Report at Epoch {epoch + 1}:\\n{report}\")\n",
    "\n",
    "            if accuracy > best_accuracy:\n",
    "                best_accuracy = accuracy\n",
    "                best_model_state = custom_mlp.state_dict()\n",
    "                best_epoch = epoch + 1\n",
    "                torch.save(best_model_state, checkpoint_path)\n",
    "                print(f\"New best model saved with accuracy {best_accuracy * 100:.2f}% at epoch {best_epoch}\")\n",
    "                print(f\"Best Classification Report at Epoch {best_epoch}:\\n{report}\")\n",
    "\n",
    "    custom_mlp.load_state_dict(torch.load(checkpoint_path))\n",
    "\n",
    "    plt.figure(figsize=(10, 5))\n",
    "    plt.plot(losses, label='Training Loss')\n",
    "    plt.xlabel('Epoch')\n",
    "    plt.ylabel('Loss')\n",
    "    plt.title('Training Loss Curve')\n",
    "    plt.legend()\n",
    "    plt.show()\n",
    "\n",
    "    print(f\"Final Model Accuracy: {best_accuracy * 100:.2f}%\")\n",
    "    \n",
    "    return custom_mlp, losses, best_accuracy"
   ]
  },
  {
   "cell_type": "code",
   "execution_count": 6,
   "metadata": {},
   "outputs": [
    {
     "name": "stderr",
     "output_type": "stream",
     "text": [
      "Loading checkpoint shards: 100%|██████████| 4/4 [00:02<00:00,  1.36it/s]\n",
      "/home/guangwei/miniconda3/envs/sit/lib/python3.9/site-packages/transformers/tokenization_utils_base.py:1601: FutureWarning: `clean_up_tokenization_spaces` was not set. It will be set to `True` by default. This behavior will be depracted in transformers v4.45, and will be then set to `False` by default. For more details check this issue: https://github.com/huggingface/transformers/issues/31884\n",
      "  warnings.warn(\n"
     ]
    }
   ],
   "source": [
    "tokenizer = AutoTokenizer.from_pretrained(model_name, model_max_length=512)\n",
    "model = AutoModelForCausalLM.from_pretrained(model_name, output_hidden_states=True)\n",
    "tokenizer.pad_token = tokenizer.eos_token\n",
    "bert_tokenizer = AutoTokenizer.from_pretrained('google-bert/bert-base-uncased')\n",
    "bert_model = AutoModel.from_pretrained('google-bert/bert-base-uncased')\n",
    "bert_tokenizer.pad_token = tokenizer.eos_token\n",
    "\n",
    "non_infringement_outputs, non_infringement_references, y_non_infringement, infringement_outputs, infringement_references, y_infringement = load_data(\n",
    "    non_infringement_file, infringement_file\n",
    ")\n",
    "\n",
    "y_non_infringement = np.array(y_non_infringement)\n",
    "y_infringement = np.array(y_infringement)\n"
   ]
  },
  {
   "cell_type": "code",
   "execution_count": 7,
   "metadata": {},
   "outputs": [
    {
     "name": "stdout",
     "output_type": "stream",
     "text": [
      "Extracting hidden states for non_infringement texts...\n"
     ]
    },
    {
     "name": "stderr",
     "output_type": "stream",
     "text": [
      "Processing data batches:   0%|          | 0/373 [00:00<?, ?it/s]We detected that you are passing `past_key_values` as a tuple and this is deprecated and will be removed in v4.43. Please use an appropriate `Cache` class (https://huggingface.co/docs/transformers/v4.41.3/en/internal/generation_utils#transformers.Cache)\n",
      "Processing data batches: 100%|██████████| 373/373 [01:43<00:00,  3.60it/s]\n",
      "huggingface/tokenizers: The current process just got forked, after parallelism has already been used. Disabling parallelism to avoid deadlocks...\n",
      "To disable this warning, you can either:\n",
      "\t- Avoid using `tokenizers` before the fork if possible\n",
      "\t- Explicitly set the environment variable TOKENIZERS_PARALLELISM=(true | false)\n",
      "huggingface/tokenizers: The current process just got forked, after parallelism has already been used. Disabling parallelism to avoid deadlocks...\n",
      "To disable this warning, you can either:\n",
      "\t- Avoid using `tokenizers` before the fork if possible\n",
      "\t- Explicitly set the environment variable TOKENIZERS_PARALLELISM=(true | false)\n"
     ]
    },
    {
     "name": "stdout",
     "output_type": "stream",
     "text": [
      "Hidden states reduced to 2 dimensions using t-SNE.\n",
      "Extracting reference embeddings for non_infringement texts...\n"
     ]
    },
    {
     "name": "stderr",
     "output_type": "stream",
     "text": [
      "Processing references: 100%|██████████| 373/373 [00:03<00:00, 99.86it/s] \n"
     ]
    },
    {
     "name": "stdout",
     "output_type": "stream",
     "text": [
      "Reference embeddings reduced to 2 dimensions using t-SNE.\n",
      "Extracting hidden states for infringement texts...\n"
     ]
    },
    {
     "name": "stderr",
     "output_type": "stream",
     "text": [
      "Processing data batches: 100%|██████████| 354/354 [01:52<00:00,  3.15it/s]\n"
     ]
    },
    {
     "name": "stdout",
     "output_type": "stream",
     "text": [
      "Hidden states reduced to 2 dimensions using t-SNE.\n",
      "Extracting reference embeddings for infringement texts...\n"
     ]
    },
    {
     "name": "stderr",
     "output_type": "stream",
     "text": [
      "Processing references: 100%|██████████| 354/354 [00:03<00:00, 104.84it/s]\n"
     ]
    },
    {
     "name": "stdout",
     "output_type": "stream",
     "text": [
      "Reference embeddings reduced to 2 dimensions using t-SNE.\n"
     ]
    }
   ],
   "source": [
    "print(\"Extracting hidden states for non_infringement texts...\")\n",
    "X_non_infringement = extract_hidden_states(non_infringement_outputs, model, tokenizer)\n",
    "print(\"Extracting reference embeddings for non_infringement texts...\")\n",
    "reference_embeddings_non_infringement = extract_reference_embeddings(non_infringement_references, bert_model, bert_tokenizer)\n",
    "X_non_infringement_combined = np.hstack([X_non_infringement, reference_embeddings_non_infringement])\n",
    "\n",
    "print(\"Extracting hidden states for infringement texts...\")\n",
    "X_infringement = extract_hidden_states(infringement_outputs, model, tokenizer)\n",
    "print(\"Extracting reference embeddings for infringement texts...\")\n",
    "reference_embeddings_infringement = extract_reference_embeddings(infringement_references, bert_model, bert_tokenizer)\n",
    "X_infringement_combined = np.hstack([X_infringement, reference_embeddings_infringement])"
   ]
  },
  {
   "cell_type": "code",
   "execution_count": 8,
   "metadata": {},
   "outputs": [
    {
     "name": "stdout",
     "output_type": "stream",
     "text": [
      "Data successfully split into training and test sets.\n"
     ]
    }
   ],
   "source": [
    "split_index_non_infringement = int(0.8 * len(X_non_infringement_combined))\n",
    "X_non_infringement_train = X_non_infringement_combined[:split_index_non_infringement]\n",
    "X_non_infringement_test = X_non_infringement_combined[split_index_non_infringement:]\n",
    "y_non_infringement_train = y_non_infringement[:split_index_non_infringement]\n",
    "y_non_infringement_test = y_non_infringement[split_index_non_infringement:]\n",
    "\n",
    "split_index_infringement = int(0.8 * len(X_infringement_combined))\n",
    "X_infringement_train = X_infringement_combined[:split_index_infringement]\n",
    "X_infringement_test = X_infringement_combined[split_index_infringement:]\n",
    "y_infringement_train = y_infringement[:split_index_infringement]\n",
    "y_infringement_test = y_infringement[split_index_infringement:]\n",
    "\n",
    "X_train = np.vstack((X_non_infringement_train, X_infringement_train))\n",
    "X_test = np.vstack((X_non_infringement_test, X_infringement_test))\n",
    "y_train = np.concatenate((y_non_infringement_train, y_infringement_train))\n",
    "y_test = np.concatenate((y_non_infringement_test, y_infringement_test))\n",
    "\n",
    "print(\"Data successfully split into training and test sets.\")"
   ]
  },
  {
   "cell_type": "code",
   "execution_count": 9,
   "metadata": {},
   "outputs": [
    {
     "name": "stdout",
     "output_type": "stream",
     "text": [
      "Training MLP model with input_dim=4 and hidden_dim=256\n"
     ]
    },
    {
     "name": "stderr",
     "output_type": "stream",
     "text": [
      "Training Epochs:   0%|          | 10/2000 [00:00<00:22, 86.98it/s]"
     ]
    },
    {
     "name": "stdout",
     "output_type": "stream",
     "text": [
      "Epoch 10/2000, Loss: 32.2975\n",
      "Test Accuracy at Epoch 10: 48.02%\n",
      "Classification Report at Epoch 10:\n",
      "                  precision    recall  f1-score   support\n",
      "\n",
      "    infringement       0.43      0.20      0.27       283\n",
      "non_infringement       0.50      0.74      0.60       298\n",
      "\n",
      "        accuracy                           0.48       581\n",
      "       macro avg       0.46      0.47      0.43       581\n",
      "    weighted avg       0.46      0.48      0.44       581\n",
      "\n",
      "New best model saved with accuracy 48.02% at epoch 10\n",
      "Best Classification Report at Epoch 10:\n",
      "                  precision    recall  f1-score   support\n",
      "\n",
      "    infringement       0.43      0.20      0.27       283\n",
      "non_infringement       0.50      0.74      0.60       298\n",
      "\n",
      "        accuracy                           0.48       581\n",
      "       macro avg       0.46      0.47      0.43       581\n",
      "    weighted avg       0.46      0.48      0.44       581\n",
      "\n"
     ]
    },
    {
     "name": "stderr",
     "output_type": "stream",
     "text": [
      "Training Epochs:   1%|          | 21/2000 [00:00<00:21, 93.84it/s]"
     ]
    },
    {
     "name": "stdout",
     "output_type": "stream",
     "text": [
      "Epoch 20/2000, Loss: 11.8038\n",
      "Test Accuracy at Epoch 20: 59.90%\n",
      "Classification Report at Epoch 20:\n",
      "                  precision    recall  f1-score   support\n",
      "\n",
      "    infringement       0.59      0.56      0.58       283\n",
      "non_infringement       0.60      0.64      0.62       298\n",
      "\n",
      "        accuracy                           0.60       581\n",
      "       macro avg       0.60      0.60      0.60       581\n",
      "    weighted avg       0.60      0.60      0.60       581\n",
      "\n",
      "New best model saved with accuracy 59.90% at epoch 20\n",
      "Best Classification Report at Epoch 20:\n",
      "                  precision    recall  f1-score   support\n",
      "\n",
      "    infringement       0.59      0.56      0.58       283\n",
      "non_infringement       0.60      0.64      0.62       298\n",
      "\n",
      "        accuracy                           0.60       581\n",
      "       macro avg       0.60      0.60      0.60       581\n",
      "    weighted avg       0.60      0.60      0.60       581\n",
      "\n"
     ]
    },
    {
     "name": "stderr",
     "output_type": "stream",
     "text": [
      "Training Epochs:   2%|▏         | 31/2000 [00:00<00:23, 83.43it/s]"
     ]
    },
    {
     "name": "stdout",
     "output_type": "stream",
     "text": [
      "Epoch 30/2000, Loss: 10.1683\n",
      "Test Accuracy at Epoch 30: 54.39%\n",
      "Classification Report at Epoch 30:\n",
      "                  precision    recall  f1-score   support\n",
      "\n",
      "    infringement       0.53      0.50      0.52       283\n",
      "non_infringement       0.55      0.59      0.57       298\n",
      "\n",
      "        accuracy                           0.54       581\n",
      "       macro avg       0.54      0.54      0.54       581\n",
      "    weighted avg       0.54      0.54      0.54       581\n",
      "\n"
     ]
    },
    {
     "name": "stderr",
     "output_type": "stream",
     "text": [
      "Training Epochs:   2%|▏         | 44/2000 [00:00<00:20, 97.06it/s]"
     ]
    },
    {
     "name": "stdout",
     "output_type": "stream",
     "text": [
      "Epoch 40/2000, Loss: 6.7302\n",
      "Test Accuracy at Epoch 40: 53.18%\n",
      "Classification Report at Epoch 40:\n",
      "                  precision    recall  f1-score   support\n",
      "\n",
      "    infringement       0.53      0.38      0.44       283\n",
      "non_infringement       0.53      0.68      0.60       298\n",
      "\n",
      "        accuracy                           0.53       581\n",
      "       macro avg       0.53      0.53      0.52       581\n",
      "    weighted avg       0.53      0.53      0.52       581\n",
      "\n",
      "Epoch 50/2000, Loss: 4.7437\n",
      "Test Accuracy at Epoch 50: 52.50%\n",
      "Classification Report at Epoch 50:\n",
      "                  precision    recall  f1-score   support\n",
      "\n",
      "    infringement       0.52      0.37      0.43       283\n",
      "non_infringement       0.53      0.67      0.59       298\n",
      "\n",
      "        accuracy                           0.52       581\n",
      "       macro avg       0.52      0.52      0.51       581\n",
      "    weighted avg       0.52      0.52      0.51       581\n",
      "\n"
     ]
    },
    {
     "name": "stderr",
     "output_type": "stream",
     "text": [
      "Training Epochs:   3%|▎         | 57/2000 [00:00<00:18, 107.25it/s]"
     ]
    },
    {
     "name": "stdout",
     "output_type": "stream",
     "text": [
      "Epoch 60/2000, Loss: 3.6175\n",
      "Test Accuracy at Epoch 60: 53.87%\n",
      "Classification Report at Epoch 60:\n",
      "                  precision    recall  f1-score   support\n",
      "\n",
      "    infringement       0.53      0.42      0.47       283\n",
      "non_infringement       0.54      0.65      0.59       298\n",
      "\n",
      "        accuracy                           0.54       581\n",
      "       macro avg       0.54      0.54      0.53       581\n",
      "    weighted avg       0.54      0.54      0.53       581\n",
      "\n"
     ]
    },
    {
     "name": "stderr",
     "output_type": "stream",
     "text": [
      "Training Epochs:   4%|▎         | 70/2000 [00:00<00:19, 99.93it/s] "
     ]
    },
    {
     "name": "stdout",
     "output_type": "stream",
     "text": [
      "Epoch 70/2000, Loss: 2.8390\n",
      "Test Accuracy at Epoch 70: 55.59%\n",
      "Classification Report at Epoch 70:\n",
      "                  precision    recall  f1-score   support\n",
      "\n",
      "    infringement       0.55      0.47      0.51       283\n",
      "non_infringement       0.56      0.64      0.60       298\n",
      "\n",
      "        accuracy                           0.56       581\n",
      "       macro avg       0.56      0.55      0.55       581\n",
      "    weighted avg       0.56      0.56      0.55       581\n",
      "\n"
     ]
    },
    {
     "name": "stderr",
     "output_type": "stream",
     "text": [
      "Training Epochs:   4%|▍         | 82/2000 [00:00<00:18, 104.12it/s]"
     ]
    },
    {
     "name": "stdout",
     "output_type": "stream",
     "text": [
      "Epoch 80/2000, Loss: 2.2912\n",
      "Test Accuracy at Epoch 80: 58.35%\n",
      "Classification Report at Epoch 80:\n",
      "                  precision    recall  f1-score   support\n",
      "\n",
      "    infringement       0.58      0.51      0.55       283\n",
      "non_infringement       0.58      0.65      0.62       298\n",
      "\n",
      "        accuracy                           0.58       581\n",
      "       macro avg       0.58      0.58      0.58       581\n",
      "    weighted avg       0.58      0.58      0.58       581\n",
      "\n"
     ]
    },
    {
     "name": "stderr",
     "output_type": "stream",
     "text": [
      "Training Epochs:   5%|▍         | 95/2000 [00:00<00:17, 109.85it/s]"
     ]
    },
    {
     "name": "stdout",
     "output_type": "stream",
     "text": [
      "Epoch 90/2000, Loss: 1.9345\n",
      "Test Accuracy at Epoch 90: 54.22%\n",
      "Classification Report at Epoch 90:\n",
      "                  precision    recall  f1-score   support\n",
      "\n",
      "    infringement       0.53      0.47      0.50       283\n",
      "non_infringement       0.55      0.61      0.58       298\n",
      "\n",
      "        accuracy                           0.54       581\n",
      "       macro avg       0.54      0.54      0.54       581\n",
      "    weighted avg       0.54      0.54      0.54       581\n",
      "\n",
      "Epoch 100/2000, Loss: 1.6584\n",
      "Test Accuracy at Epoch 100: 56.80%\n",
      "Classification Report at Epoch 100:\n",
      "                  precision    recall  f1-score   support\n",
      "\n",
      "    infringement       0.57      0.48      0.52       283\n",
      "non_infringement       0.57      0.65      0.61       298\n",
      "\n",
      "        accuracy                           0.57       581\n",
      "       macro avg       0.57      0.57      0.56       581\n",
      "    weighted avg       0.57      0.57      0.57       581\n",
      "\n"
     ]
    },
    {
     "name": "stderr",
     "output_type": "stream",
     "text": [
      "Training Epochs:   5%|▌         | 108/2000 [00:01<00:16, 114.57it/s]"
     ]
    },
    {
     "name": "stdout",
     "output_type": "stream",
     "text": [
      "Epoch 110/2000, Loss: 1.4224\n",
      "Test Accuracy at Epoch 110: 56.63%\n",
      "Classification Report at Epoch 110:\n",
      "                  precision    recall  f1-score   support\n",
      "\n",
      "    infringement       0.57      0.47      0.52       283\n",
      "non_infringement       0.57      0.65      0.61       298\n",
      "\n",
      "        accuracy                           0.57       581\n",
      "       macro avg       0.57      0.56      0.56       581\n",
      "    weighted avg       0.57      0.57      0.56       581\n",
      "\n"
     ]
    },
    {
     "name": "stderr",
     "output_type": "stream",
     "text": [
      "Training Epochs:   6%|▌         | 120/2000 [00:01<00:19, 97.68it/s] "
     ]
    },
    {
     "name": "stdout",
     "output_type": "stream",
     "text": [
      "Epoch 120/2000, Loss: 1.2130\n",
      "Test Accuracy at Epoch 120: 56.45%\n",
      "Classification Report at Epoch 120:\n",
      "                  precision    recall  f1-score   support\n",
      "\n",
      "    infringement       0.57      0.45      0.50       283\n",
      "non_infringement       0.56      0.67      0.61       298\n",
      "\n",
      "        accuracy                           0.56       581\n",
      "       macro avg       0.56      0.56      0.56       581\n",
      "    weighted avg       0.56      0.56      0.56       581\n",
      "\n"
     ]
    },
    {
     "name": "stderr",
     "output_type": "stream",
     "text": [
      "Training Epochs:   7%|▋         | 133/2000 [00:01<00:17, 105.94it/s]"
     ]
    },
    {
     "name": "stdout",
     "output_type": "stream",
     "text": [
      "Epoch 130/2000, Loss: 1.0285\n",
      "Test Accuracy at Epoch 130: 56.63%\n",
      "Classification Report at Epoch 130:\n",
      "                  precision    recall  f1-score   support\n",
      "\n",
      "    infringement       0.57      0.46      0.51       283\n",
      "non_infringement       0.57      0.66      0.61       298\n",
      "\n",
      "        accuracy                           0.57       581\n",
      "       macro avg       0.57      0.56      0.56       581\n",
      "    weighted avg       0.57      0.57      0.56       581\n",
      "\n",
      "Epoch 140/2000, Loss: 0.8780\n",
      "Test Accuracy at Epoch 140: 57.49%\n",
      "Classification Report at Epoch 140:\n",
      "                  precision    recall  f1-score   support\n",
      "\n",
      "    infringement       0.58      0.47      0.52       283\n",
      "non_infringement       0.57      0.67      0.62       298\n",
      "\n",
      "        accuracy                           0.57       581\n",
      "       macro avg       0.58      0.57      0.57       581\n",
      "    weighted avg       0.58      0.57      0.57       581\n",
      "\n"
     ]
    },
    {
     "name": "stderr",
     "output_type": "stream",
     "text": [
      "Training Epochs:   7%|▋         | 147/2000 [00:01<00:16, 113.39it/s]"
     ]
    },
    {
     "name": "stdout",
     "output_type": "stream",
     "text": [
      "Epoch 150/2000, Loss: 0.7647\n",
      "Test Accuracy at Epoch 150: 58.18%\n",
      "Classification Report at Epoch 150:\n",
      "                  precision    recall  f1-score   support\n",
      "\n",
      "    infringement       0.58      0.49      0.53       283\n",
      "non_infringement       0.58      0.67      0.62       298\n",
      "\n",
      "        accuracy                           0.58       581\n",
      "       macro avg       0.58      0.58      0.58       581\n",
      "    weighted avg       0.58      0.58      0.58       581\n",
      "\n"
     ]
    },
    {
     "name": "stderr",
     "output_type": "stream",
     "text": [
      "Training Epochs:   8%|▊         | 159/2000 [00:01<00:18, 102.12it/s]"
     ]
    },
    {
     "name": "stdout",
     "output_type": "stream",
     "text": [
      "Epoch 160/2000, Loss: 0.6718\n",
      "Test Accuracy at Epoch 160: 57.83%\n",
      "Classification Report at Epoch 160:\n",
      "                  precision    recall  f1-score   support\n",
      "\n",
      "    infringement       0.58      0.48      0.53       283\n",
      "non_infringement       0.58      0.67      0.62       298\n",
      "\n",
      "        accuracy                           0.58       581\n",
      "       macro avg       0.58      0.58      0.57       581\n",
      "    weighted avg       0.58      0.58      0.57       581\n",
      "\n"
     ]
    },
    {
     "name": "stderr",
     "output_type": "stream",
     "text": [
      "Training Epochs:   9%|▊         | 172/2000 [00:01<00:16, 107.60it/s]"
     ]
    },
    {
     "name": "stdout",
     "output_type": "stream",
     "text": [
      "Epoch 170/2000, Loss: 0.5919\n",
      "Test Accuracy at Epoch 170: 57.66%\n",
      "Classification Report at Epoch 170:\n",
      "                  precision    recall  f1-score   support\n",
      "\n",
      "    infringement       0.58      0.48      0.53       283\n",
      "non_infringement       0.58      0.66      0.62       298\n",
      "\n",
      "        accuracy                           0.58       581\n",
      "       macro avg       0.58      0.57      0.57       581\n",
      "    weighted avg       0.58      0.58      0.57       581\n",
      "\n",
      "Epoch 180/2000, Loss: 0.5251\n",
      "Test Accuracy at Epoch 180: 57.49%\n",
      "Classification Report at Epoch 180:\n",
      "                  precision    recall  f1-score   support\n",
      "\n",
      "    infringement       0.58      0.48      0.53       283\n",
      "non_infringement       0.57      0.66      0.61       298\n",
      "\n",
      "        accuracy                           0.57       581\n",
      "       macro avg       0.57      0.57      0.57       581\n",
      "    weighted avg       0.57      0.57      0.57       581\n",
      "\n"
     ]
    },
    {
     "name": "stderr",
     "output_type": "stream",
     "text": [
      "Training Epochs:   9%|▉         | 184/2000 [00:01<00:16, 109.33it/s]"
     ]
    },
    {
     "name": "stdout",
     "output_type": "stream",
     "text": [
      "Epoch 190/2000, Loss: 0.4763\n",
      "Test Accuracy at Epoch 190: 57.14%\n",
      "Classification Report at Epoch 190:\n",
      "                  precision    recall  f1-score   support\n",
      "\n",
      "    infringement       0.57      0.47      0.52       283\n",
      "non_infringement       0.57      0.66      0.61       298\n",
      "\n",
      "        accuracy                           0.57       581\n",
      "       macro avg       0.57      0.57      0.57       581\n",
      "    weighted avg       0.57      0.57      0.57       581\n",
      "\n"
     ]
    },
    {
     "name": "stderr",
     "output_type": "stream",
     "text": [
      "Training Epochs:  10%|█         | 209/2000 [00:02<00:17, 104.49it/s]"
     ]
    },
    {
     "name": "stdout",
     "output_type": "stream",
     "text": [
      "Epoch 200/2000, Loss: 0.4310\n",
      "Test Accuracy at Epoch 200: 56.28%\n",
      "Classification Report at Epoch 200:\n",
      "                  precision    recall  f1-score   support\n",
      "\n",
      "    infringement       0.57      0.44      0.49       283\n",
      "non_infringement       0.56      0.68      0.62       298\n",
      "\n",
      "        accuracy                           0.56       581\n",
      "       macro avg       0.56      0.56      0.55       581\n",
      "    weighted avg       0.56      0.56      0.56       581\n",
      "\n"
     ]
    },
    {
     "name": "stderr",
     "output_type": "stream",
     "text": [
      "Training Epochs:  11%|█         | 221/2000 [00:02<00:16, 108.08it/s]"
     ]
    },
    {
     "name": "stdout",
     "output_type": "stream",
     "text": [
      "Epoch 210/2000, Loss: 0.3967\n",
      "Test Accuracy at Epoch 210: 58.18%\n",
      "Classification Report at Epoch 210:\n",
      "                  precision    recall  f1-score   support\n",
      "\n",
      "    infringement       0.58      0.50      0.54       283\n",
      "non_infringement       0.58      0.66      0.62       298\n",
      "\n",
      "        accuracy                           0.58       581\n",
      "       macro avg       0.58      0.58      0.58       581\n",
      "    weighted avg       0.58      0.58      0.58       581\n",
      "\n",
      "Epoch 220/2000, Loss: 0.3629\n",
      "Test Accuracy at Epoch 220: 56.28%\n",
      "Classification Report at Epoch 220:\n",
      "                  precision    recall  f1-score   support\n",
      "\n",
      "    infringement       0.57      0.44      0.49       283\n",
      "non_infringement       0.56      0.68      0.62       298\n",
      "\n",
      "        accuracy                           0.56       581\n",
      "       macro avg       0.56      0.56      0.55       581\n",
      "    weighted avg       0.56      0.56      0.56       581\n",
      "\n"
     ]
    },
    {
     "name": "stderr",
     "output_type": "stream",
     "text": [
      "Training Epochs:  12%|█▏        | 234/2000 [00:02<00:15, 112.07it/s]"
     ]
    },
    {
     "name": "stdout",
     "output_type": "stream",
     "text": [
      "Epoch 230/2000, Loss: 0.3312\n",
      "Test Accuracy at Epoch 230: 56.97%\n",
      "Classification Report at Epoch 230:\n",
      "                  precision    recall  f1-score   support\n",
      "\n",
      "    infringement       0.57      0.46      0.51       283\n",
      "non_infringement       0.57      0.67      0.62       298\n",
      "\n",
      "        accuracy                           0.57       581\n",
      "       macro avg       0.57      0.57      0.56       581\n",
      "    weighted avg       0.57      0.57      0.56       581\n",
      "\n"
     ]
    },
    {
     "name": "stderr",
     "output_type": "stream",
     "text": [
      "Training Epochs:  12%|█▏        | 246/2000 [00:02<00:17, 99.81it/s] "
     ]
    },
    {
     "name": "stdout",
     "output_type": "stream",
     "text": [
      "Epoch 240/2000, Loss: 0.3003\n",
      "Test Accuracy at Epoch 240: 57.83%\n",
      "Classification Report at Epoch 240:\n",
      "                  precision    recall  f1-score   support\n",
      "\n",
      "    infringement       0.58      0.47      0.52       283\n",
      "non_infringement       0.58      0.68      0.62       298\n",
      "\n",
      "        accuracy                           0.58       581\n",
      "       macro avg       0.58      0.58      0.57       581\n",
      "    weighted avg       0.58      0.58      0.57       581\n",
      "\n",
      "Epoch 250/2000, Loss: 0.2775\n",
      "Test Accuracy at Epoch 250: 57.49%\n",
      "Classification Report at Epoch 250:\n",
      "                  precision    recall  f1-score   support\n",
      "\n",
      "    infringement       0.58      0.46      0.51       283\n",
      "non_infringement       0.57      0.68      0.62       298\n",
      "\n",
      "        accuracy                           0.57       581\n",
      "       macro avg       0.58      0.57      0.57       581\n",
      "    weighted avg       0.58      0.57      0.57       581\n",
      "\n"
     ]
    },
    {
     "name": "stderr",
     "output_type": "stream",
     "text": [
      "Training Epochs:  13%|█▎        | 268/2000 [00:02<00:17, 97.10it/s] "
     ]
    },
    {
     "name": "stdout",
     "output_type": "stream",
     "text": [
      "Epoch 260/2000, Loss: 0.2572\n",
      "Test Accuracy at Epoch 260: 57.31%\n",
      "Classification Report at Epoch 260:\n",
      "                  precision    recall  f1-score   support\n",
      "\n",
      "    infringement       0.58      0.46      0.51       283\n",
      "non_infringement       0.57      0.68      0.62       298\n",
      "\n",
      "        accuracy                           0.57       581\n",
      "       macro avg       0.57      0.57      0.57       581\n",
      "    weighted avg       0.57      0.57      0.57       581\n",
      "\n",
      "Epoch 270/2000, Loss: 0.2399\n",
      "Test Accuracy at Epoch 270: 56.63%\n",
      "Classification Report at Epoch 270:\n",
      "                  precision    recall  f1-score   support\n",
      "\n",
      "    infringement       0.57      0.44      0.50       283\n",
      "non_infringement       0.56      0.68      0.62       298\n",
      "\n",
      "        accuracy                           0.57       581\n",
      "       macro avg       0.57      0.56      0.56       581\n",
      "    weighted avg       0.57      0.57      0.56       581\n",
      "\n"
     ]
    },
    {
     "name": "stderr",
     "output_type": "stream",
     "text": [
      "Training Epochs:  14%|█▍        | 278/2000 [00:02<00:19, 89.22it/s]"
     ]
    },
    {
     "name": "stdout",
     "output_type": "stream",
     "text": [
      "Epoch 280/2000, Loss: 0.2232\n",
      "Test Accuracy at Epoch 280: 57.14%\n",
      "Classification Report at Epoch 280:\n",
      "                  precision    recall  f1-score   support\n",
      "\n",
      "    infringement       0.58      0.45      0.51       283\n",
      "non_infringement       0.57      0.68      0.62       298\n",
      "\n",
      "        accuracy                           0.57       581\n",
      "       macro avg       0.57      0.57      0.56       581\n",
      "    weighted avg       0.57      0.57      0.57       581\n",
      "\n"
     ]
    },
    {
     "name": "stderr",
     "output_type": "stream",
     "text": [
      "Training Epochs:  15%|█▌        | 303/2000 [00:02<00:16, 105.34it/s]"
     ]
    },
    {
     "name": "stdout",
     "output_type": "stream",
     "text": [
      "Epoch 290/2000, Loss: 0.2095\n",
      "Test Accuracy at Epoch 290: 57.31%\n",
      "Classification Report at Epoch 290:\n",
      "                  precision    recall  f1-score   support\n",
      "\n",
      "    infringement       0.58      0.46      0.51       283\n",
      "non_infringement       0.57      0.68      0.62       298\n",
      "\n",
      "        accuracy                           0.57       581\n",
      "       macro avg       0.57      0.57      0.57       581\n",
      "    weighted avg       0.57      0.57      0.57       581\n",
      "\n",
      "Epoch 300/2000, Loss: 0.1976\n",
      "Test Accuracy at Epoch 300: 57.66%\n",
      "Classification Report at Epoch 300:\n",
      "                  precision    recall  f1-score   support\n",
      "\n",
      "    infringement       0.58      0.46      0.52       283\n",
      "non_infringement       0.57      0.68      0.62       298\n",
      "\n",
      "        accuracy                           0.58       581\n",
      "       macro avg       0.58      0.57      0.57       581\n",
      "    weighted avg       0.58      0.58      0.57       581\n",
      "\n",
      "Epoch 310/2000, Loss: 0.1871\n",
      "Test Accuracy at Epoch 310: 57.31%\n",
      "Classification Report at Epoch 310:\n",
      "                  precision    recall  f1-score   support\n",
      "\n",
      "    infringement       0.58      0.46      0.51       283\n",
      "non_infringement       0.57      0.68      0.62       298\n",
      "\n",
      "        accuracy                           0.57       581\n",
      "       macro avg       0.57      0.57      0.57       581\n",
      "    weighted avg       0.57      0.57      0.57       581\n",
      "\n"
     ]
    },
    {
     "name": "stderr",
     "output_type": "stream",
     "text": [
      "Training Epochs:  16%|█▌        | 316/2000 [00:03<00:15, 112.09it/s]"
     ]
    },
    {
     "name": "stdout",
     "output_type": "stream",
     "text": [
      "Epoch 320/2000, Loss: 0.1776\n",
      "Test Accuracy at Epoch 320: 57.14%\n",
      "Classification Report at Epoch 320:\n",
      "                  precision    recall  f1-score   support\n",
      "\n",
      "    infringement       0.58      0.46      0.51       283\n",
      "non_infringement       0.57      0.68      0.62       298\n",
      "\n",
      "        accuracy                           0.57       581\n",
      "       macro avg       0.57      0.57      0.56       581\n",
      "    weighted avg       0.57      0.57      0.57       581\n",
      "\n"
     ]
    },
    {
     "name": "stderr",
     "output_type": "stream",
     "text": [
      "Training Epochs:  16%|█▋        | 328/2000 [00:03<00:17, 96.30it/s] "
     ]
    },
    {
     "name": "stdout",
     "output_type": "stream",
     "text": [
      "Epoch 330/2000, Loss: 0.1691\n",
      "Test Accuracy at Epoch 330: 57.66%\n",
      "Classification Report at Epoch 330:\n",
      "                  precision    recall  f1-score   support\n",
      "\n",
      "    infringement       0.58      0.46      0.51       283\n",
      "non_infringement       0.57      0.69      0.62       298\n",
      "\n",
      "        accuracy                           0.58       581\n",
      "       macro avg       0.58      0.57      0.57       581\n",
      "    weighted avg       0.58      0.58      0.57       581\n",
      "\n"
     ]
    },
    {
     "name": "stderr",
     "output_type": "stream",
     "text": [
      "Training Epochs:  18%|█▊        | 353/2000 [00:03<00:15, 106.43it/s]"
     ]
    },
    {
     "name": "stdout",
     "output_type": "stream",
     "text": [
      "Epoch 340/2000, Loss: 0.1614\n",
      "Test Accuracy at Epoch 340: 57.66%\n",
      "Classification Report at Epoch 340:\n",
      "                  precision    recall  f1-score   support\n",
      "\n",
      "    infringement       0.58      0.46      0.51       283\n",
      "non_infringement       0.57      0.69      0.63       298\n",
      "\n",
      "        accuracy                           0.58       581\n",
      "       macro avg       0.58      0.57      0.57       581\n",
      "    weighted avg       0.58      0.58      0.57       581\n",
      "\n",
      "Epoch 350/2000, Loss: 0.1544\n",
      "Test Accuracy at Epoch 350: 58.00%\n",
      "Classification Report at Epoch 350:\n",
      "                  precision    recall  f1-score   support\n",
      "\n",
      "    infringement       0.59      0.46      0.52       283\n",
      "non_infringement       0.58      0.69      0.63       298\n",
      "\n",
      "        accuracy                           0.58       581\n",
      "       macro avg       0.58      0.58      0.57       581\n",
      "    weighted avg       0.58      0.58      0.57       581\n",
      "\n",
      "Epoch 360/2000, Loss: 0.1479\n",
      "Test Accuracy at Epoch 360: 58.18%\n",
      "Classification Report at Epoch 360:\n",
      "                  precision    recall  f1-score   support\n",
      "\n",
      "    infringement       0.59      0.47      0.52       283\n",
      "non_infringement       0.58      0.69      0.63       298\n",
      "\n",
      "        accuracy                           0.58       581\n",
      "       macro avg       0.58      0.58      0.57       581\n",
      "    weighted avg       0.58      0.58      0.58       581\n",
      "\n"
     ]
    },
    {
     "name": "stderr",
     "output_type": "stream",
     "text": [
      "Training Epochs:  19%|█▉        | 376/2000 [00:03<00:16, 99.85it/s] "
     ]
    },
    {
     "name": "stdout",
     "output_type": "stream",
     "text": [
      "Epoch 370/2000, Loss: 0.1419\n",
      "Test Accuracy at Epoch 370: 58.35%\n",
      "Classification Report at Epoch 370:\n",
      "                  precision    recall  f1-score   support\n",
      "\n",
      "    infringement       0.59      0.47      0.52       283\n",
      "non_infringement       0.58      0.69      0.63       298\n",
      "\n",
      "        accuracy                           0.58       581\n",
      "       macro avg       0.59      0.58      0.58       581\n",
      "    weighted avg       0.58      0.58      0.58       581\n",
      "\n"
     ]
    },
    {
     "name": "stderr",
     "output_type": "stream",
     "text": [
      "Training Epochs:  19%|█▉        | 388/2000 [00:03<00:15, 103.39it/s]"
     ]
    },
    {
     "name": "stdout",
     "output_type": "stream",
     "text": [
      "Epoch 380/2000, Loss: 0.1364\n",
      "Test Accuracy at Epoch 380: 59.21%\n",
      "Classification Report at Epoch 380:\n",
      "                  precision    recall  f1-score   support\n",
      "\n",
      "    infringement       0.61      0.47      0.53       283\n",
      "non_infringement       0.58      0.71      0.64       298\n",
      "\n",
      "        accuracy                           0.59       581\n",
      "       macro avg       0.59      0.59      0.58       581\n",
      "    weighted avg       0.59      0.59      0.59       581\n",
      "\n",
      "Epoch 390/2000, Loss: 0.1313\n",
      "Test Accuracy at Epoch 390: 59.21%\n",
      "Classification Report at Epoch 390:\n",
      "                  precision    recall  f1-score   support\n",
      "\n",
      "    infringement       0.61      0.47      0.53       283\n",
      "non_infringement       0.58      0.71      0.64       298\n",
      "\n",
      "        accuracy                           0.59       581\n",
      "       macro avg       0.59      0.59      0.58       581\n",
      "    weighted avg       0.59      0.59      0.59       581\n",
      "\n"
     ]
    },
    {
     "name": "stderr",
     "output_type": "stream",
     "text": [
      "Training Epochs:  20%|██        | 400/2000 [00:03<00:15, 100.63it/s]"
     ]
    },
    {
     "name": "stdout",
     "output_type": "stream",
     "text": [
      "Epoch 400/2000, Loss: 0.1265\n",
      "Test Accuracy at Epoch 400: 58.86%\n",
      "Classification Report at Epoch 400:\n",
      "                  precision    recall  f1-score   support\n",
      "\n",
      "    infringement       0.60      0.46      0.52       283\n",
      "non_infringement       0.58      0.71      0.64       298\n",
      "\n",
      "        accuracy                           0.59       581\n",
      "       macro avg       0.59      0.59      0.58       581\n",
      "    weighted avg       0.59      0.59      0.58       581\n",
      "\n"
     ]
    },
    {
     "name": "stderr",
     "output_type": "stream",
     "text": [
      "Training Epochs:  21%|██        | 411/2000 [00:04<00:15, 100.02it/s]"
     ]
    },
    {
     "name": "stdout",
     "output_type": "stream",
     "text": [
      "Epoch 410/2000, Loss: 0.1221\n",
      "Test Accuracy at Epoch 410: 59.38%\n",
      "Classification Report at Epoch 410:\n",
      "                  precision    recall  f1-score   support\n",
      "\n",
      "    infringement       0.61      0.46      0.52       283\n",
      "non_infringement       0.58      0.72      0.65       298\n",
      "\n",
      "        accuracy                           0.59       581\n",
      "       macro avg       0.60      0.59      0.58       581\n",
      "    weighted avg       0.60      0.59      0.59       581\n",
      "\n"
     ]
    },
    {
     "name": "stderr",
     "output_type": "stream",
     "text": [
      "Training Epochs:  21%|██        | 423/2000 [00:04<00:15, 104.28it/s]"
     ]
    },
    {
     "name": "stdout",
     "output_type": "stream",
     "text": [
      "Epoch 420/2000, Loss: 0.1179\n",
      "Test Accuracy at Epoch 420: 59.21%\n",
      "Classification Report at Epoch 420:\n",
      "                  precision    recall  f1-score   support\n",
      "\n",
      "    infringement       0.61      0.46      0.52       283\n",
      "non_infringement       0.58      0.72      0.64       298\n",
      "\n",
      "        accuracy                           0.59       581\n",
      "       macro avg       0.60      0.59      0.58       581\n",
      "    weighted avg       0.60      0.59      0.58       581\n",
      "\n",
      "Epoch 430/2000, Loss: 0.1140\n",
      "Test Accuracy at Epoch 430: 59.38%\n",
      "Classification Report at Epoch 430:\n",
      "                  precision    recall  f1-score   support\n",
      "\n",
      "    infringement       0.61      0.46      0.52       283\n",
      "non_infringement       0.58      0.72      0.65       298\n",
      "\n",
      "        accuracy                           0.59       581\n",
      "       macro avg       0.60      0.59      0.58       581\n",
      "    weighted avg       0.60      0.59      0.59       581\n",
      "\n"
     ]
    },
    {
     "name": "stderr",
     "output_type": "stream",
     "text": [
      "Training Epochs:  22%|██▏       | 434/2000 [00:04<00:14, 104.54it/s]"
     ]
    },
    {
     "name": "stdout",
     "output_type": "stream",
     "text": [
      "Epoch 440/2000, Loss: 0.1103\n",
      "Test Accuracy at Epoch 440: 59.38%\n",
      "Classification Report at Epoch 440:\n",
      "                  precision    recall  f1-score   support\n",
      "\n",
      "    infringement       0.61      0.46      0.52       283\n",
      "non_infringement       0.58      0.72      0.65       298\n",
      "\n",
      "        accuracy                           0.59       581\n",
      "       macro avg       0.60      0.59      0.58       581\n",
      "    weighted avg       0.60      0.59      0.59       581\n",
      "\n"
     ]
    },
    {
     "name": "stderr",
     "output_type": "stream",
     "text": [
      "Training Epochs:  23%|██▎       | 459/2000 [00:04<00:14, 108.99it/s]"
     ]
    },
    {
     "name": "stdout",
     "output_type": "stream",
     "text": [
      "Epoch 450/2000, Loss: 0.1068\n",
      "Test Accuracy at Epoch 450: 59.21%\n",
      "Classification Report at Epoch 450:\n",
      "                  precision    recall  f1-score   support\n",
      "\n",
      "    infringement       0.61      0.46      0.52       283\n",
      "non_infringement       0.58      0.72      0.64       298\n",
      "\n",
      "        accuracy                           0.59       581\n",
      "       macro avg       0.60      0.59      0.58       581\n",
      "    weighted avg       0.60      0.59      0.58       581\n",
      "\n",
      "Epoch 460/2000, Loss: 0.1035\n",
      "Test Accuracy at Epoch 460: 59.04%\n"
     ]
    },
    {
     "name": "stderr",
     "output_type": "stream",
     "text": [
      "Training Epochs:  24%|██▎       | 472/2000 [00:04<00:13, 113.80it/s]"
     ]
    },
    {
     "name": "stdout",
     "output_type": "stream",
     "text": [
      "Classification Report at Epoch 460:\n",
      "                  precision    recall  f1-score   support\n",
      "\n",
      "    infringement       0.60      0.46      0.52       283\n",
      "non_infringement       0.58      0.71      0.64       298\n",
      "\n",
      "        accuracy                           0.59       581\n",
      "       macro avg       0.59      0.59      0.58       581\n",
      "    weighted avg       0.59      0.59      0.58       581\n",
      "\n",
      "Epoch 470/2000, Loss: 0.1003\n",
      "Test Accuracy at Epoch 470: 58.86%\n",
      "Classification Report at Epoch 470:\n",
      "                  precision    recall  f1-score   support\n",
      "\n",
      "    infringement       0.60      0.46      0.52       283\n",
      "non_infringement       0.58      0.71      0.64       298\n",
      "\n",
      "        accuracy                           0.59       581\n",
      "       macro avg       0.59      0.59      0.58       581\n",
      "    weighted avg       0.59      0.59      0.58       581\n",
      "\n"
     ]
    },
    {
     "name": "stderr",
     "output_type": "stream",
     "text": [
      "Training Epochs:  24%|██▍       | 486/2000 [00:04<00:12, 119.05it/s]"
     ]
    },
    {
     "name": "stdout",
     "output_type": "stream",
     "text": [
      "Epoch 480/2000, Loss: 0.0973\n",
      "Test Accuracy at Epoch 480: 58.69%\n",
      "Classification Report at Epoch 480:\n",
      "                  precision    recall  f1-score   support\n",
      "\n",
      "    infringement       0.60      0.46      0.52       283\n",
      "non_infringement       0.58      0.71      0.64       298\n",
      "\n",
      "        accuracy                           0.59       581\n",
      "       macro avg       0.59      0.58      0.58       581\n",
      "    weighted avg       0.59      0.59      0.58       581\n",
      "\n"
     ]
    },
    {
     "name": "stderr",
     "output_type": "stream",
     "text": [
      "Training Epochs:  25%|██▍       | 498/2000 [00:04<00:14, 106.38it/s]"
     ]
    },
    {
     "name": "stdout",
     "output_type": "stream",
     "text": [
      "Epoch 490/2000, Loss: 0.0944\n",
      "Test Accuracy at Epoch 490: 58.35%\n",
      "Classification Report at Epoch 490:\n",
      "                  precision    recall  f1-score   support\n",
      "\n",
      "    infringement       0.59      0.46      0.52       283\n",
      "non_infringement       0.58      0.70      0.63       298\n",
      "\n",
      "        accuracy                           0.58       581\n",
      "       macro avg       0.59      0.58      0.58       581\n",
      "    weighted avg       0.59      0.58      0.58       581\n",
      "\n"
     ]
    },
    {
     "name": "stderr",
     "output_type": "stream",
     "text": [
      "Training Epochs:  26%|██▌       | 510/2000 [00:04<00:13, 109.16it/s]"
     ]
    },
    {
     "name": "stdout",
     "output_type": "stream",
     "text": [
      "Epoch 500/2000, Loss: 0.0916\n",
      "Test Accuracy at Epoch 500: 58.52%\n",
      "Classification Report at Epoch 500:\n",
      "                  precision    recall  f1-score   support\n",
      "\n",
      "    infringement       0.60      0.46      0.52       283\n",
      "non_infringement       0.58      0.71      0.64       298\n",
      "\n",
      "        accuracy                           0.59       581\n",
      "       macro avg       0.59      0.58      0.58       581\n",
      "    weighted avg       0.59      0.59      0.58       581\n",
      "\n",
      "Epoch 510/2000, Loss: 0.0890\n",
      "Test Accuracy at Epoch 510: 58.69%\n",
      "Classification Report at Epoch 510:\n",
      "                  precision    recall  f1-score   support\n",
      "\n",
      "    infringement       0.60      0.46      0.52       283\n",
      "non_infringement       0.58      0.71      0.64       298\n",
      "\n",
      "        accuracy                           0.59       581\n",
      "       macro avg       0.59      0.58      0.58       581\n",
      "    weighted avg       0.59      0.59      0.58       581\n",
      "\n"
     ]
    },
    {
     "name": "stderr",
     "output_type": "stream",
     "text": [
      "Training Epochs:  26%|██▌       | 524/2000 [00:05<00:12, 116.91it/s]"
     ]
    },
    {
     "name": "stdout",
     "output_type": "stream",
     "text": [
      "Epoch 520/2000, Loss: 0.0864\n",
      "Test Accuracy at Epoch 520: 58.52%\n",
      "Classification Report at Epoch 520:\n",
      "                  precision    recall  f1-score   support\n",
      "\n",
      "    infringement       0.60      0.46      0.52       283\n",
      "non_infringement       0.58      0.70      0.64       298\n",
      "\n",
      "        accuracy                           0.59       581\n",
      "       macro avg       0.59      0.58      0.58       581\n",
      "    weighted avg       0.59      0.59      0.58       581\n",
      "\n"
     ]
    },
    {
     "name": "stderr",
     "output_type": "stream",
     "text": [
      "Training Epochs:  27%|██▋       | 536/2000 [00:05<00:14, 104.17it/s]"
     ]
    },
    {
     "name": "stdout",
     "output_type": "stream",
     "text": [
      "Epoch 530/2000, Loss: 0.0839\n",
      "Test Accuracy at Epoch 530: 58.52%\n",
      "Classification Report at Epoch 530:\n",
      "                  precision    recall  f1-score   support\n",
      "\n",
      "    infringement       0.60      0.46      0.52       283\n",
      "non_infringement       0.58      0.70      0.64       298\n",
      "\n",
      "        accuracy                           0.59       581\n",
      "       macro avg       0.59      0.58      0.58       581\n",
      "    weighted avg       0.59      0.59      0.58       581\n",
      "\n",
      "Epoch 540/2000, Loss: 0.0816\n",
      "Test Accuracy at Epoch 540: 58.69%\n",
      "Classification Report at Epoch 540:\n",
      "                  precision    recall  f1-score   support\n",
      "\n",
      "    infringement       0.60      0.46      0.52       283\n",
      "non_infringement       0.58      0.71      0.64       298\n",
      "\n",
      "        accuracy                           0.59       581\n",
      "       macro avg       0.59      0.58      0.58       581\n",
      "    weighted avg       0.59      0.59      0.58       581\n",
      "\n"
     ]
    },
    {
     "name": "stderr",
     "output_type": "stream",
     "text": [
      "Training Epochs:  28%|██▊       | 562/2000 [00:05<00:12, 114.00it/s]"
     ]
    },
    {
     "name": "stdout",
     "output_type": "stream",
     "text": [
      "Epoch 550/2000, Loss: 0.0793\n",
      "Test Accuracy at Epoch 550: 58.69%\n",
      "Classification Report at Epoch 550:\n",
      "                  precision    recall  f1-score   support\n",
      "\n",
      "    infringement       0.60      0.46      0.52       283\n",
      "non_infringement       0.58      0.71      0.64       298\n",
      "\n",
      "        accuracy                           0.59       581\n",
      "       macro avg       0.59      0.58      0.58       581\n",
      "    weighted avg       0.59      0.59      0.58       581\n",
      "\n",
      "Epoch 560/2000, Loss: 0.0771\n",
      "Test Accuracy at Epoch 560: 58.69%\n",
      "Classification Report at Epoch 560:\n",
      "                  precision    recall  f1-score   support\n",
      "\n",
      "    infringement       0.60      0.46      0.52       283\n",
      "non_infringement       0.58      0.71      0.64       298\n",
      "\n",
      "        accuracy                           0.59       581\n",
      "       macro avg       0.59      0.58      0.58       581\n",
      "    weighted avg       0.59      0.59      0.58       581\n",
      "\n"
     ]
    },
    {
     "name": "stderr",
     "output_type": "stream",
     "text": [
      "Training Epochs:  29%|██▉       | 575/2000 [00:05<00:12, 118.07it/s]"
     ]
    },
    {
     "name": "stdout",
     "output_type": "stream",
     "text": [
      "Epoch 570/2000, Loss: 0.0751\n",
      "Test Accuracy at Epoch 570: 58.86%\n",
      "Classification Report at Epoch 570:\n",
      "                  precision    recall  f1-score   support\n",
      "\n",
      "    infringement       0.60      0.46      0.52       283\n",
      "non_infringement       0.58      0.71      0.64       298\n",
      "\n",
      "        accuracy                           0.59       581\n",
      "       macro avg       0.59      0.59      0.58       581\n",
      "    weighted avg       0.59      0.59      0.58       581\n",
      "\n"
     ]
    },
    {
     "name": "stderr",
     "output_type": "stream",
     "text": [
      "Training Epochs:  29%|██▉       | 588/2000 [00:05<00:13, 107.62it/s]"
     ]
    },
    {
     "name": "stdout",
     "output_type": "stream",
     "text": [
      "Epoch 580/2000, Loss: 0.0731\n",
      "Test Accuracy at Epoch 580: 59.04%\n",
      "Classification Report at Epoch 580:\n",
      "                  precision    recall  f1-score   support\n",
      "\n",
      "    infringement       0.60      0.47      0.53       283\n",
      "non_infringement       0.58      0.71      0.64       298\n",
      "\n",
      "        accuracy                           0.59       581\n",
      "       macro avg       0.59      0.59      0.58       581\n",
      "    weighted avg       0.59      0.59      0.58       581\n",
      "\n"
     ]
    },
    {
     "name": "stderr",
     "output_type": "stream",
     "text": [
      "Training Epochs:  30%|███       | 600/2000 [00:05<00:12, 110.76it/s]"
     ]
    },
    {
     "name": "stdout",
     "output_type": "stream",
     "text": [
      "Epoch 590/2000, Loss: 0.0713\n",
      "Test Accuracy at Epoch 590: 59.21%\n",
      "Classification Report at Epoch 590:\n",
      "                  precision    recall  f1-score   support\n",
      "\n",
      "    infringement       0.61      0.47      0.53       283\n",
      "non_infringement       0.58      0.71      0.64       298\n",
      "\n",
      "        accuracy                           0.59       581\n",
      "       macro avg       0.59      0.59      0.58       581\n",
      "    weighted avg       0.59      0.59      0.59       581\n",
      "\n",
      "Epoch 600/2000, Loss: 0.0695\n",
      "Test Accuracy at Epoch 600: 59.21%\n",
      "Classification Report at Epoch 600:\n",
      "                  precision    recall  f1-score   support\n",
      "\n",
      "    infringement       0.61      0.47      0.53       283\n",
      "non_infringement       0.58      0.71      0.64       298\n",
      "\n",
      "        accuracy                           0.59       581\n",
      "       macro avg       0.59      0.59      0.58       581\n",
      "    weighted avg       0.59      0.59      0.59       581\n",
      "\n"
     ]
    },
    {
     "name": "stderr",
     "output_type": "stream",
     "text": [
      "Training Epochs:  31%|███       | 613/2000 [00:05<00:11, 115.65it/s]"
     ]
    },
    {
     "name": "stdout",
     "output_type": "stream",
     "text": [
      "Epoch 610/2000, Loss: 0.0678\n",
      "Test Accuracy at Epoch 610: 59.21%\n",
      "Classification Report at Epoch 610:\n",
      "                  precision    recall  f1-score   support\n",
      "\n",
      "    infringement       0.61      0.47      0.53       283\n",
      "non_infringement       0.58      0.71      0.64       298\n",
      "\n",
      "        accuracy                           0.59       581\n",
      "       macro avg       0.59      0.59      0.58       581\n",
      "    weighted avg       0.59      0.59      0.59       581\n",
      "\n"
     ]
    },
    {
     "name": "stderr",
     "output_type": "stream",
     "text": [
      "Training Epochs:  31%|███▏      | 625/2000 [00:05<00:13, 105.13it/s]"
     ]
    },
    {
     "name": "stdout",
     "output_type": "stream",
     "text": [
      "Epoch 620/2000, Loss: 0.0662\n",
      "Test Accuracy at Epoch 620: 58.86%\n",
      "Classification Report at Epoch 620:\n",
      "                  precision    recall  f1-score   support\n",
      "\n",
      "    infringement       0.60      0.46      0.52       283\n",
      "non_infringement       0.58      0.71      0.64       298\n",
      "\n",
      "        accuracy                           0.59       581\n",
      "       macro avg       0.59      0.59      0.58       581\n",
      "    weighted avg       0.59      0.59      0.58       581\n",
      "\n"
     ]
    },
    {
     "name": "stderr",
     "output_type": "stream",
     "text": [
      "Training Epochs:  32%|███▏      | 639/2000 [00:06<00:12, 112.58it/s]"
     ]
    },
    {
     "name": "stdout",
     "output_type": "stream",
     "text": [
      "Epoch 630/2000, Loss: 0.0646\n",
      "Test Accuracy at Epoch 630: 59.04%\n",
      "Classification Report at Epoch 630:\n",
      "                  precision    recall  f1-score   support\n",
      "\n",
      "    infringement       0.60      0.46      0.52       283\n",
      "non_infringement       0.58      0.71      0.64       298\n",
      "\n",
      "        accuracy                           0.59       581\n",
      "       macro avg       0.59      0.59      0.58       581\n",
      "    weighted avg       0.59      0.59      0.58       581\n",
      "\n"
     ]
    },
    {
     "name": "stderr",
     "output_type": "stream",
     "text": [
      "Training Epochs:  33%|███▎      | 651/2000 [00:06<00:12, 107.98it/s]"
     ]
    },
    {
     "name": "stdout",
     "output_type": "stream",
     "text": [
      "Epoch 640/2000, Loss: 0.0632\n",
      "Test Accuracy at Epoch 640: 59.38%\n",
      "Classification Report at Epoch 640:\n",
      "                  precision    recall  f1-score   support\n",
      "\n",
      "    infringement       0.61      0.47      0.53       283\n",
      "non_infringement       0.59      0.71      0.64       298\n",
      "\n",
      "        accuracy                           0.59       581\n",
      "       macro avg       0.60      0.59      0.59       581\n",
      "    weighted avg       0.60      0.59      0.59       581\n",
      "\n",
      "Epoch 650/2000, Loss: 0.0617\n",
      "Test Accuracy at Epoch 650: 59.55%\n",
      "Classification Report at Epoch 650:\n",
      "                  precision    recall  f1-score   support\n",
      "\n",
      "    infringement       0.61      0.47      0.53       283\n",
      "non_infringement       0.59      0.71      0.64       298\n",
      "\n",
      "        accuracy                           0.60       581\n",
      "       macro avg       0.60      0.59      0.59       581\n",
      "    weighted avg       0.60      0.60      0.59       581\n",
      "\n",
      "Epoch 660/2000, Loss: 0.0604\n",
      "Test Accuracy at Epoch 660: 59.55%\n",
      "Classification Report at Epoch 660:\n",
      "                  precision    recall  f1-score   support\n",
      "\n",
      "    infringement       0.61      0.47      0.53       283\n",
      "non_infringement       0.59      0.71      0.64       298\n",
      "\n",
      "        accuracy                           0.60       581\n",
      "       macro avg       0.60      0.59      0.59       581\n",
      "    weighted avg       0.60      0.60      0.59       581\n",
      "\n"
     ]
    },
    {
     "name": "stderr",
     "output_type": "stream",
     "text": [
      "Training Epochs:  34%|███▍      | 676/2000 [00:06<00:12, 104.20it/s]"
     ]
    },
    {
     "name": "stdout",
     "output_type": "stream",
     "text": [
      "Epoch 670/2000, Loss: 0.0590\n",
      "Test Accuracy at Epoch 670: 59.38%\n",
      "Classification Report at Epoch 670:\n",
      "                  precision    recall  f1-score   support\n",
      "\n",
      "    infringement       0.61      0.47      0.53       283\n",
      "non_infringement       0.59      0.71      0.64       298\n",
      "\n",
      "        accuracy                           0.59       581\n",
      "       macro avg       0.60      0.59      0.59       581\n",
      "    weighted avg       0.60      0.59      0.59       581\n",
      "\n"
     ]
    },
    {
     "name": "stderr",
     "output_type": "stream",
     "text": [
      "Training Epochs:  34%|███▍      | 689/2000 [00:06<00:11, 109.73it/s]"
     ]
    },
    {
     "name": "stdout",
     "output_type": "stream",
     "text": [
      "Epoch 680/2000, Loss: 0.0578\n",
      "Test Accuracy at Epoch 680: 59.21%\n",
      "Classification Report at Epoch 680:\n",
      "                  precision    recall  f1-score   support\n",
      "\n",
      "    infringement       0.60      0.47      0.53       283\n",
      "non_infringement       0.58      0.70      0.64       298\n",
      "\n",
      "        accuracy                           0.59       581\n",
      "       macro avg       0.59      0.59      0.58       581\n",
      "    weighted avg       0.59      0.59      0.59       581\n",
      "\n",
      "Epoch 690/2000, Loss: 0.0565\n",
      "Test Accuracy at Epoch 690: 59.21%\n",
      "Classification Report at Epoch 690:\n",
      "                  precision    recall  f1-score   support\n",
      "\n",
      "    infringement       0.60      0.48      0.53       283\n",
      "non_infringement       0.59      0.70      0.64       298\n",
      "\n",
      "        accuracy                           0.59       581\n",
      "       macro avg       0.59      0.59      0.59       581\n",
      "    weighted avg       0.59      0.59      0.59       581\n",
      "\n"
     ]
    },
    {
     "name": "stderr",
     "output_type": "stream",
     "text": [
      "Training Epochs:  35%|███▌      | 702/2000 [00:06<00:11, 113.00it/s]"
     ]
    },
    {
     "name": "stdout",
     "output_type": "stream",
     "text": [
      "Epoch 700/2000, Loss: 0.0553\n",
      "Test Accuracy at Epoch 700: 59.55%\n",
      "Classification Report at Epoch 700:\n",
      "                  precision    recall  f1-score   support\n",
      "\n",
      "    infringement       0.61      0.49      0.54       283\n",
      "non_infringement       0.59      0.70      0.64       298\n",
      "\n",
      "        accuracy                           0.60       581\n",
      "       macro avg       0.60      0.59      0.59       581\n",
      "    weighted avg       0.60      0.60      0.59       581\n",
      "\n"
     ]
    },
    {
     "name": "stderr",
     "output_type": "stream",
     "text": [
      "Training Epochs:  36%|███▌      | 714/2000 [00:06<00:12, 104.83it/s]"
     ]
    },
    {
     "name": "stdout",
     "output_type": "stream",
     "text": [
      "Epoch 710/2000, Loss: 0.0542\n",
      "Test Accuracy at Epoch 710: 59.55%\n",
      "Classification Report at Epoch 710:\n",
      "                  precision    recall  f1-score   support\n",
      "\n",
      "    infringement       0.61      0.49      0.54       283\n",
      "non_infringement       0.59      0.70      0.64       298\n",
      "\n",
      "        accuracy                           0.60       581\n",
      "       macro avg       0.60      0.59      0.59       581\n",
      "    weighted avg       0.60      0.60      0.59       581\n",
      "\n"
     ]
    },
    {
     "name": "stderr",
     "output_type": "stream",
     "text": [
      "Training Epochs:  36%|███▋      | 727/2000 [00:06<00:11, 110.03it/s]"
     ]
    },
    {
     "name": "stdout",
     "output_type": "stream",
     "text": [
      "Epoch 720/2000, Loss: 0.0531\n",
      "Test Accuracy at Epoch 720: 59.38%\n",
      "Classification Report at Epoch 720:\n",
      "                  precision    recall  f1-score   support\n",
      "\n",
      "    infringement       0.60      0.49      0.54       283\n",
      "non_infringement       0.59      0.69      0.64       298\n",
      "\n",
      "        accuracy                           0.59       581\n",
      "       macro avg       0.60      0.59      0.59       581\n",
      "    weighted avg       0.60      0.59      0.59       581\n",
      "\n",
      "Epoch 730/2000, Loss: 0.0520\n",
      "Test Accuracy at Epoch 730: 59.21%\n",
      "Classification Report at Epoch 730:\n",
      "                  precision    recall  f1-score   support\n",
      "\n",
      "    infringement       0.60      0.49      0.54       283\n",
      "non_infringement       0.59      0.69      0.63       298\n",
      "\n",
      "        accuracy                           0.59       581\n",
      "       macro avg       0.59      0.59      0.59       581\n",
      "    weighted avg       0.59      0.59      0.59       581\n",
      "\n"
     ]
    },
    {
     "name": "stderr",
     "output_type": "stream",
     "text": [
      "Training Epochs:  37%|███▋      | 740/2000 [00:06<00:11, 112.26it/s]"
     ]
    },
    {
     "name": "stdout",
     "output_type": "stream",
     "text": [
      "Epoch 740/2000, Loss: 0.0509\n",
      "Test Accuracy at Epoch 740: 59.04%\n",
      "Classification Report at Epoch 740:\n",
      "                  precision    recall  f1-score   support\n",
      "\n",
      "    infringement       0.60      0.49      0.54       283\n",
      "non_infringement       0.59      0.69      0.63       298\n",
      "\n",
      "        accuracy                           0.59       581\n",
      "       macro avg       0.59      0.59      0.58       581\n",
      "    weighted avg       0.59      0.59      0.59       581\n",
      "\n"
     ]
    },
    {
     "name": "stderr",
     "output_type": "stream",
     "text": [
      "Training Epochs:  38%|███▊      | 753/2000 [00:07<00:11, 106.28it/s]"
     ]
    },
    {
     "name": "stdout",
     "output_type": "stream",
     "text": [
      "Epoch 750/2000, Loss: 0.0499\n",
      "Test Accuracy at Epoch 750: 58.86%\n",
      "Classification Report at Epoch 750:\n",
      "                  precision    recall  f1-score   support\n",
      "\n",
      "    infringement       0.60      0.48      0.53       283\n",
      "non_infringement       0.58      0.69      0.63       298\n",
      "\n",
      "        accuracy                           0.59       581\n",
      "       macro avg       0.59      0.59      0.58       581\n",
      "    weighted avg       0.59      0.59      0.58       581\n",
      "\n"
     ]
    },
    {
     "name": "stderr",
     "output_type": "stream",
     "text": [
      "Training Epochs:  38%|███▊      | 764/2000 [00:07<00:11, 106.83it/s]"
     ]
    },
    {
     "name": "stdout",
     "output_type": "stream",
     "text": [
      "Epoch 760/2000, Loss: 0.0489\n",
      "Test Accuracy at Epoch 760: 59.21%\n",
      "Classification Report at Epoch 760:\n",
      "                  precision    recall  f1-score   support\n",
      "\n",
      "    infringement       0.60      0.49      0.54       283\n",
      "non_infringement       0.59      0.69      0.63       298\n",
      "\n",
      "        accuracy                           0.59       581\n",
      "       macro avg       0.59      0.59      0.59       581\n",
      "    weighted avg       0.59      0.59      0.59       581\n",
      "\n"
     ]
    },
    {
     "name": "stderr",
     "output_type": "stream",
     "text": [
      "Training Epochs:  39%|███▉      | 777/2000 [00:07<00:10, 112.85it/s]"
     ]
    },
    {
     "name": "stdout",
     "output_type": "stream",
     "text": [
      "Epoch 770/2000, Loss: 0.0479\n",
      "Test Accuracy at Epoch 770: 59.21%\n",
      "Classification Report at Epoch 770:\n",
      "                  precision    recall  f1-score   support\n",
      "\n",
      "    infringement       0.60      0.49      0.54       283\n",
      "non_infringement       0.59      0.69      0.63       298\n",
      "\n",
      "        accuracy                           0.59       581\n",
      "       macro avg       0.59      0.59      0.59       581\n",
      "    weighted avg       0.59      0.59      0.59       581\n",
      "\n",
      "Epoch 780/2000, Loss: 0.0470\n",
      "Test Accuracy at Epoch 780: 59.04%\n",
      "Classification Report at Epoch 780:\n",
      "                  precision    recall  f1-score   support\n",
      "\n",
      "    infringement       0.60      0.49      0.54       283\n",
      "non_infringement       0.59      0.69      0.63       298\n",
      "\n",
      "        accuracy                           0.59       581\n",
      "       macro avg       0.59      0.59      0.58       581\n",
      "    weighted avg       0.59      0.59      0.59       581\n",
      "\n"
     ]
    },
    {
     "name": "stderr",
     "output_type": "stream",
     "text": [
      "Training Epochs:  40%|███▉      | 790/2000 [00:07<00:10, 115.34it/s]"
     ]
    },
    {
     "name": "stdout",
     "output_type": "stream",
     "text": [
      "Epoch 790/2000, Loss: 0.0460\n",
      "Test Accuracy at Epoch 790: 59.38%\n",
      "Classification Report at Epoch 790:\n",
      "                  precision    recall  f1-score   support\n",
      "\n",
      "    infringement       0.60      0.49      0.54       283\n",
      "non_infringement       0.59      0.69      0.63       298\n",
      "\n",
      "        accuracy                           0.59       581\n",
      "       macro avg       0.59      0.59      0.59       581\n",
      "    weighted avg       0.59      0.59      0.59       581\n",
      "\n"
     ]
    },
    {
     "name": "stderr",
     "output_type": "stream",
     "text": [
      "Training Epochs:  40%|████      | 802/2000 [00:07<00:11, 104.59it/s]"
     ]
    },
    {
     "name": "stdout",
     "output_type": "stream",
     "text": [
      "Epoch 800/2000, Loss: 0.0451\n",
      "Test Accuracy at Epoch 800: 59.72%\n",
      "Classification Report at Epoch 800:\n",
      "                  precision    recall  f1-score   support\n",
      "\n",
      "    infringement       0.60      0.50      0.55       283\n",
      "non_infringement       0.59      0.69      0.64       298\n",
      "\n",
      "        accuracy                           0.60       581\n",
      "       macro avg       0.60      0.59      0.59       581\n",
      "    weighted avg       0.60      0.60      0.59       581\n",
      "\n"
     ]
    },
    {
     "name": "stderr",
     "output_type": "stream",
     "text": [
      "Training Epochs:  41%|████      | 814/2000 [00:07<00:11, 107.51it/s]"
     ]
    },
    {
     "name": "stdout",
     "output_type": "stream",
     "text": [
      "Epoch 810/2000, Loss: 0.0443\n",
      "Test Accuracy at Epoch 810: 59.90%\n",
      "Classification Report at Epoch 810:\n",
      "                  precision    recall  f1-score   support\n",
      "\n",
      "    infringement       0.61      0.51      0.55       283\n",
      "non_infringement       0.59      0.69      0.64       298\n",
      "\n",
      "        accuracy                           0.60       581\n",
      "       macro avg       0.60      0.60      0.59       581\n",
      "    weighted avg       0.60      0.60      0.60       581\n",
      "\n",
      "Epoch 820/2000, Loss: 0.0434\n",
      "Test Accuracy at Epoch 820: 59.90%\n",
      "Classification Report at Epoch 820:\n",
      "                  precision    recall  f1-score   support\n",
      "\n",
      "    infringement       0.61      0.51      0.55       283\n",
      "non_infringement       0.59      0.68      0.64       298\n",
      "\n",
      "        accuracy                           0.60       581\n",
      "       macro avg       0.60      0.60      0.59       581\n",
      "    weighted avg       0.60      0.60      0.60       581\n",
      "\n"
     ]
    },
    {
     "name": "stderr",
     "output_type": "stream",
     "text": [
      "Training Epochs:  41%|████▏     | 826/2000 [00:07<00:10, 110.30it/s]"
     ]
    },
    {
     "name": "stdout",
     "output_type": "stream",
     "text": [
      "Epoch 830/2000, Loss: 0.0426\n",
      "Test Accuracy at Epoch 830: 59.90%\n",
      "Classification Report at Epoch 830:\n",
      "                  precision    recall  f1-score   support\n",
      "\n",
      "    infringement       0.61      0.51      0.55       283\n",
      "non_infringement       0.59      0.68      0.64       298\n",
      "\n",
      "        accuracy                           0.60       581\n",
      "       macro avg       0.60      0.60      0.59       581\n",
      "    weighted avg       0.60      0.60      0.60       581\n",
      "\n"
     ]
    },
    {
     "name": "stderr",
     "output_type": "stream",
     "text": [
      "Training Epochs:  42%|████▏     | 838/2000 [00:07<00:11, 97.60it/s] "
     ]
    },
    {
     "name": "stdout",
     "output_type": "stream",
     "text": [
      "Epoch 840/2000, Loss: 0.0418\n",
      "Test Accuracy at Epoch 840: 59.90%\n",
      "Classification Report at Epoch 840:\n",
      "                  precision    recall  f1-score   support\n",
      "\n",
      "    infringement       0.61      0.51      0.55       283\n",
      "non_infringement       0.59      0.68      0.64       298\n",
      "\n",
      "        accuracy                           0.60       581\n",
      "       macro avg       0.60      0.60      0.59       581\n",
      "    weighted avg       0.60      0.60      0.60       581\n",
      "\n"
     ]
    },
    {
     "name": "stderr",
     "output_type": "stream",
     "text": [
      "Training Epochs:  42%|████▎     | 850/2000 [00:08<00:11, 100.87it/s]"
     ]
    },
    {
     "name": "stdout",
     "output_type": "stream",
     "text": [
      "Epoch 850/2000, Loss: 0.0410\n",
      "Test Accuracy at Epoch 850: 59.90%\n",
      "Classification Report at Epoch 850:\n",
      "                  precision    recall  f1-score   support\n",
      "\n",
      "    infringement       0.61      0.51      0.55       283\n",
      "non_infringement       0.59      0.68      0.64       298\n",
      "\n",
      "        accuracy                           0.60       581\n",
      "       macro avg       0.60      0.60      0.59       581\n",
      "    weighted avg       0.60      0.60      0.60       581\n",
      "\n",
      "Epoch 860/2000, Loss: 0.0403\n",
      "Test Accuracy at Epoch 860: 60.24%\n",
      "Classification Report at Epoch 860:\n",
      "                  precision    recall  f1-score   support\n",
      "\n",
      "    infringement       0.61      0.52      0.56       283\n",
      "non_infringement       0.60      0.68      0.64       298\n",
      "\n",
      "        accuracy                           0.60       581\n",
      "       macro avg       0.60      0.60      0.60       581\n",
      "    weighted avg       0.60      0.60      0.60       581\n",
      "\n",
      "New best model saved with accuracy 60.24% at epoch 860\n",
      "Best Classification Report at Epoch 860:\n",
      "                  precision    recall  f1-score   support\n",
      "\n",
      "    infringement       0.61      0.52      0.56       283\n",
      "non_infringement       0.60      0.68      0.64       298\n",
      "\n",
      "        accuracy                           0.60       581\n",
      "       macro avg       0.60      0.60      0.60       581\n",
      "    weighted avg       0.60      0.60      0.60       581\n",
      "\n"
     ]
    },
    {
     "name": "stderr",
     "output_type": "stream",
     "text": [
      "Training Epochs:  43%|████▎     | 862/2000 [00:08<00:11, 102.73it/s]"
     ]
    },
    {
     "name": "stdout",
     "output_type": "stream",
     "text": [
      "Epoch 870/2000, Loss: 0.0396\n",
      "Test Accuracy at Epoch 870: 60.24%\n",
      "Classification Report at Epoch 870:\n",
      "                  precision    recall  f1-score   support\n",
      "\n",
      "    infringement       0.61      0.52      0.56       283\n",
      "non_infringement       0.60      0.68      0.64       298\n",
      "\n",
      "        accuracy                           0.60       581\n",
      "       macro avg       0.60      0.60      0.60       581\n",
      "    weighted avg       0.60      0.60      0.60       581\n",
      "\n"
     ]
    },
    {
     "name": "stderr",
     "output_type": "stream",
     "text": [
      "Training Epochs:  44%|████▍     | 884/2000 [00:08<00:11, 94.95it/s] "
     ]
    },
    {
     "name": "stdout",
     "output_type": "stream",
     "text": [
      "Epoch 880/2000, Loss: 0.0389\n",
      "Test Accuracy at Epoch 880: 60.24%\n",
      "Classification Report at Epoch 880:\n",
      "                  precision    recall  f1-score   support\n",
      "\n",
      "    infringement       0.61      0.52      0.56       283\n",
      "non_infringement       0.60      0.68      0.64       298\n",
      "\n",
      "        accuracy                           0.60       581\n",
      "       macro avg       0.60      0.60      0.60       581\n",
      "    weighted avg       0.60      0.60      0.60       581\n",
      "\n"
     ]
    },
    {
     "name": "stderr",
     "output_type": "stream",
     "text": [
      "Training Epochs:  45%|████▍     | 896/2000 [00:08<00:10, 101.31it/s]"
     ]
    },
    {
     "name": "stdout",
     "output_type": "stream",
     "text": [
      "Epoch 890/2000, Loss: 0.0382\n",
      "Test Accuracy at Epoch 890: 60.41%\n",
      "Classification Report at Epoch 890:\n",
      "                  precision    recall  f1-score   support\n",
      "\n",
      "    infringement       0.61      0.52      0.56       283\n",
      "non_infringement       0.60      0.68      0.64       298\n",
      "\n",
      "        accuracy                           0.60       581\n",
      "       macro avg       0.60      0.60      0.60       581\n",
      "    weighted avg       0.60      0.60      0.60       581\n",
      "\n",
      "New best model saved with accuracy 60.41% at epoch 890\n",
      "Best Classification Report at Epoch 890:\n",
      "                  precision    recall  f1-score   support\n",
      "\n",
      "    infringement       0.61      0.52      0.56       283\n",
      "non_infringement       0.60      0.68      0.64       298\n",
      "\n",
      "        accuracy                           0.60       581\n",
      "       macro avg       0.60      0.60      0.60       581\n",
      "    weighted avg       0.60      0.60      0.60       581\n",
      "\n",
      "Epoch 900/2000, Loss: 0.0376\n",
      "Test Accuracy at Epoch 900: 60.41%\n",
      "Classification Report at Epoch 900:\n",
      "                  precision    recall  f1-score   support\n",
      "\n",
      "    infringement       0.61      0.52      0.56       283\n",
      "non_infringement       0.60      0.68      0.64       298\n",
      "\n",
      "        accuracy                           0.60       581\n",
      "       macro avg       0.60      0.60      0.60       581\n",
      "    weighted avg       0.60      0.60      0.60       581\n",
      "\n"
     ]
    },
    {
     "name": "stderr",
     "output_type": "stream",
     "text": [
      "Training Epochs:  45%|████▌     | 908/2000 [00:08<00:10, 106.10it/s]"
     ]
    },
    {
     "name": "stdout",
     "output_type": "stream",
     "text": [
      "Epoch 910/2000, Loss: 0.0369\n",
      "Test Accuracy at Epoch 910: 60.41%\n",
      "Classification Report at Epoch 910:\n",
      "                  precision    recall  f1-score   support\n",
      "\n",
      "    infringement       0.61      0.52      0.56       283\n",
      "non_infringement       0.60      0.68      0.64       298\n",
      "\n",
      "        accuracy                           0.60       581\n",
      "       macro avg       0.60      0.60      0.60       581\n",
      "    weighted avg       0.60      0.60      0.60       581\n",
      "\n"
     ]
    },
    {
     "name": "stderr",
     "output_type": "stream",
     "text": [
      "Training Epochs:  46%|████▌     | 919/2000 [00:08<00:11, 94.15it/s] "
     ]
    },
    {
     "name": "stdout",
     "output_type": "stream",
     "text": [
      "Epoch 920/2000, Loss: 0.0363\n",
      "Test Accuracy at Epoch 920: 60.24%\n",
      "Classification Report at Epoch 920:\n",
      "                  precision    recall  f1-score   support\n",
      "\n",
      "    infringement       0.61      0.52      0.56       283\n",
      "non_infringement       0.60      0.68      0.64       298\n",
      "\n",
      "        accuracy                           0.60       581\n",
      "       macro avg       0.60      0.60      0.60       581\n",
      "    weighted avg       0.60      0.60      0.60       581\n",
      "\n"
     ]
    },
    {
     "name": "stderr",
     "output_type": "stream",
     "text": [
      "Training Epochs:  47%|████▋     | 944/2000 [00:08<00:09, 106.54it/s]"
     ]
    },
    {
     "name": "stdout",
     "output_type": "stream",
     "text": [
      "Epoch 930/2000, Loss: 0.0358\n",
      "Test Accuracy at Epoch 930: 60.41%\n",
      "Classification Report at Epoch 930:\n",
      "                  precision    recall  f1-score   support\n",
      "\n",
      "    infringement       0.61      0.53      0.56       283\n",
      "non_infringement       0.60      0.68      0.64       298\n",
      "\n",
      "        accuracy                           0.60       581\n",
      "       macro avg       0.60      0.60      0.60       581\n",
      "    weighted avg       0.60      0.60      0.60       581\n",
      "\n",
      "Epoch 940/2000, Loss: 0.0352\n",
      "Test Accuracy at Epoch 940: 60.41%\n",
      "Classification Report at Epoch 940:\n",
      "                  precision    recall  f1-score   support\n",
      "\n",
      "    infringement       0.61      0.53      0.56       283\n",
      "non_infringement       0.60      0.68      0.64       298\n",
      "\n",
      "        accuracy                           0.60       581\n",
      "       macro avg       0.60      0.60      0.60       581\n",
      "    weighted avg       0.60      0.60      0.60       581\n",
      "\n",
      "Epoch 950/2000, Loss: 0.0346\n",
      "Test Accuracy at Epoch 950: 60.41%\n",
      "Classification Report at Epoch 950:\n",
      "                  precision    recall  f1-score   support\n",
      "\n",
      "    infringement       0.61      0.53      0.56       283\n",
      "non_infringement       0.60      0.68      0.64       298\n",
      "\n",
      "        accuracy                           0.60       581\n",
      "       macro avg       0.60      0.60      0.60       581\n",
      "    weighted avg       0.60      0.60      0.60       581\n",
      "\n"
     ]
    },
    {
     "name": "stderr",
     "output_type": "stream",
     "text": [
      "Training Epochs:  48%|████▊     | 957/2000 [00:09<00:09, 111.55it/s]"
     ]
    },
    {
     "name": "stdout",
     "output_type": "stream",
     "text": [
      "Epoch 960/2000, Loss: 0.0341\n",
      "Test Accuracy at Epoch 960: 60.41%\n",
      "Classification Report at Epoch 960:\n",
      "                  precision    recall  f1-score   support\n",
      "\n",
      "    infringement       0.61      0.53      0.56       283\n",
      "non_infringement       0.60      0.68      0.64       298\n",
      "\n",
      "        accuracy                           0.60       581\n",
      "       macro avg       0.60      0.60      0.60       581\n",
      "    weighted avg       0.60      0.60      0.60       581\n",
      "\n"
     ]
    },
    {
     "name": "stderr",
     "output_type": "stream",
     "text": [
      "Training Epochs:  49%|████▉     | 981/2000 [00:09<00:09, 103.49it/s]"
     ]
    },
    {
     "name": "stdout",
     "output_type": "stream",
     "text": [
      "Epoch 970/2000, Loss: 0.0336\n",
      "Test Accuracy at Epoch 970: 60.41%\n",
      "Classification Report at Epoch 970:\n",
      "                  precision    recall  f1-score   support\n",
      "\n",
      "    infringement       0.61      0.53      0.56       283\n",
      "non_infringement       0.60      0.68      0.64       298\n",
      "\n",
      "        accuracy                           0.60       581\n",
      "       macro avg       0.60      0.60      0.60       581\n",
      "    weighted avg       0.60      0.60      0.60       581\n",
      "\n",
      "Epoch 980/2000, Loss: 0.0331\n",
      "Test Accuracy at Epoch 980: 60.24%\n",
      "Classification Report at Epoch 980:\n",
      "                  precision    recall  f1-score   support\n",
      "\n",
      "    infringement       0.61      0.53      0.56       283\n",
      "non_infringement       0.60      0.67      0.64       298\n",
      "\n",
      "        accuracy                           0.60       581\n",
      "       macro avg       0.60      0.60      0.60       581\n",
      "    weighted avg       0.60      0.60      0.60       581\n",
      "\n"
     ]
    },
    {
     "name": "stderr",
     "output_type": "stream",
     "text": [
      "Training Epochs:  50%|████▉     | 994/2000 [00:09<00:09, 109.61it/s]"
     ]
    },
    {
     "name": "stdout",
     "output_type": "stream",
     "text": [
      "Epoch 990/2000, Loss: 0.0326\n",
      "Test Accuracy at Epoch 990: 60.24%\n",
      "Classification Report at Epoch 990:\n",
      "                  precision    recall  f1-score   support\n",
      "\n",
      "    infringement       0.60      0.53      0.56       283\n",
      "non_infringement       0.60      0.67      0.63       298\n",
      "\n",
      "        accuracy                           0.60       581\n",
      "       macro avg       0.60      0.60      0.60       581\n",
      "    weighted avg       0.60      0.60      0.60       581\n",
      "\n"
     ]
    },
    {
     "name": "stderr",
     "output_type": "stream",
     "text": [
      "Training Epochs:  50%|█████     | 1006/2000 [00:09<00:10, 98.89it/s]"
     ]
    },
    {
     "name": "stdout",
     "output_type": "stream",
     "text": [
      "Epoch 1000/2000, Loss: 0.0321\n",
      "Test Accuracy at Epoch 1000: 60.24%\n",
      "Classification Report at Epoch 1000:\n",
      "                  precision    recall  f1-score   support\n",
      "\n",
      "    infringement       0.60      0.53      0.56       283\n",
      "non_infringement       0.60      0.67      0.63       298\n",
      "\n",
      "        accuracy                           0.60       581\n",
      "       macro avg       0.60      0.60      0.60       581\n",
      "    weighted avg       0.60      0.60      0.60       581\n",
      "\n",
      "Epoch 1010/2000, Loss: 0.0317\n",
      "Test Accuracy at Epoch 1010: 60.24%\n",
      "Classification Report at Epoch 1010:\n",
      "                  precision    recall  f1-score   support\n",
      "\n",
      "    infringement       0.60      0.53      0.56       283\n",
      "non_infringement       0.60      0.67      0.63       298\n",
      "\n",
      "        accuracy                           0.60       581\n",
      "       macro avg       0.60      0.60      0.60       581\n",
      "    weighted avg       0.60      0.60      0.60       581\n",
      "\n"
     ]
    },
    {
     "name": "stderr",
     "output_type": "stream",
     "text": [
      "Training Epochs:  52%|█████▏    | 1033/2000 [00:09<00:08, 111.53it/s]"
     ]
    },
    {
     "name": "stdout",
     "output_type": "stream",
     "text": [
      "Epoch 1020/2000, Loss: 0.0312\n",
      "Test Accuracy at Epoch 1020: 60.24%\n",
      "Classification Report at Epoch 1020:\n",
      "                  precision    recall  f1-score   support\n",
      "\n",
      "    infringement       0.60      0.53      0.56       283\n",
      "non_infringement       0.60      0.67      0.63       298\n",
      "\n",
      "        accuracy                           0.60       581\n",
      "       macro avg       0.60      0.60      0.60       581\n",
      "    weighted avg       0.60      0.60      0.60       581\n",
      "\n",
      "Epoch 1030/2000, Loss: 0.0308\n",
      "Test Accuracy at Epoch 1030: 60.24%\n",
      "Classification Report at Epoch 1030:\n",
      "                  precision    recall  f1-score   support\n",
      "\n",
      "    infringement       0.60      0.53      0.56       283\n",
      "non_infringement       0.60      0.67      0.63       298\n",
      "\n",
      "        accuracy                           0.60       581\n",
      "       macro avg       0.60      0.60      0.60       581\n",
      "    weighted avg       0.60      0.60      0.60       581\n",
      "\n",
      "Epoch 1040/2000, Loss: 0.0304\n",
      "Test Accuracy at Epoch 1040: 60.07%\n",
      "Classification Report at Epoch 1040:\n",
      "                  precision    recall  f1-score   support\n",
      "\n",
      "    infringement       0.60      0.53      0.56       283\n",
      "non_infringement       0.60      0.67      0.63       298\n",
      "\n",
      "        accuracy                           0.60       581\n",
      "       macro avg       0.60      0.60      0.60       581\n",
      "    weighted avg       0.60      0.60      0.60       581\n",
      "\n"
     ]
    },
    {
     "name": "stderr",
     "output_type": "stream",
     "text": [
      "Training Epochs:  53%|█████▎    | 1057/2000 [00:10<00:08, 106.06it/s]"
     ]
    },
    {
     "name": "stdout",
     "output_type": "stream",
     "text": [
      "Epoch 1050/2000, Loss: 0.0300\n",
      "Test Accuracy at Epoch 1050: 60.24%\n",
      "Classification Report at Epoch 1050:\n",
      "                  precision    recall  f1-score   support\n",
      "\n",
      "    infringement       0.60      0.53      0.57       283\n",
      "non_infringement       0.60      0.67      0.63       298\n",
      "\n",
      "        accuracy                           0.60       581\n",
      "       macro avg       0.60      0.60      0.60       581\n",
      "    weighted avg       0.60      0.60      0.60       581\n",
      "\n"
     ]
    },
    {
     "name": "stderr",
     "output_type": "stream",
     "text": [
      "Training Epochs:  54%|█████▎    | 1070/2000 [00:10<00:08, 109.02it/s]"
     ]
    },
    {
     "name": "stdout",
     "output_type": "stream",
     "text": [
      "Epoch 1060/2000, Loss: 0.0296\n",
      "Test Accuracy at Epoch 1060: 60.24%\n",
      "Classification Report at Epoch 1060:\n",
      "                  precision    recall  f1-score   support\n",
      "\n",
      "    infringement       0.60      0.54      0.57       283\n",
      "non_infringement       0.60      0.66      0.63       298\n",
      "\n",
      "        accuracy                           0.60       581\n",
      "       macro avg       0.60      0.60      0.60       581\n",
      "    weighted avg       0.60      0.60      0.60       581\n",
      "\n",
      "Epoch 1070/2000, Loss: 0.0292\n",
      "Test Accuracy at Epoch 1070: 60.41%\n",
      "Classification Report at Epoch 1070:\n",
      "                  precision    recall  f1-score   support\n",
      "\n",
      "    infringement       0.60      0.54      0.57       283\n",
      "non_infringement       0.60      0.66      0.63       298\n",
      "\n",
      "        accuracy                           0.60       581\n",
      "       macro avg       0.60      0.60      0.60       581\n",
      "    weighted avg       0.60      0.60      0.60       581\n",
      "\n"
     ]
    },
    {
     "name": "stderr",
     "output_type": "stream",
     "text": [
      "Training Epochs:  54%|█████▍    | 1082/2000 [00:10<00:08, 111.32it/s]"
     ]
    },
    {
     "name": "stdout",
     "output_type": "stream",
     "text": [
      "Epoch 1080/2000, Loss: 0.0288\n",
      "Test Accuracy at Epoch 1080: 60.41%\n",
      "Classification Report at Epoch 1080:\n",
      "                  precision    recall  f1-score   support\n",
      "\n",
      "    infringement       0.60      0.54      0.57       283\n",
      "non_infringement       0.60      0.66      0.63       298\n",
      "\n",
      "        accuracy                           0.60       581\n",
      "       macro avg       0.60      0.60      0.60       581\n",
      "    weighted avg       0.60      0.60      0.60       581\n",
      "\n"
     ]
    },
    {
     "name": "stderr",
     "output_type": "stream",
     "text": [
      "Training Epochs:  55%|█████▍    | 1094/2000 [00:10<00:08, 102.10it/s]"
     ]
    },
    {
     "name": "stdout",
     "output_type": "stream",
     "text": [
      "Epoch 1090/2000, Loss: 0.0284\n",
      "Test Accuracy at Epoch 1090: 60.41%\n",
      "Classification Report at Epoch 1090:\n",
      "                  precision    recall  f1-score   support\n",
      "\n",
      "    infringement       0.60      0.54      0.57       283\n",
      "non_infringement       0.60      0.66      0.63       298\n",
      "\n",
      "        accuracy                           0.60       581\n",
      "       macro avg       0.60      0.60      0.60       581\n",
      "    weighted avg       0.60      0.60      0.60       581\n",
      "\n"
     ]
    },
    {
     "name": "stderr",
     "output_type": "stream",
     "text": [
      "Training Epochs:  55%|█████▌    | 1107/2000 [00:10<00:08, 109.04it/s]"
     ]
    },
    {
     "name": "stdout",
     "output_type": "stream",
     "text": [
      "Epoch 1100/2000, Loss: 0.0280\n",
      "Test Accuracy at Epoch 1100: 60.41%\n",
      "Classification Report at Epoch 1100:\n",
      "                  precision    recall  f1-score   support\n",
      "\n",
      "    infringement       0.60      0.54      0.57       283\n",
      "non_infringement       0.60      0.66      0.63       298\n",
      "\n",
      "        accuracy                           0.60       581\n",
      "       macro avg       0.60      0.60      0.60       581\n",
      "    weighted avg       0.60      0.60      0.60       581\n",
      "\n",
      "Epoch 1110/2000, Loss: 0.0277\n",
      "Test Accuracy at Epoch 1110: 60.24%\n",
      "Classification Report at Epoch 1110:\n",
      "                  precision    recall  f1-score   support\n",
      "\n",
      "    infringement       0.60      0.54      0.57       283\n",
      "non_infringement       0.60      0.66      0.63       298\n",
      "\n",
      "        accuracy                           0.60       581\n",
      "       macro avg       0.60      0.60      0.60       581\n",
      "    weighted avg       0.60      0.60      0.60       581\n",
      "\n"
     ]
    },
    {
     "name": "stderr",
     "output_type": "stream",
     "text": [
      "Training Epochs:  56%|█████▌    | 1119/2000 [00:10<00:07, 111.40it/s]"
     ]
    },
    {
     "name": "stdout",
     "output_type": "stream",
     "text": [
      "Epoch 1120/2000, Loss: 0.0273\n",
      "Test Accuracy at Epoch 1120: 60.07%\n",
      "Classification Report at Epoch 1120:\n",
      "                  precision    recall  f1-score   support\n",
      "\n",
      "    infringement       0.60      0.54      0.57       283\n",
      "non_infringement       0.60      0.65      0.63       298\n",
      "\n",
      "        accuracy                           0.60       581\n",
      "       macro avg       0.60      0.60      0.60       581\n",
      "    weighted avg       0.60      0.60      0.60       581\n",
      "\n"
     ]
    },
    {
     "name": "stderr",
     "output_type": "stream",
     "text": [
      "Training Epochs:  57%|█████▋    | 1131/2000 [00:10<00:08, 100.85it/s]"
     ]
    },
    {
     "name": "stdout",
     "output_type": "stream",
     "text": [
      "Epoch 1130/2000, Loss: 0.0270\n",
      "Test Accuracy at Epoch 1130: 59.90%\n",
      "Classification Report at Epoch 1130:\n",
      "                  precision    recall  f1-score   support\n",
      "\n",
      "    infringement       0.60      0.54      0.57       283\n",
      "non_infringement       0.60      0.65      0.62       298\n",
      "\n",
      "        accuracy                           0.60       581\n",
      "       macro avg       0.60      0.60      0.60       581\n",
      "    weighted avg       0.60      0.60      0.60       581\n",
      "\n",
      "Epoch 1140/2000, Loss: 0.0266\n",
      "Test Accuracy at Epoch 1140: 59.90%\n",
      "Classification Report at Epoch 1140:\n",
      "                  precision    recall  f1-score   support\n",
      "\n",
      "    infringement       0.60      0.54      0.57       283\n",
      "non_infringement       0.60      0.65      0.62       298\n",
      "\n",
      "        accuracy                           0.60       581\n",
      "       macro avg       0.60      0.60      0.60       581\n",
      "    weighted avg       0.60      0.60      0.60       581\n",
      "\n"
     ]
    },
    {
     "name": "stderr",
     "output_type": "stream",
     "text": [
      "Training Epochs:  58%|█████▊    | 1154/2000 [00:10<00:08, 98.24it/s] "
     ]
    },
    {
     "name": "stdout",
     "output_type": "stream",
     "text": [
      "Epoch 1150/2000, Loss: 0.0263\n",
      "Test Accuracy at Epoch 1150: 59.90%\n",
      "Classification Report at Epoch 1150:\n",
      "                  precision    recall  f1-score   support\n",
      "\n",
      "    infringement       0.60      0.54      0.57       283\n",
      "non_infringement       0.60      0.65      0.62       298\n",
      "\n",
      "        accuracy                           0.60       581\n",
      "       macro avg       0.60      0.60      0.60       581\n",
      "    weighted avg       0.60      0.60      0.60       581\n",
      "\n",
      "Epoch 1160/2000, Loss: 0.0260\n",
      "Test Accuracy at Epoch 1160: 59.90%\n",
      "Classification Report at Epoch 1160:\n",
      "                  precision    recall  f1-score   support\n",
      "\n",
      "    infringement       0.60      0.54      0.57       283\n",
      "non_infringement       0.60      0.65      0.62       298\n",
      "\n",
      "        accuracy                           0.60       581\n",
      "       macro avg       0.60      0.60      0.60       581\n",
      "    weighted avg       0.60      0.60      0.60       581\n",
      "\n"
     ]
    },
    {
     "name": "stderr",
     "output_type": "stream",
     "text": [
      "Training Epochs:  60%|█████▉    | 1191/2000 [00:11<00:07, 103.72it/s]"
     ]
    },
    {
     "name": "stdout",
     "output_type": "stream",
     "text": [
      "Epoch 1170/2000, Loss: 0.0257\n",
      "Test Accuracy at Epoch 1170: 59.55%\n",
      "Classification Report at Epoch 1170:\n",
      "                  precision    recall  f1-score   support\n",
      "\n",
      "    infringement       0.59      0.54      0.57       283\n",
      "non_infringement       0.60      0.64      0.62       298\n",
      "\n",
      "        accuracy                           0.60       581\n",
      "       macro avg       0.60      0.59      0.59       581\n",
      "    weighted avg       0.60      0.60      0.59       581\n",
      "\n",
      "Epoch 1180/2000, Loss: 0.0253\n",
      "Test Accuracy at Epoch 1180: 59.55%\n",
      "Classification Report at Epoch 1180:\n",
      "                  precision    recall  f1-score   support\n",
      "\n",
      "    infringement       0.59      0.54      0.57       283\n",
      "non_infringement       0.60      0.64      0.62       298\n",
      "\n",
      "        accuracy                           0.60       581\n",
      "       macro avg       0.60      0.59      0.59       581\n",
      "    weighted avg       0.60      0.60      0.59       581\n",
      "\n",
      "Epoch 1190/2000, Loss: 0.0250\n",
      "Test Accuracy at Epoch 1190: 59.55%\n",
      "Classification Report at Epoch 1190:\n",
      "                  precision    recall  f1-score   support\n",
      "\n",
      "    infringement       0.59      0.54      0.57       283\n",
      "non_infringement       0.60      0.64      0.62       298\n",
      "\n",
      "        accuracy                           0.60       581\n",
      "       macro avg       0.60      0.59      0.59       581\n",
      "    weighted avg       0.60      0.60      0.59       581\n",
      "\n"
     ]
    },
    {
     "name": "stderr",
     "output_type": "stream",
     "text": [
      "Training Epochs:  61%|██████    | 1214/2000 [00:11<00:08, 95.63it/s] "
     ]
    },
    {
     "name": "stdout",
     "output_type": "stream",
     "text": [
      "Epoch 1200/2000, Loss: 0.0247\n",
      "Test Accuracy at Epoch 1200: 59.55%\n",
      "Classification Report at Epoch 1200:\n",
      "                  precision    recall  f1-score   support\n",
      "\n",
      "    infringement       0.59      0.54      0.57       283\n",
      "non_infringement       0.60      0.64      0.62       298\n",
      "\n",
      "        accuracy                           0.60       581\n",
      "       macro avg       0.60      0.59      0.59       581\n",
      "    weighted avg       0.60      0.60      0.59       581\n",
      "\n",
      "Epoch 1210/2000, Loss: 0.0244\n",
      "Test Accuracy at Epoch 1210: 59.55%\n",
      "Classification Report at Epoch 1210:\n",
      "                  precision    recall  f1-score   support\n",
      "\n",
      "    infringement       0.59      0.54      0.57       283\n",
      "non_infringement       0.60      0.64      0.62       298\n",
      "\n",
      "        accuracy                           0.60       581\n",
      "       macro avg       0.60      0.59      0.59       581\n",
      "    weighted avg       0.60      0.60      0.59       581\n",
      "\n"
     ]
    },
    {
     "name": "stderr",
     "output_type": "stream",
     "text": [
      "Training Epochs:  62%|██████▏   | 1236/2000 [00:11<00:07, 101.69it/s]"
     ]
    },
    {
     "name": "stdout",
     "output_type": "stream",
     "text": [
      "Epoch 1220/2000, Loss: 0.0242\n",
      "Test Accuracy at Epoch 1220: 59.72%\n",
      "Classification Report at Epoch 1220:\n",
      "                  precision    recall  f1-score   support\n",
      "\n",
      "    infringement       0.59      0.54      0.57       283\n",
      "non_infringement       0.60      0.65      0.62       298\n",
      "\n",
      "        accuracy                           0.60       581\n",
      "       macro avg       0.60      0.60      0.60       581\n",
      "    weighted avg       0.60      0.60      0.60       581\n",
      "\n",
      "Epoch 1230/2000, Loss: 0.0239\n",
      "Test Accuracy at Epoch 1230: 59.72%\n",
      "Classification Report at Epoch 1230:\n",
      "                  precision    recall  f1-score   support\n",
      "\n",
      "    infringement       0.59      0.54      0.57       283\n",
      "non_infringement       0.60      0.65      0.62       298\n",
      "\n",
      "        accuracy                           0.60       581\n",
      "       macro avg       0.60      0.60      0.60       581\n",
      "    weighted avg       0.60      0.60      0.60       581\n",
      "\n",
      "Epoch 1240/2000, Loss: 0.0236\n",
      "Test Accuracy at Epoch 1240: 59.55%\n",
      "Classification Report at Epoch 1240:\n",
      "                  precision    recall  f1-score   support\n",
      "\n",
      "    infringement       0.59      0.54      0.57       283\n",
      "non_infringement       0.60      0.64      0.62       298\n",
      "\n",
      "        accuracy                           0.60       581\n",
      "       macro avg       0.60      0.59      0.59       581\n",
      "    weighted avg       0.60      0.60      0.59       581\n",
      "\n"
     ]
    },
    {
     "name": "stderr",
     "output_type": "stream",
     "text": [
      "Training Epochs:  63%|██████▎   | 1258/2000 [00:12<00:08, 85.62it/s] "
     ]
    },
    {
     "name": "stdout",
     "output_type": "stream",
     "text": [
      "Epoch 1250/2000, Loss: 0.0233\n",
      "Test Accuracy at Epoch 1250: 59.90%\n",
      "Classification Report at Epoch 1250:\n",
      "                  precision    recall  f1-score   support\n",
      "\n",
      "    infringement       0.60      0.55      0.57       283\n",
      "non_infringement       0.60      0.64      0.62       298\n",
      "\n",
      "        accuracy                           0.60       581\n",
      "       macro avg       0.60      0.60      0.60       581\n",
      "    weighted avg       0.60      0.60      0.60       581\n",
      "\n",
      "Epoch 1260/2000, Loss: 0.0231\n",
      "Test Accuracy at Epoch 1260: 59.90%\n",
      "Classification Report at Epoch 1260:\n",
      "                  precision    recall  f1-score   support\n",
      "\n",
      "    infringement       0.60      0.55      0.57       283\n",
      "non_infringement       0.60      0.64      0.62       298\n",
      "\n",
      "        accuracy                           0.60       581\n",
      "       macro avg       0.60      0.60      0.60       581\n",
      "    weighted avg       0.60      0.60      0.60       581\n",
      "\n"
     ]
    },
    {
     "name": "stderr",
     "output_type": "stream",
     "text": [
      "Training Epochs:  64%|██████▍   | 1280/2000 [00:12<00:07, 93.07it/s]"
     ]
    },
    {
     "name": "stdout",
     "output_type": "stream",
     "text": [
      "Epoch 1270/2000, Loss: 0.0228\n",
      "Test Accuracy at Epoch 1270: 60.07%\n",
      "Classification Report at Epoch 1270:\n",
      "                  precision    recall  f1-score   support\n",
      "\n",
      "    infringement       0.60      0.55      0.58       283\n",
      "non_infringement       0.60      0.64      0.62       298\n",
      "\n",
      "        accuracy                           0.60       581\n",
      "       macro avg       0.60      0.60      0.60       581\n",
      "    weighted avg       0.60      0.60      0.60       581\n",
      "\n",
      "Epoch 1280/2000, Loss: 0.0226\n",
      "Test Accuracy at Epoch 1280: 60.07%\n",
      "Classification Report at Epoch 1280:\n",
      "                  precision    recall  f1-score   support\n",
      "\n",
      "    infringement       0.60      0.55      0.58       283\n",
      "non_infringement       0.60      0.64      0.62       298\n",
      "\n",
      "        accuracy                           0.60       581\n",
      "       macro avg       0.60      0.60      0.60       581\n",
      "    weighted avg       0.60      0.60      0.60       581\n",
      "\n"
     ]
    },
    {
     "name": "stderr",
     "output_type": "stream",
     "text": [
      "Training Epochs:  65%|██████▌   | 1303/2000 [00:12<00:06, 100.92it/s]"
     ]
    },
    {
     "name": "stdout",
     "output_type": "stream",
     "text": [
      "Epoch 1290/2000, Loss: 0.0223\n",
      "Test Accuracy at Epoch 1290: 60.07%\n",
      "Classification Report at Epoch 1290:\n",
      "                  precision    recall  f1-score   support\n",
      "\n",
      "    infringement       0.60      0.55      0.58       283\n",
      "non_infringement       0.60      0.64      0.62       298\n",
      "\n",
      "        accuracy                           0.60       581\n",
      "       macro avg       0.60      0.60      0.60       581\n",
      "    weighted avg       0.60      0.60      0.60       581\n",
      "\n",
      "Epoch 1300/2000, Loss: 0.0221\n",
      "Test Accuracy at Epoch 1300: 59.72%\n",
      "Classification Report at Epoch 1300:\n",
      "                  precision    recall  f1-score   support\n",
      "\n",
      "    infringement       0.59      0.55      0.57       283\n",
      "non_infringement       0.60      0.64      0.62       298\n",
      "\n",
      "        accuracy                           0.60       581\n",
      "       macro avg       0.60      0.60      0.60       581\n",
      "    weighted avg       0.60      0.60      0.60       581\n",
      "\n",
      "Epoch 1310/2000, Loss: 0.0218\n",
      "Test Accuracy at Epoch 1310: 59.72%\n",
      "Classification Report at Epoch 1310:\n",
      "                  precision    recall  f1-score   support\n",
      "\n",
      "    infringement       0.59      0.55      0.57       283\n",
      "non_infringement       0.60      0.64      0.62       298\n",
      "\n",
      "        accuracy                           0.60       581\n",
      "       macro avg       0.60      0.60      0.60       581\n",
      "    weighted avg       0.60      0.60      0.60       581\n",
      "\n"
     ]
    },
    {
     "name": "stderr",
     "output_type": "stream",
     "text": [
      "Training Epochs:  66%|██████▋   | 1326/2000 [00:12<00:07, 92.96it/s] "
     ]
    },
    {
     "name": "stdout",
     "output_type": "stream",
     "text": [
      "Epoch 1320/2000, Loss: 0.0216\n",
      "Test Accuracy at Epoch 1320: 59.55%\n",
      "Classification Report at Epoch 1320:\n",
      "                  precision    recall  f1-score   support\n",
      "\n",
      "    infringement       0.59      0.55      0.57       283\n",
      "non_infringement       0.60      0.63      0.62       298\n",
      "\n",
      "        accuracy                           0.60       581\n",
      "       macro avg       0.60      0.59      0.59       581\n",
      "    weighted avg       0.60      0.60      0.59       581\n",
      "\n",
      "Epoch 1330/2000, Loss: 0.0213\n",
      "Test Accuracy at Epoch 1330: 59.72%\n",
      "Classification Report at Epoch 1330:\n",
      "                  precision    recall  f1-score   support\n",
      "\n",
      "    infringement       0.59      0.56      0.57       283\n",
      "non_infringement       0.60      0.63      0.62       298\n",
      "\n",
      "        accuracy                           0.60       581\n",
      "       macro avg       0.60      0.60      0.60       581\n",
      "    weighted avg       0.60      0.60      0.60       581\n",
      "\n"
     ]
    },
    {
     "name": "stderr",
     "output_type": "stream",
     "text": [
      "Training Epochs:  68%|██████▊   | 1361/2000 [00:13<00:06, 103.41it/s]"
     ]
    },
    {
     "name": "stdout",
     "output_type": "stream",
     "text": [
      "Epoch 1340/2000, Loss: 0.0211\n",
      "Test Accuracy at Epoch 1340: 59.72%\n",
      "Classification Report at Epoch 1340:\n",
      "                  precision    recall  f1-score   support\n",
      "\n",
      "    infringement       0.59      0.56      0.57       283\n",
      "non_infringement       0.60      0.63      0.62       298\n",
      "\n",
      "        accuracy                           0.60       581\n",
      "       macro avg       0.60      0.60      0.60       581\n",
      "    weighted avg       0.60      0.60      0.60       581\n",
      "\n",
      "Epoch 1350/2000, Loss: 0.0209\n",
      "Test Accuracy at Epoch 1350: 59.72%\n",
      "Classification Report at Epoch 1350:\n",
      "                  precision    recall  f1-score   support\n",
      "\n",
      "    infringement       0.59      0.56      0.57       283\n",
      "non_infringement       0.60      0.63      0.62       298\n",
      "\n",
      "        accuracy                           0.60       581\n",
      "       macro avg       0.60      0.60      0.60       581\n",
      "    weighted avg       0.60      0.60      0.60       581\n",
      "\n",
      "Epoch 1360/2000, Loss: 0.0207\n",
      "Test Accuracy at Epoch 1360: 59.72%\n",
      "Classification Report at Epoch 1360:\n",
      "                  precision    recall  f1-score   support\n",
      "\n",
      "    infringement       0.59      0.56      0.57       283\n",
      "non_infringement       0.60      0.63      0.62       298\n",
      "\n",
      "        accuracy                           0.60       581\n",
      "       macro avg       0.60      0.60      0.60       581\n",
      "    weighted avg       0.60      0.60      0.60       581\n",
      "\n"
     ]
    },
    {
     "name": "stderr",
     "output_type": "stream",
     "text": [
      "Training Epochs:  69%|██████▉   | 1385/2000 [00:13<00:05, 104.39it/s]"
     ]
    },
    {
     "name": "stdout",
     "output_type": "stream",
     "text": [
      "Epoch 1370/2000, Loss: 0.0204\n",
      "Test Accuracy at Epoch 1370: 59.90%\n",
      "Classification Report at Epoch 1370:\n",
      "                  precision    recall  f1-score   support\n",
      "\n",
      "    infringement       0.59      0.56      0.58       283\n",
      "non_infringement       0.60      0.64      0.62       298\n",
      "\n",
      "        accuracy                           0.60       581\n",
      "       macro avg       0.60      0.60      0.60       581\n",
      "    weighted avg       0.60      0.60      0.60       581\n",
      "\n",
      "Epoch 1380/2000, Loss: 0.0202\n",
      "Test Accuracy at Epoch 1380: 59.90%\n",
      "Classification Report at Epoch 1380:\n",
      "                  precision    recall  f1-score   support\n",
      "\n",
      "    infringement       0.59      0.56      0.58       283\n",
      "non_infringement       0.60      0.64      0.62       298\n",
      "\n",
      "        accuracy                           0.60       581\n",
      "       macro avg       0.60      0.60      0.60       581\n",
      "    weighted avg       0.60      0.60      0.60       581\n",
      "\n",
      "Epoch 1390/2000, Loss: 0.0200\n",
      "Test Accuracy at Epoch 1390: 59.90%\n",
      "Classification Report at Epoch 1390:\n",
      "                  precision    recall  f1-score   support\n",
      "\n",
      "    infringement       0.59      0.56      0.58       283\n",
      "non_infringement       0.60      0.64      0.62       298\n",
      "\n",
      "        accuracy                           0.60       581\n",
      "       macro avg       0.60      0.60      0.60       581\n",
      "    weighted avg       0.60      0.60      0.60       581\n",
      "\n"
     ]
    },
    {
     "name": "stderr",
     "output_type": "stream",
     "text": [
      "Training Epochs:  70%|███████   | 1410/2000 [00:13<00:05, 98.42it/s] "
     ]
    },
    {
     "name": "stdout",
     "output_type": "stream",
     "text": [
      "Epoch 1400/2000, Loss: 0.0198\n",
      "Test Accuracy at Epoch 1400: 59.90%\n",
      "Classification Report at Epoch 1400:\n",
      "                  precision    recall  f1-score   support\n",
      "\n",
      "    infringement       0.59      0.56      0.58       283\n",
      "non_infringement       0.60      0.64      0.62       298\n",
      "\n",
      "        accuracy                           0.60       581\n",
      "       macro avg       0.60      0.60      0.60       581\n",
      "    weighted avg       0.60      0.60      0.60       581\n",
      "\n",
      "Epoch 1410/2000, Loss: 0.0196\n",
      "Test Accuracy at Epoch 1410: 59.90%\n",
      "Classification Report at Epoch 1410:\n",
      "                  precision    recall  f1-score   support\n",
      "\n",
      "    infringement       0.59      0.56      0.58       283\n",
      "non_infringement       0.60      0.64      0.62       298\n",
      "\n",
      "        accuracy                           0.60       581\n",
      "       macro avg       0.60      0.60      0.60       581\n",
      "    weighted avg       0.60      0.60      0.60       581\n",
      "\n"
     ]
    },
    {
     "name": "stderr",
     "output_type": "stream",
     "text": [
      "Training Epochs:  72%|███████▏  | 1432/2000 [00:13<00:05, 100.27it/s]"
     ]
    },
    {
     "name": "stdout",
     "output_type": "stream",
     "text": [
      "Epoch 1420/2000, Loss: 0.0194\n",
      "Test Accuracy at Epoch 1420: 59.90%\n",
      "Classification Report at Epoch 1420:\n",
      "                  precision    recall  f1-score   support\n",
      "\n",
      "    infringement       0.59      0.56      0.58       283\n",
      "non_infringement       0.60      0.64      0.62       298\n",
      "\n",
      "        accuracy                           0.60       581\n",
      "       macro avg       0.60      0.60      0.60       581\n",
      "    weighted avg       0.60      0.60      0.60       581\n",
      "\n",
      "Epoch 1430/2000, Loss: 0.0192\n",
      "Test Accuracy at Epoch 1430: 60.07%\n",
      "Classification Report at Epoch 1430:\n",
      "                  precision    recall  f1-score   support\n",
      "\n",
      "    infringement       0.60      0.56      0.58       283\n",
      "non_infringement       0.61      0.64      0.62       298\n",
      "\n",
      "        accuracy                           0.60       581\n",
      "       macro avg       0.60      0.60      0.60       581\n",
      "    weighted avg       0.60      0.60      0.60       581\n",
      "\n",
      "Epoch 1440/2000, Loss: 0.0190\n",
      "Test Accuracy at Epoch 1440: 60.07%\n",
      "Classification Report at Epoch 1440:\n",
      "                  precision    recall  f1-score   support\n",
      "\n",
      "    infringement       0.60      0.56      0.58       283\n",
      "non_infringement       0.61      0.64      0.62       298\n",
      "\n",
      "        accuracy                           0.60       581\n",
      "       macro avg       0.60      0.60      0.60       581\n",
      "    weighted avg       0.60      0.60      0.60       581\n",
      "\n"
     ]
    },
    {
     "name": "stderr",
     "output_type": "stream",
     "text": [
      "Training Epochs:  73%|███████▎  | 1469/2000 [00:14<00:05, 102.94it/s]"
     ]
    },
    {
     "name": "stdout",
     "output_type": "stream",
     "text": [
      "Epoch 1450/2000, Loss: 0.0188\n",
      "Test Accuracy at Epoch 1450: 60.07%\n",
      "Classification Report at Epoch 1450:\n",
      "                  precision    recall  f1-score   support\n",
      "\n",
      "    infringement       0.60      0.56      0.58       283\n",
      "non_infringement       0.61      0.64      0.62       298\n",
      "\n",
      "        accuracy                           0.60       581\n",
      "       macro avg       0.60      0.60      0.60       581\n",
      "    weighted avg       0.60      0.60      0.60       581\n",
      "\n",
      "Epoch 1460/2000, Loss: 0.0186\n",
      "Test Accuracy at Epoch 1460: 60.24%\n",
      "Classification Report at Epoch 1460:\n",
      "                  precision    recall  f1-score   support\n",
      "\n",
      "    infringement       0.60      0.56      0.58       283\n",
      "non_infringement       0.61      0.64      0.62       298\n",
      "\n",
      "        accuracy                           0.60       581\n",
      "       macro avg       0.60      0.60      0.60       581\n",
      "    weighted avg       0.60      0.60      0.60       581\n",
      "\n",
      "Epoch 1470/2000, Loss: 0.0184\n",
      "Test Accuracy at Epoch 1470: 60.24%\n",
      "Classification Report at Epoch 1470:\n",
      "                  precision    recall  f1-score   support\n",
      "\n",
      "    infringement       0.60      0.56      0.58       283\n",
      "non_infringement       0.61      0.64      0.62       298\n",
      "\n",
      "        accuracy                           0.60       581\n",
      "       macro avg       0.60      0.60      0.60       581\n",
      "    weighted avg       0.60      0.60      0.60       581\n",
      "\n"
     ]
    },
    {
     "name": "stderr",
     "output_type": "stream",
     "text": [
      "Training Epochs:  75%|███████▍  | 1491/2000 [00:14<00:05, 93.77it/s] "
     ]
    },
    {
     "name": "stdout",
     "output_type": "stream",
     "text": [
      "Epoch 1480/2000, Loss: 0.0182\n",
      "Test Accuracy at Epoch 1480: 60.24%\n",
      "Classification Report at Epoch 1480:\n",
      "                  precision    recall  f1-score   support\n",
      "\n",
      "    infringement       0.60      0.56      0.58       283\n",
      "non_infringement       0.61      0.64      0.62       298\n",
      "\n",
      "        accuracy                           0.60       581\n",
      "       macro avg       0.60      0.60      0.60       581\n",
      "    weighted avg       0.60      0.60      0.60       581\n",
      "\n",
      "Epoch 1490/2000, Loss: 0.0181\n",
      "Test Accuracy at Epoch 1490: 60.24%\n",
      "Classification Report at Epoch 1490:\n",
      "                  precision    recall  f1-score   support\n",
      "\n",
      "    infringement       0.60      0.56      0.58       283\n",
      "non_infringement       0.61      0.64      0.62       298\n",
      "\n",
      "        accuracy                           0.60       581\n",
      "       macro avg       0.60      0.60      0.60       581\n",
      "    weighted avg       0.60      0.60      0.60       581\n",
      "\n"
     ]
    },
    {
     "name": "stderr",
     "output_type": "stream",
     "text": [
      "Training Epochs:  76%|███████▌  | 1516/2000 [00:14<00:04, 106.53it/s]"
     ]
    },
    {
     "name": "stdout",
     "output_type": "stream",
     "text": [
      "Epoch 1500/2000, Loss: 0.0179\n",
      "Test Accuracy at Epoch 1500: 60.24%\n",
      "Classification Report at Epoch 1500:\n",
      "                  precision    recall  f1-score   support\n",
      "\n",
      "    infringement       0.60      0.56      0.58       283\n",
      "non_infringement       0.61      0.64      0.62       298\n",
      "\n",
      "        accuracy                           0.60       581\n",
      "       macro avg       0.60      0.60      0.60       581\n",
      "    weighted avg       0.60      0.60      0.60       581\n",
      "\n",
      "Epoch 1510/2000, Loss: 0.0177\n",
      "Test Accuracy at Epoch 1510: 60.24%\n",
      "Classification Report at Epoch 1510:\n",
      "                  precision    recall  f1-score   support\n",
      "\n",
      "    infringement       0.60      0.56      0.58       283\n",
      "non_infringement       0.61      0.64      0.62       298\n",
      "\n",
      "        accuracy                           0.60       581\n",
      "       macro avg       0.60      0.60      0.60       581\n",
      "    weighted avg       0.60      0.60      0.60       581\n",
      "\n",
      "Epoch 1520/2000, Loss: 0.0175\n",
      "Test Accuracy at Epoch 1520: 60.24%\n",
      "Classification Report at Epoch 1520:\n",
      "                  precision    recall  f1-score   support\n",
      "\n",
      "    infringement       0.60      0.56      0.58       283\n",
      "non_infringement       0.61      0.64      0.62       298\n",
      "\n",
      "        accuracy                           0.60       581\n",
      "       macro avg       0.60      0.60      0.60       581\n",
      "    weighted avg       0.60      0.60      0.60       581\n",
      "\n"
     ]
    },
    {
     "name": "stderr",
     "output_type": "stream",
     "text": [
      "Training Epochs:  78%|███████▊  | 1550/2000 [00:14<00:04, 103.98it/s]"
     ]
    },
    {
     "name": "stdout",
     "output_type": "stream",
     "text": [
      "Epoch 1530/2000, Loss: 0.0174\n",
      "Test Accuracy at Epoch 1530: 60.24%\n",
      "Classification Report at Epoch 1530:\n",
      "                  precision    recall  f1-score   support\n",
      "\n",
      "    infringement       0.60      0.56      0.58       283\n",
      "non_infringement       0.61      0.64      0.62       298\n",
      "\n",
      "        accuracy                           0.60       581\n",
      "       macro avg       0.60      0.60      0.60       581\n",
      "    weighted avg       0.60      0.60      0.60       581\n",
      "\n",
      "Epoch 1540/2000, Loss: 0.0172\n",
      "Test Accuracy at Epoch 1540: 60.24%\n",
      "Classification Report at Epoch 1540:\n",
      "                  precision    recall  f1-score   support\n",
      "\n",
      "    infringement       0.60      0.56      0.58       283\n",
      "non_infringement       0.61      0.64      0.62       298\n",
      "\n",
      "        accuracy                           0.60       581\n",
      "       macro avg       0.60      0.60      0.60       581\n",
      "    weighted avg       0.60      0.60      0.60       581\n",
      "\n",
      "Epoch 1550/2000, Loss: 0.0170\n",
      "Test Accuracy at Epoch 1550: 60.24%\n",
      "Classification Report at Epoch 1550:\n",
      "                  precision    recall  f1-score   support\n",
      "\n",
      "    infringement       0.60      0.56      0.58       283\n",
      "non_infringement       0.61      0.64      0.62       298\n",
      "\n",
      "        accuracy                           0.60       581\n",
      "       macro avg       0.60      0.60      0.60       581\n",
      "    weighted avg       0.60      0.60      0.60       581\n",
      "\n"
     ]
    },
    {
     "name": "stderr",
     "output_type": "stream",
     "text": [
      "Training Epochs:  79%|███████▊  | 1573/2000 [00:15<00:04, 96.18it/s] "
     ]
    },
    {
     "name": "stdout",
     "output_type": "stream",
     "text": [
      "Epoch 1560/2000, Loss: 0.0168\n",
      "Test Accuracy at Epoch 1560: 60.07%\n",
      "Classification Report at Epoch 1560:\n",
      "                  precision    recall  f1-score   support\n",
      "\n",
      "    infringement       0.60      0.56      0.58       283\n",
      "non_infringement       0.60      0.64      0.62       298\n",
      "\n",
      "        accuracy                           0.60       581\n",
      "       macro avg       0.60      0.60      0.60       581\n",
      "    weighted avg       0.60      0.60      0.60       581\n",
      "\n",
      "Epoch 1570/2000, Loss: 0.0167\n",
      "Test Accuracy at Epoch 1570: 60.07%\n",
      "Classification Report at Epoch 1570:\n",
      "                  precision    recall  f1-score   support\n",
      "\n",
      "    infringement       0.60      0.56      0.58       283\n",
      "non_infringement       0.60      0.64      0.62       298\n",
      "\n",
      "        accuracy                           0.60       581\n",
      "       macro avg       0.60      0.60      0.60       581\n",
      "    weighted avg       0.60      0.60      0.60       581\n",
      "\n"
     ]
    },
    {
     "name": "stderr",
     "output_type": "stream",
     "text": [
      "Training Epochs:  80%|███████▉  | 1599/2000 [00:15<00:03, 109.20it/s]"
     ]
    },
    {
     "name": "stdout",
     "output_type": "stream",
     "text": [
      "Epoch 1580/2000, Loss: 0.0165\n",
      "Test Accuracy at Epoch 1580: 60.07%\n",
      "Classification Report at Epoch 1580:\n",
      "                  precision    recall  f1-score   support\n",
      "\n",
      "    infringement       0.60      0.56      0.58       283\n",
      "non_infringement       0.60      0.64      0.62       298\n",
      "\n",
      "        accuracy                           0.60       581\n",
      "       macro avg       0.60      0.60      0.60       581\n",
      "    weighted avg       0.60      0.60      0.60       581\n",
      "\n",
      "Epoch 1590/2000, Loss: 0.0164\n",
      "Test Accuracy at Epoch 1590: 60.07%\n",
      "Classification Report at Epoch 1590:\n",
      "                  precision    recall  f1-score   support\n",
      "\n",
      "    infringement       0.60      0.56      0.58       283\n",
      "non_infringement       0.60      0.64      0.62       298\n",
      "\n",
      "        accuracy                           0.60       581\n",
      "       macro avg       0.60      0.60      0.60       581\n",
      "    weighted avg       0.60      0.60      0.60       581\n",
      "\n",
      "Epoch 1600/2000, Loss: 0.0162\n",
      "Test Accuracy at Epoch 1600: 60.07%\n",
      "Classification Report at Epoch 1600:\n",
      "                  precision    recall  f1-score   support\n",
      "\n",
      "    infringement       0.60      0.56      0.58       283\n",
      "non_infringement       0.60      0.64      0.62       298\n",
      "\n",
      "        accuracy                           0.60       581\n",
      "       macro avg       0.60      0.60      0.60       581\n",
      "    weighted avg       0.60      0.60      0.60       581\n",
      "\n"
     ]
    },
    {
     "name": "stderr",
     "output_type": "stream",
     "text": [
      "Training Epochs:  81%|████████▏ | 1625/2000 [00:15<00:03, 108.95it/s]"
     ]
    },
    {
     "name": "stdout",
     "output_type": "stream",
     "text": [
      "Epoch 1610/2000, Loss: 0.0160\n",
      "Test Accuracy at Epoch 1610: 60.07%\n",
      "Classification Report at Epoch 1610:\n",
      "                  precision    recall  f1-score   support\n",
      "\n",
      "    infringement       0.60      0.56      0.58       283\n",
      "non_infringement       0.60      0.64      0.62       298\n",
      "\n",
      "        accuracy                           0.60       581\n",
      "       macro avg       0.60      0.60      0.60       581\n",
      "    weighted avg       0.60      0.60      0.60       581\n",
      "\n",
      "Epoch 1620/2000, Loss: 0.0159\n",
      "Test Accuracy at Epoch 1620: 60.07%\n",
      "Classification Report at Epoch 1620:\n",
      "                  precision    recall  f1-score   support\n",
      "\n",
      "    infringement       0.60      0.56      0.58       283\n",
      "non_infringement       0.60      0.64      0.62       298\n",
      "\n",
      "        accuracy                           0.60       581\n",
      "       macro avg       0.60      0.60      0.60       581\n",
      "    weighted avg       0.60      0.60      0.60       581\n",
      "\n",
      "Epoch 1630/2000, Loss: 0.0157\n",
      "Test Accuracy at Epoch 1630: 60.07%\n",
      "Classification Report at Epoch 1630:\n",
      "                  precision    recall  f1-score   support\n",
      "\n",
      "    infringement       0.60      0.56      0.58       283\n",
      "non_infringement       0.60      0.64      0.62       298\n",
      "\n",
      "        accuracy                           0.60       581\n",
      "       macro avg       0.60      0.60      0.60       581\n",
      "    weighted avg       0.60      0.60      0.60       581\n",
      "\n"
     ]
    },
    {
     "name": "stderr",
     "output_type": "stream",
     "text": [
      "Training Epochs:  83%|████████▎ | 1652/2000 [00:15<00:02, 118.06it/s]"
     ]
    },
    {
     "name": "stdout",
     "output_type": "stream",
     "text": [
      "Epoch 1640/2000, Loss: 0.0156\n",
      "Test Accuracy at Epoch 1640: 60.07%\n",
      "Classification Report at Epoch 1640:\n",
      "                  precision    recall  f1-score   support\n",
      "\n",
      "    infringement       0.60      0.56      0.58       283\n",
      "non_infringement       0.60      0.64      0.62       298\n",
      "\n",
      "        accuracy                           0.60       581\n",
      "       macro avg       0.60      0.60      0.60       581\n",
      "    weighted avg       0.60      0.60      0.60       581\n",
      "\n",
      "Epoch 1650/2000, Loss: 0.0154\n",
      "Test Accuracy at Epoch 1650: 60.07%\n",
      "Classification Report at Epoch 1650:\n",
      "                  precision    recall  f1-score   support\n",
      "\n",
      "    infringement       0.60      0.56      0.58       283\n",
      "non_infringement       0.60      0.64      0.62       298\n",
      "\n",
      "        accuracy                           0.60       581\n",
      "       macro avg       0.60      0.60      0.60       581\n",
      "    weighted avg       0.60      0.60      0.60       581\n",
      "\n"
     ]
    },
    {
     "name": "stderr",
     "output_type": "stream",
     "text": [
      "Training Epochs:  84%|████████▍ | 1679/2000 [00:16<00:02, 111.13it/s]"
     ]
    },
    {
     "name": "stdout",
     "output_type": "stream",
     "text": [
      "Epoch 1660/2000, Loss: 0.0153\n",
      "Test Accuracy at Epoch 1660: 60.07%\n",
      "Classification Report at Epoch 1660:\n",
      "                  precision    recall  f1-score   support\n",
      "\n",
      "    infringement       0.60      0.56      0.58       283\n",
      "non_infringement       0.60      0.64      0.62       298\n",
      "\n",
      "        accuracy                           0.60       581\n",
      "       macro avg       0.60      0.60      0.60       581\n",
      "    weighted avg       0.60      0.60      0.60       581\n",
      "\n",
      "Epoch 1670/2000, Loss: 0.0151\n",
      "Test Accuracy at Epoch 1670: 60.07%\n",
      "Classification Report at Epoch 1670:\n",
      "                  precision    recall  f1-score   support\n",
      "\n",
      "    infringement       0.60      0.56      0.58       283\n",
      "non_infringement       0.60      0.64      0.62       298\n",
      "\n",
      "        accuracy                           0.60       581\n",
      "       macro avg       0.60      0.60      0.60       581\n",
      "    weighted avg       0.60      0.60      0.60       581\n",
      "\n",
      "Epoch 1680/2000, Loss: 0.0150\n",
      "Test Accuracy at Epoch 1680: 60.07%\n",
      "Classification Report at Epoch 1680:\n",
      "                  precision    recall  f1-score   support\n",
      "\n",
      "    infringement       0.60      0.56      0.58       283\n",
      "non_infringement       0.60      0.64      0.62       298\n",
      "\n",
      "        accuracy                           0.60       581\n",
      "       macro avg       0.60      0.60      0.60       581\n",
      "    weighted avg       0.60      0.60      0.60       581\n",
      "\n"
     ]
    },
    {
     "name": "stderr",
     "output_type": "stream",
     "text": [
      "Training Epochs:  85%|████████▌ | 1703/2000 [00:16<00:02, 104.46it/s]"
     ]
    },
    {
     "name": "stdout",
     "output_type": "stream",
     "text": [
      "Epoch 1690/2000, Loss: 0.0148\n",
      "Test Accuracy at Epoch 1690: 60.07%\n",
      "Classification Report at Epoch 1690:\n",
      "                  precision    recall  f1-score   support\n",
      "\n",
      "    infringement       0.60      0.56      0.58       283\n",
      "non_infringement       0.60      0.64      0.62       298\n",
      "\n",
      "        accuracy                           0.60       581\n",
      "       macro avg       0.60      0.60      0.60       581\n",
      "    weighted avg       0.60      0.60      0.60       581\n",
      "\n",
      "Epoch 1700/2000, Loss: 0.0147\n",
      "Test Accuracy at Epoch 1700: 60.07%\n",
      "Classification Report at Epoch 1700:\n",
      "                  precision    recall  f1-score   support\n",
      "\n",
      "    infringement       0.60      0.56      0.58       283\n",
      "non_infringement       0.60      0.64      0.62       298\n",
      "\n",
      "        accuracy                           0.60       581\n",
      "       macro avg       0.60      0.60      0.60       581\n",
      "    weighted avg       0.60      0.60      0.60       581\n",
      "\n",
      "Epoch 1710/2000, Loss: 0.0145\n"
     ]
    },
    {
     "name": "stderr",
     "output_type": "stream",
     "text": [
      "Training Epochs:  86%|████████▋ | 1730/2000 [00:16<00:02, 115.86it/s]"
     ]
    },
    {
     "name": "stdout",
     "output_type": "stream",
     "text": [
      "Test Accuracy at Epoch 1710: 60.07%\n",
      "Classification Report at Epoch 1710:\n",
      "                  precision    recall  f1-score   support\n",
      "\n",
      "    infringement       0.60      0.56      0.58       283\n",
      "non_infringement       0.60      0.64      0.62       298\n",
      "\n",
      "        accuracy                           0.60       581\n",
      "       macro avg       0.60      0.60      0.60       581\n",
      "    weighted avg       0.60      0.60      0.60       581\n",
      "\n",
      "Epoch 1720/2000, Loss: 0.0144\n",
      "Test Accuracy at Epoch 1720: 60.07%\n",
      "Classification Report at Epoch 1720:\n",
      "                  precision    recall  f1-score   support\n",
      "\n",
      "    infringement       0.60      0.56      0.58       283\n",
      "non_infringement       0.60      0.64      0.62       298\n",
      "\n",
      "        accuracy                           0.60       581\n",
      "       macro avg       0.60      0.60      0.60       581\n",
      "    weighted avg       0.60      0.60      0.60       581\n",
      "\n",
      "Epoch 1730/2000, Loss: 0.0143\n",
      "Test Accuracy at Epoch 1730: 60.24%\n",
      "Classification Report at Epoch 1730:\n",
      "                  precision    recall  f1-score   support\n",
      "\n",
      "    infringement       0.60      0.56      0.58       283\n",
      "non_infringement       0.61      0.64      0.62       298\n",
      "\n",
      "        accuracy                           0.60       581\n",
      "       macro avg       0.60      0.60      0.60       581\n",
      "    weighted avg       0.60      0.60      0.60       581\n",
      "\n"
     ]
    },
    {
     "name": "stderr",
     "output_type": "stream",
     "text": [
      "Training Epochs:  88%|████████▊ | 1757/2000 [00:16<00:02, 109.47it/s]"
     ]
    },
    {
     "name": "stdout",
     "output_type": "stream",
     "text": [
      "Epoch 1740/2000, Loss: 0.0141\n",
      "Test Accuracy at Epoch 1740: 59.90%\n",
      "Classification Report at Epoch 1740:\n",
      "                  precision    recall  f1-score   support\n",
      "\n",
      "    infringement       0.59      0.55      0.57       283\n",
      "non_infringement       0.60      0.64      0.62       298\n",
      "\n",
      "        accuracy                           0.60       581\n",
      "       macro avg       0.60      0.60      0.60       581\n",
      "    weighted avg       0.60      0.60      0.60       581\n",
      "\n",
      "Epoch 1750/2000, Loss: 0.0140\n",
      "Test Accuracy at Epoch 1750: 59.90%\n",
      "Classification Report at Epoch 1750:\n",
      "                  precision    recall  f1-score   support\n",
      "\n",
      "    infringement       0.59      0.55      0.57       283\n",
      "non_infringement       0.60      0.64      0.62       298\n",
      "\n",
      "        accuracy                           0.60       581\n",
      "       macro avg       0.60      0.60      0.60       581\n",
      "    weighted avg       0.60      0.60      0.60       581\n",
      "\n"
     ]
    },
    {
     "name": "stderr",
     "output_type": "stream",
     "text": [
      "Training Epochs:  89%|████████▉ | 1781/2000 [00:17<00:01, 112.25it/s]"
     ]
    },
    {
     "name": "stdout",
     "output_type": "stream",
     "text": [
      "Epoch 1760/2000, Loss: 0.0139\n",
      "Test Accuracy at Epoch 1760: 59.90%\n",
      "Classification Report at Epoch 1760:\n",
      "                  precision    recall  f1-score   support\n",
      "\n",
      "    infringement       0.59      0.55      0.57       283\n",
      "non_infringement       0.60      0.64      0.62       298\n",
      "\n",
      "        accuracy                           0.60       581\n",
      "       macro avg       0.60      0.60      0.60       581\n",
      "    weighted avg       0.60      0.60      0.60       581\n",
      "\n",
      "Epoch 1770/2000, Loss: 0.0137\n",
      "Test Accuracy at Epoch 1770: 59.90%\n",
      "Classification Report at Epoch 1770:\n",
      "                  precision    recall  f1-score   support\n",
      "\n",
      "    infringement       0.59      0.55      0.57       283\n",
      "non_infringement       0.60      0.64      0.62       298\n",
      "\n",
      "        accuracy                           0.60       581\n",
      "       macro avg       0.60      0.60      0.60       581\n",
      "    weighted avg       0.60      0.60      0.60       581\n",
      "\n",
      "Epoch 1780/2000, Loss: 0.0136\n",
      "Test Accuracy at Epoch 1780: 59.90%\n",
      "Classification Report at Epoch 1780:\n",
      "                  precision    recall  f1-score   support\n",
      "\n",
      "    infringement       0.59      0.55      0.57       283\n",
      "non_infringement       0.60      0.64      0.62       298\n",
      "\n",
      "        accuracy                           0.60       581\n",
      "       macro avg       0.60      0.60      0.60       581\n",
      "    weighted avg       0.60      0.60      0.60       581\n",
      "\n"
     ]
    },
    {
     "name": "stderr",
     "output_type": "stream",
     "text": [
      "Training Epochs:  90%|█████████ | 1806/2000 [00:17<00:01, 107.40it/s]"
     ]
    },
    {
     "name": "stdout",
     "output_type": "stream",
     "text": [
      "Epoch 1790/2000, Loss: 0.0135\n",
      "Test Accuracy at Epoch 1790: 59.90%\n",
      "Classification Report at Epoch 1790:\n",
      "                  precision    recall  f1-score   support\n",
      "\n",
      "    infringement       0.59      0.55      0.57       283\n",
      "non_infringement       0.60      0.64      0.62       298\n",
      "\n",
      "        accuracy                           0.60       581\n",
      "       macro avg       0.60      0.60      0.60       581\n",
      "    weighted avg       0.60      0.60      0.60       581\n",
      "\n",
      "Epoch 1800/2000, Loss: 0.0133\n",
      "Test Accuracy at Epoch 1800: 59.72%\n",
      "Classification Report at Epoch 1800:\n",
      "                  precision    recall  f1-score   support\n",
      "\n",
      "    infringement       0.59      0.55      0.57       283\n",
      "non_infringement       0.60      0.64      0.62       298\n",
      "\n",
      "        accuracy                           0.60       581\n",
      "       macro avg       0.60      0.60      0.60       581\n",
      "    weighted avg       0.60      0.60      0.60       581\n",
      "\n",
      "Epoch 1810/2000, Loss: 0.0132\n",
      "Test Accuracy at Epoch 1810: 59.72%\n",
      "Classification Report at Epoch 1810:\n",
      "                  precision    recall  f1-score   support\n",
      "\n",
      "    infringement       0.59      0.55      0.57       283\n",
      "non_infringement       0.60      0.64      0.62       298\n",
      "\n",
      "        accuracy                           0.60       581\n",
      "       macro avg       0.60      0.60      0.60       581\n",
      "    weighted avg       0.60      0.60      0.60       581\n",
      "\n"
     ]
    },
    {
     "name": "stderr",
     "output_type": "stream",
     "text": [
      "Training Epochs:  92%|█████████▏| 1830/2000 [00:17<00:01, 109.51it/s]"
     ]
    },
    {
     "name": "stdout",
     "output_type": "stream",
     "text": [
      "Epoch 1820/2000, Loss: 0.0131\n",
      "Test Accuracy at Epoch 1820: 59.72%\n",
      "Classification Report at Epoch 1820:\n",
      "                  precision    recall  f1-score   support\n",
      "\n",
      "    infringement       0.59      0.55      0.57       283\n",
      "non_infringement       0.60      0.64      0.62       298\n",
      "\n",
      "        accuracy                           0.60       581\n",
      "       macro avg       0.60      0.60      0.60       581\n",
      "    weighted avg       0.60      0.60      0.60       581\n",
      "\n",
      "Epoch 1830/2000, Loss: 0.0130\n",
      "Test Accuracy at Epoch 1830: 59.72%\n",
      "Classification Report at Epoch 1830:\n",
      "                  precision    recall  f1-score   support\n",
      "\n",
      "    infringement       0.59      0.55      0.57       283\n",
      "non_infringement       0.60      0.64      0.62       298\n",
      "\n",
      "        accuracy                           0.60       581\n",
      "       macro avg       0.60      0.60      0.60       581\n",
      "    weighted avg       0.60      0.60      0.60       581\n",
      "\n"
     ]
    },
    {
     "name": "stderr",
     "output_type": "stream",
     "text": [
      "Training Epochs:  93%|█████████▎| 1854/2000 [00:17<00:01, 106.12it/s]"
     ]
    },
    {
     "name": "stdout",
     "output_type": "stream",
     "text": [
      "Epoch 1840/2000, Loss: 0.0128\n",
      "Test Accuracy at Epoch 1840: 59.72%\n",
      "Classification Report at Epoch 1840:\n",
      "                  precision    recall  f1-score   support\n",
      "\n",
      "    infringement       0.59      0.55      0.57       283\n",
      "non_infringement       0.60      0.64      0.62       298\n",
      "\n",
      "        accuracy                           0.60       581\n",
      "       macro avg       0.60      0.60      0.60       581\n",
      "    weighted avg       0.60      0.60      0.60       581\n",
      "\n",
      "Epoch 1850/2000, Loss: 0.0127\n",
      "Test Accuracy at Epoch 1850: 59.72%\n",
      "Classification Report at Epoch 1850:\n",
      "                  precision    recall  f1-score   support\n",
      "\n",
      "    infringement       0.59      0.55      0.57       283\n",
      "non_infringement       0.60      0.64      0.62       298\n",
      "\n",
      "        accuracy                           0.60       581\n",
      "       macro avg       0.60      0.60      0.60       581\n",
      "    weighted avg       0.60      0.60      0.60       581\n",
      "\n",
      "Epoch 1860/2000, Loss: 0.0126\n",
      "Test Accuracy at Epoch 1860: 59.72%\n",
      "Classification Report at Epoch 1860:\n",
      "                  precision    recall  f1-score   support\n",
      "\n",
      "    infringement       0.59      0.55      0.57       283\n",
      "non_infringement       0.60      0.64      0.62       298\n",
      "\n",
      "        accuracy                           0.60       581\n",
      "       macro avg       0.60      0.60      0.60       581\n",
      "    weighted avg       0.60      0.60      0.60       581\n",
      "\n"
     ]
    },
    {
     "name": "stderr",
     "output_type": "stream",
     "text": [
      "Training Epochs:  94%|█████████▍| 1879/2000 [00:17<00:01, 100.59it/s]"
     ]
    },
    {
     "name": "stdout",
     "output_type": "stream",
     "text": [
      "Epoch 1870/2000, Loss: 0.0125\n",
      "Test Accuracy at Epoch 1870: 59.72%\n",
      "Classification Report at Epoch 1870:\n",
      "                  precision    recall  f1-score   support\n",
      "\n",
      "    infringement       0.59      0.55      0.57       283\n",
      "non_infringement       0.60      0.64      0.62       298\n",
      "\n",
      "        accuracy                           0.60       581\n",
      "       macro avg       0.60      0.60      0.60       581\n",
      "    weighted avg       0.60      0.60      0.60       581\n",
      "\n",
      "Epoch 1880/2000, Loss: 0.0124\n",
      "Test Accuracy at Epoch 1880: 59.72%\n",
      "Classification Report at Epoch 1880:\n",
      "                  precision    recall  f1-score   support\n",
      "\n",
      "    infringement       0.59      0.55      0.57       283\n",
      "non_infringement       0.60      0.64      0.62       298\n",
      "\n",
      "        accuracy                           0.60       581\n",
      "       macro avg       0.60      0.60      0.60       581\n",
      "    weighted avg       0.60      0.60      0.60       581\n",
      "\n"
     ]
    },
    {
     "name": "stderr",
     "output_type": "stream",
     "text": [
      "Training Epochs:  95%|█████████▌| 1904/2000 [00:18<00:00, 111.55it/s]"
     ]
    },
    {
     "name": "stdout",
     "output_type": "stream",
     "text": [
      "Epoch 1890/2000, Loss: 0.0122\n",
      "Test Accuracy at Epoch 1890: 59.72%\n",
      "Classification Report at Epoch 1890:\n",
      "                  precision    recall  f1-score   support\n",
      "\n",
      "    infringement       0.59      0.55      0.57       283\n",
      "non_infringement       0.60      0.64      0.62       298\n",
      "\n",
      "        accuracy                           0.60       581\n",
      "       macro avg       0.60      0.60      0.60       581\n",
      "    weighted avg       0.60      0.60      0.60       581\n",
      "\n",
      "Epoch 1900/2000, Loss: 0.0121\n",
      "Test Accuracy at Epoch 1900: 59.90%\n",
      "Classification Report at Epoch 1900:\n",
      "                  precision    recall  f1-score   support\n",
      "\n",
      "    infringement       0.59      0.55      0.57       283\n",
      "non_infringement       0.60      0.64      0.62       298\n",
      "\n",
      "        accuracy                           0.60       581\n",
      "       macro avg       0.60      0.60      0.60       581\n",
      "    weighted avg       0.60      0.60      0.60       581\n",
      "\n",
      "Epoch 1910/2000, Loss: 0.0120\n",
      "Test Accuracy at Epoch 1910: 59.72%\n",
      "Classification Report at Epoch 1910:\n",
      "                  precision    recall  f1-score   support\n",
      "\n",
      "    infringement       0.59      0.55      0.57       283\n",
      "non_infringement       0.60      0.64      0.62       298\n",
      "\n",
      "        accuracy                           0.60       581\n",
      "       macro avg       0.60      0.60      0.60       581\n",
      "    weighted avg       0.60      0.60      0.60       581\n",
      "\n"
     ]
    },
    {
     "name": "stderr",
     "output_type": "stream",
     "text": [
      "Training Epochs:  97%|█████████▋| 1941/2000 [00:18<00:00, 111.37it/s]"
     ]
    },
    {
     "name": "stdout",
     "output_type": "stream",
     "text": [
      "Epoch 1920/2000, Loss: 0.0119\n",
      "Test Accuracy at Epoch 1920: 59.72%\n",
      "Classification Report at Epoch 1920:\n",
      "                  precision    recall  f1-score   support\n",
      "\n",
      "    infringement       0.59      0.55      0.57       283\n",
      "non_infringement       0.60      0.64      0.62       298\n",
      "\n",
      "        accuracy                           0.60       581\n",
      "       macro avg       0.60      0.60      0.60       581\n",
      "    weighted avg       0.60      0.60      0.60       581\n",
      "\n",
      "Epoch 1930/2000, Loss: 0.0118\n",
      "Test Accuracy at Epoch 1930: 59.72%\n",
      "Classification Report at Epoch 1930:\n",
      "                  precision    recall  f1-score   support\n",
      "\n",
      "    infringement       0.59      0.55      0.57       283\n",
      "non_infringement       0.60      0.64      0.62       298\n",
      "\n",
      "        accuracy                           0.60       581\n",
      "       macro avg       0.60      0.60      0.60       581\n",
      "    weighted avg       0.60      0.60      0.60       581\n",
      "\n",
      "Epoch 1940/2000, Loss: 0.0117\n",
      "Test Accuracy at Epoch 1940: 59.72%\n",
      "Classification Report at Epoch 1940:\n",
      "                  precision    recall  f1-score   support\n",
      "\n",
      "    infringement       0.59      0.55      0.57       283\n",
      "non_infringement       0.60      0.64      0.62       298\n",
      "\n",
      "        accuracy                           0.60       581\n",
      "       macro avg       0.60      0.60      0.60       581\n",
      "    weighted avg       0.60      0.60      0.60       581\n",
      "\n"
     ]
    },
    {
     "name": "stderr",
     "output_type": "stream",
     "text": [
      "Training Epochs:  98%|█████████▊| 1967/2000 [00:18<00:00, 108.90it/s]"
     ]
    },
    {
     "name": "stdout",
     "output_type": "stream",
     "text": [
      "Epoch 1950/2000, Loss: 0.0116\n",
      "Test Accuracy at Epoch 1950: 59.72%\n",
      "Classification Report at Epoch 1950:\n",
      "                  precision    recall  f1-score   support\n",
      "\n",
      "    infringement       0.59      0.55      0.57       283\n",
      "non_infringement       0.60      0.64      0.62       298\n",
      "\n",
      "        accuracy                           0.60       581\n",
      "       macro avg       0.60      0.60      0.60       581\n",
      "    weighted avg       0.60      0.60      0.60       581\n",
      "\n",
      "Epoch 1960/2000, Loss: 0.0114\n",
      "Test Accuracy at Epoch 1960: 59.72%\n",
      "Classification Report at Epoch 1960:\n",
      "                  precision    recall  f1-score   support\n",
      "\n",
      "    infringement       0.59      0.55      0.57       283\n",
      "non_infringement       0.60      0.64      0.62       298\n",
      "\n",
      "        accuracy                           0.60       581\n",
      "       macro avg       0.60      0.60      0.60       581\n",
      "    weighted avg       0.60      0.60      0.60       581\n",
      "\n",
      "Epoch 1970/2000, Loss: 0.0113\n",
      "Test Accuracy at Epoch 1970: 59.72%\n",
      "Classification Report at Epoch 1970:\n",
      "                  precision    recall  f1-score   support\n",
      "\n",
      "    infringement       0.59      0.55      0.57       283\n",
      "non_infringement       0.60      0.64      0.62       298\n",
      "\n",
      "        accuracy                           0.60       581\n",
      "       macro avg       0.60      0.60      0.60       581\n",
      "    weighted avg       0.60      0.60      0.60       581\n",
      "\n"
     ]
    },
    {
     "name": "stderr",
     "output_type": "stream",
     "text": [
      "Training Epochs: 100%|██████████| 2000/2000 [00:19<00:00, 105.24it/s]"
     ]
    },
    {
     "name": "stdout",
     "output_type": "stream",
     "text": [
      "Epoch 1980/2000, Loss: 0.0112\n",
      "Test Accuracy at Epoch 1980: 59.72%\n",
      "Classification Report at Epoch 1980:\n",
      "                  precision    recall  f1-score   support\n",
      "\n",
      "    infringement       0.59      0.55      0.57       283\n",
      "non_infringement       0.60      0.64      0.62       298\n",
      "\n",
      "        accuracy                           0.60       581\n",
      "       macro avg       0.60      0.60      0.60       581\n",
      "    weighted avg       0.60      0.60      0.60       581\n",
      "\n",
      "Epoch 1990/2000, Loss: 0.0111\n",
      "Test Accuracy at Epoch 1990: 59.72%\n",
      "Classification Report at Epoch 1990:\n",
      "                  precision    recall  f1-score   support\n",
      "\n",
      "    infringement       0.59      0.55      0.57       283\n",
      "non_infringement       0.60      0.64      0.62       298\n",
      "\n",
      "        accuracy                           0.60       581\n",
      "       macro avg       0.60      0.60      0.60       581\n",
      "    weighted avg       0.60      0.60      0.60       581\n",
      "\n",
      "Epoch 2000/2000, Loss: 0.0110\n",
      "Test Accuracy at Epoch 2000: 59.72%\n",
      "Classification Report at Epoch 2000:\n",
      "                  precision    recall  f1-score   support\n",
      "\n",
      "    infringement       0.59      0.55      0.57       283\n",
      "non_infringement       0.60      0.64      0.62       298\n",
      "\n",
      "        accuracy                           0.60       581\n",
      "       macro avg       0.60      0.60      0.60       581\n",
      "    weighted avg       0.60      0.60      0.60       581\n",
      "\n"
     ]
    },
    {
     "name": "stderr",
     "output_type": "stream",
     "text": [
      "\n",
      "/tmp/ipykernel_2346938/85556528.py:47: FutureWarning: You are using `torch.load` with `weights_only=False` (the current default value), which uses the default pickle module implicitly. It is possible to construct malicious pickle data which will execute arbitrary code during unpickling (See https://github.com/pytorch/pytorch/blob/main/SECURITY.md#untrusted-models for more details). In a future release, the default value for `weights_only` will be flipped to `True`. This limits the functions that could be executed during unpickling. Arbitrary objects will no longer be allowed to be loaded via this mode unless they are explicitly allowlisted by the user via `torch.serialization.add_safe_globals`. We recommend you start setting `weights_only=True` for any use case where you don't have full control of the loaded file. Please open an issue on GitHub for any issues related to this experimental feature.\n",
      "  custom_mlp.load_state_dict(torch.load(checkpoint_path))\n"
     ]
    },
    {
     "data": {
      "image/png": "[encoded data removed]",
      "text/plain": [
       "<Figure size 1000x500 with 1 Axes>"
      ]
     },
     "metadata": {},
     "output_type": "display_data"
    },
    {
     "name": "stdout",
     "output_type": "stream",
     "text": [
      "Final Model Accuracy: 60.41%\n"
     ]
    }
   ],
   "source": [
    "input_dim = X_train.shape[1]\n",
    "hidden_dim = 256 \n",
    "print(f\"Training MLP model with input_dim={input_dim} and hidden_dim={hidden_dim}\")\n",
    "\n",
    "custom_mlp, losses, best_accuracy = train_model(X_train, y_train, X_test, y_test, input_dim, hidden_dim)"
   ]
  },
  {
   "cell_type": "code",
   "execution_count": 10,
   "metadata": {},
   "outputs": [
    {
     "name": "stdout",
     "output_type": "stream",
     "text": [
      "Checkpoint saved to '/home/guangwei/LLM-COPYRIGHT/copyright_newVersion/models/train_input_reference_last_token_TSNE2_TSNE2.pth'.\n"
     ]
    }
   ],
   "source": [
    "def save_checkpoint(model, optimizer, epoch, loss, filepath):\n",
    "    checkpoint = {\n",
    "        'epoch': epoch + 1,\n",
    "        'model_state_dict': model.state_dict(),\n",
    "        'optimizer_state_dict': optimizer.state_dict(),\n",
    "        'loss': loss\n",
    "    }\n",
    "    torch.save(checkpoint, filepath)\n",
    "    print(f\"Checkpoint saved to '{filepath}'.\")\n",
    "\n",
    "save_checkpoint(custom_mlp, torch.optim.Adam(custom_mlp.parameters()), len(losses), losses[-1], checkpoint_file)"
   ]
  },
  {
   "cell_type": "code",
   "execution_count": 11,
   "metadata": {},
   "outputs": [
    {
     "name": "stdout",
     "output_type": "stream",
     "text": [
      "                  precision    recall  f1-score   support\n",
      "\n",
      "    infringement       0.61      0.52      0.56       283\n",
      "non_infringement       0.60      0.68      0.64       298\n",
      "\n",
      "        accuracy                           0.60       581\n",
      "       macro avg       0.60      0.60      0.60       581\n",
      "    weighted avg       0.60      0.60      0.60       581\n",
      "\n"
     ]
    },
    {
     "name": "stderr",
     "output_type": "stream",
     "text": [
      "/tmp/ipykernel_2346938/2137335780.py:1: UserWarning: To copy construct from a tensor, it is recommended to use sourceTensor.clone().detach() or sourceTensor.clone().detach().requires_grad_(True), rather than torch.tensor(sourceTensor).\n",
      "  y_pred_final = (torch.sigmoid(torch.tensor(custom_mlp(torch.tensor(X_test, dtype=torch.float32)))) > 0.5).float().numpy()\n"
     ]
    }
   ],
   "source": [
    "y_pred_final = (torch.sigmoid(torch.tensor(custom_mlp(torch.tensor(X_test, dtype=torch.float32)))) > 0.5).float().numpy()\n",
    "print(classification_report(y_test, y_pred_final, target_names=[\"infringement\", \"non_infringement\"]))"
   ]
  }
 ],
 "metadata": {
  "kernelspec": {
   "display_name": "sit",
   "language": "python",
   "name": "python3"
  },
  "language_info": {
   "codemirror_mode": {
    "name": "ipython",
    "version": 3
   },
   "file_extension": ".py",
   "mimetype": "text/x-python",
   "name": "python",
   "nbconvert_exporter": "python",
   "pygments_lexer": "ipython3",
   "version": "3.9.0"
  }
 },
 "nbformat": 4,
 "nbformat_minor": 2
}
