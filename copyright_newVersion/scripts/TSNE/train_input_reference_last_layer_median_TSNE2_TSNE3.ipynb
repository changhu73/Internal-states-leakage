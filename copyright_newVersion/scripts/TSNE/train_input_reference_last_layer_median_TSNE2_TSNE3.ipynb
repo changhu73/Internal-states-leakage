{
 "cells": [
  {
   "cell_type": "code",
   "execution_count": 1,
   "metadata": {},
   "outputs": [
    {
     "name": "stderr",
     "output_type": "stream",
     "text": [
      "/home/guangwei/miniconda3/envs/sit/lib/python3.9/site-packages/tqdm/auto.py:21: TqdmWarning: IProgress not found. Please update jupyter and ipywidgets. See https://ipywidgets.readthedocs.io/en/stable/user_install.html\n",
      "  from .autonotebook import tqdm as notebook_tqdm\n"
     ]
    }
   ],
   "source": [
    "# import packages & variables\n",
    "import argparse\n",
    "import torch\n",
    "import torch.nn as nn\n",
    "import numpy as np\n",
    "from sklearn.metrics import accuracy_score, classification_report\n",
    "import matplotlib.pyplot as plt\n",
    "from tqdm import tqdm\n",
    "from transformers import AutoTokenizer, AutoModelForCausalLM, AutoModel, AutoModelForSequenceClassification\n",
    "import json\n",
    "import os\n",
    "\n",
    "os.environ[\"CUDA_VISIBLE_DEVICES\"] = \"5\"\n",
    "\n",
    "# Parameters\n",
    "model_name = 'meta-llama/Meta-Llama-3.1-8B'\n",
    "non_infringement_file = '/home/guangwei/LLM-COPYRIGHT/copyright_newVersion/test_division/extra.non_infringement.json'\n",
    "infringement_file = '/home/guangwei/LLM-COPYRIGHT/copyright_newVersion/test_division/extra.infringement.json'\n",
    "checkpoint_file = '/home/guangwei/LLM-COPYRIGHT/copyright_newVersion/models/train_input_reference_last_layer_TSNE2_TSNE3.pth'\n"
   ]
  },
  {
   "cell_type": "code",
   "execution_count": 2,
   "metadata": {},
   "outputs": [],
   "source": [
    "# Define CustumMLP for internal states train\n",
    "class CustomMLP(nn.Module):\n",
    "    def __init__(self, input_dim, hidden_dim):\n",
    "        super(CustomMLP, self).__init__()\n",
    "        self.down = nn.Linear(input_dim, hidden_dim)\n",
    "        self.gate = nn.Linear(input_dim, hidden_dim)\n",
    "        self.up = nn.Linear(hidden_dim, 1)\n",
    "        self.activation = nn.SiLU()\n",
    "\n",
    "    def forward(self, x):\n",
    "        down_output = self.down(x)\n",
    "        gate_output = self.gate(x)\n",
    "        gated_output = down_output * self.activation(gate_output)\n",
    "        return self.up(gated_output)"
   ]
  },
  {
   "cell_type": "code",
   "execution_count": 3,
   "metadata": {},
   "outputs": [],
   "source": [
    "# Extract hidden states/reference embeddings\n",
    "from sklearn.manifold import TSNE\n",
    "def extract_hidden_states(texts, model, tokenizer, apply_tsne=True, n_components=2, batch_size=4):\n",
    "    device = torch.device(\"cuda\" if torch.cuda.is_available() else \"cpu\")\n",
    "    model.to(device)\n",
    "    model = nn.DataParallel(model)\n",
    "    hidden_states = []\n",
    "    for i in tqdm(range(0, len(texts), batch_size), desc=\"Processing data batches\"):\n",
    "        batch_texts = texts[i:i + batch_size]\n",
    "        inputs = tokenizer(batch_texts, return_tensors=\"pt\", padding=True, truncation=True)\n",
    "        with torch.no_grad():\n",
    "            outputs = model(**inputs)\n",
    "        hidden_state = outputs.hidden_states[-1].mean(dim=1).cpu().numpy()\n",
    "        hidden_states.append(hidden_state)\n",
    "\n",
    "    hidden_states = np.vstack(hidden_states)\n",
    "    if apply_tsne:\n",
    "        tsne = TSNE(n_components=n_components, random_state=42)\n",
    "        hidden_states = tsne.fit_transform(hidden_states)\n",
    "        print(f\"Hidden states reduced to {n_components} dimensions using t-SNE.\")\n",
    "        \n",
    "    return hidden_states\n",
    "\n",
    "def extract_reference_embeddings(references, model, tokenizer, apply_tsne=True, n_components=3, batch_size=4):\n",
    "    device = torch.device(\"cuda\" if torch.cuda.is_available() else \"cpu\")\n",
    "    model.to(device)\n",
    "    model = nn.DataParallel(model)\n",
    "    embeddings = []\n",
    "    for i in tqdm(range(0, len(references), batch_size), desc=\"Processing references\"):\n",
    "        batch_references = references[i:i + batch_size]\n",
    "        inputs = tokenizer(batch_references, return_tensors=\"pt\", padding=True, truncation=True)\n",
    "        with torch.no_grad():\n",
    "            outputs = model(**inputs)\n",
    "        embeddings.append(outputs.pooler_output.cpu().numpy())  # 提取池化后的输出\n",
    "\n",
    "    embeddings = np.vstack(embeddings)\n",
    "    \n",
    "    # 应用 t-SNE\n",
    "    if apply_tsne:\n",
    "        tsne = TSNE(n_components=n_components, random_state=42)\n",
    "        embeddings = tsne.fit_transform(embeddings)\n",
    "        print(f\"Reference embeddings reduced to {n_components} dimensions using t-SNE.\")\n",
    "    \n",
    "    return embeddings"
   ]
  },
  {
   "cell_type": "code",
   "execution_count": 4,
   "metadata": {},
   "outputs": [],
   "source": [
    "# load data for infringement & non infringement\n",
    "def load_data(non_infringement_file, infringement_file):\n",
    "    with open(non_infringement_file, 'r', encoding='utf-8') as file:\n",
    "        non_infringement_json_data = json.load(file)\n",
    "\n",
    "    non_infringement_outputs = [entry['input'] for entry in non_infringement_json_data]\n",
    "    non_infringement_references = [entry['reference'] for entry in non_infringement_json_data]\n",
    "    y_non_infringement = [1] * len(non_infringement_outputs)\n",
    "\n",
    "    with open(infringement_file, 'r', encoding='utf-8') as file:\n",
    "        infringement_json_data = json.load(file)\n",
    "\n",
    "    infringement_outputs = [entry['input'] for entry in infringement_json_data]\n",
    "    infringement_references = [entry['reference'] for entry in infringement_json_data]\n",
    "    y_infringement = [0] * len(infringement_outputs)\n",
    "\n",
    "    return non_infringement_outputs, non_infringement_references, y_non_infringement, infringement_outputs, infringement_references, y_infringement"
   ]
  },
  {
   "cell_type": "code",
   "execution_count": 5,
   "metadata": {},
   "outputs": [],
   "source": [
    "# Train for best model\n",
    "def train_model(X_train, y_train, X_test, y_test, input_dim, hidden_dim, epochs=2000, lr=0.001, checkpoint_path=checkpoint_file):\n",
    "    custom_mlp = CustomMLP(input_dim, hidden_dim)\n",
    "    criterion = nn.BCEWithLogitsLoss()\n",
    "    optimizer = torch.optim.Adam(custom_mlp.parameters(), lr=lr)\n",
    "\n",
    "    X_train_tensor = torch.tensor(X_train, dtype=torch.float32)\n",
    "    y_train_tensor = torch.tensor(y_train, dtype=torch.float32).unsqueeze(1)\n",
    "\n",
    "    best_accuracy = -float('inf')\n",
    "    best_model_state = None\n",
    "    best_epoch = 0\n",
    "    losses = []\n",
    "\n",
    "    for epoch in tqdm(range(epochs), desc=\"Training Epochs\"):\n",
    "        custom_mlp.train()\n",
    "        optimizer.zero_grad()\n",
    "        outputs = custom_mlp(X_train_tensor)\n",
    "        loss = criterion(outputs, y_train_tensor)\n",
    "        loss.backward()\n",
    "        optimizer.step()\n",
    "        losses.append(loss.item())\n",
    "\n",
    "        if (epoch + 1) % 10 == 0:\n",
    "            print(f\"Epoch {epoch + 1}/{epochs}, Loss: {loss.item():.4f}\")\n",
    "            \n",
    "            custom_mlp.eval()\n",
    "            X_test_tensor = torch.tensor(X_test, dtype=torch.float32)\n",
    "            with torch.no_grad():\n",
    "                y_pred_logits = custom_mlp(X_test_tensor)\n",
    "                y_pred = (torch.sigmoid(y_pred_logits) > 0.5).float().numpy()\n",
    "            \n",
    "            accuracy = accuracy_score(y_test, y_pred)\n",
    "            print(f\"Test Accuracy at Epoch {epoch + 1}: {accuracy * 100:.2f}%\")\n",
    "            \n",
    "            report = classification_report(y_test, y_pred, target_names=[\"infringement\", \"non_infringement\"])\n",
    "            print(f\"Classification Report at Epoch {epoch + 1}:\\n{report}\")\n",
    "\n",
    "            if accuracy > best_accuracy:\n",
    "                best_accuracy = accuracy\n",
    "                best_model_state = custom_mlp.state_dict()\n",
    "                best_epoch = epoch + 1\n",
    "                torch.save(best_model_state, checkpoint_path)\n",
    "                print(f\"New best model saved with accuracy {best_accuracy * 100:.2f}% at epoch {best_epoch}\")\n",
    "                print(f\"Best Classification Report at Epoch {best_epoch}:\\n{report}\")\n",
    "\n",
    "    custom_mlp.load_state_dict(torch.load(checkpoint_path))\n",
    "\n",
    "    plt.figure(figsize=(10, 5))\n",
    "    plt.plot(losses, label='Training Loss')\n",
    "    plt.xlabel('Epoch')\n",
    "    plt.ylabel('Loss')\n",
    "    plt.title('Training Loss Curve')\n",
    "    plt.legend()\n",
    "    plt.show()\n",
    "\n",
    "    print(f\"Final Model Accuracy: {best_accuracy * 100:.2f}%\")\n",
    "    \n",
    "    return custom_mlp, losses, best_accuracy"
   ]
  },
  {
   "cell_type": "code",
   "execution_count": 6,
   "metadata": {},
   "outputs": [
    {
     "name": "stderr",
     "output_type": "stream",
     "text": [
      "Loading checkpoint shards: 100%|██████████| 4/4 [00:02<00:00,  1.42it/s]\n",
      "/home/guangwei/miniconda3/envs/sit/lib/python3.9/site-packages/transformers/tokenization_utils_base.py:1601: FutureWarning: `clean_up_tokenization_spaces` was not set. It will be set to `True` by default. This behavior will be depracted in transformers v4.45, and will be then set to `False` by default. For more details check this issue: https://github.com/huggingface/transformers/issues/31884\n",
      "  warnings.warn(\n"
     ]
    }
   ],
   "source": [
    "tokenizer = AutoTokenizer.from_pretrained(model_name, model_max_length=512)\n",
    "model = AutoModelForCausalLM.from_pretrained(model_name, output_hidden_states=True)\n",
    "tokenizer.pad_token = tokenizer.eos_token\n",
    "bert_tokenizer = AutoTokenizer.from_pretrained('google-bert/bert-base-uncased')\n",
    "bert_model = AutoModel.from_pretrained('google-bert/bert-base-uncased')\n",
    "bert_tokenizer.pad_token = tokenizer.eos_token\n",
    "\n",
    "non_infringement_outputs, non_infringement_references, y_non_infringement, infringement_outputs, infringement_references, y_infringement = load_data(\n",
    "    non_infringement_file, infringement_file\n",
    ")\n",
    "\n",
    "y_non_infringement = np.array(y_non_infringement)\n",
    "y_infringement = np.array(y_infringement)\n"
   ]
  },
  {
   "cell_type": "code",
   "execution_count": 7,
   "metadata": {},
   "outputs": [
    {
     "name": "stdout",
     "output_type": "stream",
     "text": [
      "Extracting hidden states for non_infringement texts...\n"
     ]
    },
    {
     "name": "stderr",
     "output_type": "stream",
     "text": [
      "Processing data batches:   0%|          | 0/373 [00:00<?, ?it/s]We detected that you are passing `past_key_values` as a tuple and this is deprecated and will be removed in v4.43. Please use an appropriate `Cache` class (https://huggingface.co/docs/transformers/v4.41.3/en/internal/generation_utils#transformers.Cache)\n",
      "Processing data batches: 100%|██████████| 373/373 [01:44<00:00,  3.56it/s]\n",
      "huggingface/tokenizers: The current process just got forked, after parallelism has already been used. Disabling parallelism to avoid deadlocks...\n",
      "To disable this warning, you can either:\n",
      "\t- Avoid using `tokenizers` before the fork if possible\n",
      "\t- Explicitly set the environment variable TOKENIZERS_PARALLELISM=(true | false)\n",
      "huggingface/tokenizers: The current process just got forked, after parallelism has already been used. Disabling parallelism to avoid deadlocks...\n",
      "To disable this warning, you can either:\n",
      "\t- Avoid using `tokenizers` before the fork if possible\n",
      "\t- Explicitly set the environment variable TOKENIZERS_PARALLELISM=(true | false)\n"
     ]
    },
    {
     "name": "stdout",
     "output_type": "stream",
     "text": [
      "Hidden states reduced to 2 dimensions using t-SNE.\n",
      "Extracting reference embeddings for non_infringement texts...\n"
     ]
    },
    {
     "name": "stderr",
     "output_type": "stream",
     "text": [
      "Processing references: 100%|██████████| 373/373 [00:03<00:00, 96.16it/s] \n"
     ]
    },
    {
     "name": "stdout",
     "output_type": "stream",
     "text": [
      "Reference embeddings reduced to 3 dimensions using t-SNE.\n",
      "Extracting hidden states for infringement texts...\n"
     ]
    },
    {
     "name": "stderr",
     "output_type": "stream",
     "text": [
      "Processing data batches: 100%|██████████| 354/354 [01:54<00:00,  3.10it/s]\n"
     ]
    },
    {
     "name": "stdout",
     "output_type": "stream",
     "text": [
      "Hidden states reduced to 2 dimensions using t-SNE.\n",
      "Extracting reference embeddings for infringement texts...\n"
     ]
    },
    {
     "name": "stderr",
     "output_type": "stream",
     "text": [
      "Processing references: 100%|██████████| 354/354 [00:03<00:00, 102.62it/s]\n"
     ]
    },
    {
     "name": "stdout",
     "output_type": "stream",
     "text": [
      "Reference embeddings reduced to 3 dimensions using t-SNE.\n"
     ]
    }
   ],
   "source": [
    "print(\"Extracting hidden states for non_infringement texts...\")\n",
    "X_non_infringement = extract_hidden_states(non_infringement_outputs, model, tokenizer)\n",
    "print(\"Extracting reference embeddings for non_infringement texts...\")\n",
    "reference_embeddings_non_infringement = extract_reference_embeddings(non_infringement_references, bert_model, bert_tokenizer)\n",
    "X_non_infringement_combined = np.hstack([X_non_infringement, reference_embeddings_non_infringement])\n",
    "\n",
    "print(\"Extracting hidden states for infringement texts...\")\n",
    "X_infringement = extract_hidden_states(infringement_outputs, model, tokenizer)\n",
    "print(\"Extracting reference embeddings for infringement texts...\")\n",
    "reference_embeddings_infringement = extract_reference_embeddings(infringement_references, bert_model, bert_tokenizer)\n",
    "X_infringement_combined = np.hstack([X_infringement, reference_embeddings_infringement])"
   ]
  },
  {
   "cell_type": "code",
   "execution_count": 8,
   "metadata": {},
   "outputs": [
    {
     "name": "stdout",
     "output_type": "stream",
     "text": [
      "Data successfully split into training and test sets.\n"
     ]
    }
   ],
   "source": [
    "split_index_non_infringement = int(0.8 * len(X_non_infringement_combined))\n",
    "X_non_infringement_train = X_non_infringement_combined[:split_index_non_infringement]\n",
    "X_non_infringement_test = X_non_infringement_combined[split_index_non_infringement:]\n",
    "y_non_infringement_train = y_non_infringement[:split_index_non_infringement]\n",
    "y_non_infringement_test = y_non_infringement[split_index_non_infringement:]\n",
    "\n",
    "split_index_infringement = int(0.8 * len(X_infringement_combined))\n",
    "X_infringement_train = X_infringement_combined[:split_index_infringement]\n",
    "X_infringement_test = X_infringement_combined[split_index_infringement:]\n",
    "y_infringement_train = y_infringement[:split_index_infringement]\n",
    "y_infringement_test = y_infringement[split_index_infringement:]\n",
    "\n",
    "X_train = np.vstack((X_non_infringement_train, X_infringement_train))\n",
    "X_test = np.vstack((X_non_infringement_test, X_infringement_test))\n",
    "y_train = np.concatenate((y_non_infringement_train, y_infringement_train))\n",
    "y_test = np.concatenate((y_non_infringement_test, y_infringement_test))\n",
    "\n",
    "print(\"Data successfully split into training and test sets.\")"
   ]
  },
  {
   "cell_type": "code",
   "execution_count": 9,
   "metadata": {},
   "outputs": [
    {
     "name": "stdout",
     "output_type": "stream",
     "text": [
      "Training MLP model with input_dim=5 and hidden_dim=256\n"
     ]
    },
    {
     "name": "stderr",
     "output_type": "stream",
     "text": [
      "Training Epochs:   0%|          | 8/2000 [00:00<00:25, 77.51it/s]"
     ]
    },
    {
     "name": "stdout",
     "output_type": "stream",
     "text": [
      "Epoch 10/2000, Loss: 6.7724\n",
      "Test Accuracy at Epoch 10: 58.52%\n",
      "Classification Report at Epoch 10:\n",
      "                  precision    recall  f1-score   support\n",
      "\n",
      "    infringement       0.58      0.52      0.55       283\n",
      "non_infringement       0.59      0.65      0.62       298\n",
      "\n",
      "        accuracy                           0.59       581\n",
      "       macro avg       0.58      0.58      0.58       581\n",
      "    weighted avg       0.59      0.59      0.58       581\n",
      "\n",
      "New best model saved with accuracy 58.52% at epoch 10\n",
      "Best Classification Report at Epoch 10:\n",
      "                  precision    recall  f1-score   support\n",
      "\n",
      "    infringement       0.58      0.52      0.55       283\n",
      "non_infringement       0.59      0.65      0.62       298\n",
      "\n",
      "        accuracy                           0.59       581\n",
      "       macro avg       0.58      0.58      0.58       581\n",
      "    weighted avg       0.59      0.59      0.58       581\n",
      "\n"
     ]
    },
    {
     "name": "stderr",
     "output_type": "stream",
     "text": [
      "Training Epochs:   1%|          | 19/2000 [00:00<00:21, 93.27it/s]"
     ]
    },
    {
     "name": "stdout",
     "output_type": "stream",
     "text": [
      "Epoch 20/2000, Loss: 5.5875\n",
      "Test Accuracy at Epoch 20: 55.08%\n",
      "Classification Report at Epoch 20:\n",
      "                  precision    recall  f1-score   support\n",
      "\n",
      "    infringement       0.54      0.48      0.51       283\n",
      "non_infringement       0.56      0.61      0.58       298\n",
      "\n",
      "        accuracy                           0.55       581\n",
      "       macro avg       0.55      0.55      0.55       581\n",
      "    weighted avg       0.55      0.55      0.55       581\n",
      "\n"
     ]
    },
    {
     "name": "stderr",
     "output_type": "stream",
     "text": [
      "Training Epochs:   1%|▏         | 29/2000 [00:00<00:25, 78.02it/s]"
     ]
    },
    {
     "name": "stdout",
     "output_type": "stream",
     "text": [
      "Epoch 30/2000, Loss: 2.9804\n",
      "Test Accuracy at Epoch 30: 61.10%\n",
      "Classification Report at Epoch 30:\n",
      "                  precision    recall  f1-score   support\n",
      "\n",
      "    infringement       0.60      0.63      0.61       283\n",
      "non_infringement       0.63      0.59      0.61       298\n",
      "\n",
      "        accuracy                           0.61       581\n",
      "       macro avg       0.61      0.61      0.61       581\n",
      "    weighted avg       0.61      0.61      0.61       581\n",
      "\n",
      "New best model saved with accuracy 61.10% at epoch 30\n",
      "Best Classification Report at Epoch 30:\n",
      "                  precision    recall  f1-score   support\n",
      "\n",
      "    infringement       0.60      0.63      0.61       283\n",
      "non_infringement       0.63      0.59      0.61       298\n",
      "\n",
      "        accuracy                           0.61       581\n",
      "       macro avg       0.61      0.61      0.61       581\n",
      "    weighted avg       0.61      0.61      0.61       581\n",
      "\n"
     ]
    },
    {
     "name": "stderr",
     "output_type": "stream",
     "text": [
      "Training Epochs:   2%|▏         | 40/2000 [00:00<00:23, 82.43it/s]"
     ]
    },
    {
     "name": "stdout",
     "output_type": "stream",
     "text": [
      "Epoch 40/2000, Loss: 1.9643\n",
      "Test Accuracy at Epoch 40: 57.83%\n",
      "Classification Report at Epoch 40:\n",
      "                  precision    recall  f1-score   support\n",
      "\n",
      "    infringement       0.57      0.52      0.55       283\n",
      "non_infringement       0.58      0.63      0.61       298\n",
      "\n",
      "        accuracy                           0.58       581\n",
      "       macro avg       0.58      0.58      0.58       581\n",
      "    weighted avg       0.58      0.58      0.58       581\n",
      "\n",
      "Epoch 50/2000, Loss: 1.3297\n",
      "Test Accuracy at Epoch 50: 62.13%\n"
     ]
    },
    {
     "name": "stderr",
     "output_type": "stream",
     "text": [
      "Training Epochs:   3%|▎         | 51/2000 [00:00<00:21, 90.45it/s]"
     ]
    },
    {
     "name": "stdout",
     "output_type": "stream",
     "text": [
      "Classification Report at Epoch 50:\n",
      "                  precision    recall  f1-score   support\n",
      "\n",
      "    infringement       0.60      0.65      0.63       283\n",
      "non_infringement       0.64      0.59      0.62       298\n",
      "\n",
      "        accuracy                           0.62       581\n",
      "       macro avg       0.62      0.62      0.62       581\n",
      "    weighted avg       0.62      0.62      0.62       581\n",
      "\n",
      "New best model saved with accuracy 62.13% at epoch 50\n",
      "Best Classification Report at Epoch 50:\n",
      "                  precision    recall  f1-score   support\n",
      "\n",
      "    infringement       0.60      0.65      0.63       283\n",
      "non_infringement       0.64      0.59      0.62       298\n",
      "\n",
      "        accuracy                           0.62       581\n",
      "       macro avg       0.62      0.62      0.62       581\n",
      "    weighted avg       0.62      0.62      0.62       581\n",
      "\n"
     ]
    },
    {
     "name": "stderr",
     "output_type": "stream",
     "text": [
      "Training Epochs:   3%|▎         | 61/2000 [00:00<00:24, 79.30it/s]"
     ]
    },
    {
     "name": "stdout",
     "output_type": "stream",
     "text": [
      "Epoch 60/2000, Loss: 0.9781\n",
      "Test Accuracy at Epoch 60: 64.72%\n",
      "Classification Report at Epoch 60:\n",
      "                  precision    recall  f1-score   support\n",
      "\n",
      "    infringement       0.64      0.62      0.63       283\n",
      "non_infringement       0.65      0.67      0.66       298\n",
      "\n",
      "        accuracy                           0.65       581\n",
      "       macro avg       0.65      0.65      0.65       581\n",
      "    weighted avg       0.65      0.65      0.65       581\n",
      "\n",
      "New best model saved with accuracy 64.72% at epoch 60\n",
      "Best Classification Report at Epoch 60:\n",
      "                  precision    recall  f1-score   support\n",
      "\n",
      "    infringement       0.64      0.62      0.63       283\n",
      "non_infringement       0.65      0.67      0.66       298\n",
      "\n",
      "        accuracy                           0.65       581\n",
      "       macro avg       0.65      0.65      0.65       581\n",
      "    weighted avg       0.65      0.65      0.65       581\n",
      "\n"
     ]
    },
    {
     "name": "stderr",
     "output_type": "stream",
     "text": [
      "Training Epochs:   4%|▎         | 72/2000 [00:00<00:22, 86.90it/s]"
     ]
    },
    {
     "name": "stdout",
     "output_type": "stream",
     "text": [
      "Epoch 70/2000, Loss: 0.7918\n",
      "Test Accuracy at Epoch 70: 62.31%\n",
      "Classification Report at Epoch 70:\n",
      "                  precision    recall  f1-score   support\n",
      "\n",
      "    infringement       0.62      0.59      0.60       283\n",
      "non_infringement       0.63      0.65      0.64       298\n",
      "\n",
      "        accuracy                           0.62       581\n",
      "       macro avg       0.62      0.62      0.62       581\n",
      "    weighted avg       0.62      0.62      0.62       581\n",
      "\n",
      "Epoch 80/2000, Loss: 0.6667\n",
      "Test Accuracy at Epoch 80: 59.90%\n",
      "Classification Report at Epoch 80:\n",
      "                  precision    recall  f1-score   support\n",
      "\n",
      "    infringement       0.60      0.55      0.57       283\n",
      "non_infringement       0.60      0.65      0.62       298\n",
      "\n",
      "        accuracy                           0.60       581\n",
      "       macro avg       0.60      0.60      0.60       581\n",
      "    weighted avg       0.60      0.60      0.60       581\n",
      "\n"
     ]
    },
    {
     "name": "stderr",
     "output_type": "stream",
     "text": [
      "Training Epochs:   4%|▍         | 83/2000 [00:00<00:20, 92.12it/s]"
     ]
    },
    {
     "name": "stdout",
     "output_type": "stream",
     "text": [
      "Epoch 90/2000, Loss: 0.5719\n",
      "Test Accuracy at Epoch 90: 59.72%\n",
      "Classification Report at Epoch 90:\n",
      "                  precision    recall  f1-score   support\n",
      "\n",
      "    infringement       0.60      0.51      0.55       283\n",
      "non_infringement       0.59      0.68      0.63       298\n",
      "\n",
      "        accuracy                           0.60       581\n",
      "       macro avg       0.60      0.60      0.59       581\n",
      "    weighted avg       0.60      0.60      0.59       581\n",
      "\n"
     ]
    },
    {
     "name": "stderr",
     "output_type": "stream",
     "text": [
      "Training Epochs:   5%|▌         | 103/2000 [00:01<00:22, 86.05it/s]"
     ]
    },
    {
     "name": "stdout",
     "output_type": "stream",
     "text": [
      "Epoch 100/2000, Loss: 0.4992\n",
      "Test Accuracy at Epoch 100: 59.21%\n",
      "Classification Report at Epoch 100:\n",
      "                  precision    recall  f1-score   support\n",
      "\n",
      "    infringement       0.60      0.50      0.54       283\n",
      "non_infringement       0.59      0.68      0.63       298\n",
      "\n",
      "        accuracy                           0.59       581\n",
      "       macro avg       0.59      0.59      0.59       581\n",
      "    weighted avg       0.59      0.59      0.59       581\n",
      "\n"
     ]
    },
    {
     "name": "stderr",
     "output_type": "stream",
     "text": [
      "Training Epochs:   6%|▌         | 114/2000 [00:01<00:20, 91.92it/s]"
     ]
    },
    {
     "name": "stdout",
     "output_type": "stream",
     "text": [
      "Epoch 110/2000, Loss: 0.4405\n",
      "Test Accuracy at Epoch 110: 58.18%\n",
      "Classification Report at Epoch 110:\n",
      "                  precision    recall  f1-score   support\n",
      "\n",
      "    infringement       0.58      0.49      0.53       283\n",
      "non_infringement       0.58      0.67      0.62       298\n",
      "\n",
      "        accuracy                           0.58       581\n",
      "       macro avg       0.58      0.58      0.58       581\n",
      "    weighted avg       0.58      0.58      0.58       581\n",
      "\n",
      "Epoch 120/2000, Loss: 0.3933\n",
      "Test Accuracy at Epoch 120: 58.86%\n",
      "Classification Report at Epoch 120:\n",
      "                  precision    recall  f1-score   support\n",
      "\n",
      "    infringement       0.59      0.49      0.54       283\n",
      "non_infringement       0.59      0.68      0.63       298\n",
      "\n",
      "        accuracy                           0.59       581\n",
      "       macro avg       0.59      0.59      0.58       581\n",
      "    weighted avg       0.59      0.59      0.58       581\n",
      "\n"
     ]
    },
    {
     "name": "stderr",
     "output_type": "stream",
     "text": [
      "Training Epochs:   6%|▋         | 125/2000 [00:01<00:19, 96.00it/s]"
     ]
    },
    {
     "name": "stdout",
     "output_type": "stream",
     "text": [
      "Epoch 130/2000, Loss: 0.3550\n",
      "Test Accuracy at Epoch 130: 59.55%\n"
     ]
    },
    {
     "name": "stderr",
     "output_type": "stream",
     "text": [
      "Training Epochs:   7%|▋         | 135/2000 [00:01<00:21, 87.73it/s]"
     ]
    },
    {
     "name": "stdout",
     "output_type": "stream",
     "text": [
      "Classification Report at Epoch 130:\n",
      "                  precision    recall  f1-score   support\n",
      "\n",
      "    infringement       0.60      0.49      0.54       283\n",
      "non_infringement       0.59      0.69      0.64       298\n",
      "\n",
      "        accuracy                           0.60       581\n",
      "       macro avg       0.60      0.59      0.59       581\n",
      "    weighted avg       0.60      0.60      0.59       581\n",
      "\n",
      "Epoch 140/2000, Loss: 0.3236\n",
      "Test Accuracy at Epoch 140: 59.90%\n",
      "Classification Report at Epoch 140:\n",
      "                  precision    recall  f1-score   support\n",
      "\n",
      "    infringement       0.61      0.50      0.55       283\n",
      "non_infringement       0.59      0.69      0.64       298\n",
      "\n",
      "        accuracy                           0.60       581\n",
      "       macro avg       0.60      0.60      0.59       581\n",
      "    weighted avg       0.60      0.60      0.59       581\n",
      "\n"
     ]
    },
    {
     "name": "stderr",
     "output_type": "stream",
     "text": [
      "Training Epochs:   8%|▊         | 156/2000 [00:01<00:20, 91.78it/s]"
     ]
    },
    {
     "name": "stdout",
     "output_type": "stream",
     "text": [
      "Epoch 150/2000, Loss: 0.2973\n",
      "Test Accuracy at Epoch 150: 58.35%\n",
      "Classification Report at Epoch 150:\n",
      "                  precision    recall  f1-score   support\n",
      "\n",
      "    infringement       0.59      0.48      0.53       283\n",
      "non_infringement       0.58      0.68      0.63       298\n",
      "\n",
      "        accuracy                           0.58       581\n",
      "       macro avg       0.58      0.58      0.58       581\n",
      "    weighted avg       0.58      0.58      0.58       581\n",
      "\n",
      "Epoch 160/2000, Loss: 0.2752\n",
      "Test Accuracy at Epoch 160: 57.66%\n",
      "Classification Report at Epoch 160:\n",
      "                  precision    recall  f1-score   support\n",
      "\n",
      "    infringement       0.58      0.47      0.52       283\n",
      "non_infringement       0.57      0.68      0.62       298\n",
      "\n",
      "        accuracy                           0.58       581\n",
      "       macro avg       0.58      0.57      0.57       581\n",
      "    weighted avg       0.58      0.58      0.57       581\n",
      "\n"
     ]
    },
    {
     "name": "stderr",
     "output_type": "stream",
     "text": [
      "Training Epochs:   9%|▉         | 189/2000 [00:02<00:19, 92.74it/s]"
     ]
    },
    {
     "name": "stdout",
     "output_type": "stream",
     "text": [
      "Epoch 170/2000, Loss: 0.2566\n",
      "Test Accuracy at Epoch 170: 57.14%\n",
      "Classification Report at Epoch 170:\n",
      "                  precision    recall  f1-score   support\n",
      "\n",
      "    infringement       0.58      0.46      0.51       283\n",
      "non_infringement       0.57      0.68      0.62       298\n",
      "\n",
      "        accuracy                           0.57       581\n",
      "       macro avg       0.57      0.57      0.56       581\n",
      "    weighted avg       0.57      0.57      0.57       581\n",
      "\n",
      "Epoch 180/2000, Loss: 0.2409\n",
      "Test Accuracy at Epoch 180: 57.83%\n",
      "Classification Report at Epoch 180:\n",
      "                  precision    recall  f1-score   support\n",
      "\n",
      "    infringement       0.58      0.46      0.52       283\n",
      "non_infringement       0.57      0.69      0.63       298\n",
      "\n",
      "        accuracy                           0.58       581\n",
      "       macro avg       0.58      0.58      0.57       581\n",
      "    weighted avg       0.58      0.58      0.57       581\n",
      "\n",
      "Epoch 190/2000, Loss: 0.2274\n",
      "Test Accuracy at Epoch 190: 58.18%\n",
      "Classification Report at Epoch 190:\n",
      "                  precision    recall  f1-score   support\n",
      "\n",
      "    infringement       0.59      0.46      0.52       283\n",
      "non_infringement       0.58      0.69      0.63       298\n",
      "\n",
      "        accuracy                           0.58       581\n",
      "       macro avg       0.58      0.58      0.57       581\n",
      "    weighted avg       0.58      0.58      0.58       581\n",
      "\n"
     ]
    },
    {
     "name": "stderr",
     "output_type": "stream",
     "text": [
      "Training Epochs:  10%|█         | 210/2000 [00:02<00:21, 84.15it/s]"
     ]
    },
    {
     "name": "stdout",
     "output_type": "stream",
     "text": [
      "Epoch 200/2000, Loss: 0.2156\n",
      "Test Accuracy at Epoch 200: 58.52%\n",
      "Classification Report at Epoch 200:\n",
      "                  precision    recall  f1-score   support\n",
      "\n",
      "    infringement       0.59      0.47      0.52       283\n",
      "non_infringement       0.58      0.70      0.63       298\n",
      "\n",
      "        accuracy                           0.59       581\n",
      "       macro avg       0.59      0.58      0.58       581\n",
      "    weighted avg       0.59      0.59      0.58       581\n",
      "\n",
      "Epoch 210/2000, Loss: 0.2051\n",
      "Test Accuracy at Epoch 210: 58.35%\n",
      "Classification Report at Epoch 210:\n",
      "                  precision    recall  f1-score   support\n",
      "\n",
      "    infringement       0.59      0.47      0.52       283\n",
      "non_infringement       0.58      0.69      0.63       298\n",
      "\n",
      "        accuracy                           0.58       581\n",
      "       macro avg       0.59      0.58      0.58       581\n",
      "    weighted avg       0.58      0.58      0.58       581\n",
      "\n"
     ]
    },
    {
     "name": "stderr",
     "output_type": "stream",
     "text": [
      "Training Epochs:  12%|█▏        | 232/2000 [00:02<00:18, 93.82it/s]"
     ]
    },
    {
     "name": "stdout",
     "output_type": "stream",
     "text": [
      "Epoch 220/2000, Loss: 0.1957\n",
      "Test Accuracy at Epoch 220: 58.52%\n",
      "Classification Report at Epoch 220:\n",
      "                  precision    recall  f1-score   support\n",
      "\n",
      "    infringement       0.59      0.47      0.52       283\n",
      "non_infringement       0.58      0.69      0.63       298\n",
      "\n",
      "        accuracy                           0.59       581\n",
      "       macro avg       0.59      0.58      0.58       581\n",
      "    weighted avg       0.59      0.59      0.58       581\n",
      "\n",
      "Epoch 230/2000, Loss: 0.1870\n",
      "Test Accuracy at Epoch 230: 58.52%\n",
      "Classification Report at Epoch 230:\n",
      "                  precision    recall  f1-score   support\n",
      "\n",
      "    infringement       0.59      0.47      0.52       283\n",
      "non_infringement       0.58      0.69      0.63       298\n",
      "\n",
      "        accuracy                           0.59       581\n",
      "       macro avg       0.59      0.58      0.58       581\n",
      "    weighted avg       0.59      0.59      0.58       581\n",
      "\n"
     ]
    },
    {
     "name": "stderr",
     "output_type": "stream",
     "text": [
      "Training Epochs:  13%|█▎        | 253/2000 [00:02<00:19, 90.05it/s]"
     ]
    },
    {
     "name": "stdout",
     "output_type": "stream",
     "text": [
      "Epoch 240/2000, Loss: 0.1791\n",
      "Test Accuracy at Epoch 240: 58.52%\n",
      "Classification Report at Epoch 240:\n",
      "                  precision    recall  f1-score   support\n",
      "\n",
      "    infringement       0.60      0.46      0.52       283\n",
      "non_infringement       0.58      0.70      0.63       298\n",
      "\n",
      "        accuracy                           0.59       581\n",
      "       macro avg       0.59      0.58      0.58       581\n",
      "    weighted avg       0.59      0.59      0.58       581\n",
      "\n",
      "Epoch 250/2000, Loss: 0.1718\n",
      "Test Accuracy at Epoch 250: 58.86%\n",
      "Classification Report at Epoch 250:\n",
      "                  precision    recall  f1-score   support\n",
      "\n",
      "    infringement       0.60      0.47      0.53       283\n",
      "non_infringement       0.58      0.70      0.64       298\n",
      "\n",
      "        accuracy                           0.59       581\n",
      "       macro avg       0.59      0.59      0.58       581\n",
      "    weighted avg       0.59      0.59      0.58       581\n",
      "\n",
      "Epoch 260/2000, Loss: 0.1651\n",
      "Test Accuracy at Epoch 260: 59.38%\n",
      "Classification Report at Epoch 260:\n",
      "                  precision    recall  f1-score   support\n",
      "\n",
      "    infringement       0.60      0.48      0.54       283\n",
      "non_infringement       0.59      0.70      0.64       298\n",
      "\n",
      "        accuracy                           0.59       581\n",
      "       macro avg       0.60      0.59      0.59       581\n",
      "    weighted avg       0.60      0.59      0.59       581\n",
      "\n"
     ]
    },
    {
     "name": "stderr",
     "output_type": "stream",
     "text": [
      "Training Epochs:  14%|█▍        | 287/2000 [00:03<00:18, 94.85it/s]"
     ]
    },
    {
     "name": "stdout",
     "output_type": "stream",
     "text": [
      "Epoch 270/2000, Loss: 0.1588\n",
      "Test Accuracy at Epoch 270: 59.04%\n",
      "Classification Report at Epoch 270:\n",
      "                  precision    recall  f1-score   support\n",
      "\n",
      "    infringement       0.60      0.47      0.53       283\n",
      "non_infringement       0.58      0.70      0.64       298\n",
      "\n",
      "        accuracy                           0.59       581\n",
      "       macro avg       0.59      0.59      0.58       581\n",
      "    weighted avg       0.59      0.59      0.58       581\n",
      "\n",
      "Epoch 280/2000, Loss: 0.1529\n",
      "Test Accuracy at Epoch 280: 59.04%\n",
      "Classification Report at Epoch 280:\n",
      "                  precision    recall  f1-score   support\n",
      "\n",
      "    infringement       0.60      0.47      0.53       283\n",
      "non_infringement       0.58      0.70      0.64       298\n",
      "\n",
      "        accuracy                           0.59       581\n",
      "       macro avg       0.59      0.59      0.58       581\n",
      "    weighted avg       0.59      0.59      0.58       581\n",
      "\n"
     ]
    },
    {
     "name": "stderr",
     "output_type": "stream",
     "text": [
      "Training Epochs:  15%|█▌        | 309/2000 [00:03<00:17, 98.66it/s]"
     ]
    },
    {
     "name": "stdout",
     "output_type": "stream",
     "text": [
      "Epoch 290/2000, Loss: 0.1475\n",
      "Test Accuracy at Epoch 290: 59.21%\n",
      "Classification Report at Epoch 290:\n",
      "                  precision    recall  f1-score   support\n",
      "\n",
      "    infringement       0.60      0.47      0.53       283\n",
      "non_infringement       0.58      0.70      0.64       298\n",
      "\n",
      "        accuracy                           0.59       581\n",
      "       macro avg       0.59      0.59      0.58       581\n",
      "    weighted avg       0.59      0.59      0.59       581\n",
      "\n",
      "Epoch 300/2000, Loss: 0.1424\n",
      "Test Accuracy at Epoch 300: 59.38%\n",
      "Classification Report at Epoch 300:\n",
      "                  precision    recall  f1-score   support\n",
      "\n",
      "    infringement       0.61      0.47      0.53       283\n",
      "non_infringement       0.59      0.71      0.64       298\n",
      "\n",
      "        accuracy                           0.59       581\n",
      "       macro avg       0.60      0.59      0.59       581\n",
      "    weighted avg       0.60      0.59      0.59       581\n",
      "\n",
      "Epoch 310/2000, Loss: 0.1377\n",
      "Test Accuracy at Epoch 310: 59.72%\n"
     ]
    },
    {
     "name": "stderr",
     "output_type": "stream",
     "text": [
      "Training Epochs:  16%|█▌        | 320/2000 [00:03<00:18, 89.78it/s]"
     ]
    },
    {
     "name": "stdout",
     "output_type": "stream",
     "text": [
      "Classification Report at Epoch 310:\n",
      "                  precision    recall  f1-score   support\n",
      "\n",
      "    infringement       0.61      0.48      0.54       283\n",
      "non_infringement       0.59      0.71      0.64       298\n",
      "\n",
      "        accuracy                           0.60       581\n",
      "       macro avg       0.60      0.59      0.59       581\n",
      "    weighted avg       0.60      0.60      0.59       581\n",
      "\n",
      "Epoch 320/2000, Loss: 0.1332\n",
      "Test Accuracy at Epoch 320: 60.07%\n",
      "Classification Report at Epoch 320:\n",
      "                  precision    recall  f1-score   support\n",
      "\n",
      "    infringement       0.62      0.48      0.54       283\n",
      "non_infringement       0.59      0.71      0.65       298\n",
      "\n",
      "        accuracy                           0.60       581\n",
      "       macro avg       0.60      0.60      0.59       581\n",
      "    weighted avg       0.60      0.60      0.59       581\n",
      "\n",
      "Epoch 330/2000, Loss: 0.1291\n",
      "Test Accuracy at Epoch 330: 60.59%\n",
      "Classification Report at Epoch 330:\n",
      "                  precision    recall  f1-score   support\n",
      "\n",
      "    infringement       0.62      0.49      0.55       283\n",
      "non_infringement       0.60      0.72      0.65       298\n",
      "\n",
      "        accuracy                           0.61       581\n",
      "       macro avg       0.61      0.60      0.60       581\n",
      "    weighted avg       0.61      0.61      0.60       581\n",
      "\n"
     ]
    },
    {
     "name": "stderr",
     "output_type": "stream",
     "text": [
      "Training Epochs:  18%|█▊        | 352/2000 [00:03<00:19, 86.67it/s]"
     ]
    },
    {
     "name": "stdout",
     "output_type": "stream",
     "text": [
      "Epoch 340/2000, Loss: 0.1252\n",
      "Test Accuracy at Epoch 340: 60.76%\n",
      "Classification Report at Epoch 340:\n",
      "                  precision    recall  f1-score   support\n",
      "\n",
      "    infringement       0.62      0.49      0.55       283\n",
      "non_infringement       0.60      0.71      0.65       298\n",
      "\n",
      "        accuracy                           0.61       581\n",
      "       macro avg       0.61      0.60      0.60       581\n",
      "    weighted avg       0.61      0.61      0.60       581\n",
      "\n",
      "Epoch 350/2000, Loss: 0.1215\n",
      "Test Accuracy at Epoch 350: 60.76%\n",
      "Classification Report at Epoch 350:\n",
      "                  precision    recall  f1-score   support\n",
      "\n",
      "    infringement       0.62      0.49      0.55       283\n",
      "non_infringement       0.60      0.71      0.65       298\n",
      "\n",
      "        accuracy                           0.61       581\n",
      "       macro avg       0.61      0.60      0.60       581\n",
      "    weighted avg       0.61      0.61      0.60       581\n",
      "\n"
     ]
    },
    {
     "name": "stderr",
     "output_type": "stream",
     "text": [
      "Training Epochs:  19%|█▊        | 373/2000 [00:04<00:17, 91.61it/s]"
     ]
    },
    {
     "name": "stdout",
     "output_type": "stream",
     "text": [
      "Epoch 360/2000, Loss: 0.1180\n",
      "Test Accuracy at Epoch 360: 60.59%\n",
      "Classification Report at Epoch 360:\n",
      "                  precision    recall  f1-score   support\n",
      "\n",
      "    infringement       0.62      0.49      0.55       283\n",
      "non_infringement       0.60      0.71      0.65       298\n",
      "\n",
      "        accuracy                           0.61       581\n",
      "       macro avg       0.61      0.60      0.60       581\n",
      "    weighted avg       0.61      0.61      0.60       581\n",
      "\n",
      "Epoch 370/2000, Loss: 0.1148\n",
      "Test Accuracy at Epoch 370: 60.59%\n",
      "Classification Report at Epoch 370:\n",
      "                  precision    recall  f1-score   support\n",
      "\n",
      "    infringement       0.62      0.49      0.55       283\n",
      "non_infringement       0.60      0.71      0.65       298\n",
      "\n",
      "        accuracy                           0.61       581\n",
      "       macro avg       0.61      0.60      0.60       581\n",
      "    weighted avg       0.61      0.61      0.60       581\n",
      "\n"
     ]
    },
    {
     "name": "stderr",
     "output_type": "stream",
     "text": [
      "Training Epochs:  20%|█▉        | 394/2000 [00:04<00:17, 90.09it/s]"
     ]
    },
    {
     "name": "stdout",
     "output_type": "stream",
     "text": [
      "Epoch 380/2000, Loss: 0.1117\n",
      "Test Accuracy at Epoch 380: 60.59%\n",
      "Classification Report at Epoch 380:\n",
      "                  precision    recall  f1-score   support\n",
      "\n",
      "    infringement       0.62      0.49      0.55       283\n",
      "non_infringement       0.60      0.71      0.65       298\n",
      "\n",
      "        accuracy                           0.61       581\n",
      "       macro avg       0.61      0.60      0.60       581\n",
      "    weighted avg       0.61      0.61      0.60       581\n",
      "\n",
      "Epoch 390/2000, Loss: 0.1088\n",
      "Test Accuracy at Epoch 390: 60.41%\n",
      "Classification Report at Epoch 390:\n",
      "                  precision    recall  f1-score   support\n",
      "\n",
      "    infringement       0.62      0.49      0.55       283\n",
      "non_infringement       0.60      0.71      0.65       298\n",
      "\n",
      "        accuracy                           0.60       581\n",
      "       macro avg       0.61      0.60      0.60       581\n",
      "    weighted avg       0.61      0.60      0.60       581\n",
      "\n"
     ]
    },
    {
     "name": "stderr",
     "output_type": "stream",
     "text": [
      "Training Epochs:  21%|██        | 416/2000 [00:04<00:16, 96.52it/s]"
     ]
    },
    {
     "name": "stdout",
     "output_type": "stream",
     "text": [
      "Epoch 400/2000, Loss: 0.1060\n",
      "Test Accuracy at Epoch 400: 60.41%\n",
      "Classification Report at Epoch 400:\n",
      "                  precision    recall  f1-score   support\n",
      "\n",
      "    infringement       0.62      0.49      0.55       283\n",
      "non_infringement       0.60      0.71      0.65       298\n",
      "\n",
      "        accuracy                           0.60       581\n",
      "       macro avg       0.61      0.60      0.60       581\n",
      "    weighted avg       0.61      0.60      0.60       581\n",
      "\n",
      "Epoch 410/2000, Loss: 0.1033\n",
      "Test Accuracy at Epoch 410: 60.24%\n",
      "Classification Report at Epoch 410:\n",
      "                  precision    recall  f1-score   support\n",
      "\n",
      "    infringement       0.62      0.49      0.55       283\n",
      "non_infringement       0.59      0.71      0.65       298\n",
      "\n",
      "        accuracy                           0.60       581\n",
      "       macro avg       0.60      0.60      0.60       581\n",
      "    weighted avg       0.60      0.60      0.60       581\n",
      "\n",
      "Epoch 420/2000, Loss: 0.1008\n",
      "Test Accuracy at Epoch 420: 60.41%\n"
     ]
    },
    {
     "name": "stderr",
     "output_type": "stream",
     "text": [
      "Training Epochs:  22%|██▏       | 437/2000 [00:04<00:16, 92.71it/s]"
     ]
    },
    {
     "name": "stdout",
     "output_type": "stream",
     "text": [
      "Classification Report at Epoch 420:\n",
      "                  precision    recall  f1-score   support\n",
      "\n",
      "    infringement       0.62      0.49      0.55       283\n",
      "non_infringement       0.60      0.71      0.65       298\n",
      "\n",
      "        accuracy                           0.60       581\n",
      "       macro avg       0.61      0.60      0.60       581\n",
      "    weighted avg       0.61      0.60      0.60       581\n",
      "\n",
      "Epoch 430/2000, Loss: 0.0984\n",
      "Test Accuracy at Epoch 430: 60.41%\n",
      "Classification Report at Epoch 430:\n",
      "                  precision    recall  f1-score   support\n",
      "\n",
      "    infringement       0.62      0.50      0.55       283\n",
      "non_infringement       0.60      0.70      0.65       298\n",
      "\n",
      "        accuracy                           0.60       581\n",
      "       macro avg       0.61      0.60      0.60       581\n",
      "    weighted avg       0.61      0.60      0.60       581\n",
      "\n"
     ]
    },
    {
     "name": "stderr",
     "output_type": "stream",
     "text": [
      "Training Epochs:  22%|██▏       | 448/2000 [00:04<00:16, 95.25it/s]"
     ]
    },
    {
     "name": "stdout",
     "output_type": "stream",
     "text": [
      "Epoch 440/2000, Loss: 0.0961\n",
      "Test Accuracy at Epoch 440: 60.41%\n",
      "Classification Report at Epoch 440:\n",
      "                  precision    recall  f1-score   support\n",
      "\n",
      "    infringement       0.62      0.50      0.55       283\n",
      "non_infringement       0.60      0.70      0.65       298\n",
      "\n",
      "        accuracy                           0.60       581\n",
      "       macro avg       0.61      0.60      0.60       581\n",
      "    weighted avg       0.61      0.60      0.60       581\n",
      "\n",
      "Epoch 450/2000, Loss: 0.0938\n",
      "Test Accuracy at Epoch 450: 60.59%\n",
      "Classification Report at Epoch 450:\n",
      "                  precision    recall  f1-score   support\n",
      "\n",
      "    infringement       0.62      0.50      0.55       283\n",
      "non_infringement       0.60      0.70      0.65       298\n",
      "\n",
      "        accuracy                           0.61       581\n",
      "       macro avg       0.61      0.60      0.60       581\n",
      "    weighted avg       0.61      0.61      0.60       581\n",
      "\n"
     ]
    },
    {
     "name": "stderr",
     "output_type": "stream",
     "text": [
      "Training Epochs:  24%|██▎       | 470/2000 [00:05<00:16, 91.58it/s]"
     ]
    },
    {
     "name": "stdout",
     "output_type": "stream",
     "text": [
      "Epoch 460/2000, Loss: 0.0917\n",
      "Test Accuracy at Epoch 460: 60.41%\n",
      "Classification Report at Epoch 460:\n",
      "                  precision    recall  f1-score   support\n",
      "\n",
      "    infringement       0.61      0.50      0.55       283\n",
      "non_infringement       0.60      0.70      0.65       298\n",
      "\n",
      "        accuracy                           0.60       581\n",
      "       macro avg       0.61      0.60      0.60       581\n",
      "    weighted avg       0.61      0.60      0.60       581\n",
      "\n",
      "Epoch 470/2000, Loss: 0.0897\n",
      "Test Accuracy at Epoch 470: 60.41%\n",
      "Classification Report at Epoch 470:\n",
      "                  precision    recall  f1-score   support\n",
      "\n",
      "    infringement       0.61      0.50      0.55       283\n",
      "non_infringement       0.60      0.70      0.65       298\n",
      "\n",
      "        accuracy                           0.60       581\n",
      "       macro avg       0.61      0.60      0.60       581\n",
      "    weighted avg       0.61      0.60      0.60       581\n",
      "\n",
      "Epoch 480/2000, Loss: 0.0877\n",
      "Test Accuracy at Epoch 480: 60.07%\n",
      "Classification Report at Epoch 480:\n",
      "                  precision    recall  f1-score   support\n",
      "\n",
      "    infringement       0.61      0.50      0.55       283\n",
      "non_infringement       0.59      0.69      0.64       298\n",
      "\n",
      "        accuracy                           0.60       581\n",
      "       macro avg       0.60      0.60      0.60       581\n",
      "    weighted avg       0.60      0.60      0.60       581\n",
      "\n"
     ]
    },
    {
     "name": "stderr",
     "output_type": "stream",
     "text": [
      "Training Epochs:  25%|██▌       | 502/2000 [00:05<00:16, 89.19it/s]"
     ]
    },
    {
     "name": "stdout",
     "output_type": "stream",
     "text": [
      "Epoch 490/2000, Loss: 0.0858\n",
      "Test Accuracy at Epoch 490: 60.07%\n",
      "Classification Report at Epoch 490:\n",
      "                  precision    recall  f1-score   support\n",
      "\n",
      "    infringement       0.61      0.50      0.55       283\n",
      "non_infringement       0.59      0.69      0.64       298\n",
      "\n",
      "        accuracy                           0.60       581\n",
      "       macro avg       0.60      0.60      0.60       581\n",
      "    weighted avg       0.60      0.60      0.60       581\n",
      "\n",
      "Epoch 500/2000, Loss: 0.0840\n",
      "Test Accuracy at Epoch 500: 60.24%\n",
      "Classification Report at Epoch 500:\n",
      "                  precision    recall  f1-score   support\n",
      "\n",
      "    infringement       0.61      0.50      0.55       283\n",
      "non_infringement       0.60      0.70      0.64       298\n",
      "\n",
      "        accuracy                           0.60       581\n",
      "       macro avg       0.60      0.60      0.60       581\n",
      "    weighted avg       0.60      0.60      0.60       581\n",
      "\n"
     ]
    },
    {
     "name": "stderr",
     "output_type": "stream",
     "text": [
      "Training Epochs:  26%|██▌       | 524/2000 [00:05<00:15, 97.62it/s]"
     ]
    },
    {
     "name": "stdout",
     "output_type": "stream",
     "text": [
      "Epoch 510/2000, Loss: 0.0822\n",
      "Test Accuracy at Epoch 510: 60.59%\n",
      "Classification Report at Epoch 510:\n",
      "                  precision    recall  f1-score   support\n",
      "\n",
      "    infringement       0.62      0.51      0.56       283\n",
      "non_infringement       0.60      0.70      0.64       298\n",
      "\n",
      "        accuracy                           0.61       581\n",
      "       macro avg       0.61      0.60      0.60       581\n",
      "    weighted avg       0.61      0.61      0.60       581\n",
      "\n",
      "Epoch 520/2000, Loss: 0.0805\n",
      "Test Accuracy at Epoch 520: 60.59%\n",
      "Classification Report at Epoch 520:\n",
      "                  precision    recall  f1-score   support\n",
      "\n",
      "    infringement       0.62      0.51      0.56       283\n",
      "non_infringement       0.60      0.70      0.64       298\n",
      "\n",
      "        accuracy                           0.61       581\n",
      "       macro avg       0.61      0.60      0.60       581\n",
      "    weighted avg       0.61      0.61      0.60       581\n",
      "\n",
      "Epoch 530/2000, Loss: 0.0789\n",
      "Test Accuracy at Epoch 530: 60.59%\n",
      "Classification Report at Epoch 530:\n",
      "                  precision    recall  f1-score   support\n",
      "\n",
      "    infringement       0.61      0.51      0.56       283\n",
      "non_infringement       0.60      0.69      0.64       298\n",
      "\n",
      "        accuracy                           0.61       581\n",
      "       macro avg       0.61      0.60      0.60       581\n",
      "    weighted avg       0.61      0.61      0.60       581\n",
      "\n"
     ]
    },
    {
     "name": "stderr",
     "output_type": "stream",
     "text": [
      "Training Epochs:  28%|██▊       | 556/2000 [00:06<00:14, 99.06it/s]"
     ]
    },
    {
     "name": "stdout",
     "output_type": "stream",
     "text": [
      "Epoch 540/2000, Loss: 0.0773\n",
      "Test Accuracy at Epoch 540: 60.24%\n",
      "Classification Report at Epoch 540:\n",
      "                  precision    recall  f1-score   support\n",
      "\n",
      "    infringement       0.61      0.51      0.56       283\n",
      "non_infringement       0.60      0.69      0.64       298\n",
      "\n",
      "        accuracy                           0.60       581\n",
      "       macro avg       0.60      0.60      0.60       581\n",
      "    weighted avg       0.60      0.60      0.60       581\n",
      "\n",
      "Epoch 550/2000, Loss: 0.0757\n",
      "Test Accuracy at Epoch 550: 59.90%\n",
      "Classification Report at Epoch 550:\n",
      "                  precision    recall  f1-score   support\n",
      "\n",
      "    infringement       0.60      0.51      0.55       283\n",
      "non_infringement       0.60      0.68      0.64       298\n",
      "\n",
      "        accuracy                           0.60       581\n",
      "       macro avg       0.60      0.60      0.59       581\n",
      "    weighted avg       0.60      0.60      0.60       581\n",
      "\n",
      "Epoch 560/2000, Loss: 0.0742\n",
      "Test Accuracy at Epoch 560: 59.90%\n",
      "Classification Report at Epoch 560:\n",
      "                  precision    recall  f1-score   support\n",
      "\n",
      "    infringement       0.60      0.51      0.55       283\n",
      "non_infringement       0.60      0.68      0.64       298\n",
      "\n",
      "        accuracy                           0.60       581\n",
      "       macro avg       0.60      0.60      0.59       581\n",
      "    weighted avg       0.60      0.60      0.60       581\n",
      "\n"
     ]
    },
    {
     "name": "stderr",
     "output_type": "stream",
     "text": [
      "Training Epochs:  29%|██▉       | 579/2000 [00:06<00:15, 93.14it/s] "
     ]
    },
    {
     "name": "stdout",
     "output_type": "stream",
     "text": [
      "Epoch 570/2000, Loss: 0.0728\n",
      "Test Accuracy at Epoch 570: 60.07%\n",
      "Classification Report at Epoch 570:\n",
      "                  precision    recall  f1-score   support\n",
      "\n",
      "    infringement       0.61      0.52      0.56       283\n",
      "non_infringement       0.60      0.68      0.64       298\n",
      "\n",
      "        accuracy                           0.60       581\n",
      "       macro avg       0.60      0.60      0.60       581\n",
      "    weighted avg       0.60      0.60      0.60       581\n",
      "\n",
      "Epoch 580/2000, Loss: 0.0714\n",
      "Test Accuracy at Epoch 580: 60.24%\n",
      "Classification Report at Epoch 580:\n",
      "                  precision    recall  f1-score   support\n",
      "\n",
      "    infringement       0.61      0.52      0.56       283\n",
      "non_infringement       0.60      0.68      0.64       298\n",
      "\n",
      "        accuracy                           0.60       581\n",
      "       macro avg       0.60      0.60      0.60       581\n",
      "    weighted avg       0.60      0.60      0.60       581\n",
      "\n"
     ]
    },
    {
     "name": "stderr",
     "output_type": "stream",
     "text": [
      "Training Epochs:  30%|███       | 600/2000 [00:06<00:14, 94.60it/s]"
     ]
    },
    {
     "name": "stdout",
     "output_type": "stream",
     "text": [
      "Epoch 590/2000, Loss: 0.0700\n",
      "Test Accuracy at Epoch 590: 60.41%\n",
      "Classification Report at Epoch 590:\n",
      "                  precision    recall  f1-score   support\n",
      "\n",
      "    infringement       0.61      0.53      0.56       283\n",
      "non_infringement       0.60      0.68      0.64       298\n",
      "\n",
      "        accuracy                           0.60       581\n",
      "       macro avg       0.60      0.60      0.60       581\n",
      "    weighted avg       0.60      0.60      0.60       581\n",
      "\n",
      "Epoch 600/2000, Loss: 0.0687\n",
      "Test Accuracy at Epoch 600: 60.41%\n",
      "Classification Report at Epoch 600:\n",
      "                  precision    recall  f1-score   support\n",
      "\n",
      "    infringement       0.61      0.53      0.56       283\n",
      "non_infringement       0.60      0.68      0.64       298\n",
      "\n",
      "        accuracy                           0.60       581\n",
      "       macro avg       0.60      0.60      0.60       581\n",
      "    weighted avg       0.60      0.60      0.60       581\n",
      "\n"
     ]
    },
    {
     "name": "stderr",
     "output_type": "stream",
     "text": [
      "Training Epochs:  31%|███       | 620/2000 [00:06<00:15, 87.57it/s]"
     ]
    },
    {
     "name": "stdout",
     "output_type": "stream",
     "text": [
      "Epoch 610/2000, Loss: 0.0674\n",
      "Test Accuracy at Epoch 610: 60.24%\n",
      "Classification Report at Epoch 610:\n",
      "                  precision    recall  f1-score   support\n",
      "\n",
      "    infringement       0.61      0.53      0.56       283\n",
      "non_infringement       0.60      0.67      0.64       298\n",
      "\n",
      "        accuracy                           0.60       581\n",
      "       macro avg       0.60      0.60      0.60       581\n",
      "    weighted avg       0.60      0.60      0.60       581\n",
      "\n",
      "Epoch 620/2000, Loss: 0.0662\n",
      "Test Accuracy at Epoch 620: 60.07%\n",
      "Classification Report at Epoch 620:\n",
      "                  precision    recall  f1-score   support\n",
      "\n",
      "    infringement       0.60      0.53      0.56       283\n",
      "non_infringement       0.60      0.67      0.63       298\n",
      "\n",
      "        accuracy                           0.60       581\n",
      "       macro avg       0.60      0.60      0.60       581\n",
      "    weighted avg       0.60      0.60      0.60       581\n",
      "\n"
     ]
    },
    {
     "name": "stderr",
     "output_type": "stream",
     "text": [
      "Training Epochs:  32%|███▏      | 642/2000 [00:07<00:14, 95.76it/s]"
     ]
    },
    {
     "name": "stdout",
     "output_type": "stream",
     "text": [
      "Epoch 630/2000, Loss: 0.0650\n",
      "Test Accuracy at Epoch 630: 59.90%\n",
      "Classification Report at Epoch 630:\n",
      "                  precision    recall  f1-score   support\n",
      "\n",
      "    infringement       0.60      0.53      0.56       283\n",
      "non_infringement       0.60      0.67      0.63       298\n",
      "\n",
      "        accuracy                           0.60       581\n",
      "       macro avg       0.60      0.60      0.60       581\n",
      "    weighted avg       0.60      0.60      0.60       581\n",
      "\n",
      "Epoch 640/2000, Loss: 0.0638\n",
      "Test Accuracy at Epoch 640: 59.90%\n",
      "Classification Report at Epoch 640:\n",
      "                  precision    recall  f1-score   support\n",
      "\n",
      "    infringement       0.60      0.53      0.56       283\n",
      "non_infringement       0.60      0.67      0.63       298\n",
      "\n",
      "        accuracy                           0.60       581\n",
      "       macro avg       0.60      0.60      0.60       581\n",
      "    weighted avg       0.60      0.60      0.60       581\n",
      "\n"
     ]
    },
    {
     "name": "stderr",
     "output_type": "stream",
     "text": [
      "Training Epochs:  33%|███▎      | 662/2000 [00:07<00:15, 87.64it/s]"
     ]
    },
    {
     "name": "stdout",
     "output_type": "stream",
     "text": [
      "Epoch 650/2000, Loss: 0.0626\n",
      "Test Accuracy at Epoch 650: 60.07%\n",
      "Classification Report at Epoch 650:\n",
      "                  precision    recall  f1-score   support\n",
      "\n",
      "    infringement       0.60      0.53      0.56       283\n",
      "non_infringement       0.60      0.67      0.63       298\n",
      "\n",
      "        accuracy                           0.60       581\n",
      "       macro avg       0.60      0.60      0.60       581\n",
      "    weighted avg       0.60      0.60      0.60       581\n",
      "\n",
      "Epoch 660/2000, Loss: 0.0615\n",
      "Test Accuracy at Epoch 660: 60.24%\n",
      "Classification Report at Epoch 660:\n",
      "                  precision    recall  f1-score   support\n",
      "\n",
      "    infringement       0.60      0.53      0.57       283\n",
      "non_infringement       0.60      0.67      0.63       298\n",
      "\n",
      "        accuracy                           0.60       581\n",
      "       macro avg       0.60      0.60      0.60       581\n",
      "    weighted avg       0.60      0.60      0.60       581\n",
      "\n"
     ]
    },
    {
     "name": "stderr",
     "output_type": "stream",
     "text": [
      "Training Epochs:  34%|███▍      | 680/2000 [00:07<00:16, 81.14it/s]"
     ]
    },
    {
     "name": "stdout",
     "output_type": "stream",
     "text": [
      "Epoch 670/2000, Loss: 0.0604\n",
      "Test Accuracy at Epoch 670: 60.24%\n",
      "Classification Report at Epoch 670:\n",
      "                  precision    recall  f1-score   support\n",
      "\n",
      "    infringement       0.60      0.53      0.57       283\n",
      "non_infringement       0.60      0.67      0.63       298\n",
      "\n",
      "        accuracy                           0.60       581\n",
      "       macro avg       0.60      0.60      0.60       581\n",
      "    weighted avg       0.60      0.60      0.60       581\n",
      "\n",
      "Epoch 680/2000, Loss: 0.0593\n",
      "Test Accuracy at Epoch 680: 60.24%\n",
      "Classification Report at Epoch 680:\n",
      "                  precision    recall  f1-score   support\n",
      "\n",
      "    infringement       0.60      0.53      0.57       283\n",
      "non_infringement       0.60      0.67      0.63       298\n",
      "\n",
      "        accuracy                           0.60       581\n",
      "       macro avg       0.60      0.60      0.60       581\n",
      "    weighted avg       0.60      0.60      0.60       581\n",
      "\n"
     ]
    },
    {
     "name": "stderr",
     "output_type": "stream",
     "text": [
      "Training Epochs:  35%|███▌      | 702/2000 [00:07<00:14, 91.83it/s]"
     ]
    },
    {
     "name": "stdout",
     "output_type": "stream",
     "text": [
      "Epoch 690/2000, Loss: 0.0583\n",
      "Test Accuracy at Epoch 690: 60.41%\n",
      "Classification Report at Epoch 690:\n",
      "                  precision    recall  f1-score   support\n",
      "\n",
      "    infringement       0.61      0.54      0.57       283\n",
      "non_infringement       0.60      0.67      0.63       298\n",
      "\n",
      "        accuracy                           0.60       581\n",
      "       macro avg       0.60      0.60      0.60       581\n",
      "    weighted avg       0.60      0.60      0.60       581\n",
      "\n",
      "Epoch 700/2000, Loss: 0.0573\n",
      "Test Accuracy at Epoch 700: 60.41%\n",
      "Classification Report at Epoch 700:\n",
      "                  precision    recall  f1-score   support\n",
      "\n",
      "    infringement       0.61      0.54      0.57       283\n",
      "non_infringement       0.60      0.67      0.63       298\n",
      "\n",
      "        accuracy                           0.60       581\n",
      "       macro avg       0.60      0.60      0.60       581\n",
      "    weighted avg       0.60      0.60      0.60       581\n",
      "\n",
      "Epoch 710/2000, Loss: 0.0563\n",
      "Test Accuracy at Epoch 710: 60.41%\n"
     ]
    },
    {
     "name": "stderr",
     "output_type": "stream",
     "text": [
      "Training Epochs:  36%|███▌      | 723/2000 [00:07<00:15, 85.12it/s]"
     ]
    },
    {
     "name": "stdout",
     "output_type": "stream",
     "text": [
      "Classification Report at Epoch 710:\n",
      "                  precision    recall  f1-score   support\n",
      "\n",
      "    infringement       0.61      0.54      0.57       283\n",
      "non_infringement       0.60      0.67      0.63       298\n",
      "\n",
      "        accuracy                           0.60       581\n",
      "       macro avg       0.60      0.60      0.60       581\n",
      "    weighted avg       0.60      0.60      0.60       581\n",
      "\n",
      "Epoch 720/2000, Loss: 0.0553\n",
      "Test Accuracy at Epoch 720: 60.59%\n",
      "Classification Report at Epoch 720:\n",
      "                  precision    recall  f1-score   support\n",
      "\n",
      "    infringement       0.61      0.54      0.57       283\n",
      "non_infringement       0.60      0.67      0.64       298\n",
      "\n",
      "        accuracy                           0.61       581\n",
      "       macro avg       0.61      0.60      0.60       581\n",
      "    weighted avg       0.61      0.61      0.60       581\n",
      "\n"
     ]
    },
    {
     "name": "stderr",
     "output_type": "stream",
     "text": [
      "Training Epochs:  37%|███▋      | 746/2000 [00:08<00:12, 99.00it/s]"
     ]
    },
    {
     "name": "stdout",
     "output_type": "stream",
     "text": [
      "Epoch 730/2000, Loss: 0.0544\n",
      "Test Accuracy at Epoch 730: 60.59%\n",
      "Classification Report at Epoch 730:\n",
      "                  precision    recall  f1-score   support\n",
      "\n",
      "    infringement       0.61      0.54      0.57       283\n",
      "non_infringement       0.60      0.67      0.64       298\n",
      "\n",
      "        accuracy                           0.61       581\n",
      "       macro avg       0.61      0.60      0.60       581\n",
      "    weighted avg       0.61      0.61      0.60       581\n",
      "\n",
      "Epoch 740/2000, Loss: 0.0534\n",
      "Test Accuracy at Epoch 740: 60.59%\n",
      "Classification Report at Epoch 740:\n",
      "                  precision    recall  f1-score   support\n",
      "\n",
      "    infringement       0.61      0.54      0.57       283\n",
      "non_infringement       0.60      0.67      0.64       298\n",
      "\n",
      "        accuracy                           0.61       581\n",
      "       macro avg       0.61      0.60      0.60       581\n",
      "    weighted avg       0.61      0.61      0.60       581\n",
      "\n",
      "Epoch 750/2000, Loss: 0.0525\n",
      "Test Accuracy at Epoch 750: 60.59%\n",
      "Classification Report at Epoch 750:\n",
      "                  precision    recall  f1-score   support\n",
      "\n",
      "    infringement       0.61      0.54      0.57       283\n",
      "non_infringement       0.60      0.67      0.64       298\n",
      "\n",
      "        accuracy                           0.61       581\n",
      "       macro avg       0.61      0.60      0.60       581\n",
      "    weighted avg       0.61      0.61      0.60       581\n",
      "\n"
     ]
    },
    {
     "name": "stderr",
     "output_type": "stream",
     "text": [
      "Training Epochs:  39%|███▉      | 782/2000 [00:08<00:11, 103.29it/s]"
     ]
    },
    {
     "name": "stdout",
     "output_type": "stream",
     "text": [
      "Epoch 760/2000, Loss: 0.0516\n",
      "Test Accuracy at Epoch 760: 60.59%\n",
      "Classification Report at Epoch 760:\n",
      "                  precision    recall  f1-score   support\n",
      "\n",
      "    infringement       0.61      0.54      0.57       283\n",
      "non_infringement       0.60      0.67      0.64       298\n",
      "\n",
      "        accuracy                           0.61       581\n",
      "       macro avg       0.61      0.60      0.60       581\n",
      "    weighted avg       0.61      0.61      0.60       581\n",
      "\n",
      "Epoch 770/2000, Loss: 0.0508\n",
      "Test Accuracy at Epoch 770: 60.59%\n",
      "Classification Report at Epoch 770:\n",
      "                  precision    recall  f1-score   support\n",
      "\n",
      "    infringement       0.61      0.54      0.57       283\n",
      "non_infringement       0.60      0.67      0.64       298\n",
      "\n",
      "        accuracy                           0.61       581\n",
      "       macro avg       0.61      0.60      0.60       581\n",
      "    weighted avg       0.61      0.61      0.60       581\n",
      "\n",
      "Epoch 780/2000, Loss: 0.0499\n",
      "Test Accuracy at Epoch 780: 60.59%\n",
      "Classification Report at Epoch 780:\n",
      "                  precision    recall  f1-score   support\n",
      "\n",
      "    infringement       0.61      0.54      0.57       283\n",
      "non_infringement       0.60      0.67      0.64       298\n",
      "\n",
      "        accuracy                           0.61       581\n",
      "       macro avg       0.61      0.60      0.60       581\n",
      "    weighted avg       0.61      0.61      0.60       581\n",
      "\n"
     ]
    },
    {
     "name": "stderr",
     "output_type": "stream",
     "text": [
      "Training Epochs:  40%|████      | 805/2000 [00:08<00:12, 95.80it/s] "
     ]
    },
    {
     "name": "stdout",
     "output_type": "stream",
     "text": [
      "Epoch 790/2000, Loss: 0.0491\n",
      "Test Accuracy at Epoch 790: 60.59%\n",
      "Classification Report at Epoch 790:\n",
      "                  precision    recall  f1-score   support\n",
      "\n",
      "    infringement       0.61      0.54      0.57       283\n",
      "non_infringement       0.60      0.67      0.64       298\n",
      "\n",
      "        accuracy                           0.61       581\n",
      "       macro avg       0.61      0.60      0.60       581\n",
      "    weighted avg       0.61      0.61      0.60       581\n",
      "\n",
      "Epoch 800/2000, Loss: 0.0483\n",
      "Test Accuracy at Epoch 800: 60.59%\n",
      "Classification Report at Epoch 800:\n",
      "                  precision    recall  f1-score   support\n",
      "\n",
      "    infringement       0.61      0.54      0.57       283\n",
      "non_infringement       0.60      0.67      0.64       298\n",
      "\n",
      "        accuracy                           0.61       581\n",
      "       macro avg       0.61      0.60      0.60       581\n",
      "    weighted avg       0.61      0.61      0.60       581\n",
      "\n"
     ]
    },
    {
     "name": "stderr",
     "output_type": "stream",
     "text": [
      "Training Epochs:  41%|████▏     | 829/2000 [00:09<00:11, 104.68it/s]"
     ]
    },
    {
     "name": "stdout",
     "output_type": "stream",
     "text": [
      "Epoch 810/2000, Loss: 0.0475\n",
      "Test Accuracy at Epoch 810: 60.59%\n",
      "Classification Report at Epoch 810:\n",
      "                  precision    recall  f1-score   support\n",
      "\n",
      "    infringement       0.61      0.54      0.57       283\n",
      "non_infringement       0.60      0.67      0.64       298\n",
      "\n",
      "        accuracy                           0.61       581\n",
      "       macro avg       0.61      0.60      0.60       581\n",
      "    weighted avg       0.61      0.61      0.60       581\n",
      "\n",
      "Epoch 820/2000, Loss: 0.0467\n",
      "Test Accuracy at Epoch 820: 60.59%\n",
      "Classification Report at Epoch 820:\n",
      "                  precision    recall  f1-score   support\n",
      "\n",
      "    infringement       0.61      0.54      0.57       283\n",
      "non_infringement       0.60      0.67      0.64       298\n",
      "\n",
      "        accuracy                           0.61       581\n",
      "       macro avg       0.61      0.60      0.60       581\n",
      "    weighted avg       0.61      0.61      0.60       581\n",
      "\n",
      "Epoch 830/2000, Loss: 0.0459\n",
      "Test Accuracy at Epoch 830: 60.59%\n",
      "Classification Report at Epoch 830:\n",
      "                  precision    recall  f1-score   support\n",
      "\n",
      "    infringement       0.61      0.54      0.57       283\n",
      "non_infringement       0.60      0.67      0.64       298\n",
      "\n",
      "        accuracy                           0.61       581\n",
      "       macro avg       0.61      0.60      0.60       581\n",
      "    weighted avg       0.61      0.61      0.60       581\n",
      "\n"
     ]
    },
    {
     "name": "stderr",
     "output_type": "stream",
     "text": [
      "Training Epochs:  43%|████▎     | 852/2000 [00:09<00:11, 99.10it/s] "
     ]
    },
    {
     "name": "stdout",
     "output_type": "stream",
     "text": [
      "Epoch 840/2000, Loss: 0.0451\n",
      "Test Accuracy at Epoch 840: 60.41%\n",
      "Classification Report at Epoch 840:\n",
      "                  precision    recall  f1-score   support\n",
      "\n",
      "    infringement       0.61      0.54      0.57       283\n",
      "non_infringement       0.60      0.67      0.63       298\n",
      "\n",
      "        accuracy                           0.60       581\n",
      "       macro avg       0.60      0.60      0.60       581\n",
      "    weighted avg       0.60      0.60      0.60       581\n",
      "\n",
      "Epoch 850/2000, Loss: 0.0444\n",
      "Test Accuracy at Epoch 850: 60.41%\n",
      "Classification Report at Epoch 850:\n",
      "                  precision    recall  f1-score   support\n",
      "\n",
      "    infringement       0.61      0.54      0.57       283\n",
      "non_infringement       0.60      0.67      0.63       298\n",
      "\n",
      "        accuracy                           0.60       581\n",
      "       macro avg       0.60      0.60      0.60       581\n",
      "    weighted avg       0.60      0.60      0.60       581\n",
      "\n",
      "Epoch 860/2000, Loss: 0.0437\n",
      "Test Accuracy at Epoch 860: 60.59%\n",
      "Classification Report at Epoch 860:\n",
      "                  precision    recall  f1-score   support\n",
      "\n",
      "    infringement       0.61      0.54      0.57       283\n",
      "non_infringement       0.60      0.67      0.63       298\n",
      "\n",
      "        accuracy                           0.61       581\n",
      "       macro avg       0.61      0.60      0.60       581\n",
      "    weighted avg       0.61      0.61      0.60       581\n",
      "\n"
     ]
    },
    {
     "name": "stderr",
     "output_type": "stream",
     "text": [
      "Training Epochs:  44%|████▍     | 878/2000 [00:09<00:11, 98.50it/s] "
     ]
    },
    {
     "name": "stdout",
     "output_type": "stream",
     "text": [
      "Epoch 870/2000, Loss: 0.0429\n",
      "Test Accuracy at Epoch 870: 60.59%\n",
      "Classification Report at Epoch 870:\n",
      "                  precision    recall  f1-score   support\n",
      "\n",
      "    infringement       0.61      0.54      0.57       283\n",
      "non_infringement       0.60      0.67      0.63       298\n",
      "\n",
      "        accuracy                           0.61       581\n",
      "       macro avg       0.61      0.60      0.60       581\n",
      "    weighted avg       0.61      0.61      0.60       581\n",
      "\n",
      "Epoch 880/2000, Loss: 0.0422\n",
      "Test Accuracy at Epoch 880: 60.59%\n",
      "Classification Report at Epoch 880:\n",
      "                  precision    recall  f1-score   support\n",
      "\n",
      "    infringement       0.61      0.54      0.57       283\n",
      "non_infringement       0.60      0.67      0.63       298\n",
      "\n",
      "        accuracy                           0.61       581\n",
      "       macro avg       0.61      0.60      0.60       581\n",
      "    weighted avg       0.61      0.61      0.60       581\n",
      "\n"
     ]
    },
    {
     "name": "stderr",
     "output_type": "stream",
     "text": [
      "Training Epochs:  45%|████▌     | 902/2000 [00:09<00:10, 105.79it/s]"
     ]
    },
    {
     "name": "stdout",
     "output_type": "stream",
     "text": [
      "Epoch 890/2000, Loss: 0.0415\n",
      "Test Accuracy at Epoch 890: 60.59%\n",
      "Classification Report at Epoch 890:\n",
      "                  precision    recall  f1-score   support\n",
      "\n",
      "    infringement       0.61      0.54      0.57       283\n",
      "non_infringement       0.60      0.67      0.63       298\n",
      "\n",
      "        accuracy                           0.61       581\n",
      "       macro avg       0.61      0.60      0.60       581\n",
      "    weighted avg       0.61      0.61      0.60       581\n",
      "\n",
      "Epoch 900/2000, Loss: 0.0408\n",
      "Test Accuracy at Epoch 900: 60.59%\n",
      "Classification Report at Epoch 900:\n",
      "                  precision    recall  f1-score   support\n",
      "\n",
      "    infringement       0.61      0.54      0.57       283\n",
      "non_infringement       0.60      0.67      0.63       298\n",
      "\n",
      "        accuracy                           0.61       581\n",
      "       macro avg       0.61      0.60      0.60       581\n",
      "    weighted avg       0.61      0.61      0.60       581\n",
      "\n",
      "Epoch 910/2000, Loss: 0.0401\n",
      "Test Accuracy at Epoch 910: 60.59%\n",
      "Classification Report at Epoch 910:\n",
      "                  precision    recall  f1-score   support\n",
      "\n",
      "    infringement       0.61      0.54      0.57       283\n",
      "non_infringement       0.60      0.67      0.63       298\n",
      "\n",
      "        accuracy                           0.61       581\n",
      "       macro avg       0.61      0.60      0.60       581\n",
      "    weighted avg       0.61      0.61      0.60       581\n",
      "\n"
     ]
    },
    {
     "name": "stderr",
     "output_type": "stream",
     "text": [
      "Training Epochs:  47%|████▋     | 936/2000 [00:10<00:10, 96.91it/s] "
     ]
    },
    {
     "name": "stdout",
     "output_type": "stream",
     "text": [
      "Epoch 920/2000, Loss: 0.0394\n",
      "Test Accuracy at Epoch 920: 60.41%\n",
      "Classification Report at Epoch 920:\n",
      "                  precision    recall  f1-score   support\n",
      "\n",
      "    infringement       0.61      0.54      0.57       283\n",
      "non_infringement       0.60      0.67      0.63       298\n",
      "\n",
      "        accuracy                           0.60       581\n",
      "       macro avg       0.60      0.60      0.60       581\n",
      "    weighted avg       0.60      0.60      0.60       581\n",
      "\n",
      "Epoch 930/2000, Loss: 0.0388\n",
      "Test Accuracy at Epoch 930: 60.24%\n",
      "Classification Report at Epoch 930:\n",
      "                  precision    recall  f1-score   support\n",
      "\n",
      "    infringement       0.60      0.53      0.57       283\n",
      "non_infringement       0.60      0.67      0.63       298\n",
      "\n",
      "        accuracy                           0.60       581\n",
      "       macro avg       0.60      0.60      0.60       581\n",
      "    weighted avg       0.60      0.60      0.60       581\n",
      "\n",
      "Epoch 940/2000, Loss: 0.0381\n",
      "Test Accuracy at Epoch 940: 60.24%\n",
      "Classification Report at Epoch 940:\n",
      "                  precision    recall  f1-score   support\n",
      "\n",
      "    infringement       0.60      0.53      0.57       283\n",
      "non_infringement       0.60      0.67      0.63       298\n",
      "\n",
      "        accuracy                           0.60       581\n",
      "       macro avg       0.60      0.60      0.60       581\n",
      "    weighted avg       0.60      0.60      0.60       581\n",
      "\n"
     ]
    },
    {
     "name": "stderr",
     "output_type": "stream",
     "text": [
      "Training Epochs:  48%|████▊     | 959/2000 [00:10<00:11, 88.06it/s] "
     ]
    },
    {
     "name": "stdout",
     "output_type": "stream",
     "text": [
      "Epoch 950/2000, Loss: 0.0375\n",
      "Test Accuracy at Epoch 950: 60.24%\n",
      "Classification Report at Epoch 950:\n",
      "                  precision    recall  f1-score   support\n",
      "\n",
      "    infringement       0.60      0.53      0.57       283\n",
      "non_infringement       0.60      0.67      0.63       298\n",
      "\n",
      "        accuracy                           0.60       581\n",
      "       macro avg       0.60      0.60      0.60       581\n",
      "    weighted avg       0.60      0.60      0.60       581\n",
      "\n",
      "Epoch 960/2000, Loss: 0.0368\n",
      "Test Accuracy at Epoch 960: 60.24%\n",
      "Classification Report at Epoch 960:\n",
      "                  precision    recall  f1-score   support\n",
      "\n",
      "    infringement       0.60      0.53      0.57       283\n",
      "non_infringement       0.60      0.67      0.63       298\n",
      "\n",
      "        accuracy                           0.60       581\n",
      "       macro avg       0.60      0.60      0.60       581\n",
      "    weighted avg       0.60      0.60      0.60       581\n",
      "\n"
     ]
    },
    {
     "name": "stderr",
     "output_type": "stream",
     "text": [
      "Training Epochs:  49%|████▉     | 982/2000 [00:10<00:10, 97.85it/s]"
     ]
    },
    {
     "name": "stdout",
     "output_type": "stream",
     "text": [
      "Epoch 970/2000, Loss: 0.0362\n",
      "Test Accuracy at Epoch 970: 60.24%\n",
      "Classification Report at Epoch 970:\n",
      "                  precision    recall  f1-score   support\n",
      "\n",
      "    infringement       0.60      0.53      0.57       283\n",
      "non_infringement       0.60      0.67      0.63       298\n",
      "\n",
      "        accuracy                           0.60       581\n",
      "       macro avg       0.60      0.60      0.60       581\n",
      "    weighted avg       0.60      0.60      0.60       581\n",
      "\n",
      "Epoch 980/2000, Loss: 0.0355\n",
      "Test Accuracy at Epoch 980: 60.24%\n",
      "Classification Report at Epoch 980:\n",
      "                  precision    recall  f1-score   support\n",
      "\n",
      "    infringement       0.60      0.53      0.57       283\n",
      "non_infringement       0.60      0.67      0.63       298\n",
      "\n",
      "        accuracy                           0.60       581\n",
      "       macro avg       0.60      0.60      0.60       581\n",
      "    weighted avg       0.60      0.60      0.60       581\n",
      "\n"
     ]
    },
    {
     "name": "stderr",
     "output_type": "stream",
     "text": [
      "Training Epochs:  50%|█████     | 1005/2000 [00:10<00:10, 96.78it/s]"
     ]
    },
    {
     "name": "stdout",
     "output_type": "stream",
     "text": [
      "Epoch 990/2000, Loss: 0.0349\n",
      "Test Accuracy at Epoch 990: 60.24%\n",
      "Classification Report at Epoch 990:\n",
      "                  precision    recall  f1-score   support\n",
      "\n",
      "    infringement       0.60      0.53      0.57       283\n",
      "non_infringement       0.60      0.67      0.63       298\n",
      "\n",
      "        accuracy                           0.60       581\n",
      "       macro avg       0.60      0.60      0.60       581\n",
      "    weighted avg       0.60      0.60      0.60       581\n",
      "\n",
      "Epoch 1000/2000, Loss: 0.0343\n",
      "Test Accuracy at Epoch 1000: 60.24%\n",
      "Classification Report at Epoch 1000:\n",
      "                  precision    recall  f1-score   support\n",
      "\n",
      "    infringement       0.60      0.53      0.57       283\n",
      "non_infringement       0.60      0.67      0.63       298\n",
      "\n",
      "        accuracy                           0.60       581\n",
      "       macro avg       0.60      0.60      0.60       581\n",
      "    weighted avg       0.60      0.60      0.60       581\n",
      "\n",
      "Epoch 1010/2000, Loss: 0.0337\n",
      "Test Accuracy at Epoch 1010: 60.24%\n",
      "Classification Report at Epoch 1010:\n",
      "                  precision    recall  f1-score   support\n",
      "\n",
      "    infringement       0.60      0.53      0.57       283\n",
      "non_infringement       0.60      0.67      0.63       298\n",
      "\n",
      "        accuracy                           0.60       581\n",
      "       macro avg       0.60      0.60      0.60       581\n",
      "    weighted avg       0.60      0.60      0.60       581\n",
      "\n"
     ]
    },
    {
     "name": "stderr",
     "output_type": "stream",
     "text": [
      "Training Epochs:  51%|█████▏    | 1028/2000 [00:11<00:10, 93.91it/s] "
     ]
    },
    {
     "name": "stdout",
     "output_type": "stream",
     "text": [
      "Epoch 1020/2000, Loss: 0.0331\n",
      "Test Accuracy at Epoch 1020: 60.41%\n",
      "Classification Report at Epoch 1020:\n",
      "                  precision    recall  f1-score   support\n",
      "\n",
      "    infringement       0.61      0.54      0.57       283\n",
      "non_infringement       0.60      0.67      0.63       298\n",
      "\n",
      "        accuracy                           0.60       581\n",
      "       macro avg       0.60      0.60      0.60       581\n",
      "    weighted avg       0.60      0.60      0.60       581\n",
      "\n",
      "Epoch 1030/2000, Loss: 0.0325\n",
      "Test Accuracy at Epoch 1030: 60.59%\n",
      "Classification Report at Epoch 1030:\n",
      "                  precision    recall  f1-score   support\n",
      "\n",
      "    infringement       0.61      0.54      0.57       283\n",
      "non_infringement       0.60      0.67      0.64       298\n",
      "\n",
      "        accuracy                           0.61       581\n",
      "       macro avg       0.61      0.60      0.60       581\n",
      "    weighted avg       0.61      0.61      0.60       581\n",
      "\n"
     ]
    },
    {
     "name": "stderr",
     "output_type": "stream",
     "text": [
      "Training Epochs:  53%|█████▎    | 1052/2000 [00:11<00:09, 102.44it/s]"
     ]
    },
    {
     "name": "stdout",
     "output_type": "stream",
     "text": [
      "Epoch 1040/2000, Loss: 0.0319\n",
      "Test Accuracy at Epoch 1040: 60.59%\n",
      "Classification Report at Epoch 1040:\n",
      "                  precision    recall  f1-score   support\n",
      "\n",
      "    infringement       0.61      0.54      0.57       283\n",
      "non_infringement       0.60      0.67      0.64       298\n",
      "\n",
      "        accuracy                           0.61       581\n",
      "       macro avg       0.61      0.60      0.60       581\n",
      "    weighted avg       0.61      0.61      0.60       581\n",
      "\n",
      "Epoch 1050/2000, Loss: 0.0313\n",
      "Test Accuracy at Epoch 1050: 60.59%\n",
      "Classification Report at Epoch 1050:\n",
      "                  precision    recall  f1-score   support\n",
      "\n",
      "    infringement       0.61      0.54      0.57       283\n",
      "non_infringement       0.60      0.67      0.64       298\n",
      "\n",
      "        accuracy                           0.61       581\n",
      "       macro avg       0.61      0.60      0.60       581\n",
      "    weighted avg       0.61      0.61      0.60       581\n",
      "\n",
      "Epoch 1060/2000, Loss: 0.0308\n",
      "Test Accuracy at Epoch 1060: 60.59%\n",
      "Classification Report at Epoch 1060:\n",
      "                  precision    recall  f1-score   support\n",
      "\n",
      "    infringement       0.61      0.54      0.57       283\n",
      "non_infringement       0.60      0.67      0.64       298\n",
      "\n",
      "        accuracy                           0.61       581\n",
      "       macro avg       0.61      0.60      0.60       581\n",
      "    weighted avg       0.61      0.61      0.60       581\n",
      "\n"
     ]
    },
    {
     "name": "stderr",
     "output_type": "stream",
     "text": [
      "Training Epochs:  54%|█████▍    | 1086/2000 [00:11<00:09, 97.08it/s] "
     ]
    },
    {
     "name": "stdout",
     "output_type": "stream",
     "text": [
      "Epoch 1070/2000, Loss: 0.0302\n",
      "Test Accuracy at Epoch 1070: 60.59%\n",
      "Classification Report at Epoch 1070:\n",
      "                  precision    recall  f1-score   support\n",
      "\n",
      "    infringement       0.61      0.54      0.57       283\n",
      "non_infringement       0.60      0.67      0.64       298\n",
      "\n",
      "        accuracy                           0.61       581\n",
      "       macro avg       0.61      0.60      0.60       581\n",
      "    weighted avg       0.61      0.61      0.60       581\n",
      "\n",
      "Epoch 1080/2000, Loss: 0.0297\n",
      "Test Accuracy at Epoch 1080: 60.59%\n",
      "Classification Report at Epoch 1080:\n",
      "                  precision    recall  f1-score   support\n",
      "\n",
      "    infringement       0.61      0.54      0.57       283\n",
      "non_infringement       0.60      0.67      0.64       298\n",
      "\n",
      "        accuracy                           0.61       581\n",
      "       macro avg       0.61      0.60      0.60       581\n",
      "    weighted avg       0.61      0.61      0.60       581\n",
      "\n",
      "Epoch 1090/2000, Loss: 0.0292\n",
      "Test Accuracy at Epoch 1090: 60.59%\n",
      "Classification Report at Epoch 1090:\n",
      "                  precision    recall  f1-score   support\n",
      "\n",
      "    infringement       0.61      0.54      0.57       283\n",
      "non_infringement       0.60      0.67      0.64       298\n",
      "\n",
      "        accuracy                           0.61       581\n",
      "       macro avg       0.61      0.60      0.60       581\n",
      "    weighted avg       0.61      0.61      0.60       581\n",
      "\n"
     ]
    },
    {
     "name": "stderr",
     "output_type": "stream",
     "text": [
      "Training Epochs:  55%|█████▌    | 1109/2000 [00:11<00:09, 93.39it/s] "
     ]
    },
    {
     "name": "stdout",
     "output_type": "stream",
     "text": [
      "Epoch 1100/2000, Loss: 0.0287\n",
      "Test Accuracy at Epoch 1100: 60.76%\n",
      "Classification Report at Epoch 1100:\n",
      "                  precision    recall  f1-score   support\n",
      "\n",
      "    infringement       0.61      0.54      0.57       283\n",
      "non_infringement       0.61      0.67      0.64       298\n",
      "\n",
      "        accuracy                           0.61       581\n",
      "       macro avg       0.61      0.61      0.60       581\n",
      "    weighted avg       0.61      0.61      0.61       581\n",
      "\n",
      "Epoch 1110/2000, Loss: 0.0282\n",
      "Test Accuracy at Epoch 1110: 60.93%\n",
      "Classification Report at Epoch 1110:\n",
      "                  precision    recall  f1-score   support\n",
      "\n",
      "    infringement       0.61      0.54      0.57       283\n",
      "non_infringement       0.61      0.67      0.64       298\n",
      "\n",
      "        accuracy                           0.61       581\n",
      "       macro avg       0.61      0.61      0.61       581\n",
      "    weighted avg       0.61      0.61      0.61       581\n",
      "\n"
     ]
    },
    {
     "name": "stderr",
     "output_type": "stream",
     "text": [
      "Training Epochs:  57%|█████▋    | 1131/2000 [00:12<00:08, 99.26it/s]"
     ]
    },
    {
     "name": "stdout",
     "output_type": "stream",
     "text": [
      "Epoch 1120/2000, Loss: 0.0278\n",
      "Test Accuracy at Epoch 1120: 60.93%\n",
      "Classification Report at Epoch 1120:\n",
      "                  precision    recall  f1-score   support\n",
      "\n",
      "    infringement       0.61      0.54      0.57       283\n",
      "non_infringement       0.61      0.67      0.64       298\n",
      "\n",
      "        accuracy                           0.61       581\n",
      "       macro avg       0.61      0.61      0.61       581\n",
      "    weighted avg       0.61      0.61      0.61       581\n",
      "\n",
      "Epoch 1130/2000, Loss: 0.0273\n",
      "Test Accuracy at Epoch 1130: 60.93%\n",
      "Classification Report at Epoch 1130:\n",
      "                  precision    recall  f1-score   support\n",
      "\n",
      "    infringement       0.61      0.54      0.57       283\n",
      "non_infringement       0.61      0.67      0.64       298\n",
      "\n",
      "        accuracy                           0.61       581\n",
      "       macro avg       0.61      0.61      0.61       581\n",
      "    weighted avg       0.61      0.61      0.61       581\n",
      "\n",
      "Epoch 1140/2000, Loss: 0.0268\n",
      "Test Accuracy at Epoch 1140: 60.93%\n",
      "Classification Report at Epoch 1140:\n",
      "                  precision    recall  f1-score   support\n",
      "\n",
      "    infringement       0.61      0.54      0.57       283\n",
      "non_infringement       0.61      0.67      0.64       298\n",
      "\n",
      "        accuracy                           0.61       581\n",
      "       macro avg       0.61      0.61      0.61       581\n",
      "    weighted avg       0.61      0.61      0.61       581\n",
      "\n"
     ]
    },
    {
     "name": "stderr",
     "output_type": "stream",
     "text": [
      "Training Epochs:  58%|█████▊    | 1166/2000 [00:12<00:08, 100.31it/s]"
     ]
    },
    {
     "name": "stdout",
     "output_type": "stream",
     "text": [
      "Epoch 1150/2000, Loss: 0.0264\n",
      "Test Accuracy at Epoch 1150: 60.93%\n",
      "Classification Report at Epoch 1150:\n",
      "                  precision    recall  f1-score   support\n",
      "\n",
      "    infringement       0.61      0.54      0.57       283\n",
      "non_infringement       0.61      0.67      0.64       298\n",
      "\n",
      "        accuracy                           0.61       581\n",
      "       macro avg       0.61      0.61      0.61       581\n",
      "    weighted avg       0.61      0.61      0.61       581\n",
      "\n",
      "Epoch 1160/2000, Loss: 0.0260\n",
      "Test Accuracy at Epoch 1160: 60.93%\n",
      "Classification Report at Epoch 1160:\n",
      "                  precision    recall  f1-score   support\n",
      "\n",
      "    infringement       0.61      0.54      0.57       283\n",
      "non_infringement       0.61      0.67      0.64       298\n",
      "\n",
      "        accuracy                           0.61       581\n",
      "       macro avg       0.61      0.61      0.61       581\n",
      "    weighted avg       0.61      0.61      0.61       581\n",
      "\n",
      "Epoch 1170/2000, Loss: 0.0256\n",
      "Test Accuracy at Epoch 1170: 60.93%\n",
      "Classification Report at Epoch 1170:\n",
      "                  precision    recall  f1-score   support\n",
      "\n",
      "    infringement       0.61      0.54      0.57       283\n",
      "non_infringement       0.61      0.67      0.64       298\n",
      "\n",
      "        accuracy                           0.61       581\n",
      "       macro avg       0.61      0.61      0.61       581\n",
      "    weighted avg       0.61      0.61      0.61       581\n",
      "\n"
     ]
    },
    {
     "name": "stderr",
     "output_type": "stream",
     "text": [
      "Training Epochs:  59%|█████▉    | 1188/2000 [00:12<00:08, 90.83it/s] "
     ]
    },
    {
     "name": "stdout",
     "output_type": "stream",
     "text": [
      "Epoch 1180/2000, Loss: 0.0252\n",
      "Test Accuracy at Epoch 1180: 60.93%\n",
      "Classification Report at Epoch 1180:\n",
      "                  precision    recall  f1-score   support\n",
      "\n",
      "    infringement       0.61      0.54      0.57       283\n",
      "non_infringement       0.61      0.67      0.64       298\n",
      "\n",
      "        accuracy                           0.61       581\n",
      "       macro avg       0.61      0.61      0.61       581\n",
      "    weighted avg       0.61      0.61      0.61       581\n",
      "\n",
      "Epoch 1190/2000, Loss: 0.0248\n",
      "Test Accuracy at Epoch 1190: 61.10%\n",
      "Classification Report at Epoch 1190:\n",
      "                  precision    recall  f1-score   support\n",
      "\n",
      "    infringement       0.61      0.54      0.58       283\n",
      "non_infringement       0.61      0.67      0.64       298\n",
      "\n",
      "        accuracy                           0.61       581\n",
      "       macro avg       0.61      0.61      0.61       581\n",
      "    weighted avg       0.61      0.61      0.61       581\n",
      "\n"
     ]
    },
    {
     "name": "stderr",
     "output_type": "stream",
     "text": [
      "Training Epochs:  61%|██████    | 1212/2000 [00:12<00:07, 102.21it/s]"
     ]
    },
    {
     "name": "stdout",
     "output_type": "stream",
     "text": [
      "Epoch 1200/2000, Loss: 0.0244\n",
      "Test Accuracy at Epoch 1200: 61.10%\n",
      "Classification Report at Epoch 1200:\n",
      "                  precision    recall  f1-score   support\n",
      "\n",
      "    infringement       0.61      0.54      0.58       283\n",
      "non_infringement       0.61      0.67      0.64       298\n",
      "\n",
      "        accuracy                           0.61       581\n",
      "       macro avg       0.61      0.61      0.61       581\n",
      "    weighted avg       0.61      0.61      0.61       581\n",
      "\n",
      "Epoch 1210/2000, Loss: 0.0240\n",
      "Test Accuracy at Epoch 1210: 60.93%\n",
      "Classification Report at Epoch 1210:\n",
      "                  precision    recall  f1-score   support\n",
      "\n",
      "    infringement       0.61      0.54      0.57       283\n",
      "non_infringement       0.61      0.67      0.64       298\n",
      "\n",
      "        accuracy                           0.61       581\n",
      "       macro avg       0.61      0.61      0.61       581\n",
      "    weighted avg       0.61      0.61      0.61       581\n",
      "\n",
      "Epoch 1220/2000, Loss: 0.0236\n",
      "Test Accuracy at Epoch 1220: 60.93%\n",
      "Classification Report at Epoch 1220:\n",
      "                  precision    recall  f1-score   support\n",
      "\n",
      "    infringement       0.61      0.54      0.57       283\n",
      "non_infringement       0.61      0.67      0.64       298\n",
      "\n",
      "        accuracy                           0.61       581\n",
      "       macro avg       0.61      0.61      0.61       581\n",
      "    weighted avg       0.61      0.61      0.61       581\n",
      "\n"
     ]
    },
    {
     "name": "stderr",
     "output_type": "stream",
     "text": [
      "Training Epochs:  62%|██████▏   | 1246/2000 [00:13<00:07, 97.30it/s] "
     ]
    },
    {
     "name": "stdout",
     "output_type": "stream",
     "text": [
      "Epoch 1230/2000, Loss: 0.0233\n",
      "Test Accuracy at Epoch 1230: 60.93%\n",
      "Classification Report at Epoch 1230:\n",
      "                  precision    recall  f1-score   support\n",
      "\n",
      "    infringement       0.61      0.54      0.57       283\n",
      "non_infringement       0.61      0.67      0.64       298\n",
      "\n",
      "        accuracy                           0.61       581\n",
      "       macro avg       0.61      0.61      0.61       581\n",
      "    weighted avg       0.61      0.61      0.61       581\n",
      "\n",
      "Epoch 1240/2000, Loss: 0.0229\n",
      "Test Accuracy at Epoch 1240: 61.10%\n",
      "Classification Report at Epoch 1240:\n",
      "                  precision    recall  f1-score   support\n",
      "\n",
      "    infringement       0.61      0.54      0.58       283\n",
      "non_infringement       0.61      0.68      0.64       298\n",
      "\n",
      "        accuracy                           0.61       581\n",
      "       macro avg       0.61      0.61      0.61       581\n",
      "    weighted avg       0.61      0.61      0.61       581\n",
      "\n",
      "Epoch 1250/2000, Loss: 0.0226\n",
      "Test Accuracy at Epoch 1250: 61.27%\n",
      "Classification Report at Epoch 1250:\n",
      "                  precision    recall  f1-score   support\n",
      "\n",
      "    infringement       0.62      0.54      0.58       283\n",
      "non_infringement       0.61      0.68      0.64       298\n",
      "\n",
      "        accuracy                           0.61       581\n",
      "       macro avg       0.61      0.61      0.61       581\n",
      "    weighted avg       0.61      0.61      0.61       581\n",
      "\n"
     ]
    },
    {
     "name": "stderr",
     "output_type": "stream",
     "text": [
      "Training Epochs:  63%|██████▎   | 1269/2000 [00:13<00:07, 93.08it/s] "
     ]
    },
    {
     "name": "stdout",
     "output_type": "stream",
     "text": [
      "Epoch 1260/2000, Loss: 0.0222\n",
      "Test Accuracy at Epoch 1260: 61.62%\n",
      "Classification Report at Epoch 1260:\n",
      "                  precision    recall  f1-score   support\n",
      "\n",
      "    infringement       0.62      0.54      0.58       283\n",
      "non_infringement       0.61      0.68      0.65       298\n",
      "\n",
      "        accuracy                           0.62       581\n",
      "       macro avg       0.62      0.61      0.61       581\n",
      "    weighted avg       0.62      0.62      0.61       581\n",
      "\n",
      "Epoch 1270/2000, Loss: 0.0219\n",
      "Test Accuracy at Epoch 1270: 61.62%\n",
      "Classification Report at Epoch 1270:\n",
      "                  precision    recall  f1-score   support\n",
      "\n",
      "    infringement       0.62      0.54      0.58       283\n",
      "non_infringement       0.61      0.68      0.65       298\n",
      "\n",
      "        accuracy                           0.62       581\n",
      "       macro avg       0.62      0.61      0.61       581\n",
      "    weighted avg       0.62      0.62      0.61       581\n",
      "\n"
     ]
    },
    {
     "name": "stderr",
     "output_type": "stream",
     "text": [
      "Training Epochs:  64%|██████▍   | 1290/2000 [00:13<00:07, 97.67it/s]"
     ]
    },
    {
     "name": "stdout",
     "output_type": "stream",
     "text": [
      "Epoch 1280/2000, Loss: 0.0216\n",
      "Test Accuracy at Epoch 1280: 61.62%\n",
      "Classification Report at Epoch 1280:\n",
      "                  precision    recall  f1-score   support\n",
      "\n",
      "    infringement       0.62      0.54      0.58       283\n",
      "non_infringement       0.61      0.68      0.65       298\n",
      "\n",
      "        accuracy                           0.62       581\n",
      "       macro avg       0.62      0.61      0.61       581\n",
      "    weighted avg       0.62      0.62      0.61       581\n",
      "\n",
      "Epoch 1290/2000, Loss: 0.0213\n",
      "Test Accuracy at Epoch 1290: 61.62%\n",
      "Classification Report at Epoch 1290:\n",
      "                  precision    recall  f1-score   support\n",
      "\n",
      "    infringement       0.62      0.54      0.58       283\n",
      "non_infringement       0.61      0.68      0.65       298\n",
      "\n",
      "        accuracy                           0.62       581\n",
      "       macro avg       0.62      0.61      0.61       581\n",
      "    weighted avg       0.62      0.62      0.61       581\n",
      "\n",
      "Epoch 1300/2000, Loss: 0.0210\n",
      "Test Accuracy at Epoch 1300: 61.62%\n",
      "Classification Report at Epoch 1300:\n",
      "                  precision    recall  f1-score   support\n",
      "\n",
      "    infringement       0.62      0.54      0.58       283\n",
      "non_infringement       0.61      0.68      0.65       298\n",
      "\n",
      "        accuracy                           0.62       581\n",
      "       macro avg       0.62      0.61      0.61       581\n",
      "    weighted avg       0.62      0.62      0.61       581\n",
      "\n"
     ]
    },
    {
     "name": "stderr",
     "output_type": "stream",
     "text": [
      "Training Epochs:  66%|██████▋   | 1326/2000 [00:14<00:06, 106.25it/s]"
     ]
    },
    {
     "name": "stdout",
     "output_type": "stream",
     "text": [
      "Epoch 1310/2000, Loss: 0.0207\n",
      "Test Accuracy at Epoch 1310: 62.13%\n",
      "Classification Report at Epoch 1310:\n",
      "                  precision    recall  f1-score   support\n",
      "\n",
      "    infringement       0.63      0.54      0.58       283\n",
      "non_infringement       0.62      0.69      0.65       298\n",
      "\n",
      "        accuracy                           0.62       581\n",
      "       macro avg       0.62      0.62      0.62       581\n",
      "    weighted avg       0.62      0.62      0.62       581\n",
      "\n",
      "Epoch 1320/2000, Loss: 0.0204\n",
      "Test Accuracy at Epoch 1320: 62.13%\n",
      "Classification Report at Epoch 1320:\n",
      "                  precision    recall  f1-score   support\n",
      "\n",
      "    infringement       0.63      0.54      0.58       283\n",
      "non_infringement       0.62      0.69      0.65       298\n",
      "\n",
      "        accuracy                           0.62       581\n",
      "       macro avg       0.62      0.62      0.62       581\n",
      "    weighted avg       0.62      0.62      0.62       581\n",
      "\n",
      "Epoch 1330/2000, Loss: 0.0201\n",
      "Test Accuracy at Epoch 1330: 62.13%\n",
      "Classification Report at Epoch 1330:\n",
      "                  precision    recall  f1-score   support\n",
      "\n",
      "    infringement       0.63      0.54      0.58       283\n",
      "non_infringement       0.62      0.69      0.65       298\n",
      "\n",
      "        accuracy                           0.62       581\n",
      "       macro avg       0.62      0.62      0.62       581\n",
      "    weighted avg       0.62      0.62      0.62       581\n",
      "\n"
     ]
    },
    {
     "name": "stderr",
     "output_type": "stream",
     "text": [
      "Training Epochs:  68%|██████▊   | 1350/2000 [00:14<00:06, 93.90it/s] "
     ]
    },
    {
     "name": "stdout",
     "output_type": "stream",
     "text": [
      "Epoch 1340/2000, Loss: 0.0198\n",
      "Test Accuracy at Epoch 1340: 61.96%\n",
      "Classification Report at Epoch 1340:\n",
      "                  precision    recall  f1-score   support\n",
      "\n",
      "    infringement       0.63      0.54      0.58       283\n",
      "non_infringement       0.61      0.69      0.65       298\n",
      "\n",
      "        accuracy                           0.62       581\n",
      "       macro avg       0.62      0.62      0.62       581\n",
      "    weighted avg       0.62      0.62      0.62       581\n",
      "\n",
      "Epoch 1350/2000, Loss: 0.0195\n",
      "Test Accuracy at Epoch 1350: 62.13%\n",
      "Classification Report at Epoch 1350:\n",
      "                  precision    recall  f1-score   support\n",
      "\n",
      "    infringement       0.63      0.54      0.58       283\n",
      "non_infringement       0.62      0.70      0.65       298\n",
      "\n",
      "        accuracy                           0.62       581\n",
      "       macro avg       0.62      0.62      0.62       581\n",
      "    weighted avg       0.62      0.62      0.62       581\n",
      "\n"
     ]
    },
    {
     "name": "stderr",
     "output_type": "stream",
     "text": [
      "Training Epochs:  69%|██████▉   | 1376/2000 [00:14<00:05, 107.40it/s]"
     ]
    },
    {
     "name": "stdout",
     "output_type": "stream",
     "text": [
      "Epoch 1360/2000, Loss: 0.0192\n",
      "Test Accuracy at Epoch 1360: 62.13%\n",
      "Classification Report at Epoch 1360:\n",
      "                  precision    recall  f1-score   support\n",
      "\n",
      "    infringement       0.63      0.54      0.58       283\n",
      "non_infringement       0.62      0.70      0.65       298\n",
      "\n",
      "        accuracy                           0.62       581\n",
      "       macro avg       0.62      0.62      0.62       581\n",
      "    weighted avg       0.62      0.62      0.62       581\n",
      "\n",
      "Epoch 1370/2000, Loss: 0.0189\n",
      "Test Accuracy at Epoch 1370: 62.13%\n",
      "Classification Report at Epoch 1370:\n",
      "                  precision    recall  f1-score   support\n",
      "\n",
      "    infringement       0.63      0.54      0.58       283\n",
      "non_infringement       0.62      0.70      0.65       298\n",
      "\n",
      "        accuracy                           0.62       581\n",
      "       macro avg       0.62      0.62      0.62       581\n",
      "    weighted avg       0.62      0.62      0.62       581\n",
      "\n",
      "Epoch 1380/2000, Loss: 0.0187\n",
      "Test Accuracy at Epoch 1380: 62.31%\n",
      "Classification Report at Epoch 1380:\n",
      "                  precision    recall  f1-score   support\n",
      "\n",
      "    infringement       0.63      0.54      0.58       283\n",
      "non_infringement       0.62      0.70      0.66       298\n",
      "\n",
      "        accuracy                           0.62       581\n",
      "       macro avg       0.62      0.62      0.62       581\n",
      "    weighted avg       0.62      0.62      0.62       581\n",
      "\n"
     ]
    },
    {
     "name": "stderr",
     "output_type": "stream",
     "text": [
      "Training Epochs:  70%|███████   | 1410/2000 [00:14<00:05, 101.16it/s]"
     ]
    },
    {
     "name": "stdout",
     "output_type": "stream",
     "text": [
      "Epoch 1390/2000, Loss: 0.0184\n",
      "Test Accuracy at Epoch 1390: 62.31%\n",
      "Classification Report at Epoch 1390:\n",
      "                  precision    recall  f1-score   support\n",
      "\n",
      "    infringement       0.63      0.54      0.58       283\n",
      "non_infringement       0.62      0.70      0.66       298\n",
      "\n",
      "        accuracy                           0.62       581\n",
      "       macro avg       0.62      0.62      0.62       581\n",
      "    weighted avg       0.62      0.62      0.62       581\n",
      "\n",
      "Epoch 1400/2000, Loss: 0.0182\n",
      "Test Accuracy at Epoch 1400: 62.31%\n",
      "Classification Report at Epoch 1400:\n",
      "                  precision    recall  f1-score   support\n",
      "\n",
      "    infringement       0.63      0.54      0.58       283\n",
      "non_infringement       0.62      0.70      0.66       298\n",
      "\n",
      "        accuracy                           0.62       581\n",
      "       macro avg       0.62      0.62      0.62       581\n",
      "    weighted avg       0.62      0.62      0.62       581\n",
      "\n",
      "Epoch 1410/2000, Loss: 0.0179\n",
      "Test Accuracy at Epoch 1410: 62.31%\n",
      "Classification Report at Epoch 1410:\n",
      "                  precision    recall  f1-score   support\n",
      "\n",
      "    infringement       0.63      0.54      0.58       283\n",
      "non_infringement       0.62      0.70      0.66       298\n",
      "\n",
      "        accuracy                           0.62       581\n",
      "       macro avg       0.62      0.62      0.62       581\n",
      "    weighted avg       0.62      0.62      0.62       581\n",
      "\n"
     ]
    },
    {
     "name": "stderr",
     "output_type": "stream",
     "text": [
      "Training Epochs:  72%|███████▏  | 1432/2000 [00:15<00:06, 90.40it/s] "
     ]
    },
    {
     "name": "stdout",
     "output_type": "stream",
     "text": [
      "Epoch 1420/2000, Loss: 0.0177\n",
      "Test Accuracy at Epoch 1420: 62.31%\n",
      "Classification Report at Epoch 1420:\n",
      "                  precision    recall  f1-score   support\n",
      "\n",
      "    infringement       0.63      0.54      0.58       283\n",
      "non_infringement       0.62      0.70      0.66       298\n",
      "\n",
      "        accuracy                           0.62       581\n",
      "       macro avg       0.62      0.62      0.62       581\n",
      "    weighted avg       0.62      0.62      0.62       581\n",
      "\n",
      "Epoch 1430/2000, Loss: 0.0174\n",
      "Test Accuracy at Epoch 1430: 62.31%\n",
      "Classification Report at Epoch 1430:\n",
      "                  precision    recall  f1-score   support\n",
      "\n",
      "    infringement       0.63      0.54      0.58       283\n",
      "non_infringement       0.62      0.70      0.66       298\n",
      "\n",
      "        accuracy                           0.62       581\n",
      "       macro avg       0.62      0.62      0.62       581\n",
      "    weighted avg       0.62      0.62      0.62       581\n",
      "\n"
     ]
    },
    {
     "name": "stderr",
     "output_type": "stream",
     "text": [
      "Training Epochs:  73%|███████▎  | 1455/2000 [00:15<00:05, 100.04it/s]"
     ]
    },
    {
     "name": "stdout",
     "output_type": "stream",
     "text": [
      "Epoch 1440/2000, Loss: 0.0172\n",
      "Test Accuracy at Epoch 1440: 62.48%\n",
      "Classification Report at Epoch 1440:\n",
      "                  precision    recall  f1-score   support\n",
      "\n",
      "    infringement       0.63      0.54      0.58       283\n",
      "non_infringement       0.62      0.70      0.66       298\n",
      "\n",
      "        accuracy                           0.62       581\n",
      "       macro avg       0.63      0.62      0.62       581\n",
      "    weighted avg       0.63      0.62      0.62       581\n",
      "\n",
      "Epoch 1450/2000, Loss: 0.0170\n",
      "Test Accuracy at Epoch 1450: 62.48%\n",
      "Classification Report at Epoch 1450:\n",
      "                  precision    recall  f1-score   support\n",
      "\n",
      "    infringement       0.63      0.54      0.58       283\n",
      "non_infringement       0.62      0.70      0.66       298\n",
      "\n",
      "        accuracy                           0.62       581\n",
      "       macro avg       0.63      0.62      0.62       581\n",
      "    weighted avg       0.63      0.62      0.62       581\n",
      "\n",
      "Epoch 1460/2000, Loss: 0.0167\n",
      "Test Accuracy at Epoch 1460: 62.65%\n",
      "Classification Report at Epoch 1460:\n",
      "                  precision    recall  f1-score   support\n",
      "\n",
      "    infringement       0.64      0.54      0.59       283\n",
      "non_infringement       0.62      0.71      0.66       298\n",
      "\n",
      "        accuracy                           0.63       581\n",
      "       macro avg       0.63      0.62      0.62       581\n",
      "    weighted avg       0.63      0.63      0.62       581\n",
      "\n"
     ]
    },
    {
     "name": "stderr",
     "output_type": "stream",
     "text": [
      "Training Epochs:  74%|███████▍  | 1490/2000 [00:15<00:05, 100.52it/s]"
     ]
    },
    {
     "name": "stdout",
     "output_type": "stream",
     "text": [
      "Epoch 1470/2000, Loss: 0.0165\n",
      "Test Accuracy at Epoch 1470: 62.48%\n",
      "Classification Report at Epoch 1470:\n",
      "                  precision    recall  f1-score   support\n",
      "\n",
      "    infringement       0.64      0.54      0.58       283\n",
      "non_infringement       0.62      0.71      0.66       298\n",
      "\n",
      "        accuracy                           0.62       581\n",
      "       macro avg       0.63      0.62      0.62       581\n",
      "    weighted avg       0.63      0.62      0.62       581\n",
      "\n",
      "Epoch 1480/2000, Loss: 0.0163\n",
      "Test Accuracy at Epoch 1480: 62.48%\n",
      "Classification Report at Epoch 1480:\n",
      "                  precision    recall  f1-score   support\n",
      "\n",
      "    infringement       0.64      0.54      0.58       283\n",
      "non_infringement       0.62      0.71      0.66       298\n",
      "\n",
      "        accuracy                           0.62       581\n",
      "       macro avg       0.63      0.62      0.62       581\n",
      "    weighted avg       0.63      0.62      0.62       581\n",
      "\n",
      "Epoch 1490/2000, Loss: 0.0161\n",
      "Test Accuracy at Epoch 1490: 62.48%\n",
      "Classification Report at Epoch 1490:\n",
      "                  precision    recall  f1-score   support\n",
      "\n",
      "    infringement       0.64      0.54      0.58       283\n",
      "non_infringement       0.62      0.71      0.66       298\n",
      "\n",
      "        accuracy                           0.62       581\n",
      "       macro avg       0.63      0.62      0.62       581\n",
      "    weighted avg       0.63      0.62      0.62       581\n",
      "\n"
     ]
    },
    {
     "name": "stderr",
     "output_type": "stream",
     "text": [
      "Training Epochs:  76%|███████▌  | 1513/2000 [00:15<00:05, 94.16it/s] "
     ]
    },
    {
     "name": "stdout",
     "output_type": "stream",
     "text": [
      "Epoch 1500/2000, Loss: 0.0159\n",
      "Test Accuracy at Epoch 1500: 62.82%\n",
      "Classification Report at Epoch 1500:\n",
      "                  precision    recall  f1-score   support\n",
      "\n",
      "    infringement       0.64      0.54      0.58       283\n",
      "non_infringement       0.62      0.71      0.66       298\n",
      "\n",
      "        accuracy                           0.63       581\n",
      "       macro avg       0.63      0.63      0.62       581\n",
      "    weighted avg       0.63      0.63      0.63       581\n",
      "\n",
      "Epoch 1510/2000, Loss: 0.0156\n",
      "Test Accuracy at Epoch 1510: 62.82%\n",
      "Classification Report at Epoch 1510:\n",
      "                  precision    recall  f1-score   support\n",
      "\n",
      "    infringement       0.64      0.54      0.58       283\n",
      "non_infringement       0.62      0.71      0.66       298\n",
      "\n",
      "        accuracy                           0.63       581\n",
      "       macro avg       0.63      0.63      0.62       581\n",
      "    weighted avg       0.63      0.63      0.63       581\n",
      "\n"
     ]
    },
    {
     "name": "stderr",
     "output_type": "stream",
     "text": [
      "Training Epochs:  77%|███████▋  | 1539/2000 [00:16<00:04, 109.94it/s]"
     ]
    },
    {
     "name": "stdout",
     "output_type": "stream",
     "text": [
      "Epoch 1520/2000, Loss: 0.0154\n",
      "Test Accuracy at Epoch 1520: 62.82%\n",
      "Classification Report at Epoch 1520:\n",
      "                  precision    recall  f1-score   support\n",
      "\n",
      "    infringement       0.64      0.54      0.58       283\n",
      "non_infringement       0.62      0.71      0.66       298\n",
      "\n",
      "        accuracy                           0.63       581\n",
      "       macro avg       0.63      0.63      0.62       581\n",
      "    weighted avg       0.63      0.63      0.63       581\n",
      "\n",
      "Epoch 1530/2000, Loss: 0.0152\n",
      "Test Accuracy at Epoch 1530: 62.82%\n",
      "Classification Report at Epoch 1530:\n",
      "                  precision    recall  f1-score   support\n",
      "\n",
      "    infringement       0.64      0.54      0.58       283\n",
      "non_infringement       0.62      0.71      0.66       298\n",
      "\n",
      "        accuracy                           0.63       581\n",
      "       macro avg       0.63      0.63      0.62       581\n",
      "    weighted avg       0.63      0.63      0.63       581\n",
      "\n",
      "Epoch 1540/2000, Loss: 0.0150\n",
      "Test Accuracy at Epoch 1540: 62.82%\n",
      "Classification Report at Epoch 1540:\n",
      "                  precision    recall  f1-score   support\n",
      "\n",
      "    infringement       0.64      0.54      0.58       283\n",
      "non_infringement       0.62      0.71      0.66       298\n",
      "\n",
      "        accuracy                           0.63       581\n",
      "       macro avg       0.63      0.63      0.62       581\n",
      "    weighted avg       0.63      0.63      0.63       581\n",
      "\n"
     ]
    },
    {
     "name": "stderr",
     "output_type": "stream",
     "text": [
      "Training Epochs:  78%|███████▊  | 1564/2000 [00:16<00:04, 105.94it/s]"
     ]
    },
    {
     "name": "stdout",
     "output_type": "stream",
     "text": [
      "Epoch 1550/2000, Loss: 0.0148\n",
      "Test Accuracy at Epoch 1550: 62.99%\n",
      "Classification Report at Epoch 1550:\n",
      "                  precision    recall  f1-score   support\n",
      "\n",
      "    infringement       0.64      0.54      0.59       283\n",
      "non_infringement       0.62      0.71      0.66       298\n",
      "\n",
      "        accuracy                           0.63       581\n",
      "       macro avg       0.63      0.63      0.63       581\n",
      "    weighted avg       0.63      0.63      0.63       581\n",
      "\n",
      "Epoch 1560/2000, Loss: 0.0147\n",
      "Test Accuracy at Epoch 1560: 62.99%\n",
      "Classification Report at Epoch 1560:\n",
      "                  precision    recall  f1-score   support\n",
      "\n",
      "    infringement       0.64      0.54      0.59       283\n",
      "non_infringement       0.62      0.71      0.66       298\n",
      "\n",
      "        accuracy                           0.63       581\n",
      "       macro avg       0.63      0.63      0.63       581\n",
      "    weighted avg       0.63      0.63      0.63       581\n",
      "\n",
      "Epoch 1570/2000, Loss: 0.0145\n",
      "Test Accuracy at Epoch 1570: 62.99%\n",
      "Classification Report at Epoch 1570:\n",
      "                  precision    recall  f1-score   support\n",
      "\n",
      "    infringement       0.64      0.54      0.59       283\n",
      "non_infringement       0.62      0.71      0.66       298\n",
      "\n",
      "        accuracy                           0.63       581\n",
      "       macro avg       0.63      0.63      0.63       581\n",
      "    weighted avg       0.63      0.63      0.63       581\n",
      "\n"
     ]
    },
    {
     "name": "stderr",
     "output_type": "stream",
     "text": [
      "Training Epochs:  79%|███████▉  | 1588/2000 [00:16<00:04, 98.57it/s] "
     ]
    },
    {
     "name": "stdout",
     "output_type": "stream",
     "text": [
      "Epoch 1580/2000, Loss: 0.0143\n",
      "Test Accuracy at Epoch 1580: 62.99%\n",
      "Classification Report at Epoch 1580:\n",
      "                  precision    recall  f1-score   support\n",
      "\n",
      "    infringement       0.64      0.54      0.59       283\n",
      "non_infringement       0.62      0.71      0.66       298\n",
      "\n",
      "        accuracy                           0.63       581\n",
      "       macro avg       0.63      0.63      0.63       581\n",
      "    weighted avg       0.63      0.63      0.63       581\n",
      "\n",
      "Epoch 1590/2000, Loss: 0.0141\n",
      "Test Accuracy at Epoch 1590: 62.99%\n",
      "Classification Report at Epoch 1590:\n",
      "                  precision    recall  f1-score   support\n",
      "\n",
      "    infringement       0.64      0.54      0.59       283\n",
      "non_infringement       0.62      0.71      0.66       298\n",
      "\n",
      "        accuracy                           0.63       581\n",
      "       macro avg       0.63      0.63      0.63       581\n",
      "    weighted avg       0.63      0.63      0.63       581\n",
      "\n"
     ]
    },
    {
     "name": "stderr",
     "output_type": "stream",
     "text": [
      "Training Epochs:  81%|████████  | 1613/2000 [00:16<00:03, 109.15it/s]"
     ]
    },
    {
     "name": "stdout",
     "output_type": "stream",
     "text": [
      "Epoch 1600/2000, Loss: 0.0139\n",
      "Test Accuracy at Epoch 1600: 62.99%\n",
      "Classification Report at Epoch 1600:\n",
      "                  precision    recall  f1-score   support\n",
      "\n",
      "    infringement       0.64      0.54      0.59       283\n",
      "non_infringement       0.62      0.71      0.66       298\n",
      "\n",
      "        accuracy                           0.63       581\n",
      "       macro avg       0.63      0.63      0.63       581\n",
      "    weighted avg       0.63      0.63      0.63       581\n",
      "\n",
      "Epoch 1610/2000, Loss: 0.0137\n",
      "Test Accuracy at Epoch 1610: 62.99%\n",
      "Classification Report at Epoch 1610:\n",
      "                  precision    recall  f1-score   support\n",
      "\n",
      "    infringement       0.64      0.54      0.59       283\n",
      "non_infringement       0.62      0.71      0.66       298\n",
      "\n",
      "        accuracy                           0.63       581\n",
      "       macro avg       0.63      0.63      0.63       581\n",
      "    weighted avg       0.63      0.63      0.63       581\n",
      "\n",
      "Epoch 1620/2000, Loss: 0.0136\n",
      "Test Accuracy at Epoch 1620: 63.17%\n",
      "Classification Report at Epoch 1620:\n",
      "                  precision    recall  f1-score   support\n",
      "\n",
      "    infringement       0.65      0.54      0.59       283\n",
      "non_infringement       0.62      0.72      0.67       298\n",
      "\n",
      "        accuracy                           0.63       581\n",
      "       macro avg       0.63      0.63      0.63       581\n",
      "    weighted avg       0.63      0.63      0.63       581\n",
      "\n"
     ]
    },
    {
     "name": "stderr",
     "output_type": "stream",
     "text": [
      "Training Epochs:  82%|████████▎ | 1650/2000 [00:17<00:03, 107.37it/s]"
     ]
    },
    {
     "name": "stdout",
     "output_type": "stream",
     "text": [
      "Epoch 1630/2000, Loss: 0.0134\n",
      "Test Accuracy at Epoch 1630: 63.34%\n",
      "Classification Report at Epoch 1630:\n",
      "                  precision    recall  f1-score   support\n",
      "\n",
      "    infringement       0.65      0.54      0.59       283\n",
      "non_infringement       0.62      0.72      0.67       298\n",
      "\n",
      "        accuracy                           0.63       581\n",
      "       macro avg       0.64      0.63      0.63       581\n",
      "    weighted avg       0.64      0.63      0.63       581\n",
      "\n",
      "Epoch 1640/2000, Loss: 0.0132\n",
      "Test Accuracy at Epoch 1640: 63.51%\n",
      "Classification Report at Epoch 1640:\n",
      "                  precision    recall  f1-score   support\n",
      "\n",
      "    infringement       0.65      0.54      0.59       283\n",
      "non_infringement       0.62      0.72      0.67       298\n",
      "\n",
      "        accuracy                           0.64       581\n",
      "       macro avg       0.64      0.63      0.63       581\n",
      "    weighted avg       0.64      0.64      0.63       581\n",
      "\n",
      "Epoch 1650/2000, Loss: 0.0131\n",
      "Test Accuracy at Epoch 1650: 63.51%\n",
      "Classification Report at Epoch 1650:\n",
      "                  precision    recall  f1-score   support\n",
      "\n",
      "    infringement       0.65      0.54      0.59       283\n",
      "non_infringement       0.62      0.72      0.67       298\n",
      "\n",
      "        accuracy                           0.64       581\n",
      "       macro avg       0.64      0.63      0.63       581\n",
      "    weighted avg       0.64      0.64      0.63       581\n",
      "\n"
     ]
    },
    {
     "name": "stderr",
     "output_type": "stream",
     "text": [
      "Training Epochs:  84%|████████▍ | 1675/2000 [00:17<00:03, 98.97it/s] "
     ]
    },
    {
     "name": "stdout",
     "output_type": "stream",
     "text": [
      "Epoch 1660/2000, Loss: 0.0129\n",
      "Test Accuracy at Epoch 1660: 63.34%\n",
      "Classification Report at Epoch 1660:\n",
      "                  precision    recall  f1-score   support\n",
      "\n",
      "    infringement       0.65      0.54      0.59       283\n",
      "non_infringement       0.62      0.72      0.67       298\n",
      "\n",
      "        accuracy                           0.63       581\n",
      "       macro avg       0.64      0.63      0.63       581\n",
      "    weighted avg       0.64      0.63      0.63       581\n",
      "\n",
      "Epoch 1670/2000, Loss: 0.0127\n",
      "Test Accuracy at Epoch 1670: 63.51%\n",
      "Classification Report at Epoch 1670:\n",
      "                  precision    recall  f1-score   support\n",
      "\n",
      "    infringement       0.65      0.54      0.59       283\n",
      "non_infringement       0.62      0.73      0.67       298\n",
      "\n",
      "        accuracy                           0.64       581\n",
      "       macro avg       0.64      0.63      0.63       581\n",
      "    weighted avg       0.64      0.64      0.63       581\n",
      "\n"
     ]
    },
    {
     "name": "stderr",
     "output_type": "stream",
     "text": [
      "Training Epochs:  85%|████████▍ | 1699/2000 [00:17<00:02, 107.45it/s]"
     ]
    },
    {
     "name": "stdout",
     "output_type": "stream",
     "text": [
      "Epoch 1680/2000, Loss: 0.0126\n",
      "Test Accuracy at Epoch 1680: 63.51%\n",
      "Classification Report at Epoch 1680:\n",
      "                  precision    recall  f1-score   support\n",
      "\n",
      "    infringement       0.65      0.54      0.59       283\n",
      "non_infringement       0.62      0.73      0.67       298\n",
      "\n",
      "        accuracy                           0.64       581\n",
      "       macro avg       0.64      0.63      0.63       581\n",
      "    weighted avg       0.64      0.64      0.63       581\n",
      "\n",
      "Epoch 1690/2000, Loss: 0.0124\n",
      "Test Accuracy at Epoch 1690: 63.51%\n",
      "Classification Report at Epoch 1690:\n",
      "                  precision    recall  f1-score   support\n",
      "\n",
      "    infringement       0.65      0.54      0.59       283\n",
      "non_infringement       0.62      0.73      0.67       298\n",
      "\n",
      "        accuracy                           0.64       581\n",
      "       macro avg       0.64      0.63      0.63       581\n",
      "    weighted avg       0.64      0.64      0.63       581\n",
      "\n",
      "Epoch 1700/2000, Loss: 0.0123\n",
      "Test Accuracy at Epoch 1700: 63.51%\n",
      "Classification Report at Epoch 1700:\n",
      "                  precision    recall  f1-score   support\n",
      "\n",
      "    infringement       0.65      0.54      0.59       283\n",
      "non_infringement       0.62      0.73      0.67       298\n",
      "\n",
      "        accuracy                           0.64       581\n",
      "       macro avg       0.64      0.63      0.63       581\n",
      "    weighted avg       0.64      0.64      0.63       581\n",
      "\n"
     ]
    },
    {
     "name": "stderr",
     "output_type": "stream",
     "text": [
      "Training Epochs:  86%|████████▌ | 1723/2000 [00:17<00:02, 98.44it/s] "
     ]
    },
    {
     "name": "stdout",
     "output_type": "stream",
     "text": [
      "Epoch 1710/2000, Loss: 0.0121\n",
      "Test Accuracy at Epoch 1710: 63.68%\n",
      "Classification Report at Epoch 1710:\n",
      "                  precision    recall  f1-score   support\n",
      "\n",
      "    infringement       0.66      0.54      0.59       283\n",
      "non_infringement       0.62      0.73      0.67       298\n",
      "\n",
      "        accuracy                           0.64       581\n",
      "       macro avg       0.64      0.63      0.63       581\n",
      "    weighted avg       0.64      0.64      0.63       581\n",
      "\n",
      "Epoch 1720/2000, Loss: 0.0120\n",
      "Test Accuracy at Epoch 1720: 63.68%\n",
      "Classification Report at Epoch 1720:\n",
      "                  precision    recall  f1-score   support\n",
      "\n",
      "    infringement       0.66      0.54      0.59       283\n",
      "non_infringement       0.62      0.73      0.67       298\n",
      "\n",
      "        accuracy                           0.64       581\n",
      "       macro avg       0.64      0.63      0.63       581\n",
      "    weighted avg       0.64      0.64      0.63       581\n",
      "\n"
     ]
    },
    {
     "name": "stderr",
     "output_type": "stream",
     "text": [
      "Training Epochs:  87%|████████▋ | 1748/2000 [00:18<00:02, 105.28it/s]"
     ]
    },
    {
     "name": "stdout",
     "output_type": "stream",
     "text": [
      "Epoch 1730/2000, Loss: 0.0118\n",
      "Test Accuracy at Epoch 1730: 63.68%\n",
      "Classification Report at Epoch 1730:\n",
      "                  precision    recall  f1-score   support\n",
      "\n",
      "    infringement       0.66      0.54      0.59       283\n",
      "non_infringement       0.62      0.73      0.67       298\n",
      "\n",
      "        accuracy                           0.64       581\n",
      "       macro avg       0.64      0.63      0.63       581\n",
      "    weighted avg       0.64      0.64      0.63       581\n",
      "\n",
      "Epoch 1740/2000, Loss: 0.0117\n",
      "Test Accuracy at Epoch 1740: 63.68%\n",
      "Classification Report at Epoch 1740:\n",
      "                  precision    recall  f1-score   support\n",
      "\n",
      "    infringement       0.66      0.54      0.59       283\n",
      "non_infringement       0.62      0.73      0.67       298\n",
      "\n",
      "        accuracy                           0.64       581\n",
      "       macro avg       0.64      0.63      0.63       581\n",
      "    weighted avg       0.64      0.64      0.63       581\n",
      "\n",
      "Epoch 1750/2000, Loss: 0.0116\n",
      "Test Accuracy at Epoch 1750: 63.68%\n",
      "Classification Report at Epoch 1750:\n",
      "                  precision    recall  f1-score   support\n",
      "\n",
      "    infringement       0.66      0.54      0.59       283\n",
      "non_infringement       0.62      0.73      0.67       298\n",
      "\n",
      "        accuracy                           0.64       581\n",
      "       macro avg       0.64      0.63      0.63       581\n",
      "    weighted avg       0.64      0.64      0.63       581\n",
      "\n"
     ]
    },
    {
     "name": "stderr",
     "output_type": "stream",
     "text": [
      "Training Epochs:  89%|████████▉ | 1780/2000 [00:18<00:02, 97.40it/s] "
     ]
    },
    {
     "name": "stdout",
     "output_type": "stream",
     "text": [
      "Epoch 1760/2000, Loss: 0.0114\n",
      "Test Accuracy at Epoch 1760: 63.51%\n",
      "Classification Report at Epoch 1760:\n",
      "                  precision    recall  f1-score   support\n",
      "\n",
      "    infringement       0.65      0.53      0.59       283\n",
      "non_infringement       0.62      0.73      0.67       298\n",
      "\n",
      "        accuracy                           0.64       581\n",
      "       macro avg       0.64      0.63      0.63       581\n",
      "    weighted avg       0.64      0.64      0.63       581\n",
      "\n",
      "Epoch 1770/2000, Loss: 0.0113\n",
      "Test Accuracy at Epoch 1770: 63.51%\n",
      "Classification Report at Epoch 1770:\n",
      "                  precision    recall  f1-score   support\n",
      "\n",
      "    infringement       0.65      0.53      0.59       283\n",
      "non_infringement       0.62      0.73      0.67       298\n",
      "\n",
      "        accuracy                           0.64       581\n",
      "       macro avg       0.64      0.63      0.63       581\n",
      "    weighted avg       0.64      0.64      0.63       581\n",
      "\n",
      "Epoch 1780/2000, Loss: 0.0112\n",
      "Test Accuracy at Epoch 1780: 63.51%\n",
      "Classification Report at Epoch 1780:\n",
      "                  precision    recall  f1-score   support\n",
      "\n",
      "    infringement       0.65      0.53      0.59       283\n",
      "non_infringement       0.62      0.73      0.67       298\n",
      "\n",
      "        accuracy                           0.64       581\n",
      "       macro avg       0.64      0.63      0.63       581\n",
      "    weighted avg       0.64      0.64      0.63       581\n",
      "\n"
     ]
    },
    {
     "name": "stderr",
     "output_type": "stream",
     "text": [
      "Training Epochs:  90%|█████████ | 1803/2000 [00:18<00:02, 95.57it/s]"
     ]
    },
    {
     "name": "stdout",
     "output_type": "stream",
     "text": [
      "Epoch 1790/2000, Loss: 0.0110\n",
      "Test Accuracy at Epoch 1790: 63.51%\n",
      "Classification Report at Epoch 1790:\n",
      "                  precision    recall  f1-score   support\n",
      "\n",
      "    infringement       0.65      0.53      0.59       283\n",
      "non_infringement       0.62      0.73      0.67       298\n",
      "\n",
      "        accuracy                           0.64       581\n",
      "       macro avg       0.64      0.63      0.63       581\n",
      "    weighted avg       0.64      0.64      0.63       581\n",
      "\n",
      "Epoch 1800/2000, Loss: 0.0109\n",
      "Test Accuracy at Epoch 1800: 63.34%\n",
      "Classification Report at Epoch 1800:\n",
      "                  precision    recall  f1-score   support\n",
      "\n",
      "    infringement       0.65      0.53      0.58       283\n",
      "non_infringement       0.62      0.73      0.67       298\n",
      "\n",
      "        accuracy                           0.63       581\n",
      "       macro avg       0.64      0.63      0.63       581\n",
      "    weighted avg       0.64      0.63      0.63       581\n",
      "\n"
     ]
    },
    {
     "name": "stderr",
     "output_type": "stream",
     "text": [
      "Training Epochs:  91%|█████████▏| 1828/2000 [00:19<00:01, 106.40it/s]"
     ]
    },
    {
     "name": "stdout",
     "output_type": "stream",
     "text": [
      "Epoch 1810/2000, Loss: 0.0108\n",
      "Test Accuracy at Epoch 1810: 63.51%\n",
      "Classification Report at Epoch 1810:\n",
      "                  precision    recall  f1-score   support\n",
      "\n",
      "    infringement       0.66      0.53      0.59       283\n",
      "non_infringement       0.62      0.73      0.67       298\n",
      "\n",
      "        accuracy                           0.64       581\n",
      "       macro avg       0.64      0.63      0.63       581\n",
      "    weighted avg       0.64      0.64      0.63       581\n",
      "\n",
      "Epoch 1820/2000, Loss: 0.0106\n",
      "Test Accuracy at Epoch 1820: 63.51%\n",
      "Classification Report at Epoch 1820:\n",
      "                  precision    recall  f1-score   support\n",
      "\n",
      "    infringement       0.66      0.53      0.59       283\n",
      "non_infringement       0.62      0.73      0.67       298\n",
      "\n",
      "        accuracy                           0.64       581\n",
      "       macro avg       0.64      0.63      0.63       581\n",
      "    weighted avg       0.64      0.64      0.63       581\n",
      "\n"
     ]
    },
    {
     "name": "stderr",
     "output_type": "stream",
     "text": [
      "Training Epochs:  92%|█████████▎| 1850/2000 [00:19<00:01, 97.09it/s] "
     ]
    },
    {
     "name": "stdout",
     "output_type": "stream",
     "text": [
      "Epoch 1830/2000, Loss: 0.0105\n",
      "Test Accuracy at Epoch 1830: 63.51%\n",
      "Classification Report at Epoch 1830:\n",
      "                  precision    recall  f1-score   support\n",
      "\n",
      "    infringement       0.66      0.53      0.59       283\n",
      "non_infringement       0.62      0.73      0.67       298\n",
      "\n",
      "        accuracy                           0.64       581\n",
      "       macro avg       0.64      0.63      0.63       581\n",
      "    weighted avg       0.64      0.64      0.63       581\n",
      "\n",
      "Epoch 1840/2000, Loss: 0.0104\n",
      "Test Accuracy at Epoch 1840: 63.51%\n",
      "Classification Report at Epoch 1840:\n",
      "                  precision    recall  f1-score   support\n",
      "\n",
      "    infringement       0.66      0.53      0.59       283\n",
      "non_infringement       0.62      0.73      0.67       298\n",
      "\n",
      "        accuracy                           0.64       581\n",
      "       macro avg       0.64      0.63      0.63       581\n",
      "    weighted avg       0.64      0.64      0.63       581\n",
      "\n",
      "Epoch 1850/2000, Loss: 0.0103\n",
      "Test Accuracy at Epoch 1850: 63.68%\n",
      "Classification Report at Epoch 1850:\n",
      "                  precision    recall  f1-score   support\n",
      "\n",
      "    infringement       0.66      0.53      0.59       283\n",
      "non_infringement       0.62      0.74      0.68       298\n",
      "\n",
      "        accuracy                           0.64       581\n",
      "       macro avg       0.64      0.63      0.63       581\n",
      "    weighted avg       0.64      0.64      0.63       581\n",
      "\n"
     ]
    },
    {
     "name": "stderr",
     "output_type": "stream",
     "text": [
      "Training Epochs:  94%|█████████▎| 1873/2000 [00:19<00:01, 90.47it/s] "
     ]
    },
    {
     "name": "stdout",
     "output_type": "stream",
     "text": [
      "Epoch 1860/2000, Loss: 0.0102\n",
      "Test Accuracy at Epoch 1860: 63.68%\n",
      "Classification Report at Epoch 1860:\n",
      "                  precision    recall  f1-score   support\n",
      "\n",
      "    infringement       0.66      0.53      0.59       283\n",
      "non_infringement       0.62      0.74      0.68       298\n",
      "\n",
      "        accuracy                           0.64       581\n",
      "       macro avg       0.64      0.63      0.63       581\n",
      "    weighted avg       0.64      0.64      0.63       581\n",
      "\n",
      "Epoch 1870/2000, Loss: 0.0100\n",
      "Test Accuracy at Epoch 1870: 63.68%\n",
      "Classification Report at Epoch 1870:\n",
      "                  precision    recall  f1-score   support\n",
      "\n",
      "    infringement       0.66      0.53      0.59       283\n",
      "non_infringement       0.62      0.74      0.68       298\n",
      "\n",
      "        accuracy                           0.64       581\n",
      "       macro avg       0.64      0.63      0.63       581\n",
      "    weighted avg       0.64      0.64      0.63       581\n",
      "\n"
     ]
    },
    {
     "name": "stderr",
     "output_type": "stream",
     "text": [
      "Training Epochs:  95%|█████████▍| 1895/2000 [00:19<00:01, 98.23it/s]"
     ]
    },
    {
     "name": "stdout",
     "output_type": "stream",
     "text": [
      "Epoch 1880/2000, Loss: 0.0099\n",
      "Test Accuracy at Epoch 1880: 63.68%\n",
      "Classification Report at Epoch 1880:\n",
      "                  precision    recall  f1-score   support\n",
      "\n",
      "    infringement       0.66      0.53      0.59       283\n",
      "non_infringement       0.62      0.74      0.68       298\n",
      "\n",
      "        accuracy                           0.64       581\n",
      "       macro avg       0.64      0.63      0.63       581\n",
      "    weighted avg       0.64      0.64      0.63       581\n",
      "\n",
      "Epoch 1890/2000, Loss: 0.0098\n",
      "Test Accuracy at Epoch 1890: 63.68%\n",
      "Classification Report at Epoch 1890:\n",
      "                  precision    recall  f1-score   support\n",
      "\n",
      "    infringement       0.66      0.53      0.59       283\n",
      "non_infringement       0.62      0.74      0.68       298\n",
      "\n",
      "        accuracy                           0.64       581\n",
      "       macro avg       0.64      0.63      0.63       581\n",
      "    weighted avg       0.64      0.64      0.63       581\n",
      "\n",
      "Epoch 1900/2000, Loss: 0.0097\n",
      "Test Accuracy at Epoch 1900: 63.68%\n",
      "Classification Report at Epoch 1900:\n",
      "                  precision    recall  f1-score   support\n",
      "\n",
      "    infringement       0.66      0.53      0.59       283\n",
      "non_infringement       0.62      0.74      0.68       298\n",
      "\n",
      "        accuracy                           0.64       581\n",
      "       macro avg       0.64      0.63      0.63       581\n",
      "    weighted avg       0.64      0.64      0.63       581\n",
      "\n"
     ]
    },
    {
     "name": "stderr",
     "output_type": "stream",
     "text": [
      "Training Epochs:  96%|█████████▋| 1929/2000 [00:20<00:00, 98.97it/s]"
     ]
    },
    {
     "name": "stdout",
     "output_type": "stream",
     "text": [
      "Epoch 1910/2000, Loss: 0.0096\n",
      "Test Accuracy at Epoch 1910: 63.68%\n",
      "Classification Report at Epoch 1910:\n",
      "                  precision    recall  f1-score   support\n",
      "\n",
      "    infringement       0.66      0.53      0.59       283\n",
      "non_infringement       0.62      0.74      0.68       298\n",
      "\n",
      "        accuracy                           0.64       581\n",
      "       macro avg       0.64      0.63      0.63       581\n",
      "    weighted avg       0.64      0.64      0.63       581\n",
      "\n",
      "Epoch 1920/2000, Loss: 0.0095\n",
      "Test Accuracy at Epoch 1920: 63.68%\n",
      "Classification Report at Epoch 1920:\n",
      "                  precision    recall  f1-score   support\n",
      "\n",
      "    infringement       0.66      0.53      0.59       283\n",
      "non_infringement       0.62      0.74      0.68       298\n",
      "\n",
      "        accuracy                           0.64       581\n",
      "       macro avg       0.64      0.63      0.63       581\n",
      "    weighted avg       0.64      0.64      0.63       581\n",
      "\n",
      "Epoch 1930/2000, Loss: 0.0094\n",
      "Test Accuracy at Epoch 1930: 63.86%\n",
      "Classification Report at Epoch 1930:\n",
      "                  precision    recall  f1-score   support\n",
      "\n",
      "    infringement       0.66      0.53      0.59       283\n",
      "non_infringement       0.62      0.74      0.68       298\n",
      "\n",
      "        accuracy                           0.64       581\n",
      "       macro avg       0.64      0.64      0.63       581\n",
      "    weighted avg       0.64      0.64      0.63       581\n",
      "\n"
     ]
    },
    {
     "name": "stderr",
     "output_type": "stream",
     "text": [
      "Training Epochs:  98%|█████████▊| 1952/2000 [00:20<00:00, 95.64it/s] "
     ]
    },
    {
     "name": "stdout",
     "output_type": "stream",
     "text": [
      "Epoch 1940/2000, Loss: 0.0093\n",
      "Test Accuracy at Epoch 1940: 63.86%\n",
      "Classification Report at Epoch 1940:\n",
      "                  precision    recall  f1-score   support\n",
      "\n",
      "    infringement       0.66      0.53      0.59       283\n",
      "non_infringement       0.62      0.74      0.68       298\n",
      "\n",
      "        accuracy                           0.64       581\n",
      "       macro avg       0.64      0.64      0.63       581\n",
      "    weighted avg       0.64      0.64      0.63       581\n",
      "\n",
      "Epoch 1950/2000, Loss: 0.0092\n",
      "Test Accuracy at Epoch 1950: 63.86%\n",
      "Classification Report at Epoch 1950:\n",
      "                  precision    recall  f1-score   support\n",
      "\n",
      "    infringement       0.66      0.53      0.59       283\n",
      "non_infringement       0.62      0.74      0.68       298\n",
      "\n",
      "        accuracy                           0.64       581\n",
      "       macro avg       0.64      0.64      0.63       581\n",
      "    weighted avg       0.64      0.64      0.63       581\n",
      "\n"
     ]
    },
    {
     "name": "stderr",
     "output_type": "stream",
     "text": [
      "Training Epochs:  99%|█████████▉| 1979/2000 [00:20<00:00, 112.85it/s]"
     ]
    },
    {
     "name": "stdout",
     "output_type": "stream",
     "text": [
      "Epoch 1960/2000, Loss: 0.0091\n",
      "Test Accuracy at Epoch 1960: 63.86%\n",
      "Classification Report at Epoch 1960:\n",
      "                  precision    recall  f1-score   support\n",
      "\n",
      "    infringement       0.66      0.53      0.59       283\n",
      "non_infringement       0.62      0.74      0.68       298\n",
      "\n",
      "        accuracy                           0.64       581\n",
      "       macro avg       0.64      0.64      0.63       581\n",
      "    weighted avg       0.64      0.64      0.63       581\n",
      "\n",
      "Epoch 1970/2000, Loss: 0.0090\n",
      "Test Accuracy at Epoch 1970: 63.86%\n",
      "Classification Report at Epoch 1970:\n",
      "                  precision    recall  f1-score   support\n",
      "\n",
      "    infringement       0.66      0.53      0.59       283\n",
      "non_infringement       0.62      0.74      0.68       298\n",
      "\n",
      "        accuracy                           0.64       581\n",
      "       macro avg       0.64      0.64      0.63       581\n",
      "    weighted avg       0.64      0.64      0.63       581\n",
      "\n",
      "Epoch 1980/2000, Loss: 0.0089\n",
      "Test Accuracy at Epoch 1980: 63.86%\n",
      "Classification Report at Epoch 1980:\n",
      "                  precision    recall  f1-score   support\n",
      "\n",
      "    infringement       0.66      0.53      0.59       283\n",
      "non_infringement       0.62      0.74      0.68       298\n",
      "\n",
      "        accuracy                           0.64       581\n",
      "       macro avg       0.64      0.64      0.63       581\n",
      "    weighted avg       0.64      0.64      0.63       581\n",
      "\n"
     ]
    },
    {
     "name": "stderr",
     "output_type": "stream",
     "text": [
      "Training Epochs: 100%|██████████| 2000/2000 [00:20<00:00, 96.27it/s] "
     ]
    },
    {
     "name": "stdout",
     "output_type": "stream",
     "text": [
      "Epoch 1990/2000, Loss: 0.0088\n",
      "Test Accuracy at Epoch 1990: 63.86%\n",
      "Classification Report at Epoch 1990:\n",
      "                  precision    recall  f1-score   support\n",
      "\n",
      "    infringement       0.66      0.53      0.59       283\n",
      "non_infringement       0.62      0.74      0.68       298\n",
      "\n",
      "        accuracy                           0.64       581\n",
      "       macro avg       0.64      0.64      0.63       581\n",
      "    weighted avg       0.64      0.64      0.63       581\n",
      "\n",
      "Epoch 2000/2000, Loss: 0.0087\n",
      "Test Accuracy at Epoch 2000: 63.86%\n",
      "Classification Report at Epoch 2000:\n",
      "                  precision    recall  f1-score   support\n",
      "\n",
      "    infringement       0.66      0.53      0.59       283\n",
      "non_infringement       0.62      0.74      0.68       298\n",
      "\n",
      "        accuracy                           0.64       581\n",
      "       macro avg       0.64      0.64      0.63       581\n",
      "    weighted avg       0.64      0.64      0.63       581\n",
      "\n"
     ]
    },
    {
     "name": "stderr",
     "output_type": "stream",
     "text": [
      "\n",
      "/tmp/ipykernel_2355393/85556528.py:47: FutureWarning: You are using `torch.load` with `weights_only=False` (the current default value), which uses the default pickle module implicitly. It is possible to construct malicious pickle data which will execute arbitrary code during unpickling (See https://github.com/pytorch/pytorch/blob/main/SECURITY.md#untrusted-models for more details). In a future release, the default value for `weights_only` will be flipped to `True`. This limits the functions that could be executed during unpickling. Arbitrary objects will no longer be allowed to be loaded via this mode unless they are explicitly allowlisted by the user via `torch.serialization.add_safe_globals`. We recommend you start setting `weights_only=True` for any use case where you don't have full control of the loaded file. Please open an issue on GitHub for any issues related to this experimental feature.\n",
      "  custom_mlp.load_state_dict(torch.load(checkpoint_path))\n"
     ]
    },
    {
     "data": {
      "image/png": "[encoded data removed]",
      "text/plain": [
       "<Figure size 1000x500 with 1 Axes>"
      ]
     },
     "metadata": {},
     "output_type": "display_data"
    },
    {
     "name": "stdout",
     "output_type": "stream",
     "text": [
      "Final Model Accuracy: 64.72%\n"
     ]
    }
   ],
   "source": [
    "input_dim = X_train.shape[1]\n",
    "hidden_dim = 256 \n",
    "print(f\"Training MLP model with input_dim={input_dim} and hidden_dim={hidden_dim}\")\n",
    "\n",
    "custom_mlp, losses, best_accuracy = train_model(X_train, y_train, X_test, y_test, input_dim, hidden_dim)"
   ]
  },
  {
   "cell_type": "code",
   "execution_count": 10,
   "metadata": {},
   "outputs": [
    {
     "name": "stdout",
     "output_type": "stream",
     "text": [
      "Checkpoint saved to '/home/guangwei/LLM-COPYRIGHT/copyright_newVersion/models/train_input_reference_last_token_TSNE2_TSNE3.pth'.\n"
     ]
    }
   ],
   "source": [
    "def save_checkpoint(model, optimizer, epoch, loss, filepath):\n",
    "    checkpoint = {\n",
    "        'epoch': epoch + 1,\n",
    "        'model_state_dict': model.state_dict(),\n",
    "        'optimizer_state_dict': optimizer.state_dict(),\n",
    "        'loss': loss\n",
    "    }\n",
    "    torch.save(checkpoint, filepath)\n",
    "    print(f\"Checkpoint saved to '{filepath}'.\")\n",
    "\n",
    "save_checkpoint(custom_mlp, torch.optim.Adam(custom_mlp.parameters()), len(losses), losses[-1], checkpoint_file)"
   ]
  },
  {
   "cell_type": "code",
   "execution_count": 11,
   "metadata": {},
   "outputs": [
    {
     "name": "stdout",
     "output_type": "stream",
     "text": [
      "                  precision    recall  f1-score   support\n",
      "\n",
      "    infringement       0.64      0.62      0.63       283\n",
      "non_infringement       0.65      0.67      0.66       298\n",
      "\n",
      "        accuracy                           0.65       581\n",
      "       macro avg       0.65      0.65      0.65       581\n",
      "    weighted avg       0.65      0.65      0.65       581\n",
      "\n"
     ]
    },
    {
     "name": "stderr",
     "output_type": "stream",
     "text": [
      "/tmp/ipykernel_2355393/2137335780.py:1: UserWarning: To copy construct from a tensor, it is recommended to use sourceTensor.clone().detach() or sourceTensor.clone().detach().requires_grad_(True), rather than torch.tensor(sourceTensor).\n",
      "  y_pred_final = (torch.sigmoid(torch.tensor(custom_mlp(torch.tensor(X_test, dtype=torch.float32)))) > 0.5).float().numpy()\n"
     ]
    }
   ],
   "source": [
    "y_pred_final = (torch.sigmoid(torch.tensor(custom_mlp(torch.tensor(X_test, dtype=torch.float32)))) > 0.5).float().numpy()\n",
    "print(classification_report(y_test, y_pred_final, target_names=[\"infringement\", \"non_infringement\"]))"
   ]
  }
 ],
 "metadata": {
  "kernelspec": {
   "display_name": "sit",
   "language": "python",
   "name": "python3"
  },
  "language_info": {
   "codemirror_mode": {
    "name": "ipython",
    "version": 3
   },
   "file_extension": ".py",
   "mimetype": "text/x-python",
   "name": "python",
   "nbconvert_exporter": "python",
   "pygments_lexer": "ipython3",
   "version": "3.9.0"
  }
 },
 "nbformat": 4,
 "nbformat_minor": 2
}
