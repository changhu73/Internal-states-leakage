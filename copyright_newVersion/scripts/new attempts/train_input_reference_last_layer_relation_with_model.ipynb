{
 "cells": [
  {
   "cell_type": "code",
   "execution_count": 25,
   "metadata": {},
   "outputs": [],
   "source": [
    "# import packages & variables\n",
    "import argparse\n",
    "import torch\n",
    "import torch.nn as nn\n",
    "import numpy as np\n",
    "from sklearn.metrics import accuracy_score, classification_report\n",
    "import matplotlib.pyplot as plt\n",
    "from tqdm import tqdm\n",
    "from transformers import AutoTokenizer, AutoModelForCausalLM, AutoModel, AutoModelForSequenceClassification\n",
    "import json\n",
    "import os\n",
    "\n",
    "os.environ[\"CUDA_VISIBLE_DEVICES\"] = \"5\"\n",
    "\n",
    "# Parameters\n",
    "model_name = 'meta-llama/Meta-Llama-3.1-8B'\n",
    "non_infringement_file = '/home/guangwei/LLM-COPYRIGHT/copyright_newVersion/test_division/extra.non_infringement.json'\n",
    "infringement_file = '/home/guangwei/LLM-COPYRIGHT/copyright_newVersion/test_division/extra.infringement.json'\n",
    "checkpoint_file = '/home/guangwei/LLM-COPYRIGHT/copyright_newVersion/models/train_input_reference_last_layer_with_model.pth'\n"
   ]
  },
  {
   "cell_type": "code",
   "execution_count": 26,
   "metadata": {},
   "outputs": [],
   "source": [
    "# Define CustumMLP for internal states train\n",
    "class CustomMLP(nn.Module):\n",
    "    def __init__(self, input_dim, hidden_dim):\n",
    "        super(CustomMLP, self).__init__()\n",
    "        self.down = nn.Linear(input_dim, hidden_dim)\n",
    "        self.gate = nn.Linear(input_dim, hidden_dim)\n",
    "        self.up = nn.Linear(hidden_dim, 1)\n",
    "        self.activation = nn.SiLU()\n",
    "\n",
    "    def forward(self, x):\n",
    "        down_output = self.down(x)\n",
    "        gate_output = self.gate(x)\n",
    "        gated_output = down_output * self.activation(gate_output)\n",
    "        return self.up(gated_output)"
   ]
  },
  {
   "cell_type": "code",
   "execution_count": 27,
   "metadata": {},
   "outputs": [],
   "source": [
    "# Extract hidden states for both input and reference texts using Llama\n",
    "def extract_char(inputs, references, model, tokenizer, batch_size=4):\n",
    "    device = torch.device(\"cuda\" if torch.cuda.is_available() else \"cpu\")\n",
    "    model.to(device)\n",
    "    model = nn.DataParallel(model)\n",
    "    extract_chars = []\n",
    "\n",
    "    # Iterate through the batches of inputs and references\n",
    "    for i in tqdm(range(0, len(inputs), batch_size), desc=\"Processing data batches\"):\n",
    "        # Prepare batch for input texts\n",
    "        batch_inputs = inputs[i:i + batch_size]\n",
    "        batch_references = references[i:i + batch_size]\n",
    "        \n",
    "        # Tokenize both input and reference texts\n",
    "        inputs_combined = [f\"{input_text} [SEP] {reference_text}\" for input_text, reference_text in zip(batch_inputs, batch_references)]\n",
    "        encoded_inputs = tokenizer(inputs_combined, return_tensors=\"pt\", padding=True, truncation=True).to(device)\n",
    "        \n",
    "        with torch.no_grad():\n",
    "            # Get hidden states from the Llama model\n",
    "            outputs = model(**encoded_inputs, output_hidden_states=True)\n",
    "        \n",
    "        # Average the hidden states from the last layer for the combined input-reference representation\n",
    "        combined_hidden_states = outputs.hidden_states[-1].mean(dim=1)  # shape: (batch_size, hidden_size)\n",
    "        extract_chars.append(combined_hidden_states.cpu().numpy())\n",
    "    \n",
    "    return np.vstack(extract_chars)"
   ]
  },
  {
   "cell_type": "code",
   "execution_count": 28,
   "metadata": {},
   "outputs": [],
   "source": [
    "# Function to extract hidden states from the outputs of extract_char\n",
    "def extract_hidden_states(extract_chars, model, tokenizer, batch_size=4):\n",
    "    device = torch.device(\"cuda\" if torch.cuda.is_available() else \"cpu\")\n",
    "    model.to(device)\n",
    "    model = nn.DataParallel(model)\n",
    "    \n",
    "    hidden_states = []\n",
    "    \n",
    "    # Process the extract_chars as if they were new texts\n",
    "    for i in tqdm(range(0, len(extract_chars), batch_size), desc=\"Processing hidden states\"):\n",
    "        batch_extract_chars = extract_chars[i:i + batch_size]\n",
    "\n",
    "        # Since batch_extract_chars are already features, we can process them directly.\n",
    "        # Here, we will simply append them as hidden states since they are already in the form needed.\n",
    "        hidden_states.append(batch_extract_chars)\n",
    "\n",
    "    return np.vstack(hidden_states)"
   ]
  },
  {
   "cell_type": "code",
   "execution_count": 29,
   "metadata": {},
   "outputs": [],
   "source": [
    "# load data for infringement & non infringement\n",
    "def load_data(non_infringement_file, infringement_file):\n",
    "    with open(non_infringement_file, 'r', encoding='utf-8') as file:\n",
    "        non_infringement_json_data = json.load(file)\n",
    "\n",
    "    non_infringement_outputs = [entry['input'] for entry in non_infringement_json_data]\n",
    "    non_infringement_references = [entry['reference'] for entry in non_infringement_json_data]\n",
    "    y_non_infringement = [1] * len(non_infringement_outputs)\n",
    "\n",
    "    with open(infringement_file, 'r', encoding='utf-8') as file:\n",
    "        infringement_json_data = json.load(file)\n",
    "\n",
    "    infringement_outputs = [entry['input'] for entry in infringement_json_data]\n",
    "    infringement_references = [entry['reference'] for entry in infringement_json_data]\n",
    "    y_infringement = [0] * len(infringement_outputs)\n",
    "\n",
    "    return non_infringement_outputs, non_infringement_references, y_non_infringement, infringement_outputs, infringement_references, y_infringement"
   ]
  },
  {
   "cell_type": "code",
   "execution_count": 30,
   "metadata": {},
   "outputs": [],
   "source": [
    "# Train for best model\n",
    "def train_model(X_train, y_train, X_test, y_test, input_dim, hidden_dim, epochs=500, lr=0.001, checkpoint_path=checkpoint_file):\n",
    "    custom_mlp = CustomMLP(input_dim, hidden_dim)\n",
    "    criterion = nn.BCEWithLogitsLoss()\n",
    "    optimizer = torch.optim.Adam(custom_mlp.parameters(), lr=lr)\n",
    "\n",
    "    X_train_tensor = torch.tensor(X_train, dtype=torch.float32)\n",
    "    y_train_tensor = torch.tensor(y_train, dtype=torch.float32).unsqueeze(1)\n",
    "\n",
    "    best_accuracy = -float('inf')\n",
    "    best_model_state = None\n",
    "    best_epoch = 0\n",
    "    losses = []\n",
    "\n",
    "    for epoch in tqdm(range(epochs), desc=\"Training Epochs\"):\n",
    "        custom_mlp.train()\n",
    "        optimizer.zero_grad()\n",
    "        outputs = custom_mlp(X_train_tensor)\n",
    "        loss = criterion(outputs, y_train_tensor)\n",
    "        loss.backward()\n",
    "        optimizer.step()\n",
    "        losses.append(loss.item())\n",
    "\n",
    "        if (epoch + 1) % 10 == 0:\n",
    "            print(f\"Epoch {epoch + 1}/{epochs}, Loss: {loss.item():.4f}\")\n",
    "            \n",
    "            custom_mlp.eval()\n",
    "            X_test_tensor = torch.tensor(X_test, dtype=torch.float32)\n",
    "            with torch.no_grad():\n",
    "                y_pred_logits = custom_mlp(X_test_tensor)\n",
    "                y_pred = (torch.sigmoid(y_pred_logits) > 0.5).float().numpy()\n",
    "            \n",
    "            accuracy = accuracy_score(y_test, y_pred)\n",
    "            print(f\"Test Accuracy at Epoch {epoch + 1}: {accuracy * 100:.2f}%\")\n",
    "            \n",
    "            report = classification_report(y_test, y_pred, target_names=[\"infringement\", \"non_infringement\"])\n",
    "            print(f\"Classification Report at Epoch {epoch + 1}:\\n{report}\")\n",
    "\n",
    "            if accuracy > best_accuracy:\n",
    "                best_accuracy = accuracy\n",
    "                best_model_state = custom_mlp.state_dict()\n",
    "                best_epoch = epoch + 1\n",
    "                torch.save(best_model_state, checkpoint_path)\n",
    "                print(f\"New best model saved with accuracy {best_accuracy * 100:.2f}% at epoch {best_epoch}\")\n",
    "                print(f\"Best Classification Report at Epoch {best_epoch}:\\n{report}\")\n",
    "\n",
    "    custom_mlp.load_state_dict(torch.load(checkpoint_path))\n",
    "\n",
    "    plt.figure(figsize=(10, 5))\n",
    "    plt.plot(losses, label='Training Loss')\n",
    "    plt.xlabel('Epoch')\n",
    "    plt.ylabel('Loss')\n",
    "    plt.title('Training Loss Curve')\n",
    "    plt.legend()\n",
    "    plt.show()\n",
    "\n",
    "    print(f\"Final Model Accuracy: {best_accuracy * 100:.2f}%\")\n",
    "    \n",
    "    return custom_mlp, losses, best_accuracy"
   ]
  },
  {
   "cell_type": "code",
   "execution_count": 31,
   "metadata": {},
   "outputs": [
    {
     "name": "stderr",
     "output_type": "stream",
     "text": [
      "/home/guangwei/miniconda3/envs/zdh/lib/python3.9/site-packages/transformers/generation/configuration_utils.py:777: UserWarning: `return_dict_in_generate` is NOT set to `True`, but `output_hidden_states` is. When `return_dict_in_generate` is not `True`, `output_hidden_states` is ignored.\n",
      "  warnings.warn(\n",
      "Loading checkpoint shards: 100%|██████████| 4/4 [00:02<00:00,  1.47it/s]\n"
     ]
    }
   ],
   "source": [
    "tokenizer = AutoTokenizer.from_pretrained(model_name, model_max_length=512)\n",
    "model = AutoModelForCausalLM.from_pretrained(model_name, output_hidden_states=True)\n",
    "tokenizer.pad_token = tokenizer.eos_token\n",
    "bert_tokenizer = AutoTokenizer.from_pretrained('google-bert/bert-base-uncased')\n",
    "bert_model = AutoModel.from_pretrained('google-bert/bert-base-uncased')\n",
    "bert_tokenizer.pad_token = tokenizer.eos_token\n",
    "\n",
    "non_infringement_outputs, non_infringement_references, y_non_infringement, infringement_outputs, infringement_references, y_infringement = load_data(\n",
    "    non_infringement_file, infringement_file\n",
    ")\n",
    "\n",
    "y_non_infringement = np.array(y_non_infringement)\n",
    "y_infringement = np.array(y_infringement)\n"
   ]
  },
  {
   "cell_type": "code",
   "execution_count": 32,
   "metadata": {},
   "outputs": [
    {
     "name": "stdout",
     "output_type": "stream",
     "text": [
      "Extracting characteristics for non_infringement texts/references\n"
     ]
    },
    {
     "name": "stderr",
     "output_type": "stream",
     "text": [
      "Processing data batches: 100%|██████████| 373/373 [03:34<00:00,  1.74it/s]\n"
     ]
    },
    {
     "name": "stdout",
     "output_type": "stream",
     "text": [
      "Extracting hidden states for X_non_infringement_char\n"
     ]
    },
    {
     "name": "stderr",
     "output_type": "stream",
     "text": [
      "Processing hidden states: 100%|██████████| 373/373 [00:00<00:00, 485108.65it/s]\n"
     ]
    },
    {
     "name": "stdout",
     "output_type": "stream",
     "text": [
      "Extracting characteristics for infringement texts/references\n"
     ]
    },
    {
     "name": "stderr",
     "output_type": "stream",
     "text": [
      "Processing data batches: 100%|██████████| 354/354 [03:22<00:00,  1.74it/s]\n"
     ]
    },
    {
     "name": "stdout",
     "output_type": "stream",
     "text": [
      "Extracting hidden states for X_non_infringement_char\n"
     ]
    },
    {
     "name": "stderr",
     "output_type": "stream",
     "text": [
      "Processing hidden states: 100%|██████████| 354/354 [00:00<00:00, 370177.91it/s]\n"
     ]
    }
   ],
   "source": [
    "# print(\"Extracting hidden states for non_infringement texts...\")\n",
    "# X_non_infringement = extract_hidden_states(non_infringement_outputs, model, tokenizer)\n",
    "# print(\"Extracting reference embeddings for non_infringement texts...\")\n",
    "# reference_embeddings_non_infringement = extract_reference_embeddings(non_infringement_references, bert_model, bert_tokenizer)\n",
    "# print(\"X_non_infringement:\",X_non_infringement.shape)\n",
    "# print(\"reference_embeddings_non_infringement:\",reference_embeddings_non_infringement.shape)\n",
    "# X_non_infringement_combined = np.hstack([X_non_infringement, reference_embeddings_non_infringement])\n",
    "\n",
    "# print(\"Extracting hidden states for infringement texts...\")\n",
    "# X_infringement = extract_hidden_states(infringement_outputs, model, tokenizer)\n",
    "# print(\"Extracting reference embeddings for infringement texts...\")\n",
    "# reference_embeddings_infringement = extract_reference_embeddings(infringement_references, bert_model, bert_tokenizer)\n",
    "# X_infringement_combined = np.hstack([X_infringement, reference_embeddings_infringement])\n",
    "\n",
    "\n",
    "print(\"Extracting characteristics for non_infringement texts/references\")\n",
    "X_non_infringement_char = extract_char(non_infringement_outputs, non_infringement_references, model, tokenizer)\n",
    "print(\"Extracting hidden states for X_non_infringement_char\")\n",
    "X_non_infringement_combined = extract_hidden_states(X_non_infringement_char, model, tokenizer)\n",
    "\n",
    "print(\"Extracting characteristics for infringement texts/references\")\n",
    "X_infringement_char = extract_char(infringement_outputs, infringement_references, model, tokenizer)\n",
    "print(\"Extracting hidden states for X_non_infringement_char\")\n",
    "X_infringement_combined = extract_hidden_states(X_infringement_char, model, tokenizer)\n",
    "\n",
    "\n",
    "# print(\"Extracting characteristics for non_infringement texts/references\")\n",
    "# X_non_infringement_combined = extract_char(non_infringement_outputs, non_infringement_references, model, tokenizer)\n",
    "\n",
    "# print(\"Extracting characteristics for infringement texts/references\")\n",
    "# X_infringement_combined = extract_char(infringement_outputs, infringement_references, model, tokenizer)\n"
   ]
  },
  {
   "cell_type": "code",
   "execution_count": 33,
   "metadata": {},
   "outputs": [
    {
     "name": "stdout",
     "output_type": "stream",
     "text": [
      "Data successfully split into training and test sets.\n"
     ]
    }
   ],
   "source": [
    "split_index_non_infringement = int(0.8 * len(X_non_infringement_combined))\n",
    "X_non_infringement_train = X_non_infringement_combined[:split_index_non_infringement]\n",
    "X_non_infringement_test = X_non_infringement_combined[split_index_non_infringement:]\n",
    "y_non_infringement_train = y_non_infringement[:split_index_non_infringement]\n",
    "y_non_infringement_test = y_non_infringement[split_index_non_infringement:]\n",
    "\n",
    "split_index_infringement = int(0.8 * len(X_infringement_combined))\n",
    "X_infringement_train = X_infringement_combined[:split_index_infringement]\n",
    "X_infringement_test = X_infringement_combined[split_index_infringement:]\n",
    "y_infringement_train = y_infringement[:split_index_infringement]\n",
    "y_infringement_test = y_infringement[split_index_infringement:]\n",
    "\n",
    "X_train = np.vstack((X_non_infringement_train, X_infringement_train))\n",
    "X_test = np.vstack((X_non_infringement_test, X_infringement_test))\n",
    "y_train = np.concatenate((y_non_infringement_train, y_infringement_train))\n",
    "y_test = np.concatenate((y_non_infringement_test, y_infringement_test))\n",
    "\n",
    "print(\"Data successfully split into training and test sets.\")"
   ]
  },
  {
   "cell_type": "code",
   "execution_count": 34,
   "metadata": {},
   "outputs": [
    {
     "name": "stdout",
     "output_type": "stream",
     "text": [
      "Training MLP model with input_dim=4096 and hidden_dim=256\n"
     ]
    },
    {
     "name": "stderr",
     "output_type": "stream",
     "text": [
      "Training Epochs:   0%|          | 0/500 [00:00<?, ?it/s]"
     ]
    },
    {
     "name": "stderr",
     "output_type": "stream",
     "text": [
      "Training Epochs:   3%|▎         | 13/500 [00:00<00:22, 21.75it/s]"
     ]
    },
    {
     "name": "stdout",
     "output_type": "stream",
     "text": [
      "Epoch 10/500, Loss: 0.6715\n",
      "Test Accuracy at Epoch 10: 39.07%\n",
      "Classification Report at Epoch 10:\n",
      "                  precision    recall  f1-score   support\n",
      "\n",
      "    infringement       0.37      0.37      0.37       283\n",
      "non_infringement       0.41      0.41      0.41       298\n",
      "\n",
      "        accuracy                           0.39       581\n",
      "       macro avg       0.39      0.39      0.39       581\n",
      "    weighted avg       0.39      0.39      0.39       581\n",
      "\n",
      "New best model saved with accuracy 39.07% at epoch 10\n",
      "Best Classification Report at Epoch 10:\n",
      "                  precision    recall  f1-score   support\n",
      "\n",
      "    infringement       0.37      0.37      0.37       283\n",
      "non_infringement       0.41      0.41      0.41       298\n",
      "\n",
      "        accuracy                           0.39       581\n",
      "       macro avg       0.39      0.39      0.39       581\n",
      "    weighted avg       0.39      0.39      0.39       581\n",
      "\n"
     ]
    },
    {
     "name": "stderr",
     "output_type": "stream",
     "text": [
      "Training Epochs:   4%|▍         | 22/500 [00:01<00:21, 22.47it/s]"
     ]
    },
    {
     "name": "stdout",
     "output_type": "stream",
     "text": [
      "Epoch 20/500, Loss: 0.5766\n",
      "Test Accuracy at Epoch 20: 59.72%\n",
      "Classification Report at Epoch 20:\n",
      "                  precision    recall  f1-score   support\n",
      "\n",
      "    infringement       0.61      0.47      0.53       283\n",
      "non_infringement       0.59      0.72      0.65       298\n",
      "\n",
      "        accuracy                           0.60       581\n",
      "       macro avg       0.60      0.59      0.59       581\n",
      "    weighted avg       0.60      0.60      0.59       581\n",
      "\n",
      "New best model saved with accuracy 59.72% at epoch 20\n",
      "Best Classification Report at Epoch 20:\n",
      "                  precision    recall  f1-score   support\n",
      "\n",
      "    infringement       0.61      0.47      0.53       283\n",
      "non_infringement       0.59      0.72      0.65       298\n",
      "\n",
      "        accuracy                           0.60       581\n",
      "       macro avg       0.60      0.59      0.59       581\n",
      "    weighted avg       0.60      0.60      0.59       581\n",
      "\n"
     ]
    },
    {
     "name": "stderr",
     "output_type": "stream",
     "text": [
      "Training Epochs:   7%|▋         | 34/500 [00:01<00:18, 24.91it/s]"
     ]
    },
    {
     "name": "stdout",
     "output_type": "stream",
     "text": [
      "Epoch 30/500, Loss: 0.4813\n",
      "Test Accuracy at Epoch 30: 65.92%\n",
      "Classification Report at Epoch 30:\n",
      "                  precision    recall  f1-score   support\n",
      "\n",
      "    infringement       0.66      0.62      0.64       283\n",
      "non_infringement       0.66      0.69      0.68       298\n",
      "\n",
      "        accuracy                           0.66       581\n",
      "       macro avg       0.66      0.66      0.66       581\n",
      "    weighted avg       0.66      0.66      0.66       581\n",
      "\n",
      "New best model saved with accuracy 65.92% at epoch 30\n",
      "Best Classification Report at Epoch 30:\n",
      "                  precision    recall  f1-score   support\n",
      "\n",
      "    infringement       0.66      0.62      0.64       283\n",
      "non_infringement       0.66      0.69      0.68       298\n",
      "\n",
      "        accuracy                           0.66       581\n",
      "       macro avg       0.66      0.66      0.66       581\n",
      "    weighted avg       0.66      0.66      0.66       581\n",
      "\n"
     ]
    },
    {
     "name": "stderr",
     "output_type": "stream",
     "text": [
      "Training Epochs:   9%|▉         | 45/500 [00:01<00:17, 26.36it/s]"
     ]
    },
    {
     "name": "stdout",
     "output_type": "stream",
     "text": [
      "Epoch 40/500, Loss: 0.4057\n",
      "Test Accuracy at Epoch 40: 71.26%\n",
      "Classification Report at Epoch 40:\n",
      "                  precision    recall  f1-score   support\n",
      "\n",
      "    infringement       0.78      0.57      0.66       283\n",
      "non_infringement       0.68      0.85      0.75       298\n",
      "\n",
      "        accuracy                           0.71       581\n",
      "       macro avg       0.73      0.71      0.71       581\n",
      "    weighted avg       0.73      0.71      0.71       581\n",
      "\n",
      "New best model saved with accuracy 71.26% at epoch 40\n",
      "Best Classification Report at Epoch 40:\n",
      "                  precision    recall  f1-score   support\n",
      "\n",
      "    infringement       0.78      0.57      0.66       283\n",
      "non_infringement       0.68      0.85      0.75       298\n",
      "\n",
      "        accuracy                           0.71       581\n",
      "       macro avg       0.73      0.71      0.71       581\n",
      "    weighted avg       0.73      0.71      0.71       581\n",
      "\n"
     ]
    },
    {
     "name": "stderr",
     "output_type": "stream",
     "text": [
      "Training Epochs:  11%|█         | 55/500 [00:02<00:16, 26.55it/s]"
     ]
    },
    {
     "name": "stdout",
     "output_type": "stream",
     "text": [
      "Epoch 50/500, Loss: 0.3485\n",
      "Test Accuracy at Epoch 50: 71.43%\n",
      "Classification Report at Epoch 50:\n",
      "                  precision    recall  f1-score   support\n",
      "\n",
      "    infringement       0.77      0.59      0.67       283\n",
      "non_infringement       0.68      0.84      0.75       298\n",
      "\n",
      "        accuracy                           0.71       581\n",
      "       macro avg       0.73      0.71      0.71       581\n",
      "    weighted avg       0.73      0.71      0.71       581\n",
      "\n",
      "New best model saved with accuracy 71.43% at epoch 50\n",
      "Best Classification Report at Epoch 50:\n",
      "                  precision    recall  f1-score   support\n",
      "\n",
      "    infringement       0.77      0.59      0.67       283\n",
      "non_infringement       0.68      0.84      0.75       298\n",
      "\n",
      "        accuracy                           0.71       581\n",
      "       macro avg       0.73      0.71      0.71       581\n",
      "    weighted avg       0.73      0.71      0.71       581\n",
      "\n"
     ]
    },
    {
     "name": "stderr",
     "output_type": "stream",
     "text": [
      "Training Epochs:  13%|█▎        | 65/500 [00:02<00:16, 26.54it/s]"
     ]
    },
    {
     "name": "stdout",
     "output_type": "stream",
     "text": [
      "Epoch 60/500, Loss: 0.3007\n",
      "Test Accuracy at Epoch 60: 70.57%\n",
      "Classification Report at Epoch 60:\n",
      "                  precision    recall  f1-score   support\n",
      "\n",
      "    infringement       0.78      0.55      0.65       283\n",
      "non_infringement       0.67      0.85      0.75       298\n",
      "\n",
      "        accuracy                           0.71       581\n",
      "       macro avg       0.72      0.70      0.70       581\n",
      "    weighted avg       0.72      0.71      0.70       581\n",
      "\n"
     ]
    },
    {
     "name": "stderr",
     "output_type": "stream",
     "text": [
      "Training Epochs:  15%|█▍        | 74/500 [00:03<00:16, 25.34it/s]"
     ]
    },
    {
     "name": "stdout",
     "output_type": "stream",
     "text": [
      "Epoch 70/500, Loss: 0.2650\n",
      "Test Accuracy at Epoch 70: 72.12%\n",
      "Classification Report at Epoch 70:\n",
      "                  precision    recall  f1-score   support\n",
      "\n",
      "    infringement       0.80      0.57      0.66       283\n",
      "non_infringement       0.68      0.87      0.76       298\n",
      "\n",
      "        accuracy                           0.72       581\n",
      "       macro avg       0.74      0.72      0.71       581\n",
      "    weighted avg       0.74      0.72      0.71       581\n",
      "\n",
      "New best model saved with accuracy 72.12% at epoch 70\n",
      "Best Classification Report at Epoch 70:\n",
      "                  precision    recall  f1-score   support\n",
      "\n",
      "    infringement       0.80      0.57      0.66       283\n",
      "non_infringement       0.68      0.87      0.76       298\n",
      "\n",
      "        accuracy                           0.72       581\n",
      "       macro avg       0.74      0.72      0.71       581\n",
      "    weighted avg       0.74      0.72      0.71       581\n",
      "\n"
     ]
    },
    {
     "name": "stderr",
     "output_type": "stream",
     "text": [
      "Training Epochs:  17%|█▋        | 83/500 [00:03<00:17, 23.58it/s]"
     ]
    },
    {
     "name": "stdout",
     "output_type": "stream",
     "text": [
      "Epoch 80/500, Loss: 0.2459\n",
      "Test Accuracy at Epoch 80: 72.98%\n",
      "Classification Report at Epoch 80:\n",
      "                  precision    recall  f1-score   support\n",
      "\n",
      "    infringement       0.85      0.54      0.66       283\n",
      "non_infringement       0.68      0.91      0.77       298\n",
      "\n",
      "        accuracy                           0.73       581\n",
      "       macro avg       0.76      0.73      0.72       581\n",
      "    weighted avg       0.76      0.73      0.72       581\n",
      "\n",
      "New best model saved with accuracy 72.98% at epoch 80\n",
      "Best Classification Report at Epoch 80:\n",
      "                  precision    recall  f1-score   support\n",
      "\n",
      "    infringement       0.85      0.54      0.66       283\n",
      "non_infringement       0.68      0.91      0.77       298\n",
      "\n",
      "        accuracy                           0.73       581\n",
      "       macro avg       0.76      0.73      0.72       581\n",
      "    weighted avg       0.76      0.73      0.72       581\n",
      "\n"
     ]
    },
    {
     "name": "stderr",
     "output_type": "stream",
     "text": [
      "Training Epochs:  19%|█▊        | 93/500 [00:03<00:16, 24.49it/s]"
     ]
    },
    {
     "name": "stdout",
     "output_type": "stream",
     "text": [
      "Epoch 90/500, Loss: 0.2381\n",
      "Test Accuracy at Epoch 90: 71.26%\n",
      "Classification Report at Epoch 90:\n",
      "                  precision    recall  f1-score   support\n",
      "\n",
      "    infringement       0.85      0.49      0.63       283\n",
      "non_infringement       0.66      0.92      0.77       298\n",
      "\n",
      "        accuracy                           0.71       581\n",
      "       macro avg       0.76      0.71      0.70       581\n",
      "    weighted avg       0.75      0.71      0.70       581\n",
      "\n"
     ]
    },
    {
     "name": "stderr",
     "output_type": "stream",
     "text": [
      "Training Epochs:  20%|██        | 102/500 [00:04<00:16, 24.79it/s]"
     ]
    },
    {
     "name": "stdout",
     "output_type": "stream",
     "text": [
      "Epoch 100/500, Loss: 0.2293\n",
      "Test Accuracy at Epoch 100: 71.26%\n",
      "Classification Report at Epoch 100:\n",
      "                  precision    recall  f1-score   support\n",
      "\n",
      "    infringement       0.88      0.48      0.62       283\n",
      "non_infringement       0.65      0.94      0.77       298\n",
      "\n",
      "        accuracy                           0.71       581\n",
      "       macro avg       0.77      0.71      0.69       581\n",
      "    weighted avg       0.76      0.71      0.70       581\n",
      "\n"
     ]
    },
    {
     "name": "stderr",
     "output_type": "stream",
     "text": [
      "Training Epochs:  23%|██▎       | 115/500 [00:04<00:15, 25.66it/s]"
     ]
    },
    {
     "name": "stdout",
     "output_type": "stream",
     "text": [
      "Epoch 110/500, Loss: 0.2212\n",
      "Test Accuracy at Epoch 110: 71.26%\n",
      "Classification Report at Epoch 110:\n",
      "                  precision    recall  f1-score   support\n",
      "\n",
      "    infringement       0.87      0.48      0.62       283\n",
      "non_infringement       0.65      0.93      0.77       298\n",
      "\n",
      "        accuracy                           0.71       581\n",
      "       macro avg       0.76      0.71      0.69       581\n",
      "    weighted avg       0.76      0.71      0.70       581\n",
      "\n"
     ]
    },
    {
     "name": "stderr",
     "output_type": "stream",
     "text": [
      "Training Epochs:  25%|██▍       | 124/500 [00:05<00:14, 25.85it/s]"
     ]
    },
    {
     "name": "stdout",
     "output_type": "stream",
     "text": [
      "Epoch 120/500, Loss: 0.2196\n",
      "Test Accuracy at Epoch 120: 71.43%\n",
      "Classification Report at Epoch 120:\n",
      "                  precision    recall  f1-score   support\n",
      "\n",
      "    infringement       0.84      0.51      0.64       283\n",
      "non_infringement       0.66      0.91      0.76       298\n",
      "\n",
      "        accuracy                           0.71       581\n",
      "       macro avg       0.75      0.71      0.70       581\n",
      "    weighted avg       0.75      0.71      0.70       581\n",
      "\n"
     ]
    },
    {
     "name": "stderr",
     "output_type": "stream",
     "text": [
      "Training Epochs:  27%|██▋       | 133/500 [00:05<00:14, 26.01it/s]"
     ]
    },
    {
     "name": "stdout",
     "output_type": "stream",
     "text": [
      "Epoch 130/500, Loss: 0.2198\n",
      "Test Accuracy at Epoch 130: 72.46%\n",
      "Classification Report at Epoch 130:\n",
      "                  precision    recall  f1-score   support\n",
      "\n",
      "    infringement       0.84      0.54      0.66       283\n",
      "non_infringement       0.67      0.90      0.77       298\n",
      "\n",
      "        accuracy                           0.72       581\n",
      "       macro avg       0.76      0.72      0.71       581\n",
      "    weighted avg       0.75      0.72      0.71       581\n",
      "\n"
     ]
    },
    {
     "name": "stderr",
     "output_type": "stream",
     "text": [
      "Training Epochs:  29%|██▉       | 145/500 [00:05<00:13, 26.40it/s]"
     ]
    },
    {
     "name": "stdout",
     "output_type": "stream",
     "text": [
      "Epoch 140/500, Loss: 0.2147\n",
      "Test Accuracy at Epoch 140: 71.60%\n",
      "Classification Report at Epoch 140:\n",
      "                  precision    recall  f1-score   support\n",
      "\n",
      "    infringement       0.84      0.51      0.64       283\n",
      "non_infringement       0.66      0.91      0.77       298\n",
      "\n",
      "        accuracy                           0.72       581\n",
      "       macro avg       0.75      0.71      0.70       581\n",
      "    weighted avg       0.75      0.72      0.70       581\n",
      "\n"
     ]
    },
    {
     "name": "stderr",
     "output_type": "stream",
     "text": [
      "Training Epochs:  31%|███       | 155/500 [00:06<00:13, 26.27it/s]"
     ]
    },
    {
     "name": "stdout",
     "output_type": "stream",
     "text": [
      "Epoch 150/500, Loss: 0.2114\n",
      "Test Accuracy at Epoch 150: 71.94%\n",
      "Classification Report at Epoch 150:\n",
      "                  precision    recall  f1-score   support\n",
      "\n",
      "    infringement       0.84      0.52      0.64       283\n",
      "non_infringement       0.67      0.91      0.77       298\n",
      "\n",
      "        accuracy                           0.72       581\n",
      "       macro avg       0.75      0.71      0.71       581\n",
      "    weighted avg       0.75      0.72      0.71       581\n",
      "\n"
     ]
    },
    {
     "name": "stderr",
     "output_type": "stream",
     "text": [
      "Training Epochs:  33%|███▎      | 164/500 [00:06<00:13, 25.59it/s]"
     ]
    },
    {
     "name": "stdout",
     "output_type": "stream",
     "text": [
      "Epoch 160/500, Loss: 0.2085\n",
      "Test Accuracy at Epoch 160: 71.08%\n",
      "Classification Report at Epoch 160:\n",
      "                  precision    recall  f1-score   support\n",
      "\n",
      "    infringement       0.84      0.50      0.63       283\n",
      "non_infringement       0.66      0.91      0.76       298\n",
      "\n",
      "        accuracy                           0.71       581\n",
      "       macro avg       0.75      0.71      0.70       581\n",
      "    weighted avg       0.75      0.71      0.70       581\n",
      "\n"
     ]
    },
    {
     "name": "stderr",
     "output_type": "stream",
     "text": [
      "Training Epochs:  35%|███▍      | 173/500 [00:07<00:12, 26.08it/s]"
     ]
    },
    {
     "name": "stdout",
     "output_type": "stream",
     "text": [
      "Epoch 170/500, Loss: 0.2145\n",
      "Test Accuracy at Epoch 170: 68.67%\n",
      "Classification Report at Epoch 170:\n",
      "                  precision    recall  f1-score   support\n",
      "\n",
      "    infringement       0.85      0.43      0.57       283\n",
      "non_infringement       0.63      0.93      0.75       298\n",
      "\n",
      "        accuracy                           0.69       581\n",
      "       macro avg       0.74      0.68      0.66       581\n",
      "    weighted avg       0.74      0.69      0.67       581\n",
      "\n"
     ]
    },
    {
     "name": "stderr",
     "output_type": "stream",
     "text": [
      "Training Epochs:  36%|███▋      | 182/500 [00:07<00:12, 25.60it/s]"
     ]
    },
    {
     "name": "stdout",
     "output_type": "stream",
     "text": [
      "Epoch 180/500, Loss: 0.2071\n",
      "Test Accuracy at Epoch 180: 70.22%\n",
      "Classification Report at Epoch 180:\n",
      "                  precision    recall  f1-score   support\n",
      "\n",
      "    infringement       0.84      0.48      0.61       283\n",
      "non_infringement       0.65      0.92      0.76       298\n",
      "\n",
      "        accuracy                           0.70       581\n",
      "       macro avg       0.75      0.70      0.68       581\n",
      "    weighted avg       0.74      0.70      0.69       581\n",
      "\n"
     ]
    },
    {
     "name": "stderr",
     "output_type": "stream",
     "text": [
      "Training Epochs:  38%|███▊      | 192/500 [00:07<00:12, 25.32it/s]"
     ]
    },
    {
     "name": "stdout",
     "output_type": "stream",
     "text": [
      "Epoch 190/500, Loss: 0.2044\n",
      "Test Accuracy at Epoch 190: 71.60%\n",
      "Classification Report at Epoch 190:\n",
      "                  precision    recall  f1-score   support\n",
      "\n",
      "    infringement       0.84      0.51      0.64       283\n",
      "non_infringement       0.66      0.91      0.77       298\n",
      "\n",
      "        accuracy                           0.72       581\n",
      "       macro avg       0.75      0.71      0.70       581\n",
      "    weighted avg       0.75      0.72      0.70       581\n",
      "\n"
     ]
    },
    {
     "name": "stderr",
     "output_type": "stream",
     "text": [
      "Training Epochs:  40%|████      | 202/500 [00:08<00:11, 25.53it/s]"
     ]
    },
    {
     "name": "stdout",
     "output_type": "stream",
     "text": [
      "Epoch 200/500, Loss: 0.2049\n",
      "Test Accuracy at Epoch 200: 70.40%\n",
      "Classification Report at Epoch 200:\n",
      "                  precision    recall  f1-score   support\n",
      "\n",
      "    infringement       0.85      0.48      0.61       283\n",
      "non_infringement       0.65      0.92      0.76       298\n",
      "\n",
      "        accuracy                           0.70       581\n",
      "       macro avg       0.75      0.70      0.69       581\n",
      "    weighted avg       0.75      0.70      0.69       581\n",
      "\n"
     ]
    },
    {
     "name": "stderr",
     "output_type": "stream",
     "text": [
      "Training Epochs:  42%|████▏     | 212/500 [00:08<00:11, 25.04it/s]"
     ]
    },
    {
     "name": "stdout",
     "output_type": "stream",
     "text": [
      "Epoch 210/500, Loss: 0.2127\n",
      "Test Accuracy at Epoch 210: 71.26%\n",
      "Classification Report at Epoch 210:\n",
      "                  precision    recall  f1-score   support\n",
      "\n",
      "    infringement       0.83      0.51      0.63       283\n",
      "non_infringement       0.66      0.90      0.76       298\n",
      "\n",
      "        accuracy                           0.71       581\n",
      "       macro avg       0.75      0.71      0.70       581\n",
      "    weighted avg       0.74      0.71      0.70       581\n",
      "\n"
     ]
    },
    {
     "name": "stderr",
     "output_type": "stream",
     "text": [
      "Training Epochs:  44%|████▍     | 222/500 [00:09<00:10, 25.83it/s]"
     ]
    },
    {
     "name": "stdout",
     "output_type": "stream",
     "text": [
      "Epoch 220/500, Loss: 0.2167\n",
      "Test Accuracy at Epoch 220: 71.77%\n",
      "Classification Report at Epoch 220:\n",
      "                  precision    recall  f1-score   support\n",
      "\n",
      "    infringement       0.84      0.52      0.64       283\n",
      "non_infringement       0.67      0.90      0.77       298\n",
      "\n",
      "        accuracy                           0.72       581\n",
      "       macro avg       0.75      0.71      0.70       581\n",
      "    weighted avg       0.75      0.72      0.71       581\n",
      "\n"
     ]
    },
    {
     "name": "stderr",
     "output_type": "stream",
     "text": [
      "Training Epochs:  46%|████▋     | 232/500 [00:09<00:10, 25.59it/s]"
     ]
    },
    {
     "name": "stdout",
     "output_type": "stream",
     "text": [
      "Epoch 230/500, Loss: 0.2004\n",
      "Test Accuracy at Epoch 230: 70.57%\n",
      "Classification Report at Epoch 230:\n",
      "                  precision    recall  f1-score   support\n",
      "\n",
      "    infringement       0.85      0.48      0.61       283\n",
      "non_infringement       0.65      0.92      0.76       298\n",
      "\n",
      "        accuracy                           0.71       581\n",
      "       macro avg       0.75      0.70      0.69       581\n",
      "    weighted avg       0.75      0.71      0.69       581\n",
      "\n"
     ]
    },
    {
     "name": "stderr",
     "output_type": "stream",
     "text": [
      "Training Epochs:  48%|████▊     | 242/500 [00:09<00:10, 25.54it/s]"
     ]
    },
    {
     "name": "stdout",
     "output_type": "stream",
     "text": [
      "Epoch 240/500, Loss: 0.1984\n",
      "Test Accuracy at Epoch 240: 70.05%\n",
      "Classification Report at Epoch 240:\n",
      "                  precision    recall  f1-score   support\n",
      "\n",
      "    infringement       0.85      0.47      0.60       283\n",
      "non_infringement       0.65      0.92      0.76       298\n",
      "\n",
      "        accuracy                           0.70       581\n",
      "       macro avg       0.75      0.69      0.68       581\n",
      "    weighted avg       0.75      0.70      0.68       581\n",
      "\n"
     ]
    },
    {
     "name": "stderr",
     "output_type": "stream",
     "text": [
      "Training Epochs:  51%|█████     | 253/500 [00:10<00:09, 25.25it/s]"
     ]
    },
    {
     "name": "stdout",
     "output_type": "stream",
     "text": [
      "Epoch 250/500, Loss: 0.1978\n",
      "Test Accuracy at Epoch 250: 70.40%\n",
      "Classification Report at Epoch 250:\n",
      "                  precision    recall  f1-score   support\n",
      "\n",
      "    infringement       0.85      0.48      0.61       283\n",
      "non_infringement       0.65      0.92      0.76       298\n",
      "\n",
      "        accuracy                           0.70       581\n",
      "       macro avg       0.75      0.70      0.69       581\n",
      "    weighted avg       0.75      0.70      0.69       581\n",
      "\n"
     ]
    },
    {
     "name": "stderr",
     "output_type": "stream",
     "text": [
      "Training Epochs:  53%|█████▎    | 263/500 [00:10<00:09, 25.32it/s]"
     ]
    },
    {
     "name": "stdout",
     "output_type": "stream",
     "text": [
      "Epoch 260/500, Loss: 0.1955\n",
      "Test Accuracy at Epoch 260: 70.05%\n",
      "Classification Report at Epoch 260:\n",
      "                  precision    recall  f1-score   support\n",
      "\n",
      "    infringement       0.83      0.48      0.61       283\n",
      "non_infringement       0.65      0.91      0.76       298\n",
      "\n",
      "        accuracy                           0.70       581\n",
      "       macro avg       0.74      0.70      0.68       581\n",
      "    weighted avg       0.74      0.70      0.69       581\n",
      "\n"
     ]
    },
    {
     "name": "stderr",
     "output_type": "stream",
     "text": [
      "Training Epochs:  55%|█████▍    | 274/500 [00:11<00:08, 25.99it/s]"
     ]
    },
    {
     "name": "stdout",
     "output_type": "stream",
     "text": [
      "Epoch 270/500, Loss: 0.1994\n",
      "Test Accuracy at Epoch 270: 70.05%\n",
      "Classification Report at Epoch 270:\n",
      "                  precision    recall  f1-score   support\n",
      "\n",
      "    infringement       0.85      0.47      0.60       283\n",
      "non_infringement       0.65      0.92      0.76       298\n",
      "\n",
      "        accuracy                           0.70       581\n",
      "       macro avg       0.75      0.69      0.68       581\n",
      "    weighted avg       0.75      0.70      0.68       581\n",
      "\n"
     ]
    },
    {
     "name": "stderr",
     "output_type": "stream",
     "text": [
      "Training Epochs:  57%|█████▋    | 284/500 [00:11<00:08, 25.69it/s]"
     ]
    },
    {
     "name": "stdout",
     "output_type": "stream",
     "text": [
      "Epoch 280/500, Loss: 0.2021\n",
      "Test Accuracy at Epoch 280: 70.57%\n",
      "Classification Report at Epoch 280:\n",
      "                  precision    recall  f1-score   support\n",
      "\n",
      "    infringement       0.80      0.52      0.63       283\n",
      "non_infringement       0.66      0.88      0.75       298\n",
      "\n",
      "        accuracy                           0.71       581\n",
      "       macro avg       0.73      0.70      0.69       581\n",
      "    weighted avg       0.73      0.71      0.70       581\n",
      "\n"
     ]
    },
    {
     "name": "stderr",
     "output_type": "stream",
     "text": [
      "Training Epochs:  59%|█████▉    | 294/500 [00:11<00:08, 25.26it/s]"
     ]
    },
    {
     "name": "stdout",
     "output_type": "stream",
     "text": [
      "Epoch 290/500, Loss: 0.1953\n",
      "Test Accuracy at Epoch 290: 70.91%\n",
      "Classification Report at Epoch 290:\n",
      "                  precision    recall  f1-score   support\n",
      "\n",
      "    infringement       0.81      0.53      0.64       283\n",
      "non_infringement       0.66      0.88      0.76       298\n",
      "\n",
      "        accuracy                           0.71       581\n",
      "       macro avg       0.74      0.70      0.70       581\n",
      "    weighted avg       0.73      0.71      0.70       581\n",
      "\n"
     ]
    },
    {
     "name": "stderr",
     "output_type": "stream",
     "text": [
      "Training Epochs:  61%|██████    | 305/500 [00:12<00:07, 25.59it/s]"
     ]
    },
    {
     "name": "stdout",
     "output_type": "stream",
     "text": [
      "Epoch 300/500, Loss: 0.1977\n",
      "Test Accuracy at Epoch 300: 71.60%\n",
      "Classification Report at Epoch 300:\n",
      "                  precision    recall  f1-score   support\n",
      "\n",
      "    infringement       0.85      0.51      0.64       283\n",
      "non_infringement       0.66      0.91      0.77       298\n",
      "\n",
      "        accuracy                           0.72       581\n",
      "       macro avg       0.75      0.71      0.70       581\n",
      "    weighted avg       0.75      0.72      0.70       581\n",
      "\n"
     ]
    },
    {
     "name": "stderr",
     "output_type": "stream",
     "text": [
      "Training Epochs:  62%|██████▏   | 312/500 [00:12<00:07, 24.62it/s]"
     ]
    },
    {
     "name": "stdout",
     "output_type": "stream",
     "text": [
      "Epoch 310/500, Loss: 0.1917\n",
      "Test Accuracy at Epoch 310: 69.19%\n",
      "Classification Report at Epoch 310:\n",
      "                  precision    recall  f1-score   support\n",
      "\n",
      "    infringement       0.81      0.48      0.60       283\n",
      "non_infringement       0.64      0.90      0.75       298\n",
      "\n",
      "        accuracy                           0.69       581\n",
      "       macro avg       0.73      0.69      0.68       581\n",
      "    weighted avg       0.73      0.69      0.68       581\n",
      "\n"
     ]
    },
    {
     "name": "stderr",
     "output_type": "stream",
     "text": [
      "Training Epochs:  64%|██████▍   | 322/500 [00:12<00:07, 24.50it/s]"
     ]
    },
    {
     "name": "stdout",
     "output_type": "stream",
     "text": [
      "Epoch 320/500, Loss: 0.1902\n",
      "Test Accuracy at Epoch 320: 70.05%\n",
      "Classification Report at Epoch 320:\n",
      "                  precision    recall  f1-score   support\n",
      "\n",
      "    infringement       0.82      0.49      0.62       283\n",
      "non_infringement       0.65      0.90      0.75       298\n",
      "\n",
      "        accuracy                           0.70       581\n",
      "       macro avg       0.74      0.70      0.68       581\n",
      "    weighted avg       0.73      0.70      0.69       581\n",
      "\n"
     ]
    },
    {
     "name": "stderr",
     "output_type": "stream",
     "text": [
      "Training Epochs:  67%|██████▋   | 334/500 [00:13<00:06, 24.85it/s]"
     ]
    },
    {
     "name": "stdout",
     "output_type": "stream",
     "text": [
      "Epoch 330/500, Loss: 0.1890\n",
      "Test Accuracy at Epoch 330: 69.54%\n",
      "Classification Report at Epoch 330:\n",
      "                  precision    recall  f1-score   support\n",
      "\n",
      "    infringement       0.81      0.49      0.61       283\n",
      "non_infringement       0.65      0.89      0.75       298\n",
      "\n",
      "        accuracy                           0.70       581\n",
      "       macro avg       0.73      0.69      0.68       581\n",
      "    weighted avg       0.73      0.70      0.68       581\n",
      "\n"
     ]
    },
    {
     "name": "stderr",
     "output_type": "stream",
     "text": [
      "Training Epochs:  69%|██████▊   | 343/500 [00:13<00:06, 24.88it/s]"
     ]
    },
    {
     "name": "stdout",
     "output_type": "stream",
     "text": [
      "Epoch 340/500, Loss: 0.1881\n",
      "Test Accuracy at Epoch 340: 68.67%\n",
      "Classification Report at Epoch 340:\n",
      "                  precision    recall  f1-score   support\n",
      "\n",
      "    infringement       0.79      0.49      0.60       283\n",
      "non_infringement       0.64      0.87      0.74       298\n",
      "\n",
      "        accuracy                           0.69       581\n",
      "       macro avg       0.71      0.68      0.67       581\n",
      "    weighted avg       0.71      0.69      0.67       581\n",
      "\n"
     ]
    },
    {
     "name": "stderr",
     "output_type": "stream",
     "text": [
      "Training Epochs:  70%|███████   | 352/500 [00:14<00:05, 24.85it/s]"
     ]
    },
    {
     "name": "stdout",
     "output_type": "stream",
     "text": [
      "Epoch 350/500, Loss: 0.2066\n",
      "Test Accuracy at Epoch 350: 69.71%\n",
      "Classification Report at Epoch 350:\n",
      "                  precision    recall  f1-score   support\n",
      "\n",
      "    infringement       0.81      0.49      0.61       283\n",
      "non_infringement       0.65      0.89      0.75       298\n",
      "\n",
      "        accuracy                           0.70       581\n",
      "       macro avg       0.73      0.69      0.68       581\n",
      "    weighted avg       0.73      0.70      0.68       581\n",
      "\n"
     ]
    },
    {
     "name": "stderr",
     "output_type": "stream",
     "text": [
      "Training Epochs:  72%|███████▏  | 361/500 [00:14<00:05, 23.29it/s]"
     ]
    },
    {
     "name": "stdout",
     "output_type": "stream",
     "text": [
      "Epoch 360/500, Loss: 0.1952\n",
      "Test Accuracy at Epoch 360: 69.71%\n",
      "Classification Report at Epoch 360:\n",
      "                  precision    recall  f1-score   support\n",
      "\n",
      "    infringement       0.79      0.52      0.62       283\n",
      "non_infringement       0.65      0.87      0.75       298\n",
      "\n",
      "        accuracy                           0.70       581\n",
      "       macro avg       0.72      0.69      0.69       581\n",
      "    weighted avg       0.72      0.70      0.69       581\n",
      "\n"
     ]
    },
    {
     "name": "stderr",
     "output_type": "stream",
     "text": [
      "Training Epochs:  75%|███████▍  | 373/500 [00:14<00:05, 24.49it/s]"
     ]
    },
    {
     "name": "stdout",
     "output_type": "stream",
     "text": [
      "Epoch 370/500, Loss: 0.1887\n",
      "Test Accuracy at Epoch 370: 69.36%\n",
      "Classification Report at Epoch 370:\n",
      "                  precision    recall  f1-score   support\n",
      "\n",
      "    infringement       0.81      0.48      0.61       283\n",
      "non_infringement       0.65      0.89      0.75       298\n",
      "\n",
      "        accuracy                           0.69       581\n",
      "       macro avg       0.73      0.69      0.68       581\n",
      "    weighted avg       0.73      0.69      0.68       581\n",
      "\n"
     ]
    },
    {
     "name": "stderr",
     "output_type": "stream",
     "text": [
      "Training Epochs:  76%|███████▋  | 382/500 [00:15<00:04, 24.09it/s]"
     ]
    },
    {
     "name": "stdout",
     "output_type": "stream",
     "text": [
      "Epoch 380/500, Loss: 0.1875\n",
      "Test Accuracy at Epoch 380: 69.19%\n",
      "Classification Report at Epoch 380:\n",
      "                  precision    recall  f1-score   support\n",
      "\n",
      "    infringement       0.80      0.49      0.61       283\n",
      "non_infringement       0.65      0.89      0.75       298\n",
      "\n",
      "        accuracy                           0.69       581\n",
      "       macro avg       0.72      0.69      0.68       581\n",
      "    weighted avg       0.72      0.69      0.68       581\n",
      "\n"
     ]
    },
    {
     "name": "stderr",
     "output_type": "stream",
     "text": [
      "Training Epochs:  79%|███████▉  | 394/500 [00:15<00:04, 24.80it/s]"
     ]
    },
    {
     "name": "stdout",
     "output_type": "stream",
     "text": [
      "Epoch 390/500, Loss: 0.1858\n",
      "Test Accuracy at Epoch 390: 69.36%\n",
      "Classification Report at Epoch 390:\n",
      "                  precision    recall  f1-score   support\n",
      "\n",
      "    infringement       0.81      0.49      0.61       283\n",
      "non_infringement       0.65      0.89      0.75       298\n",
      "\n",
      "        accuracy                           0.69       581\n",
      "       macro avg       0.73      0.69      0.68       581\n",
      "    weighted avg       0.72      0.69      0.68       581\n",
      "\n"
     ]
    },
    {
     "name": "stderr",
     "output_type": "stream",
     "text": [
      "Training Epochs:  81%|████████  | 403/500 [00:16<00:03, 24.52it/s]"
     ]
    },
    {
     "name": "stdout",
     "output_type": "stream",
     "text": [
      "Epoch 400/500, Loss: 0.1867\n",
      "Test Accuracy at Epoch 400: 69.02%\n",
      "Classification Report at Epoch 400:\n",
      "                  precision    recall  f1-score   support\n",
      "\n",
      "    infringement       0.80      0.48      0.60       283\n",
      "non_infringement       0.64      0.89      0.75       298\n",
      "\n",
      "        accuracy                           0.69       581\n",
      "       macro avg       0.72      0.69      0.67       581\n",
      "    weighted avg       0.72      0.69      0.68       581\n",
      "\n"
     ]
    },
    {
     "name": "stderr",
     "output_type": "stream",
     "text": [
      "Training Epochs:  83%|████████▎ | 413/500 [00:16<00:03, 24.47it/s]"
     ]
    },
    {
     "name": "stdout",
     "output_type": "stream",
     "text": [
      "Epoch 410/500, Loss: 0.1860\n",
      "Test Accuracy at Epoch 410: 69.71%\n",
      "Classification Report at Epoch 410:\n",
      "                  precision    recall  f1-score   support\n",
      "\n",
      "    infringement       0.79      0.52      0.62       283\n",
      "non_infringement       0.65      0.87      0.75       298\n",
      "\n",
      "        accuracy                           0.70       581\n",
      "       macro avg       0.72      0.69      0.69       581\n",
      "    weighted avg       0.72      0.70      0.69       581\n",
      "\n"
     ]
    },
    {
     "name": "stderr",
     "output_type": "stream",
     "text": [
      "Training Epochs:  84%|████████▍ | 422/500 [00:16<00:03, 24.41it/s]"
     ]
    },
    {
     "name": "stdout",
     "output_type": "stream",
     "text": [
      "Epoch 420/500, Loss: 0.1881\n",
      "Test Accuracy at Epoch 420: 69.88%\n",
      "Classification Report at Epoch 420:\n",
      "                  precision    recall  f1-score   support\n",
      "\n",
      "    infringement       0.78      0.53      0.63       283\n",
      "non_infringement       0.66      0.86      0.75       298\n",
      "\n",
      "        accuracy                           0.70       581\n",
      "       macro avg       0.72      0.69      0.69       581\n",
      "    weighted avg       0.72      0.70      0.69       581\n",
      "\n"
     ]
    },
    {
     "name": "stderr",
     "output_type": "stream",
     "text": [
      "Training Epochs:  87%|████████▋ | 433/500 [00:17<00:02, 24.93it/s]"
     ]
    },
    {
     "name": "stdout",
     "output_type": "stream",
     "text": [
      "Epoch 430/500, Loss: 0.1907\n",
      "Test Accuracy at Epoch 430: 70.22%\n",
      "Classification Report at Epoch 430:\n",
      "                  precision    recall  f1-score   support\n",
      "\n",
      "    infringement       0.80      0.52      0.63       283\n",
      "non_infringement       0.66      0.88      0.75       298\n",
      "\n",
      "        accuracy                           0.70       581\n",
      "       macro avg       0.73      0.70      0.69       581\n",
      "    weighted avg       0.73      0.70      0.69       581\n",
      "\n"
     ]
    },
    {
     "name": "stderr",
     "output_type": "stream",
     "text": [
      "Training Epochs:  89%|████████▊ | 443/500 [00:17<00:02, 25.15it/s]"
     ]
    },
    {
     "name": "stdout",
     "output_type": "stream",
     "text": [
      "Epoch 440/500, Loss: 0.1848\n",
      "Test Accuracy at Epoch 440: 69.54%\n",
      "Classification Report at Epoch 440:\n",
      "                  precision    recall  f1-score   support\n",
      "\n",
      "    infringement       0.80      0.50      0.61       283\n",
      "non_infringement       0.65      0.88      0.75       298\n",
      "\n",
      "        accuracy                           0.70       581\n",
      "       macro avg       0.73      0.69      0.68       581\n",
      "    weighted avg       0.72      0.70      0.68       581\n",
      "\n"
     ]
    },
    {
     "name": "stderr",
     "output_type": "stream",
     "text": [
      "Training Epochs:  91%|█████████ | 453/500 [00:18<00:01, 24.43it/s]"
     ]
    },
    {
     "name": "stdout",
     "output_type": "stream",
     "text": [
      "Epoch 450/500, Loss: 0.1835\n",
      "Test Accuracy at Epoch 450: 69.71%\n",
      "Classification Report at Epoch 450:\n",
      "                  precision    recall  f1-score   support\n",
      "\n",
      "    infringement       0.80      0.50      0.62       283\n",
      "non_infringement       0.65      0.88      0.75       298\n",
      "\n",
      "        accuracy                           0.70       581\n",
      "       macro avg       0.73      0.69      0.68       581\n",
      "    weighted avg       0.72      0.70      0.69       581\n",
      "\n"
     ]
    },
    {
     "name": "stderr",
     "output_type": "stream",
     "text": [
      "Training Epochs:  93%|█████████▎| 463/500 [00:18<00:01, 24.70it/s]"
     ]
    },
    {
     "name": "stdout",
     "output_type": "stream",
     "text": [
      "Epoch 460/500, Loss: 0.1827\n",
      "Test Accuracy at Epoch 460: 68.85%\n",
      "Classification Report at Epoch 460:\n",
      "                  precision    recall  f1-score   support\n",
      "\n",
      "    infringement       0.80      0.48      0.60       283\n",
      "non_infringement       0.64      0.88      0.74       298\n",
      "\n",
      "        accuracy                           0.69       581\n",
      "       macro avg       0.72      0.68      0.67       581\n",
      "    weighted avg       0.72      0.69      0.67       581\n",
      "\n"
     ]
    },
    {
     "name": "stderr",
     "output_type": "stream",
     "text": [
      "Training Epochs:  95%|█████████▍| 473/500 [00:18<00:00, 27.29it/s]"
     ]
    },
    {
     "name": "stdout",
     "output_type": "stream",
     "text": [
      "Epoch 470/500, Loss: 0.1826\n",
      "Test Accuracy at Epoch 470: 70.22%\n",
      "Classification Report at Epoch 470:\n",
      "                  precision    recall  f1-score   support\n",
      "\n",
      "    infringement       0.79      0.53      0.64       283\n",
      "non_infringement       0.66      0.86      0.75       298\n",
      "\n",
      "        accuracy                           0.70       581\n",
      "       macro avg       0.72      0.70      0.69       581\n",
      "    weighted avg       0.72      0.70      0.69       581\n",
      "\n"
     ]
    },
    {
     "name": "stderr",
     "output_type": "stream",
     "text": [
      "Training Epochs:  96%|█████████▋| 482/500 [00:19<00:00, 25.61it/s]"
     ]
    },
    {
     "name": "stdout",
     "output_type": "stream",
     "text": [
      "Epoch 480/500, Loss: 0.1886\n",
      "Test Accuracy at Epoch 480: 67.99%\n",
      "Classification Report at Epoch 480:\n",
      "                  precision    recall  f1-score   support\n",
      "\n",
      "    infringement       0.79      0.47      0.59       283\n",
      "non_infringement       0.64      0.88      0.74       298\n",
      "\n",
      "        accuracy                           0.68       581\n",
      "       macro avg       0.71      0.67      0.66       581\n",
      "    weighted avg       0.71      0.68      0.66       581\n",
      "\n"
     ]
    },
    {
     "name": "stderr",
     "output_type": "stream",
     "text": [
      "Training Epochs:  99%|█████████▉| 494/500 [00:19<00:00, 23.95it/s]"
     ]
    },
    {
     "name": "stdout",
     "output_type": "stream",
     "text": [
      "Epoch 490/500, Loss: 0.1837\n",
      "Test Accuracy at Epoch 490: 69.71%\n",
      "Classification Report at Epoch 490:\n",
      "                  precision    recall  f1-score   support\n",
      "\n",
      "    infringement       0.81      0.49      0.61       283\n",
      "non_infringement       0.65      0.89      0.75       298\n",
      "\n",
      "        accuracy                           0.70       581\n",
      "       macro avg       0.73      0.69      0.68       581\n",
      "    weighted avg       0.73      0.70      0.68       581\n",
      "\n"
     ]
    },
    {
     "name": "stderr",
     "output_type": "stream",
     "text": [
      "Training Epochs: 100%|██████████| 500/500 [00:19<00:00, 25.14it/s]\n",
      "/tmp/ipykernel_539383/1033092828.py:47: FutureWarning: You are using `torch.load` with `weights_only=False` (the current default value), which uses the default pickle module implicitly. It is possible to construct malicious pickle data which will execute arbitrary code during unpickling (See https://github.com/pytorch/pytorch/blob/main/SECURITY.md#untrusted-models for more details). In a future release, the default value for `weights_only` will be flipped to `True`. This limits the functions that could be executed during unpickling. Arbitrary objects will no longer be allowed to be loaded via this mode unless they are explicitly allowlisted by the user via `torch.serialization.add_safe_globals`. We recommend you start setting `weights_only=True` for any use case where you don't have full control of the loaded file. Please open an issue on GitHub for any issues related to this experimental feature.\n",
      "  custom_mlp.load_state_dict(torch.load(checkpoint_path))\n"
     ]
    },
    {
     "name": "stdout",
     "output_type": "stream",
     "text": [
      "Epoch 500/500, Loss: 0.1804\n",
      "Test Accuracy at Epoch 500: 70.22%\n",
      "Classification Report at Epoch 500:\n",
      "                  precision    recall  f1-score   support\n",
      "\n",
      "    infringement       0.81      0.51      0.63       283\n",
      "non_infringement       0.66      0.88      0.75       298\n",
      "\n",
      "        accuracy                           0.70       581\n",
      "       macro avg       0.73      0.70      0.69       581\n",
      "    weighted avg       0.73      0.70      0.69       581\n",
      "\n"
     ]
    },
    {
     "data": {
      "image/png": "[encoded data removed]",
      "text/plain": [
       "<Figure size 1000x500 with 1 Axes>"
      ]
     },
     "metadata": {},
     "output_type": "display_data"
    },
    {
     "name": "stdout",
     "output_type": "stream",
     "text": [
      "Final Model Accuracy: 72.98%\n"
     ]
    }
   ],
   "source": [
    "input_dim = X_train.shape[1]\n",
    "hidden_dim = 256 \n",
    "print(f\"Training MLP model with input_dim={input_dim} and hidden_dim={hidden_dim}\")\n",
    "\n",
    "custom_mlp, losses, best_accuracy = train_model(X_train, y_train, X_test, y_test, input_dim, hidden_dim)"
   ]
  },
  {
   "cell_type": "code",
   "execution_count": 35,
   "metadata": {},
   "outputs": [
    {
     "name": "stdout",
     "output_type": "stream",
     "text": [
      "Checkpoint saved to '/home/guangwei/LLM-COPYRIGHT/copyright_newVersion/models/train_input_reference_last_layer_test.pth'.\n"
     ]
    }
   ],
   "source": [
    "def save_checkpoint(model, optimizer, epoch, loss, filepath):\n",
    "    checkpoint = {\n",
    "        'epoch': epoch + 1,\n",
    "        'model_state_dict': model.state_dict(),\n",
    "        'optimizer_state_dict': optimizer.state_dict(),\n",
    "        'loss': loss\n",
    "    }\n",
    "    torch.save(checkpoint, filepath)\n",
    "    print(f\"Checkpoint saved to '{filepath}'.\")\n",
    "\n",
    "save_checkpoint(custom_mlp, torch.optim.Adam(custom_mlp.parameters()), len(losses), losses[-1], checkpoint_file)"
   ]
  },
  {
   "cell_type": "code",
   "execution_count": 36,
   "metadata": {},
   "outputs": [
    {
     "name": "stdout",
     "output_type": "stream",
     "text": [
      "                  precision    recall  f1-score   support\n",
      "\n",
      "    infringement       0.85      0.54      0.66       283\n",
      "non_infringement       0.68      0.91      0.77       298\n",
      "\n",
      "        accuracy                           0.73       581\n",
      "       macro avg       0.76      0.73      0.72       581\n",
      "    weighted avg       0.76      0.73      0.72       581\n",
      "\n"
     ]
    },
    {
     "name": "stderr",
     "output_type": "stream",
     "text": [
      "/tmp/ipykernel_539383/2137335780.py:1: UserWarning: To copy construct from a tensor, it is recommended to use sourceTensor.clone().detach() or sourceTensor.clone().detach().requires_grad_(True), rather than torch.tensor(sourceTensor).\n",
      "  y_pred_final = (torch.sigmoid(torch.tensor(custom_mlp(torch.tensor(X_test, dtype=torch.float32)))) > 0.5).float().numpy()\n"
     ]
    },
    {
     "ename": "",
     "evalue": "",
     "output_type": "error",
     "traceback": [
      "\u001b[1;31mThe Kernel crashed while executing code in the current cell or a previous cell. \n",
      "\u001b[1;31mPlease review the code in the cell(s) to identify a possible cause of the failure. \n",
      "\u001b[1;31mClick <a href='https://aka.ms/vscodeJupyterKernelCrash'>here</a> for more info. \n",
      "\u001b[1;31mView Jupyter <a href='command:jupyter.viewOutput'>log</a> for further details."
     ]
    }
   ],
   "source": [
    "y_pred_final = (torch.sigmoid(torch.tensor(custom_mlp(torch.tensor(X_test, dtype=torch.float32)))) > 0.5).float().numpy()\n",
    "print(classification_report(y_test, y_pred_final, target_names=[\"infringement\", \"non_infringement\"]))"
   ]
  }
 ],
 "metadata": {
  "kernelspec": {
   "display_name": "sit",
   "language": "python",
   "name": "python3"
  },
  "language_info": {
   "codemirror_mode": {
    "name": "ipython",
    "version": 3
   },
   "file_extension": ".py",
   "mimetype": "text/x-python",
   "name": "python",
   "nbconvert_exporter": "python",
   "pygments_lexer": "ipython3",
   "version": "3.9.20"
  }
 },
 "nbformat": 4,
 "nbformat_minor": 2
}
