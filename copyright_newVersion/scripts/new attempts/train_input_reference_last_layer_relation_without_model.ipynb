{
 "cells": [
  {
   "cell_type": "code",
   "execution_count": 1,
   "metadata": {},
   "outputs": [
    {
     "name": "stderr",
     "output_type": "stream",
     "text": [
      "/home/guangwei/miniconda3/envs/zdh/lib/python3.9/site-packages/tqdm/auto.py:21: TqdmWarning: IProgress not found. Please update jupyter and ipywidgets. See https://ipywidgets.readthedocs.io/en/stable/user_install.html\n",
      "  from .autonotebook import tqdm as notebook_tqdm\n"
     ]
    }
   ],
   "source": [
    "# import packages & variables\n",
    "import argparse\n",
    "import torch\n",
    "import torch.nn as nn\n",
    "import numpy as np\n",
    "from sklearn.metrics import accuracy_score, classification_report\n",
    "import matplotlib.pyplot as plt\n",
    "from tqdm import tqdm\n",
    "from transformers import AutoTokenizer, AutoModelForCausalLM, AutoModel, AutoModelForSequenceClassification\n",
    "from transformers import RobertaTokenizer, RobertaModel\n",
    "import json\n",
    "import os\n",
    "\n",
    "os.environ[\"CUDA_VISIBLE_DEVICES\"] = \"5\"\n",
    "\n",
    "# Parameters\n",
    "model_name = 'meta-llama/Meta-Llama-3.1-8B'\n",
    "non_infringement_file = '/home/guangwei/LLM-COPYRIGHT/copyright_newVersion/test_division/extra.non_infringement.json'\n",
    "infringement_file = '/home/guangwei/LLM-COPYRIGHT/copyright_newVersion/test_division/extra.infringement.json'\n",
    "checkpoint_file = '/home/guangwei/LLM-COPYRIGHT/copyright_newVersion/models/train_input_reference_last_layer_without_model.pth'\n"
   ]
  },
  {
   "cell_type": "code",
   "execution_count": 2,
   "metadata": {},
   "outputs": [],
   "source": [
    "# Define CustumMLP for internal states train\n",
    "class CustomMLP(nn.Module):\n",
    "    def __init__(self, input_dim, hidden_dim):\n",
    "        super(CustomMLP, self).__init__()\n",
    "        self.down = nn.Linear(input_dim, hidden_dim)\n",
    "        self.gate = nn.Linear(input_dim, hidden_dim)\n",
    "        self.up = nn.Linear(hidden_dim, 1)\n",
    "        self.activation = nn.SiLU()\n",
    "\n",
    "    def forward(self, x):\n",
    "        down_output = self.down(x)\n",
    "        gate_output = self.gate(x)\n",
    "        gated_output = down_output * self.activation(gate_output)\n",
    "        return self.up(gated_output)"
   ]
  },
  {
   "cell_type": "code",
   "execution_count": 3,
   "metadata": {},
   "outputs": [],
   "source": [
    "# Extract hidden states for both input and reference texts\n",
    "def extract_char(inputs, references, model, tokenizer, batch_size=4):\n",
    "    device = torch.device(\"cuda\" if torch.cuda.is_available() else \"cpu\")\n",
    "    model.to(device)\n",
    "    model = nn.DataParallel(model)\n",
    "    extract_chars = []\n",
    "\n",
    "    # Iterate through the batches of inputs and references\n",
    "    for i in tqdm(range(0, len(inputs), batch_size), desc=\"Processing data batches\"):\n",
    "        # Prepare batch for input texts\n",
    "        batch_inputs = inputs[i:i + batch_size]\n",
    "        batch_references = references[i:i + batch_size]\n",
    "        \n",
    "        # Tokenize both input and reference texts\n",
    "        inputs_combined = [f\"[CLS] {input_text} [SEP] {reference_text}\" for input_text, reference_text in zip(batch_inputs, batch_references)]\n",
    "        encoded_inputs = tokenizer(inputs_combined, return_tensors=\"pt\", padding=True, truncation=True).to(device)\n",
    "        \n",
    "        with torch.no_grad():\n",
    "            # Get hidden states from the model\n",
    "            outputs = model(**encoded_inputs)\n",
    "        \n",
    "        # Average the hidden states from the last layer for the combined input-reference representation\n",
    "        combined_hidden_states = outputs.last_hidden_state.mean(dim=1)  # shape: (batch_size, hidden_size)\n",
    "        extract_chars.append(combined_hidden_states.cpu().numpy())\n",
    "    \n",
    "    return np.vstack(extract_chars)"
   ]
  },
  {
   "cell_type": "code",
   "execution_count": 4,
   "metadata": {},
   "outputs": [],
   "source": [
    "# Function to extract hidden states from the outputs of extract_char\n",
    "def extract_hidden_states(extract_chars, model, tokenizer, batch_size=4):\n",
    "    device = torch.device(\"cuda\" if torch.cuda.is_available() else \"cpu\")\n",
    "    model.to(device)\n",
    "    model = nn.DataParallel(model)\n",
    "    \n",
    "    hidden_states = []\n",
    "    \n",
    "    # Process the extract_chars as if they were new texts\n",
    "    for i in tqdm(range(0, len(extract_chars), batch_size), desc=\"Processing hidden states\"):\n",
    "        batch_extract_chars = extract_chars[i:i + batch_size]\n",
    "\n",
    "        # Since batch_extract_chars are already features, we can process them directly.\n",
    "        # Here, we will simply append them as hidden states since they are already in the form needed.\n",
    "        hidden_states.append(batch_extract_chars)\n",
    "\n",
    "    return np.vstack(hidden_states)"
   ]
  },
  {
   "cell_type": "code",
   "execution_count": 5,
   "metadata": {},
   "outputs": [],
   "source": [
    "# load data for infringement & non infringement\n",
    "def load_data(non_infringement_file, infringement_file):\n",
    "    with open(non_infringement_file, 'r', encoding='utf-8') as file:\n",
    "        non_infringement_json_data = json.load(file)\n",
    "\n",
    "    non_infringement_outputs = [entry['input'] for entry in non_infringement_json_data]\n",
    "    non_infringement_references = [entry['reference'] for entry in non_infringement_json_data]\n",
    "    y_non_infringement = [1] * len(non_infringement_outputs)\n",
    "\n",
    "    with open(infringement_file, 'r', encoding='utf-8') as file:\n",
    "        infringement_json_data = json.load(file)\n",
    "\n",
    "    infringement_outputs = [entry['input'] for entry in infringement_json_data]\n",
    "    infringement_references = [entry['reference'] for entry in infringement_json_data]\n",
    "    y_infringement = [0] * len(infringement_outputs)\n",
    "\n",
    "    return non_infringement_outputs, non_infringement_references, y_non_infringement, infringement_outputs, infringement_references, y_infringement"
   ]
  },
  {
   "cell_type": "code",
   "execution_count": 6,
   "metadata": {},
   "outputs": [],
   "source": [
    "# Train for best model\n",
    "def train_model(X_train, y_train, X_test, y_test, input_dim, hidden_dim, epochs=500, lr=0.001, checkpoint_path=checkpoint_file):\n",
    "    custom_mlp = CustomMLP(input_dim, hidden_dim)\n",
    "    criterion = nn.BCEWithLogitsLoss()\n",
    "    optimizer = torch.optim.Adam(custom_mlp.parameters(), lr=lr)\n",
    "\n",
    "    X_train_tensor = torch.tensor(X_train, dtype=torch.float32)\n",
    "    y_train_tensor = torch.tensor(y_train, dtype=torch.float32).unsqueeze(1)\n",
    "\n",
    "    best_accuracy = -float('inf')\n",
    "    best_model_state = None\n",
    "    best_epoch = 0\n",
    "    losses = []\n",
    "\n",
    "    for epoch in tqdm(range(epochs), desc=\"Training Epochs\"):\n",
    "        custom_mlp.train()\n",
    "        optimizer.zero_grad()\n",
    "        outputs = custom_mlp(X_train_tensor)\n",
    "        loss = criterion(outputs, y_train_tensor)\n",
    "        loss.backward()\n",
    "        optimizer.step()\n",
    "        losses.append(loss.item())\n",
    "\n",
    "        if (epoch + 1) % 10 == 0:\n",
    "            print(f\"Epoch {epoch + 1}/{epochs}, Loss: {loss.item():.4f}\")\n",
    "            \n",
    "            custom_mlp.eval()\n",
    "            X_test_tensor = torch.tensor(X_test, dtype=torch.float32)\n",
    "            with torch.no_grad():\n",
    "                y_pred_logits = custom_mlp(X_test_tensor)\n",
    "                y_pred = (torch.sigmoid(y_pred_logits) > 0.5).float().numpy()\n",
    "            \n",
    "            accuracy = accuracy_score(y_test, y_pred)\n",
    "            print(f\"Test Accuracy at Epoch {epoch + 1}: {accuracy * 100:.2f}%\")\n",
    "            \n",
    "            report = classification_report(y_test, y_pred, target_names=[\"infringement\", \"non_infringement\"])\n",
    "            print(f\"Classification Report at Epoch {epoch + 1}:\\n{report}\")\n",
    "\n",
    "            if accuracy > best_accuracy:\n",
    "                best_accuracy = accuracy\n",
    "                best_model_state = custom_mlp.state_dict()\n",
    "                best_epoch = epoch + 1\n",
    "                torch.save(best_model_state, checkpoint_path)\n",
    "                print(f\"New best model saved with accuracy {best_accuracy * 100:.2f}% at epoch {best_epoch}\")\n",
    "                print(f\"Best Classification Report at Epoch {best_epoch}:\\n{report}\")\n",
    "\n",
    "    custom_mlp.load_state_dict(torch.load(checkpoint_path))\n",
    "\n",
    "    plt.figure(figsize=(10, 5))\n",
    "    plt.plot(losses, label='Training Loss')\n",
    "    plt.xlabel('Epoch')\n",
    "    plt.ylabel('Loss')\n",
    "    plt.title('Training Loss Curve')\n",
    "    plt.legend()\n",
    "    plt.show()\n",
    "\n",
    "    print(f\"Final Model Accuracy: {best_accuracy * 100:.2f}%\")\n",
    "    \n",
    "    return custom_mlp, losses, best_accuracy"
   ]
  },
  {
   "cell_type": "code",
   "execution_count": 7,
   "metadata": {},
   "outputs": [
    {
     "name": "stderr",
     "output_type": "stream",
     "text": [
      "/home/guangwei/miniconda3/envs/zdh/lib/python3.9/site-packages/transformers/generation/configuration_utils.py:777: UserWarning: `return_dict_in_generate` is NOT set to `True`, but `output_hidden_states` is. When `return_dict_in_generate` is not `True`, `output_hidden_states` is ignored.\n",
      "  warnings.warn(\n",
      "Loading checkpoint shards: 100%|██████████| 4/4 [00:02<00:00,  1.51it/s]\n",
      "Some weights of RobertaModel were not initialized from the model checkpoint at roberta-base and are newly initialized: ['roberta.pooler.dense.bias', 'roberta.pooler.dense.weight']\n",
      "You should probably TRAIN this model on a down-stream task to be able to use it for predictions and inference.\n"
     ]
    }
   ],
   "source": [
    "tokenizer = AutoTokenizer.from_pretrained(model_name, model_max_length=512)\n",
    "model = AutoModelForCausalLM.from_pretrained(model_name, output_hidden_states=True)\n",
    "tokenizer.pad_token = tokenizer.eos_token\n",
    "bert_tokenizer = AutoTokenizer.from_pretrained('google-bert/bert-base-uncased')\n",
    "bert_model = AutoModel.from_pretrained('google-bert/bert-base-uncased')\n",
    "bert_tokenizer.pad_token = tokenizer.eos_token\n",
    "\n",
    "roberta_tokenizer = RobertaTokenizer.from_pretrained('roberta-base')\n",
    "roberta_model = RobertaModel.from_pretrained('roberta-base')\n",
    "roberta_tokenizer.pad_token = tokenizer.eos_token\n",
    "\n",
    "non_infringement_outputs, non_infringement_references, y_non_infringement, infringement_outputs, infringement_references, y_infringement = load_data(\n",
    "    non_infringement_file, infringement_file\n",
    ")\n",
    "\n",
    "y_non_infringement = np.array(y_non_infringement)\n",
    "y_infringement = np.array(y_infringement)\n"
   ]
  },
  {
   "cell_type": "code",
   "execution_count": 8,
   "metadata": {},
   "outputs": [
    {
     "name": "stdout",
     "output_type": "stream",
     "text": [
      "Extracting characteristics for non_infringement texts/references\n"
     ]
    },
    {
     "name": "stderr",
     "output_type": "stream",
     "text": [
      "Processing data batches: 100%|██████████| 373/373 [00:05<00:00, 62.32it/s] \n"
     ]
    },
    {
     "name": "stdout",
     "output_type": "stream",
     "text": [
      "Extracting hidden states for X_non_infringement_char\n"
     ]
    },
    {
     "name": "stderr",
     "output_type": "stream",
     "text": [
      "Processing hidden states: 100%|██████████| 373/373 [00:00<00:00, 478432.84it/s]\n"
     ]
    },
    {
     "name": "stdout",
     "output_type": "stream",
     "text": [
      "Extracting characteristics for infringement texts/references\n"
     ]
    },
    {
     "name": "stderr",
     "output_type": "stream",
     "text": [
      "Processing data batches: 100%|██████████| 354/354 [00:04<00:00, 74.19it/s] \n"
     ]
    },
    {
     "name": "stdout",
     "output_type": "stream",
     "text": [
      "Extracting hidden states for X_non_infringement_char\n"
     ]
    },
    {
     "name": "stderr",
     "output_type": "stream",
     "text": [
      "Processing hidden states: 100%|██████████| 354/354 [00:00<00:00, 423377.14it/s]\n"
     ]
    }
   ],
   "source": [
    "# print(\"Extracting hidden states for non_infringement texts...\")\n",
    "# X_non_infringement = extract_hidden_states(non_infringement_outputs, model, tokenizer)\n",
    "# print(\"Extracting reference embeddings for non_infringement texts...\")\n",
    "# reference_embeddings_non_infringement = extract_reference_embeddings(non_infringement_references, bert_model, bert_tokenizer)\n",
    "# print(\"X_non_infringement:\",X_non_infringement.shape)\n",
    "# print(\"reference_embeddings_non_infringement:\",reference_embeddings_non_infringement.shape)\n",
    "# X_non_infringement_combined = np.hstack([X_non_infringement, reference_embeddings_non_infringement])\n",
    "\n",
    "# print(\"Extracting hidden states for infringement texts...\")\n",
    "# X_infringement = extract_hidden_states(infringement_outputs, model, tokenizer)\n",
    "# print(\"Extracting reference embeddings for infringement texts...\")\n",
    "# reference_embeddings_infringement = extract_reference_embeddings(infringement_references, bert_model, bert_tokenizer)\n",
    "# X_infringement_combined = np.hstack([X_infringement, reference_embeddings_infringement])\n",
    "\n",
    "print(\"Extracting characteristics for non_infringement texts/references\")\n",
    "X_non_infringement_char = extract_char(non_infringement_outputs, non_infringement_references, bert_model, bert_tokenizer)\n",
    "print(\"Extracting hidden states for X_non_infringement_char\")\n",
    "X_non_infringement_combined = extract_hidden_states(X_non_infringement_char, model, tokenizer)\n",
    "\n",
    "print(\"Extracting characteristics for infringement texts/references\")\n",
    "X_infringement_char = extract_char(infringement_outputs, infringement_references, bert_model, bert_tokenizer)\n",
    "print(\"Extracting hidden states for X_non_infringement_char\")\n",
    "X_infringement_combined = extract_hidden_states(X_infringement_char, model, tokenizer)\n",
    "\n",
    "# print(\"Extracting characteristics for non_infringement texts/references\")\n",
    "# X_non_infringement_combined = extract_char(non_infringement_outputs, non_infringement_references, model, tokenizer)\n",
    "\n",
    "# print(\"Extracting characteristics for infringement texts/references\")\n",
    "# X_infringement_combined = extract_char(infringement_outputs, infringement_references, model, tokenizer)\n"
   ]
  },
  {
   "cell_type": "code",
   "execution_count": 9,
   "metadata": {},
   "outputs": [
    {
     "name": "stdout",
     "output_type": "stream",
     "text": [
      "Data successfully split into training and test sets.\n"
     ]
    }
   ],
   "source": [
    "split_index_non_infringement = int(0.8 * len(X_non_infringement_combined))\n",
    "X_non_infringement_train = X_non_infringement_combined[:split_index_non_infringement]\n",
    "X_non_infringement_test = X_non_infringement_combined[split_index_non_infringement:]\n",
    "y_non_infringement_train = y_non_infringement[:split_index_non_infringement]\n",
    "y_non_infringement_test = y_non_infringement[split_index_non_infringement:]\n",
    "\n",
    "split_index_infringement = int(0.8 * len(X_infringement_combined))\n",
    "X_infringement_train = X_infringement_combined[:split_index_infringement]\n",
    "X_infringement_test = X_infringement_combined[split_index_infringement:]\n",
    "y_infringement_train = y_infringement[:split_index_infringement]\n",
    "y_infringement_test = y_infringement[split_index_infringement:]\n",
    "\n",
    "X_train = np.vstack((X_non_infringement_train, X_infringement_train))\n",
    "X_test = np.vstack((X_non_infringement_test, X_infringement_test))\n",
    "y_train = np.concatenate((y_non_infringement_train, y_infringement_train))\n",
    "y_test = np.concatenate((y_non_infringement_test, y_infringement_test))\n",
    "\n",
    "print(\"Data successfully split into training and test sets.\")"
   ]
  },
  {
   "cell_type": "code",
   "execution_count": 10,
   "metadata": {},
   "outputs": [
    {
     "name": "stdout",
     "output_type": "stream",
     "text": [
      "Training MLP model with input_dim=768 and hidden_dim=256\n"
     ]
    },
    {
     "name": "stderr",
     "output_type": "stream",
     "text": [
      "Training Epochs:   4%|▍         | 20/500 [00:00<00:07, 61.29it/s]"
     ]
    },
    {
     "name": "stdout",
     "output_type": "stream",
     "text": [
      "Epoch 10/500, Loss: 0.6020\n",
      "Test Accuracy at Epoch 10: 69.02%\n",
      "Classification Report at Epoch 10:\n",
      "                  precision    recall  f1-score   support\n",
      "\n",
      "    infringement       0.79      0.50      0.61       283\n",
      "non_infringement       0.65      0.87      0.74       298\n",
      "\n",
      "        accuracy                           0.69       581\n",
      "       macro avg       0.72      0.69      0.68       581\n",
      "    weighted avg       0.72      0.69      0.68       581\n",
      "\n",
      "New best model saved with accuracy 69.02% at epoch 10\n",
      "Best Classification Report at Epoch 10:\n",
      "                  precision    recall  f1-score   support\n",
      "\n",
      "    infringement       0.79      0.50      0.61       283\n",
      "non_infringement       0.65      0.87      0.74       298\n",
      "\n",
      "        accuracy                           0.69       581\n",
      "       macro avg       0.72      0.69      0.68       581\n",
      "    weighted avg       0.72      0.69      0.68       581\n",
      "\n",
      "Epoch 20/500, Loss: 0.5493\n",
      "Test Accuracy at Epoch 20: 69.71%\n",
      "Classification Report at Epoch 20:\n",
      "                  precision    recall  f1-score   support\n",
      "\n",
      "    infringement       0.72      0.62      0.67       283\n",
      "non_infringement       0.68      0.77      0.72       298\n",
      "\n",
      "        accuracy                           0.70       581\n",
      "       macro avg       0.70      0.70      0.69       581\n",
      "    weighted avg       0.70      0.70      0.70       581\n",
      "\n",
      "New best model saved with accuracy 69.71% at epoch 20\n",
      "Best Classification Report at Epoch 20:\n",
      "                  precision    recall  f1-score   support\n",
      "\n",
      "    infringement       0.72      0.62      0.67       283\n",
      "non_infringement       0.68      0.77      0.72       298\n",
      "\n",
      "        accuracy                           0.70       581\n",
      "       macro avg       0.70      0.70      0.69       581\n",
      "    weighted avg       0.70      0.70      0.70       581\n",
      "\n"
     ]
    },
    {
     "name": "stderr",
     "output_type": "stream",
     "text": [
      "Training Epochs:   7%|▋         | 37/500 [00:00<00:07, 59.65it/s]"
     ]
    },
    {
     "name": "stdout",
     "output_type": "stream",
     "text": [
      "Epoch 30/500, Loss: 0.5113\n",
      "Test Accuracy at Epoch 30: 71.26%\n",
      "Classification Report at Epoch 30:\n",
      "                  precision    recall  f1-score   support\n",
      "\n",
      "    infringement       0.73      0.64      0.69       283\n",
      "non_infringement       0.70      0.78      0.74       298\n",
      "\n",
      "        accuracy                           0.71       581\n",
      "       macro avg       0.72      0.71      0.71       581\n",
      "    weighted avg       0.71      0.71      0.71       581\n",
      "\n",
      "New best model saved with accuracy 71.26% at epoch 30\n",
      "Best Classification Report at Epoch 30:\n",
      "                  precision    recall  f1-score   support\n",
      "\n",
      "    infringement       0.73      0.64      0.69       283\n",
      "non_infringement       0.70      0.78      0.74       298\n",
      "\n",
      "        accuracy                           0.71       581\n",
      "       macro avg       0.72      0.71      0.71       581\n",
      "    weighted avg       0.71      0.71      0.71       581\n",
      "\n",
      "Epoch 40/500, Loss: 0.4833\n",
      "Test Accuracy at Epoch 40: 71.43%\n",
      "Classification Report at Epoch 40:\n",
      "                  precision    recall  f1-score   support\n",
      "\n",
      "    infringement       0.73      0.65      0.69       283\n",
      "non_infringement       0.70      0.77      0.73       298\n",
      "\n",
      "        accuracy                           0.71       581\n",
      "       macro avg       0.72      0.71      0.71       581\n",
      "    weighted avg       0.72      0.71      0.71       581\n",
      "\n",
      "New best model saved with accuracy 71.43% at epoch 40\n",
      "Best Classification Report at Epoch 40:\n",
      "                  precision    recall  f1-score   support\n",
      "\n",
      "    infringement       0.73      0.65      0.69       283\n",
      "non_infringement       0.70      0.77      0.73       298\n",
      "\n",
      "        accuracy                           0.71       581\n",
      "       macro avg       0.72      0.71      0.71       581\n",
      "    weighted avg       0.72      0.71      0.71       581\n",
      "\n"
     ]
    },
    {
     "name": "stderr",
     "output_type": "stream",
     "text": [
      "Training Epochs:  12%|█▏        | 58/500 [00:00<00:07, 58.44it/s]"
     ]
    },
    {
     "name": "stdout",
     "output_type": "stream",
     "text": [
      "Epoch 50/500, Loss: 0.4615\n",
      "Test Accuracy at Epoch 50: 72.46%\n",
      "Classification Report at Epoch 50:\n",
      "                  precision    recall  f1-score   support\n",
      "\n",
      "    infringement       0.77      0.62      0.69       283\n",
      "non_infringement       0.69      0.83      0.75       298\n",
      "\n",
      "        accuracy                           0.72       581\n",
      "       macro avg       0.73      0.72      0.72       581\n",
      "    weighted avg       0.73      0.72      0.72       581\n",
      "\n",
      "New best model saved with accuracy 72.46% at epoch 50\n",
      "Best Classification Report at Epoch 50:\n",
      "                  precision    recall  f1-score   support\n",
      "\n",
      "    infringement       0.77      0.62      0.69       283\n",
      "non_infringement       0.69      0.83      0.75       298\n",
      "\n",
      "        accuracy                           0.72       581\n",
      "       macro avg       0.73      0.72      0.72       581\n",
      "    weighted avg       0.73      0.72      0.72       581\n",
      "\n",
      "Epoch 60/500, Loss: 0.4438\n",
      "Test Accuracy at Epoch 60: 72.81%\n"
     ]
    },
    {
     "name": "stderr",
     "output_type": "stream",
     "text": [
      "Training Epochs:  14%|█▍        | 72/500 [00:01<00:06, 62.35it/s]"
     ]
    },
    {
     "name": "stdout",
     "output_type": "stream",
     "text": [
      "Classification Report at Epoch 60:\n",
      "                  precision    recall  f1-score   support\n",
      "\n",
      "    infringement       0.81      0.57      0.67       283\n",
      "non_infringement       0.68      0.88      0.77       298\n",
      "\n",
      "        accuracy                           0.73       581\n",
      "       macro avg       0.75      0.72      0.72       581\n",
      "    weighted avg       0.75      0.73      0.72       581\n",
      "\n",
      "New best model saved with accuracy 72.81% at epoch 60\n",
      "Best Classification Report at Epoch 60:\n",
      "                  precision    recall  f1-score   support\n",
      "\n",
      "    infringement       0.81      0.57      0.67       283\n",
      "non_infringement       0.68      0.88      0.77       298\n",
      "\n",
      "        accuracy                           0.73       581\n",
      "       macro avg       0.75      0.72      0.72       581\n",
      "    weighted avg       0.75      0.73      0.72       581\n",
      "\n",
      "Epoch 70/500, Loss: 0.4359\n",
      "Test Accuracy at Epoch 70: 71.60%\n",
      "Classification Report at Epoch 70:\n",
      "                  precision    recall  f1-score   support\n",
      "\n",
      "    infringement       0.84      0.52      0.64       283\n",
      "non_infringement       0.66      0.91      0.77       298\n",
      "\n",
      "        accuracy                           0.72       581\n",
      "       macro avg       0.75      0.71      0.70       581\n",
      "    weighted avg       0.75      0.72      0.70       581\n",
      "\n"
     ]
    },
    {
     "name": "stderr",
     "output_type": "stream",
     "text": [
      "Training Epochs:  19%|█▊        | 93/500 [00:01<00:06, 60.99it/s]"
     ]
    },
    {
     "name": "stdout",
     "output_type": "stream",
     "text": [
      "Epoch 80/500, Loss: 0.4178\n",
      "Test Accuracy at Epoch 80: 72.63%\n",
      "Classification Report at Epoch 80:\n",
      "                  precision    recall  f1-score   support\n",
      "\n",
      "    infringement       0.84      0.54      0.66       283\n",
      "non_infringement       0.68      0.90      0.77       298\n",
      "\n",
      "        accuracy                           0.73       581\n",
      "       macro avg       0.76      0.72      0.72       581\n",
      "    weighted avg       0.75      0.73      0.72       581\n",
      "\n",
      "Epoch 90/500, Loss: 0.4116\n",
      "Test Accuracy at Epoch 90: 76.42%\n",
      "Classification Report at Epoch 90:\n",
      "                  precision    recall  f1-score   support\n",
      "\n",
      "    infringement       0.84      0.64      0.73       283\n",
      "non_infringement       0.72      0.88      0.79       298\n",
      "\n",
      "        accuracy                           0.76       581\n",
      "       macro avg       0.78      0.76      0.76       581\n",
      "    weighted avg       0.78      0.76      0.76       581\n",
      "\n",
      "New best model saved with accuracy 76.42% at epoch 90\n",
      "Best Classification Report at Epoch 90:\n",
      "                  precision    recall  f1-score   support\n",
      "\n",
      "    infringement       0.84      0.64      0.73       283\n",
      "non_infringement       0.72      0.88      0.79       298\n",
      "\n",
      "        accuracy                           0.76       581\n",
      "       macro avg       0.78      0.76      0.76       581\n",
      "    weighted avg       0.78      0.76      0.76       581\n",
      "\n"
     ]
    },
    {
     "name": "stderr",
     "output_type": "stream",
     "text": [
      "Training Epochs:  21%|██▏       | 107/500 [00:01<00:06, 57.55it/s]"
     ]
    },
    {
     "name": "stdout",
     "output_type": "stream",
     "text": [
      "Epoch 100/500, Loss: 0.4051\n",
      "Test Accuracy at Epoch 100: 70.40%\n",
      "Classification Report at Epoch 100:\n",
      "                  precision    recall  f1-score   support\n",
      "\n",
      "    infringement       0.84      0.48      0.61       283\n",
      "non_infringement       0.65      0.91      0.76       298\n",
      "\n",
      "        accuracy                           0.70       581\n",
      "       macro avg       0.75      0.70      0.69       581\n",
      "    weighted avg       0.74      0.70      0.69       581\n",
      "\n",
      "Epoch 110/500, Loss: 0.3891\n"
     ]
    },
    {
     "name": "stderr",
     "output_type": "stream",
     "text": [
      "Training Epochs:  24%|██▍       | 121/500 [00:01<00:06, 61.87it/s]"
     ]
    },
    {
     "name": "stdout",
     "output_type": "stream",
     "text": [
      "Test Accuracy at Epoch 110: 75.73%\n",
      "Classification Report at Epoch 110:\n",
      "                  precision    recall  f1-score   support\n",
      "\n",
      "    infringement       0.85      0.60      0.71       283\n",
      "non_infringement       0.71      0.90      0.79       298\n",
      "\n",
      "        accuracy                           0.76       581\n",
      "       macro avg       0.78      0.75      0.75       581\n",
      "    weighted avg       0.78      0.76      0.75       581\n",
      "\n",
      "Epoch 120/500, Loss: 0.3790\n",
      "Test Accuracy at Epoch 120: 76.42%\n",
      "Classification Report at Epoch 120:\n",
      "                  precision    recall  f1-score   support\n",
      "\n",
      "    infringement       0.85      0.63      0.72       283\n",
      "non_infringement       0.72      0.90      0.80       298\n",
      "\n",
      "        accuracy                           0.76       581\n",
      "       macro avg       0.78      0.76      0.76       581\n",
      "    weighted avg       0.78      0.76      0.76       581\n",
      "\n"
     ]
    },
    {
     "name": "stderr",
     "output_type": "stream",
     "text": [
      "Training Epochs:  28%|██▊       | 142/500 [00:02<00:05, 59.68it/s]"
     ]
    },
    {
     "name": "stdout",
     "output_type": "stream",
     "text": [
      "Epoch 130/500, Loss: 0.3744\n",
      "Test Accuracy at Epoch 130: 71.08%\n",
      "Classification Report at Epoch 130:\n",
      "                  precision    recall  f1-score   support\n",
      "\n",
      "    infringement       0.84      0.50      0.63       283\n",
      "non_infringement       0.66      0.91      0.76       298\n",
      "\n",
      "        accuracy                           0.71       581\n",
      "       macro avg       0.75      0.71      0.70       581\n",
      "    weighted avg       0.75      0.71      0.70       581\n",
      "\n",
      "Epoch 140/500, Loss: 0.3706\n",
      "Test Accuracy at Epoch 140: 76.94%\n",
      "Classification Report at Epoch 140:\n",
      "                  precision    recall  f1-score   support\n",
      "\n",
      "    infringement       0.84      0.65      0.73       283\n",
      "non_infringement       0.73      0.88      0.80       298\n",
      "\n",
      "        accuracy                           0.77       581\n",
      "       macro avg       0.78      0.77      0.77       581\n",
      "    weighted avg       0.78      0.77      0.77       581\n",
      "\n",
      "New best model saved with accuracy 76.94% at epoch 140\n",
      "Best Classification Report at Epoch 140:\n",
      "                  precision    recall  f1-score   support\n",
      "\n",
      "    infringement       0.84      0.65      0.73       283\n",
      "non_infringement       0.73      0.88      0.80       298\n",
      "\n",
      "        accuracy                           0.77       581\n",
      "       macro avg       0.78      0.77      0.77       581\n",
      "    weighted avg       0.78      0.77      0.77       581\n",
      "\n"
     ]
    },
    {
     "name": "stderr",
     "output_type": "stream",
     "text": [
      "Training Epochs:  33%|███▎      | 164/500 [00:02<00:05, 60.28it/s]"
     ]
    },
    {
     "name": "stdout",
     "output_type": "stream",
     "text": [
      "Epoch 150/500, Loss: 0.3656\n",
      "Test Accuracy at Epoch 150: 70.05%\n",
      "Classification Report at Epoch 150:\n",
      "                  precision    recall  f1-score   support\n",
      "\n",
      "    infringement       0.84      0.48      0.61       283\n",
      "non_infringement       0.65      0.91      0.76       298\n",
      "\n",
      "        accuracy                           0.70       581\n",
      "       macro avg       0.74      0.69      0.68       581\n",
      "    weighted avg       0.74      0.70      0.68       581\n",
      "\n",
      "Epoch 160/500, Loss: 0.3598\n",
      "Test Accuracy at Epoch 160: 77.80%\n",
      "Classification Report at Epoch 160:\n",
      "                  precision    recall  f1-score   support\n",
      "\n",
      "    infringement       0.85      0.66      0.74       283\n",
      "non_infringement       0.73      0.89      0.80       298\n",
      "\n",
      "        accuracy                           0.78       581\n",
      "       macro avg       0.79      0.78      0.77       581\n",
      "    weighted avg       0.79      0.78      0.77       581\n",
      "\n",
      "New best model saved with accuracy 77.80% at epoch 160\n",
      "Best Classification Report at Epoch 160:\n",
      "                  precision    recall  f1-score   support\n",
      "\n",
      "    infringement       0.85      0.66      0.74       283\n",
      "non_infringement       0.73      0.89      0.80       298\n",
      "\n",
      "        accuracy                           0.78       581\n",
      "       macro avg       0.79      0.78      0.77       581\n",
      "    weighted avg       0.79      0.78      0.77       581\n",
      "\n"
     ]
    },
    {
     "name": "stderr",
     "output_type": "stream",
     "text": [
      "Training Epochs:  36%|███▌      | 178/500 [00:02<00:05, 58.76it/s]"
     ]
    },
    {
     "name": "stdout",
     "output_type": "stream",
     "text": [
      "Epoch 170/500, Loss: 0.3533\n",
      "Test Accuracy at Epoch 170: 70.05%\n",
      "Classification Report at Epoch 170:\n",
      "                  precision    recall  f1-score   support\n",
      "\n",
      "    infringement       0.84      0.48      0.61       283\n",
      "non_infringement       0.65      0.91      0.76       298\n",
      "\n",
      "        accuracy                           0.70       581\n",
      "       macro avg       0.74      0.69      0.68       581\n",
      "    weighted avg       0.74      0.70      0.68       581\n",
      "\n",
      "Epoch 180/500, Loss: 0.3471\n",
      "Test Accuracy at Epoch 180: 77.62%\n",
      "Classification Report at Epoch 180:\n",
      "                  precision    recall  f1-score   support\n",
      "\n",
      "    infringement       0.84      0.66      0.74       283\n",
      "non_infringement       0.73      0.88      0.80       298\n",
      "\n",
      "        accuracy                           0.78       581\n",
      "       macro avg       0.79      0.77      0.77       581\n",
      "    weighted avg       0.79      0.78      0.77       581\n",
      "\n"
     ]
    },
    {
     "name": "stderr",
     "output_type": "stream",
     "text": [
      "Training Epochs:  40%|████      | 200/500 [00:03<00:05, 58.56it/s]"
     ]
    },
    {
     "name": "stdout",
     "output_type": "stream",
     "text": [
      "Epoch 190/500, Loss: 0.3396\n",
      "Test Accuracy at Epoch 190: 70.05%\n",
      "Classification Report at Epoch 190:\n",
      "                  precision    recall  f1-score   support\n",
      "\n",
      "    infringement       0.85      0.47      0.60       283\n",
      "non_infringement       0.65      0.92      0.76       298\n",
      "\n",
      "        accuracy                           0.70       581\n",
      "       macro avg       0.75      0.69      0.68       581\n",
      "    weighted avg       0.74      0.70      0.68       581\n",
      "\n",
      "Epoch 200/500, Loss: 0.3313\n",
      "Test Accuracy at Epoch 200: 77.45%\n",
      "Classification Report at Epoch 200:\n",
      "                  precision    recall  f1-score   support\n",
      "\n",
      "    infringement       0.84      0.66      0.74       283\n",
      "non_infringement       0.73      0.88      0.80       298\n",
      "\n",
      "        accuracy                           0.77       581\n",
      "       macro avg       0.79      0.77      0.77       581\n",
      "    weighted avg       0.79      0.77      0.77       581\n",
      "\n"
     ]
    },
    {
     "name": "stderr",
     "output_type": "stream",
     "text": [
      "Training Epochs:  45%|████▍     | 223/500 [00:03<00:04, 65.81it/s]"
     ]
    },
    {
     "name": "stdout",
     "output_type": "stream",
     "text": [
      "Epoch 210/500, Loss: 0.3224\n",
      "Test Accuracy at Epoch 210: 71.26%\n",
      "Classification Report at Epoch 210:\n",
      "                  precision    recall  f1-score   support\n",
      "\n",
      "    infringement       0.85      0.50      0.63       283\n",
      "non_infringement       0.66      0.92      0.77       298\n",
      "\n",
      "        accuracy                           0.71       581\n",
      "       macro avg       0.75      0.71      0.70       581\n",
      "    weighted avg       0.75      0.71      0.70       581\n",
      "\n",
      "Epoch 220/500, Loss: 0.3132\n",
      "Test Accuracy at Epoch 220: 73.49%\n",
      "Classification Report at Epoch 220:\n",
      "                  precision    recall  f1-score   support\n",
      "\n",
      "    infringement       0.83      0.57      0.68       283\n",
      "non_infringement       0.69      0.89      0.77       298\n",
      "\n",
      "        accuracy                           0.73       581\n",
      "       macro avg       0.76      0.73      0.73       581\n",
      "    weighted avg       0.76      0.73      0.73       581\n",
      "\n"
     ]
    },
    {
     "name": "stderr",
     "output_type": "stream",
     "text": [
      "Training Epochs:  48%|████▊     | 238/500 [00:03<00:04, 60.52it/s]"
     ]
    },
    {
     "name": "stdout",
     "output_type": "stream",
     "text": [
      "Epoch 230/500, Loss: 0.3065\n",
      "Test Accuracy at Epoch 230: 71.60%\n",
      "Classification Report at Epoch 230:\n",
      "                  precision    recall  f1-score   support\n",
      "\n",
      "    infringement       0.82      0.53      0.65       283\n",
      "non_infringement       0.67      0.89      0.76       298\n",
      "\n",
      "        accuracy                           0.72       581\n",
      "       macro avg       0.75      0.71      0.70       581\n",
      "    weighted avg       0.74      0.72      0.71       581\n",
      "\n",
      "Epoch 240/500, Loss: 0.3020\n",
      "Test Accuracy at Epoch 240: 72.63%\n",
      "Classification Report at Epoch 240:\n",
      "                  precision    recall  f1-score   support\n",
      "\n",
      "    infringement       0.83      0.55      0.66       283\n",
      "non_infringement       0.68      0.89      0.77       298\n",
      "\n",
      "        accuracy                           0.73       581\n",
      "       macro avg       0.75      0.72      0.72       581\n",
      "    weighted avg       0.75      0.73      0.72       581\n",
      "\n"
     ]
    },
    {
     "name": "stderr",
     "output_type": "stream",
     "text": [
      "Training Epochs:  52%|█████▏    | 260/500 [00:04<00:04, 58.02it/s]"
     ]
    },
    {
     "name": "stdout",
     "output_type": "stream",
     "text": [
      "Epoch 250/500, Loss: 0.3156\n",
      "Test Accuracy at Epoch 250: 75.56%\n",
      "Classification Report at Epoch 250:\n",
      "                  precision    recall  f1-score   support\n",
      "\n",
      "    infringement       0.84      0.62      0.71       283\n",
      "non_infringement       0.71      0.89      0.79       298\n",
      "\n",
      "        accuracy                           0.76       581\n",
      "       macro avg       0.77      0.75      0.75       581\n",
      "    weighted avg       0.77      0.76      0.75       581\n",
      "\n",
      "Epoch 260/500, Loss: 0.2951\n",
      "Test Accuracy at Epoch 260: 71.08%\n",
      "Classification Report at Epoch 260:\n",
      "                  precision    recall  f1-score   support\n",
      "\n",
      "    infringement       0.83      0.51      0.63       283\n",
      "non_infringement       0.66      0.90      0.76       298\n",
      "\n",
      "        accuracy                           0.71       581\n",
      "       macro avg       0.74      0.71      0.70       581\n",
      "    weighted avg       0.74      0.71      0.70       581\n",
      "\n"
     ]
    },
    {
     "name": "stderr",
     "output_type": "stream",
     "text": [
      "Training Epochs:  55%|█████▌    | 275/500 [00:04<00:03, 58.61it/s]"
     ]
    },
    {
     "name": "stdout",
     "output_type": "stream",
     "text": [
      "Epoch 270/500, Loss: 0.2907\n",
      "Test Accuracy at Epoch 270: 73.15%\n",
      "Classification Report at Epoch 270:\n",
      "                  precision    recall  f1-score   support\n",
      "\n",
      "    infringement       0.83      0.56      0.67       283\n",
      "non_infringement       0.68      0.89      0.77       298\n",
      "\n",
      "        accuracy                           0.73       581\n",
      "       macro avg       0.76      0.73      0.72       581\n",
      "    weighted avg       0.76      0.73      0.72       581\n",
      "\n",
      "Epoch 280/500, Loss: 0.2972\n",
      "Test Accuracy at Epoch 280: 69.88%\n",
      "Classification Report at Epoch 280:\n",
      "                  precision    recall  f1-score   support\n",
      "\n",
      "    infringement       0.83      0.48      0.61       283\n",
      "non_infringement       0.65      0.91      0.76       298\n",
      "\n",
      "        accuracy                           0.70       581\n",
      "       macro avg       0.74      0.69      0.68       581\n",
      "    weighted avg       0.74      0.70      0.68       581\n",
      "\n"
     ]
    },
    {
     "name": "stderr",
     "output_type": "stream",
     "text": [
      "Training Epochs:  60%|█████▉    | 298/500 [00:04<00:03, 62.33it/s]"
     ]
    },
    {
     "name": "stdout",
     "output_type": "stream",
     "text": [
      "Epoch 290/500, Loss: 0.2882\n",
      "Test Accuracy at Epoch 290: 72.29%\n",
      "Classification Report at Epoch 290:\n",
      "                  precision    recall  f1-score   support\n",
      "\n",
      "    infringement       0.84      0.54      0.65       283\n",
      "non_infringement       0.67      0.90      0.77       298\n",
      "\n",
      "        accuracy                           0.72       581\n",
      "       macro avg       0.75      0.72      0.71       581\n",
      "    weighted avg       0.75      0.72      0.71       581\n",
      "\n",
      "Epoch 300/500, Loss: 0.2783\n",
      "Test Accuracy at Epoch 300: 71.60%\n",
      "Classification Report at Epoch 300:\n",
      "                  precision    recall  f1-score   support\n",
      "\n",
      "    infringement       0.83      0.52      0.64       283\n",
      "non_infringement       0.67      0.90      0.76       298\n",
      "\n",
      "        accuracy                           0.72       581\n",
      "       macro avg       0.75      0.71      0.70       581\n",
      "    weighted avg       0.75      0.72      0.70       581\n",
      "\n"
     ]
    },
    {
     "name": "stderr",
     "output_type": "stream",
     "text": [
      "Training Epochs:  64%|██████▍   | 320/500 [00:05<00:02, 66.88it/s]"
     ]
    },
    {
     "name": "stdout",
     "output_type": "stream",
     "text": [
      "Epoch 310/500, Loss: 0.2748\n",
      "Test Accuracy at Epoch 310: 71.94%\n",
      "Classification Report at Epoch 310:\n",
      "                  precision    recall  f1-score   support\n",
      "\n",
      "    infringement       0.83      0.53      0.65       283\n",
      "non_infringement       0.67      0.90      0.77       298\n",
      "\n",
      "        accuracy                           0.72       581\n",
      "       macro avg       0.75      0.71      0.71       581\n",
      "    weighted avg       0.75      0.72      0.71       581\n",
      "\n",
      "Epoch 320/500, Loss: 0.2689\n",
      "Test Accuracy at Epoch 320: 71.26%\n",
      "Classification Report at Epoch 320:\n",
      "                  precision    recall  f1-score   support\n",
      "\n",
      "    infringement       0.83      0.52      0.64       283\n",
      "non_infringement       0.66      0.90      0.76       298\n",
      "\n",
      "        accuracy                           0.71       581\n",
      "       macro avg       0.75      0.71      0.70       581\n",
      "    weighted avg       0.74      0.71      0.70       581\n",
      "\n"
     ]
    },
    {
     "name": "stderr",
     "output_type": "stream",
     "text": [
      "Training Epochs:  67%|██████▋   | 334/500 [00:05<00:02, 58.28it/s]"
     ]
    },
    {
     "name": "stdout",
     "output_type": "stream",
     "text": [
      "Epoch 330/500, Loss: 0.2647\n",
      "Test Accuracy at Epoch 330: 71.94%\n",
      "Classification Report at Epoch 330:\n",
      "                  precision    recall  f1-score   support\n",
      "\n",
      "    infringement       0.83      0.53      0.65       283\n",
      "non_infringement       0.67      0.90      0.77       298\n",
      "\n",
      "        accuracy                           0.72       581\n",
      "       macro avg       0.75      0.71      0.71       581\n",
      "    weighted avg       0.75      0.72      0.71       581\n",
      "\n",
      "Epoch 340/500, Loss: 0.2824\n",
      "Test Accuracy at Epoch 340: 68.67%\n"
     ]
    },
    {
     "name": "stderr",
     "output_type": "stream",
     "text": [
      "Training Epochs:  69%|██████▉   | 346/500 [00:05<00:02, 52.34it/s]"
     ]
    },
    {
     "name": "stdout",
     "output_type": "stream",
     "text": [
      "Classification Report at Epoch 340:\n",
      "                  precision    recall  f1-score   support\n",
      "\n",
      "    infringement       0.82      0.46      0.59       283\n",
      "non_infringement       0.64      0.91      0.75       298\n",
      "\n",
      "        accuracy                           0.69       581\n",
      "       macro avg       0.73      0.68      0.67       581\n",
      "    weighted avg       0.73      0.69      0.67       581\n",
      "\n",
      "Epoch 350/500, Loss: 0.2598\n",
      "Test Accuracy at Epoch 350: 72.12%\n"
     ]
    },
    {
     "name": "stderr",
     "output_type": "stream",
     "text": [
      "Training Epochs:  72%|███████▏  | 359/500 [00:05<00:02, 57.58it/s]"
     ]
    },
    {
     "name": "stdout",
     "output_type": "stream",
     "text": [
      "Classification Report at Epoch 350:\n",
      "                  precision    recall  f1-score   support\n",
      "\n",
      "    infringement       0.83      0.53      0.65       283\n",
      "non_infringement       0.67      0.90      0.77       298\n",
      "\n",
      "        accuracy                           0.72       581\n",
      "       macro avg       0.75      0.72      0.71       581\n",
      "    weighted avg       0.75      0.72      0.71       581\n",
      "\n",
      "Epoch 360/500, Loss: 0.2597\n",
      "Test Accuracy at Epoch 360: 71.26%\n",
      "Classification Report at Epoch 360:\n",
      "                  precision    recall  f1-score   support\n",
      "\n",
      "    infringement       0.83      0.52      0.64       283\n",
      "non_infringement       0.66      0.90      0.76       298\n",
      "\n",
      "        accuracy                           0.71       581\n",
      "       macro avg       0.75      0.71      0.70       581\n",
      "    weighted avg       0.74      0.71      0.70       581\n",
      "\n"
     ]
    },
    {
     "name": "stderr",
     "output_type": "stream",
     "text": [
      "Training Epochs:  76%|███████▌  | 380/500 [00:06<00:01, 60.77it/s]"
     ]
    },
    {
     "name": "stdout",
     "output_type": "stream",
     "text": [
      "Epoch 370/500, Loss: 0.2562\n",
      "Test Accuracy at Epoch 370: 71.08%\n",
      "Classification Report at Epoch 370:\n",
      "                  precision    recall  f1-score   support\n",
      "\n",
      "    infringement       0.83      0.51      0.63       283\n",
      "non_infringement       0.66      0.90      0.76       298\n",
      "\n",
      "        accuracy                           0.71       581\n",
      "       macro avg       0.74      0.71      0.70       581\n",
      "    weighted avg       0.74      0.71      0.70       581\n",
      "\n",
      "Epoch 380/500, Loss: 0.2516\n",
      "Test Accuracy at Epoch 380: 71.77%\n",
      "Classification Report at Epoch 380:\n",
      "                  precision    recall  f1-score   support\n",
      "\n",
      "    infringement       0.83      0.53      0.65       283\n",
      "non_infringement       0.67      0.90      0.77       298\n",
      "\n",
      "        accuracy                           0.72       581\n",
      "       macro avg       0.75      0.71      0.71       581\n",
      "    weighted avg       0.75      0.72      0.71       581\n",
      "\n"
     ]
    },
    {
     "name": "stderr",
     "output_type": "stream",
     "text": [
      "Training Epochs:  79%|███████▉  | 395/500 [00:06<00:01, 57.93it/s]"
     ]
    },
    {
     "name": "stdout",
     "output_type": "stream",
     "text": [
      "Epoch 390/500, Loss: 0.2489\n",
      "Test Accuracy at Epoch 390: 71.77%\n",
      "Classification Report at Epoch 390:\n",
      "                  precision    recall  f1-score   support\n",
      "\n",
      "    infringement       0.83      0.53      0.65       283\n",
      "non_infringement       0.67      0.90      0.77       298\n",
      "\n",
      "        accuracy                           0.72       581\n",
      "       macro avg       0.75      0.71      0.71       581\n",
      "    weighted avg       0.75      0.72      0.71       581\n",
      "\n"
     ]
    },
    {
     "name": "stderr",
     "output_type": "stream",
     "text": [
      "Training Epochs:  82%|████████▏ | 410/500 [00:06<00:01, 62.58it/s]"
     ]
    },
    {
     "name": "stdout",
     "output_type": "stream",
     "text": [
      "Epoch 400/500, Loss: 0.2466\n",
      "Test Accuracy at Epoch 400: 71.43%\n",
      "Classification Report at Epoch 400:\n",
      "                  precision    recall  f1-score   support\n",
      "\n",
      "    infringement       0.83      0.52      0.64       283\n",
      "non_infringement       0.66      0.90      0.76       298\n",
      "\n",
      "        accuracy                           0.71       581\n",
      "       macro avg       0.75      0.71      0.70       581\n",
      "    weighted avg       0.74      0.71      0.70       581\n",
      "\n",
      "Epoch 410/500, Loss: 0.2440\n",
      "Test Accuracy at Epoch 410: 72.12%\n",
      "Classification Report at Epoch 410:\n",
      "                  precision    recall  f1-score   support\n",
      "\n",
      "    infringement       0.83      0.53      0.65       283\n",
      "non_infringement       0.67      0.90      0.77       298\n",
      "\n",
      "        accuracy                           0.72       581\n",
      "       macro avg       0.75      0.72      0.71       581\n",
      "    weighted avg       0.75      0.72      0.71       581\n",
      "\n"
     ]
    },
    {
     "name": "stderr",
     "output_type": "stream",
     "text": [
      "Training Epochs:  86%|████████▌ | 430/500 [00:07<00:01, 57.19it/s]"
     ]
    },
    {
     "name": "stdout",
     "output_type": "stream",
     "text": [
      "Epoch 420/500, Loss: 0.2561\n",
      "Test Accuracy at Epoch 420: 75.73%\n",
      "Classification Report at Epoch 420:\n",
      "                  precision    recall  f1-score   support\n",
      "\n",
      "    infringement       0.84      0.61      0.71       283\n",
      "non_infringement       0.71      0.89      0.79       298\n",
      "\n",
      "        accuracy                           0.76       581\n",
      "       macro avg       0.78      0.75      0.75       581\n",
      "    weighted avg       0.78      0.76      0.75       581\n",
      "\n",
      "Epoch 430/500, Loss: 0.2430\n",
      "Test Accuracy at Epoch 430: 74.53%\n",
      "Classification Report at Epoch 430:\n",
      "                  precision    recall  f1-score   support\n",
      "\n",
      "    infringement       0.84      0.59      0.69       283\n",
      "non_infringement       0.70      0.89      0.78       298\n",
      "\n",
      "        accuracy                           0.75       581\n",
      "       macro avg       0.77      0.74      0.74       581\n",
      "    weighted avg       0.77      0.75      0.74       581\n",
      "\n"
     ]
    },
    {
     "name": "stderr",
     "output_type": "stream",
     "text": [
      "Training Epochs:  91%|█████████ | 453/500 [00:07<00:00, 59.39it/s]"
     ]
    },
    {
     "name": "stdout",
     "output_type": "stream",
     "text": [
      "Epoch 440/500, Loss: 0.2516\n",
      "Test Accuracy at Epoch 440: 72.12%\n",
      "Classification Report at Epoch 440:\n",
      "                  precision    recall  f1-score   support\n",
      "\n",
      "    infringement       0.83      0.53      0.65       283\n",
      "non_infringement       0.67      0.90      0.77       298\n",
      "\n",
      "        accuracy                           0.72       581\n",
      "       macro avg       0.75      0.72      0.71       581\n",
      "    weighted avg       0.75      0.72      0.71       581\n",
      "\n",
      "Epoch 450/500, Loss: 0.2378\n",
      "Test Accuracy at Epoch 450: 71.26%\n",
      "Classification Report at Epoch 450:\n",
      "                  precision    recall  f1-score   support\n",
      "\n",
      "    infringement       0.83      0.51      0.63       283\n",
      "non_infringement       0.66      0.90      0.76       298\n",
      "\n",
      "        accuracy                           0.71       581\n",
      "       macro avg       0.75      0.71      0.70       581\n",
      "    weighted avg       0.74      0.71      0.70       581\n",
      "\n"
     ]
    },
    {
     "name": "stderr",
     "output_type": "stream",
     "text": [
      "Training Epochs:  94%|█████████▍| 470/500 [00:07<00:00, 66.48it/s]"
     ]
    },
    {
     "name": "stdout",
     "output_type": "stream",
     "text": [
      "Epoch 460/500, Loss: 0.2375\n",
      "Test Accuracy at Epoch 460: 71.77%\n",
      "Classification Report at Epoch 460:\n",
      "                  precision    recall  f1-score   support\n",
      "\n",
      "    infringement       0.83      0.53      0.65       283\n",
      "non_infringement       0.67      0.90      0.77       298\n",
      "\n",
      "        accuracy                           0.72       581\n",
      "       macro avg       0.75      0.71      0.71       581\n",
      "    weighted avg       0.75      0.72      0.71       581\n",
      "\n",
      "Epoch 470/500, Loss: 0.2346\n",
      "Test Accuracy at Epoch 470: 71.94%\n",
      "Classification Report at Epoch 470:\n",
      "                  precision    recall  f1-score   support\n",
      "\n",
      "    infringement       0.83      0.53      0.65       283\n",
      "non_infringement       0.67      0.90      0.77       298\n",
      "\n",
      "        accuracy                           0.72       581\n",
      "       macro avg       0.75      0.71      0.71       581\n",
      "    weighted avg       0.75      0.72      0.71       581\n",
      "\n"
     ]
    },
    {
     "name": "stderr",
     "output_type": "stream",
     "text": [
      "Training Epochs:  98%|█████████▊| 489/500 [00:08<00:00, 69.11it/s]"
     ]
    },
    {
     "name": "stdout",
     "output_type": "stream",
     "text": [
      "Epoch 480/500, Loss: 0.2327\n",
      "Test Accuracy at Epoch 480: 71.94%\n",
      "Classification Report at Epoch 480:\n",
      "                  precision    recall  f1-score   support\n",
      "\n",
      "    infringement       0.83      0.53      0.65       283\n",
      "non_infringement       0.67      0.90      0.77       298\n",
      "\n",
      "        accuracy                           0.72       581\n",
      "       macro avg       0.75      0.71      0.71       581\n",
      "    weighted avg       0.75      0.72      0.71       581\n",
      "\n",
      "Epoch 490/500, Loss: 0.2307\n",
      "Test Accuracy at Epoch 490: 71.94%\n",
      "Classification Report at Epoch 490:\n",
      "                  precision    recall  f1-score   support\n",
      "\n",
      "    infringement       0.83      0.53      0.65       283\n",
      "non_infringement       0.67      0.90      0.77       298\n",
      "\n",
      "        accuracy                           0.72       581\n",
      "       macro avg       0.75      0.71      0.71       581\n",
      "    weighted avg       0.75      0.72      0.71       581\n",
      "\n"
     ]
    },
    {
     "name": "stderr",
     "output_type": "stream",
     "text": [
      "Training Epochs: 100%|██████████| 500/500 [00:08<00:00, 60.54it/s]\n",
      "/tmp/ipykernel_565821/1033092828.py:47: FutureWarning: You are using `torch.load` with `weights_only=False` (the current default value), which uses the default pickle module implicitly. It is possible to construct malicious pickle data which will execute arbitrary code during unpickling (See https://github.com/pytorch/pytorch/blob/main/SECURITY.md#untrusted-models for more details). In a future release, the default value for `weights_only` will be flipped to `True`. This limits the functions that could be executed during unpickling. Arbitrary objects will no longer be allowed to be loaded via this mode unless they are explicitly allowlisted by the user via `torch.serialization.add_safe_globals`. We recommend you start setting `weights_only=True` for any use case where you don't have full control of the loaded file. Please open an issue on GitHub for any issues related to this experimental feature.\n",
      "  custom_mlp.load_state_dict(torch.load(checkpoint_path))\n"
     ]
    },
    {
     "name": "stdout",
     "output_type": "stream",
     "text": [
      "Epoch 500/500, Loss: 0.2291\n",
      "Test Accuracy at Epoch 500: 71.94%\n",
      "Classification Report at Epoch 500:\n",
      "                  precision    recall  f1-score   support\n",
      "\n",
      "    infringement       0.83      0.53      0.65       283\n",
      "non_infringement       0.67      0.90      0.77       298\n",
      "\n",
      "        accuracy                           0.72       581\n",
      "       macro avg       0.75      0.71      0.71       581\n",
      "    weighted avg       0.75      0.72      0.71       581\n",
      "\n"
     ]
    },
    {
     "data": {
      "image/png": "[encoded data removed]",
      "text/plain": [
       "<Figure size 1000x500 with 1 Axes>"
      ]
     },
     "metadata": {},
     "output_type": "display_data"
    },
    {
     "name": "stdout",
     "output_type": "stream",
     "text": [
      "Final Model Accuracy: 77.80%\n"
     ]
    }
   ],
   "source": [
    "input_dim = X_train.shape[1]\n",
    "hidden_dim = 256 \n",
    "print(f\"Training MLP model with input_dim={input_dim} and hidden_dim={hidden_dim}\")\n",
    "\n",
    "custom_mlp, losses, best_accuracy = train_model(X_train, y_train, X_test, y_test, input_dim, hidden_dim)"
   ]
  },
  {
   "cell_type": "code",
   "execution_count": 11,
   "metadata": {},
   "outputs": [
    {
     "name": "stdout",
     "output_type": "stream",
     "text": [
      "Checkpoint saved to '/home/guangwei/LLM-COPYRIGHT/copyright_newVersion/models/train_input_reference_last_layer_without_model.pth'.\n"
     ]
    }
   ],
   "source": [
    "def save_checkpoint(model, optimizer, epoch, loss, filepath):\n",
    "    checkpoint = {\n",
    "        'epoch': epoch + 1,\n",
    "        'model_state_dict': model.state_dict(),\n",
    "        'optimizer_state_dict': optimizer.state_dict(),\n",
    "        'loss': loss\n",
    "    }\n",
    "    torch.save(checkpoint, filepath)\n",
    "    print(f\"Checkpoint saved to '{filepath}'.\")\n",
    "\n",
    "save_checkpoint(custom_mlp, torch.optim.Adam(custom_mlp.parameters()), len(losses), losses[-1], checkpoint_file)"
   ]
  },
  {
   "cell_type": "code",
   "execution_count": 12,
   "metadata": {},
   "outputs": [
    {
     "name": "stdout",
     "output_type": "stream",
     "text": [
      "                  precision    recall  f1-score   support\n",
      "\n",
      "    infringement       0.85      0.66      0.74       283\n",
      "non_infringement       0.73      0.89      0.80       298\n",
      "\n",
      "        accuracy                           0.78       581\n",
      "       macro avg       0.79      0.78      0.77       581\n",
      "    weighted avg       0.79      0.78      0.77       581\n",
      "\n"
     ]
    },
    {
     "name": "stderr",
     "output_type": "stream",
     "text": [
      "/tmp/ipykernel_565821/2137335780.py:1: UserWarning: To copy construct from a tensor, it is recommended to use sourceTensor.clone().detach() or sourceTensor.clone().detach().requires_grad_(True), rather than torch.tensor(sourceTensor).\n",
      "  y_pred_final = (torch.sigmoid(torch.tensor(custom_mlp(torch.tensor(X_test, dtype=torch.float32)))) > 0.5).float().numpy()\n"
     ]
    }
   ],
   "source": [
    "y_pred_final = (torch.sigmoid(torch.tensor(custom_mlp(torch.tensor(X_test, dtype=torch.float32)))) > 0.5).float().numpy()\n",
    "print(classification_report(y_test, y_pred_final, target_names=[\"infringement\", \"non_infringement\"]))"
   ]
  }
 ],
 "metadata": {
  "kernelspec": {
   "display_name": "sit",
   "language": "python",
   "name": "python3"
  },
  "language_info": {
   "codemirror_mode": {
    "name": "ipython",
    "version": 3
   },
   "file_extension": ".py",
   "mimetype": "text/x-python",
   "name": "python",
   "nbconvert_exporter": "python",
   "pygments_lexer": "ipython3",
   "version": "3.9.20"
  }
 },
 "nbformat": 4,
 "nbformat_minor": 2
}
