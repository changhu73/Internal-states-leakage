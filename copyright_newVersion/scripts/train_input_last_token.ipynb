{
 "cells": [
  {
   "cell_type": "code",
   "execution_count": 1,
   "metadata": {},
   "outputs": [
    {
     "name": "stderr",
     "output_type": "stream",
     "text": [
      "/home/guangwei/anaconda3/envs/sit/lib/python3.8/site-packages/tqdm/auto.py:21: TqdmWarning: IProgress not found. Please update jupyter and ipywidgets. See https://ipywidgets.readthedocs.io/en/stable/user_install.html\n",
      "  from .autonotebook import tqdm as notebook_tqdm\n"
     ]
    }
   ],
   "source": [
    "# import packages\n",
    "import torch\n",
    "import torch.nn as nn\n",
    "import numpy as np\n",
    "from sklearn.metrics import accuracy_score, classification_report\n",
    "import matplotlib.pyplot as plt\n",
    "from tqdm import tqdm\n",
    "from transformers import AutoTokenizer, AutoModelForCausalLM\n",
    "import json\n",
    "\n",
    "# Variables\n",
    "model_name = 'meta-llama/Meta-Llama-3.1-8B'\n",
    "non_infringement_file = '/home/guangwei/LLM-COPYRIGHT/copyright_newVersion/test_division/extra.non_infringement.json'\n",
    "infringement_file = '/home/guangwei/LLM-COPYRIGHT/copyright_newVersion/test_division/extra.infringement.json'\n",
    "checkpoint_file = '/home/guangwei/LLM-COPYRIGHT/copyright_newVersion/models/custom_mlp_model.pth'"
   ]
  },
  {
   "cell_type": "code",
   "execution_count": 2,
   "metadata": {},
   "outputs": [],
   "source": [
    "# Define CustumMLP for internal states train\n",
    "class CustomMLP(nn.Module):\n",
    "    def __init__(self, input_dim, hidden_dim):\n",
    "        super(CustomMLP, self).__init__()\n",
    "        self.down = nn.Linear(input_dim, hidden_dim)\n",
    "        self.gate = nn.Linear(input_dim, hidden_dim)\n",
    "        self.up = nn.Linear(hidden_dim, 1)\n",
    "        self.activation = nn.SiLU()\n",
    "\n",
    "    def forward(self, x):\n",
    "        down_output = self.down(x)\n",
    "        gate_output = self.gate(x)\n",
    "        gated_output = down_output * self.activation(gate_output)\n",
    "        return self.up(gated_output)"
   ]
  },
  {
   "cell_type": "code",
   "execution_count": 3,
   "metadata": {},
   "outputs": [],
   "source": [
    "def extract_last_token_hidden_states(texts, model, tokenizer, batch_size=4):\n",
    "    hidden_states = []\n",
    "    for i in tqdm(range(0, len(texts), batch_size), desc=\"Processing data batches\"):\n",
    "        batch_texts = texts[i:i + batch_size]\n",
    "        inputs = tokenizer(batch_texts, return_tensors=\"pt\", padding=True, truncation=True)\n",
    "        with torch.no_grad():\n",
    "            outputs = model(**inputs)\n",
    "        \n",
    "        # 访问最后一个隐藏层的最后一个token的隐藏状态\n",
    "        # hidden_states[-1]表示最后一个隐藏层，mean(dim=1)表示取所有头的均值\n",
    "        last_layer_hidden_states = outputs.hidden_states[-1]\n",
    "        # print(\"Size of last layer hidden states:\", last_layer_hidden_states.size())\n",
    "        last_token_hidden_states = last_layer_hidden_states[:, -1, :]  # -1表示最后一个token\n",
    "        # print(\"last token hidden states:\", last_token_hidden_states)\n",
    "        hidden_states.append(last_token_hidden_states.cpu().numpy())\n",
    "    return np.vstack(hidden_states)"
   ]
  },
  {
   "cell_type": "code",
   "execution_count": 4,
   "metadata": {},
   "outputs": [],
   "source": [
    "# lode data for infringement & non infringement\n",
    "def load_data(non_infringement_file, infringement_file):\n",
    "    with open(non_infringement_file, 'r', encoding='utf-8') as file:\n",
    "        non_infringement_json_data = json.load(file)\n",
    "\n",
    "    non_infringement_outputs = [entry['input'] for entry in non_infringement_json_data]\n",
    "    y_non_infringement = [1] * len(non_infringement_outputs)\n",
    "\n",
    "    with open(infringement_file, 'r', encoding='utf-8') as file:\n",
    "        infringement_json_data = json.load(file)\n",
    "\n",
    "    infringement_outputs = [entry['input'] for entry in infringement_json_data]\n",
    "    y_infringement = [0] * len(infringement_outputs)\n",
    "\n",
    "    return non_infringement_outputs, y_non_infringement, infringement_outputs, y_infringement"
   ]
  },
  {
   "cell_type": "code",
   "execution_count": 5,
   "metadata": {},
   "outputs": [],
   "source": [
    "# Train for best model\n",
    "def train_model(X_train, y_train, X_test, y_test, input_dim, hidden_dim, epochs=500, lr=0.001, checkpoint_path=\"/home/guangwei/LLM-COPYRIGHT/copyright_newVersion/models/best_model.pth\"):\n",
    "    custom_mlp = CustomMLP(input_dim, hidden_dim)\n",
    "    criterion = nn.BCEWithLogitsLoss()\n",
    "    optimizer = torch.optim.Adam(custom_mlp.parameters(), lr=lr)\n",
    "\n",
    "    X_train_tensor = torch.tensor(X_train, dtype=torch.float32)\n",
    "    y_train_tensor = torch.tensor(y_train, dtype=torch.float32).unsqueeze(1)\n",
    "\n",
    "    best_accuracy = -float('inf')  # Initialize the best accuracy to negative infinity\n",
    "    best_model_state = None  # Store the state of the best model\n",
    "    best_epoch = 0  # Track the epoch with the best accuracy\n",
    "    losses = []\n",
    "\n",
    "    for epoch in tqdm(range(epochs), desc=\"Training Epochs\"):\n",
    "        custom_mlp.train()\n",
    "        optimizer.zero_grad()\n",
    "        outputs = custom_mlp(X_train_tensor)\n",
    "        loss = criterion(outputs, y_train_tensor)\n",
    "        loss.backward()\n",
    "        optimizer.step()\n",
    "        losses.append(loss.item())\n",
    "        \n",
    "        if (epoch + 1) % 10 == 0:\n",
    "            print(f\"Epoch {epoch + 1}/{epochs}, Loss: {loss.item():.4f}\")\n",
    "            \n",
    "            custom_mlp.eval()\n",
    "            X_test_tensor = torch.tensor(X_test, dtype=torch.float32)\n",
    "            with torch.no_grad():\n",
    "                y_pred_logits = custom_mlp(X_test_tensor)\n",
    "                y_pred = (torch.sigmoid(y_pred_logits) > 0.5).float().numpy()\n",
    "            \n",
    "            accuracy = accuracy_score(y_test, y_pred)\n",
    "            print(f\"Test Accuracy at Epoch {epoch + 1}: {accuracy * 100:.2f}%\")\n",
    "            \n",
    "            report = classification_report(y_test, y_pred, target_names=[\"infringement\", \"non_infringement\"])\n",
    "            print(f\"Classification Report at Epoch {epoch + 1}:\\n{report}\")\n",
    "\n",
    "            if accuracy > best_accuracy:\n",
    "                best_accuracy = accuracy\n",
    "                best_model_state = custom_mlp.state_dict()\n",
    "                best_epoch = epoch + 1\n",
    "                torch.save(best_model_state, checkpoint_path)\n",
    "                print(f\"New best model saved with accuracy {best_accuracy * 100:.2f}% at epoch {best_epoch}\")\n",
    "                print(f\"Best Classification Report at Epoch {best_epoch}:\\n{report}\")\n",
    "\n",
    "    custom_mlp.load_state_dict(torch.load(checkpoint_path))\n",
    "\n",
    "    plt.figure(figsize=(10, 5))\n",
    "    plt.plot(losses, label='Training Loss')\n",
    "    plt.xlabel('Epoch')\n",
    "    plt.ylabel('Loss')\n",
    "    plt.title('Training Loss Curve')\n",
    "    plt.legend()\n",
    "    plt.show()\n",
    "\n",
    "    print(f\"Best Model was saved at epoch {best_epoch} with accuracy {best_accuracy * 100:.2f}%\")\n",
    "    return custom_mlp, losses, best_accuracy"
   ]
  },
  {
   "cell_type": "code",
   "execution_count": 6,
   "metadata": {},
   "outputs": [
    {
     "name": "stderr",
     "output_type": "stream",
     "text": [
      "/home/guangwei/anaconda3/envs/sit/lib/python3.8/site-packages/transformers/generation/configuration_utils.py:777: UserWarning: `return_dict_in_generate` is NOT set to `True`, but `output_hidden_states` is. When `return_dict_in_generate` is not `True`, `output_hidden_states` is ignored.\n",
      "  warnings.warn(\n",
      "Loading checkpoint shards: 100%|██████████| 4/4 [00:02<00:00,  1.44it/s]\n"
     ]
    }
   ],
   "source": [
    "\n",
    "tokenizer = AutoTokenizer.from_pretrained(model_name, model_max_length=512)\n",
    "model = AutoModelForCausalLM.from_pretrained(model_name, output_hidden_states=True)\n",
    "tokenizer.pad_token = tokenizer.eos_token\n",
    "\n",
    "non_infringement_outputs, y_non_infringement, infringement_outputs, y_infringement = load_data(non_infringement_file, infringement_file)\n",
    "\n",
    "y_non_infringement = np.array(y_non_infringement)\n",
    "y_infringement = np.array(y_infringement)\n"
   ]
  },
  {
   "cell_type": "code",
   "execution_count": 7,
   "metadata": {},
   "outputs": [
    {
     "name": "stdout",
     "output_type": "stream",
     "text": [
      "Extracting hidden states for non_infringement texts...\n"
     ]
    },
    {
     "name": "stderr",
     "output_type": "stream",
     "text": [
      "Processing data batches:   0%|          | 0/373 [00:00<?, ?it/s]Starting from v4.46, the `logits` model output will have the same type as the model (except at train time, where it will always be FP32)\n",
      "Processing data batches:  12%|█▏        | 45/373 [11:52<3:04:57, 33.84s/it]"
     ]
    }
   ],
   "source": [
    "print(\"Extracting hidden states for non_infringement texts...\")\n",
    "X_non_infringement = extract_last_token_hidden_states(non_infringement_outputs, model, tokenizer)\n",
    "\n",
    "print(\"Extracting hidden states for infringement texts...\")\n",
    "X_infringement = extract_last_token_hidden_states(infringement_outputs, model, tokenizer)\n"
   ]
  },
  {
   "cell_type": "code",
   "execution_count": 12,
   "metadata": {},
   "outputs": [
    {
     "name": "stdout",
     "output_type": "stream",
     "text": [
      "Data successfully split into training and test sets.\n"
     ]
    }
   ],
   "source": [
    "split_index_non_infringement = int(0.8 * len(X_non_infringement))\n",
    "X_non_infringement_train = X_non_infringement[:split_index_non_infringement]\n",
    "X_non_infringement_test = X_non_infringement[split_index_non_infringement:]\n",
    "y_non_infringement_train = y_non_infringement[:split_index_non_infringement]\n",
    "y_non_infringement_test = y_non_infringement[split_index_non_infringement:]\n",
    "\n",
    "split_index_infringement = int(0.8 * len(X_infringement))\n",
    "X_infringement_train = X_infringement[:split_index_infringement]\n",
    "X_infringement_test = X_infringement[split_index_infringement:]\n",
    "y_infringement_train = y_infringement[:split_index_infringement]\n",
    "y_infringement_test = y_infringement[split_index_infringement:]\n",
    "\n",
    "X_train = np.vstack((X_non_infringement_train, X_infringement_train))\n",
    "X_test = np.vstack((X_non_infringement_test, X_infringement_test))\n",
    "y_train = np.concatenate((y_non_infringement_train, y_infringement_train))\n",
    "y_test = np.concatenate((y_non_infringement_test, y_infringement_test))\n",
    "\n",
    "print(\"Data successfully split into training and test sets.\")\n"
   ]
  },
  {
   "cell_type": "code",
   "execution_count": 13,
   "metadata": {},
   "outputs": [
    {
     "name": "stderr",
     "output_type": "stream",
     "text": [
      "Training Epochs:   0%|          | 0/500 [00:00<?, ?it/s]"
     ]
    },
    {
     "name": "stderr",
     "output_type": "stream",
     "text": [
      "Training Epochs:   3%|▎         | 16/500 [00:00<00:10, 47.34it/s]"
     ]
    },
    {
     "name": "stdout",
     "output_type": "stream",
     "text": [
      "Epoch 10/500, Loss: 0.5328\n",
      "Test Accuracy at Epoch 10: 67.32%\n",
      "Classification Report at Epoch 10:\n",
      "                  precision    recall  f1-score   support\n",
      "\n",
      "    infringement       0.94      0.31      0.47       211\n",
      "non_infringement       0.62      0.98      0.76       245\n",
      "\n",
      "        accuracy                           0.67       456\n",
      "       macro avg       0.78      0.65      0.62       456\n",
      "    weighted avg       0.77      0.67      0.63       456\n",
      "\n",
      "New best model saved with accuracy 67.32% at epoch 10\n",
      "Best Classification Report at Epoch 10:\n",
      "                  precision    recall  f1-score   support\n",
      "\n",
      "    infringement       0.94      0.31      0.47       211\n",
      "non_infringement       0.62      0.98      0.76       245\n",
      "\n",
      "        accuracy                           0.67       456\n",
      "       macro avg       0.78      0.65      0.62       456\n",
      "    weighted avg       0.77      0.67      0.63       456\n",
      "\n"
     ]
    },
    {
     "name": "stderr",
     "output_type": "stream",
     "text": [
      "Training Epochs:   5%|▌         | 27/500 [00:00<00:10, 46.92it/s]"
     ]
    },
    {
     "name": "stdout",
     "output_type": "stream",
     "text": [
      "Epoch 20/500, Loss: 0.3919\n",
      "Test Accuracy at Epoch 20: 67.54%\n",
      "Classification Report at Epoch 20:\n",
      "                  precision    recall  f1-score   support\n",
      "\n",
      "    infringement       0.73      0.47      0.57       211\n",
      "non_infringement       0.65      0.85      0.74       245\n",
      "\n",
      "        accuracy                           0.68       456\n",
      "       macro avg       0.69      0.66      0.66       456\n",
      "    weighted avg       0.69      0.68      0.66       456\n",
      "\n",
      "New best model saved with accuracy 67.54% at epoch 20\n",
      "Best Classification Report at Epoch 20:\n",
      "                  precision    recall  f1-score   support\n",
      "\n",
      "    infringement       0.73      0.47      0.57       211\n",
      "non_infringement       0.65      0.85      0.74       245\n",
      "\n",
      "        accuracy                           0.68       456\n",
      "       macro avg       0.69      0.66      0.66       456\n",
      "    weighted avg       0.69      0.68      0.66       456\n",
      "\n"
     ]
    },
    {
     "name": "stderr",
     "output_type": "stream",
     "text": [
      "Training Epochs:   8%|▊         | 38/500 [00:00<00:10, 45.97it/s]"
     ]
    },
    {
     "name": "stdout",
     "output_type": "stream",
     "text": [
      "Epoch 30/500, Loss: 0.3469\n",
      "Test Accuracy at Epoch 30: 69.52%\n",
      "Classification Report at Epoch 30:\n",
      "                  precision    recall  f1-score   support\n",
      "\n",
      "    infringement       0.79      0.47      0.59       211\n",
      "non_infringement       0.66      0.89      0.76       245\n",
      "\n",
      "        accuracy                           0.70       456\n",
      "       macro avg       0.72      0.68      0.67       456\n",
      "    weighted avg       0.72      0.70      0.68       456\n",
      "\n",
      "New best model saved with accuracy 69.52% at epoch 30\n",
      "Best Classification Report at Epoch 30:\n",
      "                  precision    recall  f1-score   support\n",
      "\n",
      "    infringement       0.79      0.47      0.59       211\n",
      "non_infringement       0.66      0.89      0.76       245\n",
      "\n",
      "        accuracy                           0.70       456\n",
      "       macro avg       0.72      0.68      0.67       456\n",
      "    weighted avg       0.72      0.70      0.68       456\n",
      "\n"
     ]
    },
    {
     "name": "stderr",
     "output_type": "stream",
     "text": [
      "Training Epochs:   9%|▊         | 43/500 [00:00<00:10, 42.47it/s]"
     ]
    },
    {
     "name": "stdout",
     "output_type": "stream",
     "text": [
      "Epoch 40/500, Loss: 0.3241\n",
      "Test Accuracy at Epoch 40: 70.61%\n",
      "Classification Report at Epoch 40:\n",
      "                  precision    recall  f1-score   support\n",
      "\n",
      "    infringement       0.83      0.46      0.59       211\n",
      "non_infringement       0.66      0.92      0.77       245\n",
      "\n",
      "        accuracy                           0.71       456\n",
      "       macro avg       0.75      0.69      0.68       456\n",
      "    weighted avg       0.74      0.71      0.69       456\n",
      "\n",
      "New best model saved with accuracy 70.61% at epoch 40\n",
      "Best Classification Report at Epoch 40:\n",
      "                  precision    recall  f1-score   support\n",
      "\n",
      "    infringement       0.83      0.46      0.59       211\n",
      "non_infringement       0.66      0.92      0.77       245\n",
      "\n",
      "        accuracy                           0.71       456\n",
      "       macro avg       0.75      0.69      0.68       456\n",
      "    weighted avg       0.74      0.71      0.69       456\n",
      "\n"
     ]
    },
    {
     "name": "stderr",
     "output_type": "stream",
     "text": [
      "Training Epochs:  11%|█         | 54/500 [00:01<00:09, 44.86it/s]"
     ]
    },
    {
     "name": "stdout",
     "output_type": "stream",
     "text": [
      "Epoch 50/500, Loss: 0.3078\n",
      "Test Accuracy at Epoch 50: 69.52%\n",
      "Classification Report at Epoch 50:\n",
      "                  precision    recall  f1-score   support\n",
      "\n",
      "    infringement       0.82      0.44      0.57       211\n",
      "non_infringement       0.65      0.91      0.76       245\n",
      "\n",
      "        accuracy                           0.70       456\n",
      "       macro avg       0.74      0.68      0.67       456\n",
      "    weighted avg       0.73      0.70      0.67       456\n",
      "\n"
     ]
    },
    {
     "name": "stderr",
     "output_type": "stream",
     "text": [
      "Training Epochs:  13%|█▎        | 66/500 [00:01<00:09, 47.25it/s]"
     ]
    },
    {
     "name": "stdout",
     "output_type": "stream",
     "text": [
      "Epoch 60/500, Loss: 0.3060\n",
      "Test Accuracy at Epoch 60: 69.74%\n",
      "Classification Report at Epoch 60:\n",
      "                  precision    recall  f1-score   support\n",
      "\n",
      "    infringement       0.82      0.44      0.57       211\n",
      "non_infringement       0.66      0.92      0.77       245\n",
      "\n",
      "        accuracy                           0.70       456\n",
      "       macro avg       0.74      0.68      0.67       456\n",
      "    weighted avg       0.73      0.70      0.68       456\n",
      "\n"
     ]
    },
    {
     "name": "stderr",
     "output_type": "stream",
     "text": [
      "Training Epochs:  15%|█▌        | 77/500 [00:01<00:08, 48.56it/s]"
     ]
    },
    {
     "name": "stdout",
     "output_type": "stream",
     "text": [
      "Epoch 70/500, Loss: 0.2947\n",
      "Test Accuracy at Epoch 70: 69.96%\n",
      "Classification Report at Epoch 70:\n",
      "                  precision    recall  f1-score   support\n",
      "\n",
      "    infringement       0.82      0.45      0.58       211\n",
      "non_infringement       0.66      0.92      0.77       245\n",
      "\n",
      "        accuracy                           0.70       456\n",
      "       macro avg       0.74      0.68      0.67       456\n",
      "    weighted avg       0.74      0.70      0.68       456\n",
      "\n"
     ]
    },
    {
     "name": "stderr",
     "output_type": "stream",
     "text": [
      "Training Epochs:  18%|█▊        | 88/500 [00:01<00:08, 49.23it/s]"
     ]
    },
    {
     "name": "stdout",
     "output_type": "stream",
     "text": [
      "Epoch 80/500, Loss: 0.2871\n",
      "Test Accuracy at Epoch 80: 69.74%\n",
      "Classification Report at Epoch 80:\n",
      "                  precision    recall  f1-score   support\n",
      "\n",
      "    infringement       0.82      0.45      0.58       211\n",
      "non_infringement       0.66      0.91      0.76       245\n",
      "\n",
      "        accuracy                           0.70       456\n",
      "       macro avg       0.74      0.68      0.67       456\n",
      "    weighted avg       0.73      0.70      0.68       456\n",
      "\n"
     ]
    },
    {
     "name": "stderr",
     "output_type": "stream",
     "text": [
      "Training Epochs:  20%|█▉        | 99/500 [00:02<00:08, 49.37it/s]"
     ]
    },
    {
     "name": "stdout",
     "output_type": "stream",
     "text": [
      "Epoch 90/500, Loss: 0.2812\n",
      "Test Accuracy at Epoch 90: 69.74%\n",
      "Classification Report at Epoch 90:\n",
      "                  precision    recall  f1-score   support\n",
      "\n",
      "    infringement       0.82      0.45      0.58       211\n",
      "non_infringement       0.66      0.91      0.76       245\n",
      "\n",
      "        accuracy                           0.70       456\n",
      "       macro avg       0.74      0.68      0.67       456\n",
      "    weighted avg       0.73      0.70      0.68       456\n",
      "\n"
     ]
    },
    {
     "name": "stderr",
     "output_type": "stream",
     "text": [
      "Training Epochs:  21%|██        | 104/500 [00:02<00:08, 48.29it/s]"
     ]
    },
    {
     "name": "stdout",
     "output_type": "stream",
     "text": [
      "Epoch 100/500, Loss: 0.3000\n",
      "Test Accuracy at Epoch 100: 69.96%\n",
      "Classification Report at Epoch 100:\n",
      "                  precision    recall  f1-score   support\n",
      "\n",
      "    infringement       0.82      0.45      0.58       211\n",
      "non_infringement       0.66      0.91      0.77       245\n",
      "\n",
      "        accuracy                           0.70       456\n",
      "       macro avg       0.74      0.68      0.67       456\n",
      "    weighted avg       0.73      0.70      0.68       456\n",
      "\n"
     ]
    },
    {
     "name": "stderr",
     "output_type": "stream",
     "text": [
      "Training Epochs:  23%|██▎       | 116/500 [00:02<00:07, 49.39it/s]"
     ]
    },
    {
     "name": "stdout",
     "output_type": "stream",
     "text": [
      "Epoch 110/500, Loss: 0.2793\n",
      "Test Accuracy at Epoch 110: 69.74%\n",
      "Classification Report at Epoch 110:\n",
      "                  precision    recall  f1-score   support\n",
      "\n",
      "    infringement       0.81      0.45      0.58       211\n",
      "non_infringement       0.66      0.91      0.76       245\n",
      "\n",
      "        accuracy                           0.70       456\n",
      "       macro avg       0.73      0.68      0.67       456\n",
      "    weighted avg       0.73      0.70      0.68       456\n",
      "\n"
     ]
    },
    {
     "name": "stderr",
     "output_type": "stream",
     "text": [
      "Training Epochs:  25%|██▌       | 127/500 [00:02<00:07, 49.59it/s]"
     ]
    },
    {
     "name": "stdout",
     "output_type": "stream",
     "text": [
      "Epoch 120/500, Loss: 0.2720\n",
      "Test Accuracy at Epoch 120: 69.96%\n",
      "Classification Report at Epoch 120:\n",
      "                  precision    recall  f1-score   support\n",
      "\n",
      "    infringement       0.82      0.45      0.58       211\n",
      "non_infringement       0.66      0.92      0.77       245\n",
      "\n",
      "        accuracy                           0.70       456\n",
      "       macro avg       0.74      0.68      0.67       456\n",
      "    weighted avg       0.74      0.70      0.68       456\n",
      "\n"
     ]
    },
    {
     "name": "stderr",
     "output_type": "stream",
     "text": [
      "Training Epochs:  28%|██▊       | 138/500 [00:02<00:07, 49.06it/s]"
     ]
    },
    {
     "name": "stdout",
     "output_type": "stream",
     "text": [
      "Epoch 130/500, Loss: 0.2680\n",
      "Test Accuracy at Epoch 130: 69.30%\n",
      "Classification Report at Epoch 130:\n",
      "                  precision    recall  f1-score   support\n",
      "\n",
      "    infringement       0.81      0.44      0.57       211\n",
      "non_infringement       0.65      0.91      0.76       245\n",
      "\n",
      "        accuracy                           0.69       456\n",
      "       macro avg       0.73      0.68      0.67       456\n",
      "    weighted avg       0.73      0.69      0.67       456\n",
      "\n"
     ]
    },
    {
     "name": "stderr",
     "output_type": "stream",
     "text": [
      "Training Epochs:  30%|██▉       | 149/500 [00:03<00:07, 49.57it/s]"
     ]
    },
    {
     "name": "stdout",
     "output_type": "stream",
     "text": [
      "Epoch 140/500, Loss: 0.2666\n",
      "Test Accuracy at Epoch 140: 69.52%\n",
      "Classification Report at Epoch 140:\n",
      "                  precision    recall  f1-score   support\n",
      "\n",
      "    infringement       0.83      0.43      0.57       211\n",
      "non_infringement       0.65      0.92      0.76       245\n",
      "\n",
      "        accuracy                           0.70       456\n",
      "       macro avg       0.74      0.68      0.67       456\n",
      "    weighted avg       0.73      0.70      0.67       456\n",
      "\n"
     ]
    },
    {
     "name": "stderr",
     "output_type": "stream",
     "text": [
      "Training Epochs:  31%|███       | 154/500 [00:03<00:07, 48.46it/s]"
     ]
    },
    {
     "name": "stdout",
     "output_type": "stream",
     "text": [
      "Epoch 150/500, Loss: 0.2631\n",
      "Test Accuracy at Epoch 150: 69.74%\n",
      "Classification Report at Epoch 150:\n",
      "                  precision    recall  f1-score   support\n",
      "\n",
      "    infringement       0.82      0.45      0.58       211\n",
      "non_infringement       0.66      0.91      0.76       245\n",
      "\n",
      "        accuracy                           0.70       456\n",
      "       macro avg       0.74      0.68      0.67       456\n",
      "    weighted avg       0.73      0.70      0.68       456\n",
      "\n",
      "Epoch 160/500, Loss: 0.2608\n"
     ]
    },
    {
     "name": "stderr",
     "output_type": "stream",
     "text": [
      "Training Epochs:  33%|███▎      | 165/500 [00:03<00:06, 48.34it/s]"
     ]
    },
    {
     "name": "stdout",
     "output_type": "stream",
     "text": [
      "Test Accuracy at Epoch 160: 69.30%\n",
      "Classification Report at Epoch 160:\n",
      "                  precision    recall  f1-score   support\n",
      "\n",
      "    infringement       0.81      0.44      0.57       211\n",
      "non_infringement       0.65      0.91      0.76       245\n",
      "\n",
      "        accuracy                           0.69       456\n",
      "       macro avg       0.73      0.68      0.67       456\n",
      "    weighted avg       0.73      0.69      0.67       456\n",
      "\n"
     ]
    },
    {
     "name": "stderr",
     "output_type": "stream",
     "text": [
      "Training Epochs:  35%|███▌      | 176/500 [00:03<00:06, 48.69it/s]"
     ]
    },
    {
     "name": "stdout",
     "output_type": "stream",
     "text": [
      "Epoch 170/500, Loss: 0.2575\n",
      "Test Accuracy at Epoch 170: 69.74%\n",
      "Classification Report at Epoch 170:\n",
      "                  precision    recall  f1-score   support\n",
      "\n",
      "    infringement       0.82      0.45      0.58       211\n",
      "non_infringement       0.66      0.91      0.76       245\n",
      "\n",
      "        accuracy                           0.70       456\n",
      "       macro avg       0.74      0.68      0.67       456\n",
      "    weighted avg       0.73      0.70      0.68       456\n",
      "\n"
     ]
    },
    {
     "name": "stderr",
     "output_type": "stream",
     "text": [
      "Training Epochs:  37%|███▋      | 187/500 [00:03<00:06, 48.86it/s]"
     ]
    },
    {
     "name": "stdout",
     "output_type": "stream",
     "text": [
      "Epoch 180/500, Loss: 0.2586\n",
      "Test Accuracy at Epoch 180: 69.52%\n",
      "Classification Report at Epoch 180:\n",
      "                  precision    recall  f1-score   support\n",
      "\n",
      "    infringement       0.81      0.45      0.57       211\n",
      "non_infringement       0.66      0.91      0.76       245\n",
      "\n",
      "        accuracy                           0.70       456\n",
      "       macro avg       0.73      0.68      0.67       456\n",
      "    weighted avg       0.73      0.70      0.68       456\n",
      "\n"
     ]
    },
    {
     "name": "stderr",
     "output_type": "stream",
     "text": [
      "Training Epochs:  40%|███▉      | 198/500 [00:04<00:06, 49.28it/s]"
     ]
    },
    {
     "name": "stdout",
     "output_type": "stream",
     "text": [
      "Epoch 190/500, Loss: 0.2581\n",
      "Test Accuracy at Epoch 190: 70.18%\n",
      "Classification Report at Epoch 190:\n",
      "                  precision    recall  f1-score   support\n",
      "\n",
      "    infringement       0.78      0.49      0.60       211\n",
      "non_infringement       0.67      0.88      0.76       245\n",
      "\n",
      "        accuracy                           0.70       456\n",
      "       macro avg       0.73      0.69      0.68       456\n",
      "    weighted avg       0.72      0.70      0.69       456\n",
      "\n"
     ]
    },
    {
     "name": "stderr",
     "output_type": "stream",
     "text": [
      "Training Epochs:  42%|████▏     | 209/500 [00:04<00:05, 49.47it/s]"
     ]
    },
    {
     "name": "stdout",
     "output_type": "stream",
     "text": [
      "Epoch 200/500, Loss: 0.2554\n",
      "Test Accuracy at Epoch 200: 69.96%\n",
      "Classification Report at Epoch 200:\n",
      "                  precision    recall  f1-score   support\n",
      "\n",
      "    infringement       0.81      0.45      0.58       211\n",
      "non_infringement       0.66      0.91      0.77       245\n",
      "\n",
      "        accuracy                           0.70       456\n",
      "       macro avg       0.74      0.68      0.67       456\n",
      "    weighted avg       0.73      0.70      0.68       456\n",
      "\n",
      "Epoch 210/500, Loss: 0.2588\n",
      "Test Accuracy at Epoch 210: 69.74%\n",
      "Classification Report at Epoch 210:\n",
      "                  precision    recall  f1-score   support\n",
      "\n",
      "    infringement       0.82      0.44      0.57       211\n",
      "non_infringement       0.66      0.92      0.77       245\n",
      "\n",
      "        accuracy                           0.70       456\n",
      "       macro avg       0.74      0.68      0.67       456\n",
      "    weighted avg       0.73      0.70      0.68       456\n",
      "\n"
     ]
    },
    {
     "name": "stderr",
     "output_type": "stream",
     "text": [
      "Training Epochs:  45%|████▌     | 226/500 [00:04<00:07, 37.66it/s]"
     ]
    },
    {
     "name": "stdout",
     "output_type": "stream",
     "text": [
      "Epoch 220/500, Loss: 0.2644\n",
      "Test Accuracy at Epoch 220: 71.27%\n",
      "Classification Report at Epoch 220:\n",
      "                  precision    recall  f1-score   support\n",
      "\n",
      "    infringement       0.78      0.53      0.63       211\n",
      "non_infringement       0.68      0.87      0.77       245\n",
      "\n",
      "        accuracy                           0.71       456\n",
      "       macro avg       0.73      0.70      0.70       456\n",
      "    weighted avg       0.73      0.71      0.70       456\n",
      "\n",
      "New best model saved with accuracy 71.27% at epoch 220\n",
      "Best Classification Report at Epoch 220:\n",
      "                  precision    recall  f1-score   support\n",
      "\n",
      "    infringement       0.78      0.53      0.63       211\n",
      "non_infringement       0.68      0.87      0.77       245\n",
      "\n",
      "        accuracy                           0.71       456\n",
      "       macro avg       0.73      0.70      0.70       456\n",
      "    weighted avg       0.73      0.71      0.70       456\n",
      "\n"
     ]
    },
    {
     "name": "stderr",
     "output_type": "stream",
     "text": [
      "Training Epochs:  47%|████▋     | 237/500 [00:05<00:06, 42.65it/s]"
     ]
    },
    {
     "name": "stdout",
     "output_type": "stream",
     "text": [
      "Epoch 230/500, Loss: 0.2595\n",
      "Test Accuracy at Epoch 230: 70.18%\n",
      "Classification Report at Epoch 230:\n",
      "                  precision    recall  f1-score   support\n",
      "\n",
      "    infringement       0.82      0.45      0.59       211\n",
      "non_infringement       0.66      0.91      0.77       245\n",
      "\n",
      "        accuracy                           0.70       456\n",
      "       macro avg       0.74      0.68      0.68       456\n",
      "    weighted avg       0.73      0.70      0.68       456\n",
      "\n",
      "Epoch 240/500, Loss: 0.2489\n"
     ]
    },
    {
     "name": "stderr",
     "output_type": "stream",
     "text": [
      "Training Epochs:  50%|████▉     | 248/500 [00:05<00:05, 46.59it/s]"
     ]
    },
    {
     "name": "stdout",
     "output_type": "stream",
     "text": [
      "Test Accuracy at Epoch 240: 69.96%\n",
      "Classification Report at Epoch 240:\n",
      "                  precision    recall  f1-score   support\n",
      "\n",
      "    infringement       0.81      0.45      0.58       211\n",
      "non_infringement       0.66      0.91      0.77       245\n",
      "\n",
      "        accuracy                           0.70       456\n",
      "       macro avg       0.74      0.68      0.67       456\n",
      "    weighted avg       0.73      0.70      0.68       456\n",
      "\n",
      "Epoch 250/500, Loss: 0.2482\n",
      "Test Accuracy at Epoch 250: 69.96%\n"
     ]
    },
    {
     "name": "stderr",
     "output_type": "stream",
     "text": [
      "Training Epochs:  52%|█████▏    | 259/500 [00:05<00:05, 48.18it/s]"
     ]
    },
    {
     "name": "stdout",
     "output_type": "stream",
     "text": [
      "Classification Report at Epoch 250:\n",
      "                  precision    recall  f1-score   support\n",
      "\n",
      "    infringement       0.81      0.45      0.58       211\n",
      "non_infringement       0.66      0.91      0.77       245\n",
      "\n",
      "        accuracy                           0.70       456\n",
      "       macro avg       0.74      0.68      0.67       456\n",
      "    weighted avg       0.73      0.70      0.68       456\n",
      "\n",
      "Epoch 260/500, Loss: 0.2658\n",
      "Test Accuracy at Epoch 260: 69.52%\n"
     ]
    },
    {
     "name": "stderr",
     "output_type": "stream",
     "text": [
      "Training Epochs:  54%|█████▍    | 270/500 [00:05<00:04, 48.02it/s]"
     ]
    },
    {
     "name": "stdout",
     "output_type": "stream",
     "text": [
      "Classification Report at Epoch 260:\n",
      "                  precision    recall  f1-score   support\n",
      "\n",
      "    infringement       0.87      0.40      0.55       211\n",
      "non_infringement       0.65      0.95      0.77       245\n",
      "\n",
      "        accuracy                           0.70       456\n",
      "       macro avg       0.76      0.67      0.66       456\n",
      "    weighted avg       0.75      0.70      0.67       456\n",
      "\n",
      "Epoch 270/500, Loss: 0.2681\n",
      "Test Accuracy at Epoch 270: 69.96%\n",
      "Classification Report at Epoch 270:\n",
      "                  precision    recall  f1-score   support\n",
      "\n",
      "    infringement       0.82      0.45      0.58       211\n",
      "non_infringement       0.66      0.91      0.77       245\n",
      "\n",
      "        accuracy                           0.70       456\n",
      "       macro avg       0.74      0.68      0.67       456\n",
      "    weighted avg       0.73      0.70      0.68       456\n",
      "\n"
     ]
    },
    {
     "name": "stderr",
     "output_type": "stream",
     "text": [
      "Training Epochs:  58%|█████▊    | 288/500 [00:06<00:04, 51.02it/s]"
     ]
    },
    {
     "name": "stdout",
     "output_type": "stream",
     "text": [
      "Epoch 280/500, Loss: 0.2511\n",
      "Test Accuracy at Epoch 280: 69.96%\n",
      "Classification Report at Epoch 280:\n",
      "                  precision    recall  f1-score   support\n",
      "\n",
      "    infringement       0.81      0.45      0.58       211\n",
      "non_infringement       0.66      0.91      0.77       245\n",
      "\n",
      "        accuracy                           0.70       456\n",
      "       macro avg       0.74      0.68      0.67       456\n",
      "    weighted avg       0.73      0.70      0.68       456\n",
      "\n",
      "Epoch 290/500, Loss: 0.2463\n"
     ]
    },
    {
     "name": "stderr",
     "output_type": "stream",
     "text": [
      "Training Epochs:  59%|█████▉    | 294/500 [00:06<00:04, 48.65it/s]"
     ]
    },
    {
     "name": "stdout",
     "output_type": "stream",
     "text": [
      "Test Accuracy at Epoch 290: 69.96%\n",
      "Classification Report at Epoch 290:\n",
      "                  precision    recall  f1-score   support\n",
      "\n",
      "    infringement       0.81      0.46      0.59       211\n",
      "non_infringement       0.66      0.91      0.76       245\n",
      "\n",
      "        accuracy                           0.70       456\n",
      "       macro avg       0.73      0.68      0.68       456\n",
      "    weighted avg       0.73      0.70      0.68       456\n",
      "\n"
     ]
    },
    {
     "name": "stderr",
     "output_type": "stream",
     "text": [
      "Training Epochs:  61%|██████    | 306/500 [00:06<00:03, 50.22it/s]"
     ]
    },
    {
     "name": "stdout",
     "output_type": "stream",
     "text": [
      "Epoch 300/500, Loss: 0.2457\n",
      "Test Accuracy at Epoch 300: 70.39%\n",
      "Classification Report at Epoch 300:\n",
      "                  precision    recall  f1-score   support\n",
      "\n",
      "    infringement       0.81      0.47      0.60       211\n",
      "non_infringement       0.67      0.90      0.77       245\n",
      "\n",
      "        accuracy                           0.70       456\n",
      "       macro avg       0.74      0.69      0.68       456\n",
      "    weighted avg       0.73      0.70      0.69       456\n",
      "\n",
      "Epoch 310/500, Loss: 0.2438\n"
     ]
    },
    {
     "name": "stderr",
     "output_type": "stream",
     "text": [
      "Training Epochs:  64%|██████▎   | 318/500 [00:06<00:03, 50.69it/s]"
     ]
    },
    {
     "name": "stdout",
     "output_type": "stream",
     "text": [
      "Test Accuracy at Epoch 310: 69.74%\n",
      "Classification Report at Epoch 310:\n",
      "                  precision    recall  f1-score   support\n",
      "\n",
      "    infringement       0.81      0.45      0.58       211\n",
      "non_infringement       0.66      0.91      0.76       245\n",
      "\n",
      "        accuracy                           0.70       456\n",
      "       macro avg       0.73      0.68      0.67       456\n",
      "    weighted avg       0.73      0.70      0.68       456\n",
      "\n",
      "Epoch 320/500, Loss: 0.2441\n"
     ]
    },
    {
     "name": "stderr",
     "output_type": "stream",
     "text": [
      "Training Epochs:  65%|██████▍   | 324/500 [00:06<00:03, 49.79it/s]"
     ]
    },
    {
     "name": "stdout",
     "output_type": "stream",
     "text": [
      "Test Accuracy at Epoch 320: 69.74%\n",
      "Classification Report at Epoch 320:\n",
      "                  precision    recall  f1-score   support\n",
      "\n",
      "    infringement       0.82      0.45      0.58       211\n",
      "non_infringement       0.66      0.91      0.76       245\n",
      "\n",
      "        accuracy                           0.70       456\n",
      "       macro avg       0.74      0.68      0.67       456\n",
      "    weighted avg       0.73      0.70      0.68       456\n",
      "\n",
      "Epoch 330/500, Loss: 0.2482\n",
      "Test Accuracy at Epoch 330: 69.74%\n"
     ]
    },
    {
     "name": "stderr",
     "output_type": "stream",
     "text": [
      "Training Epochs:  67%|██████▋   | 336/500 [00:07<00:03, 51.12it/s]"
     ]
    },
    {
     "name": "stdout",
     "output_type": "stream",
     "text": [
      "Classification Report at Epoch 330:\n",
      "                  precision    recall  f1-score   support\n",
      "\n",
      "    infringement       0.82      0.45      0.58       211\n",
      "non_infringement       0.66      0.91      0.76       245\n",
      "\n",
      "        accuracy                           0.70       456\n",
      "       macro avg       0.74      0.68      0.67       456\n",
      "    weighted avg       0.73      0.70      0.68       456\n",
      "\n",
      "Epoch 340/500, Loss: 0.2472\n",
      "Test Accuracy at Epoch 340: 70.39%\n",
      "Classification Report at Epoch 340:\n",
      "                  precision    recall  f1-score   support\n",
      "\n",
      "    infringement       0.82      0.46      0.59       211\n",
      "non_infringement       0.66      0.91      0.77       245\n",
      "\n",
      "        accuracy                           0.70       456\n",
      "       macro avg       0.74      0.69      0.68       456\n",
      "    weighted avg       0.74      0.70      0.69       456\n",
      "\n"
     ]
    },
    {
     "name": "stderr",
     "output_type": "stream",
     "text": [
      "Training Epochs:  71%|███████   | 354/500 [00:07<00:02, 50.50it/s]"
     ]
    },
    {
     "name": "stdout",
     "output_type": "stream",
     "text": [
      "Epoch 350/500, Loss: 0.2433\n",
      "Test Accuracy at Epoch 350: 69.96%\n",
      "Classification Report at Epoch 350:\n",
      "                  precision    recall  f1-score   support\n",
      "\n",
      "    infringement       0.81      0.45      0.58       211\n",
      "non_infringement       0.66      0.91      0.77       245\n",
      "\n",
      "        accuracy                           0.70       456\n",
      "       macro avg       0.74      0.68      0.67       456\n",
      "    weighted avg       0.73      0.70      0.68       456\n",
      "\n",
      "Epoch 360/500, Loss: 0.2421\n",
      "Test Accuracy at Epoch 360: 70.18%\n"
     ]
    },
    {
     "name": "stderr",
     "output_type": "stream",
     "text": [
      "Training Epochs:  73%|███████▎  | 366/500 [00:07<00:02, 51.24it/s]"
     ]
    },
    {
     "name": "stdout",
     "output_type": "stream",
     "text": [
      "Classification Report at Epoch 360:\n",
      "                  precision    recall  f1-score   support\n",
      "\n",
      "    infringement       0.82      0.45      0.59       211\n",
      "non_infringement       0.66      0.91      0.77       245\n",
      "\n",
      "        accuracy                           0.70       456\n",
      "       macro avg       0.74      0.68      0.68       456\n",
      "    weighted avg       0.73      0.70      0.68       456\n",
      "\n",
      "Epoch 370/500, Loss: 0.2408\n",
      "Test Accuracy at Epoch 370: 69.74%\n",
      "Classification Report at Epoch 370:\n",
      "                  precision    recall  f1-score   support\n",
      "\n",
      "    infringement       0.81      0.45      0.58       211\n",
      "non_infringement       0.66      0.91      0.76       245\n",
      "\n",
      "        accuracy                           0.70       456\n",
      "       macro avg       0.73      0.68      0.67       456\n",
      "    weighted avg       0.73      0.70      0.68       456\n",
      "\n"
     ]
    },
    {
     "name": "stderr",
     "output_type": "stream",
     "text": [
      "Training Epochs:  77%|███████▋  | 384/500 [00:08<00:02, 47.98it/s]"
     ]
    },
    {
     "name": "stdout",
     "output_type": "stream",
     "text": [
      "Epoch 380/500, Loss: 0.2400\n",
      "Test Accuracy at Epoch 380: 69.96%\n",
      "Classification Report at Epoch 380:\n",
      "                  precision    recall  f1-score   support\n",
      "\n",
      "    infringement       0.81      0.45      0.58       211\n",
      "non_infringement       0.66      0.91      0.77       245\n",
      "\n",
      "        accuracy                           0.70       456\n",
      "       macro avg       0.74      0.68      0.67       456\n",
      "    weighted avg       0.73      0.70      0.68       456\n",
      "\n"
     ]
    },
    {
     "name": "stderr",
     "output_type": "stream",
     "text": [
      "Training Epochs:  79%|███████▉  | 396/500 [00:08<00:02, 49.22it/s]"
     ]
    },
    {
     "name": "stdout",
     "output_type": "stream",
     "text": [
      "Epoch 390/500, Loss: 0.2764\n",
      "Test Accuracy at Epoch 390: 69.74%\n",
      "Classification Report at Epoch 390:\n",
      "                  precision    recall  f1-score   support\n",
      "\n",
      "    infringement       0.77      0.49      0.60       211\n",
      "non_infringement       0.67      0.87      0.76       245\n",
      "\n",
      "        accuracy                           0.70       456\n",
      "       macro avg       0.72      0.68      0.68       456\n",
      "    weighted avg       0.71      0.70      0.68       456\n",
      "\n"
     ]
    },
    {
     "name": "stderr",
     "output_type": "stream",
     "text": [
      "Training Epochs:  81%|████████▏ | 407/500 [00:08<00:01, 50.80it/s]"
     ]
    },
    {
     "name": "stdout",
     "output_type": "stream",
     "text": [
      "Epoch 400/500, Loss: 0.2762\n",
      "Test Accuracy at Epoch 400: 70.83%\n",
      "Classification Report at Epoch 400:\n",
      "                  precision    recall  f1-score   support\n",
      "\n",
      "    infringement       0.79      0.51      0.62       211\n",
      "non_infringement       0.68      0.88      0.76       245\n",
      "\n",
      "        accuracy                           0.71       456\n",
      "       macro avg       0.73      0.69      0.69       456\n",
      "    weighted avg       0.73      0.71      0.70       456\n",
      "\n",
      "Epoch 410/500, Loss: 0.2624\n",
      "Test Accuracy at Epoch 410: 69.74%\n"
     ]
    },
    {
     "name": "stderr",
     "output_type": "stream",
     "text": [
      "Training Epochs:  84%|████████▍ | 419/500 [00:08<00:01, 50.71it/s]"
     ]
    },
    {
     "name": "stdout",
     "output_type": "stream",
     "text": [
      "Classification Report at Epoch 410:\n",
      "                  precision    recall  f1-score   support\n",
      "\n",
      "    infringement       0.82      0.45      0.58       211\n",
      "non_infringement       0.66      0.91      0.76       245\n",
      "\n",
      "        accuracy                           0.70       456\n",
      "       macro avg       0.74      0.68      0.67       456\n",
      "    weighted avg       0.73      0.70      0.68       456\n",
      "\n",
      "Epoch 420/500, Loss: 0.2542\n",
      "Test Accuracy at Epoch 420: 70.18%\n"
     ]
    },
    {
     "name": "stderr",
     "output_type": "stream",
     "text": [
      "Training Epochs:  85%|████████▌ | 425/500 [00:08<00:01, 50.01it/s]"
     ]
    },
    {
     "name": "stdout",
     "output_type": "stream",
     "text": [
      "Classification Report at Epoch 420:\n",
      "                  precision    recall  f1-score   support\n",
      "\n",
      "    infringement       0.85      0.43      0.57       211\n",
      "non_infringement       0.66      0.93      0.77       245\n",
      "\n",
      "        accuracy                           0.70       456\n",
      "       macro avg       0.75      0.68      0.67       456\n",
      "    weighted avg       0.75      0.70      0.68       456\n",
      "\n",
      "Epoch 430/500, Loss: 0.2462\n",
      "Test Accuracy at Epoch 430: 69.96%\n",
      "Classification Report at Epoch 430:\n",
      "                  precision    recall  f1-score   support\n",
      "\n",
      "    infringement       0.81      0.45      0.58       211\n",
      "non_infringement       0.66      0.91      0.77       245\n",
      "\n",
      "        accuracy                           0.70       456\n",
      "       macro avg       0.74      0.68      0.67       456\n",
      "    weighted avg       0.73      0.70      0.68       456\n",
      "\n"
     ]
    },
    {
     "name": "stderr",
     "output_type": "stream",
     "text": [
      "Training Epochs:  90%|████████▉ | 449/500 [00:09<00:00, 52.04it/s]"
     ]
    },
    {
     "name": "stdout",
     "output_type": "stream",
     "text": [
      "Epoch 440/500, Loss: 0.2419\n",
      "Test Accuracy at Epoch 440: 71.05%\n",
      "Classification Report at Epoch 440:\n",
      "                  precision    recall  f1-score   support\n",
      "\n",
      "    infringement       0.82      0.48      0.60       211\n",
      "non_infringement       0.67      0.91      0.77       245\n",
      "\n",
      "        accuracy                           0.71       456\n",
      "       macro avg       0.75      0.69      0.69       456\n",
      "    weighted avg       0.74      0.71      0.69       456\n",
      "\n",
      "Epoch 450/500, Loss: 0.2405\n",
      "Test Accuracy at Epoch 450: 70.83%\n"
     ]
    },
    {
     "name": "stderr",
     "output_type": "stream",
     "text": [
      "Training Epochs:  91%|█████████ | 455/500 [00:09<00:00, 50.90it/s]"
     ]
    },
    {
     "name": "stdout",
     "output_type": "stream",
     "text": [
      "Classification Report at Epoch 450:\n",
      "                  precision    recall  f1-score   support\n",
      "\n",
      "    infringement       0.81      0.48      0.60       211\n",
      "non_infringement       0.67      0.91      0.77       245\n",
      "\n",
      "        accuracy                           0.71       456\n",
      "       macro avg       0.74      0.69      0.69       456\n",
      "    weighted avg       0.74      0.71      0.69       456\n",
      "\n",
      "Epoch 460/500, Loss: 0.2395\n",
      "Test Accuracy at Epoch 460: 71.05%\n",
      "Classification Report at Epoch 460:\n",
      "                  precision    recall  f1-score   support\n",
      "\n",
      "    infringement       0.83      0.47      0.60       211\n",
      "non_infringement       0.67      0.91      0.77       245\n",
      "\n",
      "        accuracy                           0.71       456\n",
      "       macro avg       0.75      0.69      0.69       456\n",
      "    weighted avg       0.74      0.71      0.69       456\n",
      "\n"
     ]
    },
    {
     "name": "stderr",
     "output_type": "stream",
     "text": [
      "Training Epochs:  96%|█████████▌| 479/500 [00:10<00:00, 51.13it/s]"
     ]
    },
    {
     "name": "stdout",
     "output_type": "stream",
     "text": [
      "Epoch 470/500, Loss: 0.2387\n",
      "Test Accuracy at Epoch 470: 70.83%\n",
      "Classification Report at Epoch 470:\n",
      "                  precision    recall  f1-score   support\n",
      "\n",
      "    infringement       0.82      0.47      0.60       211\n",
      "non_infringement       0.67      0.91      0.77       245\n",
      "\n",
      "        accuracy                           0.71       456\n",
      "       macro avg       0.74      0.69      0.69       456\n",
      "    weighted avg       0.74      0.71      0.69       456\n",
      "\n"
     ]
    },
    {
     "name": "stderr",
     "output_type": "stream",
     "text": [
      "Training Epochs:  97%|█████████▋| 485/500 [00:10<00:00, 48.52it/s]"
     ]
    },
    {
     "name": "stdout",
     "output_type": "stream",
     "text": [
      "Epoch 480/500, Loss: 0.2384\n",
      "Test Accuracy at Epoch 480: 71.27%\n",
      "Classification Report at Epoch 480:\n",
      "                  precision    recall  f1-score   support\n",
      "\n",
      "    infringement       0.83      0.48      0.61       211\n",
      "non_infringement       0.67      0.91      0.77       245\n",
      "\n",
      "        accuracy                           0.71       456\n",
      "       macro avg       0.75      0.70      0.69       456\n",
      "    weighted avg       0.74      0.71      0.70       456\n",
      "\n"
     ]
    },
    {
     "name": "stderr",
     "output_type": "stream",
     "text": [
      "Training Epochs:  99%|█████████▉| 496/500 [00:10<00:00, 49.76it/s]"
     ]
    },
    {
     "name": "stdout",
     "output_type": "stream",
     "text": [
      "Epoch 490/500, Loss: 0.2641\n",
      "Test Accuracy at Epoch 490: 70.18%\n",
      "Classification Report at Epoch 490:\n",
      "                  precision    recall  f1-score   support\n",
      "\n",
      "    infringement       0.82      0.45      0.59       211\n",
      "non_infringement       0.66      0.91      0.77       245\n",
      "\n",
      "        accuracy                           0.70       456\n",
      "       macro avg       0.74      0.68      0.68       456\n",
      "    weighted avg       0.73      0.70      0.68       456\n",
      "\n",
      "Epoch 500/500, Loss: 0.2420\n",
      "Test Accuracy at Epoch 500: 70.61%\n"
     ]
    },
    {
     "name": "stderr",
     "output_type": "stream",
     "text": [
      "Training Epochs: 100%|██████████| 500/500 [00:10<00:00, 47.70it/s]\n",
      "/tmp/ipykernel_3567658/3419765604.py:47: FutureWarning: You are using `torch.load` with `weights_only=False` (the current default value), which uses the default pickle module implicitly. It is possible to construct malicious pickle data which will execute arbitrary code during unpickling (See https://github.com/pytorch/pytorch/blob/main/SECURITY.md#untrusted-models for more details). In a future release, the default value for `weights_only` will be flipped to `True`. This limits the functions that could be executed during unpickling. Arbitrary objects will no longer be allowed to be loaded via this mode unless they are explicitly allowlisted by the user via `torch.serialization.add_safe_globals`. We recommend you start setting `weights_only=True` for any use case where you don't have full control of the loaded file. Please open an issue on GitHub for any issues related to this experimental feature.\n",
      "  custom_mlp.load_state_dict(torch.load(checkpoint_path))\n"
     ]
    },
    {
     "name": "stdout",
     "output_type": "stream",
     "text": [
      "Classification Report at Epoch 500:\n",
      "                  precision    recall  f1-score   support\n",
      "\n",
      "    infringement       0.83      0.46      0.59       211\n",
      "non_infringement       0.66      0.92      0.77       245\n",
      "\n",
      "        accuracy                           0.71       456\n",
      "       macro avg       0.75      0.69      0.68       456\n",
      "    weighted avg       0.74      0.71      0.69       456\n",
      "\n"
     ]
    },
    {
     "data": {
      "image/png": "[encoded data removed]",
      "text/plain": [
       "<Figure size 1000x500 with 1 Axes>"
      ]
     },
     "metadata": {},
     "output_type": "display_data"
    },
    {
     "name": "stdout",
     "output_type": "stream",
     "text": [
      "Best Model was saved at epoch 220 with accuracy 71.27%\n"
     ]
    }
   ],
   "source": [
    "input_dim = X_train.shape[1]\n",
    "hidden_dim = 256\n",
    "\n",
    "custom_mlp, losses, best_accuracy = train_model(X_train, y_train, X_test, y_test, input_dim, hidden_dim)"
   ]
  },
  {
   "cell_type": "code",
   "execution_count": 14,
   "metadata": {},
   "outputs": [
    {
     "name": "stdout",
     "output_type": "stream",
     "text": [
      "Checkpoint saved to '/home/guangwei/LLM-COPYRIGHT/copyright_newVersion/models/custom_mlp_model.pth'.\n"
     ]
    }
   ],
   "source": [
    "def save_checkpoint(model, optimizer, epoch, loss, filepath):\n",
    "    checkpoint = {\n",
    "        'epoch': epoch + 1,\n",
    "        'model_state_dict': model.state_dict(),\n",
    "        'optimizer_state_dict': optimizer.state_dict(),\n",
    "        'loss': loss\n",
    "    }\n",
    "    torch.save(checkpoint, filepath)\n",
    "    print(f\"Checkpoint saved to '{filepath}'.\")\n",
    "\n",
    "save_checkpoint(custom_mlp, torch.optim.Adam(custom_mlp.parameters()), len(losses), losses[-1], checkpoint_file)"
   ]
  },
  {
   "cell_type": "code",
   "execution_count": 15,
   "metadata": {},
   "outputs": [
    {
     "name": "stdout",
     "output_type": "stream",
     "text": [
      "Final Model Accuracy: 71.27%\n",
      "                  precision    recall  f1-score   support\n",
      "\n",
      "    infringement       0.78      0.53      0.63       211\n",
      "non_infringement       0.68      0.87      0.77       245\n",
      "\n",
      "        accuracy                           0.71       456\n",
      "       macro avg       0.73      0.70      0.70       456\n",
      "    weighted avg       0.73      0.71      0.70       456\n",
      "\n"
     ]
    },
    {
     "name": "stderr",
     "output_type": "stream",
     "text": [
      "/tmp/ipykernel_3567658/3740627605.py:2: UserWarning: To copy construct from a tensor, it is recommended to use sourceTensor.clone().detach() or sourceTensor.clone().detach().requires_grad_(True), rather than torch.tensor(sourceTensor).\n",
      "  y_pred_final = (torch.sigmoid(torch.tensor(custom_mlp(torch.tensor(X_test, dtype=torch.float32)))) > 0.5).float().numpy()\n"
     ]
    }
   ],
   "source": [
    "print(f\"Final Model Accuracy: {best_accuracy * 100:.2f}%\")\n",
    "y_pred_final = (torch.sigmoid(torch.tensor(custom_mlp(torch.tensor(X_test, dtype=torch.float32)))) > 0.5).float().numpy()\n",
    "print(classification_report(y_test, y_pred_final, target_names=[\"infringement\", \"non_infringement\"]))"
   ]
  }
 ],
 "metadata": {
  "kernelspec": {
   "display_name": "sit",
   "language": "python",
   "name": "python3"
  },
  "language_info": {
   "codemirror_mode": {
    "name": "ipython",
    "version": 3
   },
   "file_extension": ".py",
   "mimetype": "text/x-python",
   "name": "python",
   "nbconvert_exporter": "python",
   "pygments_lexer": "ipython3",
   "version": "3.8.20"
  }
 },
 "nbformat": 4,
 "nbformat_minor": 2
}
