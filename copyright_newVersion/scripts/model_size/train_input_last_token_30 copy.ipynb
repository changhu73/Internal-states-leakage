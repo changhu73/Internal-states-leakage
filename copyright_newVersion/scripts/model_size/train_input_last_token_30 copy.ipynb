{
 "cells": [
  {
   "cell_type": "code",
   "execution_count": 12,
   "metadata": {},
   "outputs": [],
   "source": [
    "# import packages\n",
    "import torch\n",
    "import torch.nn as nn\n",
    "import numpy as np\n",
    "from sklearn.metrics import accuracy_score, classification_report\n",
    "import matplotlib.pyplot as plt\n",
    "from tqdm import tqdm\n",
    "from transformers import AutoTokenizer, AutoModelForCausalLM\n",
    "import json\n",
    "import os\n",
    "\n",
    "os.environ[\"CUDA_VISIBLE_DEVICES\"] = \"5\"\n",
    "\n",
    "# Variables\n",
    "model_name = 'mistralai/Mistral-7B-v0.3'\n",
    "non_infringement_file = '/home/guangwei/LLM-COPYRIGHT/copyright_newVersion/test_division/extra_mis3_10.non_infringement.json'\n",
    "infringement_file = '/home/guangwei/LLM-COPYRIGHT/copyright_newVersion/test_division/extra_mis3_10.infringement.json'\n",
    "checkpoint_file = '/home/guangwei/LLM-COPYRIGHT/copyright_newVersion/models/train_input_last_token.pth'"
   ]
  },
  {
   "cell_type": "code",
   "execution_count": 13,
   "metadata": {},
   "outputs": [],
   "source": [
    "# Define CustumMLP for internal states train\n",
    "class CustomMLP(nn.Module):\n",
    "    def __init__(self, input_dim, hidden_dim):\n",
    "        super(CustomMLP, self).__init__()\n",
    "        self.down = nn.Linear(input_dim, hidden_dim)\n",
    "        self.gate = nn.Linear(input_dim, hidden_dim)\n",
    "        self.up = nn.Linear(hidden_dim, 1)\n",
    "        self.activation = nn.SiLU()\n",
    "\n",
    "    def forward(self, x):\n",
    "        down_output = self.down(x)\n",
    "        gate_output = self.gate(x)\n",
    "        gated_output = down_output * self.activation(gate_output)\n",
    "        return self.up(gated_output)"
   ]
  },
  {
   "cell_type": "code",
   "execution_count": 14,
   "metadata": {},
   "outputs": [],
   "source": [
    "def extract_hidden_states(texts, model, tokenizer, batch_size=4):\n",
    "    device = torch.device(\"cuda\" if torch.cuda.is_available() else \"cpu\")\n",
    "    model.to(device)\n",
    "    model = nn.DataParallel(model)\n",
    "    hidden_states = []\n",
    "    for i in tqdm(range(0, len(texts), batch_size), desc=\"Processing data batches\"):\n",
    "        batch_texts = texts[i:i + batch_size]\n",
    "        inputs = tokenizer(batch_texts, return_tensors=\"pt\", padding=True, truncation=True)\n",
    "        with torch.no_grad():\n",
    "            outputs = model(**inputs)\n",
    "        \n",
    "        # 访问最后一个隐藏层的最后一个token的隐藏状态\n",
    "        # hidden_states[-1]表示最后一个隐藏层，mean(dim=1)表示取所有头的均值\n",
    "        last_layer_hidden_states = outputs.hidden_states[-1]\n",
    "        last_token_hidden_states = last_layer_hidden_states[:, -1, :]  # -1表示最后一个token\n",
    "        hidden_states.append(last_token_hidden_states.cpu().numpy())\n",
    "    return np.vstack(hidden_states)"
   ]
  },
  {
   "cell_type": "code",
   "execution_count": 15,
   "metadata": {},
   "outputs": [],
   "source": [
    "# lode data for infringement & non infringement\n",
    "def load_data(non_infringement_file, infringement_file):\n",
    "    with open(non_infringement_file, 'r', encoding='utf-8') as file:\n",
    "        non_infringement_json_data = json.load(file)\n",
    "\n",
    "    non_infringement_outputs = [entry['input'] for entry in non_infringement_json_data]\n",
    "    y_non_infringement = [1] * len(non_infringement_outputs)\n",
    "\n",
    "    with open(infringement_file, 'r', encoding='utf-8') as file:\n",
    "        infringement_json_data = json.load(file)\n",
    "\n",
    "    infringement_outputs = [entry['input'] for entry in infringement_json_data]\n",
    "    y_infringement = [0] * len(infringement_outputs)\n",
    "\n",
    "    return non_infringement_outputs, y_non_infringement, infringement_outputs, y_infringement"
   ]
  },
  {
   "cell_type": "code",
   "execution_count": null,
   "metadata": {},
   "outputs": [
    {
     "ename": "",
     "evalue": "",
     "output_type": "error",
     "traceback": [
      "\u001b[1;31mThe Kernel crashed while executing code in the current cell or a previous cell. \n",
      "\u001b[1;31mPlease review the code in the cell(s) to identify a possible cause of the failure. \n",
      "\u001b[1;31mClick <a href='https://aka.ms/vscodeJupyterKernelCrash'>here</a> for more info. \n",
      "\u001b[1;31mView Jupyter <a href='command:jupyter.viewOutput'>log</a> for further details."
     ]
    }
   ],
   "source": [
    "from sklearn.metrics import accuracy_score, classification_report, f1_score\n",
    "\n",
    "# Train for best model\n",
    "def train_model(X_train, y_train, X_test, y_test, input_dim, hidden_dim, epochs=2000, lr=0.001, checkpoint_path=checkpoint_file):\n",
    "    custom_mlp = CustomMLP(input_dim, hidden_dim)\n",
    "    criterion = nn.BCEWithLogitsLoss()\n",
    "    optimizer = torch.optim.Adam(custom_mlp.parameters(), lr=lr)\n",
    "\n",
    "    X_train_tensor = torch.tensor(X_train, dtype=torch.float32)\n",
    "    y_train_tensor = torch.tensor(y_train, dtype=torch.float32).unsqueeze(1)\n",
    "\n",
    "    best_accuracy = -float('inf')  # Initialize the best accuracy to negative infinity\n",
    "    best_f1 = -float('inf')  # Initialize the best F1-score to negative infinity\n",
    "    best_model_state = None  # Store the state of the best model\n",
    "    best_epoch = 0  # Track the epoch with the best accuracy\n",
    "    losses = []\n",
    "\n",
    "    for epoch in tqdm(range(epochs), desc=\"Training Epochs\"):\n",
    "        custom_mlp.train()\n",
    "        optimizer.zero_grad()\n",
    "        outputs = custom_mlp(X_train_tensor)\n",
    "        loss = criterion(outputs, y_train_tensor)\n",
    "        loss.backward()\n",
    "        optimizer.step()\n",
    "        losses.append(loss.item())\n",
    "        \n",
    "        if (epoch + 1) % 10 == 0:\n",
    "            print(f\"Epoch {epoch + 1}/{epochs}, Loss: {loss.item():.4f}\")\n",
    "            \n",
    "            custom_mlp.eval()\n",
    "            X_test_tensor = torch.tensor(X_test, dtype=torch.float32)\n",
    "            with torch.no_grad():\n",
    "                y_pred_logits = custom_mlp(X_test_tensor)\n",
    "                y_pred = (torch.sigmoid(y_pred_logits) > 0.5).float().numpy()\n",
    "            \n",
    "            accuracy = accuracy_score(y_test, y_pred)\n",
    "            f1 = f1_score(y_test, y_pred)  # Calculate F1-score\n",
    "            print(f\"Test Accuracy at Epoch {epoch + 1}: {accuracy * 100:.2f}%\")\n",
    "            print(f\"Test F1-score at Epoch {epoch + 1}: {f1:.4f}\")\n",
    "            \n",
    "            report = classification_report(y_test, y_pred, target_names=[\"infringement\", \"non_infringement\"])\n",
    "            print(f\"Classification Report at Epoch {epoch + 1}:\\n{report}\")\n",
    "\n",
    "            # Check if the current model is the best based on F1-score\n",
    "            if f1 > best_f1:\n",
    "                best_accuracy = accuracy\n",
    "                best_f1 = f1\n",
    "                best_model_state = custom_mlp.state_dict()\n",
    "                best_epoch = epoch + 1\n",
    "                torch.save(best_model_state, checkpoint_path)\n",
    "                print(f\"New best model saved with F1-score {best_f1:.4f} at epoch {best_epoch}\")\n",
    "                print(f\"Best Classification Report at Epoch {best_epoch}:\\n{report}\")\n",
    "\n",
    "    # Load the best model state\n",
    "    custom_mlp.load_state_dict(torch.load(checkpoint_path))\n",
    "\n",
    "    # Plot loss curve\n",
    "    plt.figure(figsize=(10, 5))\n",
    "    plt.plot(losses, label='Training Loss')\n",
    "    plt.xlabel('Epoch')\n",
    "    plt.ylabel('Loss')\n",
    "    plt.title('Training Loss Curve')\n",
    "    plt.legend()\n",
    "    plt.show()\n",
    "\n",
    "    print(f\"Best Model was saved at epoch {best_epoch} with F1-score {best_f1:.4f} and accuracy {best_accuracy * 100:.2f}%\")\n",
    "    return custom_mlp, losses, best_accuracy, best_f1\n"
   ]
  },
  {
   "cell_type": "code",
   "execution_count": null,
   "metadata": {},
   "outputs": [
    {
     "name": "stderr",
     "output_type": "stream",
     "text": [
      "Downloading shards:  67%|██████▋   | 2/3 [22:09<11:39, 699.82s/it]"
     ]
    }
   ],
   "source": [
    "\n",
    "tokenizer = AutoTokenizer.from_pretrained(model_name, model_max_length=512)\n",
    "model = AutoModelForCausalLM.from_pretrained(model_name, output_hidden_states=True)\n",
    "tokenizer.pad_token = tokenizer.eos_token\n",
    "\n",
    "non_infringement_outputs, y_non_infringement, infringement_outputs, y_infringement = load_data(non_infringement_file, infringement_file)\n",
    "\n",
    "y_non_infringement = np.array(y_non_infringement)\n",
    "y_infringement = np.array(y_infringement)\n"
   ]
  },
  {
   "cell_type": "code",
   "execution_count": null,
   "metadata": {},
   "outputs": [
    {
     "name": "stdout",
     "output_type": "stream",
     "text": [
      "Extracting hidden states for non_infringement texts...\n"
     ]
    },
    {
     "name": "stderr",
     "output_type": "stream",
     "text": [
      "Processing data batches: 100%|██████████| 62/62 [00:11<00:00,  5.56it/s]\n"
     ]
    },
    {
     "name": "stdout",
     "output_type": "stream",
     "text": [
      "Extracting hidden states for infringement texts...\n"
     ]
    },
    {
     "name": "stderr",
     "output_type": "stream",
     "text": [
      "Processing data batches: 100%|██████████| 61/61 [00:09<00:00,  6.16it/s]\n"
     ]
    }
   ],
   "source": [
    "print(\"Extracting hidden states for non_infringement texts...\")\n",
    "X_non_infringement = extract_hidden_states(non_infringement_outputs, model, tokenizer)\n",
    "\n",
    "print(\"Extracting hidden states for infringement texts...\")\n",
    "X_infringement = extract_hidden_states(infringement_outputs, model, tokenizer)"
   ]
  },
  {
   "cell_type": "code",
   "execution_count": null,
   "metadata": {},
   "outputs": [
    {
     "name": "stdout",
     "output_type": "stream",
     "text": [
      "Data successfully split into training and test sets.\n"
     ]
    }
   ],
   "source": [
    "split_index_non_infringement = int(0.8 * len(X_non_infringement))\n",
    "X_non_infringement_train = X_non_infringement[:split_index_non_infringement]\n",
    "X_non_infringement_test = X_non_infringement[split_index_non_infringement:]\n",
    "y_non_infringement_train = y_non_infringement[:split_index_non_infringement]\n",
    "y_non_infringement_test = y_non_infringement[split_index_non_infringement:]\n",
    "\n",
    "split_index_infringement = int(0.8 * len(X_infringement))\n",
    "X_infringement_train = X_infringement[:split_index_infringement]\n",
    "X_infringement_test = X_infringement[split_index_infringement:]\n",
    "y_infringement_train = y_infringement[:split_index_infringement]\n",
    "y_infringement_test = y_infringement[split_index_infringement:]\n",
    "\n",
    "X_train = np.vstack((X_non_infringement_train, X_infringement_train))\n",
    "X_test = np.vstack((X_non_infringement_test, X_infringement_test))\n",
    "y_train = np.concatenate((y_non_infringement_train, y_infringement_train))\n",
    "y_test = np.concatenate((y_non_infringement_test, y_infringement_test))\n",
    "\n",
    "print(\"Data successfully split into training and test sets.\")\n"
   ]
  },
  {
   "cell_type": "code",
   "execution_count": null,
   "metadata": {},
   "outputs": [
    {
     "name": "stderr",
     "output_type": "stream",
     "text": [
      "Training Epochs:   1%|          | 14/2000 [00:00<00:50, 39.29it/s]"
     ]
    },
    {
     "name": "stdout",
     "output_type": "stream",
     "text": [
      "Epoch 10/2000, Loss: 0.2474\n",
      "Test Accuracy at Epoch 10: 96.94%\n",
      "Test F1-score at Epoch 10: 0.9703\n",
      "Classification Report at Epoch 10:\n",
      "                  precision    recall  f1-score   support\n",
      "\n",
      "    infringement       1.00      0.94      0.97        49\n",
      "non_infringement       0.94      1.00      0.97        49\n",
      "\n",
      "        accuracy                           0.97        98\n",
      "       macro avg       0.97      0.97      0.97        98\n",
      "    weighted avg       0.97      0.97      0.97        98\n",
      "\n",
      "New best model saved with F1-score 0.9703 at epoch 10\n",
      "Best Classification Report at Epoch 10:\n",
      "                  precision    recall  f1-score   support\n",
      "\n",
      "    infringement       1.00      0.94      0.97        49\n",
      "non_infringement       0.94      1.00      0.97        49\n",
      "\n",
      "        accuracy                           0.97        98\n",
      "       macro avg       0.97      0.97      0.97        98\n",
      "    weighted avg       0.97      0.97      0.97        98\n",
      "\n"
     ]
    },
    {
     "name": "stderr",
     "output_type": "stream",
     "text": [
      "Training Epochs:   1%|          | 20/2000 [00:00<00:47, 41.64it/s]"
     ]
    },
    {
     "name": "stdout",
     "output_type": "stream",
     "text": [
      "Epoch 20/2000, Loss: 0.1034\n",
      "Test Accuracy at Epoch 20: 97.96%\n",
      "Test F1-score at Epoch 20: 0.9800\n",
      "Classification Report at Epoch 20:\n",
      "                  precision    recall  f1-score   support\n",
      "\n",
      "    infringement       1.00      0.96      0.98        49\n",
      "non_infringement       0.96      1.00      0.98        49\n",
      "\n",
      "        accuracy                           0.98        98\n",
      "       macro avg       0.98      0.98      0.98        98\n",
      "    weighted avg       0.98      0.98      0.98        98\n",
      "\n",
      "New best model saved with F1-score 0.9800 at epoch 20\n",
      "Best Classification Report at Epoch 20:\n",
      "                  precision    recall  f1-score   support\n",
      "\n",
      "    infringement       1.00      0.96      0.98        49\n",
      "non_infringement       0.96      1.00      0.98        49\n",
      "\n",
      "        accuracy                           0.98        98\n",
      "       macro avg       0.98      0.98      0.98        98\n",
      "    weighted avg       0.98      0.98      0.98        98\n",
      "\n"
     ]
    },
    {
     "name": "stderr",
     "output_type": "stream",
     "text": [
      "Training Epochs:   1%|▏         | 29/2000 [00:01<01:38, 20.00it/s]"
     ]
    },
    {
     "name": "stdout",
     "output_type": "stream",
     "text": [
      "Epoch 30/2000, Loss: 0.0818\n",
      "Test Accuracy at Epoch 30: 97.96%\n",
      "Test F1-score at Epoch 30: 0.9800\n",
      "Classification Report at Epoch 30:\n",
      "                  precision    recall  f1-score   support\n",
      "\n",
      "    infringement       1.00      0.96      0.98        49\n",
      "non_infringement       0.96      1.00      0.98        49\n",
      "\n",
      "        accuracy                           0.98        98\n",
      "       macro avg       0.98      0.98      0.98        98\n",
      "    weighted avg       0.98      0.98      0.98        98\n",
      "\n"
     ]
    },
    {
     "name": "stderr",
     "output_type": "stream",
     "text": [
      "Training Epochs:   2%|▏         | 41/2000 [00:03<03:39,  8.93it/s]"
     ]
    },
    {
     "name": "stdout",
     "output_type": "stream",
     "text": [
      "Epoch 40/2000, Loss: 0.0787\n",
      "Test Accuracy at Epoch 40: 97.96%\n",
      "Test F1-score at Epoch 40: 0.9800\n",
      "Classification Report at Epoch 40:\n",
      "                  precision    recall  f1-score   support\n",
      "\n",
      "    infringement       1.00      0.96      0.98        49\n",
      "non_infringement       0.96      1.00      0.98        49\n",
      "\n",
      "        accuracy                           0.98        98\n",
      "       macro avg       0.98      0.98      0.98        98\n",
      "    weighted avg       0.98      0.98      0.98        98\n",
      "\n"
     ]
    },
    {
     "name": "stderr",
     "output_type": "stream",
     "text": [
      "Training Epochs:   2%|▏         | 49/2000 [00:03<02:03, 15.83it/s]"
     ]
    },
    {
     "name": "stdout",
     "output_type": "stream",
     "text": [
      "Epoch 50/2000, Loss: 0.0786\n",
      "Test Accuracy at Epoch 50: 97.96%\n",
      "Test F1-score at Epoch 50: 0.9800\n",
      "Classification Report at Epoch 50:\n",
      "                  precision    recall  f1-score   support\n",
      "\n",
      "    infringement       1.00      0.96      0.98        49\n",
      "non_infringement       0.96      1.00      0.98        49\n",
      "\n",
      "        accuracy                           0.98        98\n",
      "       macro avg       0.98      0.98      0.98        98\n",
      "    weighted avg       0.98      0.98      0.98        98\n",
      "\n"
     ]
    },
    {
     "name": "stderr",
     "output_type": "stream",
     "text": [
      "Training Epochs:   3%|▎         | 61/2000 [00:04<01:54, 16.90it/s]"
     ]
    },
    {
     "name": "stdout",
     "output_type": "stream",
     "text": [
      "Epoch 60/2000, Loss: 0.0786\n",
      "Test Accuracy at Epoch 60: 97.96%\n",
      "Test F1-score at Epoch 60: 0.9800\n",
      "Classification Report at Epoch 60:\n",
      "                  precision    recall  f1-score   support\n",
      "\n",
      "    infringement       1.00      0.96      0.98        49\n",
      "non_infringement       0.96      1.00      0.98        49\n",
      "\n",
      "        accuracy                           0.98        98\n",
      "       macro avg       0.98      0.98      0.98        98\n",
      "    weighted avg       0.98      0.98      0.98        98\n",
      "\n"
     ]
    },
    {
     "name": "stderr",
     "output_type": "stream",
     "text": [
      "Training Epochs:   4%|▎         | 70/2000 [00:04<01:47, 18.02it/s]"
     ]
    },
    {
     "name": "stdout",
     "output_type": "stream",
     "text": [
      "Epoch 70/2000, Loss: 0.0786\n",
      "Test Accuracy at Epoch 70: 97.96%\n",
      "Test F1-score at Epoch 70: 0.9800\n",
      "Classification Report at Epoch 70:\n",
      "                  precision    recall  f1-score   support\n",
      "\n",
      "    infringement       1.00      0.96      0.98        49\n",
      "non_infringement       0.96      1.00      0.98        49\n",
      "\n",
      "        accuracy                           0.98        98\n",
      "       macro avg       0.98      0.98      0.98        98\n",
      "    weighted avg       0.98      0.98      0.98        98\n",
      "\n"
     ]
    },
    {
     "name": "stderr",
     "output_type": "stream",
     "text": [
      "Training Epochs:   4%|▍         | 83/2000 [00:05<01:27, 21.86it/s]"
     ]
    },
    {
     "name": "stdout",
     "output_type": "stream",
     "text": [
      "Epoch 80/2000, Loss: 0.0786\n",
      "Test Accuracy at Epoch 80: 97.96%\n",
      "Test F1-score at Epoch 80: 0.9800\n",
      "Classification Report at Epoch 80:\n",
      "                  precision    recall  f1-score   support\n",
      "\n",
      "    infringement       1.00      0.96      0.98        49\n",
      "non_infringement       0.96      1.00      0.98        49\n",
      "\n",
      "        accuracy                           0.98        98\n",
      "       macro avg       0.98      0.98      0.98        98\n",
      "    weighted avg       0.98      0.98      0.98        98\n",
      "\n"
     ]
    },
    {
     "name": "stderr",
     "output_type": "stream",
     "text": [
      "Training Epochs:   5%|▌         | 100/2000 [00:05<01:09, 27.20it/s]"
     ]
    },
    {
     "name": "stdout",
     "output_type": "stream",
     "text": [
      "Epoch 90/2000, Loss: 0.0786\n",
      "Test Accuracy at Epoch 90: 97.96%\n",
      "Test F1-score at Epoch 90: 0.9800\n",
      "Classification Report at Epoch 90:\n",
      "                  precision    recall  f1-score   support\n",
      "\n",
      "    infringement       1.00      0.96      0.98        49\n",
      "non_infringement       0.96      1.00      0.98        49\n",
      "\n",
      "        accuracy                           0.98        98\n",
      "       macro avg       0.98      0.98      0.98        98\n",
      "    weighted avg       0.98      0.98      0.98        98\n",
      "\n",
      "Epoch 100/2000, Loss: 0.0786\n",
      "Test Accuracy at Epoch 100: 97.96%\n",
      "Test F1-score at Epoch 100: 0.9800\n",
      "Classification Report at Epoch 100:\n",
      "                  precision    recall  f1-score   support\n",
      "\n",
      "    infringement       1.00      0.96      0.98        49\n",
      "non_infringement       0.96      1.00      0.98        49\n",
      "\n",
      "        accuracy                           0.98        98\n",
      "       macro avg       0.98      0.98      0.98        98\n",
      "    weighted avg       0.98      0.98      0.98        98\n",
      "\n"
     ]
    },
    {
     "name": "stderr",
     "output_type": "stream",
     "text": [
      "Training Epochs:   6%|▌         | 122/2000 [00:06<00:33, 56.15it/s]"
     ]
    },
    {
     "name": "stdout",
     "output_type": "stream",
     "text": [
      "Epoch 110/2000, Loss: 0.0786\n",
      "Test Accuracy at Epoch 110: 97.96%\n",
      "Test F1-score at Epoch 110: 0.9800\n",
      "Classification Report at Epoch 110:\n",
      "                  precision    recall  f1-score   support\n",
      "\n",
      "    infringement       1.00      0.96      0.98        49\n",
      "non_infringement       0.96      1.00      0.98        49\n",
      "\n",
      "        accuracy                           0.98        98\n",
      "       macro avg       0.98      0.98      0.98        98\n",
      "    weighted avg       0.98      0.98      0.98        98\n",
      "\n",
      "Epoch 120/2000, Loss: 0.0786\n",
      "Test Accuracy at Epoch 120: 97.96%\n",
      "Test F1-score at Epoch 120: 0.9800\n",
      "Classification Report at Epoch 120:\n",
      "                  precision    recall  f1-score   support\n",
      "\n",
      "    infringement       1.00      0.96      0.98        49\n",
      "non_infringement       0.96      1.00      0.98        49\n",
      "\n",
      "        accuracy                           0.98        98\n",
      "       macro avg       0.98      0.98      0.98        98\n",
      "    weighted avg       0.98      0.98      0.98        98\n",
      "\n",
      "Epoch 130/2000, Loss: 0.0786\n"
     ]
    },
    {
     "name": "stderr",
     "output_type": "stream",
     "text": [
      "Training Epochs:   7%|▋         | 143/2000 [00:06<00:24, 75.92it/s]"
     ]
    },
    {
     "name": "stdout",
     "output_type": "stream",
     "text": [
      "Test Accuracy at Epoch 130: 97.96%\n",
      "Test F1-score at Epoch 130: 0.9800\n",
      "Classification Report at Epoch 130:\n",
      "                  precision    recall  f1-score   support\n",
      "\n",
      "    infringement       1.00      0.96      0.98        49\n",
      "non_infringement       0.96      1.00      0.98        49\n",
      "\n",
      "        accuracy                           0.98        98\n",
      "       macro avg       0.98      0.98      0.98        98\n",
      "    weighted avg       0.98      0.98      0.98        98\n",
      "\n",
      "Epoch 140/2000, Loss: 0.0786\n",
      "Test Accuracy at Epoch 140: 97.96%\n",
      "Test F1-score at Epoch 140: 0.9800\n",
      "Classification Report at Epoch 140:\n",
      "                  precision    recall  f1-score   support\n",
      "\n",
      "    infringement       1.00      0.96      0.98        49\n",
      "non_infringement       0.96      1.00      0.98        49\n",
      "\n",
      "        accuracy                           0.98        98\n",
      "       macro avg       0.98      0.98      0.98        98\n",
      "    weighted avg       0.98      0.98      0.98        98\n",
      "\n"
     ]
    },
    {
     "name": "stderr",
     "output_type": "stream",
     "text": [
      "Training Epochs:   8%|▊         | 152/2000 [00:06<00:41, 44.57it/s]"
     ]
    },
    {
     "name": "stdout",
     "output_type": "stream",
     "text": [
      "Epoch 150/2000, Loss: 0.0786\n",
      "Test Accuracy at Epoch 150: 97.96%\n",
      "Test F1-score at Epoch 150: 0.9800\n",
      "Classification Report at Epoch 150:\n",
      "                  precision    recall  f1-score   support\n",
      "\n",
      "    infringement       1.00      0.96      0.98        49\n",
      "non_infringement       0.96      1.00      0.98        49\n",
      "\n",
      "        accuracy                           0.98        98\n",
      "       macro avg       0.98      0.98      0.98        98\n",
      "    weighted avg       0.98      0.98      0.98        98\n",
      "\n"
     ]
    },
    {
     "name": "stderr",
     "output_type": "stream",
     "text": [
      "Training Epochs:   8%|▊         | 165/2000 [00:07<00:53, 34.45it/s]"
     ]
    },
    {
     "name": "stdout",
     "output_type": "stream",
     "text": [
      "Epoch 160/2000, Loss: 0.0786\n",
      "Test Accuracy at Epoch 160: 97.96%\n",
      "Test F1-score at Epoch 160: 0.9800\n",
      "Classification Report at Epoch 160:\n",
      "                  precision    recall  f1-score   support\n",
      "\n",
      "    infringement       1.00      0.96      0.98        49\n",
      "non_infringement       0.96      1.00      0.98        49\n",
      "\n",
      "        accuracy                           0.98        98\n",
      "       macro avg       0.98      0.98      0.98        98\n",
      "    weighted avg       0.98      0.98      0.98        98\n",
      "\n"
     ]
    },
    {
     "name": "stderr",
     "output_type": "stream",
     "text": [
      "Training Epochs:   9%|▉         | 177/2000 [00:07<00:44, 41.37it/s]"
     ]
    },
    {
     "name": "stdout",
     "output_type": "stream",
     "text": [
      "Epoch 170/2000, Loss: 0.0786\n",
      "Test Accuracy at Epoch 170: 97.96%\n",
      "Test F1-score at Epoch 170: 0.9800\n",
      "Classification Report at Epoch 170:\n",
      "                  precision    recall  f1-score   support\n",
      "\n",
      "    infringement       1.00      0.96      0.98        49\n",
      "non_infringement       0.96      1.00      0.98        49\n",
      "\n",
      "        accuracy                           0.98        98\n",
      "       macro avg       0.98      0.98      0.98        98\n",
      "    weighted avg       0.98      0.98      0.98        98\n",
      "\n",
      "Epoch 180/2000, Loss: 0.0786\n",
      "Test Accuracy at Epoch 180: 97.96%\n",
      "Test F1-score at Epoch 180: 0.9800\n",
      "Classification Report at Epoch 180:\n",
      "                  precision    recall  f1-score   support\n",
      "\n",
      "    infringement       1.00      0.96      0.98        49\n",
      "non_infringement       0.96      1.00      0.98        49\n",
      "\n",
      "        accuracy                           0.98        98\n",
      "       macro avg       0.98      0.98      0.98        98\n",
      "    weighted avg       0.98      0.98      0.98        98\n",
      "\n"
     ]
    },
    {
     "name": "stderr",
     "output_type": "stream",
     "text": [
      "Training Epochs:   9%|▉         | 188/2000 [00:08<01:10, 25.69it/s]"
     ]
    },
    {
     "name": "stdout",
     "output_type": "stream",
     "text": [
      "Epoch 190/2000, Loss: 0.0786\n",
      "Test Accuracy at Epoch 190: 97.96%\n",
      "Test F1-score at Epoch 190: 0.9800\n",
      "Classification Report at Epoch 190:\n",
      "                  precision    recall  f1-score   support\n",
      "\n",
      "    infringement       1.00      0.96      0.98        49\n",
      "non_infringement       0.96      1.00      0.98        49\n",
      "\n",
      "        accuracy                           0.98        98\n",
      "       macro avg       0.98      0.98      0.98        98\n",
      "    weighted avg       0.98      0.98      0.98        98\n",
      "\n"
     ]
    },
    {
     "name": "stderr",
     "output_type": "stream",
     "text": [
      "Training Epochs:  10%|█         | 205/2000 [00:09<01:28, 20.35it/s]"
     ]
    },
    {
     "name": "stdout",
     "output_type": "stream",
     "text": [
      "Epoch 200/2000, Loss: 0.0786\n",
      "Test Accuracy at Epoch 200: 97.96%\n",
      "Test F1-score at Epoch 200: 0.9800\n",
      "Classification Report at Epoch 200:\n",
      "                  precision    recall  f1-score   support\n",
      "\n",
      "    infringement       1.00      0.96      0.98        49\n",
      "non_infringement       0.96      1.00      0.98        49\n",
      "\n",
      "        accuracy                           0.98        98\n",
      "       macro avg       0.98      0.98      0.98        98\n",
      "    weighted avg       0.98      0.98      0.98        98\n",
      "\n"
     ]
    },
    {
     "name": "stderr",
     "output_type": "stream",
     "text": [
      "Training Epochs:  11%|█         | 211/2000 [00:09<01:20, 22.10it/s]"
     ]
    },
    {
     "name": "stdout",
     "output_type": "stream",
     "text": [
      "Epoch 210/2000, Loss: 0.0786\n",
      "Test Accuracy at Epoch 210: 97.96%\n",
      "Test F1-score at Epoch 210: 0.9800\n",
      "Classification Report at Epoch 210:\n",
      "                  precision    recall  f1-score   support\n",
      "\n",
      "    infringement       1.00      0.96      0.98        49\n",
      "non_infringement       0.96      1.00      0.98        49\n",
      "\n",
      "        accuracy                           0.98        98\n",
      "       macro avg       0.98      0.98      0.98        98\n",
      "    weighted avg       0.98      0.98      0.98        98\n",
      "\n"
     ]
    },
    {
     "name": "stderr",
     "output_type": "stream",
     "text": [
      "Training Epochs:  11%|█         | 221/2000 [00:10<01:18, 22.74it/s]"
     ]
    },
    {
     "name": "stdout",
     "output_type": "stream",
     "text": [
      "Epoch 220/2000, Loss: 0.0786\n",
      "Test Accuracy at Epoch 220: 97.96%\n",
      "Test F1-score at Epoch 220: 0.9800\n",
      "Classification Report at Epoch 220:\n",
      "                  precision    recall  f1-score   support\n",
      "\n",
      "    infringement       1.00      0.96      0.98        49\n",
      "non_infringement       0.96      1.00      0.98        49\n",
      "\n",
      "        accuracy                           0.98        98\n",
      "       macro avg       0.98      0.98      0.98        98\n",
      "    weighted avg       0.98      0.98      0.98        98\n",
      "\n"
     ]
    },
    {
     "name": "stderr",
     "output_type": "stream",
     "text": [
      "Training Epochs:  12%|█▏        | 232/2000 [00:10<01:21, 21.77it/s]"
     ]
    },
    {
     "name": "stdout",
     "output_type": "stream",
     "text": [
      "Epoch 230/2000, Loss: 0.0786\n",
      "Test Accuracy at Epoch 230: 97.96%\n",
      "Test F1-score at Epoch 230: 0.9800\n",
      "Classification Report at Epoch 230:\n",
      "                  precision    recall  f1-score   support\n",
      "\n",
      "    infringement       1.00      0.96      0.98        49\n",
      "non_infringement       0.96      1.00      0.98        49\n",
      "\n",
      "        accuracy                           0.98        98\n",
      "       macro avg       0.98      0.98      0.98        98\n",
      "    weighted avg       0.98      0.98      0.98        98\n",
      "\n"
     ]
    },
    {
     "name": "stderr",
     "output_type": "stream",
     "text": [
      "Training Epochs:  12%|█▏        | 242/2000 [00:11<01:19, 22.00it/s]"
     ]
    },
    {
     "name": "stdout",
     "output_type": "stream",
     "text": [
      "Epoch 240/2000, Loss: 0.0786\n",
      "Test Accuracy at Epoch 240: 97.96%\n",
      "Test F1-score at Epoch 240: 0.9800\n",
      "Classification Report at Epoch 240:\n",
      "                  precision    recall  f1-score   support\n",
      "\n",
      "    infringement       1.00      0.96      0.98        49\n",
      "non_infringement       0.96      1.00      0.98        49\n",
      "\n",
      "        accuracy                           0.98        98\n",
      "       macro avg       0.98      0.98      0.98        98\n",
      "    weighted avg       0.98      0.98      0.98        98\n",
      "\n"
     ]
    },
    {
     "name": "stderr",
     "output_type": "stream",
     "text": [
      "Training Epochs:  13%|█▎        | 251/2000 [00:11<01:37, 17.87it/s]"
     ]
    },
    {
     "name": "stdout",
     "output_type": "stream",
     "text": [
      "Epoch 250/2000, Loss: 0.0786\n",
      "Test Accuracy at Epoch 250: 97.96%\n",
      "Test F1-score at Epoch 250: 0.9800\n",
      "Classification Report at Epoch 250:\n",
      "                  precision    recall  f1-score   support\n",
      "\n",
      "    infringement       1.00      0.96      0.98        49\n",
      "non_infringement       0.96      1.00      0.98        49\n",
      "\n",
      "        accuracy                           0.98        98\n",
      "       macro avg       0.98      0.98      0.98        98\n",
      "    weighted avg       0.98      0.98      0.98        98\n",
      "\n"
     ]
    },
    {
     "name": "stderr",
     "output_type": "stream",
     "text": [
      "Training Epochs:  13%|█▎        | 263/2000 [00:12<02:14, 12.90it/s]"
     ]
    },
    {
     "name": "stdout",
     "output_type": "stream",
     "text": [
      "Epoch 260/2000, Loss: 0.0786\n",
      "Test Accuracy at Epoch 260: 97.96%\n",
      "Test F1-score at Epoch 260: 0.9800\n",
      "Classification Report at Epoch 260:\n",
      "                  precision    recall  f1-score   support\n",
      "\n",
      "    infringement       1.00      0.96      0.98        49\n",
      "non_infringement       0.96      1.00      0.98        49\n",
      "\n",
      "        accuracy                           0.98        98\n",
      "       macro avg       0.98      0.98      0.98        98\n",
      "    weighted avg       0.98      0.98      0.98        98\n",
      "\n"
     ]
    },
    {
     "name": "stderr",
     "output_type": "stream",
     "text": [
      "Training Epochs:  14%|█▍        | 276/2000 [00:13<01:10, 24.30it/s]"
     ]
    },
    {
     "name": "stdout",
     "output_type": "stream",
     "text": [
      "Epoch 270/2000, Loss: 0.0786\n",
      "Test Accuracy at Epoch 270: 97.96%\n",
      "Test F1-score at Epoch 270: 0.9800\n",
      "Classification Report at Epoch 270:\n",
      "                  precision    recall  f1-score   support\n",
      "\n",
      "    infringement       1.00      0.96      0.98        49\n",
      "non_infringement       0.96      1.00      0.98        49\n",
      "\n",
      "        accuracy                           0.98        98\n",
      "       macro avg       0.98      0.98      0.98        98\n",
      "    weighted avg       0.98      0.98      0.98        98\n",
      "\n",
      "Epoch 280/2000, Loss: 0.0786\n",
      "Test Accuracy at Epoch 280: 97.96%\n",
      "Test F1-score at Epoch 280: 0.9800\n",
      "Classification Report at Epoch 280:\n",
      "                  precision    recall  f1-score   support\n",
      "\n",
      "    infringement       1.00      0.96      0.98        49\n",
      "non_infringement       0.96      1.00      0.98        49\n",
      "\n",
      "        accuracy                           0.98        98\n",
      "       macro avg       0.98      0.98      0.98        98\n",
      "    weighted avg       0.98      0.98      0.98        98\n",
      "\n"
     ]
    },
    {
     "name": "stderr",
     "output_type": "stream",
     "text": [
      "Training Epochs:  15%|█▍        | 292/2000 [00:14<01:26, 19.63it/s]"
     ]
    },
    {
     "name": "stdout",
     "output_type": "stream",
     "text": [
      "Epoch 290/2000, Loss: 0.0786\n",
      "Test Accuracy at Epoch 290: 97.96%\n",
      "Test F1-score at Epoch 290: 0.9800\n",
      "Classification Report at Epoch 290:\n",
      "                  precision    recall  f1-score   support\n",
      "\n",
      "    infringement       1.00      0.96      0.98        49\n",
      "non_infringement       0.96      1.00      0.98        49\n",
      "\n",
      "        accuracy                           0.98        98\n",
      "       macro avg       0.98      0.98      0.98        98\n",
      "    weighted avg       0.98      0.98      0.98        98\n",
      "\n"
     ]
    },
    {
     "name": "stderr",
     "output_type": "stream",
     "text": [
      "Training Epochs:  15%|█▌        | 306/2000 [00:14<01:02, 27.09it/s]"
     ]
    },
    {
     "name": "stdout",
     "output_type": "stream",
     "text": [
      "Epoch 300/2000, Loss: 0.0786\n",
      "Test Accuracy at Epoch 300: 97.96%\n",
      "Test F1-score at Epoch 300: 0.9800\n",
      "Classification Report at Epoch 300:\n",
      "                  precision    recall  f1-score   support\n",
      "\n",
      "    infringement       1.00      0.96      0.98        49\n",
      "non_infringement       0.96      1.00      0.98        49\n",
      "\n",
      "        accuracy                           0.98        98\n",
      "       macro avg       0.98      0.98      0.98        98\n",
      "    weighted avg       0.98      0.98      0.98        98\n",
      "\n"
     ]
    },
    {
     "name": "stderr",
     "output_type": "stream",
     "text": [
      "Training Epochs:  16%|█▌        | 319/2000 [00:15<00:40, 41.30it/s]"
     ]
    },
    {
     "name": "stdout",
     "output_type": "stream",
     "text": [
      "Epoch 310/2000, Loss: 0.0786\n",
      "Test Accuracy at Epoch 310: 97.96%\n",
      "Test F1-score at Epoch 310: 0.9800\n",
      "Classification Report at Epoch 310:\n",
      "                  precision    recall  f1-score   support\n",
      "\n",
      "    infringement       1.00      0.96      0.98        49\n",
      "non_infringement       0.96      1.00      0.98        49\n",
      "\n",
      "        accuracy                           0.98        98\n",
      "       macro avg       0.98      0.98      0.98        98\n",
      "    weighted avg       0.98      0.98      0.98        98\n",
      "\n",
      "Epoch 320/2000, Loss: 0.0786\n",
      "Test Accuracy at Epoch 320: 97.96%\n",
      "Test F1-score at Epoch 320: 0.9800\n",
      "Classification Report at Epoch 320:\n",
      "                  precision    recall  f1-score   support\n",
      "\n",
      "    infringement       1.00      0.96      0.98        49\n",
      "non_infringement       0.96      1.00      0.98        49\n",
      "\n",
      "        accuracy                           0.98        98\n",
      "       macro avg       0.98      0.98      0.98        98\n",
      "    weighted avg       0.98      0.98      0.98        98\n",
      "\n"
     ]
    },
    {
     "name": "stderr",
     "output_type": "stream",
     "text": [
      "Training Epochs:  17%|█▋        | 334/2000 [00:15<00:42, 39.18it/s]"
     ]
    },
    {
     "name": "stdout",
     "output_type": "stream",
     "text": [
      "Epoch 330/2000, Loss: 0.0786\n",
      "Test Accuracy at Epoch 330: 97.96%\n",
      "Test F1-score at Epoch 330: 0.9800\n",
      "Classification Report at Epoch 330:\n",
      "                  precision    recall  f1-score   support\n",
      "\n",
      "    infringement       1.00      0.96      0.98        49\n",
      "non_infringement       0.96      1.00      0.98        49\n",
      "\n",
      "        accuracy                           0.98        98\n",
      "       macro avg       0.98      0.98      0.98        98\n",
      "    weighted avg       0.98      0.98      0.98        98\n",
      "\n"
     ]
    },
    {
     "name": "stderr",
     "output_type": "stream",
     "text": [
      "Training Epochs:  17%|█▋        | 349/2000 [00:16<01:03, 25.88it/s]"
     ]
    },
    {
     "name": "stdout",
     "output_type": "stream",
     "text": [
      "Epoch 340/2000, Loss: 0.0786\n",
      "Test Accuracy at Epoch 340: 97.96%\n",
      "Test F1-score at Epoch 340: 0.9800\n",
      "Classification Report at Epoch 340:\n",
      "                  precision    recall  f1-score   support\n",
      "\n",
      "    infringement       1.00      0.96      0.98        49\n",
      "non_infringement       0.96      1.00      0.98        49\n",
      "\n",
      "        accuracy                           0.98        98\n",
      "       macro avg       0.98      0.98      0.98        98\n",
      "    weighted avg       0.98      0.98      0.98        98\n",
      "\n"
     ]
    },
    {
     "name": "stderr",
     "output_type": "stream",
     "text": [
      "Training Epochs:  18%|█▊        | 355/2000 [00:16<00:52, 31.39it/s]"
     ]
    },
    {
     "name": "stdout",
     "output_type": "stream",
     "text": [
      "Epoch 350/2000, Loss: 0.0786\n",
      "Test Accuracy at Epoch 350: 97.96%\n",
      "Test F1-score at Epoch 350: 0.9800\n",
      "Classification Report at Epoch 350:\n",
      "                  precision    recall  f1-score   support\n",
      "\n",
      "    infringement       1.00      0.96      0.98        49\n",
      "non_infringement       0.96      1.00      0.98        49\n",
      "\n",
      "        accuracy                           0.98        98\n",
      "       macro avg       0.98      0.98      0.98        98\n",
      "    weighted avg       0.98      0.98      0.98        98\n",
      "\n"
     ]
    },
    {
     "name": "stderr",
     "output_type": "stream",
     "text": [
      "Training Epochs:  18%|█▊        | 360/2000 [00:16<01:02, 26.42it/s]"
     ]
    },
    {
     "name": "stdout",
     "output_type": "stream",
     "text": [
      "Epoch 360/2000, Loss: 0.0786\n",
      "Test Accuracy at Epoch 360: 97.96%\n",
      "Test F1-score at Epoch 360: 0.9800\n",
      "Classification Report at Epoch 360:\n",
      "                  precision    recall  f1-score   support\n",
      "\n",
      "    infringement       1.00      0.96      0.98        49\n",
      "non_infringement       0.96      1.00      0.98        49\n",
      "\n",
      "        accuracy                           0.98        98\n",
      "       macro avg       0.98      0.98      0.98        98\n",
      "    weighted avg       0.98      0.98      0.98        98\n",
      "\n"
     ]
    },
    {
     "name": "stderr",
     "output_type": "stream",
     "text": [
      "Training Epochs:  19%|█▉        | 377/2000 [00:17<00:50, 31.85it/s]"
     ]
    },
    {
     "name": "stdout",
     "output_type": "stream",
     "text": [
      "Epoch 370/2000, Loss: 0.0786\n",
      "Test Accuracy at Epoch 370: 97.96%\n",
      "Test F1-score at Epoch 370: 0.9800\n",
      "Classification Report at Epoch 370:\n",
      "                  precision    recall  f1-score   support\n",
      "\n",
      "    infringement       1.00      0.96      0.98        49\n",
      "non_infringement       0.96      1.00      0.98        49\n",
      "\n",
      "        accuracy                           0.98        98\n",
      "       macro avg       0.98      0.98      0.98        98\n",
      "    weighted avg       0.98      0.98      0.98        98\n",
      "\n",
      "Epoch 380/2000, Loss: 0.0786\n",
      "Test Accuracy at Epoch 380: 97.96%\n",
      "Test F1-score at Epoch 380: 0.9800\n",
      "Classification Report at Epoch 380:\n",
      "                  precision    recall  f1-score   support\n",
      "\n",
      "    infringement       1.00      0.96      0.98        49\n",
      "non_infringement       0.96      1.00      0.98        49\n",
      "\n",
      "        accuracy                           0.98        98\n",
      "       macro avg       0.98      0.98      0.98        98\n",
      "    weighted avg       0.98      0.98      0.98        98\n",
      "\n"
     ]
    },
    {
     "name": "stderr",
     "output_type": "stream",
     "text": [
      "Training Epochs:  19%|█▉        | 389/2000 [00:17<00:40, 39.44it/s]"
     ]
    },
    {
     "name": "stdout",
     "output_type": "stream",
     "text": [
      "Epoch 390/2000, Loss: 0.0786\n",
      "Test Accuracy at Epoch 390: 97.96%\n",
      "Test F1-score at Epoch 390: 0.9800\n",
      "Classification Report at Epoch 390:\n",
      "                  precision    recall  f1-score   support\n",
      "\n",
      "    infringement       1.00      0.96      0.98        49\n",
      "non_infringement       0.96      1.00      0.98        49\n",
      "\n",
      "        accuracy                           0.98        98\n",
      "       macro avg       0.98      0.98      0.98        98\n",
      "    weighted avg       0.98      0.98      0.98        98\n",
      "\n"
     ]
    },
    {
     "name": "stderr",
     "output_type": "stream",
     "text": [
      "Training Epochs:  20%|██        | 409/2000 [00:18<00:47, 33.42it/s]"
     ]
    },
    {
     "name": "stdout",
     "output_type": "stream",
     "text": [
      "Epoch 400/2000, Loss: 0.0786\n",
      "Test Accuracy at Epoch 400: 97.96%\n",
      "Test F1-score at Epoch 400: 0.9800\n",
      "Classification Report at Epoch 400:\n",
      "                  precision    recall  f1-score   support\n",
      "\n",
      "    infringement       1.00      0.96      0.98        49\n",
      "non_infringement       0.96      1.00      0.98        49\n",
      "\n",
      "        accuracy                           0.98        98\n",
      "       macro avg       0.98      0.98      0.98        98\n",
      "    weighted avg       0.98      0.98      0.98        98\n",
      "\n",
      "Epoch 410/2000, Loss: 0.0786\n",
      "Test Accuracy at Epoch 410: 97.96%\n",
      "Test F1-score at Epoch 410: 0.9800\n",
      "Classification Report at Epoch 410:\n",
      "                  precision    recall  f1-score   support\n",
      "\n",
      "    infringement       1.00      0.96      0.98        49\n",
      "non_infringement       0.96      1.00      0.98        49\n",
      "\n",
      "        accuracy                           0.98        98\n",
      "       macro avg       0.98      0.98      0.98        98\n",
      "    weighted avg       0.98      0.98      0.98        98\n",
      "\n"
     ]
    },
    {
     "name": "stderr",
     "output_type": "stream",
     "text": [
      "Training Epochs:  22%|██▏       | 433/2000 [00:18<00:28, 55.00it/s]"
     ]
    },
    {
     "name": "stdout",
     "output_type": "stream",
     "text": [
      "Epoch 420/2000, Loss: 0.0786\n",
      "Test Accuracy at Epoch 420: 97.96%\n",
      "Test F1-score at Epoch 420: 0.9800\n",
      "Classification Report at Epoch 420:\n",
      "                  precision    recall  f1-score   support\n",
      "\n",
      "    infringement       1.00      0.96      0.98        49\n",
      "non_infringement       0.96      1.00      0.98        49\n",
      "\n",
      "        accuracy                           0.98        98\n",
      "       macro avg       0.98      0.98      0.98        98\n",
      "    weighted avg       0.98      0.98      0.98        98\n",
      "\n",
      "Epoch 430/2000, Loss: 0.0786\n",
      "Test Accuracy at Epoch 430: 97.96%\n",
      "Test F1-score at Epoch 430: 0.9800\n",
      "Classification Report at Epoch 430:\n",
      "                  precision    recall  f1-score   support\n",
      "\n",
      "    infringement       1.00      0.96      0.98        49\n",
      "non_infringement       0.96      1.00      0.98        49\n",
      "\n",
      "        accuracy                           0.98        98\n",
      "       macro avg       0.98      0.98      0.98        98\n",
      "    weighted avg       0.98      0.98      0.98        98\n",
      "\n"
     ]
    },
    {
     "name": "stderr",
     "output_type": "stream",
     "text": [
      "Training Epochs:  22%|██▏       | 440/2000 [00:18<00:30, 51.73it/s]"
     ]
    },
    {
     "name": "stdout",
     "output_type": "stream",
     "text": [
      "Epoch 440/2000, Loss: 0.0786\n",
      "Test Accuracy at Epoch 440: 97.96%\n",
      "Test F1-score at Epoch 440: 0.9800\n",
      "Classification Report at Epoch 440:\n",
      "                  precision    recall  f1-score   support\n",
      "\n",
      "    infringement       1.00      0.96      0.98        49\n",
      "non_infringement       0.96      1.00      0.98        49\n",
      "\n",
      "        accuracy                           0.98        98\n",
      "       macro avg       0.98      0.98      0.98        98\n",
      "    weighted avg       0.98      0.98      0.98        98\n",
      "\n"
     ]
    },
    {
     "name": "stderr",
     "output_type": "stream",
     "text": [
      "Training Epochs:  23%|██▎       | 453/2000 [00:19<00:49, 31.52it/s]"
     ]
    },
    {
     "name": "stdout",
     "output_type": "stream",
     "text": [
      "Epoch 450/2000, Loss: 0.0786\n",
      "Test Accuracy at Epoch 450: 97.96%\n",
      "Test F1-score at Epoch 450: 0.9800\n",
      "Classification Report at Epoch 450:\n",
      "                  precision    recall  f1-score   support\n",
      "\n",
      "    infringement       1.00      0.96      0.98        49\n",
      "non_infringement       0.96      1.00      0.98        49\n",
      "\n",
      "        accuracy                           0.98        98\n",
      "       macro avg       0.98      0.98      0.98        98\n",
      "    weighted avg       0.98      0.98      0.98        98\n",
      "\n"
     ]
    },
    {
     "name": "stderr",
     "output_type": "stream",
     "text": [
      "Training Epochs:  23%|██▎       | 458/2000 [00:20<01:34, 16.34it/s]"
     ]
    },
    {
     "name": "stdout",
     "output_type": "stream",
     "text": [
      "Epoch 460/2000, Loss: 0.0786\n",
      "Test Accuracy at Epoch 460: 97.96%\n",
      "Test F1-score at Epoch 460: 0.9800\n",
      "Classification Report at Epoch 460:\n",
      "                  precision    recall  f1-score   support\n",
      "\n",
      "    infringement       1.00      0.96      0.98        49\n",
      "non_infringement       0.96      1.00      0.98        49\n",
      "\n",
      "        accuracy                           0.98        98\n",
      "       macro avg       0.98      0.98      0.98        98\n",
      "    weighted avg       0.98      0.98      0.98        98\n",
      "\n"
     ]
    },
    {
     "name": "stderr",
     "output_type": "stream",
     "text": [
      "Training Epochs:  24%|██▍       | 480/2000 [00:23<01:44, 14.60it/s]"
     ]
    },
    {
     "name": "stdout",
     "output_type": "stream",
     "text": [
      "Epoch 470/2000, Loss: 0.0786\n",
      "Test Accuracy at Epoch 470: 97.96%\n",
      "Test F1-score at Epoch 470: 0.9800\n",
      "Classification Report at Epoch 470:\n",
      "                  precision    recall  f1-score   support\n",
      "\n",
      "    infringement       1.00      0.96      0.98        49\n",
      "non_infringement       0.96      1.00      0.98        49\n",
      "\n",
      "        accuracy                           0.98        98\n",
      "       macro avg       0.98      0.98      0.98        98\n",
      "    weighted avg       0.98      0.98      0.98        98\n",
      "\n",
      "Epoch 480/2000, Loss: 0.0786\n",
      "Test Accuracy at Epoch 480: 97.96%\n",
      "Test F1-score at Epoch 480: 0.9800\n",
      "Classification Report at Epoch 480:\n",
      "                  precision    recall  f1-score   support\n",
      "\n",
      "    infringement       1.00      0.96      0.98        49\n",
      "non_infringement       0.96      1.00      0.98        49\n",
      "\n",
      "        accuracy                           0.98        98\n",
      "       macro avg       0.98      0.98      0.98        98\n",
      "    weighted avg       0.98      0.98      0.98        98\n",
      "\n"
     ]
    },
    {
     "name": "stderr",
     "output_type": "stream",
     "text": [
      "Training Epochs:  25%|██▍       | 497/2000 [00:24<01:17, 19.30it/s]"
     ]
    },
    {
     "name": "stdout",
     "output_type": "stream",
     "text": [
      "Epoch 490/2000, Loss: 0.0786\n",
      "Test Accuracy at Epoch 490: 97.96%\n",
      "Test F1-score at Epoch 490: 0.9800\n",
      "Classification Report at Epoch 490:\n",
      "                  precision    recall  f1-score   support\n",
      "\n",
      "    infringement       1.00      0.96      0.98        49\n",
      "non_infringement       0.96      1.00      0.98        49\n",
      "\n",
      "        accuracy                           0.98        98\n",
      "       macro avg       0.98      0.98      0.98        98\n",
      "    weighted avg       0.98      0.98      0.98        98\n",
      "\n",
      "Epoch 500/2000, Loss: 0.0786\n",
      "Test Accuracy at Epoch 500: 97.96%\n",
      "Test F1-score at Epoch 500: 0.9800\n",
      "Classification Report at Epoch 500:\n",
      "                  precision    recall  f1-score   support\n",
      "\n",
      "    infringement       1.00      0.96      0.98        49\n",
      "non_infringement       0.96      1.00      0.98        49\n",
      "\n",
      "        accuracy                           0.98        98\n",
      "       macro avg       0.98      0.98      0.98        98\n",
      "    weighted avg       0.98      0.98      0.98        98\n",
      "\n"
     ]
    },
    {
     "name": "stderr",
     "output_type": "stream",
     "text": [
      "Training Epochs:  26%|██▌       | 519/2000 [00:24<00:37, 39.66it/s]"
     ]
    },
    {
     "name": "stdout",
     "output_type": "stream",
     "text": [
      "Epoch 510/2000, Loss: 0.0786\n",
      "Test Accuracy at Epoch 510: 97.96%\n",
      "Test F1-score at Epoch 510: 0.9800\n",
      "Classification Report at Epoch 510:\n",
      "                  precision    recall  f1-score   support\n",
      "\n",
      "    infringement       1.00      0.96      0.98        49\n",
      "non_infringement       0.96      1.00      0.98        49\n",
      "\n",
      "        accuracy                           0.98        98\n",
      "       macro avg       0.98      0.98      0.98        98\n",
      "    weighted avg       0.98      0.98      0.98        98\n",
      "\n",
      "Epoch 520/2000, Loss: 0.0786\n",
      "Test Accuracy at Epoch 520: 97.96%\n",
      "Test F1-score at Epoch 520: 0.9800\n",
      "Classification Report at Epoch 520:\n",
      "                  precision    recall  f1-score   support\n",
      "\n",
      "    infringement       1.00      0.96      0.98        49\n",
      "non_infringement       0.96      1.00      0.98        49\n",
      "\n",
      "        accuracy                           0.98        98\n",
      "       macro avg       0.98      0.98      0.98        98\n",
      "    weighted avg       0.98      0.98      0.98        98\n",
      "\n"
     ]
    },
    {
     "name": "stderr",
     "output_type": "stream",
     "text": [
      "Training Epochs:  26%|██▋       | 530/2000 [00:26<02:22, 10.28it/s]"
     ]
    },
    {
     "name": "stdout",
     "output_type": "stream",
     "text": [
      "Epoch 530/2000, Loss: 0.0786\n",
      "Test Accuracy at Epoch 530: 97.96%\n",
      "Test F1-score at Epoch 530: 0.9800\n",
      "Classification Report at Epoch 530:\n",
      "                  precision    recall  f1-score   support\n",
      "\n",
      "    infringement       1.00      0.96      0.98        49\n",
      "non_infringement       0.96      1.00      0.98        49\n",
      "\n",
      "        accuracy                           0.98        98\n",
      "       macro avg       0.98      0.98      0.98        98\n",
      "    weighted avg       0.98      0.98      0.98        98\n",
      "\n"
     ]
    },
    {
     "name": "stderr",
     "output_type": "stream",
     "text": [
      "Training Epochs:  27%|██▋       | 540/2000 [00:28<03:13,  7.54it/s]"
     ]
    },
    {
     "name": "stdout",
     "output_type": "stream",
     "text": [
      "Epoch 540/2000, Loss: 0.0786\n",
      "Test Accuracy at Epoch 540: 97.96%\n",
      "Test F1-score at Epoch 540: 0.9800\n",
      "Classification Report at Epoch 540:\n",
      "                  precision    recall  f1-score   support\n",
      "\n",
      "    infringement       1.00      0.96      0.98        49\n",
      "non_infringement       0.96      1.00      0.98        49\n",
      "\n",
      "        accuracy                           0.98        98\n",
      "       macro avg       0.98      0.98      0.98        98\n",
      "    weighted avg       0.98      0.98      0.98        98\n",
      "\n"
     ]
    },
    {
     "name": "stderr",
     "output_type": "stream",
     "text": [
      "Training Epochs:  28%|██▊       | 557/2000 [00:30<01:46, 13.50it/s]"
     ]
    },
    {
     "name": "stdout",
     "output_type": "stream",
     "text": [
      "Epoch 550/2000, Loss: 0.0786\n",
      "Test Accuracy at Epoch 550: 97.96%\n",
      "Test F1-score at Epoch 550: 0.9800\n",
      "Classification Report at Epoch 550:\n",
      "                  precision    recall  f1-score   support\n",
      "\n",
      "    infringement       1.00      0.96      0.98        49\n",
      "non_infringement       0.96      1.00      0.98        49\n",
      "\n",
      "        accuracy                           0.98        98\n",
      "       macro avg       0.98      0.98      0.98        98\n",
      "    weighted avg       0.98      0.98      0.98        98\n",
      "\n",
      "Epoch 560/2000, Loss: 0.0786\n",
      "Test Accuracy at Epoch 560: 97.96%\n",
      "Test F1-score at Epoch 560: 0.9800\n",
      "Classification Report at Epoch 560:\n",
      "                  precision    recall  f1-score   support\n",
      "\n",
      "    infringement       1.00      0.96      0.98        49\n",
      "non_infringement       0.96      1.00      0.98        49\n",
      "\n",
      "        accuracy                           0.98        98\n",
      "       macro avg       0.98      0.98      0.98        98\n",
      "    weighted avg       0.98      0.98      0.98        98\n",
      "\n"
     ]
    },
    {
     "name": "stderr",
     "output_type": "stream",
     "text": [
      "Training Epochs:  28%|██▊       | 569/2000 [00:30<00:55, 25.64it/s]"
     ]
    },
    {
     "name": "stdout",
     "output_type": "stream",
     "text": [
      "Epoch 570/2000, Loss: 0.0786\n",
      "Test Accuracy at Epoch 570: 97.96%\n",
      "Test F1-score at Epoch 570: 0.9800\n",
      "Classification Report at Epoch 570:\n",
      "                  precision    recall  f1-score   support\n",
      "\n",
      "    infringement       1.00      0.96      0.98        49\n",
      "non_infringement       0.96      1.00      0.98        49\n",
      "\n",
      "        accuracy                           0.98        98\n",
      "       macro avg       0.98      0.98      0.98        98\n",
      "    weighted avg       0.98      0.98      0.98        98\n",
      "\n"
     ]
    },
    {
     "name": "stderr",
     "output_type": "stream",
     "text": [
      "Training Epochs:  29%|██▉       | 578/2000 [00:31<01:06, 21.33it/s]"
     ]
    },
    {
     "name": "stdout",
     "output_type": "stream",
     "text": [
      "Epoch 580/2000, Loss: 0.0786\n",
      "Test Accuracy at Epoch 580: 97.96%\n",
      "Test F1-score at Epoch 580: 0.9800\n",
      "Classification Report at Epoch 580:\n",
      "                  precision    recall  f1-score   support\n",
      "\n",
      "    infringement       1.00      0.96      0.98        49\n",
      "non_infringement       0.96      1.00      0.98        49\n",
      "\n",
      "        accuracy                           0.98        98\n",
      "       macro avg       0.98      0.98      0.98        98\n",
      "    weighted avg       0.98      0.98      0.98        98\n",
      "\n"
     ]
    },
    {
     "name": "stderr",
     "output_type": "stream",
     "text": [
      "Training Epochs:  29%|██▉       | 589/2000 [00:33<03:57,  5.94it/s]"
     ]
    },
    {
     "name": "stdout",
     "output_type": "stream",
     "text": [
      "Epoch 590/2000, Loss: 0.0786\n",
      "Test Accuracy at Epoch 590: 97.96%\n",
      "Test F1-score at Epoch 590: 0.9800\n",
      "Classification Report at Epoch 590:\n",
      "                  precision    recall  f1-score   support\n",
      "\n",
      "    infringement       1.00      0.96      0.98        49\n",
      "non_infringement       0.96      1.00      0.98        49\n",
      "\n",
      "        accuracy                           0.98        98\n",
      "       macro avg       0.98      0.98      0.98        98\n",
      "    weighted avg       0.98      0.98      0.98        98\n",
      "\n"
     ]
    },
    {
     "name": "stderr",
     "output_type": "stream",
     "text": [
      "Training Epochs:  30%|███       | 605/2000 [00:36<01:49, 12.74it/s]"
     ]
    },
    {
     "name": "stdout",
     "output_type": "stream",
     "text": [
      "Epoch 600/2000, Loss: 0.0786\n",
      "Test Accuracy at Epoch 600: 97.96%\n",
      "Test F1-score at Epoch 600: 0.9800\n",
      "Classification Report at Epoch 600:\n",
      "                  precision    recall  f1-score   support\n",
      "\n",
      "    infringement       1.00      0.96      0.98        49\n",
      "non_infringement       0.96      1.00      0.98        49\n",
      "\n",
      "        accuracy                           0.98        98\n",
      "       macro avg       0.98      0.98      0.98        98\n",
      "    weighted avg       0.98      0.98      0.98        98\n",
      "\n",
      "Epoch 610/2000, Loss: 0.0786\n",
      "Test Accuracy at Epoch 610: 97.96%\n",
      "Test F1-score at Epoch 610: 0.9800\n"
     ]
    },
    {
     "name": "stderr",
     "output_type": "stream",
     "text": [
      "Training Epochs:  31%|███       | 611/2000 [00:36<01:22, 16.89it/s]"
     ]
    },
    {
     "name": "stdout",
     "output_type": "stream",
     "text": [
      "Classification Report at Epoch 610:\n",
      "                  precision    recall  f1-score   support\n",
      "\n",
      "    infringement       1.00      0.96      0.98        49\n",
      "non_infringement       0.96      1.00      0.98        49\n",
      "\n",
      "        accuracy                           0.98        98\n",
      "       macro avg       0.98      0.98      0.98        98\n",
      "    weighted avg       0.98      0.98      0.98        98\n",
      "\n"
     ]
    },
    {
     "name": "stderr",
     "output_type": "stream",
     "text": [
      "Training Epochs:  31%|███       | 620/2000 [00:39<05:54,  3.89it/s]"
     ]
    },
    {
     "name": "stdout",
     "output_type": "stream",
     "text": [
      "Epoch 620/2000, Loss: 0.0786\n",
      "Test Accuracy at Epoch 620: 97.96%\n",
      "Test F1-score at Epoch 620: 0.9800\n",
      "Classification Report at Epoch 620:\n",
      "                  precision    recall  f1-score   support\n",
      "\n",
      "    infringement       1.00      0.96      0.98        49\n",
      "non_infringement       0.96      1.00      0.98        49\n",
      "\n",
      "        accuracy                           0.98        98\n",
      "       macro avg       0.98      0.98      0.98        98\n",
      "    weighted avg       0.98      0.98      0.98        98\n",
      "\n"
     ]
    },
    {
     "name": "stderr",
     "output_type": "stream",
     "text": [
      "Training Epochs:  32%|███▏      | 633/2000 [00:40<01:39, 13.69it/s]"
     ]
    },
    {
     "name": "stdout",
     "output_type": "stream",
     "text": [
      "Epoch 630/2000, Loss: 0.0786\n",
      "Test Accuracy at Epoch 630: 97.96%\n",
      "Test F1-score at Epoch 630: 0.9800\n",
      "Classification Report at Epoch 630:\n",
      "                  precision    recall  f1-score   support\n",
      "\n",
      "    infringement       1.00      0.96      0.98        49\n",
      "non_infringement       0.96      1.00      0.98        49\n",
      "\n",
      "        accuracy                           0.98        98\n",
      "       macro avg       0.98      0.98      0.98        98\n",
      "    weighted avg       0.98      0.98      0.98        98\n",
      "\n"
     ]
    },
    {
     "name": "stderr",
     "output_type": "stream",
     "text": [
      "Training Epochs:  32%|███▏      | 641/2000 [00:40<01:06, 20.35it/s]"
     ]
    },
    {
     "name": "stdout",
     "output_type": "stream",
     "text": [
      "Epoch 640/2000, Loss: 0.0786\n",
      "Test Accuracy at Epoch 640: 97.96%\n",
      "Test F1-score at Epoch 640: 0.9800\n",
      "Classification Report at Epoch 640:\n",
      "                  precision    recall  f1-score   support\n",
      "\n",
      "    infringement       1.00      0.96      0.98        49\n",
      "non_infringement       0.96      1.00      0.98        49\n",
      "\n",
      "        accuracy                           0.98        98\n",
      "       macro avg       0.98      0.98      0.98        98\n",
      "    weighted avg       0.98      0.98      0.98        98\n",
      "\n"
     ]
    },
    {
     "name": "stderr",
     "output_type": "stream",
     "text": [
      "Training Epochs:  33%|███▎      | 658/2000 [00:42<01:45, 12.75it/s]"
     ]
    },
    {
     "name": "stdout",
     "output_type": "stream",
     "text": [
      "Epoch 650/2000, Loss: 0.0786\n",
      "Test Accuracy at Epoch 650: 97.96%\n",
      "Test F1-score at Epoch 650: 0.9800\n",
      "Classification Report at Epoch 650:\n",
      "                  precision    recall  f1-score   support\n",
      "\n",
      "    infringement       1.00      0.96      0.98        49\n",
      "non_infringement       0.96      1.00      0.98        49\n",
      "\n",
      "        accuracy                           0.98        98\n",
      "       macro avg       0.98      0.98      0.98        98\n",
      "    weighted avg       0.98      0.98      0.98        98\n",
      "\n",
      "Epoch 660/2000, Loss: 0.0786\n",
      "Test Accuracy at Epoch 660: 97.96%\n",
      "Test F1-score at Epoch 660: 0.9800\n",
      "Classification Report at Epoch 660:\n",
      "                  precision    recall  f1-score   support\n",
      "\n",
      "    infringement       1.00      0.96      0.98        49\n",
      "non_infringement       0.96      1.00      0.98        49\n",
      "\n",
      "        accuracy                           0.98        98\n",
      "       macro avg       0.98      0.98      0.98        98\n",
      "    weighted avg       0.98      0.98      0.98        98\n",
      "\n"
     ]
    },
    {
     "name": "stderr",
     "output_type": "stream",
     "text": [
      "Training Epochs:  34%|███▍      | 679/2000 [00:43<00:56, 23.57it/s]"
     ]
    },
    {
     "name": "stdout",
     "output_type": "stream",
     "text": [
      "Epoch 670/2000, Loss: 0.0786\n",
      "Test Accuracy at Epoch 670: 97.96%\n",
      "Test F1-score at Epoch 670: 0.9800\n",
      "Classification Report at Epoch 670:\n",
      "                  precision    recall  f1-score   support\n",
      "\n",
      "    infringement       1.00      0.96      0.98        49\n",
      "non_infringement       0.96      1.00      0.98        49\n",
      "\n",
      "        accuracy                           0.98        98\n",
      "       macro avg       0.98      0.98      0.98        98\n",
      "    weighted avg       0.98      0.98      0.98        98\n",
      "\n",
      "Epoch 680/2000, Loss: 0.0786\n",
      "Test Accuracy at Epoch 680: 97.96%\n",
      "Test F1-score at Epoch 680: 0.9800\n",
      "Classification Report at Epoch 680:\n",
      "                  precision    recall  f1-score   support\n",
      "\n",
      "    infringement       1.00      0.96      0.98        49\n",
      "non_infringement       0.96      1.00      0.98        49\n",
      "\n",
      "        accuracy                           0.98        98\n",
      "       macro avg       0.98      0.98      0.98        98\n",
      "    weighted avg       0.98      0.98      0.98        98\n",
      "\n"
     ]
    },
    {
     "name": "stderr",
     "output_type": "stream",
     "text": [
      "Training Epochs:  34%|███▍      | 687/2000 [00:43<00:41, 31.52it/s]"
     ]
    },
    {
     "name": "stdout",
     "output_type": "stream",
     "text": [
      "Epoch 690/2000, Loss: 0.0786\n",
      "Test Accuracy at Epoch 690: 97.96%\n",
      "Test F1-score at Epoch 690: 0.9800\n",
      "Classification Report at Epoch 690:\n",
      "                  precision    recall  f1-score   support\n",
      "\n",
      "    infringement       1.00      0.96      0.98        49\n",
      "non_infringement       0.96      1.00      0.98        49\n",
      "\n",
      "        accuracy                           0.98        98\n",
      "       macro avg       0.98      0.98      0.98        98\n",
      "    weighted avg       0.98      0.98      0.98        98\n",
      "\n"
     ]
    },
    {
     "name": "stderr",
     "output_type": "stream",
     "text": [
      "Training Epochs:  35%|███▍      | 698/2000 [00:46<02:53,  7.51it/s]"
     ]
    },
    {
     "name": "stdout",
     "output_type": "stream",
     "text": [
      "Epoch 700/2000, Loss: 0.0786\n",
      "Test Accuracy at Epoch 700: 97.96%\n",
      "Test F1-score at Epoch 700: 0.9800\n",
      "Classification Report at Epoch 700:\n",
      "                  precision    recall  f1-score   support\n",
      "\n",
      "    infringement       1.00      0.96      0.98        49\n",
      "non_infringement       0.96      1.00      0.98        49\n",
      "\n",
      "        accuracy                           0.98        98\n",
      "       macro avg       0.98      0.98      0.98        98\n",
      "    weighted avg       0.98      0.98      0.98        98\n",
      "\n"
     ]
    },
    {
     "name": "stderr",
     "output_type": "stream",
     "text": [
      "Training Epochs:  36%|███▌      | 714/2000 [00:48<02:22,  9.03it/s]"
     ]
    },
    {
     "name": "stdout",
     "output_type": "stream",
     "text": [
      "Epoch 710/2000, Loss: 0.0786\n",
      "Test Accuracy at Epoch 710: 97.96%\n",
      "Test F1-score at Epoch 710: 0.9800\n",
      "Classification Report at Epoch 710:\n",
      "                  precision    recall  f1-score   support\n",
      "\n",
      "    infringement       1.00      0.96      0.98        49\n",
      "non_infringement       0.96      1.00      0.98        49\n",
      "\n",
      "        accuracy                           0.98        98\n",
      "       macro avg       0.98      0.98      0.98        98\n",
      "    weighted avg       0.98      0.98      0.98        98\n",
      "\n"
     ]
    },
    {
     "name": "stderr",
     "output_type": "stream",
     "text": [
      "Training Epochs:  36%|███▌      | 720/2000 [00:49<01:58, 10.78it/s]"
     ]
    },
    {
     "name": "stdout",
     "output_type": "stream",
     "text": [
      "Epoch 720/2000, Loss: 0.0786\n",
      "Test Accuracy at Epoch 720: 97.96%\n",
      "Test F1-score at Epoch 720: 0.9800\n",
      "Classification Report at Epoch 720:\n",
      "                  precision    recall  f1-score   support\n",
      "\n",
      "    infringement       1.00      0.96      0.98        49\n",
      "non_infringement       0.96      1.00      0.98        49\n",
      "\n",
      "        accuracy                           0.98        98\n",
      "       macro avg       0.98      0.98      0.98        98\n",
      "    weighted avg       0.98      0.98      0.98        98\n",
      "\n"
     ]
    },
    {
     "name": "stderr",
     "output_type": "stream",
     "text": [
      "Training Epochs:  36%|███▋      | 730/2000 [00:52<05:23,  3.92it/s]"
     ]
    },
    {
     "name": "stdout",
     "output_type": "stream",
     "text": [
      "Epoch 730/2000, Loss: 0.0786\n",
      "Test Accuracy at Epoch 730: 97.96%\n",
      "Test F1-score at Epoch 730: 0.9800\n",
      "Classification Report at Epoch 730:\n",
      "                  precision    recall  f1-score   support\n",
      "\n",
      "    infringement       1.00      0.96      0.98        49\n",
      "non_infringement       0.96      1.00      0.98        49\n",
      "\n",
      "        accuracy                           0.98        98\n",
      "       macro avg       0.98      0.98      0.98        98\n",
      "    weighted avg       0.98      0.98      0.98        98\n",
      "\n"
     ]
    },
    {
     "name": "stderr",
     "output_type": "stream",
     "text": [
      "Training Epochs:  37%|███▋      | 740/2000 [00:56<08:00,  2.62it/s]"
     ]
    },
    {
     "name": "stdout",
     "output_type": "stream",
     "text": [
      "Epoch 740/2000, Loss: 0.0786\n",
      "Test Accuracy at Epoch 740: 97.96%\n",
      "Test F1-score at Epoch 740: 0.9800\n",
      "Classification Report at Epoch 740:\n",
      "                  precision    recall  f1-score   support\n",
      "\n",
      "    infringement       1.00      0.96      0.98        49\n",
      "non_infringement       0.96      1.00      0.98        49\n",
      "\n",
      "        accuracy                           0.98        98\n",
      "       macro avg       0.98      0.98      0.98        98\n",
      "    weighted avg       0.98      0.98      0.98        98\n",
      "\n"
     ]
    },
    {
     "name": "stderr",
     "output_type": "stream",
     "text": [
      "Training Epochs:  38%|███▊      | 750/2000 [01:00<08:19,  2.50it/s]"
     ]
    },
    {
     "name": "stdout",
     "output_type": "stream",
     "text": [
      "Epoch 750/2000, Loss: 0.0786\n",
      "Test Accuracy at Epoch 750: 97.96%\n",
      "Test F1-score at Epoch 750: 0.9800\n",
      "Classification Report at Epoch 750:\n",
      "                  precision    recall  f1-score   support\n",
      "\n",
      "    infringement       1.00      0.96      0.98        49\n",
      "non_infringement       0.96      1.00      0.98        49\n",
      "\n",
      "        accuracy                           0.98        98\n",
      "       macro avg       0.98      0.98      0.98        98\n",
      "    weighted avg       0.98      0.98      0.98        98\n",
      "\n"
     ]
    },
    {
     "name": "stderr",
     "output_type": "stream",
     "text": [
      "Training Epochs:  38%|███▊      | 760/2000 [01:02<03:09,  6.55it/s]"
     ]
    },
    {
     "name": "stdout",
     "output_type": "stream",
     "text": [
      "Epoch 760/2000, Loss: 0.0786\n",
      "Test Accuracy at Epoch 760: 97.96%\n",
      "Test F1-score at Epoch 760: 0.9800\n",
      "Classification Report at Epoch 760:\n",
      "                  precision    recall  f1-score   support\n",
      "\n",
      "    infringement       1.00      0.96      0.98        49\n",
      "non_infringement       0.96      1.00      0.98        49\n",
      "\n",
      "        accuracy                           0.98        98\n",
      "       macro avg       0.98      0.98      0.98        98\n",
      "    weighted avg       0.98      0.98      0.98        98\n",
      "\n"
     ]
    },
    {
     "name": "stderr",
     "output_type": "stream",
     "text": [
      "Training Epochs:  38%|███▊      | 770/2000 [01:06<07:53,  2.60it/s]"
     ]
    },
    {
     "name": "stdout",
     "output_type": "stream",
     "text": [
      "Epoch 770/2000, Loss: 0.0786\n",
      "Test Accuracy at Epoch 770: 97.96%\n",
      "Test F1-score at Epoch 770: 0.9800\n",
      "Classification Report at Epoch 770:\n",
      "                  precision    recall  f1-score   support\n",
      "\n",
      "    infringement       1.00      0.96      0.98        49\n",
      "non_infringement       0.96      1.00      0.98        49\n",
      "\n",
      "        accuracy                           0.98        98\n",
      "       macro avg       0.98      0.98      0.98        98\n",
      "    weighted avg       0.98      0.98      0.98        98\n",
      "\n"
     ]
    },
    {
     "name": "stderr",
     "output_type": "stream",
     "text": [
      "Training Epochs:  40%|███▉      | 790/2000 [01:08<00:52, 23.19it/s]"
     ]
    },
    {
     "name": "stdout",
     "output_type": "stream",
     "text": [
      "Epoch 780/2000, Loss: 0.0786\n",
      "Test Accuracy at Epoch 780: 97.96%\n",
      "Test F1-score at Epoch 780: 0.9800\n",
      "Classification Report at Epoch 780:\n",
      "                  precision    recall  f1-score   support\n",
      "\n",
      "    infringement       1.00      0.96      0.98        49\n",
      "non_infringement       0.96      1.00      0.98        49\n",
      "\n",
      "        accuracy                           0.98        98\n",
      "       macro avg       0.98      0.98      0.98        98\n",
      "    weighted avg       0.98      0.98      0.98        98\n",
      "\n",
      "Epoch 790/2000, Loss: 0.0786\n",
      "Test Accuracy at Epoch 790: 97.96%\n",
      "Test F1-score at Epoch 790: 0.9800\n",
      "Classification Report at Epoch 790:\n",
      "                  precision    recall  f1-score   support\n",
      "\n",
      "    infringement       1.00      0.96      0.98        49\n",
      "non_infringement       0.96      1.00      0.98        49\n",
      "\n",
      "        accuracy                           0.98        98\n",
      "       macro avg       0.98      0.98      0.98        98\n",
      "    weighted avg       0.98      0.98      0.98        98\n",
      "\n"
     ]
    },
    {
     "name": "stderr",
     "output_type": "stream",
     "text": [
      "Training Epochs:  40%|███▉      | 799/2000 [01:08<00:34, 35.04it/s]"
     ]
    },
    {
     "name": "stdout",
     "output_type": "stream",
     "text": [
      "Epoch 800/2000, Loss: 0.0786\n",
      "Test Accuracy at Epoch 800: 97.96%\n",
      "Test F1-score at Epoch 800: 0.9800\n",
      "Classification Report at Epoch 800:\n",
      "                  precision    recall  f1-score   support\n",
      "\n",
      "    infringement       1.00      0.96      0.98        49\n",
      "non_infringement       0.96      1.00      0.98        49\n",
      "\n",
      "        accuracy                           0.98        98\n",
      "       macro avg       0.98      0.98      0.98        98\n",
      "    weighted avg       0.98      0.98      0.98        98\n",
      "\n"
     ]
    },
    {
     "name": "stderr",
     "output_type": "stream",
     "text": [
      "Training Epochs:  40%|████      | 809/2000 [01:11<02:54,  6.81it/s]"
     ]
    },
    {
     "name": "stdout",
     "output_type": "stream",
     "text": [
      "Epoch 810/2000, Loss: 0.0786\n",
      "Test Accuracy at Epoch 810: 97.96%\n",
      "Test F1-score at Epoch 810: 0.9800\n",
      "Classification Report at Epoch 810:\n",
      "                  precision    recall  f1-score   support\n",
      "\n",
      "    infringement       1.00      0.96      0.98        49\n",
      "non_infringement       0.96      1.00      0.98        49\n",
      "\n",
      "        accuracy                           0.98        98\n",
      "       macro avg       0.98      0.98      0.98        98\n",
      "    weighted avg       0.98      0.98      0.98        98\n",
      "\n"
     ]
    },
    {
     "name": "stderr",
     "output_type": "stream",
     "text": [
      "Training Epochs:  41%|████      | 820/2000 [01:15<06:05,  3.23it/s]"
     ]
    },
    {
     "name": "stdout",
     "output_type": "stream",
     "text": [
      "Epoch 820/2000, Loss: 0.0786\n",
      "Test Accuracy at Epoch 820: 97.96%\n",
      "Test F1-score at Epoch 820: 0.9800\n",
      "Classification Report at Epoch 820:\n",
      "                  precision    recall  f1-score   support\n",
      "\n",
      "    infringement       1.00      0.96      0.98        49\n",
      "non_infringement       0.96      1.00      0.98        49\n",
      "\n",
      "        accuracy                           0.98        98\n",
      "       macro avg       0.98      0.98      0.98        98\n",
      "    weighted avg       0.98      0.98      0.98        98\n",
      "\n"
     ]
    },
    {
     "name": "stderr",
     "output_type": "stream",
     "text": [
      "Training Epochs:  42%|████▏     | 830/2000 [01:18<06:30,  3.00it/s]"
     ]
    },
    {
     "name": "stdout",
     "output_type": "stream",
     "text": [
      "Epoch 830/2000, Loss: 0.0786\n",
      "Test Accuracy at Epoch 830: 97.96%\n",
      "Test F1-score at Epoch 830: 0.9800\n",
      "Classification Report at Epoch 830:\n",
      "                  precision    recall  f1-score   support\n",
      "\n",
      "    infringement       1.00      0.96      0.98        49\n",
      "non_infringement       0.96      1.00      0.98        49\n",
      "\n",
      "        accuracy                           0.98        98\n",
      "       macro avg       0.98      0.98      0.98        98\n",
      "    weighted avg       0.98      0.98      0.98        98\n",
      "\n"
     ]
    },
    {
     "name": "stderr",
     "output_type": "stream",
     "text": [
      "Training Epochs:  42%|████▏     | 847/2000 [01:20<01:13, 15.65it/s]"
     ]
    },
    {
     "name": "stdout",
     "output_type": "stream",
     "text": [
      "Epoch 840/2000, Loss: 0.0786\n",
      "Test Accuracy at Epoch 840: 97.96%\n",
      "Test F1-score at Epoch 840: 0.9800\n",
      "Classification Report at Epoch 840:\n",
      "                  precision    recall  f1-score   support\n",
      "\n",
      "    infringement       1.00      0.96      0.98        49\n",
      "non_infringement       0.96      1.00      0.98        49\n",
      "\n",
      "        accuracy                           0.98        98\n",
      "       macro avg       0.98      0.98      0.98        98\n",
      "    weighted avg       0.98      0.98      0.98        98\n",
      "\n",
      "Epoch 850/2000, Loss: 0.0786\n",
      "Test Accuracy at Epoch 850: 97.96%\n",
      "Test F1-score at Epoch 850: 0.9800\n",
      "Classification Report at Epoch 850:\n",
      "                  precision    recall  f1-score   support\n",
      "\n",
      "    infringement       1.00      0.96      0.98        49\n",
      "non_infringement       0.96      1.00      0.98        49\n",
      "\n",
      "        accuracy                           0.98        98\n",
      "       macro avg       0.98      0.98      0.98        98\n",
      "    weighted avg       0.98      0.98      0.98        98\n",
      "\n"
     ]
    },
    {
     "name": "stderr",
     "output_type": "stream",
     "text": [
      "Training Epochs:  43%|████▎     | 860/2000 [01:21<00:36, 30.84it/s]"
     ]
    },
    {
     "name": "stdout",
     "output_type": "stream",
     "text": [
      "Epoch 860/2000, Loss: 0.0786\n",
      "Test Accuracy at Epoch 860: 97.96%\n",
      "Test F1-score at Epoch 860: 0.9800\n",
      "Classification Report at Epoch 860:\n",
      "                  precision    recall  f1-score   support\n",
      "\n",
      "    infringement       1.00      0.96      0.98        49\n",
      "non_infringement       0.96      1.00      0.98        49\n",
      "\n",
      "        accuracy                           0.98        98\n",
      "       macro avg       0.98      0.98      0.98        98\n",
      "    weighted avg       0.98      0.98      0.98        98\n",
      "\n"
     ]
    },
    {
     "name": "stderr",
     "output_type": "stream",
     "text": [
      "Training Epochs:  43%|████▎     | 869/2000 [01:22<01:55,  9.78it/s]"
     ]
    },
    {
     "name": "stdout",
     "output_type": "stream",
     "text": [
      "Epoch 870/2000, Loss: 0.0786\n",
      "Test Accuracy at Epoch 870: 97.96%\n",
      "Test F1-score at Epoch 870: 0.9800\n",
      "Classification Report at Epoch 870:\n",
      "                  precision    recall  f1-score   support\n",
      "\n",
      "    infringement       1.00      0.96      0.98        49\n",
      "non_infringement       0.96      1.00      0.98        49\n",
      "\n",
      "        accuracy                           0.98        98\n",
      "       macro avg       0.98      0.98      0.98        98\n",
      "    weighted avg       0.98      0.98      0.98        98\n",
      "\n"
     ]
    },
    {
     "name": "stderr",
     "output_type": "stream",
     "text": [
      "Training Epochs:  44%|████▍     | 882/2000 [01:23<01:23, 13.35it/s]"
     ]
    },
    {
     "name": "stdout",
     "output_type": "stream",
     "text": [
      "Epoch 880/2000, Loss: 0.0786\n",
      "Test Accuracy at Epoch 880: 97.96%\n",
      "Test F1-score at Epoch 880: 0.9800\n",
      "Classification Report at Epoch 880:\n",
      "                  precision    recall  f1-score   support\n",
      "\n",
      "    infringement       1.00      0.96      0.98        49\n",
      "non_infringement       0.96      1.00      0.98        49\n",
      "\n",
      "        accuracy                           0.98        98\n",
      "       macro avg       0.98      0.98      0.98        98\n",
      "    weighted avg       0.98      0.98      0.98        98\n",
      "\n"
     ]
    },
    {
     "name": "stderr",
     "output_type": "stream",
     "text": [
      "Training Epochs:  44%|████▍     | 890/2000 [01:24<01:29, 12.45it/s]"
     ]
    },
    {
     "name": "stdout",
     "output_type": "stream",
     "text": [
      "Epoch 890/2000, Loss: 0.0786\n",
      "Test Accuracy at Epoch 890: 97.96%\n",
      "Test F1-score at Epoch 890: 0.9800\n",
      "Classification Report at Epoch 890:\n",
      "                  precision    recall  f1-score   support\n",
      "\n",
      "    infringement       1.00      0.96      0.98        49\n",
      "non_infringement       0.96      1.00      0.98        49\n",
      "\n",
      "        accuracy                           0.98        98\n",
      "       macro avg       0.98      0.98      0.98        98\n",
      "    weighted avg       0.98      0.98      0.98        98\n",
      "\n"
     ]
    },
    {
     "name": "stderr",
     "output_type": "stream",
     "text": [
      "Training Epochs:  45%|████▍     | 898/2000 [01:25<02:43,  6.75it/s]"
     ]
    },
    {
     "name": "stdout",
     "output_type": "stream",
     "text": [
      "Epoch 900/2000, Loss: 0.0786\n",
      "Test Accuracy at Epoch 900: 97.96%\n",
      "Test F1-score at Epoch 900: 0.9800\n",
      "Classification Report at Epoch 900:\n",
      "                  precision    recall  f1-score   support\n",
      "\n",
      "    infringement       1.00      0.96      0.98        49\n",
      "non_infringement       0.96      1.00      0.98        49\n",
      "\n",
      "        accuracy                           0.98        98\n",
      "       macro avg       0.98      0.98      0.98        98\n",
      "    weighted avg       0.98      0.98      0.98        98\n",
      "\n"
     ]
    },
    {
     "name": "stderr",
     "output_type": "stream",
     "text": [
      "Training Epochs:  45%|████▌     | 909/2000 [01:27<02:08,  8.49it/s]"
     ]
    },
    {
     "name": "stdout",
     "output_type": "stream",
     "text": [
      "Epoch 910/2000, Loss: 0.0786\n",
      "Test Accuracy at Epoch 910: 97.96%\n",
      "Test F1-score at Epoch 910: 0.9800\n",
      "Classification Report at Epoch 910:\n",
      "                  precision    recall  f1-score   support\n",
      "\n",
      "    infringement       1.00      0.96      0.98        49\n",
      "non_infringement       0.96      1.00      0.98        49\n",
      "\n",
      "        accuracy                           0.98        98\n",
      "       macro avg       0.98      0.98      0.98        98\n",
      "    weighted avg       0.98      0.98      0.98        98\n",
      "\n"
     ]
    },
    {
     "name": "stderr",
     "output_type": "stream",
     "text": [
      "Training Epochs:  46%|████▌     | 919/2000 [01:28<02:19,  7.76it/s]"
     ]
    },
    {
     "name": "stdout",
     "output_type": "stream",
     "text": [
      "Epoch 920/2000, Loss: 0.0786\n",
      "Test Accuracy at Epoch 920: 97.96%\n",
      "Test F1-score at Epoch 920: 0.9800\n",
      "Classification Report at Epoch 920:\n",
      "                  precision    recall  f1-score   support\n",
      "\n",
      "    infringement       1.00      0.96      0.98        49\n",
      "non_infringement       0.96      1.00      0.98        49\n",
      "\n",
      "        accuracy                           0.98        98\n",
      "       macro avg       0.98      0.98      0.98        98\n",
      "    weighted avg       0.98      0.98      0.98        98\n",
      "\n"
     ]
    },
    {
     "name": "stderr",
     "output_type": "stream",
     "text": [
      "Training Epochs:  47%|████▋     | 940/2000 [01:32<01:11, 14.89it/s]"
     ]
    },
    {
     "name": "stdout",
     "output_type": "stream",
     "text": [
      "Epoch 930/2000, Loss: 0.0786\n",
      "Test Accuracy at Epoch 930: 97.96%\n",
      "Test F1-score at Epoch 930: 0.9800\n",
      "Classification Report at Epoch 930:\n",
      "                  precision    recall  f1-score   support\n",
      "\n",
      "    infringement       1.00      0.96      0.98        49\n",
      "non_infringement       0.96      1.00      0.98        49\n",
      "\n",
      "        accuracy                           0.98        98\n",
      "       macro avg       0.98      0.98      0.98        98\n",
      "    weighted avg       0.98      0.98      0.98        98\n",
      "\n",
      "Epoch 940/2000, Loss: 0.0786\n",
      "Test Accuracy at Epoch 940: 97.96%\n",
      "Test F1-score at Epoch 940: 0.9800\n",
      "Classification Report at Epoch 940:\n",
      "                  precision    recall  f1-score   support\n",
      "\n",
      "    infringement       1.00      0.96      0.98        49\n",
      "non_infringement       0.96      1.00      0.98        49\n",
      "\n",
      "        accuracy                           0.98        98\n",
      "       macro avg       0.98      0.98      0.98        98\n",
      "    weighted avg       0.98      0.98      0.98        98\n",
      "\n"
     ]
    },
    {
     "name": "stderr",
     "output_type": "stream",
     "text": [
      "Training Epochs:  48%|████▊     | 960/2000 [01:33<00:46, 22.25it/s]"
     ]
    },
    {
     "name": "stdout",
     "output_type": "stream",
     "text": [
      "Epoch 950/2000, Loss: 0.0786\n",
      "Test Accuracy at Epoch 950: 97.96%\n",
      "Test F1-score at Epoch 950: 0.9800\n",
      "Classification Report at Epoch 950:\n",
      "                  precision    recall  f1-score   support\n",
      "\n",
      "    infringement       1.00      0.96      0.98        49\n",
      "non_infringement       0.96      1.00      0.98        49\n",
      "\n",
      "        accuracy                           0.98        98\n",
      "       macro avg       0.98      0.98      0.98        98\n",
      "    weighted avg       0.98      0.98      0.98        98\n",
      "\n",
      "Epoch 960/2000, Loss: 0.0786\n",
      "Test Accuracy at Epoch 960: 97.96%\n",
      "Test F1-score at Epoch 960: 0.9800\n",
      "Classification Report at Epoch 960:\n",
      "                  precision    recall  f1-score   support\n",
      "\n",
      "    infringement       1.00      0.96      0.98        49\n",
      "non_infringement       0.96      1.00      0.98        49\n",
      "\n",
      "        accuracy                           0.98        98\n",
      "       macro avg       0.98      0.98      0.98        98\n",
      "    weighted avg       0.98      0.98      0.98        98\n",
      "\n",
      "Epoch 970/2000, Loss: 0.0786\n",
      "Test Accuracy at Epoch 970: 97.96%\n",
      "Test F1-score at Epoch 970: 0.9800\n",
      "Classification Report at Epoch 970:\n",
      "                  precision    recall  f1-score   support\n",
      "\n",
      "    infringement       1.00      0.96      0.98        49\n",
      "non_infringement       0.96      1.00      0.98        49\n",
      "\n",
      "        accuracy                           0.98        98\n",
      "       macro avg       0.98      0.98      0.98        98\n",
      "    weighted avg       0.98      0.98      0.98        98\n",
      "\n"
     ]
    },
    {
     "name": "stderr",
     "output_type": "stream",
     "text": [
      "Training Epochs:  49%|████▉     | 980/2000 [01:36<02:32,  6.70it/s]"
     ]
    },
    {
     "name": "stdout",
     "output_type": "stream",
     "text": [
      "Epoch 980/2000, Loss: 0.0786\n",
      "Test Accuracy at Epoch 980: 97.96%\n",
      "Test F1-score at Epoch 980: 0.9800\n",
      "Classification Report at Epoch 980:\n",
      "                  precision    recall  f1-score   support\n",
      "\n",
      "    infringement       1.00      0.96      0.98        49\n",
      "non_infringement       0.96      1.00      0.98        49\n",
      "\n",
      "        accuracy                           0.98        98\n",
      "       macro avg       0.98      0.98      0.98        98\n",
      "    weighted avg       0.98      0.98      0.98        98\n",
      "\n"
     ]
    },
    {
     "name": "stderr",
     "output_type": "stream",
     "text": [
      "Training Epochs:  50%|████▉     | 990/2000 [01:40<04:53,  3.45it/s]"
     ]
    },
    {
     "name": "stdout",
     "output_type": "stream",
     "text": [
      "Epoch 990/2000, Loss: 0.0786\n",
      "Test Accuracy at Epoch 990: 97.96%\n",
      "Test F1-score at Epoch 990: 0.9800\n",
      "Classification Report at Epoch 990:\n",
      "                  precision    recall  f1-score   support\n",
      "\n",
      "    infringement       1.00      0.96      0.98        49\n",
      "non_infringement       0.96      1.00      0.98        49\n",
      "\n",
      "        accuracy                           0.98        98\n",
      "       macro avg       0.98      0.98      0.98        98\n",
      "    weighted avg       0.98      0.98      0.98        98\n",
      "\n"
     ]
    },
    {
     "name": "stderr",
     "output_type": "stream",
     "text": [
      "Training Epochs:  51%|█████     | 1011/2000 [01:43<00:55, 17.75it/s]"
     ]
    },
    {
     "name": "stdout",
     "output_type": "stream",
     "text": [
      "Epoch 1000/2000, Loss: 0.0786\n",
      "Test Accuracy at Epoch 1000: 97.96%\n",
      "Test F1-score at Epoch 1000: 0.9800\n",
      "Classification Report at Epoch 1000:\n",
      "                  precision    recall  f1-score   support\n",
      "\n",
      "    infringement       1.00      0.96      0.98        49\n",
      "non_infringement       0.96      1.00      0.98        49\n",
      "\n",
      "        accuracy                           0.98        98\n",
      "       macro avg       0.98      0.98      0.98        98\n",
      "    weighted avg       0.98      0.98      0.98        98\n",
      "\n",
      "Epoch 1010/2000, Loss: 0.0786\n",
      "Test Accuracy at Epoch 1010: 97.96%\n",
      "Test F1-score at Epoch 1010: 0.9800\n",
      "Classification Report at Epoch 1010:\n",
      "                  precision    recall  f1-score   support\n",
      "\n",
      "    infringement       1.00      0.96      0.98        49\n",
      "non_infringement       0.96      1.00      0.98        49\n",
      "\n",
      "        accuracy                           0.98        98\n",
      "       macro avg       0.98      0.98      0.98        98\n",
      "    weighted avg       0.98      0.98      0.98        98\n",
      "\n"
     ]
    },
    {
     "name": "stderr",
     "output_type": "stream",
     "text": [
      "Training Epochs:  52%|█████▏    | 1030/2000 [01:45<01:06, 14.61it/s]"
     ]
    },
    {
     "name": "stdout",
     "output_type": "stream",
     "text": [
      "Epoch 1020/2000, Loss: 0.0786\n",
      "Test Accuracy at Epoch 1020: 97.96%\n",
      "Test F1-score at Epoch 1020: 0.9800\n",
      "Classification Report at Epoch 1020:\n",
      "                  precision    recall  f1-score   support\n",
      "\n",
      "    infringement       1.00      0.96      0.98        49\n",
      "non_infringement       0.96      1.00      0.98        49\n",
      "\n",
      "        accuracy                           0.98        98\n",
      "       macro avg       0.98      0.98      0.98        98\n",
      "    weighted avg       0.98      0.98      0.98        98\n",
      "\n",
      "Epoch 1030/2000, Loss: 0.0786\n",
      "Test Accuracy at Epoch 1030: 97.96%\n",
      "Test F1-score at Epoch 1030: 0.9800\n",
      "Classification Report at Epoch 1030:\n",
      "                  precision    recall  f1-score   support\n",
      "\n",
      "    infringement       1.00      0.96      0.98        49\n",
      "non_infringement       0.96      1.00      0.98        49\n",
      "\n",
      "        accuracy                           0.98        98\n",
      "       macro avg       0.98      0.98      0.98        98\n",
      "    weighted avg       0.98      0.98      0.98        98\n",
      "\n",
      "Epoch 1040/2000, Loss: 0.0786\n",
      "Test Accuracy at Epoch 1040: 97.96%\n",
      "Test F1-score at Epoch 1040: 0.9800\n",
      "Classification Report at Epoch 1040:\n",
      "                  precision    recall  f1-score   support\n",
      "\n",
      "    infringement       1.00      0.96      0.98        49\n",
      "non_infringement       0.96      1.00      0.98        49\n",
      "\n",
      "        accuracy                           0.98        98\n",
      "       macro avg       0.98      0.98      0.98        98\n",
      "    weighted avg       0.98      0.98      0.98        98\n",
      "\n"
     ]
    },
    {
     "name": "stderr",
     "output_type": "stream",
     "text": [
      "Training Epochs:  53%|█████▎    | 1063/2000 [01:46<00:21, 42.69it/s]"
     ]
    },
    {
     "name": "stdout",
     "output_type": "stream",
     "text": [
      "Epoch 1050/2000, Loss: 0.0786\n",
      "Test Accuracy at Epoch 1050: 97.96%\n",
      "Test F1-score at Epoch 1050: 0.9800\n",
      "Classification Report at Epoch 1050:\n",
      "                  precision    recall  f1-score   support\n",
      "\n",
      "    infringement       1.00      0.96      0.98        49\n",
      "non_infringement       0.96      1.00      0.98        49\n",
      "\n",
      "        accuracy                           0.98        98\n",
      "       macro avg       0.98      0.98      0.98        98\n",
      "    weighted avg       0.98      0.98      0.98        98\n",
      "\n",
      "Epoch 1060/2000, Loss: 0.0786\n",
      "Test Accuracy at Epoch 1060: 97.96%\n",
      "Test F1-score at Epoch 1060: 0.9800\n",
      "Classification Report at Epoch 1060:\n",
      "                  precision    recall  f1-score   support\n",
      "\n",
      "    infringement       1.00      0.96      0.98        49\n",
      "non_infringement       0.96      1.00      0.98        49\n",
      "\n",
      "        accuracy                           0.98        98\n",
      "       macro avg       0.98      0.98      0.98        98\n",
      "    weighted avg       0.98      0.98      0.98        98\n",
      "\n"
     ]
    },
    {
     "name": "stderr",
     "output_type": "stream",
     "text": [
      "Training Epochs:  54%|█████▍    | 1079/2000 [01:47<00:40, 22.64it/s]"
     ]
    },
    {
     "name": "stdout",
     "output_type": "stream",
     "text": [
      "Epoch 1070/2000, Loss: 0.0786\n",
      "Test Accuracy at Epoch 1070: 97.96%\n",
      "Test F1-score at Epoch 1070: 0.9800\n",
      "Classification Report at Epoch 1070:\n",
      "                  precision    recall  f1-score   support\n",
      "\n",
      "    infringement       1.00      0.96      0.98        49\n",
      "non_infringement       0.96      1.00      0.98        49\n",
      "\n",
      "        accuracy                           0.98        98\n",
      "       macro avg       0.98      0.98      0.98        98\n",
      "    weighted avg       0.98      0.98      0.98        98\n",
      "\n",
      "Epoch 1080/2000, Loss: 0.0786\n",
      "Test Accuracy at Epoch 1080: 97.96%\n",
      "Test F1-score at Epoch 1080: 0.9800\n",
      "Classification Report at Epoch 1080:\n",
      "                  precision    recall  f1-score   support\n",
      "\n",
      "    infringement       1.00      0.96      0.98        49\n",
      "non_infringement       0.96      1.00      0.98        49\n",
      "\n",
      "        accuracy                           0.98        98\n",
      "       macro avg       0.98      0.98      0.98        98\n",
      "    weighted avg       0.98      0.98      0.98        98\n",
      "\n"
     ]
    },
    {
     "name": "stderr",
     "output_type": "stream",
     "text": [
      "Training Epochs:  54%|█████▍    | 1086/2000 [01:47<00:41, 22.28it/s]"
     ]
    },
    {
     "name": "stdout",
     "output_type": "stream",
     "text": [
      "Epoch 1090/2000, Loss: 0.0786\n",
      "Test Accuracy at Epoch 1090: 97.96%\n",
      "Test F1-score at Epoch 1090: 0.9800\n",
      "Classification Report at Epoch 1090:\n",
      "                  precision    recall  f1-score   support\n",
      "\n",
      "    infringement       1.00      0.96      0.98        49\n",
      "non_infringement       0.96      1.00      0.98        49\n",
      "\n",
      "        accuracy                           0.98        98\n",
      "       macro avg       0.98      0.98      0.98        98\n",
      "    weighted avg       0.98      0.98      0.98        98\n",
      "\n"
     ]
    },
    {
     "name": "stderr",
     "output_type": "stream",
     "text": [
      "Training Epochs:  55%|█████▌    | 1100/2000 [01:53<03:46,  3.98it/s]"
     ]
    },
    {
     "name": "stdout",
     "output_type": "stream",
     "text": [
      "Epoch 1100/2000, Loss: 0.0786\n",
      "Test Accuracy at Epoch 1100: 97.96%\n",
      "Test F1-score at Epoch 1100: 0.9800\n",
      "Classification Report at Epoch 1100:\n",
      "                  precision    recall  f1-score   support\n",
      "\n",
      "    infringement       1.00      0.96      0.98        49\n",
      "non_infringement       0.96      1.00      0.98        49\n",
      "\n",
      "        accuracy                           0.98        98\n",
      "       macro avg       0.98      0.98      0.98        98\n",
      "    weighted avg       0.98      0.98      0.98        98\n",
      "\n"
     ]
    },
    {
     "name": "stderr",
     "output_type": "stream",
     "text": [
      "Training Epochs:  56%|█████▌    | 1110/2000 [01:57<05:24,  2.74it/s]"
     ]
    },
    {
     "name": "stdout",
     "output_type": "stream",
     "text": [
      "Epoch 1110/2000, Loss: 0.0786\n",
      "Test Accuracy at Epoch 1110: 97.96%\n",
      "Test F1-score at Epoch 1110: 0.9800\n",
      "Classification Report at Epoch 1110:\n",
      "                  precision    recall  f1-score   support\n",
      "\n",
      "    infringement       1.00      0.96      0.98        49\n",
      "non_infringement       0.96      1.00      0.98        49\n",
      "\n",
      "        accuracy                           0.98        98\n",
      "       macro avg       0.98      0.98      0.98        98\n",
      "    weighted avg       0.98      0.98      0.98        98\n",
      "\n"
     ]
    },
    {
     "name": "stderr",
     "output_type": "stream",
     "text": [
      "Training Epochs:  56%|█████▌    | 1120/2000 [02:01<05:46,  2.54it/s]"
     ]
    },
    {
     "name": "stdout",
     "output_type": "stream",
     "text": [
      "Epoch 1120/2000, Loss: 0.0786\n",
      "Test Accuracy at Epoch 1120: 97.96%\n",
      "Test F1-score at Epoch 1120: 0.9800\n",
      "Classification Report at Epoch 1120:\n",
      "                  precision    recall  f1-score   support\n",
      "\n",
      "    infringement       1.00      0.96      0.98        49\n",
      "non_infringement       0.96      1.00      0.98        49\n",
      "\n",
      "        accuracy                           0.98        98\n",
      "       macro avg       0.98      0.98      0.98        98\n",
      "    weighted avg       0.98      0.98      0.98        98\n",
      "\n"
     ]
    },
    {
     "name": "stderr",
     "output_type": "stream",
     "text": [
      "Training Epochs:  56%|█████▋    | 1130/2000 [02:04<05:43,  2.53it/s]"
     ]
    },
    {
     "name": "stdout",
     "output_type": "stream",
     "text": [
      "Epoch 1130/2000, Loss: 0.0786\n",
      "Test Accuracy at Epoch 1130: 97.96%\n",
      "Test F1-score at Epoch 1130: 0.9800\n",
      "Classification Report at Epoch 1130:\n",
      "                  precision    recall  f1-score   support\n",
      "\n",
      "    infringement       1.00      0.96      0.98        49\n",
      "non_infringement       0.96      1.00      0.98        49\n",
      "\n",
      "        accuracy                           0.98        98\n",
      "       macro avg       0.98      0.98      0.98        98\n",
      "    weighted avg       0.98      0.98      0.98        98\n",
      "\n"
     ]
    },
    {
     "name": "stderr",
     "output_type": "stream",
     "text": [
      "Training Epochs:  57%|█████▋    | 1140/2000 [02:08<05:43,  2.50it/s]"
     ]
    },
    {
     "name": "stdout",
     "output_type": "stream",
     "text": [
      "Epoch 1140/2000, Loss: 0.0786\n",
      "Test Accuracy at Epoch 1140: 97.96%\n",
      "Test F1-score at Epoch 1140: 0.9800\n",
      "Classification Report at Epoch 1140:\n",
      "                  precision    recall  f1-score   support\n",
      "\n",
      "    infringement       1.00      0.96      0.98        49\n",
      "non_infringement       0.96      1.00      0.98        49\n",
      "\n",
      "        accuracy                           0.98        98\n",
      "       macro avg       0.98      0.98      0.98        98\n",
      "    weighted avg       0.98      0.98      0.98        98\n",
      "\n"
     ]
    },
    {
     "name": "stderr",
     "output_type": "stream",
     "text": [
      "Training Epochs:  57%|█████▊    | 1150/2000 [02:12<05:40,  2.50it/s]"
     ]
    },
    {
     "name": "stdout",
     "output_type": "stream",
     "text": [
      "Epoch 1150/2000, Loss: 0.0786\n",
      "Test Accuracy at Epoch 1150: 97.96%\n",
      "Test F1-score at Epoch 1150: 0.9800\n",
      "Classification Report at Epoch 1150:\n",
      "                  precision    recall  f1-score   support\n",
      "\n",
      "    infringement       1.00      0.96      0.98        49\n",
      "non_infringement       0.96      1.00      0.98        49\n",
      "\n",
      "        accuracy                           0.98        98\n",
      "       macro avg       0.98      0.98      0.98        98\n",
      "    weighted avg       0.98      0.98      0.98        98\n",
      "\n"
     ]
    },
    {
     "name": "stderr",
     "output_type": "stream",
     "text": [
      "Training Epochs:  58%|█████▊    | 1160/2000 [02:16<05:31,  2.53it/s]"
     ]
    },
    {
     "name": "stdout",
     "output_type": "stream",
     "text": [
      "Epoch 1160/2000, Loss: 0.0786\n",
      "Test Accuracy at Epoch 1160: 97.96%\n",
      "Test F1-score at Epoch 1160: 0.9800\n",
      "Classification Report at Epoch 1160:\n",
      "                  precision    recall  f1-score   support\n",
      "\n",
      "    infringement       1.00      0.96      0.98        49\n",
      "non_infringement       0.96      1.00      0.98        49\n",
      "\n",
      "        accuracy                           0.98        98\n",
      "       macro avg       0.98      0.98      0.98        98\n",
      "    weighted avg       0.98      0.98      0.98        98\n",
      "\n"
     ]
    },
    {
     "name": "stderr",
     "output_type": "stream",
     "text": [
      "Training Epochs:  58%|█████▊    | 1170/2000 [02:20<05:28,  2.53it/s]"
     ]
    },
    {
     "name": "stdout",
     "output_type": "stream",
     "text": [
      "Epoch 1170/2000, Loss: 0.0786\n",
      "Test Accuracy at Epoch 1170: 97.96%\n",
      "Test F1-score at Epoch 1170: 0.9800\n",
      "Classification Report at Epoch 1170:\n",
      "                  precision    recall  f1-score   support\n",
      "\n",
      "    infringement       1.00      0.96      0.98        49\n",
      "non_infringement       0.96      1.00      0.98        49\n",
      "\n",
      "        accuracy                           0.98        98\n",
      "       macro avg       0.98      0.98      0.98        98\n",
      "    weighted avg       0.98      0.98      0.98        98\n",
      "\n"
     ]
    },
    {
     "name": "stderr",
     "output_type": "stream",
     "text": [
      "Training Epochs:  59%|█████▉    | 1180/2000 [02:24<05:23,  2.54it/s]"
     ]
    },
    {
     "name": "stdout",
     "output_type": "stream",
     "text": [
      "Epoch 1180/2000, Loss: 0.0786\n",
      "Test Accuracy at Epoch 1180: 97.96%\n",
      "Test F1-score at Epoch 1180: 0.9800\n",
      "Classification Report at Epoch 1180:\n",
      "                  precision    recall  f1-score   support\n",
      "\n",
      "    infringement       1.00      0.96      0.98        49\n",
      "non_infringement       0.96      1.00      0.98        49\n",
      "\n",
      "        accuracy                           0.98        98\n",
      "       macro avg       0.98      0.98      0.98        98\n",
      "    weighted avg       0.98      0.98      0.98        98\n",
      "\n"
     ]
    },
    {
     "name": "stderr",
     "output_type": "stream",
     "text": [
      "Training Epochs:  60%|█████▉    | 1190/2000 [02:28<05:16,  2.56it/s]"
     ]
    },
    {
     "name": "stdout",
     "output_type": "stream",
     "text": [
      "Epoch 1190/2000, Loss: 0.0786\n",
      "Test Accuracy at Epoch 1190: 97.96%\n",
      "Test F1-score at Epoch 1190: 0.9800\n",
      "Classification Report at Epoch 1190:\n",
      "                  precision    recall  f1-score   support\n",
      "\n",
      "    infringement       1.00      0.96      0.98        49\n",
      "non_infringement       0.96      1.00      0.98        49\n",
      "\n",
      "        accuracy                           0.98        98\n",
      "       macro avg       0.98      0.98      0.98        98\n",
      "    weighted avg       0.98      0.98      0.98        98\n",
      "\n"
     ]
    },
    {
     "name": "stderr",
     "output_type": "stream",
     "text": [
      "Training Epochs:  60%|██████    | 1200/2000 [02:32<05:19,  2.50it/s]"
     ]
    },
    {
     "name": "stdout",
     "output_type": "stream",
     "text": [
      "Epoch 1200/2000, Loss: 0.0786\n",
      "Test Accuracy at Epoch 1200: 97.96%\n",
      "Test F1-score at Epoch 1200: 0.9800\n",
      "Classification Report at Epoch 1200:\n",
      "                  precision    recall  f1-score   support\n",
      "\n",
      "    infringement       1.00      0.96      0.98        49\n",
      "non_infringement       0.96      1.00      0.98        49\n",
      "\n",
      "        accuracy                           0.98        98\n",
      "       macro avg       0.98      0.98      0.98        98\n",
      "    weighted avg       0.98      0.98      0.98        98\n",
      "\n"
     ]
    },
    {
     "name": "stderr",
     "output_type": "stream",
     "text": [
      "Training Epochs:  60%|██████    | 1210/2000 [02:35<04:54,  2.68it/s]"
     ]
    },
    {
     "name": "stdout",
     "output_type": "stream",
     "text": [
      "Epoch 1210/2000, Loss: 0.0786\n",
      "Test Accuracy at Epoch 1210: 97.96%\n",
      "Test F1-score at Epoch 1210: 0.9800\n",
      "Classification Report at Epoch 1210:\n",
      "                  precision    recall  f1-score   support\n",
      "\n",
      "    infringement       1.00      0.96      0.98        49\n",
      "non_infringement       0.96      1.00      0.98        49\n",
      "\n",
      "        accuracy                           0.98        98\n",
      "       macro avg       0.98      0.98      0.98        98\n",
      "    weighted avg       0.98      0.98      0.98        98\n",
      "\n"
     ]
    },
    {
     "name": "stderr",
     "output_type": "stream",
     "text": [
      "Training Epochs:  61%|██████    | 1220/2000 [02:39<05:19,  2.44it/s]"
     ]
    },
    {
     "name": "stdout",
     "output_type": "stream",
     "text": [
      "Epoch 1220/2000, Loss: 0.0786\n",
      "Test Accuracy at Epoch 1220: 97.96%\n",
      "Test F1-score at Epoch 1220: 0.9800\n",
      "Classification Report at Epoch 1220:\n",
      "                  precision    recall  f1-score   support\n",
      "\n",
      "    infringement       1.00      0.96      0.98        49\n",
      "non_infringement       0.96      1.00      0.98        49\n",
      "\n",
      "        accuracy                           0.98        98\n",
      "       macro avg       0.98      0.98      0.98        98\n",
      "    weighted avg       0.98      0.98      0.98        98\n",
      "\n"
     ]
    },
    {
     "name": "stderr",
     "output_type": "stream",
     "text": [
      "Training Epochs:  62%|██████▏   | 1230/2000 [02:43<05:17,  2.42it/s]"
     ]
    },
    {
     "name": "stdout",
     "output_type": "stream",
     "text": [
      "Epoch 1230/2000, Loss: 0.0786\n",
      "Test Accuracy at Epoch 1230: 97.96%\n",
      "Test F1-score at Epoch 1230: 0.9800\n",
      "Classification Report at Epoch 1230:\n",
      "                  precision    recall  f1-score   support\n",
      "\n",
      "    infringement       1.00      0.96      0.98        49\n",
      "non_infringement       0.96      1.00      0.98        49\n",
      "\n",
      "        accuracy                           0.98        98\n",
      "       macro avg       0.98      0.98      0.98        98\n",
      "    weighted avg       0.98      0.98      0.98        98\n",
      "\n"
     ]
    },
    {
     "name": "stderr",
     "output_type": "stream",
     "text": [
      "Training Epochs:  62%|██████▏   | 1240/2000 [02:47<05:06,  2.48it/s]"
     ]
    },
    {
     "name": "stdout",
     "output_type": "stream",
     "text": [
      "Epoch 1240/2000, Loss: 0.0786\n",
      "Test Accuracy at Epoch 1240: 97.96%\n",
      "Test F1-score at Epoch 1240: 0.9800\n",
      "Classification Report at Epoch 1240:\n",
      "                  precision    recall  f1-score   support\n",
      "\n",
      "    infringement       1.00      0.96      0.98        49\n",
      "non_infringement       0.96      1.00      0.98        49\n",
      "\n",
      "        accuracy                           0.98        98\n",
      "       macro avg       0.98      0.98      0.98        98\n",
      "    weighted avg       0.98      0.98      0.98        98\n",
      "\n"
     ]
    },
    {
     "name": "stderr",
     "output_type": "stream",
     "text": [
      "Training Epochs:  62%|██████▎   | 1250/2000 [02:51<05:01,  2.49it/s]"
     ]
    },
    {
     "name": "stdout",
     "output_type": "stream",
     "text": [
      "Epoch 1250/2000, Loss: 0.0786\n",
      "Test Accuracy at Epoch 1250: 97.96%\n",
      "Test F1-score at Epoch 1250: 0.9800\n",
      "Classification Report at Epoch 1250:\n",
      "                  precision    recall  f1-score   support\n",
      "\n",
      "    infringement       1.00      0.96      0.98        49\n",
      "non_infringement       0.96      1.00      0.98        49\n",
      "\n",
      "        accuracy                           0.98        98\n",
      "       macro avg       0.98      0.98      0.98        98\n",
      "    weighted avg       0.98      0.98      0.98        98\n",
      "\n"
     ]
    },
    {
     "name": "stderr",
     "output_type": "stream",
     "text": [
      "Training Epochs:  63%|██████▎   | 1267/2000 [02:52<00:37, 19.71it/s]"
     ]
    },
    {
     "name": "stdout",
     "output_type": "stream",
     "text": [
      "Epoch 1260/2000, Loss: 0.0786\n",
      "Test Accuracy at Epoch 1260: 97.96%\n",
      "Test F1-score at Epoch 1260: 0.9800\n",
      "Classification Report at Epoch 1260:\n",
      "                  precision    recall  f1-score   support\n",
      "\n",
      "    infringement       1.00      0.96      0.98        49\n",
      "non_infringement       0.96      1.00      0.98        49\n",
      "\n",
      "        accuracy                           0.98        98\n",
      "       macro avg       0.98      0.98      0.98        98\n",
      "    weighted avg       0.98      0.98      0.98        98\n",
      "\n",
      "Epoch 1270/2000, Loss: 0.0786\n",
      "Test Accuracy at Epoch 1270: 97.96%\n",
      "Test F1-score at Epoch 1270: 0.9800\n",
      "Classification Report at Epoch 1270:\n",
      "                  precision    recall  f1-score   support\n",
      "\n",
      "    infringement       1.00      0.96      0.98        49\n",
      "non_infringement       0.96      1.00      0.98        49\n",
      "\n",
      "        accuracy                           0.98        98\n",
      "       macro avg       0.98      0.98      0.98        98\n",
      "    weighted avg       0.98      0.98      0.98        98\n",
      "\n"
     ]
    },
    {
     "name": "stderr",
     "output_type": "stream",
     "text": [
      "Training Epochs:  64%|██████▍   | 1280/2000 [02:57<03:37,  3.32it/s]"
     ]
    },
    {
     "name": "stdout",
     "output_type": "stream",
     "text": [
      "Epoch 1280/2000, Loss: 0.0786\n",
      "Test Accuracy at Epoch 1280: 97.96%\n",
      "Test F1-score at Epoch 1280: 0.9800\n",
      "Classification Report at Epoch 1280:\n",
      "                  precision    recall  f1-score   support\n",
      "\n",
      "    infringement       1.00      0.96      0.98        49\n",
      "non_infringement       0.96      1.00      0.98        49\n",
      "\n",
      "        accuracy                           0.98        98\n",
      "       macro avg       0.98      0.98      0.98        98\n",
      "    weighted avg       0.98      0.98      0.98        98\n",
      "\n"
     ]
    },
    {
     "name": "stderr",
     "output_type": "stream",
     "text": [
      "Training Epochs:  64%|██████▍   | 1290/2000 [03:01<04:35,  2.58it/s]"
     ]
    },
    {
     "name": "stdout",
     "output_type": "stream",
     "text": [
      "Epoch 1290/2000, Loss: 0.0786\n",
      "Test Accuracy at Epoch 1290: 97.96%\n",
      "Test F1-score at Epoch 1290: 0.9800\n",
      "Classification Report at Epoch 1290:\n",
      "                  precision    recall  f1-score   support\n",
      "\n",
      "    infringement       1.00      0.96      0.98        49\n",
      "non_infringement       0.96      1.00      0.98        49\n",
      "\n",
      "        accuracy                           0.98        98\n",
      "       macro avg       0.98      0.98      0.98        98\n",
      "    weighted avg       0.98      0.98      0.98        98\n",
      "\n"
     ]
    },
    {
     "name": "stderr",
     "output_type": "stream",
     "text": [
      "Training Epochs:  65%|██████▌   | 1300/2000 [03:05<04:33,  2.56it/s]"
     ]
    },
    {
     "name": "stdout",
     "output_type": "stream",
     "text": [
      "Epoch 1300/2000, Loss: 0.0786\n",
      "Test Accuracy at Epoch 1300: 97.96%\n",
      "Test F1-score at Epoch 1300: 0.9800\n",
      "Classification Report at Epoch 1300:\n",
      "                  precision    recall  f1-score   support\n",
      "\n",
      "    infringement       1.00      0.96      0.98        49\n",
      "non_infringement       0.96      1.00      0.98        49\n",
      "\n",
      "        accuracy                           0.98        98\n",
      "       macro avg       0.98      0.98      0.98        98\n",
      "    weighted avg       0.98      0.98      0.98        98\n",
      "\n"
     ]
    },
    {
     "name": "stderr",
     "output_type": "stream",
     "text": [
      "Training Epochs:  66%|██████▌   | 1310/2000 [03:09<04:29,  2.56it/s]"
     ]
    },
    {
     "name": "stdout",
     "output_type": "stream",
     "text": [
      "Epoch 1310/2000, Loss: 0.0786\n",
      "Test Accuracy at Epoch 1310: 97.96%\n",
      "Test F1-score at Epoch 1310: 0.9800\n",
      "Classification Report at Epoch 1310:\n",
      "                  precision    recall  f1-score   support\n",
      "\n",
      "    infringement       1.00      0.96      0.98        49\n",
      "non_infringement       0.96      1.00      0.98        49\n",
      "\n",
      "        accuracy                           0.98        98\n",
      "       macro avg       0.98      0.98      0.98        98\n",
      "    weighted avg       0.98      0.98      0.98        98\n",
      "\n"
     ]
    },
    {
     "name": "stderr",
     "output_type": "stream",
     "text": [
      "Training Epochs:  66%|██████▌   | 1320/2000 [03:12<04:30,  2.51it/s]"
     ]
    },
    {
     "name": "stdout",
     "output_type": "stream",
     "text": [
      "Epoch 1320/2000, Loss: 0.0786\n",
      "Test Accuracy at Epoch 1320: 97.96%\n",
      "Test F1-score at Epoch 1320: 0.9800\n",
      "Classification Report at Epoch 1320:\n",
      "                  precision    recall  f1-score   support\n",
      "\n",
      "    infringement       1.00      0.96      0.98        49\n",
      "non_infringement       0.96      1.00      0.98        49\n",
      "\n",
      "        accuracy                           0.98        98\n",
      "       macro avg       0.98      0.98      0.98        98\n",
      "    weighted avg       0.98      0.98      0.98        98\n",
      "\n"
     ]
    },
    {
     "name": "stderr",
     "output_type": "stream",
     "text": [
      "Training Epochs:  66%|██████▋   | 1330/2000 [03:16<04:23,  2.54it/s]"
     ]
    },
    {
     "name": "stdout",
     "output_type": "stream",
     "text": [
      "Epoch 1330/2000, Loss: 0.0786\n",
      "Test Accuracy at Epoch 1330: 97.96%\n",
      "Test F1-score at Epoch 1330: 0.9800\n",
      "Classification Report at Epoch 1330:\n",
      "                  precision    recall  f1-score   support\n",
      "\n",
      "    infringement       1.00      0.96      0.98        49\n",
      "non_infringement       0.96      1.00      0.98        49\n",
      "\n",
      "        accuracy                           0.98        98\n",
      "       macro avg       0.98      0.98      0.98        98\n",
      "    weighted avg       0.98      0.98      0.98        98\n",
      "\n"
     ]
    },
    {
     "name": "stderr",
     "output_type": "stream",
     "text": [
      "Training Epochs:  67%|██████▋   | 1340/2000 [03:20<04:24,  2.50it/s]"
     ]
    },
    {
     "name": "stdout",
     "output_type": "stream",
     "text": [
      "Epoch 1340/2000, Loss: 0.0786\n",
      "Test Accuracy at Epoch 1340: 97.96%\n",
      "Test F1-score at Epoch 1340: 0.9800\n",
      "Classification Report at Epoch 1340:\n",
      "                  precision    recall  f1-score   support\n",
      "\n",
      "    infringement       1.00      0.96      0.98        49\n",
      "non_infringement       0.96      1.00      0.98        49\n",
      "\n",
      "        accuracy                           0.98        98\n",
      "       macro avg       0.98      0.98      0.98        98\n",
      "    weighted avg       0.98      0.98      0.98        98\n",
      "\n"
     ]
    },
    {
     "name": "stderr",
     "output_type": "stream",
     "text": [
      "Training Epochs:  68%|██████▊   | 1350/2000 [03:24<04:16,  2.54it/s]"
     ]
    },
    {
     "name": "stdout",
     "output_type": "stream",
     "text": [
      "Epoch 1350/2000, Loss: 0.0786\n",
      "Test Accuracy at Epoch 1350: 97.96%\n",
      "Test F1-score at Epoch 1350: 0.9800\n",
      "Classification Report at Epoch 1350:\n",
      "                  precision    recall  f1-score   support\n",
      "\n",
      "    infringement       1.00      0.96      0.98        49\n",
      "non_infringement       0.96      1.00      0.98        49\n",
      "\n",
      "        accuracy                           0.98        98\n",
      "       macro avg       0.98      0.98      0.98        98\n",
      "    weighted avg       0.98      0.98      0.98        98\n",
      "\n"
     ]
    },
    {
     "name": "stderr",
     "output_type": "stream",
     "text": [
      "Training Epochs:  68%|██████▊   | 1360/2000 [03:28<04:13,  2.53it/s]"
     ]
    },
    {
     "name": "stdout",
     "output_type": "stream",
     "text": [
      "Epoch 1360/2000, Loss: 0.0786\n",
      "Test Accuracy at Epoch 1360: 97.96%\n",
      "Test F1-score at Epoch 1360: 0.9800\n",
      "Classification Report at Epoch 1360:\n",
      "                  precision    recall  f1-score   support\n",
      "\n",
      "    infringement       1.00      0.96      0.98        49\n",
      "non_infringement       0.96      1.00      0.98        49\n",
      "\n",
      "        accuracy                           0.98        98\n",
      "       macro avg       0.98      0.98      0.98        98\n",
      "    weighted avg       0.98      0.98      0.98        98\n",
      "\n"
     ]
    },
    {
     "name": "stderr",
     "output_type": "stream",
     "text": [
      "Training Epochs:  68%|██████▊   | 1370/2000 [03:32<04:09,  2.53it/s]"
     ]
    },
    {
     "name": "stdout",
     "output_type": "stream",
     "text": [
      "Epoch 1370/2000, Loss: 0.0786\n",
      "Test Accuracy at Epoch 1370: 97.96%\n",
      "Test F1-score at Epoch 1370: 0.9800\n",
      "Classification Report at Epoch 1370:\n",
      "                  precision    recall  f1-score   support\n",
      "\n",
      "    infringement       1.00      0.96      0.98        49\n",
      "non_infringement       0.96      1.00      0.98        49\n",
      "\n",
      "        accuracy                           0.98        98\n",
      "       macro avg       0.98      0.98      0.98        98\n",
      "    weighted avg       0.98      0.98      0.98        98\n",
      "\n"
     ]
    },
    {
     "name": "stderr",
     "output_type": "stream",
     "text": [
      "Training Epochs:  69%|██████▉   | 1380/2000 [03:36<04:06,  2.52it/s]"
     ]
    },
    {
     "name": "stdout",
     "output_type": "stream",
     "text": [
      "Epoch 1380/2000, Loss: 0.0786\n",
      "Test Accuracy at Epoch 1380: 97.96%\n",
      "Test F1-score at Epoch 1380: 0.9800\n",
      "Classification Report at Epoch 1380:\n",
      "                  precision    recall  f1-score   support\n",
      "\n",
      "    infringement       1.00      0.96      0.98        49\n",
      "non_infringement       0.96      1.00      0.98        49\n",
      "\n",
      "        accuracy                           0.98        98\n",
      "       macro avg       0.98      0.98      0.98        98\n",
      "    weighted avg       0.98      0.98      0.98        98\n",
      "\n"
     ]
    },
    {
     "name": "stderr",
     "output_type": "stream",
     "text": [
      "Training Epochs:  70%|██████▉   | 1390/2000 [03:40<03:59,  2.54it/s]"
     ]
    },
    {
     "name": "stdout",
     "output_type": "stream",
     "text": [
      "Epoch 1390/2000, Loss: 0.0786\n",
      "Test Accuracy at Epoch 1390: 97.96%\n",
      "Test F1-score at Epoch 1390: 0.9800\n",
      "Classification Report at Epoch 1390:\n",
      "                  precision    recall  f1-score   support\n",
      "\n",
      "    infringement       1.00      0.96      0.98        49\n",
      "non_infringement       0.96      1.00      0.98        49\n",
      "\n",
      "        accuracy                           0.98        98\n",
      "       macro avg       0.98      0.98      0.98        98\n",
      "    weighted avg       0.98      0.98      0.98        98\n",
      "\n"
     ]
    },
    {
     "name": "stderr",
     "output_type": "stream",
     "text": [
      "Training Epochs:  70%|███████   | 1400/2000 [03:44<03:55,  2.55it/s]"
     ]
    },
    {
     "name": "stdout",
     "output_type": "stream",
     "text": [
      "Epoch 1400/2000, Loss: 0.0786\n",
      "Test Accuracy at Epoch 1400: 97.96%\n",
      "Test F1-score at Epoch 1400: 0.9800\n",
      "Classification Report at Epoch 1400:\n",
      "                  precision    recall  f1-score   support\n",
      "\n",
      "    infringement       1.00      0.96      0.98        49\n",
      "non_infringement       0.96      1.00      0.98        49\n",
      "\n",
      "        accuracy                           0.98        98\n",
      "       macro avg       0.98      0.98      0.98        98\n",
      "    weighted avg       0.98      0.98      0.98        98\n",
      "\n"
     ]
    },
    {
     "name": "stderr",
     "output_type": "stream",
     "text": [
      "Training Epochs:  70%|███████   | 1410/2000 [03:47<03:51,  2.55it/s]"
     ]
    },
    {
     "name": "stdout",
     "output_type": "stream",
     "text": [
      "Epoch 1410/2000, Loss: 0.0786\n",
      "Test Accuracy at Epoch 1410: 97.96%\n",
      "Test F1-score at Epoch 1410: 0.9800\n",
      "Classification Report at Epoch 1410:\n",
      "                  precision    recall  f1-score   support\n",
      "\n",
      "    infringement       1.00      0.96      0.98        49\n",
      "non_infringement       0.96      1.00      0.98        49\n",
      "\n",
      "        accuracy                           0.98        98\n",
      "       macro avg       0.98      0.98      0.98        98\n",
      "    weighted avg       0.98      0.98      0.98        98\n",
      "\n"
     ]
    },
    {
     "name": "stderr",
     "output_type": "stream",
     "text": [
      "Training Epochs:  71%|███████   | 1420/2000 [03:51<03:47,  2.55it/s]"
     ]
    },
    {
     "name": "stdout",
     "output_type": "stream",
     "text": [
      "Epoch 1420/2000, Loss: 0.0786\n",
      "Test Accuracy at Epoch 1420: 97.96%\n",
      "Test F1-score at Epoch 1420: 0.9800\n",
      "Classification Report at Epoch 1420:\n",
      "                  precision    recall  f1-score   support\n",
      "\n",
      "    infringement       1.00      0.96      0.98        49\n",
      "non_infringement       0.96      1.00      0.98        49\n",
      "\n",
      "        accuracy                           0.98        98\n",
      "       macro avg       0.98      0.98      0.98        98\n",
      "    weighted avg       0.98      0.98      0.98        98\n",
      "\n"
     ]
    },
    {
     "name": "stderr",
     "output_type": "stream",
     "text": [
      "Training Epochs:  72%|███████▏  | 1430/2000 [03:55<03:57,  2.40it/s]"
     ]
    },
    {
     "name": "stdout",
     "output_type": "stream",
     "text": [
      "Epoch 1430/2000, Loss: 0.0786\n",
      "Test Accuracy at Epoch 1430: 97.96%\n",
      "Test F1-score at Epoch 1430: 0.9800\n",
      "Classification Report at Epoch 1430:\n",
      "                  precision    recall  f1-score   support\n",
      "\n",
      "    infringement       1.00      0.96      0.98        49\n",
      "non_infringement       0.96      1.00      0.98        49\n",
      "\n",
      "        accuracy                           0.98        98\n",
      "       macro avg       0.98      0.98      0.98        98\n",
      "    weighted avg       0.98      0.98      0.98        98\n",
      "\n"
     ]
    },
    {
     "name": "stderr",
     "output_type": "stream",
     "text": [
      "Training Epochs:  72%|███████▏  | 1440/2000 [03:59<03:46,  2.48it/s]"
     ]
    },
    {
     "name": "stdout",
     "output_type": "stream",
     "text": [
      "Epoch 1440/2000, Loss: 0.0786\n",
      "Test Accuracy at Epoch 1440: 97.96%\n",
      "Test F1-score at Epoch 1440: 0.9800\n",
      "Classification Report at Epoch 1440:\n",
      "                  precision    recall  f1-score   support\n",
      "\n",
      "    infringement       1.00      0.96      0.98        49\n",
      "non_infringement       0.96      1.00      0.98        49\n",
      "\n",
      "        accuracy                           0.98        98\n",
      "       macro avg       0.98      0.98      0.98        98\n",
      "    weighted avg       0.98      0.98      0.98        98\n",
      "\n"
     ]
    },
    {
     "name": "stderr",
     "output_type": "stream",
     "text": [
      "Training Epochs:  72%|███████▎  | 1450/2000 [04:03<03:45,  2.44it/s]"
     ]
    },
    {
     "name": "stdout",
     "output_type": "stream",
     "text": [
      "Epoch 1450/2000, Loss: 0.0786\n",
      "Test Accuracy at Epoch 1450: 97.96%\n",
      "Test F1-score at Epoch 1450: 0.9800\n",
      "Classification Report at Epoch 1450:\n",
      "                  precision    recall  f1-score   support\n",
      "\n",
      "    infringement       1.00      0.96      0.98        49\n",
      "non_infringement       0.96      1.00      0.98        49\n",
      "\n",
      "        accuracy                           0.98        98\n",
      "       macro avg       0.98      0.98      0.98        98\n",
      "    weighted avg       0.98      0.98      0.98        98\n",
      "\n"
     ]
    },
    {
     "name": "stderr",
     "output_type": "stream",
     "text": [
      "Training Epochs:  73%|███████▎  | 1460/2000 [04:07<03:32,  2.54it/s]"
     ]
    },
    {
     "name": "stdout",
     "output_type": "stream",
     "text": [
      "Epoch 1460/2000, Loss: 0.0786\n",
      "Test Accuracy at Epoch 1460: 97.96%\n",
      "Test F1-score at Epoch 1460: 0.9800\n",
      "Classification Report at Epoch 1460:\n",
      "                  precision    recall  f1-score   support\n",
      "\n",
      "    infringement       1.00      0.96      0.98        49\n",
      "non_infringement       0.96      1.00      0.98        49\n",
      "\n",
      "        accuracy                           0.98        98\n",
      "       macro avg       0.98      0.98      0.98        98\n",
      "    weighted avg       0.98      0.98      0.98        98\n",
      "\n"
     ]
    },
    {
     "name": "stderr",
     "output_type": "stream",
     "text": [
      "Training Epochs:  74%|███████▎  | 1470/2000 [04:11<03:30,  2.51it/s]"
     ]
    },
    {
     "name": "stdout",
     "output_type": "stream",
     "text": [
      "Epoch 1470/2000, Loss: 0.0786\n",
      "Test Accuracy at Epoch 1470: 97.96%\n",
      "Test F1-score at Epoch 1470: 0.9800\n",
      "Classification Report at Epoch 1470:\n",
      "                  precision    recall  f1-score   support\n",
      "\n",
      "    infringement       1.00      0.96      0.98        49\n",
      "non_infringement       0.96      1.00      0.98        49\n",
      "\n",
      "        accuracy                           0.98        98\n",
      "       macro avg       0.98      0.98      0.98        98\n",
      "    weighted avg       0.98      0.98      0.98        98\n",
      "\n"
     ]
    },
    {
     "name": "stderr",
     "output_type": "stream",
     "text": [
      "Training Epochs:  74%|███████▍  | 1480/2000 [04:15<03:23,  2.56it/s]"
     ]
    },
    {
     "name": "stdout",
     "output_type": "stream",
     "text": [
      "Epoch 1480/2000, Loss: 0.0786\n",
      "Test Accuracy at Epoch 1480: 97.96%\n",
      "Test F1-score at Epoch 1480: 0.9800\n",
      "Classification Report at Epoch 1480:\n",
      "                  precision    recall  f1-score   support\n",
      "\n",
      "    infringement       1.00      0.96      0.98        49\n",
      "non_infringement       0.96      1.00      0.98        49\n",
      "\n",
      "        accuracy                           0.98        98\n",
      "       macro avg       0.98      0.98      0.98        98\n",
      "    weighted avg       0.98      0.98      0.98        98\n",
      "\n"
     ]
    },
    {
     "name": "stderr",
     "output_type": "stream",
     "text": [
      "Training Epochs:  74%|███████▍  | 1490/2000 [04:19<03:19,  2.55it/s]"
     ]
    },
    {
     "name": "stdout",
     "output_type": "stream",
     "text": [
      "Epoch 1490/2000, Loss: 0.0786\n",
      "Test Accuracy at Epoch 1490: 97.96%\n",
      "Test F1-score at Epoch 1490: 0.9800\n",
      "Classification Report at Epoch 1490:\n",
      "                  precision    recall  f1-score   support\n",
      "\n",
      "    infringement       1.00      0.96      0.98        49\n",
      "non_infringement       0.96      1.00      0.98        49\n",
      "\n",
      "        accuracy                           0.98        98\n",
      "       macro avg       0.98      0.98      0.98        98\n",
      "    weighted avg       0.98      0.98      0.98        98\n",
      "\n"
     ]
    },
    {
     "name": "stderr",
     "output_type": "stream",
     "text": [
      "Training Epochs:  75%|███████▌  | 1500/2000 [04:22<03:16,  2.55it/s]"
     ]
    },
    {
     "name": "stdout",
     "output_type": "stream",
     "text": [
      "Epoch 1500/2000, Loss: 0.0786\n",
      "Test Accuracy at Epoch 1500: 97.96%\n",
      "Test F1-score at Epoch 1500: 0.9800\n",
      "Classification Report at Epoch 1500:\n",
      "                  precision    recall  f1-score   support\n",
      "\n",
      "    infringement       1.00      0.96      0.98        49\n",
      "non_infringement       0.96      1.00      0.98        49\n",
      "\n",
      "        accuracy                           0.98        98\n",
      "       macro avg       0.98      0.98      0.98        98\n",
      "    weighted avg       0.98      0.98      0.98        98\n",
      "\n"
     ]
    },
    {
     "name": "stderr",
     "output_type": "stream",
     "text": [
      "Training Epochs:  76%|███████▌  | 1510/2000 [04:26<03:11,  2.56it/s]"
     ]
    },
    {
     "name": "stdout",
     "output_type": "stream",
     "text": [
      "Epoch 1510/2000, Loss: 0.0786\n",
      "Test Accuracy at Epoch 1510: 97.96%\n",
      "Test F1-score at Epoch 1510: 0.9800\n",
      "Classification Report at Epoch 1510:\n",
      "                  precision    recall  f1-score   support\n",
      "\n",
      "    infringement       1.00      0.96      0.98        49\n",
      "non_infringement       0.96      1.00      0.98        49\n",
      "\n",
      "        accuracy                           0.98        98\n",
      "       macro avg       0.98      0.98      0.98        98\n",
      "    weighted avg       0.98      0.98      0.98        98\n",
      "\n"
     ]
    },
    {
     "name": "stderr",
     "output_type": "stream",
     "text": [
      "Training Epochs:  76%|███████▌  | 1520/2000 [04:30<03:07,  2.55it/s]"
     ]
    },
    {
     "name": "stdout",
     "output_type": "stream",
     "text": [
      "Epoch 1520/2000, Loss: 0.0786\n",
      "Test Accuracy at Epoch 1520: 97.96%\n",
      "Test F1-score at Epoch 1520: 0.9800\n",
      "Classification Report at Epoch 1520:\n",
      "                  precision    recall  f1-score   support\n",
      "\n",
      "    infringement       1.00      0.96      0.98        49\n",
      "non_infringement       0.96      1.00      0.98        49\n",
      "\n",
      "        accuracy                           0.98        98\n",
      "       macro avg       0.98      0.98      0.98        98\n",
      "    weighted avg       0.98      0.98      0.98        98\n",
      "\n"
     ]
    },
    {
     "name": "stderr",
     "output_type": "stream",
     "text": [
      "Training Epochs:  76%|███████▋  | 1530/2000 [04:34<03:04,  2.55it/s]"
     ]
    },
    {
     "name": "stdout",
     "output_type": "stream",
     "text": [
      "Epoch 1530/2000, Loss: 0.0786\n",
      "Test Accuracy at Epoch 1530: 97.96%\n",
      "Test F1-score at Epoch 1530: 0.9800\n",
      "Classification Report at Epoch 1530:\n",
      "                  precision    recall  f1-score   support\n",
      "\n",
      "    infringement       1.00      0.96      0.98        49\n",
      "non_infringement       0.96      1.00      0.98        49\n",
      "\n",
      "        accuracy                           0.98        98\n",
      "       macro avg       0.98      0.98      0.98        98\n",
      "    weighted avg       0.98      0.98      0.98        98\n",
      "\n"
     ]
    },
    {
     "name": "stderr",
     "output_type": "stream",
     "text": [
      "Training Epochs:  77%|███████▋  | 1540/2000 [04:38<03:07,  2.45it/s]"
     ]
    },
    {
     "name": "stdout",
     "output_type": "stream",
     "text": [
      "Epoch 1540/2000, Loss: 0.0786\n",
      "Test Accuracy at Epoch 1540: 97.96%\n",
      "Test F1-score at Epoch 1540: 0.9800\n",
      "Classification Report at Epoch 1540:\n",
      "                  precision    recall  f1-score   support\n",
      "\n",
      "    infringement       1.00      0.96      0.98        49\n",
      "non_infringement       0.96      1.00      0.98        49\n",
      "\n",
      "        accuracy                           0.98        98\n",
      "       macro avg       0.98      0.98      0.98        98\n",
      "    weighted avg       0.98      0.98      0.98        98\n",
      "\n"
     ]
    },
    {
     "name": "stderr",
     "output_type": "stream",
     "text": [
      "Training Epochs:  78%|███████▊  | 1556/2000 [04:39<00:24, 17.98it/s]"
     ]
    },
    {
     "name": "stdout",
     "output_type": "stream",
     "text": [
      "Epoch 1550/2000, Loss: 0.0786\n",
      "Test Accuracy at Epoch 1550: 97.96%\n",
      "Test F1-score at Epoch 1550: 0.9800\n",
      "Classification Report at Epoch 1550:\n",
      "                  precision    recall  f1-score   support\n",
      "\n",
      "    infringement       1.00      0.96      0.98        49\n",
      "non_infringement       0.96      1.00      0.98        49\n",
      "\n",
      "        accuracy                           0.98        98\n",
      "       macro avg       0.98      0.98      0.98        98\n",
      "    weighted avg       0.98      0.98      0.98        98\n",
      "\n"
     ]
    },
    {
     "name": "stderr",
     "output_type": "stream",
     "text": [
      "Training Epochs:  78%|███████▊  | 1560/2000 [04:40<00:55,  7.87it/s]"
     ]
    },
    {
     "name": "stdout",
     "output_type": "stream",
     "text": [
      "Epoch 1560/2000, Loss: 0.0786\n",
      "Test Accuracy at Epoch 1560: 97.96%\n",
      "Test F1-score at Epoch 1560: 0.9800\n",
      "Classification Report at Epoch 1560:\n",
      "                  precision    recall  f1-score   support\n",
      "\n",
      "    infringement       1.00      0.96      0.98        49\n",
      "non_infringement       0.96      1.00      0.98        49\n",
      "\n",
      "        accuracy                           0.98        98\n",
      "       macro avg       0.98      0.98      0.98        98\n",
      "    weighted avg       0.98      0.98      0.98        98\n",
      "\n"
     ]
    },
    {
     "name": "stderr",
     "output_type": "stream",
     "text": [
      "Training Epochs:  78%|███████▊  | 1570/2000 [04:44<02:17,  3.13it/s]"
     ]
    },
    {
     "name": "stdout",
     "output_type": "stream",
     "text": [
      "Epoch 1570/2000, Loss: 0.0786\n",
      "Test Accuracy at Epoch 1570: 97.96%\n",
      "Test F1-score at Epoch 1570: 0.9800\n",
      "Classification Report at Epoch 1570:\n",
      "                  precision    recall  f1-score   support\n",
      "\n",
      "    infringement       1.00      0.96      0.98        49\n",
      "non_infringement       0.96      1.00      0.98        49\n",
      "\n",
      "        accuracy                           0.98        98\n",
      "       macro avg       0.98      0.98      0.98        98\n",
      "    weighted avg       0.98      0.98      0.98        98\n",
      "\n"
     ]
    },
    {
     "name": "stderr",
     "output_type": "stream",
     "text": [
      "Training Epochs:  79%|███████▉  | 1580/2000 [04:48<02:49,  2.48it/s]"
     ]
    },
    {
     "name": "stdout",
     "output_type": "stream",
     "text": [
      "Epoch 1580/2000, Loss: 0.0786\n",
      "Test Accuracy at Epoch 1580: 97.96%\n",
      "Test F1-score at Epoch 1580: 0.9800\n",
      "Classification Report at Epoch 1580:\n",
      "                  precision    recall  f1-score   support\n",
      "\n",
      "    infringement       1.00      0.96      0.98        49\n",
      "non_infringement       0.96      1.00      0.98        49\n",
      "\n",
      "        accuracy                           0.98        98\n",
      "       macro avg       0.98      0.98      0.98        98\n",
      "    weighted avg       0.98      0.98      0.98        98\n",
      "\n"
     ]
    },
    {
     "name": "stderr",
     "output_type": "stream",
     "text": [
      "Training Epochs:  80%|███████▉  | 1590/2000 [04:52<02:40,  2.55it/s]"
     ]
    },
    {
     "name": "stdout",
     "output_type": "stream",
     "text": [
      "Epoch 1590/2000, Loss: 0.0786\n",
      "Test Accuracy at Epoch 1590: 97.96%\n",
      "Test F1-score at Epoch 1590: 0.9800\n",
      "Classification Report at Epoch 1590:\n",
      "                  precision    recall  f1-score   support\n",
      "\n",
      "    infringement       1.00      0.96      0.98        49\n",
      "non_infringement       0.96      1.00      0.98        49\n",
      "\n",
      "        accuracy                           0.98        98\n",
      "       macro avg       0.98      0.98      0.98        98\n",
      "    weighted avg       0.98      0.98      0.98        98\n",
      "\n"
     ]
    },
    {
     "name": "stderr",
     "output_type": "stream",
     "text": [
      "Training Epochs:  80%|████████  | 1600/2000 [04:56<02:37,  2.53it/s]"
     ]
    },
    {
     "name": "stdout",
     "output_type": "stream",
     "text": [
      "Epoch 1600/2000, Loss: 0.0786\n",
      "Test Accuracy at Epoch 1600: 97.96%\n",
      "Test F1-score at Epoch 1600: 0.9800\n",
      "Classification Report at Epoch 1600:\n",
      "                  precision    recall  f1-score   support\n",
      "\n",
      "    infringement       1.00      0.96      0.98        49\n",
      "non_infringement       0.96      1.00      0.98        49\n",
      "\n",
      "        accuracy                           0.98        98\n",
      "       macro avg       0.98      0.98      0.98        98\n",
      "    weighted avg       0.98      0.98      0.98        98\n",
      "\n"
     ]
    },
    {
     "name": "stderr",
     "output_type": "stream",
     "text": [
      "Training Epochs:  80%|████████  | 1610/2000 [05:00<02:34,  2.52it/s]"
     ]
    },
    {
     "name": "stdout",
     "output_type": "stream",
     "text": [
      "Epoch 1610/2000, Loss: 0.0786\n",
      "Test Accuracy at Epoch 1610: 97.96%\n",
      "Test F1-score at Epoch 1610: 0.9800\n",
      "Classification Report at Epoch 1610:\n",
      "                  precision    recall  f1-score   support\n",
      "\n",
      "    infringement       1.00      0.96      0.98        49\n",
      "non_infringement       0.96      1.00      0.98        49\n",
      "\n",
      "        accuracy                           0.98        98\n",
      "       macro avg       0.98      0.98      0.98        98\n",
      "    weighted avg       0.98      0.98      0.98        98\n",
      "\n"
     ]
    },
    {
     "name": "stderr",
     "output_type": "stream",
     "text": [
      "Training Epochs:  81%|████████  | 1620/2000 [05:03<02:31,  2.52it/s]"
     ]
    },
    {
     "name": "stdout",
     "output_type": "stream",
     "text": [
      "Epoch 1620/2000, Loss: 0.0786\n",
      "Test Accuracy at Epoch 1620: 97.96%\n",
      "Test F1-score at Epoch 1620: 0.9800\n",
      "Classification Report at Epoch 1620:\n",
      "                  precision    recall  f1-score   support\n",
      "\n",
      "    infringement       1.00      0.96      0.98        49\n",
      "non_infringement       0.96      1.00      0.98        49\n",
      "\n",
      "        accuracy                           0.98        98\n",
      "       macro avg       0.98      0.98      0.98        98\n",
      "    weighted avg       0.98      0.98      0.98        98\n",
      "\n"
     ]
    },
    {
     "name": "stderr",
     "output_type": "stream",
     "text": [
      "Training Epochs:  82%|████████▏ | 1630/2000 [05:07<02:26,  2.52it/s]"
     ]
    },
    {
     "name": "stdout",
     "output_type": "stream",
     "text": [
      "Epoch 1630/2000, Loss: 0.0786\n",
      "Test Accuracy at Epoch 1630: 97.96%\n",
      "Test F1-score at Epoch 1630: 0.9800\n",
      "Classification Report at Epoch 1630:\n",
      "                  precision    recall  f1-score   support\n",
      "\n",
      "    infringement       1.00      0.96      0.98        49\n",
      "non_infringement       0.96      1.00      0.98        49\n",
      "\n",
      "        accuracy                           0.98        98\n",
      "       macro avg       0.98      0.98      0.98        98\n",
      "    weighted avg       0.98      0.98      0.98        98\n",
      "\n"
     ]
    },
    {
     "name": "stderr",
     "output_type": "stream",
     "text": [
      "Training Epochs:  82%|████████▏ | 1640/2000 [05:11<02:22,  2.52it/s]"
     ]
    },
    {
     "name": "stdout",
     "output_type": "stream",
     "text": [
      "Epoch 1640/2000, Loss: 0.0786\n",
      "Test Accuracy at Epoch 1640: 97.96%\n",
      "Test F1-score at Epoch 1640: 0.9800\n",
      "Classification Report at Epoch 1640:\n",
      "                  precision    recall  f1-score   support\n",
      "\n",
      "    infringement       1.00      0.96      0.98        49\n",
      "non_infringement       0.96      1.00      0.98        49\n",
      "\n",
      "        accuracy                           0.98        98\n",
      "       macro avg       0.98      0.98      0.98        98\n",
      "    weighted avg       0.98      0.98      0.98        98\n",
      "\n"
     ]
    },
    {
     "name": "stderr",
     "output_type": "stream",
     "text": [
      "Training Epochs:  82%|████████▎ | 1650/2000 [05:15<02:42,  2.15it/s]"
     ]
    },
    {
     "name": "stdout",
     "output_type": "stream",
     "text": [
      "Epoch 1650/2000, Loss: 0.0786\n",
      "Test Accuracy at Epoch 1650: 97.96%\n",
      "Test F1-score at Epoch 1650: 0.9800\n",
      "Classification Report at Epoch 1650:\n",
      "                  precision    recall  f1-score   support\n",
      "\n",
      "    infringement       1.00      0.96      0.98        49\n",
      "non_infringement       0.96      1.00      0.98        49\n",
      "\n",
      "        accuracy                           0.98        98\n",
      "       macro avg       0.98      0.98      0.98        98\n",
      "    weighted avg       0.98      0.98      0.98        98\n",
      "\n"
     ]
    },
    {
     "name": "stderr",
     "output_type": "stream",
     "text": [
      "Training Epochs:  83%|████████▎ | 1660/2000 [05:19<02:14,  2.53it/s]"
     ]
    },
    {
     "name": "stdout",
     "output_type": "stream",
     "text": [
      "Epoch 1660/2000, Loss: 0.0786\n",
      "Test Accuracy at Epoch 1660: 97.96%\n",
      "Test F1-score at Epoch 1660: 0.9800\n",
      "Classification Report at Epoch 1660:\n",
      "                  precision    recall  f1-score   support\n",
      "\n",
      "    infringement       1.00      0.96      0.98        49\n",
      "non_infringement       0.96      1.00      0.98        49\n",
      "\n",
      "        accuracy                           0.98        98\n",
      "       macro avg       0.98      0.98      0.98        98\n",
      "    weighted avg       0.98      0.98      0.98        98\n",
      "\n"
     ]
    },
    {
     "name": "stderr",
     "output_type": "stream",
     "text": [
      "Training Epochs:  84%|████████▎ | 1670/2000 [05:23<02:09,  2.56it/s]"
     ]
    },
    {
     "name": "stdout",
     "output_type": "stream",
     "text": [
      "Epoch 1670/2000, Loss: 0.0786\n",
      "Test Accuracy at Epoch 1670: 97.96%\n",
      "Test F1-score at Epoch 1670: 0.9800\n",
      "Classification Report at Epoch 1670:\n",
      "                  precision    recall  f1-score   support\n",
      "\n",
      "    infringement       1.00      0.96      0.98        49\n",
      "non_infringement       0.96      1.00      0.98        49\n",
      "\n",
      "        accuracy                           0.98        98\n",
      "       macro avg       0.98      0.98      0.98        98\n",
      "    weighted avg       0.98      0.98      0.98        98\n",
      "\n"
     ]
    },
    {
     "name": "stderr",
     "output_type": "stream",
     "text": [
      "Training Epochs:  84%|████████▍ | 1680/2000 [05:27<02:05,  2.56it/s]"
     ]
    },
    {
     "name": "stdout",
     "output_type": "stream",
     "text": [
      "Epoch 1680/2000, Loss: 0.0786\n",
      "Test Accuracy at Epoch 1680: 97.96%\n",
      "Test F1-score at Epoch 1680: 0.9800\n",
      "Classification Report at Epoch 1680:\n",
      "                  precision    recall  f1-score   support\n",
      "\n",
      "    infringement       1.00      0.96      0.98        49\n",
      "non_infringement       0.96      1.00      0.98        49\n",
      "\n",
      "        accuracy                           0.98        98\n",
      "       macro avg       0.98      0.98      0.98        98\n",
      "    weighted avg       0.98      0.98      0.98        98\n",
      "\n"
     ]
    },
    {
     "name": "stderr",
     "output_type": "stream",
     "text": [
      "Training Epochs:  84%|████████▍ | 1690/2000 [05:31<02:16,  2.27it/s]"
     ]
    },
    {
     "name": "stdout",
     "output_type": "stream",
     "text": [
      "Epoch 1690/2000, Loss: 0.0786\n",
      "Test Accuracy at Epoch 1690: 97.96%\n",
      "Test F1-score at Epoch 1690: 0.9800\n",
      "Classification Report at Epoch 1690:\n",
      "                  precision    recall  f1-score   support\n",
      "\n",
      "    infringement       1.00      0.96      0.98        49\n",
      "non_infringement       0.96      1.00      0.98        49\n",
      "\n",
      "        accuracy                           0.98        98\n",
      "       macro avg       0.98      0.98      0.98        98\n",
      "    weighted avg       0.98      0.98      0.98        98\n",
      "\n"
     ]
    },
    {
     "name": "stderr",
     "output_type": "stream",
     "text": [
      "Training Epochs:  85%|████████▌ | 1700/2000 [05:35<01:58,  2.53it/s]"
     ]
    },
    {
     "name": "stdout",
     "output_type": "stream",
     "text": [
      "Epoch 1700/2000, Loss: 0.0786\n",
      "Test Accuracy at Epoch 1700: 97.96%\n",
      "Test F1-score at Epoch 1700: 0.9800\n",
      "Classification Report at Epoch 1700:\n",
      "                  precision    recall  f1-score   support\n",
      "\n",
      "    infringement       1.00      0.96      0.98        49\n",
      "non_infringement       0.96      1.00      0.98        49\n",
      "\n",
      "        accuracy                           0.98        98\n",
      "       macro avg       0.98      0.98      0.98        98\n",
      "    weighted avg       0.98      0.98      0.98        98\n",
      "\n"
     ]
    },
    {
     "name": "stderr",
     "output_type": "stream",
     "text": [
      "Training Epochs:  86%|████████▌ | 1710/2000 [05:38<01:53,  2.56it/s]"
     ]
    },
    {
     "name": "stdout",
     "output_type": "stream",
     "text": [
      "Epoch 1710/2000, Loss: 0.0786\n",
      "Test Accuracy at Epoch 1710: 97.96%\n",
      "Test F1-score at Epoch 1710: 0.9800\n",
      "Classification Report at Epoch 1710:\n",
      "                  precision    recall  f1-score   support\n",
      "\n",
      "    infringement       1.00      0.96      0.98        49\n",
      "non_infringement       0.96      1.00      0.98        49\n",
      "\n",
      "        accuracy                           0.98        98\n",
      "       macro avg       0.98      0.98      0.98        98\n",
      "    weighted avg       0.98      0.98      0.98        98\n",
      "\n"
     ]
    },
    {
     "name": "stderr",
     "output_type": "stream",
     "text": [
      "Training Epochs:  86%|████████▌ | 1720/2000 [05:42<01:51,  2.51it/s]"
     ]
    },
    {
     "name": "stdout",
     "output_type": "stream",
     "text": [
      "Epoch 1720/2000, Loss: 0.0786\n",
      "Test Accuracy at Epoch 1720: 97.96%\n",
      "Test F1-score at Epoch 1720: 0.9800\n",
      "Classification Report at Epoch 1720:\n",
      "                  precision    recall  f1-score   support\n",
      "\n",
      "    infringement       1.00      0.96      0.98        49\n",
      "non_infringement       0.96      1.00      0.98        49\n",
      "\n",
      "        accuracy                           0.98        98\n",
      "       macro avg       0.98      0.98      0.98        98\n",
      "    weighted avg       0.98      0.98      0.98        98\n",
      "\n"
     ]
    },
    {
     "name": "stderr",
     "output_type": "stream",
     "text": [
      "Training Epochs:  86%|████████▋ | 1730/2000 [05:46<01:46,  2.54it/s]"
     ]
    },
    {
     "name": "stdout",
     "output_type": "stream",
     "text": [
      "Epoch 1730/2000, Loss: 0.0786\n",
      "Test Accuracy at Epoch 1730: 97.96%\n",
      "Test F1-score at Epoch 1730: 0.9800\n",
      "Classification Report at Epoch 1730:\n",
      "                  precision    recall  f1-score   support\n",
      "\n",
      "    infringement       1.00      0.96      0.98        49\n",
      "non_infringement       0.96      1.00      0.98        49\n",
      "\n",
      "        accuracy                           0.98        98\n",
      "       macro avg       0.98      0.98      0.98        98\n",
      "    weighted avg       0.98      0.98      0.98        98\n",
      "\n"
     ]
    },
    {
     "name": "stderr",
     "output_type": "stream",
     "text": [
      "Training Epochs:  87%|████████▋ | 1740/2000 [05:50<01:42,  2.54it/s]"
     ]
    },
    {
     "name": "stdout",
     "output_type": "stream",
     "text": [
      "Epoch 1740/2000, Loss: 0.0786\n",
      "Test Accuracy at Epoch 1740: 97.96%\n",
      "Test F1-score at Epoch 1740: 0.9800\n",
      "Classification Report at Epoch 1740:\n",
      "                  precision    recall  f1-score   support\n",
      "\n",
      "    infringement       1.00      0.96      0.98        49\n",
      "non_infringement       0.96      1.00      0.98        49\n",
      "\n",
      "        accuracy                           0.98        98\n",
      "       macro avg       0.98      0.98      0.98        98\n",
      "    weighted avg       0.98      0.98      0.98        98\n",
      "\n"
     ]
    },
    {
     "name": "stderr",
     "output_type": "stream",
     "text": [
      "Training Epochs:  88%|████████▊ | 1750/2000 [05:54<01:47,  2.33it/s]"
     ]
    },
    {
     "name": "stdout",
     "output_type": "stream",
     "text": [
      "Epoch 1750/2000, Loss: 0.0786\n",
      "Test Accuracy at Epoch 1750: 97.96%\n",
      "Test F1-score at Epoch 1750: 0.9800\n",
      "Classification Report at Epoch 1750:\n",
      "                  precision    recall  f1-score   support\n",
      "\n",
      "    infringement       1.00      0.96      0.98        49\n",
      "non_infringement       0.96      1.00      0.98        49\n",
      "\n",
      "        accuracy                           0.98        98\n",
      "       macro avg       0.98      0.98      0.98        98\n",
      "    weighted avg       0.98      0.98      0.98        98\n",
      "\n"
     ]
    },
    {
     "name": "stderr",
     "output_type": "stream",
     "text": [
      "Training Epochs:  88%|████████▊ | 1760/2000 [05:58<01:36,  2.50it/s]"
     ]
    },
    {
     "name": "stdout",
     "output_type": "stream",
     "text": [
      "Epoch 1760/2000, Loss: 0.0786\n",
      "Test Accuracy at Epoch 1760: 97.96%\n",
      "Test F1-score at Epoch 1760: 0.9800\n",
      "Classification Report at Epoch 1760:\n",
      "                  precision    recall  f1-score   support\n",
      "\n",
      "    infringement       1.00      0.96      0.98        49\n",
      "non_infringement       0.96      1.00      0.98        49\n",
      "\n",
      "        accuracy                           0.98        98\n",
      "       macro avg       0.98      0.98      0.98        98\n",
      "    weighted avg       0.98      0.98      0.98        98\n",
      "\n"
     ]
    },
    {
     "name": "stderr",
     "output_type": "stream",
     "text": [
      "Training Epochs:  88%|████████▊ | 1770/2000 [06:02<01:32,  2.47it/s]"
     ]
    },
    {
     "name": "stdout",
     "output_type": "stream",
     "text": [
      "Epoch 1770/2000, Loss: 0.0786\n",
      "Test Accuracy at Epoch 1770: 97.96%\n",
      "Test F1-score at Epoch 1770: 0.9800\n",
      "Classification Report at Epoch 1770:\n",
      "                  precision    recall  f1-score   support\n",
      "\n",
      "    infringement       1.00      0.96      0.98        49\n",
      "non_infringement       0.96      1.00      0.98        49\n",
      "\n",
      "        accuracy                           0.98        98\n",
      "       macro avg       0.98      0.98      0.98        98\n",
      "    weighted avg       0.98      0.98      0.98        98\n",
      "\n"
     ]
    },
    {
     "name": "stderr",
     "output_type": "stream",
     "text": [
      "Training Epochs:  89%|████████▉ | 1780/2000 [06:05<01:24,  2.60it/s]"
     ]
    },
    {
     "name": "stdout",
     "output_type": "stream",
     "text": [
      "Epoch 1780/2000, Loss: 0.0786\n",
      "Test Accuracy at Epoch 1780: 97.96%\n",
      "Test F1-score at Epoch 1780: 0.9800\n",
      "Classification Report at Epoch 1780:\n",
      "                  precision    recall  f1-score   support\n",
      "\n",
      "    infringement       1.00      0.96      0.98        49\n",
      "non_infringement       0.96      1.00      0.98        49\n",
      "\n",
      "        accuracy                           0.98        98\n",
      "       macro avg       0.98      0.98      0.98        98\n",
      "    weighted avg       0.98      0.98      0.98        98\n",
      "\n"
     ]
    },
    {
     "name": "stderr",
     "output_type": "stream",
     "text": [
      "Training Epochs:  90%|████████▉ | 1790/2000 [06:09<01:20,  2.61it/s]"
     ]
    },
    {
     "name": "stdout",
     "output_type": "stream",
     "text": [
      "Epoch 1790/2000, Loss: 0.0786\n",
      "Test Accuracy at Epoch 1790: 97.96%\n",
      "Test F1-score at Epoch 1790: 0.9800\n",
      "Classification Report at Epoch 1790:\n",
      "                  precision    recall  f1-score   support\n",
      "\n",
      "    infringement       1.00      0.96      0.98        49\n",
      "non_infringement       0.96      1.00      0.98        49\n",
      "\n",
      "        accuracy                           0.98        98\n",
      "       macro avg       0.98      0.98      0.98        98\n",
      "    weighted avg       0.98      0.98      0.98        98\n",
      "\n"
     ]
    },
    {
     "name": "stderr",
     "output_type": "stream",
     "text": [
      "Training Epochs:  90%|█████████ | 1800/2000 [06:13<01:20,  2.50it/s]"
     ]
    },
    {
     "name": "stdout",
     "output_type": "stream",
     "text": [
      "Epoch 1800/2000, Loss: 0.0786\n",
      "Test Accuracy at Epoch 1800: 97.96%\n",
      "Test F1-score at Epoch 1800: 0.9800\n",
      "Classification Report at Epoch 1800:\n",
      "                  precision    recall  f1-score   support\n",
      "\n",
      "    infringement       1.00      0.96      0.98        49\n",
      "non_infringement       0.96      1.00      0.98        49\n",
      "\n",
      "        accuracy                           0.98        98\n",
      "       macro avg       0.98      0.98      0.98        98\n",
      "    weighted avg       0.98      0.98      0.98        98\n",
      "\n"
     ]
    },
    {
     "name": "stderr",
     "output_type": "stream",
     "text": [
      "Training Epochs:  90%|█████████ | 1810/2000 [06:17<01:14,  2.54it/s]"
     ]
    },
    {
     "name": "stdout",
     "output_type": "stream",
     "text": [
      "Epoch 1810/2000, Loss: 0.0786\n",
      "Test Accuracy at Epoch 1810: 97.96%\n",
      "Test F1-score at Epoch 1810: 0.9800\n",
      "Classification Report at Epoch 1810:\n",
      "                  precision    recall  f1-score   support\n",
      "\n",
      "    infringement       1.00      0.96      0.98        49\n",
      "non_infringement       0.96      1.00      0.98        49\n",
      "\n",
      "        accuracy                           0.98        98\n",
      "       macro avg       0.98      0.98      0.98        98\n",
      "    weighted avg       0.98      0.98      0.98        98\n",
      "\n"
     ]
    },
    {
     "name": "stderr",
     "output_type": "stream",
     "text": [
      "Training Epochs:  91%|█████████ | 1820/2000 [06:21<01:10,  2.54it/s]"
     ]
    },
    {
     "name": "stdout",
     "output_type": "stream",
     "text": [
      "Epoch 1820/2000, Loss: 0.0786\n",
      "Test Accuracy at Epoch 1820: 97.96%\n",
      "Test F1-score at Epoch 1820: 0.9800\n",
      "Classification Report at Epoch 1820:\n",
      "                  precision    recall  f1-score   support\n",
      "\n",
      "    infringement       1.00      0.96      0.98        49\n",
      "non_infringement       0.96      1.00      0.98        49\n",
      "\n",
      "        accuracy                           0.98        98\n",
      "       macro avg       0.98      0.98      0.98        98\n",
      "    weighted avg       0.98      0.98      0.98        98\n",
      "\n"
     ]
    },
    {
     "name": "stderr",
     "output_type": "stream",
     "text": [
      "Training Epochs:  92%|█████████▏| 1830/2000 [06:24<01:06,  2.55it/s]"
     ]
    },
    {
     "name": "stdout",
     "output_type": "stream",
     "text": [
      "Epoch 1830/2000, Loss: 0.0786\n",
      "Test Accuracy at Epoch 1830: 97.96%\n",
      "Test F1-score at Epoch 1830: 0.9800\n",
      "Classification Report at Epoch 1830:\n",
      "                  precision    recall  f1-score   support\n",
      "\n",
      "    infringement       1.00      0.96      0.98        49\n",
      "non_infringement       0.96      1.00      0.98        49\n",
      "\n",
      "        accuracy                           0.98        98\n",
      "       macro avg       0.98      0.98      0.98        98\n",
      "    weighted avg       0.98      0.98      0.98        98\n",
      "\n"
     ]
    },
    {
     "name": "stderr",
     "output_type": "stream",
     "text": [
      "Training Epochs:  92%|█████████▏| 1840/2000 [06:28<01:02,  2.57it/s]"
     ]
    },
    {
     "name": "stdout",
     "output_type": "stream",
     "text": [
      "Epoch 1840/2000, Loss: 0.0786\n",
      "Test Accuracy at Epoch 1840: 97.96%\n",
      "Test F1-score at Epoch 1840: 0.9800\n",
      "Classification Report at Epoch 1840:\n",
      "                  precision    recall  f1-score   support\n",
      "\n",
      "    infringement       1.00      0.96      0.98        49\n",
      "non_infringement       0.96      1.00      0.98        49\n",
      "\n",
      "        accuracy                           0.98        98\n",
      "       macro avg       0.98      0.98      0.98        98\n",
      "    weighted avg       0.98      0.98      0.98        98\n",
      "\n"
     ]
    },
    {
     "name": "stderr",
     "output_type": "stream",
     "text": [
      "Training Epochs:  92%|█████████▎| 1850/2000 [06:32<01:02,  2.40it/s]"
     ]
    },
    {
     "name": "stdout",
     "output_type": "stream",
     "text": [
      "Epoch 1850/2000, Loss: 0.0786\n",
      "Test Accuracy at Epoch 1850: 97.96%\n",
      "Test F1-score at Epoch 1850: 0.9800\n",
      "Classification Report at Epoch 1850:\n",
      "                  precision    recall  f1-score   support\n",
      "\n",
      "    infringement       1.00      0.96      0.98        49\n",
      "non_infringement       0.96      1.00      0.98        49\n",
      "\n",
      "        accuracy                           0.98        98\n",
      "       macro avg       0.98      0.98      0.98        98\n",
      "    weighted avg       0.98      0.98      0.98        98\n",
      "\n"
     ]
    },
    {
     "name": "stderr",
     "output_type": "stream",
     "text": [
      "Training Epochs:  93%|█████████▎| 1860/2000 [06:36<00:54,  2.56it/s]"
     ]
    },
    {
     "name": "stdout",
     "output_type": "stream",
     "text": [
      "Epoch 1860/2000, Loss: 0.0786\n",
      "Test Accuracy at Epoch 1860: 97.96%\n",
      "Test F1-score at Epoch 1860: 0.9800\n",
      "Classification Report at Epoch 1860:\n",
      "                  precision    recall  f1-score   support\n",
      "\n",
      "    infringement       1.00      0.96      0.98        49\n",
      "non_infringement       0.96      1.00      0.98        49\n",
      "\n",
      "        accuracy                           0.98        98\n",
      "       macro avg       0.98      0.98      0.98        98\n",
      "    weighted avg       0.98      0.98      0.98        98\n",
      "\n"
     ]
    },
    {
     "name": "stderr",
     "output_type": "stream",
     "text": [
      "Training Epochs:  94%|█████████▎| 1870/2000 [06:40<00:50,  2.57it/s]"
     ]
    },
    {
     "name": "stdout",
     "output_type": "stream",
     "text": [
      "Epoch 1870/2000, Loss: 0.0786\n",
      "Test Accuracy at Epoch 1870: 97.96%\n",
      "Test F1-score at Epoch 1870: 0.9800\n",
      "Classification Report at Epoch 1870:\n",
      "                  precision    recall  f1-score   support\n",
      "\n",
      "    infringement       1.00      0.96      0.98        49\n",
      "non_infringement       0.96      1.00      0.98        49\n",
      "\n",
      "        accuracy                           0.98        98\n",
      "       macro avg       0.98      0.98      0.98        98\n",
      "    weighted avg       0.98      0.98      0.98        98\n",
      "\n"
     ]
    },
    {
     "name": "stderr",
     "output_type": "stream",
     "text": [
      "Training Epochs:  94%|█████████▍| 1880/2000 [06:44<00:47,  2.54it/s]"
     ]
    },
    {
     "name": "stdout",
     "output_type": "stream",
     "text": [
      "Epoch 1880/2000, Loss: 0.0786\n",
      "Test Accuracy at Epoch 1880: 97.96%\n",
      "Test F1-score at Epoch 1880: 0.9800\n",
      "Classification Report at Epoch 1880:\n",
      "                  precision    recall  f1-score   support\n",
      "\n",
      "    infringement       1.00      0.96      0.98        49\n",
      "non_infringement       0.96      1.00      0.98        49\n",
      "\n",
      "        accuracy                           0.98        98\n",
      "       macro avg       0.98      0.98      0.98        98\n",
      "    weighted avg       0.98      0.98      0.98        98\n",
      "\n"
     ]
    },
    {
     "name": "stderr",
     "output_type": "stream",
     "text": [
      "Training Epochs:  94%|█████████▍| 1890/2000 [06:48<00:43,  2.55it/s]"
     ]
    },
    {
     "name": "stdout",
     "output_type": "stream",
     "text": [
      "Epoch 1890/2000, Loss: 0.0786\n",
      "Test Accuracy at Epoch 1890: 97.96%\n",
      "Test F1-score at Epoch 1890: 0.9800\n",
      "Classification Report at Epoch 1890:\n",
      "                  precision    recall  f1-score   support\n",
      "\n",
      "    infringement       1.00      0.96      0.98        49\n",
      "non_infringement       0.96      1.00      0.98        49\n",
      "\n",
      "        accuracy                           0.98        98\n",
      "       macro avg       0.98      0.98      0.98        98\n",
      "    weighted avg       0.98      0.98      0.98        98\n",
      "\n"
     ]
    },
    {
     "name": "stderr",
     "output_type": "stream",
     "text": [
      "Training Epochs:  95%|█████████▌| 1900/2000 [06:51<00:39,  2.55it/s]"
     ]
    },
    {
     "name": "stdout",
     "output_type": "stream",
     "text": [
      "Epoch 1900/2000, Loss: 0.0786\n",
      "Test Accuracy at Epoch 1900: 97.96%\n",
      "Test F1-score at Epoch 1900: 0.9800\n",
      "Classification Report at Epoch 1900:\n",
      "                  precision    recall  f1-score   support\n",
      "\n",
      "    infringement       1.00      0.96      0.98        49\n",
      "non_infringement       0.96      1.00      0.98        49\n",
      "\n",
      "        accuracy                           0.98        98\n",
      "       macro avg       0.98      0.98      0.98        98\n",
      "    weighted avg       0.98      0.98      0.98        98\n",
      "\n"
     ]
    },
    {
     "name": "stderr",
     "output_type": "stream",
     "text": [
      "Training Epochs:  96%|█████████▌| 1910/2000 [06:55<00:35,  2.50it/s]"
     ]
    },
    {
     "name": "stdout",
     "output_type": "stream",
     "text": [
      "Epoch 1910/2000, Loss: 0.0786\n",
      "Test Accuracy at Epoch 1910: 97.96%\n",
      "Test F1-score at Epoch 1910: 0.9800\n",
      "Classification Report at Epoch 1910:\n",
      "                  precision    recall  f1-score   support\n",
      "\n",
      "    infringement       1.00      0.96      0.98        49\n",
      "non_infringement       0.96      1.00      0.98        49\n",
      "\n",
      "        accuracy                           0.98        98\n",
      "       macro avg       0.98      0.98      0.98        98\n",
      "    weighted avg       0.98      0.98      0.98        98\n",
      "\n"
     ]
    },
    {
     "name": "stderr",
     "output_type": "stream",
     "text": [
      "Training Epochs:  96%|█████████▌| 1920/2000 [06:59<00:31,  2.53it/s]"
     ]
    },
    {
     "name": "stdout",
     "output_type": "stream",
     "text": [
      "Epoch 1920/2000, Loss: 0.0786\n",
      "Test Accuracy at Epoch 1920: 97.96%\n",
      "Test F1-score at Epoch 1920: 0.9800\n",
      "Classification Report at Epoch 1920:\n",
      "                  precision    recall  f1-score   support\n",
      "\n",
      "    infringement       1.00      0.96      0.98        49\n",
      "non_infringement       0.96      1.00      0.98        49\n",
      "\n",
      "        accuracy                           0.98        98\n",
      "       macro avg       0.98      0.98      0.98        98\n",
      "    weighted avg       0.98      0.98      0.98        98\n",
      "\n"
     ]
    },
    {
     "name": "stderr",
     "output_type": "stream",
     "text": [
      "Training Epochs:  96%|█████████▋| 1930/2000 [07:03<00:27,  2.53it/s]"
     ]
    },
    {
     "name": "stdout",
     "output_type": "stream",
     "text": [
      "Epoch 1930/2000, Loss: 0.0786\n",
      "Test Accuracy at Epoch 1930: 97.96%\n",
      "Test F1-score at Epoch 1930: 0.9800\n",
      "Classification Report at Epoch 1930:\n",
      "                  precision    recall  f1-score   support\n",
      "\n",
      "    infringement       1.00      0.96      0.98        49\n",
      "non_infringement       0.96      1.00      0.98        49\n",
      "\n",
      "        accuracy                           0.98        98\n",
      "       macro avg       0.98      0.98      0.98        98\n",
      "    weighted avg       0.98      0.98      0.98        98\n",
      "\n"
     ]
    },
    {
     "name": "stderr",
     "output_type": "stream",
     "text": [
      "Training Epochs:  97%|█████████▋| 1940/2000 [07:07<00:23,  2.53it/s]"
     ]
    },
    {
     "name": "stdout",
     "output_type": "stream",
     "text": [
      "Epoch 1940/2000, Loss: 0.0786\n",
      "Test Accuracy at Epoch 1940: 97.96%\n",
      "Test F1-score at Epoch 1940: 0.9800\n",
      "Classification Report at Epoch 1940:\n",
      "                  precision    recall  f1-score   support\n",
      "\n",
      "    infringement       1.00      0.96      0.98        49\n",
      "non_infringement       0.96      1.00      0.98        49\n",
      "\n",
      "        accuracy                           0.98        98\n",
      "       macro avg       0.98      0.98      0.98        98\n",
      "    weighted avg       0.98      0.98      0.98        98\n",
      "\n"
     ]
    },
    {
     "name": "stderr",
     "output_type": "stream",
     "text": [
      "Training Epochs:  98%|█████████▊| 1950/2000 [07:11<00:20,  2.47it/s]"
     ]
    },
    {
     "name": "stdout",
     "output_type": "stream",
     "text": [
      "Epoch 1950/2000, Loss: 0.0786\n",
      "Test Accuracy at Epoch 1950: 97.96%\n",
      "Test F1-score at Epoch 1950: 0.9800\n",
      "Classification Report at Epoch 1950:\n",
      "                  precision    recall  f1-score   support\n",
      "\n",
      "    infringement       1.00      0.96      0.98        49\n",
      "non_infringement       0.96      1.00      0.98        49\n",
      "\n",
      "        accuracy                           0.98        98\n",
      "       macro avg       0.98      0.98      0.98        98\n",
      "    weighted avg       0.98      0.98      0.98        98\n",
      "\n"
     ]
    },
    {
     "name": "stderr",
     "output_type": "stream",
     "text": [
      "Training Epochs:  98%|█████████▊| 1960/2000 [07:15<00:16,  2.44it/s]"
     ]
    },
    {
     "name": "stdout",
     "output_type": "stream",
     "text": [
      "Epoch 1960/2000, Loss: 0.0786\n",
      "Test Accuracy at Epoch 1960: 97.96%\n",
      "Test F1-score at Epoch 1960: 0.9800\n",
      "Classification Report at Epoch 1960:\n",
      "                  precision    recall  f1-score   support\n",
      "\n",
      "    infringement       1.00      0.96      0.98        49\n",
      "non_infringement       0.96      1.00      0.98        49\n",
      "\n",
      "        accuracy                           0.98        98\n",
      "       macro avg       0.98      0.98      0.98        98\n",
      "    weighted avg       0.98      0.98      0.98        98\n",
      "\n"
     ]
    },
    {
     "name": "stderr",
     "output_type": "stream",
     "text": [
      "Training Epochs:  98%|█████████▊| 1970/2000 [07:19<00:11,  2.51it/s]"
     ]
    },
    {
     "name": "stdout",
     "output_type": "stream",
     "text": [
      "Epoch 1970/2000, Loss: 0.0786\n",
      "Test Accuracy at Epoch 1970: 97.96%\n",
      "Test F1-score at Epoch 1970: 0.9800\n",
      "Classification Report at Epoch 1970:\n",
      "                  precision    recall  f1-score   support\n",
      "\n",
      "    infringement       1.00      0.96      0.98        49\n",
      "non_infringement       0.96      1.00      0.98        49\n",
      "\n",
      "        accuracy                           0.98        98\n",
      "       macro avg       0.98      0.98      0.98        98\n",
      "    weighted avg       0.98      0.98      0.98        98\n",
      "\n"
     ]
    },
    {
     "name": "stderr",
     "output_type": "stream",
     "text": [
      "Training Epochs:  99%|█████████▉| 1980/2000 [07:23<00:07,  2.53it/s]"
     ]
    },
    {
     "name": "stdout",
     "output_type": "stream",
     "text": [
      "Epoch 1980/2000, Loss: 0.0786\n",
      "Test Accuracy at Epoch 1980: 97.96%\n",
      "Test F1-score at Epoch 1980: 0.9800\n",
      "Classification Report at Epoch 1980:\n",
      "                  precision    recall  f1-score   support\n",
      "\n",
      "    infringement       1.00      0.96      0.98        49\n",
      "non_infringement       0.96      1.00      0.98        49\n",
      "\n",
      "        accuracy                           0.98        98\n",
      "       macro avg       0.98      0.98      0.98        98\n",
      "    weighted avg       0.98      0.98      0.98        98\n",
      "\n"
     ]
    },
    {
     "name": "stderr",
     "output_type": "stream",
     "text": [
      "Training Epochs: 100%|█████████▉| 1990/2000 [07:27<00:03,  2.52it/s]"
     ]
    },
    {
     "name": "stdout",
     "output_type": "stream",
     "text": [
      "Epoch 1990/2000, Loss: 0.0786\n",
      "Test Accuracy at Epoch 1990: 97.96%\n",
      "Test F1-score at Epoch 1990: 0.9800\n",
      "Classification Report at Epoch 1990:\n",
      "                  precision    recall  f1-score   support\n",
      "\n",
      "    infringement       1.00      0.96      0.98        49\n",
      "non_infringement       0.96      1.00      0.98        49\n",
      "\n",
      "        accuracy                           0.98        98\n",
      "       macro avg       0.98      0.98      0.98        98\n",
      "    weighted avg       0.98      0.98      0.98        98\n",
      "\n"
     ]
    },
    {
     "name": "stderr",
     "output_type": "stream",
     "text": [
      "Training Epochs: 100%|██████████| 2000/2000 [07:28<00:00,  4.46it/s]\n",
      "/tmp/ipykernel_3471587/3077705936.py:55: FutureWarning: You are using `torch.load` with `weights_only=False` (the current default value), which uses the default pickle module implicitly. It is possible to construct malicious pickle data which will execute arbitrary code during unpickling (See https://github.com/pytorch/pytorch/blob/main/SECURITY.md#untrusted-models for more details). In a future release, the default value for `weights_only` will be flipped to `True`. This limits the functions that could be executed during unpickling. Arbitrary objects will no longer be allowed to be loaded via this mode unless they are explicitly allowlisted by the user via `torch.serialization.add_safe_globals`. We recommend you start setting `weights_only=True` for any use case where you don't have full control of the loaded file. Please open an issue on GitHub for any issues related to this experimental feature.\n",
      "  custom_mlp.load_state_dict(torch.load(checkpoint_path))\n"
     ]
    },
    {
     "name": "stdout",
     "output_type": "stream",
     "text": [
      "Epoch 2000/2000, Loss: 0.0786\n",
      "Test Accuracy at Epoch 2000: 97.96%\n",
      "Test F1-score at Epoch 2000: 0.9800\n",
      "Classification Report at Epoch 2000:\n",
      "                  precision    recall  f1-score   support\n",
      "\n",
      "    infringement       1.00      0.96      0.98        49\n",
      "non_infringement       0.96      1.00      0.98        49\n",
      "\n",
      "        accuracy                           0.98        98\n",
      "       macro avg       0.98      0.98      0.98        98\n",
      "    weighted avg       0.98      0.98      0.98        98\n",
      "\n"
     ]
    },
    {
     "data": {
      "image/png": "[encoded data removed]",
      "text/plain": [
       "<Figure size 1000x500 with 1 Axes>"
      ]
     },
     "metadata": {},
     "output_type": "display_data"
    },
    {
     "name": "stdout",
     "output_type": "stream",
     "text": [
      "Best Model was saved at epoch 20 with F1-score 0.9800 and accuracy 97.96%\n"
     ]
    }
   ],
   "source": [
    "input_dim = X_train.shape[1]\n",
    "hidden_dim = 256\n",
    "\n",
    "custom_mlp, losses, best_accuracy, best_f1 = train_model(X_train, y_train, X_test, y_test, input_dim, hidden_dim)"
   ]
  },
  {
   "cell_type": "code",
   "execution_count": null,
   "metadata": {},
   "outputs": [
    {
     "name": "stdout",
     "output_type": "stream",
     "text": [
      "Checkpoint saved to '/home/guangwei/LLM-COPYRIGHT/copyright_newVersion/models/train_input_last_token.pth'.\n"
     ]
    }
   ],
   "source": [
    "def save_checkpoint(model, optimizer, epoch, loss, filepath):\n",
    "    checkpoint = {\n",
    "        'epoch': epoch + 1,\n",
    "        'model_state_dict': model.state_dict(),\n",
    "        'optimizer_state_dict': optimizer.state_dict(),\n",
    "        'loss': loss\n",
    "    }\n",
    "    torch.save(checkpoint, filepath)\n",
    "    print(f\"Checkpoint saved to '{filepath}'.\")\n",
    "\n",
    "save_checkpoint(custom_mlp, torch.optim.Adam(custom_mlp.parameters()), len(losses), losses[-1], checkpoint_file)"
   ]
  },
  {
   "cell_type": "code",
   "execution_count": null,
   "metadata": {},
   "outputs": [
    {
     "name": "stdout",
     "output_type": "stream",
     "text": [
      "Final Model Accuracy: 97.96%\n",
      "                  precision    recall  f1-score   support\n",
      "\n",
      "    infringement       1.00      0.96      0.98        49\n",
      "non_infringement       0.96      1.00      0.98        49\n",
      "\n",
      "        accuracy                           0.98        98\n",
      "       macro avg       0.98      0.98      0.98        98\n",
      "    weighted avg       0.98      0.98      0.98        98\n",
      "\n"
     ]
    },
    {
     "name": "stderr",
     "output_type": "stream",
     "text": [
      "/tmp/ipykernel_3471587/3740627605.py:2: UserWarning: To copy construct from a tensor, it is recommended to use sourceTensor.clone().detach() or sourceTensor.clone().detach().requires_grad_(True), rather than torch.tensor(sourceTensor).\n",
      "  y_pred_final = (torch.sigmoid(torch.tensor(custom_mlp(torch.tensor(X_test, dtype=torch.float32)))) > 0.5).float().numpy()\n"
     ]
    }
   ],
   "source": [
    "print(f\"Final Model Accuracy: {best_accuracy * 100:.2f}%\")\n",
    "y_pred_final = (torch.sigmoid(torch.tensor(custom_mlp(torch.tensor(X_test, dtype=torch.float32)))) > 0.5).float().numpy()\n",
    "print(classification_report(y_test, y_pred_final, target_names=[\"infringement\", \"non_infringement\"]))"
   ]
  }
 ],
 "metadata": {
  "kernelspec": {
   "display_name": "zdh",
   "language": "python",
   "name": "python3"
  },
  "language_info": {
   "codemirror_mode": {
    "name": "ipython",
    "version": 3
   },
   "file_extension": ".py",
   "mimetype": "text/x-python",
   "name": "python",
   "nbconvert_exporter": "python",
   "pygments_lexer": "ipython3",
   "version": "3.12.3"
  }
 },
 "nbformat": 4,
 "nbformat_minor": 2
}
