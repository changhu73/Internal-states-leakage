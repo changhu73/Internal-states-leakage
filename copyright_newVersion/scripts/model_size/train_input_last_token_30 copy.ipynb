{
 "cells": [
  {
   "cell_type": "code",
   "execution_count": null,
   "metadata": {},
   "outputs": [
    {
     "name": "stderr",
     "output_type": "stream",
     "text": [
      "/home/guangwei/miniconda3/envs/zdh/lib/python3.12/site-packages/tqdm/auto.py:21: TqdmWarning: IProgress not found. Please update jupyter and ipywidgets. See https://ipywidgets.readthedocs.io/en/stable/user_install.html\n",
      "  from .autonotebook import tqdm as notebook_tqdm\n"
     ]
    },
    {
     "name": "stdout",
     "output_type": "stream",
     "text": [
      "Loading model across multiple GPUs...\n"
     ]
    },
    {
     "name": "stderr",
     "output_type": "stream",
     "text": [
      "/home/guangwei/miniconda3/envs/zdh/lib/python3.12/site-packages/transformers/generation/configuration_utils.py:774: UserWarning: `return_dict_in_generate` is NOT set to `True`, but `output_hidden_states` is. When `return_dict_in_generate` is not `True`, `output_hidden_states` is ignored.\n",
      "  warnings.warn(\n",
      "Loading checkpoint shards: 100%|██████████| 30/30 [01:05<00:00,  2.18s/it]\n"
     ]
    },
    {
     "name": "stdout",
     "output_type": "stream",
     "text": [
      "Model loaded successfully.\n",
      "Extracting hidden states for non-infringement texts...\n"
     ]
    },
    {
     "name": "stderr",
     "output_type": "stream",
     "text": [
      "Processing data batches: 100%|██████████| 148/148 [18:06<00:00,  7.34s/it]\n"
     ]
    },
    {
     "name": "stdout",
     "output_type": "stream",
     "text": [
      "Extracting hidden states for infringement texts...\n"
     ]
    },
    {
     "name": "stderr",
     "output_type": "stream",
     "text": [
      "Processing data batches: 100%|██████████| 42/42 [05:13<00:00,  7.47s/it]\n"
     ]
    },
    {
     "name": "stdout",
     "output_type": "stream",
     "text": [
      "Data successfully split into training and test sets.\n"
     ]
    },
    {
     "name": "stderr",
     "output_type": "stream",
     "text": [
      "Training Epochs:   0%|          | 10/2000 [00:00<00:26, 75.04it/s]"
     ]
    },
    {
     "name": "stdout",
     "output_type": "stream",
     "text": [
      "Epoch 10/2000, Loss: 9.8257\n",
      "Test Accuracy: 33.55%, F1-score: 0.3221\n",
      "New best model saved with Accuracy 33.55%.\n",
      "New best model saved with F1-score 0.3221.\n",
      "Epoch 20/2000, Loss: 0.3904\n"
     ]
    },
    {
     "name": "stderr",
     "output_type": "stream",
     "text": [
      "Training Epochs:   2%|▏         | 30/2000 [00:00<00:14, 136.28it/s]"
     ]
    },
    {
     "name": "stdout",
     "output_type": "stream",
     "text": [
      "Test Accuracy: 74.34%, F1-score: 0.8482\n",
      "New best model saved with Accuracy 74.34%.\n",
      "New best model saved with F1-score 0.8482.\n",
      "Epoch 30/2000, Loss: 0.4034\n",
      "Test Accuracy: 74.34%, F1-score: 0.8482\n",
      "Epoch 40/2000, Loss: 0.4044\n",
      "Test Accuracy: 74.34%, F1-score: 0.8482\n"
     ]
    },
    {
     "name": "stderr",
     "output_type": "stream",
     "text": [
      "Training Epochs:   3%|▎         | 53/2000 [00:00<00:11, 174.96it/s]"
     ]
    },
    {
     "name": "stdout",
     "output_type": "stream",
     "text": [
      "Epoch 50/2000, Loss: 0.4011\n",
      "Test Accuracy: 75.00%, F1-score: 0.8527\n",
      "New best model saved with Accuracy 75.00%.\n",
      "New best model saved with F1-score 0.8527.\n",
      "Epoch 60/2000, Loss: 0.3876\n",
      "Test Accuracy: 74.34%, F1-score: 0.8494\n"
     ]
    },
    {
     "name": "stderr",
     "output_type": "stream",
     "text": [
      "Training Epochs:   5%|▌         | 100/2000 [00:00<00:06, 283.99it/s]"
     ]
    },
    {
     "name": "stdout",
     "output_type": "stream",
     "text": [
      "Epoch 70/2000, Loss: 0.3875\n",
      "Test Accuracy: 74.34%, F1-score: 0.8494\n",
      "Epoch 80/2000, Loss: 0.3855\n",
      "Test Accuracy: 74.34%, F1-score: 0.8494\n",
      "Epoch 90/2000, Loss: 0.3854\n",
      "Test Accuracy: 74.34%, F1-score: 0.8494\n",
      "Epoch 100/2000, Loss: 0.3849\n",
      "Test Accuracy: 74.34%, F1-score: 0.8494\n",
      "Epoch 110/2000, Loss: 0.3849\n",
      "Test Accuracy: 74.34%, F1-score: 0.8494\n"
     ]
    },
    {
     "name": "stderr",
     "output_type": "stream",
     "text": [
      "Training Epochs:   7%|▋         | 147/2000 [00:00<00:05, 347.40it/s]"
     ]
    },
    {
     "name": "stdout",
     "output_type": "stream",
     "text": [
      "Epoch 120/2000, Loss: 0.3848\n",
      "Test Accuracy: 74.34%, F1-score: 0.8494\n",
      "Epoch 130/2000, Loss: 0.3848\n",
      "Test Accuracy: 74.34%, F1-score: 0.8494\n",
      "Epoch 140/2000, Loss: 0.3847\n",
      "Test Accuracy: 74.34%, F1-score: 0.8494\n",
      "Epoch 150/2000, Loss: 0.3847\n",
      "Test Accuracy: 74.34%, F1-score: 0.8494\n",
      "Epoch 160/2000, Loss: 0.3847\n",
      "Test Accuracy: 74.34%, F1-score: 0.8494\n",
      "Epoch 170/2000, Loss: 0.3847\n",
      "Test Accuracy: 74.34%, F1-score: 0.8494\n",
      "Epoch 180/2000, Loss: 0.3847\n",
      "Test Accuracy: 74.34%, F1-score: 0.8494\n",
      "Epoch 190/2000, Loss: 0.3846\n",
      "Test Accuracy: 74.34%, F1-score: 0.8494\n",
      "Epoch 200/2000, Loss: 0.3846\n",
      "Test Accuracy: 75.66%, F1-score: 0.8582\n",
      "New best model saved with Accuracy 75.66%.\n"
     ]
    },
    {
     "name": "stderr",
     "output_type": "stream",
     "text": [
      "Training Epochs:  10%|█         | 200/2000 [00:00<00:05, 344.21it/s]"
     ]
    },
    {
     "name": "stdout",
     "output_type": "stream",
     "text": [
      "New best model saved with F1-score 0.8582.\n",
      "Epoch 210/2000, Loss: 0.3846\n",
      "Test Accuracy: 75.66%, F1-score: 0.8582\n",
      "Epoch 220/2000, Loss: 0.3846\n",
      "Test Accuracy: 75.66%, F1-score: 0.8582\n",
      "Epoch 230/2000, Loss: 0.3845\n",
      "Test Accuracy: 75.66%, F1-score: 0.8582\n",
      "Epoch 240/2000, Loss: 0.3845\n",
      "Test Accuracy: 75.66%, F1-score: 0.8582\n",
      "Epoch 250/2000, Loss: 0.3845\n"
     ]
    },
    {
     "name": "stderr",
     "output_type": "stream",
     "text": [
      "Training Epochs:  13%|█▎        | 256/2000 [00:00<00:04, 404.39it/s]"
     ]
    },
    {
     "name": "stdout",
     "output_type": "stream",
     "text": [
      "Test Accuracy: 75.66%, F1-score: 0.8582\n",
      "Epoch 260/2000, Loss: 0.3845\n",
      "Test Accuracy: 75.66%, F1-score: 0.8582\n",
      "Epoch 270/2000, Loss: 0.3844\n",
      "Test Accuracy: 75.66%, F1-score: 0.8582\n",
      "Epoch 280/2000, Loss: 0.3844\n",
      "Test Accuracy: 75.66%, F1-score: 0.8582\n",
      "Epoch 290/2000, Loss: 0.3844\n",
      "Test Accuracy: 75.66%, F1-score: 0.8582\n",
      "Epoch 300/2000, Loss: 0.3843\n",
      "Test Accuracy: 75.66%, F1-score: 0.8582\n",
      "Epoch 310/2000, Loss: 0.3843\n",
      "Test Accuracy: 75.66%, F1-score: 0.8582\n"
     ]
    },
    {
     "name": "stderr",
     "output_type": "stream",
     "text": [
      "Training Epochs:  16%|█▌        | 312/2000 [00:00<00:03, 449.30it/s]"
     ]
    },
    {
     "name": "stdout",
     "output_type": "stream",
     "text": [
      "Epoch 320/2000, Loss: 0.3843\n",
      "Test Accuracy: 75.66%, F1-score: 0.8582\n",
      "Epoch 330/2000, Loss: 0.3842\n",
      "Test Accuracy: 75.66%, F1-score: 0.8582\n",
      "Epoch 340/2000, Loss: 0.3842\n",
      "Test Accuracy: 76.32%, F1-score: 0.8626\n",
      "New best model saved with Accuracy 76.32%.\n"
     ]
    },
    {
     "name": "stderr",
     "output_type": "stream",
     "text": [
      "Training Epochs:  18%|█▊        | 359/2000 [00:01<00:03, 410.64it/s]"
     ]
    },
    {
     "name": "stdout",
     "output_type": "stream",
     "text": [
      "New best model saved with F1-score 0.8626.\n",
      "Epoch 350/2000, Loss: 0.3842\n",
      "Test Accuracy: 76.32%, F1-score: 0.8626\n",
      "Epoch 360/2000, Loss: 0.3841\n",
      "Test Accuracy: 76.32%, F1-score: 0.8626\n",
      "Epoch 370/2000, Loss: 0.3841\n",
      "Test Accuracy: 76.32%, F1-score: 0.8626\n",
      "Epoch 380/2000, Loss: 0.3841\n",
      "Test Accuracy: 76.32%, F1-score: 0.8626\n",
      "Epoch 390/2000, Loss: 0.3840\n",
      "Test Accuracy: 76.32%, F1-score: 0.8626\n",
      "Epoch 400/2000, Loss: 0.3840\n"
     ]
    },
    {
     "name": "stderr",
     "output_type": "stream",
     "text": [
      "Training Epochs:  21%|██        | 416/2000 [00:01<00:03, 453.44it/s]"
     ]
    },
    {
     "name": "stdout",
     "output_type": "stream",
     "text": [
      "Test Accuracy: 76.32%, F1-score: 0.8626\n",
      "Epoch 410/2000, Loss: 0.3839\n",
      "Test Accuracy: 76.32%, F1-score: 0.8626\n",
      "Epoch 420/2000, Loss: 0.3839\n",
      "Test Accuracy: 76.32%, F1-score: 0.8626\n",
      "Epoch 430/2000, Loss: 0.3839\n",
      "Test Accuracy: 76.32%, F1-score: 0.8626\n",
      "Epoch 440/2000, Loss: 0.3838\n",
      "Test Accuracy: 76.32%, F1-score: 0.8626\n",
      "Epoch 450/2000, Loss: 0.3838\n",
      "Test Accuracy: 76.32%, F1-score: 0.8626\n"
     ]
    },
    {
     "name": "stderr",
     "output_type": "stream",
     "text": [
      "Training Epochs:  24%|██▎       | 472/2000 [00:01<00:03, 483.13it/s]"
     ]
    },
    {
     "name": "stdout",
     "output_type": "stream",
     "text": [
      "Epoch 460/2000, Loss: 0.3837\n",
      "Test Accuracy: 76.32%, F1-score: 0.8626\n",
      "Epoch 470/2000, Loss: 0.3837\n",
      "Test Accuracy: 76.32%, F1-score: 0.8626\n",
      "Epoch 480/2000, Loss: 0.3836\n",
      "Test Accuracy: 76.32%, F1-score: 0.8626\n",
      "Epoch 490/2000, Loss: 0.3836\n",
      "Test Accuracy: 76.32%, F1-score: 0.8626\n",
      "Epoch 500/2000, Loss: 0.3835\n",
      "Test Accuracy: 76.32%, F1-score: 0.8626\n",
      "Epoch 510/2000, Loss: 0.3835\n",
      "Test Accuracy: 76.32%, F1-score: 0.8626\n"
     ]
    },
    {
     "name": "stderr",
     "output_type": "stream",
     "text": [
      "Training Epochs:  26%|██▋       | 530/2000 [00:01<00:02, 504.48it/s]"
     ]
    },
    {
     "name": "stdout",
     "output_type": "stream",
     "text": [
      "Epoch 520/2000, Loss: 0.3834\n",
      "Test Accuracy: 76.32%, F1-score: 0.8626\n",
      "Epoch 530/2000, Loss: 0.3833\n",
      "Test Accuracy: 76.32%, F1-score: 0.8626\n",
      "Epoch 540/2000, Loss: 0.3833\n",
      "Test Accuracy: 75.66%, F1-score: 0.8593\n",
      "Epoch 550/2000, Loss: 0.3832\n",
      "Test Accuracy: 75.66%, F1-score: 0.8593\n",
      "Epoch 560/2000, Loss: 0.3832\n",
      "Test Accuracy: 75.66%, F1-score: 0.8593\n",
      "Epoch 570/2000, Loss: 0.3831\n",
      "Test Accuracy: 75.66%, F1-score: 0.8593\n"
     ]
    },
    {
     "name": "stderr",
     "output_type": "stream",
     "text": [
      "Training Epochs:  29%|██▉       | 589/2000 [00:01<00:02, 528.14it/s]"
     ]
    },
    {
     "name": "stdout",
     "output_type": "stream",
     "text": [
      "Epoch 580/2000, Loss: 0.3830\n",
      "Test Accuracy: 75.66%, F1-score: 0.8593\n",
      "Epoch 590/2000, Loss: 0.3830\n",
      "Test Accuracy: 75.66%, F1-score: 0.8593\n",
      "Epoch 600/2000, Loss: 0.3829\n",
      "Test Accuracy: 75.66%, F1-score: 0.8593\n",
      "Epoch 610/2000, Loss: 0.3828\n",
      "Test Accuracy: 75.66%, F1-score: 0.8593\n",
      "Epoch 620/2000, Loss: 0.3827\n",
      "Test Accuracy: 75.66%, F1-score: 0.8593\n",
      "Epoch 630/2000, Loss: 0.3826\n",
      "Test Accuracy: 75.66%, F1-score: 0.8593\n"
     ]
    },
    {
     "name": "stderr",
     "output_type": "stream",
     "text": [
      "Training Epochs:  32%|███▏      | 644/2000 [00:01<00:02, 533.85it/s]"
     ]
    },
    {
     "name": "stdout",
     "output_type": "stream",
     "text": [
      "Epoch 640/2000, Loss: 0.3826\n",
      "Test Accuracy: 75.66%, F1-score: 0.8593\n",
      "Epoch 650/2000, Loss: 0.3825\n",
      "Test Accuracy: 75.66%, F1-score: 0.8593\n",
      "Epoch 660/2000, Loss: 0.3824\n",
      "Test Accuracy: 75.66%, F1-score: 0.8593\n",
      "Epoch 670/2000, Loss: 0.3823\n",
      "Test Accuracy: 75.66%, F1-score: 0.8593\n",
      "Epoch 680/2000, Loss: 0.3822\n",
      "Test Accuracy: 75.66%, F1-score: 0.8593\n",
      "Epoch 690/2000, Loss: 0.3821\n",
      "Test Accuracy: 75.66%, F1-score: 0.8593\n"
     ]
    },
    {
     "name": "stderr",
     "output_type": "stream",
     "text": [
      "Training Epochs:  35%|███▌      | 700/2000 [00:01<00:02, 501.80it/s]"
     ]
    },
    {
     "name": "stdout",
     "output_type": "stream",
     "text": [
      "Epoch 700/2000, Loss: 0.3820\n",
      "Test Accuracy: 76.32%, F1-score: 0.8636\n",
      "New best model saved with F1-score 0.8636.\n",
      "Epoch 710/2000, Loss: 0.3819\n",
      "Test Accuracy: 76.32%, F1-score: 0.8636\n",
      "Epoch 720/2000, Loss: 0.3817\n",
      "Test Accuracy: 76.32%, F1-score: 0.8636\n",
      "Epoch 730/2000, Loss: 0.3816\n",
      "Test Accuracy: 76.32%, F1-score: 0.8636\n"
     ]
    },
    {
     "name": "stderr",
     "output_type": "stream",
     "text": [
      "Training Epochs:  38%|███▊      | 753/2000 [00:01<00:02, 509.67it/s]"
     ]
    },
    {
     "name": "stdout",
     "output_type": "stream",
     "text": [
      "Epoch 740/2000, Loss: 0.3815\n",
      "Test Accuracy: 76.32%, F1-score: 0.8636\n",
      "Epoch 750/2000, Loss: 0.3813\n",
      "Test Accuracy: 76.32%, F1-score: 0.8636\n",
      "Epoch 760/2000, Loss: 0.3812\n",
      "Test Accuracy: 76.32%, F1-score: 0.8636\n",
      "Epoch 770/2000, Loss: 0.3810\n",
      "Test Accuracy: 76.32%, F1-score: 0.8636\n",
      "Epoch 780/2000, Loss: 0.3808\n",
      "Test Accuracy: 76.32%, F1-score: 0.8636\n",
      "Epoch 790/2000, Loss: 0.3806\n",
      "Test Accuracy: 76.32%, F1-score: 0.8636\n"
     ]
    },
    {
     "name": "stderr",
     "output_type": "stream",
     "text": [
      "Training Epochs:  40%|████      | 810/2000 [00:01<00:02, 520.67it/s]"
     ]
    },
    {
     "name": "stdout",
     "output_type": "stream",
     "text": [
      "Epoch 800/2000, Loss: 0.3804\n",
      "Test Accuracy: 76.32%, F1-score: 0.8636\n",
      "Epoch 810/2000, Loss: 0.3802\n",
      "Test Accuracy: 76.32%, F1-score: 0.8636\n",
      "Epoch 820/2000, Loss: 0.3799\n",
      "Test Accuracy: 76.32%, F1-score: 0.8636\n",
      "Epoch 830/2000, Loss: 0.3797\n",
      "Test Accuracy: 75.66%, F1-score: 0.8593\n",
      "Epoch 840/2000, Loss: 0.3794\n",
      "Test Accuracy: 75.00%, F1-score: 0.8550\n",
      "Epoch 850/2000, Loss: 0.3791\n",
      "Test Accuracy: 75.00%, F1-score: 0.8550\n"
     ]
    },
    {
     "name": "stderr",
     "output_type": "stream",
     "text": [
      "Training Epochs:  43%|████▎     | 869/2000 [00:01<00:02, 538.81it/s]"
     ]
    },
    {
     "name": "stdout",
     "output_type": "stream",
     "text": [
      "Epoch 860/2000, Loss: 0.3788\n",
      "Test Accuracy: 75.00%, F1-score: 0.8550\n",
      "Epoch 870/2000, Loss: 0.3785\n",
      "Test Accuracy: 75.00%, F1-score: 0.8550\n",
      "Epoch 880/2000, Loss: 0.3782\n",
      "Test Accuracy: 75.00%, F1-score: 0.8550\n",
      "Epoch 890/2000, Loss: 0.3779\n",
      "Test Accuracy: 75.00%, F1-score: 0.8550\n",
      "Epoch 900/2000, Loss: 0.3775\n",
      "Test Accuracy: 75.00%, F1-score: 0.8550\n",
      "Epoch 910/2000, Loss: 0.3771\n"
     ]
    },
    {
     "name": "stderr",
     "output_type": "stream",
     "text": [
      "Training Epochs:  46%|████▌     | 924/2000 [00:02<00:02, 530.12it/s]"
     ]
    },
    {
     "name": "stdout",
     "output_type": "stream",
     "text": [
      "Test Accuracy: 75.66%, F1-score: 0.8593\n",
      "Epoch 920/2000, Loss: 0.3767\n",
      "Test Accuracy: 75.66%, F1-score: 0.8593\n",
      "Epoch 930/2000, Loss: 0.3832\n",
      "Test Accuracy: 75.66%, F1-score: 0.8593\n",
      "Epoch 940/2000, Loss: 0.3907\n",
      "Test Accuracy: 75.66%, F1-score: 0.8593\n",
      "Epoch 950/2000, Loss: 0.3798\n",
      "Test Accuracy: 76.32%, F1-score: 0.8636\n",
      "Epoch 960/2000, Loss: 0.3787\n",
      "Test Accuracy: 76.32%, F1-score: 0.8636\n",
      "Epoch 970/2000, Loss: 0.3774\n",
      "Test Accuracy: 76.32%, F1-score: 0.8636\n"
     ]
    },
    {
     "name": "stderr",
     "output_type": "stream",
     "text": [
      "Training Epochs:  49%|████▉     | 981/2000 [00:02<00:01, 537.06it/s]"
     ]
    },
    {
     "name": "stdout",
     "output_type": "stream",
     "text": [
      "Epoch 980/2000, Loss: 0.3772\n",
      "Test Accuracy: 76.32%, F1-score: 0.8636\n",
      "Epoch 990/2000, Loss: 0.3767\n",
      "Test Accuracy: 76.32%, F1-score: 0.8636\n",
      "Epoch 1000/2000, Loss: 0.3764\n",
      "Test Accuracy: 76.32%, F1-score: 0.8636\n",
      "Epoch 1010/2000, Loss: 0.4059\n",
      "Test Accuracy: 76.32%, F1-score: 0.8636\n",
      "Epoch 1020/2000, Loss: 0.3770\n",
      "Test Accuracy: 76.32%, F1-score: 0.8636\n"
     ]
    },
    {
     "name": "stderr",
     "output_type": "stream",
     "text": [
      "Training Epochs:  52%|█████▏    | 1037/2000 [00:02<00:01, 541.69it/s]"
     ]
    },
    {
     "name": "stdout",
     "output_type": "stream",
     "text": [
      "Epoch 1030/2000, Loss: 0.3785\n",
      "Test Accuracy: 76.32%, F1-score: 0.8636\n",
      "Epoch 1040/2000, Loss: 0.3770\n",
      "Test Accuracy: 76.32%, F1-score: 0.8636\n",
      "Epoch 1050/2000, Loss: 0.3760\n",
      "Test Accuracy: 76.32%, F1-score: 0.8636\n",
      "Epoch 1060/2000, Loss: 0.3758\n",
      "Test Accuracy: 76.97%, F1-score: 0.8679\n",
      "New best model saved with Accuracy 76.97%.\n"
     ]
    },
    {
     "name": "stderr",
     "output_type": "stream",
     "text": [
      "Training Epochs:  55%|█████▍    | 1092/2000 [00:02<00:01, 466.68it/s]"
     ]
    },
    {
     "name": "stdout",
     "output_type": "stream",
     "text": [
      "New best model saved with F1-score 0.8679.\n",
      "Epoch 1070/2000, Loss: 0.3750\n",
      "Test Accuracy: 76.97%, F1-score: 0.8679\n",
      "Epoch 1080/2000, Loss: 0.4116\n",
      "Test Accuracy: 76.32%, F1-score: 0.8636\n",
      "Epoch 1090/2000, Loss: 0.7856\n",
      "Test Accuracy: 76.97%, F1-score: 0.8679\n",
      "Epoch 1100/2000, Loss: 0.3924\n",
      "Test Accuracy: 76.97%, F1-score: 0.8679\n"
     ]
    },
    {
     "name": "stderr",
     "output_type": "stream",
     "text": [
      "Training Epochs:  57%|█████▊    | 1150/2000 [00:02<00:01, 493.03it/s]"
     ]
    },
    {
     "name": "stdout",
     "output_type": "stream",
     "text": [
      "Epoch 1110/2000, Loss: 0.3846\n",
      "Test Accuracy: 76.97%, F1-score: 0.8679\n",
      "Epoch 1120/2000, Loss: 0.3846\n",
      "Test Accuracy: 76.97%, F1-score: 0.8679\n",
      "Epoch 1130/2000, Loss: 0.3838\n",
      "Test Accuracy: 76.97%, F1-score: 0.8679\n",
      "Epoch 1140/2000, Loss: 0.3834\n",
      "Test Accuracy: 76.97%, F1-score: 0.8679\n",
      "Epoch 1150/2000, Loss: 0.3833\n",
      "Test Accuracy: 76.97%, F1-score: 0.8679\n",
      "Epoch 1160/2000, Loss: 0.3833\n",
      "Test Accuracy: 76.97%, F1-score: 0.8679\n",
      "Epoch 1170/2000, Loss: 0.3833\n"
     ]
    },
    {
     "name": "stderr",
     "output_type": "stream",
     "text": [
      "Training Epochs:  60%|██████    | 1203/2000 [00:02<00:01, 502.82it/s]"
     ]
    },
    {
     "name": "stdout",
     "output_type": "stream",
     "text": [
      "Test Accuracy: 76.97%, F1-score: 0.8679\n",
      "Epoch 1180/2000, Loss: 0.3832\n",
      "Test Accuracy: 76.97%, F1-score: 0.8679\n",
      "Epoch 1190/2000, Loss: 0.3832\n",
      "Test Accuracy: 76.97%, F1-score: 0.8679\n",
      "Epoch 1200/2000, Loss: 0.3831\n",
      "Test Accuracy: 76.97%, F1-score: 0.8679\n",
      "Epoch 1210/2000, Loss: 0.3831\n",
      "Test Accuracy: 76.97%, F1-score: 0.8679\n"
     ]
    },
    {
     "name": "stderr",
     "output_type": "stream",
     "text": [
      "Training Epochs:  63%|██████▎   | 1260/2000 [00:02<00:01, 519.67it/s]"
     ]
    },
    {
     "name": "stdout",
     "output_type": "stream",
     "text": [
      "Epoch 1220/2000, Loss: 0.3830\n",
      "Test Accuracy: 76.97%, F1-score: 0.8679\n",
      "Epoch 1230/2000, Loss: 0.3830\n",
      "Test Accuracy: 76.97%, F1-score: 0.8679\n",
      "Epoch 1240/2000, Loss: 0.3829\n",
      "Test Accuracy: 76.97%, F1-score: 0.8679\n",
      "Epoch 1250/2000, Loss: 0.3829\n",
      "Test Accuracy: 76.97%, F1-score: 0.8679\n",
      "Epoch 1260/2000, Loss: 0.3828\n",
      "Test Accuracy: 76.97%, F1-score: 0.8679\n",
      "Epoch 1270/2000, Loss: 0.3827\n",
      "Test Accuracy: 76.97%, F1-score: 0.8679\n",
      "Epoch 1280/2000, Loss: 0.3826\n",
      "Test Accuracy: 76.97%, F1-score: 0.8679\n"
     ]
    },
    {
     "name": "stderr",
     "output_type": "stream",
     "text": [
      "Training Epochs:  66%|██████▌   | 1315/2000 [00:02<00:01, 526.92it/s]"
     ]
    },
    {
     "name": "stdout",
     "output_type": "stream",
     "text": [
      "Epoch 1290/2000, Loss: 0.3825\n",
      "Test Accuracy: 76.97%, F1-score: 0.8679\n",
      "Epoch 1300/2000, Loss: 0.3823\n",
      "Test Accuracy: 76.97%, F1-score: 0.8679\n",
      "Epoch 1310/2000, Loss: 0.3822\n",
      "Test Accuracy: 76.97%, F1-score: 0.8679\n",
      "Epoch 1320/2000, Loss: 0.3820\n",
      "Test Accuracy: 76.97%, F1-score: 0.8679\n",
      "Epoch 1330/2000, Loss: 0.3818\n"
     ]
    },
    {
     "name": "stderr",
     "output_type": "stream",
     "text": [
      "Training Epochs:  69%|██████▊   | 1371/2000 [00:02<00:01, 534.41it/s]"
     ]
    },
    {
     "name": "stdout",
     "output_type": "stream",
     "text": [
      "Test Accuracy: 76.97%, F1-score: 0.8679\n",
      "Epoch 1340/2000, Loss: 0.3816\n",
      "Test Accuracy: 76.97%, F1-score: 0.8679\n",
      "Epoch 1350/2000, Loss: 0.3813\n",
      "Test Accuracy: 76.97%, F1-score: 0.8679\n",
      "Epoch 1360/2000, Loss: 0.3811\n",
      "Test Accuracy: 76.97%, F1-score: 0.8679\n",
      "Epoch 1370/2000, Loss: 0.3808\n",
      "Test Accuracy: 76.97%, F1-score: 0.8679\n",
      "Epoch 1380/2000, Loss: 0.3804\n",
      "Test Accuracy: 76.97%, F1-score: 0.8679\n",
      "Epoch 1390/2000, Loss: 0.3800\n",
      "Test Accuracy: 76.97%, F1-score: 0.8679\n",
      "Epoch 1400/2000, Loss: 0.3796\n"
     ]
    },
    {
     "name": "stderr",
     "output_type": "stream",
     "text": [
      "Training Epochs:  71%|███████▏  | 1426/2000 [00:03<00:01, 538.93it/s]"
     ]
    },
    {
     "name": "stdout",
     "output_type": "stream",
     "text": [
      "Test Accuracy: 76.97%, F1-score: 0.8679\n",
      "Epoch 1410/2000, Loss: 0.3791\n",
      "Test Accuracy: 76.97%, F1-score: 0.8679\n",
      "Epoch 1420/2000, Loss: 0.3785\n",
      "Test Accuracy: 76.97%, F1-score: 0.8679\n",
      "Epoch 1430/2000, Loss: 0.6310\n",
      "Test Accuracy: 76.97%, F1-score: 0.8679\n",
      "Epoch 1440/2000, Loss: 0.4097\n",
      "Test Accuracy: 76.97%, F1-score: 0.8679\n"
     ]
    },
    {
     "name": "stderr",
     "output_type": "stream",
     "text": [
      "Training Epochs:  74%|███████▍  | 1481/2000 [00:03<00:00, 536.85it/s]"
     ]
    },
    {
     "name": "stdout",
     "output_type": "stream",
     "text": [
      "Epoch 1450/2000, Loss: 0.3881\n",
      "Test Accuracy: 76.97%, F1-score: 0.8679\n",
      "Epoch 1460/2000, Loss: 0.3829\n",
      "Test Accuracy: 76.97%, F1-score: 0.8679\n",
      "Epoch 1470/2000, Loss: 0.3829\n",
      "Test Accuracy: 76.97%, F1-score: 0.8679\n",
      "Epoch 1480/2000, Loss: 0.3827\n",
      "Test Accuracy: 76.97%, F1-score: 0.8679\n",
      "Epoch 1490/2000, Loss: 0.3824\n",
      "Test Accuracy: 76.97%, F1-score: 0.8679\n",
      "Epoch 1500/2000, Loss: 0.3823\n",
      "Test Accuracy: 76.97%, F1-score: 0.8679\n"
     ]
    },
    {
     "name": "stderr",
     "output_type": "stream",
     "text": [
      "Training Epochs:  77%|███████▋  | 1535/2000 [00:03<00:00, 523.69it/s]"
     ]
    },
    {
     "name": "stdout",
     "output_type": "stream",
     "text": [
      "Epoch 1510/2000, Loss: 0.3822\n",
      "Test Accuracy: 76.97%, F1-score: 0.8679\n",
      "Epoch 1520/2000, Loss: 0.3821\n",
      "Test Accuracy: 76.97%, F1-score: 0.8679\n",
      "Epoch 1530/2000, Loss: 0.3820\n",
      "Test Accuracy: 76.97%, F1-score: 0.8679\n",
      "Epoch 1540/2000, Loss: 0.3818\n",
      "Test Accuracy: 76.97%, F1-score: 0.8679\n",
      "Epoch 1550/2000, Loss: 0.3817\n",
      "Test Accuracy: 76.97%, F1-score: 0.8679\n"
     ]
    },
    {
     "name": "stderr",
     "output_type": "stream",
     "text": [
      "Training Epochs:  80%|███████▉  | 1592/2000 [00:03<00:00, 536.93it/s]"
     ]
    },
    {
     "name": "stdout",
     "output_type": "stream",
     "text": [
      "Epoch 1560/2000, Loss: 0.3816\n",
      "Test Accuracy: 76.97%, F1-score: 0.8679\n",
      "Epoch 1570/2000, Loss: 0.3815\n",
      "Test Accuracy: 76.97%, F1-score: 0.8679\n",
      "Epoch 1580/2000, Loss: 0.3813\n",
      "Test Accuracy: 76.97%, F1-score: 0.8679\n",
      "Epoch 1590/2000, Loss: 0.3812\n",
      "Test Accuracy: 76.97%, F1-score: 0.8679\n",
      "Epoch 1600/2000, Loss: 0.3810\n",
      "Test Accuracy: 76.97%, F1-score: 0.8679\n",
      "Epoch 1610/2000, Loss: 0.3808\n",
      "Test Accuracy: 76.97%, F1-score: 0.8679\n"
     ]
    },
    {
     "name": "stderr",
     "output_type": "stream",
     "text": [
      "Training Epochs:  82%|████████▏ | 1646/2000 [00:03<00:00, 535.80it/s]"
     ]
    },
    {
     "name": "stdout",
     "output_type": "stream",
     "text": [
      "Epoch 1620/2000, Loss: 0.3806\n",
      "Test Accuracy: 76.97%, F1-score: 0.8679\n",
      "Epoch 1630/2000, Loss: 0.3804\n",
      "Test Accuracy: 76.97%, F1-score: 0.8679\n",
      "Epoch 1640/2000, Loss: 0.3801\n",
      "Test Accuracy: 76.97%, F1-score: 0.8679\n",
      "Epoch 1650/2000, Loss: 0.3799\n",
      "Test Accuracy: 76.97%, F1-score: 0.8679\n",
      "Epoch 1660/2000, Loss: 0.3796\n",
      "Test Accuracy: 76.97%, F1-score: 0.8679\n"
     ]
    },
    {
     "name": "stderr",
     "output_type": "stream",
     "text": [
      "Training Epochs:  85%|████████▌ | 1703/2000 [00:03<00:00, 545.39it/s]"
     ]
    },
    {
     "name": "stdout",
     "output_type": "stream",
     "text": [
      "Epoch 1670/2000, Loss: 0.3793\n",
      "Test Accuracy: 76.97%, F1-score: 0.8679\n",
      "Epoch 1680/2000, Loss: 0.3789\n",
      "Test Accuracy: 76.97%, F1-score: 0.8679\n",
      "Epoch 1690/2000, Loss: 0.3785\n",
      "Test Accuracy: 76.97%, F1-score: 0.8679\n",
      "Epoch 1700/2000, Loss: 0.3781\n",
      "Test Accuracy: 76.97%, F1-score: 0.8679\n",
      "Epoch 1710/2000, Loss: 0.3776\n",
      "Test Accuracy: 76.97%, F1-score: 0.8679\n",
      "Epoch 1720/2000, Loss: 0.3771\n",
      "Test Accuracy: 76.97%, F1-score: 0.8679\n",
      "Epoch 1730/2000, Loss: 0.3764\n",
      "Test Accuracy: 76.97%, F1-score: 0.8679\n"
     ]
    },
    {
     "name": "stderr",
     "output_type": "stream",
     "text": [
      "Training Epochs:  88%|████████▊ | 1760/2000 [00:03<00:00, 546.75it/s]"
     ]
    },
    {
     "name": "stdout",
     "output_type": "stream",
     "text": [
      "Epoch 1740/2000, Loss: 0.3757\n",
      "Test Accuracy: 76.97%, F1-score: 0.8679\n",
      "Epoch 1750/2000, Loss: 0.3749\n",
      "Test Accuracy: 76.32%, F1-score: 0.8636\n",
      "Epoch 1760/2000, Loss: 0.6518\n",
      "Test Accuracy: 76.97%, F1-score: 0.8679\n",
      "Epoch 1770/2000, Loss: 0.4751\n",
      "Test Accuracy: 70.39%, F1-score: 0.8148\n",
      "Epoch 1780/2000, Loss: 0.3895\n",
      "Test Accuracy: 76.32%, F1-score: 0.8636\n"
     ]
    },
    {
     "name": "stderr",
     "output_type": "stream",
     "text": [
      "Training Epochs:  91%|█████████ | 1819/2000 [00:03<00:00, 557.29it/s]"
     ]
    },
    {
     "name": "stdout",
     "output_type": "stream",
     "text": [
      "Epoch 1790/2000, Loss: 0.3853\n",
      "Test Accuracy: 75.66%, F1-score: 0.8593\n",
      "Epoch 1800/2000, Loss: 0.3848\n",
      "Test Accuracy: 75.66%, F1-score: 0.8593\n",
      "Epoch 1810/2000, Loss: 0.3843\n",
      "Test Accuracy: 75.66%, F1-score: 0.8593\n",
      "Epoch 1820/2000, Loss: 0.3842\n",
      "Test Accuracy: 76.32%, F1-score: 0.8636\n",
      "Epoch 1830/2000, Loss: 0.3841\n",
      "Test Accuracy: 76.32%, F1-score: 0.8636\n",
      "Epoch 1840/2000, Loss: 0.3840\n",
      "Test Accuracy: 76.32%, F1-score: 0.8636\n",
      "Epoch 1850/2000, Loss: 0.3840\n",
      "Test Accuracy: 76.32%, F1-score: 0.8636\n"
     ]
    },
    {
     "name": "stderr",
     "output_type": "stream",
     "text": [
      "Training Epochs:  94%|█████████▍| 1875/2000 [00:03<00:00, 549.07it/s]"
     ]
    },
    {
     "name": "stdout",
     "output_type": "stream",
     "text": [
      "Epoch 1860/2000, Loss: 0.3839\n",
      "Test Accuracy: 76.32%, F1-score: 0.8636\n",
      "Epoch 1870/2000, Loss: 0.3838\n",
      "Test Accuracy: 76.32%, F1-score: 0.8636\n",
      "Epoch 1880/2000, Loss: 0.3837\n",
      "Test Accuracy: 76.32%, F1-score: 0.8636\n",
      "Epoch 1890/2000, Loss: 0.3836\n",
      "Test Accuracy: 76.32%, F1-score: 0.8636\n"
     ]
    },
    {
     "name": "stderr",
     "output_type": "stream",
     "text": [
      "Training Epochs:  96%|█████████▋| 1930/2000 [00:03<00:00, 546.59it/s]"
     ]
    },
    {
     "name": "stdout",
     "output_type": "stream",
     "text": [
      "Epoch 1900/2000, Loss: 0.3835\n",
      "Test Accuracy: 76.32%, F1-score: 0.8636\n",
      "Epoch 1910/2000, Loss: 0.3834\n",
      "Test Accuracy: 76.32%, F1-score: 0.8636\n",
      "Epoch 1920/2000, Loss: 0.3833\n",
      "Test Accuracy: 76.32%, F1-score: 0.8636\n",
      "Epoch 1930/2000, Loss: 0.3832\n",
      "Test Accuracy: 76.32%, F1-score: 0.8636\n",
      "Epoch 1940/2000, Loss: 0.3831\n",
      "Test Accuracy: 75.66%, F1-score: 0.8593\n",
      "Epoch 1950/2000, Loss: 0.3830\n",
      "Test Accuracy: 75.66%, F1-score: 0.8593\n",
      "Epoch 1960/2000, Loss: 0.3828\n",
      "Test Accuracy: 75.66%, F1-score: 0.8593\n"
     ]
    },
    {
     "name": "stderr",
     "output_type": "stream",
     "text": [
      "Training Epochs: 100%|██████████| 2000/2000 [00:04<00:00, 486.16it/s]"
     ]
    },
    {
     "name": "stdout",
     "output_type": "stream",
     "text": [
      "Epoch 1970/2000, Loss: 0.3827\n",
      "Test Accuracy: 75.66%, F1-score: 0.8593\n",
      "Epoch 1980/2000, Loss: 0.3826\n",
      "Test Accuracy: 75.66%, F1-score: 0.8593\n",
      "Epoch 1990/2000, Loss: 0.3824\n",
      "Test Accuracy: 75.66%, F1-score: 0.8593\n",
      "Epoch 2000/2000, Loss: 0.3823\n",
      "Test Accuracy: 75.66%, F1-score: 0.8593\n"
     ]
    },
    {
     "name": "stderr",
     "output_type": "stream",
     "text": [
      "\n"
     ]
    },
    {
     "data": {
      "image/png": "[encoded data removed]",
      "text/plain": [
       "<Figure size 640x480 with 1 Axes>"
      ]
     },
     "metadata": {},
     "output_type": "display_data"
    },
    {
     "name": "stdout",
     "output_type": "stream",
     "text": [
      "Training complete. Best Accuracy: 76.97%, Best F1-score: 0.8679\n"
     ]
    },
    {
     "ename": "",
     "evalue": "",
     "output_type": "error",
     "traceback": [
      "\u001b[1;31mThe Kernel crashed while executing code in the current cell or a previous cell. \n",
      "\u001b[1;31mPlease review the code in the cell(s) to identify a possible cause of the failure. \n",
      "\u001b[1;31mClick <a href='https://aka.ms/vscodeJupyterKernelCrash'>here</a> for more info. \n",
      "\u001b[1;31mView Jupyter <a href='command:jupyter.viewOutput'>log</a> for further details."
     ]
    }
   ],
   "source": [
    "import torch\n",
    "import torch.nn as nn\n",
    "import numpy as np\n",
    "from sklearn.metrics import accuracy_score, classification_report, f1_score\n",
    "from transformers import AutoTokenizer, AutoModelForCausalLM\n",
    "from tqdm import tqdm\n",
    "import json\n",
    "import os\n",
    "import matplotlib.pyplot as plt\n",
    "from transformers import AutoTokenizer, AutoModelForCausalLM\n",
    "\n",
    "os.environ[\"CUDA_VISIBLE_DEVICES\"] = \"1,2,3,4\"\n",
    "\n",
    "# Variables\n",
    "model_name = '/raid/data/guangwei/huggingface/hub/models--meta-llama--Llama-3.1-70B/snapshots/349b2ddb53ce8f2849a6c168a81980ab25258dac/'\n",
    "non_infringement_file = '/home/guangwei/LLM-COPYRIGHT/copyright_newVersion/test_division/literal.non_infringement.json'\n",
    "infringement_file = '/home/guangwei/LLM-COPYRIGHT/copyright_newVersion/test_division/literal.infringement.json'\n",
    "checkpoint_file = '/home/guangwei/LLM-COPYRIGHT/copyright_newVersion/models/0.pth'\n",
    "\n",
    "# 定义 MLP 模型\n",
    "class CustomMLP(nn.Module):\n",
    "    def __init__(self, input_dim, hidden_dim):\n",
    "        super(CustomMLP, self).__init__()\n",
    "        self.down = nn.Linear(input_dim, hidden_dim)\n",
    "        self.gate = nn.Linear(input_dim, hidden_dim)\n",
    "        self.up = nn.Linear(hidden_dim, 1)\n",
    "        self.activation = nn.SiLU()\n",
    "\n",
    "    def forward(self, x):\n",
    "        down_output = self.down(x)\n",
    "        gate_output = self.gate(x)\n",
    "        gated_output = down_output * self.activation(gate_output)\n",
    "        return self.up(gated_output)\n",
    "\n",
    "# 加载数据函数\n",
    "def load_data(non_infringement_file, infringement_file):\n",
    "    with open(non_infringement_file, 'r', encoding='utf-8') as file:\n",
    "        non_infringement_data = json.load(file)\n",
    "    non_infringement_outputs = [entry['input'] for entry in non_infringement_data]\n",
    "    y_non_infringement = [1] * len(non_infringement_outputs)\n",
    "\n",
    "    with open(infringement_file, 'r', encoding='utf-8') as file:\n",
    "        infringement_data = json.load(file)\n",
    "    infringement_outputs = [entry['input'] for entry in infringement_data]\n",
    "    y_infringement = [0] * len(infringement_outputs)\n",
    "\n",
    "    return non_infringement_outputs, y_non_infringement, infringement_outputs, y_infringement\n",
    "\n",
    "# 提取隐藏状态\n",
    "def extract_hidden_states(texts, model, tokenizer, batch_size=4):\n",
    "    hidden_states = []\n",
    "    for i in tqdm(range(0, len(texts), batch_size), desc=\"Processing data batches\"):\n",
    "        batch_texts = texts[i:i + batch_size]\n",
    "        inputs = tokenizer(batch_texts, return_tensors=\"pt\", padding=True, truncation=True)\n",
    "        inputs = {key: val.to(\"cuda\") for key, val in inputs.items()}  # 移动到 GPU\n",
    "        with torch.no_grad():\n",
    "            outputs = model(**inputs)\n",
    "        last_layer_hidden_states = outputs.hidden_states[-1]\n",
    "        last_token_hidden_states = last_layer_hidden_states[:, -1, :].cpu().numpy()  # 最后一个token的隐藏状态\n",
    "        hidden_states.append(last_token_hidden_states)\n",
    "    return np.vstack(hidden_states)\n",
    "\n",
    "# 加载模型\n",
    "def load_large_model(model_name):\n",
    "    \"\"\"加载超大模型并在多卡上分布\"\"\"\n",
    "    print(\"Loading model across multiple GPUs...\")\n",
    "    model = AutoModelForCausalLM.from_pretrained(\n",
    "        model_name,\n",
    "        device_map=\"balanced\",  # 自动平衡分布到多张 GPU\n",
    "        offload_folder=\"offload\",  # 如果显存不足，部分权重会被卸载到磁盘\n",
    "        offload_state_dict=True,\n",
    "        output_hidden_states=True\n",
    "    )\n",
    "    print(\"Model loaded successfully.\")\n",
    "    return model\n",
    "\n",
    "# 训练 MLP 模型\n",
    "def train_model(X_train, y_train, X_test, y_test, input_dim, hidden_dim, epochs=2000, lr=0.001, checkpoint_path=checkpoint_file):\n",
    "    custom_mlp = CustomMLP(input_dim, hidden_dim).to(\"cuda\")\n",
    "    criterion = nn.BCEWithLogitsLoss()\n",
    "    optimizer = torch.optim.Adam(custom_mlp.parameters(), lr=lr)\n",
    "\n",
    "    X_train_tensor = torch.tensor(X_train, dtype=torch.float32).to(\"cuda\")\n",
    "    y_train_tensor = torch.tensor(y_train, dtype=torch.float32).unsqueeze(1).to(\"cuda\")\n",
    "\n",
    "    best_f1 = -float('inf')  # 初始化最佳 F1 分数\n",
    "    best_accuracy = -float('inf')  # 初始化最佳准确率\n",
    "    losses = []\n",
    "\n",
    "    for epoch in tqdm(range(epochs), desc=\"Training Epochs\"):\n",
    "        custom_mlp.train()\n",
    "        optimizer.zero_grad()\n",
    "        outputs = custom_mlp(X_train_tensor)\n",
    "        loss = criterion(outputs, y_train_tensor)\n",
    "        loss.backward()\n",
    "        optimizer.step()\n",
    "        losses.append(loss.item())\n",
    "\n",
    "        if (epoch + 1) % 10 == 0:\n",
    "            print(f\"Epoch {epoch + 1}/{epochs}, Loss: {loss.item():.4f}\")\n",
    "            # 测试模型\n",
    "            custom_mlp.eval()\n",
    "            X_test_tensor = torch.tensor(X_test, dtype=torch.float32).to(\"cuda\")\n",
    "            with torch.no_grad():\n",
    "                y_pred_logits = custom_mlp(X_test_tensor)\n",
    "                y_pred = (torch.sigmoid(y_pred_logits) > 0.5).float().cpu().numpy()\n",
    "\n",
    "            accuracy = accuracy_score(y_test, y_pred)\n",
    "            f1 = f1_score(y_test, y_pred)\n",
    "            print(f\"Test Accuracy: {accuracy * 100:.2f}%, F1-score: {f1:.4f}\")\n",
    "            \n",
    "            # 更新最佳准确率和F1分数\n",
    "            if accuracy > best_accuracy:\n",
    "                best_accuracy = accuracy\n",
    "                torch.save(custom_mlp.state_dict(), checkpoint_path)  # 保存模型\n",
    "                print(f\"New best model saved with Accuracy {best_accuracy * 100:.2f}%.\")\n",
    "\n",
    "            if f1 > best_f1:\n",
    "                best_f1 = f1\n",
    "                torch.save(custom_mlp.state_dict(), checkpoint_path)  # 保存模型\n",
    "                print(f\"New best model saved with F1-score {best_f1:.4f}.\")\n",
    "\n",
    "    # 绘制训练损失曲线\n",
    "    plt.plot(losses)\n",
    "    plt.title(\"Training Loss Curve\")\n",
    "    plt.xlabel(\"Epoch\")\n",
    "    plt.ylabel(\"Loss\")\n",
    "    plt.show()\n",
    "\n",
    "    return custom_mlp, best_accuracy, best_f1\n",
    "\n",
    "# 加载数据\n",
    "tokenizer = AutoTokenizer.from_pretrained(model_name, model_max_length=512)\n",
    "model = load_large_model(model_name)\n",
    "tokenizer.pad_token = tokenizer.eos_token\n",
    "\n",
    "non_infringement_outputs, y_non_infringement, infringement_outputs, y_infringement = load_data(non_infringement_file, infringement_file)\n",
    "\n",
    "# 提取隐藏状态\n",
    "print(\"Extracting hidden states for non-infringement texts...\")\n",
    "X_non_infringement = extract_hidden_states(non_infringement_outputs, model, tokenizer)\n",
    "\n",
    "print(\"Extracting hidden states for infringement texts...\")\n",
    "X_infringement = extract_hidden_states(infringement_outputs, model, tokenizer)\n",
    "\n",
    "# 数据集划分\n",
    "split_index_non_infringement = int(0.8 * len(X_non_infringement))\n",
    "split_index_infringement = int(0.8 * len(X_infringement))\n",
    "\n",
    "X_train = np.vstack((X_non_infringement[:split_index_non_infringement], X_infringement[:split_index_infringement]))\n",
    "X_test = np.vstack((X_non_infringement[split_index_non_infringement:], X_infringement[split_index_infringement:]))\n",
    "y_train = np.concatenate((y_non_infringement[:split_index_non_infringement], y_infringement[:split_index_infringement]))\n",
    "y_test = np.concatenate((y_non_infringement[split_index_non_infringement:], y_infringement[split_index_infringement:]))\n",
    "\n",
    "print(\"Data successfully split into training and test sets.\")\n",
    "\n",
    "# 定义参数并训练\n",
    "input_dim = X_train.shape[1]\n",
    "hidden_dim = 256\n",
    "\n",
    "trained_model, best_accuracy, best_f1 = train_model(X_train, y_train, X_test, y_test, input_dim, hidden_dim)\n",
    "print(f\"Training complete. Best Accuracy: {best_accuracy * 100:.2f}%, Best F1-score: {best_f1:.4f}\")"
   ]
  }
 ],
 "metadata": {
  "kernelspec": {
   "display_name": "zdh",
   "language": "python",
   "name": "python3"
  },
  "language_info": {
   "codemirror_mode": {
    "name": "ipython",
    "version": 3
   },
   "file_extension": ".py",
   "mimetype": "text/x-python",
   "name": "python",
   "nbconvert_exporter": "python",
   "pygments_lexer": "ipython3",
   "version": "3.12.3"
  }
 },
 "nbformat": 4,
 "nbformat_minor": 2
}
