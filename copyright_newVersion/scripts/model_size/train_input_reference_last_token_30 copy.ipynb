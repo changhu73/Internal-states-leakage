{
 "cells": [
  {
   "cell_type": "code",
   "execution_count": 1,
   "metadata": {},
   "outputs": [
    {
     "name": "stderr",
     "output_type": "stream",
     "text": [
      "/home/guangwei/miniconda3/envs/zdh/lib/python3.12/site-packages/tqdm/auto.py:21: TqdmWarning: IProgress not found. Please update jupyter and ipywidgets. See https://ipywidgets.readthedocs.io/en/stable/user_install.html\n",
      "  from .autonotebook import tqdm as notebook_tqdm\n"
     ]
    },
    {
     "name": "stdout",
     "output_type": "stream",
     "text": [
      "Loading model across multiple GPUs...\n"
     ]
    },
    {
     "name": "stderr",
     "output_type": "stream",
     "text": [
      "/home/guangwei/miniconda3/envs/zdh/lib/python3.12/site-packages/transformers/generation/configuration_utils.py:774: UserWarning: `return_dict_in_generate` is NOT set to `True`, but `output_hidden_states` is. When `return_dict_in_generate` is not `True`, `output_hidden_states` is ignored.\n",
      "  warnings.warn(\n",
      "Loading checkpoint shards: 100%|██████████| 30/30 [01:14<00:00,  2.49s/it]\n"
     ]
    },
    {
     "name": "stdout",
     "output_type": "stream",
     "text": [
      "Model loaded successfully.\n",
      "Extracting hidden states for non_infringement texts...\n"
     ]
    },
    {
     "name": "stderr",
     "output_type": "stream",
     "text": [
      "Processing data batches: 100%|██████████| 33/33 [00:38<00:00,  1.17s/it]\n"
     ]
    },
    {
     "name": "stdout",
     "output_type": "stream",
     "text": [
      "Extracting reference embeddings for non_infringement texts...\n"
     ]
    },
    {
     "name": "stderr",
     "output_type": "stream",
     "text": [
      "Processing references: 100%|██████████| 33/33 [00:00<00:00, 100.57it/s]\n"
     ]
    },
    {
     "name": "stdout",
     "output_type": "stream",
     "text": [
      "Extracting hidden states for infringement texts...\n"
     ]
    },
    {
     "name": "stderr",
     "output_type": "stream",
     "text": [
      "Processing data batches: 100%|██████████| 51/51 [00:55<00:00,  1.09s/it]\n"
     ]
    },
    {
     "name": "stdout",
     "output_type": "stream",
     "text": [
      "Extracting reference embeddings for infringement texts...\n"
     ]
    },
    {
     "name": "stderr",
     "output_type": "stream",
     "text": [
      "Processing references: 100%|██████████| 51/51 [00:00<00:00, 107.94it/s]\n"
     ]
    },
    {
     "name": "stdout",
     "output_type": "stream",
     "text": [
      "Data successfully split into training and test sets.\n"
     ]
    },
    {
     "name": "stderr",
     "output_type": "stream",
     "text": [
      "Training Epochs:   0%|          | 10/2000 [00:00<00:26, 74.45it/s]"
     ]
    },
    {
     "name": "stdout",
     "output_type": "stream",
     "text": [
      "Epoch 10/2000, Loss: 0.3589\n",
      "Test Accuracy: 71.64%, F1-score: 0.4242\n",
      "New best model saved with Accuracy 71.64%.\n",
      "New best model saved with F1-score 0.4242.\n",
      "Epoch 20/2000, Loss: 0.3458\n",
      "Test Accuracy: 82.09%, F1-score: 0.7000\n",
      "New best model saved with Accuracy 82.09%.\n",
      "New best model saved with F1-score 0.7000.\n",
      "Epoch 30/2000, Loss: 0.3027\n",
      "Test Accuracy: 91.04%, F1-score: 0.8696\n"
     ]
    },
    {
     "name": "stderr",
     "output_type": "stream",
     "text": [
      "Training Epochs:   2%|▏         | 30/2000 [00:00<00:18, 106.96it/s]"
     ]
    },
    {
     "name": "stdout",
     "output_type": "stream",
     "text": [
      "New best model saved with Accuracy 91.04%.\n",
      "New best model saved with F1-score 0.8696.\n",
      "Epoch 40/2000, Loss: 0.2526\n",
      "Test Accuracy: 76.12%, F1-score: 0.7500\n",
      "Epoch 50/2000, Loss: 0.2878\n",
      "Test Accuracy: 77.61%, F1-score: 0.7619\n",
      "Epoch 60/2000, Loss: 0.2708\n",
      "Test Accuracy: 88.06%, F1-score: 0.8400\n",
      "Epoch 70/2000, Loss: 0.2435\n",
      "Test Accuracy: 91.04%, F1-score: 0.8696\n",
      "Epoch 80/2000, Loss: 0.2171\n",
      "Test Accuracy: 89.55%, F1-score: 0.8727\n"
     ]
    },
    {
     "name": "stderr",
     "output_type": "stream",
     "text": [
      "Training Epochs:   4%|▍         | 80/2000 [00:00<00:07, 246.27it/s]"
     ]
    },
    {
     "name": "stdout",
     "output_type": "stream",
     "text": [
      "New best model saved with F1-score 0.8727.\n",
      "Epoch 90/2000, Loss: 0.2010\n",
      "Test Accuracy: 86.57%, F1-score: 0.8302\n",
      "Epoch 100/2000, Loss: 0.1864\n",
      "Test Accuracy: 86.57%, F1-score: 0.8163\n",
      "Epoch 110/2000, Loss: 0.1783\n",
      "Test Accuracy: 91.04%, F1-score: 0.8696\n",
      "Epoch 120/2000, Loss: 0.1707\n",
      "Test Accuracy: 91.04%, F1-score: 0.8696\n"
     ]
    },
    {
     "name": "stderr",
     "output_type": "stream",
     "text": [
      "Training Epochs:   7%|▋         | 145/2000 [00:00<00:04, 381.43it/s]"
     ]
    },
    {
     "name": "stdout",
     "output_type": "stream",
     "text": [
      "Epoch 130/2000, Loss: 0.1794\n",
      "Test Accuracy: 83.58%, F1-score: 0.8136\n",
      "Epoch 140/2000, Loss: 0.2472\n",
      "Test Accuracy: 83.58%, F1-score: 0.8136\n",
      "Epoch 150/2000, Loss: 0.2234\n",
      "Test Accuracy: 82.09%, F1-score: 0.7931\n",
      "Epoch 160/2000, Loss: 0.1678\n",
      "Test Accuracy: 82.09%, F1-score: 0.7931\n",
      "Epoch 170/2000, Loss: 0.1440\n",
      "Test Accuracy: 77.61%, F1-score: 0.7273\n",
      "Epoch 180/2000, Loss: 0.1880\n",
      "Test Accuracy: 83.58%, F1-score: 0.8136\n",
      "Epoch 190/2000, Loss: 0.1693\n",
      "Test Accuracy: 83.58%, F1-score: 0.8136\n",
      "Epoch 200/2000, Loss: 0.1564\n",
      "Test Accuracy: 85.07%, F1-score: 0.8214\n"
     ]
    },
    {
     "name": "stderr",
     "output_type": "stream",
     "text": [
      "Training Epochs:  10%|█         | 210/2000 [00:00<00:03, 462.21it/s]"
     ]
    },
    {
     "name": "stdout",
     "output_type": "stream",
     "text": [
      "Epoch 210/2000, Loss: 0.1358\n",
      "Test Accuracy: 83.58%, F1-score: 0.8136\n",
      "Epoch 220/2000, Loss: 0.1245\n",
      "Test Accuracy: 83.58%, F1-score: 0.8136\n",
      "Epoch 230/2000, Loss: 0.1119\n",
      "Test Accuracy: 83.58%, F1-score: 0.8136\n",
      "Epoch 240/2000, Loss: 0.1019\n",
      "Test Accuracy: 83.58%, F1-score: 0.8136\n",
      "Epoch 250/2000, Loss: 0.0958\n",
      "Test Accuracy: 83.58%, F1-score: 0.8136\n"
     ]
    },
    {
     "name": "stderr",
     "output_type": "stream",
     "text": [
      "Training Epochs:  14%|█▍        | 279/2000 [00:00<00:03, 533.44it/s]"
     ]
    },
    {
     "name": "stdout",
     "output_type": "stream",
     "text": [
      "Epoch 260/2000, Loss: 0.0912\n",
      "Test Accuracy: 83.58%, F1-score: 0.8136\n",
      "Epoch 270/2000, Loss: 0.0870\n",
      "Test Accuracy: 83.58%, F1-score: 0.8136\n",
      "Epoch 280/2000, Loss: 0.0830\n",
      "Test Accuracy: 83.58%, F1-score: 0.8136\n",
      "Epoch 290/2000, Loss: 0.0806\n",
      "Test Accuracy: 83.58%, F1-score: 0.8136\n",
      "Epoch 300/2000, Loss: 0.3880\n",
      "Test Accuracy: 62.69%, F1-score: 0.6575\n",
      "Epoch 310/2000, Loss: 0.3513\n",
      "Test Accuracy: 79.10%, F1-score: 0.6316\n",
      "Epoch 320/2000, Loss: 0.3429\n",
      "Test Accuracy: 74.63%, F1-score: 0.5143\n",
      "Epoch 330/2000, Loss: 0.3368\n",
      "Test Accuracy: 71.64%, F1-score: 0.7164\n",
      "Epoch 340/2000, Loss: 0.3280\n",
      "Test Accuracy: 83.58%, F1-score: 0.8136\n"
     ]
    },
    {
     "name": "stderr",
     "output_type": "stream",
     "text": [
      "Training Epochs:  18%|█▊        | 350/2000 [00:00<00:03, 490.80it/s]"
     ]
    },
    {
     "name": "stdout",
     "output_type": "stream",
     "text": [
      "Epoch 350/2000, Loss: 0.3135\n",
      "Test Accuracy: 95.52%, F1-score: 0.9388\n",
      "New best model saved with Accuracy 95.52%.\n",
      "New best model saved with F1-score 0.9388.\n"
     ]
    },
    {
     "name": "stderr",
     "output_type": "stream",
     "text": [
      "Training Epochs:  21%|██▏       | 425/2000 [00:00<00:02, 560.29it/s]"
     ]
    },
    {
     "name": "stdout",
     "output_type": "stream",
     "text": [
      "Epoch 360/2000, Loss: 0.2899\n",
      "Test Accuracy: 89.55%, F1-score: 0.8727\n",
      "Epoch 370/2000, Loss: 0.2609\n",
      "Test Accuracy: 95.52%, F1-score: 0.9388\n",
      "Epoch 380/2000, Loss: 0.3264\n",
      "Test Accuracy: 71.64%, F1-score: 0.7164\n",
      "Epoch 390/2000, Loss: 0.3370\n",
      "Test Accuracy: 62.69%, F1-score: 0.6575\n",
      "Epoch 400/2000, Loss: 0.3298\n",
      "Test Accuracy: 62.69%, F1-score: 0.6575\n",
      "Epoch 410/2000, Loss: 0.3238\n",
      "Test Accuracy: 62.69%, F1-score: 0.6575\n",
      "Epoch 420/2000, Loss: 0.3174\n",
      "Test Accuracy: 62.69%, F1-score: 0.6575\n",
      "Epoch 430/2000, Loss: 0.3065\n",
      "Test Accuracy: 67.16%, F1-score: 0.6857\n",
      "Epoch 440/2000, Loss: 0.3009\n",
      "Test Accuracy: 71.64%, F1-score: 0.7164\n",
      "Epoch 450/2000, Loss: 0.3055\n"
     ]
    },
    {
     "name": "stderr",
     "output_type": "stream",
     "text": [
      "Training Epochs:  25%|██▍       | 494/2000 [00:01<00:02, 595.32it/s]"
     ]
    },
    {
     "name": "stdout",
     "output_type": "stream",
     "text": [
      "Test Accuracy: 64.18%, F1-score: 0.6667\n",
      "Epoch 460/2000, Loss: 0.3008\n",
      "Test Accuracy: 71.64%, F1-score: 0.7164\n",
      "Epoch 470/2000, Loss: 0.2862\n",
      "Test Accuracy: 80.60%, F1-score: 0.7869\n",
      "Epoch 480/2000, Loss: 0.3007\n",
      "Test Accuracy: 71.64%, F1-score: 0.7164\n",
      "Epoch 490/2000, Loss: 0.2758\n",
      "Test Accuracy: 80.60%, F1-score: 0.7869\n",
      "Epoch 500/2000, Loss: 0.2586\n",
      "Test Accuracy: 80.60%, F1-score: 0.7869\n"
     ]
    },
    {
     "name": "stderr",
     "output_type": "stream",
     "text": [
      "Training Epochs:  28%|██▊       | 564/2000 [00:01<00:02, 624.30it/s]"
     ]
    },
    {
     "name": "stdout",
     "output_type": "stream",
     "text": [
      "Epoch 510/2000, Loss: 0.2551\n",
      "Test Accuracy: 89.55%, F1-score: 0.8727\n",
      "Epoch 520/2000, Loss: 0.3135\n",
      "Test Accuracy: 86.57%, F1-score: 0.7907\n",
      "Epoch 530/2000, Loss: 0.3534\n",
      "Test Accuracy: 88.06%, F1-score: 0.8182\n",
      "Epoch 540/2000, Loss: 0.3036\n",
      "Test Accuracy: 86.57%, F1-score: 0.8163\n",
      "Epoch 550/2000, Loss: 0.3190\n",
      "Test Accuracy: 91.04%, F1-score: 0.8696\n",
      "Epoch 560/2000, Loss: 0.3444\n",
      "Test Accuracy: 95.52%, F1-score: 0.9388\n",
      "Epoch 570/2000, Loss: 0.3579\n",
      "Test Accuracy: 74.63%, F1-score: 0.5143\n",
      "Epoch 580/2000, Loss: 0.3618\n",
      "Test Accuracy: 74.63%, F1-score: 0.5143\n",
      "Epoch 590/2000, Loss: 0.3614\n",
      "Test Accuracy: 74.63%, F1-score: 0.5143\n"
     ]
    },
    {
     "name": "stderr",
     "output_type": "stream",
     "text": [
      "Training Epochs:  32%|███▏      | 635/2000 [00:01<00:02, 647.70it/s]"
     ]
    },
    {
     "name": "stdout",
     "output_type": "stream",
     "text": [
      "Epoch 600/2000, Loss: 0.3609\n",
      "Test Accuracy: 74.63%, F1-score: 0.5143\n",
      "Epoch 610/2000, Loss: 0.3589\n",
      "Test Accuracy: 74.63%, F1-score: 0.5143\n",
      "Epoch 620/2000, Loss: 0.3560\n",
      "Test Accuracy: 82.09%, F1-score: 0.7000\n",
      "Epoch 630/2000, Loss: 0.3486\n",
      "Test Accuracy: 86.57%, F1-score: 0.7907\n",
      "Epoch 640/2000, Loss: 0.3560\n",
      "Test Accuracy: 74.63%, F1-score: 0.5143\n"
     ]
    },
    {
     "name": "stderr",
     "output_type": "stream",
     "text": [
      "Training Epochs:  35%|███▌      | 702/2000 [00:01<00:02, 642.59it/s]"
     ]
    },
    {
     "name": "stdout",
     "output_type": "stream",
     "text": [
      "Epoch 650/2000, Loss: 0.3619\n",
      "Test Accuracy: 74.63%, F1-score: 0.5143\n",
      "Epoch 660/2000, Loss: 0.3618\n",
      "Test Accuracy: 74.63%, F1-score: 0.5143\n",
      "Epoch 670/2000, Loss: 0.3618\n",
      "Test Accuracy: 74.63%, F1-score: 0.5143\n",
      "Epoch 680/2000, Loss: 0.3605\n",
      "Test Accuracy: 74.63%, F1-score: 0.5143\n",
      "Epoch 690/2000, Loss: 0.3594\n",
      "Test Accuracy: 74.63%, F1-score: 0.5143\n",
      "Epoch 700/2000, Loss: 0.3619\n",
      "Test Accuracy: 74.63%, F1-score: 0.5143\n",
      "Epoch 710/2000, Loss: 0.3556\n",
      "Test Accuracy: 82.09%, F1-score: 0.7000\n",
      "Epoch 720/2000, Loss: 0.3502\n",
      "Test Accuracy: 89.55%, F1-score: 0.8444\n",
      "Epoch 730/2000, Loss: 0.3429\n",
      "Test Accuracy: 85.07%, F1-score: 0.8077\n",
      "Epoch 740/2000, Loss: 0.3351\n",
      "Test Accuracy: 97.01%, F1-score: 0.9600\n",
      "New best model saved with Accuracy 97.01%.\n"
     ]
    },
    {
     "name": "stderr",
     "output_type": "stream",
     "text": [
      "Training Epochs:  38%|███▊      | 768/2000 [00:01<00:02, 560.24it/s]"
     ]
    },
    {
     "name": "stdout",
     "output_type": "stream",
     "text": [
      "New best model saved with F1-score 0.9600.\n",
      "Epoch 750/2000, Loss: 0.3595\n",
      "Test Accuracy: 74.63%, F1-score: 0.5143\n",
      "Epoch 760/2000, Loss: 0.3619\n",
      "Test Accuracy: 74.63%, F1-score: 0.5143\n",
      "Epoch 770/2000, Loss: 0.3619\n",
      "Test Accuracy: 74.63%, F1-score: 0.5143\n",
      "Epoch 780/2000, Loss: 0.3619\n",
      "Test Accuracy: 74.63%, F1-score: 0.5143\n",
      "Epoch 790/2000, Loss: 0.3612\n",
      "Test Accuracy: 74.63%, F1-score: 0.5143\n",
      "Epoch 800/2000, Loss: 0.3618\n",
      "Test Accuracy: 74.63%, F1-score: 0.5143\n",
      "Epoch 810/2000, Loss: 0.3618\n",
      "Test Accuracy: 74.63%, F1-score: 0.5143\n",
      "Epoch 820/2000, Loss: 0.3639\n",
      "Test Accuracy: 74.63%, F1-score: 0.5143\n",
      "Epoch 830/2000, Loss: 0.3619\n",
      "Test Accuracy: 74.63%, F1-score: 0.5143\n"
     ]
    },
    {
     "name": "stderr",
     "output_type": "stream",
     "text": [
      "Training Epochs:  42%|████▏     | 835/2000 [00:01<00:01, 588.20it/s]"
     ]
    },
    {
     "name": "stdout",
     "output_type": "stream",
     "text": [
      "Epoch 840/2000, Loss: 0.3619\n",
      "Test Accuracy: 74.63%, F1-score: 0.5143\n",
      "Epoch 850/2000, Loss: 0.3618\n",
      "Test Accuracy: 74.63%, F1-score: 0.5143\n",
      "Epoch 860/2000, Loss: 0.3606\n",
      "Test Accuracy: 74.63%, F1-score: 0.5143\n",
      "Epoch 870/2000, Loss: 0.3589\n",
      "Test Accuracy: 74.63%, F1-score: 0.5143\n"
     ]
    },
    {
     "name": "stderr",
     "output_type": "stream",
     "text": [
      "Training Epochs:  49%|████▊     | 974/2000 [00:01<00:01, 640.72it/s]"
     ]
    },
    {
     "name": "stdout",
     "output_type": "stream",
     "text": [
      "Epoch 880/2000, Loss: 0.3548\n",
      "Test Accuracy: 82.09%, F1-score: 0.7000\n",
      "Epoch 890/2000, Loss: 0.3607\n",
      "Test Accuracy: 74.63%, F1-score: 0.5143\n",
      "Epoch 900/2000, Loss: 0.3572\n",
      "Test Accuracy: 80.60%, F1-score: 0.6667\n",
      "Epoch 910/2000, Loss: 0.3607\n",
      "Test Accuracy: 74.63%, F1-score: 0.5143\n",
      "Epoch 920/2000, Loss: 0.3599\n",
      "Test Accuracy: 74.63%, F1-score: 0.5143\n",
      "Epoch 930/2000, Loss: 0.3583\n",
      "Test Accuracy: 74.63%, F1-score: 0.5143\n",
      "Epoch 940/2000, Loss: 0.3539\n",
      "Test Accuracy: 83.58%, F1-score: 0.7317\n",
      "Epoch 950/2000, Loss: 0.3476\n",
      "Test Accuracy: 89.55%, F1-score: 0.8727\n",
      "Epoch 960/2000, Loss: 0.3534\n",
      "Test Accuracy: 62.69%, F1-score: 0.6575\n",
      "Epoch 970/2000, Loss: 0.3618\n",
      "Test Accuracy: 74.63%, F1-score: 0.5143\n",
      "Epoch 980/2000, Loss: 0.3609\n",
      "Test Accuracy: 74.63%, F1-score: 0.5143\n",
      "Epoch 990/2000, Loss: 0.3580\n",
      "Test Accuracy: 74.63%, F1-score: 0.5143\n",
      "Epoch 1000/2000, Loss: 0.3561\n",
      "Test Accuracy: 95.52%, F1-score: 0.9388\n",
      "Epoch 1010/2000, Loss: 0.3509\n",
      "Test Accuracy: 83.58%, F1-score: 0.7317\n",
      "Epoch 1020/2000, Loss: 0.3470\n",
      "Test Accuracy: 91.04%, F1-score: 0.8696\n"
     ]
    },
    {
     "name": "stderr",
     "output_type": "stream",
     "text": [
      "Training Epochs:  56%|█████▌    | 1113/2000 [00:02<00:01, 666.96it/s]"
     ]
    },
    {
     "name": "stdout",
     "output_type": "stream",
     "text": [
      "Epoch 1030/2000, Loss: 0.3619\n",
      "Test Accuracy: 74.63%, F1-score: 0.5143\n",
      "Epoch 1040/2000, Loss: 0.3620\n",
      "Test Accuracy: 74.63%, F1-score: 0.5143\n",
      "Epoch 1050/2000, Loss: 0.3620\n",
      "Test Accuracy: 74.63%, F1-score: 0.5143\n",
      "Epoch 1060/2000, Loss: 0.3620\n",
      "Test Accuracy: 74.63%, F1-score: 0.5143\n",
      "Epoch 1070/2000, Loss: 0.3620\n",
      "Test Accuracy: 74.63%, F1-score: 0.5143\n",
      "Epoch 1080/2000, Loss: 0.3620\n",
      "Test Accuracy: 74.63%, F1-score: 0.5143\n",
      "Epoch 1090/2000, Loss: 0.3620\n",
      "Test Accuracy: 74.63%, F1-score: 0.5143\n",
      "Epoch 1100/2000, Loss: 0.3620\n",
      "Test Accuracy: 74.63%, F1-score: 0.5143\n",
      "Epoch 1110/2000, Loss: 0.3619\n",
      "Test Accuracy: 74.63%, F1-score: 0.5143\n",
      "Epoch 1120/2000, Loss: 0.3616\n",
      "Test Accuracy: 74.63%, F1-score: 0.5143\n",
      "Epoch 1130/2000, Loss: 0.3591\n",
      "Test Accuracy: 74.63%, F1-score: 0.5143\n",
      "Epoch 1140/2000, Loss: 0.3602\n",
      "Test Accuracy: 74.63%, F1-score: 0.5143\n",
      "Epoch 1150/2000, Loss: 0.3619\n",
      "Test Accuracy: 74.63%, F1-score: 0.5143\n"
     ]
    },
    {
     "name": "stderr",
     "output_type": "stream",
     "text": [
      "Training Epochs:  59%|█████▉    | 1181/2000 [00:02<00:01, 641.17it/s]"
     ]
    },
    {
     "name": "stdout",
     "output_type": "stream",
     "text": [
      "Epoch 1160/2000, Loss: 0.3615\n",
      "Test Accuracy: 74.63%, F1-score: 0.5143\n",
      "Epoch 1170/2000, Loss: 0.3620\n",
      "Test Accuracy: 74.63%, F1-score: 0.5143\n",
      "Epoch 1180/2000, Loss: 0.3620\n",
      "Test Accuracy: 74.63%, F1-score: 0.5143\n",
      "Epoch 1190/2000, Loss: 0.3620\n",
      "Test Accuracy: 74.63%, F1-score: 0.5143\n",
      "Epoch 1200/2000, Loss: 0.3620\n",
      "Test Accuracy: 74.63%, F1-score: 0.5143\n",
      "Epoch 1210/2000, Loss: 0.3620\n",
      "Test Accuracy: 74.63%, F1-score: 0.5143\n",
      "Epoch 1220/2000, Loss: 0.3620\n",
      "Test Accuracy: 74.63%, F1-score: 0.5143\n",
      "Epoch 1230/2000, Loss: 0.3620\n",
      "Test Accuracy: 74.63%, F1-score: 0.5143\n"
     ]
    },
    {
     "name": "stderr",
     "output_type": "stream",
     "text": [
      "Training Epochs:  62%|██████▏   | 1246/2000 [00:02<00:01, 637.01it/s]"
     ]
    },
    {
     "name": "stdout",
     "output_type": "stream",
     "text": [
      "Epoch 1240/2000, Loss: 0.3620\n",
      "Test Accuracy: 74.63%, F1-score: 0.5143\n",
      "Epoch 1250/2000, Loss: 0.3619\n",
      "Test Accuracy: 74.63%, F1-score: 0.5143\n",
      "Epoch 1260/2000, Loss: 0.3619\n",
      "Test Accuracy: 74.63%, F1-score: 0.5143\n",
      "Epoch 1270/2000, Loss: 0.3618\n",
      "Test Accuracy: 74.63%, F1-score: 0.5143\n",
      "Epoch 1280/2000, Loss: 0.3581\n",
      "Test Accuracy: 74.63%, F1-score: 0.5143\n"
     ]
    },
    {
     "name": "stderr",
     "output_type": "stream",
     "text": [
      "Training Epochs:  66%|██████▌   | 1311/2000 [00:02<00:01, 630.98it/s]"
     ]
    },
    {
     "name": "stdout",
     "output_type": "stream",
     "text": [
      "Epoch 1290/2000, Loss: 0.3617\n",
      "Test Accuracy: 74.63%, F1-score: 0.5143\n",
      "Epoch 1300/2000, Loss: 0.3615\n",
      "Test Accuracy: 74.63%, F1-score: 0.5143\n",
      "Epoch 1310/2000, Loss: 0.3487\n",
      "Test Accuracy: 86.57%, F1-score: 0.7907\n",
      "Epoch 1320/2000, Loss: 0.4740\n",
      "Test Accuracy: 74.63%, F1-score: 0.5143\n",
      "Epoch 1330/2000, Loss: 0.3619\n",
      "Test Accuracy: 74.63%, F1-score: 0.5143\n",
      "Epoch 1340/2000, Loss: 0.3620\n",
      "Test Accuracy: 74.63%, F1-score: 0.5143\n",
      "Epoch 1350/2000, Loss: 0.3620\n",
      "Test Accuracy: 74.63%, F1-score: 0.5143\n",
      "Epoch 1360/2000, Loss: 0.3620\n",
      "Test Accuracy: 74.63%, F1-score: 0.5143\n"
     ]
    },
    {
     "name": "stderr",
     "output_type": "stream",
     "text": [
      "Training Epochs:  69%|██████▉   | 1376/2000 [00:02<00:00, 635.54it/s]"
     ]
    },
    {
     "name": "stdout",
     "output_type": "stream",
     "text": [
      "Epoch 1370/2000, Loss: 0.3620\n",
      "Test Accuracy: 74.63%, F1-score: 0.5143\n",
      "Epoch 1380/2000, Loss: 0.3620\n",
      "Test Accuracy: 74.63%, F1-score: 0.5143\n",
      "Epoch 1390/2000, Loss: 0.3620\n",
      "Test Accuracy: 74.63%, F1-score: 0.5143\n",
      "Epoch 1400/2000, Loss: 0.3620\n",
      "Test Accuracy: 74.63%, F1-score: 0.5143\n",
      "Epoch 1410/2000, Loss: 0.3620\n",
      "Test Accuracy: 74.63%, F1-score: 0.5143\n"
     ]
    },
    {
     "name": "stderr",
     "output_type": "stream",
     "text": [
      "Training Epochs:  72%|███████▏  | 1440/2000 [00:02<00:00, 610.51it/s]"
     ]
    },
    {
     "name": "stdout",
     "output_type": "stream",
     "text": [
      "Epoch 1420/2000, Loss: 0.3619\n",
      "Test Accuracy: 74.63%, F1-score: 0.5143\n",
      "Epoch 1430/2000, Loss: 0.3619\n",
      "Test Accuracy: 74.63%, F1-score: 0.5143\n",
      "Epoch 1440/2000, Loss: 0.3619\n",
      "Test Accuracy: 74.63%, F1-score: 0.5143\n",
      "Epoch 1450/2000, Loss: 0.3619\n",
      "Test Accuracy: 74.63%, F1-score: 0.5143\n",
      "Epoch 1460/2000, Loss: 0.3619\n",
      "Test Accuracy: 74.63%, F1-score: 0.5143\n",
      "Epoch 1470/2000, Loss: 0.3619\n",
      "Test Accuracy: 74.63%, F1-score: 0.5143\n",
      "Epoch 1480/2000, Loss: 0.3619\n",
      "Test Accuracy: 74.63%, F1-score: 0.5143\n",
      "Epoch 1490/2000, Loss: 0.3617\n",
      "Test Accuracy: 74.63%, F1-score: 0.5143\n"
     ]
    },
    {
     "name": "stderr",
     "output_type": "stream",
     "text": [
      "Training Epochs:  75%|███████▌  | 1506/2000 [00:02<00:00, 623.93it/s]"
     ]
    },
    {
     "name": "stdout",
     "output_type": "stream",
     "text": [
      "Epoch 1500/2000, Loss: 0.3613\n",
      "Test Accuracy: 74.63%, F1-score: 0.5143\n",
      "Epoch 1510/2000, Loss: 0.3619\n",
      "Test Accuracy: 74.63%, F1-score: 0.5143\n",
      "Epoch 1520/2000, Loss: 0.3619\n",
      "Test Accuracy: 74.63%, F1-score: 0.5143\n",
      "Epoch 1530/2000, Loss: 0.3619\n",
      "Test Accuracy: 74.63%, F1-score: 0.5143\n",
      "Epoch 1540/2000, Loss: 0.3619\n",
      "Test Accuracy: 74.63%, F1-score: 0.5143\n"
     ]
    },
    {
     "name": "stderr",
     "output_type": "stream",
     "text": [
      "Training Epochs:  78%|███████▊  | 1569/2000 [00:02<00:00, 623.90it/s]"
     ]
    },
    {
     "name": "stdout",
     "output_type": "stream",
     "text": [
      "Epoch 1550/2000, Loss: 0.3611\n",
      "Test Accuracy: 74.63%, F1-score: 0.5143\n",
      "Epoch 1560/2000, Loss: 0.3579\n",
      "Test Accuracy: 74.63%, F1-score: 0.5143\n",
      "Epoch 1570/2000, Loss: 0.3616\n",
      "Test Accuracy: 74.63%, F1-score: 0.5143\n",
      "Epoch 1580/2000, Loss: 0.3619\n",
      "Test Accuracy: 74.63%, F1-score: 0.5143\n",
      "Epoch 1590/2000, Loss: 0.3619\n",
      "Test Accuracy: 74.63%, F1-score: 0.5143\n",
      "Epoch 1600/2000, Loss: 0.3619\n",
      "Test Accuracy: 74.63%, F1-score: 0.5143\n",
      "Epoch 1610/2000, Loss: 0.3619\n",
      "Test Accuracy: 74.63%, F1-score: 0.5143\n",
      "Epoch 1620/2000, Loss: 0.3619\n",
      "Test Accuracy: 74.63%, F1-score: 0.5143\n"
     ]
    },
    {
     "name": "stderr",
     "output_type": "stream",
     "text": [
      "Training Epochs:  82%|████████▏ | 1632/2000 [00:02<00:00, 622.51it/s]"
     ]
    },
    {
     "name": "stdout",
     "output_type": "stream",
     "text": [
      "Epoch 1630/2000, Loss: 0.3619\n",
      "Test Accuracy: 74.63%, F1-score: 0.5143\n",
      "Epoch 1640/2000, Loss: 0.3619\n",
      "Test Accuracy: 74.63%, F1-score: 0.5143\n",
      "Epoch 1650/2000, Loss: 0.3619\n",
      "Test Accuracy: 74.63%, F1-score: 0.5143\n",
      "Epoch 1660/2000, Loss: 0.3619\n",
      "Test Accuracy: 74.63%, F1-score: 0.5143\n",
      "Epoch 1670/2000, Loss: 0.3615\n",
      "Test Accuracy: 74.63%, F1-score: 0.5143\n",
      "Epoch 1680/2000, Loss: 0.3619\n"
     ]
    },
    {
     "name": "stderr",
     "output_type": "stream",
     "text": [
      "Training Epochs:  85%|████████▌ | 1700/2000 [00:02<00:00, 626.60it/s]"
     ]
    },
    {
     "name": "stdout",
     "output_type": "stream",
     "text": [
      "Test Accuracy: 74.63%, F1-score: 0.5143\n",
      "Epoch 1690/2000, Loss: 0.3619\n",
      "Test Accuracy: 74.63%, F1-score: 0.5143\n",
      "Epoch 1700/2000, Loss: 0.3619\n",
      "Test Accuracy: 74.63%, F1-score: 0.5143\n",
      "Epoch 1710/2000, Loss: 0.3619\n",
      "Test Accuracy: 74.63%, F1-score: 0.5143\n",
      "Epoch 1720/2000, Loss: 0.3619\n",
      "Test Accuracy: 74.63%, F1-score: 0.5143\n",
      "Epoch 1730/2000, Loss: 0.3619\n",
      "Test Accuracy: 74.63%, F1-score: 0.5143\n",
      "Epoch 1740/2000, Loss: 0.3619\n",
      "Test Accuracy: 74.63%, F1-score: 0.5143\n",
      "Epoch 1750/2000, Loss: 0.3619\n",
      "Test Accuracy: 74.63%, F1-score: 0.5143\n",
      "Epoch 1760/2000, Loss: 0.3619\n"
     ]
    },
    {
     "name": "stderr",
     "output_type": "stream",
     "text": [
      "Training Epochs:  88%|████████▊ | 1769/2000 [00:03<00:00, 643.80it/s]"
     ]
    },
    {
     "name": "stdout",
     "output_type": "stream",
     "text": [
      "Test Accuracy: 74.63%, F1-score: 0.5143\n",
      "Epoch 1770/2000, Loss: 0.3617\n",
      "Test Accuracy: 71.64%, F1-score: 0.4242\n",
      "Epoch 1780/2000, Loss: 0.3611\n",
      "Test Accuracy: 71.64%, F1-score: 0.4242\n",
      "Epoch 1790/2000, Loss: 0.3619\n",
      "Test Accuracy: 71.64%, F1-score: 0.4242\n",
      "Epoch 1800/2000, Loss: 0.3619\n",
      "Test Accuracy: 71.64%, F1-score: 0.4242\n",
      "Epoch 1810/2000, Loss: 0.3619\n",
      "Test Accuracy: 71.64%, F1-score: 0.4242\n"
     ]
    },
    {
     "name": "stderr",
     "output_type": "stream",
     "text": [
      "Training Epochs:  92%|█████████▏| 1834/2000 [00:03<00:00, 632.60it/s]"
     ]
    },
    {
     "name": "stdout",
     "output_type": "stream",
     "text": [
      "Epoch 1820/2000, Loss: 0.3619\n",
      "Test Accuracy: 71.64%, F1-score: 0.4242\n",
      "Epoch 1830/2000, Loss: 0.3619\n",
      "Test Accuracy: 71.64%, F1-score: 0.4242\n",
      "Epoch 1840/2000, Loss: 0.3619\n",
      "Test Accuracy: 71.64%, F1-score: 0.4242\n",
      "Epoch 1850/2000, Loss: 0.3616\n",
      "Test Accuracy: 71.64%, F1-score: 0.4242\n",
      "Epoch 1860/2000, Loss: 0.3619\n",
      "Test Accuracy: 71.64%, F1-score: 0.4242\n",
      "Epoch 1870/2000, Loss: 0.3619\n",
      "Test Accuracy: 71.64%, F1-score: 0.4242\n",
      "Epoch 1880/2000, Loss: 0.3619\n",
      "Test Accuracy: 71.64%, F1-score: 0.4242\n",
      "Epoch 1890/2000, Loss: 0.3619\n",
      "Test Accuracy: 71.64%, F1-score: 0.4242\n"
     ]
    },
    {
     "name": "stderr",
     "output_type": "stream",
     "text": [
      "Training Epochs:  95%|█████████▌| 1904/2000 [00:03<00:00, 651.83it/s]"
     ]
    },
    {
     "name": "stdout",
     "output_type": "stream",
     "text": [
      "Epoch 1900/2000, Loss: 0.3619\n",
      "Test Accuracy: 71.64%, F1-score: 0.4242\n",
      "Epoch 1910/2000, Loss: 0.3619\n",
      "Test Accuracy: 71.64%, F1-score: 0.4242\n",
      "Epoch 1920/2000, Loss: 0.3619\n",
      "Test Accuracy: 71.64%, F1-score: 0.4242\n",
      "Epoch 1930/2000, Loss: 0.3619\n",
      "Test Accuracy: 71.64%, F1-score: 0.4242\n",
      "Epoch 1940/2000, Loss: 0.3619\n",
      "Test Accuracy: 71.64%, F1-score: 0.4242\n",
      "Epoch 1950/2000, Loss: 0.3619\n",
      "Test Accuracy: 71.64%, F1-score: 0.4242\n"
     ]
    },
    {
     "name": "stderr",
     "output_type": "stream",
     "text": [
      "Training Epochs: 100%|██████████| 2000/2000 [00:03<00:00, 583.87it/s]"
     ]
    },
    {
     "name": "stdout",
     "output_type": "stream",
     "text": [
      "Epoch 1960/2000, Loss: 0.3619\n",
      "Test Accuracy: 71.64%, F1-score: 0.4242\n",
      "Epoch 1970/2000, Loss: 0.3619\n",
      "Test Accuracy: 71.64%, F1-score: 0.4242\n",
      "Epoch 1980/2000, Loss: 0.3619\n",
      "Test Accuracy: 71.64%, F1-score: 0.4242\n",
      "Epoch 1990/2000, Loss: 0.3619\n",
      "Test Accuracy: 71.64%, F1-score: 0.4242\n",
      "Epoch 2000/2000, Loss: 0.3617\n",
      "Test Accuracy: 71.64%, F1-score: 0.4242\n"
     ]
    },
    {
     "name": "stderr",
     "output_type": "stream",
     "text": [
      "\n"
     ]
    },
    {
     "data": {
      "image/png": "[encoded data removed]",
      "text/plain": [
       "<Figure size 640x480 with 1 Axes>"
      ]
     },
     "metadata": {},
     "output_type": "display_data"
    },
    {
     "name": "stdout",
     "output_type": "stream",
     "text": [
      "Training complete. Best Accuracy: 97.01%, Best F1-score: 0.9600\n"
     ]
    }
   ],
   "source": [
    "import torch\n",
    "import torch.nn as nn\n",
    "import numpy as np\n",
    "from sklearn.metrics import accuracy_score, classification_report, f1_score\n",
    "import matplotlib.pyplot as plt\n",
    "from tqdm import tqdm\n",
    "from transformers import AutoTokenizer, AutoModelForCausalLM, AutoModel\n",
    "import json\n",
    "import os\n",
    "\n",
    "os.environ[\"CUDA_VISIBLE_DEVICES\"] = \"1,2,3,4\"\n",
    "\n",
    "# Variables\n",
    "model_name = '/raid/data/guangwei/huggingface/hub/models--meta-llama--Llama-3.1-70B/snapshots/349b2ddb53ce8f2849a6c168a81980ab25258dac/'\n",
    "non_infringement_file = '/home/guangwei/LLM-COPYRIGHT/copyright_newVersion/test_division/extra_70B_10.non_infringement.json'\n",
    "infringement_file = '/home/guangwei/LLM-COPYRIGHT/copyright_newVersion/test_division/extra_70B_10.infringement.json'\n",
    "checkpoint_file = '/home/guangwei/LLM-COPYRIGHT/copyright_newVersion/models/train_input_last_token.pth'\n",
    "\n",
    "# Define CustomMLP for internal states train\n",
    "class CustomMLP(nn.Module):\n",
    "    def __init__(self, input_dim, hidden_dim):\n",
    "        super(CustomMLP, self).__init__()\n",
    "        self.down = nn.Linear(input_dim, hidden_dim)\n",
    "        self.gate = nn.Linear(input_dim, hidden_dim)\n",
    "        self.up = nn.Linear(hidden_dim, 1)\n",
    "        self.activation = nn.SiLU()\n",
    "\n",
    "    def forward(self, x):\n",
    "        down_output = self.down(x)\n",
    "        gate_output = self.gate(x)\n",
    "        gated_output = down_output * self.activation(gate_output)\n",
    "        return self.up(gated_output)\n",
    "\n",
    "\n",
    "# 提取隐藏状态\n",
    "def extract_hidden_states(texts, model, tokenizer, batch_size=4):\n",
    "    hidden_states = []\n",
    "    for i in tqdm(range(0, len(texts), batch_size), desc=\"Processing data batches\"):\n",
    "        batch_texts = texts[i:i + batch_size]\n",
    "        inputs = tokenizer(batch_texts, return_tensors=\"pt\", padding=True, truncation=True)\n",
    "        inputs = {key: val.to(\"cuda\") for key, val in inputs.items()}  # 移动到 GPU\n",
    "        with torch.no_grad():\n",
    "            outputs = model(**inputs)\n",
    "        last_layer_hidden_states = outputs.hidden_states[-1]\n",
    "        last_token_hidden_states = last_layer_hidden_states[:, -1, :].cpu().numpy()  # 最后一个token的隐藏状态\n",
    "        hidden_states.append(last_token_hidden_states)\n",
    "    return np.vstack(hidden_states)\n",
    "\n",
    "def extract_reference_embeddings(references, model, tokenizer, batch_size=4):\n",
    "    device = torch.device(\"cuda\" if torch.cuda.is_available() else \"cpu\")\n",
    "    model.to(device)\n",
    "    embeddings = []\n",
    "    for i in tqdm(range(0, len(references), batch_size), desc=\"Processing references\"):\n",
    "        batch_references = references[i:i + batch_size]\n",
    "        inputs = tokenizer(batch_references, return_tensors=\"pt\", padding=True, truncation=True)\n",
    "        inputs = {key: val.to(device) for key, val in inputs.items()}  # Move inputs to GPU\n",
    "        with torch.no_grad():\n",
    "            outputs = model(**inputs)\n",
    "        # Use the pooler output (for sequence classification tasks, typically the [CLS] token)\n",
    "        embeddings.append(outputs.pooler_output.cpu().numpy())\n",
    "    return np.vstack(embeddings)\n",
    "\n",
    "# Load data for infringement & non-infringement\n",
    "def load_data(non_infringement_file, infringement_file):\n",
    "    with open(non_infringement_file, 'r', encoding='utf-8') as file:\n",
    "        non_infringement_json_data = json.load(file)\n",
    "\n",
    "    non_infringement_outputs = [entry['input'] for entry in non_infringement_json_data]\n",
    "    non_infringement_references = [entry['reference'] for entry in non_infringement_json_data]\n",
    "    y_non_infringement = [1] * len(non_infringement_outputs)\n",
    "\n",
    "    with open(infringement_file, 'r', encoding='utf-8') as file:\n",
    "        infringement_json_data = json.load(file)\n",
    "\n",
    "    infringement_outputs = [entry['input'] for entry in infringement_json_data]\n",
    "    infringement_references = [entry['reference'] for entry in infringement_json_data]\n",
    "    y_infringement = [0] * len(infringement_outputs)\n",
    "\n",
    "    return non_infringement_outputs, non_infringement_references, y_non_infringement, infringement_outputs, infringement_references, y_infringement\n",
    "\n",
    "# 加载模型\n",
    "def load_large_model(model_name):\n",
    "    \"\"\"加载超大模型并在多卡上分布\"\"\"\n",
    "    print(\"Loading model across multiple GPUs...\")\n",
    "    model = AutoModelForCausalLM.from_pretrained(\n",
    "        model_name,\n",
    "        device_map=\"balanced\",  # 自动平衡分布到多张 GPU\n",
    "        offload_folder=\"offload\",  # 如果显存不足，部分权重会被卸载到磁盘\n",
    "        offload_state_dict=True,\n",
    "        output_hidden_states=True\n",
    "    )\n",
    "    print(\"Model loaded successfully.\")\n",
    "    return model\n",
    "\n",
    "\n",
    "def train_model(X_train, y_train, X_test, y_test, input_dim, hidden_dim, epochs=2000, lr=0.001, checkpoint_path=checkpoint_file):\n",
    "    custom_mlp = CustomMLP(input_dim, hidden_dim).to(\"cuda\")\n",
    "    criterion = nn.BCEWithLogitsLoss()\n",
    "    optimizer = torch.optim.Adam(custom_mlp.parameters(), lr=lr)\n",
    "\n",
    "    X_train_tensor = torch.tensor(X_train, dtype=torch.float32).to(\"cuda\")\n",
    "    y_train_tensor = torch.tensor(y_train, dtype=torch.float32).unsqueeze(1).to(\"cuda\")\n",
    "\n",
    "    best_f1 = -float('inf')  # 初始化最佳 F1 分数\n",
    "    best_accuracy = -float('inf')  # 初始化最佳准确率\n",
    "    losses = []\n",
    "\n",
    "    for epoch in tqdm(range(epochs), desc=\"Training Epochs\"):\n",
    "        custom_mlp.train()\n",
    "        optimizer.zero_grad()\n",
    "        outputs = custom_mlp(X_train_tensor)\n",
    "        loss = criterion(outputs, y_train_tensor)\n",
    "        loss.backward()\n",
    "        optimizer.step()\n",
    "        losses.append(loss.item())\n",
    "\n",
    "        if (epoch + 1) % 10 == 0:\n",
    "            print(f\"Epoch {epoch + 1}/{epochs}, Loss: {loss.item():.4f}\")\n",
    "            # 测试模型\n",
    "            custom_mlp.eval()\n",
    "            X_test_tensor = torch.tensor(X_test, dtype=torch.float32).to(\"cuda\")\n",
    "            with torch.no_grad():\n",
    "                y_pred_logits = custom_mlp(X_test_tensor)\n",
    "                y_pred = (torch.sigmoid(y_pred_logits) > 0.5).float().cpu().numpy()\n",
    "\n",
    "            accuracy = accuracy_score(y_test, y_pred)\n",
    "            f1 = f1_score(y_test, y_pred)\n",
    "            print(f\"Test Accuracy: {accuracy * 100:.2f}%, F1-score: {f1:.4f}\")\n",
    "            \n",
    "            # 更新最佳准确率和F1分数\n",
    "            if accuracy > best_accuracy:\n",
    "                best_accuracy = accuracy\n",
    "                torch.save(custom_mlp.state_dict(), checkpoint_path)  # 保存模型\n",
    "                print(f\"New best model saved with Accuracy {best_accuracy * 100:.2f}%.\")\n",
    "\n",
    "            if f1 > best_f1:\n",
    "                best_f1 = f1\n",
    "                torch.save(custom_mlp.state_dict(), checkpoint_path)  # 保存模型\n",
    "                print(f\"New best model saved with F1-score {best_f1:.4f}.\")\n",
    "\n",
    "    # 绘制训练损失曲线\n",
    "    plt.plot(losses)\n",
    "    plt.title(\"Training Loss Curve\")\n",
    "    plt.xlabel(\"Epoch\")\n",
    "    plt.ylabel(\"Loss\")\n",
    "    plt.show()\n",
    "\n",
    "    return custom_mlp, best_accuracy, best_f1\n",
    "\n",
    "\n",
    "# 加载数据\n",
    "tokenizer = AutoTokenizer.from_pretrained(model_name, model_max_length=512)\n",
    "model = load_large_model(model_name)\n",
    "tokenizer.pad_token = tokenizer.eos_token\n",
    "bert_tokenizer = AutoTokenizer.from_pretrained('google-bert/bert-base-uncased')\n",
    "bert_model = AutoModel.from_pretrained('google-bert/bert-base-uncased')\n",
    "bert_tokenizer.pad_token = tokenizer.eos_token\n",
    "\n",
    "non_infringement_outputs, non_infringement_references, y_non_infringement, infringement_outputs, infringement_references, y_infringement = load_data(\n",
    "    non_infringement_file, infringement_file\n",
    ")\n",
    "\n",
    "y_non_infringement = np.array(y_non_infringement)\n",
    "y_infringement = np.array(y_infringement)\n",
    "\n",
    "# Extract hidden states and reference embeddings\n",
    "print(\"Extracting hidden states for non_infringement texts...\")\n",
    "X_non_infringement = extract_hidden_states(non_infringement_outputs, model, tokenizer)\n",
    "print(\"Extracting reference embeddings for non_infringement texts...\")\n",
    "reference_embeddings_non_infringement = extract_reference_embeddings(non_infringement_references, bert_model, bert_tokenizer)\n",
    "X_non_infringement_combined = np.hstack([X_non_infringement, reference_embeddings_non_infringement])\n",
    "\n",
    "print(\"Extracting hidden states for infringement texts...\")\n",
    "X_infringement = extract_hidden_states(infringement_outputs, model, tokenizer)\n",
    "print(\"Extracting reference embeddings for infringement texts...\")\n",
    "reference_embeddings_infringement = extract_reference_embeddings(infringement_references, bert_model, bert_tokenizer)\n",
    "X_infringement_combined = np.hstack([X_infringement, reference_embeddings_infringement])\n",
    "\n",
    "# Split data into train and test sets\n",
    "split_index_non_infringement = int(0.8 * len(X_non_infringement_combined))\n",
    "X_non_infringement_train = X_non_infringement_combined[:split_index_non_infringement]\n",
    "X_non_infringement_test = X_non_infringement_combined[split_index_non_infringement:]\n",
    "y_non_infringement_train = y_non_infringement[:split_index_non_infringement]\n",
    "y_non_infringement_test = y_non_infringement[split_index_non_infringement:]\n",
    "\n",
    "split_index_infringement = int(0.8 * len(X_infringement_combined))\n",
    "X_infringement_train = X_infringement_combined[:split_index_infringement]\n",
    "X_infringement_test = X_infringement_combined[split_index_infringement:]\n",
    "y_infringement_train = y_infringement[:split_index_infringement]\n",
    "y_infringement_test = y_infringement[split_index_infringement:]\n",
    "\n",
    "X_train = np.vstack((X_non_infringement_train, X_infringement_train))\n",
    "X_test = np.vstack((X_non_infringement_test, X_infringement_test))\n",
    "y_train = np.concatenate((y_non_infringement_train, y_infringement_train))\n",
    "y_test = np.concatenate((y_non_infringement_test, y_infringement_test))\n",
    "\n",
    "print(\"Data successfully split into training and test sets.\")\n",
    "\n",
    "# 定义参数并训练\n",
    "input_dim = X_train.shape[1]\n",
    "hidden_dim = 256\n",
    "\n",
    "trained_model, best_accuracy, best_f1 = train_model(X_train, y_train, X_test, y_test, input_dim, hidden_dim)\n",
    "print(f\"Training complete. Best Accuracy: {best_accuracy * 100:.2f}%, Best F1-score: {best_f1:.4f}\")\n",
    "\n",
    "# # Save checkpoint\n",
    "# def save_checkpoint(model, optimizer, epoch, loss, filepath):\n",
    "#     checkpoint = {\n",
    "#         'epoch': epoch + 1,\n",
    "#         'model_state_dict': model.state_dict(),\n",
    "#         'optimizer_state_dict': optimizer.state_dict(),\n",
    "#         'loss': loss\n",
    "#     }\n",
    "#     torch.save(checkpoint, filepath)\n",
    "#     print(f\"Checkpoint saved to '{filepath}'.\")\n",
    "\n",
    "# save_checkpoint(custom_mlp, torch.optim.Adam(custom_mlp.parameters()), len(losses), losses[-1], checkpoint_file)\n",
    "\n",
    "# # Final predictions\n",
    "# y_pred_final = (torch.sigmoid(torch.tensor(custom_mlp(torch.tensor(X_test, dtype=torch.float32).to('cuda')))) > 0.5).float().cpu().numpy()\n",
    "# print(classification_report(y_test, y_pred_final, target_names=[\"infringement\", \"non_infringement\"]))\n"
   ]
  }
 ],
 "metadata": {
  "kernelspec": {
   "display_name": "zdh",
   "language": "python",
   "name": "python3"
  },
  "language_info": {
   "codemirror_mode": {
    "name": "ipython",
    "version": 3
   },
   "file_extension": ".py",
   "mimetype": "text/x-python",
   "name": "python",
   "nbconvert_exporter": "python",
   "pygments_lexer": "ipython3",
   "version": "3.12.3"
  }
 },
 "nbformat": 4,
 "nbformat_minor": 2
}
