{
 "cells": [
  {
   "cell_type": "code",
   "execution_count": 1,
   "metadata": {},
   "outputs": [
    {
     "name": "stderr",
     "output_type": "stream",
     "text": [
      "/home/guangwei/miniconda3/envs/zdh/lib/python3.12/site-packages/tqdm/auto.py:21: TqdmWarning: IProgress not found. Please update jupyter and ipywidgets. See https://ipywidgets.readthedocs.io/en/stable/user_install.html\n",
      "  from .autonotebook import tqdm as notebook_tqdm\n"
     ]
    }
   ],
   "source": [
    "# import packages & variables\n",
    "import argparse\n",
    "import torch\n",
    "import torch.nn as nn\n",
    "import numpy as np\n",
    "from sklearn.metrics import accuracy_score, classification_report\n",
    "import matplotlib.pyplot as plt\n",
    "from tqdm import tqdm\n",
    "from transformers import AutoTokenizer, AutoModelForCausalLM, AutoModel, AutoModelForSequenceClassification\n",
    "import json\n",
    "import os\n",
    "\n",
    "os.environ[\"CUDA_VISIBLE_DEVICES\"] = \"7\"\n",
    "\n",
    "# Parameters\n",
    "model_name = 'meta-llama/Meta-Llama-3.1-8B'\n",
    "non_infringement_file = '/home/guangwei/LLM-COPYRIGHT/copyright_newVersion/test_division/extra_70B.non_infringement.json'\n",
    "infringement_file = '/home/guangwei/LLM-COPYRIGHT/copyright_newVersion/test_division/extra_70B.infringement.json'\n",
    "checkpoint_file = '/home/guangwei/LLM-COPYRIGHT/copyright_newVersion/models/train_input_reference_last_token.pth'\n"
   ]
  },
  {
   "cell_type": "code",
   "execution_count": 2,
   "metadata": {},
   "outputs": [],
   "source": [
    "# Define CustumMLP for internal states train\n",
    "class CustomMLP(nn.Module):\n",
    "    def __init__(self, input_dim, hidden_dim):\n",
    "        super(CustomMLP, self).__init__()\n",
    "        self.down = nn.Linear(input_dim, hidden_dim)\n",
    "        self.gate = nn.Linear(input_dim, hidden_dim)\n",
    "        self.up = nn.Linear(hidden_dim, 1)\n",
    "        self.activation = nn.SiLU()\n",
    "\n",
    "    def forward(self, x):\n",
    "        down_output = self.down(x)\n",
    "        gate_output = self.gate(x)\n",
    "        gated_output = down_output * self.activation(gate_output)\n",
    "        return self.up(gated_output)"
   ]
  },
  {
   "cell_type": "code",
   "execution_count": 3,
   "metadata": {},
   "outputs": [],
   "source": [
    "# Extract hidden states/reference embeddings\n",
    "def extract_hidden_states(texts, model, tokenizer, batch_size=4):\n",
    "    device = torch.device(\"cuda\" if torch.cuda.is_available() else \"cpu\")\n",
    "    model.to(device)\n",
    "    model = nn.DataParallel(model)\n",
    "    hidden_states = []\n",
    "    for i in tqdm(range(0, len(texts), batch_size), desc=\"Processing data batches\"):\n",
    "        batch_texts = texts[i:i + batch_size]\n",
    "        inputs = tokenizer(batch_texts, return_tensors=\"pt\", padding=True, truncation=True)\n",
    "        with torch.no_grad():\n",
    "            outputs = model(**inputs)\n",
    "        \n",
    "        # 访问最后一个隐藏层的最后一个token的隐藏状态\n",
    "        # hidden_states[-1]表示最后一个隐藏层，mean(dim=1)表示取所有头的均值\n",
    "        last_layer_hidden_states = outputs.hidden_states[-1]\n",
    "        last_token_hidden_states = last_layer_hidden_states[:, -1, :]  # -1表示最后一个token\n",
    "        hidden_states.append(last_token_hidden_states.cpu().numpy())\n",
    "    return np.vstack(hidden_states)\n",
    "\n",
    "def extract_reference_embeddings(references, model, tokenizer, batch_size=4):\n",
    "    device = torch.device(\"cuda\" if torch.cuda.is_available() else \"cpu\")\n",
    "    model.to(device)\n",
    "    model = nn.DataParallel(model)\n",
    "    embeddings = []\n",
    "    for i in tqdm(range(0, len(references), batch_size), desc=\"Processing references\"):\n",
    "        batch_references = references[i:i + batch_size]\n",
    "        inputs = tokenizer(batch_references, return_tensors=\"pt\", padding=True, truncation=True).to(device)\n",
    "        with torch.no_grad():\n",
    "            outputs = model(**inputs)\n",
    "        embeddings.append(outputs.pooler_output.cpu().numpy())\n",
    "    return np.vstack(embeddings)"
   ]
  },
  {
   "cell_type": "code",
   "execution_count": 4,
   "metadata": {},
   "outputs": [],
   "source": [
    "# load data for infringement & non infringement\n",
    "def load_data(non_infringement_file, infringement_file):\n",
    "    with open(non_infringement_file, 'r', encoding='utf-8') as file:\n",
    "        non_infringement_json_data = json.load(file)\n",
    "\n",
    "    non_infringement_outputs = [entry['input'] for entry in non_infringement_json_data]\n",
    "    non_infringement_references = [entry['reference'] for entry in non_infringement_json_data]\n",
    "    y_non_infringement = [1] * len(non_infringement_outputs)\n",
    "\n",
    "    with open(infringement_file, 'r', encoding='utf-8') as file:\n",
    "        infringement_json_data = json.load(file)\n",
    "\n",
    "    infringement_outputs = [entry['input'] for entry in infringement_json_data]\n",
    "    infringement_references = [entry['reference'] for entry in infringement_json_data]\n",
    "    y_infringement = [0] * len(infringement_outputs)\n",
    "\n",
    "    return non_infringement_outputs, non_infringement_references, y_non_infringement, infringement_outputs, infringement_references, y_infringement"
   ]
  },
  {
   "cell_type": "code",
   "execution_count": 5,
   "metadata": {},
   "outputs": [],
   "source": [
    "from sklearn.metrics import accuracy_score, classification_report, f1_score\n",
    "\n",
    "# Train for best model\n",
    "def train_model(X_train, y_train, X_test, y_test, input_dim, hidden_dim, epochs=2500, lr=0.001, checkpoint_path=checkpoint_file):\n",
    "    custom_mlp = CustomMLP(input_dim, hidden_dim)\n",
    "    criterion = nn.BCEWithLogitsLoss()\n",
    "    optimizer = torch.optim.Adam(custom_mlp.parameters(), lr=lr)\n",
    "\n",
    "    X_train_tensor = torch.tensor(X_train, dtype=torch.float32)\n",
    "    y_train_tensor = torch.tensor(y_train, dtype=torch.float32).unsqueeze(1)\n",
    "\n",
    "    best_accuracy = -float('inf')\n",
    "    best_f1 = -float('inf')  # Track best F1-score\n",
    "    best_model_state = None\n",
    "    best_epoch = 0\n",
    "    losses = []\n",
    "\n",
    "    for epoch in tqdm(range(epochs), desc=\"Training Epochs\"):\n",
    "        custom_mlp.train()\n",
    "        optimizer.zero_grad()\n",
    "        outputs = custom_mlp(X_train_tensor)\n",
    "        loss = criterion(outputs, y_train_tensor)\n",
    "        loss.backward()\n",
    "        optimizer.step()\n",
    "        losses.append(loss.item())\n",
    "\n",
    "        # Every 10 epochs, evaluate the model\n",
    "        if (epoch + 1) % 10 == 0:\n",
    "            print(f\"Epoch {epoch + 1}/{epochs}, Loss: {loss.item():.4f}\")\n",
    "            \n",
    "            custom_mlp.eval()\n",
    "            X_test_tensor = torch.tensor(X_test, dtype=torch.float32)\n",
    "            with torch.no_grad():\n",
    "                y_pred_logits = custom_mlp(X_test_tensor)\n",
    "                y_pred = (torch.sigmoid(y_pred_logits) > 0.5).float().numpy()\n",
    "            \n",
    "            # Calculate accuracy and F1-score\n",
    "            accuracy = accuracy_score(y_test, y_pred)\n",
    "            f1 = f1_score(y_test, y_pred)  # F1-score calculation\n",
    "            \n",
    "            print(f\"Test Accuracy at Epoch {epoch + 1}: {accuracy * 100:.2f}%\")\n",
    "            print(f\"Test F1-score at Epoch {epoch + 1}: {f1:.4f}\")\n",
    "            \n",
    "            # Generate classification report\n",
    "            report = classification_report(y_test, y_pred, target_names=[\"infringement\", \"non_infringement\"])\n",
    "            print(f\"Classification Report at Epoch {epoch + 1}:\\n{report}\")\n",
    "\n",
    "            # Save the model if it achieves a better F1-score\n",
    "            if f1 > best_f1:\n",
    "                best_accuracy = accuracy\n",
    "                best_f1 = f1\n",
    "                best_model_state = custom_mlp.state_dict()\n",
    "                best_epoch = epoch + 1\n",
    "                torch.save(best_model_state, checkpoint_path)\n",
    "                print(f\"New best model saved with F1-score {best_f1:.4f} at epoch {best_epoch}\")\n",
    "                print(f\"Best Classification Report at Epoch {best_epoch}:\\n{report}\")\n",
    "\n",
    "    # Load the best model state\n",
    "    custom_mlp.load_state_dict(torch.load(checkpoint_path))\n",
    "\n",
    "    # Plot loss curve\n",
    "    plt.figure(figsize=(10, 5))\n",
    "    plt.plot(losses, label='Training Loss')\n",
    "    plt.xlabel('Epoch')\n",
    "    plt.ylabel('Loss')\n",
    "    plt.title('Training Loss Curve')\n",
    "    plt.legend()\n",
    "    plt.show()\n",
    "\n",
    "    print(f\"Final Model Accuracy: {best_accuracy * 100:.2f}%\")\n",
    "    print(f\"Final Model F1-score: {best_f1:.4f}\")\n",
    "    \n",
    "    return custom_mlp, losses, best_accuracy, best_f1\n"
   ]
  },
  {
   "cell_type": "code",
   "execution_count": 6,
   "metadata": {},
   "outputs": [
    {
     "name": "stderr",
     "output_type": "stream",
     "text": [
      "/home/guangwei/miniconda3/envs/zdh/lib/python3.12/site-packages/transformers/generation/configuration_utils.py:774: UserWarning: `return_dict_in_generate` is NOT set to `True`, but `output_hidden_states` is. When `return_dict_in_generate` is not `True`, `output_hidden_states` is ignored.\n",
      "  warnings.warn(\n",
      "Loading checkpoint shards: 100%|██████████| 4/4 [00:02<00:00,  1.56it/s]\n"
     ]
    }
   ],
   "source": [
    "tokenizer = AutoTokenizer.from_pretrained(model_name, model_max_length=512)\n",
    "model = AutoModelForCausalLM.from_pretrained(model_name, output_hidden_states=True)\n",
    "tokenizer.pad_token = tokenizer.eos_token\n",
    "bert_tokenizer = AutoTokenizer.from_pretrained('google-bert/bert-base-uncased')\n",
    "bert_model = AutoModel.from_pretrained('google-bert/bert-base-uncased')\n",
    "bert_tokenizer.pad_token = tokenizer.eos_token\n",
    "\n",
    "non_infringement_outputs, non_infringement_references, y_non_infringement, infringement_outputs, infringement_references, y_infringement = load_data(\n",
    "    non_infringement_file, infringement_file\n",
    ")\n",
    "\n",
    "y_non_infringement = np.array(y_non_infringement)\n",
    "y_infringement = np.array(y_infringement)\n"
   ]
  },
  {
   "cell_type": "code",
   "execution_count": 7,
   "metadata": {},
   "outputs": [
    {
     "name": "stdout",
     "output_type": "stream",
     "text": [
      "Extracting hidden states for non_infringement texts...\n"
     ]
    },
    {
     "name": "stderr",
     "output_type": "stream",
     "text": [
      "Processing data batches: 100%|██████████| 198/198 [00:30<00:00,  6.44it/s]\n"
     ]
    },
    {
     "name": "stdout",
     "output_type": "stream",
     "text": [
      "Extracting reference embeddings for non_infringement texts...\n"
     ]
    },
    {
     "name": "stderr",
     "output_type": "stream",
     "text": [
      "Processing references: 100%|██████████| 198/198 [00:02<00:00, 97.41it/s] \n"
     ]
    },
    {
     "name": "stdout",
     "output_type": "stream",
     "text": [
      "Extracting hidden states for infringement texts...\n"
     ]
    },
    {
     "name": "stderr",
     "output_type": "stream",
     "text": [
      "Processing data batches: 100%|██████████| 184/184 [00:27<00:00,  6.75it/s]\n"
     ]
    },
    {
     "name": "stdout",
     "output_type": "stream",
     "text": [
      "Extracting reference embeddings for infringement texts...\n"
     ]
    },
    {
     "name": "stderr",
     "output_type": "stream",
     "text": [
      "Processing references: 100%|██████████| 184/184 [00:01<00:00, 101.03it/s]\n"
     ]
    }
   ],
   "source": [
    "print(\"Extracting hidden states for non_infringement texts...\")\n",
    "X_non_infringement = extract_hidden_states(non_infringement_outputs, model, tokenizer)\n",
    "print(\"Extracting reference embeddings for non_infringement texts...\")\n",
    "reference_embeddings_non_infringement = extract_reference_embeddings(non_infringement_references, bert_model, bert_tokenizer)\n",
    "X_non_infringement_combined = np.hstack([X_non_infringement, reference_embeddings_non_infringement])\n",
    "\n",
    "print(\"Extracting hidden states for infringement texts...\")\n",
    "X_infringement = extract_hidden_states(infringement_outputs, model, tokenizer)\n",
    "print(\"Extracting reference embeddings for infringement texts...\")\n",
    "reference_embeddings_infringement = extract_reference_embeddings(infringement_references, bert_model, bert_tokenizer)\n",
    "X_infringement_combined = np.hstack([X_infringement, reference_embeddings_infringement])"
   ]
  },
  {
   "cell_type": "code",
   "execution_count": 8,
   "metadata": {},
   "outputs": [
    {
     "name": "stdout",
     "output_type": "stream",
     "text": [
      "Data successfully split into training and test sets.\n"
     ]
    }
   ],
   "source": [
    "split_index_non_infringement = int(0.8 * len(X_non_infringement_combined))\n",
    "X_non_infringement_train = X_non_infringement_combined[:split_index_non_infringement]\n",
    "X_non_infringement_test = X_non_infringement_combined[split_index_non_infringement:]\n",
    "y_non_infringement_train = y_non_infringement[:split_index_non_infringement]\n",
    "y_non_infringement_test = y_non_infringement[split_index_non_infringement:]\n",
    "\n",
    "split_index_infringement = int(0.8 * len(X_infringement_combined))\n",
    "X_infringement_train = X_infringement_combined[:split_index_infringement]\n",
    "X_infringement_test = X_infringement_combined[split_index_infringement:]\n",
    "y_infringement_train = y_infringement[:split_index_infringement]\n",
    "y_infringement_test = y_infringement[split_index_infringement:]\n",
    "\n",
    "X_train = np.vstack((X_non_infringement_train, X_infringement_train))\n",
    "X_test = np.vstack((X_non_infringement_test, X_infringement_test))\n",
    "y_train = np.concatenate((y_non_infringement_train, y_infringement_train))\n",
    "y_test = np.concatenate((y_non_infringement_test, y_infringement_test))\n",
    "\n",
    "print(\"Data successfully split into training and test sets.\")"
   ]
  },
  {
   "cell_type": "code",
   "execution_count": 9,
   "metadata": {},
   "outputs": [
    {
     "name": "stderr",
     "output_type": "stream",
     "text": [
      "Training Epochs:   0%|          | 10/2500 [00:00<03:10, 13.09it/s]"
     ]
    },
    {
     "name": "stdout",
     "output_type": "stream",
     "text": [
      "Epoch 10/2500, Loss: 0.3842\n",
      "Test Accuracy at Epoch 10: 85.90%\n",
      "Test F1-score at Epoch 10: 0.8761\n",
      "Classification Report at Epoch 10:\n",
      "                  precision    recall  f1-score   support\n",
      "\n",
      "    infringement       0.95      0.75      0.84       147\n",
      "non_infringement       0.80      0.96      0.88       158\n",
      "\n",
      "        accuracy                           0.86       305\n",
      "       macro avg       0.88      0.86      0.86       305\n",
      "    weighted avg       0.87      0.86      0.86       305\n",
      "\n",
      "New best model saved with F1-score 0.8761 at epoch 10\n",
      "Best Classification Report at Epoch 10:\n",
      "                  precision    recall  f1-score   support\n",
      "\n",
      "    infringement       0.95      0.75      0.84       147\n",
      "non_infringement       0.80      0.96      0.88       158\n",
      "\n",
      "        accuracy                           0.86       305\n",
      "       macro avg       0.88      0.86      0.86       305\n",
      "    weighted avg       0.87      0.86      0.86       305\n",
      "\n"
     ]
    },
    {
     "name": "stderr",
     "output_type": "stream",
     "text": [
      "Training Epochs:   1%|          | 24/2500 [00:01<01:39, 24.83it/s]"
     ]
    },
    {
     "name": "stdout",
     "output_type": "stream",
     "text": [
      "Epoch 20/2500, Loss: 0.3144\n",
      "Test Accuracy at Epoch 20: 85.57%\n",
      "Test F1-score at Epoch 20: 0.8728\n",
      "Classification Report at Epoch 20:\n",
      "                  precision    recall  f1-score   support\n",
      "\n",
      "    infringement       0.94      0.75      0.83       147\n",
      "non_infringement       0.80      0.96      0.87       158\n",
      "\n",
      "        accuracy                           0.86       305\n",
      "       macro avg       0.87      0.85      0.85       305\n",
      "    weighted avg       0.87      0.86      0.85       305\n",
      "\n"
     ]
    },
    {
     "name": "stderr",
     "output_type": "stream",
     "text": [
      "Training Epochs:   1%|          | 31/2500 [00:01<01:46, 23.13it/s]"
     ]
    },
    {
     "name": "stdout",
     "output_type": "stream",
     "text": [
      "Epoch 30/2500, Loss: 0.2366\n",
      "Test Accuracy at Epoch 30: 87.87%\n",
      "Test F1-score at Epoch 30: 0.8862\n",
      "Classification Report at Epoch 30:\n",
      "                  precision    recall  f1-score   support\n",
      "\n",
      "    infringement       0.90      0.84      0.87       147\n",
      "non_infringement       0.86      0.91      0.89       158\n",
      "\n",
      "        accuracy                           0.88       305\n",
      "       macro avg       0.88      0.88      0.88       305\n",
      "    weighted avg       0.88      0.88      0.88       305\n",
      "\n",
      "New best model saved with F1-score 0.8862 at epoch 30\n",
      "Best Classification Report at Epoch 30:\n",
      "                  precision    recall  f1-score   support\n",
      "\n",
      "    infringement       0.90      0.84      0.87       147\n",
      "non_infringement       0.86      0.91      0.89       158\n",
      "\n",
      "        accuracy                           0.88       305\n",
      "       macro avg       0.88      0.88      0.88       305\n",
      "    weighted avg       0.88      0.88      0.88       305\n",
      "\n"
     ]
    },
    {
     "name": "stderr",
     "output_type": "stream",
     "text": [
      "Training Epochs:   2%|▏         | 44/2500 [00:02<01:49, 22.49it/s]"
     ]
    },
    {
     "name": "stdout",
     "output_type": "stream",
     "text": [
      "Epoch 40/2500, Loss: 0.1787\n",
      "Test Accuracy at Epoch 40: 89.18%\n",
      "Test F1-score at Epoch 40: 0.8991\n",
      "Classification Report at Epoch 40:\n",
      "                  precision    recall  f1-score   support\n",
      "\n",
      "    infringement       0.92      0.85      0.88       147\n",
      "non_infringement       0.87      0.93      0.90       158\n",
      "\n",
      "        accuracy                           0.89       305\n",
      "       macro avg       0.89      0.89      0.89       305\n",
      "    weighted avg       0.89      0.89      0.89       305\n",
      "\n",
      "New best model saved with F1-score 0.8991 at epoch 40\n",
      "Best Classification Report at Epoch 40:\n",
      "                  precision    recall  f1-score   support\n",
      "\n",
      "    infringement       0.92      0.85      0.88       147\n",
      "non_infringement       0.87      0.93      0.90       158\n",
      "\n",
      "        accuracy                           0.89       305\n",
      "       macro avg       0.89      0.89      0.89       305\n",
      "    weighted avg       0.89      0.89      0.89       305\n",
      "\n"
     ]
    },
    {
     "name": "stderr",
     "output_type": "stream",
     "text": [
      "Training Epochs:   2%|▏         | 53/2500 [00:02<01:45, 23.30it/s]"
     ]
    },
    {
     "name": "stdout",
     "output_type": "stream",
     "text": [
      "Epoch 50/2500, Loss: 0.1321\n",
      "Test Accuracy at Epoch 50: 90.82%\n",
      "Test F1-score at Epoch 50: 0.9157\n",
      "Classification Report at Epoch 50:\n",
      "                  precision    recall  f1-score   support\n",
      "\n",
      "    infringement       0.95      0.85      0.90       147\n",
      "non_infringement       0.87      0.96      0.92       158\n",
      "\n",
      "        accuracy                           0.91       305\n",
      "       macro avg       0.91      0.91      0.91       305\n",
      "    weighted avg       0.91      0.91      0.91       305\n",
      "\n",
      "New best model saved with F1-score 0.9157 at epoch 50\n",
      "Best Classification Report at Epoch 50:\n",
      "                  precision    recall  f1-score   support\n",
      "\n",
      "    infringement       0.95      0.85      0.90       147\n",
      "non_infringement       0.87      0.96      0.92       158\n",
      "\n",
      "        accuracy                           0.91       305\n",
      "       macro avg       0.91      0.91      0.91       305\n",
      "    weighted avg       0.91      0.91      0.91       305\n",
      "\n"
     ]
    },
    {
     "name": "stderr",
     "output_type": "stream",
     "text": [
      "Training Epochs:   2%|▏         | 61/2500 [00:03<01:29, 27.33it/s]"
     ]
    },
    {
     "name": "stdout",
     "output_type": "stream",
     "text": [
      "Epoch 60/2500, Loss: 0.0985\n",
      "Test Accuracy at Epoch 60: 90.49%\n",
      "Test F1-score at Epoch 60: 0.9108\n",
      "Classification Report at Epoch 60:\n",
      "                  precision    recall  f1-score   support\n",
      "\n",
      "    infringement       0.93      0.87      0.90       147\n",
      "non_infringement       0.89      0.94      0.91       158\n",
      "\n",
      "        accuracy                           0.90       305\n",
      "       macro avg       0.91      0.90      0.90       305\n",
      "    weighted avg       0.91      0.90      0.90       305\n",
      "\n"
     ]
    },
    {
     "name": "stderr",
     "output_type": "stream",
     "text": [
      "Training Epochs:   3%|▎         | 72/2500 [00:03<01:37, 24.85it/s]"
     ]
    },
    {
     "name": "stdout",
     "output_type": "stream",
     "text": [
      "Epoch 70/2500, Loss: 0.0751\n",
      "Test Accuracy at Epoch 70: 91.15%\n",
      "Test F1-score at Epoch 70: 0.9189\n",
      "Classification Report at Epoch 70:\n",
      "                  precision    recall  f1-score   support\n",
      "\n",
      "    infringement       0.96      0.85      0.90       147\n",
      "non_infringement       0.87      0.97      0.92       158\n",
      "\n",
      "        accuracy                           0.91       305\n",
      "       macro avg       0.92      0.91      0.91       305\n",
      "    weighted avg       0.92      0.91      0.91       305\n",
      "\n",
      "New best model saved with F1-score 0.9189 at epoch 70\n",
      "Best Classification Report at Epoch 70:\n",
      "                  precision    recall  f1-score   support\n",
      "\n",
      "    infringement       0.96      0.85      0.90       147\n",
      "non_infringement       0.87      0.97      0.92       158\n",
      "\n",
      "        accuracy                           0.91       305\n",
      "       macro avg       0.92      0.91      0.91       305\n",
      "    weighted avg       0.92      0.91      0.91       305\n",
      "\n"
     ]
    },
    {
     "name": "stderr",
     "output_type": "stream",
     "text": [
      "Training Epochs:   3%|▎         | 82/2500 [00:04<02:17, 17.63it/s]"
     ]
    },
    {
     "name": "stdout",
     "output_type": "stream",
     "text": [
      "Epoch 80/2500, Loss: 0.0596\n",
      "Test Accuracy at Epoch 80: 92.46%\n",
      "Test F1-score at Epoch 80: 0.9305\n",
      "Classification Report at Epoch 80:\n",
      "                  precision    recall  f1-score   support\n",
      "\n",
      "    infringement       0.97      0.87      0.92       147\n",
      "non_infringement       0.89      0.97      0.93       158\n",
      "\n",
      "        accuracy                           0.92       305\n",
      "       macro avg       0.93      0.92      0.92       305\n",
      "    weighted avg       0.93      0.92      0.92       305\n",
      "\n",
      "New best model saved with F1-score 0.9305 at epoch 80\n",
      "Best Classification Report at Epoch 80:\n",
      "                  precision    recall  f1-score   support\n",
      "\n",
      "    infringement       0.97      0.87      0.92       147\n",
      "non_infringement       0.89      0.97      0.93       158\n",
      "\n",
      "        accuracy                           0.92       305\n",
      "       macro avg       0.93      0.92      0.92       305\n",
      "    weighted avg       0.93      0.92      0.92       305\n",
      "\n"
     ]
    },
    {
     "name": "stderr",
     "output_type": "stream",
     "text": [
      "Training Epochs:   4%|▍         | 97/2500 [00:04<01:37, 24.62it/s]"
     ]
    },
    {
     "name": "stdout",
     "output_type": "stream",
     "text": [
      "Epoch 90/2500, Loss: 0.0492\n",
      "Test Accuracy at Epoch 90: 92.46%\n",
      "Test F1-score at Epoch 90: 0.9305\n",
      "Classification Report at Epoch 90:\n",
      "                  precision    recall  f1-score   support\n",
      "\n",
      "    infringement       0.97      0.87      0.92       147\n",
      "non_infringement       0.89      0.97      0.93       158\n",
      "\n",
      "        accuracy                           0.92       305\n",
      "       macro avg       0.93      0.92      0.92       305\n",
      "    weighted avg       0.93      0.92      0.92       305\n",
      "\n"
     ]
    },
    {
     "name": "stderr",
     "output_type": "stream",
     "text": [
      "Training Epochs:   4%|▍         | 105/2500 [00:05<01:23, 28.84it/s]"
     ]
    },
    {
     "name": "stdout",
     "output_type": "stream",
     "text": [
      "Epoch 100/2500, Loss: 0.0419\n",
      "Test Accuracy at Epoch 100: 92.79%\n",
      "Test F1-score at Epoch 100: 0.9333\n",
      "Classification Report at Epoch 100:\n",
      "                  precision    recall  f1-score   support\n",
      "\n",
      "    infringement       0.97      0.88      0.92       147\n",
      "non_infringement       0.90      0.97      0.93       158\n",
      "\n",
      "        accuracy                           0.93       305\n",
      "       macro avg       0.93      0.93      0.93       305\n",
      "    weighted avg       0.93      0.93      0.93       305\n",
      "\n",
      "New best model saved with F1-score 0.9333 at epoch 100\n",
      "Best Classification Report at Epoch 100:\n",
      "                  precision    recall  f1-score   support\n",
      "\n",
      "    infringement       0.97      0.88      0.92       147\n",
      "non_infringement       0.90      0.97      0.93       158\n",
      "\n",
      "        accuracy                           0.93       305\n",
      "       macro avg       0.93      0.93      0.93       305\n",
      "    weighted avg       0.93      0.93      0.93       305\n",
      "\n"
     ]
    },
    {
     "name": "stderr",
     "output_type": "stream",
     "text": [
      "Training Epochs:   5%|▍         | 115/2500 [00:05<01:09, 34.18it/s]"
     ]
    },
    {
     "name": "stdout",
     "output_type": "stream",
     "text": [
      "Epoch 110/2500, Loss: 0.0361\n",
      "Test Accuracy at Epoch 110: 92.79%\n",
      "Test F1-score at Epoch 110: 0.9333\n",
      "Classification Report at Epoch 110:\n",
      "                  precision    recall  f1-score   support\n",
      "\n",
      "    infringement       0.97      0.88      0.92       147\n",
      "non_infringement       0.90      0.97      0.93       158\n",
      "\n",
      "        accuracy                           0.93       305\n",
      "       macro avg       0.93      0.93      0.93       305\n",
      "    weighted avg       0.93      0.93      0.93       305\n",
      "\n"
     ]
    },
    {
     "name": "stderr",
     "output_type": "stream",
     "text": [
      "Training Epochs:   5%|▌         | 125/2500 [00:05<01:03, 37.51it/s]"
     ]
    },
    {
     "name": "stdout",
     "output_type": "stream",
     "text": [
      "Epoch 120/2500, Loss: 0.0315\n",
      "Test Accuracy at Epoch 120: 92.79%\n",
      "Test F1-score at Epoch 120: 0.9333\n",
      "Classification Report at Epoch 120:\n",
      "                  precision    recall  f1-score   support\n",
      "\n",
      "    infringement       0.97      0.88      0.92       147\n",
      "non_infringement       0.90      0.97      0.93       158\n",
      "\n",
      "        accuracy                           0.93       305\n",
      "       macro avg       0.93      0.93      0.93       305\n",
      "    weighted avg       0.93      0.93      0.93       305\n",
      "\n"
     ]
    },
    {
     "name": "stderr",
     "output_type": "stream",
     "text": [
      "Training Epochs:   5%|▌         | 135/2500 [00:05<01:00, 39.14it/s]"
     ]
    },
    {
     "name": "stdout",
     "output_type": "stream",
     "text": [
      "Epoch 130/2500, Loss: 0.0280\n",
      "Test Accuracy at Epoch 130: 92.79%\n",
      "Test F1-score at Epoch 130: 0.9329\n",
      "Classification Report at Epoch 130:\n",
      "                  precision    recall  f1-score   support\n",
      "\n",
      "    infringement       0.96      0.88      0.92       147\n",
      "non_infringement       0.90      0.97      0.93       158\n",
      "\n",
      "        accuracy                           0.93       305\n",
      "       macro avg       0.93      0.93      0.93       305\n",
      "    weighted avg       0.93      0.93      0.93       305\n",
      "\n"
     ]
    },
    {
     "name": "stderr",
     "output_type": "stream",
     "text": [
      "Training Epochs:   6%|▌         | 145/2500 [00:06<00:58, 40.26it/s]"
     ]
    },
    {
     "name": "stdout",
     "output_type": "stream",
     "text": [
      "Epoch 140/2500, Loss: 0.0255\n",
      "Test Accuracy at Epoch 140: 92.79%\n",
      "Test F1-score at Epoch 140: 0.9329\n",
      "Classification Report at Epoch 140:\n",
      "                  precision    recall  f1-score   support\n",
      "\n",
      "    infringement       0.96      0.88      0.92       147\n",
      "non_infringement       0.90      0.97      0.93       158\n",
      "\n",
      "        accuracy                           0.93       305\n",
      "       macro avg       0.93      0.93      0.93       305\n",
      "    weighted avg       0.93      0.93      0.93       305\n",
      "\n"
     ]
    },
    {
     "name": "stderr",
     "output_type": "stream",
     "text": [
      "Training Epochs:   6%|▌         | 150/2500 [00:06<00:59, 39.79it/s]"
     ]
    },
    {
     "name": "stdout",
     "output_type": "stream",
     "text": [
      "Epoch 150/2500, Loss: 0.0236\n",
      "Test Accuracy at Epoch 150: 92.46%\n",
      "Test F1-score at Epoch 150: 0.9297\n",
      "Classification Report at Epoch 150:\n",
      "                  precision    recall  f1-score   support\n",
      "\n",
      "    infringement       0.96      0.88      0.92       147\n",
      "non_infringement       0.90      0.96      0.93       158\n",
      "\n",
      "        accuracy                           0.92       305\n",
      "       macro avg       0.93      0.92      0.92       305\n",
      "    weighted avg       0.93      0.92      0.92       305\n",
      "\n"
     ]
    },
    {
     "name": "stderr",
     "output_type": "stream",
     "text": [
      "Training Epochs:   7%|▋         | 166/2500 [00:07<01:28, 26.40it/s]"
     ]
    },
    {
     "name": "stdout",
     "output_type": "stream",
     "text": [
      "Epoch 160/2500, Loss: 0.0221\n",
      "Test Accuracy at Epoch 160: 92.79%\n",
      "Test F1-score at Epoch 160: 0.9329\n",
      "Classification Report at Epoch 160:\n",
      "                  precision    recall  f1-score   support\n",
      "\n",
      "    infringement       0.96      0.88      0.92       147\n",
      "non_infringement       0.90      0.97      0.93       158\n",
      "\n",
      "        accuracy                           0.93       305\n",
      "       macro avg       0.93      0.93      0.93       305\n",
      "    weighted avg       0.93      0.93      0.93       305\n",
      "\n"
     ]
    },
    {
     "name": "stderr",
     "output_type": "stream",
     "text": [
      "Training Epochs:   7%|▋         | 174/2500 [00:07<01:18, 29.76it/s]"
     ]
    },
    {
     "name": "stdout",
     "output_type": "stream",
     "text": [
      "Epoch 170/2500, Loss: 0.0208\n",
      "Test Accuracy at Epoch 170: 92.79%\n",
      "Test F1-score at Epoch 170: 0.9329\n",
      "Classification Report at Epoch 170:\n",
      "                  precision    recall  f1-score   support\n",
      "\n",
      "    infringement       0.96      0.88      0.92       147\n",
      "non_infringement       0.90      0.97      0.93       158\n",
      "\n",
      "        accuracy                           0.93       305\n",
      "       macro avg       0.93      0.93      0.93       305\n",
      "    weighted avg       0.93      0.93      0.93       305\n",
      "\n"
     ]
    },
    {
     "name": "stderr",
     "output_type": "stream",
     "text": [
      "Training Epochs:   7%|▋         | 186/2500 [00:08<01:41, 22.85it/s]"
     ]
    },
    {
     "name": "stdout",
     "output_type": "stream",
     "text": [
      "Epoch 180/2500, Loss: 0.0197\n",
      "Test Accuracy at Epoch 180: 92.46%\n",
      "Test F1-score at Epoch 180: 0.9297\n",
      "Classification Report at Epoch 180:\n",
      "                  precision    recall  f1-score   support\n",
      "\n",
      "    infringement       0.96      0.88      0.92       147\n",
      "non_infringement       0.90      0.96      0.93       158\n",
      "\n",
      "        accuracy                           0.92       305\n",
      "       macro avg       0.93      0.92      0.92       305\n",
      "    weighted avg       0.93      0.92      0.92       305\n",
      "\n"
     ]
    },
    {
     "name": "stderr",
     "output_type": "stream",
     "text": [
      "Training Epochs:   8%|▊         | 194/2500 [00:08<01:24, 27.16it/s]"
     ]
    },
    {
     "name": "stdout",
     "output_type": "stream",
     "text": [
      "Epoch 190/2500, Loss: 0.0185\n",
      "Test Accuracy at Epoch 190: 92.13%\n",
      "Test F1-score at Epoch 190: 0.9264\n",
      "Classification Report at Epoch 190:\n",
      "                  precision    recall  f1-score   support\n",
      "\n",
      "    infringement       0.95      0.88      0.92       147\n",
      "non_infringement       0.90      0.96      0.93       158\n",
      "\n",
      "        accuracy                           0.92       305\n",
      "       macro avg       0.92      0.92      0.92       305\n",
      "    weighted avg       0.92      0.92      0.92       305\n",
      "\n"
     ]
    },
    {
     "name": "stderr",
     "output_type": "stream",
     "text": [
      "Training Epochs:   8%|▊         | 203/2500 [00:08<01:15, 30.24it/s]"
     ]
    },
    {
     "name": "stdout",
     "output_type": "stream",
     "text": [
      "Epoch 200/2500, Loss: 0.0203\n",
      "Test Accuracy at Epoch 200: 94.75%\n",
      "Test F1-score at Epoch 200: 0.9490\n",
      "Classification Report at Epoch 200:\n",
      "                  precision    recall  f1-score   support\n",
      "\n",
      "    infringement       0.94      0.95      0.95       147\n",
      "non_infringement       0.96      0.94      0.95       158\n",
      "\n",
      "        accuracy                           0.95       305\n",
      "       macro avg       0.95      0.95      0.95       305\n",
      "    weighted avg       0.95      0.95      0.95       305\n",
      "\n",
      "New best model saved with F1-score 0.9490 at epoch 200\n",
      "Best Classification Report at Epoch 200:\n",
      "                  precision    recall  f1-score   support\n",
      "\n",
      "    infringement       0.94      0.95      0.95       147\n",
      "non_infringement       0.96      0.94      0.95       158\n",
      "\n",
      "        accuracy                           0.95       305\n",
      "       macro avg       0.95      0.95      0.95       305\n",
      "    weighted avg       0.95      0.95      0.95       305\n",
      "\n"
     ]
    },
    {
     "name": "stderr",
     "output_type": "stream",
     "text": [
      "Training Epochs:   9%|▊         | 216/2500 [00:08<01:10, 32.44it/s]"
     ]
    },
    {
     "name": "stdout",
     "output_type": "stream",
     "text": [
      "Epoch 210/2500, Loss: 0.0196\n",
      "Test Accuracy at Epoch 210: 95.41%\n",
      "Test F1-score at Epoch 210: 0.9557\n",
      "Classification Report at Epoch 210:\n",
      "                  precision    recall  f1-score   support\n",
      "\n",
      "    infringement       0.95      0.95      0.95       147\n",
      "non_infringement       0.96      0.96      0.96       158\n",
      "\n",
      "        accuracy                           0.95       305\n",
      "       macro avg       0.95      0.95      0.95       305\n",
      "    weighted avg       0.95      0.95      0.95       305\n",
      "\n",
      "New best model saved with F1-score 0.9557 at epoch 210\n",
      "Best Classification Report at Epoch 210:\n",
      "                  precision    recall  f1-score   support\n",
      "\n",
      "    infringement       0.95      0.95      0.95       147\n",
      "non_infringement       0.96      0.96      0.96       158\n",
      "\n",
      "        accuracy                           0.95       305\n",
      "       macro avg       0.95      0.95      0.95       305\n",
      "    weighted avg       0.95      0.95      0.95       305\n",
      "\n"
     ]
    },
    {
     "name": "stderr",
     "output_type": "stream",
     "text": [
      "Training Epochs:   9%|▉         | 224/2500 [00:09<01:05, 34.85it/s]"
     ]
    },
    {
     "name": "stdout",
     "output_type": "stream",
     "text": [
      "Epoch 220/2500, Loss: 0.0186\n",
      "Test Accuracy at Epoch 220: 95.08%\n",
      "Test F1-score at Epoch 220: 0.9524\n",
      "Classification Report at Epoch 220:\n",
      "                  precision    recall  f1-score   support\n",
      "\n",
      "    infringement       0.95      0.95      0.95       147\n",
      "non_infringement       0.96      0.95      0.95       158\n",
      "\n",
      "        accuracy                           0.95       305\n",
      "       macro avg       0.95      0.95      0.95       305\n",
      "    weighted avg       0.95      0.95      0.95       305\n",
      "\n"
     ]
    },
    {
     "name": "stderr",
     "output_type": "stream",
     "text": [
      "Training Epochs:   9%|▉         | 237/2500 [00:09<01:00, 37.52it/s]"
     ]
    },
    {
     "name": "stdout",
     "output_type": "stream",
     "text": [
      "Epoch 230/2500, Loss: 0.0178\n",
      "Test Accuracy at Epoch 230: 94.75%\n",
      "Test F1-score at Epoch 230: 0.9490\n",
      "Classification Report at Epoch 230:\n",
      "                  precision    recall  f1-score   support\n",
      "\n",
      "    infringement       0.94      0.95      0.95       147\n",
      "non_infringement       0.96      0.94      0.95       158\n",
      "\n",
      "        accuracy                           0.95       305\n",
      "       macro avg       0.95      0.95      0.95       305\n",
      "    weighted avg       0.95      0.95      0.95       305\n",
      "\n"
     ]
    },
    {
     "name": "stderr",
     "output_type": "stream",
     "text": [
      "Training Epochs:  10%|▉         | 246/2500 [00:09<00:57, 39.30it/s]"
     ]
    },
    {
     "name": "stdout",
     "output_type": "stream",
     "text": [
      "Epoch 240/2500, Loss: 0.0173\n",
      "Test Accuracy at Epoch 240: 94.75%\n",
      "Test F1-score at Epoch 240: 0.9490\n",
      "Classification Report at Epoch 240:\n",
      "                  precision    recall  f1-score   support\n",
      "\n",
      "    infringement       0.94      0.95      0.95       147\n",
      "non_infringement       0.96      0.94      0.95       158\n",
      "\n",
      "        accuracy                           0.95       305\n",
      "       macro avg       0.95      0.95      0.95       305\n",
      "    weighted avg       0.95      0.95      0.95       305\n",
      "\n"
     ]
    },
    {
     "name": "stderr",
     "output_type": "stream",
     "text": [
      "Training Epochs:  10%|█         | 250/2500 [00:09<00:57, 38.91it/s]"
     ]
    },
    {
     "name": "stdout",
     "output_type": "stream",
     "text": [
      "Epoch 250/2500, Loss: 0.0168\n",
      "Test Accuracy at Epoch 250: 94.75%\n",
      "Test F1-score at Epoch 250: 0.9490\n",
      "Classification Report at Epoch 250:\n",
      "                  precision    recall  f1-score   support\n",
      "\n",
      "    infringement       0.94      0.95      0.95       147\n",
      "non_infringement       0.96      0.94      0.95       158\n",
      "\n",
      "        accuracy                           0.95       305\n",
      "       macro avg       0.95      0.95      0.95       305\n",
      "    weighted avg       0.95      0.95      0.95       305\n",
      "\n"
     ]
    },
    {
     "name": "stderr",
     "output_type": "stream",
     "text": [
      "Training Epochs:  11%|█         | 264/2500 [00:10<01:58, 18.80it/s]"
     ]
    },
    {
     "name": "stdout",
     "output_type": "stream",
     "text": [
      "Epoch 260/2500, Loss: 0.0164\n",
      "Test Accuracy at Epoch 260: 94.75%\n",
      "Test F1-score at Epoch 260: 0.9490\n",
      "Classification Report at Epoch 260:\n",
      "                  precision    recall  f1-score   support\n",
      "\n",
      "    infringement       0.94      0.95      0.95       147\n",
      "non_infringement       0.96      0.94      0.95       158\n",
      "\n",
      "        accuracy                           0.95       305\n",
      "       macro avg       0.95      0.95      0.95       305\n",
      "    weighted avg       0.95      0.95      0.95       305\n",
      "\n"
     ]
    },
    {
     "name": "stderr",
     "output_type": "stream",
     "text": [
      "Training Epochs:  11%|█         | 277/2500 [00:11<01:17, 28.78it/s]"
     ]
    },
    {
     "name": "stdout",
     "output_type": "stream",
     "text": [
      "Epoch 270/2500, Loss: 0.0161\n",
      "Test Accuracy at Epoch 270: 94.75%\n",
      "Test F1-score at Epoch 270: 0.9490\n",
      "Classification Report at Epoch 270:\n",
      "                  precision    recall  f1-score   support\n",
      "\n",
      "    infringement       0.94      0.95      0.95       147\n",
      "non_infringement       0.96      0.94      0.95       158\n",
      "\n",
      "        accuracy                           0.95       305\n",
      "       macro avg       0.95      0.95      0.95       305\n",
      "    weighted avg       0.95      0.95      0.95       305\n",
      "\n"
     ]
    },
    {
     "name": "stderr",
     "output_type": "stream",
     "text": [
      "Training Epochs:  11%|█▏        | 286/2500 [00:11<01:04, 34.13it/s]"
     ]
    },
    {
     "name": "stdout",
     "output_type": "stream",
     "text": [
      "Epoch 280/2500, Loss: 0.0157\n",
      "Test Accuracy at Epoch 280: 94.75%\n",
      "Test F1-score at Epoch 280: 0.9490\n",
      "Classification Report at Epoch 280:\n",
      "                  precision    recall  f1-score   support\n",
      "\n",
      "    infringement       0.94      0.95      0.95       147\n",
      "non_infringement       0.96      0.94      0.95       158\n",
      "\n",
      "        accuracy                           0.95       305\n",
      "       macro avg       0.95      0.95      0.95       305\n",
      "    weighted avg       0.95      0.95      0.95       305\n",
      "\n"
     ]
    },
    {
     "name": "stderr",
     "output_type": "stream",
     "text": [
      "Training Epochs:  12%|█▏        | 294/2500 [00:11<01:11, 30.84it/s]"
     ]
    },
    {
     "name": "stdout",
     "output_type": "stream",
     "text": [
      "Epoch 290/2500, Loss: 0.0154\n",
      "Test Accuracy at Epoch 290: 94.75%\n",
      "Test F1-score at Epoch 290: 0.9490\n",
      "Classification Report at Epoch 290:\n",
      "                  precision    recall  f1-score   support\n",
      "\n",
      "    infringement       0.94      0.95      0.95       147\n",
      "non_infringement       0.96      0.94      0.95       158\n",
      "\n",
      "        accuracy                           0.95       305\n",
      "       macro avg       0.95      0.95      0.95       305\n",
      "    weighted avg       0.95      0.95      0.95       305\n",
      "\n"
     ]
    },
    {
     "name": "stderr",
     "output_type": "stream",
     "text": [
      "Training Epochs:  12%|█▏        | 307/2500 [00:11<01:01, 35.73it/s]"
     ]
    },
    {
     "name": "stdout",
     "output_type": "stream",
     "text": [
      "Epoch 300/2500, Loss: 0.0151\n",
      "Test Accuracy at Epoch 300: 94.43%\n",
      "Test F1-score at Epoch 300: 0.9457\n",
      "Classification Report at Epoch 300:\n",
      "                  precision    recall  f1-score   support\n",
      "\n",
      "    infringement       0.93      0.95      0.94       147\n",
      "non_infringement       0.95      0.94      0.95       158\n",
      "\n",
      "        accuracy                           0.94       305\n",
      "       macro avg       0.94      0.94      0.94       305\n",
      "    weighted avg       0.94      0.94      0.94       305\n",
      "\n"
     ]
    },
    {
     "name": "stderr",
     "output_type": "stream",
     "text": [
      "Training Epochs:  13%|█▎        | 316/2500 [00:12<01:03, 34.63it/s]"
     ]
    },
    {
     "name": "stdout",
     "output_type": "stream",
     "text": [
      "Epoch 310/2500, Loss: 0.0149\n",
      "Test Accuracy at Epoch 310: 94.43%\n",
      "Test F1-score at Epoch 310: 0.9457\n",
      "Classification Report at Epoch 310:\n",
      "                  precision    recall  f1-score   support\n",
      "\n",
      "    infringement       0.93      0.95      0.94       147\n",
      "non_infringement       0.95      0.94      0.95       158\n",
      "\n",
      "        accuracy                           0.94       305\n",
      "       macro avg       0.94      0.94      0.94       305\n",
      "    weighted avg       0.94      0.94      0.94       305\n",
      "\n"
     ]
    },
    {
     "name": "stderr",
     "output_type": "stream",
     "text": [
      "Training Epochs:  13%|█▎        | 326/2500 [00:12<00:54, 39.63it/s]"
     ]
    },
    {
     "name": "stdout",
     "output_type": "stream",
     "text": [
      "Epoch 320/2500, Loss: 0.0146\n",
      "Test Accuracy at Epoch 320: 94.43%\n",
      "Test F1-score at Epoch 320: 0.9457\n",
      "Classification Report at Epoch 320:\n",
      "                  precision    recall  f1-score   support\n",
      "\n",
      "    infringement       0.93      0.95      0.94       147\n",
      "non_infringement       0.95      0.94      0.95       158\n",
      "\n",
      "        accuracy                           0.94       305\n",
      "       macro avg       0.94      0.94      0.94       305\n",
      "    weighted avg       0.94      0.94      0.94       305\n",
      "\n"
     ]
    },
    {
     "name": "stderr",
     "output_type": "stream",
     "text": [
      "Training Epochs:  13%|█▎        | 336/2500 [00:12<00:50, 42.48it/s]"
     ]
    },
    {
     "name": "stdout",
     "output_type": "stream",
     "text": [
      "Epoch 330/2500, Loss: 0.0144\n",
      "Test Accuracy at Epoch 330: 94.43%\n",
      "Test F1-score at Epoch 330: 0.9457\n",
      "Classification Report at Epoch 330:\n",
      "                  precision    recall  f1-score   support\n",
      "\n",
      "    infringement       0.93      0.95      0.94       147\n",
      "non_infringement       0.95      0.94      0.95       158\n",
      "\n",
      "        accuracy                           0.94       305\n",
      "       macro avg       0.94      0.94      0.94       305\n",
      "    weighted avg       0.94      0.94      0.94       305\n",
      "\n"
     ]
    },
    {
     "name": "stderr",
     "output_type": "stream",
     "text": [
      "Training Epochs:  14%|█▍        | 346/2500 [00:13<00:54, 39.29it/s]"
     ]
    },
    {
     "name": "stdout",
     "output_type": "stream",
     "text": [
      "Epoch 340/2500, Loss: 0.0142\n",
      "Test Accuracy at Epoch 340: 94.43%\n",
      "Test F1-score at Epoch 340: 0.9457\n",
      "Classification Report at Epoch 340:\n",
      "                  precision    recall  f1-score   support\n",
      "\n",
      "    infringement       0.93      0.95      0.94       147\n",
      "non_infringement       0.95      0.94      0.95       158\n",
      "\n",
      "        accuracy                           0.94       305\n",
      "       macro avg       0.94      0.94      0.94       305\n",
      "    weighted avg       0.94      0.94      0.94       305\n",
      "\n"
     ]
    },
    {
     "name": "stderr",
     "output_type": "stream",
     "text": [
      "Training Epochs:  14%|█▍        | 351/2500 [00:13<00:52, 40.64it/s]"
     ]
    },
    {
     "name": "stdout",
     "output_type": "stream",
     "text": [
      "Epoch 350/2500, Loss: 0.0141\n",
      "Test Accuracy at Epoch 350: 94.43%\n",
      "Test F1-score at Epoch 350: 0.9457\n",
      "Classification Report at Epoch 350:\n",
      "                  precision    recall  f1-score   support\n",
      "\n",
      "    infringement       0.93      0.95      0.94       147\n",
      "non_infringement       0.95      0.94      0.95       158\n",
      "\n",
      "        accuracy                           0.94       305\n",
      "       macro avg       0.94      0.94      0.94       305\n",
      "    weighted avg       0.94      0.94      0.94       305\n",
      "\n"
     ]
    },
    {
     "name": "stderr",
     "output_type": "stream",
     "text": [
      "Training Epochs:  15%|█▍        | 363/2500 [00:14<02:00, 17.72it/s]"
     ]
    },
    {
     "name": "stdout",
     "output_type": "stream",
     "text": [
      "Epoch 360/2500, Loss: 0.0139\n",
      "Test Accuracy at Epoch 360: 94.43%\n",
      "Test F1-score at Epoch 360: 0.9457\n",
      "Classification Report at Epoch 360:\n",
      "                  precision    recall  f1-score   support\n",
      "\n",
      "    infringement       0.93      0.95      0.94       147\n",
      "non_infringement       0.95      0.94      0.95       158\n",
      "\n",
      "        accuracy                           0.94       305\n",
      "       macro avg       0.94      0.94      0.94       305\n",
      "    weighted avg       0.94      0.94      0.94       305\n",
      "\n"
     ]
    },
    {
     "name": "stderr",
     "output_type": "stream",
     "text": [
      "Training Epochs:  15%|█▌        | 377/2500 [00:14<01:10, 29.99it/s]"
     ]
    },
    {
     "name": "stdout",
     "output_type": "stream",
     "text": [
      "Epoch 370/2500, Loss: 0.0137\n",
      "Test Accuracy at Epoch 370: 94.43%\n",
      "Test F1-score at Epoch 370: 0.9457\n",
      "Classification Report at Epoch 370:\n",
      "                  precision    recall  f1-score   support\n",
      "\n",
      "    infringement       0.93      0.95      0.94       147\n",
      "non_infringement       0.95      0.94      0.95       158\n",
      "\n",
      "        accuracy                           0.94       305\n",
      "       macro avg       0.94      0.94      0.94       305\n",
      "    weighted avg       0.94      0.94      0.94       305\n",
      "\n"
     ]
    },
    {
     "name": "stderr",
     "output_type": "stream",
     "text": [
      "Training Epochs:  15%|█▌        | 381/2500 [00:14<01:28, 23.96it/s]"
     ]
    },
    {
     "name": "stdout",
     "output_type": "stream",
     "text": [
      "Epoch 380/2500, Loss: 0.0135\n",
      "Test Accuracy at Epoch 380: 93.77%\n",
      "Test F1-score at Epoch 380: 0.9389\n",
      "Classification Report at Epoch 380:\n",
      "                  precision    recall  f1-score   support\n",
      "\n",
      "    infringement       0.92      0.95      0.94       147\n",
      "non_infringement       0.95      0.92      0.94       158\n",
      "\n",
      "        accuracy                           0.94       305\n",
      "       macro avg       0.94      0.94      0.94       305\n",
      "    weighted avg       0.94      0.94      0.94       305\n",
      "\n"
     ]
    },
    {
     "name": "stderr",
     "output_type": "stream",
     "text": [
      "Training Epochs:  16%|█▌        | 396/2500 [00:15<01:40, 20.90it/s]"
     ]
    },
    {
     "name": "stdout",
     "output_type": "stream",
     "text": [
      "Epoch 390/2500, Loss: 0.0134\n",
      "Test Accuracy at Epoch 390: 93.77%\n",
      "Test F1-score at Epoch 390: 0.9389\n",
      "Classification Report at Epoch 390:\n",
      "                  precision    recall  f1-score   support\n",
      "\n",
      "    infringement       0.92      0.95      0.94       147\n",
      "non_infringement       0.95      0.92      0.94       158\n",
      "\n",
      "        accuracy                           0.94       305\n",
      "       macro avg       0.94      0.94      0.94       305\n",
      "    weighted avg       0.94      0.94      0.94       305\n",
      "\n"
     ]
    },
    {
     "name": "stderr",
     "output_type": "stream",
     "text": [
      "Training Epochs:  16%|█▌        | 401/2500 [00:15<01:22, 25.35it/s]"
     ]
    },
    {
     "name": "stdout",
     "output_type": "stream",
     "text": [
      "Epoch 400/2500, Loss: 0.0132\n",
      "Test Accuracy at Epoch 400: 93.77%\n",
      "Test F1-score at Epoch 400: 0.9389\n",
      "Classification Report at Epoch 400:\n",
      "                  precision    recall  f1-score   support\n",
      "\n",
      "    infringement       0.92      0.95      0.94       147\n",
      "non_infringement       0.95      0.92      0.94       158\n",
      "\n",
      "        accuracy                           0.94       305\n",
      "       macro avg       0.94      0.94      0.94       305\n",
      "    weighted avg       0.94      0.94      0.94       305\n",
      "\n"
     ]
    },
    {
     "name": "stderr",
     "output_type": "stream",
     "text": [
      "Training Epochs:  17%|█▋        | 417/2500 [00:16<01:31, 22.72it/s]"
     ]
    },
    {
     "name": "stdout",
     "output_type": "stream",
     "text": [
      "Epoch 410/2500, Loss: 0.0131\n",
      "Test Accuracy at Epoch 410: 93.77%\n",
      "Test F1-score at Epoch 410: 0.9389\n",
      "Classification Report at Epoch 410:\n",
      "                  precision    recall  f1-score   support\n",
      "\n",
      "    infringement       0.92      0.95      0.94       147\n",
      "non_infringement       0.95      0.92      0.94       158\n",
      "\n",
      "        accuracy                           0.94       305\n",
      "       macro avg       0.94      0.94      0.94       305\n",
      "    weighted avg       0.94      0.94      0.94       305\n",
      "\n"
     ]
    },
    {
     "name": "stderr",
     "output_type": "stream",
     "text": [
      "Training Epochs:  17%|█▋        | 428/2500 [00:16<01:03, 32.73it/s]"
     ]
    },
    {
     "name": "stdout",
     "output_type": "stream",
     "text": [
      "Epoch 420/2500, Loss: 0.0130\n",
      "Test Accuracy at Epoch 420: 93.77%\n",
      "Test F1-score at Epoch 420: 0.9389\n",
      "Classification Report at Epoch 420:\n",
      "                  precision    recall  f1-score   support\n",
      "\n",
      "    infringement       0.92      0.95      0.94       147\n",
      "non_infringement       0.95      0.92      0.94       158\n",
      "\n",
      "        accuracy                           0.94       305\n",
      "       macro avg       0.94      0.94      0.94       305\n",
      "    weighted avg       0.94      0.94      0.94       305\n",
      "\n"
     ]
    },
    {
     "name": "stderr",
     "output_type": "stream",
     "text": [
      "Training Epochs:  18%|█▊        | 439/2500 [00:17<00:52, 39.61it/s]"
     ]
    },
    {
     "name": "stdout",
     "output_type": "stream",
     "text": [
      "Epoch 430/2500, Loss: 0.0129\n",
      "Test Accuracy at Epoch 430: 93.77%\n",
      "Test F1-score at Epoch 430: 0.9389\n",
      "Classification Report at Epoch 430:\n",
      "                  precision    recall  f1-score   support\n",
      "\n",
      "    infringement       0.92      0.95      0.94       147\n",
      "non_infringement       0.95      0.92      0.94       158\n",
      "\n",
      "        accuracy                           0.94       305\n",
      "       macro avg       0.94      0.94      0.94       305\n",
      "    weighted avg       0.94      0.94      0.94       305\n",
      "\n"
     ]
    },
    {
     "name": "stderr",
     "output_type": "stream",
     "text": [
      "Training Epochs:  18%|█▊        | 444/2500 [00:17<00:50, 40.80it/s]"
     ]
    },
    {
     "name": "stdout",
     "output_type": "stream",
     "text": [
      "Epoch 440/2500, Loss: 0.0128\n",
      "Test Accuracy at Epoch 440: 93.77%\n",
      "Test F1-score at Epoch 440: 0.9389\n",
      "Classification Report at Epoch 440:\n",
      "                  precision    recall  f1-score   support\n",
      "\n",
      "    infringement       0.92      0.95      0.94       147\n",
      "non_infringement       0.95      0.92      0.94       158\n",
      "\n",
      "        accuracy                           0.94       305\n",
      "       macro avg       0.94      0.94      0.94       305\n",
      "    weighted avg       0.94      0.94      0.94       305\n",
      "\n"
     ]
    },
    {
     "name": "stderr",
     "output_type": "stream",
     "text": [
      "Training Epochs:  18%|█▊        | 455/2500 [00:17<00:47, 43.02it/s]"
     ]
    },
    {
     "name": "stdout",
     "output_type": "stream",
     "text": [
      "Epoch 450/2500, Loss: 0.0127\n",
      "Test Accuracy at Epoch 450: 93.11%\n",
      "Test F1-score at Epoch 450: 0.9320\n",
      "Classification Report at Epoch 450:\n",
      "                  precision    recall  f1-score   support\n",
      "\n",
      "    infringement       0.91      0.95      0.93       147\n",
      "non_infringement       0.95      0.91      0.93       158\n",
      "\n",
      "        accuracy                           0.93       305\n",
      "       macro avg       0.93      0.93      0.93       305\n",
      "    weighted avg       0.93      0.93      0.93       305\n",
      "\n"
     ]
    },
    {
     "name": "stderr",
     "output_type": "stream",
     "text": [
      "Training Epochs:  19%|█▊        | 466/2500 [00:17<00:44, 45.51it/s]"
     ]
    },
    {
     "name": "stdout",
     "output_type": "stream",
     "text": [
      "Epoch 460/2500, Loss: 0.0126\n",
      "Test Accuracy at Epoch 460: 93.11%\n",
      "Test F1-score at Epoch 460: 0.9320\n",
      "Classification Report at Epoch 460:\n",
      "                  precision    recall  f1-score   support\n",
      "\n",
      "    infringement       0.91      0.95      0.93       147\n",
      "non_infringement       0.95      0.91      0.93       158\n",
      "\n",
      "        accuracy                           0.93       305\n",
      "       macro avg       0.93      0.93      0.93       305\n",
      "    weighted avg       0.93      0.93      0.93       305\n",
      "\n",
      "Epoch 470/2500, Loss: 0.0125\n",
      "Test Accuracy at Epoch 470: 93.11%\n",
      "Test F1-score at Epoch 470: 0.9320\n",
      "Classification Report at Epoch 470:\n",
      "                  precision    recall  f1-score   support\n",
      "\n",
      "    infringement       0.91      0.95      0.93       147\n",
      "non_infringement       0.95      0.91      0.93       158\n",
      "\n",
      "        accuracy                           0.93       305\n",
      "       macro avg       0.93      0.93      0.93       305\n",
      "    weighted avg       0.93      0.93      0.93       305\n",
      "\n"
     ]
    },
    {
     "name": "stderr",
     "output_type": "stream",
     "text": [
      "Training Epochs:  19%|█▉        | 481/2500 [00:19<03:02, 11.06it/s]"
     ]
    },
    {
     "name": "stdout",
     "output_type": "stream",
     "text": [
      "Epoch 480/2500, Loss: 0.0127\n",
      "Test Accuracy at Epoch 480: 93.44%\n",
      "Test F1-score at Epoch 480: 0.9355\n",
      "Classification Report at Epoch 480:\n",
      "                  precision    recall  f1-score   support\n",
      "\n",
      "    infringement       0.92      0.95      0.93       147\n",
      "non_infringement       0.95      0.92      0.94       158\n",
      "\n",
      "        accuracy                           0.93       305\n",
      "       macro avg       0.93      0.94      0.93       305\n",
      "    weighted avg       0.94      0.93      0.93       305\n",
      "\n"
     ]
    },
    {
     "name": "stderr",
     "output_type": "stream",
     "text": [
      "Training Epochs:  20%|█▉        | 491/2500 [00:20<03:12, 10.45it/s]"
     ]
    },
    {
     "name": "stdout",
     "output_type": "stream",
     "text": [
      "Epoch 490/2500, Loss: 0.0124\n",
      "Test Accuracy at Epoch 490: 93.44%\n",
      "Test F1-score at Epoch 490: 0.9355\n",
      "Classification Report at Epoch 490:\n",
      "                  precision    recall  f1-score   support\n",
      "\n",
      "    infringement       0.92      0.95      0.93       147\n",
      "non_infringement       0.95      0.92      0.94       158\n",
      "\n",
      "        accuracy                           0.93       305\n",
      "       macro avg       0.93      0.94      0.93       305\n",
      "    weighted avg       0.94      0.93      0.93       305\n",
      "\n"
     ]
    },
    {
     "name": "stderr",
     "output_type": "stream",
     "text": [
      "Training Epochs:  20%|██        | 503/2500 [00:20<01:35, 20.82it/s]"
     ]
    },
    {
     "name": "stdout",
     "output_type": "stream",
     "text": [
      "Epoch 500/2500, Loss: 0.0123\n",
      "Test Accuracy at Epoch 500: 93.44%\n",
      "Test F1-score at Epoch 500: 0.9355\n",
      "Classification Report at Epoch 500:\n",
      "                  precision    recall  f1-score   support\n",
      "\n",
      "    infringement       0.92      0.95      0.93       147\n",
      "non_infringement       0.95      0.92      0.94       158\n",
      "\n",
      "        accuracy                           0.93       305\n",
      "       macro avg       0.93      0.94      0.93       305\n",
      "    weighted avg       0.94      0.93      0.93       305\n",
      "\n"
     ]
    },
    {
     "name": "stderr",
     "output_type": "stream",
     "text": [
      "Training Epochs:  21%|██        | 517/2500 [00:21<01:01, 32.09it/s]"
     ]
    },
    {
     "name": "stdout",
     "output_type": "stream",
     "text": [
      "Epoch 510/2500, Loss: 0.0123\n",
      "Test Accuracy at Epoch 510: 93.77%\n",
      "Test F1-score at Epoch 510: 0.9385\n",
      "Classification Report at Epoch 510:\n",
      "                  precision    recall  f1-score   support\n",
      "\n",
      "    infringement       0.92      0.96      0.94       147\n",
      "non_infringement       0.96      0.92      0.94       158\n",
      "\n",
      "        accuracy                           0.94       305\n",
      "       macro avg       0.94      0.94      0.94       305\n",
      "    weighted avg       0.94      0.94      0.94       305\n",
      "\n"
     ]
    },
    {
     "name": "stderr",
     "output_type": "stream",
     "text": [
      "Training Epochs:  21%|██        | 521/2500 [00:21<01:01, 32.20it/s]"
     ]
    },
    {
     "name": "stdout",
     "output_type": "stream",
     "text": [
      "Epoch 520/2500, Loss: 0.0122\n",
      "Test Accuracy at Epoch 520: 93.77%\n",
      "Test F1-score at Epoch 520: 0.9385\n",
      "Classification Report at Epoch 520:\n",
      "                  precision    recall  f1-score   support\n",
      "\n",
      "    infringement       0.92      0.96      0.94       147\n",
      "non_infringement       0.96      0.92      0.94       158\n",
      "\n",
      "        accuracy                           0.94       305\n",
      "       macro avg       0.94      0.94      0.94       305\n",
      "    weighted avg       0.94      0.94      0.94       305\n",
      "\n"
     ]
    },
    {
     "name": "stderr",
     "output_type": "stream",
     "text": [
      "Training Epochs:  21%|██▏       | 535/2500 [00:21<00:57, 33.90it/s]"
     ]
    },
    {
     "name": "stdout",
     "output_type": "stream",
     "text": [
      "Epoch 530/2500, Loss: 0.0121\n",
      "Test Accuracy at Epoch 530: 93.77%\n",
      "Test F1-score at Epoch 530: 0.9385\n",
      "Classification Report at Epoch 530:\n",
      "                  precision    recall  f1-score   support\n",
      "\n",
      "    infringement       0.92      0.96      0.94       147\n",
      "non_infringement       0.96      0.92      0.94       158\n",
      "\n",
      "        accuracy                           0.94       305\n",
      "       macro avg       0.94      0.94      0.94       305\n",
      "    weighted avg       0.94      0.94      0.94       305\n",
      "\n"
     ]
    },
    {
     "name": "stderr",
     "output_type": "stream",
     "text": [
      "Training Epochs:  22%|██▏       | 545/2500 [00:21<00:49, 39.76it/s]"
     ]
    },
    {
     "name": "stdout",
     "output_type": "stream",
     "text": [
      "Epoch 540/2500, Loss: 0.0122\n",
      "Test Accuracy at Epoch 540: 93.77%\n",
      "Test F1-score at Epoch 540: 0.9385\n",
      "Classification Report at Epoch 540:\n",
      "                  precision    recall  f1-score   support\n",
      "\n",
      "    infringement       0.92      0.96      0.94       147\n",
      "non_infringement       0.96      0.92      0.94       158\n",
      "\n",
      "        accuracy                           0.94       305\n",
      "       macro avg       0.94      0.94      0.94       305\n",
      "    weighted avg       0.94      0.94      0.94       305\n",
      "\n"
     ]
    },
    {
     "name": "stderr",
     "output_type": "stream",
     "text": [
      "Training Epochs:  22%|██▏       | 555/2500 [00:22<00:45, 42.75it/s]"
     ]
    },
    {
     "name": "stdout",
     "output_type": "stream",
     "text": [
      "Epoch 550/2500, Loss: 0.0123\n",
      "Test Accuracy at Epoch 550: 93.77%\n",
      "Test F1-score at Epoch 550: 0.9385\n",
      "Classification Report at Epoch 550:\n",
      "                  precision    recall  f1-score   support\n",
      "\n",
      "    infringement       0.92      0.96      0.94       147\n",
      "non_infringement       0.96      0.92      0.94       158\n",
      "\n",
      "        accuracy                           0.94       305\n",
      "       macro avg       0.94      0.94      0.94       305\n",
      "    weighted avg       0.94      0.94      0.94       305\n",
      "\n"
     ]
    },
    {
     "name": "stderr",
     "output_type": "stream",
     "text": [
      "Training Epochs:  23%|██▎       | 565/2500 [00:22<00:43, 44.78it/s]"
     ]
    },
    {
     "name": "stdout",
     "output_type": "stream",
     "text": [
      "Epoch 560/2500, Loss: 0.0130\n",
      "Test Accuracy at Epoch 560: 93.77%\n",
      "Test F1-score at Epoch 560: 0.9385\n",
      "Classification Report at Epoch 560:\n",
      "                  precision    recall  f1-score   support\n",
      "\n",
      "    infringement       0.92      0.96      0.94       147\n",
      "non_infringement       0.96      0.92      0.94       158\n",
      "\n",
      "        accuracy                           0.94       305\n",
      "       macro avg       0.94      0.94      0.94       305\n",
      "    weighted avg       0.94      0.94      0.94       305\n",
      "\n"
     ]
    },
    {
     "name": "stderr",
     "output_type": "stream",
     "text": [
      "Training Epochs:  23%|██▎       | 576/2500 [00:22<00:41, 46.52it/s]"
     ]
    },
    {
     "name": "stdout",
     "output_type": "stream",
     "text": [
      "Epoch 570/2500, Loss: 0.0124\n",
      "Test Accuracy at Epoch 570: 93.77%\n",
      "Test F1-score at Epoch 570: 0.9385\n",
      "Classification Report at Epoch 570:\n",
      "                  precision    recall  f1-score   support\n",
      "\n",
      "    infringement       0.92      0.96      0.94       147\n",
      "non_infringement       0.96      0.92      0.94       158\n",
      "\n",
      "        accuracy                           0.94       305\n",
      "       macro avg       0.94      0.94      0.94       305\n",
      "    weighted avg       0.94      0.94      0.94       305\n",
      "\n"
     ]
    },
    {
     "name": "stderr",
     "output_type": "stream",
     "text": [
      "Training Epochs:  23%|██▎       | 581/2500 [00:22<00:41, 45.73it/s]"
     ]
    },
    {
     "name": "stdout",
     "output_type": "stream",
     "text": [
      "Epoch 580/2500, Loss: 0.0120\n",
      "Test Accuracy at Epoch 580: 93.77%\n",
      "Test F1-score at Epoch 580: 0.9385\n",
      "Classification Report at Epoch 580:\n",
      "                  precision    recall  f1-score   support\n",
      "\n",
      "    infringement       0.92      0.96      0.94       147\n",
      "non_infringement       0.96      0.92      0.94       158\n",
      "\n",
      "        accuracy                           0.94       305\n",
      "       macro avg       0.94      0.94      0.94       305\n",
      "    weighted avg       0.94      0.94      0.94       305\n",
      "\n"
     ]
    },
    {
     "name": "stderr",
     "output_type": "stream",
     "text": [
      "Training Epochs:  24%|██▍       | 594/2500 [00:23<01:12, 26.32it/s]"
     ]
    },
    {
     "name": "stdout",
     "output_type": "stream",
     "text": [
      "Epoch 590/2500, Loss: 0.0126\n",
      "Test Accuracy at Epoch 590: 93.77%\n",
      "Test F1-score at Epoch 590: 0.9385\n",
      "Classification Report at Epoch 590:\n",
      "                  precision    recall  f1-score   support\n",
      "\n",
      "    infringement       0.92      0.96      0.94       147\n",
      "non_infringement       0.96      0.92      0.94       158\n",
      "\n",
      "        accuracy                           0.94       305\n",
      "       macro avg       0.94      0.94      0.94       305\n",
      "    weighted avg       0.94      0.94      0.94       305\n",
      "\n"
     ]
    },
    {
     "name": "stderr",
     "output_type": "stream",
     "text": [
      "Training Epochs:  24%|██▍       | 604/2500 [00:23<00:55, 34.16it/s]"
     ]
    },
    {
     "name": "stdout",
     "output_type": "stream",
     "text": [
      "Epoch 600/2500, Loss: 0.0130\n",
      "Test Accuracy at Epoch 600: 93.77%\n",
      "Test F1-score at Epoch 600: 0.9385\n",
      "Classification Report at Epoch 600:\n",
      "                  precision    recall  f1-score   support\n",
      "\n",
      "    infringement       0.92      0.96      0.94       147\n",
      "non_infringement       0.96      0.92      0.94       158\n",
      "\n",
      "        accuracy                           0.94       305\n",
      "       macro avg       0.94      0.94      0.94       305\n",
      "    weighted avg       0.94      0.94      0.94       305\n",
      "\n"
     ]
    },
    {
     "name": "stderr",
     "output_type": "stream",
     "text": [
      "Training Epochs:  25%|██▍       | 614/2500 [00:23<01:00, 31.32it/s]"
     ]
    },
    {
     "name": "stdout",
     "output_type": "stream",
     "text": [
      "Epoch 610/2500, Loss: 13.2367\n",
      "Test Accuracy at Epoch 610: 78.36%\n",
      "Test F1-score at Epoch 610: 0.8254\n",
      "Classification Report at Epoch 610:\n",
      "                  precision    recall  f1-score   support\n",
      "\n",
      "    infringement       0.98      0.56      0.72       147\n",
      "non_infringement       0.71      0.99      0.83       158\n",
      "\n",
      "        accuracy                           0.78       305\n",
      "       macro avg       0.84      0.78      0.77       305\n",
      "    weighted avg       0.84      0.78      0.77       305\n",
      "\n"
     ]
    },
    {
     "name": "stderr",
     "output_type": "stream",
     "text": [
      "Training Epochs:  25%|██▌       | 628/2500 [00:24<00:57, 32.41it/s]"
     ]
    },
    {
     "name": "stdout",
     "output_type": "stream",
     "text": [
      "Epoch 620/2500, Loss: 0.3632\n",
      "Test Accuracy at Epoch 620: 84.26%\n",
      "Test F1-score at Epoch 620: 0.8629\n",
      "Classification Report at Epoch 620:\n",
      "                  precision    recall  f1-score   support\n",
      "\n",
      "    infringement       0.94      0.72      0.82       147\n",
      "non_infringement       0.79      0.96      0.86       158\n",
      "\n",
      "        accuracy                           0.84       305\n",
      "       macro avg       0.86      0.84      0.84       305\n",
      "    weighted avg       0.86      0.84      0.84       305\n",
      "\n"
     ]
    },
    {
     "name": "stderr",
     "output_type": "stream",
     "text": [
      "Training Epochs:  25%|██▌       | 637/2500 [00:24<00:52, 35.68it/s]"
     ]
    },
    {
     "name": "stdout",
     "output_type": "stream",
     "text": [
      "Epoch 630/2500, Loss: 0.1870\n",
      "Test Accuracy at Epoch 630: 89.51%\n",
      "Test F1-score at Epoch 630: 0.9018\n",
      "Classification Report at Epoch 630:\n",
      "                  precision    recall  f1-score   support\n",
      "\n",
      "    infringement       0.92      0.86      0.89       147\n",
      "non_infringement       0.88      0.93      0.90       158\n",
      "\n",
      "        accuracy                           0.90       305\n",
      "       macro avg       0.90      0.89      0.89       305\n",
      "    weighted avg       0.90      0.90      0.89       305\n",
      "\n"
     ]
    },
    {
     "name": "stderr",
     "output_type": "stream",
     "text": [
      "Training Epochs:  26%|██▌       | 645/2500 [00:24<00:55, 33.67it/s]"
     ]
    },
    {
     "name": "stdout",
     "output_type": "stream",
     "text": [
      "Epoch 640/2500, Loss: 0.1079\n",
      "Test Accuracy at Epoch 640: 91.48%\n",
      "Test F1-score at Epoch 640: 0.9202\n",
      "Classification Report at Epoch 640:\n",
      "                  precision    recall  f1-score   support\n",
      "\n",
      "    infringement       0.94      0.88      0.91       147\n",
      "non_infringement       0.89      0.95      0.92       158\n",
      "\n",
      "        accuracy                           0.91       305\n",
      "       macro avg       0.92      0.91      0.91       305\n",
      "    weighted avg       0.92      0.91      0.91       305\n",
      "\n"
     ]
    },
    {
     "name": "stderr",
     "output_type": "stream",
     "text": [
      "Training Epochs:  26%|██▌       | 655/2500 [00:25<00:47, 38.99it/s]"
     ]
    },
    {
     "name": "stdout",
     "output_type": "stream",
     "text": [
      "Epoch 650/2500, Loss: 0.0616\n",
      "Test Accuracy at Epoch 650: 94.43%\n",
      "Test F1-score at Epoch 650: 0.9460\n",
      "Classification Report at Epoch 650:\n",
      "                  precision    recall  f1-score   support\n",
      "\n",
      "    infringement       0.94      0.95      0.94       147\n",
      "non_infringement       0.95      0.94      0.95       158\n",
      "\n",
      "        accuracy                           0.94       305\n",
      "       macro avg       0.94      0.94      0.94       305\n",
      "    weighted avg       0.94      0.94      0.94       305\n",
      "\n"
     ]
    },
    {
     "name": "stderr",
     "output_type": "stream",
     "text": [
      "Training Epochs:  27%|██▋       | 665/2500 [00:25<00:43, 42.67it/s]"
     ]
    },
    {
     "name": "stdout",
     "output_type": "stream",
     "text": [
      "Epoch 660/2500, Loss: 0.0373\n",
      "Test Accuracy at Epoch 660: 95.08%\n",
      "Test F1-score at Epoch 660: 0.9527\n",
      "Classification Report at Epoch 660:\n",
      "                  precision    recall  f1-score   support\n",
      "\n",
      "    infringement       0.95      0.95      0.95       147\n",
      "non_infringement       0.95      0.96      0.95       158\n",
      "\n",
      "        accuracy                           0.95       305\n",
      "       macro avg       0.95      0.95      0.95       305\n",
      "    weighted avg       0.95      0.95      0.95       305\n",
      "\n"
     ]
    },
    {
     "name": "stderr",
     "output_type": "stream",
     "text": [
      "Training Epochs:  27%|██▋       | 675/2500 [00:25<00:40, 44.93it/s]"
     ]
    },
    {
     "name": "stdout",
     "output_type": "stream",
     "text": [
      "Epoch 670/2500, Loss: 0.0255\n",
      "Test Accuracy at Epoch 670: 95.41%\n",
      "Test F1-score at Epoch 670: 0.9557\n",
      "Classification Report at Epoch 670:\n",
      "                  precision    recall  f1-score   support\n",
      "\n",
      "    infringement       0.95      0.95      0.95       147\n",
      "non_infringement       0.96      0.96      0.96       158\n",
      "\n",
      "        accuracy                           0.95       305\n",
      "       macro avg       0.95      0.95      0.95       305\n",
      "    weighted avg       0.95      0.95      0.95       305\n",
      "\n"
     ]
    },
    {
     "name": "stderr",
     "output_type": "stream",
     "text": [
      "Training Epochs:  27%|██▋       | 685/2500 [00:25<00:39, 45.88it/s]"
     ]
    },
    {
     "name": "stdout",
     "output_type": "stream",
     "text": [
      "Epoch 680/2500, Loss: 0.0206\n",
      "Test Accuracy at Epoch 680: 92.13%\n",
      "Test F1-score at Epoch 680: 0.9264\n",
      "Classification Report at Epoch 680:\n",
      "                  precision    recall  f1-score   support\n",
      "\n",
      "    infringement       0.95      0.88      0.92       147\n",
      "non_infringement       0.90      0.96      0.93       158\n",
      "\n",
      "        accuracy                           0.92       305\n",
      "       macro avg       0.92      0.92      0.92       305\n",
      "    weighted avg       0.92      0.92      0.92       305\n",
      "\n"
     ]
    },
    {
     "name": "stderr",
     "output_type": "stream",
     "text": [
      "Training Epochs:  28%|██▊       | 695/2500 [00:25<00:38, 46.51it/s]"
     ]
    },
    {
     "name": "stdout",
     "output_type": "stream",
     "text": [
      "Epoch 690/2500, Loss: 0.0181\n",
      "Test Accuracy at Epoch 690: 91.80%\n",
      "Test F1-score at Epoch 690: 0.9221\n",
      "Classification Report at Epoch 690:\n",
      "                  precision    recall  f1-score   support\n",
      "\n",
      "    infringement       0.93      0.90      0.91       147\n",
      "non_infringement       0.91      0.94      0.92       158\n",
      "\n",
      "        accuracy                           0.92       305\n",
      "       macro avg       0.92      0.92      0.92       305\n",
      "    weighted avg       0.92      0.92      0.92       305\n",
      "\n"
     ]
    },
    {
     "name": "stderr",
     "output_type": "stream",
     "text": [
      "Training Epochs:  28%|██▊       | 705/2500 [00:26<00:45, 39.51it/s]"
     ]
    },
    {
     "name": "stdout",
     "output_type": "stream",
     "text": [
      "Epoch 700/2500, Loss: 0.0166\n",
      "Test Accuracy at Epoch 700: 91.80%\n",
      "Test F1-score at Epoch 700: 0.9221\n",
      "Classification Report at Epoch 700:\n",
      "                  precision    recall  f1-score   support\n",
      "\n",
      "    infringement       0.93      0.90      0.91       147\n",
      "non_infringement       0.91      0.94      0.92       158\n",
      "\n",
      "        accuracy                           0.92       305\n",
      "       macro avg       0.92      0.92      0.92       305\n",
      "    weighted avg       0.92      0.92      0.92       305\n",
      "\n"
     ]
    },
    {
     "name": "stderr",
     "output_type": "stream",
     "text": [
      "Training Epochs:  28%|██▊       | 710/2500 [00:26<00:48, 36.95it/s]"
     ]
    },
    {
     "name": "stdout",
     "output_type": "stream",
     "text": [
      "Epoch 710/2500, Loss: 0.0215\n",
      "Test Accuracy at Epoch 710: 89.51%\n",
      "Test F1-score at Epoch 710: 0.8974\n",
      "Classification Report at Epoch 710:\n",
      "                  precision    recall  f1-score   support\n",
      "\n",
      "    infringement       0.88      0.90      0.89       147\n",
      "non_infringement       0.91      0.89      0.90       158\n",
      "\n",
      "        accuracy                           0.90       305\n",
      "       macro avg       0.89      0.90      0.90       305\n",
      "    weighted avg       0.90      0.90      0.90       305\n",
      "\n"
     ]
    },
    {
     "name": "stderr",
     "output_type": "stream",
     "text": [
      "Training Epochs:  29%|██▉       | 727/2500 [00:26<00:52, 33.83it/s]"
     ]
    },
    {
     "name": "stdout",
     "output_type": "stream",
     "text": [
      "Epoch 720/2500, Loss: 0.0211\n",
      "Test Accuracy at Epoch 720: 91.48%\n",
      "Test F1-score at Epoch 720: 0.9187\n",
      "Classification Report at Epoch 720:\n",
      "                  precision    recall  f1-score   support\n",
      "\n",
      "    infringement       0.92      0.90      0.91       147\n",
      "non_infringement       0.91      0.93      0.92       158\n",
      "\n",
      "        accuracy                           0.91       305\n",
      "       macro avg       0.92      0.91      0.91       305\n",
      "    weighted avg       0.91      0.91      0.91       305\n",
      "\n"
     ]
    },
    {
     "name": "stderr",
     "output_type": "stream",
     "text": [
      "Training Epochs:  29%|██▉       | 737/2500 [00:27<00:44, 39.34it/s]"
     ]
    },
    {
     "name": "stdout",
     "output_type": "stream",
     "text": [
      "Epoch 730/2500, Loss: 0.0185\n",
      "Test Accuracy at Epoch 730: 91.15%\n",
      "Test F1-score at Epoch 730: 0.9164\n",
      "Classification Report at Epoch 730:\n",
      "                  precision    recall  f1-score   support\n",
      "\n",
      "    infringement       0.93      0.88      0.91       147\n",
      "non_infringement       0.90      0.94      0.92       158\n",
      "\n",
      "        accuracy                           0.91       305\n",
      "       macro avg       0.91      0.91      0.91       305\n",
      "    weighted avg       0.91      0.91      0.91       305\n",
      "\n"
     ]
    },
    {
     "name": "stderr",
     "output_type": "stream",
     "text": [
      "Training Epochs:  30%|██▉       | 747/2500 [00:27<00:44, 39.74it/s]"
     ]
    },
    {
     "name": "stdout",
     "output_type": "stream",
     "text": [
      "Epoch 740/2500, Loss: 0.0166\n",
      "Test Accuracy at Epoch 740: 91.15%\n",
      "Test F1-score at Epoch 740: 0.9164\n",
      "Classification Report at Epoch 740:\n",
      "                  precision    recall  f1-score   support\n",
      "\n",
      "    infringement       0.93      0.88      0.91       147\n",
      "non_infringement       0.90      0.94      0.92       158\n",
      "\n",
      "        accuracy                           0.91       305\n",
      "       macro avg       0.91      0.91      0.91       305\n",
      "    weighted avg       0.91      0.91      0.91       305\n",
      "\n",
      "Epoch 750/2500, Loss: 0.0157\n",
      "Test Accuracy at Epoch 750: 91.48%\n",
      "Test F1-score at Epoch 750: 0.9187\n",
      "Classification Report at Epoch 750:\n",
      "                  precision    recall  f1-score   support\n",
      "\n",
      "    infringement       0.92      0.90      0.91       147\n",
      "non_infringement       0.91      0.93      0.92       158\n",
      "\n",
      "        accuracy                           0.91       305\n",
      "       macro avg       0.92      0.91      0.91       305\n",
      "    weighted avg       0.91      0.91      0.91       305\n",
      "\n"
     ]
    },
    {
     "name": "stderr",
     "output_type": "stream",
     "text": [
      "Training Epochs:  31%|███       | 766/2500 [00:28<00:57, 30.27it/s]"
     ]
    },
    {
     "name": "stdout",
     "output_type": "stream",
     "text": [
      "Epoch 760/2500, Loss: 0.0152\n",
      "Test Accuracy at Epoch 760: 91.48%\n",
      "Test F1-score at Epoch 760: 0.9187\n",
      "Classification Report at Epoch 760:\n",
      "                  precision    recall  f1-score   support\n",
      "\n",
      "    infringement       0.92      0.90      0.91       147\n",
      "non_infringement       0.91      0.93      0.92       158\n",
      "\n",
      "        accuracy                           0.91       305\n",
      "       macro avg       0.92      0.91      0.91       305\n",
      "    weighted avg       0.91      0.91      0.91       305\n",
      "\n"
     ]
    },
    {
     "name": "stderr",
     "output_type": "stream",
     "text": [
      "Training Epochs:  31%|███       | 771/2500 [00:28<01:10, 24.66it/s]"
     ]
    },
    {
     "name": "stdout",
     "output_type": "stream",
     "text": [
      "Epoch 770/2500, Loss: 0.0147\n",
      "Test Accuracy at Epoch 770: 91.48%\n",
      "Test F1-score at Epoch 770: 0.9187\n",
      "Classification Report at Epoch 770:\n",
      "                  precision    recall  f1-score   support\n",
      "\n",
      "    infringement       0.92      0.90      0.91       147\n",
      "non_infringement       0.91      0.93      0.92       158\n",
      "\n",
      "        accuracy                           0.91       305\n",
      "       macro avg       0.92      0.91      0.91       305\n",
      "    weighted avg       0.91      0.91      0.91       305\n",
      "\n"
     ]
    },
    {
     "name": "stderr",
     "output_type": "stream",
     "text": [
      "Training Epochs:  31%|███▏      | 785/2500 [00:28<00:49, 34.54it/s]"
     ]
    },
    {
     "name": "stdout",
     "output_type": "stream",
     "text": [
      "Epoch 780/2500, Loss: 0.0144\n",
      "Test Accuracy at Epoch 780: 91.48%\n",
      "Test F1-score at Epoch 780: 0.9187\n",
      "Classification Report at Epoch 780:\n",
      "                  precision    recall  f1-score   support\n",
      "\n",
      "    infringement       0.92      0.90      0.91       147\n",
      "non_infringement       0.91      0.93      0.92       158\n",
      "\n",
      "        accuracy                           0.91       305\n",
      "       macro avg       0.92      0.91      0.91       305\n",
      "    weighted avg       0.91      0.91      0.91       305\n",
      "\n"
     ]
    },
    {
     "name": "stderr",
     "output_type": "stream",
     "text": [
      "Training Epochs:  32%|███▏      | 795/2500 [00:29<00:44, 38.30it/s]"
     ]
    },
    {
     "name": "stdout",
     "output_type": "stream",
     "text": [
      "Epoch 790/2500, Loss: 0.0141\n",
      "Test Accuracy at Epoch 790: 91.48%\n",
      "Test F1-score at Epoch 790: 0.9187\n",
      "Classification Report at Epoch 790:\n",
      "                  precision    recall  f1-score   support\n",
      "\n",
      "    infringement       0.92      0.90      0.91       147\n",
      "non_infringement       0.91      0.93      0.92       158\n",
      "\n",
      "        accuracy                           0.91       305\n",
      "       macro avg       0.92      0.91      0.91       305\n",
      "    weighted avg       0.91      0.91      0.91       305\n",
      "\n"
     ]
    },
    {
     "name": "stderr",
     "output_type": "stream",
     "text": [
      "Training Epochs:  32%|███▏      | 805/2500 [00:29<00:42, 40.04it/s]"
     ]
    },
    {
     "name": "stdout",
     "output_type": "stream",
     "text": [
      "Epoch 800/2500, Loss: 0.0139\n",
      "Test Accuracy at Epoch 800: 91.48%\n",
      "Test F1-score at Epoch 800: 0.9187\n",
      "Classification Report at Epoch 800:\n",
      "                  precision    recall  f1-score   support\n",
      "\n",
      "    infringement       0.92      0.90      0.91       147\n",
      "non_infringement       0.91      0.93      0.92       158\n",
      "\n",
      "        accuracy                           0.91       305\n",
      "       macro avg       0.92      0.91      0.91       305\n",
      "    weighted avg       0.91      0.91      0.91       305\n",
      "\n"
     ]
    },
    {
     "name": "stderr",
     "output_type": "stream",
     "text": [
      "Training Epochs:  33%|███▎      | 815/2500 [00:29<00:40, 41.79it/s]"
     ]
    },
    {
     "name": "stdout",
     "output_type": "stream",
     "text": [
      "Epoch 810/2500, Loss: 0.0137\n",
      "Test Accuracy at Epoch 810: 91.48%\n",
      "Test F1-score at Epoch 810: 0.9187\n",
      "Classification Report at Epoch 810:\n",
      "                  precision    recall  f1-score   support\n",
      "\n",
      "    infringement       0.92      0.90      0.91       147\n",
      "non_infringement       0.91      0.93      0.92       158\n",
      "\n",
      "        accuracy                           0.91       305\n",
      "       macro avg       0.92      0.91      0.91       305\n",
      "    weighted avg       0.91      0.91      0.91       305\n",
      "\n"
     ]
    },
    {
     "name": "stderr",
     "output_type": "stream",
     "text": [
      "Training Epochs:  33%|███▎      | 825/2500 [00:29<00:39, 41.93it/s]"
     ]
    },
    {
     "name": "stdout",
     "output_type": "stream",
     "text": [
      "Epoch 820/2500, Loss: 0.0135\n",
      "Test Accuracy at Epoch 820: 91.48%\n",
      "Test F1-score at Epoch 820: 0.9187\n",
      "Classification Report at Epoch 820:\n",
      "                  precision    recall  f1-score   support\n",
      "\n",
      "    infringement       0.92      0.90      0.91       147\n",
      "non_infringement       0.91      0.93      0.92       158\n",
      "\n",
      "        accuracy                           0.91       305\n",
      "       macro avg       0.92      0.91      0.91       305\n",
      "    weighted avg       0.91      0.91      0.91       305\n",
      "\n"
     ]
    },
    {
     "name": "stderr",
     "output_type": "stream",
     "text": [
      "Training Epochs:  33%|███▎      | 835/2500 [00:30<00:38, 43.54it/s]"
     ]
    },
    {
     "name": "stdout",
     "output_type": "stream",
     "text": [
      "Epoch 830/2500, Loss: 0.0133\n",
      "Test Accuracy at Epoch 830: 91.48%\n",
      "Test F1-score at Epoch 830: 0.9187\n",
      "Classification Report at Epoch 830:\n",
      "                  precision    recall  f1-score   support\n",
      "\n",
      "    infringement       0.92      0.90      0.91       147\n",
      "non_infringement       0.91      0.93      0.92       158\n",
      "\n",
      "        accuracy                           0.91       305\n",
      "       macro avg       0.92      0.91      0.91       305\n",
      "    weighted avg       0.91      0.91      0.91       305\n",
      "\n"
     ]
    },
    {
     "name": "stderr",
     "output_type": "stream",
     "text": [
      "Training Epochs:  34%|███▍      | 845/2500 [00:30<00:36, 45.16it/s]"
     ]
    },
    {
     "name": "stdout",
     "output_type": "stream",
     "text": [
      "Epoch 840/2500, Loss: 0.0132\n",
      "Test Accuracy at Epoch 840: 91.48%\n",
      "Test F1-score at Epoch 840: 0.9187\n",
      "Classification Report at Epoch 840:\n",
      "                  precision    recall  f1-score   support\n",
      "\n",
      "    infringement       0.92      0.90      0.91       147\n",
      "non_infringement       0.91      0.93      0.92       158\n",
      "\n",
      "        accuracy                           0.91       305\n",
      "       macro avg       0.92      0.91      0.91       305\n",
      "    weighted avg       0.91      0.91      0.91       305\n",
      "\n"
     ]
    },
    {
     "name": "stderr",
     "output_type": "stream",
     "text": [
      "Training Epochs:  34%|███▍      | 855/2500 [00:30<00:35, 46.27it/s]"
     ]
    },
    {
     "name": "stdout",
     "output_type": "stream",
     "text": [
      "Epoch 850/2500, Loss: 0.0130\n",
      "Test Accuracy at Epoch 850: 91.48%\n",
      "Test F1-score at Epoch 850: 0.9187\n",
      "Classification Report at Epoch 850:\n",
      "                  precision    recall  f1-score   support\n",
      "\n",
      "    infringement       0.92      0.90      0.91       147\n",
      "non_infringement       0.91      0.93      0.92       158\n",
      "\n",
      "        accuracy                           0.91       305\n",
      "       macro avg       0.92      0.91      0.91       305\n",
      "    weighted avg       0.91      0.91      0.91       305\n",
      "\n"
     ]
    },
    {
     "name": "stderr",
     "output_type": "stream",
     "text": [
      "Training Epochs:  35%|███▍      | 865/2500 [00:30<00:35, 46.11it/s]"
     ]
    },
    {
     "name": "stdout",
     "output_type": "stream",
     "text": [
      "Epoch 860/2500, Loss: 0.0129\n",
      "Test Accuracy at Epoch 860: 91.48%\n",
      "Test F1-score at Epoch 860: 0.9187\n",
      "Classification Report at Epoch 860:\n",
      "                  precision    recall  f1-score   support\n",
      "\n",
      "    infringement       0.92      0.90      0.91       147\n",
      "non_infringement       0.91      0.93      0.92       158\n",
      "\n",
      "        accuracy                           0.91       305\n",
      "       macro avg       0.92      0.91      0.91       305\n",
      "    weighted avg       0.91      0.91      0.91       305\n",
      "\n"
     ]
    },
    {
     "name": "stderr",
     "output_type": "stream",
     "text": [
      "Training Epochs:  35%|███▌      | 875/2500 [00:30<00:38, 42.17it/s]"
     ]
    },
    {
     "name": "stdout",
     "output_type": "stream",
     "text": [
      "Epoch 870/2500, Loss: 0.0128\n",
      "Test Accuracy at Epoch 870: 91.48%\n",
      "Test F1-score at Epoch 870: 0.9187\n",
      "Classification Report at Epoch 870:\n",
      "                  precision    recall  f1-score   support\n",
      "\n",
      "    infringement       0.92      0.90      0.91       147\n",
      "non_infringement       0.91      0.93      0.92       158\n",
      "\n",
      "        accuracy                           0.91       305\n",
      "       macro avg       0.92      0.91      0.91       305\n",
      "    weighted avg       0.91      0.91      0.91       305\n",
      "\n"
     ]
    },
    {
     "name": "stderr",
     "output_type": "stream",
     "text": [
      "Training Epochs:  35%|███▌      | 885/2500 [00:31<00:36, 44.38it/s]"
     ]
    },
    {
     "name": "stdout",
     "output_type": "stream",
     "text": [
      "Epoch 880/2500, Loss: 0.0127\n",
      "Test Accuracy at Epoch 880: 91.48%\n",
      "Test F1-score at Epoch 880: 0.9187\n",
      "Classification Report at Epoch 880:\n",
      "                  precision    recall  f1-score   support\n",
      "\n",
      "    infringement       0.92      0.90      0.91       147\n",
      "non_infringement       0.91      0.93      0.92       158\n",
      "\n",
      "        accuracy                           0.91       305\n",
      "       macro avg       0.92      0.91      0.91       305\n",
      "    weighted avg       0.91      0.91      0.91       305\n",
      "\n"
     ]
    },
    {
     "name": "stderr",
     "output_type": "stream",
     "text": [
      "Training Epochs:  36%|███▌      | 895/2500 [00:31<00:36, 44.16it/s]"
     ]
    },
    {
     "name": "stdout",
     "output_type": "stream",
     "text": [
      "Epoch 890/2500, Loss: 0.0126\n",
      "Test Accuracy at Epoch 890: 91.48%\n",
      "Test F1-score at Epoch 890: 0.9187\n",
      "Classification Report at Epoch 890:\n",
      "                  precision    recall  f1-score   support\n",
      "\n",
      "    infringement       0.92      0.90      0.91       147\n",
      "non_infringement       0.91      0.93      0.92       158\n",
      "\n",
      "        accuracy                           0.91       305\n",
      "       macro avg       0.92      0.91      0.91       305\n",
      "    weighted avg       0.91      0.91      0.91       305\n",
      "\n"
     ]
    },
    {
     "name": "stderr",
     "output_type": "stream",
     "text": [
      "Training Epochs:  36%|███▌      | 900/2500 [00:31<00:36, 44.36it/s]"
     ]
    },
    {
     "name": "stdout",
     "output_type": "stream",
     "text": [
      "Epoch 900/2500, Loss: 0.0125\n",
      "Test Accuracy at Epoch 900: 91.48%\n",
      "Test F1-score at Epoch 900: 0.9187\n",
      "Classification Report at Epoch 900:\n",
      "                  precision    recall  f1-score   support\n",
      "\n",
      "    infringement       0.92      0.90      0.91       147\n",
      "non_infringement       0.91      0.93      0.92       158\n",
      "\n",
      "        accuracy                           0.91       305\n",
      "       macro avg       0.92      0.91      0.91       305\n",
      "    weighted avg       0.91      0.91      0.91       305\n",
      "\n"
     ]
    },
    {
     "name": "stderr",
     "output_type": "stream",
     "text": [
      "Training Epochs:  37%|███▋      | 918/2500 [00:32<00:47, 33.61it/s]"
     ]
    },
    {
     "name": "stdout",
     "output_type": "stream",
     "text": [
      "Epoch 910/2500, Loss: 0.0124\n",
      "Test Accuracy at Epoch 910: 91.48%\n",
      "Test F1-score at Epoch 910: 0.9187\n",
      "Classification Report at Epoch 910:\n",
      "                  precision    recall  f1-score   support\n",
      "\n",
      "    infringement       0.92      0.90      0.91       147\n",
      "non_infringement       0.91      0.93      0.92       158\n",
      "\n",
      "        accuracy                           0.91       305\n",
      "       macro avg       0.92      0.91      0.91       305\n",
      "    weighted avg       0.91      0.91      0.91       305\n",
      "\n"
     ]
    },
    {
     "name": "stderr",
     "output_type": "stream",
     "text": [
      "Training Epochs:  37%|███▋      | 926/2500 [00:32<00:43, 35.87it/s]"
     ]
    },
    {
     "name": "stdout",
     "output_type": "stream",
     "text": [
      "Epoch 920/2500, Loss: 0.0123\n",
      "Test Accuracy at Epoch 920: 91.48%\n",
      "Test F1-score at Epoch 920: 0.9187\n",
      "Classification Report at Epoch 920:\n",
      "                  precision    recall  f1-score   support\n",
      "\n",
      "    infringement       0.92      0.90      0.91       147\n",
      "non_infringement       0.91      0.93      0.92       158\n",
      "\n",
      "        accuracy                           0.91       305\n",
      "       macro avg       0.92      0.91      0.91       305\n",
      "    weighted avg       0.91      0.91      0.91       305\n",
      "\n"
     ]
    },
    {
     "name": "stderr",
     "output_type": "stream",
     "text": [
      "Training Epochs:  37%|███▋      | 936/2500 [00:32<00:37, 41.25it/s]"
     ]
    },
    {
     "name": "stdout",
     "output_type": "stream",
     "text": [
      "Epoch 930/2500, Loss: 0.0122\n",
      "Test Accuracy at Epoch 930: 91.48%\n",
      "Test F1-score at Epoch 930: 0.9187\n",
      "Classification Report at Epoch 930:\n",
      "                  precision    recall  f1-score   support\n",
      "\n",
      "    infringement       0.92      0.90      0.91       147\n",
      "non_infringement       0.91      0.93      0.92       158\n",
      "\n",
      "        accuracy                           0.91       305\n",
      "       macro avg       0.92      0.91      0.91       305\n",
      "    weighted avg       0.91      0.91      0.91       305\n",
      "\n"
     ]
    },
    {
     "name": "stderr",
     "output_type": "stream",
     "text": [
      "Training Epochs:  38%|███▊      | 947/2500 [00:32<00:35, 44.23it/s]"
     ]
    },
    {
     "name": "stdout",
     "output_type": "stream",
     "text": [
      "Epoch 940/2500, Loss: 0.0122\n",
      "Test Accuracy at Epoch 940: 91.48%\n",
      "Test F1-score at Epoch 940: 0.9187\n",
      "Classification Report at Epoch 940:\n",
      "                  precision    recall  f1-score   support\n",
      "\n",
      "    infringement       0.92      0.90      0.91       147\n",
      "non_infringement       0.91      0.93      0.92       158\n",
      "\n",
      "        accuracy                           0.91       305\n",
      "       macro avg       0.92      0.91      0.91       305\n",
      "    weighted avg       0.91      0.91      0.91       305\n",
      "\n"
     ]
    },
    {
     "name": "stderr",
     "output_type": "stream",
     "text": [
      "Training Epochs:  38%|███▊      | 958/2500 [00:33<00:33, 46.43it/s]"
     ]
    },
    {
     "name": "stdout",
     "output_type": "stream",
     "text": [
      "Epoch 950/2500, Loss: 0.0121\n",
      "Test Accuracy at Epoch 950: 91.48%\n",
      "Test F1-score at Epoch 950: 0.9187\n",
      "Classification Report at Epoch 950:\n",
      "                  precision    recall  f1-score   support\n",
      "\n",
      "    infringement       0.92      0.90      0.91       147\n",
      "non_infringement       0.91      0.93      0.92       158\n",
      "\n",
      "        accuracy                           0.91       305\n",
      "       macro avg       0.92      0.91      0.91       305\n",
      "    weighted avg       0.91      0.91      0.91       305\n",
      "\n"
     ]
    },
    {
     "name": "stderr",
     "output_type": "stream",
     "text": [
      "Training Epochs:  39%|███▉      | 969/2500 [00:33<00:32, 47.00it/s]"
     ]
    },
    {
     "name": "stdout",
     "output_type": "stream",
     "text": [
      "Epoch 960/2500, Loss: 0.0121\n",
      "Test Accuracy at Epoch 960: 91.48%\n",
      "Test F1-score at Epoch 960: 0.9187\n",
      "Classification Report at Epoch 960:\n",
      "                  precision    recall  f1-score   support\n",
      "\n",
      "    infringement       0.92      0.90      0.91       147\n",
      "non_infringement       0.91      0.93      0.92       158\n",
      "\n",
      "        accuracy                           0.91       305\n",
      "       macro avg       0.92      0.91      0.91       305\n",
      "    weighted avg       0.91      0.91      0.91       305\n",
      "\n"
     ]
    },
    {
     "name": "stderr",
     "output_type": "stream",
     "text": [
      "Training Epochs:  39%|███▉      | 974/2500 [00:33<00:32, 46.28it/s]"
     ]
    },
    {
     "name": "stdout",
     "output_type": "stream",
     "text": [
      "Epoch 970/2500, Loss: 0.0120\n",
      "Test Accuracy at Epoch 970: 91.48%\n",
      "Test F1-score at Epoch 970: 0.9187\n",
      "Classification Report at Epoch 970:\n",
      "                  precision    recall  f1-score   support\n",
      "\n",
      "    infringement       0.92      0.90      0.91       147\n",
      "non_infringement       0.91      0.93      0.92       158\n",
      "\n",
      "        accuracy                           0.91       305\n",
      "       macro avg       0.92      0.91      0.91       305\n",
      "    weighted avg       0.91      0.91      0.91       305\n",
      "\n"
     ]
    },
    {
     "name": "stderr",
     "output_type": "stream",
     "text": [
      "Training Epochs:  39%|███▉      | 980/2500 [00:33<00:32, 46.21it/s]"
     ]
    },
    {
     "name": "stdout",
     "output_type": "stream",
     "text": [
      "Epoch 980/2500, Loss: 0.0120\n",
      "Test Accuracy at Epoch 980: 91.48%\n",
      "Test F1-score at Epoch 980: 0.9187\n",
      "Classification Report at Epoch 980:\n",
      "                  precision    recall  f1-score   support\n",
      "\n",
      "    infringement       0.92      0.90      0.91       147\n",
      "non_infringement       0.91      0.93      0.92       158\n",
      "\n",
      "        accuracy                           0.91       305\n",
      "       macro avg       0.92      0.91      0.91       305\n",
      "    weighted avg       0.91      0.91      0.91       305\n",
      "\n"
     ]
    },
    {
     "name": "stderr",
     "output_type": "stream",
     "text": [
      "Training Epochs:  40%|███▉      | 994/2500 [00:33<00:41, 35.86it/s]"
     ]
    },
    {
     "name": "stdout",
     "output_type": "stream",
     "text": [
      "Epoch 990/2500, Loss: 0.0119\n",
      "Test Accuracy at Epoch 990: 91.48%\n",
      "Test F1-score at Epoch 990: 0.9187\n",
      "Classification Report at Epoch 990:\n",
      "                  precision    recall  f1-score   support\n",
      "\n",
      "    infringement       0.92      0.90      0.91       147\n",
      "non_infringement       0.91      0.93      0.92       158\n",
      "\n",
      "        accuracy                           0.91       305\n",
      "       macro avg       0.92      0.91      0.91       305\n",
      "    weighted avg       0.91      0.91      0.91       305\n",
      "\n"
     ]
    },
    {
     "name": "stderr",
     "output_type": "stream",
     "text": [
      "Training Epochs:  40%|████      | 1005/2500 [00:34<00:42, 35.00it/s]"
     ]
    },
    {
     "name": "stdout",
     "output_type": "stream",
     "text": [
      "Epoch 1000/2500, Loss: 0.0119\n",
      "Test Accuracy at Epoch 1000: 91.48%\n",
      "Test F1-score at Epoch 1000: 0.9187\n",
      "Classification Report at Epoch 1000:\n",
      "                  precision    recall  f1-score   support\n",
      "\n",
      "    infringement       0.92      0.90      0.91       147\n",
      "non_infringement       0.91      0.93      0.92       158\n",
      "\n",
      "        accuracy                           0.91       305\n",
      "       macro avg       0.92      0.91      0.91       305\n",
      "    weighted avg       0.91      0.91      0.91       305\n",
      "\n"
     ]
    },
    {
     "name": "stderr",
     "output_type": "stream",
     "text": [
      "Training Epochs:  41%|████      | 1015/2500 [00:34<00:37, 39.22it/s]"
     ]
    },
    {
     "name": "stdout",
     "output_type": "stream",
     "text": [
      "Epoch 1010/2500, Loss: 0.0118\n",
      "Test Accuracy at Epoch 1010: 91.48%\n",
      "Test F1-score at Epoch 1010: 0.9187\n",
      "Classification Report at Epoch 1010:\n",
      "                  precision    recall  f1-score   support\n",
      "\n",
      "    infringement       0.92      0.90      0.91       147\n",
      "non_infringement       0.91      0.93      0.92       158\n",
      "\n",
      "        accuracy                           0.91       305\n",
      "       macro avg       0.92      0.91      0.91       305\n",
      "    weighted avg       0.91      0.91      0.91       305\n",
      "\n"
     ]
    },
    {
     "name": "stderr",
     "output_type": "stream",
     "text": [
      "Training Epochs:  41%|████      | 1025/2500 [00:34<00:36, 40.71it/s]"
     ]
    },
    {
     "name": "stdout",
     "output_type": "stream",
     "text": [
      "Epoch 1020/2500, Loss: 0.0118\n",
      "Test Accuracy at Epoch 1020: 91.48%\n",
      "Test F1-score at Epoch 1020: 0.9187\n",
      "Classification Report at Epoch 1020:\n",
      "                  precision    recall  f1-score   support\n",
      "\n",
      "    infringement       0.92      0.90      0.91       147\n",
      "non_infringement       0.91      0.93      0.92       158\n",
      "\n",
      "        accuracy                           0.91       305\n",
      "       macro avg       0.92      0.91      0.91       305\n",
      "    weighted avg       0.91      0.91      0.91       305\n",
      "\n"
     ]
    },
    {
     "name": "stderr",
     "output_type": "stream",
     "text": [
      "Training Epochs:  41%|████▏     | 1035/2500 [00:34<00:34, 42.71it/s]"
     ]
    },
    {
     "name": "stdout",
     "output_type": "stream",
     "text": [
      "Epoch 1030/2500, Loss: 0.0118\n",
      "Test Accuracy at Epoch 1030: 91.48%\n",
      "Test F1-score at Epoch 1030: 0.9187\n",
      "Classification Report at Epoch 1030:\n",
      "                  precision    recall  f1-score   support\n",
      "\n",
      "    infringement       0.92      0.90      0.91       147\n",
      "non_infringement       0.91      0.93      0.92       158\n",
      "\n",
      "        accuracy                           0.91       305\n",
      "       macro avg       0.92      0.91      0.91       305\n",
      "    weighted avg       0.91      0.91      0.91       305\n",
      "\n"
     ]
    },
    {
     "name": "stderr",
     "output_type": "stream",
     "text": [
      "Training Epochs:  42%|████▏     | 1045/2500 [00:35<00:34, 42.51it/s]"
     ]
    },
    {
     "name": "stdout",
     "output_type": "stream",
     "text": [
      "Epoch 1040/2500, Loss: 0.0117\n",
      "Test Accuracy at Epoch 1040: 91.48%\n",
      "Test F1-score at Epoch 1040: 0.9187\n",
      "Classification Report at Epoch 1040:\n",
      "                  precision    recall  f1-score   support\n",
      "\n",
      "    infringement       0.92      0.90      0.91       147\n",
      "non_infringement       0.91      0.93      0.92       158\n",
      "\n",
      "        accuracy                           0.91       305\n",
      "       macro avg       0.92      0.91      0.91       305\n",
      "    weighted avg       0.91      0.91      0.91       305\n",
      "\n"
     ]
    },
    {
     "name": "stderr",
     "output_type": "stream",
     "text": [
      "Training Epochs:  42%|████▏     | 1055/2500 [00:35<00:35, 40.88it/s]"
     ]
    },
    {
     "name": "stdout",
     "output_type": "stream",
     "text": [
      "Epoch 1050/2500, Loss: 0.0117\n",
      "Test Accuracy at Epoch 1050: 91.48%\n",
      "Test F1-score at Epoch 1050: 0.9187\n",
      "Classification Report at Epoch 1050:\n",
      "                  precision    recall  f1-score   support\n",
      "\n",
      "    infringement       0.92      0.90      0.91       147\n",
      "non_infringement       0.91      0.93      0.92       158\n",
      "\n",
      "        accuracy                           0.91       305\n",
      "       macro avg       0.92      0.91      0.91       305\n",
      "    weighted avg       0.91      0.91      0.91       305\n",
      "\n"
     ]
    },
    {
     "name": "stderr",
     "output_type": "stream",
     "text": [
      "Training Epochs:  42%|████▏     | 1060/2500 [00:35<00:35, 40.15it/s]"
     ]
    },
    {
     "name": "stdout",
     "output_type": "stream",
     "text": [
      "Epoch 1060/2500, Loss: 0.0117\n",
      "Test Accuracy at Epoch 1060: 91.48%\n",
      "Test F1-score at Epoch 1060: 0.9187\n",
      "Classification Report at Epoch 1060:\n",
      "                  precision    recall  f1-score   support\n",
      "\n",
      "    infringement       0.92      0.90      0.91       147\n",
      "non_infringement       0.91      0.93      0.92       158\n",
      "\n",
      "        accuracy                           0.91       305\n",
      "       macro avg       0.92      0.91      0.91       305\n",
      "    weighted avg       0.91      0.91      0.91       305\n",
      "\n"
     ]
    },
    {
     "name": "stderr",
     "output_type": "stream",
     "text": [
      "Training Epochs:  43%|████▎     | 1076/2500 [00:36<00:35, 40.31it/s]"
     ]
    },
    {
     "name": "stdout",
     "output_type": "stream",
     "text": [
      "Epoch 1070/2500, Loss: 0.0117\n",
      "Test Accuracy at Epoch 1070: 91.48%\n",
      "Test F1-score at Epoch 1070: 0.9187\n",
      "Classification Report at Epoch 1070:\n",
      "                  precision    recall  f1-score   support\n",
      "\n",
      "    infringement       0.92      0.90      0.91       147\n",
      "non_infringement       0.91      0.93      0.92       158\n",
      "\n",
      "        accuracy                           0.91       305\n",
      "       macro avg       0.92      0.91      0.91       305\n",
      "    weighted avg       0.91      0.91      0.91       305\n",
      "\n"
     ]
    },
    {
     "name": "stderr",
     "output_type": "stream",
     "text": [
      "Training Epochs:  43%|████▎     | 1086/2500 [00:36<00:33, 42.50it/s]"
     ]
    },
    {
     "name": "stdout",
     "output_type": "stream",
     "text": [
      "Epoch 1080/2500, Loss: 0.0116\n",
      "Test Accuracy at Epoch 1080: 91.48%\n",
      "Test F1-score at Epoch 1080: 0.9187\n",
      "Classification Report at Epoch 1080:\n",
      "                  precision    recall  f1-score   support\n",
      "\n",
      "    infringement       0.92      0.90      0.91       147\n",
      "non_infringement       0.91      0.93      0.92       158\n",
      "\n",
      "        accuracy                           0.91       305\n",
      "       macro avg       0.92      0.91      0.91       305\n",
      "    weighted avg       0.91      0.91      0.91       305\n",
      "\n"
     ]
    },
    {
     "name": "stderr",
     "output_type": "stream",
     "text": [
      "Training Epochs:  44%|████▍     | 1096/2500 [00:36<00:33, 41.96it/s]"
     ]
    },
    {
     "name": "stdout",
     "output_type": "stream",
     "text": [
      "Epoch 1090/2500, Loss: 0.0117\n",
      "Test Accuracy at Epoch 1090: 91.48%\n",
      "Test F1-score at Epoch 1090: 0.9187\n",
      "Classification Report at Epoch 1090:\n",
      "                  precision    recall  f1-score   support\n",
      "\n",
      "    infringement       0.92      0.90      0.91       147\n",
      "non_infringement       0.91      0.93      0.92       158\n",
      "\n",
      "        accuracy                           0.91       305\n",
      "       macro avg       0.92      0.91      0.91       305\n",
      "    weighted avg       0.91      0.91      0.91       305\n",
      "\n"
     ]
    },
    {
     "name": "stderr",
     "output_type": "stream",
     "text": [
      "Training Epochs:  44%|████▍     | 1106/2500 [00:36<00:41, 33.39it/s]"
     ]
    },
    {
     "name": "stdout",
     "output_type": "stream",
     "text": [
      "Epoch 1100/2500, Loss: 0.0116\n",
      "Test Accuracy at Epoch 1100: 90.82%\n",
      "Test F1-score at Epoch 1100: 0.9119\n",
      "Classification Report at Epoch 1100:\n",
      "                  precision    recall  f1-score   support\n",
      "\n",
      "    infringement       0.91      0.90      0.90       147\n",
      "non_infringement       0.91      0.92      0.91       158\n",
      "\n",
      "        accuracy                           0.91       305\n",
      "       macro avg       0.91      0.91      0.91       305\n",
      "    weighted avg       0.91      0.91      0.91       305\n",
      "\n"
     ]
    },
    {
     "name": "stderr",
     "output_type": "stream",
     "text": [
      "Training Epochs:  44%|████▍     | 1111/2500 [00:37<00:38, 35.90it/s]"
     ]
    },
    {
     "name": "stdout",
     "output_type": "stream",
     "text": [
      "Epoch 1110/2500, Loss: 0.0116\n",
      "Test Accuracy at Epoch 1110: 91.48%\n",
      "Test F1-score at Epoch 1110: 0.9187\n",
      "Classification Report at Epoch 1110:\n",
      "                  precision    recall  f1-score   support\n",
      "\n",
      "    infringement       0.92      0.90      0.91       147\n",
      "non_infringement       0.91      0.93      0.92       158\n",
      "\n",
      "        accuracy                           0.91       305\n",
      "       macro avg       0.92      0.91      0.91       305\n",
      "    weighted avg       0.91      0.91      0.91       305\n",
      "\n"
     ]
    },
    {
     "name": "stderr",
     "output_type": "stream",
     "text": [
      "Training Epochs:  45%|████▍     | 1124/2500 [00:37<00:47, 28.80it/s]"
     ]
    },
    {
     "name": "stdout",
     "output_type": "stream",
     "text": [
      "Epoch 1120/2500, Loss: 0.0117\n",
      "Test Accuracy at Epoch 1120: 91.48%\n",
      "Test F1-score at Epoch 1120: 0.9187\n",
      "Classification Report at Epoch 1120:\n",
      "                  precision    recall  f1-score   support\n",
      "\n",
      "    infringement       0.92      0.90      0.91       147\n",
      "non_infringement       0.91      0.93      0.92       158\n",
      "\n",
      "        accuracy                           0.91       305\n",
      "       macro avg       0.92      0.91      0.91       305\n",
      "    weighted avg       0.91      0.91      0.91       305\n",
      "\n"
     ]
    },
    {
     "name": "stderr",
     "output_type": "stream",
     "text": [
      "Training Epochs:  45%|████▌     | 1137/2500 [00:37<00:44, 30.87it/s]"
     ]
    },
    {
     "name": "stdout",
     "output_type": "stream",
     "text": [
      "Epoch 1130/2500, Loss: 0.0118\n",
      "Test Accuracy at Epoch 1130: 90.49%\n",
      "Test F1-score at Epoch 1130: 0.9085\n",
      "Classification Report at Epoch 1130:\n",
      "                  precision    recall  f1-score   support\n",
      "\n",
      "    infringement       0.90      0.90      0.90       147\n",
      "non_infringement       0.91      0.91      0.91       158\n",
      "\n",
      "        accuracy                           0.90       305\n",
      "       macro avg       0.90      0.90      0.90       305\n",
      "    weighted avg       0.90      0.90      0.90       305\n",
      "\n"
     ]
    },
    {
     "name": "stderr",
     "output_type": "stream",
     "text": [
      "Training Epochs:  46%|████▌     | 1146/2500 [00:38<00:37, 35.88it/s]"
     ]
    },
    {
     "name": "stdout",
     "output_type": "stream",
     "text": [
      "Epoch 1140/2500, Loss: 1.9635\n",
      "Test Accuracy at Epoch 1140: 60.98%\n",
      "Test F1-score at Epoch 1140: 0.4566\n",
      "Classification Report at Epoch 1140:\n",
      "                  precision    recall  f1-score   support\n",
      "\n",
      "    infringement       0.56      0.93      0.70       147\n",
      "non_infringement       0.82      0.32      0.46       158\n",
      "\n",
      "        accuracy                           0.61       305\n",
      "       macro avg       0.69      0.62      0.58       305\n",
      "    weighted avg       0.69      0.61      0.57       305\n",
      "\n"
     ]
    },
    {
     "name": "stderr",
     "output_type": "stream",
     "text": [
      "Training Epochs:  46%|████▌     | 1156/2500 [00:38<00:33, 40.56it/s]"
     ]
    },
    {
     "name": "stdout",
     "output_type": "stream",
     "text": [
      "Epoch 1150/2500, Loss: 0.4703\n",
      "Test Accuracy at Epoch 1150: 90.49%\n",
      "Test F1-score at Epoch 1150: 0.9061\n",
      "Classification Report at Epoch 1150:\n",
      "                  precision    recall  f1-score   support\n",
      "\n",
      "    infringement       0.88      0.93      0.90       147\n",
      "non_infringement       0.93      0.89      0.91       158\n",
      "\n",
      "        accuracy                           0.90       305\n",
      "       macro avg       0.91      0.91      0.90       305\n",
      "    weighted avg       0.91      0.90      0.90       305\n",
      "\n"
     ]
    },
    {
     "name": "stderr",
     "output_type": "stream",
     "text": [
      "Training Epochs:  47%|████▋     | 1166/2500 [00:38<00:32, 41.44it/s]"
     ]
    },
    {
     "name": "stdout",
     "output_type": "stream",
     "text": [
      "Epoch 1160/2500, Loss: 0.1710\n",
      "Test Accuracy at Epoch 1160: 88.20%\n",
      "Test F1-score at Epoch 1160: 0.8882\n",
      "Classification Report at Epoch 1160:\n",
      "                  precision    recall  f1-score   support\n",
      "\n",
      "    infringement       0.89      0.86      0.88       147\n",
      "non_infringement       0.87      0.91      0.89       158\n",
      "\n",
      "        accuracy                           0.88       305\n",
      "       macro avg       0.88      0.88      0.88       305\n",
      "    weighted avg       0.88      0.88      0.88       305\n",
      "\n"
     ]
    },
    {
     "name": "stderr",
     "output_type": "stream",
     "text": [
      "Training Epochs:  47%|████▋     | 1171/2500 [00:38<00:42, 31.16it/s]"
     ]
    },
    {
     "name": "stdout",
     "output_type": "stream",
     "text": [
      "Epoch 1170/2500, Loss: 0.1110\n",
      "Test Accuracy at Epoch 1170: 92.79%\n",
      "Test F1-score at Epoch 1170: 0.9299\n",
      "Classification Report at Epoch 1170:\n",
      "                  precision    recall  f1-score   support\n",
      "\n",
      "    infringement       0.92      0.93      0.93       147\n",
      "non_infringement       0.94      0.92      0.93       158\n",
      "\n",
      "        accuracy                           0.93       305\n",
      "       macro avg       0.93      0.93      0.93       305\n",
      "    weighted avg       0.93      0.93      0.93       305\n",
      "\n"
     ]
    },
    {
     "name": "stderr",
     "output_type": "stream",
     "text": [
      "Training Epochs:  47%|████▋     | 1179/2500 [00:39<00:46, 28.55it/s]"
     ]
    },
    {
     "name": "stdout",
     "output_type": "stream",
     "text": [
      "Epoch 1180/2500, Loss: 0.0600\n",
      "Test Accuracy at Epoch 1180: 93.44%\n",
      "Test F1-score at Epoch 1180: 0.9351\n",
      "Classification Report at Epoch 1180:\n",
      "                  precision    recall  f1-score   support\n",
      "\n",
      "    infringement       0.91      0.96      0.93       147\n",
      "non_infringement       0.96      0.91      0.94       158\n",
      "\n",
      "        accuracy                           0.93       305\n",
      "       macro avg       0.93      0.94      0.93       305\n",
      "    weighted avg       0.94      0.93      0.93       305\n",
      "\n"
     ]
    },
    {
     "name": "stderr",
     "output_type": "stream",
     "text": [
      "Training Epochs:  48%|████▊     | 1192/2500 [00:39<00:48, 26.71it/s]"
     ]
    },
    {
     "name": "stdout",
     "output_type": "stream",
     "text": [
      "Epoch 1190/2500, Loss: 0.0453\n",
      "Test Accuracy at Epoch 1190: 93.77%\n",
      "Test F1-score at Epoch 1190: 0.9385\n",
      "Classification Report at Epoch 1190:\n",
      "                  precision    recall  f1-score   support\n",
      "\n",
      "    infringement       0.92      0.96      0.94       147\n",
      "non_infringement       0.96      0.92      0.94       158\n",
      "\n",
      "        accuracy                           0.94       305\n",
      "       macro avg       0.94      0.94      0.94       305\n",
      "    weighted avg       0.94      0.94      0.94       305\n",
      "\n"
     ]
    },
    {
     "name": "stderr",
     "output_type": "stream",
     "text": [
      "Training Epochs:  48%|████▊     | 1202/2500 [00:40<00:46, 28.21it/s]"
     ]
    },
    {
     "name": "stdout",
     "output_type": "stream",
     "text": [
      "Epoch 1200/2500, Loss: 0.0306\n",
      "Test Accuracy at Epoch 1200: 94.43%\n",
      "Test F1-score at Epoch 1200: 0.9453\n",
      "Classification Report at Epoch 1200:\n",
      "                  precision    recall  f1-score   support\n",
      "\n",
      "    infringement       0.93      0.96      0.94       147\n",
      "non_infringement       0.96      0.93      0.95       158\n",
      "\n",
      "        accuracy                           0.94       305\n",
      "       macro avg       0.94      0.94      0.94       305\n",
      "    weighted avg       0.94      0.94      0.94       305\n",
      "\n"
     ]
    },
    {
     "name": "stderr",
     "output_type": "stream",
     "text": [
      "Training Epochs:  48%|████▊     | 1210/2500 [00:40<00:52, 24.51it/s]"
     ]
    },
    {
     "name": "stdout",
     "output_type": "stream",
     "text": [
      "Epoch 1210/2500, Loss: 0.0231\n",
      "Test Accuracy at Epoch 1210: 94.75%\n",
      "Test F1-score at Epoch 1210: 0.9484\n",
      "Classification Report at Epoch 1210:\n",
      "                  precision    recall  f1-score   support\n",
      "\n",
      "    infringement       0.93      0.97      0.95       147\n",
      "non_infringement       0.97      0.93      0.95       158\n",
      "\n",
      "        accuracy                           0.95       305\n",
      "       macro avg       0.95      0.95      0.95       305\n",
      "    weighted avg       0.95      0.95      0.95       305\n",
      "\n"
     ]
    },
    {
     "name": "stderr",
     "output_type": "stream",
     "text": [
      "Training Epochs:  49%|████▉     | 1224/2500 [00:40<00:42, 29.87it/s]"
     ]
    },
    {
     "name": "stdout",
     "output_type": "stream",
     "text": [
      "Epoch 1220/2500, Loss: 0.0198\n",
      "Test Accuracy at Epoch 1220: 94.10%\n",
      "Test F1-score at Epoch 1220: 0.9416\n",
      "Classification Report at Epoch 1220:\n",
      "                  precision    recall  f1-score   support\n",
      "\n",
      "    infringement       0.92      0.97      0.94       147\n",
      "non_infringement       0.97      0.92      0.94       158\n",
      "\n",
      "        accuracy                           0.94       305\n",
      "       macro avg       0.94      0.94      0.94       305\n",
      "    weighted avg       0.94      0.94      0.94       305\n",
      "\n"
     ]
    },
    {
     "name": "stderr",
     "output_type": "stream",
     "text": [
      "Training Epochs:  49%|████▉     | 1236/2500 [00:41<00:32, 38.44it/s]"
     ]
    },
    {
     "name": "stdout",
     "output_type": "stream",
     "text": [
      "Epoch 1230/2500, Loss: 0.0180\n",
      "Test Accuracy at Epoch 1230: 94.10%\n",
      "Test F1-score at Epoch 1230: 0.9416\n",
      "Classification Report at Epoch 1230:\n",
      "                  precision    recall  f1-score   support\n",
      "\n",
      "    infringement       0.92      0.97      0.94       147\n",
      "non_infringement       0.97      0.92      0.94       158\n",
      "\n",
      "        accuracy                           0.94       305\n",
      "       macro avg       0.94      0.94      0.94       305\n",
      "    weighted avg       0.94      0.94      0.94       305\n",
      "\n"
     ]
    },
    {
     "name": "stderr",
     "output_type": "stream",
     "text": [
      "Training Epochs:  50%|████▉     | 1247/2500 [00:41<00:29, 42.45it/s]"
     ]
    },
    {
     "name": "stdout",
     "output_type": "stream",
     "text": [
      "Epoch 1240/2500, Loss: 0.0168\n",
      "Test Accuracy at Epoch 1240: 94.10%\n",
      "Test F1-score at Epoch 1240: 0.9416\n",
      "Classification Report at Epoch 1240:\n",
      "                  precision    recall  f1-score   support\n",
      "\n",
      "    infringement       0.92      0.97      0.94       147\n",
      "non_infringement       0.97      0.92      0.94       158\n",
      "\n",
      "        accuracy                           0.94       305\n",
      "       macro avg       0.94      0.94      0.94       305\n",
      "    weighted avg       0.94      0.94      0.94       305\n",
      "\n"
     ]
    },
    {
     "name": "stderr",
     "output_type": "stream",
     "text": [
      "Training Epochs:  50%|█████     | 1258/2500 [00:41<00:27, 45.01it/s]"
     ]
    },
    {
     "name": "stdout",
     "output_type": "stream",
     "text": [
      "Epoch 1250/2500, Loss: 0.0161\n",
      "Test Accuracy at Epoch 1250: 94.43%\n",
      "Test F1-score at Epoch 1250: 0.9450\n",
      "Classification Report at Epoch 1250:\n",
      "                  precision    recall  f1-score   support\n",
      "\n",
      "    infringement       0.92      0.97      0.94       147\n",
      "non_infringement       0.97      0.92      0.94       158\n",
      "\n",
      "        accuracy                           0.94       305\n",
      "       macro avg       0.94      0.95      0.94       305\n",
      "    weighted avg       0.95      0.94      0.94       305\n",
      "\n"
     ]
    },
    {
     "name": "stderr",
     "output_type": "stream",
     "text": [
      "Training Epochs:  51%|█████     | 1269/2500 [00:41<00:25, 47.95it/s]"
     ]
    },
    {
     "name": "stdout",
     "output_type": "stream",
     "text": [
      "Epoch 1260/2500, Loss: 0.0155\n",
      "Test Accuracy at Epoch 1260: 94.43%\n",
      "Test F1-score at Epoch 1260: 0.9450\n",
      "Classification Report at Epoch 1260:\n",
      "                  precision    recall  f1-score   support\n",
      "\n",
      "    infringement       0.92      0.97      0.94       147\n",
      "non_infringement       0.97      0.92      0.94       158\n",
      "\n",
      "        accuracy                           0.94       305\n",
      "       macro avg       0.94      0.95      0.94       305\n",
      "    weighted avg       0.95      0.94      0.94       305\n",
      "\n",
      "Epoch 1270/2500, Loss: 0.0151\n"
     ]
    },
    {
     "name": "stderr",
     "output_type": "stream",
     "text": [
      "Training Epochs:  51%|█████     | 1279/2500 [00:42<00:25, 47.69it/s]"
     ]
    },
    {
     "name": "stdout",
     "output_type": "stream",
     "text": [
      "Test Accuracy at Epoch 1270: 94.43%\n",
      "Test F1-score at Epoch 1270: 0.9450\n",
      "Classification Report at Epoch 1270:\n",
      "                  precision    recall  f1-score   support\n",
      "\n",
      "    infringement       0.92      0.97      0.94       147\n",
      "non_infringement       0.97      0.92      0.94       158\n",
      "\n",
      "        accuracy                           0.94       305\n",
      "       macro avg       0.94      0.95      0.94       305\n",
      "    weighted avg       0.95      0.94      0.94       305\n",
      "\n"
     ]
    },
    {
     "name": "stderr",
     "output_type": "stream",
     "text": [
      "Training Epochs:  51%|█████▏    | 1284/2500 [00:42<00:27, 44.58it/s]"
     ]
    },
    {
     "name": "stdout",
     "output_type": "stream",
     "text": [
      "Epoch 1280/2500, Loss: 0.0148\n",
      "Test Accuracy at Epoch 1280: 94.43%\n",
      "Test F1-score at Epoch 1280: 0.9450\n",
      "Classification Report at Epoch 1280:\n",
      "                  precision    recall  f1-score   support\n",
      "\n",
      "    infringement       0.92      0.97      0.94       147\n",
      "non_infringement       0.97      0.92      0.94       158\n",
      "\n",
      "        accuracy                           0.94       305\n",
      "       macro avg       0.94      0.95      0.94       305\n",
      "    weighted avg       0.95      0.94      0.94       305\n",
      "\n"
     ]
    },
    {
     "name": "stderr",
     "output_type": "stream",
     "text": [
      "Training Epochs:  52%|█████▏    | 1294/2500 [00:42<00:39, 30.82it/s]"
     ]
    },
    {
     "name": "stdout",
     "output_type": "stream",
     "text": [
      "Epoch 1290/2500, Loss: 0.0145\n",
      "Test Accuracy at Epoch 1290: 94.43%\n",
      "Test F1-score at Epoch 1290: 0.9450\n",
      "Classification Report at Epoch 1290:\n",
      "                  precision    recall  f1-score   support\n",
      "\n",
      "    infringement       0.92      0.97      0.94       147\n",
      "non_infringement       0.97      0.92      0.94       158\n",
      "\n",
      "        accuracy                           0.94       305\n",
      "       macro avg       0.94      0.95      0.94       305\n",
      "    weighted avg       0.95      0.94      0.94       305\n",
      "\n"
     ]
    },
    {
     "name": "stderr",
     "output_type": "stream",
     "text": [
      "Training Epochs:  52%|█████▏    | 1304/2500 [00:42<00:33, 36.19it/s]"
     ]
    },
    {
     "name": "stdout",
     "output_type": "stream",
     "text": [
      "Epoch 1300/2500, Loss: 0.0143\n",
      "Test Accuracy at Epoch 1300: 94.75%\n",
      "Test F1-score at Epoch 1300: 0.9484\n",
      "Classification Report at Epoch 1300:\n",
      "                  precision    recall  f1-score   support\n",
      "\n",
      "    infringement       0.93      0.97      0.95       147\n",
      "non_infringement       0.97      0.93      0.95       158\n",
      "\n",
      "        accuracy                           0.95       305\n",
      "       macro avg       0.95      0.95      0.95       305\n",
      "    weighted avg       0.95      0.95      0.95       305\n",
      "\n"
     ]
    },
    {
     "name": "stderr",
     "output_type": "stream",
     "text": [
      "Training Epochs:  53%|█████▎    | 1315/2500 [00:43<00:28, 41.39it/s]"
     ]
    },
    {
     "name": "stdout",
     "output_type": "stream",
     "text": [
      "Epoch 1310/2500, Loss: 0.0141\n",
      "Test Accuracy at Epoch 1310: 94.75%\n",
      "Test F1-score at Epoch 1310: 0.9484\n",
      "Classification Report at Epoch 1310:\n",
      "                  precision    recall  f1-score   support\n",
      "\n",
      "    infringement       0.93      0.97      0.95       147\n",
      "non_infringement       0.97      0.93      0.95       158\n",
      "\n",
      "        accuracy                           0.95       305\n",
      "       macro avg       0.95      0.95      0.95       305\n",
      "    weighted avg       0.95      0.95      0.95       305\n",
      "\n"
     ]
    },
    {
     "name": "stderr",
     "output_type": "stream",
     "text": [
      "Training Epochs:  53%|█████▎    | 1325/2500 [00:43<00:28, 41.58it/s]"
     ]
    },
    {
     "name": "stdout",
     "output_type": "stream",
     "text": [
      "Epoch 1320/2500, Loss: 0.0156\n",
      "Test Accuracy at Epoch 1320: 95.08%\n",
      "Test F1-score at Epoch 1320: 0.9524\n",
      "Classification Report at Epoch 1320:\n",
      "                  precision    recall  f1-score   support\n",
      "\n",
      "    infringement       0.95      0.95      0.95       147\n",
      "non_infringement       0.96      0.95      0.95       158\n",
      "\n",
      "        accuracy                           0.95       305\n",
      "       macro avg       0.95      0.95      0.95       305\n",
      "    weighted avg       0.95      0.95      0.95       305\n",
      "\n"
     ]
    },
    {
     "name": "stderr",
     "output_type": "stream",
     "text": [
      "Training Epochs:  53%|█████▎    | 1335/2500 [00:43<00:26, 43.15it/s]"
     ]
    },
    {
     "name": "stdout",
     "output_type": "stream",
     "text": [
      "Epoch 1330/2500, Loss: 0.0170\n",
      "Test Accuracy at Epoch 1330: 94.75%\n",
      "Test F1-score at Epoch 1330: 0.9484\n",
      "Classification Report at Epoch 1330:\n",
      "                  precision    recall  f1-score   support\n",
      "\n",
      "    infringement       0.93      0.97      0.95       147\n",
      "non_infringement       0.97      0.93      0.95       158\n",
      "\n",
      "        accuracy                           0.95       305\n",
      "       macro avg       0.95      0.95      0.95       305\n",
      "    weighted avg       0.95      0.95      0.95       305\n",
      "\n"
     ]
    },
    {
     "name": "stderr",
     "output_type": "stream",
     "text": [
      "Training Epochs:  54%|█████▍    | 1345/2500 [00:43<00:29, 38.98it/s]"
     ]
    },
    {
     "name": "stdout",
     "output_type": "stream",
     "text": [
      "Epoch 1340/2500, Loss: 0.0169\n",
      "Test Accuracy at Epoch 1340: 94.43%\n",
      "Test F1-score at Epoch 1340: 0.9450\n",
      "Classification Report at Epoch 1340:\n",
      "                  precision    recall  f1-score   support\n",
      "\n",
      "    infringement       0.92      0.97      0.94       147\n",
      "non_infringement       0.97      0.92      0.94       158\n",
      "\n",
      "        accuracy                           0.94       305\n",
      "       macro avg       0.94      0.95      0.94       305\n",
      "    weighted avg       0.95      0.94      0.94       305\n",
      "\n"
     ]
    },
    {
     "name": "stderr",
     "output_type": "stream",
     "text": [
      "Training Epochs:  54%|█████▍    | 1356/2500 [00:44<00:26, 43.26it/s]"
     ]
    },
    {
     "name": "stdout",
     "output_type": "stream",
     "text": [
      "Epoch 1350/2500, Loss: 0.0152\n",
      "Test Accuracy at Epoch 1350: 94.10%\n",
      "Test F1-score at Epoch 1350: 0.9416\n",
      "Classification Report at Epoch 1350:\n",
      "                  precision    recall  f1-score   support\n",
      "\n",
      "    infringement       0.92      0.97      0.94       147\n",
      "non_infringement       0.97      0.92      0.94       158\n",
      "\n",
      "        accuracy                           0.94       305\n",
      "       macro avg       0.94      0.94      0.94       305\n",
      "    weighted avg       0.94      0.94      0.94       305\n",
      "\n"
     ]
    },
    {
     "name": "stderr",
     "output_type": "stream",
     "text": [
      "Training Epochs:  55%|█████▍    | 1367/2500 [00:44<00:24, 46.03it/s]"
     ]
    },
    {
     "name": "stdout",
     "output_type": "stream",
     "text": [
      "Epoch 1360/2500, Loss: 0.0146\n",
      "Test Accuracy at Epoch 1360: 94.10%\n",
      "Test F1-score at Epoch 1360: 0.9416\n",
      "Classification Report at Epoch 1360:\n",
      "                  precision    recall  f1-score   support\n",
      "\n",
      "    infringement       0.92      0.97      0.94       147\n",
      "non_infringement       0.97      0.92      0.94       158\n",
      "\n",
      "        accuracy                           0.94       305\n",
      "       macro avg       0.94      0.94      0.94       305\n",
      "    weighted avg       0.94      0.94      0.94       305\n",
      "\n"
     ]
    },
    {
     "name": "stderr",
     "output_type": "stream",
     "text": [
      "Training Epochs:  55%|█████▌    | 1378/2500 [00:44<00:23, 47.20it/s]"
     ]
    },
    {
     "name": "stdout",
     "output_type": "stream",
     "text": [
      "Epoch 1370/2500, Loss: 0.0143\n",
      "Test Accuracy at Epoch 1370: 94.10%\n",
      "Test F1-score at Epoch 1370: 0.9416\n",
      "Classification Report at Epoch 1370:\n",
      "                  precision    recall  f1-score   support\n",
      "\n",
      "    infringement       0.92      0.97      0.94       147\n",
      "non_infringement       0.97      0.92      0.94       158\n",
      "\n",
      "        accuracy                           0.94       305\n",
      "       macro avg       0.94      0.94      0.94       305\n",
      "    weighted avg       0.94      0.94      0.94       305\n",
      "\n"
     ]
    },
    {
     "name": "stderr",
     "output_type": "stream",
     "text": [
      "Training Epochs:  55%|█████▌    | 1383/2500 [00:44<00:25, 44.26it/s]"
     ]
    },
    {
     "name": "stdout",
     "output_type": "stream",
     "text": [
      "Epoch 1380/2500, Loss: 0.0141\n",
      "Test Accuracy at Epoch 1380: 94.10%\n",
      "Test F1-score at Epoch 1380: 0.9416\n",
      "Classification Report at Epoch 1380:\n",
      "                  precision    recall  f1-score   support\n",
      "\n",
      "    infringement       0.92      0.97      0.94       147\n",
      "non_infringement       0.97      0.92      0.94       158\n",
      "\n",
      "        accuracy                           0.94       305\n",
      "       macro avg       0.94      0.94      0.94       305\n",
      "    weighted avg       0.94      0.94      0.94       305\n",
      "\n"
     ]
    },
    {
     "name": "stderr",
     "output_type": "stream",
     "text": [
      "Training Epochs:  56%|█████▌    | 1399/2500 [00:45<00:24, 45.14it/s]"
     ]
    },
    {
     "name": "stdout",
     "output_type": "stream",
     "text": [
      "Epoch 1390/2500, Loss: 0.0139\n",
      "Test Accuracy at Epoch 1390: 94.43%\n",
      "Test F1-score at Epoch 1390: 0.9450\n",
      "Classification Report at Epoch 1390:\n",
      "                  precision    recall  f1-score   support\n",
      "\n",
      "    infringement       0.92      0.97      0.94       147\n",
      "non_infringement       0.97      0.92      0.94       158\n",
      "\n",
      "        accuracy                           0.94       305\n",
      "       macro avg       0.94      0.95      0.94       305\n",
      "    weighted avg       0.95      0.94      0.94       305\n",
      "\n",
      "Epoch 1400/2500, Loss: 0.0137\n",
      "Test Accuracy at Epoch 1400: 94.43%\n",
      "Test F1-score at Epoch 1400: 0.9450\n",
      "Classification Report at Epoch 1400:\n",
      "                  precision    recall  f1-score   support\n",
      "\n",
      "    infringement       0.92      0.97      0.94       147\n",
      "non_infringement       0.97      0.92      0.94       158\n",
      "\n",
      "        accuracy                           0.94       305\n",
      "       macro avg       0.94      0.95      0.94       305\n",
      "    weighted avg       0.95      0.94      0.94       305\n",
      "\n"
     ]
    },
    {
     "name": "stderr",
     "output_type": "stream",
     "text": [
      "Training Epochs:  57%|█████▋    | 1416/2500 [00:45<00:26, 40.87it/s]"
     ]
    },
    {
     "name": "stdout",
     "output_type": "stream",
     "text": [
      "Epoch 1410/2500, Loss: 0.0135\n",
      "Test Accuracy at Epoch 1410: 94.43%\n",
      "Test F1-score at Epoch 1410: 0.9450\n",
      "Classification Report at Epoch 1410:\n",
      "                  precision    recall  f1-score   support\n",
      "\n",
      "    infringement       0.92      0.97      0.94       147\n",
      "non_infringement       0.97      0.92      0.94       158\n",
      "\n",
      "        accuracy                           0.94       305\n",
      "       macro avg       0.94      0.95      0.94       305\n",
      "    weighted avg       0.95      0.94      0.94       305\n",
      "\n"
     ]
    },
    {
     "name": "stderr",
     "output_type": "stream",
     "text": [
      "Training Epochs:  57%|█████▋    | 1421/2500 [00:45<00:33, 31.80it/s]"
     ]
    },
    {
     "name": "stdout",
     "output_type": "stream",
     "text": [
      "Epoch 1420/2500, Loss: 0.0134\n",
      "Test Accuracy at Epoch 1420: 94.43%\n",
      "Test F1-score at Epoch 1420: 0.9450\n",
      "Classification Report at Epoch 1420:\n",
      "                  precision    recall  f1-score   support\n",
      "\n",
      "    infringement       0.92      0.97      0.94       147\n",
      "non_infringement       0.97      0.92      0.94       158\n",
      "\n",
      "        accuracy                           0.94       305\n",
      "       macro avg       0.94      0.95      0.94       305\n",
      "    weighted avg       0.95      0.94      0.94       305\n",
      "\n"
     ]
    },
    {
     "name": "stderr",
     "output_type": "stream",
     "text": [
      "Training Epochs:  57%|█████▋    | 1434/2500 [00:46<00:34, 30.78it/s]"
     ]
    },
    {
     "name": "stdout",
     "output_type": "stream",
     "text": [
      "Epoch 1430/2500, Loss: 0.0133\n",
      "Test Accuracy at Epoch 1430: 94.43%\n",
      "Test F1-score at Epoch 1430: 0.9450\n",
      "Classification Report at Epoch 1430:\n",
      "                  precision    recall  f1-score   support\n",
      "\n",
      "    infringement       0.92      0.97      0.94       147\n",
      "non_infringement       0.97      0.92      0.94       158\n",
      "\n",
      "        accuracy                           0.94       305\n",
      "       macro avg       0.94      0.95      0.94       305\n",
      "    weighted avg       0.95      0.94      0.94       305\n",
      "\n"
     ]
    },
    {
     "name": "stderr",
     "output_type": "stream",
     "text": [
      "Training Epochs:  58%|█████▊    | 1448/2500 [00:46<00:31, 33.18it/s]"
     ]
    },
    {
     "name": "stdout",
     "output_type": "stream",
     "text": [
      "Epoch 1440/2500, Loss: 0.0131\n",
      "Test Accuracy at Epoch 1440: 94.75%\n",
      "Test F1-score at Epoch 1440: 0.9484\n",
      "Classification Report at Epoch 1440:\n",
      "                  precision    recall  f1-score   support\n",
      "\n",
      "    infringement       0.93      0.97      0.95       147\n",
      "non_infringement       0.97      0.93      0.95       158\n",
      "\n",
      "        accuracy                           0.95       305\n",
      "       macro avg       0.95      0.95      0.95       305\n",
      "    weighted avg       0.95      0.95      0.95       305\n",
      "\n"
     ]
    },
    {
     "name": "stderr",
     "output_type": "stream",
     "text": [
      "Training Epochs:  58%|█████▊    | 1458/2500 [00:46<00:27, 38.22it/s]"
     ]
    },
    {
     "name": "stdout",
     "output_type": "stream",
     "text": [
      "Epoch 1450/2500, Loss: 0.0130\n",
      "Test Accuracy at Epoch 1450: 94.75%\n",
      "Test F1-score at Epoch 1450: 0.9484\n",
      "Classification Report at Epoch 1450:\n",
      "                  precision    recall  f1-score   support\n",
      "\n",
      "    infringement       0.93      0.97      0.95       147\n",
      "non_infringement       0.97      0.93      0.95       158\n",
      "\n",
      "        accuracy                           0.95       305\n",
      "       macro avg       0.95      0.95      0.95       305\n",
      "    weighted avg       0.95      0.95      0.95       305\n",
      "\n"
     ]
    },
    {
     "name": "stderr",
     "output_type": "stream",
     "text": [
      "Training Epochs:  59%|█████▊    | 1468/2500 [00:47<00:25, 40.49it/s]"
     ]
    },
    {
     "name": "stdout",
     "output_type": "stream",
     "text": [
      "Epoch 1460/2500, Loss: 0.0129\n",
      "Test Accuracy at Epoch 1460: 94.75%\n",
      "Test F1-score at Epoch 1460: 0.9484\n",
      "Classification Report at Epoch 1460:\n",
      "                  precision    recall  f1-score   support\n",
      "\n",
      "    infringement       0.93      0.97      0.95       147\n",
      "non_infringement       0.97      0.93      0.95       158\n",
      "\n",
      "        accuracy                           0.95       305\n",
      "       macro avg       0.95      0.95      0.95       305\n",
      "    weighted avg       0.95      0.95      0.95       305\n",
      "\n",
      "Epoch 1470/2500, Loss: 0.0128\n",
      "Test Accuracy at Epoch 1470: 94.75%\n",
      "Test F1-score at Epoch 1470: 0.9484\n",
      "Classification Report at Epoch 1470:\n",
      "                  precision    recall  f1-score   support\n",
      "\n",
      "    infringement       0.93      0.97      0.95       147\n",
      "non_infringement       0.97      0.93      0.95       158\n",
      "\n",
      "        accuracy                           0.95       305\n",
      "       macro avg       0.95      0.95      0.95       305\n",
      "    weighted avg       0.95      0.95      0.95       305\n",
      "\n"
     ]
    },
    {
     "name": "stderr",
     "output_type": "stream",
     "text": [
      "Training Epochs:  60%|█████▉    | 1488/2500 [00:47<00:27, 36.30it/s]"
     ]
    },
    {
     "name": "stdout",
     "output_type": "stream",
     "text": [
      "Epoch 1480/2500, Loss: 0.0127\n",
      "Test Accuracy at Epoch 1480: 94.75%\n",
      "Test F1-score at Epoch 1480: 0.9484\n",
      "Classification Report at Epoch 1480:\n",
      "                  precision    recall  f1-score   support\n",
      "\n",
      "    infringement       0.93      0.97      0.95       147\n",
      "non_infringement       0.97      0.93      0.95       158\n",
      "\n",
      "        accuracy                           0.95       305\n",
      "       macro avg       0.95      0.95      0.95       305\n",
      "    weighted avg       0.95      0.95      0.95       305\n",
      "\n"
     ]
    },
    {
     "name": "stderr",
     "output_type": "stream",
     "text": [
      "Training Epochs:  60%|█████▉    | 1499/2500 [00:48<00:24, 41.57it/s]"
     ]
    },
    {
     "name": "stdout",
     "output_type": "stream",
     "text": [
      "Epoch 1490/2500, Loss: 0.0126\n",
      "Test Accuracy at Epoch 1490: 94.75%\n",
      "Test F1-score at Epoch 1490: 0.9484\n",
      "Classification Report at Epoch 1490:\n",
      "                  precision    recall  f1-score   support\n",
      "\n",
      "    infringement       0.93      0.97      0.95       147\n",
      "non_infringement       0.97      0.93      0.95       158\n",
      "\n",
      "        accuracy                           0.95       305\n",
      "       macro avg       0.95      0.95      0.95       305\n",
      "    weighted avg       0.95      0.95      0.95       305\n",
      "\n"
     ]
    },
    {
     "name": "stderr",
     "output_type": "stream",
     "text": [
      "Training Epochs:  60%|██████    | 1509/2500 [00:48<00:22, 44.16it/s]"
     ]
    },
    {
     "name": "stdout",
     "output_type": "stream",
     "text": [
      "Epoch 1500/2500, Loss: 0.0126\n",
      "Test Accuracy at Epoch 1500: 94.75%\n",
      "Test F1-score at Epoch 1500: 0.9484\n",
      "Classification Report at Epoch 1500:\n",
      "                  precision    recall  f1-score   support\n",
      "\n",
      "    infringement       0.93      0.97      0.95       147\n",
      "non_infringement       0.97      0.93      0.95       158\n",
      "\n",
      "        accuracy                           0.95       305\n",
      "       macro avg       0.95      0.95      0.95       305\n",
      "    weighted avg       0.95      0.95      0.95       305\n",
      "\n"
     ]
    },
    {
     "name": "stderr",
     "output_type": "stream",
     "text": [
      "Training Epochs:  61%|██████    | 1519/2500 [00:48<00:21, 45.33it/s]"
     ]
    },
    {
     "name": "stdout",
     "output_type": "stream",
     "text": [
      "Epoch 1510/2500, Loss: 0.0125\n",
      "Test Accuracy at Epoch 1510: 94.75%\n",
      "Test F1-score at Epoch 1510: 0.9484\n",
      "Classification Report at Epoch 1510:\n",
      "                  precision    recall  f1-score   support\n",
      "\n",
      "    infringement       0.93      0.97      0.95       147\n",
      "non_infringement       0.97      0.93      0.95       158\n",
      "\n",
      "        accuracy                           0.95       305\n",
      "       macro avg       0.95      0.95      0.95       305\n",
      "    weighted avg       0.95      0.95      0.95       305\n",
      "\n"
     ]
    },
    {
     "name": "stderr",
     "output_type": "stream",
     "text": [
      "Training Epochs:  61%|██████    | 1529/2500 [00:48<00:21, 46.13it/s]"
     ]
    },
    {
     "name": "stdout",
     "output_type": "stream",
     "text": [
      "Epoch 1520/2500, Loss: 0.0124\n",
      "Test Accuracy at Epoch 1520: 94.75%\n",
      "Test F1-score at Epoch 1520: 0.9484\n",
      "Classification Report at Epoch 1520:\n",
      "                  precision    recall  f1-score   support\n",
      "\n",
      "    infringement       0.93      0.97      0.95       147\n",
      "non_infringement       0.97      0.93      0.95       158\n",
      "\n",
      "        accuracy                           0.95       305\n",
      "       macro avg       0.95      0.95      0.95       305\n",
      "    weighted avg       0.95      0.95      0.95       305\n",
      "\n",
      "Epoch 1530/2500, Loss: 0.0124\n",
      "Test Accuracy at Epoch 1530: 94.75%\n",
      "Test F1-score at Epoch 1530: 0.9484\n",
      "Classification Report at Epoch 1530:\n",
      "                  precision    recall  f1-score   support\n",
      "\n",
      "    infringement       0.93      0.97      0.95       147\n",
      "non_infringement       0.97      0.93      0.95       158\n",
      "\n",
      "        accuracy                           0.95       305\n",
      "       macro avg       0.95      0.95      0.95       305\n",
      "    weighted avg       0.95      0.95      0.95       305\n",
      "\n"
     ]
    },
    {
     "name": "stderr",
     "output_type": "stream",
     "text": [
      "Training Epochs:  62%|██████▏   | 1541/2500 [00:49<01:00, 15.72it/s]"
     ]
    },
    {
     "name": "stdout",
     "output_type": "stream",
     "text": [
      "Epoch 1540/2500, Loss: 0.0123\n",
      "Test Accuracy at Epoch 1540: 94.75%\n",
      "Test F1-score at Epoch 1540: 0.9484\n",
      "Classification Report at Epoch 1540:\n",
      "                  precision    recall  f1-score   support\n",
      "\n",
      "    infringement       0.93      0.97      0.95       147\n",
      "non_infringement       0.97      0.93      0.95       158\n",
      "\n",
      "        accuracy                           0.95       305\n",
      "       macro avg       0.95      0.95      0.95       305\n",
      "    weighted avg       0.95      0.95      0.95       305\n",
      "\n"
     ]
    },
    {
     "name": "stderr",
     "output_type": "stream",
     "text": [
      "Training Epochs:  62%|██████▏   | 1556/2500 [00:50<00:37, 25.17it/s]"
     ]
    },
    {
     "name": "stdout",
     "output_type": "stream",
     "text": [
      "Epoch 1550/2500, Loss: 0.0122\n",
      "Test Accuracy at Epoch 1550: 94.75%\n",
      "Test F1-score at Epoch 1550: 0.9484\n",
      "Classification Report at Epoch 1550:\n",
      "                  precision    recall  f1-score   support\n",
      "\n",
      "    infringement       0.93      0.97      0.95       147\n",
      "non_infringement       0.97      0.93      0.95       158\n",
      "\n",
      "        accuracy                           0.95       305\n",
      "       macro avg       0.95      0.95      0.95       305\n",
      "    weighted avg       0.95      0.95      0.95       305\n",
      "\n"
     ]
    },
    {
     "name": "stderr",
     "output_type": "stream",
     "text": [
      "Training Epochs:  63%|██████▎   | 1566/2500 [00:50<00:28, 33.02it/s]"
     ]
    },
    {
     "name": "stdout",
     "output_type": "stream",
     "text": [
      "Epoch 1560/2500, Loss: 0.0122\n",
      "Test Accuracy at Epoch 1560: 94.75%\n",
      "Test F1-score at Epoch 1560: 0.9484\n",
      "Classification Report at Epoch 1560:\n",
      "                  precision    recall  f1-score   support\n",
      "\n",
      "    infringement       0.93      0.97      0.95       147\n",
      "non_infringement       0.97      0.93      0.95       158\n",
      "\n",
      "        accuracy                           0.95       305\n",
      "       macro avg       0.95      0.95      0.95       305\n",
      "    weighted avg       0.95      0.95      0.95       305\n",
      "\n"
     ]
    },
    {
     "name": "stderr",
     "output_type": "stream",
     "text": [
      "Training Epochs:  63%|██████▎   | 1576/2500 [00:50<00:23, 38.76it/s]"
     ]
    },
    {
     "name": "stdout",
     "output_type": "stream",
     "text": [
      "Epoch 1570/2500, Loss: 0.0121\n",
      "Test Accuracy at Epoch 1570: 94.75%\n",
      "Test F1-score at Epoch 1570: 0.9484\n",
      "Classification Report at Epoch 1570:\n",
      "                  precision    recall  f1-score   support\n",
      "\n",
      "    infringement       0.93      0.97      0.95       147\n",
      "non_infringement       0.97      0.93      0.95       158\n",
      "\n",
      "        accuracy                           0.95       305\n",
      "       macro avg       0.95      0.95      0.95       305\n",
      "    weighted avg       0.95      0.95      0.95       305\n",
      "\n"
     ]
    },
    {
     "name": "stderr",
     "output_type": "stream",
     "text": [
      "Training Epochs:  63%|██████▎   | 1581/2500 [00:51<00:25, 36.27it/s]"
     ]
    },
    {
     "name": "stdout",
     "output_type": "stream",
     "text": [
      "Epoch 1580/2500, Loss: 0.0121\n",
      "Test Accuracy at Epoch 1580: 94.75%\n",
      "Test F1-score at Epoch 1580: 0.9484\n",
      "Classification Report at Epoch 1580:\n",
      "                  precision    recall  f1-score   support\n",
      "\n",
      "    infringement       0.93      0.97      0.95       147\n",
      "non_infringement       0.97      0.93      0.95       158\n",
      "\n",
      "        accuracy                           0.95       305\n",
      "       macro avg       0.95      0.95      0.95       305\n",
      "    weighted avg       0.95      0.95      0.95       305\n",
      "\n"
     ]
    },
    {
     "name": "stderr",
     "output_type": "stream",
     "text": [
      "Training Epochs:  64%|██████▍   | 1594/2500 [00:51<00:31, 28.65it/s]"
     ]
    },
    {
     "name": "stdout",
     "output_type": "stream",
     "text": [
      "Epoch 1590/2500, Loss: 0.0120\n",
      "Test Accuracy at Epoch 1590: 91.48%\n",
      "Test F1-score at Epoch 1590: 0.9187\n",
      "Classification Report at Epoch 1590:\n",
      "                  precision    recall  f1-score   support\n",
      "\n",
      "    infringement       0.92      0.90      0.91       147\n",
      "non_infringement       0.91      0.93      0.92       158\n",
      "\n",
      "        accuracy                           0.91       305\n",
      "       macro avg       0.92      0.91      0.91       305\n",
      "    weighted avg       0.91      0.91      0.91       305\n",
      "\n"
     ]
    },
    {
     "name": "stderr",
     "output_type": "stream",
     "text": [
      "Training Epochs:  64%|██████▍   | 1608/2500 [00:51<00:23, 37.54it/s]"
     ]
    },
    {
     "name": "stdout",
     "output_type": "stream",
     "text": [
      "Epoch 1600/2500, Loss: 0.0120\n",
      "Test Accuracy at Epoch 1600: 91.48%\n",
      "Test F1-score at Epoch 1600: 0.9187\n",
      "Classification Report at Epoch 1600:\n",
      "                  precision    recall  f1-score   support\n",
      "\n",
      "    infringement       0.92      0.90      0.91       147\n",
      "non_infringement       0.91      0.93      0.92       158\n",
      "\n",
      "        accuracy                           0.91       305\n",
      "       macro avg       0.92      0.91      0.91       305\n",
      "    weighted avg       0.91      0.91      0.91       305\n",
      "\n"
     ]
    },
    {
     "name": "stderr",
     "output_type": "stream",
     "text": [
      "Training Epochs:  65%|██████▍   | 1618/2500 [00:52<00:21, 41.11it/s]"
     ]
    },
    {
     "name": "stdout",
     "output_type": "stream",
     "text": [
      "Epoch 1610/2500, Loss: 0.0120\n",
      "Test Accuracy at Epoch 1610: 91.48%\n",
      "Test F1-score at Epoch 1610: 0.9187\n",
      "Classification Report at Epoch 1610:\n",
      "                  precision    recall  f1-score   support\n",
      "\n",
      "    infringement       0.92      0.90      0.91       147\n",
      "non_infringement       0.91      0.93      0.92       158\n",
      "\n",
      "        accuracy                           0.91       305\n",
      "       macro avg       0.92      0.91      0.91       305\n",
      "    weighted avg       0.91      0.91      0.91       305\n",
      "\n"
     ]
    },
    {
     "name": "stderr",
     "output_type": "stream",
     "text": [
      "Training Epochs:  65%|██████▌   | 1628/2500 [00:52<00:20, 43.47it/s]"
     ]
    },
    {
     "name": "stdout",
     "output_type": "stream",
     "text": [
      "Epoch 1620/2500, Loss: 0.0119\n",
      "Test Accuracy at Epoch 1620: 91.48%\n",
      "Test F1-score at Epoch 1620: 0.9187\n",
      "Classification Report at Epoch 1620:\n",
      "                  precision    recall  f1-score   support\n",
      "\n",
      "    infringement       0.92      0.90      0.91       147\n",
      "non_infringement       0.91      0.93      0.92       158\n",
      "\n",
      "        accuracy                           0.91       305\n",
      "       macro avg       0.92      0.91      0.91       305\n",
      "    weighted avg       0.91      0.91      0.91       305\n",
      "\n"
     ]
    },
    {
     "name": "stderr",
     "output_type": "stream",
     "text": [
      "Training Epochs:  66%|██████▌   | 1638/2500 [00:52<00:19, 43.86it/s]"
     ]
    },
    {
     "name": "stdout",
     "output_type": "stream",
     "text": [
      "Epoch 1630/2500, Loss: 0.0119\n",
      "Test Accuracy at Epoch 1630: 91.15%\n",
      "Test F1-score at Epoch 1630: 0.9159\n",
      "Classification Report at Epoch 1630:\n",
      "                  precision    recall  f1-score   support\n",
      "\n",
      "    infringement       0.92      0.89      0.91       147\n",
      "non_infringement       0.90      0.93      0.92       158\n",
      "\n",
      "        accuracy                           0.91       305\n",
      "       macro avg       0.91      0.91      0.91       305\n",
      "    weighted avg       0.91      0.91      0.91       305\n",
      "\n"
     ]
    },
    {
     "name": "stderr",
     "output_type": "stream",
     "text": [
      "Training Epochs:  66%|██████▌   | 1648/2500 [00:52<00:19, 44.54it/s]"
     ]
    },
    {
     "name": "stdout",
     "output_type": "stream",
     "text": [
      "Epoch 1640/2500, Loss: 0.0119\n",
      "Test Accuracy at Epoch 1640: 91.15%\n",
      "Test F1-score at Epoch 1640: 0.9159\n",
      "Classification Report at Epoch 1640:\n",
      "                  precision    recall  f1-score   support\n",
      "\n",
      "    infringement       0.92      0.89      0.91       147\n",
      "non_infringement       0.90      0.93      0.92       158\n",
      "\n",
      "        accuracy                           0.91       305\n",
      "       macro avg       0.91      0.91      0.91       305\n",
      "    weighted avg       0.91      0.91      0.91       305\n",
      "\n"
     ]
    },
    {
     "name": "stderr",
     "output_type": "stream",
     "text": [
      "Training Epochs:  66%|██████▋   | 1659/2500 [00:53<00:18, 45.93it/s]"
     ]
    },
    {
     "name": "stdout",
     "output_type": "stream",
     "text": [
      "Epoch 1650/2500, Loss: 0.0118\n",
      "Test Accuracy at Epoch 1650: 91.15%\n",
      "Test F1-score at Epoch 1650: 0.9159\n",
      "Classification Report at Epoch 1650:\n",
      "                  precision    recall  f1-score   support\n",
      "\n",
      "    infringement       0.92      0.89      0.91       147\n",
      "non_infringement       0.90      0.93      0.92       158\n",
      "\n",
      "        accuracy                           0.91       305\n",
      "       macro avg       0.91      0.91      0.91       305\n",
      "    weighted avg       0.91      0.91      0.91       305\n",
      "\n"
     ]
    },
    {
     "name": "stderr",
     "output_type": "stream",
     "text": [
      "Training Epochs:  67%|██████▋   | 1664/2500 [00:53<00:18, 44.44it/s]"
     ]
    },
    {
     "name": "stdout",
     "output_type": "stream",
     "text": [
      "Epoch 1660/2500, Loss: 0.0118\n",
      "Test Accuracy at Epoch 1660: 91.15%\n",
      "Test F1-score at Epoch 1660: 0.9159\n",
      "Classification Report at Epoch 1660:\n",
      "                  precision    recall  f1-score   support\n",
      "\n",
      "    infringement       0.92      0.89      0.91       147\n",
      "non_infringement       0.90      0.93      0.92       158\n",
      "\n",
      "        accuracy                           0.91       305\n",
      "       macro avg       0.91      0.91      0.91       305\n",
      "    weighted avg       0.91      0.91      0.91       305\n",
      "\n"
     ]
    },
    {
     "name": "stderr",
     "output_type": "stream",
     "text": [
      "Training Epochs:  67%|██████▋   | 1674/2500 [00:53<00:18, 44.11it/s]"
     ]
    },
    {
     "name": "stdout",
     "output_type": "stream",
     "text": [
      "Epoch 1670/2500, Loss: 0.0118\n",
      "Test Accuracy at Epoch 1670: 91.15%\n",
      "Test F1-score at Epoch 1670: 0.9159\n",
      "Classification Report at Epoch 1670:\n",
      "                  precision    recall  f1-score   support\n",
      "\n",
      "    infringement       0.92      0.89      0.91       147\n",
      "non_infringement       0.90      0.93      0.92       158\n",
      "\n",
      "        accuracy                           0.91       305\n",
      "       macro avg       0.91      0.91      0.91       305\n",
      "    weighted avg       0.91      0.91      0.91       305\n",
      "\n"
     ]
    },
    {
     "name": "stderr",
     "output_type": "stream",
     "text": [
      "Training Epochs:  67%|██████▋   | 1685/2500 [00:53<00:19, 41.17it/s]"
     ]
    },
    {
     "name": "stdout",
     "output_type": "stream",
     "text": [
      "Epoch 1680/2500, Loss: 0.0117\n",
      "Test Accuracy at Epoch 1680: 91.15%\n",
      "Test F1-score at Epoch 1680: 0.9159\n",
      "Classification Report at Epoch 1680:\n",
      "                  precision    recall  f1-score   support\n",
      "\n",
      "    infringement       0.92      0.89      0.91       147\n",
      "non_infringement       0.90      0.93      0.92       158\n",
      "\n",
      "        accuracy                           0.91       305\n",
      "       macro avg       0.91      0.91      0.91       305\n",
      "    weighted avg       0.91      0.91      0.91       305\n",
      "\n"
     ]
    },
    {
     "name": "stderr",
     "output_type": "stream",
     "text": [
      "Training Epochs:  68%|██████▊   | 1694/2500 [00:53<00:21, 37.25it/s]"
     ]
    },
    {
     "name": "stdout",
     "output_type": "stream",
     "text": [
      "Epoch 1690/2500, Loss: 0.0117\n",
      "Test Accuracy at Epoch 1690: 91.15%\n",
      "Test F1-score at Epoch 1690: 0.9159\n",
      "Classification Report at Epoch 1690:\n",
      "                  precision    recall  f1-score   support\n",
      "\n",
      "    infringement       0.92      0.89      0.91       147\n",
      "non_infringement       0.90      0.93      0.92       158\n",
      "\n",
      "        accuracy                           0.91       305\n",
      "       macro avg       0.91      0.91      0.91       305\n",
      "    weighted avg       0.91      0.91      0.91       305\n",
      "\n"
     ]
    },
    {
     "name": "stderr",
     "output_type": "stream",
     "text": [
      "Training Epochs:  68%|██████▊   | 1704/2500 [00:54<00:19, 40.90it/s]"
     ]
    },
    {
     "name": "stdout",
     "output_type": "stream",
     "text": [
      "Epoch 1700/2500, Loss: 0.0117\n",
      "Test Accuracy at Epoch 1700: 91.15%\n",
      "Test F1-score at Epoch 1700: 0.9159\n",
      "Classification Report at Epoch 1700:\n",
      "                  precision    recall  f1-score   support\n",
      "\n",
      "    infringement       0.92      0.89      0.91       147\n",
      "non_infringement       0.90      0.93      0.92       158\n",
      "\n",
      "        accuracy                           0.91       305\n",
      "       macro avg       0.91      0.91      0.91       305\n",
      "    weighted avg       0.91      0.91      0.91       305\n",
      "\n"
     ]
    },
    {
     "name": "stderr",
     "output_type": "stream",
     "text": [
      "Training Epochs:  69%|██████▊   | 1714/2500 [00:54<00:19, 39.86it/s]"
     ]
    },
    {
     "name": "stdout",
     "output_type": "stream",
     "text": [
      "Epoch 1710/2500, Loss: 0.0117\n",
      "Test Accuracy at Epoch 1710: 91.15%\n",
      "Test F1-score at Epoch 1710: 0.9159\n",
      "Classification Report at Epoch 1710:\n",
      "                  precision    recall  f1-score   support\n",
      "\n",
      "    infringement       0.92      0.89      0.91       147\n",
      "non_infringement       0.90      0.93      0.92       158\n",
      "\n",
      "        accuracy                           0.91       305\n",
      "       macro avg       0.91      0.91      0.91       305\n",
      "    weighted avg       0.91      0.91      0.91       305\n",
      "\n"
     ]
    },
    {
     "name": "stderr",
     "output_type": "stream",
     "text": [
      "Training Epochs:  69%|██████▉   | 1724/2500 [00:54<00:19, 39.66it/s]"
     ]
    },
    {
     "name": "stdout",
     "output_type": "stream",
     "text": [
      "Epoch 1720/2500, Loss: 0.0117\n",
      "Test Accuracy at Epoch 1720: 91.15%\n",
      "Test F1-score at Epoch 1720: 0.9159\n",
      "Classification Report at Epoch 1720:\n",
      "                  precision    recall  f1-score   support\n",
      "\n",
      "    infringement       0.92      0.89      0.91       147\n",
      "non_infringement       0.90      0.93      0.92       158\n",
      "\n",
      "        accuracy                           0.91       305\n",
      "       macro avg       0.91      0.91      0.91       305\n",
      "    weighted avg       0.91      0.91      0.91       305\n",
      "\n"
     ]
    },
    {
     "name": "stderr",
     "output_type": "stream",
     "text": [
      "Training Epochs:  69%|██████▉   | 1734/2500 [00:54<00:21, 35.67it/s]"
     ]
    },
    {
     "name": "stdout",
     "output_type": "stream",
     "text": [
      "Epoch 1730/2500, Loss: 0.0122\n",
      "Test Accuracy at Epoch 1730: 91.15%\n",
      "Test F1-score at Epoch 1730: 0.9159\n",
      "Classification Report at Epoch 1730:\n",
      "                  precision    recall  f1-score   support\n",
      "\n",
      "    infringement       0.92      0.89      0.91       147\n",
      "non_infringement       0.90      0.93      0.92       158\n",
      "\n",
      "        accuracy                           0.91       305\n",
      "       macro avg       0.91      0.91      0.91       305\n",
      "    weighted avg       0.91      0.91      0.91       305\n",
      "\n"
     ]
    },
    {
     "name": "stderr",
     "output_type": "stream",
     "text": [
      "Training Epochs:  70%|██████▉   | 1748/2500 [00:55<00:18, 40.69it/s]"
     ]
    },
    {
     "name": "stdout",
     "output_type": "stream",
     "text": [
      "Epoch 1740/2500, Loss: 0.0117\n",
      "Test Accuracy at Epoch 1740: 91.15%\n",
      "Test F1-score at Epoch 1740: 0.9159\n",
      "Classification Report at Epoch 1740:\n",
      "                  precision    recall  f1-score   support\n",
      "\n",
      "    infringement       0.92      0.89      0.91       147\n",
      "non_infringement       0.90      0.93      0.92       158\n",
      "\n",
      "        accuracy                           0.91       305\n",
      "       macro avg       0.91      0.91      0.91       305\n",
      "    weighted avg       0.91      0.91      0.91       305\n",
      "\n"
     ]
    },
    {
     "name": "stderr",
     "output_type": "stream",
     "text": [
      "Training Epochs:  70%|███████   | 1758/2500 [00:55<00:17, 42.50it/s]"
     ]
    },
    {
     "name": "stdout",
     "output_type": "stream",
     "text": [
      "Epoch 1750/2500, Loss: 0.0116\n",
      "Test Accuracy at Epoch 1750: 91.15%\n",
      "Test F1-score at Epoch 1750: 0.9159\n",
      "Classification Report at Epoch 1750:\n",
      "                  precision    recall  f1-score   support\n",
      "\n",
      "    infringement       0.92      0.89      0.91       147\n",
      "non_infringement       0.90      0.93      0.92       158\n",
      "\n",
      "        accuracy                           0.91       305\n",
      "       macro avg       0.91      0.91      0.91       305\n",
      "    weighted avg       0.91      0.91      0.91       305\n",
      "\n"
     ]
    },
    {
     "name": "stderr",
     "output_type": "stream",
     "text": [
      "Training Epochs:  71%|███████   | 1763/2500 [00:55<00:18, 40.73it/s]"
     ]
    },
    {
     "name": "stdout",
     "output_type": "stream",
     "text": [
      "Epoch 1760/2500, Loss: 0.0116\n",
      "Test Accuracy at Epoch 1760: 91.15%\n",
      "Test F1-score at Epoch 1760: 0.9159\n",
      "Classification Report at Epoch 1760:\n",
      "                  precision    recall  f1-score   support\n",
      "\n",
      "    infringement       0.92      0.89      0.91       147\n",
      "non_infringement       0.90      0.93      0.92       158\n",
      "\n",
      "        accuracy                           0.91       305\n",
      "       macro avg       0.91      0.91      0.91       305\n",
      "    weighted avg       0.91      0.91      0.91       305\n",
      "\n"
     ]
    },
    {
     "name": "stderr",
     "output_type": "stream",
     "text": [
      "Training Epochs:  71%|███████   | 1774/2500 [00:55<00:16, 43.69it/s]"
     ]
    },
    {
     "name": "stdout",
     "output_type": "stream",
     "text": [
      "Epoch 1770/2500, Loss: 0.0117\n",
      "Test Accuracy at Epoch 1770: 91.15%\n",
      "Test F1-score at Epoch 1770: 0.9159\n",
      "Classification Report at Epoch 1770:\n",
      "                  precision    recall  f1-score   support\n",
      "\n",
      "    infringement       0.92      0.89      0.91       147\n",
      "non_infringement       0.90      0.93      0.92       158\n",
      "\n",
      "        accuracy                           0.91       305\n",
      "       macro avg       0.91      0.91      0.91       305\n",
      "    weighted avg       0.91      0.91      0.91       305\n",
      "\n"
     ]
    },
    {
     "name": "stderr",
     "output_type": "stream",
     "text": [
      "Training Epochs:  71%|███████   | 1779/2500 [00:56<00:18, 38.98it/s]"
     ]
    },
    {
     "name": "stdout",
     "output_type": "stream",
     "text": [
      "Epoch 1780/2500, Loss: 0.0116\n",
      "Test Accuracy at Epoch 1780: 91.15%\n",
      "Test F1-score at Epoch 1780: 0.9159\n",
      "Classification Report at Epoch 1780:\n",
      "                  precision    recall  f1-score   support\n",
      "\n",
      "    infringement       0.92      0.89      0.91       147\n",
      "non_infringement       0.90      0.93      0.92       158\n",
      "\n",
      "        accuracy                           0.91       305\n",
      "       macro avg       0.91      0.91      0.91       305\n",
      "    weighted avg       0.91      0.91      0.91       305\n",
      "\n"
     ]
    },
    {
     "name": "stderr",
     "output_type": "stream",
     "text": [
      "Training Epochs:  72%|███████▏  | 1793/2500 [00:56<00:27, 25.75it/s]"
     ]
    },
    {
     "name": "stdout",
     "output_type": "stream",
     "text": [
      "Epoch 1790/2500, Loss: 0.0116\n",
      "Test Accuracy at Epoch 1790: 91.15%\n",
      "Test F1-score at Epoch 1790: 0.9159\n",
      "Classification Report at Epoch 1790:\n",
      "                  precision    recall  f1-score   support\n",
      "\n",
      "    infringement       0.92      0.89      0.91       147\n",
      "non_infringement       0.90      0.93      0.92       158\n",
      "\n",
      "        accuracy                           0.91       305\n",
      "       macro avg       0.91      0.91      0.91       305\n",
      "    weighted avg       0.91      0.91      0.91       305\n",
      "\n"
     ]
    },
    {
     "name": "stderr",
     "output_type": "stream",
     "text": [
      "Training Epochs:  72%|███████▏  | 1805/2500 [00:57<00:23, 29.00it/s]"
     ]
    },
    {
     "name": "stdout",
     "output_type": "stream",
     "text": [
      "Epoch 1800/2500, Loss: 0.0116\n",
      "Test Accuracy at Epoch 1800: 91.15%\n",
      "Test F1-score at Epoch 1800: 0.9159\n",
      "Classification Report at Epoch 1800:\n",
      "                  precision    recall  f1-score   support\n",
      "\n",
      "    infringement       0.92      0.89      0.91       147\n",
      "non_infringement       0.90      0.93      0.92       158\n",
      "\n",
      "        accuracy                           0.91       305\n",
      "       macro avg       0.91      0.91      0.91       305\n",
      "    weighted avg       0.91      0.91      0.91       305\n",
      "\n"
     ]
    },
    {
     "name": "stderr",
     "output_type": "stream",
     "text": [
      "Training Epochs:  73%|███████▎  | 1816/2500 [00:57<00:18, 37.68it/s]"
     ]
    },
    {
     "name": "stdout",
     "output_type": "stream",
     "text": [
      "Epoch 1810/2500, Loss: 0.0115\n",
      "Test Accuracy at Epoch 1810: 91.15%\n",
      "Test F1-score at Epoch 1810: 0.9159\n",
      "Classification Report at Epoch 1810:\n",
      "                  precision    recall  f1-score   support\n",
      "\n",
      "    infringement       0.92      0.89      0.91       147\n",
      "non_infringement       0.90      0.93      0.92       158\n",
      "\n",
      "        accuracy                           0.91       305\n",
      "       macro avg       0.91      0.91      0.91       305\n",
      "    weighted avg       0.91      0.91      0.91       305\n",
      "\n"
     ]
    },
    {
     "name": "stderr",
     "output_type": "stream",
     "text": [
      "Training Epochs:  73%|███████▎  | 1827/2500 [00:57<00:15, 43.14it/s]"
     ]
    },
    {
     "name": "stdout",
     "output_type": "stream",
     "text": [
      "Epoch 1820/2500, Loss: 0.0116\n",
      "Test Accuracy at Epoch 1820: 91.15%\n",
      "Test F1-score at Epoch 1820: 0.9159\n",
      "Classification Report at Epoch 1820:\n",
      "                  precision    recall  f1-score   support\n",
      "\n",
      "    infringement       0.92      0.89      0.91       147\n",
      "non_infringement       0.90      0.93      0.92       158\n",
      "\n",
      "        accuracy                           0.91       305\n",
      "       macro avg       0.91      0.91      0.91       305\n",
      "    weighted avg       0.91      0.91      0.91       305\n",
      "\n"
     ]
    },
    {
     "name": "stderr",
     "output_type": "stream",
     "text": [
      "Training Epochs:  74%|███████▎  | 1838/2500 [00:57<00:14, 45.70it/s]"
     ]
    },
    {
     "name": "stdout",
     "output_type": "stream",
     "text": [
      "Epoch 1830/2500, Loss: 0.0116\n",
      "Test Accuracy at Epoch 1830: 91.15%\n",
      "Test F1-score at Epoch 1830: 0.9159\n",
      "Classification Report at Epoch 1830:\n",
      "                  precision    recall  f1-score   support\n",
      "\n",
      "    infringement       0.92      0.89      0.91       147\n",
      "non_infringement       0.90      0.93      0.92       158\n",
      "\n",
      "        accuracy                           0.91       305\n",
      "       macro avg       0.91      0.91      0.91       305\n",
      "    weighted avg       0.91      0.91      0.91       305\n",
      "\n"
     ]
    },
    {
     "name": "stderr",
     "output_type": "stream",
     "text": [
      "Training Epochs:  74%|███████▎  | 1843/2500 [00:58<00:15, 43.29it/s]"
     ]
    },
    {
     "name": "stdout",
     "output_type": "stream",
     "text": [
      "Epoch 1840/2500, Loss: 0.0115\n",
      "Test Accuracy at Epoch 1840: 91.15%\n",
      "Test F1-score at Epoch 1840: 0.9159\n",
      "Classification Report at Epoch 1840:\n",
      "                  precision    recall  f1-score   support\n",
      "\n",
      "    infringement       0.92      0.89      0.91       147\n",
      "non_infringement       0.90      0.93      0.92       158\n",
      "\n",
      "        accuracy                           0.91       305\n",
      "       macro avg       0.91      0.91      0.91       305\n",
      "    weighted avg       0.91      0.91      0.91       305\n",
      "\n"
     ]
    },
    {
     "name": "stderr",
     "output_type": "stream",
     "text": [
      "Training Epochs:  74%|███████▍  | 1854/2500 [00:58<00:15, 42.39it/s]"
     ]
    },
    {
     "name": "stdout",
     "output_type": "stream",
     "text": [
      "Epoch 1850/2500, Loss: 0.0117\n",
      "Test Accuracy at Epoch 1850: 91.15%\n",
      "Test F1-score at Epoch 1850: 0.9159\n",
      "Classification Report at Epoch 1850:\n",
      "                  precision    recall  f1-score   support\n",
      "\n",
      "    infringement       0.92      0.89      0.91       147\n",
      "non_infringement       0.90      0.93      0.92       158\n",
      "\n",
      "        accuracy                           0.91       305\n",
      "       macro avg       0.91      0.91      0.91       305\n",
      "    weighted avg       0.91      0.91      0.91       305\n",
      "\n"
     ]
    },
    {
     "name": "stderr",
     "output_type": "stream",
     "text": [
      "Training Epochs:  75%|███████▍  | 1865/2500 [00:58<00:14, 44.24it/s]"
     ]
    },
    {
     "name": "stdout",
     "output_type": "stream",
     "text": [
      "Epoch 1860/2500, Loss: 0.0115\n",
      "Test Accuracy at Epoch 1860: 91.15%\n",
      "Test F1-score at Epoch 1860: 0.9159\n",
      "Classification Report at Epoch 1860:\n",
      "                  precision    recall  f1-score   support\n",
      "\n",
      "    infringement       0.92      0.89      0.91       147\n",
      "non_infringement       0.90      0.93      0.92       158\n",
      "\n",
      "        accuracy                           0.91       305\n",
      "       macro avg       0.91      0.91      0.91       305\n",
      "    weighted avg       0.91      0.91      0.91       305\n",
      "\n"
     ]
    },
    {
     "name": "stderr",
     "output_type": "stream",
     "text": [
      "Training Epochs:  75%|███████▌  | 1875/2500 [00:58<00:15, 39.31it/s]"
     ]
    },
    {
     "name": "stdout",
     "output_type": "stream",
     "text": [
      "Epoch 1870/2500, Loss: 0.0117\n",
      "Test Accuracy at Epoch 1870: 91.15%\n",
      "Test F1-score at Epoch 1870: 0.9159\n",
      "Classification Report at Epoch 1870:\n",
      "                  precision    recall  f1-score   support\n",
      "\n",
      "    infringement       0.92      0.89      0.91       147\n",
      "non_infringement       0.90      0.93      0.92       158\n",
      "\n",
      "        accuracy                           0.91       305\n",
      "       macro avg       0.91      0.91      0.91       305\n",
      "    weighted avg       0.91      0.91      0.91       305\n",
      "\n"
     ]
    },
    {
     "name": "stderr",
     "output_type": "stream",
     "text": [
      "Training Epochs:  75%|███████▌  | 1886/2500 [00:59<00:14, 43.21it/s]"
     ]
    },
    {
     "name": "stdout",
     "output_type": "stream",
     "text": [
      "Epoch 1880/2500, Loss: 0.0115\n",
      "Test Accuracy at Epoch 1880: 91.15%\n",
      "Test F1-score at Epoch 1880: 0.9159\n",
      "Classification Report at Epoch 1880:\n",
      "                  precision    recall  f1-score   support\n",
      "\n",
      "    infringement       0.92      0.89      0.91       147\n",
      "non_infringement       0.90      0.93      0.92       158\n",
      "\n",
      "        accuracy                           0.91       305\n",
      "       macro avg       0.91      0.91      0.91       305\n",
      "    weighted avg       0.91      0.91      0.91       305\n",
      "\n",
      "Epoch 1890/2500, Loss: 0.0115\n"
     ]
    },
    {
     "name": "stderr",
     "output_type": "stream",
     "text": [
      "Training Epochs:  76%|███████▌  | 1891/2500 [00:59<00:13, 44.05it/s]"
     ]
    },
    {
     "name": "stdout",
     "output_type": "stream",
     "text": [
      "Test Accuracy at Epoch 1890: 91.15%\n",
      "Test F1-score at Epoch 1890: 0.9159\n",
      "Classification Report at Epoch 1890:\n",
      "                  precision    recall  f1-score   support\n",
      "\n",
      "    infringement       0.92      0.89      0.91       147\n",
      "non_infringement       0.90      0.93      0.92       158\n",
      "\n",
      "        accuracy                           0.91       305\n",
      "       macro avg       0.91      0.91      0.91       305\n",
      "    weighted avg       0.91      0.91      0.91       305\n",
      "\n"
     ]
    },
    {
     "name": "stderr",
     "output_type": "stream",
     "text": [
      "Training Epochs:  76%|███████▋  | 1907/2500 [00:59<00:13, 43.27it/s]"
     ]
    },
    {
     "name": "stdout",
     "output_type": "stream",
     "text": [
      "Epoch 1900/2500, Loss: 0.0115\n",
      "Test Accuracy at Epoch 1900: 91.15%\n",
      "Test F1-score at Epoch 1900: 0.9159\n",
      "Classification Report at Epoch 1900:\n",
      "                  precision    recall  f1-score   support\n",
      "\n",
      "    infringement       0.92      0.89      0.91       147\n",
      "non_infringement       0.90      0.93      0.92       158\n",
      "\n",
      "        accuracy                           0.91       305\n",
      "       macro avg       0.91      0.91      0.91       305\n",
      "    weighted avg       0.91      0.91      0.91       305\n",
      "\n"
     ]
    },
    {
     "name": "stderr",
     "output_type": "stream",
     "text": [
      "Training Epochs:  77%|███████▋  | 1917/2500 [00:59<00:13, 42.47it/s]"
     ]
    },
    {
     "name": "stdout",
     "output_type": "stream",
     "text": [
      "Epoch 1910/2500, Loss: 0.0114\n",
      "Test Accuracy at Epoch 1910: 91.15%\n",
      "Test F1-score at Epoch 1910: 0.9159\n",
      "Classification Report at Epoch 1910:\n",
      "                  precision    recall  f1-score   support\n",
      "\n",
      "    infringement       0.92      0.89      0.91       147\n",
      "non_infringement       0.90      0.93      0.92       158\n",
      "\n",
      "        accuracy                           0.91       305\n",
      "       macro avg       0.91      0.91      0.91       305\n",
      "    weighted avg       0.91      0.91      0.91       305\n",
      "\n"
     ]
    },
    {
     "name": "stderr",
     "output_type": "stream",
     "text": [
      "Training Epochs:  77%|███████▋  | 1928/2500 [01:00<00:13, 42.94it/s]"
     ]
    },
    {
     "name": "stdout",
     "output_type": "stream",
     "text": [
      "Epoch 1920/2500, Loss: 0.0117\n",
      "Test Accuracy at Epoch 1920: 91.15%\n",
      "Test F1-score at Epoch 1920: 0.9159\n",
      "Classification Report at Epoch 1920:\n",
      "                  precision    recall  f1-score   support\n",
      "\n",
      "    infringement       0.92      0.89      0.91       147\n",
      "non_infringement       0.90      0.93      0.92       158\n",
      "\n",
      "        accuracy                           0.91       305\n",
      "       macro avg       0.91      0.91      0.91       305\n",
      "    weighted avg       0.91      0.91      0.91       305\n",
      "\n"
     ]
    },
    {
     "name": "stderr",
     "output_type": "stream",
     "text": [
      "Training Epochs:  78%|███████▊  | 1938/2500 [01:00<00:13, 42.34it/s]"
     ]
    },
    {
     "name": "stdout",
     "output_type": "stream",
     "text": [
      "Epoch 1930/2500, Loss: 0.0114\n",
      "Test Accuracy at Epoch 1930: 91.15%\n",
      "Test F1-score at Epoch 1930: 0.9159\n",
      "Classification Report at Epoch 1930:\n",
      "                  precision    recall  f1-score   support\n",
      "\n",
      "    infringement       0.92      0.89      0.91       147\n",
      "non_infringement       0.90      0.93      0.92       158\n",
      "\n",
      "        accuracy                           0.91       305\n",
      "       macro avg       0.91      0.91      0.91       305\n",
      "    weighted avg       0.91      0.91      0.91       305\n",
      "\n"
     ]
    },
    {
     "name": "stderr",
     "output_type": "stream",
     "text": [
      "Training Epochs:  78%|███████▊  | 1943/2500 [01:00<00:15, 36.41it/s]"
     ]
    },
    {
     "name": "stdout",
     "output_type": "stream",
     "text": [
      "Epoch 1940/2500, Loss: 0.0116\n",
      "Test Accuracy at Epoch 1940: 91.15%\n",
      "Test F1-score at Epoch 1940: 0.9159\n",
      "Classification Report at Epoch 1940:\n",
      "                  precision    recall  f1-score   support\n",
      "\n",
      "    infringement       0.92      0.89      0.91       147\n",
      "non_infringement       0.90      0.93      0.92       158\n",
      "\n",
      "        accuracy                           0.91       305\n",
      "       macro avg       0.91      0.91      0.91       305\n",
      "    weighted avg       0.91      0.91      0.91       305\n",
      "\n"
     ]
    },
    {
     "name": "stderr",
     "output_type": "stream",
     "text": [
      "Training Epochs:  78%|███████▊  | 1957/2500 [01:00<00:12, 41.93it/s]"
     ]
    },
    {
     "name": "stdout",
     "output_type": "stream",
     "text": [
      "Epoch 1950/2500, Loss: 0.0114\n",
      "Test Accuracy at Epoch 1950: 91.15%\n",
      "Test F1-score at Epoch 1950: 0.9159\n",
      "Classification Report at Epoch 1950:\n",
      "                  precision    recall  f1-score   support\n",
      "\n",
      "    infringement       0.92      0.89      0.91       147\n",
      "non_infringement       0.90      0.93      0.92       158\n",
      "\n",
      "        accuracy                           0.91       305\n",
      "       macro avg       0.91      0.91      0.91       305\n",
      "    weighted avg       0.91      0.91      0.91       305\n",
      "\n"
     ]
    },
    {
     "name": "stderr",
     "output_type": "stream",
     "text": [
      "Training Epochs:  79%|███████▊  | 1968/2500 [01:01<00:11, 46.43it/s]"
     ]
    },
    {
     "name": "stdout",
     "output_type": "stream",
     "text": [
      "Epoch 1960/2500, Loss: 0.0115\n",
      "Test Accuracy at Epoch 1960: 91.15%\n",
      "Test F1-score at Epoch 1960: 0.9159\n",
      "Classification Report at Epoch 1960:\n",
      "                  precision    recall  f1-score   support\n",
      "\n",
      "    infringement       0.92      0.89      0.91       147\n",
      "non_infringement       0.90      0.93      0.92       158\n",
      "\n",
      "        accuracy                           0.91       305\n",
      "       macro avg       0.91      0.91      0.91       305\n",
      "    weighted avg       0.91      0.91      0.91       305\n",
      "\n",
      "Epoch 1970/2500, Loss: 0.0114\n"
     ]
    },
    {
     "name": "stderr",
     "output_type": "stream",
     "text": [
      "Training Epochs:  79%|███████▉  | 1979/2500 [01:01<00:10, 49.18it/s]"
     ]
    },
    {
     "name": "stdout",
     "output_type": "stream",
     "text": [
      "Test Accuracy at Epoch 1970: 91.15%\n",
      "Test F1-score at Epoch 1970: 0.9159\n",
      "Classification Report at Epoch 1970:\n",
      "                  precision    recall  f1-score   support\n",
      "\n",
      "    infringement       0.92      0.89      0.91       147\n",
      "non_infringement       0.90      0.93      0.92       158\n",
      "\n",
      "        accuracy                           0.91       305\n",
      "       macro avg       0.91      0.91      0.91       305\n",
      "    weighted avg       0.91      0.91      0.91       305\n",
      "\n",
      "Epoch 1980/2500, Loss: 0.0114\n",
      "Test Accuracy at Epoch 1980: 91.15%\n",
      "Test F1-score at Epoch 1980: 0.9159\n"
     ]
    },
    {
     "name": "stderr",
     "output_type": "stream",
     "text": [
      "Training Epochs:  80%|███████▉  | 1990/2500 [01:01<00:10, 49.06it/s]"
     ]
    },
    {
     "name": "stdout",
     "output_type": "stream",
     "text": [
      "Classification Report at Epoch 1980:\n",
      "                  precision    recall  f1-score   support\n",
      "\n",
      "    infringement       0.92      0.89      0.91       147\n",
      "non_infringement       0.90      0.93      0.92       158\n",
      "\n",
      "        accuracy                           0.91       305\n",
      "       macro avg       0.91      0.91      0.91       305\n",
      "    weighted avg       0.91      0.91      0.91       305\n",
      "\n",
      "Epoch 1990/2500, Loss: 0.0114\n",
      "Test Accuracy at Epoch 1990: 91.15%\n",
      "Test F1-score at Epoch 1990: 0.9159\n",
      "Classification Report at Epoch 1990:\n",
      "                  precision    recall  f1-score   support\n",
      "\n",
      "    infringement       0.92      0.89      0.91       147\n",
      "non_infringement       0.90      0.93      0.92       158\n",
      "\n",
      "        accuracy                           0.91       305\n",
      "       macro avg       0.91      0.91      0.91       305\n",
      "    weighted avg       0.91      0.91      0.91       305\n",
      "\n"
     ]
    },
    {
     "name": "stderr",
     "output_type": "stream",
     "text": [
      "Training Epochs:  80%|████████  | 2008/2500 [01:01<00:09, 51.75it/s]"
     ]
    },
    {
     "name": "stdout",
     "output_type": "stream",
     "text": [
      "Epoch 2000/2500, Loss: 0.0114\n",
      "Test Accuracy at Epoch 2000: 91.15%\n",
      "Test F1-score at Epoch 2000: 0.9159\n",
      "Classification Report at Epoch 2000:\n",
      "                  precision    recall  f1-score   support\n",
      "\n",
      "    infringement       0.92      0.89      0.91       147\n",
      "non_infringement       0.90      0.93      0.92       158\n",
      "\n",
      "        accuracy                           0.91       305\n",
      "       macro avg       0.91      0.91      0.91       305\n",
      "    weighted avg       0.91      0.91      0.91       305\n",
      "\n",
      "Epoch 2010/2500, Loss: 0.0114\n"
     ]
    },
    {
     "name": "stderr",
     "output_type": "stream",
     "text": [
      "Training Epochs:  81%|████████  | 2020/2500 [01:02<00:09, 49.22it/s]"
     ]
    },
    {
     "name": "stdout",
     "output_type": "stream",
     "text": [
      "Test Accuracy at Epoch 2010: 91.15%\n",
      "Test F1-score at Epoch 2010: 0.9159\n",
      "Classification Report at Epoch 2010:\n",
      "                  precision    recall  f1-score   support\n",
      "\n",
      "    infringement       0.92      0.89      0.91       147\n",
      "non_infringement       0.90      0.93      0.92       158\n",
      "\n",
      "        accuracy                           0.91       305\n",
      "       macro avg       0.91      0.91      0.91       305\n",
      "    weighted avg       0.91      0.91      0.91       305\n",
      "\n",
      "Epoch 2020/2500, Loss: 0.0117\n",
      "Test Accuracy at Epoch 2020: 91.15%\n",
      "Test F1-score at Epoch 2020: 0.9159\n",
      "Classification Report at Epoch 2020:\n",
      "                  precision    recall  f1-score   support\n",
      "\n",
      "    infringement       0.92      0.89      0.91       147\n",
      "non_infringement       0.90      0.93      0.92       158\n",
      "\n",
      "        accuracy                           0.91       305\n",
      "       macro avg       0.91      0.91      0.91       305\n",
      "    weighted avg       0.91      0.91      0.91       305\n",
      "\n"
     ]
    },
    {
     "name": "stderr",
     "output_type": "stream",
     "text": [
      "Training Epochs:  81%|████████▏ | 2037/2500 [01:02<00:09, 49.45it/s]"
     ]
    },
    {
     "name": "stdout",
     "output_type": "stream",
     "text": [
      "Epoch 2030/2500, Loss: 0.0114\n",
      "Test Accuracy at Epoch 2030: 91.15%\n",
      "Test F1-score at Epoch 2030: 0.9159\n",
      "Classification Report at Epoch 2030:\n",
      "                  precision    recall  f1-score   support\n",
      "\n",
      "    infringement       0.92      0.89      0.91       147\n",
      "non_infringement       0.90      0.93      0.92       158\n",
      "\n",
      "        accuracy                           0.91       305\n",
      "       macro avg       0.91      0.91      0.91       305\n",
      "    weighted avg       0.91      0.91      0.91       305\n",
      "\n"
     ]
    },
    {
     "name": "stderr",
     "output_type": "stream",
     "text": [
      "Training Epochs:  82%|████████▏ | 2048/2500 [01:02<00:09, 48.25it/s]"
     ]
    },
    {
     "name": "stdout",
     "output_type": "stream",
     "text": [
      "Epoch 2040/2500, Loss: 0.0114\n",
      "Test Accuracy at Epoch 2040: 91.15%\n",
      "Test F1-score at Epoch 2040: 0.9159\n",
      "Classification Report at Epoch 2040:\n",
      "                  precision    recall  f1-score   support\n",
      "\n",
      "    infringement       0.92      0.89      0.91       147\n",
      "non_infringement       0.90      0.93      0.92       158\n",
      "\n",
      "        accuracy                           0.91       305\n",
      "       macro avg       0.91      0.91      0.91       305\n",
      "    weighted avg       0.91      0.91      0.91       305\n",
      "\n"
     ]
    },
    {
     "name": "stderr",
     "output_type": "stream",
     "text": [
      "Training Epochs:  82%|████████▏ | 2058/2500 [01:02<00:09, 45.35it/s]"
     ]
    },
    {
     "name": "stdout",
     "output_type": "stream",
     "text": [
      "Epoch 2050/2500, Loss: 0.0114\n",
      "Test Accuracy at Epoch 2050: 91.15%\n",
      "Test F1-score at Epoch 2050: 0.9159\n",
      "Classification Report at Epoch 2050:\n",
      "                  precision    recall  f1-score   support\n",
      "\n",
      "    infringement       0.92      0.89      0.91       147\n",
      "non_infringement       0.90      0.93      0.92       158\n",
      "\n",
      "        accuracy                           0.91       305\n",
      "       macro avg       0.91      0.91      0.91       305\n",
      "    weighted avg       0.91      0.91      0.91       305\n",
      "\n"
     ]
    },
    {
     "name": "stderr",
     "output_type": "stream",
     "text": [
      "Training Epochs:  83%|████████▎ | 2069/2500 [01:03<00:08, 48.70it/s]"
     ]
    },
    {
     "name": "stdout",
     "output_type": "stream",
     "text": [
      "Epoch 2060/2500, Loss: 0.0117\n",
      "Test Accuracy at Epoch 2060: 91.15%\n",
      "Test F1-score at Epoch 2060: 0.9159\n",
      "Classification Report at Epoch 2060:\n",
      "                  precision    recall  f1-score   support\n",
      "\n",
      "    infringement       0.92      0.89      0.91       147\n",
      "non_infringement       0.90      0.93      0.92       158\n",
      "\n",
      "        accuracy                           0.91       305\n",
      "       macro avg       0.91      0.91      0.91       305\n",
      "    weighted avg       0.91      0.91      0.91       305\n",
      "\n",
      "Epoch 2070/2500, Loss: 0.0114\n",
      "Test Accuracy at Epoch 2070: 91.15%\n",
      "Test F1-score at Epoch 2070: 0.9159\n"
     ]
    },
    {
     "name": "stderr",
     "output_type": "stream",
     "text": [
      "Training Epochs:  83%|████████▎ | 2080/2500 [01:03<00:08, 49.13it/s]"
     ]
    },
    {
     "name": "stdout",
     "output_type": "stream",
     "text": [
      "Classification Report at Epoch 2070:\n",
      "                  precision    recall  f1-score   support\n",
      "\n",
      "    infringement       0.92      0.89      0.91       147\n",
      "non_infringement       0.90      0.93      0.92       158\n",
      "\n",
      "        accuracy                           0.91       305\n",
      "       macro avg       0.91      0.91      0.91       305\n",
      "    weighted avg       0.91      0.91      0.91       305\n",
      "\n",
      "Epoch 2080/2500, Loss: 0.0115\n",
      "Test Accuracy at Epoch 2080: 91.15%\n",
      "Test F1-score at Epoch 2080: 0.9159\n",
      "Classification Report at Epoch 2080:\n",
      "                  precision    recall  f1-score   support\n",
      "\n",
      "    infringement       0.92      0.89      0.91       147\n",
      "non_infringement       0.90      0.93      0.92       158\n",
      "\n",
      "        accuracy                           0.91       305\n",
      "       macro avg       0.91      0.91      0.91       305\n",
      "    weighted avg       0.91      0.91      0.91       305\n",
      "\n"
     ]
    },
    {
     "name": "stderr",
     "output_type": "stream",
     "text": [
      "Training Epochs:  84%|████████▍ | 2095/2500 [01:03<00:08, 45.11it/s]"
     ]
    },
    {
     "name": "stdout",
     "output_type": "stream",
     "text": [
      "Epoch 2090/2500, Loss: 0.0114\n",
      "Test Accuracy at Epoch 2090: 91.15%\n",
      "Test F1-score at Epoch 2090: 0.9159\n",
      "Classification Report at Epoch 2090:\n",
      "                  precision    recall  f1-score   support\n",
      "\n",
      "    infringement       0.92      0.89      0.91       147\n",
      "non_infringement       0.90      0.93      0.92       158\n",
      "\n",
      "        accuracy                           0.91       305\n",
      "       macro avg       0.91      0.91      0.91       305\n",
      "    weighted avg       0.91      0.91      0.91       305\n",
      "\n"
     ]
    },
    {
     "name": "stderr",
     "output_type": "stream",
     "text": [
      "Training Epochs:  84%|████████▍ | 2105/2500 [01:03<00:08, 46.19it/s]"
     ]
    },
    {
     "name": "stdout",
     "output_type": "stream",
     "text": [
      "Epoch 2100/2500, Loss: 0.0117\n",
      "Test Accuracy at Epoch 2100: 91.15%\n",
      "Test F1-score at Epoch 2100: 0.9159\n",
      "Classification Report at Epoch 2100:\n",
      "                  precision    recall  f1-score   support\n",
      "\n",
      "    infringement       0.92      0.89      0.91       147\n",
      "non_infringement       0.90      0.93      0.92       158\n",
      "\n",
      "        accuracy                           0.91       305\n",
      "       macro avg       0.91      0.91      0.91       305\n",
      "    weighted avg       0.91      0.91      0.91       305\n",
      "\n"
     ]
    },
    {
     "name": "stderr",
     "output_type": "stream",
     "text": [
      "Training Epochs:  85%|████████▍ | 2115/2500 [01:04<00:09, 42.09it/s]"
     ]
    },
    {
     "name": "stdout",
     "output_type": "stream",
     "text": [
      "Epoch 2110/2500, Loss: 0.0114\n",
      "Test Accuracy at Epoch 2110: 91.15%\n",
      "Test F1-score at Epoch 2110: 0.9159\n",
      "Classification Report at Epoch 2110:\n",
      "                  precision    recall  f1-score   support\n",
      "\n",
      "    infringement       0.92      0.89      0.91       147\n",
      "non_infringement       0.90      0.93      0.92       158\n",
      "\n",
      "        accuracy                           0.91       305\n",
      "       macro avg       0.91      0.91      0.91       305\n",
      "    weighted avg       0.91      0.91      0.91       305\n",
      "\n"
     ]
    },
    {
     "name": "stderr",
     "output_type": "stream",
     "text": [
      "Training Epochs:  85%|████████▌ | 2125/2500 [01:04<00:08, 44.84it/s]"
     ]
    },
    {
     "name": "stdout",
     "output_type": "stream",
     "text": [
      "Epoch 2120/2500, Loss: 0.0115\n",
      "Test Accuracy at Epoch 2120: 91.15%\n",
      "Test F1-score at Epoch 2120: 0.9159\n",
      "Classification Report at Epoch 2120:\n",
      "                  precision    recall  f1-score   support\n",
      "\n",
      "    infringement       0.92      0.89      0.91       147\n",
      "non_infringement       0.90      0.93      0.92       158\n",
      "\n",
      "        accuracy                           0.91       305\n",
      "       macro avg       0.91      0.91      0.91       305\n",
      "    weighted avg       0.91      0.91      0.91       305\n",
      "\n"
     ]
    },
    {
     "name": "stderr",
     "output_type": "stream",
     "text": [
      "Training Epochs:  85%|████████▌ | 2130/2500 [01:04<00:08, 45.51it/s]"
     ]
    },
    {
     "name": "stdout",
     "output_type": "stream",
     "text": [
      "Epoch 2130/2500, Loss: 0.0113\n",
      "Test Accuracy at Epoch 2130: 91.15%\n",
      "Test F1-score at Epoch 2130: 0.9159\n",
      "Classification Report at Epoch 2130:\n",
      "                  precision    recall  f1-score   support\n",
      "\n",
      "    infringement       0.92      0.89      0.91       147\n",
      "non_infringement       0.90      0.93      0.92       158\n",
      "\n",
      "        accuracy                           0.91       305\n",
      "       macro avg       0.91      0.91      0.91       305\n",
      "    weighted avg       0.91      0.91      0.91       305\n",
      "\n"
     ]
    },
    {
     "name": "stderr",
     "output_type": "stream",
     "text": [
      "Training Epochs:  86%|████████▌ | 2140/2500 [01:05<00:14, 25.69it/s]"
     ]
    },
    {
     "name": "stdout",
     "output_type": "stream",
     "text": [
      "Epoch 2140/2500, Loss: 0.0116\n",
      "Test Accuracy at Epoch 2140: 91.15%\n",
      "Test F1-score at Epoch 2140: 0.9159\n",
      "Classification Report at Epoch 2140:\n",
      "                  precision    recall  f1-score   support\n",
      "\n",
      "    infringement       0.92      0.89      0.91       147\n",
      "non_infringement       0.90      0.93      0.92       158\n",
      "\n",
      "        accuracy                           0.91       305\n",
      "       macro avg       0.91      0.91      0.91       305\n",
      "    weighted avg       0.91      0.91      0.91       305\n",
      "\n"
     ]
    },
    {
     "name": "stderr",
     "output_type": "stream",
     "text": [
      "Training Epochs:  86%|████████▌ | 2154/2500 [01:05<00:11, 30.56it/s]"
     ]
    },
    {
     "name": "stdout",
     "output_type": "stream",
     "text": [
      "Epoch 2150/2500, Loss: 0.0114\n",
      "Test Accuracy at Epoch 2150: 91.15%\n",
      "Test F1-score at Epoch 2150: 0.9159\n",
      "Classification Report at Epoch 2150:\n",
      "                  precision    recall  f1-score   support\n",
      "\n",
      "    infringement       0.92      0.89      0.91       147\n",
      "non_infringement       0.90      0.93      0.92       158\n",
      "\n",
      "        accuracy                           0.91       305\n",
      "       macro avg       0.91      0.91      0.91       305\n",
      "    weighted avg       0.91      0.91      0.91       305\n",
      "\n"
     ]
    },
    {
     "name": "stderr",
     "output_type": "stream",
     "text": [
      "Training Epochs:  87%|████████▋ | 2169/2500 [01:05<00:08, 40.16it/s]"
     ]
    },
    {
     "name": "stdout",
     "output_type": "stream",
     "text": [
      "Epoch 2160/2500, Loss: 0.0115\n",
      "Test Accuracy at Epoch 2160: 91.15%\n",
      "Test F1-score at Epoch 2160: 0.9159\n",
      "Classification Report at Epoch 2160:\n",
      "                  precision    recall  f1-score   support\n",
      "\n",
      "    infringement       0.92      0.89      0.91       147\n",
      "non_infringement       0.90      0.93      0.92       158\n",
      "\n",
      "        accuracy                           0.91       305\n",
      "       macro avg       0.91      0.91      0.91       305\n",
      "    weighted avg       0.91      0.91      0.91       305\n",
      "\n",
      "Epoch 2170/2500, Loss: 0.0113\n"
     ]
    },
    {
     "name": "stderr",
     "output_type": "stream",
     "text": [
      "Training Epochs:  87%|████████▋ | 2174/2500 [01:05<00:07, 42.09it/s]"
     ]
    },
    {
     "name": "stdout",
     "output_type": "stream",
     "text": [
      "Test Accuracy at Epoch 2170: 91.15%\n",
      "Test F1-score at Epoch 2170: 0.9159\n",
      "Classification Report at Epoch 2170:\n",
      "                  precision    recall  f1-score   support\n",
      "\n",
      "    infringement       0.92      0.89      0.91       147\n",
      "non_infringement       0.90      0.93      0.92       158\n",
      "\n",
      "        accuracy                           0.91       305\n",
      "       macro avg       0.91      0.91      0.91       305\n",
      "    weighted avg       0.91      0.91      0.91       305\n",
      "\n"
     ]
    },
    {
     "name": "stderr",
     "output_type": "stream",
     "text": [
      "Training Epochs:  87%|████████▋ | 2183/2500 [01:06<00:09, 32.27it/s]"
     ]
    },
    {
     "name": "stdout",
     "output_type": "stream",
     "text": [
      "Epoch 2180/2500, Loss: 0.0116\n",
      "Test Accuracy at Epoch 2180: 91.15%\n",
      "Test F1-score at Epoch 2180: 0.9159\n",
      "Classification Report at Epoch 2180:\n",
      "                  precision    recall  f1-score   support\n",
      "\n",
      "    infringement       0.92      0.89      0.91       147\n",
      "non_infringement       0.90      0.93      0.92       158\n",
      "\n",
      "        accuracy                           0.91       305\n",
      "       macro avg       0.91      0.91      0.91       305\n",
      "    weighted avg       0.91      0.91      0.91       305\n",
      "\n"
     ]
    },
    {
     "name": "stderr",
     "output_type": "stream",
     "text": [
      "Training Epochs:  88%|████████▊ | 2199/2500 [01:06<00:07, 42.16it/s]"
     ]
    },
    {
     "name": "stdout",
     "output_type": "stream",
     "text": [
      "Epoch 2190/2500, Loss: 0.0113\n",
      "Test Accuracy at Epoch 2190: 91.15%\n",
      "Test F1-score at Epoch 2190: 0.9159\n",
      "Classification Report at Epoch 2190:\n",
      "                  precision    recall  f1-score   support\n",
      "\n",
      "    infringement       0.92      0.89      0.91       147\n",
      "non_infringement       0.90      0.93      0.92       158\n",
      "\n",
      "        accuracy                           0.91       305\n",
      "       macro avg       0.91      0.91      0.91       305\n",
      "    weighted avg       0.91      0.91      0.91       305\n",
      "\n"
     ]
    },
    {
     "name": "stderr",
     "output_type": "stream",
     "text": [
      "Training Epochs:  88%|████████▊ | 2204/2500 [01:06<00:08, 36.39it/s]"
     ]
    },
    {
     "name": "stdout",
     "output_type": "stream",
     "text": [
      "Epoch 2200/2500, Loss: 0.0115\n",
      "Test Accuracy at Epoch 2200: 91.15%\n",
      "Test F1-score at Epoch 2200: 0.9159\n",
      "Classification Report at Epoch 2200:\n",
      "                  precision    recall  f1-score   support\n",
      "\n",
      "    infringement       0.92      0.89      0.91       147\n",
      "non_infringement       0.90      0.93      0.92       158\n",
      "\n",
      "        accuracy                           0.91       305\n",
      "       macro avg       0.91      0.91      0.91       305\n",
      "    weighted avg       0.91      0.91      0.91       305\n",
      "\n"
     ]
    },
    {
     "name": "stderr",
     "output_type": "stream",
     "text": [
      "Training Epochs:  89%|████████▊ | 2215/2500 [01:07<00:06, 41.49it/s]"
     ]
    },
    {
     "name": "stdout",
     "output_type": "stream",
     "text": [
      "Epoch 2210/2500, Loss: 0.0113\n",
      "Test Accuracy at Epoch 2210: 91.15%\n",
      "Test F1-score at Epoch 2210: 0.9159\n",
      "Classification Report at Epoch 2210:\n",
      "                  precision    recall  f1-score   support\n",
      "\n",
      "    infringement       0.92      0.89      0.91       147\n",
      "non_infringement       0.90      0.93      0.92       158\n",
      "\n",
      "        accuracy                           0.91       305\n",
      "       macro avg       0.91      0.91      0.91       305\n",
      "    weighted avg       0.91      0.91      0.91       305\n",
      "\n"
     ]
    },
    {
     "name": "stderr",
     "output_type": "stream",
     "text": [
      "Training Epochs:  89%|████████▉ | 2226/2500 [01:07<00:06, 45.39it/s]"
     ]
    },
    {
     "name": "stdout",
     "output_type": "stream",
     "text": [
      "Epoch 2220/2500, Loss: 0.0115\n",
      "Test Accuracy at Epoch 2220: 91.15%\n",
      "Test F1-score at Epoch 2220: 0.9159\n",
      "Classification Report at Epoch 2220:\n",
      "                  precision    recall  f1-score   support\n",
      "\n",
      "    infringement       0.92      0.89      0.91       147\n",
      "non_infringement       0.90      0.93      0.92       158\n",
      "\n",
      "        accuracy                           0.91       305\n",
      "       macro avg       0.91      0.91      0.91       305\n",
      "    weighted avg       0.91      0.91      0.91       305\n",
      "\n"
     ]
    },
    {
     "name": "stderr",
     "output_type": "stream",
     "text": [
      "Training Epochs:  89%|████████▉ | 2237/2500 [01:07<00:05, 47.39it/s]"
     ]
    },
    {
     "name": "stdout",
     "output_type": "stream",
     "text": [
      "Epoch 2230/2500, Loss: 0.0113\n",
      "Test Accuracy at Epoch 2230: 91.15%\n",
      "Test F1-score at Epoch 2230: 0.9159\n",
      "Classification Report at Epoch 2230:\n",
      "                  precision    recall  f1-score   support\n",
      "\n",
      "    infringement       0.92      0.89      0.91       147\n",
      "non_infringement       0.90      0.93      0.92       158\n",
      "\n",
      "        accuracy                           0.91       305\n",
      "       macro avg       0.91      0.91      0.91       305\n",
      "    weighted avg       0.91      0.91      0.91       305\n",
      "\n",
      "Epoch 2240/2500, Loss: 0.0114\n"
     ]
    },
    {
     "name": "stderr",
     "output_type": "stream",
     "text": [
      "Training Epochs:  90%|████████▉ | 2242/2500 [01:07<00:06, 41.03it/s]"
     ]
    },
    {
     "name": "stdout",
     "output_type": "stream",
     "text": [
      "Test Accuracy at Epoch 2240: 91.15%\n",
      "Test F1-score at Epoch 2240: 0.9159\n",
      "Classification Report at Epoch 2240:\n",
      "                  precision    recall  f1-score   support\n",
      "\n",
      "    infringement       0.92      0.89      0.91       147\n",
      "non_infringement       0.90      0.93      0.92       158\n",
      "\n",
      "        accuracy                           0.91       305\n",
      "       macro avg       0.91      0.91      0.91       305\n",
      "    weighted avg       0.91      0.91      0.91       305\n",
      "\n"
     ]
    },
    {
     "name": "stderr",
     "output_type": "stream",
     "text": [
      "Training Epochs:  90%|█████████ | 2256/2500 [01:08<00:07, 34.28it/s]"
     ]
    },
    {
     "name": "stdout",
     "output_type": "stream",
     "text": [
      "Epoch 2250/2500, Loss: 0.0113\n",
      "Test Accuracy at Epoch 2250: 91.15%\n",
      "Test F1-score at Epoch 2250: 0.9159\n",
      "Classification Report at Epoch 2250:\n",
      "                  precision    recall  f1-score   support\n",
      "\n",
      "    infringement       0.92      0.89      0.91       147\n",
      "non_infringement       0.90      0.93      0.92       158\n",
      "\n",
      "        accuracy                           0.91       305\n",
      "       macro avg       0.91      0.91      0.91       305\n",
      "    weighted avg       0.91      0.91      0.91       305\n",
      "\n"
     ]
    },
    {
     "name": "stderr",
     "output_type": "stream",
     "text": [
      "Training Epochs:  91%|█████████ | 2267/2500 [01:08<00:05, 42.33it/s]"
     ]
    },
    {
     "name": "stdout",
     "output_type": "stream",
     "text": [
      "Epoch 2260/2500, Loss: 0.0115\n",
      "Test Accuracy at Epoch 2260: 91.15%\n",
      "Test F1-score at Epoch 2260: 0.9159\n",
      "Classification Report at Epoch 2260:\n",
      "                  precision    recall  f1-score   support\n",
      "\n",
      "    infringement       0.92      0.89      0.91       147\n",
      "non_infringement       0.90      0.93      0.92       158\n",
      "\n",
      "        accuracy                           0.91       305\n",
      "       macro avg       0.91      0.91      0.91       305\n",
      "    weighted avg       0.91      0.91      0.91       305\n",
      "\n",
      "Epoch 2270/2500, Loss: 0.0113\n"
     ]
    },
    {
     "name": "stderr",
     "output_type": "stream",
     "text": [
      "Training Epochs:  91%|█████████ | 2278/2500 [01:08<00:04, 46.44it/s]"
     ]
    },
    {
     "name": "stdout",
     "output_type": "stream",
     "text": [
      "Test Accuracy at Epoch 2270: 91.15%\n",
      "Test F1-score at Epoch 2270: 0.9159\n",
      "Classification Report at Epoch 2270:\n",
      "                  precision    recall  f1-score   support\n",
      "\n",
      "    infringement       0.92      0.89      0.91       147\n",
      "non_infringement       0.90      0.93      0.92       158\n",
      "\n",
      "        accuracy                           0.91       305\n",
      "       macro avg       0.91      0.91      0.91       305\n",
      "    weighted avg       0.91      0.91      0.91       305\n",
      "\n",
      "Epoch 2280/2500, Loss: 0.0114\n",
      "Test Accuracy at Epoch 2280: 91.15%\n",
      "Test F1-score at Epoch 2280: 0.9159\n"
     ]
    },
    {
     "name": "stderr",
     "output_type": "stream",
     "text": [
      "Training Epochs:  92%|█████████▏| 2289/2500 [01:08<00:04, 48.70it/s]"
     ]
    },
    {
     "name": "stdout",
     "output_type": "stream",
     "text": [
      "Classification Report at Epoch 2280:\n",
      "                  precision    recall  f1-score   support\n",
      "\n",
      "    infringement       0.92      0.89      0.91       147\n",
      "non_infringement       0.90      0.93      0.92       158\n",
      "\n",
      "        accuracy                           0.91       305\n",
      "       macro avg       0.91      0.91      0.91       305\n",
      "    weighted avg       0.91      0.91      0.91       305\n",
      "\n",
      "Epoch 2290/2500, Loss: 0.0113\n",
      "Test Accuracy at Epoch 2290: 91.15%\n",
      "Test F1-score at Epoch 2290: 0.9159\n",
      "Classification Report at Epoch 2290:\n",
      "                  precision    recall  f1-score   support\n",
      "\n",
      "    infringement       0.92      0.89      0.91       147\n",
      "non_infringement       0.90      0.93      0.92       158\n",
      "\n",
      "        accuracy                           0.91       305\n",
      "       macro avg       0.91      0.91      0.91       305\n",
      "    weighted avg       0.91      0.91      0.91       305\n",
      "\n"
     ]
    },
    {
     "name": "stderr",
     "output_type": "stream",
     "text": [
      "Training Epochs:  92%|█████████▏| 2306/2500 [01:09<00:03, 49.86it/s]"
     ]
    },
    {
     "name": "stdout",
     "output_type": "stream",
     "text": [
      "Epoch 2300/2500, Loss: 0.0114\n",
      "Test Accuracy at Epoch 2300: 91.15%\n",
      "Test F1-score at Epoch 2300: 0.9159\n",
      "Classification Report at Epoch 2300:\n",
      "                  precision    recall  f1-score   support\n",
      "\n",
      "    infringement       0.92      0.89      0.91       147\n",
      "non_infringement       0.90      0.93      0.92       158\n",
      "\n",
      "        accuracy                           0.91       305\n",
      "       macro avg       0.91      0.91      0.91       305\n",
      "    weighted avg       0.91      0.91      0.91       305\n",
      "\n",
      "Epoch 2310/2500, Loss: 0.0113\n"
     ]
    },
    {
     "name": "stderr",
     "output_type": "stream",
     "text": [
      "Training Epochs:  93%|█████████▎| 2318/2500 [01:09<00:03, 51.20it/s]"
     ]
    },
    {
     "name": "stdout",
     "output_type": "stream",
     "text": [
      "Test Accuracy at Epoch 2310: 91.15%\n",
      "Test F1-score at Epoch 2310: 0.9159\n",
      "Classification Report at Epoch 2310:\n",
      "                  precision    recall  f1-score   support\n",
      "\n",
      "    infringement       0.92      0.89      0.91       147\n",
      "non_infringement       0.90      0.93      0.92       158\n",
      "\n",
      "        accuracy                           0.91       305\n",
      "       macro avg       0.91      0.91      0.91       305\n",
      "    weighted avg       0.91      0.91      0.91       305\n",
      "\n",
      "Epoch 2320/2500, Loss: 0.0114\n",
      "Test Accuracy at Epoch 2320: 91.15%\n",
      "Test F1-score at Epoch 2320: 0.9159\n",
      "Classification Report at Epoch 2320:\n",
      "                  precision    recall  f1-score   support\n",
      "\n",
      "    infringement       0.92      0.89      0.91       147\n",
      "non_infringement       0.90      0.93      0.92       158\n",
      "\n",
      "        accuracy                           0.91       305\n",
      "       macro avg       0.91      0.91      0.91       305\n",
      "    weighted avg       0.91      0.91      0.91       305\n",
      "\n"
     ]
    },
    {
     "name": "stderr",
     "output_type": "stream",
     "text": [
      "Training Epochs:  93%|█████████▎| 2336/2500 [01:09<00:03, 50.34it/s]"
     ]
    },
    {
     "name": "stdout",
     "output_type": "stream",
     "text": [
      "Epoch 2330/2500, Loss: 0.0113\n",
      "Test Accuracy at Epoch 2330: 91.15%\n",
      "Test F1-score at Epoch 2330: 0.9159\n",
      "Classification Report at Epoch 2330:\n",
      "                  precision    recall  f1-score   support\n",
      "\n",
      "    infringement       0.92      0.89      0.91       147\n",
      "non_infringement       0.90      0.93      0.92       158\n",
      "\n",
      "        accuracy                           0.91       305\n",
      "       macro avg       0.91      0.91      0.91       305\n",
      "    weighted avg       0.91      0.91      0.91       305\n",
      "\n",
      "Epoch 2340/2500, Loss: 0.0114\n"
     ]
    },
    {
     "name": "stderr",
     "output_type": "stream",
     "text": [
      "Training Epochs:  94%|█████████▍| 2348/2500 [01:09<00:02, 50.68it/s]"
     ]
    },
    {
     "name": "stdout",
     "output_type": "stream",
     "text": [
      "Test Accuracy at Epoch 2340: 91.15%\n",
      "Test F1-score at Epoch 2340: 0.9159\n",
      "Classification Report at Epoch 2340:\n",
      "                  precision    recall  f1-score   support\n",
      "\n",
      "    infringement       0.92      0.89      0.91       147\n",
      "non_infringement       0.90      0.93      0.92       158\n",
      "\n",
      "        accuracy                           0.91       305\n",
      "       macro avg       0.91      0.91      0.91       305\n",
      "    weighted avg       0.91      0.91      0.91       305\n",
      "\n",
      "Epoch 2350/2500, Loss: 0.0113\n"
     ]
    },
    {
     "name": "stderr",
     "output_type": "stream",
     "text": [
      "Training Epochs:  94%|█████████▍| 2354/2500 [01:10<00:02, 49.68it/s]"
     ]
    },
    {
     "name": "stdout",
     "output_type": "stream",
     "text": [
      "Test Accuracy at Epoch 2350: 91.15%\n",
      "Test F1-score at Epoch 2350: 0.9159\n",
      "Classification Report at Epoch 2350:\n",
      "                  precision    recall  f1-score   support\n",
      "\n",
      "    infringement       0.92      0.89      0.91       147\n",
      "non_infringement       0.90      0.93      0.92       158\n",
      "\n",
      "        accuracy                           0.91       305\n",
      "       macro avg       0.91      0.91      0.91       305\n",
      "    weighted avg       0.91      0.91      0.91       305\n",
      "\n",
      "Epoch 2360/2500, Loss: 0.0114\n"
     ]
    },
    {
     "name": "stderr",
     "output_type": "stream",
     "text": [
      "Training Epochs:  95%|█████████▍| 2365/2500 [01:10<00:03, 41.23it/s]"
     ]
    },
    {
     "name": "stdout",
     "output_type": "stream",
     "text": [
      "Test Accuracy at Epoch 2360: 91.15%\n",
      "Test F1-score at Epoch 2360: 0.9159\n",
      "Classification Report at Epoch 2360:\n",
      "                  precision    recall  f1-score   support\n",
      "\n",
      "    infringement       0.92      0.89      0.91       147\n",
      "non_infringement       0.90      0.93      0.92       158\n",
      "\n",
      "        accuracy                           0.91       305\n",
      "       macro avg       0.91      0.91      0.91       305\n",
      "    weighted avg       0.91      0.91      0.91       305\n",
      "\n"
     ]
    },
    {
     "name": "stderr",
     "output_type": "stream",
     "text": [
      "Training Epochs:  95%|█████████▌| 2375/2500 [01:10<00:03, 38.34it/s]"
     ]
    },
    {
     "name": "stdout",
     "output_type": "stream",
     "text": [
      "Epoch 2370/2500, Loss: 0.0113\n",
      "Test Accuracy at Epoch 2370: 91.15%\n",
      "Test F1-score at Epoch 2370: 0.9159\n",
      "Classification Report at Epoch 2370:\n",
      "                  precision    recall  f1-score   support\n",
      "\n",
      "    infringement       0.92      0.89      0.91       147\n",
      "non_infringement       0.90      0.93      0.92       158\n",
      "\n",
      "        accuracy                           0.91       305\n",
      "       macro avg       0.91      0.91      0.91       305\n",
      "    weighted avg       0.91      0.91      0.91       305\n",
      "\n"
     ]
    },
    {
     "name": "stderr",
     "output_type": "stream",
     "text": [
      "Training Epochs:  95%|█████████▌| 2385/2500 [01:10<00:02, 42.27it/s]"
     ]
    },
    {
     "name": "stdout",
     "output_type": "stream",
     "text": [
      "Epoch 2380/2500, Loss: 0.0114\n",
      "Test Accuracy at Epoch 2380: 91.15%\n",
      "Test F1-score at Epoch 2380: 0.9159\n",
      "Classification Report at Epoch 2380:\n",
      "                  precision    recall  f1-score   support\n",
      "\n",
      "    infringement       0.92      0.89      0.91       147\n",
      "non_infringement       0.90      0.93      0.92       158\n",
      "\n",
      "        accuracy                           0.91       305\n",
      "       macro avg       0.91      0.91      0.91       305\n",
      "    weighted avg       0.91      0.91      0.91       305\n",
      "\n"
     ]
    },
    {
     "name": "stderr",
     "output_type": "stream",
     "text": [
      "Training Epochs:  96%|█████████▌| 2396/2500 [01:11<00:02, 46.66it/s]"
     ]
    },
    {
     "name": "stdout",
     "output_type": "stream",
     "text": [
      "Epoch 2390/2500, Loss: 0.0113\n",
      "Test Accuracy at Epoch 2390: 91.15%\n",
      "Test F1-score at Epoch 2390: 0.9159\n",
      "Classification Report at Epoch 2390:\n",
      "                  precision    recall  f1-score   support\n",
      "\n",
      "    infringement       0.92      0.89      0.91       147\n",
      "non_infringement       0.90      0.93      0.92       158\n",
      "\n",
      "        accuracy                           0.91       305\n",
      "       macro avg       0.91      0.91      0.91       305\n",
      "    weighted avg       0.91      0.91      0.91       305\n",
      "\n",
      "Epoch 2400/2500, Loss: 0.0114\n"
     ]
    },
    {
     "name": "stderr",
     "output_type": "stream",
     "text": [
      "Training Epochs:  96%|█████████▋| 2407/2500 [01:11<00:01, 46.58it/s]"
     ]
    },
    {
     "name": "stdout",
     "output_type": "stream",
     "text": [
      "Test Accuracy at Epoch 2400: 91.15%\n",
      "Test F1-score at Epoch 2400: 0.9159\n",
      "Classification Report at Epoch 2400:\n",
      "                  precision    recall  f1-score   support\n",
      "\n",
      "    infringement       0.92      0.89      0.91       147\n",
      "non_infringement       0.90      0.93      0.92       158\n",
      "\n",
      "        accuracy                           0.91       305\n",
      "       macro avg       0.91      0.91      0.91       305\n",
      "    weighted avg       0.91      0.91      0.91       305\n",
      "\n"
     ]
    },
    {
     "name": "stderr",
     "output_type": "stream",
     "text": [
      "Training Epochs:  97%|█████████▋| 2418/2500 [01:11<00:01, 49.43it/s]"
     ]
    },
    {
     "name": "stdout",
     "output_type": "stream",
     "text": [
      "Epoch 2410/2500, Loss: 0.0113\n",
      "Test Accuracy at Epoch 2410: 91.15%\n",
      "Test F1-score at Epoch 2410: 0.9159\n",
      "Classification Report at Epoch 2410:\n",
      "                  precision    recall  f1-score   support\n",
      "\n",
      "    infringement       0.92      0.89      0.91       147\n",
      "non_infringement       0.90      0.93      0.92       158\n",
      "\n",
      "        accuracy                           0.91       305\n",
      "       macro avg       0.91      0.91      0.91       305\n",
      "    weighted avg       0.91      0.91      0.91       305\n",
      "\n",
      "Epoch 2420/2500, Loss: 0.0114\n",
      "Test Accuracy at Epoch 2420: 91.15%\n",
      "Test F1-score at Epoch 2420: 0.9159\n"
     ]
    },
    {
     "name": "stderr",
     "output_type": "stream",
     "text": [
      "Training Epochs:  97%|█████████▋| 2429/2500 [01:11<00:01, 49.70it/s]"
     ]
    },
    {
     "name": "stdout",
     "output_type": "stream",
     "text": [
      "Classification Report at Epoch 2420:\n",
      "                  precision    recall  f1-score   support\n",
      "\n",
      "    infringement       0.92      0.89      0.91       147\n",
      "non_infringement       0.90      0.93      0.92       158\n",
      "\n",
      "        accuracy                           0.91       305\n",
      "       macro avg       0.91      0.91      0.91       305\n",
      "    weighted avg       0.91      0.91      0.91       305\n",
      "\n",
      "Epoch 2430/2500, Loss: 0.0113\n",
      "Test Accuracy at Epoch 2430: 91.15%\n",
      "Test F1-score at Epoch 2430: 0.9159\n"
     ]
    },
    {
     "name": "stderr",
     "output_type": "stream",
     "text": [
      "Training Epochs:  98%|█████████▊| 2440/2500 [01:12<00:01, 49.31it/s]"
     ]
    },
    {
     "name": "stdout",
     "output_type": "stream",
     "text": [
      "Classification Report at Epoch 2430:\n",
      "                  precision    recall  f1-score   support\n",
      "\n",
      "    infringement       0.92      0.89      0.91       147\n",
      "non_infringement       0.90      0.93      0.92       158\n",
      "\n",
      "        accuracy                           0.91       305\n",
      "       macro avg       0.91      0.91      0.91       305\n",
      "    weighted avg       0.91      0.91      0.91       305\n",
      "\n",
      "Epoch 2440/2500, Loss: 0.0114\n",
      "Test Accuracy at Epoch 2440: 91.15%\n",
      "Test F1-score at Epoch 2440: 0.9159\n",
      "Classification Report at Epoch 2440:\n",
      "                  precision    recall  f1-score   support\n",
      "\n",
      "    infringement       0.92      0.89      0.91       147\n",
      "non_infringement       0.90      0.93      0.92       158\n",
      "\n",
      "        accuracy                           0.91       305\n",
      "       macro avg       0.91      0.91      0.91       305\n",
      "    weighted avg       0.91      0.91      0.91       305\n",
      "\n"
     ]
    },
    {
     "name": "stderr",
     "output_type": "stream",
     "text": [
      "Training Epochs:  98%|█████████▊| 2458/2500 [01:12<00:00, 51.94it/s]"
     ]
    },
    {
     "name": "stdout",
     "output_type": "stream",
     "text": [
      "Epoch 2450/2500, Loss: 0.0113\n",
      "Test Accuracy at Epoch 2450: 91.15%\n",
      "Test F1-score at Epoch 2450: 0.9159\n",
      "Classification Report at Epoch 2450:\n",
      "                  precision    recall  f1-score   support\n",
      "\n",
      "    infringement       0.92      0.89      0.91       147\n",
      "non_infringement       0.90      0.93      0.92       158\n",
      "\n",
      "        accuracy                           0.91       305\n",
      "       macro avg       0.91      0.91      0.91       305\n",
      "    weighted avg       0.91      0.91      0.91       305\n",
      "\n",
      "Epoch 2460/2500, Loss: 0.0114\n",
      "Test Accuracy at Epoch 2460: 91.15%\n",
      "Test F1-score at Epoch 2460: 0.9159\n"
     ]
    },
    {
     "name": "stderr",
     "output_type": "stream",
     "text": [
      "Training Epochs:  99%|█████████▉| 2470/2500 [01:12<00:00, 50.58it/s]"
     ]
    },
    {
     "name": "stdout",
     "output_type": "stream",
     "text": [
      "Classification Report at Epoch 2460:\n",
      "                  precision    recall  f1-score   support\n",
      "\n",
      "    infringement       0.92      0.89      0.91       147\n",
      "non_infringement       0.90      0.93      0.92       158\n",
      "\n",
      "        accuracy                           0.91       305\n",
      "       macro avg       0.91      0.91      0.91       305\n",
      "    weighted avg       0.91      0.91      0.91       305\n",
      "\n",
      "Epoch 2470/2500, Loss: 0.0113\n",
      "Test Accuracy at Epoch 2470: 91.15%\n",
      "Test F1-score at Epoch 2470: 0.9159\n",
      "Classification Report at Epoch 2470:\n",
      "                  precision    recall  f1-score   support\n",
      "\n",
      "    infringement       0.92      0.89      0.91       147\n",
      "non_infringement       0.90      0.93      0.92       158\n",
      "\n",
      "        accuracy                           0.91       305\n",
      "       macro avg       0.91      0.91      0.91       305\n",
      "    weighted avg       0.91      0.91      0.91       305\n",
      "\n"
     ]
    },
    {
     "name": "stderr",
     "output_type": "stream",
     "text": [
      "Training Epochs: 100%|█████████▉| 2488/2500 [01:12<00:00, 52.32it/s]"
     ]
    },
    {
     "name": "stdout",
     "output_type": "stream",
     "text": [
      "Epoch 2480/2500, Loss: 0.0113\n",
      "Test Accuracy at Epoch 2480: 91.15%\n",
      "Test F1-score at Epoch 2480: 0.9159\n",
      "Classification Report at Epoch 2480:\n",
      "                  precision    recall  f1-score   support\n",
      "\n",
      "    infringement       0.92      0.89      0.91       147\n",
      "non_infringement       0.90      0.93      0.92       158\n",
      "\n",
      "        accuracy                           0.91       305\n",
      "       macro avg       0.91      0.91      0.91       305\n",
      "    weighted avg       0.91      0.91      0.91       305\n",
      "\n",
      "Epoch 2490/2500, Loss: 0.0113\n"
     ]
    },
    {
     "name": "stderr",
     "output_type": "stream",
     "text": [
      "Training Epochs: 100%|█████████▉| 2494/2500 [01:13<00:00, 43.89it/s]"
     ]
    },
    {
     "name": "stdout",
     "output_type": "stream",
     "text": [
      "Test Accuracy at Epoch 2490: 91.15%\n",
      "Test F1-score at Epoch 2490: 0.9159\n",
      "Classification Report at Epoch 2490:\n",
      "                  precision    recall  f1-score   support\n",
      "\n",
      "    infringement       0.92      0.89      0.91       147\n",
      "non_infringement       0.90      0.93      0.92       158\n",
      "\n",
      "        accuracy                           0.91       305\n",
      "       macro avg       0.91      0.91      0.91       305\n",
      "    weighted avg       0.91      0.91      0.91       305\n",
      "\n"
     ]
    },
    {
     "name": "stderr",
     "output_type": "stream",
     "text": [
      "Training Epochs: 100%|██████████| 2500/2500 [01:13<00:00, 34.13it/s]\n",
      "/tmp/ipykernel_1715504/3818700350.py:59: FutureWarning: You are using `torch.load` with `weights_only=False` (the current default value), which uses the default pickle module implicitly. It is possible to construct malicious pickle data which will execute arbitrary code during unpickling (See https://github.com/pytorch/pytorch/blob/main/SECURITY.md#untrusted-models for more details). In a future release, the default value for `weights_only` will be flipped to `True`. This limits the functions that could be executed during unpickling. Arbitrary objects will no longer be allowed to be loaded via this mode unless they are explicitly allowlisted by the user via `torch.serialization.add_safe_globals`. We recommend you start setting `weights_only=True` for any use case where you don't have full control of the loaded file. Please open an issue on GitHub for any issues related to this experimental feature.\n",
      "  custom_mlp.load_state_dict(torch.load(checkpoint_path))\n"
     ]
    },
    {
     "name": "stdout",
     "output_type": "stream",
     "text": [
      "Epoch 2500/2500, Loss: 0.0113\n",
      "Test Accuracy at Epoch 2500: 91.15%\n",
      "Test F1-score at Epoch 2500: 0.9159\n",
      "Classification Report at Epoch 2500:\n",
      "                  precision    recall  f1-score   support\n",
      "\n",
      "    infringement       0.92      0.89      0.91       147\n",
      "non_infringement       0.90      0.93      0.92       158\n",
      "\n",
      "        accuracy                           0.91       305\n",
      "       macro avg       0.91      0.91      0.91       305\n",
      "    weighted avg       0.91      0.91      0.91       305\n",
      "\n"
     ]
    },
    {
     "data": {
      "image/png": "[encoded data removed]",
      "text/plain": [
       "<Figure size 1000x500 with 1 Axes>"
      ]
     },
     "metadata": {},
     "output_type": "display_data"
    },
    {
     "name": "stdout",
     "output_type": "stream",
     "text": [
      "Final Model Accuracy: 95.41%\n",
      "Final Model F1-score: 0.9557\n"
     ]
    }
   ],
   "source": [
    "input_dim = X_train.shape[1]\n",
    "hidden_dim = 256\n",
    "\n",
    "custom_mlp, losses, best_accuracy, best_f1 = train_model(X_train, y_train, X_test, y_test, input_dim, hidden_dim)"
   ]
  },
  {
   "cell_type": "code",
   "execution_count": 10,
   "metadata": {},
   "outputs": [
    {
     "name": "stdout",
     "output_type": "stream",
     "text": [
      "Checkpoint saved to '/home/guangwei/LLM-COPYRIGHT/copyright_newVersion/models/train_input_reference_last_token.pth'.\n"
     ]
    }
   ],
   "source": [
    "def save_checkpoint(model, optimizer, epoch, loss, filepath):\n",
    "    checkpoint = {\n",
    "        'epoch': epoch + 1,\n",
    "        'model_state_dict': model.state_dict(),\n",
    "        'optimizer_state_dict': optimizer.state_dict(),\n",
    "        'loss': loss\n",
    "    }\n",
    "    torch.save(checkpoint, filepath)\n",
    "    print(f\"Checkpoint saved to '{filepath}'.\")\n",
    "\n",
    "save_checkpoint(custom_mlp, torch.optim.Adam(custom_mlp.parameters()), len(losses), losses[-1], checkpoint_file)"
   ]
  },
  {
   "cell_type": "code",
   "execution_count": 11,
   "metadata": {},
   "outputs": [
    {
     "name": "stdout",
     "output_type": "stream",
     "text": [
      "                  precision    recall  f1-score   support\n",
      "\n",
      "    infringement       0.95      0.95      0.95       147\n",
      "non_infringement       0.96      0.96      0.96       158\n",
      "\n",
      "        accuracy                           0.95       305\n",
      "       macro avg       0.95      0.95      0.95       305\n",
      "    weighted avg       0.95      0.95      0.95       305\n",
      "\n"
     ]
    },
    {
     "name": "stderr",
     "output_type": "stream",
     "text": [
      "/tmp/ipykernel_1715504/2137335780.py:1: UserWarning: To copy construct from a tensor, it is recommended to use sourceTensor.clone().detach() or sourceTensor.clone().detach().requires_grad_(True), rather than torch.tensor(sourceTensor).\n",
      "  y_pred_final = (torch.sigmoid(torch.tensor(custom_mlp(torch.tensor(X_test, dtype=torch.float32)))) > 0.5).float().numpy()\n"
     ]
    }
   ],
   "source": [
    "y_pred_final = (torch.sigmoid(torch.tensor(custom_mlp(torch.tensor(X_test, dtype=torch.float32)))) > 0.5).float().numpy()\n",
    "print(classification_report(y_test, y_pred_final, target_names=[\"infringement\", \"non_infringement\"]))"
   ]
  }
 ],
 "metadata": {
  "kernelspec": {
   "display_name": "zdh",
   "language": "python",
   "name": "python3"
  },
  "language_info": {
   "codemirror_mode": {
    "name": "ipython",
    "version": 3
   },
   "file_extension": ".py",
   "mimetype": "text/x-python",
   "name": "python",
   "nbconvert_exporter": "python",
   "pygments_lexer": "ipython3",
   "version": "3.12.3"
  }
 },
 "nbformat": 4,
 "nbformat_minor": 2
}
