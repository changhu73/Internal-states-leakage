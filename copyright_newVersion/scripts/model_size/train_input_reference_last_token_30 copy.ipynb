{
 "cells": [
  {
   "cell_type": "code",
   "execution_count": 1,
   "metadata": {},
   "outputs": [
    {
     "name": "stderr",
     "output_type": "stream",
     "text": [
      "/home/guangwei/miniconda3/envs/zdh/lib/python3.12/site-packages/tqdm/auto.py:21: TqdmWarning: IProgress not found. Please update jupyter and ipywidgets. See https://ipywidgets.readthedocs.io/en/stable/user_install.html\n",
      "  from .autonotebook import tqdm as notebook_tqdm\n"
     ]
    }
   ],
   "source": [
    "# import packages & variables\n",
    "import argparse\n",
    "import torch\n",
    "import torch.nn as nn\n",
    "import numpy as np\n",
    "from sklearn.metrics import accuracy_score, classification_report\n",
    "import matplotlib.pyplot as plt\n",
    "from tqdm import tqdm\n",
    "from transformers import AutoTokenizer, AutoModelForCausalLM, AutoModel, AutoModelForSequenceClassification\n",
    "import json\n",
    "import os\n",
    "\n",
    "os.environ[\"CUDA_VISIBLE_DEVICES\"] = \"0\"\n",
    "\n",
    "# Parameters\n",
    "model_name = 'mistralai/Mistral-7B-v0.1'\n",
    "non_infringement_file = '/home/guangwei/LLM-COPYRIGHT/copyright_newVersion/test_division/extra_mis_10.non_infringement.json'\n",
    "infringement_file = '/home/guangwei/LLM-COPYRIGHT/copyright_newVersion/test_division/extra_mis_10.infringement.json'\n",
    "checkpoint_file = '/home/guangwei/LLM-COPYRIGHT/copyright_newVersion/models/train_input_last_token.pth'\n"
   ]
  },
  {
   "cell_type": "code",
   "execution_count": 2,
   "metadata": {},
   "outputs": [],
   "source": [
    "# Define CustumMLP for internal states train\n",
    "class CustomMLP(nn.Module):\n",
    "    def __init__(self, input_dim, hidden_dim):\n",
    "        super(CustomMLP, self).__init__()\n",
    "        self.down = nn.Linear(input_dim, hidden_dim)\n",
    "        self.gate = nn.Linear(input_dim, hidden_dim)\n",
    "        self.up = nn.Linear(hidden_dim, 1)\n",
    "        self.activation = nn.SiLU()\n",
    "\n",
    "    def forward(self, x):\n",
    "        down_output = self.down(x)\n",
    "        gate_output = self.gate(x)\n",
    "        gated_output = down_output * self.activation(gate_output)\n",
    "        return self.up(gated_output)"
   ]
  },
  {
   "cell_type": "code",
   "execution_count": 3,
   "metadata": {},
   "outputs": [],
   "source": [
    "# Extract hidden states/reference embeddings\n",
    "def extract_hidden_states(texts, model, tokenizer, batch_size=4):\n",
    "    device = torch.device(\"cuda\" if torch.cuda.is_available() else \"cpu\")\n",
    "    model.to(device)\n",
    "    model = nn.DataParallel(model)\n",
    "    hidden_states = []\n",
    "    for i in tqdm(range(0, len(texts), batch_size), desc=\"Processing data batches\"):\n",
    "        batch_texts = texts[i:i + batch_size]\n",
    "        inputs = tokenizer(batch_texts, return_tensors=\"pt\", padding=True, truncation=True)\n",
    "        with torch.no_grad():\n",
    "            outputs = model(**inputs)\n",
    "        \n",
    "        # 访问最后一个隐藏层的最后一个token的隐藏状态\n",
    "        # hidden_states[-1]表示最后一个隐藏层，mean(dim=1)表示取所有头的均值\n",
    "        last_layer_hidden_states = outputs.hidden_states[-1]\n",
    "        last_token_hidden_states = last_layer_hidden_states[:, -1, :]  # -1表示最后一个token\n",
    "        hidden_states.append(last_token_hidden_states.cpu().numpy())\n",
    "    return np.vstack(hidden_states)\n",
    "\n",
    "def extract_reference_embeddings(references, model, tokenizer, batch_size=4):\n",
    "    device = torch.device(\"cuda\" if torch.cuda.is_available() else \"cpu\")\n",
    "    model.to(device)\n",
    "    model = nn.DataParallel(model)\n",
    "    embeddings = []\n",
    "    for i in tqdm(range(0, len(references), batch_size), desc=\"Processing references\"):\n",
    "        batch_references = references[i:i + batch_size]\n",
    "        inputs = tokenizer(batch_references, return_tensors=\"pt\", padding=True, truncation=True).to(device)\n",
    "        with torch.no_grad():\n",
    "            outputs = model(**inputs)\n",
    "        embeddings.append(outputs.pooler_output.cpu().numpy())\n",
    "    return np.vstack(embeddings)"
   ]
  },
  {
   "cell_type": "code",
   "execution_count": 4,
   "metadata": {},
   "outputs": [],
   "source": [
    "# load data for infringement & non infringement\n",
    "def load_data(non_infringement_file, infringement_file):\n",
    "    with open(non_infringement_file, 'r', encoding='utf-8') as file:\n",
    "        non_infringement_json_data = json.load(file)\n",
    "\n",
    "    non_infringement_outputs = [entry['input'] for entry in non_infringement_json_data]\n",
    "    non_infringement_references = [entry['reference'] for entry in non_infringement_json_data]\n",
    "    y_non_infringement = [1] * len(non_infringement_outputs)\n",
    "\n",
    "    with open(infringement_file, 'r', encoding='utf-8') as file:\n",
    "        infringement_json_data = json.load(file)\n",
    "\n",
    "    infringement_outputs = [entry['input'] for entry in infringement_json_data]\n",
    "    infringement_references = [entry['reference'] for entry in infringement_json_data]\n",
    "    y_infringement = [0] * len(infringement_outputs)\n",
    "\n",
    "    return non_infringement_outputs, non_infringement_references, y_non_infringement, infringement_outputs, infringement_references, y_infringement"
   ]
  },
  {
   "cell_type": "code",
   "execution_count": 5,
   "metadata": {},
   "outputs": [],
   "source": [
    "from sklearn.metrics import accuracy_score, classification_report, f1_score\n",
    "\n",
    "# Train for best model\n",
    "def train_model(X_train, y_train, X_test, y_test, input_dim, hidden_dim, epochs=2000, lr=0.001, checkpoint_path=checkpoint_file):\n",
    "    custom_mlp = CustomMLP(input_dim, hidden_dim)\n",
    "    criterion = nn.BCEWithLogitsLoss()\n",
    "    optimizer = torch.optim.Adam(custom_mlp.parameters(), lr=lr)\n",
    "\n",
    "    X_train_tensor = torch.tensor(X_train, dtype=torch.float32)\n",
    "    y_train_tensor = torch.tensor(y_train, dtype=torch.float32).unsqueeze(1)\n",
    "\n",
    "    best_accuracy = -float('inf')\n",
    "    best_f1 = -float('inf')  # Track best F1-score\n",
    "    best_model_state = None\n",
    "    best_epoch = 0\n",
    "    losses = []\n",
    "\n",
    "    for epoch in tqdm(range(epochs), desc=\"Training Epochs\"):\n",
    "        custom_mlp.train()\n",
    "        optimizer.zero_grad()\n",
    "        outputs = custom_mlp(X_train_tensor)\n",
    "        loss = criterion(outputs, y_train_tensor)\n",
    "        loss.backward()\n",
    "        optimizer.step()\n",
    "        losses.append(loss.item())\n",
    "\n",
    "        # Every 10 epochs, evaluate the model\n",
    "        if (epoch + 1) % 10 == 0:\n",
    "            print(f\"Epoch {epoch + 1}/{epochs}, Loss: {loss.item():.4f}\")\n",
    "            \n",
    "            custom_mlp.eval()\n",
    "            X_test_tensor = torch.tensor(X_test, dtype=torch.float32)\n",
    "            with torch.no_grad():\n",
    "                y_pred_logits = custom_mlp(X_test_tensor)\n",
    "                y_pred = (torch.sigmoid(y_pred_logits) > 0.5).float().numpy()\n",
    "            \n",
    "            # Calculate accuracy and F1-score\n",
    "            accuracy = accuracy_score(y_test, y_pred)\n",
    "            f1 = f1_score(y_test, y_pred)  # F1-score calculation\n",
    "            \n",
    "            print(f\"Test Accuracy at Epoch {epoch + 1}: {accuracy * 100:.2f}%\")\n",
    "            print(f\"Test F1-score at Epoch {epoch + 1}: {f1:.4f}\")\n",
    "            \n",
    "            # Generate classification report\n",
    "            report = classification_report(y_test, y_pred, target_names=[\"infringement\", \"non_infringement\"])\n",
    "            print(f\"Classification Report at Epoch {epoch + 1}:\\n{report}\")\n",
    "\n",
    "            # Save the model if it achieves a better F1-score\n",
    "            if f1 > best_f1:\n",
    "                best_accuracy = accuracy\n",
    "                best_f1 = f1\n",
    "                best_model_state = custom_mlp.state_dict()\n",
    "                best_epoch = epoch + 1\n",
    "                torch.save(best_model_state, checkpoint_path)\n",
    "                print(f\"New best model saved with F1-score {best_f1:.4f} at epoch {best_epoch}\")\n",
    "                print(f\"Best Classification Report at Epoch {best_epoch}:\\n{report}\")\n",
    "\n",
    "    # Load the best model state\n",
    "    custom_mlp.load_state_dict(torch.load(checkpoint_path))\n",
    "\n",
    "    # Plot loss curve\n",
    "    plt.figure(figsize=(10, 5))\n",
    "    plt.plot(losses, label='Training Loss')\n",
    "    plt.xlabel('Epoch')\n",
    "    plt.ylabel('Loss')\n",
    "    plt.title('Training Loss Curve')\n",
    "    plt.legend()\n",
    "    plt.show()\n",
    "\n",
    "    print(f\"Final Model Accuracy: {best_accuracy * 100:.2f}%\")\n",
    "    print(f\"Final Model F1-score: {best_f1:.4f}\")\n",
    "    \n",
    "    return custom_mlp, losses, best_accuracy, best_f1\n"
   ]
  },
  {
   "cell_type": "code",
   "execution_count": 6,
   "metadata": {},
   "outputs": [
    {
     "name": "stderr",
     "output_type": "stream",
     "text": [
      "/home/guangwei/miniconda3/envs/zdh/lib/python3.12/site-packages/transformers/generation/configuration_utils.py:774: UserWarning: `return_dict_in_generate` is NOT set to `True`, but `output_hidden_states` is. When `return_dict_in_generate` is not `True`, `output_hidden_states` is ignored.\n",
      "  warnings.warn(\n",
      "Loading checkpoint shards: 100%|██████████| 2/2 [00:05<00:00,  2.60s/it]\n"
     ]
    }
   ],
   "source": [
    "tokenizer = AutoTokenizer.from_pretrained(model_name, model_max_length=512)\n",
    "model = AutoModelForCausalLM.from_pretrained(model_name, output_hidden_states=True)\n",
    "tokenizer.pad_token = tokenizer.eos_token\n",
    "bert_tokenizer = AutoTokenizer.from_pretrained('google-bert/bert-base-uncased')\n",
    "bert_model = AutoModel.from_pretrained('google-bert/bert-base-uncased')\n",
    "bert_tokenizer.pad_token = tokenizer.eos_token\n",
    "\n",
    "non_infringement_outputs, non_infringement_references, y_non_infringement, infringement_outputs, infringement_references, y_infringement = load_data(\n",
    "    non_infringement_file, infringement_file\n",
    ")\n",
    "\n",
    "y_non_infringement = np.array(y_non_infringement)\n",
    "y_infringement = np.array(y_infringement)\n"
   ]
  },
  {
   "cell_type": "code",
   "execution_count": 7,
   "metadata": {},
   "outputs": [
    {
     "name": "stdout",
     "output_type": "stream",
     "text": [
      "Extracting hidden states for non_infringement texts...\n"
     ]
    },
    {
     "name": "stderr",
     "output_type": "stream",
     "text": [
      "Processing data batches: 100%|██████████| 62/62 [00:10<00:00,  6.06it/s]\n"
     ]
    },
    {
     "name": "stdout",
     "output_type": "stream",
     "text": [
      "Extracting reference embeddings for non_infringement texts...\n"
     ]
    },
    {
     "name": "stderr",
     "output_type": "stream",
     "text": [
      "Processing references: 100%|██████████| 62/62 [00:01<00:00, 53.94it/s]\n"
     ]
    },
    {
     "name": "stdout",
     "output_type": "stream",
     "text": [
      "Extracting hidden states for infringement texts...\n"
     ]
    },
    {
     "name": "stderr",
     "output_type": "stream",
     "text": [
      "Processing data batches: 100%|██████████| 61/61 [00:09<00:00,  6.62it/s]\n"
     ]
    },
    {
     "name": "stdout",
     "output_type": "stream",
     "text": [
      "Extracting reference embeddings for infringement texts...\n"
     ]
    },
    {
     "name": "stderr",
     "output_type": "stream",
     "text": [
      "Processing references: 100%|██████████| 61/61 [00:00<00:00, 82.56it/s]\n"
     ]
    }
   ],
   "source": [
    "print(\"Extracting hidden states for non_infringement texts...\")\n",
    "X_non_infringement = extract_hidden_states(non_infringement_outputs, model, tokenizer)\n",
    "print(\"Extracting reference embeddings for non_infringement texts...\")\n",
    "reference_embeddings_non_infringement = extract_reference_embeddings(non_infringement_references, bert_model, bert_tokenizer)\n",
    "X_non_infringement_combined = np.hstack([X_non_infringement, reference_embeddings_non_infringement])\n",
    "\n",
    "print(\"Extracting hidden states for infringement texts...\")\n",
    "X_infringement = extract_hidden_states(infringement_outputs, model, tokenizer)\n",
    "print(\"Extracting reference embeddings for infringement texts...\")\n",
    "reference_embeddings_infringement = extract_reference_embeddings(infringement_references, bert_model, bert_tokenizer)\n",
    "X_infringement_combined = np.hstack([X_infringement, reference_embeddings_infringement])"
   ]
  },
  {
   "cell_type": "code",
   "execution_count": 8,
   "metadata": {},
   "outputs": [
    {
     "name": "stdout",
     "output_type": "stream",
     "text": [
      "Data successfully split into training and test sets.\n"
     ]
    }
   ],
   "source": [
    "split_index_non_infringement = int(0.8 * len(X_non_infringement_combined))\n",
    "X_non_infringement_train = X_non_infringement_combined[:split_index_non_infringement]\n",
    "X_non_infringement_test = X_non_infringement_combined[split_index_non_infringement:]\n",
    "y_non_infringement_train = y_non_infringement[:split_index_non_infringement]\n",
    "y_non_infringement_test = y_non_infringement[split_index_non_infringement:]\n",
    "\n",
    "split_index_infringement = int(0.8 * len(X_infringement_combined))\n",
    "X_infringement_train = X_infringement_combined[:split_index_infringement]\n",
    "X_infringement_test = X_infringement_combined[split_index_infringement:]\n",
    "y_infringement_train = y_infringement[:split_index_infringement]\n",
    "y_infringement_test = y_infringement[split_index_infringement:]\n",
    "\n",
    "X_train = np.vstack((X_non_infringement_train, X_infringement_train))\n",
    "X_test = np.vstack((X_non_infringement_test, X_infringement_test))\n",
    "y_train = np.concatenate((y_non_infringement_train, y_infringement_train))\n",
    "y_test = np.concatenate((y_non_infringement_test, y_infringement_test))\n",
    "\n",
    "print(\"Data successfully split into training and test sets.\")"
   ]
  },
  {
   "cell_type": "code",
   "execution_count": 9,
   "metadata": {},
   "outputs": [
    {
     "name": "stderr",
     "output_type": "stream",
     "text": [
      "Training Epochs:   0%|          | 9/2000 [00:01<02:38, 12.53it/s]"
     ]
    },
    {
     "name": "stdout",
     "output_type": "stream",
     "text": [
      "Epoch 10/2000, Loss: 0.2533\n",
      "Test Accuracy at Epoch 10: 96.94%\n",
      "Test F1-score at Epoch 10: 0.9703\n",
      "Classification Report at Epoch 10:\n",
      "                  precision    recall  f1-score   support\n",
      "\n",
      "    infringement       1.00      0.94      0.97        49\n",
      "non_infringement       0.94      1.00      0.97        49\n",
      "\n",
      "        accuracy                           0.97        98\n",
      "       macro avg       0.97      0.97      0.97        98\n",
      "    weighted avg       0.97      0.97      0.97        98\n",
      "\n",
      "New best model saved with F1-score 0.9703 at epoch 10\n",
      "Best Classification Report at Epoch 10:\n",
      "                  precision    recall  f1-score   support\n",
      "\n",
      "    infringement       1.00      0.94      0.97        49\n",
      "non_infringement       0.94      1.00      0.97        49\n",
      "\n",
      "        accuracy                           0.97        98\n",
      "       macro avg       0.97      0.97      0.97        98\n",
      "    weighted avg       0.97      0.97      0.97        98\n",
      "\n"
     ]
    },
    {
     "name": "stderr",
     "output_type": "stream",
     "text": [
      "Training Epochs:   1%|          | 22/2000 [00:02<02:10, 15.19it/s]"
     ]
    },
    {
     "name": "stdout",
     "output_type": "stream",
     "text": [
      "Epoch 20/2000, Loss: 0.1479\n",
      "Test Accuracy at Epoch 20: 97.96%\n",
      "Test F1-score at Epoch 20: 0.9800\n",
      "Classification Report at Epoch 20:\n",
      "                  precision    recall  f1-score   support\n",
      "\n",
      "    infringement       1.00      0.96      0.98        49\n",
      "non_infringement       0.96      1.00      0.98        49\n",
      "\n",
      "        accuracy                           0.98        98\n",
      "       macro avg       0.98      0.98      0.98        98\n",
      "    weighted avg       0.98      0.98      0.98        98\n",
      "\n",
      "New best model saved with F1-score 0.9800 at epoch 20\n",
      "Best Classification Report at Epoch 20:\n",
      "                  precision    recall  f1-score   support\n",
      "\n",
      "    infringement       1.00      0.96      0.98        49\n",
      "non_infringement       0.96      1.00      0.98        49\n",
      "\n",
      "        accuracy                           0.98        98\n",
      "       macro avg       0.98      0.98      0.98        98\n",
      "    weighted avg       0.98      0.98      0.98        98\n",
      "\n"
     ]
    },
    {
     "name": "stderr",
     "output_type": "stream",
     "text": [
      "Training Epochs:   1%|▏         | 29/2000 [00:02<02:38, 12.40it/s]"
     ]
    },
    {
     "name": "stdout",
     "output_type": "stream",
     "text": [
      "Epoch 30/2000, Loss: 0.1095\n",
      "Test Accuracy at Epoch 30: 98.98%\n",
      "Test F1-score at Epoch 30: 0.9899\n",
      "Classification Report at Epoch 30:\n",
      "                  precision    recall  f1-score   support\n",
      "\n",
      "    infringement       1.00      0.98      0.99        49\n",
      "non_infringement       0.98      1.00      0.99        49\n",
      "\n",
      "        accuracy                           0.99        98\n",
      "       macro avg       0.99      0.99      0.99        98\n",
      "    weighted avg       0.99      0.99      0.99        98\n",
      "\n",
      "New best model saved with F1-score 0.9899 at epoch 30\n",
      "Best Classification Report at Epoch 30:\n",
      "                  precision    recall  f1-score   support\n",
      "\n",
      "    infringement       1.00      0.98      0.99        49\n",
      "non_infringement       0.98      1.00      0.99        49\n",
      "\n",
      "        accuracy                           0.99        98\n",
      "       macro avg       0.99      0.99      0.99        98\n",
      "    weighted avg       0.99      0.99      0.99        98\n",
      "\n"
     ]
    },
    {
     "name": "stderr",
     "output_type": "stream",
     "text": [
      "Training Epochs:   2%|▏         | 47/2000 [00:05<02:35, 12.52it/s]"
     ]
    },
    {
     "name": "stdout",
     "output_type": "stream",
     "text": [
      "Epoch 40/2000, Loss: 0.0811\n",
      "Test Accuracy at Epoch 40: 98.98%\n",
      "Test F1-score at Epoch 40: 0.9899\n",
      "Classification Report at Epoch 40:\n",
      "                  precision    recall  f1-score   support\n",
      "\n",
      "    infringement       1.00      0.98      0.99        49\n",
      "non_infringement       0.98      1.00      0.99        49\n",
      "\n",
      "        accuracy                           0.99        98\n",
      "       macro avg       0.99      0.99      0.99        98\n",
      "    weighted avg       0.99      0.99      0.99        98\n",
      "\n"
     ]
    },
    {
     "name": "stderr",
     "output_type": "stream",
     "text": [
      "Training Epochs:   3%|▎         | 52/2000 [00:06<02:38, 12.33it/s]"
     ]
    },
    {
     "name": "stdout",
     "output_type": "stream",
     "text": [
      "Epoch 50/2000, Loss: 0.0725\n",
      "Test Accuracy at Epoch 50: 98.98%\n",
      "Test F1-score at Epoch 50: 0.9899\n",
      "Classification Report at Epoch 50:\n",
      "                  precision    recall  f1-score   support\n",
      "\n",
      "    infringement       1.00      0.98      0.99        49\n",
      "non_infringement       0.98      1.00      0.99        49\n",
      "\n",
      "        accuracy                           0.99        98\n",
      "       macro avg       0.99      0.99      0.99        98\n",
      "    weighted avg       0.99      0.99      0.99        98\n",
      "\n"
     ]
    },
    {
     "name": "stderr",
     "output_type": "stream",
     "text": [
      "Training Epochs:   3%|▎         | 64/2000 [00:06<01:35, 20.34it/s]"
     ]
    },
    {
     "name": "stdout",
     "output_type": "stream",
     "text": [
      "Epoch 60/2000, Loss: 0.0652\n",
      "Test Accuracy at Epoch 60: 97.96%\n",
      "Test F1-score at Epoch 60: 0.9800\n",
      "Classification Report at Epoch 60:\n",
      "                  precision    recall  f1-score   support\n",
      "\n",
      "    infringement       1.00      0.96      0.98        49\n",
      "non_infringement       0.96      1.00      0.98        49\n",
      "\n",
      "        accuracy                           0.98        98\n",
      "       macro avg       0.98      0.98      0.98        98\n",
      "    weighted avg       0.98      0.98      0.98        98\n",
      "\n"
     ]
    },
    {
     "name": "stderr",
     "output_type": "stream",
     "text": [
      "Training Epochs:   4%|▍         | 76/2000 [00:07<01:52, 17.05it/s]"
     ]
    },
    {
     "name": "stdout",
     "output_type": "stream",
     "text": [
      "Epoch 70/2000, Loss: 0.0557\n",
      "Test Accuracy at Epoch 70: 95.92%\n",
      "Test F1-score at Epoch 70: 0.9583\n",
      "Classification Report at Epoch 70:\n",
      "                  precision    recall  f1-score   support\n",
      "\n",
      "    infringement       0.94      0.98      0.96        49\n",
      "non_infringement       0.98      0.94      0.96        49\n",
      "\n",
      "        accuracy                           0.96        98\n",
      "       macro avg       0.96      0.96      0.96        98\n",
      "    weighted avg       0.96      0.96      0.96        98\n",
      "\n",
      "Epoch 80/2000, Loss: 0.0502\n",
      "Test Accuracy at Epoch 80: 95.92%\n",
      "Test F1-score at Epoch 80: 0.9583\n",
      "Classification Report at Epoch 80:\n",
      "                  precision    recall  f1-score   support\n",
      "\n",
      "    infringement       0.94      0.98      0.96        49\n",
      "non_infringement       0.98      0.94      0.96        49\n",
      "\n",
      "        accuracy                           0.96        98\n",
      "       macro avg       0.96      0.96      0.96        98\n",
      "    weighted avg       0.96      0.96      0.96        98\n",
      "\n"
     ]
    },
    {
     "name": "stderr",
     "output_type": "stream",
     "text": [
      "Training Epochs:   5%|▍         | 99/2000 [00:08<00:53, 35.31it/s]"
     ]
    },
    {
     "name": "stdout",
     "output_type": "stream",
     "text": [
      "Epoch 90/2000, Loss: 0.0479\n",
      "Test Accuracy at Epoch 90: 95.92%\n",
      "Test F1-score at Epoch 90: 0.9583\n",
      "Classification Report at Epoch 90:\n",
      "                  precision    recall  f1-score   support\n",
      "\n",
      "    infringement       0.94      0.98      0.96        49\n",
      "non_infringement       0.98      0.94      0.96        49\n",
      "\n",
      "        accuracy                           0.96        98\n",
      "       macro avg       0.96      0.96      0.96        98\n",
      "    weighted avg       0.96      0.96      0.96        98\n",
      "\n",
      "Epoch 100/2000, Loss: 0.0464\n",
      "Test Accuracy at Epoch 100: 94.90%\n",
      "Test F1-score at Epoch 100: 0.9485\n",
      "Classification Report at Epoch 100:\n",
      "                  precision    recall  f1-score   support\n",
      "\n",
      "    infringement       0.94      0.96      0.95        49\n",
      "non_infringement       0.96      0.94      0.95        49\n",
      "\n",
      "        accuracy                           0.95        98\n",
      "       macro avg       0.95      0.95      0.95        98\n",
      "    weighted avg       0.95      0.95      0.95        98\n",
      "\n"
     ]
    },
    {
     "name": "stderr",
     "output_type": "stream",
     "text": [
      "Training Epochs:   5%|▌         | 108/2000 [00:09<02:06, 14.90it/s]"
     ]
    },
    {
     "name": "stdout",
     "output_type": "stream",
     "text": [
      "Epoch 110/2000, Loss: 0.0449\n",
      "Test Accuracy at Epoch 110: 93.88%\n",
      "Test F1-score at Epoch 110: 0.9388\n",
      "Classification Report at Epoch 110:\n",
      "                  precision    recall  f1-score   support\n",
      "\n",
      "    infringement       0.94      0.94      0.94        49\n",
      "non_infringement       0.94      0.94      0.94        49\n",
      "\n",
      "        accuracy                           0.94        98\n",
      "       macro avg       0.94      0.94      0.94        98\n",
      "    weighted avg       0.94      0.94      0.94        98\n",
      "\n"
     ]
    },
    {
     "name": "stderr",
     "output_type": "stream",
     "text": [
      "Training Epochs:   6%|▌         | 121/2000 [00:11<03:45,  8.32it/s]"
     ]
    },
    {
     "name": "stdout",
     "output_type": "stream",
     "text": [
      "Epoch 120/2000, Loss: 0.0429\n",
      "Test Accuracy at Epoch 120: 93.88%\n",
      "Test F1-score at Epoch 120: 0.9388\n",
      "Classification Report at Epoch 120:\n",
      "                  precision    recall  f1-score   support\n",
      "\n",
      "    infringement       0.94      0.94      0.94        49\n",
      "non_infringement       0.94      0.94      0.94        49\n",
      "\n",
      "        accuracy                           0.94        98\n",
      "       macro avg       0.94      0.94      0.94        98\n",
      "    weighted avg       0.94      0.94      0.94        98\n",
      "\n"
     ]
    },
    {
     "name": "stderr",
     "output_type": "stream",
     "text": [
      "Training Epochs:   7%|▋         | 132/2000 [00:11<01:42, 18.18it/s]"
     ]
    },
    {
     "name": "stdout",
     "output_type": "stream",
     "text": [
      "Epoch 130/2000, Loss: 0.0432\n",
      "Test Accuracy at Epoch 130: 94.90%\n",
      "Test F1-score at Epoch 130: 0.9485\n",
      "Classification Report at Epoch 130:\n",
      "                  precision    recall  f1-score   support\n",
      "\n",
      "    infringement       0.94      0.96      0.95        49\n",
      "non_infringement       0.96      0.94      0.95        49\n",
      "\n",
      "        accuracy                           0.95        98\n",
      "       macro avg       0.95      0.95      0.95        98\n",
      "    weighted avg       0.95      0.95      0.95        98\n",
      "\n"
     ]
    },
    {
     "name": "stderr",
     "output_type": "stream",
     "text": [
      "Training Epochs:   7%|▋         | 136/2000 [00:12<01:44, 17.82it/s]"
     ]
    },
    {
     "name": "stdout",
     "output_type": "stream",
     "text": [
      "Epoch 140/2000, Loss: 0.0451\n",
      "Test Accuracy at Epoch 140: 98.98%\n",
      "Test F1-score at Epoch 140: 0.9899\n",
      "Classification Report at Epoch 140:\n",
      "                  precision    recall  f1-score   support\n",
      "\n",
      "    infringement       1.00      0.98      0.99        49\n",
      "non_infringement       0.98      1.00      0.99        49\n",
      "\n",
      "        accuracy                           0.99        98\n",
      "       macro avg       0.99      0.99      0.99        98\n",
      "    weighted avg       0.99      0.99      0.99        98\n",
      "\n"
     ]
    },
    {
     "name": "stderr",
     "output_type": "stream",
     "text": [
      "Training Epochs:   8%|▊         | 150/2000 [00:12<01:33, 19.80it/s]"
     ]
    },
    {
     "name": "stdout",
     "output_type": "stream",
     "text": [
      "Epoch 150/2000, Loss: 0.0448\n",
      "Test Accuracy at Epoch 150: 98.98%\n",
      "Test F1-score at Epoch 150: 0.9899\n",
      "Classification Report at Epoch 150:\n",
      "                  precision    recall  f1-score   support\n",
      "\n",
      "    infringement       1.00      0.98      0.99        49\n",
      "non_infringement       0.98      1.00      0.99        49\n",
      "\n",
      "        accuracy                           0.99        98\n",
      "       macro avg       0.99      0.99      0.99        98\n",
      "    weighted avg       0.99      0.99      0.99        98\n",
      "\n"
     ]
    },
    {
     "name": "stderr",
     "output_type": "stream",
     "text": [
      "Training Epochs:   9%|▊         | 174/2000 [00:14<01:02, 29.22it/s]"
     ]
    },
    {
     "name": "stdout",
     "output_type": "stream",
     "text": [
      "Epoch 160/2000, Loss: 0.0443\n",
      "Test Accuracy at Epoch 160: 98.98%\n",
      "Test F1-score at Epoch 160: 0.9899\n",
      "Classification Report at Epoch 160:\n",
      "                  precision    recall  f1-score   support\n",
      "\n",
      "    infringement       1.00      0.98      0.99        49\n",
      "non_infringement       0.98      1.00      0.99        49\n",
      "\n",
      "        accuracy                           0.99        98\n",
      "       macro avg       0.99      0.99      0.99        98\n",
      "    weighted avg       0.99      0.99      0.99        98\n",
      "\n",
      "Epoch 170/2000, Loss: 0.0433\n",
      "Test Accuracy at Epoch 170: 98.98%\n",
      "Test F1-score at Epoch 170: 0.9899\n",
      "Classification Report at Epoch 170:\n",
      "                  precision    recall  f1-score   support\n",
      "\n",
      "    infringement       1.00      0.98      0.99        49\n",
      "non_infringement       0.98      1.00      0.99        49\n",
      "\n",
      "        accuracy                           0.99        98\n",
      "       macro avg       0.99      0.99      0.99        98\n",
      "    weighted avg       0.99      0.99      0.99        98\n",
      "\n"
     ]
    },
    {
     "name": "stderr",
     "output_type": "stream",
     "text": [
      "Training Epochs:   9%|▉         | 182/2000 [00:14<00:48, 37.67it/s]"
     ]
    },
    {
     "name": "stdout",
     "output_type": "stream",
     "text": [
      "Epoch 180/2000, Loss: 0.0438\n",
      "Test Accuracy at Epoch 180: 95.92%\n",
      "Test F1-score at Epoch 180: 0.9583\n",
      "Classification Report at Epoch 180:\n",
      "                  precision    recall  f1-score   support\n",
      "\n",
      "    infringement       0.94      0.98      0.96        49\n",
      "non_infringement       0.98      0.94      0.96        49\n",
      "\n",
      "        accuracy                           0.96        98\n",
      "       macro avg       0.96      0.96      0.96        98\n",
      "    weighted avg       0.96      0.96      0.96        98\n",
      "\n"
     ]
    },
    {
     "name": "stderr",
     "output_type": "stream",
     "text": [
      "Training Epochs:  10%|▉         | 192/2000 [00:16<03:20,  9.00it/s]"
     ]
    },
    {
     "name": "stdout",
     "output_type": "stream",
     "text": [
      "Epoch 190/2000, Loss: 0.0435\n",
      "Test Accuracy at Epoch 190: 95.92%\n",
      "Test F1-score at Epoch 190: 0.9583\n",
      "Classification Report at Epoch 190:\n",
      "                  precision    recall  f1-score   support\n",
      "\n",
      "    infringement       0.94      0.98      0.96        49\n",
      "non_infringement       0.98      0.94      0.96        49\n",
      "\n",
      "        accuracy                           0.96        98\n",
      "       macro avg       0.96      0.96      0.96        98\n",
      "    weighted avg       0.96      0.96      0.96        98\n",
      "\n"
     ]
    },
    {
     "name": "stderr",
     "output_type": "stream",
     "text": [
      "Training Epochs:  10%|█         | 206/2000 [00:17<02:33, 11.68it/s]"
     ]
    },
    {
     "name": "stdout",
     "output_type": "stream",
     "text": [
      "Epoch 200/2000, Loss: 0.0434\n",
      "Test Accuracy at Epoch 200: 95.92%\n",
      "Test F1-score at Epoch 200: 0.9583\n",
      "Classification Report at Epoch 200:\n",
      "                  precision    recall  f1-score   support\n",
      "\n",
      "    infringement       0.94      0.98      0.96        49\n",
      "non_infringement       0.98      0.94      0.96        49\n",
      "\n",
      "        accuracy                           0.96        98\n",
      "       macro avg       0.96      0.96      0.96        98\n",
      "    weighted avg       0.96      0.96      0.96        98\n",
      "\n"
     ]
    },
    {
     "name": "stderr",
     "output_type": "stream",
     "text": [
      "Training Epochs:  11%|█         | 212/2000 [00:18<03:14,  9.21it/s]"
     ]
    },
    {
     "name": "stdout",
     "output_type": "stream",
     "text": [
      "Epoch 210/2000, Loss: 0.0432\n",
      "Test Accuracy at Epoch 210: 95.92%\n",
      "Test F1-score at Epoch 210: 0.9583\n",
      "Classification Report at Epoch 210:\n",
      "                  precision    recall  f1-score   support\n",
      "\n",
      "    infringement       0.94      0.98      0.96        49\n",
      "non_infringement       0.98      0.94      0.96        49\n",
      "\n",
      "        accuracy                           0.96        98\n",
      "       macro avg       0.96      0.96      0.96        98\n",
      "    weighted avg       0.96      0.96      0.96        98\n",
      "\n"
     ]
    },
    {
     "name": "stderr",
     "output_type": "stream",
     "text": [
      "Training Epochs:  11%|█         | 219/2000 [00:18<01:59, 14.93it/s]"
     ]
    },
    {
     "name": "stdout",
     "output_type": "stream",
     "text": [
      "Epoch 220/2000, Loss: 0.0432\n",
      "Test Accuracy at Epoch 220: 95.92%\n",
      "Test F1-score at Epoch 220: 0.9583\n",
      "Classification Report at Epoch 220:\n",
      "                  precision    recall  f1-score   support\n",
      "\n",
      "    infringement       0.94      0.98      0.96        49\n",
      "non_infringement       0.98      0.94      0.96        49\n",
      "\n",
      "        accuracy                           0.96        98\n",
      "       macro avg       0.96      0.96      0.96        98\n",
      "    weighted avg       0.96      0.96      0.96        98\n",
      "\n"
     ]
    },
    {
     "name": "stderr",
     "output_type": "stream",
     "text": [
      "Training Epochs:  12%|█▏        | 237/2000 [00:19<01:25, 20.64it/s]"
     ]
    },
    {
     "name": "stdout",
     "output_type": "stream",
     "text": [
      "Epoch 230/2000, Loss: 0.0431\n",
      "Test Accuracy at Epoch 230: 95.92%\n",
      "Test F1-score at Epoch 230: 0.9583\n",
      "Classification Report at Epoch 230:\n",
      "                  precision    recall  f1-score   support\n",
      "\n",
      "    infringement       0.94      0.98      0.96        49\n",
      "non_infringement       0.98      0.94      0.96        49\n",
      "\n",
      "        accuracy                           0.96        98\n",
      "       macro avg       0.96      0.96      0.96        98\n",
      "    weighted avg       0.96      0.96      0.96        98\n",
      "\n"
     ]
    },
    {
     "name": "stderr",
     "output_type": "stream",
     "text": [
      "Training Epochs:  12%|█▏        | 245/2000 [00:20<01:11, 24.40it/s]"
     ]
    },
    {
     "name": "stdout",
     "output_type": "stream",
     "text": [
      "Epoch 240/2000, Loss: 0.0431\n",
      "Test Accuracy at Epoch 240: 95.92%\n",
      "Test F1-score at Epoch 240: 0.9583\n",
      "Classification Report at Epoch 240:\n",
      "                  precision    recall  f1-score   support\n",
      "\n",
      "    infringement       0.94      0.98      0.96        49\n",
      "non_infringement       0.98      0.94      0.96        49\n",
      "\n",
      "        accuracy                           0.96        98\n",
      "       macro avg       0.96      0.96      0.96        98\n",
      "    weighted avg       0.96      0.96      0.96        98\n",
      "\n"
     ]
    },
    {
     "name": "stderr",
     "output_type": "stream",
     "text": [
      "Training Epochs:  12%|█▏        | 249/2000 [00:20<02:36, 11.17it/s]"
     ]
    },
    {
     "name": "stdout",
     "output_type": "stream",
     "text": [
      "Epoch 250/2000, Loss: 0.0431\n",
      "Test Accuracy at Epoch 250: 95.92%\n",
      "Test F1-score at Epoch 250: 0.9583\n",
      "Classification Report at Epoch 250:\n",
      "                  precision    recall  f1-score   support\n",
      "\n",
      "    infringement       0.94      0.98      0.96        49\n",
      "non_infringement       0.98      0.94      0.96        49\n",
      "\n",
      "        accuracy                           0.96        98\n",
      "       macro avg       0.96      0.96      0.96        98\n",
      "    weighted avg       0.96      0.96      0.96        98\n",
      "\n"
     ]
    },
    {
     "name": "stderr",
     "output_type": "stream",
     "text": [
      "Training Epochs:  13%|█▎        | 260/2000 [00:24<08:33,  3.39it/s]"
     ]
    },
    {
     "name": "stdout",
     "output_type": "stream",
     "text": [
      "Epoch 260/2000, Loss: 0.0430\n",
      "Test Accuracy at Epoch 260: 95.92%\n",
      "Test F1-score at Epoch 260: 0.9583\n",
      "Classification Report at Epoch 260:\n",
      "                  precision    recall  f1-score   support\n",
      "\n",
      "    infringement       0.94      0.98      0.96        49\n",
      "non_infringement       0.98      0.94      0.96        49\n",
      "\n",
      "        accuracy                           0.96        98\n",
      "       macro avg       0.96      0.96      0.96        98\n",
      "    weighted avg       0.96      0.96      0.96        98\n",
      "\n"
     ]
    },
    {
     "name": "stderr",
     "output_type": "stream",
     "text": [
      "Training Epochs:  14%|█▎        | 270/2000 [00:28<08:19,  3.46it/s]"
     ]
    },
    {
     "name": "stdout",
     "output_type": "stream",
     "text": [
      "Epoch 270/2000, Loss: 0.0430\n",
      "Test Accuracy at Epoch 270: 95.92%\n",
      "Test F1-score at Epoch 270: 0.9583\n",
      "Classification Report at Epoch 270:\n",
      "                  precision    recall  f1-score   support\n",
      "\n",
      "    infringement       0.94      0.98      0.96        49\n",
      "non_infringement       0.98      0.94      0.96        49\n",
      "\n",
      "        accuracy                           0.96        98\n",
      "       macro avg       0.96      0.96      0.96        98\n",
      "    weighted avg       0.96      0.96      0.96        98\n",
      "\n"
     ]
    },
    {
     "name": "stderr",
     "output_type": "stream",
     "text": [
      "Training Epochs:  14%|█▍        | 288/2000 [00:31<02:31, 11.31it/s]"
     ]
    },
    {
     "name": "stdout",
     "output_type": "stream",
     "text": [
      "Epoch 280/2000, Loss: 0.0436\n",
      "Test Accuracy at Epoch 280: 95.92%\n",
      "Test F1-score at Epoch 280: 0.9583\n",
      "Classification Report at Epoch 280:\n",
      "                  precision    recall  f1-score   support\n",
      "\n",
      "    infringement       0.94      0.98      0.96        49\n",
      "non_infringement       0.98      0.94      0.96        49\n",
      "\n",
      "        accuracy                           0.96        98\n",
      "       macro avg       0.96      0.96      0.96        98\n",
      "    weighted avg       0.96      0.96      0.96        98\n",
      "\n",
      "Epoch 290/2000, Loss: 0.0430\n",
      "Test Accuracy at Epoch 290: 95.92%\n",
      "Test F1-score at Epoch 290: 0.9583\n",
      "Classification Report at Epoch 290:\n",
      "                  precision    recall  f1-score   support\n",
      "\n",
      "    infringement       0.94      0.98      0.96        49\n",
      "non_infringement       0.98      0.94      0.96        49\n",
      "\n",
      "        accuracy                           0.96        98\n",
      "       macro avg       0.96      0.96      0.96        98\n",
      "    weighted avg       0.96      0.96      0.96        98\n",
      "\n"
     ]
    },
    {
     "name": "stderr",
     "output_type": "stream",
     "text": [
      "Training Epochs:  15%|█▌        | 309/2000 [00:31<00:48, 35.16it/s]"
     ]
    },
    {
     "name": "stdout",
     "output_type": "stream",
     "text": [
      "Epoch 300/2000, Loss: 0.0430\n",
      "Test Accuracy at Epoch 300: 95.92%\n",
      "Test F1-score at Epoch 300: 0.9583\n",
      "Classification Report at Epoch 300:\n",
      "                  precision    recall  f1-score   support\n",
      "\n",
      "    infringement       0.94      0.98      0.96        49\n",
      "non_infringement       0.98      0.94      0.96        49\n",
      "\n",
      "        accuracy                           0.96        98\n",
      "       macro avg       0.96      0.96      0.96        98\n",
      "    weighted avg       0.96      0.96      0.96        98\n",
      "\n",
      "Epoch 310/2000, Loss: 0.0430\n",
      "Test Accuracy at Epoch 310: 95.92%\n",
      "Test F1-score at Epoch 310: 0.9583\n",
      "Classification Report at Epoch 310:\n",
      "                  precision    recall  f1-score   support\n",
      "\n",
      "    infringement       0.94      0.98      0.96        49\n",
      "non_infringement       0.98      0.94      0.96        49\n",
      "\n",
      "        accuracy                           0.96        98\n",
      "       macro avg       0.96      0.96      0.96        98\n",
      "    weighted avg       0.96      0.96      0.96        98\n",
      "\n"
     ]
    },
    {
     "name": "stderr",
     "output_type": "stream",
     "text": [
      "Training Epochs:  16%|█▌        | 320/2000 [00:33<03:44,  7.48it/s]"
     ]
    },
    {
     "name": "stdout",
     "output_type": "stream",
     "text": [
      "Epoch 320/2000, Loss: 0.0430\n",
      "Test Accuracy at Epoch 320: 95.92%\n",
      "Test F1-score at Epoch 320: 0.9583\n",
      "Classification Report at Epoch 320:\n",
      "                  precision    recall  f1-score   support\n",
      "\n",
      "    infringement       0.94      0.98      0.96        49\n",
      "non_infringement       0.98      0.94      0.96        49\n",
      "\n",
      "        accuracy                           0.96        98\n",
      "       macro avg       0.96      0.96      0.96        98\n",
      "    weighted avg       0.96      0.96      0.96        98\n",
      "\n"
     ]
    },
    {
     "name": "stderr",
     "output_type": "stream",
     "text": [
      "Training Epochs:  17%|█▋        | 335/2000 [00:37<04:16,  6.48it/s]"
     ]
    },
    {
     "name": "stdout",
     "output_type": "stream",
     "text": [
      "Epoch 330/2000, Loss: 0.0431\n",
      "Test Accuracy at Epoch 330: 95.92%\n",
      "Test F1-score at Epoch 330: 0.9583\n",
      "Classification Report at Epoch 330:\n",
      "                  precision    recall  f1-score   support\n",
      "\n",
      "    infringement       0.94      0.98      0.96        49\n",
      "non_infringement       0.98      0.94      0.96        49\n",
      "\n",
      "        accuracy                           0.96        98\n",
      "       macro avg       0.96      0.96      0.96        98\n",
      "    weighted avg       0.96      0.96      0.96        98\n",
      "\n",
      "Epoch 340/2000, Loss: 0.0430\n"
     ]
    },
    {
     "name": "stderr",
     "output_type": "stream",
     "text": [
      "Training Epochs:  17%|█▋        | 347/2000 [00:37<02:03, 13.38it/s]"
     ]
    },
    {
     "name": "stdout",
     "output_type": "stream",
     "text": [
      "Test Accuracy at Epoch 340: 95.92%\n",
      "Test F1-score at Epoch 340: 0.9583\n",
      "Classification Report at Epoch 340:\n",
      "                  precision    recall  f1-score   support\n",
      "\n",
      "    infringement       0.94      0.98      0.96        49\n",
      "non_infringement       0.98      0.94      0.96        49\n",
      "\n",
      "        accuracy                           0.96        98\n",
      "       macro avg       0.96      0.96      0.96        98\n",
      "    weighted avg       0.96      0.96      0.96        98\n",
      "\n"
     ]
    },
    {
     "name": "stderr",
     "output_type": "stream",
     "text": [
      "Training Epochs:  18%|█▊        | 351/2000 [00:38<02:52,  9.55it/s]"
     ]
    },
    {
     "name": "stdout",
     "output_type": "stream",
     "text": [
      "Epoch 350/2000, Loss: 0.0431\n",
      "Test Accuracy at Epoch 350: 95.92%\n",
      "Test F1-score at Epoch 350: 0.9583\n",
      "Classification Report at Epoch 350:\n",
      "                  precision    recall  f1-score   support\n",
      "\n",
      "    infringement       0.94      0.98      0.96        49\n",
      "non_infringement       0.98      0.94      0.96        49\n",
      "\n",
      "        accuracy                           0.96        98\n",
      "       macro avg       0.96      0.96      0.96        98\n",
      "    weighted avg       0.96      0.96      0.96        98\n",
      "\n"
     ]
    },
    {
     "name": "stderr",
     "output_type": "stream",
     "text": [
      "Training Epochs:  18%|█▊        | 359/2000 [00:41<06:31,  4.19it/s]"
     ]
    },
    {
     "name": "stdout",
     "output_type": "stream",
     "text": [
      "Epoch 360/2000, Loss: 0.0430\n",
      "Test Accuracy at Epoch 360: 95.92%\n",
      "Test F1-score at Epoch 360: 0.9583\n",
      "Classification Report at Epoch 360:\n",
      "                  precision    recall  f1-score   support\n",
      "\n",
      "    infringement       0.94      0.98      0.96        49\n",
      "non_infringement       0.98      0.94      0.96        49\n",
      "\n",
      "        accuracy                           0.96        98\n",
      "       macro avg       0.96      0.96      0.96        98\n",
      "    weighted avg       0.96      0.96      0.96        98\n",
      "\n"
     ]
    },
    {
     "name": "stderr",
     "output_type": "stream",
     "text": [
      "Training Epochs:  19%|█▉        | 380/2000 [00:43<01:39, 16.28it/s]"
     ]
    },
    {
     "name": "stdout",
     "output_type": "stream",
     "text": [
      "Epoch 370/2000, Loss: 0.0432\n",
      "Test Accuracy at Epoch 370: 95.92%\n",
      "Test F1-score at Epoch 370: 0.9583\n",
      "Classification Report at Epoch 370:\n",
      "                  precision    recall  f1-score   support\n",
      "\n",
      "    infringement       0.94      0.98      0.96        49\n",
      "non_infringement       0.98      0.94      0.96        49\n",
      "\n",
      "        accuracy                           0.96        98\n",
      "       macro avg       0.96      0.96      0.96        98\n",
      "    weighted avg       0.96      0.96      0.96        98\n",
      "\n",
      "Epoch 380/2000, Loss: 0.0429\n",
      "Test Accuracy at Epoch 380: 95.92%\n",
      "Test F1-score at Epoch 380: 0.9583\n",
      "Classification Report at Epoch 380:\n",
      "                  precision    recall  f1-score   support\n",
      "\n",
      "    infringement       0.94      0.98      0.96        49\n",
      "non_infringement       0.98      0.94      0.96        49\n",
      "\n",
      "        accuracy                           0.96        98\n",
      "       macro avg       0.96      0.96      0.96        98\n",
      "    weighted avg       0.96      0.96      0.96        98\n",
      "\n"
     ]
    },
    {
     "name": "stderr",
     "output_type": "stream",
     "text": [
      "Training Epochs:  19%|█▉        | 387/2000 [00:43<01:10, 22.88it/s]"
     ]
    },
    {
     "name": "stdout",
     "output_type": "stream",
     "text": [
      "Epoch 390/2000, Loss: 0.0431\n",
      "Test Accuracy at Epoch 390: 95.92%\n",
      "Test F1-score at Epoch 390: 0.9583\n",
      "Classification Report at Epoch 390:\n",
      "                  precision    recall  f1-score   support\n",
      "\n",
      "    infringement       0.94      0.98      0.96        49\n",
      "non_infringement       0.98      0.94      0.96        49\n",
      "\n",
      "        accuracy                           0.96        98\n",
      "       macro avg       0.96      0.96      0.96        98\n",
      "    weighted avg       0.96      0.96      0.96        98\n",
      "\n"
     ]
    },
    {
     "name": "stderr",
     "output_type": "stream",
     "text": [
      "Training Epochs:  20%|█▉        | 399/2000 [00:46<04:54,  5.44it/s]"
     ]
    },
    {
     "name": "stdout",
     "output_type": "stream",
     "text": [
      "Epoch 400/2000, Loss: 0.0429\n",
      "Test Accuracy at Epoch 400: 95.92%\n",
      "Test F1-score at Epoch 400: 0.9583\n",
      "Classification Report at Epoch 400:\n",
      "                  precision    recall  f1-score   support\n",
      "\n",
      "    infringement       0.94      0.98      0.96        49\n",
      "non_infringement       0.98      0.94      0.96        49\n",
      "\n",
      "        accuracy                           0.96        98\n",
      "       macro avg       0.96      0.96      0.96        98\n",
      "    weighted avg       0.96      0.96      0.96        98\n",
      "\n"
     ]
    },
    {
     "name": "stderr",
     "output_type": "stream",
     "text": [
      "Training Epochs:  20%|██        | 410/2000 [00:50<09:25,  2.81it/s]"
     ]
    },
    {
     "name": "stdout",
     "output_type": "stream",
     "text": [
      "Epoch 410/2000, Loss: 0.0429\n",
      "Test Accuracy at Epoch 410: 95.92%\n",
      "Test F1-score at Epoch 410: 0.9583\n",
      "Classification Report at Epoch 410:\n",
      "                  precision    recall  f1-score   support\n",
      "\n",
      "    infringement       0.94      0.98      0.96        49\n",
      "non_infringement       0.98      0.94      0.96        49\n",
      "\n",
      "        accuracy                           0.96        98\n",
      "       macro avg       0.96      0.96      0.96        98\n",
      "    weighted avg       0.96      0.96      0.96        98\n",
      "\n"
     ]
    },
    {
     "name": "stderr",
     "output_type": "stream",
     "text": [
      "Training Epochs:  21%|██        | 420/2000 [00:54<10:45,  2.45it/s]"
     ]
    },
    {
     "name": "stdout",
     "output_type": "stream",
     "text": [
      "Epoch 420/2000, Loss: 0.0431\n",
      "Test Accuracy at Epoch 420: 95.92%\n",
      "Test F1-score at Epoch 420: 0.9583\n",
      "Classification Report at Epoch 420:\n",
      "                  precision    recall  f1-score   support\n",
      "\n",
      "    infringement       0.94      0.98      0.96        49\n",
      "non_infringement       0.98      0.94      0.96        49\n",
      "\n",
      "        accuracy                           0.96        98\n",
      "       macro avg       0.96      0.96      0.96        98\n",
      "    weighted avg       0.96      0.96      0.96        98\n",
      "\n"
     ]
    },
    {
     "name": "stderr",
     "output_type": "stream",
     "text": [
      "Training Epochs:  22%|██▏       | 430/2000 [00:58<10:46,  2.43it/s]"
     ]
    },
    {
     "name": "stdout",
     "output_type": "stream",
     "text": [
      "Epoch 430/2000, Loss: 0.0430\n",
      "Test Accuracy at Epoch 430: 95.92%\n",
      "Test F1-score at Epoch 430: 0.9583\n",
      "Classification Report at Epoch 430:\n",
      "                  precision    recall  f1-score   support\n",
      "\n",
      "    infringement       0.94      0.98      0.96        49\n",
      "non_infringement       0.98      0.94      0.96        49\n",
      "\n",
      "        accuracy                           0.96        98\n",
      "       macro avg       0.96      0.96      0.96        98\n",
      "    weighted avg       0.96      0.96      0.96        98\n",
      "\n"
     ]
    },
    {
     "name": "stderr",
     "output_type": "stream",
     "text": [
      "Training Epochs:  22%|██▏       | 440/2000 [01:02<10:14,  2.54it/s]"
     ]
    },
    {
     "name": "stdout",
     "output_type": "stream",
     "text": [
      "Epoch 440/2000, Loss: 0.0431\n",
      "Test Accuracy at Epoch 440: 95.92%\n",
      "Test F1-score at Epoch 440: 0.9583\n",
      "Classification Report at Epoch 440:\n",
      "                  precision    recall  f1-score   support\n",
      "\n",
      "    infringement       0.94      0.98      0.96        49\n",
      "non_infringement       0.98      0.94      0.96        49\n",
      "\n",
      "        accuracy                           0.96        98\n",
      "       macro avg       0.96      0.96      0.96        98\n",
      "    weighted avg       0.96      0.96      0.96        98\n",
      "\n"
     ]
    },
    {
     "name": "stderr",
     "output_type": "stream",
     "text": [
      "Training Epochs:  22%|██▎       | 450/2000 [01:06<10:41,  2.42it/s]"
     ]
    },
    {
     "name": "stdout",
     "output_type": "stream",
     "text": [
      "Epoch 450/2000, Loss: 0.0429\n",
      "Test Accuracy at Epoch 450: 95.92%\n",
      "Test F1-score at Epoch 450: 0.9583\n",
      "Classification Report at Epoch 450:\n",
      "                  precision    recall  f1-score   support\n",
      "\n",
      "    infringement       0.94      0.98      0.96        49\n",
      "non_infringement       0.98      0.94      0.96        49\n",
      "\n",
      "        accuracy                           0.96        98\n",
      "       macro avg       0.96      0.96      0.96        98\n",
      "    weighted avg       0.96      0.96      0.96        98\n",
      "\n"
     ]
    },
    {
     "name": "stderr",
     "output_type": "stream",
     "text": [
      "Training Epochs:  23%|██▎       | 460/2000 [01:10<10:40,  2.40it/s]"
     ]
    },
    {
     "name": "stdout",
     "output_type": "stream",
     "text": [
      "Epoch 460/2000, Loss: 0.0429\n",
      "Test Accuracy at Epoch 460: 95.92%\n",
      "Test F1-score at Epoch 460: 0.9583\n",
      "Classification Report at Epoch 460:\n",
      "                  precision    recall  f1-score   support\n",
      "\n",
      "    infringement       0.94      0.98      0.96        49\n",
      "non_infringement       0.98      0.94      0.96        49\n",
      "\n",
      "        accuracy                           0.96        98\n",
      "       macro avg       0.96      0.96      0.96        98\n",
      "    weighted avg       0.96      0.96      0.96        98\n",
      "\n"
     ]
    },
    {
     "name": "stderr",
     "output_type": "stream",
     "text": [
      "Training Epochs:  24%|██▎       | 470/2000 [01:14<10:37,  2.40it/s]"
     ]
    },
    {
     "name": "stdout",
     "output_type": "stream",
     "text": [
      "Epoch 470/2000, Loss: 0.0435\n",
      "Test Accuracy at Epoch 470: 95.92%\n",
      "Test F1-score at Epoch 470: 0.9583\n",
      "Classification Report at Epoch 470:\n",
      "                  precision    recall  f1-score   support\n",
      "\n",
      "    infringement       0.94      0.98      0.96        49\n",
      "non_infringement       0.98      0.94      0.96        49\n",
      "\n",
      "        accuracy                           0.96        98\n",
      "       macro avg       0.96      0.96      0.96        98\n",
      "    weighted avg       0.96      0.96      0.96        98\n",
      "\n"
     ]
    },
    {
     "name": "stderr",
     "output_type": "stream",
     "text": [
      "Training Epochs:  24%|██▍       | 480/2000 [01:18<10:18,  2.46it/s]"
     ]
    },
    {
     "name": "stdout",
     "output_type": "stream",
     "text": [
      "Epoch 480/2000, Loss: 0.0431\n",
      "Test Accuracy at Epoch 480: 94.90%\n",
      "Test F1-score at Epoch 480: 0.9485\n",
      "Classification Report at Epoch 480:\n",
      "                  precision    recall  f1-score   support\n",
      "\n",
      "    infringement       0.94      0.96      0.95        49\n",
      "non_infringement       0.96      0.94      0.95        49\n",
      "\n",
      "        accuracy                           0.95        98\n",
      "       macro avg       0.95      0.95      0.95        98\n",
      "    weighted avg       0.95      0.95      0.95        98\n",
      "\n"
     ]
    },
    {
     "name": "stderr",
     "output_type": "stream",
     "text": [
      "Training Epochs:  24%|██▍       | 490/2000 [01:22<10:57,  2.30it/s]"
     ]
    },
    {
     "name": "stdout",
     "output_type": "stream",
     "text": [
      "Epoch 490/2000, Loss: 0.0429\n",
      "Test Accuracy at Epoch 490: 97.96%\n",
      "Test F1-score at Epoch 490: 0.9800\n",
      "Classification Report at Epoch 490:\n",
      "                  precision    recall  f1-score   support\n",
      "\n",
      "    infringement       1.00      0.96      0.98        49\n",
      "non_infringement       0.96      1.00      0.98        49\n",
      "\n",
      "        accuracy                           0.98        98\n",
      "       macro avg       0.98      0.98      0.98        98\n",
      "    weighted avg       0.98      0.98      0.98        98\n",
      "\n"
     ]
    },
    {
     "name": "stderr",
     "output_type": "stream",
     "text": [
      "Training Epochs:  25%|██▌       | 500/2000 [01:26<10:03,  2.48it/s]"
     ]
    },
    {
     "name": "stdout",
     "output_type": "stream",
     "text": [
      "Epoch 500/2000, Loss: 0.0426\n",
      "Test Accuracy at Epoch 500: 97.96%\n",
      "Test F1-score at Epoch 500: 0.9800\n",
      "Classification Report at Epoch 500:\n",
      "                  precision    recall  f1-score   support\n",
      "\n",
      "    infringement       1.00      0.96      0.98        49\n",
      "non_infringement       0.96      1.00      0.98        49\n",
      "\n",
      "        accuracy                           0.98        98\n",
      "       macro avg       0.98      0.98      0.98        98\n",
      "    weighted avg       0.98      0.98      0.98        98\n",
      "\n"
     ]
    },
    {
     "name": "stderr",
     "output_type": "stream",
     "text": [
      "Training Epochs:  26%|██▌       | 510/2000 [01:30<10:26,  2.38it/s]"
     ]
    },
    {
     "name": "stdout",
     "output_type": "stream",
     "text": [
      "Epoch 510/2000, Loss: 0.0433\n",
      "Test Accuracy at Epoch 510: 95.92%\n",
      "Test F1-score at Epoch 510: 0.9583\n",
      "Classification Report at Epoch 510:\n",
      "                  precision    recall  f1-score   support\n",
      "\n",
      "    infringement       0.94      0.98      0.96        49\n",
      "non_infringement       0.98      0.94      0.96        49\n",
      "\n",
      "        accuracy                           0.96        98\n",
      "       macro avg       0.96      0.96      0.96        98\n",
      "    weighted avg       0.96      0.96      0.96        98\n",
      "\n"
     ]
    },
    {
     "name": "stderr",
     "output_type": "stream",
     "text": [
      "Training Epochs:  26%|██▌       | 520/2000 [01:34<09:59,  2.47it/s]"
     ]
    },
    {
     "name": "stdout",
     "output_type": "stream",
     "text": [
      "Epoch 520/2000, Loss: 0.0430\n",
      "Test Accuracy at Epoch 520: 95.92%\n",
      "Test F1-score at Epoch 520: 0.9583\n",
      "Classification Report at Epoch 520:\n",
      "                  precision    recall  f1-score   support\n",
      "\n",
      "    infringement       0.94      0.98      0.96        49\n",
      "non_infringement       0.98      0.94      0.96        49\n",
      "\n",
      "        accuracy                           0.96        98\n",
      "       macro avg       0.96      0.96      0.96        98\n",
      "    weighted avg       0.96      0.96      0.96        98\n",
      "\n"
     ]
    },
    {
     "name": "stderr",
     "output_type": "stream",
     "text": [
      "Training Epochs:  26%|██▋       | 530/2000 [01:38<09:38,  2.54it/s]"
     ]
    },
    {
     "name": "stdout",
     "output_type": "stream",
     "text": [
      "Epoch 530/2000, Loss: 0.0429\n",
      "Test Accuracy at Epoch 530: 95.92%\n",
      "Test F1-score at Epoch 530: 0.9583\n",
      "Classification Report at Epoch 530:\n",
      "                  precision    recall  f1-score   support\n",
      "\n",
      "    infringement       0.94      0.98      0.96        49\n",
      "non_infringement       0.98      0.94      0.96        49\n",
      "\n",
      "        accuracy                           0.96        98\n",
      "       macro avg       0.96      0.96      0.96        98\n",
      "    weighted avg       0.96      0.96      0.96        98\n",
      "\n"
     ]
    },
    {
     "name": "stderr",
     "output_type": "stream",
     "text": [
      "Training Epochs:  27%|██▋       | 540/2000 [01:42<09:53,  2.46it/s]"
     ]
    },
    {
     "name": "stdout",
     "output_type": "stream",
     "text": [
      "Epoch 540/2000, Loss: 0.0429\n",
      "Test Accuracy at Epoch 540: 95.92%\n",
      "Test F1-score at Epoch 540: 0.9583\n",
      "Classification Report at Epoch 540:\n",
      "                  precision    recall  f1-score   support\n",
      "\n",
      "    infringement       0.94      0.98      0.96        49\n",
      "non_infringement       0.98      0.94      0.96        49\n",
      "\n",
      "        accuracy                           0.96        98\n",
      "       macro avg       0.96      0.96      0.96        98\n",
      "    weighted avg       0.96      0.96      0.96        98\n",
      "\n"
     ]
    },
    {
     "name": "stderr",
     "output_type": "stream",
     "text": [
      "Training Epochs:  28%|██▊       | 550/2000 [01:46<10:18,  2.34it/s]"
     ]
    },
    {
     "name": "stdout",
     "output_type": "stream",
     "text": [
      "Epoch 550/2000, Loss: 0.0429\n",
      "Test Accuracy at Epoch 550: 95.92%\n",
      "Test F1-score at Epoch 550: 0.9583\n",
      "Classification Report at Epoch 550:\n",
      "                  precision    recall  f1-score   support\n",
      "\n",
      "    infringement       0.94      0.98      0.96        49\n",
      "non_infringement       0.98      0.94      0.96        49\n",
      "\n",
      "        accuracy                           0.96        98\n",
      "       macro avg       0.96      0.96      0.96        98\n",
      "    weighted avg       0.96      0.96      0.96        98\n",
      "\n"
     ]
    },
    {
     "name": "stderr",
     "output_type": "stream",
     "text": [
      "Training Epochs:  28%|██▊       | 560/2000 [01:50<09:32,  2.52it/s]"
     ]
    },
    {
     "name": "stdout",
     "output_type": "stream",
     "text": [
      "Epoch 560/2000, Loss: 0.0435\n",
      "Test Accuracy at Epoch 560: 95.92%\n",
      "Test F1-score at Epoch 560: 0.9583\n",
      "Classification Report at Epoch 560:\n",
      "                  precision    recall  f1-score   support\n",
      "\n",
      "    infringement       0.94      0.98      0.96        49\n",
      "non_infringement       0.98      0.94      0.96        49\n",
      "\n",
      "        accuracy                           0.96        98\n",
      "       macro avg       0.96      0.96      0.96        98\n",
      "    weighted avg       0.96      0.96      0.96        98\n",
      "\n"
     ]
    },
    {
     "name": "stderr",
     "output_type": "stream",
     "text": [
      "Training Epochs:  28%|██▊       | 570/2000 [01:54<09:40,  2.46it/s]"
     ]
    },
    {
     "name": "stdout",
     "output_type": "stream",
     "text": [
      "Epoch 570/2000, Loss: 0.0430\n",
      "Test Accuracy at Epoch 570: 95.92%\n",
      "Test F1-score at Epoch 570: 0.9583\n",
      "Classification Report at Epoch 570:\n",
      "                  precision    recall  f1-score   support\n",
      "\n",
      "    infringement       0.94      0.98      0.96        49\n",
      "non_infringement       0.98      0.94      0.96        49\n",
      "\n",
      "        accuracy                           0.96        98\n",
      "       macro avg       0.96      0.96      0.96        98\n",
      "    weighted avg       0.96      0.96      0.96        98\n",
      "\n"
     ]
    },
    {
     "name": "stderr",
     "output_type": "stream",
     "text": [
      "Training Epochs:  29%|██▉       | 580/2000 [01:58<09:50,  2.41it/s]"
     ]
    },
    {
     "name": "stdout",
     "output_type": "stream",
     "text": [
      "Epoch 580/2000, Loss: 0.0429\n",
      "Test Accuracy at Epoch 580: 95.92%\n",
      "Test F1-score at Epoch 580: 0.9583\n",
      "Classification Report at Epoch 580:\n",
      "                  precision    recall  f1-score   support\n",
      "\n",
      "    infringement       0.94      0.98      0.96        49\n",
      "non_infringement       0.98      0.94      0.96        49\n",
      "\n",
      "        accuracy                           0.96        98\n",
      "       macro avg       0.96      0.96      0.96        98\n",
      "    weighted avg       0.96      0.96      0.96        98\n",
      "\n"
     ]
    },
    {
     "name": "stderr",
     "output_type": "stream",
     "text": [
      "Training Epochs:  30%|██▉       | 590/2000 [02:01<07:54,  2.97it/s]"
     ]
    },
    {
     "name": "stdout",
     "output_type": "stream",
     "text": [
      "Epoch 590/2000, Loss: 0.0429\n",
      "Test Accuracy at Epoch 590: 95.92%\n",
      "Test F1-score at Epoch 590: 0.9583\n",
      "Classification Report at Epoch 590:\n",
      "                  precision    recall  f1-score   support\n",
      "\n",
      "    infringement       0.94      0.98      0.96        49\n",
      "non_infringement       0.98      0.94      0.96        49\n",
      "\n",
      "        accuracy                           0.96        98\n",
      "       macro avg       0.96      0.96      0.96        98\n",
      "    weighted avg       0.96      0.96      0.96        98\n",
      "\n"
     ]
    },
    {
     "name": "stderr",
     "output_type": "stream",
     "text": [
      "Training Epochs:  30%|███       | 600/2000 [02:06<09:24,  2.48it/s]"
     ]
    },
    {
     "name": "stdout",
     "output_type": "stream",
     "text": [
      "Epoch 600/2000, Loss: 0.0429\n",
      "Test Accuracy at Epoch 600: 95.92%\n",
      "Test F1-score at Epoch 600: 0.9583\n",
      "Classification Report at Epoch 600:\n",
      "                  precision    recall  f1-score   support\n",
      "\n",
      "    infringement       0.94      0.98      0.96        49\n",
      "non_infringement       0.98      0.94      0.96        49\n",
      "\n",
      "        accuracy                           0.96        98\n",
      "       macro avg       0.96      0.96      0.96        98\n",
      "    weighted avg       0.96      0.96      0.96        98\n",
      "\n"
     ]
    },
    {
     "name": "stderr",
     "output_type": "stream",
     "text": [
      "Training Epochs:  30%|███       | 610/2000 [02:09<09:09,  2.53it/s]"
     ]
    },
    {
     "name": "stdout",
     "output_type": "stream",
     "text": [
      "Epoch 610/2000, Loss: 0.0432\n",
      "Test Accuracy at Epoch 610: 95.92%\n",
      "Test F1-score at Epoch 610: 0.9583\n",
      "Classification Report at Epoch 610:\n",
      "                  precision    recall  f1-score   support\n",
      "\n",
      "    infringement       0.94      0.98      0.96        49\n",
      "non_infringement       0.98      0.94      0.96        49\n",
      "\n",
      "        accuracy                           0.96        98\n",
      "       macro avg       0.96      0.96      0.96        98\n",
      "    weighted avg       0.96      0.96      0.96        98\n",
      "\n"
     ]
    },
    {
     "name": "stderr",
     "output_type": "stream",
     "text": [
      "Training Epochs:  31%|███       | 620/2000 [02:13<09:13,  2.49it/s]"
     ]
    },
    {
     "name": "stdout",
     "output_type": "stream",
     "text": [
      "Epoch 620/2000, Loss: 0.0429\n",
      "Test Accuracy at Epoch 620: 95.92%\n",
      "Test F1-score at Epoch 620: 0.9583\n",
      "Classification Report at Epoch 620:\n",
      "                  precision    recall  f1-score   support\n",
      "\n",
      "    infringement       0.94      0.98      0.96        49\n",
      "non_infringement       0.98      0.94      0.96        49\n",
      "\n",
      "        accuracy                           0.96        98\n",
      "       macro avg       0.96      0.96      0.96        98\n",
      "    weighted avg       0.96      0.96      0.96        98\n",
      "\n"
     ]
    },
    {
     "name": "stderr",
     "output_type": "stream",
     "text": [
      "Training Epochs:  32%|███▏      | 630/2000 [02:17<09:03,  2.52it/s]"
     ]
    },
    {
     "name": "stdout",
     "output_type": "stream",
     "text": [
      "Epoch 630/2000, Loss: 0.0429\n",
      "Test Accuracy at Epoch 630: 98.98%\n",
      "Test F1-score at Epoch 630: 0.9899\n",
      "Classification Report at Epoch 630:\n",
      "                  precision    recall  f1-score   support\n",
      "\n",
      "    infringement       1.00      0.98      0.99        49\n",
      "non_infringement       0.98      1.00      0.99        49\n",
      "\n",
      "        accuracy                           0.99        98\n",
      "       macro avg       0.99      0.99      0.99        98\n",
      "    weighted avg       0.99      0.99      0.99        98\n",
      "\n"
     ]
    },
    {
     "name": "stderr",
     "output_type": "stream",
     "text": [
      "Training Epochs:  32%|███▏      | 640/2000 [02:21<08:57,  2.53it/s]"
     ]
    },
    {
     "name": "stdout",
     "output_type": "stream",
     "text": [
      "Epoch 640/2000, Loss: 0.0429\n",
      "Test Accuracy at Epoch 640: 98.98%\n",
      "Test F1-score at Epoch 640: 0.9899\n",
      "Classification Report at Epoch 640:\n",
      "                  precision    recall  f1-score   support\n",
      "\n",
      "    infringement       1.00      0.98      0.99        49\n",
      "non_infringement       0.98      1.00      0.99        49\n",
      "\n",
      "        accuracy                           0.99        98\n",
      "       macro avg       0.99      0.99      0.99        98\n",
      "    weighted avg       0.99      0.99      0.99        98\n",
      "\n"
     ]
    },
    {
     "name": "stderr",
     "output_type": "stream",
     "text": [
      "Training Epochs:  32%|███▎      | 650/2000 [02:25<08:55,  2.52it/s]"
     ]
    },
    {
     "name": "stdout",
     "output_type": "stream",
     "text": [
      "Epoch 650/2000, Loss: 0.0432\n",
      "Test Accuracy at Epoch 650: 98.98%\n",
      "Test F1-score at Epoch 650: 0.9899\n",
      "Classification Report at Epoch 650:\n",
      "                  precision    recall  f1-score   support\n",
      "\n",
      "    infringement       1.00      0.98      0.99        49\n",
      "non_infringement       0.98      1.00      0.99        49\n",
      "\n",
      "        accuracy                           0.99        98\n",
      "       macro avg       0.99      0.99      0.99        98\n",
      "    weighted avg       0.99      0.99      0.99        98\n",
      "\n"
     ]
    },
    {
     "name": "stderr",
     "output_type": "stream",
     "text": [
      "Training Epochs:  33%|███▎      | 660/2000 [02:29<08:52,  2.51it/s]"
     ]
    },
    {
     "name": "stdout",
     "output_type": "stream",
     "text": [
      "Epoch 660/2000, Loss: 0.0429\n",
      "Test Accuracy at Epoch 660: 98.98%\n",
      "Test F1-score at Epoch 660: 0.9899\n",
      "Classification Report at Epoch 660:\n",
      "                  precision    recall  f1-score   support\n",
      "\n",
      "    infringement       1.00      0.98      0.99        49\n",
      "non_infringement       0.98      1.00      0.99        49\n",
      "\n",
      "        accuracy                           0.99        98\n",
      "       macro avg       0.99      0.99      0.99        98\n",
      "    weighted avg       0.99      0.99      0.99        98\n",
      "\n"
     ]
    },
    {
     "name": "stderr",
     "output_type": "stream",
     "text": [
      "Training Epochs:  34%|███▎      | 670/2000 [02:32<08:26,  2.63it/s]"
     ]
    },
    {
     "name": "stdout",
     "output_type": "stream",
     "text": [
      "Epoch 670/2000, Loss: 0.0429\n",
      "Test Accuracy at Epoch 670: 98.98%\n",
      "Test F1-score at Epoch 670: 0.9899\n",
      "Classification Report at Epoch 670:\n",
      "                  precision    recall  f1-score   support\n",
      "\n",
      "    infringement       1.00      0.98      0.99        49\n",
      "non_infringement       0.98      1.00      0.99        49\n",
      "\n",
      "        accuracy                           0.99        98\n",
      "       macro avg       0.99      0.99      0.99        98\n",
      "    weighted avg       0.99      0.99      0.99        98\n",
      "\n"
     ]
    },
    {
     "name": "stderr",
     "output_type": "stream",
     "text": [
      "Training Epochs:  34%|███▍      | 680/2000 [02:36<08:37,  2.55it/s]"
     ]
    },
    {
     "name": "stdout",
     "output_type": "stream",
     "text": [
      "Epoch 680/2000, Loss: 0.0430\n",
      "Test Accuracy at Epoch 680: 98.98%\n",
      "Test F1-score at Epoch 680: 0.9899\n",
      "Classification Report at Epoch 680:\n",
      "                  precision    recall  f1-score   support\n",
      "\n",
      "    infringement       1.00      0.98      0.99        49\n",
      "non_infringement       0.98      1.00      0.99        49\n",
      "\n",
      "        accuracy                           0.99        98\n",
      "       macro avg       0.99      0.99      0.99        98\n",
      "    weighted avg       0.99      0.99      0.99        98\n",
      "\n"
     ]
    },
    {
     "name": "stderr",
     "output_type": "stream",
     "text": [
      "Training Epochs:  34%|███▍      | 690/2000 [02:40<08:48,  2.48it/s]"
     ]
    },
    {
     "name": "stdout",
     "output_type": "stream",
     "text": [
      "Epoch 690/2000, Loss: 0.0429\n",
      "Test Accuracy at Epoch 690: 98.98%\n",
      "Test F1-score at Epoch 690: 0.9899\n",
      "Classification Report at Epoch 690:\n",
      "                  precision    recall  f1-score   support\n",
      "\n",
      "    infringement       1.00      0.98      0.99        49\n",
      "non_infringement       0.98      1.00      0.99        49\n",
      "\n",
      "        accuracy                           0.99        98\n",
      "       macro avg       0.99      0.99      0.99        98\n",
      "    weighted avg       0.99      0.99      0.99        98\n",
      "\n"
     ]
    },
    {
     "name": "stderr",
     "output_type": "stream",
     "text": [
      "Training Epochs:  35%|███▌      | 700/2000 [02:44<08:48,  2.46it/s]"
     ]
    },
    {
     "name": "stdout",
     "output_type": "stream",
     "text": [
      "Epoch 700/2000, Loss: 0.0429\n",
      "Test Accuracy at Epoch 700: 98.98%\n",
      "Test F1-score at Epoch 700: 0.9899\n",
      "Classification Report at Epoch 700:\n",
      "                  precision    recall  f1-score   support\n",
      "\n",
      "    infringement       1.00      0.98      0.99        49\n",
      "non_infringement       0.98      1.00      0.99        49\n",
      "\n",
      "        accuracy                           0.99        98\n",
      "       macro avg       0.99      0.99      0.99        98\n",
      "    weighted avg       0.99      0.99      0.99        98\n",
      "\n"
     ]
    },
    {
     "name": "stderr",
     "output_type": "stream",
     "text": [
      "Training Epochs:  36%|███▌      | 710/2000 [02:48<08:40,  2.48it/s]"
     ]
    },
    {
     "name": "stdout",
     "output_type": "stream",
     "text": [
      "Epoch 710/2000, Loss: 0.0431\n",
      "Test Accuracy at Epoch 710: 98.98%\n",
      "Test F1-score at Epoch 710: 0.9899\n",
      "Classification Report at Epoch 710:\n",
      "                  precision    recall  f1-score   support\n",
      "\n",
      "    infringement       1.00      0.98      0.99        49\n",
      "non_infringement       0.98      1.00      0.99        49\n",
      "\n",
      "        accuracy                           0.99        98\n",
      "       macro avg       0.99      0.99      0.99        98\n",
      "    weighted avg       0.99      0.99      0.99        98\n",
      "\n"
     ]
    },
    {
     "name": "stderr",
     "output_type": "stream",
     "text": [
      "Training Epochs:  36%|███▌      | 720/2000 [02:52<08:29,  2.51it/s]"
     ]
    },
    {
     "name": "stdout",
     "output_type": "stream",
     "text": [
      "Epoch 720/2000, Loss: 0.0429\n",
      "Test Accuracy at Epoch 720: 98.98%\n",
      "Test F1-score at Epoch 720: 0.9899\n",
      "Classification Report at Epoch 720:\n",
      "                  precision    recall  f1-score   support\n",
      "\n",
      "    infringement       1.00      0.98      0.99        49\n",
      "non_infringement       0.98      1.00      0.99        49\n",
      "\n",
      "        accuracy                           0.99        98\n",
      "       macro avg       0.99      0.99      0.99        98\n",
      "    weighted avg       0.99      0.99      0.99        98\n",
      "\n"
     ]
    },
    {
     "name": "stderr",
     "output_type": "stream",
     "text": [
      "Training Epochs:  36%|███▋      | 730/2000 [02:56<08:23,  2.52it/s]"
     ]
    },
    {
     "name": "stdout",
     "output_type": "stream",
     "text": [
      "Epoch 730/2000, Loss: 0.0429\n",
      "Test Accuracy at Epoch 730: 98.98%\n",
      "Test F1-score at Epoch 730: 0.9899\n",
      "Classification Report at Epoch 730:\n",
      "                  precision    recall  f1-score   support\n",
      "\n",
      "    infringement       1.00      0.98      0.99        49\n",
      "non_infringement       0.98      1.00      0.99        49\n",
      "\n",
      "        accuracy                           0.99        98\n",
      "       macro avg       0.99      0.99      0.99        98\n",
      "    weighted avg       0.99      0.99      0.99        98\n",
      "\n"
     ]
    },
    {
     "name": "stderr",
     "output_type": "stream",
     "text": [
      "Training Epochs:  37%|███▋      | 740/2000 [02:59<08:13,  2.55it/s]"
     ]
    },
    {
     "name": "stdout",
     "output_type": "stream",
     "text": [
      "Epoch 740/2000, Loss: 0.0429\n",
      "Test Accuracy at Epoch 740: 98.98%\n",
      "Test F1-score at Epoch 740: 0.9899\n",
      "Classification Report at Epoch 740:\n",
      "                  precision    recall  f1-score   support\n",
      "\n",
      "    infringement       1.00      0.98      0.99        49\n",
      "non_infringement       0.98      1.00      0.99        49\n",
      "\n",
      "        accuracy                           0.99        98\n",
      "       macro avg       0.99      0.99      0.99        98\n",
      "    weighted avg       0.99      0.99      0.99        98\n",
      "\n"
     ]
    },
    {
     "name": "stderr",
     "output_type": "stream",
     "text": [
      "Training Epochs:  38%|███▊      | 750/2000 [03:03<08:10,  2.55it/s]"
     ]
    },
    {
     "name": "stdout",
     "output_type": "stream",
     "text": [
      "Epoch 750/2000, Loss: 0.0434\n",
      "Test Accuracy at Epoch 750: 98.98%\n",
      "Test F1-score at Epoch 750: 0.9899\n",
      "Classification Report at Epoch 750:\n",
      "                  precision    recall  f1-score   support\n",
      "\n",
      "    infringement       1.00      0.98      0.99        49\n",
      "non_infringement       0.98      1.00      0.99        49\n",
      "\n",
      "        accuracy                           0.99        98\n",
      "       macro avg       0.99      0.99      0.99        98\n",
      "    weighted avg       0.99      0.99      0.99        98\n",
      "\n"
     ]
    },
    {
     "name": "stderr",
     "output_type": "stream",
     "text": [
      "Training Epochs:  38%|███▊      | 760/2000 [03:07<08:09,  2.53it/s]"
     ]
    },
    {
     "name": "stdout",
     "output_type": "stream",
     "text": [
      "Epoch 760/2000, Loss: 0.0430\n",
      "Test Accuracy at Epoch 760: 98.98%\n",
      "Test F1-score at Epoch 760: 0.9899\n",
      "Classification Report at Epoch 760:\n",
      "                  precision    recall  f1-score   support\n",
      "\n",
      "    infringement       1.00      0.98      0.99        49\n",
      "non_infringement       0.98      1.00      0.99        49\n",
      "\n",
      "        accuracy                           0.99        98\n",
      "       macro avg       0.99      0.99      0.99        98\n",
      "    weighted avg       0.99      0.99      0.99        98\n",
      "\n"
     ]
    },
    {
     "name": "stderr",
     "output_type": "stream",
     "text": [
      "Training Epochs:  38%|███▊      | 770/2000 [03:11<08:02,  2.55it/s]"
     ]
    },
    {
     "name": "stdout",
     "output_type": "stream",
     "text": [
      "Epoch 770/2000, Loss: 0.0429\n",
      "Test Accuracy at Epoch 770: 98.98%\n",
      "Test F1-score at Epoch 770: 0.9899\n",
      "Classification Report at Epoch 770:\n",
      "                  precision    recall  f1-score   support\n",
      "\n",
      "    infringement       1.00      0.98      0.99        49\n",
      "non_infringement       0.98      1.00      0.99        49\n",
      "\n",
      "        accuracy                           0.99        98\n",
      "       macro avg       0.99      0.99      0.99        98\n",
      "    weighted avg       0.99      0.99      0.99        98\n",
      "\n"
     ]
    },
    {
     "name": "stderr",
     "output_type": "stream",
     "text": [
      "Training Epochs:  39%|███▉      | 780/2000 [03:15<07:58,  2.55it/s]"
     ]
    },
    {
     "name": "stdout",
     "output_type": "stream",
     "text": [
      "Epoch 780/2000, Loss: 0.0429\n",
      "Test Accuracy at Epoch 780: 98.98%\n",
      "Test F1-score at Epoch 780: 0.9899\n",
      "Classification Report at Epoch 780:\n",
      "                  precision    recall  f1-score   support\n",
      "\n",
      "    infringement       1.00      0.98      0.99        49\n",
      "non_infringement       0.98      1.00      0.99        49\n",
      "\n",
      "        accuracy                           0.99        98\n",
      "       macro avg       0.99      0.99      0.99        98\n",
      "    weighted avg       0.99      0.99      0.99        98\n",
      "\n"
     ]
    },
    {
     "name": "stderr",
     "output_type": "stream",
     "text": [
      "Training Epochs:  40%|███▉      | 790/2000 [03:19<07:56,  2.54it/s]"
     ]
    },
    {
     "name": "stdout",
     "output_type": "stream",
     "text": [
      "Epoch 790/2000, Loss: 0.0428\n",
      "Test Accuracy at Epoch 790: 98.98%\n",
      "Test F1-score at Epoch 790: 0.9899\n",
      "Classification Report at Epoch 790:\n",
      "                  precision    recall  f1-score   support\n",
      "\n",
      "    infringement       1.00      0.98      0.99        49\n",
      "non_infringement       0.98      1.00      0.99        49\n",
      "\n",
      "        accuracy                           0.99        98\n",
      "       macro avg       0.99      0.99      0.99        98\n",
      "    weighted avg       0.99      0.99      0.99        98\n",
      "\n"
     ]
    },
    {
     "name": "stderr",
     "output_type": "stream",
     "text": [
      "Training Epochs:  40%|████      | 800/2000 [03:22<07:51,  2.55it/s]"
     ]
    },
    {
     "name": "stdout",
     "output_type": "stream",
     "text": [
      "Epoch 800/2000, Loss: 0.0431\n",
      "Test Accuracy at Epoch 800: 98.98%\n",
      "Test F1-score at Epoch 800: 0.9899\n",
      "Classification Report at Epoch 800:\n",
      "                  precision    recall  f1-score   support\n",
      "\n",
      "    infringement       1.00      0.98      0.99        49\n",
      "non_infringement       0.98      1.00      0.99        49\n",
      "\n",
      "        accuracy                           0.99        98\n",
      "       macro avg       0.99      0.99      0.99        98\n",
      "    weighted avg       0.99      0.99      0.99        98\n",
      "\n"
     ]
    },
    {
     "name": "stderr",
     "output_type": "stream",
     "text": [
      "Training Epochs:  40%|████      | 810/2000 [03:27<07:56,  2.50it/s]"
     ]
    },
    {
     "name": "stdout",
     "output_type": "stream",
     "text": [
      "Epoch 810/2000, Loss: 0.0430\n",
      "Test Accuracy at Epoch 810: 98.98%\n",
      "Test F1-score at Epoch 810: 0.9899\n",
      "Classification Report at Epoch 810:\n",
      "                  precision    recall  f1-score   support\n",
      "\n",
      "    infringement       1.00      0.98      0.99        49\n",
      "non_infringement       0.98      1.00      0.99        49\n",
      "\n",
      "        accuracy                           0.99        98\n",
      "       macro avg       0.99      0.99      0.99        98\n",
      "    weighted avg       0.99      0.99      0.99        98\n",
      "\n"
     ]
    },
    {
     "name": "stderr",
     "output_type": "stream",
     "text": [
      "Training Epochs:  41%|████      | 820/2000 [03:30<07:54,  2.49it/s]"
     ]
    },
    {
     "name": "stdout",
     "output_type": "stream",
     "text": [
      "Epoch 820/2000, Loss: 0.0429\n",
      "Test Accuracy at Epoch 820: 98.98%\n",
      "Test F1-score at Epoch 820: 0.9899\n",
      "Classification Report at Epoch 820:\n",
      "                  precision    recall  f1-score   support\n",
      "\n",
      "    infringement       1.00      0.98      0.99        49\n",
      "non_infringement       0.98      1.00      0.99        49\n",
      "\n",
      "        accuracy                           0.99        98\n",
      "       macro avg       0.99      0.99      0.99        98\n",
      "    weighted avg       0.99      0.99      0.99        98\n",
      "\n"
     ]
    },
    {
     "name": "stderr",
     "output_type": "stream",
     "text": [
      "Training Epochs:  42%|████▏     | 830/2000 [03:34<07:42,  2.53it/s]"
     ]
    },
    {
     "name": "stdout",
     "output_type": "stream",
     "text": [
      "Epoch 830/2000, Loss: 0.0429\n",
      "Test Accuracy at Epoch 830: 98.98%\n",
      "Test F1-score at Epoch 830: 0.9899\n",
      "Classification Report at Epoch 830:\n",
      "                  precision    recall  f1-score   support\n",
      "\n",
      "    infringement       1.00      0.98      0.99        49\n",
      "non_infringement       0.98      1.00      0.99        49\n",
      "\n",
      "        accuracy                           0.99        98\n",
      "       macro avg       0.99      0.99      0.99        98\n",
      "    weighted avg       0.99      0.99      0.99        98\n",
      "\n"
     ]
    },
    {
     "name": "stderr",
     "output_type": "stream",
     "text": [
      "Training Epochs:  42%|████▏     | 840/2000 [03:38<07:36,  2.54it/s]"
     ]
    },
    {
     "name": "stdout",
     "output_type": "stream",
     "text": [
      "Epoch 840/2000, Loss: 0.0428\n",
      "Test Accuracy at Epoch 840: 98.98%\n",
      "Test F1-score at Epoch 840: 0.9899\n",
      "Classification Report at Epoch 840:\n",
      "                  precision    recall  f1-score   support\n",
      "\n",
      "    infringement       1.00      0.98      0.99        49\n",
      "non_infringement       0.98      1.00      0.99        49\n",
      "\n",
      "        accuracy                           0.99        98\n",
      "       macro avg       0.99      0.99      0.99        98\n",
      "    weighted avg       0.99      0.99      0.99        98\n",
      "\n"
     ]
    },
    {
     "name": "stderr",
     "output_type": "stream",
     "text": [
      "Training Epochs:  42%|████▎     | 850/2000 [03:42<07:31,  2.54it/s]"
     ]
    },
    {
     "name": "stdout",
     "output_type": "stream",
     "text": [
      "Epoch 850/2000, Loss: 0.0429\n",
      "Test Accuracy at Epoch 850: 98.98%\n",
      "Test F1-score at Epoch 850: 0.9899\n",
      "Classification Report at Epoch 850:\n",
      "                  precision    recall  f1-score   support\n",
      "\n",
      "    infringement       1.00      0.98      0.99        49\n",
      "non_infringement       0.98      1.00      0.99        49\n",
      "\n",
      "        accuracy                           0.99        98\n",
      "       macro avg       0.99      0.99      0.99        98\n",
      "    weighted avg       0.99      0.99      0.99        98\n",
      "\n"
     ]
    },
    {
     "name": "stderr",
     "output_type": "stream",
     "text": [
      "Training Epochs:  43%|████▎     | 860/2000 [03:46<07:44,  2.46it/s]"
     ]
    },
    {
     "name": "stdout",
     "output_type": "stream",
     "text": [
      "Epoch 860/2000, Loss: 0.0432\n",
      "Test Accuracy at Epoch 860: 98.98%\n",
      "Test F1-score at Epoch 860: 0.9899\n",
      "Classification Report at Epoch 860:\n",
      "                  precision    recall  f1-score   support\n",
      "\n",
      "    infringement       1.00      0.98      0.99        49\n",
      "non_infringement       0.98      1.00      0.99        49\n",
      "\n",
      "        accuracy                           0.99        98\n",
      "       macro avg       0.99      0.99      0.99        98\n",
      "    weighted avg       0.99      0.99      0.99        98\n",
      "\n"
     ]
    },
    {
     "name": "stderr",
     "output_type": "stream",
     "text": [
      "Training Epochs:  44%|████▎     | 870/2000 [03:50<07:24,  2.54it/s]"
     ]
    },
    {
     "name": "stdout",
     "output_type": "stream",
     "text": [
      "Epoch 870/2000, Loss: 0.0429\n",
      "Test Accuracy at Epoch 870: 98.98%\n",
      "Test F1-score at Epoch 870: 0.9899\n",
      "Classification Report at Epoch 870:\n",
      "                  precision    recall  f1-score   support\n",
      "\n",
      "    infringement       1.00      0.98      0.99        49\n",
      "non_infringement       0.98      1.00      0.99        49\n",
      "\n",
      "        accuracy                           0.99        98\n",
      "       macro avg       0.99      0.99      0.99        98\n",
      "    weighted avg       0.99      0.99      0.99        98\n",
      "\n"
     ]
    },
    {
     "name": "stderr",
     "output_type": "stream",
     "text": [
      "Training Epochs:  44%|████▍     | 880/2000 [03:53<07:18,  2.56it/s]"
     ]
    },
    {
     "name": "stdout",
     "output_type": "stream",
     "text": [
      "Epoch 880/2000, Loss: 0.0429\n",
      "Test Accuracy at Epoch 880: 98.98%\n",
      "Test F1-score at Epoch 880: 0.9899\n",
      "Classification Report at Epoch 880:\n",
      "                  precision    recall  f1-score   support\n",
      "\n",
      "    infringement       1.00      0.98      0.99        49\n",
      "non_infringement       0.98      1.00      0.99        49\n",
      "\n",
      "        accuracy                           0.99        98\n",
      "       macro avg       0.99      0.99      0.99        98\n",
      "    weighted avg       0.99      0.99      0.99        98\n",
      "\n"
     ]
    },
    {
     "name": "stderr",
     "output_type": "stream",
     "text": [
      "Training Epochs:  44%|████▍     | 890/2000 [03:57<07:18,  2.53it/s]"
     ]
    },
    {
     "name": "stdout",
     "output_type": "stream",
     "text": [
      "Epoch 890/2000, Loss: 0.0428\n",
      "Test Accuracy at Epoch 890: 98.98%\n",
      "Test F1-score at Epoch 890: 0.9899\n",
      "Classification Report at Epoch 890:\n",
      "                  precision    recall  f1-score   support\n",
      "\n",
      "    infringement       1.00      0.98      0.99        49\n",
      "non_infringement       0.98      1.00      0.99        49\n",
      "\n",
      "        accuracy                           0.99        98\n",
      "       macro avg       0.99      0.99      0.99        98\n",
      "    weighted avg       0.99      0.99      0.99        98\n",
      "\n"
     ]
    },
    {
     "name": "stderr",
     "output_type": "stream",
     "text": [
      "Training Epochs:  45%|████▌     | 900/2000 [04:01<07:16,  2.52it/s]"
     ]
    },
    {
     "name": "stdout",
     "output_type": "stream",
     "text": [
      "Epoch 900/2000, Loss: 0.0428\n",
      "Test Accuracy at Epoch 900: 98.98%\n",
      "Test F1-score at Epoch 900: 0.9899\n",
      "Classification Report at Epoch 900:\n",
      "                  precision    recall  f1-score   support\n",
      "\n",
      "    infringement       1.00      0.98      0.99        49\n",
      "non_infringement       0.98      1.00      0.99        49\n",
      "\n",
      "        accuracy                           0.99        98\n",
      "       macro avg       0.99      0.99      0.99        98\n",
      "    weighted avg       0.99      0.99      0.99        98\n",
      "\n"
     ]
    },
    {
     "name": "stderr",
     "output_type": "stream",
     "text": [
      "Training Epochs:  46%|████▌     | 910/2000 [04:05<07:08,  2.54it/s]"
     ]
    },
    {
     "name": "stdout",
     "output_type": "stream",
     "text": [
      "Epoch 910/2000, Loss: 0.0427\n",
      "Test Accuracy at Epoch 910: 98.98%\n",
      "Test F1-score at Epoch 910: 0.9899\n",
      "Classification Report at Epoch 910:\n",
      "                  precision    recall  f1-score   support\n",
      "\n",
      "    infringement       1.00      0.98      0.99        49\n",
      "non_infringement       0.98      1.00      0.99        49\n",
      "\n",
      "        accuracy                           0.99        98\n",
      "       macro avg       0.99      0.99      0.99        98\n",
      "    weighted avg       0.99      0.99      0.99        98\n",
      "\n"
     ]
    },
    {
     "name": "stderr",
     "output_type": "stream",
     "text": [
      "Training Epochs:  46%|████▌     | 920/2000 [04:09<07:53,  2.28it/s]"
     ]
    },
    {
     "name": "stdout",
     "output_type": "stream",
     "text": [
      "Epoch 920/2000, Loss: 0.0426\n",
      "Test Accuracy at Epoch 920: 98.98%\n",
      "Test F1-score at Epoch 920: 0.9899\n",
      "Classification Report at Epoch 920:\n",
      "                  precision    recall  f1-score   support\n",
      "\n",
      "    infringement       1.00      0.98      0.99        49\n",
      "non_infringement       0.98      1.00      0.99        49\n",
      "\n",
      "        accuracy                           0.99        98\n",
      "       macro avg       0.99      0.99      0.99        98\n",
      "    weighted avg       0.99      0.99      0.99        98\n",
      "\n"
     ]
    },
    {
     "name": "stderr",
     "output_type": "stream",
     "text": [
      "Training Epochs:  46%|████▋     | 930/2000 [04:13<07:46,  2.30it/s]"
     ]
    },
    {
     "name": "stdout",
     "output_type": "stream",
     "text": [
      "Epoch 930/2000, Loss: 0.0424\n",
      "Test Accuracy at Epoch 930: 98.98%\n",
      "Test F1-score at Epoch 930: 0.9899\n",
      "Classification Report at Epoch 930:\n",
      "                  precision    recall  f1-score   support\n",
      "\n",
      "    infringement       1.00      0.98      0.99        49\n",
      "non_infringement       0.98      1.00      0.99        49\n",
      "\n",
      "        accuracy                           0.99        98\n",
      "       macro avg       0.99      0.99      0.99        98\n",
      "    weighted avg       0.99      0.99      0.99        98\n",
      "\n"
     ]
    },
    {
     "name": "stderr",
     "output_type": "stream",
     "text": [
      "Training Epochs:  47%|████▋     | 940/2000 [04:17<07:03,  2.50it/s]"
     ]
    },
    {
     "name": "stdout",
     "output_type": "stream",
     "text": [
      "Epoch 940/2000, Loss: 0.0422\n",
      "Test Accuracy at Epoch 940: 98.98%\n",
      "Test F1-score at Epoch 940: 0.9899\n",
      "Classification Report at Epoch 940:\n",
      "                  precision    recall  f1-score   support\n",
      "\n",
      "    infringement       1.00      0.98      0.99        49\n",
      "non_infringement       0.98      1.00      0.99        49\n",
      "\n",
      "        accuracy                           0.99        98\n",
      "       macro avg       0.99      0.99      0.99        98\n",
      "    weighted avg       0.99      0.99      0.99        98\n",
      "\n"
     ]
    },
    {
     "name": "stderr",
     "output_type": "stream",
     "text": [
      "Training Epochs:  48%|████▊     | 950/2000 [04:21<06:52,  2.55it/s]"
     ]
    },
    {
     "name": "stdout",
     "output_type": "stream",
     "text": [
      "Epoch 950/2000, Loss: 0.0419\n",
      "Test Accuracy at Epoch 950: 98.98%\n",
      "Test F1-score at Epoch 950: 0.9899\n",
      "Classification Report at Epoch 950:\n",
      "                  precision    recall  f1-score   support\n",
      "\n",
      "    infringement       1.00      0.98      0.99        49\n",
      "non_infringement       0.98      1.00      0.99        49\n",
      "\n",
      "        accuracy                           0.99        98\n",
      "       macro avg       0.99      0.99      0.99        98\n",
      "    weighted avg       0.99      0.99      0.99        98\n",
      "\n"
     ]
    },
    {
     "name": "stderr",
     "output_type": "stream",
     "text": [
      "Training Epochs:  48%|████▊     | 960/2000 [04:25<06:57,  2.49it/s]"
     ]
    },
    {
     "name": "stdout",
     "output_type": "stream",
     "text": [
      "Epoch 960/2000, Loss: 0.0415\n",
      "Test Accuracy at Epoch 960: 98.98%\n",
      "Test F1-score at Epoch 960: 0.9899\n",
      "Classification Report at Epoch 960:\n",
      "                  precision    recall  f1-score   support\n",
      "\n",
      "    infringement       1.00      0.98      0.99        49\n",
      "non_infringement       0.98      1.00      0.99        49\n",
      "\n",
      "        accuracy                           0.99        98\n",
      "       macro avg       0.99      0.99      0.99        98\n",
      "    weighted avg       0.99      0.99      0.99        98\n",
      "\n"
     ]
    },
    {
     "name": "stderr",
     "output_type": "stream",
     "text": [
      "Training Epochs:  48%|████▊     | 970/2000 [04:29<06:47,  2.53it/s]"
     ]
    },
    {
     "name": "stdout",
     "output_type": "stream",
     "text": [
      "Epoch 970/2000, Loss: 0.0412\n",
      "Test Accuracy at Epoch 970: 98.98%\n",
      "Test F1-score at Epoch 970: 0.9899\n",
      "Classification Report at Epoch 970:\n",
      "                  precision    recall  f1-score   support\n",
      "\n",
      "    infringement       1.00      0.98      0.99        49\n",
      "non_infringement       0.98      1.00      0.99        49\n",
      "\n",
      "        accuracy                           0.99        98\n",
      "       macro avg       0.99      0.99      0.99        98\n",
      "    weighted avg       0.99      0.99      0.99        98\n",
      "\n"
     ]
    },
    {
     "name": "stderr",
     "output_type": "stream",
     "text": [
      "Training Epochs:  49%|████▉     | 980/2000 [04:33<06:44,  2.52it/s]"
     ]
    },
    {
     "name": "stdout",
     "output_type": "stream",
     "text": [
      "Epoch 980/2000, Loss: 0.0433\n",
      "Test Accuracy at Epoch 980: 98.98%\n",
      "Test F1-score at Epoch 980: 0.9899\n",
      "Classification Report at Epoch 980:\n",
      "                  precision    recall  f1-score   support\n",
      "\n",
      "    infringement       1.00      0.98      0.99        49\n",
      "non_infringement       0.98      1.00      0.99        49\n",
      "\n",
      "        accuracy                           0.99        98\n",
      "       macro avg       0.99      0.99      0.99        98\n",
      "    weighted avg       0.99      0.99      0.99        98\n",
      "\n"
     ]
    },
    {
     "name": "stderr",
     "output_type": "stream",
     "text": [
      "Training Epochs:  50%|████▉     | 990/2000 [04:37<06:50,  2.46it/s]"
     ]
    },
    {
     "name": "stdout",
     "output_type": "stream",
     "text": [
      "Epoch 990/2000, Loss: 0.0429\n",
      "Test Accuracy at Epoch 990: 98.98%\n",
      "Test F1-score at Epoch 990: 0.9899\n",
      "Classification Report at Epoch 990:\n",
      "                  precision    recall  f1-score   support\n",
      "\n",
      "    infringement       1.00      0.98      0.99        49\n",
      "non_infringement       0.98      1.00      0.99        49\n",
      "\n",
      "        accuracy                           0.99        98\n",
      "       macro avg       0.99      0.99      0.99        98\n",
      "    weighted avg       0.99      0.99      0.99        98\n",
      "\n"
     ]
    },
    {
     "name": "stderr",
     "output_type": "stream",
     "text": [
      "Training Epochs:  50%|█████     | 1000/2000 [04:40<06:40,  2.50it/s]"
     ]
    },
    {
     "name": "stdout",
     "output_type": "stream",
     "text": [
      "Epoch 1000/2000, Loss: 0.0428\n",
      "Test Accuracy at Epoch 1000: 98.98%\n",
      "Test F1-score at Epoch 1000: 0.9899\n",
      "Classification Report at Epoch 1000:\n",
      "                  precision    recall  f1-score   support\n",
      "\n",
      "    infringement       1.00      0.98      0.99        49\n",
      "non_infringement       0.98      1.00      0.99        49\n",
      "\n",
      "        accuracy                           0.99        98\n",
      "       macro avg       0.99      0.99      0.99        98\n",
      "    weighted avg       0.99      0.99      0.99        98\n",
      "\n"
     ]
    },
    {
     "name": "stderr",
     "output_type": "stream",
     "text": [
      "Training Epochs:  50%|█████     | 1010/2000 [04:44<06:28,  2.55it/s]"
     ]
    },
    {
     "name": "stdout",
     "output_type": "stream",
     "text": [
      "Epoch 1010/2000, Loss: 0.0428\n",
      "Test Accuracy at Epoch 1010: 98.98%\n",
      "Test F1-score at Epoch 1010: 0.9899\n",
      "Classification Report at Epoch 1010:\n",
      "                  precision    recall  f1-score   support\n",
      "\n",
      "    infringement       1.00      0.98      0.99        49\n",
      "non_infringement       0.98      1.00      0.99        49\n",
      "\n",
      "        accuracy                           0.99        98\n",
      "       macro avg       0.99      0.99      0.99        98\n",
      "    weighted avg       0.99      0.99      0.99        98\n",
      "\n"
     ]
    },
    {
     "name": "stderr",
     "output_type": "stream",
     "text": [
      "Training Epochs:  51%|█████     | 1020/2000 [04:48<06:54,  2.36it/s]"
     ]
    },
    {
     "name": "stdout",
     "output_type": "stream",
     "text": [
      "Epoch 1020/2000, Loss: 0.0427\n",
      "Test Accuracy at Epoch 1020: 98.98%\n",
      "Test F1-score at Epoch 1020: 0.9899\n",
      "Classification Report at Epoch 1020:\n",
      "                  precision    recall  f1-score   support\n",
      "\n",
      "    infringement       1.00      0.98      0.99        49\n",
      "non_infringement       0.98      1.00      0.99        49\n",
      "\n",
      "        accuracy                           0.99        98\n",
      "       macro avg       0.99      0.99      0.99        98\n",
      "    weighted avg       0.99      0.99      0.99        98\n",
      "\n"
     ]
    },
    {
     "name": "stderr",
     "output_type": "stream",
     "text": [
      "Training Epochs:  52%|█████▏    | 1030/2000 [04:52<06:50,  2.37it/s]"
     ]
    },
    {
     "name": "stdout",
     "output_type": "stream",
     "text": [
      "Epoch 1030/2000, Loss: 0.0428\n",
      "Test Accuracy at Epoch 1030: 98.98%\n",
      "Test F1-score at Epoch 1030: 0.9899\n",
      "Classification Report at Epoch 1030:\n",
      "                  precision    recall  f1-score   support\n",
      "\n",
      "    infringement       1.00      0.98      0.99        49\n",
      "non_infringement       0.98      1.00      0.99        49\n",
      "\n",
      "        accuracy                           0.99        98\n",
      "       macro avg       0.99      0.99      0.99        98\n",
      "    weighted avg       0.99      0.99      0.99        98\n",
      "\n"
     ]
    },
    {
     "name": "stderr",
     "output_type": "stream",
     "text": [
      "Training Epochs:  52%|█████▏    | 1040/2000 [04:56<06:26,  2.48it/s]"
     ]
    },
    {
     "name": "stdout",
     "output_type": "stream",
     "text": [
      "Epoch 1040/2000, Loss: 0.0428\n",
      "Test Accuracy at Epoch 1040: 98.98%\n",
      "Test F1-score at Epoch 1040: 0.9899\n",
      "Classification Report at Epoch 1040:\n",
      "                  precision    recall  f1-score   support\n",
      "\n",
      "    infringement       1.00      0.98      0.99        49\n",
      "non_infringement       0.98      1.00      0.99        49\n",
      "\n",
      "        accuracy                           0.99        98\n",
      "       macro avg       0.99      0.99      0.99        98\n",
      "    weighted avg       0.99      0.99      0.99        98\n",
      "\n"
     ]
    },
    {
     "name": "stderr",
     "output_type": "stream",
     "text": [
      "Training Epochs:  52%|█████▎    | 1050/2000 [05:00<06:33,  2.41it/s]"
     ]
    },
    {
     "name": "stdout",
     "output_type": "stream",
     "text": [
      "Epoch 1050/2000, Loss: 0.0426\n",
      "Test Accuracy at Epoch 1050: 98.98%\n",
      "Test F1-score at Epoch 1050: 0.9899\n",
      "Classification Report at Epoch 1050:\n",
      "                  precision    recall  f1-score   support\n",
      "\n",
      "    infringement       1.00      0.98      0.99        49\n",
      "non_infringement       0.98      1.00      0.99        49\n",
      "\n",
      "        accuracy                           0.99        98\n",
      "       macro avg       0.99      0.99      0.99        98\n",
      "    weighted avg       0.99      0.99      0.99        98\n",
      "\n"
     ]
    },
    {
     "name": "stderr",
     "output_type": "stream",
     "text": [
      "Training Epochs:  53%|█████▎    | 1060/2000 [05:04<06:25,  2.44it/s]"
     ]
    },
    {
     "name": "stdout",
     "output_type": "stream",
     "text": [
      "Epoch 1060/2000, Loss: 0.0424\n",
      "Test Accuracy at Epoch 1060: 95.92%\n",
      "Test F1-score at Epoch 1060: 0.9583\n",
      "Classification Report at Epoch 1060:\n",
      "                  precision    recall  f1-score   support\n",
      "\n",
      "    infringement       0.94      0.98      0.96        49\n",
      "non_infringement       0.98      0.94      0.96        49\n",
      "\n",
      "        accuracy                           0.96        98\n",
      "       macro avg       0.96      0.96      0.96        98\n",
      "    weighted avg       0.96      0.96      0.96        98\n",
      "\n"
     ]
    },
    {
     "name": "stderr",
     "output_type": "stream",
     "text": [
      "Training Epochs:  54%|█████▎    | 1070/2000 [05:08<06:16,  2.47it/s]"
     ]
    },
    {
     "name": "stdout",
     "output_type": "stream",
     "text": [
      "Epoch 1070/2000, Loss: 0.0422\n",
      "Test Accuracy at Epoch 1070: 95.92%\n",
      "Test F1-score at Epoch 1070: 0.9583\n",
      "Classification Report at Epoch 1070:\n",
      "                  precision    recall  f1-score   support\n",
      "\n",
      "    infringement       0.94      0.98      0.96        49\n",
      "non_infringement       0.98      0.94      0.96        49\n",
      "\n",
      "        accuracy                           0.96        98\n",
      "       macro avg       0.96      0.96      0.96        98\n",
      "    weighted avg       0.96      0.96      0.96        98\n",
      "\n"
     ]
    },
    {
     "name": "stderr",
     "output_type": "stream",
     "text": [
      "Training Epochs:  54%|█████▍    | 1080/2000 [05:12<06:09,  2.49it/s]"
     ]
    },
    {
     "name": "stdout",
     "output_type": "stream",
     "text": [
      "Epoch 1080/2000, Loss: 0.0420\n",
      "Test Accuracy at Epoch 1080: 95.92%\n",
      "Test F1-score at Epoch 1080: 0.9583\n",
      "Classification Report at Epoch 1080:\n",
      "                  precision    recall  f1-score   support\n",
      "\n",
      "    infringement       0.94      0.98      0.96        49\n",
      "non_infringement       0.98      0.94      0.96        49\n",
      "\n",
      "        accuracy                           0.96        98\n",
      "       macro avg       0.96      0.96      0.96        98\n",
      "    weighted avg       0.96      0.96      0.96        98\n",
      "\n"
     ]
    },
    {
     "name": "stderr",
     "output_type": "stream",
     "text": [
      "Training Epochs:  55%|█████▍    | 1090/2000 [05:16<06:30,  2.33it/s]"
     ]
    },
    {
     "name": "stdout",
     "output_type": "stream",
     "text": [
      "Epoch 1090/2000, Loss: 0.0433\n",
      "Test Accuracy at Epoch 1090: 98.98%\n",
      "Test F1-score at Epoch 1090: 0.9899\n",
      "Classification Report at Epoch 1090:\n",
      "                  precision    recall  f1-score   support\n",
      "\n",
      "    infringement       1.00      0.98      0.99        49\n",
      "non_infringement       0.98      1.00      0.99        49\n",
      "\n",
      "        accuracy                           0.99        98\n",
      "       macro avg       0.99      0.99      0.99        98\n",
      "    weighted avg       0.99      0.99      0.99        98\n",
      "\n"
     ]
    },
    {
     "name": "stderr",
     "output_type": "stream",
     "text": [
      "Training Epochs:  55%|█████▌    | 1100/2000 [05:20<05:57,  2.52it/s]"
     ]
    },
    {
     "name": "stdout",
     "output_type": "stream",
     "text": [
      "Epoch 1100/2000, Loss: 0.0428\n",
      "Test Accuracy at Epoch 1100: 98.98%\n",
      "Test F1-score at Epoch 1100: 0.9899\n",
      "Classification Report at Epoch 1100:\n",
      "                  precision    recall  f1-score   support\n",
      "\n",
      "    infringement       1.00      0.98      0.99        49\n",
      "non_infringement       0.98      1.00      0.99        49\n",
      "\n",
      "        accuracy                           0.99        98\n",
      "       macro avg       0.99      0.99      0.99        98\n",
      "    weighted avg       0.99      0.99      0.99        98\n",
      "\n"
     ]
    },
    {
     "name": "stderr",
     "output_type": "stream",
     "text": [
      "Training Epochs:  56%|█████▌    | 1110/2000 [05:24<06:04,  2.44it/s]"
     ]
    },
    {
     "name": "stdout",
     "output_type": "stream",
     "text": [
      "Epoch 1110/2000, Loss: 0.0428\n",
      "Test Accuracy at Epoch 1110: 98.98%\n",
      "Test F1-score at Epoch 1110: 0.9899\n",
      "Classification Report at Epoch 1110:\n",
      "                  precision    recall  f1-score   support\n",
      "\n",
      "    infringement       1.00      0.98      0.99        49\n",
      "non_infringement       0.98      1.00      0.99        49\n",
      "\n",
      "        accuracy                           0.99        98\n",
      "       macro avg       0.99      0.99      0.99        98\n",
      "    weighted avg       0.99      0.99      0.99        98\n",
      "\n"
     ]
    },
    {
     "name": "stderr",
     "output_type": "stream",
     "text": [
      "Training Epochs:  56%|█████▌    | 1120/2000 [05:29<07:43,  1.90it/s]"
     ]
    },
    {
     "name": "stdout",
     "output_type": "stream",
     "text": [
      "Epoch 1120/2000, Loss: 0.0428\n",
      "Test Accuracy at Epoch 1120: 98.98%\n",
      "Test F1-score at Epoch 1120: 0.9899\n",
      "Classification Report at Epoch 1120:\n",
      "                  precision    recall  f1-score   support\n",
      "\n",
      "    infringement       1.00      0.98      0.99        49\n",
      "non_infringement       0.98      1.00      0.99        49\n",
      "\n",
      "        accuracy                           0.99        98\n",
      "       macro avg       0.99      0.99      0.99        98\n",
      "    weighted avg       0.99      0.99      0.99        98\n",
      "\n"
     ]
    },
    {
     "name": "stderr",
     "output_type": "stream",
     "text": [
      "Training Epochs:  56%|█████▋    | 1130/2000 [05:33<05:53,  2.46it/s]"
     ]
    },
    {
     "name": "stdout",
     "output_type": "stream",
     "text": [
      "Epoch 1130/2000, Loss: 0.0428\n",
      "Test Accuracy at Epoch 1130: 98.98%\n",
      "Test F1-score at Epoch 1130: 0.9899\n",
      "Classification Report at Epoch 1130:\n",
      "                  precision    recall  f1-score   support\n",
      "\n",
      "    infringement       1.00      0.98      0.99        49\n",
      "non_infringement       0.98      1.00      0.99        49\n",
      "\n",
      "        accuracy                           0.99        98\n",
      "       macro avg       0.99      0.99      0.99        98\n",
      "    weighted avg       0.99      0.99      0.99        98\n",
      "\n"
     ]
    },
    {
     "name": "stderr",
     "output_type": "stream",
     "text": [
      "Training Epochs:  57%|█████▋    | 1140/2000 [05:36<05:39,  2.53it/s]"
     ]
    },
    {
     "name": "stdout",
     "output_type": "stream",
     "text": [
      "Epoch 1140/2000, Loss: 0.0428\n",
      "Test Accuracy at Epoch 1140: 98.98%\n",
      "Test F1-score at Epoch 1140: 0.9899\n",
      "Classification Report at Epoch 1140:\n",
      "                  precision    recall  f1-score   support\n",
      "\n",
      "    infringement       1.00      0.98      0.99        49\n",
      "non_infringement       0.98      1.00      0.99        49\n",
      "\n",
      "        accuracy                           0.99        98\n",
      "       macro avg       0.99      0.99      0.99        98\n",
      "    weighted avg       0.99      0.99      0.99        98\n",
      "\n"
     ]
    },
    {
     "name": "stderr",
     "output_type": "stream",
     "text": [
      "Training Epochs:  57%|█████▊    | 1150/2000 [05:40<05:33,  2.55it/s]"
     ]
    },
    {
     "name": "stdout",
     "output_type": "stream",
     "text": [
      "Epoch 1150/2000, Loss: 0.0437\n",
      "Test Accuracy at Epoch 1150: 98.98%\n",
      "Test F1-score at Epoch 1150: 0.9899\n",
      "Classification Report at Epoch 1150:\n",
      "                  precision    recall  f1-score   support\n",
      "\n",
      "    infringement       1.00      0.98      0.99        49\n",
      "non_infringement       0.98      1.00      0.99        49\n",
      "\n",
      "        accuracy                           0.99        98\n",
      "       macro avg       0.99      0.99      0.99        98\n",
      "    weighted avg       0.99      0.99      0.99        98\n",
      "\n"
     ]
    },
    {
     "name": "stderr",
     "output_type": "stream",
     "text": [
      "Training Epochs:  58%|█████▊    | 1160/2000 [05:44<05:46,  2.43it/s]"
     ]
    },
    {
     "name": "stdout",
     "output_type": "stream",
     "text": [
      "Epoch 1160/2000, Loss: 0.0426\n",
      "Test Accuracy at Epoch 1160: 98.98%\n",
      "Test F1-score at Epoch 1160: 0.9899\n",
      "Classification Report at Epoch 1160:\n",
      "                  precision    recall  f1-score   support\n",
      "\n",
      "    infringement       1.00      0.98      0.99        49\n",
      "non_infringement       0.98      1.00      0.99        49\n",
      "\n",
      "        accuracy                           0.99        98\n",
      "       macro avg       0.99      0.99      0.99        98\n",
      "    weighted avg       0.99      0.99      0.99        98\n",
      "\n"
     ]
    },
    {
     "name": "stderr",
     "output_type": "stream",
     "text": [
      "Training Epochs:  58%|█████▊    | 1170/2000 [05:48<05:31,  2.50it/s]"
     ]
    },
    {
     "name": "stdout",
     "output_type": "stream",
     "text": [
      "Epoch 1170/2000, Loss: 0.0428\n",
      "Test Accuracy at Epoch 1170: 98.98%\n",
      "Test F1-score at Epoch 1170: 0.9899\n",
      "Classification Report at Epoch 1170:\n",
      "                  precision    recall  f1-score   support\n",
      "\n",
      "    infringement       1.00      0.98      0.99        49\n",
      "non_infringement       0.98      1.00      0.99        49\n",
      "\n",
      "        accuracy                           0.99        98\n",
      "       macro avg       0.99      0.99      0.99        98\n",
      "    weighted avg       0.99      0.99      0.99        98\n",
      "\n"
     ]
    },
    {
     "name": "stderr",
     "output_type": "stream",
     "text": [
      "Training Epochs:  59%|█████▉    | 1180/2000 [05:52<05:23,  2.53it/s]"
     ]
    },
    {
     "name": "stdout",
     "output_type": "stream",
     "text": [
      "Epoch 1180/2000, Loss: 0.0428\n",
      "Test Accuracy at Epoch 1180: 98.98%\n",
      "Test F1-score at Epoch 1180: 0.9899\n",
      "Classification Report at Epoch 1180:\n",
      "                  precision    recall  f1-score   support\n",
      "\n",
      "    infringement       1.00      0.98      0.99        49\n",
      "non_infringement       0.98      1.00      0.99        49\n",
      "\n",
      "        accuracy                           0.99        98\n",
      "       macro avg       0.99      0.99      0.99        98\n",
      "    weighted avg       0.99      0.99      0.99        98\n",
      "\n"
     ]
    },
    {
     "name": "stderr",
     "output_type": "stream",
     "text": [
      "Training Epochs:  60%|█████▉    | 1190/2000 [05:56<05:26,  2.48it/s]"
     ]
    },
    {
     "name": "stdout",
     "output_type": "stream",
     "text": [
      "Epoch 1190/2000, Loss: 0.0428\n",
      "Test Accuracy at Epoch 1190: 98.98%\n",
      "Test F1-score at Epoch 1190: 0.9899\n",
      "Classification Report at Epoch 1190:\n",
      "                  precision    recall  f1-score   support\n",
      "\n",
      "    infringement       1.00      0.98      0.99        49\n",
      "non_infringement       0.98      1.00      0.99        49\n",
      "\n",
      "        accuracy                           0.99        98\n",
      "       macro avg       0.99      0.99      0.99        98\n",
      "    weighted avg       0.99      0.99      0.99        98\n",
      "\n"
     ]
    },
    {
     "name": "stderr",
     "output_type": "stream",
     "text": [
      "Training Epochs:  60%|██████    | 1200/2000 [06:00<05:25,  2.46it/s]"
     ]
    },
    {
     "name": "stdout",
     "output_type": "stream",
     "text": [
      "Epoch 1200/2000, Loss: 0.0428\n",
      "Test Accuracy at Epoch 1200: 98.98%\n",
      "Test F1-score at Epoch 1200: 0.9899\n",
      "Classification Report at Epoch 1200:\n",
      "                  precision    recall  f1-score   support\n",
      "\n",
      "    infringement       1.00      0.98      0.99        49\n",
      "non_infringement       0.98      1.00      0.99        49\n",
      "\n",
      "        accuracy                           0.99        98\n",
      "       macro avg       0.99      0.99      0.99        98\n",
      "    weighted avg       0.99      0.99      0.99        98\n",
      "\n"
     ]
    },
    {
     "name": "stderr",
     "output_type": "stream",
     "text": [
      "Training Epochs:  60%|██████    | 1210/2000 [06:04<05:24,  2.44it/s]"
     ]
    },
    {
     "name": "stdout",
     "output_type": "stream",
     "text": [
      "Epoch 1210/2000, Loss: 0.0428\n",
      "Test Accuracy at Epoch 1210: 98.98%\n",
      "Test F1-score at Epoch 1210: 0.9899\n",
      "Classification Report at Epoch 1210:\n",
      "                  precision    recall  f1-score   support\n",
      "\n",
      "    infringement       1.00      0.98      0.99        49\n",
      "non_infringement       0.98      1.00      0.99        49\n",
      "\n",
      "        accuracy                           0.99        98\n",
      "       macro avg       0.99      0.99      0.99        98\n",
      "    weighted avg       0.99      0.99      0.99        98\n",
      "\n"
     ]
    },
    {
     "name": "stderr",
     "output_type": "stream",
     "text": [
      "Training Epochs:  61%|██████    | 1220/2000 [06:08<05:12,  2.49it/s]"
     ]
    },
    {
     "name": "stdout",
     "output_type": "stream",
     "text": [
      "Epoch 1220/2000, Loss: 0.0434\n",
      "Test Accuracy at Epoch 1220: 98.98%\n",
      "Test F1-score at Epoch 1220: 0.9899\n",
      "Classification Report at Epoch 1220:\n",
      "                  precision    recall  f1-score   support\n",
      "\n",
      "    infringement       1.00      0.98      0.99        49\n",
      "non_infringement       0.98      1.00      0.99        49\n",
      "\n",
      "        accuracy                           0.99        98\n",
      "       macro avg       0.99      0.99      0.99        98\n",
      "    weighted avg       0.99      0.99      0.99        98\n",
      "\n"
     ]
    },
    {
     "name": "stderr",
     "output_type": "stream",
     "text": [
      "Training Epochs:  62%|██████▏   | 1230/2000 [06:12<05:14,  2.45it/s]"
     ]
    },
    {
     "name": "stdout",
     "output_type": "stream",
     "text": [
      "Epoch 1230/2000, Loss: 0.0428\n",
      "Test Accuracy at Epoch 1230: 98.98%\n",
      "Test F1-score at Epoch 1230: 0.9899\n",
      "Classification Report at Epoch 1230:\n",
      "                  precision    recall  f1-score   support\n",
      "\n",
      "    infringement       1.00      0.98      0.99        49\n",
      "non_infringement       0.98      1.00      0.99        49\n",
      "\n",
      "        accuracy                           0.99        98\n",
      "       macro avg       0.99      0.99      0.99        98\n",
      "    weighted avg       0.99      0.99      0.99        98\n",
      "\n"
     ]
    },
    {
     "name": "stderr",
     "output_type": "stream",
     "text": [
      "Training Epochs:  62%|██████▏   | 1240/2000 [06:16<05:00,  2.53it/s]"
     ]
    },
    {
     "name": "stdout",
     "output_type": "stream",
     "text": [
      "Epoch 1240/2000, Loss: 0.0428\n",
      "Test Accuracy at Epoch 1240: 98.98%\n",
      "Test F1-score at Epoch 1240: 0.9899\n",
      "Classification Report at Epoch 1240:\n",
      "                  precision    recall  f1-score   support\n",
      "\n",
      "    infringement       1.00      0.98      0.99        49\n",
      "non_infringement       0.98      1.00      0.99        49\n",
      "\n",
      "        accuracy                           0.99        98\n",
      "       macro avg       0.99      0.99      0.99        98\n",
      "    weighted avg       0.99      0.99      0.99        98\n",
      "\n"
     ]
    },
    {
     "name": "stderr",
     "output_type": "stream",
     "text": [
      "Training Epochs:  62%|██████▎   | 1250/2000 [06:20<04:55,  2.54it/s]"
     ]
    },
    {
     "name": "stdout",
     "output_type": "stream",
     "text": [
      "Epoch 1250/2000, Loss: 0.0428\n",
      "Test Accuracy at Epoch 1250: 98.98%\n",
      "Test F1-score at Epoch 1250: 0.9899\n",
      "Classification Report at Epoch 1250:\n",
      "                  precision    recall  f1-score   support\n",
      "\n",
      "    infringement       1.00      0.98      0.99        49\n",
      "non_infringement       0.98      1.00      0.99        49\n",
      "\n",
      "        accuracy                           0.99        98\n",
      "       macro avg       0.99      0.99      0.99        98\n",
      "    weighted avg       0.99      0.99      0.99        98\n",
      "\n"
     ]
    },
    {
     "name": "stderr",
     "output_type": "stream",
     "text": [
      "Training Epochs:  63%|██████▎   | 1260/2000 [06:24<04:54,  2.51it/s]"
     ]
    },
    {
     "name": "stdout",
     "output_type": "stream",
     "text": [
      "Epoch 1260/2000, Loss: 0.0428\n",
      "Test Accuracy at Epoch 1260: 98.98%\n",
      "Test F1-score at Epoch 1260: 0.9899\n",
      "Classification Report at Epoch 1260:\n",
      "                  precision    recall  f1-score   support\n",
      "\n",
      "    infringement       1.00      0.98      0.99        49\n",
      "non_infringement       0.98      1.00      0.99        49\n",
      "\n",
      "        accuracy                           0.99        98\n",
      "       macro avg       0.99      0.99      0.99        98\n",
      "    weighted avg       0.99      0.99      0.99        98\n",
      "\n"
     ]
    },
    {
     "name": "stderr",
     "output_type": "stream",
     "text": [
      "Training Epochs:  64%|██████▎   | 1270/2000 [06:28<04:53,  2.49it/s]"
     ]
    },
    {
     "name": "stdout",
     "output_type": "stream",
     "text": [
      "Epoch 1270/2000, Loss: 0.0428\n",
      "Test Accuracy at Epoch 1270: 98.98%\n",
      "Test F1-score at Epoch 1270: 0.9899\n",
      "Classification Report at Epoch 1270:\n",
      "                  precision    recall  f1-score   support\n",
      "\n",
      "    infringement       1.00      0.98      0.99        49\n",
      "non_infringement       0.98      1.00      0.99        49\n",
      "\n",
      "        accuracy                           0.99        98\n",
      "       macro avg       0.99      0.99      0.99        98\n",
      "    weighted avg       0.99      0.99      0.99        98\n",
      "\n"
     ]
    },
    {
     "name": "stderr",
     "output_type": "stream",
     "text": [
      "Training Epochs:  64%|██████▍   | 1280/2000 [06:31<04:49,  2.49it/s]"
     ]
    },
    {
     "name": "stdout",
     "output_type": "stream",
     "text": [
      "Epoch 1280/2000, Loss: 0.0434\n",
      "Test Accuracy at Epoch 1280: 98.98%\n",
      "Test F1-score at Epoch 1280: 0.9899\n",
      "Classification Report at Epoch 1280:\n",
      "                  precision    recall  f1-score   support\n",
      "\n",
      "    infringement       1.00      0.98      0.99        49\n",
      "non_infringement       0.98      1.00      0.99        49\n",
      "\n",
      "        accuracy                           0.99        98\n",
      "       macro avg       0.99      0.99      0.99        98\n",
      "    weighted avg       0.99      0.99      0.99        98\n",
      "\n"
     ]
    },
    {
     "name": "stderr",
     "output_type": "stream",
     "text": [
      "Training Epochs:  64%|██████▍   | 1290/2000 [06:35<04:40,  2.53it/s]"
     ]
    },
    {
     "name": "stdout",
     "output_type": "stream",
     "text": [
      "Epoch 1290/2000, Loss: 0.0428\n",
      "Test Accuracy at Epoch 1290: 98.98%\n",
      "Test F1-score at Epoch 1290: 0.9899\n",
      "Classification Report at Epoch 1290:\n",
      "                  precision    recall  f1-score   support\n",
      "\n",
      "    infringement       1.00      0.98      0.99        49\n",
      "non_infringement       0.98      1.00      0.99        49\n",
      "\n",
      "        accuracy                           0.99        98\n",
      "       macro avg       0.99      0.99      0.99        98\n",
      "    weighted avg       0.99      0.99      0.99        98\n",
      "\n"
     ]
    },
    {
     "name": "stderr",
     "output_type": "stream",
     "text": [
      "Training Epochs:  65%|██████▌   | 1300/2000 [06:39<04:38,  2.52it/s]"
     ]
    },
    {
     "name": "stdout",
     "output_type": "stream",
     "text": [
      "Epoch 1300/2000, Loss: 0.0428\n",
      "Test Accuracy at Epoch 1300: 98.98%\n",
      "Test F1-score at Epoch 1300: 0.9899\n",
      "Classification Report at Epoch 1300:\n",
      "                  precision    recall  f1-score   support\n",
      "\n",
      "    infringement       1.00      0.98      0.99        49\n",
      "non_infringement       0.98      1.00      0.99        49\n",
      "\n",
      "        accuracy                           0.99        98\n",
      "       macro avg       0.99      0.99      0.99        98\n",
      "    weighted avg       0.99      0.99      0.99        98\n",
      "\n"
     ]
    },
    {
     "name": "stderr",
     "output_type": "stream",
     "text": [
      "Training Epochs:  66%|██████▌   | 1310/2000 [06:43<04:37,  2.48it/s]"
     ]
    },
    {
     "name": "stdout",
     "output_type": "stream",
     "text": [
      "Epoch 1310/2000, Loss: 0.0428\n",
      "Test Accuracy at Epoch 1310: 98.98%\n",
      "Test F1-score at Epoch 1310: 0.9899\n",
      "Classification Report at Epoch 1310:\n",
      "                  precision    recall  f1-score   support\n",
      "\n",
      "    infringement       1.00      0.98      0.99        49\n",
      "non_infringement       0.98      1.00      0.99        49\n",
      "\n",
      "        accuracy                           0.99        98\n",
      "       macro avg       0.99      0.99      0.99        98\n",
      "    weighted avg       0.99      0.99      0.99        98\n",
      "\n"
     ]
    },
    {
     "name": "stderr",
     "output_type": "stream",
     "text": [
      "Training Epochs:  66%|██████▌   | 1320/2000 [06:47<04:28,  2.53it/s]"
     ]
    },
    {
     "name": "stdout",
     "output_type": "stream",
     "text": [
      "Epoch 1320/2000, Loss: 0.0428\n",
      "Test Accuracy at Epoch 1320: 98.98%\n",
      "Test F1-score at Epoch 1320: 0.9899\n",
      "Classification Report at Epoch 1320:\n",
      "                  precision    recall  f1-score   support\n",
      "\n",
      "    infringement       1.00      0.98      0.99        49\n",
      "non_infringement       0.98      1.00      0.99        49\n",
      "\n",
      "        accuracy                           0.99        98\n",
      "       macro avg       0.99      0.99      0.99        98\n",
      "    weighted avg       0.99      0.99      0.99        98\n",
      "\n"
     ]
    },
    {
     "name": "stderr",
     "output_type": "stream",
     "text": [
      "Training Epochs:  66%|██████▋   | 1330/2000 [06:51<04:24,  2.53it/s]"
     ]
    },
    {
     "name": "stdout",
     "output_type": "stream",
     "text": [
      "Epoch 1330/2000, Loss: 0.0428\n",
      "Test Accuracy at Epoch 1330: 98.98%\n",
      "Test F1-score at Epoch 1330: 0.9899\n",
      "Classification Report at Epoch 1330:\n",
      "                  precision    recall  f1-score   support\n",
      "\n",
      "    infringement       1.00      0.98      0.99        49\n",
      "non_infringement       0.98      1.00      0.99        49\n",
      "\n",
      "        accuracy                           0.99        98\n",
      "       macro avg       0.99      0.99      0.99        98\n",
      "    weighted avg       0.99      0.99      0.99        98\n",
      "\n"
     ]
    },
    {
     "name": "stderr",
     "output_type": "stream",
     "text": [
      "Training Epochs:  67%|██████▋   | 1340/2000 [06:55<04:28,  2.46it/s]"
     ]
    },
    {
     "name": "stdout",
     "output_type": "stream",
     "text": [
      "Epoch 1340/2000, Loss: 0.0428\n",
      "Test Accuracy at Epoch 1340: 98.98%\n",
      "Test F1-score at Epoch 1340: 0.9899\n",
      "Classification Report at Epoch 1340:\n",
      "                  precision    recall  f1-score   support\n",
      "\n",
      "    infringement       1.00      0.98      0.99        49\n",
      "non_infringement       0.98      1.00      0.99        49\n",
      "\n",
      "        accuracy                           0.99        98\n",
      "       macro avg       0.99      0.99      0.99        98\n",
      "    weighted avg       0.99      0.99      0.99        98\n",
      "\n"
     ]
    },
    {
     "name": "stderr",
     "output_type": "stream",
     "text": [
      "Training Epochs:  68%|██████▊   | 1350/2000 [06:59<04:16,  2.53it/s]"
     ]
    },
    {
     "name": "stdout",
     "output_type": "stream",
     "text": [
      "Epoch 1350/2000, Loss: 0.0429\n",
      "Test Accuracy at Epoch 1350: 98.98%\n",
      "Test F1-score at Epoch 1350: 0.9899\n",
      "Classification Report at Epoch 1350:\n",
      "                  precision    recall  f1-score   support\n",
      "\n",
      "    infringement       1.00      0.98      0.99        49\n",
      "non_infringement       0.98      1.00      0.99        49\n",
      "\n",
      "        accuracy                           0.99        98\n",
      "       macro avg       0.99      0.99      0.99        98\n",
      "    weighted avg       0.99      0.99      0.99        98\n",
      "\n"
     ]
    },
    {
     "name": "stderr",
     "output_type": "stream",
     "text": [
      "Training Epochs:  68%|██████▊   | 1360/2000 [07:03<04:18,  2.47it/s]"
     ]
    },
    {
     "name": "stdout",
     "output_type": "stream",
     "text": [
      "Epoch 1360/2000, Loss: 0.0428\n",
      "Test Accuracy at Epoch 1360: 98.98%\n",
      "Test F1-score at Epoch 1360: 0.9899\n",
      "Classification Report at Epoch 1360:\n",
      "                  precision    recall  f1-score   support\n",
      "\n",
      "    infringement       1.00      0.98      0.99        49\n",
      "non_infringement       0.98      1.00      0.99        49\n",
      "\n",
      "        accuracy                           0.99        98\n",
      "       macro avg       0.99      0.99      0.99        98\n",
      "    weighted avg       0.99      0.99      0.99        98\n",
      "\n"
     ]
    },
    {
     "name": "stderr",
     "output_type": "stream",
     "text": [
      "Training Epochs:  68%|██████▊   | 1370/2000 [07:07<04:08,  2.53it/s]"
     ]
    },
    {
     "name": "stdout",
     "output_type": "stream",
     "text": [
      "Epoch 1370/2000, Loss: 0.0428\n",
      "Test Accuracy at Epoch 1370: 98.98%\n",
      "Test F1-score at Epoch 1370: 0.9899\n",
      "Classification Report at Epoch 1370:\n",
      "                  precision    recall  f1-score   support\n",
      "\n",
      "    infringement       1.00      0.98      0.99        49\n",
      "non_infringement       0.98      1.00      0.99        49\n",
      "\n",
      "        accuracy                           0.99        98\n",
      "       macro avg       0.99      0.99      0.99        98\n",
      "    weighted avg       0.99      0.99      0.99        98\n",
      "\n"
     ]
    },
    {
     "name": "stderr",
     "output_type": "stream",
     "text": [
      "Training Epochs:  69%|██████▉   | 1380/2000 [07:10<04:03,  2.55it/s]"
     ]
    },
    {
     "name": "stdout",
     "output_type": "stream",
     "text": [
      "Epoch 1380/2000, Loss: 0.0428\n",
      "Test Accuracy at Epoch 1380: 98.98%\n",
      "Test F1-score at Epoch 1380: 0.9899\n",
      "Classification Report at Epoch 1380:\n",
      "                  precision    recall  f1-score   support\n",
      "\n",
      "    infringement       1.00      0.98      0.99        49\n",
      "non_infringement       0.98      1.00      0.99        49\n",
      "\n",
      "        accuracy                           0.99        98\n",
      "       macro avg       0.99      0.99      0.99        98\n",
      "    weighted avg       0.99      0.99      0.99        98\n",
      "\n"
     ]
    },
    {
     "name": "stderr",
     "output_type": "stream",
     "text": [
      "Training Epochs:  70%|██████▉   | 1390/2000 [07:14<04:04,  2.50it/s]"
     ]
    },
    {
     "name": "stdout",
     "output_type": "stream",
     "text": [
      "Epoch 1390/2000, Loss: 0.0428\n",
      "Test Accuracy at Epoch 1390: 98.98%\n",
      "Test F1-score at Epoch 1390: 0.9899\n",
      "Classification Report at Epoch 1390:\n",
      "                  precision    recall  f1-score   support\n",
      "\n",
      "    infringement       1.00      0.98      0.99        49\n",
      "non_infringement       0.98      1.00      0.99        49\n",
      "\n",
      "        accuracy                           0.99        98\n",
      "       macro avg       0.99      0.99      0.99        98\n",
      "    weighted avg       0.99      0.99      0.99        98\n",
      "\n"
     ]
    },
    {
     "name": "stderr",
     "output_type": "stream",
     "text": [
      "Training Epochs:  70%|███████   | 1400/2000 [07:18<03:57,  2.52it/s]"
     ]
    },
    {
     "name": "stdout",
     "output_type": "stream",
     "text": [
      "Epoch 1400/2000, Loss: 0.0428\n",
      "Test Accuracy at Epoch 1400: 98.98%\n",
      "Test F1-score at Epoch 1400: 0.9899\n",
      "Classification Report at Epoch 1400:\n",
      "                  precision    recall  f1-score   support\n",
      "\n",
      "    infringement       1.00      0.98      0.99        49\n",
      "non_infringement       0.98      1.00      0.99        49\n",
      "\n",
      "        accuracy                           0.99        98\n",
      "       macro avg       0.99      0.99      0.99        98\n",
      "    weighted avg       0.99      0.99      0.99        98\n",
      "\n"
     ]
    },
    {
     "name": "stderr",
     "output_type": "stream",
     "text": [
      "Training Epochs:  70%|███████   | 1410/2000 [07:22<03:50,  2.56it/s]"
     ]
    },
    {
     "name": "stdout",
     "output_type": "stream",
     "text": [
      "Epoch 1410/2000, Loss: 0.0428\n",
      "Test Accuracy at Epoch 1410: 98.98%\n",
      "Test F1-score at Epoch 1410: 0.9899\n",
      "Classification Report at Epoch 1410:\n",
      "                  precision    recall  f1-score   support\n",
      "\n",
      "    infringement       1.00      0.98      0.99        49\n",
      "non_infringement       0.98      1.00      0.99        49\n",
      "\n",
      "        accuracy                           0.99        98\n",
      "       macro avg       0.99      0.99      0.99        98\n",
      "    weighted avg       0.99      0.99      0.99        98\n",
      "\n"
     ]
    },
    {
     "name": "stderr",
     "output_type": "stream",
     "text": [
      "Training Epochs:  71%|███████   | 1420/2000 [07:26<03:55,  2.46it/s]"
     ]
    },
    {
     "name": "stdout",
     "output_type": "stream",
     "text": [
      "Epoch 1420/2000, Loss: 0.0441\n",
      "Test Accuracy at Epoch 1420: 98.98%\n",
      "Test F1-score at Epoch 1420: 0.9899\n",
      "Classification Report at Epoch 1420:\n",
      "                  precision    recall  f1-score   support\n",
      "\n",
      "    infringement       1.00      0.98      0.99        49\n",
      "non_infringement       0.98      1.00      0.99        49\n",
      "\n",
      "        accuracy                           0.99        98\n",
      "       macro avg       0.99      0.99      0.99        98\n",
      "    weighted avg       0.99      0.99      0.99        98\n",
      "\n"
     ]
    },
    {
     "name": "stderr",
     "output_type": "stream",
     "text": [
      "Training Epochs:  72%|███████▏  | 1430/2000 [07:30<03:46,  2.52it/s]"
     ]
    },
    {
     "name": "stdout",
     "output_type": "stream",
     "text": [
      "Epoch 1430/2000, Loss: 0.0430\n",
      "Test Accuracy at Epoch 1430: 98.98%\n",
      "Test F1-score at Epoch 1430: 0.9899\n",
      "Classification Report at Epoch 1430:\n",
      "                  precision    recall  f1-score   support\n",
      "\n",
      "    infringement       1.00      0.98      0.99        49\n",
      "non_infringement       0.98      1.00      0.99        49\n",
      "\n",
      "        accuracy                           0.99        98\n",
      "       macro avg       0.99      0.99      0.99        98\n",
      "    weighted avg       0.99      0.99      0.99        98\n",
      "\n"
     ]
    },
    {
     "name": "stderr",
     "output_type": "stream",
     "text": [
      "Training Epochs:  72%|███████▏  | 1440/2000 [07:34<03:41,  2.53it/s]"
     ]
    },
    {
     "name": "stdout",
     "output_type": "stream",
     "text": [
      "Epoch 1440/2000, Loss: 0.0428\n",
      "Test Accuracy at Epoch 1440: 98.98%\n",
      "Test F1-score at Epoch 1440: 0.9899\n",
      "Classification Report at Epoch 1440:\n",
      "                  precision    recall  f1-score   support\n",
      "\n",
      "    infringement       1.00      0.98      0.99        49\n",
      "non_infringement       0.98      1.00      0.99        49\n",
      "\n",
      "        accuracy                           0.99        98\n",
      "       macro avg       0.99      0.99      0.99        98\n",
      "    weighted avg       0.99      0.99      0.99        98\n",
      "\n"
     ]
    },
    {
     "name": "stderr",
     "output_type": "stream",
     "text": [
      "Training Epochs:  72%|███████▎  | 1450/2000 [07:38<04:22,  2.09it/s]"
     ]
    },
    {
     "name": "stdout",
     "output_type": "stream",
     "text": [
      "Epoch 1450/2000, Loss: 0.0428\n",
      "Test Accuracy at Epoch 1450: 98.98%\n",
      "Test F1-score at Epoch 1450: 0.9899\n",
      "Classification Report at Epoch 1450:\n",
      "                  precision    recall  f1-score   support\n",
      "\n",
      "    infringement       1.00      0.98      0.99        49\n",
      "non_infringement       0.98      1.00      0.99        49\n",
      "\n",
      "        accuracy                           0.99        98\n",
      "       macro avg       0.99      0.99      0.99        98\n",
      "    weighted avg       0.99      0.99      0.99        98\n",
      "\n"
     ]
    },
    {
     "name": "stderr",
     "output_type": "stream",
     "text": [
      "Training Epochs:  73%|███████▎  | 1460/2000 [07:42<03:35,  2.51it/s]"
     ]
    },
    {
     "name": "stdout",
     "output_type": "stream",
     "text": [
      "Epoch 1460/2000, Loss: 0.0428\n",
      "Test Accuracy at Epoch 1460: 98.98%\n",
      "Test F1-score at Epoch 1460: 0.9899\n",
      "Classification Report at Epoch 1460:\n",
      "                  precision    recall  f1-score   support\n",
      "\n",
      "    infringement       1.00      0.98      0.99        49\n",
      "non_infringement       0.98      1.00      0.99        49\n",
      "\n",
      "        accuracy                           0.99        98\n",
      "       macro avg       0.99      0.99      0.99        98\n",
      "    weighted avg       0.99      0.99      0.99        98\n",
      "\n"
     ]
    },
    {
     "name": "stderr",
     "output_type": "stream",
     "text": [
      "Training Epochs:  74%|███████▎  | 1470/2000 [07:46<03:28,  2.54it/s]"
     ]
    },
    {
     "name": "stdout",
     "output_type": "stream",
     "text": [
      "Epoch 1470/2000, Loss: 0.0428\n",
      "Test Accuracy at Epoch 1470: 98.98%\n",
      "Test F1-score at Epoch 1470: 0.9899\n",
      "Classification Report at Epoch 1470:\n",
      "                  precision    recall  f1-score   support\n",
      "\n",
      "    infringement       1.00      0.98      0.99        49\n",
      "non_infringement       0.98      1.00      0.99        49\n",
      "\n",
      "        accuracy                           0.99        98\n",
      "       macro avg       0.99      0.99      0.99        98\n",
      "    weighted avg       0.99      0.99      0.99        98\n",
      "\n"
     ]
    },
    {
     "name": "stderr",
     "output_type": "stream",
     "text": [
      "Training Epochs:  74%|███████▍  | 1480/2000 [07:50<03:27,  2.51it/s]"
     ]
    },
    {
     "name": "stdout",
     "output_type": "stream",
     "text": [
      "Epoch 1480/2000, Loss: 0.0428\n",
      "Test Accuracy at Epoch 1480: 98.98%\n",
      "Test F1-score at Epoch 1480: 0.9899\n",
      "Classification Report at Epoch 1480:\n",
      "                  precision    recall  f1-score   support\n",
      "\n",
      "    infringement       1.00      0.98      0.99        49\n",
      "non_infringement       0.98      1.00      0.99        49\n",
      "\n",
      "        accuracy                           0.99        98\n",
      "       macro avg       0.99      0.99      0.99        98\n",
      "    weighted avg       0.99      0.99      0.99        98\n",
      "\n"
     ]
    },
    {
     "name": "stderr",
     "output_type": "stream",
     "text": [
      "Training Epochs:  74%|███████▍  | 1490/2000 [07:53<03:20,  2.54it/s]"
     ]
    },
    {
     "name": "stdout",
     "output_type": "stream",
     "text": [
      "Epoch 1490/2000, Loss: 0.0428\n",
      "Test Accuracy at Epoch 1490: 98.98%\n",
      "Test F1-score at Epoch 1490: 0.9899\n",
      "Classification Report at Epoch 1490:\n",
      "                  precision    recall  f1-score   support\n",
      "\n",
      "    infringement       1.00      0.98      0.99        49\n",
      "non_infringement       0.98      1.00      0.99        49\n",
      "\n",
      "        accuracy                           0.99        98\n",
      "       macro avg       0.99      0.99      0.99        98\n",
      "    weighted avg       0.99      0.99      0.99        98\n",
      "\n"
     ]
    },
    {
     "name": "stderr",
     "output_type": "stream",
     "text": [
      "Training Epochs:  75%|███████▌  | 1500/2000 [07:57<03:17,  2.54it/s]"
     ]
    },
    {
     "name": "stdout",
     "output_type": "stream",
     "text": [
      "Epoch 1500/2000, Loss: 0.0433\n",
      "Test Accuracy at Epoch 1500: 98.98%\n",
      "Test F1-score at Epoch 1500: 0.9899\n",
      "Classification Report at Epoch 1500:\n",
      "                  precision    recall  f1-score   support\n",
      "\n",
      "    infringement       1.00      0.98      0.99        49\n",
      "non_infringement       0.98      1.00      0.99        49\n",
      "\n",
      "        accuracy                           0.99        98\n",
      "       macro avg       0.99      0.99      0.99        98\n",
      "    weighted avg       0.99      0.99      0.99        98\n",
      "\n"
     ]
    },
    {
     "name": "stderr",
     "output_type": "stream",
     "text": [
      "Training Epochs:  76%|███████▌  | 1510/2000 [08:01<03:13,  2.54it/s]"
     ]
    },
    {
     "name": "stdout",
     "output_type": "stream",
     "text": [
      "Epoch 1510/2000, Loss: 0.0428\n",
      "Test Accuracy at Epoch 1510: 98.98%\n",
      "Test F1-score at Epoch 1510: 0.9899\n",
      "Classification Report at Epoch 1510:\n",
      "                  precision    recall  f1-score   support\n",
      "\n",
      "    infringement       1.00      0.98      0.99        49\n",
      "non_infringement       0.98      1.00      0.99        49\n",
      "\n",
      "        accuracy                           0.99        98\n",
      "       macro avg       0.99      0.99      0.99        98\n",
      "    weighted avg       0.99      0.99      0.99        98\n",
      "\n"
     ]
    },
    {
     "name": "stderr",
     "output_type": "stream",
     "text": [
      "Training Epochs:  76%|███████▌  | 1520/2000 [08:05<03:09,  2.53it/s]"
     ]
    },
    {
     "name": "stdout",
     "output_type": "stream",
     "text": [
      "Epoch 1520/2000, Loss: 0.0428\n",
      "Test Accuracy at Epoch 1520: 98.98%\n",
      "Test F1-score at Epoch 1520: 0.9899\n",
      "Classification Report at Epoch 1520:\n",
      "                  precision    recall  f1-score   support\n",
      "\n",
      "    infringement       1.00      0.98      0.99        49\n",
      "non_infringement       0.98      1.00      0.99        49\n",
      "\n",
      "        accuracy                           0.99        98\n",
      "       macro avg       0.99      0.99      0.99        98\n",
      "    weighted avg       0.99      0.99      0.99        98\n",
      "\n"
     ]
    },
    {
     "name": "stderr",
     "output_type": "stream",
     "text": [
      "Training Epochs:  76%|███████▋  | 1530/2000 [08:09<03:13,  2.43it/s]"
     ]
    },
    {
     "name": "stdout",
     "output_type": "stream",
     "text": [
      "Epoch 1530/2000, Loss: 0.0428\n",
      "Test Accuracy at Epoch 1530: 98.98%\n",
      "Test F1-score at Epoch 1530: 0.9899\n",
      "Classification Report at Epoch 1530:\n",
      "                  precision    recall  f1-score   support\n",
      "\n",
      "    infringement       1.00      0.98      0.99        49\n",
      "non_infringement       0.98      1.00      0.99        49\n",
      "\n",
      "        accuracy                           0.99        98\n",
      "       macro avg       0.99      0.99      0.99        98\n",
      "    weighted avg       0.99      0.99      0.99        98\n",
      "\n"
     ]
    },
    {
     "name": "stderr",
     "output_type": "stream",
     "text": [
      "Training Epochs:  77%|███████▋  | 1540/2000 [08:13<03:18,  2.32it/s]"
     ]
    },
    {
     "name": "stdout",
     "output_type": "stream",
     "text": [
      "Epoch 1540/2000, Loss: 0.0428\n",
      "Test Accuracy at Epoch 1540: 98.98%\n",
      "Test F1-score at Epoch 1540: 0.9899\n",
      "Classification Report at Epoch 1540:\n",
      "                  precision    recall  f1-score   support\n",
      "\n",
      "    infringement       1.00      0.98      0.99        49\n",
      "non_infringement       0.98      1.00      0.99        49\n",
      "\n",
      "        accuracy                           0.99        98\n",
      "       macro avg       0.99      0.99      0.99        98\n",
      "    weighted avg       0.99      0.99      0.99        98\n",
      "\n"
     ]
    },
    {
     "name": "stderr",
     "output_type": "stream",
     "text": [
      "Training Epochs:  78%|███████▊  | 1550/2000 [08:17<03:01,  2.48it/s]"
     ]
    },
    {
     "name": "stdout",
     "output_type": "stream",
     "text": [
      "Epoch 1550/2000, Loss: 0.0428\n",
      "Test Accuracy at Epoch 1550: 98.98%\n",
      "Test F1-score at Epoch 1550: 0.9899\n",
      "Classification Report at Epoch 1550:\n",
      "                  precision    recall  f1-score   support\n",
      "\n",
      "    infringement       1.00      0.98      0.99        49\n",
      "non_infringement       0.98      1.00      0.99        49\n",
      "\n",
      "        accuracy                           0.99        98\n",
      "       macro avg       0.99      0.99      0.99        98\n",
      "    weighted avg       0.99      0.99      0.99        98\n",
      "\n"
     ]
    },
    {
     "name": "stderr",
     "output_type": "stream",
     "text": [
      "Training Epochs:  78%|███████▊  | 1560/2000 [08:21<03:14,  2.26it/s]"
     ]
    },
    {
     "name": "stdout",
     "output_type": "stream",
     "text": [
      "Epoch 1560/2000, Loss: 0.0428\n",
      "Test Accuracy at Epoch 1560: 95.92%\n",
      "Test F1-score at Epoch 1560: 0.9583\n",
      "Classification Report at Epoch 1560:\n",
      "                  precision    recall  f1-score   support\n",
      "\n",
      "    infringement       0.94      0.98      0.96        49\n",
      "non_infringement       0.98      0.94      0.96        49\n",
      "\n",
      "        accuracy                           0.96        98\n",
      "       macro avg       0.96      0.96      0.96        98\n",
      "    weighted avg       0.96      0.96      0.96        98\n",
      "\n"
     ]
    },
    {
     "name": "stderr",
     "output_type": "stream",
     "text": [
      "Training Epochs:  78%|███████▊  | 1570/2000 [08:25<02:49,  2.54it/s]"
     ]
    },
    {
     "name": "stdout",
     "output_type": "stream",
     "text": [
      "Epoch 1570/2000, Loss: 0.0429\n",
      "Test Accuracy at Epoch 1570: 95.92%\n",
      "Test F1-score at Epoch 1570: 0.9583\n",
      "Classification Report at Epoch 1570:\n",
      "                  precision    recall  f1-score   support\n",
      "\n",
      "    infringement       0.94      0.98      0.96        49\n",
      "non_infringement       0.98      0.94      0.96        49\n",
      "\n",
      "        accuracy                           0.96        98\n",
      "       macro avg       0.96      0.96      0.96        98\n",
      "    weighted avg       0.96      0.96      0.96        98\n",
      "\n"
     ]
    },
    {
     "name": "stderr",
     "output_type": "stream",
     "text": [
      "Training Epochs:  79%|███████▉  | 1580/2000 [08:29<02:44,  2.55it/s]"
     ]
    },
    {
     "name": "stdout",
     "output_type": "stream",
     "text": [
      "Epoch 1580/2000, Loss: 0.0428\n",
      "Test Accuracy at Epoch 1580: 95.92%\n",
      "Test F1-score at Epoch 1580: 0.9583\n",
      "Classification Report at Epoch 1580:\n",
      "                  precision    recall  f1-score   support\n",
      "\n",
      "    infringement       0.94      0.98      0.96        49\n",
      "non_infringement       0.98      0.94      0.96        49\n",
      "\n",
      "        accuracy                           0.96        98\n",
      "       macro avg       0.96      0.96      0.96        98\n",
      "    weighted avg       0.96      0.96      0.96        98\n",
      "\n"
     ]
    },
    {
     "name": "stderr",
     "output_type": "stream",
     "text": [
      "Training Epochs:  80%|███████▉  | 1590/2000 [08:33<02:41,  2.54it/s]"
     ]
    },
    {
     "name": "stdout",
     "output_type": "stream",
     "text": [
      "Epoch 1590/2000, Loss: 0.0428\n",
      "Test Accuracy at Epoch 1590: 95.92%\n",
      "Test F1-score at Epoch 1590: 0.9583\n",
      "Classification Report at Epoch 1590:\n",
      "                  precision    recall  f1-score   support\n",
      "\n",
      "    infringement       0.94      0.98      0.96        49\n",
      "non_infringement       0.98      0.94      0.96        49\n",
      "\n",
      "        accuracy                           0.96        98\n",
      "       macro avg       0.96      0.96      0.96        98\n",
      "    weighted avg       0.96      0.96      0.96        98\n",
      "\n"
     ]
    },
    {
     "name": "stderr",
     "output_type": "stream",
     "text": [
      "Training Epochs:  80%|████████  | 1600/2000 [08:36<02:36,  2.55it/s]"
     ]
    },
    {
     "name": "stdout",
     "output_type": "stream",
     "text": [
      "Epoch 1600/2000, Loss: 0.0429\n",
      "Test Accuracy at Epoch 1600: 95.92%\n",
      "Test F1-score at Epoch 1600: 0.9583\n",
      "Classification Report at Epoch 1600:\n",
      "                  precision    recall  f1-score   support\n",
      "\n",
      "    infringement       0.94      0.98      0.96        49\n",
      "non_infringement       0.98      0.94      0.96        49\n",
      "\n",
      "        accuracy                           0.96        98\n",
      "       macro avg       0.96      0.96      0.96        98\n",
      "    weighted avg       0.96      0.96      0.96        98\n",
      "\n"
     ]
    },
    {
     "name": "stderr",
     "output_type": "stream",
     "text": [
      "Training Epochs:  80%|████████  | 1610/2000 [08:40<02:35,  2.51it/s]"
     ]
    },
    {
     "name": "stdout",
     "output_type": "stream",
     "text": [
      "Epoch 1610/2000, Loss: 0.0428\n",
      "Test Accuracy at Epoch 1610: 95.92%\n",
      "Test F1-score at Epoch 1610: 0.9583\n",
      "Classification Report at Epoch 1610:\n",
      "                  precision    recall  f1-score   support\n",
      "\n",
      "    infringement       0.94      0.98      0.96        49\n",
      "non_infringement       0.98      0.94      0.96        49\n",
      "\n",
      "        accuracy                           0.96        98\n",
      "       macro avg       0.96      0.96      0.96        98\n",
      "    weighted avg       0.96      0.96      0.96        98\n",
      "\n"
     ]
    },
    {
     "name": "stderr",
     "output_type": "stream",
     "text": [
      "Training Epochs:  81%|████████  | 1620/2000 [08:44<02:30,  2.53it/s]"
     ]
    },
    {
     "name": "stdout",
     "output_type": "stream",
     "text": [
      "Epoch 1620/2000, Loss: 0.0428\n",
      "Test Accuracy at Epoch 1620: 95.92%\n",
      "Test F1-score at Epoch 1620: 0.9583\n",
      "Classification Report at Epoch 1620:\n",
      "                  precision    recall  f1-score   support\n",
      "\n",
      "    infringement       0.94      0.98      0.96        49\n",
      "non_infringement       0.98      0.94      0.96        49\n",
      "\n",
      "        accuracy                           0.96        98\n",
      "       macro avg       0.96      0.96      0.96        98\n",
      "    weighted avg       0.96      0.96      0.96        98\n",
      "\n"
     ]
    },
    {
     "name": "stderr",
     "output_type": "stream",
     "text": [
      "Training Epochs:  82%|████████▏ | 1630/2000 [08:49<03:09,  1.96it/s]"
     ]
    },
    {
     "name": "stdout",
     "output_type": "stream",
     "text": [
      "Epoch 1630/2000, Loss: 0.0428\n",
      "Test Accuracy at Epoch 1630: 95.92%\n",
      "Test F1-score at Epoch 1630: 0.9583\n",
      "Classification Report at Epoch 1630:\n",
      "                  precision    recall  f1-score   support\n",
      "\n",
      "    infringement       0.94      0.98      0.96        49\n",
      "non_infringement       0.98      0.94      0.96        49\n",
      "\n",
      "        accuracy                           0.96        98\n",
      "       macro avg       0.96      0.96      0.96        98\n",
      "    weighted avg       0.96      0.96      0.96        98\n",
      "\n"
     ]
    },
    {
     "name": "stderr",
     "output_type": "stream",
     "text": [
      "Training Epochs:  82%|████████▏ | 1640/2000 [08:54<02:32,  2.37it/s]"
     ]
    },
    {
     "name": "stdout",
     "output_type": "stream",
     "text": [
      "Epoch 1640/2000, Loss: 0.0428\n",
      "Test Accuracy at Epoch 1640: 95.92%\n",
      "Test F1-score at Epoch 1640: 0.9583\n",
      "Classification Report at Epoch 1640:\n",
      "                  precision    recall  f1-score   support\n",
      "\n",
      "    infringement       0.94      0.98      0.96        49\n",
      "non_infringement       0.98      0.94      0.96        49\n",
      "\n",
      "        accuracy                           0.96        98\n",
      "       macro avg       0.96      0.96      0.96        98\n",
      "    weighted avg       0.96      0.96      0.96        98\n",
      "\n"
     ]
    },
    {
     "name": "stderr",
     "output_type": "stream",
     "text": [
      "Training Epochs:  82%|████████▎ | 1650/2000 [08:58<02:22,  2.45it/s]"
     ]
    },
    {
     "name": "stdout",
     "output_type": "stream",
     "text": [
      "Epoch 1650/2000, Loss: 0.0428\n",
      "Test Accuracy at Epoch 1650: 95.92%\n",
      "Test F1-score at Epoch 1650: 0.9583\n",
      "Classification Report at Epoch 1650:\n",
      "                  precision    recall  f1-score   support\n",
      "\n",
      "    infringement       0.94      0.98      0.96        49\n",
      "non_infringement       0.98      0.94      0.96        49\n",
      "\n",
      "        accuracy                           0.96        98\n",
      "       macro avg       0.96      0.96      0.96        98\n",
      "    weighted avg       0.96      0.96      0.96        98\n",
      "\n"
     ]
    },
    {
     "name": "stderr",
     "output_type": "stream",
     "text": [
      "Training Epochs:  83%|████████▎ | 1660/2000 [09:02<02:14,  2.54it/s]"
     ]
    },
    {
     "name": "stdout",
     "output_type": "stream",
     "text": [
      "Epoch 1660/2000, Loss: 0.0428\n",
      "Test Accuracy at Epoch 1660: 95.92%\n",
      "Test F1-score at Epoch 1660: 0.9583\n",
      "Classification Report at Epoch 1660:\n",
      "                  precision    recall  f1-score   support\n",
      "\n",
      "    infringement       0.94      0.98      0.96        49\n",
      "non_infringement       0.98      0.94      0.96        49\n",
      "\n",
      "        accuracy                           0.96        98\n",
      "       macro avg       0.96      0.96      0.96        98\n",
      "    weighted avg       0.96      0.96      0.96        98\n",
      "\n"
     ]
    },
    {
     "name": "stderr",
     "output_type": "stream",
     "text": [
      "Training Epochs:  84%|████████▎ | 1670/2000 [09:05<02:09,  2.55it/s]"
     ]
    },
    {
     "name": "stdout",
     "output_type": "stream",
     "text": [
      "Epoch 1670/2000, Loss: 0.0428\n",
      "Test Accuracy at Epoch 1670: 95.92%\n",
      "Test F1-score at Epoch 1670: 0.9583\n",
      "Classification Report at Epoch 1670:\n",
      "                  precision    recall  f1-score   support\n",
      "\n",
      "    infringement       0.94      0.98      0.96        49\n",
      "non_infringement       0.98      0.94      0.96        49\n",
      "\n",
      "        accuracy                           0.96        98\n",
      "       macro avg       0.96      0.96      0.96        98\n",
      "    weighted avg       0.96      0.96      0.96        98\n",
      "\n"
     ]
    },
    {
     "name": "stderr",
     "output_type": "stream",
     "text": [
      "Training Epochs:  84%|████████▍ | 1680/2000 [09:10<02:10,  2.44it/s]"
     ]
    },
    {
     "name": "stdout",
     "output_type": "stream",
     "text": [
      "Epoch 1680/2000, Loss: 0.0428\n",
      "Test Accuracy at Epoch 1680: 95.92%\n",
      "Test F1-score at Epoch 1680: 0.9583\n",
      "Classification Report at Epoch 1680:\n",
      "                  precision    recall  f1-score   support\n",
      "\n",
      "    infringement       0.94      0.98      0.96        49\n",
      "non_infringement       0.98      0.94      0.96        49\n",
      "\n",
      "        accuracy                           0.96        98\n",
      "       macro avg       0.96      0.96      0.96        98\n",
      "    weighted avg       0.96      0.96      0.96        98\n",
      "\n"
     ]
    },
    {
     "name": "stderr",
     "output_type": "stream",
     "text": [
      "Training Epochs:  84%|████████▍ | 1690/2000 [09:13<02:03,  2.52it/s]"
     ]
    },
    {
     "name": "stdout",
     "output_type": "stream",
     "text": [
      "Epoch 1690/2000, Loss: 0.0428\n",
      "Test Accuracy at Epoch 1690: 95.92%\n",
      "Test F1-score at Epoch 1690: 0.9583\n",
      "Classification Report at Epoch 1690:\n",
      "                  precision    recall  f1-score   support\n",
      "\n",
      "    infringement       0.94      0.98      0.96        49\n",
      "non_infringement       0.98      0.94      0.96        49\n",
      "\n",
      "        accuracy                           0.96        98\n",
      "       macro avg       0.96      0.96      0.96        98\n",
      "    weighted avg       0.96      0.96      0.96        98\n",
      "\n"
     ]
    },
    {
     "name": "stderr",
     "output_type": "stream",
     "text": [
      "Training Epochs:  85%|████████▌ | 1700/2000 [09:17<01:58,  2.53it/s]"
     ]
    },
    {
     "name": "stdout",
     "output_type": "stream",
     "text": [
      "Epoch 1700/2000, Loss: 0.0428\n",
      "Test Accuracy at Epoch 1700: 95.92%\n",
      "Test F1-score at Epoch 1700: 0.9583\n",
      "Classification Report at Epoch 1700:\n",
      "                  precision    recall  f1-score   support\n",
      "\n",
      "    infringement       0.94      0.98      0.96        49\n",
      "non_infringement       0.98      0.94      0.96        49\n",
      "\n",
      "        accuracy                           0.96        98\n",
      "       macro avg       0.96      0.96      0.96        98\n",
      "    weighted avg       0.96      0.96      0.96        98\n",
      "\n"
     ]
    },
    {
     "name": "stderr",
     "output_type": "stream",
     "text": [
      "Training Epochs:  86%|████████▌ | 1710/2000 [09:21<01:55,  2.51it/s]"
     ]
    },
    {
     "name": "stdout",
     "output_type": "stream",
     "text": [
      "Epoch 1710/2000, Loss: 0.0428\n",
      "Test Accuracy at Epoch 1710: 95.92%\n",
      "Test F1-score at Epoch 1710: 0.9583\n",
      "Classification Report at Epoch 1710:\n",
      "                  precision    recall  f1-score   support\n",
      "\n",
      "    infringement       0.94      0.98      0.96        49\n",
      "non_infringement       0.98      0.94      0.96        49\n",
      "\n",
      "        accuracy                           0.96        98\n",
      "       macro avg       0.96      0.96      0.96        98\n",
      "    weighted avg       0.96      0.96      0.96        98\n",
      "\n"
     ]
    },
    {
     "name": "stderr",
     "output_type": "stream",
     "text": [
      "Training Epochs:  86%|████████▌ | 1720/2000 [09:25<01:51,  2.50it/s]"
     ]
    },
    {
     "name": "stdout",
     "output_type": "stream",
     "text": [
      "Epoch 1720/2000, Loss: 0.0428\n",
      "Test Accuracy at Epoch 1720: 95.92%\n",
      "Test F1-score at Epoch 1720: 0.9583\n",
      "Classification Report at Epoch 1720:\n",
      "                  precision    recall  f1-score   support\n",
      "\n",
      "    infringement       0.94      0.98      0.96        49\n",
      "non_infringement       0.98      0.94      0.96        49\n",
      "\n",
      "        accuracy                           0.96        98\n",
      "       macro avg       0.96      0.96      0.96        98\n",
      "    weighted avg       0.96      0.96      0.96        98\n",
      "\n"
     ]
    },
    {
     "name": "stderr",
     "output_type": "stream",
     "text": [
      "Training Epochs:  86%|████████▋ | 1730/2000 [09:29<01:48,  2.50it/s]"
     ]
    },
    {
     "name": "stdout",
     "output_type": "stream",
     "text": [
      "Epoch 1730/2000, Loss: 0.0443\n",
      "Test Accuracy at Epoch 1730: 95.92%\n",
      "Test F1-score at Epoch 1730: 0.9583\n",
      "Classification Report at Epoch 1730:\n",
      "                  precision    recall  f1-score   support\n",
      "\n",
      "    infringement       0.94      0.98      0.96        49\n",
      "non_infringement       0.98      0.94      0.96        49\n",
      "\n",
      "        accuracy                           0.96        98\n",
      "       macro avg       0.96      0.96      0.96        98\n",
      "    weighted avg       0.96      0.96      0.96        98\n",
      "\n"
     ]
    },
    {
     "name": "stderr",
     "output_type": "stream",
     "text": [
      "Training Epochs:  87%|████████▋ | 1740/2000 [09:33<01:42,  2.53it/s]"
     ]
    },
    {
     "name": "stdout",
     "output_type": "stream",
     "text": [
      "Epoch 1740/2000, Loss: 0.0428\n",
      "Test Accuracy at Epoch 1740: 95.92%\n",
      "Test F1-score at Epoch 1740: 0.9583\n",
      "Classification Report at Epoch 1740:\n",
      "                  precision    recall  f1-score   support\n",
      "\n",
      "    infringement       0.94      0.98      0.96        49\n",
      "non_infringement       0.98      0.94      0.96        49\n",
      "\n",
      "        accuracy                           0.96        98\n",
      "       macro avg       0.96      0.96      0.96        98\n",
      "    weighted avg       0.96      0.96      0.96        98\n",
      "\n"
     ]
    },
    {
     "name": "stderr",
     "output_type": "stream",
     "text": [
      "Training Epochs:  88%|████████▊ | 1750/2000 [09:37<01:44,  2.38it/s]"
     ]
    },
    {
     "name": "stdout",
     "output_type": "stream",
     "text": [
      "Epoch 1750/2000, Loss: 0.0428\n",
      "Test Accuracy at Epoch 1750: 95.92%\n",
      "Test F1-score at Epoch 1750: 0.9583\n",
      "Classification Report at Epoch 1750:\n",
      "                  precision    recall  f1-score   support\n",
      "\n",
      "    infringement       0.94      0.98      0.96        49\n",
      "non_infringement       0.98      0.94      0.96        49\n",
      "\n",
      "        accuracy                           0.96        98\n",
      "       macro avg       0.96      0.96      0.96        98\n",
      "    weighted avg       0.96      0.96      0.96        98\n",
      "\n"
     ]
    },
    {
     "name": "stderr",
     "output_type": "stream",
     "text": [
      "Training Epochs:  88%|████████▊ | 1760/2000 [09:41<01:35,  2.50it/s]"
     ]
    },
    {
     "name": "stdout",
     "output_type": "stream",
     "text": [
      "Epoch 1760/2000, Loss: 0.0428\n",
      "Test Accuracy at Epoch 1760: 95.92%\n",
      "Test F1-score at Epoch 1760: 0.9583\n",
      "Classification Report at Epoch 1760:\n",
      "                  precision    recall  f1-score   support\n",
      "\n",
      "    infringement       0.94      0.98      0.96        49\n",
      "non_infringement       0.98      0.94      0.96        49\n",
      "\n",
      "        accuracy                           0.96        98\n",
      "       macro avg       0.96      0.96      0.96        98\n",
      "    weighted avg       0.96      0.96      0.96        98\n",
      "\n"
     ]
    },
    {
     "name": "stderr",
     "output_type": "stream",
     "text": [
      "Training Epochs:  88%|████████▊ | 1770/2000 [09:45<01:31,  2.51it/s]"
     ]
    },
    {
     "name": "stdout",
     "output_type": "stream",
     "text": [
      "Epoch 1770/2000, Loss: 0.0428\n",
      "Test Accuracy at Epoch 1770: 95.92%\n",
      "Test F1-score at Epoch 1770: 0.9583\n",
      "Classification Report at Epoch 1770:\n",
      "                  precision    recall  f1-score   support\n",
      "\n",
      "    infringement       0.94      0.98      0.96        49\n",
      "non_infringement       0.98      0.94      0.96        49\n",
      "\n",
      "        accuracy                           0.96        98\n",
      "       macro avg       0.96      0.96      0.96        98\n",
      "    weighted avg       0.96      0.96      0.96        98\n",
      "\n"
     ]
    },
    {
     "name": "stderr",
     "output_type": "stream",
     "text": [
      "Training Epochs:  89%|████████▉ | 1780/2000 [09:49<01:36,  2.29it/s]"
     ]
    },
    {
     "name": "stdout",
     "output_type": "stream",
     "text": [
      "Epoch 1780/2000, Loss: 0.0428\n",
      "Test Accuracy at Epoch 1780: 95.92%\n",
      "Test F1-score at Epoch 1780: 0.9583\n",
      "Classification Report at Epoch 1780:\n",
      "                  precision    recall  f1-score   support\n",
      "\n",
      "    infringement       0.94      0.98      0.96        49\n",
      "non_infringement       0.98      0.94      0.96        49\n",
      "\n",
      "        accuracy                           0.96        98\n",
      "       macro avg       0.96      0.96      0.96        98\n",
      "    weighted avg       0.96      0.96      0.96        98\n",
      "\n"
     ]
    },
    {
     "name": "stderr",
     "output_type": "stream",
     "text": [
      "Training Epochs:  90%|████████▉ | 1790/2000 [09:53<01:23,  2.50it/s]"
     ]
    },
    {
     "name": "stdout",
     "output_type": "stream",
     "text": [
      "Epoch 1790/2000, Loss: 0.0428\n",
      "Test Accuracy at Epoch 1790: 95.92%\n",
      "Test F1-score at Epoch 1790: 0.9583\n",
      "Classification Report at Epoch 1790:\n",
      "                  precision    recall  f1-score   support\n",
      "\n",
      "    infringement       0.94      0.98      0.96        49\n",
      "non_infringement       0.98      0.94      0.96        49\n",
      "\n",
      "        accuracy                           0.96        98\n",
      "       macro avg       0.96      0.96      0.96        98\n",
      "    weighted avg       0.96      0.96      0.96        98\n",
      "\n"
     ]
    },
    {
     "name": "stderr",
     "output_type": "stream",
     "text": [
      "Training Epochs:  90%|█████████ | 1800/2000 [09:57<01:18,  2.54it/s]"
     ]
    },
    {
     "name": "stdout",
     "output_type": "stream",
     "text": [
      "Epoch 1800/2000, Loss: 0.0428\n",
      "Test Accuracy at Epoch 1800: 95.92%\n",
      "Test F1-score at Epoch 1800: 0.9583\n",
      "Classification Report at Epoch 1800:\n",
      "                  precision    recall  f1-score   support\n",
      "\n",
      "    infringement       0.94      0.98      0.96        49\n",
      "non_infringement       0.98      0.94      0.96        49\n",
      "\n",
      "        accuracy                           0.96        98\n",
      "       macro avg       0.96      0.96      0.96        98\n",
      "    weighted avg       0.96      0.96      0.96        98\n",
      "\n"
     ]
    },
    {
     "name": "stderr",
     "output_type": "stream",
     "text": [
      "Training Epochs:  90%|█████████ | 1810/2000 [10:01<01:14,  2.54it/s]"
     ]
    },
    {
     "name": "stdout",
     "output_type": "stream",
     "text": [
      "Epoch 1810/2000, Loss: 0.0428\n",
      "Test Accuracy at Epoch 1810: 95.92%\n",
      "Test F1-score at Epoch 1810: 0.9583\n",
      "Classification Report at Epoch 1810:\n",
      "                  precision    recall  f1-score   support\n",
      "\n",
      "    infringement       0.94      0.98      0.96        49\n",
      "non_infringement       0.98      0.94      0.96        49\n",
      "\n",
      "        accuracy                           0.96        98\n",
      "       macro avg       0.96      0.96      0.96        98\n",
      "    weighted avg       0.96      0.96      0.96        98\n",
      "\n"
     ]
    },
    {
     "name": "stderr",
     "output_type": "stream",
     "text": [
      "Training Epochs:  91%|█████████ | 1820/2000 [10:05<01:11,  2.52it/s]"
     ]
    },
    {
     "name": "stdout",
     "output_type": "stream",
     "text": [
      "Epoch 1820/2000, Loss: 0.0428\n",
      "Test Accuracy at Epoch 1820: 95.92%\n",
      "Test F1-score at Epoch 1820: 0.9583\n",
      "Classification Report at Epoch 1820:\n",
      "                  precision    recall  f1-score   support\n",
      "\n",
      "    infringement       0.94      0.98      0.96        49\n",
      "non_infringement       0.98      0.94      0.96        49\n",
      "\n",
      "        accuracy                           0.96        98\n",
      "       macro avg       0.96      0.96      0.96        98\n",
      "    weighted avg       0.96      0.96      0.96        98\n",
      "\n"
     ]
    },
    {
     "name": "stderr",
     "output_type": "stream",
     "text": [
      "Training Epochs:  92%|█████████▏| 1830/2000 [10:09<01:07,  2.52it/s]"
     ]
    },
    {
     "name": "stdout",
     "output_type": "stream",
     "text": [
      "Epoch 1830/2000, Loss: 0.0429\n",
      "Test Accuracy at Epoch 1830: 95.92%\n",
      "Test F1-score at Epoch 1830: 0.9583\n",
      "Classification Report at Epoch 1830:\n",
      "                  precision    recall  f1-score   support\n",
      "\n",
      "    infringement       0.94      0.98      0.96        49\n",
      "non_infringement       0.98      0.94      0.96        49\n",
      "\n",
      "        accuracy                           0.96        98\n",
      "       macro avg       0.96      0.96      0.96        98\n",
      "    weighted avg       0.96      0.96      0.96        98\n",
      "\n"
     ]
    },
    {
     "name": "stderr",
     "output_type": "stream",
     "text": [
      "Training Epochs:  92%|█████████▏| 1840/2000 [10:13<01:04,  2.46it/s]"
     ]
    },
    {
     "name": "stdout",
     "output_type": "stream",
     "text": [
      "Epoch 1840/2000, Loss: 0.0428\n",
      "Test Accuracy at Epoch 1840: 95.92%\n",
      "Test F1-score at Epoch 1840: 0.9583\n",
      "Classification Report at Epoch 1840:\n",
      "                  precision    recall  f1-score   support\n",
      "\n",
      "    infringement       0.94      0.98      0.96        49\n",
      "non_infringement       0.98      0.94      0.96        49\n",
      "\n",
      "        accuracy                           0.96        98\n",
      "       macro avg       0.96      0.96      0.96        98\n",
      "    weighted avg       0.96      0.96      0.96        98\n",
      "\n"
     ]
    },
    {
     "name": "stderr",
     "output_type": "stream",
     "text": [
      "Training Epochs:  92%|█████████▎| 1850/2000 [10:17<00:59,  2.51it/s]"
     ]
    },
    {
     "name": "stdout",
     "output_type": "stream",
     "text": [
      "Epoch 1850/2000, Loss: 0.0428\n",
      "Test Accuracy at Epoch 1850: 95.92%\n",
      "Test F1-score at Epoch 1850: 0.9583\n",
      "Classification Report at Epoch 1850:\n",
      "                  precision    recall  f1-score   support\n",
      "\n",
      "    infringement       0.94      0.98      0.96        49\n",
      "non_infringement       0.98      0.94      0.96        49\n",
      "\n",
      "        accuracy                           0.96        98\n",
      "       macro avg       0.96      0.96      0.96        98\n",
      "    weighted avg       0.96      0.96      0.96        98\n",
      "\n"
     ]
    },
    {
     "name": "stderr",
     "output_type": "stream",
     "text": [
      "Training Epochs:  93%|█████████▎| 1860/2000 [10:20<00:55,  2.52it/s]"
     ]
    },
    {
     "name": "stdout",
     "output_type": "stream",
     "text": [
      "Epoch 1860/2000, Loss: 0.0428\n",
      "Test Accuracy at Epoch 1860: 95.92%\n",
      "Test F1-score at Epoch 1860: 0.9583\n",
      "Classification Report at Epoch 1860:\n",
      "                  precision    recall  f1-score   support\n",
      "\n",
      "    infringement       0.94      0.98      0.96        49\n",
      "non_infringement       0.98      0.94      0.96        49\n",
      "\n",
      "        accuracy                           0.96        98\n",
      "       macro avg       0.96      0.96      0.96        98\n",
      "    weighted avg       0.96      0.96      0.96        98\n",
      "\n"
     ]
    },
    {
     "name": "stderr",
     "output_type": "stream",
     "text": [
      "Training Epochs:  94%|█████████▎| 1870/2000 [10:24<00:52,  2.49it/s]"
     ]
    },
    {
     "name": "stdout",
     "output_type": "stream",
     "text": [
      "Epoch 1870/2000, Loss: 0.0428\n",
      "Test Accuracy at Epoch 1870: 95.92%\n",
      "Test F1-score at Epoch 1870: 0.9583\n",
      "Classification Report at Epoch 1870:\n",
      "                  precision    recall  f1-score   support\n",
      "\n",
      "    infringement       0.94      0.98      0.96        49\n",
      "non_infringement       0.98      0.94      0.96        49\n",
      "\n",
      "        accuracy                           0.96        98\n",
      "       macro avg       0.96      0.96      0.96        98\n",
      "    weighted avg       0.96      0.96      0.96        98\n",
      "\n"
     ]
    },
    {
     "name": "stderr",
     "output_type": "stream",
     "text": [
      "Training Epochs:  94%|█████████▍| 1880/2000 [10:28<00:47,  2.51it/s]"
     ]
    },
    {
     "name": "stdout",
     "output_type": "stream",
     "text": [
      "Epoch 1880/2000, Loss: 0.0428\n",
      "Test Accuracy at Epoch 1880: 95.92%\n",
      "Test F1-score at Epoch 1880: 0.9583\n",
      "Classification Report at Epoch 1880:\n",
      "                  precision    recall  f1-score   support\n",
      "\n",
      "    infringement       0.94      0.98      0.96        49\n",
      "non_infringement       0.98      0.94      0.96        49\n",
      "\n",
      "        accuracy                           0.96        98\n",
      "       macro avg       0.96      0.96      0.96        98\n",
      "    weighted avg       0.96      0.96      0.96        98\n",
      "\n"
     ]
    },
    {
     "name": "stderr",
     "output_type": "stream",
     "text": [
      "Training Epochs:  94%|█████████▍| 1890/2000 [10:32<00:43,  2.54it/s]"
     ]
    },
    {
     "name": "stdout",
     "output_type": "stream",
     "text": [
      "Epoch 1890/2000, Loss: 0.0428\n",
      "Test Accuracy at Epoch 1890: 95.92%\n",
      "Test F1-score at Epoch 1890: 0.9583\n",
      "Classification Report at Epoch 1890:\n",
      "                  precision    recall  f1-score   support\n",
      "\n",
      "    infringement       0.94      0.98      0.96        49\n",
      "non_infringement       0.98      0.94      0.96        49\n",
      "\n",
      "        accuracy                           0.96        98\n",
      "       macro avg       0.96      0.96      0.96        98\n",
      "    weighted avg       0.96      0.96      0.96        98\n",
      "\n"
     ]
    },
    {
     "name": "stderr",
     "output_type": "stream",
     "text": [
      "Training Epochs:  95%|█████████▌| 1900/2000 [10:36<00:39,  2.54it/s]"
     ]
    },
    {
     "name": "stdout",
     "output_type": "stream",
     "text": [
      "Epoch 1900/2000, Loss: 0.0428\n",
      "Test Accuracy at Epoch 1900: 95.92%\n",
      "Test F1-score at Epoch 1900: 0.9583\n",
      "Classification Report at Epoch 1900:\n",
      "                  precision    recall  f1-score   support\n",
      "\n",
      "    infringement       0.94      0.98      0.96        49\n",
      "non_infringement       0.98      0.94      0.96        49\n",
      "\n",
      "        accuracy                           0.96        98\n",
      "       macro avg       0.96      0.96      0.96        98\n",
      "    weighted avg       0.96      0.96      0.96        98\n",
      "\n"
     ]
    },
    {
     "name": "stderr",
     "output_type": "stream",
     "text": [
      "Training Epochs:  96%|█████████▌| 1910/2000 [10:40<00:35,  2.51it/s]"
     ]
    },
    {
     "name": "stdout",
     "output_type": "stream",
     "text": [
      "Epoch 1910/2000, Loss: 0.0428\n",
      "Test Accuracy at Epoch 1910: 95.92%\n",
      "Test F1-score at Epoch 1910: 0.9583\n",
      "Classification Report at Epoch 1910:\n",
      "                  precision    recall  f1-score   support\n",
      "\n",
      "    infringement       0.94      0.98      0.96        49\n",
      "non_infringement       0.98      0.94      0.96        49\n",
      "\n",
      "        accuracy                           0.96        98\n",
      "       macro avg       0.96      0.96      0.96        98\n",
      "    weighted avg       0.96      0.96      0.96        98\n",
      "\n"
     ]
    },
    {
     "name": "stderr",
     "output_type": "stream",
     "text": [
      "Training Epochs:  96%|█████████▌| 1920/2000 [10:44<00:31,  2.54it/s]"
     ]
    },
    {
     "name": "stdout",
     "output_type": "stream",
     "text": [
      "Epoch 1920/2000, Loss: 0.0428\n",
      "Test Accuracy at Epoch 1920: 95.92%\n",
      "Test F1-score at Epoch 1920: 0.9583\n",
      "Classification Report at Epoch 1920:\n",
      "                  precision    recall  f1-score   support\n",
      "\n",
      "    infringement       0.94      0.98      0.96        49\n",
      "non_infringement       0.98      0.94      0.96        49\n",
      "\n",
      "        accuracy                           0.96        98\n",
      "       macro avg       0.96      0.96      0.96        98\n",
      "    weighted avg       0.96      0.96      0.96        98\n",
      "\n"
     ]
    },
    {
     "name": "stderr",
     "output_type": "stream",
     "text": [
      "Training Epochs:  96%|█████████▋| 1930/2000 [10:48<00:27,  2.53it/s]"
     ]
    },
    {
     "name": "stdout",
     "output_type": "stream",
     "text": [
      "Epoch 1930/2000, Loss: 0.0428\n",
      "Test Accuracy at Epoch 1930: 95.92%\n",
      "Test F1-score at Epoch 1930: 0.9583\n",
      "Classification Report at Epoch 1930:\n",
      "                  precision    recall  f1-score   support\n",
      "\n",
      "    infringement       0.94      0.98      0.96        49\n",
      "non_infringement       0.98      0.94      0.96        49\n",
      "\n",
      "        accuracy                           0.96        98\n",
      "       macro avg       0.96      0.96      0.96        98\n",
      "    weighted avg       0.96      0.96      0.96        98\n",
      "\n"
     ]
    },
    {
     "name": "stderr",
     "output_type": "stream",
     "text": [
      "Training Epochs:  97%|█████████▋| 1940/2000 [10:52<00:23,  2.55it/s]"
     ]
    },
    {
     "name": "stdout",
     "output_type": "stream",
     "text": [
      "Epoch 1940/2000, Loss: 0.0428\n",
      "Test Accuracy at Epoch 1940: 95.92%\n",
      "Test F1-score at Epoch 1940: 0.9583\n",
      "Classification Report at Epoch 1940:\n",
      "                  precision    recall  f1-score   support\n",
      "\n",
      "    infringement       0.94      0.98      0.96        49\n",
      "non_infringement       0.98      0.94      0.96        49\n",
      "\n",
      "        accuracy                           0.96        98\n",
      "       macro avg       0.96      0.96      0.96        98\n",
      "    weighted avg       0.96      0.96      0.96        98\n",
      "\n"
     ]
    },
    {
     "name": "stderr",
     "output_type": "stream",
     "text": [
      "Training Epochs:  98%|█████████▊| 1950/2000 [10:55<00:19,  2.54it/s]"
     ]
    },
    {
     "name": "stdout",
     "output_type": "stream",
     "text": [
      "Epoch 1950/2000, Loss: 0.0428\n",
      "Test Accuracy at Epoch 1950: 95.92%\n",
      "Test F1-score at Epoch 1950: 0.9583\n",
      "Classification Report at Epoch 1950:\n",
      "                  precision    recall  f1-score   support\n",
      "\n",
      "    infringement       0.94      0.98      0.96        49\n",
      "non_infringement       0.98      0.94      0.96        49\n",
      "\n",
      "        accuracy                           0.96        98\n",
      "       macro avg       0.96      0.96      0.96        98\n",
      "    weighted avg       0.96      0.96      0.96        98\n",
      "\n"
     ]
    },
    {
     "name": "stderr",
     "output_type": "stream",
     "text": [
      "Training Epochs:  98%|█████████▊| 1960/2000 [10:59<00:15,  2.55it/s]"
     ]
    },
    {
     "name": "stdout",
     "output_type": "stream",
     "text": [
      "Epoch 1960/2000, Loss: 0.0428\n",
      "Test Accuracy at Epoch 1960: 95.92%\n",
      "Test F1-score at Epoch 1960: 0.9583\n",
      "Classification Report at Epoch 1960:\n",
      "                  precision    recall  f1-score   support\n",
      "\n",
      "    infringement       0.94      0.98      0.96        49\n",
      "non_infringement       0.98      0.94      0.96        49\n",
      "\n",
      "        accuracy                           0.96        98\n",
      "       macro avg       0.96      0.96      0.96        98\n",
      "    weighted avg       0.96      0.96      0.96        98\n",
      "\n"
     ]
    },
    {
     "name": "stderr",
     "output_type": "stream",
     "text": [
      "Training Epochs:  98%|█████████▊| 1970/2000 [11:03<00:11,  2.55it/s]"
     ]
    },
    {
     "name": "stdout",
     "output_type": "stream",
     "text": [
      "Epoch 1970/2000, Loss: 0.0428\n",
      "Test Accuracy at Epoch 1970: 95.92%\n",
      "Test F1-score at Epoch 1970: 0.9583\n",
      "Classification Report at Epoch 1970:\n",
      "                  precision    recall  f1-score   support\n",
      "\n",
      "    infringement       0.94      0.98      0.96        49\n",
      "non_infringement       0.98      0.94      0.96        49\n",
      "\n",
      "        accuracy                           0.96        98\n",
      "       macro avg       0.96      0.96      0.96        98\n",
      "    weighted avg       0.96      0.96      0.96        98\n",
      "\n"
     ]
    },
    {
     "name": "stderr",
     "output_type": "stream",
     "text": [
      "Training Epochs:  99%|█████████▉| 1980/2000 [11:07<00:08,  2.45it/s]"
     ]
    },
    {
     "name": "stdout",
     "output_type": "stream",
     "text": [
      "Epoch 1980/2000, Loss: 0.0428\n",
      "Test Accuracy at Epoch 1980: 95.92%\n",
      "Test F1-score at Epoch 1980: 0.9583\n",
      "Classification Report at Epoch 1980:\n",
      "                  precision    recall  f1-score   support\n",
      "\n",
      "    infringement       0.94      0.98      0.96        49\n",
      "non_infringement       0.98      0.94      0.96        49\n",
      "\n",
      "        accuracy                           0.96        98\n",
      "       macro avg       0.96      0.96      0.96        98\n",
      "    weighted avg       0.96      0.96      0.96        98\n",
      "\n"
     ]
    },
    {
     "name": "stderr",
     "output_type": "stream",
     "text": [
      "Training Epochs: 100%|█████████▉| 1990/2000 [11:11<00:03,  2.53it/s]"
     ]
    },
    {
     "name": "stdout",
     "output_type": "stream",
     "text": [
      "Epoch 1990/2000, Loss: 0.0428\n",
      "Test Accuracy at Epoch 1990: 95.92%\n",
      "Test F1-score at Epoch 1990: 0.9583\n",
      "Classification Report at Epoch 1990:\n",
      "                  precision    recall  f1-score   support\n",
      "\n",
      "    infringement       0.94      0.98      0.96        49\n",
      "non_infringement       0.98      0.94      0.96        49\n",
      "\n",
      "        accuracy                           0.96        98\n",
      "       macro avg       0.96      0.96      0.96        98\n",
      "    weighted avg       0.96      0.96      0.96        98\n",
      "\n"
     ]
    },
    {
     "name": "stderr",
     "output_type": "stream",
     "text": [
      "Training Epochs: 100%|██████████| 2000/2000 [11:15<00:00,  2.96it/s]"
     ]
    },
    {
     "name": "stdout",
     "output_type": "stream",
     "text": [
      "Epoch 2000/2000, Loss: 0.0428\n",
      "Test Accuracy at Epoch 2000: 95.92%\n",
      "Test F1-score at Epoch 2000: 0.9583\n",
      "Classification Report at Epoch 2000:\n",
      "                  precision    recall  f1-score   support\n",
      "\n",
      "    infringement       0.94      0.98      0.96        49\n",
      "non_infringement       0.98      0.94      0.96        49\n",
      "\n",
      "        accuracy                           0.96        98\n",
      "       macro avg       0.96      0.96      0.96        98\n",
      "    weighted avg       0.96      0.96      0.96        98\n",
      "\n"
     ]
    },
    {
     "name": "stderr",
     "output_type": "stream",
     "text": [
      "\n",
      "/tmp/ipykernel_3618815/2033666368.py:59: FutureWarning: You are using `torch.load` with `weights_only=False` (the current default value), which uses the default pickle module implicitly. It is possible to construct malicious pickle data which will execute arbitrary code during unpickling (See https://github.com/pytorch/pytorch/blob/main/SECURITY.md#untrusted-models for more details). In a future release, the default value for `weights_only` will be flipped to `True`. This limits the functions that could be executed during unpickling. Arbitrary objects will no longer be allowed to be loaded via this mode unless they are explicitly allowlisted by the user via `torch.serialization.add_safe_globals`. We recommend you start setting `weights_only=True` for any use case where you don't have full control of the loaded file. Please open an issue on GitHub for any issues related to this experimental feature.\n",
      "  custom_mlp.load_state_dict(torch.load(checkpoint_path))\n"
     ]
    },
    {
     "data": {
      "image/png": "[encoded data removed]",
      "text/plain": [
       "<Figure size 1000x500 with 1 Axes>"
      ]
     },
     "metadata": {},
     "output_type": "display_data"
    },
    {
     "name": "stdout",
     "output_type": "stream",
     "text": [
      "Final Model Accuracy: 98.98%\n",
      "Final Model F1-score: 0.9899\n"
     ]
    }
   ],
   "source": [
    "input_dim = X_train.shape[1]\n",
    "hidden_dim = 256\n",
    "\n",
    "custom_mlp, losses, best_accuracy, best_f1 = train_model(X_train, y_train, X_test, y_test, input_dim, hidden_dim)"
   ]
  },
  {
   "cell_type": "code",
   "execution_count": 10,
   "metadata": {},
   "outputs": [
    {
     "name": "stdout",
     "output_type": "stream",
     "text": [
      "Checkpoint saved to '/home/guangwei/LLM-COPYRIGHT/copyright_newVersion/models/train_input_last_token.pth'.\n"
     ]
    }
   ],
   "source": [
    "def save_checkpoint(model, optimizer, epoch, loss, filepath):\n",
    "    checkpoint = {\n",
    "        'epoch': epoch + 1,\n",
    "        'model_state_dict': model.state_dict(),\n",
    "        'optimizer_state_dict': optimizer.state_dict(),\n",
    "        'loss': loss\n",
    "    }\n",
    "    torch.save(checkpoint, filepath)\n",
    "    print(f\"Checkpoint saved to '{filepath}'.\")\n",
    "\n",
    "save_checkpoint(custom_mlp, torch.optim.Adam(custom_mlp.parameters()), len(losses), losses[-1], checkpoint_file)"
   ]
  },
  {
   "cell_type": "code",
   "execution_count": null,
   "metadata": {},
   "outputs": [
    {
     "name": "stdout",
     "output_type": "stream",
     "text": [
      "                  precision    recall  f1-score   support\n",
      "\n",
      "    infringement       1.00      0.98      0.99        49\n",
      "non_infringement       0.98      1.00      0.99        49\n",
      "\n",
      "        accuracy                           0.99        98\n",
      "       macro avg       0.99      0.99      0.99        98\n",
      "    weighted avg       0.99      0.99      0.99        98\n",
      "\n"
     ]
    },
    {
     "name": "stderr",
     "output_type": "stream",
     "text": [
      "/tmp/ipykernel_3618815/2137335780.py:1: UserWarning: To copy construct from a tensor, it is recommended to use sourceTensor.clone().detach() or sourceTensor.clone().detach().requires_grad_(True), rather than torch.tensor(sourceTensor).\n",
      "  y_pred_final = (torch.sigmoid(torch.tensor(custom_mlp(torch.tensor(X_test, dtype=torch.float32)))) > 0.5).float().numpy()\n"
     ]
    },
    {
     "ename": "",
     "evalue": "",
     "output_type": "error",
     "traceback": [
      "\u001b[1;31mThe Kernel crashed while executing code in the current cell or a previous cell. \n",
      "\u001b[1;31mPlease review the code in the cell(s) to identify a possible cause of the failure. \n",
      "\u001b[1;31mClick <a href='https://aka.ms/vscodeJupyterKernelCrash'>here</a> for more info. \n",
      "\u001b[1;31mView Jupyter <a href='command:jupyter.viewOutput'>log</a> for further details."
     ]
    }
   ],
   "source": [
    "y_pred_final = (torch.sigmoid(torch.tensor(custom_mlp(torch.tensor(X_test, dtype=torch.float32)))) > 0.5).float().numpy()\n",
    "print(classification_report(y_test, y_pred_final, target_names=[\"infringement\", \"non_infringement\"]))"
   ]
  }
 ],
 "metadata": {
  "kernelspec": {
   "display_name": "zdh",
   "language": "python",
   "name": "python3"
  },
  "language_info": {
   "codemirror_mode": {
    "name": "ipython",
    "version": 3
   },
   "file_extension": ".py",
   "mimetype": "text/x-python",
   "name": "python",
   "nbconvert_exporter": "python",
   "pygments_lexer": "ipython3",
   "version": "3.12.3"
  }
 },
 "nbformat": 4,
 "nbformat_minor": 2
}
