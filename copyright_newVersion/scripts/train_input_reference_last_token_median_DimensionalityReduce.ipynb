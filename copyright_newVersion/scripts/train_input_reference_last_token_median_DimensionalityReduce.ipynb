{
 "cells": [
  {
   "cell_type": "code",
   "execution_count": 17,
   "metadata": {},
   "outputs": [],
   "source": [
    "# import packages & variables\n",
    "import argparse\n",
    "import torch\n",
    "import torch.nn as nn\n",
    "import numpy as np\n",
    "from sklearn.metrics import accuracy_score, classification_report\n",
    "import matplotlib.pyplot as plt\n",
    "from tqdm import tqdm\n",
    "from transformers import AutoTokenizer, AutoModelForCausalLM, AutoModel\n",
    "import json\n",
    "from sklearn.model_selection import train_test_split\n",
    "\n",
    "# Parameters\n",
    "model_name = 'meta-llama/Meta-Llama-3.1-8B'\n",
    "non_infringement_file = '/home/guangwei/LLM-COPYRIGHT/copyright_newVersion/test_division/extra_10.non_infringement.json'\n",
    "infringement_file = '/home/guangwei/LLM-COPYRIGHT/copyright_newVersion/test_division/extra_10.infringement.json'\n",
    "checkpoint_file = '/home/guangwei/LLM-COPYRIGHT/copyright_newVersion/models/train_input_reference_last_token_DimensionalityReduce_test.pth'\n"
   ]
  },
  {
   "cell_type": "code",
   "execution_count": 18,
   "metadata": {},
   "outputs": [],
   "source": [
    "# Define CustumMLP for internal states train\n",
    "class CustomMLP(nn.Module):\n",
    "    def __init__(self, input_dim, hidden_dim):\n",
    "        super(CustomMLP, self).__init__()\n",
    "        self.down = nn.Linear(input_dim, hidden_dim)\n",
    "        self.gate = nn.Linear(input_dim, hidden_dim)\n",
    "        self.up = nn.Linear(hidden_dim, 1)\n",
    "        self.activation = nn.SiLU()\n",
    "\n",
    "    def forward(self, x):\n",
    "        down_output = self.down(x)\n",
    "        gate_output = self.gate(x)\n",
    "        gated_output = down_output * self.activation(gate_output)\n",
    "        return self.up(gated_output)"
   ]
  },
  {
   "cell_type": "code",
   "execution_count": 19,
   "metadata": {},
   "outputs": [],
   "source": [
    "class DimensionalityReducer(nn.Module):\n",
    "    def __init__(self, input_dim, output_dim):\n",
    "        super(DimensionalityReducer, self).__init__()\n",
    "        self.linear = nn.Linear(input_dim, output_dim)\n",
    "\n",
    "    def forward(self, x):\n",
    "        return self.linear(x)"
   ]
  },
  {
   "cell_type": "code",
   "execution_count": 20,
   "metadata": {},
   "outputs": [],
   "source": [
    "# Extract hidden states/reference embeddings\n",
    "def extract_last_token_hidden_states(texts, model, tokenizer, batch_size=4):\n",
    "    hidden_states = []\n",
    "    for i in tqdm(range(0, len(texts), batch_size), desc=\"Processing data batches\"):\n",
    "        batch_texts = texts[i:i + batch_size]\n",
    "        inputs = tokenizer(batch_texts, return_tensors=\"pt\", padding=True, truncation=True)\n",
    "        with torch.no_grad():\n",
    "            outputs = model(**inputs)\n",
    "        \n",
    "        # 访问最后一个隐藏层的最后一个token的隐藏状态\n",
    "        # hidden_states[-1]表示最后一个隐藏层，mean(dim=1)表示取所有头的均值\n",
    "        last_layer_hidden_states = outputs.hidden_states[-1]\n",
    "        last_token_hidden_states = last_layer_hidden_states[:, -1, :]  # -1表示最后一个token\n",
    "        hidden_states.append(last_token_hidden_states.cpu().numpy())\n",
    "    return np.vstack(hidden_states)\n",
    "\n",
    "def extract_reference_embeddings(references, model, tokenizer, batch_size=128):\n",
    "    embeddings = []\n",
    "    for i in tqdm(range(0, len(references), batch_size), desc=\"Processing references\"):\n",
    "        batch_references = references[i:i + batch_size]\n",
    "        inputs = tokenizer(batch_references, return_tensors=\"pt\", padding=True, truncation=True)\n",
    "        with torch.no_grad():\n",
    "            outputs = model(**inputs)\n",
    "        embeddings.append(outputs.pooler_output.cpu().numpy())\n",
    "    return np.vstack(embeddings)"
   ]
  },
  {
   "cell_type": "code",
   "execution_count": 21,
   "metadata": {},
   "outputs": [],
   "source": [
    "# load data for infringement & non infringement\n",
    "def load_data(non_infringement_file, infringement_file):\n",
    "    with open(non_infringement_file, 'r', encoding='utf-8') as file:\n",
    "        non_infringement_json_data = json.load(file)\n",
    "\n",
    "    non_infringement_outputs = [entry['input'] for entry in non_infringement_json_data]\n",
    "    non_infringement_references = [entry['reference'] for entry in non_infringement_json_data]\n",
    "    y_non_infringement = [1] * len(non_infringement_outputs)\n",
    "\n",
    "    with open(infringement_file, 'r', encoding='utf-8') as file:\n",
    "        infringement_json_data = json.load(file)\n",
    "\n",
    "    infringement_outputs = [entry['input'] for entry in infringement_json_data]\n",
    "    infringement_references = [entry['reference'] for entry in infringement_json_data]\n",
    "    y_infringement = [0] * len(infringement_outputs)\n",
    "\n",
    "    return non_infringement_outputs, non_infringement_references, y_non_infringement, infringement_outputs, infringement_references, y_infringement"
   ]
  },
  {
   "cell_type": "code",
   "execution_count": 22,
   "metadata": {},
   "outputs": [],
   "source": [
    "# Train for best model\n",
    "def train_model(X_train, y_train, X_test, y_test, input_dim, hidden_dim, epochs=500, lr=0.001, checkpoint_path=checkpoint_file):\n",
    "    custom_mlp = CustomMLP(input_dim, hidden_dim)\n",
    "    criterion = nn.BCEWithLogitsLoss()\n",
    "    optimizer = torch.optim.Adam(custom_mlp.parameters(), lr=lr)\n",
    "\n",
    "    X_train_tensor = torch.tensor(X_train, dtype=torch.float32)\n",
    "    y_train_tensor = torch.tensor(y_train, dtype=torch.float32).unsqueeze(1)\n",
    "\n",
    "    best_accuracy = -float('inf')\n",
    "    best_model_state = None\n",
    "    best_epoch = 0\n",
    "    losses = []\n",
    "\n",
    "    for epoch in tqdm(range(epochs), desc=\"Training Epochs\"):\n",
    "        custom_mlp.train()\n",
    "        optimizer.zero_grad()\n",
    "        outputs = custom_mlp(X_train_tensor)\n",
    "        loss = criterion(outputs, y_train_tensor)\n",
    "        loss.backward()\n",
    "        optimizer.step()\n",
    "        losses.append(loss.item())\n",
    "\n",
    "        if (epoch + 1) % 10 == 0:\n",
    "            print(f\"Epoch {epoch + 1}/{epochs}, Loss: {loss.item():.4f}\")\n",
    "            \n",
    "            custom_mlp.eval()\n",
    "            X_test_tensor = torch.tensor(X_test, dtype=torch.float32)\n",
    "            with torch.no_grad():\n",
    "                y_pred_logits = custom_mlp(X_test_tensor)\n",
    "                y_pred = (torch.sigmoid(y_pred_logits) > 0.5).float().numpy()\n",
    "            \n",
    "            accuracy = accuracy_score(y_test, y_pred)\n",
    "            print(f\"Test Accuracy at Epoch {epoch + 1}: {accuracy * 100:.2f}%\")\n",
    "            \n",
    "            report = classification_report(y_test, y_pred, target_names=[\"infringement\", \"non_infringement\"])\n",
    "            print(f\"Classification Report at Epoch {epoch + 1}:\\n{report}\")\n",
    "\n",
    "            if accuracy > best_accuracy:\n",
    "                best_accuracy = accuracy\n",
    "                best_model_state = custom_mlp.state_dict()\n",
    "                best_epoch = epoch + 1\n",
    "                torch.save(best_model_state, checkpoint_path)\n",
    "                print(f\"New best model saved with accuracy {best_accuracy * 100:.2f}% at epoch {best_epoch}\")\n",
    "                print(f\"Best Classification Report at Epoch {best_epoch}:\\n{report}\")\n",
    "\n",
    "    custom_mlp.load_state_dict(torch.load(checkpoint_path))\n",
    "\n",
    "    plt.figure(figsize=(10, 5))\n",
    "    plt.plot(losses, label='Training Loss')\n",
    "    plt.xlabel('Epoch')\n",
    "    plt.ylabel('Loss')\n",
    "    plt.title('Training Loss Curve')\n",
    "    plt.legend()\n",
    "    plt.show()\n",
    "\n",
    "    print(f\"Best Model was saved at epoch {best_epoch} with accuracy {best_accuracy * 100:.2f}%\")\n",
    "    print(f\"Best Classification Report {report}\")\n",
    "    return custom_mlp, losses, best_accuracy"
   ]
  },
  {
   "cell_type": "code",
   "execution_count": 23,
   "metadata": {},
   "outputs": [],
   "source": [
    "# def main for reference embedding/train\n",
    "def main(model_name, non_infringement_file, infringement_file, checkpoint_path):\n",
    "    tokenizer = AutoTokenizer.from_pretrained(model_name, model_max_length=512)\n",
    "    model = AutoModelForCausalLM.from_pretrained(model_name, output_hidden_states=True)\n",
    "    tokenizer.pad_token = tokenizer.eos_token\n",
    "    bert_tokenizer = AutoTokenizer.from_pretrained('google-bert/bert-base-uncased')\n",
    "    bert_model = AutoModel.from_pretrained('google-bert/bert-base-uncased')\n",
    "    bert_tokenizer.pad_token = tokenizer.eos_token\n",
    "\n",
    "    non_infringement_outputs, non_infringement_references, y_non_infringement, infringement_outputs, infringement_references, y_infringement = load_data(\n",
    "        non_infringement_file, infringement_file\n",
    "    )\n",
    "\n",
    "    y_non_infringement = np.array(y_non_infringement)\n",
    "    y_infringement = np.array(y_infringement)\n",
    "\n",
    "# dimensionality reducer\n",
    "    print(\"Extracting hidden states for non_infringement texts...\")\n",
    "    X_non_infringement = extract_last_token_hidden_states(non_infringement_outputs, model, tokenizer)\n",
    "    print(\"Extracting reference embeddings for non_infringement texts...\")\n",
    "    reference_embeddings_non_infringement = extract_reference_embeddings(non_infringement_references, bert_model, bert_tokenizer)\n",
    "    llama_dim = X_non_infringement.shape[1] \n",
    "    bert_dim = reference_embeddings_non_infringement.shape[1]\n",
    "    reducer = DimensionalityReducer(llama_dim, bert_dim )\n",
    "    X_non_infringement_reduced = reducer(torch.tensor(X_non_infringement)).detach().numpy()\n",
    "    X_non_infringement_combined = np.hstack([X_non_infringement_reduced, reference_embeddings_non_infringement])\n",
    "\n",
    "    print(\"Extracting hidden states for infringement texts...\")\n",
    "    X_infringement = extract_last_token_hidden_states(infringement_outputs, model, tokenizer)\n",
    "    print(\"Extracting reference embeddings for infringement texts...\")\n",
    "    reference_embeddings_infringement = extract_reference_embeddings(infringement_references, bert_model, bert_tokenizer)\n",
    "    llama_dim = X_infringement.shape[1] \n",
    "    bert_dim = reference_embeddings_infringement.shape[1] \n",
    "    reducer = DimensionalityReducer(llama_dim, bert_dim)\n",
    "    X_infringement_reduced = reducer(torch.tensor(X_infringement)).detach().numpy()\n",
    "    print(\"X_infringement:\",X_infringement)\n",
    "    print(\"=============================================\")\n",
    "    print(\"X_infringement_reduced:\",X_infringement_reduced)\n",
    "    X_infringement_combined = np.hstack([X_infringement_reduced, reference_embeddings_infringement])\n",
    "\n",
    "    X_non_infringement_combined = np.hstack([X_non_infringement_reduced, reference_embeddings_non_infringement])\n",
    "    X_infringement_combined = np.hstack([X_infringement_reduced, reference_embeddings_infringement])\n",
    "\n",
    "    X_all = np.vstack((X_non_infringement_combined, X_infringement_combined))\n",
    "    y_all = np.concatenate((y_non_infringement, y_infringement))\n",
    "\n",
    "    X_train, X_test, y_train, y_test = train_test_split(X_all, y_all, test_size=0.2, random_state=42, stratify=y_all)\n",
    "\n",
    "    input_dim = X_train.shape[1]\n",
    "    hidden_dim = 256 \n",
    "    print(f\"Training MLP model with input_dim={input_dim} and hidden_dim={hidden_dim}\")\n",
    "\n",
    "    best_model, losses, best_accuracy = train_model(X_train, y_train, X_test, y_test, input_dim, hidden_dim)\n"
   ]
  },
  {
   "cell_type": "code",
   "execution_count": 24,
   "metadata": {},
   "outputs": [
    {
     "name": "stderr",
     "output_type": "stream",
     "text": [
      "Loading checkpoint shards: 100%|██████████| 4/4 [00:05<00:00,  1.44s/it]\n"
     ]
    },
    {
     "name": "stdout",
     "output_type": "stream",
     "text": [
      "Extracting hidden states for non_infringement texts...\n"
     ]
    },
    {
     "name": "stderr",
     "output_type": "stream",
     "text": [
      "Processing data batches:   0%|          | 0/65 [00:00<?, ?it/s]Starting from v4.46, the `logits` model output will have the same type as the model (except at train time, where it will always be FP32)\n",
      "Processing data batches: 100%|██████████| 65/65 [07:14<00:00,  6.68s/it]\n"
     ]
    },
    {
     "name": "stdout",
     "output_type": "stream",
     "text": [
      "Extracting reference embeddings for non_infringement texts...\n"
     ]
    },
    {
     "name": "stderr",
     "output_type": "stream",
     "text": [
      "Processing references: 100%|██████████| 3/3 [00:07<00:00,  2.48s/it]\n"
     ]
    },
    {
     "name": "stdout",
     "output_type": "stream",
     "text": [
      "Extracting hidden states for infringement texts...\n"
     ]
    },
    {
     "name": "stderr",
     "output_type": "stream",
     "text": [
      "Processing data batches: 100%|██████████| 81/81 [07:00<00:00,  5.20s/it]\n"
     ]
    },
    {
     "name": "stdout",
     "output_type": "stream",
     "text": [
      "Extracting reference embeddings for infringement texts...\n"
     ]
    },
    {
     "name": "stderr",
     "output_type": "stream",
     "text": [
      "Processing references: 100%|██████████| 3/3 [00:06<00:00,  2.29s/it]\n"
     ]
    },
    {
     "name": "stdout",
     "output_type": "stream",
     "text": [
      "X_infringement: [[-2.8422592  -4.461459    2.6978636  ...  1.6057975  -0.44466564\n",
      "  -0.34524718]\n",
      " [-1.4507831  -3.7009997   2.5820174  ...  0.8407085  -1.4226415\n",
      "  -0.4277897 ]\n",
      " [-0.45951188  1.2255214  -4.3566265  ...  2.5940726  -0.5653422\n",
      "   3.7053137 ]\n",
      " ...\n",
      " [-2.6566005  -3.488782    4.5472894  ...  1.8567499  -1.2308977\n",
      "  -1.2628579 ]\n",
      " [ 2.0665205   1.7241032  -3.7993226  ... -2.249426    2.6253107\n",
      "   2.521514  ]\n",
      " [-0.2948868   3.3614721  -2.6718152  ...  4.1578164  -0.22975612\n",
      "  -0.11492316]]\n",
      "=============================================\n",
      "X_infringement_reduced: [[-0.09587459 -0.33376712  1.9684252  ...  0.26775002 -1.9920915\n",
      "   0.17146853]\n",
      " [ 0.39453024 -0.93556625  1.8853657  ...  0.6156372  -1.4173837\n",
      "  -0.5170858 ]\n",
      " [ 1.7263241  -0.02034442 -0.04100736 ...  1.1527193  -1.1460232\n",
      "  -1.78251   ]\n",
      " ...\n",
      " [ 0.1880092   0.6175389   1.2797322  ...  0.71777576 -1.3751009\n",
      "  -0.62435406]\n",
      " [ 0.944059   -0.1961907  -0.37934965 ...  2.1971686  -0.23396882\n",
      "   0.8375026 ]\n",
      " [-1.5068083  -1.3656478  -0.8115853  ...  1.4251876  -0.71884966\n",
      "  -1.6558411 ]]\n",
      "Training MLP model with input_dim=1536 and hidden_dim=256\n"
     ]
    },
    {
     "name": "stderr",
     "output_type": "stream",
     "text": [
      "Training Epochs:   0%|          | 0/500 [00:00<?, ?it/s]/home/guangwei/anaconda3/envs/sit/lib/python3.8/site-packages/torch/autograd/graph.py:768: UserWarning: CUDA initialization: The NVIDIA driver on your system is too old (found version 11040). Please update your GPU driver by downloading and installing a new version from the URL: http://www.nvidia.com/Download/index.aspx Alternatively, go to: https://pytorch.org to install a PyTorch version that has been compiled with your version of the CUDA driver. (Triggered internally at ../c10/cuda/CUDAFunctions.cpp:108.)\n",
      "  return Variable._execution_engine.run_backward(  # Calls into the C++ engine to run the backward pass\n",
      "Training Epochs:   7%|▋         | 35/500 [00:00<00:03, 117.15it/s]"
     ]
    },
    {
     "name": "stdout",
     "output_type": "stream",
     "text": [
      "Epoch 10/500, Loss: 0.0000\n",
      "Test Accuracy at Epoch 10: 100.00%\n",
      "Classification Report at Epoch 10:\n",
      "                  precision    recall  f1-score   support\n",
      "\n",
      "    infringement       1.00      1.00      1.00        65\n",
      "non_infringement       1.00      1.00      1.00        51\n",
      "\n",
      "        accuracy                           1.00       116\n",
      "       macro avg       1.00      1.00      1.00       116\n",
      "    weighted avg       1.00      1.00      1.00       116\n",
      "\n",
      "New best model saved with accuracy 100.00% at epoch 10\n",
      "Best Classification Report at Epoch 10:\n",
      "                  precision    recall  f1-score   support\n",
      "\n",
      "    infringement       1.00      1.00      1.00        65\n",
      "non_infringement       1.00      1.00      1.00        51\n",
      "\n",
      "        accuracy                           1.00       116\n",
      "       macro avg       1.00      1.00      1.00       116\n",
      "    weighted avg       1.00      1.00      1.00       116\n",
      "\n",
      "Epoch 20/500, Loss: 0.0000\n",
      "Test Accuracy at Epoch 20: 100.00%\n",
      "Classification Report at Epoch 20:\n",
      "                  precision    recall  f1-score   support\n",
      "\n",
      "    infringement       1.00      1.00      1.00        65\n",
      "non_infringement       1.00      1.00      1.00        51\n",
      "\n",
      "        accuracy                           1.00       116\n",
      "       macro avg       1.00      1.00      1.00       116\n",
      "    weighted avg       1.00      1.00      1.00       116\n",
      "\n",
      "Epoch 30/500, Loss: 0.0000\n",
      "Test Accuracy at Epoch 30: 100.00%\n",
      "Classification Report at Epoch 30:\n",
      "                  precision    recall  f1-score   support\n",
      "\n",
      "    infringement       1.00      1.00      1.00        65\n",
      "non_infringement       1.00      1.00      1.00        51\n",
      "\n",
      "        accuracy                           1.00       116\n",
      "       macro avg       1.00      1.00      1.00       116\n",
      "    weighted avg       1.00      1.00      1.00       116\n",
      "\n"
     ]
    },
    {
     "name": "stderr",
     "output_type": "stream",
     "text": [
      "Training Epochs:  10%|▉         | 49/500 [00:00<00:03, 123.03it/s]"
     ]
    },
    {
     "name": "stdout",
     "output_type": "stream",
     "text": [
      "Epoch 40/500, Loss: 0.0000\n",
      "Test Accuracy at Epoch 40: 100.00%\n",
      "Classification Report at Epoch 40:\n",
      "                  precision    recall  f1-score   support\n",
      "\n",
      "    infringement       1.00      1.00      1.00        65\n",
      "non_infringement       1.00      1.00      1.00        51\n",
      "\n",
      "        accuracy                           1.00       116\n",
      "       macro avg       1.00      1.00      1.00       116\n",
      "    weighted avg       1.00      1.00      1.00       116\n",
      "\n",
      "Epoch 50/500, Loss: 0.0000\n",
      "Test Accuracy at Epoch 50: 100.00%\n",
      "Classification Report at Epoch 50:\n",
      "                  precision    recall  f1-score   support\n",
      "\n",
      "    infringement       1.00      1.00      1.00        65\n",
      "non_infringement       1.00      1.00      1.00        51\n",
      "\n",
      "        accuracy                           1.00       116\n",
      "       macro avg       1.00      1.00      1.00       116\n",
      "    weighted avg       1.00      1.00      1.00       116\n",
      "\n"
     ]
    },
    {
     "name": "stderr",
     "output_type": "stream",
     "text": [
      "Training Epochs:  15%|█▌        | 76/500 [00:00<00:03, 115.32it/s]"
     ]
    },
    {
     "name": "stdout",
     "output_type": "stream",
     "text": [
      "Epoch 60/500, Loss: 0.0000\n",
      "Test Accuracy at Epoch 60: 100.00%\n",
      "Classification Report at Epoch 60:\n",
      "                  precision    recall  f1-score   support\n",
      "\n",
      "    infringement       1.00      1.00      1.00        65\n",
      "non_infringement       1.00      1.00      1.00        51\n",
      "\n",
      "        accuracy                           1.00       116\n",
      "       macro avg       1.00      1.00      1.00       116\n",
      "    weighted avg       1.00      1.00      1.00       116\n",
      "\n",
      "Epoch 70/500, Loss: 0.0000\n",
      "Test Accuracy at Epoch 70: 100.00%\n",
      "Classification Report at Epoch 70:\n",
      "                  precision    recall  f1-score   support\n",
      "\n",
      "    infringement       1.00      1.00      1.00        65\n",
      "non_infringement       1.00      1.00      1.00        51\n",
      "\n",
      "        accuracy                           1.00       116\n",
      "       macro avg       1.00      1.00      1.00       116\n",
      "    weighted avg       1.00      1.00      1.00       116\n",
      "\n",
      "Epoch 80/500, Loss: 0.0000\n",
      "Test Accuracy at Epoch 80: 100.00%\n",
      "Classification Report at Epoch 80:\n",
      "                  precision    recall  f1-score   support\n",
      "\n",
      "    infringement       1.00      1.00      1.00        65\n",
      "non_infringement       1.00      1.00      1.00        51\n",
      "\n",
      "        accuracy                           1.00       116\n",
      "       macro avg       1.00      1.00      1.00       116\n",
      "    weighted avg       1.00      1.00      1.00       116\n",
      "\n"
     ]
    },
    {
     "name": "stderr",
     "output_type": "stream",
     "text": [
      "Training Epochs:  21%|██        | 103/500 [00:00<00:03, 105.79it/s]"
     ]
    },
    {
     "name": "stdout",
     "output_type": "stream",
     "text": [
      "Epoch 90/500, Loss: 0.0000\n",
      "Test Accuracy at Epoch 90: 100.00%\n",
      "Classification Report at Epoch 90:\n",
      "                  precision    recall  f1-score   support\n",
      "\n",
      "    infringement       1.00      1.00      1.00        65\n",
      "non_infringement       1.00      1.00      1.00        51\n",
      "\n",
      "        accuracy                           1.00       116\n",
      "       macro avg       1.00      1.00      1.00       116\n",
      "    weighted avg       1.00      1.00      1.00       116\n",
      "\n",
      "Epoch 100/500, Loss: 0.0000\n",
      "Test Accuracy at Epoch 100: 100.00%\n",
      "Classification Report at Epoch 100:\n",
      "                  precision    recall  f1-score   support\n",
      "\n",
      "    infringement       1.00      1.00      1.00        65\n",
      "non_infringement       1.00      1.00      1.00        51\n",
      "\n",
      "        accuracy                           1.00       116\n",
      "       macro avg       1.00      1.00      1.00       116\n",
      "    weighted avg       1.00      1.00      1.00       116\n",
      "\n"
     ]
    },
    {
     "name": "stderr",
     "output_type": "stream",
     "text": [
      "Training Epochs:  26%|██▌       | 129/500 [00:01<00:03, 111.26it/s]"
     ]
    },
    {
     "name": "stdout",
     "output_type": "stream",
     "text": [
      "Epoch 110/500, Loss: 0.0000\n",
      "Test Accuracy at Epoch 110: 100.00%\n",
      "Classification Report at Epoch 110:\n",
      "                  precision    recall  f1-score   support\n",
      "\n",
      "    infringement       1.00      1.00      1.00        65\n",
      "non_infringement       1.00      1.00      1.00        51\n",
      "\n",
      "        accuracy                           1.00       116\n",
      "       macro avg       1.00      1.00      1.00       116\n",
      "    weighted avg       1.00      1.00      1.00       116\n",
      "\n",
      "Epoch 120/500, Loss: 0.0000\n",
      "Test Accuracy at Epoch 120: 100.00%\n",
      "Classification Report at Epoch 120:\n",
      "                  precision    recall  f1-score   support\n",
      "\n",
      "    infringement       1.00      1.00      1.00        65\n",
      "non_infringement       1.00      1.00      1.00        51\n",
      "\n",
      "        accuracy                           1.00       116\n",
      "       macro avg       1.00      1.00      1.00       116\n",
      "    weighted avg       1.00      1.00      1.00       116\n",
      "\n",
      "Epoch 130/500, Loss: 0.0000\n",
      "Test Accuracy at Epoch 130: 100.00%\n",
      "Classification Report at Epoch 130:\n",
      "                  precision    recall  f1-score   support\n",
      "\n",
      "    infringement       1.00      1.00      1.00        65\n",
      "non_infringement       1.00      1.00      1.00        51\n",
      "\n",
      "        accuracy                           1.00       116\n",
      "       macro avg       1.00      1.00      1.00       116\n",
      "    weighted avg       1.00      1.00      1.00       116\n",
      "\n"
     ]
    },
    {
     "name": "stderr",
     "output_type": "stream",
     "text": [
      "Training Epochs:  30%|███       | 152/500 [00:01<00:03, 96.99it/s] "
     ]
    },
    {
     "name": "stdout",
     "output_type": "stream",
     "text": [
      "Epoch 140/500, Loss: 0.0000\n",
      "Test Accuracy at Epoch 140: 100.00%\n",
      "Classification Report at Epoch 140:\n",
      "                  precision    recall  f1-score   support\n",
      "\n",
      "    infringement       1.00      1.00      1.00        65\n",
      "non_infringement       1.00      1.00      1.00        51\n",
      "\n",
      "        accuracy                           1.00       116\n",
      "       macro avg       1.00      1.00      1.00       116\n",
      "    weighted avg       1.00      1.00      1.00       116\n",
      "\n",
      "Epoch 150/500, Loss: 0.0000\n",
      "Test Accuracy at Epoch 150: 100.00%\n",
      "Classification Report at Epoch 150:\n",
      "                  precision    recall  f1-score   support\n",
      "\n",
      "    infringement       1.00      1.00      1.00        65\n",
      "non_infringement       1.00      1.00      1.00        51\n",
      "\n",
      "        accuracy                           1.00       116\n",
      "       macro avg       1.00      1.00      1.00       116\n",
      "    weighted avg       1.00      1.00      1.00       116\n",
      "\n",
      "Epoch 160/500, Loss: 0.0000\n",
      "Test Accuracy at Epoch 160: 100.00%\n",
      "Classification Report at Epoch 160:\n",
      "                  precision    recall  f1-score   support\n",
      "\n",
      "    infringement       1.00      1.00      1.00        65\n",
      "non_infringement       1.00      1.00      1.00        51\n",
      "\n",
      "        accuracy                           1.00       116\n",
      "       macro avg       1.00      1.00      1.00       116\n",
      "    weighted avg       1.00      1.00      1.00       116\n",
      "\n"
     ]
    },
    {
     "name": "stderr",
     "output_type": "stream",
     "text": [
      "Training Epochs:  37%|███▋      | 186/500 [00:01<00:03, 97.40it/s] "
     ]
    },
    {
     "name": "stdout",
     "output_type": "stream",
     "text": [
      "Epoch 170/500, Loss: 0.0000\n",
      "Test Accuracy at Epoch 170: 100.00%\n",
      "Classification Report at Epoch 170:\n",
      "                  precision    recall  f1-score   support\n",
      "\n",
      "    infringement       1.00      1.00      1.00        65\n",
      "non_infringement       1.00      1.00      1.00        51\n",
      "\n",
      "        accuracy                           1.00       116\n",
      "       macro avg       1.00      1.00      1.00       116\n",
      "    weighted avg       1.00      1.00      1.00       116\n",
      "\n",
      "Epoch 180/500, Loss: 0.0000\n",
      "Test Accuracy at Epoch 180: 100.00%\n",
      "Classification Report at Epoch 180:\n",
      "                  precision    recall  f1-score   support\n",
      "\n",
      "    infringement       1.00      1.00      1.00        65\n",
      "non_infringement       1.00      1.00      1.00        51\n",
      "\n",
      "        accuracy                           1.00       116\n",
      "       macro avg       1.00      1.00      1.00       116\n",
      "    weighted avg       1.00      1.00      1.00       116\n",
      "\n"
     ]
    },
    {
     "name": "stderr",
     "output_type": "stream",
     "text": [
      "Training Epochs:  42%|████▏     | 210/500 [00:02<00:02, 105.21it/s]"
     ]
    },
    {
     "name": "stdout",
     "output_type": "stream",
     "text": [
      "Epoch 190/500, Loss: 0.0000\n",
      "Test Accuracy at Epoch 190: 100.00%\n",
      "Classification Report at Epoch 190:\n",
      "                  precision    recall  f1-score   support\n",
      "\n",
      "    infringement       1.00      1.00      1.00        65\n",
      "non_infringement       1.00      1.00      1.00        51\n",
      "\n",
      "        accuracy                           1.00       116\n",
      "       macro avg       1.00      1.00      1.00       116\n",
      "    weighted avg       1.00      1.00      1.00       116\n",
      "\n",
      "Epoch 200/500, Loss: 0.0000\n",
      "Test Accuracy at Epoch 200: 100.00%\n",
      "Classification Report at Epoch 200:\n",
      "                  precision    recall  f1-score   support\n",
      "\n",
      "    infringement       1.00      1.00      1.00        65\n",
      "non_infringement       1.00      1.00      1.00        51\n",
      "\n",
      "        accuracy                           1.00       116\n",
      "       macro avg       1.00      1.00      1.00       116\n",
      "    weighted avg       1.00      1.00      1.00       116\n",
      "\n",
      "Epoch 210/500, Loss: 0.0000\n",
      "Test Accuracy at Epoch 210: 100.00%\n",
      "Classification Report at Epoch 210:\n",
      "                  precision    recall  f1-score   support\n",
      "\n",
      "    infringement       1.00      1.00      1.00        65\n",
      "non_infringement       1.00      1.00      1.00        51\n",
      "\n",
      "        accuracy                           1.00       116\n",
      "       macro avg       1.00      1.00      1.00       116\n",
      "    weighted avg       1.00      1.00      1.00       116\n",
      "\n"
     ]
    },
    {
     "name": "stderr",
     "output_type": "stream",
     "text": [
      "Training Epochs:  47%|████▋     | 233/500 [00:02<00:02, 97.87it/s] "
     ]
    },
    {
     "name": "stdout",
     "output_type": "stream",
     "text": [
      "Epoch 220/500, Loss: 0.0000\n",
      "Test Accuracy at Epoch 220: 100.00%\n",
      "Classification Report at Epoch 220:\n",
      "                  precision    recall  f1-score   support\n",
      "\n",
      "    infringement       1.00      1.00      1.00        65\n",
      "non_infringement       1.00      1.00      1.00        51\n",
      "\n",
      "        accuracy                           1.00       116\n",
      "       macro avg       1.00      1.00      1.00       116\n",
      "    weighted avg       1.00      1.00      1.00       116\n",
      "\n",
      "Epoch 230/500, Loss: 0.0000\n",
      "Test Accuracy at Epoch 230: 100.00%\n",
      "Classification Report at Epoch 230:\n",
      "                  precision    recall  f1-score   support\n",
      "\n",
      "    infringement       1.00      1.00      1.00        65\n",
      "non_infringement       1.00      1.00      1.00        51\n",
      "\n",
      "        accuracy                           1.00       116\n",
      "       macro avg       1.00      1.00      1.00       116\n",
      "    weighted avg       1.00      1.00      1.00       116\n",
      "\n",
      "Epoch 240/500, Loss: 0.0000\n",
      "Test Accuracy at Epoch 240: 100.00%\n",
      "Classification Report at Epoch 240:\n",
      "                  precision    recall  f1-score   support\n",
      "\n",
      "    infringement       1.00      1.00      1.00        65\n",
      "non_infringement       1.00      1.00      1.00        51\n",
      "\n",
      "        accuracy                           1.00       116\n",
      "       macro avg       1.00      1.00      1.00       116\n",
      "    weighted avg       1.00      1.00      1.00       116\n",
      "\n"
     ]
    },
    {
     "name": "stderr",
     "output_type": "stream",
     "text": [
      "Training Epochs:  51%|█████     | 255/500 [00:02<00:02, 91.08it/s] "
     ]
    },
    {
     "name": "stdout",
     "output_type": "stream",
     "text": [
      "Epoch 250/500, Loss: 0.0000\n",
      "Test Accuracy at Epoch 250: 100.00%\n",
      "Classification Report at Epoch 250:\n",
      "                  precision    recall  f1-score   support\n",
      "\n",
      "    infringement       1.00      1.00      1.00        65\n",
      "non_infringement       1.00      1.00      1.00        51\n",
      "\n",
      "        accuracy                           1.00       116\n",
      "       macro avg       1.00      1.00      1.00       116\n",
      "    weighted avg       1.00      1.00      1.00       116\n",
      "\n",
      "Epoch 260/500, Loss: 0.0000\n",
      "Test Accuracy at Epoch 260: 100.00%\n",
      "Classification Report at Epoch 260:\n",
      "                  precision    recall  f1-score   support\n",
      "\n",
      "    infringement       1.00      1.00      1.00        65\n",
      "non_infringement       1.00      1.00      1.00        51\n",
      "\n",
      "        accuracy                           1.00       116\n",
      "       macro avg       1.00      1.00      1.00       116\n",
      "    weighted avg       1.00      1.00      1.00       116\n",
      "\n"
     ]
    },
    {
     "name": "stderr",
     "output_type": "stream",
     "text": [
      "Training Epochs:  56%|█████▌    | 278/500 [00:02<00:02, 96.91it/s]"
     ]
    },
    {
     "name": "stdout",
     "output_type": "stream",
     "text": [
      "Epoch 270/500, Loss: 0.0000\n",
      "Test Accuracy at Epoch 270: 100.00%\n",
      "Classification Report at Epoch 270:\n",
      "                  precision    recall  f1-score   support\n",
      "\n",
      "    infringement       1.00      1.00      1.00        65\n",
      "non_infringement       1.00      1.00      1.00        51\n",
      "\n",
      "        accuracy                           1.00       116\n",
      "       macro avg       1.00      1.00      1.00       116\n",
      "    weighted avg       1.00      1.00      1.00       116\n",
      "\n",
      "Epoch 280/500, Loss: 0.0000\n",
      "Test Accuracy at Epoch 280: 100.00%\n",
      "Classification Report at Epoch 280:\n",
      "                  precision    recall  f1-score   support\n",
      "\n",
      "    infringement       1.00      1.00      1.00        65\n",
      "non_infringement       1.00      1.00      1.00        51\n",
      "\n",
      "        accuracy                           1.00       116\n",
      "       macro avg       1.00      1.00      1.00       116\n",
      "    weighted avg       1.00      1.00      1.00       116\n",
      "\n"
     ]
    },
    {
     "name": "stderr",
     "output_type": "stream",
     "text": [
      "Training Epochs:  62%|██████▏   | 308/500 [00:03<00:02, 84.31it/s]"
     ]
    },
    {
     "name": "stdout",
     "output_type": "stream",
     "text": [
      "Epoch 290/500, Loss: 0.0000\n",
      "Test Accuracy at Epoch 290: 100.00%\n",
      "Classification Report at Epoch 290:\n",
      "                  precision    recall  f1-score   support\n",
      "\n",
      "    infringement       1.00      1.00      1.00        65\n",
      "non_infringement       1.00      1.00      1.00        51\n",
      "\n",
      "        accuracy                           1.00       116\n",
      "       macro avg       1.00      1.00      1.00       116\n",
      "    weighted avg       1.00      1.00      1.00       116\n",
      "\n",
      "Epoch 300/500, Loss: 0.0000\n",
      "Test Accuracy at Epoch 300: 100.00%\n",
      "Classification Report at Epoch 300:\n",
      "                  precision    recall  f1-score   support\n",
      "\n",
      "    infringement       1.00      1.00      1.00        65\n",
      "non_infringement       1.00      1.00      1.00        51\n",
      "\n",
      "        accuracy                           1.00       116\n",
      "       macro avg       1.00      1.00      1.00       116\n",
      "    weighted avg       1.00      1.00      1.00       116\n",
      "\n"
     ]
    },
    {
     "name": "stderr",
     "output_type": "stream",
     "text": [
      "Training Epochs:  63%|██████▎   | 317/500 [00:03<00:02, 78.00it/s]"
     ]
    },
    {
     "name": "stdout",
     "output_type": "stream",
     "text": [
      "Epoch 310/500, Loss: 0.0000\n",
      "Test Accuracy at Epoch 310: 100.00%\n",
      "Classification Report at Epoch 310:\n",
      "                  precision    recall  f1-score   support\n",
      "\n",
      "    infringement       1.00      1.00      1.00        65\n",
      "non_infringement       1.00      1.00      1.00        51\n",
      "\n",
      "        accuracy                           1.00       116\n",
      "       macro avg       1.00      1.00      1.00       116\n",
      "    weighted avg       1.00      1.00      1.00       116\n",
      "\n",
      "Epoch 320/500, Loss: 0.0000\n",
      "Test Accuracy at Epoch 320: 100.00%\n",
      "Classification Report at Epoch 320:\n",
      "                  precision    recall  f1-score   support\n",
      "\n",
      "    infringement       1.00      1.00      1.00        65\n",
      "non_infringement       1.00      1.00      1.00        51\n",
      "\n",
      "        accuracy                           1.00       116\n",
      "       macro avg       1.00      1.00      1.00       116\n",
      "    weighted avg       1.00      1.00      1.00       116\n",
      "\n"
     ]
    },
    {
     "name": "stderr",
     "output_type": "stream",
     "text": [
      "Training Epochs:  69%|██████▉   | 346/500 [00:03<00:01, 87.96it/s]"
     ]
    },
    {
     "name": "stdout",
     "output_type": "stream",
     "text": [
      "Epoch 330/500, Loss: 0.0000\n",
      "Test Accuracy at Epoch 330: 100.00%\n",
      "Classification Report at Epoch 330:\n",
      "                  precision    recall  f1-score   support\n",
      "\n",
      "    infringement       1.00      1.00      1.00        65\n",
      "non_infringement       1.00      1.00      1.00        51\n",
      "\n",
      "        accuracy                           1.00       116\n",
      "       macro avg       1.00      1.00      1.00       116\n",
      "    weighted avg       1.00      1.00      1.00       116\n",
      "\n",
      "Epoch 340/500, Loss: 0.0000\n",
      "Test Accuracy at Epoch 340: 100.00%\n",
      "Classification Report at Epoch 340:\n",
      "                  precision    recall  f1-score   support\n",
      "\n",
      "    infringement       1.00      1.00      1.00        65\n",
      "non_infringement       1.00      1.00      1.00        51\n",
      "\n",
      "        accuracy                           1.00       116\n",
      "       macro avg       1.00      1.00      1.00       116\n",
      "    weighted avg       1.00      1.00      1.00       116\n",
      "\n"
     ]
    },
    {
     "name": "stderr",
     "output_type": "stream",
     "text": [
      "Training Epochs:  74%|███████▎  | 368/500 [00:03<00:01, 91.57it/s]"
     ]
    },
    {
     "name": "stdout",
     "output_type": "stream",
     "text": [
      "Epoch 350/500, Loss: 0.0000\n",
      "Test Accuracy at Epoch 350: 100.00%\n",
      "Classification Report at Epoch 350:\n",
      "                  precision    recall  f1-score   support\n",
      "\n",
      "    infringement       1.00      1.00      1.00        65\n",
      "non_infringement       1.00      1.00      1.00        51\n",
      "\n",
      "        accuracy                           1.00       116\n",
      "       macro avg       1.00      1.00      1.00       116\n",
      "    weighted avg       1.00      1.00      1.00       116\n",
      "\n",
      "Epoch 360/500, Loss: 0.0000\n",
      "Test Accuracy at Epoch 360: 100.00%\n",
      "Classification Report at Epoch 360:\n",
      "                  precision    recall  f1-score   support\n",
      "\n",
      "    infringement       1.00      1.00      1.00        65\n",
      "non_infringement       1.00      1.00      1.00        51\n",
      "\n",
      "        accuracy                           1.00       116\n",
      "       macro avg       1.00      1.00      1.00       116\n",
      "    weighted avg       1.00      1.00      1.00       116\n",
      "\n",
      "Epoch 370/500, Loss: 0.0000\n",
      "Test Accuracy at Epoch 370: 100.00%\n",
      "Classification Report at Epoch 370:\n",
      "                  precision    recall  f1-score   support\n",
      "\n",
      "    infringement       1.00      1.00      1.00        65\n",
      "non_infringement       1.00      1.00      1.00        51\n",
      "\n",
      "        accuracy                           1.00       116\n",
      "       macro avg       1.00      1.00      1.00       116\n",
      "    weighted avg       1.00      1.00      1.00       116\n",
      "\n"
     ]
    },
    {
     "name": "stderr",
     "output_type": "stream",
     "text": [
      "Training Epochs:  78%|███████▊  | 390/500 [00:04<00:01, 86.22it/s]"
     ]
    },
    {
     "name": "stdout",
     "output_type": "stream",
     "text": [
      "Epoch 380/500, Loss: 0.0000\n",
      "Test Accuracy at Epoch 380: 100.00%\n",
      "Classification Report at Epoch 380:\n",
      "                  precision    recall  f1-score   support\n",
      "\n",
      "    infringement       1.00      1.00      1.00        65\n",
      "non_infringement       1.00      1.00      1.00        51\n",
      "\n",
      "        accuracy                           1.00       116\n",
      "       macro avg       1.00      1.00      1.00       116\n",
      "    weighted avg       1.00      1.00      1.00       116\n",
      "\n",
      "Epoch 390/500, Loss: 0.0000\n",
      "Test Accuracy at Epoch 390: 100.00%\n",
      "Classification Report at Epoch 390:\n",
      "                  precision    recall  f1-score   support\n",
      "\n",
      "    infringement       1.00      1.00      1.00        65\n",
      "non_infringement       1.00      1.00      1.00        51\n",
      "\n",
      "        accuracy                           1.00       116\n",
      "       macro avg       1.00      1.00      1.00       116\n",
      "    weighted avg       1.00      1.00      1.00       116\n",
      "\n"
     ]
    },
    {
     "name": "stderr",
     "output_type": "stream",
     "text": [
      "Training Epochs:  82%|████████▏ | 412/500 [00:04<00:00, 89.20it/s]"
     ]
    },
    {
     "name": "stdout",
     "output_type": "stream",
     "text": [
      "Epoch 400/500, Loss: 0.0000\n",
      "Test Accuracy at Epoch 400: 100.00%\n",
      "Classification Report at Epoch 400:\n",
      "                  precision    recall  f1-score   support\n",
      "\n",
      "    infringement       1.00      1.00      1.00        65\n",
      "non_infringement       1.00      1.00      1.00        51\n",
      "\n",
      "        accuracy                           1.00       116\n",
      "       macro avg       1.00      1.00      1.00       116\n",
      "    weighted avg       1.00      1.00      1.00       116\n",
      "\n",
      "Epoch 410/500, Loss: 0.0000\n",
      "Test Accuracy at Epoch 410: 100.00%\n",
      "Classification Report at Epoch 410:\n",
      "                  precision    recall  f1-score   support\n",
      "\n",
      "    infringement       1.00      1.00      1.00        65\n",
      "non_infringement       1.00      1.00      1.00        51\n",
      "\n",
      "        accuracy                           1.00       116\n",
      "       macro avg       1.00      1.00      1.00       116\n",
      "    weighted avg       1.00      1.00      1.00       116\n",
      "\n"
     ]
    },
    {
     "name": "stderr",
     "output_type": "stream",
     "text": [
      "Training Epochs:  87%|████████▋ | 436/500 [00:04<00:00, 94.94it/s]"
     ]
    },
    {
     "name": "stdout",
     "output_type": "stream",
     "text": [
      "Epoch 420/500, Loss: 0.0000\n",
      "Test Accuracy at Epoch 420: 100.00%\n",
      "Classification Report at Epoch 420:\n",
      "                  precision    recall  f1-score   support\n",
      "\n",
      "    infringement       1.00      1.00      1.00        65\n",
      "non_infringement       1.00      1.00      1.00        51\n",
      "\n",
      "        accuracy                           1.00       116\n",
      "       macro avg       1.00      1.00      1.00       116\n",
      "    weighted avg       1.00      1.00      1.00       116\n",
      "\n",
      "Epoch 430/500, Loss: 0.0000\n",
      "Test Accuracy at Epoch 430: 100.00%\n",
      "Classification Report at Epoch 430:\n",
      "                  precision    recall  f1-score   support\n",
      "\n",
      "    infringement       1.00      1.00      1.00        65\n",
      "non_infringement       1.00      1.00      1.00        51\n",
      "\n",
      "        accuracy                           1.00       116\n",
      "       macro avg       1.00      1.00      1.00       116\n",
      "    weighted avg       1.00      1.00      1.00       116\n",
      "\n",
      "Epoch 440/500, Loss: 0.0000\n"
     ]
    },
    {
     "name": "stderr",
     "output_type": "stream",
     "text": [
      "Training Epochs:  92%|█████████▏| 460/500 [00:04<00:00, 105.44it/s]"
     ]
    },
    {
     "name": "stdout",
     "output_type": "stream",
     "text": [
      "Test Accuracy at Epoch 440: 100.00%\n",
      "Classification Report at Epoch 440:\n",
      "                  precision    recall  f1-score   support\n",
      "\n",
      "    infringement       1.00      1.00      1.00        65\n",
      "non_infringement       1.00      1.00      1.00        51\n",
      "\n",
      "        accuracy                           1.00       116\n",
      "       macro avg       1.00      1.00      1.00       116\n",
      "    weighted avg       1.00      1.00      1.00       116\n",
      "\n",
      "Epoch 450/500, Loss: 0.0000\n",
      "Test Accuracy at Epoch 450: 100.00%\n",
      "Classification Report at Epoch 450:\n",
      "                  precision    recall  f1-score   support\n",
      "\n",
      "    infringement       1.00      1.00      1.00        65\n",
      "non_infringement       1.00      1.00      1.00        51\n",
      "\n",
      "        accuracy                           1.00       116\n",
      "       macro avg       1.00      1.00      1.00       116\n",
      "    weighted avg       1.00      1.00      1.00       116\n",
      "\n",
      "Epoch 460/500, Loss: 0.0000\n",
      "Test Accuracy at Epoch 460: 100.00%\n",
      "Classification Report at Epoch 460:\n",
      "                  precision    recall  f1-score   support\n",
      "\n",
      "    infringement       1.00      1.00      1.00        65\n",
      "non_infringement       1.00      1.00      1.00        51\n",
      "\n",
      "        accuracy                           1.00       116\n",
      "       macro avg       1.00      1.00      1.00       116\n",
      "    weighted avg       1.00      1.00      1.00       116\n",
      "\n"
     ]
    },
    {
     "name": "stderr",
     "output_type": "stream",
     "text": [
      "Training Epochs:  97%|█████████▋| 483/500 [00:05<00:00, 98.67it/s] "
     ]
    },
    {
     "name": "stdout",
     "output_type": "stream",
     "text": [
      "Epoch 470/500, Loss: 0.0000\n",
      "Test Accuracy at Epoch 470: 100.00%\n",
      "Classification Report at Epoch 470:\n",
      "                  precision    recall  f1-score   support\n",
      "\n",
      "    infringement       1.00      1.00      1.00        65\n",
      "non_infringement       1.00      1.00      1.00        51\n",
      "\n",
      "        accuracy                           1.00       116\n",
      "       macro avg       1.00      1.00      1.00       116\n",
      "    weighted avg       1.00      1.00      1.00       116\n",
      "\n",
      "Epoch 480/500, Loss: 0.0000\n",
      "Test Accuracy at Epoch 480: 100.00%\n",
      "Classification Report at Epoch 480:\n",
      "                  precision    recall  f1-score   support\n",
      "\n",
      "    infringement       1.00      1.00      1.00        65\n",
      "non_infringement       1.00      1.00      1.00        51\n",
      "\n",
      "        accuracy                           1.00       116\n",
      "       macro avg       1.00      1.00      1.00       116\n",
      "    weighted avg       1.00      1.00      1.00       116\n",
      "\n",
      "Epoch 490/500, Loss: 0.0000\n",
      "Test Accuracy at Epoch 490: 100.00%\n",
      "Classification Report at Epoch 490:\n",
      "                  precision    recall  f1-score   support\n",
      "\n",
      "    infringement       1.00      1.00      1.00        65\n",
      "non_infringement       1.00      1.00      1.00        51\n",
      "\n",
      "        accuracy                           1.00       116\n",
      "       macro avg       1.00      1.00      1.00       116\n",
      "    weighted avg       1.00      1.00      1.00       116\n",
      "\n"
     ]
    },
    {
     "name": "stderr",
     "output_type": "stream",
     "text": [
      "Training Epochs: 100%|██████████| 500/500 [00:05<00:00, 95.83it/s] \n",
      "/tmp/ipykernel_658727/1936902679.py:47: FutureWarning: You are using `torch.load` with `weights_only=False` (the current default value), which uses the default pickle module implicitly. It is possible to construct malicious pickle data which will execute arbitrary code during unpickling (See https://github.com/pytorch/pytorch/blob/main/SECURITY.md#untrusted-models for more details). In a future release, the default value for `weights_only` will be flipped to `True`. This limits the functions that could be executed during unpickling. Arbitrary objects will no longer be allowed to be loaded via this mode unless they are explicitly allowlisted by the user via `torch.serialization.add_safe_globals`. We recommend you start setting `weights_only=True` for any use case where you don't have full control of the loaded file. Please open an issue on GitHub for any issues related to this experimental feature.\n",
      "  custom_mlp.load_state_dict(torch.load(checkpoint_path))\n"
     ]
    },
    {
     "name": "stdout",
     "output_type": "stream",
     "text": [
      "Epoch 500/500, Loss: 0.0000\n",
      "Test Accuracy at Epoch 500: 100.00%\n",
      "Classification Report at Epoch 500:\n",
      "                  precision    recall  f1-score   support\n",
      "\n",
      "    infringement       1.00      1.00      1.00        65\n",
      "non_infringement       1.00      1.00      1.00        51\n",
      "\n",
      "        accuracy                           1.00       116\n",
      "       macro avg       1.00      1.00      1.00       116\n",
      "    weighted avg       1.00      1.00      1.00       116\n",
      "\n"
     ]
    },
    {
     "data": {
      "image/png": "[encoded data removed]",
      "text/plain": [
       "<Figure size 1000x500 with 1 Axes>"
      ]
     },
     "metadata": {},
     "output_type": "display_data"
    },
    {
     "name": "stdout",
     "output_type": "stream",
     "text": [
      "Best Model was saved at epoch 10 with accuracy 100.00%\n",
      "Best Classification Report                   precision    recall  f1-score   support\n",
      "\n",
      "    infringement       1.00      1.00      1.00        65\n",
      "non_infringement       1.00      1.00      1.00        51\n",
      "\n",
      "        accuracy                           1.00       116\n",
      "       macro avg       1.00      1.00      1.00       116\n",
      "    weighted avg       1.00      1.00      1.00       116\n",
      "\n"
     ]
    }
   ],
   "source": [
    "\n",
    "# Run main\n",
    "main(model_name, non_infringement_file, infringement_file, checkpoint_file)\n",
    "\n",
    "# 映射维度\n"
   ]
  }
 ],
 "metadata": {
  "kernelspec": {
   "display_name": "sit",
   "language": "python",
   "name": "python3"
  },
  "language_info": {
   "codemirror_mode": {
    "name": "ipython",
    "version": 3
   },
   "file_extension": ".py",
   "mimetype": "text/x-python",
   "name": "python",
   "nbconvert_exporter": "python",
   "pygments_lexer": "ipython3",
   "version": "3.8.10"
  }
 },
 "nbformat": 4,
 "nbformat_minor": 2
}
