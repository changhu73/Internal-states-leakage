{
 "cells": [
  {
   "cell_type": "code",
   "execution_count": 8,
   "metadata": {},
   "outputs": [],
   "source": [
    "# import packages\n",
    "import torch\n",
    "import torch.nn as nn\n",
    "import numpy as np\n",
    "from sklearn.metrics import accuracy_score, classification_report\n",
    "import matplotlib.pyplot as plt\n",
    "from tqdm import tqdm\n",
    "from transformers import AutoTokenizer, AutoModelForCausalLM\n",
    "import json\n",
    "import os\n",
    "from accelerate import Accelerator\n",
    "\n",
    "os.environ[\"CUDA_VISIBLE_DEVICES\"] = \"1\"\n",
    "\n",
    "# Variables\n",
    "model_name = 'meta-llama/Llama-3.2-1B'\n",
    "non_infringement_file = '/home/guangwei/LLM-COPYRIGHT/copyright_newVersion/division_qa/qa.non_infringement.json'\n",
    "infringement_file = '/home/guangwei/LLM-COPYRIGHT/copyright_newVersion/division_qa/qa.infringement.json'\n",
    "checkpoint_file = '/home/guangwei/LLM-COPYRIGHT/copyright_newVersion/models/train_input_last_token.pth'"
   ]
  },
  {
   "cell_type": "code",
   "execution_count": 9,
   "metadata": {},
   "outputs": [],
   "source": [
    "# Define CustumMLP for internal states train\n",
    "class CustomMLP(nn.Module):\n",
    "    def __init__(self, input_dim, hidden_dim):\n",
    "        super(CustomMLP, self).__init__()\n",
    "        self.down = nn.Linear(input_dim, hidden_dim)\n",
    "        self.gate = nn.Linear(input_dim, hidden_dim)\n",
    "        self.up = nn.Linear(hidden_dim, 1)\n",
    "        self.activation = nn.SiLU()\n",
    "\n",
    "    def forward(self, x):\n",
    "        down_output = self.down(x)\n",
    "        gate_output = self.gate(x)\n",
    "        gated_output = down_output * self.activation(gate_output)\n",
    "        return self.up(gated_output)"
   ]
  },
  {
   "cell_type": "code",
   "execution_count": 10,
   "metadata": {},
   "outputs": [],
   "source": [
    "def extract_hidden_states(texts, model, tokenizer, batch_size=4):\n",
    "    device = torch.device(\"cuda\" if torch.cuda.is_available() else \"cpu\")\n",
    "    model.to(device)\n",
    "    model = nn.DataParallel(model)\n",
    "    hidden_states = []\n",
    "    for i in tqdm(range(0, len(texts), batch_size), desc=\"Processing data batches\"):\n",
    "        batch_texts = texts[i:i + batch_size]\n",
    "        inputs = tokenizer(batch_texts, return_tensors=\"pt\", padding=True, truncation=True)\n",
    "        with torch.no_grad():\n",
    "            outputs = model(**inputs)\n",
    "        \n",
    "        # 访问最后一个隐藏层的最后一个token的隐藏状态\n",
    "        # hidden_states[-1]表示最后一个隐藏层，mean(dim=1)表示取所有头的均值\n",
    "        last_layer_hidden_states = outputs.hidden_states[-1]\n",
    "        last_token_hidden_states = last_layer_hidden_states[:, -1, :]  # -1表示最后一个token\n",
    "        hidden_states.append(last_token_hidden_states.cpu().numpy())\n",
    "    return np.vstack(hidden_states)"
   ]
  },
  {
   "cell_type": "code",
   "execution_count": 11,
   "metadata": {},
   "outputs": [],
   "source": [
    "# lode data for infringement & non infringement\n",
    "def load_data(non_infringement_file, infringement_file):\n",
    "    with open(non_infringement_file, 'r', encoding='utf-8') as file:\n",
    "        non_infringement_json_data = json.load(file)\n",
    "\n",
    "    non_infringement_outputs = [entry['input'] for entry in non_infringement_json_data]\n",
    "    y_non_infringement = [1] * len(non_infringement_outputs)\n",
    "\n",
    "    with open(infringement_file, 'r', encoding='utf-8') as file:\n",
    "        infringement_json_data = json.load(file)\n",
    "\n",
    "    infringement_outputs = [entry['input'] for entry in infringement_json_data]\n",
    "    y_infringement = [0] * len(infringement_outputs)\n",
    "\n",
    "    return non_infringement_outputs, y_non_infringement, infringement_outputs, y_infringement"
   ]
  },
  {
   "cell_type": "code",
   "execution_count": 12,
   "metadata": {},
   "outputs": [],
   "source": [
    "from sklearn.metrics import accuracy_score, classification_report, f1_score\n",
    "\n",
    "# Train for best model\n",
    "def train_model(X_train, y_train, X_test, y_test, input_dim, hidden_dim, epochs=2000, lr=0.001, checkpoint_path=checkpoint_file):\n",
    "    custom_mlp = CustomMLP(input_dim, hidden_dim)\n",
    "    criterion = nn.BCEWithLogitsLoss()\n",
    "    optimizer = torch.optim.Adam(custom_mlp.parameters(), lr=lr)\n",
    "\n",
    "    X_train_tensor = torch.tensor(X_train, dtype=torch.float32)\n",
    "    y_train_tensor = torch.tensor(y_train, dtype=torch.float32).unsqueeze(1)\n",
    "\n",
    "    best_accuracy = -float('inf')  # Initialize the best accuracy to negative infinity\n",
    "    best_f1 = -float('inf')  # Initialize the best F1-score to negative infinity\n",
    "    best_model_state = None  # Store the state of the best model\n",
    "    best_epoch = 0  # Track the epoch with the best accuracy\n",
    "    losses = []\n",
    "\n",
    "    for epoch in tqdm(range(epochs), desc=\"Training Epochs\"):\n",
    "        custom_mlp.train()\n",
    "        optimizer.zero_grad()\n",
    "        outputs = custom_mlp(X_train_tensor)\n",
    "        loss = criterion(outputs, y_train_tensor)\n",
    "        loss.backward()\n",
    "        optimizer.step()\n",
    "        losses.append(loss.item())\n",
    "        \n",
    "        if (epoch + 1) % 10 == 0:\n",
    "            print(f\"Epoch {epoch + 1}/{epochs}, Loss: {loss.item():.4f}\")\n",
    "            \n",
    "            custom_mlp.eval()\n",
    "            X_test_tensor = torch.tensor(X_test, dtype=torch.float32)\n",
    "            with torch.no_grad():\n",
    "                y_pred_logits = custom_mlp(X_test_tensor)\n",
    "                y_pred = (torch.sigmoid(y_pred_logits) > 0.5).float().numpy()\n",
    "            \n",
    "            accuracy = accuracy_score(y_test, y_pred)\n",
    "            f1 = f1_score(y_test, y_pred)  # Calculate F1-score\n",
    "            print(f\"Test Accuracy at Epoch {epoch + 1}: {accuracy * 100:.2f}%\")\n",
    "            print(f\"Test F1-score at Epoch {epoch + 1}: {f1:.4f}\")\n",
    "            \n",
    "            report = classification_report(y_test, y_pred, target_names=[\"infringement\", \"non_infringement\"])\n",
    "            print(f\"Classification Report at Epoch {epoch + 1}:\\n{report}\")\n",
    "\n",
    "            # Check if the current model is the best based on F1-score\n",
    "            if f1 > best_f1:\n",
    "                best_accuracy = accuracy\n",
    "                best_f1 = f1\n",
    "                best_model_state = custom_mlp.state_dict()\n",
    "                best_epoch = epoch + 1\n",
    "                torch.save(best_model_state, checkpoint_path)\n",
    "                print(f\"New best model saved with F1-score {best_f1:.4f} at epoch {best_epoch}\")\n",
    "                print(f\"Best Classification Report at Epoch {best_epoch}:\\n{report}\")\n",
    "\n",
    "    # Load the best model state\n",
    "    custom_mlp.load_state_dict(torch.load(checkpoint_path))\n",
    "\n",
    "    # Plot loss curve\n",
    "    plt.figure(figsize=(10, 5))\n",
    "    plt.plot(losses, label='Training Loss')\n",
    "    plt.xlabel('Epoch')\n",
    "    plt.ylabel('Loss')\n",
    "    plt.title('Training Loss Curve')\n",
    "    plt.legend()\n",
    "    plt.show()\n",
    "\n",
    "    print(f\"Best Model was saved at epoch {best_epoch} with F1-score {best_f1:.4f} and accuracy {best_accuracy * 100:.2f}%\")\n",
    "    return custom_mlp, losses, best_accuracy, best_f1\n"
   ]
  },
  {
   "cell_type": "code",
   "execution_count": 13,
   "metadata": {},
   "outputs": [
    {
     "name": "stderr",
     "output_type": "stream",
     "text": [
      "/home/guangwei/miniconda3/envs/zdh/lib/python3.12/site-packages/transformers/generation/configuration_utils.py:774: UserWarning: `return_dict_in_generate` is NOT set to `True`, but `output_hidden_states` is. When `return_dict_in_generate` is not `True`, `output_hidden_states` is ignored.\n",
      "  warnings.warn(\n",
      "Detected kernel version 5.4.0, which is below the recommended minimum of 5.5.0; this can cause the process to hang. It is recommended to upgrade the kernel to the minimum version or higher.\n"
     ]
    }
   ],
   "source": [
    "\n",
    "tokenizer = AutoTokenizer.from_pretrained(model_name, model_max_length=512)\n",
    "model = AutoModelForCausalLM.from_pretrained(model_name, output_hidden_states=True)\n",
    "tokenizer.pad_token = tokenizer.eos_token\n",
    "\n",
    "non_infringement_outputs, y_non_infringement, infringement_outputs, y_infringement = load_data(non_infringement_file, infringement_file)\n",
    "\n",
    "y_non_infringement = np.array(y_non_infringement)\n",
    "y_infringement = np.array(y_infringement)\n",
    "\n",
    "\n",
    "accelerator = Accelerator()\n",
    "model, non_infringement_outputs, infringement_outputs = accelerator.prepare(model, non_infringement_outputs, infringement_outputs)"
   ]
  },
  {
   "cell_type": "code",
   "execution_count": 14,
   "metadata": {},
   "outputs": [
    {
     "name": "stdout",
     "output_type": "stream",
     "text": [
      "Extracting hidden states for non_infringement texts...\n"
     ]
    },
    {
     "name": "stderr",
     "output_type": "stream",
     "text": [
      "Processing data batches: 100%|██████████| 79/79 [00:02<00:00, 30.74it/s]\n"
     ]
    },
    {
     "name": "stdout",
     "output_type": "stream",
     "text": [
      "Extracting hidden states for infringement texts...\n"
     ]
    },
    {
     "name": "stderr",
     "output_type": "stream",
     "text": [
      "Processing data batches: 100%|██████████| 39/39 [00:01<00:00, 34.94it/s]\n"
     ]
    }
   ],
   "source": [
    "print(\"Extracting hidden states for non_infringement texts...\")\n",
    "X_non_infringement = extract_hidden_states(non_infringement_outputs, model, tokenizer)\n",
    "\n",
    "print(\"Extracting hidden states for infringement texts...\")\n",
    "X_infringement = extract_hidden_states(infringement_outputs, model, tokenizer)"
   ]
  },
  {
   "cell_type": "code",
   "execution_count": 15,
   "metadata": {},
   "outputs": [
    {
     "name": "stdout",
     "output_type": "stream",
     "text": [
      "Data successfully split into training and test sets.\n"
     ]
    }
   ],
   "source": [
    "split_index_non_infringement = int(0.8 * len(X_non_infringement))\n",
    "X_non_infringement_train = X_non_infringement[:split_index_non_infringement]\n",
    "X_non_infringement_test = X_non_infringement[split_index_non_infringement:]\n",
    "y_non_infringement_train = y_non_infringement[:split_index_non_infringement]\n",
    "y_non_infringement_test = y_non_infringement[split_index_non_infringement:]\n",
    "\n",
    "split_index_infringement = int(0.8 * len(X_infringement))\n",
    "X_infringement_train = X_infringement[:split_index_infringement]\n",
    "X_infringement_test = X_infringement[split_index_infringement:]\n",
    "y_infringement_train = y_infringement[:split_index_infringement]\n",
    "y_infringement_test = y_infringement[split_index_infringement:]\n",
    "\n",
    "X_train = np.vstack((X_non_infringement_train, X_infringement_train))\n",
    "X_test = np.vstack((X_non_infringement_test, X_infringement_test))\n",
    "y_train = np.concatenate((y_non_infringement_train, y_infringement_train))\n",
    "y_test = np.concatenate((y_non_infringement_test, y_infringement_test))\n",
    "\n",
    "print(\"Data successfully split into training and test sets.\")\n"
   ]
  },
  {
   "cell_type": "code",
   "execution_count": 16,
   "metadata": {},
   "outputs": [
    {
     "name": "stderr",
     "output_type": "stream",
     "text": [
      "Training Epochs:   0%|          | 8/2000 [00:00<00:53, 37.13it/s]/home/guangwei/miniconda3/envs/zdh/lib/python3.12/site-packages/sklearn/metrics/_classification.py:1531: UndefinedMetricWarning: Precision is ill-defined and being set to 0.0 in labels with no predicted samples. Use `zero_division` parameter to control this behavior.\n",
      "  _warn_prf(average, modifier, f\"{metric.capitalize()} is\", len(result))\n",
      "/home/guangwei/miniconda3/envs/zdh/lib/python3.12/site-packages/sklearn/metrics/_classification.py:1531: UndefinedMetricWarning: Precision is ill-defined and being set to 0.0 in labels with no predicted samples. Use `zero_division` parameter to control this behavior.\n",
      "  _warn_prf(average, modifier, f\"{metric.capitalize()} is\", len(result))\n",
      "/home/guangwei/miniconda3/envs/zdh/lib/python3.12/site-packages/sklearn/metrics/_classification.py:1531: UndefinedMetricWarning: Precision is ill-defined and being set to 0.0 in labels with no predicted samples. Use `zero_division` parameter to control this behavior.\n",
      "  _warn_prf(average, modifier, f\"{metric.capitalize()} is\", len(result))\n",
      "Training Epochs:   1%|          | 12/2000 [00:00<00:56, 35.31it/s]"
     ]
    },
    {
     "name": "stdout",
     "output_type": "stream",
     "text": [
      "Epoch 10/2000, Loss: 0.5975\n",
      "Test Accuracy at Epoch 10: 67.37%\n",
      "Test F1-score at Epoch 10: 0.8050\n",
      "Classification Report at Epoch 10:\n",
      "                  precision    recall  f1-score   support\n",
      "\n",
      "    infringement       0.00      0.00      0.00        31\n",
      "non_infringement       0.67      1.00      0.81        64\n",
      "\n",
      "        accuracy                           0.67        95\n",
      "       macro avg       0.34      0.50      0.40        95\n",
      "    weighted avg       0.45      0.67      0.54        95\n",
      "\n",
      "New best model saved with F1-score 0.8050 at epoch 10\n",
      "Best Classification Report at Epoch 10:\n",
      "                  precision    recall  f1-score   support\n",
      "\n",
      "    infringement       0.00      0.00      0.00        31\n",
      "non_infringement       0.67      1.00      0.81        64\n",
      "\n",
      "        accuracy                           0.67        95\n",
      "       macro avg       0.34      0.50      0.40        95\n",
      "    weighted avg       0.45      0.67      0.54        95\n",
      "\n"
     ]
    },
    {
     "name": "stderr",
     "output_type": "stream",
     "text": [
      "Training Epochs:   1%|          | 17/2000 [00:00<01:29, 22.24it/s]/home/guangwei/miniconda3/envs/zdh/lib/python3.12/site-packages/sklearn/metrics/_classification.py:1531: UndefinedMetricWarning: Precision is ill-defined and being set to 0.0 in labels with no predicted samples. Use `zero_division` parameter to control this behavior.\n",
      "  _warn_prf(average, modifier, f\"{metric.capitalize()} is\", len(result))\n",
      "/home/guangwei/miniconda3/envs/zdh/lib/python3.12/site-packages/sklearn/metrics/_classification.py:1531: UndefinedMetricWarning: Precision is ill-defined and being set to 0.0 in labels with no predicted samples. Use `zero_division` parameter to control this behavior.\n",
      "  _warn_prf(average, modifier, f\"{metric.capitalize()} is\", len(result))\n",
      "/home/guangwei/miniconda3/envs/zdh/lib/python3.12/site-packages/sklearn/metrics/_classification.py:1531: UndefinedMetricWarning: Precision is ill-defined and being set to 0.0 in labels with no predicted samples. Use `zero_division` parameter to control this behavior.\n",
      "  _warn_prf(average, modifier, f\"{metric.capitalize()} is\", len(result))\n",
      "Training Epochs:   1%|          | 20/2000 [00:01<05:06,  6.47it/s]"
     ]
    },
    {
     "name": "stdout",
     "output_type": "stream",
     "text": [
      "Epoch 20/2000, Loss: 0.5604\n",
      "Test Accuracy at Epoch 20: 67.37%\n",
      "Test F1-score at Epoch 20: 0.8050\n",
      "Classification Report at Epoch 20:\n",
      "                  precision    recall  f1-score   support\n",
      "\n",
      "    infringement       0.00      0.00      0.00        31\n",
      "non_infringement       0.67      1.00      0.81        64\n",
      "\n",
      "        accuracy                           0.67        95\n",
      "       macro avg       0.34      0.50      0.40        95\n",
      "    weighted avg       0.45      0.67      0.54        95\n",
      "\n"
     ]
    },
    {
     "name": "stderr",
     "output_type": "stream",
     "text": [
      "Training Epochs:   1%|▏         | 26/2000 [00:03<05:56,  5.54it/s]/home/guangwei/miniconda3/envs/zdh/lib/python3.12/site-packages/sklearn/metrics/_classification.py:1531: UndefinedMetricWarning: Precision is ill-defined and being set to 0.0 in labels with no predicted samples. Use `zero_division` parameter to control this behavior.\n",
      "  _warn_prf(average, modifier, f\"{metric.capitalize()} is\", len(result))\n",
      "/home/guangwei/miniconda3/envs/zdh/lib/python3.12/site-packages/sklearn/metrics/_classification.py:1531: UndefinedMetricWarning: Precision is ill-defined and being set to 0.0 in labels with no predicted samples. Use `zero_division` parameter to control this behavior.\n",
      "  _warn_prf(average, modifier, f\"{metric.capitalize()} is\", len(result))\n",
      "/home/guangwei/miniconda3/envs/zdh/lib/python3.12/site-packages/sklearn/metrics/_classification.py:1531: UndefinedMetricWarning: Precision is ill-defined and being set to 0.0 in labels with no predicted samples. Use `zero_division` parameter to control this behavior.\n",
      "  _warn_prf(average, modifier, f\"{metric.capitalize()} is\", len(result))\n",
      "Training Epochs:   2%|▏         | 34/2000 [00:03<02:42, 12.13it/s]"
     ]
    },
    {
     "name": "stdout",
     "output_type": "stream",
     "text": [
      "Epoch 30/2000, Loss: 0.4980\n",
      "Test Accuracy at Epoch 30: 67.37%\n",
      "Test F1-score at Epoch 30: 0.8050\n",
      "Classification Report at Epoch 30:\n",
      "                  precision    recall  f1-score   support\n",
      "\n",
      "    infringement       0.00      0.00      0.00        31\n",
      "non_infringement       0.67      1.00      0.81        64\n",
      "\n",
      "        accuracy                           0.67        95\n",
      "       macro avg       0.34      0.50      0.40        95\n",
      "    weighted avg       0.45      0.67      0.54        95\n",
      "\n"
     ]
    },
    {
     "name": "stderr",
     "output_type": "stream",
     "text": [
      "Training Epochs:   2%|▏         | 46/2000 [00:05<03:11, 10.22it/s]"
     ]
    },
    {
     "name": "stdout",
     "output_type": "stream",
     "text": [
      "Epoch 40/2000, Loss: 0.4127\n",
      "Test Accuracy at Epoch 40: 65.26%\n",
      "Test F1-score at Epoch 40: 0.7898\n",
      "Classification Report at Epoch 40:\n",
      "                  precision    recall  f1-score   support\n",
      "\n",
      "    infringement       0.00      0.00      0.00        31\n",
      "non_infringement       0.67      0.97      0.79        64\n",
      "\n",
      "        accuracy                           0.65        95\n",
      "       macro avg       0.33      0.48      0.39        95\n",
      "    weighted avg       0.45      0.65      0.53        95\n",
      "\n"
     ]
    },
    {
     "name": "stderr",
     "output_type": "stream",
     "text": [
      "Training Epochs:   2%|▏         | 49/2000 [00:05<02:36, 12.43it/s]"
     ]
    },
    {
     "name": "stdout",
     "output_type": "stream",
     "text": [
      "Epoch 50/2000, Loss: 0.4328\n",
      "Test Accuracy at Epoch 50: 63.16%\n",
      "Test F1-score at Epoch 50: 0.7682\n",
      "Classification Report at Epoch 50:\n",
      "                  precision    recall  f1-score   support\n",
      "\n",
      "    infringement       0.25      0.06      0.10        31\n",
      "non_infringement       0.67      0.91      0.77        64\n",
      "\n",
      "        accuracy                           0.63        95\n",
      "       macro avg       0.46      0.49      0.44        95\n",
      "    weighted avg       0.53      0.63      0.55        95\n",
      "\n"
     ]
    },
    {
     "name": "stderr",
     "output_type": "stream",
     "text": [
      "Training Epochs:   3%|▎         | 60/2000 [00:06<02:29, 12.97it/s]"
     ]
    },
    {
     "name": "stdout",
     "output_type": "stream",
     "text": [
      "Epoch 60/2000, Loss: 0.3785\n",
      "Test Accuracy at Epoch 60: 63.16%\n",
      "Test F1-score at Epoch 60: 0.7682\n",
      "Classification Report at Epoch 60:\n",
      "                  precision    recall  f1-score   support\n",
      "\n",
      "    infringement       0.25      0.06      0.10        31\n",
      "non_infringement       0.67      0.91      0.77        64\n",
      "\n",
      "        accuracy                           0.63        95\n",
      "       macro avg       0.46      0.49      0.44        95\n",
      "    weighted avg       0.53      0.63      0.55        95\n",
      "\n"
     ]
    },
    {
     "name": "stderr",
     "output_type": "stream",
     "text": [
      "Training Epochs:   4%|▎         | 73/2000 [00:07<01:39, 19.44it/s]"
     ]
    },
    {
     "name": "stdout",
     "output_type": "stream",
     "text": [
      "Epoch 70/2000, Loss: 0.3425\n",
      "Test Accuracy at Epoch 70: 62.11%\n",
      "Test F1-score at Epoch 70: 0.7632\n",
      "Classification Report at Epoch 70:\n",
      "                  precision    recall  f1-score   support\n",
      "\n",
      "    infringement       0.14      0.03      0.05        31\n",
      "non_infringement       0.66      0.91      0.76        64\n",
      "\n",
      "        accuracy                           0.62        95\n",
      "       macro avg       0.40      0.47      0.41        95\n",
      "    weighted avg       0.49      0.62      0.53        95\n",
      "\n"
     ]
    },
    {
     "name": "stderr",
     "output_type": "stream",
     "text": [
      "Training Epochs:   4%|▍         | 81/2000 [00:07<01:14, 25.74it/s]"
     ]
    },
    {
     "name": "stdout",
     "output_type": "stream",
     "text": [
      "Epoch 80/2000, Loss: 0.3191\n",
      "Test Accuracy at Epoch 80: 64.21%\n",
      "Test F1-score at Epoch 80: 0.7703\n",
      "Classification Report at Epoch 80:\n",
      "                  precision    recall  f1-score   support\n",
      "\n",
      "    infringement       0.36      0.13      0.19        31\n",
      "non_infringement       0.68      0.89      0.77        64\n",
      "\n",
      "        accuracy                           0.64        95\n",
      "       macro avg       0.52      0.51      0.48        95\n",
      "    weighted avg       0.58      0.64      0.58        95\n",
      "\n"
     ]
    },
    {
     "name": "stderr",
     "output_type": "stream",
     "text": [
      "Training Epochs:   4%|▍         | 90/2000 [00:11<08:23,  3.79it/s]"
     ]
    },
    {
     "name": "stdout",
     "output_type": "stream",
     "text": [
      "Epoch 90/2000, Loss: 0.4331\n",
      "Test Accuracy at Epoch 90: 50.53%\n",
      "Test F1-score at Epoch 90: 0.5913\n",
      "Classification Report at Epoch 90:\n",
      "                  precision    recall  f1-score   support\n",
      "\n",
      "    infringement       0.32      0.45      0.37        31\n",
      "non_infringement       0.67      0.53      0.59        64\n",
      "\n",
      "        accuracy                           0.51        95\n",
      "       macro avg       0.49      0.49      0.48        95\n",
      "    weighted avg       0.55      0.51      0.52        95\n",
      "\n"
     ]
    },
    {
     "name": "stderr",
     "output_type": "stream",
     "text": [
      "Training Epochs:   5%|▌         | 107/2000 [00:11<02:25, 13.02it/s]"
     ]
    },
    {
     "name": "stdout",
     "output_type": "stream",
     "text": [
      "Epoch 100/2000, Loss: 0.3269\n",
      "Test Accuracy at Epoch 100: 57.89%\n",
      "Test F1-score at Epoch 100: 0.6970\n",
      "Classification Report at Epoch 100:\n",
      "                  precision    recall  f1-score   support\n",
      "\n",
      "    infringement       0.33      0.29      0.31        31\n",
      "non_infringement       0.68      0.72      0.70        64\n",
      "\n",
      "        accuracy                           0.58        95\n",
      "       macro avg       0.50      0.50      0.50        95\n",
      "    weighted avg       0.56      0.58      0.57        95\n",
      "\n"
     ]
    },
    {
     "name": "stderr",
     "output_type": "stream",
     "text": [
      "Training Epochs:   6%|▌         | 117/2000 [00:12<01:28, 21.16it/s]"
     ]
    },
    {
     "name": "stdout",
     "output_type": "stream",
     "text": [
      "Epoch 110/2000, Loss: 0.2925\n",
      "Test Accuracy at Epoch 110: 51.58%\n",
      "Test F1-score at Epoch 110: 0.6290\n",
      "Classification Report at Epoch 110:\n",
      "                  precision    recall  f1-score   support\n",
      "\n",
      "    infringement       0.29      0.32      0.30        31\n",
      "non_infringement       0.65      0.61      0.63        64\n",
      "\n",
      "        accuracy                           0.52        95\n",
      "       macro avg       0.47      0.47      0.47        95\n",
      "    weighted avg       0.53      0.52      0.52        95\n",
      "\n"
     ]
    },
    {
     "name": "stderr",
     "output_type": "stream",
     "text": [
      "Training Epochs:   6%|▌         | 121/2000 [00:12<01:20, 23.25it/s]"
     ]
    },
    {
     "name": "stdout",
     "output_type": "stream",
     "text": [
      "Epoch 120/2000, Loss: 0.2648\n",
      "Test Accuracy at Epoch 120: 60.00%\n",
      "Test F1-score at Epoch 120: 0.7324\n",
      "Classification Report at Epoch 120:\n",
      "                  precision    recall  f1-score   support\n",
      "\n",
      "    infringement       0.29      0.16      0.21        31\n",
      "non_infringement       0.67      0.81      0.73        64\n",
      "\n",
      "        accuracy                           0.60        95\n",
      "       macro avg       0.48      0.49      0.47        95\n",
      "    weighted avg       0.55      0.60      0.56        95\n",
      "\n"
     ]
    },
    {
     "name": "stderr",
     "output_type": "stream",
     "text": [
      "Training Epochs:   7%|▋         | 132/2000 [00:14<02:56, 10.60it/s]"
     ]
    },
    {
     "name": "stdout",
     "output_type": "stream",
     "text": [
      "Epoch 130/2000, Loss: 0.2542\n",
      "Test Accuracy at Epoch 130: 63.16%\n",
      "Test F1-score at Epoch 130: 0.7682\n",
      "Classification Report at Epoch 130:\n",
      "                  precision    recall  f1-score   support\n",
      "\n",
      "    infringement       0.25      0.06      0.10        31\n",
      "non_infringement       0.67      0.91      0.77        64\n",
      "\n",
      "        accuracy                           0.63        95\n",
      "       macro avg       0.46      0.49      0.44        95\n",
      "    weighted avg       0.53      0.63      0.55        95\n",
      "\n"
     ]
    },
    {
     "name": "stderr",
     "output_type": "stream",
     "text": [
      "Training Epochs:   7%|▋         | 144/2000 [00:14<01:57, 15.75it/s]"
     ]
    },
    {
     "name": "stdout",
     "output_type": "stream",
     "text": [
      "Epoch 140/2000, Loss: 0.2268\n",
      "Test Accuracy at Epoch 140: 60.00%\n",
      "Test F1-score at Epoch 140: 0.7324\n",
      "Classification Report at Epoch 140:\n",
      "                  precision    recall  f1-score   support\n",
      "\n",
      "    infringement       0.29      0.16      0.21        31\n",
      "non_infringement       0.67      0.81      0.73        64\n",
      "\n",
      "        accuracy                           0.60        95\n",
      "       macro avg       0.48      0.49      0.47        95\n",
      "    weighted avg       0.55      0.60      0.56        95\n",
      "\n"
     ]
    },
    {
     "name": "stderr",
     "output_type": "stream",
     "text": [
      "Training Epochs:   8%|▊         | 157/2000 [00:14<01:08, 26.96it/s]"
     ]
    },
    {
     "name": "stdout",
     "output_type": "stream",
     "text": [
      "Epoch 150/2000, Loss: 0.2680\n",
      "Test Accuracy at Epoch 150: 50.53%\n",
      "Test F1-score at Epoch 150: 0.6299\n",
      "Classification Report at Epoch 150:\n",
      "                  precision    recall  f1-score   support\n",
      "\n",
      "    infringement       0.25      0.26      0.25        31\n",
      "non_infringement       0.63      0.62      0.63        64\n",
      "\n",
      "        accuracy                           0.51        95\n",
      "       macro avg       0.44      0.44      0.44        95\n",
      "    weighted avg       0.51      0.51      0.51        95\n",
      "\n"
     ]
    },
    {
     "name": "stderr",
     "output_type": "stream",
     "text": [
      "Training Epochs:   8%|▊         | 165/2000 [00:15<01:18, 23.39it/s]"
     ]
    },
    {
     "name": "stdout",
     "output_type": "stream",
     "text": [
      "Epoch 160/2000, Loss: 0.3088\n",
      "Test Accuracy at Epoch 160: 52.63%\n",
      "Test F1-score at Epoch 160: 0.6617\n",
      "Classification Report at Epoch 160:\n",
      "                  precision    recall  f1-score   support\n",
      "\n",
      "    infringement       0.23      0.19      0.21        31\n",
      "non_infringement       0.64      0.69      0.66        64\n",
      "\n",
      "        accuracy                           0.53        95\n",
      "       macro avg       0.43      0.44      0.44        95\n",
      "    weighted avg       0.50      0.53      0.51        95\n",
      "\n"
     ]
    },
    {
     "name": "stderr",
     "output_type": "stream",
     "text": [
      "Training Epochs:   8%|▊         | 170/2000 [00:15<01:07, 27.17it/s]"
     ]
    },
    {
     "name": "stdout",
     "output_type": "stream",
     "text": [
      "Epoch 170/2000, Loss: 0.1904\n",
      "Test Accuracy at Epoch 170: 57.89%\n",
      "Test F1-score at Epoch 170: 0.7143\n",
      "Classification Report at Epoch 170:\n",
      "                  precision    recall  f1-score   support\n",
      "\n",
      "    infringement       0.26      0.16      0.20        31\n",
      "non_infringement       0.66      0.78      0.71        64\n",
      "\n",
      "        accuracy                           0.58        95\n",
      "       macro avg       0.46      0.47      0.46        95\n",
      "    weighted avg       0.53      0.58      0.55        95\n",
      "\n"
     ]
    },
    {
     "name": "stderr",
     "output_type": "stream",
     "text": [
      "Training Epochs:   9%|▉         | 177/2000 [00:16<02:46, 10.93it/s]"
     ]
    },
    {
     "name": "stdout",
     "output_type": "stream",
     "text": [
      "Epoch 180/2000, Loss: 0.1566\n",
      "Test Accuracy at Epoch 180: 55.79%\n",
      "Test F1-score at Epoch 180: 0.6957\n",
      "Classification Report at Epoch 180:\n",
      "                  precision    recall  f1-score   support\n",
      "\n",
      "    infringement       0.24      0.16      0.19        31\n",
      "non_infringement       0.65      0.75      0.70        64\n",
      "\n",
      "        accuracy                           0.56        95\n",
      "       macro avg       0.44      0.46      0.44        95\n",
      "    weighted avg       0.51      0.56      0.53        95\n",
      "\n"
     ]
    },
    {
     "name": "stderr",
     "output_type": "stream",
     "text": [
      "Training Epochs:  10%|▉         | 196/2000 [00:18<02:01, 14.81it/s]"
     ]
    },
    {
     "name": "stdout",
     "output_type": "stream",
     "text": [
      "Epoch 190/2000, Loss: 0.2620\n",
      "Test Accuracy at Epoch 190: 61.05%\n",
      "Test F1-score at Epoch 190: 0.7517\n",
      "Classification Report at Epoch 190:\n",
      "                  precision    recall  f1-score   support\n",
      "\n",
      "    infringement       0.20      0.06      0.10        31\n",
      "non_infringement       0.66      0.88      0.75        64\n",
      "\n",
      "        accuracy                           0.61        95\n",
      "       macro avg       0.43      0.47      0.42        95\n",
      "    weighted avg       0.51      0.61      0.54        95\n",
      "\n"
     ]
    },
    {
     "name": "stderr",
     "output_type": "stream",
     "text": [
      "Training Epochs:  10%|█         | 203/2000 [00:18<01:31, 19.59it/s]"
     ]
    },
    {
     "name": "stdout",
     "output_type": "stream",
     "text": [
      "Epoch 200/2000, Loss: 0.1766\n",
      "Test Accuracy at Epoch 200: 62.11%\n",
      "Test F1-score at Epoch 200: 0.7600\n",
      "Classification Report at Epoch 200:\n",
      "                  precision    recall  f1-score   support\n",
      "\n",
      "    infringement       0.22      0.06      0.10        31\n",
      "non_infringement       0.66      0.89      0.76        64\n",
      "\n",
      "        accuracy                           0.62        95\n",
      "       macro avg       0.44      0.48      0.43        95\n",
      "    weighted avg       0.52      0.62      0.54        95\n",
      "\n"
     ]
    },
    {
     "name": "stderr",
     "output_type": "stream",
     "text": [
      "Training Epochs:  11%|█         | 215/2000 [00:19<01:01, 29.24it/s]"
     ]
    },
    {
     "name": "stdout",
     "output_type": "stream",
     "text": [
      "Epoch 210/2000, Loss: 0.2390\n",
      "Test Accuracy at Epoch 210: 62.11%\n",
      "Test F1-score at Epoch 210: 0.7500\n",
      "Classification Report at Epoch 210:\n",
      "                  precision    recall  f1-score   support\n",
      "\n",
      "    infringement       0.33      0.16      0.22        31\n",
      "non_infringement       0.68      0.84      0.75        64\n",
      "\n",
      "        accuracy                           0.62        95\n",
      "       macro avg       0.50      0.50      0.48        95\n",
      "    weighted avg       0.56      0.62      0.58        95\n",
      "\n"
     ]
    },
    {
     "name": "stderr",
     "output_type": "stream",
     "text": [
      "Training Epochs:  11%|█         | 220/2000 [00:19<00:54, 32.54it/s]"
     ]
    },
    {
     "name": "stdout",
     "output_type": "stream",
     "text": [
      "Epoch 220/2000, Loss: 0.2183\n",
      "Test Accuracy at Epoch 220: 61.05%\n",
      "Test F1-score at Epoch 220: 0.7448\n",
      "Classification Report at Epoch 220:\n",
      "                  precision    recall  f1-score   support\n",
      "\n",
      "    infringement       0.29      0.13      0.18        31\n",
      "non_infringement       0.67      0.84      0.74        64\n",
      "\n",
      "        accuracy                           0.61        95\n",
      "       macro avg       0.48      0.49      0.46        95\n",
      "    weighted avg       0.54      0.61      0.56        95\n",
      "\n"
     ]
    },
    {
     "name": "stderr",
     "output_type": "stream",
     "text": [
      "Training Epochs:  11%|█▏        | 229/2000 [00:21<05:34,  5.30it/s]"
     ]
    },
    {
     "name": "stdout",
     "output_type": "stream",
     "text": [
      "Epoch 230/2000, Loss: 0.1921\n",
      "Test Accuracy at Epoch 230: 60.00%\n",
      "Test F1-score at Epoch 230: 0.7324\n",
      "Classification Report at Epoch 230:\n",
      "                  precision    recall  f1-score   support\n",
      "\n",
      "    infringement       0.29      0.16      0.21        31\n",
      "non_infringement       0.67      0.81      0.73        64\n",
      "\n",
      "        accuracy                           0.60        95\n",
      "       macro avg       0.48      0.49      0.47        95\n",
      "    weighted avg       0.55      0.60      0.56        95\n",
      "\n"
     ]
    },
    {
     "name": "stderr",
     "output_type": "stream",
     "text": [
      "Training Epochs:  12%|█▏        | 245/2000 [00:24<02:59,  9.80it/s]"
     ]
    },
    {
     "name": "stdout",
     "output_type": "stream",
     "text": [
      "Epoch 240/2000, Loss: 0.1731\n",
      "Test Accuracy at Epoch 240: 60.00%\n",
      "Test F1-score at Epoch 240: 0.7324\n",
      "Classification Report at Epoch 240:\n",
      "                  precision    recall  f1-score   support\n",
      "\n",
      "    infringement       0.29      0.16      0.21        31\n",
      "non_infringement       0.67      0.81      0.73        64\n",
      "\n",
      "        accuracy                           0.60        95\n",
      "       macro avg       0.48      0.49      0.47        95\n",
      "    weighted avg       0.55      0.60      0.56        95\n",
      "\n"
     ]
    },
    {
     "name": "stderr",
     "output_type": "stream",
     "text": [
      "Training Epochs:  13%|█▎        | 251/2000 [00:25<03:53,  7.49it/s]"
     ]
    },
    {
     "name": "stdout",
     "output_type": "stream",
     "text": [
      "Epoch 250/2000, Loss: 0.1569\n",
      "Test Accuracy at Epoch 250: 58.95%\n",
      "Test F1-score at Epoch 250: 0.7234\n",
      "Classification Report at Epoch 250:\n",
      "                  precision    recall  f1-score   support\n",
      "\n",
      "    infringement       0.28      0.16      0.20        31\n",
      "non_infringement       0.66      0.80      0.72        64\n",
      "\n",
      "        accuracy                           0.59        95\n",
      "       macro avg       0.47      0.48      0.46        95\n",
      "    weighted avg       0.54      0.59      0.55        95\n",
      "\n"
     ]
    },
    {
     "name": "stderr",
     "output_type": "stream",
     "text": [
      "Training Epochs:  13%|█▎        | 262/2000 [00:25<01:45, 16.55it/s]"
     ]
    },
    {
     "name": "stdout",
     "output_type": "stream",
     "text": [
      "Epoch 260/2000, Loss: 0.3761\n",
      "Test Accuracy at Epoch 260: 60.00%\n",
      "Test F1-score at Epoch 260: 0.7246\n",
      "Classification Report at Epoch 260:\n",
      "                  precision    recall  f1-score   support\n",
      "\n",
      "    infringement       0.33      0.23      0.27        31\n",
      "non_infringement       0.68      0.78      0.72        64\n",
      "\n",
      "        accuracy                           0.60        95\n",
      "       macro avg       0.50      0.50      0.50        95\n",
      "    weighted avg       0.56      0.60      0.58        95\n",
      "\n"
     ]
    },
    {
     "name": "stderr",
     "output_type": "stream",
     "text": [
      "Training Epochs:  14%|█▍        | 276/2000 [00:26<01:12, 23.83it/s]"
     ]
    },
    {
     "name": "stdout",
     "output_type": "stream",
     "text": [
      "Epoch 270/2000, Loss: 0.1685\n",
      "Test Accuracy at Epoch 270: 62.11%\n",
      "Test F1-score at Epoch 270: 0.7600\n",
      "Classification Report at Epoch 270:\n",
      "                  precision    recall  f1-score   support\n",
      "\n",
      "    infringement       0.22      0.06      0.10        31\n",
      "non_infringement       0.66      0.89      0.76        64\n",
      "\n",
      "        accuracy                           0.62        95\n",
      "       macro avg       0.44      0.48      0.43        95\n",
      "    weighted avg       0.52      0.62      0.54        95\n",
      "\n"
     ]
    },
    {
     "name": "stderr",
     "output_type": "stream",
     "text": [
      "Training Epochs:  14%|█▍        | 280/2000 [00:26<01:06, 26.00it/s]"
     ]
    },
    {
     "name": "stdout",
     "output_type": "stream",
     "text": [
      "Epoch 280/2000, Loss: 0.1309\n",
      "Test Accuracy at Epoch 280: 57.89%\n",
      "Test F1-score at Epoch 280: 0.7183\n",
      "Classification Report at Epoch 280:\n",
      "                  precision    recall  f1-score   support\n",
      "\n",
      "    infringement       0.24      0.13      0.17        31\n",
      "non_infringement       0.65      0.80      0.72        64\n",
      "\n",
      "        accuracy                           0.58        95\n",
      "       macro avg       0.44      0.46      0.44        95\n",
      "    weighted avg       0.52      0.58      0.54        95\n",
      "\n"
     ]
    },
    {
     "name": "stderr",
     "output_type": "stream",
     "text": [
      "Training Epochs:  14%|█▍        | 289/2000 [00:29<06:16,  4.54it/s]"
     ]
    },
    {
     "name": "stdout",
     "output_type": "stream",
     "text": [
      "Epoch 290/2000, Loss: 0.1501\n",
      "Test Accuracy at Epoch 290: 62.11%\n",
      "Test F1-score at Epoch 290: 0.7600\n",
      "Classification Report at Epoch 290:\n",
      "                  precision    recall  f1-score   support\n",
      "\n",
      "    infringement       0.22      0.06      0.10        31\n",
      "non_infringement       0.66      0.89      0.76        64\n",
      "\n",
      "        accuracy                           0.62        95\n",
      "       macro avg       0.44      0.48      0.43        95\n",
      "    weighted avg       0.52      0.62      0.54        95\n",
      "\n"
     ]
    },
    {
     "name": "stderr",
     "output_type": "stream",
     "text": [
      "Training Epochs:  15%|█▌        | 300/2000 [00:30<03:18,  8.55it/s]"
     ]
    },
    {
     "name": "stdout",
     "output_type": "stream",
     "text": [
      "Epoch 300/2000, Loss: 0.1326\n",
      "Test Accuracy at Epoch 300: 57.89%\n",
      "Test F1-score at Epoch 300: 0.7143\n",
      "Classification Report at Epoch 300:\n",
      "                  precision    recall  f1-score   support\n",
      "\n",
      "    infringement       0.26      0.16      0.20        31\n",
      "non_infringement       0.66      0.78      0.71        64\n",
      "\n",
      "        accuracy                           0.58        95\n",
      "       macro avg       0.46      0.47      0.46        95\n",
      "    weighted avg       0.53      0.58      0.55        95\n",
      "\n"
     ]
    },
    {
     "name": "stderr",
     "output_type": "stream",
     "text": [
      "Training Epochs:  16%|█▌        | 316/2000 [00:31<01:33, 18.03it/s]"
     ]
    },
    {
     "name": "stdout",
     "output_type": "stream",
     "text": [
      "Epoch 310/2000, Loss: 0.1620\n",
      "Test Accuracy at Epoch 310: 58.95%\n",
      "Test F1-score at Epoch 310: 0.7347\n",
      "Classification Report at Epoch 310:\n",
      "                  precision    recall  f1-score   support\n",
      "\n",
      "    infringement       0.17      0.06      0.09        31\n",
      "non_infringement       0.65      0.84      0.73        64\n",
      "\n",
      "        accuracy                           0.59        95\n",
      "       macro avg       0.41      0.45      0.41        95\n",
      "    weighted avg       0.49      0.59      0.53        95\n",
      "\n"
     ]
    },
    {
     "name": "stderr",
     "output_type": "stream",
     "text": [
      "Training Epochs:  16%|█▌        | 324/2000 [00:31<01:08, 24.33it/s]"
     ]
    },
    {
     "name": "stdout",
     "output_type": "stream",
     "text": [
      "Epoch 320/2000, Loss: 0.1152\n",
      "Test Accuracy at Epoch 320: 60.00%\n",
      "Test F1-score at Epoch 320: 0.7397\n",
      "Classification Report at Epoch 320:\n",
      "                  precision    recall  f1-score   support\n",
      "\n",
      "    infringement       0.23      0.10      0.14        31\n",
      "non_infringement       0.66      0.84      0.74        64\n",
      "\n",
      "        accuracy                           0.60        95\n",
      "       macro avg       0.44      0.47      0.44        95\n",
      "    weighted avg       0.52      0.60      0.54        95\n",
      "\n"
     ]
    },
    {
     "name": "stderr",
     "output_type": "stream",
     "text": [
      "Training Epochs:  17%|█▋        | 333/2000 [00:31<00:55, 30.10it/s]"
     ]
    },
    {
     "name": "stdout",
     "output_type": "stream",
     "text": [
      "Epoch 330/2000, Loss: 0.1066\n",
      "Test Accuracy at Epoch 330: 61.05%\n",
      "Test F1-score at Epoch 330: 0.7517\n",
      "Classification Report at Epoch 330:\n",
      "                  precision    recall  f1-score   support\n",
      "\n",
      "    infringement       0.20      0.06      0.10        31\n",
      "non_infringement       0.66      0.88      0.75        64\n",
      "\n",
      "        accuracy                           0.61        95\n",
      "       macro avg       0.43      0.47      0.42        95\n",
      "    weighted avg       0.51      0.61      0.54        95\n",
      "\n"
     ]
    },
    {
     "name": "stderr",
     "output_type": "stream",
     "text": [
      "Training Epochs:  17%|█▋        | 346/2000 [00:32<00:46, 35.43it/s]"
     ]
    },
    {
     "name": "stdout",
     "output_type": "stream",
     "text": [
      "Epoch 340/2000, Loss: 0.3154\n",
      "Test Accuracy at Epoch 340: 55.79%\n",
      "Test F1-score at Epoch 340: 0.6957\n",
      "Classification Report at Epoch 340:\n",
      "                  precision    recall  f1-score   support\n",
      "\n",
      "    infringement       0.24      0.16      0.19        31\n",
      "non_infringement       0.65      0.75      0.70        64\n",
      "\n",
      "        accuracy                           0.56        95\n",
      "       macro avg       0.44      0.46      0.44        95\n",
      "    weighted avg       0.51      0.56      0.53        95\n",
      "\n"
     ]
    },
    {
     "name": "stderr",
     "output_type": "stream",
     "text": [
      "Training Epochs:  18%|█▊        | 350/2000 [00:34<04:06,  6.69it/s]"
     ]
    },
    {
     "name": "stdout",
     "output_type": "stream",
     "text": [
      "Epoch 350/2000, Loss: 0.1064\n",
      "Test Accuracy at Epoch 350: 61.05%\n",
      "Test F1-score at Epoch 350: 0.7550\n",
      "Classification Report at Epoch 350:\n",
      "                  precision    recall  f1-score   support\n",
      "\n",
      "    infringement       0.12      0.03      0.05        31\n",
      "non_infringement       0.66      0.89      0.75        64\n",
      "\n",
      "        accuracy                           0.61        95\n",
      "       macro avg       0.39      0.46      0.40        95\n",
      "    weighted avg       0.48      0.61      0.53        95\n",
      "\n"
     ]
    },
    {
     "name": "stderr",
     "output_type": "stream",
     "text": [
      "Training Epochs:  18%|█▊        | 367/2000 [00:37<03:12,  8.48it/s]"
     ]
    },
    {
     "name": "stdout",
     "output_type": "stream",
     "text": [
      "Epoch 360/2000, Loss: 0.0836\n",
      "Test Accuracy at Epoch 360: 57.89%\n",
      "Test F1-score at Epoch 360: 0.7260\n",
      "Classification Report at Epoch 360:\n",
      "                  precision    recall  f1-score   support\n",
      "\n",
      "    infringement       0.15      0.06      0.09        31\n",
      "non_infringement       0.65      0.83      0.73        64\n",
      "\n",
      "        accuracy                           0.58        95\n",
      "       macro avg       0.40      0.45      0.41        95\n",
      "    weighted avg       0.49      0.58      0.52        95\n",
      "\n"
     ]
    },
    {
     "name": "stderr",
     "output_type": "stream",
     "text": [
      "Training Epochs:  18%|█▊        | 370/2000 [00:38<05:37,  4.83it/s]"
     ]
    },
    {
     "name": "stdout",
     "output_type": "stream",
     "text": [
      "Epoch 370/2000, Loss: 0.0826\n",
      "Test Accuracy at Epoch 370: 61.05%\n",
      "Test F1-score at Epoch 370: 0.7517\n",
      "Classification Report at Epoch 370:\n",
      "                  precision    recall  f1-score   support\n",
      "\n",
      "    infringement       0.20      0.06      0.10        31\n",
      "non_infringement       0.66      0.88      0.75        64\n",
      "\n",
      "        accuracy                           0.61        95\n",
      "       macro avg       0.43      0.47      0.42        95\n",
      "    weighted avg       0.51      0.61      0.54        95\n",
      "\n"
     ]
    },
    {
     "name": "stderr",
     "output_type": "stream",
     "text": [
      "Training Epochs:  19%|█▉        | 385/2000 [00:41<02:51,  9.41it/s]"
     ]
    },
    {
     "name": "stdout",
     "output_type": "stream",
     "text": [
      "Epoch 380/2000, Loss: 0.2400\n",
      "Test Accuracy at Epoch 380: 61.05%\n",
      "Test F1-score at Epoch 380: 0.7550\n",
      "Classification Report at Epoch 380:\n",
      "                  precision    recall  f1-score   support\n",
      "\n",
      "    infringement       0.12      0.03      0.05        31\n",
      "non_infringement       0.66      0.89      0.75        64\n",
      "\n",
      "        accuracy                           0.61        95\n",
      "       macro avg       0.39      0.46      0.40        95\n",
      "    weighted avg       0.48      0.61      0.53        95\n",
      "\n"
     ]
    },
    {
     "name": "stderr",
     "output_type": "stream",
     "text": [
      "Training Epochs:  20%|█▉        | 395/2000 [00:41<01:27, 18.34it/s]"
     ]
    },
    {
     "name": "stdout",
     "output_type": "stream",
     "text": [
      "Epoch 390/2000, Loss: 0.0940\n",
      "Test Accuracy at Epoch 390: 56.84%\n",
      "Test F1-score at Epoch 390: 0.7172\n",
      "Classification Report at Epoch 390:\n",
      "                  precision    recall  f1-score   support\n",
      "\n",
      "    infringement       0.14      0.06      0.09        31\n",
      "non_infringement       0.64      0.81      0.72        64\n",
      "\n",
      "        accuracy                           0.57        95\n",
      "       macro avg       0.39      0.44      0.40        95\n",
      "    weighted avg       0.48      0.57      0.51        95\n",
      "\n"
     ]
    },
    {
     "name": "stderr",
     "output_type": "stream",
     "text": [
      "Training Epochs:  20%|██        | 405/2000 [00:41<00:58, 27.45it/s]"
     ]
    },
    {
     "name": "stdout",
     "output_type": "stream",
     "text": [
      "Epoch 400/2000, Loss: 0.0617\n",
      "Test Accuracy at Epoch 400: 61.05%\n",
      "Test F1-score at Epoch 400: 0.7517\n",
      "Classification Report at Epoch 400:\n",
      "                  precision    recall  f1-score   support\n",
      "\n",
      "    infringement       0.20      0.06      0.10        31\n",
      "non_infringement       0.66      0.88      0.75        64\n",
      "\n",
      "        accuracy                           0.61        95\n",
      "       macro avg       0.43      0.47      0.42        95\n",
      "    weighted avg       0.51      0.61      0.54        95\n",
      "\n"
     ]
    },
    {
     "name": "stderr",
     "output_type": "stream",
     "text": [
      "Training Epochs:  21%|██        | 415/2000 [00:42<00:44, 35.75it/s]"
     ]
    },
    {
     "name": "stdout",
     "output_type": "stream",
     "text": [
      "Epoch 410/2000, Loss: 0.0507\n",
      "Test Accuracy at Epoch 410: 57.89%\n",
      "Test F1-score at Epoch 410: 0.7260\n",
      "Classification Report at Epoch 410:\n",
      "                  precision    recall  f1-score   support\n",
      "\n",
      "    infringement       0.15      0.06      0.09        31\n",
      "non_infringement       0.65      0.83      0.73        64\n",
      "\n",
      "        accuracy                           0.58        95\n",
      "       macro avg       0.40      0.45      0.41        95\n",
      "    weighted avg       0.49      0.58      0.52        95\n",
      "\n"
     ]
    },
    {
     "name": "stderr",
     "output_type": "stream",
     "text": [
      "Training Epochs:  21%|██        | 420/2000 [00:42<00:43, 36.60it/s]"
     ]
    },
    {
     "name": "stdout",
     "output_type": "stream",
     "text": [
      "Epoch 420/2000, Loss: 0.0438\n",
      "Test Accuracy at Epoch 420: 58.95%\n",
      "Test F1-score at Epoch 420: 0.7347\n",
      "Classification Report at Epoch 420:\n",
      "                  precision    recall  f1-score   support\n",
      "\n",
      "    infringement       0.17      0.06      0.09        31\n",
      "non_infringement       0.65      0.84      0.73        64\n",
      "\n",
      "        accuracy                           0.59        95\n",
      "       macro avg       0.41      0.45      0.41        95\n",
      "    weighted avg       0.49      0.59      0.53        95\n",
      "\n"
     ]
    },
    {
     "name": "stderr",
     "output_type": "stream",
     "text": [
      "Training Epochs:  21%|██▏       | 429/2000 [00:45<04:54,  5.34it/s]"
     ]
    },
    {
     "name": "stdout",
     "output_type": "stream",
     "text": [
      "Epoch 430/2000, Loss: 0.0355\n",
      "Test Accuracy at Epoch 430: 58.95%\n",
      "Test F1-score at Epoch 430: 0.7347\n",
      "Classification Report at Epoch 430:\n",
      "                  precision    recall  f1-score   support\n",
      "\n",
      "    infringement       0.17      0.06      0.09        31\n",
      "non_infringement       0.65      0.84      0.73        64\n",
      "\n",
      "        accuracy                           0.59        95\n",
      "       macro avg       0.41      0.45      0.41        95\n",
      "    weighted avg       0.49      0.59      0.53        95\n",
      "\n"
     ]
    },
    {
     "name": "stderr",
     "output_type": "stream",
     "text": [
      "Training Epochs:  22%|██▏       | 445/2000 [00:47<02:32, 10.21it/s]"
     ]
    },
    {
     "name": "stdout",
     "output_type": "stream",
     "text": [
      "Epoch 440/2000, Loss: 0.0291\n",
      "Test Accuracy at Epoch 440: 60.00%\n",
      "Test F1-score at Epoch 440: 0.7432\n",
      "Classification Report at Epoch 440:\n",
      "                  precision    recall  f1-score   support\n",
      "\n",
      "    infringement       0.18      0.06      0.10        31\n",
      "non_infringement       0.65      0.86      0.74        64\n",
      "\n",
      "        accuracy                           0.60        95\n",
      "       macro avg       0.42      0.46      0.42        95\n",
      "    weighted avg       0.50      0.60      0.53        95\n",
      "\n"
     ]
    },
    {
     "name": "stderr",
     "output_type": "stream",
     "text": [
      "Training Epochs:  23%|██▎       | 454/2000 [00:49<03:24,  7.55it/s]"
     ]
    },
    {
     "name": "stdout",
     "output_type": "stream",
     "text": [
      "Epoch 450/2000, Loss: 0.0240\n",
      "Test Accuracy at Epoch 450: 60.00%\n",
      "Test F1-score at Epoch 450: 0.7432\n",
      "Classification Report at Epoch 450:\n",
      "                  precision    recall  f1-score   support\n",
      "\n",
      "    infringement       0.18      0.06      0.10        31\n",
      "non_infringement       0.65      0.86      0.74        64\n",
      "\n",
      "        accuracy                           0.60        95\n",
      "       macro avg       0.42      0.46      0.42        95\n",
      "    weighted avg       0.50      0.60      0.53        95\n",
      "\n"
     ]
    },
    {
     "name": "stderr",
     "output_type": "stream",
     "text": [
      "Training Epochs:  23%|██▎       | 463/2000 [00:49<01:47, 14.34it/s]"
     ]
    },
    {
     "name": "stdout",
     "output_type": "stream",
     "text": [
      "Epoch 460/2000, Loss: 0.0199\n",
      "Test Accuracy at Epoch 460: 60.00%\n",
      "Test F1-score at Epoch 460: 0.7432\n",
      "Classification Report at Epoch 460:\n",
      "                  precision    recall  f1-score   support\n",
      "\n",
      "    infringement       0.18      0.06      0.10        31\n",
      "non_infringement       0.65      0.86      0.74        64\n",
      "\n",
      "        accuracy                           0.60        95\n",
      "       macro avg       0.42      0.46      0.42        95\n",
      "    weighted avg       0.50      0.60      0.53        95\n",
      "\n"
     ]
    },
    {
     "name": "stderr",
     "output_type": "stream",
     "text": [
      "Training Epochs:  24%|██▍       | 477/2000 [00:49<00:57, 26.63it/s]"
     ]
    },
    {
     "name": "stdout",
     "output_type": "stream",
     "text": [
      "Epoch 470/2000, Loss: 0.0166\n",
      "Test Accuracy at Epoch 470: 60.00%\n",
      "Test F1-score at Epoch 470: 0.7432\n",
      "Classification Report at Epoch 470:\n",
      "                  precision    recall  f1-score   support\n",
      "\n",
      "    infringement       0.18      0.06      0.10        31\n",
      "non_infringement       0.65      0.86      0.74        64\n",
      "\n",
      "        accuracy                           0.60        95\n",
      "       macro avg       0.42      0.46      0.42        95\n",
      "    weighted avg       0.50      0.60      0.53        95\n",
      "\n"
     ]
    },
    {
     "name": "stderr",
     "output_type": "stream",
     "text": [
      "Training Epochs:  24%|██▍       | 488/2000 [00:50<00:42, 35.44it/s]"
     ]
    },
    {
     "name": "stdout",
     "output_type": "stream",
     "text": [
      "Epoch 480/2000, Loss: 0.0141\n",
      "Test Accuracy at Epoch 480: 60.00%\n",
      "Test F1-score at Epoch 480: 0.7432\n",
      "Classification Report at Epoch 480:\n",
      "                  precision    recall  f1-score   support\n",
      "\n",
      "    infringement       0.18      0.06      0.10        31\n",
      "non_infringement       0.65      0.86      0.74        64\n",
      "\n",
      "        accuracy                           0.60        95\n",
      "       macro avg       0.42      0.46      0.42        95\n",
      "    weighted avg       0.50      0.60      0.53        95\n",
      "\n"
     ]
    },
    {
     "name": "stderr",
     "output_type": "stream",
     "text": [
      "Training Epochs:  25%|██▍       | 493/2000 [00:50<00:40, 37.58it/s]"
     ]
    },
    {
     "name": "stdout",
     "output_type": "stream",
     "text": [
      "Epoch 490/2000, Loss: 0.0120\n",
      "Test Accuracy at Epoch 490: 60.00%\n",
      "Test F1-score at Epoch 490: 0.7432\n",
      "Classification Report at Epoch 490:\n",
      "                  precision    recall  f1-score   support\n",
      "\n",
      "    infringement       0.18      0.06      0.10        31\n",
      "non_infringement       0.65      0.86      0.74        64\n",
      "\n",
      "        accuracy                           0.60        95\n",
      "       macro avg       0.42      0.46      0.42        95\n",
      "    weighted avg       0.50      0.60      0.53        95\n",
      "\n"
     ]
    },
    {
     "name": "stderr",
     "output_type": "stream",
     "text": [
      "Training Epochs:  25%|██▍       | 498/2000 [00:50<01:09, 21.67it/s]"
     ]
    },
    {
     "name": "stdout",
     "output_type": "stream",
     "text": [
      "Epoch 500/2000, Loss: 0.0103\n",
      "Test Accuracy at Epoch 500: 58.95%\n",
      "Test F1-score at Epoch 500: 0.7347\n",
      "Classification Report at Epoch 500:\n",
      "                  precision    recall  f1-score   support\n",
      "\n",
      "    infringement       0.17      0.06      0.09        31\n",
      "non_infringement       0.65      0.84      0.73        64\n",
      "\n",
      "        accuracy                           0.59        95\n",
      "       macro avg       0.41      0.45      0.41        95\n",
      "    weighted avg       0.49      0.59      0.53        95\n",
      "\n"
     ]
    },
    {
     "name": "stderr",
     "output_type": "stream",
     "text": [
      "Training Epochs:  25%|██▌       | 509/2000 [00:55<06:30,  3.82it/s]"
     ]
    },
    {
     "name": "stdout",
     "output_type": "stream",
     "text": [
      "Epoch 510/2000, Loss: 0.0090\n",
      "Test Accuracy at Epoch 510: 58.95%\n",
      "Test F1-score at Epoch 510: 0.7347\n",
      "Classification Report at Epoch 510:\n",
      "                  precision    recall  f1-score   support\n",
      "\n",
      "    infringement       0.17      0.06      0.09        31\n",
      "non_infringement       0.65      0.84      0.73        64\n",
      "\n",
      "        accuracy                           0.59        95\n",
      "       macro avg       0.41      0.45      0.41        95\n",
      "    weighted avg       0.49      0.59      0.53        95\n",
      "\n"
     ]
    },
    {
     "name": "stderr",
     "output_type": "stream",
     "text": [
      "Training Epochs:  26%|██▋       | 526/2000 [00:56<02:04, 11.84it/s]"
     ]
    },
    {
     "name": "stdout",
     "output_type": "stream",
     "text": [
      "Epoch 520/2000, Loss: 0.0079\n",
      "Test Accuracy at Epoch 520: 58.95%\n",
      "Test F1-score at Epoch 520: 0.7347\n",
      "Classification Report at Epoch 520:\n",
      "                  precision    recall  f1-score   support\n",
      "\n",
      "    infringement       0.17      0.06      0.09        31\n",
      "non_infringement       0.65      0.84      0.73        64\n",
      "\n",
      "        accuracy                           0.59        95\n",
      "       macro avg       0.41      0.45      0.41        95\n",
      "    weighted avg       0.49      0.59      0.53        95\n",
      "\n"
     ]
    },
    {
     "name": "stderr",
     "output_type": "stream",
     "text": [
      "Training Epochs:  27%|██▋       | 531/2000 [00:57<03:25,  7.15it/s]"
     ]
    },
    {
     "name": "stdout",
     "output_type": "stream",
     "text": [
      "Epoch 530/2000, Loss: 0.0069\n",
      "Test Accuracy at Epoch 530: 58.95%\n",
      "Test F1-score at Epoch 530: 0.7347\n",
      "Classification Report at Epoch 530:\n",
      "                  precision    recall  f1-score   support\n",
      "\n",
      "    infringement       0.17      0.06      0.09        31\n",
      "non_infringement       0.65      0.84      0.73        64\n",
      "\n",
      "        accuracy                           0.59        95\n",
      "       macro avg       0.41      0.45      0.41        95\n",
      "    weighted avg       0.49      0.59      0.53        95\n",
      "\n"
     ]
    },
    {
     "name": "stderr",
     "output_type": "stream",
     "text": [
      "Training Epochs:  27%|██▋       | 544/2000 [00:57<01:23, 17.43it/s]"
     ]
    },
    {
     "name": "stdout",
     "output_type": "stream",
     "text": [
      "Epoch 540/2000, Loss: 0.0062\n",
      "Test Accuracy at Epoch 540: 58.95%\n",
      "Test F1-score at Epoch 540: 0.7347\n",
      "Classification Report at Epoch 540:\n",
      "                  precision    recall  f1-score   support\n",
      "\n",
      "    infringement       0.17      0.06      0.09        31\n",
      "non_infringement       0.65      0.84      0.73        64\n",
      "\n",
      "        accuracy                           0.59        95\n",
      "       macro avg       0.41      0.45      0.41        95\n",
      "    weighted avg       0.49      0.59      0.53        95\n",
      "\n"
     ]
    },
    {
     "name": "stderr",
     "output_type": "stream",
     "text": [
      "Training Epochs:  28%|██▊       | 553/2000 [00:58<01:00, 23.93it/s]"
     ]
    },
    {
     "name": "stdout",
     "output_type": "stream",
     "text": [
      "Epoch 550/2000, Loss: 0.0055\n",
      "Test Accuracy at Epoch 550: 58.95%\n",
      "Test F1-score at Epoch 550: 0.7347\n",
      "Classification Report at Epoch 550:\n",
      "                  precision    recall  f1-score   support\n",
      "\n",
      "    infringement       0.17      0.06      0.09        31\n",
      "non_infringement       0.65      0.84      0.73        64\n",
      "\n",
      "        accuracy                           0.59        95\n",
      "       macro avg       0.41      0.45      0.41        95\n",
      "    weighted avg       0.49      0.59      0.53        95\n",
      "\n"
     ]
    },
    {
     "name": "stderr",
     "output_type": "stream",
     "text": [
      "Training Epochs:  28%|██▊       | 563/2000 [00:58<00:42, 33.48it/s]"
     ]
    },
    {
     "name": "stdout",
     "output_type": "stream",
     "text": [
      "Epoch 560/2000, Loss: 0.0050\n",
      "Test Accuracy at Epoch 560: 58.95%\n",
      "Test F1-score at Epoch 560: 0.7347\n",
      "Classification Report at Epoch 560:\n",
      "                  precision    recall  f1-score   support\n",
      "\n",
      "    infringement       0.17      0.06      0.09        31\n",
      "non_infringement       0.65      0.84      0.73        64\n",
      "\n",
      "        accuracy                           0.59        95\n",
      "       macro avg       0.41      0.45      0.41        95\n",
      "    weighted avg       0.49      0.59      0.53        95\n",
      "\n"
     ]
    },
    {
     "name": "stderr",
     "output_type": "stream",
     "text": [
      "Training Epochs:  29%|██▊       | 573/2000 [00:58<00:41, 34.64it/s]"
     ]
    },
    {
     "name": "stdout",
     "output_type": "stream",
     "text": [
      "Epoch 570/2000, Loss: 0.0045\n",
      "Test Accuracy at Epoch 570: 58.95%\n",
      "Test F1-score at Epoch 570: 0.7347\n",
      "Classification Report at Epoch 570:\n",
      "                  precision    recall  f1-score   support\n",
      "\n",
      "    infringement       0.17      0.06      0.09        31\n",
      "non_infringement       0.65      0.84      0.73        64\n",
      "\n",
      "        accuracy                           0.59        95\n",
      "       macro avg       0.41      0.45      0.41        95\n",
      "    weighted avg       0.49      0.59      0.53        95\n",
      "\n"
     ]
    },
    {
     "name": "stderr",
     "output_type": "stream",
     "text": [
      "Training Epochs:  29%|██▉       | 580/2000 [01:01<04:25,  5.34it/s]"
     ]
    },
    {
     "name": "stdout",
     "output_type": "stream",
     "text": [
      "Epoch 580/2000, Loss: 0.0041\n",
      "Test Accuracy at Epoch 580: 58.95%\n",
      "Test F1-score at Epoch 580: 0.7347\n",
      "Classification Report at Epoch 580:\n",
      "                  precision    recall  f1-score   support\n",
      "\n",
      "    infringement       0.17      0.06      0.09        31\n",
      "non_infringement       0.65      0.84      0.73        64\n",
      "\n",
      "        accuracy                           0.59        95\n",
      "       macro avg       0.41      0.45      0.41        95\n",
      "    weighted avg       0.49      0.59      0.53        95\n",
      "\n"
     ]
    },
    {
     "name": "stderr",
     "output_type": "stream",
     "text": [
      "Training Epochs:  30%|██▉       | 590/2000 [01:06<09:24,  2.50it/s]"
     ]
    },
    {
     "name": "stdout",
     "output_type": "stream",
     "text": [
      "Epoch 590/2000, Loss: 0.0037\n",
      "Test Accuracy at Epoch 590: 58.95%\n",
      "Test F1-score at Epoch 590: 0.7347\n",
      "Classification Report at Epoch 590:\n",
      "                  precision    recall  f1-score   support\n",
      "\n",
      "    infringement       0.17      0.06      0.09        31\n",
      "non_infringement       0.65      0.84      0.73        64\n",
      "\n",
      "        accuracy                           0.59        95\n",
      "       macro avg       0.41      0.45      0.41        95\n",
      "    weighted avg       0.49      0.59      0.53        95\n",
      "\n"
     ]
    },
    {
     "name": "stderr",
     "output_type": "stream",
     "text": [
      "Training Epochs:  30%|███       | 600/2000 [01:10<09:55,  2.35it/s]"
     ]
    },
    {
     "name": "stdout",
     "output_type": "stream",
     "text": [
      "Epoch 600/2000, Loss: 0.0034\n",
      "Test Accuracy at Epoch 600: 58.95%\n",
      "Test F1-score at Epoch 600: 0.7347\n",
      "Classification Report at Epoch 600:\n",
      "                  precision    recall  f1-score   support\n",
      "\n",
      "    infringement       0.17      0.06      0.09        31\n",
      "non_infringement       0.65      0.84      0.73        64\n",
      "\n",
      "        accuracy                           0.59        95\n",
      "       macro avg       0.41      0.45      0.41        95\n",
      "    weighted avg       0.49      0.59      0.53        95\n",
      "\n"
     ]
    },
    {
     "name": "stderr",
     "output_type": "stream",
     "text": [
      "Training Epochs:  30%|███       | 610/2000 [01:14<09:03,  2.56it/s]"
     ]
    },
    {
     "name": "stdout",
     "output_type": "stream",
     "text": [
      "Epoch 610/2000, Loss: 0.0032\n",
      "Test Accuracy at Epoch 610: 58.95%\n",
      "Test F1-score at Epoch 610: 0.7347\n",
      "Classification Report at Epoch 610:\n",
      "                  precision    recall  f1-score   support\n",
      "\n",
      "    infringement       0.17      0.06      0.09        31\n",
      "non_infringement       0.65      0.84      0.73        64\n",
      "\n",
      "        accuracy                           0.59        95\n",
      "       macro avg       0.41      0.45      0.41        95\n",
      "    weighted avg       0.49      0.59      0.53        95\n",
      "\n"
     ]
    },
    {
     "name": "stderr",
     "output_type": "stream",
     "text": [
      "Training Epochs:  31%|███       | 620/2000 [01:18<10:05,  2.28it/s]"
     ]
    },
    {
     "name": "stdout",
     "output_type": "stream",
     "text": [
      "Epoch 620/2000, Loss: 0.0029\n",
      "Test Accuracy at Epoch 620: 58.95%\n",
      "Test F1-score at Epoch 620: 0.7347\n",
      "Classification Report at Epoch 620:\n",
      "                  precision    recall  f1-score   support\n",
      "\n",
      "    infringement       0.17      0.06      0.09        31\n",
      "non_infringement       0.65      0.84      0.73        64\n",
      "\n",
      "        accuracy                           0.59        95\n",
      "       macro avg       0.41      0.45      0.41        95\n",
      "    weighted avg       0.49      0.59      0.53        95\n",
      "\n"
     ]
    },
    {
     "name": "stderr",
     "output_type": "stream",
     "text": [
      "Training Epochs:  32%|███▏      | 636/2000 [01:22<02:20,  9.74it/s]"
     ]
    },
    {
     "name": "stdout",
     "output_type": "stream",
     "text": [
      "Epoch 630/2000, Loss: 0.0027\n",
      "Test Accuracy at Epoch 630: 58.95%\n",
      "Test F1-score at Epoch 630: 0.7347\n",
      "Classification Report at Epoch 630:\n",
      "                  precision    recall  f1-score   support\n",
      "\n",
      "    infringement       0.17      0.06      0.09        31\n",
      "non_infringement       0.65      0.84      0.73        64\n",
      "\n",
      "        accuracy                           0.59        95\n",
      "       macro avg       0.41      0.45      0.41        95\n",
      "    weighted avg       0.49      0.59      0.53        95\n",
      "\n"
     ]
    },
    {
     "name": "stderr",
     "output_type": "stream",
     "text": [
      "Training Epochs:  32%|███▏      | 646/2000 [01:22<01:03, 21.34it/s]"
     ]
    },
    {
     "name": "stdout",
     "output_type": "stream",
     "text": [
      "Epoch 640/2000, Loss: 0.0025\n",
      "Test Accuracy at Epoch 640: 58.95%\n",
      "Test F1-score at Epoch 640: 0.7347\n",
      "Classification Report at Epoch 640:\n",
      "                  precision    recall  f1-score   support\n",
      "\n",
      "    infringement       0.17      0.06      0.09        31\n",
      "non_infringement       0.65      0.84      0.73        64\n",
      "\n",
      "        accuracy                           0.59        95\n",
      "       macro avg       0.41      0.45      0.41        95\n",
      "    weighted avg       0.49      0.59      0.53        95\n",
      "\n",
      "Epoch 650/2000, Loss: 0.0024\n"
     ]
    },
    {
     "name": "stderr",
     "output_type": "stream",
     "text": [
      "Training Epochs:  33%|███▎      | 658/2000 [01:22<00:41, 32.32it/s]"
     ]
    },
    {
     "name": "stdout",
     "output_type": "stream",
     "text": [
      "Test Accuracy at Epoch 650: 58.95%\n",
      "Test F1-score at Epoch 650: 0.7347\n",
      "Classification Report at Epoch 650:\n",
      "                  precision    recall  f1-score   support\n",
      "\n",
      "    infringement       0.17      0.06      0.09        31\n",
      "non_infringement       0.65      0.84      0.73        64\n",
      "\n",
      "        accuracy                           0.59        95\n",
      "       macro avg       0.41      0.45      0.41        95\n",
      "    weighted avg       0.49      0.59      0.53        95\n",
      "\n"
     ]
    },
    {
     "name": "stderr",
     "output_type": "stream",
     "text": [
      "Training Epochs:  33%|███▎      | 669/2000 [01:23<00:32, 40.98it/s]"
     ]
    },
    {
     "name": "stdout",
     "output_type": "stream",
     "text": [
      "Epoch 660/2000, Loss: 0.0022\n",
      "Test Accuracy at Epoch 660: 58.95%\n",
      "Test F1-score at Epoch 660: 0.7347\n",
      "Classification Report at Epoch 660:\n",
      "                  precision    recall  f1-score   support\n",
      "\n",
      "    infringement       0.17      0.06      0.09        31\n",
      "non_infringement       0.65      0.84      0.73        64\n",
      "\n",
      "        accuracy                           0.59        95\n",
      "       macro avg       0.41      0.45      0.41        95\n",
      "    weighted avg       0.49      0.59      0.53        95\n",
      "\n",
      "Epoch 670/2000, Loss: 0.0021\n",
      "Test Accuracy at Epoch 670: 58.95%\n",
      "Test F1-score at Epoch 670: 0.7347\n",
      "Classification Report at Epoch 670:\n",
      "                  precision    recall  f1-score   support\n",
      "\n",
      "    infringement       0.17      0.06      0.09        31\n",
      "non_infringement       0.65      0.84      0.73        64\n",
      "\n",
      "        accuracy                           0.59        95\n",
      "       macro avg       0.41      0.45      0.41        95\n",
      "    weighted avg       0.49      0.59      0.53        95\n",
      "\n"
     ]
    },
    {
     "name": "stderr",
     "output_type": "stream",
     "text": [
      "Training Epochs:  34%|███▍      | 678/2000 [01:25<02:42,  8.11it/s]"
     ]
    },
    {
     "name": "stdout",
     "output_type": "stream",
     "text": [
      "Epoch 680/2000, Loss: 0.0020\n",
      "Test Accuracy at Epoch 680: 58.95%\n",
      "Test F1-score at Epoch 680: 0.7347\n",
      "Classification Report at Epoch 680:\n",
      "                  precision    recall  f1-score   support\n",
      "\n",
      "    infringement       0.17      0.06      0.09        31\n",
      "non_infringement       0.65      0.84      0.73        64\n",
      "\n",
      "        accuracy                           0.59        95\n",
      "       macro avg       0.41      0.45      0.41        95\n",
      "    weighted avg       0.49      0.59      0.53        95\n",
      "\n"
     ]
    },
    {
     "name": "stderr",
     "output_type": "stream",
     "text": [
      "Training Epochs:  34%|███▍      | 690/2000 [01:29<07:10,  3.04it/s]"
     ]
    },
    {
     "name": "stdout",
     "output_type": "stream",
     "text": [
      "Epoch 690/2000, Loss: 0.0018\n",
      "Test Accuracy at Epoch 690: 58.95%\n",
      "Test F1-score at Epoch 690: 0.7347\n",
      "Classification Report at Epoch 690:\n",
      "                  precision    recall  f1-score   support\n",
      "\n",
      "    infringement       0.17      0.06      0.09        31\n",
      "non_infringement       0.65      0.84      0.73        64\n",
      "\n",
      "        accuracy                           0.59        95\n",
      "       macro avg       0.41      0.45      0.41        95\n",
      "    weighted avg       0.49      0.59      0.53        95\n",
      "\n"
     ]
    },
    {
     "name": "stderr",
     "output_type": "stream",
     "text": [
      "Training Epochs:  35%|███▌      | 700/2000 [01:33<08:32,  2.54it/s]"
     ]
    },
    {
     "name": "stdout",
     "output_type": "stream",
     "text": [
      "Epoch 700/2000, Loss: 0.0017\n",
      "Test Accuracy at Epoch 700: 58.95%\n",
      "Test F1-score at Epoch 700: 0.7347\n",
      "Classification Report at Epoch 700:\n",
      "                  precision    recall  f1-score   support\n",
      "\n",
      "    infringement       0.17      0.06      0.09        31\n",
      "non_infringement       0.65      0.84      0.73        64\n",
      "\n",
      "        accuracy                           0.59        95\n",
      "       macro avg       0.41      0.45      0.41        95\n",
      "    weighted avg       0.49      0.59      0.53        95\n",
      "\n"
     ]
    },
    {
     "name": "stderr",
     "output_type": "stream",
     "text": [
      "Training Epochs:  36%|███▌      | 710/2000 [01:36<04:22,  4.91it/s]"
     ]
    },
    {
     "name": "stdout",
     "output_type": "stream",
     "text": [
      "Epoch 710/2000, Loss: 0.0016\n",
      "Test Accuracy at Epoch 710: 58.95%\n",
      "Test F1-score at Epoch 710: 0.7347\n",
      "Classification Report at Epoch 710:\n",
      "                  precision    recall  f1-score   support\n",
      "\n",
      "    infringement       0.17      0.06      0.09        31\n",
      "non_infringement       0.65      0.84      0.73        64\n",
      "\n",
      "        accuracy                           0.59        95\n",
      "       macro avg       0.41      0.45      0.41        95\n",
      "    weighted avg       0.49      0.59      0.53        95\n",
      "\n"
     ]
    },
    {
     "name": "stderr",
     "output_type": "stream",
     "text": [
      "Training Epochs:  36%|███▋      | 726/2000 [01:37<00:56, 22.43it/s]"
     ]
    },
    {
     "name": "stdout",
     "output_type": "stream",
     "text": [
      "Epoch 720/2000, Loss: 0.0016\n",
      "Test Accuracy at Epoch 720: 58.95%\n",
      "Test F1-score at Epoch 720: 0.7347\n",
      "Classification Report at Epoch 720:\n",
      "                  precision    recall  f1-score   support\n",
      "\n",
      "    infringement       0.17      0.06      0.09        31\n",
      "non_infringement       0.65      0.84      0.73        64\n",
      "\n",
      "        accuracy                           0.59        95\n",
      "       macro avg       0.41      0.45      0.41        95\n",
      "    weighted avg       0.49      0.59      0.53        95\n",
      "\n"
     ]
    },
    {
     "name": "stderr",
     "output_type": "stream",
     "text": [
      "Training Epochs:  37%|███▋      | 736/2000 [01:37<00:38, 32.56it/s]"
     ]
    },
    {
     "name": "stdout",
     "output_type": "stream",
     "text": [
      "Epoch 730/2000, Loss: 0.0015\n",
      "Test Accuracy at Epoch 730: 58.95%\n",
      "Test F1-score at Epoch 730: 0.7347\n",
      "Classification Report at Epoch 730:\n",
      "                  precision    recall  f1-score   support\n",
      "\n",
      "    infringement       0.17      0.06      0.09        31\n",
      "non_infringement       0.65      0.84      0.73        64\n",
      "\n",
      "        accuracy                           0.59        95\n",
      "       macro avg       0.41      0.45      0.41        95\n",
      "    weighted avg       0.49      0.59      0.53        95\n",
      "\n"
     ]
    },
    {
     "name": "stderr",
     "output_type": "stream",
     "text": [
      "Training Epochs:  37%|███▋      | 748/2000 [01:37<00:28, 44.13it/s]"
     ]
    },
    {
     "name": "stdout",
     "output_type": "stream",
     "text": [
      "Epoch 740/2000, Loss: 0.0014\n",
      "Test Accuracy at Epoch 740: 58.95%\n",
      "Test F1-score at Epoch 740: 0.7347\n",
      "Classification Report at Epoch 740:\n",
      "                  precision    recall  f1-score   support\n",
      "\n",
      "    infringement       0.17      0.06      0.09        31\n",
      "non_infringement       0.65      0.84      0.73        64\n",
      "\n",
      "        accuracy                           0.59        95\n",
      "       macro avg       0.41      0.45      0.41        95\n",
      "    weighted avg       0.49      0.59      0.53        95\n",
      "\n",
      "Epoch 750/2000, Loss: 0.0013\n",
      "Test Accuracy at Epoch 750: 58.95%\n",
      "Test F1-score at Epoch 750: 0.7347\n",
      "Classification Report at Epoch 750:\n",
      "                  precision    recall  f1-score   support\n",
      "\n",
      "    infringement       0.17      0.06      0.09        31\n",
      "non_infringement       0.65      0.84      0.73        64\n",
      "\n",
      "        accuracy                           0.59        95\n",
      "       macro avg       0.41      0.45      0.41        95\n",
      "    weighted avg       0.49      0.59      0.53        95\n",
      "\n"
     ]
    },
    {
     "name": "stderr",
     "output_type": "stream",
     "text": [
      "Training Epochs:  38%|███▊      | 766/2000 [01:38<00:24, 49.66it/s]"
     ]
    },
    {
     "name": "stdout",
     "output_type": "stream",
     "text": [
      "Epoch 760/2000, Loss: 0.0013\n",
      "Test Accuracy at Epoch 760: 58.95%\n",
      "Test F1-score at Epoch 760: 0.7347\n",
      "Classification Report at Epoch 760:\n",
      "                  precision    recall  f1-score   support\n",
      "\n",
      "    infringement       0.17      0.06      0.09        31\n",
      "non_infringement       0.65      0.84      0.73        64\n",
      "\n",
      "        accuracy                           0.59        95\n",
      "       macro avg       0.41      0.45      0.41        95\n",
      "    weighted avg       0.49      0.59      0.53        95\n",
      "\n",
      "Epoch 770/2000, Loss: 0.0012\n",
      "Test Accuracy at Epoch 770: 58.95%\n",
      "Test F1-score at Epoch 770: 0.7347\n",
      "Classification Report at Epoch 770:\n",
      "                  precision    recall  f1-score   support\n",
      "\n",
      "    infringement       0.17      0.06      0.09        31\n",
      "non_infringement       0.65      0.84      0.73        64\n",
      "\n",
      "        accuracy                           0.59        95\n",
      "       macro avg       0.41      0.45      0.41        95\n",
      "    weighted avg       0.49      0.59      0.53        95\n",
      "\n"
     ]
    },
    {
     "name": "stderr",
     "output_type": "stream",
     "text": [
      "Training Epochs:  39%|███▉      | 779/2000 [01:42<04:28,  4.54it/s]"
     ]
    },
    {
     "name": "stdout",
     "output_type": "stream",
     "text": [
      "Epoch 780/2000, Loss: 0.0012\n",
      "Test Accuracy at Epoch 780: 58.95%\n",
      "Test F1-score at Epoch 780: 0.7347\n",
      "Classification Report at Epoch 780:\n",
      "                  precision    recall  f1-score   support\n",
      "\n",
      "    infringement       0.17      0.06      0.09        31\n",
      "non_infringement       0.65      0.84      0.73        64\n",
      "\n",
      "        accuracy                           0.59        95\n",
      "       macro avg       0.41      0.45      0.41        95\n",
      "    weighted avg       0.49      0.59      0.53        95\n",
      "\n"
     ]
    },
    {
     "name": "stderr",
     "output_type": "stream",
     "text": [
      "Training Epochs:  40%|███▉      | 790/2000 [01:47<07:39,  2.64it/s]"
     ]
    },
    {
     "name": "stdout",
     "output_type": "stream",
     "text": [
      "Epoch 790/2000, Loss: 0.0011\n",
      "Test Accuracy at Epoch 790: 58.95%\n",
      "Test F1-score at Epoch 790: 0.7347\n",
      "Classification Report at Epoch 790:\n",
      "                  precision    recall  f1-score   support\n",
      "\n",
      "    infringement       0.17      0.06      0.09        31\n",
      "non_infringement       0.65      0.84      0.73        64\n",
      "\n",
      "        accuracy                           0.59        95\n",
      "       macro avg       0.41      0.45      0.41        95\n",
      "    weighted avg       0.49      0.59      0.53        95\n",
      "\n"
     ]
    },
    {
     "name": "stderr",
     "output_type": "stream",
     "text": [
      "Training Epochs:  40%|████      | 800/2000 [01:51<07:54,  2.53it/s]"
     ]
    },
    {
     "name": "stdout",
     "output_type": "stream",
     "text": [
      "Epoch 800/2000, Loss: 0.0011\n",
      "Test Accuracy at Epoch 800: 58.95%\n",
      "Test F1-score at Epoch 800: 0.7347\n",
      "Classification Report at Epoch 800:\n",
      "                  precision    recall  f1-score   support\n",
      "\n",
      "    infringement       0.17      0.06      0.09        31\n",
      "non_infringement       0.65      0.84      0.73        64\n",
      "\n",
      "        accuracy                           0.59        95\n",
      "       macro avg       0.41      0.45      0.41        95\n",
      "    weighted avg       0.49      0.59      0.53        95\n",
      "\n"
     ]
    },
    {
     "name": "stderr",
     "output_type": "stream",
     "text": [
      "Training Epochs:  40%|████      | 810/2000 [01:55<08:44,  2.27it/s]"
     ]
    },
    {
     "name": "stdout",
     "output_type": "stream",
     "text": [
      "Epoch 810/2000, Loss: 0.0010\n",
      "Test Accuracy at Epoch 810: 58.95%\n",
      "Test F1-score at Epoch 810: 0.7347\n",
      "Classification Report at Epoch 810:\n",
      "                  precision    recall  f1-score   support\n",
      "\n",
      "    infringement       0.17      0.06      0.09        31\n",
      "non_infringement       0.65      0.84      0.73        64\n",
      "\n",
      "        accuracy                           0.59        95\n",
      "       macro avg       0.41      0.45      0.41        95\n",
      "    weighted avg       0.49      0.59      0.53        95\n",
      "\n"
     ]
    },
    {
     "name": "stderr",
     "output_type": "stream",
     "text": [
      "Training Epochs:  42%|████▏     | 830/2000 [01:58<01:19, 14.70it/s]"
     ]
    },
    {
     "name": "stdout",
     "output_type": "stream",
     "text": [
      "Epoch 820/2000, Loss: 0.0010\n",
      "Test Accuracy at Epoch 820: 58.95%\n",
      "Test F1-score at Epoch 820: 0.7347\n",
      "Classification Report at Epoch 820:\n",
      "                  precision    recall  f1-score   support\n",
      "\n",
      "    infringement       0.17      0.06      0.09        31\n",
      "non_infringement       0.65      0.84      0.73        64\n",
      "\n",
      "        accuracy                           0.59        95\n",
      "       macro avg       0.41      0.45      0.41        95\n",
      "    weighted avg       0.49      0.59      0.53        95\n",
      "\n",
      "Epoch 830/2000, Loss: 0.0009\n",
      "Test Accuracy at Epoch 830: 58.95%\n",
      "Test F1-score at Epoch 830: 0.7347\n",
      "Classification Report at Epoch 830:\n",
      "                  precision    recall  f1-score   support\n",
      "\n",
      "    infringement       0.17      0.06      0.09        31\n",
      "non_infringement       0.65      0.84      0.73        64\n",
      "\n",
      "        accuracy                           0.59        95\n",
      "       macro avg       0.41      0.45      0.41        95\n",
      "    weighted avg       0.49      0.59      0.53        95\n",
      "\n"
     ]
    },
    {
     "name": "stderr",
     "output_type": "stream",
     "text": [
      "Training Epochs:  42%|████▏     | 839/2000 [02:02<04:35,  4.21it/s]"
     ]
    },
    {
     "name": "stdout",
     "output_type": "stream",
     "text": [
      "Epoch 840/2000, Loss: 0.0009\n",
      "Test Accuracy at Epoch 840: 58.95%\n",
      "Test F1-score at Epoch 840: 0.7347\n",
      "Classification Report at Epoch 840:\n",
      "                  precision    recall  f1-score   support\n",
      "\n",
      "    infringement       0.17      0.06      0.09        31\n",
      "non_infringement       0.65      0.84      0.73        64\n",
      "\n",
      "        accuracy                           0.59        95\n",
      "       macro avg       0.41      0.45      0.41        95\n",
      "    weighted avg       0.49      0.59      0.53        95\n",
      "\n"
     ]
    },
    {
     "name": "stderr",
     "output_type": "stream",
     "text": [
      "Training Epochs:  43%|████▎     | 864/2000 [02:02<00:59, 19.11it/s]"
     ]
    },
    {
     "name": "stdout",
     "output_type": "stream",
     "text": [
      "Epoch 850/2000, Loss: 0.0009\n",
      "Test Accuracy at Epoch 850: 58.95%\n",
      "Test F1-score at Epoch 850: 0.7347\n",
      "Classification Report at Epoch 850:\n",
      "                  precision    recall  f1-score   support\n",
      "\n",
      "    infringement       0.17      0.06      0.09        31\n",
      "non_infringement       0.65      0.84      0.73        64\n",
      "\n",
      "        accuracy                           0.59        95\n",
      "       macro avg       0.41      0.45      0.41        95\n",
      "    weighted avg       0.49      0.59      0.53        95\n",
      "\n",
      "Epoch 860/2000, Loss: 0.0008\n",
      "Test Accuracy at Epoch 860: 58.95%\n",
      "Test F1-score at Epoch 860: 0.7347\n",
      "Classification Report at Epoch 860:\n",
      "                  precision    recall  f1-score   support\n",
      "\n",
      "    infringement       0.17      0.06      0.09        31\n",
      "non_infringement       0.65      0.84      0.73        64\n",
      "\n",
      "        accuracy                           0.59        95\n",
      "       macro avg       0.41      0.45      0.41        95\n",
      "    weighted avg       0.49      0.59      0.53        95\n",
      "\n"
     ]
    },
    {
     "name": "stderr",
     "output_type": "stream",
     "text": [
      "Training Epochs:  44%|████▍     | 880/2000 [02:03<00:33, 32.98it/s]"
     ]
    },
    {
     "name": "stdout",
     "output_type": "stream",
     "text": [
      "Epoch 870/2000, Loss: 0.0008\n",
      "Test Accuracy at Epoch 870: 58.95%\n",
      "Test F1-score at Epoch 870: 0.7347\n",
      "Classification Report at Epoch 870:\n",
      "                  precision    recall  f1-score   support\n",
      "\n",
      "    infringement       0.17      0.06      0.09        31\n",
      "non_infringement       0.65      0.84      0.73        64\n",
      "\n",
      "        accuracy                           0.59        95\n",
      "       macro avg       0.41      0.45      0.41        95\n",
      "    weighted avg       0.49      0.59      0.53        95\n",
      "\n",
      "Epoch 880/2000, Loss: 0.0008\n",
      "Test Accuracy at Epoch 880: 58.95%\n",
      "Test F1-score at Epoch 880: 0.7347\n",
      "Classification Report at Epoch 880:\n",
      "                  precision    recall  f1-score   support\n",
      "\n",
      "    infringement       0.17      0.06      0.09        31\n",
      "non_infringement       0.65      0.84      0.73        64\n",
      "\n",
      "        accuracy                           0.59        95\n",
      "       macro avg       0.41      0.45      0.41        95\n",
      "    weighted avg       0.49      0.59      0.53        95\n",
      "\n"
     ]
    },
    {
     "name": "stderr",
     "output_type": "stream",
     "text": [
      "Training Epochs:  45%|████▍     | 897/2000 [02:03<00:22, 50.05it/s]"
     ]
    },
    {
     "name": "stdout",
     "output_type": "stream",
     "text": [
      "Epoch 890/2000, Loss: 0.0007\n",
      "Test Accuracy at Epoch 890: 58.95%\n",
      "Test F1-score at Epoch 890: 0.7347\n",
      "Classification Report at Epoch 890:\n",
      "                  precision    recall  f1-score   support\n",
      "\n",
      "    infringement       0.17      0.06      0.09        31\n",
      "non_infringement       0.65      0.84      0.73        64\n",
      "\n",
      "        accuracy                           0.59        95\n",
      "       macro avg       0.41      0.45      0.41        95\n",
      "    weighted avg       0.49      0.59      0.53        95\n",
      "\n",
      "Epoch 900/2000, Loss: 0.0007\n",
      "Test Accuracy at Epoch 900: 58.95%\n",
      "Test F1-score at Epoch 900: 0.7347\n",
      "Classification Report at Epoch 900:\n",
      "                  precision    recall  f1-score   support\n",
      "\n",
      "    infringement       0.17      0.06      0.09        31\n",
      "non_infringement       0.65      0.84      0.73        64\n",
      "\n",
      "        accuracy                           0.59        95\n",
      "       macro avg       0.41      0.45      0.41        95\n",
      "    weighted avg       0.49      0.59      0.53        95\n",
      "\n"
     ]
    },
    {
     "name": "stderr",
     "output_type": "stream",
     "text": [
      "Training Epochs:  45%|████▌     | 905/2000 [02:05<02:00,  9.09it/s]"
     ]
    },
    {
     "name": "stdout",
     "output_type": "stream",
     "text": [
      "Epoch 910/2000, Loss: 0.0007\n",
      "Test Accuracy at Epoch 910: 58.95%\n",
      "Test F1-score at Epoch 910: 0.7347\n",
      "Classification Report at Epoch 910:\n",
      "                  precision    recall  f1-score   support\n",
      "\n",
      "    infringement       0.17      0.06      0.09        31\n",
      "non_infringement       0.65      0.84      0.73        64\n",
      "\n",
      "        accuracy                           0.59        95\n",
      "       macro avg       0.41      0.45      0.41        95\n",
      "    weighted avg       0.49      0.59      0.53        95\n",
      "\n"
     ]
    },
    {
     "name": "stderr",
     "output_type": "stream",
     "text": [
      "Training Epochs:  46%|████▌     | 920/2000 [02:12<05:34,  3.23it/s]"
     ]
    },
    {
     "name": "stdout",
     "output_type": "stream",
     "text": [
      "Epoch 920/2000, Loss: 0.0007\n",
      "Test Accuracy at Epoch 920: 58.95%\n",
      "Test F1-score at Epoch 920: 0.7347\n",
      "Classification Report at Epoch 920:\n",
      "                  precision    recall  f1-score   support\n",
      "\n",
      "    infringement       0.17      0.06      0.09        31\n",
      "non_infringement       0.65      0.84      0.73        64\n",
      "\n",
      "        accuracy                           0.59        95\n",
      "       macro avg       0.41      0.45      0.41        95\n",
      "    weighted avg       0.49      0.59      0.53        95\n",
      "\n"
     ]
    },
    {
     "name": "stderr",
     "output_type": "stream",
     "text": [
      "Training Epochs:  46%|████▋     | 928/2000 [02:15<04:58,  3.59it/s]"
     ]
    },
    {
     "name": "stdout",
     "output_type": "stream",
     "text": [
      "Epoch 930/2000, Loss: 0.0006\n",
      "Test Accuracy at Epoch 930: 58.95%\n",
      "Test F1-score at Epoch 930: 0.7347\n",
      "Classification Report at Epoch 930:\n",
      "                  precision    recall  f1-score   support\n",
      "\n",
      "    infringement       0.17      0.06      0.09        31\n",
      "non_infringement       0.65      0.84      0.73        64\n",
      "\n",
      "        accuracy                           0.59        95\n",
      "       macro avg       0.41      0.45      0.41        95\n",
      "    weighted avg       0.49      0.59      0.53        95\n",
      "\n"
     ]
    },
    {
     "name": "stderr",
     "output_type": "stream",
     "text": [
      "Training Epochs:  47%|████▋     | 940/2000 [02:19<07:42,  2.29it/s]"
     ]
    },
    {
     "name": "stdout",
     "output_type": "stream",
     "text": [
      "Epoch 940/2000, Loss: 0.0006\n",
      "Test Accuracy at Epoch 940: 58.95%\n",
      "Test F1-score at Epoch 940: 0.7347\n",
      "Classification Report at Epoch 940:\n",
      "                  precision    recall  f1-score   support\n",
      "\n",
      "    infringement       0.17      0.06      0.09        31\n",
      "non_infringement       0.65      0.84      0.73        64\n",
      "\n",
      "        accuracy                           0.59        95\n",
      "       macro avg       0.41      0.45      0.41        95\n",
      "    weighted avg       0.49      0.59      0.53        95\n",
      "\n"
     ]
    },
    {
     "name": "stderr",
     "output_type": "stream",
     "text": [
      "Training Epochs:  48%|████▊     | 950/2000 [02:25<10:05,  1.73it/s]"
     ]
    },
    {
     "name": "stdout",
     "output_type": "stream",
     "text": [
      "Epoch 950/2000, Loss: 0.0006\n",
      "Test Accuracy at Epoch 950: 58.95%\n",
      "Test F1-score at Epoch 950: 0.7347\n",
      "Classification Report at Epoch 950:\n",
      "                  precision    recall  f1-score   support\n",
      "\n",
      "    infringement       0.17      0.06      0.09        31\n",
      "non_infringement       0.65      0.84      0.73        64\n",
      "\n",
      "        accuracy                           0.59        95\n",
      "       macro avg       0.41      0.45      0.41        95\n",
      "    weighted avg       0.49      0.59      0.53        95\n",
      "\n"
     ]
    },
    {
     "name": "stderr",
     "output_type": "stream",
     "text": [
      "Training Epochs:  48%|████▊     | 960/2000 [02:31<11:20,  1.53it/s]"
     ]
    },
    {
     "name": "stdout",
     "output_type": "stream",
     "text": [
      "Epoch 960/2000, Loss: 0.0006\n",
      "Test Accuracy at Epoch 960: 58.95%\n",
      "Test F1-score at Epoch 960: 0.7347\n",
      "Classification Report at Epoch 960:\n",
      "                  precision    recall  f1-score   support\n",
      "\n",
      "    infringement       0.17      0.06      0.09        31\n",
      "non_infringement       0.65      0.84      0.73        64\n",
      "\n",
      "        accuracy                           0.59        95\n",
      "       macro avg       0.41      0.45      0.41        95\n",
      "    weighted avg       0.49      0.59      0.53        95\n",
      "\n"
     ]
    },
    {
     "name": "stderr",
     "output_type": "stream",
     "text": [
      "Training Epochs:  48%|████▊     | 970/2000 [02:36<10:14,  1.68it/s]"
     ]
    },
    {
     "name": "stdout",
     "output_type": "stream",
     "text": [
      "Epoch 970/2000, Loss: 0.0006\n",
      "Test Accuracy at Epoch 970: 58.95%\n",
      "Test F1-score at Epoch 970: 0.7347\n",
      "Classification Report at Epoch 970:\n",
      "                  precision    recall  f1-score   support\n",
      "\n",
      "    infringement       0.17      0.06      0.09        31\n",
      "non_infringement       0.65      0.84      0.73        64\n",
      "\n",
      "        accuracy                           0.59        95\n",
      "       macro avg       0.41      0.45      0.41        95\n",
      "    weighted avg       0.49      0.59      0.53        95\n",
      "\n"
     ]
    },
    {
     "name": "stderr",
     "output_type": "stream",
     "text": [
      "Training Epochs:  49%|████▉     | 980/2000 [02:41<07:51,  2.16it/s]"
     ]
    },
    {
     "name": "stdout",
     "output_type": "stream",
     "text": [
      "Epoch 980/2000, Loss: 0.0006\n",
      "Test Accuracy at Epoch 980: 58.95%\n",
      "Test F1-score at Epoch 980: 0.7347\n",
      "Classification Report at Epoch 980:\n",
      "                  precision    recall  f1-score   support\n",
      "\n",
      "    infringement       0.17      0.06      0.09        31\n",
      "non_infringement       0.65      0.84      0.73        64\n",
      "\n",
      "        accuracy                           0.59        95\n",
      "       macro avg       0.41      0.45      0.41        95\n",
      "    weighted avg       0.49      0.59      0.53        95\n",
      "\n"
     ]
    },
    {
     "name": "stderr",
     "output_type": "stream",
     "text": [
      "Training Epochs:  50%|████▉     | 990/2000 [02:46<07:21,  2.29it/s]"
     ]
    },
    {
     "name": "stdout",
     "output_type": "stream",
     "text": [
      "Epoch 990/2000, Loss: 0.0005\n",
      "Test Accuracy at Epoch 990: 58.95%\n",
      "Test F1-score at Epoch 990: 0.7347\n",
      "Classification Report at Epoch 990:\n",
      "                  precision    recall  f1-score   support\n",
      "\n",
      "    infringement       0.17      0.06      0.09        31\n",
      "non_infringement       0.65      0.84      0.73        64\n",
      "\n",
      "        accuracy                           0.59        95\n",
      "       macro avg       0.41      0.45      0.41        95\n",
      "    weighted avg       0.49      0.59      0.53        95\n",
      "\n"
     ]
    },
    {
     "name": "stderr",
     "output_type": "stream",
     "text": [
      "Training Epochs:  50%|█████     | 1000/2000 [02:50<07:08,  2.34it/s]"
     ]
    },
    {
     "name": "stdout",
     "output_type": "stream",
     "text": [
      "Epoch 1000/2000, Loss: 0.0005\n",
      "Test Accuracy at Epoch 1000: 58.95%\n",
      "Test F1-score at Epoch 1000: 0.7347\n",
      "Classification Report at Epoch 1000:\n",
      "                  precision    recall  f1-score   support\n",
      "\n",
      "    infringement       0.17      0.06      0.09        31\n",
      "non_infringement       0.65      0.84      0.73        64\n",
      "\n",
      "        accuracy                           0.59        95\n",
      "       macro avg       0.41      0.45      0.41        95\n",
      "    weighted avg       0.49      0.59      0.53        95\n",
      "\n"
     ]
    },
    {
     "name": "stderr",
     "output_type": "stream",
     "text": [
      "Training Epochs:  50%|█████     | 1010/2000 [02:54<07:16,  2.27it/s]"
     ]
    },
    {
     "name": "stdout",
     "output_type": "stream",
     "text": [
      "Epoch 1010/2000, Loss: 0.0005\n",
      "Test Accuracy at Epoch 1010: 58.95%\n",
      "Test F1-score at Epoch 1010: 0.7347\n",
      "Classification Report at Epoch 1010:\n",
      "                  precision    recall  f1-score   support\n",
      "\n",
      "    infringement       0.17      0.06      0.09        31\n",
      "non_infringement       0.65      0.84      0.73        64\n",
      "\n",
      "        accuracy                           0.59        95\n",
      "       macro avg       0.41      0.45      0.41        95\n",
      "    weighted avg       0.49      0.59      0.53        95\n",
      "\n"
     ]
    },
    {
     "name": "stderr",
     "output_type": "stream",
     "text": [
      "Training Epochs:  51%|█████     | 1020/2000 [02:58<07:23,  2.21it/s]"
     ]
    },
    {
     "name": "stdout",
     "output_type": "stream",
     "text": [
      "Epoch 1020/2000, Loss: 0.0005\n",
      "Test Accuracy at Epoch 1020: 58.95%\n",
      "Test F1-score at Epoch 1020: 0.7347\n",
      "Classification Report at Epoch 1020:\n",
      "                  precision    recall  f1-score   support\n",
      "\n",
      "    infringement       0.17      0.06      0.09        31\n",
      "non_infringement       0.65      0.84      0.73        64\n",
      "\n",
      "        accuracy                           0.59        95\n",
      "       macro avg       0.41      0.45      0.41        95\n",
      "    weighted avg       0.49      0.59      0.53        95\n",
      "\n"
     ]
    },
    {
     "name": "stderr",
     "output_type": "stream",
     "text": [
      "Training Epochs:  52%|█████▏    | 1030/2000 [03:03<07:25,  2.17it/s]"
     ]
    },
    {
     "name": "stdout",
     "output_type": "stream",
     "text": [
      "Epoch 1030/2000, Loss: 0.0005\n",
      "Test Accuracy at Epoch 1030: 58.95%\n",
      "Test F1-score at Epoch 1030: 0.7347\n",
      "Classification Report at Epoch 1030:\n",
      "                  precision    recall  f1-score   support\n",
      "\n",
      "    infringement       0.17      0.06      0.09        31\n",
      "non_infringement       0.65      0.84      0.73        64\n",
      "\n",
      "        accuracy                           0.59        95\n",
      "       macro avg       0.41      0.45      0.41        95\n",
      "    weighted avg       0.49      0.59      0.53        95\n",
      "\n"
     ]
    },
    {
     "name": "stderr",
     "output_type": "stream",
     "text": [
      "Training Epochs:  52%|█████▏    | 1040/2000 [03:07<07:16,  2.20it/s]"
     ]
    },
    {
     "name": "stdout",
     "output_type": "stream",
     "text": [
      "Epoch 1040/2000, Loss: 0.0005\n",
      "Test Accuracy at Epoch 1040: 58.95%\n",
      "Test F1-score at Epoch 1040: 0.7347\n",
      "Classification Report at Epoch 1040:\n",
      "                  precision    recall  f1-score   support\n",
      "\n",
      "    infringement       0.17      0.06      0.09        31\n",
      "non_infringement       0.65      0.84      0.73        64\n",
      "\n",
      "        accuracy                           0.59        95\n",
      "       macro avg       0.41      0.45      0.41        95\n",
      "    weighted avg       0.49      0.59      0.53        95\n",
      "\n"
     ]
    },
    {
     "name": "stderr",
     "output_type": "stream",
     "text": [
      "Training Epochs:  52%|█████▎    | 1050/2000 [03:11<06:44,  2.35it/s]"
     ]
    },
    {
     "name": "stdout",
     "output_type": "stream",
     "text": [
      "Epoch 1050/2000, Loss: 0.0005\n",
      "Test Accuracy at Epoch 1050: 58.95%\n",
      "Test F1-score at Epoch 1050: 0.7347\n",
      "Classification Report at Epoch 1050:\n",
      "                  precision    recall  f1-score   support\n",
      "\n",
      "    infringement       0.17      0.06      0.09        31\n",
      "non_infringement       0.65      0.84      0.73        64\n",
      "\n",
      "        accuracy                           0.59        95\n",
      "       macro avg       0.41      0.45      0.41        95\n",
      "    weighted avg       0.49      0.59      0.53        95\n",
      "\n"
     ]
    },
    {
     "name": "stderr",
     "output_type": "stream",
     "text": [
      "Training Epochs:  53%|█████▎    | 1060/2000 [03:16<07:35,  2.06it/s]"
     ]
    },
    {
     "name": "stdout",
     "output_type": "stream",
     "text": [
      "Epoch 1060/2000, Loss: 0.0004\n",
      "Test Accuracy at Epoch 1060: 58.95%\n",
      "Test F1-score at Epoch 1060: 0.7347\n",
      "Classification Report at Epoch 1060:\n",
      "                  precision    recall  f1-score   support\n",
      "\n",
      "    infringement       0.17      0.06      0.09        31\n",
      "non_infringement       0.65      0.84      0.73        64\n",
      "\n",
      "        accuracy                           0.59        95\n",
      "       macro avg       0.41      0.45      0.41        95\n",
      "    weighted avg       0.49      0.59      0.53        95\n",
      "\n"
     ]
    },
    {
     "name": "stderr",
     "output_type": "stream",
     "text": [
      "Training Epochs:  54%|█████▎    | 1070/2000 [03:21<07:03,  2.20it/s]"
     ]
    },
    {
     "name": "stdout",
     "output_type": "stream",
     "text": [
      "Epoch 1070/2000, Loss: 0.0004\n",
      "Test Accuracy at Epoch 1070: 58.95%\n",
      "Test F1-score at Epoch 1070: 0.7347\n",
      "Classification Report at Epoch 1070:\n",
      "                  precision    recall  f1-score   support\n",
      "\n",
      "    infringement       0.17      0.06      0.09        31\n",
      "non_infringement       0.65      0.84      0.73        64\n",
      "\n",
      "        accuracy                           0.59        95\n",
      "       macro avg       0.41      0.45      0.41        95\n",
      "    weighted avg       0.49      0.59      0.53        95\n",
      "\n"
     ]
    },
    {
     "name": "stderr",
     "output_type": "stream",
     "text": [
      "Training Epochs:  54%|█████▍    | 1080/2000 [03:25<07:15,  2.11it/s]"
     ]
    },
    {
     "name": "stdout",
     "output_type": "stream",
     "text": [
      "Epoch 1080/2000, Loss: 0.0004\n",
      "Test Accuracy at Epoch 1080: 58.95%\n",
      "Test F1-score at Epoch 1080: 0.7347\n",
      "Classification Report at Epoch 1080:\n",
      "                  precision    recall  f1-score   support\n",
      "\n",
      "    infringement       0.17      0.06      0.09        31\n",
      "non_infringement       0.65      0.84      0.73        64\n",
      "\n",
      "        accuracy                           0.59        95\n",
      "       macro avg       0.41      0.45      0.41        95\n",
      "    weighted avg       0.49      0.59      0.53        95\n",
      "\n"
     ]
    },
    {
     "name": "stderr",
     "output_type": "stream",
     "text": [
      "Training Epochs:  55%|█████▍    | 1090/2000 [03:30<07:04,  2.14it/s]"
     ]
    },
    {
     "name": "stdout",
     "output_type": "stream",
     "text": [
      "Epoch 1090/2000, Loss: 0.0004\n",
      "Test Accuracy at Epoch 1090: 58.95%\n",
      "Test F1-score at Epoch 1090: 0.7347\n",
      "Classification Report at Epoch 1090:\n",
      "                  precision    recall  f1-score   support\n",
      "\n",
      "    infringement       0.17      0.06      0.09        31\n",
      "non_infringement       0.65      0.84      0.73        64\n",
      "\n",
      "        accuracy                           0.59        95\n",
      "       macro avg       0.41      0.45      0.41        95\n",
      "    weighted avg       0.49      0.59      0.53        95\n",
      "\n"
     ]
    },
    {
     "name": "stderr",
     "output_type": "stream",
     "text": [
      "Training Epochs:  55%|█████▌    | 1100/2000 [03:34<06:38,  2.26it/s]"
     ]
    },
    {
     "name": "stdout",
     "output_type": "stream",
     "text": [
      "Epoch 1100/2000, Loss: 0.0004\n",
      "Test Accuracy at Epoch 1100: 58.95%\n",
      "Test F1-score at Epoch 1100: 0.7347\n",
      "Classification Report at Epoch 1100:\n",
      "                  precision    recall  f1-score   support\n",
      "\n",
      "    infringement       0.17      0.06      0.09        31\n",
      "non_infringement       0.65      0.84      0.73        64\n",
      "\n",
      "        accuracy                           0.59        95\n",
      "       macro avg       0.41      0.45      0.41        95\n",
      "    weighted avg       0.49      0.59      0.53        95\n",
      "\n"
     ]
    },
    {
     "name": "stderr",
     "output_type": "stream",
     "text": [
      "Training Epochs:  56%|█████▌    | 1110/2000 [03:38<06:48,  2.18it/s]"
     ]
    },
    {
     "name": "stdout",
     "output_type": "stream",
     "text": [
      "Epoch 1110/2000, Loss: 0.0004\n",
      "Test Accuracy at Epoch 1110: 58.95%\n",
      "Test F1-score at Epoch 1110: 0.7347\n",
      "Classification Report at Epoch 1110:\n",
      "                  precision    recall  f1-score   support\n",
      "\n",
      "    infringement       0.17      0.06      0.09        31\n",
      "non_infringement       0.65      0.84      0.73        64\n",
      "\n",
      "        accuracy                           0.59        95\n",
      "       macro avg       0.41      0.45      0.41        95\n",
      "    weighted avg       0.49      0.59      0.53        95\n",
      "\n"
     ]
    },
    {
     "name": "stderr",
     "output_type": "stream",
     "text": [
      "Training Epochs:  56%|█████▌    | 1120/2000 [03:44<11:11,  1.31it/s]"
     ]
    },
    {
     "name": "stdout",
     "output_type": "stream",
     "text": [
      "Epoch 1120/2000, Loss: 0.0004\n",
      "Test Accuracy at Epoch 1120: 58.95%\n",
      "Test F1-score at Epoch 1120: 0.7347\n",
      "Classification Report at Epoch 1120:\n",
      "                  precision    recall  f1-score   support\n",
      "\n",
      "    infringement       0.17      0.06      0.09        31\n",
      "non_infringement       0.65      0.84      0.73        64\n",
      "\n",
      "        accuracy                           0.59        95\n",
      "       macro avg       0.41      0.45      0.41        95\n",
      "    weighted avg       0.49      0.59      0.53        95\n",
      "\n"
     ]
    },
    {
     "name": "stderr",
     "output_type": "stream",
     "text": [
      "Training Epochs:  56%|█████▋    | 1130/2000 [03:50<07:38,  1.90it/s]"
     ]
    },
    {
     "name": "stdout",
     "output_type": "stream",
     "text": [
      "Epoch 1130/2000, Loss: 0.0004\n",
      "Test Accuracy at Epoch 1130: 58.95%\n",
      "Test F1-score at Epoch 1130: 0.7347\n",
      "Classification Report at Epoch 1130:\n",
      "                  precision    recall  f1-score   support\n",
      "\n",
      "    infringement       0.17      0.06      0.09        31\n",
      "non_infringement       0.65      0.84      0.73        64\n",
      "\n",
      "        accuracy                           0.59        95\n",
      "       macro avg       0.41      0.45      0.41        95\n",
      "    weighted avg       0.49      0.59      0.53        95\n",
      "\n"
     ]
    },
    {
     "name": "stderr",
     "output_type": "stream",
     "text": [
      "Training Epochs:  57%|█████▋    | 1140/2000 [03:55<08:26,  1.70it/s]"
     ]
    },
    {
     "name": "stdout",
     "output_type": "stream",
     "text": [
      "Epoch 1140/2000, Loss: 0.0004\n",
      "Test Accuracy at Epoch 1140: 58.95%\n",
      "Test F1-score at Epoch 1140: 0.7347\n",
      "Classification Report at Epoch 1140:\n",
      "                  precision    recall  f1-score   support\n",
      "\n",
      "    infringement       0.17      0.06      0.09        31\n",
      "non_infringement       0.65      0.84      0.73        64\n",
      "\n",
      "        accuracy                           0.59        95\n",
      "       macro avg       0.41      0.45      0.41        95\n",
      "    weighted avg       0.49      0.59      0.53        95\n",
      "\n"
     ]
    },
    {
     "name": "stderr",
     "output_type": "stream",
     "text": [
      "Training Epochs:  57%|█████▊    | 1150/2000 [04:00<07:11,  1.97it/s]"
     ]
    },
    {
     "name": "stdout",
     "output_type": "stream",
     "text": [
      "Epoch 1150/2000, Loss: 0.0004\n",
      "Test Accuracy at Epoch 1150: 58.95%\n",
      "Test F1-score at Epoch 1150: 0.7347\n",
      "Classification Report at Epoch 1150:\n",
      "                  precision    recall  f1-score   support\n",
      "\n",
      "    infringement       0.17      0.06      0.09        31\n",
      "non_infringement       0.65      0.84      0.73        64\n",
      "\n",
      "        accuracy                           0.59        95\n",
      "       macro avg       0.41      0.45      0.41        95\n",
      "    weighted avg       0.49      0.59      0.53        95\n",
      "\n"
     ]
    },
    {
     "name": "stderr",
     "output_type": "stream",
     "text": [
      "Training Epochs:  58%|█████▊    | 1160/2000 [04:06<07:04,  1.98it/s]"
     ]
    },
    {
     "name": "stdout",
     "output_type": "stream",
     "text": [
      "Epoch 1160/2000, Loss: 0.0003\n",
      "Test Accuracy at Epoch 1160: 58.95%\n",
      "Test F1-score at Epoch 1160: 0.7347\n",
      "Classification Report at Epoch 1160:\n",
      "                  precision    recall  f1-score   support\n",
      "\n",
      "    infringement       0.17      0.06      0.09        31\n",
      "non_infringement       0.65      0.84      0.73        64\n",
      "\n",
      "        accuracy                           0.59        95\n",
      "       macro avg       0.41      0.45      0.41        95\n",
      "    weighted avg       0.49      0.59      0.53        95\n",
      "\n"
     ]
    },
    {
     "name": "stderr",
     "output_type": "stream",
     "text": [
      "Training Epochs:  58%|█████▊    | 1170/2000 [04:12<10:14,  1.35it/s]"
     ]
    },
    {
     "name": "stdout",
     "output_type": "stream",
     "text": [
      "Epoch 1170/2000, Loss: 0.0003\n",
      "Test Accuracy at Epoch 1170: 58.95%\n",
      "Test F1-score at Epoch 1170: 0.7347\n",
      "Classification Report at Epoch 1170:\n",
      "                  precision    recall  f1-score   support\n",
      "\n",
      "    infringement       0.17      0.06      0.09        31\n",
      "non_infringement       0.65      0.84      0.73        64\n",
      "\n",
      "        accuracy                           0.59        95\n",
      "       macro avg       0.41      0.45      0.41        95\n",
      "    weighted avg       0.49      0.59      0.53        95\n",
      "\n"
     ]
    },
    {
     "name": "stderr",
     "output_type": "stream",
     "text": [
      "Training Epochs:  59%|█████▉    | 1180/2000 [04:18<07:32,  1.81it/s]"
     ]
    },
    {
     "name": "stdout",
     "output_type": "stream",
     "text": [
      "Epoch 1180/2000, Loss: 0.0003\n",
      "Test Accuracy at Epoch 1180: 58.95%\n",
      "Test F1-score at Epoch 1180: 0.7347\n",
      "Classification Report at Epoch 1180:\n",
      "                  precision    recall  f1-score   support\n",
      "\n",
      "    infringement       0.17      0.06      0.09        31\n",
      "non_infringement       0.65      0.84      0.73        64\n",
      "\n",
      "        accuracy                           0.59        95\n",
      "       macro avg       0.41      0.45      0.41        95\n",
      "    weighted avg       0.49      0.59      0.53        95\n",
      "\n"
     ]
    },
    {
     "name": "stderr",
     "output_type": "stream",
     "text": [
      "Training Epochs:  60%|█████▉    | 1190/2000 [04:24<08:14,  1.64it/s]"
     ]
    },
    {
     "name": "stdout",
     "output_type": "stream",
     "text": [
      "Epoch 1190/2000, Loss: 0.0003\n",
      "Test Accuracy at Epoch 1190: 58.95%\n",
      "Test F1-score at Epoch 1190: 0.7347\n",
      "Classification Report at Epoch 1190:\n",
      "                  precision    recall  f1-score   support\n",
      "\n",
      "    infringement       0.17      0.06      0.09        31\n",
      "non_infringement       0.65      0.84      0.73        64\n",
      "\n",
      "        accuracy                           0.59        95\n",
      "       macro avg       0.41      0.45      0.41        95\n",
      "    weighted avg       0.49      0.59      0.53        95\n",
      "\n"
     ]
    },
    {
     "name": "stderr",
     "output_type": "stream",
     "text": [
      "Training Epochs:  60%|██████    | 1200/2000 [04:30<07:32,  1.77it/s]"
     ]
    },
    {
     "name": "stdout",
     "output_type": "stream",
     "text": [
      "Epoch 1200/2000, Loss: 0.0003\n",
      "Test Accuracy at Epoch 1200: 58.95%\n",
      "Test F1-score at Epoch 1200: 0.7347\n",
      "Classification Report at Epoch 1200:\n",
      "                  precision    recall  f1-score   support\n",
      "\n",
      "    infringement       0.17      0.06      0.09        31\n",
      "non_infringement       0.65      0.84      0.73        64\n",
      "\n",
      "        accuracy                           0.59        95\n",
      "       macro avg       0.41      0.45      0.41        95\n",
      "    weighted avg       0.49      0.59      0.53        95\n",
      "\n"
     ]
    },
    {
     "name": "stderr",
     "output_type": "stream",
     "text": [
      "Training Epochs:  60%|██████    | 1210/2000 [04:36<06:21,  2.07it/s]"
     ]
    },
    {
     "name": "stdout",
     "output_type": "stream",
     "text": [
      "Epoch 1210/2000, Loss: 0.0003\n",
      "Test Accuracy at Epoch 1210: 58.95%\n",
      "Test F1-score at Epoch 1210: 0.7347\n",
      "Classification Report at Epoch 1210:\n",
      "                  precision    recall  f1-score   support\n",
      "\n",
      "    infringement       0.17      0.06      0.09        31\n",
      "non_infringement       0.65      0.84      0.73        64\n",
      "\n",
      "        accuracy                           0.59        95\n",
      "       macro avg       0.41      0.45      0.41        95\n",
      "    weighted avg       0.49      0.59      0.53        95\n",
      "\n"
     ]
    },
    {
     "name": "stderr",
     "output_type": "stream",
     "text": [
      "Training Epochs:  61%|██████    | 1220/2000 [04:40<05:48,  2.24it/s]"
     ]
    },
    {
     "name": "stdout",
     "output_type": "stream",
     "text": [
      "Epoch 1220/2000, Loss: 0.0003\n",
      "Test Accuracy at Epoch 1220: 58.95%\n",
      "Test F1-score at Epoch 1220: 0.7347\n",
      "Classification Report at Epoch 1220:\n",
      "                  precision    recall  f1-score   support\n",
      "\n",
      "    infringement       0.17      0.06      0.09        31\n",
      "non_infringement       0.65      0.84      0.73        64\n",
      "\n",
      "        accuracy                           0.59        95\n",
      "       macro avg       0.41      0.45      0.41        95\n",
      "    weighted avg       0.49      0.59      0.53        95\n",
      "\n"
     ]
    },
    {
     "name": "stderr",
     "output_type": "stream",
     "text": [
      "Training Epochs:  62%|██████▏   | 1230/2000 [04:44<05:19,  2.41it/s]"
     ]
    },
    {
     "name": "stdout",
     "output_type": "stream",
     "text": [
      "Epoch 1230/2000, Loss: 0.0003\n",
      "Test Accuracy at Epoch 1230: 58.95%\n",
      "Test F1-score at Epoch 1230: 0.7347\n",
      "Classification Report at Epoch 1230:\n",
      "                  precision    recall  f1-score   support\n",
      "\n",
      "    infringement       0.17      0.06      0.09        31\n",
      "non_infringement       0.65      0.84      0.73        64\n",
      "\n",
      "        accuracy                           0.59        95\n",
      "       macro avg       0.41      0.45      0.41        95\n",
      "    weighted avg       0.49      0.59      0.53        95\n",
      "\n"
     ]
    },
    {
     "name": "stderr",
     "output_type": "stream",
     "text": [
      "Training Epochs:  62%|██████▏   | 1240/2000 [04:49<07:24,  1.71it/s]"
     ]
    },
    {
     "name": "stdout",
     "output_type": "stream",
     "text": [
      "Epoch 1240/2000, Loss: 0.0003\n",
      "Test Accuracy at Epoch 1240: 58.95%\n",
      "Test F1-score at Epoch 1240: 0.7347\n",
      "Classification Report at Epoch 1240:\n",
      "                  precision    recall  f1-score   support\n",
      "\n",
      "    infringement       0.17      0.06      0.09        31\n",
      "non_infringement       0.65      0.84      0.73        64\n",
      "\n",
      "        accuracy                           0.59        95\n",
      "       macro avg       0.41      0.45      0.41        95\n",
      "    weighted avg       0.49      0.59      0.53        95\n",
      "\n"
     ]
    },
    {
     "name": "stderr",
     "output_type": "stream",
     "text": [
      "Training Epochs:  62%|██████▎   | 1250/2000 [04:56<09:18,  1.34it/s]"
     ]
    },
    {
     "name": "stdout",
     "output_type": "stream",
     "text": [
      "Epoch 1250/2000, Loss: 0.0003\n",
      "Test Accuracy at Epoch 1250: 58.95%\n",
      "Test F1-score at Epoch 1250: 0.7347\n",
      "Classification Report at Epoch 1250:\n",
      "                  precision    recall  f1-score   support\n",
      "\n",
      "    infringement       0.17      0.06      0.09        31\n",
      "non_infringement       0.65      0.84      0.73        64\n",
      "\n",
      "        accuracy                           0.59        95\n",
      "       macro avg       0.41      0.45      0.41        95\n",
      "    weighted avg       0.49      0.59      0.53        95\n",
      "\n"
     ]
    },
    {
     "name": "stderr",
     "output_type": "stream",
     "text": [
      "Training Epochs:  63%|██████▎   | 1260/2000 [05:02<08:10,  1.51it/s]"
     ]
    },
    {
     "name": "stdout",
     "output_type": "stream",
     "text": [
      "Epoch 1260/2000, Loss: 0.0003\n",
      "Test Accuracy at Epoch 1260: 58.95%\n",
      "Test F1-score at Epoch 1260: 0.7347\n",
      "Classification Report at Epoch 1260:\n",
      "                  precision    recall  f1-score   support\n",
      "\n",
      "    infringement       0.17      0.06      0.09        31\n",
      "non_infringement       0.65      0.84      0.73        64\n",
      "\n",
      "        accuracy                           0.59        95\n",
      "       macro avg       0.41      0.45      0.41        95\n",
      "    weighted avg       0.49      0.59      0.53        95\n",
      "\n"
     ]
    },
    {
     "name": "stderr",
     "output_type": "stream",
     "text": [
      "Training Epochs:  64%|██████▎   | 1270/2000 [05:10<09:27,  1.29it/s]"
     ]
    },
    {
     "name": "stdout",
     "output_type": "stream",
     "text": [
      "Epoch 1270/2000, Loss: 0.0003\n",
      "Test Accuracy at Epoch 1270: 58.95%\n",
      "Test F1-score at Epoch 1270: 0.7347\n",
      "Classification Report at Epoch 1270:\n",
      "                  precision    recall  f1-score   support\n",
      "\n",
      "    infringement       0.17      0.06      0.09        31\n",
      "non_infringement       0.65      0.84      0.73        64\n",
      "\n",
      "        accuracy                           0.59        95\n",
      "       macro avg       0.41      0.45      0.41        95\n",
      "    weighted avg       0.49      0.59      0.53        95\n",
      "\n"
     ]
    },
    {
     "name": "stderr",
     "output_type": "stream",
     "text": [
      "Training Epochs:  64%|██████▍   | 1280/2000 [05:16<06:09,  1.95it/s]"
     ]
    },
    {
     "name": "stdout",
     "output_type": "stream",
     "text": [
      "Epoch 1280/2000, Loss: 0.0003\n",
      "Test Accuracy at Epoch 1280: 58.95%\n",
      "Test F1-score at Epoch 1280: 0.7347\n",
      "Classification Report at Epoch 1280:\n",
      "                  precision    recall  f1-score   support\n",
      "\n",
      "    infringement       0.17      0.06      0.09        31\n",
      "non_infringement       0.65      0.84      0.73        64\n",
      "\n",
      "        accuracy                           0.59        95\n",
      "       macro avg       0.41      0.45      0.41        95\n",
      "    weighted avg       0.49      0.59      0.53        95\n",
      "\n"
     ]
    },
    {
     "name": "stderr",
     "output_type": "stream",
     "text": [
      "Training Epochs:  64%|██████▍   | 1290/2000 [05:22<07:00,  1.69it/s]"
     ]
    },
    {
     "name": "stdout",
     "output_type": "stream",
     "text": [
      "Epoch 1290/2000, Loss: 0.0003\n",
      "Test Accuracy at Epoch 1290: 58.95%\n",
      "Test F1-score at Epoch 1290: 0.7347\n",
      "Classification Report at Epoch 1290:\n",
      "                  precision    recall  f1-score   support\n",
      "\n",
      "    infringement       0.17      0.06      0.09        31\n",
      "non_infringement       0.65      0.84      0.73        64\n",
      "\n",
      "        accuracy                           0.59        95\n",
      "       macro avg       0.41      0.45      0.41        95\n",
      "    weighted avg       0.49      0.59      0.53        95\n",
      "\n"
     ]
    },
    {
     "name": "stderr",
     "output_type": "stream",
     "text": [
      "Training Epochs:  65%|██████▌   | 1300/2000 [05:28<06:20,  1.84it/s]"
     ]
    },
    {
     "name": "stdout",
     "output_type": "stream",
     "text": [
      "Epoch 1300/2000, Loss: 0.0003\n",
      "Test Accuracy at Epoch 1300: 58.95%\n",
      "Test F1-score at Epoch 1300: 0.7347\n",
      "Classification Report at Epoch 1300:\n",
      "                  precision    recall  f1-score   support\n",
      "\n",
      "    infringement       0.17      0.06      0.09        31\n",
      "non_infringement       0.65      0.84      0.73        64\n",
      "\n",
      "        accuracy                           0.59        95\n",
      "       macro avg       0.41      0.45      0.41        95\n",
      "    weighted avg       0.49      0.59      0.53        95\n",
      "\n"
     ]
    },
    {
     "name": "stderr",
     "output_type": "stream",
     "text": [
      "Training Epochs:  66%|██████▌   | 1310/2000 [05:35<08:37,  1.33it/s]"
     ]
    },
    {
     "name": "stdout",
     "output_type": "stream",
     "text": [
      "Epoch 1310/2000, Loss: 0.0002\n",
      "Test Accuracy at Epoch 1310: 58.95%\n",
      "Test F1-score at Epoch 1310: 0.7347\n",
      "Classification Report at Epoch 1310:\n",
      "                  precision    recall  f1-score   support\n",
      "\n",
      "    infringement       0.17      0.06      0.09        31\n",
      "non_infringement       0.65      0.84      0.73        64\n",
      "\n",
      "        accuracy                           0.59        95\n",
      "       macro avg       0.41      0.45      0.41        95\n",
      "    weighted avg       0.49      0.59      0.53        95\n",
      "\n"
     ]
    },
    {
     "name": "stderr",
     "output_type": "stream",
     "text": [
      "Training Epochs:  66%|██████▌   | 1320/2000 [05:43<08:36,  1.32it/s]"
     ]
    },
    {
     "name": "stdout",
     "output_type": "stream",
     "text": [
      "Epoch 1320/2000, Loss: 0.0002\n",
      "Test Accuracy at Epoch 1320: 58.95%\n",
      "Test F1-score at Epoch 1320: 0.7347\n",
      "Classification Report at Epoch 1320:\n",
      "                  precision    recall  f1-score   support\n",
      "\n",
      "    infringement       0.17      0.06      0.09        31\n",
      "non_infringement       0.65      0.84      0.73        64\n",
      "\n",
      "        accuracy                           0.59        95\n",
      "       macro avg       0.41      0.45      0.41        95\n",
      "    weighted avg       0.49      0.59      0.53        95\n",
      "\n"
     ]
    },
    {
     "name": "stderr",
     "output_type": "stream",
     "text": [
      "Training Epochs:  66%|██████▋   | 1330/2000 [05:51<08:14,  1.35it/s]"
     ]
    },
    {
     "name": "stdout",
     "output_type": "stream",
     "text": [
      "Epoch 1330/2000, Loss: 0.0002\n",
      "Test Accuracy at Epoch 1330: 58.95%\n",
      "Test F1-score at Epoch 1330: 0.7347\n",
      "Classification Report at Epoch 1330:\n",
      "                  precision    recall  f1-score   support\n",
      "\n",
      "    infringement       0.17      0.06      0.09        31\n",
      "non_infringement       0.65      0.84      0.73        64\n",
      "\n",
      "        accuracy                           0.59        95\n",
      "       macro avg       0.41      0.45      0.41        95\n",
      "    weighted avg       0.49      0.59      0.53        95\n",
      "\n"
     ]
    },
    {
     "name": "stderr",
     "output_type": "stream",
     "text": [
      "Training Epochs:  67%|██████▋   | 1340/2000 [05:56<06:30,  1.69it/s]"
     ]
    },
    {
     "name": "stdout",
     "output_type": "stream",
     "text": [
      "Epoch 1340/2000, Loss: 0.0002\n",
      "Test Accuracy at Epoch 1340: 58.95%\n",
      "Test F1-score at Epoch 1340: 0.7347\n",
      "Classification Report at Epoch 1340:\n",
      "                  precision    recall  f1-score   support\n",
      "\n",
      "    infringement       0.17      0.06      0.09        31\n",
      "non_infringement       0.65      0.84      0.73        64\n",
      "\n",
      "        accuracy                           0.59        95\n",
      "       macro avg       0.41      0.45      0.41        95\n",
      "    weighted avg       0.49      0.59      0.53        95\n",
      "\n"
     ]
    },
    {
     "name": "stderr",
     "output_type": "stream",
     "text": [
      "Training Epochs:  68%|██████▊   | 1350/2000 [06:03<07:59,  1.36it/s]"
     ]
    },
    {
     "name": "stdout",
     "output_type": "stream",
     "text": [
      "Epoch 1350/2000, Loss: 0.0002\n",
      "Test Accuracy at Epoch 1350: 58.95%\n",
      "Test F1-score at Epoch 1350: 0.7347\n",
      "Classification Report at Epoch 1350:\n",
      "                  precision    recall  f1-score   support\n",
      "\n",
      "    infringement       0.17      0.06      0.09        31\n",
      "non_infringement       0.65      0.84      0.73        64\n",
      "\n",
      "        accuracy                           0.59        95\n",
      "       macro avg       0.41      0.45      0.41        95\n",
      "    weighted avg       0.49      0.59      0.53        95\n",
      "\n"
     ]
    },
    {
     "name": "stderr",
     "output_type": "stream",
     "text": [
      "Training Epochs:  68%|██████▊   | 1360/2000 [06:10<07:28,  1.43it/s]"
     ]
    },
    {
     "name": "stdout",
     "output_type": "stream",
     "text": [
      "Epoch 1360/2000, Loss: 0.0002\n",
      "Test Accuracy at Epoch 1360: 58.95%\n",
      "Test F1-score at Epoch 1360: 0.7347\n",
      "Classification Report at Epoch 1360:\n",
      "                  precision    recall  f1-score   support\n",
      "\n",
      "    infringement       0.17      0.06      0.09        31\n",
      "non_infringement       0.65      0.84      0.73        64\n",
      "\n",
      "        accuracy                           0.59        95\n",
      "       macro avg       0.41      0.45      0.41        95\n",
      "    weighted avg       0.49      0.59      0.53        95\n",
      "\n"
     ]
    },
    {
     "name": "stderr",
     "output_type": "stream",
     "text": [
      "Training Epochs:  68%|██████▊   | 1370/2000 [06:18<08:07,  1.29it/s]"
     ]
    },
    {
     "name": "stdout",
     "output_type": "stream",
     "text": [
      "Epoch 1370/2000, Loss: 0.0002\n",
      "Test Accuracy at Epoch 1370: 58.95%\n",
      "Test F1-score at Epoch 1370: 0.7347\n",
      "Classification Report at Epoch 1370:\n",
      "                  precision    recall  f1-score   support\n",
      "\n",
      "    infringement       0.17      0.06      0.09        31\n",
      "non_infringement       0.65      0.84      0.73        64\n",
      "\n",
      "        accuracy                           0.59        95\n",
      "       macro avg       0.41      0.45      0.41        95\n",
      "    weighted avg       0.49      0.59      0.53        95\n",
      "\n"
     ]
    },
    {
     "name": "stderr",
     "output_type": "stream",
     "text": [
      "Training Epochs:  69%|██████▉   | 1380/2000 [06:24<05:51,  1.76it/s]"
     ]
    },
    {
     "name": "stdout",
     "output_type": "stream",
     "text": [
      "Epoch 1380/2000, Loss: 0.0002\n",
      "Test Accuracy at Epoch 1380: 58.95%\n",
      "Test F1-score at Epoch 1380: 0.7347\n",
      "Classification Report at Epoch 1380:\n",
      "                  precision    recall  f1-score   support\n",
      "\n",
      "    infringement       0.17      0.06      0.09        31\n",
      "non_infringement       0.65      0.84      0.73        64\n",
      "\n",
      "        accuracy                           0.59        95\n",
      "       macro avg       0.41      0.45      0.41        95\n",
      "    weighted avg       0.49      0.59      0.53        95\n",
      "\n"
     ]
    },
    {
     "name": "stderr",
     "output_type": "stream",
     "text": [
      "Training Epochs:  70%|██████▉   | 1390/2000 [06:31<08:02,  1.26it/s]"
     ]
    },
    {
     "name": "stdout",
     "output_type": "stream",
     "text": [
      "Epoch 1390/2000, Loss: 0.0002\n",
      "Test Accuracy at Epoch 1390: 58.95%\n",
      "Test F1-score at Epoch 1390: 0.7347\n",
      "Classification Report at Epoch 1390:\n",
      "                  precision    recall  f1-score   support\n",
      "\n",
      "    infringement       0.17      0.06      0.09        31\n",
      "non_infringement       0.65      0.84      0.73        64\n",
      "\n",
      "        accuracy                           0.59        95\n",
      "       macro avg       0.41      0.45      0.41        95\n",
      "    weighted avg       0.49      0.59      0.53        95\n",
      "\n"
     ]
    },
    {
     "name": "stderr",
     "output_type": "stream",
     "text": [
      "Training Epochs:  70%|███████   | 1400/2000 [06:37<05:51,  1.71it/s]"
     ]
    },
    {
     "name": "stdout",
     "output_type": "stream",
     "text": [
      "Epoch 1400/2000, Loss: 0.0002\n",
      "Test Accuracy at Epoch 1400: 58.95%\n",
      "Test F1-score at Epoch 1400: 0.7347\n",
      "Classification Report at Epoch 1400:\n",
      "                  precision    recall  f1-score   support\n",
      "\n",
      "    infringement       0.17      0.06      0.09        31\n",
      "non_infringement       0.65      0.84      0.73        64\n",
      "\n",
      "        accuracy                           0.59        95\n",
      "       macro avg       0.41      0.45      0.41        95\n",
      "    weighted avg       0.49      0.59      0.53        95\n",
      "\n"
     ]
    },
    {
     "name": "stderr",
     "output_type": "stream",
     "text": [
      "Training Epochs:  70%|███████   | 1410/2000 [06:42<05:21,  1.83it/s]"
     ]
    },
    {
     "name": "stdout",
     "output_type": "stream",
     "text": [
      "Epoch 1410/2000, Loss: 0.0002\n",
      "Test Accuracy at Epoch 1410: 58.95%\n",
      "Test F1-score at Epoch 1410: 0.7347\n",
      "Classification Report at Epoch 1410:\n",
      "                  precision    recall  f1-score   support\n",
      "\n",
      "    infringement       0.17      0.06      0.09        31\n",
      "non_infringement       0.65      0.84      0.73        64\n",
      "\n",
      "        accuracy                           0.59        95\n",
      "       macro avg       0.41      0.45      0.41        95\n",
      "    weighted avg       0.49      0.59      0.53        95\n",
      "\n"
     ]
    },
    {
     "name": "stderr",
     "output_type": "stream",
     "text": [
      "Training Epochs:  71%|███████   | 1420/2000 [06:47<04:30,  2.14it/s]"
     ]
    },
    {
     "name": "stdout",
     "output_type": "stream",
     "text": [
      "Epoch 1420/2000, Loss: 0.0002\n",
      "Test Accuracy at Epoch 1420: 58.95%\n",
      "Test F1-score at Epoch 1420: 0.7347\n",
      "Classification Report at Epoch 1420:\n",
      "                  precision    recall  f1-score   support\n",
      "\n",
      "    infringement       0.17      0.06      0.09        31\n",
      "non_infringement       0.65      0.84      0.73        64\n",
      "\n",
      "        accuracy                           0.59        95\n",
      "       macro avg       0.41      0.45      0.41        95\n",
      "    weighted avg       0.49      0.59      0.53        95\n",
      "\n"
     ]
    },
    {
     "name": "stderr",
     "output_type": "stream",
     "text": [
      "Training Epochs:  72%|███████▏  | 1430/2000 [06:51<04:45,  2.00it/s]"
     ]
    },
    {
     "name": "stdout",
     "output_type": "stream",
     "text": [
      "Epoch 1430/2000, Loss: 0.0002\n",
      "Test Accuracy at Epoch 1430: 58.95%\n",
      "Test F1-score at Epoch 1430: 0.7347\n",
      "Classification Report at Epoch 1430:\n",
      "                  precision    recall  f1-score   support\n",
      "\n",
      "    infringement       0.17      0.06      0.09        31\n",
      "non_infringement       0.65      0.84      0.73        64\n",
      "\n",
      "        accuracy                           0.59        95\n",
      "       macro avg       0.41      0.45      0.41        95\n",
      "    weighted avg       0.49      0.59      0.53        95\n",
      "\n"
     ]
    },
    {
     "name": "stderr",
     "output_type": "stream",
     "text": [
      "Training Epochs:  72%|███████▏  | 1440/2000 [06:56<04:33,  2.05it/s]"
     ]
    },
    {
     "name": "stdout",
     "output_type": "stream",
     "text": [
      "Epoch 1440/2000, Loss: 0.0002\n",
      "Test Accuracy at Epoch 1440: 58.95%\n",
      "Test F1-score at Epoch 1440: 0.7347\n",
      "Classification Report at Epoch 1440:\n",
      "                  precision    recall  f1-score   support\n",
      "\n",
      "    infringement       0.17      0.06      0.09        31\n",
      "non_infringement       0.65      0.84      0.73        64\n",
      "\n",
      "        accuracy                           0.59        95\n",
      "       macro avg       0.41      0.45      0.41        95\n",
      "    weighted avg       0.49      0.59      0.53        95\n",
      "\n"
     ]
    },
    {
     "name": "stderr",
     "output_type": "stream",
     "text": [
      "Training Epochs:  72%|███████▎  | 1450/2000 [07:01<04:10,  2.19it/s]"
     ]
    },
    {
     "name": "stdout",
     "output_type": "stream",
     "text": [
      "Epoch 1450/2000, Loss: 0.0002\n",
      "Test Accuracy at Epoch 1450: 58.95%\n",
      "Test F1-score at Epoch 1450: 0.7347\n",
      "Classification Report at Epoch 1450:\n",
      "                  precision    recall  f1-score   support\n",
      "\n",
      "    infringement       0.17      0.06      0.09        31\n",
      "non_infringement       0.65      0.84      0.73        64\n",
      "\n",
      "        accuracy                           0.59        95\n",
      "       macro avg       0.41      0.45      0.41        95\n",
      "    weighted avg       0.49      0.59      0.53        95\n",
      "\n"
     ]
    },
    {
     "name": "stderr",
     "output_type": "stream",
     "text": [
      "Training Epochs:  73%|███████▎  | 1460/2000 [07:05<04:09,  2.17it/s]"
     ]
    },
    {
     "name": "stdout",
     "output_type": "stream",
     "text": [
      "Epoch 1460/2000, Loss: 0.0002\n",
      "Test Accuracy at Epoch 1460: 58.95%\n",
      "Test F1-score at Epoch 1460: 0.7347\n",
      "Classification Report at Epoch 1460:\n",
      "                  precision    recall  f1-score   support\n",
      "\n",
      "    infringement       0.17      0.06      0.09        31\n",
      "non_infringement       0.65      0.84      0.73        64\n",
      "\n",
      "        accuracy                           0.59        95\n",
      "       macro avg       0.41      0.45      0.41        95\n",
      "    weighted avg       0.49      0.59      0.53        95\n",
      "\n"
     ]
    },
    {
     "name": "stderr",
     "output_type": "stream",
     "text": [
      "Training Epochs:  74%|███████▎  | 1470/2000 [07:10<03:55,  2.25it/s]"
     ]
    },
    {
     "name": "stdout",
     "output_type": "stream",
     "text": [
      "Epoch 1470/2000, Loss: 0.0002\n",
      "Test Accuracy at Epoch 1470: 58.95%\n",
      "Test F1-score at Epoch 1470: 0.7347\n",
      "Classification Report at Epoch 1470:\n",
      "                  precision    recall  f1-score   support\n",
      "\n",
      "    infringement       0.17      0.06      0.09        31\n",
      "non_infringement       0.65      0.84      0.73        64\n",
      "\n",
      "        accuracy                           0.59        95\n",
      "       macro avg       0.41      0.45      0.41        95\n",
      "    weighted avg       0.49      0.59      0.53        95\n",
      "\n"
     ]
    },
    {
     "name": "stderr",
     "output_type": "stream",
     "text": [
      "Training Epochs:  74%|███████▍  | 1480/2000 [07:14<04:16,  2.03it/s]"
     ]
    },
    {
     "name": "stdout",
     "output_type": "stream",
     "text": [
      "Epoch 1480/2000, Loss: 0.0002\n",
      "Test Accuracy at Epoch 1480: 58.95%\n",
      "Test F1-score at Epoch 1480: 0.7347\n",
      "Classification Report at Epoch 1480:\n",
      "                  precision    recall  f1-score   support\n",
      "\n",
      "    infringement       0.17      0.06      0.09        31\n",
      "non_infringement       0.65      0.84      0.73        64\n",
      "\n",
      "        accuracy                           0.59        95\n",
      "       macro avg       0.41      0.45      0.41        95\n",
      "    weighted avg       0.49      0.59      0.53        95\n",
      "\n"
     ]
    },
    {
     "name": "stderr",
     "output_type": "stream",
     "text": [
      "Training Epochs:  74%|███████▍  | 1490/2000 [07:20<05:12,  1.63it/s]"
     ]
    },
    {
     "name": "stdout",
     "output_type": "stream",
     "text": [
      "Epoch 1490/2000, Loss: 0.0002\n",
      "Test Accuracy at Epoch 1490: 58.95%\n",
      "Test F1-score at Epoch 1490: 0.7347\n",
      "Classification Report at Epoch 1490:\n",
      "                  precision    recall  f1-score   support\n",
      "\n",
      "    infringement       0.17      0.06      0.09        31\n",
      "non_infringement       0.65      0.84      0.73        64\n",
      "\n",
      "        accuracy                           0.59        95\n",
      "       macro avg       0.41      0.45      0.41        95\n",
      "    weighted avg       0.49      0.59      0.53        95\n",
      "\n"
     ]
    },
    {
     "name": "stderr",
     "output_type": "stream",
     "text": [
      "Training Epochs:  75%|███████▌  | 1500/2000 [07:27<06:09,  1.35it/s]"
     ]
    },
    {
     "name": "stdout",
     "output_type": "stream",
     "text": [
      "Epoch 1500/2000, Loss: 0.0002\n",
      "Test Accuracy at Epoch 1500: 58.95%\n",
      "Test F1-score at Epoch 1500: 0.7347\n",
      "Classification Report at Epoch 1500:\n",
      "                  precision    recall  f1-score   support\n",
      "\n",
      "    infringement       0.17      0.06      0.09        31\n",
      "non_infringement       0.65      0.84      0.73        64\n",
      "\n",
      "        accuracy                           0.59        95\n",
      "       macro avg       0.41      0.45      0.41        95\n",
      "    weighted avg       0.49      0.59      0.53        95\n",
      "\n"
     ]
    },
    {
     "name": "stderr",
     "output_type": "stream",
     "text": [
      "Training Epochs:  76%|███████▌  | 1510/2000 [07:34<06:10,  1.32it/s]"
     ]
    },
    {
     "name": "stdout",
     "output_type": "stream",
     "text": [
      "Epoch 1510/2000, Loss: 0.0002\n",
      "Test Accuracy at Epoch 1510: 58.95%\n",
      "Test F1-score at Epoch 1510: 0.7347\n",
      "Classification Report at Epoch 1510:\n",
      "                  precision    recall  f1-score   support\n",
      "\n",
      "    infringement       0.17      0.06      0.09        31\n",
      "non_infringement       0.65      0.84      0.73        64\n",
      "\n",
      "        accuracy                           0.59        95\n",
      "       macro avg       0.41      0.45      0.41        95\n",
      "    weighted avg       0.49      0.59      0.53        95\n",
      "\n"
     ]
    },
    {
     "name": "stderr",
     "output_type": "stream",
     "text": [
      "Training Epochs:  76%|███████▌  | 1520/2000 [07:40<04:21,  1.84it/s]"
     ]
    },
    {
     "name": "stdout",
     "output_type": "stream",
     "text": [
      "Epoch 1520/2000, Loss: 0.0002\n",
      "Test Accuracy at Epoch 1520: 58.95%\n",
      "Test F1-score at Epoch 1520: 0.7347\n",
      "Classification Report at Epoch 1520:\n",
      "                  precision    recall  f1-score   support\n",
      "\n",
      "    infringement       0.17      0.06      0.09        31\n",
      "non_infringement       0.65      0.84      0.73        64\n",
      "\n",
      "        accuracy                           0.59        95\n",
      "       macro avg       0.41      0.45      0.41        95\n",
      "    weighted avg       0.49      0.59      0.53        95\n",
      "\n"
     ]
    },
    {
     "name": "stderr",
     "output_type": "stream",
     "text": [
      "Training Epochs:  76%|███████▋  | 1530/2000 [07:47<04:44,  1.65it/s]"
     ]
    },
    {
     "name": "stdout",
     "output_type": "stream",
     "text": [
      "Epoch 1530/2000, Loss: 0.0002\n",
      "Test Accuracy at Epoch 1530: 58.95%\n",
      "Test F1-score at Epoch 1530: 0.7347\n",
      "Classification Report at Epoch 1530:\n",
      "                  precision    recall  f1-score   support\n",
      "\n",
      "    infringement       0.17      0.06      0.09        31\n",
      "non_infringement       0.65      0.84      0.73        64\n",
      "\n",
      "        accuracy                           0.59        95\n",
      "       macro avg       0.41      0.45      0.41        95\n",
      "    weighted avg       0.49      0.59      0.53        95\n",
      "\n"
     ]
    },
    {
     "name": "stderr",
     "output_type": "stream",
     "text": [
      "Training Epochs:  77%|███████▋  | 1540/2000 [07:53<06:08,  1.25it/s]"
     ]
    },
    {
     "name": "stdout",
     "output_type": "stream",
     "text": [
      "Epoch 1540/2000, Loss: 0.0002\n",
      "Test Accuracy at Epoch 1540: 58.95%\n",
      "Test F1-score at Epoch 1540: 0.7347\n",
      "Classification Report at Epoch 1540:\n",
      "                  precision    recall  f1-score   support\n",
      "\n",
      "    infringement       0.17      0.06      0.09        31\n",
      "non_infringement       0.65      0.84      0.73        64\n",
      "\n",
      "        accuracy                           0.59        95\n",
      "       macro avg       0.41      0.45      0.41        95\n",
      "    weighted avg       0.49      0.59      0.53        95\n",
      "\n"
     ]
    },
    {
     "name": "stderr",
     "output_type": "stream",
     "text": [
      "Training Epochs:  78%|███████▊  | 1550/2000 [07:59<03:52,  1.93it/s]"
     ]
    },
    {
     "name": "stdout",
     "output_type": "stream",
     "text": [
      "Epoch 1550/2000, Loss: 0.0002\n",
      "Test Accuracy at Epoch 1550: 58.95%\n",
      "Test F1-score at Epoch 1550: 0.7347\n",
      "Classification Report at Epoch 1550:\n",
      "                  precision    recall  f1-score   support\n",
      "\n",
      "    infringement       0.17      0.06      0.09        31\n",
      "non_infringement       0.65      0.84      0.73        64\n",
      "\n",
      "        accuracy                           0.59        95\n",
      "       macro avg       0.41      0.45      0.41        95\n",
      "    weighted avg       0.49      0.59      0.53        95\n",
      "\n"
     ]
    },
    {
     "name": "stderr",
     "output_type": "stream",
     "text": [
      "Training Epochs:  78%|███████▊  | 1560/2000 [08:04<04:37,  1.58it/s]"
     ]
    },
    {
     "name": "stdout",
     "output_type": "stream",
     "text": [
      "Epoch 1560/2000, Loss: 0.0002\n",
      "Test Accuracy at Epoch 1560: 58.95%\n",
      "Test F1-score at Epoch 1560: 0.7347\n",
      "Classification Report at Epoch 1560:\n",
      "                  precision    recall  f1-score   support\n",
      "\n",
      "    infringement       0.17      0.06      0.09        31\n",
      "non_infringement       0.65      0.84      0.73        64\n",
      "\n",
      "        accuracy                           0.59        95\n",
      "       macro avg       0.41      0.45      0.41        95\n",
      "    weighted avg       0.49      0.59      0.53        95\n",
      "\n"
     ]
    },
    {
     "name": "stderr",
     "output_type": "stream",
     "text": [
      "Training Epochs:  78%|███████▊  | 1570/2000 [08:10<03:18,  2.16it/s]"
     ]
    },
    {
     "name": "stdout",
     "output_type": "stream",
     "text": [
      "Epoch 1570/2000, Loss: 0.0002\n",
      "Test Accuracy at Epoch 1570: 58.95%\n",
      "Test F1-score at Epoch 1570: 0.7347\n",
      "Classification Report at Epoch 1570:\n",
      "                  precision    recall  f1-score   support\n",
      "\n",
      "    infringement       0.17      0.06      0.09        31\n",
      "non_infringement       0.65      0.84      0.73        64\n",
      "\n",
      "        accuracy                           0.59        95\n",
      "       macro avg       0.41      0.45      0.41        95\n",
      "    weighted avg       0.49      0.59      0.53        95\n",
      "\n"
     ]
    },
    {
     "name": "stderr",
     "output_type": "stream",
     "text": [
      "Training Epochs:  79%|███████▉  | 1580/2000 [08:15<04:22,  1.60it/s]"
     ]
    },
    {
     "name": "stdout",
     "output_type": "stream",
     "text": [
      "Epoch 1580/2000, Loss: 0.0002\n",
      "Test Accuracy at Epoch 1580: 58.95%\n",
      "Test F1-score at Epoch 1580: 0.7347\n",
      "Classification Report at Epoch 1580:\n",
      "                  precision    recall  f1-score   support\n",
      "\n",
      "    infringement       0.17      0.06      0.09        31\n",
      "non_infringement       0.65      0.84      0.73        64\n",
      "\n",
      "        accuracy                           0.59        95\n",
      "       macro avg       0.41      0.45      0.41        95\n",
      "    weighted avg       0.49      0.59      0.53        95\n",
      "\n"
     ]
    },
    {
     "name": "stderr",
     "output_type": "stream",
     "text": [
      "Training Epochs:  80%|███████▉  | 1590/2000 [08:22<05:04,  1.35it/s]"
     ]
    },
    {
     "name": "stdout",
     "output_type": "stream",
     "text": [
      "Epoch 1590/2000, Loss: 0.0001\n",
      "Test Accuracy at Epoch 1590: 58.95%\n",
      "Test F1-score at Epoch 1590: 0.7347\n",
      "Classification Report at Epoch 1590:\n",
      "                  precision    recall  f1-score   support\n",
      "\n",
      "    infringement       0.17      0.06      0.09        31\n",
      "non_infringement       0.65      0.84      0.73        64\n",
      "\n",
      "        accuracy                           0.59        95\n",
      "       macro avg       0.41      0.45      0.41        95\n",
      "    weighted avg       0.49      0.59      0.53        95\n",
      "\n"
     ]
    },
    {
     "name": "stderr",
     "output_type": "stream",
     "text": [
      "Training Epochs:  80%|████████  | 1600/2000 [08:26<02:53,  2.30it/s]"
     ]
    },
    {
     "name": "stdout",
     "output_type": "stream",
     "text": [
      "Epoch 1600/2000, Loss: 0.0001\n",
      "Test Accuracy at Epoch 1600: 58.95%\n",
      "Test F1-score at Epoch 1600: 0.7347\n",
      "Classification Report at Epoch 1600:\n",
      "                  precision    recall  f1-score   support\n",
      "\n",
      "    infringement       0.17      0.06      0.09        31\n",
      "non_infringement       0.65      0.84      0.73        64\n",
      "\n",
      "        accuracy                           0.59        95\n",
      "       macro avg       0.41      0.45      0.41        95\n",
      "    weighted avg       0.49      0.59      0.53        95\n",
      "\n"
     ]
    },
    {
     "name": "stderr",
     "output_type": "stream",
     "text": [
      "Training Epochs:  80%|████████  | 1610/2000 [08:30<02:41,  2.41it/s]"
     ]
    },
    {
     "name": "stdout",
     "output_type": "stream",
     "text": [
      "Epoch 1610/2000, Loss: 0.0001\n",
      "Test Accuracy at Epoch 1610: 58.95%\n",
      "Test F1-score at Epoch 1610: 0.7347\n",
      "Classification Report at Epoch 1610:\n",
      "                  precision    recall  f1-score   support\n",
      "\n",
      "    infringement       0.17      0.06      0.09        31\n",
      "non_infringement       0.65      0.84      0.73        64\n",
      "\n",
      "        accuracy                           0.59        95\n",
      "       macro avg       0.41      0.45      0.41        95\n",
      "    weighted avg       0.49      0.59      0.53        95\n",
      "\n"
     ]
    },
    {
     "name": "stderr",
     "output_type": "stream",
     "text": [
      "Training Epochs:  81%|████████  | 1620/2000 [08:35<02:49,  2.24it/s]"
     ]
    },
    {
     "name": "stdout",
     "output_type": "stream",
     "text": [
      "Epoch 1620/2000, Loss: 0.0001\n",
      "Test Accuracy at Epoch 1620: 58.95%\n",
      "Test F1-score at Epoch 1620: 0.7347\n",
      "Classification Report at Epoch 1620:\n",
      "                  precision    recall  f1-score   support\n",
      "\n",
      "    infringement       0.17      0.06      0.09        31\n",
      "non_infringement       0.65      0.84      0.73        64\n",
      "\n",
      "        accuracy                           0.59        95\n",
      "       macro avg       0.41      0.45      0.41        95\n",
      "    weighted avg       0.49      0.59      0.53        95\n",
      "\n"
     ]
    },
    {
     "name": "stderr",
     "output_type": "stream",
     "text": [
      "Training Epochs:  82%|████████▏ | 1630/2000 [08:39<02:33,  2.41it/s]"
     ]
    },
    {
     "name": "stdout",
     "output_type": "stream",
     "text": [
      "Epoch 1630/2000, Loss: 0.0001\n",
      "Test Accuracy at Epoch 1630: 58.95%\n",
      "Test F1-score at Epoch 1630: 0.7347\n",
      "Classification Report at Epoch 1630:\n",
      "                  precision    recall  f1-score   support\n",
      "\n",
      "    infringement       0.17      0.06      0.09        31\n",
      "non_infringement       0.65      0.84      0.73        64\n",
      "\n",
      "        accuracy                           0.59        95\n",
      "       macro avg       0.41      0.45      0.41        95\n",
      "    weighted avg       0.49      0.59      0.53        95\n",
      "\n"
     ]
    },
    {
     "name": "stderr",
     "output_type": "stream",
     "text": [
      "Training Epochs:  82%|████████▏ | 1640/2000 [08:44<03:43,  1.61it/s]"
     ]
    },
    {
     "name": "stdout",
     "output_type": "stream",
     "text": [
      "Epoch 1640/2000, Loss: 0.0001\n",
      "Test Accuracy at Epoch 1640: 58.95%\n",
      "Test F1-score at Epoch 1640: 0.7347\n",
      "Classification Report at Epoch 1640:\n",
      "                  precision    recall  f1-score   support\n",
      "\n",
      "    infringement       0.17      0.06      0.09        31\n",
      "non_infringement       0.65      0.84      0.73        64\n",
      "\n",
      "        accuracy                           0.59        95\n",
      "       macro avg       0.41      0.45      0.41        95\n",
      "    weighted avg       0.49      0.59      0.53        95\n",
      "\n"
     ]
    },
    {
     "name": "stderr",
     "output_type": "stream",
     "text": [
      "Training Epochs:  82%|████████▎ | 1650/2000 [08:49<02:41,  2.16it/s]"
     ]
    },
    {
     "name": "stdout",
     "output_type": "stream",
     "text": [
      "Epoch 1650/2000, Loss: 0.0001\n",
      "Test Accuracy at Epoch 1650: 58.95%\n",
      "Test F1-score at Epoch 1650: 0.7347\n",
      "Classification Report at Epoch 1650:\n",
      "                  precision    recall  f1-score   support\n",
      "\n",
      "    infringement       0.17      0.06      0.09        31\n",
      "non_infringement       0.65      0.84      0.73        64\n",
      "\n",
      "        accuracy                           0.59        95\n",
      "       macro avg       0.41      0.45      0.41        95\n",
      "    weighted avg       0.49      0.59      0.53        95\n",
      "\n"
     ]
    },
    {
     "name": "stderr",
     "output_type": "stream",
     "text": [
      "Training Epochs:  83%|████████▎ | 1660/2000 [08:53<02:21,  2.40it/s]"
     ]
    },
    {
     "name": "stdout",
     "output_type": "stream",
     "text": [
      "Epoch 1660/2000, Loss: 0.0001\n",
      "Test Accuracy at Epoch 1660: 58.95%\n",
      "Test F1-score at Epoch 1660: 0.7347\n",
      "Classification Report at Epoch 1660:\n",
      "                  precision    recall  f1-score   support\n",
      "\n",
      "    infringement       0.17      0.06      0.09        31\n",
      "non_infringement       0.65      0.84      0.73        64\n",
      "\n",
      "        accuracy                           0.59        95\n",
      "       macro avg       0.41      0.45      0.41        95\n",
      "    weighted avg       0.49      0.59      0.53        95\n",
      "\n"
     ]
    },
    {
     "name": "stderr",
     "output_type": "stream",
     "text": [
      "Training Epochs:  84%|████████▎ | 1670/2000 [08:57<02:11,  2.51it/s]"
     ]
    },
    {
     "name": "stdout",
     "output_type": "stream",
     "text": [
      "Epoch 1670/2000, Loss: 0.0001\n",
      "Test Accuracy at Epoch 1670: 58.95%\n",
      "Test F1-score at Epoch 1670: 0.7347\n",
      "Classification Report at Epoch 1670:\n",
      "                  precision    recall  f1-score   support\n",
      "\n",
      "    infringement       0.17      0.06      0.09        31\n",
      "non_infringement       0.65      0.84      0.73        64\n",
      "\n",
      "        accuracy                           0.59        95\n",
      "       macro avg       0.41      0.45      0.41        95\n",
      "    weighted avg       0.49      0.59      0.53        95\n",
      "\n"
     ]
    },
    {
     "name": "stderr",
     "output_type": "stream",
     "text": [
      "Training Epochs:  84%|████████▍ | 1680/2000 [09:02<02:27,  2.17it/s]"
     ]
    },
    {
     "name": "stdout",
     "output_type": "stream",
     "text": [
      "Epoch 1680/2000, Loss: 0.0001\n",
      "Test Accuracy at Epoch 1680: 58.95%\n",
      "Test F1-score at Epoch 1680: 0.7347\n",
      "Classification Report at Epoch 1680:\n",
      "                  precision    recall  f1-score   support\n",
      "\n",
      "    infringement       0.17      0.06      0.09        31\n",
      "non_infringement       0.65      0.84      0.73        64\n",
      "\n",
      "        accuracy                           0.59        95\n",
      "       macro avg       0.41      0.45      0.41        95\n",
      "    weighted avg       0.49      0.59      0.53        95\n",
      "\n"
     ]
    },
    {
     "name": "stderr",
     "output_type": "stream",
     "text": [
      "Training Epochs:  84%|████████▍ | 1690/2000 [09:06<02:16,  2.27it/s]"
     ]
    },
    {
     "name": "stdout",
     "output_type": "stream",
     "text": [
      "Epoch 1690/2000, Loss: 0.0001\n",
      "Test Accuracy at Epoch 1690: 58.95%\n",
      "Test F1-score at Epoch 1690: 0.7347\n",
      "Classification Report at Epoch 1690:\n",
      "                  precision    recall  f1-score   support\n",
      "\n",
      "    infringement       0.17      0.06      0.09        31\n",
      "non_infringement       0.65      0.84      0.73        64\n",
      "\n",
      "        accuracy                           0.59        95\n",
      "       macro avg       0.41      0.45      0.41        95\n",
      "    weighted avg       0.49      0.59      0.53        95\n",
      "\n"
     ]
    },
    {
     "name": "stderr",
     "output_type": "stream",
     "text": [
      "Training Epochs:  85%|████████▌ | 1700/2000 [09:11<03:01,  1.65it/s]"
     ]
    },
    {
     "name": "stdout",
     "output_type": "stream",
     "text": [
      "Epoch 1700/2000, Loss: 0.0001\n",
      "Test Accuracy at Epoch 1700: 58.95%\n",
      "Test F1-score at Epoch 1700: 0.7347\n",
      "Classification Report at Epoch 1700:\n",
      "                  precision    recall  f1-score   support\n",
      "\n",
      "    infringement       0.17      0.06      0.09        31\n",
      "non_infringement       0.65      0.84      0.73        64\n",
      "\n",
      "        accuracy                           0.59        95\n",
      "       macro avg       0.41      0.45      0.41        95\n",
      "    weighted avg       0.49      0.59      0.53        95\n",
      "\n"
     ]
    },
    {
     "name": "stderr",
     "output_type": "stream",
     "text": [
      "Training Epochs:  86%|████████▌ | 1710/2000 [09:16<02:56,  1.65it/s]"
     ]
    },
    {
     "name": "stdout",
     "output_type": "stream",
     "text": [
      "Epoch 1710/2000, Loss: 0.0001\n",
      "Test Accuracy at Epoch 1710: 58.95%\n",
      "Test F1-score at Epoch 1710: 0.7347\n",
      "Classification Report at Epoch 1710:\n",
      "                  precision    recall  f1-score   support\n",
      "\n",
      "    infringement       0.17      0.06      0.09        31\n",
      "non_infringement       0.65      0.84      0.73        64\n",
      "\n",
      "        accuracy                           0.59        95\n",
      "       macro avg       0.41      0.45      0.41        95\n",
      "    weighted avg       0.49      0.59      0.53        95\n",
      "\n"
     ]
    },
    {
     "name": "stderr",
     "output_type": "stream",
     "text": [
      "Training Epochs:  86%|████████▌ | 1720/2000 [09:20<01:56,  2.40it/s]"
     ]
    },
    {
     "name": "stdout",
     "output_type": "stream",
     "text": [
      "Epoch 1720/2000, Loss: 0.0001\n",
      "Test Accuracy at Epoch 1720: 58.95%\n",
      "Test F1-score at Epoch 1720: 0.7347\n",
      "Classification Report at Epoch 1720:\n",
      "                  precision    recall  f1-score   support\n",
      "\n",
      "    infringement       0.17      0.06      0.09        31\n",
      "non_infringement       0.65      0.84      0.73        64\n",
      "\n",
      "        accuracy                           0.59        95\n",
      "       macro avg       0.41      0.45      0.41        95\n",
      "    weighted avg       0.49      0.59      0.53        95\n",
      "\n"
     ]
    },
    {
     "name": "stderr",
     "output_type": "stream",
     "text": [
      "Training Epochs:  86%|████████▋ | 1730/2000 [09:24<01:47,  2.50it/s]"
     ]
    },
    {
     "name": "stdout",
     "output_type": "stream",
     "text": [
      "Epoch 1730/2000, Loss: 0.0001\n",
      "Test Accuracy at Epoch 1730: 58.95%\n",
      "Test F1-score at Epoch 1730: 0.7347\n",
      "Classification Report at Epoch 1730:\n",
      "                  precision    recall  f1-score   support\n",
      "\n",
      "    infringement       0.17      0.06      0.09        31\n",
      "non_infringement       0.65      0.84      0.73        64\n",
      "\n",
      "        accuracy                           0.59        95\n",
      "       macro avg       0.41      0.45      0.41        95\n",
      "    weighted avg       0.49      0.59      0.53        95\n",
      "\n"
     ]
    },
    {
     "name": "stderr",
     "output_type": "stream",
     "text": [
      "Training Epochs:  87%|████████▋ | 1740/2000 [09:29<01:51,  2.32it/s]"
     ]
    },
    {
     "name": "stdout",
     "output_type": "stream",
     "text": [
      "Epoch 1740/2000, Loss: 0.0001\n",
      "Test Accuracy at Epoch 1740: 58.95%\n",
      "Test F1-score at Epoch 1740: 0.7347\n",
      "Classification Report at Epoch 1740:\n",
      "                  precision    recall  f1-score   support\n",
      "\n",
      "    infringement       0.17      0.06      0.09        31\n",
      "non_infringement       0.65      0.84      0.73        64\n",
      "\n",
      "        accuracy                           0.59        95\n",
      "       macro avg       0.41      0.45      0.41        95\n",
      "    weighted avg       0.49      0.59      0.53        95\n",
      "\n"
     ]
    },
    {
     "name": "stderr",
     "output_type": "stream",
     "text": [
      "Training Epochs:  88%|████████▊ | 1750/2000 [09:33<01:39,  2.52it/s]"
     ]
    },
    {
     "name": "stdout",
     "output_type": "stream",
     "text": [
      "Epoch 1750/2000, Loss: 0.0001\n",
      "Test Accuracy at Epoch 1750: 58.95%\n",
      "Test F1-score at Epoch 1750: 0.7347\n",
      "Classification Report at Epoch 1750:\n",
      "                  precision    recall  f1-score   support\n",
      "\n",
      "    infringement       0.17      0.06      0.09        31\n",
      "non_infringement       0.65      0.84      0.73        64\n",
      "\n",
      "        accuracy                           0.59        95\n",
      "       macro avg       0.41      0.45      0.41        95\n",
      "    weighted avg       0.49      0.59      0.53        95\n",
      "\n"
     ]
    },
    {
     "name": "stderr",
     "output_type": "stream",
     "text": [
      "Training Epochs:  88%|████████▊ | 1760/2000 [09:37<02:00,  1.99it/s]"
     ]
    },
    {
     "name": "stdout",
     "output_type": "stream",
     "text": [
      "Epoch 1760/2000, Loss: 0.0001\n",
      "Test Accuracy at Epoch 1760: 58.95%\n",
      "Test F1-score at Epoch 1760: 0.7347\n",
      "Classification Report at Epoch 1760:\n",
      "                  precision    recall  f1-score   support\n",
      "\n",
      "    infringement       0.17      0.06      0.09        31\n",
      "non_infringement       0.65      0.84      0.73        64\n",
      "\n",
      "        accuracy                           0.59        95\n",
      "       macro avg       0.41      0.45      0.41        95\n",
      "    weighted avg       0.49      0.59      0.53        95\n",
      "\n"
     ]
    },
    {
     "name": "stderr",
     "output_type": "stream",
     "text": [
      "Training Epochs:  88%|████████▊ | 1770/2000 [09:43<02:15,  1.70it/s]"
     ]
    },
    {
     "name": "stdout",
     "output_type": "stream",
     "text": [
      "Epoch 1770/2000, Loss: 0.0001\n",
      "Test Accuracy at Epoch 1770: 58.95%\n",
      "Test F1-score at Epoch 1770: 0.7347\n",
      "Classification Report at Epoch 1770:\n",
      "                  precision    recall  f1-score   support\n",
      "\n",
      "    infringement       0.17      0.06      0.09        31\n",
      "non_infringement       0.65      0.84      0.73        64\n",
      "\n",
      "        accuracy                           0.59        95\n",
      "       macro avg       0.41      0.45      0.41        95\n",
      "    weighted avg       0.49      0.59      0.53        95\n",
      "\n"
     ]
    },
    {
     "name": "stderr",
     "output_type": "stream",
     "text": [
      "Training Epochs:  89%|████████▉ | 1780/2000 [09:48<02:25,  1.51it/s]"
     ]
    },
    {
     "name": "stdout",
     "output_type": "stream",
     "text": [
      "Epoch 1780/2000, Loss: 0.0001\n",
      "Test Accuracy at Epoch 1780: 58.95%\n",
      "Test F1-score at Epoch 1780: 0.7347\n",
      "Classification Report at Epoch 1780:\n",
      "                  precision    recall  f1-score   support\n",
      "\n",
      "    infringement       0.17      0.06      0.09        31\n",
      "non_infringement       0.65      0.84      0.73        64\n",
      "\n",
      "        accuracy                           0.59        95\n",
      "       macro avg       0.41      0.45      0.41        95\n",
      "    weighted avg       0.49      0.59      0.53        95\n",
      "\n"
     ]
    },
    {
     "name": "stderr",
     "output_type": "stream",
     "text": [
      "Training Epochs:  90%|████████▉ | 1790/2000 [09:54<02:05,  1.67it/s]"
     ]
    },
    {
     "name": "stdout",
     "output_type": "stream",
     "text": [
      "Epoch 1790/2000, Loss: 0.0001\n",
      "Test Accuracy at Epoch 1790: 58.95%\n",
      "Test F1-score at Epoch 1790: 0.7347\n",
      "Classification Report at Epoch 1790:\n",
      "                  precision    recall  f1-score   support\n",
      "\n",
      "    infringement       0.17      0.06      0.09        31\n",
      "non_infringement       0.65      0.84      0.73        64\n",
      "\n",
      "        accuracy                           0.59        95\n",
      "       macro avg       0.41      0.45      0.41        95\n",
      "    weighted avg       0.49      0.59      0.53        95\n",
      "\n"
     ]
    },
    {
     "name": "stderr",
     "output_type": "stream",
     "text": [
      "Training Epochs:  90%|█████████ | 1800/2000 [09:59<01:41,  1.97it/s]"
     ]
    },
    {
     "name": "stdout",
     "output_type": "stream",
     "text": [
      "Epoch 1800/2000, Loss: 0.0001\n",
      "Test Accuracy at Epoch 1800: 58.95%\n",
      "Test F1-score at Epoch 1800: 0.7347\n",
      "Classification Report at Epoch 1800:\n",
      "                  precision    recall  f1-score   support\n",
      "\n",
      "    infringement       0.17      0.06      0.09        31\n",
      "non_infringement       0.65      0.84      0.73        64\n",
      "\n",
      "        accuracy                           0.59        95\n",
      "       macro avg       0.41      0.45      0.41        95\n",
      "    weighted avg       0.49      0.59      0.53        95\n",
      "\n"
     ]
    },
    {
     "name": "stderr",
     "output_type": "stream",
     "text": [
      "Training Epochs:  90%|█████████ | 1810/2000 [10:04<01:29,  2.12it/s]"
     ]
    },
    {
     "name": "stdout",
     "output_type": "stream",
     "text": [
      "Epoch 1810/2000, Loss: 0.0001\n",
      "Test Accuracy at Epoch 1810: 58.95%\n",
      "Test F1-score at Epoch 1810: 0.7347\n",
      "Classification Report at Epoch 1810:\n",
      "                  precision    recall  f1-score   support\n",
      "\n",
      "    infringement       0.17      0.06      0.09        31\n",
      "non_infringement       0.65      0.84      0.73        64\n",
      "\n",
      "        accuracy                           0.59        95\n",
      "       macro avg       0.41      0.45      0.41        95\n",
      "    weighted avg       0.49      0.59      0.53        95\n",
      "\n"
     ]
    },
    {
     "name": "stderr",
     "output_type": "stream",
     "text": [
      "Training Epochs:  91%|█████████ | 1820/2000 [10:08<01:13,  2.45it/s]"
     ]
    },
    {
     "name": "stdout",
     "output_type": "stream",
     "text": [
      "Epoch 1820/2000, Loss: 0.0001\n",
      "Test Accuracy at Epoch 1820: 58.95%\n",
      "Test F1-score at Epoch 1820: 0.7347\n",
      "Classification Report at Epoch 1820:\n",
      "                  precision    recall  f1-score   support\n",
      "\n",
      "    infringement       0.17      0.06      0.09        31\n",
      "non_infringement       0.65      0.84      0.73        64\n",
      "\n",
      "        accuracy                           0.59        95\n",
      "       macro avg       0.41      0.45      0.41        95\n",
      "    weighted avg       0.49      0.59      0.53        95\n",
      "\n"
     ]
    },
    {
     "name": "stderr",
     "output_type": "stream",
     "text": [
      "Training Epochs:  92%|█████████▏| 1830/2000 [10:12<01:09,  2.43it/s]"
     ]
    },
    {
     "name": "stdout",
     "output_type": "stream",
     "text": [
      "Epoch 1830/2000, Loss: 0.0001\n",
      "Test Accuracy at Epoch 1830: 60.00%\n",
      "Test F1-score at Epoch 1830: 0.7432\n",
      "Classification Report at Epoch 1830:\n",
      "                  precision    recall  f1-score   support\n",
      "\n",
      "    infringement       0.18      0.06      0.10        31\n",
      "non_infringement       0.65      0.86      0.74        64\n",
      "\n",
      "        accuracy                           0.60        95\n",
      "       macro avg       0.42      0.46      0.42        95\n",
      "    weighted avg       0.50      0.60      0.53        95\n",
      "\n"
     ]
    },
    {
     "name": "stderr",
     "output_type": "stream",
     "text": [
      "Training Epochs:  92%|█████████▏| 1840/2000 [10:16<01:05,  2.45it/s]"
     ]
    },
    {
     "name": "stdout",
     "output_type": "stream",
     "text": [
      "Epoch 1840/2000, Loss: 0.0001\n",
      "Test Accuracy at Epoch 1840: 60.00%\n",
      "Test F1-score at Epoch 1840: 0.7432\n",
      "Classification Report at Epoch 1840:\n",
      "                  precision    recall  f1-score   support\n",
      "\n",
      "    infringement       0.18      0.06      0.10        31\n",
      "non_infringement       0.65      0.86      0.74        64\n",
      "\n",
      "        accuracy                           0.60        95\n",
      "       macro avg       0.42      0.46      0.42        95\n",
      "    weighted avg       0.50      0.60      0.53        95\n",
      "\n"
     ]
    },
    {
     "name": "stderr",
     "output_type": "stream",
     "text": [
      "Training Epochs:  92%|█████████▎| 1850/2000 [10:20<00:59,  2.50it/s]"
     ]
    },
    {
     "name": "stdout",
     "output_type": "stream",
     "text": [
      "Epoch 1850/2000, Loss: 0.0001\n",
      "Test Accuracy at Epoch 1850: 60.00%\n",
      "Test F1-score at Epoch 1850: 0.7432\n",
      "Classification Report at Epoch 1850:\n",
      "                  precision    recall  f1-score   support\n",
      "\n",
      "    infringement       0.18      0.06      0.10        31\n",
      "non_infringement       0.65      0.86      0.74        64\n",
      "\n",
      "        accuracy                           0.60        95\n",
      "       macro avg       0.42      0.46      0.42        95\n",
      "    weighted avg       0.50      0.60      0.53        95\n",
      "\n"
     ]
    },
    {
     "name": "stderr",
     "output_type": "stream",
     "text": [
      "Training Epochs:  93%|█████████▎| 1860/2000 [10:25<01:12,  1.94it/s]"
     ]
    },
    {
     "name": "stdout",
     "output_type": "stream",
     "text": [
      "Epoch 1860/2000, Loss: 0.0001\n",
      "Test Accuracy at Epoch 1860: 60.00%\n",
      "Test F1-score at Epoch 1860: 0.7432\n",
      "Classification Report at Epoch 1860:\n",
      "                  precision    recall  f1-score   support\n",
      "\n",
      "    infringement       0.18      0.06      0.10        31\n",
      "non_infringement       0.65      0.86      0.74        64\n",
      "\n",
      "        accuracy                           0.60        95\n",
      "       macro avg       0.42      0.46      0.42        95\n",
      "    weighted avg       0.50      0.60      0.53        95\n",
      "\n"
     ]
    },
    {
     "name": "stderr",
     "output_type": "stream",
     "text": [
      "Training Epochs:  94%|█████████▎| 1870/2000 [10:30<00:53,  2.44it/s]"
     ]
    },
    {
     "name": "stdout",
     "output_type": "stream",
     "text": [
      "Epoch 1870/2000, Loss: 0.0001\n",
      "Test Accuracy at Epoch 1870: 60.00%\n",
      "Test F1-score at Epoch 1870: 0.7432\n",
      "Classification Report at Epoch 1870:\n",
      "                  precision    recall  f1-score   support\n",
      "\n",
      "    infringement       0.18      0.06      0.10        31\n",
      "non_infringement       0.65      0.86      0.74        64\n",
      "\n",
      "        accuracy                           0.60        95\n",
      "       macro avg       0.42      0.46      0.42        95\n",
      "    weighted avg       0.50      0.60      0.53        95\n",
      "\n"
     ]
    },
    {
     "name": "stderr",
     "output_type": "stream",
     "text": [
      "Training Epochs:  94%|█████████▍| 1880/2000 [10:34<00:54,  2.21it/s]"
     ]
    },
    {
     "name": "stdout",
     "output_type": "stream",
     "text": [
      "Epoch 1880/2000, Loss: 0.0001\n",
      "Test Accuracy at Epoch 1880: 60.00%\n",
      "Test F1-score at Epoch 1880: 0.7432\n",
      "Classification Report at Epoch 1880:\n",
      "                  precision    recall  f1-score   support\n",
      "\n",
      "    infringement       0.18      0.06      0.10        31\n",
      "non_infringement       0.65      0.86      0.74        64\n",
      "\n",
      "        accuracy                           0.60        95\n",
      "       macro avg       0.42      0.46      0.42        95\n",
      "    weighted avg       0.50      0.60      0.53        95\n",
      "\n"
     ]
    },
    {
     "name": "stderr",
     "output_type": "stream",
     "text": [
      "Training Epochs:  94%|█████████▍| 1890/2000 [10:38<00:47,  2.33it/s]"
     ]
    },
    {
     "name": "stdout",
     "output_type": "stream",
     "text": [
      "Epoch 1890/2000, Loss: 0.0001\n",
      "Test Accuracy at Epoch 1890: 60.00%\n",
      "Test F1-score at Epoch 1890: 0.7432\n",
      "Classification Report at Epoch 1890:\n",
      "                  precision    recall  f1-score   support\n",
      "\n",
      "    infringement       0.18      0.06      0.10        31\n",
      "non_infringement       0.65      0.86      0.74        64\n",
      "\n",
      "        accuracy                           0.60        95\n",
      "       macro avg       0.42      0.46      0.42        95\n",
      "    weighted avg       0.50      0.60      0.53        95\n",
      "\n"
     ]
    },
    {
     "name": "stderr",
     "output_type": "stream",
     "text": [
      "Training Epochs:  95%|█████████▌| 1900/2000 [10:42<00:43,  2.28it/s]"
     ]
    },
    {
     "name": "stdout",
     "output_type": "stream",
     "text": [
      "Epoch 1900/2000, Loss: 0.0001\n",
      "Test Accuracy at Epoch 1900: 60.00%\n",
      "Test F1-score at Epoch 1900: 0.7432\n",
      "Classification Report at Epoch 1900:\n",
      "                  precision    recall  f1-score   support\n",
      "\n",
      "    infringement       0.18      0.06      0.10        31\n",
      "non_infringement       0.65      0.86      0.74        64\n",
      "\n",
      "        accuracy                           0.60        95\n",
      "       macro avg       0.42      0.46      0.42        95\n",
      "    weighted avg       0.50      0.60      0.53        95\n",
      "\n"
     ]
    },
    {
     "name": "stderr",
     "output_type": "stream",
     "text": [
      "Training Epochs:  96%|█████████▌| 1910/2000 [10:46<00:36,  2.48it/s]"
     ]
    },
    {
     "name": "stdout",
     "output_type": "stream",
     "text": [
      "Epoch 1910/2000, Loss: 0.0001\n",
      "Test Accuracy at Epoch 1910: 60.00%\n",
      "Test F1-score at Epoch 1910: 0.7432\n",
      "Classification Report at Epoch 1910:\n",
      "                  precision    recall  f1-score   support\n",
      "\n",
      "    infringement       0.18      0.06      0.10        31\n",
      "non_infringement       0.65      0.86      0.74        64\n",
      "\n",
      "        accuracy                           0.60        95\n",
      "       macro avg       0.42      0.46      0.42        95\n",
      "    weighted avg       0.50      0.60      0.53        95\n",
      "\n"
     ]
    },
    {
     "name": "stderr",
     "output_type": "stream",
     "text": [
      "Training Epochs:  96%|█████████▌| 1920/2000 [10:50<00:34,  2.31it/s]"
     ]
    },
    {
     "name": "stdout",
     "output_type": "stream",
     "text": [
      "Epoch 1920/2000, Loss: 0.0001\n",
      "Test Accuracy at Epoch 1920: 60.00%\n",
      "Test F1-score at Epoch 1920: 0.7432\n",
      "Classification Report at Epoch 1920:\n",
      "                  precision    recall  f1-score   support\n",
      "\n",
      "    infringement       0.18      0.06      0.10        31\n",
      "non_infringement       0.65      0.86      0.74        64\n",
      "\n",
      "        accuracy                           0.60        95\n",
      "       macro avg       0.42      0.46      0.42        95\n",
      "    weighted avg       0.50      0.60      0.53        95\n",
      "\n"
     ]
    },
    {
     "name": "stderr",
     "output_type": "stream",
     "text": [
      "Training Epochs:  96%|█████████▋| 1930/2000 [10:54<00:29,  2.41it/s]"
     ]
    },
    {
     "name": "stdout",
     "output_type": "stream",
     "text": [
      "Epoch 1930/2000, Loss: 0.0001\n",
      "Test Accuracy at Epoch 1930: 60.00%\n",
      "Test F1-score at Epoch 1930: 0.7432\n",
      "Classification Report at Epoch 1930:\n",
      "                  precision    recall  f1-score   support\n",
      "\n",
      "    infringement       0.18      0.06      0.10        31\n",
      "non_infringement       0.65      0.86      0.74        64\n",
      "\n",
      "        accuracy                           0.60        95\n",
      "       macro avg       0.42      0.46      0.42        95\n",
      "    weighted avg       0.50      0.60      0.53        95\n",
      "\n"
     ]
    },
    {
     "name": "stderr",
     "output_type": "stream",
     "text": [
      "Training Epochs:  97%|█████████▋| 1940/2000 [10:58<00:24,  2.44it/s]"
     ]
    },
    {
     "name": "stdout",
     "output_type": "stream",
     "text": [
      "Epoch 1940/2000, Loss: 0.0001\n",
      "Test Accuracy at Epoch 1940: 60.00%\n",
      "Test F1-score at Epoch 1940: 0.7432\n",
      "Classification Report at Epoch 1940:\n",
      "                  precision    recall  f1-score   support\n",
      "\n",
      "    infringement       0.18      0.06      0.10        31\n",
      "non_infringement       0.65      0.86      0.74        64\n",
      "\n",
      "        accuracy                           0.60        95\n",
      "       macro avg       0.42      0.46      0.42        95\n",
      "    weighted avg       0.50      0.60      0.53        95\n",
      "\n"
     ]
    },
    {
     "name": "stderr",
     "output_type": "stream",
     "text": [
      "Training Epochs:  98%|█████████▊| 1950/2000 [11:02<00:20,  2.41it/s]"
     ]
    },
    {
     "name": "stdout",
     "output_type": "stream",
     "text": [
      "Epoch 1950/2000, Loss: 0.0001\n",
      "Test Accuracy at Epoch 1950: 60.00%\n",
      "Test F1-score at Epoch 1950: 0.7432\n",
      "Classification Report at Epoch 1950:\n",
      "                  precision    recall  f1-score   support\n",
      "\n",
      "    infringement       0.18      0.06      0.10        31\n",
      "non_infringement       0.65      0.86      0.74        64\n",
      "\n",
      "        accuracy                           0.60        95\n",
      "       macro avg       0.42      0.46      0.42        95\n",
      "    weighted avg       0.50      0.60      0.53        95\n",
      "\n"
     ]
    },
    {
     "name": "stderr",
     "output_type": "stream",
     "text": [
      "Training Epochs:  98%|█████████▊| 1960/2000 [11:07<00:17,  2.24it/s]"
     ]
    },
    {
     "name": "stdout",
     "output_type": "stream",
     "text": [
      "Epoch 1960/2000, Loss: 0.0001\n",
      "Test Accuracy at Epoch 1960: 60.00%\n",
      "Test F1-score at Epoch 1960: 0.7432\n",
      "Classification Report at Epoch 1960:\n",
      "                  precision    recall  f1-score   support\n",
      "\n",
      "    infringement       0.18      0.06      0.10        31\n",
      "non_infringement       0.65      0.86      0.74        64\n",
      "\n",
      "        accuracy                           0.60        95\n",
      "       macro avg       0.42      0.46      0.42        95\n",
      "    weighted avg       0.50      0.60      0.53        95\n",
      "\n"
     ]
    },
    {
     "name": "stderr",
     "output_type": "stream",
     "text": [
      "Training Epochs:  98%|█████████▊| 1970/2000 [11:11<00:12,  2.33it/s]"
     ]
    },
    {
     "name": "stdout",
     "output_type": "stream",
     "text": [
      "Epoch 1970/2000, Loss: 0.0001\n",
      "Test Accuracy at Epoch 1970: 60.00%\n",
      "Test F1-score at Epoch 1970: 0.7432\n",
      "Classification Report at Epoch 1970:\n",
      "                  precision    recall  f1-score   support\n",
      "\n",
      "    infringement       0.18      0.06      0.10        31\n",
      "non_infringement       0.65      0.86      0.74        64\n",
      "\n",
      "        accuracy                           0.60        95\n",
      "       macro avg       0.42      0.46      0.42        95\n",
      "    weighted avg       0.50      0.60      0.53        95\n",
      "\n"
     ]
    },
    {
     "name": "stderr",
     "output_type": "stream",
     "text": [
      "Training Epochs:  99%|█████████▉| 1980/2000 [11:15<00:08,  2.41it/s]"
     ]
    },
    {
     "name": "stdout",
     "output_type": "stream",
     "text": [
      "Epoch 1980/2000, Loss: 0.0001\n",
      "Test Accuracy at Epoch 1980: 60.00%\n",
      "Test F1-score at Epoch 1980: 0.7432\n",
      "Classification Report at Epoch 1980:\n",
      "                  precision    recall  f1-score   support\n",
      "\n",
      "    infringement       0.18      0.06      0.10        31\n",
      "non_infringement       0.65      0.86      0.74        64\n",
      "\n",
      "        accuracy                           0.60        95\n",
      "       macro avg       0.42      0.46      0.42        95\n",
      "    weighted avg       0.50      0.60      0.53        95\n",
      "\n"
     ]
    },
    {
     "name": "stderr",
     "output_type": "stream",
     "text": [
      "Training Epochs: 100%|█████████▉| 1990/2000 [11:19<00:04,  2.40it/s]"
     ]
    },
    {
     "name": "stdout",
     "output_type": "stream",
     "text": [
      "Epoch 1990/2000, Loss: 0.0001\n",
      "Test Accuracy at Epoch 1990: 60.00%\n",
      "Test F1-score at Epoch 1990: 0.7432\n",
      "Classification Report at Epoch 1990:\n",
      "                  precision    recall  f1-score   support\n",
      "\n",
      "    infringement       0.18      0.06      0.10        31\n",
      "non_infringement       0.65      0.86      0.74        64\n",
      "\n",
      "        accuracy                           0.60        95\n",
      "       macro avg       0.42      0.46      0.42        95\n",
      "    weighted avg       0.50      0.60      0.53        95\n",
      "\n"
     ]
    },
    {
     "name": "stderr",
     "output_type": "stream",
     "text": [
      "Training Epochs: 100%|██████████| 2000/2000 [11:23<00:00,  2.93it/s]"
     ]
    },
    {
     "name": "stdout",
     "output_type": "stream",
     "text": [
      "Epoch 2000/2000, Loss: 0.0001\n",
      "Test Accuracy at Epoch 2000: 60.00%\n",
      "Test F1-score at Epoch 2000: 0.7432\n",
      "Classification Report at Epoch 2000:\n",
      "                  precision    recall  f1-score   support\n",
      "\n",
      "    infringement       0.18      0.06      0.10        31\n",
      "non_infringement       0.65      0.86      0.74        64\n",
      "\n",
      "        accuracy                           0.60        95\n",
      "       macro avg       0.42      0.46      0.42        95\n",
      "    weighted avg       0.50      0.60      0.53        95\n",
      "\n"
     ]
    },
    {
     "name": "stderr",
     "output_type": "stream",
     "text": [
      "\n",
      "/tmp/ipykernel_3881958/3077705936.py:55: FutureWarning: You are using `torch.load` with `weights_only=False` (the current default value), which uses the default pickle module implicitly. It is possible to construct malicious pickle data which will execute arbitrary code during unpickling (See https://github.com/pytorch/pytorch/blob/main/SECURITY.md#untrusted-models for more details). In a future release, the default value for `weights_only` will be flipped to `True`. This limits the functions that could be executed during unpickling. Arbitrary objects will no longer be allowed to be loaded via this mode unless they are explicitly allowlisted by the user via `torch.serialization.add_safe_globals`. We recommend you start setting `weights_only=True` for any use case where you don't have full control of the loaded file. Please open an issue on GitHub for any issues related to this experimental feature.\n",
      "  custom_mlp.load_state_dict(torch.load(checkpoint_path))\n"
     ]
    },
    {
     "data": {
      "image/png": "[encoded data removed]",
      "text/plain": [
       "<Figure size 1000x500 with 1 Axes>"
      ]
     },
     "metadata": {},
     "output_type": "display_data"
    },
    {
     "name": "stdout",
     "output_type": "stream",
     "text": [
      "Best Model was saved at epoch 10 with F1-score 0.8050 and accuracy 67.37%\n"
     ]
    }
   ],
   "source": [
    "input_dim = X_train.shape[1]\n",
    "hidden_dim = 256\n",
    "\n",
    "custom_mlp, losses, best_accuracy, best_f1 = train_model(X_train, y_train, X_test, y_test, input_dim, hidden_dim)"
   ]
  },
  {
   "cell_type": "code",
   "execution_count": 17,
   "metadata": {},
   "outputs": [
    {
     "name": "stdout",
     "output_type": "stream",
     "text": [
      "Checkpoint saved to '/home/guangwei/LLM-COPYRIGHT/copyright_newVersion/models/train_input_last_token.pth'.\n"
     ]
    }
   ],
   "source": [
    "def save_checkpoint(model, optimizer, epoch, loss, filepath):\n",
    "    checkpoint = {\n",
    "        'epoch': epoch + 1,\n",
    "        'model_state_dict': model.state_dict(),\n",
    "        'optimizer_state_dict': optimizer.state_dict(),\n",
    "        'loss': loss\n",
    "    }\n",
    "    torch.save(checkpoint, filepath)\n",
    "    print(f\"Checkpoint saved to '{filepath}'.\")\n",
    "\n",
    "save_checkpoint(custom_mlp, torch.optim.Adam(custom_mlp.parameters()), len(losses), losses[-1], checkpoint_file)"
   ]
  },
  {
   "cell_type": "code",
   "execution_count": null,
   "metadata": {},
   "outputs": [
    {
     "name": "stdout",
     "output_type": "stream",
     "text": [
      "Final Model Accuracy: 67.37%\n",
      "                  precision    recall  f1-score   support\n",
      "\n",
      "    infringement       0.00      0.00      0.00        31\n",
      "non_infringement       0.67      1.00      0.81        64\n",
      "\n",
      "        accuracy                           0.67        95\n",
      "       macro avg       0.34      0.50      0.40        95\n",
      "    weighted avg       0.45      0.67      0.54        95\n",
      "\n"
     ]
    },
    {
     "name": "stderr",
     "output_type": "stream",
     "text": [
      "/tmp/ipykernel_3881958/3740627605.py:2: UserWarning: To copy construct from a tensor, it is recommended to use sourceTensor.clone().detach() or sourceTensor.clone().detach().requires_grad_(True), rather than torch.tensor(sourceTensor).\n",
      "  y_pred_final = (torch.sigmoid(torch.tensor(custom_mlp(torch.tensor(X_test, dtype=torch.float32)))) > 0.5).float().numpy()\n",
      "/home/guangwei/miniconda3/envs/zdh/lib/python3.12/site-packages/sklearn/metrics/_classification.py:1531: UndefinedMetricWarning: Precision is ill-defined and being set to 0.0 in labels with no predicted samples. Use `zero_division` parameter to control this behavior.\n",
      "  _warn_prf(average, modifier, f\"{metric.capitalize()} is\", len(result))\n",
      "/home/guangwei/miniconda3/envs/zdh/lib/python3.12/site-packages/sklearn/metrics/_classification.py:1531: UndefinedMetricWarning: Precision is ill-defined and being set to 0.0 in labels with no predicted samples. Use `zero_division` parameter to control this behavior.\n",
      "  _warn_prf(average, modifier, f\"{metric.capitalize()} is\", len(result))\n",
      "/home/guangwei/miniconda3/envs/zdh/lib/python3.12/site-packages/sklearn/metrics/_classification.py:1531: UndefinedMetricWarning: Precision is ill-defined and being set to 0.0 in labels with no predicted samples. Use `zero_division` parameter to control this behavior.\n",
      "  _warn_prf(average, modifier, f\"{metric.capitalize()} is\", len(result))\n"
     ]
    },
    {
     "ename": "",
     "evalue": "",
     "output_type": "error",
     "traceback": [
      "\u001b[1;31mThe Kernel crashed while executing code in the current cell or a previous cell. \n",
      "\u001b[1;31mPlease review the code in the cell(s) to identify a possible cause of the failure. \n",
      "\u001b[1;31mClick <a href='https://aka.ms/vscodeJupyterKernelCrash'>here</a> for more info. \n",
      "\u001b[1;31mView Jupyter <a href='command:jupyter.viewOutput'>log</a> for further details."
     ]
    }
   ],
   "source": [
    "print(f\"Final Model Accuracy: {best_accuracy * 100:.2f}%\")\n",
    "y_pred_final = (torch.sigmoid(torch.tensor(custom_mlp(torch.tensor(X_test, dtype=torch.float32)))) > 0.5).float().numpy()\n",
    "print(classification_report(y_test, y_pred_final, target_names=[\"infringement\", \"non_infringement\"]))"
   ]
  }
 ],
 "metadata": {
  "kernelspec": {
   "display_name": "zdh",
   "language": "python",
   "name": "python3"
  },
  "language_info": {
   "codemirror_mode": {
    "name": "ipython",
    "version": 3
   },
   "file_extension": ".py",
   "mimetype": "text/x-python",
   "name": "python",
   "nbconvert_exporter": "python",
   "pygments_lexer": "ipython3",
   "version": "3.12.3"
  }
 },
 "nbformat": 4,
 "nbformat_minor": 2
}
