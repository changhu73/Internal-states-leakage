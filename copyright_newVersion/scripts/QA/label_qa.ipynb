{
 "cells": [
  {
   "cell_type": "code",
   "execution_count": 11,
   "metadata": {},
   "outputs": [
    {
     "name": "stdout",
     "output_type": "stream",
     "text": [
      "Lower threshold (30th percentile): 0.0\n",
      "Upper threshold (70th percentile): 1.0\n",
      "Group infringement: 64 entries\n",
      "Group non-infringement (after limiting): 64 entries\n",
      "Data saved to /home/guangwei/LLM-COPYRIGHT/copyright_newVersion/division_qa/qa.infringement.json and /home/guangwei/LLM-COPYRIGHT/copyright_newVersion/division_qa/qa.non_infringement.json\n"
     ]
    }
   ],
   "source": [
    "# import packages\n",
    "import json\n",
    "import numpy as np\n",
    "\n",
    "# Path of score_file & infringement/non-infringement files\n",
    "scores_file = '/home/guangwei/LLM-COPYRIGHT/copyright_newVersion/scores/scores-qa.qa.prompt1.Meta-Llama-3.1-8B.greedy.json'\n",
    "infringement_output = '/home/guangwei/LLM-COPYRIGHT/copyright_newVersion/division_qa/qa.infringement.json'\n",
    "non_infringement_output = '/home/guangwei/LLM-COPYRIGHT/copyright_newVersion/division_qa/qa.non_infringement.json'\n",
    "\n",
    "# Process for lower/upper rouge_l \n",
    "def process_data(scores_file, infringement_output, non_infringement_output):\n",
    "    with open(scores_file, 'r', encoding='utf-8') as file:\n",
    "        data = json.load(file)\n",
    "\n",
    "    # Split by ourselves\n",
    "    scores = [entry['score_f1'] for entry in data]\n",
    "\n",
    "    lower_threshold = np.percentile(scores, 20)\n",
    "    upper_threshold = np.percentile(scores, 90)\n",
    "    \n",
    "    print(f'Lower threshold (30th percentile): {lower_threshold}')\n",
    "    print(f'Upper threshold (70th percentile): {upper_threshold}')\n",
    "\n",
    "    group1 = [entry for entry in data if entry['score_f1'] >= upper_threshold]\n",
    "    group2 = [entry for entry in data if entry['score_f1'] <= lower_threshold]\n",
    "\n",
    "    # Assign labels\n",
    "    for entry in group1:\n",
    "        entry['label'] = 0\n",
    "\n",
    "    for entry in group2:\n",
    "        entry['label'] = 1\n",
    "\n",
    "    # Limit non-infringement to match infringement group size\n",
    "    group2 = group2[:len(group1)]  # Slice group2 to match the size of group1\n",
    "\n",
    "    print(f'Group infringement: {len(group1)} entries')\n",
    "    print(f'Group non-infringement (after limiting): {len(group2)} entries')\n",
    "\n",
    "    with open(infringement_output, 'w', encoding='utf-8') as file:\n",
    "        json.dump(group1, file, ensure_ascii=False, indent=4)\n",
    "\n",
    "    with open(non_infringement_output, 'w', encoding='utf-8') as file:\n",
    "        json.dump(group2, file, ensure_ascii=False, indent=4)\n",
    "\n",
    "    print(f'Data saved to {infringement_output} and {non_infringement_output}')\n",
    "\n",
    "    \n",
    "# Main function & Run\n",
    "def main(scores_file, infringement_output, non_infringement_output):\n",
    "    process_data(scores_file, infringement_output, non_infringement_output)\n",
    "\n",
    "main(scores_file, infringement_output, non_infringement_output)"
   ]
  },
  {
   "cell_type": "code",
   "execution_count": null,
   "metadata": {},
   "outputs": [],
   "source": []
  }
 ],
 "metadata": {
  "kernelspec": {
   "display_name": "zdh",
   "language": "python",
   "name": "python3"
  },
  "language_info": {
   "codemirror_mode": {
    "name": "ipython",
    "version": 3
   },
   "file_extension": ".py",
   "mimetype": "text/x-python",
   "name": "python",
   "nbconvert_exporter": "python",
   "pygments_lexer": "ipython3",
   "version": "3.12.3"
  }
 },
 "nbformat": 4,
 "nbformat_minor": 2
}
