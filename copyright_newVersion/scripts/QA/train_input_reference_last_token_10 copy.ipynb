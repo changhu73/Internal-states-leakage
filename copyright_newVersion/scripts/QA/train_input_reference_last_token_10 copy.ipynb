{
 "cells": [
  {
   "cell_type": "code",
   "execution_count": 12,
   "metadata": {},
   "outputs": [],
   "source": [
    "# import packages & variables\n",
    "import argparse\n",
    "import torch\n",
    "import torch.nn as nn\n",
    "import numpy as np\n",
    "from sklearn.metrics import accuracy_score, classification_report\n",
    "import matplotlib.pyplot as plt\n",
    "from tqdm import tqdm\n",
    "from transformers import AutoTokenizer, AutoModelForCausalLM, AutoModel, AutoModelForSequenceClassification\n",
    "import json\n",
    "import os\n",
    "\n",
    "os.environ[\"CUDA_VISIBLE_DEVICES\"] = \"4\"\n",
    "\n",
    "# Variables\n",
    "model_name = 'meta-llama/Meta-Llama-3.1-8B'\n",
    "non_infringement_file = '/home/guangwei/LLM-COPYRIGHT/copyright_newVersion/division_qa/qa.non_infringement.json'\n",
    "infringement_file = '/home/guangwei/LLM-COPYRIGHT/copyright_newVersion/division_qa/qa.infringement.json'\n",
    "checkpoint_file = '/home/guangwei/LLM-COPYRIGHT/copyright_newVersion/models/train_input_last_token.pth'\n"
   ]
  },
  {
   "cell_type": "code",
   "execution_count": 13,
   "metadata": {},
   "outputs": [],
   "source": [
    "# Define CustumMLP for internal states train\n",
    "class CustomMLP(nn.Module):\n",
    "    def __init__(self, input_dim, hidden_dim):\n",
    "        super(CustomMLP, self).__init__()\n",
    "        self.down = nn.Linear(input_dim, hidden_dim)\n",
    "        self.gate = nn.Linear(input_dim, hidden_dim)\n",
    "        self.up = nn.Linear(hidden_dim, 1)\n",
    "        self.activation = nn.SiLU()\n",
    "\n",
    "    def forward(self, x):\n",
    "        down_output = self.down(x)\n",
    "        gate_output = self.gate(x)\n",
    "        gated_output = down_output * self.activation(gate_output)\n",
    "        return self.up(gated_output)"
   ]
  },
  {
   "cell_type": "code",
   "execution_count": 14,
   "metadata": {},
   "outputs": [],
   "source": [
    "# Extract hidden states/reference embeddings\n",
    "def extract_hidden_states(texts, model, tokenizer, batch_size=4):\n",
    "    device = torch.device(\"cuda\" if torch.cuda.is_available() else \"cpu\")\n",
    "    model.to(device)\n",
    "    model = nn.DataParallel(model)\n",
    "    hidden_states = []\n",
    "    for i in tqdm(range(0, len(texts), batch_size), desc=\"Processing data batches\"):\n",
    "        batch_texts = texts[i:i + batch_size]\n",
    "        inputs = tokenizer(batch_texts, return_tensors=\"pt\", padding=True, truncation=True)\n",
    "        with torch.no_grad():\n",
    "            outputs = model(**inputs)\n",
    "        \n",
    "        # 访问最后一个隐藏层的最后一个token的隐藏状态\n",
    "        # hidden_states[-1]表示最后一个隐藏层，mean(dim=1)表示取所有头的均值\n",
    "        last_layer_hidden_states = outputs.hidden_states[-1]\n",
    "        last_token_hidden_states = last_layer_hidden_states[:, -1, :]  # -1表示最后一个token\n",
    "        hidden_states.append(last_token_hidden_states.cpu().numpy())\n",
    "    return np.vstack(hidden_states)\n",
    "\n",
    "def extract_reference_embeddings(references, model, tokenizer, batch_size=4):\n",
    "    device = torch.device(\"cuda\" if torch.cuda.is_available() else \"cpu\")\n",
    "    model.to(device)\n",
    "    model = nn.DataParallel(model)\n",
    "    embeddings = []\n",
    "    for i in tqdm(range(0, len(references), batch_size), desc=\"Processing references\"):\n",
    "        batch_references = references[i:i + batch_size]\n",
    "        inputs = tokenizer(batch_references, return_tensors=\"pt\", padding=True, truncation=True).to(device)\n",
    "        with torch.no_grad():\n",
    "            outputs = model(**inputs)\n",
    "        embeddings.append(outputs.pooler_output.cpu().numpy())\n",
    "    return np.vstack(embeddings)"
   ]
  },
  {
   "cell_type": "code",
   "execution_count": 15,
   "metadata": {},
   "outputs": [],
   "source": [
    "# load data for infringement & non infringement\n",
    "def load_data(non_infringement_file, infringement_file):\n",
    "    with open(non_infringement_file, 'r', encoding='utf-8') as file:\n",
    "        non_infringement_json_data = json.load(file)\n",
    "\n",
    "    non_infringement_outputs = [entry['input'] for entry in non_infringement_json_data]\n",
    "    non_infringement_references = [entry['reference'] for entry in non_infringement_json_data]\n",
    "    y_non_infringement = [1] * len(non_infringement_outputs)\n",
    "\n",
    "    with open(infringement_file, 'r', encoding='utf-8') as file:\n",
    "        infringement_json_data = json.load(file)\n",
    "\n",
    "    infringement_outputs = [entry['input'] for entry in infringement_json_data]\n",
    "    infringement_references = [entry['reference'] for entry in infringement_json_data]\n",
    "    y_infringement = [0] * len(infringement_outputs)\n",
    "\n",
    "    return non_infringement_outputs, non_infringement_references, y_non_infringement, infringement_outputs, infringement_references, y_infringement"
   ]
  },
  {
   "cell_type": "code",
   "execution_count": 16,
   "metadata": {},
   "outputs": [],
   "source": [
    "from sklearn.metrics import accuracy_score, classification_report, f1_score\n",
    "\n",
    "# Train for best model\n",
    "def train_model(X_train, y_train, X_test, y_test, input_dim, hidden_dim, epochs=2000, lr=0.001, checkpoint_path=checkpoint_file):\n",
    "    custom_mlp = CustomMLP(input_dim, hidden_dim)\n",
    "    criterion = nn.BCEWithLogitsLoss()\n",
    "    optimizer = torch.optim.Adam(custom_mlp.parameters(), lr=lr)\n",
    "\n",
    "    X_train_tensor = torch.tensor(X_train, dtype=torch.float32)\n",
    "    y_train_tensor = torch.tensor(y_train, dtype=torch.float32).unsqueeze(1)\n",
    "\n",
    "    best_accuracy = -float('inf')\n",
    "    best_f1 = -float('inf')  # Track best F1-score\n",
    "    best_model_state = None\n",
    "    best_epoch = 0\n",
    "    losses = []\n",
    "\n",
    "    for epoch in tqdm(range(epochs), desc=\"Training Epochs\"):\n",
    "        custom_mlp.train()\n",
    "        optimizer.zero_grad()\n",
    "        outputs = custom_mlp(X_train_tensor)\n",
    "        loss = criterion(outputs, y_train_tensor)\n",
    "        loss.backward()\n",
    "        optimizer.step()\n",
    "        losses.append(loss.item())\n",
    "\n",
    "        # Every 10 epochs, evaluate the model\n",
    "        if (epoch + 1) % 10 == 0:\n",
    "            print(f\"Epoch {epoch + 1}/{epochs}, Loss: {loss.item():.4f}\")\n",
    "            \n",
    "            custom_mlp.eval()\n",
    "            X_test_tensor = torch.tensor(X_test, dtype=torch.float32)\n",
    "            with torch.no_grad():\n",
    "                y_pred_logits = custom_mlp(X_test_tensor)\n",
    "                y_pred = (torch.sigmoid(y_pred_logits) > 0.5).float().numpy()\n",
    "            \n",
    "            # Calculate accuracy and F1-score\n",
    "            accuracy = accuracy_score(y_test, y_pred)\n",
    "            f1 = f1_score(y_test, y_pred)  # F1-score calculation\n",
    "            \n",
    "            print(f\"Test Accuracy at Epoch {epoch + 1}: {accuracy * 100:.2f}%\")\n",
    "            print(f\"Test F1-score at Epoch {epoch + 1}: {f1:.4f}\")\n",
    "            \n",
    "            # Generate classification report\n",
    "            report = classification_report(y_test, y_pred, target_names=[\"infringement\", \"non_infringement\"])\n",
    "            print(f\"Classification Report at Epoch {epoch + 1}:\\n{report}\")\n",
    "\n",
    "            # Save the model if it achieves a better F1-score\n",
    "            if f1 > best_f1:\n",
    "                best_accuracy = accuracy\n",
    "                best_f1 = f1\n",
    "                best_model_state = custom_mlp.state_dict()\n",
    "                best_epoch = epoch + 1\n",
    "                torch.save(best_model_state, checkpoint_path)\n",
    "                print(f\"New best model saved with F1-score {best_f1:.4f} at epoch {best_epoch}\")\n",
    "                print(f\"Best Classification Report at Epoch {best_epoch}:\\n{report}\")\n",
    "\n",
    "    # Load the best model state\n",
    "    custom_mlp.load_state_dict(torch.load(checkpoint_path))\n",
    "\n",
    "    # Plot loss curve\n",
    "    plt.figure(figsize=(10, 5))\n",
    "    plt.plot(losses, label='Training Loss')\n",
    "    plt.xlabel('Epoch')\n",
    "    plt.ylabel('Loss')\n",
    "    plt.title('Training Loss Curve')\n",
    "    plt.legend()\n",
    "    plt.show()\n",
    "\n",
    "    print(f\"Final Model Accuracy: {best_accuracy * 100:.2f}%\")\n",
    "    print(f\"Final Model F1-score: {best_f1:.4f}\")\n",
    "    \n",
    "    return custom_mlp, losses, best_accuracy, best_f1\n"
   ]
  },
  {
   "cell_type": "code",
   "execution_count": 17,
   "metadata": {},
   "outputs": [
    {
     "name": "stderr",
     "output_type": "stream",
     "text": [
      "/home/guangwei/miniconda3/envs/zdh/lib/python3.12/site-packages/transformers/generation/configuration_utils.py:774: UserWarning: `return_dict_in_generate` is NOT set to `True`, but `output_hidden_states` is. When `return_dict_in_generate` is not `True`, `output_hidden_states` is ignored.\n",
      "  warnings.warn(\n",
      "Loading checkpoint shards: 100%|██████████| 4/4 [00:02<00:00,  1.35it/s]\n"
     ]
    }
   ],
   "source": [
    "tokenizer = AutoTokenizer.from_pretrained(model_name, model_max_length=512)\n",
    "model = AutoModelForCausalLM.from_pretrained(model_name, output_hidden_states=True)\n",
    "tokenizer.pad_token = tokenizer.eos_token\n",
    "bert_tokenizer = AutoTokenizer.from_pretrained('google-bert/bert-base-uncased')\n",
    "bert_model = AutoModel.from_pretrained('google-bert/bert-base-uncased')\n",
    "bert_tokenizer.pad_token = tokenizer.eos_token\n",
    "\n",
    "non_infringement_outputs, non_infringement_references, y_non_infringement, infringement_outputs, infringement_references, y_infringement = load_data(\n",
    "    non_infringement_file, infringement_file\n",
    ")\n",
    "\n",
    "y_non_infringement = np.array(y_non_infringement)\n",
    "y_infringement = np.array(y_infringement)\n"
   ]
  },
  {
   "cell_type": "code",
   "execution_count": 18,
   "metadata": {},
   "outputs": [
    {
     "name": "stdout",
     "output_type": "stream",
     "text": [
      "Extracting hidden states for non_infringement texts...\n"
     ]
    },
    {
     "name": "stderr",
     "output_type": "stream",
     "text": [
      "Processing data batches: 100%|██████████| 110/110 [00:13<00:00,  8.02it/s]\n"
     ]
    },
    {
     "name": "stdout",
     "output_type": "stream",
     "text": [
      "Extracting reference embeddings for non_infringement texts...\n"
     ]
    },
    {
     "name": "stderr",
     "output_type": "stream",
     "text": [
      "Processing references: 100%|██████████| 110/110 [00:00<00:00, 141.11it/s]\n"
     ]
    },
    {
     "name": "stdout",
     "output_type": "stream",
     "text": [
      "Extracting hidden states for infringement texts...\n"
     ]
    },
    {
     "name": "stderr",
     "output_type": "stream",
     "text": [
      "Processing data batches: 100%|██████████| 38/38 [00:04<00:00,  8.23it/s]\n"
     ]
    },
    {
     "name": "stdout",
     "output_type": "stream",
     "text": [
      "Extracting reference embeddings for infringement texts...\n"
     ]
    },
    {
     "name": "stderr",
     "output_type": "stream",
     "text": [
      "Processing references: 100%|██████████| 38/38 [00:00<00:00, 146.18it/s]\n"
     ]
    }
   ],
   "source": [
    "print(\"Extracting hidden states for non_infringement texts...\")\n",
    "X_non_infringement = extract_hidden_states(non_infringement_outputs, model, tokenizer)\n",
    "print(\"Extracting reference embeddings for non_infringement texts...\")\n",
    "reference_embeddings_non_infringement = extract_reference_embeddings(non_infringement_references, bert_model, bert_tokenizer)\n",
    "X_non_infringement_combined = np.hstack([X_non_infringement, reference_embeddings_non_infringement])\n",
    "\n",
    "print(\"Extracting hidden states for infringement texts...\")\n",
    "X_infringement = extract_hidden_states(infringement_outputs, model, tokenizer)\n",
    "print(\"Extracting reference embeddings for infringement texts...\")\n",
    "reference_embeddings_infringement = extract_reference_embeddings(infringement_references, bert_model, bert_tokenizer)\n",
    "X_infringement_combined = np.hstack([X_infringement, reference_embeddings_infringement])"
   ]
  },
  {
   "cell_type": "code",
   "execution_count": 19,
   "metadata": {},
   "outputs": [
    {
     "name": "stdout",
     "output_type": "stream",
     "text": [
      "Data successfully split into training and test sets.\n"
     ]
    }
   ],
   "source": [
    "split_index_non_infringement = int(0.8 * len(X_non_infringement_combined))\n",
    "X_non_infringement_train = X_non_infringement_combined[:split_index_non_infringement]\n",
    "X_non_infringement_test = X_non_infringement_combined[split_index_non_infringement:]\n",
    "y_non_infringement_train = y_non_infringement[:split_index_non_infringement]\n",
    "y_non_infringement_test = y_non_infringement[split_index_non_infringement:]\n",
    "\n",
    "split_index_infringement = int(0.8 * len(X_infringement_combined))\n",
    "X_infringement_train = X_infringement_combined[:split_index_infringement]\n",
    "X_infringement_test = X_infringement_combined[split_index_infringement:]\n",
    "y_infringement_train = y_infringement[:split_index_infringement]\n",
    "y_infringement_test = y_infringement[split_index_infringement:]\n",
    "\n",
    "X_train = np.vstack((X_non_infringement_train, X_infringement_train))\n",
    "X_test = np.vstack((X_non_infringement_test, X_infringement_test))\n",
    "y_train = np.concatenate((y_non_infringement_train, y_infringement_train))\n",
    "y_test = np.concatenate((y_non_infringement_test, y_infringement_test))\n",
    "\n",
    "print(\"Data successfully split into training and test sets.\")"
   ]
  },
  {
   "cell_type": "code",
   "execution_count": 20,
   "metadata": {},
   "outputs": [
    {
     "name": "stderr",
     "output_type": "stream",
     "text": [
      "Training Epochs:   0%|          | 0/2000 [00:00<?, ?it/s]"
     ]
    },
    {
     "name": "stderr",
     "output_type": "stream",
     "text": [
      "Training Epochs:   1%|          | 20/2000 [00:00<00:33, 58.60it/s]"
     ]
    },
    {
     "name": "stdout",
     "output_type": "stream",
     "text": [
      "Epoch 10/2000, Loss: 0.5726\n",
      "Test Accuracy at Epoch 10: 58.47%\n",
      "Test F1-score at Epoch 10: 0.7135\n",
      "Classification Report at Epoch 10:\n",
      "                  precision    recall  f1-score   support\n",
      "\n",
      "    infringement       0.23      0.27      0.25        30\n",
      "non_infringement       0.73      0.69      0.71        88\n",
      "\n",
      "        accuracy                           0.58       118\n",
      "       macro avg       0.48      0.48      0.48       118\n",
      "    weighted avg       0.61      0.58      0.59       118\n",
      "\n",
      "New best model saved with F1-score 0.7135 at epoch 10\n",
      "Best Classification Report at Epoch 10:\n",
      "                  precision    recall  f1-score   support\n",
      "\n",
      "    infringement       0.23      0.27      0.25        30\n",
      "non_infringement       0.73      0.69      0.71        88\n",
      "\n",
      "        accuracy                           0.58       118\n",
      "       macro avg       0.48      0.48      0.48       118\n",
      "    weighted avg       0.61      0.58      0.59       118\n",
      "\n",
      "Epoch 20/2000, Loss: 0.5321\n",
      "Test Accuracy at Epoch 20: 62.71%\n",
      "Test F1-score at Epoch 20: 0.7556\n",
      "Classification Report at Epoch 20:\n",
      "                  precision    recall  f1-score   support\n",
      "\n",
      "    infringement       0.23      0.20      0.21        30\n",
      "non_infringement       0.74      0.77      0.76        88\n",
      "\n",
      "        accuracy                           0.63       118\n",
      "       macro avg       0.48      0.49      0.48       118\n",
      "    weighted avg       0.61      0.63      0.62       118\n",
      "\n",
      "New best model saved with F1-score 0.7556 at epoch 20\n",
      "Best Classification Report at Epoch 20:\n",
      "                  precision    recall  f1-score   support\n",
      "\n",
      "    infringement       0.23      0.20      0.21        30\n",
      "non_infringement       0.74      0.77      0.76        88\n",
      "\n",
      "        accuracy                           0.63       118\n",
      "       macro avg       0.48      0.49      0.48       118\n",
      "    weighted avg       0.61      0.63      0.62       118\n",
      "\n"
     ]
    },
    {
     "name": "stderr",
     "output_type": "stream",
     "text": [
      "Training Epochs:   2%|▏         | 37/2000 [00:00<00:30, 64.29it/s]"
     ]
    },
    {
     "name": "stdout",
     "output_type": "stream",
     "text": [
      "Epoch 30/2000, Loss: 0.4672\n",
      "Test Accuracy at Epoch 30: 72.88%\n",
      "Test F1-score at Epoch 30: 0.8431\n",
      "Classification Report at Epoch 30:\n",
      "                  precision    recall  f1-score   support\n",
      "\n",
      "    infringement       0.00      0.00      0.00        30\n",
      "non_infringement       0.74      0.98      0.84        88\n",
      "\n",
      "        accuracy                           0.73       118\n",
      "       macro avg       0.37      0.49      0.42       118\n",
      "    weighted avg       0.55      0.73      0.63       118\n",
      "\n",
      "New best model saved with F1-score 0.8431 at epoch 30\n",
      "Best Classification Report at Epoch 30:\n",
      "                  precision    recall  f1-score   support\n",
      "\n",
      "    infringement       0.00      0.00      0.00        30\n",
      "non_infringement       0.74      0.98      0.84        88\n",
      "\n",
      "        accuracy                           0.73       118\n",
      "       macro avg       0.37      0.49      0.42       118\n",
      "    weighted avg       0.55      0.73      0.63       118\n",
      "\n",
      "Epoch 40/2000, Loss: 0.4011\n",
      "Test Accuracy at Epoch 40: 67.80%\n",
      "Test F1-score at Epoch 40: 0.8000\n",
      "Classification Report at Epoch 40:\n",
      "                  precision    recall  f1-score   support\n",
      "\n",
      "    infringement       0.25      0.13      0.17        30\n",
      "non_infringement       0.75      0.86      0.80        88\n",
      "\n",
      "        accuracy                           0.68       118\n",
      "       macro avg       0.50      0.50      0.49       118\n",
      "    weighted avg       0.62      0.68      0.64       118\n",
      "\n"
     ]
    },
    {
     "name": "stderr",
     "output_type": "stream",
     "text": [
      "Training Epochs:   3%|▎         | 62/2000 [00:00<00:25, 74.67it/s]"
     ]
    },
    {
     "name": "stdout",
     "output_type": "stream",
     "text": [
      "Epoch 50/2000, Loss: 0.3694\n",
      "Test Accuracy at Epoch 50: 64.41%\n",
      "Test F1-score at Epoch 50: 0.7717\n",
      "Classification Report at Epoch 50:\n",
      "                  precision    recall  f1-score   support\n",
      "\n",
      "    infringement       0.23      0.17      0.19        30\n",
      "non_infringement       0.74      0.81      0.77        88\n",
      "\n",
      "        accuracy                           0.64       118\n",
      "       macro avg       0.48      0.49      0.48       118\n",
      "    weighted avg       0.61      0.64      0.62       118\n",
      "\n",
      "Epoch 60/2000, Loss: 0.2623\n",
      "Test Accuracy at Epoch 60: 64.41%\n",
      "Test F1-score at Epoch 60: 0.7742\n",
      "Classification Report at Epoch 60:\n",
      "                  precision    recall  f1-score   support\n",
      "\n",
      "    infringement       0.20      0.13      0.16        30\n",
      "non_infringement       0.73      0.82      0.77        88\n",
      "\n",
      "        accuracy                           0.64       118\n",
      "       macro avg       0.47      0.48      0.47       118\n",
      "    weighted avg       0.60      0.64      0.62       118\n",
      "\n"
     ]
    },
    {
     "name": "stderr",
     "output_type": "stream",
     "text": [
      "Training Epochs:   4%|▍         | 78/2000 [00:01<00:33, 58.15it/s]"
     ]
    },
    {
     "name": "stdout",
     "output_type": "stream",
     "text": [
      "Epoch 70/2000, Loss: 0.1936\n",
      "Test Accuracy at Epoch 70: 66.95%\n",
      "Test F1-score at Epoch 70: 0.7958\n",
      "Classification Report at Epoch 70:\n",
      "                  precision    recall  f1-score   support\n",
      "\n",
      "    infringement       0.20      0.10      0.13        30\n",
      "non_infringement       0.74      0.86      0.80        88\n",
      "\n",
      "        accuracy                           0.67       118\n",
      "       macro avg       0.47      0.48      0.46       118\n",
      "    weighted avg       0.60      0.67      0.63       118\n",
      "\n",
      "Epoch 80/2000, Loss: 0.1203\n",
      "Test Accuracy at Epoch 80: 66.95%\n",
      "Test F1-score at Epoch 80: 0.7958\n",
      "Classification Report at Epoch 80:\n",
      "                  precision    recall  f1-score   support\n",
      "\n",
      "    infringement       0.20      0.10      0.13        30\n",
      "non_infringement       0.74      0.86      0.80        88\n",
      "\n",
      "        accuracy                           0.67       118\n",
      "       macro avg       0.47      0.48      0.46       118\n",
      "    weighted avg       0.60      0.67      0.63       118\n",
      "\n"
     ]
    },
    {
     "name": "stderr",
     "output_type": "stream",
     "text": [
      "Training Epochs:   5%|▌         | 103/2000 [00:01<00:27, 69.31it/s]"
     ]
    },
    {
     "name": "stdout",
     "output_type": "stream",
     "text": [
      "Epoch 90/2000, Loss: 0.2003\n",
      "Test Accuracy at Epoch 90: 65.25%\n",
      "Test F1-score at Epoch 90: 0.7735\n",
      "Classification Report at Epoch 90:\n",
      "                  precision    recall  f1-score   support\n",
      "\n",
      "    infringement       0.28      0.23      0.25        30\n",
      "non_infringement       0.75      0.80      0.77        88\n",
      "\n",
      "        accuracy                           0.65       118\n",
      "       macro avg       0.52      0.51      0.51       118\n",
      "    weighted avg       0.63      0.65      0.64       118\n",
      "\n",
      "Epoch 100/2000, Loss: 0.1996\n",
      "Test Accuracy at Epoch 100: 66.10%\n",
      "Test F1-score at Epoch 100: 0.7872\n",
      "Classification Report at Epoch 100:\n",
      "                  precision    recall  f1-score   support\n",
      "\n",
      "    infringement       0.22      0.13      0.17        30\n",
      "non_infringement       0.74      0.84      0.79        88\n",
      "\n",
      "        accuracy                           0.66       118\n",
      "       macro avg       0.48      0.49      0.48       118\n",
      "    weighted avg       0.61      0.66      0.63       118\n",
      "\n"
     ]
    },
    {
     "name": "stderr",
     "output_type": "stream",
     "text": [
      "Training Epochs:   6%|▌         | 120/2000 [00:01<00:26, 71.59it/s]"
     ]
    },
    {
     "name": "stdout",
     "output_type": "stream",
     "text": [
      "Epoch 110/2000, Loss: 0.1169\n",
      "Test Accuracy at Epoch 110: 66.10%\n",
      "Test F1-score at Epoch 110: 0.7872\n",
      "Classification Report at Epoch 110:\n",
      "                  precision    recall  f1-score   support\n",
      "\n",
      "    infringement       0.22      0.13      0.17        30\n",
      "non_infringement       0.74      0.84      0.79        88\n",
      "\n",
      "        accuracy                           0.66       118\n",
      "       macro avg       0.48      0.49      0.48       118\n",
      "    weighted avg       0.61      0.66      0.63       118\n",
      "\n",
      "Epoch 120/2000, Loss: 0.0732\n",
      "Test Accuracy at Epoch 120: 66.10%\n",
      "Test F1-score at Epoch 120: 0.7872\n",
      "Classification Report at Epoch 120:\n",
      "                  precision    recall  f1-score   support\n",
      "\n",
      "    infringement       0.22      0.13      0.17        30\n",
      "non_infringement       0.74      0.84      0.79        88\n",
      "\n",
      "        accuracy                           0.66       118\n",
      "       macro avg       0.48      0.49      0.48       118\n",
      "    weighted avg       0.61      0.66      0.63       118\n",
      "\n"
     ]
    },
    {
     "name": "stderr",
     "output_type": "stream",
     "text": [
      "Training Epochs:   6%|▋         | 128/2000 [00:01<00:25, 73.76it/s]"
     ]
    },
    {
     "name": "stdout",
     "output_type": "stream",
     "text": [
      "Epoch 130/2000, Loss: 0.0442\n",
      "Test Accuracy at Epoch 130: 66.10%\n",
      "Test F1-score at Epoch 130: 0.7872\n",
      "Classification Report at Epoch 130:\n",
      "                  precision    recall  f1-score   support\n",
      "\n",
      "    infringement       0.22      0.13      0.17        30\n",
      "non_infringement       0.74      0.84      0.79        88\n",
      "\n",
      "        accuracy                           0.66       118\n",
      "       macro avg       0.48      0.49      0.48       118\n",
      "    weighted avg       0.61      0.66      0.63       118\n",
      "\n"
     ]
    },
    {
     "name": "stderr",
     "output_type": "stream",
     "text": [
      "Training Epochs:   8%|▊         | 150/2000 [00:03<00:57, 32.33it/s]"
     ]
    },
    {
     "name": "stdout",
     "output_type": "stream",
     "text": [
      "Epoch 140/2000, Loss: 0.0267\n",
      "Test Accuracy at Epoch 140: 66.10%\n",
      "Test F1-score at Epoch 140: 0.7872\n",
      "Classification Report at Epoch 140:\n",
      "                  precision    recall  f1-score   support\n",
      "\n",
      "    infringement       0.22      0.13      0.17        30\n",
      "non_infringement       0.74      0.84      0.79        88\n",
      "\n",
      "        accuracy                           0.66       118\n",
      "       macro avg       0.48      0.49      0.48       118\n",
      "    weighted avg       0.61      0.66      0.63       118\n",
      "\n",
      "Epoch 150/2000, Loss: 0.0164\n",
      "Test Accuracy at Epoch 150: 65.25%\n",
      "Test F1-score at Epoch 150: 0.7807\n",
      "Classification Report at Epoch 150:\n",
      "                  precision    recall  f1-score   support\n",
      "\n",
      "    infringement       0.21      0.13      0.16        30\n",
      "non_infringement       0.74      0.83      0.78        88\n",
      "\n",
      "        accuracy                           0.65       118\n",
      "       macro avg       0.47      0.48      0.47       118\n",
      "    weighted avg       0.60      0.65      0.62       118\n",
      "\n"
     ]
    },
    {
     "name": "stderr",
     "output_type": "stream",
     "text": [
      "Training Epochs:   8%|▊         | 166/2000 [00:03<00:41, 43.91it/s]"
     ]
    },
    {
     "name": "stdout",
     "output_type": "stream",
     "text": [
      "Epoch 160/2000, Loss: 0.0111\n",
      "Test Accuracy at Epoch 160: 66.10%\n",
      "Test F1-score at Epoch 160: 0.7849\n",
      "Classification Report at Epoch 160:\n",
      "                  precision    recall  f1-score   support\n",
      "\n",
      "    infringement       0.25      0.17      0.20        30\n",
      "non_infringement       0.74      0.83      0.78        88\n",
      "\n",
      "        accuracy                           0.66       118\n",
      "       macro avg       0.50      0.50      0.49       118\n",
      "    weighted avg       0.62      0.66      0.64       118\n",
      "\n",
      "Epoch 170/2000, Loss: 0.0085\n",
      "Test Accuracy at Epoch 170: 65.25%\n",
      "Test F1-score at Epoch 170: 0.7807\n",
      "Classification Report at Epoch 170:\n",
      "                  precision    recall  f1-score   support\n",
      "\n",
      "    infringement       0.21      0.13      0.16        30\n",
      "non_infringement       0.74      0.83      0.78        88\n",
      "\n",
      "        accuracy                           0.65       118\n",
      "       macro avg       0.47      0.48      0.47       118\n",
      "    weighted avg       0.60      0.65      0.62       118\n",
      "\n"
     ]
    },
    {
     "name": "stderr",
     "output_type": "stream",
     "text": [
      "Training Epochs:   9%|▉         | 179/2000 [00:03<00:38, 47.07it/s]"
     ]
    },
    {
     "name": "stdout",
     "output_type": "stream",
     "text": [
      "Epoch 180/2000, Loss: 0.0070\n",
      "Test Accuracy at Epoch 180: 65.25%\n",
      "Test F1-score at Epoch 180: 0.7807\n",
      "Classification Report at Epoch 180:\n",
      "                  precision    recall  f1-score   support\n",
      "\n",
      "    infringement       0.21      0.13      0.16        30\n",
      "non_infringement       0.74      0.83      0.78        88\n",
      "\n",
      "        accuracy                           0.65       118\n",
      "       macro avg       0.47      0.48      0.47       118\n",
      "    weighted avg       0.60      0.65      0.62       118\n",
      "\n"
     ]
    },
    {
     "name": "stderr",
     "output_type": "stream",
     "text": [
      "Training Epochs:  10%|▉         | 199/2000 [00:04<00:40, 44.07it/s]"
     ]
    },
    {
     "name": "stdout",
     "output_type": "stream",
     "text": [
      "Epoch 190/2000, Loss: 0.0061\n",
      "Test Accuracy at Epoch 190: 65.25%\n",
      "Test F1-score at Epoch 190: 0.7807\n",
      "Classification Report at Epoch 190:\n",
      "                  precision    recall  f1-score   support\n",
      "\n",
      "    infringement       0.21      0.13      0.16        30\n",
      "non_infringement       0.74      0.83      0.78        88\n",
      "\n",
      "        accuracy                           0.65       118\n",
      "       macro avg       0.47      0.48      0.47       118\n",
      "    weighted avg       0.60      0.65      0.62       118\n",
      "\n",
      "Epoch 200/2000, Loss: 0.0055\n",
      "Test Accuracy at Epoch 200: 65.25%\n",
      "Test F1-score at Epoch 200: 0.7807\n",
      "Classification Report at Epoch 200:\n",
      "                  precision    recall  f1-score   support\n",
      "\n",
      "    infringement       0.21      0.13      0.16        30\n",
      "non_infringement       0.74      0.83      0.78        88\n",
      "\n",
      "        accuracy                           0.65       118\n",
      "       macro avg       0.47      0.48      0.47       118\n",
      "    weighted avg       0.60      0.65      0.62       118\n",
      "\n"
     ]
    },
    {
     "name": "stderr",
     "output_type": "stream",
     "text": [
      "Training Epochs:  11%|█         | 222/2000 [00:04<00:28, 62.86it/s]"
     ]
    },
    {
     "name": "stdout",
     "output_type": "stream",
     "text": [
      "Epoch 210/2000, Loss: 0.0051\n",
      "Test Accuracy at Epoch 210: 65.25%\n",
      "Test F1-score at Epoch 210: 0.7807\n",
      "Classification Report at Epoch 210:\n",
      "                  precision    recall  f1-score   support\n",
      "\n",
      "    infringement       0.21      0.13      0.16        30\n",
      "non_infringement       0.74      0.83      0.78        88\n",
      "\n",
      "        accuracy                           0.65       118\n",
      "       macro avg       0.47      0.48      0.47       118\n",
      "    weighted avg       0.60      0.65      0.62       118\n",
      "\n",
      "Epoch 220/2000, Loss: 0.0048\n",
      "Test Accuracy at Epoch 220: 65.25%\n",
      "Test F1-score at Epoch 220: 0.7807\n",
      "Classification Report at Epoch 220:\n",
      "                  precision    recall  f1-score   support\n",
      "\n",
      "    infringement       0.21      0.13      0.16        30\n",
      "non_infringement       0.74      0.83      0.78        88\n",
      "\n",
      "        accuracy                           0.65       118\n",
      "       macro avg       0.47      0.48      0.47       118\n",
      "    weighted avg       0.60      0.65      0.62       118\n",
      "\n"
     ]
    },
    {
     "name": "stderr",
     "output_type": "stream",
     "text": [
      "Training Epochs:  12%|█▏        | 240/2000 [00:04<00:24, 71.32it/s]"
     ]
    },
    {
     "name": "stdout",
     "output_type": "stream",
     "text": [
      "Epoch 230/2000, Loss: 0.0045\n",
      "Test Accuracy at Epoch 230: 65.25%\n",
      "Test F1-score at Epoch 230: 0.7807\n",
      "Classification Report at Epoch 230:\n",
      "                  precision    recall  f1-score   support\n",
      "\n",
      "    infringement       0.21      0.13      0.16        30\n",
      "non_infringement       0.74      0.83      0.78        88\n",
      "\n",
      "        accuracy                           0.65       118\n",
      "       macro avg       0.47      0.48      0.47       118\n",
      "    weighted avg       0.60      0.65      0.62       118\n",
      "\n",
      "Epoch 240/2000, Loss: 0.0043\n",
      "Test Accuracy at Epoch 240: 65.25%\n",
      "Test F1-score at Epoch 240: 0.7807\n",
      "Classification Report at Epoch 240:\n",
      "                  precision    recall  f1-score   support\n",
      "\n",
      "    infringement       0.21      0.13      0.16        30\n",
      "non_infringement       0.74      0.83      0.78        88\n",
      "\n",
      "        accuracy                           0.65       118\n",
      "       macro avg       0.47      0.48      0.47       118\n",
      "    weighted avg       0.60      0.65      0.62       118\n",
      "\n"
     ]
    },
    {
     "name": "stderr",
     "output_type": "stream",
     "text": [
      "Training Epochs:  13%|█▎        | 256/2000 [00:04<00:26, 66.47it/s]"
     ]
    },
    {
     "name": "stdout",
     "output_type": "stream",
     "text": [
      "Epoch 250/2000, Loss: 0.0042\n",
      "Test Accuracy at Epoch 250: 65.25%\n",
      "Test F1-score at Epoch 250: 0.7807\n",
      "Classification Report at Epoch 250:\n",
      "                  precision    recall  f1-score   support\n",
      "\n",
      "    infringement       0.21      0.13      0.16        30\n",
      "non_infringement       0.74      0.83      0.78        88\n",
      "\n",
      "        accuracy                           0.65       118\n",
      "       macro avg       0.47      0.48      0.47       118\n",
      "    weighted avg       0.60      0.65      0.62       118\n",
      "\n",
      "Epoch 260/2000, Loss: 0.0041\n",
      "Test Accuracy at Epoch 260: 65.25%\n",
      "Test F1-score at Epoch 260: 0.7807\n",
      "Classification Report at Epoch 260:\n",
      "                  precision    recall  f1-score   support\n",
      "\n",
      "    infringement       0.21      0.13      0.16        30\n",
      "non_infringement       0.74      0.83      0.78        88\n",
      "\n",
      "        accuracy                           0.65       118\n",
      "       macro avg       0.47      0.48      0.47       118\n",
      "    weighted avg       0.60      0.65      0.62       118\n",
      "\n"
     ]
    },
    {
     "name": "stderr",
     "output_type": "stream",
     "text": [
      "Training Epochs:  14%|█▍        | 283/2000 [00:05<00:21, 79.73it/s]"
     ]
    },
    {
     "name": "stdout",
     "output_type": "stream",
     "text": [
      "Epoch 270/2000, Loss: 0.0039\n",
      "Test Accuracy at Epoch 270: 65.25%\n",
      "Test F1-score at Epoch 270: 0.7807\n",
      "Classification Report at Epoch 270:\n",
      "                  precision    recall  f1-score   support\n",
      "\n",
      "    infringement       0.21      0.13      0.16        30\n",
      "non_infringement       0.74      0.83      0.78        88\n",
      "\n",
      "        accuracy                           0.65       118\n",
      "       macro avg       0.47      0.48      0.47       118\n",
      "    weighted avg       0.60      0.65      0.62       118\n",
      "\n",
      "Epoch 280/2000, Loss: 0.0039\n",
      "Test Accuracy at Epoch 280: 65.25%\n",
      "Test F1-score at Epoch 280: 0.7807\n",
      "Classification Report at Epoch 280:\n",
      "                  precision    recall  f1-score   support\n",
      "\n",
      "    infringement       0.21      0.13      0.16        30\n",
      "non_infringement       0.74      0.83      0.78        88\n",
      "\n",
      "        accuracy                           0.65       118\n",
      "       macro avg       0.47      0.48      0.47       118\n",
      "    weighted avg       0.60      0.65      0.62       118\n",
      "\n"
     ]
    },
    {
     "name": "stderr",
     "output_type": "stream",
     "text": [
      "Training Epochs:  15%|█▌        | 301/2000 [00:05<00:20, 82.41it/s]"
     ]
    },
    {
     "name": "stdout",
     "output_type": "stream",
     "text": [
      "Epoch 290/2000, Loss: 0.0038\n",
      "Test Accuracy at Epoch 290: 65.25%\n",
      "Test F1-score at Epoch 290: 0.7807\n",
      "Classification Report at Epoch 290:\n",
      "                  precision    recall  f1-score   support\n",
      "\n",
      "    infringement       0.21      0.13      0.16        30\n",
      "non_infringement       0.74      0.83      0.78        88\n",
      "\n",
      "        accuracy                           0.65       118\n",
      "       macro avg       0.47      0.48      0.47       118\n",
      "    weighted avg       0.60      0.65      0.62       118\n",
      "\n",
      "Epoch 300/2000, Loss: 0.0037\n",
      "Test Accuracy at Epoch 300: 65.25%\n",
      "Test F1-score at Epoch 300: 0.7807\n",
      "Classification Report at Epoch 300:\n",
      "                  precision    recall  f1-score   support\n",
      "\n",
      "    infringement       0.21      0.13      0.16        30\n",
      "non_infringement       0.74      0.83      0.78        88\n",
      "\n",
      "        accuracy                           0.65       118\n",
      "       macro avg       0.47      0.48      0.47       118\n",
      "    weighted avg       0.60      0.65      0.62       118\n",
      "\n"
     ]
    },
    {
     "name": "stderr",
     "output_type": "stream",
     "text": [
      "Training Epochs:  16%|█▌        | 320/2000 [00:05<00:19, 84.99it/s]"
     ]
    },
    {
     "name": "stdout",
     "output_type": "stream",
     "text": [
      "Epoch 310/2000, Loss: 0.0036\n",
      "Test Accuracy at Epoch 310: 65.25%\n",
      "Test F1-score at Epoch 310: 0.7807\n",
      "Classification Report at Epoch 310:\n",
      "                  precision    recall  f1-score   support\n",
      "\n",
      "    infringement       0.21      0.13      0.16        30\n",
      "non_infringement       0.74      0.83      0.78        88\n",
      "\n",
      "        accuracy                           0.65       118\n",
      "       macro avg       0.47      0.48      0.47       118\n",
      "    weighted avg       0.60      0.65      0.62       118\n",
      "\n",
      "Epoch 320/2000, Loss: 0.0036\n",
      "Test Accuracy at Epoch 320: 65.25%\n",
      "Test F1-score at Epoch 320: 0.7807\n",
      "Classification Report at Epoch 320:\n",
      "                  precision    recall  f1-score   support\n",
      "\n",
      "    infringement       0.21      0.13      0.16        30\n",
      "non_infringement       0.74      0.83      0.78        88\n",
      "\n",
      "        accuracy                           0.65       118\n",
      "       macro avg       0.47      0.48      0.47       118\n",
      "    weighted avg       0.60      0.65      0.62       118\n",
      "\n"
     ]
    },
    {
     "name": "stderr",
     "output_type": "stream",
     "text": [
      "Training Epochs:  17%|█▋        | 347/2000 [00:06<00:21, 77.39it/s]"
     ]
    },
    {
     "name": "stdout",
     "output_type": "stream",
     "text": [
      "Epoch 330/2000, Loss: 0.0035\n",
      "Test Accuracy at Epoch 330: 65.25%\n",
      "Test F1-score at Epoch 330: 0.7807\n",
      "Classification Report at Epoch 330:\n",
      "                  precision    recall  f1-score   support\n",
      "\n",
      "    infringement       0.21      0.13      0.16        30\n",
      "non_infringement       0.74      0.83      0.78        88\n",
      "\n",
      "        accuracy                           0.65       118\n",
      "       macro avg       0.47      0.48      0.47       118\n",
      "    weighted avg       0.60      0.65      0.62       118\n",
      "\n",
      "Epoch 340/2000, Loss: 0.0035\n",
      "Test Accuracy at Epoch 340: 65.25%\n",
      "Test F1-score at Epoch 340: 0.7807\n",
      "Classification Report at Epoch 340:\n",
      "                  precision    recall  f1-score   support\n",
      "\n",
      "    infringement       0.21      0.13      0.16        30\n",
      "non_infringement       0.74      0.83      0.78        88\n",
      "\n",
      "        accuracy                           0.65       118\n",
      "       macro avg       0.47      0.48      0.47       118\n",
      "    weighted avg       0.60      0.65      0.62       118\n",
      "\n"
     ]
    },
    {
     "name": "stderr",
     "output_type": "stream",
     "text": [
      "Training Epochs:  18%|█▊        | 365/2000 [00:06<00:19, 81.81it/s]"
     ]
    },
    {
     "name": "stdout",
     "output_type": "stream",
     "text": [
      "Epoch 350/2000, Loss: 0.0035\n",
      "Test Accuracy at Epoch 350: 65.25%\n",
      "Test F1-score at Epoch 350: 0.7807\n",
      "Classification Report at Epoch 350:\n",
      "                  precision    recall  f1-score   support\n",
      "\n",
      "    infringement       0.21      0.13      0.16        30\n",
      "non_infringement       0.74      0.83      0.78        88\n",
      "\n",
      "        accuracy                           0.65       118\n",
      "       macro avg       0.47      0.48      0.47       118\n",
      "    weighted avg       0.60      0.65      0.62       118\n",
      "\n",
      "Epoch 360/2000, Loss: 0.0034\n",
      "Test Accuracy at Epoch 360: 65.25%\n",
      "Test F1-score at Epoch 360: 0.7807\n",
      "Classification Report at Epoch 360:\n",
      "                  precision    recall  f1-score   support\n",
      "\n",
      "    infringement       0.21      0.13      0.16        30\n",
      "non_infringement       0.74      0.83      0.78        88\n",
      "\n",
      "        accuracy                           0.65       118\n",
      "       macro avg       0.47      0.48      0.47       118\n",
      "    weighted avg       0.60      0.65      0.62       118\n",
      "\n"
     ]
    },
    {
     "name": "stderr",
     "output_type": "stream",
     "text": [
      "Training Epochs:  19%|█▉        | 383/2000 [00:06<00:19, 84.97it/s]"
     ]
    },
    {
     "name": "stdout",
     "output_type": "stream",
     "text": [
      "Epoch 370/2000, Loss: 0.0034\n",
      "Test Accuracy at Epoch 370: 65.25%\n",
      "Test F1-score at Epoch 370: 0.7807\n",
      "Classification Report at Epoch 370:\n",
      "                  precision    recall  f1-score   support\n",
      "\n",
      "    infringement       0.21      0.13      0.16        30\n",
      "non_infringement       0.74      0.83      0.78        88\n",
      "\n",
      "        accuracy                           0.65       118\n",
      "       macro avg       0.47      0.48      0.47       118\n",
      "    weighted avg       0.60      0.65      0.62       118\n",
      "\n",
      "Epoch 380/2000, Loss: 0.0034\n",
      "Test Accuracy at Epoch 380: 65.25%\n",
      "Test F1-score at Epoch 380: 0.7807\n",
      "Classification Report at Epoch 380:\n",
      "                  precision    recall  f1-score   support\n",
      "\n",
      "    infringement       0.21      0.13      0.16        30\n",
      "non_infringement       0.74      0.83      0.78        88\n",
      "\n",
      "        accuracy                           0.65       118\n",
      "       macro avg       0.47      0.48      0.47       118\n",
      "    weighted avg       0.60      0.65      0.62       118\n",
      "\n"
     ]
    },
    {
     "name": "stderr",
     "output_type": "stream",
     "text": [
      "Training Epochs:  20%|██        | 401/2000 [00:06<00:18, 84.56it/s]"
     ]
    },
    {
     "name": "stdout",
     "output_type": "stream",
     "text": [
      "Epoch 390/2000, Loss: 0.0034\n",
      "Test Accuracy at Epoch 390: 65.25%\n",
      "Test F1-score at Epoch 390: 0.7807\n",
      "Classification Report at Epoch 390:\n",
      "                  precision    recall  f1-score   support\n",
      "\n",
      "    infringement       0.21      0.13      0.16        30\n",
      "non_infringement       0.74      0.83      0.78        88\n",
      "\n",
      "        accuracy                           0.65       118\n",
      "       macro avg       0.47      0.48      0.47       118\n",
      "    weighted avg       0.60      0.65      0.62       118\n",
      "\n",
      "Epoch 400/2000, Loss: 0.0033\n",
      "Test Accuracy at Epoch 400: 65.25%\n",
      "Test F1-score at Epoch 400: 0.7807\n",
      "Classification Report at Epoch 400:\n",
      "                  precision    recall  f1-score   support\n",
      "\n",
      "    infringement       0.21      0.13      0.16        30\n",
      "non_infringement       0.74      0.83      0.78        88\n",
      "\n",
      "        accuracy                           0.65       118\n",
      "       macro avg       0.47      0.48      0.47       118\n",
      "    weighted avg       0.60      0.65      0.62       118\n",
      "\n"
     ]
    },
    {
     "name": "stderr",
     "output_type": "stream",
     "text": [
      "Training Epochs:  21%|██        | 420/2000 [00:06<00:18, 85.07it/s]"
     ]
    },
    {
     "name": "stdout",
     "output_type": "stream",
     "text": [
      "Epoch 410/2000, Loss: 0.0033\n",
      "Test Accuracy at Epoch 410: 65.25%\n",
      "Test F1-score at Epoch 410: 0.7807\n",
      "Classification Report at Epoch 410:\n",
      "                  precision    recall  f1-score   support\n",
      "\n",
      "    infringement       0.21      0.13      0.16        30\n",
      "non_infringement       0.74      0.83      0.78        88\n",
      "\n",
      "        accuracy                           0.65       118\n",
      "       macro avg       0.47      0.48      0.47       118\n",
      "    weighted avg       0.60      0.65      0.62       118\n",
      "\n",
      "Epoch 420/2000, Loss: 0.0033\n",
      "Test Accuracy at Epoch 420: 65.25%\n",
      "Test F1-score at Epoch 420: 0.7807\n",
      "Classification Report at Epoch 420:\n",
      "                  precision    recall  f1-score   support\n",
      "\n",
      "    infringement       0.21      0.13      0.16        30\n",
      "non_infringement       0.74      0.83      0.78        88\n",
      "\n",
      "        accuracy                           0.65       118\n",
      "       macro avg       0.47      0.48      0.47       118\n",
      "    weighted avg       0.60      0.65      0.62       118\n",
      "\n"
     ]
    },
    {
     "name": "stderr",
     "output_type": "stream",
     "text": [
      "Training Epochs:  22%|██▏       | 440/2000 [00:07<00:17, 88.29it/s]"
     ]
    },
    {
     "name": "stdout",
     "output_type": "stream",
     "text": [
      "Epoch 430/2000, Loss: 0.0033\n",
      "Test Accuracy at Epoch 430: 65.25%\n",
      "Test F1-score at Epoch 430: 0.7807\n",
      "Classification Report at Epoch 430:\n",
      "                  precision    recall  f1-score   support\n",
      "\n",
      "    infringement       0.21      0.13      0.16        30\n",
      "non_infringement       0.74      0.83      0.78        88\n",
      "\n",
      "        accuracy                           0.65       118\n",
      "       macro avg       0.47      0.48      0.47       118\n",
      "    weighted avg       0.60      0.65      0.62       118\n",
      "\n",
      "Epoch 440/2000, Loss: 0.0033\n",
      "Test Accuracy at Epoch 440: 65.25%\n",
      "Test F1-score at Epoch 440: 0.7807\n",
      "Classification Report at Epoch 440:\n",
      "                  precision    recall  f1-score   support\n",
      "\n",
      "    infringement       0.21      0.13      0.16        30\n",
      "non_infringement       0.74      0.83      0.78        88\n",
      "\n",
      "        accuracy                           0.65       118\n",
      "       macro avg       0.47      0.48      0.47       118\n",
      "    weighted avg       0.60      0.65      0.62       118\n",
      "\n"
     ]
    },
    {
     "name": "stderr",
     "output_type": "stream",
     "text": [
      "Training Epochs:  23%|██▎       | 467/2000 [00:07<00:17, 86.31it/s]"
     ]
    },
    {
     "name": "stdout",
     "output_type": "stream",
     "text": [
      "Epoch 450/2000, Loss: 0.0032\n",
      "Test Accuracy at Epoch 450: 65.25%\n",
      "Test F1-score at Epoch 450: 0.7807\n",
      "Classification Report at Epoch 450:\n",
      "                  precision    recall  f1-score   support\n",
      "\n",
      "    infringement       0.21      0.13      0.16        30\n",
      "non_infringement       0.74      0.83      0.78        88\n",
      "\n",
      "        accuracy                           0.65       118\n",
      "       macro avg       0.47      0.48      0.47       118\n",
      "    weighted avg       0.60      0.65      0.62       118\n",
      "\n",
      "Epoch 460/2000, Loss: 0.0032\n",
      "Test Accuracy at Epoch 460: 65.25%\n",
      "Test F1-score at Epoch 460: 0.7807\n",
      "Classification Report at Epoch 460:\n",
      "                  precision    recall  f1-score   support\n",
      "\n",
      "    infringement       0.21      0.13      0.16        30\n",
      "non_infringement       0.74      0.83      0.78        88\n",
      "\n",
      "        accuracy                           0.65       118\n",
      "       macro avg       0.47      0.48      0.47       118\n",
      "    weighted avg       0.60      0.65      0.62       118\n",
      "\n"
     ]
    },
    {
     "name": "stderr",
     "output_type": "stream",
     "text": [
      "Training Epochs:  24%|██▍       | 477/2000 [00:07<00:17, 88.85it/s]"
     ]
    },
    {
     "name": "stdout",
     "output_type": "stream",
     "text": [
      "Epoch 470/2000, Loss: 0.0032\n",
      "Test Accuracy at Epoch 470: 65.25%\n",
      "Test F1-score at Epoch 470: 0.7807\n",
      "Classification Report at Epoch 470:\n",
      "                  precision    recall  f1-score   support\n",
      "\n",
      "    infringement       0.21      0.13      0.16        30\n",
      "non_infringement       0.74      0.83      0.78        88\n",
      "\n",
      "        accuracy                           0.65       118\n",
      "       macro avg       0.47      0.48      0.47       118\n",
      "    weighted avg       0.60      0.65      0.62       118\n",
      "\n",
      "Epoch 480/2000, Loss: 0.0032\n",
      "Test Accuracy at Epoch 480: 65.25%\n",
      "Test F1-score at Epoch 480: 0.7807\n",
      "Classification Report at Epoch 480:\n",
      "                  precision    recall  f1-score   support\n",
      "\n",
      "    infringement       0.21      0.13      0.16        30\n",
      "non_infringement       0.74      0.83      0.78        88\n",
      "\n",
      "        accuracy                           0.65       118\n",
      "       macro avg       0.47      0.48      0.47       118\n",
      "    weighted avg       0.60      0.65      0.62       118\n",
      "\n"
     ]
    },
    {
     "name": "stderr",
     "output_type": "stream",
     "text": [
      "Training Epochs:  25%|██▌       | 503/2000 [00:08<00:39, 37.73it/s]"
     ]
    },
    {
     "name": "stdout",
     "output_type": "stream",
     "text": [
      "Epoch 490/2000, Loss: 0.0032\n",
      "Test Accuracy at Epoch 490: 65.25%\n",
      "Test F1-score at Epoch 490: 0.7807\n",
      "Classification Report at Epoch 490:\n",
      "                  precision    recall  f1-score   support\n",
      "\n",
      "    infringement       0.21      0.13      0.16        30\n",
      "non_infringement       0.74      0.83      0.78        88\n",
      "\n",
      "        accuracy                           0.65       118\n",
      "       macro avg       0.47      0.48      0.47       118\n",
      "    weighted avg       0.60      0.65      0.62       118\n",
      "\n",
      "Epoch 500/2000, Loss: 0.0032\n",
      "Test Accuracy at Epoch 500: 65.25%\n",
      "Test F1-score at Epoch 500: 0.7807\n",
      "Classification Report at Epoch 500:\n",
      "                  precision    recall  f1-score   support\n",
      "\n",
      "    infringement       0.21      0.13      0.16        30\n",
      "non_infringement       0.74      0.83      0.78        88\n",
      "\n",
      "        accuracy                           0.65       118\n",
      "       macro avg       0.47      0.48      0.47       118\n",
      "    weighted avg       0.60      0.65      0.62       118\n",
      "\n"
     ]
    },
    {
     "name": "stderr",
     "output_type": "stream",
     "text": [
      "Training Epochs:  26%|██▌       | 518/2000 [00:09<00:34, 42.95it/s]"
     ]
    },
    {
     "name": "stdout",
     "output_type": "stream",
     "text": [
      "Epoch 510/2000, Loss: 0.0032\n",
      "Test Accuracy at Epoch 510: 65.25%\n",
      "Test F1-score at Epoch 510: 0.7807\n",
      "Classification Report at Epoch 510:\n",
      "                  precision    recall  f1-score   support\n",
      "\n",
      "    infringement       0.21      0.13      0.16        30\n",
      "non_infringement       0.74      0.83      0.78        88\n",
      "\n",
      "        accuracy                           0.65       118\n",
      "       macro avg       0.47      0.48      0.47       118\n",
      "    weighted avg       0.60      0.65      0.62       118\n",
      "\n",
      "Epoch 520/2000, Loss: 0.0032\n",
      "Test Accuracy at Epoch 520: 65.25%\n",
      "Test F1-score at Epoch 520: 0.7807\n",
      "Classification Report at Epoch 520:\n",
      "                  precision    recall  f1-score   support\n",
      "\n",
      "    infringement       0.21      0.13      0.16        30\n",
      "non_infringement       0.74      0.83      0.78        88\n",
      "\n",
      "        accuracy                           0.65       118\n",
      "       macro avg       0.47      0.48      0.47       118\n",
      "    weighted avg       0.60      0.65      0.62       118\n",
      "\n"
     ]
    },
    {
     "name": "stderr",
     "output_type": "stream",
     "text": [
      "Training Epochs:  27%|██▋       | 538/2000 [00:09<00:31, 47.06it/s]"
     ]
    },
    {
     "name": "stdout",
     "output_type": "stream",
     "text": [
      "Epoch 530/2000, Loss: 0.0032\n",
      "Test Accuracy at Epoch 530: 65.25%\n",
      "Test F1-score at Epoch 530: 0.7807\n",
      "Classification Report at Epoch 530:\n",
      "                  precision    recall  f1-score   support\n",
      "\n",
      "    infringement       0.21      0.13      0.16        30\n",
      "non_infringement       0.74      0.83      0.78        88\n",
      "\n",
      "        accuracy                           0.65       118\n",
      "       macro avg       0.47      0.48      0.47       118\n",
      "    weighted avg       0.60      0.65      0.62       118\n",
      "\n",
      "Epoch 540/2000, Loss: 0.0031\n",
      "Test Accuracy at Epoch 540: 65.25%\n",
      "Test F1-score at Epoch 540: 0.7807\n"
     ]
    },
    {
     "name": "stderr",
     "output_type": "stream",
     "text": [
      "Training Epochs:  27%|██▋       | 544/2000 [00:09<00:32, 44.68it/s]"
     ]
    },
    {
     "name": "stdout",
     "output_type": "stream",
     "text": [
      "Classification Report at Epoch 540:\n",
      "                  precision    recall  f1-score   support\n",
      "\n",
      "    infringement       0.21      0.13      0.16        30\n",
      "non_infringement       0.74      0.83      0.78        88\n",
      "\n",
      "        accuracy                           0.65       118\n",
      "       macro avg       0.47      0.48      0.47       118\n",
      "    weighted avg       0.60      0.65      0.62       118\n",
      "\n"
     ]
    },
    {
     "name": "stderr",
     "output_type": "stream",
     "text": [
      "Training Epochs:  28%|██▊       | 550/2000 [00:09<00:32, 44.18it/s]"
     ]
    },
    {
     "name": "stdout",
     "output_type": "stream",
     "text": [
      "Epoch 550/2000, Loss: 0.0031\n",
      "Test Accuracy at Epoch 550: 65.25%\n",
      "Test F1-score at Epoch 550: 0.7807\n",
      "Classification Report at Epoch 550:\n",
      "                  precision    recall  f1-score   support\n",
      "\n",
      "    infringement       0.21      0.13      0.16        30\n",
      "non_infringement       0.74      0.83      0.78        88\n",
      "\n",
      "        accuracy                           0.65       118\n",
      "       macro avg       0.47      0.48      0.47       118\n",
      "    weighted avg       0.60      0.65      0.62       118\n",
      "\n"
     ]
    },
    {
     "name": "stderr",
     "output_type": "stream",
     "text": [
      "Training Epochs:  28%|██▊       | 559/2000 [00:10<01:24, 17.03it/s]"
     ]
    },
    {
     "name": "stdout",
     "output_type": "stream",
     "text": [
      "Epoch 560/2000, Loss: 0.0033\n",
      "Test Accuracy at Epoch 560: 65.25%\n",
      "Test F1-score at Epoch 560: 0.7807\n",
      "Classification Report at Epoch 560:\n",
      "                  precision    recall  f1-score   support\n",
      "\n",
      "    infringement       0.21      0.13      0.16        30\n",
      "non_infringement       0.74      0.83      0.78        88\n",
      "\n",
      "        accuracy                           0.65       118\n",
      "       macro avg       0.47      0.48      0.47       118\n",
      "    weighted avg       0.60      0.65      0.62       118\n",
      "\n"
     ]
    },
    {
     "name": "stderr",
     "output_type": "stream",
     "text": [
      "Training Epochs:  28%|██▊       | 568/2000 [00:11<01:19, 17.97it/s]"
     ]
    },
    {
     "name": "stdout",
     "output_type": "stream",
     "text": [
      "Epoch 570/2000, Loss: 0.0031\n",
      "Test Accuracy at Epoch 570: 65.25%\n",
      "Test F1-score at Epoch 570: 0.7807\n",
      "Classification Report at Epoch 570:\n",
      "                  precision    recall  f1-score   support\n",
      "\n",
      "    infringement       0.21      0.13      0.16        30\n",
      "non_infringement       0.74      0.83      0.78        88\n",
      "\n",
      "        accuracy                           0.65       118\n",
      "       macro avg       0.47      0.48      0.47       118\n",
      "    weighted avg       0.60      0.65      0.62       118\n",
      "\n"
     ]
    },
    {
     "name": "stderr",
     "output_type": "stream",
     "text": [
      "Training Epochs:  30%|██▉       | 594/2000 [00:13<01:06, 21.26it/s]"
     ]
    },
    {
     "name": "stdout",
     "output_type": "stream",
     "text": [
      "Epoch 580/2000, Loss: 0.0032\n",
      "Test Accuracy at Epoch 580: 66.10%\n",
      "Test F1-score at Epoch 580: 0.7849\n",
      "Classification Report at Epoch 580:\n",
      "                  precision    recall  f1-score   support\n",
      "\n",
      "    infringement       0.25      0.17      0.20        30\n",
      "non_infringement       0.74      0.83      0.78        88\n",
      "\n",
      "        accuracy                           0.66       118\n",
      "       macro avg       0.50      0.50      0.49       118\n",
      "    weighted avg       0.62      0.66      0.64       118\n",
      "\n",
      "Epoch 590/2000, Loss: 0.0032\n",
      "Test Accuracy at Epoch 590: 66.10%\n",
      "Test F1-score at Epoch 590: 0.7849\n",
      "Classification Report at Epoch 590:\n",
      "                  precision    recall  f1-score   support\n",
      "\n",
      "    infringement       0.25      0.17      0.20        30\n",
      "non_infringement       0.74      0.83      0.78        88\n",
      "\n",
      "        accuracy                           0.66       118\n",
      "       macro avg       0.50      0.50      0.49       118\n",
      "    weighted avg       0.62      0.66      0.64       118\n",
      "\n",
      "Epoch 600/2000, Loss: 0.0031\n",
      "Test Accuracy at Epoch 600: 65.25%\n",
      "Test F1-score at Epoch 600: 0.7807\n"
     ]
    },
    {
     "name": "stderr",
     "output_type": "stream",
     "text": [
      "Training Epochs:  31%|███       | 614/2000 [00:13<00:35, 38.72it/s]"
     ]
    },
    {
     "name": "stdout",
     "output_type": "stream",
     "text": [
      "Classification Report at Epoch 600:\n",
      "                  precision    recall  f1-score   support\n",
      "\n",
      "    infringement       0.21      0.13      0.16        30\n",
      "non_infringement       0.74      0.83      0.78        88\n",
      "\n",
      "        accuracy                           0.65       118\n",
      "       macro avg       0.47      0.48      0.47       118\n",
      "    weighted avg       0.60      0.65      0.62       118\n",
      "\n",
      "Epoch 610/2000, Loss: 0.0032\n",
      "Test Accuracy at Epoch 610: 66.10%\n",
      "Test F1-score at Epoch 610: 0.7849\n",
      "Classification Report at Epoch 610:\n",
      "                  precision    recall  f1-score   support\n",
      "\n",
      "    infringement       0.25      0.17      0.20        30\n",
      "non_infringement       0.74      0.83      0.78        88\n",
      "\n",
      "        accuracy                           0.66       118\n",
      "       macro avg       0.50      0.50      0.49       118\n",
      "    weighted avg       0.62      0.66      0.64       118\n",
      "\n",
      "Epoch 620/2000, Loss: 0.0032\n",
      "Test Accuracy at Epoch 620: 66.10%\n",
      "Test F1-score at Epoch 620: 0.7849\n",
      "Classification Report at Epoch 620:\n",
      "                  precision    recall  f1-score   support\n",
      "\n",
      "    infringement       0.25      0.17      0.20        30\n",
      "non_infringement       0.74      0.83      0.78        88\n",
      "\n",
      "        accuracy                           0.66       118\n",
      "       macro avg       0.50      0.50      0.49       118\n",
      "    weighted avg       0.62      0.66      0.64       118\n",
      "\n"
     ]
    },
    {
     "name": "stderr",
     "output_type": "stream",
     "text": [
      "Training Epochs:  31%|███       | 624/2000 [00:14<00:40, 33.76it/s]"
     ]
    },
    {
     "name": "stdout",
     "output_type": "stream",
     "text": [
      "Epoch 630/2000, Loss: 0.0031\n",
      "Test Accuracy at Epoch 630: 65.25%\n",
      "Test F1-score at Epoch 630: 0.7807\n",
      "Classification Report at Epoch 630:\n",
      "                  precision    recall  f1-score   support\n",
      "\n",
      "    infringement       0.21      0.13      0.16        30\n",
      "non_infringement       0.74      0.83      0.78        88\n",
      "\n",
      "        accuracy                           0.65       118\n",
      "       macro avg       0.47      0.48      0.47       118\n",
      "    weighted avg       0.60      0.65      0.62       118\n",
      "\n"
     ]
    },
    {
     "name": "stderr",
     "output_type": "stream",
     "text": [
      "Training Epochs:  32%|███▏      | 636/2000 [00:14<00:56, 24.28it/s]"
     ]
    },
    {
     "name": "stdout",
     "output_type": "stream",
     "text": [
      "Epoch 640/2000, Loss: 0.0031\n",
      "Test Accuracy at Epoch 640: 65.25%\n",
      "Test F1-score at Epoch 640: 0.7807\n",
      "Classification Report at Epoch 640:\n",
      "                  precision    recall  f1-score   support\n",
      "\n",
      "    infringement       0.21      0.13      0.16        30\n",
      "non_infringement       0.74      0.83      0.78        88\n",
      "\n",
      "        accuracy                           0.65       118\n",
      "       macro avg       0.47      0.48      0.47       118\n",
      "    weighted avg       0.60      0.65      0.62       118\n",
      "\n"
     ]
    },
    {
     "name": "stderr",
     "output_type": "stream",
     "text": [
      "Training Epochs:  33%|███▎      | 664/2000 [00:15<00:32, 40.94it/s]"
     ]
    },
    {
     "name": "stdout",
     "output_type": "stream",
     "text": [
      "Epoch 650/2000, Loss: 0.0031\n",
      "Test Accuracy at Epoch 650: 65.25%\n",
      "Test F1-score at Epoch 650: 0.7807\n",
      "Classification Report at Epoch 650:\n",
      "                  precision    recall  f1-score   support\n",
      "\n",
      "    infringement       0.21      0.13      0.16        30\n",
      "non_infringement       0.74      0.83      0.78        88\n",
      "\n",
      "        accuracy                           0.65       118\n",
      "       macro avg       0.47      0.48      0.47       118\n",
      "    weighted avg       0.60      0.65      0.62       118\n",
      "\n",
      "Epoch 660/2000, Loss: 0.0031\n",
      "Test Accuracy at Epoch 660: 65.25%\n",
      "Test F1-score at Epoch 660: 0.7807\n",
      "Classification Report at Epoch 660:\n",
      "                  precision    recall  f1-score   support\n",
      "\n",
      "    infringement       0.21      0.13      0.16        30\n",
      "non_infringement       0.74      0.83      0.78        88\n",
      "\n",
      "        accuracy                           0.65       118\n",
      "       macro avg       0.47      0.48      0.47       118\n",
      "    weighted avg       0.60      0.65      0.62       118\n",
      "\n",
      "Epoch 670/2000, Loss: 0.0031\n",
      "Test Accuracy at Epoch 670: 66.10%\n",
      "Test F1-score at Epoch 670: 0.7849\n",
      "Classification Report at Epoch 670:\n",
      "                  precision    recall  f1-score   support\n",
      "\n",
      "    infringement       0.25      0.17      0.20        30\n",
      "non_infringement       0.74      0.83      0.78        88\n",
      "\n",
      "        accuracy                           0.66       118\n",
      "       macro avg       0.50      0.50      0.49       118\n",
      "    weighted avg       0.62      0.66      0.64       118\n",
      "\n"
     ]
    },
    {
     "name": "stderr",
     "output_type": "stream",
     "text": [
      "Training Epochs:  34%|███▍      | 681/2000 [00:16<01:07, 19.61it/s]"
     ]
    },
    {
     "name": "stdout",
     "output_type": "stream",
     "text": [
      "Epoch 680/2000, Loss: 0.0031\n",
      "Test Accuracy at Epoch 680: 65.25%\n",
      "Test F1-score at Epoch 680: 0.7807\n",
      "Classification Report at Epoch 680:\n",
      "                  precision    recall  f1-score   support\n",
      "\n",
      "    infringement       0.21      0.13      0.16        30\n",
      "non_infringement       0.74      0.83      0.78        88\n",
      "\n",
      "        accuracy                           0.65       118\n",
      "       macro avg       0.47      0.48      0.47       118\n",
      "    weighted avg       0.60      0.65      0.62       118\n",
      "\n"
     ]
    },
    {
     "name": "stderr",
     "output_type": "stream",
     "text": [
      "Training Epochs:  35%|███▍      | 697/2000 [00:17<01:04, 20.31it/s]"
     ]
    },
    {
     "name": "stdout",
     "output_type": "stream",
     "text": [
      "Epoch 690/2000, Loss: 0.0031\n",
      "Test Accuracy at Epoch 690: 65.25%\n",
      "Test F1-score at Epoch 690: 0.7807\n",
      "Classification Report at Epoch 690:\n",
      "                  precision    recall  f1-score   support\n",
      "\n",
      "    infringement       0.21      0.13      0.16        30\n",
      "non_infringement       0.74      0.83      0.78        88\n",
      "\n",
      "        accuracy                           0.65       118\n",
      "       macro avg       0.47      0.48      0.47       118\n",
      "    weighted avg       0.60      0.65      0.62       118\n",
      "\n",
      "Epoch 700/2000, Loss: 0.0031\n",
      "Test Accuracy at Epoch 700: 65.25%\n",
      "Test F1-score at Epoch 700: 0.7807\n"
     ]
    },
    {
     "name": "stderr",
     "output_type": "stream",
     "text": [
      "Training Epochs:  35%|███▌      | 701/2000 [00:18<01:10, 18.39it/s]"
     ]
    },
    {
     "name": "stdout",
     "output_type": "stream",
     "text": [
      "Classification Report at Epoch 700:\n",
      "                  precision    recall  f1-score   support\n",
      "\n",
      "    infringement       0.21      0.13      0.16        30\n",
      "non_infringement       0.74      0.83      0.78        88\n",
      "\n",
      "        accuracy                           0.65       118\n",
      "       macro avg       0.47      0.48      0.47       118\n",
      "    weighted avg       0.60      0.65      0.62       118\n",
      "\n"
     ]
    },
    {
     "name": "stderr",
     "output_type": "stream",
     "text": [
      "Training Epochs:  36%|███▌      | 713/2000 [00:18<00:48, 26.75it/s]"
     ]
    },
    {
     "name": "stdout",
     "output_type": "stream",
     "text": [
      "Epoch 710/2000, Loss: 0.0033\n",
      "Test Accuracy at Epoch 710: 65.25%\n",
      "Test F1-score at Epoch 710: 0.7807\n",
      "Classification Report at Epoch 710:\n",
      "                  precision    recall  f1-score   support\n",
      "\n",
      "    infringement       0.21      0.13      0.16        30\n",
      "non_infringement       0.74      0.83      0.78        88\n",
      "\n",
      "        accuracy                           0.65       118\n",
      "       macro avg       0.47      0.48      0.47       118\n",
      "    weighted avg       0.60      0.65      0.62       118\n",
      "\n"
     ]
    },
    {
     "name": "stderr",
     "output_type": "stream",
     "text": [
      "Training Epochs:  36%|███▋      | 730/2000 [00:18<00:32, 38.86it/s]"
     ]
    },
    {
     "name": "stdout",
     "output_type": "stream",
     "text": [
      "Epoch 720/2000, Loss: 0.0031\n",
      "Test Accuracy at Epoch 720: 65.25%\n",
      "Test F1-score at Epoch 720: 0.7807\n",
      "Classification Report at Epoch 720:\n",
      "                  precision    recall  f1-score   support\n",
      "\n",
      "    infringement       0.21      0.13      0.16        30\n",
      "non_infringement       0.74      0.83      0.78        88\n",
      "\n",
      "        accuracy                           0.65       118\n",
      "       macro avg       0.47      0.48      0.47       118\n",
      "    weighted avg       0.60      0.65      0.62       118\n",
      "\n",
      "Epoch 730/2000, Loss: 0.0031\n",
      "Test Accuracy at Epoch 730: 66.10%\n",
      "Test F1-score at Epoch 730: 0.7849\n",
      "Classification Report at Epoch 730:\n",
      "                  precision    recall  f1-score   support\n",
      "\n",
      "    infringement       0.25      0.17      0.20        30\n",
      "non_infringement       0.74      0.83      0.78        88\n",
      "\n",
      "        accuracy                           0.66       118\n",
      "       macro avg       0.50      0.50      0.49       118\n",
      "    weighted avg       0.62      0.66      0.64       118\n",
      "\n"
     ]
    },
    {
     "name": "stderr",
     "output_type": "stream",
     "text": [
      "Training Epochs:  37%|███▋      | 741/2000 [00:19<00:39, 32.24it/s]"
     ]
    },
    {
     "name": "stdout",
     "output_type": "stream",
     "text": [
      "Epoch 740/2000, Loss: 0.0031\n",
      "Test Accuracy at Epoch 740: 65.25%\n",
      "Test F1-score at Epoch 740: 0.7807\n",
      "Classification Report at Epoch 740:\n",
      "                  precision    recall  f1-score   support\n",
      "\n",
      "    infringement       0.21      0.13      0.16        30\n",
      "non_infringement       0.74      0.83      0.78        88\n",
      "\n",
      "        accuracy                           0.65       118\n",
      "       macro avg       0.47      0.48      0.47       118\n",
      "    weighted avg       0.60      0.65      0.62       118\n",
      "\n"
     ]
    },
    {
     "name": "stderr",
     "output_type": "stream",
     "text": [
      "Training Epochs:  38%|███▊      | 760/2000 [00:19<00:26, 45.97it/s]"
     ]
    },
    {
     "name": "stdout",
     "output_type": "stream",
     "text": [
      "Epoch 750/2000, Loss: 0.0031\n",
      "Test Accuracy at Epoch 750: 66.10%\n",
      "Test F1-score at Epoch 750: 0.7849\n",
      "Classification Report at Epoch 750:\n",
      "                  precision    recall  f1-score   support\n",
      "\n",
      "    infringement       0.25      0.17      0.20        30\n",
      "non_infringement       0.74      0.83      0.78        88\n",
      "\n",
      "        accuracy                           0.66       118\n",
      "       macro avg       0.50      0.50      0.49       118\n",
      "    weighted avg       0.62      0.66      0.64       118\n",
      "\n",
      "Epoch 760/2000, Loss: 0.0032\n",
      "Test Accuracy at Epoch 760: 66.10%\n",
      "Test F1-score at Epoch 760: 0.7849\n",
      "Classification Report at Epoch 760:\n",
      "                  precision    recall  f1-score   support\n",
      "\n",
      "    infringement       0.25      0.17      0.20        30\n",
      "non_infringement       0.74      0.83      0.78        88\n",
      "\n",
      "        accuracy                           0.66       118\n",
      "       macro avg       0.50      0.50      0.49       118\n",
      "    weighted avg       0.62      0.66      0.64       118\n",
      "\n"
     ]
    },
    {
     "name": "stderr",
     "output_type": "stream",
     "text": [
      "Training Epochs:  39%|███▉      | 787/2000 [00:19<00:16, 71.47it/s]"
     ]
    },
    {
     "name": "stdout",
     "output_type": "stream",
     "text": [
      "Epoch 770/2000, Loss: 0.0030\n",
      "Test Accuracy at Epoch 770: 65.25%\n",
      "Test F1-score at Epoch 770: 0.7807\n",
      "Classification Report at Epoch 770:\n",
      "                  precision    recall  f1-score   support\n",
      "\n",
      "    infringement       0.21      0.13      0.16        30\n",
      "non_infringement       0.74      0.83      0.78        88\n",
      "\n",
      "        accuracy                           0.65       118\n",
      "       macro avg       0.47      0.48      0.47       118\n",
      "    weighted avg       0.60      0.65      0.62       118\n",
      "\n",
      "Epoch 780/2000, Loss: 0.0030\n",
      "Test Accuracy at Epoch 780: 65.25%\n",
      "Test F1-score at Epoch 780: 0.7807\n",
      "Classification Report at Epoch 780:\n",
      "                  precision    recall  f1-score   support\n",
      "\n",
      "    infringement       0.21      0.13      0.16        30\n",
      "non_infringement       0.74      0.83      0.78        88\n",
      "\n",
      "        accuracy                           0.65       118\n",
      "       macro avg       0.47      0.48      0.47       118\n",
      "    weighted avg       0.60      0.65      0.62       118\n",
      "\n"
     ]
    },
    {
     "name": "stderr",
     "output_type": "stream",
     "text": [
      "Training Epochs:  40%|███▉      | 795/2000 [00:20<00:18, 64.12it/s]"
     ]
    },
    {
     "name": "stdout",
     "output_type": "stream",
     "text": [
      "Epoch 790/2000, Loss: 0.0031\n",
      "Test Accuracy at Epoch 790: 65.25%\n",
      "Test F1-score at Epoch 790: 0.7807\n",
      "Classification Report at Epoch 790:\n",
      "                  precision    recall  f1-score   support\n",
      "\n",
      "    infringement       0.21      0.13      0.16        30\n",
      "non_infringement       0.74      0.83      0.78        88\n",
      "\n",
      "        accuracy                           0.65       118\n",
      "       macro avg       0.47      0.48      0.47       118\n",
      "    weighted avg       0.60      0.65      0.62       118\n",
      "\n",
      "Epoch 800/2000, Loss: 0.0031\n"
     ]
    },
    {
     "name": "stderr",
     "output_type": "stream",
     "text": [
      "Training Epochs:  40%|████      | 809/2000 [00:20<00:20, 59.04it/s]"
     ]
    },
    {
     "name": "stdout",
     "output_type": "stream",
     "text": [
      "Test Accuracy at Epoch 800: 65.25%\n",
      "Test F1-score at Epoch 800: 0.7807\n",
      "Classification Report at Epoch 800:\n",
      "                  precision    recall  f1-score   support\n",
      "\n",
      "    infringement       0.21      0.13      0.16        30\n",
      "non_infringement       0.74      0.83      0.78        88\n",
      "\n",
      "        accuracy                           0.65       118\n",
      "       macro avg       0.47      0.48      0.47       118\n",
      "    weighted avg       0.60      0.65      0.62       118\n",
      "\n",
      "Epoch 810/2000, Loss: 0.0030\n",
      "Test Accuracy at Epoch 810: 65.25%\n",
      "Test F1-score at Epoch 810: 0.7807\n",
      "Classification Report at Epoch 810:\n",
      "                  precision    recall  f1-score   support\n",
      "\n",
      "    infringement       0.21      0.13      0.16        30\n",
      "non_infringement       0.74      0.83      0.78        88\n",
      "\n",
      "        accuracy                           0.65       118\n",
      "       macro avg       0.47      0.48      0.47       118\n",
      "    weighted avg       0.60      0.65      0.62       118\n",
      "\n"
     ]
    },
    {
     "name": "stderr",
     "output_type": "stream",
     "text": [
      "Training Epochs:  42%|████▏     | 834/2000 [00:20<00:16, 68.87it/s]"
     ]
    },
    {
     "name": "stdout",
     "output_type": "stream",
     "text": [
      "Epoch 820/2000, Loss: 0.0031\n",
      "Test Accuracy at Epoch 820: 66.10%\n",
      "Test F1-score at Epoch 820: 0.7849\n",
      "Classification Report at Epoch 820:\n",
      "                  precision    recall  f1-score   support\n",
      "\n",
      "    infringement       0.25      0.17      0.20        30\n",
      "non_infringement       0.74      0.83      0.78        88\n",
      "\n",
      "        accuracy                           0.66       118\n",
      "       macro avg       0.50      0.50      0.49       118\n",
      "    weighted avg       0.62      0.66      0.64       118\n",
      "\n",
      "Epoch 830/2000, Loss: 0.0031\n",
      "Test Accuracy at Epoch 830: 66.10%\n",
      "Test F1-score at Epoch 830: 0.7849\n",
      "Classification Report at Epoch 830:\n",
      "                  precision    recall  f1-score   support\n",
      "\n",
      "    infringement       0.25      0.17      0.20        30\n",
      "non_infringement       0.74      0.83      0.78        88\n",
      "\n",
      "        accuracy                           0.66       118\n",
      "       macro avg       0.50      0.50      0.49       118\n",
      "    weighted avg       0.62      0.66      0.64       118\n",
      "\n"
     ]
    },
    {
     "name": "stderr",
     "output_type": "stream",
     "text": [
      "Training Epochs:  43%|████▎     | 853/2000 [00:20<00:14, 78.77it/s]"
     ]
    },
    {
     "name": "stdout",
     "output_type": "stream",
     "text": [
      "Epoch 840/2000, Loss: 0.0031\n",
      "Test Accuracy at Epoch 840: 66.10%\n",
      "Test F1-score at Epoch 840: 0.7849\n",
      "Classification Report at Epoch 840:\n",
      "                  precision    recall  f1-score   support\n",
      "\n",
      "    infringement       0.25      0.17      0.20        30\n",
      "non_infringement       0.74      0.83      0.78        88\n",
      "\n",
      "        accuracy                           0.66       118\n",
      "       macro avg       0.50      0.50      0.49       118\n",
      "    weighted avg       0.62      0.66      0.64       118\n",
      "\n",
      "Epoch 850/2000, Loss: 0.0031\n",
      "Test Accuracy at Epoch 850: 66.10%\n",
      "Test F1-score at Epoch 850: 0.7849\n",
      "Classification Report at Epoch 850:\n",
      "                  precision    recall  f1-score   support\n",
      "\n",
      "    infringement       0.25      0.17      0.20        30\n",
      "non_infringement       0.74      0.83      0.78        88\n",
      "\n",
      "        accuracy                           0.66       118\n",
      "       macro avg       0.50      0.50      0.49       118\n",
      "    weighted avg       0.62      0.66      0.64       118\n",
      "\n"
     ]
    },
    {
     "name": "stderr",
     "output_type": "stream",
     "text": [
      "Training Epochs:  44%|████▎     | 872/2000 [00:21<00:13, 84.79it/s]"
     ]
    },
    {
     "name": "stdout",
     "output_type": "stream",
     "text": [
      "Epoch 860/2000, Loss: 0.0031\n",
      "Test Accuracy at Epoch 860: 66.10%\n",
      "Test F1-score at Epoch 860: 0.7849\n",
      "Classification Report at Epoch 860:\n",
      "                  precision    recall  f1-score   support\n",
      "\n",
      "    infringement       0.25      0.17      0.20        30\n",
      "non_infringement       0.74      0.83      0.78        88\n",
      "\n",
      "        accuracy                           0.66       118\n",
      "       macro avg       0.50      0.50      0.49       118\n",
      "    weighted avg       0.62      0.66      0.64       118\n",
      "\n",
      "Epoch 870/2000, Loss: 0.0031\n",
      "Test Accuracy at Epoch 870: 66.10%\n",
      "Test F1-score at Epoch 870: 0.7849\n",
      "Classification Report at Epoch 870:\n",
      "                  precision    recall  f1-score   support\n",
      "\n",
      "    infringement       0.25      0.17      0.20        30\n",
      "non_infringement       0.74      0.83      0.78        88\n",
      "\n",
      "        accuracy                           0.66       118\n",
      "       macro avg       0.50      0.50      0.49       118\n",
      "    weighted avg       0.62      0.66      0.64       118\n",
      "\n"
     ]
    },
    {
     "name": "stderr",
     "output_type": "stream",
     "text": [
      "Training Epochs:  45%|████▍     | 892/2000 [00:21<00:12, 88.77it/s]"
     ]
    },
    {
     "name": "stdout",
     "output_type": "stream",
     "text": [
      "Epoch 880/2000, Loss: 0.0031\n",
      "Test Accuracy at Epoch 880: 66.10%\n",
      "Test F1-score at Epoch 880: 0.7849\n",
      "Classification Report at Epoch 880:\n",
      "                  precision    recall  f1-score   support\n",
      "\n",
      "    infringement       0.25      0.17      0.20        30\n",
      "non_infringement       0.74      0.83      0.78        88\n",
      "\n",
      "        accuracy                           0.66       118\n",
      "       macro avg       0.50      0.50      0.49       118\n",
      "    weighted avg       0.62      0.66      0.64       118\n",
      "\n",
      "Epoch 890/2000, Loss: 0.0030\n",
      "Test Accuracy at Epoch 890: 66.10%\n",
      "Test F1-score at Epoch 890: 0.7849\n",
      "Classification Report at Epoch 890:\n",
      "                  precision    recall  f1-score   support\n",
      "\n",
      "    infringement       0.25      0.17      0.20        30\n",
      "non_infringement       0.74      0.83      0.78        88\n",
      "\n",
      "        accuracy                           0.66       118\n",
      "       macro avg       0.50      0.50      0.49       118\n",
      "    weighted avg       0.62      0.66      0.64       118\n",
      "\n"
     ]
    },
    {
     "name": "stderr",
     "output_type": "stream",
     "text": [
      "Training Epochs:  46%|████▌     | 911/2000 [00:21<00:13, 80.69it/s]"
     ]
    },
    {
     "name": "stdout",
     "output_type": "stream",
     "text": [
      "Epoch 900/2000, Loss: 0.0031\n",
      "Test Accuracy at Epoch 900: 66.10%\n",
      "Test F1-score at Epoch 900: 0.7849\n",
      "Classification Report at Epoch 900:\n",
      "                  precision    recall  f1-score   support\n",
      "\n",
      "    infringement       0.25      0.17      0.20        30\n",
      "non_infringement       0.74      0.83      0.78        88\n",
      "\n",
      "        accuracy                           0.66       118\n",
      "       macro avg       0.50      0.50      0.49       118\n",
      "    weighted avg       0.62      0.66      0.64       118\n",
      "\n",
      "Epoch 910/2000, Loss: 0.0031\n",
      "Test Accuracy at Epoch 910: 66.10%\n",
      "Test F1-score at Epoch 910: 0.7849\n",
      "Classification Report at Epoch 910:\n",
      "                  precision    recall  f1-score   support\n",
      "\n",
      "    infringement       0.25      0.17      0.20        30\n",
      "non_infringement       0.74      0.83      0.78        88\n",
      "\n",
      "        accuracy                           0.66       118\n",
      "       macro avg       0.50      0.50      0.49       118\n",
      "    weighted avg       0.62      0.66      0.64       118\n",
      "\n"
     ]
    },
    {
     "name": "stderr",
     "output_type": "stream",
     "text": [
      "Training Epochs:  47%|████▋     | 931/2000 [00:21<00:12, 87.07it/s]"
     ]
    },
    {
     "name": "stdout",
     "output_type": "stream",
     "text": [
      "Epoch 920/2000, Loss: 0.0030\n",
      "Test Accuracy at Epoch 920: 66.10%\n",
      "Test F1-score at Epoch 920: 0.7849\n",
      "Classification Report at Epoch 920:\n",
      "                  precision    recall  f1-score   support\n",
      "\n",
      "    infringement       0.25      0.17      0.20        30\n",
      "non_infringement       0.74      0.83      0.78        88\n",
      "\n",
      "        accuracy                           0.66       118\n",
      "       macro avg       0.50      0.50      0.49       118\n",
      "    weighted avg       0.62      0.66      0.64       118\n",
      "\n",
      "Epoch 930/2000, Loss: 0.0030\n",
      "Test Accuracy at Epoch 930: 65.25%\n",
      "Test F1-score at Epoch 930: 0.7807\n",
      "Classification Report at Epoch 930:\n",
      "                  precision    recall  f1-score   support\n",
      "\n",
      "    infringement       0.21      0.13      0.16        30\n",
      "non_infringement       0.74      0.83      0.78        88\n",
      "\n",
      "        accuracy                           0.65       118\n",
      "       macro avg       0.47      0.48      0.47       118\n",
      "    weighted avg       0.60      0.65      0.62       118\n",
      "\n"
     ]
    },
    {
     "name": "stderr",
     "output_type": "stream",
     "text": [
      "Training Epochs:  48%|████▊     | 951/2000 [00:21<00:11, 90.56it/s]"
     ]
    },
    {
     "name": "stdout",
     "output_type": "stream",
     "text": [
      "Epoch 940/2000, Loss: 0.0031\n",
      "Test Accuracy at Epoch 940: 66.10%\n",
      "Test F1-score at Epoch 940: 0.7849\n",
      "Classification Report at Epoch 940:\n",
      "                  precision    recall  f1-score   support\n",
      "\n",
      "    infringement       0.25      0.17      0.20        30\n",
      "non_infringement       0.74      0.83      0.78        88\n",
      "\n",
      "        accuracy                           0.66       118\n",
      "       macro avg       0.50      0.50      0.49       118\n",
      "    weighted avg       0.62      0.66      0.64       118\n",
      "\n",
      "Epoch 950/2000, Loss: 0.0031\n",
      "Test Accuracy at Epoch 950: 66.10%\n",
      "Test F1-score at Epoch 950: 0.7849\n",
      "Classification Report at Epoch 950:\n",
      "                  precision    recall  f1-score   support\n",
      "\n",
      "    infringement       0.25      0.17      0.20        30\n",
      "non_infringement       0.74      0.83      0.78        88\n",
      "\n",
      "        accuracy                           0.66       118\n",
      "       macro avg       0.50      0.50      0.49       118\n",
      "    weighted avg       0.62      0.66      0.64       118\n",
      "\n"
     ]
    },
    {
     "name": "stderr",
     "output_type": "stream",
     "text": [
      "Training Epochs:  48%|████▊     | 970/2000 [00:22<00:12, 84.15it/s]"
     ]
    },
    {
     "name": "stdout",
     "output_type": "stream",
     "text": [
      "Epoch 960/2000, Loss: 0.0030\n",
      "Test Accuracy at Epoch 960: 65.25%\n",
      "Test F1-score at Epoch 960: 0.7807\n",
      "Classification Report at Epoch 960:\n",
      "                  precision    recall  f1-score   support\n",
      "\n",
      "    infringement       0.21      0.13      0.16        30\n",
      "non_infringement       0.74      0.83      0.78        88\n",
      "\n",
      "        accuracy                           0.65       118\n",
      "       macro avg       0.47      0.48      0.47       118\n",
      "    weighted avg       0.60      0.65      0.62       118\n",
      "\n",
      "Epoch 970/2000, Loss: 0.0030\n",
      "Test Accuracy at Epoch 970: 65.25%\n",
      "Test F1-score at Epoch 970: 0.7807\n",
      "Classification Report at Epoch 970:\n",
      "                  precision    recall  f1-score   support\n",
      "\n",
      "    infringement       0.21      0.13      0.16        30\n",
      "non_infringement       0.74      0.83      0.78        88\n",
      "\n",
      "        accuracy                           0.65       118\n",
      "       macro avg       0.47      0.48      0.47       118\n",
      "    weighted avg       0.60      0.65      0.62       118\n",
      "\n"
     ]
    },
    {
     "name": "stderr",
     "output_type": "stream",
     "text": [
      "Training Epochs:  49%|████▉     | 979/2000 [00:22<00:13, 74.64it/s]"
     ]
    },
    {
     "name": "stdout",
     "output_type": "stream",
     "text": [
      "Epoch 980/2000, Loss: 0.0030\n",
      "Test Accuracy at Epoch 980: 65.25%\n",
      "Test F1-score at Epoch 980: 0.7807\n",
      "Classification Report at Epoch 980:\n",
      "                  precision    recall  f1-score   support\n",
      "\n",
      "    infringement       0.21      0.13      0.16        30\n",
      "non_infringement       0.74      0.83      0.78        88\n",
      "\n",
      "        accuracy                           0.65       118\n",
      "       macro avg       0.47      0.48      0.47       118\n",
      "    weighted avg       0.60      0.65      0.62       118\n",
      "\n"
     ]
    },
    {
     "name": "stderr",
     "output_type": "stream",
     "text": [
      "Training Epochs:  50%|████▉     | 994/2000 [00:22<00:21, 47.80it/s]"
     ]
    },
    {
     "name": "stdout",
     "output_type": "stream",
     "text": [
      "Epoch 990/2000, Loss: 0.0031\n",
      "Test Accuracy at Epoch 990: 65.25%\n",
      "Test F1-score at Epoch 990: 0.7807\n",
      "Classification Report at Epoch 990:\n",
      "                  precision    recall  f1-score   support\n",
      "\n",
      "    infringement       0.21      0.13      0.16        30\n",
      "non_infringement       0.74      0.83      0.78        88\n",
      "\n",
      "        accuracy                           0.65       118\n",
      "       macro avg       0.47      0.48      0.47       118\n",
      "    weighted avg       0.60      0.65      0.62       118\n",
      "\n",
      "Epoch 1000/2000, Loss: 0.0030\n",
      "Test Accuracy at Epoch 1000: 65.25%\n",
      "Test F1-score at Epoch 1000: 0.7807\n",
      "Classification Report at Epoch 1000:\n",
      "                  precision    recall  f1-score   support\n",
      "\n",
      "    infringement       0.21      0.13      0.16        30\n",
      "non_infringement       0.74      0.83      0.78        88\n",
      "\n",
      "        accuracy                           0.65       118\n",
      "       macro avg       0.47      0.48      0.47       118\n",
      "    weighted avg       0.60      0.65      0.62       118\n",
      "\n"
     ]
    },
    {
     "name": "stderr",
     "output_type": "stream",
     "text": [
      "Training Epochs:  51%|█████     | 1019/2000 [00:24<00:31, 30.72it/s]"
     ]
    },
    {
     "name": "stdout",
     "output_type": "stream",
     "text": [
      "Epoch 1010/2000, Loss: 0.0030\n",
      "Test Accuracy at Epoch 1010: 65.25%\n",
      "Test F1-score at Epoch 1010: 0.7807\n",
      "Classification Report at Epoch 1010:\n",
      "                  precision    recall  f1-score   support\n",
      "\n",
      "    infringement       0.21      0.13      0.16        30\n",
      "non_infringement       0.74      0.83      0.78        88\n",
      "\n",
      "        accuracy                           0.65       118\n",
      "       macro avg       0.47      0.48      0.47       118\n",
      "    weighted avg       0.60      0.65      0.62       118\n",
      "\n",
      "Epoch 1020/2000, Loss: 0.0030\n",
      "Test Accuracy at Epoch 1020: 65.25%\n",
      "Test F1-score at Epoch 1020: 0.7807\n",
      "Classification Report at Epoch 1020:\n",
      "                  precision    recall  f1-score   support\n",
      "\n",
      "    infringement       0.21      0.13      0.16        30\n",
      "non_infringement       0.74      0.83      0.78        88\n",
      "\n",
      "        accuracy                           0.65       118\n",
      "       macro avg       0.47      0.48      0.47       118\n",
      "    weighted avg       0.60      0.65      0.62       118\n",
      "\n"
     ]
    },
    {
     "name": "stderr",
     "output_type": "stream",
     "text": [
      "Training Epochs:  52%|█████▏    | 1042/2000 [00:24<00:22, 42.94it/s]"
     ]
    },
    {
     "name": "stdout",
     "output_type": "stream",
     "text": [
      "Epoch 1030/2000, Loss: 0.0031\n",
      "Test Accuracy at Epoch 1030: 66.10%\n",
      "Test F1-score at Epoch 1030: 0.7849\n",
      "Classification Report at Epoch 1030:\n",
      "                  precision    recall  f1-score   support\n",
      "\n",
      "    infringement       0.25      0.17      0.20        30\n",
      "non_infringement       0.74      0.83      0.78        88\n",
      "\n",
      "        accuracy                           0.66       118\n",
      "       macro avg       0.50      0.50      0.49       118\n",
      "    weighted avg       0.62      0.66      0.64       118\n",
      "\n",
      "Epoch 1040/2000, Loss: 0.0030\n",
      "Test Accuracy at Epoch 1040: 66.10%\n",
      "Test F1-score at Epoch 1040: 0.7849\n",
      "Classification Report at Epoch 1040:\n",
      "                  precision    recall  f1-score   support\n",
      "\n",
      "    infringement       0.25      0.17      0.20        30\n",
      "non_infringement       0.74      0.83      0.78        88\n",
      "\n",
      "        accuracy                           0.66       118\n",
      "       macro avg       0.50      0.50      0.49       118\n",
      "    weighted avg       0.62      0.66      0.64       118\n",
      "\n"
     ]
    },
    {
     "name": "stderr",
     "output_type": "stream",
     "text": [
      "Training Epochs:  53%|█████▎    | 1056/2000 [00:24<00:19, 48.90it/s]"
     ]
    },
    {
     "name": "stdout",
     "output_type": "stream",
     "text": [
      "Epoch 1050/2000, Loss: 0.0030\n",
      "Test Accuracy at Epoch 1050: 65.25%\n",
      "Test F1-score at Epoch 1050: 0.7807\n",
      "Classification Report at Epoch 1050:\n",
      "                  precision    recall  f1-score   support\n",
      "\n",
      "    infringement       0.21      0.13      0.16        30\n",
      "non_infringement       0.74      0.83      0.78        88\n",
      "\n",
      "        accuracy                           0.65       118\n",
      "       macro avg       0.47      0.48      0.47       118\n",
      "    weighted avg       0.60      0.65      0.62       118\n",
      "\n",
      "Epoch 1060/2000, Loss: 0.0030\n",
      "Test Accuracy at Epoch 1060: 65.25%\n",
      "Test F1-score at Epoch 1060: 0.7807\n",
      "Classification Report at Epoch 1060:\n",
      "                  precision    recall  f1-score   support\n",
      "\n",
      "    infringement       0.21      0.13      0.16        30\n",
      "non_infringement       0.74      0.83      0.78        88\n",
      "\n",
      "        accuracy                           0.65       118\n",
      "       macro avg       0.47      0.48      0.47       118\n",
      "    weighted avg       0.60      0.65      0.62       118\n",
      "\n"
     ]
    },
    {
     "name": "stderr",
     "output_type": "stream",
     "text": [
      "Training Epochs:  54%|█████▍    | 1081/2000 [00:25<00:25, 36.32it/s]"
     ]
    },
    {
     "name": "stdout",
     "output_type": "stream",
     "text": [
      "Epoch 1070/2000, Loss: 0.0030\n",
      "Test Accuracy at Epoch 1070: 66.10%\n",
      "Test F1-score at Epoch 1070: 0.7849\n",
      "Classification Report at Epoch 1070:\n",
      "                  precision    recall  f1-score   support\n",
      "\n",
      "    infringement       0.25      0.17      0.20        30\n",
      "non_infringement       0.74      0.83      0.78        88\n",
      "\n",
      "        accuracy                           0.66       118\n",
      "       macro avg       0.50      0.50      0.49       118\n",
      "    weighted avg       0.62      0.66      0.64       118\n",
      "\n",
      "Epoch 1080/2000, Loss: 0.0030\n",
      "Test Accuracy at Epoch 1080: 66.10%\n",
      "Test F1-score at Epoch 1080: 0.7849\n",
      "Classification Report at Epoch 1080:\n",
      "                  precision    recall  f1-score   support\n",
      "\n",
      "    infringement       0.25      0.17      0.20        30\n",
      "non_infringement       0.74      0.83      0.78        88\n",
      "\n",
      "        accuracy                           0.66       118\n",
      "       macro avg       0.50      0.50      0.49       118\n",
      "    weighted avg       0.62      0.66      0.64       118\n",
      "\n"
     ]
    },
    {
     "name": "stderr",
     "output_type": "stream",
     "text": [
      "Training Epochs:  55%|█████▌    | 1100/2000 [00:26<00:20, 44.18it/s]"
     ]
    },
    {
     "name": "stdout",
     "output_type": "stream",
     "text": [
      "Epoch 1090/2000, Loss: 0.0031\n",
      "Test Accuracy at Epoch 1090: 66.10%\n",
      "Test F1-score at Epoch 1090: 0.7849\n",
      "Classification Report at Epoch 1090:\n",
      "                  precision    recall  f1-score   support\n",
      "\n",
      "    infringement       0.25      0.17      0.20        30\n",
      "non_infringement       0.74      0.83      0.78        88\n",
      "\n",
      "        accuracy                           0.66       118\n",
      "       macro avg       0.50      0.50      0.49       118\n",
      "    weighted avg       0.62      0.66      0.64       118\n",
      "\n",
      "Epoch 1100/2000, Loss: 0.0030\n",
      "Test Accuracy at Epoch 1100: 65.25%\n",
      "Test F1-score at Epoch 1100: 0.7807\n",
      "Classification Report at Epoch 1100:\n",
      "                  precision    recall  f1-score   support\n",
      "\n",
      "    infringement       0.21      0.13      0.16        30\n",
      "non_infringement       0.74      0.83      0.78        88\n",
      "\n",
      "        accuracy                           0.65       118\n",
      "       macro avg       0.47      0.48      0.47       118\n",
      "    weighted avg       0.60      0.65      0.62       118\n",
      "\n"
     ]
    },
    {
     "name": "stderr",
     "output_type": "stream",
     "text": [
      "Training Epochs:  56%|█████▌    | 1113/2000 [00:27<00:45, 19.37it/s]"
     ]
    },
    {
     "name": "stdout",
     "output_type": "stream",
     "text": [
      "Epoch 1110/2000, Loss: 0.0030\n",
      "Test Accuracy at Epoch 1110: 65.25%\n",
      "Test F1-score at Epoch 1110: 0.7807\n",
      "Classification Report at Epoch 1110:\n",
      "                  precision    recall  f1-score   support\n",
      "\n",
      "    infringement       0.21      0.13      0.16        30\n",
      "non_infringement       0.74      0.83      0.78        88\n",
      "\n",
      "        accuracy                           0.65       118\n",
      "       macro avg       0.47      0.48      0.47       118\n",
      "    weighted avg       0.60      0.65      0.62       118\n",
      "\n"
     ]
    },
    {
     "name": "stderr",
     "output_type": "stream",
     "text": [
      "Training Epochs:  56%|█████▋    | 1125/2000 [00:27<00:30, 28.59it/s]"
     ]
    },
    {
     "name": "stdout",
     "output_type": "stream",
     "text": [
      "Epoch 1120/2000, Loss: 0.0030\n",
      "Test Accuracy at Epoch 1120: 65.25%\n",
      "Test F1-score at Epoch 1120: 0.7807\n",
      "Classification Report at Epoch 1120:\n",
      "                  precision    recall  f1-score   support\n",
      "\n",
      "    infringement       0.21      0.13      0.16        30\n",
      "non_infringement       0.74      0.83      0.78        88\n",
      "\n",
      "        accuracy                           0.65       118\n",
      "       macro avg       0.47      0.48      0.47       118\n",
      "    weighted avg       0.60      0.65      0.62       118\n",
      "\n",
      "Epoch 1130/2000, Loss: 0.0031\n",
      "Test Accuracy at Epoch 1130: 65.25%\n",
      "Test F1-score at Epoch 1130: 0.7807\n",
      "Classification Report at Epoch 1130:\n",
      "                  precision    recall  f1-score   support\n",
      "\n",
      "    infringement       0.21      0.13      0.16        30\n",
      "non_infringement       0.74      0.83      0.78        88\n",
      "\n",
      "        accuracy                           0.65       118\n",
      "       macro avg       0.47      0.48      0.47       118\n",
      "    weighted avg       0.60      0.65      0.62       118\n",
      "\n"
     ]
    },
    {
     "name": "stderr",
     "output_type": "stream",
     "text": [
      "Training Epochs:  58%|█████▊    | 1156/2000 [00:27<00:14, 59.25it/s]"
     ]
    },
    {
     "name": "stdout",
     "output_type": "stream",
     "text": [
      "Epoch 1140/2000, Loss: 0.0030\n",
      "Test Accuracy at Epoch 1140: 65.25%\n",
      "Test F1-score at Epoch 1140: 0.7807\n",
      "Classification Report at Epoch 1140:\n",
      "                  precision    recall  f1-score   support\n",
      "\n",
      "    infringement       0.21      0.13      0.16        30\n",
      "non_infringement       0.74      0.83      0.78        88\n",
      "\n",
      "        accuracy                           0.65       118\n",
      "       macro avg       0.47      0.48      0.47       118\n",
      "    weighted avg       0.60      0.65      0.62       118\n",
      "\n",
      "Epoch 1150/2000, Loss: 0.0030\n",
      "Test Accuracy at Epoch 1150: 65.25%\n",
      "Test F1-score at Epoch 1150: 0.7807\n",
      "Classification Report at Epoch 1150:\n",
      "                  precision    recall  f1-score   support\n",
      "\n",
      "    infringement       0.21      0.13      0.16        30\n",
      "non_infringement       0.74      0.83      0.78        88\n",
      "\n",
      "        accuracy                           0.65       118\n",
      "       macro avg       0.47      0.48      0.47       118\n",
      "    weighted avg       0.60      0.65      0.62       118\n",
      "\n"
     ]
    },
    {
     "name": "stderr",
     "output_type": "stream",
     "text": [
      "Training Epochs:  59%|█████▉    | 1176/2000 [00:27<00:10, 76.50it/s]"
     ]
    },
    {
     "name": "stdout",
     "output_type": "stream",
     "text": [
      "Epoch 1160/2000, Loss: 0.0030\n",
      "Test Accuracy at Epoch 1160: 65.25%\n",
      "Test F1-score at Epoch 1160: 0.7807\n",
      "Classification Report at Epoch 1160:\n",
      "                  precision    recall  f1-score   support\n",
      "\n",
      "    infringement       0.21      0.13      0.16        30\n",
      "non_infringement       0.74      0.83      0.78        88\n",
      "\n",
      "        accuracy                           0.65       118\n",
      "       macro avg       0.47      0.48      0.47       118\n",
      "    weighted avg       0.60      0.65      0.62       118\n",
      "\n",
      "Epoch 1170/2000, Loss: 0.0030\n",
      "Test Accuracy at Epoch 1170: 65.25%\n",
      "Test F1-score at Epoch 1170: 0.7807\n",
      "Classification Report at Epoch 1170:\n",
      "                  precision    recall  f1-score   support\n",
      "\n",
      "    infringement       0.21      0.13      0.16        30\n",
      "non_infringement       0.74      0.83      0.78        88\n",
      "\n",
      "        accuracy                           0.65       118\n",
      "       macro avg       0.47      0.48      0.47       118\n",
      "    weighted avg       0.60      0.65      0.62       118\n",
      "\n"
     ]
    },
    {
     "name": "stderr",
     "output_type": "stream",
     "text": [
      "Training Epochs:  60%|█████▉    | 1197/2000 [00:28<00:09, 88.36it/s]"
     ]
    },
    {
     "name": "stdout",
     "output_type": "stream",
     "text": [
      "Epoch 1180/2000, Loss: 0.0030\n",
      "Test Accuracy at Epoch 1180: 66.10%\n",
      "Test F1-score at Epoch 1180: 0.7849\n",
      "Classification Report at Epoch 1180:\n",
      "                  precision    recall  f1-score   support\n",
      "\n",
      "    infringement       0.25      0.17      0.20        30\n",
      "non_infringement       0.74      0.83      0.78        88\n",
      "\n",
      "        accuracy                           0.66       118\n",
      "       macro avg       0.50      0.50      0.49       118\n",
      "    weighted avg       0.62      0.66      0.64       118\n",
      "\n",
      "Epoch 1190/2000, Loss: 0.0030\n",
      "Test Accuracy at Epoch 1190: 66.10%\n",
      "Test F1-score at Epoch 1190: 0.7849\n",
      "Classification Report at Epoch 1190:\n",
      "                  precision    recall  f1-score   support\n",
      "\n",
      "    infringement       0.25      0.17      0.20        30\n",
      "non_infringement       0.74      0.83      0.78        88\n",
      "\n",
      "        accuracy                           0.66       118\n",
      "       macro avg       0.50      0.50      0.49       118\n",
      "    weighted avg       0.62      0.66      0.64       118\n",
      "\n",
      "Epoch 1200/2000, Loss: 0.0030\n"
     ]
    },
    {
     "name": "stderr",
     "output_type": "stream",
     "text": [
      "Training Epochs:  60%|██████    | 1207/2000 [00:28<00:08, 91.49it/s]"
     ]
    },
    {
     "name": "stdout",
     "output_type": "stream",
     "text": [
      "Test Accuracy at Epoch 1200: 65.25%\n",
      "Test F1-score at Epoch 1200: 0.7807\n",
      "Classification Report at Epoch 1200:\n",
      "                  precision    recall  f1-score   support\n",
      "\n",
      "    infringement       0.21      0.13      0.16        30\n",
      "non_infringement       0.74      0.83      0.78        88\n",
      "\n",
      "        accuracy                           0.65       118\n",
      "       macro avg       0.47      0.48      0.47       118\n",
      "    weighted avg       0.60      0.65      0.62       118\n",
      "\n",
      "Epoch 1210/2000, Loss: 0.0030\n",
      "Test Accuracy at Epoch 1210: 65.25%\n",
      "Test F1-score at Epoch 1210: 0.7807\n",
      "Classification Report at Epoch 1210:\n",
      "                  precision    recall  f1-score   support\n",
      "\n",
      "    infringement       0.21      0.13      0.16        30\n",
      "non_infringement       0.74      0.83      0.78        88\n",
      "\n",
      "        accuracy                           0.65       118\n",
      "       macro avg       0.47      0.48      0.47       118\n",
      "    weighted avg       0.60      0.65      0.62       118\n",
      "\n"
     ]
    },
    {
     "name": "stderr",
     "output_type": "stream",
     "text": [
      "Training Epochs:  62%|██████▏   | 1233/2000 [00:31<00:50, 15.06it/s]"
     ]
    },
    {
     "name": "stdout",
     "output_type": "stream",
     "text": [
      "Epoch 1220/2000, Loss: 0.0030\n",
      "Test Accuracy at Epoch 1220: 65.25%\n",
      "Test F1-score at Epoch 1220: 0.7807\n",
      "Classification Report at Epoch 1220:\n",
      "                  precision    recall  f1-score   support\n",
      "\n",
      "    infringement       0.21      0.13      0.16        30\n",
      "non_infringement       0.74      0.83      0.78        88\n",
      "\n",
      "        accuracy                           0.65       118\n",
      "       macro avg       0.47      0.48      0.47       118\n",
      "    weighted avg       0.60      0.65      0.62       118\n",
      "\n",
      "Epoch 1230/2000, Loss: 0.0030\n",
      "Test Accuracy at Epoch 1230: 66.10%\n",
      "Test F1-score at Epoch 1230: 0.7849\n",
      "Classification Report at Epoch 1230:\n",
      "                  precision    recall  f1-score   support\n",
      "\n",
      "    infringement       0.25      0.17      0.20        30\n",
      "non_infringement       0.74      0.83      0.78        88\n",
      "\n",
      "        accuracy                           0.66       118\n",
      "       macro avg       0.50      0.50      0.49       118\n",
      "    weighted avg       0.62      0.66      0.64       118\n",
      "\n"
     ]
    },
    {
     "name": "stderr",
     "output_type": "stream",
     "text": [
      "Training Epochs:  63%|██████▎   | 1254/2000 [00:32<00:26, 28.31it/s]"
     ]
    },
    {
     "name": "stdout",
     "output_type": "stream",
     "text": [
      "Epoch 1240/2000, Loss: 0.0031\n",
      "Test Accuracy at Epoch 1240: 66.10%\n",
      "Test F1-score at Epoch 1240: 0.7849\n",
      "Classification Report at Epoch 1240:\n",
      "                  precision    recall  f1-score   support\n",
      "\n",
      "    infringement       0.25      0.17      0.20        30\n",
      "non_infringement       0.74      0.83      0.78        88\n",
      "\n",
      "        accuracy                           0.66       118\n",
      "       macro avg       0.50      0.50      0.49       118\n",
      "    weighted avg       0.62      0.66      0.64       118\n",
      "\n",
      "Epoch 1250/2000, Loss: 0.0030\n",
      "Test Accuracy at Epoch 1250: 65.25%\n",
      "Test F1-score at Epoch 1250: 0.7807\n",
      "Classification Report at Epoch 1250:\n",
      "                  precision    recall  f1-score   support\n",
      "\n",
      "    infringement       0.21      0.13      0.16        30\n",
      "non_infringement       0.74      0.83      0.78        88\n",
      "\n",
      "        accuracy                           0.65       118\n",
      "       macro avg       0.47      0.48      0.47       118\n",
      "    weighted avg       0.60      0.65      0.62       118\n",
      "\n",
      "Epoch 1260/2000, Loss: 0.0030\n",
      "Test Accuracy at Epoch 1260: 65.25%\n",
      "Test F1-score at Epoch 1260: 0.7807\n"
     ]
    },
    {
     "name": "stderr",
     "output_type": "stream",
     "text": [
      "Training Epochs:  64%|██████▍   | 1275/2000 [00:32<00:16, 45.22it/s]"
     ]
    },
    {
     "name": "stdout",
     "output_type": "stream",
     "text": [
      "Classification Report at Epoch 1260:\n",
      "                  precision    recall  f1-score   support\n",
      "\n",
      "    infringement       0.21      0.13      0.16        30\n",
      "non_infringement       0.74      0.83      0.78        88\n",
      "\n",
      "        accuracy                           0.65       118\n",
      "       macro avg       0.47      0.48      0.47       118\n",
      "    weighted avg       0.60      0.65      0.62       118\n",
      "\n",
      "Epoch 1270/2000, Loss: 0.0030\n",
      "Test Accuracy at Epoch 1270: 65.25%\n",
      "Test F1-score at Epoch 1270: 0.7807\n",
      "Classification Report at Epoch 1270:\n",
      "                  precision    recall  f1-score   support\n",
      "\n",
      "    infringement       0.21      0.13      0.16        30\n",
      "non_infringement       0.74      0.83      0.78        88\n",
      "\n",
      "        accuracy                           0.65       118\n",
      "       macro avg       0.47      0.48      0.47       118\n",
      "    weighted avg       0.60      0.65      0.62       118\n",
      "\n",
      "Epoch 1280/2000, Loss: 0.0030\n",
      "Test Accuracy at Epoch 1280: 65.25%\n",
      "Test F1-score at Epoch 1280: 0.7807\n"
     ]
    },
    {
     "name": "stderr",
     "output_type": "stream",
     "text": [
      "Training Epochs:  64%|██████▍   | 1285/2000 [00:32<00:13, 53.68it/s]"
     ]
    },
    {
     "name": "stdout",
     "output_type": "stream",
     "text": [
      "Classification Report at Epoch 1280:\n",
      "                  precision    recall  f1-score   support\n",
      "\n",
      "    infringement       0.21      0.13      0.16        30\n",
      "non_infringement       0.74      0.83      0.78        88\n",
      "\n",
      "        accuracy                           0.65       118\n",
      "       macro avg       0.47      0.48      0.47       118\n",
      "    weighted avg       0.60      0.65      0.62       118\n",
      "\n",
      "Epoch 1290/2000, Loss: 0.0030\n",
      "Test Accuracy at Epoch 1290: 66.10%\n",
      "Test F1-score at Epoch 1290: 0.7849\n",
      "Classification Report at Epoch 1290:\n",
      "                  precision    recall  f1-score   support\n",
      "\n",
      "    infringement       0.25      0.17      0.20        30\n",
      "non_infringement       0.74      0.83      0.78        88\n",
      "\n",
      "        accuracy                           0.66       118\n",
      "       macro avg       0.50      0.50      0.49       118\n",
      "    weighted avg       0.62      0.66      0.64       118\n",
      "\n"
     ]
    },
    {
     "name": "stderr",
     "output_type": "stream",
     "text": [
      "Training Epochs:  66%|██████▌   | 1314/2000 [00:32<00:10, 66.22it/s]"
     ]
    },
    {
     "name": "stdout",
     "output_type": "stream",
     "text": [
      "Epoch 1300/2000, Loss: 0.0031\n",
      "Test Accuracy at Epoch 1300: 66.10%\n",
      "Test F1-score at Epoch 1300: 0.7849\n",
      "Classification Report at Epoch 1300:\n",
      "                  precision    recall  f1-score   support\n",
      "\n",
      "    infringement       0.25      0.17      0.20        30\n",
      "non_infringement       0.74      0.83      0.78        88\n",
      "\n",
      "        accuracy                           0.66       118\n",
      "       macro avg       0.50      0.50      0.49       118\n",
      "    weighted avg       0.62      0.66      0.64       118\n",
      "\n",
      "Epoch 1310/2000, Loss: 0.0030\n",
      "Test Accuracy at Epoch 1310: 65.25%\n",
      "Test F1-score at Epoch 1310: 0.7807\n",
      "Classification Report at Epoch 1310:\n",
      "                  precision    recall  f1-score   support\n",
      "\n",
      "    infringement       0.21      0.13      0.16        30\n",
      "non_infringement       0.74      0.83      0.78        88\n",
      "\n",
      "        accuracy                           0.65       118\n",
      "       macro avg       0.47      0.48      0.47       118\n",
      "    weighted avg       0.60      0.65      0.62       118\n",
      "\n"
     ]
    },
    {
     "name": "stderr",
     "output_type": "stream",
     "text": [
      "Training Epochs:  67%|██████▋   | 1332/2000 [00:33<00:09, 73.05it/s]"
     ]
    },
    {
     "name": "stdout",
     "output_type": "stream",
     "text": [
      "Epoch 1320/2000, Loss: 0.0030\n",
      "Test Accuracy at Epoch 1320: 65.25%\n",
      "Test F1-score at Epoch 1320: 0.7807\n",
      "Classification Report at Epoch 1320:\n",
      "                  precision    recall  f1-score   support\n",
      "\n",
      "    infringement       0.21      0.13      0.16        30\n",
      "non_infringement       0.74      0.83      0.78        88\n",
      "\n",
      "        accuracy                           0.65       118\n",
      "       macro avg       0.47      0.48      0.47       118\n",
      "    weighted avg       0.60      0.65      0.62       118\n",
      "\n",
      "Epoch 1330/2000, Loss: 0.0030\n",
      "Test Accuracy at Epoch 1330: 65.25%\n",
      "Test F1-score at Epoch 1330: 0.7807\n",
      "Classification Report at Epoch 1330:\n",
      "                  precision    recall  f1-score   support\n",
      "\n",
      "    infringement       0.21      0.13      0.16        30\n",
      "non_infringement       0.74      0.83      0.78        88\n",
      "\n",
      "        accuracy                           0.65       118\n",
      "       macro avg       0.47      0.48      0.47       118\n",
      "    weighted avg       0.60      0.65      0.62       118\n",
      "\n"
     ]
    },
    {
     "name": "stderr",
     "output_type": "stream",
     "text": [
      "Training Epochs:  68%|██████▊   | 1351/2000 [00:33<00:08, 79.84it/s]"
     ]
    },
    {
     "name": "stdout",
     "output_type": "stream",
     "text": [
      "Epoch 1340/2000, Loss: 0.0030\n",
      "Test Accuracy at Epoch 1340: 65.25%\n",
      "Test F1-score at Epoch 1340: 0.7807\n",
      "Classification Report at Epoch 1340:\n",
      "                  precision    recall  f1-score   support\n",
      "\n",
      "    infringement       0.21      0.13      0.16        30\n",
      "non_infringement       0.74      0.83      0.78        88\n",
      "\n",
      "        accuracy                           0.65       118\n",
      "       macro avg       0.47      0.48      0.47       118\n",
      "    weighted avg       0.60      0.65      0.62       118\n",
      "\n",
      "Epoch 1350/2000, Loss: 0.0030\n",
      "Test Accuracy at Epoch 1350: 66.10%\n",
      "Test F1-score at Epoch 1350: 0.7849\n",
      "Classification Report at Epoch 1350:\n",
      "                  precision    recall  f1-score   support\n",
      "\n",
      "    infringement       0.25      0.17      0.20        30\n",
      "non_infringement       0.74      0.83      0.78        88\n",
      "\n",
      "        accuracy                           0.66       118\n",
      "       macro avg       0.50      0.50      0.49       118\n",
      "    weighted avg       0.62      0.66      0.64       118\n",
      "\n"
     ]
    },
    {
     "name": "stderr",
     "output_type": "stream",
     "text": [
      "Training Epochs:  68%|██████▊   | 1370/2000 [00:33<00:08, 75.20it/s]"
     ]
    },
    {
     "name": "stdout",
     "output_type": "stream",
     "text": [
      "Epoch 1360/2000, Loss: 0.0030\n",
      "Test Accuracy at Epoch 1360: 66.10%\n",
      "Test F1-score at Epoch 1360: 0.7849\n",
      "Classification Report at Epoch 1360:\n",
      "                  precision    recall  f1-score   support\n",
      "\n",
      "    infringement       0.25      0.17      0.20        30\n",
      "non_infringement       0.74      0.83      0.78        88\n",
      "\n",
      "        accuracy                           0.66       118\n",
      "       macro avg       0.50      0.50      0.49       118\n",
      "    weighted avg       0.62      0.66      0.64       118\n",
      "\n",
      "Epoch 1370/2000, Loss: 0.0030\n",
      "Test Accuracy at Epoch 1370: 65.25%\n",
      "Test F1-score at Epoch 1370: 0.7807\n",
      "Classification Report at Epoch 1370:\n",
      "                  precision    recall  f1-score   support\n",
      "\n",
      "    infringement       0.21      0.13      0.16        30\n",
      "non_infringement       0.74      0.83      0.78        88\n",
      "\n",
      "        accuracy                           0.65       118\n",
      "       macro avg       0.47      0.48      0.47       118\n",
      "    weighted avg       0.60      0.65      0.62       118\n",
      "\n"
     ]
    },
    {
     "name": "stderr",
     "output_type": "stream",
     "text": [
      "Training Epochs:  69%|██████▉   | 1387/2000 [00:33<00:09, 65.61it/s]"
     ]
    },
    {
     "name": "stdout",
     "output_type": "stream",
     "text": [
      "Epoch 1380/2000, Loss: 0.0030\n",
      "Test Accuracy at Epoch 1380: 65.25%\n",
      "Test F1-score at Epoch 1380: 0.7807\n",
      "Classification Report at Epoch 1380:\n",
      "                  precision    recall  f1-score   support\n",
      "\n",
      "    infringement       0.21      0.13      0.16        30\n",
      "non_infringement       0.74      0.83      0.78        88\n",
      "\n",
      "        accuracy                           0.65       118\n",
      "       macro avg       0.47      0.48      0.47       118\n",
      "    weighted avg       0.60      0.65      0.62       118\n",
      "\n",
      "Epoch 1390/2000, Loss: 0.0030\n"
     ]
    },
    {
     "name": "stderr",
     "output_type": "stream",
     "text": [
      "Training Epochs:  70%|███████   | 1401/2000 [00:34<00:10, 58.35it/s]"
     ]
    },
    {
     "name": "stdout",
     "output_type": "stream",
     "text": [
      "Test Accuracy at Epoch 1390: 65.25%\n",
      "Test F1-score at Epoch 1390: 0.7807\n",
      "Classification Report at Epoch 1390:\n",
      "                  precision    recall  f1-score   support\n",
      "\n",
      "    infringement       0.21      0.13      0.16        30\n",
      "non_infringement       0.74      0.83      0.78        88\n",
      "\n",
      "        accuracy                           0.65       118\n",
      "       macro avg       0.47      0.48      0.47       118\n",
      "    weighted avg       0.60      0.65      0.62       118\n",
      "\n",
      "Epoch 1400/2000, Loss: 0.0030\n",
      "Test Accuracy at Epoch 1400: 65.25%\n",
      "Test F1-score at Epoch 1400: 0.7807\n",
      "Classification Report at Epoch 1400:\n",
      "                  precision    recall  f1-score   support\n",
      "\n",
      "    infringement       0.21      0.13      0.16        30\n",
      "non_infringement       0.74      0.83      0.78        88\n",
      "\n",
      "        accuracy                           0.65       118\n",
      "       macro avg       0.47      0.48      0.47       118\n",
      "    weighted avg       0.60      0.65      0.62       118\n",
      "\n"
     ]
    },
    {
     "name": "stderr",
     "output_type": "stream",
     "text": [
      "Training Epochs:  71%|███████   | 1415/2000 [00:34<00:10, 57.75it/s]"
     ]
    },
    {
     "name": "stdout",
     "output_type": "stream",
     "text": [
      "Epoch 1410/2000, Loss: 0.0030\n",
      "Test Accuracy at Epoch 1410: 65.25%\n",
      "Test F1-score at Epoch 1410: 0.7807\n",
      "Classification Report at Epoch 1410:\n",
      "                  precision    recall  f1-score   support\n",
      "\n",
      "    infringement       0.21      0.13      0.16        30\n",
      "non_infringement       0.74      0.83      0.78        88\n",
      "\n",
      "        accuracy                           0.65       118\n",
      "       macro avg       0.47      0.48      0.47       118\n",
      "    weighted avg       0.60      0.65      0.62       118\n",
      "\n",
      "Epoch 1420/2000, Loss: 0.0032\n",
      "Test Accuracy at Epoch 1420: 66.10%\n",
      "Test F1-score at Epoch 1420: 0.7872\n",
      "Classification Report at Epoch 1420:\n",
      "                  precision    recall  f1-score   support\n",
      "\n",
      "    infringement       0.22      0.13      0.17        30\n",
      "non_infringement       0.74      0.84      0.79        88\n",
      "\n",
      "        accuracy                           0.66       118\n",
      "       macro avg       0.48      0.49      0.48       118\n",
      "    weighted avg       0.61      0.66      0.63       118\n",
      "\n"
     ]
    },
    {
     "name": "stderr",
     "output_type": "stream",
     "text": [
      "Training Epochs:  72%|███████▏  | 1440/2000 [00:34<00:10, 53.49it/s]"
     ]
    },
    {
     "name": "stdout",
     "output_type": "stream",
     "text": [
      "Epoch 1430/2000, Loss: 0.0030\n",
      "Test Accuracy at Epoch 1430: 66.10%\n",
      "Test F1-score at Epoch 1430: 0.7849\n",
      "Classification Report at Epoch 1430:\n",
      "                  precision    recall  f1-score   support\n",
      "\n",
      "    infringement       0.25      0.17      0.20        30\n",
      "non_infringement       0.74      0.83      0.78        88\n",
      "\n",
      "        accuracy                           0.66       118\n",
      "       macro avg       0.50      0.50      0.49       118\n",
      "    weighted avg       0.62      0.66      0.64       118\n",
      "\n",
      "Epoch 1440/2000, Loss: 0.0030\n",
      "Test Accuracy at Epoch 1440: 65.25%\n",
      "Test F1-score at Epoch 1440: 0.7807\n",
      "Classification Report at Epoch 1440:\n",
      "                  precision    recall  f1-score   support\n",
      "\n",
      "    infringement       0.21      0.13      0.16        30\n",
      "non_infringement       0.74      0.83      0.78        88\n",
      "\n",
      "        accuracy                           0.65       118\n",
      "       macro avg       0.47      0.48      0.47       118\n",
      "    weighted avg       0.60      0.65      0.62       118\n",
      "\n"
     ]
    },
    {
     "name": "stderr",
     "output_type": "stream",
     "text": [
      "Training Epochs:  73%|███████▎  | 1453/2000 [00:36<00:34, 15.81it/s]"
     ]
    },
    {
     "name": "stdout",
     "output_type": "stream",
     "text": [
      "Epoch 1450/2000, Loss: 0.0030\n",
      "Test Accuracy at Epoch 1450: 65.25%\n",
      "Test F1-score at Epoch 1450: 0.7807\n",
      "Classification Report at Epoch 1450:\n",
      "                  precision    recall  f1-score   support\n",
      "\n",
      "    infringement       0.21      0.13      0.16        30\n",
      "non_infringement       0.74      0.83      0.78        88\n",
      "\n",
      "        accuracy                           0.65       118\n",
      "       macro avg       0.47      0.48      0.47       118\n",
      "    weighted avg       0.60      0.65      0.62       118\n",
      "\n"
     ]
    },
    {
     "name": "stderr",
     "output_type": "stream",
     "text": [
      "Training Epochs:  74%|███████▍  | 1475/2000 [00:36<00:15, 33.82it/s]"
     ]
    },
    {
     "name": "stdout",
     "output_type": "stream",
     "text": [
      "Epoch 1460/2000, Loss: 0.0030\n",
      "Test Accuracy at Epoch 1460: 65.25%\n",
      "Test F1-score at Epoch 1460: 0.7807\n",
      "Classification Report at Epoch 1460:\n",
      "                  precision    recall  f1-score   support\n",
      "\n",
      "    infringement       0.21      0.13      0.16        30\n",
      "non_infringement       0.74      0.83      0.78        88\n",
      "\n",
      "        accuracy                           0.65       118\n",
      "       macro avg       0.47      0.48      0.47       118\n",
      "    weighted avg       0.60      0.65      0.62       118\n",
      "\n",
      "Epoch 1470/2000, Loss: 0.0030\n",
      "Test Accuracy at Epoch 1470: 65.25%\n",
      "Test F1-score at Epoch 1470: 0.7807\n",
      "Classification Report at Epoch 1470:\n",
      "                  precision    recall  f1-score   support\n",
      "\n",
      "    infringement       0.21      0.13      0.16        30\n",
      "non_infringement       0.74      0.83      0.78        88\n",
      "\n",
      "        accuracy                           0.65       118\n",
      "       macro avg       0.47      0.48      0.47       118\n",
      "    weighted avg       0.60      0.65      0.62       118\n",
      "\n"
     ]
    },
    {
     "name": "stderr",
     "output_type": "stream",
     "text": [
      "Training Epochs:  75%|███████▍  | 1495/2000 [00:36<00:09, 54.29it/s]"
     ]
    },
    {
     "name": "stdout",
     "output_type": "stream",
     "text": [
      "Epoch 1480/2000, Loss: 0.0030\n",
      "Test Accuracy at Epoch 1480: 65.25%\n",
      "Test F1-score at Epoch 1480: 0.7807\n",
      "Classification Report at Epoch 1480:\n",
      "                  precision    recall  f1-score   support\n",
      "\n",
      "    infringement       0.21      0.13      0.16        30\n",
      "non_infringement       0.74      0.83      0.78        88\n",
      "\n",
      "        accuracy                           0.65       118\n",
      "       macro avg       0.47      0.48      0.47       118\n",
      "    weighted avg       0.60      0.65      0.62       118\n",
      "\n",
      "Epoch 1490/2000, Loss: 0.0030\n",
      "Test Accuracy at Epoch 1490: 65.25%\n",
      "Test F1-score at Epoch 1490: 0.7807\n",
      "Classification Report at Epoch 1490:\n",
      "                  precision    recall  f1-score   support\n",
      "\n",
      "    infringement       0.21      0.13      0.16        30\n",
      "non_infringement       0.74      0.83      0.78        88\n",
      "\n",
      "        accuracy                           0.65       118\n",
      "       macro avg       0.47      0.48      0.47       118\n",
      "    weighted avg       0.60      0.65      0.62       118\n",
      "\n"
     ]
    },
    {
     "name": "stderr",
     "output_type": "stream",
     "text": [
      "Training Epochs:  75%|███████▌  | 1503/2000 [00:36<00:09, 51.53it/s]"
     ]
    },
    {
     "name": "stdout",
     "output_type": "stream",
     "text": [
      "Epoch 1500/2000, Loss: 0.0030\n",
      "Test Accuracy at Epoch 1500: 66.10%\n",
      "Test F1-score at Epoch 1500: 0.7849\n",
      "Classification Report at Epoch 1500:\n",
      "                  precision    recall  f1-score   support\n",
      "\n",
      "    infringement       0.25      0.17      0.20        30\n",
      "non_infringement       0.74      0.83      0.78        88\n",
      "\n",
      "        accuracy                           0.66       118\n",
      "       macro avg       0.50      0.50      0.49       118\n",
      "    weighted avg       0.62      0.66      0.64       118\n",
      "\n",
      "Epoch 1510/2000, Loss: 0.0030\n",
      "Test Accuracy at Epoch 1510: 65.25%\n",
      "Test F1-score at Epoch 1510: 0.7807\n"
     ]
    },
    {
     "name": "stderr",
     "output_type": "stream",
     "text": [
      "Training Epochs:  76%|███████▌  | 1521/2000 [00:36<00:07, 64.58it/s]"
     ]
    },
    {
     "name": "stdout",
     "output_type": "stream",
     "text": [
      "Classification Report at Epoch 1510:\n",
      "                  precision    recall  f1-score   support\n",
      "\n",
      "    infringement       0.21      0.13      0.16        30\n",
      "non_infringement       0.74      0.83      0.78        88\n",
      "\n",
      "        accuracy                           0.65       118\n",
      "       macro avg       0.47      0.48      0.47       118\n",
      "    weighted avg       0.60      0.65      0.62       118\n",
      "\n",
      "Epoch 1520/2000, Loss: 0.0030\n",
      "Test Accuracy at Epoch 1520: 65.25%\n",
      "Test F1-score at Epoch 1520: 0.7807\n",
      "Classification Report at Epoch 1520:\n",
      "                  precision    recall  f1-score   support\n",
      "\n",
      "    infringement       0.21      0.13      0.16        30\n",
      "non_infringement       0.74      0.83      0.78        88\n",
      "\n",
      "        accuracy                           0.65       118\n",
      "       macro avg       0.47      0.48      0.47       118\n",
      "    weighted avg       0.60      0.65      0.62       118\n",
      "\n"
     ]
    },
    {
     "name": "stderr",
     "output_type": "stream",
     "text": [
      "Training Epochs:  77%|███████▋  | 1531/2000 [00:37<00:06, 72.18it/s]"
     ]
    },
    {
     "name": "stdout",
     "output_type": "stream",
     "text": [
      "Epoch 1530/2000, Loss: 0.0030\n",
      "Test Accuracy at Epoch 1530: 65.25%\n",
      "Test F1-score at Epoch 1530: 0.7807\n",
      "Classification Report at Epoch 1530:\n",
      "                  precision    recall  f1-score   support\n",
      "\n",
      "    infringement       0.21      0.13      0.16        30\n",
      "non_infringement       0.74      0.83      0.78        88\n",
      "\n",
      "        accuracy                           0.65       118\n",
      "       macro avg       0.47      0.48      0.47       118\n",
      "    weighted avg       0.60      0.65      0.62       118\n",
      "\n",
      "Epoch 1540/2000, Loss: 0.0030\n",
      "Test Accuracy at Epoch 1540: 65.25%\n",
      "Test F1-score at Epoch 1540: 0.7807\n"
     ]
    },
    {
     "name": "stderr",
     "output_type": "stream",
     "text": [
      "Training Epochs:  77%|███████▋  | 1549/2000 [00:37<00:06, 69.19it/s]"
     ]
    },
    {
     "name": "stdout",
     "output_type": "stream",
     "text": [
      "Classification Report at Epoch 1540:\n",
      "                  precision    recall  f1-score   support\n",
      "\n",
      "    infringement       0.21      0.13      0.16        30\n",
      "non_infringement       0.74      0.83      0.78        88\n",
      "\n",
      "        accuracy                           0.65       118\n",
      "       macro avg       0.47      0.48      0.47       118\n",
      "    weighted avg       0.60      0.65      0.62       118\n",
      "\n",
      "Epoch 1550/2000, Loss: 0.0030\n",
      "Test Accuracy at Epoch 1550: 65.25%\n",
      "Test F1-score at Epoch 1550: 0.7807\n",
      "Classification Report at Epoch 1550:\n",
      "                  precision    recall  f1-score   support\n",
      "\n",
      "    infringement       0.21      0.13      0.16        30\n",
      "non_infringement       0.74      0.83      0.78        88\n",
      "\n",
      "        accuracy                           0.65       118\n",
      "       macro avg       0.47      0.48      0.47       118\n",
      "    weighted avg       0.60      0.65      0.62       118\n",
      "\n"
     ]
    },
    {
     "name": "stderr",
     "output_type": "stream",
     "text": [
      "Training Epochs:  78%|███████▊  | 1568/2000 [00:37<00:06, 71.42it/s]"
     ]
    },
    {
     "name": "stdout",
     "output_type": "stream",
     "text": [
      "Epoch 1560/2000, Loss: 0.0030\n",
      "Test Accuracy at Epoch 1560: 65.25%\n",
      "Test F1-score at Epoch 1560: 0.7807\n",
      "Classification Report at Epoch 1560:\n",
      "                  precision    recall  f1-score   support\n",
      "\n",
      "    infringement       0.21      0.13      0.16        30\n",
      "non_infringement       0.74      0.83      0.78        88\n",
      "\n",
      "        accuracy                           0.65       118\n",
      "       macro avg       0.47      0.48      0.47       118\n",
      "    weighted avg       0.60      0.65      0.62       118\n",
      "\n",
      "Epoch 1570/2000, Loss: 0.0030\n",
      "Test Accuracy at Epoch 1570: 65.25%\n",
      "Test F1-score at Epoch 1570: 0.7807\n",
      "Classification Report at Epoch 1570:\n",
      "                  precision    recall  f1-score   support\n",
      "\n",
      "    infringement       0.21      0.13      0.16        30\n",
      "non_infringement       0.74      0.83      0.78        88\n",
      "\n",
      "        accuracy                           0.65       118\n",
      "       macro avg       0.47      0.48      0.47       118\n",
      "    weighted avg       0.60      0.65      0.62       118\n",
      "\n"
     ]
    },
    {
     "name": "stderr",
     "output_type": "stream",
     "text": [
      "Training Epochs:  80%|███████▉  | 1597/2000 [00:37<00:04, 82.15it/s]"
     ]
    },
    {
     "name": "stdout",
     "output_type": "stream",
     "text": [
      "Epoch 1580/2000, Loss: 0.0030\n",
      "Test Accuracy at Epoch 1580: 65.25%\n",
      "Test F1-score at Epoch 1580: 0.7807\n",
      "Classification Report at Epoch 1580:\n",
      "                  precision    recall  f1-score   support\n",
      "\n",
      "    infringement       0.21      0.13      0.16        30\n",
      "non_infringement       0.74      0.83      0.78        88\n",
      "\n",
      "        accuracy                           0.65       118\n",
      "       macro avg       0.47      0.48      0.47       118\n",
      "    weighted avg       0.60      0.65      0.62       118\n",
      "\n",
      "Epoch 1590/2000, Loss: 0.0031\n",
      "Test Accuracy at Epoch 1590: 66.10%\n",
      "Test F1-score at Epoch 1590: 0.7849\n",
      "Classification Report at Epoch 1590:\n",
      "                  precision    recall  f1-score   support\n",
      "\n",
      "    infringement       0.25      0.17      0.20        30\n",
      "non_infringement       0.74      0.83      0.78        88\n",
      "\n",
      "        accuracy                           0.66       118\n",
      "       macro avg       0.50      0.50      0.49       118\n",
      "    weighted avg       0.62      0.66      0.64       118\n",
      "\n"
     ]
    },
    {
     "name": "stderr",
     "output_type": "stream",
     "text": [
      "Training Epochs:  81%|████████  | 1616/2000 [00:38<00:04, 84.23it/s]"
     ]
    },
    {
     "name": "stdout",
     "output_type": "stream",
     "text": [
      "Epoch 1600/2000, Loss: 0.0030\n",
      "Test Accuracy at Epoch 1600: 65.25%\n",
      "Test F1-score at Epoch 1600: 0.7807\n",
      "Classification Report at Epoch 1600:\n",
      "                  precision    recall  f1-score   support\n",
      "\n",
      "    infringement       0.21      0.13      0.16        30\n",
      "non_infringement       0.74      0.83      0.78        88\n",
      "\n",
      "        accuracy                           0.65       118\n",
      "       macro avg       0.47      0.48      0.47       118\n",
      "    weighted avg       0.60      0.65      0.62       118\n",
      "\n",
      "Epoch 1610/2000, Loss: 0.0030\n",
      "Test Accuracy at Epoch 1610: 65.25%\n",
      "Test F1-score at Epoch 1610: 0.7807\n",
      "Classification Report at Epoch 1610:\n",
      "                  precision    recall  f1-score   support\n",
      "\n",
      "    infringement       0.21      0.13      0.16        30\n",
      "non_infringement       0.74      0.83      0.78        88\n",
      "\n",
      "        accuracy                           0.65       118\n",
      "       macro avg       0.47      0.48      0.47       118\n",
      "    weighted avg       0.60      0.65      0.62       118\n",
      "\n"
     ]
    },
    {
     "name": "stderr",
     "output_type": "stream",
     "text": [
      "Training Epochs:  81%|████████▏ | 1626/2000 [00:38<00:04, 87.93it/s]"
     ]
    },
    {
     "name": "stdout",
     "output_type": "stream",
     "text": [
      "Epoch 1620/2000, Loss: 0.0030\n",
      "Test Accuracy at Epoch 1620: 65.25%\n",
      "Test F1-score at Epoch 1620: 0.7807\n",
      "Classification Report at Epoch 1620:\n",
      "                  precision    recall  f1-score   support\n",
      "\n",
      "    infringement       0.21      0.13      0.16        30\n",
      "non_infringement       0.74      0.83      0.78        88\n",
      "\n",
      "        accuracy                           0.65       118\n",
      "       macro avg       0.47      0.48      0.47       118\n",
      "    weighted avg       0.60      0.65      0.62       118\n",
      "\n",
      "Epoch 1630/2000, Loss: 0.0030\n",
      "Test Accuracy at Epoch 1630: 65.25%\n",
      "Test F1-score at Epoch 1630: 0.7807\n",
      "Classification Report at Epoch 1630:\n",
      "                  precision    recall  f1-score   support\n",
      "\n",
      "    infringement       0.21      0.13      0.16        30\n",
      "non_infringement       0.74      0.83      0.78        88\n",
      "\n",
      "        accuracy                           0.65       118\n",
      "       macro avg       0.47      0.48      0.47       118\n",
      "    weighted avg       0.60      0.65      0.62       118\n",
      "\n"
     ]
    },
    {
     "name": "stderr",
     "output_type": "stream",
     "text": [
      "Training Epochs:  82%|████████▏ | 1644/2000 [00:38<00:04, 73.66it/s]"
     ]
    },
    {
     "name": "stdout",
     "output_type": "stream",
     "text": [
      "Epoch 1640/2000, Loss: 0.0030\n",
      "Test Accuracy at Epoch 1640: 65.25%\n",
      "Test F1-score at Epoch 1640: 0.7807\n",
      "Classification Report at Epoch 1640:\n",
      "                  precision    recall  f1-score   support\n",
      "\n",
      "    infringement       0.21      0.13      0.16        30\n",
      "non_infringement       0.74      0.83      0.78        88\n",
      "\n",
      "        accuracy                           0.65       118\n",
      "       macro avg       0.47      0.48      0.47       118\n",
      "    weighted avg       0.60      0.65      0.62       118\n",
      "\n"
     ]
    },
    {
     "name": "stderr",
     "output_type": "stream",
     "text": [
      "Training Epochs:  83%|████████▎ | 1659/2000 [00:39<00:10, 33.40it/s]"
     ]
    },
    {
     "name": "stdout",
     "output_type": "stream",
     "text": [
      "Epoch 1650/2000, Loss: 0.0030\n",
      "Test Accuracy at Epoch 1650: 65.25%\n",
      "Test F1-score at Epoch 1650: 0.7807\n",
      "Classification Report at Epoch 1650:\n",
      "                  precision    recall  f1-score   support\n",
      "\n",
      "    infringement       0.21      0.13      0.16        30\n",
      "non_infringement       0.74      0.83      0.78        88\n",
      "\n",
      "        accuracy                           0.65       118\n",
      "       macro avg       0.47      0.48      0.47       118\n",
      "    weighted avg       0.60      0.65      0.62       118\n",
      "\n"
     ]
    },
    {
     "name": "stderr",
     "output_type": "stream",
     "text": [
      "Training Epochs:  83%|████████▎ | 1665/2000 [00:39<00:10, 32.09it/s]"
     ]
    },
    {
     "name": "stdout",
     "output_type": "stream",
     "text": [
      "Epoch 1660/2000, Loss: 0.0030\n",
      "Test Accuracy at Epoch 1660: 65.25%\n",
      "Test F1-score at Epoch 1660: 0.7807\n",
      "Classification Report at Epoch 1660:\n",
      "                  precision    recall  f1-score   support\n",
      "\n",
      "    infringement       0.21      0.13      0.16        30\n",
      "non_infringement       0.74      0.83      0.78        88\n",
      "\n",
      "        accuracy                           0.65       118\n",
      "       macro avg       0.47      0.48      0.47       118\n",
      "    weighted avg       0.60      0.65      0.62       118\n",
      "\n"
     ]
    },
    {
     "name": "stderr",
     "output_type": "stream",
     "text": [
      "Training Epochs:  84%|████████▍ | 1677/2000 [00:39<00:08, 38.73it/s]"
     ]
    },
    {
     "name": "stdout",
     "output_type": "stream",
     "text": [
      "Epoch 1670/2000, Loss: 0.0030\n",
      "Test Accuracy at Epoch 1670: 65.25%\n",
      "Test F1-score at Epoch 1670: 0.7807\n",
      "Classification Report at Epoch 1670:\n",
      "                  precision    recall  f1-score   support\n",
      "\n",
      "    infringement       0.21      0.13      0.16        30\n",
      "non_infringement       0.74      0.83      0.78        88\n",
      "\n",
      "        accuracy                           0.65       118\n",
      "       macro avg       0.47      0.48      0.47       118\n",
      "    weighted avg       0.60      0.65      0.62       118\n",
      "\n"
     ]
    },
    {
     "name": "stderr",
     "output_type": "stream",
     "text": [
      "Training Epochs:  84%|████████▍ | 1690/2000 [00:40<00:06, 44.94it/s]"
     ]
    },
    {
     "name": "stdout",
     "output_type": "stream",
     "text": [
      "Epoch 1680/2000, Loss: 0.0030\n",
      "Test Accuracy at Epoch 1680: 65.25%\n",
      "Test F1-score at Epoch 1680: 0.7807\n",
      "Classification Report at Epoch 1680:\n",
      "                  precision    recall  f1-score   support\n",
      "\n",
      "    infringement       0.21      0.13      0.16        30\n",
      "non_infringement       0.74      0.83      0.78        88\n",
      "\n",
      "        accuracy                           0.65       118\n",
      "       macro avg       0.47      0.48      0.47       118\n",
      "    weighted avg       0.60      0.65      0.62       118\n",
      "\n",
      "Epoch 1690/2000, Loss: 0.0031\n",
      "Test Accuracy at Epoch 1690: 66.10%\n",
      "Test F1-score at Epoch 1690: 0.7872\n",
      "Classification Report at Epoch 1690:\n",
      "                  precision    recall  f1-score   support\n",
      "\n",
      "    infringement       0.22      0.13      0.17        30\n",
      "non_infringement       0.74      0.84      0.79        88\n",
      "\n",
      "        accuracy                           0.66       118\n",
      "       macro avg       0.48      0.49      0.48       118\n",
      "    weighted avg       0.61      0.66      0.63       118\n",
      "\n"
     ]
    },
    {
     "name": "stderr",
     "output_type": "stream",
     "text": [
      "Training Epochs:  86%|████████▌ | 1710/2000 [00:40<00:05, 50.56it/s]"
     ]
    },
    {
     "name": "stdout",
     "output_type": "stream",
     "text": [
      "Epoch 1700/2000, Loss: 0.0030\n",
      "Test Accuracy at Epoch 1700: 65.25%\n",
      "Test F1-score at Epoch 1700: 0.7807\n",
      "Classification Report at Epoch 1700:\n",
      "                  precision    recall  f1-score   support\n",
      "\n",
      "    infringement       0.21      0.13      0.16        30\n",
      "non_infringement       0.74      0.83      0.78        88\n",
      "\n",
      "        accuracy                           0.65       118\n",
      "       macro avg       0.47      0.48      0.47       118\n",
      "    weighted avg       0.60      0.65      0.62       118\n",
      "\n",
      "Epoch 1710/2000, Loss: 0.0030\n",
      "Test Accuracy at Epoch 1710: 65.25%\n",
      "Test F1-score at Epoch 1710: 0.7807\n",
      "Classification Report at Epoch 1710:\n",
      "                  precision    recall  f1-score   support\n",
      "\n",
      "    infringement       0.21      0.13      0.16        30\n",
      "non_infringement       0.74      0.83      0.78        88\n",
      "\n",
      "        accuracy                           0.65       118\n",
      "       macro avg       0.47      0.48      0.47       118\n",
      "    weighted avg       0.60      0.65      0.62       118\n",
      "\n"
     ]
    },
    {
     "name": "stderr",
     "output_type": "stream",
     "text": [
      "Training Epochs:  86%|████████▋ | 1728/2000 [00:40<00:05, 52.57it/s]"
     ]
    },
    {
     "name": "stdout",
     "output_type": "stream",
     "text": [
      "Epoch 1720/2000, Loss: 0.0030\n",
      "Test Accuracy at Epoch 1720: 65.25%\n",
      "Test F1-score at Epoch 1720: 0.7807\n",
      "Classification Report at Epoch 1720:\n",
      "                  precision    recall  f1-score   support\n",
      "\n",
      "    infringement       0.21      0.13      0.16        30\n",
      "non_infringement       0.74      0.83      0.78        88\n",
      "\n",
      "        accuracy                           0.65       118\n",
      "       macro avg       0.47      0.48      0.47       118\n",
      "    weighted avg       0.60      0.65      0.62       118\n",
      "\n",
      "Epoch 1730/2000, Loss: 0.0030\n"
     ]
    },
    {
     "name": "stderr",
     "output_type": "stream",
     "text": [
      "Training Epochs:  87%|████████▋ | 1740/2000 [00:41<00:04, 52.27it/s]"
     ]
    },
    {
     "name": "stdout",
     "output_type": "stream",
     "text": [
      "Test Accuracy at Epoch 1730: 65.25%\n",
      "Test F1-score at Epoch 1730: 0.7807\n",
      "Classification Report at Epoch 1730:\n",
      "                  precision    recall  f1-score   support\n",
      "\n",
      "    infringement       0.21      0.13      0.16        30\n",
      "non_infringement       0.74      0.83      0.78        88\n",
      "\n",
      "        accuracy                           0.65       118\n",
      "       macro avg       0.47      0.48      0.47       118\n",
      "    weighted avg       0.60      0.65      0.62       118\n",
      "\n",
      "Epoch 1740/2000, Loss: 0.0030\n",
      "Test Accuracy at Epoch 1740: 65.25%\n",
      "Test F1-score at Epoch 1740: 0.7807\n",
      "Classification Report at Epoch 1740:\n",
      "                  precision    recall  f1-score   support\n",
      "\n",
      "    infringement       0.21      0.13      0.16        30\n",
      "non_infringement       0.74      0.83      0.78        88\n",
      "\n",
      "        accuracy                           0.65       118\n",
      "       macro avg       0.47      0.48      0.47       118\n",
      "    weighted avg       0.60      0.65      0.62       118\n",
      "\n"
     ]
    },
    {
     "name": "stderr",
     "output_type": "stream",
     "text": [
      "Training Epochs:  88%|████████▊ | 1752/2000 [00:41<00:04, 55.12it/s]"
     ]
    },
    {
     "name": "stdout",
     "output_type": "stream",
     "text": [
      "Epoch 1750/2000, Loss: 0.0030\n",
      "Test Accuracy at Epoch 1750: 65.25%\n",
      "Test F1-score at Epoch 1750: 0.7807\n",
      "Classification Report at Epoch 1750:\n",
      "                  precision    recall  f1-score   support\n",
      "\n",
      "    infringement       0.21      0.13      0.16        30\n",
      "non_infringement       0.74      0.83      0.78        88\n",
      "\n",
      "        accuracy                           0.65       118\n",
      "       macro avg       0.47      0.48      0.47       118\n",
      "    weighted avg       0.60      0.65      0.62       118\n",
      "\n"
     ]
    },
    {
     "name": "stderr",
     "output_type": "stream",
     "text": [
      "Training Epochs:  88%|████████▊ | 1770/2000 [00:41<00:05, 42.58it/s]"
     ]
    },
    {
     "name": "stdout",
     "output_type": "stream",
     "text": [
      "Epoch 1760/2000, Loss: 0.0030\n",
      "Test Accuracy at Epoch 1760: 65.25%\n",
      "Test F1-score at Epoch 1760: 0.7807\n",
      "Classification Report at Epoch 1760:\n",
      "                  precision    recall  f1-score   support\n",
      "\n",
      "    infringement       0.21      0.13      0.16        30\n",
      "non_infringement       0.74      0.83      0.78        88\n",
      "\n",
      "        accuracy                           0.65       118\n",
      "       macro avg       0.47      0.48      0.47       118\n",
      "    weighted avg       0.60      0.65      0.62       118\n",
      "\n",
      "Epoch 1770/2000, Loss: 0.0030\n",
      "Test Accuracy at Epoch 1770: 65.25%\n",
      "Test F1-score at Epoch 1770: 0.7807\n",
      "Classification Report at Epoch 1770:\n",
      "                  precision    recall  f1-score   support\n",
      "\n",
      "    infringement       0.21      0.13      0.16        30\n",
      "non_infringement       0.74      0.83      0.78        88\n",
      "\n",
      "        accuracy                           0.65       118\n",
      "       macro avg       0.47      0.48      0.47       118\n",
      "    weighted avg       0.60      0.65      0.62       118\n",
      "\n"
     ]
    },
    {
     "name": "stderr",
     "output_type": "stream",
     "text": [
      "Training Epochs:  89%|████████▉ | 1783/2000 [00:42<00:10, 21.50it/s]"
     ]
    },
    {
     "name": "stdout",
     "output_type": "stream",
     "text": [
      "Epoch 1780/2000, Loss: 0.0030\n",
      "Test Accuracy at Epoch 1780: 65.25%\n",
      "Test F1-score at Epoch 1780: 0.7807\n",
      "Classification Report at Epoch 1780:\n",
      "                  precision    recall  f1-score   support\n",
      "\n",
      "    infringement       0.21      0.13      0.16        30\n",
      "non_infringement       0.74      0.83      0.78        88\n",
      "\n",
      "        accuracy                           0.65       118\n",
      "       macro avg       0.47      0.48      0.47       118\n",
      "    weighted avg       0.60      0.65      0.62       118\n",
      "\n",
      "Epoch 1790/2000, Loss: 0.0031\n",
      "Test Accuracy at Epoch 1790: 66.95%\n",
      "Test F1-score at Epoch 1790: 0.7937\n",
      "Classification Report at Epoch 1790:\n",
      "                  precision    recall  f1-score   support\n",
      "\n",
      "    infringement       0.24      0.13      0.17        30\n",
      "non_infringement       0.74      0.85      0.79        88\n",
      "\n",
      "        accuracy                           0.67       118\n",
      "       macro avg       0.49      0.49      0.48       118\n",
      "    weighted avg       0.61      0.67      0.64       118\n",
      "\n"
     ]
    },
    {
     "name": "stderr",
     "output_type": "stream",
     "text": [
      "Training Epochs:  91%|█████████ | 1811/2000 [00:42<00:03, 49.49it/s]"
     ]
    },
    {
     "name": "stdout",
     "output_type": "stream",
     "text": [
      "Epoch 1800/2000, Loss: 0.0030\n",
      "Test Accuracy at Epoch 1800: 65.25%\n",
      "Test F1-score at Epoch 1800: 0.7807\n",
      "Classification Report at Epoch 1800:\n",
      "                  precision    recall  f1-score   support\n",
      "\n",
      "    infringement       0.21      0.13      0.16        30\n",
      "non_infringement       0.74      0.83      0.78        88\n",
      "\n",
      "        accuracy                           0.65       118\n",
      "       macro avg       0.47      0.48      0.47       118\n",
      "    weighted avg       0.60      0.65      0.62       118\n",
      "\n",
      "Epoch 1810/2000, Loss: 0.0030\n",
      "Test Accuracy at Epoch 1810: 65.25%\n",
      "Test F1-score at Epoch 1810: 0.7807\n",
      "Classification Report at Epoch 1810:\n",
      "                  precision    recall  f1-score   support\n",
      "\n",
      "    infringement       0.21      0.13      0.16        30\n",
      "non_infringement       0.74      0.83      0.78        88\n",
      "\n",
      "        accuracy                           0.65       118\n",
      "       macro avg       0.47      0.48      0.47       118\n",
      "    weighted avg       0.60      0.65      0.62       118\n",
      "\n"
     ]
    },
    {
     "name": "stderr",
     "output_type": "stream",
     "text": [
      "Training Epochs:  91%|█████████▏| 1828/2000 [00:43<00:02, 58.96it/s]"
     ]
    },
    {
     "name": "stdout",
     "output_type": "stream",
     "text": [
      "Epoch 1820/2000, Loss: 0.0030\n",
      "Test Accuracy at Epoch 1820: 65.25%\n",
      "Test F1-score at Epoch 1820: 0.7807\n",
      "Classification Report at Epoch 1820:\n",
      "                  precision    recall  f1-score   support\n",
      "\n",
      "    infringement       0.21      0.13      0.16        30\n",
      "non_infringement       0.74      0.83      0.78        88\n",
      "\n",
      "        accuracy                           0.65       118\n",
      "       macro avg       0.47      0.48      0.47       118\n",
      "    weighted avg       0.60      0.65      0.62       118\n",
      "\n",
      "Epoch 1830/2000, Loss: 0.0030\n",
      "Test Accuracy at Epoch 1830: 65.25%\n",
      "Test F1-score at Epoch 1830: 0.7807\n",
      "Classification Report at Epoch 1830:\n",
      "                  precision    recall  f1-score   support\n",
      "\n",
      "    infringement       0.21      0.13      0.16        30\n",
      "non_infringement       0.74      0.83      0.78        88\n",
      "\n",
      "        accuracy                           0.65       118\n",
      "       macro avg       0.47      0.48      0.47       118\n",
      "    weighted avg       0.60      0.65      0.62       118\n",
      "\n"
     ]
    },
    {
     "name": "stderr",
     "output_type": "stream",
     "text": [
      "Training Epochs:  93%|█████████▎| 1855/2000 [00:43<00:01, 75.98it/s]"
     ]
    },
    {
     "name": "stdout",
     "output_type": "stream",
     "text": [
      "Epoch 1840/2000, Loss: 0.0030\n",
      "Test Accuracy at Epoch 1840: 65.25%\n",
      "Test F1-score at Epoch 1840: 0.7807\n",
      "Classification Report at Epoch 1840:\n",
      "                  precision    recall  f1-score   support\n",
      "\n",
      "    infringement       0.21      0.13      0.16        30\n",
      "non_infringement       0.74      0.83      0.78        88\n",
      "\n",
      "        accuracy                           0.65       118\n",
      "       macro avg       0.47      0.48      0.47       118\n",
      "    weighted avg       0.60      0.65      0.62       118\n",
      "\n",
      "Epoch 1850/2000, Loss: 0.0030\n",
      "Test Accuracy at Epoch 1850: 65.25%\n",
      "Test F1-score at Epoch 1850: 0.7807\n",
      "Classification Report at Epoch 1850:\n",
      "                  precision    recall  f1-score   support\n",
      "\n",
      "    infringement       0.21      0.13      0.16        30\n",
      "non_infringement       0.74      0.83      0.78        88\n",
      "\n",
      "        accuracy                           0.65       118\n",
      "       macro avg       0.47      0.48      0.47       118\n",
      "    weighted avg       0.60      0.65      0.62       118\n",
      "\n"
     ]
    },
    {
     "name": "stderr",
     "output_type": "stream",
     "text": [
      "Training Epochs:  94%|█████████▍| 1875/2000 [00:43<00:01, 84.45it/s]"
     ]
    },
    {
     "name": "stdout",
     "output_type": "stream",
     "text": [
      "Epoch 1860/2000, Loss: 0.0030\n",
      "Test Accuracy at Epoch 1860: 65.25%\n",
      "Test F1-score at Epoch 1860: 0.7807\n",
      "Classification Report at Epoch 1860:\n",
      "                  precision    recall  f1-score   support\n",
      "\n",
      "    infringement       0.21      0.13      0.16        30\n",
      "non_infringement       0.74      0.83      0.78        88\n",
      "\n",
      "        accuracy                           0.65       118\n",
      "       macro avg       0.47      0.48      0.47       118\n",
      "    weighted avg       0.60      0.65      0.62       118\n",
      "\n",
      "Epoch 1870/2000, Loss: 0.0030\n",
      "Test Accuracy at Epoch 1870: 65.25%\n",
      "Test F1-score at Epoch 1870: 0.7807\n",
      "Classification Report at Epoch 1870:\n",
      "                  precision    recall  f1-score   support\n",
      "\n",
      "    infringement       0.21      0.13      0.16        30\n",
      "non_infringement       0.74      0.83      0.78        88\n",
      "\n",
      "        accuracy                           0.65       118\n",
      "       macro avg       0.47      0.48      0.47       118\n",
      "    weighted avg       0.60      0.65      0.62       118\n",
      "\n"
     ]
    },
    {
     "name": "stderr",
     "output_type": "stream",
     "text": [
      "Training Epochs:  95%|█████████▍| 1894/2000 [00:43<00:01, 86.59it/s]"
     ]
    },
    {
     "name": "stdout",
     "output_type": "stream",
     "text": [
      "Epoch 1880/2000, Loss: 0.0030\n",
      "Test Accuracy at Epoch 1880: 65.25%\n",
      "Test F1-score at Epoch 1880: 0.7807\n",
      "Classification Report at Epoch 1880:\n",
      "                  precision    recall  f1-score   support\n",
      "\n",
      "    infringement       0.21      0.13      0.16        30\n",
      "non_infringement       0.74      0.83      0.78        88\n",
      "\n",
      "        accuracy                           0.65       118\n",
      "       macro avg       0.47      0.48      0.47       118\n",
      "    weighted avg       0.60      0.65      0.62       118\n",
      "\n",
      "Epoch 1890/2000, Loss: 0.0030\n",
      "Test Accuracy at Epoch 1890: 65.25%\n",
      "Test F1-score at Epoch 1890: 0.7807\n",
      "Classification Report at Epoch 1890:\n",
      "                  precision    recall  f1-score   support\n",
      "\n",
      "    infringement       0.21      0.13      0.16        30\n",
      "non_infringement       0.74      0.83      0.78        88\n",
      "\n",
      "        accuracy                           0.65       118\n",
      "       macro avg       0.47      0.48      0.47       118\n",
      "    weighted avg       0.60      0.65      0.62       118\n",
      "\n"
     ]
    },
    {
     "name": "stderr",
     "output_type": "stream",
     "text": [
      "Training Epochs:  96%|█████████▌| 1913/2000 [00:44<00:00, 89.55it/s]"
     ]
    },
    {
     "name": "stdout",
     "output_type": "stream",
     "text": [
      "Epoch 1900/2000, Loss: 0.0030\n",
      "Test Accuracy at Epoch 1900: 65.25%\n",
      "Test F1-score at Epoch 1900: 0.7807\n",
      "Classification Report at Epoch 1900:\n",
      "                  precision    recall  f1-score   support\n",
      "\n",
      "    infringement       0.21      0.13      0.16        30\n",
      "non_infringement       0.74      0.83      0.78        88\n",
      "\n",
      "        accuracy                           0.65       118\n",
      "       macro avg       0.47      0.48      0.47       118\n",
      "    weighted avg       0.60      0.65      0.62       118\n",
      "\n",
      "Epoch 1910/2000, Loss: 0.0032\n",
      "Test Accuracy at Epoch 1910: 66.95%\n",
      "Test F1-score at Epoch 1910: 0.7937\n",
      "Classification Report at Epoch 1910:\n",
      "                  precision    recall  f1-score   support\n",
      "\n",
      "    infringement       0.24      0.13      0.17        30\n",
      "non_infringement       0.74      0.85      0.79        88\n",
      "\n",
      "        accuracy                           0.67       118\n",
      "       macro avg       0.49      0.49      0.48       118\n",
      "    weighted avg       0.61      0.67      0.64       118\n",
      "\n"
     ]
    },
    {
     "name": "stderr",
     "output_type": "stream",
     "text": [
      "Training Epochs:  97%|█████████▋| 1933/2000 [00:44<00:00, 90.80it/s]"
     ]
    },
    {
     "name": "stdout",
     "output_type": "stream",
     "text": [
      "Epoch 1920/2000, Loss: 0.0030\n",
      "Test Accuracy at Epoch 1920: 65.25%\n",
      "Test F1-score at Epoch 1920: 0.7807\n",
      "Classification Report at Epoch 1920:\n",
      "                  precision    recall  f1-score   support\n",
      "\n",
      "    infringement       0.21      0.13      0.16        30\n",
      "non_infringement       0.74      0.83      0.78        88\n",
      "\n",
      "        accuracy                           0.65       118\n",
      "       macro avg       0.47      0.48      0.47       118\n",
      "    weighted avg       0.60      0.65      0.62       118\n",
      "\n",
      "Epoch 1930/2000, Loss: 0.0030\n",
      "Test Accuracy at Epoch 1930: 65.25%\n",
      "Test F1-score at Epoch 1930: 0.7807\n",
      "Classification Report at Epoch 1930:\n",
      "                  precision    recall  f1-score   support\n",
      "\n",
      "    infringement       0.21      0.13      0.16        30\n",
      "non_infringement       0.74      0.83      0.78        88\n",
      "\n",
      "        accuracy                           0.65       118\n",
      "       macro avg       0.47      0.48      0.47       118\n",
      "    weighted avg       0.60      0.65      0.62       118\n",
      "\n"
     ]
    },
    {
     "name": "stderr",
     "output_type": "stream",
     "text": [
      "Training Epochs:  98%|█████████▊| 1954/2000 [00:44<00:00, 94.12it/s]"
     ]
    },
    {
     "name": "stdout",
     "output_type": "stream",
     "text": [
      "Epoch 1940/2000, Loss: 0.0030\n",
      "Test Accuracy at Epoch 1940: 65.25%\n",
      "Test F1-score at Epoch 1940: 0.7807\n",
      "Classification Report at Epoch 1940:\n",
      "                  precision    recall  f1-score   support\n",
      "\n",
      "    infringement       0.21      0.13      0.16        30\n",
      "non_infringement       0.74      0.83      0.78        88\n",
      "\n",
      "        accuracy                           0.65       118\n",
      "       macro avg       0.47      0.48      0.47       118\n",
      "    weighted avg       0.60      0.65      0.62       118\n",
      "\n",
      "Epoch 1950/2000, Loss: 0.0030\n",
      "Test Accuracy at Epoch 1950: 65.25%\n",
      "Test F1-score at Epoch 1950: 0.7807\n",
      "Classification Report at Epoch 1950:\n",
      "                  precision    recall  f1-score   support\n",
      "\n",
      "    infringement       0.21      0.13      0.16        30\n",
      "non_infringement       0.74      0.83      0.78        88\n",
      "\n",
      "        accuracy                           0.65       118\n",
      "       macro avg       0.47      0.48      0.47       118\n",
      "    weighted avg       0.60      0.65      0.62       118\n",
      "\n"
     ]
    },
    {
     "name": "stderr",
     "output_type": "stream",
     "text": [
      "Training Epochs:  99%|█████████▊| 1974/2000 [00:44<00:00, 93.38it/s]"
     ]
    },
    {
     "name": "stdout",
     "output_type": "stream",
     "text": [
      "Epoch 1960/2000, Loss: 0.0030\n",
      "Test Accuracy at Epoch 1960: 65.25%\n",
      "Test F1-score at Epoch 1960: 0.7807\n",
      "Classification Report at Epoch 1960:\n",
      "                  precision    recall  f1-score   support\n",
      "\n",
      "    infringement       0.21      0.13      0.16        30\n",
      "non_infringement       0.74      0.83      0.78        88\n",
      "\n",
      "        accuracy                           0.65       118\n",
      "       macro avg       0.47      0.48      0.47       118\n",
      "    weighted avg       0.60      0.65      0.62       118\n",
      "\n",
      "Epoch 1970/2000, Loss: 0.0030\n",
      "Test Accuracy at Epoch 1970: 65.25%\n",
      "Test F1-score at Epoch 1970: 0.7807\n",
      "Classification Report at Epoch 1970:\n",
      "                  precision    recall  f1-score   support\n",
      "\n",
      "    infringement       0.21      0.13      0.16        30\n",
      "non_infringement       0.74      0.83      0.78        88\n",
      "\n",
      "        accuracy                           0.65       118\n",
      "       macro avg       0.47      0.48      0.47       118\n",
      "    weighted avg       0.60      0.65      0.62       118\n",
      "\n"
     ]
    },
    {
     "name": "stderr",
     "output_type": "stream",
     "text": [
      "Training Epochs: 100%|█████████▉| 1994/2000 [00:44<00:00, 95.27it/s]"
     ]
    },
    {
     "name": "stdout",
     "output_type": "stream",
     "text": [
      "Epoch 1980/2000, Loss: 0.0030\n",
      "Test Accuracy at Epoch 1980: 65.25%\n",
      "Test F1-score at Epoch 1980: 0.7807\n",
      "Classification Report at Epoch 1980:\n",
      "                  precision    recall  f1-score   support\n",
      "\n",
      "    infringement       0.21      0.13      0.16        30\n",
      "non_infringement       0.74      0.83      0.78        88\n",
      "\n",
      "        accuracy                           0.65       118\n",
      "       macro avg       0.47      0.48      0.47       118\n",
      "    weighted avg       0.60      0.65      0.62       118\n",
      "\n",
      "Epoch 1990/2000, Loss: 0.0030\n",
      "Test Accuracy at Epoch 1990: 65.25%\n",
      "Test F1-score at Epoch 1990: 0.7807\n",
      "Classification Report at Epoch 1990:\n",
      "                  precision    recall  f1-score   support\n",
      "\n",
      "    infringement       0.21      0.13      0.16        30\n",
      "non_infringement       0.74      0.83      0.78        88\n",
      "\n",
      "        accuracy                           0.65       118\n",
      "       macro avg       0.47      0.48      0.47       118\n",
      "    weighted avg       0.60      0.65      0.62       118\n",
      "\n"
     ]
    },
    {
     "name": "stderr",
     "output_type": "stream",
     "text": [
      "Training Epochs: 100%|██████████| 2000/2000 [00:44<00:00, 44.50it/s]\n",
      "/tmp/ipykernel_1415633/2033666368.py:59: FutureWarning: You are using `torch.load` with `weights_only=False` (the current default value), which uses the default pickle module implicitly. It is possible to construct malicious pickle data which will execute arbitrary code during unpickling (See https://github.com/pytorch/pytorch/blob/main/SECURITY.md#untrusted-models for more details). In a future release, the default value for `weights_only` will be flipped to `True`. This limits the functions that could be executed during unpickling. Arbitrary objects will no longer be allowed to be loaded via this mode unless they are explicitly allowlisted by the user via `torch.serialization.add_safe_globals`. We recommend you start setting `weights_only=True` for any use case where you don't have full control of the loaded file. Please open an issue on GitHub for any issues related to this experimental feature.\n",
      "  custom_mlp.load_state_dict(torch.load(checkpoint_path))\n"
     ]
    },
    {
     "name": "stdout",
     "output_type": "stream",
     "text": [
      "Epoch 2000/2000, Loss: 0.0030\n",
      "Test Accuracy at Epoch 2000: 65.25%\n",
      "Test F1-score at Epoch 2000: 0.7807\n",
      "Classification Report at Epoch 2000:\n",
      "                  precision    recall  f1-score   support\n",
      "\n",
      "    infringement       0.21      0.13      0.16        30\n",
      "non_infringement       0.74      0.83      0.78        88\n",
      "\n",
      "        accuracy                           0.65       118\n",
      "       macro avg       0.47      0.48      0.47       118\n",
      "    weighted avg       0.60      0.65      0.62       118\n",
      "\n"
     ]
    },
    {
     "data": {
      "image/png": "[encoded data removed]",
      "text/plain": [
       "<Figure size 1000x500 with 1 Axes>"
      ]
     },
     "metadata": {},
     "output_type": "display_data"
    },
    {
     "name": "stdout",
     "output_type": "stream",
     "text": [
      "Final Model Accuracy: 72.88%\n",
      "Final Model F1-score: 0.8431\n"
     ]
    }
   ],
   "source": [
    "input_dim = X_train.shape[1]\n",
    "hidden_dim = 256\n",
    "\n",
    "custom_mlp, losses, best_accuracy, best_f1 = train_model(X_train, y_train, X_test, y_test, input_dim, hidden_dim)"
   ]
  },
  {
   "cell_type": "code",
   "execution_count": 21,
   "metadata": {},
   "outputs": [
    {
     "name": "stdout",
     "output_type": "stream",
     "text": [
      "Checkpoint saved to '/home/guangwei/LLM-COPYRIGHT/copyright_newVersion/models/train_input_last_token.pth'.\n"
     ]
    }
   ],
   "source": [
    "def save_checkpoint(model, optimizer, epoch, loss, filepath):\n",
    "    checkpoint = {\n",
    "        'epoch': epoch + 1,\n",
    "        'model_state_dict': model.state_dict(),\n",
    "        'optimizer_state_dict': optimizer.state_dict(),\n",
    "        'loss': loss\n",
    "    }\n",
    "    torch.save(checkpoint, filepath)\n",
    "    print(f\"Checkpoint saved to '{filepath}'.\")\n",
    "\n",
    "save_checkpoint(custom_mlp, torch.optim.Adam(custom_mlp.parameters()), len(losses), losses[-1], checkpoint_file)"
   ]
  },
  {
   "cell_type": "code",
   "execution_count": null,
   "metadata": {},
   "outputs": [
    {
     "name": "stdout",
     "output_type": "stream",
     "text": [
      "                  precision    recall  f1-score   support\n",
      "\n",
      "    infringement       0.00      0.00      0.00        30\n",
      "non_infringement       0.74      0.98      0.84        88\n",
      "\n",
      "        accuracy                           0.73       118\n",
      "       macro avg       0.37      0.49      0.42       118\n",
      "    weighted avg       0.55      0.73      0.63       118\n",
      "\n"
     ]
    },
    {
     "name": "stderr",
     "output_type": "stream",
     "text": [
      "/tmp/ipykernel_1415633/2137335780.py:1: UserWarning: To copy construct from a tensor, it is recommended to use sourceTensor.clone().detach() or sourceTensor.clone().detach().requires_grad_(True), rather than torch.tensor(sourceTensor).\n",
      "  y_pred_final = (torch.sigmoid(torch.tensor(custom_mlp(torch.tensor(X_test, dtype=torch.float32)))) > 0.5).float().numpy()\n"
     ]
    },
    {
     "ename": "",
     "evalue": "",
     "output_type": "error",
     "traceback": [
      "\u001b[1;31mThe Kernel crashed while executing code in the current cell or a previous cell. \n",
      "\u001b[1;31mPlease review the code in the cell(s) to identify a possible cause of the failure. \n",
      "\u001b[1;31mClick <a href='https://aka.ms/vscodeJupyterKernelCrash'>here</a> for more info. \n",
      "\u001b[1;31mView Jupyter <a href='command:jupyter.viewOutput'>log</a> for further details."
     ]
    }
   ],
   "source": [
    "y_pred_final = (torch.sigmoid(torch.tensor(custom_mlp(torch.tensor(X_test, dtype=torch.float32)))) > 0.5).float().numpy()\n",
    "print(classification_report(y_test, y_pred_final, target_names=[\"infringement\", \"non_infringement\"]))"
   ]
  }
 ],
 "metadata": {
  "kernelspec": {
   "display_name": "zdh",
   "language": "python",
   "name": "python3"
  },
  "language_info": {
   "codemirror_mode": {
    "name": "ipython",
    "version": 3
   },
   "file_extension": ".py",
   "mimetype": "text/x-python",
   "name": "python",
   "nbconvert_exporter": "python",
   "pygments_lexer": "ipython3",
   "version": "3.12.3"
  }
 },
 "nbformat": 4,
 "nbformat_minor": 2
}
