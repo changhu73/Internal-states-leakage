{
 "cells": [
  {
   "cell_type": "code",
   "execution_count": 32,
   "metadata": {},
   "outputs": [],
   "source": [
    "# import packages\n",
    "import torch\n",
    "import torch.nn as nn\n",
    "import numpy as np\n",
    "from sklearn.metrics import accuracy_score, classification_report\n",
    "import matplotlib.pyplot as plt\n",
    "from tqdm import tqdm\n",
    "from transformers import AutoTokenizer, AutoModelForCausalLM\n",
    "import json\n",
    "import os\n",
    "from accelerate import Accelerator\n",
    "\n",
    "os.environ[\"CUDA_VISIBLE_DEVICES\"] = \"1\"\n",
    "\n",
    "# Variables\n",
    "model_name = 'meta-llama/Meta-Llama-3.1-8B'\n",
    "non_infringement_file = '/home/guangwei/LLM-COPYRIGHT/copyright_newVersion/division_qa/qa.non_infringement.json'\n",
    "infringement_file = '/home/guangwei/LLM-COPYRIGHT/copyright_newVersion/division_qa/qa.infringement.json'\n",
    "checkpoint_file = '/home/guangwei/LLM-COPYRIGHT/copyright_newVersion/models/train_input_last_token.pth'"
   ]
  },
  {
   "cell_type": "code",
   "execution_count": 33,
   "metadata": {},
   "outputs": [],
   "source": [
    "# Define CustumMLP for internal states train\n",
    "class CustomMLP(nn.Module):\n",
    "    def __init__(self, input_dim, hidden_dim):\n",
    "        super(CustomMLP, self).__init__()\n",
    "        self.down = nn.Linear(input_dim, hidden_dim)\n",
    "        self.gate = nn.Linear(input_dim, hidden_dim)\n",
    "        self.up = nn.Linear(hidden_dim, 1)\n",
    "        self.activation = nn.SiLU()\n",
    "\n",
    "    def forward(self, x):\n",
    "        down_output = self.down(x)\n",
    "        gate_output = self.gate(x)\n",
    "        gated_output = down_output * self.activation(gate_output)\n",
    "        return self.up(gated_output)"
   ]
  },
  {
   "cell_type": "code",
   "execution_count": 34,
   "metadata": {},
   "outputs": [],
   "source": [
    "def extract_hidden_states(texts, model, tokenizer, batch_size=4):\n",
    "    device = torch.device(\"cuda\" if torch.cuda.is_available() else \"cpu\")\n",
    "    model.to(device)\n",
    "    model = nn.DataParallel(model)\n",
    "    hidden_states = []\n",
    "    for i in tqdm(range(0, len(texts), batch_size), desc=\"Processing data batches\"):\n",
    "        batch_texts = texts[i:i + batch_size]\n",
    "        inputs = tokenizer(batch_texts, return_tensors=\"pt\", padding=True, truncation=True)\n",
    "        with torch.no_grad():\n",
    "            outputs = model(**inputs)\n",
    "        \n",
    "        # 访问最后一个隐藏层的最后一个token的隐藏状态\n",
    "        # hidden_states[-1]表示最后一个隐藏层，mean(dim=1)表示取所有头的均值\n",
    "        last_layer_hidden_states = outputs.hidden_states[-1]\n",
    "        last_token_hidden_states = last_layer_hidden_states[:, -1, :]  # -1表示最后一个token\n",
    "        hidden_states.append(last_token_hidden_states.cpu().numpy())\n",
    "    return np.vstack(hidden_states)"
   ]
  },
  {
   "cell_type": "code",
   "execution_count": 35,
   "metadata": {},
   "outputs": [],
   "source": [
    "# lode data for infringement & non infringement\n",
    "def load_data(non_infringement_file, infringement_file):\n",
    "    with open(non_infringement_file, 'r', encoding='utf-8') as file:\n",
    "        non_infringement_json_data = json.load(file)\n",
    "\n",
    "    non_infringement_outputs = [entry['input'] for entry in non_infringement_json_data]\n",
    "    y_non_infringement = [1] * len(non_infringement_outputs)\n",
    "\n",
    "    with open(infringement_file, 'r', encoding='utf-8') as file:\n",
    "        infringement_json_data = json.load(file)\n",
    "\n",
    "    infringement_outputs = [entry['input'] for entry in infringement_json_data]\n",
    "    y_infringement = [0] * len(infringement_outputs)\n",
    "\n",
    "    return non_infringement_outputs, y_non_infringement, infringement_outputs, y_infringement"
   ]
  },
  {
   "cell_type": "code",
   "execution_count": 36,
   "metadata": {},
   "outputs": [],
   "source": [
    "from sklearn.metrics import accuracy_score, classification_report, f1_score\n",
    "\n",
    "# Train for best model\n",
    "def train_model(X_train, y_train, X_test, y_test, input_dim, hidden_dim, epochs=2000, lr=0.001, checkpoint_path=checkpoint_file):\n",
    "    custom_mlp = CustomMLP(input_dim, hidden_dim)\n",
    "    criterion = nn.BCEWithLogitsLoss()\n",
    "    optimizer = torch.optim.Adam(custom_mlp.parameters(), lr=lr)\n",
    "\n",
    "    X_train_tensor = torch.tensor(X_train, dtype=torch.float32)\n",
    "    y_train_tensor = torch.tensor(y_train, dtype=torch.float32).unsqueeze(1)\n",
    "\n",
    "    best_accuracy = -float('inf')  # Initialize the best accuracy to negative infinity\n",
    "    best_f1 = -float('inf')  # Initialize the best F1-score to negative infinity\n",
    "    best_model_state = None  # Store the state of the best model\n",
    "    best_epoch = 0  # Track the epoch with the best accuracy\n",
    "    losses = []\n",
    "\n",
    "    for epoch in tqdm(range(epochs), desc=\"Training Epochs\"):\n",
    "        custom_mlp.train()\n",
    "        optimizer.zero_grad()\n",
    "        outputs = custom_mlp(X_train_tensor)\n",
    "        loss = criterion(outputs, y_train_tensor)\n",
    "        loss.backward()\n",
    "        optimizer.step()\n",
    "        losses.append(loss.item())\n",
    "        \n",
    "        if (epoch + 1) % 10 == 0:\n",
    "            print(f\"Epoch {epoch + 1}/{epochs}, Loss: {loss.item():.4f}\")\n",
    "            \n",
    "            custom_mlp.eval()\n",
    "            X_test_tensor = torch.tensor(X_test, dtype=torch.float32)\n",
    "            with torch.no_grad():\n",
    "                y_pred_logits = custom_mlp(X_test_tensor)\n",
    "                y_pred = (torch.sigmoid(y_pred_logits) > 0.5).float().numpy()\n",
    "            \n",
    "            accuracy = accuracy_score(y_test, y_pred)\n",
    "            f1 = f1_score(y_test, y_pred)  # Calculate F1-score\n",
    "            print(f\"Test Accuracy at Epoch {epoch + 1}: {accuracy * 100:.2f}%\")\n",
    "            print(f\"Test F1-score at Epoch {epoch + 1}: {f1:.4f}\")\n",
    "            \n",
    "            report = classification_report(y_test, y_pred, target_names=[\"infringement\", \"non_infringement\"])\n",
    "            print(f\"Classification Report at Epoch {epoch + 1}:\\n{report}\")\n",
    "\n",
    "            # Check if the current model is the best based on F1-score\n",
    "            if f1 > best_f1:\n",
    "                best_accuracy = accuracy\n",
    "                best_f1 = f1\n",
    "                best_model_state = custom_mlp.state_dict()\n",
    "                best_epoch = epoch + 1\n",
    "                torch.save(best_model_state, checkpoint_path)\n",
    "                print(f\"New best model saved with F1-score {best_f1:.4f} at epoch {best_epoch}\")\n",
    "                print(f\"Best Classification Report at Epoch {best_epoch}:\\n{report}\")\n",
    "\n",
    "    # Load the best model state\n",
    "    custom_mlp.load_state_dict(torch.load(checkpoint_path))\n",
    "\n",
    "    # Plot loss curve\n",
    "    plt.figure(figsize=(10, 5))\n",
    "    plt.plot(losses, label='Training Loss')\n",
    "    plt.xlabel('Epoch')\n",
    "    plt.ylabel('Loss')\n",
    "    plt.title('Training Loss Curve')\n",
    "    plt.legend()\n",
    "    plt.show()\n",
    "\n",
    "    print(f\"Best Model was saved at epoch {best_epoch} with F1-score {best_f1:.4f} and accuracy {best_accuracy * 100:.2f}%\")\n",
    "    return custom_mlp, losses, best_accuracy, best_f1\n"
   ]
  },
  {
   "cell_type": "code",
   "execution_count": 37,
   "metadata": {},
   "outputs": [
    {
     "name": "stderr",
     "output_type": "stream",
     "text": [
      "/home/guangwei/miniconda3/envs/zdh/lib/python3.12/site-packages/transformers/generation/configuration_utils.py:774: UserWarning: `return_dict_in_generate` is NOT set to `True`, but `output_hidden_states` is. When `return_dict_in_generate` is not `True`, `output_hidden_states` is ignored.\n",
      "  warnings.warn(\n",
      "Loading checkpoint shards: 100%|██████████| 4/4 [00:04<00:00,  1.04s/it]\n",
      "Detected kernel version 5.4.0, which is below the recommended minimum of 5.5.0; this can cause the process to hang. It is recommended to upgrade the kernel to the minimum version or higher.\n"
     ]
    }
   ],
   "source": [
    "\n",
    "tokenizer = AutoTokenizer.from_pretrained(model_name, model_max_length=512)\n",
    "model = AutoModelForCausalLM.from_pretrained(model_name, output_hidden_states=True)\n",
    "tokenizer.pad_token = tokenizer.eos_token\n",
    "\n",
    "non_infringement_outputs, y_non_infringement, infringement_outputs, y_infringement = load_data(non_infringement_file, infringement_file)\n",
    "\n",
    "y_non_infringement = np.array(y_non_infringement)\n",
    "y_infringement = np.array(y_infringement)\n",
    "\n",
    "\n",
    "accelerator = Accelerator()\n",
    "model, non_infringement_outputs, infringement_outputs = accelerator.prepare(model, non_infringement_outputs, infringement_outputs)"
   ]
  },
  {
   "cell_type": "code",
   "execution_count": 38,
   "metadata": {},
   "outputs": [
    {
     "name": "stdout",
     "output_type": "stream",
     "text": [
      "Extracting hidden states for non_infringement texts...\n"
     ]
    },
    {
     "name": "stderr",
     "output_type": "stream",
     "text": [
      "Processing data batches: 100%|██████████| 16/16 [00:02<00:00,  6.24it/s]\n"
     ]
    },
    {
     "name": "stdout",
     "output_type": "stream",
     "text": [
      "Extracting hidden states for infringement texts...\n"
     ]
    },
    {
     "name": "stderr",
     "output_type": "stream",
     "text": [
      "Processing data batches: 100%|██████████| 16/16 [00:02<00:00,  5.65it/s]\n"
     ]
    }
   ],
   "source": [
    "print(\"Extracting hidden states for non_infringement texts...\")\n",
    "X_non_infringement = extract_hidden_states(non_infringement_outputs, model, tokenizer)\n",
    "\n",
    "print(\"Extracting hidden states for infringement texts...\")\n",
    "X_infringement = extract_hidden_states(infringement_outputs, model, tokenizer)"
   ]
  },
  {
   "cell_type": "code",
   "execution_count": 39,
   "metadata": {},
   "outputs": [
    {
     "name": "stdout",
     "output_type": "stream",
     "text": [
      "Data successfully split into training and test sets.\n"
     ]
    }
   ],
   "source": [
    "split_index_non_infringement = int(0.8 * len(X_non_infringement))\n",
    "X_non_infringement_train = X_non_infringement[:split_index_non_infringement]\n",
    "X_non_infringement_test = X_non_infringement[split_index_non_infringement:]\n",
    "y_non_infringement_train = y_non_infringement[:split_index_non_infringement]\n",
    "y_non_infringement_test = y_non_infringement[split_index_non_infringement:]\n",
    "\n",
    "split_index_infringement = int(0.8 * len(X_infringement))\n",
    "X_infringement_train = X_infringement[:split_index_infringement]\n",
    "X_infringement_test = X_infringement[split_index_infringement:]\n",
    "y_infringement_train = y_infringement[:split_index_infringement]\n",
    "y_infringement_test = y_infringement[split_index_infringement:]\n",
    "\n",
    "X_train = np.vstack((X_non_infringement_train, X_infringement_train))\n",
    "X_test = np.vstack((X_non_infringement_test, X_infringement_test))\n",
    "y_train = np.concatenate((y_non_infringement_train, y_infringement_train))\n",
    "y_test = np.concatenate((y_non_infringement_test, y_infringement_test))\n",
    "\n",
    "print(\"Data successfully split into training and test sets.\")\n"
   ]
  },
  {
   "cell_type": "code",
   "execution_count": null,
   "metadata": {},
   "outputs": [
    {
     "name": "stderr",
     "output_type": "stream",
     "text": [
      "Training Epochs:   0%|          | 0/2000 [00:00<?, ?it/s]"
     ]
    },
    {
     "name": "stderr",
     "output_type": "stream",
     "text": [
      "Training Epochs:   0%|          | 2/2000 [00:00<06:50,  4.86it/s]/home/guangwei/miniconda3/envs/zdh/lib/python3.12/site-packages/sklearn/metrics/_classification.py:1531: UndefinedMetricWarning: Precision is ill-defined and being set to 0.0 in labels with no predicted samples. Use `zero_division` parameter to control this behavior.\n",
      "  _warn_prf(average, modifier, f\"{metric.capitalize()} is\", len(result))\n",
      "/home/guangwei/miniconda3/envs/zdh/lib/python3.12/site-packages/sklearn/metrics/_classification.py:1531: UndefinedMetricWarning: Precision is ill-defined and being set to 0.0 in labels with no predicted samples. Use `zero_division` parameter to control this behavior.\n",
      "  _warn_prf(average, modifier, f\"{metric.capitalize()} is\", len(result))\n",
      "/home/guangwei/miniconda3/envs/zdh/lib/python3.12/site-packages/sklearn/metrics/_classification.py:1531: UndefinedMetricWarning: Precision is ill-defined and being set to 0.0 in labels with no predicted samples. Use `zero_division` parameter to control this behavior.\n",
      "  _warn_prf(average, modifier, f\"{metric.capitalize()} is\", len(result))\n",
      "Training Epochs:   1%|▏         | 25/2000 [00:00<00:33, 59.35it/s]"
     ]
    },
    {
     "name": "stdout",
     "output_type": "stream",
     "text": [
      "Epoch 10/2000, Loss: 1.8096\n",
      "Test Accuracy at Epoch 10: 50.00%\n",
      "Test F1-score at Epoch 10: 0.6667\n",
      "Classification Report at Epoch 10:\n",
      "                  precision    recall  f1-score   support\n",
      "\n",
      "    infringement       0.00      0.00      0.00        13\n",
      "non_infringement       0.50      1.00      0.67        13\n",
      "\n",
      "        accuracy                           0.50        26\n",
      "       macro avg       0.25      0.50      0.33        26\n",
      "    weighted avg       0.25      0.50      0.33        26\n",
      "\n",
      "New best model saved with F1-score 0.6667 at epoch 10\n",
      "Best Classification Report at Epoch 10:\n",
      "                  precision    recall  f1-score   support\n",
      "\n",
      "    infringement       0.00      0.00      0.00        13\n",
      "non_infringement       0.50      1.00      0.67        13\n",
      "\n",
      "        accuracy                           0.50        26\n",
      "       macro avg       0.25      0.50      0.33        26\n",
      "    weighted avg       0.25      0.50      0.33        26\n",
      "\n",
      "Epoch 20/2000, Loss: 0.3551\n",
      "Test Accuracy at Epoch 20: 46.15%\n",
      "Test F1-score at Epoch 20: 0.1250\n",
      "Classification Report at Epoch 20:\n",
      "                  precision    recall  f1-score   support\n",
      "\n",
      "    infringement       0.48      0.85      0.61        13\n",
      "non_infringement       0.33      0.08      0.12        13\n",
      "\n",
      "        accuracy                           0.46        26\n",
      "       macro avg       0.41      0.46      0.37        26\n",
      "    weighted avg       0.41      0.46      0.37        26\n",
      "\n",
      "Epoch 30/2000, Loss: 0.2506\n",
      "Test Accuracy at Epoch 30: 53.85%\n",
      "Test F1-score at Epoch 30: 0.4000\n",
      "Classification Report at Epoch 30:\n",
      "                  precision    recall  f1-score   support\n",
      "\n",
      "    infringement       0.53      0.77      0.62        13\n",
      "non_infringement       0.57      0.31      0.40        13\n",
      "\n",
      "        accuracy                           0.54        26\n",
      "       macro avg       0.55      0.54      0.51        26\n",
      "    weighted avg       0.55      0.54      0.51        26\n",
      "\n"
     ]
    },
    {
     "name": "stderr",
     "output_type": "stream",
     "text": [
      "Training Epochs:   2%|▏         | 38/2000 [00:00<00:24, 78.57it/s]"
     ]
    },
    {
     "name": "stdout",
     "output_type": "stream",
     "text": [
      "Epoch 40/2000, Loss: 0.1405\n",
      "Test Accuracy at Epoch 40: 73.08%\n",
      "Test F1-score at Epoch 40: 0.6957\n",
      "Classification Report at Epoch 40:\n",
      "                  precision    recall  f1-score   support\n",
      "\n",
      "    infringement       0.69      0.85      0.76        13\n",
      "non_infringement       0.80      0.62      0.70        13\n",
      "\n",
      "        accuracy                           0.73        26\n",
      "       macro avg       0.74      0.73      0.73        26\n",
      "    weighted avg       0.74      0.73      0.73        26\n",
      "\n",
      "New best model saved with F1-score 0.6957 at epoch 40\n",
      "Best Classification Report at Epoch 40:\n",
      "                  precision    recall  f1-score   support\n",
      "\n",
      "    infringement       0.69      0.85      0.76        13\n",
      "non_infringement       0.80      0.62      0.70        13\n",
      "\n",
      "        accuracy                           0.73        26\n",
      "       macro avg       0.74      0.73      0.73        26\n",
      "    weighted avg       0.74      0.73      0.73        26\n",
      "\n"
     ]
    },
    {
     "name": "stderr",
     "output_type": "stream",
     "text": [
      "Training Epochs:   3%|▎         | 55/2000 [00:03<02:13, 14.55it/s]"
     ]
    },
    {
     "name": "stdout",
     "output_type": "stream",
     "text": [
      "Epoch 50/2000, Loss: 0.0765\n",
      "Test Accuracy at Epoch 50: 69.23%\n",
      "Test F1-score at Epoch 50: 0.6667\n",
      "Classification Report at Epoch 50:\n",
      "                  precision    recall  f1-score   support\n",
      "\n",
      "    infringement       0.67      0.77      0.71        13\n",
      "non_infringement       0.73      0.62      0.67        13\n",
      "\n",
      "        accuracy                           0.69        26\n",
      "       macro avg       0.70      0.69      0.69        26\n",
      "    weighted avg       0.70      0.69      0.69        26\n",
      "\n"
     ]
    },
    {
     "name": "stderr",
     "output_type": "stream",
     "text": [
      "Training Epochs:   4%|▎         | 73/2000 [00:04<01:44, 18.37it/s]"
     ]
    },
    {
     "name": "stdout",
     "output_type": "stream",
     "text": [
      "Epoch 60/2000, Loss: 0.0396\n",
      "Test Accuracy at Epoch 60: 65.38%\n",
      "Test F1-score at Epoch 60: 0.6087\n",
      "Classification Report at Epoch 60:\n",
      "                  precision    recall  f1-score   support\n",
      "\n",
      "    infringement       0.62      0.77      0.69        13\n",
      "non_infringement       0.70      0.54      0.61        13\n",
      "\n",
      "        accuracy                           0.65        26\n",
      "       macro avg       0.66      0.65      0.65        26\n",
      "    weighted avg       0.66      0.65      0.65        26\n",
      "\n",
      "Epoch 70/2000, Loss: 0.0182\n",
      "Test Accuracy at Epoch 70: 69.23%\n",
      "Test F1-score at Epoch 70: 0.6667\n",
      "Classification Report at Epoch 70:\n",
      "                  precision    recall  f1-score   support\n",
      "\n",
      "    infringement       0.67      0.77      0.71        13\n",
      "non_infringement       0.73      0.62      0.67        13\n",
      "\n",
      "        accuracy                           0.69        26\n",
      "       macro avg       0.70      0.69      0.69        26\n",
      "    weighted avg       0.70      0.69      0.69        26\n",
      "\n"
     ]
    },
    {
     "name": "stderr",
     "output_type": "stream",
     "text": [
      "Training Epochs:   4%|▍         | 85/2000 [00:04<01:12, 26.49it/s]"
     ]
    },
    {
     "name": "stdout",
     "output_type": "stream",
     "text": [
      "Epoch 80/2000, Loss: 0.0095\n",
      "Test Accuracy at Epoch 80: 69.23%\n",
      "Test F1-score at Epoch 80: 0.6364\n",
      "Classification Report at Epoch 80:\n",
      "                  precision    recall  f1-score   support\n",
      "\n",
      "    infringement       0.65      0.85      0.73        13\n",
      "non_infringement       0.78      0.54      0.64        13\n",
      "\n",
      "        accuracy                           0.69        26\n",
      "       macro avg       0.71      0.69      0.68        26\n",
      "    weighted avg       0.71      0.69      0.68        26\n",
      "\n"
     ]
    },
    {
     "name": "stderr",
     "output_type": "stream",
     "text": [
      "Training Epochs:   5%|▍         | 93/2000 [00:04<01:08, 27.84it/s]"
     ]
    },
    {
     "name": "stdout",
     "output_type": "stream",
     "text": [
      "Epoch 90/2000, Loss: 0.0056\n",
      "Test Accuracy at Epoch 90: 69.23%\n",
      "Test F1-score at Epoch 90: 0.6364\n",
      "Classification Report at Epoch 90:\n",
      "                  precision    recall  f1-score   support\n",
      "\n",
      "    infringement       0.65      0.85      0.73        13\n",
      "non_infringement       0.78      0.54      0.64        13\n",
      "\n",
      "        accuracy                           0.69        26\n",
      "       macro avg       0.71      0.69      0.68        26\n",
      "    weighted avg       0.71      0.69      0.68        26\n",
      "\n"
     ]
    },
    {
     "name": "stderr",
     "output_type": "stream",
     "text": [
      "Training Epochs:   5%|▌         | 108/2000 [00:04<01:05, 28.99it/s]"
     ]
    },
    {
     "name": "stdout",
     "output_type": "stream",
     "text": [
      "Epoch 100/2000, Loss: 0.0038\n",
      "Test Accuracy at Epoch 100: 65.38%\n",
      "Test F1-score at Epoch 100: 0.6087\n",
      "Classification Report at Epoch 100:\n",
      "                  precision    recall  f1-score   support\n",
      "\n",
      "    infringement       0.62      0.77      0.69        13\n",
      "non_infringement       0.70      0.54      0.61        13\n",
      "\n",
      "        accuracy                           0.65        26\n",
      "       macro avg       0.66      0.65      0.65        26\n",
      "    weighted avg       0.66      0.65      0.65        26\n",
      "\n"
     ]
    },
    {
     "name": "stderr",
     "output_type": "stream",
     "text": [
      "Training Epochs:   6%|▌         | 122/2000 [00:05<00:55, 33.95it/s]"
     ]
    },
    {
     "name": "stdout",
     "output_type": "stream",
     "text": [
      "Epoch 110/2000, Loss: 0.0029\n",
      "Test Accuracy at Epoch 110: 69.23%\n",
      "Test F1-score at Epoch 110: 0.6667\n",
      "Classification Report at Epoch 110:\n",
      "                  precision    recall  f1-score   support\n",
      "\n",
      "    infringement       0.67      0.77      0.71        13\n",
      "non_infringement       0.73      0.62      0.67        13\n",
      "\n",
      "        accuracy                           0.69        26\n",
      "       macro avg       0.70      0.69      0.69        26\n",
      "    weighted avg       0.70      0.69      0.69        26\n",
      "\n",
      "Epoch 120/2000, Loss: 0.0023\n",
      "Test Accuracy at Epoch 120: 65.38%\n",
      "Test F1-score at Epoch 120: 0.6400\n",
      "Classification Report at Epoch 120:\n",
      "                  precision    recall  f1-score   support\n",
      "\n",
      "    infringement       0.64      0.69      0.67        13\n",
      "non_infringement       0.67      0.62      0.64        13\n",
      "\n",
      "        accuracy                           0.65        26\n",
      "       macro avg       0.65      0.65      0.65        26\n",
      "    weighted avg       0.65      0.65      0.65        26\n",
      "\n"
     ]
    },
    {
     "name": "stderr",
     "output_type": "stream",
     "text": [
      "Training Epochs:   7%|▋         | 140/2000 [00:05<00:39, 47.18it/s]"
     ]
    },
    {
     "name": "stdout",
     "output_type": "stream",
     "text": [
      "Epoch 130/2000, Loss: 0.0019\n",
      "Test Accuracy at Epoch 130: 65.38%\n",
      "Test F1-score at Epoch 130: 0.6400\n",
      "Classification Report at Epoch 130:\n",
      "                  precision    recall  f1-score   support\n",
      "\n",
      "    infringement       0.64      0.69      0.67        13\n",
      "non_infringement       0.67      0.62      0.64        13\n",
      "\n",
      "        accuracy                           0.65        26\n",
      "       macro avg       0.65      0.65      0.65        26\n",
      "    weighted avg       0.65      0.65      0.65        26\n",
      "\n",
      "Epoch 140/2000, Loss: 0.0016\n",
      "Test Accuracy at Epoch 140: 65.38%\n",
      "Test F1-score at Epoch 140: 0.6400\n",
      "Classification Report at Epoch 140:\n",
      "                  precision    recall  f1-score   support\n",
      "\n",
      "    infringement       0.64      0.69      0.67        13\n",
      "non_infringement       0.67      0.62      0.64        13\n",
      "\n",
      "        accuracy                           0.65        26\n",
      "       macro avg       0.65      0.65      0.65        26\n",
      "    weighted avg       0.65      0.65      0.65        26\n",
      "\n"
     ]
    },
    {
     "name": "stderr",
     "output_type": "stream",
     "text": [
      "Training Epochs:   7%|▋         | 147/2000 [00:06<02:00, 15.38it/s]"
     ]
    },
    {
     "name": "stdout",
     "output_type": "stream",
     "text": [
      "Epoch 150/2000, Loss: 0.0013\n",
      "Test Accuracy at Epoch 150: 65.38%\n",
      "Test F1-score at Epoch 150: 0.6400\n",
      "Classification Report at Epoch 150:\n",
      "                  precision    recall  f1-score   support\n",
      "\n",
      "    infringement       0.64      0.69      0.67        13\n",
      "non_infringement       0.67      0.62      0.64        13\n",
      "\n",
      "        accuracy                           0.65        26\n",
      "       macro avg       0.65      0.65      0.65        26\n",
      "    weighted avg       0.65      0.65      0.65        26\n",
      "\n"
     ]
    },
    {
     "name": "stderr",
     "output_type": "stream",
     "text": [
      "Training Epochs:   9%|▉         | 176/2000 [00:08<01:12, 25.22it/s]"
     ]
    },
    {
     "name": "stdout",
     "output_type": "stream",
     "text": [
      "Epoch 160/2000, Loss: 0.0012\n",
      "Test Accuracy at Epoch 160: 65.38%\n",
      "Test F1-score at Epoch 160: 0.6400\n",
      "Classification Report at Epoch 160:\n",
      "                  precision    recall  f1-score   support\n",
      "\n",
      "    infringement       0.64      0.69      0.67        13\n",
      "non_infringement       0.67      0.62      0.64        13\n",
      "\n",
      "        accuracy                           0.65        26\n",
      "       macro avg       0.65      0.65      0.65        26\n",
      "    weighted avg       0.65      0.65      0.65        26\n",
      "\n",
      "Epoch 170/2000, Loss: 0.0010\n",
      "Test Accuracy at Epoch 170: 65.38%\n",
      "Test F1-score at Epoch 170: 0.6400\n",
      "Classification Report at Epoch 170:\n",
      "                  precision    recall  f1-score   support\n",
      "\n",
      "    infringement       0.64      0.69      0.67        13\n",
      "non_infringement       0.67      0.62      0.64        13\n",
      "\n",
      "        accuracy                           0.65        26\n",
      "       macro avg       0.65      0.65      0.65        26\n",
      "    weighted avg       0.65      0.65      0.65        26\n",
      "\n",
      "Epoch 180/2000, Loss: 0.0009\n",
      "Test Accuracy at Epoch 180: 65.38%\n",
      "Test F1-score at Epoch 180: 0.6400\n",
      "Classification Report at Epoch 180:\n",
      "                  precision    recall  f1-score   support\n",
      "\n",
      "    infringement       0.64      0.69      0.67        13\n",
      "non_infringement       0.67      0.62      0.64        13\n",
      "\n",
      "        accuracy                           0.65        26\n",
      "       macro avg       0.65      0.65      0.65        26\n",
      "    weighted avg       0.65      0.65      0.65        26\n",
      "\n"
     ]
    },
    {
     "name": "stderr",
     "output_type": "stream",
     "text": [
      "Training Epochs:  11%|█         | 212/2000 [00:08<00:31, 56.01it/s]"
     ]
    },
    {
     "name": "stdout",
     "output_type": "stream",
     "text": [
      "Epoch 190/2000, Loss: 0.0008\n",
      "Test Accuracy at Epoch 190: 65.38%\n",
      "Test F1-score at Epoch 190: 0.6400\n",
      "Classification Report at Epoch 190:\n",
      "                  precision    recall  f1-score   support\n",
      "\n",
      "    infringement       0.64      0.69      0.67        13\n",
      "non_infringement       0.67      0.62      0.64        13\n",
      "\n",
      "        accuracy                           0.65        26\n",
      "       macro avg       0.65      0.65      0.65        26\n",
      "    weighted avg       0.65      0.65      0.65        26\n",
      "\n",
      "Epoch 200/2000, Loss: 0.0007\n",
      "Test Accuracy at Epoch 200: 65.38%\n",
      "Test F1-score at Epoch 200: 0.6400\n",
      "Classification Report at Epoch 200:\n",
      "                  precision    recall  f1-score   support\n",
      "\n",
      "    infringement       0.64      0.69      0.67        13\n",
      "non_infringement       0.67      0.62      0.64        13\n",
      "\n",
      "        accuracy                           0.65        26\n",
      "       macro avg       0.65      0.65      0.65        26\n",
      "    weighted avg       0.65      0.65      0.65        26\n",
      "\n",
      "Epoch 210/2000, Loss: 0.0007\n",
      "Test Accuracy at Epoch 210: 65.38%\n",
      "Test F1-score at Epoch 210: 0.6400\n",
      "Classification Report at Epoch 210:\n",
      "                  precision    recall  f1-score   support\n",
      "\n",
      "    infringement       0.64      0.69      0.67        13\n",
      "non_infringement       0.67      0.62      0.64        13\n",
      "\n",
      "        accuracy                           0.65        26\n",
      "       macro avg       0.65      0.65      0.65        26\n",
      "    weighted avg       0.65      0.65      0.65        26\n",
      "\n"
     ]
    },
    {
     "name": "stderr",
     "output_type": "stream",
     "text": [
      "Training Epochs:  12%|█▏        | 234/2000 [00:08<00:24, 73.37it/s]"
     ]
    },
    {
     "name": "stdout",
     "output_type": "stream",
     "text": [
      "Epoch 220/2000, Loss: 0.0006\n",
      "Test Accuracy at Epoch 220: 65.38%\n",
      "Test F1-score at Epoch 220: 0.6400\n",
      "Classification Report at Epoch 220:\n",
      "                  precision    recall  f1-score   support\n",
      "\n",
      "    infringement       0.64      0.69      0.67        13\n",
      "non_infringement       0.67      0.62      0.64        13\n",
      "\n",
      "        accuracy                           0.65        26\n",
      "       macro avg       0.65      0.65      0.65        26\n",
      "    weighted avg       0.65      0.65      0.65        26\n",
      "\n",
      "Epoch 230/2000, Loss: 0.0006\n",
      "Test Accuracy at Epoch 230: 65.38%\n",
      "Test F1-score at Epoch 230: 0.6400\n",
      "Classification Report at Epoch 230:\n",
      "                  precision    recall  f1-score   support\n",
      "\n",
      "    infringement       0.64      0.69      0.67        13\n",
      "non_infringement       0.67      0.62      0.64        13\n",
      "\n",
      "        accuracy                           0.65        26\n",
      "       macro avg       0.65      0.65      0.65        26\n",
      "    weighted avg       0.65      0.65      0.65        26\n",
      "\n",
      "Epoch 240/2000, Loss: 0.0005\n",
      "Test Accuracy at Epoch 240: 65.38%\n",
      "Test F1-score at Epoch 240: 0.6400\n",
      "Classification Report at Epoch 240:\n",
      "                  precision    recall  f1-score   support\n",
      "\n",
      "    infringement       0.64      0.69      0.67        13\n",
      "non_infringement       0.67      0.62      0.64        13\n",
      "\n",
      "        accuracy                           0.65        26\n",
      "       macro avg       0.65      0.65      0.65        26\n",
      "    weighted avg       0.65      0.65      0.65        26\n",
      "\n"
     ]
    },
    {
     "name": "stderr",
     "output_type": "stream",
     "text": [
      "Training Epochs:  13%|█▎        | 267/2000 [00:08<00:19, 90.50it/s]"
     ]
    },
    {
     "name": "stdout",
     "output_type": "stream",
     "text": [
      "Epoch 250/2000, Loss: 0.0005\n",
      "Test Accuracy at Epoch 250: 65.38%\n",
      "Test F1-score at Epoch 250: 0.6400\n",
      "Classification Report at Epoch 250:\n",
      "                  precision    recall  f1-score   support\n",
      "\n",
      "    infringement       0.64      0.69      0.67        13\n",
      "non_infringement       0.67      0.62      0.64        13\n",
      "\n",
      "        accuracy                           0.65        26\n",
      "       macro avg       0.65      0.65      0.65        26\n",
      "    weighted avg       0.65      0.65      0.65        26\n",
      "\n",
      "Epoch 260/2000, Loss: 0.0004\n",
      "Test Accuracy at Epoch 260: 65.38%\n",
      "Test F1-score at Epoch 260: 0.6400\n",
      "Classification Report at Epoch 260:\n",
      "                  precision    recall  f1-score   support\n",
      "\n",
      "    infringement       0.64      0.69      0.67        13\n",
      "non_infringement       0.67      0.62      0.64        13\n",
      "\n",
      "        accuracy                           0.65        26\n",
      "       macro avg       0.65      0.65      0.65        26\n",
      "    weighted avg       0.65      0.65      0.65        26\n",
      "\n",
      "Epoch 270/2000, Loss: 0.0004\n",
      "Test Accuracy at Epoch 270: 65.38%\n",
      "Test F1-score at Epoch 270: 0.6400\n",
      "Classification Report at Epoch 270:\n",
      "                  precision    recall  f1-score   support\n",
      "\n",
      "    infringement       0.64      0.69      0.67        13\n",
      "non_infringement       0.67      0.62      0.64        13\n",
      "\n",
      "        accuracy                           0.65        26\n",
      "       macro avg       0.65      0.65      0.65        26\n",
      "    weighted avg       0.65      0.65      0.65        26\n",
      "\n"
     ]
    },
    {
     "name": "stderr",
     "output_type": "stream",
     "text": [
      "Training Epochs:  15%|█▍        | 296/2000 [00:09<00:26, 63.19it/s]"
     ]
    },
    {
     "name": "stdout",
     "output_type": "stream",
     "text": [
      "Epoch 280/2000, Loss: 0.0004\n",
      "Test Accuracy at Epoch 280: 65.38%\n",
      "Test F1-score at Epoch 280: 0.6400\n",
      "Classification Report at Epoch 280:\n",
      "                  precision    recall  f1-score   support\n",
      "\n",
      "    infringement       0.64      0.69      0.67        13\n",
      "non_infringement       0.67      0.62      0.64        13\n",
      "\n",
      "        accuracy                           0.65        26\n",
      "       macro avg       0.65      0.65      0.65        26\n",
      "    weighted avg       0.65      0.65      0.65        26\n",
      "\n",
      "Epoch 290/2000, Loss: 0.0004\n",
      "Test Accuracy at Epoch 290: 65.38%\n",
      "Test F1-score at Epoch 290: 0.6400\n",
      "Classification Report at Epoch 290:\n",
      "                  precision    recall  f1-score   support\n",
      "\n",
      "    infringement       0.64      0.69      0.67        13\n",
      "non_infringement       0.67      0.62      0.64        13\n",
      "\n",
      "        accuracy                           0.65        26\n",
      "       macro avg       0.65      0.65      0.65        26\n",
      "    weighted avg       0.65      0.65      0.65        26\n",
      "\n"
     ]
    },
    {
     "name": "stderr",
     "output_type": "stream",
     "text": [
      "Training Epochs:  15%|█▌        | 307/2000 [00:09<00:23, 72.14it/s]"
     ]
    },
    {
     "name": "stdout",
     "output_type": "stream",
     "text": [
      "Epoch 300/2000, Loss: 0.0003\n",
      "Test Accuracy at Epoch 300: 65.38%\n",
      "Test F1-score at Epoch 300: 0.6400\n",
      "Classification Report at Epoch 300:\n",
      "                  precision    recall  f1-score   support\n",
      "\n",
      "    infringement       0.64      0.69      0.67        13\n",
      "non_infringement       0.67      0.62      0.64        13\n",
      "\n",
      "        accuracy                           0.65        26\n",
      "       macro avg       0.65      0.65      0.65        26\n",
      "    weighted avg       0.65      0.65      0.65        26\n",
      "\n",
      "Epoch 310/2000, Loss: 0.0003\n",
      "Test Accuracy at Epoch 310: 65.38%\n",
      "Test F1-score at Epoch 310: 0.6400\n",
      "Classification Report at Epoch 310:\n",
      "                  precision    recall  f1-score   support\n",
      "\n",
      "    infringement       0.64      0.69      0.67        13\n",
      "non_infringement       0.67      0.62      0.64        13\n",
      "\n",
      "        accuracy                           0.65        26\n",
      "       macro avg       0.65      0.65      0.65        26\n",
      "    weighted avg       0.65      0.65      0.65        26\n",
      "\n"
     ]
    },
    {
     "name": "stderr",
     "output_type": "stream",
     "text": [
      "Training Epochs:  17%|█▋        | 332/2000 [00:10<00:53, 31.32it/s]"
     ]
    },
    {
     "name": "stdout",
     "output_type": "stream",
     "text": [
      "Epoch 320/2000, Loss: 0.0003\n",
      "Test Accuracy at Epoch 320: 65.38%\n",
      "Test F1-score at Epoch 320: 0.6400\n",
      "Classification Report at Epoch 320:\n",
      "                  precision    recall  f1-score   support\n",
      "\n",
      "    infringement       0.64      0.69      0.67        13\n",
      "non_infringement       0.67      0.62      0.64        13\n",
      "\n",
      "        accuracy                           0.65        26\n",
      "       macro avg       0.65      0.65      0.65        26\n",
      "    weighted avg       0.65      0.65      0.65        26\n",
      "\n",
      "Epoch 330/2000, Loss: 0.0003\n",
      "Test Accuracy at Epoch 330: 65.38%\n",
      "Test F1-score at Epoch 330: 0.6400\n",
      "Classification Report at Epoch 330:\n",
      "                  precision    recall  f1-score   support\n",
      "\n",
      "    infringement       0.64      0.69      0.67        13\n",
      "non_infringement       0.67      0.62      0.64        13\n",
      "\n",
      "        accuracy                           0.65        26\n",
      "       macro avg       0.65      0.65      0.65        26\n",
      "    weighted avg       0.65      0.65      0.65        26\n",
      "\n",
      "Epoch 340/2000, Loss: 0.0003\n"
     ]
    },
    {
     "name": "stderr",
     "output_type": "stream",
     "text": [
      "Training Epochs:  17%|█▋        | 344/2000 [00:11<00:38, 42.63it/s]"
     ]
    },
    {
     "name": "stdout",
     "output_type": "stream",
     "text": [
      "Test Accuracy at Epoch 340: 65.38%\n",
      "Test F1-score at Epoch 340: 0.6400\n",
      "Classification Report at Epoch 340:\n",
      "                  precision    recall  f1-score   support\n",
      "\n",
      "    infringement       0.64      0.69      0.67        13\n",
      "non_infringement       0.67      0.62      0.64        13\n",
      "\n",
      "        accuracy                           0.65        26\n",
      "       macro avg       0.65      0.65      0.65        26\n",
      "    weighted avg       0.65      0.65      0.65        26\n",
      "\n",
      "Epoch 350/2000, Loss: 0.0002\n",
      "Test Accuracy at Epoch 350: 65.38%\n",
      "Test F1-score at Epoch 350: 0.6400\n",
      "Classification Report at Epoch 350:\n",
      "                  precision    recall  f1-score   support\n",
      "\n",
      "    infringement       0.64      0.69      0.67        13\n",
      "non_infringement       0.67      0.62      0.64        13\n",
      "\n",
      "        accuracy                           0.65        26\n",
      "       macro avg       0.65      0.65      0.65        26\n",
      "    weighted avg       0.65      0.65      0.65        26\n",
      "\n"
     ]
    },
    {
     "name": "stderr",
     "output_type": "stream",
     "text": [
      "Training Epochs:  18%|█▊        | 358/2000 [00:13<03:01,  9.05it/s]"
     ]
    },
    {
     "name": "stdout",
     "output_type": "stream",
     "text": [
      "Epoch 360/2000, Loss: 0.0002\n",
      "Test Accuracy at Epoch 360: 65.38%\n",
      "Test F1-score at Epoch 360: 0.6400\n",
      "Classification Report at Epoch 360:\n",
      "                  precision    recall  f1-score   support\n",
      "\n",
      "    infringement       0.64      0.69      0.67        13\n",
      "non_infringement       0.67      0.62      0.64        13\n",
      "\n",
      "        accuracy                           0.65        26\n",
      "       macro avg       0.65      0.65      0.65        26\n",
      "    weighted avg       0.65      0.65      0.65        26\n",
      "\n"
     ]
    },
    {
     "name": "stderr",
     "output_type": "stream",
     "text": [
      "Training Epochs:  18%|█▊        | 369/2000 [00:17<06:00,  4.52it/s]"
     ]
    },
    {
     "name": "stdout",
     "output_type": "stream",
     "text": [
      "Epoch 370/2000, Loss: 0.0002\n",
      "Test Accuracy at Epoch 370: 65.38%\n",
      "Test F1-score at Epoch 370: 0.6400\n",
      "Classification Report at Epoch 370:\n",
      "                  precision    recall  f1-score   support\n",
      "\n",
      "    infringement       0.64      0.69      0.67        13\n",
      "non_infringement       0.67      0.62      0.64        13\n",
      "\n",
      "        accuracy                           0.65        26\n",
      "       macro avg       0.65      0.65      0.65        26\n",
      "    weighted avg       0.65      0.65      0.65        26\n",
      "\n"
     ]
    },
    {
     "name": "stderr",
     "output_type": "stream",
     "text": [
      "Training Epochs:  19%|█▉        | 380/2000 [00:19<03:49,  7.07it/s]"
     ]
    },
    {
     "name": "stdout",
     "output_type": "stream",
     "text": [
      "Epoch 380/2000, Loss: 0.0002\n",
      "Test Accuracy at Epoch 380: 65.38%\n",
      "Test F1-score at Epoch 380: 0.6400\n",
      "Classification Report at Epoch 380:\n",
      "                  precision    recall  f1-score   support\n",
      "\n",
      "    infringement       0.64      0.69      0.67        13\n",
      "non_infringement       0.67      0.62      0.64        13\n",
      "\n",
      "        accuracy                           0.65        26\n",
      "       macro avg       0.65      0.65      0.65        26\n",
      "    weighted avg       0.65      0.65      0.65        26\n",
      "\n"
     ]
    },
    {
     "name": "stderr",
     "output_type": "stream",
     "text": [
      "Training Epochs:  20%|█▉        | 398/2000 [00:22<01:59, 13.43it/s]"
     ]
    },
    {
     "name": "stdout",
     "output_type": "stream",
     "text": [
      "Epoch 390/2000, Loss: 0.0002\n",
      "Test Accuracy at Epoch 390: 65.38%\n",
      "Test F1-score at Epoch 390: 0.6400\n",
      "Classification Report at Epoch 390:\n",
      "                  precision    recall  f1-score   support\n",
      "\n",
      "    infringement       0.64      0.69      0.67        13\n",
      "non_infringement       0.67      0.62      0.64        13\n",
      "\n",
      "        accuracy                           0.65        26\n",
      "       macro avg       0.65      0.65      0.65        26\n",
      "    weighted avg       0.65      0.65      0.65        26\n",
      "\n",
      "Epoch 400/2000, Loss: 0.0002\n",
      "Test Accuracy at Epoch 400: 65.38%\n",
      "Test F1-score at Epoch 400: 0.6400\n",
      "Classification Report at Epoch 400:\n",
      "                  precision    recall  f1-score   support\n",
      "\n",
      "    infringement       0.64      0.69      0.67        13\n",
      "non_infringement       0.67      0.62      0.64        13\n",
      "\n",
      "        accuracy                           0.65        26\n",
      "       macro avg       0.65      0.65      0.65        26\n",
      "    weighted avg       0.65      0.65      0.65        26\n",
      "\n"
     ]
    },
    {
     "name": "stderr",
     "output_type": "stream",
     "text": [
      "Training Epochs:  21%|██        | 413/2000 [00:22<00:51, 30.69it/s]"
     ]
    },
    {
     "name": "stdout",
     "output_type": "stream",
     "text": [
      "Epoch 410/2000, Loss: 0.0002\n",
      "Test Accuracy at Epoch 410: 65.38%\n",
      "Test F1-score at Epoch 410: 0.6400\n",
      "Classification Report at Epoch 410:\n",
      "                  precision    recall  f1-score   support\n",
      "\n",
      "    infringement       0.64      0.69      0.67        13\n",
      "non_infringement       0.67      0.62      0.64        13\n",
      "\n",
      "        accuracy                           0.65        26\n",
      "       macro avg       0.65      0.65      0.65        26\n",
      "    weighted avg       0.65      0.65      0.65        26\n",
      "\n"
     ]
    },
    {
     "name": "stderr",
     "output_type": "stream",
     "text": [
      "Training Epochs:  21%|██        | 420/2000 [00:22<00:49, 31.75it/s]"
     ]
    },
    {
     "name": "stdout",
     "output_type": "stream",
     "text": [
      "Epoch 420/2000, Loss: 0.0002\n",
      "Test Accuracy at Epoch 420: 65.38%\n",
      "Test F1-score at Epoch 420: 0.6400\n",
      "Classification Report at Epoch 420:\n",
      "                  precision    recall  f1-score   support\n",
      "\n",
      "    infringement       0.64      0.69      0.67        13\n",
      "non_infringement       0.67      0.62      0.64        13\n",
      "\n",
      "        accuracy                           0.65        26\n",
      "       macro avg       0.65      0.65      0.65        26\n",
      "    weighted avg       0.65      0.65      0.65        26\n",
      "\n"
     ]
    },
    {
     "name": "stderr",
     "output_type": "stream",
     "text": [
      "Training Epochs:  21%|██▏       | 429/2000 [00:25<03:24,  7.69it/s]"
     ]
    },
    {
     "name": "stdout",
     "output_type": "stream",
     "text": [
      "Epoch 430/2000, Loss: 0.0002\n",
      "Test Accuracy at Epoch 430: 65.38%\n",
      "Test F1-score at Epoch 430: 0.6400\n",
      "Classification Report at Epoch 430:\n",
      "                  precision    recall  f1-score   support\n",
      "\n",
      "    infringement       0.64      0.69      0.67        13\n",
      "non_infringement       0.67      0.62      0.64        13\n",
      "\n",
      "        accuracy                           0.65        26\n",
      "       macro avg       0.65      0.65      0.65        26\n",
      "    weighted avg       0.65      0.65      0.65        26\n",
      "\n"
     ]
    },
    {
     "name": "stderr",
     "output_type": "stream",
     "text": [
      "Training Epochs:  22%|██▏       | 446/2000 [00:26<02:01, 12.77it/s]"
     ]
    },
    {
     "name": "stdout",
     "output_type": "stream",
     "text": [
      "Epoch 440/2000, Loss: 0.0002\n",
      "Test Accuracy at Epoch 440: 65.38%\n",
      "Test F1-score at Epoch 440: 0.6400\n",
      "Classification Report at Epoch 440:\n",
      "                  precision    recall  f1-score   support\n",
      "\n",
      "    infringement       0.64      0.69      0.67        13\n",
      "non_infringement       0.67      0.62      0.64        13\n",
      "\n",
      "        accuracy                           0.65        26\n",
      "       macro avg       0.65      0.65      0.65        26\n",
      "    weighted avg       0.65      0.65      0.65        26\n",
      "\n",
      "Epoch 450/2000, Loss: 0.0002\n",
      "Test Accuracy at Epoch 450: 65.38%\n",
      "Test F1-score at Epoch 450: 0.6400\n",
      "Classification Report at Epoch 450:\n",
      "                  precision    recall  f1-score   support\n",
      "\n",
      "    infringement       0.64      0.69      0.67        13\n",
      "non_infringement       0.67      0.62      0.64        13\n",
      "\n",
      "        accuracy                           0.65        26\n",
      "       macro avg       0.65      0.65      0.65        26\n",
      "    weighted avg       0.65      0.65      0.65        26\n",
      "\n"
     ]
    },
    {
     "name": "stderr",
     "output_type": "stream",
     "text": [
      "Training Epochs:  23%|██▎       | 467/2000 [00:26<00:42, 35.98it/s]"
     ]
    },
    {
     "name": "stdout",
     "output_type": "stream",
     "text": [
      "Epoch 460/2000, Loss: 0.0001\n",
      "Test Accuracy at Epoch 460: 65.38%\n",
      "Test F1-score at Epoch 460: 0.6400\n",
      "Classification Report at Epoch 460:\n",
      "                  precision    recall  f1-score   support\n",
      "\n",
      "    infringement       0.64      0.69      0.67        13\n",
      "non_infringement       0.67      0.62      0.64        13\n",
      "\n",
      "        accuracy                           0.65        26\n",
      "       macro avg       0.65      0.65      0.65        26\n",
      "    weighted avg       0.65      0.65      0.65        26\n",
      "\n",
      "Epoch 470/2000, Loss: 0.0001\n",
      "Test Accuracy at Epoch 470: 65.38%\n",
      "Test F1-score at Epoch 470: 0.6400\n",
      "Classification Report at Epoch 470:\n",
      "                  precision    recall  f1-score   support\n",
      "\n",
      "    infringement       0.64      0.69      0.67        13\n",
      "non_infringement       0.67      0.62      0.64        13\n",
      "\n",
      "        accuracy                           0.65        26\n",
      "       macro avg       0.65      0.65      0.65        26\n",
      "    weighted avg       0.65      0.65      0.65        26\n",
      "\n"
     ]
    },
    {
     "name": "stderr",
     "output_type": "stream",
     "text": [
      "Training Epochs:  24%|██▍       | 487/2000 [00:28<01:30, 16.74it/s]"
     ]
    },
    {
     "name": "stdout",
     "output_type": "stream",
     "text": [
      "Epoch 480/2000, Loss: 0.0001\n",
      "Test Accuracy at Epoch 480: 65.38%\n",
      "Test F1-score at Epoch 480: 0.6400\n",
      "Classification Report at Epoch 480:\n",
      "                  precision    recall  f1-score   support\n",
      "\n",
      "    infringement       0.64      0.69      0.67        13\n",
      "non_infringement       0.67      0.62      0.64        13\n",
      "\n",
      "        accuracy                           0.65        26\n",
      "       macro avg       0.65      0.65      0.65        26\n",
      "    weighted avg       0.65      0.65      0.65        26\n",
      "\n",
      "Epoch 490/2000, Loss: 0.0001\n",
      "Test Accuracy at Epoch 490: 65.38%\n",
      "Test F1-score at Epoch 490: 0.6400\n",
      "Classification Report at Epoch 490:\n",
      "                  precision    recall  f1-score   support\n",
      "\n",
      "    infringement       0.64      0.69      0.67        13\n",
      "non_infringement       0.67      0.62      0.64        13\n",
      "\n",
      "        accuracy                           0.65        26\n",
      "       macro avg       0.65      0.65      0.65        26\n",
      "    weighted avg       0.65      0.65      0.65        26\n",
      "\n"
     ]
    },
    {
     "name": "stderr",
     "output_type": "stream",
     "text": [
      "Training Epochs:  25%|██▌       | 508/2000 [00:29<00:42, 34.70it/s]"
     ]
    },
    {
     "name": "stdout",
     "output_type": "stream",
     "text": [
      "Epoch 500/2000, Loss: 0.0001\n",
      "Test Accuracy at Epoch 500: 65.38%\n",
      "Test F1-score at Epoch 500: 0.6400\n",
      "Classification Report at Epoch 500:\n",
      "                  precision    recall  f1-score   support\n",
      "\n",
      "    infringement       0.64      0.69      0.67        13\n",
      "non_infringement       0.67      0.62      0.64        13\n",
      "\n",
      "        accuracy                           0.65        26\n",
      "       macro avg       0.65      0.65      0.65        26\n",
      "    weighted avg       0.65      0.65      0.65        26\n",
      "\n",
      "Epoch 510/2000, Loss: 0.0001\n",
      "Test Accuracy at Epoch 510: 65.38%\n",
      "Test F1-score at Epoch 510: 0.6400\n",
      "Classification Report at Epoch 510:\n",
      "                  precision    recall  f1-score   support\n",
      "\n",
      "    infringement       0.64      0.69      0.67        13\n",
      "non_infringement       0.67      0.62      0.64        13\n",
      "\n",
      "        accuracy                           0.65        26\n",
      "       macro avg       0.65      0.65      0.65        26\n",
      "    weighted avg       0.65      0.65      0.65        26\n",
      "\n"
     ]
    },
    {
     "name": "stderr",
     "output_type": "stream",
     "text": [
      "Training Epochs:  26%|██▌       | 516/2000 [00:31<02:37,  9.44it/s]"
     ]
    },
    {
     "name": "stdout",
     "output_type": "stream",
     "text": [
      "Epoch 520/2000, Loss: 0.0001\n",
      "Test Accuracy at Epoch 520: 65.38%\n",
      "Test F1-score at Epoch 520: 0.6400\n",
      "Classification Report at Epoch 520:\n",
      "                  precision    recall  f1-score   support\n",
      "\n",
      "    infringement       0.64      0.69      0.67        13\n",
      "non_infringement       0.67      0.62      0.64        13\n",
      "\n",
      "        accuracy                           0.65        26\n",
      "       macro avg       0.65      0.65      0.65        26\n",
      "    weighted avg       0.65      0.65      0.65        26\n",
      "\n"
     ]
    },
    {
     "name": "stderr",
     "output_type": "stream",
     "text": [
      "Training Epochs:  26%|██▋       | 529/2000 [00:36<05:35,  4.38it/s]"
     ]
    },
    {
     "name": "stdout",
     "output_type": "stream",
     "text": [
      "Epoch 530/2000, Loss: 0.0001\n",
      "Test Accuracy at Epoch 530: 65.38%\n",
      "Test F1-score at Epoch 530: 0.6400\n",
      "Classification Report at Epoch 530:\n",
      "                  precision    recall  f1-score   support\n",
      "\n",
      "    infringement       0.64      0.69      0.67        13\n",
      "non_infringement       0.67      0.62      0.64        13\n",
      "\n",
      "        accuracy                           0.65        26\n",
      "       macro avg       0.65      0.65      0.65        26\n",
      "    weighted avg       0.65      0.65      0.65        26\n",
      "\n"
     ]
    },
    {
     "name": "stderr",
     "output_type": "stream",
     "text": [
      "Training Epochs:  27%|██▋       | 540/2000 [00:40<08:12,  2.97it/s]"
     ]
    },
    {
     "name": "stdout",
     "output_type": "stream",
     "text": [
      "Epoch 540/2000, Loss: 0.0001\n",
      "Test Accuracy at Epoch 540: 65.38%\n",
      "Test F1-score at Epoch 540: 0.6400\n",
      "Classification Report at Epoch 540:\n",
      "                  precision    recall  f1-score   support\n",
      "\n",
      "    infringement       0.64      0.69      0.67        13\n",
      "non_infringement       0.67      0.62      0.64        13\n",
      "\n",
      "        accuracy                           0.65        26\n",
      "       macro avg       0.65      0.65      0.65        26\n",
      "    weighted avg       0.65      0.65      0.65        26\n",
      "\n"
     ]
    },
    {
     "name": "stderr",
     "output_type": "stream",
     "text": [
      "Training Epochs:  28%|██▊       | 550/2000 [00:44<10:37,  2.28it/s]"
     ]
    },
    {
     "name": "stdout",
     "output_type": "stream",
     "text": [
      "Epoch 550/2000, Loss: 0.0001\n",
      "Test Accuracy at Epoch 550: 65.38%\n",
      "Test F1-score at Epoch 550: 0.6400\n",
      "Classification Report at Epoch 550:\n",
      "                  precision    recall  f1-score   support\n",
      "\n",
      "    infringement       0.64      0.69      0.67        13\n",
      "non_infringement       0.67      0.62      0.64        13\n",
      "\n",
      "        accuracy                           0.65        26\n",
      "       macro avg       0.65      0.65      0.65        26\n",
      "    weighted avg       0.65      0.65      0.65        26\n",
      "\n"
     ]
    },
    {
     "name": "stderr",
     "output_type": "stream",
     "text": [
      "Training Epochs:  28%|██▊       | 560/2000 [00:48<10:44,  2.24it/s]"
     ]
    },
    {
     "name": "stdout",
     "output_type": "stream",
     "text": [
      "Epoch 560/2000, Loss: 0.0001\n",
      "Test Accuracy at Epoch 560: 65.38%\n",
      "Test F1-score at Epoch 560: 0.6400\n",
      "Classification Report at Epoch 560:\n",
      "                  precision    recall  f1-score   support\n",
      "\n",
      "    infringement       0.64      0.69      0.67        13\n",
      "non_infringement       0.67      0.62      0.64        13\n",
      "\n",
      "        accuracy                           0.65        26\n",
      "       macro avg       0.65      0.65      0.65        26\n",
      "    weighted avg       0.65      0.65      0.65        26\n",
      "\n"
     ]
    },
    {
     "name": "stderr",
     "output_type": "stream",
     "text": [
      "Training Epochs:  28%|██▊       | 570/2000 [00:52<09:14,  2.58it/s]"
     ]
    },
    {
     "name": "stdout",
     "output_type": "stream",
     "text": [
      "Epoch 570/2000, Loss: 0.0001\n",
      "Test Accuracy at Epoch 570: 65.38%\n",
      "Test F1-score at Epoch 570: 0.6400\n",
      "Classification Report at Epoch 570:\n",
      "                  precision    recall  f1-score   support\n",
      "\n",
      "    infringement       0.64      0.69      0.67        13\n",
      "non_infringement       0.67      0.62      0.64        13\n",
      "\n",
      "        accuracy                           0.65        26\n",
      "       macro avg       0.65      0.65      0.65        26\n",
      "    weighted avg       0.65      0.65      0.65        26\n",
      "\n"
     ]
    },
    {
     "name": "stderr",
     "output_type": "stream",
     "text": [
      "Training Epochs:  29%|██▉       | 580/2000 [00:56<09:55,  2.38it/s]"
     ]
    },
    {
     "name": "stdout",
     "output_type": "stream",
     "text": [
      "Epoch 580/2000, Loss: 0.0001\n",
      "Test Accuracy at Epoch 580: 65.38%\n",
      "Test F1-score at Epoch 580: 0.6400\n",
      "Classification Report at Epoch 580:\n",
      "                  precision    recall  f1-score   support\n",
      "\n",
      "    infringement       0.64      0.69      0.67        13\n",
      "non_infringement       0.67      0.62      0.64        13\n",
      "\n",
      "        accuracy                           0.65        26\n",
      "       macro avg       0.65      0.65      0.65        26\n",
      "    weighted avg       0.65      0.65      0.65        26\n",
      "\n"
     ]
    },
    {
     "name": "stderr",
     "output_type": "stream",
     "text": [
      "Training Epochs:  30%|██▉       | 590/2000 [01:00<09:44,  2.41it/s]"
     ]
    },
    {
     "name": "stdout",
     "output_type": "stream",
     "text": [
      "Epoch 590/2000, Loss: 0.0001\n",
      "Test Accuracy at Epoch 590: 65.38%\n",
      "Test F1-score at Epoch 590: 0.6400\n",
      "Classification Report at Epoch 590:\n",
      "                  precision    recall  f1-score   support\n",
      "\n",
      "    infringement       0.64      0.69      0.67        13\n",
      "non_infringement       0.67      0.62      0.64        13\n",
      "\n",
      "        accuracy                           0.65        26\n",
      "       macro avg       0.65      0.65      0.65        26\n",
      "    weighted avg       0.65      0.65      0.65        26\n",
      "\n"
     ]
    },
    {
     "name": "stderr",
     "output_type": "stream",
     "text": [
      "Training Epochs:  30%|███       | 600/2000 [01:04<08:58,  2.60it/s]"
     ]
    },
    {
     "name": "stdout",
     "output_type": "stream",
     "text": [
      "Epoch 600/2000, Loss: 0.0001\n",
      "Test Accuracy at Epoch 600: 65.38%\n",
      "Test F1-score at Epoch 600: 0.6400\n",
      "Classification Report at Epoch 600:\n",
      "                  precision    recall  f1-score   support\n",
      "\n",
      "    infringement       0.64      0.69      0.67        13\n",
      "non_infringement       0.67      0.62      0.64        13\n",
      "\n",
      "        accuracy                           0.65        26\n",
      "       macro avg       0.65      0.65      0.65        26\n",
      "    weighted avg       0.65      0.65      0.65        26\n",
      "\n"
     ]
    },
    {
     "name": "stderr",
     "output_type": "stream",
     "text": [
      "Training Epochs:  30%|███       | 610/2000 [01:09<09:41,  2.39it/s]"
     ]
    },
    {
     "name": "stdout",
     "output_type": "stream",
     "text": [
      "Epoch 610/2000, Loss: 0.0001\n",
      "Test Accuracy at Epoch 610: 65.38%\n",
      "Test F1-score at Epoch 610: 0.6400\n",
      "Classification Report at Epoch 610:\n",
      "                  precision    recall  f1-score   support\n",
      "\n",
      "    infringement       0.64      0.69      0.67        13\n",
      "non_infringement       0.67      0.62      0.64        13\n",
      "\n",
      "        accuracy                           0.65        26\n",
      "       macro avg       0.65      0.65      0.65        26\n",
      "    weighted avg       0.65      0.65      0.65        26\n",
      "\n"
     ]
    },
    {
     "name": "stderr",
     "output_type": "stream",
     "text": [
      "Training Epochs:  31%|███       | 620/2000 [01:12<09:18,  2.47it/s]"
     ]
    },
    {
     "name": "stdout",
     "output_type": "stream",
     "text": [
      "Epoch 620/2000, Loss: 0.0001\n",
      "Test Accuracy at Epoch 620: 65.38%\n",
      "Test F1-score at Epoch 620: 0.6400\n",
      "Classification Report at Epoch 620:\n",
      "                  precision    recall  f1-score   support\n",
      "\n",
      "    infringement       0.64      0.69      0.67        13\n",
      "non_infringement       0.67      0.62      0.64        13\n",
      "\n",
      "        accuracy                           0.65        26\n",
      "       macro avg       0.65      0.65      0.65        26\n",
      "    weighted avg       0.65      0.65      0.65        26\n",
      "\n"
     ]
    },
    {
     "name": "stderr",
     "output_type": "stream",
     "text": [
      "Training Epochs:  32%|███▏      | 630/2000 [01:16<08:23,  2.72it/s]"
     ]
    },
    {
     "name": "stdout",
     "output_type": "stream",
     "text": [
      "Epoch 630/2000, Loss: 0.0001\n",
      "Test Accuracy at Epoch 630: 65.38%\n",
      "Test F1-score at Epoch 630: 0.6400\n",
      "Classification Report at Epoch 630:\n",
      "                  precision    recall  f1-score   support\n",
      "\n",
      "    infringement       0.64      0.69      0.67        13\n",
      "non_infringement       0.67      0.62      0.64        13\n",
      "\n",
      "        accuracy                           0.65        26\n",
      "       macro avg       0.65      0.65      0.65        26\n",
      "    weighted avg       0.65      0.65      0.65        26\n",
      "\n"
     ]
    },
    {
     "name": "stderr",
     "output_type": "stream",
     "text": [
      "Training Epochs:  32%|███▏      | 640/2000 [01:19<07:38,  2.96it/s]"
     ]
    },
    {
     "name": "stdout",
     "output_type": "stream",
     "text": [
      "Epoch 640/2000, Loss: 0.0001\n",
      "Test Accuracy at Epoch 640: 65.38%\n",
      "Test F1-score at Epoch 640: 0.6400\n",
      "Classification Report at Epoch 640:\n",
      "                  precision    recall  f1-score   support\n",
      "\n",
      "    infringement       0.64      0.69      0.67        13\n",
      "non_infringement       0.67      0.62      0.64        13\n",
      "\n",
      "        accuracy                           0.65        26\n",
      "       macro avg       0.65      0.65      0.65        26\n",
      "    weighted avg       0.65      0.65      0.65        26\n",
      "\n"
     ]
    },
    {
     "name": "stderr",
     "output_type": "stream",
     "text": [
      "Training Epochs:  32%|███▎      | 650/2000 [01:23<08:48,  2.55it/s]"
     ]
    },
    {
     "name": "stdout",
     "output_type": "stream",
     "text": [
      "Epoch 650/2000, Loss: 0.0001\n",
      "Test Accuracy at Epoch 650: 65.38%\n",
      "Test F1-score at Epoch 650: 0.6400\n",
      "Classification Report at Epoch 650:\n",
      "                  precision    recall  f1-score   support\n",
      "\n",
      "    infringement       0.64      0.69      0.67        13\n",
      "non_infringement       0.67      0.62      0.64        13\n",
      "\n",
      "        accuracy                           0.65        26\n",
      "       macro avg       0.65      0.65      0.65        26\n",
      "    weighted avg       0.65      0.65      0.65        26\n",
      "\n"
     ]
    },
    {
     "name": "stderr",
     "output_type": "stream",
     "text": [
      "Training Epochs:  33%|███▎      | 660/2000 [01:27<09:47,  2.28it/s]"
     ]
    },
    {
     "name": "stdout",
     "output_type": "stream",
     "text": [
      "Epoch 660/2000, Loss: 0.0001\n",
      "Test Accuracy at Epoch 660: 65.38%\n",
      "Test F1-score at Epoch 660: 0.6400\n",
      "Classification Report at Epoch 660:\n",
      "                  precision    recall  f1-score   support\n",
      "\n",
      "    infringement       0.64      0.69      0.67        13\n",
      "non_infringement       0.67      0.62      0.64        13\n",
      "\n",
      "        accuracy                           0.65        26\n",
      "       macro avg       0.65      0.65      0.65        26\n",
      "    weighted avg       0.65      0.65      0.65        26\n",
      "\n"
     ]
    },
    {
     "name": "stderr",
     "output_type": "stream",
     "text": [
      "Training Epochs:  34%|███▎      | 670/2000 [01:31<08:48,  2.52it/s]"
     ]
    },
    {
     "name": "stdout",
     "output_type": "stream",
     "text": [
      "Epoch 670/2000, Loss: 0.0001\n",
      "Test Accuracy at Epoch 670: 65.38%\n",
      "Test F1-score at Epoch 670: 0.6400\n",
      "Classification Report at Epoch 670:\n",
      "                  precision    recall  f1-score   support\n",
      "\n",
      "    infringement       0.64      0.69      0.67        13\n",
      "non_infringement       0.67      0.62      0.64        13\n",
      "\n",
      "        accuracy                           0.65        26\n",
      "       macro avg       0.65      0.65      0.65        26\n",
      "    weighted avg       0.65      0.65      0.65        26\n",
      "\n"
     ]
    },
    {
     "name": "stderr",
     "output_type": "stream",
     "text": [
      "Training Epochs:  34%|███▍      | 680/2000 [01:35<07:40,  2.87it/s]"
     ]
    },
    {
     "name": "stdout",
     "output_type": "stream",
     "text": [
      "Epoch 680/2000, Loss: 0.0001\n",
      "Test Accuracy at Epoch 680: 65.38%\n",
      "Test F1-score at Epoch 680: 0.6400\n",
      "Classification Report at Epoch 680:\n",
      "                  precision    recall  f1-score   support\n",
      "\n",
      "    infringement       0.64      0.69      0.67        13\n",
      "non_infringement       0.67      0.62      0.64        13\n",
      "\n",
      "        accuracy                           0.65        26\n",
      "       macro avg       0.65      0.65      0.65        26\n",
      "    weighted avg       0.65      0.65      0.65        26\n",
      "\n"
     ]
    },
    {
     "name": "stderr",
     "output_type": "stream",
     "text": [
      "Training Epochs:  34%|███▍      | 690/2000 [01:39<09:06,  2.40it/s]"
     ]
    },
    {
     "name": "stdout",
     "output_type": "stream",
     "text": [
      "Epoch 690/2000, Loss: 0.0001\n",
      "Test Accuracy at Epoch 690: 65.38%\n",
      "Test F1-score at Epoch 690: 0.6400\n",
      "Classification Report at Epoch 690:\n",
      "                  precision    recall  f1-score   support\n",
      "\n",
      "    infringement       0.64      0.69      0.67        13\n",
      "non_infringement       0.67      0.62      0.64        13\n",
      "\n",
      "        accuracy                           0.65        26\n",
      "       macro avg       0.65      0.65      0.65        26\n",
      "    weighted avg       0.65      0.65      0.65        26\n",
      "\n"
     ]
    },
    {
     "name": "stderr",
     "output_type": "stream",
     "text": [
      "Training Epochs:  35%|███▌      | 700/2000 [01:43<08:56,  2.42it/s]"
     ]
    },
    {
     "name": "stdout",
     "output_type": "stream",
     "text": [
      "Epoch 700/2000, Loss: 0.0001\n",
      "Test Accuracy at Epoch 700: 65.38%\n",
      "Test F1-score at Epoch 700: 0.6400\n",
      "Classification Report at Epoch 700:\n",
      "                  precision    recall  f1-score   support\n",
      "\n",
      "    infringement       0.64      0.69      0.67        13\n",
      "non_infringement       0.67      0.62      0.64        13\n",
      "\n",
      "        accuracy                           0.65        26\n",
      "       macro avg       0.65      0.65      0.65        26\n",
      "    weighted avg       0.65      0.65      0.65        26\n",
      "\n"
     ]
    },
    {
     "name": "stderr",
     "output_type": "stream",
     "text": [
      "Training Epochs:  36%|███▌      | 710/2000 [01:47<09:15,  2.32it/s]"
     ]
    },
    {
     "name": "stdout",
     "output_type": "stream",
     "text": [
      "Epoch 710/2000, Loss: 0.0001\n",
      "Test Accuracy at Epoch 710: 65.38%\n",
      "Test F1-score at Epoch 710: 0.6400\n",
      "Classification Report at Epoch 710:\n",
      "                  precision    recall  f1-score   support\n",
      "\n",
      "    infringement       0.64      0.69      0.67        13\n",
      "non_infringement       0.67      0.62      0.64        13\n",
      "\n",
      "        accuracy                           0.65        26\n",
      "       macro avg       0.65      0.65      0.65        26\n",
      "    weighted avg       0.65      0.65      0.65        26\n",
      "\n"
     ]
    },
    {
     "name": "stderr",
     "output_type": "stream",
     "text": [
      "Training Epochs:  36%|███▌      | 720/2000 [01:51<09:14,  2.31it/s]"
     ]
    },
    {
     "name": "stdout",
     "output_type": "stream",
     "text": [
      "Epoch 720/2000, Loss: 0.0001\n",
      "Test Accuracy at Epoch 720: 65.38%\n",
      "Test F1-score at Epoch 720: 0.6400\n",
      "Classification Report at Epoch 720:\n",
      "                  precision    recall  f1-score   support\n",
      "\n",
      "    infringement       0.64      0.69      0.67        13\n",
      "non_infringement       0.67      0.62      0.64        13\n",
      "\n",
      "        accuracy                           0.65        26\n",
      "       macro avg       0.65      0.65      0.65        26\n",
      "    weighted avg       0.65      0.65      0.65        26\n",
      "\n"
     ]
    },
    {
     "name": "stderr",
     "output_type": "stream",
     "text": [
      "Training Epochs:  36%|███▋      | 730/2000 [01:55<08:01,  2.64it/s]"
     ]
    },
    {
     "name": "stdout",
     "output_type": "stream",
     "text": [
      "Epoch 730/2000, Loss: 0.0001\n",
      "Test Accuracy at Epoch 730: 65.38%\n",
      "Test F1-score at Epoch 730: 0.6400\n",
      "Classification Report at Epoch 730:\n",
      "                  precision    recall  f1-score   support\n",
      "\n",
      "    infringement       0.64      0.69      0.67        13\n",
      "non_infringement       0.67      0.62      0.64        13\n",
      "\n",
      "        accuracy                           0.65        26\n",
      "       macro avg       0.65      0.65      0.65        26\n",
      "    weighted avg       0.65      0.65      0.65        26\n",
      "\n"
     ]
    },
    {
     "name": "stderr",
     "output_type": "stream",
     "text": [
      "Training Epochs:  37%|███▋      | 740/2000 [01:59<07:38,  2.75it/s]"
     ]
    },
    {
     "name": "stdout",
     "output_type": "stream",
     "text": [
      "Epoch 740/2000, Loss: 0.0001\n",
      "Test Accuracy at Epoch 740: 65.38%\n",
      "Test F1-score at Epoch 740: 0.6400\n",
      "Classification Report at Epoch 740:\n",
      "                  precision    recall  f1-score   support\n",
      "\n",
      "    infringement       0.64      0.69      0.67        13\n",
      "non_infringement       0.67      0.62      0.64        13\n",
      "\n",
      "        accuracy                           0.65        26\n",
      "       macro avg       0.65      0.65      0.65        26\n",
      "    weighted avg       0.65      0.65      0.65        26\n",
      "\n"
     ]
    },
    {
     "name": "stderr",
     "output_type": "stream",
     "text": [
      "Training Epochs:  38%|███▊      | 750/2000 [02:03<09:02,  2.30it/s]"
     ]
    },
    {
     "name": "stdout",
     "output_type": "stream",
     "text": [
      "Epoch 750/2000, Loss: 0.0001\n",
      "Test Accuracy at Epoch 750: 65.38%\n",
      "Test F1-score at Epoch 750: 0.6400\n",
      "Classification Report at Epoch 750:\n",
      "                  precision    recall  f1-score   support\n",
      "\n",
      "    infringement       0.64      0.69      0.67        13\n",
      "non_infringement       0.67      0.62      0.64        13\n",
      "\n",
      "        accuracy                           0.65        26\n",
      "       macro avg       0.65      0.65      0.65        26\n",
      "    weighted avg       0.65      0.65      0.65        26\n",
      "\n"
     ]
    },
    {
     "name": "stderr",
     "output_type": "stream",
     "text": [
      "Training Epochs:  38%|███▊      | 760/2000 [02:07<07:55,  2.61it/s]"
     ]
    },
    {
     "name": "stdout",
     "output_type": "stream",
     "text": [
      "Epoch 760/2000, Loss: 0.0001\n",
      "Test Accuracy at Epoch 760: 65.38%\n",
      "Test F1-score at Epoch 760: 0.6400\n",
      "Classification Report at Epoch 760:\n",
      "                  precision    recall  f1-score   support\n",
      "\n",
      "    infringement       0.64      0.69      0.67        13\n",
      "non_infringement       0.67      0.62      0.64        13\n",
      "\n",
      "        accuracy                           0.65        26\n",
      "       macro avg       0.65      0.65      0.65        26\n",
      "    weighted avg       0.65      0.65      0.65        26\n",
      "\n"
     ]
    },
    {
     "name": "stderr",
     "output_type": "stream",
     "text": [
      "Training Epochs:  38%|███▊      | 770/2000 [02:11<08:25,  2.43it/s]"
     ]
    },
    {
     "name": "stdout",
     "output_type": "stream",
     "text": [
      "Epoch 770/2000, Loss: 0.0001\n",
      "Test Accuracy at Epoch 770: 65.38%\n",
      "Test F1-score at Epoch 770: 0.6400\n",
      "Classification Report at Epoch 770:\n",
      "                  precision    recall  f1-score   support\n",
      "\n",
      "    infringement       0.64      0.69      0.67        13\n",
      "non_infringement       0.67      0.62      0.64        13\n",
      "\n",
      "        accuracy                           0.65        26\n",
      "       macro avg       0.65      0.65      0.65        26\n",
      "    weighted avg       0.65      0.65      0.65        26\n",
      "\n"
     ]
    },
    {
     "name": "stderr",
     "output_type": "stream",
     "text": [
      "Training Epochs:  39%|███▉      | 780/2000 [02:15<09:13,  2.20it/s]"
     ]
    },
    {
     "name": "stdout",
     "output_type": "stream",
     "text": [
      "Epoch 780/2000, Loss: 0.0001\n",
      "Test Accuracy at Epoch 780: 65.38%\n",
      "Test F1-score at Epoch 780: 0.6400\n",
      "Classification Report at Epoch 780:\n",
      "                  precision    recall  f1-score   support\n",
      "\n",
      "    infringement       0.64      0.69      0.67        13\n",
      "non_infringement       0.67      0.62      0.64        13\n",
      "\n",
      "        accuracy                           0.65        26\n",
      "       macro avg       0.65      0.65      0.65        26\n",
      "    weighted avg       0.65      0.65      0.65        26\n",
      "\n"
     ]
    },
    {
     "name": "stderr",
     "output_type": "stream",
     "text": [
      "Training Epochs:  40%|███▉      | 790/2000 [02:19<07:55,  2.55it/s]"
     ]
    },
    {
     "name": "stdout",
     "output_type": "stream",
     "text": [
      "Epoch 790/2000, Loss: 0.0001\n",
      "Test Accuracy at Epoch 790: 65.38%\n",
      "Test F1-score at Epoch 790: 0.6400\n",
      "Classification Report at Epoch 790:\n",
      "                  precision    recall  f1-score   support\n",
      "\n",
      "    infringement       0.64      0.69      0.67        13\n",
      "non_infringement       0.67      0.62      0.64        13\n",
      "\n",
      "        accuracy                           0.65        26\n",
      "       macro avg       0.65      0.65      0.65        26\n",
      "    weighted avg       0.65      0.65      0.65        26\n",
      "\n"
     ]
    },
    {
     "name": "stderr",
     "output_type": "stream",
     "text": [
      "Training Epochs:  40%|████      | 800/2000 [02:23<07:35,  2.64it/s]"
     ]
    },
    {
     "name": "stdout",
     "output_type": "stream",
     "text": [
      "Epoch 800/2000, Loss: 0.0001\n",
      "Test Accuracy at Epoch 800: 65.38%\n",
      "Test F1-score at Epoch 800: 0.6400\n",
      "Classification Report at Epoch 800:\n",
      "                  precision    recall  f1-score   support\n",
      "\n",
      "    infringement       0.64      0.69      0.67        13\n",
      "non_infringement       0.67      0.62      0.64        13\n",
      "\n",
      "        accuracy                           0.65        26\n",
      "       macro avg       0.65      0.65      0.65        26\n",
      "    weighted avg       0.65      0.65      0.65        26\n",
      "\n"
     ]
    },
    {
     "name": "stderr",
     "output_type": "stream",
     "text": [
      "Training Epochs:  40%|████      | 810/2000 [02:28<09:30,  2.09it/s]"
     ]
    },
    {
     "name": "stdout",
     "output_type": "stream",
     "text": [
      "Epoch 810/2000, Loss: 0.0001\n",
      "Test Accuracy at Epoch 810: 65.38%\n",
      "Test F1-score at Epoch 810: 0.6400\n",
      "Classification Report at Epoch 810:\n",
      "                  precision    recall  f1-score   support\n",
      "\n",
      "    infringement       0.64      0.69      0.67        13\n",
      "non_infringement       0.67      0.62      0.64        13\n",
      "\n",
      "        accuracy                           0.65        26\n",
      "       macro avg       0.65      0.65      0.65        26\n",
      "    weighted avg       0.65      0.65      0.65        26\n",
      "\n"
     ]
    },
    {
     "name": "stderr",
     "output_type": "stream",
     "text": [
      "Training Epochs:  41%|████      | 820/2000 [02:32<08:24,  2.34it/s]"
     ]
    },
    {
     "name": "stdout",
     "output_type": "stream",
     "text": [
      "Epoch 820/2000, Loss: 0.0000\n",
      "Test Accuracy at Epoch 820: 65.38%\n",
      "Test F1-score at Epoch 820: 0.6400\n",
      "Classification Report at Epoch 820:\n",
      "                  precision    recall  f1-score   support\n",
      "\n",
      "    infringement       0.64      0.69      0.67        13\n",
      "non_infringement       0.67      0.62      0.64        13\n",
      "\n",
      "        accuracy                           0.65        26\n",
      "       macro avg       0.65      0.65      0.65        26\n",
      "    weighted avg       0.65      0.65      0.65        26\n",
      "\n"
     ]
    },
    {
     "name": "stderr",
     "output_type": "stream",
     "text": [
      "Training Epochs:  42%|████▏     | 830/2000 [02:36<09:08,  2.13it/s]"
     ]
    },
    {
     "name": "stdout",
     "output_type": "stream",
     "text": [
      "Epoch 830/2000, Loss: 0.0000\n",
      "Test Accuracy at Epoch 830: 65.38%\n",
      "Test F1-score at Epoch 830: 0.6400\n",
      "Classification Report at Epoch 830:\n",
      "                  precision    recall  f1-score   support\n",
      "\n",
      "    infringement       0.64      0.69      0.67        13\n",
      "non_infringement       0.67      0.62      0.64        13\n",
      "\n",
      "        accuracy                           0.65        26\n",
      "       macro avg       0.65      0.65      0.65        26\n",
      "    weighted avg       0.65      0.65      0.65        26\n",
      "\n"
     ]
    },
    {
     "name": "stderr",
     "output_type": "stream",
     "text": [
      "Training Epochs:  42%|████▏     | 840/2000 [02:41<07:45,  2.49it/s]"
     ]
    },
    {
     "name": "stdout",
     "output_type": "stream",
     "text": [
      "Epoch 840/2000, Loss: 0.0000\n",
      "Test Accuracy at Epoch 840: 65.38%\n",
      "Test F1-score at Epoch 840: 0.6400\n",
      "Classification Report at Epoch 840:\n",
      "                  precision    recall  f1-score   support\n",
      "\n",
      "    infringement       0.64      0.69      0.67        13\n",
      "non_infringement       0.67      0.62      0.64        13\n",
      "\n",
      "        accuracy                           0.65        26\n",
      "       macro avg       0.65      0.65      0.65        26\n",
      "    weighted avg       0.65      0.65      0.65        26\n",
      "\n"
     ]
    },
    {
     "name": "stderr",
     "output_type": "stream",
     "text": [
      "Training Epochs:  42%|████▎     | 850/2000 [02:45<08:29,  2.26it/s]"
     ]
    },
    {
     "name": "stdout",
     "output_type": "stream",
     "text": [
      "Epoch 850/2000, Loss: 0.0000\n",
      "Test Accuracy at Epoch 850: 65.38%\n",
      "Test F1-score at Epoch 850: 0.6400\n",
      "Classification Report at Epoch 850:\n",
      "                  precision    recall  f1-score   support\n",
      "\n",
      "    infringement       0.64      0.69      0.67        13\n",
      "non_infringement       0.67      0.62      0.64        13\n",
      "\n",
      "        accuracy                           0.65        26\n",
      "       macro avg       0.65      0.65      0.65        26\n",
      "    weighted avg       0.65      0.65      0.65        26\n",
      "\n"
     ]
    },
    {
     "name": "stderr",
     "output_type": "stream",
     "text": [
      "Training Epochs:  43%|████▎     | 860/2000 [02:49<07:45,  2.45it/s]"
     ]
    },
    {
     "name": "stdout",
     "output_type": "stream",
     "text": [
      "Epoch 860/2000, Loss: 0.0000\n",
      "Test Accuracy at Epoch 860: 65.38%\n",
      "Test F1-score at Epoch 860: 0.6400\n",
      "Classification Report at Epoch 860:\n",
      "                  precision    recall  f1-score   support\n",
      "\n",
      "    infringement       0.64      0.69      0.67        13\n",
      "non_infringement       0.67      0.62      0.64        13\n",
      "\n",
      "        accuracy                           0.65        26\n",
      "       macro avg       0.65      0.65      0.65        26\n",
      "    weighted avg       0.65      0.65      0.65        26\n",
      "\n"
     ]
    },
    {
     "name": "stderr",
     "output_type": "stream",
     "text": [
      "Training Epochs:  44%|████▎     | 870/2000 [02:52<06:53,  2.73it/s]"
     ]
    },
    {
     "name": "stdout",
     "output_type": "stream",
     "text": [
      "Epoch 870/2000, Loss: 0.0000\n",
      "Test Accuracy at Epoch 870: 65.38%\n",
      "Test F1-score at Epoch 870: 0.6400\n",
      "Classification Report at Epoch 870:\n",
      "                  precision    recall  f1-score   support\n",
      "\n",
      "    infringement       0.64      0.69      0.67        13\n",
      "non_infringement       0.67      0.62      0.64        13\n",
      "\n",
      "        accuracy                           0.65        26\n",
      "       macro avg       0.65      0.65      0.65        26\n",
      "    weighted avg       0.65      0.65      0.65        26\n",
      "\n"
     ]
    },
    {
     "name": "stderr",
     "output_type": "stream",
     "text": [
      "Training Epochs:  44%|████▍     | 880/2000 [02:56<06:44,  2.77it/s]"
     ]
    },
    {
     "name": "stdout",
     "output_type": "stream",
     "text": [
      "Epoch 880/2000, Loss: 0.0000\n",
      "Test Accuracy at Epoch 880: 65.38%\n",
      "Test F1-score at Epoch 880: 0.6400\n",
      "Classification Report at Epoch 880:\n",
      "                  precision    recall  f1-score   support\n",
      "\n",
      "    infringement       0.64      0.69      0.67        13\n",
      "non_infringement       0.67      0.62      0.64        13\n",
      "\n",
      "        accuracy                           0.65        26\n",
      "       macro avg       0.65      0.65      0.65        26\n",
      "    weighted avg       0.65      0.65      0.65        26\n",
      "\n"
     ]
    },
    {
     "name": "stderr",
     "output_type": "stream",
     "text": [
      "Training Epochs:  44%|████▍     | 890/2000 [03:00<08:04,  2.29it/s]"
     ]
    },
    {
     "name": "stdout",
     "output_type": "stream",
     "text": [
      "Epoch 890/2000, Loss: 0.0000\n",
      "Test Accuracy at Epoch 890: 65.38%\n",
      "Test F1-score at Epoch 890: 0.6400\n",
      "Classification Report at Epoch 890:\n",
      "                  precision    recall  f1-score   support\n",
      "\n",
      "    infringement       0.64      0.69      0.67        13\n",
      "non_infringement       0.67      0.62      0.64        13\n",
      "\n",
      "        accuracy                           0.65        26\n",
      "       macro avg       0.65      0.65      0.65        26\n",
      "    weighted avg       0.65      0.65      0.65        26\n",
      "\n"
     ]
    },
    {
     "name": "stderr",
     "output_type": "stream",
     "text": [
      "Training Epochs:  45%|████▌     | 900/2000 [03:04<08:28,  2.16it/s]"
     ]
    },
    {
     "name": "stdout",
     "output_type": "stream",
     "text": [
      "Epoch 900/2000, Loss: 0.0000\n",
      "Test Accuracy at Epoch 900: 65.38%\n",
      "Test F1-score at Epoch 900: 0.6400\n",
      "Classification Report at Epoch 900:\n",
      "                  precision    recall  f1-score   support\n",
      "\n",
      "    infringement       0.64      0.69      0.67        13\n",
      "non_infringement       0.67      0.62      0.64        13\n",
      "\n",
      "        accuracy                           0.65        26\n",
      "       macro avg       0.65      0.65      0.65        26\n",
      "    weighted avg       0.65      0.65      0.65        26\n",
      "\n"
     ]
    },
    {
     "name": "stderr",
     "output_type": "stream",
     "text": [
      "Training Epochs:  46%|████▌     | 910/2000 [03:08<07:55,  2.29it/s]"
     ]
    },
    {
     "name": "stdout",
     "output_type": "stream",
     "text": [
      "Epoch 910/2000, Loss: 0.0000\n",
      "Test Accuracy at Epoch 910: 65.38%\n",
      "Test F1-score at Epoch 910: 0.6400\n",
      "Classification Report at Epoch 910:\n",
      "                  precision    recall  f1-score   support\n",
      "\n",
      "    infringement       0.64      0.69      0.67        13\n",
      "non_infringement       0.67      0.62      0.64        13\n",
      "\n",
      "        accuracy                           0.65        26\n",
      "       macro avg       0.65      0.65      0.65        26\n",
      "    weighted avg       0.65      0.65      0.65        26\n",
      "\n"
     ]
    },
    {
     "name": "stderr",
     "output_type": "stream",
     "text": [
      "Training Epochs:  46%|████▌     | 920/2000 [03:12<07:56,  2.27it/s]"
     ]
    },
    {
     "name": "stdout",
     "output_type": "stream",
     "text": [
      "Epoch 920/2000, Loss: 0.0000\n",
      "Test Accuracy at Epoch 920: 65.38%\n",
      "Test F1-score at Epoch 920: 0.6400\n",
      "Classification Report at Epoch 920:\n",
      "                  precision    recall  f1-score   support\n",
      "\n",
      "    infringement       0.64      0.69      0.67        13\n",
      "non_infringement       0.67      0.62      0.64        13\n",
      "\n",
      "        accuracy                           0.65        26\n",
      "       macro avg       0.65      0.65      0.65        26\n",
      "    weighted avg       0.65      0.65      0.65        26\n",
      "\n"
     ]
    },
    {
     "name": "stderr",
     "output_type": "stream",
     "text": [
      "Training Epochs:  46%|████▋     | 930/2000 [03:16<07:11,  2.48it/s]"
     ]
    },
    {
     "name": "stdout",
     "output_type": "stream",
     "text": [
      "Epoch 930/2000, Loss: 0.0000\n",
      "Test Accuracy at Epoch 930: 65.38%\n",
      "Test F1-score at Epoch 930: 0.6400\n",
      "Classification Report at Epoch 930:\n",
      "                  precision    recall  f1-score   support\n",
      "\n",
      "    infringement       0.64      0.69      0.67        13\n",
      "non_infringement       0.67      0.62      0.64        13\n",
      "\n",
      "        accuracy                           0.65        26\n",
      "       macro avg       0.65      0.65      0.65        26\n",
      "    weighted avg       0.65      0.65      0.65        26\n",
      "\n"
     ]
    },
    {
     "name": "stderr",
     "output_type": "stream",
     "text": [
      "Training Epochs:  47%|████▋     | 940/2000 [03:21<08:24,  2.10it/s]"
     ]
    },
    {
     "name": "stdout",
     "output_type": "stream",
     "text": [
      "Epoch 940/2000, Loss: 0.0000\n",
      "Test Accuracy at Epoch 940: 65.38%\n",
      "Test F1-score at Epoch 940: 0.6400\n",
      "Classification Report at Epoch 940:\n",
      "                  precision    recall  f1-score   support\n",
      "\n",
      "    infringement       0.64      0.69      0.67        13\n",
      "non_infringement       0.67      0.62      0.64        13\n",
      "\n",
      "        accuracy                           0.65        26\n",
      "       macro avg       0.65      0.65      0.65        26\n",
      "    weighted avg       0.65      0.65      0.65        26\n",
      "\n"
     ]
    },
    {
     "name": "stderr",
     "output_type": "stream",
     "text": [
      "Training Epochs:  48%|████▊     | 950/2000 [03:25<07:43,  2.26it/s]"
     ]
    },
    {
     "name": "stdout",
     "output_type": "stream",
     "text": [
      "Epoch 950/2000, Loss: 0.0000\n",
      "Test Accuracy at Epoch 950: 65.38%\n",
      "Test F1-score at Epoch 950: 0.6400\n",
      "Classification Report at Epoch 950:\n",
      "                  precision    recall  f1-score   support\n",
      "\n",
      "    infringement       0.64      0.69      0.67        13\n",
      "non_infringement       0.67      0.62      0.64        13\n",
      "\n",
      "        accuracy                           0.65        26\n",
      "       macro avg       0.65      0.65      0.65        26\n",
      "    weighted avg       0.65      0.65      0.65        26\n",
      "\n"
     ]
    },
    {
     "name": "stderr",
     "output_type": "stream",
     "text": [
      "Training Epochs:  48%|████▊     | 960/2000 [03:29<06:59,  2.48it/s]"
     ]
    },
    {
     "name": "stdout",
     "output_type": "stream",
     "text": [
      "Epoch 960/2000, Loss: 0.0000\n",
      "Test Accuracy at Epoch 960: 65.38%\n",
      "Test F1-score at Epoch 960: 0.6400\n",
      "Classification Report at Epoch 960:\n",
      "                  precision    recall  f1-score   support\n",
      "\n",
      "    infringement       0.64      0.69      0.67        13\n",
      "non_infringement       0.67      0.62      0.64        13\n",
      "\n",
      "        accuracy                           0.65        26\n",
      "       macro avg       0.65      0.65      0.65        26\n",
      "    weighted avg       0.65      0.65      0.65        26\n",
      "\n"
     ]
    },
    {
     "name": "stderr",
     "output_type": "stream",
     "text": [
      "Training Epochs:  48%|████▊     | 970/2000 [03:33<07:23,  2.32it/s]"
     ]
    },
    {
     "name": "stdout",
     "output_type": "stream",
     "text": [
      "Epoch 970/2000, Loss: 0.0000\n",
      "Test Accuracy at Epoch 970: 65.38%\n",
      "Test F1-score at Epoch 970: 0.6400\n",
      "Classification Report at Epoch 970:\n",
      "                  precision    recall  f1-score   support\n",
      "\n",
      "    infringement       0.64      0.69      0.67        13\n",
      "non_infringement       0.67      0.62      0.64        13\n",
      "\n",
      "        accuracy                           0.65        26\n",
      "       macro avg       0.65      0.65      0.65        26\n",
      "    weighted avg       0.65      0.65      0.65        26\n",
      "\n"
     ]
    },
    {
     "name": "stderr",
     "output_type": "stream",
     "text": [
      "Training Epochs:  49%|████▉     | 980/2000 [03:38<07:13,  2.35it/s]"
     ]
    },
    {
     "name": "stdout",
     "output_type": "stream",
     "text": [
      "Epoch 980/2000, Loss: 0.0000\n",
      "Test Accuracy at Epoch 980: 65.38%\n",
      "Test F1-score at Epoch 980: 0.6400\n",
      "Classification Report at Epoch 980:\n",
      "                  precision    recall  f1-score   support\n",
      "\n",
      "    infringement       0.64      0.69      0.67        13\n",
      "non_infringement       0.67      0.62      0.64        13\n",
      "\n",
      "        accuracy                           0.65        26\n",
      "       macro avg       0.65      0.65      0.65        26\n",
      "    weighted avg       0.65      0.65      0.65        26\n",
      "\n"
     ]
    },
    {
     "name": "stderr",
     "output_type": "stream",
     "text": [
      "Training Epochs:  50%|████▉     | 990/2000 [03:42<07:05,  2.38it/s]"
     ]
    },
    {
     "name": "stdout",
     "output_type": "stream",
     "text": [
      "Epoch 990/2000, Loss: 0.0000\n",
      "Test Accuracy at Epoch 990: 65.38%\n",
      "Test F1-score at Epoch 990: 0.6400\n",
      "Classification Report at Epoch 990:\n",
      "                  precision    recall  f1-score   support\n",
      "\n",
      "    infringement       0.64      0.69      0.67        13\n",
      "non_infringement       0.67      0.62      0.64        13\n",
      "\n",
      "        accuracy                           0.65        26\n",
      "       macro avg       0.65      0.65      0.65        26\n",
      "    weighted avg       0.65      0.65      0.65        26\n",
      "\n"
     ]
    },
    {
     "name": "stderr",
     "output_type": "stream",
     "text": [
      "Training Epochs:  50%|█████     | 1000/2000 [03:45<07:02,  2.36it/s]"
     ]
    },
    {
     "name": "stdout",
     "output_type": "stream",
     "text": [
      "Epoch 1000/2000, Loss: 0.0000\n",
      "Test Accuracy at Epoch 1000: 65.38%\n",
      "Test F1-score at Epoch 1000: 0.6400\n",
      "Classification Report at Epoch 1000:\n",
      "                  precision    recall  f1-score   support\n",
      "\n",
      "    infringement       0.64      0.69      0.67        13\n",
      "non_infringement       0.67      0.62      0.64        13\n",
      "\n",
      "        accuracy                           0.65        26\n",
      "       macro avg       0.65      0.65      0.65        26\n",
      "    weighted avg       0.65      0.65      0.65        26\n",
      "\n"
     ]
    },
    {
     "name": "stderr",
     "output_type": "stream",
     "text": [
      "Training Epochs:  50%|█████     | 1010/2000 [03:50<07:10,  2.30it/s]"
     ]
    },
    {
     "name": "stdout",
     "output_type": "stream",
     "text": [
      "Epoch 1010/2000, Loss: 0.0000\n",
      "Test Accuracy at Epoch 1010: 65.38%\n",
      "Test F1-score at Epoch 1010: 0.6400\n",
      "Classification Report at Epoch 1010:\n",
      "                  precision    recall  f1-score   support\n",
      "\n",
      "    infringement       0.64      0.69      0.67        13\n",
      "non_infringement       0.67      0.62      0.64        13\n",
      "\n",
      "        accuracy                           0.65        26\n",
      "       macro avg       0.65      0.65      0.65        26\n",
      "    weighted avg       0.65      0.65      0.65        26\n",
      "\n"
     ]
    },
    {
     "name": "stderr",
     "output_type": "stream",
     "text": [
      "Training Epochs:  51%|█████     | 1020/2000 [03:54<07:14,  2.26it/s]"
     ]
    },
    {
     "name": "stdout",
     "output_type": "stream",
     "text": [
      "Epoch 1020/2000, Loss: 0.0000\n",
      "Test Accuracy at Epoch 1020: 65.38%\n",
      "Test F1-score at Epoch 1020: 0.6400\n",
      "Classification Report at Epoch 1020:\n",
      "                  precision    recall  f1-score   support\n",
      "\n",
      "    infringement       0.64      0.69      0.67        13\n",
      "non_infringement       0.67      0.62      0.64        13\n",
      "\n",
      "        accuracy                           0.65        26\n",
      "       macro avg       0.65      0.65      0.65        26\n",
      "    weighted avg       0.65      0.65      0.65        26\n",
      "\n"
     ]
    },
    {
     "name": "stderr",
     "output_type": "stream",
     "text": [
      "Training Epochs:  52%|█████▏    | 1030/2000 [03:58<07:30,  2.15it/s]"
     ]
    },
    {
     "name": "stdout",
     "output_type": "stream",
     "text": [
      "Epoch 1030/2000, Loss: 0.0000\n",
      "Test Accuracy at Epoch 1030: 65.38%\n",
      "Test F1-score at Epoch 1030: 0.6400\n",
      "Classification Report at Epoch 1030:\n",
      "                  precision    recall  f1-score   support\n",
      "\n",
      "    infringement       0.64      0.69      0.67        13\n",
      "non_infringement       0.67      0.62      0.64        13\n",
      "\n",
      "        accuracy                           0.65        26\n",
      "       macro avg       0.65      0.65      0.65        26\n",
      "    weighted avg       0.65      0.65      0.65        26\n",
      "\n"
     ]
    },
    {
     "name": "stderr",
     "output_type": "stream",
     "text": [
      "Training Epochs:  52%|█████▏    | 1040/2000 [04:03<07:06,  2.25it/s]"
     ]
    },
    {
     "name": "stdout",
     "output_type": "stream",
     "text": [
      "Epoch 1040/2000, Loss: 0.0000\n",
      "Test Accuracy at Epoch 1040: 65.38%\n",
      "Test F1-score at Epoch 1040: 0.6400\n",
      "Classification Report at Epoch 1040:\n",
      "                  precision    recall  f1-score   support\n",
      "\n",
      "    infringement       0.64      0.69      0.67        13\n",
      "non_infringement       0.67      0.62      0.64        13\n",
      "\n",
      "        accuracy                           0.65        26\n",
      "       macro avg       0.65      0.65      0.65        26\n",
      "    weighted avg       0.65      0.65      0.65        26\n",
      "\n"
     ]
    },
    {
     "name": "stderr",
     "output_type": "stream",
     "text": [
      "Training Epochs:  52%|█████▎    | 1050/2000 [04:07<06:04,  2.60it/s]"
     ]
    },
    {
     "name": "stdout",
     "output_type": "stream",
     "text": [
      "Epoch 1050/2000, Loss: 0.0000\n",
      "Test Accuracy at Epoch 1050: 65.38%\n",
      "Test F1-score at Epoch 1050: 0.6400\n",
      "Classification Report at Epoch 1050:\n",
      "                  precision    recall  f1-score   support\n",
      "\n",
      "    infringement       0.64      0.69      0.67        13\n",
      "non_infringement       0.67      0.62      0.64        13\n",
      "\n",
      "        accuracy                           0.65        26\n",
      "       macro avg       0.65      0.65      0.65        26\n",
      "    weighted avg       0.65      0.65      0.65        26\n",
      "\n"
     ]
    },
    {
     "name": "stderr",
     "output_type": "stream",
     "text": [
      "Training Epochs:  53%|█████▎    | 1060/2000 [04:11<06:31,  2.40it/s]"
     ]
    },
    {
     "name": "stdout",
     "output_type": "stream",
     "text": [
      "Epoch 1060/2000, Loss: 0.0000\n",
      "Test Accuracy at Epoch 1060: 65.38%\n",
      "Test F1-score at Epoch 1060: 0.6400\n",
      "Classification Report at Epoch 1060:\n",
      "                  precision    recall  f1-score   support\n",
      "\n",
      "    infringement       0.64      0.69      0.67        13\n",
      "non_infringement       0.67      0.62      0.64        13\n",
      "\n",
      "        accuracy                           0.65        26\n",
      "       macro avg       0.65      0.65      0.65        26\n",
      "    weighted avg       0.65      0.65      0.65        26\n",
      "\n"
     ]
    },
    {
     "name": "stderr",
     "output_type": "stream",
     "text": [
      "Training Epochs:  54%|█████▎    | 1070/2000 [04:15<06:57,  2.23it/s]"
     ]
    },
    {
     "name": "stdout",
     "output_type": "stream",
     "text": [
      "Epoch 1070/2000, Loss: 0.0000\n",
      "Test Accuracy at Epoch 1070: 65.38%\n",
      "Test F1-score at Epoch 1070: 0.6400\n",
      "Classification Report at Epoch 1070:\n",
      "                  precision    recall  f1-score   support\n",
      "\n",
      "    infringement       0.64      0.69      0.67        13\n",
      "non_infringement       0.67      0.62      0.64        13\n",
      "\n",
      "        accuracy                           0.65        26\n",
      "       macro avg       0.65      0.65      0.65        26\n",
      "    weighted avg       0.65      0.65      0.65        26\n",
      "\n"
     ]
    },
    {
     "name": "stderr",
     "output_type": "stream",
     "text": [
      "Training Epochs:  54%|█████▍    | 1080/2000 [04:20<06:23,  2.40it/s]"
     ]
    },
    {
     "name": "stdout",
     "output_type": "stream",
     "text": [
      "Epoch 1080/2000, Loss: 0.0000\n",
      "Test Accuracy at Epoch 1080: 65.38%\n",
      "Test F1-score at Epoch 1080: 0.6400\n",
      "Classification Report at Epoch 1080:\n",
      "                  precision    recall  f1-score   support\n",
      "\n",
      "    infringement       0.64      0.69      0.67        13\n",
      "non_infringement       0.67      0.62      0.64        13\n",
      "\n",
      "        accuracy                           0.65        26\n",
      "       macro avg       0.65      0.65      0.65        26\n",
      "    weighted avg       0.65      0.65      0.65        26\n",
      "\n"
     ]
    },
    {
     "name": "stderr",
     "output_type": "stream",
     "text": [
      "Training Epochs:  55%|█████▍    | 1090/2000 [04:24<07:02,  2.15it/s]"
     ]
    },
    {
     "name": "stdout",
     "output_type": "stream",
     "text": [
      "Epoch 1090/2000, Loss: 0.0000\n",
      "Test Accuracy at Epoch 1090: 65.38%\n",
      "Test F1-score at Epoch 1090: 0.6400\n",
      "Classification Report at Epoch 1090:\n",
      "                  precision    recall  f1-score   support\n",
      "\n",
      "    infringement       0.64      0.69      0.67        13\n",
      "non_infringement       0.67      0.62      0.64        13\n",
      "\n",
      "        accuracy                           0.65        26\n",
      "       macro avg       0.65      0.65      0.65        26\n",
      "    weighted avg       0.65      0.65      0.65        26\n",
      "\n"
     ]
    },
    {
     "name": "stderr",
     "output_type": "stream",
     "text": [
      "Training Epochs:  55%|█████▌    | 1100/2000 [04:28<06:21,  2.36it/s]"
     ]
    },
    {
     "name": "stdout",
     "output_type": "stream",
     "text": [
      "Epoch 1100/2000, Loss: 0.0000\n",
      "Test Accuracy at Epoch 1100: 65.38%\n",
      "Test F1-score at Epoch 1100: 0.6400\n",
      "Classification Report at Epoch 1100:\n",
      "                  precision    recall  f1-score   support\n",
      "\n",
      "    infringement       0.64      0.69      0.67        13\n",
      "non_infringement       0.67      0.62      0.64        13\n",
      "\n",
      "        accuracy                           0.65        26\n",
      "       macro avg       0.65      0.65      0.65        26\n",
      "    weighted avg       0.65      0.65      0.65        26\n",
      "\n"
     ]
    },
    {
     "name": "stderr",
     "output_type": "stream",
     "text": [
      "Training Epochs:  56%|█████▌    | 1110/2000 [04:32<05:52,  2.53it/s]"
     ]
    },
    {
     "name": "stdout",
     "output_type": "stream",
     "text": [
      "Epoch 1110/2000, Loss: 0.0000\n",
      "Test Accuracy at Epoch 1110: 65.38%\n",
      "Test F1-score at Epoch 1110: 0.6400\n",
      "Classification Report at Epoch 1110:\n",
      "                  precision    recall  f1-score   support\n",
      "\n",
      "    infringement       0.64      0.69      0.67        13\n",
      "non_infringement       0.67      0.62      0.64        13\n",
      "\n",
      "        accuracy                           0.65        26\n",
      "       macro avg       0.65      0.65      0.65        26\n",
      "    weighted avg       0.65      0.65      0.65        26\n",
      "\n"
     ]
    },
    {
     "name": "stderr",
     "output_type": "stream",
     "text": [
      "Training Epochs:  56%|█████▌    | 1120/2000 [04:36<06:14,  2.35it/s]"
     ]
    },
    {
     "name": "stdout",
     "output_type": "stream",
     "text": [
      "Epoch 1120/2000, Loss: 0.0000\n",
      "Test Accuracy at Epoch 1120: 65.38%\n",
      "Test F1-score at Epoch 1120: 0.6400\n",
      "Classification Report at Epoch 1120:\n",
      "                  precision    recall  f1-score   support\n",
      "\n",
      "    infringement       0.64      0.69      0.67        13\n",
      "non_infringement       0.67      0.62      0.64        13\n",
      "\n",
      "        accuracy                           0.65        26\n",
      "       macro avg       0.65      0.65      0.65        26\n",
      "    weighted avg       0.65      0.65      0.65        26\n",
      "\n"
     ]
    },
    {
     "name": "stderr",
     "output_type": "stream",
     "text": [
      "Training Epochs:  56%|█████▋    | 1130/2000 [04:41<06:34,  2.20it/s]"
     ]
    },
    {
     "name": "stdout",
     "output_type": "stream",
     "text": [
      "Epoch 1130/2000, Loss: 0.0000\n",
      "Test Accuracy at Epoch 1130: 65.38%\n",
      "Test F1-score at Epoch 1130: 0.6400\n",
      "Classification Report at Epoch 1130:\n",
      "                  precision    recall  f1-score   support\n",
      "\n",
      "    infringement       0.64      0.69      0.67        13\n",
      "non_infringement       0.67      0.62      0.64        13\n",
      "\n",
      "        accuracy                           0.65        26\n",
      "       macro avg       0.65      0.65      0.65        26\n",
      "    weighted avg       0.65      0.65      0.65        26\n",
      "\n"
     ]
    },
    {
     "name": "stderr",
     "output_type": "stream",
     "text": [
      "Training Epochs:  57%|█████▋    | 1140/2000 [04:45<06:16,  2.29it/s]"
     ]
    },
    {
     "name": "stdout",
     "output_type": "stream",
     "text": [
      "Epoch 1140/2000, Loss: 0.0000\n",
      "Test Accuracy at Epoch 1140: 65.38%\n",
      "Test F1-score at Epoch 1140: 0.6400\n",
      "Classification Report at Epoch 1140:\n",
      "                  precision    recall  f1-score   support\n",
      "\n",
      "    infringement       0.64      0.69      0.67        13\n",
      "non_infringement       0.67      0.62      0.64        13\n",
      "\n",
      "        accuracy                           0.65        26\n",
      "       macro avg       0.65      0.65      0.65        26\n",
      "    weighted avg       0.65      0.65      0.65        26\n",
      "\n"
     ]
    },
    {
     "name": "stderr",
     "output_type": "stream",
     "text": [
      "Training Epochs:  57%|█████▊    | 1150/2000 [04:49<05:37,  2.52it/s]"
     ]
    },
    {
     "name": "stdout",
     "output_type": "stream",
     "text": [
      "Epoch 1150/2000, Loss: 0.0000\n",
      "Test Accuracy at Epoch 1150: 65.38%\n",
      "Test F1-score at Epoch 1150: 0.6400\n",
      "Classification Report at Epoch 1150:\n",
      "                  precision    recall  f1-score   support\n",
      "\n",
      "    infringement       0.64      0.69      0.67        13\n",
      "non_infringement       0.67      0.62      0.64        13\n",
      "\n",
      "        accuracy                           0.65        26\n",
      "       macro avg       0.65      0.65      0.65        26\n",
      "    weighted avg       0.65      0.65      0.65        26\n",
      "\n"
     ]
    },
    {
     "name": "stderr",
     "output_type": "stream",
     "text": [
      "Training Epochs:  58%|█████▊    | 1160/2000 [04:53<05:51,  2.39it/s]"
     ]
    },
    {
     "name": "stdout",
     "output_type": "stream",
     "text": [
      "Epoch 1160/2000, Loss: 0.0000\n",
      "Test Accuracy at Epoch 1160: 65.38%\n",
      "Test F1-score at Epoch 1160: 0.6400\n",
      "Classification Report at Epoch 1160:\n",
      "                  precision    recall  f1-score   support\n",
      "\n",
      "    infringement       0.64      0.69      0.67        13\n",
      "non_infringement       0.67      0.62      0.64        13\n",
      "\n",
      "        accuracy                           0.65        26\n",
      "       macro avg       0.65      0.65      0.65        26\n",
      "    weighted avg       0.65      0.65      0.65        26\n",
      "\n"
     ]
    },
    {
     "name": "stderr",
     "output_type": "stream",
     "text": [
      "Training Epochs:  58%|█████▊    | 1170/2000 [04:57<05:27,  2.53it/s]"
     ]
    },
    {
     "name": "stdout",
     "output_type": "stream",
     "text": [
      "Epoch 1170/2000, Loss: 0.0000\n",
      "Test Accuracy at Epoch 1170: 65.38%\n",
      "Test F1-score at Epoch 1170: 0.6400\n",
      "Classification Report at Epoch 1170:\n",
      "                  precision    recall  f1-score   support\n",
      "\n",
      "    infringement       0.64      0.69      0.67        13\n",
      "non_infringement       0.67      0.62      0.64        13\n",
      "\n",
      "        accuracy                           0.65        26\n",
      "       macro avg       0.65      0.65      0.65        26\n",
      "    weighted avg       0.65      0.65      0.65        26\n",
      "\n"
     ]
    },
    {
     "name": "stderr",
     "output_type": "stream",
     "text": [
      "Training Epochs:  59%|█████▉    | 1180/2000 [05:02<06:12,  2.20it/s]"
     ]
    },
    {
     "name": "stdout",
     "output_type": "stream",
     "text": [
      "Epoch 1180/2000, Loss: 0.0000\n",
      "Test Accuracy at Epoch 1180: 65.38%\n",
      "Test F1-score at Epoch 1180: 0.6400\n",
      "Classification Report at Epoch 1180:\n",
      "                  precision    recall  f1-score   support\n",
      "\n",
      "    infringement       0.64      0.69      0.67        13\n",
      "non_infringement       0.67      0.62      0.64        13\n",
      "\n",
      "        accuracy                           0.65        26\n",
      "       macro avg       0.65      0.65      0.65        26\n",
      "    weighted avg       0.65      0.65      0.65        26\n",
      "\n"
     ]
    },
    {
     "name": "stderr",
     "output_type": "stream",
     "text": [
      "Training Epochs:  60%|█████▉    | 1190/2000 [05:06<06:14,  2.16it/s]"
     ]
    },
    {
     "name": "stdout",
     "output_type": "stream",
     "text": [
      "Epoch 1190/2000, Loss: 0.0000\n",
      "Test Accuracy at Epoch 1190: 65.38%\n",
      "Test F1-score at Epoch 1190: 0.6400\n",
      "Classification Report at Epoch 1190:\n",
      "                  precision    recall  f1-score   support\n",
      "\n",
      "    infringement       0.64      0.69      0.67        13\n",
      "non_infringement       0.67      0.62      0.64        13\n",
      "\n",
      "        accuracy                           0.65        26\n",
      "       macro avg       0.65      0.65      0.65        26\n",
      "    weighted avg       0.65      0.65      0.65        26\n",
      "\n"
     ]
    },
    {
     "name": "stderr",
     "output_type": "stream",
     "text": [
      "Training Epochs:  60%|██████    | 1200/2000 [05:10<06:12,  2.15it/s]"
     ]
    },
    {
     "name": "stdout",
     "output_type": "stream",
     "text": [
      "Epoch 1200/2000, Loss: 0.0000\n",
      "Test Accuracy at Epoch 1200: 65.38%\n",
      "Test F1-score at Epoch 1200: 0.6400\n",
      "Classification Report at Epoch 1200:\n",
      "                  precision    recall  f1-score   support\n",
      "\n",
      "    infringement       0.64      0.69      0.67        13\n",
      "non_infringement       0.67      0.62      0.64        13\n",
      "\n",
      "        accuracy                           0.65        26\n",
      "       macro avg       0.65      0.65      0.65        26\n",
      "    weighted avg       0.65      0.65      0.65        26\n",
      "\n"
     ]
    },
    {
     "name": "stderr",
     "output_type": "stream",
     "text": [
      "Training Epochs:  60%|██████    | 1210/2000 [05:15<05:29,  2.39it/s]"
     ]
    },
    {
     "name": "stdout",
     "output_type": "stream",
     "text": [
      "Epoch 1210/2000, Loss: 0.0000\n",
      "Test Accuracy at Epoch 1210: 65.38%\n",
      "Test F1-score at Epoch 1210: 0.6400\n",
      "Classification Report at Epoch 1210:\n",
      "                  precision    recall  f1-score   support\n",
      "\n",
      "    infringement       0.64      0.69      0.67        13\n",
      "non_infringement       0.67      0.62      0.64        13\n",
      "\n",
      "        accuracy                           0.65        26\n",
      "       macro avg       0.65      0.65      0.65        26\n",
      "    weighted avg       0.65      0.65      0.65        26\n",
      "\n"
     ]
    },
    {
     "name": "stderr",
     "output_type": "stream",
     "text": [
      "Training Epochs:  61%|██████    | 1220/2000 [05:19<05:24,  2.41it/s]"
     ]
    },
    {
     "name": "stdout",
     "output_type": "stream",
     "text": [
      "Epoch 1220/2000, Loss: 0.0000\n",
      "Test Accuracy at Epoch 1220: 65.38%\n",
      "Test F1-score at Epoch 1220: 0.6400\n",
      "Classification Report at Epoch 1220:\n",
      "                  precision    recall  f1-score   support\n",
      "\n",
      "    infringement       0.64      0.69      0.67        13\n",
      "non_infringement       0.67      0.62      0.64        13\n",
      "\n",
      "        accuracy                           0.65        26\n",
      "       macro avg       0.65      0.65      0.65        26\n",
      "    weighted avg       0.65      0.65      0.65        26\n",
      "\n"
     ]
    },
    {
     "name": "stderr",
     "output_type": "stream",
     "text": [
      "Training Epochs:  62%|██████▏   | 1230/2000 [05:23<05:13,  2.45it/s]"
     ]
    },
    {
     "name": "stdout",
     "output_type": "stream",
     "text": [
      "Epoch 1230/2000, Loss: 0.0000\n",
      "Test Accuracy at Epoch 1230: 65.38%\n",
      "Test F1-score at Epoch 1230: 0.6400\n",
      "Classification Report at Epoch 1230:\n",
      "                  precision    recall  f1-score   support\n",
      "\n",
      "    infringement       0.64      0.69      0.67        13\n",
      "non_infringement       0.67      0.62      0.64        13\n",
      "\n",
      "        accuracy                           0.65        26\n",
      "       macro avg       0.65      0.65      0.65        26\n",
      "    weighted avg       0.65      0.65      0.65        26\n",
      "\n"
     ]
    },
    {
     "name": "stderr",
     "output_type": "stream",
     "text": [
      "Training Epochs:  62%|██████▏   | 1240/2000 [05:27<05:13,  2.42it/s]"
     ]
    },
    {
     "name": "stdout",
     "output_type": "stream",
     "text": [
      "Epoch 1240/2000, Loss: 0.0000\n",
      "Test Accuracy at Epoch 1240: 65.38%\n",
      "Test F1-score at Epoch 1240: 0.6400\n",
      "Classification Report at Epoch 1240:\n",
      "                  precision    recall  f1-score   support\n",
      "\n",
      "    infringement       0.64      0.69      0.67        13\n",
      "non_infringement       0.67      0.62      0.64        13\n",
      "\n",
      "        accuracy                           0.65        26\n",
      "       macro avg       0.65      0.65      0.65        26\n",
      "    weighted avg       0.65      0.65      0.65        26\n",
      "\n"
     ]
    },
    {
     "name": "stderr",
     "output_type": "stream",
     "text": [
      "Training Epochs:  62%|██████▎   | 1250/2000 [05:31<04:52,  2.56it/s]"
     ]
    },
    {
     "name": "stdout",
     "output_type": "stream",
     "text": [
      "Epoch 1250/2000, Loss: 0.0000\n",
      "Test Accuracy at Epoch 1250: 65.38%\n",
      "Test F1-score at Epoch 1250: 0.6400\n",
      "Classification Report at Epoch 1250:\n",
      "                  precision    recall  f1-score   support\n",
      "\n",
      "    infringement       0.64      0.69      0.67        13\n",
      "non_infringement       0.67      0.62      0.64        13\n",
      "\n",
      "        accuracy                           0.65        26\n",
      "       macro avg       0.65      0.65      0.65        26\n",
      "    weighted avg       0.65      0.65      0.65        26\n",
      "\n"
     ]
    },
    {
     "name": "stderr",
     "output_type": "stream",
     "text": [
      "Training Epochs:  63%|██████▎   | 1260/2000 [05:35<04:39,  2.65it/s]"
     ]
    },
    {
     "name": "stdout",
     "output_type": "stream",
     "text": [
      "Epoch 1260/2000, Loss: 0.0000\n",
      "Test Accuracy at Epoch 1260: 65.38%\n",
      "Test F1-score at Epoch 1260: 0.6400\n",
      "Classification Report at Epoch 1260:\n",
      "                  precision    recall  f1-score   support\n",
      "\n",
      "    infringement       0.64      0.69      0.67        13\n",
      "non_infringement       0.67      0.62      0.64        13\n",
      "\n",
      "        accuracy                           0.65        26\n",
      "       macro avg       0.65      0.65      0.65        26\n",
      "    weighted avg       0.65      0.65      0.65        26\n",
      "\n"
     ]
    },
    {
     "name": "stderr",
     "output_type": "stream",
     "text": [
      "Training Epochs:  64%|██████▎   | 1270/2000 [05:39<04:52,  2.50it/s]"
     ]
    },
    {
     "name": "stdout",
     "output_type": "stream",
     "text": [
      "Epoch 1270/2000, Loss: 0.0000\n",
      "Test Accuracy at Epoch 1270: 69.23%\n",
      "Test F1-score at Epoch 1270: 0.6667\n",
      "Classification Report at Epoch 1270:\n",
      "                  precision    recall  f1-score   support\n",
      "\n",
      "    infringement       0.67      0.77      0.71        13\n",
      "non_infringement       0.73      0.62      0.67        13\n",
      "\n",
      "        accuracy                           0.69        26\n",
      "       macro avg       0.70      0.69      0.69        26\n",
      "    weighted avg       0.70      0.69      0.69        26\n",
      "\n"
     ]
    },
    {
     "name": "stderr",
     "output_type": "stream",
     "text": [
      "Training Epochs:  64%|██████▍   | 1280/2000 [05:43<05:42,  2.10it/s]"
     ]
    },
    {
     "name": "stdout",
     "output_type": "stream",
     "text": [
      "Epoch 1280/2000, Loss: 0.0000\n",
      "Test Accuracy at Epoch 1280: 69.23%\n",
      "Test F1-score at Epoch 1280: 0.6667\n",
      "Classification Report at Epoch 1280:\n",
      "                  precision    recall  f1-score   support\n",
      "\n",
      "    infringement       0.67      0.77      0.71        13\n",
      "non_infringement       0.73      0.62      0.67        13\n",
      "\n",
      "        accuracy                           0.69        26\n",
      "       macro avg       0.70      0.69      0.69        26\n",
      "    weighted avg       0.70      0.69      0.69        26\n",
      "\n"
     ]
    },
    {
     "name": "stderr",
     "output_type": "stream",
     "text": [
      "Training Epochs:  64%|██████▍   | 1290/2000 [05:48<05:21,  2.21it/s]"
     ]
    },
    {
     "name": "stdout",
     "output_type": "stream",
     "text": [
      "Epoch 1290/2000, Loss: 0.0000\n",
      "Test Accuracy at Epoch 1290: 69.23%\n",
      "Test F1-score at Epoch 1290: 0.6667\n",
      "Classification Report at Epoch 1290:\n",
      "                  precision    recall  f1-score   support\n",
      "\n",
      "    infringement       0.67      0.77      0.71        13\n",
      "non_infringement       0.73      0.62      0.67        13\n",
      "\n",
      "        accuracy                           0.69        26\n",
      "       macro avg       0.70      0.69      0.69        26\n",
      "    weighted avg       0.70      0.69      0.69        26\n",
      "\n"
     ]
    },
    {
     "name": "stderr",
     "output_type": "stream",
     "text": [
      "Training Epochs:  65%|██████▌   | 1300/2000 [05:52<05:28,  2.13it/s]"
     ]
    },
    {
     "name": "stdout",
     "output_type": "stream",
     "text": [
      "Epoch 1300/2000, Loss: 0.0000\n",
      "Test Accuracy at Epoch 1300: 69.23%\n",
      "Test F1-score at Epoch 1300: 0.6667\n",
      "Classification Report at Epoch 1300:\n",
      "                  precision    recall  f1-score   support\n",
      "\n",
      "    infringement       0.67      0.77      0.71        13\n",
      "non_infringement       0.73      0.62      0.67        13\n",
      "\n",
      "        accuracy                           0.69        26\n",
      "       macro avg       0.70      0.69      0.69        26\n",
      "    weighted avg       0.70      0.69      0.69        26\n",
      "\n"
     ]
    },
    {
     "name": "stderr",
     "output_type": "stream",
     "text": [
      "Training Epochs:  66%|██████▌   | 1310/2000 [05:56<04:50,  2.38it/s]"
     ]
    },
    {
     "name": "stdout",
     "output_type": "stream",
     "text": [
      "Epoch 1310/2000, Loss: 0.0000\n",
      "Test Accuracy at Epoch 1310: 69.23%\n",
      "Test F1-score at Epoch 1310: 0.6667\n",
      "Classification Report at Epoch 1310:\n",
      "                  precision    recall  f1-score   support\n",
      "\n",
      "    infringement       0.67      0.77      0.71        13\n",
      "non_infringement       0.73      0.62      0.67        13\n",
      "\n",
      "        accuracy                           0.69        26\n",
      "       macro avg       0.70      0.69      0.69        26\n",
      "    weighted avg       0.70      0.69      0.69        26\n",
      "\n"
     ]
    },
    {
     "name": "stderr",
     "output_type": "stream",
     "text": [
      "Training Epochs:  66%|██████▌   | 1320/2000 [06:00<05:02,  2.25it/s]"
     ]
    },
    {
     "name": "stdout",
     "output_type": "stream",
     "text": [
      "Epoch 1320/2000, Loss: 0.0000\n",
      "Test Accuracy at Epoch 1320: 69.23%\n",
      "Test F1-score at Epoch 1320: 0.6667\n",
      "Classification Report at Epoch 1320:\n",
      "                  precision    recall  f1-score   support\n",
      "\n",
      "    infringement       0.67      0.77      0.71        13\n",
      "non_infringement       0.73      0.62      0.67        13\n",
      "\n",
      "        accuracy                           0.69        26\n",
      "       macro avg       0.70      0.69      0.69        26\n",
      "    weighted avg       0.70      0.69      0.69        26\n",
      "\n"
     ]
    },
    {
     "name": "stderr",
     "output_type": "stream",
     "text": [
      "Training Epochs:  66%|██████▋   | 1330/2000 [06:05<04:48,  2.32it/s]"
     ]
    },
    {
     "name": "stdout",
     "output_type": "stream",
     "text": [
      "Epoch 1330/2000, Loss: 0.0000\n",
      "Test Accuracy at Epoch 1330: 69.23%\n",
      "Test F1-score at Epoch 1330: 0.6667\n",
      "Classification Report at Epoch 1330:\n",
      "                  precision    recall  f1-score   support\n",
      "\n",
      "    infringement       0.67      0.77      0.71        13\n",
      "non_infringement       0.73      0.62      0.67        13\n",
      "\n",
      "        accuracy                           0.69        26\n",
      "       macro avg       0.70      0.69      0.69        26\n",
      "    weighted avg       0.70      0.69      0.69        26\n",
      "\n"
     ]
    },
    {
     "name": "stderr",
     "output_type": "stream",
     "text": [
      "Training Epochs:  67%|██████▋   | 1340/2000 [06:09<04:28,  2.46it/s]"
     ]
    },
    {
     "name": "stdout",
     "output_type": "stream",
     "text": [
      "Epoch 1340/2000, Loss: 0.0000\n",
      "Test Accuracy at Epoch 1340: 69.23%\n",
      "Test F1-score at Epoch 1340: 0.6667\n",
      "Classification Report at Epoch 1340:\n",
      "                  precision    recall  f1-score   support\n",
      "\n",
      "    infringement       0.67      0.77      0.71        13\n",
      "non_infringement       0.73      0.62      0.67        13\n",
      "\n",
      "        accuracy                           0.69        26\n",
      "       macro avg       0.70      0.69      0.69        26\n",
      "    weighted avg       0.70      0.69      0.69        26\n",
      "\n"
     ]
    },
    {
     "name": "stderr",
     "output_type": "stream",
     "text": [
      "Training Epochs:  68%|██████▊   | 1350/2000 [06:13<04:15,  2.54it/s]"
     ]
    },
    {
     "name": "stdout",
     "output_type": "stream",
     "text": [
      "Epoch 1350/2000, Loss: 0.0000\n",
      "Test Accuracy at Epoch 1350: 69.23%\n",
      "Test F1-score at Epoch 1350: 0.6667\n",
      "Classification Report at Epoch 1350:\n",
      "                  precision    recall  f1-score   support\n",
      "\n",
      "    infringement       0.67      0.77      0.71        13\n",
      "non_infringement       0.73      0.62      0.67        13\n",
      "\n",
      "        accuracy                           0.69        26\n",
      "       macro avg       0.70      0.69      0.69        26\n",
      "    weighted avg       0.70      0.69      0.69        26\n",
      "\n"
     ]
    },
    {
     "name": "stderr",
     "output_type": "stream",
     "text": [
      "Training Epochs:  68%|██████▊   | 1360/2000 [06:17<04:39,  2.29it/s]"
     ]
    },
    {
     "name": "stdout",
     "output_type": "stream",
     "text": [
      "Epoch 1360/2000, Loss: 0.0000\n",
      "Test Accuracy at Epoch 1360: 69.23%\n",
      "Test F1-score at Epoch 1360: 0.6667\n",
      "Classification Report at Epoch 1360:\n",
      "                  precision    recall  f1-score   support\n",
      "\n",
      "    infringement       0.67      0.77      0.71        13\n",
      "non_infringement       0.73      0.62      0.67        13\n",
      "\n",
      "        accuracy                           0.69        26\n",
      "       macro avg       0.70      0.69      0.69        26\n",
      "    weighted avg       0.70      0.69      0.69        26\n",
      "\n"
     ]
    },
    {
     "name": "stderr",
     "output_type": "stream",
     "text": [
      "Training Epochs:  68%|██████▊   | 1370/2000 [06:21<04:46,  2.20it/s]"
     ]
    },
    {
     "name": "stdout",
     "output_type": "stream",
     "text": [
      "Epoch 1370/2000, Loss: 0.0000\n",
      "Test Accuracy at Epoch 1370: 69.23%\n",
      "Test F1-score at Epoch 1370: 0.6667\n",
      "Classification Report at Epoch 1370:\n",
      "                  precision    recall  f1-score   support\n",
      "\n",
      "    infringement       0.67      0.77      0.71        13\n",
      "non_infringement       0.73      0.62      0.67        13\n",
      "\n",
      "        accuracy                           0.69        26\n",
      "       macro avg       0.70      0.69      0.69        26\n",
      "    weighted avg       0.70      0.69      0.69        26\n",
      "\n"
     ]
    },
    {
     "name": "stderr",
     "output_type": "stream",
     "text": [
      "Training Epochs:  69%|██████▉   | 1380/2000 [06:26<04:39,  2.22it/s]"
     ]
    },
    {
     "name": "stdout",
     "output_type": "stream",
     "text": [
      "Epoch 1380/2000, Loss: 0.0000\n",
      "Test Accuracy at Epoch 1380: 69.23%\n",
      "Test F1-score at Epoch 1380: 0.6667\n",
      "Classification Report at Epoch 1380:\n",
      "                  precision    recall  f1-score   support\n",
      "\n",
      "    infringement       0.67      0.77      0.71        13\n",
      "non_infringement       0.73      0.62      0.67        13\n",
      "\n",
      "        accuracy                           0.69        26\n",
      "       macro avg       0.70      0.69      0.69        26\n",
      "    weighted avg       0.70      0.69      0.69        26\n",
      "\n"
     ]
    },
    {
     "name": "stderr",
     "output_type": "stream",
     "text": [
      "Training Epochs:  70%|██████▉   | 1390/2000 [06:30<04:42,  2.16it/s]"
     ]
    },
    {
     "name": "stdout",
     "output_type": "stream",
     "text": [
      "Epoch 1390/2000, Loss: 0.0000\n",
      "Test Accuracy at Epoch 1390: 69.23%\n",
      "Test F1-score at Epoch 1390: 0.6667\n",
      "Classification Report at Epoch 1390:\n",
      "                  precision    recall  f1-score   support\n",
      "\n",
      "    infringement       0.67      0.77      0.71        13\n",
      "non_infringement       0.73      0.62      0.67        13\n",
      "\n",
      "        accuracy                           0.69        26\n",
      "       macro avg       0.70      0.69      0.69        26\n",
      "    weighted avg       0.70      0.69      0.69        26\n",
      "\n"
     ]
    },
    {
     "name": "stderr",
     "output_type": "stream",
     "text": [
      "Training Epochs:  70%|███████   | 1400/2000 [06:35<04:29,  2.22it/s]"
     ]
    },
    {
     "name": "stdout",
     "output_type": "stream",
     "text": [
      "Epoch 1400/2000, Loss: 0.0000\n",
      "Test Accuracy at Epoch 1400: 69.23%\n",
      "Test F1-score at Epoch 1400: 0.6667\n",
      "Classification Report at Epoch 1400:\n",
      "                  precision    recall  f1-score   support\n",
      "\n",
      "    infringement       0.67      0.77      0.71        13\n",
      "non_infringement       0.73      0.62      0.67        13\n",
      "\n",
      "        accuracy                           0.69        26\n",
      "       macro avg       0.70      0.69      0.69        26\n",
      "    weighted avg       0.70      0.69      0.69        26\n",
      "\n"
     ]
    },
    {
     "name": "stderr",
     "output_type": "stream",
     "text": [
      "Training Epochs:  70%|███████   | 1410/2000 [06:39<04:05,  2.41it/s]"
     ]
    },
    {
     "name": "stdout",
     "output_type": "stream",
     "text": [
      "Epoch 1410/2000, Loss: 0.0000\n",
      "Test Accuracy at Epoch 1410: 69.23%\n",
      "Test F1-score at Epoch 1410: 0.6667\n",
      "Classification Report at Epoch 1410:\n",
      "                  precision    recall  f1-score   support\n",
      "\n",
      "    infringement       0.67      0.77      0.71        13\n",
      "non_infringement       0.73      0.62      0.67        13\n",
      "\n",
      "        accuracy                           0.69        26\n",
      "       macro avg       0.70      0.69      0.69        26\n",
      "    weighted avg       0.70      0.69      0.69        26\n",
      "\n"
     ]
    },
    {
     "name": "stderr",
     "output_type": "stream",
     "text": [
      "Training Epochs:  71%|███████   | 1420/2000 [06:43<04:19,  2.23it/s]"
     ]
    },
    {
     "name": "stdout",
     "output_type": "stream",
     "text": [
      "Epoch 1420/2000, Loss: 0.0000\n",
      "Test Accuracy at Epoch 1420: 69.23%\n",
      "Test F1-score at Epoch 1420: 0.6667\n",
      "Classification Report at Epoch 1420:\n",
      "                  precision    recall  f1-score   support\n",
      "\n",
      "    infringement       0.67      0.77      0.71        13\n",
      "non_infringement       0.73      0.62      0.67        13\n",
      "\n",
      "        accuracy                           0.69        26\n",
      "       macro avg       0.70      0.69      0.69        26\n",
      "    weighted avg       0.70      0.69      0.69        26\n",
      "\n"
     ]
    },
    {
     "name": "stderr",
     "output_type": "stream",
     "text": [
      "Training Epochs:  72%|███████▏  | 1430/2000 [06:48<04:32,  2.09it/s]"
     ]
    },
    {
     "name": "stdout",
     "output_type": "stream",
     "text": [
      "Epoch 1430/2000, Loss: 0.0000\n",
      "Test Accuracy at Epoch 1430: 69.23%\n",
      "Test F1-score at Epoch 1430: 0.6667\n",
      "Classification Report at Epoch 1430:\n",
      "                  precision    recall  f1-score   support\n",
      "\n",
      "    infringement       0.67      0.77      0.71        13\n",
      "non_infringement       0.73      0.62      0.67        13\n",
      "\n",
      "        accuracy                           0.69        26\n",
      "       macro avg       0.70      0.69      0.69        26\n",
      "    weighted avg       0.70      0.69      0.69        26\n",
      "\n"
     ]
    },
    {
     "name": "stderr",
     "output_type": "stream",
     "text": [
      "Training Epochs:  72%|███████▏  | 1440/2000 [06:52<04:24,  2.12it/s]"
     ]
    },
    {
     "name": "stdout",
     "output_type": "stream",
     "text": [
      "Epoch 1440/2000, Loss: 0.0000\n",
      "Test Accuracy at Epoch 1440: 69.23%\n",
      "Test F1-score at Epoch 1440: 0.6667\n",
      "Classification Report at Epoch 1440:\n",
      "                  precision    recall  f1-score   support\n",
      "\n",
      "    infringement       0.67      0.77      0.71        13\n",
      "non_infringement       0.73      0.62      0.67        13\n",
      "\n",
      "        accuracy                           0.69        26\n",
      "       macro avg       0.70      0.69      0.69        26\n",
      "    weighted avg       0.70      0.69      0.69        26\n",
      "\n"
     ]
    },
    {
     "name": "stderr",
     "output_type": "stream",
     "text": [
      "Training Epochs:  72%|███████▎  | 1450/2000 [06:57<04:14,  2.16it/s]"
     ]
    },
    {
     "name": "stdout",
     "output_type": "stream",
     "text": [
      "Epoch 1450/2000, Loss: 0.0000\n",
      "Test Accuracy at Epoch 1450: 69.23%\n",
      "Test F1-score at Epoch 1450: 0.6667\n",
      "Classification Report at Epoch 1450:\n",
      "                  precision    recall  f1-score   support\n",
      "\n",
      "    infringement       0.67      0.77      0.71        13\n",
      "non_infringement       0.73      0.62      0.67        13\n",
      "\n",
      "        accuracy                           0.69        26\n",
      "       macro avg       0.70      0.69      0.69        26\n",
      "    weighted avg       0.70      0.69      0.69        26\n",
      "\n"
     ]
    },
    {
     "name": "stderr",
     "output_type": "stream",
     "text": [
      "Training Epochs:  73%|███████▎  | 1460/2000 [07:01<03:59,  2.26it/s]"
     ]
    },
    {
     "name": "stdout",
     "output_type": "stream",
     "text": [
      "Epoch 1460/2000, Loss: 0.0000\n",
      "Test Accuracy at Epoch 1460: 69.23%\n",
      "Test F1-score at Epoch 1460: 0.6667\n",
      "Classification Report at Epoch 1460:\n",
      "                  precision    recall  f1-score   support\n",
      "\n",
      "    infringement       0.67      0.77      0.71        13\n",
      "non_infringement       0.73      0.62      0.67        13\n",
      "\n",
      "        accuracy                           0.69        26\n",
      "       macro avg       0.70      0.69      0.69        26\n",
      "    weighted avg       0.70      0.69      0.69        26\n",
      "\n"
     ]
    },
    {
     "name": "stderr",
     "output_type": "stream",
     "text": [
      "Training Epochs:  74%|███████▎  | 1470/2000 [07:05<03:57,  2.23it/s]"
     ]
    },
    {
     "name": "stdout",
     "output_type": "stream",
     "text": [
      "Epoch 1470/2000, Loss: 0.0000\n",
      "Test Accuracy at Epoch 1470: 69.23%\n",
      "Test F1-score at Epoch 1470: 0.6667\n",
      "Classification Report at Epoch 1470:\n",
      "                  precision    recall  f1-score   support\n",
      "\n",
      "    infringement       0.67      0.77      0.71        13\n",
      "non_infringement       0.73      0.62      0.67        13\n",
      "\n",
      "        accuracy                           0.69        26\n",
      "       macro avg       0.70      0.69      0.69        26\n",
      "    weighted avg       0.70      0.69      0.69        26\n",
      "\n"
     ]
    },
    {
     "name": "stderr",
     "output_type": "stream",
     "text": [
      "Training Epochs:  74%|███████▍  | 1480/2000 [07:10<04:07,  2.10it/s]"
     ]
    },
    {
     "name": "stdout",
     "output_type": "stream",
     "text": [
      "Epoch 1480/2000, Loss: 0.0000\n",
      "Test Accuracy at Epoch 1480: 69.23%\n",
      "Test F1-score at Epoch 1480: 0.6667\n",
      "Classification Report at Epoch 1480:\n",
      "                  precision    recall  f1-score   support\n",
      "\n",
      "    infringement       0.67      0.77      0.71        13\n",
      "non_infringement       0.73      0.62      0.67        13\n",
      "\n",
      "        accuracy                           0.69        26\n",
      "       macro avg       0.70      0.69      0.69        26\n",
      "    weighted avg       0.70      0.69      0.69        26\n",
      "\n"
     ]
    },
    {
     "name": "stderr",
     "output_type": "stream",
     "text": [
      "Training Epochs:  74%|███████▍  | 1490/2000 [07:15<03:59,  2.13it/s]"
     ]
    },
    {
     "name": "stdout",
     "output_type": "stream",
     "text": [
      "Epoch 1490/2000, Loss: 0.0000\n",
      "Test Accuracy at Epoch 1490: 69.23%\n",
      "Test F1-score at Epoch 1490: 0.6667\n",
      "Classification Report at Epoch 1490:\n",
      "                  precision    recall  f1-score   support\n",
      "\n",
      "    infringement       0.67      0.77      0.71        13\n",
      "non_infringement       0.73      0.62      0.67        13\n",
      "\n",
      "        accuracy                           0.69        26\n",
      "       macro avg       0.70      0.69      0.69        26\n",
      "    weighted avg       0.70      0.69      0.69        26\n",
      "\n"
     ]
    },
    {
     "name": "stderr",
     "output_type": "stream",
     "text": [
      "Training Epochs:  75%|███████▌  | 1500/2000 [07:19<04:04,  2.05it/s]"
     ]
    },
    {
     "name": "stdout",
     "output_type": "stream",
     "text": [
      "Epoch 1500/2000, Loss: 0.0000\n",
      "Test Accuracy at Epoch 1500: 69.23%\n",
      "Test F1-score at Epoch 1500: 0.6667\n",
      "Classification Report at Epoch 1500:\n",
      "                  precision    recall  f1-score   support\n",
      "\n",
      "    infringement       0.67      0.77      0.71        13\n",
      "non_infringement       0.73      0.62      0.67        13\n",
      "\n",
      "        accuracy                           0.69        26\n",
      "       macro avg       0.70      0.69      0.69        26\n",
      "    weighted avg       0.70      0.69      0.69        26\n",
      "\n"
     ]
    },
    {
     "name": "stderr",
     "output_type": "stream",
     "text": [
      "Training Epochs:  76%|███████▌  | 1510/2000 [07:24<03:40,  2.22it/s]"
     ]
    },
    {
     "name": "stdout",
     "output_type": "stream",
     "text": [
      "Epoch 1510/2000, Loss: 0.0000\n",
      "Test Accuracy at Epoch 1510: 69.23%\n",
      "Test F1-score at Epoch 1510: 0.6667\n",
      "Classification Report at Epoch 1510:\n",
      "                  precision    recall  f1-score   support\n",
      "\n",
      "    infringement       0.67      0.77      0.71        13\n",
      "non_infringement       0.73      0.62      0.67        13\n",
      "\n",
      "        accuracy                           0.69        26\n",
      "       macro avg       0.70      0.69      0.69        26\n",
      "    weighted avg       0.70      0.69      0.69        26\n",
      "\n"
     ]
    },
    {
     "name": "stderr",
     "output_type": "stream",
     "text": [
      "Training Epochs:  76%|███████▌  | 1520/2000 [07:28<04:05,  1.95it/s]"
     ]
    },
    {
     "name": "stdout",
     "output_type": "stream",
     "text": [
      "Epoch 1520/2000, Loss: 0.0000\n",
      "Test Accuracy at Epoch 1520: 69.23%\n",
      "Test F1-score at Epoch 1520: 0.6667\n",
      "Classification Report at Epoch 1520:\n",
      "                  precision    recall  f1-score   support\n",
      "\n",
      "    infringement       0.67      0.77      0.71        13\n",
      "non_infringement       0.73      0.62      0.67        13\n",
      "\n",
      "        accuracy                           0.69        26\n",
      "       macro avg       0.70      0.69      0.69        26\n",
      "    weighted avg       0.70      0.69      0.69        26\n",
      "\n"
     ]
    },
    {
     "name": "stderr",
     "output_type": "stream",
     "text": [
      "Training Epochs:  76%|███████▋  | 1530/2000 [07:32<03:35,  2.18it/s]"
     ]
    },
    {
     "name": "stdout",
     "output_type": "stream",
     "text": [
      "Epoch 1530/2000, Loss: 0.0000\n",
      "Test Accuracy at Epoch 1530: 69.23%\n",
      "Test F1-score at Epoch 1530: 0.6667\n",
      "Classification Report at Epoch 1530:\n",
      "                  precision    recall  f1-score   support\n",
      "\n",
      "    infringement       0.67      0.77      0.71        13\n",
      "non_infringement       0.73      0.62      0.67        13\n",
      "\n",
      "        accuracy                           0.69        26\n",
      "       macro avg       0.70      0.69      0.69        26\n",
      "    weighted avg       0.70      0.69      0.69        26\n",
      "\n"
     ]
    },
    {
     "name": "stderr",
     "output_type": "stream",
     "text": [
      "Training Epochs:  77%|███████▋  | 1540/2000 [07:37<03:24,  2.25it/s]"
     ]
    },
    {
     "name": "stdout",
     "output_type": "stream",
     "text": [
      "Epoch 1540/2000, Loss: 0.0000\n",
      "Test Accuracy at Epoch 1540: 69.23%\n",
      "Test F1-score at Epoch 1540: 0.6667\n",
      "Classification Report at Epoch 1540:\n",
      "                  precision    recall  f1-score   support\n",
      "\n",
      "    infringement       0.67      0.77      0.71        13\n",
      "non_infringement       0.73      0.62      0.67        13\n",
      "\n",
      "        accuracy                           0.69        26\n",
      "       macro avg       0.70      0.69      0.69        26\n",
      "    weighted avg       0.70      0.69      0.69        26\n",
      "\n"
     ]
    },
    {
     "name": "stderr",
     "output_type": "stream",
     "text": [
      "Training Epochs:  78%|███████▊  | 1550/2000 [07:41<03:11,  2.35it/s]"
     ]
    },
    {
     "name": "stdout",
     "output_type": "stream",
     "text": [
      "Epoch 1550/2000, Loss: 0.0000\n",
      "Test Accuracy at Epoch 1550: 69.23%\n",
      "Test F1-score at Epoch 1550: 0.6667\n",
      "Classification Report at Epoch 1550:\n",
      "                  precision    recall  f1-score   support\n",
      "\n",
      "    infringement       0.67      0.77      0.71        13\n",
      "non_infringement       0.73      0.62      0.67        13\n",
      "\n",
      "        accuracy                           0.69        26\n",
      "       macro avg       0.70      0.69      0.69        26\n",
      "    weighted avg       0.70      0.69      0.69        26\n",
      "\n"
     ]
    },
    {
     "name": "stderr",
     "output_type": "stream",
     "text": [
      "Training Epochs:  78%|███████▊  | 1560/2000 [07:45<03:21,  2.19it/s]"
     ]
    },
    {
     "name": "stdout",
     "output_type": "stream",
     "text": [
      "Epoch 1560/2000, Loss: 0.0000\n",
      "Test Accuracy at Epoch 1560: 69.23%\n",
      "Test F1-score at Epoch 1560: 0.6667\n",
      "Classification Report at Epoch 1560:\n",
      "                  precision    recall  f1-score   support\n",
      "\n",
      "    infringement       0.67      0.77      0.71        13\n",
      "non_infringement       0.73      0.62      0.67        13\n",
      "\n",
      "        accuracy                           0.69        26\n",
      "       macro avg       0.70      0.69      0.69        26\n",
      "    weighted avg       0.70      0.69      0.69        26\n",
      "\n"
     ]
    },
    {
     "name": "stderr",
     "output_type": "stream",
     "text": [
      "Training Epochs:  78%|███████▊  | 1570/2000 [07:50<03:18,  2.16it/s]"
     ]
    },
    {
     "name": "stdout",
     "output_type": "stream",
     "text": [
      "Epoch 1570/2000, Loss: 0.0000\n",
      "Test Accuracy at Epoch 1570: 73.08%\n",
      "Test F1-score at Epoch 1570: 0.6957\n",
      "Classification Report at Epoch 1570:\n",
      "                  precision    recall  f1-score   support\n",
      "\n",
      "    infringement       0.69      0.85      0.76        13\n",
      "non_infringement       0.80      0.62      0.70        13\n",
      "\n",
      "        accuracy                           0.73        26\n",
      "       macro avg       0.74      0.73      0.73        26\n",
      "    weighted avg       0.74      0.73      0.73        26\n",
      "\n"
     ]
    },
    {
     "name": "stderr",
     "output_type": "stream",
     "text": [
      "Training Epochs:  79%|███████▉  | 1580/2000 [07:54<03:18,  2.11it/s]"
     ]
    },
    {
     "name": "stdout",
     "output_type": "stream",
     "text": [
      "Epoch 1580/2000, Loss: 0.0000\n",
      "Test Accuracy at Epoch 1580: 73.08%\n",
      "Test F1-score at Epoch 1580: 0.6957\n",
      "Classification Report at Epoch 1580:\n",
      "                  precision    recall  f1-score   support\n",
      "\n",
      "    infringement       0.69      0.85      0.76        13\n",
      "non_infringement       0.80      0.62      0.70        13\n",
      "\n",
      "        accuracy                           0.73        26\n",
      "       macro avg       0.74      0.73      0.73        26\n",
      "    weighted avg       0.74      0.73      0.73        26\n",
      "\n"
     ]
    },
    {
     "name": "stderr",
     "output_type": "stream",
     "text": [
      "Training Epochs:  80%|███████▉  | 1590/2000 [07:59<03:11,  2.14it/s]"
     ]
    },
    {
     "name": "stdout",
     "output_type": "stream",
     "text": [
      "Epoch 1590/2000, Loss: 0.0000\n",
      "Test Accuracy at Epoch 1590: 73.08%\n",
      "Test F1-score at Epoch 1590: 0.6957\n",
      "Classification Report at Epoch 1590:\n",
      "                  precision    recall  f1-score   support\n",
      "\n",
      "    infringement       0.69      0.85      0.76        13\n",
      "non_infringement       0.80      0.62      0.70        13\n",
      "\n",
      "        accuracy                           0.73        26\n",
      "       macro avg       0.74      0.73      0.73        26\n",
      "    weighted avg       0.74      0.73      0.73        26\n",
      "\n"
     ]
    },
    {
     "name": "stderr",
     "output_type": "stream",
     "text": [
      "Training Epochs:  80%|████████  | 1600/2000 [08:04<03:13,  2.07it/s]"
     ]
    },
    {
     "name": "stdout",
     "output_type": "stream",
     "text": [
      "Epoch 1600/2000, Loss: 0.0000\n",
      "Test Accuracy at Epoch 1600: 73.08%\n",
      "Test F1-score at Epoch 1600: 0.6957\n",
      "Classification Report at Epoch 1600:\n",
      "                  precision    recall  f1-score   support\n",
      "\n",
      "    infringement       0.69      0.85      0.76        13\n",
      "non_infringement       0.80      0.62      0.70        13\n",
      "\n",
      "        accuracy                           0.73        26\n",
      "       macro avg       0.74      0.73      0.73        26\n",
      "    weighted avg       0.74      0.73      0.73        26\n",
      "\n"
     ]
    },
    {
     "name": "stderr",
     "output_type": "stream",
     "text": [
      "Training Epochs:  80%|████████  | 1610/2000 [08:08<02:44,  2.37it/s]"
     ]
    },
    {
     "name": "stdout",
     "output_type": "stream",
     "text": [
      "Epoch 1610/2000, Loss: 0.0000\n",
      "Test Accuracy at Epoch 1610: 73.08%\n",
      "Test F1-score at Epoch 1610: 0.6957\n",
      "Classification Report at Epoch 1610:\n",
      "                  precision    recall  f1-score   support\n",
      "\n",
      "    infringement       0.69      0.85      0.76        13\n",
      "non_infringement       0.80      0.62      0.70        13\n",
      "\n",
      "        accuracy                           0.73        26\n",
      "       macro avg       0.74      0.73      0.73        26\n",
      "    weighted avg       0.74      0.73      0.73        26\n",
      "\n"
     ]
    },
    {
     "name": "stderr",
     "output_type": "stream",
     "text": [
      "Training Epochs:  81%|████████  | 1620/2000 [08:13<02:59,  2.12it/s]"
     ]
    },
    {
     "name": "stdout",
     "output_type": "stream",
     "text": [
      "Epoch 1620/2000, Loss: 0.0000\n",
      "Test Accuracy at Epoch 1620: 73.08%\n",
      "Test F1-score at Epoch 1620: 0.6957\n",
      "Classification Report at Epoch 1620:\n",
      "                  precision    recall  f1-score   support\n",
      "\n",
      "    infringement       0.69      0.85      0.76        13\n",
      "non_infringement       0.80      0.62      0.70        13\n",
      "\n",
      "        accuracy                           0.73        26\n",
      "       macro avg       0.74      0.73      0.73        26\n",
      "    weighted avg       0.74      0.73      0.73        26\n",
      "\n"
     ]
    },
    {
     "name": "stderr",
     "output_type": "stream",
     "text": [
      "Training Epochs:  82%|████████▏ | 1630/2000 [08:17<02:52,  2.15it/s]"
     ]
    },
    {
     "name": "stdout",
     "output_type": "stream",
     "text": [
      "Epoch 1630/2000, Loss: 0.0000\n",
      "Test Accuracy at Epoch 1630: 73.08%\n",
      "Test F1-score at Epoch 1630: 0.6957\n",
      "Classification Report at Epoch 1630:\n",
      "                  precision    recall  f1-score   support\n",
      "\n",
      "    infringement       0.69      0.85      0.76        13\n",
      "non_infringement       0.80      0.62      0.70        13\n",
      "\n",
      "        accuracy                           0.73        26\n",
      "       macro avg       0.74      0.73      0.73        26\n",
      "    weighted avg       0.74      0.73      0.73        26\n",
      "\n"
     ]
    },
    {
     "name": "stderr",
     "output_type": "stream",
     "text": [
      "Training Epochs:  82%|████████▏ | 1640/2000 [08:21<02:28,  2.42it/s]"
     ]
    },
    {
     "name": "stdout",
     "output_type": "stream",
     "text": [
      "Epoch 1640/2000, Loss: 0.0000\n",
      "Test Accuracy at Epoch 1640: 73.08%\n",
      "Test F1-score at Epoch 1640: 0.6957\n",
      "Classification Report at Epoch 1640:\n",
      "                  precision    recall  f1-score   support\n",
      "\n",
      "    infringement       0.69      0.85      0.76        13\n",
      "non_infringement       0.80      0.62      0.70        13\n",
      "\n",
      "        accuracy                           0.73        26\n",
      "       macro avg       0.74      0.73      0.73        26\n",
      "    weighted avg       0.74      0.73      0.73        26\n",
      "\n"
     ]
    },
    {
     "name": "stderr",
     "output_type": "stream",
     "text": [
      "Training Epochs:  82%|████████▎ | 1650/2000 [08:26<02:39,  2.19it/s]"
     ]
    },
    {
     "name": "stdout",
     "output_type": "stream",
     "text": [
      "Epoch 1650/2000, Loss: 0.0000\n",
      "Test Accuracy at Epoch 1650: 73.08%\n",
      "Test F1-score at Epoch 1650: 0.6957\n",
      "Classification Report at Epoch 1650:\n",
      "                  precision    recall  f1-score   support\n",
      "\n",
      "    infringement       0.69      0.85      0.76        13\n",
      "non_infringement       0.80      0.62      0.70        13\n",
      "\n",
      "        accuracy                           0.73        26\n",
      "       macro avg       0.74      0.73      0.73        26\n",
      "    weighted avg       0.74      0.73      0.73        26\n",
      "\n"
     ]
    },
    {
     "name": "stderr",
     "output_type": "stream",
     "text": [
      "Training Epochs:  83%|████████▎ | 1660/2000 [08:30<02:26,  2.33it/s]"
     ]
    },
    {
     "name": "stdout",
     "output_type": "stream",
     "text": [
      "Epoch 1660/2000, Loss: 0.0000\n",
      "Test Accuracy at Epoch 1660: 73.08%\n",
      "Test F1-score at Epoch 1660: 0.6957\n",
      "Classification Report at Epoch 1660:\n",
      "                  precision    recall  f1-score   support\n",
      "\n",
      "    infringement       0.69      0.85      0.76        13\n",
      "non_infringement       0.80      0.62      0.70        13\n",
      "\n",
      "        accuracy                           0.73        26\n",
      "       macro avg       0.74      0.73      0.73        26\n",
      "    weighted avg       0.74      0.73      0.73        26\n",
      "\n"
     ]
    },
    {
     "name": "stderr",
     "output_type": "stream",
     "text": [
      "Training Epochs:  84%|████████▎ | 1670/2000 [08:34<02:36,  2.10it/s]"
     ]
    },
    {
     "name": "stdout",
     "output_type": "stream",
     "text": [
      "Epoch 1670/2000, Loss: 0.0000\n",
      "Test Accuracy at Epoch 1670: 73.08%\n",
      "Test F1-score at Epoch 1670: 0.6957\n",
      "Classification Report at Epoch 1670:\n",
      "                  precision    recall  f1-score   support\n",
      "\n",
      "    infringement       0.69      0.85      0.76        13\n",
      "non_infringement       0.80      0.62      0.70        13\n",
      "\n",
      "        accuracy                           0.73        26\n",
      "       macro avg       0.74      0.73      0.73        26\n",
      "    weighted avg       0.74      0.73      0.73        26\n",
      "\n"
     ]
    },
    {
     "name": "stderr",
     "output_type": "stream",
     "text": [
      "Training Epochs:  84%|████████▍ | 1680/2000 [08:39<02:32,  2.10it/s]"
     ]
    },
    {
     "name": "stdout",
     "output_type": "stream",
     "text": [
      "Epoch 1680/2000, Loss: 0.0000\n",
      "Test Accuracy at Epoch 1680: 73.08%\n",
      "Test F1-score at Epoch 1680: 0.6957\n",
      "Classification Report at Epoch 1680:\n",
      "                  precision    recall  f1-score   support\n",
      "\n",
      "    infringement       0.69      0.85      0.76        13\n",
      "non_infringement       0.80      0.62      0.70        13\n",
      "\n",
      "        accuracy                           0.73        26\n",
      "       macro avg       0.74      0.73      0.73        26\n",
      "    weighted avg       0.74      0.73      0.73        26\n",
      "\n"
     ]
    },
    {
     "name": "stderr",
     "output_type": "stream",
     "text": [
      "Training Epochs:  84%|████████▍ | 1690/2000 [08:44<02:30,  2.07it/s]"
     ]
    },
    {
     "name": "stdout",
     "output_type": "stream",
     "text": [
      "Epoch 1690/2000, Loss: 0.0000\n",
      "Test Accuracy at Epoch 1690: 73.08%\n",
      "Test F1-score at Epoch 1690: 0.6957\n",
      "Classification Report at Epoch 1690:\n",
      "                  precision    recall  f1-score   support\n",
      "\n",
      "    infringement       0.69      0.85      0.76        13\n",
      "non_infringement       0.80      0.62      0.70        13\n",
      "\n",
      "        accuracy                           0.73        26\n",
      "       macro avg       0.74      0.73      0.73        26\n",
      "    weighted avg       0.74      0.73      0.73        26\n",
      "\n"
     ]
    },
    {
     "name": "stderr",
     "output_type": "stream",
     "text": [
      "Training Epochs:  85%|████████▌ | 1700/2000 [08:48<02:15,  2.21it/s]"
     ]
    },
    {
     "name": "stdout",
     "output_type": "stream",
     "text": [
      "Epoch 1700/2000, Loss: 0.0000\n",
      "Test Accuracy at Epoch 1700: 73.08%\n",
      "Test F1-score at Epoch 1700: 0.6957\n",
      "Classification Report at Epoch 1700:\n",
      "                  precision    recall  f1-score   support\n",
      "\n",
      "    infringement       0.69      0.85      0.76        13\n",
      "non_infringement       0.80      0.62      0.70        13\n",
      "\n",
      "        accuracy                           0.73        26\n",
      "       macro avg       0.74      0.73      0.73        26\n",
      "    weighted avg       0.74      0.73      0.73        26\n",
      "\n"
     ]
    },
    {
     "name": "stderr",
     "output_type": "stream",
     "text": [
      "Training Epochs:  86%|████████▌ | 1710/2000 [08:52<02:12,  2.19it/s]"
     ]
    },
    {
     "name": "stdout",
     "output_type": "stream",
     "text": [
      "Epoch 1710/2000, Loss: 0.0000\n",
      "Test Accuracy at Epoch 1710: 73.08%\n",
      "Test F1-score at Epoch 1710: 0.6957\n",
      "Classification Report at Epoch 1710:\n",
      "                  precision    recall  f1-score   support\n",
      "\n",
      "    infringement       0.69      0.85      0.76        13\n",
      "non_infringement       0.80      0.62      0.70        13\n",
      "\n",
      "        accuracy                           0.73        26\n",
      "       macro avg       0.74      0.73      0.73        26\n",
      "    weighted avg       0.74      0.73      0.73        26\n",
      "\n"
     ]
    },
    {
     "name": "stderr",
     "output_type": "stream",
     "text": [
      "Training Epochs:  86%|████████▌ | 1720/2000 [08:57<02:05,  2.24it/s]"
     ]
    },
    {
     "name": "stdout",
     "output_type": "stream",
     "text": [
      "Epoch 1720/2000, Loss: 0.0000\n",
      "Test Accuracy at Epoch 1720: 73.08%\n",
      "Test F1-score at Epoch 1720: 0.6957\n",
      "Classification Report at Epoch 1720:\n",
      "                  precision    recall  f1-score   support\n",
      "\n",
      "    infringement       0.69      0.85      0.76        13\n",
      "non_infringement       0.80      0.62      0.70        13\n",
      "\n",
      "        accuracy                           0.73        26\n",
      "       macro avg       0.74      0.73      0.73        26\n",
      "    weighted avg       0.74      0.73      0.73        26\n",
      "\n"
     ]
    },
    {
     "name": "stderr",
     "output_type": "stream",
     "text": [
      "Training Epochs:  86%|████████▋ | 1730/2000 [09:01<02:01,  2.22it/s]"
     ]
    },
    {
     "name": "stdout",
     "output_type": "stream",
     "text": [
      "Epoch 1730/2000, Loss: 0.0000\n",
      "Test Accuracy at Epoch 1730: 73.08%\n",
      "Test F1-score at Epoch 1730: 0.6957\n",
      "Classification Report at Epoch 1730:\n",
      "                  precision    recall  f1-score   support\n",
      "\n",
      "    infringement       0.69      0.85      0.76        13\n",
      "non_infringement       0.80      0.62      0.70        13\n",
      "\n",
      "        accuracy                           0.73        26\n",
      "       macro avg       0.74      0.73      0.73        26\n",
      "    weighted avg       0.74      0.73      0.73        26\n",
      "\n"
     ]
    },
    {
     "name": "stderr",
     "output_type": "stream",
     "text": [
      "Training Epochs:  87%|████████▋ | 1740/2000 [09:05<01:55,  2.25it/s]"
     ]
    },
    {
     "name": "stdout",
     "output_type": "stream",
     "text": [
      "Epoch 1740/2000, Loss: 0.0000\n",
      "Test Accuracy at Epoch 1740: 73.08%\n",
      "Test F1-score at Epoch 1740: 0.6957\n",
      "Classification Report at Epoch 1740:\n",
      "                  precision    recall  f1-score   support\n",
      "\n",
      "    infringement       0.69      0.85      0.76        13\n",
      "non_infringement       0.80      0.62      0.70        13\n",
      "\n",
      "        accuracy                           0.73        26\n",
      "       macro avg       0.74      0.73      0.73        26\n",
      "    weighted avg       0.74      0.73      0.73        26\n",
      "\n"
     ]
    },
    {
     "name": "stderr",
     "output_type": "stream",
     "text": [
      "Training Epochs:  88%|████████▊ | 1750/2000 [09:10<01:52,  2.23it/s]"
     ]
    },
    {
     "name": "stdout",
     "output_type": "stream",
     "text": [
      "Epoch 1750/2000, Loss: 0.0000\n",
      "Test Accuracy at Epoch 1750: 73.08%\n",
      "Test F1-score at Epoch 1750: 0.6957\n",
      "Classification Report at Epoch 1750:\n",
      "                  precision    recall  f1-score   support\n",
      "\n",
      "    infringement       0.69      0.85      0.76        13\n",
      "non_infringement       0.80      0.62      0.70        13\n",
      "\n",
      "        accuracy                           0.73        26\n",
      "       macro avg       0.74      0.73      0.73        26\n",
      "    weighted avg       0.74      0.73      0.73        26\n",
      "\n"
     ]
    },
    {
     "name": "stderr",
     "output_type": "stream",
     "text": [
      "Training Epochs:  88%|████████▊ | 1760/2000 [09:14<01:45,  2.28it/s]"
     ]
    },
    {
     "name": "stdout",
     "output_type": "stream",
     "text": [
      "Epoch 1760/2000, Loss: 0.0000\n",
      "Test Accuracy at Epoch 1760: 73.08%\n",
      "Test F1-score at Epoch 1760: 0.6957\n",
      "Classification Report at Epoch 1760:\n",
      "                  precision    recall  f1-score   support\n",
      "\n",
      "    infringement       0.69      0.85      0.76        13\n",
      "non_infringement       0.80      0.62      0.70        13\n",
      "\n",
      "        accuracy                           0.73        26\n",
      "       macro avg       0.74      0.73      0.73        26\n",
      "    weighted avg       0.74      0.73      0.73        26\n",
      "\n"
     ]
    },
    {
     "name": "stderr",
     "output_type": "stream",
     "text": [
      "Training Epochs:  88%|████████▊ | 1770/2000 [09:19<01:49,  2.09it/s]"
     ]
    },
    {
     "name": "stdout",
     "output_type": "stream",
     "text": [
      "Epoch 1770/2000, Loss: 0.0000\n",
      "Test Accuracy at Epoch 1770: 73.08%\n",
      "Test F1-score at Epoch 1770: 0.6957\n",
      "Classification Report at Epoch 1770:\n",
      "                  precision    recall  f1-score   support\n",
      "\n",
      "    infringement       0.69      0.85      0.76        13\n",
      "non_infringement       0.80      0.62      0.70        13\n",
      "\n",
      "        accuracy                           0.73        26\n",
      "       macro avg       0.74      0.73      0.73        26\n",
      "    weighted avg       0.74      0.73      0.73        26\n",
      "\n"
     ]
    },
    {
     "name": "stderr",
     "output_type": "stream",
     "text": [
      "Training Epochs:  89%|████████▉ | 1780/2000 [09:23<01:43,  2.12it/s]"
     ]
    },
    {
     "name": "stdout",
     "output_type": "stream",
     "text": [
      "Epoch 1780/2000, Loss: 0.0000\n",
      "Test Accuracy at Epoch 1780: 73.08%\n",
      "Test F1-score at Epoch 1780: 0.6957\n",
      "Classification Report at Epoch 1780:\n",
      "                  precision    recall  f1-score   support\n",
      "\n",
      "    infringement       0.69      0.85      0.76        13\n",
      "non_infringement       0.80      0.62      0.70        13\n",
      "\n",
      "        accuracy                           0.73        26\n",
      "       macro avg       0.74      0.73      0.73        26\n",
      "    weighted avg       0.74      0.73      0.73        26\n",
      "\n"
     ]
    },
    {
     "name": "stderr",
     "output_type": "stream",
     "text": [
      "Training Epochs:  90%|████████▉ | 1790/2000 [09:28<01:38,  2.13it/s]"
     ]
    },
    {
     "name": "stdout",
     "output_type": "stream",
     "text": [
      "Epoch 1790/2000, Loss: 0.0000\n",
      "Test Accuracy at Epoch 1790: 73.08%\n",
      "Test F1-score at Epoch 1790: 0.6957\n",
      "Classification Report at Epoch 1790:\n",
      "                  precision    recall  f1-score   support\n",
      "\n",
      "    infringement       0.69      0.85      0.76        13\n",
      "non_infringement       0.80      0.62      0.70        13\n",
      "\n",
      "        accuracy                           0.73        26\n",
      "       macro avg       0.74      0.73      0.73        26\n",
      "    weighted avg       0.74      0.73      0.73        26\n",
      "\n"
     ]
    },
    {
     "name": "stderr",
     "output_type": "stream",
     "text": [
      "Training Epochs:  90%|█████████ | 1800/2000 [09:32<01:25,  2.33it/s]"
     ]
    },
    {
     "name": "stdout",
     "output_type": "stream",
     "text": [
      "Epoch 1800/2000, Loss: 0.0000\n",
      "Test Accuracy at Epoch 1800: 73.08%\n",
      "Test F1-score at Epoch 1800: 0.6957\n",
      "Classification Report at Epoch 1800:\n",
      "                  precision    recall  f1-score   support\n",
      "\n",
      "    infringement       0.69      0.85      0.76        13\n",
      "non_infringement       0.80      0.62      0.70        13\n",
      "\n",
      "        accuracy                           0.73        26\n",
      "       macro avg       0.74      0.73      0.73        26\n",
      "    weighted avg       0.74      0.73      0.73        26\n",
      "\n"
     ]
    },
    {
     "name": "stderr",
     "output_type": "stream",
     "text": [
      "Training Epochs:  90%|█████████ | 1810/2000 [09:36<01:25,  2.22it/s]"
     ]
    },
    {
     "name": "stdout",
     "output_type": "stream",
     "text": [
      "Epoch 1810/2000, Loss: 0.0000\n",
      "Test Accuracy at Epoch 1810: 73.08%\n",
      "Test F1-score at Epoch 1810: 0.6957\n",
      "Classification Report at Epoch 1810:\n",
      "                  precision    recall  f1-score   support\n",
      "\n",
      "    infringement       0.69      0.85      0.76        13\n",
      "non_infringement       0.80      0.62      0.70        13\n",
      "\n",
      "        accuracy                           0.73        26\n",
      "       macro avg       0.74      0.73      0.73        26\n",
      "    weighted avg       0.74      0.73      0.73        26\n",
      "\n"
     ]
    },
    {
     "name": "stderr",
     "output_type": "stream",
     "text": [
      "Training Epochs:  91%|█████████ | 1820/2000 [09:41<01:17,  2.31it/s]"
     ]
    },
    {
     "name": "stdout",
     "output_type": "stream",
     "text": [
      "Epoch 1820/2000, Loss: 0.0000\n",
      "Test Accuracy at Epoch 1820: 73.08%\n",
      "Test F1-score at Epoch 1820: 0.6957\n",
      "Classification Report at Epoch 1820:\n",
      "                  precision    recall  f1-score   support\n",
      "\n",
      "    infringement       0.69      0.85      0.76        13\n",
      "non_infringement       0.80      0.62      0.70        13\n",
      "\n",
      "        accuracy                           0.73        26\n",
      "       macro avg       0.74      0.73      0.73        26\n",
      "    weighted avg       0.74      0.73      0.73        26\n",
      "\n"
     ]
    },
    {
     "name": "stderr",
     "output_type": "stream",
     "text": [
      "Training Epochs:  92%|█████████▏| 1830/2000 [09:45<01:09,  2.46it/s]"
     ]
    },
    {
     "name": "stdout",
     "output_type": "stream",
     "text": [
      "Epoch 1830/2000, Loss: 0.0000\n",
      "Test Accuracy at Epoch 1830: 73.08%\n",
      "Test F1-score at Epoch 1830: 0.6957\n",
      "Classification Report at Epoch 1830:\n",
      "                  precision    recall  f1-score   support\n",
      "\n",
      "    infringement       0.69      0.85      0.76        13\n",
      "non_infringement       0.80      0.62      0.70        13\n",
      "\n",
      "        accuracy                           0.73        26\n",
      "       macro avg       0.74      0.73      0.73        26\n",
      "    weighted avg       0.74      0.73      0.73        26\n",
      "\n"
     ]
    },
    {
     "name": "stderr",
     "output_type": "stream",
     "text": [
      "Training Epochs:  92%|█████████▏| 1840/2000 [09:49<01:12,  2.22it/s]"
     ]
    },
    {
     "name": "stdout",
     "output_type": "stream",
     "text": [
      "Epoch 1840/2000, Loss: 0.0000\n",
      "Test Accuracy at Epoch 1840: 73.08%\n",
      "Test F1-score at Epoch 1840: 0.6957\n",
      "Classification Report at Epoch 1840:\n",
      "                  precision    recall  f1-score   support\n",
      "\n",
      "    infringement       0.69      0.85      0.76        13\n",
      "non_infringement       0.80      0.62      0.70        13\n",
      "\n",
      "        accuracy                           0.73        26\n",
      "       macro avg       0.74      0.73      0.73        26\n",
      "    weighted avg       0.74      0.73      0.73        26\n",
      "\n"
     ]
    },
    {
     "name": "stderr",
     "output_type": "stream",
     "text": [
      "Training Epochs:  92%|█████████▎| 1850/2000 [09:54<01:18,  1.91it/s]"
     ]
    },
    {
     "name": "stdout",
     "output_type": "stream",
     "text": [
      "Epoch 1850/2000, Loss: 0.0000\n",
      "Test Accuracy at Epoch 1850: 73.08%\n",
      "Test F1-score at Epoch 1850: 0.6957\n",
      "Classification Report at Epoch 1850:\n",
      "                  precision    recall  f1-score   support\n",
      "\n",
      "    infringement       0.69      0.85      0.76        13\n",
      "non_infringement       0.80      0.62      0.70        13\n",
      "\n",
      "        accuracy                           0.73        26\n",
      "       macro avg       0.74      0.73      0.73        26\n",
      "    weighted avg       0.74      0.73      0.73        26\n",
      "\n"
     ]
    },
    {
     "name": "stderr",
     "output_type": "stream",
     "text": [
      "Training Epochs:  93%|█████████▎| 1860/2000 [09:58<01:03,  2.21it/s]"
     ]
    },
    {
     "name": "stdout",
     "output_type": "stream",
     "text": [
      "Epoch 1860/2000, Loss: 0.0000\n",
      "Test Accuracy at Epoch 1860: 73.08%\n",
      "Test F1-score at Epoch 1860: 0.6957\n",
      "Classification Report at Epoch 1860:\n",
      "                  precision    recall  f1-score   support\n",
      "\n",
      "    infringement       0.69      0.85      0.76        13\n",
      "non_infringement       0.80      0.62      0.70        13\n",
      "\n",
      "        accuracy                           0.73        26\n",
      "       macro avg       0.74      0.73      0.73        26\n",
      "    weighted avg       0.74      0.73      0.73        26\n",
      "\n"
     ]
    },
    {
     "name": "stderr",
     "output_type": "stream",
     "text": [
      "Training Epochs:  94%|█████████▎| 1870/2000 [10:02<00:57,  2.27it/s]"
     ]
    },
    {
     "name": "stdout",
     "output_type": "stream",
     "text": [
      "Epoch 1870/2000, Loss: 0.0000\n",
      "Test Accuracy at Epoch 1870: 73.08%\n",
      "Test F1-score at Epoch 1870: 0.6957\n",
      "Classification Report at Epoch 1870:\n",
      "                  precision    recall  f1-score   support\n",
      "\n",
      "    infringement       0.69      0.85      0.76        13\n",
      "non_infringement       0.80      0.62      0.70        13\n",
      "\n",
      "        accuracy                           0.73        26\n",
      "       macro avg       0.74      0.73      0.73        26\n",
      "    weighted avg       0.74      0.73      0.73        26\n",
      "\n"
     ]
    },
    {
     "name": "stderr",
     "output_type": "stream",
     "text": [
      "Training Epochs:  94%|█████████▍| 1880/2000 [10:06<00:57,  2.07it/s]"
     ]
    },
    {
     "name": "stdout",
     "output_type": "stream",
     "text": [
      "Epoch 1880/2000, Loss: 0.0000\n",
      "Test Accuracy at Epoch 1880: 73.08%\n",
      "Test F1-score at Epoch 1880: 0.6957\n",
      "Classification Report at Epoch 1880:\n",
      "                  precision    recall  f1-score   support\n",
      "\n",
      "    infringement       0.69      0.85      0.76        13\n",
      "non_infringement       0.80      0.62      0.70        13\n",
      "\n",
      "        accuracy                           0.73        26\n",
      "       macro avg       0.74      0.73      0.73        26\n",
      "    weighted avg       0.74      0.73      0.73        26\n",
      "\n"
     ]
    },
    {
     "name": "stderr",
     "output_type": "stream",
     "text": [
      "Training Epochs:  94%|█████████▍| 1890/2000 [10:11<00:46,  2.36it/s]"
     ]
    },
    {
     "name": "stdout",
     "output_type": "stream",
     "text": [
      "Epoch 1890/2000, Loss: 0.0000\n",
      "Test Accuracy at Epoch 1890: 73.08%\n",
      "Test F1-score at Epoch 1890: 0.6957\n",
      "Classification Report at Epoch 1890:\n",
      "                  precision    recall  f1-score   support\n",
      "\n",
      "    infringement       0.69      0.85      0.76        13\n",
      "non_infringement       0.80      0.62      0.70        13\n",
      "\n",
      "        accuracy                           0.73        26\n",
      "       macro avg       0.74      0.73      0.73        26\n",
      "    weighted avg       0.74      0.73      0.73        26\n",
      "\n"
     ]
    },
    {
     "name": "stderr",
     "output_type": "stream",
     "text": [
      "Training Epochs:  95%|█████████▌| 1900/2000 [10:15<00:42,  2.34it/s]"
     ]
    },
    {
     "name": "stdout",
     "output_type": "stream",
     "text": [
      "Epoch 1900/2000, Loss: 0.0000\n",
      "Test Accuracy at Epoch 1900: 73.08%\n",
      "Test F1-score at Epoch 1900: 0.6957\n",
      "Classification Report at Epoch 1900:\n",
      "                  precision    recall  f1-score   support\n",
      "\n",
      "    infringement       0.69      0.85      0.76        13\n",
      "non_infringement       0.80      0.62      0.70        13\n",
      "\n",
      "        accuracy                           0.73        26\n",
      "       macro avg       0.74      0.73      0.73        26\n",
      "    weighted avg       0.74      0.73      0.73        26\n",
      "\n"
     ]
    },
    {
     "name": "stderr",
     "output_type": "stream",
     "text": [
      "Training Epochs:  96%|█████████▌| 1910/2000 [10:19<00:38,  2.32it/s]"
     ]
    },
    {
     "name": "stdout",
     "output_type": "stream",
     "text": [
      "Epoch 1910/2000, Loss: 0.0000\n",
      "Test Accuracy at Epoch 1910: 73.08%\n",
      "Test F1-score at Epoch 1910: 0.6957\n",
      "Classification Report at Epoch 1910:\n",
      "                  precision    recall  f1-score   support\n",
      "\n",
      "    infringement       0.69      0.85      0.76        13\n",
      "non_infringement       0.80      0.62      0.70        13\n",
      "\n",
      "        accuracy                           0.73        26\n",
      "       macro avg       0.74      0.73      0.73        26\n",
      "    weighted avg       0.74      0.73      0.73        26\n",
      "\n"
     ]
    },
    {
     "name": "stderr",
     "output_type": "stream",
     "text": [
      "Training Epochs:  96%|█████████▌| 1920/2000 [10:24<00:37,  2.13it/s]"
     ]
    },
    {
     "name": "stdout",
     "output_type": "stream",
     "text": [
      "Epoch 1920/2000, Loss: 0.0000\n",
      "Test Accuracy at Epoch 1920: 73.08%\n",
      "Test F1-score at Epoch 1920: 0.6957\n",
      "Classification Report at Epoch 1920:\n",
      "                  precision    recall  f1-score   support\n",
      "\n",
      "    infringement       0.69      0.85      0.76        13\n",
      "non_infringement       0.80      0.62      0.70        13\n",
      "\n",
      "        accuracy                           0.73        26\n",
      "       macro avg       0.74      0.73      0.73        26\n",
      "    weighted avg       0.74      0.73      0.73        26\n",
      "\n"
     ]
    },
    {
     "name": "stderr",
     "output_type": "stream",
     "text": [
      "Training Epochs:  96%|█████████▋| 1930/2000 [10:29<00:37,  1.87it/s]"
     ]
    },
    {
     "name": "stdout",
     "output_type": "stream",
     "text": [
      "Epoch 1930/2000, Loss: 0.0000\n",
      "Test Accuracy at Epoch 1930: 73.08%\n",
      "Test F1-score at Epoch 1930: 0.6957\n",
      "Classification Report at Epoch 1930:\n",
      "                  precision    recall  f1-score   support\n",
      "\n",
      "    infringement       0.69      0.85      0.76        13\n",
      "non_infringement       0.80      0.62      0.70        13\n",
      "\n",
      "        accuracy                           0.73        26\n",
      "       macro avg       0.74      0.73      0.73        26\n",
      "    weighted avg       0.74      0.73      0.73        26\n",
      "\n"
     ]
    },
    {
     "name": "stderr",
     "output_type": "stream",
     "text": [
      "Training Epochs:  97%|█████████▋| 1940/2000 [10:33<00:27,  2.14it/s]"
     ]
    },
    {
     "name": "stdout",
     "output_type": "stream",
     "text": [
      "Epoch 1940/2000, Loss: 0.0000\n",
      "Test Accuracy at Epoch 1940: 73.08%\n",
      "Test F1-score at Epoch 1940: 0.6957\n",
      "Classification Report at Epoch 1940:\n",
      "                  precision    recall  f1-score   support\n",
      "\n",
      "    infringement       0.69      0.85      0.76        13\n",
      "non_infringement       0.80      0.62      0.70        13\n",
      "\n",
      "        accuracy                           0.73        26\n",
      "       macro avg       0.74      0.73      0.73        26\n",
      "    weighted avg       0.74      0.73      0.73        26\n",
      "\n"
     ]
    },
    {
     "name": "stderr",
     "output_type": "stream",
     "text": [
      "Training Epochs:  98%|█████████▊| 1950/2000 [10:37<00:24,  2.04it/s]"
     ]
    },
    {
     "name": "stdout",
     "output_type": "stream",
     "text": [
      "Epoch 1950/2000, Loss: 0.0000\n",
      "Test Accuracy at Epoch 1950: 73.08%\n",
      "Test F1-score at Epoch 1950: 0.6957\n",
      "Classification Report at Epoch 1950:\n",
      "                  precision    recall  f1-score   support\n",
      "\n",
      "    infringement       0.69      0.85      0.76        13\n",
      "non_infringement       0.80      0.62      0.70        13\n",
      "\n",
      "        accuracy                           0.73        26\n",
      "       macro avg       0.74      0.73      0.73        26\n",
      "    weighted avg       0.74      0.73      0.73        26\n",
      "\n"
     ]
    },
    {
     "name": "stderr",
     "output_type": "stream",
     "text": [
      "Training Epochs:  98%|█████████▊| 1960/2000 [10:42<00:17,  2.24it/s]"
     ]
    },
    {
     "name": "stdout",
     "output_type": "stream",
     "text": [
      "Epoch 1960/2000, Loss: 0.0000\n",
      "Test Accuracy at Epoch 1960: 73.08%\n",
      "Test F1-score at Epoch 1960: 0.6957\n",
      "Classification Report at Epoch 1960:\n",
      "                  precision    recall  f1-score   support\n",
      "\n",
      "    infringement       0.69      0.85      0.76        13\n",
      "non_infringement       0.80      0.62      0.70        13\n",
      "\n",
      "        accuracy                           0.73        26\n",
      "       macro avg       0.74      0.73      0.73        26\n",
      "    weighted avg       0.74      0.73      0.73        26\n",
      "\n"
     ]
    },
    {
     "name": "stderr",
     "output_type": "stream",
     "text": [
      "Training Epochs:  98%|█████████▊| 1970/2000 [10:46<00:13,  2.20it/s]"
     ]
    },
    {
     "name": "stdout",
     "output_type": "stream",
     "text": [
      "Epoch 1970/2000, Loss: 0.0000\n",
      "Test Accuracy at Epoch 1970: 73.08%\n",
      "Test F1-score at Epoch 1970: 0.6957\n",
      "Classification Report at Epoch 1970:\n",
      "                  precision    recall  f1-score   support\n",
      "\n",
      "    infringement       0.69      0.85      0.76        13\n",
      "non_infringement       0.80      0.62      0.70        13\n",
      "\n",
      "        accuracy                           0.73        26\n",
      "       macro avg       0.74      0.73      0.73        26\n",
      "    weighted avg       0.74      0.73      0.73        26\n",
      "\n"
     ]
    },
    {
     "name": "stderr",
     "output_type": "stream",
     "text": [
      "Training Epochs:  99%|█████████▉| 1980/2000 [10:51<00:09,  2.21it/s]"
     ]
    },
    {
     "name": "stdout",
     "output_type": "stream",
     "text": [
      "Epoch 1980/2000, Loss: 0.0000\n",
      "Test Accuracy at Epoch 1980: 73.08%\n",
      "Test F1-score at Epoch 1980: 0.6957\n",
      "Classification Report at Epoch 1980:\n",
      "                  precision    recall  f1-score   support\n",
      "\n",
      "    infringement       0.69      0.85      0.76        13\n",
      "non_infringement       0.80      0.62      0.70        13\n",
      "\n",
      "        accuracy                           0.73        26\n",
      "       macro avg       0.74      0.73      0.73        26\n",
      "    weighted avg       0.74      0.73      0.73        26\n",
      "\n"
     ]
    },
    {
     "name": "stderr",
     "output_type": "stream",
     "text": [
      "Training Epochs: 100%|█████████▉| 1990/2000 [10:55<00:04,  2.39it/s]"
     ]
    },
    {
     "name": "stdout",
     "output_type": "stream",
     "text": [
      "Epoch 1990/2000, Loss: 0.0000\n",
      "Test Accuracy at Epoch 1990: 73.08%\n",
      "Test F1-score at Epoch 1990: 0.6957\n",
      "Classification Report at Epoch 1990:\n",
      "                  precision    recall  f1-score   support\n",
      "\n",
      "    infringement       0.69      0.85      0.76        13\n",
      "non_infringement       0.80      0.62      0.70        13\n",
      "\n",
      "        accuracy                           0.73        26\n",
      "       macro avg       0.74      0.73      0.73        26\n",
      "    weighted avg       0.74      0.73      0.73        26\n",
      "\n"
     ]
    },
    {
     "name": "stderr",
     "output_type": "stream",
     "text": [
      "Training Epochs: 100%|██████████| 2000/2000 [10:59<00:00,  3.03it/s]"
     ]
    },
    {
     "name": "stdout",
     "output_type": "stream",
     "text": [
      "Epoch 2000/2000, Loss: 0.0000\n",
      "Test Accuracy at Epoch 2000: 73.08%\n",
      "Test F1-score at Epoch 2000: 0.6957\n",
      "Classification Report at Epoch 2000:\n",
      "                  precision    recall  f1-score   support\n",
      "\n",
      "    infringement       0.69      0.85      0.76        13\n",
      "non_infringement       0.80      0.62      0.70        13\n",
      "\n",
      "        accuracy                           0.73        26\n",
      "       macro avg       0.74      0.73      0.73        26\n",
      "    weighted avg       0.74      0.73      0.73        26\n",
      "\n"
     ]
    },
    {
     "name": "stderr",
     "output_type": "stream",
     "text": [
      "\n",
      "/tmp/ipykernel_1573788/3077705936.py:55: FutureWarning: You are using `torch.load` with `weights_only=False` (the current default value), which uses the default pickle module implicitly. It is possible to construct malicious pickle data which will execute arbitrary code during unpickling (See https://github.com/pytorch/pytorch/blob/main/SECURITY.md#untrusted-models for more details). In a future release, the default value for `weights_only` will be flipped to `True`. This limits the functions that could be executed during unpickling. Arbitrary objects will no longer be allowed to be loaded via this mode unless they are explicitly allowlisted by the user via `torch.serialization.add_safe_globals`. We recommend you start setting `weights_only=True` for any use case where you don't have full control of the loaded file. Please open an issue on GitHub for any issues related to this experimental feature.\n",
      "  custom_mlp.load_state_dict(torch.load(checkpoint_path))\n"
     ]
    },
    {
     "ename": "RuntimeError",
     "evalue": "Error(s) in loading state_dict for CustomMLP:\n\tsize mismatch for down.weight: copying a param with shape torch.Size([256, 4864]) from checkpoint, the shape in current model is torch.Size([256, 4096]).\n\tsize mismatch for gate.weight: copying a param with shape torch.Size([256, 4864]) from checkpoint, the shape in current model is torch.Size([256, 4096]).",
     "output_type": "error",
     "traceback": [
      "\u001b[0;31m---------------------------------------------------------------------------\u001b[0m",
      "\u001b[0;31mRuntimeError\u001b[0m                              Traceback (most recent call last)",
      "Cell \u001b[0;32mIn[40], line 4\u001b[0m\n\u001b[1;32m      1\u001b[0m input_dim \u001b[38;5;241m=\u001b[39m X_train\u001b[38;5;241m.\u001b[39mshape[\u001b[38;5;241m1\u001b[39m]\n\u001b[1;32m      2\u001b[0m hidden_dim \u001b[38;5;241m=\u001b[39m \u001b[38;5;241m256\u001b[39m\n\u001b[0;32m----> 4\u001b[0m custom_mlp, losses, best_accuracy, best_f1 \u001b[38;5;241m=\u001b[39m \u001b[43mtrain_model\u001b[49m\u001b[43m(\u001b[49m\u001b[43mX_train\u001b[49m\u001b[43m,\u001b[49m\u001b[43m \u001b[49m\u001b[43my_train\u001b[49m\u001b[43m,\u001b[49m\u001b[43m \u001b[49m\u001b[43mX_test\u001b[49m\u001b[43m,\u001b[49m\u001b[43m \u001b[49m\u001b[43my_test\u001b[49m\u001b[43m,\u001b[49m\u001b[43m \u001b[49m\u001b[43minput_dim\u001b[49m\u001b[43m,\u001b[49m\u001b[43m \u001b[49m\u001b[43mhidden_dim\u001b[49m\u001b[43m)\u001b[49m\n",
      "Cell \u001b[0;32mIn[36], line 55\u001b[0m, in \u001b[0;36mtrain_model\u001b[0;34m(X_train, y_train, X_test, y_test, input_dim, hidden_dim, epochs, lr, checkpoint_path)\u001b[0m\n\u001b[1;32m     52\u001b[0m             \u001b[38;5;28mprint\u001b[39m(\u001b[38;5;124mf\u001b[39m\u001b[38;5;124m\"\u001b[39m\u001b[38;5;124mBest Classification Report at Epoch \u001b[39m\u001b[38;5;132;01m{\u001b[39;00mbest_epoch\u001b[38;5;132;01m}\u001b[39;00m\u001b[38;5;124m:\u001b[39m\u001b[38;5;130;01m\\n\u001b[39;00m\u001b[38;5;132;01m{\u001b[39;00mreport\u001b[38;5;132;01m}\u001b[39;00m\u001b[38;5;124m\"\u001b[39m)\n\u001b[1;32m     54\u001b[0m \u001b[38;5;66;03m# Load the best model state\u001b[39;00m\n\u001b[0;32m---> 55\u001b[0m \u001b[43mcustom_mlp\u001b[49m\u001b[38;5;241;43m.\u001b[39;49m\u001b[43mload_state_dict\u001b[49m\u001b[43m(\u001b[49m\u001b[43mtorch\u001b[49m\u001b[38;5;241;43m.\u001b[39;49m\u001b[43mload\u001b[49m\u001b[43m(\u001b[49m\u001b[43mcheckpoint_path\u001b[49m\u001b[43m)\u001b[49m\u001b[43m)\u001b[49m\n\u001b[1;32m     57\u001b[0m \u001b[38;5;66;03m# Plot loss curve\u001b[39;00m\n\u001b[1;32m     58\u001b[0m plt\u001b[38;5;241m.\u001b[39mfigure(figsize\u001b[38;5;241m=\u001b[39m(\u001b[38;5;241m10\u001b[39m, \u001b[38;5;241m5\u001b[39m))\n",
      "File \u001b[0;32m~/miniconda3/envs/zdh/lib/python3.12/site-packages/torch/nn/modules/module.py:2215\u001b[0m, in \u001b[0;36mModule.load_state_dict\u001b[0;34m(self, state_dict, strict, assign)\u001b[0m\n\u001b[1;32m   2210\u001b[0m         error_msgs\u001b[38;5;241m.\u001b[39minsert(\n\u001b[1;32m   2211\u001b[0m             \u001b[38;5;241m0\u001b[39m, \u001b[38;5;124m'\u001b[39m\u001b[38;5;124mMissing key(s) in state_dict: \u001b[39m\u001b[38;5;132;01m{}\u001b[39;00m\u001b[38;5;124m. \u001b[39m\u001b[38;5;124m'\u001b[39m\u001b[38;5;241m.\u001b[39mformat(\n\u001b[1;32m   2212\u001b[0m                 \u001b[38;5;124m'\u001b[39m\u001b[38;5;124m, \u001b[39m\u001b[38;5;124m'\u001b[39m\u001b[38;5;241m.\u001b[39mjoin(\u001b[38;5;124mf\u001b[39m\u001b[38;5;124m'\u001b[39m\u001b[38;5;124m\"\u001b[39m\u001b[38;5;132;01m{\u001b[39;00mk\u001b[38;5;132;01m}\u001b[39;00m\u001b[38;5;124m\"\u001b[39m\u001b[38;5;124m'\u001b[39m \u001b[38;5;28;01mfor\u001b[39;00m k \u001b[38;5;129;01min\u001b[39;00m missing_keys)))\n\u001b[1;32m   2214\u001b[0m \u001b[38;5;28;01mif\u001b[39;00m \u001b[38;5;28mlen\u001b[39m(error_msgs) \u001b[38;5;241m>\u001b[39m \u001b[38;5;241m0\u001b[39m:\n\u001b[0;32m-> 2215\u001b[0m     \u001b[38;5;28;01mraise\u001b[39;00m \u001b[38;5;167;01mRuntimeError\u001b[39;00m(\u001b[38;5;124m'\u001b[39m\u001b[38;5;124mError(s) in loading state_dict for \u001b[39m\u001b[38;5;132;01m{}\u001b[39;00m\u001b[38;5;124m:\u001b[39m\u001b[38;5;130;01m\\n\u001b[39;00m\u001b[38;5;130;01m\\t\u001b[39;00m\u001b[38;5;132;01m{}\u001b[39;00m\u001b[38;5;124m'\u001b[39m\u001b[38;5;241m.\u001b[39mformat(\n\u001b[1;32m   2216\u001b[0m                        \u001b[38;5;28mself\u001b[39m\u001b[38;5;241m.\u001b[39m\u001b[38;5;18m__class__\u001b[39m\u001b[38;5;241m.\u001b[39m\u001b[38;5;18m__name__\u001b[39m, \u001b[38;5;124m\"\u001b[39m\u001b[38;5;130;01m\\n\u001b[39;00m\u001b[38;5;130;01m\\t\u001b[39;00m\u001b[38;5;124m\"\u001b[39m\u001b[38;5;241m.\u001b[39mjoin(error_msgs)))\n\u001b[1;32m   2217\u001b[0m \u001b[38;5;28;01mreturn\u001b[39;00m _IncompatibleKeys(missing_keys, unexpected_keys)\n",
      "\u001b[0;31mRuntimeError\u001b[0m: Error(s) in loading state_dict for CustomMLP:\n\tsize mismatch for down.weight: copying a param with shape torch.Size([256, 4864]) from checkpoint, the shape in current model is torch.Size([256, 4096]).\n\tsize mismatch for gate.weight: copying a param with shape torch.Size([256, 4864]) from checkpoint, the shape in current model is torch.Size([256, 4096])."
     ]
    },
    {
     "ename": "",
     "evalue": "",
     "output_type": "error",
     "traceback": [
      "\u001b[1;31mThe Kernel crashed while executing code in the current cell or a previous cell. \n",
      "\u001b[1;31mPlease review the code in the cell(s) to identify a possible cause of the failure. \n",
      "\u001b[1;31mClick <a href='https://aka.ms/vscodeJupyterKernelCrash'>here</a> for more info. \n",
      "\u001b[1;31mView Jupyter <a href='command:jupyter.viewOutput'>log</a> for further details."
     ]
    }
   ],
   "source": [
    "input_dim = X_train.shape[1]\n",
    "hidden_dim = 256\n",
    "\n",
    "custom_mlp, losses, best_accuracy, best_f1 = train_model(X_train, y_train, X_test, y_test, input_dim, hidden_dim)"
   ]
  },
  {
   "cell_type": "code",
   "execution_count": null,
   "metadata": {},
   "outputs": [
    {
     "name": "stdout",
     "output_type": "stream",
     "text": [
      "Checkpoint saved to '/home/guangwei/LLM-COPYRIGHT/copyright_newVersion/models/train_input_last_token.pth'.\n"
     ]
    }
   ],
   "source": [
    "def save_checkpoint(model, optimizer, epoch, loss, filepath):\n",
    "    checkpoint = {\n",
    "        'epoch': epoch + 1,\n",
    "        'model_state_dict': model.state_dict(),\n",
    "        'optimizer_state_dict': optimizer.state_dict(),\n",
    "        'loss': loss\n",
    "    }\n",
    "    torch.save(checkpoint, filepath)\n",
    "    print(f\"Checkpoint saved to '{filepath}'.\")\n",
    "\n",
    "save_checkpoint(custom_mlp, torch.optim.Adam(custom_mlp.parameters()), len(losses), losses[-1], checkpoint_file)"
   ]
  },
  {
   "cell_type": "code",
   "execution_count": null,
   "metadata": {},
   "outputs": [
    {
     "name": "stdout",
     "output_type": "stream",
     "text": [
      "Final Model Accuracy: 67.86%\n",
      "                  precision    recall  f1-score   support\n",
      "\n",
      "    infringement       0.63      0.86      0.73        28\n",
      "non_infringement       0.78      0.50      0.61        28\n",
      "\n",
      "        accuracy                           0.68        56\n",
      "       macro avg       0.70      0.68      0.67        56\n",
      "    weighted avg       0.70      0.68      0.67        56\n",
      "\n"
     ]
    },
    {
     "name": "stderr",
     "output_type": "stream",
     "text": [
      "/tmp/ipykernel_1573788/3740627605.py:2: UserWarning: To copy construct from a tensor, it is recommended to use sourceTensor.clone().detach() or sourceTensor.clone().detach().requires_grad_(True), rather than torch.tensor(sourceTensor).\n",
      "  y_pred_final = (torch.sigmoid(torch.tensor(custom_mlp(torch.tensor(X_test, dtype=torch.float32)))) > 0.5).float().numpy()\n"
     ]
    }
   ],
   "source": [
    "print(f\"Final Model Accuracy: {best_accuracy * 100:.2f}%\")\n",
    "y_pred_final = (torch.sigmoid(torch.tensor(custom_mlp(torch.tensor(X_test, dtype=torch.float32)))) > 0.5).float().numpy()\n",
    "print(classification_report(y_test, y_pred_final, target_names=[\"infringement\", \"non_infringement\"]))"
   ]
  }
 ],
 "metadata": {
  "kernelspec": {
   "display_name": "zdh",
   "language": "python",
   "name": "python3"
  },
  "language_info": {
   "codemirror_mode": {
    "name": "ipython",
    "version": 3
   },
   "file_extension": ".py",
   "mimetype": "text/x-python",
   "name": "python",
   "nbconvert_exporter": "python",
   "pygments_lexer": "ipython3",
   "version": "3.12.3"
  }
 },
 "nbformat": 4,
 "nbformat_minor": 2
}
