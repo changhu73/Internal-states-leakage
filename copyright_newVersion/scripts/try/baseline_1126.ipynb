{
 "cells": [
  {
   "cell_type": "code",
   "execution_count": null,
   "metadata": {},
   "outputs": [],
   "source": [
    "import requests\n",
    "import json\n",
    "from sklearn.metrics import f1_score, accuracy_score"
   ]
  },
  {
   "cell_type": "code",
   "execution_count": null,
   "metadata": {},
   "outputs": [],
   "source": [
    "# 调用 Hugging Face API 的函数\n",
    "def your_api_call_function(input_text, model_id, hf_token, prompt_template):\n",
    "    api_url = \"https://api-inference.huggingface.co/models/\" + model_id\n",
    "    headers = {\n",
    "        \"Authorization\": f\"Bearer {hf_token}\",\n",
    "        \"Content-Type\": \"application/json\"\n",
    "    }\n",
    "    payload = {\"inputs\": input_text, \"parameters\": {\"max_length\": 50}}\n",
    "    prompt = prompt_template.format(input=input_text)\n",
    "    payload[\"inputs\"] = prompt\n",
    "    response = requests.post(api_url, headers=headers, data=json.dumps(payload))\n",
    "    if response.status_code == 200:\n",
    "        response_data = response.json()\n",
    "        return response_data[0][\"generated_text\"]\n",
    "    else:\n",
    "        print(f\"Error: {response.status_code}, {response.text}\")\n",
    "        return \"\"\n",
    "\n",
    "# 读取数据的函数\n",
    "def read_data(file_path):\n",
    "    with open(file_path, 'r') as file:\n",
    "        data = json.load(file)\n",
    "    return data['inputs'], data['references'], data['truelabels']"
   ]
  },
  {
   "cell_type": "code",
   "execution_count": null,
   "metadata": {},
   "outputs": [],
   "source": [
    "\n",
    "# 主程序\n",
    "def main(file_path, threshold1,threshold2, model_id, hf_token):\n",
    "    inputs, references, truelabels = read_data(file_path)\n",
    "    \n",
    "    predicted_labels = []\n",
    "    for input_text, reference, truelabel in zip(inputs, references, truelabels):\n",
    "        # 构造prompt\n",
    "        prompt_template = \"Continue the sentence based on the given input. Calculate the ROUGE score between the generated result and the reference. If the score is greater than {threshold1}, label it as infringement. If the score is lower than {threshold2}, label it as non-infringement. Finally, directly output the label indicating whether it is infringing or not.\"\n",
    "        prompt = prompt_template.format(threshold1=threshold1,threshold2=threshold2)\n",
    "        \n",
    "        # 调用大模型API\n",
    "        label = your_api_call_function(input_text, model_id, hf_token, prompt)\n",
    "        \n",
    "        predicted_labels.append(label)\n",
    "        \n",
    "        print(f\"Input: {input_text}\")\n",
    "        print(f\"Reference: {reference}\")\n",
    "        print(f\"Label: {label}, True Label: {truelabel}\\n\")\n",
    "    \n",
    "    f1 = f1_score(truelabels, predicted_labels, average='macro')\n",
    "    acc = accuracy_score(truelabels, predicted_labels)\n",
    "    \n",
    "    return f1, acc"
   ]
  },
  {
   "cell_type": "code",
   "execution_count": null,
   "metadata": {},
   "outputs": [],
   "source": [
    "# 设置阈值\n",
    "threshold1 = 0.7\n",
    "threshold2 = 0.7\n",
    "\n",
    "# 文件路径\n",
    "file_path = 'path_to_your_data_file.json'\n",
    "\n",
    "# Hugging Face 模型 ID 和 API 令牌\n",
    "model_id = \"YOUR_MODEL_ID\"  # 替换为你的模型 ID\n",
    "hf_token = \"YOUR_HF_TOKEN\"  # 替换为你的 Hugging Face API 令牌\n",
    "\n",
    "# 运行程序\n",
    "f1, acc = main(file_path, threshold1, threshold2, model_id, hf_token)\n",
    "print(f\"F1 Score: {f1}\")\n",
    "print(f\"Accuracy: {acc}\")"
   ]
  }
 ],
 "metadata": {
  "kernelspec": {
   "display_name": "zdh",
   "language": "python",
   "name": "python3"
  },
  "language_info": {
   "codemirror_mode": {
    "name": "ipython",
    "version": 3
   },
   "file_extension": ".py",
   "mimetype": "text/x-python",
   "name": "python",
   "nbconvert_exporter": "python",
   "pygments_lexer": "ipython3",
   "version": "3.12.3"
  }
 },
 "nbformat": 4,
 "nbformat_minor": 2
}
