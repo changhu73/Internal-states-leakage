{
 "cells": [
  {
   "cell_type": "code",
   "execution_count": 1,
   "metadata": {},
   "outputs": [
    {
     "name": "stderr",
     "output_type": "stream",
     "text": [
      "/home/guangwei/miniconda3/envs/zdh/lib/python3.12/site-packages/tqdm/auto.py:21: TqdmWarning: IProgress not found. Please update jupyter and ipywidgets. See https://ipywidgets.readthedocs.io/en/stable/user_install.html\n",
      "  from .autonotebook import tqdm as notebook_tqdm\n"
     ]
    }
   ],
   "source": [
    "# import packages & variables\n",
    "import argparse\n",
    "import torch\n",
    "import torch.nn as nn\n",
    "import numpy as np\n",
    "from sklearn.metrics import accuracy_score, classification_report\n",
    "import matplotlib.pyplot as plt\n",
    "from tqdm import tqdm\n",
    "from transformers import AutoTokenizer, AutoModelForCausalLM, AutoModel, AutoModelForSequenceClassification\n",
    "import json\n",
    "import os\n",
    "import time\n",
    "import numpy as np\n",
    "\n",
    "os.environ[\"CUDA_VISIBLE_DEVICES\"] = \"4\"\n",
    "\n",
    "# Parameters\n",
    "model_name = 'meta-llama/Meta-Llama-3.1-8B'\n",
    "non_infringement_file = '/home/guangwei/LLM-COPYRIGHT/copyright_newVersion/test_division/extra_30.non_infringement.json'\n",
    "infringement_file = '/home/guangwei/LLM-COPYRIGHT/copyright_newVersion/test_division/extra_30.infringement.json'\n",
    "checkpoint_file = '/home/guangwei/LLM-COPYRIGHT/copyright_newVersion/models/train_input_reference_last_layer.pth'\n"
   ]
  },
  {
   "cell_type": "code",
   "execution_count": 2,
   "metadata": {},
   "outputs": [],
   "source": [
    "# Define CustumMLP for internal states train\n",
    "class CustomMLP(nn.Module):\n",
    "    def __init__(self, input_dim, hidden_dim):\n",
    "        super(CustomMLP, self).__init__()\n",
    "        self.down = nn.Linear(input_dim, hidden_dim)\n",
    "        self.gate = nn.Linear(input_dim, hidden_dim)\n",
    "        self.up = nn.Linear(hidden_dim, 1)\n",
    "        self.activation = nn.SiLU()\n",
    "\n",
    "    def forward(self, x):\n",
    "        down_output = self.down(x)\n",
    "        gate_output = self.gate(x)\n",
    "        gated_output = down_output * self.activation(gate_output)\n",
    "        return self.up(gated_output)"
   ]
  },
  {
   "cell_type": "code",
   "execution_count": 3,
   "metadata": {},
   "outputs": [],
   "source": [
    "# Extract hidden states/reference embeddings\n",
    "def extract_hidden_states(texts, model, tokenizer, batch_size=4):\n",
    "    device = torch.device(\"cuda\" if torch.cuda.is_available() else \"cpu\")\n",
    "    model.to(device)\n",
    "    model = nn.DataParallel(model)\n",
    "    hidden_states = []\n",
    "    \n",
    "    for i in tqdm(range(0, len(texts), batch_size), desc=\"Processing data batches\"):\n",
    "        batch_texts = texts[i:i + batch_size]\n",
    "        inputs = tokenizer(batch_texts, return_tensors=\"pt\", padding=True, truncation=True).to(device)\n",
    "        \n",
    "        with torch.no_grad():\n",
    "            outputs = model(**inputs)\n",
    "        hidden_states.append(outputs.hidden_states[-1].mean(dim=1).cpu().numpy())\n",
    "    \n",
    "    return np.vstack(hidden_states)\n",
    "\n",
    "\n",
    "def extract_reference_embeddings(references, model, tokenizer, batch_size=4):\n",
    "    device = torch.device(\"cuda\" if torch.cuda.is_available() else \"cpu\")\n",
    "    model.to(device)\n",
    "    model = nn.DataParallel(model)\n",
    "    embeddings = []\n",
    "    for i in tqdm(range(0, len(references), batch_size), desc=\"Processing references\"):\n",
    "        batch_references = references[i:i + batch_size]\n",
    "        inputs = tokenizer(batch_references, return_tensors=\"pt\", padding=True, truncation=True).to(device)\n",
    "        with torch.no_grad():\n",
    "            outputs = model(**inputs)\n",
    "        embeddings.append(outputs.pooler_output.cpu().numpy())\n",
    "    return np.vstack(embeddings)"
   ]
  },
  {
   "cell_type": "code",
   "execution_count": 4,
   "metadata": {},
   "outputs": [],
   "source": [
    "# load data for infringement & non infringement\n",
    "def load_data(non_infringement_file, infringement_file):\n",
    "    with open(non_infringement_file, 'r', encoding='utf-8') as file:\n",
    "        non_infringement_json_data = json.load(file)\n",
    "\n",
    "    non_infringement_outputs = [entry['input'] for entry in non_infringement_json_data]\n",
    "    non_infringement_references = [entry['reference'] for entry in non_infringement_json_data]\n",
    "    y_non_infringement = [1] * len(non_infringement_outputs)\n",
    "\n",
    "    with open(infringement_file, 'r', encoding='utf-8') as file:\n",
    "        infringement_json_data = json.load(file)\n",
    "\n",
    "    infringement_outputs = [entry['input'] for entry in infringement_json_data]\n",
    "    infringement_references = [entry['reference'] for entry in infringement_json_data]\n",
    "    y_infringement = [0] * len(infringement_outputs)\n",
    "\n",
    "    return non_infringement_outputs, non_infringement_references, y_non_infringement, infringement_outputs, infringement_references, y_infringement"
   ]
  },
  {
   "cell_type": "code",
   "execution_count": 5,
   "metadata": {},
   "outputs": [],
   "source": [
    "# Train for best model\n",
    "def train_model(X_train, y_train, X_test, y_test, input_dim, hidden_dim, epochs=500, lr=0.001, checkpoint_path=checkpoint_file):\n",
    "    custom_mlp = CustomMLP(input_dim, hidden_dim)\n",
    "    criterion = nn.BCEWithLogitsLoss()\n",
    "    optimizer = torch.optim.Adam(custom_mlp.parameters(), lr=lr)\n",
    "\n",
    "    X_train_tensor = torch.tensor(X_train, dtype=torch.float32)\n",
    "    y_train_tensor = torch.tensor(y_train, dtype=torch.float32).unsqueeze(1)\n",
    "\n",
    "    best_accuracy = -float('inf')\n",
    "    best_model_state = None\n",
    "    best_epoch = 0\n",
    "    losses = []\n",
    "    train_time = []\n",
    "\n",
    "    for epoch in tqdm(range(epochs), desc=\"Training Epochs\"):\n",
    "        tik = time.time()\n",
    "        custom_mlp.train()\n",
    "        optimizer.zero_grad()\n",
    "        outputs = custom_mlp(X_train_tensor)\n",
    "        loss = criterion(outputs, y_train_tensor)\n",
    "        loss.backward()\n",
    "        optimizer.step()\n",
    "        losses.append(loss.item())\n",
    "        tok = time.time()\n",
    "        train_time.append(tok-tik)\n",
    "        \n",
    "        if (epoch + 1) % 10 == 0:\n",
    "            print(f\"Epoch {epoch + 1}/{epochs}, Loss: {loss.item():.4f}\")\n",
    "            \n",
    "            custom_mlp.eval()\n",
    "            X_test_tensor = torch.tensor(X_test, dtype=torch.float32)\n",
    "            with torch.no_grad():\n",
    "                y_pred_logits = custom_mlp(X_test_tensor)\n",
    "                y_pred = (torch.sigmoid(y_pred_logits) > 0.5).float().numpy()\n",
    "            \n",
    "            accuracy = accuracy_score(y_test, y_pred)\n",
    "            print(f\"Test Accuracy at Epoch {epoch + 1}: {accuracy * 100:.2f}%\")\n",
    "            \n",
    "            report = classification_report(y_test, y_pred, target_names=[\"infringement\", \"non_infringement\"])\n",
    "            print(f\"Classification Report at Epoch {epoch + 1}:\\n{report}\")\n",
    "\n",
    "            if accuracy > best_accuracy:\n",
    "                best_accuracy = accuracy\n",
    "                best_model_state = custom_mlp.state_dict()\n",
    "                best_epoch = epoch + 1\n",
    "                torch.save(best_model_state, checkpoint_path)\n",
    "                print(f\"New best model saved with accuracy {best_accuracy * 100:.2f}% at epoch {best_epoch}\")\n",
    "                print(f\"Best Classification Report at Epoch {best_epoch}:\\n{report}\")\n",
    "\n",
    "    custom_mlp.load_state_dict(torch.load(checkpoint_path))\n",
    "\n",
    "    plt.figure(figsize=(10, 5))\n",
    "    plt.plot(losses, label='Training Loss')\n",
    "    plt.xlabel('Epoch')\n",
    "    plt.ylabel('Loss')\n",
    "    plt.title('Training Loss Curve')\n",
    "    plt.legend()\n",
    "    plt.show()\n",
    "\n",
    "    print(f\"Final Model Accuracy: {best_accuracy * 100:.2f}%\")\n",
    "    print(\"time:\",train_time)\n",
    "    print(\"meantime:\",np.mean(train_time))\n",
    "    return custom_mlp, losses, best_accuracy"
   ]
  },
  {
   "cell_type": "code",
   "execution_count": 6,
   "metadata": {},
   "outputs": [
    {
     "name": "stderr",
     "output_type": "stream",
     "text": [
      "/home/guangwei/miniconda3/envs/zdh/lib/python3.12/site-packages/transformers/generation/configuration_utils.py:774: UserWarning: `return_dict_in_generate` is NOT set to `True`, but `output_hidden_states` is. When `return_dict_in_generate` is not `True`, `output_hidden_states` is ignored.\n",
      "  warnings.warn(\n",
      "Loading checkpoint shards: 100%|██████████| 4/4 [00:03<00:00,  1.24it/s]\n"
     ]
    }
   ],
   "source": [
    "tokenizer = AutoTokenizer.from_pretrained(model_name, model_max_length=512)\n",
    "model = AutoModelForCausalLM.from_pretrained(model_name, output_hidden_states=True)\n",
    "tokenizer.pad_token = tokenizer.eos_token\n",
    "bert_tokenizer = AutoTokenizer.from_pretrained('google-bert/bert-base-uncased')\n",
    "bert_model = AutoModel.from_pretrained('google-bert/bert-base-uncased')\n",
    "bert_tokenizer.pad_token = tokenizer.eos_token\n",
    "\n",
    "non_infringement_outputs, non_infringement_references, y_non_infringement, infringement_outputs, infringement_references, y_infringement = load_data(\n",
    "    non_infringement_file, infringement_file\n",
    ")\n",
    "\n",
    "y_non_infringement = np.array(y_non_infringement)\n",
    "y_infringement = np.array(y_infringement)\n"
   ]
  },
  {
   "cell_type": "code",
   "execution_count": 7,
   "metadata": {},
   "outputs": [
    {
     "name": "stdout",
     "output_type": "stream",
     "text": [
      "Extracting hidden states for non_infringement texts...\n"
     ]
    },
    {
     "name": "stderr",
     "output_type": "stream",
     "text": [
      "Processing data batches: 100%|██████████| 232/232 [01:01<00:00,  3.75it/s]\n"
     ]
    },
    {
     "name": "stdout",
     "output_type": "stream",
     "text": [
      "Extracting reference embeddings for non_infringement texts...\n"
     ]
    },
    {
     "name": "stderr",
     "output_type": "stream",
     "text": [
      "Processing references: 100%|██████████| 232/232 [00:02<00:00, 94.39it/s] \n"
     ]
    },
    {
     "name": "stdout",
     "output_type": "stream",
     "text": [
      "Extracting hidden states for infringement texts...\n"
     ]
    },
    {
     "name": "stderr",
     "output_type": "stream",
     "text": [
      "Processing data batches: 100%|██████████| 243/243 [01:20<00:00,  3.04it/s]\n"
     ]
    },
    {
     "name": "stdout",
     "output_type": "stream",
     "text": [
      "Extracting reference embeddings for infringement texts...\n"
     ]
    },
    {
     "name": "stderr",
     "output_type": "stream",
     "text": [
      "Processing references: 100%|██████████| 243/243 [00:02<00:00, 107.48it/s]\n"
     ]
    }
   ],
   "source": [
    "print(\"Extracting hidden states for non_infringement texts...\")\n",
    "X_non_infringement = extract_hidden_states(non_infringement_outputs, model, tokenizer)\n",
    "print(\"Extracting reference embeddings for non_infringement texts...\")\n",
    "reference_embeddings_non_infringement = extract_reference_embeddings(non_infringement_references, bert_model, bert_tokenizer)\n",
    "X_non_infringement_combined = np.hstack([X_non_infringement, reference_embeddings_non_infringement])\n",
    "\n",
    "print(\"Extracting hidden states for infringement texts...\")\n",
    "X_infringement = extract_hidden_states(infringement_outputs, model, tokenizer)\n",
    "print(\"Extracting reference embeddings for infringement texts...\")\n",
    "reference_embeddings_infringement = extract_reference_embeddings(infringement_references, bert_model, bert_tokenizer)\n",
    "X_infringement_combined = np.hstack([X_infringement, reference_embeddings_infringement])"
   ]
  },
  {
   "cell_type": "code",
   "execution_count": 8,
   "metadata": {},
   "outputs": [
    {
     "name": "stdout",
     "output_type": "stream",
     "text": [
      "Data successfully split into training and test sets.\n"
     ]
    }
   ],
   "source": [
    "split_index_non_infringement = int(0.8 * len(X_non_infringement_combined))\n",
    "X_non_infringement_train = X_non_infringement_combined[:split_index_non_infringement]\n",
    "X_non_infringement_test = X_non_infringement_combined[split_index_non_infringement:]\n",
    "y_non_infringement_train = y_non_infringement[:split_index_non_infringement]\n",
    "y_non_infringement_test = y_non_infringement[split_index_non_infringement:]\n",
    "\n",
    "split_index_infringement = int(0.8 * len(X_infringement_combined))\n",
    "X_infringement_train = X_infringement_combined[:split_index_infringement]\n",
    "X_infringement_test = X_infringement_combined[split_index_infringement:]\n",
    "y_infringement_train = y_infringement[:split_index_infringement]\n",
    "y_infringement_test = y_infringement[split_index_infringement:]\n",
    "\n",
    "X_train = np.vstack((X_non_infringement_train, X_infringement_train))\n",
    "X_test = np.vstack((X_non_infringement_test, X_infringement_test))\n",
    "y_train = np.concatenate((y_non_infringement_train, y_infringement_train))\n",
    "y_test = np.concatenate((y_non_infringement_test, y_infringement_test))\n",
    "\n",
    "print(\"Data successfully split into training and test sets.\")"
   ]
  },
  {
   "cell_type": "code",
   "execution_count": 9,
   "metadata": {},
   "outputs": [
    {
     "name": "stdout",
     "output_type": "stream",
     "text": [
      "Training MLP model with input_dim=4864 and hidden_dim=256\n"
     ]
    },
    {
     "name": "stderr",
     "output_type": "stream",
     "text": [
      "Training Epochs:   0%|          | 0/500 [00:00<?, ?it/s]"
     ]
    },
    {
     "name": "stderr",
     "output_type": "stream",
     "text": [
      "Training Epochs:   2%|▏         | 12/500 [00:01<00:34, 13.98it/s]"
     ]
    },
    {
     "name": "stdout",
     "output_type": "stream",
     "text": [
      "Epoch 10/500, Loss: 0.5446\n",
      "Test Accuracy at Epoch 10: 53.68%\n",
      "Classification Report at Epoch 10:\n",
      "                  precision    recall  f1-score   support\n",
      "\n",
      "    infringement       0.53      0.84      0.65       194\n",
      "non_infringement       0.57      0.22      0.32       186\n",
      "\n",
      "        accuracy                           0.54       380\n",
      "       macro avg       0.55      0.53      0.48       380\n",
      "    weighted avg       0.55      0.54      0.49       380\n",
      "\n",
      "New best model saved with accuracy 53.68% at epoch 10\n",
      "Best Classification Report at Epoch 10:\n",
      "                  precision    recall  f1-score   support\n",
      "\n",
      "    infringement       0.53      0.84      0.65       194\n",
      "non_infringement       0.57      0.22      0.32       186\n",
      "\n",
      "        accuracy                           0.54       380\n",
      "       macro avg       0.55      0.53      0.48       380\n",
      "    weighted avg       0.55      0.54      0.49       380\n",
      "\n"
     ]
    },
    {
     "name": "stderr",
     "output_type": "stream",
     "text": [
      "Training Epochs:   5%|▍         | 24/500 [00:01<00:24, 19.39it/s]"
     ]
    },
    {
     "name": "stdout",
     "output_type": "stream",
     "text": [
      "Epoch 20/500, Loss: 0.4006\n",
      "Test Accuracy at Epoch 20: 68.42%\n",
      "Classification Report at Epoch 20:\n",
      "                  precision    recall  f1-score   support\n",
      "\n",
      "    infringement       0.78      0.53      0.63       194\n",
      "non_infringement       0.63      0.85      0.72       186\n",
      "\n",
      "        accuracy                           0.68       380\n",
      "       macro avg       0.71      0.69      0.68       380\n",
      "    weighted avg       0.71      0.68      0.68       380\n",
      "\n",
      "New best model saved with accuracy 68.42% at epoch 20\n",
      "Best Classification Report at Epoch 20:\n",
      "                  precision    recall  f1-score   support\n",
      "\n",
      "    infringement       0.78      0.53      0.63       194\n",
      "non_infringement       0.63      0.85      0.72       186\n",
      "\n",
      "        accuracy                           0.68       380\n",
      "       macro avg       0.71      0.69      0.68       380\n",
      "    weighted avg       0.71      0.68      0.68       380\n",
      "\n"
     ]
    },
    {
     "name": "stderr",
     "output_type": "stream",
     "text": [
      "Training Epochs:   7%|▋         | 33/500 [00:02<00:20, 22.93it/s]"
     ]
    },
    {
     "name": "stdout",
     "output_type": "stream",
     "text": [
      "Epoch 30/500, Loss: 0.2971\n",
      "Test Accuracy at Epoch 30: 74.74%\n",
      "Classification Report at Epoch 30:\n",
      "                  precision    recall  f1-score   support\n",
      "\n",
      "    infringement       0.84      0.62      0.72       194\n",
      "non_infringement       0.69      0.88      0.77       186\n",
      "\n",
      "        accuracy                           0.75       380\n",
      "       macro avg       0.77      0.75      0.74       380\n",
      "    weighted avg       0.77      0.75      0.74       380\n",
      "\n",
      "New best model saved with accuracy 74.74% at epoch 30\n",
      "Best Classification Report at Epoch 30:\n",
      "                  precision    recall  f1-score   support\n",
      "\n",
      "    infringement       0.84      0.62      0.72       194\n",
      "non_infringement       0.69      0.88      0.77       186\n",
      "\n",
      "        accuracy                           0.75       380\n",
      "       macro avg       0.77      0.75      0.74       380\n",
      "    weighted avg       0.77      0.75      0.74       380\n",
      "\n"
     ]
    },
    {
     "name": "stderr",
     "output_type": "stream",
     "text": [
      "Training Epochs:   8%|▊         | 39/500 [00:02<00:21, 21.14it/s]"
     ]
    },
    {
     "name": "stdout",
     "output_type": "stream",
     "text": [
      "Epoch 40/500, Loss: 0.2157\n",
      "Test Accuracy at Epoch 40: 77.37%\n",
      "Classification Report at Epoch 40:\n",
      "                  precision    recall  f1-score   support\n",
      "\n",
      "    infringement       0.86      0.67      0.75       194\n",
      "non_infringement       0.72      0.88      0.79       186\n",
      "\n",
      "        accuracy                           0.77       380\n",
      "       macro avg       0.79      0.78      0.77       380\n",
      "    weighted avg       0.79      0.77      0.77       380\n",
      "\n",
      "New best model saved with accuracy 77.37% at epoch 40\n",
      "Best Classification Report at Epoch 40:\n",
      "                  precision    recall  f1-score   support\n",
      "\n",
      "    infringement       0.86      0.67      0.75       194\n",
      "non_infringement       0.72      0.88      0.79       186\n",
      "\n",
      "        accuracy                           0.77       380\n",
      "       macro avg       0.79      0.78      0.77       380\n",
      "    weighted avg       0.79      0.77      0.77       380\n",
      "\n"
     ]
    },
    {
     "name": "stderr",
     "output_type": "stream",
     "text": [
      "Training Epochs:  11%|█         | 53/500 [00:03<00:23, 18.92it/s]"
     ]
    },
    {
     "name": "stdout",
     "output_type": "stream",
     "text": [
      "Epoch 50/500, Loss: 0.1561\n",
      "Test Accuracy at Epoch 50: 78.16%\n",
      "Classification Report at Epoch 50:\n",
      "                  precision    recall  f1-score   support\n",
      "\n",
      "    infringement       0.81      0.74      0.78       194\n",
      "non_infringement       0.75      0.82      0.79       186\n",
      "\n",
      "        accuracy                           0.78       380\n",
      "       macro avg       0.78      0.78      0.78       380\n",
      "    weighted avg       0.78      0.78      0.78       380\n",
      "\n",
      "New best model saved with accuracy 78.16% at epoch 50\n",
      "Best Classification Report at Epoch 50:\n",
      "                  precision    recall  f1-score   support\n",
      "\n",
      "    infringement       0.81      0.74      0.78       194\n",
      "non_infringement       0.75      0.82      0.79       186\n",
      "\n",
      "        accuracy                           0.78       380\n",
      "       macro avg       0.78      0.78      0.78       380\n",
      "    weighted avg       0.78      0.78      0.78       380\n",
      "\n"
     ]
    },
    {
     "name": "stderr",
     "output_type": "stream",
     "text": [
      "Training Epochs:  12%|█▏        | 60/500 [00:03<00:33, 13.19it/s]"
     ]
    },
    {
     "name": "stdout",
     "output_type": "stream",
     "text": [
      "Epoch 60/500, Loss: 0.1323\n",
      "Test Accuracy at Epoch 60: 78.95%\n",
      "Classification Report at Epoch 60:\n",
      "                  precision    recall  f1-score   support\n",
      "\n",
      "    infringement       0.83      0.74      0.78       194\n",
      "non_infringement       0.76      0.84      0.80       186\n",
      "\n",
      "        accuracy                           0.79       380\n",
      "       macro avg       0.79      0.79      0.79       380\n",
      "    weighted avg       0.79      0.79      0.79       380\n",
      "\n",
      "New best model saved with accuracy 78.95% at epoch 60\n",
      "Best Classification Report at Epoch 60:\n",
      "                  precision    recall  f1-score   support\n",
      "\n",
      "    infringement       0.83      0.74      0.78       194\n",
      "non_infringement       0.76      0.84      0.80       186\n",
      "\n",
      "        accuracy                           0.79       380\n",
      "       macro avg       0.79      0.79      0.79       380\n",
      "    weighted avg       0.79      0.79      0.79       380\n",
      "\n"
     ]
    },
    {
     "name": "stderr",
     "output_type": "stream",
     "text": [
      "Training Epochs:  14%|█▍        | 72/500 [00:04<00:28, 14.88it/s]"
     ]
    },
    {
     "name": "stdout",
     "output_type": "stream",
     "text": [
      "Epoch 70/500, Loss: 0.1169\n",
      "Test Accuracy at Epoch 70: 77.37%\n",
      "Classification Report at Epoch 70:\n",
      "                  precision    recall  f1-score   support\n",
      "\n",
      "    infringement       0.85      0.68      0.75       194\n",
      "non_infringement       0.72      0.88      0.79       186\n",
      "\n",
      "        accuracy                           0.77       380\n",
      "       macro avg       0.79      0.78      0.77       380\n",
      "    weighted avg       0.79      0.77      0.77       380\n",
      "\n"
     ]
    },
    {
     "name": "stderr",
     "output_type": "stream",
     "text": [
      "Training Epochs:  16%|█▌        | 81/500 [00:05<00:26, 15.57it/s]"
     ]
    },
    {
     "name": "stdout",
     "output_type": "stream",
     "text": [
      "Epoch 80/500, Loss: 0.1025\n",
      "Test Accuracy at Epoch 80: 76.05%\n",
      "Classification Report at Epoch 80:\n",
      "                  precision    recall  f1-score   support\n",
      "\n",
      "    infringement       0.86      0.64      0.73       194\n",
      "non_infringement       0.70      0.89      0.78       186\n",
      "\n",
      "        accuracy                           0.76       380\n",
      "       macro avg       0.78      0.76      0.76       380\n",
      "    weighted avg       0.78      0.76      0.76       380\n",
      "\n"
     ]
    },
    {
     "name": "stderr",
     "output_type": "stream",
     "text": [
      "Training Epochs:  19%|█▊        | 93/500 [00:05<00:19, 20.82it/s]"
     ]
    },
    {
     "name": "stdout",
     "output_type": "stream",
     "text": [
      "Epoch 90/500, Loss: 0.0960\n",
      "Test Accuracy at Epoch 90: 75.53%\n",
      "Classification Report at Epoch 90:\n",
      "                  precision    recall  f1-score   support\n",
      "\n",
      "    infringement       0.83      0.66      0.73       194\n",
      "non_infringement       0.71      0.85      0.77       186\n",
      "\n",
      "        accuracy                           0.76       380\n",
      "       macro avg       0.77      0.76      0.75       380\n",
      "    weighted avg       0.77      0.76      0.75       380\n",
      "\n"
     ]
    },
    {
     "name": "stderr",
     "output_type": "stream",
     "text": [
      "Training Epochs:  20%|██        | 102/500 [00:06<00:22, 17.61it/s]"
     ]
    },
    {
     "name": "stdout",
     "output_type": "stream",
     "text": [
      "Epoch 100/500, Loss: 0.0913\n",
      "Test Accuracy at Epoch 100: 76.32%\n",
      "Classification Report at Epoch 100:\n",
      "                  precision    recall  f1-score   support\n",
      "\n",
      "    infringement       0.85      0.65      0.74       194\n",
      "non_infringement       0.71      0.88      0.78       186\n",
      "\n",
      "        accuracy                           0.76       380\n",
      "       macro avg       0.78      0.77      0.76       380\n",
      "    weighted avg       0.78      0.76      0.76       380\n",
      "\n"
     ]
    },
    {
     "name": "stderr",
     "output_type": "stream",
     "text": [
      "Training Epochs:  22%|██▏       | 111/500 [00:06<00:20, 19.33it/s]"
     ]
    },
    {
     "name": "stdout",
     "output_type": "stream",
     "text": [
      "Epoch 110/500, Loss: 0.0881\n",
      "Test Accuracy at Epoch 110: 76.32%\n",
      "Classification Report at Epoch 110:\n",
      "                  precision    recall  f1-score   support\n",
      "\n",
      "    infringement       0.85      0.65      0.74       194\n",
      "non_infringement       0.71      0.88      0.78       186\n",
      "\n",
      "        accuracy                           0.76       380\n",
      "       macro avg       0.78      0.77      0.76       380\n",
      "    weighted avg       0.78      0.76      0.76       380\n",
      "\n"
     ]
    },
    {
     "name": "stderr",
     "output_type": "stream",
     "text": [
      "Training Epochs:  24%|██▍       | 122/500 [00:07<00:19, 19.26it/s]"
     ]
    },
    {
     "name": "stdout",
     "output_type": "stream",
     "text": [
      "Epoch 120/500, Loss: 0.0856\n",
      "Test Accuracy at Epoch 120: 76.05%\n",
      "Classification Report at Epoch 120:\n",
      "                  precision    recall  f1-score   support\n",
      "\n",
      "    infringement       0.85      0.65      0.73       194\n",
      "non_infringement       0.71      0.88      0.78       186\n",
      "\n",
      "        accuracy                           0.76       380\n",
      "       macro avg       0.78      0.76      0.76       380\n",
      "    weighted avg       0.78      0.76      0.76       380\n",
      "\n"
     ]
    },
    {
     "name": "stderr",
     "output_type": "stream",
     "text": [
      "Training Epochs:  27%|██▋       | 134/500 [00:07<00:17, 20.67it/s]"
     ]
    },
    {
     "name": "stdout",
     "output_type": "stream",
     "text": [
      "Epoch 130/500, Loss: 0.0844\n",
      "Test Accuracy at Epoch 130: 75.53%\n",
      "Classification Report at Epoch 130:\n",
      "                  precision    recall  f1-score   support\n",
      "\n",
      "    infringement       0.83      0.66      0.73       194\n",
      "non_infringement       0.71      0.85      0.77       186\n",
      "\n",
      "        accuracy                           0.76       380\n",
      "       macro avg       0.77      0.76      0.75       380\n",
      "    weighted avg       0.77      0.76      0.75       380\n",
      "\n"
     ]
    },
    {
     "name": "stderr",
     "output_type": "stream",
     "text": [
      "Training Epochs:  29%|██▊       | 143/500 [00:08<00:17, 20.07it/s]"
     ]
    },
    {
     "name": "stdout",
     "output_type": "stream",
     "text": [
      "Epoch 140/500, Loss: 0.0950\n",
      "Test Accuracy at Epoch 140: 75.26%\n",
      "Classification Report at Epoch 140:\n",
      "                  precision    recall  f1-score   support\n",
      "\n",
      "    infringement       0.83      0.64      0.73       194\n",
      "non_infringement       0.70      0.87      0.77       186\n",
      "\n",
      "        accuracy                           0.75       380\n",
      "       macro avg       0.77      0.75      0.75       380\n",
      "    weighted avg       0.77      0.75      0.75       380\n",
      "\n"
     ]
    },
    {
     "name": "stderr",
     "output_type": "stream",
     "text": [
      "Training Epochs:  31%|███       | 153/500 [00:08<00:18, 18.99it/s]"
     ]
    },
    {
     "name": "stdout",
     "output_type": "stream",
     "text": [
      "Epoch 150/500, Loss: 0.0850\n",
      "Test Accuracy at Epoch 150: 74.74%\n",
      "Classification Report at Epoch 150:\n",
      "                  precision    recall  f1-score   support\n",
      "\n",
      "    infringement       0.84      0.63      0.72       194\n",
      "non_infringement       0.69      0.87      0.77       186\n",
      "\n",
      "        accuracy                           0.75       380\n",
      "       macro avg       0.76      0.75      0.74       380\n",
      "    weighted avg       0.77      0.75      0.74       380\n",
      "\n"
     ]
    },
    {
     "name": "stderr",
     "output_type": "stream",
     "text": [
      "Training Epochs:  32%|███▏      | 162/500 [00:09<00:18, 18.44it/s]"
     ]
    },
    {
     "name": "stdout",
     "output_type": "stream",
     "text": [
      "Epoch 160/500, Loss: 0.0812\n",
      "Test Accuracy at Epoch 160: 74.74%\n",
      "Classification Report at Epoch 160:\n",
      "                  precision    recall  f1-score   support\n",
      "\n",
      "    infringement       0.84      0.63      0.72       194\n",
      "non_infringement       0.69      0.87      0.77       186\n",
      "\n",
      "        accuracy                           0.75       380\n",
      "       macro avg       0.76      0.75      0.74       380\n",
      "    weighted avg       0.77      0.75      0.74       380\n",
      "\n"
     ]
    },
    {
     "name": "stderr",
     "output_type": "stream",
     "text": [
      "Training Epochs:  35%|███▍      | 173/500 [00:09<00:16, 20.16it/s]"
     ]
    },
    {
     "name": "stdout",
     "output_type": "stream",
     "text": [
      "Epoch 170/500, Loss: 0.0799\n",
      "Test Accuracy at Epoch 170: 75.00%\n",
      "Classification Report at Epoch 170:\n",
      "                  precision    recall  f1-score   support\n",
      "\n",
      "    infringement       0.84      0.63      0.72       194\n",
      "non_infringement       0.69      0.88      0.77       186\n",
      "\n",
      "        accuracy                           0.75       380\n",
      "       macro avg       0.77      0.75      0.75       380\n",
      "    weighted avg       0.77      0.75      0.75       380\n",
      "\n"
     ]
    },
    {
     "name": "stderr",
     "output_type": "stream",
     "text": [
      "Training Epochs:  37%|███▋      | 183/500 [00:10<00:17, 18.38it/s]"
     ]
    },
    {
     "name": "stdout",
     "output_type": "stream",
     "text": [
      "Epoch 180/500, Loss: 0.0787\n",
      "Test Accuracy at Epoch 180: 75.26%\n",
      "Classification Report at Epoch 180:\n",
      "                  precision    recall  f1-score   support\n",
      "\n",
      "    infringement       0.84      0.63      0.72       194\n",
      "non_infringement       0.70      0.88      0.78       186\n",
      "\n",
      "        accuracy                           0.75       380\n",
      "       macro avg       0.77      0.76      0.75       380\n",
      "    weighted avg       0.77      0.75      0.75       380\n",
      "\n"
     ]
    },
    {
     "name": "stderr",
     "output_type": "stream",
     "text": [
      "Training Epochs:  38%|███▊      | 192/500 [00:10<00:16, 18.96it/s]"
     ]
    },
    {
     "name": "stdout",
     "output_type": "stream",
     "text": [
      "Epoch 190/500, Loss: 0.0779\n",
      "Test Accuracy at Epoch 190: 75.26%\n",
      "Classification Report at Epoch 190:\n",
      "                  precision    recall  f1-score   support\n",
      "\n",
      "    infringement       0.84      0.63      0.72       194\n",
      "non_infringement       0.70      0.88      0.78       186\n",
      "\n",
      "        accuracy                           0.75       380\n",
      "       macro avg       0.77      0.76      0.75       380\n",
      "    weighted avg       0.77      0.75      0.75       380\n",
      "\n"
     ]
    },
    {
     "name": "stderr",
     "output_type": "stream",
     "text": [
      "Training Epochs:  40%|████      | 202/500 [00:11<00:17, 17.31it/s]"
     ]
    },
    {
     "name": "stdout",
     "output_type": "stream",
     "text": [
      "Epoch 200/500, Loss: 0.0773\n",
      "Test Accuracy at Epoch 200: 75.53%\n",
      "Classification Report at Epoch 200:\n",
      "                  precision    recall  f1-score   support\n",
      "\n",
      "    infringement       0.85      0.63      0.73       194\n",
      "non_infringement       0.70      0.88      0.78       186\n",
      "\n",
      "        accuracy                           0.76       380\n",
      "       macro avg       0.77      0.76      0.75       380\n",
      "    weighted avg       0.77      0.76      0.75       380\n",
      "\n"
     ]
    },
    {
     "name": "stderr",
     "output_type": "stream",
     "text": [
      "Training Epochs:  42%|████▏     | 212/500 [00:12<00:21, 13.65it/s]"
     ]
    },
    {
     "name": "stdout",
     "output_type": "stream",
     "text": [
      "Epoch 210/500, Loss: 0.0768\n",
      "Test Accuracy at Epoch 210: 75.26%\n",
      "Classification Report at Epoch 210:\n",
      "                  precision    recall  f1-score   support\n",
      "\n",
      "    infringement       0.85      0.63      0.72       194\n",
      "non_infringement       0.69      0.88      0.78       186\n",
      "\n",
      "        accuracy                           0.75       380\n",
      "       macro avg       0.77      0.76      0.75       380\n",
      "    weighted avg       0.77      0.75      0.75       380\n",
      "\n"
     ]
    },
    {
     "name": "stderr",
     "output_type": "stream",
     "text": [
      "Training Epochs:  44%|████▍     | 222/500 [00:12<00:18, 15.19it/s]"
     ]
    },
    {
     "name": "stdout",
     "output_type": "stream",
     "text": [
      "Epoch 220/500, Loss: 0.0824\n",
      "Test Accuracy at Epoch 220: 75.00%\n",
      "Classification Report at Epoch 220:\n",
      "                  precision    recall  f1-score   support\n",
      "\n",
      "    infringement       0.84      0.63      0.72       194\n",
      "non_infringement       0.69      0.88      0.77       186\n",
      "\n",
      "        accuracy                           0.75       380\n",
      "       macro avg       0.77      0.75      0.75       380\n",
      "    weighted avg       0.77      0.75      0.75       380\n",
      "\n"
     ]
    },
    {
     "name": "stderr",
     "output_type": "stream",
     "text": [
      "Training Epochs:  47%|████▋     | 237/500 [00:13<00:08, 29.27it/s]"
     ]
    },
    {
     "name": "stdout",
     "output_type": "stream",
     "text": [
      "Epoch 230/500, Loss: 0.0792\n",
      "Test Accuracy at Epoch 230: 75.79%\n",
      "Classification Report at Epoch 230:\n",
      "                  precision    recall  f1-score   support\n",
      "\n",
      "    infringement       0.84      0.64      0.73       194\n",
      "non_infringement       0.70      0.88      0.78       186\n",
      "\n",
      "        accuracy                           0.76       380\n",
      "       macro avg       0.77      0.76      0.76       380\n",
      "    weighted avg       0.78      0.76      0.75       380\n",
      "\n"
     ]
    },
    {
     "name": "stderr",
     "output_type": "stream",
     "text": [
      "Training Epochs:  49%|████▉     | 245/500 [00:13<00:08, 30.71it/s]"
     ]
    },
    {
     "name": "stdout",
     "output_type": "stream",
     "text": [
      "Epoch 240/500, Loss: 0.0770\n",
      "Test Accuracy at Epoch 240: 75.53%\n",
      "Classification Report at Epoch 240:\n",
      "                  precision    recall  f1-score   support\n",
      "\n",
      "    infringement       0.85      0.63      0.73       194\n",
      "non_infringement       0.70      0.88      0.78       186\n",
      "\n",
      "        accuracy                           0.76       380\n",
      "       macro avg       0.77      0.76      0.75       380\n",
      "    weighted avg       0.77      0.76      0.75       380\n",
      "\n"
     ]
    },
    {
     "name": "stderr",
     "output_type": "stream",
     "text": [
      "Training Epochs:  51%|█████     | 253/500 [00:13<00:07, 31.05it/s]"
     ]
    },
    {
     "name": "stdout",
     "output_type": "stream",
     "text": [
      "Epoch 250/500, Loss: 0.0760\n",
      "Test Accuracy at Epoch 250: 75.53%\n",
      "Classification Report at Epoch 250:\n",
      "                  precision    recall  f1-score   support\n",
      "\n",
      "    infringement       0.85      0.63      0.73       194\n",
      "non_infringement       0.70      0.88      0.78       186\n",
      "\n",
      "        accuracy                           0.76       380\n",
      "       macro avg       0.77      0.76      0.75       380\n",
      "    weighted avg       0.77      0.76      0.75       380\n",
      "\n"
     ]
    },
    {
     "name": "stderr",
     "output_type": "stream",
     "text": [
      "Training Epochs:  53%|█████▎    | 263/500 [00:14<00:08, 27.13it/s]"
     ]
    },
    {
     "name": "stdout",
     "output_type": "stream",
     "text": [
      "Epoch 260/500, Loss: 0.0756\n",
      "Test Accuracy at Epoch 260: 75.26%\n",
      "Classification Report at Epoch 260:\n",
      "                  precision    recall  f1-score   support\n",
      "\n",
      "    infringement       0.85      0.63      0.72       194\n",
      "non_infringement       0.69      0.88      0.78       186\n",
      "\n",
      "        accuracy                           0.75       380\n",
      "       macro avg       0.77      0.76      0.75       380\n",
      "    weighted avg       0.77      0.75      0.75       380\n",
      "\n"
     ]
    },
    {
     "name": "stderr",
     "output_type": "stream",
     "text": [
      "Training Epochs:  54%|█████▍    | 272/500 [00:14<00:08, 26.18it/s]"
     ]
    },
    {
     "name": "stdout",
     "output_type": "stream",
     "text": [
      "Epoch 270/500, Loss: 0.0754\n",
      "Test Accuracy at Epoch 270: 75.53%\n",
      "Classification Report at Epoch 270:\n",
      "                  precision    recall  f1-score   support\n",
      "\n",
      "    infringement       0.85      0.63      0.73       194\n",
      "non_infringement       0.70      0.88      0.78       186\n",
      "\n",
      "        accuracy                           0.76       380\n",
      "       macro avg       0.77      0.76      0.75       380\n",
      "    weighted avg       0.77      0.76      0.75       380\n",
      "\n"
     ]
    },
    {
     "name": "stderr",
     "output_type": "stream",
     "text": [
      "Training Epochs:  56%|█████▌    | 281/500 [00:15<00:10, 21.71it/s]"
     ]
    },
    {
     "name": "stdout",
     "output_type": "stream",
     "text": [
      "Epoch 280/500, Loss: 0.0752\n",
      "Test Accuracy at Epoch 280: 75.53%\n",
      "Classification Report at Epoch 280:\n",
      "                  precision    recall  f1-score   support\n",
      "\n",
      "    infringement       0.85      0.63      0.73       194\n",
      "non_infringement       0.70      0.88      0.78       186\n",
      "\n",
      "        accuracy                           0.76       380\n",
      "       macro avg       0.77      0.76      0.75       380\n",
      "    weighted avg       0.77      0.76      0.75       380\n",
      "\n"
     ]
    },
    {
     "name": "stderr",
     "output_type": "stream",
     "text": [
      "Training Epochs:  59%|█████▊    | 293/500 [00:15<00:10, 20.05it/s]"
     ]
    },
    {
     "name": "stdout",
     "output_type": "stream",
     "text": [
      "Epoch 290/500, Loss: 0.0750\n",
      "Test Accuracy at Epoch 290: 75.53%\n",
      "Classification Report at Epoch 290:\n",
      "                  precision    recall  f1-score   support\n",
      "\n",
      "    infringement       0.85      0.63      0.73       194\n",
      "non_infringement       0.70      0.88      0.78       186\n",
      "\n",
      "        accuracy                           0.76       380\n",
      "       macro avg       0.77      0.76      0.75       380\n",
      "    weighted avg       0.77      0.76      0.75       380\n",
      "\n"
     ]
    },
    {
     "name": "stderr",
     "output_type": "stream",
     "text": [
      "Training Epochs:  61%|██████    | 303/500 [00:16<00:10, 18.12it/s]"
     ]
    },
    {
     "name": "stdout",
     "output_type": "stream",
     "text": [
      "Epoch 300/500, Loss: 0.0762\n",
      "Test Accuracy at Epoch 300: 75.26%\n",
      "Classification Report at Epoch 300:\n",
      "                  precision    recall  f1-score   support\n",
      "\n",
      "    infringement       0.85      0.63      0.72       194\n",
      "non_infringement       0.69      0.88      0.78       186\n",
      "\n",
      "        accuracy                           0.75       380\n",
      "       macro avg       0.77      0.76      0.75       380\n",
      "    weighted avg       0.77      0.75      0.75       380\n",
      "\n"
     ]
    },
    {
     "name": "stderr",
     "output_type": "stream",
     "text": [
      "Training Epochs:  62%|██████▏   | 312/500 [00:16<00:11, 16.61it/s]"
     ]
    },
    {
     "name": "stdout",
     "output_type": "stream",
     "text": [
      "Epoch 310/500, Loss: 0.0772\n",
      "Test Accuracy at Epoch 310: 74.74%\n",
      "Classification Report at Epoch 310:\n",
      "                  precision    recall  f1-score   support\n",
      "\n",
      "    infringement       0.86      0.61      0.71       194\n",
      "non_infringement       0.69      0.89      0.78       186\n",
      "\n",
      "        accuracy                           0.75       380\n",
      "       macro avg       0.77      0.75      0.74       380\n",
      "    weighted avg       0.77      0.75      0.74       380\n",
      "\n"
     ]
    },
    {
     "name": "stderr",
     "output_type": "stream",
     "text": [
      "Training Epochs:  65%|██████▍   | 324/500 [00:17<00:08, 19.79it/s]"
     ]
    },
    {
     "name": "stdout",
     "output_type": "stream",
     "text": [
      "Epoch 320/500, Loss: 0.0759\n",
      "Test Accuracy at Epoch 320: 77.11%\n",
      "Classification Report at Epoch 320:\n",
      "                  precision    recall  f1-score   support\n",
      "\n",
      "    infringement       0.85      0.66      0.75       194\n",
      "non_infringement       0.72      0.88      0.79       186\n",
      "\n",
      "        accuracy                           0.77       380\n",
      "       macro avg       0.79      0.77      0.77       380\n",
      "    weighted avg       0.79      0.77      0.77       380\n",
      "\n"
     ]
    },
    {
     "name": "stderr",
     "output_type": "stream",
     "text": [
      "Training Epochs:  66%|██████▌   | 331/500 [00:17<00:09, 17.74it/s]"
     ]
    },
    {
     "name": "stdout",
     "output_type": "stream",
     "text": [
      "Epoch 330/500, Loss: 0.0751\n",
      "Test Accuracy at Epoch 330: 77.37%\n",
      "Classification Report at Epoch 330:\n",
      "                  precision    recall  f1-score   support\n",
      "\n",
      "    infringement       0.86      0.67      0.75       194\n",
      "non_infringement       0.72      0.88      0.79       186\n",
      "\n",
      "        accuracy                           0.77       380\n",
      "       macro avg       0.79      0.78      0.77       380\n",
      "    weighted avg       0.79      0.77      0.77       380\n",
      "\n"
     ]
    },
    {
     "name": "stderr",
     "output_type": "stream",
     "text": [
      "Training Epochs:  68%|██████▊   | 342/500 [00:18<00:09, 17.23it/s]"
     ]
    },
    {
     "name": "stdout",
     "output_type": "stream",
     "text": [
      "Epoch 340/500, Loss: 0.0748\n",
      "Test Accuracy at Epoch 340: 77.37%\n",
      "Classification Report at Epoch 340:\n",
      "                  precision    recall  f1-score   support\n",
      "\n",
      "    infringement       0.86      0.66      0.75       194\n",
      "non_infringement       0.72      0.89      0.79       186\n",
      "\n",
      "        accuracy                           0.77       380\n",
      "       macro avg       0.79      0.78      0.77       380\n",
      "    weighted avg       0.79      0.77      0.77       380\n",
      "\n"
     ]
    },
    {
     "name": "stderr",
     "output_type": "stream",
     "text": [
      "Training Epochs:  70%|███████   | 351/500 [00:18<00:08, 17.59it/s]"
     ]
    },
    {
     "name": "stdout",
     "output_type": "stream",
     "text": [
      "Epoch 350/500, Loss: 0.0746\n",
      "Test Accuracy at Epoch 350: 76.84%\n",
      "Classification Report at Epoch 350:\n",
      "                  precision    recall  f1-score   support\n",
      "\n",
      "    infringement       0.86      0.65      0.74       194\n",
      "non_infringement       0.71      0.89      0.79       186\n",
      "\n",
      "        accuracy                           0.77       380\n",
      "       macro avg       0.78      0.77      0.77       380\n",
      "    weighted avg       0.79      0.77      0.77       380\n",
      "\n"
     ]
    },
    {
     "name": "stderr",
     "output_type": "stream",
     "text": [
      "Training Epochs:  73%|███████▎  | 363/500 [00:19<00:07, 17.93it/s]"
     ]
    },
    {
     "name": "stdout",
     "output_type": "stream",
     "text": [
      "Epoch 360/500, Loss: 0.0745\n",
      "Test Accuracy at Epoch 360: 77.37%\n",
      "Classification Report at Epoch 360:\n",
      "                  precision    recall  f1-score   support\n",
      "\n",
      "    infringement       0.86      0.66      0.75       194\n",
      "non_infringement       0.72      0.89      0.79       186\n",
      "\n",
      "        accuracy                           0.77       380\n",
      "       macro avg       0.79      0.78      0.77       380\n",
      "    weighted avg       0.79      0.77      0.77       380\n",
      "\n"
     ]
    },
    {
     "name": "stderr",
     "output_type": "stream",
     "text": [
      "Training Epochs:  75%|███████▍  | 373/500 [00:20<00:06, 19.08it/s]"
     ]
    },
    {
     "name": "stdout",
     "output_type": "stream",
     "text": [
      "Epoch 370/500, Loss: 0.0744\n",
      "Test Accuracy at Epoch 370: 77.37%\n",
      "Classification Report at Epoch 370:\n",
      "                  precision    recall  f1-score   support\n",
      "\n",
      "    infringement       0.86      0.66      0.75       194\n",
      "non_infringement       0.72      0.89      0.79       186\n",
      "\n",
      "        accuracy                           0.77       380\n",
      "       macro avg       0.79      0.78      0.77       380\n",
      "    weighted avg       0.79      0.77      0.77       380\n",
      "\n"
     ]
    },
    {
     "name": "stderr",
     "output_type": "stream",
     "text": [
      "Training Epochs:  76%|███████▌  | 381/500 [00:20<00:06, 18.64it/s]"
     ]
    },
    {
     "name": "stdout",
     "output_type": "stream",
     "text": [
      "Epoch 380/500, Loss: 0.0769\n",
      "Test Accuracy at Epoch 380: 77.89%\n",
      "Classification Report at Epoch 380:\n",
      "                  precision    recall  f1-score   support\n",
      "\n",
      "    infringement       0.86      0.68      0.76       194\n",
      "non_infringement       0.73      0.88      0.80       186\n",
      "\n",
      "        accuracy                           0.78       380\n",
      "       macro avg       0.79      0.78      0.78       380\n",
      "    weighted avg       0.79      0.78      0.78       380\n",
      "\n"
     ]
    },
    {
     "name": "stderr",
     "output_type": "stream",
     "text": [
      "Training Epochs:  79%|███████▊  | 393/500 [00:21<00:05, 19.25it/s]"
     ]
    },
    {
     "name": "stdout",
     "output_type": "stream",
     "text": [
      "Epoch 390/500, Loss: 0.0761\n",
      "Test Accuracy at Epoch 390: 77.11%\n",
      "Classification Report at Epoch 390:\n",
      "                  precision    recall  f1-score   support\n",
      "\n",
      "    infringement       0.86      0.65      0.74       194\n",
      "non_infringement       0.71      0.89      0.79       186\n",
      "\n",
      "        accuracy                           0.77       380\n",
      "       macro avg       0.79      0.77      0.77       380\n",
      "    weighted avg       0.79      0.77      0.77       380\n",
      "\n"
     ]
    },
    {
     "name": "stderr",
     "output_type": "stream",
     "text": [
      "Training Epochs:  81%|████████  | 403/500 [00:21<00:05, 18.24it/s]"
     ]
    },
    {
     "name": "stdout",
     "output_type": "stream",
     "text": [
      "Epoch 400/500, Loss: 0.0748\n",
      "Test Accuracy at Epoch 400: 77.11%\n",
      "Classification Report at Epoch 400:\n",
      "                  precision    recall  f1-score   support\n",
      "\n",
      "    infringement       0.85      0.66      0.75       194\n",
      "non_infringement       0.72      0.88      0.79       186\n",
      "\n",
      "        accuracy                           0.77       380\n",
      "       macro avg       0.79      0.77      0.77       380\n",
      "    weighted avg       0.79      0.77      0.77       380\n",
      "\n"
     ]
    },
    {
     "name": "stderr",
     "output_type": "stream",
     "text": [
      "Training Epochs:  83%|████████▎ | 413/500 [00:22<00:04, 19.78it/s]"
     ]
    },
    {
     "name": "stdout",
     "output_type": "stream",
     "text": [
      "Epoch 410/500, Loss: 0.0744\n",
      "Test Accuracy at Epoch 410: 77.11%\n",
      "Classification Report at Epoch 410:\n",
      "                  precision    recall  f1-score   support\n",
      "\n",
      "    infringement       0.85      0.66      0.75       194\n",
      "non_infringement       0.72      0.88      0.79       186\n",
      "\n",
      "        accuracy                           0.77       380\n",
      "       macro avg       0.79      0.77      0.77       380\n",
      "    weighted avg       0.79      0.77      0.77       380\n",
      "\n"
     ]
    },
    {
     "name": "stderr",
     "output_type": "stream",
     "text": [
      "Training Epochs:  84%|████████▍ | 421/500 [00:22<00:04, 18.78it/s]"
     ]
    },
    {
     "name": "stdout",
     "output_type": "stream",
     "text": [
      "Epoch 420/500, Loss: 0.0746\n",
      "Test Accuracy at Epoch 420: 77.37%\n",
      "Classification Report at Epoch 420:\n",
      "                  precision    recall  f1-score   support\n",
      "\n",
      "    infringement       0.86      0.67      0.75       194\n",
      "non_infringement       0.72      0.88      0.79       186\n",
      "\n",
      "        accuracy                           0.77       380\n",
      "       macro avg       0.79      0.78      0.77       380\n",
      "    weighted avg       0.79      0.77      0.77       380\n",
      "\n"
     ]
    },
    {
     "name": "stderr",
     "output_type": "stream",
     "text": [
      "Training Epochs:  86%|████████▋ | 432/500 [00:23<00:03, 21.57it/s]"
     ]
    },
    {
     "name": "stdout",
     "output_type": "stream",
     "text": [
      "Epoch 430/500, Loss: 0.0744\n",
      "Test Accuracy at Epoch 430: 77.37%\n",
      "Classification Report at Epoch 430:\n",
      "                  precision    recall  f1-score   support\n",
      "\n",
      "    infringement       0.86      0.66      0.75       194\n",
      "non_infringement       0.72      0.89      0.79       186\n",
      "\n",
      "        accuracy                           0.77       380\n",
      "       macro avg       0.79      0.78      0.77       380\n",
      "    weighted avg       0.79      0.77      0.77       380\n",
      "\n"
     ]
    },
    {
     "name": "stderr",
     "output_type": "stream",
     "text": [
      "Training Epochs:  88%|████████▊ | 441/500 [00:23<00:02, 19.83it/s]"
     ]
    },
    {
     "name": "stdout",
     "output_type": "stream",
     "text": [
      "Epoch 440/500, Loss: 0.0744\n",
      "Test Accuracy at Epoch 440: 76.84%\n",
      "Classification Report at Epoch 440:\n",
      "                  precision    recall  f1-score   support\n",
      "\n",
      "    infringement       0.86      0.65      0.74       194\n",
      "non_infringement       0.71      0.89      0.79       186\n",
      "\n",
      "        accuracy                           0.77       380\n",
      "       macro avg       0.79      0.77      0.77       380\n",
      "    weighted avg       0.79      0.77      0.77       380\n",
      "\n"
     ]
    },
    {
     "name": "stderr",
     "output_type": "stream",
     "text": [
      "Training Epochs:  90%|█████████ | 450/500 [00:24<00:03, 15.38it/s]"
     ]
    },
    {
     "name": "stdout",
     "output_type": "stream",
     "text": [
      "Epoch 450/500, Loss: 0.0744\n",
      "Test Accuracy at Epoch 450: 77.37%\n",
      "Classification Report at Epoch 450:\n",
      "                  precision    recall  f1-score   support\n",
      "\n",
      "    infringement       0.86      0.66      0.75       194\n",
      "non_infringement       0.72      0.89      0.79       186\n",
      "\n",
      "        accuracy                           0.77       380\n",
      "       macro avg       0.79      0.78      0.77       380\n",
      "    weighted avg       0.79      0.77      0.77       380\n",
      "\n"
     ]
    },
    {
     "name": "stderr",
     "output_type": "stream",
     "text": [
      "Training Epochs:  92%|█████████▏| 462/500 [00:24<00:02, 18.76it/s]"
     ]
    },
    {
     "name": "stdout",
     "output_type": "stream",
     "text": [
      "Epoch 460/500, Loss: 0.0761\n",
      "Test Accuracy at Epoch 460: 77.37%\n",
      "Classification Report at Epoch 460:\n",
      "                  precision    recall  f1-score   support\n",
      "\n",
      "    infringement       0.86      0.67      0.75       194\n",
      "non_infringement       0.72      0.88      0.79       186\n",
      "\n",
      "        accuracy                           0.77       380\n",
      "       macro avg       0.79      0.78      0.77       380\n",
      "    weighted avg       0.79      0.77      0.77       380\n",
      "\n"
     ]
    },
    {
     "name": "stderr",
     "output_type": "stream",
     "text": [
      "Training Epochs:  95%|█████████▍| 474/500 [00:25<00:01, 22.20it/s]"
     ]
    },
    {
     "name": "stdout",
     "output_type": "stream",
     "text": [
      "Epoch 470/500, Loss: 0.0745\n",
      "Test Accuracy at Epoch 470: 76.84%\n",
      "Classification Report at Epoch 470:\n",
      "                  precision    recall  f1-score   support\n",
      "\n",
      "    infringement       0.86      0.65      0.74       194\n",
      "non_infringement       0.71      0.89      0.79       186\n",
      "\n",
      "        accuracy                           0.77       380\n",
      "       macro avg       0.79      0.77      0.77       380\n",
      "    weighted avg       0.79      0.77      0.77       380\n",
      "\n"
     ]
    },
    {
     "name": "stderr",
     "output_type": "stream",
     "text": [
      "Training Epochs:  96%|█████████▋| 482/500 [00:25<00:01, 17.28it/s]"
     ]
    },
    {
     "name": "stdout",
     "output_type": "stream",
     "text": [
      "Epoch 480/500, Loss: 0.0743\n",
      "Test Accuracy at Epoch 480: 77.37%\n",
      "Classification Report at Epoch 480:\n",
      "                  precision    recall  f1-score   support\n",
      "\n",
      "    infringement       0.86      0.66      0.75       194\n",
      "non_infringement       0.72      0.89      0.79       186\n",
      "\n",
      "        accuracy                           0.77       380\n",
      "       macro avg       0.79      0.78      0.77       380\n",
      "    weighted avg       0.79      0.77      0.77       380\n",
      "\n"
     ]
    },
    {
     "name": "stderr",
     "output_type": "stream",
     "text": [
      "Training Epochs:  98%|█████████▊| 492/500 [00:26<00:00, 14.68it/s]"
     ]
    },
    {
     "name": "stdout",
     "output_type": "stream",
     "text": [
      "Epoch 490/500, Loss: 0.0742\n",
      "Test Accuracy at Epoch 490: 76.84%\n",
      "Classification Report at Epoch 490:\n",
      "                  precision    recall  f1-score   support\n",
      "\n",
      "    infringement       0.86      0.65      0.74       194\n",
      "non_infringement       0.71      0.89      0.79       186\n",
      "\n",
      "        accuracy                           0.77       380\n",
      "       macro avg       0.79      0.77      0.77       380\n",
      "    weighted avg       0.79      0.77      0.77       380\n",
      "\n"
     ]
    },
    {
     "name": "stderr",
     "output_type": "stream",
     "text": [
      "Training Epochs: 100%|██████████| 500/500 [00:27<00:00, 18.45it/s]\n",
      "/tmp/ipykernel_454507/1988515895.py:51: FutureWarning: You are using `torch.load` with `weights_only=False` (the current default value), which uses the default pickle module implicitly. It is possible to construct malicious pickle data which will execute arbitrary code during unpickling (See https://github.com/pytorch/pytorch/blob/main/SECURITY.md#untrusted-models for more details). In a future release, the default value for `weights_only` will be flipped to `True`. This limits the functions that could be executed during unpickling. Arbitrary objects will no longer be allowed to be loaded via this mode unless they are explicitly allowlisted by the user via `torch.serialization.add_safe_globals`. We recommend you start setting `weights_only=True` for any use case where you don't have full control of the loaded file. Please open an issue on GitHub for any issues related to this experimental feature.\n",
      "  custom_mlp.load_state_dict(torch.load(checkpoint_path))\n"
     ]
    },
    {
     "name": "stdout",
     "output_type": "stream",
     "text": [
      "Epoch 500/500, Loss: 0.0763\n",
      "Test Accuracy at Epoch 500: 76.84%\n",
      "Classification Report at Epoch 500:\n",
      "                  precision    recall  f1-score   support\n",
      "\n",
      "    infringement       0.86      0.65      0.74       194\n",
      "non_infringement       0.71      0.89      0.79       186\n",
      "\n",
      "        accuracy                           0.77       380\n",
      "       macro avg       0.79      0.77      0.77       380\n",
      "    weighted avg       0.79      0.77      0.77       380\n",
      "\n"
     ]
    },
    {
     "data": {
      "image/png": "[encoded data removed]",
      "text/plain": [
       "<Figure size 1000x500 with 1 Axes>"
      ]
     },
     "metadata": {},
     "output_type": "display_data"
    },
    {
     "name": "stdout",
     "output_type": "stream",
     "text": [
      "Final Model Accuracy: 78.95%\n",
      "time: [0.2586021423339844, 0.09190940856933594, 0.06506562232971191, 0.12354016304016113, 0.10379838943481445, 0.07516241073608398, 0.07092809677124023, 0.03577232360839844, 0.04484081268310547, 0.048993587493896484, 0.06695795059204102, 0.05297136306762695, 0.04147911071777344, 0.04308795928955078, 0.0508577823638916, 0.061281442642211914, 0.051799774169921875, 0.05404853820800781, 0.048876285552978516, 0.054604291915893555, 0.041283369064331055, 0.04217410087585449, 0.03688859939575195, 0.03645682334899902, 0.039914846420288086, 0.03596377372741699, 0.036280155181884766, 0.0499415397644043, 0.030931949615478516, 0.03336048126220703, 0.030457258224487305, 0.04234910011291504, 0.031476736068725586, 0.03437519073486328, 0.0584263801574707, 0.04076504707336426, 0.04900979995727539, 0.07175898551940918, 0.04210472106933594, 0.05609917640686035, 0.05957603454589844, 0.1472148895263672, 0.06305241584777832, 0.04455709457397461, 0.04193401336669922, 0.040297746658325195, 0.039673805236816406, 0.0374455451965332, 0.03668856620788574, 0.040494680404663086, 0.04618525505065918, 0.04675602912902832, 0.04633784294128418, 0.09101653099060059, 0.09349727630615234, 0.09946131706237793, 0.06250810623168945, 0.04801058769226074, 0.04280877113342285, 0.13151240348815918, 0.11162424087524414, 0.1555497646331787, 0.048861026763916016, 0.04698491096496582, 0.04532670974731445, 0.05969691276550293, 0.04545331001281738, 0.042406558990478516, 0.04182910919189453, 0.05464768409729004, 0.09514093399047852, 0.05561971664428711, 0.05060100555419922, 0.05152726173400879, 0.044911861419677734, 0.06215190887451172, 0.04737973213195801, 0.048662662506103516, 0.049271583557128906, 0.04447603225708008, 0.11449456214904785, 0.03798365592956543, 0.04654288291931152, 0.042348623275756836, 0.034996747970581055, 0.03581953048706055, 0.03702187538146973, 0.03592705726623535, 0.03519487380981445, 0.03920602798461914, 0.042710065841674805, 0.0495603084564209, 0.058438777923583984, 0.05329704284667969, 0.061937570571899414, 0.0658717155456543, 0.05246400833129883, 0.05169844627380371, 0.051235198974609375, 0.052834272384643555, 0.06632757186889648, 0.06052994728088379, 0.04997754096984863, 0.03824114799499512, 0.04119610786437988, 0.046248674392700195, 0.041144609451293945, 0.03674674034118652, 0.05713462829589844, 0.04696035385131836, 0.05110740661621094, 0.047335147857666016, 0.05103802680969238, 0.04318547248840332, 0.04430556297302246, 0.04551506042480469, 0.04638338088989258, 0.06633591651916504, 0.05037951469421387, 0.04775285720825195, 0.04517650604248047, 0.05587482452392578, 0.04673647880554199, 0.04753732681274414, 0.050124406814575195, 0.049155235290527344, 0.04545021057128906, 0.04658150672912598, 0.04725480079650879, 0.04589653015136719, 0.04604387283325195, 0.04417777061462402, 0.042551517486572266, 0.04107975959777832, 0.041126251220703125, 0.04213833808898926, 0.03886675834655762, 0.04118490219116211, 0.04069948196411133, 0.04526782035827637, 0.06614208221435547, 0.0548548698425293, 0.05060863494873047, 0.061403512954711914, 0.06371545791625977, 0.05323362350463867, 0.06082415580749512, 0.05905270576477051, 0.056745052337646484, 0.052575111389160156, 0.04372262954711914, 0.0467376708984375, 0.04569649696350098, 0.047026872634887695, 0.04543447494506836, 0.06696963310241699, 0.05228686332702637, 0.04850172996520996, 0.05044102668762207, 0.04897260665893555, 0.055210113525390625, 0.05513906478881836, 0.04644346237182617, 0.050873756408691406, 0.04877662658691406, 0.04904985427856445, 0.04545760154724121, 0.04754304885864258, 0.05383419990539551, 0.0474703311920166, 0.043030738830566406, 0.0464932918548584, 0.04013824462890625, 0.05235600471496582, 0.04077339172363281, 0.04553723335266113, 0.050820350646972656, 0.07056760787963867, 0.05830812454223633, 0.05343508720397949, 0.050402164459228516, 0.05722212791442871, 0.0506439208984375, 0.055227041244506836, 0.05111885070800781, 0.04914093017578125, 0.04511308670043945, 0.041081905364990234, 0.04411602020263672, 0.04437661170959473, 0.05718278884887695, 0.05364179611206055, 0.05118989944458008, 0.05890703201293945, 0.05200791358947754, 0.05047893524169922, 0.06782174110412598, 0.04977869987487793, 0.054435014724731445, 0.05741119384765625, 0.06023001670837402, 0.051770687103271484, 0.07110285758972168, 0.07698631286621094, 0.07072687149047852, 0.061281681060791016, 0.06250691413879395, 0.06081271171569824, 0.05933880805969238, 0.10157299041748047, 0.06982707977294922, 0.0867455005645752, 0.07963943481445312, 0.06110024452209473, 0.06684660911560059, 0.07522797584533691, 0.06226372718811035, 0.07313156127929688, 0.0641019344329834, 0.0558772087097168, 0.06924939155578613, 0.03600478172302246, 0.03637099266052246, 0.0390467643737793, 0.034378767013549805, 0.03130292892456055, 0.028630495071411133, 0.022463083267211914, 0.02257680892944336, 0.025586605072021484, 0.02893996238708496, 0.026610851287841797, 0.026070117950439453, 0.023789644241333008, 0.03042125701904297, 0.025516271591186523, 0.02559804916381836, 0.03336977958679199, 0.02582550048828125, 0.02813434600830078, 0.027409076690673828, 0.026767492294311523, 0.03278207778930664, 0.027433156967163086, 0.031148672103881836, 0.024293899536132812, 0.03200936317443848, 0.024526596069335938, 0.026846647262573242, 0.02464008331298828, 0.028484821319580078, 0.032735347747802734, 0.03680229187011719, 0.03281092643737793, 0.038541316986083984, 0.05210566520690918, 0.05174827575683594, 0.03899383544921875, 0.03651857376098633, 0.03331708908081055, 0.034332275390625, 0.03598952293395996, 0.03625988960266113, 0.03294086456298828, 0.035921573638916016, 0.035495758056640625, 0.03622555732727051, 0.03583502769470215, 0.035214900970458984, 0.030405759811401367, 0.044692039489746094, 0.041106462478637695, 0.0390322208404541, 0.0743107795715332, 0.04632425308227539, 0.03892087936401367, 0.03975820541381836, 0.0406496524810791, 0.0435643196105957, 0.05754733085632324, 0.05206108093261719, 0.046360015869140625, 0.0443723201751709, 0.04974627494812012, 0.0527491569519043, 0.049668073654174805, 0.05379366874694824, 0.04634857177734375, 0.04538249969482422, 0.05031085014343262, 0.04282355308532715, 0.06171154975891113, 0.04639077186584473, 0.054384708404541016, 0.046998023986816406, 0.050037384033203125, 0.054842233657836914, 0.055060386657714844, 0.0572056770324707, 0.07122111320495605, 0.05070900917053223, 0.05114626884460449, 0.05287051200866699, 0.053694963455200195, 0.06607484817504883, 0.15341544151306152, 0.05240797996520996, 0.04742932319641113, 0.0461423397064209, 0.04655742645263672, 0.05126500129699707, 0.05411243438720703, 0.04510760307312012, 0.044881582260131836, 0.04681658744812012, 0.05401754379272461, 0.04897260665893555, 0.05371356010437012, 0.047501325607299805, 0.04345560073852539, 0.04691624641418457, 0.04376721382141113, 0.04645276069641113, 0.046926259994506836, 0.049019575119018555, 0.05272316932678223, 0.04538679122924805, 0.04881000518798828, 0.05199456214904785, 0.050838470458984375, 0.08275365829467773, 0.043599605560302734, 0.04739069938659668, 0.05138969421386719, 0.07880735397338867, 0.05092930793762207, 0.04902148246765137, 0.05335831642150879, 0.0581510066986084, 0.06038403511047363, 0.05894923210144043, 0.048058509826660156, 0.04505419731140137, 0.0512998104095459, 0.050071001052856445, 0.05818367004394531, 0.04985356330871582, 0.0554499626159668, 0.04877471923828125, 0.052652835845947266, 0.05799150466918945, 0.04745197296142578, 0.04993152618408203, 0.04639840126037598, 0.0449068546295166, 0.04983353614807129, 0.05161643028259277, 0.05285143852233887, 0.050801992416381836, 0.051982879638671875, 0.05378389358520508, 0.054564476013183594, 0.061223745346069336, 0.045529842376708984, 0.042780160903930664, 0.04784393310546875, 0.04823160171508789, 0.047043800354003906, 0.054801225662231445, 0.04653501510620117, 0.04612541198730469, 0.05327177047729492, 0.049593210220336914, 0.050772905349731445, 0.050728797912597656, 0.05546140670776367, 0.05133390426635742, 0.04992103576660156, 0.05971097946166992, 0.05291342735290527, 0.037906646728515625, 0.04109334945678711, 0.055780649185180664, 0.05338573455810547, 0.04314088821411133, 0.04482913017272949, 0.04861569404602051, 0.05823945999145508, 0.05277895927429199, 0.04658913612365723, 0.043053627014160156, 0.04833483695983887, 0.05137944221496582, 0.053258419036865234, 0.048583030700683594, 0.05414772033691406, 0.051741838455200195, 0.053731441497802734, 0.05929231643676758, 0.05717968940734863, 0.045539140701293945, 0.045815229415893555, 0.06025290489196777, 0.05399680137634277, 0.05081367492675781, 0.049202680587768555, 0.05735611915588379, 0.05511140823364258, 0.04350113868713379, 0.041939496994018555, 0.04530930519104004, 0.04141497611999512, 0.04983663558959961, 0.05278658866882324, 0.050907135009765625, 0.04868292808532715, 0.0423731803894043, 0.042014360427856445, 0.050351858139038086, 0.05591702461242676, 0.06339740753173828, 0.08908748626708984, 0.040341854095458984, 0.03648948669433594, 0.03995490074157715, 0.03564715385437012, 0.03522205352783203, 0.038704633712768555, 0.035359859466552734, 0.038642168045043945, 0.045708417892456055, 0.04115486145019531, 0.04517984390258789, 0.04552888870239258, 0.04480433464050293, 0.05034351348876953, 0.05176734924316406, 0.04629778861999512, 0.03995347023010254, 0.05153608322143555, 0.06631922721862793, 0.06920790672302246, 0.06734395027160645, 0.3209869861602783, 0.05174994468688965, 0.04034614562988281, 0.04145050048828125, 0.04538989067077637, 0.04974246025085449, 0.04257941246032715, 0.13822436332702637, 0.06344819068908691, 0.04950213432312012, 0.05139279365539551, 0.0476984977722168, 0.05694127082824707, 0.04891777038574219, 0.04275035858154297, 0.039717674255371094, 0.040166616439819336, 0.04037952423095703, 0.042464494705200195, 0.04492044448852539, 0.04308652877807617, 0.0405116081237793, 0.04236292839050293, 0.04111361503601074, 0.03951263427734375, 0.03963613510131836, 0.03843235969543457, 0.03944969177246094, 0.04237771034240723, 0.04284811019897461, 0.041707515716552734, 0.054323434829711914, 0.047553062438964844, 0.05502653121948242, 0.06019425392150879, 0.07281947135925293, 0.05920577049255371, 0.06183767318725586, 0.0795602798461914, 0.05871462821960449, 0.061090946197509766, 0.06107473373413086, 0.0592799186706543, 0.0560300350189209, 0.057266950607299805, 0.08550786972045898, 0.06305575370788574, 0.07168459892272949, 0.07698369026184082, 0.05888819694519043, 0.0659644603729248, 0.06230306625366211, 0.06526923179626465, 0.05780529975891113, 0.04736018180847168, 0.04816174507141113, 0.049791812896728516]\n",
      "meantime: 0.05180885076522827\n"
     ]
    }
   ],
   "source": [
    "input_dim = X_train.shape[1]\n",
    "hidden_dim = 256 \n",
    "print(f\"Training MLP model with input_dim={input_dim} and hidden_dim={hidden_dim}\")\n",
    "\n",
    "custom_mlp, losses, best_accuracy = train_model(X_train, y_train, X_test, y_test, input_dim, hidden_dim)"
   ]
  },
  {
   "cell_type": "code",
   "execution_count": 10,
   "metadata": {},
   "outputs": [
    {
     "name": "stdout",
     "output_type": "stream",
     "text": [
      "Checkpoint saved to '/home/guangwei/LLM-COPYRIGHT/copyright_newVersion/models/train_input_reference_last_layer.pth'.\n"
     ]
    }
   ],
   "source": [
    "def save_checkpoint(model, optimizer, epoch, loss, filepath):\n",
    "    checkpoint = {\n",
    "        'epoch': epoch + 1,\n",
    "        'model_state_dict': model.state_dict(),\n",
    "        'optimizer_state_dict': optimizer.state_dict(),\n",
    "        'loss': loss\n",
    "    }\n",
    "    torch.save(checkpoint, filepath)\n",
    "    print(f\"Checkpoint saved to '{filepath}'.\")\n",
    "\n",
    "save_checkpoint(custom_mlp, torch.optim.Adam(custom_mlp.parameters()), len(losses), losses[-1], checkpoint_file)"
   ]
  },
  {
   "cell_type": "code",
   "execution_count": 11,
   "metadata": {},
   "outputs": [
    {
     "name": "stdout",
     "output_type": "stream",
     "text": [
      "                  precision    recall  f1-score   support\n",
      "\n",
      "    infringement       0.83      0.74      0.78       194\n",
      "non_infringement       0.76      0.84      0.80       186\n",
      "\n",
      "        accuracy                           0.79       380\n",
      "       macro avg       0.79      0.79      0.79       380\n",
      "    weighted avg       0.79      0.79      0.79       380\n",
      "\n"
     ]
    },
    {
     "name": "stderr",
     "output_type": "stream",
     "text": [
      "/tmp/ipykernel_454507/2137335780.py:1: UserWarning: To copy construct from a tensor, it is recommended to use sourceTensor.clone().detach() or sourceTensor.clone().detach().requires_grad_(True), rather than torch.tensor(sourceTensor).\n",
      "  y_pred_final = (torch.sigmoid(torch.tensor(custom_mlp(torch.tensor(X_test, dtype=torch.float32)))) > 0.5).float().numpy()\n"
     ]
    }
   ],
   "source": [
    "y_pred_final = (torch.sigmoid(torch.tensor(custom_mlp(torch.tensor(X_test, dtype=torch.float32)))) > 0.5).float().numpy()\n",
    "print(classification_report(y_test, y_pred_final, target_names=[\"infringement\", \"non_infringement\"]))"
   ]
  }
 ],
 "metadata": {
  "kernelspec": {
   "display_name": "zdh",
   "language": "python",
   "name": "python3"
  },
  "language_info": {
   "codemirror_mode": {
    "name": "ipython",
    "version": 3
   },
   "file_extension": ".py",
   "mimetype": "text/x-python",
   "name": "python",
   "nbconvert_exporter": "python",
   "pygments_lexer": "ipython3",
   "version": "3.12.3"
  }
 },
 "nbformat": 4,
 "nbformat_minor": 2
}
