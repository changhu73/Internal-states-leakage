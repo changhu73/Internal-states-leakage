{
 "cells": [
  {
   "cell_type": "code",
   "execution_count": 1,
   "metadata": {},
   "outputs": [
    {
     "name": "stderr",
     "output_type": "stream",
     "text": [
      "/home/guangwei/anaconda3/envs/sit/lib/python3.8/site-packages/tqdm/auto.py:21: TqdmWarning: IProgress not found. Please update jupyter and ipywidgets. See https://ipywidgets.readthedocs.io/en/stable/user_install.html\n",
      "  from .autonotebook import tqdm as notebook_tqdm\n"
     ]
    }
   ],
   "source": [
    "# import packages & variables\n",
    "import argparse\n",
    "import torch\n",
    "import torch.nn as nn\n",
    "import numpy as np\n",
    "from sklearn.metrics import accuracy_score, classification_report\n",
    "import matplotlib.pyplot as plt\n",
    "from tqdm import tqdm\n",
    "from transformers import AutoTokenizer, AutoModelForCausalLM, AutoModel, AutoModelForSequenceClassification\n",
    "import json\n",
    "\n",
    "# Parameters\n",
    "model_name = 'meta-llama/Meta-Llama-3.1-8B'\n",
    "non_infringement_file = '/home/guangwei/LLM-COPYRIGHT/copyright_newVersion/test_division/extra.non_infringement.json'\n",
    "infringement_file = '/home/guangwei/LLM-COPYRIGHT/copyright_newVersion/test_division/extra.infringement.json'\n",
    "checkpoint_file = '/home/guangwei/LLM-COPYRIGHT/copyright_newVersion/models/train_input_reference_last_layer_embedding_TSNE2.pth'\n"
   ]
  },
  {
   "cell_type": "code",
   "execution_count": 2,
   "metadata": {},
   "outputs": [],
   "source": [
    "# Define CustumMLP for internal states train\n",
    "class CustomMLP(nn.Module):\n",
    "    def __init__(self, input_dim, hidden_dim):\n",
    "        super(CustomMLP, self).__init__()\n",
    "        self.down = nn.Linear(input_dim, hidden_dim)\n",
    "        self.gate = nn.Linear(input_dim, hidden_dim)\n",
    "        self.up = nn.Linear(hidden_dim, 1)\n",
    "        self.activation = nn.SiLU()\n",
    "\n",
    "    def forward(self, x):\n",
    "        down_output = self.down(x)\n",
    "        gate_output = self.gate(x)\n",
    "        gated_output = down_output * self.activation(gate_output)\n",
    "        return self.up(gated_output)"
   ]
  },
  {
   "cell_type": "code",
   "execution_count": 3,
   "metadata": {},
   "outputs": [],
   "source": [
    "# Extract hidden states/reference embeddings\n",
    "def extract_hidden_states(texts, model, tokenizer, batch_size=128):\n",
    "    hidden_states = []\n",
    "    for i in tqdm(range(0, len(texts), batch_size), desc=\"Processing data batches\"):\n",
    "        batch_texts = texts[i:i + batch_size]\n",
    "        inputs = tokenizer(batch_texts, return_tensors=\"pt\", padding=True, truncation=True)\n",
    "        with torch.no_grad():\n",
    "            outputs = model(**inputs)\n",
    "        hidden_states.append(outputs.hidden_states[-1].mean(dim=1).cpu().numpy())\n",
    "    return np.vstack(hidden_states)\n",
    "\n",
    "from sklearn.manifold import TSNE\n",
    "def extract_reference_embeddings(references, model, tokenizer, apply_tsne=True, n_components=2, batch_size=128):\n",
    "    embeddings = []\n",
    "    for i in tqdm(range(0, len(references), batch_size), desc=\"Processing references\"):\n",
    "        batch_references = references[i:i + batch_size]\n",
    "        inputs = tokenizer(batch_references, return_tensors=\"pt\", padding=True, truncation=True)\n",
    "        with torch.no_grad():\n",
    "            outputs = model(**inputs)\n",
    "        embeddings.append(outputs.pooler_output.cpu().numpy())  # 提取池化后的输出\n",
    "\n",
    "    embeddings = np.vstack(embeddings)\n",
    "    \n",
    "    # 应用 t-SNE\n",
    "    if apply_tsne:\n",
    "        tsne = TSNE(n_components=n_components, random_state=42)\n",
    "        embeddings = tsne.fit_transform(embeddings)\n",
    "        print(f\"Reference embeddings reduced to {n_components} dimensions using t-SNE.\")\n",
    "    \n",
    "    return embeddings"
   ]
  },
  {
   "cell_type": "code",
   "execution_count": 4,
   "metadata": {},
   "outputs": [],
   "source": [
    "# load data for infringement & non infringement\n",
    "def load_data(non_infringement_file, infringement_file):\n",
    "    with open(non_infringement_file, 'r', encoding='utf-8') as file:\n",
    "        non_infringement_json_data = json.load(file)\n",
    "\n",
    "    non_infringement_outputs = [entry['input'] for entry in non_infringement_json_data]\n",
    "    non_infringement_references = [entry['reference'] for entry in non_infringement_json_data]\n",
    "    y_non_infringement = [1] * len(non_infringement_outputs)\n",
    "\n",
    "    with open(infringement_file, 'r', encoding='utf-8') as file:\n",
    "        infringement_json_data = json.load(file)\n",
    "\n",
    "    infringement_outputs = [entry['input'] for entry in infringement_json_data]\n",
    "    infringement_references = [entry['reference'] for entry in infringement_json_data]\n",
    "    y_infringement = [0] * len(infringement_outputs)\n",
    "\n",
    "    return non_infringement_outputs, non_infringement_references, y_non_infringement, infringement_outputs, infringement_references, y_infringement"
   ]
  },
  {
   "cell_type": "code",
   "execution_count": 5,
   "metadata": {},
   "outputs": [],
   "source": [
    "# Train for best model\n",
    "def train_model(X_train, y_train, X_test, y_test, input_dim, hidden_dim, epochs=500, lr=0.001, checkpoint_path=checkpoint_file):\n",
    "    custom_mlp = CustomMLP(input_dim, hidden_dim)\n",
    "    criterion = nn.BCEWithLogitsLoss()\n",
    "    optimizer = torch.optim.Adam(custom_mlp.parameters(), lr=lr)\n",
    "\n",
    "    X_train_tensor = torch.tensor(X_train, dtype=torch.float32)\n",
    "    y_train_tensor = torch.tensor(y_train, dtype=torch.float32).unsqueeze(1)\n",
    "\n",
    "    best_accuracy = -float('inf')\n",
    "    best_model_state = None\n",
    "    best_epoch = 0\n",
    "    losses = []\n",
    "\n",
    "    for epoch in tqdm(range(epochs), desc=\"Training Epochs\"):\n",
    "        custom_mlp.train()\n",
    "        optimizer.zero_grad()\n",
    "        outputs = custom_mlp(X_train_tensor)\n",
    "        loss = criterion(outputs, y_train_tensor)\n",
    "        loss.backward()\n",
    "        optimizer.step()\n",
    "        losses.append(loss.item())\n",
    "\n",
    "        if (epoch + 1) % 10 == 0:\n",
    "            print(f\"Epoch {epoch + 1}/{epochs}, Loss: {loss.item():.4f}\")\n",
    "            \n",
    "            custom_mlp.eval()\n",
    "            X_test_tensor = torch.tensor(X_test, dtype=torch.float32)\n",
    "            with torch.no_grad():\n",
    "                y_pred_logits = custom_mlp(X_test_tensor)\n",
    "                y_pred = (torch.sigmoid(y_pred_logits) > 0.5).float().numpy()\n",
    "            \n",
    "            accuracy = accuracy_score(y_test, y_pred)\n",
    "            print(f\"Test Accuracy at Epoch {epoch + 1}: {accuracy * 100:.2f}%\")\n",
    "            \n",
    "            report = classification_report(y_test, y_pred, target_names=[\"infringement\", \"non_infringement\"])\n",
    "            print(f\"Classification Report at Epoch {epoch + 1}:\\n{report}\")\n",
    "\n",
    "            if accuracy > best_accuracy:\n",
    "                best_accuracy = accuracy\n",
    "                best_model_state = custom_mlp.state_dict()\n",
    "                best_epoch = epoch + 1\n",
    "                torch.save(best_model_state, checkpoint_path)\n",
    "                print(f\"New best model saved with accuracy {best_accuracy * 100:.2f}% at epoch {best_epoch}\")\n",
    "                print(f\"Best Classification Report at Epoch {best_epoch}:\\n{report}\")\n",
    "\n",
    "    custom_mlp.load_state_dict(torch.load(checkpoint_path))\n",
    "\n",
    "    plt.figure(figsize=(10, 5))\n",
    "    plt.plot(losses, label='Training Loss')\n",
    "    plt.xlabel('Epoch')\n",
    "    plt.ylabel('Loss')\n",
    "    plt.title('Training Loss Curve')\n",
    "    plt.legend()\n",
    "    plt.show()\n",
    "\n",
    "    print(f\"Final Model Accuracy: {best_accuracy * 100:.2f}%\")\n",
    "    \n",
    "    return custom_mlp, losses, best_accuracy"
   ]
  },
  {
   "cell_type": "code",
   "execution_count": 6,
   "metadata": {},
   "outputs": [
    {
     "name": "stderr",
     "output_type": "stream",
     "text": [
      "/home/guangwei/anaconda3/envs/sit/lib/python3.8/site-packages/transformers/generation/configuration_utils.py:777: UserWarning: `return_dict_in_generate` is NOT set to `True`, but `output_hidden_states` is. When `return_dict_in_generate` is not `True`, `output_hidden_states` is ignored.\n",
      "  warnings.warn(\n",
      "Loading checkpoint shards: 100%|██████████| 4/4 [00:03<00:00,  1.05it/s]\n",
      "/home/guangwei/anaconda3/envs/sit/lib/python3.8/site-packages/transformers/tokenization_utils_base.py:1617: FutureWarning: `clean_up_tokenization_spaces` was not set. It will be set to `True` by default. This behavior will be deprecated in transformers v4.45, and will be then set to `False` by default. For more details check this issue: https://github.com/huggingface/transformers/issues/31884\n",
      "  warnings.warn(\n"
     ]
    }
   ],
   "source": [
    "tokenizer = AutoTokenizer.from_pretrained(model_name, model_max_length=512)\n",
    "model = AutoModelForCausalLM.from_pretrained(model_name, output_hidden_states=True)\n",
    "tokenizer.pad_token = tokenizer.eos_token\n",
    "bert_tokenizer = AutoTokenizer.from_pretrained('google-bert/bert-base-uncased')\n",
    "bert_model = AutoModel.from_pretrained('google-bert/bert-base-uncased')\n",
    "bert_tokenizer.pad_token = tokenizer.eos_token\n",
    "\n",
    "non_infringement_outputs, non_infringement_references, y_non_infringement, infringement_outputs, infringement_references, y_infringement = load_data(\n",
    "    non_infringement_file, infringement_file\n",
    ")\n",
    "\n",
    "y_non_infringement = np.array(y_non_infringement)\n",
    "y_infringement = np.array(y_infringement)\n"
   ]
  },
  {
   "cell_type": "code",
   "execution_count": 7,
   "metadata": {},
   "outputs": [
    {
     "name": "stdout",
     "output_type": "stream",
     "text": [
      "Extracting hidden states for non_infringement texts...\n"
     ]
    },
    {
     "name": "stderr",
     "output_type": "stream",
     "text": [
      "Processing data batches:   0%|          | 0/12 [00:00<?, ?it/s]Starting from v4.46, the `logits` model output will have the same type as the model (except at train time, where it will always be FP32)\n",
      "Processing data batches: 100%|██████████| 12/12 [32:04<00:00, 160.34s/it] \n"
     ]
    },
    {
     "name": "stdout",
     "output_type": "stream",
     "text": [
      "Extracting reference embeddings for non_infringement texts...\n"
     ]
    },
    {
     "name": "stderr",
     "output_type": "stream",
     "text": [
      "Processing references: 100%|██████████| 12/12 [01:40<00:00,  8.36s/it]\n",
      "huggingface/tokenizers: The current process just got forked, after parallelism has already been used. Disabling parallelism to avoid deadlocks...\n",
      "To disable this warning, you can either:\n",
      "\t- Avoid using `tokenizers` before the fork if possible\n",
      "\t- Explicitly set the environment variable TOKENIZERS_PARALLELISM=(true | false)\n",
      "huggingface/tokenizers: The current process just got forked, after parallelism has already been used. Disabling parallelism to avoid deadlocks...\n",
      "To disable this warning, you can either:\n",
      "\t- Avoid using `tokenizers` before the fork if possible\n",
      "\t- Explicitly set the environment variable TOKENIZERS_PARALLELISM=(true | false)\n"
     ]
    },
    {
     "name": "stdout",
     "output_type": "stream",
     "text": [
      "Reference embeddings reduced to 2 dimensions using t-SNE.\n",
      "Extracting hidden states for infringement texts...\n"
     ]
    },
    {
     "name": "stderr",
     "output_type": "stream",
     "text": [
      "Processing data batches: 100%|██████████| 12/12 [28:50<00:00, 144.18s/it] \n"
     ]
    },
    {
     "name": "stdout",
     "output_type": "stream",
     "text": [
      "Extracting reference embeddings for infringement texts...\n"
     ]
    },
    {
     "name": "stderr",
     "output_type": "stream",
     "text": [
      "Processing references: 100%|██████████| 12/12 [00:51<00:00,  4.28s/it]\n"
     ]
    },
    {
     "name": "stdout",
     "output_type": "stream",
     "text": [
      "Reference embeddings reduced to 2 dimensions using t-SNE.\n"
     ]
    }
   ],
   "source": [
    "print(\"Extracting hidden states for non_infringement texts...\")\n",
    "X_non_infringement = extract_hidden_states(non_infringement_outputs, model, tokenizer)\n",
    "print(\"Extracting reference embeddings for non_infringement texts...\")\n",
    "reference_embeddings_non_infringement = extract_reference_embeddings(non_infringement_references, bert_model, bert_tokenizer)\n",
    "X_non_infringement_combined = np.hstack([X_non_infringement, reference_embeddings_non_infringement])\n",
    "\n",
    "print(\"Extracting hidden states for infringement texts...\")\n",
    "X_infringement = extract_hidden_states(infringement_outputs, model, tokenizer)\n",
    "print(\"Extracting reference embeddings for infringement texts...\")\n",
    "reference_embeddings_infringement = extract_reference_embeddings(infringement_references, bert_model, bert_tokenizer)\n",
    "X_infringement_combined = np.hstack([X_infringement, reference_embeddings_infringement])"
   ]
  },
  {
   "cell_type": "code",
   "execution_count": 8,
   "metadata": {},
   "outputs": [
    {
     "name": "stdout",
     "output_type": "stream",
     "text": [
      "Data successfully split into training and test sets.\n"
     ]
    }
   ],
   "source": [
    "split_index_non_infringement = int(0.8 * len(X_non_infringement_combined))\n",
    "X_non_infringement_train = X_non_infringement_combined[:split_index_non_infringement]\n",
    "X_non_infringement_test = X_non_infringement_combined[split_index_non_infringement:]\n",
    "y_non_infringement_train = y_non_infringement[:split_index_non_infringement]\n",
    "y_non_infringement_test = y_non_infringement[split_index_non_infringement:]\n",
    "\n",
    "split_index_infringement = int(0.8 * len(X_infringement_combined))\n",
    "X_infringement_train = X_infringement_combined[:split_index_infringement]\n",
    "X_infringement_test = X_infringement_combined[split_index_infringement:]\n",
    "y_infringement_train = y_infringement[:split_index_infringement]\n",
    "y_infringement_test = y_infringement[split_index_infringement:]\n",
    "\n",
    "X_train = np.vstack((X_non_infringement_train, X_infringement_train))\n",
    "X_test = np.vstack((X_non_infringement_test, X_infringement_test))\n",
    "y_train = np.concatenate((y_non_infringement_train, y_infringement_train))\n",
    "y_test = np.concatenate((y_non_infringement_test, y_infringement_test))\n",
    "\n",
    "print(\"Data successfully split into training and test sets.\")"
   ]
  },
  {
   "cell_type": "code",
   "execution_count": 9,
   "metadata": {},
   "outputs": [
    {
     "name": "stdout",
     "output_type": "stream",
     "text": [
      "Training MLP model with input_dim=4098 and hidden_dim=256\n"
     ]
    },
    {
     "name": "stderr",
     "output_type": "stream",
     "text": [
      "Training Epochs:   0%|          | 0/500 [00:00<?, ?it/s]/home/guangwei/anaconda3/envs/sit/lib/python3.8/site-packages/torch/autograd/graph.py:768: UserWarning: CUDA initialization: The NVIDIA driver on your system is too old (found version 11040). Please update your GPU driver by downloading and installing a new version from the URL: http://www.nvidia.com/Download/index.aspx Alternatively, go to: https://pytorch.org to install a PyTorch version that has been compiled with your version of the CUDA driver. (Triggered internally at ../c10/cuda/CUDAFunctions.cpp:108.)\n",
      "  return Variable._execution_engine.run_backward(  # Calls into the C++ engine to run the backward pass\n",
      "Training Epochs:   3%|▎         | 14/500 [00:00<00:28, 17.35it/s]"
     ]
    },
    {
     "name": "stdout",
     "output_type": "stream",
     "text": [
      "Epoch 10/500, Loss: 0.5925\n",
      "Test Accuracy at Epoch 10: 48.19%\n",
      "Classification Report at Epoch 10:\n",
      "                  precision    recall  f1-score   support\n",
      "\n",
      "    infringement       0.48      0.61      0.53       283\n",
      "non_infringement       0.49      0.36      0.42       298\n",
      "\n",
      "        accuracy                           0.48       581\n",
      "       macro avg       0.48      0.49      0.48       581\n",
      "    weighted avg       0.48      0.48      0.47       581\n",
      "\n",
      "New best model saved with accuracy 48.19% at epoch 10\n",
      "Best Classification Report at Epoch 10:\n",
      "                  precision    recall  f1-score   support\n",
      "\n",
      "    infringement       0.48      0.61      0.53       283\n",
      "non_infringement       0.49      0.36      0.42       298\n",
      "\n",
      "        accuracy                           0.48       581\n",
      "       macro avg       0.48      0.49      0.48       581\n",
      "    weighted avg       0.48      0.48      0.47       581\n",
      "\n"
     ]
    },
    {
     "name": "stderr",
     "output_type": "stream",
     "text": [
      "Training Epochs:   5%|▍         | 24/500 [00:01<00:19, 24.14it/s]"
     ]
    },
    {
     "name": "stdout",
     "output_type": "stream",
     "text": [
      "Epoch 20/500, Loss: 0.3871\n",
      "Test Accuracy at Epoch 20: 62.31%\n",
      "Classification Report at Epoch 20:\n",
      "                  precision    recall  f1-score   support\n",
      "\n",
      "    infringement       0.61      0.64      0.62       283\n",
      "non_infringement       0.64      0.61      0.62       298\n",
      "\n",
      "        accuracy                           0.62       581\n",
      "       macro avg       0.62      0.62      0.62       581\n",
      "    weighted avg       0.62      0.62      0.62       581\n",
      "\n",
      "New best model saved with accuracy 62.31% at epoch 20\n",
      "Best Classification Report at Epoch 20:\n",
      "                  precision    recall  f1-score   support\n",
      "\n",
      "    infringement       0.61      0.64      0.62       283\n",
      "non_infringement       0.64      0.61      0.62       298\n",
      "\n",
      "        accuracy                           0.62       581\n",
      "       macro avg       0.62      0.62      0.62       581\n",
      "    weighted avg       0.62      0.62      0.62       581\n",
      "\n"
     ]
    },
    {
     "name": "stderr",
     "output_type": "stream",
     "text": [
      "Training Epochs:   5%|▌         | 27/500 [00:01<00:20, 22.69it/s]"
     ]
    },
    {
     "name": "stdout",
     "output_type": "stream",
     "text": [
      "Epoch 30/500, Loss: 0.2203\n",
      "Test Accuracy at Epoch 30: 58.00%\n",
      "Classification Report at Epoch 30:\n",
      "                  precision    recall  f1-score   support\n",
      "\n",
      "    infringement       0.56      0.61      0.59       283\n",
      "non_infringement       0.60      0.55      0.57       298\n",
      "\n",
      "        accuracy                           0.58       581\n",
      "       macro avg       0.58      0.58      0.58       581\n",
      "    weighted avg       0.58      0.58      0.58       581\n",
      "\n"
     ]
    },
    {
     "name": "stderr",
     "output_type": "stream",
     "text": [
      "Training Epochs:   8%|▊         | 40/500 [00:04<02:00,  3.83it/s]"
     ]
    },
    {
     "name": "stdout",
     "output_type": "stream",
     "text": [
      "Epoch 40/500, Loss: 0.1089\n",
      "Test Accuracy at Epoch 40: 64.54%\n",
      "Classification Report at Epoch 40:\n",
      "                  precision    recall  f1-score   support\n",
      "\n",
      "    infringement       0.62      0.70      0.66       283\n",
      "non_infringement       0.68      0.59      0.63       298\n",
      "\n",
      "        accuracy                           0.65       581\n",
      "       macro avg       0.65      0.65      0.64       581\n",
      "    weighted avg       0.65      0.65      0.64       581\n",
      "\n",
      "New best model saved with accuracy 64.54% at epoch 40\n",
      "Best Classification Report at Epoch 40:\n",
      "                  precision    recall  f1-score   support\n",
      "\n",
      "    infringement       0.62      0.70      0.66       283\n",
      "non_infringement       0.68      0.59      0.63       298\n",
      "\n",
      "        accuracy                           0.65       581\n",
      "       macro avg       0.65      0.65      0.64       581\n",
      "    weighted avg       0.65      0.65      0.64       581\n",
      "\n"
     ]
    },
    {
     "name": "stderr",
     "output_type": "stream",
     "text": [
      "Training Epochs:  11%|█         | 55/500 [00:05<00:30, 14.49it/s]"
     ]
    },
    {
     "name": "stdout",
     "output_type": "stream",
     "text": [
      "Epoch 50/500, Loss: 0.0591\n",
      "Test Accuracy at Epoch 50: 62.48%\n",
      "Classification Report at Epoch 50:\n",
      "                  precision    recall  f1-score   support\n",
      "\n",
      "    infringement       0.60      0.70      0.64       283\n",
      "non_infringement       0.66      0.56      0.60       298\n",
      "\n",
      "        accuracy                           0.62       581\n",
      "       macro avg       0.63      0.63      0.62       581\n",
      "    weighted avg       0.63      0.62      0.62       581\n",
      "\n"
     ]
    },
    {
     "name": "stderr",
     "output_type": "stream",
     "text": [
      "Training Epochs:  12%|█▏        | 61/500 [00:05<00:24, 17.88it/s]"
     ]
    },
    {
     "name": "stdout",
     "output_type": "stream",
     "text": [
      "Epoch 60/500, Loss: 0.0293\n",
      "Test Accuracy at Epoch 60: 64.20%\n",
      "Classification Report at Epoch 60:\n",
      "                  precision    recall  f1-score   support\n",
      "\n",
      "    infringement       0.61      0.72      0.66       283\n",
      "non_infringement       0.68      0.56      0.62       298\n",
      "\n",
      "        accuracy                           0.64       581\n",
      "       macro avg       0.65      0.64      0.64       581\n",
      "    weighted avg       0.65      0.64      0.64       581\n",
      "\n"
     ]
    },
    {
     "name": "stderr",
     "output_type": "stream",
     "text": [
      "Training Epochs:  14%|█▍        | 70/500 [00:07<01:39,  4.33it/s]"
     ]
    },
    {
     "name": "stdout",
     "output_type": "stream",
     "text": [
      "Epoch 70/500, Loss: 0.0174\n",
      "Test Accuracy at Epoch 70: 65.58%\n",
      "Classification Report at Epoch 70:\n",
      "                  precision    recall  f1-score   support\n",
      "\n",
      "    infringement       0.62      0.74      0.68       283\n",
      "non_infringement       0.70      0.58      0.63       298\n",
      "\n",
      "        accuracy                           0.66       581\n",
      "       macro avg       0.66      0.66      0.65       581\n",
      "    weighted avg       0.66      0.66      0.65       581\n",
      "\n",
      "New best model saved with accuracy 65.58% at epoch 70\n",
      "Best Classification Report at Epoch 70:\n",
      "                  precision    recall  f1-score   support\n",
      "\n",
      "    infringement       0.62      0.74      0.68       283\n",
      "non_infringement       0.70      0.58      0.63       298\n",
      "\n",
      "        accuracy                           0.66       581\n",
      "       macro avg       0.66      0.66      0.65       581\n",
      "    weighted avg       0.66      0.66      0.65       581\n",
      "\n"
     ]
    },
    {
     "name": "stderr",
     "output_type": "stream",
     "text": [
      "Training Epochs:  16%|█▋        | 82/500 [00:09<00:40, 10.44it/s]"
     ]
    },
    {
     "name": "stdout",
     "output_type": "stream",
     "text": [
      "Epoch 80/500, Loss: 0.0105\n",
      "Test Accuracy at Epoch 80: 65.58%\n",
      "Classification Report at Epoch 80:\n",
      "                  precision    recall  f1-score   support\n",
      "\n",
      "    infringement       0.62      0.73      0.68       283\n",
      "non_infringement       0.70      0.58      0.63       298\n",
      "\n",
      "        accuracy                           0.66       581\n",
      "       macro avg       0.66      0.66      0.65       581\n",
      "    weighted avg       0.66      0.66      0.65       581\n",
      "\n"
     ]
    },
    {
     "name": "stderr",
     "output_type": "stream",
     "text": [
      "Training Epochs:  18%|█▊        | 90/500 [00:11<01:58,  3.46it/s]"
     ]
    },
    {
     "name": "stdout",
     "output_type": "stream",
     "text": [
      "Epoch 90/500, Loss: 0.0073\n",
      "Test Accuracy at Epoch 90: 65.58%\n",
      "Classification Report at Epoch 90:\n",
      "                  precision    recall  f1-score   support\n",
      "\n",
      "    infringement       0.62      0.76      0.68       283\n",
      "non_infringement       0.71      0.55      0.62       298\n",
      "\n",
      "        accuracy                           0.66       581\n",
      "       macro avg       0.67      0.66      0.65       581\n",
      "    weighted avg       0.67      0.66      0.65       581\n",
      "\n"
     ]
    },
    {
     "name": "stderr",
     "output_type": "stream",
     "text": [
      "Training Epochs:  20%|██        | 100/500 [00:12<00:33, 11.99it/s]"
     ]
    },
    {
     "name": "stdout",
     "output_type": "stream",
     "text": [
      "Epoch 100/500, Loss: 0.0055\n",
      "Test Accuracy at Epoch 100: 65.75%\n",
      "Classification Report at Epoch 100:\n",
      "                  precision    recall  f1-score   support\n",
      "\n",
      "    infringement       0.62      0.77      0.69       283\n",
      "non_infringement       0.71      0.55      0.62       298\n",
      "\n",
      "        accuracy                           0.66       581\n",
      "       macro avg       0.67      0.66      0.65       581\n",
      "    weighted avg       0.67      0.66      0.65       581\n",
      "\n",
      "New best model saved with accuracy 65.75% at epoch 100\n",
      "Best Classification Report at Epoch 100:\n",
      "                  precision    recall  f1-score   support\n",
      "\n",
      "    infringement       0.62      0.77      0.69       283\n",
      "non_infringement       0.71      0.55      0.62       298\n",
      "\n",
      "        accuracy                           0.66       581\n",
      "       macro avg       0.67      0.66      0.65       581\n",
      "    weighted avg       0.67      0.66      0.65       581\n",
      "\n"
     ]
    },
    {
     "name": "stderr",
     "output_type": "stream",
     "text": [
      "Training Epochs:  23%|██▎       | 115/500 [00:13<00:24, 15.43it/s]"
     ]
    },
    {
     "name": "stdout",
     "output_type": "stream",
     "text": [
      "Epoch 110/500, Loss: 0.0043\n",
      "Test Accuracy at Epoch 110: 65.06%\n",
      "Classification Report at Epoch 110:\n",
      "                  precision    recall  f1-score   support\n",
      "\n",
      "    infringement       0.61      0.77      0.68       283\n",
      "non_infringement       0.71      0.54      0.61       298\n",
      "\n",
      "        accuracy                           0.65       581\n",
      "       macro avg       0.66      0.65      0.65       581\n",
      "    weighted avg       0.66      0.65      0.65       581\n",
      "\n"
     ]
    },
    {
     "name": "stderr",
     "output_type": "stream",
     "text": [
      "Training Epochs:  25%|██▌       | 125/500 [00:14<00:17, 20.96it/s]"
     ]
    },
    {
     "name": "stdout",
     "output_type": "stream",
     "text": [
      "Epoch 120/500, Loss: 0.0036\n",
      "Test Accuracy at Epoch 120: 64.54%\n",
      "Classification Report at Epoch 120:\n",
      "                  precision    recall  f1-score   support\n",
      "\n",
      "    infringement       0.61      0.77      0.68       283\n",
      "non_infringement       0.71      0.53      0.60       298\n",
      "\n",
      "        accuracy                           0.65       581\n",
      "       macro avg       0.66      0.65      0.64       581\n",
      "    weighted avg       0.66      0.65      0.64       581\n",
      "\n"
     ]
    },
    {
     "name": "stderr",
     "output_type": "stream",
     "text": [
      "Training Epochs:  26%|██▌       | 129/500 [00:14<00:18, 20.05it/s]"
     ]
    },
    {
     "name": "stdout",
     "output_type": "stream",
     "text": [
      "Epoch 130/500, Loss: 0.0030\n",
      "Test Accuracy at Epoch 130: 64.54%\n",
      "Classification Report at Epoch 130:\n",
      "                  precision    recall  f1-score   support\n",
      "\n",
      "    infringement       0.61      0.77      0.68       283\n",
      "non_infringement       0.71      0.52      0.60       298\n",
      "\n",
      "        accuracy                           0.65       581\n",
      "       macro avg       0.66      0.65      0.64       581\n",
      "    weighted avg       0.66      0.65      0.64       581\n",
      "\n"
     ]
    },
    {
     "name": "stderr",
     "output_type": "stream",
     "text": [
      "Training Epochs:  28%|██▊       | 142/500 [00:15<00:31, 11.35it/s]"
     ]
    },
    {
     "name": "stdout",
     "output_type": "stream",
     "text": [
      "Epoch 140/500, Loss: 0.0025\n",
      "Test Accuracy at Epoch 140: 64.72%\n",
      "Classification Report at Epoch 140:\n",
      "                  precision    recall  f1-score   support\n",
      "\n",
      "    infringement       0.61      0.77      0.68       283\n",
      "non_infringement       0.71      0.53      0.61       298\n",
      "\n",
      "        accuracy                           0.65       581\n",
      "       macro avg       0.66      0.65      0.64       581\n",
      "    weighted avg       0.66      0.65      0.64       581\n",
      "\n"
     ]
    },
    {
     "name": "stderr",
     "output_type": "stream",
     "text": [
      "Training Epochs:  30%|███       | 151/500 [00:16<00:20, 17.37it/s]"
     ]
    },
    {
     "name": "stdout",
     "output_type": "stream",
     "text": [
      "Epoch 150/500, Loss: 0.0021\n",
      "Test Accuracy at Epoch 150: 65.23%\n",
      "Classification Report at Epoch 150:\n",
      "                  precision    recall  f1-score   support\n",
      "\n",
      "    infringement       0.61      0.77      0.68       283\n",
      "non_infringement       0.71      0.54      0.61       298\n",
      "\n",
      "        accuracy                           0.65       581\n",
      "       macro avg       0.66      0.66      0.65       581\n",
      "    weighted avg       0.66      0.65      0.65       581\n",
      "\n"
     ]
    },
    {
     "name": "stderr",
     "output_type": "stream",
     "text": [
      "Training Epochs:  32%|███▏      | 161/500 [00:16<00:18, 18.44it/s]"
     ]
    },
    {
     "name": "stdout",
     "output_type": "stream",
     "text": [
      "Epoch 160/500, Loss: 0.0019\n",
      "Test Accuracy at Epoch 160: 65.06%\n",
      "Classification Report at Epoch 160:\n",
      "                  precision    recall  f1-score   support\n",
      "\n",
      "    infringement       0.61      0.76      0.68       283\n",
      "non_infringement       0.71      0.54      0.61       298\n",
      "\n",
      "        accuracy                           0.65       581\n",
      "       macro avg       0.66      0.65      0.65       581\n",
      "    weighted avg       0.66      0.65      0.65       581\n",
      "\n"
     ]
    },
    {
     "name": "stderr",
     "output_type": "stream",
     "text": [
      "Training Epochs:  35%|███▍      | 174/500 [00:17<00:18, 17.66it/s]"
     ]
    },
    {
     "name": "stdout",
     "output_type": "stream",
     "text": [
      "Epoch 170/500, Loss: 0.0016\n",
      "Test Accuracy at Epoch 170: 65.23%\n",
      "Classification Report at Epoch 170:\n",
      "                  precision    recall  f1-score   support\n",
      "\n",
      "    infringement       0.61      0.77      0.68       283\n",
      "non_infringement       0.71      0.54      0.62       298\n",
      "\n",
      "        accuracy                           0.65       581\n",
      "       macro avg       0.66      0.66      0.65       581\n",
      "    weighted avg       0.66      0.65      0.65       581\n",
      "\n"
     ]
    },
    {
     "name": "stderr",
     "output_type": "stream",
     "text": [
      "Training Epochs:  37%|███▋      | 184/500 [00:17<00:15, 20.49it/s]"
     ]
    },
    {
     "name": "stdout",
     "output_type": "stream",
     "text": [
      "Epoch 180/500, Loss: 0.0014\n",
      "Test Accuracy at Epoch 180: 65.58%\n",
      "Classification Report at Epoch 180:\n",
      "                  precision    recall  f1-score   support\n",
      "\n",
      "    infringement       0.62      0.77      0.68       283\n",
      "non_infringement       0.71      0.55      0.62       298\n",
      "\n",
      "        accuracy                           0.66       581\n",
      "       macro avg       0.67      0.66      0.65       581\n",
      "    weighted avg       0.67      0.66      0.65       581\n",
      "\n"
     ]
    },
    {
     "name": "stderr",
     "output_type": "stream",
     "text": [
      "Training Epochs:  38%|███▊      | 191/500 [00:18<00:12, 24.76it/s]"
     ]
    },
    {
     "name": "stdout",
     "output_type": "stream",
     "text": [
      "Epoch 190/500, Loss: 0.0013\n",
      "Test Accuracy at Epoch 190: 65.58%\n",
      "Classification Report at Epoch 190:\n",
      "                  precision    recall  f1-score   support\n",
      "\n",
      "    infringement       0.62      0.77      0.68       283\n",
      "non_infringement       0.71      0.55      0.62       298\n",
      "\n",
      "        accuracy                           0.66       581\n",
      "       macro avg       0.67      0.66      0.65       581\n",
      "    weighted avg       0.67      0.66      0.65       581\n",
      "\n"
     ]
    },
    {
     "name": "stderr",
     "output_type": "stream",
     "text": [
      "Training Epochs:  40%|████      | 202/500 [00:18<00:11, 26.78it/s]"
     ]
    },
    {
     "name": "stdout",
     "output_type": "stream",
     "text": [
      "Epoch 200/500, Loss: 0.0012\n",
      "Test Accuracy at Epoch 200: 65.58%\n",
      "Classification Report at Epoch 200:\n",
      "                  precision    recall  f1-score   support\n",
      "\n",
      "    infringement       0.62      0.77      0.68       283\n",
      "non_infringement       0.71      0.55      0.62       298\n",
      "\n",
      "        accuracy                           0.66       581\n",
      "       macro avg       0.67      0.66      0.65       581\n",
      "    weighted avg       0.67      0.66      0.65       581\n",
      "\n"
     ]
    },
    {
     "name": "stderr",
     "output_type": "stream",
     "text": [
      "Training Epochs:  42%|████▏     | 209/500 [00:18<00:15, 19.09it/s]"
     ]
    },
    {
     "name": "stdout",
     "output_type": "stream",
     "text": [
      "Epoch 210/500, Loss: 0.0010\n",
      "Test Accuracy at Epoch 210: 65.58%\n",
      "Classification Report at Epoch 210:\n",
      "                  precision    recall  f1-score   support\n",
      "\n",
      "    infringement       0.62      0.77      0.68       283\n",
      "non_infringement       0.71      0.55      0.62       298\n",
      "\n",
      "        accuracy                           0.66       581\n",
      "       macro avg       0.67      0.66      0.65       581\n",
      "    weighted avg       0.67      0.66      0.65       581\n",
      "\n"
     ]
    },
    {
     "name": "stderr",
     "output_type": "stream",
     "text": [
      "Training Epochs:  44%|████▍     | 220/500 [00:22<01:00,  4.65it/s]"
     ]
    },
    {
     "name": "stdout",
     "output_type": "stream",
     "text": [
      "Epoch 220/500, Loss: 0.0009\n",
      "Test Accuracy at Epoch 220: 65.40%\n",
      "Classification Report at Epoch 220:\n",
      "                  precision    recall  f1-score   support\n",
      "\n",
      "    infringement       0.62      0.76      0.68       283\n",
      "non_infringement       0.71      0.55      0.62       298\n",
      "\n",
      "        accuracy                           0.65       581\n",
      "       macro avg       0.66      0.66      0.65       581\n",
      "    weighted avg       0.66      0.65      0.65       581\n",
      "\n"
     ]
    },
    {
     "name": "stderr",
     "output_type": "stream",
     "text": [
      "Training Epochs:  46%|████▋     | 232/500 [00:23<00:23, 11.46it/s]"
     ]
    },
    {
     "name": "stdout",
     "output_type": "stream",
     "text": [
      "Epoch 230/500, Loss: 0.0009\n",
      "Test Accuracy at Epoch 230: 65.40%\n",
      "Classification Report at Epoch 230:\n",
      "                  precision    recall  f1-score   support\n",
      "\n",
      "    infringement       0.62      0.76      0.68       283\n",
      "non_infringement       0.71      0.55      0.62       298\n",
      "\n",
      "        accuracy                           0.65       581\n",
      "       macro avg       0.66      0.66      0.65       581\n",
      "    weighted avg       0.66      0.65      0.65       581\n",
      "\n"
     ]
    },
    {
     "name": "stderr",
     "output_type": "stream",
     "text": [
      "Training Epochs:  48%|████▊     | 241/500 [00:25<00:46,  5.60it/s]"
     ]
    },
    {
     "name": "stdout",
     "output_type": "stream",
     "text": [
      "Epoch 240/500, Loss: 0.0008\n",
      "Test Accuracy at Epoch 240: 65.75%\n",
      "Classification Report at Epoch 240:\n",
      "                  precision    recall  f1-score   support\n",
      "\n",
      "    infringement       0.62      0.76      0.68       283\n",
      "non_infringement       0.71      0.56      0.63       298\n",
      "\n",
      "        accuracy                           0.66       581\n",
      "       macro avg       0.67      0.66      0.66       581\n",
      "    weighted avg       0.67      0.66      0.65       581\n",
      "\n"
     ]
    },
    {
     "name": "stderr",
     "output_type": "stream",
     "text": [
      "Training Epochs:  50%|█████     | 250/500 [00:28<00:37,  6.61it/s]"
     ]
    },
    {
     "name": "stdout",
     "output_type": "stream",
     "text": [
      "Epoch 250/500, Loss: 0.0007\n",
      "Test Accuracy at Epoch 250: 65.75%\n",
      "Classification Report at Epoch 250:\n",
      "                  precision    recall  f1-score   support\n",
      "\n",
      "    infringement       0.62      0.76      0.68       283\n",
      "non_infringement       0.71      0.56      0.63       298\n",
      "\n",
      "        accuracy                           0.66       581\n",
      "       macro avg       0.67      0.66      0.66       581\n",
      "    weighted avg       0.67      0.66      0.65       581\n",
      "\n"
     ]
    },
    {
     "name": "stderr",
     "output_type": "stream",
     "text": [
      "Training Epochs:  52%|█████▏    | 261/500 [00:30<00:38,  6.19it/s]"
     ]
    },
    {
     "name": "stdout",
     "output_type": "stream",
     "text": [
      "Epoch 260/500, Loss: 0.0007\n",
      "Test Accuracy at Epoch 260: 65.92%\n",
      "Classification Report at Epoch 260:\n",
      "                  precision    recall  f1-score   support\n",
      "\n",
      "    infringement       0.62      0.76      0.68       283\n",
      "non_infringement       0.71      0.57      0.63       298\n",
      "\n",
      "        accuracy                           0.66       581\n",
      "       macro avg       0.67      0.66      0.66       581\n",
      "    weighted avg       0.67      0.66      0.66       581\n",
      "\n",
      "New best model saved with accuracy 65.92% at epoch 260\n",
      "Best Classification Report at Epoch 260:\n",
      "                  precision    recall  f1-score   support\n",
      "\n",
      "    infringement       0.62      0.76      0.68       283\n",
      "non_infringement       0.71      0.57      0.63       298\n",
      "\n",
      "        accuracy                           0.66       581\n",
      "       macro avg       0.67      0.66      0.66       581\n",
      "    weighted avg       0.67      0.66      0.66       581\n",
      "\n"
     ]
    },
    {
     "name": "stderr",
     "output_type": "stream",
     "text": [
      "Training Epochs:  54%|█████▍    | 270/500 [00:33<00:54,  4.25it/s]"
     ]
    },
    {
     "name": "stdout",
     "output_type": "stream",
     "text": [
      "Epoch 270/500, Loss: 0.0006\n",
      "Test Accuracy at Epoch 270: 65.92%\n",
      "Classification Report at Epoch 270:\n",
      "                  precision    recall  f1-score   support\n",
      "\n",
      "    infringement       0.62      0.76      0.68       283\n",
      "non_infringement       0.71      0.57      0.63       298\n",
      "\n",
      "        accuracy                           0.66       581\n",
      "       macro avg       0.67      0.66      0.66       581\n",
      "    weighted avg       0.67      0.66      0.66       581\n",
      "\n"
     ]
    },
    {
     "name": "stderr",
     "output_type": "stream",
     "text": [
      "Training Epochs:  57%|█████▋    | 283/500 [00:34<00:18, 12.00it/s]"
     ]
    },
    {
     "name": "stdout",
     "output_type": "stream",
     "text": [
      "Epoch 280/500, Loss: 0.0006\n",
      "Test Accuracy at Epoch 280: 65.92%\n",
      "Classification Report at Epoch 280:\n",
      "                  precision    recall  f1-score   support\n",
      "\n",
      "    infringement       0.62      0.76      0.68       283\n",
      "non_infringement       0.71      0.57      0.63       298\n",
      "\n",
      "        accuracy                           0.66       581\n",
      "       macro avg       0.67      0.66      0.66       581\n",
      "    weighted avg       0.67      0.66      0.66       581\n",
      "\n"
     ]
    },
    {
     "name": "stderr",
     "output_type": "stream",
     "text": [
      "Training Epochs:  58%|█████▊    | 292/500 [00:40<01:17,  2.69it/s]"
     ]
    },
    {
     "name": "stdout",
     "output_type": "stream",
     "text": [
      "Epoch 290/500, Loss: 0.0005\n",
      "Test Accuracy at Epoch 290: 66.44%\n",
      "Classification Report at Epoch 290:\n",
      "                  precision    recall  f1-score   support\n",
      "\n",
      "    infringement       0.63      0.76      0.69       283\n",
      "non_infringement       0.72      0.57      0.64       298\n",
      "\n",
      "        accuracy                           0.66       581\n",
      "       macro avg       0.67      0.67      0.66       581\n",
      "    weighted avg       0.67      0.66      0.66       581\n",
      "\n",
      "New best model saved with accuracy 66.44% at epoch 290\n",
      "Best Classification Report at Epoch 290:\n",
      "                  precision    recall  f1-score   support\n",
      "\n",
      "    infringement       0.63      0.76      0.69       283\n",
      "non_infringement       0.72      0.57      0.64       298\n",
      "\n",
      "        accuracy                           0.66       581\n",
      "       macro avg       0.67      0.67      0.66       581\n",
      "    weighted avg       0.67      0.66      0.66       581\n",
      "\n"
     ]
    },
    {
     "name": "stderr",
     "output_type": "stream",
     "text": [
      "Training Epochs:  60%|██████    | 300/500 [00:40<00:28,  7.06it/s]"
     ]
    },
    {
     "name": "stdout",
     "output_type": "stream",
     "text": [
      "Epoch 300/500, Loss: 0.0005\n",
      "Test Accuracy at Epoch 300: 66.95%\n",
      "Classification Report at Epoch 300:\n",
      "                  precision    recall  f1-score   support\n",
      "\n",
      "    infringement       0.63      0.76      0.69       283\n",
      "non_infringement       0.72      0.58      0.64       298\n",
      "\n",
      "        accuracy                           0.67       581\n",
      "       macro avg       0.68      0.67      0.67       581\n",
      "    weighted avg       0.68      0.67      0.67       581\n",
      "\n",
      "New best model saved with accuracy 66.95% at epoch 300\n",
      "Best Classification Report at Epoch 300:\n",
      "                  precision    recall  f1-score   support\n",
      "\n",
      "    infringement       0.63      0.76      0.69       283\n",
      "non_infringement       0.72      0.58      0.64       298\n",
      "\n",
      "        accuracy                           0.67       581\n",
      "       macro avg       0.68      0.67      0.67       581\n",
      "    weighted avg       0.68      0.67      0.67       581\n",
      "\n"
     ]
    },
    {
     "name": "stderr",
     "output_type": "stream",
     "text": [
      "Training Epochs:  62%|██████▏   | 309/500 [00:43<00:49,  3.86it/s]"
     ]
    },
    {
     "name": "stdout",
     "output_type": "stream",
     "text": [
      "Epoch 310/500, Loss: 0.0004\n",
      "Test Accuracy at Epoch 310: 67.13%\n",
      "Classification Report at Epoch 310:\n",
      "                  precision    recall  f1-score   support\n",
      "\n",
      "    infringement       0.64      0.76      0.69       283\n",
      "non_infringement       0.72      0.59      0.65       298\n",
      "\n",
      "        accuracy                           0.67       581\n",
      "       macro avg       0.68      0.67      0.67       581\n",
      "    weighted avg       0.68      0.67      0.67       581\n",
      "\n",
      "New best model saved with accuracy 67.13% at epoch 310\n",
      "Best Classification Report at Epoch 310:\n",
      "                  precision    recall  f1-score   support\n",
      "\n",
      "    infringement       0.64      0.76      0.69       283\n",
      "non_infringement       0.72      0.59      0.65       298\n",
      "\n",
      "        accuracy                           0.67       581\n",
      "       macro avg       0.68      0.67      0.67       581\n",
      "    weighted avg       0.68      0.67      0.67       581\n",
      "\n"
     ]
    },
    {
     "name": "stderr",
     "output_type": "stream",
     "text": [
      "Training Epochs:  64%|██████▍   | 319/500 [00:46<01:08,  2.63it/s]"
     ]
    },
    {
     "name": "stdout",
     "output_type": "stream",
     "text": [
      "Epoch 320/500, Loss: 0.0004\n",
      "Test Accuracy at Epoch 320: 67.13%\n",
      "Classification Report at Epoch 320:\n",
      "                  precision    recall  f1-score   support\n",
      "\n",
      "    infringement       0.64      0.76      0.69       283\n",
      "non_infringement       0.72      0.59      0.65       298\n",
      "\n",
      "        accuracy                           0.67       581\n",
      "       macro avg       0.68      0.67      0.67       581\n",
      "    weighted avg       0.68      0.67      0.67       581\n",
      "\n"
     ]
    },
    {
     "name": "stderr",
     "output_type": "stream",
     "text": [
      "Training Epochs:  66%|██████▌   | 330/500 [00:49<01:02,  2.72it/s]"
     ]
    },
    {
     "name": "stdout",
     "output_type": "stream",
     "text": [
      "Epoch 330/500, Loss: 0.0004\n",
      "Test Accuracy at Epoch 330: 67.30%\n",
      "Classification Report at Epoch 330:\n",
      "                  precision    recall  f1-score   support\n",
      "\n",
      "    infringement       0.64      0.76      0.69       283\n",
      "non_infringement       0.72      0.59      0.65       298\n",
      "\n",
      "        accuracy                           0.67       581\n",
      "       macro avg       0.68      0.68      0.67       581\n",
      "    weighted avg       0.68      0.67      0.67       581\n",
      "\n",
      "New best model saved with accuracy 67.30% at epoch 330\n",
      "Best Classification Report at Epoch 330:\n",
      "                  precision    recall  f1-score   support\n",
      "\n",
      "    infringement       0.64      0.76      0.69       283\n",
      "non_infringement       0.72      0.59      0.65       298\n",
      "\n",
      "        accuracy                           0.67       581\n",
      "       macro avg       0.68      0.68      0.67       581\n",
      "    weighted avg       0.68      0.67      0.67       581\n",
      "\n"
     ]
    },
    {
     "name": "stderr",
     "output_type": "stream",
     "text": [
      "Training Epochs:  68%|██████▊   | 338/500 [00:50<00:34,  4.75it/s]"
     ]
    },
    {
     "name": "stdout",
     "output_type": "stream",
     "text": [
      "Epoch 340/500, Loss: 0.0004\n"
     ]
    },
    {
     "name": "stderr",
     "output_type": "stream",
     "text": [
      "Training Epochs:  68%|██████▊   | 341/500 [00:51<00:39,  4.05it/s]"
     ]
    },
    {
     "name": "stdout",
     "output_type": "stream",
     "text": [
      "Test Accuracy at Epoch 340: 67.30%\n",
      "Classification Report at Epoch 340:\n",
      "                  precision    recall  f1-score   support\n",
      "\n",
      "    infringement       0.64      0.76      0.69       283\n",
      "non_infringement       0.72      0.59      0.65       298\n",
      "\n",
      "        accuracy                           0.67       581\n",
      "       macro avg       0.68      0.68      0.67       581\n",
      "    weighted avg       0.68      0.67      0.67       581\n",
      "\n"
     ]
    },
    {
     "name": "stderr",
     "output_type": "stream",
     "text": [
      "Training Epochs:  71%|███████   | 354/500 [00:52<00:11, 13.04it/s]"
     ]
    },
    {
     "name": "stdout",
     "output_type": "stream",
     "text": [
      "Epoch 350/500, Loss: 0.0003\n",
      "Test Accuracy at Epoch 350: 67.30%\n",
      "Classification Report at Epoch 350:\n",
      "                  precision    recall  f1-score   support\n",
      "\n",
      "    infringement       0.64      0.76      0.69       283\n",
      "non_infringement       0.72      0.59      0.65       298\n",
      "\n",
      "        accuracy                           0.67       581\n",
      "       macro avg       0.68      0.68      0.67       581\n",
      "    weighted avg       0.68      0.67      0.67       581\n",
      "\n"
     ]
    },
    {
     "name": "stderr",
     "output_type": "stream",
     "text": [
      "Training Epochs:  72%|███████▏  | 361/500 [00:55<00:28,  4.82it/s]"
     ]
    },
    {
     "name": "stdout",
     "output_type": "stream",
     "text": [
      "Epoch 360/500, Loss: 0.0003\n",
      "Test Accuracy at Epoch 360: 67.30%\n",
      "Classification Report at Epoch 360:\n",
      "                  precision    recall  f1-score   support\n",
      "\n",
      "    infringement       0.64      0.76      0.69       283\n",
      "non_infringement       0.72      0.59      0.65       298\n",
      "\n",
      "        accuracy                           0.67       581\n",
      "       macro avg       0.68      0.68      0.67       581\n",
      "    weighted avg       0.68      0.67      0.67       581\n",
      "\n"
     ]
    },
    {
     "name": "stderr",
     "output_type": "stream",
     "text": [
      "Training Epochs:  74%|███████▍  | 370/500 [00:57<00:41,  3.12it/s]"
     ]
    },
    {
     "name": "stdout",
     "output_type": "stream",
     "text": [
      "Epoch 370/500, Loss: 0.0003\n",
      "Test Accuracy at Epoch 370: 67.30%\n",
      "Classification Report at Epoch 370:\n",
      "                  precision    recall  f1-score   support\n",
      "\n",
      "    infringement       0.64      0.76      0.69       283\n",
      "non_infringement       0.72      0.59      0.65       298\n",
      "\n",
      "        accuracy                           0.67       581\n",
      "       macro avg       0.68      0.68      0.67       581\n",
      "    weighted avg       0.68      0.67      0.67       581\n",
      "\n"
     ]
    },
    {
     "name": "stderr",
     "output_type": "stream",
     "text": [
      "Training Epochs:  76%|███████▌  | 380/500 [01:00<00:29,  4.01it/s]"
     ]
    },
    {
     "name": "stdout",
     "output_type": "stream",
     "text": [
      "Epoch 380/500, Loss: 0.0003\n",
      "Test Accuracy at Epoch 380: 66.95%\n",
      "Classification Report at Epoch 380:\n",
      "                  precision    recall  f1-score   support\n",
      "\n",
      "    infringement       0.64      0.75      0.69       283\n",
      "non_infringement       0.72      0.59      0.65       298\n",
      "\n",
      "        accuracy                           0.67       581\n",
      "       macro avg       0.68      0.67      0.67       581\n",
      "    weighted avg       0.68      0.67      0.67       581\n",
      "\n"
     ]
    },
    {
     "name": "stderr",
     "output_type": "stream",
     "text": [
      "Training Epochs:  78%|███████▊  | 391/500 [01:04<00:31,  3.50it/s]"
     ]
    },
    {
     "name": "stdout",
     "output_type": "stream",
     "text": [
      "Epoch 390/500, Loss: 0.0003\n",
      "Test Accuracy at Epoch 390: 66.95%\n",
      "Classification Report at Epoch 390:\n",
      "                  precision    recall  f1-score   support\n",
      "\n",
      "    infringement       0.64      0.75      0.69       283\n",
      "non_infringement       0.72      0.59      0.65       298\n",
      "\n",
      "        accuracy                           0.67       581\n",
      "       macro avg       0.68      0.67      0.67       581\n",
      "    weighted avg       0.68      0.67      0.67       581\n",
      "\n"
     ]
    },
    {
     "name": "stderr",
     "output_type": "stream",
     "text": [
      "Training Epochs:  80%|████████  | 401/500 [01:07<00:33,  2.94it/s]"
     ]
    },
    {
     "name": "stdout",
     "output_type": "stream",
     "text": [
      "Epoch 400/500, Loss: 0.0002\n",
      "Test Accuracy at Epoch 400: 66.95%\n",
      "Classification Report at Epoch 400:\n",
      "                  precision    recall  f1-score   support\n",
      "\n",
      "    infringement       0.64      0.75      0.69       283\n",
      "non_infringement       0.72      0.59      0.65       298\n",
      "\n",
      "        accuracy                           0.67       581\n",
      "       macro avg       0.68      0.67      0.67       581\n",
      "    weighted avg       0.68      0.67      0.67       581\n",
      "\n"
     ]
    },
    {
     "name": "stderr",
     "output_type": "stream",
     "text": [
      "Training Epochs:  82%|████████▏ | 409/500 [01:07<00:16,  5.57it/s]"
     ]
    },
    {
     "name": "stdout",
     "output_type": "stream",
     "text": [
      "Epoch 410/500, Loss: 0.0002\n",
      "Test Accuracy at Epoch 410: 66.95%\n",
      "Classification Report at Epoch 410:\n",
      "                  precision    recall  f1-score   support\n",
      "\n",
      "    infringement       0.64      0.75      0.69       283\n",
      "non_infringement       0.72      0.59      0.65       298\n",
      "\n",
      "        accuracy                           0.67       581\n",
      "       macro avg       0.68      0.67      0.67       581\n",
      "    weighted avg       0.68      0.67      0.67       581\n",
      "\n"
     ]
    },
    {
     "name": "stderr",
     "output_type": "stream",
     "text": [
      "Training Epochs:  84%|████████▍ | 420/500 [01:10<00:12,  6.25it/s]"
     ]
    },
    {
     "name": "stdout",
     "output_type": "stream",
     "text": [
      "Epoch 420/500, Loss: 0.0002\n",
      "Test Accuracy at Epoch 420: 66.95%\n",
      "Classification Report at Epoch 420:\n",
      "                  precision    recall  f1-score   support\n",
      "\n",
      "    infringement       0.64      0.75      0.69       283\n",
      "non_infringement       0.72      0.59      0.65       298\n",
      "\n",
      "        accuracy                           0.67       581\n",
      "       macro avg       0.68      0.67      0.67       581\n",
      "    weighted avg       0.68      0.67      0.67       581\n",
      "\n"
     ]
    },
    {
     "name": "stderr",
     "output_type": "stream",
     "text": [
      "Training Epochs:  86%|████████▌ | 430/500 [01:14<00:31,  2.22it/s]"
     ]
    },
    {
     "name": "stdout",
     "output_type": "stream",
     "text": [
      "Epoch 430/500, Loss: 0.0002\n",
      "Test Accuracy at Epoch 430: 67.13%\n",
      "Classification Report at Epoch 430:\n",
      "                  precision    recall  f1-score   support\n",
      "\n",
      "    infringement       0.64      0.75      0.69       283\n",
      "non_infringement       0.72      0.59      0.65       298\n",
      "\n",
      "        accuracy                           0.67       581\n",
      "       macro avg       0.68      0.67      0.67       581\n",
      "    weighted avg       0.68      0.67      0.67       581\n",
      "\n"
     ]
    },
    {
     "name": "stderr",
     "output_type": "stream",
     "text": [
      "Training Epochs:  88%|████████▊ | 440/500 [01:17<00:09,  6.32it/s]"
     ]
    },
    {
     "name": "stdout",
     "output_type": "stream",
     "text": [
      "Epoch 440/500, Loss: 0.0002\n",
      "Test Accuracy at Epoch 440: 67.47%\n",
      "Classification Report at Epoch 440:\n",
      "                  precision    recall  f1-score   support\n",
      "\n",
      "    infringement       0.64      0.75      0.69       283\n",
      "non_infringement       0.72      0.60      0.65       298\n",
      "\n",
      "        accuracy                           0.67       581\n",
      "       macro avg       0.68      0.68      0.67       581\n",
      "    weighted avg       0.68      0.67      0.67       581\n",
      "\n",
      "New best model saved with accuracy 67.47% at epoch 440\n",
      "Best Classification Report at Epoch 440:\n",
      "                  precision    recall  f1-score   support\n",
      "\n",
      "    infringement       0.64      0.75      0.69       283\n",
      "non_infringement       0.72      0.60      0.65       298\n",
      "\n",
      "        accuracy                           0.67       581\n",
      "       macro avg       0.68      0.68      0.67       581\n",
      "    weighted avg       0.68      0.67      0.67       581\n",
      "\n"
     ]
    },
    {
     "name": "stderr",
     "output_type": "stream",
     "text": [
      "Training Epochs:  89%|████████▉ | 447/500 [01:19<00:10,  4.86it/s]"
     ]
    },
    {
     "name": "stdout",
     "output_type": "stream",
     "text": [
      "Epoch 450/500, Loss: 0.0002\n",
      "Test Accuracy at Epoch 450: 67.47%\n",
      "Classification Report at Epoch 450:\n",
      "                  precision    recall  f1-score   support\n",
      "\n",
      "    infringement       0.64      0.75      0.69       283\n",
      "non_infringement       0.72      0.60      0.65       298\n",
      "\n",
      "        accuracy                           0.67       581\n",
      "       macro avg       0.68      0.68      0.67       581\n",
      "    weighted avg       0.68      0.67      0.67       581\n",
      "\n"
     ]
    },
    {
     "name": "stderr",
     "output_type": "stream",
     "text": [
      "Training Epochs:  92%|█████████▏| 460/500 [01:22<00:07,  5.27it/s]"
     ]
    },
    {
     "name": "stdout",
     "output_type": "stream",
     "text": [
      "Epoch 460/500, Loss: 0.0002\n",
      "Test Accuracy at Epoch 460: 67.47%\n",
      "Classification Report at Epoch 460:\n",
      "                  precision    recall  f1-score   support\n",
      "\n",
      "    infringement       0.64      0.75      0.69       283\n",
      "non_infringement       0.72      0.60      0.65       298\n",
      "\n",
      "        accuracy                           0.67       581\n",
      "       macro avg       0.68      0.68      0.67       581\n",
      "    weighted avg       0.68      0.67      0.67       581\n",
      "\n"
     ]
    },
    {
     "name": "stderr",
     "output_type": "stream",
     "text": [
      "Training Epochs:  94%|█████████▍| 470/500 [01:24<00:03,  8.97it/s]"
     ]
    },
    {
     "name": "stdout",
     "output_type": "stream",
     "text": [
      "Epoch 470/500, Loss: 0.0002\n",
      "Test Accuracy at Epoch 470: 67.47%\n",
      "Classification Report at Epoch 470:\n",
      "                  precision    recall  f1-score   support\n",
      "\n",
      "    infringement       0.64      0.75      0.69       283\n",
      "non_infringement       0.72      0.60      0.65       298\n",
      "\n",
      "        accuracy                           0.67       581\n",
      "       macro avg       0.68      0.68      0.67       581\n",
      "    weighted avg       0.68      0.67      0.67       581\n",
      "\n"
     ]
    },
    {
     "name": "stderr",
     "output_type": "stream",
     "text": [
      "Training Epochs:  96%|█████████▌| 481/500 [01:28<00:06,  3.15it/s]"
     ]
    },
    {
     "name": "stdout",
     "output_type": "stream",
     "text": [
      "Epoch 480/500, Loss: 0.0002\n",
      "Test Accuracy at Epoch 480: 67.30%\n",
      "Classification Report at Epoch 480:\n",
      "                  precision    recall  f1-score   support\n",
      "\n",
      "    infringement       0.64      0.75      0.69       283\n",
      "non_infringement       0.72      0.60      0.65       298\n",
      "\n",
      "        accuracy                           0.67       581\n",
      "       macro avg       0.68      0.67      0.67       581\n",
      "    weighted avg       0.68      0.67      0.67       581\n",
      "\n"
     ]
    },
    {
     "name": "stderr",
     "output_type": "stream",
     "text": [
      "Training Epochs:  98%|█████████▊| 490/500 [01:28<00:01,  9.39it/s]"
     ]
    },
    {
     "name": "stdout",
     "output_type": "stream",
     "text": [
      "Epoch 490/500, Loss: 0.0002\n",
      "Test Accuracy at Epoch 490: 67.99%\n",
      "Classification Report at Epoch 490:\n",
      "                  precision    recall  f1-score   support\n",
      "\n",
      "    infringement       0.65      0.75      0.70       283\n",
      "non_infringement       0.72      0.61      0.66       298\n",
      "\n",
      "        accuracy                           0.68       581\n",
      "       macro avg       0.68      0.68      0.68       581\n",
      "    weighted avg       0.69      0.68      0.68       581\n",
      "\n",
      "New best model saved with accuracy 67.99% at epoch 490\n",
      "Best Classification Report at Epoch 490:\n",
      "                  precision    recall  f1-score   support\n",
      "\n",
      "    infringement       0.65      0.75      0.70       283\n",
      "non_infringement       0.72      0.61      0.66       298\n",
      "\n",
      "        accuracy                           0.68       581\n",
      "       macro avg       0.68      0.68      0.68       581\n",
      "    weighted avg       0.69      0.68      0.68       581\n",
      "\n"
     ]
    },
    {
     "name": "stderr",
     "output_type": "stream",
     "text": [
      "Training Epochs: 100%|██████████| 500/500 [01:31<00:00,  5.47it/s]\n",
      "/tmp/ipykernel_3168682/1033092828.py:47: FutureWarning: You are using `torch.load` with `weights_only=False` (the current default value), which uses the default pickle module implicitly. It is possible to construct malicious pickle data which will execute arbitrary code during unpickling (See https://github.com/pytorch/pytorch/blob/main/SECURITY.md#untrusted-models for more details). In a future release, the default value for `weights_only` will be flipped to `True`. This limits the functions that could be executed during unpickling. Arbitrary objects will no longer be allowed to be loaded via this mode unless they are explicitly allowlisted by the user via `torch.serialization.add_safe_globals`. We recommend you start setting `weights_only=True` for any use case where you don't have full control of the loaded file. Please open an issue on GitHub for any issues related to this experimental feature.\n",
      "  custom_mlp.load_state_dict(torch.load(checkpoint_path))\n"
     ]
    },
    {
     "name": "stdout",
     "output_type": "stream",
     "text": [
      "Epoch 500/500, Loss: 0.0002\n",
      "Test Accuracy at Epoch 500: 67.99%\n",
      "Classification Report at Epoch 500:\n",
      "                  precision    recall  f1-score   support\n",
      "\n",
      "    infringement       0.65      0.75      0.70       283\n",
      "non_infringement       0.72      0.61      0.66       298\n",
      "\n",
      "        accuracy                           0.68       581\n",
      "       macro avg       0.68      0.68      0.68       581\n",
      "    weighted avg       0.69      0.68      0.68       581\n",
      "\n"
     ]
    },
    {
     "data": {
      "image/png": "[encoded data removed]",
      "text/plain": [
       "<Figure size 1000x500 with 1 Axes>"
      ]
     },
     "metadata": {},
     "output_type": "display_data"
    },
    {
     "name": "stdout",
     "output_type": "stream",
     "text": [
      "Final Model Accuracy: 67.99%\n"
     ]
    }
   ],
   "source": [
    "input_dim = X_train.shape[1]\n",
    "hidden_dim = 256 \n",
    "print(f\"Training MLP model with input_dim={input_dim} and hidden_dim={hidden_dim}\")\n",
    "\n",
    "custom_mlp, losses, best_accuracy = train_model(X_train, y_train, X_test, y_test, input_dim, hidden_dim)"
   ]
  },
  {
   "cell_type": "code",
   "execution_count": 10,
   "metadata": {},
   "outputs": [
    {
     "name": "stdout",
     "output_type": "stream",
     "text": [
      "Checkpoint saved to '/home/guangwei/LLM-COPYRIGHT/copyright_newVersion/models/train_input_reference_last_layer_embedding_TSNE2.pth'.\n"
     ]
    }
   ],
   "source": [
    "def save_checkpoint(model, optimizer, epoch, loss, filepath):\n",
    "    checkpoint = {\n",
    "        'epoch': epoch + 1,\n",
    "        'model_state_dict': model.state_dict(),\n",
    "        'optimizer_state_dict': optimizer.state_dict(),\n",
    "        'loss': loss\n",
    "    }\n",
    "    torch.save(checkpoint, filepath)\n",
    "    print(f\"Checkpoint saved to '{filepath}'.\")\n",
    "\n",
    "save_checkpoint(custom_mlp, torch.optim.Adam(custom_mlp.parameters()), len(losses), losses[-1], checkpoint_file)"
   ]
  },
  {
   "cell_type": "code",
   "execution_count": 11,
   "metadata": {},
   "outputs": [
    {
     "name": "stdout",
     "output_type": "stream",
     "text": [
      "                  precision    recall  f1-score   support\n",
      "\n",
      "    infringement       0.65      0.75      0.70       283\n",
      "non_infringement       0.72      0.61      0.66       298\n",
      "\n",
      "        accuracy                           0.68       581\n",
      "       macro avg       0.68      0.68      0.68       581\n",
      "    weighted avg       0.69      0.68      0.68       581\n",
      "\n"
     ]
    },
    {
     "name": "stderr",
     "output_type": "stream",
     "text": [
      "/tmp/ipykernel_3168682/2137335780.py:1: UserWarning: To copy construct from a tensor, it is recommended to use sourceTensor.clone().detach() or sourceTensor.clone().detach().requires_grad_(True), rather than torch.tensor(sourceTensor).\n",
      "  y_pred_final = (torch.sigmoid(torch.tensor(custom_mlp(torch.tensor(X_test, dtype=torch.float32)))) > 0.5).float().numpy()\n"
     ]
    }
   ],
   "source": [
    "y_pred_final = (torch.sigmoid(torch.tensor(custom_mlp(torch.tensor(X_test, dtype=torch.float32)))) > 0.5).float().numpy()\n",
    "print(classification_report(y_test, y_pred_final, target_names=[\"infringement\", \"non_infringement\"]))"
   ]
  }
 ],
 "metadata": {
  "kernelspec": {
   "display_name": "sit",
   "language": "python",
   "name": "python3"
  },
  "language_info": {
   "codemirror_mode": {
    "name": "ipython",
    "version": 3
   },
   "file_extension": ".py",
   "mimetype": "text/x-python",
   "name": "python",
   "nbconvert_exporter": "python",
   "pygments_lexer": "ipython3",
   "version": "3.8.20"
  }
 },
 "nbformat": 4,
 "nbformat_minor": 2
}
