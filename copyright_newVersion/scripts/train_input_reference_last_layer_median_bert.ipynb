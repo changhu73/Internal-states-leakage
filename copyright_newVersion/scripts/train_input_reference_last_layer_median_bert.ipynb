{
 "cells": [
  {
   "cell_type": "code",
   "execution_count": 61,
   "metadata": {},
   "outputs": [],
   "source": [
    "# import packages & variables\n",
    "import argparse\n",
    "import torch\n",
    "import torch.nn as nn\n",
    "import numpy as np\n",
    "from sklearn.metrics import accuracy_score, classification_report\n",
    "import matplotlib.pyplot as plt\n",
    "from tqdm import tqdm\n",
    "from transformers import AutoTokenizer, AutoModelForCausalLM, AutoModelForSequenceClassification, AutoModel\n",
    "import json\n",
    "import torch.nn.functional as F\n",
    "\n",
    "# Parameters\n",
    "model_name = 'meta-llama/Meta-Llama-3.1-8B'\n",
    "non_infringement_file = '/home/guangwei/LLM-COPYRIGHT/copyright_newVersion/test_division/extra_10.non_infringement.json'\n",
    "infringement_file = '/home/guangwei/LLM-COPYRIGHT/copyright_newVersion/test_division/extra_10.infringement.json'\n",
    "checkpoint_file = '/home/guangwei/LLM-COPYRIGHT/copyright_newVersion/models/train_input_reference_last_layer_median_BERTclassifier.pth'\n"
   ]
  },
  {
   "cell_type": "code",
   "execution_count": 62,
   "metadata": {},
   "outputs": [],
   "source": [
    "# Extract hidden states/reference embeddings\n",
    "def extract_hidden_states(texts, model, tokenizer, batch_size=4):\n",
    "    hidden_states = []\n",
    "    for i in tqdm(range(0, len(texts), batch_size), desc=\"Processing data batches\"):\n",
    "        batch_texts = texts[i:i + batch_size]\n",
    "        inputs = tokenizer(batch_texts, return_tensors=\"pt\", padding=True, truncation=True, max_length=512)\n",
    "        with torch.no_grad():\n",
    "            outputs = model(**inputs)\n",
    "        hidden_states.append(outputs.hidden_states[-1].mean(dim=1).cpu().numpy())\n",
    "    return np.vstack(hidden_states)\n",
    "\n",
    "def extract_reference_embeddings(references, model, tokenizer, batch_size=4):\n",
    "    embeddings = []\n",
    "    for i in tqdm(range(0, len(references), batch_size), desc=\"Processing references\"):\n",
    "        batch_references = references[i:i + batch_size]\n",
    "        inputs = tokenizer(batch_references, return_tensors=\"pt\", padding=True, truncation=True, max_length=512)\n",
    "        with torch.no_grad():\n",
    "            outputs = model(**inputs)\n",
    "        embeddings.append(outputs.pooler_output.cpu().numpy())\n",
    "    return np.vstack(embeddings)"
   ]
  },
  {
   "cell_type": "code",
   "execution_count": 63,
   "metadata": {},
   "outputs": [],
   "source": [
    "# Load data for infringement & non infringement\n",
    "def load_data(non_infringement_file, infringement_file):\n",
    "    with open(non_infringement_file, 'r', encoding='utf-8') as file:\n",
    "        non_infringement_json_data = json.load(file)\n",
    "\n",
    "    non_infringement_outputs = [entry['input'] for entry in non_infringement_json_data]\n",
    "    non_infringement_references = [entry['reference'] for entry in non_infringement_json_data]\n",
    "    y_non_infringement = [1] * len(non_infringement_outputs)\n",
    "\n",
    "    with open(infringement_file, 'r', encoding='utf-8') as file:\n",
    "        infringement_json_data = json.load(file)\n",
    "\n",
    "    infringement_outputs = [entry['input'] for entry in infringement_json_data]\n",
    "    infringement_references = [entry['reference'] for entry in infringement_json_data]\n",
    "    y_infringement = [0] * len(infringement_outputs)\n",
    "\n",
    "    return non_infringement_outputs, non_infringement_references, y_non_infringement, infringement_outputs, infringement_references, y_infringement"
   ]
  },
  {
   "cell_type": "code",
   "execution_count": 64,
   "metadata": {},
   "outputs": [],
   "source": [
    "\n",
    "def train_bert_model(X_train, y_train, X_test, y_test, epochs=3, lr=2e-5, checkpoint_path=None):\n",
    "\n",
    "    tokenizer = AutoTokenizer.from_pretrained('bert-base-uncased')\n",
    "\n",
    "    encoded_train = tokenizer(X_train, padding=True, truncation=True, return_tensors='pt')\n",
    "    encoded_test = tokenizer(X_test, padding=True, truncation=True, return_tensors='pt')\n",
    "\n",
    "    X_train_tensor = encoded_train['input_ids']\n",
    "    attention_mask_train = encoded_train['attention_mask']\n",
    "    X_test_tensor = encoded_test['input_ids']\n",
    "    attention_mask_test = encoded_test['attention_mask']\n",
    "\n",
    "    bert_classifier = AutoModelForSequenceClassification.from_pretrained('bert-base-uncased', num_labels=2)\n",
    "    # criterion = nn.BCEWithLogitsLoss()\n",
    "    criterion = nn.CrossEntropyLoss()\n",
    "    optimizer = torch.optim.Adam(bert_classifier.parameters(), lr=lr)\n",
    "\n",
    "    y_train_tensor = torch.tensor(y_train, dtype=torch.float32).unsqueeze(1)\n",
    "    y_train_tensor = F.one_hot(y_train_tensor.to(torch.int64), num_classes=2).float()\n",
    "    best_accuracy = -float('inf')\n",
    "    best_model_state = None\n",
    "    best_epoch = 0\n",
    "    losses = []\n",
    "\n",
    "    for epoch in tqdm(range(epochs), desc=\"Training Epochs\"):\n",
    "        bert_classifier.train()\n",
    "        optimizer.zero_grad()\n",
    "\n",
    "        outputs = bert_classifier(input_ids=X_train_tensor, attention_mask=attention_mask_train)\n",
    "        loss = criterion(outputs.logits, y_train_tensor)\n",
    "        loss.backward()\n",
    "        optimizer.step()\n",
    "        losses.append(loss.item())\n",
    "\n",
    "        if (epoch + 1) % 1 == 0:\n",
    "            print(f\"Epoch {epoch + 1}/{epochs}, Loss: {loss.item():.4f}\")\n",
    "\n",
    "            bert_classifier.eval()\n",
    "            with torch.no_grad():\n",
    "                y_pred_logits = bert_classifier(input_ids=X_test_tensor, attention_mask=attention_mask_test).logits\n",
    "                y_pred = (torch.sigmoid(y_pred_logits) > 0.5).float().numpy()\n",
    "\n",
    "            accuracy = accuracy_score(y_test, y_pred)\n",
    "            print(f\"Test Accuracy at Epoch {epoch + 1}: {accuracy * 100:.2f}%\")\n",
    "\n",
    "            report = classification_report(y_test, y_pred, target_names=[\"infringement\", \"non_infringement\"])\n",
    "            print(f\"Classification Report at Epoch {epoch + 1}:\\n{report}\")\n",
    "\n",
    "            if accuracy > best_accuracy:\n",
    "                best_accuracy = accuracy\n",
    "                best_model_state = bert_classifier.state_dict()\n",
    "                best_epoch = epoch + 1\n",
    "                if checkpoint_path:\n",
    "                    torch.save(best_model_state, checkpoint_path)\n",
    "                print(f\"New best model saved with accuracy {best_accuracy * 100:.2f}% at epoch {best_epoch}\")\n",
    "                print(f\"Best Classification Report at Epoch {best_epoch}:\\n{report}\")\n",
    "\n",
    "    if checkpoint_path:\n",
    "        bert_classifier.load_state_dict(torch.load(checkpoint_path))\n",
    "\n",
    "    plt.figure(figsize=(10, 5))\n",
    "    plt.plot(losses, label='Training Loss')\n",
    "    plt.xlabel('Epoch')\n",
    "    plt.ylabel('Loss')\n",
    "    plt.title('Training Loss Curve')\n",
    "    plt.legend()\n",
    "    plt.show()\n",
    "\n",
    "    print(f\"Best Model was saved at epoch {best_epoch} with accuracy {best_accuracy * 100:.2f}%\")\n",
    "    print(f\"Best Classification Report {report}\")\n",
    "    return bert_classifier, losses, best_accuracy"
   ]
  },
  {
   "cell_type": "code",
   "execution_count": 65,
   "metadata": {},
   "outputs": [],
   "source": [
    "# def main for reference embedding/train\n",
    "def main(model_name, non_infringement_file, infringement_file, checkpoint_path):\n",
    "    tokenizer = AutoTokenizer.from_pretrained(model_name, model_max_length=512)\n",
    "    model = AutoModelForCausalLM.from_pretrained(model_name, output_hidden_states=True)\n",
    "    tokenizer.pad_token = tokenizer.eos_token\n",
    "    bert_tokenizer = AutoTokenizer.from_pretrained('bert-base-uncased')\n",
    "    bert_model = AutoModel.from_pretrained('bert-base-uncased')\n",
    "    bert_tokenizer.pad_token = tokenizer.eos_token\n",
    "\n",
    "    non_infringement_outputs, non_infringement_references, y_non_infringement, infringement_outputs, infringement_references, y_infringement = load_data(\n",
    "        non_infringement_file, infringement_file\n",
    "    )\n",
    "\n",
    "    y_non_infringement = np.array(y_non_infringement)\n",
    "    y_infringement = np.array(y_infringement)\n",
    "\n",
    "    print(\"Extracting hidden states for non_infringement texts...\")\n",
    "    X_non_infringement = extract_hidden_states(non_infringement_outputs, model, tokenizer)\n",
    "    print(\"Extracting reference embeddings for non_infringement texts...\")\n",
    "    reference_embeddings_non_infringement = extract_reference_embeddings(non_infringement_references, bert_model, bert_tokenizer)\n",
    "    X_non_infringement_combined = np.hstack([X_non_infringement, reference_embeddings_non_infringement])\n",
    "\n",
    "    print(\"Extracting hidden states for infringement texts...\")\n",
    "    X_infringement = extract_hidden_states(infringement_outputs, model, tokenizer)\n",
    "    print(\"Extracting reference embeddings for infringement texts...\")\n",
    "    reference_embeddings_infringement = extract_reference_embeddings(infringement_references, bert_model, bert_tokenizer)\n",
    "    X_infringement_combined = np.hstack([X_infringement, reference_embeddings_infringement])\n",
    "\n",
    "    split_index_non_infringement = int(0.8 * len(X_non_infringement_combined))\n",
    "    X_non_infringement_train = X_non_infringement_combined[:split_index_non_infringement]\n",
    "    X_non_infringement_test = X_non_infringement_combined[split_index_non_infringement:]\n",
    "    y_non_infringement_train = y_non_infringement[:split_index_non_infringement]\n",
    "    y_non_infringement_test = y_non_infringement[split_index_non_infringement:]\n",
    "\n",
    "    split_index_infringement = int(0.8 * len(X_infringement_combined))\n",
    "    X_infringement_train = X_infringement_combined[:split_index_infringement]\n",
    "    X_infringement_test = X_infringement_combined[split_index_infringement:]\n",
    "    y_infringement_train = y_infringement[:split_index_infringement]\n",
    "    y_infringement_test = y_infringement[split_index_infringement:]\n",
    "\n",
    "    X_train = np.vstack((X_non_infringement_train, X_infringement_train))\n",
    "    X_test = np.vstack((X_non_infringement_test, X_infringement_test))\n",
    "    y_train = np.concatenate((y_non_infringement_train, y_infringement_train))\n",
    "    y_test = np.concatenate((y_non_infringement_test, y_infringement_test))\n",
    "\n",
    "\n",
    "    X_train = [str(sample) for sample in X_train] \n",
    "    X_test = [str(sample) for sample in X_test] \n",
    "    \n",
    "        \n",
    "    print(f\"Training BERT model with combined embeddings\")\n",
    "\n",
    "    best_model, losses, best_accuracy = train_bert_model(X_train, y_train, X_test, y_test, epochs=3, lr=2e-5, checkpoint_path=checkpoint_path)"
   ]
  },
  {
   "cell_type": "code",
   "execution_count": 66,
   "metadata": {},
   "outputs": [
    {
     "name": "stderr",
     "output_type": "stream",
     "text": [
      "Loading checkpoint shards: 100%|██████████| 4/4 [00:06<00:00,  1.62s/it]\n"
     ]
    },
    {
     "name": "stdout",
     "output_type": "stream",
     "text": [
      "Extracting hidden states for non_infringement texts...\n"
     ]
    },
    {
     "name": "stderr",
     "output_type": "stream",
     "text": [
      "Processing data batches: 100%|██████████| 65/65 [04:26<00:00,  4.10s/it]\n"
     ]
    },
    {
     "name": "stdout",
     "output_type": "stream",
     "text": [
      "Extracting reference embeddings for non_infringement texts...\n"
     ]
    },
    {
     "name": "stderr",
     "output_type": "stream",
     "text": [
      "Processing references: 100%|██████████| 65/65 [00:09<00:00,  6.94it/s]\n"
     ]
    },
    {
     "name": "stdout",
     "output_type": "stream",
     "text": [
      "Extracting hidden states for infringement texts...\n"
     ]
    },
    {
     "name": "stderr",
     "output_type": "stream",
     "text": [
      "Processing data batches: 100%|██████████| 81/81 [06:07<00:00,  4.54s/it]\n"
     ]
    },
    {
     "name": "stdout",
     "output_type": "stream",
     "text": [
      "Extracting reference embeddings for infringement texts...\n"
     ]
    },
    {
     "name": "stderr",
     "output_type": "stream",
     "text": [
      "Processing references: 100%|██████████| 81/81 [00:11<00:00,  7.17it/s]\n"
     ]
    },
    {
     "name": "stdout",
     "output_type": "stream",
     "text": [
      "Training BERT model with combined embeddings\n"
     ]
    },
    {
     "name": "stderr",
     "output_type": "stream",
     "text": [
      "Some weights of BertForSequenceClassification were not initialized from the model checkpoint at bert-base-uncased and are newly initialized: ['classifier.bias', 'classifier.weight']\n",
      "You should probably TRAIN this model on a down-stream task to be able to use it for predictions and inference.\n",
      "Training Epochs:   0%|          | 0/3 [00:08<?, ?it/s]\n"
     ]
    },
    {
     "ename": "ValueError",
     "evalue": "Target size (torch.Size([463, 1])) must be the same as input size (torch.Size([463, 2]))",
     "output_type": "error",
     "traceback": [
      "\u001b[0;31m---------------------------------------------------------------------------\u001b[0m",
      "\u001b[0;31mValueError\u001b[0m                                Traceback (most recent call last)",
      "Cell \u001b[0;32mIn[66], line 2\u001b[0m\n\u001b[1;32m      1\u001b[0m \u001b[38;5;66;03m# Run main\u001b[39;00m\n\u001b[0;32m----> 2\u001b[0m \u001b[43mmain\u001b[49m\u001b[43m(\u001b[49m\u001b[43mmodel_name\u001b[49m\u001b[43m,\u001b[49m\u001b[43m \u001b[49m\u001b[43mnon_infringement_file\u001b[49m\u001b[43m,\u001b[49m\u001b[43m \u001b[49m\u001b[43minfringement_file\u001b[49m\u001b[43m,\u001b[49m\u001b[43m \u001b[49m\u001b[43mcheckpoint_file\u001b[49m\u001b[43m)\u001b[49m\n",
      "Cell \u001b[0;32mIn[65], line 53\u001b[0m, in \u001b[0;36mmain\u001b[0;34m(model_name, non_infringement_file, infringement_file, checkpoint_path)\u001b[0m\n\u001b[1;32m     48\u001b[0m X_test \u001b[38;5;241m=\u001b[39m [\u001b[38;5;28mstr\u001b[39m(sample) \u001b[38;5;28;01mfor\u001b[39;00m sample \u001b[38;5;129;01min\u001b[39;00m X_test] \n\u001b[1;32m     51\u001b[0m \u001b[38;5;28mprint\u001b[39m(\u001b[38;5;124mf\u001b[39m\u001b[38;5;124m\"\u001b[39m\u001b[38;5;124mTraining BERT model with combined embeddings\u001b[39m\u001b[38;5;124m\"\u001b[39m)\n\u001b[0;32m---> 53\u001b[0m best_model, losses, best_accuracy \u001b[38;5;241m=\u001b[39m \u001b[43mtrain_bert_model\u001b[49m\u001b[43m(\u001b[49m\u001b[43mX_train\u001b[49m\u001b[43m,\u001b[49m\u001b[43m \u001b[49m\u001b[43my_train\u001b[49m\u001b[43m,\u001b[49m\u001b[43m \u001b[49m\u001b[43mX_test\u001b[49m\u001b[43m,\u001b[49m\u001b[43m \u001b[49m\u001b[43my_test\u001b[49m\u001b[43m,\u001b[49m\u001b[43m \u001b[49m\u001b[43mepochs\u001b[49m\u001b[38;5;241;43m=\u001b[39;49m\u001b[38;5;241;43m3\u001b[39;49m\u001b[43m,\u001b[49m\u001b[43m \u001b[49m\u001b[43mlr\u001b[49m\u001b[38;5;241;43m=\u001b[39;49m\u001b[38;5;241;43m2e-5\u001b[39;49m\u001b[43m,\u001b[49m\u001b[43m \u001b[49m\u001b[43mcheckpoint_path\u001b[49m\u001b[38;5;241;43m=\u001b[39;49m\u001b[43mcheckpoint_path\u001b[49m\u001b[43m)\u001b[49m\n",
      "Cell \u001b[0;32mIn[64], line 30\u001b[0m, in \u001b[0;36mtrain_bert_model\u001b[0;34m(X_train, y_train, X_test, y_test, epochs, lr, checkpoint_path)\u001b[0m\n\u001b[1;32m     27\u001b[0m optimizer\u001b[38;5;241m.\u001b[39mzero_grad()\n\u001b[1;32m     29\u001b[0m outputs \u001b[38;5;241m=\u001b[39m bert_classifier(input_ids\u001b[38;5;241m=\u001b[39mX_train_tensor, attention_mask\u001b[38;5;241m=\u001b[39mattention_mask_train)\n\u001b[0;32m---> 30\u001b[0m loss \u001b[38;5;241m=\u001b[39m \u001b[43mcriterion\u001b[49m\u001b[43m(\u001b[49m\u001b[43moutputs\u001b[49m\u001b[38;5;241;43m.\u001b[39;49m\u001b[43mlogits\u001b[49m\u001b[43m,\u001b[49m\u001b[43m \u001b[49m\u001b[43my_train_tensor\u001b[49m\u001b[43m)\u001b[49m\n\u001b[1;32m     31\u001b[0m loss\u001b[38;5;241m.\u001b[39mbackward()\n\u001b[1;32m     32\u001b[0m optimizer\u001b[38;5;241m.\u001b[39mstep()\n",
      "File \u001b[0;32m~/anaconda3/envs/sit/lib/python3.8/site-packages/torch/nn/modules/module.py:1553\u001b[0m, in \u001b[0;36mModule._wrapped_call_impl\u001b[0;34m(self, *args, **kwargs)\u001b[0m\n\u001b[1;32m   1551\u001b[0m     \u001b[38;5;28;01mreturn\u001b[39;00m \u001b[38;5;28mself\u001b[39m\u001b[38;5;241m.\u001b[39m_compiled_call_impl(\u001b[38;5;241m*\u001b[39margs, \u001b[38;5;241m*\u001b[39m\u001b[38;5;241m*\u001b[39mkwargs)  \u001b[38;5;66;03m# type: ignore[misc]\u001b[39;00m\n\u001b[1;32m   1552\u001b[0m \u001b[38;5;28;01melse\u001b[39;00m:\n\u001b[0;32m-> 1553\u001b[0m     \u001b[38;5;28;01mreturn\u001b[39;00m \u001b[38;5;28;43mself\u001b[39;49m\u001b[38;5;241;43m.\u001b[39;49m\u001b[43m_call_impl\u001b[49m\u001b[43m(\u001b[49m\u001b[38;5;241;43m*\u001b[39;49m\u001b[43margs\u001b[49m\u001b[43m,\u001b[49m\u001b[43m \u001b[49m\u001b[38;5;241;43m*\u001b[39;49m\u001b[38;5;241;43m*\u001b[39;49m\u001b[43mkwargs\u001b[49m\u001b[43m)\u001b[49m\n",
      "File \u001b[0;32m~/anaconda3/envs/sit/lib/python3.8/site-packages/torch/nn/modules/module.py:1562\u001b[0m, in \u001b[0;36mModule._call_impl\u001b[0;34m(self, *args, **kwargs)\u001b[0m\n\u001b[1;32m   1557\u001b[0m \u001b[38;5;66;03m# If we don't have any hooks, we want to skip the rest of the logic in\u001b[39;00m\n\u001b[1;32m   1558\u001b[0m \u001b[38;5;66;03m# this function, and just call forward.\u001b[39;00m\n\u001b[1;32m   1559\u001b[0m \u001b[38;5;28;01mif\u001b[39;00m \u001b[38;5;129;01mnot\u001b[39;00m (\u001b[38;5;28mself\u001b[39m\u001b[38;5;241m.\u001b[39m_backward_hooks \u001b[38;5;129;01mor\u001b[39;00m \u001b[38;5;28mself\u001b[39m\u001b[38;5;241m.\u001b[39m_backward_pre_hooks \u001b[38;5;129;01mor\u001b[39;00m \u001b[38;5;28mself\u001b[39m\u001b[38;5;241m.\u001b[39m_forward_hooks \u001b[38;5;129;01mor\u001b[39;00m \u001b[38;5;28mself\u001b[39m\u001b[38;5;241m.\u001b[39m_forward_pre_hooks\n\u001b[1;32m   1560\u001b[0m         \u001b[38;5;129;01mor\u001b[39;00m _global_backward_pre_hooks \u001b[38;5;129;01mor\u001b[39;00m _global_backward_hooks\n\u001b[1;32m   1561\u001b[0m         \u001b[38;5;129;01mor\u001b[39;00m _global_forward_hooks \u001b[38;5;129;01mor\u001b[39;00m _global_forward_pre_hooks):\n\u001b[0;32m-> 1562\u001b[0m     \u001b[38;5;28;01mreturn\u001b[39;00m \u001b[43mforward_call\u001b[49m\u001b[43m(\u001b[49m\u001b[38;5;241;43m*\u001b[39;49m\u001b[43margs\u001b[49m\u001b[43m,\u001b[49m\u001b[43m \u001b[49m\u001b[38;5;241;43m*\u001b[39;49m\u001b[38;5;241;43m*\u001b[39;49m\u001b[43mkwargs\u001b[49m\u001b[43m)\u001b[49m\n\u001b[1;32m   1564\u001b[0m \u001b[38;5;28;01mtry\u001b[39;00m:\n\u001b[1;32m   1565\u001b[0m     result \u001b[38;5;241m=\u001b[39m \u001b[38;5;28;01mNone\u001b[39;00m\n",
      "File \u001b[0;32m~/anaconda3/envs/sit/lib/python3.8/site-packages/torch/nn/modules/loss.py:734\u001b[0m, in \u001b[0;36mBCEWithLogitsLoss.forward\u001b[0;34m(self, input, target)\u001b[0m\n\u001b[1;32m    733\u001b[0m \u001b[38;5;28;01mdef\u001b[39;00m \u001b[38;5;21mforward\u001b[39m(\u001b[38;5;28mself\u001b[39m, \u001b[38;5;28minput\u001b[39m: Tensor, target: Tensor) \u001b[38;5;241m-\u001b[39m\u001b[38;5;241m>\u001b[39m Tensor:\n\u001b[0;32m--> 734\u001b[0m     \u001b[38;5;28;01mreturn\u001b[39;00m \u001b[43mF\u001b[49m\u001b[38;5;241;43m.\u001b[39;49m\u001b[43mbinary_cross_entropy_with_logits\u001b[49m\u001b[43m(\u001b[49m\u001b[38;5;28;43minput\u001b[39;49m\u001b[43m,\u001b[49m\u001b[43m \u001b[49m\u001b[43mtarget\u001b[49m\u001b[43m,\u001b[49m\n\u001b[1;32m    735\u001b[0m \u001b[43m                                              \u001b[49m\u001b[38;5;28;43mself\u001b[39;49m\u001b[38;5;241;43m.\u001b[39;49m\u001b[43mweight\u001b[49m\u001b[43m,\u001b[49m\n\u001b[1;32m    736\u001b[0m \u001b[43m                                              \u001b[49m\u001b[43mpos_weight\u001b[49m\u001b[38;5;241;43m=\u001b[39;49m\u001b[38;5;28;43mself\u001b[39;49m\u001b[38;5;241;43m.\u001b[39;49m\u001b[43mpos_weight\u001b[49m\u001b[43m,\u001b[49m\n\u001b[1;32m    737\u001b[0m \u001b[43m                                              \u001b[49m\u001b[43mreduction\u001b[49m\u001b[38;5;241;43m=\u001b[39;49m\u001b[38;5;28;43mself\u001b[39;49m\u001b[38;5;241;43m.\u001b[39;49m\u001b[43mreduction\u001b[49m\u001b[43m)\u001b[49m\n",
      "File \u001b[0;32m~/anaconda3/envs/sit/lib/python3.8/site-packages/torch/nn/functional.py:3242\u001b[0m, in \u001b[0;36mbinary_cross_entropy_with_logits\u001b[0;34m(input, target, weight, size_average, reduce, reduction, pos_weight)\u001b[0m\n\u001b[1;32m   3239\u001b[0m     reduction_enum \u001b[38;5;241m=\u001b[39m _Reduction\u001b[38;5;241m.\u001b[39mget_enum(reduction)\n\u001b[1;32m   3241\u001b[0m \u001b[38;5;28;01mif\u001b[39;00m \u001b[38;5;129;01mnot\u001b[39;00m (target\u001b[38;5;241m.\u001b[39msize() \u001b[38;5;241m==\u001b[39m \u001b[38;5;28minput\u001b[39m\u001b[38;5;241m.\u001b[39msize()):\n\u001b[0;32m-> 3242\u001b[0m     \u001b[38;5;28;01mraise\u001b[39;00m \u001b[38;5;167;01mValueError\u001b[39;00m(\u001b[38;5;124mf\u001b[39m\u001b[38;5;124m\"\u001b[39m\u001b[38;5;124mTarget size (\u001b[39m\u001b[38;5;132;01m{\u001b[39;00mtarget\u001b[38;5;241m.\u001b[39msize()\u001b[38;5;132;01m}\u001b[39;00m\u001b[38;5;124m) must be the same as input size (\u001b[39m\u001b[38;5;132;01m{\u001b[39;00m\u001b[38;5;28minput\u001b[39m\u001b[38;5;241m.\u001b[39msize()\u001b[38;5;132;01m}\u001b[39;00m\u001b[38;5;124m)\u001b[39m\u001b[38;5;124m\"\u001b[39m)\n\u001b[1;32m   3244\u001b[0m \u001b[38;5;28;01mreturn\u001b[39;00m torch\u001b[38;5;241m.\u001b[39mbinary_cross_entropy_with_logits(\u001b[38;5;28minput\u001b[39m, target, weight, pos_weight, reduction_enum)\n",
      "\u001b[0;31mValueError\u001b[0m: Target size (torch.Size([463, 1])) must be the same as input size (torch.Size([463, 2]))"
     ]
    }
   ],
   "source": [
    "\n",
    "# Run main\n",
    "main(model_name, non_infringement_file, infringement_file, checkpoint_file)\n"
   ]
  }
 ],
 "metadata": {
  "kernelspec": {
   "display_name": "sit",
   "language": "python",
   "name": "python3"
  },
  "language_info": {
   "codemirror_mode": {
    "name": "ipython",
    "version": 3
   },
   "file_extension": ".py",
   "mimetype": "text/x-python",
   "name": "python",
   "nbconvert_exporter": "python",
   "pygments_lexer": "ipython3",
   "version": "3.8.20"
  }
 },
 "nbformat": 4,
 "nbformat_minor": 2
}
