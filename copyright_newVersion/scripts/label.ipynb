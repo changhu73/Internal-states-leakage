{
 "cells": [
  {
   "cell_type": "code",
   "execution_count": 37,
   "metadata": {},
   "outputs": [],
   "source": [
    "# import packages\n",
    "import json\n",
    "import numpy as np\n",
    "\n",
    "# Path of score_file & infringement/non-infringement files\n",
    "scores_file = '/home/guangwei/LLM-COPYRIGHT/copyright_newVersion/scores/scores-literal-copying.literal.prompt1.Mistral-7B-v0.3.greedy.json'\n",
    "infringement_output = '/home/guangwei/LLM-COPYRIGHT/copyright_newVersion/test_division/extra_mis3_10.infringement.json'\n",
    "non_infringement_output = '/home/guangwei/LLM-COPYRIGHT/copyright_newVersion/test_division/extra_mis3_10.non_infringement.json'"
   ]
  },
  {
   "cell_type": "code",
   "execution_count": 38,
   "metadata": {},
   "outputs": [],
   "source": [
    "# # Process for Median threshold rouge_l \n",
    "def process_data(scores_file, infringement_output, non_infringement_output):\n",
    "    with open(scores_file, 'r', encoding='utf-8') as file:\n",
    "        data = json.load(file)\n",
    "\n",
    "    scores = [entry['score_rouge_l'] for entry in data]\n",
    "    threshold = np.median(scores)\n",
    "    print(f'Median threshold: {threshold}')\n",
    "\n",
    "    group1 = [entry for entry in data if entry['score_rouge_l'] > threshold]\n",
    "    group2 = [entry for entry in data if entry['score_rouge_l'] < threshold]\n",
    "\n",
    "    for entry in group1:\n",
    "        entry['label'] = 0\n",
    "\n",
    "    for entry in group2:\n",
    "        entry['label'] = 1\n",
    "\n",
    "    print(f'Group infringement: {len(group1)} entries')\n",
    "    print(f'Group non-infringement: {len(group2)} entries')\n",
    "\n",
    "    with open(infringement_output, 'w', encoding='utf-8') as file:\n",
    "        json.dump(group1, file, ensure_ascii=False, indent=4)\n",
    "\n",
    "    with open(non_infringement_output, 'w', encoding='utf-8') as file:\n",
    "        json.dump(group2, file, ensure_ascii=False, indent=4)\n",
    "\n",
    "    print(f'Data saved to {infringement_output} and {non_infringement_output}')"
   ]
  },
  {
   "cell_type": "code",
   "execution_count": 39,
   "metadata": {},
   "outputs": [],
   "source": [
    "# Process for lower/upper rouge_l \n",
    "def process_data(scores_file, infringement_output, non_infringement_output):\n",
    "    with open(scores_file, 'r', encoding='utf-8') as file:\n",
    "        data = json.load(file)\n",
    "\n",
    "    # Split by ourselves\n",
    "    scores = [entry['score_rouge_l'] for entry in data]\n",
    "\n",
    "    lower_threshold = np.percentile(scores, 10)\n",
    "    upper_threshold = np.percentile(scores, 90)\n",
    "    \n",
    "    print(f'Lower threshold (10th percentile): {lower_threshold}')\n",
    "    print(f'Upper threshold (90th percentile): {upper_threshold}')\n",
    "\n",
    "    group1 = [entry for entry in data if entry['score_rouge_l'] > upper_threshold]\n",
    "    group2 = [entry for entry in data if entry['score_rouge_l'] < lower_threshold]\n",
    "\n",
    "    for entry in group1:\n",
    "        entry['label'] = 0\n",
    "\n",
    "    for entry in group2:\n",
    "        entry['label'] = 1\n",
    "\n",
    "    print(f'Group infringement: {len(group1)} entries')\n",
    "    print(f'Group non-infringement: {len(group2)} entries')\n",
    "\n",
    "    with open(infringement_output, 'w', encoding='utf-8') as file:\n",
    "        json.dump(group1, file, ensure_ascii=False, indent=4)\n",
    "\n",
    "    with open(non_infringement_output, 'w', encoding='utf-8') as file:\n",
    "        json.dump(group2, file, ensure_ascii=False, indent=4)\n",
    "\n",
    "    print(f'Data saved to {infringement_output} and {non_infringement_output}')"
   ]
  },
  {
   "cell_type": "code",
   "execution_count": 40,
   "metadata": {},
   "outputs": [
    {
     "name": "stdout",
     "output_type": "stream",
     "text": [
      "Lower threshold (10th percentile): 0.0759493670886076\n",
      "Upper threshold (90th percentile): 0.225\n",
      "Group infringement: 232 entries\n",
      "Group non-infringement: 246 entries\n",
      "Data saved to /home/guangwei/LLM-COPYRIGHT/copyright_newVersion/test_division/extra_mis3_10.infringement.json and /home/guangwei/LLM-COPYRIGHT/copyright_newVersion/test_division/extra_mis3_10.non_infringement.json\n"
     ]
    }
   ],
   "source": [
    "# Main function & Run\n",
    "def main(scores_file, infringement_output, non_infringement_output):\n",
    "    process_data(scores_file, infringement_output, non_infringement_output)\n",
    "\n",
    "main(scores_file, infringement_output, non_infringement_output)"
   ]
  }
 ],
 "metadata": {
  "kernelspec": {
   "display_name": "zdh",
   "language": "python",
   "name": "python3"
  },
  "language_info": {
   "codemirror_mode": {
    "name": "ipython",
    "version": 3
   },
   "file_extension": ".py",
   "mimetype": "text/x-python",
   "name": "python",
   "nbconvert_exporter": "python",
   "pygments_lexer": "ipython3",
   "version": "3.12.3"
  }
 },
 "nbformat": 4,
 "nbformat_minor": 2
}
