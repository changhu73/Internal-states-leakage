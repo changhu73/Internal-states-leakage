{
 "cells": [
  {
   "cell_type": "code",
   "execution_count": 1,
   "metadata": {},
   "outputs": [
    {
     "name": "stderr",
     "output_type": "stream",
     "text": [
      "/home/guangwei/miniconda3/envs/sit/lib/python3.9/site-packages/tqdm/auto.py:21: TqdmWarning: IProgress not found. Please update jupyter and ipywidgets. See https://ipywidgets.readthedocs.io/en/stable/user_install.html\n",
      "  from .autonotebook import tqdm as notebook_tqdm\n"
     ]
    }
   ],
   "source": [
    "# import packages & variables\n",
    "import argparse\n",
    "import torch\n",
    "import torch.nn as nn\n",
    "import numpy as np\n",
    "from sklearn.metrics import accuracy_score, classification_report\n",
    "import matplotlib.pyplot as plt\n",
    "from tqdm import tqdm\n",
    "from transformers import AutoTokenizer, AutoModelForCausalLM, AutoModel, AutoModelForSequenceClassification\n",
    "import json\n",
    "import os\n",
    "\n",
    "os.environ[\"CUDA_VISIBLE_DEVICES\"] = \"4\"\n",
    "\n",
    "# Parameters\n",
    "model_name = 'meta-llama/Meta-Llama-3.1-8B'\n",
    "non_infringement_file = '/home/guangwei/LLM-COPYRIGHT/copyright_newVersion/test_division/extra_10.non_infringement.json'\n",
    "infringement_file = '/home/guangwei/LLM-COPYRIGHT/copyright_newVersion/test_division/extra_10.infringement.json'\n",
    "checkpoint_file = '/home/guangwei/LLM-COPYRIGHT/copyright_newVersion/models/train_input_reference_last_layer_PCA3_10.pth'\n"
   ]
  },
  {
   "cell_type": "code",
   "execution_count": 2,
   "metadata": {},
   "outputs": [],
   "source": [
    "# Define CustumMLP for internal states train\n",
    "class CustomMLP(nn.Module):\n",
    "    def __init__(self, input_dim, hidden_dim):\n",
    "        super(CustomMLP, self).__init__()\n",
    "        self.down = nn.Linear(input_dim, hidden_dim)\n",
    "        self.gate = nn.Linear(input_dim, hidden_dim)\n",
    "        self.up = nn.Linear(hidden_dim, 1)\n",
    "        self.activation = nn.SiLU()\n",
    "\n",
    "    def forward(self, x):\n",
    "        down_output = self.down(x)\n",
    "        gate_output = self.gate(x)\n",
    "        gated_output = down_output * self.activation(gate_output)\n",
    "        return self.up(gated_output)"
   ]
  },
  {
   "cell_type": "code",
   "execution_count": 3,
   "metadata": {},
   "outputs": [],
   "source": [
    "# Extract hidden states/reference embeddings\n",
    "from sklearn.decomposition import PCA\n",
    "def extract_hidden_states(texts, model, tokenizer, apply_pca=True, n_components=3, batch_size=4):\n",
    "    device = torch.device(\"cuda\" if torch.cuda.is_available() else \"cpu\")\n",
    "    model.to(device)\n",
    "    model = nn.DataParallel(model)\n",
    "    hidden_states = []\n",
    "    for i in tqdm(range(0, len(texts), batch_size), desc=\"Processing data batches\"):\n",
    "        batch_texts = texts[i:i + batch_size]\n",
    "        inputs = tokenizer(batch_texts, return_tensors=\"pt\", padding=True, truncation=True)\n",
    "        with torch.no_grad():\n",
    "            outputs = model(**inputs)\n",
    "        hidden_state = outputs.hidden_states[-1].mean(dim=1).cpu().numpy()\n",
    "        hidden_states.append(hidden_state)\n",
    "\n",
    "    hidden_states = np.vstack(hidden_states)\n",
    "    \n",
    "    # 应用 PCA 降维\n",
    "    if apply_pca:\n",
    "        pca = PCA(n_components=n_components)\n",
    "        hidden_states = pca.fit_transform(hidden_states)\n",
    "        print(f\"Hidden states reduced to {n_components} dimensions using PCA.\")\n",
    "        \n",
    "    return hidden_states\n",
    "\n",
    "def extract_reference_embeddings(references, model, tokenizer, batch_size=4):\n",
    "    device = torch.device(\"cuda\" if torch.cuda.is_available() else \"cpu\")\n",
    "    model.to(device)\n",
    "    model = nn.DataParallel(model)\n",
    "    embeddings = []\n",
    "    for i in tqdm(range(0, len(references), batch_size), desc=\"Processing references\"):\n",
    "        batch_references = references[i:i + batch_size]\n",
    "        inputs = tokenizer(batch_references, return_tensors=\"pt\", padding=True, truncation=True).to(device)\n",
    "        with torch.no_grad():\n",
    "            outputs = model(**inputs)\n",
    "        embeddings.append(outputs.pooler_output.cpu().numpy())\n",
    "    return np.vstack(embeddings)"
   ]
  },
  {
   "cell_type": "code",
   "execution_count": 4,
   "metadata": {},
   "outputs": [],
   "source": [
    "# load data for infringement & non infringement\n",
    "def load_data(non_infringement_file, infringement_file):\n",
    "    with open(non_infringement_file, 'r', encoding='utf-8') as file:\n",
    "        non_infringement_json_data = json.load(file)\n",
    "\n",
    "    non_infringement_outputs = [entry['input'] for entry in non_infringement_json_data]\n",
    "    non_infringement_references = [entry['reference'] for entry in non_infringement_json_data]\n",
    "    y_non_infringement = [1] * len(non_infringement_outputs)\n",
    "\n",
    "    with open(infringement_file, 'r', encoding='utf-8') as file:\n",
    "        infringement_json_data = json.load(file)\n",
    "\n",
    "    infringement_outputs = [entry['input'] for entry in infringement_json_data]\n",
    "    infringement_references = [entry['reference'] for entry in infringement_json_data]\n",
    "    y_infringement = [0] * len(infringement_outputs)\n",
    "\n",
    "    return non_infringement_outputs, non_infringement_references, y_non_infringement, infringement_outputs, infringement_references, y_infringement"
   ]
  },
  {
   "cell_type": "code",
   "execution_count": 5,
   "metadata": {},
   "outputs": [],
   "source": [
    "# Train for best model\n",
    "def train_model(X_train, y_train, X_test, y_test, input_dim, hidden_dim, epochs=2000, lr=0.001, checkpoint_path=checkpoint_file):\n",
    "    custom_mlp = CustomMLP(input_dim, hidden_dim)\n",
    "    criterion = nn.BCEWithLogitsLoss()\n",
    "    optimizer = torch.optim.Adam(custom_mlp.parameters(), lr=lr)\n",
    "\n",
    "    X_train_tensor = torch.tensor(X_train, dtype=torch.float32)\n",
    "    y_train_tensor = torch.tensor(y_train, dtype=torch.float32).unsqueeze(1)\n",
    "\n",
    "    best_accuracy = -float('inf')\n",
    "    best_model_state = None\n",
    "    best_epoch = 0\n",
    "    losses = []\n",
    "\n",
    "    for epoch in tqdm(range(epochs), desc=\"Training Epochs\"):\n",
    "        custom_mlp.train()\n",
    "        optimizer.zero_grad()\n",
    "        outputs = custom_mlp(X_train_tensor)\n",
    "        loss = criterion(outputs, y_train_tensor)\n",
    "        loss.backward()\n",
    "        optimizer.step()\n",
    "        losses.append(loss.item())\n",
    "\n",
    "        if (epoch + 1) % 10 == 0:\n",
    "            print(f\"Epoch {epoch + 1}/{epochs}, Loss: {loss.item():.4f}\")\n",
    "            \n",
    "            custom_mlp.eval()\n",
    "            X_test_tensor = torch.tensor(X_test, dtype=torch.float32)\n",
    "            with torch.no_grad():\n",
    "                y_pred_logits = custom_mlp(X_test_tensor)\n",
    "                y_pred = (torch.sigmoid(y_pred_logits) > 0.5).float().numpy()\n",
    "            \n",
    "            accuracy = accuracy_score(y_test, y_pred)\n",
    "            print(f\"Test Accuracy at Epoch {epoch + 1}: {accuracy * 100:.2f}%\")\n",
    "            \n",
    "            report = classification_report(y_test, y_pred, target_names=[\"infringement\", \"non_infringement\"])\n",
    "            print(f\"Classification Report at Epoch {epoch + 1}:\\n{report}\")\n",
    "\n",
    "            if accuracy > best_accuracy:\n",
    "                best_accuracy = accuracy\n",
    "                best_model_state = custom_mlp.state_dict()\n",
    "                best_epoch = epoch + 1\n",
    "                torch.save(best_model_state, checkpoint_path)\n",
    "                print(f\"New best model saved with accuracy {best_accuracy * 100:.2f}% at epoch {best_epoch}\")\n",
    "                print(f\"Best Classification Report at Epoch {best_epoch}:\\n{report}\")\n",
    "\n",
    "    custom_mlp.load_state_dict(torch.load(checkpoint_path))\n",
    "\n",
    "    plt.figure(figsize=(10, 5))\n",
    "    plt.plot(losses, label='Training Loss')\n",
    "    plt.xlabel('Epoch')\n",
    "    plt.ylabel('Loss')\n",
    "    plt.title('Training Loss Curve')\n",
    "    plt.legend()\n",
    "    plt.show()\n",
    "\n",
    "    print(f\"Final Model Accuracy: {best_accuracy * 100:.2f}%\")\n",
    "    \n",
    "    return custom_mlp, losses, best_accuracy"
   ]
  },
  {
   "cell_type": "code",
   "execution_count": 6,
   "metadata": {},
   "outputs": [
    {
     "name": "stderr",
     "output_type": "stream",
     "text": [
      "Loading checkpoint shards: 100%|██████████| 4/4 [00:02<00:00,  1.38it/s]\n",
      "/home/guangwei/miniconda3/envs/sit/lib/python3.9/site-packages/transformers/tokenization_utils_base.py:1601: FutureWarning: `clean_up_tokenization_spaces` was not set. It will be set to `True` by default. This behavior will be depracted in transformers v4.45, and will be then set to `False` by default. For more details check this issue: https://github.com/huggingface/transformers/issues/31884\n",
      "  warnings.warn(\n"
     ]
    }
   ],
   "source": [
    "tokenizer = AutoTokenizer.from_pretrained(model_name, model_max_length=512)\n",
    "model = AutoModelForCausalLM.from_pretrained(model_name, output_hidden_states=True)\n",
    "tokenizer.pad_token = tokenizer.eos_token\n",
    "bert_tokenizer = AutoTokenizer.from_pretrained('google-bert/bert-base-uncased')\n",
    "bert_model = AutoModel.from_pretrained('google-bert/bert-base-uncased')\n",
    "bert_tokenizer.pad_token = tokenizer.eos_token\n",
    "\n",
    "non_infringement_outputs, non_infringement_references, y_non_infringement, infringement_outputs, infringement_references, y_infringement = load_data(\n",
    "    non_infringement_file, infringement_file\n",
    ")\n",
    "\n",
    "y_non_infringement = np.array(y_non_infringement)\n",
    "y_infringement = np.array(y_infringement)\n"
   ]
  },
  {
   "cell_type": "code",
   "execution_count": 7,
   "metadata": {},
   "outputs": [
    {
     "name": "stdout",
     "output_type": "stream",
     "text": [
      "Extracting hidden states for non_infringement texts...\n"
     ]
    },
    {
     "name": "stderr",
     "output_type": "stream",
     "text": [
      "Processing data batches:   0%|          | 0/65 [00:00<?, ?it/s]We detected that you are passing `past_key_values` as a tuple and this is deprecated and will be removed in v4.43. Please use an appropriate `Cache` class (https://huggingface.co/docs/transformers/v4.41.3/en/internal/generation_utils#transformers.Cache)\n",
      "Processing data batches: 100%|██████████| 65/65 [00:16<00:00,  3.83it/s]\n"
     ]
    },
    {
     "name": "stdout",
     "output_type": "stream",
     "text": [
      "Hidden states reduced to 3 dimensions using PCA.\n",
      "Extracting reference embeddings for non_infringement texts...\n"
     ]
    },
    {
     "name": "stderr",
     "output_type": "stream",
     "text": [
      "Processing references: 100%|██████████| 65/65 [00:00<00:00, 91.42it/s] \n"
     ]
    },
    {
     "name": "stdout",
     "output_type": "stream",
     "text": [
      "Extracting hidden states for infringement texts...\n"
     ]
    },
    {
     "name": "stderr",
     "output_type": "stream",
     "text": [
      "Processing data batches: 100%|██████████| 81/81 [00:24<00:00,  3.26it/s]\n"
     ]
    },
    {
     "name": "stdout",
     "output_type": "stream",
     "text": [
      "Hidden states reduced to 3 dimensions using PCA.\n",
      "Extracting reference embeddings for infringement texts...\n"
     ]
    },
    {
     "name": "stderr",
     "output_type": "stream",
     "text": [
      "Processing references: 100%|██████████| 81/81 [00:00<00:00, 101.95it/s]\n"
     ]
    }
   ],
   "source": [
    "print(\"Extracting hidden states for non_infringement texts...\")\n",
    "X_non_infringement = extract_hidden_states(non_infringement_outputs, model, tokenizer)\n",
    "print(\"Extracting reference embeddings for non_infringement texts...\")\n",
    "reference_embeddings_non_infringement = extract_reference_embeddings(non_infringement_references, bert_model, bert_tokenizer)\n",
    "X_non_infringement_combined = np.hstack([X_non_infringement, reference_embeddings_non_infringement])\n",
    "\n",
    "print(\"Extracting hidden states for infringement texts...\")\n",
    "X_infringement = extract_hidden_states(infringement_outputs, model, tokenizer)\n",
    "print(\"Extracting reference embeddings for infringement texts...\")\n",
    "reference_embeddings_infringement = extract_reference_embeddings(infringement_references, bert_model, bert_tokenizer)\n",
    "X_infringement_combined = np.hstack([X_infringement, reference_embeddings_infringement])"
   ]
  },
  {
   "cell_type": "code",
   "execution_count": 8,
   "metadata": {},
   "outputs": [
    {
     "name": "stdout",
     "output_type": "stream",
     "text": [
      "Data successfully split into training and test sets.\n"
     ]
    }
   ],
   "source": [
    "split_index_non_infringement = int(0.8 * len(X_non_infringement_combined))\n",
    "X_non_infringement_train = X_non_infringement_combined[:split_index_non_infringement]\n",
    "X_non_infringement_test = X_non_infringement_combined[split_index_non_infringement:]\n",
    "y_non_infringement_train = y_non_infringement[:split_index_non_infringement]\n",
    "y_non_infringement_test = y_non_infringement[split_index_non_infringement:]\n",
    "\n",
    "split_index_infringement = int(0.8 * len(X_infringement_combined))\n",
    "X_infringement_train = X_infringement_combined[:split_index_infringement]\n",
    "X_infringement_test = X_infringement_combined[split_index_infringement:]\n",
    "y_infringement_train = y_infringement[:split_index_infringement]\n",
    "y_infringement_test = y_infringement[split_index_infringement:]\n",
    "\n",
    "X_train = np.vstack((X_non_infringement_train, X_infringement_train))\n",
    "X_test = np.vstack((X_non_infringement_test, X_infringement_test))\n",
    "y_train = np.concatenate((y_non_infringement_train, y_infringement_train))\n",
    "y_test = np.concatenate((y_non_infringement_test, y_infringement_test))\n",
    "\n",
    "print(\"Data successfully split into training and test sets.\")"
   ]
  },
  {
   "cell_type": "code",
   "execution_count": 9,
   "metadata": {},
   "outputs": [
    {
     "name": "stdout",
     "output_type": "stream",
     "text": [
      "Training MLP model with input_dim=771 and hidden_dim=256\n"
     ]
    },
    {
     "name": "stderr",
     "output_type": "stream",
     "text": [
      "Training Epochs:   0%|          | 1/2000 [00:00<03:36,  9.24it/s]"
     ]
    },
    {
     "name": "stdout",
     "output_type": "stream",
     "text": [
      "Epoch 10/2000, Loss: 0.5052\n",
      "Test Accuracy at Epoch 10: 44.44%\n",
      "Classification Report at Epoch 10:\n",
      "                  precision    recall  f1-score   support\n",
      "\n",
      "    infringement       0.50      0.40      0.44        65\n",
      "non_infringement       0.40      0.50      0.44        52\n",
      "\n",
      "        accuracy                           0.44       117\n",
      "       macro avg       0.45      0.45      0.44       117\n",
      "    weighted avg       0.46      0.44      0.44       117\n",
      "\n",
      "New best model saved with accuracy 44.44% at epoch 10\n",
      "Best Classification Report at Epoch 10:\n",
      "                  precision    recall  f1-score   support\n",
      "\n",
      "    infringement       0.50      0.40      0.44        65\n",
      "non_infringement       0.40      0.50      0.44        52\n",
      "\n",
      "        accuracy                           0.44       117\n",
      "       macro avg       0.45      0.45      0.44       117\n",
      "    weighted avg       0.46      0.44      0.44       117\n",
      "\n"
     ]
    },
    {
     "name": "stderr",
     "output_type": "stream",
     "text": [
      "Training Epochs:   2%|▏         | 31/2000 [00:00<00:17, 113.82it/s]"
     ]
    },
    {
     "name": "stdout",
     "output_type": "stream",
     "text": [
      "Epoch 20/2000, Loss: 0.2948\n",
      "Test Accuracy at Epoch 20: 57.26%\n",
      "Classification Report at Epoch 20:\n",
      "                  precision    recall  f1-score   support\n",
      "\n",
      "    infringement       0.63      0.57      0.60        65\n",
      "non_infringement       0.52      0.58      0.55        52\n",
      "\n",
      "        accuracy                           0.57       117\n",
      "       macro avg       0.57      0.57      0.57       117\n",
      "    weighted avg       0.58      0.57      0.57       117\n",
      "\n",
      "New best model saved with accuracy 57.26% at epoch 20\n",
      "Best Classification Report at Epoch 20:\n",
      "                  precision    recall  f1-score   support\n",
      "\n",
      "    infringement       0.63      0.57      0.60        65\n",
      "non_infringement       0.52      0.58      0.55        52\n",
      "\n",
      "        accuracy                           0.57       117\n",
      "       macro avg       0.57      0.57      0.57       117\n",
      "    weighted avg       0.58      0.57      0.57       117\n",
      "\n",
      "Epoch 30/2000, Loss: 0.1772\n",
      "Test Accuracy at Epoch 30: 58.12%\n",
      "Classification Report at Epoch 30:\n",
      "                  precision    recall  f1-score   support\n",
      "\n",
      "    infringement       0.64      0.57      0.60        65\n",
      "non_infringement       0.53      0.60      0.56        52\n",
      "\n",
      "        accuracy                           0.58       117\n",
      "       macro avg       0.58      0.58      0.58       117\n",
      "    weighted avg       0.59      0.58      0.58       117\n",
      "\n",
      "New best model saved with accuracy 58.12% at epoch 30\n",
      "Best Classification Report at Epoch 30:\n",
      "                  precision    recall  f1-score   support\n",
      "\n",
      "    infringement       0.64      0.57      0.60        65\n",
      "non_infringement       0.53      0.60      0.56        52\n",
      "\n",
      "        accuracy                           0.58       117\n",
      "       macro avg       0.58      0.58      0.58       117\n",
      "    weighted avg       0.59      0.58      0.58       117\n",
      "\n",
      "Epoch 40/2000, Loss: 0.1029\n",
      "Test Accuracy at Epoch 40: 59.83%\n"
     ]
    },
    {
     "name": "stderr",
     "output_type": "stream",
     "text": [
      "Training Epochs:   3%|▎         | 58/2000 [00:00<00:16, 114.28it/s]"
     ]
    },
    {
     "name": "stdout",
     "output_type": "stream",
     "text": [
      "Classification Report at Epoch 40:\n",
      "                  precision    recall  f1-score   support\n",
      "\n",
      "    infringement       0.66      0.57      0.61        65\n",
      "non_infringement       0.54      0.63      0.58        52\n",
      "\n",
      "        accuracy                           0.60       117\n",
      "       macro avg       0.60      0.60      0.60       117\n",
      "    weighted avg       0.61      0.60      0.60       117\n",
      "\n",
      "New best model saved with accuracy 59.83% at epoch 40\n",
      "Best Classification Report at Epoch 40:\n",
      "                  precision    recall  f1-score   support\n",
      "\n",
      "    infringement       0.66      0.57      0.61        65\n",
      "non_infringement       0.54      0.63      0.58        52\n",
      "\n",
      "        accuracy                           0.60       117\n",
      "       macro avg       0.60      0.60      0.60       117\n",
      "    weighted avg       0.61      0.60      0.60       117\n",
      "\n",
      "Epoch 50/2000, Loss: 0.0570\n",
      "Test Accuracy at Epoch 50: 59.83%\n",
      "Classification Report at Epoch 50:\n",
      "                  precision    recall  f1-score   support\n",
      "\n",
      "    infringement       0.68      0.52      0.59        65\n",
      "non_infringement       0.54      0.69      0.61        52\n",
      "\n",
      "        accuracy                           0.60       117\n",
      "       macro avg       0.61      0.61      0.60       117\n",
      "    weighted avg       0.62      0.60      0.60       117\n",
      "\n",
      "Epoch 60/2000, Loss: 0.0296\n",
      "Test Accuracy at Epoch 60: 61.54%\n",
      "Classification Report at Epoch 60:\n",
      "                  precision    recall  f1-score   support\n",
      "\n",
      "    infringement       0.69      0.55      0.62        65\n",
      "non_infringement       0.55      0.69      0.62        52\n",
      "\n",
      "        accuracy                           0.62       117\n",
      "       macro avg       0.62      0.62      0.62       117\n",
      "    weighted avg       0.63      0.62      0.62       117\n",
      "\n",
      "New best model saved with accuracy 61.54% at epoch 60\n",
      "Best Classification Report at Epoch 60:\n",
      "                  precision    recall  f1-score   support\n",
      "\n",
      "    infringement       0.69      0.55      0.62        65\n",
      "non_infringement       0.55      0.69      0.62        52\n",
      "\n",
      "        accuracy                           0.62       117\n",
      "       macro avg       0.62      0.62      0.62       117\n",
      "    weighted avg       0.63      0.62      0.62       117\n",
      "\n"
     ]
    },
    {
     "name": "stderr",
     "output_type": "stream",
     "text": [
      "Training Epochs:   4%|▍         | 87/2000 [00:00<00:17, 106.36it/s]"
     ]
    },
    {
     "name": "stdout",
     "output_type": "stream",
     "text": [
      "Epoch 70/2000, Loss: 0.0157\n",
      "Test Accuracy at Epoch 70: 52.99%\n",
      "Classification Report at Epoch 70:\n",
      "                  precision    recall  f1-score   support\n",
      "\n",
      "    infringement       0.60      0.45      0.51        65\n",
      "non_infringement       0.48      0.63      0.55        52\n",
      "\n",
      "        accuracy                           0.53       117\n",
      "       macro avg       0.54      0.54      0.53       117\n",
      "    weighted avg       0.55      0.53      0.53       117\n",
      "\n",
      "Epoch 80/2000, Loss: 0.0084\n",
      "Test Accuracy at Epoch 80: 54.70%\n",
      "Classification Report at Epoch 80:\n",
      "                  precision    recall  f1-score   support\n",
      "\n",
      "    infringement       0.63      0.45      0.52        65\n",
      "non_infringement       0.49      0.67      0.57        52\n",
      "\n",
      "        accuracy                           0.55       117\n",
      "       macro avg       0.56      0.56      0.55       117\n",
      "    weighted avg       0.57      0.55      0.54       117\n",
      "\n"
     ]
    },
    {
     "name": "stderr",
     "output_type": "stream",
     "text": [
      "Training Epochs:   6%|▌         | 117/2000 [00:01<00:14, 125.96it/s]"
     ]
    },
    {
     "name": "stdout",
     "output_type": "stream",
     "text": [
      "Epoch 90/2000, Loss: 0.0050\n",
      "Test Accuracy at Epoch 90: 52.99%\n",
      "Classification Report at Epoch 90:\n",
      "                  precision    recall  f1-score   support\n",
      "\n",
      "    infringement       0.60      0.45      0.51        65\n",
      "non_infringement       0.48      0.63      0.55        52\n",
      "\n",
      "        accuracy                           0.53       117\n",
      "       macro avg       0.54      0.54      0.53       117\n",
      "    weighted avg       0.55      0.53      0.53       117\n",
      "\n",
      "Epoch 100/2000, Loss: 0.0032\n",
      "Test Accuracy at Epoch 100: 52.99%\n",
      "Classification Report at Epoch 100:\n",
      "                  precision    recall  f1-score   support\n",
      "\n",
      "    infringement       0.60      0.45      0.51        65\n",
      "non_infringement       0.48      0.63      0.55        52\n",
      "\n",
      "        accuracy                           0.53       117\n",
      "       macro avg       0.54      0.54      0.53       117\n",
      "    weighted avg       0.55      0.53      0.53       117\n",
      "\n",
      "Epoch 110/2000, Loss: 0.0022\n",
      "Test Accuracy at Epoch 110: 59.83%\n",
      "Classification Report at Epoch 110:\n",
      "                  precision    recall  f1-score   support\n",
      "\n",
      "    infringement       0.66      0.57      0.61        65\n",
      "non_infringement       0.54      0.63      0.58        52\n",
      "\n",
      "        accuracy                           0.60       117\n",
      "       macro avg       0.60      0.60      0.60       117\n",
      "    weighted avg       0.61      0.60      0.60       117\n",
      "\n",
      "Epoch 120/2000, Loss: 0.0017\n"
     ]
    },
    {
     "name": "stderr",
     "output_type": "stream",
     "text": [
      "Training Epochs:   7%|▋         | 132/2000 [00:01<00:14, 131.88it/s]"
     ]
    },
    {
     "name": "stdout",
     "output_type": "stream",
     "text": [
      "Test Accuracy at Epoch 120: 59.83%\n",
      "Classification Report at Epoch 120:\n",
      "                  precision    recall  f1-score   support\n",
      "\n",
      "    infringement       0.66      0.57      0.61        65\n",
      "non_infringement       0.54      0.63      0.58        52\n",
      "\n",
      "        accuracy                           0.60       117\n",
      "       macro avg       0.60      0.60      0.60       117\n",
      "    weighted avg       0.61      0.60      0.60       117\n",
      "\n",
      "Epoch 130/2000, Loss: 0.0013\n",
      "Test Accuracy at Epoch 130: 59.83%\n",
      "Classification Report at Epoch 130:\n",
      "                  precision    recall  f1-score   support\n",
      "\n",
      "    infringement       0.66      0.57      0.61        65\n",
      "non_infringement       0.54      0.63      0.58        52\n",
      "\n",
      "        accuracy                           0.60       117\n",
      "       macro avg       0.60      0.60      0.60       117\n",
      "    weighted avg       0.61      0.60      0.60       117\n",
      "\n",
      "Epoch 140/2000, Loss: 0.0010\n",
      "Test Accuracy at Epoch 140: 59.83%\n"
     ]
    },
    {
     "name": "stderr",
     "output_type": "stream",
     "text": [
      "Training Epochs:   8%|▊         | 160/2000 [00:01<00:15, 117.10it/s]"
     ]
    },
    {
     "name": "stdout",
     "output_type": "stream",
     "text": [
      "Classification Report at Epoch 140:\n",
      "                  precision    recall  f1-score   support\n",
      "\n",
      "    infringement       0.66      0.57      0.61        65\n",
      "non_infringement       0.54      0.63      0.58        52\n",
      "\n",
      "        accuracy                           0.60       117\n",
      "       macro avg       0.60      0.60      0.60       117\n",
      "    weighted avg       0.61      0.60      0.60       117\n",
      "\n",
      "Epoch 150/2000, Loss: 0.0008\n",
      "Test Accuracy at Epoch 150: 59.83%\n",
      "Classification Report at Epoch 150:\n",
      "                  precision    recall  f1-score   support\n",
      "\n",
      "    infringement       0.66      0.57      0.61        65\n",
      "non_infringement       0.54      0.63      0.58        52\n",
      "\n",
      "        accuracy                           0.60       117\n",
      "       macro avg       0.60      0.60      0.60       117\n",
      "    weighted avg       0.61      0.60      0.60       117\n",
      "\n",
      "Epoch 160/2000, Loss: 0.0007\n",
      "Test Accuracy at Epoch 160: 61.54%\n",
      "Classification Report at Epoch 160:\n",
      "                  precision    recall  f1-score   support\n",
      "\n",
      "    infringement       0.69      0.57      0.62        65\n",
      "non_infringement       0.56      0.67      0.61        52\n",
      "\n",
      "        accuracy                           0.62       117\n",
      "       macro avg       0.62      0.62      0.62       117\n",
      "    weighted avg       0.63      0.62      0.62       117\n",
      "\n"
     ]
    },
    {
     "name": "stderr",
     "output_type": "stream",
     "text": [
      "Training Epochs:   9%|▊         | 174/2000 [00:01<00:14, 123.09it/s]"
     ]
    },
    {
     "name": "stdout",
     "output_type": "stream",
     "text": [
      "Epoch 170/2000, Loss: 0.0006\n",
      "Test Accuracy at Epoch 170: 61.54%\n",
      "Classification Report at Epoch 170:\n",
      "                  precision    recall  f1-score   support\n",
      "\n",
      "    infringement       0.69      0.57      0.62        65\n",
      "non_infringement       0.56      0.67      0.61        52\n",
      "\n",
      "        accuracy                           0.62       117\n",
      "       macro avg       0.62      0.62      0.62       117\n",
      "    weighted avg       0.63      0.62      0.62       117\n",
      "\n",
      "Epoch 180/2000, Loss: 0.0005\n",
      "Test Accuracy at Epoch 180: 62.39%\n",
      "Classification Report at Epoch 180:\n",
      "                  precision    recall  f1-score   support\n",
      "\n",
      "    infringement       0.70      0.57      0.63        65\n",
      "non_infringement       0.56      0.69      0.62        52\n",
      "\n",
      "        accuracy                           0.62       117\n",
      "       macro avg       0.63      0.63      0.62       117\n",
      "    weighted avg       0.64      0.62      0.62       117\n",
      "\n",
      "New best model saved with accuracy 62.39% at epoch 180\n",
      "Best Classification Report at Epoch 180:\n",
      "                  precision    recall  f1-score   support\n",
      "\n",
      "    infringement       0.70      0.57      0.63        65\n",
      "non_infringement       0.56      0.69      0.62        52\n",
      "\n",
      "        accuracy                           0.62       117\n",
      "       macro avg       0.63      0.63      0.62       117\n",
      "    weighted avg       0.64      0.62      0.62       117\n",
      "\n"
     ]
    },
    {
     "name": "stderr",
     "output_type": "stream",
     "text": [
      "Training Epochs:  11%|█         | 217/2000 [00:01<00:14, 123.92it/s]"
     ]
    },
    {
     "name": "stdout",
     "output_type": "stream",
     "text": [
      "Epoch 190/2000, Loss: 0.0004\n",
      "Test Accuracy at Epoch 190: 60.68%\n",
      "Classification Report at Epoch 190:\n",
      "                  precision    recall  f1-score   support\n",
      "\n",
      "    infringement       0.69      0.54      0.60        65\n",
      "non_infringement       0.55      0.69      0.61        52\n",
      "\n",
      "        accuracy                           0.61       117\n",
      "       macro avg       0.62      0.62      0.61       117\n",
      "    weighted avg       0.62      0.61      0.61       117\n",
      "\n",
      "Epoch 200/2000, Loss: 0.0004\n",
      "Test Accuracy at Epoch 200: 60.68%\n",
      "Classification Report at Epoch 200:\n",
      "                  precision    recall  f1-score   support\n",
      "\n",
      "    infringement       0.69      0.54      0.60        65\n",
      "non_infringement       0.55      0.69      0.61        52\n",
      "\n",
      "        accuracy                           0.61       117\n",
      "       macro avg       0.62      0.62      0.61       117\n",
      "    weighted avg       0.62      0.61      0.61       117\n",
      "\n",
      "Epoch 210/2000, Loss: 0.0003\n",
      "Test Accuracy at Epoch 210: 60.68%\n",
      "Classification Report at Epoch 210:\n",
      "                  precision    recall  f1-score   support\n",
      "\n",
      "    infringement       0.69      0.54      0.60        65\n",
      "non_infringement       0.55      0.69      0.61        52\n",
      "\n",
      "        accuracy                           0.61       117\n",
      "       macro avg       0.62      0.62      0.61       117\n",
      "    weighted avg       0.62      0.61      0.61       117\n",
      "\n"
     ]
    },
    {
     "name": "stderr",
     "output_type": "stream",
     "text": [
      "Training Epochs:  12%|█▏        | 230/2000 [00:02<00:18, 96.97it/s] "
     ]
    },
    {
     "name": "stdout",
     "output_type": "stream",
     "text": [
      "Epoch 220/2000, Loss: 0.0003\n",
      "Test Accuracy at Epoch 220: 60.68%\n",
      "Classification Report at Epoch 220:\n",
      "                  precision    recall  f1-score   support\n",
      "\n",
      "    infringement       0.69      0.54      0.60        65\n",
      "non_infringement       0.55      0.69      0.61        52\n",
      "\n",
      "        accuracy                           0.61       117\n",
      "       macro avg       0.62      0.62      0.61       117\n",
      "    weighted avg       0.62      0.61      0.61       117\n",
      "\n",
      "Epoch 230/2000, Loss: 0.0003\n",
      "Test Accuracy at Epoch 230: 60.68%\n",
      "Classification Report at Epoch 230:\n",
      "                  precision    recall  f1-score   support\n",
      "\n",
      "    infringement       0.69      0.54      0.60        65\n",
      "non_infringement       0.55      0.69      0.61        52\n",
      "\n",
      "        accuracy                           0.61       117\n",
      "       macro avg       0.62      0.62      0.61       117\n",
      "    weighted avg       0.62      0.61      0.61       117\n",
      "\n"
     ]
    },
    {
     "name": "stderr",
     "output_type": "stream",
     "text": [
      "Training Epochs:  13%|█▎        | 260/2000 [00:02<00:14, 117.00it/s]"
     ]
    },
    {
     "name": "stdout",
     "output_type": "stream",
     "text": [
      "Epoch 240/2000, Loss: 0.0002\n",
      "Test Accuracy at Epoch 240: 60.68%\n",
      "Classification Report at Epoch 240:\n",
      "                  precision    recall  f1-score   support\n",
      "\n",
      "    infringement       0.69      0.54      0.60        65\n",
      "non_infringement       0.55      0.69      0.61        52\n",
      "\n",
      "        accuracy                           0.61       117\n",
      "       macro avg       0.62      0.62      0.61       117\n",
      "    weighted avg       0.62      0.61      0.61       117\n",
      "\n",
      "Epoch 250/2000, Loss: 0.0002\n",
      "Test Accuracy at Epoch 250: 60.68%\n",
      "Classification Report at Epoch 250:\n",
      "                  precision    recall  f1-score   support\n",
      "\n",
      "    infringement       0.69      0.54      0.60        65\n",
      "non_infringement       0.55      0.69      0.61        52\n",
      "\n",
      "        accuracy                           0.61       117\n",
      "       macro avg       0.62      0.62      0.61       117\n",
      "    weighted avg       0.62      0.61      0.61       117\n",
      "\n",
      "Epoch 260/2000, Loss: 0.0002\n",
      "Test Accuracy at Epoch 260: 60.68%\n",
      "Classification Report at Epoch 260:\n",
      "                  precision    recall  f1-score   support\n",
      "\n",
      "    infringement       0.69      0.54      0.60        65\n",
      "non_infringement       0.55      0.69      0.61        52\n",
      "\n",
      "        accuracy                           0.61       117\n",
      "       macro avg       0.62      0.62      0.61       117\n",
      "    weighted avg       0.62      0.61      0.61       117\n",
      "\n"
     ]
    },
    {
     "name": "stderr",
     "output_type": "stream",
     "text": [
      "Training Epochs:  14%|█▍        | 289/2000 [00:02<00:14, 118.52it/s]"
     ]
    },
    {
     "name": "stdout",
     "output_type": "stream",
     "text": [
      "Epoch 270/2000, Loss: 0.0002\n",
      "Test Accuracy at Epoch 270: 58.97%\n",
      "Classification Report at Epoch 270:\n",
      "                  precision    recall  f1-score   support\n",
      "\n",
      "    infringement       0.67      0.51      0.58        65\n",
      "non_infringement       0.53      0.69      0.60        52\n",
      "\n",
      "        accuracy                           0.59       117\n",
      "       macro avg       0.60      0.60      0.59       117\n",
      "    weighted avg       0.61      0.59      0.59       117\n",
      "\n",
      "Epoch 280/2000, Loss: 0.0002\n",
      "Test Accuracy at Epoch 280: 58.97%\n",
      "Classification Report at Epoch 280:\n",
      "                  precision    recall  f1-score   support\n",
      "\n",
      "    infringement       0.67      0.51      0.58        65\n",
      "non_infringement       0.53      0.69      0.60        52\n",
      "\n",
      "        accuracy                           0.59       117\n",
      "       macro avg       0.60      0.60      0.59       117\n",
      "    weighted avg       0.61      0.59      0.59       117\n",
      "\n",
      "Epoch 290/2000, Loss: 0.0002\n",
      "Test Accuracy at Epoch 290: 58.97%\n",
      "Classification Report at Epoch 290:\n",
      "                  precision    recall  f1-score   support\n",
      "\n",
      "    infringement       0.67      0.51      0.58        65\n",
      "non_infringement       0.53      0.69      0.60        52\n",
      "\n",
      "        accuracy                           0.59       117\n",
      "       macro avg       0.60      0.60      0.59       117\n",
      "    weighted avg       0.61      0.59      0.59       117\n",
      "\n"
     ]
    },
    {
     "name": "stderr",
     "output_type": "stream",
     "text": [
      "Training Epochs:  16%|█▌        | 317/2000 [00:02<00:14, 114.38it/s]"
     ]
    },
    {
     "name": "stdout",
     "output_type": "stream",
     "text": [
      "Epoch 300/2000, Loss: 0.0001\n",
      "Test Accuracy at Epoch 300: 58.97%\n",
      "Classification Report at Epoch 300:\n",
      "                  precision    recall  f1-score   support\n",
      "\n",
      "    infringement       0.67      0.51      0.58        65\n",
      "non_infringement       0.53      0.69      0.60        52\n",
      "\n",
      "        accuracy                           0.59       117\n",
      "       macro avg       0.60      0.60      0.59       117\n",
      "    weighted avg       0.61      0.59      0.59       117\n",
      "\n",
      "Epoch 310/2000, Loss: 0.0001\n",
      "Test Accuracy at Epoch 310: 58.97%\n",
      "Classification Report at Epoch 310:\n",
      "                  precision    recall  f1-score   support\n",
      "\n",
      "    infringement       0.67      0.51      0.58        65\n",
      "non_infringement       0.53      0.69      0.60        52\n",
      "\n",
      "        accuracy                           0.59       117\n",
      "       macro avg       0.60      0.60      0.59       117\n",
      "    weighted avg       0.61      0.59      0.59       117\n",
      "\n",
      "Epoch 320/2000, Loss: 0.0001\n",
      "Test Accuracy at Epoch 320: 58.97%\n",
      "Classification Report at Epoch 320:\n",
      "                  precision    recall  f1-score   support\n",
      "\n",
      "    infringement       0.67      0.51      0.58        65\n",
      "non_infringement       0.53      0.69      0.60        52\n",
      "\n",
      "        accuracy                           0.59       117\n",
      "       macro avg       0.60      0.60      0.59       117\n",
      "    weighted avg       0.61      0.59      0.59       117\n",
      "\n"
     ]
    },
    {
     "name": "stderr",
     "output_type": "stream",
     "text": [
      "Training Epochs:  17%|█▋        | 347/2000 [00:03<00:12, 127.70it/s]"
     ]
    },
    {
     "name": "stdout",
     "output_type": "stream",
     "text": [
      "Epoch 330/2000, Loss: 0.0001\n",
      "Test Accuracy at Epoch 330: 58.97%\n",
      "Classification Report at Epoch 330:\n",
      "                  precision    recall  f1-score   support\n",
      "\n",
      "    infringement       0.67      0.51      0.58        65\n",
      "non_infringement       0.53      0.69      0.60        52\n",
      "\n",
      "        accuracy                           0.59       117\n",
      "       macro avg       0.60      0.60      0.59       117\n",
      "    weighted avg       0.61      0.59      0.59       117\n",
      "\n",
      "Epoch 340/2000, Loss: 0.0001\n",
      "Test Accuracy at Epoch 340: 58.97%\n",
      "Classification Report at Epoch 340:\n",
      "                  precision    recall  f1-score   support\n",
      "\n",
      "    infringement       0.67      0.51      0.58        65\n",
      "non_infringement       0.53      0.69      0.60        52\n",
      "\n",
      "        accuracy                           0.59       117\n",
      "       macro avg       0.60      0.60      0.59       117\n",
      "    weighted avg       0.61      0.59      0.59       117\n",
      "\n",
      "Epoch 350/2000, Loss: 0.0001\n",
      "Test Accuracy at Epoch 350: 58.97%\n",
      "Classification Report at Epoch 350:\n",
      "                  precision    recall  f1-score   support\n",
      "\n",
      "    infringement       0.67      0.51      0.58        65\n",
      "non_infringement       0.53      0.69      0.60        52\n",
      "\n",
      "        accuracy                           0.59       117\n",
      "       macro avg       0.60      0.60      0.59       117\n",
      "    weighted avg       0.61      0.59      0.59       117\n",
      "\n"
     ]
    },
    {
     "name": "stderr",
     "output_type": "stream",
     "text": [
      "Training Epochs:  19%|█▉        | 377/2000 [00:03<00:13, 118.98it/s]"
     ]
    },
    {
     "name": "stdout",
     "output_type": "stream",
     "text": [
      "Epoch 360/2000, Loss: 0.0001\n",
      "Test Accuracy at Epoch 360: 58.97%\n",
      "Classification Report at Epoch 360:\n",
      "                  precision    recall  f1-score   support\n",
      "\n",
      "    infringement       0.67      0.51      0.58        65\n",
      "non_infringement       0.53      0.69      0.60        52\n",
      "\n",
      "        accuracy                           0.59       117\n",
      "       macro avg       0.60      0.60      0.59       117\n",
      "    weighted avg       0.61      0.59      0.59       117\n",
      "\n",
      "Epoch 370/2000, Loss: 0.0001\n",
      "Test Accuracy at Epoch 370: 58.97%\n",
      "Classification Report at Epoch 370:\n",
      "                  precision    recall  f1-score   support\n",
      "\n",
      "    infringement       0.67      0.51      0.58        65\n",
      "non_infringement       0.53      0.69      0.60        52\n",
      "\n",
      "        accuracy                           0.59       117\n",
      "       macro avg       0.60      0.60      0.59       117\n",
      "    weighted avg       0.61      0.59      0.59       117\n",
      "\n",
      "Epoch 380/2000, Loss: 0.0001\n",
      "Test Accuracy at Epoch 380: 58.97%\n"
     ]
    },
    {
     "name": "stderr",
     "output_type": "stream",
     "text": [
      "Training Epochs:  20%|██        | 409/2000 [00:03<00:11, 135.42it/s]"
     ]
    },
    {
     "name": "stdout",
     "output_type": "stream",
     "text": [
      "Classification Report at Epoch 380:\n",
      "                  precision    recall  f1-score   support\n",
      "\n",
      "    infringement       0.67      0.51      0.58        65\n",
      "non_infringement       0.53      0.69      0.60        52\n",
      "\n",
      "        accuracy                           0.59       117\n",
      "       macro avg       0.60      0.60      0.59       117\n",
      "    weighted avg       0.61      0.59      0.59       117\n",
      "\n",
      "Epoch 390/2000, Loss: 0.0001\n",
      "Test Accuracy at Epoch 390: 58.97%\n",
      "Classification Report at Epoch 390:\n",
      "                  precision    recall  f1-score   support\n",
      "\n",
      "    infringement       0.67      0.51      0.58        65\n",
      "non_infringement       0.53      0.69      0.60        52\n",
      "\n",
      "        accuracy                           0.59       117\n",
      "       macro avg       0.60      0.60      0.59       117\n",
      "    weighted avg       0.61      0.59      0.59       117\n",
      "\n",
      "Epoch 400/2000, Loss: 0.0001\n",
      "Test Accuracy at Epoch 400: 58.97%\n",
      "Classification Report at Epoch 400:\n",
      "                  precision    recall  f1-score   support\n",
      "\n",
      "    infringement       0.67      0.51      0.58        65\n",
      "non_infringement       0.53      0.69      0.60        52\n",
      "\n",
      "        accuracy                           0.59       117\n",
      "       macro avg       0.60      0.60      0.59       117\n",
      "    weighted avg       0.61      0.59      0.59       117\n",
      "\n",
      "Epoch 410/2000, Loss: 0.0001\n",
      "Test Accuracy at Epoch 410: 58.97%\n",
      "Classification Report at Epoch 410:\n",
      "                  precision    recall  f1-score   support\n",
      "\n",
      "    infringement       0.67      0.51      0.58        65\n",
      "non_infringement       0.53      0.69      0.60        52\n",
      "\n",
      "        accuracy                           0.59       117\n",
      "       macro avg       0.60      0.60      0.59       117\n",
      "    weighted avg       0.61      0.59      0.59       117\n",
      "\n"
     ]
    },
    {
     "name": "stderr",
     "output_type": "stream",
     "text": [
      "Training Epochs:  22%|██▏       | 439/2000 [00:03<00:12, 124.47it/s]"
     ]
    },
    {
     "name": "stdout",
     "output_type": "stream",
     "text": [
      "Epoch 420/2000, Loss: 0.0001\n",
      "Test Accuracy at Epoch 420: 58.97%\n",
      "Classification Report at Epoch 420:\n",
      "                  precision    recall  f1-score   support\n",
      "\n",
      "    infringement       0.67      0.51      0.58        65\n",
      "non_infringement       0.53      0.69      0.60        52\n",
      "\n",
      "        accuracy                           0.59       117\n",
      "       macro avg       0.60      0.60      0.59       117\n",
      "    weighted avg       0.61      0.59      0.59       117\n",
      "\n",
      "Epoch 430/2000, Loss: 0.0001\n",
      "Test Accuracy at Epoch 430: 58.97%\n",
      "Classification Report at Epoch 430:\n",
      "                  precision    recall  f1-score   support\n",
      "\n",
      "    infringement       0.67      0.51      0.58        65\n",
      "non_infringement       0.53      0.69      0.60        52\n",
      "\n",
      "        accuracy                           0.59       117\n",
      "       macro avg       0.60      0.60      0.59       117\n",
      "    weighted avg       0.61      0.59      0.59       117\n",
      "\n",
      "Epoch 440/2000, Loss: 0.0001\n",
      "Test Accuracy at Epoch 440: 58.97%\n",
      "Classification Report at Epoch 440:\n",
      "                  precision    recall  f1-score   support\n",
      "\n",
      "    infringement       0.67      0.51      0.58        65\n",
      "non_infringement       0.53      0.69      0.60        52\n",
      "\n",
      "        accuracy                           0.59       117\n",
      "       macro avg       0.60      0.60      0.59       117\n",
      "    weighted avg       0.61      0.59      0.59       117\n",
      "\n"
     ]
    },
    {
     "name": "stderr",
     "output_type": "stream",
     "text": [
      "Training Epochs:  23%|██▎       | 467/2000 [00:04<00:14, 108.85it/s]"
     ]
    },
    {
     "name": "stdout",
     "output_type": "stream",
     "text": [
      "Epoch 450/2000, Loss: 0.0001\n",
      "Test Accuracy at Epoch 450: 58.97%\n",
      "Classification Report at Epoch 450:\n",
      "                  precision    recall  f1-score   support\n",
      "\n",
      "    infringement       0.67      0.51      0.58        65\n",
      "non_infringement       0.53      0.69      0.60        52\n",
      "\n",
      "        accuracy                           0.59       117\n",
      "       macro avg       0.60      0.60      0.59       117\n",
      "    weighted avg       0.61      0.59      0.59       117\n",
      "\n",
      "Epoch 460/2000, Loss: 0.0001\n",
      "Test Accuracy at Epoch 460: 58.97%\n",
      "Classification Report at Epoch 460:\n",
      "                  precision    recall  f1-score   support\n",
      "\n",
      "    infringement       0.67      0.51      0.58        65\n",
      "non_infringement       0.53      0.69      0.60        52\n",
      "\n",
      "        accuracy                           0.59       117\n",
      "       macro avg       0.60      0.60      0.59       117\n",
      "    weighted avg       0.61      0.59      0.59       117\n",
      "\n"
     ]
    },
    {
     "name": "stderr",
     "output_type": "stream",
     "text": [
      "Training Epochs:  25%|██▍       | 494/2000 [00:04<00:12, 118.55it/s]"
     ]
    },
    {
     "name": "stdout",
     "output_type": "stream",
     "text": [
      "Epoch 470/2000, Loss: 0.0001\n",
      "Test Accuracy at Epoch 470: 58.97%\n",
      "Classification Report at Epoch 470:\n",
      "                  precision    recall  f1-score   support\n",
      "\n",
      "    infringement       0.67      0.51      0.58        65\n",
      "non_infringement       0.53      0.69      0.60        52\n",
      "\n",
      "        accuracy                           0.59       117\n",
      "       macro avg       0.60      0.60      0.59       117\n",
      "    weighted avg       0.61      0.59      0.59       117\n",
      "\n",
      "Epoch 480/2000, Loss: 0.0001\n",
      "Test Accuracy at Epoch 480: 58.97%\n",
      "Classification Report at Epoch 480:\n",
      "                  precision    recall  f1-score   support\n",
      "\n",
      "    infringement       0.67      0.51      0.58        65\n",
      "non_infringement       0.53      0.69      0.60        52\n",
      "\n",
      "        accuracy                           0.59       117\n",
      "       macro avg       0.60      0.60      0.59       117\n",
      "    weighted avg       0.61      0.59      0.59       117\n",
      "\n",
      "Epoch 490/2000, Loss: 0.0000\n",
      "Test Accuracy at Epoch 490: 58.97%\n",
      "Classification Report at Epoch 490:\n",
      "                  precision    recall  f1-score   support\n",
      "\n",
      "    infringement       0.67      0.51      0.58        65\n",
      "non_infringement       0.53      0.69      0.60        52\n",
      "\n",
      "        accuracy                           0.59       117\n",
      "       macro avg       0.60      0.60      0.59       117\n",
      "    weighted avg       0.61      0.59      0.59       117\n",
      "\n"
     ]
    },
    {
     "name": "stderr",
     "output_type": "stream",
     "text": [
      "Training Epochs:  25%|██▌       | 508/2000 [00:04<00:12, 122.68it/s]"
     ]
    },
    {
     "name": "stdout",
     "output_type": "stream",
     "text": [
      "Epoch 500/2000, Loss: 0.0000\n",
      "Test Accuracy at Epoch 500: 58.97%\n",
      "Classification Report at Epoch 500:\n",
      "                  precision    recall  f1-score   support\n",
      "\n",
      "    infringement       0.67      0.51      0.58        65\n",
      "non_infringement       0.53      0.69      0.60        52\n",
      "\n",
      "        accuracy                           0.59       117\n",
      "       macro avg       0.60      0.60      0.59       117\n",
      "    weighted avg       0.61      0.59      0.59       117\n",
      "\n",
      "Epoch 510/2000, Loss: 0.0000\n",
      "Test Accuracy at Epoch 510: 58.97%\n",
      "Classification Report at Epoch 510:\n",
      "                  precision    recall  f1-score   support\n",
      "\n",
      "    infringement       0.67      0.51      0.58        65\n",
      "non_infringement       0.53      0.69      0.60        52\n",
      "\n",
      "        accuracy                           0.59       117\n",
      "       macro avg       0.60      0.60      0.59       117\n",
      "    weighted avg       0.61      0.59      0.59       117\n",
      "\n"
     ]
    },
    {
     "name": "stderr",
     "output_type": "stream",
     "text": [
      "Training Epochs:  26%|██▌       | 521/2000 [00:04<00:13, 107.13it/s]"
     ]
    }
   ],
   "source": [
    "input_dim = X_train.shape[1]\n",
    "hidden_dim = 256 \n",
    "print(f\"Training MLP model with input_dim={input_dim} and hidden_dim={hidden_dim}\")\n",
    "\n",
    "custom_mlp, losses, best_accuracy = train_model(X_train, y_train, X_test, y_test, input_dim, hidden_dim)"
   ]
  },
  {
   "cell_type": "code",
   "execution_count": 10,
   "metadata": {},
   "outputs": [
    {
     "name": "stdout",
     "output_type": "stream",
     "text": [
      "Checkpoint saved to '/home/guangwei/LLM-COPYRIGHT/copyright_newVersion/models/train_input_reference_last_layer_PCA3.pth'.\n"
     ]
    }
   ],
   "source": [
    "def save_checkpoint(model, optimizer, epoch, loss, filepath):\n",
    "    checkpoint = {\n",
    "        'epoch': epoch + 1,\n",
    "        'model_state_dict': model.state_dict(),\n",
    "        'optimizer_state_dict': optimizer.state_dict(),\n",
    "        'loss': loss\n",
    "    }\n",
    "    torch.save(checkpoint, filepath)\n",
    "    print(f\"Checkpoint saved to '{filepath}'.\")\n",
    "\n",
    "save_checkpoint(custom_mlp, torch.optim.Adam(custom_mlp.parameters()), len(losses), losses[-1], checkpoint_file)"
   ]
  },
  {
   "cell_type": "code",
   "execution_count": 11,
   "metadata": {},
   "outputs": [
    {
     "name": "stdout",
     "output_type": "stream",
     "text": [
      "                  precision    recall  f1-score   support\n",
      "\n",
      "    infringement       0.90      0.76      0.82       283\n",
      "non_infringement       0.80      0.92      0.86       298\n",
      "\n",
      "        accuracy                           0.84       581\n",
      "       macro avg       0.85      0.84      0.84       581\n",
      "    weighted avg       0.85      0.84      0.84       581\n",
      "\n"
     ]
    },
    {
     "name": "stderr",
     "output_type": "stream",
     "text": [
      "/tmp/ipykernel_2602950/2137335780.py:1: UserWarning: To copy construct from a tensor, it is recommended to use sourceTensor.clone().detach() or sourceTensor.clone().detach().requires_grad_(True), rather than torch.tensor(sourceTensor).\n",
      "  y_pred_final = (torch.sigmoid(torch.tensor(custom_mlp(torch.tensor(X_test, dtype=torch.float32)))) > 0.5).float().numpy()\n"
     ]
    }
   ],
   "source": [
    "y_pred_final = (torch.sigmoid(torch.tensor(custom_mlp(torch.tensor(X_test, dtype=torch.float32)))) > 0.5).float().numpy()\n",
    "print(classification_report(y_test, y_pred_final, target_names=[\"infringement\", \"non_infringement\"]))"
   ]
  }
 ],
 "metadata": {
  "kernelspec": {
   "display_name": "sit",
   "language": "python",
   "name": "python3"
  },
  "language_info": {
   "codemirror_mode": {
    "name": "ipython",
    "version": 3
   },
   "file_extension": ".py",
   "mimetype": "text/x-python",
   "name": "python",
   "nbconvert_exporter": "python",
   "pygments_lexer": "ipython3",
   "version": "3.9.20"
  }
 },
 "nbformat": 4,
 "nbformat_minor": 2
}
