{
 "cells": [
  {
   "cell_type": "code",
   "execution_count": null,
   "metadata": {},
   "outputs": [],
   "source": [
    "# import packages & variables\n",
    "import argparse\n",
    "import torch\n",
    "import torch.nn as nn\n",
    "import numpy as np\n",
    "from sklearn.metrics import accuracy_score, classification_report\n",
    "import matplotlib.pyplot as plt\n",
    "from tqdm import tqdm\n",
    "from transformers import AutoTokenizer, AutoModelForCausalLM, AutoModel, AutoModelForSequenceClassification\n",
    "import json\n",
    "import os\n",
    "import time\n",
    "os.environ[\"CUDA_VISIBLE_DEVICES\"] = \"0\"\n",
    "\n",
    "# Parameters\n",
    "model_name = 'meta-llama/Meta-Llama-3.1-8B'\n",
    "non_infringement_file = '/home/guangwei/LLM-COPYRIGHT/copyright_newVersion/test_division/extra_30.non_infringement.json'\n",
    "infringement_file = '/home/guangwei/LLM-COPYRIGHT/copyright_newVersion/test_division/extra_30.infringement.json'\n",
    "checkpoint_file = '/home/guangwei/LLM-COPYRIGHT/copyright_newVersion/models/train_input_reference_0_layer.pth'\n"
   ]
  },
  {
   "cell_type": "code",
   "execution_count": null,
   "metadata": {},
   "outputs": [],
   "source": [
    "# Define CustumMLP for internal states train\n",
    "class CustomMLP(nn.Module):\n",
    "    def __init__(self, input_dim, hidden_dim):\n",
    "        super(CustomMLP, self).__init__()\n",
    "        self.down = nn.Linear(input_dim, hidden_dim)\n",
    "        self.gate = nn.Linear(input_dim, hidden_dim)\n",
    "        self.up = nn.Linear(hidden_dim, 1)\n",
    "        self.activation = nn.SiLU()\n",
    "\n",
    "    def forward(self, x):\n",
    "        down_output = self.down(x)\n",
    "        gate_output = self.gate(x)\n",
    "        gated_output = down_output * self.activation(gate_output)\n",
    "        return self.up(gated_output)"
   ]
  },
  {
   "cell_type": "code",
   "execution_count": null,
   "metadata": {},
   "outputs": [],
   "source": [
    "# Extract hidden states/reference embeddings\n",
    "def extract_hidden_states(texts, model, tokenizer, batch_size=4):\n",
    "    device = torch.device(\"cuda\" if torch.cuda.is_available() else \"cpu\")\n",
    "    model.to(device)\n",
    "    hidden_states = []\n",
    "    \n",
    "    for i in tqdm(range(0, len(texts), batch_size), desc=\"Processing data batches\"):\n",
    "        batch_texts = texts[i:i + batch_size]\n",
    "        inputs = tokenizer(batch_texts, return_tensors=\"pt\", padding=True, truncation=True).to(device)\n",
    "        \n",
    "        with torch.no_grad():\n",
    "            outputs = model(**inputs)\n",
    "        hidden_states.append(outputs.hidden_states[-1].mean(dim=1).cpu().numpy())\n",
    "    \n",
    "    return np.vstack(hidden_states)\n",
    "\n",
    "\n",
    "\n",
    "def extract_decoding(references, model, tokenizer, bert_model, bert_tokenizer, max_length=300, batch_size=1):\n",
    "    device = torch.device(\"cuda\" if torch.cuda.is_available() else \"cpu\")\n",
    "    model.to(device)\n",
    "    bert_model.to(device)\n",
    "    bert_model = nn.DataParallel(bert_model)\n",
    "    \n",
    "    outputs = []\n",
    "    ttft_list = []\n",
    "    tpot_list = []\n",
    "    sysprompt = \"You will be shown a series of passages from famous literary works. After these examples, you will receive a prefix from another passage and be asked to complete it based on the text of a famous work. Provide only the continuation for the last given prefix without any extra commentary, formatting, or additional text.\"\n",
    "    \n",
    "    for i in tqdm(range(0, len(references), batch_size), desc=\"Processing references\"):\n",
    "        batch_references = references[i:i + batch_size]\n",
    "        # Create the input prompt by concatenating sysprompt and the actual reference text\n",
    "        prompt = sysprompt + \" \" + batch_references[0]\n",
    "        \n",
    "        # Tokenize and prepare input for generation model\n",
    "        inputs = tokenizer(prompt, return_tensors=\"pt\", padding=True, truncation=True, padding_side='left').to(device)\n",
    "        tokenizer.pad_token_id = tokenizer.eos_token_id\n",
    "\n",
    "        with torch.no_grad():\n",
    "            # Generate sequences\n",
    "            start_time = time.time()\n",
    "            generated_ids = model.generate(\n",
    "                **inputs, max_new_tokens=20, output_hidden_states=False, return_dict_in_generate=True, use_cache=True\n",
    "            )\n",
    "            ttft = time.time() - start_time\n",
    "            num_tokens_generated = generated_ids[\"sequences\"].shape[1]\n",
    "            tpot = ttft / num_tokens_generated if num_tokens_generated > 0 else float('inf')\n",
    "\n",
    "            # Decode the generated sequences to text\n",
    "            generated_texts = tokenizer.batch_decode(generated_ids[\"sequences\"], skip_special_tokens=True)\n",
    "            \n",
    "            # Remove the prompt part from generated_texts if it's included\n",
    "            generated_texts_cleaned = []\n",
    "            for text in generated_texts:\n",
    "                # Remove the prompt portion\n",
    "                text = text[len(prompt):].strip()\n",
    "                generated_texts_cleaned.append(text)\n",
    "            \n",
    "            # Print the cleaned generated texts\n",
    "            print(\"Generated Continuations:\", generated_texts_cleaned)\n",
    "\n",
    "            # Tokenize the cleaned text for BERT model\n",
    "            bert_inputs = bert_tokenizer(generated_texts_cleaned, return_tensors=\"pt\", padding=True, truncation=True).to(device)\n",
    "            bert_outputs = bert_model(**bert_inputs)\n",
    "            \n",
    "            # Extract BERT embeddings\n",
    "            embedding = bert_outputs.pooler_output.cpu().numpy()\n",
    "        \n",
    "        outputs.append(embedding)\n",
    "        ttft_list.append(ttft)\n",
    "        tpot_list.append(tpot)\n",
    "\n",
    "    # Calculate averages for TTFT and TPOT\n",
    "    average_ttft = np.mean(ttft_list)\n",
    "    average_tpot = np.mean(tpot_list)\n",
    "    \n",
    "    return np.vstack(outputs), average_ttft, average_tpot"
   ]
  },
  {
   "cell_type": "code",
   "execution_count": null,
   "metadata": {},
   "outputs": [],
   "source": [
    "# load data for infringement & non infringement\n",
    "def load_data(non_infringement_file, infringement_file):\n",
    "    with open(non_infringement_file, 'r', encoding='utf-8') as file:\n",
    "        non_infringement_json_data = json.load(file)\n",
    "\n",
    "    non_infringement_outputs = [entry['input'] for entry in non_infringement_json_data]\n",
    "    non_infringement_references = [entry['reference'] for entry in non_infringement_json_data]\n",
    "    y_non_infringement = [1] * len(non_infringement_outputs)\n",
    "\n",
    "    with open(infringement_file, 'r', encoding='utf-8') as file:\n",
    "        infringement_json_data = json.load(file)\n",
    "\n",
    "    infringement_outputs = [entry['input'] for entry in infringement_json_data]\n",
    "    infringement_references = [entry['reference'] for entry in infringement_json_data]\n",
    "    y_infringement = [0] * len(infringement_outputs)\n",
    "\n",
    "    return non_infringement_outputs, non_infringement_references, y_non_infringement, infringement_outputs, infringement_references, y_infringement"
   ]
  },
  {
   "cell_type": "code",
   "execution_count": null,
   "metadata": {},
   "outputs": [],
   "source": [
    "from sklearn.metrics import accuracy_score, classification_report, f1_score\n",
    "\n",
    "# Train for best model\n",
    "def train_model(X_train, y_train, X_test, y_test, input_dim, hidden_dim, epochs=2000, lr=0.001, checkpoint_path=checkpoint_file):\n",
    "    custom_mlp = CustomMLP(input_dim, hidden_dim)\n",
    "    criterion = nn.BCEWithLogitsLoss()\n",
    "    optimizer = torch.optim.Adam(custom_mlp.parameters(), lr=lr)\n",
    "\n",
    "    X_train_tensor = torch.tensor(X_train, dtype=torch.float32)\n",
    "    y_train_tensor = torch.tensor(y_train, dtype=torch.float32).unsqueeze(1)\n",
    "\n",
    "    best_accuracy = -float('inf')\n",
    "    best_f1 = -float('inf')  # Track best F1-score\n",
    "    best_model_state = None\n",
    "    best_epoch = 0\n",
    "    losses = []\n",
    "\n",
    "    for epoch in tqdm(range(epochs), desc=\"Training Epochs\"):\n",
    "        custom_mlp.train()\n",
    "        optimizer.zero_grad()\n",
    "        outputs = custom_mlp(X_train_tensor)\n",
    "        loss = criterion(outputs, y_train_tensor)\n",
    "        loss.backward()\n",
    "        optimizer.step()\n",
    "        losses.append(loss.item())\n",
    "\n",
    "        # Every 10 epochs, evaluate the model\n",
    "        if (epoch + 1) % 10 == 0:\n",
    "            print(f\"Epoch {epoch + 1}/{epochs}, Loss: {loss.item():.4f}\")\n",
    "            \n",
    "            custom_mlp.eval()\n",
    "            X_test_tensor = torch.tensor(X_test, dtype=torch.float32)\n",
    "            with torch.no_grad():\n",
    "                y_pred_logits = custom_mlp(X_test_tensor)\n",
    "                y_pred = (torch.sigmoid(y_pred_logits) > 0.5).float().numpy()\n",
    "            \n",
    "            # Calculate accuracy and F1-score\n",
    "            accuracy = accuracy_score(y_test, y_pred)\n",
    "            f1 = f1_score(y_test, y_pred)  # F1-score calculation\n",
    "            \n",
    "            print(f\"Test Accuracy at Epoch {epoch + 1}: {accuracy * 100:.2f}%\")\n",
    "            print(f\"Test F1-score at Epoch {epoch + 1}: {f1:.4f}\")\n",
    "            \n",
    "            # Generate classification report\n",
    "            report = classification_report(y_test, y_pred, target_names=[\"infringement\", \"non_infringement\"])\n",
    "            print(f\"Classification Report at Epoch {epoch + 1}:\\n{report}\")\n",
    "\n",
    "            # Save the model if it achieves a better F1-score\n",
    "            if f1 > best_f1:\n",
    "                best_accuracy = accuracy\n",
    "                best_f1 = f1\n",
    "                best_model_state = custom_mlp.state_dict()\n",
    "                best_epoch = epoch + 1\n",
    "                torch.save(best_model_state, checkpoint_path)\n",
    "                print(f\"New best model saved with F1-score {best_f1:.4f} at epoch {best_epoch}\")\n",
    "                print(f\"Best Classification Report at Epoch {best_epoch}:\\n{report}\")\n",
    "\n",
    "    # Load the best model state\n",
    "    custom_mlp.load_state_dict(torch.load(checkpoint_path))\n",
    "\n",
    "    # Plot loss curve\n",
    "    plt.figure(figsize=(10, 5))\n",
    "    plt.plot(losses, label='Training Loss')\n",
    "    plt.xlabel('Epoch')\n",
    "    plt.ylabel('Loss')\n",
    "    plt.title('Training Loss Curve')\n",
    "    plt.legend()\n",
    "    plt.show()\n",
    "\n",
    "    print(f\"Final Model Accuracy: {best_accuracy * 100:.2f}%\")\n",
    "    print(f\"Final Model F1-score: {best_f1:.4f}\")\n",
    "    \n",
    "    return custom_mlp, losses, best_accuracy, best_f1\n"
   ]
  },
  {
   "cell_type": "code",
   "execution_count": null,
   "metadata": {},
   "outputs": [],
   "source": [
    "tokenizer = AutoTokenizer.from_pretrained(model_name, model_max_length=512)\n",
    "model = AutoModelForCausalLM.from_pretrained(model_name, output_hidden_states=True)\n",
    "tokenizer.pad_token = tokenizer.eos_token\n",
    "bert_tokenizer = AutoTokenizer.from_pretrained('google-bert/bert-base-uncased')\n",
    "bert_model = AutoModel.from_pretrained('google-bert/bert-base-uncased')\n",
    "bert_tokenizer.pad_token = tokenizer.eos_token\n",
    "\n",
    "non_infringement_outputs, non_infringement_references, y_non_infringement, infringement_outputs, infringement_references, y_infringement = load_data(\n",
    "    non_infringement_file, infringement_file\n",
    ")\n",
    "\n",
    "y_non_infringement = np.array(y_non_infringement)\n",
    "y_infringement = np.array(y_infringement)\n"
   ]
  },
  {
   "cell_type": "code",
   "execution_count": null,
   "metadata": {},
   "outputs": [],
   "source": [
    "# print(\"Extracting hidden states for non_infringement texts...\")\n",
    "# X_non_infringement = extract_hidden_states(non_infringement_outputs, model, tokenizer)\n",
    "# print(\"Extracting reference embeddings for non_infringement texts...\")\n",
    "# reference_embeddings_non_infringement = extract_reference_embeddings(non_infringement_references, bert_model, bert_tokenizer)\n",
    "# X_non_infringement_combined = np.hstack([X_non_infringement, reference_embeddings_non_infringement])\n",
    "\n",
    "# print(\"Extracting hidden states for infringement texts...\")\n",
    "# X_infringement = extract_hidden_states(infringement_outputs, model, tokenizer)\n",
    "# print(\"Extracting reference embeddings for infringement texts...\")\n",
    "# reference_embeddings_infringement = extract_reference_embeddings(infringement_references, bert_model, bert_tokenizer)\n",
    "# X_infringement_combined = np.hstack([X_infringement, reference_embeddings_infringement])\n",
    "\n",
    "\n",
    "# 在主程序中\n",
    "print(\"Extracting hidden states for non_infringement texts...\")\n",
    "X_non_infringement = extract_hidden_states(non_infringement_outputs, model, tokenizer)\n",
    "print(\"Extracting decoding for non_infringement texts...\")\n",
    "last_token_hidden_states_non_infringement, totaltime_non_infringement, tpot_non_infringement = extract_decoding(non_infringement_outputs, model, tokenizer, bert_model, bert_tokenizer)\n",
    "\n",
    "if (X_non_infringement.shape[0]!=last_token_hidden_states_non_infringement.shape[0]):\n",
    "    print(\"X_non_infringement.shape[0]:\", X_non_infringement.shape[0])\n",
    "    print(\"last_token_hidden_states_non_infringement.shape[0]:\", last_token_hidden_states_non_infringement.shape[0])\n",
    "    # 对齐两个数组的行数\n",
    "    min_rows = min(X_non_infringement.shape[0], last_token_hidden_states_non_infringement.shape[0])\n",
    "\n",
    "    # 裁剪两个数组到相同的行数\n",
    "    X_non_infringement_aligned = X_non_infringement[:min_rows, :]\n",
    "    last_token_hidden_states_non_infringement_aligned = last_token_hidden_states_non_infringement[:min_rows, :]\n",
    "else:\n",
    "    X_non_infringement_aligned = X_non_infringement\n",
    "    last_token_hidden_states_non_infringement_aligned = last_token_hidden_states_non_infringement\n",
    "\n",
    "    # 进行合并\n",
    "X_non_infringement_combined = np.hstack([X_non_infringement_aligned, last_token_hidden_states_non_infringement_aligned])\n",
    "\n",
    "\n",
    "\n",
    "print(\"Extracting hidden states for infringement texts...\")\n",
    "X_infringement = extract_hidden_states(infringement_outputs, model, tokenizer)\n",
    "print(\"Extracting decoding for infringement texts...\")\n",
    "last_token_hidden_states_infringement, totaltime_infringement, tpot_infringement = extract_decoding(infringement_outputs, model, tokenizer, bert_model, bert_tokenizer)\n",
    "\n",
    "if (X_infringement.shape[0]!=last_token_hidden_states_infringement.shape[0]):\n",
    "    print(\"X_infringement.shape[0]:\", X_infringement.shape[0])\n",
    "    print(\"last_token_hidden_states_non_infringement.shape[0]:\", last_token_hidden_states_infringement.shape[0])\n",
    "    # 对齐两个数组的行数\n",
    "    min_rows = min(X_infringement.shape[0], last_token_hidden_states_infringement.shape[0])\n",
    "\n",
    "    # 裁剪两个数组到相同的行数\n",
    "    X_infringement_aligned = X_infringement[:min_rows, :]\n",
    "    last_token_hidden_states_infringement_aligned = last_token_hidden_states_infringement[:min_rows, :]\n",
    "else:\n",
    "    X_infringement_aligned = X_infringement\n",
    "    last_token_hidden_states_infringement_aligned = last_token_hidden_states_infringement\n",
    "\n",
    "    # 进行合并\n",
    "X_infringement_combined = np.hstack([X_infringement_aligned, last_token_hidden_states_infringement_aligned])\n",
    "\n",
    "# 计算平均值\n",
    "average_totaltime = (totaltime_non_infringement + totaltime_infringement) / 2\n",
    "print(\"Average Total Time:\", average_totaltime)\n",
    "average_tpot = (tpot_non_infringement + tpot_infringement) / 2\n",
    "print(\"Average Tpot:\", average_tpot)"
   ]
  },
  {
   "cell_type": "code",
   "execution_count": 27,
   "metadata": {},
   "outputs": [
    {
     "name": "stdout",
     "output_type": "stream",
     "text": [
      "Data successfully split into training and test sets.\n"
     ]
    }
   ],
   "source": [
    "split_index_non_infringement = int(0.8 * len(X_non_infringement_combined))\n",
    "X_non_infringement_train = X_non_infringement_combined[:split_index_non_infringement]\n",
    "X_non_infringement_test = X_non_infringement_combined[split_index_non_infringement:]\n",
    "y_non_infringement_train = y_non_infringement[:split_index_non_infringement]\n",
    "y_non_infringement_test = y_non_infringement[split_index_non_infringement:]\n",
    "\n",
    "split_index_infringement = int(0.8 * len(X_infringement_combined))\n",
    "X_infringement_train = X_infringement_combined[:split_index_infringement]\n",
    "X_infringement_test = X_infringement_combined[split_index_infringement:]\n",
    "y_infringement_train = y_infringement[:split_index_infringement]\n",
    "y_infringement_test = y_infringement[split_index_infringement:]\n",
    "\n",
    "X_train = np.vstack((X_non_infringement_train, X_infringement_train))\n",
    "X_test = np.vstack((X_non_infringement_test, X_infringement_test))\n",
    "y_train = np.concatenate((y_non_infringement_train, y_infringement_train))\n",
    "y_test = np.concatenate((y_non_infringement_test, y_infringement_test))\n",
    "\n",
    "print(\"Data successfully split into training and test sets.\")"
   ]
  },
  {
   "cell_type": "code",
   "execution_count": null,
   "metadata": {},
   "outputs": [
    {
     "name": "stdout",
     "output_type": "stream",
     "text": [
      "Training MLP model with input_dim=4864 and hidden_dim=4096\n"
     ]
    },
    {
     "name": "stderr",
     "output_type": "stream",
     "text": [
      "Training Epochs:   0%|          | 9/2000 [00:02<07:58,  4.16it/s]"
     ]
    },
    {
     "name": "stdout",
     "output_type": "stream",
     "text": [
      "Epoch 10/2000, Loss: 0.7496\n",
      "Test Accuracy at Epoch 10: 65.79%\n",
      "Test F1-score at Epoch 10: 0.7400\n",
      "Classification Report at Epoch 10:\n",
      "                  precision    recall  f1-score   support\n",
      "\n",
      "    infringement       0.98      0.34      0.50       194\n",
      "non_infringement       0.59      0.99      0.74       186\n",
      "\n",
      "        accuracy                           0.66       380\n",
      "       macro avg       0.79      0.66      0.62       380\n",
      "    weighted avg       0.79      0.66      0.62       380\n",
      "\n"
     ]
    },
    {
     "name": "stderr",
     "output_type": "stream",
     "text": [
      "Training Epochs:   0%|          | 10/2000 [00:02<11:07,  2.98it/s]"
     ]
    },
    {
     "name": "stdout",
     "output_type": "stream",
     "text": [
      "New best model saved with F1-score 0.7400 at epoch 10\n",
      "Best Classification Report at Epoch 10:\n",
      "                  precision    recall  f1-score   support\n",
      "\n",
      "    infringement       0.98      0.34      0.50       194\n",
      "non_infringement       0.59      0.99      0.74       186\n",
      "\n",
      "        accuracy                           0.66       380\n",
      "       macro avg       0.79      0.66      0.62       380\n",
      "    weighted avg       0.79      0.66      0.62       380\n",
      "\n"
     ]
    },
    {
     "name": "stderr",
     "output_type": "stream",
     "text": [
      "Training Epochs:   1%|          | 20/2000 [00:05<08:42,  3.79it/s]"
     ]
    },
    {
     "name": "stdout",
     "output_type": "stream",
     "text": [
      "Epoch 20/2000, Loss: 0.3871\n",
      "Test Accuracy at Epoch 20: 68.68%\n",
      "Test F1-score at Epoch 20: 0.7119\n",
      "Classification Report at Epoch 20:\n",
      "                  precision    recall  f1-score   support\n",
      "\n",
      "    infringement       0.75      0.59      0.66       194\n",
      "non_infringement       0.65      0.79      0.71       186\n",
      "\n",
      "        accuracy                           0.69       380\n",
      "       macro avg       0.70      0.69      0.68       380\n",
      "    weighted avg       0.70      0.69      0.68       380\n",
      "\n"
     ]
    },
    {
     "name": "stderr",
     "output_type": "stream",
     "text": [
      "Training Epochs:   1%|▏         | 29/2000 [00:07<07:57,  4.13it/s]"
     ]
    },
    {
     "name": "stdout",
     "output_type": "stream",
     "text": [
      "Epoch 30/2000, Loss: 0.2608\n",
      "Test Accuracy at Epoch 30: 72.11%\n",
      "Test F1-score at Epoch 30: 0.7464\n",
      "Classification Report at Epoch 30:\n",
      "                  precision    recall  f1-score   support\n",
      "\n",
      "    infringement       0.80      0.61      0.69       194\n",
      "non_infringement       0.67      0.84      0.75       186\n",
      "\n",
      "        accuracy                           0.72       380\n",
      "       macro avg       0.73      0.72      0.72       380\n",
      "    weighted avg       0.74      0.72      0.72       380\n",
      "\n"
     ]
    },
    {
     "name": "stderr",
     "output_type": "stream",
     "text": [
      "Training Epochs:   2%|▏         | 30/2000 [00:07<11:12,  2.93it/s]"
     ]
    },
    {
     "name": "stdout",
     "output_type": "stream",
     "text": [
      "New best model saved with F1-score 0.7464 at epoch 30\n",
      "Best Classification Report at Epoch 30:\n",
      "                  precision    recall  f1-score   support\n",
      "\n",
      "    infringement       0.80      0.61      0.69       194\n",
      "non_infringement       0.67      0.84      0.75       186\n",
      "\n",
      "        accuracy                           0.72       380\n",
      "       macro avg       0.73      0.72      0.72       380\n",
      "    weighted avg       0.74      0.72      0.72       380\n",
      "\n"
     ]
    },
    {
     "name": "stderr",
     "output_type": "stream",
     "text": [
      "Training Epochs:   2%|▏         | 40/2000 [00:10<08:09,  4.01it/s]"
     ]
    },
    {
     "name": "stdout",
     "output_type": "stream",
     "text": [
      "Epoch 40/2000, Loss: 0.1642\n",
      "Test Accuracy at Epoch 40: 71.84%\n",
      "Test F1-score at Epoch 40: 0.7422\n",
      "Classification Report at Epoch 40:\n",
      "                  precision    recall  f1-score   support\n",
      "\n",
      "    infringement       0.79      0.61      0.69       194\n",
      "non_infringement       0.67      0.83      0.74       186\n",
      "\n",
      "        accuracy                           0.72       380\n",
      "       macro avg       0.73      0.72      0.72       380\n",
      "    weighted avg       0.73      0.72      0.72       380\n",
      "\n"
     ]
    },
    {
     "name": "stderr",
     "output_type": "stream",
     "text": [
      "Training Epochs:   2%|▎         | 50/2000 [00:12<07:55,  4.10it/s]"
     ]
    },
    {
     "name": "stdout",
     "output_type": "stream",
     "text": [
      "Epoch 50/2000, Loss: 0.1097\n",
      "Test Accuracy at Epoch 50: 70.53%\n",
      "Test F1-score at Epoch 50: 0.7419\n",
      "Classification Report at Epoch 50:\n",
      "                  precision    recall  f1-score   support\n",
      "\n",
      "    infringement       0.81      0.55      0.66       194\n",
      "non_infringement       0.65      0.87      0.74       186\n",
      "\n",
      "        accuracy                           0.71       380\n",
      "       macro avg       0.73      0.71      0.70       380\n",
      "    weighted avg       0.73      0.71      0.70       380\n",
      "\n"
     ]
    },
    {
     "name": "stderr",
     "output_type": "stream",
     "text": [
      "Training Epochs:   3%|▎         | 59/2000 [00:14<07:44,  4.18it/s]"
     ]
    },
    {
     "name": "stdout",
     "output_type": "stream",
     "text": [
      "Epoch 60/2000, Loss: 0.0942\n",
      "Test Accuracy at Epoch 60: 71.84%\n",
      "Test F1-score at Epoch 60: 0.7517\n",
      "Classification Report at Epoch 60:\n",
      "                  precision    recall  f1-score   support\n",
      "\n",
      "    infringement       0.82      0.57      0.67       194\n",
      "non_infringement       0.66      0.87      0.75       186\n",
      "\n",
      "        accuracy                           0.72       380\n",
      "       macro avg       0.74      0.72      0.71       380\n",
      "    weighted avg       0.74      0.72      0.71       380\n",
      "\n"
     ]
    },
    {
     "name": "stderr",
     "output_type": "stream",
     "text": [
      "Training Epochs:   3%|▎         | 60/2000 [00:15<10:44,  3.01it/s]"
     ]
    },
    {
     "name": "stdout",
     "output_type": "stream",
     "text": [
      "New best model saved with F1-score 0.7517 at epoch 60\n",
      "Best Classification Report at Epoch 60:\n",
      "                  precision    recall  f1-score   support\n",
      "\n",
      "    infringement       0.82      0.57      0.67       194\n",
      "non_infringement       0.66      0.87      0.75       186\n",
      "\n",
      "        accuracy                           0.72       380\n",
      "       macro avg       0.74      0.72      0.71       380\n",
      "    weighted avg       0.74      0.72      0.71       380\n",
      "\n"
     ]
    },
    {
     "name": "stderr",
     "output_type": "stream",
     "text": [
      "Training Epochs:   4%|▎         | 70/2000 [00:17<08:20,  3.86it/s]"
     ]
    },
    {
     "name": "stdout",
     "output_type": "stream",
     "text": [
      "Epoch 70/2000, Loss: 0.0751\n",
      "Test Accuracy at Epoch 70: 70.53%\n",
      "Test F1-score at Epoch 70: 0.7383\n",
      "Classification Report at Epoch 70:\n",
      "                  precision    recall  f1-score   support\n",
      "\n",
      "    infringement       0.80      0.57      0.66       194\n",
      "non_infringement       0.65      0.85      0.74       186\n",
      "\n",
      "        accuracy                           0.71       380\n",
      "       macro avg       0.72      0.71      0.70       380\n",
      "    weighted avg       0.73      0.71      0.70       380\n",
      "\n"
     ]
    },
    {
     "name": "stderr",
     "output_type": "stream",
     "text": [
      "Training Epochs:   4%|▍         | 79/2000 [00:20<07:40,  4.17it/s]"
     ]
    },
    {
     "name": "stdout",
     "output_type": "stream",
     "text": [
      "Epoch 80/2000, Loss: 0.0680\n",
      "Test Accuracy at Epoch 80: 73.16%\n",
      "Test F1-score at Epoch 80: 0.7524\n",
      "Classification Report at Epoch 80:\n",
      "                  precision    recall  f1-score   support\n",
      "\n",
      "    infringement       0.80      0.63      0.71       194\n",
      "non_infringement       0.69      0.83      0.75       186\n",
      "\n",
      "        accuracy                           0.73       380\n",
      "       macro avg       0.74      0.73      0.73       380\n",
      "    weighted avg       0.74      0.73      0.73       380\n",
      "\n"
     ]
    },
    {
     "name": "stderr",
     "output_type": "stream",
     "text": [
      "Training Epochs:   4%|▍         | 80/2000 [00:20<10:46,  2.97it/s]"
     ]
    },
    {
     "name": "stdout",
     "output_type": "stream",
     "text": [
      "New best model saved with F1-score 0.7524 at epoch 80\n",
      "Best Classification Report at Epoch 80:\n",
      "                  precision    recall  f1-score   support\n",
      "\n",
      "    infringement       0.80      0.63      0.71       194\n",
      "non_infringement       0.69      0.83      0.75       186\n",
      "\n",
      "        accuracy                           0.73       380\n",
      "       macro avg       0.74      0.73      0.73       380\n",
      "    weighted avg       0.74      0.73      0.73       380\n",
      "\n"
     ]
    },
    {
     "name": "stderr",
     "output_type": "stream",
     "text": [
      "Training Epochs:   4%|▍         | 90/2000 [00:23<08:20,  3.81it/s]"
     ]
    },
    {
     "name": "stdout",
     "output_type": "stream",
     "text": [
      "Epoch 90/2000, Loss: 0.0537\n",
      "Test Accuracy at Epoch 90: 71.58%\n",
      "Test F1-score at Epoch 90: 0.7429\n",
      "Classification Report at Epoch 90:\n",
      "                  precision    recall  f1-score   support\n",
      "\n",
      "    infringement       0.79      0.60      0.68       194\n",
      "non_infringement       0.67      0.84      0.74       186\n",
      "\n",
      "        accuracy                           0.72       380\n",
      "       macro avg       0.73      0.72      0.71       380\n",
      "    weighted avg       0.73      0.72      0.71       380\n",
      "\n"
     ]
    },
    {
     "name": "stderr",
     "output_type": "stream",
     "text": [
      "Training Epochs:   5%|▌         | 100/2000 [00:25<07:54,  4.00it/s]"
     ]
    },
    {
     "name": "stdout",
     "output_type": "stream",
     "text": [
      "Epoch 100/2000, Loss: 0.0441\n",
      "Test Accuracy at Epoch 100: 72.37%\n",
      "Test F1-score at Epoch 100: 0.7506\n",
      "Classification Report at Epoch 100:\n",
      "                  precision    recall  f1-score   support\n",
      "\n",
      "    infringement       0.81      0.60      0.69       194\n",
      "non_infringement       0.67      0.85      0.75       186\n",
      "\n",
      "        accuracy                           0.72       380\n",
      "       macro avg       0.74      0.73      0.72       380\n",
      "    weighted avg       0.74      0.72      0.72       380\n",
      "\n"
     ]
    },
    {
     "name": "stderr",
     "output_type": "stream",
     "text": [
      "Training Epochs:   5%|▌         | 109/2000 [00:27<07:42,  4.09it/s]"
     ]
    },
    {
     "name": "stdout",
     "output_type": "stream",
     "text": [
      "Epoch 110/2000, Loss: 0.0357\n",
      "Test Accuracy at Epoch 110: 73.95%\n",
      "Test F1-score at Epoch 110: 0.7579\n",
      "Classification Report at Epoch 110:\n",
      "                  precision    recall  f1-score   support\n",
      "\n",
      "    infringement       0.80      0.65      0.72       194\n",
      "non_infringement       0.70      0.83      0.76       186\n",
      "\n",
      "        accuracy                           0.74       380\n",
      "       macro avg       0.75      0.74      0.74       380\n",
      "    weighted avg       0.75      0.74      0.74       380\n",
      "\n"
     ]
    },
    {
     "name": "stderr",
     "output_type": "stream",
     "text": [
      "Training Epochs:   6%|▌         | 110/2000 [00:28<12:42,  2.48it/s]"
     ]
    },
    {
     "name": "stdout",
     "output_type": "stream",
     "text": [
      "New best model saved with F1-score 0.7579 at epoch 110\n",
      "Best Classification Report at Epoch 110:\n",
      "                  precision    recall  f1-score   support\n",
      "\n",
      "    infringement       0.80      0.65      0.72       194\n",
      "non_infringement       0.70      0.83      0.76       186\n",
      "\n",
      "        accuracy                           0.74       380\n",
      "       macro avg       0.75      0.74      0.74       380\n",
      "    weighted avg       0.75      0.74      0.74       380\n",
      "\n"
     ]
    },
    {
     "name": "stderr",
     "output_type": "stream",
     "text": [
      "Training Epochs:   6%|▌         | 120/2000 [00:31<08:25,  3.72it/s]"
     ]
    },
    {
     "name": "stdout",
     "output_type": "stream",
     "text": [
      "Epoch 120/2000, Loss: 0.0365\n",
      "Test Accuracy at Epoch 120: 71.32%\n",
      "Test F1-score at Epoch 120: 0.7423\n",
      "Classification Report at Epoch 120:\n",
      "                  precision    recall  f1-score   support\n",
      "\n",
      "    infringement       0.80      0.59      0.68       194\n",
      "non_infringement       0.66      0.84      0.74       186\n",
      "\n",
      "        accuracy                           0.71       380\n",
      "       macro avg       0.73      0.72      0.71       380\n",
      "    weighted avg       0.73      0.71      0.71       380\n",
      "\n"
     ]
    },
    {
     "name": "stderr",
     "output_type": "stream",
     "text": [
      "Training Epochs:   6%|▋         | 130/2000 [00:33<08:06,  3.84it/s]"
     ]
    },
    {
     "name": "stdout",
     "output_type": "stream",
     "text": [
      "Epoch 130/2000, Loss: 0.0276\n",
      "Test Accuracy at Epoch 130: 72.63%\n",
      "Test F1-score at Epoch 130: 0.7463\n",
      "Classification Report at Epoch 130:\n",
      "                  precision    recall  f1-score   support\n",
      "\n",
      "    infringement       0.79      0.63      0.70       194\n",
      "non_infringement       0.68      0.82      0.75       186\n",
      "\n",
      "        accuracy                           0.73       380\n",
      "       macro avg       0.74      0.73      0.72       380\n",
      "    weighted avg       0.74      0.73      0.72       380\n",
      "\n"
     ]
    },
    {
     "name": "stderr",
     "output_type": "stream",
     "text": [
      "Training Epochs:   7%|▋         | 140/2000 [00:36<09:09,  3.38it/s]"
     ]
    },
    {
     "name": "stdout",
     "output_type": "stream",
     "text": [
      "Epoch 140/2000, Loss: 0.0214\n",
      "Test Accuracy at Epoch 140: 72.89%\n",
      "Test F1-score at Epoch 140: 0.7518\n",
      "Classification Report at Epoch 140:\n",
      "                  precision    recall  f1-score   support\n",
      "\n",
      "    infringement       0.80      0.62      0.70       194\n",
      "non_infringement       0.68      0.84      0.75       186\n",
      "\n",
      "        accuracy                           0.73       380\n",
      "       macro avg       0.74      0.73      0.73       380\n",
      "    weighted avg       0.74      0.73      0.73       380\n",
      "\n"
     ]
    },
    {
     "name": "stderr",
     "output_type": "stream",
     "text": [
      "Training Epochs:   8%|▊         | 150/2000 [00:39<09:32,  3.23it/s]"
     ]
    },
    {
     "name": "stdout",
     "output_type": "stream",
     "text": [
      "Epoch 150/2000, Loss: 0.0189\n",
      "Test Accuracy at Epoch 150: 71.58%\n",
      "Test F1-score at Epoch 150: 0.7416\n",
      "Classification Report at Epoch 150:\n",
      "                  precision    recall  f1-score   support\n",
      "\n",
      "    infringement       0.79      0.60      0.68       194\n",
      "non_infringement       0.67      0.83      0.74       186\n",
      "\n",
      "        accuracy                           0.72       380\n",
      "       macro avg       0.73      0.72      0.71       380\n",
      "    weighted avg       0.73      0.72      0.71       380\n",
      "\n"
     ]
    },
    {
     "name": "stderr",
     "output_type": "stream",
     "text": [
      "Training Epochs:   8%|▊         | 160/2000 [00:42<09:18,  3.30it/s]"
     ]
    },
    {
     "name": "stdout",
     "output_type": "stream",
     "text": [
      "Epoch 160/2000, Loss: 0.0161\n",
      "Test Accuracy at Epoch 160: 72.11%\n",
      "Test F1-score at Epoch 160: 0.7452\n",
      "Classification Report at Epoch 160:\n",
      "                  precision    recall  f1-score   support\n",
      "\n",
      "    infringement       0.79      0.61      0.69       194\n",
      "non_infringement       0.67      0.83      0.75       186\n",
      "\n",
      "        accuracy                           0.72       380\n",
      "       macro avg       0.73      0.72      0.72       380\n",
      "    weighted avg       0.73      0.72      0.72       380\n",
      "\n"
     ]
    },
    {
     "name": "stderr",
     "output_type": "stream",
     "text": [
      "Training Epochs:   8%|▊         | 170/2000 [00:44<08:29,  3.59it/s]"
     ]
    },
    {
     "name": "stdout",
     "output_type": "stream",
     "text": [
      "Epoch 170/2000, Loss: 0.0145\n",
      "Test Accuracy at Epoch 170: 72.89%\n",
      "Test F1-score at Epoch 170: 0.7494\n",
      "Classification Report at Epoch 170:\n",
      "                  precision    recall  f1-score   support\n",
      "\n",
      "    infringement       0.79      0.63      0.70       194\n",
      "non_infringement       0.68      0.83      0.75       186\n",
      "\n",
      "        accuracy                           0.73       380\n",
      "       macro avg       0.74      0.73      0.73       380\n",
      "    weighted avg       0.74      0.73      0.73       380\n",
      "\n"
     ]
    },
    {
     "name": "stderr",
     "output_type": "stream",
     "text": [
      "Training Epochs:   9%|▉         | 180/2000 [00:47<08:35,  3.53it/s]"
     ]
    },
    {
     "name": "stdout",
     "output_type": "stream",
     "text": [
      "Epoch 180/2000, Loss: 0.0129\n",
      "Test Accuracy at Epoch 180: 73.68%\n",
      "Test F1-score at Epoch 180: 0.7573\n",
      "Classification Report at Epoch 180:\n",
      "                  precision    recall  f1-score   support\n",
      "\n",
      "    infringement       0.81      0.64      0.71       194\n",
      "non_infringement       0.69      0.84      0.76       186\n",
      "\n",
      "        accuracy                           0.74       380\n",
      "       macro avg       0.75      0.74      0.73       380\n",
      "    weighted avg       0.75      0.74      0.73       380\n",
      "\n"
     ]
    },
    {
     "name": "stderr",
     "output_type": "stream",
     "text": [
      "Training Epochs:  10%|▉         | 190/2000 [00:50<08:51,  3.40it/s]"
     ]
    },
    {
     "name": "stdout",
     "output_type": "stream",
     "text": [
      "Epoch 190/2000, Loss: 0.0198\n",
      "Test Accuracy at Epoch 190: 72.63%\n",
      "Test F1-score at Epoch 190: 0.7500\n",
      "Classification Report at Epoch 190:\n",
      "                  precision    recall  f1-score   support\n",
      "\n",
      "    infringement       0.80      0.62      0.70       194\n",
      "non_infringement       0.68      0.84      0.75       186\n",
      "\n",
      "        accuracy                           0.73       380\n",
      "       macro avg       0.74      0.73      0.72       380\n",
      "    weighted avg       0.74      0.73      0.72       380\n",
      "\n"
     ]
    },
    {
     "name": "stderr",
     "output_type": "stream",
     "text": [
      "Training Epochs:  10%|█         | 200/2000 [00:53<08:37,  3.48it/s]"
     ]
    },
    {
     "name": "stdout",
     "output_type": "stream",
     "text": [
      "Epoch 200/2000, Loss: 0.0151\n",
      "Test Accuracy at Epoch 200: 72.37%\n",
      "Test F1-score at Epoch 200: 0.7382\n",
      "Classification Report at Epoch 200:\n",
      "                  precision    recall  f1-score   support\n",
      "\n",
      "    infringement       0.77      0.65      0.71       194\n",
      "non_infringement       0.69      0.80      0.74       186\n",
      "\n",
      "        accuracy                           0.72       380\n",
      "       macro avg       0.73      0.73      0.72       380\n",
      "    weighted avg       0.73      0.72      0.72       380\n",
      "\n"
     ]
    },
    {
     "name": "stderr",
     "output_type": "stream",
     "text": [
      "Training Epochs:  10%|█         | 210/2000 [00:55<10:24,  2.87it/s]"
     ]
    },
    {
     "name": "stdout",
     "output_type": "stream",
     "text": [
      "Epoch 210/2000, Loss: 0.0350\n",
      "Test Accuracy at Epoch 210: 71.84%\n",
      "Test F1-score at Epoch 210: 0.7529\n",
      "Classification Report at Epoch 210:\n",
      "                  precision    recall  f1-score   support\n",
      "\n",
      "    infringement       0.83      0.57      0.67       194\n",
      "non_infringement       0.66      0.88      0.75       186\n",
      "\n",
      "        accuracy                           0.72       380\n",
      "       macro avg       0.74      0.72      0.71       380\n",
      "    weighted avg       0.75      0.72      0.71       380\n",
      "\n"
     ]
    },
    {
     "name": "stderr",
     "output_type": "stream",
     "text": [
      "Training Epochs:  11%|█         | 220/2000 [00:58<08:07,  3.65it/s]"
     ]
    },
    {
     "name": "stdout",
     "output_type": "stream",
     "text": [
      "Epoch 220/2000, Loss: 0.3540\n",
      "Test Accuracy at Epoch 220: 72.37%\n",
      "Test F1-score at Epoch 220: 0.7506\n",
      "Classification Report at Epoch 220:\n",
      "                  precision    recall  f1-score   support\n",
      "\n",
      "    infringement       0.81      0.60      0.69       194\n",
      "non_infringement       0.67      0.85      0.75       186\n",
      "\n",
      "        accuracy                           0.72       380\n",
      "       macro avg       0.74      0.73      0.72       380\n",
      "    weighted avg       0.74      0.72      0.72       380\n",
      "\n"
     ]
    },
    {
     "name": "stderr",
     "output_type": "stream",
     "text": [
      "Training Epochs:  12%|█▏        | 230/2000 [01:01<07:35,  3.88it/s]"
     ]
    },
    {
     "name": "stdout",
     "output_type": "stream",
     "text": [
      "Epoch 230/2000, Loss: 0.1707\n",
      "Test Accuracy at Epoch 230: 71.58%\n",
      "Test F1-score at Epoch 230: 0.7429\n",
      "Classification Report at Epoch 230:\n",
      "                  precision    recall  f1-score   support\n",
      "\n",
      "    infringement       0.79      0.60      0.68       194\n",
      "non_infringement       0.67      0.84      0.74       186\n",
      "\n",
      "        accuracy                           0.72       380\n",
      "       macro avg       0.73      0.72      0.71       380\n",
      "    weighted avg       0.73      0.72      0.71       380\n",
      "\n"
     ]
    },
    {
     "name": "stderr",
     "output_type": "stream",
     "text": [
      "Training Epochs:  12%|█▏        | 240/2000 [01:03<07:19,  4.01it/s]"
     ]
    },
    {
     "name": "stdout",
     "output_type": "stream",
     "text": [
      "Epoch 240/2000, Loss: 0.0939\n",
      "Test Accuracy at Epoch 240: 70.79%\n",
      "Test F1-score at Epoch 240: 0.7299\n",
      "Classification Report at Epoch 240:\n",
      "                  precision    recall  f1-score   support\n",
      "\n",
      "    infringement       0.77      0.61      0.68       194\n",
      "non_infringement       0.67      0.81      0.73       186\n",
      "\n",
      "        accuracy                           0.71       380\n",
      "       macro avg       0.72      0.71      0.71       380\n",
      "    weighted avg       0.72      0.71      0.71       380\n",
      "\n"
     ]
    },
    {
     "name": "stderr",
     "output_type": "stream",
     "text": [
      "Training Epochs:  12%|█▎        | 250/2000 [01:06<07:04,  4.13it/s]"
     ]
    },
    {
     "name": "stdout",
     "output_type": "stream",
     "text": [
      "Epoch 250/2000, Loss: 0.0630\n",
      "Test Accuracy at Epoch 250: 69.47%\n",
      "Test F1-score at Epoch 250: 0.7225\n",
      "Classification Report at Epoch 250:\n",
      "                  precision    recall  f1-score   support\n",
      "\n",
      "    infringement       0.76      0.58      0.66       194\n",
      "non_infringement       0.65      0.81      0.72       186\n",
      "\n",
      "        accuracy                           0.69       380\n",
      "       macro avg       0.71      0.70      0.69       380\n",
      "    weighted avg       0.71      0.69      0.69       380\n",
      "\n"
     ]
    },
    {
     "name": "stderr",
     "output_type": "stream",
     "text": [
      "Training Epochs:  13%|█▎        | 260/2000 [01:08<07:22,  3.93it/s]"
     ]
    },
    {
     "name": "stdout",
     "output_type": "stream",
     "text": [
      "Epoch 260/2000, Loss: 0.0491\n",
      "Test Accuracy at Epoch 260: 71.58%\n",
      "Test F1-score at Epoch 260: 0.7379\n",
      "Classification Report at Epoch 260:\n",
      "                  precision    recall  f1-score   support\n",
      "\n",
      "    infringement       0.78      0.62      0.69       194\n",
      "non_infringement       0.67      0.82      0.74       186\n",
      "\n",
      "        accuracy                           0.72       380\n",
      "       macro avg       0.73      0.72      0.71       380\n",
      "    weighted avg       0.73      0.72      0.71       380\n",
      "\n"
     ]
    },
    {
     "name": "stderr",
     "output_type": "stream",
     "text": [
      "Training Epochs:  14%|█▎        | 270/2000 [01:11<07:50,  3.68it/s]"
     ]
    },
    {
     "name": "stdout",
     "output_type": "stream",
     "text": [
      "Epoch 270/2000, Loss: 0.0409\n",
      "Test Accuracy at Epoch 270: 70.79%\n",
      "Test F1-score at Epoch 270: 0.7351\n",
      "Classification Report at Epoch 270:\n",
      "                  precision    recall  f1-score   support\n",
      "\n",
      "    infringement       0.78      0.59      0.67       194\n",
      "non_infringement       0.66      0.83      0.74       186\n",
      "\n",
      "        accuracy                           0.71       380\n",
      "       macro avg       0.72      0.71      0.70       380\n",
      "    weighted avg       0.72      0.71      0.70       380\n",
      "\n"
     ]
    },
    {
     "name": "stderr",
     "output_type": "stream",
     "text": [
      "Training Epochs:  14%|█▍        | 280/2000 [01:13<08:13,  3.48it/s]"
     ]
    },
    {
     "name": "stdout",
     "output_type": "stream",
     "text": [
      "Epoch 280/2000, Loss: 0.0347\n",
      "Test Accuracy at Epoch 280: 71.84%\n",
      "Test F1-score at Epoch 280: 0.7422\n",
      "Classification Report at Epoch 280:\n",
      "                  precision    recall  f1-score   support\n",
      "\n",
      "    infringement       0.79      0.61      0.69       194\n",
      "non_infringement       0.67      0.83      0.74       186\n",
      "\n",
      "        accuracy                           0.72       380\n",
      "       macro avg       0.73      0.72      0.72       380\n",
      "    weighted avg       0.73      0.72      0.72       380\n",
      "\n"
     ]
    },
    {
     "name": "stderr",
     "output_type": "stream",
     "text": [
      "Training Epochs:  14%|█▍        | 290/2000 [01:16<08:04,  3.53it/s]"
     ]
    },
    {
     "name": "stdout",
     "output_type": "stream",
     "text": [
      "Epoch 290/2000, Loss: 0.0301\n",
      "Test Accuracy at Epoch 290: 72.37%\n",
      "Test F1-score at Epoch 290: 0.7433\n",
      "Classification Report at Epoch 290:\n",
      "                  precision    recall  f1-score   support\n",
      "\n",
      "    infringement       0.78      0.63      0.70       194\n",
      "non_infringement       0.68      0.82      0.74       186\n",
      "\n",
      "        accuracy                           0.72       380\n",
      "       macro avg       0.73      0.73      0.72       380\n",
      "    weighted avg       0.73      0.72      0.72       380\n",
      "\n"
     ]
    },
    {
     "name": "stderr",
     "output_type": "stream",
     "text": [
      "Training Epochs:  15%|█▌        | 300/2000 [01:19<08:59,  3.15it/s]"
     ]
    },
    {
     "name": "stdout",
     "output_type": "stream",
     "text": [
      "Epoch 300/2000, Loss: 0.0304\n",
      "Test Accuracy at Epoch 300: 72.89%\n",
      "Test F1-score at Epoch 300: 0.7444\n",
      "Classification Report at Epoch 300:\n",
      "                  precision    recall  f1-score   support\n",
      "\n",
      "    infringement       0.78      0.65      0.71       194\n",
      "non_infringement       0.69      0.81      0.74       186\n",
      "\n",
      "        accuracy                           0.73       380\n",
      "       macro avg       0.74      0.73      0.73       380\n",
      "    weighted avg       0.74      0.73      0.73       380\n",
      "\n"
     ]
    },
    {
     "name": "stderr",
     "output_type": "stream",
     "text": [
      "Training Epochs:  16%|█▌        | 310/2000 [01:22<07:42,  3.66it/s]"
     ]
    },
    {
     "name": "stdout",
     "output_type": "stream",
     "text": [
      "Epoch 310/2000, Loss: 0.0260\n",
      "Test Accuracy at Epoch 310: 71.58%\n",
      "Test F1-score at Epoch 310: 0.7353\n",
      "Classification Report at Epoch 310:\n",
      "                  precision    recall  f1-score   support\n",
      "\n",
      "    infringement       0.77      0.63      0.69       194\n",
      "non_infringement       0.68      0.81      0.74       186\n",
      "\n",
      "        accuracy                           0.72       380\n",
      "       macro avg       0.72      0.72      0.71       380\n",
      "    weighted avg       0.72      0.72      0.71       380\n",
      "\n"
     ]
    },
    {
     "name": "stderr",
     "output_type": "stream",
     "text": [
      "Training Epochs:  16%|█▌        | 320/2000 [01:25<07:50,  3.57it/s]"
     ]
    },
    {
     "name": "stdout",
     "output_type": "stream",
     "text": [
      "Epoch 320/2000, Loss: 0.0231\n",
      "Test Accuracy at Epoch 320: 71.32%\n",
      "Test F1-score at Epoch 320: 0.7335\n",
      "Classification Report at Epoch 320:\n",
      "                  precision    recall  f1-score   support\n",
      "\n",
      "    infringement       0.77      0.62      0.69       194\n",
      "non_infringement       0.67      0.81      0.73       186\n",
      "\n",
      "        accuracy                           0.71       380\n",
      "       macro avg       0.72      0.72      0.71       380\n",
      "    weighted avg       0.72      0.71      0.71       380\n",
      "\n"
     ]
    },
    {
     "name": "stderr",
     "output_type": "stream",
     "text": [
      "Training Epochs:  16%|█▋        | 330/2000 [01:27<07:45,  3.59it/s]"
     ]
    },
    {
     "name": "stdout",
     "output_type": "stream",
     "text": [
      "Epoch 330/2000, Loss: 0.0206\n",
      "Test Accuracy at Epoch 330: 71.84%\n",
      "Test F1-score at Epoch 330: 0.7409\n",
      "Classification Report at Epoch 330:\n",
      "                  precision    recall  f1-score   support\n",
      "\n",
      "    infringement       0.78      0.62      0.69       194\n",
      "non_infringement       0.67      0.82      0.74       186\n",
      "\n",
      "        accuracy                           0.72       380\n",
      "       macro avg       0.73      0.72      0.72       380\n",
      "    weighted avg       0.73      0.72      0.72       380\n",
      "\n"
     ]
    },
    {
     "name": "stderr",
     "output_type": "stream",
     "text": [
      "Training Epochs:  17%|█▋        | 340/2000 [01:30<08:08,  3.40it/s]"
     ]
    },
    {
     "name": "stdout",
     "output_type": "stream",
     "text": [
      "Epoch 340/2000, Loss: 0.0185\n",
      "Test Accuracy at Epoch 340: 72.63%\n",
      "Test F1-score at Epoch 340: 0.7476\n",
      "Classification Report at Epoch 340:\n",
      "                  precision    recall  f1-score   support\n",
      "\n",
      "    infringement       0.79      0.63      0.70       194\n",
      "non_infringement       0.68      0.83      0.75       186\n",
      "\n",
      "        accuracy                           0.73       380\n",
      "       macro avg       0.74      0.73      0.72       380\n",
      "    weighted avg       0.74      0.73      0.72       380\n",
      "\n"
     ]
    },
    {
     "name": "stderr",
     "output_type": "stream",
     "text": [
      "Training Epochs:  18%|█▊        | 350/2000 [01:33<09:17,  2.96it/s]"
     ]
    },
    {
     "name": "stdout",
     "output_type": "stream",
     "text": [
      "Epoch 350/2000, Loss: 0.0175\n",
      "Test Accuracy at Epoch 350: 71.84%\n",
      "Test F1-score at Epoch 350: 0.7422\n",
      "Classification Report at Epoch 350:\n",
      "                  precision    recall  f1-score   support\n",
      "\n",
      "    infringement       0.79      0.61      0.69       194\n",
      "non_infringement       0.67      0.83      0.74       186\n",
      "\n",
      "        accuracy                           0.72       380\n",
      "       macro avg       0.73      0.72      0.72       380\n",
      "    weighted avg       0.73      0.72      0.72       380\n",
      "\n"
     ]
    },
    {
     "name": "stderr",
     "output_type": "stream",
     "text": [
      "Training Epochs:  18%|█▊        | 360/2000 [01:36<09:22,  2.92it/s]"
     ]
    },
    {
     "name": "stdout",
     "output_type": "stream",
     "text": [
      "Epoch 360/2000, Loss: 0.0162\n",
      "Test Accuracy at Epoch 360: 71.84%\n",
      "Test F1-score at Epoch 360: 0.7409\n",
      "Classification Report at Epoch 360:\n",
      "                  precision    recall  f1-score   support\n",
      "\n",
      "    infringement       0.78      0.62      0.69       194\n",
      "non_infringement       0.67      0.82      0.74       186\n",
      "\n",
      "        accuracy                           0.72       380\n",
      "       macro avg       0.73      0.72      0.72       380\n",
      "    weighted avg       0.73      0.72      0.72       380\n",
      "\n"
     ]
    },
    {
     "name": "stderr",
     "output_type": "stream",
     "text": [
      "Training Epochs:  18%|█▊        | 370/2000 [01:39<08:16,  3.28it/s]"
     ]
    },
    {
     "name": "stdout",
     "output_type": "stream",
     "text": [
      "Epoch 370/2000, Loss: 0.0163\n",
      "Test Accuracy at Epoch 370: 72.89%\n",
      "Test F1-score at Epoch 370: 0.7482\n",
      "Classification Report at Epoch 370:\n",
      "                  precision    recall  f1-score   support\n",
      "\n",
      "    infringement       0.79      0.64      0.71       194\n",
      "non_infringement       0.69      0.82      0.75       186\n",
      "\n",
      "        accuracy                           0.73       380\n",
      "       macro avg       0.74      0.73      0.73       380\n",
      "    weighted avg       0.74      0.73      0.73       380\n",
      "\n"
     ]
    },
    {
     "name": "stderr",
     "output_type": "stream",
     "text": [
      "Training Epochs:  19%|█▉        | 380/2000 [01:42<09:33,  2.83it/s]"
     ]
    },
    {
     "name": "stdout",
     "output_type": "stream",
     "text": [
      "Epoch 380/2000, Loss: 0.0137\n",
      "Test Accuracy at Epoch 380: 72.89%\n",
      "Test F1-score at Epoch 380: 0.7469\n",
      "Classification Report at Epoch 380:\n",
      "                  precision    recall  f1-score   support\n",
      "\n",
      "    infringement       0.79      0.64      0.71       194\n",
      "non_infringement       0.69      0.82      0.75       186\n",
      "\n",
      "        accuracy                           0.73       380\n",
      "       macro avg       0.74      0.73      0.73       380\n",
      "    weighted avg       0.74      0.73      0.73       380\n",
      "\n"
     ]
    },
    {
     "name": "stderr",
     "output_type": "stream",
     "text": [
      "Training Epochs:  20%|█▉        | 390/2000 [01:45<08:16,  3.24it/s]"
     ]
    },
    {
     "name": "stdout",
     "output_type": "stream",
     "text": [
      "Epoch 390/2000, Loss: 0.0140\n",
      "Test Accuracy at Epoch 390: 72.89%\n",
      "Test F1-score at Epoch 390: 0.7469\n",
      "Classification Report at Epoch 390:\n",
      "                  precision    recall  f1-score   support\n",
      "\n",
      "    infringement       0.79      0.64      0.71       194\n",
      "non_infringement       0.69      0.82      0.75       186\n",
      "\n",
      "        accuracy                           0.73       380\n",
      "       macro avg       0.74      0.73      0.73       380\n",
      "    weighted avg       0.74      0.73      0.73       380\n",
      "\n"
     ]
    },
    {
     "name": "stderr",
     "output_type": "stream",
     "text": [
      "Training Epochs:  20%|██        | 400/2000 [01:48<07:30,  3.55it/s]"
     ]
    },
    {
     "name": "stdout",
     "output_type": "stream",
     "text": [
      "Epoch 400/2000, Loss: 0.0137\n",
      "Test Accuracy at Epoch 400: 72.63%\n",
      "Test F1-score at Epoch 400: 0.7451\n",
      "Classification Report at Epoch 400:\n",
      "                  precision    recall  f1-score   support\n",
      "\n",
      "    infringement       0.78      0.64      0.70       194\n",
      "non_infringement       0.68      0.82      0.75       186\n",
      "\n",
      "        accuracy                           0.73       380\n",
      "       macro avg       0.73      0.73      0.72       380\n",
      "    weighted avg       0.74      0.73      0.72       380\n",
      "\n"
     ]
    },
    {
     "name": "stderr",
     "output_type": "stream",
     "text": [
      "Training Epochs:  20%|██        | 410/2000 [01:50<07:07,  3.72it/s]"
     ]
    },
    {
     "name": "stdout",
     "output_type": "stream",
     "text": [
      "Epoch 410/2000, Loss: 0.0113\n",
      "Test Accuracy at Epoch 410: 72.37%\n",
      "Test F1-score at Epoch 410: 0.7445\n",
      "Classification Report at Epoch 410:\n",
      "                  precision    recall  f1-score   support\n",
      "\n",
      "    infringement       0.79      0.63      0.70       194\n",
      "non_infringement       0.68      0.82      0.74       186\n",
      "\n",
      "        accuracy                           0.72       380\n",
      "       macro avg       0.73      0.73      0.72       380\n",
      "    weighted avg       0.73      0.72      0.72       380\n",
      "\n"
     ]
    },
    {
     "name": "stderr",
     "output_type": "stream",
     "text": [
      "Training Epochs:  21%|██        | 420/2000 [01:53<06:56,  3.79it/s]"
     ]
    },
    {
     "name": "stdout",
     "output_type": "stream",
     "text": [
      "Epoch 420/2000, Loss: 0.0108\n",
      "Test Accuracy at Epoch 420: 72.37%\n",
      "Test F1-score at Epoch 420: 0.7445\n",
      "Classification Report at Epoch 420:\n",
      "                  precision    recall  f1-score   support\n",
      "\n",
      "    infringement       0.79      0.63      0.70       194\n",
      "non_infringement       0.68      0.82      0.74       186\n",
      "\n",
      "        accuracy                           0.72       380\n",
      "       macro avg       0.73      0.73      0.72       380\n",
      "    weighted avg       0.73      0.72      0.72       380\n",
      "\n"
     ]
    },
    {
     "name": "stderr",
     "output_type": "stream",
     "text": [
      "Training Epochs:  22%|██▏       | 430/2000 [01:56<06:52,  3.80it/s]"
     ]
    },
    {
     "name": "stdout",
     "output_type": "stream",
     "text": [
      "Epoch 430/2000, Loss: 0.0103\n",
      "Test Accuracy at Epoch 430: 73.42%\n",
      "Test F1-score at Epoch 430: 0.7518\n",
      "Classification Report at Epoch 430:\n",
      "                  precision    recall  f1-score   support\n",
      "\n",
      "    infringement       0.79      0.65      0.71       194\n",
      "non_infringement       0.69      0.82      0.75       186\n",
      "\n",
      "        accuracy                           0.73       380\n",
      "       macro avg       0.74      0.74      0.73       380\n",
      "    weighted avg       0.74      0.73      0.73       380\n",
      "\n"
     ]
    },
    {
     "name": "stderr",
     "output_type": "stream",
     "text": [
      "Training Epochs:  22%|██▏       | 440/2000 [01:58<06:53,  3.78it/s]"
     ]
    },
    {
     "name": "stdout",
     "output_type": "stream",
     "text": [
      "Epoch 440/2000, Loss: 0.0099\n",
      "Test Accuracy at Epoch 440: 73.68%\n",
      "Test F1-score at Epoch 440: 0.7537\n",
      "Classification Report at Epoch 440:\n",
      "                  precision    recall  f1-score   support\n",
      "\n",
      "    infringement       0.79      0.65      0.72       194\n",
      "non_infringement       0.70      0.82      0.75       186\n",
      "\n",
      "        accuracy                           0.74       380\n",
      "       macro avg       0.74      0.74      0.74       380\n",
      "    weighted avg       0.75      0.74      0.74       380\n",
      "\n"
     ]
    },
    {
     "name": "stderr",
     "output_type": "stream",
     "text": [
      "Training Epochs:  22%|██▎       | 450/2000 [02:00<06:39,  3.88it/s]"
     ]
    },
    {
     "name": "stdout",
     "output_type": "stream",
     "text": [
      "Epoch 450/2000, Loss: 0.0288\n",
      "Test Accuracy at Epoch 450: 75.00%\n",
      "Test F1-score at Epoch 450: 0.7558\n",
      "Classification Report at Epoch 450:\n",
      "                  precision    recall  f1-score   support\n",
      "\n",
      "    infringement       0.78      0.71      0.74       194\n",
      "non_infringement       0.72      0.79      0.76       186\n",
      "\n",
      "        accuracy                           0.75       380\n",
      "       macro avg       0.75      0.75      0.75       380\n",
      "    weighted avg       0.75      0.75      0.75       380\n",
      "\n"
     ]
    },
    {
     "name": "stderr",
     "output_type": "stream",
     "text": [
      "Training Epochs:  23%|██▎       | 460/2000 [02:03<07:34,  3.39it/s]"
     ]
    },
    {
     "name": "stdout",
     "output_type": "stream",
     "text": [
      "Epoch 460/2000, Loss: 0.1426\n",
      "Test Accuracy at Epoch 460: 68.95%\n",
      "Test F1-score at Epoch 460: 0.7269\n",
      "Classification Report at Epoch 460:\n",
      "                  precision    recall  f1-score   support\n",
      "\n",
      "    infringement       0.78      0.54      0.64       194\n",
      "non_infringement       0.64      0.84      0.73       186\n",
      "\n",
      "        accuracy                           0.69       380\n",
      "       macro avg       0.71      0.69      0.68       380\n",
      "    weighted avg       0.71      0.69      0.68       380\n",
      "\n"
     ]
    },
    {
     "name": "stderr",
     "output_type": "stream",
     "text": [
      "Training Epochs:  24%|██▎       | 470/2000 [02:06<06:45,  3.77it/s]"
     ]
    },
    {
     "name": "stdout",
     "output_type": "stream",
     "text": [
      "Epoch 470/2000, Loss: 0.0668\n",
      "Test Accuracy at Epoch 470: 70.79%\n",
      "Test F1-score at Epoch 470: 0.7388\n",
      "Classification Report at Epoch 470:\n",
      "                  precision    recall  f1-score   support\n",
      "\n",
      "    infringement       0.79      0.58      0.67       194\n",
      "non_infringement       0.66      0.84      0.74       186\n",
      "\n",
      "        accuracy                           0.71       380\n",
      "       macro avg       0.73      0.71      0.70       380\n",
      "    weighted avg       0.73      0.71      0.70       380\n",
      "\n"
     ]
    },
    {
     "name": "stderr",
     "output_type": "stream",
     "text": [
      "Training Epochs:  24%|██▍       | 480/2000 [02:09<07:15,  3.49it/s]"
     ]
    },
    {
     "name": "stdout",
     "output_type": "stream",
     "text": [
      "Epoch 480/2000, Loss: 0.0432\n",
      "Test Accuracy at Epoch 480: 69.47%\n",
      "Test F1-score at Epoch 480: 0.7251\n",
      "Classification Report at Epoch 480:\n",
      "                  precision    recall  f1-score   support\n",
      "\n",
      "    infringement       0.77      0.57      0.66       194\n",
      "non_infringement       0.65      0.82      0.73       186\n",
      "\n",
      "        accuracy                           0.69       380\n",
      "       macro avg       0.71      0.70      0.69       380\n",
      "    weighted avg       0.71      0.69      0.69       380\n",
      "\n"
     ]
    },
    {
     "name": "stderr",
     "output_type": "stream",
     "text": [
      "Training Epochs:  24%|██▍       | 490/2000 [02:11<06:41,  3.76it/s]"
     ]
    },
    {
     "name": "stdout",
     "output_type": "stream",
     "text": [
      "Epoch 490/2000, Loss: 0.0319\n",
      "Test Accuracy at Epoch 490: 70.00%\n",
      "Test F1-score at Epoch 490: 0.7286\n",
      "Classification Report at Epoch 490:\n",
      "                  precision    recall  f1-score   support\n",
      "\n",
      "    infringement       0.77      0.58      0.66       194\n",
      "non_infringement       0.65      0.82      0.73       186\n",
      "\n",
      "        accuracy                           0.70       380\n",
      "       macro avg       0.71      0.70      0.70       380\n",
      "    weighted avg       0.72      0.70      0.70       380\n",
      "\n"
     ]
    },
    {
     "name": "stderr",
     "output_type": "stream",
     "text": [
      "Training Epochs:  25%|██▌       | 500/2000 [02:14<06:41,  3.73it/s]"
     ]
    },
    {
     "name": "stdout",
     "output_type": "stream",
     "text": [
      "Epoch 500/2000, Loss: 0.0266\n",
      "Test Accuracy at Epoch 500: 71.05%\n",
      "Test F1-score at Epoch 500: 0.7356\n",
      "Classification Report at Epoch 500:\n",
      "                  precision    recall  f1-score   support\n",
      "\n",
      "    infringement       0.78      0.60      0.68       194\n",
      "non_infringement       0.67      0.82      0.74       186\n",
      "\n",
      "        accuracy                           0.71       380\n",
      "       macro avg       0.72      0.71      0.71       380\n",
      "    weighted avg       0.72      0.71      0.71       380\n",
      "\n"
     ]
    },
    {
     "name": "stderr",
     "output_type": "stream",
     "text": [
      "Training Epochs:  26%|██▌       | 510/2000 [02:16<06:44,  3.68it/s]"
     ]
    },
    {
     "name": "stdout",
     "output_type": "stream",
     "text": [
      "Epoch 510/2000, Loss: 0.0236\n",
      "Test Accuracy at Epoch 510: 70.79%\n",
      "Test F1-score at Epoch 510: 0.7351\n",
      "Classification Report at Epoch 510:\n",
      "                  precision    recall  f1-score   support\n",
      "\n",
      "    infringement       0.78      0.59      0.67       194\n",
      "non_infringement       0.66      0.83      0.74       186\n",
      "\n",
      "        accuracy                           0.71       380\n",
      "       macro avg       0.72      0.71      0.70       380\n",
      "    weighted avg       0.72      0.71      0.70       380\n",
      "\n"
     ]
    },
    {
     "name": "stderr",
     "output_type": "stream",
     "text": [
      "Training Epochs:  26%|██▌       | 520/2000 [02:19<07:07,  3.46it/s]"
     ]
    },
    {
     "name": "stdout",
     "output_type": "stream",
     "text": [
      "Epoch 520/2000, Loss: 0.0215\n",
      "Test Accuracy at Epoch 520: 70.79%\n",
      "Test F1-score at Epoch 520: 0.7351\n",
      "Classification Report at Epoch 520:\n",
      "                  precision    recall  f1-score   support\n",
      "\n",
      "    infringement       0.78      0.59      0.67       194\n",
      "non_infringement       0.66      0.83      0.74       186\n",
      "\n",
      "        accuracy                           0.71       380\n",
      "       macro avg       0.72      0.71      0.70       380\n",
      "    weighted avg       0.72      0.71      0.70       380\n",
      "\n"
     ]
    },
    {
     "name": "stderr",
     "output_type": "stream",
     "text": [
      "Training Epochs:  26%|██▋       | 530/2000 [02:22<06:40,  3.67it/s]"
     ]
    },
    {
     "name": "stdout",
     "output_type": "stream",
     "text": [
      "Epoch 530/2000, Loss: 0.0197\n",
      "Test Accuracy at Epoch 530: 71.05%\n",
      "Test F1-score at Epoch 530: 0.7381\n",
      "Classification Report at Epoch 530:\n",
      "                  precision    recall  f1-score   support\n",
      "\n",
      "    infringement       0.79      0.59      0.68       194\n",
      "non_infringement       0.66      0.83      0.74       186\n",
      "\n",
      "        accuracy                           0.71       380\n",
      "       macro avg       0.73      0.71      0.71       380\n",
      "    weighted avg       0.73      0.71      0.71       380\n",
      "\n"
     ]
    },
    {
     "name": "stderr",
     "output_type": "stream",
     "text": [
      "Training Epochs:  27%|██▋       | 540/2000 [02:24<07:22,  3.30it/s]"
     ]
    },
    {
     "name": "stdout",
     "output_type": "stream",
     "text": [
      "Epoch 540/2000, Loss: 0.0181\n",
      "Test Accuracy at Epoch 540: 71.05%\n",
      "Test F1-score at Epoch 540: 0.7381\n",
      "Classification Report at Epoch 540:\n",
      "                  precision    recall  f1-score   support\n",
      "\n",
      "    infringement       0.79      0.59      0.68       194\n",
      "non_infringement       0.66      0.83      0.74       186\n",
      "\n",
      "        accuracy                           0.71       380\n",
      "       macro avg       0.73      0.71      0.71       380\n",
      "    weighted avg       0.73      0.71      0.71       380\n",
      "\n"
     ]
    },
    {
     "name": "stderr",
     "output_type": "stream",
     "text": [
      "Training Epochs:  28%|██▊       | 550/2000 [02:27<07:19,  3.30it/s]"
     ]
    },
    {
     "name": "stdout",
     "output_type": "stream",
     "text": [
      "Epoch 550/2000, Loss: 0.0170\n",
      "Test Accuracy at Epoch 550: 71.05%\n",
      "Test F1-score at Epoch 550: 0.7381\n",
      "Classification Report at Epoch 550:\n",
      "                  precision    recall  f1-score   support\n",
      "\n",
      "    infringement       0.79      0.59      0.68       194\n",
      "non_infringement       0.66      0.83      0.74       186\n",
      "\n",
      "        accuracy                           0.71       380\n",
      "       macro avg       0.73      0.71      0.71       380\n",
      "    weighted avg       0.73      0.71      0.71       380\n",
      "\n"
     ]
    },
    {
     "name": "stderr",
     "output_type": "stream",
     "text": [
      "Training Epochs:  28%|██▊       | 560/2000 [02:30<06:53,  3.48it/s]"
     ]
    },
    {
     "name": "stdout",
     "output_type": "stream",
     "text": [
      "Epoch 560/2000, Loss: 0.0160\n",
      "Test Accuracy at Epoch 560: 71.05%\n",
      "Test F1-score at Epoch 560: 0.7381\n",
      "Classification Report at Epoch 560:\n",
      "                  precision    recall  f1-score   support\n",
      "\n",
      "    infringement       0.79      0.59      0.68       194\n",
      "non_infringement       0.66      0.83      0.74       186\n",
      "\n",
      "        accuracy                           0.71       380\n",
      "       macro avg       0.73      0.71      0.71       380\n",
      "    weighted avg       0.73      0.71      0.71       380\n",
      "\n"
     ]
    },
    {
     "name": "stderr",
     "output_type": "stream",
     "text": [
      "Training Epochs:  28%|██▊       | 570/2000 [02:32<06:46,  3.52it/s]"
     ]
    },
    {
     "name": "stdout",
     "output_type": "stream",
     "text": [
      "Epoch 570/2000, Loss: 0.0153\n",
      "Test Accuracy at Epoch 570: 71.05%\n",
      "Test F1-score at Epoch 570: 0.7381\n",
      "Classification Report at Epoch 570:\n",
      "                  precision    recall  f1-score   support\n",
      "\n",
      "    infringement       0.79      0.59      0.68       194\n",
      "non_infringement       0.66      0.83      0.74       186\n",
      "\n",
      "        accuracy                           0.71       380\n",
      "       macro avg       0.73      0.71      0.71       380\n",
      "    weighted avg       0.73      0.71      0.71       380\n",
      "\n"
     ]
    },
    {
     "name": "stderr",
     "output_type": "stream",
     "text": [
      "Training Epochs:  29%|██▉       | 580/2000 [02:35<06:31,  3.63it/s]"
     ]
    },
    {
     "name": "stdout",
     "output_type": "stream",
     "text": [
      "Epoch 580/2000, Loss: 0.0146\n",
      "Test Accuracy at Epoch 580: 71.05%\n",
      "Test F1-score at Epoch 580: 0.7381\n",
      "Classification Report at Epoch 580:\n",
      "                  precision    recall  f1-score   support\n",
      "\n",
      "    infringement       0.79      0.59      0.68       194\n",
      "non_infringement       0.66      0.83      0.74       186\n",
      "\n",
      "        accuracy                           0.71       380\n",
      "       macro avg       0.73      0.71      0.71       380\n",
      "    weighted avg       0.73      0.71      0.71       380\n",
      "\n"
     ]
    },
    {
     "name": "stderr",
     "output_type": "stream",
     "text": [
      "Training Epochs:  30%|██▉       | 590/2000 [02:38<06:36,  3.55it/s]"
     ]
    },
    {
     "name": "stdout",
     "output_type": "stream",
     "text": [
      "Epoch 590/2000, Loss: 0.0140\n",
      "Test Accuracy at Epoch 590: 71.58%\n",
      "Test F1-score at Epoch 590: 0.7416\n",
      "Classification Report at Epoch 590:\n",
      "                  precision    recall  f1-score   support\n",
      "\n",
      "    infringement       0.79      0.60      0.68       194\n",
      "non_infringement       0.67      0.83      0.74       186\n",
      "\n",
      "        accuracy                           0.72       380\n",
      "       macro avg       0.73      0.72      0.71       380\n",
      "    weighted avg       0.73      0.72      0.71       380\n",
      "\n"
     ]
    },
    {
     "name": "stderr",
     "output_type": "stream",
     "text": [
      "Training Epochs:  30%|███       | 600/2000 [02:40<05:50,  4.00it/s]"
     ]
    },
    {
     "name": "stdout",
     "output_type": "stream",
     "text": [
      "Epoch 600/2000, Loss: 0.0135\n",
      "Test Accuracy at Epoch 600: 71.32%\n",
      "Test F1-score at Epoch 600: 0.7399\n",
      "Classification Report at Epoch 600:\n",
      "                  precision    recall  f1-score   support\n",
      "\n",
      "    infringement       0.79      0.60      0.68       194\n",
      "non_infringement       0.67      0.83      0.74       186\n",
      "\n",
      "        accuracy                           0.71       380\n",
      "       macro avg       0.73      0.72      0.71       380\n",
      "    weighted avg       0.73      0.71      0.71       380\n",
      "\n"
     ]
    },
    {
     "name": "stderr",
     "output_type": "stream",
     "text": [
      "Training Epochs:  30%|███       | 610/2000 [02:42<05:30,  4.21it/s]"
     ]
    },
    {
     "name": "stdout",
     "output_type": "stream",
     "text": [
      "Epoch 610/2000, Loss: 0.0131\n",
      "Test Accuracy at Epoch 610: 70.79%\n",
      "Test F1-score at Epoch 610: 0.7376\n",
      "Classification Report at Epoch 610:\n",
      "                  precision    recall  f1-score   support\n",
      "\n",
      "    infringement       0.79      0.58      0.67       194\n",
      "non_infringement       0.66      0.84      0.74       186\n",
      "\n",
      "        accuracy                           0.71       380\n",
      "       macro avg       0.72      0.71      0.70       380\n",
      "    weighted avg       0.73      0.71      0.70       380\n",
      "\n"
     ]
    },
    {
     "name": "stderr",
     "output_type": "stream",
     "text": [
      "Training Epochs:  31%|███       | 620/2000 [02:45<05:13,  4.40it/s]"
     ]
    },
    {
     "name": "stdout",
     "output_type": "stream",
     "text": [
      "Epoch 620/2000, Loss: 0.0129\n",
      "Test Accuracy at Epoch 620: 71.58%\n",
      "Test F1-score at Epoch 620: 0.7416\n",
      "Classification Report at Epoch 620:\n",
      "                  precision    recall  f1-score   support\n",
      "\n",
      "    infringement       0.79      0.60      0.68       194\n",
      "non_infringement       0.67      0.83      0.74       186\n",
      "\n",
      "        accuracy                           0.72       380\n",
      "       macro avg       0.73      0.72      0.71       380\n",
      "    weighted avg       0.73      0.72      0.71       380\n",
      "\n"
     ]
    },
    {
     "name": "stderr",
     "output_type": "stream",
     "text": [
      "Training Epochs:  32%|███▏      | 630/2000 [02:47<06:33,  3.48it/s]"
     ]
    },
    {
     "name": "stdout",
     "output_type": "stream",
     "text": [
      "Epoch 630/2000, Loss: 0.0124\n",
      "Test Accuracy at Epoch 630: 72.37%\n",
      "Test F1-score at Epoch 630: 0.7470\n",
      "Classification Report at Epoch 630:\n",
      "                  precision    recall  f1-score   support\n",
      "\n",
      "    infringement       0.79      0.62      0.70       194\n",
      "non_infringement       0.68      0.83      0.75       186\n",
      "\n",
      "        accuracy                           0.72       380\n",
      "       macro avg       0.74      0.73      0.72       380\n",
      "    weighted avg       0.74      0.72      0.72       380\n",
      "\n"
     ]
    },
    {
     "name": "stderr",
     "output_type": "stream",
     "text": [
      "Training Epochs:  32%|███▏      | 640/2000 [02:50<06:02,  3.75it/s]"
     ]
    },
    {
     "name": "stdout",
     "output_type": "stream",
     "text": [
      "Epoch 640/2000, Loss: 0.0120\n",
      "Test Accuracy at Epoch 640: 71.32%\n",
      "Test F1-score at Epoch 640: 0.7399\n",
      "Classification Report at Epoch 640:\n",
      "                  precision    recall  f1-score   support\n",
      "\n",
      "    infringement       0.79      0.60      0.68       194\n",
      "non_infringement       0.67      0.83      0.74       186\n",
      "\n",
      "        accuracy                           0.71       380\n",
      "       macro avg       0.73      0.72      0.71       380\n",
      "    weighted avg       0.73      0.71      0.71       380\n",
      "\n"
     ]
    },
    {
     "name": "stderr",
     "output_type": "stream",
     "text": [
      "Training Epochs:  32%|███▎      | 650/2000 [02:52<05:37,  4.01it/s]"
     ]
    },
    {
     "name": "stdout",
     "output_type": "stream",
     "text": [
      "Epoch 650/2000, Loss: 0.0116\n",
      "Test Accuracy at Epoch 650: 72.11%\n",
      "Test F1-score at Epoch 650: 0.7452\n",
      "Classification Report at Epoch 650:\n",
      "                  precision    recall  f1-score   support\n",
      "\n",
      "    infringement       0.79      0.61      0.69       194\n",
      "non_infringement       0.67      0.83      0.75       186\n",
      "\n",
      "        accuracy                           0.72       380\n",
      "       macro avg       0.73      0.72      0.72       380\n",
      "    weighted avg       0.73      0.72      0.72       380\n",
      "\n"
     ]
    },
    {
     "name": "stderr",
     "output_type": "stream",
     "text": [
      "Training Epochs:  33%|███▎      | 660/2000 [02:55<05:39,  3.94it/s]"
     ]
    },
    {
     "name": "stdout",
     "output_type": "stream",
     "text": [
      "Epoch 660/2000, Loss: 0.0132\n",
      "Test Accuracy at Epoch 660: 71.58%\n",
      "Test F1-score at Epoch 660: 0.7429\n",
      "Classification Report at Epoch 660:\n",
      "                  precision    recall  f1-score   support\n",
      "\n",
      "    infringement       0.79      0.60      0.68       194\n",
      "non_infringement       0.67      0.84      0.74       186\n",
      "\n",
      "        accuracy                           0.72       380\n",
      "       macro avg       0.73      0.72      0.71       380\n",
      "    weighted avg       0.73      0.72      0.71       380\n",
      "\n"
     ]
    },
    {
     "name": "stderr",
     "output_type": "stream",
     "text": [
      "Training Epochs:  34%|███▎      | 670/2000 [02:57<05:20,  4.15it/s]"
     ]
    },
    {
     "name": "stdout",
     "output_type": "stream",
     "text": [
      "Epoch 670/2000, Loss: 0.0123\n",
      "Test Accuracy at Epoch 670: 72.63%\n",
      "Test F1-score at Epoch 670: 0.7500\n",
      "Classification Report at Epoch 670:\n",
      "                  precision    recall  f1-score   support\n",
      "\n",
      "    infringement       0.80      0.62      0.70       194\n",
      "non_infringement       0.68      0.84      0.75       186\n",
      "\n",
      "        accuracy                           0.73       380\n",
      "       macro avg       0.74      0.73      0.72       380\n",
      "    weighted avg       0.74      0.73      0.72       380\n",
      "\n"
     ]
    },
    {
     "name": "stderr",
     "output_type": "stream",
     "text": [
      "Training Epochs:  34%|███▍      | 680/2000 [02:59<05:15,  4.18it/s]"
     ]
    },
    {
     "name": "stdout",
     "output_type": "stream",
     "text": [
      "Epoch 680/2000, Loss: 0.0111\n",
      "Test Accuracy at Epoch 680: 71.58%\n",
      "Test F1-score at Epoch 680: 0.7429\n",
      "Classification Report at Epoch 680:\n",
      "                  precision    recall  f1-score   support\n",
      "\n",
      "    infringement       0.79      0.60      0.68       194\n",
      "non_infringement       0.67      0.84      0.74       186\n",
      "\n",
      "        accuracy                           0.72       380\n",
      "       macro avg       0.73      0.72      0.71       380\n",
      "    weighted avg       0.73      0.72      0.71       380\n",
      "\n"
     ]
    },
    {
     "name": "stderr",
     "output_type": "stream",
     "text": [
      "Training Epochs:  34%|███▍      | 690/2000 [03:02<05:36,  3.90it/s]"
     ]
    },
    {
     "name": "stdout",
     "output_type": "stream",
     "text": [
      "Epoch 690/2000, Loss: 0.0107\n",
      "Test Accuracy at Epoch 690: 72.37%\n",
      "Test F1-score at Epoch 690: 0.7482\n",
      "Classification Report at Epoch 690:\n",
      "                  precision    recall  f1-score   support\n",
      "\n",
      "    infringement       0.80      0.61      0.69       194\n",
      "non_infringement       0.68      0.84      0.75       186\n",
      "\n",
      "        accuracy                           0.72       380\n",
      "       macro avg       0.74      0.73      0.72       380\n",
      "    weighted avg       0.74      0.72      0.72       380\n",
      "\n"
     ]
    },
    {
     "name": "stderr",
     "output_type": "stream",
     "text": [
      "Training Epochs:  35%|███▌      | 700/2000 [03:04<05:35,  3.88it/s]"
     ]
    },
    {
     "name": "stdout",
     "output_type": "stream",
     "text": [
      "Epoch 700/2000, Loss: 0.0110\n",
      "Test Accuracy at Epoch 700: 71.58%\n",
      "Test F1-score at Epoch 700: 0.7429\n",
      "Classification Report at Epoch 700:\n",
      "                  precision    recall  f1-score   support\n",
      "\n",
      "    infringement       0.79      0.60      0.68       194\n",
      "non_infringement       0.67      0.84      0.74       186\n",
      "\n",
      "        accuracy                           0.72       380\n",
      "       macro avg       0.73      0.72      0.71       380\n",
      "    weighted avg       0.73      0.72      0.71       380\n",
      "\n"
     ]
    },
    {
     "name": "stderr",
     "output_type": "stream",
     "text": [
      "Training Epochs:  36%|███▌      | 710/2000 [03:06<05:24,  3.98it/s]"
     ]
    },
    {
     "name": "stdout",
     "output_type": "stream",
     "text": [
      "Epoch 710/2000, Loss: 0.0101\n",
      "Test Accuracy at Epoch 710: 72.11%\n",
      "Test F1-score at Epoch 710: 0.7464\n",
      "Classification Report at Epoch 710:\n",
      "                  precision    recall  f1-score   support\n",
      "\n",
      "    infringement       0.80      0.61      0.69       194\n",
      "non_infringement       0.67      0.84      0.75       186\n",
      "\n",
      "        accuracy                           0.72       380\n",
      "       macro avg       0.73      0.72      0.72       380\n",
      "    weighted avg       0.74      0.72      0.72       380\n",
      "\n"
     ]
    },
    {
     "name": "stderr",
     "output_type": "stream",
     "text": [
      "Training Epochs:  36%|███▌      | 720/2000 [03:09<05:40,  3.76it/s]"
     ]
    },
    {
     "name": "stdout",
     "output_type": "stream",
     "text": [
      "Epoch 720/2000, Loss: 0.0098\n",
      "Test Accuracy at Epoch 720: 71.58%\n",
      "Test F1-score at Epoch 720: 0.7429\n",
      "Classification Report at Epoch 720:\n",
      "                  precision    recall  f1-score   support\n",
      "\n",
      "    infringement       0.79      0.60      0.68       194\n",
      "non_infringement       0.67      0.84      0.74       186\n",
      "\n",
      "        accuracy                           0.72       380\n",
      "       macro avg       0.73      0.72      0.71       380\n",
      "    weighted avg       0.73      0.72      0.71       380\n",
      "\n"
     ]
    },
    {
     "name": "stderr",
     "output_type": "stream",
     "text": [
      "Training Epochs:  36%|███▋      | 730/2000 [03:11<05:04,  4.17it/s]"
     ]
    },
    {
     "name": "stdout",
     "output_type": "stream",
     "text": [
      "Epoch 730/2000, Loss: 0.0105\n",
      "Test Accuracy at Epoch 730: 71.58%\n",
      "Test F1-score at Epoch 730: 0.7429\n",
      "Classification Report at Epoch 730:\n",
      "                  precision    recall  f1-score   support\n",
      "\n",
      "    infringement       0.79      0.60      0.68       194\n",
      "non_infringement       0.67      0.84      0.74       186\n",
      "\n",
      "        accuracy                           0.72       380\n",
      "       macro avg       0.73      0.72      0.71       380\n",
      "    weighted avg       0.73      0.72      0.71       380\n",
      "\n"
     ]
    },
    {
     "name": "stderr",
     "output_type": "stream",
     "text": [
      "Training Epochs:  37%|███▋      | 740/2000 [03:14<05:13,  4.01it/s]"
     ]
    },
    {
     "name": "stdout",
     "output_type": "stream",
     "text": [
      "Epoch 740/2000, Loss: 0.0101\n",
      "Test Accuracy at Epoch 740: 72.37%\n",
      "Test F1-score at Epoch 740: 0.7482\n",
      "Classification Report at Epoch 740:\n",
      "                  precision    recall  f1-score   support\n",
      "\n",
      "    infringement       0.80      0.61      0.69       194\n",
      "non_infringement       0.68      0.84      0.75       186\n",
      "\n",
      "        accuracy                           0.72       380\n",
      "       macro avg       0.74      0.73      0.72       380\n",
      "    weighted avg       0.74      0.72      0.72       380\n",
      "\n"
     ]
    },
    {
     "name": "stderr",
     "output_type": "stream",
     "text": [
      "Training Epochs:  38%|███▊      | 750/2000 [03:16<05:21,  3.88it/s]"
     ]
    },
    {
     "name": "stdout",
     "output_type": "stream",
     "text": [
      "Epoch 750/2000, Loss: 0.0092\n",
      "Test Accuracy at Epoch 750: 71.84%\n",
      "Test F1-score at Epoch 750: 0.7446\n",
      "Classification Report at Epoch 750:\n",
      "                  precision    recall  f1-score   support\n",
      "\n",
      "    infringement       0.80      0.60      0.69       194\n",
      "non_infringement       0.67      0.84      0.74       186\n",
      "\n",
      "        accuracy                           0.72       380\n",
      "       macro avg       0.73      0.72      0.72       380\n",
      "    weighted avg       0.73      0.72      0.71       380\n",
      "\n"
     ]
    },
    {
     "name": "stderr",
     "output_type": "stream",
     "text": [
      "Training Epochs:  38%|███▊      | 760/2000 [03:18<04:40,  4.43it/s]"
     ]
    },
    {
     "name": "stdout",
     "output_type": "stream",
     "text": [
      "Epoch 760/2000, Loss: 0.0089\n",
      "Test Accuracy at Epoch 760: 72.37%\n",
      "Test F1-score at Epoch 760: 0.7482\n",
      "Classification Report at Epoch 760:\n",
      "                  precision    recall  f1-score   support\n",
      "\n",
      "    infringement       0.80      0.61      0.69       194\n",
      "non_infringement       0.68      0.84      0.75       186\n",
      "\n",
      "        accuracy                           0.72       380\n",
      "       macro avg       0.74      0.73      0.72       380\n",
      "    weighted avg       0.74      0.72      0.72       380\n",
      "\n"
     ]
    },
    {
     "name": "stderr",
     "output_type": "stream",
     "text": [
      "Training Epochs:  38%|███▊      | 770/2000 [03:20<04:47,  4.28it/s]"
     ]
    },
    {
     "name": "stdout",
     "output_type": "stream",
     "text": [
      "Epoch 770/2000, Loss: 0.0087\n",
      "Test Accuracy at Epoch 770: 72.11%\n",
      "Test F1-score at Epoch 770: 0.7464\n",
      "Classification Report at Epoch 770:\n",
      "                  precision    recall  f1-score   support\n",
      "\n",
      "    infringement       0.80      0.61      0.69       194\n",
      "non_infringement       0.67      0.84      0.75       186\n",
      "\n",
      "        accuracy                           0.72       380\n",
      "       macro avg       0.73      0.72      0.72       380\n",
      "    weighted avg       0.74      0.72      0.72       380\n",
      "\n"
     ]
    },
    {
     "name": "stderr",
     "output_type": "stream",
     "text": [
      "Training Epochs:  39%|███▉      | 780/2000 [03:23<04:50,  4.19it/s]"
     ]
    },
    {
     "name": "stdout",
     "output_type": "stream",
     "text": [
      "Epoch 780/2000, Loss: 0.0085\n",
      "Test Accuracy at Epoch 780: 71.84%\n",
      "Test F1-score at Epoch 780: 0.7446\n",
      "Classification Report at Epoch 780:\n",
      "                  precision    recall  f1-score   support\n",
      "\n",
      "    infringement       0.80      0.60      0.69       194\n",
      "non_infringement       0.67      0.84      0.74       186\n",
      "\n",
      "        accuracy                           0.72       380\n",
      "       macro avg       0.73      0.72      0.72       380\n",
      "    weighted avg       0.73      0.72      0.71       380\n",
      "\n"
     ]
    },
    {
     "name": "stderr",
     "output_type": "stream",
     "text": [
      "Training Epochs:  40%|███▉      | 790/2000 [03:25<04:29,  4.49it/s]"
     ]
    },
    {
     "name": "stdout",
     "output_type": "stream",
     "text": [
      "Epoch 790/2000, Loss: 0.0084\n",
      "Test Accuracy at Epoch 790: 71.84%\n",
      "Test F1-score at Epoch 790: 0.7446\n",
      "Classification Report at Epoch 790:\n",
      "                  precision    recall  f1-score   support\n",
      "\n",
      "    infringement       0.80      0.60      0.69       194\n",
      "non_infringement       0.67      0.84      0.74       186\n",
      "\n",
      "        accuracy                           0.72       380\n",
      "       macro avg       0.73      0.72      0.72       380\n",
      "    weighted avg       0.73      0.72      0.71       380\n",
      "\n"
     ]
    },
    {
     "name": "stderr",
     "output_type": "stream",
     "text": [
      "Training Epochs:  40%|████      | 800/2000 [03:27<04:34,  4.37it/s]"
     ]
    },
    {
     "name": "stdout",
     "output_type": "stream",
     "text": [
      "Epoch 800/2000, Loss: 0.0083\n",
      "Test Accuracy at Epoch 800: 72.11%\n",
      "Test F1-score at Epoch 800: 0.7464\n",
      "Classification Report at Epoch 800:\n",
      "                  precision    recall  f1-score   support\n",
      "\n",
      "    infringement       0.80      0.61      0.69       194\n",
      "non_infringement       0.67      0.84      0.75       186\n",
      "\n",
      "        accuracy                           0.72       380\n",
      "       macro avg       0.73      0.72      0.72       380\n",
      "    weighted avg       0.74      0.72      0.72       380\n",
      "\n"
     ]
    },
    {
     "name": "stderr",
     "output_type": "stream",
     "text": [
      "Training Epochs:  40%|████      | 810/2000 [03:29<04:33,  4.35it/s]"
     ]
    },
    {
     "name": "stdout",
     "output_type": "stream",
     "text": [
      "Epoch 810/2000, Loss: 0.0082\n",
      "Test Accuracy at Epoch 810: 72.37%\n",
      "Test F1-score at Epoch 810: 0.7470\n",
      "Classification Report at Epoch 810:\n",
      "                  precision    recall  f1-score   support\n",
      "\n",
      "    infringement       0.79      0.62      0.70       194\n",
      "non_infringement       0.68      0.83      0.75       186\n",
      "\n",
      "        accuracy                           0.72       380\n",
      "       macro avg       0.74      0.73      0.72       380\n",
      "    weighted avg       0.74      0.72      0.72       380\n",
      "\n"
     ]
    },
    {
     "name": "stderr",
     "output_type": "stream",
     "text": [
      "Training Epochs:  41%|████      | 820/2000 [03:32<05:25,  3.63it/s]"
     ]
    },
    {
     "name": "stdout",
     "output_type": "stream",
     "text": [
      "Epoch 820/2000, Loss: 0.0081\n",
      "Test Accuracy at Epoch 820: 72.63%\n",
      "Test F1-score at Epoch 820: 0.7488\n",
      "Classification Report at Epoch 820:\n",
      "                  precision    recall  f1-score   support\n",
      "\n",
      "    infringement       0.80      0.62      0.70       194\n",
      "non_infringement       0.68      0.83      0.75       186\n",
      "\n",
      "        accuracy                           0.73       380\n",
      "       macro avg       0.74      0.73      0.72       380\n",
      "    weighted avg       0.74      0.73      0.72       380\n",
      "\n"
     ]
    },
    {
     "name": "stderr",
     "output_type": "stream",
     "text": [
      "Training Epochs:  42%|████▏     | 830/2000 [03:34<05:16,  3.69it/s]"
     ]
    },
    {
     "name": "stdout",
     "output_type": "stream",
     "text": [
      "Epoch 830/2000, Loss: 0.0080\n",
      "Test Accuracy at Epoch 830: 72.11%\n",
      "Test F1-score at Epoch 830: 0.7452\n",
      "Classification Report at Epoch 830:\n",
      "                  precision    recall  f1-score   support\n",
      "\n",
      "    infringement       0.79      0.61      0.69       194\n",
      "non_infringement       0.67      0.83      0.75       186\n",
      "\n",
      "        accuracy                           0.72       380\n",
      "       macro avg       0.73      0.72      0.72       380\n",
      "    weighted avg       0.73      0.72      0.72       380\n",
      "\n"
     ]
    },
    {
     "name": "stderr",
     "output_type": "stream",
     "text": [
      "Training Epochs:  42%|████▏     | 840/2000 [03:37<04:31,  4.28it/s]"
     ]
    },
    {
     "name": "stdout",
     "output_type": "stream",
     "text": [
      "Epoch 840/2000, Loss: 0.0081\n",
      "Test Accuracy at Epoch 840: 73.16%\n",
      "Test F1-score at Epoch 840: 0.7524\n",
      "Classification Report at Epoch 840:\n",
      "                  precision    recall  f1-score   support\n",
      "\n",
      "    infringement       0.80      0.63      0.71       194\n",
      "non_infringement       0.69      0.83      0.75       186\n",
      "\n",
      "        accuracy                           0.73       380\n",
      "       macro avg       0.74      0.73      0.73       380\n",
      "    weighted avg       0.74      0.73      0.73       380\n",
      "\n"
     ]
    },
    {
     "name": "stderr",
     "output_type": "stream",
     "text": [
      "Training Epochs:  42%|████▎     | 850/2000 [03:39<04:30,  4.25it/s]"
     ]
    },
    {
     "name": "stdout",
     "output_type": "stream",
     "text": [
      "Epoch 850/2000, Loss: 0.0079\n",
      "Test Accuracy at Epoch 850: 72.11%\n",
      "Test F1-score at Epoch 850: 0.7452\n",
      "Classification Report at Epoch 850:\n",
      "                  precision    recall  f1-score   support\n",
      "\n",
      "    infringement       0.79      0.61      0.69       194\n",
      "non_infringement       0.67      0.83      0.75       186\n",
      "\n",
      "        accuracy                           0.72       380\n",
      "       macro avg       0.73      0.72      0.72       380\n",
      "    weighted avg       0.73      0.72      0.72       380\n",
      "\n"
     ]
    },
    {
     "name": "stderr",
     "output_type": "stream",
     "text": [
      "Training Epochs:  43%|████▎     | 860/2000 [03:41<04:08,  4.58it/s]"
     ]
    },
    {
     "name": "stdout",
     "output_type": "stream",
     "text": [
      "Epoch 860/2000, Loss: 0.0078\n",
      "Test Accuracy at Epoch 860: 73.16%\n",
      "Test F1-score at Epoch 860: 0.7524\n",
      "Classification Report at Epoch 860:\n",
      "                  precision    recall  f1-score   support\n",
      "\n",
      "    infringement       0.80      0.63      0.71       194\n",
      "non_infringement       0.69      0.83      0.75       186\n",
      "\n",
      "        accuracy                           0.73       380\n",
      "       macro avg       0.74      0.73      0.73       380\n",
      "    weighted avg       0.74      0.73      0.73       380\n",
      "\n"
     ]
    },
    {
     "name": "stderr",
     "output_type": "stream",
     "text": [
      "Training Epochs:  44%|████▎     | 870/2000 [03:43<04:32,  4.15it/s]"
     ]
    },
    {
     "name": "stdout",
     "output_type": "stream",
     "text": [
      "Epoch 870/2000, Loss: 0.0078\n",
      "Test Accuracy at Epoch 870: 72.89%\n",
      "Test F1-score at Epoch 870: 0.7506\n",
      "Classification Report at Epoch 870:\n",
      "                  precision    recall  f1-score   support\n",
      "\n",
      "    infringement       0.80      0.63      0.70       194\n",
      "non_infringement       0.68      0.83      0.75       186\n",
      "\n",
      "        accuracy                           0.73       380\n",
      "       macro avg       0.74      0.73      0.73       380\n",
      "    weighted avg       0.74      0.73      0.73       380\n",
      "\n"
     ]
    },
    {
     "name": "stderr",
     "output_type": "stream",
     "text": [
      "Training Epochs:  44%|████▍     | 880/2000 [03:45<04:05,  4.57it/s]"
     ]
    },
    {
     "name": "stdout",
     "output_type": "stream",
     "text": [
      "Epoch 880/2000, Loss: 0.0077\n",
      "Test Accuracy at Epoch 880: 72.89%\n",
      "Test F1-score at Epoch 880: 0.7506\n",
      "Classification Report at Epoch 880:\n",
      "                  precision    recall  f1-score   support\n",
      "\n",
      "    infringement       0.80      0.63      0.70       194\n",
      "non_infringement       0.68      0.83      0.75       186\n",
      "\n",
      "        accuracy                           0.73       380\n",
      "       macro avg       0.74      0.73      0.73       380\n",
      "    weighted avg       0.74      0.73      0.73       380\n",
      "\n"
     ]
    },
    {
     "name": "stderr",
     "output_type": "stream",
     "text": [
      "Training Epochs:  44%|████▍     | 890/2000 [03:47<04:09,  4.45it/s]"
     ]
    },
    {
     "name": "stdout",
     "output_type": "stream",
     "text": [
      "Epoch 890/2000, Loss: 0.0077\n",
      "Test Accuracy at Epoch 890: 72.37%\n",
      "Test F1-score at Epoch 890: 0.7470\n",
      "Classification Report at Epoch 890:\n",
      "                  precision    recall  f1-score   support\n",
      "\n",
      "    infringement       0.79      0.62      0.70       194\n",
      "non_infringement       0.68      0.83      0.75       186\n",
      "\n",
      "        accuracy                           0.72       380\n",
      "       macro avg       0.74      0.73      0.72       380\n",
      "    weighted avg       0.74      0.72      0.72       380\n",
      "\n"
     ]
    },
    {
     "name": "stderr",
     "output_type": "stream",
     "text": [
      "Training Epochs:  45%|████▌     | 900/2000 [03:50<04:17,  4.28it/s]"
     ]
    },
    {
     "name": "stdout",
     "output_type": "stream",
     "text": [
      "Epoch 900/2000, Loss: 0.0077\n",
      "Test Accuracy at Epoch 900: 72.37%\n",
      "Test F1-score at Epoch 900: 0.7470\n",
      "Classification Report at Epoch 900:\n",
      "                  precision    recall  f1-score   support\n",
      "\n",
      "    infringement       0.79      0.62      0.70       194\n",
      "non_infringement       0.68      0.83      0.75       186\n",
      "\n",
      "        accuracy                           0.72       380\n",
      "       macro avg       0.74      0.73      0.72       380\n",
      "    weighted avg       0.74      0.72      0.72       380\n",
      "\n"
     ]
    },
    {
     "name": "stderr",
     "output_type": "stream",
     "text": [
      "Training Epochs:  46%|████▌     | 910/2000 [03:52<04:31,  4.02it/s]"
     ]
    },
    {
     "name": "stdout",
     "output_type": "stream",
     "text": [
      "Epoch 910/2000, Loss: 0.0077\n",
      "Test Accuracy at Epoch 910: 72.37%\n",
      "Test F1-score at Epoch 910: 0.7470\n",
      "Classification Report at Epoch 910:\n",
      "                  precision    recall  f1-score   support\n",
      "\n",
      "    infringement       0.79      0.62      0.70       194\n",
      "non_infringement       0.68      0.83      0.75       186\n",
      "\n",
      "        accuracy                           0.72       380\n",
      "       macro avg       0.74      0.73      0.72       380\n",
      "    weighted avg       0.74      0.72      0.72       380\n",
      "\n"
     ]
    },
    {
     "name": "stderr",
     "output_type": "stream",
     "text": [
      "Training Epochs:  46%|████▌     | 920/2000 [03:54<04:11,  4.29it/s]"
     ]
    },
    {
     "name": "stdout",
     "output_type": "stream",
     "text": [
      "Epoch 920/2000, Loss: 0.0076\n",
      "Test Accuracy at Epoch 920: 72.37%\n",
      "Test F1-score at Epoch 920: 0.7470\n",
      "Classification Report at Epoch 920:\n",
      "                  precision    recall  f1-score   support\n",
      "\n",
      "    infringement       0.79      0.62      0.70       194\n",
      "non_infringement       0.68      0.83      0.75       186\n",
      "\n",
      "        accuracy                           0.72       380\n",
      "       macro avg       0.74      0.73      0.72       380\n",
      "    weighted avg       0.74      0.72      0.72       380\n",
      "\n"
     ]
    },
    {
     "name": "stderr",
     "output_type": "stream",
     "text": [
      "Training Epochs:  46%|████▋     | 930/2000 [03:57<04:17,  4.16it/s]"
     ]
    },
    {
     "name": "stdout",
     "output_type": "stream",
     "text": [
      "Epoch 930/2000, Loss: 0.0076\n",
      "Test Accuracy at Epoch 930: 72.37%\n",
      "Test F1-score at Epoch 930: 0.7470\n",
      "Classification Report at Epoch 930:\n",
      "                  precision    recall  f1-score   support\n",
      "\n",
      "    infringement       0.79      0.62      0.70       194\n",
      "non_infringement       0.68      0.83      0.75       186\n",
      "\n",
      "        accuracy                           0.72       380\n",
      "       macro avg       0.74      0.73      0.72       380\n",
      "    weighted avg       0.74      0.72      0.72       380\n",
      "\n"
     ]
    },
    {
     "name": "stderr",
     "output_type": "stream",
     "text": [
      "Training Epochs:  47%|████▋     | 940/2000 [03:59<03:58,  4.44it/s]"
     ]
    },
    {
     "name": "stdout",
     "output_type": "stream",
     "text": [
      "Epoch 940/2000, Loss: 0.0076\n",
      "Test Accuracy at Epoch 940: 72.89%\n",
      "Test F1-score at Epoch 940: 0.7506\n",
      "Classification Report at Epoch 940:\n",
      "                  precision    recall  f1-score   support\n",
      "\n",
      "    infringement       0.80      0.63      0.70       194\n",
      "non_infringement       0.68      0.83      0.75       186\n",
      "\n",
      "        accuracy                           0.73       380\n",
      "       macro avg       0.74      0.73      0.73       380\n",
      "    weighted avg       0.74      0.73      0.73       380\n",
      "\n"
     ]
    },
    {
     "name": "stderr",
     "output_type": "stream",
     "text": [
      "Training Epochs:  48%|████▊     | 950/2000 [04:01<03:51,  4.54it/s]"
     ]
    },
    {
     "name": "stdout",
     "output_type": "stream",
     "text": [
      "Epoch 950/2000, Loss: 0.0078\n",
      "Test Accuracy at Epoch 950: 73.68%\n",
      "Test F1-score at Epoch 950: 0.7561\n",
      "Classification Report at Epoch 950:\n",
      "                  precision    recall  f1-score   support\n",
      "\n",
      "    infringement       0.80      0.64      0.71       194\n",
      "non_infringement       0.69      0.83      0.76       186\n",
      "\n",
      "        accuracy                           0.74       380\n",
      "       macro avg       0.75      0.74      0.74       380\n",
      "    weighted avg       0.75      0.74      0.73       380\n",
      "\n"
     ]
    },
    {
     "name": "stderr",
     "output_type": "stream",
     "text": [
      "Training Epochs:  48%|████▊     | 960/2000 [04:03<04:22,  3.97it/s]"
     ]
    },
    {
     "name": "stdout",
     "output_type": "stream",
     "text": [
      "Epoch 960/2000, Loss: 0.0077\n",
      "Test Accuracy at Epoch 960: 72.37%\n",
      "Test F1-score at Epoch 960: 0.7482\n",
      "Classification Report at Epoch 960:\n",
      "                  precision    recall  f1-score   support\n",
      "\n",
      "    infringement       0.80      0.61      0.69       194\n",
      "non_infringement       0.68      0.84      0.75       186\n",
      "\n",
      "        accuracy                           0.72       380\n",
      "       macro avg       0.74      0.73      0.72       380\n",
      "    weighted avg       0.74      0.72      0.72       380\n",
      "\n"
     ]
    },
    {
     "name": "stderr",
     "output_type": "stream",
     "text": [
      "Training Epochs:  48%|████▊     | 970/2000 [04:06<03:58,  4.32it/s]"
     ]
    },
    {
     "name": "stdout",
     "output_type": "stream",
     "text": [
      "Epoch 970/2000, Loss: 0.0076\n",
      "Test Accuracy at Epoch 970: 72.37%\n",
      "Test F1-score at Epoch 970: 0.7470\n",
      "Classification Report at Epoch 970:\n",
      "                  precision    recall  f1-score   support\n",
      "\n",
      "    infringement       0.79      0.62      0.70       194\n",
      "non_infringement       0.68      0.83      0.75       186\n",
      "\n",
      "        accuracy                           0.72       380\n",
      "       macro avg       0.74      0.73      0.72       380\n",
      "    weighted avg       0.74      0.72      0.72       380\n",
      "\n"
     ]
    },
    {
     "name": "stderr",
     "output_type": "stream",
     "text": [
      "Training Epochs:  49%|████▉     | 980/2000 [04:08<04:33,  3.72it/s]"
     ]
    },
    {
     "name": "stdout",
     "output_type": "stream",
     "text": [
      "Epoch 980/2000, Loss: 0.0075\n",
      "Test Accuracy at Epoch 980: 72.63%\n",
      "Test F1-score at Epoch 980: 0.7488\n",
      "Classification Report at Epoch 980:\n",
      "                  precision    recall  f1-score   support\n",
      "\n",
      "    infringement       0.80      0.62      0.70       194\n",
      "non_infringement       0.68      0.83      0.75       186\n",
      "\n",
      "        accuracy                           0.73       380\n",
      "       macro avg       0.74      0.73      0.72       380\n",
      "    weighted avg       0.74      0.73      0.72       380\n",
      "\n"
     ]
    },
    {
     "name": "stderr",
     "output_type": "stream",
     "text": [
      "Training Epochs:  50%|████▉     | 990/2000 [04:11<04:20,  3.88it/s]"
     ]
    },
    {
     "name": "stdout",
     "output_type": "stream",
     "text": [
      "Epoch 990/2000, Loss: 0.0075\n",
      "Test Accuracy at Epoch 990: 73.16%\n",
      "Test F1-score at Epoch 990: 0.7524\n",
      "Classification Report at Epoch 990:\n",
      "                  precision    recall  f1-score   support\n",
      "\n",
      "    infringement       0.80      0.63      0.71       194\n",
      "non_infringement       0.69      0.83      0.75       186\n",
      "\n",
      "        accuracy                           0.73       380\n",
      "       macro avg       0.74      0.73      0.73       380\n",
      "    weighted avg       0.74      0.73      0.73       380\n",
      "\n"
     ]
    },
    {
     "name": "stderr",
     "output_type": "stream",
     "text": [
      "Training Epochs:  50%|█████     | 1000/2000 [04:13<04:26,  3.76it/s]"
     ]
    },
    {
     "name": "stdout",
     "output_type": "stream",
     "text": [
      "Epoch 1000/2000, Loss: 0.0075\n",
      "Test Accuracy at Epoch 1000: 72.37%\n",
      "Test F1-score at Epoch 1000: 0.7470\n",
      "Classification Report at Epoch 1000:\n",
      "                  precision    recall  f1-score   support\n",
      "\n",
      "    infringement       0.79      0.62      0.70       194\n",
      "non_infringement       0.68      0.83      0.75       186\n",
      "\n",
      "        accuracy                           0.72       380\n",
      "       macro avg       0.74      0.73      0.72       380\n",
      "    weighted avg       0.74      0.72      0.72       380\n",
      "\n"
     ]
    },
    {
     "name": "stderr",
     "output_type": "stream",
     "text": [
      "Training Epochs:  50%|█████     | 1010/2000 [04:16<04:29,  3.67it/s]"
     ]
    },
    {
     "name": "stdout",
     "output_type": "stream",
     "text": [
      "Epoch 1010/2000, Loss: 0.0075\n",
      "Test Accuracy at Epoch 1010: 73.16%\n",
      "Test F1-score at Epoch 1010: 0.7524\n",
      "Classification Report at Epoch 1010:\n",
      "                  precision    recall  f1-score   support\n",
      "\n",
      "    infringement       0.80      0.63      0.71       194\n",
      "non_infringement       0.69      0.83      0.75       186\n",
      "\n",
      "        accuracy                           0.73       380\n",
      "       macro avg       0.74      0.73      0.73       380\n",
      "    weighted avg       0.74      0.73      0.73       380\n",
      "\n"
     ]
    },
    {
     "name": "stderr",
     "output_type": "stream",
     "text": [
      "Training Epochs:  51%|█████     | 1020/2000 [04:18<04:29,  3.63it/s]"
     ]
    },
    {
     "name": "stdout",
     "output_type": "stream",
     "text": [
      "Epoch 1020/2000, Loss: 0.0076\n",
      "Test Accuracy at Epoch 1020: 73.42%\n",
      "Test F1-score at Epoch 1020: 0.7554\n",
      "Classification Report at Epoch 1020:\n",
      "                  precision    recall  f1-score   support\n",
      "\n",
      "    infringement       0.80      0.63      0.71       194\n",
      "non_infringement       0.69      0.84      0.76       186\n",
      "\n",
      "        accuracy                           0.73       380\n",
      "       macro avg       0.75      0.74      0.73       380\n",
      "    weighted avg       0.75      0.73      0.73       380\n",
      "\n"
     ]
    },
    {
     "name": "stderr",
     "output_type": "stream",
     "text": [
      "Training Epochs:  52%|█████▏    | 1030/2000 [04:21<03:55,  4.12it/s]"
     ]
    },
    {
     "name": "stdout",
     "output_type": "stream",
     "text": [
      "Epoch 1030/2000, Loss: 0.0075\n",
      "Test Accuracy at Epoch 1030: 72.37%\n",
      "Test F1-score at Epoch 1030: 0.7470\n",
      "Classification Report at Epoch 1030:\n",
      "                  precision    recall  f1-score   support\n",
      "\n",
      "    infringement       0.79      0.62      0.70       194\n",
      "non_infringement       0.68      0.83      0.75       186\n",
      "\n",
      "        accuracy                           0.72       380\n",
      "       macro avg       0.74      0.73      0.72       380\n",
      "    weighted avg       0.74      0.72      0.72       380\n",
      "\n"
     ]
    },
    {
     "name": "stderr",
     "output_type": "stream",
     "text": [
      "Training Epochs:  52%|█████▏    | 1040/2000 [04:23<04:50,  3.30it/s]"
     ]
    },
    {
     "name": "stdout",
     "output_type": "stream",
     "text": [
      "Epoch 1040/2000, Loss: 0.0075\n",
      "Test Accuracy at Epoch 1040: 73.68%\n",
      "Test F1-score at Epoch 1040: 0.7573\n",
      "Classification Report at Epoch 1040:\n",
      "                  precision    recall  f1-score   support\n",
      "\n",
      "    infringement       0.81      0.64      0.71       194\n",
      "non_infringement       0.69      0.84      0.76       186\n",
      "\n",
      "        accuracy                           0.74       380\n",
      "       macro avg       0.75      0.74      0.73       380\n",
      "    weighted avg       0.75      0.74      0.73       380\n",
      "\n"
     ]
    },
    {
     "name": "stderr",
     "output_type": "stream",
     "text": [
      "Training Epochs:  52%|█████▎    | 1050/2000 [04:26<04:10,  3.80it/s]"
     ]
    },
    {
     "name": "stdout",
     "output_type": "stream",
     "text": [
      "Epoch 1050/2000, Loss: 0.0075\n",
      "Test Accuracy at Epoch 1050: 72.37%\n",
      "Test F1-score at Epoch 1050: 0.7470\n",
      "Classification Report at Epoch 1050:\n",
      "                  precision    recall  f1-score   support\n",
      "\n",
      "    infringement       0.79      0.62      0.70       194\n",
      "non_infringement       0.68      0.83      0.75       186\n",
      "\n",
      "        accuracy                           0.72       380\n",
      "       macro avg       0.74      0.73      0.72       380\n",
      "    weighted avg       0.74      0.72      0.72       380\n",
      "\n"
     ]
    },
    {
     "name": "stderr",
     "output_type": "stream",
     "text": [
      "Training Epochs:  53%|█████▎    | 1060/2000 [04:28<04:17,  3.65it/s]"
     ]
    },
    {
     "name": "stdout",
     "output_type": "stream",
     "text": [
      "Epoch 1060/2000, Loss: 0.0075\n",
      "Test Accuracy at Epoch 1060: 72.37%\n",
      "Test F1-score at Epoch 1060: 0.7470\n",
      "Classification Report at Epoch 1060:\n",
      "                  precision    recall  f1-score   support\n",
      "\n",
      "    infringement       0.79      0.62      0.70       194\n",
      "non_infringement       0.68      0.83      0.75       186\n",
      "\n",
      "        accuracy                           0.72       380\n",
      "       macro avg       0.74      0.73      0.72       380\n",
      "    weighted avg       0.74      0.72      0.72       380\n",
      "\n"
     ]
    },
    {
     "name": "stderr",
     "output_type": "stream",
     "text": [
      "Training Epochs:  54%|█████▎    | 1070/2000 [04:31<03:50,  4.03it/s]"
     ]
    },
    {
     "name": "stdout",
     "output_type": "stream",
     "text": [
      "Epoch 1070/2000, Loss: 0.0078\n",
      "Test Accuracy at Epoch 1070: 71.32%\n",
      "Test F1-score at Epoch 1070: 0.7399\n",
      "Classification Report at Epoch 1070:\n",
      "                  precision    recall  f1-score   support\n",
      "\n",
      "    infringement       0.79      0.60      0.68       194\n",
      "non_infringement       0.67      0.83      0.74       186\n",
      "\n",
      "        accuracy                           0.71       380\n",
      "       macro avg       0.73      0.72      0.71       380\n",
      "    weighted avg       0.73      0.71      0.71       380\n",
      "\n"
     ]
    },
    {
     "name": "stderr",
     "output_type": "stream",
     "text": [
      "Training Epochs:  54%|█████▍    | 1080/2000 [04:33<03:36,  4.25it/s]"
     ]
    },
    {
     "name": "stdout",
     "output_type": "stream",
     "text": [
      "Epoch 1080/2000, Loss: 0.0075\n",
      "Test Accuracy at Epoch 1080: 73.42%\n",
      "Test F1-score at Epoch 1080: 0.7554\n",
      "Classification Report at Epoch 1080:\n",
      "                  precision    recall  f1-score   support\n",
      "\n",
      "    infringement       0.80      0.63      0.71       194\n",
      "non_infringement       0.69      0.84      0.76       186\n",
      "\n",
      "        accuracy                           0.73       380\n",
      "       macro avg       0.75      0.74      0.73       380\n",
      "    weighted avg       0.75      0.73      0.73       380\n",
      "\n"
     ]
    },
    {
     "name": "stderr",
     "output_type": "stream",
     "text": [
      "Training Epochs:  55%|█████▍    | 1090/2000 [04:36<03:34,  4.24it/s]"
     ]
    },
    {
     "name": "stdout",
     "output_type": "stream",
     "text": [
      "Epoch 1090/2000, Loss: 0.0074\n",
      "Test Accuracy at Epoch 1090: 72.89%\n",
      "Test F1-score at Epoch 1090: 0.7518\n",
      "Classification Report at Epoch 1090:\n",
      "                  precision    recall  f1-score   support\n",
      "\n",
      "    infringement       0.80      0.62      0.70       194\n",
      "non_infringement       0.68      0.84      0.75       186\n",
      "\n",
      "        accuracy                           0.73       380\n",
      "       macro avg       0.74      0.73      0.73       380\n",
      "    weighted avg       0.74      0.73      0.73       380\n",
      "\n"
     ]
    },
    {
     "name": "stderr",
     "output_type": "stream",
     "text": [
      "Training Epochs:  55%|█████▌    | 1100/2000 [04:38<03:30,  4.28it/s]"
     ]
    },
    {
     "name": "stdout",
     "output_type": "stream",
     "text": [
      "Epoch 1100/2000, Loss: 0.0074\n",
      "Test Accuracy at Epoch 1100: 72.63%\n",
      "Test F1-score at Epoch 1100: 0.7500\n",
      "Classification Report at Epoch 1100:\n",
      "                  precision    recall  f1-score   support\n",
      "\n",
      "    infringement       0.80      0.62      0.70       194\n",
      "non_infringement       0.68      0.84      0.75       186\n",
      "\n",
      "        accuracy                           0.73       380\n",
      "       macro avg       0.74      0.73      0.72       380\n",
      "    weighted avg       0.74      0.73      0.72       380\n",
      "\n"
     ]
    },
    {
     "name": "stderr",
     "output_type": "stream",
     "text": [
      "Training Epochs:  56%|█████▌    | 1110/2000 [04:40<03:37,  4.09it/s]"
     ]
    },
    {
     "name": "stdout",
     "output_type": "stream",
     "text": [
      "Epoch 1110/2000, Loss: 0.0074\n",
      "Test Accuracy at Epoch 1110: 72.37%\n",
      "Test F1-score at Epoch 1110: 0.7470\n",
      "Classification Report at Epoch 1110:\n",
      "                  precision    recall  f1-score   support\n",
      "\n",
      "    infringement       0.79      0.62      0.70       194\n",
      "non_infringement       0.68      0.83      0.75       186\n",
      "\n",
      "        accuracy                           0.72       380\n",
      "       macro avg       0.74      0.73      0.72       380\n",
      "    weighted avg       0.74      0.72      0.72       380\n",
      "\n"
     ]
    },
    {
     "name": "stderr",
     "output_type": "stream",
     "text": [
      "Training Epochs:  56%|█████▌    | 1120/2000 [04:42<03:39,  4.01it/s]"
     ]
    },
    {
     "name": "stdout",
     "output_type": "stream",
     "text": [
      "Epoch 1120/2000, Loss: 0.0074\n",
      "Test Accuracy at Epoch 1120: 73.16%\n",
      "Test F1-score at Epoch 1120: 0.7524\n",
      "Classification Report at Epoch 1120:\n",
      "                  precision    recall  f1-score   support\n",
      "\n",
      "    infringement       0.80      0.63      0.71       194\n",
      "non_infringement       0.69      0.83      0.75       186\n",
      "\n",
      "        accuracy                           0.73       380\n",
      "       macro avg       0.74      0.73      0.73       380\n",
      "    weighted avg       0.74      0.73      0.73       380\n",
      "\n"
     ]
    },
    {
     "name": "stderr",
     "output_type": "stream",
     "text": [
      "Training Epochs:  56%|█████▋    | 1130/2000 [04:45<03:52,  3.74it/s]"
     ]
    },
    {
     "name": "stdout",
     "output_type": "stream",
     "text": [
      "Epoch 1130/2000, Loss: 0.0075\n",
      "Test Accuracy at Epoch 1130: 72.63%\n",
      "Test F1-score at Epoch 1130: 0.7476\n",
      "Classification Report at Epoch 1130:\n",
      "                  precision    recall  f1-score   support\n",
      "\n",
      "    infringement       0.79      0.63      0.70       194\n",
      "non_infringement       0.68      0.83      0.75       186\n",
      "\n",
      "        accuracy                           0.73       380\n",
      "       macro avg       0.74      0.73      0.72       380\n",
      "    weighted avg       0.74      0.73      0.72       380\n",
      "\n"
     ]
    },
    {
     "name": "stderr",
     "output_type": "stream",
     "text": [
      "Training Epochs:  57%|█████▋    | 1140/2000 [04:47<03:33,  4.02it/s]"
     ]
    },
    {
     "name": "stdout",
     "output_type": "stream",
     "text": [
      "Epoch 1140/2000, Loss: 0.0075\n",
      "Test Accuracy at Epoch 1140: 72.89%\n",
      "Test F1-score at Epoch 1140: 0.7518\n",
      "Classification Report at Epoch 1140:\n",
      "                  precision    recall  f1-score   support\n",
      "\n",
      "    infringement       0.80      0.62      0.70       194\n",
      "non_infringement       0.68      0.84      0.75       186\n",
      "\n",
      "        accuracy                           0.73       380\n",
      "       macro avg       0.74      0.73      0.73       380\n",
      "    weighted avg       0.74      0.73      0.73       380\n",
      "\n"
     ]
    },
    {
     "name": "stderr",
     "output_type": "stream",
     "text": [
      "Training Epochs:  57%|█████▊    | 1150/2000 [04:50<03:17,  4.31it/s]"
     ]
    },
    {
     "name": "stdout",
     "output_type": "stream",
     "text": [
      "Epoch 1150/2000, Loss: 0.0075\n",
      "Test Accuracy at Epoch 1150: 72.89%\n",
      "Test F1-score at Epoch 1150: 0.7518\n",
      "Classification Report at Epoch 1150:\n",
      "                  precision    recall  f1-score   support\n",
      "\n",
      "    infringement       0.80      0.62      0.70       194\n",
      "non_infringement       0.68      0.84      0.75       186\n",
      "\n",
      "        accuracy                           0.73       380\n",
      "       macro avg       0.74      0.73      0.73       380\n",
      "    weighted avg       0.74      0.73      0.73       380\n",
      "\n"
     ]
    },
    {
     "name": "stderr",
     "output_type": "stream",
     "text": [
      "Training Epochs:  58%|█████▊    | 1160/2000 [04:52<03:48,  3.67it/s]"
     ]
    },
    {
     "name": "stdout",
     "output_type": "stream",
     "text": [
      "Epoch 1160/2000, Loss: 0.0074\n",
      "Test Accuracy at Epoch 1160: 73.42%\n",
      "Test F1-score at Epoch 1160: 0.7554\n",
      "Classification Report at Epoch 1160:\n",
      "                  precision    recall  f1-score   support\n",
      "\n",
      "    infringement       0.80      0.63      0.71       194\n",
      "non_infringement       0.69      0.84      0.76       186\n",
      "\n",
      "        accuracy                           0.73       380\n",
      "       macro avg       0.75      0.74      0.73       380\n",
      "    weighted avg       0.75      0.73      0.73       380\n",
      "\n"
     ]
    },
    {
     "name": "stderr",
     "output_type": "stream",
     "text": [
      "Training Epochs:  58%|█████▊    | 1170/2000 [04:54<03:29,  3.97it/s]"
     ]
    },
    {
     "name": "stdout",
     "output_type": "stream",
     "text": [
      "Epoch 1170/2000, Loss: 0.0074\n",
      "Test Accuracy at Epoch 1170: 73.42%\n",
      "Test F1-score at Epoch 1170: 0.7554\n",
      "Classification Report at Epoch 1170:\n",
      "                  precision    recall  f1-score   support\n",
      "\n",
      "    infringement       0.80      0.63      0.71       194\n",
      "non_infringement       0.69      0.84      0.76       186\n",
      "\n",
      "        accuracy                           0.73       380\n",
      "       macro avg       0.75      0.74      0.73       380\n",
      "    weighted avg       0.75      0.73      0.73       380\n",
      "\n"
     ]
    },
    {
     "name": "stderr",
     "output_type": "stream",
     "text": [
      "Training Epochs:  59%|█████▉    | 1180/2000 [04:57<04:08,  3.30it/s]"
     ]
    },
    {
     "name": "stdout",
     "output_type": "stream",
     "text": [
      "Epoch 1180/2000, Loss: 0.0074\n",
      "Test Accuracy at Epoch 1180: 72.89%\n",
      "Test F1-score at Epoch 1180: 0.7494\n",
      "Classification Report at Epoch 1180:\n",
      "                  precision    recall  f1-score   support\n",
      "\n",
      "    infringement       0.79      0.63      0.70       194\n",
      "non_infringement       0.68      0.83      0.75       186\n",
      "\n",
      "        accuracy                           0.73       380\n",
      "       macro avg       0.74      0.73      0.73       380\n",
      "    weighted avg       0.74      0.73      0.73       380\n",
      "\n"
     ]
    },
    {
     "name": "stderr",
     "output_type": "stream",
     "text": [
      "Training Epochs:  60%|█████▉    | 1190/2000 [05:00<03:18,  4.08it/s]"
     ]
    },
    {
     "name": "stdout",
     "output_type": "stream",
     "text": [
      "Epoch 1190/2000, Loss: 0.0075\n",
      "Test Accuracy at Epoch 1190: 72.63%\n",
      "Test F1-score at Epoch 1190: 0.7463\n",
      "Classification Report at Epoch 1190:\n",
      "                  precision    recall  f1-score   support\n",
      "\n",
      "    infringement       0.79      0.63      0.70       194\n",
      "non_infringement       0.68      0.82      0.75       186\n",
      "\n",
      "        accuracy                           0.73       380\n",
      "       macro avg       0.74      0.73      0.72       380\n",
      "    weighted avg       0.74      0.73      0.72       380\n",
      "\n"
     ]
    },
    {
     "name": "stderr",
     "output_type": "stream",
     "text": [
      "Training Epochs:  60%|██████    | 1200/2000 [05:02<03:17,  4.05it/s]"
     ]
    },
    {
     "name": "stdout",
     "output_type": "stream",
     "text": [
      "Epoch 1200/2000, Loss: 0.0074\n",
      "Test Accuracy at Epoch 1200: 72.11%\n",
      "Test F1-score at Epoch 1200: 0.7440\n",
      "Classification Report at Epoch 1200:\n",
      "                  precision    recall  f1-score   support\n",
      "\n",
      "    infringement       0.79      0.62      0.69       194\n",
      "non_infringement       0.68      0.83      0.74       186\n",
      "\n",
      "        accuracy                           0.72       380\n",
      "       macro avg       0.73      0.72      0.72       380\n",
      "    weighted avg       0.73      0.72      0.72       380\n",
      "\n"
     ]
    },
    {
     "name": "stderr",
     "output_type": "stream",
     "text": [
      "Training Epochs:  60%|██████    | 1210/2000 [05:05<03:27,  3.81it/s]"
     ]
    },
    {
     "name": "stdout",
     "output_type": "stream",
     "text": [
      "Epoch 1210/2000, Loss: 0.0078\n",
      "Test Accuracy at Epoch 1210: 71.05%\n",
      "Test F1-score at Epoch 1210: 0.7368\n",
      "Classification Report at Epoch 1210:\n",
      "                  precision    recall  f1-score   support\n",
      "\n",
      "    infringement       0.78      0.60      0.68       194\n",
      "non_infringement       0.66      0.83      0.74       186\n",
      "\n",
      "        accuracy                           0.71       380\n",
      "       macro avg       0.72      0.71      0.71       380\n",
      "    weighted avg       0.73      0.71      0.71       380\n",
      "\n"
     ]
    },
    {
     "name": "stderr",
     "output_type": "stream",
     "text": [
      "Training Epochs:  61%|██████    | 1220/2000 [05:07<03:26,  3.77it/s]"
     ]
    },
    {
     "name": "stdout",
     "output_type": "stream",
     "text": [
      "Epoch 1220/2000, Loss: 0.0074\n",
      "Test Accuracy at Epoch 1220: 72.37%\n",
      "Test F1-score at Epoch 1220: 0.7470\n",
      "Classification Report at Epoch 1220:\n",
      "                  precision    recall  f1-score   support\n",
      "\n",
      "    infringement       0.79      0.62      0.70       194\n",
      "non_infringement       0.68      0.83      0.75       186\n",
      "\n",
      "        accuracy                           0.72       380\n",
      "       macro avg       0.74      0.73      0.72       380\n",
      "    weighted avg       0.74      0.72      0.72       380\n",
      "\n"
     ]
    },
    {
     "name": "stderr",
     "output_type": "stream",
     "text": [
      "Training Epochs:  62%|██████▏   | 1230/2000 [05:10<03:40,  3.50it/s]"
     ]
    },
    {
     "name": "stdout",
     "output_type": "stream",
     "text": [
      "Epoch 1230/2000, Loss: 0.0074\n",
      "Test Accuracy at Epoch 1230: 72.89%\n",
      "Test F1-score at Epoch 1230: 0.7494\n",
      "Classification Report at Epoch 1230:\n",
      "                  precision    recall  f1-score   support\n",
      "\n",
      "    infringement       0.79      0.63      0.70       194\n",
      "non_infringement       0.68      0.83      0.75       186\n",
      "\n",
      "        accuracy                           0.73       380\n",
      "       macro avg       0.74      0.73      0.73       380\n",
      "    weighted avg       0.74      0.73      0.73       380\n",
      "\n"
     ]
    },
    {
     "name": "stderr",
     "output_type": "stream",
     "text": [
      "Training Epochs:  62%|██████▏   | 1240/2000 [05:12<03:07,  4.05it/s]"
     ]
    },
    {
     "name": "stdout",
     "output_type": "stream",
     "text": [
      "Epoch 1240/2000, Loss: 0.0074\n",
      "Test Accuracy at Epoch 1240: 72.89%\n",
      "Test F1-score at Epoch 1240: 0.7494\n",
      "Classification Report at Epoch 1240:\n",
      "                  precision    recall  f1-score   support\n",
      "\n",
      "    infringement       0.79      0.63      0.70       194\n",
      "non_infringement       0.68      0.83      0.75       186\n",
      "\n",
      "        accuracy                           0.73       380\n",
      "       macro avg       0.74      0.73      0.73       380\n",
      "    weighted avg       0.74      0.73      0.73       380\n",
      "\n"
     ]
    },
    {
     "name": "stderr",
     "output_type": "stream",
     "text": [
      "Training Epochs:  62%|██████▎   | 1250/2000 [05:15<03:25,  3.66it/s]"
     ]
    },
    {
     "name": "stdout",
     "output_type": "stream",
     "text": [
      "Epoch 1250/2000, Loss: 0.0074\n",
      "Test Accuracy at Epoch 1250: 72.89%\n",
      "Test F1-score at Epoch 1250: 0.7494\n",
      "Classification Report at Epoch 1250:\n",
      "                  precision    recall  f1-score   support\n",
      "\n",
      "    infringement       0.79      0.63      0.70       194\n",
      "non_infringement       0.68      0.83      0.75       186\n",
      "\n",
      "        accuracy                           0.73       380\n",
      "       macro avg       0.74      0.73      0.73       380\n",
      "    weighted avg       0.74      0.73      0.73       380\n",
      "\n"
     ]
    },
    {
     "name": "stderr",
     "output_type": "stream",
     "text": [
      "Training Epochs:  63%|██████▎   | 1260/2000 [05:18<03:04,  4.00it/s]"
     ]
    },
    {
     "name": "stdout",
     "output_type": "stream",
     "text": [
      "Epoch 1260/2000, Loss: 0.0074\n",
      "Test Accuracy at Epoch 1260: 72.89%\n",
      "Test F1-score at Epoch 1260: 0.7494\n",
      "Classification Report at Epoch 1260:\n",
      "                  precision    recall  f1-score   support\n",
      "\n",
      "    infringement       0.79      0.63      0.70       194\n",
      "non_infringement       0.68      0.83      0.75       186\n",
      "\n",
      "        accuracy                           0.73       380\n",
      "       macro avg       0.74      0.73      0.73       380\n",
      "    weighted avg       0.74      0.73      0.73       380\n",
      "\n"
     ]
    },
    {
     "name": "stderr",
     "output_type": "stream",
     "text": [
      "Training Epochs:  64%|██████▎   | 1270/2000 [05:20<03:37,  3.36it/s]"
     ]
    },
    {
     "name": "stdout",
     "output_type": "stream",
     "text": [
      "Epoch 1270/2000, Loss: 0.0074\n",
      "Test Accuracy at Epoch 1270: 72.89%\n",
      "Test F1-score at Epoch 1270: 0.7494\n",
      "Classification Report at Epoch 1270:\n",
      "                  precision    recall  f1-score   support\n",
      "\n",
      "    infringement       0.79      0.63      0.70       194\n",
      "non_infringement       0.68      0.83      0.75       186\n",
      "\n",
      "        accuracy                           0.73       380\n",
      "       macro avg       0.74      0.73      0.73       380\n",
      "    weighted avg       0.74      0.73      0.73       380\n",
      "\n"
     ]
    },
    {
     "name": "stderr",
     "output_type": "stream",
     "text": [
      "Training Epochs:  64%|██████▍   | 1280/2000 [05:23<03:08,  3.82it/s]"
     ]
    },
    {
     "name": "stdout",
     "output_type": "stream",
     "text": [
      "Epoch 1280/2000, Loss: 0.0074\n",
      "Test Accuracy at Epoch 1280: 72.63%\n",
      "Test F1-score at Epoch 1280: 0.7463\n",
      "Classification Report at Epoch 1280:\n",
      "                  precision    recall  f1-score   support\n",
      "\n",
      "    infringement       0.79      0.63      0.70       194\n",
      "non_infringement       0.68      0.82      0.75       186\n",
      "\n",
      "        accuracy                           0.73       380\n",
      "       macro avg       0.74      0.73      0.72       380\n",
      "    weighted avg       0.74      0.73      0.72       380\n",
      "\n"
     ]
    },
    {
     "name": "stderr",
     "output_type": "stream",
     "text": [
      "Training Epochs:  64%|██████▍   | 1290/2000 [05:25<02:57,  4.01it/s]"
     ]
    },
    {
     "name": "stdout",
     "output_type": "stream",
     "text": [
      "Epoch 1290/2000, Loss: 0.0074\n",
      "Test Accuracy at Epoch 1290: 72.89%\n",
      "Test F1-score at Epoch 1290: 0.7494\n",
      "Classification Report at Epoch 1290:\n",
      "                  precision    recall  f1-score   support\n",
      "\n",
      "    infringement       0.79      0.63      0.70       194\n",
      "non_infringement       0.68      0.83      0.75       186\n",
      "\n",
      "        accuracy                           0.73       380\n",
      "       macro avg       0.74      0.73      0.73       380\n",
      "    weighted avg       0.74      0.73      0.73       380\n",
      "\n"
     ]
    },
    {
     "name": "stderr",
     "output_type": "stream",
     "text": [
      "Training Epochs:  65%|██████▌   | 1300/2000 [05:28<02:52,  4.05it/s]"
     ]
    },
    {
     "name": "stdout",
     "output_type": "stream",
     "text": [
      "Epoch 1300/2000, Loss: 0.0074\n",
      "Test Accuracy at Epoch 1300: 72.63%\n",
      "Test F1-score at Epoch 1300: 0.7488\n",
      "Classification Report at Epoch 1300:\n",
      "                  precision    recall  f1-score   support\n",
      "\n",
      "    infringement       0.80      0.62      0.70       194\n",
      "non_infringement       0.68      0.83      0.75       186\n",
      "\n",
      "        accuracy                           0.73       380\n",
      "       macro avg       0.74      0.73      0.72       380\n",
      "    weighted avg       0.74      0.73      0.72       380\n",
      "\n"
     ]
    },
    {
     "name": "stderr",
     "output_type": "stream",
     "text": [
      "Training Epochs:  66%|██████▌   | 1310/2000 [05:30<02:49,  4.06it/s]"
     ]
    },
    {
     "name": "stdout",
     "output_type": "stream",
     "text": [
      "Epoch 1310/2000, Loss: 0.0074\n",
      "Test Accuracy at Epoch 1310: 72.37%\n",
      "Test F1-score at Epoch 1310: 0.7470\n",
      "Classification Report at Epoch 1310:\n",
      "                  precision    recall  f1-score   support\n",
      "\n",
      "    infringement       0.79      0.62      0.70       194\n",
      "non_infringement       0.68      0.83      0.75       186\n",
      "\n",
      "        accuracy                           0.72       380\n",
      "       macro avg       0.74      0.73      0.72       380\n",
      "    weighted avg       0.74      0.72      0.72       380\n",
      "\n"
     ]
    },
    {
     "name": "stderr",
     "output_type": "stream",
     "text": [
      "Training Epochs:  66%|██████▌   | 1320/2000 [05:33<02:41,  4.21it/s]"
     ]
    },
    {
     "name": "stdout",
     "output_type": "stream",
     "text": [
      "Epoch 1320/2000, Loss: 0.0074\n",
      "Test Accuracy at Epoch 1320: 72.37%\n",
      "Test F1-score at Epoch 1320: 0.7470\n",
      "Classification Report at Epoch 1320:\n",
      "                  precision    recall  f1-score   support\n",
      "\n",
      "    infringement       0.79      0.62      0.70       194\n",
      "non_infringement       0.68      0.83      0.75       186\n",
      "\n",
      "        accuracy                           0.72       380\n",
      "       macro avg       0.74      0.73      0.72       380\n",
      "    weighted avg       0.74      0.72      0.72       380\n",
      "\n"
     ]
    },
    {
     "name": "stderr",
     "output_type": "stream",
     "text": [
      "Training Epochs:  66%|██████▋   | 1330/2000 [05:35<02:50,  3.93it/s]"
     ]
    },
    {
     "name": "stdout",
     "output_type": "stream",
     "text": [
      "Epoch 1330/2000, Loss: 0.0074\n",
      "Test Accuracy at Epoch 1330: 72.89%\n",
      "Test F1-score at Epoch 1330: 0.7494\n",
      "Classification Report at Epoch 1330:\n",
      "                  precision    recall  f1-score   support\n",
      "\n",
      "    infringement       0.79      0.63      0.70       194\n",
      "non_infringement       0.68      0.83      0.75       186\n",
      "\n",
      "        accuracy                           0.73       380\n",
      "       macro avg       0.74      0.73      0.73       380\n",
      "    weighted avg       0.74      0.73      0.73       380\n",
      "\n"
     ]
    },
    {
     "name": "stderr",
     "output_type": "stream",
     "text": [
      "Training Epochs:  67%|██████▋   | 1340/2000 [05:37<02:45,  4.00it/s]"
     ]
    },
    {
     "name": "stdout",
     "output_type": "stream",
     "text": [
      "Epoch 1340/2000, Loss: 0.0074\n",
      "Test Accuracy at Epoch 1340: 72.89%\n",
      "Test F1-score at Epoch 1340: 0.7494\n",
      "Classification Report at Epoch 1340:\n",
      "                  precision    recall  f1-score   support\n",
      "\n",
      "    infringement       0.79      0.63      0.70       194\n",
      "non_infringement       0.68      0.83      0.75       186\n",
      "\n",
      "        accuracy                           0.73       380\n",
      "       macro avg       0.74      0.73      0.73       380\n",
      "    weighted avg       0.74      0.73      0.73       380\n",
      "\n"
     ]
    },
    {
     "name": "stderr",
     "output_type": "stream",
     "text": [
      "Training Epochs:  68%|██████▊   | 1350/2000 [05:40<02:31,  4.28it/s]"
     ]
    },
    {
     "name": "stdout",
     "output_type": "stream",
     "text": [
      "Epoch 1350/2000, Loss: 0.0074\n",
      "Test Accuracy at Epoch 1350: 72.37%\n",
      "Test F1-score at Epoch 1350: 0.7470\n",
      "Classification Report at Epoch 1350:\n",
      "                  precision    recall  f1-score   support\n",
      "\n",
      "    infringement       0.79      0.62      0.70       194\n",
      "non_infringement       0.68      0.83      0.75       186\n",
      "\n",
      "        accuracy                           0.72       380\n",
      "       macro avg       0.74      0.73      0.72       380\n",
      "    weighted avg       0.74      0.72      0.72       380\n",
      "\n"
     ]
    },
    {
     "name": "stderr",
     "output_type": "stream",
     "text": [
      "Training Epochs:  68%|██████▊   | 1360/2000 [05:42<02:35,  4.11it/s]"
     ]
    },
    {
     "name": "stdout",
     "output_type": "stream",
     "text": [
      "Epoch 1360/2000, Loss: 0.0074\n",
      "Test Accuracy at Epoch 1360: 72.63%\n",
      "Test F1-score at Epoch 1360: 0.7500\n",
      "Classification Report at Epoch 1360:\n",
      "                  precision    recall  f1-score   support\n",
      "\n",
      "    infringement       0.80      0.62      0.70       194\n",
      "non_infringement       0.68      0.84      0.75       186\n",
      "\n",
      "        accuracy                           0.73       380\n",
      "       macro avg       0.74      0.73      0.72       380\n",
      "    weighted avg       0.74      0.73      0.72       380\n",
      "\n"
     ]
    },
    {
     "name": "stderr",
     "output_type": "stream",
     "text": [
      "Training Epochs:  68%|██████▊   | 1370/2000 [05:44<02:38,  3.98it/s]"
     ]
    },
    {
     "name": "stdout",
     "output_type": "stream",
     "text": [
      "Epoch 1370/2000, Loss: 0.0074\n",
      "Test Accuracy at Epoch 1370: 72.89%\n",
      "Test F1-score at Epoch 1370: 0.7518\n",
      "Classification Report at Epoch 1370:\n",
      "                  precision    recall  f1-score   support\n",
      "\n",
      "    infringement       0.80      0.62      0.70       194\n",
      "non_infringement       0.68      0.84      0.75       186\n",
      "\n",
      "        accuracy                           0.73       380\n",
      "       macro avg       0.74      0.73      0.73       380\n",
      "    weighted avg       0.74      0.73      0.73       380\n",
      "\n"
     ]
    },
    {
     "name": "stderr",
     "output_type": "stream",
     "text": [
      "Training Epochs:  69%|██████▉   | 1380/2000 [05:47<02:40,  3.87it/s]"
     ]
    },
    {
     "name": "stdout",
     "output_type": "stream",
     "text": [
      "Epoch 1380/2000, Loss: 0.0074\n",
      "Test Accuracy at Epoch 1380: 72.63%\n",
      "Test F1-score at Epoch 1380: 0.7500\n",
      "Classification Report at Epoch 1380:\n",
      "                  precision    recall  f1-score   support\n",
      "\n",
      "    infringement       0.80      0.62      0.70       194\n",
      "non_infringement       0.68      0.84      0.75       186\n",
      "\n",
      "        accuracy                           0.73       380\n",
      "       macro avg       0.74      0.73      0.72       380\n",
      "    weighted avg       0.74      0.73      0.72       380\n",
      "\n"
     ]
    },
    {
     "name": "stderr",
     "output_type": "stream",
     "text": [
      "Training Epochs:  70%|██████▉   | 1390/2000 [05:49<02:25,  4.20it/s]"
     ]
    },
    {
     "name": "stdout",
     "output_type": "stream",
     "text": [
      "Epoch 1390/2000, Loss: 0.0074\n",
      "Test Accuracy at Epoch 1390: 72.89%\n",
      "Test F1-score at Epoch 1390: 0.7518\n",
      "Classification Report at Epoch 1390:\n",
      "                  precision    recall  f1-score   support\n",
      "\n",
      "    infringement       0.80      0.62      0.70       194\n",
      "non_infringement       0.68      0.84      0.75       186\n",
      "\n",
      "        accuracy                           0.73       380\n",
      "       macro avg       0.74      0.73      0.73       380\n",
      "    weighted avg       0.74      0.73      0.73       380\n",
      "\n"
     ]
    },
    {
     "name": "stderr",
     "output_type": "stream",
     "text": [
      "Training Epochs:  70%|███████   | 1400/2000 [05:52<02:36,  3.83it/s]"
     ]
    },
    {
     "name": "stdout",
     "output_type": "stream",
     "text": [
      "Epoch 1400/2000, Loss: 0.0074\n",
      "Test Accuracy at Epoch 1400: 72.63%\n",
      "Test F1-score at Epoch 1400: 0.7500\n",
      "Classification Report at Epoch 1400:\n",
      "                  precision    recall  f1-score   support\n",
      "\n",
      "    infringement       0.80      0.62      0.70       194\n",
      "non_infringement       0.68      0.84      0.75       186\n",
      "\n",
      "        accuracy                           0.73       380\n",
      "       macro avg       0.74      0.73      0.72       380\n",
      "    weighted avg       0.74      0.73      0.72       380\n",
      "\n"
     ]
    },
    {
     "name": "stderr",
     "output_type": "stream",
     "text": [
      "Training Epochs:  70%|███████   | 1410/2000 [05:54<02:29,  3.94it/s]"
     ]
    },
    {
     "name": "stdout",
     "output_type": "stream",
     "text": [
      "Epoch 1410/2000, Loss: 0.0073\n",
      "Test Accuracy at Epoch 1410: 72.63%\n",
      "Test F1-score at Epoch 1410: 0.7500\n",
      "Classification Report at Epoch 1410:\n",
      "                  precision    recall  f1-score   support\n",
      "\n",
      "    infringement       0.80      0.62      0.70       194\n",
      "non_infringement       0.68      0.84      0.75       186\n",
      "\n",
      "        accuracy                           0.73       380\n",
      "       macro avg       0.74      0.73      0.72       380\n",
      "    weighted avg       0.74      0.73      0.72       380\n",
      "\n"
     ]
    },
    {
     "name": "stderr",
     "output_type": "stream",
     "text": [
      "Training Epochs:  71%|███████   | 1420/2000 [05:56<02:32,  3.80it/s]"
     ]
    },
    {
     "name": "stdout",
     "output_type": "stream",
     "text": [
      "Epoch 1420/2000, Loss: 0.0075\n",
      "Test Accuracy at Epoch 1420: 72.63%\n",
      "Test F1-score at Epoch 1420: 0.7500\n",
      "Classification Report at Epoch 1420:\n",
      "                  precision    recall  f1-score   support\n",
      "\n",
      "    infringement       0.80      0.62      0.70       194\n",
      "non_infringement       0.68      0.84      0.75       186\n",
      "\n",
      "        accuracy                           0.73       380\n",
      "       macro avg       0.74      0.73      0.72       380\n",
      "    weighted avg       0.74      0.73      0.72       380\n",
      "\n"
     ]
    },
    {
     "name": "stderr",
     "output_type": "stream",
     "text": [
      "Training Epochs:  72%|███████▏  | 1430/2000 [05:59<02:24,  3.94it/s]"
     ]
    },
    {
     "name": "stdout",
     "output_type": "stream",
     "text": [
      "Epoch 1430/2000, Loss: 0.0074\n",
      "Test Accuracy at Epoch 1430: 73.16%\n",
      "Test F1-score at Epoch 1430: 0.7524\n",
      "Classification Report at Epoch 1430:\n",
      "                  precision    recall  f1-score   support\n",
      "\n",
      "    infringement       0.80      0.63      0.71       194\n",
      "non_infringement       0.69      0.83      0.75       186\n",
      "\n",
      "        accuracy                           0.73       380\n",
      "       macro avg       0.74      0.73      0.73       380\n",
      "    weighted avg       0.74      0.73      0.73       380\n",
      "\n"
     ]
    },
    {
     "name": "stderr",
     "output_type": "stream",
     "text": [
      "Training Epochs:  72%|███████▏  | 1440/2000 [06:01<02:19,  4.01it/s]"
     ]
    },
    {
     "name": "stdout",
     "output_type": "stream",
     "text": [
      "Epoch 1440/2000, Loss: 0.0073\n",
      "Test Accuracy at Epoch 1440: 73.42%\n",
      "Test F1-score at Epoch 1440: 0.7554\n",
      "Classification Report at Epoch 1440:\n",
      "                  precision    recall  f1-score   support\n",
      "\n",
      "    infringement       0.80      0.63      0.71       194\n",
      "non_infringement       0.69      0.84      0.76       186\n",
      "\n",
      "        accuracy                           0.73       380\n",
      "       macro avg       0.75      0.74      0.73       380\n",
      "    weighted avg       0.75      0.73      0.73       380\n",
      "\n"
     ]
    },
    {
     "name": "stderr",
     "output_type": "stream",
     "text": [
      "Training Epochs:  72%|███████▎  | 1450/2000 [06:04<02:35,  3.53it/s]"
     ]
    },
    {
     "name": "stdout",
     "output_type": "stream",
     "text": [
      "Epoch 1450/2000, Loss: 0.0073\n",
      "Test Accuracy at Epoch 1450: 72.63%\n",
      "Test F1-score at Epoch 1450: 0.7500\n",
      "Classification Report at Epoch 1450:\n",
      "                  precision    recall  f1-score   support\n",
      "\n",
      "    infringement       0.80      0.62      0.70       194\n",
      "non_infringement       0.68      0.84      0.75       186\n",
      "\n",
      "        accuracy                           0.73       380\n",
      "       macro avg       0.74      0.73      0.72       380\n",
      "    weighted avg       0.74      0.73      0.72       380\n",
      "\n"
     ]
    },
    {
     "name": "stderr",
     "output_type": "stream",
     "text": [
      "Training Epochs:  73%|███████▎  | 1460/2000 [06:06<02:16,  3.95it/s]"
     ]
    },
    {
     "name": "stdout",
     "output_type": "stream",
     "text": [
      "Epoch 1460/2000, Loss: 0.0074\n",
      "Test Accuracy at Epoch 1460: 72.63%\n",
      "Test F1-score at Epoch 1460: 0.7500\n",
      "Classification Report at Epoch 1460:\n",
      "                  precision    recall  f1-score   support\n",
      "\n",
      "    infringement       0.80      0.62      0.70       194\n",
      "non_infringement       0.68      0.84      0.75       186\n",
      "\n",
      "        accuracy                           0.73       380\n",
      "       macro avg       0.74      0.73      0.72       380\n",
      "    weighted avg       0.74      0.73      0.72       380\n",
      "\n"
     ]
    },
    {
     "name": "stderr",
     "output_type": "stream",
     "text": [
      "Training Epochs:  74%|███████▎  | 1470/2000 [06:09<02:20,  3.77it/s]"
     ]
    },
    {
     "name": "stdout",
     "output_type": "stream",
     "text": [
      "Epoch 1470/2000, Loss: 0.0073\n",
      "Test Accuracy at Epoch 1470: 72.63%\n",
      "Test F1-score at Epoch 1470: 0.7500\n",
      "Classification Report at Epoch 1470:\n",
      "                  precision    recall  f1-score   support\n",
      "\n",
      "    infringement       0.80      0.62      0.70       194\n",
      "non_infringement       0.68      0.84      0.75       186\n",
      "\n",
      "        accuracy                           0.73       380\n",
      "       macro avg       0.74      0.73      0.72       380\n",
      "    weighted avg       0.74      0.73      0.72       380\n",
      "\n"
     ]
    },
    {
     "name": "stderr",
     "output_type": "stream",
     "text": [
      "Training Epochs:  74%|███████▍  | 1480/2000 [06:11<02:02,  4.23it/s]"
     ]
    },
    {
     "name": "stdout",
     "output_type": "stream",
     "text": [
      "Epoch 1480/2000, Loss: 0.0074\n",
      "Test Accuracy at Epoch 1480: 73.16%\n",
      "Test F1-score at Epoch 1480: 0.7524\n",
      "Classification Report at Epoch 1480:\n",
      "                  precision    recall  f1-score   support\n",
      "\n",
      "    infringement       0.80      0.63      0.71       194\n",
      "non_infringement       0.69      0.83      0.75       186\n",
      "\n",
      "        accuracy                           0.73       380\n",
      "       macro avg       0.74      0.73      0.73       380\n",
      "    weighted avg       0.74      0.73      0.73       380\n",
      "\n"
     ]
    },
    {
     "name": "stderr",
     "output_type": "stream",
     "text": [
      "Training Epochs:  74%|███████▍  | 1490/2000 [06:14<02:05,  4.06it/s]"
     ]
    },
    {
     "name": "stdout",
     "output_type": "stream",
     "text": [
      "Epoch 1490/2000, Loss: 0.0073\n",
      "Test Accuracy at Epoch 1490: 72.63%\n",
      "Test F1-score at Epoch 1490: 0.7500\n",
      "Classification Report at Epoch 1490:\n",
      "                  precision    recall  f1-score   support\n",
      "\n",
      "    infringement       0.80      0.62      0.70       194\n",
      "non_infringement       0.68      0.84      0.75       186\n",
      "\n",
      "        accuracy                           0.73       380\n",
      "       macro avg       0.74      0.73      0.72       380\n",
      "    weighted avg       0.74      0.73      0.72       380\n",
      "\n"
     ]
    },
    {
     "name": "stderr",
     "output_type": "stream",
     "text": [
      "Training Epochs:  75%|███████▌  | 1500/2000 [06:16<02:03,  4.06it/s]"
     ]
    },
    {
     "name": "stdout",
     "output_type": "stream",
     "text": [
      "Epoch 1500/2000, Loss: 0.0073\n",
      "Test Accuracy at Epoch 1500: 72.63%\n",
      "Test F1-score at Epoch 1500: 0.7500\n",
      "Classification Report at Epoch 1500:\n",
      "                  precision    recall  f1-score   support\n",
      "\n",
      "    infringement       0.80      0.62      0.70       194\n",
      "non_infringement       0.68      0.84      0.75       186\n",
      "\n",
      "        accuracy                           0.73       380\n",
      "       macro avg       0.74      0.73      0.72       380\n",
      "    weighted avg       0.74      0.73      0.72       380\n",
      "\n"
     ]
    },
    {
     "name": "stderr",
     "output_type": "stream",
     "text": [
      "Training Epochs:  76%|███████▌  | 1510/2000 [06:19<01:56,  4.20it/s]"
     ]
    },
    {
     "name": "stdout",
     "output_type": "stream",
     "text": [
      "Epoch 1510/2000, Loss: 0.0074\n",
      "Test Accuracy at Epoch 1510: 72.63%\n",
      "Test F1-score at Epoch 1510: 0.7500\n",
      "Classification Report at Epoch 1510:\n",
      "                  precision    recall  f1-score   support\n",
      "\n",
      "    infringement       0.80      0.62      0.70       194\n",
      "non_infringement       0.68      0.84      0.75       186\n",
      "\n",
      "        accuracy                           0.73       380\n",
      "       macro avg       0.74      0.73      0.72       380\n",
      "    weighted avg       0.74      0.73      0.72       380\n",
      "\n"
     ]
    },
    {
     "name": "stderr",
     "output_type": "stream",
     "text": [
      "Training Epochs:  76%|███████▌  | 1520/2000 [06:21<01:59,  4.01it/s]"
     ]
    },
    {
     "name": "stdout",
     "output_type": "stream",
     "text": [
      "Epoch 1520/2000, Loss: 0.0073\n",
      "Test Accuracy at Epoch 1520: 72.63%\n",
      "Test F1-score at Epoch 1520: 0.7500\n",
      "Classification Report at Epoch 1520:\n",
      "                  precision    recall  f1-score   support\n",
      "\n",
      "    infringement       0.80      0.62      0.70       194\n",
      "non_infringement       0.68      0.84      0.75       186\n",
      "\n",
      "        accuracy                           0.73       380\n",
      "       macro avg       0.74      0.73      0.72       380\n",
      "    weighted avg       0.74      0.73      0.72       380\n",
      "\n"
     ]
    },
    {
     "name": "stderr",
     "output_type": "stream",
     "text": [
      "Training Epochs:  76%|███████▋  | 1530/2000 [06:23<01:45,  4.46it/s]"
     ]
    },
    {
     "name": "stdout",
     "output_type": "stream",
     "text": [
      "Epoch 1530/2000, Loss: 0.0073\n",
      "Test Accuracy at Epoch 1530: 73.42%\n",
      "Test F1-score at Epoch 1530: 0.7554\n",
      "Classification Report at Epoch 1530:\n",
      "                  precision    recall  f1-score   support\n",
      "\n",
      "    infringement       0.80      0.63      0.71       194\n",
      "non_infringement       0.69      0.84      0.76       186\n",
      "\n",
      "        accuracy                           0.73       380\n",
      "       macro avg       0.75      0.74      0.73       380\n",
      "    weighted avg       0.75      0.73      0.73       380\n",
      "\n"
     ]
    },
    {
     "name": "stderr",
     "output_type": "stream",
     "text": [
      "Training Epochs:  77%|███████▋  | 1540/2000 [06:25<01:43,  4.46it/s]"
     ]
    },
    {
     "name": "stdout",
     "output_type": "stream",
     "text": [
      "Epoch 1540/2000, Loss: 0.0073\n",
      "Test Accuracy at Epoch 1540: 72.63%\n",
      "Test F1-score at Epoch 1540: 0.7500\n",
      "Classification Report at Epoch 1540:\n",
      "                  precision    recall  f1-score   support\n",
      "\n",
      "    infringement       0.80      0.62      0.70       194\n",
      "non_infringement       0.68      0.84      0.75       186\n",
      "\n",
      "        accuracy                           0.73       380\n",
      "       macro avg       0.74      0.73      0.72       380\n",
      "    weighted avg       0.74      0.73      0.72       380\n",
      "\n"
     ]
    },
    {
     "name": "stderr",
     "output_type": "stream",
     "text": [
      "Training Epochs:  78%|███████▊  | 1550/2000 [06:27<01:38,  4.59it/s]"
     ]
    },
    {
     "name": "stdout",
     "output_type": "stream",
     "text": [
      "Epoch 1550/2000, Loss: 0.0074\n",
      "Test Accuracy at Epoch 1550: 73.42%\n",
      "Test F1-score at Epoch 1550: 0.7554\n",
      "Classification Report at Epoch 1550:\n",
      "                  precision    recall  f1-score   support\n",
      "\n",
      "    infringement       0.80      0.63      0.71       194\n",
      "non_infringement       0.69      0.84      0.76       186\n",
      "\n",
      "        accuracy                           0.73       380\n",
      "       macro avg       0.75      0.74      0.73       380\n",
      "    weighted avg       0.75      0.73      0.73       380\n",
      "\n"
     ]
    },
    {
     "name": "stderr",
     "output_type": "stream",
     "text": [
      "Training Epochs:  78%|███████▊  | 1560/2000 [06:30<01:43,  4.25it/s]"
     ]
    },
    {
     "name": "stdout",
     "output_type": "stream",
     "text": [
      "Epoch 1560/2000, Loss: 0.0074\n",
      "Test Accuracy at Epoch 1560: 73.42%\n",
      "Test F1-score at Epoch 1560: 0.7554\n",
      "Classification Report at Epoch 1560:\n",
      "                  precision    recall  f1-score   support\n",
      "\n",
      "    infringement       0.80      0.63      0.71       194\n",
      "non_infringement       0.69      0.84      0.76       186\n",
      "\n",
      "        accuracy                           0.73       380\n",
      "       macro avg       0.75      0.74      0.73       380\n",
      "    weighted avg       0.75      0.73      0.73       380\n",
      "\n"
     ]
    },
    {
     "name": "stderr",
     "output_type": "stream",
     "text": [
      "Training Epochs:  78%|███████▊  | 1570/2000 [06:32<01:45,  4.09it/s]"
     ]
    },
    {
     "name": "stdout",
     "output_type": "stream",
     "text": [
      "Epoch 1570/2000, Loss: 0.0074\n",
      "Test Accuracy at Epoch 1570: 72.63%\n",
      "Test F1-score at Epoch 1570: 0.7500\n",
      "Classification Report at Epoch 1570:\n",
      "                  precision    recall  f1-score   support\n",
      "\n",
      "    infringement       0.80      0.62      0.70       194\n",
      "non_infringement       0.68      0.84      0.75       186\n",
      "\n",
      "        accuracy                           0.73       380\n",
      "       macro avg       0.74      0.73      0.72       380\n",
      "    weighted avg       0.74      0.73      0.72       380\n",
      "\n"
     ]
    },
    {
     "name": "stderr",
     "output_type": "stream",
     "text": [
      "Training Epochs:  79%|███████▉  | 1580/2000 [06:34<01:54,  3.67it/s]"
     ]
    },
    {
     "name": "stdout",
     "output_type": "stream",
     "text": [
      "Epoch 1580/2000, Loss: 0.0073\n",
      "Test Accuracy at Epoch 1580: 73.42%\n",
      "Test F1-score at Epoch 1580: 0.7554\n",
      "Classification Report at Epoch 1580:\n",
      "                  precision    recall  f1-score   support\n",
      "\n",
      "    infringement       0.80      0.63      0.71       194\n",
      "non_infringement       0.69      0.84      0.76       186\n",
      "\n",
      "        accuracy                           0.73       380\n",
      "       macro avg       0.75      0.74      0.73       380\n",
      "    weighted avg       0.75      0.73      0.73       380\n",
      "\n"
     ]
    },
    {
     "name": "stderr",
     "output_type": "stream",
     "text": [
      "Training Epochs:  80%|███████▉  | 1590/2000 [06:37<01:41,  4.04it/s]"
     ]
    },
    {
     "name": "stdout",
     "output_type": "stream",
     "text": [
      "Epoch 1590/2000, Loss: 0.0073\n",
      "Test Accuracy at Epoch 1590: 73.16%\n",
      "Test F1-score at Epoch 1590: 0.7536\n",
      "Classification Report at Epoch 1590:\n",
      "                  precision    recall  f1-score   support\n",
      "\n",
      "    infringement       0.80      0.63      0.71       194\n",
      "non_infringement       0.68      0.84      0.75       186\n",
      "\n",
      "        accuracy                           0.73       380\n",
      "       macro avg       0.74      0.73      0.73       380\n",
      "    weighted avg       0.74      0.73      0.73       380\n",
      "\n"
     ]
    },
    {
     "name": "stderr",
     "output_type": "stream",
     "text": [
      "Training Epochs:  80%|████████  | 1600/2000 [06:39<01:48,  3.70it/s]"
     ]
    },
    {
     "name": "stdout",
     "output_type": "stream",
     "text": [
      "Epoch 1600/2000, Loss: 0.0074\n",
      "Test Accuracy at Epoch 1600: 73.42%\n",
      "Test F1-score at Epoch 1600: 0.7554\n",
      "Classification Report at Epoch 1600:\n",
      "                  precision    recall  f1-score   support\n",
      "\n",
      "    infringement       0.80      0.63      0.71       194\n",
      "non_infringement       0.69      0.84      0.76       186\n",
      "\n",
      "        accuracy                           0.73       380\n",
      "       macro avg       0.75      0.74      0.73       380\n",
      "    weighted avg       0.75      0.73      0.73       380\n",
      "\n"
     ]
    },
    {
     "name": "stderr",
     "output_type": "stream",
     "text": [
      "Training Epochs:  80%|████████  | 1610/2000 [06:42<01:41,  3.82it/s]"
     ]
    },
    {
     "name": "stdout",
     "output_type": "stream",
     "text": [
      "Epoch 1610/2000, Loss: 0.0073\n",
      "Test Accuracy at Epoch 1610: 73.42%\n",
      "Test F1-score at Epoch 1610: 0.7554\n",
      "Classification Report at Epoch 1610:\n",
      "                  precision    recall  f1-score   support\n",
      "\n",
      "    infringement       0.80      0.63      0.71       194\n",
      "non_infringement       0.69      0.84      0.76       186\n",
      "\n",
      "        accuracy                           0.73       380\n",
      "       macro avg       0.75      0.74      0.73       380\n",
      "    weighted avg       0.75      0.73      0.73       380\n",
      "\n"
     ]
    },
    {
     "name": "stderr",
     "output_type": "stream",
     "text": [
      "Training Epochs:  81%|████████  | 1620/2000 [06:44<01:38,  3.85it/s]"
     ]
    },
    {
     "name": "stdout",
     "output_type": "stream",
     "text": [
      "Epoch 1620/2000, Loss: 0.0074\n",
      "Test Accuracy at Epoch 1620: 72.63%\n",
      "Test F1-score at Epoch 1620: 0.7500\n",
      "Classification Report at Epoch 1620:\n",
      "                  precision    recall  f1-score   support\n",
      "\n",
      "    infringement       0.80      0.62      0.70       194\n",
      "non_infringement       0.68      0.84      0.75       186\n",
      "\n",
      "        accuracy                           0.73       380\n",
      "       macro avg       0.74      0.73      0.72       380\n",
      "    weighted avg       0.74      0.73      0.72       380\n",
      "\n"
     ]
    },
    {
     "name": "stderr",
     "output_type": "stream",
     "text": [
      "Training Epochs:  82%|████████▏ | 1630/2000 [06:47<01:30,  4.07it/s]"
     ]
    },
    {
     "name": "stdout",
     "output_type": "stream",
     "text": [
      "Epoch 1630/2000, Loss: 0.0074\n",
      "Test Accuracy at Epoch 1630: 72.63%\n",
      "Test F1-score at Epoch 1630: 0.7500\n",
      "Classification Report at Epoch 1630:\n",
      "                  precision    recall  f1-score   support\n",
      "\n",
      "    infringement       0.80      0.62      0.70       194\n",
      "non_infringement       0.68      0.84      0.75       186\n",
      "\n",
      "        accuracy                           0.73       380\n",
      "       macro avg       0.74      0.73      0.72       380\n",
      "    weighted avg       0.74      0.73      0.72       380\n",
      "\n"
     ]
    },
    {
     "name": "stderr",
     "output_type": "stream",
     "text": [
      "Training Epochs:  82%|████████▏ | 1640/2000 [06:49<01:37,  3.70it/s]"
     ]
    },
    {
     "name": "stdout",
     "output_type": "stream",
     "text": [
      "Epoch 1640/2000, Loss: 0.0073\n",
      "Test Accuracy at Epoch 1640: 73.42%\n",
      "Test F1-score at Epoch 1640: 0.7554\n",
      "Classification Report at Epoch 1640:\n",
      "                  precision    recall  f1-score   support\n",
      "\n",
      "    infringement       0.80      0.63      0.71       194\n",
      "non_infringement       0.69      0.84      0.76       186\n",
      "\n",
      "        accuracy                           0.73       380\n",
      "       macro avg       0.75      0.74      0.73       380\n",
      "    weighted avg       0.75      0.73      0.73       380\n",
      "\n"
     ]
    },
    {
     "name": "stderr",
     "output_type": "stream",
     "text": [
      "Training Epochs:  82%|████████▎ | 1650/2000 [06:52<01:30,  3.86it/s]"
     ]
    },
    {
     "name": "stdout",
     "output_type": "stream",
     "text": [
      "Epoch 1650/2000, Loss: 0.0074\n",
      "Test Accuracy at Epoch 1650: 73.42%\n",
      "Test F1-score at Epoch 1650: 0.7554\n",
      "Classification Report at Epoch 1650:\n",
      "                  precision    recall  f1-score   support\n",
      "\n",
      "    infringement       0.80      0.63      0.71       194\n",
      "non_infringement       0.69      0.84      0.76       186\n",
      "\n",
      "        accuracy                           0.73       380\n",
      "       macro avg       0.75      0.74      0.73       380\n",
      "    weighted avg       0.75      0.73      0.73       380\n",
      "\n"
     ]
    },
    {
     "name": "stderr",
     "output_type": "stream",
     "text": [
      "Training Epochs:  83%|████████▎ | 1660/2000 [06:54<01:33,  3.64it/s]"
     ]
    },
    {
     "name": "stdout",
     "output_type": "stream",
     "text": [
      "Epoch 1660/2000, Loss: 0.0074\n",
      "Test Accuracy at Epoch 1660: 73.42%\n",
      "Test F1-score at Epoch 1660: 0.7554\n",
      "Classification Report at Epoch 1660:\n",
      "                  precision    recall  f1-score   support\n",
      "\n",
      "    infringement       0.80      0.63      0.71       194\n",
      "non_infringement       0.69      0.84      0.76       186\n",
      "\n",
      "        accuracy                           0.73       380\n",
      "       macro avg       0.75      0.74      0.73       380\n",
      "    weighted avg       0.75      0.73      0.73       380\n",
      "\n"
     ]
    },
    {
     "name": "stderr",
     "output_type": "stream",
     "text": [
      "Training Epochs:  84%|████████▎ | 1670/2000 [06:57<01:20,  4.11it/s]"
     ]
    },
    {
     "name": "stdout",
     "output_type": "stream",
     "text": [
      "Epoch 1670/2000, Loss: 0.0073\n",
      "Test Accuracy at Epoch 1670: 73.16%\n",
      "Test F1-score at Epoch 1670: 0.7536\n",
      "Classification Report at Epoch 1670:\n",
      "                  precision    recall  f1-score   support\n",
      "\n",
      "    infringement       0.80      0.63      0.71       194\n",
      "non_infringement       0.68      0.84      0.75       186\n",
      "\n",
      "        accuracy                           0.73       380\n",
      "       macro avg       0.74      0.73      0.73       380\n",
      "    weighted avg       0.74      0.73      0.73       380\n",
      "\n"
     ]
    },
    {
     "name": "stderr",
     "output_type": "stream",
     "text": [
      "Training Epochs:  84%|████████▍ | 1680/2000 [06:59<01:20,  3.95it/s]"
     ]
    },
    {
     "name": "stdout",
     "output_type": "stream",
     "text": [
      "Epoch 1680/2000, Loss: 0.0073\n",
      "Test Accuracy at Epoch 1680: 73.42%\n",
      "Test F1-score at Epoch 1680: 0.7554\n",
      "Classification Report at Epoch 1680:\n",
      "                  precision    recall  f1-score   support\n",
      "\n",
      "    infringement       0.80      0.63      0.71       194\n",
      "non_infringement       0.69      0.84      0.76       186\n",
      "\n",
      "        accuracy                           0.73       380\n",
      "       macro avg       0.75      0.74      0.73       380\n",
      "    weighted avg       0.75      0.73      0.73       380\n",
      "\n"
     ]
    },
    {
     "name": "stderr",
     "output_type": "stream",
     "text": [
      "Training Epochs:  84%|████████▍ | 1690/2000 [07:01<01:07,  4.62it/s]"
     ]
    },
    {
     "name": "stdout",
     "output_type": "stream",
     "text": [
      "Epoch 1690/2000, Loss: 0.0075\n",
      "Test Accuracy at Epoch 1690: 73.42%\n",
      "Test F1-score at Epoch 1690: 0.7554\n",
      "Classification Report at Epoch 1690:\n",
      "                  precision    recall  f1-score   support\n",
      "\n",
      "    infringement       0.80      0.63      0.71       194\n",
      "non_infringement       0.69      0.84      0.76       186\n",
      "\n",
      "        accuracy                           0.73       380\n",
      "       macro avg       0.75      0.74      0.73       380\n",
      "    weighted avg       0.75      0.73      0.73       380\n",
      "\n"
     ]
    },
    {
     "name": "stderr",
     "output_type": "stream",
     "text": [
      "Training Epochs:  85%|████████▌ | 1700/2000 [07:03<01:09,  4.31it/s]"
     ]
    },
    {
     "name": "stdout",
     "output_type": "stream",
     "text": [
      "Epoch 1700/2000, Loss: 0.0073\n",
      "Test Accuracy at Epoch 1700: 72.89%\n",
      "Test F1-score at Epoch 1700: 0.7518\n",
      "Classification Report at Epoch 1700:\n",
      "                  precision    recall  f1-score   support\n",
      "\n",
      "    infringement       0.80      0.62      0.70       194\n",
      "non_infringement       0.68      0.84      0.75       186\n",
      "\n",
      "        accuracy                           0.73       380\n",
      "       macro avg       0.74      0.73      0.73       380\n",
      "    weighted avg       0.74      0.73      0.73       380\n",
      "\n"
     ]
    },
    {
     "name": "stderr",
     "output_type": "stream",
     "text": [
      "Training Epochs:  86%|████████▌ | 1710/2000 [07:06<01:12,  4.00it/s]"
     ]
    },
    {
     "name": "stdout",
     "output_type": "stream",
     "text": [
      "Epoch 1710/2000, Loss: 0.0073\n",
      "Test Accuracy at Epoch 1710: 72.63%\n",
      "Test F1-score at Epoch 1710: 0.7500\n",
      "Classification Report at Epoch 1710:\n",
      "                  precision    recall  f1-score   support\n",
      "\n",
      "    infringement       0.80      0.62      0.70       194\n",
      "non_infringement       0.68      0.84      0.75       186\n",
      "\n",
      "        accuracy                           0.73       380\n",
      "       macro avg       0.74      0.73      0.72       380\n",
      "    weighted avg       0.74      0.73      0.72       380\n",
      "\n"
     ]
    },
    {
     "name": "stderr",
     "output_type": "stream",
     "text": [
      "Training Epochs:  86%|████████▌ | 1720/2000 [07:08<01:06,  4.21it/s]"
     ]
    },
    {
     "name": "stdout",
     "output_type": "stream",
     "text": [
      "Epoch 1720/2000, Loss: 0.0073\n",
      "Test Accuracy at Epoch 1720: 72.63%\n",
      "Test F1-score at Epoch 1720: 0.7500\n",
      "Classification Report at Epoch 1720:\n",
      "                  precision    recall  f1-score   support\n",
      "\n",
      "    infringement       0.80      0.62      0.70       194\n",
      "non_infringement       0.68      0.84      0.75       186\n",
      "\n",
      "        accuracy                           0.73       380\n",
      "       macro avg       0.74      0.73      0.72       380\n",
      "    weighted avg       0.74      0.73      0.72       380\n",
      "\n"
     ]
    },
    {
     "name": "stderr",
     "output_type": "stream",
     "text": [
      "Training Epochs:  86%|████████▋ | 1730/2000 [07:10<01:10,  3.84it/s]"
     ]
    },
    {
     "name": "stdout",
     "output_type": "stream",
     "text": [
      "Epoch 1730/2000, Loss: 0.0073\n",
      "Test Accuracy at Epoch 1730: 72.63%\n",
      "Test F1-score at Epoch 1730: 0.7500\n",
      "Classification Report at Epoch 1730:\n",
      "                  precision    recall  f1-score   support\n",
      "\n",
      "    infringement       0.80      0.62      0.70       194\n",
      "non_infringement       0.68      0.84      0.75       186\n",
      "\n",
      "        accuracy                           0.73       380\n",
      "       macro avg       0.74      0.73      0.72       380\n",
      "    weighted avg       0.74      0.73      0.72       380\n",
      "\n"
     ]
    },
    {
     "name": "stderr",
     "output_type": "stream",
     "text": [
      "Training Epochs:  87%|████████▋ | 1740/2000 [07:12<00:57,  4.51it/s]"
     ]
    },
    {
     "name": "stdout",
     "output_type": "stream",
     "text": [
      "Epoch 1740/2000, Loss: 0.0074\n",
      "Test Accuracy at Epoch 1740: 72.89%\n",
      "Test F1-score at Epoch 1740: 0.7518\n",
      "Classification Report at Epoch 1740:\n",
      "                  precision    recall  f1-score   support\n",
      "\n",
      "    infringement       0.80      0.62      0.70       194\n",
      "non_infringement       0.68      0.84      0.75       186\n",
      "\n",
      "        accuracy                           0.73       380\n",
      "       macro avg       0.74      0.73      0.73       380\n",
      "    weighted avg       0.74      0.73      0.73       380\n",
      "\n"
     ]
    },
    {
     "name": "stderr",
     "output_type": "stream",
     "text": [
      "Training Epochs:  88%|████████▊ | 1750/2000 [07:15<00:53,  4.66it/s]"
     ]
    },
    {
     "name": "stdout",
     "output_type": "stream",
     "text": [
      "Epoch 1750/2000, Loss: 0.0073\n",
      "Test Accuracy at Epoch 1750: 72.37%\n",
      "Test F1-score at Epoch 1750: 0.7470\n",
      "Classification Report at Epoch 1750:\n",
      "                  precision    recall  f1-score   support\n",
      "\n",
      "    infringement       0.79      0.62      0.70       194\n",
      "non_infringement       0.68      0.83      0.75       186\n",
      "\n",
      "        accuracy                           0.72       380\n",
      "       macro avg       0.74      0.73      0.72       380\n",
      "    weighted avg       0.74      0.72      0.72       380\n",
      "\n"
     ]
    },
    {
     "name": "stderr",
     "output_type": "stream",
     "text": [
      "Training Epochs:  88%|████████▊ | 1760/2000 [07:17<00:54,  4.38it/s]"
     ]
    },
    {
     "name": "stdout",
     "output_type": "stream",
     "text": [
      "Epoch 1760/2000, Loss: 0.0073\n",
      "Test Accuracy at Epoch 1760: 72.37%\n",
      "Test F1-score at Epoch 1760: 0.7470\n",
      "Classification Report at Epoch 1760:\n",
      "                  precision    recall  f1-score   support\n",
      "\n",
      "    infringement       0.79      0.62      0.70       194\n",
      "non_infringement       0.68      0.83      0.75       186\n",
      "\n",
      "        accuracy                           0.72       380\n",
      "       macro avg       0.74      0.73      0.72       380\n",
      "    weighted avg       0.74      0.72      0.72       380\n",
      "\n"
     ]
    },
    {
     "name": "stderr",
     "output_type": "stream",
     "text": [
      "Training Epochs:  88%|████████▊ | 1770/2000 [07:19<00:52,  4.37it/s]"
     ]
    },
    {
     "name": "stdout",
     "output_type": "stream",
     "text": [
      "Epoch 1770/2000, Loss: 0.0073\n",
      "Test Accuracy at Epoch 1770: 72.63%\n",
      "Test F1-score at Epoch 1770: 0.7500\n",
      "Classification Report at Epoch 1770:\n",
      "                  precision    recall  f1-score   support\n",
      "\n",
      "    infringement       0.80      0.62      0.70       194\n",
      "non_infringement       0.68      0.84      0.75       186\n",
      "\n",
      "        accuracy                           0.73       380\n",
      "       macro avg       0.74      0.73      0.72       380\n",
      "    weighted avg       0.74      0.73      0.72       380\n",
      "\n"
     ]
    },
    {
     "name": "stderr",
     "output_type": "stream",
     "text": [
      "Training Epochs:  89%|████████▉ | 1780/2000 [07:21<00:55,  3.99it/s]"
     ]
    },
    {
     "name": "stdout",
     "output_type": "stream",
     "text": [
      "Epoch 1780/2000, Loss: 0.0073\n",
      "Test Accuracy at Epoch 1780: 73.16%\n",
      "Test F1-score at Epoch 1780: 0.7524\n",
      "Classification Report at Epoch 1780:\n",
      "                  precision    recall  f1-score   support\n",
      "\n",
      "    infringement       0.80      0.63      0.71       194\n",
      "non_infringement       0.69      0.83      0.75       186\n",
      "\n",
      "        accuracy                           0.73       380\n",
      "       macro avg       0.74      0.73      0.73       380\n",
      "    weighted avg       0.74      0.73      0.73       380\n",
      "\n"
     ]
    },
    {
     "name": "stderr",
     "output_type": "stream",
     "text": [
      "Training Epochs:  90%|████████▉ | 1790/2000 [07:23<00:46,  4.51it/s]"
     ]
    },
    {
     "name": "stdout",
     "output_type": "stream",
     "text": [
      "Epoch 1790/2000, Loss: 0.0073\n",
      "Test Accuracy at Epoch 1790: 73.16%\n",
      "Test F1-score at Epoch 1790: 0.7524\n",
      "Classification Report at Epoch 1790:\n",
      "                  precision    recall  f1-score   support\n",
      "\n",
      "    infringement       0.80      0.63      0.71       194\n",
      "non_infringement       0.69      0.83      0.75       186\n",
      "\n",
      "        accuracy                           0.73       380\n",
      "       macro avg       0.74      0.73      0.73       380\n",
      "    weighted avg       0.74      0.73      0.73       380\n",
      "\n"
     ]
    },
    {
     "name": "stderr",
     "output_type": "stream",
     "text": [
      "Training Epochs:  90%|█████████ | 1800/2000 [07:26<00:49,  4.00it/s]"
     ]
    },
    {
     "name": "stdout",
     "output_type": "stream",
     "text": [
      "Epoch 1800/2000, Loss: 0.0073\n",
      "Test Accuracy at Epoch 1800: 72.37%\n",
      "Test F1-score at Epoch 1800: 0.7470\n",
      "Classification Report at Epoch 1800:\n",
      "                  precision    recall  f1-score   support\n",
      "\n",
      "    infringement       0.79      0.62      0.70       194\n",
      "non_infringement       0.68      0.83      0.75       186\n",
      "\n",
      "        accuracy                           0.72       380\n",
      "       macro avg       0.74      0.73      0.72       380\n",
      "    weighted avg       0.74      0.72      0.72       380\n",
      "\n"
     ]
    },
    {
     "name": "stderr",
     "output_type": "stream",
     "text": [
      "Training Epochs:  90%|█████████ | 1810/2000 [07:28<00:43,  4.32it/s]"
     ]
    },
    {
     "name": "stdout",
     "output_type": "stream",
     "text": [
      "Epoch 1810/2000, Loss: 0.0073\n",
      "Test Accuracy at Epoch 1810: 73.16%\n",
      "Test F1-score at Epoch 1810: 0.7524\n",
      "Classification Report at Epoch 1810:\n",
      "                  precision    recall  f1-score   support\n",
      "\n",
      "    infringement       0.80      0.63      0.71       194\n",
      "non_infringement       0.69      0.83      0.75       186\n",
      "\n",
      "        accuracy                           0.73       380\n",
      "       macro avg       0.74      0.73      0.73       380\n",
      "    weighted avg       0.74      0.73      0.73       380\n",
      "\n"
     ]
    },
    {
     "name": "stderr",
     "output_type": "stream",
     "text": [
      "Training Epochs:  91%|█████████ | 1820/2000 [07:31<00:50,  3.54it/s]"
     ]
    },
    {
     "name": "stdout",
     "output_type": "stream",
     "text": [
      "Epoch 1820/2000, Loss: 0.0075\n",
      "Test Accuracy at Epoch 1820: 72.37%\n",
      "Test F1-score at Epoch 1820: 0.7470\n",
      "Classification Report at Epoch 1820:\n",
      "                  precision    recall  f1-score   support\n",
      "\n",
      "    infringement       0.79      0.62      0.70       194\n",
      "non_infringement       0.68      0.83      0.75       186\n",
      "\n",
      "        accuracy                           0.72       380\n",
      "       macro avg       0.74      0.73      0.72       380\n",
      "    weighted avg       0.74      0.72      0.72       380\n",
      "\n"
     ]
    },
    {
     "name": "stderr",
     "output_type": "stream",
     "text": [
      "Training Epochs:  92%|█████████▏| 1830/2000 [07:33<00:44,  3.84it/s]"
     ]
    },
    {
     "name": "stdout",
     "output_type": "stream",
     "text": [
      "Epoch 1830/2000, Loss: 0.0073\n",
      "Test Accuracy at Epoch 1830: 73.16%\n",
      "Test F1-score at Epoch 1830: 0.7524\n",
      "Classification Report at Epoch 1830:\n",
      "                  precision    recall  f1-score   support\n",
      "\n",
      "    infringement       0.80      0.63      0.71       194\n",
      "non_infringement       0.69      0.83      0.75       186\n",
      "\n",
      "        accuracy                           0.73       380\n",
      "       macro avg       0.74      0.73      0.73       380\n",
      "    weighted avg       0.74      0.73      0.73       380\n",
      "\n"
     ]
    },
    {
     "name": "stderr",
     "output_type": "stream",
     "text": [
      "Training Epochs:  92%|█████████▏| 1840/2000 [07:36<00:40,  3.93it/s]"
     ]
    },
    {
     "name": "stdout",
     "output_type": "stream",
     "text": [
      "Epoch 1840/2000, Loss: 0.0073\n",
      "Test Accuracy at Epoch 1840: 72.37%\n",
      "Test F1-score at Epoch 1840: 0.7470\n",
      "Classification Report at Epoch 1840:\n",
      "                  precision    recall  f1-score   support\n",
      "\n",
      "    infringement       0.79      0.62      0.70       194\n",
      "non_infringement       0.68      0.83      0.75       186\n",
      "\n",
      "        accuracy                           0.72       380\n",
      "       macro avg       0.74      0.73      0.72       380\n",
      "    weighted avg       0.74      0.72      0.72       380\n",
      "\n"
     ]
    },
    {
     "name": "stderr",
     "output_type": "stream",
     "text": [
      "Training Epochs:  92%|█████████▎| 1850/2000 [07:38<00:37,  4.02it/s]"
     ]
    },
    {
     "name": "stdout",
     "output_type": "stream",
     "text": [
      "Epoch 1850/2000, Loss: 0.0073\n",
      "Test Accuracy at Epoch 1850: 73.16%\n",
      "Test F1-score at Epoch 1850: 0.7524\n",
      "Classification Report at Epoch 1850:\n",
      "                  precision    recall  f1-score   support\n",
      "\n",
      "    infringement       0.80      0.63      0.71       194\n",
      "non_infringement       0.69      0.83      0.75       186\n",
      "\n",
      "        accuracy                           0.73       380\n",
      "       macro avg       0.74      0.73      0.73       380\n",
      "    weighted avg       0.74      0.73      0.73       380\n",
      "\n"
     ]
    },
    {
     "name": "stderr",
     "output_type": "stream",
     "text": [
      "Training Epochs:  93%|█████████▎| 1860/2000 [07:40<00:34,  4.07it/s]"
     ]
    },
    {
     "name": "stdout",
     "output_type": "stream",
     "text": [
      "Epoch 1860/2000, Loss: 0.0073\n",
      "Test Accuracy at Epoch 1860: 72.37%\n",
      "Test F1-score at Epoch 1860: 0.7470\n",
      "Classification Report at Epoch 1860:\n",
      "                  precision    recall  f1-score   support\n",
      "\n",
      "    infringement       0.79      0.62      0.70       194\n",
      "non_infringement       0.68      0.83      0.75       186\n",
      "\n",
      "        accuracy                           0.72       380\n",
      "       macro avg       0.74      0.73      0.72       380\n",
      "    weighted avg       0.74      0.72      0.72       380\n",
      "\n"
     ]
    },
    {
     "name": "stderr",
     "output_type": "stream",
     "text": [
      "Training Epochs:  94%|█████████▎| 1870/2000 [07:43<00:50,  2.57it/s]"
     ]
    },
    {
     "name": "stdout",
     "output_type": "stream",
     "text": [
      "Epoch 1870/2000, Loss: 0.0074\n",
      "Test Accuracy at Epoch 1870: 72.37%\n",
      "Test F1-score at Epoch 1870: 0.7470\n",
      "Classification Report at Epoch 1870:\n",
      "                  precision    recall  f1-score   support\n",
      "\n",
      "    infringement       0.79      0.62      0.70       194\n",
      "non_infringement       0.68      0.83      0.75       186\n",
      "\n",
      "        accuracy                           0.72       380\n",
      "       macro avg       0.74      0.73      0.72       380\n",
      "    weighted avg       0.74      0.72      0.72       380\n",
      "\n"
     ]
    },
    {
     "name": "stderr",
     "output_type": "stream",
     "text": [
      "Training Epochs:  94%|█████████▍| 1880/2000 [07:46<00:31,  3.83it/s]"
     ]
    },
    {
     "name": "stdout",
     "output_type": "stream",
     "text": [
      "Epoch 1880/2000, Loss: 0.0073\n",
      "Test Accuracy at Epoch 1880: 73.16%\n",
      "Test F1-score at Epoch 1880: 0.7524\n",
      "Classification Report at Epoch 1880:\n",
      "                  precision    recall  f1-score   support\n",
      "\n",
      "    infringement       0.80      0.63      0.71       194\n",
      "non_infringement       0.69      0.83      0.75       186\n",
      "\n",
      "        accuracy                           0.73       380\n",
      "       macro avg       0.74      0.73      0.73       380\n",
      "    weighted avg       0.74      0.73      0.73       380\n",
      "\n"
     ]
    },
    {
     "name": "stderr",
     "output_type": "stream",
     "text": [
      "Training Epochs:  94%|█████████▍| 1890/2000 [07:49<00:36,  3.02it/s]"
     ]
    },
    {
     "name": "stdout",
     "output_type": "stream",
     "text": [
      "Epoch 1890/2000, Loss: 0.0073\n",
      "Test Accuracy at Epoch 1890: 73.16%\n",
      "Test F1-score at Epoch 1890: 0.7524\n",
      "Classification Report at Epoch 1890:\n",
      "                  precision    recall  f1-score   support\n",
      "\n",
      "    infringement       0.80      0.63      0.71       194\n",
      "non_infringement       0.69      0.83      0.75       186\n",
      "\n",
      "        accuracy                           0.73       380\n",
      "       macro avg       0.74      0.73      0.73       380\n",
      "    weighted avg       0.74      0.73      0.73       380\n",
      "\n"
     ]
    },
    {
     "name": "stderr",
     "output_type": "stream",
     "text": [
      "Training Epochs:  95%|█████████▌| 1900/2000 [07:52<00:25,  3.96it/s]"
     ]
    },
    {
     "name": "stdout",
     "output_type": "stream",
     "text": [
      "Epoch 1900/2000, Loss: 0.0073\n",
      "Test Accuracy at Epoch 1900: 73.16%\n",
      "Test F1-score at Epoch 1900: 0.7524\n",
      "Classification Report at Epoch 1900:\n",
      "                  precision    recall  f1-score   support\n",
      "\n",
      "    infringement       0.80      0.63      0.71       194\n",
      "non_infringement       0.69      0.83      0.75       186\n",
      "\n",
      "        accuracy                           0.73       380\n",
      "       macro avg       0.74      0.73      0.73       380\n",
      "    weighted avg       0.74      0.73      0.73       380\n",
      "\n"
     ]
    },
    {
     "name": "stderr",
     "output_type": "stream",
     "text": [
      "Training Epochs:  96%|█████████▌| 1910/2000 [07:54<00:22,  4.08it/s]"
     ]
    },
    {
     "name": "stdout",
     "output_type": "stream",
     "text": [
      "Epoch 1910/2000, Loss: 0.0073\n",
      "Test Accuracy at Epoch 1910: 72.89%\n",
      "Test F1-score at Epoch 1910: 0.7506\n",
      "Classification Report at Epoch 1910:\n",
      "                  precision    recall  f1-score   support\n",
      "\n",
      "    infringement       0.80      0.63      0.70       194\n",
      "non_infringement       0.68      0.83      0.75       186\n",
      "\n",
      "        accuracy                           0.73       380\n",
      "       macro avg       0.74      0.73      0.73       380\n",
      "    weighted avg       0.74      0.73      0.73       380\n",
      "\n"
     ]
    },
    {
     "name": "stderr",
     "output_type": "stream",
     "text": [
      "Training Epochs:  96%|█████████▌| 1920/2000 [07:56<00:17,  4.60it/s]"
     ]
    },
    {
     "name": "stdout",
     "output_type": "stream",
     "text": [
      "Epoch 1920/2000, Loss: 0.0073\n",
      "Test Accuracy at Epoch 1920: 72.37%\n",
      "Test F1-score at Epoch 1920: 0.7470\n",
      "Classification Report at Epoch 1920:\n",
      "                  precision    recall  f1-score   support\n",
      "\n",
      "    infringement       0.79      0.62      0.70       194\n",
      "non_infringement       0.68      0.83      0.75       186\n",
      "\n",
      "        accuracy                           0.72       380\n",
      "       macro avg       0.74      0.73      0.72       380\n",
      "    weighted avg       0.74      0.72      0.72       380\n",
      "\n"
     ]
    },
    {
     "name": "stderr",
     "output_type": "stream",
     "text": [
      "Training Epochs:  96%|█████████▋| 1930/2000 [07:58<00:14,  4.88it/s]"
     ]
    },
    {
     "name": "stdout",
     "output_type": "stream",
     "text": [
      "Epoch 1930/2000, Loss: 0.0073\n",
      "Test Accuracy at Epoch 1930: 72.89%\n",
      "Test F1-score at Epoch 1930: 0.7506\n",
      "Classification Report at Epoch 1930:\n",
      "                  precision    recall  f1-score   support\n",
      "\n",
      "    infringement       0.80      0.63      0.70       194\n",
      "non_infringement       0.68      0.83      0.75       186\n",
      "\n",
      "        accuracy                           0.73       380\n",
      "       macro avg       0.74      0.73      0.73       380\n",
      "    weighted avg       0.74      0.73      0.73       380\n",
      "\n"
     ]
    },
    {
     "name": "stderr",
     "output_type": "stream",
     "text": [
      "Training Epochs:  97%|█████████▋| 1940/2000 [08:01<00:14,  4.06it/s]"
     ]
    },
    {
     "name": "stdout",
     "output_type": "stream",
     "text": [
      "Epoch 1940/2000, Loss: 0.0073\n",
      "Test Accuracy at Epoch 1940: 72.37%\n",
      "Test F1-score at Epoch 1940: 0.7470\n",
      "Classification Report at Epoch 1940:\n",
      "                  precision    recall  f1-score   support\n",
      "\n",
      "    infringement       0.79      0.62      0.70       194\n",
      "non_infringement       0.68      0.83      0.75       186\n",
      "\n",
      "        accuracy                           0.72       380\n",
      "       macro avg       0.74      0.73      0.72       380\n",
      "    weighted avg       0.74      0.72      0.72       380\n",
      "\n"
     ]
    },
    {
     "name": "stderr",
     "output_type": "stream",
     "text": [
      "Training Epochs:  98%|█████████▊| 1950/2000 [08:03<00:11,  4.18it/s]"
     ]
    },
    {
     "name": "stdout",
     "output_type": "stream",
     "text": [
      "Epoch 1950/2000, Loss: 0.0074\n",
      "Test Accuracy at Epoch 1950: 72.37%\n",
      "Test F1-score at Epoch 1950: 0.7470\n",
      "Classification Report at Epoch 1950:\n",
      "                  precision    recall  f1-score   support\n",
      "\n",
      "    infringement       0.79      0.62      0.70       194\n",
      "non_infringement       0.68      0.83      0.75       186\n",
      "\n",
      "        accuracy                           0.72       380\n",
      "       macro avg       0.74      0.73      0.72       380\n",
      "    weighted avg       0.74      0.72      0.72       380\n",
      "\n"
     ]
    },
    {
     "name": "stderr",
     "output_type": "stream",
     "text": [
      "Training Epochs:  98%|█████████▊| 1960/2000 [08:05<00:10,  3.80it/s]"
     ]
    },
    {
     "name": "stdout",
     "output_type": "stream",
     "text": [
      "Epoch 1960/2000, Loss: 0.0073\n",
      "Test Accuracy at Epoch 1960: 73.16%\n",
      "Test F1-score at Epoch 1960: 0.7524\n",
      "Classification Report at Epoch 1960:\n",
      "                  precision    recall  f1-score   support\n",
      "\n",
      "    infringement       0.80      0.63      0.71       194\n",
      "non_infringement       0.69      0.83      0.75       186\n",
      "\n",
      "        accuracy                           0.73       380\n",
      "       macro avg       0.74      0.73      0.73       380\n",
      "    weighted avg       0.74      0.73      0.73       380\n",
      "\n"
     ]
    },
    {
     "name": "stderr",
     "output_type": "stream",
     "text": [
      "Training Epochs:  98%|█████████▊| 1970/2000 [08:08<00:06,  4.40it/s]"
     ]
    },
    {
     "name": "stdout",
     "output_type": "stream",
     "text": [
      "Epoch 1970/2000, Loss: 0.0073\n",
      "Test Accuracy at Epoch 1970: 72.63%\n",
      "Test F1-score at Epoch 1970: 0.7500\n",
      "Classification Report at Epoch 1970:\n",
      "                  precision    recall  f1-score   support\n",
      "\n",
      "    infringement       0.80      0.62      0.70       194\n",
      "non_infringement       0.68      0.84      0.75       186\n",
      "\n",
      "        accuracy                           0.73       380\n",
      "       macro avg       0.74      0.73      0.72       380\n",
      "    weighted avg       0.74      0.73      0.72       380\n",
      "\n"
     ]
    },
    {
     "name": "stderr",
     "output_type": "stream",
     "text": [
      "Training Epochs:  99%|█████████▉| 1980/2000 [08:10<00:04,  4.34it/s]"
     ]
    },
    {
     "name": "stdout",
     "output_type": "stream",
     "text": [
      "Epoch 1980/2000, Loss: 0.0073\n",
      "Test Accuracy at Epoch 1980: 73.16%\n",
      "Test F1-score at Epoch 1980: 0.7536\n",
      "Classification Report at Epoch 1980:\n",
      "                  precision    recall  f1-score   support\n",
      "\n",
      "    infringement       0.80      0.63      0.71       194\n",
      "non_infringement       0.68      0.84      0.75       186\n",
      "\n",
      "        accuracy                           0.73       380\n",
      "       macro avg       0.74      0.73      0.73       380\n",
      "    weighted avg       0.74      0.73      0.73       380\n",
      "\n"
     ]
    },
    {
     "name": "stderr",
     "output_type": "stream",
     "text": [
      "Training Epochs: 100%|█████████▉| 1990/2000 [08:12<00:02,  4.39it/s]"
     ]
    },
    {
     "name": "stdout",
     "output_type": "stream",
     "text": [
      "Epoch 1990/2000, Loss: 0.0073\n",
      "Test Accuracy at Epoch 1990: 72.37%\n",
      "Test F1-score at Epoch 1990: 0.7482\n",
      "Classification Report at Epoch 1990:\n",
      "                  precision    recall  f1-score   support\n",
      "\n",
      "    infringement       0.80      0.61      0.69       194\n",
      "non_infringement       0.68      0.84      0.75       186\n",
      "\n",
      "        accuracy                           0.72       380\n",
      "       macro avg       0.74      0.73      0.72       380\n",
      "    weighted avg       0.74      0.72      0.72       380\n",
      "\n"
     ]
    },
    {
     "name": "stderr",
     "output_type": "stream",
     "text": [
      "Training Epochs: 100%|██████████| 2000/2000 [08:15<00:00,  4.04it/s]"
     ]
    },
    {
     "name": "stdout",
     "output_type": "stream",
     "text": [
      "Epoch 2000/2000, Loss: 0.0073\n",
      "Test Accuracy at Epoch 2000: 72.63%\n",
      "Test F1-score at Epoch 2000: 0.7500\n",
      "Classification Report at Epoch 2000:\n",
      "                  precision    recall  f1-score   support\n",
      "\n",
      "    infringement       0.80      0.62      0.70       194\n",
      "non_infringement       0.68      0.84      0.75       186\n",
      "\n",
      "        accuracy                           0.73       380\n",
      "       macro avg       0.74      0.73      0.72       380\n",
      "    weighted avg       0.74      0.73      0.72       380\n",
      "\n"
     ]
    },
    {
     "name": "stderr",
     "output_type": "stream",
     "text": [
      "\n",
      "/tmp/ipykernel_2004970/2033666368.py:59: FutureWarning: You are using `torch.load` with `weights_only=False` (the current default value), which uses the default pickle module implicitly. It is possible to construct malicious pickle data which will execute arbitrary code during unpickling (See https://github.com/pytorch/pytorch/blob/main/SECURITY.md#untrusted-models for more details). In a future release, the default value for `weights_only` will be flipped to `True`. This limits the functions that could be executed during unpickling. Arbitrary objects will no longer be allowed to be loaded via this mode unless they are explicitly allowlisted by the user via `torch.serialization.add_safe_globals`. We recommend you start setting `weights_only=True` for any use case where you don't have full control of the loaded file. Please open an issue on GitHub for any issues related to this experimental feature.\n",
      "  custom_mlp.load_state_dict(torch.load(checkpoint_path))\n"
     ]
    },
    {
     "data": {
      "image/png": "[encoded data removed]",
      "text/plain": [
       "<Figure size 1000x500 with 1 Axes>"
      ]
     },
     "metadata": {},
     "output_type": "display_data"
    },
    {
     "name": "stdout",
     "output_type": "stream",
     "text": [
      "Final Model Accuracy: 73.95%\n",
      "Final Model F1-score: 0.7579\n"
     ]
    },
    {
     "ename": "",
     "evalue": "",
     "output_type": "error",
     "traceback": [
      "\u001b[1;31mThe Kernel crashed while executing code in the current cell or a previous cell. \n",
      "\u001b[1;31mPlease review the code in the cell(s) to identify a possible cause of the failure. \n",
      "\u001b[1;31mClick <a href='https://aka.ms/vscodeJupyterKernelCrash'>here</a> for more info. \n",
      "\u001b[1;31mView Jupyter <a href='command:jupyter.viewOutput'>log</a> for further details."
     ]
    }
   ],
   "source": [
    "input_dim = X_train.shape[1]\n",
    "hidden_dim = 4096\n",
    "print(f\"Training MLP model with input_dim={input_dim} and hidden_dim={hidden_dim}\")\n",
    "\n",
    "custom_mlp, losses, best_accuracy, best_f1 = train_model(X_train, y_train, X_test, y_test, input_dim, hidden_dim)"
   ]
  },
  {
   "cell_type": "code",
   "execution_count": 26,
   "metadata": {},
   "outputs": [
    {
     "name": "stdout",
     "output_type": "stream",
     "text": [
      "Checkpoint saved to '/home/guangwei/LLM-COPYRIGHT/copyright_newVersion/models/train_input_reference_0_layer.pth'.\n"
     ]
    }
   ],
   "source": [
    "def save_checkpoint(model, optimizer, epoch, loss, filepath):\n",
    "    checkpoint = {\n",
    "        'epoch': epoch + 1,\n",
    "        'model_state_dict': model.state_dict(),\n",
    "        'optimizer_state_dict': optimizer.state_dict(),\n",
    "        'loss': loss\n",
    "    }\n",
    "    torch.save(checkpoint, filepath)\n",
    "    print(f\"Checkpoint saved to '{filepath}'.\")\n",
    "\n",
    "save_checkpoint(custom_mlp, torch.optim.Adam(custom_mlp.parameters()), len(losses), losses[-1], checkpoint_file)"
   ]
  },
  {
   "cell_type": "code",
   "execution_count": null,
   "metadata": {},
   "outputs": [],
   "source": [
    "y_pred_final = (torch.sigmoid(torch.tensor(custom_mlp(torch.tensor(X_test, dtype=torch.float32)))) > 0.5).float().numpy()\n",
    "print(classification_report(y_test, y_pred_final, target_names=[\"infringement\", \"non_infringement\"]))"
   ]
  },
  {
   "cell_type": "code",
   "execution_count": 25,
   "metadata": {},
   "outputs": [
    {
     "name": "stdout",
     "output_type": "stream",
     "text": [
      "1.313328717803133\n",
      "0.01058032800933389\n",
      "1.3904706974619443\n",
      "0.010244184858450836\n"
     ]
    }
   ],
   "source": [
    "print(totaltime_non_infringement)\n",
    "print(tpot_non_infringement)\n",
    "\n",
    "print(totaltime_infringement)\n",
    "print(tpot_infringement)"
   ]
  }
 ],
 "metadata": {
  "kernelspec": {
   "display_name": "zdh",
   "language": "python",
   "name": "python3"
  },
  "language_info": {
   "codemirror_mode": {
    "name": "ipython",
    "version": 3
   },
   "file_extension": ".py",
   "mimetype": "text/x-python",
   "name": "python",
   "nbconvert_exporter": "python",
   "pygments_lexer": "ipython3",
   "version": "3.12.3"
  }
 },
 "nbformat": 4,
 "nbformat_minor": 2
}
