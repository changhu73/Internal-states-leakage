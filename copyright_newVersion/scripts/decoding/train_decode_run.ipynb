{
 "cells": [
  {
   "cell_type": "code",
   "execution_count": 13,
   "metadata": {},
   "outputs": [],
   "source": [
    "# import packages & variables\n",
    "import argparse\n",
    "import torch\n",
    "import torch.nn as nn\n",
    "import numpy as np\n",
    "from sklearn.metrics import accuracy_score, classification_report\n",
    "import matplotlib.pyplot as plt\n",
    "from tqdm import tqdm\n",
    "from transformers import AutoTokenizer, AutoModelForCausalLM, AutoModel, AutoModelForSequenceClassification\n",
    "import json\n",
    "import os\n",
    "import time\n",
    "os.environ[\"CUDA_VISIBLE_DEVICES\"] = \"4\"\n",
    "\n",
    "# Parameters\n",
    "model_name = 'meta-llama/Meta-Llama-3.1-8B'\n",
    "non_infringement_file = '/home/guangwei/LLM-COPYRIGHT/copyright_newVersion/test_division/extra_30.non_infringement.json'\n",
    "infringement_file = '/home/guangwei/LLM-COPYRIGHT/copyright_newVersion/test_division/extra_30.infringement.json'\n",
    "checkpoint_file = '/home/guangwei/LLM-COPYRIGHT/copyright_newVersion/models/train_input_reference_0_layer.pth'\n"
   ]
  },
  {
   "cell_type": "code",
   "execution_count": 14,
   "metadata": {},
   "outputs": [],
   "source": [
    "# Define CustumMLP for internal states train\n",
    "class CustomMLP(nn.Module):\n",
    "    def __init__(self, input_dim, hidden_dim):\n",
    "        super(CustomMLP, self).__init__()\n",
    "        self.down = nn.Linear(input_dim, hidden_dim)\n",
    "        self.gate = nn.Linear(input_dim, hidden_dim)\n",
    "        self.up = nn.Linear(hidden_dim, 1)\n",
    "        self.activation = nn.SiLU()\n",
    "\n",
    "    def forward(self, x):\n",
    "        down_output = self.down(x)\n",
    "        gate_output = self.gate(x)\n",
    "        gated_output = down_output * self.activation(gate_output)\n",
    "        return self.up(gated_output)"
   ]
  },
  {
   "cell_type": "code",
   "execution_count": null,
   "metadata": {},
   "outputs": [],
   "source": [
    "# Extract hidden states/reference embeddings\n",
    "def extract_hidden_states(texts, model, tokenizer, batch_size=4):\n",
    "    device = torch.device(\"cuda\" if torch.cuda.is_available() else \"cpu\")\n",
    "    model.to(device)\n",
    "    hidden_states = []\n",
    "    \n",
    "    for i in tqdm(range(0, len(texts), batch_size), desc=\"Processing data batches\"):\n",
    "        batch_texts = texts[i:i + batch_size]\n",
    "        inputs = tokenizer(batch_texts, return_tensors=\"pt\", padding=True, truncation=True).to(device)\n",
    "        \n",
    "        with torch.no_grad():\n",
    "            outputs = model(**inputs)\n",
    "        hidden_states.append(outputs.hidden_states[-1].mean(dim=1).cpu().numpy())\n",
    "    \n",
    "    return np.vstack(hidden_states)\n",
    "\n",
    "\n",
    "# Extract decoding results and last token hidden states\n",
    "def extract_decoding(references, model, tokenizer, max_length=300, batch_size=4):\n",
    "    device = torch.device(\"cuda\" if torch.cuda.is_available() else \"cpu\")\n",
    "    model.to(device)\n",
    "    outputs = []\n",
    "    ttft_list = []\n",
    "    tpot_list = []\n",
    "    \n",
    "    for i in tqdm(range(0, len(references), batch_size), desc=\"Processing references\"):\n",
    "        batch_references = references[i:i + batch_size]\n",
    "        inputs = tokenizer(batch_references, return_tensors=\"pt\", padding=True, truncation=True, padding_side='left').to(device)\n",
    "        tokenizer.pad_token_id = tokenizer.eos_token_id\n",
    "        \n",
    "        with torch.no_grad():\n",
    "            # Generate sequences\n",
    "            start_time = time.time()  # Start time for TTFT\n",
    "            generated_ids = model.generate(**inputs, max_length=max_length, output_hidden_states=True, return_dict_in_generate=True, use_cache=True)\n",
    "            \n",
    "            # print(generated_ids[\"hidden_states\"])\n",
    "            \n",
    "            ttft = time.time() - start_time  # Calculate TTFT\n",
    "            \n",
    "            # Calculate TPOT\n",
    "            num_tokens_generated = generated_ids[\"sequences\"].shape[1]  # Number of tokens generated\n",
    "            tpot = ttft / num_tokens_generated if num_tokens_generated > 0 else float('inf')\n",
    "            # print(generated_ids[\"hidden_states\"][0][0])\n",
    "            last_token_hidden_state = generated_ids[\"hidden_states\"][-1][-1][:, -1, :].cpu().numpy()\n",
    "        \n",
    "        outputs.append(last_token_hidden_state)\n",
    "        ttft_list.append(ttft)\n",
    "        tpot_list.append(tpot)\n",
    "        \n",
    "            # 在处理完所有批次后，计算ttft_list的平均值\n",
    "        average_ttft = np.mean(ttft_list)\n",
    "        average_tpot = np.mean(tpot_list)\n",
    "        # Debugging: Check shapes\n",
    "        # print(\"Last token hidden state shape:\", last_token_hidden_state.shape)\n",
    "    \n",
    "    # print(\"np.vstack(outputs).shape:\", np.vstack(outputs).shape)\n",
    "    return np.vstack(outputs), average_ttft, average_tpot"
   ]
  },
  {
   "cell_type": "code",
   "execution_count": 16,
   "metadata": {},
   "outputs": [],
   "source": [
    "# load data for infringement & non infringement\n",
    "def load_data(non_infringement_file, infringement_file):\n",
    "    with open(non_infringement_file, 'r', encoding='utf-8') as file:\n",
    "        non_infringement_json_data = json.load(file)\n",
    "\n",
    "    non_infringement_outputs = [entry['input'] for entry in non_infringement_json_data]\n",
    "    non_infringement_references = [entry['reference'] for entry in non_infringement_json_data]\n",
    "    y_non_infringement = [1] * len(non_infringement_outputs)\n",
    "\n",
    "    with open(infringement_file, 'r', encoding='utf-8') as file:\n",
    "        infringement_json_data = json.load(file)\n",
    "\n",
    "    infringement_outputs = [entry['input'] for entry in infringement_json_data]\n",
    "    infringement_references = [entry['reference'] for entry in infringement_json_data]\n",
    "    y_infringement = [0] * len(infringement_outputs)\n",
    "\n",
    "    return non_infringement_outputs, non_infringement_references, y_non_infringement, infringement_outputs, infringement_references, y_infringement"
   ]
  },
  {
   "cell_type": "code",
   "execution_count": 17,
   "metadata": {},
   "outputs": [],
   "source": [
    "from sklearn.metrics import accuracy_score, classification_report, f1_score\n",
    "\n",
    "# Train for best model\n",
    "def train_model(X_train, y_train, X_test, y_test, input_dim, hidden_dim, epochs=2000, lr=0.001, checkpoint_path=checkpoint_file):\n",
    "    custom_mlp = CustomMLP(input_dim, hidden_dim)\n",
    "    criterion = nn.BCEWithLogitsLoss()\n",
    "    optimizer = torch.optim.Adam(custom_mlp.parameters(), lr=lr)\n",
    "\n",
    "    X_train_tensor = torch.tensor(X_train, dtype=torch.float32)\n",
    "    y_train_tensor = torch.tensor(y_train, dtype=torch.float32).unsqueeze(1)\n",
    "\n",
    "    best_accuracy = -float('inf')\n",
    "    best_f1 = -float('inf')  # Track best F1-score\n",
    "    best_model_state = None\n",
    "    best_epoch = 0\n",
    "    losses = []\n",
    "\n",
    "    for epoch in tqdm(range(epochs), desc=\"Training Epochs\"):\n",
    "        custom_mlp.train()\n",
    "        optimizer.zero_grad()\n",
    "        outputs = custom_mlp(X_train_tensor)\n",
    "        loss = criterion(outputs, y_train_tensor)\n",
    "        loss.backward()\n",
    "        optimizer.step()\n",
    "        losses.append(loss.item())\n",
    "\n",
    "        # Every 10 epochs, evaluate the model\n",
    "        if (epoch + 1) % 10 == 0:\n",
    "            print(f\"Epoch {epoch + 1}/{epochs}, Loss: {loss.item():.4f}\")\n",
    "            \n",
    "            custom_mlp.eval()\n",
    "            X_test_tensor = torch.tensor(X_test, dtype=torch.float32)\n",
    "            with torch.no_grad():\n",
    "                y_pred_logits = custom_mlp(X_test_tensor)\n",
    "                y_pred = (torch.sigmoid(y_pred_logits) > 0.5).float().numpy()\n",
    "            \n",
    "            # Calculate accuracy and F1-score\n",
    "            accuracy = accuracy_score(y_test, y_pred)\n",
    "            f1 = f1_score(y_test, y_pred)  # F1-score calculation\n",
    "            \n",
    "            print(f\"Test Accuracy at Epoch {epoch + 1}: {accuracy * 100:.2f}%\")\n",
    "            print(f\"Test F1-score at Epoch {epoch + 1}: {f1:.4f}\")\n",
    "            \n",
    "            # Generate classification report\n",
    "            report = classification_report(y_test, y_pred, target_names=[\"infringement\", \"non_infringement\"])\n",
    "            print(f\"Classification Report at Epoch {epoch + 1}:\\n{report}\")\n",
    "\n",
    "            # Save the model if it achieves a better F1-score\n",
    "            if f1 > best_f1:\n",
    "                best_accuracy = accuracy\n",
    "                best_f1 = f1\n",
    "                best_model_state = custom_mlp.state_dict()\n",
    "                best_epoch = epoch + 1\n",
    "                torch.save(best_model_state, checkpoint_path)\n",
    "                print(f\"New best model saved with F1-score {best_f1:.4f} at epoch {best_epoch}\")\n",
    "                print(f\"Best Classification Report at Epoch {best_epoch}:\\n{report}\")\n",
    "\n",
    "    # Load the best model state\n",
    "    custom_mlp.load_state_dict(torch.load(checkpoint_path))\n",
    "\n",
    "    # Plot loss curve\n",
    "    plt.figure(figsize=(10, 5))\n",
    "    plt.plot(losses, label='Training Loss')\n",
    "    plt.xlabel('Epoch')\n",
    "    plt.ylabel('Loss')\n",
    "    plt.title('Training Loss Curve')\n",
    "    plt.legend()\n",
    "    plt.show()\n",
    "\n",
    "    print(f\"Final Model Accuracy: {best_accuracy * 100:.2f}%\")\n",
    "    print(f\"Final Model F1-score: {best_f1:.4f}\")\n",
    "    \n",
    "    return custom_mlp, losses, best_accuracy, best_f1\n"
   ]
  },
  {
   "cell_type": "code",
   "execution_count": 18,
   "metadata": {},
   "outputs": [
    {
     "name": "stderr",
     "output_type": "stream",
     "text": [
      "/home/guangwei/miniconda3/envs/zdh/lib/python3.12/site-packages/transformers/generation/configuration_utils.py:774: UserWarning: `return_dict_in_generate` is NOT set to `True`, but `output_hidden_states` is. When `return_dict_in_generate` is not `True`, `output_hidden_states` is ignored.\n",
      "  warnings.warn(\n",
      "Loading checkpoint shards: 100%|██████████| 4/4 [00:03<00:00,  1.24it/s]\n"
     ]
    }
   ],
   "source": [
    "tokenizer = AutoTokenizer.from_pretrained(model_name, model_max_length=512)\n",
    "model = AutoModelForCausalLM.from_pretrained(model_name, output_hidden_states=True)\n",
    "tokenizer.pad_token = tokenizer.eos_token\n",
    "bert_tokenizer = AutoTokenizer.from_pretrained('google-bert/bert-base-uncased')\n",
    "bert_model = AutoModel.from_pretrained('google-bert/bert-base-uncased')\n",
    "bert_tokenizer.pad_token = tokenizer.eos_token\n",
    "\n",
    "non_infringement_outputs, non_infringement_references, y_non_infringement, infringement_outputs, infringement_references, y_infringement = load_data(\n",
    "    non_infringement_file, infringement_file\n",
    ")\n",
    "\n",
    "y_non_infringement = np.array(y_non_infringement)\n",
    "y_infringement = np.array(y_infringement)\n"
   ]
  },
  {
   "cell_type": "code",
   "execution_count": null,
   "metadata": {},
   "outputs": [
    {
     "name": "stdout",
     "output_type": "stream",
     "text": [
      "Extracting hidden states for non_infringement texts...\n"
     ]
    },
    {
     "name": "stderr",
     "output_type": "stream",
     "text": [
      "Processing data batches: 100%|██████████| 232/232 [01:01<00:00,  3.77it/s]\n"
     ]
    },
    {
     "name": "stdout",
     "output_type": "stream",
     "text": [
      "Extracting decoding for non_infringement texts...\n"
     ]
    },
    {
     "name": "stderr",
     "output_type": "stream",
     "text": [
      "Processing references:   0%|          | 0/232 [00:00<?, ?it/s]Setting `pad_token_id` to `eos_token_id`:None for open-end generation.\n",
      "Processing references:   0%|          | 0/232 [00:00<?, ?it/s]\n"
     ]
    },
    {
     "ename": "ValueError",
     "evalue": "Input length of input_ids is 209, but `max_length` is set to 5. This can lead to unexpected behavior. You should consider increasing `max_length` or, better yet, setting `max_new_tokens`.",
     "output_type": "error",
     "traceback": [
      "\u001b[0;31m---------------------------------------------------------------------------\u001b[0m",
      "\u001b[0;31mValueError\u001b[0m                                Traceback (most recent call last)",
      "Cell \u001b[0;32mIn[19], line 18\u001b[0m\n\u001b[1;32m     16\u001b[0m X_non_infringement \u001b[38;5;241m=\u001b[39m extract_hidden_states(non_infringement_outputs, model, tokenizer)\n\u001b[1;32m     17\u001b[0m \u001b[38;5;28mprint\u001b[39m(\u001b[38;5;124m\"\u001b[39m\u001b[38;5;124mExtracting decoding for non_infringement texts...\u001b[39m\u001b[38;5;124m\"\u001b[39m)\n\u001b[0;32m---> 18\u001b[0m last_token_hidden_states_non_infringement, totaltime_non_infringement, tpot_non_infringement \u001b[38;5;241m=\u001b[39m \u001b[43mextract_decoding\u001b[49m\u001b[43m(\u001b[49m\u001b[43mnon_infringement_outputs\u001b[49m\u001b[43m,\u001b[49m\u001b[43m \u001b[49m\u001b[43mmodel\u001b[49m\u001b[43m,\u001b[49m\u001b[43m \u001b[49m\u001b[43mtokenizer\u001b[49m\u001b[43m)\u001b[49m\n\u001b[1;32m     20\u001b[0m \u001b[38;5;28;01mif\u001b[39;00m (X_non_infringement\u001b[38;5;241m.\u001b[39mshape[\u001b[38;5;241m0\u001b[39m]\u001b[38;5;241m!=\u001b[39mlast_token_hidden_states_non_infringement\u001b[38;5;241m.\u001b[39mshape[\u001b[38;5;241m0\u001b[39m]):\n\u001b[1;32m     21\u001b[0m     \u001b[38;5;28mprint\u001b[39m(\u001b[38;5;124m\"\u001b[39m\u001b[38;5;124mX_non_infringement.shape[0]:\u001b[39m\u001b[38;5;124m\"\u001b[39m, X_non_infringement\u001b[38;5;241m.\u001b[39mshape[\u001b[38;5;241m0\u001b[39m])\n",
      "Cell \u001b[0;32mIn[15], line 34\u001b[0m, in \u001b[0;36mextract_decoding\u001b[0;34m(references, model, tokenizer, max_length, batch_size)\u001b[0m\n\u001b[1;32m     31\u001b[0m \u001b[38;5;28;01mwith\u001b[39;00m torch\u001b[38;5;241m.\u001b[39mno_grad():\n\u001b[1;32m     32\u001b[0m     \u001b[38;5;66;03m# Generate sequences\u001b[39;00m\n\u001b[1;32m     33\u001b[0m     start_time \u001b[38;5;241m=\u001b[39m time\u001b[38;5;241m.\u001b[39mtime()  \u001b[38;5;66;03m# Start time for TTFT\u001b[39;00m\n\u001b[0;32m---> 34\u001b[0m     generated_ids \u001b[38;5;241m=\u001b[39m \u001b[43mmodel\u001b[49m\u001b[38;5;241;43m.\u001b[39;49m\u001b[43mgenerate\u001b[49m\u001b[43m(\u001b[49m\u001b[38;5;241;43m*\u001b[39;49m\u001b[38;5;241;43m*\u001b[39;49m\u001b[43minputs\u001b[49m\u001b[43m,\u001b[49m\u001b[43m \u001b[49m\u001b[43mmax_length\u001b[49m\u001b[38;5;241;43m=\u001b[39;49m\u001b[43mmax_length\u001b[49m\u001b[43m,\u001b[49m\u001b[43m \u001b[49m\u001b[43moutput_hidden_states\u001b[49m\u001b[38;5;241;43m=\u001b[39;49m\u001b[38;5;28;43;01mTrue\u001b[39;49;00m\u001b[43m,\u001b[49m\u001b[43m \u001b[49m\u001b[43mreturn_dict_in_generate\u001b[49m\u001b[38;5;241;43m=\u001b[39;49m\u001b[38;5;28;43;01mTrue\u001b[39;49;00m\u001b[43m,\u001b[49m\u001b[43m \u001b[49m\u001b[43muse_cache\u001b[49m\u001b[38;5;241;43m=\u001b[39;49m\u001b[38;5;28;43;01mTrue\u001b[39;49;00m\u001b[43m)\u001b[49m\n\u001b[1;32m     36\u001b[0m     \u001b[38;5;66;03m# print(generated_ids[\"hidden_states\"])\u001b[39;00m\n\u001b[1;32m     38\u001b[0m     ttft \u001b[38;5;241m=\u001b[39m time\u001b[38;5;241m.\u001b[39mtime() \u001b[38;5;241m-\u001b[39m start_time  \u001b[38;5;66;03m# Calculate TTFT\u001b[39;00m\n",
      "File \u001b[0;32m~/miniconda3/envs/zdh/lib/python3.12/site-packages/torch/utils/_contextlib.py:116\u001b[0m, in \u001b[0;36mcontext_decorator.<locals>.decorate_context\u001b[0;34m(*args, **kwargs)\u001b[0m\n\u001b[1;32m    113\u001b[0m \u001b[38;5;129m@functools\u001b[39m\u001b[38;5;241m.\u001b[39mwraps(func)\n\u001b[1;32m    114\u001b[0m \u001b[38;5;28;01mdef\u001b[39;00m \u001b[38;5;21mdecorate_context\u001b[39m(\u001b[38;5;241m*\u001b[39margs, \u001b[38;5;241m*\u001b[39m\u001b[38;5;241m*\u001b[39mkwargs):\n\u001b[1;32m    115\u001b[0m     \u001b[38;5;28;01mwith\u001b[39;00m ctx_factory():\n\u001b[0;32m--> 116\u001b[0m         \u001b[38;5;28;01mreturn\u001b[39;00m \u001b[43mfunc\u001b[49m\u001b[43m(\u001b[49m\u001b[38;5;241;43m*\u001b[39;49m\u001b[43margs\u001b[49m\u001b[43m,\u001b[49m\u001b[43m \u001b[49m\u001b[38;5;241;43m*\u001b[39;49m\u001b[38;5;241;43m*\u001b[39;49m\u001b[43mkwargs\u001b[49m\u001b[43m)\u001b[49m\n",
      "File \u001b[0;32m~/miniconda3/envs/zdh/lib/python3.12/site-packages/transformers/generation/utils.py:2068\u001b[0m, in \u001b[0;36mGenerationMixin.generate\u001b[0;34m(self, inputs, generation_config, logits_processor, stopping_criteria, prefix_allowed_tokens_fn, synced_gpus, assistant_model, streamer, negative_prompt_ids, negative_prompt_attention_mask, **kwargs)\u001b[0m\n\u001b[1;32m   2065\u001b[0m \u001b[38;5;28;01mif\u001b[39;00m \u001b[38;5;28mself\u001b[39m\u001b[38;5;241m.\u001b[39m_supports_num_logits_to_keep() \u001b[38;5;129;01mand\u001b[39;00m \u001b[38;5;124m\"\u001b[39m\u001b[38;5;124mnum_logits_to_keep\u001b[39m\u001b[38;5;124m\"\u001b[39m \u001b[38;5;129;01mnot\u001b[39;00m \u001b[38;5;129;01min\u001b[39;00m model_kwargs:\n\u001b[1;32m   2066\u001b[0m     model_kwargs[\u001b[38;5;124m\"\u001b[39m\u001b[38;5;124mnum_logits_to_keep\u001b[39m\u001b[38;5;124m\"\u001b[39m] \u001b[38;5;241m=\u001b[39m \u001b[38;5;241m1\u001b[39m\n\u001b[0;32m-> 2068\u001b[0m \u001b[38;5;28;43mself\u001b[39;49m\u001b[38;5;241;43m.\u001b[39;49m\u001b[43m_validate_generated_length\u001b[49m\u001b[43m(\u001b[49m\u001b[43mgeneration_config\u001b[49m\u001b[43m,\u001b[49m\u001b[43m \u001b[49m\u001b[43minput_ids_length\u001b[49m\u001b[43m,\u001b[49m\u001b[43m \u001b[49m\u001b[43mhas_default_max_length\u001b[49m\u001b[43m)\u001b[49m\n\u001b[1;32m   2070\u001b[0m \u001b[38;5;66;03m# 7. Prepare the cache.\u001b[39;00m\n\u001b[1;32m   2071\u001b[0m \u001b[38;5;66;03m# - `model_kwargs` may be updated in place with a cache as defined by the parameters in `generation_config`.\u001b[39;00m\n\u001b[1;32m   2072\u001b[0m \u001b[38;5;66;03m# - different models have a different cache name expected by the model (default = \"past_key_values\")\u001b[39;00m\n\u001b[1;32m   2073\u001b[0m \u001b[38;5;66;03m# - `max_length`, prepared above, is used to determine the maximum cache length\u001b[39;00m\n\u001b[1;32m   2074\u001b[0m \u001b[38;5;66;03m# TODO (joao): remove `user_defined_cache` after v4.47 (remove default conversion to legacy format)\u001b[39;00m\n\u001b[1;32m   2075\u001b[0m cache_name \u001b[38;5;241m=\u001b[39m \u001b[38;5;124m\"\u001b[39m\u001b[38;5;124mpast_key_values\u001b[39m\u001b[38;5;124m\"\u001b[39m \u001b[38;5;28;01mif\u001b[39;00m \u001b[38;5;124m\"\u001b[39m\u001b[38;5;124mmamba\u001b[39m\u001b[38;5;124m\"\u001b[39m \u001b[38;5;129;01mnot\u001b[39;00m \u001b[38;5;129;01min\u001b[39;00m \u001b[38;5;28mself\u001b[39m\u001b[38;5;241m.\u001b[39m\u001b[38;5;18m__class__\u001b[39m\u001b[38;5;241m.\u001b[39m\u001b[38;5;18m__name__\u001b[39m\u001b[38;5;241m.\u001b[39mlower() \u001b[38;5;28;01melse\u001b[39;00m \u001b[38;5;124m\"\u001b[39m\u001b[38;5;124mcache_params\u001b[39m\u001b[38;5;124m\"\u001b[39m\n",
      "File \u001b[0;32m~/miniconda3/envs/zdh/lib/python3.12/site-packages/transformers/generation/utils.py:1383\u001b[0m, in \u001b[0;36mGenerationMixin._validate_generated_length\u001b[0;34m(self, generation_config, input_ids_length, has_default_max_length)\u001b[0m\n\u001b[1;32m   1381\u001b[0m \u001b[38;5;28;01mif\u001b[39;00m input_ids_length \u001b[38;5;241m>\u001b[39m\u001b[38;5;241m=\u001b[39m generation_config\u001b[38;5;241m.\u001b[39mmax_length:\n\u001b[1;32m   1382\u001b[0m     input_ids_string \u001b[38;5;241m=\u001b[39m \u001b[38;5;124m\"\u001b[39m\u001b[38;5;124mdecoder_input_ids\u001b[39m\u001b[38;5;124m\"\u001b[39m \u001b[38;5;28;01mif\u001b[39;00m \u001b[38;5;28mself\u001b[39m\u001b[38;5;241m.\u001b[39mconfig\u001b[38;5;241m.\u001b[39mis_encoder_decoder \u001b[38;5;28;01melse\u001b[39;00m \u001b[38;5;124m\"\u001b[39m\u001b[38;5;124minput_ids\u001b[39m\u001b[38;5;124m\"\u001b[39m\n\u001b[0;32m-> 1383\u001b[0m     \u001b[38;5;28;01mraise\u001b[39;00m \u001b[38;5;167;01mValueError\u001b[39;00m(\n\u001b[1;32m   1384\u001b[0m         \u001b[38;5;124mf\u001b[39m\u001b[38;5;124m\"\u001b[39m\u001b[38;5;124mInput length of \u001b[39m\u001b[38;5;132;01m{\u001b[39;00minput_ids_string\u001b[38;5;132;01m}\u001b[39;00m\u001b[38;5;124m is \u001b[39m\u001b[38;5;132;01m{\u001b[39;00minput_ids_length\u001b[38;5;132;01m}\u001b[39;00m\u001b[38;5;124m, but `max_length` is set to\u001b[39m\u001b[38;5;124m\"\u001b[39m\n\u001b[1;32m   1385\u001b[0m         \u001b[38;5;124mf\u001b[39m\u001b[38;5;124m\"\u001b[39m\u001b[38;5;124m \u001b[39m\u001b[38;5;132;01m{\u001b[39;00mgeneration_config\u001b[38;5;241m.\u001b[39mmax_length\u001b[38;5;132;01m}\u001b[39;00m\u001b[38;5;124m. This can lead to unexpected behavior. You should consider\u001b[39m\u001b[38;5;124m\"\u001b[39m\n\u001b[1;32m   1386\u001b[0m         \u001b[38;5;124m\"\u001b[39m\u001b[38;5;124m increasing `max_length` or, better yet, setting `max_new_tokens`.\u001b[39m\u001b[38;5;124m\"\u001b[39m\n\u001b[1;32m   1387\u001b[0m     )\n\u001b[1;32m   1389\u001b[0m \u001b[38;5;66;03m# 2. Min length warnings due to unfeasible parameter combinations\u001b[39;00m\n\u001b[1;32m   1390\u001b[0m min_length_error_suffix \u001b[38;5;241m=\u001b[39m (\n\u001b[1;32m   1391\u001b[0m     \u001b[38;5;124m\"\u001b[39m\u001b[38;5;124m Generation will stop at the defined maximum length. You should decrease the minimum length and/or \u001b[39m\u001b[38;5;124m\"\u001b[39m\n\u001b[1;32m   1392\u001b[0m     \u001b[38;5;124m\"\u001b[39m\u001b[38;5;124mincrease the maximum length.\u001b[39m\u001b[38;5;124m\"\u001b[39m\n\u001b[1;32m   1393\u001b[0m )\n",
      "\u001b[0;31mValueError\u001b[0m: Input length of input_ids is 209, but `max_length` is set to 5. This can lead to unexpected behavior. You should consider increasing `max_length` or, better yet, setting `max_new_tokens`."
     ]
    },
    {
     "ename": "",
     "evalue": "",
     "output_type": "error",
     "traceback": [
      "\u001b[1;31mThe Kernel crashed while executing code in the current cell or a previous cell. \n",
      "\u001b[1;31mPlease review the code in the cell(s) to identify a possible cause of the failure. \n",
      "\u001b[1;31mClick <a href='https://aka.ms/vscodeJupyterKernelCrash'>here</a> for more info. \n",
      "\u001b[1;31mView Jupyter <a href='command:jupyter.viewOutput'>log</a> for further details."
     ]
    }
   ],
   "source": [
    "# print(\"Extracting hidden states for non_infringement texts...\")\n",
    "# X_non_infringement = extract_hidden_states(non_infringement_outputs, model, tokenizer)\n",
    "# print(\"Extracting reference embeddings for non_infringement texts...\")\n",
    "# reference_embeddings_non_infringement = extract_reference_embeddings(non_infringement_references, bert_model, bert_tokenizer)\n",
    "# X_non_infringement_combined = np.hstack([X_non_infringement, reference_embeddings_non_infringement])\n",
    "\n",
    "# print(\"Extracting hidden states for infringement texts...\")\n",
    "# X_infringement = extract_hidden_states(infringement_outputs, model, tokenizer)\n",
    "# print(\"Extracting reference embeddings for infringement texts...\")\n",
    "# reference_embeddings_infringement = extract_reference_embeddings(infringement_references, bert_model, bert_tokenizer)\n",
    "# X_infringement_combined = np.hstack([X_infringement, reference_embeddings_infringement])\n",
    "\n",
    "\n",
    "# 在主程序中\n",
    "print(\"Extracting hidden states for non_infringement texts...\")\n",
    "X_non_infringement = extract_hidden_states(non_infringement_outputs, model, tokenizer)\n",
    "print(\"Extracting decoding for non_infringement texts...\")\n",
    "last_token_hidden_states_non_infringement, totaltime_non_infringement, tpot_non_infringement = extract_decoding(non_infringement_outputs, model, tokenizer)\n",
    "\n",
    "if (X_non_infringement.shape[0]!=last_token_hidden_states_non_infringement.shape[0]):\n",
    "    print(\"X_non_infringement.shape[0]:\", X_non_infringement.shape[0])\n",
    "    print(\"last_token_hidden_states_non_infringement.shape[0]:\", last_token_hidden_states_non_infringement.shape[0])\n",
    "    # 对齐两个数组的行数\n",
    "    min_rows = min(X_non_infringement.shape[0], last_token_hidden_states_non_infringement.shape[0])\n",
    "\n",
    "    # 裁剪两个数组到相同的行数\n",
    "    X_non_infringement_aligned = X_non_infringement[:min_rows, :]\n",
    "    last_token_hidden_states_non_infringement_aligned = last_token_hidden_states_non_infringement[:min_rows, :]\n",
    "else:\n",
    "    X_non_infringement_aligned = X_non_infringement\n",
    "    last_token_hidden_states_non_infringement_aligned = last_token_hidden_states_non_infringement\n",
    "\n",
    "    # 进行合并\n",
    "X_non_infringement_combined = np.hstack([X_non_infringement_aligned, last_token_hidden_states_non_infringement_aligned])\n",
    "\n",
    "\n",
    "\n",
    "print(\"Extracting hidden states for infringement texts...\")\n",
    "X_infringement = extract_hidden_states(infringement_outputs, model, tokenizer)\n",
    "print(\"Extracting decoding for infringement texts...\")\n",
    "last_token_hidden_states_infringement, totaltime_infringement, tpot_infringement = extract_decoding(infringement_outputs, model, tokenizer)\n",
    "\n",
    "if (X_infringement.shape[0]!=last_token_hidden_states_infringement.shape[0]):\n",
    "    print(\"X_infringement.shape[0]:\", X_infringement.shape[0])\n",
    "    print(\"last_token_hidden_states_non_infringement.shape[0]:\", last_token_hidden_states_infringement.shape[0])\n",
    "    # 对齐两个数组的行数\n",
    "    min_rows = min(X_infringement.shape[0], last_token_hidden_states_infringement.shape[0])\n",
    "\n",
    "    # 裁剪两个数组到相同的行数\n",
    "    X_infringement_aligned = X_infringement[:min_rows, :]\n",
    "    last_token_hidden_states_infringement_aligned = last_token_hidden_states_infringement[:min_rows, :]\n",
    "else:\n",
    "    X_infringement_aligned = X_infringement\n",
    "    last_token_hidden_states_infringement_aligned = last_token_hidden_states_infringement\n",
    "\n",
    "    # 进行合并\n",
    "X_infringement_combined = np.hstack([X_infringement_aligned, last_token_hidden_states_infringement_aligned])\n",
    "\n",
    "# 计算平均值\n",
    "average_totaltime = (totaltime_non_infringement + totaltime_infringement) / 2\n",
    "print(\"Average Total Time:\", average_totaltime)\n",
    "average_tpot = (tpot_non_infringement + tpot_infringement) / 2\n",
    "print(\"Average Tpot:\", average_tpot)"
   ]
  },
  {
   "cell_type": "code",
   "execution_count": null,
   "metadata": {},
   "outputs": [
    {
     "name": "stdout",
     "output_type": "stream",
     "text": [
      "Data successfully split into training and test sets.\n"
     ]
    }
   ],
   "source": [
    "split_index_non_infringement = int(0.8 * len(X_non_infringement_combined))\n",
    "X_non_infringement_train = X_non_infringement_combined[:split_index_non_infringement]\n",
    "X_non_infringement_test = X_non_infringement_combined[split_index_non_infringement:]\n",
    "y_non_infringement_train = y_non_infringement[:split_index_non_infringement]\n",
    "y_non_infringement_test = y_non_infringement[split_index_non_infringement:]\n",
    "\n",
    "split_index_infringement = int(0.8 * len(X_infringement_combined))\n",
    "X_infringement_train = X_infringement_combined[:split_index_infringement]\n",
    "X_infringement_test = X_infringement_combined[split_index_infringement:]\n",
    "y_infringement_train = y_infringement[:split_index_infringement]\n",
    "y_infringement_test = y_infringement[split_index_infringement:]\n",
    "\n",
    "X_train = np.vstack((X_non_infringement_train, X_infringement_train))\n",
    "X_test = np.vstack((X_non_infringement_test, X_infringement_test))\n",
    "y_train = np.concatenate((y_non_infringement_train, y_infringement_train))\n",
    "y_test = np.concatenate((y_non_infringement_test, y_infringement_test))\n",
    "\n",
    "print(\"Data successfully split into training and test sets.\")"
   ]
  },
  {
   "cell_type": "code",
   "execution_count": null,
   "metadata": {},
   "outputs": [
    {
     "name": "stdout",
     "output_type": "stream",
     "text": [
      "Training MLP model with input_dim=8192 and hidden_dim=256\n"
     ]
    },
    {
     "name": "stderr",
     "output_type": "stream",
     "text": [
      "Training Epochs:   1%|          | 11/2000 [00:00<02:30, 13.20it/s]"
     ]
    },
    {
     "name": "stdout",
     "output_type": "stream",
     "text": [
      "Epoch 10/2000, Loss: 0.6297\n",
      "Test Accuracy at Epoch 10: 62.63%\n",
      "Test F1-score at Epoch 10: 0.6728\n",
      "Classification Report at Epoch 10:\n",
      "                  precision    recall  f1-score   support\n",
      "\n",
      "    infringement       0.70      0.47      0.56       194\n",
      "non_infringement       0.59      0.78      0.67       186\n",
      "\n",
      "        accuracy                           0.63       380\n",
      "       macro avg       0.64      0.63      0.62       380\n",
      "    weighted avg       0.64      0.63      0.62       380\n",
      "\n",
      "New best model saved with F1-score 0.6728 at epoch 10\n",
      "Best Classification Report at Epoch 10:\n",
      "                  precision    recall  f1-score   support\n",
      "\n",
      "    infringement       0.70      0.47      0.56       194\n",
      "non_infringement       0.59      0.78      0.67       186\n",
      "\n",
      "        accuracy                           0.63       380\n",
      "       macro avg       0.64      0.63      0.62       380\n",
      "    weighted avg       0.64      0.63      0.62       380\n",
      "\n"
     ]
    },
    {
     "name": "stderr",
     "output_type": "stream",
     "text": [
      "Training Epochs:   1%|          | 23/2000 [00:01<01:50, 17.88it/s]"
     ]
    },
    {
     "name": "stdout",
     "output_type": "stream",
     "text": [
      "Epoch 20/2000, Loss: 0.2095\n",
      "Test Accuracy at Epoch 20: 63.95%\n",
      "Test F1-score at Epoch 20: 0.6600\n",
      "Classification Report at Epoch 20:\n",
      "                  precision    recall  f1-score   support\n",
      "\n",
      "    infringement       0.67      0.57      0.62       194\n",
      "non_infringement       0.61      0.72      0.66       186\n",
      "\n",
      "        accuracy                           0.64       380\n",
      "       macro avg       0.64      0.64      0.64       380\n",
      "    weighted avg       0.64      0.64      0.64       380\n",
      "\n"
     ]
    },
    {
     "name": "stderr",
     "output_type": "stream",
     "text": [
      "Training Epochs:   2%|▏         | 32/2000 [00:02<02:04, 15.75it/s]"
     ]
    },
    {
     "name": "stdout",
     "output_type": "stream",
     "text": [
      "Epoch 30/2000, Loss: 0.0745\n",
      "Test Accuracy at Epoch 30: 67.89%\n",
      "Test F1-score at Epoch 30: 0.6839\n",
      "Classification Report at Epoch 30:\n",
      "                  precision    recall  f1-score   support\n",
      "\n",
      "    infringement       0.70      0.65      0.67       194\n",
      "non_infringement       0.66      0.71      0.68       186\n",
      "\n",
      "        accuracy                           0.68       380\n",
      "       macro avg       0.68      0.68      0.68       380\n",
      "    weighted avg       0.68      0.68      0.68       380\n",
      "\n",
      "New best model saved with F1-score 0.6839 at epoch 30\n",
      "Best Classification Report at Epoch 30:\n",
      "                  precision    recall  f1-score   support\n",
      "\n",
      "    infringement       0.70      0.65      0.67       194\n",
      "non_infringement       0.66      0.71      0.68       186\n",
      "\n",
      "        accuracy                           0.68       380\n",
      "       macro avg       0.68      0.68      0.68       380\n",
      "    weighted avg       0.68      0.68      0.68       380\n",
      "\n"
     ]
    },
    {
     "name": "stderr",
     "output_type": "stream",
     "text": [
      "Training Epochs:   2%|▏         | 42/2000 [00:02<02:13, 14.68it/s]"
     ]
    },
    {
     "name": "stdout",
     "output_type": "stream",
     "text": [
      "Epoch 40/2000, Loss: 0.0378\n",
      "Test Accuracy at Epoch 40: 67.37%\n",
      "Test F1-score at Epoch 40: 0.6931\n",
      "Classification Report at Epoch 40:\n",
      "                  precision    recall  f1-score   support\n",
      "\n",
      "    infringement       0.72      0.60      0.65       194\n",
      "non_infringement       0.64      0.75      0.69       186\n",
      "\n",
      "        accuracy                           0.67       380\n",
      "       macro avg       0.68      0.68      0.67       380\n",
      "    weighted avg       0.68      0.67      0.67       380\n",
      "\n",
      "New best model saved with F1-score 0.6931 at epoch 40\n",
      "Best Classification Report at Epoch 40:\n",
      "                  precision    recall  f1-score   support\n",
      "\n",
      "    infringement       0.72      0.60      0.65       194\n",
      "non_infringement       0.64      0.75      0.69       186\n",
      "\n",
      "        accuracy                           0.67       380\n",
      "       macro avg       0.68      0.68      0.67       380\n",
      "    weighted avg       0.68      0.67      0.67       380\n",
      "\n"
     ]
    },
    {
     "name": "stderr",
     "output_type": "stream",
     "text": [
      "Training Epochs:   3%|▎         | 52/2000 [00:03<02:16, 14.31it/s]"
     ]
    },
    {
     "name": "stdout",
     "output_type": "stream",
     "text": [
      "Epoch 50/2000, Loss: 0.0234\n",
      "Test Accuracy at Epoch 50: 67.37%\n",
      "Test F1-score at Epoch 50: 0.6946\n",
      "Classification Report at Epoch 50:\n",
      "                  precision    recall  f1-score   support\n",
      "\n",
      "    infringement       0.72      0.59      0.65       194\n",
      "non_infringement       0.64      0.76      0.69       186\n",
      "\n",
      "        accuracy                           0.67       380\n",
      "       macro avg       0.68      0.68      0.67       380\n",
      "    weighted avg       0.68      0.67      0.67       380\n",
      "\n",
      "New best model saved with F1-score 0.6946 at epoch 50\n",
      "Best Classification Report at Epoch 50:\n",
      "                  precision    recall  f1-score   support\n",
      "\n",
      "    infringement       0.72      0.59      0.65       194\n",
      "non_infringement       0.64      0.76      0.69       186\n",
      "\n",
      "        accuracy                           0.67       380\n",
      "       macro avg       0.68      0.68      0.67       380\n",
      "    weighted avg       0.68      0.67      0.67       380\n",
      "\n"
     ]
    },
    {
     "name": "stderr",
     "output_type": "stream",
     "text": [
      "Training Epochs:   3%|▎         | 62/2000 [00:04<02:16, 14.17it/s]"
     ]
    },
    {
     "name": "stdout",
     "output_type": "stream",
     "text": [
      "Epoch 60/2000, Loss: 0.0167\n",
      "Test Accuracy at Epoch 60: 67.37%\n",
      "Test F1-score at Epoch 60: 0.6946\n",
      "Classification Report at Epoch 60:\n",
      "                  precision    recall  f1-score   support\n",
      "\n",
      "    infringement       0.72      0.59      0.65       194\n",
      "non_infringement       0.64      0.76      0.69       186\n",
      "\n",
      "        accuracy                           0.67       380\n",
      "       macro avg       0.68      0.68      0.67       380\n",
      "    weighted avg       0.68      0.67      0.67       380\n",
      "\n"
     ]
    },
    {
     "name": "stderr",
     "output_type": "stream",
     "text": [
      "Training Epochs:   4%|▎         | 70/2000 [00:04<02:25, 13.25it/s]"
     ]
    },
    {
     "name": "stdout",
     "output_type": "stream",
     "text": [
      "Epoch 70/2000, Loss: 0.0137\n",
      "Test Accuracy at Epoch 70: 67.37%\n",
      "Test F1-score at Epoch 70: 0.6961\n",
      "Classification Report at Epoch 70:\n",
      "                  precision    recall  f1-score   support\n",
      "\n",
      "    infringement       0.72      0.59      0.65       194\n",
      "non_infringement       0.64      0.76      0.70       186\n",
      "\n",
      "        accuracy                           0.67       380\n",
      "       macro avg       0.68      0.68      0.67       380\n",
      "    weighted avg       0.68      0.67      0.67       380\n",
      "\n",
      "New best model saved with F1-score 0.6961 at epoch 70\n",
      "Best Classification Report at Epoch 70:\n",
      "                  precision    recall  f1-score   support\n",
      "\n",
      "    infringement       0.72      0.59      0.65       194\n",
      "non_infringement       0.64      0.76      0.70       186\n",
      "\n",
      "        accuracy                           0.67       380\n",
      "       macro avg       0.68      0.68      0.67       380\n",
      "    weighted avg       0.68      0.67      0.67       380\n",
      "\n"
     ]
    },
    {
     "name": "stderr",
     "output_type": "stream",
     "text": [
      "Training Epochs:   4%|▍         | 82/2000 [00:05<02:09, 14.83it/s]"
     ]
    },
    {
     "name": "stdout",
     "output_type": "stream",
     "text": [
      "Epoch 80/2000, Loss: 0.0115\n",
      "Test Accuracy at Epoch 80: 67.63%\n",
      "Test F1-score at Epoch 80: 0.7007\n",
      "Classification Report at Epoch 80:\n",
      "                  precision    recall  f1-score   support\n",
      "\n",
      "    infringement       0.73      0.58      0.65       194\n",
      "non_infringement       0.64      0.77      0.70       186\n",
      "\n",
      "        accuracy                           0.68       380\n",
      "       macro avg       0.68      0.68      0.67       380\n",
      "    weighted avg       0.69      0.68      0.67       380\n",
      "\n",
      "New best model saved with F1-score 0.7007 at epoch 80\n",
      "Best Classification Report at Epoch 80:\n",
      "                  precision    recall  f1-score   support\n",
      "\n",
      "    infringement       0.73      0.58      0.65       194\n",
      "non_infringement       0.64      0.77      0.70       186\n",
      "\n",
      "        accuracy                           0.68       380\n",
      "       macro avg       0.68      0.68      0.67       380\n",
      "    weighted avg       0.69      0.68      0.67       380\n",
      "\n"
     ]
    },
    {
     "name": "stderr",
     "output_type": "stream",
     "text": [
      "Training Epochs:   5%|▍         | 92/2000 [00:06<01:58, 16.10it/s]"
     ]
    },
    {
     "name": "stdout",
     "output_type": "stream",
     "text": [
      "Epoch 90/2000, Loss: 0.0149\n",
      "Test Accuracy at Epoch 90: 67.37%\n",
      "Test F1-score at Epoch 90: 0.7005\n",
      "Classification Report at Epoch 90:\n",
      "                  precision    recall  f1-score   support\n",
      "\n",
      "    infringement       0.73      0.57      0.64       194\n",
      "non_infringement       0.64      0.78      0.70       186\n",
      "\n",
      "        accuracy                           0.67       380\n",
      "       macro avg       0.68      0.68      0.67       380\n",
      "    weighted avg       0.68      0.67      0.67       380\n",
      "\n"
     ]
    },
    {
     "name": "stderr",
     "output_type": "stream",
     "text": [
      "Training Epochs:   5%|▌         | 101/2000 [00:06<01:54, 16.52it/s]"
     ]
    },
    {
     "name": "stdout",
     "output_type": "stream",
     "text": [
      "Epoch 100/2000, Loss: 0.0105\n",
      "Test Accuracy at Epoch 100: 67.11%\n",
      "Test F1-score at Epoch 100: 0.6973\n",
      "Classification Report at Epoch 100:\n",
      "                  precision    recall  f1-score   support\n",
      "\n",
      "    infringement       0.73      0.57      0.64       194\n",
      "non_infringement       0.63      0.77      0.70       186\n",
      "\n",
      "        accuracy                           0.67       380\n",
      "       macro avg       0.68      0.67      0.67       380\n",
      "    weighted avg       0.68      0.67      0.67       380\n",
      "\n"
     ]
    },
    {
     "name": "stderr",
     "output_type": "stream",
     "text": [
      "Training Epochs:   6%|▌         | 111/2000 [00:07<01:53, 16.61it/s]"
     ]
    },
    {
     "name": "stdout",
     "output_type": "stream",
     "text": [
      "Epoch 110/2000, Loss: 0.0082\n",
      "Test Accuracy at Epoch 110: 67.11%\n",
      "Test F1-score at Epoch 110: 0.6973\n",
      "Classification Report at Epoch 110:\n",
      "                  precision    recall  f1-score   support\n",
      "\n",
      "    infringement       0.73      0.57      0.64       194\n",
      "non_infringement       0.63      0.77      0.70       186\n",
      "\n",
      "        accuracy                           0.67       380\n",
      "       macro avg       0.68      0.67      0.67       380\n",
      "    weighted avg       0.68      0.67      0.67       380\n",
      "\n"
     ]
    },
    {
     "name": "stderr",
     "output_type": "stream",
     "text": [
      "Training Epochs:   6%|▌         | 123/2000 [00:07<01:31, 20.50it/s]"
     ]
    },
    {
     "name": "stdout",
     "output_type": "stream",
     "text": [
      "Epoch 120/2000, Loss: 0.0070\n",
      "Test Accuracy at Epoch 120: 67.37%\n",
      "Test F1-score at Epoch 120: 0.6961\n",
      "Classification Report at Epoch 120:\n",
      "                  precision    recall  f1-score   support\n",
      "\n",
      "    infringement       0.72      0.59      0.65       194\n",
      "non_infringement       0.64      0.76      0.70       186\n",
      "\n",
      "        accuracy                           0.67       380\n",
      "       macro avg       0.68      0.68      0.67       380\n",
      "    weighted avg       0.68      0.67      0.67       380\n",
      "\n"
     ]
    },
    {
     "name": "stderr",
     "output_type": "stream",
     "text": [
      "Training Epochs:   7%|▋         | 132/2000 [00:08<01:28, 21.09it/s]"
     ]
    },
    {
     "name": "stdout",
     "output_type": "stream",
     "text": [
      "Epoch 130/2000, Loss: 0.0059\n",
      "Test Accuracy at Epoch 130: 67.11%\n",
      "Test F1-score at Epoch 130: 0.6944\n",
      "Classification Report at Epoch 130:\n",
      "                  precision    recall  f1-score   support\n",
      "\n",
      "    infringement       0.72      0.58      0.64       194\n",
      "non_infringement       0.64      0.76      0.69       186\n",
      "\n",
      "        accuracy                           0.67       380\n",
      "       macro avg       0.68      0.67      0.67       380\n",
      "    weighted avg       0.68      0.67      0.67       380\n",
      "\n"
     ]
    },
    {
     "name": "stderr",
     "output_type": "stream",
     "text": [
      "Training Epochs:   7%|▋         | 144/2000 [00:08<01:27, 21.32it/s]"
     ]
    },
    {
     "name": "stdout",
     "output_type": "stream",
     "text": [
      "Epoch 140/2000, Loss: 0.0052\n",
      "Test Accuracy at Epoch 140: 66.84%\n",
      "Test F1-score at Epoch 140: 0.6927\n",
      "Classification Report at Epoch 140:\n",
      "                  precision    recall  f1-score   support\n",
      "\n",
      "    infringement       0.72      0.58      0.64       194\n",
      "non_infringement       0.63      0.76      0.69       186\n",
      "\n",
      "        accuracy                           0.67       380\n",
      "       macro avg       0.68      0.67      0.67       380\n",
      "    weighted avg       0.68      0.67      0.67       380\n",
      "\n"
     ]
    },
    {
     "name": "stderr",
     "output_type": "stream",
     "text": [
      "Training Epochs:   8%|▊         | 153/2000 [00:09<01:22, 22.33it/s]"
     ]
    },
    {
     "name": "stdout",
     "output_type": "stream",
     "text": [
      "Epoch 150/2000, Loss: 0.0044\n",
      "Test Accuracy at Epoch 150: 66.84%\n",
      "Test F1-score at Epoch 150: 0.6927\n",
      "Classification Report at Epoch 150:\n",
      "                  precision    recall  f1-score   support\n",
      "\n",
      "    infringement       0.72      0.58      0.64       194\n",
      "non_infringement       0.63      0.76      0.69       186\n",
      "\n",
      "        accuracy                           0.67       380\n",
      "       macro avg       0.68      0.67      0.67       380\n",
      "    weighted avg       0.68      0.67      0.67       380\n",
      "\n"
     ]
    },
    {
     "name": "stderr",
     "output_type": "stream",
     "text": [
      "Training Epochs:   8%|▊         | 162/2000 [00:09<01:23, 22.06it/s]"
     ]
    },
    {
     "name": "stdout",
     "output_type": "stream",
     "text": [
      "Epoch 160/2000, Loss: 0.0039\n",
      "Test Accuracy at Epoch 160: 67.11%\n",
      "Test F1-score at Epoch 160: 0.6959\n",
      "Classification Report at Epoch 160:\n",
      "                  precision    recall  f1-score   support\n",
      "\n",
      "    infringement       0.72      0.58      0.64       194\n",
      "non_infringement       0.64      0.77      0.70       186\n",
      "\n",
      "        accuracy                           0.67       380\n",
      "       macro avg       0.68      0.67      0.67       380\n",
      "    weighted avg       0.68      0.67      0.67       380\n",
      "\n"
     ]
    },
    {
     "name": "stderr",
     "output_type": "stream",
     "text": [
      "Training Epochs:   9%|▊         | 171/2000 [00:10<01:31, 19.94it/s]"
     ]
    },
    {
     "name": "stdout",
     "output_type": "stream",
     "text": [
      "Epoch 170/2000, Loss: 0.0034\n",
      "Test Accuracy at Epoch 170: 67.11%\n",
      "Test F1-score at Epoch 170: 0.6959\n",
      "Classification Report at Epoch 170:\n",
      "                  precision    recall  f1-score   support\n",
      "\n",
      "    infringement       0.72      0.58      0.64       194\n",
      "non_infringement       0.64      0.77      0.70       186\n",
      "\n",
      "        accuracy                           0.67       380\n",
      "       macro avg       0.68      0.67      0.67       380\n",
      "    weighted avg       0.68      0.67      0.67       380\n",
      "\n"
     ]
    },
    {
     "name": "stderr",
     "output_type": "stream",
     "text": [
      "Training Epochs:   9%|▉         | 183/2000 [00:10<01:34, 19.25it/s]"
     ]
    },
    {
     "name": "stdout",
     "output_type": "stream",
     "text": [
      "Epoch 180/2000, Loss: 0.0030\n",
      "Test Accuracy at Epoch 180: 67.11%\n",
      "Test F1-score at Epoch 180: 0.6959\n",
      "Classification Report at Epoch 180:\n",
      "                  precision    recall  f1-score   support\n",
      "\n",
      "    infringement       0.72      0.58      0.64       194\n",
      "non_infringement       0.64      0.77      0.70       186\n",
      "\n",
      "        accuracy                           0.67       380\n",
      "       macro avg       0.68      0.67      0.67       380\n",
      "    weighted avg       0.68      0.67      0.67       380\n",
      "\n"
     ]
    },
    {
     "name": "stderr",
     "output_type": "stream",
     "text": [
      "Training Epochs:  10%|▉         | 193/2000 [00:11<01:38, 18.33it/s]"
     ]
    },
    {
     "name": "stdout",
     "output_type": "stream",
     "text": [
      "Epoch 190/2000, Loss: 0.0027\n",
      "Test Accuracy at Epoch 190: 66.84%\n",
      "Test F1-score at Epoch 190: 0.6927\n",
      "Classification Report at Epoch 190:\n",
      "                  precision    recall  f1-score   support\n",
      "\n",
      "    infringement       0.72      0.58      0.64       194\n",
      "non_infringement       0.63      0.76      0.69       186\n",
      "\n",
      "        accuracy                           0.67       380\n",
      "       macro avg       0.68      0.67      0.67       380\n",
      "    weighted avg       0.68      0.67      0.67       380\n",
      "\n"
     ]
    },
    {
     "name": "stderr",
     "output_type": "stream",
     "text": [
      "Training Epochs:  10%|█         | 202/2000 [00:11<01:54, 15.68it/s]"
     ]
    },
    {
     "name": "stdout",
     "output_type": "stream",
     "text": [
      "Epoch 200/2000, Loss: 0.0024\n",
      "Test Accuracy at Epoch 200: 66.58%\n",
      "Test F1-score at Epoch 200: 0.6910\n",
      "Classification Report at Epoch 200:\n",
      "                  precision    recall  f1-score   support\n",
      "\n",
      "    infringement       0.72      0.57      0.64       194\n",
      "non_infringement       0.63      0.76      0.69       186\n",
      "\n",
      "        accuracy                           0.67       380\n",
      "       macro avg       0.67      0.67      0.66       380\n",
      "    weighted avg       0.67      0.67      0.66       380\n",
      "\n"
     ]
    },
    {
     "name": "stderr",
     "output_type": "stream",
     "text": [
      "Training Epochs:  11%|█         | 211/2000 [00:12<01:48, 16.52it/s]"
     ]
    },
    {
     "name": "stdout",
     "output_type": "stream",
     "text": [
      "Epoch 210/2000, Loss: 0.0022\n",
      "Test Accuracy at Epoch 210: 66.58%\n",
      "Test F1-score at Epoch 210: 0.6910\n",
      "Classification Report at Epoch 210:\n",
      "                  precision    recall  f1-score   support\n",
      "\n",
      "    infringement       0.72      0.57      0.64       194\n",
      "non_infringement       0.63      0.76      0.69       186\n",
      "\n",
      "        accuracy                           0.67       380\n",
      "       macro avg       0.67      0.67      0.66       380\n",
      "    weighted avg       0.67      0.67      0.66       380\n",
      "\n"
     ]
    },
    {
     "name": "stderr",
     "output_type": "stream",
     "text": [
      "Training Epochs:  11%|█         | 221/2000 [00:12<01:52, 15.83it/s]"
     ]
    },
    {
     "name": "stdout",
     "output_type": "stream",
     "text": [
      "Epoch 220/2000, Loss: 0.0021\n",
      "Test Accuracy at Epoch 220: 66.58%\n",
      "Test F1-score at Epoch 220: 0.6910\n",
      "Classification Report at Epoch 220:\n",
      "                  precision    recall  f1-score   support\n",
      "\n",
      "    infringement       0.72      0.57      0.64       194\n",
      "non_infringement       0.63      0.76      0.69       186\n",
      "\n",
      "        accuracy                           0.67       380\n",
      "       macro avg       0.67      0.67      0.66       380\n",
      "    weighted avg       0.67      0.67      0.66       380\n",
      "\n"
     ]
    },
    {
     "name": "stderr",
     "output_type": "stream",
     "text": [
      "Training Epochs:  12%|█▏        | 231/2000 [00:13<01:40, 17.54it/s]"
     ]
    },
    {
     "name": "stdout",
     "output_type": "stream",
     "text": [
      "Epoch 230/2000, Loss: 0.0019\n",
      "Test Accuracy at Epoch 230: 66.58%\n",
      "Test F1-score at Epoch 230: 0.6910\n",
      "Classification Report at Epoch 230:\n",
      "                  precision    recall  f1-score   support\n",
      "\n",
      "    infringement       0.72      0.57      0.64       194\n",
      "non_infringement       0.63      0.76      0.69       186\n",
      "\n",
      "        accuracy                           0.67       380\n",
      "       macro avg       0.67      0.67      0.66       380\n",
      "    weighted avg       0.67      0.67      0.66       380\n",
      "\n"
     ]
    },
    {
     "name": "stderr",
     "output_type": "stream",
     "text": [
      "Training Epochs:  12%|█▏        | 241/2000 [00:14<01:56, 15.15it/s]"
     ]
    },
    {
     "name": "stdout",
     "output_type": "stream",
     "text": [
      "Epoch 240/2000, Loss: 0.0018\n",
      "Test Accuracy at Epoch 240: 66.84%\n",
      "Test F1-score at Epoch 240: 0.6942\n",
      "Classification Report at Epoch 240:\n",
      "                  precision    recall  f1-score   support\n",
      "\n",
      "    infringement       0.72      0.57      0.64       194\n",
      "non_infringement       0.63      0.77      0.69       186\n",
      "\n",
      "        accuracy                           0.67       380\n",
      "       macro avg       0.68      0.67      0.67       380\n",
      "    weighted avg       0.68      0.67      0.67       380\n",
      "\n"
     ]
    },
    {
     "name": "stderr",
     "output_type": "stream",
     "text": [
      "Training Epochs:  13%|█▎        | 251/2000 [00:14<01:56, 15.03it/s]"
     ]
    },
    {
     "name": "stdout",
     "output_type": "stream",
     "text": [
      "Epoch 250/2000, Loss: 0.0018\n",
      "Test Accuracy at Epoch 250: 66.84%\n",
      "Test F1-score at Epoch 250: 0.6942\n",
      "Classification Report at Epoch 250:\n",
      "                  precision    recall  f1-score   support\n",
      "\n",
      "    infringement       0.72      0.57      0.64       194\n",
      "non_infringement       0.63      0.77      0.69       186\n",
      "\n",
      "        accuracy                           0.67       380\n",
      "       macro avg       0.68      0.67      0.67       380\n",
      "    weighted avg       0.68      0.67      0.67       380\n",
      "\n"
     ]
    },
    {
     "name": "stderr",
     "output_type": "stream",
     "text": [
      "Training Epochs:  13%|█▎        | 261/2000 [00:15<01:53, 15.26it/s]"
     ]
    },
    {
     "name": "stdout",
     "output_type": "stream",
     "text": [
      "Epoch 260/2000, Loss: 0.0017\n",
      "Test Accuracy at Epoch 260: 66.84%\n",
      "Test F1-score at Epoch 260: 0.6942\n",
      "Classification Report at Epoch 260:\n",
      "                  precision    recall  f1-score   support\n",
      "\n",
      "    infringement       0.72      0.57      0.64       194\n",
      "non_infringement       0.63      0.77      0.69       186\n",
      "\n",
      "        accuracy                           0.67       380\n",
      "       macro avg       0.68      0.67      0.67       380\n",
      "    weighted avg       0.68      0.67      0.67       380\n",
      "\n"
     ]
    },
    {
     "name": "stderr",
     "output_type": "stream",
     "text": [
      "Training Epochs:  14%|█▎        | 273/2000 [00:16<01:47, 16.04it/s]"
     ]
    },
    {
     "name": "stdout",
     "output_type": "stream",
     "text": [
      "Epoch 270/2000, Loss: 0.0016\n",
      "Test Accuracy at Epoch 270: 66.58%\n",
      "Test F1-score at Epoch 270: 0.6925\n",
      "Classification Report at Epoch 270:\n",
      "                  precision    recall  f1-score   support\n",
      "\n",
      "    infringement       0.72      0.57      0.63       194\n",
      "non_infringement       0.63      0.77      0.69       186\n",
      "\n",
      "        accuracy                           0.67       380\n",
      "       macro avg       0.67      0.67      0.66       380\n",
      "    weighted avg       0.68      0.67      0.66       380\n",
      "\n"
     ]
    },
    {
     "name": "stderr",
     "output_type": "stream",
     "text": [
      "Training Epochs:  14%|█▍        | 281/2000 [00:16<01:53, 15.19it/s]"
     ]
    },
    {
     "name": "stdout",
     "output_type": "stream",
     "text": [
      "Epoch 280/2000, Loss: 0.0016\n",
      "Test Accuracy at Epoch 280: 66.58%\n",
      "Test F1-score at Epoch 280: 0.6925\n",
      "Classification Report at Epoch 280:\n",
      "                  precision    recall  f1-score   support\n",
      "\n",
      "    infringement       0.72      0.57      0.63       194\n",
      "non_infringement       0.63      0.77      0.69       186\n",
      "\n",
      "        accuracy                           0.67       380\n",
      "       macro avg       0.67      0.67      0.66       380\n",
      "    weighted avg       0.68      0.67      0.66       380\n",
      "\n"
     ]
    },
    {
     "name": "stderr",
     "output_type": "stream",
     "text": [
      "Training Epochs:  15%|█▍        | 293/2000 [00:17<01:43, 16.43it/s]"
     ]
    },
    {
     "name": "stdout",
     "output_type": "stream",
     "text": [
      "Epoch 290/2000, Loss: 0.0016\n",
      "Test Accuracy at Epoch 290: 66.32%\n",
      "Test F1-score at Epoch 290: 0.6908\n",
      "Classification Report at Epoch 290:\n",
      "                  precision    recall  f1-score   support\n",
      "\n",
      "    infringement       0.72      0.56      0.63       194\n",
      "non_infringement       0.63      0.77      0.69       186\n",
      "\n",
      "        accuracy                           0.66       380\n",
      "       macro avg       0.67      0.67      0.66       380\n",
      "    weighted avg       0.67      0.66      0.66       380\n",
      "\n"
     ]
    },
    {
     "name": "stderr",
     "output_type": "stream",
     "text": [
      "Training Epochs:  15%|█▌        | 303/2000 [00:17<01:32, 18.40it/s]"
     ]
    },
    {
     "name": "stdout",
     "output_type": "stream",
     "text": [
      "Epoch 300/2000, Loss: 0.0015\n",
      "Test Accuracy at Epoch 300: 66.32%\n",
      "Test F1-score at Epoch 300: 0.6908\n",
      "Classification Report at Epoch 300:\n",
      "                  precision    recall  f1-score   support\n",
      "\n",
      "    infringement       0.72      0.56      0.63       194\n",
      "non_infringement       0.63      0.77      0.69       186\n",
      "\n",
      "        accuracy                           0.66       380\n",
      "       macro avg       0.67      0.67      0.66       380\n",
      "    weighted avg       0.67      0.66      0.66       380\n",
      "\n"
     ]
    },
    {
     "name": "stderr",
     "output_type": "stream",
     "text": [
      "Training Epochs:  16%|█▌        | 312/2000 [00:18<01:25, 19.85it/s]"
     ]
    },
    {
     "name": "stdout",
     "output_type": "stream",
     "text": [
      "Epoch 310/2000, Loss: 0.0015\n",
      "Test Accuracy at Epoch 310: 66.32%\n",
      "Test F1-score at Epoch 310: 0.6908\n",
      "Classification Report at Epoch 310:\n",
      "                  precision    recall  f1-score   support\n",
      "\n",
      "    infringement       0.72      0.56      0.63       194\n",
      "non_infringement       0.63      0.77      0.69       186\n",
      "\n",
      "        accuracy                           0.66       380\n",
      "       macro avg       0.67      0.67      0.66       380\n",
      "    weighted avg       0.67      0.66      0.66       380\n",
      "\n"
     ]
    },
    {
     "name": "stderr",
     "output_type": "stream",
     "text": [
      "Training Epochs:  16%|█▌        | 321/2000 [00:18<01:18, 21.45it/s]"
     ]
    },
    {
     "name": "stdout",
     "output_type": "stream",
     "text": [
      "Epoch 320/2000, Loss: 0.0015\n",
      "Test Accuracy at Epoch 320: 66.32%\n",
      "Test F1-score at Epoch 320: 0.6908\n",
      "Classification Report at Epoch 320:\n",
      "                  precision    recall  f1-score   support\n",
      "\n",
      "    infringement       0.72      0.56      0.63       194\n",
      "non_infringement       0.63      0.77      0.69       186\n",
      "\n",
      "        accuracy                           0.66       380\n",
      "       macro avg       0.67      0.67      0.66       380\n",
      "    weighted avg       0.67      0.66      0.66       380\n",
      "\n"
     ]
    },
    {
     "name": "stderr",
     "output_type": "stream",
     "text": [
      "Training Epochs:  17%|█▋        | 333/2000 [00:19<01:13, 22.57it/s]"
     ]
    },
    {
     "name": "stdout",
     "output_type": "stream",
     "text": [
      "Epoch 330/2000, Loss: 0.0015\n",
      "Test Accuracy at Epoch 330: 66.32%\n",
      "Test F1-score at Epoch 330: 0.6908\n",
      "Classification Report at Epoch 330:\n",
      "                  precision    recall  f1-score   support\n",
      "\n",
      "    infringement       0.72      0.56      0.63       194\n",
      "non_infringement       0.63      0.77      0.69       186\n",
      "\n",
      "        accuracy                           0.66       380\n",
      "       macro avg       0.67      0.67      0.66       380\n",
      "    weighted avg       0.67      0.66      0.66       380\n",
      "\n"
     ]
    },
    {
     "name": "stderr",
     "output_type": "stream",
     "text": [
      "Training Epochs:  17%|█▋        | 342/2000 [00:19<01:17, 21.46it/s]"
     ]
    },
    {
     "name": "stdout",
     "output_type": "stream",
     "text": [
      "Epoch 340/2000, Loss: 0.0015\n",
      "Test Accuracy at Epoch 340: 66.32%\n",
      "Test F1-score at Epoch 340: 0.6908\n",
      "Classification Report at Epoch 340:\n",
      "                  precision    recall  f1-score   support\n",
      "\n",
      "    infringement       0.72      0.56      0.63       194\n",
      "non_infringement       0.63      0.77      0.69       186\n",
      "\n",
      "        accuracy                           0.66       380\n",
      "       macro avg       0.67      0.67      0.66       380\n",
      "    weighted avg       0.67      0.66      0.66       380\n",
      "\n"
     ]
    },
    {
     "name": "stderr",
     "output_type": "stream",
     "text": [
      "Training Epochs:  18%|█▊        | 354/2000 [00:20<01:15, 21.85it/s]"
     ]
    },
    {
     "name": "stdout",
     "output_type": "stream",
     "text": [
      "Epoch 350/2000, Loss: 0.0014\n",
      "Test Accuracy at Epoch 350: 66.32%\n",
      "Test F1-score at Epoch 350: 0.6908\n",
      "Classification Report at Epoch 350:\n",
      "                  precision    recall  f1-score   support\n",
      "\n",
      "    infringement       0.72      0.56      0.63       194\n",
      "non_infringement       0.63      0.77      0.69       186\n",
      "\n",
      "        accuracy                           0.66       380\n",
      "       macro avg       0.67      0.67      0.66       380\n",
      "    weighted avg       0.67      0.66      0.66       380\n",
      "\n"
     ]
    },
    {
     "name": "stderr",
     "output_type": "stream",
     "text": [
      "Training Epochs:  18%|█▊        | 363/2000 [00:20<01:12, 22.46it/s]"
     ]
    },
    {
     "name": "stdout",
     "output_type": "stream",
     "text": [
      "Epoch 360/2000, Loss: 0.0014\n",
      "Test Accuracy at Epoch 360: 66.32%\n",
      "Test F1-score at Epoch 360: 0.6908\n",
      "Classification Report at Epoch 360:\n",
      "                  precision    recall  f1-score   support\n",
      "\n",
      "    infringement       0.72      0.56      0.63       194\n",
      "non_infringement       0.63      0.77      0.69       186\n",
      "\n",
      "        accuracy                           0.66       380\n",
      "       macro avg       0.67      0.67      0.66       380\n",
      "    weighted avg       0.67      0.66      0.66       380\n",
      "\n"
     ]
    },
    {
     "name": "stderr",
     "output_type": "stream",
     "text": [
      "Training Epochs:  19%|█▊        | 372/2000 [00:21<01:21, 20.06it/s]"
     ]
    },
    {
     "name": "stdout",
     "output_type": "stream",
     "text": [
      "Epoch 370/2000, Loss: 0.0014\n",
      "Test Accuracy at Epoch 370: 66.05%\n",
      "Test F1-score at Epoch 370: 0.6892\n",
      "Classification Report at Epoch 370:\n",
      "                  precision    recall  f1-score   support\n",
      "\n",
      "    infringement       0.72      0.56      0.63       194\n",
      "non_infringement       0.62      0.77      0.69       186\n",
      "\n",
      "        accuracy                           0.66       380\n",
      "       macro avg       0.67      0.66      0.66       380\n",
      "    weighted avg       0.67      0.66      0.66       380\n",
      "\n"
     ]
    },
    {
     "name": "stderr",
     "output_type": "stream",
     "text": [
      "Training Epochs:  19%|█▉        | 381/2000 [00:21<01:17, 20.89it/s]"
     ]
    },
    {
     "name": "stdout",
     "output_type": "stream",
     "text": [
      "Epoch 380/2000, Loss: 0.0014\n",
      "Test Accuracy at Epoch 380: 66.05%\n",
      "Test F1-score at Epoch 380: 0.6892\n",
      "Classification Report at Epoch 380:\n",
      "                  precision    recall  f1-score   support\n",
      "\n",
      "    infringement       0.72      0.56      0.63       194\n",
      "non_infringement       0.62      0.77      0.69       186\n",
      "\n",
      "        accuracy                           0.66       380\n",
      "       macro avg       0.67      0.66      0.66       380\n",
      "    weighted avg       0.67      0.66      0.66       380\n",
      "\n"
     ]
    },
    {
     "name": "stderr",
     "output_type": "stream",
     "text": [
      "Training Epochs:  20%|█▉        | 393/2000 [00:22<01:11, 22.50it/s]"
     ]
    },
    {
     "name": "stdout",
     "output_type": "stream",
     "text": [
      "Epoch 390/2000, Loss: 0.0014\n",
      "Test Accuracy at Epoch 390: 66.05%\n",
      "Test F1-score at Epoch 390: 0.6892\n",
      "Classification Report at Epoch 390:\n",
      "                  precision    recall  f1-score   support\n",
      "\n",
      "    infringement       0.72      0.56      0.63       194\n",
      "non_infringement       0.62      0.77      0.69       186\n",
      "\n",
      "        accuracy                           0.66       380\n",
      "       macro avg       0.67      0.66      0.66       380\n",
      "    weighted avg       0.67      0.66      0.66       380\n",
      "\n"
     ]
    },
    {
     "name": "stderr",
     "output_type": "stream",
     "text": [
      "Training Epochs:  20%|██        | 402/2000 [00:22<01:11, 22.40it/s]"
     ]
    },
    {
     "name": "stdout",
     "output_type": "stream",
     "text": [
      "Epoch 400/2000, Loss: 0.0014\n",
      "Test Accuracy at Epoch 400: 66.05%\n",
      "Test F1-score at Epoch 400: 0.6892\n",
      "Classification Report at Epoch 400:\n",
      "                  precision    recall  f1-score   support\n",
      "\n",
      "    infringement       0.72      0.56      0.63       194\n",
      "non_infringement       0.62      0.77      0.69       186\n",
      "\n",
      "        accuracy                           0.66       380\n",
      "       macro avg       0.67      0.66      0.66       380\n",
      "    weighted avg       0.67      0.66      0.66       380\n",
      "\n"
     ]
    },
    {
     "name": "stderr",
     "output_type": "stream",
     "text": [
      "Training Epochs:  21%|██        | 414/2000 [00:22<01:04, 24.62it/s]"
     ]
    },
    {
     "name": "stdout",
     "output_type": "stream",
     "text": [
      "Epoch 410/2000, Loss: 0.0014\n",
      "Test Accuracy at Epoch 410: 66.32%\n",
      "Test F1-score at Epoch 410: 0.6923\n",
      "Classification Report at Epoch 410:\n",
      "                  precision    recall  f1-score   support\n",
      "\n",
      "    infringement       0.72      0.56      0.63       194\n",
      "non_infringement       0.63      0.77      0.69       186\n",
      "\n",
      "        accuracy                           0.66       380\n",
      "       macro avg       0.67      0.67      0.66       380\n",
      "    weighted avg       0.67      0.66      0.66       380\n",
      "\n"
     ]
    },
    {
     "name": "stderr",
     "output_type": "stream",
     "text": [
      "Training Epochs:  21%|██        | 421/2000 [00:23<01:06, 23.82it/s]"
     ]
    },
    {
     "name": "stdout",
     "output_type": "stream",
     "text": [
      "Epoch 420/2000, Loss: 0.0014\n",
      "Test Accuracy at Epoch 420: 66.32%\n",
      "Test F1-score at Epoch 420: 0.6923\n",
      "Classification Report at Epoch 420:\n",
      "                  precision    recall  f1-score   support\n",
      "\n",
      "    infringement       0.72      0.56      0.63       194\n",
      "non_infringement       0.63      0.77      0.69       186\n",
      "\n",
      "        accuracy                           0.66       380\n",
      "       macro avg       0.67      0.67      0.66       380\n",
      "    weighted avg       0.67      0.66      0.66       380\n",
      "\n"
     ]
    },
    {
     "name": "stderr",
     "output_type": "stream",
     "text": [
      "Training Epochs:  22%|██▏       | 432/2000 [00:23<01:03, 24.66it/s]"
     ]
    },
    {
     "name": "stdout",
     "output_type": "stream",
     "text": [
      "Epoch 430/2000, Loss: 0.0014\n",
      "Test Accuracy at Epoch 430: 66.32%\n",
      "Test F1-score at Epoch 430: 0.6923\n",
      "Classification Report at Epoch 430:\n",
      "                  precision    recall  f1-score   support\n",
      "\n",
      "    infringement       0.72      0.56      0.63       194\n",
      "non_infringement       0.63      0.77      0.69       186\n",
      "\n",
      "        accuracy                           0.66       380\n",
      "       macro avg       0.67      0.67      0.66       380\n",
      "    weighted avg       0.67      0.66      0.66       380\n",
      "\n"
     ]
    },
    {
     "name": "stderr",
     "output_type": "stream",
     "text": [
      "Training Epochs:  22%|██▏       | 442/2000 [00:24<01:03, 24.53it/s]"
     ]
    },
    {
     "name": "stdout",
     "output_type": "stream",
     "text": [
      "Epoch 440/2000, Loss: 0.0014\n",
      "Test Accuracy at Epoch 440: 66.32%\n",
      "Test F1-score at Epoch 440: 0.6923\n",
      "Classification Report at Epoch 440:\n",
      "                  precision    recall  f1-score   support\n",
      "\n",
      "    infringement       0.72      0.56      0.63       194\n",
      "non_infringement       0.63      0.77      0.69       186\n",
      "\n",
      "        accuracy                           0.66       380\n",
      "       macro avg       0.67      0.67      0.66       380\n",
      "    weighted avg       0.67      0.66      0.66       380\n",
      "\n"
     ]
    },
    {
     "name": "stderr",
     "output_type": "stream",
     "text": [
      "Training Epochs:  23%|██▎       | 452/2000 [00:24<01:01, 25.33it/s]"
     ]
    },
    {
     "name": "stdout",
     "output_type": "stream",
     "text": [
      "Epoch 450/2000, Loss: 0.0014\n",
      "Test Accuracy at Epoch 450: 66.32%\n",
      "Test F1-score at Epoch 450: 0.6923\n",
      "Classification Report at Epoch 450:\n",
      "                  precision    recall  f1-score   support\n",
      "\n",
      "    infringement       0.72      0.56      0.63       194\n",
      "non_infringement       0.63      0.77      0.69       186\n",
      "\n",
      "        accuracy                           0.66       380\n",
      "       macro avg       0.67      0.67      0.66       380\n",
      "    weighted avg       0.67      0.66      0.66       380\n",
      "\n"
     ]
    },
    {
     "name": "stderr",
     "output_type": "stream",
     "text": [
      "Training Epochs:  23%|██▎       | 462/2000 [00:24<01:06, 23.22it/s]"
     ]
    },
    {
     "name": "stdout",
     "output_type": "stream",
     "text": [
      "Epoch 460/2000, Loss: 0.0016\n",
      "Test Accuracy at Epoch 460: 66.32%\n",
      "Test F1-score at Epoch 460: 0.6923\n",
      "Classification Report at Epoch 460:\n",
      "                  precision    recall  f1-score   support\n",
      "\n",
      "    infringement       0.72      0.56      0.63       194\n",
      "non_infringement       0.63      0.77      0.69       186\n",
      "\n",
      "        accuracy                           0.66       380\n",
      "       macro avg       0.67      0.67      0.66       380\n",
      "    weighted avg       0.67      0.66      0.66       380\n",
      "\n"
     ]
    },
    {
     "name": "stderr",
     "output_type": "stream",
     "text": [
      "Training Epochs:  24%|██▎       | 474/2000 [00:25<01:14, 20.52it/s]"
     ]
    },
    {
     "name": "stdout",
     "output_type": "stream",
     "text": [
      "Epoch 470/2000, Loss: 0.0014\n",
      "Test Accuracy at Epoch 470: 66.32%\n",
      "Test F1-score at Epoch 470: 0.6923\n",
      "Classification Report at Epoch 470:\n",
      "                  precision    recall  f1-score   support\n",
      "\n",
      "    infringement       0.72      0.56      0.63       194\n",
      "non_infringement       0.63      0.77      0.69       186\n",
      "\n",
      "        accuracy                           0.66       380\n",
      "       macro avg       0.67      0.67      0.66       380\n",
      "    weighted avg       0.67      0.66      0.66       380\n",
      "\n"
     ]
    },
    {
     "name": "stderr",
     "output_type": "stream",
     "text": [
      "Training Epochs:  24%|██▍       | 483/2000 [00:25<01:08, 22.21it/s]"
     ]
    },
    {
     "name": "stdout",
     "output_type": "stream",
     "text": [
      "Epoch 480/2000, Loss: 0.0015\n",
      "Test Accuracy at Epoch 480: 66.05%\n",
      "Test F1-score at Epoch 480: 0.6906\n",
      "Classification Report at Epoch 480:\n",
      "                  precision    recall  f1-score   support\n",
      "\n",
      "    infringement       0.72      0.55      0.62       194\n",
      "non_infringement       0.62      0.77      0.69       186\n",
      "\n",
      "        accuracy                           0.66       380\n",
      "       macro avg       0.67      0.66      0.66       380\n",
      "    weighted avg       0.67      0.66      0.66       380\n",
      "\n"
     ]
    },
    {
     "name": "stderr",
     "output_type": "stream",
     "text": [
      "Training Epochs:  25%|██▍       | 492/2000 [00:26<01:03, 23.79it/s]"
     ]
    },
    {
     "name": "stdout",
     "output_type": "stream",
     "text": [
      "Epoch 490/2000, Loss: 0.0014\n",
      "Test Accuracy at Epoch 490: 66.32%\n",
      "Test F1-score at Epoch 490: 0.6923\n",
      "Classification Report at Epoch 490:\n",
      "                  precision    recall  f1-score   support\n",
      "\n",
      "    infringement       0.72      0.56      0.63       194\n",
      "non_infringement       0.63      0.77      0.69       186\n",
      "\n",
      "        accuracy                           0.66       380\n",
      "       macro avg       0.67      0.67      0.66       380\n",
      "    weighted avg       0.67      0.66      0.66       380\n",
      "\n"
     ]
    },
    {
     "name": "stderr",
     "output_type": "stream",
     "text": [
      "Training Epochs:  25%|██▌       | 502/2000 [00:26<01:05, 22.94it/s]"
     ]
    },
    {
     "name": "stdout",
     "output_type": "stream",
     "text": [
      "Epoch 500/2000, Loss: 0.0013\n",
      "Test Accuracy at Epoch 500: 66.32%\n",
      "Test F1-score at Epoch 500: 0.6923\n",
      "Classification Report at Epoch 500:\n",
      "                  precision    recall  f1-score   support\n",
      "\n",
      "    infringement       0.72      0.56      0.63       194\n",
      "non_infringement       0.63      0.77      0.69       186\n",
      "\n",
      "        accuracy                           0.66       380\n",
      "       macro avg       0.67      0.67      0.66       380\n",
      "    weighted avg       0.67      0.66      0.66       380\n",
      "\n"
     ]
    },
    {
     "name": "stderr",
     "output_type": "stream",
     "text": [
      "Training Epochs:  26%|██▌       | 514/2000 [00:27<01:00, 24.54it/s]"
     ]
    },
    {
     "name": "stdout",
     "output_type": "stream",
     "text": [
      "Epoch 510/2000, Loss: 0.0013\n",
      "Test Accuracy at Epoch 510: 66.05%\n",
      "Test F1-score at Epoch 510: 0.6906\n",
      "Classification Report at Epoch 510:\n",
      "                  precision    recall  f1-score   support\n",
      "\n",
      "    infringement       0.72      0.55      0.62       194\n",
      "non_infringement       0.62      0.77      0.69       186\n",
      "\n",
      "        accuracy                           0.66       380\n",
      "       macro avg       0.67      0.66      0.66       380\n",
      "    weighted avg       0.67      0.66      0.66       380\n",
      "\n"
     ]
    },
    {
     "name": "stderr",
     "output_type": "stream",
     "text": [
      "Training Epochs:  26%|██▌       | 523/2000 [00:27<01:01, 24.04it/s]"
     ]
    },
    {
     "name": "stdout",
     "output_type": "stream",
     "text": [
      "Epoch 520/2000, Loss: 0.0014\n",
      "Test Accuracy at Epoch 520: 66.05%\n",
      "Test F1-score at Epoch 520: 0.6906\n",
      "Classification Report at Epoch 520:\n",
      "                  precision    recall  f1-score   support\n",
      "\n",
      "    infringement       0.72      0.55      0.62       194\n",
      "non_infringement       0.62      0.77      0.69       186\n",
      "\n",
      "        accuracy                           0.66       380\n",
      "       macro avg       0.67      0.66      0.66       380\n",
      "    weighted avg       0.67      0.66      0.66       380\n",
      "\n"
     ]
    },
    {
     "name": "stderr",
     "output_type": "stream",
     "text": [
      "Training Epochs:  27%|██▋       | 534/2000 [00:27<00:54, 26.73it/s]"
     ]
    },
    {
     "name": "stdout",
     "output_type": "stream",
     "text": [
      "Epoch 530/2000, Loss: 0.0014\n",
      "Test Accuracy at Epoch 530: 66.05%\n",
      "Test F1-score at Epoch 530: 0.6906\n",
      "Classification Report at Epoch 530:\n",
      "                  precision    recall  f1-score   support\n",
      "\n",
      "    infringement       0.72      0.55      0.62       194\n",
      "non_infringement       0.62      0.77      0.69       186\n",
      "\n",
      "        accuracy                           0.66       380\n",
      "       macro avg       0.67      0.66      0.66       380\n",
      "    weighted avg       0.67      0.66      0.66       380\n",
      "\n"
     ]
    },
    {
     "name": "stderr",
     "output_type": "stream",
     "text": [
      "Training Epochs:  27%|██▋       | 543/2000 [00:28<00:57, 25.48it/s]"
     ]
    },
    {
     "name": "stdout",
     "output_type": "stream",
     "text": [
      "Epoch 540/2000, Loss: 0.0014\n",
      "Test Accuracy at Epoch 540: 66.05%\n",
      "Test F1-score at Epoch 540: 0.6906\n",
      "Classification Report at Epoch 540:\n",
      "                  precision    recall  f1-score   support\n",
      "\n",
      "    infringement       0.72      0.55      0.62       194\n",
      "non_infringement       0.62      0.77      0.69       186\n",
      "\n",
      "        accuracy                           0.66       380\n",
      "       macro avg       0.67      0.66      0.66       380\n",
      "    weighted avg       0.67      0.66      0.66       380\n",
      "\n"
     ]
    },
    {
     "name": "stderr",
     "output_type": "stream",
     "text": [
      "Training Epochs:  28%|██▊       | 552/2000 [00:28<00:58, 24.89it/s]"
     ]
    },
    {
     "name": "stdout",
     "output_type": "stream",
     "text": [
      "Epoch 550/2000, Loss: 0.0014\n",
      "Test Accuracy at Epoch 550: 66.05%\n",
      "Test F1-score at Epoch 550: 0.6906\n",
      "Classification Report at Epoch 550:\n",
      "                  precision    recall  f1-score   support\n",
      "\n",
      "    infringement       0.72      0.55      0.62       194\n",
      "non_infringement       0.62      0.77      0.69       186\n",
      "\n",
      "        accuracy                           0.66       380\n",
      "       macro avg       0.67      0.66      0.66       380\n",
      "    weighted avg       0.67      0.66      0.66       380\n",
      "\n"
     ]
    },
    {
     "name": "stderr",
     "output_type": "stream",
     "text": [
      "Training Epochs:  28%|██▊       | 564/2000 [00:29<01:02, 23.00it/s]"
     ]
    },
    {
     "name": "stdout",
     "output_type": "stream",
     "text": [
      "Epoch 560/2000, Loss: 0.0014\n",
      "Test Accuracy at Epoch 560: 66.05%\n",
      "Test F1-score at Epoch 560: 0.6906\n",
      "Classification Report at Epoch 560:\n",
      "                  precision    recall  f1-score   support\n",
      "\n",
      "    infringement       0.72      0.55      0.62       194\n",
      "non_infringement       0.62      0.77      0.69       186\n",
      "\n",
      "        accuracy                           0.66       380\n",
      "       macro avg       0.67      0.66      0.66       380\n",
      "    weighted avg       0.67      0.66      0.66       380\n",
      "\n"
     ]
    },
    {
     "name": "stderr",
     "output_type": "stream",
     "text": [
      "Training Epochs:  29%|██▊       | 573/2000 [00:29<00:57, 25.03it/s]"
     ]
    },
    {
     "name": "stdout",
     "output_type": "stream",
     "text": [
      "Epoch 570/2000, Loss: 0.0014\n",
      "Test Accuracy at Epoch 570: 66.05%\n",
      "Test F1-score at Epoch 570: 0.6906\n",
      "Classification Report at Epoch 570:\n",
      "                  precision    recall  f1-score   support\n",
      "\n",
      "    infringement       0.72      0.55      0.62       194\n",
      "non_infringement       0.62      0.77      0.69       186\n",
      "\n",
      "        accuracy                           0.66       380\n",
      "       macro avg       0.67      0.66      0.66       380\n",
      "    weighted avg       0.67      0.66      0.66       380\n",
      "\n"
     ]
    },
    {
     "name": "stderr",
     "output_type": "stream",
     "text": [
      "Training Epochs:  29%|██▉       | 582/2000 [00:30<01:18, 18.16it/s]"
     ]
    },
    {
     "name": "stdout",
     "output_type": "stream",
     "text": [
      "Epoch 580/2000, Loss: 0.0014\n",
      "Test Accuracy at Epoch 580: 66.05%\n",
      "Test F1-score at Epoch 580: 0.6906\n",
      "Classification Report at Epoch 580:\n",
      "                  precision    recall  f1-score   support\n",
      "\n",
      "    infringement       0.72      0.55      0.62       194\n",
      "non_infringement       0.62      0.77      0.69       186\n",
      "\n",
      "        accuracy                           0.66       380\n",
      "       macro avg       0.67      0.66      0.66       380\n",
      "    weighted avg       0.67      0.66      0.66       380\n",
      "\n"
     ]
    },
    {
     "name": "stderr",
     "output_type": "stream",
     "text": [
      "Training Epochs:  30%|██▉       | 593/2000 [00:30<01:14, 18.89it/s]"
     ]
    },
    {
     "name": "stdout",
     "output_type": "stream",
     "text": [
      "Epoch 590/2000, Loss: 0.0014\n",
      "Test Accuracy at Epoch 590: 66.05%\n",
      "Test F1-score at Epoch 590: 0.6906\n",
      "Classification Report at Epoch 590:\n",
      "                  precision    recall  f1-score   support\n",
      "\n",
      "    infringement       0.72      0.55      0.62       194\n",
      "non_infringement       0.62      0.77      0.69       186\n",
      "\n",
      "        accuracy                           0.66       380\n",
      "       macro avg       0.67      0.66      0.66       380\n",
      "    weighted avg       0.67      0.66      0.66       380\n",
      "\n"
     ]
    },
    {
     "name": "stderr",
     "output_type": "stream",
     "text": [
      "Training Epochs:  30%|███       | 600/2000 [00:31<01:14, 18.73it/s]"
     ]
    },
    {
     "name": "stdout",
     "output_type": "stream",
     "text": [
      "Epoch 600/2000, Loss: 0.0014\n",
      "Test Accuracy at Epoch 600: 66.05%\n",
      "Test F1-score at Epoch 600: 0.6906\n",
      "Classification Report at Epoch 600:\n",
      "                  precision    recall  f1-score   support\n",
      "\n",
      "    infringement       0.72      0.55      0.62       194\n",
      "non_infringement       0.62      0.77      0.69       186\n",
      "\n",
      "        accuracy                           0.66       380\n",
      "       macro avg       0.67      0.66      0.66       380\n",
      "    weighted avg       0.67      0.66      0.66       380\n",
      "\n"
     ]
    },
    {
     "name": "stderr",
     "output_type": "stream",
     "text": [
      "Training Epochs:  31%|███       | 611/2000 [00:31<01:20, 17.15it/s]"
     ]
    },
    {
     "name": "stdout",
     "output_type": "stream",
     "text": [
      "Epoch 610/2000, Loss: 0.0014\n",
      "Test Accuracy at Epoch 610: 66.05%\n",
      "Test F1-score at Epoch 610: 0.6906\n",
      "Classification Report at Epoch 610:\n",
      "                  precision    recall  f1-score   support\n",
      "\n",
      "    infringement       0.72      0.55      0.62       194\n",
      "non_infringement       0.62      0.77      0.69       186\n",
      "\n",
      "        accuracy                           0.66       380\n",
      "       macro avg       0.67      0.66      0.66       380\n",
      "    weighted avg       0.67      0.66      0.66       380\n",
      "\n"
     ]
    },
    {
     "name": "stderr",
     "output_type": "stream",
     "text": [
      "Training Epochs:  31%|███       | 622/2000 [00:32<01:30, 15.15it/s]"
     ]
    },
    {
     "name": "stdout",
     "output_type": "stream",
     "text": [
      "Epoch 620/2000, Loss: 0.0014\n",
      "Test Accuracy at Epoch 620: 66.05%\n",
      "Test F1-score at Epoch 620: 0.6906\n",
      "Classification Report at Epoch 620:\n",
      "                  precision    recall  f1-score   support\n",
      "\n",
      "    infringement       0.72      0.55      0.62       194\n",
      "non_infringement       0.62      0.77      0.69       186\n",
      "\n",
      "        accuracy                           0.66       380\n",
      "       macro avg       0.67      0.66      0.66       380\n",
      "    weighted avg       0.67      0.66      0.66       380\n",
      "\n"
     ]
    },
    {
     "name": "stderr",
     "output_type": "stream",
     "text": [
      "Training Epochs:  32%|███▏      | 633/2000 [00:33<01:17, 17.59it/s]"
     ]
    },
    {
     "name": "stdout",
     "output_type": "stream",
     "text": [
      "Epoch 630/2000, Loss: 0.0014\n",
      "Test Accuracy at Epoch 630: 66.05%\n",
      "Test F1-score at Epoch 630: 0.6906\n",
      "Classification Report at Epoch 630:\n",
      "                  precision    recall  f1-score   support\n",
      "\n",
      "    infringement       0.72      0.55      0.62       194\n",
      "non_infringement       0.62      0.77      0.69       186\n",
      "\n",
      "        accuracy                           0.66       380\n",
      "       macro avg       0.67      0.66      0.66       380\n",
      "    weighted avg       0.67      0.66      0.66       380\n",
      "\n"
     ]
    },
    {
     "name": "stderr",
     "output_type": "stream",
     "text": [
      "Training Epochs:  32%|███▏      | 640/2000 [00:33<01:18, 17.42it/s]"
     ]
    },
    {
     "name": "stdout",
     "output_type": "stream",
     "text": [
      "Epoch 640/2000, Loss: 0.0014\n",
      "Test Accuracy at Epoch 640: 66.05%\n",
      "Test F1-score at Epoch 640: 0.6906\n",
      "Classification Report at Epoch 640:\n",
      "                  precision    recall  f1-score   support\n",
      "\n",
      "    infringement       0.72      0.55      0.62       194\n",
      "non_infringement       0.62      0.77      0.69       186\n",
      "\n",
      "        accuracy                           0.66       380\n",
      "       macro avg       0.67      0.66      0.66       380\n",
      "    weighted avg       0.67      0.66      0.66       380\n",
      "\n"
     ]
    },
    {
     "name": "stderr",
     "output_type": "stream",
     "text": [
      "Training Epochs:  33%|███▎      | 652/2000 [00:34<01:15, 17.92it/s]"
     ]
    },
    {
     "name": "stdout",
     "output_type": "stream",
     "text": [
      "Epoch 650/2000, Loss: 0.0014\n",
      "Test Accuracy at Epoch 650: 65.79%\n",
      "Test F1-score at Epoch 650: 0.6890\n",
      "Classification Report at Epoch 650:\n",
      "                  precision    recall  f1-score   support\n",
      "\n",
      "    infringement       0.72      0.55      0.62       194\n",
      "non_infringement       0.62      0.77      0.69       186\n",
      "\n",
      "        accuracy                           0.66       380\n",
      "       macro avg       0.67      0.66      0.65       380\n",
      "    weighted avg       0.67      0.66      0.65       380\n",
      "\n"
     ]
    },
    {
     "name": "stderr",
     "output_type": "stream",
     "text": [
      "Training Epochs:  33%|███▎      | 662/2000 [00:34<01:31, 14.64it/s]"
     ]
    },
    {
     "name": "stdout",
     "output_type": "stream",
     "text": [
      "Epoch 660/2000, Loss: 0.0014\n",
      "Test Accuracy at Epoch 660: 65.79%\n",
      "Test F1-score at Epoch 660: 0.6890\n",
      "Classification Report at Epoch 660:\n",
      "                  precision    recall  f1-score   support\n",
      "\n",
      "    infringement       0.72      0.55      0.62       194\n",
      "non_infringement       0.62      0.77      0.69       186\n",
      "\n",
      "        accuracy                           0.66       380\n",
      "       macro avg       0.67      0.66      0.65       380\n",
      "    weighted avg       0.67      0.66      0.65       380\n",
      "\n"
     ]
    },
    {
     "name": "stderr",
     "output_type": "stream",
     "text": [
      "Training Epochs:  34%|███▎      | 673/2000 [00:35<01:21, 16.22it/s]"
     ]
    },
    {
     "name": "stdout",
     "output_type": "stream",
     "text": [
      "Epoch 670/2000, Loss: 0.0014\n",
      "Test Accuracy at Epoch 670: 65.79%\n",
      "Test F1-score at Epoch 670: 0.6890\n",
      "Classification Report at Epoch 670:\n",
      "                  precision    recall  f1-score   support\n",
      "\n",
      "    infringement       0.72      0.55      0.62       194\n",
      "non_infringement       0.62      0.77      0.69       186\n",
      "\n",
      "        accuracy                           0.66       380\n",
      "       macro avg       0.67      0.66      0.65       380\n",
      "    weighted avg       0.67      0.66      0.65       380\n",
      "\n"
     ]
    },
    {
     "name": "stderr",
     "output_type": "stream",
     "text": [
      "Training Epochs:  34%|███▍      | 683/2000 [00:35<01:08, 19.23it/s]"
     ]
    },
    {
     "name": "stdout",
     "output_type": "stream",
     "text": [
      "Epoch 680/2000, Loss: 0.0014\n",
      "Test Accuracy at Epoch 680: 65.79%\n",
      "Test F1-score at Epoch 680: 0.6890\n",
      "Classification Report at Epoch 680:\n",
      "                  precision    recall  f1-score   support\n",
      "\n",
      "    infringement       0.72      0.55      0.62       194\n",
      "non_infringement       0.62      0.77      0.69       186\n",
      "\n",
      "        accuracy                           0.66       380\n",
      "       macro avg       0.67      0.66      0.65       380\n",
      "    weighted avg       0.67      0.66      0.65       380\n",
      "\n"
     ]
    },
    {
     "name": "stderr",
     "output_type": "stream",
     "text": [
      "Training Epochs:  35%|███▍      | 692/2000 [00:36<01:12, 17.97it/s]"
     ]
    },
    {
     "name": "stdout",
     "output_type": "stream",
     "text": [
      "Epoch 690/2000, Loss: 0.0014\n",
      "Test Accuracy at Epoch 690: 65.79%\n",
      "Test F1-score at Epoch 690: 0.6890\n",
      "Classification Report at Epoch 690:\n",
      "                  precision    recall  f1-score   support\n",
      "\n",
      "    infringement       0.72      0.55      0.62       194\n",
      "non_infringement       0.62      0.77      0.69       186\n",
      "\n",
      "        accuracy                           0.66       380\n",
      "       macro avg       0.67      0.66      0.65       380\n",
      "    weighted avg       0.67      0.66      0.65       380\n",
      "\n"
     ]
    },
    {
     "name": "stderr",
     "output_type": "stream",
     "text": [
      "Training Epochs:  35%|███▌      | 704/2000 [00:37<01:06, 19.39it/s]"
     ]
    },
    {
     "name": "stdout",
     "output_type": "stream",
     "text": [
      "Epoch 700/2000, Loss: 0.0014\n",
      "Test Accuracy at Epoch 700: 65.79%\n",
      "Test F1-score at Epoch 700: 0.6890\n",
      "Classification Report at Epoch 700:\n",
      "                  precision    recall  f1-score   support\n",
      "\n",
      "    infringement       0.72      0.55      0.62       194\n",
      "non_infringement       0.62      0.77      0.69       186\n",
      "\n",
      "        accuracy                           0.66       380\n",
      "       macro avg       0.67      0.66      0.65       380\n",
      "    weighted avg       0.67      0.66      0.65       380\n",
      "\n"
     ]
    },
    {
     "name": "stderr",
     "output_type": "stream",
     "text": [
      "Training Epochs:  36%|███▌      | 713/2000 [00:37<00:57, 22.49it/s]"
     ]
    },
    {
     "name": "stdout",
     "output_type": "stream",
     "text": [
      "Epoch 710/2000, Loss: 0.0014\n",
      "Test Accuracy at Epoch 710: 65.79%\n",
      "Test F1-score at Epoch 710: 0.6890\n",
      "Classification Report at Epoch 710:\n",
      "                  precision    recall  f1-score   support\n",
      "\n",
      "    infringement       0.72      0.55      0.62       194\n",
      "non_infringement       0.62      0.77      0.69       186\n",
      "\n",
      "        accuracy                           0.66       380\n",
      "       macro avg       0.67      0.66      0.65       380\n",
      "    weighted avg       0.67      0.66      0.65       380\n",
      "\n"
     ]
    },
    {
     "name": "stderr",
     "output_type": "stream",
     "text": [
      "Training Epochs:  36%|███▌      | 722/2000 [00:37<00:55, 22.91it/s]"
     ]
    },
    {
     "name": "stdout",
     "output_type": "stream",
     "text": [
      "Epoch 720/2000, Loss: 0.0014\n",
      "Test Accuracy at Epoch 720: 65.79%\n",
      "Test F1-score at Epoch 720: 0.6890\n",
      "Classification Report at Epoch 720:\n",
      "                  precision    recall  f1-score   support\n",
      "\n",
      "    infringement       0.72      0.55      0.62       194\n",
      "non_infringement       0.62      0.77      0.69       186\n",
      "\n",
      "        accuracy                           0.66       380\n",
      "       macro avg       0.67      0.66      0.65       380\n",
      "    weighted avg       0.67      0.66      0.65       380\n",
      "\n"
     ]
    },
    {
     "name": "stderr",
     "output_type": "stream",
     "text": [
      "Training Epochs:  37%|███▋      | 734/2000 [00:38<00:52, 24.08it/s]"
     ]
    },
    {
     "name": "stdout",
     "output_type": "stream",
     "text": [
      "Epoch 730/2000, Loss: 0.0013\n",
      "Test Accuracy at Epoch 730: 65.79%\n",
      "Test F1-score at Epoch 730: 0.6890\n",
      "Classification Report at Epoch 730:\n",
      "                  precision    recall  f1-score   support\n",
      "\n",
      "    infringement       0.72      0.55      0.62       194\n",
      "non_infringement       0.62      0.77      0.69       186\n",
      "\n",
      "        accuracy                           0.66       380\n",
      "       macro avg       0.67      0.66      0.65       380\n",
      "    weighted avg       0.67      0.66      0.65       380\n",
      "\n"
     ]
    },
    {
     "name": "stderr",
     "output_type": "stream",
     "text": [
      "Training Epochs:  37%|███▋      | 743/2000 [00:38<00:54, 23.18it/s]"
     ]
    },
    {
     "name": "stdout",
     "output_type": "stream",
     "text": [
      "Epoch 740/2000, Loss: 0.0013\n",
      "Test Accuracy at Epoch 740: 65.79%\n",
      "Test F1-score at Epoch 740: 0.6890\n",
      "Classification Report at Epoch 740:\n",
      "                  precision    recall  f1-score   support\n",
      "\n",
      "    infringement       0.72      0.55      0.62       194\n",
      "non_infringement       0.62      0.77      0.69       186\n",
      "\n",
      "        accuracy                           0.66       380\n",
      "       macro avg       0.67      0.66      0.65       380\n",
      "    weighted avg       0.67      0.66      0.65       380\n",
      "\n"
     ]
    },
    {
     "name": "stderr",
     "output_type": "stream",
     "text": [
      "Training Epochs:  38%|███▊      | 752/2000 [00:39<00:53, 23.32it/s]"
     ]
    },
    {
     "name": "stdout",
     "output_type": "stream",
     "text": [
      "Epoch 750/2000, Loss: 0.0013\n",
      "Test Accuracy at Epoch 750: 65.79%\n",
      "Test F1-score at Epoch 750: 0.6890\n",
      "Classification Report at Epoch 750:\n",
      "                  precision    recall  f1-score   support\n",
      "\n",
      "    infringement       0.72      0.55      0.62       194\n",
      "non_infringement       0.62      0.77      0.69       186\n",
      "\n",
      "        accuracy                           0.66       380\n",
      "       macro avg       0.67      0.66      0.65       380\n",
      "    weighted avg       0.67      0.66      0.65       380\n",
      "\n"
     ]
    },
    {
     "name": "stderr",
     "output_type": "stream",
     "text": [
      "Training Epochs:  38%|███▊      | 761/2000 [00:39<00:51, 23.87it/s]"
     ]
    },
    {
     "name": "stdout",
     "output_type": "stream",
     "text": [
      "Epoch 760/2000, Loss: 0.0013\n",
      "Test Accuracy at Epoch 760: 65.79%\n",
      "Test F1-score at Epoch 760: 0.6890\n",
      "Classification Report at Epoch 760:\n",
      "                  precision    recall  f1-score   support\n",
      "\n",
      "    infringement       0.72      0.55      0.62       194\n",
      "non_infringement       0.62      0.77      0.69       186\n",
      "\n",
      "        accuracy                           0.66       380\n",
      "       macro avg       0.67      0.66      0.65       380\n",
      "    weighted avg       0.67      0.66      0.65       380\n",
      "\n"
     ]
    },
    {
     "name": "stderr",
     "output_type": "stream",
     "text": [
      "Training Epochs:  39%|███▊      | 773/2000 [00:39<00:53, 22.95it/s]"
     ]
    },
    {
     "name": "stdout",
     "output_type": "stream",
     "text": [
      "Epoch 770/2000, Loss: 0.0013\n",
      "Test Accuracy at Epoch 770: 65.79%\n",
      "Test F1-score at Epoch 770: 0.6890\n",
      "Classification Report at Epoch 770:\n",
      "                  precision    recall  f1-score   support\n",
      "\n",
      "    infringement       0.72      0.55      0.62       194\n",
      "non_infringement       0.62      0.77      0.69       186\n",
      "\n",
      "        accuracy                           0.66       380\n",
      "       macro avg       0.67      0.66      0.65       380\n",
      "    weighted avg       0.67      0.66      0.65       380\n",
      "\n"
     ]
    },
    {
     "name": "stderr",
     "output_type": "stream",
     "text": [
      "Training Epochs:  39%|███▉      | 782/2000 [00:40<00:49, 24.66it/s]"
     ]
    },
    {
     "name": "stdout",
     "output_type": "stream",
     "text": [
      "Epoch 780/2000, Loss: 0.0013\n",
      "Test Accuracy at Epoch 780: 65.79%\n",
      "Test F1-score at Epoch 780: 0.6890\n",
      "Classification Report at Epoch 780:\n",
      "                  precision    recall  f1-score   support\n",
      "\n",
      "    infringement       0.72      0.55      0.62       194\n",
      "non_infringement       0.62      0.77      0.69       186\n",
      "\n",
      "        accuracy                           0.66       380\n",
      "       macro avg       0.67      0.66      0.65       380\n",
      "    weighted avg       0.67      0.66      0.65       380\n",
      "\n"
     ]
    },
    {
     "name": "stderr",
     "output_type": "stream",
     "text": [
      "Training Epochs:  40%|███▉      | 791/2000 [00:40<00:59, 20.36it/s]"
     ]
    },
    {
     "name": "stdout",
     "output_type": "stream",
     "text": [
      "Epoch 790/2000, Loss: 0.0013\n",
      "Test Accuracy at Epoch 790: 65.79%\n",
      "Test F1-score at Epoch 790: 0.6890\n",
      "Classification Report at Epoch 790:\n",
      "                  precision    recall  f1-score   support\n",
      "\n",
      "    infringement       0.72      0.55      0.62       194\n",
      "non_infringement       0.62      0.77      0.69       186\n",
      "\n",
      "        accuracy                           0.66       380\n",
      "       macro avg       0.67      0.66      0.65       380\n",
      "    weighted avg       0.67      0.66      0.65       380\n",
      "\n"
     ]
    },
    {
     "name": "stderr",
     "output_type": "stream",
     "text": [
      "Training Epochs:  40%|████      | 803/2000 [00:41<00:51, 23.09it/s]"
     ]
    },
    {
     "name": "stdout",
     "output_type": "stream",
     "text": [
      "Epoch 800/2000, Loss: 0.0013\n",
      "Test Accuracy at Epoch 800: 65.79%\n",
      "Test F1-score at Epoch 800: 0.6890\n",
      "Classification Report at Epoch 800:\n",
      "                  precision    recall  f1-score   support\n",
      "\n",
      "    infringement       0.72      0.55      0.62       194\n",
      "non_infringement       0.62      0.77      0.69       186\n",
      "\n",
      "        accuracy                           0.66       380\n",
      "       macro avg       0.67      0.66      0.65       380\n",
      "    weighted avg       0.67      0.66      0.65       380\n",
      "\n"
     ]
    },
    {
     "name": "stderr",
     "output_type": "stream",
     "text": [
      "Training Epochs:  41%|████      | 812/2000 [00:41<00:51, 23.02it/s]"
     ]
    },
    {
     "name": "stdout",
     "output_type": "stream",
     "text": [
      "Epoch 810/2000, Loss: 0.0013\n",
      "Test Accuracy at Epoch 810: 65.79%\n",
      "Test F1-score at Epoch 810: 0.6890\n",
      "Classification Report at Epoch 810:\n",
      "                  precision    recall  f1-score   support\n",
      "\n",
      "    infringement       0.72      0.55      0.62       194\n",
      "non_infringement       0.62      0.77      0.69       186\n",
      "\n",
      "        accuracy                           0.66       380\n",
      "       macro avg       0.67      0.66      0.65       380\n",
      "    weighted avg       0.67      0.66      0.65       380\n",
      "\n"
     ]
    },
    {
     "name": "stderr",
     "output_type": "stream",
     "text": [
      "Training Epochs:  41%|████      | 822/2000 [00:42<00:53, 21.91it/s]"
     ]
    },
    {
     "name": "stdout",
     "output_type": "stream",
     "text": [
      "Epoch 820/2000, Loss: 0.0013\n",
      "Test Accuracy at Epoch 820: 65.79%\n",
      "Test F1-score at Epoch 820: 0.6890\n",
      "Classification Report at Epoch 820:\n",
      "                  precision    recall  f1-score   support\n",
      "\n",
      "    infringement       0.72      0.55      0.62       194\n",
      "non_infringement       0.62      0.77      0.69       186\n",
      "\n",
      "        accuracy                           0.66       380\n",
      "       macro avg       0.67      0.66      0.65       380\n",
      "    weighted avg       0.67      0.66      0.65       380\n",
      "\n"
     ]
    },
    {
     "name": "stderr",
     "output_type": "stream",
     "text": [
      "Training Epochs:  42%|████▏     | 833/2000 [00:42<00:51, 22.70it/s]"
     ]
    },
    {
     "name": "stdout",
     "output_type": "stream",
     "text": [
      "Epoch 830/2000, Loss: 0.0013\n",
      "Test Accuracy at Epoch 830: 65.53%\n",
      "Test F1-score at Epoch 830: 0.6859\n",
      "Classification Report at Epoch 830:\n",
      "                  precision    recall  f1-score   support\n",
      "\n",
      "    infringement       0.71      0.55      0.62       194\n",
      "non_infringement       0.62      0.77      0.69       186\n",
      "\n",
      "        accuracy                           0.66       380\n",
      "       macro avg       0.67      0.66      0.65       380\n",
      "    weighted avg       0.67      0.66      0.65       380\n",
      "\n"
     ]
    },
    {
     "name": "stderr",
     "output_type": "stream",
     "text": [
      "Training Epochs:  42%|████▏     | 844/2000 [00:42<00:45, 25.48it/s]"
     ]
    },
    {
     "name": "stdout",
     "output_type": "stream",
     "text": [
      "Epoch 840/2000, Loss: 0.0013\n",
      "Test Accuracy at Epoch 840: 65.53%\n",
      "Test F1-score at Epoch 840: 0.6859\n",
      "Classification Report at Epoch 840:\n",
      "                  precision    recall  f1-score   support\n",
      "\n",
      "    infringement       0.71      0.55      0.62       194\n",
      "non_infringement       0.62      0.77      0.69       186\n",
      "\n",
      "        accuracy                           0.66       380\n",
      "       macro avg       0.67      0.66      0.65       380\n",
      "    weighted avg       0.67      0.66      0.65       380\n",
      "\n"
     ]
    },
    {
     "name": "stderr",
     "output_type": "stream",
     "text": [
      "Training Epochs:  43%|████▎     | 851/2000 [00:43<00:46, 24.80it/s]"
     ]
    },
    {
     "name": "stdout",
     "output_type": "stream",
     "text": [
      "Epoch 850/2000, Loss: 0.0013\n",
      "Test Accuracy at Epoch 850: 65.53%\n",
      "Test F1-score at Epoch 850: 0.6859\n",
      "Classification Report at Epoch 850:\n",
      "                  precision    recall  f1-score   support\n",
      "\n",
      "    infringement       0.71      0.55      0.62       194\n",
      "non_infringement       0.62      0.77      0.69       186\n",
      "\n",
      "        accuracy                           0.66       380\n",
      "       macro avg       0.67      0.66      0.65       380\n",
      "    weighted avg       0.67      0.66      0.65       380\n",
      "\n"
     ]
    },
    {
     "name": "stderr",
     "output_type": "stream",
     "text": [
      "Training Epochs:  43%|████▎     | 861/2000 [00:43<00:46, 24.63it/s]"
     ]
    },
    {
     "name": "stdout",
     "output_type": "stream",
     "text": [
      "Epoch 860/2000, Loss: 0.0013\n",
      "Test Accuracy at Epoch 860: 65.53%\n",
      "Test F1-score at Epoch 860: 0.6859\n",
      "Classification Report at Epoch 860:\n",
      "                  precision    recall  f1-score   support\n",
      "\n",
      "    infringement       0.71      0.55      0.62       194\n",
      "non_infringement       0.62      0.77      0.69       186\n",
      "\n",
      "        accuracy                           0.66       380\n",
      "       macro avg       0.67      0.66      0.65       380\n",
      "    weighted avg       0.67      0.66      0.65       380\n",
      "\n"
     ]
    },
    {
     "name": "stderr",
     "output_type": "stream",
     "text": [
      "Training Epochs:  44%|████▎     | 872/2000 [00:44<00:44, 25.09it/s]"
     ]
    },
    {
     "name": "stdout",
     "output_type": "stream",
     "text": [
      "Epoch 870/2000, Loss: 0.0013\n",
      "Test Accuracy at Epoch 870: 65.53%\n",
      "Test F1-score at Epoch 870: 0.6859\n",
      "Classification Report at Epoch 870:\n",
      "                  precision    recall  f1-score   support\n",
      "\n",
      "    infringement       0.71      0.55      0.62       194\n",
      "non_infringement       0.62      0.77      0.69       186\n",
      "\n",
      "        accuracy                           0.66       380\n",
      "       macro avg       0.67      0.66      0.65       380\n",
      "    weighted avg       0.67      0.66      0.65       380\n",
      "\n"
     ]
    },
    {
     "name": "stderr",
     "output_type": "stream",
     "text": [
      "Training Epochs:  44%|████▍     | 883/2000 [00:44<00:43, 25.54it/s]"
     ]
    },
    {
     "name": "stdout",
     "output_type": "stream",
     "text": [
      "Epoch 880/2000, Loss: 0.0013\n",
      "Test Accuracy at Epoch 880: 65.53%\n",
      "Test F1-score at Epoch 880: 0.6859\n",
      "Classification Report at Epoch 880:\n",
      "                  precision    recall  f1-score   support\n",
      "\n",
      "    infringement       0.71      0.55      0.62       194\n",
      "non_infringement       0.62      0.77      0.69       186\n",
      "\n",
      "        accuracy                           0.66       380\n",
      "       macro avg       0.67      0.66      0.65       380\n",
      "    weighted avg       0.67      0.66      0.65       380\n",
      "\n"
     ]
    },
    {
     "name": "stderr",
     "output_type": "stream",
     "text": [
      "Training Epochs:  45%|████▍     | 893/2000 [00:44<00:46, 23.89it/s]"
     ]
    },
    {
     "name": "stdout",
     "output_type": "stream",
     "text": [
      "Epoch 890/2000, Loss: 0.0013\n",
      "Test Accuracy at Epoch 890: 65.53%\n",
      "Test F1-score at Epoch 890: 0.6859\n",
      "Classification Report at Epoch 890:\n",
      "                  precision    recall  f1-score   support\n",
      "\n",
      "    infringement       0.71      0.55      0.62       194\n",
      "non_infringement       0.62      0.77      0.69       186\n",
      "\n",
      "        accuracy                           0.66       380\n",
      "       macro avg       0.67      0.66      0.65       380\n",
      "    weighted avg       0.67      0.66      0.65       380\n",
      "\n"
     ]
    },
    {
     "name": "stderr",
     "output_type": "stream",
     "text": [
      "Training Epochs:  45%|████▌     | 901/2000 [00:45<01:12, 15.25it/s]"
     ]
    },
    {
     "name": "stdout",
     "output_type": "stream",
     "text": [
      "Epoch 900/2000, Loss: 0.0013\n",
      "Test Accuracy at Epoch 900: 65.53%\n",
      "Test F1-score at Epoch 900: 0.6859\n",
      "Classification Report at Epoch 900:\n",
      "                  precision    recall  f1-score   support\n",
      "\n",
      "    infringement       0.71      0.55      0.62       194\n",
      "non_infringement       0.62      0.77      0.69       186\n",
      "\n",
      "        accuracy                           0.66       380\n",
      "       macro avg       0.67      0.66      0.65       380\n",
      "    weighted avg       0.67      0.66      0.65       380\n",
      "\n"
     ]
    },
    {
     "name": "stderr",
     "output_type": "stream",
     "text": [
      "Training Epochs:  46%|████▌     | 911/2000 [00:46<01:26, 12.59it/s]"
     ]
    },
    {
     "name": "stdout",
     "output_type": "stream",
     "text": [
      "Epoch 910/2000, Loss: 0.0013\n",
      "Test Accuracy at Epoch 910: 65.79%\n",
      "Test F1-score at Epoch 910: 0.6890\n",
      "Classification Report at Epoch 910:\n",
      "                  precision    recall  f1-score   support\n",
      "\n",
      "    infringement       0.72      0.55      0.62       194\n",
      "non_infringement       0.62      0.77      0.69       186\n",
      "\n",
      "        accuracy                           0.66       380\n",
      "       macro avg       0.67      0.66      0.65       380\n",
      "    weighted avg       0.67      0.66      0.65       380\n",
      "\n"
     ]
    },
    {
     "name": "stderr",
     "output_type": "stream",
     "text": [
      "Training Epochs:  46%|████▌     | 921/2000 [00:46<01:17, 14.00it/s]"
     ]
    },
    {
     "name": "stdout",
     "output_type": "stream",
     "text": [
      "Epoch 920/2000, Loss: 0.0013\n",
      "Test Accuracy at Epoch 920: 65.79%\n",
      "Test F1-score at Epoch 920: 0.6890\n",
      "Classification Report at Epoch 920:\n",
      "                  precision    recall  f1-score   support\n",
      "\n",
      "    infringement       0.72      0.55      0.62       194\n",
      "non_infringement       0.62      0.77      0.69       186\n",
      "\n",
      "        accuracy                           0.66       380\n",
      "       macro avg       0.67      0.66      0.65       380\n",
      "    weighted avg       0.67      0.66      0.65       380\n",
      "\n"
     ]
    },
    {
     "name": "stderr",
     "output_type": "stream",
     "text": [
      "Training Epochs:  47%|████▋     | 932/2000 [00:47<01:14, 14.28it/s]"
     ]
    },
    {
     "name": "stdout",
     "output_type": "stream",
     "text": [
      "Epoch 930/2000, Loss: 0.0013\n",
      "Test Accuracy at Epoch 930: 65.79%\n",
      "Test F1-score at Epoch 930: 0.6890\n",
      "Classification Report at Epoch 930:\n",
      "                  precision    recall  f1-score   support\n",
      "\n",
      "    infringement       0.72      0.55      0.62       194\n",
      "non_infringement       0.62      0.77      0.69       186\n",
      "\n",
      "        accuracy                           0.66       380\n",
      "       macro avg       0.67      0.66      0.65       380\n",
      "    weighted avg       0.67      0.66      0.65       380\n",
      "\n"
     ]
    },
    {
     "name": "stderr",
     "output_type": "stream",
     "text": [
      "Training Epochs:  47%|████▋     | 942/2000 [00:48<01:15, 14.02it/s]"
     ]
    },
    {
     "name": "stdout",
     "output_type": "stream",
     "text": [
      "Epoch 940/2000, Loss: 0.0013\n",
      "Test Accuracy at Epoch 940: 65.79%\n",
      "Test F1-score at Epoch 940: 0.6890\n",
      "Classification Report at Epoch 940:\n",
      "                  precision    recall  f1-score   support\n",
      "\n",
      "    infringement       0.72      0.55      0.62       194\n",
      "non_infringement       0.62      0.77      0.69       186\n",
      "\n",
      "        accuracy                           0.66       380\n",
      "       macro avg       0.67      0.66      0.65       380\n",
      "    weighted avg       0.67      0.66      0.65       380\n",
      "\n"
     ]
    },
    {
     "name": "stderr",
     "output_type": "stream",
     "text": [
      "Training Epochs:  48%|████▊     | 951/2000 [00:49<01:11, 14.66it/s]"
     ]
    },
    {
     "name": "stdout",
     "output_type": "stream",
     "text": [
      "Epoch 950/2000, Loss: 0.0013\n",
      "Test Accuracy at Epoch 950: 65.79%\n",
      "Test F1-score at Epoch 950: 0.6890\n",
      "Classification Report at Epoch 950:\n",
      "                  precision    recall  f1-score   support\n",
      "\n",
      "    infringement       0.72      0.55      0.62       194\n",
      "non_infringement       0.62      0.77      0.69       186\n",
      "\n",
      "        accuracy                           0.66       380\n",
      "       macro avg       0.67      0.66      0.65       380\n",
      "    weighted avg       0.67      0.66      0.65       380\n",
      "\n"
     ]
    },
    {
     "name": "stderr",
     "output_type": "stream",
     "text": [
      "Training Epochs:  48%|████▊     | 963/2000 [00:49<00:58, 17.75it/s]"
     ]
    },
    {
     "name": "stdout",
     "output_type": "stream",
     "text": [
      "Epoch 960/2000, Loss: 0.0013\n",
      "Test Accuracy at Epoch 960: 65.79%\n",
      "Test F1-score at Epoch 960: 0.6890\n",
      "Classification Report at Epoch 960:\n",
      "                  precision    recall  f1-score   support\n",
      "\n",
      "    infringement       0.72      0.55      0.62       194\n",
      "non_infringement       0.62      0.77      0.69       186\n",
      "\n",
      "        accuracy                           0.66       380\n",
      "       macro avg       0.67      0.66      0.65       380\n",
      "    weighted avg       0.67      0.66      0.65       380\n",
      "\n"
     ]
    },
    {
     "name": "stderr",
     "output_type": "stream",
     "text": [
      "Training Epochs:  49%|████▊     | 972/2000 [00:50<00:51, 19.90it/s]"
     ]
    },
    {
     "name": "stdout",
     "output_type": "stream",
     "text": [
      "Epoch 970/2000, Loss: 0.0013\n",
      "Test Accuracy at Epoch 970: 65.79%\n",
      "Test F1-score at Epoch 970: 0.6890\n",
      "Classification Report at Epoch 970:\n",
      "                  precision    recall  f1-score   support\n",
      "\n",
      "    infringement       0.72      0.55      0.62       194\n",
      "non_infringement       0.62      0.77      0.69       186\n",
      "\n",
      "        accuracy                           0.66       380\n",
      "       macro avg       0.67      0.66      0.65       380\n",
      "    weighted avg       0.67      0.66      0.65       380\n",
      "\n"
     ]
    },
    {
     "name": "stderr",
     "output_type": "stream",
     "text": [
      "Training Epochs:  49%|████▉     | 984/2000 [00:50<00:46, 21.69it/s]"
     ]
    },
    {
     "name": "stdout",
     "output_type": "stream",
     "text": [
      "Epoch 980/2000, Loss: 0.0013\n",
      "Test Accuracy at Epoch 980: 66.05%\n",
      "Test F1-score at Epoch 980: 0.6906\n",
      "Classification Report at Epoch 980:\n",
      "                  precision    recall  f1-score   support\n",
      "\n",
      "    infringement       0.72      0.55      0.62       194\n",
      "non_infringement       0.62      0.77      0.69       186\n",
      "\n",
      "        accuracy                           0.66       380\n",
      "       macro avg       0.67      0.66      0.66       380\n",
      "    weighted avg       0.67      0.66      0.66       380\n",
      "\n"
     ]
    },
    {
     "name": "stderr",
     "output_type": "stream",
     "text": [
      "Training Epochs:  50%|████▉     | 993/2000 [00:51<00:48, 20.80it/s]"
     ]
    },
    {
     "name": "stdout",
     "output_type": "stream",
     "text": [
      "Epoch 990/2000, Loss: 0.0013\n",
      "Test Accuracy at Epoch 990: 66.05%\n",
      "Test F1-score at Epoch 990: 0.6906\n",
      "Classification Report at Epoch 990:\n",
      "                  precision    recall  f1-score   support\n",
      "\n",
      "    infringement       0.72      0.55      0.62       194\n",
      "non_infringement       0.62      0.77      0.69       186\n",
      "\n",
      "        accuracy                           0.66       380\n",
      "       macro avg       0.67      0.66      0.66       380\n",
      "    weighted avg       0.67      0.66      0.66       380\n",
      "\n"
     ]
    },
    {
     "name": "stderr",
     "output_type": "stream",
     "text": [
      "Training Epochs:  50%|█████     | 1001/2000 [00:51<00:58, 16.97it/s]"
     ]
    },
    {
     "name": "stdout",
     "output_type": "stream",
     "text": [
      "Epoch 1000/2000, Loss: 0.0013\n",
      "Test Accuracy at Epoch 1000: 66.05%\n",
      "Test F1-score at Epoch 1000: 0.6906\n",
      "Classification Report at Epoch 1000:\n",
      "                  precision    recall  f1-score   support\n",
      "\n",
      "    infringement       0.72      0.55      0.62       194\n",
      "non_infringement       0.62      0.77      0.69       186\n",
      "\n",
      "        accuracy                           0.66       380\n",
      "       macro avg       0.67      0.66      0.66       380\n",
      "    weighted avg       0.67      0.66      0.66       380\n",
      "\n"
     ]
    },
    {
     "name": "stderr",
     "output_type": "stream",
     "text": [
      "Training Epochs:  51%|█████     | 1014/2000 [00:52<00:41, 23.77it/s]"
     ]
    },
    {
     "name": "stdout",
     "output_type": "stream",
     "text": [
      "Epoch 1010/2000, Loss: 0.0013\n",
      "Test Accuracy at Epoch 1010: 66.05%\n",
      "Test F1-score at Epoch 1010: 0.6906\n",
      "Classification Report at Epoch 1010:\n",
      "                  precision    recall  f1-score   support\n",
      "\n",
      "    infringement       0.72      0.55      0.62       194\n",
      "non_infringement       0.62      0.77      0.69       186\n",
      "\n",
      "        accuracy                           0.66       380\n",
      "       macro avg       0.67      0.66      0.66       380\n",
      "    weighted avg       0.67      0.66      0.66       380\n",
      "\n"
     ]
    },
    {
     "name": "stderr",
     "output_type": "stream",
     "text": [
      "Training Epochs:  51%|█████     | 1021/2000 [00:52<00:40, 24.23it/s]"
     ]
    },
    {
     "name": "stdout",
     "output_type": "stream",
     "text": [
      "Epoch 1020/2000, Loss: 0.0013\n",
      "Test Accuracy at Epoch 1020: 66.05%\n",
      "Test F1-score at Epoch 1020: 0.6906\n",
      "Classification Report at Epoch 1020:\n",
      "                  precision    recall  f1-score   support\n",
      "\n",
      "    infringement       0.72      0.55      0.62       194\n",
      "non_infringement       0.62      0.77      0.69       186\n",
      "\n",
      "        accuracy                           0.66       380\n",
      "       macro avg       0.67      0.66      0.66       380\n",
      "    weighted avg       0.67      0.66      0.66       380\n",
      "\n"
     ]
    },
    {
     "name": "stderr",
     "output_type": "stream",
     "text": [
      "Training Epochs:  52%|█████▏    | 1034/2000 [00:52<00:38, 25.36it/s]"
     ]
    },
    {
     "name": "stdout",
     "output_type": "stream",
     "text": [
      "Epoch 1030/2000, Loss: 0.0013\n",
      "Test Accuracy at Epoch 1030: 66.05%\n",
      "Test F1-score at Epoch 1030: 0.6906\n",
      "Classification Report at Epoch 1030:\n",
      "                  precision    recall  f1-score   support\n",
      "\n",
      "    infringement       0.72      0.55      0.62       194\n",
      "non_infringement       0.62      0.77      0.69       186\n",
      "\n",
      "        accuracy                           0.66       380\n",
      "       macro avg       0.67      0.66      0.66       380\n",
      "    weighted avg       0.67      0.66      0.66       380\n",
      "\n"
     ]
    },
    {
     "name": "stderr",
     "output_type": "stream",
     "text": [
      "Training Epochs:  52%|█████▏    | 1043/2000 [00:53<00:39, 24.42it/s]"
     ]
    },
    {
     "name": "stdout",
     "output_type": "stream",
     "text": [
      "Epoch 1040/2000, Loss: 0.0013\n",
      "Test Accuracy at Epoch 1040: 66.05%\n",
      "Test F1-score at Epoch 1040: 0.6906\n",
      "Classification Report at Epoch 1040:\n",
      "                  precision    recall  f1-score   support\n",
      "\n",
      "    infringement       0.72      0.55      0.62       194\n",
      "non_infringement       0.62      0.77      0.69       186\n",
      "\n",
      "        accuracy                           0.66       380\n",
      "       macro avg       0.67      0.66      0.66       380\n",
      "    weighted avg       0.67      0.66      0.66       380\n",
      "\n"
     ]
    },
    {
     "name": "stderr",
     "output_type": "stream",
     "text": [
      "Training Epochs:  53%|█████▎    | 1052/2000 [00:53<00:39, 23.85it/s]"
     ]
    },
    {
     "name": "stdout",
     "output_type": "stream",
     "text": [
      "Epoch 1050/2000, Loss: 0.0013\n",
      "Test Accuracy at Epoch 1050: 66.05%\n",
      "Test F1-score at Epoch 1050: 0.6906\n",
      "Classification Report at Epoch 1050:\n",
      "                  precision    recall  f1-score   support\n",
      "\n",
      "    infringement       0.72      0.55      0.62       194\n",
      "non_infringement       0.62      0.77      0.69       186\n",
      "\n",
      "        accuracy                           0.66       380\n",
      "       macro avg       0.67      0.66      0.66       380\n",
      "    weighted avg       0.67      0.66      0.66       380\n",
      "\n"
     ]
    },
    {
     "name": "stderr",
     "output_type": "stream",
     "text": [
      "Training Epochs:  53%|█████▎    | 1064/2000 [00:54<00:41, 22.36it/s]"
     ]
    },
    {
     "name": "stdout",
     "output_type": "stream",
     "text": [
      "Epoch 1060/2000, Loss: 0.0013\n",
      "Test Accuracy at Epoch 1060: 66.05%\n",
      "Test F1-score at Epoch 1060: 0.6906\n",
      "Classification Report at Epoch 1060:\n",
      "                  precision    recall  f1-score   support\n",
      "\n",
      "    infringement       0.72      0.55      0.62       194\n",
      "non_infringement       0.62      0.77      0.69       186\n",
      "\n",
      "        accuracy                           0.66       380\n",
      "       macro avg       0.67      0.66      0.66       380\n",
      "    weighted avg       0.67      0.66      0.66       380\n",
      "\n"
     ]
    },
    {
     "name": "stderr",
     "output_type": "stream",
     "text": [
      "Training Epochs:  54%|█████▎    | 1073/2000 [00:54<00:41, 22.59it/s]"
     ]
    },
    {
     "name": "stdout",
     "output_type": "stream",
     "text": [
      "Epoch 1070/2000, Loss: 0.0013\n",
      "Test Accuracy at Epoch 1070: 66.05%\n",
      "Test F1-score at Epoch 1070: 0.6906\n",
      "Classification Report at Epoch 1070:\n",
      "                  precision    recall  f1-score   support\n",
      "\n",
      "    infringement       0.72      0.55      0.62       194\n",
      "non_infringement       0.62      0.77      0.69       186\n",
      "\n",
      "        accuracy                           0.66       380\n",
      "       macro avg       0.67      0.66      0.66       380\n",
      "    weighted avg       0.67      0.66      0.66       380\n",
      "\n"
     ]
    },
    {
     "name": "stderr",
     "output_type": "stream",
     "text": [
      "Training Epochs:  54%|█████▍    | 1082/2000 [00:55<00:41, 22.25it/s]"
     ]
    },
    {
     "name": "stdout",
     "output_type": "stream",
     "text": [
      "Epoch 1080/2000, Loss: 0.0013\n",
      "Test Accuracy at Epoch 1080: 66.05%\n",
      "Test F1-score at Epoch 1080: 0.6906\n",
      "Classification Report at Epoch 1080:\n",
      "                  precision    recall  f1-score   support\n",
      "\n",
      "    infringement       0.72      0.55      0.62       194\n",
      "non_infringement       0.62      0.77      0.69       186\n",
      "\n",
      "        accuracy                           0.66       380\n",
      "       macro avg       0.67      0.66      0.66       380\n",
      "    weighted avg       0.67      0.66      0.66       380\n",
      "\n"
     ]
    },
    {
     "name": "stderr",
     "output_type": "stream",
     "text": [
      "Training Epochs:  55%|█████▍    | 1094/2000 [00:55<00:38, 23.55it/s]"
     ]
    },
    {
     "name": "stdout",
     "output_type": "stream",
     "text": [
      "Epoch 1090/2000, Loss: 0.0013\n",
      "Test Accuracy at Epoch 1090: 66.05%\n",
      "Test F1-score at Epoch 1090: 0.6906\n",
      "Classification Report at Epoch 1090:\n",
      "                  precision    recall  f1-score   support\n",
      "\n",
      "    infringement       0.72      0.55      0.62       194\n",
      "non_infringement       0.62      0.77      0.69       186\n",
      "\n",
      "        accuracy                           0.66       380\n",
      "       macro avg       0.67      0.66      0.66       380\n",
      "    weighted avg       0.67      0.66      0.66       380\n",
      "\n"
     ]
    },
    {
     "name": "stderr",
     "output_type": "stream",
     "text": [
      "Training Epochs:  55%|█████▌    | 1103/2000 [00:55<00:39, 22.95it/s]"
     ]
    },
    {
     "name": "stdout",
     "output_type": "stream",
     "text": [
      "Epoch 1100/2000, Loss: 0.0013\n",
      "Test Accuracy at Epoch 1100: 66.05%\n",
      "Test F1-score at Epoch 1100: 0.6906\n",
      "Classification Report at Epoch 1100:\n",
      "                  precision    recall  f1-score   support\n",
      "\n",
      "    infringement       0.72      0.55      0.62       194\n",
      "non_infringement       0.62      0.77      0.69       186\n",
      "\n",
      "        accuracy                           0.66       380\n",
      "       macro avg       0.67      0.66      0.66       380\n",
      "    weighted avg       0.67      0.66      0.66       380\n",
      "\n"
     ]
    },
    {
     "name": "stderr",
     "output_type": "stream",
     "text": [
      "Training Epochs:  56%|█████▌    | 1112/2000 [00:56<00:36, 24.10it/s]"
     ]
    },
    {
     "name": "stdout",
     "output_type": "stream",
     "text": [
      "Epoch 1110/2000, Loss: 0.0013\n",
      "Test Accuracy at Epoch 1110: 66.05%\n",
      "Test F1-score at Epoch 1110: 0.6906\n",
      "Classification Report at Epoch 1110:\n",
      "                  precision    recall  f1-score   support\n",
      "\n",
      "    infringement       0.72      0.55      0.62       194\n",
      "non_infringement       0.62      0.77      0.69       186\n",
      "\n",
      "        accuracy                           0.66       380\n",
      "       macro avg       0.67      0.66      0.66       380\n",
      "    weighted avg       0.67      0.66      0.66       380\n",
      "\n"
     ]
    },
    {
     "name": "stderr",
     "output_type": "stream",
     "text": [
      "Training Epochs:  56%|█████▌    | 1122/2000 [00:56<00:34, 25.56it/s]"
     ]
    },
    {
     "name": "stdout",
     "output_type": "stream",
     "text": [
      "Epoch 1120/2000, Loss: 0.0013\n",
      "Test Accuracy at Epoch 1120: 66.05%\n",
      "Test F1-score at Epoch 1120: 0.6906\n",
      "Classification Report at Epoch 1120:\n",
      "                  precision    recall  f1-score   support\n",
      "\n",
      "    infringement       0.72      0.55      0.62       194\n",
      "non_infringement       0.62      0.77      0.69       186\n",
      "\n",
      "        accuracy                           0.66       380\n",
      "       macro avg       0.67      0.66      0.66       380\n",
      "    weighted avg       0.67      0.66      0.66       380\n",
      "\n"
     ]
    },
    {
     "name": "stderr",
     "output_type": "stream",
     "text": [
      "Training Epochs:  57%|█████▋    | 1134/2000 [00:57<00:33, 26.16it/s]"
     ]
    },
    {
     "name": "stdout",
     "output_type": "stream",
     "text": [
      "Epoch 1130/2000, Loss: 0.0013\n",
      "Test Accuracy at Epoch 1130: 66.05%\n",
      "Test F1-score at Epoch 1130: 0.6906\n",
      "Classification Report at Epoch 1130:\n",
      "                  precision    recall  f1-score   support\n",
      "\n",
      "    infringement       0.72      0.55      0.62       194\n",
      "non_infringement       0.62      0.77      0.69       186\n",
      "\n",
      "        accuracy                           0.66       380\n",
      "       macro avg       0.67      0.66      0.66       380\n",
      "    weighted avg       0.67      0.66      0.66       380\n",
      "\n"
     ]
    },
    {
     "name": "stderr",
     "output_type": "stream",
     "text": [
      "Training Epochs:  57%|█████▋    | 1144/2000 [00:57<00:31, 27.04it/s]"
     ]
    },
    {
     "name": "stdout",
     "output_type": "stream",
     "text": [
      "Epoch 1140/2000, Loss: 0.0013\n",
      "Test Accuracy at Epoch 1140: 66.05%\n",
      "Test F1-score at Epoch 1140: 0.6906\n",
      "Classification Report at Epoch 1140:\n",
      "                  precision    recall  f1-score   support\n",
      "\n",
      "    infringement       0.72      0.55      0.62       194\n",
      "non_infringement       0.62      0.77      0.69       186\n",
      "\n",
      "        accuracy                           0.66       380\n",
      "       macro avg       0.67      0.66      0.66       380\n",
      "    weighted avg       0.67      0.66      0.66       380\n",
      "\n"
     ]
    },
    {
     "name": "stderr",
     "output_type": "stream",
     "text": [
      "Training Epochs:  58%|█████▊    | 1154/2000 [00:57<00:30, 27.93it/s]"
     ]
    },
    {
     "name": "stdout",
     "output_type": "stream",
     "text": [
      "Epoch 1150/2000, Loss: 0.0013\n",
      "Test Accuracy at Epoch 1150: 66.05%\n",
      "Test F1-score at Epoch 1150: 0.6906\n",
      "Classification Report at Epoch 1150:\n",
      "                  precision    recall  f1-score   support\n",
      "\n",
      "    infringement       0.72      0.55      0.62       194\n",
      "non_infringement       0.62      0.77      0.69       186\n",
      "\n",
      "        accuracy                           0.66       380\n",
      "       macro avg       0.67      0.66      0.66       380\n",
      "    weighted avg       0.67      0.66      0.66       380\n",
      "\n"
     ]
    },
    {
     "name": "stderr",
     "output_type": "stream",
     "text": [
      "Training Epochs:  58%|█████▊    | 1164/2000 [00:58<00:30, 27.66it/s]"
     ]
    },
    {
     "name": "stdout",
     "output_type": "stream",
     "text": [
      "Epoch 1160/2000, Loss: 0.0013\n",
      "Test Accuracy at Epoch 1160: 66.05%\n",
      "Test F1-score at Epoch 1160: 0.6906\n",
      "Classification Report at Epoch 1160:\n",
      "                  precision    recall  f1-score   support\n",
      "\n",
      "    infringement       0.72      0.55      0.62       194\n",
      "non_infringement       0.62      0.77      0.69       186\n",
      "\n",
      "        accuracy                           0.66       380\n",
      "       macro avg       0.67      0.66      0.66       380\n",
      "    weighted avg       0.67      0.66      0.66       380\n",
      "\n"
     ]
    },
    {
     "name": "stderr",
     "output_type": "stream",
     "text": [
      "Training Epochs:  59%|█████▊    | 1173/2000 [00:58<00:30, 26.95it/s]"
     ]
    },
    {
     "name": "stdout",
     "output_type": "stream",
     "text": [
      "Epoch 1170/2000, Loss: 0.0013\n",
      "Test Accuracy at Epoch 1170: 66.05%\n",
      "Test F1-score at Epoch 1170: 0.6906\n",
      "Classification Report at Epoch 1170:\n",
      "                  precision    recall  f1-score   support\n",
      "\n",
      "    infringement       0.72      0.55      0.62       194\n",
      "non_infringement       0.62      0.77      0.69       186\n",
      "\n",
      "        accuracy                           0.66       380\n",
      "       macro avg       0.67      0.66      0.66       380\n",
      "    weighted avg       0.67      0.66      0.66       380\n",
      "\n"
     ]
    },
    {
     "name": "stderr",
     "output_type": "stream",
     "text": [
      "Training Epochs:  59%|█████▉    | 1185/2000 [00:59<00:30, 27.07it/s]"
     ]
    },
    {
     "name": "stdout",
     "output_type": "stream",
     "text": [
      "Epoch 1180/2000, Loss: 0.0013\n",
      "Test Accuracy at Epoch 1180: 66.05%\n",
      "Test F1-score at Epoch 1180: 0.6906\n",
      "Classification Report at Epoch 1180:\n",
      "                  precision    recall  f1-score   support\n",
      "\n",
      "    infringement       0.72      0.55      0.62       194\n",
      "non_infringement       0.62      0.77      0.69       186\n",
      "\n",
      "        accuracy                           0.66       380\n",
      "       macro avg       0.67      0.66      0.66       380\n",
      "    weighted avg       0.67      0.66      0.66       380\n",
      "\n"
     ]
    },
    {
     "name": "stderr",
     "output_type": "stream",
     "text": [
      "Training Epochs:  60%|█████▉    | 1191/2000 [00:59<00:34, 23.65it/s]"
     ]
    },
    {
     "name": "stdout",
     "output_type": "stream",
     "text": [
      "Epoch 1190/2000, Loss: 0.0013\n",
      "Test Accuracy at Epoch 1190: 66.05%\n",
      "Test F1-score at Epoch 1190: 0.6906\n",
      "Classification Report at Epoch 1190:\n",
      "                  precision    recall  f1-score   support\n",
      "\n",
      "    infringement       0.72      0.55      0.62       194\n",
      "non_infringement       0.62      0.77      0.69       186\n",
      "\n",
      "        accuracy                           0.66       380\n",
      "       macro avg       0.67      0.66      0.66       380\n",
      "    weighted avg       0.67      0.66      0.66       380\n",
      "\n"
     ]
    },
    {
     "name": "stderr",
     "output_type": "stream",
     "text": [
      "Training Epochs:  60%|██████    | 1204/2000 [00:59<00:30, 25.89it/s]"
     ]
    },
    {
     "name": "stdout",
     "output_type": "stream",
     "text": [
      "Epoch 1200/2000, Loss: 0.0013\n",
      "Test Accuracy at Epoch 1200: 66.05%\n",
      "Test F1-score at Epoch 1200: 0.6906\n",
      "Classification Report at Epoch 1200:\n",
      "                  precision    recall  f1-score   support\n",
      "\n",
      "    infringement       0.72      0.55      0.62       194\n",
      "non_infringement       0.62      0.77      0.69       186\n",
      "\n",
      "        accuracy                           0.66       380\n",
      "       macro avg       0.67      0.66      0.66       380\n",
      "    weighted avg       0.67      0.66      0.66       380\n",
      "\n"
     ]
    },
    {
     "name": "stderr",
     "output_type": "stream",
     "text": [
      "Training Epochs:  61%|██████    | 1213/2000 [01:00<00:36, 21.64it/s]"
     ]
    },
    {
     "name": "stdout",
     "output_type": "stream",
     "text": [
      "Epoch 1210/2000, Loss: 0.0013\n",
      "Test Accuracy at Epoch 1210: 66.05%\n",
      "Test F1-score at Epoch 1210: 0.6906\n",
      "Classification Report at Epoch 1210:\n",
      "                  precision    recall  f1-score   support\n",
      "\n",
      "    infringement       0.72      0.55      0.62       194\n",
      "non_infringement       0.62      0.77      0.69       186\n",
      "\n",
      "        accuracy                           0.66       380\n",
      "       macro avg       0.67      0.66      0.66       380\n",
      "    weighted avg       0.67      0.66      0.66       380\n",
      "\n"
     ]
    },
    {
     "name": "stderr",
     "output_type": "stream",
     "text": [
      "Training Epochs:  61%|██████    | 1222/2000 [01:00<00:41, 18.57it/s]"
     ]
    },
    {
     "name": "stdout",
     "output_type": "stream",
     "text": [
      "Epoch 1220/2000, Loss: 0.0013\n",
      "Test Accuracy at Epoch 1220: 66.05%\n",
      "Test F1-score at Epoch 1220: 0.6906\n",
      "Classification Report at Epoch 1220:\n",
      "                  precision    recall  f1-score   support\n",
      "\n",
      "    infringement       0.72      0.55      0.62       194\n",
      "non_infringement       0.62      0.77      0.69       186\n",
      "\n",
      "        accuracy                           0.66       380\n",
      "       macro avg       0.67      0.66      0.66       380\n",
      "    weighted avg       0.67      0.66      0.66       380\n",
      "\n"
     ]
    },
    {
     "name": "stderr",
     "output_type": "stream",
     "text": [
      "Training Epochs:  62%|██████▏   | 1232/2000 [01:01<00:47, 16.08it/s]"
     ]
    },
    {
     "name": "stdout",
     "output_type": "stream",
     "text": [
      "Epoch 1230/2000, Loss: 0.0013\n",
      "Test Accuracy at Epoch 1230: 66.05%\n",
      "Test F1-score at Epoch 1230: 0.6906\n",
      "Classification Report at Epoch 1230:\n",
      "                  precision    recall  f1-score   support\n",
      "\n",
      "    infringement       0.72      0.55      0.62       194\n",
      "non_infringement       0.62      0.77      0.69       186\n",
      "\n",
      "        accuracy                           0.66       380\n",
      "       macro avg       0.67      0.66      0.66       380\n",
      "    weighted avg       0.67      0.66      0.66       380\n",
      "\n"
     ]
    },
    {
     "name": "stderr",
     "output_type": "stream",
     "text": [
      "Training Epochs:  62%|██████▏   | 1242/2000 [01:02<01:02, 12.18it/s]"
     ]
    },
    {
     "name": "stdout",
     "output_type": "stream",
     "text": [
      "Epoch 1240/2000, Loss: 0.0013\n",
      "Test Accuracy at Epoch 1240: 66.05%\n",
      "Test F1-score at Epoch 1240: 0.6906\n",
      "Classification Report at Epoch 1240:\n",
      "                  precision    recall  f1-score   support\n",
      "\n",
      "    infringement       0.72      0.55      0.62       194\n",
      "non_infringement       0.62      0.77      0.69       186\n",
      "\n",
      "        accuracy                           0.66       380\n",
      "       macro avg       0.67      0.66      0.66       380\n",
      "    weighted avg       0.67      0.66      0.66       380\n",
      "\n"
     ]
    },
    {
     "name": "stderr",
     "output_type": "stream",
     "text": [
      "Training Epochs:  63%|██████▎   | 1252/2000 [01:02<00:52, 14.30it/s]"
     ]
    },
    {
     "name": "stdout",
     "output_type": "stream",
     "text": [
      "Epoch 1250/2000, Loss: 0.0013\n",
      "Test Accuracy at Epoch 1250: 66.05%\n",
      "Test F1-score at Epoch 1250: 0.6906\n",
      "Classification Report at Epoch 1250:\n",
      "                  precision    recall  f1-score   support\n",
      "\n",
      "    infringement       0.72      0.55      0.62       194\n",
      "non_infringement       0.62      0.77      0.69       186\n",
      "\n",
      "        accuracy                           0.66       380\n",
      "       macro avg       0.67      0.66      0.66       380\n",
      "    weighted avg       0.67      0.66      0.66       380\n",
      "\n"
     ]
    },
    {
     "name": "stderr",
     "output_type": "stream",
     "text": [
      "Training Epochs:  63%|██████▎   | 1263/2000 [01:03<00:44, 16.64it/s]"
     ]
    },
    {
     "name": "stdout",
     "output_type": "stream",
     "text": [
      "Epoch 1260/2000, Loss: 0.0013\n",
      "Test Accuracy at Epoch 1260: 66.05%\n",
      "Test F1-score at Epoch 1260: 0.6906\n",
      "Classification Report at Epoch 1260:\n",
      "                  precision    recall  f1-score   support\n",
      "\n",
      "    infringement       0.72      0.55      0.62       194\n",
      "non_infringement       0.62      0.77      0.69       186\n",
      "\n",
      "        accuracy                           0.66       380\n",
      "       macro avg       0.67      0.66      0.66       380\n",
      "    weighted avg       0.67      0.66      0.66       380\n",
      "\n"
     ]
    },
    {
     "name": "stderr",
     "output_type": "stream",
     "text": [
      "Training Epochs:  64%|██████▎   | 1273/2000 [01:04<00:42, 17.06it/s]"
     ]
    },
    {
     "name": "stdout",
     "output_type": "stream",
     "text": [
      "Epoch 1270/2000, Loss: 0.0013\n",
      "Test Accuracy at Epoch 1270: 66.05%\n",
      "Test F1-score at Epoch 1270: 0.6906\n",
      "Classification Report at Epoch 1270:\n",
      "                  precision    recall  f1-score   support\n",
      "\n",
      "    infringement       0.72      0.55      0.62       194\n",
      "non_infringement       0.62      0.77      0.69       186\n",
      "\n",
      "        accuracy                           0.66       380\n",
      "       macro avg       0.67      0.66      0.66       380\n",
      "    weighted avg       0.67      0.66      0.66       380\n",
      "\n"
     ]
    },
    {
     "name": "stderr",
     "output_type": "stream",
     "text": [
      "Training Epochs:  64%|██████▍   | 1281/2000 [01:04<00:42, 17.11it/s]"
     ]
    },
    {
     "name": "stdout",
     "output_type": "stream",
     "text": [
      "Epoch 1280/2000, Loss: 0.0013\n",
      "Test Accuracy at Epoch 1280: 66.05%\n",
      "Test F1-score at Epoch 1280: 0.6906\n",
      "Classification Report at Epoch 1280:\n",
      "                  precision    recall  f1-score   support\n",
      "\n",
      "    infringement       0.72      0.55      0.62       194\n",
      "non_infringement       0.62      0.77      0.69       186\n",
      "\n",
      "        accuracy                           0.66       380\n",
      "       macro avg       0.67      0.66      0.66       380\n",
      "    weighted avg       0.67      0.66      0.66       380\n",
      "\n"
     ]
    },
    {
     "name": "stderr",
     "output_type": "stream",
     "text": [
      "Training Epochs:  65%|██████▍   | 1292/2000 [01:05<00:51, 13.68it/s]"
     ]
    },
    {
     "name": "stdout",
     "output_type": "stream",
     "text": [
      "Epoch 1290/2000, Loss: 0.0013\n",
      "Test Accuracy at Epoch 1290: 66.05%\n",
      "Test F1-score at Epoch 1290: 0.6906\n",
      "Classification Report at Epoch 1290:\n",
      "                  precision    recall  f1-score   support\n",
      "\n",
      "    infringement       0.72      0.55      0.62       194\n",
      "non_infringement       0.62      0.77      0.69       186\n",
      "\n",
      "        accuracy                           0.66       380\n",
      "       macro avg       0.67      0.66      0.66       380\n",
      "    weighted avg       0.67      0.66      0.66       380\n",
      "\n"
     ]
    },
    {
     "name": "stderr",
     "output_type": "stream",
     "text": [
      "Training Epochs:  65%|██████▌   | 1303/2000 [01:06<00:41, 16.85it/s]"
     ]
    },
    {
     "name": "stdout",
     "output_type": "stream",
     "text": [
      "Epoch 1300/2000, Loss: 0.0013\n",
      "Test Accuracy at Epoch 1300: 66.05%\n",
      "Test F1-score at Epoch 1300: 0.6906\n",
      "Classification Report at Epoch 1300:\n",
      "                  precision    recall  f1-score   support\n",
      "\n",
      "    infringement       0.72      0.55      0.62       194\n",
      "non_infringement       0.62      0.77      0.69       186\n",
      "\n",
      "        accuracy                           0.66       380\n",
      "       macro avg       0.67      0.66      0.66       380\n",
      "    weighted avg       0.67      0.66      0.66       380\n",
      "\n"
     ]
    },
    {
     "name": "stderr",
     "output_type": "stream",
     "text": [
      "Training Epochs:  66%|██████▌   | 1312/2000 [01:06<00:35, 19.32it/s]"
     ]
    },
    {
     "name": "stdout",
     "output_type": "stream",
     "text": [
      "Epoch 1310/2000, Loss: 0.0013\n",
      "Test Accuracy at Epoch 1310: 66.05%\n",
      "Test F1-score at Epoch 1310: 0.6906\n",
      "Classification Report at Epoch 1310:\n",
      "                  precision    recall  f1-score   support\n",
      "\n",
      "    infringement       0.72      0.55      0.62       194\n",
      "non_infringement       0.62      0.77      0.69       186\n",
      "\n",
      "        accuracy                           0.66       380\n",
      "       macro avg       0.67      0.66      0.66       380\n",
      "    weighted avg       0.67      0.66      0.66       380\n",
      "\n"
     ]
    },
    {
     "name": "stderr",
     "output_type": "stream",
     "text": [
      "Training Epochs:  66%|██████▌   | 1324/2000 [01:07<00:30, 22.42it/s]"
     ]
    },
    {
     "name": "stdout",
     "output_type": "stream",
     "text": [
      "Epoch 1320/2000, Loss: 0.0013\n",
      "Test Accuracy at Epoch 1320: 66.05%\n",
      "Test F1-score at Epoch 1320: 0.6906\n",
      "Classification Report at Epoch 1320:\n",
      "                  precision    recall  f1-score   support\n",
      "\n",
      "    infringement       0.72      0.55      0.62       194\n",
      "non_infringement       0.62      0.77      0.69       186\n",
      "\n",
      "        accuracy                           0.66       380\n",
      "       macro avg       0.67      0.66      0.66       380\n",
      "    weighted avg       0.67      0.66      0.66       380\n",
      "\n"
     ]
    },
    {
     "name": "stderr",
     "output_type": "stream",
     "text": [
      "Training Epochs:  67%|██████▋   | 1333/2000 [01:07<00:29, 22.71it/s]"
     ]
    },
    {
     "name": "stdout",
     "output_type": "stream",
     "text": [
      "Epoch 1330/2000, Loss: 0.0013\n",
      "Test Accuracy at Epoch 1330: 66.05%\n",
      "Test F1-score at Epoch 1330: 0.6906\n",
      "Classification Report at Epoch 1330:\n",
      "                  precision    recall  f1-score   support\n",
      "\n",
      "    infringement       0.72      0.55      0.62       194\n",
      "non_infringement       0.62      0.77      0.69       186\n",
      "\n",
      "        accuracy                           0.66       380\n",
      "       macro avg       0.67      0.66      0.66       380\n",
      "    weighted avg       0.67      0.66      0.66       380\n",
      "\n"
     ]
    },
    {
     "name": "stderr",
     "output_type": "stream",
     "text": [
      "Training Epochs:  67%|██████▋   | 1345/2000 [01:07<00:25, 25.67it/s]"
     ]
    },
    {
     "name": "stdout",
     "output_type": "stream",
     "text": [
      "Epoch 1340/2000, Loss: 0.0013\n",
      "Test Accuracy at Epoch 1340: 66.05%\n",
      "Test F1-score at Epoch 1340: 0.6906\n",
      "Classification Report at Epoch 1340:\n",
      "                  precision    recall  f1-score   support\n",
      "\n",
      "    infringement       0.72      0.55      0.62       194\n",
      "non_infringement       0.62      0.77      0.69       186\n",
      "\n",
      "        accuracy                           0.66       380\n",
      "       macro avg       0.67      0.66      0.66       380\n",
      "    weighted avg       0.67      0.66      0.66       380\n",
      "\n"
     ]
    },
    {
     "name": "stderr",
     "output_type": "stream",
     "text": [
      "Training Epochs:  68%|██████▊   | 1354/2000 [01:08<00:25, 25.60it/s]"
     ]
    },
    {
     "name": "stdout",
     "output_type": "stream",
     "text": [
      "Epoch 1350/2000, Loss: 0.0013\n",
      "Test Accuracy at Epoch 1350: 66.05%\n",
      "Test F1-score at Epoch 1350: 0.6906\n",
      "Classification Report at Epoch 1350:\n",
      "                  precision    recall  f1-score   support\n",
      "\n",
      "    infringement       0.72      0.55      0.62       194\n",
      "non_infringement       0.62      0.77      0.69       186\n",
      "\n",
      "        accuracy                           0.66       380\n",
      "       macro avg       0.67      0.66      0.66       380\n",
      "    weighted avg       0.67      0.66      0.66       380\n",
      "\n"
     ]
    },
    {
     "name": "stderr",
     "output_type": "stream",
     "text": [
      "Training Epochs:  68%|██████▊   | 1363/2000 [01:08<00:25, 24.83it/s]"
     ]
    },
    {
     "name": "stdout",
     "output_type": "stream",
     "text": [
      "Epoch 1360/2000, Loss: 0.0013\n",
      "Test Accuracy at Epoch 1360: 66.05%\n",
      "Test F1-score at Epoch 1360: 0.6906\n",
      "Classification Report at Epoch 1360:\n",
      "                  precision    recall  f1-score   support\n",
      "\n",
      "    infringement       0.72      0.55      0.62       194\n",
      "non_infringement       0.62      0.77      0.69       186\n",
      "\n",
      "        accuracy                           0.66       380\n",
      "       macro avg       0.67      0.66      0.66       380\n",
      "    weighted avg       0.67      0.66      0.66       380\n",
      "\n"
     ]
    },
    {
     "name": "stderr",
     "output_type": "stream",
     "text": [
      "Training Epochs:  69%|██████▊   | 1372/2000 [01:08<00:27, 22.91it/s]"
     ]
    },
    {
     "name": "stdout",
     "output_type": "stream",
     "text": [
      "Epoch 1370/2000, Loss: 0.0013\n",
      "Test Accuracy at Epoch 1370: 66.05%\n",
      "Test F1-score at Epoch 1370: 0.6906\n",
      "Classification Report at Epoch 1370:\n",
      "                  precision    recall  f1-score   support\n",
      "\n",
      "    infringement       0.72      0.55      0.62       194\n",
      "non_infringement       0.62      0.77      0.69       186\n",
      "\n",
      "        accuracy                           0.66       380\n",
      "       macro avg       0.67      0.66      0.66       380\n",
      "    weighted avg       0.67      0.66      0.66       380\n",
      "\n"
     ]
    },
    {
     "name": "stderr",
     "output_type": "stream",
     "text": [
      "Training Epochs:  69%|██████▉   | 1384/2000 [01:09<00:25, 24.46it/s]"
     ]
    },
    {
     "name": "stdout",
     "output_type": "stream",
     "text": [
      "Epoch 1380/2000, Loss: 0.0013\n",
      "Test Accuracy at Epoch 1380: 66.05%\n",
      "Test F1-score at Epoch 1380: 0.6906\n",
      "Classification Report at Epoch 1380:\n",
      "                  precision    recall  f1-score   support\n",
      "\n",
      "    infringement       0.72      0.55      0.62       194\n",
      "non_infringement       0.62      0.77      0.69       186\n",
      "\n",
      "        accuracy                           0.66       380\n",
      "       macro avg       0.67      0.66      0.66       380\n",
      "    weighted avg       0.67      0.66      0.66       380\n",
      "\n"
     ]
    },
    {
     "name": "stderr",
     "output_type": "stream",
     "text": [
      "Training Epochs:  70%|██████▉   | 1393/2000 [01:09<00:24, 24.72it/s]"
     ]
    },
    {
     "name": "stdout",
     "output_type": "stream",
     "text": [
      "Epoch 1390/2000, Loss: 0.0013\n",
      "Test Accuracy at Epoch 1390: 66.05%\n",
      "Test F1-score at Epoch 1390: 0.6906\n",
      "Classification Report at Epoch 1390:\n",
      "                  precision    recall  f1-score   support\n",
      "\n",
      "    infringement       0.72      0.55      0.62       194\n",
      "non_infringement       0.62      0.77      0.69       186\n",
      "\n",
      "        accuracy                           0.66       380\n",
      "       macro avg       0.67      0.66      0.66       380\n",
      "    weighted avg       0.67      0.66      0.66       380\n",
      "\n"
     ]
    },
    {
     "name": "stderr",
     "output_type": "stream",
     "text": [
      "Training Epochs:  70%|███████   | 1405/2000 [01:10<00:23, 25.78it/s]"
     ]
    },
    {
     "name": "stdout",
     "output_type": "stream",
     "text": [
      "Epoch 1400/2000, Loss: 0.0013\n",
      "Test Accuracy at Epoch 1400: 66.05%\n",
      "Test F1-score at Epoch 1400: 0.6906\n",
      "Classification Report at Epoch 1400:\n",
      "                  precision    recall  f1-score   support\n",
      "\n",
      "    infringement       0.72      0.55      0.62       194\n",
      "non_infringement       0.62      0.77      0.69       186\n",
      "\n",
      "        accuracy                           0.66       380\n",
      "       macro avg       0.67      0.66      0.66       380\n",
      "    weighted avg       0.67      0.66      0.66       380\n",
      "\n"
     ]
    },
    {
     "name": "stderr",
     "output_type": "stream",
     "text": [
      "Training Epochs:  71%|███████   | 1414/2000 [01:10<00:23, 25.27it/s]"
     ]
    },
    {
     "name": "stdout",
     "output_type": "stream",
     "text": [
      "Epoch 1410/2000, Loss: 0.0013\n",
      "Test Accuracy at Epoch 1410: 66.05%\n",
      "Test F1-score at Epoch 1410: 0.6906\n",
      "Classification Report at Epoch 1410:\n",
      "                  precision    recall  f1-score   support\n",
      "\n",
      "    infringement       0.72      0.55      0.62       194\n",
      "non_infringement       0.62      0.77      0.69       186\n",
      "\n",
      "        accuracy                           0.66       380\n",
      "       macro avg       0.67      0.66      0.66       380\n",
      "    weighted avg       0.67      0.66      0.66       380\n",
      "\n"
     ]
    },
    {
     "name": "stderr",
     "output_type": "stream",
     "text": [
      "Training Epochs:  71%|███████   | 1423/2000 [01:11<00:24, 23.39it/s]"
     ]
    },
    {
     "name": "stdout",
     "output_type": "stream",
     "text": [
      "Epoch 1420/2000, Loss: 0.0013\n",
      "Test Accuracy at Epoch 1420: 66.05%\n",
      "Test F1-score at Epoch 1420: 0.6906\n",
      "Classification Report at Epoch 1420:\n",
      "                  precision    recall  f1-score   support\n",
      "\n",
      "    infringement       0.72      0.55      0.62       194\n",
      "non_infringement       0.62      0.77      0.69       186\n",
      "\n",
      "        accuracy                           0.66       380\n",
      "       macro avg       0.67      0.66      0.66       380\n",
      "    weighted avg       0.67      0.66      0.66       380\n",
      "\n"
     ]
    },
    {
     "name": "stderr",
     "output_type": "stream",
     "text": [
      "Training Epochs:  72%|███████▏  | 1432/2000 [01:11<00:24, 23.51it/s]"
     ]
    },
    {
     "name": "stdout",
     "output_type": "stream",
     "text": [
      "Epoch 1430/2000, Loss: 0.0013\n",
      "Test Accuracy at Epoch 1430: 66.05%\n",
      "Test F1-score at Epoch 1430: 0.6906\n",
      "Classification Report at Epoch 1430:\n",
      "                  precision    recall  f1-score   support\n",
      "\n",
      "    infringement       0.72      0.55      0.62       194\n",
      "non_infringement       0.62      0.77      0.69       186\n",
      "\n",
      "        accuracy                           0.66       380\n",
      "       macro avg       0.67      0.66      0.66       380\n",
      "    weighted avg       0.67      0.66      0.66       380\n",
      "\n"
     ]
    },
    {
     "name": "stderr",
     "output_type": "stream",
     "text": [
      "Training Epochs:  72%|███████▏  | 1444/2000 [01:12<00:23, 23.28it/s]"
     ]
    },
    {
     "name": "stdout",
     "output_type": "stream",
     "text": [
      "Epoch 1440/2000, Loss: 0.0013\n",
      "Test Accuracy at Epoch 1440: 66.05%\n",
      "Test F1-score at Epoch 1440: 0.6906\n",
      "Classification Report at Epoch 1440:\n",
      "                  precision    recall  f1-score   support\n",
      "\n",
      "    infringement       0.72      0.55      0.62       194\n",
      "non_infringement       0.62      0.77      0.69       186\n",
      "\n",
      "        accuracy                           0.66       380\n",
      "       macro avg       0.67      0.66      0.66       380\n",
      "    weighted avg       0.67      0.66      0.66       380\n",
      "\n"
     ]
    },
    {
     "name": "stderr",
     "output_type": "stream",
     "text": [
      "Training Epochs:  73%|███████▎  | 1454/2000 [01:12<00:22, 24.67it/s]"
     ]
    },
    {
     "name": "stdout",
     "output_type": "stream",
     "text": [
      "Epoch 1450/2000, Loss: 0.0013\n",
      "Test Accuracy at Epoch 1450: 66.05%\n",
      "Test F1-score at Epoch 1450: 0.6906\n",
      "Classification Report at Epoch 1450:\n",
      "                  precision    recall  f1-score   support\n",
      "\n",
      "    infringement       0.72      0.55      0.62       194\n",
      "non_infringement       0.62      0.77      0.69       186\n",
      "\n",
      "        accuracy                           0.66       380\n",
      "       macro avg       0.67      0.66      0.66       380\n",
      "    weighted avg       0.67      0.66      0.66       380\n",
      "\n"
     ]
    },
    {
     "name": "stderr",
     "output_type": "stream",
     "text": [
      "Training Epochs:  73%|███████▎  | 1464/2000 [01:12<00:21, 25.24it/s]"
     ]
    },
    {
     "name": "stdout",
     "output_type": "stream",
     "text": [
      "Epoch 1460/2000, Loss: 0.0013\n",
      "Test Accuracy at Epoch 1460: 66.05%\n",
      "Test F1-score at Epoch 1460: 0.6906\n",
      "Classification Report at Epoch 1460:\n",
      "                  precision    recall  f1-score   support\n",
      "\n",
      "    infringement       0.72      0.55      0.62       194\n",
      "non_infringement       0.62      0.77      0.69       186\n",
      "\n",
      "        accuracy                           0.66       380\n",
      "       macro avg       0.67      0.66      0.66       380\n",
      "    weighted avg       0.67      0.66      0.66       380\n",
      "\n"
     ]
    },
    {
     "name": "stderr",
     "output_type": "stream",
     "text": [
      "Training Epochs:  74%|███████▍  | 1475/2000 [01:13<00:17, 29.33it/s]"
     ]
    },
    {
     "name": "stdout",
     "output_type": "stream",
     "text": [
      "Epoch 1470/2000, Loss: 0.0013\n",
      "Test Accuracy at Epoch 1470: 66.05%\n",
      "Test F1-score at Epoch 1470: 0.6906\n",
      "Classification Report at Epoch 1470:\n",
      "                  precision    recall  f1-score   support\n",
      "\n",
      "    infringement       0.72      0.55      0.62       194\n",
      "non_infringement       0.62      0.77      0.69       186\n",
      "\n",
      "        accuracy                           0.66       380\n",
      "       macro avg       0.67      0.66      0.66       380\n",
      "    weighted avg       0.67      0.66      0.66       380\n",
      "\n"
     ]
    },
    {
     "name": "stderr",
     "output_type": "stream",
     "text": [
      "Training Epochs:  74%|███████▍  | 1485/2000 [01:13<00:17, 28.62it/s]"
     ]
    },
    {
     "name": "stdout",
     "output_type": "stream",
     "text": [
      "Epoch 1480/2000, Loss: 0.0013\n",
      "Test Accuracy at Epoch 1480: 66.05%\n",
      "Test F1-score at Epoch 1480: 0.6906\n",
      "Classification Report at Epoch 1480:\n",
      "                  precision    recall  f1-score   support\n",
      "\n",
      "    infringement       0.72      0.55      0.62       194\n",
      "non_infringement       0.62      0.77      0.69       186\n",
      "\n",
      "        accuracy                           0.66       380\n",
      "       macro avg       0.67      0.66      0.66       380\n",
      "    weighted avg       0.67      0.66      0.66       380\n",
      "\n"
     ]
    },
    {
     "name": "stderr",
     "output_type": "stream",
     "text": [
      "Training Epochs:  75%|███████▍  | 1495/2000 [01:13<00:17, 28.52it/s]"
     ]
    },
    {
     "name": "stdout",
     "output_type": "stream",
     "text": [
      "Epoch 1490/2000, Loss: 0.0013\n",
      "Test Accuracy at Epoch 1490: 66.05%\n",
      "Test F1-score at Epoch 1490: 0.6906\n",
      "Classification Report at Epoch 1490:\n",
      "                  precision    recall  f1-score   support\n",
      "\n",
      "    infringement       0.72      0.55      0.62       194\n",
      "non_infringement       0.62      0.77      0.69       186\n",
      "\n",
      "        accuracy                           0.66       380\n",
      "       macro avg       0.67      0.66      0.66       380\n",
      "    weighted avg       0.67      0.66      0.66       380\n",
      "\n"
     ]
    },
    {
     "name": "stderr",
     "output_type": "stream",
     "text": [
      "Training Epochs:  75%|███████▌  | 1505/2000 [01:14<00:17, 27.87it/s]"
     ]
    },
    {
     "name": "stdout",
     "output_type": "stream",
     "text": [
      "Epoch 1500/2000, Loss: 0.0013\n",
      "Test Accuracy at Epoch 1500: 66.05%\n",
      "Test F1-score at Epoch 1500: 0.6906\n",
      "Classification Report at Epoch 1500:\n",
      "                  precision    recall  f1-score   support\n",
      "\n",
      "    infringement       0.72      0.55      0.62       194\n",
      "non_infringement       0.62      0.77      0.69       186\n",
      "\n",
      "        accuracy                           0.66       380\n",
      "       macro avg       0.67      0.66      0.66       380\n",
      "    weighted avg       0.67      0.66      0.66       380\n",
      "\n"
     ]
    },
    {
     "name": "stderr",
     "output_type": "stream",
     "text": [
      "Training Epochs:  76%|███████▌  | 1515/2000 [01:14<00:17, 27.95it/s]"
     ]
    },
    {
     "name": "stdout",
     "output_type": "stream",
     "text": [
      "Epoch 1510/2000, Loss: 0.0013\n",
      "Test Accuracy at Epoch 1510: 66.05%\n",
      "Test F1-score at Epoch 1510: 0.6906\n",
      "Classification Report at Epoch 1510:\n",
      "                  precision    recall  f1-score   support\n",
      "\n",
      "    infringement       0.72      0.55      0.62       194\n",
      "non_infringement       0.62      0.77      0.69       186\n",
      "\n",
      "        accuracy                           0.66       380\n",
      "       macro avg       0.67      0.66      0.66       380\n",
      "    weighted avg       0.67      0.66      0.66       380\n",
      "\n"
     ]
    },
    {
     "name": "stderr",
     "output_type": "stream",
     "text": [
      "Training Epochs:  76%|███████▌  | 1522/2000 [01:14<00:17, 26.89it/s]"
     ]
    },
    {
     "name": "stdout",
     "output_type": "stream",
     "text": [
      "Epoch 1520/2000, Loss: 0.0013\n",
      "Test Accuracy at Epoch 1520: 66.05%\n",
      "Test F1-score at Epoch 1520: 0.6906\n",
      "Classification Report at Epoch 1520:\n",
      "                  precision    recall  f1-score   support\n",
      "\n",
      "    infringement       0.72      0.55      0.62       194\n",
      "non_infringement       0.62      0.77      0.69       186\n",
      "\n",
      "        accuracy                           0.66       380\n",
      "       macro avg       0.67      0.66      0.66       380\n",
      "    weighted avg       0.67      0.66      0.66       380\n",
      "\n"
     ]
    },
    {
     "name": "stderr",
     "output_type": "stream",
     "text": [
      "Training Epochs:  77%|███████▋  | 1532/2000 [01:15<00:21, 21.95it/s]"
     ]
    },
    {
     "name": "stdout",
     "output_type": "stream",
     "text": [
      "Epoch 1530/2000, Loss: 0.0013\n",
      "Test Accuracy at Epoch 1530: 66.05%\n",
      "Test F1-score at Epoch 1530: 0.6906\n",
      "Classification Report at Epoch 1530:\n",
      "                  precision    recall  f1-score   support\n",
      "\n",
      "    infringement       0.72      0.55      0.62       194\n",
      "non_infringement       0.62      0.77      0.69       186\n",
      "\n",
      "        accuracy                           0.66       380\n",
      "       macro avg       0.67      0.66      0.66       380\n",
      "    weighted avg       0.67      0.66      0.66       380\n",
      "\n"
     ]
    },
    {
     "name": "stderr",
     "output_type": "stream",
     "text": [
      "Training Epochs:  77%|███████▋  | 1542/2000 [01:16<00:27, 16.63it/s]"
     ]
    },
    {
     "name": "stdout",
     "output_type": "stream",
     "text": [
      "Epoch 1540/2000, Loss: 0.0013\n",
      "Test Accuracy at Epoch 1540: 66.05%\n",
      "Test F1-score at Epoch 1540: 0.6906\n",
      "Classification Report at Epoch 1540:\n",
      "                  precision    recall  f1-score   support\n",
      "\n",
      "    infringement       0.72      0.55      0.62       194\n",
      "non_infringement       0.62      0.77      0.69       186\n",
      "\n",
      "        accuracy                           0.66       380\n",
      "       macro avg       0.67      0.66      0.66       380\n",
      "    weighted avg       0.67      0.66      0.66       380\n",
      "\n"
     ]
    },
    {
     "name": "stderr",
     "output_type": "stream",
     "text": [
      "Training Epochs:  78%|███████▊  | 1552/2000 [01:16<00:28, 15.83it/s]"
     ]
    },
    {
     "name": "stdout",
     "output_type": "stream",
     "text": [
      "Epoch 1550/2000, Loss: 0.0013\n",
      "Test Accuracy at Epoch 1550: 66.05%\n",
      "Test F1-score at Epoch 1550: 0.6906\n",
      "Classification Report at Epoch 1550:\n",
      "                  precision    recall  f1-score   support\n",
      "\n",
      "    infringement       0.72      0.55      0.62       194\n",
      "non_infringement       0.62      0.77      0.69       186\n",
      "\n",
      "        accuracy                           0.66       380\n",
      "       macro avg       0.67      0.66      0.66       380\n",
      "    weighted avg       0.67      0.66      0.66       380\n",
      "\n"
     ]
    },
    {
     "name": "stderr",
     "output_type": "stream",
     "text": [
      "Training Epochs:  78%|███████▊  | 1564/2000 [01:17<00:24, 18.04it/s]"
     ]
    },
    {
     "name": "stdout",
     "output_type": "stream",
     "text": [
      "Epoch 1560/2000, Loss: 0.0013\n",
      "Test Accuracy at Epoch 1560: 66.05%\n",
      "Test F1-score at Epoch 1560: 0.6906\n",
      "Classification Report at Epoch 1560:\n",
      "                  precision    recall  f1-score   support\n",
      "\n",
      "    infringement       0.72      0.55      0.62       194\n",
      "non_infringement       0.62      0.77      0.69       186\n",
      "\n",
      "        accuracy                           0.66       380\n",
      "       macro avg       0.67      0.66      0.66       380\n",
      "    weighted avg       0.67      0.66      0.66       380\n",
      "\n"
     ]
    },
    {
     "name": "stderr",
     "output_type": "stream",
     "text": [
      "Training Epochs:  79%|███████▊  | 1571/2000 [01:17<00:24, 17.85it/s]"
     ]
    },
    {
     "name": "stdout",
     "output_type": "stream",
     "text": [
      "Epoch 1570/2000, Loss: 0.0013\n",
      "Test Accuracy at Epoch 1570: 66.05%\n",
      "Test F1-score at Epoch 1570: 0.6906\n",
      "Classification Report at Epoch 1570:\n",
      "                  precision    recall  f1-score   support\n",
      "\n",
      "    infringement       0.72      0.55      0.62       194\n",
      "non_infringement       0.62      0.77      0.69       186\n",
      "\n",
      "        accuracy                           0.66       380\n",
      "       macro avg       0.67      0.66      0.66       380\n",
      "    weighted avg       0.67      0.66      0.66       380\n",
      "\n"
     ]
    },
    {
     "name": "stderr",
     "output_type": "stream",
     "text": [
      "Training Epochs:  79%|███████▉  | 1581/2000 [01:18<00:26, 15.99it/s]"
     ]
    },
    {
     "name": "stdout",
     "output_type": "stream",
     "text": [
      "Epoch 1580/2000, Loss: 0.0013\n",
      "Test Accuracy at Epoch 1580: 66.05%\n",
      "Test F1-score at Epoch 1580: 0.6906\n",
      "Classification Report at Epoch 1580:\n",
      "                  precision    recall  f1-score   support\n",
      "\n",
      "    infringement       0.72      0.55      0.62       194\n",
      "non_infringement       0.62      0.77      0.69       186\n",
      "\n",
      "        accuracy                           0.66       380\n",
      "       macro avg       0.67      0.66      0.66       380\n",
      "    weighted avg       0.67      0.66      0.66       380\n",
      "\n"
     ]
    },
    {
     "name": "stderr",
     "output_type": "stream",
     "text": [
      "Training Epochs:  80%|███████▉  | 1592/2000 [01:19<00:22, 18.31it/s]"
     ]
    },
    {
     "name": "stdout",
     "output_type": "stream",
     "text": [
      "Epoch 1590/2000, Loss: 0.0013\n",
      "Test Accuracy at Epoch 1590: 66.32%\n",
      "Test F1-score at Epoch 1590: 0.6923\n",
      "Classification Report at Epoch 1590:\n",
      "                  precision    recall  f1-score   support\n",
      "\n",
      "    infringement       0.72      0.56      0.63       194\n",
      "non_infringement       0.63      0.77      0.69       186\n",
      "\n",
      "        accuracy                           0.66       380\n",
      "       macro avg       0.67      0.67      0.66       380\n",
      "    weighted avg       0.67      0.66      0.66       380\n",
      "\n"
     ]
    },
    {
     "name": "stderr",
     "output_type": "stream",
     "text": [
      "Training Epochs:  80%|████████  | 1601/2000 [01:19<00:22, 17.80it/s]"
     ]
    },
    {
     "name": "stdout",
     "output_type": "stream",
     "text": [
      "Epoch 1600/2000, Loss: 0.0013\n",
      "Test Accuracy at Epoch 1600: 66.32%\n",
      "Test F1-score at Epoch 1600: 0.6923\n",
      "Classification Report at Epoch 1600:\n",
      "                  precision    recall  f1-score   support\n",
      "\n",
      "    infringement       0.72      0.56      0.63       194\n",
      "non_infringement       0.63      0.77      0.69       186\n",
      "\n",
      "        accuracy                           0.66       380\n",
      "       macro avg       0.67      0.67      0.66       380\n",
      "    weighted avg       0.67      0.66      0.66       380\n",
      "\n"
     ]
    },
    {
     "name": "stderr",
     "output_type": "stream",
     "text": [
      "Training Epochs:  81%|████████  | 1614/2000 [01:20<00:18, 20.33it/s]"
     ]
    },
    {
     "name": "stdout",
     "output_type": "stream",
     "text": [
      "Epoch 1610/2000, Loss: 0.0013\n",
      "Test Accuracy at Epoch 1610: 66.32%\n",
      "Test F1-score at Epoch 1610: 0.6923\n",
      "Classification Report at Epoch 1610:\n",
      "                  precision    recall  f1-score   support\n",
      "\n",
      "    infringement       0.72      0.56      0.63       194\n",
      "non_infringement       0.63      0.77      0.69       186\n",
      "\n",
      "        accuracy                           0.66       380\n",
      "       macro avg       0.67      0.67      0.66       380\n",
      "    weighted avg       0.67      0.66      0.66       380\n",
      "\n"
     ]
    },
    {
     "name": "stderr",
     "output_type": "stream",
     "text": [
      "Training Epochs:  81%|████████  | 1623/2000 [01:20<00:17, 21.02it/s]"
     ]
    },
    {
     "name": "stdout",
     "output_type": "stream",
     "text": [
      "Epoch 1620/2000, Loss: 0.0013\n",
      "Test Accuracy at Epoch 1620: 66.32%\n",
      "Test F1-score at Epoch 1620: 0.6923\n",
      "Classification Report at Epoch 1620:\n",
      "                  precision    recall  f1-score   support\n",
      "\n",
      "    infringement       0.72      0.56      0.63       194\n",
      "non_infringement       0.63      0.77      0.69       186\n",
      "\n",
      "        accuracy                           0.66       380\n",
      "       macro avg       0.67      0.67      0.66       380\n",
      "    weighted avg       0.67      0.66      0.66       380\n",
      "\n"
     ]
    },
    {
     "name": "stderr",
     "output_type": "stream",
     "text": [
      "Training Epochs:  82%|████████▏ | 1632/2000 [01:21<00:18, 20.28it/s]"
     ]
    },
    {
     "name": "stdout",
     "output_type": "stream",
     "text": [
      "Epoch 1630/2000, Loss: 0.0013\n",
      "Test Accuracy at Epoch 1630: 66.32%\n",
      "Test F1-score at Epoch 1630: 0.6923\n",
      "Classification Report at Epoch 1630:\n",
      "                  precision    recall  f1-score   support\n",
      "\n",
      "    infringement       0.72      0.56      0.63       194\n",
      "non_infringement       0.63      0.77      0.69       186\n",
      "\n",
      "        accuracy                           0.66       380\n",
      "       macro avg       0.67      0.67      0.66       380\n",
      "    weighted avg       0.67      0.66      0.66       380\n",
      "\n"
     ]
    },
    {
     "name": "stderr",
     "output_type": "stream",
     "text": [
      "Training Epochs:  82%|████████▏ | 1641/2000 [01:21<00:18, 19.92it/s]"
     ]
    },
    {
     "name": "stdout",
     "output_type": "stream",
     "text": [
      "Epoch 1640/2000, Loss: 0.0013\n",
      "Test Accuracy at Epoch 1640: 66.32%\n",
      "Test F1-score at Epoch 1640: 0.6923\n",
      "Classification Report at Epoch 1640:\n",
      "                  precision    recall  f1-score   support\n",
      "\n",
      "    infringement       0.72      0.56      0.63       194\n",
      "non_infringement       0.63      0.77      0.69       186\n",
      "\n",
      "        accuracy                           0.66       380\n",
      "       macro avg       0.67      0.67      0.66       380\n",
      "    weighted avg       0.67      0.66      0.66       380\n",
      "\n"
     ]
    },
    {
     "name": "stderr",
     "output_type": "stream",
     "text": [
      "Training Epochs:  83%|████████▎ | 1653/2000 [01:22<00:18, 18.32it/s]"
     ]
    },
    {
     "name": "stdout",
     "output_type": "stream",
     "text": [
      "Epoch 1650/2000, Loss: 0.0013\n",
      "Test Accuracy at Epoch 1650: 66.05%\n",
      "Test F1-score at Epoch 1650: 0.6892\n",
      "Classification Report at Epoch 1650:\n",
      "                  precision    recall  f1-score   support\n",
      "\n",
      "    infringement       0.72      0.56      0.63       194\n",
      "non_infringement       0.62      0.77      0.69       186\n",
      "\n",
      "        accuracy                           0.66       380\n",
      "       macro avg       0.67      0.66      0.66       380\n",
      "    weighted avg       0.67      0.66      0.66       380\n",
      "\n"
     ]
    },
    {
     "name": "stderr",
     "output_type": "stream",
     "text": [
      "Training Epochs:  83%|████████▎ | 1664/2000 [01:22<00:14, 22.50it/s]"
     ]
    },
    {
     "name": "stdout",
     "output_type": "stream",
     "text": [
      "Epoch 1660/2000, Loss: 0.0013\n",
      "Test Accuracy at Epoch 1660: 66.05%\n",
      "Test F1-score at Epoch 1660: 0.6892\n",
      "Classification Report at Epoch 1660:\n",
      "                  precision    recall  f1-score   support\n",
      "\n",
      "    infringement       0.72      0.56      0.63       194\n",
      "non_infringement       0.62      0.77      0.69       186\n",
      "\n",
      "        accuracy                           0.66       380\n",
      "       macro avg       0.67      0.66      0.66       380\n",
      "    weighted avg       0.67      0.66      0.66       380\n",
      "\n"
     ]
    },
    {
     "name": "stderr",
     "output_type": "stream",
     "text": [
      "Training Epochs:  84%|████████▎ | 1674/2000 [01:23<00:13, 24.96it/s]"
     ]
    },
    {
     "name": "stdout",
     "output_type": "stream",
     "text": [
      "Epoch 1670/2000, Loss: 0.0013\n",
      "Test Accuracy at Epoch 1670: 66.05%\n",
      "Test F1-score at Epoch 1670: 0.6892\n",
      "Classification Report at Epoch 1670:\n",
      "                  precision    recall  f1-score   support\n",
      "\n",
      "    infringement       0.72      0.56      0.63       194\n",
      "non_infringement       0.62      0.77      0.69       186\n",
      "\n",
      "        accuracy                           0.66       380\n",
      "       macro avg       0.67      0.66      0.66       380\n",
      "    weighted avg       0.67      0.66      0.66       380\n",
      "\n"
     ]
    },
    {
     "name": "stderr",
     "output_type": "stream",
     "text": [
      "Training Epochs:  84%|████████▍ | 1683/2000 [01:23<00:12, 25.58it/s]"
     ]
    },
    {
     "name": "stdout",
     "output_type": "stream",
     "text": [
      "Epoch 1680/2000, Loss: 0.0013\n",
      "Test Accuracy at Epoch 1680: 66.05%\n",
      "Test F1-score at Epoch 1680: 0.6892\n",
      "Classification Report at Epoch 1680:\n",
      "                  precision    recall  f1-score   support\n",
      "\n",
      "    infringement       0.72      0.56      0.63       194\n",
      "non_infringement       0.62      0.77      0.69       186\n",
      "\n",
      "        accuracy                           0.66       380\n",
      "       macro avg       0.67      0.66      0.66       380\n",
      "    weighted avg       0.67      0.66      0.66       380\n",
      "\n"
     ]
    },
    {
     "name": "stderr",
     "output_type": "stream",
     "text": [
      "Training Epochs:  85%|████████▍ | 1692/2000 [01:23<00:12, 24.38it/s]"
     ]
    },
    {
     "name": "stdout",
     "output_type": "stream",
     "text": [
      "Epoch 1690/2000, Loss: 0.0013\n",
      "Test Accuracy at Epoch 1690: 66.05%\n",
      "Test F1-score at Epoch 1690: 0.6892\n",
      "Classification Report at Epoch 1690:\n",
      "                  precision    recall  f1-score   support\n",
      "\n",
      "    infringement       0.72      0.56      0.63       194\n",
      "non_infringement       0.62      0.77      0.69       186\n",
      "\n",
      "        accuracy                           0.66       380\n",
      "       macro avg       0.67      0.66      0.66       380\n",
      "    weighted avg       0.67      0.66      0.66       380\n",
      "\n"
     ]
    },
    {
     "name": "stderr",
     "output_type": "stream",
     "text": [
      "Training Epochs:  85%|████████▌ | 1704/2000 [01:24<00:11, 25.06it/s]"
     ]
    },
    {
     "name": "stdout",
     "output_type": "stream",
     "text": [
      "Epoch 1700/2000, Loss: 0.0013\n",
      "Test Accuracy at Epoch 1700: 66.05%\n",
      "Test F1-score at Epoch 1700: 0.6892\n",
      "Classification Report at Epoch 1700:\n",
      "                  precision    recall  f1-score   support\n",
      "\n",
      "    infringement       0.72      0.56      0.63       194\n",
      "non_infringement       0.62      0.77      0.69       186\n",
      "\n",
      "        accuracy                           0.66       380\n",
      "       macro avg       0.67      0.66      0.66       380\n",
      "    weighted avg       0.67      0.66      0.66       380\n",
      "\n"
     ]
    },
    {
     "name": "stderr",
     "output_type": "stream",
     "text": [
      "Training Epochs:  86%|████████▌ | 1713/2000 [01:24<00:11, 24.68it/s]"
     ]
    },
    {
     "name": "stdout",
     "output_type": "stream",
     "text": [
      "Epoch 1710/2000, Loss: 0.0013\n",
      "Test Accuracy at Epoch 1710: 66.05%\n",
      "Test F1-score at Epoch 1710: 0.6892\n",
      "Classification Report at Epoch 1710:\n",
      "                  precision    recall  f1-score   support\n",
      "\n",
      "    infringement       0.72      0.56      0.63       194\n",
      "non_infringement       0.62      0.77      0.69       186\n",
      "\n",
      "        accuracy                           0.66       380\n",
      "       macro avg       0.67      0.66      0.66       380\n",
      "    weighted avg       0.67      0.66      0.66       380\n",
      "\n"
     ]
    },
    {
     "name": "stderr",
     "output_type": "stream",
     "text": [
      "Training Epochs:  86%|████████▋ | 1725/2000 [01:25<00:10, 25.56it/s]"
     ]
    },
    {
     "name": "stdout",
     "output_type": "stream",
     "text": [
      "Epoch 1720/2000, Loss: 0.0013\n",
      "Test Accuracy at Epoch 1720: 66.05%\n",
      "Test F1-score at Epoch 1720: 0.6892\n",
      "Classification Report at Epoch 1720:\n",
      "                  precision    recall  f1-score   support\n",
      "\n",
      "    infringement       0.72      0.56      0.63       194\n",
      "non_infringement       0.62      0.77      0.69       186\n",
      "\n",
      "        accuracy                           0.66       380\n",
      "       macro avg       0.67      0.66      0.66       380\n",
      "    weighted avg       0.67      0.66      0.66       380\n",
      "\n"
     ]
    },
    {
     "name": "stderr",
     "output_type": "stream",
     "text": [
      "Training Epochs:  87%|████████▋ | 1734/2000 [01:25<00:10, 24.42it/s]"
     ]
    },
    {
     "name": "stdout",
     "output_type": "stream",
     "text": [
      "Epoch 1730/2000, Loss: 0.0013\n",
      "Test Accuracy at Epoch 1730: 66.05%\n",
      "Test F1-score at Epoch 1730: 0.6892\n",
      "Classification Report at Epoch 1730:\n",
      "                  precision    recall  f1-score   support\n",
      "\n",
      "    infringement       0.72      0.56      0.63       194\n",
      "non_infringement       0.62      0.77      0.69       186\n",
      "\n",
      "        accuracy                           0.66       380\n",
      "       macro avg       0.67      0.66      0.66       380\n",
      "    weighted avg       0.67      0.66      0.66       380\n",
      "\n"
     ]
    },
    {
     "name": "stderr",
     "output_type": "stream",
     "text": [
      "Training Epochs:  87%|████████▋ | 1743/2000 [01:25<00:10, 24.70it/s]"
     ]
    },
    {
     "name": "stdout",
     "output_type": "stream",
     "text": [
      "Epoch 1740/2000, Loss: 0.0013\n",
      "Test Accuracy at Epoch 1740: 66.05%\n",
      "Test F1-score at Epoch 1740: 0.6892\n",
      "Classification Report at Epoch 1740:\n",
      "                  precision    recall  f1-score   support\n",
      "\n",
      "    infringement       0.72      0.56      0.63       194\n",
      "non_infringement       0.62      0.77      0.69       186\n",
      "\n",
      "        accuracy                           0.66       380\n",
      "       macro avg       0.67      0.66      0.66       380\n",
      "    weighted avg       0.67      0.66      0.66       380\n",
      "\n"
     ]
    },
    {
     "name": "stderr",
     "output_type": "stream",
     "text": [
      "Training Epochs:  88%|████████▊ | 1752/2000 [01:26<00:10, 24.39it/s]"
     ]
    },
    {
     "name": "stdout",
     "output_type": "stream",
     "text": [
      "Epoch 1750/2000, Loss: 0.0013\n",
      "Test Accuracy at Epoch 1750: 66.05%\n",
      "Test F1-score at Epoch 1750: 0.6892\n",
      "Classification Report at Epoch 1750:\n",
      "                  precision    recall  f1-score   support\n",
      "\n",
      "    infringement       0.72      0.56      0.63       194\n",
      "non_infringement       0.62      0.77      0.69       186\n",
      "\n",
      "        accuracy                           0.66       380\n",
      "       macro avg       0.67      0.66      0.66       380\n",
      "    weighted avg       0.67      0.66      0.66       380\n",
      "\n"
     ]
    },
    {
     "name": "stderr",
     "output_type": "stream",
     "text": [
      "Training Epochs:  88%|████████▊ | 1764/2000 [01:26<00:10, 23.01it/s]"
     ]
    },
    {
     "name": "stdout",
     "output_type": "stream",
     "text": [
      "Epoch 1760/2000, Loss: 0.0013\n",
      "Test Accuracy at Epoch 1760: 66.05%\n",
      "Test F1-score at Epoch 1760: 0.6892\n",
      "Classification Report at Epoch 1760:\n",
      "                  precision    recall  f1-score   support\n",
      "\n",
      "    infringement       0.72      0.56      0.63       194\n",
      "non_infringement       0.62      0.77      0.69       186\n",
      "\n",
      "        accuracy                           0.66       380\n",
      "       macro avg       0.67      0.66      0.66       380\n",
      "    weighted avg       0.67      0.66      0.66       380\n",
      "\n"
     ]
    },
    {
     "name": "stderr",
     "output_type": "stream",
     "text": [
      "Training Epochs:  89%|████████▊ | 1774/2000 [01:27<00:09, 24.26it/s]"
     ]
    },
    {
     "name": "stdout",
     "output_type": "stream",
     "text": [
      "Epoch 1770/2000, Loss: 0.0013\n",
      "Test Accuracy at Epoch 1770: 66.05%\n",
      "Test F1-score at Epoch 1770: 0.6892\n",
      "Classification Report at Epoch 1770:\n",
      "                  precision    recall  f1-score   support\n",
      "\n",
      "    infringement       0.72      0.56      0.63       194\n",
      "non_infringement       0.62      0.77      0.69       186\n",
      "\n",
      "        accuracy                           0.66       380\n",
      "       macro avg       0.67      0.66      0.66       380\n",
      "    weighted avg       0.67      0.66      0.66       380\n",
      "\n"
     ]
    },
    {
     "name": "stderr",
     "output_type": "stream",
     "text": [
      "Training Epochs:  89%|████████▉ | 1784/2000 [01:27<00:08, 24.90it/s]"
     ]
    },
    {
     "name": "stdout",
     "output_type": "stream",
     "text": [
      "Epoch 1780/2000, Loss: 0.0013\n",
      "Test Accuracy at Epoch 1780: 65.79%\n",
      "Test F1-score at Epoch 1780: 0.6860\n",
      "Classification Report at Epoch 1780:\n",
      "                  precision    recall  f1-score   support\n",
      "\n",
      "    infringement       0.71      0.56      0.62       194\n",
      "non_infringement       0.62      0.76      0.69       186\n",
      "\n",
      "        accuracy                           0.66       380\n",
      "       macro avg       0.67      0.66      0.66       380\n",
      "    weighted avg       0.67      0.66      0.65       380\n",
      "\n"
     ]
    },
    {
     "name": "stderr",
     "output_type": "stream",
     "text": [
      "Training Epochs:  90%|████████▉ | 1791/2000 [01:27<00:07, 26.52it/s]"
     ]
    },
    {
     "name": "stdout",
     "output_type": "stream",
     "text": [
      "Epoch 1790/2000, Loss: 0.0013\n",
      "Test Accuracy at Epoch 1790: 65.79%\n",
      "Test F1-score at Epoch 1790: 0.6860\n",
      "Classification Report at Epoch 1790:\n",
      "                  precision    recall  f1-score   support\n",
      "\n",
      "    infringement       0.71      0.56      0.62       194\n",
      "non_infringement       0.62      0.76      0.69       186\n",
      "\n",
      "        accuracy                           0.66       380\n",
      "       macro avg       0.67      0.66      0.66       380\n",
      "    weighted avg       0.67      0.66      0.65       380\n",
      "\n"
     ]
    },
    {
     "name": "stderr",
     "output_type": "stream",
     "text": [
      "Training Epochs:  90%|█████████ | 1803/2000 [01:28<00:07, 25.98it/s]"
     ]
    },
    {
     "name": "stdout",
     "output_type": "stream",
     "text": [
      "Epoch 1800/2000, Loss: 0.0013\n",
      "Test Accuracy at Epoch 1800: 65.79%\n",
      "Test F1-score at Epoch 1800: 0.6860\n",
      "Classification Report at Epoch 1800:\n",
      "                  precision    recall  f1-score   support\n",
      "\n",
      "    infringement       0.71      0.56      0.62       194\n",
      "non_infringement       0.62      0.76      0.69       186\n",
      "\n",
      "        accuracy                           0.66       380\n",
      "       macro avg       0.67      0.66      0.66       380\n",
      "    weighted avg       0.67      0.66      0.65       380\n",
      "\n"
     ]
    },
    {
     "name": "stderr",
     "output_type": "stream",
     "text": [
      "Training Epochs:  91%|█████████ | 1813/2000 [01:28<00:07, 26.32it/s]"
     ]
    },
    {
     "name": "stdout",
     "output_type": "stream",
     "text": [
      "Epoch 1810/2000, Loss: 0.0013\n",
      "Test Accuracy at Epoch 1810: 65.79%\n",
      "Test F1-score at Epoch 1810: 0.6860\n",
      "Classification Report at Epoch 1810:\n",
      "                  precision    recall  f1-score   support\n",
      "\n",
      "    infringement       0.71      0.56      0.62       194\n",
      "non_infringement       0.62      0.76      0.69       186\n",
      "\n",
      "        accuracy                           0.66       380\n",
      "       macro avg       0.67      0.66      0.66       380\n",
      "    weighted avg       0.67      0.66      0.65       380\n",
      "\n"
     ]
    },
    {
     "name": "stderr",
     "output_type": "stream",
     "text": [
      "Training Epochs:  91%|█████████ | 1822/2000 [01:29<00:07, 25.41it/s]"
     ]
    },
    {
     "name": "stdout",
     "output_type": "stream",
     "text": [
      "Epoch 1820/2000, Loss: 0.0013\n",
      "Test Accuracy at Epoch 1820: 65.79%\n",
      "Test F1-score at Epoch 1820: 0.6860\n",
      "Classification Report at Epoch 1820:\n",
      "                  precision    recall  f1-score   support\n",
      "\n",
      "    infringement       0.71      0.56      0.62       194\n",
      "non_infringement       0.62      0.76      0.69       186\n",
      "\n",
      "        accuracy                           0.66       380\n",
      "       macro avg       0.67      0.66      0.66       380\n",
      "    weighted avg       0.67      0.66      0.65       380\n",
      "\n"
     ]
    },
    {
     "name": "stderr",
     "output_type": "stream",
     "text": [
      "Training Epochs:  92%|█████████▏| 1831/2000 [01:29<00:06, 25.00it/s]"
     ]
    },
    {
     "name": "stdout",
     "output_type": "stream",
     "text": [
      "Epoch 1830/2000, Loss: 0.0013\n",
      "Test Accuracy at Epoch 1830: 65.79%\n",
      "Test F1-score at Epoch 1830: 0.6860\n",
      "Classification Report at Epoch 1830:\n",
      "                  precision    recall  f1-score   support\n",
      "\n",
      "    infringement       0.71      0.56      0.62       194\n",
      "non_infringement       0.62      0.76      0.69       186\n",
      "\n",
      "        accuracy                           0.66       380\n",
      "       macro avg       0.67      0.66      0.66       380\n",
      "    weighted avg       0.67      0.66      0.65       380\n",
      "\n"
     ]
    },
    {
     "name": "stderr",
     "output_type": "stream",
     "text": [
      "Training Epochs:  92%|█████████▏| 1842/2000 [01:30<00:08, 19.12it/s]"
     ]
    },
    {
     "name": "stdout",
     "output_type": "stream",
     "text": [
      "Epoch 1840/2000, Loss: 0.0013\n",
      "Test Accuracy at Epoch 1840: 65.79%\n",
      "Test F1-score at Epoch 1840: 0.6860\n",
      "Classification Report at Epoch 1840:\n",
      "                  precision    recall  f1-score   support\n",
      "\n",
      "    infringement       0.71      0.56      0.62       194\n",
      "non_infringement       0.62      0.76      0.69       186\n",
      "\n",
      "        accuracy                           0.66       380\n",
      "       macro avg       0.67      0.66      0.66       380\n",
      "    weighted avg       0.67      0.66      0.65       380\n",
      "\n"
     ]
    },
    {
     "name": "stderr",
     "output_type": "stream",
     "text": [
      "Training Epochs:  93%|█████████▎| 1852/2000 [01:30<00:06, 21.83it/s]"
     ]
    },
    {
     "name": "stdout",
     "output_type": "stream",
     "text": [
      "Epoch 1850/2000, Loss: 0.0013\n",
      "Test Accuracy at Epoch 1850: 65.79%\n",
      "Test F1-score at Epoch 1850: 0.6860\n",
      "Classification Report at Epoch 1850:\n",
      "                  precision    recall  f1-score   support\n",
      "\n",
      "    infringement       0.71      0.56      0.62       194\n",
      "non_infringement       0.62      0.76      0.69       186\n",
      "\n",
      "        accuracy                           0.66       380\n",
      "       macro avg       0.67      0.66      0.66       380\n",
      "    weighted avg       0.67      0.66      0.65       380\n",
      "\n"
     ]
    },
    {
     "name": "stderr",
     "output_type": "stream",
     "text": [
      "Training Epochs:  93%|█████████▎| 1864/2000 [01:31<00:05, 24.65it/s]"
     ]
    },
    {
     "name": "stdout",
     "output_type": "stream",
     "text": [
      "Epoch 1860/2000, Loss: 0.0013\n",
      "Test Accuracy at Epoch 1860: 65.79%\n",
      "Test F1-score at Epoch 1860: 0.6860\n",
      "Classification Report at Epoch 1860:\n",
      "                  precision    recall  f1-score   support\n",
      "\n",
      "    infringement       0.71      0.56      0.62       194\n",
      "non_infringement       0.62      0.76      0.69       186\n",
      "\n",
      "        accuracy                           0.66       380\n",
      "       macro avg       0.67      0.66      0.66       380\n",
      "    weighted avg       0.67      0.66      0.65       380\n",
      "\n"
     ]
    },
    {
     "name": "stderr",
     "output_type": "stream",
     "text": [
      "Training Epochs:  94%|█████████▎| 1873/2000 [01:31<00:05, 24.16it/s]"
     ]
    },
    {
     "name": "stdout",
     "output_type": "stream",
     "text": [
      "Epoch 1870/2000, Loss: 0.0013\n",
      "Test Accuracy at Epoch 1870: 65.79%\n",
      "Test F1-score at Epoch 1870: 0.6860\n",
      "Classification Report at Epoch 1870:\n",
      "                  precision    recall  f1-score   support\n",
      "\n",
      "    infringement       0.71      0.56      0.62       194\n",
      "non_infringement       0.62      0.76      0.69       186\n",
      "\n",
      "        accuracy                           0.66       380\n",
      "       macro avg       0.67      0.66      0.66       380\n",
      "    weighted avg       0.67      0.66      0.65       380\n",
      "\n"
     ]
    },
    {
     "name": "stderr",
     "output_type": "stream",
     "text": [
      "Training Epochs:  94%|█████████▍| 1885/2000 [01:31<00:04, 24.26it/s]"
     ]
    },
    {
     "name": "stdout",
     "output_type": "stream",
     "text": [
      "Epoch 1880/2000, Loss: 0.0013\n",
      "Test Accuracy at Epoch 1880: 65.79%\n",
      "Test F1-score at Epoch 1880: 0.6860\n",
      "Classification Report at Epoch 1880:\n",
      "                  precision    recall  f1-score   support\n",
      "\n",
      "    infringement       0.71      0.56      0.62       194\n",
      "non_infringement       0.62      0.76      0.69       186\n",
      "\n",
      "        accuracy                           0.66       380\n",
      "       macro avg       0.67      0.66      0.66       380\n",
      "    weighted avg       0.67      0.66      0.65       380\n",
      "\n"
     ]
    },
    {
     "name": "stderr",
     "output_type": "stream",
     "text": [
      "Training Epochs:  95%|█████████▍| 1894/2000 [01:32<00:04, 24.95it/s]"
     ]
    },
    {
     "name": "stdout",
     "output_type": "stream",
     "text": [
      "Epoch 1890/2000, Loss: 0.0013\n",
      "Test Accuracy at Epoch 1890: 65.79%\n",
      "Test F1-score at Epoch 1890: 0.6860\n",
      "Classification Report at Epoch 1890:\n",
      "                  precision    recall  f1-score   support\n",
      "\n",
      "    infringement       0.71      0.56      0.62       194\n",
      "non_infringement       0.62      0.76      0.69       186\n",
      "\n",
      "        accuracy                           0.66       380\n",
      "       macro avg       0.67      0.66      0.66       380\n",
      "    weighted avg       0.67      0.66      0.65       380\n",
      "\n"
     ]
    },
    {
     "name": "stderr",
     "output_type": "stream",
     "text": [
      "Training Epochs:  95%|█████████▌| 1904/2000 [01:32<00:03, 26.43it/s]"
     ]
    },
    {
     "name": "stdout",
     "output_type": "stream",
     "text": [
      "Epoch 1900/2000, Loss: 0.0013\n",
      "Test Accuracy at Epoch 1900: 65.79%\n",
      "Test F1-score at Epoch 1900: 0.6860\n",
      "Classification Report at Epoch 1900:\n",
      "                  precision    recall  f1-score   support\n",
      "\n",
      "    infringement       0.71      0.56      0.62       194\n",
      "non_infringement       0.62      0.76      0.69       186\n",
      "\n",
      "        accuracy                           0.66       380\n",
      "       macro avg       0.67      0.66      0.66       380\n",
      "    weighted avg       0.67      0.66      0.65       380\n",
      "\n"
     ]
    },
    {
     "name": "stderr",
     "output_type": "stream",
     "text": [
      "Training Epochs:  96%|█████████▌| 1913/2000 [01:33<00:03, 26.33it/s]"
     ]
    },
    {
     "name": "stdout",
     "output_type": "stream",
     "text": [
      "Epoch 1910/2000, Loss: 0.0013\n",
      "Test Accuracy at Epoch 1910: 65.79%\n",
      "Test F1-score at Epoch 1910: 0.6860\n",
      "Classification Report at Epoch 1910:\n",
      "                  precision    recall  f1-score   support\n",
      "\n",
      "    infringement       0.71      0.56      0.62       194\n",
      "non_infringement       0.62      0.76      0.69       186\n",
      "\n",
      "        accuracy                           0.66       380\n",
      "       macro avg       0.67      0.66      0.66       380\n",
      "    weighted avg       0.67      0.66      0.65       380\n",
      "\n"
     ]
    },
    {
     "name": "stderr",
     "output_type": "stream",
     "text": [
      "Training Epochs:  96%|█████████▌| 1922/2000 [01:33<00:03, 25.83it/s]"
     ]
    },
    {
     "name": "stdout",
     "output_type": "stream",
     "text": [
      "Epoch 1920/2000, Loss: 0.0013\n",
      "Test Accuracy at Epoch 1920: 65.79%\n",
      "Test F1-score at Epoch 1920: 0.6860\n",
      "Classification Report at Epoch 1920:\n",
      "                  precision    recall  f1-score   support\n",
      "\n",
      "    infringement       0.71      0.56      0.62       194\n",
      "non_infringement       0.62      0.76      0.69       186\n",
      "\n",
      "        accuracy                           0.66       380\n",
      "       macro avg       0.67      0.66      0.66       380\n",
      "    weighted avg       0.67      0.66      0.65       380\n",
      "\n"
     ]
    },
    {
     "name": "stderr",
     "output_type": "stream",
     "text": [
      "Training Epochs:  97%|█████████▋| 1932/2000 [01:33<00:03, 22.21it/s]"
     ]
    },
    {
     "name": "stdout",
     "output_type": "stream",
     "text": [
      "Epoch 1930/2000, Loss: 0.0013\n",
      "Test Accuracy at Epoch 1930: 65.79%\n",
      "Test F1-score at Epoch 1930: 0.6860\n",
      "Classification Report at Epoch 1930:\n",
      "                  precision    recall  f1-score   support\n",
      "\n",
      "    infringement       0.71      0.56      0.62       194\n",
      "non_infringement       0.62      0.76      0.69       186\n",
      "\n",
      "        accuracy                           0.66       380\n",
      "       macro avg       0.67      0.66      0.66       380\n",
      "    weighted avg       0.67      0.66      0.65       380\n",
      "\n"
     ]
    },
    {
     "name": "stderr",
     "output_type": "stream",
     "text": [
      "Training Epochs:  97%|█████████▋| 1944/2000 [01:34<00:02, 24.51it/s]"
     ]
    },
    {
     "name": "stdout",
     "output_type": "stream",
     "text": [
      "Epoch 1940/2000, Loss: 0.0013\n",
      "Test Accuracy at Epoch 1940: 65.53%\n",
      "Test F1-score at Epoch 1940: 0.6828\n",
      "Classification Report at Epoch 1940:\n",
      "                  precision    recall  f1-score   support\n",
      "\n",
      "    infringement       0.71      0.56      0.62       194\n",
      "non_infringement       0.62      0.76      0.68       186\n",
      "\n",
      "        accuracy                           0.66       380\n",
      "       macro avg       0.66      0.66      0.65       380\n",
      "    weighted avg       0.66      0.66      0.65       380\n",
      "\n"
     ]
    },
    {
     "name": "stderr",
     "output_type": "stream",
     "text": [
      "Training Epochs:  98%|█████████▊| 1950/2000 [01:34<00:02, 20.04it/s]"
     ]
    },
    {
     "name": "stdout",
     "output_type": "stream",
     "text": [
      "Epoch 1950/2000, Loss: 0.0013\n",
      "Test Accuracy at Epoch 1950: 65.53%\n",
      "Test F1-score at Epoch 1950: 0.6828\n",
      "Classification Report at Epoch 1950:\n",
      "                  precision    recall  f1-score   support\n",
      "\n",
      "    infringement       0.71      0.56      0.62       194\n",
      "non_infringement       0.62      0.76      0.68       186\n",
      "\n",
      "        accuracy                           0.66       380\n",
      "       macro avg       0.66      0.66      0.65       380\n",
      "    weighted avg       0.66      0.66      0.65       380\n",
      "\n"
     ]
    },
    {
     "name": "stderr",
     "output_type": "stream",
     "text": [
      "Training Epochs:  98%|█████████▊| 1963/2000 [01:35<00:02, 16.24it/s]"
     ]
    },
    {
     "name": "stdout",
     "output_type": "stream",
     "text": [
      "Epoch 1960/2000, Loss: 0.0013\n",
      "Test Accuracy at Epoch 1960: 65.53%\n",
      "Test F1-score at Epoch 1960: 0.6828\n",
      "Classification Report at Epoch 1960:\n",
      "                  precision    recall  f1-score   support\n",
      "\n",
      "    infringement       0.71      0.56      0.62       194\n",
      "non_infringement       0.62      0.76      0.68       186\n",
      "\n",
      "        accuracy                           0.66       380\n",
      "       macro avg       0.66      0.66      0.65       380\n",
      "    weighted avg       0.66      0.66      0.65       380\n",
      "\n"
     ]
    },
    {
     "name": "stderr",
     "output_type": "stream",
     "text": [
      "Training Epochs:  99%|█████████▊| 1972/2000 [01:36<00:01, 16.51it/s]"
     ]
    },
    {
     "name": "stdout",
     "output_type": "stream",
     "text": [
      "Epoch 1970/2000, Loss: 0.0013\n",
      "Test Accuracy at Epoch 1970: 65.53%\n",
      "Test F1-score at Epoch 1970: 0.6828\n",
      "Classification Report at Epoch 1970:\n",
      "                  precision    recall  f1-score   support\n",
      "\n",
      "    infringement       0.71      0.56      0.62       194\n",
      "non_infringement       0.62      0.76      0.68       186\n",
      "\n",
      "        accuracy                           0.66       380\n",
      "       macro avg       0.66      0.66      0.65       380\n",
      "    weighted avg       0.66      0.66      0.65       380\n",
      "\n"
     ]
    },
    {
     "name": "stderr",
     "output_type": "stream",
     "text": [
      "Training Epochs:  99%|█████████▉| 1983/2000 [01:36<00:00, 19.73it/s]"
     ]
    },
    {
     "name": "stdout",
     "output_type": "stream",
     "text": [
      "Epoch 1980/2000, Loss: 0.0013\n",
      "Test Accuracy at Epoch 1980: 65.53%\n",
      "Test F1-score at Epoch 1980: 0.6828\n",
      "Classification Report at Epoch 1980:\n",
      "                  precision    recall  f1-score   support\n",
      "\n",
      "    infringement       0.71      0.56      0.62       194\n",
      "non_infringement       0.62      0.76      0.68       186\n",
      "\n",
      "        accuracy                           0.66       380\n",
      "       macro avg       0.66      0.66      0.65       380\n",
      "    weighted avg       0.66      0.66      0.65       380\n",
      "\n"
     ]
    },
    {
     "name": "stderr",
     "output_type": "stream",
     "text": [
      "Training Epochs: 100%|█████████▉| 1992/2000 [01:37<00:00, 20.42it/s]"
     ]
    },
    {
     "name": "stdout",
     "output_type": "stream",
     "text": [
      "Epoch 1990/2000, Loss: 0.0013\n",
      "Test Accuracy at Epoch 1990: 65.53%\n",
      "Test F1-score at Epoch 1990: 0.6828\n",
      "Classification Report at Epoch 1990:\n",
      "                  precision    recall  f1-score   support\n",
      "\n",
      "    infringement       0.71      0.56      0.62       194\n",
      "non_infringement       0.62      0.76      0.68       186\n",
      "\n",
      "        accuracy                           0.66       380\n",
      "       macro avg       0.66      0.66      0.65       380\n",
      "    weighted avg       0.66      0.66      0.65       380\n",
      "\n"
     ]
    },
    {
     "name": "stderr",
     "output_type": "stream",
     "text": [
      "Training Epochs: 100%|██████████| 2000/2000 [01:37<00:00, 20.52it/s]\n",
      "/tmp/ipykernel_1146783/2033666368.py:59: FutureWarning: You are using `torch.load` with `weights_only=False` (the current default value), which uses the default pickle module implicitly. It is possible to construct malicious pickle data which will execute arbitrary code during unpickling (See https://github.com/pytorch/pytorch/blob/main/SECURITY.md#untrusted-models for more details). In a future release, the default value for `weights_only` will be flipped to `True`. This limits the functions that could be executed during unpickling. Arbitrary objects will no longer be allowed to be loaded via this mode unless they are explicitly allowlisted by the user via `torch.serialization.add_safe_globals`. We recommend you start setting `weights_only=True` for any use case where you don't have full control of the loaded file. Please open an issue on GitHub for any issues related to this experimental feature.\n",
      "  custom_mlp.load_state_dict(torch.load(checkpoint_path))\n"
     ]
    },
    {
     "name": "stdout",
     "output_type": "stream",
     "text": [
      "Epoch 2000/2000, Loss: 0.0013\n",
      "Test Accuracy at Epoch 2000: 65.53%\n",
      "Test F1-score at Epoch 2000: 0.6828\n",
      "Classification Report at Epoch 2000:\n",
      "                  precision    recall  f1-score   support\n",
      "\n",
      "    infringement       0.71      0.56      0.62       194\n",
      "non_infringement       0.62      0.76      0.68       186\n",
      "\n",
      "        accuracy                           0.66       380\n",
      "       macro avg       0.66      0.66      0.65       380\n",
      "    weighted avg       0.66      0.66      0.65       380\n",
      "\n"
     ]
    },
    {
     "data": {
      "image/png": "[encoded data removed]",
      "text/plain": [
       "<Figure size 1000x500 with 1 Axes>"
      ]
     },
     "metadata": {},
     "output_type": "display_data"
    },
    {
     "name": "stdout",
     "output_type": "stream",
     "text": [
      "Final Model Accuracy: 67.63%\n",
      "Final Model F1-score: 0.7007\n"
     ]
    }
   ],
   "source": [
    "input_dim = X_train.shape[1]\n",
    "hidden_dim = 256 \n",
    "print(f\"Training MLP model with input_dim={input_dim} and hidden_dim={hidden_dim}\")\n",
    "\n",
    "custom_mlp, losses, best_accuracy, best_f1 = train_model(X_train, y_train, X_test, y_test, input_dim, hidden_dim)"
   ]
  },
  {
   "cell_type": "code",
   "execution_count": null,
   "metadata": {},
   "outputs": [
    {
     "name": "stdout",
     "output_type": "stream",
     "text": [
      "Checkpoint saved to '/home/guangwei/LLM-COPYRIGHT/copyright_newVersion/models/train_input_reference_0_layer.pth'.\n"
     ]
    }
   ],
   "source": [
    "def save_checkpoint(model, optimizer, epoch, loss, filepath):\n",
    "    checkpoint = {\n",
    "        'epoch': epoch + 1,\n",
    "        'model_state_dict': model.state_dict(),\n",
    "        'optimizer_state_dict': optimizer.state_dict(),\n",
    "        'loss': loss\n",
    "    }\n",
    "    torch.save(checkpoint, filepath)\n",
    "    print(f\"Checkpoint saved to '{filepath}'.\")\n",
    "\n",
    "save_checkpoint(custom_mlp, torch.optim.Adam(custom_mlp.parameters()), len(losses), losses[-1], checkpoint_file)"
   ]
  },
  {
   "cell_type": "code",
   "execution_count": null,
   "metadata": {},
   "outputs": [
    {
     "name": "stdout",
     "output_type": "stream",
     "text": [
      "                  precision    recall  f1-score   support\n",
      "\n",
      "    infringement       0.73      0.58      0.65       194\n",
      "non_infringement       0.64      0.77      0.70       186\n",
      "\n",
      "        accuracy                           0.68       380\n",
      "       macro avg       0.68      0.68      0.67       380\n",
      "    weighted avg       0.69      0.68      0.67       380\n",
      "\n"
     ]
    },
    {
     "name": "stderr",
     "output_type": "stream",
     "text": [
      "/tmp/ipykernel_1146783/2137335780.py:1: UserWarning: To copy construct from a tensor, it is recommended to use sourceTensor.clone().detach() or sourceTensor.clone().detach().requires_grad_(True), rather than torch.tensor(sourceTensor).\n",
      "  y_pred_final = (torch.sigmoid(torch.tensor(custom_mlp(torch.tensor(X_test, dtype=torch.float32)))) > 0.5).float().numpy()\n"
     ]
    }
   ],
   "source": [
    "y_pred_final = (torch.sigmoid(torch.tensor(custom_mlp(torch.tensor(X_test, dtype=torch.float32)))) > 0.5).float().numpy()\n",
    "print(classification_report(y_test, y_pred_final, target_names=[\"infringement\", \"non_infringement\"]))"
   ]
  },
  {
   "cell_type": "code",
   "execution_count": null,
   "metadata": {},
   "outputs": [
    {
     "name": "stdout",
     "output_type": "stream",
     "text": [
      "10.188465577775034\n",
      "0.03396155192591678\n",
      "9.454746601512893\n",
      "0.03151582200504298\n"
     ]
    }
   ],
   "source": [
    "print(totaltime_non_infringement)\n",
    "print(tpot_non_infringement)\n",
    "\n",
    "print(totaltime_infringement)\n",
    "print(tpot_infringement)"
   ]
  }
 ],
 "metadata": {
  "kernelspec": {
   "display_name": "zdh",
   "language": "python",
   "name": "python3"
  },
  "language_info": {
   "codemirror_mode": {
    "name": "ipython",
    "version": 3
   },
   "file_extension": ".py",
   "mimetype": "text/x-python",
   "name": "python",
   "nbconvert_exporter": "python",
   "pygments_lexer": "ipython3",
   "version": "3.12.3"
  }
 },
 "nbformat": 4,
 "nbformat_minor": 2
}
