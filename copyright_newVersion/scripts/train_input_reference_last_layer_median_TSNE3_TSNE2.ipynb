{
 "cells": [
  {
   "cell_type": "code",
   "execution_count": 1,
   "metadata": {},
   "outputs": [
    {
     "name": "stderr",
     "output_type": "stream",
     "text": [
      "/home/guangwei/anaconda3/envs/sit/lib/python3.8/site-packages/tqdm/auto.py:21: TqdmWarning: IProgress not found. Please update jupyter and ipywidgets. See https://ipywidgets.readthedocs.io/en/stable/user_install.html\n",
      "  from .autonotebook import tqdm as notebook_tqdm\n"
     ]
    }
   ],
   "source": [
    "# import packages & variables\n",
    "import argparse\n",
    "import torch\n",
    "import torch.nn as nn\n",
    "import numpy as np\n",
    "from sklearn.metrics import accuracy_score, classification_report\n",
    "import matplotlib.pyplot as plt\n",
    "from tqdm import tqdm\n",
    "from transformers import AutoTokenizer, AutoModelForCausalLM, AutoModel, AutoModelForSequenceClassification\n",
    "import json\n",
    "\n",
    "# Parameters\n",
    "model_name = 'meta-llama/Meta-Llama-3.1-8B'\n",
    "non_infringement_file = '/home/guangwei/LLM-COPYRIGHT/copyright_newVersion/test_division/extra.non_infringement.json'\n",
    "infringement_file = '/home/guangwei/LLM-COPYRIGHT/copyright_newVersion/test_division/extra.infringement.json'\n",
    "checkpoint_file = '/home/guangwei/LLM-COPYRIGHT/copyright_newVersion/models/train_input_reference_last_layer_TSNE3_TSNE2.pth'\n"
   ]
  },
  {
   "cell_type": "code",
   "execution_count": 2,
   "metadata": {},
   "outputs": [],
   "source": [
    "# Define CustumMLP for internal states train\n",
    "class CustomMLP(nn.Module):\n",
    "    def __init__(self, input_dim, hidden_dim):\n",
    "        super(CustomMLP, self).__init__()\n",
    "        self.down = nn.Linear(input_dim, hidden_dim)\n",
    "        self.gate = nn.Linear(input_dim, hidden_dim)\n",
    "        self.up = nn.Linear(hidden_dim, 1)\n",
    "        self.activation = nn.SiLU()\n",
    "\n",
    "    def forward(self, x):\n",
    "        down_output = self.down(x)\n",
    "        gate_output = self.gate(x)\n",
    "        gated_output = down_output * self.activation(gate_output)\n",
    "        return self.up(gated_output)"
   ]
  },
  {
   "cell_type": "code",
   "execution_count": 3,
   "metadata": {},
   "outputs": [],
   "source": [
    "# Extract hidden states(TSNE2)/reference embeddings\n",
    "from sklearn.manifold import TSNE\n",
    "# 处理 hidden states 的函数\n",
    "def extract_hidden_states(texts, model, tokenizer, apply_tsne=True, n_components=3, batch_size=128):\n",
    "    hidden_states = []\n",
    "    for i in tqdm(range(0, len(texts), batch_size), desc=\"Processing data batches\"):\n",
    "        batch_texts = texts[i:i + batch_size]\n",
    "        inputs = tokenizer(batch_texts, return_tensors=\"pt\", padding=True, truncation=True)\n",
    "        with torch.no_grad():\n",
    "            outputs = model(**inputs)\n",
    "        hidden_state = outputs.hidden_states[-1].mean(dim=1).cpu().numpy()  # 提取最后一层的 hidden states\n",
    "        hidden_states.append(hidden_state)\n",
    "\n",
    "    hidden_states = np.vstack(hidden_states)\n",
    "    \n",
    "    # 应用 t-SNE\n",
    "    if apply_tsne:\n",
    "        tsne = TSNE(n_components=n_components, random_state=42)\n",
    "        hidden_states = tsne.fit_transform(hidden_states)\n",
    "        print(f\"Hidden states reduced to {n_components} dimensions using t-SNE.\")\n",
    "        \n",
    "    return hidden_states\n",
    "\n",
    "# 处理 reference embeddings 的函数\n",
    "def extract_reference_embeddings(references, model, tokenizer, apply_tsne=True, n_components=2, batch_size=128):\n",
    "    embeddings = []\n",
    "    for i in tqdm(range(0, len(references), batch_size), desc=\"Processing references\"):\n",
    "        batch_references = references[i:i + batch_size]\n",
    "        inputs = tokenizer(batch_references, return_tensors=\"pt\", padding=True, truncation=True)\n",
    "        with torch.no_grad():\n",
    "            outputs = model(**inputs)\n",
    "        embeddings.append(outputs.pooler_output.cpu().numpy())  # 提取池化后的输出\n",
    "\n",
    "    embeddings = np.vstack(embeddings)\n",
    "    \n",
    "    # 应用 t-SNE\n",
    "    if apply_tsne:\n",
    "        tsne = TSNE(n_components=n_components, random_state=42)\n",
    "        embeddings = tsne.fit_transform(embeddings)\n",
    "        print(f\"Reference embeddings reduced to {n_components} dimensions using t-SNE.\")\n",
    "    \n",
    "    return embeddings"
   ]
  },
  {
   "cell_type": "code",
   "execution_count": 4,
   "metadata": {},
   "outputs": [],
   "source": [
    "# load data for infringement & non infringement\n",
    "def load_data(non_infringement_file, infringement_file):\n",
    "    with open(non_infringement_file, 'r', encoding='utf-8') as file:\n",
    "        non_infringement_json_data = json.load(file)\n",
    "\n",
    "    non_infringement_outputs = [entry['input'] for entry in non_infringement_json_data]\n",
    "    non_infringement_references = [entry['reference'] for entry in non_infringement_json_data]\n",
    "    y_non_infringement = [1] * len(non_infringement_outputs)\n",
    "\n",
    "    with open(infringement_file, 'r', encoding='utf-8') as file:\n",
    "        infringement_json_data = json.load(file)\n",
    "\n",
    "    infringement_outputs = [entry['input'] for entry in infringement_json_data]\n",
    "    infringement_references = [entry['reference'] for entry in infringement_json_data]\n",
    "    y_infringement = [0] * len(infringement_outputs)\n",
    "\n",
    "    return non_infringement_outputs, non_infringement_references, y_non_infringement, infringement_outputs, infringement_references, y_infringement"
   ]
  },
  {
   "cell_type": "code",
   "execution_count": 5,
   "metadata": {},
   "outputs": [],
   "source": [
    "# Train for best model\n",
    "def train_model(X_train, y_train, X_test, y_test, input_dim, hidden_dim, epochs=500, lr=0.001, checkpoint_path=checkpoint_file):\n",
    "    custom_mlp = CustomMLP(input_dim, hidden_dim)\n",
    "    criterion = nn.BCEWithLogitsLoss()\n",
    "    optimizer = torch.optim.Adam(custom_mlp.parameters(), lr=lr)\n",
    "\n",
    "    X_train_tensor = torch.tensor(X_train, dtype=torch.float32)\n",
    "    y_train_tensor = torch.tensor(y_train, dtype=torch.float32).unsqueeze(1)\n",
    "\n",
    "    best_accuracy = -float('inf')\n",
    "    best_model_state = None\n",
    "    best_epoch = 0\n",
    "    losses = []\n",
    "\n",
    "    for epoch in tqdm(range(epochs), desc=\"Training Epochs\"):\n",
    "        custom_mlp.train()\n",
    "        optimizer.zero_grad()\n",
    "        outputs = custom_mlp(X_train_tensor)\n",
    "        loss = criterion(outputs, y_train_tensor)\n",
    "        loss.backward()\n",
    "        optimizer.step()\n",
    "        losses.append(loss.item())\n",
    "\n",
    "        if (epoch + 1) % 10 == 0:\n",
    "            print(f\"Epoch {epoch + 1}/{epochs}, Loss: {loss.item():.4f}\")\n",
    "            \n",
    "            custom_mlp.eval()\n",
    "            X_test_tensor = torch.tensor(X_test, dtype=torch.float32)\n",
    "            with torch.no_grad():\n",
    "                y_pred_logits = custom_mlp(X_test_tensor)\n",
    "                y_pred = (torch.sigmoid(y_pred_logits) > 0.5).float().numpy()\n",
    "            \n",
    "            accuracy = accuracy_score(y_test, y_pred)\n",
    "            print(f\"Test Accuracy at Epoch {epoch + 1}: {accuracy * 100:.2f}%\")\n",
    "            \n",
    "            report = classification_report(y_test, y_pred, target_names=[\"infringement\", \"non_infringement\"])\n",
    "            print(f\"Classification Report at Epoch {epoch + 1}:\\n{report}\")\n",
    "\n",
    "            if accuracy > best_accuracy:\n",
    "                best_accuracy = accuracy\n",
    "                best_model_state = custom_mlp.state_dict()\n",
    "                best_epoch = epoch + 1\n",
    "                torch.save(best_model_state, checkpoint_path)\n",
    "                print(f\"New best model saved with accuracy {best_accuracy * 100:.2f}% at epoch {best_epoch}\")\n",
    "                print(f\"Best Classification Report at Epoch {best_epoch}:\\n{report}\")\n",
    "\n",
    "    custom_mlp.load_state_dict(torch.load(checkpoint_path))\n",
    "\n",
    "    plt.figure(figsize=(10, 5))\n",
    "    plt.plot(losses, label='Training Loss')\n",
    "    plt.xlabel('Epoch')\n",
    "    plt.ylabel('Loss')\n",
    "    plt.title('Training Loss Curve')\n",
    "    plt.legend()\n",
    "    plt.show()\n",
    "\n",
    "    print(f\"Final Model Accuracy: {best_accuracy * 100:.2f}%\")\n",
    "    \n",
    "    return custom_mlp, losses, best_accuracy"
   ]
  },
  {
   "cell_type": "code",
   "execution_count": 6,
   "metadata": {},
   "outputs": [
    {
     "name": "stderr",
     "output_type": "stream",
     "text": [
      "/home/guangwei/anaconda3/envs/sit/lib/python3.8/site-packages/transformers/generation/configuration_utils.py:777: UserWarning: `return_dict_in_generate` is NOT set to `True`, but `output_hidden_states` is. When `return_dict_in_generate` is not `True`, `output_hidden_states` is ignored.\n",
      "  warnings.warn(\n",
      "Loading checkpoint shards: 100%|██████████| 4/4 [00:09<00:00,  2.44s/it]\n",
      "/home/guangwei/anaconda3/envs/sit/lib/python3.8/site-packages/transformers/tokenization_utils_base.py:1617: FutureWarning: `clean_up_tokenization_spaces` was not set. It will be set to `True` by default. This behavior will be deprecated in transformers v4.45, and will be then set to `False` by default. For more details check this issue: https://github.com/huggingface/transformers/issues/31884\n",
      "  warnings.warn(\n"
     ]
    }
   ],
   "source": [
    "tokenizer = AutoTokenizer.from_pretrained(model_name, model_max_length=512)\n",
    "model = AutoModelForCausalLM.from_pretrained(model_name, output_hidden_states=True)\n",
    "tokenizer.pad_token = tokenizer.eos_token\n",
    "bert_tokenizer = AutoTokenizer.from_pretrained('google-bert/bert-base-uncased')\n",
    "bert_model = AutoModel.from_pretrained('google-bert/bert-base-uncased')\n",
    "bert_tokenizer.pad_token = tokenizer.eos_token\n",
    "\n",
    "non_infringement_outputs, non_infringement_references, y_non_infringement, infringement_outputs, infringement_references, y_infringement = load_data(\n",
    "    non_infringement_file, infringement_file\n",
    ")\n",
    "\n",
    "y_non_infringement = np.array(y_non_infringement)\n",
    "y_infringement = np.array(y_infringement)\n"
   ]
  },
  {
   "cell_type": "code",
   "execution_count": 7,
   "metadata": {},
   "outputs": [
    {
     "name": "stdout",
     "output_type": "stream",
     "text": [
      "Extracting hidden states for non_infringement texts...\n"
     ]
    },
    {
     "name": "stderr",
     "output_type": "stream",
     "text": [
      "Processing data batches:   0%|          | 0/12 [00:00<?, ?it/s]Starting from v4.46, the `logits` model output will have the same type as the model (except at train time, where it will always be FP32)\n",
      "Processing data batches: 100%|██████████| 12/12 [40:16<00:00, 201.39s/it] \n",
      "huggingface/tokenizers: The current process just got forked, after parallelism has already been used. Disabling parallelism to avoid deadlocks...\n",
      "To disable this warning, you can either:\n",
      "\t- Avoid using `tokenizers` before the fork if possible\n",
      "\t- Explicitly set the environment variable TOKENIZERS_PARALLELISM=(true | false)\n",
      "huggingface/tokenizers: The current process just got forked, after parallelism has already been used. Disabling parallelism to avoid deadlocks...\n",
      "To disable this warning, you can either:\n",
      "\t- Avoid using `tokenizers` before the fork if possible\n",
      "\t- Explicitly set the environment variable TOKENIZERS_PARALLELISM=(true | false)\n"
     ]
    },
    {
     "name": "stdout",
     "output_type": "stream",
     "text": [
      "Hidden states reduced to 3 dimensions using t-SNE.\n",
      "Extracting reference embeddings for non_infringement texts...\n"
     ]
    },
    {
     "name": "stderr",
     "output_type": "stream",
     "text": [
      "Processing references: 100%|██████████| 12/12 [02:02<00:00, 10.17s/it]\n"
     ]
    },
    {
     "name": "stdout",
     "output_type": "stream",
     "text": [
      "Reference embeddings reduced to 2 dimensions using t-SNE.\n",
      "Extracting hidden states for infringement texts...\n"
     ]
    },
    {
     "name": "stderr",
     "output_type": "stream",
     "text": [
      "Processing data batches: 100%|██████████| 12/12 [36:33<00:00, 182.83s/it] \n"
     ]
    },
    {
     "name": "stdout",
     "output_type": "stream",
     "text": [
      "Hidden states reduced to 3 dimensions using t-SNE.\n",
      "Extracting reference embeddings for infringement texts...\n"
     ]
    },
    {
     "name": "stderr",
     "output_type": "stream",
     "text": [
      "Processing references: 100%|██████████| 12/12 [01:34<00:00,  7.90s/it]\n"
     ]
    },
    {
     "name": "stdout",
     "output_type": "stream",
     "text": [
      "Reference embeddings reduced to 2 dimensions using t-SNE.\n"
     ]
    }
   ],
   "source": [
    "print(\"Extracting hidden states for non_infringement texts...\")\n",
    "X_non_infringement = extract_hidden_states(non_infringement_outputs, model, tokenizer)\n",
    "print(\"Extracting reference embeddings for non_infringement texts...\")\n",
    "reference_embeddings_non_infringement = extract_reference_embeddings(non_infringement_references, bert_model, bert_tokenizer)\n",
    "X_non_infringement_combined = np.hstack([X_non_infringement, reference_embeddings_non_infringement])\n",
    "\n",
    "print(\"Extracting hidden states for infringement texts...\")\n",
    "X_infringement = extract_hidden_states(infringement_outputs, model, tokenizer)\n",
    "print(\"Extracting reference embeddings for infringement texts...\")\n",
    "reference_embeddings_infringement = extract_reference_embeddings(infringement_references, bert_model, bert_tokenizer)\n",
    "X_infringement_combined = np.hstack([X_infringement, reference_embeddings_infringement])"
   ]
  },
  {
   "cell_type": "code",
   "execution_count": 8,
   "metadata": {},
   "outputs": [
    {
     "name": "stdout",
     "output_type": "stream",
     "text": [
      "Data successfully split into training and test sets.\n"
     ]
    }
   ],
   "source": [
    "split_index_non_infringement = int(0.8 * len(X_non_infringement_combined))\n",
    "X_non_infringement_train = X_non_infringement_combined[:split_index_non_infringement]\n",
    "X_non_infringement_test = X_non_infringement_combined[split_index_non_infringement:]\n",
    "y_non_infringement_train = y_non_infringement[:split_index_non_infringement]\n",
    "y_non_infringement_test = y_non_infringement[split_index_non_infringement:]\n",
    "\n",
    "split_index_infringement = int(0.8 * len(X_infringement_combined))\n",
    "X_infringement_train = X_infringement_combined[:split_index_infringement]\n",
    "X_infringement_test = X_infringement_combined[split_index_infringement:]\n",
    "y_infringement_train = y_infringement[:split_index_infringement]\n",
    "y_infringement_test = y_infringement[split_index_infringement:]\n",
    "\n",
    "X_train = np.vstack((X_non_infringement_train, X_infringement_train))\n",
    "X_test = np.vstack((X_non_infringement_test, X_infringement_test))\n",
    "y_train = np.concatenate((y_non_infringement_train, y_infringement_train))\n",
    "y_test = np.concatenate((y_non_infringement_test, y_infringement_test))\n",
    "\n",
    "print(\"Data successfully split into training and test sets.\")"
   ]
  },
  {
   "cell_type": "code",
   "execution_count": 9,
   "metadata": {},
   "outputs": [
    {
     "name": "stdout",
     "output_type": "stream",
     "text": [
      "Training MLP model with input_dim=5 and hidden_dim=256\n"
     ]
    },
    {
     "name": "stderr",
     "output_type": "stream",
     "text": [
      "Training Epochs:   0%|          | 0/500 [00:00<?, ?it/s]/home/guangwei/anaconda3/envs/sit/lib/python3.8/site-packages/torch/autograd/graph.py:768: UserWarning: CUDA initialization: The NVIDIA driver on your system is too old (found version 11040). Please update your GPU driver by downloading and installing a new version from the URL: http://www.nvidia.com/Download/index.aspx Alternatively, go to: https://pytorch.org to install a PyTorch version that has been compiled with your version of the CUDA driver. (Triggered internally at ../c10/cuda/CUDAFunctions.cpp:108.)\n",
      "  return Variable._execution_engine.run_backward(  # Calls into the C++ engine to run the backward pass\n",
      "Training Epochs:   2%|▏         | 9/500 [00:02<02:17,  3.57it/s]"
     ]
    },
    {
     "name": "stdout",
     "output_type": "stream",
     "text": [
      "Epoch 10/500, Loss: 15.6466\n"
     ]
    },
    {
     "name": "stderr",
     "output_type": "stream",
     "text": [
      "Training Epochs:   2%|▏         | 10/500 [00:03<03:09,  2.58it/s]"
     ]
    },
    {
     "name": "stdout",
     "output_type": "stream",
     "text": [
      "Test Accuracy at Epoch 10: 52.50%\n",
      "Classification Report at Epoch 10:\n",
      "                  precision    recall  f1-score   support\n",
      "\n",
      "    infringement       0.51      0.46      0.49       283\n",
      "non_infringement       0.53      0.59      0.56       298\n",
      "\n",
      "        accuracy                           0.52       581\n",
      "       macro avg       0.52      0.52      0.52       581\n",
      "    weighted avg       0.52      0.52      0.52       581\n",
      "\n",
      "New best model saved with accuracy 52.50% at epoch 10\n",
      "Best Classification Report at Epoch 10:\n",
      "                  precision    recall  f1-score   support\n",
      "\n",
      "    infringement       0.51      0.46      0.49       283\n",
      "non_infringement       0.53      0.59      0.56       298\n",
      "\n",
      "        accuracy                           0.52       581\n",
      "       macro avg       0.52      0.52      0.52       581\n",
      "    weighted avg       0.52      0.52      0.52       581\n",
      "\n"
     ]
    },
    {
     "name": "stderr",
     "output_type": "stream",
     "text": [
      "Training Epochs:   4%|▍         | 20/500 [00:06<02:52,  2.79it/s]"
     ]
    },
    {
     "name": "stdout",
     "output_type": "stream",
     "text": [
      "Epoch 20/500, Loss: 10.1840\n",
      "Test Accuracy at Epoch 20: 46.47%\n",
      "Classification Report at Epoch 20:\n",
      "                  precision    recall  f1-score   support\n",
      "\n",
      "    infringement       0.45      0.43      0.44       283\n",
      "non_infringement       0.48      0.50      0.49       298\n",
      "\n",
      "        accuracy                           0.46       581\n",
      "       macro avg       0.46      0.46      0.46       581\n",
      "    weighted avg       0.46      0.46      0.46       581\n",
      "\n"
     ]
    },
    {
     "name": "stderr",
     "output_type": "stream",
     "text": [
      "Training Epochs:   6%|▌         | 30/500 [00:09<02:26,  3.20it/s]"
     ]
    },
    {
     "name": "stdout",
     "output_type": "stream",
     "text": [
      "Epoch 30/500, Loss: 6.2934\n",
      "Test Accuracy at Epoch 30: 45.96%\n",
      "Classification Report at Epoch 30:\n",
      "                  precision    recall  f1-score   support\n",
      "\n",
      "    infringement       0.45      0.47      0.46       283\n",
      "non_infringement       0.47      0.45      0.46       298\n",
      "\n",
      "        accuracy                           0.46       581\n",
      "       macro avg       0.46      0.46      0.46       581\n",
      "    weighted avg       0.46      0.46      0.46       581\n",
      "\n"
     ]
    },
    {
     "name": "stderr",
     "output_type": "stream",
     "text": [
      "Training Epochs:   8%|▊         | 40/500 [00:13<03:16,  2.34it/s]"
     ]
    },
    {
     "name": "stdout",
     "output_type": "stream",
     "text": [
      "Epoch 40/500, Loss: 4.5519\n",
      "Test Accuracy at Epoch 40: 44.41%\n",
      "Classification Report at Epoch 40:\n",
      "                  precision    recall  f1-score   support\n",
      "\n",
      "    infringement       0.43      0.45      0.44       283\n",
      "non_infringement       0.46      0.44      0.45       298\n",
      "\n",
      "        accuracy                           0.44       581\n",
      "       macro avg       0.44      0.44      0.44       581\n",
      "    weighted avg       0.44      0.44      0.44       581\n",
      "\n"
     ]
    },
    {
     "name": "stderr",
     "output_type": "stream",
     "text": [
      "Training Epochs:  10%|█         | 51/500 [00:15<00:54,  8.27it/s]"
     ]
    },
    {
     "name": "stdout",
     "output_type": "stream",
     "text": [
      "Epoch 50/500, Loss: 3.0979\n",
      "Test Accuracy at Epoch 50: 42.17%\n",
      "Classification Report at Epoch 50:\n",
      "                  precision    recall  f1-score   support\n",
      "\n",
      "    infringement       0.40      0.35      0.37       283\n",
      "non_infringement       0.44      0.49      0.46       298\n",
      "\n",
      "        accuracy                           0.42       581\n",
      "       macro avg       0.42      0.42      0.42       581\n",
      "    weighted avg       0.42      0.42      0.42       581\n",
      "\n"
     ]
    },
    {
     "name": "stderr",
     "output_type": "stream",
     "text": [
      "Training Epochs:  12%|█▏        | 60/500 [00:18<02:19,  3.15it/s]"
     ]
    },
    {
     "name": "stdout",
     "output_type": "stream",
     "text": [
      "Epoch 60/500, Loss: 2.2979\n",
      "Test Accuracy at Epoch 60: 45.27%\n",
      "Classification Report at Epoch 60:\n",
      "                  precision    recall  f1-score   support\n",
      "\n",
      "    infringement       0.44      0.42      0.43       283\n",
      "non_infringement       0.47      0.48      0.48       298\n",
      "\n",
      "        accuracy                           0.45       581\n",
      "       macro avg       0.45      0.45      0.45       581\n",
      "    weighted avg       0.45      0.45      0.45       581\n",
      "\n"
     ]
    },
    {
     "name": "stderr",
     "output_type": "stream",
     "text": [
      "Training Epochs:  14%|█▍        | 70/500 [00:20<01:16,  5.61it/s]"
     ]
    },
    {
     "name": "stdout",
     "output_type": "stream",
     "text": [
      "Epoch 70/500, Loss: 1.8376\n",
      "Test Accuracy at Epoch 70: 48.19%\n",
      "Classification Report at Epoch 70:\n",
      "                  precision    recall  f1-score   support\n",
      "\n",
      "    infringement       0.47      0.48      0.48       283\n",
      "non_infringement       0.49      0.48      0.49       298\n",
      "\n",
      "        accuracy                           0.48       581\n",
      "       macro avg       0.48      0.48      0.48       581\n",
      "    weighted avg       0.48      0.48      0.48       581\n",
      "\n"
     ]
    },
    {
     "name": "stderr",
     "output_type": "stream",
     "text": [
      "Training Epochs:  16%|█▌        | 80/500 [00:21<00:27, 15.51it/s]"
     ]
    },
    {
     "name": "stdout",
     "output_type": "stream",
     "text": [
      "Epoch 80/500, Loss: 1.5436\n",
      "Test Accuracy at Epoch 80: 51.81%\n",
      "Classification Report at Epoch 80:\n",
      "                  precision    recall  f1-score   support\n",
      "\n",
      "    infringement       0.51      0.50      0.50       283\n",
      "non_infringement       0.53      0.53      0.53       298\n",
      "\n",
      "        accuracy                           0.52       581\n",
      "       macro avg       0.52      0.52      0.52       581\n",
      "    weighted avg       0.52      0.52      0.52       581\n",
      "\n"
     ]
    },
    {
     "name": "stderr",
     "output_type": "stream",
     "text": [
      "Training Epochs:  18%|█▊        | 90/500 [00:21<00:21, 18.75it/s]"
     ]
    },
    {
     "name": "stdout",
     "output_type": "stream",
     "text": [
      "Epoch 90/500, Loss: 1.3108\n",
      "Test Accuracy at Epoch 90: 50.95%\n",
      "Classification Report at Epoch 90:\n",
      "                  precision    recall  f1-score   support\n",
      "\n",
      "    infringement       0.50      0.49      0.50       283\n",
      "non_infringement       0.52      0.52      0.52       298\n",
      "\n",
      "        accuracy                           0.51       581\n",
      "       macro avg       0.51      0.51      0.51       581\n",
      "    weighted avg       0.51      0.51      0.51       581\n",
      "\n"
     ]
    },
    {
     "name": "stderr",
     "output_type": "stream",
     "text": [
      "Training Epochs:  20%|██        | 100/500 [00:23<01:25,  4.67it/s]"
     ]
    },
    {
     "name": "stdout",
     "output_type": "stream",
     "text": [
      "Epoch 100/500, Loss: 1.1449\n",
      "Test Accuracy at Epoch 100: 50.95%\n",
      "Classification Report at Epoch 100:\n",
      "                  precision    recall  f1-score   support\n",
      "\n",
      "    infringement       0.50      0.49      0.49       283\n",
      "non_infringement       0.52      0.53      0.52       298\n",
      "\n",
      "        accuracy                           0.51       581\n",
      "       macro avg       0.51      0.51      0.51       581\n",
      "    weighted avg       0.51      0.51      0.51       581\n",
      "\n"
     ]
    },
    {
     "name": "stderr",
     "output_type": "stream",
     "text": [
      "Training Epochs:  22%|██▏       | 110/500 [00:27<02:23,  2.71it/s]"
     ]
    },
    {
     "name": "stdout",
     "output_type": "stream",
     "text": [
      "Epoch 110/500, Loss: 1.0067\n",
      "Test Accuracy at Epoch 110: 51.98%\n",
      "Classification Report at Epoch 110:\n",
      "                  precision    recall  f1-score   support\n",
      "\n",
      "    infringement       0.51      0.50      0.50       283\n",
      "non_infringement       0.53      0.54      0.54       298\n",
      "\n",
      "        accuracy                           0.52       581\n",
      "       macro avg       0.52      0.52      0.52       581\n",
      "    weighted avg       0.52      0.52      0.52       581\n",
      "\n"
     ]
    },
    {
     "name": "stderr",
     "output_type": "stream",
     "text": [
      "Training Epochs:  24%|██▍       | 121/500 [00:30<01:16,  4.94it/s]"
     ]
    },
    {
     "name": "stdout",
     "output_type": "stream",
     "text": [
      "Epoch 120/500, Loss: 0.8914\n",
      "Test Accuracy at Epoch 120: 52.50%\n",
      "Classification Report at Epoch 120:\n",
      "                  precision    recall  f1-score   support\n",
      "\n",
      "    infringement       0.51      0.50      0.51       283\n",
      "non_infringement       0.54      0.55      0.54       298\n",
      "\n",
      "        accuracy                           0.52       581\n",
      "       macro avg       0.52      0.52      0.52       581\n",
      "    weighted avg       0.52      0.52      0.52       581\n",
      "\n"
     ]
    },
    {
     "name": "stderr",
     "output_type": "stream",
     "text": [
      "Training Epochs:  26%|██▌       | 130/500 [00:33<02:13,  2.76it/s]"
     ]
    },
    {
     "name": "stdout",
     "output_type": "stream",
     "text": [
      "Epoch 130/500, Loss: 0.7931\n",
      "Test Accuracy at Epoch 130: 54.56%\n",
      "Classification Report at Epoch 130:\n",
      "                  precision    recall  f1-score   support\n",
      "\n",
      "    infringement       0.53      0.54      0.54       283\n",
      "non_infringement       0.56      0.55      0.55       298\n",
      "\n",
      "        accuracy                           0.55       581\n",
      "       macro avg       0.55      0.55      0.55       581\n",
      "    weighted avg       0.55      0.55      0.55       581\n",
      "\n",
      "New best model saved with accuracy 54.56% at epoch 130\n",
      "Best Classification Report at Epoch 130:\n",
      "                  precision    recall  f1-score   support\n",
      "\n",
      "    infringement       0.53      0.54      0.54       283\n",
      "non_infringement       0.56      0.55      0.55       298\n",
      "\n",
      "        accuracy                           0.55       581\n",
      "       macro avg       0.55      0.55      0.55       581\n",
      "    weighted avg       0.55      0.55      0.55       581\n",
      "\n"
     ]
    },
    {
     "name": "stderr",
     "output_type": "stream",
     "text": [
      "Training Epochs:  28%|██▊       | 140/500 [00:37<02:23,  2.51it/s]"
     ]
    },
    {
     "name": "stdout",
     "output_type": "stream",
     "text": [
      "Epoch 140/500, Loss: 0.7101\n",
      "Test Accuracy at Epoch 140: 53.70%\n",
      "Classification Report at Epoch 140:\n",
      "                  precision    recall  f1-score   support\n",
      "\n",
      "    infringement       0.52      0.53      0.53       283\n",
      "non_infringement       0.55      0.54      0.54       298\n",
      "\n",
      "        accuracy                           0.54       581\n",
      "       macro avg       0.54      0.54      0.54       581\n",
      "    weighted avg       0.54      0.54      0.54       581\n",
      "\n"
     ]
    },
    {
     "name": "stderr",
     "output_type": "stream",
     "text": [
      "Training Epochs:  30%|███       | 150/500 [00:40<01:50,  3.16it/s]"
     ]
    },
    {
     "name": "stdout",
     "output_type": "stream",
     "text": [
      "Epoch 150/500, Loss: 0.6400\n",
      "Test Accuracy at Epoch 150: 52.84%\n",
      "Classification Report at Epoch 150:\n",
      "                  precision    recall  f1-score   support\n",
      "\n",
      "    infringement       0.52      0.53      0.52       283\n",
      "non_infringement       0.54      0.52      0.53       298\n",
      "\n",
      "        accuracy                           0.53       581\n",
      "       macro avg       0.53      0.53      0.53       581\n",
      "    weighted avg       0.53      0.53      0.53       581\n",
      "\n"
     ]
    },
    {
     "name": "stderr",
     "output_type": "stream",
     "text": [
      "Training Epochs:  32%|███▏      | 160/500 [00:43<01:52,  3.04it/s]"
     ]
    },
    {
     "name": "stdout",
     "output_type": "stream",
     "text": [
      "Epoch 160/500, Loss: 0.5787\n",
      "Test Accuracy at Epoch 160: 51.64%\n",
      "Classification Report at Epoch 160:\n",
      "                  precision    recall  f1-score   support\n",
      "\n",
      "    infringement       0.50      0.52      0.51       283\n",
      "non_infringement       0.53      0.51      0.52       298\n",
      "\n",
      "        accuracy                           0.52       581\n",
      "       macro avg       0.52      0.52      0.52       581\n",
      "    weighted avg       0.52      0.52      0.52       581\n",
      "\n"
     ]
    },
    {
     "name": "stderr",
     "output_type": "stream",
     "text": [
      "Training Epochs:  34%|███▍      | 170/500 [00:43<00:22, 14.96it/s]"
     ]
    },
    {
     "name": "stdout",
     "output_type": "stream",
     "text": [
      "Epoch 170/500, Loss: 0.5232\n",
      "Test Accuracy at Epoch 170: 50.95%\n",
      "Classification Report at Epoch 170:\n",
      "                  precision    recall  f1-score   support\n",
      "\n",
      "    infringement       0.50      0.51      0.50       283\n",
      "non_infringement       0.52      0.51      0.51       298\n",
      "\n",
      "        accuracy                           0.51       581\n",
      "       macro avg       0.51      0.51      0.51       581\n",
      "    weighted avg       0.51      0.51      0.51       581\n",
      "\n"
     ]
    },
    {
     "name": "stderr",
     "output_type": "stream",
     "text": [
      "Training Epochs:  36%|███▌      | 179/500 [00:44<00:40,  7.90it/s]"
     ]
    },
    {
     "name": "stdout",
     "output_type": "stream",
     "text": [
      "Epoch 180/500, Loss: 0.4724\n",
      "Test Accuracy at Epoch 180: 50.43%\n",
      "Classification Report at Epoch 180:\n",
      "                  precision    recall  f1-score   support\n",
      "\n",
      "    infringement       0.49      0.51      0.50       283\n",
      "non_infringement       0.52      0.50      0.51       298\n",
      "\n",
      "        accuracy                           0.50       581\n",
      "       macro avg       0.50      0.50      0.50       581\n",
      "    weighted avg       0.50      0.50      0.50       581\n",
      "\n"
     ]
    },
    {
     "name": "stderr",
     "output_type": "stream",
     "text": [
      "Training Epochs:  38%|███▊      | 190/500 [00:46<00:45,  6.80it/s]"
     ]
    },
    {
     "name": "stdout",
     "output_type": "stream",
     "text": [
      "Epoch 190/500, Loss: 0.4262\n",
      "Test Accuracy at Epoch 190: 49.23%\n",
      "Classification Report at Epoch 190:\n",
      "                  precision    recall  f1-score   support\n",
      "\n",
      "    infringement       0.48      0.48      0.48       283\n",
      "non_infringement       0.51      0.51      0.51       298\n",
      "\n",
      "        accuracy                           0.49       581\n",
      "       macro avg       0.49      0.49      0.49       581\n",
      "    weighted avg       0.49      0.49      0.49       581\n",
      "\n"
     ]
    },
    {
     "name": "stderr",
     "output_type": "stream",
     "text": [
      "Training Epochs:  40%|████      | 200/500 [00:49<01:24,  3.54it/s]"
     ]
    },
    {
     "name": "stdout",
     "output_type": "stream",
     "text": [
      "Epoch 200/500, Loss: 0.3853\n",
      "Test Accuracy at Epoch 200: 50.26%\n",
      "Classification Report at Epoch 200:\n",
      "                  precision    recall  f1-score   support\n",
      "\n",
      "    infringement       0.49      0.47      0.48       283\n",
      "non_infringement       0.51      0.53      0.52       298\n",
      "\n",
      "        accuracy                           0.50       581\n",
      "       macro avg       0.50      0.50      0.50       581\n",
      "    weighted avg       0.50      0.50      0.50       581\n",
      "\n"
     ]
    },
    {
     "name": "stderr",
     "output_type": "stream",
     "text": [
      "Training Epochs:  42%|████▏     | 211/500 [00:50<00:38,  7.59it/s]"
     ]
    },
    {
     "name": "stdout",
     "output_type": "stream",
     "text": [
      "Epoch 210/500, Loss: 0.3502\n",
      "Test Accuracy at Epoch 210: 50.60%\n",
      "Classification Report at Epoch 210:\n",
      "                  precision    recall  f1-score   support\n",
      "\n",
      "    infringement       0.49      0.47      0.48       283\n",
      "non_infringement       0.52      0.54      0.53       298\n",
      "\n",
      "        accuracy                           0.51       581\n",
      "       macro avg       0.51      0.51      0.51       581\n",
      "    weighted avg       0.51      0.51      0.51       581\n",
      "\n"
     ]
    },
    {
     "name": "stderr",
     "output_type": "stream",
     "text": [
      "Training Epochs:  44%|████▍     | 219/500 [00:50<00:15, 17.81it/s]"
     ]
    },
    {
     "name": "stdout",
     "output_type": "stream",
     "text": [
      "Epoch 220/500, Loss: 0.3205\n",
      "Test Accuracy at Epoch 220: 50.77%\n",
      "Classification Report at Epoch 220:\n",
      "                  precision    recall  f1-score   support\n",
      "\n",
      "    infringement       0.49      0.48      0.49       283\n",
      "non_infringement       0.52      0.54      0.53       298\n",
      "\n",
      "        accuracy                           0.51       581\n",
      "       macro avg       0.51      0.51      0.51       581\n",
      "    weighted avg       0.51      0.51      0.51       581\n",
      "\n"
     ]
    },
    {
     "name": "stderr",
     "output_type": "stream",
     "text": [
      "Training Epochs:  46%|████▋     | 232/500 [00:52<00:19, 13.62it/s]"
     ]
    },
    {
     "name": "stdout",
     "output_type": "stream",
     "text": [
      "Epoch 230/500, Loss: 0.2956\n",
      "Test Accuracy at Epoch 230: 51.64%\n",
      "Classification Report at Epoch 230:\n",
      "                  precision    recall  f1-score   support\n",
      "\n",
      "    infringement       0.50      0.49      0.50       283\n",
      "non_infringement       0.53      0.54      0.53       298\n",
      "\n",
      "        accuracy                           0.52       581\n",
      "       macro avg       0.52      0.52      0.52       581\n",
      "    weighted avg       0.52      0.52      0.52       581\n",
      "\n"
     ]
    },
    {
     "name": "stderr",
     "output_type": "stream",
     "text": [
      "Training Epochs:  48%|████▊     | 240/500 [00:54<01:15,  3.46it/s]"
     ]
    },
    {
     "name": "stdout",
     "output_type": "stream",
     "text": [
      "Epoch 240/500, Loss: 0.2744\n",
      "Test Accuracy at Epoch 240: 51.98%\n",
      "Classification Report at Epoch 240:\n",
      "                  precision    recall  f1-score   support\n",
      "\n",
      "    infringement       0.51      0.50      0.50       283\n",
      "non_infringement       0.53      0.54      0.53       298\n",
      "\n",
      "        accuracy                           0.52       581\n",
      "       macro avg       0.52      0.52      0.52       581\n",
      "    weighted avg       0.52      0.52      0.52       581\n",
      "\n"
     ]
    },
    {
     "name": "stderr",
     "output_type": "stream",
     "text": [
      "Training Epochs:  50%|█████     | 250/500 [00:58<01:15,  3.32it/s]"
     ]
    },
    {
     "name": "stdout",
     "output_type": "stream",
     "text": [
      "Epoch 250/500, Loss: 0.2564\n",
      "Test Accuracy at Epoch 250: 51.98%\n",
      "Classification Report at Epoch 250:\n",
      "                  precision    recall  f1-score   support\n",
      "\n",
      "    infringement       0.51      0.50      0.50       283\n",
      "non_infringement       0.53      0.54      0.53       298\n",
      "\n",
      "        accuracy                           0.52       581\n",
      "       macro avg       0.52      0.52      0.52       581\n",
      "    weighted avg       0.52      0.52      0.52       581\n",
      "\n"
     ]
    },
    {
     "name": "stderr",
     "output_type": "stream",
     "text": [
      "Training Epochs:  52%|█████▏    | 260/500 [01:01<01:19,  3.03it/s]"
     ]
    },
    {
     "name": "stdout",
     "output_type": "stream",
     "text": [
      "Epoch 260/500, Loss: 0.2406\n",
      "Test Accuracy at Epoch 260: 52.50%\n",
      "Classification Report at Epoch 260:\n",
      "                  precision    recall  f1-score   support\n",
      "\n",
      "    infringement       0.51      0.51      0.51       283\n",
      "non_infringement       0.54      0.54      0.54       298\n",
      "\n",
      "        accuracy                           0.52       581\n",
      "       macro avg       0.52      0.52      0.52       581\n",
      "    weighted avg       0.52      0.52      0.52       581\n",
      "\n"
     ]
    },
    {
     "name": "stderr",
     "output_type": "stream",
     "text": [
      "Training Epochs:  55%|█████▍    | 274/500 [01:03<00:17, 12.92it/s]"
     ]
    },
    {
     "name": "stdout",
     "output_type": "stream",
     "text": [
      "Epoch 270/500, Loss: 0.2267\n",
      "Test Accuracy at Epoch 270: 53.53%\n",
      "Classification Report at Epoch 270:\n",
      "                  precision    recall  f1-score   support\n",
      "\n",
      "    infringement       0.52      0.53      0.52       283\n",
      "non_infringement       0.55      0.54      0.55       298\n",
      "\n",
      "        accuracy                           0.54       581\n",
      "       macro avg       0.54      0.54      0.54       581\n",
      "    weighted avg       0.54      0.54      0.54       581\n",
      "\n"
     ]
    },
    {
     "name": "stderr",
     "output_type": "stream",
     "text": [
      "Training Epochs:  57%|█████▋    | 285/500 [01:04<00:09, 22.76it/s]"
     ]
    },
    {
     "name": "stdout",
     "output_type": "stream",
     "text": [
      "Epoch 280/500, Loss: 0.2142\n",
      "Test Accuracy at Epoch 280: 54.73%\n",
      "Classification Report at Epoch 280:\n",
      "                  precision    recall  f1-score   support\n",
      "\n",
      "    infringement       0.54      0.53      0.53       283\n",
      "non_infringement       0.56      0.56      0.56       298\n",
      "\n",
      "        accuracy                           0.55       581\n",
      "       macro avg       0.55      0.55      0.55       581\n",
      "    weighted avg       0.55      0.55      0.55       581\n",
      "\n",
      "New best model saved with accuracy 54.73% at epoch 280\n",
      "Best Classification Report at Epoch 280:\n",
      "                  precision    recall  f1-score   support\n",
      "\n",
      "    infringement       0.54      0.53      0.53       283\n",
      "non_infringement       0.56      0.56      0.56       298\n",
      "\n",
      "        accuracy                           0.55       581\n",
      "       macro avg       0.55      0.55      0.55       581\n",
      "    weighted avg       0.55      0.55      0.55       581\n",
      "\n"
     ]
    },
    {
     "name": "stderr",
     "output_type": "stream",
     "text": [
      "Training Epochs:  58%|█████▊    | 290/500 [01:04<00:07, 28.81it/s]"
     ]
    },
    {
     "name": "stdout",
     "output_type": "stream",
     "text": [
      "Epoch 290/500, Loss: 0.2028\n",
      "Test Accuracy at Epoch 290: 55.08%\n",
      "Classification Report at Epoch 290:\n",
      "                  precision    recall  f1-score   support\n",
      "\n",
      "    infringement       0.54      0.55      0.54       283\n",
      "non_infringement       0.56      0.55      0.56       298\n",
      "\n",
      "        accuracy                           0.55       581\n",
      "       macro avg       0.55      0.55      0.55       581\n",
      "    weighted avg       0.55      0.55      0.55       581\n",
      "\n",
      "New best model saved with accuracy 55.08% at epoch 290\n",
      "Best Classification Report at Epoch 290:\n",
      "                  precision    recall  f1-score   support\n",
      "\n",
      "    infringement       0.54      0.55      0.54       283\n",
      "non_infringement       0.56      0.55      0.56       298\n",
      "\n",
      "        accuracy                           0.55       581\n",
      "       macro avg       0.55      0.55      0.55       581\n",
      "    weighted avg       0.55      0.55      0.55       581\n",
      "\n"
     ]
    },
    {
     "name": "stderr",
     "output_type": "stream",
     "text": [
      "Training Epochs:  60%|█████▉    | 299/500 [01:06<00:36,  5.46it/s]"
     ]
    },
    {
     "name": "stdout",
     "output_type": "stream",
     "text": [
      "Epoch 300/500, Loss: 0.1923\n",
      "Test Accuracy at Epoch 300: 55.25%\n",
      "Classification Report at Epoch 300:\n",
      "                  precision    recall  f1-score   support\n",
      "\n",
      "    infringement       0.54      0.55      0.55       283\n",
      "non_infringement       0.57      0.55      0.56       298\n",
      "\n",
      "        accuracy                           0.55       581\n",
      "       macro avg       0.55      0.55      0.55       581\n",
      "    weighted avg       0.55      0.55      0.55       581\n",
      "\n",
      "New best model saved with accuracy 55.25% at epoch 300\n",
      "Best Classification Report at Epoch 300:\n",
      "                  precision    recall  f1-score   support\n",
      "\n",
      "    infringement       0.54      0.55      0.55       283\n",
      "non_infringement       0.57      0.55      0.56       298\n",
      "\n",
      "        accuracy                           0.55       581\n",
      "       macro avg       0.55      0.55      0.55       581\n",
      "    weighted avg       0.55      0.55      0.55       581\n",
      "\n"
     ]
    },
    {
     "name": "stderr",
     "output_type": "stream",
     "text": [
      "Training Epochs:  62%|██████▏   | 310/500 [01:09<00:41,  4.57it/s]"
     ]
    },
    {
     "name": "stdout",
     "output_type": "stream",
     "text": [
      "Epoch 310/500, Loss: 0.1827\n",
      "Test Accuracy at Epoch 310: 55.25%\n",
      "Classification Report at Epoch 310:\n",
      "                  precision    recall  f1-score   support\n",
      "\n",
      "    infringement       0.54      0.56      0.55       283\n",
      "non_infringement       0.57      0.55      0.56       298\n",
      "\n",
      "        accuracy                           0.55       581\n",
      "       macro avg       0.55      0.55      0.55       581\n",
      "    weighted avg       0.55      0.55      0.55       581\n",
      "\n"
     ]
    },
    {
     "name": "stderr",
     "output_type": "stream",
     "text": [
      "Training Epochs:  64%|██████▍   | 321/500 [01:09<00:12, 13.90it/s]"
     ]
    },
    {
     "name": "stdout",
     "output_type": "stream",
     "text": [
      "Epoch 320/500, Loss: 0.1738\n",
      "Test Accuracy at Epoch 320: 55.94%\n",
      "Classification Report at Epoch 320:\n",
      "                  precision    recall  f1-score   support\n",
      "\n",
      "    infringement       0.55      0.57      0.56       283\n",
      "non_infringement       0.57      0.55      0.56       298\n",
      "\n",
      "        accuracy                           0.56       581\n",
      "       macro avg       0.56      0.56      0.56       581\n",
      "    weighted avg       0.56      0.56      0.56       581\n",
      "\n",
      "New best model saved with accuracy 55.94% at epoch 320\n",
      "Best Classification Report at Epoch 320:\n",
      "                  precision    recall  f1-score   support\n",
      "\n",
      "    infringement       0.55      0.57      0.56       283\n",
      "non_infringement       0.57      0.55      0.56       298\n",
      "\n",
      "        accuracy                           0.56       581\n",
      "       macro avg       0.56      0.56      0.56       581\n",
      "    weighted avg       0.56      0.56      0.56       581\n",
      "\n"
     ]
    },
    {
     "name": "stderr",
     "output_type": "stream",
     "text": [
      "Training Epochs:  66%|██████▌   | 328/500 [01:09<00:07, 22.05it/s]"
     ]
    },
    {
     "name": "stdout",
     "output_type": "stream",
     "text": [
      "Epoch 330/500, Loss: 0.1655\n",
      "Test Accuracy at Epoch 330: 55.77%\n",
      "Classification Report at Epoch 330:\n",
      "                  precision    recall  f1-score   support\n",
      "\n",
      "    infringement       0.54      0.57      0.55       283\n",
      "non_infringement       0.57      0.55      0.56       298\n",
      "\n",
      "        accuracy                           0.56       581\n",
      "       macro avg       0.56      0.56      0.56       581\n",
      "    weighted avg       0.56      0.56      0.56       581\n",
      "\n"
     ]
    },
    {
     "name": "stderr",
     "output_type": "stream",
     "text": [
      "Training Epochs:  68%|██████▊   | 340/500 [01:10<00:07, 21.17it/s]"
     ]
    },
    {
     "name": "stdout",
     "output_type": "stream",
     "text": [
      "Epoch 340/500, Loss: 0.1578\n",
      "Test Accuracy at Epoch 340: 55.94%\n",
      "Classification Report at Epoch 340:\n",
      "                  precision    recall  f1-score   support\n",
      "\n",
      "    infringement       0.55      0.57      0.56       283\n",
      "non_infringement       0.57      0.55      0.56       298\n",
      "\n",
      "        accuracy                           0.56       581\n",
      "       macro avg       0.56      0.56      0.56       581\n",
      "    weighted avg       0.56      0.56      0.56       581\n",
      "\n"
     ]
    },
    {
     "name": "stderr",
     "output_type": "stream",
     "text": [
      "Training Epochs:  70%|███████   | 350/500 [01:13<00:37,  3.99it/s]"
     ]
    },
    {
     "name": "stdout",
     "output_type": "stream",
     "text": [
      "Epoch 350/500, Loss: 0.1506\n",
      "Test Accuracy at Epoch 350: 56.11%\n",
      "Classification Report at Epoch 350:\n",
      "                  precision    recall  f1-score   support\n",
      "\n",
      "    infringement       0.55      0.58      0.56       283\n",
      "non_infringement       0.58      0.54      0.56       298\n",
      "\n",
      "        accuracy                           0.56       581\n",
      "       macro avg       0.56      0.56      0.56       581\n",
      "    weighted avg       0.56      0.56      0.56       581\n",
      "\n",
      "New best model saved with accuracy 56.11% at epoch 350\n",
      "Best Classification Report at Epoch 350:\n",
      "                  precision    recall  f1-score   support\n",
      "\n",
      "    infringement       0.55      0.58      0.56       283\n",
      "non_infringement       0.58      0.54      0.56       298\n",
      "\n",
      "        accuracy                           0.56       581\n",
      "       macro avg       0.56      0.56      0.56       581\n",
      "    weighted avg       0.56      0.56      0.56       581\n",
      "\n"
     ]
    },
    {
     "name": "stderr",
     "output_type": "stream",
     "text": [
      "Training Epochs:  72%|███████▏  | 360/500 [01:15<00:24,  5.73it/s]"
     ]
    },
    {
     "name": "stdout",
     "output_type": "stream",
     "text": [
      "Epoch 360/500, Loss: 0.1439\n",
      "Test Accuracy at Epoch 360: 55.94%\n",
      "Classification Report at Epoch 360:\n",
      "                  precision    recall  f1-score   support\n",
      "\n",
      "    infringement       0.54      0.58      0.56       283\n",
      "non_infringement       0.57      0.54      0.56       298\n",
      "\n",
      "        accuracy                           0.56       581\n",
      "       macro avg       0.56      0.56      0.56       581\n",
      "    weighted avg       0.56      0.56      0.56       581\n",
      "\n"
     ]
    },
    {
     "name": "stderr",
     "output_type": "stream",
     "text": [
      "Training Epochs:  74%|███████▍  | 370/500 [01:17<00:36,  3.52it/s]"
     ]
    },
    {
     "name": "stdout",
     "output_type": "stream",
     "text": [
      "Epoch 370/500, Loss: 0.1376\n",
      "Test Accuracy at Epoch 370: 55.42%\n",
      "Classification Report at Epoch 370:\n",
      "                  precision    recall  f1-score   support\n",
      "\n",
      "    infringement       0.54      0.58      0.56       283\n",
      "non_infringement       0.57      0.53      0.55       298\n",
      "\n",
      "        accuracy                           0.55       581\n",
      "       macro avg       0.55      0.55      0.55       581\n",
      "    weighted avg       0.56      0.55      0.55       581\n",
      "\n"
     ]
    },
    {
     "name": "stderr",
     "output_type": "stream",
     "text": [
      "Training Epochs:  78%|███████▊  | 389/500 [01:19<00:04, 22.53it/s]"
     ]
    },
    {
     "name": "stdout",
     "output_type": "stream",
     "text": [
      "Epoch 380/500, Loss: 0.1317\n",
      "Test Accuracy at Epoch 380: 55.77%\n",
      "Classification Report at Epoch 380:\n",
      "                  precision    recall  f1-score   support\n",
      "\n",
      "    infringement       0.54      0.58      0.56       283\n",
      "non_infringement       0.57      0.53      0.55       298\n",
      "\n",
      "        accuracy                           0.56       581\n",
      "       macro avg       0.56      0.56      0.56       581\n",
      "    weighted avg       0.56      0.56      0.56       581\n",
      "\n",
      "Epoch 390/500, Loss: 0.1263\n",
      "Test Accuracy at Epoch 390: 55.77%\n",
      "Classification Report at Epoch 390:\n",
      "                  precision    recall  f1-score   support\n",
      "\n",
      "    infringement       0.54      0.59      0.56       283\n",
      "non_infringement       0.57      0.53      0.55       298\n",
      "\n",
      "        accuracy                           0.56       581\n",
      "       macro avg       0.56      0.56      0.56       581\n",
      "    weighted avg       0.56      0.56      0.56       581\n",
      "\n"
     ]
    },
    {
     "name": "stderr",
     "output_type": "stream",
     "text": [
      "Training Epochs:  83%|████████▎ | 416/500 [01:20<00:01, 61.01it/s]"
     ]
    },
    {
     "name": "stdout",
     "output_type": "stream",
     "text": [
      "Epoch 400/500, Loss: 0.1212\n",
      "Test Accuracy at Epoch 400: 55.77%\n",
      "Classification Report at Epoch 400:\n",
      "                  precision    recall  f1-score   support\n",
      "\n",
      "    infringement       0.54      0.59      0.56       283\n",
      "non_infringement       0.57      0.53      0.55       298\n",
      "\n",
      "        accuracy                           0.56       581\n",
      "       macro avg       0.56      0.56      0.56       581\n",
      "    weighted avg       0.56      0.56      0.56       581\n",
      "\n",
      "Epoch 410/500, Loss: 0.1165\n",
      "Test Accuracy at Epoch 410: 55.42%\n",
      "Classification Report at Epoch 410:\n",
      "                  precision    recall  f1-score   support\n",
      "\n",
      "    infringement       0.54      0.58      0.56       283\n",
      "non_infringement       0.57      0.53      0.55       298\n",
      "\n",
      "        accuracy                           0.55       581\n",
      "       macro avg       0.56      0.55      0.55       581\n",
      "    weighted avg       0.56      0.55      0.55       581\n",
      "\n",
      "Epoch 420/500, Loss: 0.1121\n",
      "Test Accuracy at Epoch 420: 55.42%\n",
      "Classification Report at Epoch 420:\n",
      "                  precision    recall  f1-score   support\n",
      "\n",
      "    infringement       0.54      0.59      0.56       283\n",
      "non_infringement       0.57      0.52      0.55       298\n",
      "\n",
      "        accuracy                           0.55       581\n",
      "       macro avg       0.56      0.56      0.55       581\n",
      "    weighted avg       0.56      0.55      0.55       581\n",
      "\n"
     ]
    },
    {
     "name": "stderr",
     "output_type": "stream",
     "text": [
      "Training Epochs:  90%|█████████ | 450/500 [01:20<00:00, 87.42it/s]"
     ]
    },
    {
     "name": "stdout",
     "output_type": "stream",
     "text": [
      "Epoch 430/500, Loss: 0.1081\n",
      "Test Accuracy at Epoch 430: 56.28%\n",
      "Classification Report at Epoch 430:\n",
      "                  precision    recall  f1-score   support\n",
      "\n",
      "    infringement       0.55      0.59      0.57       283\n",
      "non_infringement       0.58      0.53      0.56       298\n",
      "\n",
      "        accuracy                           0.56       581\n",
      "       macro avg       0.56      0.56      0.56       581\n",
      "    weighted avg       0.56      0.56      0.56       581\n",
      "\n",
      "New best model saved with accuracy 56.28% at epoch 430\n",
      "Best Classification Report at Epoch 430:\n",
      "                  precision    recall  f1-score   support\n",
      "\n",
      "    infringement       0.55      0.59      0.57       283\n",
      "non_infringement       0.58      0.53      0.56       298\n",
      "\n",
      "        accuracy                           0.56       581\n",
      "       macro avg       0.56      0.56      0.56       581\n",
      "    weighted avg       0.56      0.56      0.56       581\n",
      "\n",
      "Epoch 440/500, Loss: 0.1043\n",
      "Test Accuracy at Epoch 440: 55.77%\n",
      "Classification Report at Epoch 440:\n",
      "                  precision    recall  f1-score   support\n",
      "\n",
      "    infringement       0.54      0.59      0.56       283\n",
      "non_infringement       0.57      0.53      0.55       298\n",
      "\n",
      "        accuracy                           0.56       581\n",
      "       macro avg       0.56      0.56      0.56       581\n",
      "    weighted avg       0.56      0.56      0.56       581\n",
      "\n",
      "Epoch 450/500, Loss: 0.1008\n",
      "Test Accuracy at Epoch 450: 55.94%\n",
      "Classification Report at Epoch 450:\n",
      "                  precision    recall  f1-score   support\n",
      "\n",
      "    infringement       0.54      0.59      0.56       283\n",
      "non_infringement       0.58      0.53      0.55       298\n",
      "\n",
      "        accuracy                           0.56       581\n",
      "       macro avg       0.56      0.56      0.56       581\n",
      "    weighted avg       0.56      0.56      0.56       581\n",
      "\n"
     ]
    },
    {
     "name": "stderr",
     "output_type": "stream",
     "text": [
      "Training Epochs:  92%|█████████▏| 460/500 [01:20<00:00, 83.26it/s]"
     ]
    },
    {
     "name": "stdout",
     "output_type": "stream",
     "text": [
      "Epoch 460/500, Loss: 0.0975\n",
      "Test Accuracy at Epoch 460: 55.42%\n",
      "Classification Report at Epoch 460:\n",
      "                  precision    recall  f1-score   support\n",
      "\n",
      "    infringement       0.54      0.58      0.56       283\n",
      "non_infringement       0.57      0.53      0.55       298\n",
      "\n",
      "        accuracy                           0.55       581\n",
      "       macro avg       0.55      0.55      0.55       581\n",
      "    weighted avg       0.56      0.55      0.55       581\n",
      "\n"
     ]
    },
    {
     "name": "stderr",
     "output_type": "stream",
     "text": [
      "Training Epochs:  94%|█████████▍| 469/500 [01:22<00:02, 14.42it/s]"
     ]
    },
    {
     "name": "stdout",
     "output_type": "stream",
     "text": [
      "Epoch 470/500, Loss: 0.0943\n",
      "Test Accuracy at Epoch 470: 54.91%\n",
      "Classification Report at Epoch 470:\n",
      "                  precision    recall  f1-score   support\n",
      "\n",
      "    infringement       0.53      0.57      0.55       283\n",
      "non_infringement       0.56      0.53      0.55       298\n",
      "\n",
      "        accuracy                           0.55       581\n",
      "       macro avg       0.55      0.55      0.55       581\n",
      "    weighted avg       0.55      0.55      0.55       581\n",
      "\n"
     ]
    },
    {
     "name": "stderr",
     "output_type": "stream",
     "text": [
      "Training Epochs:  95%|█████████▌| 476/500 [01:22<00:01, 15.54it/s]"
     ]
    },
    {
     "name": "stdout",
     "output_type": "stream",
     "text": [
      "Epoch 480/500, Loss: 0.0913\n",
      "Test Accuracy at Epoch 480: 54.73%\n",
      "Classification Report at Epoch 480:\n",
      "                  precision    recall  f1-score   support\n",
      "\n",
      "    infringement       0.53      0.57      0.55       283\n",
      "non_infringement       0.56      0.53      0.55       298\n",
      "\n",
      "        accuracy                           0.55       581\n",
      "       macro avg       0.55      0.55      0.55       581\n",
      "    weighted avg       0.55      0.55      0.55       581\n",
      "\n"
     ]
    },
    {
     "name": "stderr",
     "output_type": "stream",
     "text": [
      "Training Epochs:  96%|█████████▋| 482/500 [01:23<00:01, 16.81it/s]"
     ]
    },
    {
     "name": "stdout",
     "output_type": "stream",
     "text": [
      "Epoch 490/500, Loss: 0.0884\n",
      "Test Accuracy at Epoch 490: 54.39%\n",
      "Classification Report at Epoch 490:\n",
      "                  precision    recall  f1-score   support\n",
      "\n",
      "    infringement       0.53      0.57      0.55       283\n",
      "non_infringement       0.56      0.52      0.54       298\n",
      "\n",
      "        accuracy                           0.54       581\n",
      "       macro avg       0.54      0.54      0.54       581\n",
      "    weighted avg       0.54      0.54      0.54       581\n",
      "\n"
     ]
    },
    {
     "name": "stderr",
     "output_type": "stream",
     "text": [
      "Training Epochs: 100%|██████████| 500/500 [01:23<00:00,  5.98it/s]\n",
      "/tmp/ipykernel_3361873/1033092828.py:47: FutureWarning: You are using `torch.load` with `weights_only=False` (the current default value), which uses the default pickle module implicitly. It is possible to construct malicious pickle data which will execute arbitrary code during unpickling (See https://github.com/pytorch/pytorch/blob/main/SECURITY.md#untrusted-models for more details). In a future release, the default value for `weights_only` will be flipped to `True`. This limits the functions that could be executed during unpickling. Arbitrary objects will no longer be allowed to be loaded via this mode unless they are explicitly allowlisted by the user via `torch.serialization.add_safe_globals`. We recommend you start setting `weights_only=True` for any use case where you don't have full control of the loaded file. Please open an issue on GitHub for any issues related to this experimental feature.\n",
      "  custom_mlp.load_state_dict(torch.load(checkpoint_path))\n"
     ]
    },
    {
     "name": "stdout",
     "output_type": "stream",
     "text": [
      "Epoch 500/500, Loss: 0.0856\n",
      "Test Accuracy at Epoch 500: 53.87%\n",
      "Classification Report at Epoch 500:\n",
      "                  precision    recall  f1-score   support\n",
      "\n",
      "    infringement       0.52      0.56      0.54       283\n",
      "non_infringement       0.55      0.52      0.53       298\n",
      "\n",
      "        accuracy                           0.54       581\n",
      "       macro avg       0.54      0.54      0.54       581\n",
      "    weighted avg       0.54      0.54      0.54       581\n",
      "\n"
     ]
    },
    {
     "data": {
      "image/png": "[encoded data removed]",
      "text/plain": [
       "<Figure size 1000x500 with 1 Axes>"
      ]
     },
     "metadata": {},
     "output_type": "display_data"
    },
    {
     "name": "stdout",
     "output_type": "stream",
     "text": [
      "Final Model Accuracy: 56.28%\n"
     ]
    }
   ],
   "source": [
    "input_dim = X_train.shape[1]\n",
    "hidden_dim = 256 \n",
    "print(f\"Training MLP model with input_dim={input_dim} and hidden_dim={hidden_dim}\")\n",
    "\n",
    "custom_mlp, losses, best_accuracy = train_model(X_train, y_train, X_test, y_test, input_dim, hidden_dim)"
   ]
  },
  {
   "cell_type": "code",
   "execution_count": 10,
   "metadata": {},
   "outputs": [
    {
     "name": "stdout",
     "output_type": "stream",
     "text": [
      "Checkpoint saved to '/home/guangwei/LLM-COPYRIGHT/copyright_newVersion/models/train_input_reference_last_layer_TSNE3_TSNE2.pth'.\n"
     ]
    }
   ],
   "source": [
    "def save_checkpoint(model, optimizer, epoch, loss, filepath):\n",
    "    checkpoint = {\n",
    "        'epoch': epoch + 1,\n",
    "        'model_state_dict': model.state_dict(),\n",
    "        'optimizer_state_dict': optimizer.state_dict(),\n",
    "        'loss': loss\n",
    "    }\n",
    "    torch.save(checkpoint, filepath)\n",
    "    print(f\"Checkpoint saved to '{filepath}'.\")\n",
    "\n",
    "save_checkpoint(custom_mlp, torch.optim.Adam(custom_mlp.parameters()), len(losses), losses[-1], checkpoint_file)"
   ]
  },
  {
   "cell_type": "code",
   "execution_count": 11,
   "metadata": {},
   "outputs": [
    {
     "name": "stderr",
     "output_type": "stream",
     "text": [
      "/tmp/ipykernel_3361873/2137335780.py:1: UserWarning: To copy construct from a tensor, it is recommended to use sourceTensor.clone().detach() or sourceTensor.clone().detach().requires_grad_(True), rather than torch.tensor(sourceTensor).\n",
      "  y_pred_final = (torch.sigmoid(torch.tensor(custom_mlp(torch.tensor(X_test, dtype=torch.float32)))) > 0.5).float().numpy()\n"
     ]
    },
    {
     "name": "stdout",
     "output_type": "stream",
     "text": [
      "                  precision    recall  f1-score   support\n",
      "\n",
      "    infringement       0.55      0.59      0.57       283\n",
      "non_infringement       0.58      0.53      0.56       298\n",
      "\n",
      "        accuracy                           0.56       581\n",
      "       macro avg       0.56      0.56      0.56       581\n",
      "    weighted avg       0.56      0.56      0.56       581\n",
      "\n"
     ]
    }
   ],
   "source": [
    "y_pred_final = (torch.sigmoid(torch.tensor(custom_mlp(torch.tensor(X_test, dtype=torch.float32)))) > 0.5).float().numpy()\n",
    "print(classification_report(y_test, y_pred_final, target_names=[\"infringement\", \"non_infringement\"]))"
   ]
  }
 ],
 "metadata": {
  "kernelspec": {
   "display_name": "sit",
   "language": "python",
   "name": "python3"
  },
  "language_info": {
   "codemirror_mode": {
    "name": "ipython",
    "version": 3
   },
   "file_extension": ".py",
   "mimetype": "text/x-python",
   "name": "python",
   "nbconvert_exporter": "python",
   "pygments_lexer": "ipython3",
   "version": "3.8.20"
  }
 },
 "nbformat": 4,
 "nbformat_minor": 2
}
