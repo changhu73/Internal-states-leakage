{
 "cells": [
  {
   "cell_type": "code",
   "execution_count": 1,
   "metadata": {},
   "outputs": [
    {
     "name": "stderr",
     "output_type": "stream",
     "text": [
      "/home/guangwei/anaconda3/envs/sit/lib/python3.8/site-packages/tqdm/auto.py:21: TqdmWarning: IProgress not found. Please update jupyter and ipywidgets. See https://ipywidgets.readthedocs.io/en/stable/user_install.html\n",
      "  from .autonotebook import tqdm as notebook_tqdm\n"
     ]
    }
   ],
   "source": [
    "# import packages & variables\n",
    "import argparse\n",
    "import torch\n",
    "import torch.nn as nn\n",
    "import numpy as np\n",
    "from sklearn.metrics import accuracy_score, classification_report\n",
    "import matplotlib.pyplot as plt\n",
    "from tqdm import tqdm\n",
    "from transformers import AutoTokenizer, AutoModelForCausalLM, AutoModel\n",
    "import json\n",
    "\n",
    "# Parameters\n",
    "model_name = 'meta-llama/Meta-Llama-3.1-8B'\n",
    "non_infringement_file = '/home/guangwei/LLM-COPYRIGHT/copyright_newVersion/test_division/extra_30.non_infringement.json'\n",
    "infringement_file = '/home/guangwei/LLM-COPYRIGHT/copyright_newVersion/test_division/extra_30.infringement.json'\n",
    "checkpoint_file = '/home/guangwei/LLM-COPYRIGHT/copyright_newVersion/models/train_input_reference_last_layer_30_70.pth'\n"
   ]
  },
  {
   "cell_type": "code",
   "execution_count": 2,
   "metadata": {},
   "outputs": [],
   "source": [
    "# Define CustumMLP for internal states train\n",
    "class CustomMLP(nn.Module):\n",
    "    def __init__(self, input_dim, hidden_dim):\n",
    "        super(CustomMLP, self).__init__()\n",
    "        self.down = nn.Linear(input_dim, hidden_dim)\n",
    "        self.gate = nn.Linear(input_dim, hidden_dim)\n",
    "        self.up = nn.Linear(hidden_dim, 1)\n",
    "        self.activation = nn.SiLU()\n",
    "\n",
    "    def forward(self, x):\n",
    "        down_output = self.down(x)\n",
    "        gate_output = self.gate(x)\n",
    "        gated_output = down_output * self.activation(gate_output)\n",
    "        return self.up(gated_output)"
   ]
  },
  {
   "cell_type": "code",
   "execution_count": 3,
   "metadata": {},
   "outputs": [],
   "source": [
    "# Extract hidden states/reference embeddings\n",
    "def extract_hidden_states(texts, model, tokenizer, batch_size=4):\n",
    "    hidden_states = []\n",
    "    for i in tqdm(range(0, len(texts), batch_size), desc=\"Processing data batches\"):\n",
    "        batch_texts = texts[i:i + batch_size]\n",
    "        inputs = tokenizer(batch_texts, return_tensors=\"pt\", padding=True, truncation=True)\n",
    "        with torch.no_grad():\n",
    "            outputs = model(**inputs)\n",
    "        hidden_states.append(outputs.hidden_states[-1].mean(dim=1).cpu().numpy())\n",
    "    return np.vstack(hidden_states)\n",
    "\n",
    "def extract_reference_embeddings(references, model, tokenizer, batch_size=4):\n",
    "    embeddings = []\n",
    "    for i in tqdm(range(0, len(references), batch_size), desc=\"Processing references\"):\n",
    "        batch_references = references[i:i + batch_size]\n",
    "        inputs = tokenizer(batch_references, return_tensors=\"pt\", padding=True, truncation=True)\n",
    "        with torch.no_grad():\n",
    "            outputs = model(**inputs)\n",
    "        embeddings.append(outputs.pooler_output.cpu().numpy())\n",
    "    return np.vstack(embeddings)"
   ]
  },
  {
   "cell_type": "code",
   "execution_count": 4,
   "metadata": {},
   "outputs": [],
   "source": [
    "# lode data for infringement & non infringement\n",
    "def load_data(non_infringement_file, infringement_file):\n",
    "    with open(non_infringement_file, 'r', encoding='utf-8') as file:\n",
    "        non_infringement_json_data = json.load(file)\n",
    "\n",
    "    non_infringement_outputs = [entry['input'] for entry in non_infringement_json_data]\n",
    "    non_infringement_references = [entry['reference'] for entry in non_infringement_json_data]\n",
    "    y_non_infringement = [1] * len(non_infringement_outputs)\n",
    "\n",
    "    with open(infringement_file, 'r', encoding='utf-8') as file:\n",
    "        infringement_json_data = json.load(file)\n",
    "\n",
    "    infringement_outputs = [entry['input'] for entry in infringement_json_data]\n",
    "    infringement_references = [entry['reference'] for entry in infringement_json_data]\n",
    "    y_infringement = [0] * len(infringement_outputs)\n",
    "\n",
    "    return non_infringement_outputs, non_infringement_references, y_non_infringement, infringement_outputs, infringement_references, y_infringement"
   ]
  },
  {
   "cell_type": "code",
   "execution_count": 5,
   "metadata": {},
   "outputs": [],
   "source": [
    "# Train for best model\n",
    "def train_model(X_train, y_train, X_test, y_test, input_dim, hidden_dim, epochs=500, lr=0.001, checkpoint_path=checkpoint_file):\n",
    "    custom_mlp = CustomMLP(input_dim, hidden_dim)\n",
    "    criterion = nn.BCEWithLogitsLoss()\n",
    "    optimizer = torch.optim.Adam(custom_mlp.parameters(), lr=lr)\n",
    "\n",
    "    X_train_tensor = torch.tensor(X_train, dtype=torch.float32)\n",
    "    y_train_tensor = torch.tensor(y_train, dtype=torch.float32).unsqueeze(1)\n",
    "\n",
    "    best_accuracy = -float('inf')\n",
    "    best_model_state = None\n",
    "    best_epoch = 0\n",
    "    losses = []\n",
    "\n",
    "    for epoch in tqdm(range(epochs), desc=\"Training Epochs\"):\n",
    "        custom_mlp.train()\n",
    "        optimizer.zero_grad()\n",
    "        outputs = custom_mlp(X_train_tensor)\n",
    "        loss = criterion(outputs, y_train_tensor)\n",
    "        loss.backward()\n",
    "        optimizer.step()\n",
    "        losses.append(loss.item())\n",
    "\n",
    "        if (epoch + 1) % 10 == 0:\n",
    "            print(f\"Epoch {epoch + 1}/{epochs}, Loss: {loss.item():.4f}\")\n",
    "            \n",
    "            custom_mlp.eval()\n",
    "            X_test_tensor = torch.tensor(X_test, dtype=torch.float32)\n",
    "            with torch.no_grad():\n",
    "                y_pred_logits = custom_mlp(X_test_tensor)\n",
    "                y_pred = (torch.sigmoid(y_pred_logits) > 0.5).float().numpy()\n",
    "            \n",
    "            accuracy = accuracy_score(y_test, y_pred)\n",
    "            print(f\"Test Accuracy at Epoch {epoch + 1}: {accuracy * 100:.2f}%\")\n",
    "            \n",
    "            report = classification_report(y_test, y_pred, target_names=[\"infringement\", \"non_infringement\"])\n",
    "            print(f\"Classification Report at Epoch {epoch + 1}:\\n{report}\")\n",
    "\n",
    "            if accuracy > best_accuracy:\n",
    "                best_accuracy = accuracy\n",
    "                best_model_state = custom_mlp.state_dict()\n",
    "                best_epoch = epoch + 1\n",
    "                torch.save(best_model_state, checkpoint_path)\n",
    "                print(f\"New best model saved with accuracy {best_accuracy * 100:.2f}% at epoch {best_epoch}\")\n",
    "                print(f\"Best Classification Report at Epoch {best_epoch}:\\n{report}\")\n",
    "\n",
    "    custom_mlp.load_state_dict(torch.load(checkpoint_path))\n",
    "\n",
    "    plt.figure(figsize=(10, 5))\n",
    "    plt.plot(losses, label='Training Loss')\n",
    "    plt.xlabel('Epoch')\n",
    "    plt.ylabel('Loss')\n",
    "    plt.title('Training Loss Curve')\n",
    "    plt.legend()\n",
    "    plt.show()\n",
    "\n",
    "    print(f\"Best Model was saved at epoch {best_epoch} with accuracy {best_accuracy * 100:.2f}%\")\n",
    "    print(f\"Best Classification Report {report}\")\n",
    "    return custom_mlp, losses, best_accuracy"
   ]
  },
  {
   "cell_type": "code",
   "execution_count": 6,
   "metadata": {},
   "outputs": [],
   "source": [
    "# def main for reference embedding/train\n",
    "def main(model_name, non_infringement_file, infringement_file, checkpoint_path):\n",
    "    tokenizer = AutoTokenizer.from_pretrained(model_name, model_max_length=512)\n",
    "    model = AutoModelForCausalLM.from_pretrained(model_name, output_hidden_states=True)\n",
    "    tokenizer.pad_token = tokenizer.eos_token\n",
    "    bert_tokenizer = AutoTokenizer.from_pretrained('google-bert/bert-base-uncased')\n",
    "    bert_model = AutoModel.from_pretrained('google-bert/bert-base-uncased')\n",
    "    bert_tokenizer.pad_token = tokenizer.eos_token\n",
    "\n",
    "    non_infringement_outputs, non_infringement_references, y_non_infringement, infringement_outputs, infringement_references, y_infringement = load_data(\n",
    "        non_infringement_file, infringement_file\n",
    "    )\n",
    "\n",
    "    y_non_infringement = np.array(y_non_infringement)\n",
    "    y_infringement = np.array(y_infringement)\n",
    "\n",
    "    print(\"Extracting hidden states for non_infringement texts...\")\n",
    "    X_non_infringement = extract_hidden_states(non_infringement_outputs, model, tokenizer)\n",
    "    print(\"Extracting reference embeddings for non_infringement texts...\")\n",
    "    reference_embeddings_non_infringement = extract_reference_embeddings(non_infringement_references, bert_model, bert_tokenizer)\n",
    "    X_non_infringement_combined = np.hstack([X_non_infringement, reference_embeddings_non_infringement])\n",
    "\n",
    "    print(\"Extracting hidden states for infringement texts...\")\n",
    "    X_infringement = extract_hidden_states(infringement_outputs, model, tokenizer)\n",
    "    print(\"Extracting reference embeddings for infringement texts...\")\n",
    "    reference_embeddings_infringement = extract_reference_embeddings(infringement_references, bert_model, bert_tokenizer)\n",
    "    X_infringement_combined = np.hstack([X_infringement, reference_embeddings_infringement])\n",
    "\n",
    "    split_index_non_infringement = int(0.8 * len(X_non_infringement_combined))\n",
    "    X_non_infringement_train = X_non_infringement_combined[:split_index_non_infringement]\n",
    "    X_non_infringement_test = X_non_infringement_combined[split_index_non_infringement:]\n",
    "    y_non_infringement_train = y_non_infringement[:split_index_non_infringement]\n",
    "    y_non_infringement_test = y_non_infringement[split_index_non_infringement:]\n",
    "\n",
    "    split_index_infringement = int(0.8 * len(X_infringement_combined))\n",
    "    X_infringement_train = X_infringement_combined[:split_index_infringement]\n",
    "    X_infringement_test = X_infringement_combined[split_index_infringement:]\n",
    "    y_infringement_train = y_infringement[:split_index_infringement]\n",
    "    y_infringement_test = y_infringement[split_index_infringement:]\n",
    "\n",
    "    X_train = np.vstack((X_non_infringement_train, X_infringement_train))\n",
    "    X_test = np.vstack((X_non_infringement_test, X_infringement_test))\n",
    "    y_train = np.concatenate((y_non_infringement_train, y_infringement_train))\n",
    "    y_test = np.concatenate((y_non_infringement_test, y_infringement_test))\n",
    "\n",
    "    input_dim = X_train.shape[1]\n",
    "    hidden_dim = 256 \n",
    "    print(f\"Training MLP model with input_dim={input_dim} and hidden_dim={hidden_dim}\")\n",
    "\n",
    "    best_model, losses, best_accuracy = train_model(X_train, y_train, X_test, y_test, input_dim, hidden_dim)\n"
   ]
  },
  {
   "cell_type": "code",
   "execution_count": 7,
   "metadata": {},
   "outputs": [
    {
     "name": "stderr",
     "output_type": "stream",
     "text": [
      "/home/guangwei/anaconda3/envs/sit/lib/python3.8/site-packages/transformers/generation/configuration_utils.py:777: UserWarning: `return_dict_in_generate` is NOT set to `True`, but `output_hidden_states` is. When `return_dict_in_generate` is not `True`, `output_hidden_states` is ignored.\n",
      "  warnings.warn(\n",
      "Loading checkpoint shards: 100%|██████████| 4/4 [00:12<00:00,  3.18s/it]\n",
      "/home/guangwei/anaconda3/envs/sit/lib/python3.8/site-packages/transformers/tokenization_utils_base.py:1617: FutureWarning: `clean_up_tokenization_spaces` was not set. It will be set to `True` by default. This behavior will be deprecated in transformers v4.45, and will be then set to `False` by default. For more details check this issue: https://github.com/huggingface/transformers/issues/31884\n",
      "  warnings.warn(\n"
     ]
    },
    {
     "name": "stdout",
     "output_type": "stream",
     "text": [
      "Extracting hidden states for non_infringement texts...\n"
     ]
    },
    {
     "name": "stderr",
     "output_type": "stream",
     "text": [
      "Processing data batches:   0%|          | 0/232 [00:00<?, ?it/s]Starting from v4.46, the `logits` model output will have the same type as the model (except at train time, where it will always be FP32)\n",
      "Processing data batches: 100%|██████████| 232/232 [3:57:59<00:00, 61.55s/it]  \n"
     ]
    },
    {
     "name": "stdout",
     "output_type": "stream",
     "text": [
      "Extracting reference embeddings for non_infringement texts...\n"
     ]
    },
    {
     "name": "stderr",
     "output_type": "stream",
     "text": [
      "Processing references: 100%|██████████| 232/232 [34:55<00:00,  9.03s/it] \n"
     ]
    },
    {
     "name": "stdout",
     "output_type": "stream",
     "text": [
      "Extracting hidden states for infringement texts...\n"
     ]
    },
    {
     "name": "stderr",
     "output_type": "stream",
     "text": [
      "Processing data batches: 100%|██████████| 243/243 [3:17:05<00:00, 48.66s/it]  \n"
     ]
    },
    {
     "name": "stdout",
     "output_type": "stream",
     "text": [
      "Extracting reference embeddings for infringement texts...\n"
     ]
    },
    {
     "name": "stderr",
     "output_type": "stream",
     "text": [
      "Processing references: 100%|██████████| 243/243 [01:47<00:00,  2.26it/s]\n"
     ]
    },
    {
     "name": "stdout",
     "output_type": "stream",
     "text": [
      "Training MLP model with input_dim=4864 and hidden_dim=256\n"
     ]
    },
    {
     "name": "stderr",
     "output_type": "stream",
     "text": [
      "Training Epochs:   0%|          | 0/500 [00:00<?, ?it/s]/home/guangwei/anaconda3/envs/sit/lib/python3.8/site-packages/torch/autograd/graph.py:768: UserWarning: CUDA initialization: The NVIDIA driver on your system is too old (found version 11040). Please update your GPU driver by downloading and installing a new version from the URL: http://www.nvidia.com/Download/index.aspx Alternatively, go to: https://pytorch.org to install a PyTorch version that has been compiled with your version of the CUDA driver. (Triggered internally at ../c10/cuda/CUDAFunctions.cpp:108.)\n",
      "  return Variable._execution_engine.run_backward(  # Calls into the C++ engine to run the backward pass\n",
      "Training Epochs:   2%|▏         | 12/500 [00:00<00:24, 19.61it/s]"
     ]
    },
    {
     "name": "stdout",
     "output_type": "stream",
     "text": [
      "Epoch 10/500, Loss: 0.5632\n",
      "Test Accuracy at Epoch 10: 63.16%\n",
      "Classification Report at Epoch 10:\n",
      "                  precision    recall  f1-score   support\n",
      "\n",
      "    infringement       0.67      0.54      0.60       194\n",
      "non_infringement       0.60      0.73      0.66       186\n",
      "\n",
      "        accuracy                           0.63       380\n",
      "       macro avg       0.64      0.63      0.63       380\n",
      "    weighted avg       0.64      0.63      0.63       380\n",
      "\n",
      "New best model saved with accuracy 63.16% at epoch 10\n",
      "Best Classification Report at Epoch 10:\n",
      "                  precision    recall  f1-score   support\n",
      "\n",
      "    infringement       0.67      0.54      0.60       194\n",
      "non_infringement       0.60      0.73      0.66       186\n",
      "\n",
      "        accuracy                           0.63       380\n",
      "       macro avg       0.64      0.63      0.63       380\n",
      "    weighted avg       0.64      0.63      0.63       380\n",
      "\n"
     ]
    },
    {
     "name": "stderr",
     "output_type": "stream",
     "text": [
      "Training Epochs:   5%|▍         | 24/500 [00:01<00:16, 28.02it/s]"
     ]
    },
    {
     "name": "stdout",
     "output_type": "stream",
     "text": [
      "Epoch 20/500, Loss: 0.4469\n",
      "Test Accuracy at Epoch 20: 67.89%\n",
      "Classification Report at Epoch 20:\n",
      "                  precision    recall  f1-score   support\n",
      "\n",
      "    infringement       0.78      0.52      0.62       194\n",
      "non_infringement       0.63      0.85      0.72       186\n",
      "\n",
      "        accuracy                           0.68       380\n",
      "       macro avg       0.70      0.68      0.67       380\n",
      "    weighted avg       0.71      0.68      0.67       380\n",
      "\n",
      "New best model saved with accuracy 67.89% at epoch 20\n",
      "Best Classification Report at Epoch 20:\n",
      "                  precision    recall  f1-score   support\n",
      "\n",
      "    infringement       0.78      0.52      0.62       194\n",
      "non_infringement       0.63      0.85      0.72       186\n",
      "\n",
      "        accuracy                           0.68       380\n",
      "       macro avg       0.70      0.68      0.67       380\n",
      "    weighted avg       0.71      0.68      0.67       380\n",
      "\n"
     ]
    },
    {
     "name": "stderr",
     "output_type": "stream",
     "text": [
      "Training Epochs:   6%|▋         | 32/500 [00:01<00:16, 28.96it/s]"
     ]
    },
    {
     "name": "stdout",
     "output_type": "stream",
     "text": [
      "Epoch 30/500, Loss: 0.3279\n",
      "Test Accuracy at Epoch 30: 71.32%\n",
      "Classification Report at Epoch 30:\n",
      "                  precision    recall  f1-score   support\n",
      "\n",
      "    infringement       0.77      0.62      0.69       194\n",
      "non_infringement       0.67      0.81      0.73       186\n",
      "\n",
      "        accuracy                           0.71       380\n",
      "       macro avg       0.72      0.72      0.71       380\n",
      "    weighted avg       0.72      0.71      0.71       380\n",
      "\n",
      "New best model saved with accuracy 71.32% at epoch 30\n",
      "Best Classification Report at Epoch 30:\n",
      "                  precision    recall  f1-score   support\n",
      "\n",
      "    infringement       0.77      0.62      0.69       194\n",
      "non_infringement       0.67      0.81      0.73       186\n",
      "\n",
      "        accuracy                           0.71       380\n",
      "       macro avg       0.72      0.72      0.71       380\n",
      "    weighted avg       0.72      0.71      0.71       380\n",
      "\n"
     ]
    },
    {
     "name": "stderr",
     "output_type": "stream",
     "text": [
      "Training Epochs:   9%|▉         | 44/500 [00:01<00:14, 31.11it/s]"
     ]
    },
    {
     "name": "stdout",
     "output_type": "stream",
     "text": [
      "Epoch 40/500, Loss: 0.2540\n",
      "Test Accuracy at Epoch 40: 75.00%\n",
      "Classification Report at Epoch 40:\n",
      "                  precision    recall  f1-score   support\n",
      "\n",
      "    infringement       0.85      0.62      0.72       194\n",
      "non_infringement       0.69      0.88      0.78       186\n",
      "\n",
      "        accuracy                           0.75       380\n",
      "       macro avg       0.77      0.75      0.75       380\n",
      "    weighted avg       0.77      0.75      0.75       380\n",
      "\n",
      "New best model saved with accuracy 75.00% at epoch 40\n",
      "Best Classification Report at Epoch 40:\n",
      "                  precision    recall  f1-score   support\n",
      "\n",
      "    infringement       0.85      0.62      0.72       194\n",
      "non_infringement       0.69      0.88      0.78       186\n",
      "\n",
      "        accuracy                           0.75       380\n",
      "       macro avg       0.77      0.75      0.75       380\n",
      "    weighted avg       0.77      0.75      0.75       380\n",
      "\n"
     ]
    },
    {
     "name": "stderr",
     "output_type": "stream",
     "text": [
      "Training Epochs:  10%|█         | 52/500 [00:01<00:14, 30.55it/s]"
     ]
    },
    {
     "name": "stdout",
     "output_type": "stream",
     "text": [
      "Epoch 50/500, Loss: 0.1807\n",
      "Test Accuracy at Epoch 50: 75.79%\n",
      "Classification Report at Epoch 50:\n",
      "                  precision    recall  f1-score   support\n",
      "\n",
      "    infringement       0.84      0.65      0.73       194\n",
      "non_infringement       0.70      0.87      0.78       186\n",
      "\n",
      "        accuracy                           0.76       380\n",
      "       macro avg       0.77      0.76      0.76       380\n",
      "    weighted avg       0.77      0.76      0.76       380\n",
      "\n",
      "New best model saved with accuracy 75.79% at epoch 50\n",
      "Best Classification Report at Epoch 50:\n",
      "                  precision    recall  f1-score   support\n",
      "\n",
      "    infringement       0.84      0.65      0.73       194\n",
      "non_infringement       0.70      0.87      0.78       186\n",
      "\n",
      "        accuracy                           0.76       380\n",
      "       macro avg       0.77      0.76      0.76       380\n",
      "    weighted avg       0.77      0.76      0.76       380\n",
      "\n"
     ]
    },
    {
     "name": "stderr",
     "output_type": "stream",
     "text": [
      "Training Epochs:  13%|█▎        | 64/500 [00:02<00:13, 31.63it/s]"
     ]
    },
    {
     "name": "stdout",
     "output_type": "stream",
     "text": [
      "Epoch 60/500, Loss: 0.1350\n",
      "Test Accuracy at Epoch 60: 74.47%\n",
      "Classification Report at Epoch 60:\n",
      "                  precision    recall  f1-score   support\n",
      "\n",
      "    infringement       0.78      0.69      0.73       194\n",
      "non_infringement       0.71      0.80      0.75       186\n",
      "\n",
      "        accuracy                           0.74       380\n",
      "       macro avg       0.75      0.75      0.74       380\n",
      "    weighted avg       0.75      0.74      0.74       380\n",
      "\n"
     ]
    },
    {
     "name": "stderr",
     "output_type": "stream",
     "text": [
      "Training Epochs:  14%|█▍        | 72/500 [00:02<00:14, 29.81it/s]"
     ]
    },
    {
     "name": "stdout",
     "output_type": "stream",
     "text": [
      "Epoch 70/500, Loss: 0.1283\n",
      "Test Accuracy at Epoch 70: 78.16%\n",
      "Classification Report at Epoch 70:\n",
      "                  precision    recall  f1-score   support\n",
      "\n",
      "    infringement       0.86      0.69      0.76       194\n",
      "non_infringement       0.73      0.88      0.80       186\n",
      "\n",
      "        accuracy                           0.78       380\n",
      "       macro avg       0.79      0.78      0.78       380\n",
      "    weighted avg       0.79      0.78      0.78       380\n",
      "\n",
      "New best model saved with accuracy 78.16% at epoch 70\n",
      "Best Classification Report at Epoch 70:\n",
      "                  precision    recall  f1-score   support\n",
      "\n",
      "    infringement       0.86      0.69      0.76       194\n",
      "non_infringement       0.73      0.88      0.80       186\n",
      "\n",
      "        accuracy                           0.78       380\n",
      "       macro avg       0.79      0.78      0.78       380\n",
      "    weighted avg       0.79      0.78      0.78       380\n",
      "\n"
     ]
    },
    {
     "name": "stderr",
     "output_type": "stream",
     "text": [
      "Training Epochs:  17%|█▋        | 84/500 [00:03<00:13, 30.71it/s]"
     ]
    },
    {
     "name": "stdout",
     "output_type": "stream",
     "text": [
      "Epoch 80/500, Loss: 0.1091\n",
      "Test Accuracy at Epoch 80: 75.00%\n",
      "Classification Report at Epoch 80:\n",
      "                  precision    recall  f1-score   support\n",
      "\n",
      "    infringement       0.82      0.65      0.73       194\n",
      "non_infringement       0.70      0.85      0.77       186\n",
      "\n",
      "        accuracy                           0.75       380\n",
      "       macro avg       0.76      0.75      0.75       380\n",
      "    weighted avg       0.76      0.75      0.75       380\n",
      "\n"
     ]
    },
    {
     "name": "stderr",
     "output_type": "stream",
     "text": [
      "Training Epochs:  18%|█▊        | 92/500 [00:03<00:13, 29.60it/s]"
     ]
    },
    {
     "name": "stdout",
     "output_type": "stream",
     "text": [
      "Epoch 90/500, Loss: 0.1036\n",
      "Test Accuracy at Epoch 90: 75.00%\n",
      "Classification Report at Epoch 90:\n",
      "                  precision    recall  f1-score   support\n",
      "\n",
      "    infringement       0.81      0.66      0.73       194\n",
      "non_infringement       0.71      0.84      0.77       186\n",
      "\n",
      "        accuracy                           0.75       380\n",
      "       macro avg       0.76      0.75      0.75       380\n",
      "    weighted avg       0.76      0.75      0.75       380\n",
      "\n"
     ]
    },
    {
     "name": "stderr",
     "output_type": "stream",
     "text": [
      "Training Epochs:  21%|██        | 104/500 [00:03<00:12, 30.84it/s]"
     ]
    },
    {
     "name": "stdout",
     "output_type": "stream",
     "text": [
      "Epoch 100/500, Loss: 0.0982\n",
      "Test Accuracy at Epoch 100: 75.26%\n",
      "Classification Report at Epoch 100:\n",
      "                  precision    recall  f1-score   support\n",
      "\n",
      "    infringement       0.82      0.66      0.73       194\n",
      "non_infringement       0.71      0.84      0.77       186\n",
      "\n",
      "        accuracy                           0.75       380\n",
      "       macro avg       0.76      0.75      0.75       380\n",
      "    weighted avg       0.76      0.75      0.75       380\n",
      "\n"
     ]
    },
    {
     "name": "stderr",
     "output_type": "stream",
     "text": [
      "Training Epochs:  23%|██▎       | 116/500 [00:04<00:12, 30.87it/s]"
     ]
    },
    {
     "name": "stdout",
     "output_type": "stream",
     "text": [
      "Epoch 110/500, Loss: 0.0946\n",
      "Test Accuracy at Epoch 110: 74.74%\n",
      "Classification Report at Epoch 110:\n",
      "                  precision    recall  f1-score   support\n",
      "\n",
      "    infringement       0.81      0.65      0.73       194\n",
      "non_infringement       0.70      0.84      0.77       186\n",
      "\n",
      "        accuracy                           0.75       380\n",
      "       macro avg       0.76      0.75      0.75       380\n",
      "    weighted avg       0.76      0.75      0.75       380\n",
      "\n"
     ]
    },
    {
     "name": "stderr",
     "output_type": "stream",
     "text": [
      "Training Epochs:  25%|██▍       | 124/500 [00:04<00:12, 30.44it/s]"
     ]
    },
    {
     "name": "stdout",
     "output_type": "stream",
     "text": [
      "Epoch 120/500, Loss: 0.0976\n",
      "Test Accuracy at Epoch 120: 75.00%\n",
      "Classification Report at Epoch 120:\n",
      "                  precision    recall  f1-score   support\n",
      "\n",
      "    infringement       0.81      0.67      0.73       194\n",
      "non_infringement       0.71      0.83      0.77       186\n",
      "\n",
      "        accuracy                           0.75       380\n",
      "       macro avg       0.76      0.75      0.75       380\n",
      "    weighted avg       0.76      0.75      0.75       380\n",
      "\n"
     ]
    },
    {
     "name": "stderr",
     "output_type": "stream",
     "text": [
      "Training Epochs:  26%|██▋       | 132/500 [00:04<00:12, 30.05it/s]"
     ]
    },
    {
     "name": "stdout",
     "output_type": "stream",
     "text": [
      "Epoch 130/500, Loss: 0.0960\n",
      "Test Accuracy at Epoch 130: 75.00%\n",
      "Classification Report at Epoch 130:\n",
      "                  precision    recall  f1-score   support\n",
      "\n",
      "    infringement       0.82      0.65      0.73       194\n",
      "non_infringement       0.70      0.85      0.77       186\n",
      "\n",
      "        accuracy                           0.75       380\n",
      "       macro avg       0.76      0.75      0.75       380\n",
      "    weighted avg       0.76      0.75      0.75       380\n",
      "\n"
     ]
    },
    {
     "name": "stderr",
     "output_type": "stream",
     "text": [
      "Training Epochs:  29%|██▉       | 144/500 [00:05<00:12, 29.50it/s]"
     ]
    },
    {
     "name": "stdout",
     "output_type": "stream",
     "text": [
      "Epoch 140/500, Loss: 0.0898\n",
      "Test Accuracy at Epoch 140: 75.26%\n",
      "Classification Report at Epoch 140:\n",
      "                  precision    recall  f1-score   support\n",
      "\n",
      "    infringement       0.82      0.66      0.73       194\n",
      "non_infringement       0.71      0.85      0.77       186\n",
      "\n",
      "        accuracy                           0.75       380\n",
      "       macro avg       0.76      0.75      0.75       380\n",
      "    weighted avg       0.76      0.75      0.75       380\n",
      "\n"
     ]
    },
    {
     "name": "stderr",
     "output_type": "stream",
     "text": [
      "Training Epochs:  31%|███       | 155/500 [00:05<00:11, 29.44it/s]"
     ]
    },
    {
     "name": "stdout",
     "output_type": "stream",
     "text": [
      "Epoch 150/500, Loss: 0.0875\n",
      "Test Accuracy at Epoch 150: 75.53%\n",
      "Classification Report at Epoch 150:\n",
      "                  precision    recall  f1-score   support\n",
      "\n",
      "    infringement       0.83      0.66      0.73       194\n",
      "non_infringement       0.71      0.85      0.77       186\n",
      "\n",
      "        accuracy                           0.76       380\n",
      "       macro avg       0.77      0.76      0.75       380\n",
      "    weighted avg       0.77      0.76      0.75       380\n",
      "\n"
     ]
    },
    {
     "name": "stderr",
     "output_type": "stream",
     "text": [
      "Training Epochs:  33%|███▎      | 165/500 [00:05<00:11, 28.47it/s]"
     ]
    },
    {
     "name": "stdout",
     "output_type": "stream",
     "text": [
      "Epoch 160/500, Loss: 0.0858\n",
      "Test Accuracy at Epoch 160: 75.53%\n",
      "Classification Report at Epoch 160:\n",
      "                  precision    recall  f1-score   support\n",
      "\n",
      "    infringement       0.83      0.66      0.73       194\n",
      "non_infringement       0.71      0.85      0.77       186\n",
      "\n",
      "        accuracy                           0.76       380\n",
      "       macro avg       0.77      0.76      0.75       380\n",
      "    weighted avg       0.77      0.76      0.75       380\n",
      "\n"
     ]
    },
    {
     "name": "stderr",
     "output_type": "stream",
     "text": [
      "Training Epochs:  35%|███▍      | 173/500 [00:06<00:10, 29.95it/s]"
     ]
    },
    {
     "name": "stdout",
     "output_type": "stream",
     "text": [
      "Epoch 170/500, Loss: 0.0864\n",
      "Test Accuracy at Epoch 170: 75.26%\n",
      "Classification Report at Epoch 170:\n",
      "                  precision    recall  f1-score   support\n",
      "\n",
      "    infringement       0.83      0.64      0.73       194\n",
      "non_infringement       0.70      0.87      0.77       186\n",
      "\n",
      "        accuracy                           0.75       380\n",
      "       macro avg       0.77      0.75      0.75       380\n",
      "    weighted avg       0.77      0.75      0.75       380\n",
      "\n"
     ]
    },
    {
     "name": "stderr",
     "output_type": "stream",
     "text": [
      "Training Epochs:  37%|███▋      | 185/500 [00:06<00:10, 31.07it/s]"
     ]
    },
    {
     "name": "stdout",
     "output_type": "stream",
     "text": [
      "Epoch 180/500, Loss: 0.0968\n",
      "Test Accuracy at Epoch 180: 75.00%\n",
      "Classification Report at Epoch 180:\n",
      "                  precision    recall  f1-score   support\n",
      "\n",
      "    infringement       0.81      0.66      0.73       194\n",
      "non_infringement       0.71      0.84      0.77       186\n",
      "\n",
      "        accuracy                           0.75       380\n",
      "       macro avg       0.76      0.75      0.75       380\n",
      "    weighted avg       0.76      0.75      0.75       380\n",
      "\n"
     ]
    },
    {
     "name": "stderr",
     "output_type": "stream",
     "text": [
      "Training Epochs:  39%|███▊      | 193/500 [00:06<00:10, 30.68it/s]"
     ]
    },
    {
     "name": "stdout",
     "output_type": "stream",
     "text": [
      "Epoch 190/500, Loss: 0.0850\n",
      "Test Accuracy at Epoch 190: 75.79%\n",
      "Classification Report at Epoch 190:\n",
      "                  precision    recall  f1-score   support\n",
      "\n",
      "    infringement       0.84      0.65      0.73       194\n",
      "non_infringement       0.70      0.87      0.78       186\n",
      "\n",
      "        accuracy                           0.76       380\n",
      "       macro avg       0.77      0.76      0.76       380\n",
      "    weighted avg       0.77      0.76      0.76       380\n",
      "\n"
     ]
    },
    {
     "name": "stderr",
     "output_type": "stream",
     "text": [
      "Training Epochs:  41%|████      | 205/500 [00:07<00:09, 31.88it/s]"
     ]
    },
    {
     "name": "stdout",
     "output_type": "stream",
     "text": [
      "Epoch 200/500, Loss: 0.0832\n",
      "Test Accuracy at Epoch 200: 75.26%\n",
      "Classification Report at Epoch 200:\n",
      "                  precision    recall  f1-score   support\n",
      "\n",
      "    infringement       0.82      0.65      0.73       194\n",
      "non_infringement       0.70      0.85      0.77       186\n",
      "\n",
      "        accuracy                           0.75       380\n",
      "       macro avg       0.76      0.75      0.75       380\n",
      "    weighted avg       0.77      0.75      0.75       380\n",
      "\n"
     ]
    },
    {
     "name": "stderr",
     "output_type": "stream",
     "text": [
      "Training Epochs:  43%|████▎     | 213/500 [00:07<00:09, 31.20it/s]"
     ]
    },
    {
     "name": "stdout",
     "output_type": "stream",
     "text": [
      "Epoch 210/500, Loss: 0.0819\n",
      "Test Accuracy at Epoch 210: 75.79%\n",
      "Classification Report at Epoch 210:\n",
      "                  precision    recall  f1-score   support\n",
      "\n",
      "    infringement       0.83      0.66      0.74       194\n",
      "non_infringement       0.71      0.85      0.78       186\n",
      "\n",
      "        accuracy                           0.76       380\n",
      "       macro avg       0.77      0.76      0.76       380\n",
      "    weighted avg       0.77      0.76      0.76       380\n",
      "\n"
     ]
    },
    {
     "name": "stderr",
     "output_type": "stream",
     "text": [
      "Training Epochs:  45%|████▌     | 225/500 [00:07<00:08, 31.87it/s]"
     ]
    },
    {
     "name": "stdout",
     "output_type": "stream",
     "text": [
      "Epoch 220/500, Loss: 0.0810\n",
      "Test Accuracy at Epoch 220: 76.32%\n",
      "Classification Report at Epoch 220:\n",
      "                  precision    recall  f1-score   support\n",
      "\n",
      "    infringement       0.84      0.66      0.74       194\n",
      "non_infringement       0.71      0.87      0.78       186\n",
      "\n",
      "        accuracy                           0.76       380\n",
      "       macro avg       0.78      0.77      0.76       380\n",
      "    weighted avg       0.78      0.76      0.76       380\n",
      "\n"
     ]
    },
    {
     "name": "stderr",
     "output_type": "stream",
     "text": [
      "Training Epochs:  47%|████▋     | 233/500 [00:07<00:08, 32.41it/s]"
     ]
    },
    {
     "name": "stdout",
     "output_type": "stream",
     "text": [
      "Epoch 230/500, Loss: 0.0801\n",
      "Test Accuracy at Epoch 230: 75.53%\n",
      "Classification Report at Epoch 230:\n",
      "                  precision    recall  f1-score   support\n",
      "\n",
      "    infringement       0.83      0.65      0.73       194\n",
      "non_infringement       0.70      0.87      0.78       186\n",
      "\n",
      "        accuracy                           0.76       380\n",
      "       macro avg       0.77      0.76      0.75       380\n",
      "    weighted avg       0.77      0.76      0.75       380\n",
      "\n"
     ]
    },
    {
     "name": "stderr",
     "output_type": "stream",
     "text": [
      "Training Epochs:  49%|████▉     | 245/500 [00:08<00:07, 32.40it/s]"
     ]
    },
    {
     "name": "stdout",
     "output_type": "stream",
     "text": [
      "Epoch 240/500, Loss: 0.0974\n",
      "Test Accuracy at Epoch 240: 75.79%\n",
      "Classification Report at Epoch 240:\n",
      "                  precision    recall  f1-score   support\n",
      "\n",
      "    infringement       0.82      0.68      0.74       194\n",
      "non_infringement       0.71      0.84      0.77       186\n",
      "\n",
      "        accuracy                           0.76       380\n",
      "       macro avg       0.77      0.76      0.76       380\n",
      "    weighted avg       0.77      0.76      0.76       380\n",
      "\n"
     ]
    },
    {
     "name": "stderr",
     "output_type": "stream",
     "text": [
      "Training Epochs:  51%|█████     | 253/500 [00:08<00:07, 31.85it/s]"
     ]
    },
    {
     "name": "stdout",
     "output_type": "stream",
     "text": [
      "Epoch 250/500, Loss: 0.0818\n",
      "Test Accuracy at Epoch 250: 74.74%\n",
      "Classification Report at Epoch 250:\n",
      "                  precision    recall  f1-score   support\n",
      "\n",
      "    infringement       0.84      0.63      0.72       194\n",
      "non_infringement       0.69      0.87      0.77       186\n",
      "\n",
      "        accuracy                           0.75       380\n",
      "       macro avg       0.76      0.75      0.74       380\n",
      "    weighted avg       0.77      0.75      0.74       380\n",
      "\n"
     ]
    },
    {
     "name": "stderr",
     "output_type": "stream",
     "text": [
      "Training Epochs:  52%|█████▏    | 261/500 [00:08<00:07, 30.93it/s]"
     ]
    },
    {
     "name": "stdout",
     "output_type": "stream",
     "text": [
      "Epoch 260/500, Loss: 0.0797\n",
      "Test Accuracy at Epoch 260: 76.58%\n",
      "Classification Report at Epoch 260:\n",
      "                  precision    recall  f1-score   support\n",
      "\n",
      "    infringement       0.84      0.66      0.74       194\n",
      "non_infringement       0.71      0.87      0.78       186\n",
      "\n",
      "        accuracy                           0.77       380\n",
      "       macro avg       0.78      0.77      0.76       380\n",
      "    weighted avg       0.78      0.77      0.76       380\n",
      "\n"
     ]
    },
    {
     "name": "stderr",
     "output_type": "stream",
     "text": [
      "Training Epochs:  54%|█████▎    | 268/500 [00:11<00:55,  4.22it/s]"
     ]
    },
    {
     "name": "stdout",
     "output_type": "stream",
     "text": [
      "Epoch 270/500, Loss: 0.0786\n",
      "Test Accuracy at Epoch 270: 76.05%\n"
     ]
    },
    {
     "name": "stderr",
     "output_type": "stream",
     "text": [
      "Training Epochs:  54%|█████▍    | 270/500 [00:14<01:44,  2.20it/s]"
     ]
    },
    {
     "name": "stdout",
     "output_type": "stream",
     "text": [
      "Classification Report at Epoch 270:\n",
      "                  precision    recall  f1-score   support\n",
      "\n",
      "    infringement       0.84      0.65      0.74       194\n",
      "non_infringement       0.71      0.87      0.78       186\n",
      "\n",
      "        accuracy                           0.76       380\n",
      "       macro avg       0.77      0.76      0.76       380\n",
      "    weighted avg       0.78      0.76      0.76       380\n",
      "\n"
     ]
    },
    {
     "name": "stderr",
     "output_type": "stream",
     "text": [
      "Training Epochs:  56%|█████▌    | 280/500 [00:19<01:39,  2.22it/s]"
     ]
    },
    {
     "name": "stdout",
     "output_type": "stream",
     "text": [
      "Epoch 280/500, Loss: 0.0782\n",
      "Test Accuracy at Epoch 280: 76.32%\n",
      "Classification Report at Epoch 280:\n",
      "                  precision    recall  f1-score   support\n",
      "\n",
      "    infringement       0.84      0.66      0.74       194\n",
      "non_infringement       0.71      0.87      0.78       186\n",
      "\n",
      "        accuracy                           0.76       380\n",
      "       macro avg       0.78      0.77      0.76       380\n",
      "    weighted avg       0.78      0.76      0.76       380\n",
      "\n"
     ]
    },
    {
     "name": "stderr",
     "output_type": "stream",
     "text": [
      "Training Epochs:  58%|█████▊    | 289/500 [00:22<01:23,  2.52it/s]"
     ]
    },
    {
     "name": "stdout",
     "output_type": "stream",
     "text": [
      "Epoch 290/500, Loss: 0.0777\n"
     ]
    },
    {
     "name": "stderr",
     "output_type": "stream",
     "text": [
      "Training Epochs:  58%|█████▊    | 290/500 [00:23<01:49,  1.92it/s]"
     ]
    },
    {
     "name": "stdout",
     "output_type": "stream",
     "text": [
      "Test Accuracy at Epoch 290: 76.32%\n",
      "Classification Report at Epoch 290:\n",
      "                  precision    recall  f1-score   support\n",
      "\n",
      "    infringement       0.84      0.66      0.74       194\n",
      "non_infringement       0.71      0.87      0.78       186\n",
      "\n",
      "        accuracy                           0.76       380\n",
      "       macro avg       0.78      0.77      0.76       380\n",
      "    weighted avg       0.78      0.76      0.76       380\n",
      "\n"
     ]
    },
    {
     "name": "stderr",
     "output_type": "stream",
     "text": [
      "Training Epochs:  60%|██████    | 300/500 [00:36<03:05,  1.08it/s]"
     ]
    },
    {
     "name": "stdout",
     "output_type": "stream",
     "text": [
      "Epoch 300/500, Loss: 0.0779\n",
      "Test Accuracy at Epoch 300: 76.05%\n",
      "Classification Report at Epoch 300:\n",
      "                  precision    recall  f1-score   support\n",
      "\n",
      "    infringement       0.84      0.65      0.74       194\n",
      "non_infringement       0.71      0.87      0.78       186\n",
      "\n",
      "        accuracy                           0.76       380\n",
      "       macro avg       0.77      0.76      0.76       380\n",
      "    weighted avg       0.78      0.76      0.76       380\n",
      "\n"
     ]
    },
    {
     "name": "stderr",
     "output_type": "stream",
     "text": [
      "Training Epochs:  62%|██████▏   | 310/500 [00:40<01:22,  2.30it/s]"
     ]
    },
    {
     "name": "stdout",
     "output_type": "stream",
     "text": [
      "Epoch 310/500, Loss: 0.0920\n",
      "Test Accuracy at Epoch 310: 76.58%\n",
      "Classification Report at Epoch 310:\n",
      "                  precision    recall  f1-score   support\n",
      "\n",
      "    infringement       0.84      0.66      0.74       194\n",
      "non_infringement       0.71      0.87      0.78       186\n",
      "\n",
      "        accuracy                           0.77       380\n",
      "       macro avg       0.78      0.77      0.76       380\n",
      "    weighted avg       0.78      0.77      0.76       380\n",
      "\n"
     ]
    },
    {
     "name": "stderr",
     "output_type": "stream",
     "text": [
      "Training Epochs:  64%|██████▍   | 320/500 [00:52<04:29,  1.50s/it]"
     ]
    },
    {
     "name": "stdout",
     "output_type": "stream",
     "text": [
      "Epoch 320/500, Loss: 0.0815\n",
      "Test Accuracy at Epoch 320: 75.79%\n",
      "Classification Report at Epoch 320:\n",
      "                  precision    recall  f1-score   support\n",
      "\n",
      "    infringement       0.84      0.65      0.73       194\n",
      "non_infringement       0.70      0.87      0.78       186\n",
      "\n",
      "        accuracy                           0.76       380\n",
      "       macro avg       0.77      0.76      0.76       380\n",
      "    weighted avg       0.77      0.76      0.76       380\n",
      "\n"
     ]
    },
    {
     "name": "stderr",
     "output_type": "stream",
     "text": [
      "Training Epochs:  66%|██████▌   | 330/500 [00:57<01:17,  2.19it/s]"
     ]
    },
    {
     "name": "stdout",
     "output_type": "stream",
     "text": [
      "Epoch 330/500, Loss: 0.0781\n",
      "Test Accuracy at Epoch 330: 76.58%\n",
      "Classification Report at Epoch 330:\n",
      "                  precision    recall  f1-score   support\n",
      "\n",
      "    infringement       0.84      0.66      0.74       194\n",
      "non_infringement       0.71      0.87      0.78       186\n",
      "\n",
      "        accuracy                           0.77       380\n",
      "       macro avg       0.78      0.77      0.76       380\n",
      "    weighted avg       0.78      0.77      0.76       380\n",
      "\n"
     ]
    },
    {
     "name": "stderr",
     "output_type": "stream",
     "text": [
      "Training Epochs:  68%|██████▊   | 339/500 [01:02<02:35,  1.04it/s]"
     ]
    },
    {
     "name": "stdout",
     "output_type": "stream",
     "text": [
      "Epoch 340/500, Loss: 0.0770\n"
     ]
    },
    {
     "name": "stderr",
     "output_type": "stream",
     "text": [
      "Training Epochs:  68%|██████▊   | 340/500 [01:05<03:43,  1.40s/it]"
     ]
    },
    {
     "name": "stdout",
     "output_type": "stream",
     "text": [
      "Test Accuracy at Epoch 340: 76.84%\n",
      "Classification Report at Epoch 340:\n",
      "                  precision    recall  f1-score   support\n",
      "\n",
      "    infringement       0.84      0.67      0.75       194\n",
      "non_infringement       0.72      0.87      0.79       186\n",
      "\n",
      "        accuracy                           0.77       380\n",
      "       macro avg       0.78      0.77      0.77       380\n",
      "    weighted avg       0.78      0.77      0.77       380\n",
      "\n"
     ]
    },
    {
     "name": "stderr",
     "output_type": "stream",
     "text": [
      "Training Epochs:  71%|███████   | 355/500 [01:09<00:18,  7.96it/s]"
     ]
    },
    {
     "name": "stdout",
     "output_type": "stream",
     "text": [
      "Epoch 350/500, Loss: 0.0765\n",
      "Test Accuracy at Epoch 350: 76.84%\n",
      "Classification Report at Epoch 350:\n",
      "                  precision    recall  f1-score   support\n",
      "\n",
      "    infringement       0.84      0.67      0.75       194\n",
      "non_infringement       0.72      0.87      0.79       186\n",
      "\n",
      "        accuracy                           0.77       380\n",
      "       macro avg       0.78      0.77      0.77       380\n",
      "    weighted avg       0.78      0.77      0.77       380\n",
      "\n"
     ]
    },
    {
     "name": "stderr",
     "output_type": "stream",
     "text": [
      "Training Epochs:  73%|███████▎  | 365/500 [01:10<00:08, 16.68it/s]"
     ]
    },
    {
     "name": "stdout",
     "output_type": "stream",
     "text": [
      "Epoch 360/500, Loss: 0.0762\n",
      "Test Accuracy at Epoch 360: 76.84%\n",
      "Classification Report at Epoch 360:\n",
      "                  precision    recall  f1-score   support\n",
      "\n",
      "    infringement       0.84      0.67      0.75       194\n",
      "non_infringement       0.72      0.87      0.79       186\n",
      "\n",
      "        accuracy                           0.77       380\n",
      "       macro avg       0.78      0.77      0.77       380\n",
      "    weighted avg       0.78      0.77      0.77       380\n",
      "\n"
     ]
    },
    {
     "name": "stderr",
     "output_type": "stream",
     "text": [
      "Training Epochs:  75%|███████▌  | 375/500 [01:10<00:04, 25.34it/s]"
     ]
    },
    {
     "name": "stdout",
     "output_type": "stream",
     "text": [
      "Epoch 370/500, Loss: 0.0759\n",
      "Test Accuracy at Epoch 370: 76.84%\n",
      "Classification Report at Epoch 370:\n",
      "                  precision    recall  f1-score   support\n",
      "\n",
      "    infringement       0.84      0.67      0.75       194\n",
      "non_infringement       0.72      0.87      0.79       186\n",
      "\n",
      "        accuracy                           0.77       380\n",
      "       macro avg       0.78      0.77      0.77       380\n",
      "    weighted avg       0.78      0.77      0.77       380\n",
      "\n"
     ]
    },
    {
     "name": "stderr",
     "output_type": "stream",
     "text": [
      "Training Epochs:  77%|███████▋  | 385/500 [01:10<00:03, 32.11it/s]"
     ]
    },
    {
     "name": "stdout",
     "output_type": "stream",
     "text": [
      "Epoch 380/500, Loss: 0.0756\n",
      "Test Accuracy at Epoch 380: 76.84%\n",
      "Classification Report at Epoch 380:\n",
      "                  precision    recall  f1-score   support\n",
      "\n",
      "    infringement       0.84      0.67      0.75       194\n",
      "non_infringement       0.72      0.87      0.79       186\n",
      "\n",
      "        accuracy                           0.77       380\n",
      "       macro avg       0.78      0.77      0.77       380\n",
      "    weighted avg       0.78      0.77      0.77       380\n",
      "\n"
     ]
    },
    {
     "name": "stderr",
     "output_type": "stream",
     "text": [
      "Training Epochs:  79%|███████▉  | 395/500 [01:10<00:02, 36.05it/s]"
     ]
    },
    {
     "name": "stdout",
     "output_type": "stream",
     "text": [
      "Epoch 390/500, Loss: 0.0775\n",
      "Test Accuracy at Epoch 390: 76.58%\n",
      "Classification Report at Epoch 390:\n",
      "                  precision    recall  f1-score   support\n",
      "\n",
      "    infringement       0.84      0.67      0.74       194\n",
      "non_infringement       0.72      0.87      0.78       186\n",
      "\n",
      "        accuracy                           0.77       380\n",
      "       macro avg       0.78      0.77      0.76       380\n",
      "    weighted avg       0.78      0.77      0.76       380\n",
      "\n"
     ]
    },
    {
     "name": "stderr",
     "output_type": "stream",
     "text": [
      "Training Epochs:  81%|████████  | 405/500 [01:11<00:02, 38.75it/s]"
     ]
    },
    {
     "name": "stdout",
     "output_type": "stream",
     "text": [
      "Epoch 400/500, Loss: 0.0821\n",
      "Test Accuracy at Epoch 400: 76.58%\n",
      "Classification Report at Epoch 400:\n",
      "                  precision    recall  f1-score   support\n",
      "\n",
      "    infringement       0.84      0.66      0.74       194\n",
      "non_infringement       0.71      0.87      0.78       186\n",
      "\n",
      "        accuracy                           0.77       380\n",
      "       macro avg       0.78      0.77      0.76       380\n",
      "    weighted avg       0.78      0.77      0.76       380\n",
      "\n"
     ]
    },
    {
     "name": "stderr",
     "output_type": "stream",
     "text": [
      "Training Epochs:  82%|████████▏ | 410/500 [01:11<00:02, 30.83it/s]"
     ]
    },
    {
     "name": "stdout",
     "output_type": "stream",
     "text": [
      "Epoch 410/500, Loss: 0.0779\n",
      "Test Accuracy at Epoch 410: 77.11%\n",
      "Classification Report at Epoch 410:\n",
      "                  precision    recall  f1-score   support\n",
      "\n",
      "    infringement       0.85      0.67      0.75       194\n",
      "non_infringement       0.72      0.88      0.79       186\n",
      "\n",
      "        accuracy                           0.77       380\n",
      "       macro avg       0.78      0.77      0.77       380\n",
      "    weighted avg       0.79      0.77      0.77       380\n",
      "\n"
     ]
    },
    {
     "name": "stderr",
     "output_type": "stream",
     "text": [
      "Training Epochs:  86%|████████▌ | 428/500 [01:11<00:02, 32.79it/s]"
     ]
    },
    {
     "name": "stdout",
     "output_type": "stream",
     "text": [
      "Epoch 420/500, Loss: 0.0760\n",
      "Test Accuracy at Epoch 420: 76.84%\n",
      "Classification Report at Epoch 420:\n",
      "                  precision    recall  f1-score   support\n",
      "\n",
      "    infringement       0.84      0.67      0.75       194\n",
      "non_infringement       0.72      0.87      0.79       186\n",
      "\n",
      "        accuracy                           0.77       380\n",
      "       macro avg       0.78      0.77      0.77       380\n",
      "    weighted avg       0.78      0.77      0.77       380\n",
      "\n"
     ]
    },
    {
     "name": "stderr",
     "output_type": "stream",
     "text": [
      "Training Epochs:  87%|████████▋ | 436/500 [01:12<00:01, 32.82it/s]"
     ]
    },
    {
     "name": "stdout",
     "output_type": "stream",
     "text": [
      "Epoch 430/500, Loss: 0.0755\n",
      "Test Accuracy at Epoch 430: 76.84%\n",
      "Classification Report at Epoch 430:\n",
      "                  precision    recall  f1-score   support\n",
      "\n",
      "    infringement       0.85      0.66      0.75       194\n",
      "non_infringement       0.71      0.88      0.79       186\n",
      "\n",
      "        accuracy                           0.77       380\n",
      "       macro avg       0.78      0.77      0.77       380\n",
      "    weighted avg       0.78      0.77      0.77       380\n",
      "\n"
     ]
    },
    {
     "name": "stderr",
     "output_type": "stream",
     "text": [
      "Training Epochs:  89%|████████▉ | 445/500 [01:12<00:01, 34.92it/s]"
     ]
    },
    {
     "name": "stdout",
     "output_type": "stream",
     "text": [
      "Epoch 440/500, Loss: 0.0753\n",
      "Test Accuracy at Epoch 440: 77.11%\n",
      "Classification Report at Epoch 440:\n",
      "                  precision    recall  f1-score   support\n",
      "\n",
      "    infringement       0.85      0.67      0.75       194\n",
      "non_infringement       0.72      0.88      0.79       186\n",
      "\n",
      "        accuracy                           0.77       380\n",
      "       macro avg       0.78      0.77      0.77       380\n",
      "    weighted avg       0.79      0.77      0.77       380\n",
      "\n"
     ]
    },
    {
     "name": "stderr",
     "output_type": "stream",
     "text": [
      "Training Epochs:  91%|█████████ | 453/500 [01:12<00:01, 33.39it/s]"
     ]
    },
    {
     "name": "stdout",
     "output_type": "stream",
     "text": [
      "Epoch 450/500, Loss: 0.0750\n",
      "Test Accuracy at Epoch 450: 77.11%\n",
      "Classification Report at Epoch 450:\n",
      "                  precision    recall  f1-score   support\n",
      "\n",
      "    infringement       0.85      0.67      0.75       194\n",
      "non_infringement       0.72      0.88      0.79       186\n",
      "\n",
      "        accuracy                           0.77       380\n",
      "       macro avg       0.78      0.77      0.77       380\n",
      "    weighted avg       0.79      0.77      0.77       380\n",
      "\n"
     ]
    },
    {
     "name": "stderr",
     "output_type": "stream",
     "text": [
      "Training Epochs:  93%|█████████▎| 467/500 [01:12<00:00, 37.21it/s]"
     ]
    },
    {
     "name": "stdout",
     "output_type": "stream",
     "text": [
      "Epoch 460/500, Loss: 0.0749\n",
      "Test Accuracy at Epoch 460: 77.11%\n",
      "Classification Report at Epoch 460:\n",
      "                  precision    recall  f1-score   support\n",
      "\n",
      "    infringement       0.85      0.67      0.75       194\n",
      "non_infringement       0.72      0.88      0.79       186\n",
      "\n",
      "        accuracy                           0.77       380\n",
      "       macro avg       0.78      0.77      0.77       380\n",
      "    weighted avg       0.79      0.77      0.77       380\n",
      "\n"
     ]
    },
    {
     "name": "stderr",
     "output_type": "stream",
     "text": [
      "Training Epochs:  95%|█████████▌| 476/500 [01:13<00:00, 37.46it/s]"
     ]
    },
    {
     "name": "stdout",
     "output_type": "stream",
     "text": [
      "Epoch 470/500, Loss: 0.0747\n",
      "Test Accuracy at Epoch 470: 77.11%\n",
      "Classification Report at Epoch 470:\n",
      "                  precision    recall  f1-score   support\n",
      "\n",
      "    infringement       0.85      0.66      0.75       194\n",
      "non_infringement       0.72      0.88      0.79       186\n",
      "\n",
      "        accuracy                           0.77       380\n",
      "       macro avg       0.79      0.77      0.77       380\n",
      "    weighted avg       0.79      0.77      0.77       380\n",
      "\n"
     ]
    },
    {
     "name": "stderr",
     "output_type": "stream",
     "text": [
      "Training Epochs:  97%|█████████▋| 485/500 [01:13<00:00, 38.75it/s]"
     ]
    },
    {
     "name": "stdout",
     "output_type": "stream",
     "text": [
      "Epoch 480/500, Loss: 0.0747\n",
      "Test Accuracy at Epoch 480: 77.11%\n",
      "Classification Report at Epoch 480:\n",
      "                  precision    recall  f1-score   support\n",
      "\n",
      "    infringement       0.85      0.66      0.75       194\n",
      "non_infringement       0.72      0.88      0.79       186\n",
      "\n",
      "        accuracy                           0.77       380\n",
      "       macro avg       0.79      0.77      0.77       380\n",
      "    weighted avg       0.79      0.77      0.77       380\n",
      "\n"
     ]
    },
    {
     "name": "stderr",
     "output_type": "stream",
     "text": [
      "Training Epochs:  99%|█████████▉| 494/500 [01:13<00:00, 38.28it/s]"
     ]
    },
    {
     "name": "stdout",
     "output_type": "stream",
     "text": [
      "Epoch 490/500, Loss: 0.0765\n",
      "Test Accuracy at Epoch 490: 78.16%\n",
      "Classification Report at Epoch 490:\n",
      "                  precision    recall  f1-score   support\n",
      "\n",
      "    infringement       0.89      0.65      0.75       194\n",
      "non_infringement       0.72      0.92      0.80       186\n",
      "\n",
      "        accuracy                           0.78       380\n",
      "       macro avg       0.80      0.78      0.78       380\n",
      "    weighted avg       0.81      0.78      0.78       380\n",
      "\n"
     ]
    },
    {
     "name": "stderr",
     "output_type": "stream",
     "text": [
      "Training Epochs: 100%|██████████| 500/500 [01:13<00:00,  6.77it/s]\n",
      "/tmp/ipykernel_1758073/1936902679.py:47: FutureWarning: You are using `torch.load` with `weights_only=False` (the current default value), which uses the default pickle module implicitly. It is possible to construct malicious pickle data which will execute arbitrary code during unpickling (See https://github.com/pytorch/pytorch/blob/main/SECURITY.md#untrusted-models for more details). In a future release, the default value for `weights_only` will be flipped to `True`. This limits the functions that could be executed during unpickling. Arbitrary objects will no longer be allowed to be loaded via this mode unless they are explicitly allowlisted by the user via `torch.serialization.add_safe_globals`. We recommend you start setting `weights_only=True` for any use case where you don't have full control of the loaded file. Please open an issue on GitHub for any issues related to this experimental feature.\n",
      "  custom_mlp.load_state_dict(torch.load(checkpoint_path))\n"
     ]
    },
    {
     "name": "stdout",
     "output_type": "stream",
     "text": [
      "Epoch 500/500, Loss: 0.0798\n",
      "Test Accuracy at Epoch 500: 76.05%\n",
      "Classification Report at Epoch 500:\n",
      "                  precision    recall  f1-score   support\n",
      "\n",
      "    infringement       0.83      0.67      0.74       194\n",
      "non_infringement       0.71      0.85      0.78       186\n",
      "\n",
      "        accuracy                           0.76       380\n",
      "       macro avg       0.77      0.76      0.76       380\n",
      "    weighted avg       0.77      0.76      0.76       380\n",
      "\n"
     ]
    },
    {
     "data": {
      "image/png": "[encoded data removed]",
      "text/plain": [
       "<Figure size 1000x500 with 1 Axes>"
      ]
     },
     "metadata": {},
     "output_type": "display_data"
    },
    {
     "name": "stdout",
     "output_type": "stream",
     "text": [
      "Best Model was saved at epoch 70 with accuracy 78.16%\n",
      "Best Classification Report                   precision    recall  f1-score   support\n",
      "\n",
      "    infringement       0.83      0.67      0.74       194\n",
      "non_infringement       0.71      0.85      0.78       186\n",
      "\n",
      "        accuracy                           0.76       380\n",
      "       macro avg       0.77      0.76      0.76       380\n",
      "    weighted avg       0.77      0.76      0.76       380\n",
      "\n"
     ]
    }
   ],
   "source": [
    "\n",
    "# Run main\n",
    "main(model_name, non_infringement_file, infringement_file, checkpoint_file)\n"
   ]
  }
 ],
 "metadata": {
  "kernelspec": {
   "display_name": "sit",
   "language": "python",
   "name": "python3"
  },
  "language_info": {
   "codemirror_mode": {
    "name": "ipython",
    "version": 3
   },
   "file_extension": ".py",
   "mimetype": "text/x-python",
   "name": "python",
   "nbconvert_exporter": "python",
   "pygments_lexer": "ipython3",
   "version": "3.8.20"
  }
 },
 "nbformat": 4,
 "nbformat_minor": 2
}
