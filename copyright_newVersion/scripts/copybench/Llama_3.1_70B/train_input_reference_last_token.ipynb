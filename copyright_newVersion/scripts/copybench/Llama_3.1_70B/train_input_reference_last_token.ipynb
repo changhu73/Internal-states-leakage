{
 "cells": [
  {
   "cell_type": "code",
   "execution_count": null,
   "metadata": {},
   "outputs": [
    {
     "name": "stderr",
     "output_type": "stream",
     "text": [
      "/home/guangwei/miniconda3/envs/zdh/lib/python3.12/site-packages/tqdm/auto.py:21: TqdmWarning: IProgress not found. Please update jupyter and ipywidgets. See https://ipywidgets.readthedocs.io/en/stable/user_install.html\n",
      "  from .autonotebook import tqdm as notebook_tqdm\n"
     ]
    },
    {
     "name": "stdout",
     "output_type": "stream",
     "text": [
      "Loading model across multiple GPUs...\n"
     ]
    },
    {
     "name": "stderr",
     "output_type": "stream",
     "text": [
      "/home/guangwei/miniconda3/envs/zdh/lib/python3.12/site-packages/transformers/generation/configuration_utils.py:774: UserWarning: `return_dict_in_generate` is NOT set to `True`, but `output_hidden_states` is. When `return_dict_in_generate` is not `True`, `output_hidden_states` is ignored.\n",
      "  warnings.warn(\n",
      "Loading checkpoint shards: 100%|██████████| 30/30 [01:13<00:00,  2.46s/it]\n"
     ]
    },
    {
     "name": "stdout",
     "output_type": "stream",
     "text": [
      "Model loaded successfully.\n",
      "Extracting hidden states for non_infringement texts...\n"
     ]
    },
    {
     "name": "stderr",
     "output_type": "stream",
     "text": [
      "Processing data batches: 100%|██████████| 148/148 [18:07<00:00,  7.35s/it]\n"
     ]
    },
    {
     "name": "stdout",
     "output_type": "stream",
     "text": [
      "Extracting reference embeddings for non_infringement texts...\n"
     ]
    },
    {
     "name": "stderr",
     "output_type": "stream",
     "text": [
      "Processing references: 100%|██████████| 148/148 [00:01<00:00, 122.12it/s]\n"
     ]
    },
    {
     "name": "stdout",
     "output_type": "stream",
     "text": [
      "Extracting hidden states for infringement texts...\n"
     ]
    },
    {
     "name": "stderr",
     "output_type": "stream",
     "text": [
      "Processing data batches: 100%|██████████| 42/42 [05:14<00:00,  7.48s/it]\n"
     ]
    },
    {
     "name": "stdout",
     "output_type": "stream",
     "text": [
      "Extracting reference embeddings for infringement texts...\n"
     ]
    },
    {
     "name": "stderr",
     "output_type": "stream",
     "text": [
      "Processing references: 100%|██████████| 42/42 [00:00<00:00, 112.77it/s]\n"
     ]
    },
    {
     "name": "stdout",
     "output_type": "stream",
     "text": [
      "Data successfully split into training and test sets.\n"
     ]
    },
    {
     "name": "stderr",
     "output_type": "stream",
     "text": [
      "Training Epochs:   4%|▍         | 10/250 [00:00<00:03, 73.68it/s]"
     ]
    },
    {
     "name": "stdout",
     "output_type": "stream",
     "text": [
      "Epoch 10/250, Loss: 5.9786\n",
      "Test Accuracy: 72.37%, F1-score: 0.8397\n",
      "New best model saved with Accuracy 72.37%.\n",
      "New best model saved with F1-score 0.8397.\n",
      "Epoch 20/250, Loss: 4.7784\n"
     ]
    },
    {
     "name": "stderr",
     "output_type": "stream",
     "text": [
      "Training Epochs:  12%|█▏        | 30/250 [00:00<00:01, 136.68it/s]"
     ]
    },
    {
     "name": "stdout",
     "output_type": "stream",
     "text": [
      "Test Accuracy: 33.55%, F1-score: 0.3129\n",
      "Epoch 30/250, Loss: 1.7820\n",
      "Test Accuracy: 73.68%, F1-score: 0.8462\n",
      "New best model saved with Accuracy 73.68%.\n",
      "New best model saved with F1-score 0.8462.\n",
      "Epoch 40/250, Loss: 0.6242\n",
      "Test Accuracy: 34.21%, F1-score: 0.3243\n"
     ]
    },
    {
     "name": "stderr",
     "output_type": "stream",
     "text": [
      "Training Epochs:  20%|██        | 51/250 [00:00<00:01, 167.30it/s]"
     ]
    },
    {
     "name": "stdout",
     "output_type": "stream",
     "text": [
      "Epoch 50/250, Loss: 0.4609\n",
      "Test Accuracy: 74.34%, F1-score: 0.8506\n",
      "New best model saved with Accuracy 74.34%.\n",
      "New best model saved with F1-score 0.8506.\n",
      "Epoch 60/250, Loss: 0.4160\n",
      "Test Accuracy: 74.34%, F1-score: 0.8506\n"
     ]
    },
    {
     "name": "stderr",
     "output_type": "stream",
     "text": [
      "Training Epochs:  41%|████      | 103/250 [00:00<00:00, 298.14it/s]"
     ]
    },
    {
     "name": "stdout",
     "output_type": "stream",
     "text": [
      "Epoch 70/250, Loss: 0.3974\n",
      "Test Accuracy: 74.34%, F1-score: 0.8506\n",
      "Epoch 80/250, Loss: 0.3889\n",
      "Test Accuracy: 74.34%, F1-score: 0.8506\n",
      "Epoch 90/250, Loss: 0.3860\n",
      "Test Accuracy: 74.34%, F1-score: 0.8506\n",
      "Epoch 100/250, Loss: 0.3839\n",
      "Test Accuracy: 74.34%, F1-score: 0.8506\n",
      "Epoch 110/250, Loss: 0.3819\n",
      "Test Accuracy: 74.34%, F1-score: 0.8506\n",
      "Epoch 120/250, Loss: 0.3799\n",
      "Test Accuracy: 74.34%, F1-score: 0.8506\n"
     ]
    },
    {
     "name": "stderr",
     "output_type": "stream",
     "text": [
      "Training Epochs:  62%|██████▏   | 154/250 [00:00<00:00, 369.89it/s]"
     ]
    },
    {
     "name": "stdout",
     "output_type": "stream",
     "text": [
      "Epoch 130/250, Loss: 0.3778\n",
      "Test Accuracy: 74.34%, F1-score: 0.8506\n",
      "Epoch 140/250, Loss: 0.3751\n",
      "Test Accuracy: 74.34%, F1-score: 0.8506\n",
      "Epoch 150/250, Loss: 0.3712\n",
      "Test Accuracy: 74.34%, F1-score: 0.8506\n",
      "Epoch 160/250, Loss: 0.3657\n",
      "Test Accuracy: 74.34%, F1-score: 0.8506\n",
      "Epoch 170/250, Loss: 0.3577\n"
     ]
    },
    {
     "name": "stderr",
     "output_type": "stream",
     "text": [
      "Training Epochs:  82%|████████▏ | 205/250 [00:00<00:00, 414.98it/s]"
     ]
    },
    {
     "name": "stdout",
     "output_type": "stream",
     "text": [
      "Test Accuracy: 74.34%, F1-score: 0.8506\n",
      "Epoch 180/250, Loss: 0.3471\n",
      "Test Accuracy: 74.34%, F1-score: 0.8506\n",
      "Epoch 190/250, Loss: 0.3385\n",
      "Test Accuracy: 74.34%, F1-score: 0.8506\n",
      "Epoch 200/250, Loss: 0.3446\n",
      "Test Accuracy: 74.34%, F1-score: 0.8506\n",
      "Epoch 210/250, Loss: 0.3511\n",
      "Test Accuracy: 74.34%, F1-score: 0.8506\n",
      "Epoch 220/250, Loss: 0.3397\n",
      "Test Accuracy: 74.34%, F1-score: 0.8506\n",
      "Epoch 230/250, Loss: 0.3300\n",
      "Test Accuracy: 75.00%, F1-score: 0.8538\n"
     ]
    },
    {
     "name": "stderr",
     "output_type": "stream",
     "text": [
      "Training Epochs: 100%|██████████| 250/250 [00:00<00:00, 284.28it/s]"
     ]
    },
    {
     "name": "stdout",
     "output_type": "stream",
     "text": [
      "New best model saved with Accuracy 75.00%.\n",
      "New best model saved with F1-score 0.8538.\n",
      "Epoch 240/250, Loss: 0.3210\n",
      "Test Accuracy: 75.00%, F1-score: 0.8538\n",
      "Epoch 250/250, Loss: 0.3320\n",
      "Test Accuracy: 61.84%, F1-score: 0.7456\n"
     ]
    },
    {
     "name": "stderr",
     "output_type": "stream",
     "text": [
      "\n"
     ]
    },
    {
     "data": {
      "image/png": "[encoded data removed]",
      "text/plain": [
       "<Figure size 640x480 with 1 Axes>"
      ]
     },
     "metadata": {},
     "output_type": "display_data"
    },
    {
     "name": "stdout",
     "output_type": "stream",
     "text": [
      "Training complete. Best Accuracy: 75.00%, Best F1-score: 0.8538\n"
     ]
    },
    {
     "ename": "",
     "evalue": "",
     "output_type": "error",
     "traceback": [
      "\u001b[1;31mThe Kernel crashed while executing code in the current cell or a previous cell. \n",
      "\u001b[1;31mPlease review the code in the cell(s) to identify a possible cause of the failure. \n",
      "\u001b[1;31mClick <a href='https://aka.ms/vscodeJupyterKernelCrash'>here</a> for more info. \n",
      "\u001b[1;31mView Jupyter <a href='command:jupyter.viewOutput'>log</a> for further details."
     ]
    }
   ],
   "source": [
    "import torch\n",
    "import torch.nn as nn\n",
    "import numpy as np\n",
    "from sklearn.metrics import accuracy_score, classification_report, f1_score\n",
    "import matplotlib.pyplot as plt\n",
    "from tqdm import tqdm\n",
    "from transformers import AutoTokenizer, AutoModelForCausalLM, AutoModel\n",
    "import json\n",
    "import os\n",
    "\n",
    "os.environ[\"CUDA_VISIBLE_DEVICES\"] = \"1,2,3,4\"\n",
    "\n",
    "# Variables\n",
    "model_name = '/raid/data/guangwei/huggingface/hub/models--meta-llama--Llama-3.1-70B/snapshots/349b2ddb53ce8f2849a6c168a81980ab25258dac/'\n",
    "non_infringement_file = '/home/guangwei/LLM-COPYRIGHT/copyright_newVersion/test_division/literal.non_infringement.json'\n",
    "infringement_file = '/home/guangwei/LLM-COPYRIGHT/copyright_newVersion/test_division/literal.infringement.json'\n",
    "checkpoint_file = '/home/guangwei/LLM-COPYRIGHT/copyright_newVersion/models/1.pth'\n",
    "\n",
    "# Define CustomMLP for internal states train\n",
    "class CustomMLP(nn.Module):\n",
    "    def __init__(self, input_dim, hidden_dim):\n",
    "        super(CustomMLP, self).__init__()\n",
    "        self.down = nn.Linear(input_dim, hidden_dim)\n",
    "        self.gate = nn.Linear(input_dim, hidden_dim)\n",
    "        self.up = nn.Linear(hidden_dim, 1)\n",
    "        self.activation = nn.SiLU()\n",
    "\n",
    "    def forward(self, x):\n",
    "        down_output = self.down(x)\n",
    "        gate_output = self.gate(x)\n",
    "        gated_output = down_output * self.activation(gate_output)\n",
    "        return self.up(gated_output)\n",
    "\n",
    "\n",
    "# 提取隐藏状态\n",
    "def extract_hidden_states(texts, model, tokenizer, batch_size=4):\n",
    "    hidden_states = []\n",
    "    for i in tqdm(range(0, len(texts), batch_size), desc=\"Processing data batches\"):\n",
    "        batch_texts = texts[i:i + batch_size]\n",
    "        inputs = tokenizer(batch_texts, return_tensors=\"pt\", padding=True, truncation=True)\n",
    "        inputs = {key: val.to(\"cuda\") for key, val in inputs.items()}  # 移动到 GPU\n",
    "        with torch.no_grad():\n",
    "            outputs = model(**inputs)\n",
    "        last_layer_hidden_states = outputs.hidden_states[-1]\n",
    "        last_token_hidden_states = last_layer_hidden_states[:, -1, :].cpu().numpy()  # 最后一个token的隐藏状态\n",
    "        hidden_states.append(last_token_hidden_states)\n",
    "    return np.vstack(hidden_states)\n",
    "\n",
    "def extract_reference_embeddings(references, model, tokenizer, batch_size=4):\n",
    "    device = torch.device(\"cuda\" if torch.cuda.is_available() else \"cpu\")\n",
    "    model.to(device)\n",
    "    embeddings = []\n",
    "    for i in tqdm(range(0, len(references), batch_size), desc=\"Processing references\"):\n",
    "        batch_references = references[i:i + batch_size]\n",
    "        inputs = tokenizer(batch_references, return_tensors=\"pt\", padding=True, truncation=True)\n",
    "        inputs = {key: val.to(device) for key, val in inputs.items()}  # Move inputs to GPU\n",
    "        with torch.no_grad():\n",
    "            outputs = model(**inputs)\n",
    "        # Use the pooler output (for sequence classification tasks, typically the [CLS] token)\n",
    "        embeddings.append(outputs.pooler_output.cpu().numpy())\n",
    "    return np.vstack(embeddings)\n",
    "\n",
    "# Load data for infringement & non-infringement\n",
    "def load_data(non_infringement_file, infringement_file):\n",
    "    with open(non_infringement_file, 'r', encoding='utf-8') as file:\n",
    "        non_infringement_json_data = json.load(file)\n",
    "\n",
    "    non_infringement_outputs = [entry['input'] for entry in non_infringement_json_data]\n",
    "    non_infringement_references = [entry['reference'] for entry in non_infringement_json_data]\n",
    "    y_non_infringement = [1] * len(non_infringement_outputs)\n",
    "\n",
    "    with open(infringement_file, 'r', encoding='utf-8') as file:\n",
    "        infringement_json_data = json.load(file)\n",
    "\n",
    "    infringement_outputs = [entry['input'] for entry in infringement_json_data]\n",
    "    infringement_references = [entry['reference'] for entry in infringement_json_data]\n",
    "    y_infringement = [0] * len(infringement_outputs)\n",
    "\n",
    "    return non_infringement_outputs, non_infringement_references, y_non_infringement, infringement_outputs, infringement_references, y_infringement\n",
    "\n",
    "# 加载模型\n",
    "def load_large_model(model_name):\n",
    "    \"\"\"加载超大模型并在多卡上分布\"\"\"\n",
    "    print(\"Loading model across multiple GPUs...\")\n",
    "    model = AutoModelForCausalLM.from_pretrained(\n",
    "        model_name,\n",
    "        device_map=\"balanced\",  # 自动平衡分布到多张 GPU\n",
    "        offload_folder=\"offload\",  # 如果显存不足，部分权重会被卸载到磁盘\n",
    "        offload_state_dict=True,\n",
    "        output_hidden_states=True\n",
    "    )\n",
    "    print(\"Model loaded successfully.\")\n",
    "    return model\n",
    "\n",
    "\n",
    "def train_model(X_train, y_train, X_test, y_test, input_dim, hidden_dim, epochs=250, lr=0.001, checkpoint_path=checkpoint_file):\n",
    "    custom_mlp = CustomMLP(input_dim, hidden_dim).to(\"cuda\")\n",
    "    criterion = nn.BCEWithLogitsLoss()\n",
    "    optimizer = torch.optim.Adam(custom_mlp.parameters(), lr=lr)\n",
    "\n",
    "    X_train_tensor = torch.tensor(X_train, dtype=torch.float32).to(\"cuda\")\n",
    "    y_train_tensor = torch.tensor(y_train, dtype=torch.float32).unsqueeze(1).to(\"cuda\")\n",
    "\n",
    "    best_f1 = -float('inf')  # 初始化最佳 F1 分数\n",
    "    best_accuracy = -float('inf')  # 初始化最佳准确率\n",
    "    losses = []\n",
    "\n",
    "    for epoch in tqdm(range(epochs), desc=\"Training Epochs\"):\n",
    "        custom_mlp.train()\n",
    "        optimizer.zero_grad()\n",
    "        outputs = custom_mlp(X_train_tensor)\n",
    "        loss = criterion(outputs, y_train_tensor)\n",
    "        loss.backward()\n",
    "        optimizer.step()\n",
    "        losses.append(loss.item())\n",
    "\n",
    "        if (epoch + 1) % 10 == 0:\n",
    "            print(f\"Epoch {epoch + 1}/{epochs}, Loss: {loss.item():.4f}\")\n",
    "            # 测试模型\n",
    "            custom_mlp.eval()\n",
    "            X_test_tensor = torch.tensor(X_test, dtype=torch.float32).to(\"cuda\")\n",
    "            with torch.no_grad():\n",
    "                y_pred_logits = custom_mlp(X_test_tensor)\n",
    "                y_pred = (torch.sigmoid(y_pred_logits) > 0.5).float().cpu().numpy()\n",
    "\n",
    "            accuracy = accuracy_score(y_test, y_pred)\n",
    "            f1 = f1_score(y_test, y_pred)\n",
    "            print(f\"Test Accuracy: {accuracy * 100:.2f}%, F1-score: {f1:.4f}\")\n",
    "            \n",
    "            # 更新最佳准确率和F1分数\n",
    "            if accuracy > best_accuracy:\n",
    "                best_accuracy = accuracy\n",
    "                torch.save(custom_mlp.state_dict(), checkpoint_path)  # 保存模型\n",
    "                print(f\"New best model saved with Accuracy {best_accuracy * 100:.2f}%.\")\n",
    "\n",
    "            if f1 > best_f1:\n",
    "                best_f1 = f1\n",
    "                torch.save(custom_mlp.state_dict(), checkpoint_path)  # 保存模型\n",
    "                print(f\"New best model saved with F1-score {best_f1:.4f}.\")\n",
    "\n",
    "    # 绘制训练损失曲线\n",
    "    plt.plot(losses)\n",
    "    plt.title(\"Training Loss Curve\")\n",
    "    plt.xlabel(\"Epoch\")\n",
    "    plt.ylabel(\"Loss\")\n",
    "    plt.show()\n",
    "\n",
    "    return custom_mlp, best_accuracy, best_f1\n",
    "\n",
    "\n",
    "# 加载数据\n",
    "tokenizer = AutoTokenizer.from_pretrained(model_name, model_max_length=512)\n",
    "model = load_large_model(model_name)\n",
    "tokenizer.pad_token = tokenizer.eos_token\n",
    "bert_tokenizer = AutoTokenizer.from_pretrained('google-bert/bert-base-uncased')\n",
    "bert_model = AutoModel.from_pretrained('google-bert/bert-base-uncased')\n",
    "bert_tokenizer.pad_token = tokenizer.eos_token\n",
    "\n",
    "non_infringement_outputs, non_infringement_references, y_non_infringement, infringement_outputs, infringement_references, y_infringement = load_data(\n",
    "    non_infringement_file, infringement_file\n",
    ")\n",
    "\n",
    "y_non_infringement = np.array(y_non_infringement)\n",
    "y_infringement = np.array(y_infringement)\n",
    "\n",
    "# Extract hidden states and reference embeddings\n",
    "print(\"Extracting hidden states for non_infringement texts...\")\n",
    "X_non_infringement = extract_hidden_states(non_infringement_outputs, model, tokenizer)\n",
    "print(\"Extracting reference embeddings for non_infringement texts...\")\n",
    "reference_embeddings_non_infringement = extract_reference_embeddings(non_infringement_references, bert_model, bert_tokenizer)\n",
    "X_non_infringement_combined = np.hstack([X_non_infringement, reference_embeddings_non_infringement])\n",
    "\n",
    "print(\"Extracting hidden states for infringement texts...\")\n",
    "X_infringement = extract_hidden_states(infringement_outputs, model, tokenizer)\n",
    "print(\"Extracting reference embeddings for infringement texts...\")\n",
    "reference_embeddings_infringement = extract_reference_embeddings(infringement_references, bert_model, bert_tokenizer)\n",
    "X_infringement_combined = np.hstack([X_infringement, reference_embeddings_infringement])\n",
    "\n",
    "# Split data into train and test sets\n",
    "split_index_non_infringement = int(0.8 * len(X_non_infringement_combined))\n",
    "X_non_infringement_train = X_non_infringement_combined[:split_index_non_infringement]\n",
    "X_non_infringement_test = X_non_infringement_combined[split_index_non_infringement:]\n",
    "y_non_infringement_train = y_non_infringement[:split_index_non_infringement]\n",
    "y_non_infringement_test = y_non_infringement[split_index_non_infringement:]\n",
    "\n",
    "split_index_infringement = int(0.8 * len(X_infringement_combined))\n",
    "X_infringement_train = X_infringement_combined[:split_index_infringement]\n",
    "X_infringement_test = X_infringement_combined[split_index_infringement:]\n",
    "y_infringement_train = y_infringement[:split_index_infringement]\n",
    "y_infringement_test = y_infringement[split_index_infringement:]\n",
    "\n",
    "X_train = np.vstack((X_non_infringement_train, X_infringement_train))\n",
    "X_test = np.vstack((X_non_infringement_test, X_infringement_test))\n",
    "y_train = np.concatenate((y_non_infringement_train, y_infringement_train))\n",
    "y_test = np.concatenate((y_non_infringement_test, y_infringement_test))\n",
    "\n",
    "print(\"Data successfully split into training and test sets.\")\n",
    "\n",
    "# 定义参数并训练\n",
    "input_dim = X_train.shape[1]\n",
    "hidden_dim = 256\n",
    "\n",
    "trained_model, best_accuracy, best_f1 = train_model(X_train, y_train, X_test, y_test, input_dim, hidden_dim)\n",
    "print(f\"Training complete. Best Accuracy: {best_accuracy * 100:.2f}%, Best F1-score: {best_f1:.4f}\")"
   ]
  }
 ],
 "metadata": {
  "kernelspec": {
   "display_name": "zdh",
   "language": "python",
   "name": "python3"
  },
  "language_info": {
   "codemirror_mode": {
    "name": "ipython",
    "version": 3
   },
   "file_extension": ".py",
   "mimetype": "text/x-python",
   "name": "python",
   "nbconvert_exporter": "python",
   "pygments_lexer": "ipython3",
   "version": "3.12.3"
  }
 },
 "nbformat": 4,
 "nbformat_minor": 2
}
