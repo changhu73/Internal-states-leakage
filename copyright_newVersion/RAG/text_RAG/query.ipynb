{
 "cells": [
  {
   "cell_type": "code",
   "execution_count": 1,
   "metadata": {},
   "outputs": [
    {
     "name": "stderr",
     "output_type": "stream",
     "text": [
      "/home/guangwei/miniconda3/envs/zdh/lib/python3.12/site-packages/tqdm/auto.py:21: TqdmWarning: IProgress not found. Please update jupyter and ipywidgets. See https://ipywidgets.readthedocs.io/en/stable/user_install.html\n",
      "  from .autonotebook import tqdm as notebook_tqdm\n"
     ]
    },
    {
     "name": "stdout",
     "output_type": "stream",
     "text": [
      "The most similar reference_text is:\n",
      "from opposite ends of a football pitch. 'I'M A FRIEND OF HARRY'S FROM SCHOOL –' Uncle Vernon's small eyes swivelled around to Harry, who was rooted to the spot. 'THERE\n"
     ]
    }
   ],
   "source": [
    "import sqlite3\n",
    "import faiss\n",
    "import numpy as np\n",
    "from sentence_transformers import SentenceTransformer\n",
    "import torch\n",
    "\n",
    "# Set device for CUDA\n",
    "device = 'cuda' if torch.cuda.is_available() else 'cpu'\n",
    "\n",
    "# Load the Sentence Transformer model\n",
    "model = SentenceTransformer('sentence-transformers/all-roberta-large-v1')\n",
    "model = model.to(device)\n",
    "\n",
    "# Load FAISS index\n",
    "def load_faiss_index(index_path='faiss_index.index'):\n",
    "    index = faiss.read_index(index_path)\n",
    "    return index\n",
    "\n",
    "# Load all documents from SQLite database\n",
    "def load_documents_from_db(db_name='rag_db.sqlite'):\n",
    "    conn = sqlite3.connect(db_name)\n",
    "    cursor = conn.cursor()\n",
    "\n",
    "    cursor.execute(\"SELECT id, document_text, reference_text FROM documents\")\n",
    "    documents = cursor.fetchall()\n",
    "\n",
    "    conn.close()\n",
    "    return documents\n",
    "\n",
    "# Query function: input a sentence and return the most similar reference\n",
    "def query_most_similar_document(query, top_k=1):\n",
    "    # Load FAISS index\n",
    "    index = load_faiss_index()\n",
    "\n",
    "    # Convert query input to vector\n",
    "    query_vector = model.encode([query], convert_to_tensor=True, device=device).cpu().numpy()\n",
    "\n",
    "    # Search in FAISS index\n",
    "    _, indices = index.search(query_vector, top_k)\n",
    "\n",
    "    # Load all documents from the database\n",
    "    documents = load_documents_from_db()\n",
    "\n",
    "    # Get the most similar documents\n",
    "    similar_documents = [documents[i] for i in indices[0]]\n",
    "\n",
    "    # Return corresponding reference_text\n",
    "    return [doc[2] for doc in similar_documents]\n",
    "\n",
    "# Define the query sentence directly in the code\n",
    "query = \"direction of the mouthpiece. 'WHO ARE YOU?' 'RON WEASLEY!' Ron bellowed back, as though he and Uncle Vernon were speaking\"\n",
    "\n",
    "# Set top_k to 1 to get the most similar result\n",
    "top_k = 1\n",
    "\n",
    "# Call the query function\n",
    "most_similar_references = query_most_similar_document(query, top_k=top_k)\n",
    "\n",
    "# Print query results\n",
    "if most_similar_references:\n",
    "    print(\"The most similar reference_text is:\")\n",
    "    for ref in most_similar_references:\n",
    "        print(ref)\n",
    "else:\n",
    "    print(\"No similar document found.\")\n"
   ]
  }
 ],
 "metadata": {
  "kernelspec": {
   "display_name": "zdh",
   "language": "python",
   "name": "python3"
  },
  "language_info": {
   "codemirror_mode": {
    "name": "ipython",
    "version": 3
   },
   "file_extension": ".py",
   "mimetype": "text/x-python",
   "name": "python",
   "nbconvert_exporter": "python",
   "pygments_lexer": "ipython3",
   "version": "3.12.3"
  }
 },
 "nbformat": 4,
 "nbformat_minor": 2
}
