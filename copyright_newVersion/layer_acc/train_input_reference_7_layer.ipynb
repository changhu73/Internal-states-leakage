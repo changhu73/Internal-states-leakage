{
 "cells": [
  {
   "cell_type": "code",
   "execution_count": 1,
   "metadata": {},
   "outputs": [
    {
     "name": "stderr",
     "output_type": "stream",
     "text": [
      "/home/guangwei/miniconda3/envs/zdh/lib/python3.12/site-packages/tqdm/auto.py:21: TqdmWarning: IProgress not found. Please update jupyter and ipywidgets. See https://ipywidgets.readthedocs.io/en/stable/user_install.html\n",
      "  from .autonotebook import tqdm as notebook_tqdm\n"
     ]
    }
   ],
   "source": [
    "# import packages & variables\n",
    "import argparse\n",
    "import torch\n",
    "import torch.nn as nn\n",
    "import numpy as np\n",
    "from sklearn.metrics import accuracy_score, classification_report\n",
    "import matplotlib.pyplot as plt\n",
    "from tqdm import tqdm\n",
    "from transformers import AutoTokenizer, AutoModelForCausalLM, AutoModel, AutoModelForSequenceClassification\n",
    "import json\n",
    "import os\n",
    "\n",
    "os.environ[\"CUDA_VISIBLE_DEVICES\"] = \"5\"\n",
    "\n",
    "# Parameters\n",
    "model_name = 'meta-llama/Meta-Llama-3.1-8B'\n",
    "non_infringement_file = '/home/guangwei/LLM-COPYRIGHT/copyright_newVersion/test_division/extra_30.non_infringement.json'\n",
    "infringement_file = '/home/guangwei/LLM-COPYRIGHT/copyright_newVersion/test_division/extra_30.infringement.json'\n",
    "checkpoint_file = '/home/guangwei/LLM-COPYRIGHT/copyright_newVersion/models/train_input_reference_0_layer.pth'\n"
   ]
  },
  {
   "cell_type": "code",
   "execution_count": 2,
   "metadata": {},
   "outputs": [],
   "source": [
    "# Define CustumMLP for internal states train\n",
    "class CustomMLP(nn.Module):\n",
    "    def __init__(self, input_dim, hidden_dim):\n",
    "        super(CustomMLP, self).__init__()\n",
    "        self.down = nn.Linear(input_dim, hidden_dim)\n",
    "        self.gate = nn.Linear(input_dim, hidden_dim)\n",
    "        self.up = nn.Linear(hidden_dim, 1)\n",
    "        self.activation = nn.SiLU()\n",
    "\n",
    "    def forward(self, x):\n",
    "        down_output = self.down(x)\n",
    "        gate_output = self.gate(x)\n",
    "        gated_output = down_output * self.activation(gate_output)\n",
    "        return self.up(gated_output)"
   ]
  },
  {
   "cell_type": "code",
   "execution_count": 3,
   "metadata": {},
   "outputs": [],
   "source": [
    "# Extract hidden states/reference embeddings\n",
    "def extract_hidden_states(texts, model, tokenizer, batch_size=4):\n",
    "    device = torch.device(\"cuda\" if torch.cuda.is_available() else \"cpu\")\n",
    "    model.to(device)\n",
    "    model = nn.DataParallel(model)\n",
    "    hidden_states = []\n",
    "    \n",
    "    for i in tqdm(range(0, len(texts), batch_size), desc=\"Processing data batches\"):\n",
    "        batch_texts = texts[i:i + batch_size]\n",
    "        inputs = tokenizer(batch_texts, return_tensors=\"pt\", padding=True, truncation=True).to(device)\n",
    "        \n",
    "        with torch.no_grad():\n",
    "            outputs = model(**inputs)\n",
    "        hidden_states.append(outputs.hidden_states[7].mean(dim=1).cpu().numpy())\n",
    "    \n",
    "    return np.vstack(hidden_states)\n",
    "\n",
    "\n",
    "def extract_reference_embeddings(references, model, tokenizer, batch_size=4):\n",
    "    device = torch.device(\"cuda\" if torch.cuda.is_available() else \"cpu\")\n",
    "    model.to(device)\n",
    "    model = nn.DataParallel(model)\n",
    "    embeddings = []\n",
    "    for i in tqdm(range(0, len(references), batch_size), desc=\"Processing references\"):\n",
    "        batch_references = references[i:i + batch_size]\n",
    "        inputs = tokenizer(batch_references, return_tensors=\"pt\", padding=True, truncation=True).to(device)\n",
    "        with torch.no_grad():\n",
    "            outputs = model(**inputs)\n",
    "        embeddings.append(outputs.pooler_output.cpu().numpy())\n",
    "    return np.vstack(embeddings)"
   ]
  },
  {
   "cell_type": "code",
   "execution_count": 4,
   "metadata": {},
   "outputs": [],
   "source": [
    "# load data for infringement & non infringement\n",
    "def load_data(non_infringement_file, infringement_file):\n",
    "    with open(non_infringement_file, 'r', encoding='utf-8') as file:\n",
    "        non_infringement_json_data = json.load(file)\n",
    "\n",
    "    non_infringement_outputs = [entry['input'] for entry in non_infringement_json_data]\n",
    "    non_infringement_references = [entry['reference'] for entry in non_infringement_json_data]\n",
    "    y_non_infringement = [1] * len(non_infringement_outputs)\n",
    "\n",
    "    with open(infringement_file, 'r', encoding='utf-8') as file:\n",
    "        infringement_json_data = json.load(file)\n",
    "\n",
    "    infringement_outputs = [entry['input'] for entry in infringement_json_data]\n",
    "    infringement_references = [entry['reference'] for entry in infringement_json_data]\n",
    "    y_infringement = [0] * len(infringement_outputs)\n",
    "\n",
    "    return non_infringement_outputs, non_infringement_references, y_non_infringement, infringement_outputs, infringement_references, y_infringement"
   ]
  },
  {
   "cell_type": "code",
   "execution_count": 5,
   "metadata": {},
   "outputs": [],
   "source": [
    "from sklearn.metrics import accuracy_score, classification_report, f1_score\n",
    "\n",
    "# Train for best model\n",
    "def train_model(X_train, y_train, X_test, y_test, input_dim, hidden_dim, epochs=2000, lr=0.001, checkpoint_path=checkpoint_file):\n",
    "    custom_mlp = CustomMLP(input_dim, hidden_dim)\n",
    "    criterion = nn.BCEWithLogitsLoss()\n",
    "    optimizer = torch.optim.Adam(custom_mlp.parameters(), lr=lr)\n",
    "\n",
    "    X_train_tensor = torch.tensor(X_train, dtype=torch.float32)\n",
    "    y_train_tensor = torch.tensor(y_train, dtype=torch.float32).unsqueeze(1)\n",
    "\n",
    "    best_accuracy = -float('inf')\n",
    "    best_f1 = -float('inf')  # Track best F1-score\n",
    "    best_model_state = None\n",
    "    best_epoch = 0\n",
    "    losses = []\n",
    "\n",
    "    for epoch in tqdm(range(epochs), desc=\"Training Epochs\"):\n",
    "        custom_mlp.train()\n",
    "        optimizer.zero_grad()\n",
    "        outputs = custom_mlp(X_train_tensor)\n",
    "        loss = criterion(outputs, y_train_tensor)\n",
    "        loss.backward()\n",
    "        optimizer.step()\n",
    "        losses.append(loss.item())\n",
    "\n",
    "        # Every 10 epochs, evaluate the model\n",
    "        if (epoch + 1) % 10 == 0:\n",
    "            print(f\"Epoch {epoch + 1}/{epochs}, Loss: {loss.item():.4f}\")\n",
    "            \n",
    "            custom_mlp.eval()\n",
    "            X_test_tensor = torch.tensor(X_test, dtype=torch.float32)\n",
    "            with torch.no_grad():\n",
    "                y_pred_logits = custom_mlp(X_test_tensor)\n",
    "                y_pred = (torch.sigmoid(y_pred_logits) > 0.5).float().numpy()\n",
    "            \n",
    "            # Calculate accuracy and F1-score\n",
    "            accuracy = accuracy_score(y_test, y_pred)\n",
    "            f1 = f1_score(y_test, y_pred)  # F1-score calculation\n",
    "            \n",
    "            print(f\"Test Accuracy at Epoch {epoch + 1}: {accuracy * 100:.2f}%\")\n",
    "            print(f\"Test F1-score at Epoch {epoch + 1}: {f1:.4f}\")\n",
    "            \n",
    "            # Generate classification report\n",
    "            report = classification_report(y_test, y_pred, target_names=[\"infringement\", \"non_infringement\"])\n",
    "            print(f\"Classification Report at Epoch {epoch + 1}:\\n{report}\")\n",
    "\n",
    "            # Save the model if it achieves a better F1-score\n",
    "            if f1 > best_f1:\n",
    "                best_accuracy = accuracy\n",
    "                best_f1 = f1\n",
    "                best_model_state = custom_mlp.state_dict()\n",
    "                best_epoch = epoch + 1\n",
    "                torch.save(best_model_state, checkpoint_path)\n",
    "                print(f\"New best model saved with F1-score {best_f1:.4f} at epoch {best_epoch}\")\n",
    "                print(f\"Best Classification Report at Epoch {best_epoch}:\\n{report}\")\n",
    "\n",
    "    # Load the best model state\n",
    "    custom_mlp.load_state_dict(torch.load(checkpoint_path))\n",
    "\n",
    "    # Plot loss curve\n",
    "    plt.figure(figsize=(10, 5))\n",
    "    plt.plot(losses, label='Training Loss')\n",
    "    plt.xlabel('Epoch')\n",
    "    plt.ylabel('Loss')\n",
    "    plt.title('Training Loss Curve')\n",
    "    plt.legend()\n",
    "    plt.show()\n",
    "\n",
    "    print(f\"Final Model Accuracy: {best_accuracy * 100:.2f}%\")\n",
    "    print(f\"Final Model F1-score: {best_f1:.4f}\")\n",
    "    \n",
    "    return custom_mlp, losses, best_accuracy, best_f1\n"
   ]
  },
  {
   "cell_type": "code",
   "execution_count": 6,
   "metadata": {},
   "outputs": [
    {
     "name": "stderr",
     "output_type": "stream",
     "text": [
      "/home/guangwei/miniconda3/envs/zdh/lib/python3.12/site-packages/transformers/generation/configuration_utils.py:777: UserWarning: `return_dict_in_generate` is NOT set to `True`, but `output_hidden_states` is. When `return_dict_in_generate` is not `True`, `output_hidden_states` is ignored.\n",
      "  warnings.warn(\n",
      "Loading checkpoint shards: 100%|██████████| 4/4 [00:03<00:00,  1.17it/s]\n"
     ]
    }
   ],
   "source": [
    "tokenizer = AutoTokenizer.from_pretrained(model_name, model_max_length=512)\n",
    "model = AutoModelForCausalLM.from_pretrained(model_name, output_hidden_states=True)\n",
    "tokenizer.pad_token = tokenizer.eos_token\n",
    "bert_tokenizer = AutoTokenizer.from_pretrained('google-bert/bert-base-uncased')\n",
    "bert_model = AutoModel.from_pretrained('google-bert/bert-base-uncased')\n",
    "bert_tokenizer.pad_token = tokenizer.eos_token\n",
    "\n",
    "non_infringement_outputs, non_infringement_references, y_non_infringement, infringement_outputs, infringement_references, y_infringement = load_data(\n",
    "    non_infringement_file, infringement_file\n",
    ")\n",
    "\n",
    "y_non_infringement = np.array(y_non_infringement)\n",
    "y_infringement = np.array(y_infringement)\n"
   ]
  },
  {
   "cell_type": "code",
   "execution_count": 7,
   "metadata": {},
   "outputs": [
    {
     "name": "stdout",
     "output_type": "stream",
     "text": [
      "Extracting hidden states for non_infringement texts...\n"
     ]
    },
    {
     "name": "stderr",
     "output_type": "stream",
     "text": [
      "Processing data batches:   0%|          | 0/232 [00:00<?, ?it/s]Starting from v4.46, the `logits` model output will have the same type as the model (except at train time, where it will always be FP32)\n",
      "Processing data batches: 100%|██████████| 232/232 [01:07<00:00,  3.46it/s]\n"
     ]
    },
    {
     "name": "stdout",
     "output_type": "stream",
     "text": [
      "Extracting reference embeddings for non_infringement texts...\n"
     ]
    },
    {
     "name": "stderr",
     "output_type": "stream",
     "text": [
      "Processing references: 100%|██████████| 232/232 [00:05<00:00, 43.73it/s]\n"
     ]
    },
    {
     "name": "stdout",
     "output_type": "stream",
     "text": [
      "Extracting hidden states for infringement texts...\n"
     ]
    },
    {
     "name": "stderr",
     "output_type": "stream",
     "text": [
      "Processing data batches: 100%|██████████| 243/243 [01:22<00:00,  2.93it/s]\n"
     ]
    },
    {
     "name": "stdout",
     "output_type": "stream",
     "text": [
      "Extracting reference embeddings for infringement texts...\n"
     ]
    },
    {
     "name": "stderr",
     "output_type": "stream",
     "text": [
      "Processing references: 100%|██████████| 243/243 [00:02<00:00, 103.67it/s]\n"
     ]
    }
   ],
   "source": [
    "print(\"Extracting hidden states for non_infringement texts...\")\n",
    "X_non_infringement = extract_hidden_states(non_infringement_outputs, model, tokenizer)\n",
    "print(\"Extracting reference embeddings for non_infringement texts...\")\n",
    "reference_embeddings_non_infringement = extract_reference_embeddings(non_infringement_references, bert_model, bert_tokenizer)\n",
    "X_non_infringement_combined = np.hstack([X_non_infringement, reference_embeddings_non_infringement])\n",
    "\n",
    "print(\"Extracting hidden states for infringement texts...\")\n",
    "X_infringement = extract_hidden_states(infringement_outputs, model, tokenizer)\n",
    "print(\"Extracting reference embeddings for infringement texts...\")\n",
    "reference_embeddings_infringement = extract_reference_embeddings(infringement_references, bert_model, bert_tokenizer)\n",
    "X_infringement_combined = np.hstack([X_infringement, reference_embeddings_infringement])"
   ]
  },
  {
   "cell_type": "code",
   "execution_count": 8,
   "metadata": {},
   "outputs": [
    {
     "name": "stdout",
     "output_type": "stream",
     "text": [
      "Data successfully split into training and test sets.\n"
     ]
    }
   ],
   "source": [
    "split_index_non_infringement = int(0.8 * len(X_non_infringement_combined))\n",
    "X_non_infringement_train = X_non_infringement_combined[:split_index_non_infringement]\n",
    "X_non_infringement_test = X_non_infringement_combined[split_index_non_infringement:]\n",
    "y_non_infringement_train = y_non_infringement[:split_index_non_infringement]\n",
    "y_non_infringement_test = y_non_infringement[split_index_non_infringement:]\n",
    "\n",
    "split_index_infringement = int(0.8 * len(X_infringement_combined))\n",
    "X_infringement_train = X_infringement_combined[:split_index_infringement]\n",
    "X_infringement_test = X_infringement_combined[split_index_infringement:]\n",
    "y_infringement_train = y_infringement[:split_index_infringement]\n",
    "y_infringement_test = y_infringement[split_index_infringement:]\n",
    "\n",
    "X_train = np.vstack((X_non_infringement_train, X_infringement_train))\n",
    "X_test = np.vstack((X_non_infringement_test, X_infringement_test))\n",
    "y_train = np.concatenate((y_non_infringement_train, y_infringement_train))\n",
    "y_test = np.concatenate((y_non_infringement_test, y_infringement_test))\n",
    "\n",
    "print(\"Data successfully split into training and test sets.\")"
   ]
  },
  {
   "cell_type": "code",
   "execution_count": 9,
   "metadata": {},
   "outputs": [
    {
     "name": "stdout",
     "output_type": "stream",
     "text": [
      "Training MLP model with input_dim=4864 and hidden_dim=256\n"
     ]
    },
    {
     "name": "stderr",
     "output_type": "stream",
     "text": [
      "Training Epochs:   0%|          | 10/2000 [00:00<02:28, 13.36it/s]"
     ]
    },
    {
     "name": "stdout",
     "output_type": "stream",
     "text": [
      "Epoch 10/2000, Loss: 0.6327\n",
      "Test Accuracy at Epoch 10: 65.00%\n",
      "Test F1-score at Epoch 10: 0.6795\n",
      "Classification Report at Epoch 10:\n",
      "                  precision    recall  f1-score   support\n",
      "\n",
      "    infringement       0.70      0.55      0.61       194\n",
      "non_infringement       0.62      0.76      0.68       186\n",
      "\n",
      "        accuracy                           0.65       380\n",
      "       macro avg       0.66      0.65      0.65       380\n",
      "    weighted avg       0.66      0.65      0.65       380\n",
      "\n",
      "New best model saved with F1-score 0.6795 at epoch 10\n",
      "Best Classification Report at Epoch 10:\n",
      "                  precision    recall  f1-score   support\n",
      "\n",
      "    infringement       0.70      0.55      0.61       194\n",
      "non_infringement       0.62      0.76      0.68       186\n",
      "\n",
      "        accuracy                           0.65       380\n",
      "       macro avg       0.66      0.65      0.65       380\n",
      "    weighted avg       0.66      0.65      0.65       380\n",
      "\n"
     ]
    },
    {
     "name": "stderr",
     "output_type": "stream",
     "text": [
      "Training Epochs:   1%|          | 21/2000 [00:01<02:16, 14.50it/s]"
     ]
    },
    {
     "name": "stdout",
     "output_type": "stream",
     "text": [
      "Epoch 20/2000, Loss: 0.4932\n",
      "Test Accuracy at Epoch 20: 70.00%\n",
      "Test F1-score at Epoch 20: 0.7574\n",
      "Classification Report at Epoch 20:\n",
      "                  precision    recall  f1-score   support\n",
      "\n",
      "    infringement       0.92      0.45      0.61       194\n",
      "non_infringement       0.63      0.96      0.76       186\n",
      "\n",
      "        accuracy                           0.70       380\n",
      "       macro avg       0.77      0.71      0.68       380\n",
      "    weighted avg       0.77      0.70      0.68       380\n",
      "\n",
      "New best model saved with F1-score 0.7574 at epoch 20\n",
      "Best Classification Report at Epoch 20:\n",
      "                  precision    recall  f1-score   support\n",
      "\n",
      "    infringement       0.92      0.45      0.61       194\n",
      "non_infringement       0.63      0.96      0.76       186\n",
      "\n",
      "        accuracy                           0.70       380\n",
      "       macro avg       0.77      0.71      0.68       380\n",
      "    weighted avg       0.77      0.70      0.68       380\n",
      "\n"
     ]
    },
    {
     "name": "stderr",
     "output_type": "stream",
     "text": [
      "Training Epochs:   2%|▏         | 31/2000 [00:02<02:35, 12.68it/s]"
     ]
    },
    {
     "name": "stdout",
     "output_type": "stream",
     "text": [
      "Epoch 30/2000, Loss: 0.3888\n",
      "Test Accuracy at Epoch 30: 76.32%\n",
      "Test F1-score at Epoch 30: 0.7973\n",
      "Classification Report at Epoch 30:\n",
      "                  precision    recall  f1-score   support\n",
      "\n",
      "    infringement       0.93      0.58      0.72       194\n",
      "non_infringement       0.69      0.95      0.80       186\n",
      "\n",
      "        accuracy                           0.76       380\n",
      "       macro avg       0.81      0.77      0.76       380\n",
      "    weighted avg       0.81      0.76      0.76       380\n",
      "\n",
      "New best model saved with F1-score 0.7973 at epoch 30\n",
      "Best Classification Report at Epoch 30:\n",
      "                  precision    recall  f1-score   support\n",
      "\n",
      "    infringement       0.93      0.58      0.72       194\n",
      "non_infringement       0.69      0.95      0.80       186\n",
      "\n",
      "        accuracy                           0.76       380\n",
      "       macro avg       0.81      0.77      0.76       380\n",
      "    weighted avg       0.81      0.76      0.76       380\n",
      "\n"
     ]
    },
    {
     "name": "stderr",
     "output_type": "stream",
     "text": [
      "Training Epochs:   2%|▏         | 42/2000 [00:03<02:22, 13.70it/s]"
     ]
    },
    {
     "name": "stdout",
     "output_type": "stream",
     "text": [
      "Epoch 40/2000, Loss: 0.3429\n",
      "Test Accuracy at Epoch 40: 80.00%\n",
      "Test F1-score at Epoch 40: 0.8190\n",
      "Classification Report at Epoch 40:\n",
      "                  precision    recall  f1-score   support\n",
      "\n",
      "    infringement       0.90      0.68      0.78       194\n",
      "non_infringement       0.74      0.92      0.82       186\n",
      "\n",
      "        accuracy                           0.80       380\n",
      "       macro avg       0.82      0.80      0.80       380\n",
      "    weighted avg       0.82      0.80      0.80       380\n",
      "\n",
      "New best model saved with F1-score 0.8190 at epoch 40\n",
      "Best Classification Report at Epoch 40:\n",
      "                  precision    recall  f1-score   support\n",
      "\n",
      "    infringement       0.90      0.68      0.78       194\n",
      "non_infringement       0.74      0.92      0.82       186\n",
      "\n",
      "        accuracy                           0.80       380\n",
      "       macro avg       0.82      0.80      0.80       380\n",
      "    weighted avg       0.82      0.80      0.80       380\n",
      "\n"
     ]
    },
    {
     "name": "stderr",
     "output_type": "stream",
     "text": [
      "Training Epochs:   3%|▎         | 51/2000 [00:03<02:02, 15.92it/s]"
     ]
    },
    {
     "name": "stdout",
     "output_type": "stream",
     "text": [
      "Epoch 50/2000, Loss: 0.3050\n",
      "Test Accuracy at Epoch 50: 81.58%\n",
      "Test F1-score at Epoch 50: 0.8301\n",
      "Classification Report at Epoch 50:\n",
      "                  precision    recall  f1-score   support\n",
      "\n",
      "    infringement       0.90      0.72      0.80       194\n",
      "non_infringement       0.76      0.92      0.83       186\n",
      "\n",
      "        accuracy                           0.82       380\n",
      "       macro avg       0.83      0.82      0.81       380\n",
      "    weighted avg       0.83      0.82      0.81       380\n",
      "\n",
      "New best model saved with F1-score 0.8301 at epoch 50\n",
      "Best Classification Report at Epoch 50:\n",
      "                  precision    recall  f1-score   support\n",
      "\n",
      "    infringement       0.90      0.72      0.80       194\n",
      "non_infringement       0.76      0.92      0.83       186\n",
      "\n",
      "        accuracy                           0.82       380\n",
      "       macro avg       0.83      0.82      0.81       380\n",
      "    weighted avg       0.83      0.82      0.81       380\n",
      "\n"
     ]
    },
    {
     "name": "stderr",
     "output_type": "stream",
     "text": [
      "Training Epochs:   3%|▎         | 61/2000 [00:04<02:21, 13.69it/s]"
     ]
    },
    {
     "name": "stdout",
     "output_type": "stream",
     "text": [
      "Epoch 60/2000, Loss: 0.2645\n",
      "Test Accuracy at Epoch 60: 81.58%\n",
      "Test F1-score at Epoch 60: 0.8301\n",
      "Classification Report at Epoch 60:\n",
      "                  precision    recall  f1-score   support\n",
      "\n",
      "    infringement       0.90      0.72      0.80       194\n",
      "non_infringement       0.76      0.92      0.83       186\n",
      "\n",
      "        accuracy                           0.82       380\n",
      "       macro avg       0.83      0.82      0.81       380\n",
      "    weighted avg       0.83      0.82      0.81       380\n",
      "\n"
     ]
    },
    {
     "name": "stderr",
     "output_type": "stream",
     "text": [
      "Training Epochs:   4%|▎         | 72/2000 [00:05<02:02, 15.68it/s]"
     ]
    },
    {
     "name": "stdout",
     "output_type": "stream",
     "text": [
      "Epoch 70/2000, Loss: 0.2418\n",
      "Test Accuracy at Epoch 70: 79.47%\n",
      "Test F1-score at Epoch 70: 0.8152\n",
      "Classification Report at Epoch 70:\n",
      "                  precision    recall  f1-score   support\n",
      "\n",
      "    infringement       0.90      0.67      0.77       194\n",
      "non_infringement       0.73      0.92      0.82       186\n",
      "\n",
      "        accuracy                           0.79       380\n",
      "       macro avg       0.82      0.80      0.79       380\n",
      "    weighted avg       0.82      0.79      0.79       380\n",
      "\n"
     ]
    },
    {
     "name": "stderr",
     "output_type": "stream",
     "text": [
      "Training Epochs:   4%|▍         | 83/2000 [00:05<01:51, 17.26it/s]"
     ]
    },
    {
     "name": "stdout",
     "output_type": "stream",
     "text": [
      "Epoch 80/2000, Loss: 0.2362\n",
      "Test Accuracy at Epoch 80: 79.21%\n",
      "Test F1-score at Epoch 80: 0.8184\n",
      "Classification Report at Epoch 80:\n",
      "                  precision    recall  f1-score   support\n",
      "\n",
      "    infringement       0.94      0.63      0.76       194\n",
      "non_infringement       0.71      0.96      0.82       186\n",
      "\n",
      "        accuracy                           0.79       380\n",
      "       macro avg       0.83      0.80      0.79       380\n",
      "    weighted avg       0.83      0.79      0.79       380\n",
      "\n"
     ]
    },
    {
     "name": "stderr",
     "output_type": "stream",
     "text": [
      "Training Epochs:   5%|▍         | 91/2000 [00:06<02:00, 15.88it/s]"
     ]
    },
    {
     "name": "stdout",
     "output_type": "stream",
     "text": [
      "Epoch 90/2000, Loss: 0.2080\n",
      "Test Accuracy at Epoch 90: 79.21%\n",
      "Test F1-score at Epoch 90: 0.8184\n",
      "Classification Report at Epoch 90:\n",
      "                  precision    recall  f1-score   support\n",
      "\n",
      "    infringement       0.94      0.63      0.76       194\n",
      "non_infringement       0.71      0.96      0.82       186\n",
      "\n",
      "        accuracy                           0.79       380\n",
      "       macro avg       0.83      0.80      0.79       380\n",
      "    weighted avg       0.83      0.79      0.79       380\n",
      "\n"
     ]
    },
    {
     "name": "stderr",
     "output_type": "stream",
     "text": [
      "Training Epochs:   5%|▌         | 101/2000 [00:06<01:47, 17.69it/s]"
     ]
    },
    {
     "name": "stdout",
     "output_type": "stream",
     "text": [
      "Epoch 100/2000, Loss: 0.1958\n",
      "Test Accuracy at Epoch 100: 79.47%\n",
      "Test F1-score at Epoch 100: 0.8203\n",
      "Classification Report at Epoch 100:\n",
      "                  precision    recall  f1-score   support\n",
      "\n",
      "    infringement       0.94      0.64      0.76       194\n",
      "non_infringement       0.72      0.96      0.82       186\n",
      "\n",
      "        accuracy                           0.79       380\n",
      "       macro avg       0.83      0.80      0.79       380\n",
      "    weighted avg       0.83      0.79      0.79       380\n",
      "\n"
     ]
    },
    {
     "name": "stderr",
     "output_type": "stream",
     "text": [
      "Training Epochs:   6%|▌         | 110/2000 [00:10<11:54,  2.64it/s]"
     ]
    },
    {
     "name": "stdout",
     "output_type": "stream",
     "text": [
      "Epoch 110/2000, Loss: 0.1815\n",
      "Test Accuracy at Epoch 110: 79.47%\n",
      "Test F1-score at Epoch 110: 0.8169\n",
      "Classification Report at Epoch 110:\n",
      "                  precision    recall  f1-score   support\n",
      "\n",
      "    infringement       0.91      0.66      0.77       194\n",
      "non_infringement       0.72      0.94      0.82       186\n",
      "\n",
      "        accuracy                           0.79       380\n",
      "       macro avg       0.82      0.80      0.79       380\n",
      "    weighted avg       0.82      0.79      0.79       380\n",
      "\n"
     ]
    },
    {
     "name": "stderr",
     "output_type": "stream",
     "text": [
      "Training Epochs:   6%|▌         | 120/2000 [00:13<07:15,  4.32it/s]"
     ]
    },
    {
     "name": "stdout",
     "output_type": "stream",
     "text": [
      "Epoch 120/2000, Loss: 0.2363\n",
      "Test Accuracy at Epoch 120: 79.74%\n",
      "Test F1-score at Epoch 120: 0.8180\n",
      "Classification Report at Epoch 120:\n",
      "                  precision    recall  f1-score   support\n",
      "\n",
      "    infringement       0.91      0.67      0.77       194\n",
      "non_infringement       0.73      0.93      0.82       186\n",
      "\n",
      "        accuracy                           0.80       380\n",
      "       macro avg       0.82      0.80      0.79       380\n",
      "    weighted avg       0.82      0.80      0.79       380\n",
      "\n"
     ]
    },
    {
     "name": "stderr",
     "output_type": "stream",
     "text": [
      "Training Epochs:   6%|▋         | 130/2000 [00:16<08:23,  3.71it/s]"
     ]
    },
    {
     "name": "stdout",
     "output_type": "stream",
     "text": [
      "Epoch 130/2000, Loss: 0.1886\n",
      "Test Accuracy at Epoch 130: 78.95%\n",
      "Test F1-score at Epoch 130: 0.8157\n",
      "Classification Report at Epoch 130:\n",
      "                  precision    recall  f1-score   support\n",
      "\n",
      "    infringement       0.93      0.63      0.75       194\n",
      "non_infringement       0.71      0.95      0.82       186\n",
      "\n",
      "        accuracy                           0.79       380\n",
      "       macro avg       0.82      0.79      0.79       380\n",
      "    weighted avg       0.83      0.79      0.78       380\n",
      "\n"
     ]
    },
    {
     "name": "stderr",
     "output_type": "stream",
     "text": [
      "Training Epochs:   7%|▋         | 141/2000 [00:17<02:35, 11.93it/s]"
     ]
    },
    {
     "name": "stdout",
     "output_type": "stream",
     "text": [
      "Epoch 140/2000, Loss: 0.1630\n",
      "Test Accuracy at Epoch 140: 78.16%\n",
      "Test F1-score at Epoch 140: 0.8101\n",
      "Classification Report at Epoch 140:\n",
      "                  precision    recall  f1-score   support\n",
      "\n",
      "    infringement       0.93      0.62      0.74       194\n",
      "non_infringement       0.71      0.95      0.81       186\n",
      "\n",
      "        accuracy                           0.78       380\n",
      "       macro avg       0.82      0.79      0.78       380\n",
      "    weighted avg       0.82      0.78      0.78       380\n",
      "\n"
     ]
    },
    {
     "name": "stderr",
     "output_type": "stream",
     "text": [
      "Training Epochs:   8%|▊         | 151/2000 [00:18<03:06,  9.89it/s]"
     ]
    },
    {
     "name": "stdout",
     "output_type": "stream",
     "text": [
      "Epoch 150/2000, Loss: 0.1467\n",
      "Test Accuracy at Epoch 150: 78.42%\n",
      "Test F1-score at Epoch 150: 0.8119\n",
      "Classification Report at Epoch 150:\n",
      "                  precision    recall  f1-score   support\n",
      "\n",
      "    infringement       0.93      0.62      0.75       194\n",
      "non_infringement       0.71      0.95      0.81       186\n",
      "\n",
      "        accuracy                           0.78       380\n",
      "       macro avg       0.82      0.79      0.78       380\n",
      "    weighted avg       0.82      0.78      0.78       380\n",
      "\n"
     ]
    },
    {
     "name": "stderr",
     "output_type": "stream",
     "text": [
      "Training Epochs:   8%|▊         | 162/2000 [00:19<02:31, 12.15it/s]"
     ]
    },
    {
     "name": "stdout",
     "output_type": "stream",
     "text": [
      "Epoch 160/2000, Loss: 0.1387\n",
      "Test Accuracy at Epoch 160: 78.42%\n",
      "Test F1-score at Epoch 160: 0.8119\n",
      "Classification Report at Epoch 160:\n",
      "                  precision    recall  f1-score   support\n",
      "\n",
      "    infringement       0.93      0.62      0.75       194\n",
      "non_infringement       0.71      0.95      0.81       186\n",
      "\n",
      "        accuracy                           0.78       380\n",
      "       macro avg       0.82      0.79      0.78       380\n",
      "    weighted avg       0.82      0.78      0.78       380\n",
      "\n"
     ]
    },
    {
     "name": "stderr",
     "output_type": "stream",
     "text": [
      "Training Epochs:   9%|▊         | 171/2000 [00:20<02:13, 13.69it/s]"
     ]
    },
    {
     "name": "stdout",
     "output_type": "stream",
     "text": [
      "Epoch 170/2000, Loss: 0.1747\n",
      "Test Accuracy at Epoch 170: 78.16%\n",
      "Test F1-score at Epoch 170: 0.8109\n",
      "Classification Report at Epoch 170:\n",
      "                  precision    recall  f1-score   support\n",
      "\n",
      "    infringement       0.94      0.61      0.74       194\n",
      "non_infringement       0.70      0.96      0.81       186\n",
      "\n",
      "        accuracy                           0.78       380\n",
      "       macro avg       0.82      0.79      0.78       380\n",
      "    weighted avg       0.82      0.78      0.78       380\n",
      "\n"
     ]
    },
    {
     "name": "stderr",
     "output_type": "stream",
     "text": [
      "Training Epochs:   9%|▉         | 184/2000 [00:20<01:21, 22.36it/s]"
     ]
    },
    {
     "name": "stdout",
     "output_type": "stream",
     "text": [
      "Epoch 180/2000, Loss: 0.1332\n",
      "Test Accuracy at Epoch 180: 78.42%\n",
      "Test F1-score at Epoch 180: 0.8128\n",
      "Classification Report at Epoch 180:\n",
      "                  precision    recall  f1-score   support\n",
      "\n",
      "    infringement       0.94      0.62      0.75       194\n",
      "non_infringement       0.71      0.96      0.81       186\n",
      "\n",
      "        accuracy                           0.78       380\n",
      "       macro avg       0.82      0.79      0.78       380\n",
      "    weighted avg       0.82      0.78      0.78       380\n",
      "\n"
     ]
    },
    {
     "name": "stderr",
     "output_type": "stream",
     "text": [
      "Training Epochs:  10%|▉         | 192/2000 [00:21<01:50, 16.32it/s]"
     ]
    },
    {
     "name": "stdout",
     "output_type": "stream",
     "text": [
      "Epoch 190/2000, Loss: 0.1255\n",
      "Test Accuracy at Epoch 190: 78.68%\n",
      "Test F1-score at Epoch 190: 0.8146\n",
      "Classification Report at Epoch 190:\n",
      "                  precision    recall  f1-score   support\n",
      "\n",
      "    infringement       0.94      0.62      0.75       194\n",
      "non_infringement       0.71      0.96      0.81       186\n",
      "\n",
      "        accuracy                           0.79       380\n",
      "       macro avg       0.82      0.79      0.78       380\n",
      "    weighted avg       0.83      0.79      0.78       380\n",
      "\n"
     ]
    },
    {
     "name": "stderr",
     "output_type": "stream",
     "text": [
      "Training Epochs:  10%|█         | 202/2000 [00:22<01:50, 16.32it/s]"
     ]
    },
    {
     "name": "stdout",
     "output_type": "stream",
     "text": [
      "Epoch 200/2000, Loss: 0.1233\n",
      "Test Accuracy at Epoch 200: 78.68%\n",
      "Test F1-score at Epoch 200: 0.8146\n",
      "Classification Report at Epoch 200:\n",
      "                  precision    recall  f1-score   support\n",
      "\n",
      "    infringement       0.94      0.62      0.75       194\n",
      "non_infringement       0.71      0.96      0.81       186\n",
      "\n",
      "        accuracy                           0.79       380\n",
      "       macro avg       0.82      0.79      0.78       380\n",
      "    weighted avg       0.83      0.79      0.78       380\n",
      "\n"
     ]
    },
    {
     "name": "stderr",
     "output_type": "stream",
     "text": [
      "Training Epochs:  10%|█         | 210/2000 [00:22<01:47, 16.69it/s]"
     ]
    },
    {
     "name": "stdout",
     "output_type": "stream",
     "text": [
      "Epoch 210/2000, Loss: 0.1262\n",
      "Test Accuracy at Epoch 210: 76.84%\n",
      "Test F1-score at Epoch 210: 0.8018\n",
      "Classification Report at Epoch 210:\n",
      "                  precision    recall  f1-score   support\n",
      "\n",
      "    infringement       0.93      0.59      0.72       194\n",
      "non_infringement       0.69      0.96      0.80       186\n",
      "\n",
      "        accuracy                           0.77       380\n",
      "       macro avg       0.81      0.77      0.76       380\n",
      "    weighted avg       0.81      0.77      0.76       380\n",
      "\n"
     ]
    },
    {
     "name": "stderr",
     "output_type": "stream",
     "text": [
      "Training Epochs:  11%|█         | 220/2000 [00:23<02:10, 13.62it/s]"
     ]
    },
    {
     "name": "stdout",
     "output_type": "stream",
     "text": [
      "Epoch 220/2000, Loss: 0.1286\n",
      "Test Accuracy at Epoch 220: 78.95%\n",
      "Test F1-score at Epoch 220: 0.8157\n",
      "Classification Report at Epoch 220:\n",
      "                  precision    recall  f1-score   support\n",
      "\n",
      "    infringement       0.93      0.63      0.75       194\n",
      "non_infringement       0.71      0.95      0.82       186\n",
      "\n",
      "        accuracy                           0.79       380\n",
      "       macro avg       0.82      0.79      0.79       380\n",
      "    weighted avg       0.83      0.79      0.78       380\n",
      "\n"
     ]
    },
    {
     "name": "stderr",
     "output_type": "stream",
     "text": [
      "Training Epochs:  12%|█▏        | 230/2000 [00:24<01:52, 15.80it/s]"
     ]
    },
    {
     "name": "stdout",
     "output_type": "stream",
     "text": [
      "Epoch 230/2000, Loss: 0.1172\n",
      "Test Accuracy at Epoch 230: 78.95%\n",
      "Test F1-score at Epoch 230: 0.8157\n",
      "Classification Report at Epoch 230:\n",
      "                  precision    recall  f1-score   support\n",
      "\n",
      "    infringement       0.93      0.63      0.75       194\n",
      "non_infringement       0.71      0.95      0.82       186\n",
      "\n",
      "        accuracy                           0.79       380\n",
      "       macro avg       0.82      0.79      0.79       380\n",
      "    weighted avg       0.83      0.79      0.78       380\n",
      "\n"
     ]
    },
    {
     "name": "stderr",
     "output_type": "stream",
     "text": [
      "Training Epochs:  12%|█▏        | 239/2000 [00:27<08:58,  3.27it/s]"
     ]
    },
    {
     "name": "stdout",
     "output_type": "stream",
     "text": [
      "Epoch 240/2000, Loss: 0.1141\n",
      "Test Accuracy at Epoch 240: 78.68%\n",
      "Test F1-score at Epoch 240: 0.8129\n",
      "Classification Report at Epoch 240:\n",
      "                  precision    recall  f1-score   support\n",
      "\n",
      "    infringement       0.92      0.63      0.75       194\n",
      "non_infringement       0.71      0.95      0.81       186\n",
      "\n",
      "        accuracy                           0.79       380\n",
      "       macro avg       0.82      0.79      0.78       380\n",
      "    weighted avg       0.82      0.79      0.78       380\n",
      "\n"
     ]
    },
    {
     "name": "stderr",
     "output_type": "stream",
     "text": [
      "Training Epochs:  13%|█▎        | 251/2000 [00:30<05:44,  5.08it/s]"
     ]
    },
    {
     "name": "stdout",
     "output_type": "stream",
     "text": [
      "Epoch 250/2000, Loss: 0.1077\n",
      "Test Accuracy at Epoch 250: 78.68%\n",
      "Test F1-score at Epoch 250: 0.8138\n",
      "Classification Report at Epoch 250:\n",
      "                  precision    recall  f1-score   support\n",
      "\n",
      "    infringement       0.93      0.63      0.75       194\n",
      "non_infringement       0.71      0.95      0.81       186\n",
      "\n",
      "        accuracy                           0.79       380\n",
      "       macro avg       0.82      0.79      0.78       380\n",
      "    weighted avg       0.82      0.79      0.78       380\n",
      "\n"
     ]
    },
    {
     "name": "stderr",
     "output_type": "stream",
     "text": [
      "Training Epochs:  13%|█▎        | 262/2000 [00:33<06:10,  4.69it/s]"
     ]
    },
    {
     "name": "stdout",
     "output_type": "stream",
     "text": [
      "Epoch 260/2000, Loss: 0.2964\n",
      "Test Accuracy at Epoch 260: 78.42%\n",
      "Test F1-score at Epoch 260: 0.8128\n",
      "Classification Report at Epoch 260:\n",
      "                  precision    recall  f1-score   support\n",
      "\n",
      "    infringement       0.94      0.62      0.75       194\n",
      "non_infringement       0.71      0.96      0.81       186\n",
      "\n",
      "        accuracy                           0.78       380\n",
      "       macro avg       0.82      0.79      0.78       380\n",
      "    weighted avg       0.82      0.78      0.78       380\n",
      "\n"
     ]
    },
    {
     "name": "stderr",
     "output_type": "stream",
     "text": [
      "Training Epochs:  14%|█▎        | 271/2000 [00:36<07:43,  3.73it/s]"
     ]
    },
    {
     "name": "stdout",
     "output_type": "stream",
     "text": [
      "Epoch 270/2000, Loss: 0.1200\n",
      "Test Accuracy at Epoch 270: 78.42%\n",
      "Test F1-score at Epoch 270: 0.8057\n",
      "Classification Report at Epoch 270:\n",
      "                  precision    recall  f1-score   support\n",
      "\n",
      "    infringement       0.89      0.66      0.76       194\n",
      "non_infringement       0.72      0.91      0.81       186\n",
      "\n",
      "        accuracy                           0.78       380\n",
      "       macro avg       0.80      0.79      0.78       380\n",
      "    weighted avg       0.81      0.78      0.78       380\n",
      "\n"
     ]
    },
    {
     "name": "stderr",
     "output_type": "stream",
     "text": [
      "Training Epochs:  14%|█▍        | 281/2000 [00:38<04:46,  6.01it/s]"
     ]
    },
    {
     "name": "stdout",
     "output_type": "stream",
     "text": [
      "Epoch 280/2000, Loss: 0.1212\n",
      "Test Accuracy at Epoch 280: 78.42%\n",
      "Test F1-score at Epoch 280: 0.8128\n",
      "Classification Report at Epoch 280:\n",
      "                  precision    recall  f1-score   support\n",
      "\n",
      "    infringement       0.94      0.62      0.75       194\n",
      "non_infringement       0.71      0.96      0.81       186\n",
      "\n",
      "        accuracy                           0.78       380\n",
      "       macro avg       0.82      0.79      0.78       380\n",
      "    weighted avg       0.82      0.78      0.78       380\n",
      "\n"
     ]
    },
    {
     "name": "stderr",
     "output_type": "stream",
     "text": [
      "Training Epochs:  15%|█▍        | 294/2000 [00:39<01:22, 20.68it/s]"
     ]
    },
    {
     "name": "stdout",
     "output_type": "stream",
     "text": [
      "Epoch 290/2000, Loss: 0.1146\n",
      "Test Accuracy at Epoch 290: 77.89%\n",
      "Test F1-score at Epoch 290: 0.8056\n",
      "Classification Report at Epoch 290:\n",
      "                  precision    recall  f1-score   support\n",
      "\n",
      "    infringement       0.91      0.63      0.74       194\n",
      "non_infringement       0.71      0.94      0.81       186\n",
      "\n",
      "        accuracy                           0.78       380\n",
      "       macro avg       0.81      0.78      0.77       380\n",
      "    weighted avg       0.81      0.78      0.77       380\n",
      "\n"
     ]
    },
    {
     "name": "stderr",
     "output_type": "stream",
     "text": [
      "Training Epochs:  15%|█▌        | 301/2000 [00:40<03:27,  8.20it/s]"
     ]
    },
    {
     "name": "stdout",
     "output_type": "stream",
     "text": [
      "Epoch 300/2000, Loss: 0.1067\n",
      "Test Accuracy at Epoch 300: 77.89%\n",
      "Test F1-score at Epoch 300: 0.8056\n",
      "Classification Report at Epoch 300:\n",
      "                  precision    recall  f1-score   support\n",
      "\n",
      "    infringement       0.91      0.63      0.74       194\n",
      "non_infringement       0.71      0.94      0.81       186\n",
      "\n",
      "        accuracy                           0.78       380\n",
      "       macro avg       0.81      0.78      0.77       380\n",
      "    weighted avg       0.81      0.78      0.77       380\n",
      "\n"
     ]
    },
    {
     "name": "stderr",
     "output_type": "stream",
     "text": [
      "Training Epochs:  16%|█▌        | 311/2000 [00:42<05:04,  5.55it/s]"
     ]
    },
    {
     "name": "stdout",
     "output_type": "stream",
     "text": [
      "Epoch 310/2000, Loss: 0.1035\n",
      "Test Accuracy at Epoch 310: 77.63%\n",
      "Test F1-score at Epoch 310: 0.8037\n",
      "Classification Report at Epoch 310:\n",
      "                  precision    recall  f1-score   support\n",
      "\n",
      "    infringement       0.91      0.62      0.74       194\n",
      "non_infringement       0.70      0.94      0.80       186\n",
      "\n",
      "        accuracy                           0.78       380\n",
      "       macro avg       0.81      0.78      0.77       380\n",
      "    weighted avg       0.81      0.78      0.77       380\n",
      "\n"
     ]
    },
    {
     "name": "stderr",
     "output_type": "stream",
     "text": [
      "Training Epochs:  16%|█▌        | 322/2000 [00:42<02:10, 12.83it/s]"
     ]
    },
    {
     "name": "stdout",
     "output_type": "stream",
     "text": [
      "Epoch 320/2000, Loss: 0.1010\n",
      "Test Accuracy at Epoch 320: 77.63%\n",
      "Test F1-score at Epoch 320: 0.8037\n",
      "Classification Report at Epoch 320:\n",
      "                  precision    recall  f1-score   support\n",
      "\n",
      "    infringement       0.91      0.62      0.74       194\n",
      "non_infringement       0.70      0.94      0.80       186\n",
      "\n",
      "        accuracy                           0.78       380\n",
      "       macro avg       0.81      0.78      0.77       380\n",
      "    weighted avg       0.81      0.78      0.77       380\n",
      "\n"
     ]
    },
    {
     "name": "stderr",
     "output_type": "stream",
     "text": [
      "Training Epochs:  16%|█▋        | 330/2000 [00:44<04:45,  5.85it/s]"
     ]
    },
    {
     "name": "stdout",
     "output_type": "stream",
     "text": [
      "Epoch 330/2000, Loss: 0.0990\n",
      "Test Accuracy at Epoch 330: 78.16%\n",
      "Test F1-score at Epoch 330: 0.8074\n",
      "Classification Report at Epoch 330:\n",
      "                  precision    recall  f1-score   support\n",
      "\n",
      "    infringement       0.91      0.63      0.75       194\n",
      "non_infringement       0.71      0.94      0.81       186\n",
      "\n",
      "        accuracy                           0.78       380\n",
      "       macro avg       0.81      0.78      0.78       380\n",
      "    weighted avg       0.81      0.78      0.78       380\n",
      "\n"
     ]
    },
    {
     "name": "stderr",
     "output_type": "stream",
     "text": [
      "Training Epochs:  17%|█▋        | 341/2000 [00:45<02:49,  9.79it/s]"
     ]
    },
    {
     "name": "stdout",
     "output_type": "stream",
     "text": [
      "Epoch 340/2000, Loss: 0.0973\n",
      "Test Accuracy at Epoch 340: 78.16%\n",
      "Test F1-score at Epoch 340: 0.8074\n",
      "Classification Report at Epoch 340:\n",
      "                  precision    recall  f1-score   support\n",
      "\n",
      "    infringement       0.91      0.63      0.75       194\n",
      "non_infringement       0.71      0.94      0.81       186\n",
      "\n",
      "        accuracy                           0.78       380\n",
      "       macro avg       0.81      0.78      0.78       380\n",
      "    weighted avg       0.81      0.78      0.78       380\n",
      "\n"
     ]
    },
    {
     "name": "stderr",
     "output_type": "stream",
     "text": [
      "Training Epochs:  18%|█▊        | 352/2000 [00:46<02:56,  9.32it/s]"
     ]
    },
    {
     "name": "stdout",
     "output_type": "stream",
     "text": [
      "Epoch 350/2000, Loss: 0.0958\n",
      "Test Accuracy at Epoch 350: 78.16%\n",
      "Test F1-score at Epoch 350: 0.8074\n",
      "Classification Report at Epoch 350:\n",
      "                  precision    recall  f1-score   support\n",
      "\n",
      "    infringement       0.91      0.63      0.75       194\n",
      "non_infringement       0.71      0.94      0.81       186\n",
      "\n",
      "        accuracy                           0.78       380\n",
      "       macro avg       0.81      0.78      0.78       380\n",
      "    weighted avg       0.81      0.78      0.78       380\n",
      "\n"
     ]
    },
    {
     "name": "stderr",
     "output_type": "stream",
     "text": [
      "Training Epochs:  18%|█▊        | 359/2000 [00:47<02:00, 13.59it/s]"
     ]
    },
    {
     "name": "stdout",
     "output_type": "stream",
     "text": [
      "Epoch 360/2000, Loss: 0.0944\n",
      "Test Accuracy at Epoch 360: 78.16%\n",
      "Test F1-score at Epoch 360: 0.8074\n",
      "Classification Report at Epoch 360:\n",
      "                  precision    recall  f1-score   support\n",
      "\n",
      "    infringement       0.91      0.63      0.75       194\n",
      "non_infringement       0.71      0.94      0.81       186\n",
      "\n",
      "        accuracy                           0.78       380\n",
      "       macro avg       0.81      0.78      0.78       380\n",
      "    weighted avg       0.81      0.78      0.78       380\n",
      "\n"
     ]
    },
    {
     "name": "stderr",
     "output_type": "stream",
     "text": [
      "Training Epochs:  19%|█▊        | 374/2000 [00:49<01:40, 16.26it/s]"
     ]
    },
    {
     "name": "stdout",
     "output_type": "stream",
     "text": [
      "Epoch 370/2000, Loss: 0.0931\n",
      "Test Accuracy at Epoch 370: 78.16%\n",
      "Test F1-score at Epoch 370: 0.8074\n",
      "Classification Report at Epoch 370:\n",
      "                  precision    recall  f1-score   support\n",
      "\n",
      "    infringement       0.91      0.63      0.75       194\n",
      "non_infringement       0.71      0.94      0.81       186\n",
      "\n",
      "        accuracy                           0.78       380\n",
      "       macro avg       0.81      0.78      0.78       380\n",
      "    weighted avg       0.81      0.78      0.78       380\n",
      "\n"
     ]
    },
    {
     "name": "stderr",
     "output_type": "stream",
     "text": [
      "Training Epochs:  19%|█▉        | 386/2000 [00:49<00:58, 27.70it/s]"
     ]
    },
    {
     "name": "stdout",
     "output_type": "stream",
     "text": [
      "Epoch 380/2000, Loss: 0.0919\n",
      "Test Accuracy at Epoch 380: 78.16%\n",
      "Test F1-score at Epoch 380: 0.8074\n",
      "Classification Report at Epoch 380:\n",
      "                  precision    recall  f1-score   support\n",
      "\n",
      "    infringement       0.91      0.63      0.75       194\n",
      "non_infringement       0.71      0.94      0.81       186\n",
      "\n",
      "        accuracy                           0.78       380\n",
      "       macro avg       0.81      0.78      0.78       380\n",
      "    weighted avg       0.81      0.78      0.78       380\n",
      "\n"
     ]
    },
    {
     "name": "stderr",
     "output_type": "stream",
     "text": [
      "Training Epochs:  20%|█▉        | 393/2000 [00:49<01:06, 24.29it/s]"
     ]
    },
    {
     "name": "stdout",
     "output_type": "stream",
     "text": [
      "Epoch 390/2000, Loss: 0.1146\n",
      "Test Accuracy at Epoch 390: 80.00%\n",
      "Test F1-score at Epoch 390: 0.8173\n",
      "Classification Report at Epoch 390:\n",
      "                  precision    recall  f1-score   support\n",
      "\n",
      "    infringement       0.89      0.69      0.78       194\n",
      "non_infringement       0.74      0.91      0.82       186\n",
      "\n",
      "        accuracy                           0.80       380\n",
      "       macro avg       0.82      0.80      0.80       380\n",
      "    weighted avg       0.82      0.80      0.80       380\n",
      "\n"
     ]
    },
    {
     "name": "stderr",
     "output_type": "stream",
     "text": [
      "Training Epochs:  20%|██        | 400/2000 [00:51<04:22,  6.08it/s]"
     ]
    },
    {
     "name": "stdout",
     "output_type": "stream",
     "text": [
      "Epoch 400/2000, Loss: 0.0938\n",
      "Test Accuracy at Epoch 400: 77.11%\n",
      "Test F1-score at Epoch 400: 0.8009\n",
      "Classification Report at Epoch 400:\n",
      "                  precision    recall  f1-score   support\n",
      "\n",
      "    infringement       0.91      0.61      0.73       194\n",
      "non_infringement       0.70      0.94      0.80       186\n",
      "\n",
      "        accuracy                           0.77       380\n",
      "       macro avg       0.81      0.77      0.77       380\n",
      "    weighted avg       0.81      0.77      0.77       380\n",
      "\n"
     ]
    },
    {
     "name": "stderr",
     "output_type": "stream",
     "text": [
      "Training Epochs:  21%|██        | 413/2000 [00:52<01:59, 13.29it/s]"
     ]
    },
    {
     "name": "stdout",
     "output_type": "stream",
     "text": [
      "Epoch 410/2000, Loss: 0.0943\n",
      "Test Accuracy at Epoch 410: 77.89%\n",
      "Test F1-score at Epoch 410: 0.8056\n",
      "Classification Report at Epoch 410:\n",
      "                  precision    recall  f1-score   support\n",
      "\n",
      "    infringement       0.91      0.63      0.74       194\n",
      "non_infringement       0.71      0.94      0.81       186\n",
      "\n",
      "        accuracy                           0.78       380\n",
      "       macro avg       0.81      0.78      0.77       380\n",
      "    weighted avg       0.81      0.78      0.77       380\n",
      "\n"
     ]
    },
    {
     "name": "stderr",
     "output_type": "stream",
     "text": [
      "Training Epochs:  21%|██        | 420/2000 [00:52<01:20, 19.59it/s]"
     ]
    },
    {
     "name": "stdout",
     "output_type": "stream",
     "text": [
      "Epoch 420/2000, Loss: 0.0903\n",
      "Test Accuracy at Epoch 420: 77.89%\n",
      "Test F1-score at Epoch 420: 0.8028\n",
      "Classification Report at Epoch 420:\n",
      "                  precision    recall  f1-score   support\n",
      "\n",
      "    infringement       0.89      0.64      0.75       194\n",
      "non_infringement       0.71      0.92      0.80       186\n",
      "\n",
      "        accuracy                           0.78       380\n",
      "       macro avg       0.80      0.78      0.78       380\n",
      "    weighted avg       0.80      0.78      0.78       380\n",
      "\n"
     ]
    },
    {
     "name": "stderr",
     "output_type": "stream",
     "text": [
      "Training Epochs:  22%|██▏       | 435/2000 [00:55<02:23, 10.92it/s]"
     ]
    },
    {
     "name": "stdout",
     "output_type": "stream",
     "text": [
      "Epoch 430/2000, Loss: 0.0886\n",
      "Test Accuracy at Epoch 430: 79.74%\n",
      "Test F1-score at Epoch 430: 0.8180\n",
      "Classification Report at Epoch 430:\n",
      "                  precision    recall  f1-score   support\n",
      "\n",
      "    infringement       0.91      0.67      0.77       194\n",
      "non_infringement       0.73      0.93      0.82       186\n",
      "\n",
      "        accuracy                           0.80       380\n",
      "       macro avg       0.82      0.80      0.79       380\n",
      "    weighted avg       0.82      0.80      0.79       380\n",
      "\n"
     ]
    },
    {
     "name": "stderr",
     "output_type": "stream",
     "text": [
      "Training Epochs:  22%|██▏       | 443/2000 [00:55<01:28, 17.52it/s]"
     ]
    },
    {
     "name": "stdout",
     "output_type": "stream",
     "text": [
      "Epoch 440/2000, Loss: 0.0877\n",
      "Test Accuracy at Epoch 440: 79.47%\n",
      "Test F1-score at Epoch 440: 0.8152\n",
      "Classification Report at Epoch 440:\n",
      "                  precision    recall  f1-score   support\n",
      "\n",
      "    infringement       0.90      0.67      0.77       194\n",
      "non_infringement       0.73      0.92      0.82       186\n",
      "\n",
      "        accuracy                           0.79       380\n",
      "       macro avg       0.82      0.80      0.79       380\n",
      "    weighted avg       0.82      0.79      0.79       380\n",
      "\n"
     ]
    },
    {
     "name": "stderr",
     "output_type": "stream",
     "text": [
      "Training Epochs:  23%|██▎       | 453/2000 [00:55<01:01, 24.98it/s]"
     ]
    },
    {
     "name": "stdout",
     "output_type": "stream",
     "text": [
      "Epoch 450/2000, Loss: 0.0871\n",
      "Test Accuracy at Epoch 450: 79.47%\n",
      "Test F1-score at Epoch 450: 0.8160\n",
      "Classification Report at Epoch 450:\n",
      "                  precision    recall  f1-score   support\n",
      "\n",
      "    infringement       0.91      0.66      0.77       194\n",
      "non_infringement       0.73      0.93      0.82       186\n",
      "\n",
      "        accuracy                           0.79       380\n",
      "       macro avg       0.82      0.80      0.79       380\n",
      "    weighted avg       0.82      0.79      0.79       380\n",
      "\n"
     ]
    },
    {
     "name": "stderr",
     "output_type": "stream",
     "text": [
      "Training Epochs:  23%|██▎       | 457/2000 [00:55<00:57, 26.74it/s]"
     ]
    },
    {
     "name": "stdout",
     "output_type": "stream",
     "text": [
      "Epoch 460/2000, Loss: 0.0910\n",
      "Test Accuracy at Epoch 460: 79.47%\n",
      "Test F1-score at Epoch 460: 0.8152\n",
      "Classification Report at Epoch 460:\n",
      "                  precision    recall  f1-score   support\n",
      "\n",
      "    infringement       0.90      0.67      0.77       194\n",
      "non_infringement       0.73      0.92      0.82       186\n",
      "\n",
      "        accuracy                           0.79       380\n",
      "       macro avg       0.82      0.80      0.79       380\n",
      "    weighted avg       0.82      0.79      0.79       380\n",
      "\n"
     ]
    },
    {
     "name": "stderr",
     "output_type": "stream",
     "text": [
      "Training Epochs:  24%|██▎       | 471/2000 [00:58<02:37,  9.71it/s]"
     ]
    },
    {
     "name": "stdout",
     "output_type": "stream",
     "text": [
      "Epoch 470/2000, Loss: 0.0923\n",
      "Test Accuracy at Epoch 470: 79.74%\n",
      "Test F1-score at Epoch 470: 0.8197\n",
      "Classification Report at Epoch 470:\n",
      "                  precision    recall  f1-score   support\n",
      "\n",
      "    infringement       0.92      0.66      0.77       194\n",
      "non_infringement       0.73      0.94      0.82       186\n",
      "\n",
      "        accuracy                           0.80       380\n",
      "       macro avg       0.82      0.80      0.79       380\n",
      "    weighted avg       0.83      0.80      0.79       380\n",
      "\n"
     ]
    },
    {
     "name": "stderr",
     "output_type": "stream",
     "text": [
      "Training Epochs:  24%|██▍       | 480/2000 [01:01<08:50,  2.87it/s]"
     ]
    },
    {
     "name": "stdout",
     "output_type": "stream",
     "text": [
      "Epoch 480/2000, Loss: 0.0850\n",
      "Test Accuracy at Epoch 480: 79.21%\n",
      "Test F1-score at Epoch 480: 0.8132\n",
      "Classification Report at Epoch 480:\n",
      "                  precision    recall  f1-score   support\n",
      "\n",
      "    infringement       0.90      0.66      0.77       194\n",
      "non_infringement       0.73      0.92      0.81       186\n",
      "\n",
      "        accuracy                           0.79       380\n",
      "       macro avg       0.81      0.79      0.79       380\n",
      "    weighted avg       0.82      0.79      0.79       380\n",
      "\n"
     ]
    },
    {
     "name": "stderr",
     "output_type": "stream",
     "text": [
      "Training Epochs:  24%|██▍       | 490/2000 [01:03<05:49,  4.32it/s]"
     ]
    },
    {
     "name": "stdout",
     "output_type": "stream",
     "text": [
      "Epoch 490/2000, Loss: 0.0843\n",
      "Test Accuracy at Epoch 490: 79.47%\n",
      "Test F1-score at Epoch 490: 0.8152\n",
      "Classification Report at Epoch 490:\n",
      "                  precision    recall  f1-score   support\n",
      "\n",
      "    infringement       0.90      0.67      0.77       194\n",
      "non_infringement       0.73      0.92      0.82       186\n",
      "\n",
      "        accuracy                           0.79       380\n",
      "       macro avg       0.82      0.80      0.79       380\n",
      "    weighted avg       0.82      0.79      0.79       380\n",
      "\n"
     ]
    },
    {
     "name": "stderr",
     "output_type": "stream",
     "text": [
      "Training Epochs:  25%|██▌       | 500/2000 [01:08<13:34,  1.84it/s]"
     ]
    },
    {
     "name": "stdout",
     "output_type": "stream",
     "text": [
      "Epoch 500/2000, Loss: 0.0902\n",
      "Test Accuracy at Epoch 500: 80.00%\n",
      "Test F1-score at Epoch 500: 0.8182\n",
      "Classification Report at Epoch 500:\n",
      "                  precision    recall  f1-score   support\n",
      "\n",
      "    infringement       0.90      0.69      0.78       194\n",
      "non_infringement       0.74      0.92      0.82       186\n",
      "\n",
      "        accuracy                           0.80       380\n",
      "       macro avg       0.82      0.80      0.80       380\n",
      "    weighted avg       0.82      0.80      0.80       380\n",
      "\n"
     ]
    },
    {
     "name": "stderr",
     "output_type": "stream",
     "text": [
      "Training Epochs:  26%|██▌       | 510/2000 [01:11<10:42,  2.32it/s]"
     ]
    },
    {
     "name": "stdout",
     "output_type": "stream",
     "text": [
      "Epoch 510/2000, Loss: 0.0863\n",
      "Test Accuracy at Epoch 510: 78.68%\n",
      "Test F1-score at Epoch 510: 0.8112\n",
      "Classification Report at Epoch 510:\n",
      "                  precision    recall  f1-score   support\n",
      "\n",
      "    infringement       0.91      0.64      0.76       194\n",
      "non_infringement       0.72      0.94      0.81       186\n",
      "\n",
      "        accuracy                           0.79       380\n",
      "       macro avg       0.81      0.79      0.78       380\n",
      "    weighted avg       0.82      0.79      0.78       380\n",
      "\n"
     ]
    },
    {
     "name": "stderr",
     "output_type": "stream",
     "text": [
      "Training Epochs:  26%|██▌       | 520/2000 [01:16<12:49,  1.92it/s]"
     ]
    },
    {
     "name": "stdout",
     "output_type": "stream",
     "text": [
      "Epoch 520/2000, Loss: 0.0894\n",
      "Test Accuracy at Epoch 520: 80.00%\n",
      "Test F1-score at Epoch 520: 0.8182\n",
      "Classification Report at Epoch 520:\n",
      "                  precision    recall  f1-score   support\n",
      "\n",
      "    infringement       0.90      0.69      0.78       194\n",
      "non_infringement       0.74      0.92      0.82       186\n",
      "\n",
      "        accuracy                           0.80       380\n",
      "       macro avg       0.82      0.80      0.80       380\n",
      "    weighted avg       0.82      0.80      0.80       380\n",
      "\n"
     ]
    },
    {
     "name": "stderr",
     "output_type": "stream",
     "text": [
      "Training Epochs:  27%|██▋       | 531/2000 [01:18<02:46,  8.84it/s]"
     ]
    },
    {
     "name": "stdout",
     "output_type": "stream",
     "text": [
      "Epoch 530/2000, Loss: 0.0838\n",
      "Test Accuracy at Epoch 530: 79.47%\n",
      "Test F1-score at Epoch 530: 0.8160\n",
      "Classification Report at Epoch 530:\n",
      "                  precision    recall  f1-score   support\n",
      "\n",
      "    infringement       0.91      0.66      0.77       194\n",
      "non_infringement       0.73      0.93      0.82       186\n",
      "\n",
      "        accuracy                           0.79       380\n",
      "       macro avg       0.82      0.80      0.79       380\n",
      "    weighted avg       0.82      0.79      0.79       380\n",
      "\n"
     ]
    },
    {
     "name": "stderr",
     "output_type": "stream",
     "text": [
      "Training Epochs:  27%|██▋       | 540/2000 [01:21<07:52,  3.09it/s]"
     ]
    },
    {
     "name": "stdout",
     "output_type": "stream",
     "text": [
      "Epoch 540/2000, Loss: 0.0820\n",
      "Test Accuracy at Epoch 540: 79.47%\n",
      "Test F1-score at Epoch 540: 0.8160\n",
      "Classification Report at Epoch 540:\n",
      "                  precision    recall  f1-score   support\n",
      "\n",
      "    infringement       0.91      0.66      0.77       194\n",
      "non_infringement       0.73      0.93      0.82       186\n",
      "\n",
      "        accuracy                           0.79       380\n",
      "       macro avg       0.82      0.80      0.79       380\n",
      "    weighted avg       0.82      0.79      0.79       380\n",
      "\n"
     ]
    },
    {
     "name": "stderr",
     "output_type": "stream",
     "text": [
      "Training Epochs:  28%|██▊       | 550/2000 [01:25<09:59,  2.42it/s]"
     ]
    },
    {
     "name": "stdout",
     "output_type": "stream",
     "text": [
      "Epoch 550/2000, Loss: 0.0824\n",
      "Test Accuracy at Epoch 550: 79.47%\n",
      "Test F1-score at Epoch 550: 0.8160\n",
      "Classification Report at Epoch 550:\n",
      "                  precision    recall  f1-score   support\n",
      "\n",
      "    infringement       0.91      0.66      0.77       194\n",
      "non_infringement       0.73      0.93      0.82       186\n",
      "\n",
      "        accuracy                           0.79       380\n",
      "       macro avg       0.82      0.80      0.79       380\n",
      "    weighted avg       0.82      0.79      0.79       380\n",
      "\n"
     ]
    },
    {
     "name": "stderr",
     "output_type": "stream",
     "text": [
      "Training Epochs:  28%|██▊       | 562/2000 [01:29<04:16,  5.60it/s]"
     ]
    },
    {
     "name": "stdout",
     "output_type": "stream",
     "text": [
      "Epoch 560/2000, Loss: 0.0888\n",
      "Test Accuracy at Epoch 560: 78.95%\n",
      "Test F1-score at Epoch 560: 0.8140\n",
      "Classification Report at Epoch 560:\n",
      "                  precision    recall  f1-score   support\n",
      "\n",
      "    infringement       0.92      0.64      0.76       194\n",
      "non_infringement       0.72      0.94      0.81       186\n",
      "\n",
      "        accuracy                           0.79       380\n",
      "       macro avg       0.82      0.79      0.79       380\n",
      "    weighted avg       0.82      0.79      0.79       380\n",
      "\n"
     ]
    },
    {
     "name": "stderr",
     "output_type": "stream",
     "text": [
      "Training Epochs:  28%|██▊       | 570/2000 [01:32<08:43,  2.73it/s]"
     ]
    },
    {
     "name": "stdout",
     "output_type": "stream",
     "text": [
      "Epoch 570/2000, Loss: 0.0865\n",
      "Test Accuracy at Epoch 570: 80.00%\n",
      "Test F1-score at Epoch 570: 0.8199\n",
      "Classification Report at Epoch 570:\n",
      "                  precision    recall  f1-score   support\n",
      "\n",
      "    infringement       0.91      0.68      0.78       194\n",
      "non_infringement       0.73      0.93      0.82       186\n",
      "\n",
      "        accuracy                           0.80       380\n",
      "       macro avg       0.82      0.80      0.80       380\n",
      "    weighted avg       0.82      0.80      0.80       380\n",
      "\n"
     ]
    },
    {
     "name": "stderr",
     "output_type": "stream",
     "text": [
      "Training Epochs:  29%|██▉       | 580/2000 [01:35<05:03,  4.68it/s]"
     ]
    },
    {
     "name": "stdout",
     "output_type": "stream",
     "text": [
      "Epoch 580/2000, Loss: 0.0821\n",
      "Test Accuracy at Epoch 580: 80.53%\n",
      "Test F1-score at Epoch 580: 0.8238\n",
      "Classification Report at Epoch 580:\n",
      "                  precision    recall  f1-score   support\n",
      "\n",
      "    infringement       0.91      0.69      0.78       194\n",
      "non_infringement       0.74      0.93      0.82       186\n",
      "\n",
      "        accuracy                           0.81       380\n",
      "       macro avg       0.83      0.81      0.80       380\n",
      "    weighted avg       0.83      0.81      0.80       380\n",
      "\n"
     ]
    },
    {
     "name": "stderr",
     "output_type": "stream",
     "text": [
      "Training Epochs:  30%|██▉       | 590/2000 [01:39<11:28,  2.05it/s]"
     ]
    },
    {
     "name": "stdout",
     "output_type": "stream",
     "text": [
      "Epoch 590/2000, Loss: 0.0808\n",
      "Test Accuracy at Epoch 590: 79.74%\n",
      "Test F1-score at Epoch 590: 0.8180\n",
      "Classification Report at Epoch 590:\n",
      "                  precision    recall  f1-score   support\n",
      "\n",
      "    infringement       0.91      0.67      0.77       194\n",
      "non_infringement       0.73      0.93      0.82       186\n",
      "\n",
      "        accuracy                           0.80       380\n",
      "       macro avg       0.82      0.80      0.79       380\n",
      "    weighted avg       0.82      0.80      0.79       380\n",
      "\n"
     ]
    },
    {
     "name": "stderr",
     "output_type": "stream",
     "text": [
      "Training Epochs:  30%|███       | 600/2000 [01:43<10:13,  2.28it/s]"
     ]
    },
    {
     "name": "stdout",
     "output_type": "stream",
     "text": [
      "Epoch 600/2000, Loss: 0.0799\n",
      "Test Accuracy at Epoch 600: 79.47%\n",
      "Test F1-score at Epoch 600: 0.8160\n",
      "Classification Report at Epoch 600:\n",
      "                  precision    recall  f1-score   support\n",
      "\n",
      "    infringement       0.91      0.66      0.77       194\n",
      "non_infringement       0.73      0.93      0.82       186\n",
      "\n",
      "        accuracy                           0.79       380\n",
      "       macro avg       0.82      0.80      0.79       380\n",
      "    weighted avg       0.82      0.79      0.79       380\n",
      "\n"
     ]
    },
    {
     "name": "stderr",
     "output_type": "stream",
     "text": [
      "Training Epochs:  30%|███       | 610/2000 [01:47<08:14,  2.81it/s]"
     ]
    },
    {
     "name": "stdout",
     "output_type": "stream",
     "text": [
      "Epoch 610/2000, Loss: 0.0830\n",
      "Test Accuracy at Epoch 610: 79.47%\n",
      "Test F1-score at Epoch 610: 0.8160\n",
      "Classification Report at Epoch 610:\n",
      "                  precision    recall  f1-score   support\n",
      "\n",
      "    infringement       0.91      0.66      0.77       194\n",
      "non_infringement       0.73      0.93      0.82       186\n",
      "\n",
      "        accuracy                           0.79       380\n",
      "       macro avg       0.82      0.80      0.79       380\n",
      "    weighted avg       0.82      0.79      0.79       380\n",
      "\n"
     ]
    },
    {
     "name": "stderr",
     "output_type": "stream",
     "text": [
      "Training Epochs:  31%|███       | 620/2000 [01:48<02:20,  9.80it/s]"
     ]
    },
    {
     "name": "stdout",
     "output_type": "stream",
     "text": [
      "Epoch 620/2000, Loss: 0.0793\n",
      "Test Accuracy at Epoch 620: 80.26%\n",
      "Test F1-score at Epoch 620: 0.8219\n",
      "Classification Report at Epoch 620:\n",
      "                  precision    recall  f1-score   support\n",
      "\n",
      "    infringement       0.91      0.68      0.78       194\n",
      "non_infringement       0.74      0.93      0.82       186\n",
      "\n",
      "        accuracy                           0.80       380\n",
      "       macro avg       0.82      0.81      0.80       380\n",
      "    weighted avg       0.83      0.80      0.80       380\n",
      "\n"
     ]
    },
    {
     "name": "stderr",
     "output_type": "stream",
     "text": [
      "Training Epochs:  32%|███▏      | 632/2000 [01:50<02:26,  9.31it/s]"
     ]
    },
    {
     "name": "stdout",
     "output_type": "stream",
     "text": [
      "Epoch 630/2000, Loss: 0.0813\n",
      "Test Accuracy at Epoch 630: 80.26%\n",
      "Test F1-score at Epoch 630: 0.8219\n",
      "Classification Report at Epoch 630:\n",
      "                  precision    recall  f1-score   support\n",
      "\n",
      "    infringement       0.91      0.68      0.78       194\n",
      "non_infringement       0.74      0.93      0.82       186\n",
      "\n",
      "        accuracy                           0.80       380\n",
      "       macro avg       0.82      0.81      0.80       380\n",
      "    weighted avg       0.83      0.80      0.80       380\n",
      "\n"
     ]
    },
    {
     "name": "stderr",
     "output_type": "stream",
     "text": [
      "Training Epochs:  32%|███▏      | 640/2000 [01:53<08:33,  2.65it/s]"
     ]
    },
    {
     "name": "stdout",
     "output_type": "stream",
     "text": [
      "Epoch 640/2000, Loss: 0.0797\n",
      "Test Accuracy at Epoch 640: 80.26%\n",
      "Test F1-score at Epoch 640: 0.8219\n",
      "Classification Report at Epoch 640:\n",
      "                  precision    recall  f1-score   support\n",
      "\n",
      "    infringement       0.91      0.68      0.78       194\n",
      "non_infringement       0.74      0.93      0.82       186\n",
      "\n",
      "        accuracy                           0.80       380\n",
      "       macro avg       0.82      0.81      0.80       380\n",
      "    weighted avg       0.83      0.80      0.80       380\n",
      "\n"
     ]
    },
    {
     "name": "stderr",
     "output_type": "stream",
     "text": [
      "Training Epochs:  32%|███▎      | 650/2000 [01:57<10:52,  2.07it/s]"
     ]
    },
    {
     "name": "stdout",
     "output_type": "stream",
     "text": [
      "Epoch 650/2000, Loss: 0.0803\n",
      "Test Accuracy at Epoch 650: 80.00%\n",
      "Test F1-score at Epoch 650: 0.8199\n",
      "Classification Report at Epoch 650:\n",
      "                  precision    recall  f1-score   support\n",
      "\n",
      "    infringement       0.91      0.68      0.78       194\n",
      "non_infringement       0.73      0.93      0.82       186\n",
      "\n",
      "        accuracy                           0.80       380\n",
      "       macro avg       0.82      0.80      0.80       380\n",
      "    weighted avg       0.82      0.80      0.80       380\n",
      "\n"
     ]
    },
    {
     "name": "stderr",
     "output_type": "stream",
     "text": [
      "Training Epochs:  33%|███▎      | 660/2000 [01:59<03:11,  7.00it/s]"
     ]
    },
    {
     "name": "stdout",
     "output_type": "stream",
     "text": [
      "Epoch 660/2000, Loss: 0.0789\n",
      "Test Accuracy at Epoch 660: 80.26%\n",
      "Test F1-score at Epoch 660: 0.8219\n",
      "Classification Report at Epoch 660:\n",
      "                  precision    recall  f1-score   support\n",
      "\n",
      "    infringement       0.91      0.68      0.78       194\n",
      "non_infringement       0.74      0.93      0.82       186\n",
      "\n",
      "        accuracy                           0.80       380\n",
      "       macro avg       0.82      0.81      0.80       380\n",
      "    weighted avg       0.83      0.80      0.80       380\n",
      "\n"
     ]
    },
    {
     "name": "stderr",
     "output_type": "stream",
     "text": [
      "Training Epochs:  34%|███▎      | 670/2000 [02:02<09:43,  2.28it/s]"
     ]
    },
    {
     "name": "stdout",
     "output_type": "stream",
     "text": [
      "Epoch 670/2000, Loss: 0.0819\n",
      "Test Accuracy at Epoch 670: 80.26%\n",
      "Test F1-score at Epoch 670: 0.8219\n",
      "Classification Report at Epoch 670:\n",
      "                  precision    recall  f1-score   support\n",
      "\n",
      "    infringement       0.91      0.68      0.78       194\n",
      "non_infringement       0.74      0.93      0.82       186\n",
      "\n",
      "        accuracy                           0.80       380\n",
      "       macro avg       0.82      0.81      0.80       380\n",
      "    weighted avg       0.83      0.80      0.80       380\n",
      "\n"
     ]
    },
    {
     "name": "stderr",
     "output_type": "stream",
     "text": [
      "Training Epochs:  34%|███▍      | 681/2000 [02:06<03:29,  6.29it/s]"
     ]
    },
    {
     "name": "stdout",
     "output_type": "stream",
     "text": [
      "Epoch 680/2000, Loss: 0.0780\n",
      "Test Accuracy at Epoch 680: 80.26%\n",
      "Test F1-score at Epoch 680: 0.8219\n",
      "Classification Report at Epoch 680:\n",
      "                  precision    recall  f1-score   support\n",
      "\n",
      "    infringement       0.91      0.68      0.78       194\n",
      "non_infringement       0.74      0.93      0.82       186\n",
      "\n",
      "        accuracy                           0.80       380\n",
      "       macro avg       0.82      0.81      0.80       380\n",
      "    weighted avg       0.83      0.80      0.80       380\n",
      "\n"
     ]
    },
    {
     "name": "stderr",
     "output_type": "stream",
     "text": [
      "Training Epochs:  34%|███▍      | 690/2000 [02:09<08:27,  2.58it/s]"
     ]
    },
    {
     "name": "stdout",
     "output_type": "stream",
     "text": [
      "Epoch 690/2000, Loss: 0.0841\n",
      "Test Accuracy at Epoch 690: 81.05%\n",
      "Test F1-score at Epoch 690: 0.8278\n",
      "Classification Report at Epoch 690:\n",
      "                  precision    recall  f1-score   support\n",
      "\n",
      "    infringement       0.91      0.70      0.79       194\n",
      "non_infringement       0.75      0.93      0.83       186\n",
      "\n",
      "        accuracy                           0.81       380\n",
      "       macro avg       0.83      0.81      0.81       380\n",
      "    weighted avg       0.83      0.81      0.81       380\n",
      "\n"
     ]
    },
    {
     "name": "stderr",
     "output_type": "stream",
     "text": [
      "Training Epochs:  35%|███▍      | 699/2000 [02:10<02:22,  9.15it/s]"
     ]
    },
    {
     "name": "stdout",
     "output_type": "stream",
     "text": [
      "Epoch 700/2000, Loss: 0.0863\n",
      "Test Accuracy at Epoch 700: 79.21%\n",
      "Test F1-score at Epoch 700: 0.8141\n",
      "Classification Report at Epoch 700:\n",
      "                  precision    recall  f1-score   support\n",
      "\n",
      "    infringement       0.91      0.66      0.76       194\n",
      "non_infringement       0.72      0.93      0.81       186\n",
      "\n",
      "        accuracy                           0.79       380\n",
      "       macro avg       0.82      0.79      0.79       380\n",
      "    weighted avg       0.82      0.79      0.79       380\n",
      "\n"
     ]
    },
    {
     "name": "stderr",
     "output_type": "stream",
     "text": [
      "Training Epochs:  36%|███▌      | 710/2000 [02:14<09:40,  2.22it/s]"
     ]
    },
    {
     "name": "stdout",
     "output_type": "stream",
     "text": [
      "Epoch 710/2000, Loss: 0.0779\n",
      "Test Accuracy at Epoch 710: 79.21%\n",
      "Test F1-score at Epoch 710: 0.8141\n",
      "Classification Report at Epoch 710:\n",
      "                  precision    recall  f1-score   support\n",
      "\n",
      "    infringement       0.91      0.66      0.76       194\n",
      "non_infringement       0.72      0.93      0.81       186\n",
      "\n",
      "        accuracy                           0.79       380\n",
      "       macro avg       0.82      0.79      0.79       380\n",
      "    weighted avg       0.82      0.79      0.79       380\n",
      "\n"
     ]
    },
    {
     "name": "stderr",
     "output_type": "stream",
     "text": [
      "Training Epochs:  36%|███▌      | 720/2000 [02:18<07:23,  2.89it/s]"
     ]
    },
    {
     "name": "stdout",
     "output_type": "stream",
     "text": [
      "Epoch 720/2000, Loss: 0.0782\n",
      "Test Accuracy at Epoch 720: 80.26%\n",
      "Test F1-score at Epoch 720: 0.8219\n",
      "Classification Report at Epoch 720:\n",
      "                  precision    recall  f1-score   support\n",
      "\n",
      "    infringement       0.91      0.68      0.78       194\n",
      "non_infringement       0.74      0.93      0.82       186\n",
      "\n",
      "        accuracy                           0.80       380\n",
      "       macro avg       0.82      0.81      0.80       380\n",
      "    weighted avg       0.83      0.80      0.80       380\n",
      "\n"
     ]
    },
    {
     "name": "stderr",
     "output_type": "stream",
     "text": [
      "Training Epochs:  36%|███▋      | 730/2000 [02:22<07:05,  2.98it/s]"
     ]
    },
    {
     "name": "stdout",
     "output_type": "stream",
     "text": [
      "Epoch 730/2000, Loss: 0.0772\n",
      "Test Accuracy at Epoch 730: 79.74%\n",
      "Test F1-score at Epoch 730: 0.8180\n",
      "Classification Report at Epoch 730:\n",
      "                  precision    recall  f1-score   support\n",
      "\n",
      "    infringement       0.91      0.67      0.77       194\n",
      "non_infringement       0.73      0.93      0.82       186\n",
      "\n",
      "        accuracy                           0.80       380\n",
      "       macro avg       0.82      0.80      0.79       380\n",
      "    weighted avg       0.82      0.80      0.79       380\n",
      "\n"
     ]
    },
    {
     "name": "stderr",
     "output_type": "stream",
     "text": [
      "Training Epochs:  37%|███▋      | 743/2000 [02:24<01:55, 10.89it/s]"
     ]
    },
    {
     "name": "stdout",
     "output_type": "stream",
     "text": [
      "Epoch 740/2000, Loss: 0.0771\n",
      "Test Accuracy at Epoch 740: 79.74%\n",
      "Test F1-score at Epoch 740: 0.8180\n",
      "Classification Report at Epoch 740:\n",
      "                  precision    recall  f1-score   support\n",
      "\n",
      "    infringement       0.91      0.67      0.77       194\n",
      "non_infringement       0.73      0.93      0.82       186\n",
      "\n",
      "        accuracy                           0.80       380\n",
      "       macro avg       0.82      0.80      0.79       380\n",
      "    weighted avg       0.82      0.80      0.79       380\n",
      "\n"
     ]
    },
    {
     "name": "stderr",
     "output_type": "stream",
     "text": [
      "Training Epochs:  38%|███▊      | 751/2000 [02:27<04:40,  4.45it/s]"
     ]
    },
    {
     "name": "stdout",
     "output_type": "stream",
     "text": [
      "Epoch 750/2000, Loss: 0.0780\n",
      "Test Accuracy at Epoch 750: 79.21%\n",
      "Test F1-score at Epoch 750: 0.8141\n",
      "Classification Report at Epoch 750:\n",
      "                  precision    recall  f1-score   support\n",
      "\n",
      "    infringement       0.91      0.66      0.76       194\n",
      "non_infringement       0.72      0.93      0.81       186\n",
      "\n",
      "        accuracy                           0.79       380\n",
      "       macro avg       0.82      0.79      0.79       380\n",
      "    weighted avg       0.82      0.79      0.79       380\n",
      "\n"
     ]
    },
    {
     "name": "stderr",
     "output_type": "stream",
     "text": [
      "Training Epochs:  38%|███▊      | 761/2000 [02:28<02:49,  7.30it/s]"
     ]
    },
    {
     "name": "stdout",
     "output_type": "stream",
     "text": [
      "Epoch 760/2000, Loss: 0.0793\n",
      "Test Accuracy at Epoch 760: 80.53%\n",
      "Test F1-score at Epoch 760: 0.8238\n",
      "Classification Report at Epoch 760:\n",
      "                  precision    recall  f1-score   support\n",
      "\n",
      "    infringement       0.91      0.69      0.78       194\n",
      "non_infringement       0.74      0.93      0.82       186\n",
      "\n",
      "        accuracy                           0.81       380\n",
      "       macro avg       0.83      0.81      0.80       380\n",
      "    weighted avg       0.83      0.81      0.80       380\n",
      "\n"
     ]
    },
    {
     "name": "stderr",
     "output_type": "stream",
     "text": [
      "Training Epochs:  38%|███▊      | 770/2000 [02:31<08:07,  2.52it/s]"
     ]
    },
    {
     "name": "stdout",
     "output_type": "stream",
     "text": [
      "Epoch 770/2000, Loss: 0.0811\n",
      "Test Accuracy at Epoch 770: 79.21%\n",
      "Test F1-score at Epoch 770: 0.8141\n",
      "Classification Report at Epoch 770:\n",
      "                  precision    recall  f1-score   support\n",
      "\n",
      "    infringement       0.91      0.66      0.76       194\n",
      "non_infringement       0.72      0.93      0.81       186\n",
      "\n",
      "        accuracy                           0.79       380\n",
      "       macro avg       0.82      0.79      0.79       380\n",
      "    weighted avg       0.82      0.79      0.79       380\n",
      "\n"
     ]
    },
    {
     "name": "stderr",
     "output_type": "stream",
     "text": [
      "Training Epochs:  39%|███▉      | 780/2000 [02:34<03:25,  5.93it/s]"
     ]
    },
    {
     "name": "stdout",
     "output_type": "stream",
     "text": [
      "Epoch 780/2000, Loss: 0.0769\n",
      "Test Accuracy at Epoch 780: 79.21%\n",
      "Test F1-score at Epoch 780: 0.8141\n",
      "Classification Report at Epoch 780:\n",
      "                  precision    recall  f1-score   support\n",
      "\n",
      "    infringement       0.91      0.66      0.76       194\n",
      "non_infringement       0.72      0.93      0.81       186\n",
      "\n",
      "        accuracy                           0.79       380\n",
      "       macro avg       0.82      0.79      0.79       380\n",
      "    weighted avg       0.82      0.79      0.79       380\n",
      "\n"
     ]
    },
    {
     "name": "stderr",
     "output_type": "stream",
     "text": [
      "Training Epochs:  40%|███▉      | 790/2000 [02:36<03:16,  6.17it/s]"
     ]
    },
    {
     "name": "stdout",
     "output_type": "stream",
     "text": [
      "Epoch 790/2000, Loss: 0.0772\n",
      "Test Accuracy at Epoch 790: 79.74%\n",
      "Test F1-score at Epoch 790: 0.8180\n",
      "Classification Report at Epoch 790:\n",
      "                  precision    recall  f1-score   support\n",
      "\n",
      "    infringement       0.91      0.67      0.77       194\n",
      "non_infringement       0.73      0.93      0.82       186\n",
      "\n",
      "        accuracy                           0.80       380\n",
      "       macro avg       0.82      0.80      0.79       380\n",
      "    weighted avg       0.82      0.80      0.79       380\n",
      "\n"
     ]
    },
    {
     "name": "stderr",
     "output_type": "stream",
     "text": [
      "Training Epochs:  40%|████      | 802/2000 [02:39<02:42,  7.38it/s]"
     ]
    },
    {
     "name": "stdout",
     "output_type": "stream",
     "text": [
      "Epoch 800/2000, Loss: 0.0767\n",
      "Test Accuracy at Epoch 800: 79.21%\n",
      "Test F1-score at Epoch 800: 0.8141\n",
      "Classification Report at Epoch 800:\n",
      "                  precision    recall  f1-score   support\n",
      "\n",
      "    infringement       0.91      0.66      0.76       194\n",
      "non_infringement       0.72      0.93      0.81       186\n",
      "\n",
      "        accuracy                           0.79       380\n",
      "       macro avg       0.82      0.79      0.79       380\n",
      "    weighted avg       0.82      0.79      0.79       380\n",
      "\n"
     ]
    },
    {
     "name": "stderr",
     "output_type": "stream",
     "text": [
      "Training Epochs:  40%|████      | 810/2000 [02:41<04:40,  4.24it/s]"
     ]
    },
    {
     "name": "stdout",
     "output_type": "stream",
     "text": [
      "Epoch 810/2000, Loss: 0.0762\n",
      "Test Accuracy at Epoch 810: 79.47%\n",
      "Test F1-score at Epoch 810: 0.8160\n",
      "Classification Report at Epoch 810:\n",
      "                  precision    recall  f1-score   support\n",
      "\n",
      "    infringement       0.91      0.66      0.77       194\n",
      "non_infringement       0.73      0.93      0.82       186\n",
      "\n",
      "        accuracy                           0.79       380\n",
      "       macro avg       0.82      0.80      0.79       380\n",
      "    weighted avg       0.82      0.79      0.79       380\n",
      "\n"
     ]
    },
    {
     "name": "stderr",
     "output_type": "stream",
     "text": [
      "Training Epochs:  41%|████      | 820/2000 [02:45<10:14,  1.92it/s]"
     ]
    },
    {
     "name": "stdout",
     "output_type": "stream",
     "text": [
      "Epoch 820/2000, Loss: 0.0761\n",
      "Test Accuracy at Epoch 820: 79.74%\n",
      "Test F1-score at Epoch 820: 0.8180\n",
      "Classification Report at Epoch 820:\n",
      "                  precision    recall  f1-score   support\n",
      "\n",
      "    infringement       0.91      0.67      0.77       194\n",
      "non_infringement       0.73      0.93      0.82       186\n",
      "\n",
      "        accuracy                           0.80       380\n",
      "       macro avg       0.82      0.80      0.79       380\n",
      "    weighted avg       0.82      0.80      0.79       380\n",
      "\n"
     ]
    },
    {
     "name": "stderr",
     "output_type": "stream",
     "text": [
      "Training Epochs:  42%|████▏     | 832/2000 [02:48<03:11,  6.11it/s]"
     ]
    },
    {
     "name": "stdout",
     "output_type": "stream",
     "text": [
      "Epoch 830/2000, Loss: 0.0789\n",
      "Test Accuracy at Epoch 830: 79.21%\n",
      "Test F1-score at Epoch 830: 0.8141\n",
      "Classification Report at Epoch 830:\n",
      "                  precision    recall  f1-score   support\n",
      "\n",
      "    infringement       0.91      0.66      0.76       194\n",
      "non_infringement       0.72      0.93      0.81       186\n",
      "\n",
      "        accuracy                           0.79       380\n",
      "       macro avg       0.82      0.79      0.79       380\n",
      "    weighted avg       0.82      0.79      0.79       380\n",
      "\n"
     ]
    },
    {
     "name": "stderr",
     "output_type": "stream",
     "text": [
      "Training Epochs:  42%|████▏     | 841/2000 [02:51<04:12,  4.60it/s]"
     ]
    },
    {
     "name": "stdout",
     "output_type": "stream",
     "text": [
      "Epoch 840/2000, Loss: 0.0779\n",
      "Test Accuracy at Epoch 840: 79.21%\n",
      "Test F1-score at Epoch 840: 0.8141\n",
      "Classification Report at Epoch 840:\n",
      "                  precision    recall  f1-score   support\n",
      "\n",
      "    infringement       0.91      0.66      0.76       194\n",
      "non_infringement       0.72      0.93      0.81       186\n",
      "\n",
      "        accuracy                           0.79       380\n",
      "       macro avg       0.82      0.79      0.79       380\n",
      "    weighted avg       0.82      0.79      0.79       380\n",
      "\n"
     ]
    },
    {
     "name": "stderr",
     "output_type": "stream",
     "text": [
      "Training Epochs:  42%|████▎     | 850/2000 [02:52<03:41,  5.20it/s]"
     ]
    },
    {
     "name": "stdout",
     "output_type": "stream",
     "text": [
      "Epoch 850/2000, Loss: 0.0763\n",
      "Test Accuracy at Epoch 850: 79.21%\n",
      "Test F1-score at Epoch 850: 0.8141\n",
      "Classification Report at Epoch 850:\n",
      "                  precision    recall  f1-score   support\n",
      "\n",
      "    infringement       0.91      0.66      0.76       194\n",
      "non_infringement       0.72      0.93      0.81       186\n",
      "\n",
      "        accuracy                           0.79       380\n",
      "       macro avg       0.82      0.79      0.79       380\n",
      "    weighted avg       0.82      0.79      0.79       380\n",
      "\n"
     ]
    },
    {
     "name": "stderr",
     "output_type": "stream",
     "text": [
      "Training Epochs:  43%|████▎     | 860/2000 [02:56<07:50,  2.42it/s]"
     ]
    },
    {
     "name": "stdout",
     "output_type": "stream",
     "text": [
      "Epoch 860/2000, Loss: 0.0769\n",
      "Test Accuracy at Epoch 860: 79.21%\n",
      "Test F1-score at Epoch 860: 0.8141\n",
      "Classification Report at Epoch 860:\n",
      "                  precision    recall  f1-score   support\n",
      "\n",
      "    infringement       0.91      0.66      0.76       194\n",
      "non_infringement       0.72      0.93      0.81       186\n",
      "\n",
      "        accuracy                           0.79       380\n",
      "       macro avg       0.82      0.79      0.79       380\n",
      "    weighted avg       0.82      0.79      0.79       380\n",
      "\n"
     ]
    },
    {
     "name": "stderr",
     "output_type": "stream",
     "text": [
      "Training Epochs:  44%|████▎     | 870/2000 [03:00<09:03,  2.08it/s]"
     ]
    },
    {
     "name": "stdout",
     "output_type": "stream",
     "text": [
      "Epoch 870/2000, Loss: 0.0762\n",
      "Test Accuracy at Epoch 870: 79.21%\n",
      "Test F1-score at Epoch 870: 0.8141\n",
      "Classification Report at Epoch 870:\n",
      "                  precision    recall  f1-score   support\n",
      "\n",
      "    infringement       0.91      0.66      0.76       194\n",
      "non_infringement       0.72      0.93      0.81       186\n",
      "\n",
      "        accuracy                           0.79       380\n",
      "       macro avg       0.82      0.79      0.79       380\n",
      "    weighted avg       0.82      0.79      0.79       380\n",
      "\n"
     ]
    },
    {
     "name": "stderr",
     "output_type": "stream",
     "text": [
      "Training Epochs:  44%|████▍     | 880/2000 [03:03<04:59,  3.74it/s]"
     ]
    },
    {
     "name": "stdout",
     "output_type": "stream",
     "text": [
      "Epoch 880/2000, Loss: 0.0758\n",
      "Test Accuracy at Epoch 880: 79.21%\n",
      "Test F1-score at Epoch 880: 0.8141\n",
      "Classification Report at Epoch 880:\n",
      "                  precision    recall  f1-score   support\n",
      "\n",
      "    infringement       0.91      0.66      0.76       194\n",
      "non_infringement       0.72      0.93      0.81       186\n",
      "\n",
      "        accuracy                           0.79       380\n",
      "       macro avg       0.82      0.79      0.79       380\n",
      "    weighted avg       0.82      0.79      0.79       380\n",
      "\n"
     ]
    },
    {
     "name": "stderr",
     "output_type": "stream",
     "text": [
      "Training Epochs:  45%|████▍     | 893/2000 [03:05<01:41, 10.92it/s]"
     ]
    },
    {
     "name": "stdout",
     "output_type": "stream",
     "text": [
      "Epoch 890/2000, Loss: 0.0757\n",
      "Test Accuracy at Epoch 890: 79.47%\n",
      "Test F1-score at Epoch 890: 0.8160\n",
      "Classification Report at Epoch 890:\n",
      "                  precision    recall  f1-score   support\n",
      "\n",
      "    infringement       0.91      0.66      0.77       194\n",
      "non_infringement       0.73      0.93      0.82       186\n",
      "\n",
      "        accuracy                           0.79       380\n",
      "       macro avg       0.82      0.80      0.79       380\n",
      "    weighted avg       0.82      0.79      0.79       380\n",
      "\n"
     ]
    },
    {
     "name": "stderr",
     "output_type": "stream",
     "text": [
      "Training Epochs:  45%|████▌     | 900/2000 [03:05<01:27, 12.59it/s]"
     ]
    },
    {
     "name": "stdout",
     "output_type": "stream",
     "text": [
      "Epoch 900/2000, Loss: 0.0755\n",
      "Test Accuracy at Epoch 900: 79.21%\n",
      "Test F1-score at Epoch 900: 0.8141\n",
      "Classification Report at Epoch 900:\n",
      "                  precision    recall  f1-score   support\n",
      "\n",
      "    infringement       0.91      0.66      0.76       194\n",
      "non_infringement       0.72      0.93      0.81       186\n",
      "\n",
      "        accuracy                           0.79       380\n",
      "       macro avg       0.82      0.79      0.79       380\n",
      "    weighted avg       0.82      0.79      0.79       380\n",
      "\n"
     ]
    },
    {
     "name": "stderr",
     "output_type": "stream",
     "text": [
      "Training Epochs:  46%|████▌     | 910/2000 [03:10<07:50,  2.32it/s]"
     ]
    },
    {
     "name": "stdout",
     "output_type": "stream",
     "text": [
      "Epoch 910/2000, Loss: 0.0763\n",
      "Test Accuracy at Epoch 910: 79.47%\n",
      "Test F1-score at Epoch 910: 0.8169\n",
      "Classification Report at Epoch 910:\n",
      "                  precision    recall  f1-score   support\n",
      "\n",
      "    infringement       0.91      0.66      0.77       194\n",
      "non_infringement       0.72      0.94      0.82       186\n",
      "\n",
      "        accuracy                           0.79       380\n",
      "       macro avg       0.82      0.80      0.79       380\n",
      "    weighted avg       0.82      0.79      0.79       380\n",
      "\n"
     ]
    },
    {
     "name": "stderr",
     "output_type": "stream",
     "text": [
      "Training Epochs:  46%|████▌     | 920/2000 [03:11<01:55,  9.35it/s]"
     ]
    },
    {
     "name": "stdout",
     "output_type": "stream",
     "text": [
      "Epoch 920/2000, Loss: 0.0767\n",
      "Test Accuracy at Epoch 920: 80.00%\n",
      "Test F1-score at Epoch 920: 0.8199\n",
      "Classification Report at Epoch 920:\n",
      "                  precision    recall  f1-score   support\n",
      "\n",
      "    infringement       0.91      0.68      0.78       194\n",
      "non_infringement       0.73      0.93      0.82       186\n",
      "\n",
      "        accuracy                           0.80       380\n",
      "       macro avg       0.82      0.80      0.80       380\n",
      "    weighted avg       0.82      0.80      0.80       380\n",
      "\n"
     ]
    },
    {
     "name": "stderr",
     "output_type": "stream",
     "text": [
      "Training Epochs:  46%|████▋     | 930/2000 [03:13<02:54,  6.13it/s]"
     ]
    },
    {
     "name": "stdout",
     "output_type": "stream",
     "text": [
      "Epoch 930/2000, Loss: 0.0799\n",
      "Test Accuracy at Epoch 930: 79.47%\n",
      "Test F1-score at Epoch 930: 0.8169\n",
      "Classification Report at Epoch 930:\n",
      "                  precision    recall  f1-score   support\n",
      "\n",
      "    infringement       0.91      0.66      0.77       194\n",
      "non_infringement       0.72      0.94      0.82       186\n",
      "\n",
      "        accuracy                           0.79       380\n",
      "       macro avg       0.82      0.80      0.79       380\n",
      "    weighted avg       0.82      0.79      0.79       380\n",
      "\n"
     ]
    },
    {
     "name": "stderr",
     "output_type": "stream",
     "text": [
      "Training Epochs:  47%|████▋     | 942/2000 [03:15<02:18,  7.65it/s]"
     ]
    },
    {
     "name": "stdout",
     "output_type": "stream",
     "text": [
      "Epoch 940/2000, Loss: 0.0756\n",
      "Test Accuracy at Epoch 940: 79.47%\n",
      "Test F1-score at Epoch 940: 0.8169\n",
      "Classification Report at Epoch 940:\n",
      "                  precision    recall  f1-score   support\n",
      "\n",
      "    infringement       0.91      0.66      0.77       194\n",
      "non_infringement       0.72      0.94      0.82       186\n",
      "\n",
      "        accuracy                           0.79       380\n",
      "       macro avg       0.82      0.80      0.79       380\n",
      "    weighted avg       0.82      0.79      0.79       380\n",
      "\n"
     ]
    },
    {
     "name": "stderr",
     "output_type": "stream",
     "text": [
      "Training Epochs:  48%|████▊     | 952/2000 [03:18<03:51,  4.53it/s]"
     ]
    },
    {
     "name": "stdout",
     "output_type": "stream",
     "text": [
      "Epoch 950/2000, Loss: 0.0757\n",
      "Test Accuracy at Epoch 950: 79.47%\n",
      "Test F1-score at Epoch 950: 0.8160\n",
      "Classification Report at Epoch 950:\n",
      "                  precision    recall  f1-score   support\n",
      "\n",
      "    infringement       0.91      0.66      0.77       194\n",
      "non_infringement       0.73      0.93      0.82       186\n",
      "\n",
      "        accuracy                           0.79       380\n",
      "       macro avg       0.82      0.80      0.79       380\n",
      "    weighted avg       0.82      0.79      0.79       380\n",
      "\n"
     ]
    },
    {
     "name": "stderr",
     "output_type": "stream",
     "text": [
      "Training Epochs:  48%|████▊     | 961/2000 [03:19<01:44,  9.98it/s]"
     ]
    },
    {
     "name": "stdout",
     "output_type": "stream",
     "text": [
      "Epoch 960/2000, Loss: 0.0753\n",
      "Test Accuracy at Epoch 960: 79.47%\n",
      "Test F1-score at Epoch 960: 0.8160\n",
      "Classification Report at Epoch 960:\n",
      "                  precision    recall  f1-score   support\n",
      "\n",
      "    infringement       0.91      0.66      0.77       194\n",
      "non_infringement       0.73      0.93      0.82       186\n",
      "\n",
      "        accuracy                           0.79       380\n",
      "       macro avg       0.82      0.80      0.79       380\n",
      "    weighted avg       0.82      0.79      0.79       380\n",
      "\n"
     ]
    },
    {
     "name": "stderr",
     "output_type": "stream",
     "text": [
      "Training Epochs:  49%|████▊     | 971/2000 [03:21<04:26,  3.86it/s]"
     ]
    },
    {
     "name": "stdout",
     "output_type": "stream",
     "text": [
      "Epoch 970/2000, Loss: 0.0753\n",
      "Test Accuracy at Epoch 970: 79.47%\n",
      "Test F1-score at Epoch 970: 0.8160\n",
      "Classification Report at Epoch 970:\n",
      "                  precision    recall  f1-score   support\n",
      "\n",
      "    infringement       0.91      0.66      0.77       194\n",
      "non_infringement       0.73      0.93      0.82       186\n",
      "\n",
      "        accuracy                           0.79       380\n",
      "       macro avg       0.82      0.80      0.79       380\n",
      "    weighted avg       0.82      0.79      0.79       380\n",
      "\n"
     ]
    },
    {
     "name": "stderr",
     "output_type": "stream",
     "text": [
      "Training Epochs:  49%|████▉     | 981/2000 [03:22<02:20,  7.25it/s]"
     ]
    },
    {
     "name": "stdout",
     "output_type": "stream",
     "text": [
      "Epoch 980/2000, Loss: 0.0755\n",
      "Test Accuracy at Epoch 980: 79.47%\n",
      "Test F1-score at Epoch 980: 0.8160\n",
      "Classification Report at Epoch 980:\n",
      "                  precision    recall  f1-score   support\n",
      "\n",
      "    infringement       0.91      0.66      0.77       194\n",
      "non_infringement       0.73      0.93      0.82       186\n",
      "\n",
      "        accuracy                           0.79       380\n",
      "       macro avg       0.82      0.80      0.79       380\n",
      "    weighted avg       0.82      0.79      0.79       380\n",
      "\n"
     ]
    },
    {
     "name": "stderr",
     "output_type": "stream",
     "text": [
      "Training Epochs:  50%|████▉     | 993/2000 [03:23<00:53, 19.00it/s]"
     ]
    },
    {
     "name": "stdout",
     "output_type": "stream",
     "text": [
      "Epoch 990/2000, Loss: 0.0779\n",
      "Test Accuracy at Epoch 990: 79.74%\n",
      "Test F1-score at Epoch 990: 0.8180\n",
      "Classification Report at Epoch 990:\n",
      "                  precision    recall  f1-score   support\n",
      "\n",
      "    infringement       0.91      0.67      0.77       194\n",
      "non_infringement       0.73      0.93      0.82       186\n",
      "\n",
      "        accuracy                           0.80       380\n",
      "       macro avg       0.82      0.80      0.79       380\n",
      "    weighted avg       0.82      0.80      0.79       380\n",
      "\n"
     ]
    },
    {
     "name": "stderr",
     "output_type": "stream",
     "text": [
      "Training Epochs:  50%|█████     | 1001/2000 [03:24<02:09,  7.70it/s]"
     ]
    },
    {
     "name": "stdout",
     "output_type": "stream",
     "text": [
      "Epoch 1000/2000, Loss: 0.0752\n",
      "Test Accuracy at Epoch 1000: 79.47%\n",
      "Test F1-score at Epoch 1000: 0.8160\n",
      "Classification Report at Epoch 1000:\n",
      "                  precision    recall  f1-score   support\n",
      "\n",
      "    infringement       0.91      0.66      0.77       194\n",
      "non_infringement       0.73      0.93      0.82       186\n",
      "\n",
      "        accuracy                           0.79       380\n",
      "       macro avg       0.82      0.80      0.79       380\n",
      "    weighted avg       0.82      0.79      0.79       380\n",
      "\n"
     ]
    },
    {
     "name": "stderr",
     "output_type": "stream",
     "text": [
      "Training Epochs:  51%|█████     | 1015/2000 [03:26<00:59, 16.58it/s]"
     ]
    },
    {
     "name": "stdout",
     "output_type": "stream",
     "text": [
      "Epoch 1010/2000, Loss: 0.0767\n",
      "Test Accuracy at Epoch 1010: 79.47%\n",
      "Test F1-score at Epoch 1010: 0.8169\n",
      "Classification Report at Epoch 1010:\n",
      "                  precision    recall  f1-score   support\n",
      "\n",
      "    infringement       0.91      0.66      0.77       194\n",
      "non_infringement       0.72      0.94      0.82       186\n",
      "\n",
      "        accuracy                           0.79       380\n",
      "       macro avg       0.82      0.80      0.79       380\n",
      "    weighted avg       0.82      0.79      0.79       380\n",
      "\n"
     ]
    },
    {
     "name": "stderr",
     "output_type": "stream",
     "text": [
      "Training Epochs:  51%|█████▏    | 1028/2000 [03:26<00:32, 29.48it/s]"
     ]
    },
    {
     "name": "stdout",
     "output_type": "stream",
     "text": [
      "Epoch 1020/2000, Loss: 0.0756\n",
      "Test Accuracy at Epoch 1020: 79.47%\n",
      "Test F1-score at Epoch 1020: 0.8160\n",
      "Classification Report at Epoch 1020:\n",
      "                  precision    recall  f1-score   support\n",
      "\n",
      "    infringement       0.91      0.66      0.77       194\n",
      "non_infringement       0.73      0.93      0.82       186\n",
      "\n",
      "        accuracy                           0.79       380\n",
      "       macro avg       0.82      0.80      0.79       380\n",
      "    weighted avg       0.82      0.79      0.79       380\n",
      "\n"
     ]
    },
    {
     "name": "stderr",
     "output_type": "stream",
     "text": [
      "Training Epochs:  52%|█████▏    | 1036/2000 [03:26<00:31, 30.93it/s]"
     ]
    },
    {
     "name": "stdout",
     "output_type": "stream",
     "text": [
      "Epoch 1030/2000, Loss: 0.0752\n",
      "Test Accuracy at Epoch 1030: 79.47%\n",
      "Test F1-score at Epoch 1030: 0.8169\n",
      "Classification Report at Epoch 1030:\n",
      "                  precision    recall  f1-score   support\n",
      "\n",
      "    infringement       0.91      0.66      0.77       194\n",
      "non_infringement       0.72      0.94      0.82       186\n",
      "\n",
      "        accuracy                           0.79       380\n",
      "       macro avg       0.82      0.80      0.79       380\n",
      "    weighted avg       0.82      0.79      0.79       380\n",
      "\n"
     ]
    },
    {
     "name": "stderr",
     "output_type": "stream",
     "text": [
      "Training Epochs:  52%|█████▏    | 1047/2000 [03:27<00:23, 41.40it/s]"
     ]
    },
    {
     "name": "stdout",
     "output_type": "stream",
     "text": [
      "Epoch 1040/2000, Loss: 0.0753\n",
      "Test Accuracy at Epoch 1040: 79.74%\n",
      "Test F1-score at Epoch 1040: 0.8180\n",
      "Classification Report at Epoch 1040:\n",
      "                  precision    recall  f1-score   support\n",
      "\n",
      "    infringement       0.91      0.67      0.77       194\n",
      "non_infringement       0.73      0.93      0.82       186\n",
      "\n",
      "        accuracy                           0.80       380\n",
      "       macro avg       0.82      0.80      0.79       380\n",
      "    weighted avg       0.82      0.80      0.79       380\n",
      "\n",
      "Epoch 1050/2000, Loss: 0.0772\n"
     ]
    },
    {
     "name": "stderr",
     "output_type": "stream",
     "text": [
      "Training Epochs:  53%|█████▎    | 1052/2000 [03:27<00:30, 30.64it/s]"
     ]
    },
    {
     "name": "stdout",
     "output_type": "stream",
     "text": [
      "Test Accuracy at Epoch 1050: 79.74%\n",
      "Test F1-score at Epoch 1050: 0.8180\n",
      "Classification Report at Epoch 1050:\n",
      "                  precision    recall  f1-score   support\n",
      "\n",
      "    infringement       0.91      0.67      0.77       194\n",
      "non_infringement       0.73      0.93      0.82       186\n",
      "\n",
      "        accuracy                           0.80       380\n",
      "       macro avg       0.82      0.80      0.79       380\n",
      "    weighted avg       0.82      0.80      0.79       380\n",
      "\n"
     ]
    },
    {
     "name": "stderr",
     "output_type": "stream",
     "text": [
      "Training Epochs:  53%|█████▎    | 1063/2000 [03:27<00:29, 31.82it/s]"
     ]
    },
    {
     "name": "stdout",
     "output_type": "stream",
     "text": [
      "Epoch 1060/2000, Loss: 0.0750\n",
      "Test Accuracy at Epoch 1060: 79.74%\n",
      "Test F1-score at Epoch 1060: 0.8188\n",
      "Classification Report at Epoch 1060:\n",
      "                  precision    recall  f1-score   support\n",
      "\n",
      "    infringement       0.91      0.66      0.77       194\n",
      "non_infringement       0.73      0.94      0.82       186\n",
      "\n",
      "        accuracy                           0.80       380\n",
      "       macro avg       0.82      0.80      0.79       380\n",
      "    weighted avg       0.82      0.80      0.79       380\n",
      "\n"
     ]
    },
    {
     "name": "stderr",
     "output_type": "stream",
     "text": [
      "Training Epochs:  53%|█████▎    | 1067/2000 [03:27<00:28, 32.58it/s]"
     ]
    },
    {
     "name": "stdout",
     "output_type": "stream",
     "text": [
      "Epoch 1070/2000, Loss: 0.0771\n",
      "Test Accuracy at Epoch 1070: 79.47%\n",
      "Test F1-score at Epoch 1070: 0.8169\n",
      "Classification Report at Epoch 1070:\n",
      "                  precision    recall  f1-score   support\n",
      "\n",
      "    infringement       0.91      0.66      0.77       194\n",
      "non_infringement       0.72      0.94      0.82       186\n",
      "\n",
      "        accuracy                           0.79       380\n",
      "       macro avg       0.82      0.80      0.79       380\n",
      "    weighted avg       0.82      0.79      0.79       380\n",
      "\n"
     ]
    },
    {
     "name": "stderr",
     "output_type": "stream",
     "text": [
      "Training Epochs:  54%|█████▍    | 1081/2000 [03:29<01:44,  8.77it/s]"
     ]
    },
    {
     "name": "stdout",
     "output_type": "stream",
     "text": [
      "Epoch 1080/2000, Loss: 0.0748\n",
      "Test Accuracy at Epoch 1080: 79.74%\n",
      "Test F1-score at Epoch 1080: 0.8188\n",
      "Classification Report at Epoch 1080:\n",
      "                  precision    recall  f1-score   support\n",
      "\n",
      "    infringement       0.91      0.66      0.77       194\n",
      "non_infringement       0.73      0.94      0.82       186\n",
      "\n",
      "        accuracy                           0.80       380\n",
      "       macro avg       0.82      0.80      0.79       380\n",
      "    weighted avg       0.82      0.80      0.79       380\n",
      "\n"
     ]
    },
    {
     "name": "stderr",
     "output_type": "stream",
     "text": [
      "Training Epochs:  55%|█████▍    | 1091/2000 [03:30<01:18, 11.63it/s]"
     ]
    },
    {
     "name": "stdout",
     "output_type": "stream",
     "text": [
      "Epoch 1090/2000, Loss: 0.0778\n",
      "Test Accuracy at Epoch 1090: 79.74%\n",
      "Test F1-score at Epoch 1090: 0.8180\n",
      "Classification Report at Epoch 1090:\n",
      "                  precision    recall  f1-score   support\n",
      "\n",
      "    infringement       0.91      0.67      0.77       194\n",
      "non_infringement       0.73      0.93      0.82       186\n",
      "\n",
      "        accuracy                           0.80       380\n",
      "       macro avg       0.82      0.80      0.79       380\n",
      "    weighted avg       0.82      0.80      0.79       380\n",
      "\n"
     ]
    },
    {
     "name": "stderr",
     "output_type": "stream",
     "text": [
      "Training Epochs:  55%|█████▍    | 1099/2000 [03:31<00:49, 18.02it/s]"
     ]
    },
    {
     "name": "stdout",
     "output_type": "stream",
     "text": [
      "Epoch 1100/2000, Loss: 0.0750\n",
      "Test Accuracy at Epoch 1100: 79.47%\n",
      "Test F1-score at Epoch 1100: 0.8169\n",
      "Classification Report at Epoch 1100:\n",
      "                  precision    recall  f1-score   support\n",
      "\n",
      "    infringement       0.91      0.66      0.77       194\n",
      "non_infringement       0.72      0.94      0.82       186\n",
      "\n",
      "        accuracy                           0.79       380\n",
      "       macro avg       0.82      0.80      0.79       380\n",
      "    weighted avg       0.82      0.79      0.79       380\n",
      "\n"
     ]
    },
    {
     "name": "stderr",
     "output_type": "stream",
     "text": [
      "Training Epochs:  56%|█████▌    | 1113/2000 [03:33<01:41,  8.76it/s]"
     ]
    },
    {
     "name": "stdout",
     "output_type": "stream",
     "text": [
      "Epoch 1110/2000, Loss: 0.0758\n",
      "Test Accuracy at Epoch 1110: 79.47%\n",
      "Test F1-score at Epoch 1110: 0.8169\n",
      "Classification Report at Epoch 1110:\n",
      "                  precision    recall  f1-score   support\n",
      "\n",
      "    infringement       0.91      0.66      0.77       194\n",
      "non_infringement       0.72      0.94      0.82       186\n",
      "\n",
      "        accuracy                           0.79       380\n",
      "       macro avg       0.82      0.80      0.79       380\n",
      "    weighted avg       0.82      0.79      0.79       380\n",
      "\n"
     ]
    },
    {
     "name": "stderr",
     "output_type": "stream",
     "text": [
      "Training Epochs:  56%|█████▌    | 1119/2000 [03:33<01:03, 13.97it/s]"
     ]
    },
    {
     "name": "stdout",
     "output_type": "stream",
     "text": [
      "Epoch 1120/2000, Loss: 0.0776\n",
      "Test Accuracy at Epoch 1120: 79.74%\n",
      "Test F1-score at Epoch 1120: 0.8180\n",
      "Classification Report at Epoch 1120:\n",
      "                  precision    recall  f1-score   support\n",
      "\n",
      "    infringement       0.91      0.67      0.77       194\n",
      "non_infringement       0.73      0.93      0.82       186\n",
      "\n",
      "        accuracy                           0.80       380\n",
      "       macro avg       0.82      0.80      0.79       380\n",
      "    weighted avg       0.82      0.80      0.79       380\n",
      "\n"
     ]
    },
    {
     "name": "stderr",
     "output_type": "stream",
     "text": [
      "Training Epochs:  56%|█████▋    | 1129/2000 [03:36<04:04,  3.56it/s]"
     ]
    },
    {
     "name": "stdout",
     "output_type": "stream",
     "text": [
      "Epoch 1130/2000, Loss: 0.0760\n",
      "Test Accuracy at Epoch 1130: 79.47%\n",
      "Test F1-score at Epoch 1130: 0.8169\n",
      "Classification Report at Epoch 1130:\n",
      "                  precision    recall  f1-score   support\n",
      "\n",
      "    infringement       0.91      0.66      0.77       194\n",
      "non_infringement       0.72      0.94      0.82       186\n",
      "\n",
      "        accuracy                           0.79       380\n",
      "       macro avg       0.82      0.80      0.79       380\n",
      "    weighted avg       0.82      0.79      0.79       380\n",
      "\n"
     ]
    },
    {
     "name": "stderr",
     "output_type": "stream",
     "text": [
      "Training Epochs:  57%|█████▋    | 1143/2000 [03:41<02:13,  6.44it/s]"
     ]
    },
    {
     "name": "stdout",
     "output_type": "stream",
     "text": [
      "Epoch 1140/2000, Loss: 0.0747\n",
      "Test Accuracy at Epoch 1140: 80.00%\n",
      "Test F1-score at Epoch 1140: 0.8208\n",
      "Classification Report at Epoch 1140:\n",
      "                  precision    recall  f1-score   support\n",
      "\n",
      "    infringement       0.92      0.67      0.77       194\n",
      "non_infringement       0.73      0.94      0.82       186\n",
      "\n",
      "        accuracy                           0.80       380\n",
      "       macro avg       0.82      0.80      0.80       380\n",
      "    weighted avg       0.83      0.80      0.80       380\n",
      "\n"
     ]
    },
    {
     "name": "stderr",
     "output_type": "stream",
     "text": [
      "Training Epochs:  58%|█████▊    | 1152/2000 [03:41<00:53, 15.72it/s]"
     ]
    },
    {
     "name": "stdout",
     "output_type": "stream",
     "text": [
      "Epoch 1150/2000, Loss: 0.0758\n",
      "Test Accuracy at Epoch 1150: 80.00%\n",
      "Test F1-score at Epoch 1150: 0.8208\n",
      "Classification Report at Epoch 1150:\n",
      "                  precision    recall  f1-score   support\n",
      "\n",
      "    infringement       0.92      0.67      0.77       194\n",
      "non_infringement       0.73      0.94      0.82       186\n",
      "\n",
      "        accuracy                           0.80       380\n",
      "       macro avg       0.82      0.80      0.80       380\n",
      "    weighted avg       0.83      0.80      0.80       380\n",
      "\n"
     ]
    },
    {
     "name": "stderr",
     "output_type": "stream",
     "text": [
      "Training Epochs:  58%|█████▊    | 1164/2000 [03:42<00:37, 22.48it/s]"
     ]
    },
    {
     "name": "stdout",
     "output_type": "stream",
     "text": [
      "Epoch 1160/2000, Loss: 0.0763\n",
      "Test Accuracy at Epoch 1160: 79.47%\n",
      "Test F1-score at Epoch 1160: 0.8169\n",
      "Classification Report at Epoch 1160:\n",
      "                  precision    recall  f1-score   support\n",
      "\n",
      "    infringement       0.91      0.66      0.77       194\n",
      "non_infringement       0.72      0.94      0.82       186\n",
      "\n",
      "        accuracy                           0.79       380\n",
      "       macro avg       0.82      0.80      0.79       380\n",
      "    weighted avg       0.82      0.79      0.79       380\n",
      "\n"
     ]
    },
    {
     "name": "stderr",
     "output_type": "stream",
     "text": [
      "Training Epochs:  58%|█████▊    | 1169/2000 [03:44<03:07,  4.44it/s]"
     ]
    },
    {
     "name": "stdout",
     "output_type": "stream",
     "text": [
      "Epoch 1170/2000, Loss: 0.0746\n",
      "Test Accuracy at Epoch 1170: 79.74%\n",
      "Test F1-score at Epoch 1170: 0.8188\n",
      "Classification Report at Epoch 1170:\n",
      "                  precision    recall  f1-score   support\n",
      "\n",
      "    infringement       0.91      0.66      0.77       194\n",
      "non_infringement       0.73      0.94      0.82       186\n",
      "\n",
      "        accuracy                           0.80       380\n",
      "       macro avg       0.82      0.80      0.79       380\n",
      "    weighted avg       0.82      0.80      0.79       380\n",
      "\n"
     ]
    },
    {
     "name": "stderr",
     "output_type": "stream",
     "text": [
      "Training Epochs:  59%|█████▉    | 1180/2000 [03:46<01:50,  7.40it/s]"
     ]
    },
    {
     "name": "stdout",
     "output_type": "stream",
     "text": [
      "Epoch 1180/2000, Loss: 0.0771\n",
      "Test Accuracy at Epoch 1180: 81.58%\n",
      "Test F1-score at Epoch 1180: 0.8325\n",
      "Classification Report at Epoch 1180:\n",
      "                  precision    recall  f1-score   support\n",
      "\n",
      "    infringement       0.92      0.70      0.80       194\n",
      "non_infringement       0.75      0.94      0.83       186\n",
      "\n",
      "        accuracy                           0.82       380\n",
      "       macro avg       0.83      0.82      0.81       380\n",
      "    weighted avg       0.84      0.82      0.81       380\n",
      "\n",
      "New best model saved with F1-score 0.8325 at epoch 1180\n",
      "Best Classification Report at Epoch 1180:\n",
      "                  precision    recall  f1-score   support\n",
      "\n",
      "    infringement       0.92      0.70      0.80       194\n",
      "non_infringement       0.75      0.94      0.83       186\n",
      "\n",
      "        accuracy                           0.82       380\n",
      "       macro avg       0.83      0.82      0.81       380\n",
      "    weighted avg       0.84      0.82      0.81       380\n",
      "\n"
     ]
    },
    {
     "name": "stderr",
     "output_type": "stream",
     "text": [
      "Training Epochs:  60%|█████▉    | 1190/2000 [03:49<04:52,  2.77it/s]"
     ]
    },
    {
     "name": "stdout",
     "output_type": "stream",
     "text": [
      "Epoch 1190/2000, Loss: 0.0747\n",
      "Test Accuracy at Epoch 1190: 79.47%\n",
      "Test F1-score at Epoch 1190: 0.8169\n",
      "Classification Report at Epoch 1190:\n",
      "                  precision    recall  f1-score   support\n",
      "\n",
      "    infringement       0.91      0.66      0.77       194\n",
      "non_infringement       0.72      0.94      0.82       186\n",
      "\n",
      "        accuracy                           0.79       380\n",
      "       macro avg       0.82      0.80      0.79       380\n",
      "    weighted avg       0.82      0.79      0.79       380\n",
      "\n"
     ]
    },
    {
     "name": "stderr",
     "output_type": "stream",
     "text": [
      "Training Epochs:  60%|██████    | 1200/2000 [03:54<07:08,  1.87it/s]"
     ]
    },
    {
     "name": "stdout",
     "output_type": "stream",
     "text": [
      "Epoch 1200/2000, Loss: 0.0772\n",
      "Test Accuracy at Epoch 1200: 79.47%\n",
      "Test F1-score at Epoch 1200: 0.8169\n",
      "Classification Report at Epoch 1200:\n",
      "                  precision    recall  f1-score   support\n",
      "\n",
      "    infringement       0.91      0.66      0.77       194\n",
      "non_infringement       0.72      0.94      0.82       186\n",
      "\n",
      "        accuracy                           0.79       380\n",
      "       macro avg       0.82      0.80      0.79       380\n",
      "    weighted avg       0.82      0.79      0.79       380\n",
      "\n"
     ]
    },
    {
     "name": "stderr",
     "output_type": "stream",
     "text": [
      "Training Epochs:  60%|██████    | 1210/2000 [03:59<06:21,  2.07it/s]"
     ]
    },
    {
     "name": "stdout",
     "output_type": "stream",
     "text": [
      "Epoch 1210/2000, Loss: 0.0747\n",
      "Test Accuracy at Epoch 1210: 80.00%\n",
      "Test F1-score at Epoch 1210: 0.8208\n",
      "Classification Report at Epoch 1210:\n",
      "                  precision    recall  f1-score   support\n",
      "\n",
      "    infringement       0.92      0.67      0.77       194\n",
      "non_infringement       0.73      0.94      0.82       186\n",
      "\n",
      "        accuracy                           0.80       380\n",
      "       macro avg       0.82      0.80      0.80       380\n",
      "    weighted avg       0.83      0.80      0.80       380\n",
      "\n"
     ]
    },
    {
     "name": "stderr",
     "output_type": "stream",
     "text": [
      "Training Epochs:  61%|██████    | 1220/2000 [04:02<04:05,  3.17it/s]"
     ]
    },
    {
     "name": "stdout",
     "output_type": "stream",
     "text": [
      "Epoch 1220/2000, Loss: 0.0768\n",
      "Test Accuracy at Epoch 1220: 81.58%\n",
      "Test F1-score at Epoch 1220: 0.8325\n",
      "Classification Report at Epoch 1220:\n",
      "                  precision    recall  f1-score   support\n",
      "\n",
      "    infringement       0.92      0.70      0.80       194\n",
      "non_infringement       0.75      0.94      0.83       186\n",
      "\n",
      "        accuracy                           0.82       380\n",
      "       macro avg       0.83      0.82      0.81       380\n",
      "    weighted avg       0.84      0.82      0.81       380\n",
      "\n"
     ]
    },
    {
     "name": "stderr",
     "output_type": "stream",
     "text": [
      "Training Epochs:  62%|██████▏   | 1232/2000 [04:06<02:27,  5.21it/s]"
     ]
    },
    {
     "name": "stdout",
     "output_type": "stream",
     "text": [
      "Epoch 1230/2000, Loss: 0.0746\n",
      "Test Accuracy at Epoch 1230: 79.47%\n",
      "Test F1-score at Epoch 1230: 0.8169\n",
      "Classification Report at Epoch 1230:\n",
      "                  precision    recall  f1-score   support\n",
      "\n",
      "    infringement       0.91      0.66      0.77       194\n",
      "non_infringement       0.72      0.94      0.82       186\n",
      "\n",
      "        accuracy                           0.79       380\n",
      "       macro avg       0.82      0.80      0.79       380\n",
      "    weighted avg       0.82      0.79      0.79       380\n",
      "\n"
     ]
    },
    {
     "name": "stderr",
     "output_type": "stream",
     "text": [
      "Training Epochs:  62%|██████▏   | 1240/2000 [04:08<02:07,  5.94it/s]"
     ]
    },
    {
     "name": "stdout",
     "output_type": "stream",
     "text": [
      "Epoch 1240/2000, Loss: 0.0773\n",
      "Test Accuracy at Epoch 1240: 79.47%\n",
      "Test F1-score at Epoch 1240: 0.8169\n",
      "Classification Report at Epoch 1240:\n",
      "                  precision    recall  f1-score   support\n",
      "\n",
      "    infringement       0.91      0.66      0.77       194\n",
      "non_infringement       0.72      0.94      0.82       186\n",
      "\n",
      "        accuracy                           0.79       380\n",
      "       macro avg       0.82      0.80      0.79       380\n",
      "    weighted avg       0.82      0.79      0.79       380\n",
      "\n"
     ]
    },
    {
     "name": "stderr",
     "output_type": "stream",
     "text": [
      "Training Epochs:  62%|██████▎   | 1250/2000 [04:13<05:57,  2.10it/s]"
     ]
    },
    {
     "name": "stdout",
     "output_type": "stream",
     "text": [
      "Epoch 1250/2000, Loss: 0.0745\n",
      "Test Accuracy at Epoch 1250: 80.00%\n",
      "Test F1-score at Epoch 1250: 0.8208\n",
      "Classification Report at Epoch 1250:\n",
      "                  precision    recall  f1-score   support\n",
      "\n",
      "    infringement       0.92      0.67      0.77       194\n",
      "non_infringement       0.73      0.94      0.82       186\n",
      "\n",
      "        accuracy                           0.80       380\n",
      "       macro avg       0.82      0.80      0.80       380\n",
      "    weighted avg       0.83      0.80      0.80       380\n",
      "\n"
     ]
    },
    {
     "name": "stderr",
     "output_type": "stream",
     "text": [
      "Training Epochs:  63%|██████▎   | 1262/2000 [04:15<01:25,  8.61it/s]"
     ]
    },
    {
     "name": "stdout",
     "output_type": "stream",
     "text": [
      "Epoch 1260/2000, Loss: 0.0769\n",
      "Test Accuracy at Epoch 1260: 81.58%\n",
      "Test F1-score at Epoch 1260: 0.8325\n",
      "Classification Report at Epoch 1260:\n",
      "                  precision    recall  f1-score   support\n",
      "\n",
      "    infringement       0.92      0.70      0.80       194\n",
      "non_infringement       0.75      0.94      0.83       186\n",
      "\n",
      "        accuracy                           0.82       380\n",
      "       macro avg       0.83      0.82      0.81       380\n",
      "    weighted avg       0.84      0.82      0.81       380\n",
      "\n"
     ]
    },
    {
     "name": "stderr",
     "output_type": "stream",
     "text": [
      "Training Epochs:  64%|██████▎   | 1270/2000 [04:16<02:53,  4.21it/s]"
     ]
    },
    {
     "name": "stdout",
     "output_type": "stream",
     "text": [
      "Epoch 1270/2000, Loss: 0.0744\n",
      "Test Accuracy at Epoch 1270: 79.47%\n",
      "Test F1-score at Epoch 1270: 0.8169\n",
      "Classification Report at Epoch 1270:\n",
      "                  precision    recall  f1-score   support\n",
      "\n",
      "    infringement       0.91      0.66      0.77       194\n",
      "non_infringement       0.72      0.94      0.82       186\n",
      "\n",
      "        accuracy                           0.79       380\n",
      "       macro avg       0.82      0.80      0.79       380\n",
      "    weighted avg       0.82      0.79      0.79       380\n",
      "\n"
     ]
    },
    {
     "name": "stderr",
     "output_type": "stream",
     "text": [
      "Training Epochs:  64%|██████▍   | 1280/2000 [04:20<06:19,  1.90it/s]"
     ]
    },
    {
     "name": "stdout",
     "output_type": "stream",
     "text": [
      "Epoch 1280/2000, Loss: 0.0764\n",
      "Test Accuracy at Epoch 1280: 79.47%\n",
      "Test F1-score at Epoch 1280: 0.8169\n",
      "Classification Report at Epoch 1280:\n",
      "                  precision    recall  f1-score   support\n",
      "\n",
      "    infringement       0.91      0.66      0.77       194\n",
      "non_infringement       0.72      0.94      0.82       186\n",
      "\n",
      "        accuracy                           0.79       380\n",
      "       macro avg       0.82      0.80      0.79       380\n",
      "    weighted avg       0.82      0.79      0.79       380\n",
      "\n"
     ]
    },
    {
     "name": "stderr",
     "output_type": "stream",
     "text": [
      "Training Epochs:  64%|██████▍   | 1290/2000 [04:24<03:17,  3.59it/s]"
     ]
    },
    {
     "name": "stdout",
     "output_type": "stream",
     "text": [
      "Epoch 1290/2000, Loss: 0.0745\n",
      "Test Accuracy at Epoch 1290: 79.47%\n",
      "Test F1-score at Epoch 1290: 0.8169\n",
      "Classification Report at Epoch 1290:\n",
      "                  precision    recall  f1-score   support\n",
      "\n",
      "    infringement       0.91      0.66      0.77       194\n",
      "non_infringement       0.72      0.94      0.82       186\n",
      "\n",
      "        accuracy                           0.79       380\n",
      "       macro avg       0.82      0.80      0.79       380\n",
      "    weighted avg       0.82      0.79      0.79       380\n",
      "\n"
     ]
    },
    {
     "name": "stderr",
     "output_type": "stream",
     "text": [
      "Training Epochs:  65%|██████▌   | 1300/2000 [04:29<06:04,  1.92it/s]"
     ]
    },
    {
     "name": "stdout",
     "output_type": "stream",
     "text": [
      "Epoch 1300/2000, Loss: 0.0763\n",
      "Test Accuracy at Epoch 1300: 81.58%\n",
      "Test F1-score at Epoch 1300: 0.8325\n",
      "Classification Report at Epoch 1300:\n",
      "                  precision    recall  f1-score   support\n",
      "\n",
      "    infringement       0.92      0.70      0.80       194\n",
      "non_infringement       0.75      0.94      0.83       186\n",
      "\n",
      "        accuracy                           0.82       380\n",
      "       macro avg       0.83      0.82      0.81       380\n",
      "    weighted avg       0.84      0.82      0.81       380\n",
      "\n"
     ]
    },
    {
     "name": "stderr",
     "output_type": "stream",
     "text": [
      "Training Epochs:  66%|██████▌   | 1311/2000 [04:30<01:13,  9.31it/s]"
     ]
    },
    {
     "name": "stdout",
     "output_type": "stream",
     "text": [
      "Epoch 1310/2000, Loss: 0.0748\n",
      "Test Accuracy at Epoch 1310: 79.47%\n",
      "Test F1-score at Epoch 1310: 0.8169\n",
      "Classification Report at Epoch 1310:\n",
      "                  precision    recall  f1-score   support\n",
      "\n",
      "    infringement       0.91      0.66      0.77       194\n",
      "non_infringement       0.72      0.94      0.82       186\n",
      "\n",
      "        accuracy                           0.79       380\n",
      "       macro avg       0.82      0.80      0.79       380\n",
      "    weighted avg       0.82      0.79      0.79       380\n",
      "\n"
     ]
    },
    {
     "name": "stderr",
     "output_type": "stream",
     "text": [
      "Training Epochs:  66%|██████▌   | 1319/2000 [04:31<01:55,  5.92it/s]"
     ]
    },
    {
     "name": "stdout",
     "output_type": "stream",
     "text": [
      "Epoch 1320/2000, Loss: 0.0755\n",
      "Test Accuracy at Epoch 1320: 79.47%\n",
      "Test F1-score at Epoch 1320: 0.8169\n",
      "Classification Report at Epoch 1320:\n",
      "                  precision    recall  f1-score   support\n",
      "\n",
      "    infringement       0.91      0.66      0.77       194\n",
      "non_infringement       0.72      0.94      0.82       186\n",
      "\n",
      "        accuracy                           0.79       380\n",
      "       macro avg       0.82      0.80      0.79       380\n",
      "    weighted avg       0.82      0.79      0.79       380\n",
      "\n"
     ]
    },
    {
     "name": "stderr",
     "output_type": "stream",
     "text": [
      "Training Epochs:  66%|██████▋   | 1330/2000 [04:36<05:43,  1.95it/s]"
     ]
    },
    {
     "name": "stdout",
     "output_type": "stream",
     "text": [
      "Epoch 1330/2000, Loss: 0.0745\n",
      "Test Accuracy at Epoch 1330: 79.47%\n",
      "Test F1-score at Epoch 1330: 0.8169\n",
      "Classification Report at Epoch 1330:\n",
      "                  precision    recall  f1-score   support\n",
      "\n",
      "    infringement       0.91      0.66      0.77       194\n",
      "non_infringement       0.72      0.94      0.82       186\n",
      "\n",
      "        accuracy                           0.79       380\n",
      "       macro avg       0.82      0.80      0.79       380\n",
      "    weighted avg       0.82      0.79      0.79       380\n",
      "\n"
     ]
    },
    {
     "name": "stderr",
     "output_type": "stream",
     "text": [
      "Training Epochs:  67%|██████▋   | 1340/2000 [04:38<01:55,  5.71it/s]"
     ]
    },
    {
     "name": "stdout",
     "output_type": "stream",
     "text": [
      "Epoch 1340/2000, Loss: 0.0780\n",
      "Test Accuracy at Epoch 1340: 78.95%\n",
      "Test F1-score at Epoch 1340: 0.8131\n",
      "Classification Report at Epoch 1340:\n",
      "                  precision    recall  f1-score   support\n",
      "\n",
      "    infringement       0.91      0.65      0.76       194\n",
      "non_infringement       0.72      0.94      0.81       186\n",
      "\n",
      "        accuracy                           0.79       380\n",
      "       macro avg       0.82      0.79      0.79       380\n",
      "    weighted avg       0.82      0.79      0.79       380\n",
      "\n"
     ]
    },
    {
     "name": "stderr",
     "output_type": "stream",
     "text": [
      "Training Epochs:  68%|██████▊   | 1350/2000 [04:41<02:52,  3.77it/s]"
     ]
    },
    {
     "name": "stdout",
     "output_type": "stream",
     "text": [
      "Epoch 1350/2000, Loss: 0.0751\n",
      "Test Accuracy at Epoch 1350: 81.58%\n",
      "Test F1-score at Epoch 1350: 0.8325\n",
      "Classification Report at Epoch 1350:\n",
      "                  precision    recall  f1-score   support\n",
      "\n",
      "    infringement       0.92      0.70      0.80       194\n",
      "non_infringement       0.75      0.94      0.83       186\n",
      "\n",
      "        accuracy                           0.82       380\n",
      "       macro avg       0.83      0.82      0.81       380\n",
      "    weighted avg       0.84      0.82      0.81       380\n",
      "\n"
     ]
    },
    {
     "name": "stderr",
     "output_type": "stream",
     "text": [
      "Training Epochs:  68%|██████▊   | 1360/2000 [04:43<02:14,  4.76it/s]"
     ]
    },
    {
     "name": "stdout",
     "output_type": "stream",
     "text": [
      "Epoch 1360/2000, Loss: 0.0746\n",
      "Test Accuracy at Epoch 1360: 78.95%\n",
      "Test F1-score at Epoch 1360: 0.8131\n",
      "Classification Report at Epoch 1360:\n",
      "                  precision    recall  f1-score   support\n",
      "\n",
      "    infringement       0.91      0.65      0.76       194\n",
      "non_infringement       0.72      0.94      0.81       186\n",
      "\n",
      "        accuracy                           0.79       380\n",
      "       macro avg       0.82      0.79      0.79       380\n",
      "    weighted avg       0.82      0.79      0.79       380\n",
      "\n"
     ]
    },
    {
     "name": "stderr",
     "output_type": "stream",
     "text": [
      "Training Epochs:  68%|██████▊   | 1370/2000 [04:47<04:16,  2.46it/s]"
     ]
    },
    {
     "name": "stdout",
     "output_type": "stream",
     "text": [
      "Epoch 1370/2000, Loss: 0.0744\n",
      "Test Accuracy at Epoch 1370: 81.58%\n",
      "Test F1-score at Epoch 1370: 0.8325\n",
      "Classification Report at Epoch 1370:\n",
      "                  precision    recall  f1-score   support\n",
      "\n",
      "    infringement       0.92      0.70      0.80       194\n",
      "non_infringement       0.75      0.94      0.83       186\n",
      "\n",
      "        accuracy                           0.82       380\n",
      "       macro avg       0.83      0.82      0.81       380\n",
      "    weighted avg       0.84      0.82      0.81       380\n",
      "\n"
     ]
    },
    {
     "name": "stderr",
     "output_type": "stream",
     "text": [
      "Training Epochs:  69%|██████▉   | 1380/2000 [04:53<05:39,  1.83it/s]"
     ]
    },
    {
     "name": "stdout",
     "output_type": "stream",
     "text": [
      "Epoch 1380/2000, Loss: 0.0744\n",
      "Test Accuracy at Epoch 1380: 81.58%\n",
      "Test F1-score at Epoch 1380: 0.8325\n",
      "Classification Report at Epoch 1380:\n",
      "                  precision    recall  f1-score   support\n",
      "\n",
      "    infringement       0.92      0.70      0.80       194\n",
      "non_infringement       0.75      0.94      0.83       186\n",
      "\n",
      "        accuracy                           0.82       380\n",
      "       macro avg       0.83      0.82      0.81       380\n",
      "    weighted avg       0.84      0.82      0.81       380\n",
      "\n"
     ]
    },
    {
     "name": "stderr",
     "output_type": "stream",
     "text": [
      "Training Epochs:  70%|██████▉   | 1391/2000 [04:54<00:58, 10.44it/s]"
     ]
    },
    {
     "name": "stdout",
     "output_type": "stream",
     "text": [
      "Epoch 1390/2000, Loss: 0.0746\n",
      "Test Accuracy at Epoch 1390: 78.95%\n",
      "Test F1-score at Epoch 1390: 0.8131\n",
      "Classification Report at Epoch 1390:\n",
      "                  precision    recall  f1-score   support\n",
      "\n",
      "    infringement       0.91      0.65      0.76       194\n",
      "non_infringement       0.72      0.94      0.81       186\n",
      "\n",
      "        accuracy                           0.79       380\n",
      "       macro avg       0.82      0.79      0.79       380\n",
      "    weighted avg       0.82      0.79      0.79       380\n",
      "\n"
     ]
    },
    {
     "name": "stderr",
     "output_type": "stream",
     "text": [
      "Training Epochs:  70%|███████   | 1403/2000 [04:54<00:26, 22.70it/s]"
     ]
    },
    {
     "name": "stdout",
     "output_type": "stream",
     "text": [
      "Epoch 1400/2000, Loss: 0.0778\n",
      "Test Accuracy at Epoch 1400: 78.95%\n",
      "Test F1-score at Epoch 1400: 0.8131\n",
      "Classification Report at Epoch 1400:\n",
      "                  precision    recall  f1-score   support\n",
      "\n",
      "    infringement       0.91      0.65      0.76       194\n",
      "non_infringement       0.72      0.94      0.81       186\n",
      "\n",
      "        accuracy                           0.79       380\n",
      "       macro avg       0.82      0.79      0.79       380\n",
      "    weighted avg       0.82      0.79      0.79       380\n",
      "\n"
     ]
    },
    {
     "name": "stderr",
     "output_type": "stream",
     "text": [
      "Training Epochs:  71%|███████   | 1412/2000 [04:57<01:34,  6.24it/s]"
     ]
    },
    {
     "name": "stdout",
     "output_type": "stream",
     "text": [
      "Epoch 1410/2000, Loss: 0.0751\n",
      "Test Accuracy at Epoch 1410: 81.58%\n",
      "Test F1-score at Epoch 1410: 0.8325\n",
      "Classification Report at Epoch 1410:\n",
      "                  precision    recall  f1-score   support\n",
      "\n",
      "    infringement       0.92      0.70      0.80       194\n",
      "non_infringement       0.75      0.94      0.83       186\n",
      "\n",
      "        accuracy                           0.82       380\n",
      "       macro avg       0.83      0.82      0.81       380\n",
      "    weighted avg       0.84      0.82      0.81       380\n",
      "\n"
     ]
    },
    {
     "name": "stderr",
     "output_type": "stream",
     "text": [
      "Training Epochs:  71%|███████   | 1423/2000 [04:57<00:44, 12.91it/s]"
     ]
    },
    {
     "name": "stdout",
     "output_type": "stream",
     "text": [
      "Epoch 1420/2000, Loss: 0.0743\n",
      "Test Accuracy at Epoch 1420: 81.32%\n",
      "Test F1-score at Epoch 1420: 0.8305\n",
      "Classification Report at Epoch 1420:\n",
      "                  precision    recall  f1-score   support\n",
      "\n",
      "    infringement       0.92      0.70      0.79       194\n",
      "non_infringement       0.75      0.94      0.83       186\n",
      "\n",
      "        accuracy                           0.81       380\n",
      "       macro avg       0.83      0.82      0.81       380\n",
      "    weighted avg       0.83      0.81      0.81       380\n",
      "\n"
     ]
    },
    {
     "name": "stderr",
     "output_type": "stream",
     "text": [
      "Training Epochs:  72%|███████▏  | 1430/2000 [04:59<01:32,  6.13it/s]"
     ]
    },
    {
     "name": "stdout",
     "output_type": "stream",
     "text": [
      "Epoch 1430/2000, Loss: 0.0753\n",
      "Test Accuracy at Epoch 1430: 78.95%\n",
      "Test F1-score at Epoch 1430: 0.8131\n",
      "Classification Report at Epoch 1430:\n",
      "                  precision    recall  f1-score   support\n",
      "\n",
      "    infringement       0.91      0.65      0.76       194\n",
      "non_infringement       0.72      0.94      0.81       186\n",
      "\n",
      "        accuracy                           0.79       380\n",
      "       macro avg       0.82      0.79      0.79       380\n",
      "    weighted avg       0.82      0.79      0.79       380\n",
      "\n"
     ]
    },
    {
     "name": "stderr",
     "output_type": "stream",
     "text": [
      "Training Epochs:  72%|███████▏  | 1440/2000 [05:00<01:44,  5.36it/s]"
     ]
    },
    {
     "name": "stdout",
     "output_type": "stream",
     "text": [
      "Epoch 1440/2000, Loss: 0.0747\n",
      "Test Accuracy at Epoch 1440: 78.95%\n",
      "Test F1-score at Epoch 1440: 0.8131\n",
      "Classification Report at Epoch 1440:\n",
      "                  precision    recall  f1-score   support\n",
      "\n",
      "    infringement       0.91      0.65      0.76       194\n",
      "non_infringement       0.72      0.94      0.81       186\n",
      "\n",
      "        accuracy                           0.79       380\n",
      "       macro avg       0.82      0.79      0.79       380\n",
      "    weighted avg       0.82      0.79      0.79       380\n",
      "\n"
     ]
    },
    {
     "name": "stderr",
     "output_type": "stream",
     "text": [
      "Training Epochs:  73%|███████▎  | 1451/2000 [05:02<01:10,  7.74it/s]"
     ]
    },
    {
     "name": "stdout",
     "output_type": "stream",
     "text": [
      "Epoch 1450/2000, Loss: 0.0768\n",
      "Test Accuracy at Epoch 1450: 78.95%\n",
      "Test F1-score at Epoch 1450: 0.8131\n",
      "Classification Report at Epoch 1450:\n",
      "                  precision    recall  f1-score   support\n",
      "\n",
      "    infringement       0.91      0.65      0.76       194\n",
      "non_infringement       0.72      0.94      0.81       186\n",
      "\n",
      "        accuracy                           0.79       380\n",
      "       macro avg       0.82      0.79      0.79       380\n",
      "    weighted avg       0.82      0.79      0.79       380\n",
      "\n"
     ]
    },
    {
     "name": "stderr",
     "output_type": "stream",
     "text": [
      "Training Epochs:  73%|███████▎  | 1462/2000 [05:02<00:27, 19.69it/s]"
     ]
    },
    {
     "name": "stdout",
     "output_type": "stream",
     "text": [
      "Epoch 1460/2000, Loss: 0.0742\n",
      "Test Accuracy at Epoch 1460: 80.53%\n",
      "Test F1-score at Epoch 1460: 0.8246\n",
      "Classification Report at Epoch 1460:\n",
      "                  precision    recall  f1-score   support\n",
      "\n",
      "    infringement       0.92      0.68      0.78       194\n",
      "non_infringement       0.74      0.94      0.82       186\n",
      "\n",
      "        accuracy                           0.81       380\n",
      "       macro avg       0.83      0.81      0.80       380\n",
      "    weighted avg       0.83      0.81      0.80       380\n",
      "\n"
     ]
    },
    {
     "name": "stderr",
     "output_type": "stream",
     "text": [
      "Training Epochs:  74%|███████▎  | 1472/2000 [05:03<00:18, 28.47it/s]"
     ]
    },
    {
     "name": "stdout",
     "output_type": "stream",
     "text": [
      "Epoch 1470/2000, Loss: 0.0753\n",
      "Test Accuracy at Epoch 1470: 81.58%\n",
      "Test F1-score at Epoch 1470: 0.8325\n",
      "Classification Report at Epoch 1470:\n",
      "                  precision    recall  f1-score   support\n",
      "\n",
      "    infringement       0.92      0.70      0.80       194\n",
      "non_infringement       0.75      0.94      0.83       186\n",
      "\n",
      "        accuracy                           0.82       380\n",
      "       macro avg       0.83      0.82      0.81       380\n",
      "    weighted avg       0.84      0.82      0.81       380\n",
      "\n"
     ]
    },
    {
     "name": "stderr",
     "output_type": "stream",
     "text": [
      "Training Epochs:  74%|███████▍  | 1482/2000 [05:04<00:35, 14.51it/s]"
     ]
    },
    {
     "name": "stdout",
     "output_type": "stream",
     "text": [
      "Epoch 1480/2000, Loss: 0.0749\n",
      "Test Accuracy at Epoch 1480: 81.58%\n",
      "Test F1-score at Epoch 1480: 0.8325\n",
      "Classification Report at Epoch 1480:\n",
      "                  precision    recall  f1-score   support\n",
      "\n",
      "    infringement       0.92      0.70      0.80       194\n",
      "non_infringement       0.75      0.94      0.83       186\n",
      "\n",
      "        accuracy                           0.82       380\n",
      "       macro avg       0.83      0.82      0.81       380\n",
      "    weighted avg       0.84      0.82      0.81       380\n",
      "\n"
     ]
    },
    {
     "name": "stderr",
     "output_type": "stream",
     "text": [
      "Training Epochs:  75%|███████▍  | 1493/2000 [05:04<00:25, 19.82it/s]"
     ]
    },
    {
     "name": "stdout",
     "output_type": "stream",
     "text": [
      "Epoch 1490/2000, Loss: 0.0747\n",
      "Test Accuracy at Epoch 1490: 81.58%\n",
      "Test F1-score at Epoch 1490: 0.8325\n",
      "Classification Report at Epoch 1490:\n",
      "                  precision    recall  f1-score   support\n",
      "\n",
      "    infringement       0.92      0.70      0.80       194\n",
      "non_infringement       0.75      0.94      0.83       186\n",
      "\n",
      "        accuracy                           0.82       380\n",
      "       macro avg       0.83      0.82      0.81       380\n",
      "    weighted avg       0.84      0.82      0.81       380\n",
      "\n"
     ]
    },
    {
     "name": "stderr",
     "output_type": "stream",
     "text": [
      "Training Epochs:  75%|███████▌  | 1500/2000 [05:04<00:17, 29.14it/s]"
     ]
    },
    {
     "name": "stdout",
     "output_type": "stream",
     "text": [
      "Epoch 1500/2000, Loss: 0.0764\n",
      "Test Accuracy at Epoch 1500: 80.53%\n",
      "Test F1-score at Epoch 1500: 0.8213\n",
      "Classification Report at Epoch 1500:\n",
      "                  precision    recall  f1-score   support\n",
      "\n",
      "    infringement       0.89      0.70      0.79       194\n",
      "non_infringement       0.75      0.91      0.82       186\n",
      "\n",
      "        accuracy                           0.81       380\n",
      "       macro avg       0.82      0.81      0.80       380\n",
      "    weighted avg       0.82      0.81      0.80       380\n",
      "\n"
     ]
    },
    {
     "name": "stderr",
     "output_type": "stream",
     "text": [
      "Training Epochs:  75%|███████▌  | 1507/2000 [05:05<00:22, 21.94it/s]"
     ]
    },
    {
     "name": "stdout",
     "output_type": "stream",
     "text": [
      "Epoch 1510/2000, Loss: 0.0742\n",
      "Test Accuracy at Epoch 1510: 78.95%\n",
      "Test F1-score at Epoch 1510: 0.8131\n",
      "Classification Report at Epoch 1510:\n",
      "                  precision    recall  f1-score   support\n",
      "\n",
      "    infringement       0.91      0.65      0.76       194\n",
      "non_infringement       0.72      0.94      0.81       186\n",
      "\n",
      "        accuracy                           0.79       380\n",
      "       macro avg       0.82      0.79      0.79       380\n",
      "    weighted avg       0.82      0.79      0.79       380\n",
      "\n"
     ]
    },
    {
     "name": "stderr",
     "output_type": "stream",
     "text": [
      "Training Epochs:  76%|███████▌  | 1517/2000 [05:05<00:20, 23.73it/s]"
     ]
    },
    {
     "name": "stdout",
     "output_type": "stream",
     "text": [
      "Epoch 1520/2000, Loss: 0.0755\n",
      "Test Accuracy at Epoch 1520: 78.95%\n",
      "Test F1-score at Epoch 1520: 0.8131\n",
      "Classification Report at Epoch 1520:\n",
      "                  precision    recall  f1-score   support\n",
      "\n",
      "    infringement       0.91      0.65      0.76       194\n",
      "non_infringement       0.72      0.94      0.81       186\n",
      "\n",
      "        accuracy                           0.79       380\n",
      "       macro avg       0.82      0.79      0.79       380\n",
      "    weighted avg       0.82      0.79      0.79       380\n",
      "\n"
     ]
    },
    {
     "name": "stderr",
     "output_type": "stream",
     "text": [
      "Training Epochs:  77%|███████▋  | 1531/2000 [05:09<01:33,  5.04it/s]"
     ]
    },
    {
     "name": "stdout",
     "output_type": "stream",
     "text": [
      "Epoch 1530/2000, Loss: 0.0747\n",
      "Test Accuracy at Epoch 1530: 78.95%\n",
      "Test F1-score at Epoch 1530: 0.8131\n",
      "Classification Report at Epoch 1530:\n",
      "                  precision    recall  f1-score   support\n",
      "\n",
      "    infringement       0.91      0.65      0.76       194\n",
      "non_infringement       0.72      0.94      0.81       186\n",
      "\n",
      "        accuracy                           0.79       380\n",
      "       macro avg       0.82      0.79      0.79       380\n",
      "    weighted avg       0.82      0.79      0.79       380\n",
      "\n"
     ]
    },
    {
     "name": "stderr",
     "output_type": "stream",
     "text": [
      "Training Epochs:  77%|███████▋  | 1540/2000 [05:12<01:34,  4.88it/s]"
     ]
    },
    {
     "name": "stdout",
     "output_type": "stream",
     "text": [
      "Epoch 1540/2000, Loss: 0.0747\n",
      "Test Accuracy at Epoch 1540: 78.95%\n",
      "Test F1-score at Epoch 1540: 0.8131\n",
      "Classification Report at Epoch 1540:\n",
      "                  precision    recall  f1-score   support\n",
      "\n",
      "    infringement       0.91      0.65      0.76       194\n",
      "non_infringement       0.72      0.94      0.81       186\n",
      "\n",
      "        accuracy                           0.79       380\n",
      "       macro avg       0.82      0.79      0.79       380\n",
      "    weighted avg       0.82      0.79      0.79       380\n",
      "\n"
     ]
    },
    {
     "name": "stderr",
     "output_type": "stream",
     "text": [
      "Training Epochs:  78%|███████▊  | 1551/2000 [05:13<00:38, 11.80it/s]"
     ]
    },
    {
     "name": "stdout",
     "output_type": "stream",
     "text": [
      "Epoch 1550/2000, Loss: 0.0766\n",
      "Test Accuracy at Epoch 1550: 78.95%\n",
      "Test F1-score at Epoch 1550: 0.8131\n",
      "Classification Report at Epoch 1550:\n",
      "                  precision    recall  f1-score   support\n",
      "\n",
      "    infringement       0.91      0.65      0.76       194\n",
      "non_infringement       0.72      0.94      0.81       186\n",
      "\n",
      "        accuracy                           0.79       380\n",
      "       macro avg       0.82      0.79      0.79       380\n",
      "    weighted avg       0.82      0.79      0.79       380\n",
      "\n"
     ]
    },
    {
     "name": "stderr",
     "output_type": "stream",
     "text": [
      "Training Epochs:  78%|███████▊  | 1562/2000 [05:14<00:29, 14.78it/s]"
     ]
    },
    {
     "name": "stdout",
     "output_type": "stream",
     "text": [
      "Epoch 1560/2000, Loss: 0.0742\n",
      "Test Accuracy at Epoch 1560: 81.05%\n",
      "Test F1-score at Epoch 1560: 0.8286\n",
      "Classification Report at Epoch 1560:\n",
      "                  precision    recall  f1-score   support\n",
      "\n",
      "    infringement       0.92      0.69      0.79       194\n",
      "non_infringement       0.74      0.94      0.83       186\n",
      "\n",
      "        accuracy                           0.81       380\n",
      "       macro avg       0.83      0.81      0.81       380\n",
      "    weighted avg       0.83      0.81      0.81       380\n",
      "\n"
     ]
    },
    {
     "name": "stderr",
     "output_type": "stream",
     "text": [
      "Training Epochs:  79%|███████▊  | 1573/2000 [05:14<00:22, 18.98it/s]"
     ]
    },
    {
     "name": "stdout",
     "output_type": "stream",
     "text": [
      "Epoch 1570/2000, Loss: 0.0750\n",
      "Test Accuracy at Epoch 1570: 81.05%\n",
      "Test F1-score at Epoch 1570: 0.8286\n",
      "Classification Report at Epoch 1570:\n",
      "                  precision    recall  f1-score   support\n",
      "\n",
      "    infringement       0.92      0.69      0.79       194\n",
      "non_infringement       0.74      0.94      0.83       186\n",
      "\n",
      "        accuracy                           0.81       380\n",
      "       macro avg       0.83      0.81      0.81       380\n",
      "    weighted avg       0.83      0.81      0.81       380\n",
      "\n"
     ]
    },
    {
     "name": "stderr",
     "output_type": "stream",
     "text": [
      "Training Epochs:  79%|███████▉  | 1583/2000 [05:15<00:19, 21.88it/s]"
     ]
    },
    {
     "name": "stdout",
     "output_type": "stream",
     "text": [
      "Epoch 1580/2000, Loss: 0.0747\n",
      "Test Accuracy at Epoch 1580: 81.05%\n",
      "Test F1-score at Epoch 1580: 0.8286\n",
      "Classification Report at Epoch 1580:\n",
      "                  precision    recall  f1-score   support\n",
      "\n",
      "    infringement       0.92      0.69      0.79       194\n",
      "non_infringement       0.74      0.94      0.83       186\n",
      "\n",
      "        accuracy                           0.81       380\n",
      "       macro avg       0.83      0.81      0.81       380\n",
      "    weighted avg       0.83      0.81      0.81       380\n",
      "\n"
     ]
    },
    {
     "name": "stderr",
     "output_type": "stream",
     "text": [
      "Training Epochs:  80%|███████▉  | 1593/2000 [05:15<00:18, 22.26it/s]"
     ]
    },
    {
     "name": "stdout",
     "output_type": "stream",
     "text": [
      "Epoch 1590/2000, Loss: 0.0759\n",
      "Test Accuracy at Epoch 1590: 80.53%\n",
      "Test F1-score at Epoch 1590: 0.8213\n",
      "Classification Report at Epoch 1590:\n",
      "                  precision    recall  f1-score   support\n",
      "\n",
      "    infringement       0.89      0.70      0.79       194\n",
      "non_infringement       0.75      0.91      0.82       186\n",
      "\n",
      "        accuracy                           0.81       380\n",
      "       macro avg       0.82      0.81      0.80       380\n",
      "    weighted avg       0.82      0.81      0.80       380\n",
      "\n"
     ]
    },
    {
     "name": "stderr",
     "output_type": "stream",
     "text": [
      "Training Epochs:  80%|████████  | 1602/2000 [05:15<00:19, 20.21it/s]"
     ]
    },
    {
     "name": "stdout",
     "output_type": "stream",
     "text": [
      "Epoch 1600/2000, Loss: 0.0741\n",
      "Test Accuracy at Epoch 1600: 80.79%\n",
      "Test F1-score at Epoch 1600: 0.8266\n",
      "Classification Report at Epoch 1600:\n",
      "                  precision    recall  f1-score   support\n",
      "\n",
      "    infringement       0.92      0.69      0.78       194\n",
      "non_infringement       0.74      0.94      0.83       186\n",
      "\n",
      "        accuracy                           0.81       380\n",
      "       macro avg       0.83      0.81      0.81       380\n",
      "    weighted avg       0.83      0.81      0.81       380\n",
      "\n"
     ]
    },
    {
     "name": "stderr",
     "output_type": "stream",
     "text": [
      "Training Epochs:  81%|████████  | 1615/2000 [05:16<00:16, 23.66it/s]"
     ]
    },
    {
     "name": "stdout",
     "output_type": "stream",
     "text": [
      "Epoch 1610/2000, Loss: 0.0744\n",
      "Test Accuracy at Epoch 1610: 78.95%\n",
      "Test F1-score at Epoch 1610: 0.8131\n",
      "Classification Report at Epoch 1610:\n",
      "                  precision    recall  f1-score   support\n",
      "\n",
      "    infringement       0.91      0.65      0.76       194\n",
      "non_infringement       0.72      0.94      0.81       186\n",
      "\n",
      "        accuracy                           0.79       380\n",
      "       macro avg       0.82      0.79      0.79       380\n",
      "    weighted avg       0.82      0.79      0.79       380\n",
      "\n"
     ]
    },
    {
     "name": "stderr",
     "output_type": "stream",
     "text": [
      "Training Epochs:  81%|████████  | 1622/2000 [05:16<00:16, 22.85it/s]"
     ]
    },
    {
     "name": "stdout",
     "output_type": "stream",
     "text": [
      "Epoch 1620/2000, Loss: 0.0777\n",
      "Test Accuracy at Epoch 1620: 78.95%\n",
      "Test F1-score at Epoch 1620: 0.8131\n",
      "Classification Report at Epoch 1620:\n",
      "                  precision    recall  f1-score   support\n",
      "\n",
      "    infringement       0.91      0.65      0.76       194\n",
      "non_infringement       0.72      0.94      0.81       186\n",
      "\n",
      "        accuracy                           0.79       380\n",
      "       macro avg       0.82      0.79      0.79       380\n",
      "    weighted avg       0.82      0.79      0.79       380\n",
      "\n"
     ]
    },
    {
     "name": "stderr",
     "output_type": "stream",
     "text": [
      "Training Epochs:  82%|████████▏ | 1635/2000 [05:17<00:15, 23.17it/s]"
     ]
    },
    {
     "name": "stdout",
     "output_type": "stream",
     "text": [
      "Epoch 1630/2000, Loss: 0.0750\n",
      "Test Accuracy at Epoch 1630: 81.05%\n",
      "Test F1-score at Epoch 1630: 0.8286\n",
      "Classification Report at Epoch 1630:\n",
      "                  precision    recall  f1-score   support\n",
      "\n",
      "    infringement       0.92      0.69      0.79       194\n",
      "non_infringement       0.74      0.94      0.83       186\n",
      "\n",
      "        accuracy                           0.81       380\n",
      "       macro avg       0.83      0.81      0.81       380\n",
      "    weighted avg       0.83      0.81      0.81       380\n",
      "\n"
     ]
    },
    {
     "name": "stderr",
     "output_type": "stream",
     "text": [
      "Training Epochs:  82%|████████▏ | 1644/2000 [05:17<00:14, 24.72it/s]"
     ]
    },
    {
     "name": "stdout",
     "output_type": "stream",
     "text": [
      "Epoch 1640/2000, Loss: 0.0742\n",
      "Test Accuracy at Epoch 1640: 78.95%\n",
      "Test F1-score at Epoch 1640: 0.8131\n",
      "Classification Report at Epoch 1640:\n",
      "                  precision    recall  f1-score   support\n",
      "\n",
      "    infringement       0.91      0.65      0.76       194\n",
      "non_infringement       0.72      0.94      0.81       186\n",
      "\n",
      "        accuracy                           0.79       380\n",
      "       macro avg       0.82      0.79      0.79       380\n",
      "    weighted avg       0.82      0.79      0.79       380\n",
      "\n"
     ]
    },
    {
     "name": "stderr",
     "output_type": "stream",
     "text": [
      "Training Epochs:  83%|████████▎ | 1653/2000 [05:18<00:24, 14.44it/s]"
     ]
    },
    {
     "name": "stdout",
     "output_type": "stream",
     "text": [
      "Epoch 1650/2000, Loss: 0.0743\n",
      "Test Accuracy at Epoch 1650: 78.95%\n",
      "Test F1-score at Epoch 1650: 0.8131\n",
      "Classification Report at Epoch 1650:\n",
      "                  precision    recall  f1-score   support\n",
      "\n",
      "    infringement       0.91      0.65      0.76       194\n",
      "non_infringement       0.72      0.94      0.81       186\n",
      "\n",
      "        accuracy                           0.79       380\n",
      "       macro avg       0.82      0.79      0.79       380\n",
      "    weighted avg       0.82      0.79      0.79       380\n",
      "\n"
     ]
    },
    {
     "name": "stderr",
     "output_type": "stream",
     "text": [
      "Training Epochs:  83%|████████▎ | 1662/2000 [05:19<00:23, 14.34it/s]"
     ]
    },
    {
     "name": "stdout",
     "output_type": "stream",
     "text": [
      "Epoch 1660/2000, Loss: 0.0741\n",
      "Test Accuracy at Epoch 1660: 78.95%\n",
      "Test F1-score at Epoch 1660: 0.8131\n",
      "Classification Report at Epoch 1660:\n",
      "                  precision    recall  f1-score   support\n",
      "\n",
      "    infringement       0.91      0.65      0.76       194\n",
      "non_infringement       0.72      0.94      0.81       186\n",
      "\n",
      "        accuracy                           0.79       380\n",
      "       macro avg       0.82      0.79      0.79       380\n",
      "    weighted avg       0.82      0.79      0.79       380\n",
      "\n"
     ]
    },
    {
     "name": "stderr",
     "output_type": "stream",
     "text": [
      "Training Epochs:  84%|████████▎ | 1670/2000 [05:19<00:21, 15.62it/s]"
     ]
    },
    {
     "name": "stdout",
     "output_type": "stream",
     "text": [
      "Epoch 1670/2000, Loss: 0.0769\n",
      "Test Accuracy at Epoch 1670: 80.53%\n",
      "Test F1-score at Epoch 1670: 0.8213\n",
      "Classification Report at Epoch 1670:\n",
      "                  precision    recall  f1-score   support\n",
      "\n",
      "    infringement       0.89      0.70      0.79       194\n",
      "non_infringement       0.75      0.91      0.82       186\n",
      "\n",
      "        accuracy                           0.81       380\n",
      "       macro avg       0.82      0.81      0.80       380\n",
      "    weighted avg       0.82      0.81      0.80       380\n",
      "\n"
     ]
    },
    {
     "name": "stderr",
     "output_type": "stream",
     "text": [
      "Training Epochs:  84%|████████▍ | 1680/2000 [05:20<00:28, 11.32it/s]"
     ]
    },
    {
     "name": "stdout",
     "output_type": "stream",
     "text": [
      "Epoch 1680/2000, Loss: 0.0770\n",
      "Test Accuracy at Epoch 1680: 78.95%\n",
      "Test F1-score at Epoch 1680: 0.8131\n",
      "Classification Report at Epoch 1680:\n",
      "                  precision    recall  f1-score   support\n",
      "\n",
      "    infringement       0.91      0.65      0.76       194\n",
      "non_infringement       0.72      0.94      0.81       186\n",
      "\n",
      "        accuracy                           0.79       380\n",
      "       macro avg       0.82      0.79      0.79       380\n",
      "    weighted avg       0.82      0.79      0.79       380\n",
      "\n"
     ]
    },
    {
     "name": "stderr",
     "output_type": "stream",
     "text": [
      "Training Epochs:  85%|████████▍ | 1691/2000 [05:22<00:38,  8.08it/s]"
     ]
    },
    {
     "name": "stdout",
     "output_type": "stream",
     "text": [
      "Epoch 1690/2000, Loss: 0.0755\n",
      "Test Accuracy at Epoch 1690: 80.00%\n",
      "Test F1-score at Epoch 1690: 0.8173\n",
      "Classification Report at Epoch 1690:\n",
      "                  precision    recall  f1-score   support\n",
      "\n",
      "    infringement       0.89      0.69      0.78       194\n",
      "non_infringement       0.74      0.91      0.82       186\n",
      "\n",
      "        accuracy                           0.80       380\n",
      "       macro avg       0.82      0.80      0.80       380\n",
      "    weighted avg       0.82      0.80      0.80       380\n",
      "\n"
     ]
    },
    {
     "name": "stderr",
     "output_type": "stream",
     "text": [
      "Training Epochs:  85%|████████▌ | 1701/2000 [05:23<00:29, 10.06it/s]"
     ]
    },
    {
     "name": "stdout",
     "output_type": "stream",
     "text": [
      "Epoch 1700/2000, Loss: 0.0743\n",
      "Test Accuracy at Epoch 1700: 81.05%\n",
      "Test F1-score at Epoch 1700: 0.8286\n",
      "Classification Report at Epoch 1700:\n",
      "                  precision    recall  f1-score   support\n",
      "\n",
      "    infringement       0.92      0.69      0.79       194\n",
      "non_infringement       0.74      0.94      0.83       186\n",
      "\n",
      "        accuracy                           0.81       380\n",
      "       macro avg       0.83      0.81      0.81       380\n",
      "    weighted avg       0.83      0.81      0.81       380\n",
      "\n"
     ]
    },
    {
     "name": "stderr",
     "output_type": "stream",
     "text": [
      "Training Epochs:  86%|████████▌ | 1712/2000 [05:25<00:26, 10.91it/s]"
     ]
    },
    {
     "name": "stdout",
     "output_type": "stream",
     "text": [
      "Epoch 1710/2000, Loss: 0.0744\n",
      "Test Accuracy at Epoch 1710: 80.53%\n",
      "Test F1-score at Epoch 1710: 0.8246\n",
      "Classification Report at Epoch 1710:\n",
      "                  precision    recall  f1-score   support\n",
      "\n",
      "    infringement       0.92      0.68      0.78       194\n",
      "non_infringement       0.74      0.94      0.82       186\n",
      "\n",
      "        accuracy                           0.81       380\n",
      "       macro avg       0.83      0.81      0.80       380\n",
      "    weighted avg       0.83      0.81      0.80       380\n",
      "\n"
     ]
    },
    {
     "name": "stderr",
     "output_type": "stream",
     "text": [
      "Training Epochs:  86%|████████▌ | 1722/2000 [05:25<00:17, 16.17it/s]"
     ]
    },
    {
     "name": "stdout",
     "output_type": "stream",
     "text": [
      "Epoch 1720/2000, Loss: 0.0741\n",
      "Test Accuracy at Epoch 1720: 79.21%\n",
      "Test F1-score at Epoch 1720: 0.8150\n",
      "Classification Report at Epoch 1720:\n",
      "                  precision    recall  f1-score   support\n",
      "\n",
      "    infringement       0.91      0.65      0.76       194\n",
      "non_infringement       0.72      0.94      0.81       186\n",
      "\n",
      "        accuracy                           0.79       380\n",
      "       macro avg       0.82      0.80      0.79       380\n",
      "    weighted avg       0.82      0.79      0.79       380\n",
      "\n"
     ]
    },
    {
     "name": "stderr",
     "output_type": "stream",
     "text": [
      "Training Epochs:  87%|████████▋ | 1731/2000 [05:26<00:20, 13.33it/s]"
     ]
    },
    {
     "name": "stdout",
     "output_type": "stream",
     "text": [
      "Epoch 1730/2000, Loss: 0.0741\n",
      "Test Accuracy at Epoch 1730: 78.95%\n",
      "Test F1-score at Epoch 1730: 0.8131\n",
      "Classification Report at Epoch 1730:\n",
      "                  precision    recall  f1-score   support\n",
      "\n",
      "    infringement       0.91      0.65      0.76       194\n",
      "non_infringement       0.72      0.94      0.81       186\n",
      "\n",
      "        accuracy                           0.79       380\n",
      "       macro avg       0.82      0.79      0.79       380\n",
      "    weighted avg       0.82      0.79      0.79       380\n",
      "\n"
     ]
    },
    {
     "name": "stderr",
     "output_type": "stream",
     "text": [
      "Training Epochs:  87%|████████▋ | 1740/2000 [05:27<00:20, 12.94it/s]"
     ]
    },
    {
     "name": "stdout",
     "output_type": "stream",
     "text": [
      "Epoch 1740/2000, Loss: 0.0742\n",
      "Test Accuracy at Epoch 1740: 78.95%\n",
      "Test F1-score at Epoch 1740: 0.8131\n",
      "Classification Report at Epoch 1740:\n",
      "                  precision    recall  f1-score   support\n",
      "\n",
      "    infringement       0.91      0.65      0.76       194\n",
      "non_infringement       0.72      0.94      0.81       186\n",
      "\n",
      "        accuracy                           0.79       380\n",
      "       macro avg       0.82      0.79      0.79       380\n",
      "    weighted avg       0.82      0.79      0.79       380\n",
      "\n"
     ]
    },
    {
     "name": "stderr",
     "output_type": "stream",
     "text": [
      "Training Epochs:  88%|████████▊ | 1752/2000 [05:28<00:30,  8.24it/s]"
     ]
    },
    {
     "name": "stdout",
     "output_type": "stream",
     "text": [
      "Epoch 1750/2000, Loss: 0.0797\n",
      "Test Accuracy at Epoch 1750: 78.95%\n",
      "Test F1-score at Epoch 1750: 0.8131\n",
      "Classification Report at Epoch 1750:\n",
      "                  precision    recall  f1-score   support\n",
      "\n",
      "    infringement       0.91      0.65      0.76       194\n",
      "non_infringement       0.72      0.94      0.81       186\n",
      "\n",
      "        accuracy                           0.79       380\n",
      "       macro avg       0.82      0.79      0.79       380\n",
      "    weighted avg       0.82      0.79      0.79       380\n",
      "\n"
     ]
    },
    {
     "name": "stderr",
     "output_type": "stream",
     "text": [
      "Training Epochs:  88%|████████▊ | 1760/2000 [05:30<01:08,  3.50it/s]"
     ]
    },
    {
     "name": "stdout",
     "output_type": "stream",
     "text": [
      "Epoch 1760/2000, Loss: 0.0754\n",
      "Test Accuracy at Epoch 1760: 81.05%\n",
      "Test F1-score at Epoch 1760: 0.8286\n",
      "Classification Report at Epoch 1760:\n",
      "                  precision    recall  f1-score   support\n",
      "\n",
      "    infringement       0.92      0.69      0.79       194\n",
      "non_infringement       0.74      0.94      0.83       186\n",
      "\n",
      "        accuracy                           0.81       380\n",
      "       macro avg       0.83      0.81      0.81       380\n",
      "    weighted avg       0.83      0.81      0.81       380\n",
      "\n"
     ]
    },
    {
     "name": "stderr",
     "output_type": "stream",
     "text": [
      "Training Epochs:  89%|████████▊ | 1771/2000 [05:33<00:29,  7.85it/s]"
     ]
    },
    {
     "name": "stdout",
     "output_type": "stream",
     "text": [
      "Epoch 1770/2000, Loss: 0.0746\n",
      "Test Accuracy at Epoch 1770: 80.00%\n",
      "Test F1-score at Epoch 1770: 0.8173\n",
      "Classification Report at Epoch 1770:\n",
      "                  precision    recall  f1-score   support\n",
      "\n",
      "    infringement       0.89      0.69      0.78       194\n",
      "non_infringement       0.74      0.91      0.82       186\n",
      "\n",
      "        accuracy                           0.80       380\n",
      "       macro avg       0.82      0.80      0.80       380\n",
      "    weighted avg       0.82      0.80      0.80       380\n",
      "\n"
     ]
    },
    {
     "name": "stderr",
     "output_type": "stream",
     "text": [
      "Training Epochs:  89%|████████▉ | 1780/2000 [05:33<00:18, 11.70it/s]"
     ]
    },
    {
     "name": "stdout",
     "output_type": "stream",
     "text": [
      "Epoch 1780/2000, Loss: 0.0744\n",
      "Test Accuracy at Epoch 1780: 80.53%\n",
      "Test F1-score at Epoch 1780: 0.8246\n",
      "Classification Report at Epoch 1780:\n",
      "                  precision    recall  f1-score   support\n",
      "\n",
      "    infringement       0.92      0.68      0.78       194\n",
      "non_infringement       0.74      0.94      0.82       186\n",
      "\n",
      "        accuracy                           0.81       380\n",
      "       macro avg       0.83      0.81      0.80       380\n",
      "    weighted avg       0.83      0.81      0.80       380\n",
      "\n"
     ]
    },
    {
     "name": "stderr",
     "output_type": "stream",
     "text": [
      "Training Epochs:  90%|████████▉ | 1792/2000 [05:35<00:25,  8.09it/s]"
     ]
    },
    {
     "name": "stdout",
     "output_type": "stream",
     "text": [
      "Epoch 1790/2000, Loss: 0.0741\n",
      "Test Accuracy at Epoch 1790: 78.95%\n",
      "Test F1-score at Epoch 1790: 0.8131\n",
      "Classification Report at Epoch 1790:\n",
      "                  precision    recall  f1-score   support\n",
      "\n",
      "    infringement       0.91      0.65      0.76       194\n",
      "non_infringement       0.72      0.94      0.81       186\n",
      "\n",
      "        accuracy                           0.79       380\n",
      "       macro avg       0.82      0.79      0.79       380\n",
      "    weighted avg       0.82      0.79      0.79       380\n",
      "\n"
     ]
    },
    {
     "name": "stderr",
     "output_type": "stream",
     "text": [
      "Training Epochs:  90%|█████████ | 1800/2000 [05:39<01:38,  2.03it/s]"
     ]
    },
    {
     "name": "stdout",
     "output_type": "stream",
     "text": [
      "Epoch 1800/2000, Loss: 0.0740\n",
      "Test Accuracy at Epoch 1800: 80.79%\n",
      "Test F1-score at Epoch 1800: 0.8266\n",
      "Classification Report at Epoch 1800:\n",
      "                  precision    recall  f1-score   support\n",
      "\n",
      "    infringement       0.92      0.69      0.78       194\n",
      "non_infringement       0.74      0.94      0.83       186\n",
      "\n",
      "        accuracy                           0.81       380\n",
      "       macro avg       0.83      0.81      0.81       380\n",
      "    weighted avg       0.83      0.81      0.81       380\n",
      "\n"
     ]
    },
    {
     "name": "stderr",
     "output_type": "stream",
     "text": [
      "Training Epochs:  90%|█████████ | 1810/2000 [05:45<01:43,  1.84it/s]"
     ]
    },
    {
     "name": "stdout",
     "output_type": "stream",
     "text": [
      "Epoch 1810/2000, Loss: 0.0741\n",
      "Test Accuracy at Epoch 1810: 79.21%\n",
      "Test F1-score at Epoch 1810: 0.8150\n",
      "Classification Report at Epoch 1810:\n",
      "                  precision    recall  f1-score   support\n",
      "\n",
      "    infringement       0.91      0.65      0.76       194\n",
      "non_infringement       0.72      0.94      0.81       186\n",
      "\n",
      "        accuracy                           0.79       380\n",
      "       macro avg       0.82      0.80      0.79       380\n",
      "    weighted avg       0.82      0.79      0.79       380\n",
      "\n"
     ]
    },
    {
     "name": "stderr",
     "output_type": "stream",
     "text": [
      "Training Epochs:  91%|█████████ | 1819/2000 [05:49<01:04,  2.81it/s]"
     ]
    },
    {
     "name": "stdout",
     "output_type": "stream",
     "text": [
      "Epoch 1820/2000, Loss: 0.0751\n",
      "Test Accuracy at Epoch 1820: 81.05%\n",
      "Test F1-score at Epoch 1820: 0.8286\n",
      "Classification Report at Epoch 1820:\n",
      "                  precision    recall  f1-score   support\n",
      "\n",
      "    infringement       0.92      0.69      0.79       194\n",
      "non_infringement       0.74      0.94      0.83       186\n",
      "\n",
      "        accuracy                           0.81       380\n",
      "       macro avg       0.83      0.81      0.81       380\n",
      "    weighted avg       0.83      0.81      0.81       380\n",
      "\n"
     ]
    },
    {
     "name": "stderr",
     "output_type": "stream",
     "text": [
      "Training Epochs:  92%|█████████▏| 1831/2000 [05:50<00:19,  8.84it/s]"
     ]
    },
    {
     "name": "stdout",
     "output_type": "stream",
     "text": [
      "Epoch 1830/2000, Loss: 0.0748\n",
      "Test Accuracy at Epoch 1830: 78.95%\n",
      "Test F1-score at Epoch 1830: 0.8131\n",
      "Classification Report at Epoch 1830:\n",
      "                  precision    recall  f1-score   support\n",
      "\n",
      "    infringement       0.91      0.65      0.76       194\n",
      "non_infringement       0.72      0.94      0.81       186\n",
      "\n",
      "        accuracy                           0.79       380\n",
      "       macro avg       0.82      0.79      0.79       380\n",
      "    weighted avg       0.82      0.79      0.79       380\n",
      "\n"
     ]
    },
    {
     "name": "stderr",
     "output_type": "stream",
     "text": [
      "Training Epochs:  92%|█████████▏| 1840/2000 [05:53<01:03,  2.54it/s]"
     ]
    },
    {
     "name": "stdout",
     "output_type": "stream",
     "text": [
      "Epoch 1840/2000, Loss: 0.0753\n",
      "Test Accuracy at Epoch 1840: 79.74%\n",
      "Test F1-score at Epoch 1840: 0.8145\n",
      "Classification Report at Epoch 1840:\n",
      "                  precision    recall  f1-score   support\n",
      "\n",
      "    infringement       0.89      0.69      0.78       194\n",
      "non_infringement       0.74      0.91      0.81       186\n",
      "\n",
      "        accuracy                           0.80       380\n",
      "       macro avg       0.81      0.80      0.80       380\n",
      "    weighted avg       0.81      0.80      0.80       380\n",
      "\n"
     ]
    },
    {
     "name": "stderr",
     "output_type": "stream",
     "text": [
      "Training Epochs:  93%|█████████▎| 1852/2000 [05:56<00:21,  6.94it/s]"
     ]
    },
    {
     "name": "stdout",
     "output_type": "stream",
     "text": [
      "Epoch 1850/2000, Loss: 0.0743\n",
      "Test Accuracy at Epoch 1850: 80.53%\n",
      "Test F1-score at Epoch 1850: 0.8246\n",
      "Classification Report at Epoch 1850:\n",
      "                  precision    recall  f1-score   support\n",
      "\n",
      "    infringement       0.92      0.68      0.78       194\n",
      "non_infringement       0.74      0.94      0.82       186\n",
      "\n",
      "        accuracy                           0.81       380\n",
      "       macro avg       0.83      0.81      0.80       380\n",
      "    weighted avg       0.83      0.81      0.80       380\n",
      "\n"
     ]
    },
    {
     "name": "stderr",
     "output_type": "stream",
     "text": [
      "Training Epochs:  93%|█████████▎| 1862/2000 [05:57<00:12, 11.19it/s]"
     ]
    },
    {
     "name": "stdout",
     "output_type": "stream",
     "text": [
      "Epoch 1860/2000, Loss: 0.0742\n",
      "Test Accuracy at Epoch 1860: 78.95%\n",
      "Test F1-score at Epoch 1860: 0.8131\n",
      "Classification Report at Epoch 1860:\n",
      "                  precision    recall  f1-score   support\n",
      "\n",
      "    infringement       0.91      0.65      0.76       194\n",
      "non_infringement       0.72      0.94      0.81       186\n",
      "\n",
      "        accuracy                           0.79       380\n",
      "       macro avg       0.82      0.79      0.79       380\n",
      "    weighted avg       0.82      0.79      0.79       380\n",
      "\n"
     ]
    },
    {
     "name": "stderr",
     "output_type": "stream",
     "text": [
      "Training Epochs:  94%|█████████▎| 1872/2000 [05:58<00:09, 13.02it/s]"
     ]
    },
    {
     "name": "stdout",
     "output_type": "stream",
     "text": [
      "Epoch 1870/2000, Loss: 0.0741\n",
      "Test Accuracy at Epoch 1870: 79.21%\n",
      "Test F1-score at Epoch 1870: 0.8150\n",
      "Classification Report at Epoch 1870:\n",
      "                  precision    recall  f1-score   support\n",
      "\n",
      "    infringement       0.91      0.65      0.76       194\n",
      "non_infringement       0.72      0.94      0.81       186\n",
      "\n",
      "        accuracy                           0.79       380\n",
      "       macro avg       0.82      0.80      0.79       380\n",
      "    weighted avg       0.82      0.79      0.79       380\n",
      "\n"
     ]
    },
    {
     "name": "stderr",
     "output_type": "stream",
     "text": [
      "Training Epochs:  94%|█████████▍| 1882/2000 [05:58<00:08, 13.11it/s]"
     ]
    },
    {
     "name": "stdout",
     "output_type": "stream",
     "text": [
      "Epoch 1880/2000, Loss: 0.0740\n",
      "Test Accuracy at Epoch 1880: 78.95%\n",
      "Test F1-score at Epoch 1880: 0.8131\n",
      "Classification Report at Epoch 1880:\n",
      "                  precision    recall  f1-score   support\n",
      "\n",
      "    infringement       0.91      0.65      0.76       194\n",
      "non_infringement       0.72      0.94      0.81       186\n",
      "\n",
      "        accuracy                           0.79       380\n",
      "       macro avg       0.82      0.79      0.79       380\n",
      "    weighted avg       0.82      0.79      0.79       380\n",
      "\n"
     ]
    },
    {
     "name": "stderr",
     "output_type": "stream",
     "text": [
      "Training Epochs:  94%|█████████▍| 1890/2000 [05:59<00:08, 12.37it/s]"
     ]
    },
    {
     "name": "stdout",
     "output_type": "stream",
     "text": [
      "Epoch 1890/2000, Loss: 0.0744\n",
      "Test Accuracy at Epoch 1890: 78.95%\n",
      "Test F1-score at Epoch 1890: 0.8131\n",
      "Classification Report at Epoch 1890:\n",
      "                  precision    recall  f1-score   support\n",
      "\n",
      "    infringement       0.91      0.65      0.76       194\n",
      "non_infringement       0.72      0.94      0.81       186\n",
      "\n",
      "        accuracy                           0.79       380\n",
      "       macro avg       0.82      0.79      0.79       380\n",
      "    weighted avg       0.82      0.79      0.79       380\n",
      "\n"
     ]
    },
    {
     "name": "stderr",
     "output_type": "stream",
     "text": [
      "Training Epochs:  95%|█████████▌| 1902/2000 [06:00<00:12,  8.01it/s]"
     ]
    },
    {
     "name": "stdout",
     "output_type": "stream",
     "text": [
      "Epoch 1900/2000, Loss: 0.0758\n",
      "Test Accuracy at Epoch 1900: 78.95%\n",
      "Test F1-score at Epoch 1900: 0.8131\n",
      "Classification Report at Epoch 1900:\n",
      "                  precision    recall  f1-score   support\n",
      "\n",
      "    infringement       0.91      0.65      0.76       194\n",
      "non_infringement       0.72      0.94      0.81       186\n",
      "\n",
      "        accuracy                           0.79       380\n",
      "       macro avg       0.82      0.79      0.79       380\n",
      "    weighted avg       0.82      0.79      0.79       380\n",
      "\n"
     ]
    },
    {
     "name": "stderr",
     "output_type": "stream",
     "text": [
      "Training Epochs:  96%|█████████▌| 1912/2000 [06:01<00:07, 11.33it/s]"
     ]
    },
    {
     "name": "stdout",
     "output_type": "stream",
     "text": [
      "Epoch 1910/2000, Loss: 0.0745\n",
      "Test Accuracy at Epoch 1910: 79.21%\n",
      "Test F1-score at Epoch 1910: 0.8150\n",
      "Classification Report at Epoch 1910:\n",
      "                  precision    recall  f1-score   support\n",
      "\n",
      "    infringement       0.91      0.65      0.76       194\n",
      "non_infringement       0.72      0.94      0.81       186\n",
      "\n",
      "        accuracy                           0.79       380\n",
      "       macro avg       0.82      0.80      0.79       380\n",
      "    weighted avg       0.82      0.79      0.79       380\n",
      "\n"
     ]
    },
    {
     "name": "stderr",
     "output_type": "stream",
     "text": [
      "Training Epochs:  96%|█████████▌| 1922/2000 [06:02<00:06, 12.07it/s]"
     ]
    },
    {
     "name": "stdout",
     "output_type": "stream",
     "text": [
      "Epoch 1920/2000, Loss: 0.0741\n",
      "Test Accuracy at Epoch 1920: 80.79%\n",
      "Test F1-score at Epoch 1920: 0.8258\n",
      "Classification Report at Epoch 1920:\n",
      "                  precision    recall  f1-score   support\n",
      "\n",
      "    infringement       0.91      0.69      0.79       194\n",
      "non_infringement       0.74      0.93      0.83       186\n",
      "\n",
      "        accuracy                           0.81       380\n",
      "       macro avg       0.83      0.81      0.81       380\n",
      "    weighted avg       0.83      0.81      0.81       380\n",
      "\n"
     ]
    },
    {
     "name": "stderr",
     "output_type": "stream",
     "text": [
      "Training Epochs:  96%|█████████▋| 1930/2000 [06:05<00:29,  2.38it/s]"
     ]
    },
    {
     "name": "stdout",
     "output_type": "stream",
     "text": [
      "Epoch 1930/2000, Loss: 0.0743\n",
      "Test Accuracy at Epoch 1930: 78.95%\n",
      "Test F1-score at Epoch 1930: 0.8131\n",
      "Classification Report at Epoch 1930:\n",
      "                  precision    recall  f1-score   support\n",
      "\n",
      "    infringement       0.91      0.65      0.76       194\n",
      "non_infringement       0.72      0.94      0.81       186\n",
      "\n",
      "        accuracy                           0.79       380\n",
      "       macro avg       0.82      0.79      0.79       380\n",
      "    weighted avg       0.82      0.79      0.79       380\n",
      "\n"
     ]
    },
    {
     "name": "stderr",
     "output_type": "stream",
     "text": [
      "Training Epochs:  97%|█████████▋| 1940/2000 [06:09<00:13,  4.37it/s]"
     ]
    },
    {
     "name": "stdout",
     "output_type": "stream",
     "text": [
      "Epoch 1940/2000, Loss: 0.0742\n",
      "Test Accuracy at Epoch 1940: 79.47%\n",
      "Test F1-score at Epoch 1940: 0.8169\n",
      "Classification Report at Epoch 1940:\n",
      "                  precision    recall  f1-score   support\n",
      "\n",
      "    infringement       0.91      0.66      0.77       194\n",
      "non_infringement       0.72      0.94      0.82       186\n",
      "\n",
      "        accuracy                           0.79       380\n",
      "       macro avg       0.82      0.80      0.79       380\n",
      "    weighted avg       0.82      0.79      0.79       380\n",
      "\n"
     ]
    },
    {
     "name": "stderr",
     "output_type": "stream",
     "text": [
      "Training Epochs:  98%|█████████▊| 1951/2000 [06:11<00:05,  9.40it/s]"
     ]
    },
    {
     "name": "stdout",
     "output_type": "stream",
     "text": [
      "Epoch 1950/2000, Loss: 0.0740\n",
      "Test Accuracy at Epoch 1950: 79.21%\n",
      "Test F1-score at Epoch 1950: 0.8150\n",
      "Classification Report at Epoch 1950:\n",
      "                  precision    recall  f1-score   support\n",
      "\n",
      "    infringement       0.91      0.65      0.76       194\n",
      "non_infringement       0.72      0.94      0.81       186\n",
      "\n",
      "        accuracy                           0.79       380\n",
      "       macro avg       0.82      0.80      0.79       380\n",
      "    weighted avg       0.82      0.79      0.79       380\n",
      "\n"
     ]
    },
    {
     "name": "stderr",
     "output_type": "stream",
     "text": [
      "Training Epochs:  98%|█████████▊| 1961/2000 [06:13<00:08,  4.54it/s]"
     ]
    },
    {
     "name": "stdout",
     "output_type": "stream",
     "text": [
      "Epoch 1960/2000, Loss: 0.0740\n",
      "Test Accuracy at Epoch 1960: 79.21%\n",
      "Test F1-score at Epoch 1960: 0.8150\n",
      "Classification Report at Epoch 1960:\n",
      "                  precision    recall  f1-score   support\n",
      "\n",
      "    infringement       0.91      0.65      0.76       194\n",
      "non_infringement       0.72      0.94      0.81       186\n",
      "\n",
      "        accuracy                           0.79       380\n",
      "       macro avg       0.82      0.80      0.79       380\n",
      "    weighted avg       0.82      0.79      0.79       380\n",
      "\n"
     ]
    },
    {
     "name": "stderr",
     "output_type": "stream",
     "text": [
      "Training Epochs:  98%|█████████▊| 1970/2000 [06:16<00:13,  2.25it/s]"
     ]
    },
    {
     "name": "stdout",
     "output_type": "stream",
     "text": [
      "Epoch 1970/2000, Loss: 0.0786\n",
      "Test Accuracy at Epoch 1970: 79.74%\n",
      "Test F1-score at Epoch 1970: 0.8145\n",
      "Classification Report at Epoch 1970:\n",
      "                  precision    recall  f1-score   support\n",
      "\n",
      "    infringement       0.89      0.69      0.78       194\n",
      "non_infringement       0.74      0.91      0.81       186\n",
      "\n",
      "        accuracy                           0.80       380\n",
      "       macro avg       0.81      0.80      0.80       380\n",
      "    weighted avg       0.81      0.80      0.80       380\n",
      "\n"
     ]
    },
    {
     "name": "stderr",
     "output_type": "stream",
     "text": [
      "Training Epochs:  99%|█████████▉| 1980/2000 [06:18<00:03,  5.01it/s]"
     ]
    },
    {
     "name": "stdout",
     "output_type": "stream",
     "text": [
      "Epoch 1980/2000, Loss: 0.0780\n",
      "Test Accuracy at Epoch 1980: 78.95%\n",
      "Test F1-score at Epoch 1980: 0.8131\n",
      "Classification Report at Epoch 1980:\n",
      "                  precision    recall  f1-score   support\n",
      "\n",
      "    infringement       0.91      0.65      0.76       194\n",
      "non_infringement       0.72      0.94      0.81       186\n",
      "\n",
      "        accuracy                           0.79       380\n",
      "       macro avg       0.82      0.79      0.79       380\n",
      "    weighted avg       0.82      0.79      0.79       380\n",
      "\n"
     ]
    },
    {
     "name": "stderr",
     "output_type": "stream",
     "text": [
      "Training Epochs:  99%|█████████▉| 1989/2000 [06:23<00:05,  2.16it/s]"
     ]
    },
    {
     "name": "stdout",
     "output_type": "stream",
     "text": [
      "Epoch 1990/2000, Loss: 0.0763\n",
      "Test Accuracy at Epoch 1990: 79.21%\n",
      "Test F1-score at Epoch 1990: 0.8141\n"
     ]
    },
    {
     "name": "stderr",
     "output_type": "stream",
     "text": [
      "Training Epochs: 100%|█████████▉| 1990/2000 [06:24<00:05,  1.88it/s]"
     ]
    },
    {
     "name": "stdout",
     "output_type": "stream",
     "text": [
      "Classification Report at Epoch 1990:\n",
      "                  precision    recall  f1-score   support\n",
      "\n",
      "    infringement       0.91      0.66      0.76       194\n",
      "non_infringement       0.72      0.93      0.81       186\n",
      "\n",
      "        accuracy                           0.79       380\n",
      "       macro avg       0.82      0.79      0.79       380\n",
      "    weighted avg       0.82      0.79      0.79       380\n",
      "\n"
     ]
    },
    {
     "name": "stderr",
     "output_type": "stream",
     "text": [
      "Training Epochs: 100%|██████████| 2000/2000 [06:27<00:00,  5.16it/s]\n",
      "/tmp/ipykernel_206723/2033666368.py:59: FutureWarning: You are using `torch.load` with `weights_only=False` (the current default value), which uses the default pickle module implicitly. It is possible to construct malicious pickle data which will execute arbitrary code during unpickling (See https://github.com/pytorch/pytorch/blob/main/SECURITY.md#untrusted-models for more details). In a future release, the default value for `weights_only` will be flipped to `True`. This limits the functions that could be executed during unpickling. Arbitrary objects will no longer be allowed to be loaded via this mode unless they are explicitly allowlisted by the user via `torch.serialization.add_safe_globals`. We recommend you start setting `weights_only=True` for any use case where you don't have full control of the loaded file. Please open an issue on GitHub for any issues related to this experimental feature.\n",
      "  custom_mlp.load_state_dict(torch.load(checkpoint_path))\n"
     ]
    },
    {
     "name": "stdout",
     "output_type": "stream",
     "text": [
      "Epoch 2000/2000, Loss: 0.0750\n",
      "Test Accuracy at Epoch 2000: 79.74%\n",
      "Test F1-score at Epoch 2000: 0.8145\n",
      "Classification Report at Epoch 2000:\n",
      "                  precision    recall  f1-score   support\n",
      "\n",
      "    infringement       0.89      0.69      0.78       194\n",
      "non_infringement       0.74      0.91      0.81       186\n",
      "\n",
      "        accuracy                           0.80       380\n",
      "       macro avg       0.81      0.80      0.80       380\n",
      "    weighted avg       0.81      0.80      0.80       380\n",
      "\n"
     ]
    },
    {
     "data": {
      "image/png": "[encoded data removed]",
      "text/plain": [
       "<Figure size 1000x500 with 1 Axes>"
      ]
     },
     "metadata": {},
     "output_type": "display_data"
    },
    {
     "name": "stdout",
     "output_type": "stream",
     "text": [
      "Final Model Accuracy: 81.58%\n",
      "Final Model F1-score: 0.8325\n"
     ]
    }
   ],
   "source": [
    "input_dim = X_train.shape[1]\n",
    "hidden_dim = 256 \n",
    "print(f\"Training MLP model with input_dim={input_dim} and hidden_dim={hidden_dim}\")\n",
    "\n",
    "custom_mlp, losses, best_accuracy, best_f1 = train_model(X_train, y_train, X_test, y_test, input_dim, hidden_dim)"
   ]
  },
  {
   "cell_type": "code",
   "execution_count": 10,
   "metadata": {},
   "outputs": [
    {
     "name": "stdout",
     "output_type": "stream",
     "text": [
      "Checkpoint saved to '/home/guangwei/LLM-COPYRIGHT/copyright_newVersion/models/train_input_reference_0_layer.pth'.\n"
     ]
    }
   ],
   "source": [
    "def save_checkpoint(model, optimizer, epoch, loss, filepath):\n",
    "    checkpoint = {\n",
    "        'epoch': epoch + 1,\n",
    "        'model_state_dict': model.state_dict(),\n",
    "        'optimizer_state_dict': optimizer.state_dict(),\n",
    "        'loss': loss\n",
    "    }\n",
    "    torch.save(checkpoint, filepath)\n",
    "    print(f\"Checkpoint saved to '{filepath}'.\")\n",
    "\n",
    "save_checkpoint(custom_mlp, torch.optim.Adam(custom_mlp.parameters()), len(losses), losses[-1], checkpoint_file)"
   ]
  },
  {
   "cell_type": "code",
   "execution_count": 11,
   "metadata": {},
   "outputs": [
    {
     "name": "stdout",
     "output_type": "stream",
     "text": [
      "                  precision    recall  f1-score   support\n",
      "\n",
      "    infringement       0.92      0.70      0.80       194\n",
      "non_infringement       0.75      0.94      0.83       186\n",
      "\n",
      "        accuracy                           0.82       380\n",
      "       macro avg       0.83      0.82      0.81       380\n",
      "    weighted avg       0.84      0.82      0.81       380\n",
      "\n"
     ]
    },
    {
     "name": "stderr",
     "output_type": "stream",
     "text": [
      "/tmp/ipykernel_206723/2137335780.py:1: UserWarning: To copy construct from a tensor, it is recommended to use sourceTensor.clone().detach() or sourceTensor.clone().detach().requires_grad_(True), rather than torch.tensor(sourceTensor).\n",
      "  y_pred_final = (torch.sigmoid(torch.tensor(custom_mlp(torch.tensor(X_test, dtype=torch.float32)))) > 0.5).float().numpy()\n"
     ]
    }
   ],
   "source": [
    "y_pred_final = (torch.sigmoid(torch.tensor(custom_mlp(torch.tensor(X_test, dtype=torch.float32)))) > 0.5).float().numpy()\n",
    "print(classification_report(y_test, y_pred_final, target_names=[\"infringement\", \"non_infringement\"]))"
   ]
  }
 ],
 "metadata": {
  "kernelspec": {
   "display_name": "zdh",
   "language": "python",
   "name": "python3"
  },
  "language_info": {
   "codemirror_mode": {
    "name": "ipython",
    "version": 3
   },
   "file_extension": ".py",
   "mimetype": "text/x-python",
   "name": "python",
   "nbconvert_exporter": "python",
   "pygments_lexer": "ipython3",
   "version": "3.12.3"
  }
 },
 "nbformat": 4,
 "nbformat_minor": 2
}
