{
 "cells": [
  {
   "cell_type": "code",
   "execution_count": 1,
   "metadata": {},
   "outputs": [
    {
     "name": "stderr",
     "output_type": "stream",
     "text": [
      "/home/guangwei/miniconda3/envs/zdh/lib/python3.12/site-packages/tqdm/auto.py:21: TqdmWarning: IProgress not found. Please update jupyter and ipywidgets. See https://ipywidgets.readthedocs.io/en/stable/user_install.html\n",
      "  from .autonotebook import tqdm as notebook_tqdm\n"
     ]
    }
   ],
   "source": [
    "# import packages\n",
    "import torch\n",
    "import torch.nn as nn\n",
    "import numpy as np\n",
    "from sklearn.metrics import accuracy_score, classification_report\n",
    "import matplotlib.pyplot as plt\n",
    "from tqdm import tqdm\n",
    "from transformers import AutoTokenizer, AutoModelForCausalLM\n",
    "import json\n",
    "import os\n",
    "\n",
    "os.environ[\"CUDA_VISIBLE_DEVICES\"] = \"5\"\n",
    "\n",
    "# Variables\n",
    "model_name = 'meta-llama/Meta-Llama-3.1-8B'\n",
    "non_infringement_file = '/home/guangwei/LLM-COPYRIGHT/copyright_newVersion/test_division/extra_30.non_infringement.json'\n",
    "infringement_file = '/home/guangwei/LLM-COPYRIGHT/copyright_newVersion/test_division/extra_30.infringement.json'\n",
    "checkpoint_file = '/home/guangwei/LLM-COPYRIGHT/copyright_newVersion/models/train_input_0_layer.pth'"
   ]
  },
  {
   "cell_type": "code",
   "execution_count": 2,
   "metadata": {},
   "outputs": [],
   "source": [
    "# Define CustumMLP for internal states train\n",
    "class CustomMLP(nn.Module):\n",
    "    def __init__(self, input_dim, hidden_dim):\n",
    "        super(CustomMLP, self).__init__()\n",
    "        self.down = nn.Linear(input_dim, hidden_dim)\n",
    "        self.gate = nn.Linear(input_dim, hidden_dim)\n",
    "        self.up = nn.Linear(hidden_dim, 1)\n",
    "        self.activation = nn.SiLU()\n",
    "\n",
    "    def forward(self, x):\n",
    "        down_output = self.down(x)\n",
    "        gate_output = self.gate(x)\n",
    "        gated_output = down_output * self.activation(gate_output)\n",
    "        return self.up(gated_output)"
   ]
  },
  {
   "cell_type": "code",
   "execution_count": 3,
   "metadata": {},
   "outputs": [],
   "source": [
    "# Only extract hidden states\n",
    "def extract_hidden_states(texts, model, tokenizer, batch_size=4):\n",
    "    device = torch.device(\"cuda\" if torch.cuda.is_available() else \"cpu\")\n",
    "    model.to(device)\n",
    "    model = nn.DataParallel(model)\n",
    "    hidden_states = []\n",
    "    for i in tqdm(range(0, len(texts), batch_size), desc=\"Processing data batches\"):\n",
    "        batch_texts = texts[i:i + batch_size]\n",
    "        inputs = tokenizer(batch_texts, return_tensors=\"pt\", padding=True, truncation=True).to(device)\n",
    "        with torch.no_grad():\n",
    "            outputs = model(**inputs)\n",
    "        hidden_states.append(outputs.hidden_states[7].mean(dim=1).cpu().numpy())\n",
    "    return np.vstack(hidden_states)"
   ]
  },
  {
   "cell_type": "code",
   "execution_count": 4,
   "metadata": {},
   "outputs": [],
   "source": [
    "# lode data for infringement & non infringement\n",
    "def load_data(non_infringement_file, infringement_file):\n",
    "    with open(non_infringement_file, 'r', encoding='utf-8') as file:\n",
    "        non_infringement_json_data = json.load(file)\n",
    "\n",
    "    non_infringement_outputs = [entry['input'] for entry in non_infringement_json_data]\n",
    "    y_non_infringement = [1] * len(non_infringement_outputs)\n",
    "\n",
    "    with open(infringement_file, 'r', encoding='utf-8') as file:\n",
    "        infringement_json_data = json.load(file)\n",
    "\n",
    "    infringement_outputs = [entry['input'] for entry in infringement_json_data]\n",
    "    y_infringement = [0] * len(infringement_outputs)\n",
    "\n",
    "    return non_infringement_outputs, y_non_infringement, infringement_outputs, y_infringement"
   ]
  },
  {
   "cell_type": "code",
   "execution_count": 5,
   "metadata": {},
   "outputs": [],
   "source": [
    "from sklearn.metrics import accuracy_score, classification_report, f1_score\n",
    "\n",
    "# Train for best model\n",
    "def train_model(X_train, y_train, X_test, y_test, input_dim, hidden_dim, epochs=2000, lr=0.001, checkpoint_path=checkpoint_file):\n",
    "    custom_mlp = CustomMLP(input_dim, hidden_dim)\n",
    "    criterion = nn.BCEWithLogitsLoss()\n",
    "    optimizer = torch.optim.Adam(custom_mlp.parameters(), lr=lr)\n",
    "\n",
    "    X_train_tensor = torch.tensor(X_train, dtype=torch.float32)\n",
    "    y_train_tensor = torch.tensor(y_train, dtype=torch.float32).unsqueeze(1)\n",
    "\n",
    "    best_accuracy = -float('inf')\n",
    "    best_f1 = -float('inf')  # Track best F1-score\n",
    "    best_model_state = None\n",
    "    best_epoch = 0\n",
    "    losses = []\n",
    "\n",
    "    for epoch in tqdm(range(epochs), desc=\"Training Epochs\"):\n",
    "        custom_mlp.train()\n",
    "        optimizer.zero_grad()\n",
    "        outputs = custom_mlp(X_train_tensor)\n",
    "        loss = criterion(outputs, y_train_tensor)\n",
    "        loss.backward()\n",
    "        optimizer.step()\n",
    "        losses.append(loss.item())\n",
    "\n",
    "        # Every 10 epochs, evaluate the model\n",
    "        if (epoch + 1) % 10 == 0:\n",
    "            print(f\"Epoch {epoch + 1}/{epochs}, Loss: {loss.item():.4f}\")\n",
    "            \n",
    "            custom_mlp.eval()\n",
    "            X_test_tensor = torch.tensor(X_test, dtype=torch.float32)\n",
    "            with torch.no_grad():\n",
    "                y_pred_logits = custom_mlp(X_test_tensor)\n",
    "                y_pred = (torch.sigmoid(y_pred_logits) > 0.5).float().numpy()\n",
    "            \n",
    "            # Calculate accuracy and F1-score\n",
    "            accuracy = accuracy_score(y_test, y_pred)\n",
    "            f1 = f1_score(y_test, y_pred)  # F1-score calculation\n",
    "            \n",
    "            print(f\"Test Accuracy at Epoch {epoch + 1}: {accuracy * 100:.2f}%\")\n",
    "            print(f\"Test F1-score at Epoch {epoch + 1}: {f1:.4f}\")\n",
    "            \n",
    "            # Generate classification report\n",
    "            report = classification_report(y_test, y_pred, target_names=[\"infringement\", \"non_infringement\"])\n",
    "            print(f\"Classification Report at Epoch {epoch + 1}:\\n{report}\")\n",
    "\n",
    "            # Save the model if it achieves a better F1-score\n",
    "            if f1 > best_f1:\n",
    "                best_accuracy = accuracy\n",
    "                best_f1 = f1\n",
    "                best_model_state = custom_mlp.state_dict()\n",
    "                best_epoch = epoch + 1\n",
    "                torch.save(best_model_state, checkpoint_path)\n",
    "                print(f\"New best model saved with F1-score {best_f1:.4f} at epoch {best_epoch}\")\n",
    "                print(f\"Best Classification Report at Epoch {best_epoch}:\\n{report}\")\n",
    "\n",
    "    # Load the best model state\n",
    "    custom_mlp.load_state_dict(torch.load(checkpoint_path))\n",
    "\n",
    "    # Plot loss curve\n",
    "    plt.figure(figsize=(10, 5))\n",
    "    plt.plot(losses, label='Training Loss')\n",
    "    plt.xlabel('Epoch')\n",
    "    plt.ylabel('Loss')\n",
    "    plt.title('Training Loss Curve')\n",
    "    plt.legend()\n",
    "    plt.show()\n",
    "\n",
    "    print(f\"Final Model Accuracy: {best_accuracy * 100:.2f}%\")\n",
    "    print(f\"Final Model F1-score: {best_f1:.4f}\")\n",
    "    \n",
    "    return custom_mlp, losses, best_accuracy, best_f1\n"
   ]
  },
  {
   "cell_type": "code",
   "execution_count": 6,
   "metadata": {},
   "outputs": [
    {
     "name": "stderr",
     "output_type": "stream",
     "text": [
      "/home/guangwei/miniconda3/envs/zdh/lib/python3.12/site-packages/transformers/generation/configuration_utils.py:777: UserWarning: `return_dict_in_generate` is NOT set to `True`, but `output_hidden_states` is. When `return_dict_in_generate` is not `True`, `output_hidden_states` is ignored.\n",
      "  warnings.warn(\n",
      "Loading checkpoint shards: 100%|██████████| 4/4 [00:02<00:00,  1.66it/s]\n"
     ]
    }
   ],
   "source": [
    "\n",
    "tokenizer = AutoTokenizer.from_pretrained(model_name, model_max_length=512)\n",
    "model = AutoModelForCausalLM.from_pretrained(model_name, output_hidden_states=True)\n",
    "tokenizer.pad_token = tokenizer.eos_token\n",
    "\n",
    "non_infringement_outputs, y_non_infringement, infringement_outputs, y_infringement = load_data(non_infringement_file, infringement_file)\n",
    "\n",
    "y_non_infringement = np.array(y_non_infringement)\n",
    "y_infringement = np.array(y_infringement)\n"
   ]
  },
  {
   "cell_type": "code",
   "execution_count": 7,
   "metadata": {},
   "outputs": [
    {
     "name": "stdout",
     "output_type": "stream",
     "text": [
      "Extracting hidden states for non_infringement texts...\n"
     ]
    },
    {
     "name": "stderr",
     "output_type": "stream",
     "text": [
      "Processing data batches:   0%|          | 0/232 [00:00<?, ?it/s]Starting from v4.46, the `logits` model output will have the same type as the model (except at train time, where it will always be FP32)\n",
      "Processing data batches: 100%|██████████| 232/232 [01:02<00:00,  3.70it/s]\n"
     ]
    },
    {
     "name": "stdout",
     "output_type": "stream",
     "text": [
      "Extracting hidden states for infringement texts...\n"
     ]
    },
    {
     "name": "stderr",
     "output_type": "stream",
     "text": [
      "Processing data batches: 100%|██████████| 243/243 [01:20<00:00,  3.03it/s]\n"
     ]
    }
   ],
   "source": [
    "print(\"Extracting hidden states for non_infringement texts...\")\n",
    "X_non_infringement = extract_hidden_states(non_infringement_outputs, model, tokenizer)\n",
    "\n",
    "print(\"Extracting hidden states for infringement texts...\")\n",
    "X_infringement = extract_hidden_states(infringement_outputs, model, tokenizer)"
   ]
  },
  {
   "cell_type": "code",
   "execution_count": 8,
   "metadata": {},
   "outputs": [
    {
     "name": "stdout",
     "output_type": "stream",
     "text": [
      "Data successfully split into training and test sets.\n"
     ]
    }
   ],
   "source": [
    "split_index_non_infringement = int(0.8 * len(X_non_infringement))\n",
    "X_non_infringement_train = X_non_infringement[:split_index_non_infringement]\n",
    "X_non_infringement_test = X_non_infringement[split_index_non_infringement:]\n",
    "y_non_infringement_train = y_non_infringement[:split_index_non_infringement]\n",
    "y_non_infringement_test = y_non_infringement[split_index_non_infringement:]\n",
    "\n",
    "split_index_infringement = int(0.8 * len(X_infringement))\n",
    "X_infringement_train = X_infringement[:split_index_infringement]\n",
    "X_infringement_test = X_infringement[split_index_infringement:]\n",
    "y_infringement_train = y_infringement[:split_index_infringement]\n",
    "y_infringement_test = y_infringement[split_index_infringement:]\n",
    "\n",
    "X_train = np.vstack((X_non_infringement_train, X_infringement_train))\n",
    "X_test = np.vstack((X_non_infringement_test, X_infringement_test))\n",
    "y_train = np.concatenate((y_non_infringement_train, y_infringement_train))\n",
    "y_test = np.concatenate((y_non_infringement_test, y_infringement_test))\n",
    "\n",
    "print(\"Data successfully split into training and test sets.\")"
   ]
  },
  {
   "cell_type": "code",
   "execution_count": 10,
   "metadata": {},
   "outputs": [
    {
     "name": "stdout",
     "output_type": "stream",
     "text": [
      "Training MLP model with input_dim=4096 and hidden_dim=256\n"
     ]
    },
    {
     "name": "stderr",
     "output_type": "stream",
     "text": [
      "Training Epochs:   1%|          | 13/2000 [00:00<00:49, 40.22it/s]"
     ]
    },
    {
     "name": "stdout",
     "output_type": "stream",
     "text": [
      "Epoch 10/2000, Loss: 0.6072\n",
      "Test Accuracy at Epoch 10: 60.00%\n",
      "Test F1-score at Epoch 10: 0.5957\n",
      "Classification Report at Epoch 10:\n",
      "                  precision    recall  f1-score   support\n",
      "\n",
      "    infringement       0.61      0.60      0.60       194\n",
      "non_infringement       0.59      0.60      0.60       186\n",
      "\n",
      "        accuracy                           0.60       380\n",
      "       macro avg       0.60      0.60      0.60       380\n",
      "    weighted avg       0.60      0.60      0.60       380\n",
      "\n",
      "New best model saved with F1-score 0.5957 at epoch 10\n",
      "Best Classification Report at Epoch 10:\n",
      "                  precision    recall  f1-score   support\n",
      "\n",
      "    infringement       0.61      0.60      0.60       194\n",
      "non_infringement       0.59      0.60      0.60       186\n",
      "\n",
      "        accuracy                           0.60       380\n",
      "       macro avg       0.60      0.60      0.60       380\n",
      "    weighted avg       0.60      0.60      0.60       380\n",
      "\n",
      "Epoch 20/2000, Loss: 0.4516\n",
      "Test Accuracy at Epoch 20: 67.89%\n",
      "Test F1-score at Epoch 20: 0.7136\n",
      "Classification Report at Epoch 20:\n",
      "                  precision    recall  f1-score   support\n",
      "\n",
      "    infringement       0.76      0.55      0.63       194\n",
      "non_infringement       0.63      0.82      0.71       186\n",
      "\n",
      "        accuracy                           0.68       380\n",
      "       macro avg       0.70      0.68      0.67       380\n",
      "    weighted avg       0.70      0.68      0.67       380\n",
      "\n"
     ]
    },
    {
     "name": "stderr",
     "output_type": "stream",
     "text": [
      "Training Epochs:   1%|▏         | 27/2000 [00:00<00:41, 47.88it/s]"
     ]
    },
    {
     "name": "stdout",
     "output_type": "stream",
     "text": [
      "New best model saved with F1-score 0.7136 at epoch 20\n",
      "Best Classification Report at Epoch 20:\n",
      "                  precision    recall  f1-score   support\n",
      "\n",
      "    infringement       0.76      0.55      0.63       194\n",
      "non_infringement       0.63      0.82      0.71       186\n",
      "\n",
      "        accuracy                           0.68       380\n",
      "       macro avg       0.70      0.68      0.67       380\n",
      "    weighted avg       0.70      0.68      0.67       380\n",
      "\n",
      "Epoch 30/2000, Loss: 0.3690\n",
      "Test Accuracy at Epoch 30: 70.53%\n",
      "Test F1-score at Epoch 30: 0.7308\n",
      "Classification Report at Epoch 30:\n",
      "                  precision    recall  f1-score   support\n",
      "\n",
      "    infringement       0.77      0.60      0.67       194\n",
      "non_infringement       0.66      0.82      0.73       186\n",
      "\n",
      "        accuracy                           0.71       380\n",
      "       macro avg       0.72      0.71      0.70       380\n",
      "    weighted avg       0.72      0.71      0.70       380\n",
      "\n",
      "New best model saved with F1-score 0.7308 at epoch 30\n",
      "Best Classification Report at Epoch 30:\n",
      "                  precision    recall  f1-score   support\n",
      "\n",
      "    infringement       0.77      0.60      0.67       194\n",
      "non_infringement       0.66      0.82      0.73       186\n",
      "\n",
      "        accuracy                           0.71       380\n",
      "       macro avg       0.72      0.71      0.70       380\n",
      "    weighted avg       0.72      0.71      0.70       380\n",
      "\n"
     ]
    },
    {
     "name": "stderr",
     "output_type": "stream",
     "text": [
      "Training Epochs:   2%|▏         | 45/2000 [00:01<00:41, 47.24it/s]"
     ]
    },
    {
     "name": "stdout",
     "output_type": "stream",
     "text": [
      "Epoch 40/2000, Loss: 0.3413\n",
      "Test Accuracy at Epoch 40: 72.11%\n",
      "Test F1-score at Epoch 40: 0.7427\n",
      "Classification Report at Epoch 40:\n",
      "                  precision    recall  f1-score   support\n",
      "\n",
      "    infringement       0.79      0.62      0.70       194\n",
      "non_infringement       0.68      0.82      0.74       186\n",
      "\n",
      "        accuracy                           0.72       380\n",
      "       macro avg       0.73      0.72      0.72       380\n",
      "    weighted avg       0.73      0.72      0.72       380\n",
      "\n",
      "New best model saved with F1-score 0.7427 at epoch 40\n",
      "Best Classification Report at Epoch 40:\n",
      "                  precision    recall  f1-score   support\n",
      "\n",
      "    infringement       0.79      0.62      0.70       194\n",
      "non_infringement       0.68      0.82      0.74       186\n",
      "\n",
      "        accuracy                           0.72       380\n",
      "       macro avg       0.73      0.72      0.72       380\n",
      "    weighted avg       0.73      0.72      0.72       380\n",
      "\n"
     ]
    },
    {
     "name": "stderr",
     "output_type": "stream",
     "text": [
      "Training Epochs:   3%|▎         | 58/2000 [00:01<00:36, 53.57it/s]"
     ]
    },
    {
     "name": "stdout",
     "output_type": "stream",
     "text": [
      "Epoch 50/2000, Loss: 0.3204\n",
      "Test Accuracy at Epoch 50: 72.89%\n",
      "Test F1-score at Epoch 50: 0.7542\n",
      "Classification Report at Epoch 50:\n",
      "                  precision    recall  f1-score   support\n",
      "\n",
      "    infringement       0.81      0.61      0.70       194\n",
      "non_infringement       0.68      0.85      0.75       186\n",
      "\n",
      "        accuracy                           0.73       380\n",
      "       macro avg       0.74      0.73      0.73       380\n",
      "    weighted avg       0.75      0.73      0.73       380\n",
      "\n",
      "New best model saved with F1-score 0.7542 at epoch 50\n",
      "Best Classification Report at Epoch 50:\n",
      "                  precision    recall  f1-score   support\n",
      "\n",
      "    infringement       0.81      0.61      0.70       194\n",
      "non_infringement       0.68      0.85      0.75       186\n",
      "\n",
      "        accuracy                           0.73       380\n",
      "       macro avg       0.74      0.73      0.73       380\n",
      "    weighted avg       0.75      0.73      0.73       380\n",
      "\n"
     ]
    },
    {
     "name": "stderr",
     "output_type": "stream",
     "text": [
      "Training Epochs:   3%|▎         | 64/2000 [00:01<00:49, 39.11it/s]"
     ]
    },
    {
     "name": "stdout",
     "output_type": "stream",
     "text": [
      "Epoch 60/2000, Loss: 0.3032\n",
      "Test Accuracy at Epoch 60: 72.89%\n",
      "Test F1-score at Epoch 60: 0.7632\n",
      "Classification Report at Epoch 60:\n",
      "                  precision    recall  f1-score   support\n",
      "\n",
      "    infringement       0.85      0.57      0.68       194\n",
      "non_infringement       0.67      0.89      0.76       186\n",
      "\n",
      "        accuracy                           0.73       380\n",
      "       macro avg       0.76      0.73      0.72       380\n",
      "    weighted avg       0.76      0.73      0.72       380\n",
      "\n",
      "New best model saved with F1-score 0.7632 at epoch 60\n",
      "Best Classification Report at Epoch 60:\n",
      "                  precision    recall  f1-score   support\n",
      "\n",
      "    infringement       0.85      0.57      0.68       194\n",
      "non_infringement       0.67      0.89      0.76       186\n",
      "\n",
      "        accuracy                           0.73       380\n",
      "       macro avg       0.76      0.73      0.72       380\n",
      "    weighted avg       0.76      0.73      0.72       380\n",
      "\n"
     ]
    },
    {
     "name": "stderr",
     "output_type": "stream",
     "text": [
      "Training Epochs:   4%|▍         | 77/2000 [00:01<00:45, 42.06it/s]"
     ]
    },
    {
     "name": "stdout",
     "output_type": "stream",
     "text": [
      "Epoch 70/2000, Loss: 0.2824\n",
      "Test Accuracy at Epoch 70: 72.37%\n",
      "Test F1-score at Epoch 70: 0.7575\n",
      "Classification Report at Epoch 70:\n",
      "                  precision    recall  f1-score   support\n",
      "\n",
      "    infringement       0.83      0.57      0.68       194\n",
      "non_infringement       0.66      0.88      0.76       186\n",
      "\n",
      "        accuracy                           0.72       380\n",
      "       macro avg       0.75      0.73      0.72       380\n",
      "    weighted avg       0.75      0.72      0.72       380\n",
      "\n"
     ]
    },
    {
     "name": "stderr",
     "output_type": "stream",
     "text": [
      "Training Epochs:   4%|▍         | 82/2000 [00:01<00:49, 38.61it/s]"
     ]
    },
    {
     "name": "stdout",
     "output_type": "stream",
     "text": [
      "Epoch 80/2000, Loss: 0.2592\n",
      "Test Accuracy at Epoch 80: 76.32%\n",
      "Test F1-score at Epoch 80: 0.7805\n",
      "Classification Report at Epoch 80:\n",
      "                  precision    recall  f1-score   support\n",
      "\n",
      "    infringement       0.83      0.67      0.74       194\n",
      "non_infringement       0.71      0.86      0.78       186\n",
      "\n",
      "        accuracy                           0.76       380\n",
      "       macro avg       0.77      0.77      0.76       380\n",
      "    weighted avg       0.78      0.76      0.76       380\n",
      "\n",
      "New best model saved with F1-score 0.7805 at epoch 80\n",
      "Best Classification Report at Epoch 80:\n",
      "                  precision    recall  f1-score   support\n",
      "\n",
      "    infringement       0.83      0.67      0.74       194\n",
      "non_infringement       0.71      0.86      0.78       186\n",
      "\n",
      "        accuracy                           0.76       380\n",
      "       macro avg       0.77      0.77      0.76       380\n",
      "    weighted avg       0.78      0.76      0.76       380\n",
      "\n"
     ]
    },
    {
     "name": "stderr",
     "output_type": "stream",
     "text": [
      "Training Epochs:   5%|▍         | 94/2000 [00:02<00:47, 40.38it/s]"
     ]
    },
    {
     "name": "stdout",
     "output_type": "stream",
     "text": [
      "Epoch 90/2000, Loss: 0.2324\n",
      "Test Accuracy at Epoch 90: 72.89%\n",
      "Test F1-score at Epoch 90: 0.7588\n",
      "Classification Report at Epoch 90:\n",
      "                  precision    recall  f1-score   support\n",
      "\n",
      "    infringement       0.83      0.59      0.69       194\n",
      "non_infringement       0.67      0.87      0.76       186\n",
      "\n",
      "        accuracy                           0.73       380\n",
      "       macro avg       0.75      0.73      0.72       380\n",
      "    weighted avg       0.75      0.73      0.72       380\n",
      "\n"
     ]
    },
    {
     "name": "stderr",
     "output_type": "stream",
     "text": [
      "Training Epochs:   5%|▌         | 109/2000 [00:02<00:35, 53.19it/s]"
     ]
    },
    {
     "name": "stdout",
     "output_type": "stream",
     "text": [
      "Epoch 100/2000, Loss: 0.2106\n",
      "Test Accuracy at Epoch 100: 74.21%\n",
      "Test F1-score at Epoch 100: 0.7731\n",
      "Classification Report at Epoch 100:\n",
      "                  precision    recall  f1-score   support\n",
      "\n",
      "    infringement       0.86      0.59      0.70       194\n",
      "non_infringement       0.68      0.90      0.77       186\n",
      "\n",
      "        accuracy                           0.74       380\n",
      "       macro avg       0.77      0.75      0.74       380\n",
      "    weighted avg       0.77      0.74      0.74       380\n",
      "\n",
      "Epoch 110/2000, Loss: 0.1859\n",
      "Test Accuracy at Epoch 110: 73.68%\n",
      "Test F1-score at Epoch 110: 0.7674\n",
      "Classification Report at Epoch 110:\n",
      "                  precision    recall  f1-score   support\n",
      "\n",
      "    infringement       0.85      0.59      0.70       194\n",
      "non_infringement       0.68      0.89      0.77       186\n",
      "\n",
      "        accuracy                           0.74       380\n",
      "       macro avg       0.76      0.74      0.73       380\n",
      "    weighted avg       0.76      0.74      0.73       380\n",
      "\n"
     ]
    },
    {
     "name": "stderr",
     "output_type": "stream",
     "text": [
      "Training Epochs:   6%|▋         | 129/2000 [00:02<00:32, 58.40it/s]"
     ]
    },
    {
     "name": "stdout",
     "output_type": "stream",
     "text": [
      "Epoch 120/2000, Loss: 0.1708\n",
      "Test Accuracy at Epoch 120: 74.21%\n",
      "Test F1-score at Epoch 120: 0.7538\n",
      "Classification Report at Epoch 120:\n",
      "                  precision    recall  f1-score   support\n",
      "\n",
      "    infringement       0.79      0.68      0.73       194\n",
      "non_infringement       0.71      0.81      0.75       186\n",
      "\n",
      "        accuracy                           0.74       380\n",
      "       macro avg       0.75      0.74      0.74       380\n",
      "    weighted avg       0.75      0.74      0.74       380\n",
      "\n",
      "Epoch 130/2000, Loss: 0.1598\n",
      "Test Accuracy at Epoch 130: 72.63%\n",
      "Test F1-score at Epoch 130: 0.7547\n",
      "Classification Report at Epoch 130:\n",
      "                  precision    recall  f1-score   support\n",
      "\n",
      "    infringement       0.82      0.60      0.69       194\n",
      "non_infringement       0.67      0.86      0.75       186\n",
      "\n",
      "        accuracy                           0.73       380\n",
      "       macro avg       0.74      0.73      0.72       380\n",
      "    weighted avg       0.75      0.73      0.72       380\n",
      "\n"
     ]
    },
    {
     "name": "stderr",
     "output_type": "stream",
     "text": [
      "Training Epochs:   8%|▊         | 150/2000 [00:03<00:32, 57.67it/s]"
     ]
    },
    {
     "name": "stdout",
     "output_type": "stream",
     "text": [
      "Epoch 140/2000, Loss: 0.1484\n",
      "Test Accuracy at Epoch 140: 71.05%\n",
      "Test F1-score at Epoch 140: 0.7356\n",
      "Classification Report at Epoch 140:\n",
      "                  precision    recall  f1-score   support\n",
      "\n",
      "    infringement       0.78      0.60      0.68       194\n",
      "non_infringement       0.67      0.82      0.74       186\n",
      "\n",
      "        accuracy                           0.71       380\n",
      "       macro avg       0.72      0.71      0.71       380\n",
      "    weighted avg       0.72      0.71      0.71       380\n",
      "\n",
      "Epoch 150/2000, Loss: 0.1404\n",
      "Test Accuracy at Epoch 150: 71.32%\n",
      "Test F1-score at Epoch 150: 0.7386\n",
      "Classification Report at Epoch 150:\n",
      "                  precision    recall  f1-score   support\n",
      "\n",
      "    infringement       0.79      0.60      0.68       194\n",
      "non_infringement       0.67      0.83      0.74       186\n",
      "\n",
      "        accuracy                           0.71       380\n",
      "       macro avg       0.73      0.72      0.71       380\n",
      "    weighted avg       0.73      0.71      0.71       380\n",
      "\n"
     ]
    },
    {
     "name": "stderr",
     "output_type": "stream",
     "text": [
      "Training Epochs:   8%|▊         | 165/2000 [00:03<00:32, 55.71it/s]"
     ]
    },
    {
     "name": "stdout",
     "output_type": "stream",
     "text": [
      "Epoch 160/2000, Loss: 0.1358\n",
      "Test Accuracy at Epoch 160: 71.32%\n",
      "Test F1-score at Epoch 160: 0.7386\n",
      "Classification Report at Epoch 160:\n",
      "                  precision    recall  f1-score   support\n",
      "\n",
      "    infringement       0.79      0.60      0.68       194\n",
      "non_infringement       0.67      0.83      0.74       186\n",
      "\n",
      "        accuracy                           0.71       380\n",
      "       macro avg       0.73      0.72      0.71       380\n",
      "    weighted avg       0.73      0.71      0.71       380\n",
      "\n"
     ]
    },
    {
     "name": "stderr",
     "output_type": "stream",
     "text": [
      "Training Epochs:   9%|▉         | 179/2000 [00:03<00:30, 58.93it/s]"
     ]
    },
    {
     "name": "stdout",
     "output_type": "stream",
     "text": [
      "Epoch 170/2000, Loss: 0.1328\n",
      "Test Accuracy at Epoch 170: 73.68%\n",
      "Test F1-score at Epoch 170: 0.7500\n",
      "Classification Report at Epoch 170:\n",
      "                  precision    recall  f1-score   support\n",
      "\n",
      "    infringement       0.78      0.67      0.72       194\n",
      "non_infringement       0.70      0.81      0.75       186\n",
      "\n",
      "        accuracy                           0.74       380\n",
      "       macro avg       0.74      0.74      0.74       380\n",
      "    weighted avg       0.74      0.74      0.74       380\n",
      "\n",
      "Epoch 180/2000, Loss: 0.1300\n",
      "Test Accuracy at Epoch 180: 71.32%\n",
      "Test F1-score at Epoch 180: 0.7386\n",
      "Classification Report at Epoch 180:\n",
      "                  precision    recall  f1-score   support\n",
      "\n",
      "    infringement       0.79      0.60      0.68       194\n",
      "non_infringement       0.67      0.83      0.74       186\n",
      "\n",
      "        accuracy                           0.71       380\n",
      "       macro avg       0.73      0.72      0.71       380\n",
      "    weighted avg       0.73      0.71      0.71       380\n",
      "\n"
     ]
    },
    {
     "name": "stderr",
     "output_type": "stream",
     "text": [
      "Training Epochs:  10%|█         | 200/2000 [00:04<00:31, 57.04it/s]"
     ]
    },
    {
     "name": "stdout",
     "output_type": "stream",
     "text": [
      "Epoch 190/2000, Loss: 0.1274\n",
      "Test Accuracy at Epoch 190: 73.68%\n",
      "Test F1-score at Epoch 190: 0.7500\n",
      "Classification Report at Epoch 190:\n",
      "                  precision    recall  f1-score   support\n",
      "\n",
      "    infringement       0.78      0.67      0.72       194\n",
      "non_infringement       0.70      0.81      0.75       186\n",
      "\n",
      "        accuracy                           0.74       380\n",
      "       macro avg       0.74      0.74      0.74       380\n",
      "    weighted avg       0.74      0.74      0.74       380\n",
      "\n",
      "Epoch 200/2000, Loss: 0.1249\n",
      "Test Accuracy at Epoch 200: 70.53%\n",
      "Test F1-score at Epoch 200: 0.7295\n",
      "Classification Report at Epoch 200:\n",
      "                  precision    recall  f1-score   support\n",
      "\n",
      "    infringement       0.77      0.60      0.68       194\n",
      "non_infringement       0.66      0.81      0.73       186\n",
      "\n",
      "        accuracy                           0.71       380\n",
      "       macro avg       0.72      0.71      0.70       380\n",
      "    weighted avg       0.72      0.71      0.70       380\n",
      "\n"
     ]
    },
    {
     "name": "stderr",
     "output_type": "stream",
     "text": [
      "Training Epochs:  11%|█         | 220/2000 [00:04<00:31, 57.14it/s]"
     ]
    },
    {
     "name": "stdout",
     "output_type": "stream",
     "text": [
      "Epoch 210/2000, Loss: 0.1224\n",
      "Test Accuracy at Epoch 210: 73.68%\n",
      "Test F1-score at Epoch 210: 0.7500\n",
      "Classification Report at Epoch 210:\n",
      "                  precision    recall  f1-score   support\n",
      "\n",
      "    infringement       0.78      0.67      0.72       194\n",
      "non_infringement       0.70      0.81      0.75       186\n",
      "\n",
      "        accuracy                           0.74       380\n",
      "       macro avg       0.74      0.74      0.74       380\n",
      "    weighted avg       0.74      0.74      0.74       380\n",
      "\n",
      "Epoch 220/2000, Loss: 0.1201\n",
      "Test Accuracy at Epoch 220: 70.26%\n",
      "Test F1-score at Epoch 220: 0.7264\n",
      "Classification Report at Epoch 220:\n",
      "                  precision    recall  f1-score   support\n",
      "\n",
      "    infringement       0.76      0.60      0.67       194\n",
      "non_infringement       0.66      0.81      0.73       186\n",
      "\n",
      "        accuracy                           0.70       380\n",
      "       macro avg       0.71      0.70      0.70       380\n",
      "    weighted avg       0.71      0.70      0.70       380\n",
      "\n"
     ]
    },
    {
     "name": "stderr",
     "output_type": "stream",
     "text": [
      "Training Epochs:  12%|█▏        | 240/2000 [00:04<00:31, 55.77it/s]"
     ]
    },
    {
     "name": "stdout",
     "output_type": "stream",
     "text": [
      "Epoch 230/2000, Loss: 0.1190\n",
      "Test Accuracy at Epoch 230: 70.26%\n",
      "Test F1-score at Epoch 230: 0.7264\n",
      "Classification Report at Epoch 230:\n",
      "                  precision    recall  f1-score   support\n",
      "\n",
      "    infringement       0.76      0.60      0.67       194\n",
      "non_infringement       0.66      0.81      0.73       186\n",
      "\n",
      "        accuracy                           0.70       380\n",
      "       macro avg       0.71      0.70      0.70       380\n",
      "    weighted avg       0.71      0.70      0.70       380\n",
      "\n",
      "Epoch 240/2000, Loss: 0.1183\n",
      "Test Accuracy at Epoch 240: 73.68%\n",
      "Test F1-score at Epoch 240: 0.7500\n",
      "Classification Report at Epoch 240:\n",
      "                  precision    recall  f1-score   support\n",
      "\n",
      "    infringement       0.78      0.67      0.72       194\n",
      "non_infringement       0.70      0.81      0.75       186\n",
      "\n",
      "        accuracy                           0.74       380\n",
      "       macro avg       0.74      0.74      0.74       380\n",
      "    weighted avg       0.74      0.74      0.74       380\n",
      "\n"
     ]
    },
    {
     "name": "stderr",
     "output_type": "stream",
     "text": [
      "Training Epochs:  13%|█▎        | 261/2000 [00:05<00:31, 55.54it/s]"
     ]
    },
    {
     "name": "stdout",
     "output_type": "stream",
     "text": [
      "Epoch 250/2000, Loss: 0.1175\n",
      "Test Accuracy at Epoch 250: 70.00%\n",
      "Test F1-score at Epoch 250: 0.7246\n",
      "Classification Report at Epoch 250:\n",
      "                  precision    recall  f1-score   support\n",
      "\n",
      "    infringement       0.76      0.60      0.67       194\n",
      "non_infringement       0.66      0.81      0.72       186\n",
      "\n",
      "        accuracy                           0.70       380\n",
      "       macro avg       0.71      0.70      0.70       380\n",
      "    weighted avg       0.71      0.70      0.70       380\n",
      "\n",
      "Epoch 260/2000, Loss: 0.1153\n",
      "Test Accuracy at Epoch 260: 73.42%\n",
      "Test F1-score at Epoch 260: 0.7469\n",
      "Classification Report at Epoch 260:\n",
      "                  precision    recall  f1-score   support\n",
      "\n",
      "    infringement       0.78      0.67      0.72       194\n",
      "non_infringement       0.70      0.80      0.75       186\n",
      "\n",
      "        accuracy                           0.73       380\n",
      "       macro avg       0.74      0.74      0.73       380\n",
      "    weighted avg       0.74      0.73      0.73       380\n",
      "\n"
     ]
    },
    {
     "name": "stderr",
     "output_type": "stream",
     "text": [
      "Training Epochs:  14%|█▎        | 273/2000 [00:05<00:35, 48.26it/s]"
     ]
    },
    {
     "name": "stdout",
     "output_type": "stream",
     "text": [
      "Epoch 270/2000, Loss: 0.1126\n",
      "Test Accuracy at Epoch 270: 69.47%\n",
      "Test F1-score at Epoch 270: 0.7212\n",
      "Classification Report at Epoch 270:\n",
      "                  precision    recall  f1-score   support\n",
      "\n",
      "    infringement       0.76      0.59      0.66       194\n",
      "non_infringement       0.65      0.81      0.72       186\n",
      "\n",
      "        accuracy                           0.69       380\n",
      "       macro avg       0.71      0.70      0.69       380\n",
      "    weighted avg       0.71      0.69      0.69       380\n",
      "\n"
     ]
    },
    {
     "name": "stderr",
     "output_type": "stream",
     "text": [
      "Training Epochs:  14%|█▍        | 284/2000 [00:05<00:37, 45.59it/s]"
     ]
    },
    {
     "name": "stdout",
     "output_type": "stream",
     "text": [
      "Epoch 280/2000, Loss: 0.1108\n",
      "Test Accuracy at Epoch 280: 72.89%\n",
      "Test F1-score at Epoch 280: 0.7431\n",
      "Classification Report at Epoch 280:\n",
      "                  precision    recall  f1-score   support\n",
      "\n",
      "    infringement       0.78      0.66      0.71       194\n",
      "non_infringement       0.69      0.80      0.74       186\n",
      "\n",
      "        accuracy                           0.73       380\n",
      "       macro avg       0.73      0.73      0.73       380\n",
      "    weighted avg       0.74      0.73      0.73       380\n",
      "\n"
     ]
    },
    {
     "name": "stderr",
     "output_type": "stream",
     "text": [
      "Training Epochs:  15%|█▍        | 294/2000 [00:05<00:40, 41.74it/s]"
     ]
    },
    {
     "name": "stdout",
     "output_type": "stream",
     "text": [
      "Epoch 290/2000, Loss: 0.1104\n",
      "Test Accuracy at Epoch 290: 72.37%\n",
      "Test F1-score at Epoch 290: 0.7395\n",
      "Classification Report at Epoch 290:\n",
      "                  precision    recall  f1-score   support\n",
      "\n",
      "    infringement       0.77      0.65      0.71       194\n",
      "non_infringement       0.69      0.80      0.74       186\n",
      "\n",
      "        accuracy                           0.72       380\n",
      "       macro avg       0.73      0.73      0.72       380\n",
      "    weighted avg       0.73      0.72      0.72       380\n",
      "\n",
      "Epoch 300/2000, Loss: 0.1119\n",
      "Test Accuracy at Epoch 300: 69.21%\n",
      "Test F1-score at Epoch 300: 0.7181\n",
      "Classification Report at Epoch 300:\n",
      "                  precision    recall  f1-score   support\n",
      "\n",
      "    infringement       0.75      0.59      0.66       194\n",
      "non_infringement       0.65      0.80      0.72       186\n",
      "\n",
      "        accuracy                           0.69       380\n",
      "       macro avg       0.70      0.69      0.69       380\n",
      "    weighted avg       0.70      0.69      0.69       380\n",
      "\n"
     ]
    },
    {
     "name": "stderr",
     "output_type": "stream",
     "text": [
      "Training Epochs:  16%|█▌        | 320/2000 [00:06<00:31, 54.16it/s]"
     ]
    },
    {
     "name": "stdout",
     "output_type": "stream",
     "text": [
      "Epoch 310/2000, Loss: 0.1098\n",
      "Test Accuracy at Epoch 310: 74.21%\n",
      "Test F1-score at Epoch 310: 0.7525\n",
      "Classification Report at Epoch 310:\n",
      "                  precision    recall  f1-score   support\n",
      "\n",
      "    infringement       0.78      0.69      0.73       194\n",
      "non_infringement       0.71      0.80      0.75       186\n",
      "\n",
      "        accuracy                           0.74       380\n",
      "       macro avg       0.75      0.74      0.74       380\n",
      "    weighted avg       0.75      0.74      0.74       380\n",
      "\n",
      "Epoch 320/2000, Loss: 0.1076\n",
      "Test Accuracy at Epoch 320: 72.11%\n",
      "Test F1-score at Epoch 320: 0.7376\n",
      "Classification Report at Epoch 320:\n",
      "                  precision    recall  f1-score   support\n",
      "\n",
      "    infringement       0.77      0.64      0.70       194\n",
      "non_infringement       0.68      0.80      0.74       186\n",
      "\n",
      "        accuracy                           0.72       380\n",
      "       macro avg       0.73      0.72      0.72       380\n",
      "    weighted avg       0.73      0.72      0.72       380\n",
      "\n"
     ]
    },
    {
     "name": "stderr",
     "output_type": "stream",
     "text": [
      "Training Epochs:  17%|█▋        | 341/2000 [00:06<00:28, 57.40it/s]"
     ]
    },
    {
     "name": "stdout",
     "output_type": "stream",
     "text": [
      "Epoch 330/2000, Loss: 0.1066\n",
      "Test Accuracy at Epoch 330: 72.11%\n",
      "Test F1-score at Epoch 330: 0.7376\n",
      "Classification Report at Epoch 330:\n",
      "                  precision    recall  f1-score   support\n",
      "\n",
      "    infringement       0.77      0.64      0.70       194\n",
      "non_infringement       0.68      0.80      0.74       186\n",
      "\n",
      "        accuracy                           0.72       380\n",
      "       macro avg       0.73      0.72      0.72       380\n",
      "    weighted avg       0.73      0.72      0.72       380\n",
      "\n",
      "Epoch 340/2000, Loss: 0.1080\n",
      "Test Accuracy at Epoch 340: 74.21%\n",
      "Test F1-score at Epoch 340: 0.7525\n",
      "Classification Report at Epoch 340:\n",
      "                  precision    recall  f1-score   support\n",
      "\n",
      "    infringement       0.78      0.69      0.73       194\n",
      "non_infringement       0.71      0.80      0.75       186\n",
      "\n",
      "        accuracy                           0.74       380\n",
      "       macro avg       0.75      0.74      0.74       380\n",
      "    weighted avg       0.75      0.74      0.74       380\n",
      "\n"
     ]
    },
    {
     "name": "stderr",
     "output_type": "stream",
     "text": [
      "Training Epochs:  18%|█▊        | 356/2000 [00:07<00:31, 52.53it/s]"
     ]
    },
    {
     "name": "stdout",
     "output_type": "stream",
     "text": [
      "Epoch 350/2000, Loss: 0.1072\n",
      "Test Accuracy at Epoch 350: 70.00%\n",
      "Test F1-score at Epoch 350: 0.7233\n",
      "Classification Report at Epoch 350:\n",
      "                  precision    recall  f1-score   support\n",
      "\n",
      "    infringement       0.76      0.60      0.67       194\n",
      "non_infringement       0.66      0.80      0.72       186\n",
      "\n",
      "        accuracy                           0.70       380\n",
      "       macro avg       0.71      0.70      0.70       380\n",
      "    weighted avg       0.71      0.70      0.70       380\n",
      "\n",
      "Epoch 360/2000, Loss: 0.1050\n",
      "Test Accuracy at Epoch 360: 74.74%\n",
      "Test F1-score at Epoch 360: 0.7563\n"
     ]
    },
    {
     "name": "stderr",
     "output_type": "stream",
     "text": [
      "Training Epochs:  18%|█▊        | 370/2000 [00:07<00:29, 55.34it/s]"
     ]
    },
    {
     "name": "stdout",
     "output_type": "stream",
     "text": [
      "Classification Report at Epoch 360:\n",
      "                  precision    recall  f1-score   support\n",
      "\n",
      "    infringement       0.78      0.70      0.74       194\n",
      "non_infringement       0.72      0.80      0.76       186\n",
      "\n",
      "        accuracy                           0.75       380\n",
      "       macro avg       0.75      0.75      0.75       380\n",
      "    weighted avg       0.75      0.75      0.75       380\n",
      "\n",
      "Epoch 370/2000, Loss: 0.1044\n",
      "Test Accuracy at Epoch 370: 72.89%\n",
      "Test F1-score at Epoch 370: 0.7431\n",
      "Classification Report at Epoch 370:\n",
      "                  precision    recall  f1-score   support\n",
      "\n",
      "    infringement       0.78      0.66      0.71       194\n",
      "non_infringement       0.69      0.80      0.74       186\n",
      "\n",
      "        accuracy                           0.73       380\n",
      "       macro avg       0.73      0.73      0.73       380\n",
      "    weighted avg       0.74      0.73      0.73       380\n",
      "\n"
     ]
    },
    {
     "name": "stderr",
     "output_type": "stream",
     "text": [
      "Training Epochs:  19%|█▉        | 383/2000 [00:07<00:27, 59.22it/s]"
     ]
    },
    {
     "name": "stdout",
     "output_type": "stream",
     "text": [
      "Epoch 380/2000, Loss: 0.1055\n",
      "Test Accuracy at Epoch 380: 71.58%\n",
      "Test F1-score at Epoch 380: 0.7340\n",
      "Classification Report at Epoch 380:\n",
      "                  precision    recall  f1-score   support\n",
      "\n",
      "    infringement       0.77      0.63      0.69       194\n",
      "non_infringement       0.68      0.80      0.73       186\n",
      "\n",
      "        accuracy                           0.72       380\n",
      "       macro avg       0.72      0.72      0.71       380\n",
      "    weighted avg       0.72      0.72      0.71       380\n",
      "\n",
      "Epoch 390/2000, Loss: 0.1054\n",
      "Test Accuracy at Epoch 390: 75.00%\n",
      "Test F1-score at Epoch 390: 0.7583\n"
     ]
    },
    {
     "name": "stderr",
     "output_type": "stream",
     "text": [
      "Training Epochs:  20%|█▉        | 396/2000 [00:07<00:34, 46.86it/s]"
     ]
    },
    {
     "name": "stdout",
     "output_type": "stream",
     "text": [
      "Classification Report at Epoch 390:\n",
      "                  precision    recall  f1-score   support\n",
      "\n",
      "    infringement       0.79      0.70      0.74       194\n",
      "non_infringement       0.72      0.80      0.76       186\n",
      "\n",
      "        accuracy                           0.75       380\n",
      "       macro avg       0.75      0.75      0.75       380\n",
      "    weighted avg       0.75      0.75      0.75       380\n",
      "\n"
     ]
    },
    {
     "name": "stderr",
     "output_type": "stream",
     "text": [
      "Training Epochs:  20%|██        | 410/2000 [00:08<00:29, 53.13it/s]"
     ]
    },
    {
     "name": "stdout",
     "output_type": "stream",
     "text": [
      "Epoch 400/2000, Loss: 0.1030\n",
      "Test Accuracy at Epoch 400: 72.11%\n",
      "Test F1-score at Epoch 400: 0.7376\n",
      "Classification Report at Epoch 400:\n",
      "                  precision    recall  f1-score   support\n",
      "\n",
      "    infringement       0.77      0.64      0.70       194\n",
      "non_infringement       0.68      0.80      0.74       186\n",
      "\n",
      "        accuracy                           0.72       380\n",
      "       macro avg       0.73      0.72      0.72       380\n",
      "    weighted avg       0.73      0.72      0.72       380\n",
      "\n",
      "Epoch 410/2000, Loss: 0.1034\n",
      "Test Accuracy at Epoch 410: 72.37%\n",
      "Test F1-score at Epoch 410: 0.7395\n",
      "Classification Report at Epoch 410:\n",
      "                  precision    recall  f1-score   support\n",
      "\n",
      "    infringement       0.77      0.65      0.71       194\n",
      "non_infringement       0.69      0.80      0.74       186\n",
      "\n",
      "        accuracy                           0.72       380\n",
      "       macro avg       0.73      0.73      0.72       380\n",
      "    weighted avg       0.73      0.72      0.72       380\n",
      "\n"
     ]
    },
    {
     "name": "stderr",
     "output_type": "stream",
     "text": [
      "Training Epochs:  22%|██▏       | 432/2000 [00:08<00:25, 60.40it/s]"
     ]
    },
    {
     "name": "stdout",
     "output_type": "stream",
     "text": [
      "Epoch 420/2000, Loss: 0.1056\n",
      "Test Accuracy at Epoch 420: 75.00%\n",
      "Test F1-score at Epoch 420: 0.7583\n",
      "Classification Report at Epoch 420:\n",
      "                  precision    recall  f1-score   support\n",
      "\n",
      "    infringement       0.79      0.70      0.74       194\n",
      "non_infringement       0.72      0.80      0.76       186\n",
      "\n",
      "        accuracy                           0.75       380\n",
      "       macro avg       0.75      0.75      0.75       380\n",
      "    weighted avg       0.75      0.75      0.75       380\n",
      "\n",
      "Epoch 430/2000, Loss: 0.1053\n",
      "Test Accuracy at Epoch 430: 72.63%\n",
      "Test F1-score at Epoch 430: 0.7438\n",
      "Classification Report at Epoch 430:\n",
      "                  precision    recall  f1-score   support\n",
      "\n",
      "    infringement       0.78      0.64      0.71       194\n",
      "non_infringement       0.69      0.81      0.74       186\n",
      "\n",
      "        accuracy                           0.73       380\n",
      "       macro avg       0.73      0.73      0.73       380\n",
      "    weighted avg       0.73      0.73      0.72       380\n",
      "\n"
     ]
    },
    {
     "name": "stderr",
     "output_type": "stream",
     "text": [
      "Training Epochs:  22%|██▏       | 446/2000 [00:08<00:27, 56.68it/s]"
     ]
    },
    {
     "name": "stdout",
     "output_type": "stream",
     "text": [
      "Epoch 440/2000, Loss: 0.1024\n",
      "Test Accuracy at Epoch 440: 72.89%\n",
      "Test F1-score at Epoch 440: 0.7431\n",
      "Classification Report at Epoch 440:\n",
      "                  precision    recall  f1-score   support\n",
      "\n",
      "    infringement       0.78      0.66      0.71       194\n",
      "non_infringement       0.69      0.80      0.74       186\n",
      "\n",
      "        accuracy                           0.73       380\n",
      "       macro avg       0.73      0.73      0.73       380\n",
      "    weighted avg       0.74      0.73      0.73       380\n",
      "\n",
      "Epoch 450/2000, Loss: 0.1012\n",
      "Test Accuracy at Epoch 450: 72.89%\n",
      "Test F1-score at Epoch 450: 0.7457\n",
      "Classification Report at Epoch 450:\n",
      "                  precision    recall  f1-score   support\n",
      "\n",
      "    infringement       0.78      0.65      0.71       194\n",
      "non_infringement       0.69      0.81      0.75       186\n",
      "\n",
      "        accuracy                           0.73       380\n",
      "       macro avg       0.74      0.73      0.73       380\n",
      "    weighted avg       0.74      0.73      0.73       380\n",
      "\n"
     ]
    },
    {
     "name": "stderr",
     "output_type": "stream",
     "text": [
      "Training Epochs:  23%|██▎       | 468/2000 [00:09<00:25, 59.29it/s]"
     ]
    },
    {
     "name": "stdout",
     "output_type": "stream",
     "text": [
      "Epoch 460/2000, Loss: 0.1019\n",
      "Test Accuracy at Epoch 460: 75.26%\n",
      "Test F1-score at Epoch 460: 0.7626\n",
      "Classification Report at Epoch 460:\n",
      "                  precision    recall  f1-score   support\n",
      "\n",
      "    infringement       0.79      0.70      0.74       194\n",
      "non_infringement       0.72      0.81      0.76       186\n",
      "\n",
      "        accuracy                           0.75       380\n",
      "       macro avg       0.76      0.75      0.75       380\n",
      "    weighted avg       0.76      0.75      0.75       380\n",
      "\n",
      "Epoch 470/2000, Loss: 0.1007\n",
      "Test Accuracy at Epoch 470: 73.16%\n",
      "Test F1-score at Epoch 470: 0.7475\n",
      "Classification Report at Epoch 470:\n",
      "                  precision    recall  f1-score   support\n",
      "\n",
      "    infringement       0.78      0.65      0.71       194\n",
      "non_infringement       0.69      0.81      0.75       186\n",
      "\n",
      "        accuracy                           0.73       380\n",
      "       macro avg       0.74      0.73      0.73       380\n",
      "    weighted avg       0.74      0.73      0.73       380\n",
      "\n"
     ]
    },
    {
     "name": "stderr",
     "output_type": "stream",
     "text": [
      "Training Epochs:  24%|██▍       | 490/2000 [00:09<00:28, 53.56it/s]"
     ]
    },
    {
     "name": "stdout",
     "output_type": "stream",
     "text": [
      "Epoch 480/2000, Loss: 0.1017\n",
      "Test Accuracy at Epoch 480: 70.79%\n",
      "Test F1-score at Epoch 480: 0.7312\n",
      "Classification Report at Epoch 480:\n",
      "                  precision    recall  f1-score   support\n",
      "\n",
      "    infringement       0.77      0.61      0.68       194\n",
      "non_infringement       0.67      0.81      0.73       186\n",
      "\n",
      "        accuracy                           0.71       380\n",
      "       macro avg       0.72      0.71      0.71       380\n",
      "    weighted avg       0.72      0.71      0.71       380\n",
      "\n",
      "Epoch 490/2000, Loss: 0.1019\n",
      "Test Accuracy at Epoch 490: 75.26%\n",
      "Test F1-score at Epoch 490: 0.7626\n",
      "Classification Report at Epoch 490:\n",
      "                  precision    recall  f1-score   support\n",
      "\n",
      "    infringement       0.79      0.70      0.74       194\n",
      "non_infringement       0.72      0.81      0.76       186\n",
      "\n",
      "        accuracy                           0.75       380\n",
      "       macro avg       0.76      0.75      0.75       380\n",
      "    weighted avg       0.76      0.75      0.75       380\n",
      "\n"
     ]
    },
    {
     "name": "stderr",
     "output_type": "stream",
     "text": [
      "Training Epochs:  25%|██▌       | 505/2000 [00:09<00:28, 53.21it/s]"
     ]
    },
    {
     "name": "stdout",
     "output_type": "stream",
     "text": [
      "Epoch 500/2000, Loss: 0.1034\n",
      "Test Accuracy at Epoch 500: 70.79%\n",
      "Test F1-score at Epoch 500: 0.7312\n",
      "Classification Report at Epoch 500:\n",
      "                  precision    recall  f1-score   support\n",
      "\n",
      "    infringement       0.77      0.61      0.68       194\n",
      "non_infringement       0.67      0.81      0.73       186\n",
      "\n",
      "        accuracy                           0.71       380\n",
      "       macro avg       0.72      0.71      0.71       380\n",
      "    weighted avg       0.72      0.71      0.71       380\n",
      "\n",
      "Epoch 510/2000, Loss: 0.1003\n"
     ]
    },
    {
     "name": "stderr",
     "output_type": "stream",
     "text": [
      "Training Epochs:  26%|██▌       | 520/2000 [00:10<00:24, 59.88it/s]"
     ]
    },
    {
     "name": "stdout",
     "output_type": "stream",
     "text": [
      "Test Accuracy at Epoch 510: 72.89%\n",
      "Test F1-score at Epoch 510: 0.7457\n",
      "Classification Report at Epoch 510:\n",
      "                  precision    recall  f1-score   support\n",
      "\n",
      "    infringement       0.78      0.65      0.71       194\n",
      "non_infringement       0.69      0.81      0.75       186\n",
      "\n",
      "        accuracy                           0.73       380\n",
      "       macro avg       0.74      0.73      0.73       380\n",
      "    weighted avg       0.74      0.73      0.73       380\n",
      "\n",
      "Epoch 520/2000, Loss: 0.1001\n",
      "Test Accuracy at Epoch 520: 75.00%\n",
      "Test F1-score at Epoch 520: 0.7607\n",
      "Classification Report at Epoch 520:\n",
      "                  precision    recall  f1-score   support\n",
      "\n",
      "    infringement       0.79      0.69      0.74       194\n",
      "non_infringement       0.72      0.81      0.76       186\n",
      "\n",
      "        accuracy                           0.75       380\n",
      "       macro avg       0.75      0.75      0.75       380\n",
      "    weighted avg       0.76      0.75      0.75       380\n",
      "\n"
     ]
    },
    {
     "name": "stderr",
     "output_type": "stream",
     "text": [
      "Training Epochs:  27%|██▋       | 541/2000 [00:10<00:23, 61.13it/s]"
     ]
    },
    {
     "name": "stdout",
     "output_type": "stream",
     "text": [
      "Epoch 530/2000, Loss: 0.1003\n",
      "Test Accuracy at Epoch 530: 72.37%\n",
      "Test F1-score at Epoch 530: 0.7420\n",
      "Classification Report at Epoch 530:\n",
      "                  precision    recall  f1-score   support\n",
      "\n",
      "    infringement       0.78      0.64      0.70       194\n",
      "non_infringement       0.68      0.81      0.74       186\n",
      "\n",
      "        accuracy                           0.72       380\n",
      "       macro avg       0.73      0.73      0.72       380\n",
      "    weighted avg       0.73      0.72      0.72       380\n",
      "\n",
      "Epoch 540/2000, Loss: 0.0997\n",
      "Test Accuracy at Epoch 540: 73.16%\n",
      "Test F1-score at Epoch 540: 0.7475\n",
      "Classification Report at Epoch 540:\n",
      "                  precision    recall  f1-score   support\n",
      "\n",
      "    infringement       0.78      0.65      0.71       194\n",
      "non_infringement       0.69      0.81      0.75       186\n",
      "\n",
      "        accuracy                           0.73       380\n",
      "       macro avg       0.74      0.73      0.73       380\n",
      "    weighted avg       0.74      0.73      0.73       380\n",
      "\n"
     ]
    },
    {
     "name": "stderr",
     "output_type": "stream",
     "text": [
      "Training Epochs:  28%|██▊       | 556/2000 [00:10<00:24, 57.82it/s]"
     ]
    },
    {
     "name": "stdout",
     "output_type": "stream",
     "text": [
      "Epoch 550/2000, Loss: 0.0992\n",
      "Test Accuracy at Epoch 550: 73.16%\n",
      "Test F1-score at Epoch 550: 0.7475\n",
      "Classification Report at Epoch 550:\n",
      "                  precision    recall  f1-score   support\n",
      "\n",
      "    infringement       0.78      0.65      0.71       194\n",
      "non_infringement       0.69      0.81      0.75       186\n",
      "\n",
      "        accuracy                           0.73       380\n",
      "       macro avg       0.74      0.73      0.73       380\n",
      "    weighted avg       0.74      0.73      0.73       380\n",
      "\n"
     ]
    },
    {
     "name": "stderr",
     "output_type": "stream",
     "text": [
      "Training Epochs:  28%|██▊       | 570/2000 [00:10<00:23, 60.67it/s]"
     ]
    },
    {
     "name": "stdout",
     "output_type": "stream",
     "text": [
      "Epoch 560/2000, Loss: 0.0989\n",
      "Test Accuracy at Epoch 560: 73.16%\n",
      "Test F1-score at Epoch 560: 0.7475\n",
      "Classification Report at Epoch 560:\n",
      "                  precision    recall  f1-score   support\n",
      "\n",
      "    infringement       0.78      0.65      0.71       194\n",
      "non_infringement       0.69      0.81      0.75       186\n",
      "\n",
      "        accuracy                           0.73       380\n",
      "       macro avg       0.74      0.73      0.73       380\n",
      "    weighted avg       0.74      0.73      0.73       380\n",
      "\n",
      "Epoch 570/2000, Loss: 0.0991\n",
      "Test Accuracy at Epoch 570: 75.00%\n",
      "Test F1-score at Epoch 570: 0.7607\n",
      "Classification Report at Epoch 570:\n",
      "                  precision    recall  f1-score   support\n",
      "\n",
      "    infringement       0.79      0.69      0.74       194\n",
      "non_infringement       0.72      0.81      0.76       186\n",
      "\n",
      "        accuracy                           0.75       380\n",
      "       macro avg       0.75      0.75      0.75       380\n",
      "    weighted avg       0.76      0.75      0.75       380\n",
      "\n"
     ]
    },
    {
     "name": "stderr",
     "output_type": "stream",
     "text": [
      "Training Epochs:  30%|██▉       | 590/2000 [00:11<00:24, 57.05it/s]"
     ]
    },
    {
     "name": "stdout",
     "output_type": "stream",
     "text": [
      "Epoch 580/2000, Loss: 0.0989\n",
      "Test Accuracy at Epoch 580: 72.37%\n",
      "Test F1-score at Epoch 580: 0.7420\n",
      "Classification Report at Epoch 580:\n",
      "                  precision    recall  f1-score   support\n",
      "\n",
      "    infringement       0.78      0.64      0.70       194\n",
      "non_infringement       0.68      0.81      0.74       186\n",
      "\n",
      "        accuracy                           0.72       380\n",
      "       macro avg       0.73      0.73      0.72       380\n",
      "    weighted avg       0.73      0.72      0.72       380\n",
      "\n",
      "Epoch 590/2000, Loss: 0.1062\n",
      "Test Accuracy at Epoch 590: 75.00%\n",
      "Test F1-score at Epoch 590: 0.7607\n",
      "Classification Report at Epoch 590:\n",
      "                  precision    recall  f1-score   support\n",
      "\n",
      "    infringement       0.79      0.69      0.74       194\n",
      "non_infringement       0.72      0.81      0.76       186\n",
      "\n",
      "        accuracy                           0.75       380\n",
      "       macro avg       0.75      0.75      0.75       380\n",
      "    weighted avg       0.76      0.75      0.75       380\n",
      "\n"
     ]
    },
    {
     "name": "stderr",
     "output_type": "stream",
     "text": [
      "Training Epochs:  30%|███       | 610/2000 [00:11<00:23, 60.09it/s]"
     ]
    },
    {
     "name": "stdout",
     "output_type": "stream",
     "text": [
      "Epoch 600/2000, Loss: 0.1014\n",
      "Test Accuracy at Epoch 600: 75.00%\n",
      "Test F1-score at Epoch 600: 0.7607\n",
      "Classification Report at Epoch 600:\n",
      "                  precision    recall  f1-score   support\n",
      "\n",
      "    infringement       0.79      0.69      0.74       194\n",
      "non_infringement       0.72      0.81      0.76       186\n",
      "\n",
      "        accuracy                           0.75       380\n",
      "       macro avg       0.75      0.75      0.75       380\n",
      "    weighted avg       0.76      0.75      0.75       380\n",
      "\n",
      "Epoch 610/2000, Loss: 0.0991\n",
      "Test Accuracy at Epoch 610: 75.00%\n",
      "Test F1-score at Epoch 610: 0.7607\n",
      "Classification Report at Epoch 610:\n",
      "                  precision    recall  f1-score   support\n",
      "\n",
      "    infringement       0.79      0.69      0.74       194\n",
      "non_infringement       0.72      0.81      0.76       186\n",
      "\n",
      "        accuracy                           0.75       380\n",
      "       macro avg       0.75      0.75      0.75       380\n",
      "    weighted avg       0.76      0.75      0.75       380\n",
      "\n"
     ]
    },
    {
     "name": "stderr",
     "output_type": "stream",
     "text": [
      "Training Epochs:  32%|███▏      | 631/2000 [00:11<00:24, 54.90it/s]"
     ]
    },
    {
     "name": "stdout",
     "output_type": "stream",
     "text": [
      "Epoch 620/2000, Loss: 0.0982\n",
      "Test Accuracy at Epoch 620: 73.16%\n",
      "Test F1-score at Epoch 620: 0.7475\n",
      "Classification Report at Epoch 620:\n",
      "                  precision    recall  f1-score   support\n",
      "\n",
      "    infringement       0.78      0.65      0.71       194\n",
      "non_infringement       0.69      0.81      0.75       186\n",
      "\n",
      "        accuracy                           0.73       380\n",
      "       macro avg       0.74      0.73      0.73       380\n",
      "    weighted avg       0.74      0.73      0.73       380\n",
      "\n",
      "Epoch 630/2000, Loss: 0.0983\n",
      "Test Accuracy at Epoch 630: 72.89%\n",
      "Test F1-score at Epoch 630: 0.7457\n",
      "Classification Report at Epoch 630:\n",
      "                  precision    recall  f1-score   support\n",
      "\n",
      "    infringement       0.78      0.65      0.71       194\n",
      "non_infringement       0.69      0.81      0.75       186\n",
      "\n",
      "        accuracy                           0.73       380\n",
      "       macro avg       0.74      0.73      0.73       380\n",
      "    weighted avg       0.74      0.73      0.73       380\n",
      "\n"
     ]
    },
    {
     "name": "stderr",
     "output_type": "stream",
     "text": [
      "Training Epochs:  32%|███▎      | 650/2000 [00:12<00:25, 53.82it/s]"
     ]
    },
    {
     "name": "stdout",
     "output_type": "stream",
     "text": [
      "Epoch 640/2000, Loss: 0.0980\n",
      "Test Accuracy at Epoch 640: 73.16%\n",
      "Test F1-score at Epoch 640: 0.7475\n",
      "Classification Report at Epoch 640:\n",
      "                  precision    recall  f1-score   support\n",
      "\n",
      "    infringement       0.78      0.65      0.71       194\n",
      "non_infringement       0.69      0.81      0.75       186\n",
      "\n",
      "        accuracy                           0.73       380\n",
      "       macro avg       0.74      0.73      0.73       380\n",
      "    weighted avg       0.74      0.73      0.73       380\n",
      "\n",
      "Epoch 650/2000, Loss: 0.0979\n",
      "Test Accuracy at Epoch 650: 72.89%\n",
      "Test F1-score at Epoch 650: 0.7457\n",
      "Classification Report at Epoch 650:\n",
      "                  precision    recall  f1-score   support\n",
      "\n",
      "    infringement       0.78      0.65      0.71       194\n",
      "non_infringement       0.69      0.81      0.75       186\n",
      "\n",
      "        accuracy                           0.73       380\n",
      "       macro avg       0.74      0.73      0.73       380\n",
      "    weighted avg       0.74      0.73      0.73       380\n",
      "\n"
     ]
    },
    {
     "name": "stderr",
     "output_type": "stream",
     "text": [
      "Training Epochs:  33%|███▎      | 665/2000 [00:12<00:25, 53.21it/s]"
     ]
    },
    {
     "name": "stdout",
     "output_type": "stream",
     "text": [
      "Epoch 660/2000, Loss: 0.0978\n",
      "Test Accuracy at Epoch 660: 73.16%\n",
      "Test F1-score at Epoch 660: 0.7475\n",
      "Classification Report at Epoch 660:\n",
      "                  precision    recall  f1-score   support\n",
      "\n",
      "    infringement       0.78      0.65      0.71       194\n",
      "non_infringement       0.69      0.81      0.75       186\n",
      "\n",
      "        accuracy                           0.73       380\n",
      "       macro avg       0.74      0.73      0.73       380\n",
      "    weighted avg       0.74      0.73      0.73       380\n",
      "\n"
     ]
    },
    {
     "name": "stderr",
     "output_type": "stream",
     "text": [
      "Training Epochs:  34%|███▍      | 680/2000 [00:12<00:22, 59.13it/s]"
     ]
    },
    {
     "name": "stdout",
     "output_type": "stream",
     "text": [
      "Epoch 670/2000, Loss: 0.0977\n",
      "Test Accuracy at Epoch 670: 73.16%\n",
      "Test F1-score at Epoch 670: 0.7475\n",
      "Classification Report at Epoch 670:\n",
      "                  precision    recall  f1-score   support\n",
      "\n",
      "    infringement       0.78      0.65      0.71       194\n",
      "non_infringement       0.69      0.81      0.75       186\n",
      "\n",
      "        accuracy                           0.73       380\n",
      "       macro avg       0.74      0.73      0.73       380\n",
      "    weighted avg       0.74      0.73      0.73       380\n",
      "\n",
      "Epoch 680/2000, Loss: 0.1007\n",
      "Test Accuracy at Epoch 680: 74.74%\n",
      "Test F1-score at Epoch 680: 0.7576\n",
      "Classification Report at Epoch 680:\n",
      "                  precision    recall  f1-score   support\n",
      "\n",
      "    infringement       0.79      0.69      0.74       194\n",
      "non_infringement       0.71      0.81      0.76       186\n",
      "\n",
      "        accuracy                           0.75       380\n",
      "       macro avg       0.75      0.75      0.75       380\n",
      "    weighted avg       0.75      0.75      0.75       380\n",
      "\n"
     ]
    },
    {
     "name": "stderr",
     "output_type": "stream",
     "text": [
      "Training Epochs:  35%|███▌      | 700/2000 [00:13<00:23, 55.94it/s]"
     ]
    },
    {
     "name": "stdout",
     "output_type": "stream",
     "text": [
      "Epoch 690/2000, Loss: 0.0996\n",
      "Test Accuracy at Epoch 690: 70.79%\n",
      "Test F1-score at Epoch 690: 0.7312\n",
      "Classification Report at Epoch 690:\n",
      "                  precision    recall  f1-score   support\n",
      "\n",
      "    infringement       0.77      0.61      0.68       194\n",
      "non_infringement       0.67      0.81      0.73       186\n",
      "\n",
      "        accuracy                           0.71       380\n",
      "       macro avg       0.72      0.71      0.71       380\n",
      "    weighted avg       0.72      0.71      0.71       380\n",
      "\n",
      "Epoch 700/2000, Loss: 0.0999\n",
      "Test Accuracy at Epoch 700: 75.00%\n",
      "Test F1-score at Epoch 700: 0.7607\n",
      "Classification Report at Epoch 700:\n",
      "                  precision    recall  f1-score   support\n",
      "\n",
      "    infringement       0.79      0.69      0.74       194\n",
      "non_infringement       0.72      0.81      0.76       186\n",
      "\n",
      "        accuracy                           0.75       380\n",
      "       macro avg       0.75      0.75      0.75       380\n",
      "    weighted avg       0.76      0.75      0.75       380\n",
      "\n"
     ]
    },
    {
     "name": "stderr",
     "output_type": "stream",
     "text": [
      "Training Epochs:  36%|███▌      | 720/2000 [00:13<00:22, 57.88it/s]"
     ]
    },
    {
     "name": "stdout",
     "output_type": "stream",
     "text": [
      "Epoch 710/2000, Loss: 0.0987\n",
      "Test Accuracy at Epoch 710: 72.37%\n",
      "Test F1-score at Epoch 710: 0.7420\n",
      "Classification Report at Epoch 710:\n",
      "                  precision    recall  f1-score   support\n",
      "\n",
      "    infringement       0.78      0.64      0.70       194\n",
      "non_infringement       0.68      0.81      0.74       186\n",
      "\n",
      "        accuracy                           0.72       380\n",
      "       macro avg       0.73      0.73      0.72       380\n",
      "    weighted avg       0.73      0.72      0.72       380\n",
      "\n",
      "Epoch 720/2000, Loss: 0.0978\n",
      "Test Accuracy at Epoch 720: 75.00%\n",
      "Test F1-score at Epoch 720: 0.7607\n",
      "Classification Report at Epoch 720:\n",
      "                  precision    recall  f1-score   support\n",
      "\n",
      "    infringement       0.79      0.69      0.74       194\n",
      "non_infringement       0.72      0.81      0.76       186\n",
      "\n",
      "        accuracy                           0.75       380\n",
      "       macro avg       0.75      0.75      0.75       380\n",
      "    weighted avg       0.76      0.75      0.75       380\n",
      "\n"
     ]
    },
    {
     "name": "stderr",
     "output_type": "stream",
     "text": [
      "Training Epochs:  37%|███▋      | 742/2000 [00:13<00:22, 55.75it/s]"
     ]
    },
    {
     "name": "stdout",
     "output_type": "stream",
     "text": [
      "Epoch 730/2000, Loss: 0.0971\n",
      "Test Accuracy at Epoch 730: 72.89%\n",
      "Test F1-score at Epoch 730: 0.7457\n",
      "Classification Report at Epoch 730:\n",
      "                  precision    recall  f1-score   support\n",
      "\n",
      "    infringement       0.78      0.65      0.71       194\n",
      "non_infringement       0.69      0.81      0.75       186\n",
      "\n",
      "        accuracy                           0.73       380\n",
      "       macro avg       0.74      0.73      0.73       380\n",
      "    weighted avg       0.74      0.73      0.73       380\n",
      "\n",
      "Epoch 740/2000, Loss: 0.0977\n",
      "Test Accuracy at Epoch 740: 72.37%\n",
      "Test F1-score at Epoch 740: 0.7420\n",
      "Classification Report at Epoch 740:\n",
      "                  precision    recall  f1-score   support\n",
      "\n",
      "    infringement       0.78      0.64      0.70       194\n",
      "non_infringement       0.68      0.81      0.74       186\n",
      "\n",
      "        accuracy                           0.72       380\n",
      "       macro avg       0.73      0.73      0.72       380\n",
      "    weighted avg       0.73      0.72      0.72       380\n",
      "\n"
     ]
    },
    {
     "name": "stderr",
     "output_type": "stream",
     "text": [
      "Training Epochs:  38%|███▊      | 756/2000 [00:14<00:22, 54.90it/s]"
     ]
    },
    {
     "name": "stdout",
     "output_type": "stream",
     "text": [
      "Epoch 750/2000, Loss: 0.0988\n",
      "Test Accuracy at Epoch 750: 72.37%\n",
      "Test F1-score at Epoch 750: 0.7420\n",
      "Classification Report at Epoch 750:\n",
      "                  precision    recall  f1-score   support\n",
      "\n",
      "    infringement       0.78      0.64      0.70       194\n",
      "non_infringement       0.68      0.81      0.74       186\n",
      "\n",
      "        accuracy                           0.72       380\n",
      "       macro avg       0.73      0.73      0.72       380\n",
      "    weighted avg       0.73      0.72      0.72       380\n",
      "\n",
      "Epoch 760/2000, Loss: 0.0969\n"
     ]
    },
    {
     "name": "stderr",
     "output_type": "stream",
     "text": [
      "Training Epochs:  38%|███▊      | 770/2000 [00:14<00:20, 59.30it/s]"
     ]
    },
    {
     "name": "stdout",
     "output_type": "stream",
     "text": [
      "Test Accuracy at Epoch 760: 72.89%\n",
      "Test F1-score at Epoch 760: 0.7457\n",
      "Classification Report at Epoch 760:\n",
      "                  precision    recall  f1-score   support\n",
      "\n",
      "    infringement       0.78      0.65      0.71       194\n",
      "non_infringement       0.69      0.81      0.75       186\n",
      "\n",
      "        accuracy                           0.73       380\n",
      "       macro avg       0.74      0.73      0.73       380\n",
      "    weighted avg       0.74      0.73      0.73       380\n",
      "\n",
      "Epoch 770/2000, Loss: 0.0968\n",
      "Test Accuracy at Epoch 770: 73.16%\n",
      "Test F1-score at Epoch 770: 0.7475\n",
      "Classification Report at Epoch 770:\n",
      "                  precision    recall  f1-score   support\n",
      "\n",
      "    infringement       0.78      0.65      0.71       194\n",
      "non_infringement       0.69      0.81      0.75       186\n",
      "\n",
      "        accuracy                           0.73       380\n",
      "       macro avg       0.74      0.73      0.73       380\n",
      "    weighted avg       0.74      0.73      0.73       380\n",
      "\n"
     ]
    },
    {
     "name": "stderr",
     "output_type": "stream",
     "text": [
      "Training Epochs:  40%|███▉      | 791/2000 [00:14<00:20, 58.57it/s]"
     ]
    },
    {
     "name": "stdout",
     "output_type": "stream",
     "text": [
      "Epoch 780/2000, Loss: 0.1016\n",
      "Test Accuracy at Epoch 780: 74.47%\n",
      "Test F1-score at Epoch 780: 0.7519\n",
      "Classification Report at Epoch 780:\n",
      "                  precision    recall  f1-score   support\n",
      "\n",
      "    infringement       0.78      0.70      0.74       194\n",
      "non_infringement       0.72      0.79      0.75       186\n",
      "\n",
      "        accuracy                           0.74       380\n",
      "       macro avg       0.75      0.75      0.74       380\n",
      "    weighted avg       0.75      0.74      0.74       380\n",
      "\n",
      "Epoch 790/2000, Loss: 0.1060\n",
      "Test Accuracy at Epoch 790: 70.79%\n",
      "Test F1-score at Epoch 790: 0.7312\n",
      "Classification Report at Epoch 790:\n",
      "                  precision    recall  f1-score   support\n",
      "\n",
      "    infringement       0.77      0.61      0.68       194\n",
      "non_infringement       0.67      0.81      0.73       186\n",
      "\n",
      "        accuracy                           0.71       380\n",
      "       macro avg       0.72      0.71      0.71       380\n",
      "    weighted avg       0.72      0.71      0.71       380\n",
      "\n"
     ]
    },
    {
     "name": "stderr",
     "output_type": "stream",
     "text": [
      "Training Epochs:  41%|████      | 811/2000 [00:15<00:20, 56.83it/s]"
     ]
    },
    {
     "name": "stdout",
     "output_type": "stream",
     "text": [
      "Epoch 800/2000, Loss: 0.0975\n",
      "Test Accuracy at Epoch 800: 72.37%\n",
      "Test F1-score at Epoch 800: 0.7420\n",
      "Classification Report at Epoch 800:\n",
      "                  precision    recall  f1-score   support\n",
      "\n",
      "    infringement       0.78      0.64      0.70       194\n",
      "non_infringement       0.68      0.81      0.74       186\n",
      "\n",
      "        accuracy                           0.72       380\n",
      "       macro avg       0.73      0.73      0.72       380\n",
      "    weighted avg       0.73      0.72      0.72       380\n",
      "\n",
      "Epoch 810/2000, Loss: 0.0987\n",
      "Test Accuracy at Epoch 810: 73.42%\n",
      "Test F1-score at Epoch 810: 0.7494\n",
      "Classification Report at Epoch 810:\n",
      "                  precision    recall  f1-score   support\n",
      "\n",
      "    infringement       0.79      0.66      0.72       194\n",
      "non_infringement       0.70      0.81      0.75       186\n",
      "\n",
      "        accuracy                           0.73       380\n",
      "       macro avg       0.74      0.74      0.73       380\n",
      "    weighted avg       0.74      0.73      0.73       380\n",
      "\n"
     ]
    },
    {
     "name": "stderr",
     "output_type": "stream",
     "text": [
      "Training Epochs:  41%|████▏     | 826/2000 [00:15<00:20, 56.83it/s]"
     ]
    },
    {
     "name": "stdout",
     "output_type": "stream",
     "text": [
      "Epoch 820/2000, Loss: 0.0970\n",
      "Test Accuracy at Epoch 820: 75.00%\n",
      "Test F1-score at Epoch 820: 0.7607\n",
      "Classification Report at Epoch 820:\n",
      "                  precision    recall  f1-score   support\n",
      "\n",
      "    infringement       0.79      0.69      0.74       194\n",
      "non_infringement       0.72      0.81      0.76       186\n",
      "\n",
      "        accuracy                           0.75       380\n",
      "       macro avg       0.75      0.75      0.75       380\n",
      "    weighted avg       0.76      0.75      0.75       380\n",
      "\n",
      "Epoch 830/2000, Loss: 0.0968\n",
      "Test Accuracy at Epoch 830: 72.37%\n",
      "Test F1-score at Epoch 830: 0.7420\n",
      "Classification Report at Epoch 830:\n",
      "                  precision    recall  f1-score   support\n",
      "\n",
      "    infringement       0.78      0.64      0.70       194\n",
      "non_infringement       0.68      0.81      0.74       186\n",
      "\n",
      "        accuracy                           0.72       380\n",
      "       macro avg       0.73      0.73      0.72       380\n",
      "    weighted avg       0.73      0.72      0.72       380\n",
      "\n"
     ]
    },
    {
     "name": "stderr",
     "output_type": "stream",
     "text": [
      "Training Epochs:  42%|████▏     | 847/2000 [00:15<00:20, 55.22it/s]"
     ]
    },
    {
     "name": "stdout",
     "output_type": "stream",
     "text": [
      "Epoch 840/2000, Loss: 0.0965\n",
      "Test Accuracy at Epoch 840: 72.37%\n",
      "Test F1-score at Epoch 840: 0.7420\n",
      "Classification Report at Epoch 840:\n",
      "                  precision    recall  f1-score   support\n",
      "\n",
      "    infringement       0.78      0.64      0.70       194\n",
      "non_infringement       0.68      0.81      0.74       186\n",
      "\n",
      "        accuracy                           0.72       380\n",
      "       macro avg       0.73      0.73      0.72       380\n",
      "    weighted avg       0.73      0.72      0.72       380\n",
      "\n"
     ]
    },
    {
     "name": "stderr",
     "output_type": "stream",
     "text": [
      "Training Epochs:  43%|████▎     | 861/2000 [00:16<00:19, 59.29it/s]"
     ]
    },
    {
     "name": "stdout",
     "output_type": "stream",
     "text": [
      "Epoch 850/2000, Loss: 0.0964\n",
      "Test Accuracy at Epoch 850: 73.16%\n",
      "Test F1-score at Epoch 850: 0.7475\n",
      "Classification Report at Epoch 850:\n",
      "                  precision    recall  f1-score   support\n",
      "\n",
      "    infringement       0.78      0.65      0.71       194\n",
      "non_infringement       0.69      0.81      0.75       186\n",
      "\n",
      "        accuracy                           0.73       380\n",
      "       macro avg       0.74      0.73      0.73       380\n",
      "    weighted avg       0.74      0.73      0.73       380\n",
      "\n",
      "Epoch 860/2000, Loss: 0.0963\n",
      "Test Accuracy at Epoch 860: 72.37%\n",
      "Test F1-score at Epoch 860: 0.7420\n",
      "Classification Report at Epoch 860:\n",
      "                  precision    recall  f1-score   support\n",
      "\n",
      "    infringement       0.78      0.64      0.70       194\n",
      "non_infringement       0.68      0.81      0.74       186\n",
      "\n",
      "        accuracy                           0.72       380\n",
      "       macro avg       0.73      0.73      0.72       380\n",
      "    weighted avg       0.73      0.72      0.72       380\n",
      "\n"
     ]
    },
    {
     "name": "stderr",
     "output_type": "stream",
     "text": [
      "Training Epochs:  44%|████▍     | 882/2000 [00:16<00:19, 58.35it/s]"
     ]
    },
    {
     "name": "stdout",
     "output_type": "stream",
     "text": [
      "Epoch 870/2000, Loss: 0.0963\n",
      "Test Accuracy at Epoch 870: 72.89%\n",
      "Test F1-score at Epoch 870: 0.7457\n",
      "Classification Report at Epoch 870:\n",
      "                  precision    recall  f1-score   support\n",
      "\n",
      "    infringement       0.78      0.65      0.71       194\n",
      "non_infringement       0.69      0.81      0.75       186\n",
      "\n",
      "        accuracy                           0.73       380\n",
      "       macro avg       0.74      0.73      0.73       380\n",
      "    weighted avg       0.74      0.73      0.73       380\n",
      "\n",
      "Epoch 880/2000, Loss: 0.0962\n",
      "Test Accuracy at Epoch 880: 72.89%\n",
      "Test F1-score at Epoch 880: 0.7457\n",
      "Classification Report at Epoch 880:\n",
      "                  precision    recall  f1-score   support\n",
      "\n",
      "    infringement       0.78      0.65      0.71       194\n",
      "non_infringement       0.69      0.81      0.75       186\n",
      "\n",
      "        accuracy                           0.73       380\n",
      "       macro avg       0.74      0.73      0.73       380\n",
      "    weighted avg       0.74      0.73      0.73       380\n",
      "\n"
     ]
    },
    {
     "name": "stderr",
     "output_type": "stream",
     "text": [
      "Training Epochs:  45%|████▌     | 902/2000 [00:16<00:18, 58.83it/s]"
     ]
    },
    {
     "name": "stdout",
     "output_type": "stream",
     "text": [
      "Epoch 890/2000, Loss: 0.0962\n",
      "Test Accuracy at Epoch 890: 72.37%\n",
      "Test F1-score at Epoch 890: 0.7420\n",
      "Classification Report at Epoch 890:\n",
      "                  precision    recall  f1-score   support\n",
      "\n",
      "    infringement       0.78      0.64      0.70       194\n",
      "non_infringement       0.68      0.81      0.74       186\n",
      "\n",
      "        accuracy                           0.72       380\n",
      "       macro avg       0.73      0.73      0.72       380\n",
      "    weighted avg       0.73      0.72      0.72       380\n",
      "\n",
      "Epoch 900/2000, Loss: 0.1046\n",
      "Test Accuracy at Epoch 900: 70.79%\n",
      "Test F1-score at Epoch 900: 0.7312\n",
      "Classification Report at Epoch 900:\n",
      "                  precision    recall  f1-score   support\n",
      "\n",
      "    infringement       0.77      0.61      0.68       194\n",
      "non_infringement       0.67      0.81      0.73       186\n",
      "\n",
      "        accuracy                           0.71       380\n",
      "       macro avg       0.72      0.71      0.71       380\n",
      "    weighted avg       0.72      0.71      0.71       380\n",
      "\n"
     ]
    },
    {
     "name": "stderr",
     "output_type": "stream",
     "text": [
      "Training Epochs:  46%|████▌     | 918/2000 [00:17<00:18, 59.97it/s]"
     ]
    },
    {
     "name": "stdout",
     "output_type": "stream",
     "text": [
      "Epoch 910/2000, Loss: 0.1018\n",
      "Test Accuracy at Epoch 910: 75.26%\n",
      "Test F1-score at Epoch 910: 0.7626\n",
      "Classification Report at Epoch 910:\n",
      "                  precision    recall  f1-score   support\n",
      "\n",
      "    infringement       0.79      0.70      0.74       194\n",
      "non_infringement       0.72      0.81      0.76       186\n",
      "\n",
      "        accuracy                           0.75       380\n",
      "       macro avg       0.76      0.75      0.75       380\n",
      "    weighted avg       0.76      0.75      0.75       380\n",
      "\n",
      "Epoch 920/2000, Loss: 0.0966\n",
      "Test Accuracy at Epoch 920: 75.26%\n",
      "Test F1-score at Epoch 920: 0.7626\n"
     ]
    },
    {
     "name": "stderr",
     "output_type": "stream",
     "text": [
      "Training Epochs:  47%|████▋     | 932/2000 [00:17<00:17, 62.76it/s]"
     ]
    },
    {
     "name": "stdout",
     "output_type": "stream",
     "text": [
      "Classification Report at Epoch 920:\n",
      "                  precision    recall  f1-score   support\n",
      "\n",
      "    infringement       0.79      0.70      0.74       194\n",
      "non_infringement       0.72      0.81      0.76       186\n",
      "\n",
      "        accuracy                           0.75       380\n",
      "       macro avg       0.76      0.75      0.75       380\n",
      "    weighted avg       0.76      0.75      0.75       380\n",
      "\n",
      "Epoch 930/2000, Loss: 0.1000\n",
      "Test Accuracy at Epoch 930: 70.79%\n",
      "Test F1-score at Epoch 930: 0.7312\n",
      "Classification Report at Epoch 930:\n",
      "                  precision    recall  f1-score   support\n",
      "\n",
      "    infringement       0.77      0.61      0.68       194\n",
      "non_infringement       0.67      0.81      0.73       186\n",
      "\n",
      "        accuracy                           0.71       380\n",
      "       macro avg       0.72      0.71      0.71       380\n",
      "    weighted avg       0.72      0.71      0.71       380\n",
      "\n"
     ]
    },
    {
     "name": "stderr",
     "output_type": "stream",
     "text": [
      "Training Epochs:  47%|████▋     | 946/2000 [00:17<00:18, 58.02it/s]"
     ]
    },
    {
     "name": "stdout",
     "output_type": "stream",
     "text": [
      "Epoch 940/2000, Loss: 0.0960\n",
      "Test Accuracy at Epoch 940: 72.63%\n",
      "Test F1-score at Epoch 940: 0.7438\n",
      "Classification Report at Epoch 940:\n",
      "                  precision    recall  f1-score   support\n",
      "\n",
      "    infringement       0.78      0.64      0.71       194\n",
      "non_infringement       0.69      0.81      0.74       186\n",
      "\n",
      "        accuracy                           0.73       380\n",
      "       macro avg       0.73      0.73      0.73       380\n",
      "    weighted avg       0.73      0.73      0.72       380\n",
      "\n",
      "Epoch 950/2000, Loss: 0.0964\n",
      "Test Accuracy at Epoch 950: 73.42%\n",
      "Test F1-score at Epoch 950: 0.7494\n",
      "Classification Report at Epoch 950:\n",
      "                  precision    recall  f1-score   support\n",
      "\n",
      "    infringement       0.79      0.66      0.72       194\n",
      "non_infringement       0.70      0.81      0.75       186\n",
      "\n",
      "        accuracy                           0.73       380\n",
      "       macro avg       0.74      0.74      0.73       380\n",
      "    weighted avg       0.74      0.73      0.73       380\n",
      "\n"
     ]
    },
    {
     "name": "stderr",
     "output_type": "stream",
     "text": [
      "Training Epochs:  48%|████▊     | 968/2000 [00:17<00:17, 60.12it/s]"
     ]
    },
    {
     "name": "stdout",
     "output_type": "stream",
     "text": [
      "Epoch 960/2000, Loss: 0.0961\n",
      "Test Accuracy at Epoch 960: 72.63%\n",
      "Test F1-score at Epoch 960: 0.7438\n",
      "Classification Report at Epoch 960:\n",
      "                  precision    recall  f1-score   support\n",
      "\n",
      "    infringement       0.78      0.64      0.71       194\n",
      "non_infringement       0.69      0.81      0.74       186\n",
      "\n",
      "        accuracy                           0.73       380\n",
      "       macro avg       0.73      0.73      0.73       380\n",
      "    weighted avg       0.73      0.73      0.72       380\n",
      "\n",
      "Epoch 970/2000, Loss: 0.0959\n",
      "Test Accuracy at Epoch 970: 73.42%\n",
      "Test F1-score at Epoch 970: 0.7494\n",
      "Classification Report at Epoch 970:\n",
      "                  precision    recall  f1-score   support\n",
      "\n",
      "    infringement       0.79      0.66      0.72       194\n",
      "non_infringement       0.70      0.81      0.75       186\n",
      "\n",
      "        accuracy                           0.73       380\n",
      "       macro avg       0.74      0.74      0.73       380\n",
      "    weighted avg       0.74      0.73      0.73       380\n",
      "\n"
     ]
    },
    {
     "name": "stderr",
     "output_type": "stream",
     "text": [
      "Training Epochs:  49%|████▉     | 988/2000 [00:18<00:17, 56.28it/s]"
     ]
    },
    {
     "name": "stdout",
     "output_type": "stream",
     "text": [
      "Epoch 980/2000, Loss: 0.0958\n",
      "Test Accuracy at Epoch 980: 72.63%\n",
      "Test F1-score at Epoch 980: 0.7438\n",
      "Classification Report at Epoch 980:\n",
      "                  precision    recall  f1-score   support\n",
      "\n",
      "    infringement       0.78      0.64      0.71       194\n",
      "non_infringement       0.69      0.81      0.74       186\n",
      "\n",
      "        accuracy                           0.73       380\n",
      "       macro avg       0.73      0.73      0.73       380\n",
      "    weighted avg       0.73      0.73      0.72       380\n",
      "\n"
     ]
    },
    {
     "name": "stderr",
     "output_type": "stream",
     "text": [
      "Training Epochs:  50%|█████     | 1001/2000 [00:18<00:16, 59.09it/s]"
     ]
    },
    {
     "name": "stdout",
     "output_type": "stream",
     "text": [
      "Epoch 990/2000, Loss: 0.0957\n",
      "Test Accuracy at Epoch 990: 72.63%\n",
      "Test F1-score at Epoch 990: 0.7438\n",
      "Classification Report at Epoch 990:\n",
      "                  precision    recall  f1-score   support\n",
      "\n",
      "    infringement       0.78      0.64      0.71       194\n",
      "non_infringement       0.69      0.81      0.74       186\n",
      "\n",
      "        accuracy                           0.73       380\n",
      "       macro avg       0.73      0.73      0.73       380\n",
      "    weighted avg       0.73      0.73      0.72       380\n",
      "\n",
      "Epoch 1000/2000, Loss: 0.0959\n",
      "Test Accuracy at Epoch 1000: 72.63%\n",
      "Test F1-score at Epoch 1000: 0.7438\n",
      "Classification Report at Epoch 1000:\n",
      "                  precision    recall  f1-score   support\n",
      "\n",
      "    infringement       0.78      0.64      0.71       194\n",
      "non_infringement       0.69      0.81      0.74       186\n",
      "\n",
      "        accuracy                           0.73       380\n",
      "       macro avg       0.73      0.73      0.73       380\n",
      "    weighted avg       0.73      0.73      0.72       380\n",
      "\n"
     ]
    },
    {
     "name": "stderr",
     "output_type": "stream",
     "text": [
      "Training Epochs:  51%|█████     | 1022/2000 [00:18<00:16, 59.31it/s]"
     ]
    },
    {
     "name": "stdout",
     "output_type": "stream",
     "text": [
      "Epoch 1010/2000, Loss: 0.0999\n",
      "Test Accuracy at Epoch 1010: 71.05%\n",
      "Test F1-score at Epoch 1010: 0.7330\n",
      "Classification Report at Epoch 1010:\n",
      "                  precision    recall  f1-score   support\n",
      "\n",
      "    infringement       0.77      0.61      0.68       194\n",
      "non_infringement       0.67      0.81      0.73       186\n",
      "\n",
      "        accuracy                           0.71       380\n",
      "       macro avg       0.72      0.71      0.71       380\n",
      "    weighted avg       0.72      0.71      0.71       380\n",
      "\n",
      "Epoch 1020/2000, Loss: 0.0989\n",
      "Test Accuracy at Epoch 1020: 75.00%\n",
      "Test F1-score at Epoch 1020: 0.7595\n",
      "Classification Report at Epoch 1020:\n",
      "                  precision    recall  f1-score   support\n",
      "\n",
      "    infringement       0.79      0.70      0.74       194\n",
      "non_infringement       0.72      0.81      0.76       186\n",
      "\n",
      "        accuracy                           0.75       380\n",
      "       macro avg       0.75      0.75      0.75       380\n",
      "    weighted avg       0.75      0.75      0.75       380\n",
      "\n"
     ]
    },
    {
     "name": "stderr",
     "output_type": "stream",
     "text": [
      "Training Epochs:  52%|█████▏    | 1043/2000 [00:19<00:15, 60.34it/s]"
     ]
    },
    {
     "name": "stdout",
     "output_type": "stream",
     "text": [
      "Epoch 1030/2000, Loss: 0.0980\n",
      "Test Accuracy at Epoch 1030: 71.05%\n",
      "Test F1-score at Epoch 1030: 0.7330\n",
      "Classification Report at Epoch 1030:\n",
      "                  precision    recall  f1-score   support\n",
      "\n",
      "    infringement       0.77      0.61      0.68       194\n",
      "non_infringement       0.67      0.81      0.73       186\n",
      "\n",
      "        accuracy                           0.71       380\n",
      "       macro avg       0.72      0.71      0.71       380\n",
      "    weighted avg       0.72      0.71      0.71       380\n",
      "\n",
      "Epoch 1040/2000, Loss: 0.0986\n",
      "Test Accuracy at Epoch 1040: 75.00%\n",
      "Test F1-score at Epoch 1040: 0.7595\n",
      "Classification Report at Epoch 1040:\n",
      "                  precision    recall  f1-score   support\n",
      "\n",
      "    infringement       0.79      0.70      0.74       194\n",
      "non_infringement       0.72      0.81      0.76       186\n",
      "\n",
      "        accuracy                           0.75       380\n",
      "       macro avg       0.75      0.75      0.75       380\n",
      "    weighted avg       0.75      0.75      0.75       380\n",
      "\n"
     ]
    },
    {
     "name": "stderr",
     "output_type": "stream",
     "text": [
      "Training Epochs:  53%|█████▎    | 1058/2000 [00:19<00:15, 59.65it/s]"
     ]
    },
    {
     "name": "stdout",
     "output_type": "stream",
     "text": [
      "Epoch 1050/2000, Loss: 0.0984\n",
      "Test Accuracy at Epoch 1050: 71.05%\n",
      "Test F1-score at Epoch 1050: 0.7330\n",
      "Classification Report at Epoch 1050:\n",
      "                  precision    recall  f1-score   support\n",
      "\n",
      "    infringement       0.77      0.61      0.68       194\n",
      "non_infringement       0.67      0.81      0.73       186\n",
      "\n",
      "        accuracy                           0.71       380\n",
      "       macro avg       0.72      0.71      0.71       380\n",
      "    weighted avg       0.72      0.71      0.71       380\n",
      "\n",
      "Epoch 1060/2000, Loss: 0.0964\n",
      "Test Accuracy at Epoch 1060: 73.42%\n",
      "Test F1-score at Epoch 1060: 0.7494\n",
      "Classification Report at Epoch 1060:\n",
      "                  precision    recall  f1-score   support\n",
      "\n",
      "    infringement       0.79      0.66      0.72       194\n",
      "non_infringement       0.70      0.81      0.75       186\n",
      "\n",
      "        accuracy                           0.73       380\n",
      "       macro avg       0.74      0.74      0.73       380\n",
      "    weighted avg       0.74      0.73      0.73       380\n",
      "\n"
     ]
    },
    {
     "name": "stderr",
     "output_type": "stream",
     "text": [
      "Training Epochs:  54%|█████▍    | 1079/2000 [00:19<00:16, 56.27it/s]"
     ]
    },
    {
     "name": "stdout",
     "output_type": "stream",
     "text": [
      "Epoch 1070/2000, Loss: 0.0955\n",
      "Test Accuracy at Epoch 1070: 72.89%\n",
      "Test F1-score at Epoch 1070: 0.7457\n",
      "Classification Report at Epoch 1070:\n",
      "                  precision    recall  f1-score   support\n",
      "\n",
      "    infringement       0.78      0.65      0.71       194\n",
      "non_infringement       0.69      0.81      0.75       186\n",
      "\n",
      "        accuracy                           0.73       380\n",
      "       macro avg       0.74      0.73      0.73       380\n",
      "    weighted avg       0.74      0.73      0.73       380\n",
      "\n"
     ]
    },
    {
     "name": "stderr",
     "output_type": "stream",
     "text": [
      "Training Epochs:  55%|█████▍    | 1093/2000 [00:20<00:14, 62.10it/s]"
     ]
    },
    {
     "name": "stdout",
     "output_type": "stream",
     "text": [
      "Epoch 1080/2000, Loss: 0.0954\n",
      "Test Accuracy at Epoch 1080: 73.16%\n",
      "Test F1-score at Epoch 1080: 0.7475\n",
      "Classification Report at Epoch 1080:\n",
      "                  precision    recall  f1-score   support\n",
      "\n",
      "    infringement       0.78      0.65      0.71       194\n",
      "non_infringement       0.69      0.81      0.75       186\n",
      "\n",
      "        accuracy                           0.73       380\n",
      "       macro avg       0.74      0.73      0.73       380\n",
      "    weighted avg       0.74      0.73      0.73       380\n",
      "\n",
      "Epoch 1090/2000, Loss: 0.0953\n",
      "Test Accuracy at Epoch 1090: 73.16%\n",
      "Test F1-score at Epoch 1090: 0.7475\n",
      "Classification Report at Epoch 1090:\n",
      "                  precision    recall  f1-score   support\n",
      "\n",
      "    infringement       0.78      0.65      0.71       194\n",
      "non_infringement       0.69      0.81      0.75       186\n",
      "\n",
      "        accuracy                           0.73       380\n",
      "       macro avg       0.74      0.73      0.73       380\n",
      "    weighted avg       0.74      0.73      0.73       380\n",
      "\n"
     ]
    },
    {
     "name": "stderr",
     "output_type": "stream",
     "text": [
      "Training Epochs:  55%|█████▌    | 1109/2000 [00:20<00:14, 62.17it/s]"
     ]
    },
    {
     "name": "stdout",
     "output_type": "stream",
     "text": [
      "Epoch 1100/2000, Loss: 0.0953\n",
      "Test Accuracy at Epoch 1100: 73.42%\n",
      "Test F1-score at Epoch 1100: 0.7494\n",
      "Classification Report at Epoch 1100:\n",
      "                  precision    recall  f1-score   support\n",
      "\n",
      "    infringement       0.79      0.66      0.72       194\n",
      "non_infringement       0.70      0.81      0.75       186\n",
      "\n",
      "        accuracy                           0.73       380\n",
      "       macro avg       0.74      0.74      0.73       380\n",
      "    weighted avg       0.74      0.73      0.73       380\n",
      "\n",
      "Epoch 1110/2000, Loss: 0.0956\n",
      "Test Accuracy at Epoch 1110: 75.26%\n",
      "Test F1-score at Epoch 1110: 0.7626\n",
      "Classification Report at Epoch 1110:\n",
      "                  precision    recall  f1-score   support\n",
      "\n",
      "    infringement       0.79      0.70      0.74       194\n",
      "non_infringement       0.72      0.81      0.76       186\n",
      "\n",
      "        accuracy                           0.75       380\n",
      "       macro avg       0.76      0.75      0.75       380\n",
      "    weighted avg       0.76      0.75      0.75       380\n",
      "\n"
     ]
    },
    {
     "name": "stderr",
     "output_type": "stream",
     "text": [
      "Training Epochs:  56%|█████▌    | 1124/2000 [00:20<00:15, 57.50it/s]"
     ]
    },
    {
     "name": "stdout",
     "output_type": "stream",
     "text": [
      "Epoch 1120/2000, Loss: 0.0978\n",
      "Test Accuracy at Epoch 1120: 73.42%\n",
      "Test F1-score at Epoch 1120: 0.7494\n",
      "Classification Report at Epoch 1120:\n",
      "                  precision    recall  f1-score   support\n",
      "\n",
      "    infringement       0.79      0.66      0.72       194\n",
      "non_infringement       0.70      0.81      0.75       186\n",
      "\n",
      "        accuracy                           0.73       380\n",
      "       macro avg       0.74      0.74      0.73       380\n",
      "    weighted avg       0.74      0.73      0.73       380\n",
      "\n"
     ]
    },
    {
     "name": "stderr",
     "output_type": "stream",
     "text": [
      "Training Epochs:  57%|█████▋    | 1138/2000 [00:20<00:14, 61.00it/s]"
     ]
    },
    {
     "name": "stdout",
     "output_type": "stream",
     "text": [
      "Epoch 1130/2000, Loss: 0.0959\n",
      "Test Accuracy at Epoch 1130: 73.16%\n",
      "Test F1-score at Epoch 1130: 0.7475\n",
      "Classification Report at Epoch 1130:\n",
      "                  precision    recall  f1-score   support\n",
      "\n",
      "    infringement       0.78      0.65      0.71       194\n",
      "non_infringement       0.69      0.81      0.75       186\n",
      "\n",
      "        accuracy                           0.73       380\n",
      "       macro avg       0.74      0.73      0.73       380\n",
      "    weighted avg       0.74      0.73      0.73       380\n",
      "\n",
      "Epoch 1140/2000, Loss: 0.0975\n",
      "Test Accuracy at Epoch 1140: 71.05%\n",
      "Test F1-score at Epoch 1140: 0.7330\n",
      "Classification Report at Epoch 1140:\n",
      "                  precision    recall  f1-score   support\n",
      "\n",
      "    infringement       0.77      0.61      0.68       194\n",
      "non_infringement       0.67      0.81      0.73       186\n",
      "\n",
      "        accuracy                           0.71       380\n",
      "       macro avg       0.72      0.71      0.71       380\n",
      "    weighted avg       0.72      0.71      0.71       380\n",
      "\n"
     ]
    },
    {
     "name": "stderr",
     "output_type": "stream",
     "text": [
      "Training Epochs:  58%|█████▊    | 1159/2000 [00:21<00:14, 59.11it/s]"
     ]
    },
    {
     "name": "stdout",
     "output_type": "stream",
     "text": [
      "Epoch 1150/2000, Loss: 0.0963\n",
      "Test Accuracy at Epoch 1150: 73.42%\n",
      "Test F1-score at Epoch 1150: 0.7494\n",
      "Classification Report at Epoch 1150:\n",
      "                  precision    recall  f1-score   support\n",
      "\n",
      "    infringement       0.79      0.66      0.72       194\n",
      "non_infringement       0.70      0.81      0.75       186\n",
      "\n",
      "        accuracy                           0.73       380\n",
      "       macro avg       0.74      0.74      0.73       380\n",
      "    weighted avg       0.74      0.73      0.73       380\n",
      "\n",
      "Epoch 1160/2000, Loss: 0.0953\n",
      "Test Accuracy at Epoch 1160: 73.16%\n",
      "Test F1-score at Epoch 1160: 0.7475\n",
      "Classification Report at Epoch 1160:\n",
      "                  precision    recall  f1-score   support\n",
      "\n",
      "    infringement       0.78      0.65      0.71       194\n",
      "non_infringement       0.69      0.81      0.75       186\n",
      "\n",
      "        accuracy                           0.73       380\n",
      "       macro avg       0.74      0.73      0.73       380\n",
      "    weighted avg       0.74      0.73      0.73       380\n",
      "\n"
     ]
    },
    {
     "name": "stderr",
     "output_type": "stream",
     "text": [
      "Training Epochs:  59%|█████▉    | 1180/2000 [00:21<00:14, 57.43it/s]"
     ]
    },
    {
     "name": "stdout",
     "output_type": "stream",
     "text": [
      "Epoch 1170/2000, Loss: 0.0952\n",
      "Test Accuracy at Epoch 1170: 73.42%\n",
      "Test F1-score at Epoch 1170: 0.7494\n",
      "Classification Report at Epoch 1170:\n",
      "                  precision    recall  f1-score   support\n",
      "\n",
      "    infringement       0.79      0.66      0.72       194\n",
      "non_infringement       0.70      0.81      0.75       186\n",
      "\n",
      "        accuracy                           0.73       380\n",
      "       macro avg       0.74      0.74      0.73       380\n",
      "    weighted avg       0.74      0.73      0.73       380\n",
      "\n",
      "Epoch 1180/2000, Loss: 0.0953\n",
      "Test Accuracy at Epoch 1180: 72.63%\n",
      "Test F1-score at Epoch 1180: 0.7438\n",
      "Classification Report at Epoch 1180:\n",
      "                  precision    recall  f1-score   support\n",
      "\n",
      "    infringement       0.78      0.64      0.71       194\n",
      "non_infringement       0.69      0.81      0.74       186\n",
      "\n",
      "        accuracy                           0.73       380\n",
      "       macro avg       0.73      0.73      0.73       380\n",
      "    weighted avg       0.73      0.73      0.72       380\n",
      "\n"
     ]
    },
    {
     "name": "stderr",
     "output_type": "stream",
     "text": [
      "Training Epochs:  60%|██████    | 1201/2000 [00:21<00:14, 54.71it/s]"
     ]
    },
    {
     "name": "stdout",
     "output_type": "stream",
     "text": [
      "Epoch 1190/2000, Loss: 0.0953\n",
      "Test Accuracy at Epoch 1190: 73.42%\n",
      "Test F1-score at Epoch 1190: 0.7494\n",
      "Classification Report at Epoch 1190:\n",
      "                  precision    recall  f1-score   support\n",
      "\n",
      "    infringement       0.79      0.66      0.72       194\n",
      "non_infringement       0.70      0.81      0.75       186\n",
      "\n",
      "        accuracy                           0.73       380\n",
      "       macro avg       0.74      0.74      0.73       380\n",
      "    weighted avg       0.74      0.73      0.73       380\n",
      "\n",
      "Epoch 1200/2000, Loss: 0.0953\n",
      "Test Accuracy at Epoch 1200: 73.42%\n",
      "Test F1-score at Epoch 1200: 0.7494\n",
      "Classification Report at Epoch 1200:\n",
      "                  precision    recall  f1-score   support\n",
      "\n",
      "    infringement       0.79      0.66      0.72       194\n",
      "non_infringement       0.70      0.81      0.75       186\n",
      "\n",
      "        accuracy                           0.73       380\n",
      "       macro avg       0.74      0.74      0.73       380\n",
      "    weighted avg       0.74      0.73      0.73       380\n",
      "\n"
     ]
    },
    {
     "name": "stderr",
     "output_type": "stream",
     "text": [
      "Training Epochs:  61%|██████    | 1222/2000 [00:22<00:13, 56.28it/s]"
     ]
    },
    {
     "name": "stdout",
     "output_type": "stream",
     "text": [
      "Epoch 1210/2000, Loss: 0.0959\n",
      "Test Accuracy at Epoch 1210: 75.26%\n",
      "Test F1-score at Epoch 1210: 0.7626\n",
      "Classification Report at Epoch 1210:\n",
      "                  precision    recall  f1-score   support\n",
      "\n",
      "    infringement       0.79      0.70      0.74       194\n",
      "non_infringement       0.72      0.81      0.76       186\n",
      "\n",
      "        accuracy                           0.75       380\n",
      "       macro avg       0.76      0.75      0.75       380\n",
      "    weighted avg       0.76      0.75      0.75       380\n",
      "\n",
      "Epoch 1220/2000, Loss: 0.0961\n",
      "Test Accuracy at Epoch 1220: 75.26%\n",
      "Test F1-score at Epoch 1220: 0.7626\n",
      "Classification Report at Epoch 1220:\n",
      "                  precision    recall  f1-score   support\n",
      "\n",
      "    infringement       0.79      0.70      0.74       194\n",
      "non_infringement       0.72      0.81      0.76       186\n",
      "\n",
      "        accuracy                           0.75       380\n",
      "       macro avg       0.76      0.75      0.75       380\n",
      "    weighted avg       0.76      0.75      0.75       380\n",
      "\n"
     ]
    },
    {
     "name": "stderr",
     "output_type": "stream",
     "text": [
      "Training Epochs:  62%|██████▏   | 1237/2000 [00:22<00:13, 54.57it/s]"
     ]
    },
    {
     "name": "stdout",
     "output_type": "stream",
     "text": [
      "Epoch 1230/2000, Loss: 0.0964\n",
      "Test Accuracy at Epoch 1230: 71.05%\n",
      "Test F1-score at Epoch 1230: 0.7330\n",
      "Classification Report at Epoch 1230:\n",
      "                  precision    recall  f1-score   support\n",
      "\n",
      "    infringement       0.77      0.61      0.68       194\n",
      "non_infringement       0.67      0.81      0.73       186\n",
      "\n",
      "        accuracy                           0.71       380\n",
      "       macro avg       0.72      0.71      0.71       380\n",
      "    weighted avg       0.72      0.71      0.71       380\n",
      "\n"
     ]
    },
    {
     "name": "stderr",
     "output_type": "stream",
     "text": [
      "Training Epochs:  63%|██████▎   | 1251/2000 [00:22<00:12, 59.87it/s]"
     ]
    },
    {
     "name": "stdout",
     "output_type": "stream",
     "text": [
      "Epoch 1240/2000, Loss: 0.0953\n",
      "Test Accuracy at Epoch 1240: 75.00%\n",
      "Test F1-score at Epoch 1240: 0.7595\n",
      "Classification Report at Epoch 1240:\n",
      "                  precision    recall  f1-score   support\n",
      "\n",
      "    infringement       0.79      0.70      0.74       194\n",
      "non_infringement       0.72      0.81      0.76       186\n",
      "\n",
      "        accuracy                           0.75       380\n",
      "       macro avg       0.75      0.75      0.75       380\n",
      "    weighted avg       0.75      0.75      0.75       380\n",
      "\n",
      "Epoch 1250/2000, Loss: 0.0960\n",
      "Test Accuracy at Epoch 1250: 72.11%\n",
      "Test F1-score at Epoch 1250: 0.7402\n",
      "Classification Report at Epoch 1250:\n",
      "                  precision    recall  f1-score   support\n",
      "\n",
      "    infringement       0.78      0.63      0.70       194\n",
      "non_infringement       0.68      0.81      0.74       186\n",
      "\n",
      "        accuracy                           0.72       380\n",
      "       macro avg       0.73      0.72      0.72       380\n",
      "    weighted avg       0.73      0.72      0.72       380\n",
      "\n"
     ]
    },
    {
     "name": "stderr",
     "output_type": "stream",
     "text": [
      "Training Epochs:  64%|██████▎   | 1272/2000 [00:23<00:11, 61.04it/s]"
     ]
    },
    {
     "name": "stdout",
     "output_type": "stream",
     "text": [
      "Epoch 1260/2000, Loss: 0.0962\n",
      "Test Accuracy at Epoch 1260: 72.63%\n",
      "Test F1-score at Epoch 1260: 0.7438\n",
      "Classification Report at Epoch 1260:\n",
      "                  precision    recall  f1-score   support\n",
      "\n",
      "    infringement       0.78      0.64      0.71       194\n",
      "non_infringement       0.69      0.81      0.74       186\n",
      "\n",
      "        accuracy                           0.73       380\n",
      "       macro avg       0.73      0.73      0.73       380\n",
      "    weighted avg       0.73      0.73      0.72       380\n",
      "\n",
      "Epoch 1270/2000, Loss: 0.0986\n",
      "Test Accuracy at Epoch 1270: 72.63%\n",
      "Test F1-score at Epoch 1270: 0.7438\n",
      "Classification Report at Epoch 1270:\n",
      "                  precision    recall  f1-score   support\n",
      "\n",
      "    infringement       0.78      0.64      0.71       194\n",
      "non_infringement       0.69      0.81      0.74       186\n",
      "\n",
      "        accuracy                           0.73       380\n",
      "       macro avg       0.73      0.73      0.73       380\n",
      "    weighted avg       0.73      0.73      0.72       380\n",
      "\n"
     ]
    },
    {
     "name": "stderr",
     "output_type": "stream",
     "text": [
      "Training Epochs:  64%|██████▍   | 1287/2000 [00:23<00:11, 59.62it/s]"
     ]
    },
    {
     "name": "stdout",
     "output_type": "stream",
     "text": [
      "Epoch 1280/2000, Loss: 0.0956\n",
      "Test Accuracy at Epoch 1280: 73.68%\n",
      "Test F1-score at Epoch 1280: 0.7512\n",
      "Classification Report at Epoch 1280:\n",
      "                  precision    recall  f1-score   support\n",
      "\n",
      "    infringement       0.79      0.66      0.72       194\n",
      "non_infringement       0.70      0.81      0.75       186\n",
      "\n",
      "        accuracy                           0.74       380\n",
      "       macro avg       0.74      0.74      0.74       380\n",
      "    weighted avg       0.74      0.74      0.74       380\n",
      "\n",
      "Epoch 1290/2000, Loss: 0.0954\n",
      "Test Accuracy at Epoch 1290: 75.26%\n",
      "Test F1-score at Epoch 1290: 0.7626\n"
     ]
    },
    {
     "name": "stderr",
     "output_type": "stream",
     "text": [
      "Training Epochs:  65%|██████▌   | 1301/2000 [00:23<00:11, 60.98it/s]"
     ]
    },
    {
     "name": "stdout",
     "output_type": "stream",
     "text": [
      "Classification Report at Epoch 1290:\n",
      "                  precision    recall  f1-score   support\n",
      "\n",
      "    infringement       0.79      0.70      0.74       194\n",
      "non_infringement       0.72      0.81      0.76       186\n",
      "\n",
      "        accuracy                           0.75       380\n",
      "       macro avg       0.76      0.75      0.75       380\n",
      "    weighted avg       0.76      0.75      0.75       380\n",
      "\n",
      "Epoch 1300/2000, Loss: 0.0948\n",
      "Test Accuracy at Epoch 1300: 72.63%\n",
      "Test F1-score at Epoch 1300: 0.7438\n",
      "Classification Report at Epoch 1300:\n",
      "                  precision    recall  f1-score   support\n",
      "\n",
      "    infringement       0.78      0.64      0.71       194\n",
      "non_infringement       0.69      0.81      0.74       186\n",
      "\n",
      "        accuracy                           0.73       380\n",
      "       macro avg       0.73      0.73      0.73       380\n",
      "    weighted avg       0.73      0.73      0.72       380\n",
      "\n"
     ]
    },
    {
     "name": "stderr",
     "output_type": "stream",
     "text": [
      "Training Epochs:  66%|██████▌   | 1322/2000 [00:24<00:11, 60.93it/s]"
     ]
    },
    {
     "name": "stdout",
     "output_type": "stream",
     "text": [
      "Epoch 1310/2000, Loss: 0.0948\n",
      "Test Accuracy at Epoch 1310: 73.42%\n",
      "Test F1-score at Epoch 1310: 0.7494\n",
      "Classification Report at Epoch 1310:\n",
      "                  precision    recall  f1-score   support\n",
      "\n",
      "    infringement       0.79      0.66      0.72       194\n",
      "non_infringement       0.70      0.81      0.75       186\n",
      "\n",
      "        accuracy                           0.73       380\n",
      "       macro avg       0.74      0.74      0.73       380\n",
      "    weighted avg       0.74      0.73      0.73       380\n",
      "\n",
      "Epoch 1320/2000, Loss: 0.0947\n",
      "Test Accuracy at Epoch 1320: 73.16%\n",
      "Test F1-score at Epoch 1320: 0.7475\n",
      "Classification Report at Epoch 1320:\n",
      "                  precision    recall  f1-score   support\n",
      "\n",
      "    infringement       0.78      0.65      0.71       194\n",
      "non_infringement       0.69      0.81      0.75       186\n",
      "\n",
      "        accuracy                           0.73       380\n",
      "       macro avg       0.74      0.73      0.73       380\n",
      "    weighted avg       0.74      0.73      0.73       380\n",
      "\n"
     ]
    },
    {
     "name": "stderr",
     "output_type": "stream",
     "text": [
      "Training Epochs:  67%|██████▋   | 1336/2000 [00:24<00:11, 58.78it/s]"
     ]
    },
    {
     "name": "stdout",
     "output_type": "stream",
     "text": [
      "Epoch 1330/2000, Loss: 0.0947\n",
      "Test Accuracy at Epoch 1330: 73.42%\n",
      "Test F1-score at Epoch 1330: 0.7494\n",
      "Classification Report at Epoch 1330:\n",
      "                  precision    recall  f1-score   support\n",
      "\n",
      "    infringement       0.79      0.66      0.72       194\n",
      "non_infringement       0.70      0.81      0.75       186\n",
      "\n",
      "        accuracy                           0.73       380\n",
      "       macro avg       0.74      0.74      0.73       380\n",
      "    weighted avg       0.74      0.73      0.73       380\n",
      "\n",
      "Epoch 1340/2000, Loss: 0.0947\n",
      "Test Accuracy at Epoch 1340: 73.16%\n",
      "Test F1-score at Epoch 1340: 0.7475\n",
      "Classification Report at Epoch 1340:\n",
      "                  precision    recall  f1-score   support\n",
      "\n",
      "    infringement       0.78      0.65      0.71       194\n",
      "non_infringement       0.69      0.81      0.75       186\n",
      "\n",
      "        accuracy                           0.73       380\n",
      "       macro avg       0.74      0.73      0.73       380\n",
      "    weighted avg       0.74      0.73      0.73       380\n",
      "\n"
     ]
    },
    {
     "name": "stderr",
     "output_type": "stream",
     "text": [
      "Training Epochs:  68%|██████▊   | 1357/2000 [00:24<00:11, 56.93it/s]"
     ]
    },
    {
     "name": "stdout",
     "output_type": "stream",
     "text": [
      "Epoch 1350/2000, Loss: 0.0947\n",
      "Test Accuracy at Epoch 1350: 73.42%\n",
      "Test F1-score at Epoch 1350: 0.7494\n",
      "Classification Report at Epoch 1350:\n",
      "                  precision    recall  f1-score   support\n",
      "\n",
      "    infringement       0.79      0.66      0.72       194\n",
      "non_infringement       0.70      0.81      0.75       186\n",
      "\n",
      "        accuracy                           0.73       380\n",
      "       macro avg       0.74      0.74      0.73       380\n",
      "    weighted avg       0.74      0.73      0.73       380\n",
      "\n",
      "Epoch 1360/2000, Loss: 0.0947\n"
     ]
    },
    {
     "name": "stderr",
     "output_type": "stream",
     "text": [
      "Training Epochs:  69%|██████▊   | 1371/2000 [00:24<00:10, 60.07it/s]"
     ]
    },
    {
     "name": "stdout",
     "output_type": "stream",
     "text": [
      "Test Accuracy at Epoch 1360: 73.42%\n",
      "Test F1-score at Epoch 1360: 0.7494\n",
      "Classification Report at Epoch 1360:\n",
      "                  precision    recall  f1-score   support\n",
      "\n",
      "    infringement       0.79      0.66      0.72       194\n",
      "non_infringement       0.70      0.81      0.75       186\n",
      "\n",
      "        accuracy                           0.73       380\n",
      "       macro avg       0.74      0.74      0.73       380\n",
      "    weighted avg       0.74      0.73      0.73       380\n",
      "\n",
      "Epoch 1370/2000, Loss: 0.1010\n",
      "Test Accuracy at Epoch 1370: 75.26%\n",
      "Test F1-score at Epoch 1370: 0.7614\n",
      "Classification Report at Epoch 1370:\n",
      "                  precision    recall  f1-score   support\n",
      "\n",
      "    infringement       0.79      0.70      0.74       194\n",
      "non_infringement       0.72      0.81      0.76       186\n",
      "\n",
      "        accuracy                           0.75       380\n",
      "       macro avg       0.76      0.75      0.75       380\n",
      "    weighted avg       0.76      0.75      0.75       380\n",
      "\n"
     ]
    },
    {
     "name": "stderr",
     "output_type": "stream",
     "text": [
      "Training Epochs:  70%|██████▉   | 1392/2000 [00:25<00:10, 57.72it/s]"
     ]
    },
    {
     "name": "stdout",
     "output_type": "stream",
     "text": [
      "Epoch 1380/2000, Loss: 0.1002\n",
      "Test Accuracy at Epoch 1380: 71.05%\n",
      "Test F1-score at Epoch 1380: 0.7330\n",
      "Classification Report at Epoch 1380:\n",
      "                  precision    recall  f1-score   support\n",
      "\n",
      "    infringement       0.77      0.61      0.68       194\n",
      "non_infringement       0.67      0.81      0.73       186\n",
      "\n",
      "        accuracy                           0.71       380\n",
      "       macro avg       0.72      0.71      0.71       380\n",
      "    weighted avg       0.72      0.71      0.71       380\n",
      "\n",
      "Epoch 1390/2000, Loss: 0.0978\n",
      "Test Accuracy at Epoch 1390: 75.00%\n",
      "Test F1-score at Epoch 1390: 0.7595\n",
      "Classification Report at Epoch 1390:\n",
      "                  precision    recall  f1-score   support\n",
      "\n",
      "    infringement       0.79      0.70      0.74       194\n",
      "non_infringement       0.72      0.81      0.76       186\n",
      "\n",
      "        accuracy                           0.75       380\n",
      "       macro avg       0.75      0.75      0.75       380\n",
      "    weighted avg       0.75      0.75      0.75       380\n",
      "\n"
     ]
    },
    {
     "name": "stderr",
     "output_type": "stream",
     "text": [
      "Training Epochs:  71%|███████   | 1412/2000 [00:25<00:10, 57.19it/s]"
     ]
    },
    {
     "name": "stdout",
     "output_type": "stream",
     "text": [
      "Epoch 1400/2000, Loss: 0.0958\n",
      "Test Accuracy at Epoch 1400: 72.63%\n",
      "Test F1-score at Epoch 1400: 0.7438\n",
      "Classification Report at Epoch 1400:\n",
      "                  precision    recall  f1-score   support\n",
      "\n",
      "    infringement       0.78      0.64      0.71       194\n",
      "non_infringement       0.69      0.81      0.74       186\n",
      "\n",
      "        accuracy                           0.73       380\n",
      "       macro avg       0.73      0.73      0.73       380\n",
      "    weighted avg       0.73      0.73      0.72       380\n",
      "\n",
      "Epoch 1410/2000, Loss: 0.0952\n",
      "Test Accuracy at Epoch 1410: 73.42%\n",
      "Test F1-score at Epoch 1410: 0.7494\n",
      "Classification Report at Epoch 1410:\n",
      "                  precision    recall  f1-score   support\n",
      "\n",
      "    infringement       0.79      0.66      0.72       194\n",
      "non_infringement       0.70      0.81      0.75       186\n",
      "\n",
      "        accuracy                           0.73       380\n",
      "       macro avg       0.74      0.74      0.73       380\n",
      "    weighted avg       0.74      0.73      0.73       380\n",
      "\n"
     ]
    },
    {
     "name": "stderr",
     "output_type": "stream",
     "text": [
      "Training Epochs:  72%|███████▏  | 1432/2000 [00:25<00:09, 57.83it/s]"
     ]
    },
    {
     "name": "stdout",
     "output_type": "stream",
     "text": [
      "Epoch 1420/2000, Loss: 0.0947\n",
      "Test Accuracy at Epoch 1420: 72.63%\n",
      "Test F1-score at Epoch 1420: 0.7438\n",
      "Classification Report at Epoch 1420:\n",
      "                  precision    recall  f1-score   support\n",
      "\n",
      "    infringement       0.78      0.64      0.71       194\n",
      "non_infringement       0.69      0.81      0.74       186\n",
      "\n",
      "        accuracy                           0.73       380\n",
      "       macro avg       0.73      0.73      0.73       380\n",
      "    weighted avg       0.73      0.73      0.72       380\n",
      "\n",
      "Epoch 1430/2000, Loss: 0.0946\n",
      "Test Accuracy at Epoch 1430: 72.63%\n",
      "Test F1-score at Epoch 1430: 0.7438\n",
      "Classification Report at Epoch 1430:\n",
      "                  precision    recall  f1-score   support\n",
      "\n",
      "    infringement       0.78      0.64      0.71       194\n",
      "non_infringement       0.69      0.81      0.74       186\n",
      "\n",
      "        accuracy                           0.73       380\n",
      "       macro avg       0.73      0.73      0.73       380\n",
      "    weighted avg       0.73      0.73      0.72       380\n",
      "\n"
     ]
    },
    {
     "name": "stderr",
     "output_type": "stream",
     "text": [
      "Training Epochs:  72%|███████▏  | 1447/2000 [00:26<00:09, 57.12it/s]"
     ]
    },
    {
     "name": "stdout",
     "output_type": "stream",
     "text": [
      "Epoch 1440/2000, Loss: 0.0945\n",
      "Test Accuracy at Epoch 1440: 73.42%\n",
      "Test F1-score at Epoch 1440: 0.7494\n",
      "Classification Report at Epoch 1440:\n",
      "                  precision    recall  f1-score   support\n",
      "\n",
      "    infringement       0.79      0.66      0.72       194\n",
      "non_infringement       0.70      0.81      0.75       186\n",
      "\n",
      "        accuracy                           0.73       380\n",
      "       macro avg       0.74      0.74      0.73       380\n",
      "    weighted avg       0.74      0.73      0.73       380\n",
      "\n"
     ]
    },
    {
     "name": "stderr",
     "output_type": "stream",
     "text": [
      "Training Epochs:  73%|███████▎  | 1460/2000 [00:26<00:09, 58.58it/s]"
     ]
    },
    {
     "name": "stdout",
     "output_type": "stream",
     "text": [
      "Epoch 1450/2000, Loss: 0.0946\n",
      "Test Accuracy at Epoch 1450: 73.42%\n",
      "Test F1-score at Epoch 1450: 0.7494\n",
      "Classification Report at Epoch 1450:\n",
      "                  precision    recall  f1-score   support\n",
      "\n",
      "    infringement       0.79      0.66      0.72       194\n",
      "non_infringement       0.70      0.81      0.75       186\n",
      "\n",
      "        accuracy                           0.73       380\n",
      "       macro avg       0.74      0.74      0.73       380\n",
      "    weighted avg       0.74      0.73      0.73       380\n",
      "\n",
      "Epoch 1460/2000, Loss: 0.0987\n",
      "Test Accuracy at Epoch 1460: 75.00%\n",
      "Test F1-score at Epoch 1460: 0.7595\n",
      "Classification Report at Epoch 1460:\n",
      "                  precision    recall  f1-score   support\n",
      "\n",
      "    infringement       0.79      0.70      0.74       194\n",
      "non_infringement       0.72      0.81      0.76       186\n",
      "\n",
      "        accuracy                           0.75       380\n",
      "       macro avg       0.75      0.75      0.75       380\n",
      "    weighted avg       0.75      0.75      0.75       380\n",
      "\n"
     ]
    },
    {
     "name": "stderr",
     "output_type": "stream",
     "text": [
      "Training Epochs:  74%|███████▍  | 1480/2000 [00:26<00:08, 58.29it/s]"
     ]
    },
    {
     "name": "stdout",
     "output_type": "stream",
     "text": [
      "Epoch 1470/2000, Loss: 0.0964\n",
      "Test Accuracy at Epoch 1470: 71.05%\n",
      "Test F1-score at Epoch 1470: 0.7330\n",
      "Classification Report at Epoch 1470:\n",
      "                  precision    recall  f1-score   support\n",
      "\n",
      "    infringement       0.77      0.61      0.68       194\n",
      "non_infringement       0.67      0.81      0.73       186\n",
      "\n",
      "        accuracy                           0.71       380\n",
      "       macro avg       0.72      0.71      0.71       380\n",
      "    weighted avg       0.72      0.71      0.71       380\n",
      "\n",
      "Epoch 1480/2000, Loss: 0.0956\n",
      "Test Accuracy at Epoch 1480: 75.00%\n",
      "Test F1-score at Epoch 1480: 0.7595\n",
      "Classification Report at Epoch 1480:\n",
      "                  precision    recall  f1-score   support\n",
      "\n",
      "    infringement       0.79      0.70      0.74       194\n",
      "non_infringement       0.72      0.81      0.76       186\n",
      "\n",
      "        accuracy                           0.75       380\n",
      "       macro avg       0.75      0.75      0.75       380\n",
      "    weighted avg       0.75      0.75      0.75       380\n",
      "\n"
     ]
    },
    {
     "name": "stderr",
     "output_type": "stream",
     "text": [
      "Training Epochs:  75%|███████▌  | 1501/2000 [00:27<00:08, 58.31it/s]"
     ]
    },
    {
     "name": "stdout",
     "output_type": "stream",
     "text": [
      "Epoch 1490/2000, Loss: 0.0951\n",
      "Test Accuracy at Epoch 1490: 72.63%\n",
      "Test F1-score at Epoch 1490: 0.7438\n",
      "Classification Report at Epoch 1490:\n",
      "                  precision    recall  f1-score   support\n",
      "\n",
      "    infringement       0.78      0.64      0.71       194\n",
      "non_infringement       0.69      0.81      0.74       186\n",
      "\n",
      "        accuracy                           0.73       380\n",
      "       macro avg       0.73      0.73      0.73       380\n",
      "    weighted avg       0.73      0.73      0.72       380\n",
      "\n",
      "Epoch 1500/2000, Loss: 0.0946\n",
      "Test Accuracy at Epoch 1500: 73.16%\n",
      "Test F1-score at Epoch 1500: 0.7475\n",
      "Classification Report at Epoch 1500:\n",
      "                  precision    recall  f1-score   support\n",
      "\n",
      "    infringement       0.78      0.65      0.71       194\n",
      "non_infringement       0.69      0.81      0.75       186\n",
      "\n",
      "        accuracy                           0.73       380\n",
      "       macro avg       0.74      0.73      0.73       380\n",
      "    weighted avg       0.74      0.73      0.73       380\n",
      "\n"
     ]
    },
    {
     "name": "stderr",
     "output_type": "stream",
     "text": [
      "Training Epochs:  76%|███████▌  | 1523/2000 [00:27<00:07, 61.60it/s]"
     ]
    },
    {
     "name": "stdout",
     "output_type": "stream",
     "text": [
      "Epoch 1510/2000, Loss: 0.0947\n",
      "Test Accuracy at Epoch 1510: 73.42%\n",
      "Test F1-score at Epoch 1510: 0.7494\n",
      "Classification Report at Epoch 1510:\n",
      "                  precision    recall  f1-score   support\n",
      "\n",
      "    infringement       0.79      0.66      0.72       194\n",
      "non_infringement       0.70      0.81      0.75       186\n",
      "\n",
      "        accuracy                           0.73       380\n",
      "       macro avg       0.74      0.74      0.73       380\n",
      "    weighted avg       0.74      0.73      0.73       380\n",
      "\n",
      "Epoch 1520/2000, Loss: 0.0953\n",
      "Test Accuracy at Epoch 1520: 72.63%\n",
      "Test F1-score at Epoch 1520: 0.7438\n",
      "Classification Report at Epoch 1520:\n",
      "                  precision    recall  f1-score   support\n",
      "\n",
      "    infringement       0.78      0.64      0.71       194\n",
      "non_infringement       0.69      0.81      0.74       186\n",
      "\n",
      "        accuracy                           0.73       380\n",
      "       macro avg       0.73      0.73      0.73       380\n",
      "    weighted avg       0.73      0.73      0.72       380\n",
      "\n"
     ]
    },
    {
     "name": "stderr",
     "output_type": "stream",
     "text": [
      "Training Epochs:  77%|███████▋  | 1538/2000 [00:27<00:07, 58.82it/s]"
     ]
    },
    {
     "name": "stdout",
     "output_type": "stream",
     "text": [
      "Epoch 1530/2000, Loss: 0.0949\n",
      "Test Accuracy at Epoch 1530: 73.16%\n",
      "Test F1-score at Epoch 1530: 0.7463\n",
      "Classification Report at Epoch 1530:\n",
      "                  precision    recall  f1-score   support\n",
      "\n",
      "    infringement       0.78      0.66      0.72       194\n",
      "non_infringement       0.69      0.81      0.75       186\n",
      "\n",
      "        accuracy                           0.73       380\n",
      "       macro avg       0.74      0.73      0.73       380\n",
      "    weighted avg       0.74      0.73      0.73       380\n",
      "\n",
      "Epoch 1540/2000, Loss: 0.0948\n"
     ]
    },
    {
     "name": "stderr",
     "output_type": "stream",
     "text": [
      "Training Epochs:  78%|███████▊  | 1552/2000 [00:28<00:07, 63.61it/s]"
     ]
    },
    {
     "name": "stdout",
     "output_type": "stream",
     "text": [
      "Test Accuracy at Epoch 1540: 72.89%\n",
      "Test F1-score at Epoch 1540: 0.7457\n",
      "Classification Report at Epoch 1540:\n",
      "                  precision    recall  f1-score   support\n",
      "\n",
      "    infringement       0.78      0.65      0.71       194\n",
      "non_infringement       0.69      0.81      0.75       186\n",
      "\n",
      "        accuracy                           0.73       380\n",
      "       macro avg       0.74      0.73      0.73       380\n",
      "    weighted avg       0.74      0.73      0.73       380\n",
      "\n",
      "Epoch 1550/2000, Loss: 0.0961\n",
      "Test Accuracy at Epoch 1550: 72.63%\n",
      "Test F1-score at Epoch 1550: 0.7438\n",
      "Classification Report at Epoch 1550:\n",
      "                  precision    recall  f1-score   support\n",
      "\n",
      "    infringement       0.78      0.64      0.71       194\n",
      "non_infringement       0.69      0.81      0.74       186\n",
      "\n",
      "        accuracy                           0.73       380\n",
      "       macro avg       0.73      0.73      0.73       380\n",
      "    weighted avg       0.73      0.73      0.72       380\n",
      "\n"
     ]
    },
    {
     "name": "stderr",
     "output_type": "stream",
     "text": [
      "Training Epochs:  79%|███████▊  | 1573/2000 [00:28<00:07, 60.97it/s]"
     ]
    },
    {
     "name": "stdout",
     "output_type": "stream",
     "text": [
      "Epoch 1560/2000, Loss: 0.0952\n",
      "Test Accuracy at Epoch 1560: 73.16%\n",
      "Test F1-score at Epoch 1560: 0.7463\n",
      "Classification Report at Epoch 1560:\n",
      "                  precision    recall  f1-score   support\n",
      "\n",
      "    infringement       0.78      0.66      0.72       194\n",
      "non_infringement       0.69      0.81      0.75       186\n",
      "\n",
      "        accuracy                           0.73       380\n",
      "       macro avg       0.74      0.73      0.73       380\n",
      "    weighted avg       0.74      0.73      0.73       380\n",
      "\n",
      "Epoch 1570/2000, Loss: 0.0944\n",
      "Test Accuracy at Epoch 1570: 73.42%\n",
      "Test F1-score at Epoch 1570: 0.7494\n",
      "Classification Report at Epoch 1570:\n",
      "                  precision    recall  f1-score   support\n",
      "\n",
      "    infringement       0.79      0.66      0.72       194\n",
      "non_infringement       0.70      0.81      0.75       186\n",
      "\n",
      "        accuracy                           0.73       380\n",
      "       macro avg       0.74      0.74      0.73       380\n",
      "    weighted avg       0.74      0.73      0.73       380\n",
      "\n"
     ]
    },
    {
     "name": "stderr",
     "output_type": "stream",
     "text": [
      "Training Epochs:  79%|███████▉  | 1588/2000 [00:28<00:06, 60.52it/s]"
     ]
    },
    {
     "name": "stdout",
     "output_type": "stream",
     "text": [
      "Epoch 1580/2000, Loss: 0.0944\n",
      "Test Accuracy at Epoch 1580: 72.63%\n",
      "Test F1-score at Epoch 1580: 0.7438\n",
      "Classification Report at Epoch 1580:\n",
      "                  precision    recall  f1-score   support\n",
      "\n",
      "    infringement       0.78      0.64      0.71       194\n",
      "non_infringement       0.69      0.81      0.74       186\n",
      "\n",
      "        accuracy                           0.73       380\n",
      "       macro avg       0.73      0.73      0.73       380\n",
      "    weighted avg       0.73      0.73      0.72       380\n",
      "\n",
      "Epoch 1590/2000, Loss: 0.0959\n",
      "Test Accuracy at Epoch 1590: 71.05%\n",
      "Test F1-score at Epoch 1590: 0.7330\n",
      "Classification Report at Epoch 1590:\n",
      "                  precision    recall  f1-score   support\n",
      "\n",
      "    infringement       0.77      0.61      0.68       194\n",
      "non_infringement       0.67      0.81      0.73       186\n",
      "\n",
      "        accuracy                           0.71       380\n",
      "       macro avg       0.72      0.71      0.71       380\n",
      "    weighted avg       0.72      0.71      0.71       380\n",
      "\n"
     ]
    },
    {
     "name": "stderr",
     "output_type": "stream",
     "text": [
      "Training Epochs:  80%|████████  | 1610/2000 [00:29<00:07, 53.58it/s]"
     ]
    },
    {
     "name": "stdout",
     "output_type": "stream",
     "text": [
      "Epoch 1600/2000, Loss: 0.0943\n",
      "Test Accuracy at Epoch 1600: 75.26%\n",
      "Test F1-score at Epoch 1600: 0.7626\n",
      "Classification Report at Epoch 1600:\n",
      "                  precision    recall  f1-score   support\n",
      "\n",
      "    infringement       0.79      0.70      0.74       194\n",
      "non_infringement       0.72      0.81      0.76       186\n",
      "\n",
      "        accuracy                           0.75       380\n",
      "       macro avg       0.76      0.75      0.75       380\n",
      "    weighted avg       0.76      0.75      0.75       380\n",
      "\n",
      "Epoch 1610/2000, Loss: 0.0966\n",
      "Test Accuracy at Epoch 1610: 73.42%\n",
      "Test F1-score at Epoch 1610: 0.7494\n",
      "Classification Report at Epoch 1610:\n",
      "                  precision    recall  f1-score   support\n",
      "\n",
      "    infringement       0.79      0.66      0.72       194\n",
      "non_infringement       0.70      0.81      0.75       186\n",
      "\n",
      "        accuracy                           0.73       380\n",
      "       macro avg       0.74      0.74      0.73       380\n",
      "    weighted avg       0.74      0.73      0.73       380\n",
      "\n"
     ]
    },
    {
     "name": "stderr",
     "output_type": "stream",
     "text": [
      "Training Epochs:  81%|████████▏ | 1625/2000 [00:29<00:07, 53.22it/s]"
     ]
    },
    {
     "name": "stdout",
     "output_type": "stream",
     "text": [
      "Epoch 1620/2000, Loss: 0.0997\n",
      "Test Accuracy at Epoch 1620: 72.89%\n",
      "Test F1-score at Epoch 1620: 0.7325\n",
      "Classification Report at Epoch 1620:\n",
      "                  precision    recall  f1-score   support\n",
      "\n",
      "    infringement       0.75      0.70      0.73       194\n",
      "non_infringement       0.71      0.76      0.73       186\n",
      "\n",
      "        accuracy                           0.73       380\n",
      "       macro avg       0.73      0.73      0.73       380\n",
      "    weighted avg       0.73      0.73      0.73       380\n",
      "\n"
     ]
    },
    {
     "name": "stderr",
     "output_type": "stream",
     "text": [
      "Training Epochs:  82%|████████▏ | 1640/2000 [00:29<00:06, 58.63it/s]"
     ]
    },
    {
     "name": "stdout",
     "output_type": "stream",
     "text": [
      "Epoch 1630/2000, Loss: 0.0988\n",
      "Test Accuracy at Epoch 1630: 72.63%\n",
      "Test F1-score at Epoch 1630: 0.7438\n",
      "Classification Report at Epoch 1630:\n",
      "                  precision    recall  f1-score   support\n",
      "\n",
      "    infringement       0.78      0.64      0.71       194\n",
      "non_infringement       0.69      0.81      0.74       186\n",
      "\n",
      "        accuracy                           0.73       380\n",
      "       macro avg       0.73      0.73      0.73       380\n",
      "    weighted avg       0.73      0.73      0.72       380\n",
      "\n",
      "Epoch 1640/2000, Loss: 0.0958\n",
      "Test Accuracy at Epoch 1640: 72.63%\n",
      "Test F1-score at Epoch 1640: 0.7438\n",
      "Classification Report at Epoch 1640:\n",
      "                  precision    recall  f1-score   support\n",
      "\n",
      "    infringement       0.78      0.64      0.71       194\n",
      "non_infringement       0.69      0.81      0.74       186\n",
      "\n",
      "        accuracy                           0.73       380\n",
      "       macro avg       0.73      0.73      0.73       380\n",
      "    weighted avg       0.73      0.73      0.72       380\n",
      "\n"
     ]
    },
    {
     "name": "stderr",
     "output_type": "stream",
     "text": [
      "Training Epochs:  83%|████████▎ | 1661/2000 [00:29<00:05, 58.84it/s]"
     ]
    },
    {
     "name": "stdout",
     "output_type": "stream",
     "text": [
      "Epoch 1650/2000, Loss: 0.0945\n",
      "Test Accuracy at Epoch 1650: 74.74%\n",
      "Test F1-score at Epoch 1650: 0.7563\n",
      "Classification Report at Epoch 1650:\n",
      "                  precision    recall  f1-score   support\n",
      "\n",
      "    infringement       0.78      0.70      0.74       194\n",
      "non_infringement       0.72      0.80      0.76       186\n",
      "\n",
      "        accuracy                           0.75       380\n",
      "       macro avg       0.75      0.75      0.75       380\n",
      "    weighted avg       0.75      0.75      0.75       380\n",
      "\n",
      "Epoch 1660/2000, Loss: 0.0944\n",
      "Test Accuracy at Epoch 1660: 72.63%\n",
      "Test F1-score at Epoch 1660: 0.7438\n",
      "Classification Report at Epoch 1660:\n",
      "                  precision    recall  f1-score   support\n",
      "\n",
      "    infringement       0.78      0.64      0.71       194\n",
      "non_infringement       0.69      0.81      0.74       186\n",
      "\n",
      "        accuracy                           0.73       380\n",
      "       macro avg       0.73      0.73      0.73       380\n",
      "    weighted avg       0.73      0.73      0.72       380\n",
      "\n"
     ]
    },
    {
     "name": "stderr",
     "output_type": "stream",
     "text": [
      "Training Epochs:  84%|████████▍ | 1683/2000 [00:30<00:05, 61.41it/s]"
     ]
    },
    {
     "name": "stdout",
     "output_type": "stream",
     "text": [
      "Epoch 1670/2000, Loss: 0.0944\n",
      "Test Accuracy at Epoch 1670: 72.63%\n",
      "Test F1-score at Epoch 1670: 0.7438\n",
      "Classification Report at Epoch 1670:\n",
      "                  precision    recall  f1-score   support\n",
      "\n",
      "    infringement       0.78      0.64      0.71       194\n",
      "non_infringement       0.69      0.81      0.74       186\n",
      "\n",
      "        accuracy                           0.73       380\n",
      "       macro avg       0.73      0.73      0.73       380\n",
      "    weighted avg       0.73      0.73      0.72       380\n",
      "\n",
      "Epoch 1680/2000, Loss: 0.0944\n",
      "Test Accuracy at Epoch 1680: 72.63%\n",
      "Test F1-score at Epoch 1680: 0.7438\n",
      "Classification Report at Epoch 1680:\n",
      "                  precision    recall  f1-score   support\n",
      "\n",
      "    infringement       0.78      0.64      0.71       194\n",
      "non_infringement       0.69      0.81      0.74       186\n",
      "\n",
      "        accuracy                           0.73       380\n",
      "       macro avg       0.73      0.73      0.73       380\n",
      "    weighted avg       0.73      0.73      0.72       380\n",
      "\n"
     ]
    },
    {
     "name": "stderr",
     "output_type": "stream",
     "text": [
      "Training Epochs:  85%|████████▍ | 1697/2000 [00:30<00:05, 57.32it/s]"
     ]
    },
    {
     "name": "stdout",
     "output_type": "stream",
     "text": [
      "Epoch 1690/2000, Loss: 0.0942\n",
      "Test Accuracy at Epoch 1690: 72.63%\n",
      "Test F1-score at Epoch 1690: 0.7438\n",
      "Classification Report at Epoch 1690:\n",
      "                  precision    recall  f1-score   support\n",
      "\n",
      "    infringement       0.78      0.64      0.71       194\n",
      "non_infringement       0.69      0.81      0.74       186\n",
      "\n",
      "        accuracy                           0.73       380\n",
      "       macro avg       0.73      0.73      0.73       380\n",
      "    weighted avg       0.73      0.73      0.72       380\n",
      "\n"
     ]
    },
    {
     "name": "stderr",
     "output_type": "stream",
     "text": [
      "Training Epochs:  86%|████████▌ | 1711/2000 [00:30<00:04, 61.33it/s]"
     ]
    },
    {
     "name": "stdout",
     "output_type": "stream",
     "text": [
      "Epoch 1700/2000, Loss: 0.0941\n",
      "Test Accuracy at Epoch 1700: 72.63%\n",
      "Test F1-score at Epoch 1700: 0.7438\n",
      "Classification Report at Epoch 1700:\n",
      "                  precision    recall  f1-score   support\n",
      "\n",
      "    infringement       0.78      0.64      0.71       194\n",
      "non_infringement       0.69      0.81      0.74       186\n",
      "\n",
      "        accuracy                           0.73       380\n",
      "       macro avg       0.73      0.73      0.73       380\n",
      "    weighted avg       0.73      0.73      0.72       380\n",
      "\n",
      "Epoch 1710/2000, Loss: 0.0941\n",
      "Test Accuracy at Epoch 1710: 72.63%\n",
      "Test F1-score at Epoch 1710: 0.7438\n",
      "Classification Report at Epoch 1710:\n",
      "                  precision    recall  f1-score   support\n",
      "\n",
      "    infringement       0.78      0.64      0.71       194\n",
      "non_infringement       0.69      0.81      0.74       186\n",
      "\n",
      "        accuracy                           0.73       380\n",
      "       macro avg       0.73      0.73      0.73       380\n",
      "    weighted avg       0.73      0.73      0.72       380\n",
      "\n"
     ]
    },
    {
     "name": "stderr",
     "output_type": "stream",
     "text": [
      "Training Epochs:  87%|████████▋ | 1732/2000 [00:31<00:04, 59.32it/s]"
     ]
    },
    {
     "name": "stdout",
     "output_type": "stream",
     "text": [
      "Epoch 1720/2000, Loss: 0.0941\n",
      "Test Accuracy at Epoch 1720: 72.63%\n",
      "Test F1-score at Epoch 1720: 0.7438\n",
      "Classification Report at Epoch 1720:\n",
      "                  precision    recall  f1-score   support\n",
      "\n",
      "    infringement       0.78      0.64      0.71       194\n",
      "non_infringement       0.69      0.81      0.74       186\n",
      "\n",
      "        accuracy                           0.73       380\n",
      "       macro avg       0.73      0.73      0.73       380\n",
      "    weighted avg       0.73      0.73      0.72       380\n",
      "\n",
      "Epoch 1730/2000, Loss: 0.0949\n",
      "Test Accuracy at Epoch 1730: 72.63%\n",
      "Test F1-score at Epoch 1730: 0.7438\n",
      "Classification Report at Epoch 1730:\n",
      "                  precision    recall  f1-score   support\n",
      "\n",
      "    infringement       0.78      0.64      0.71       194\n",
      "non_infringement       0.69      0.81      0.74       186\n",
      "\n",
      "        accuracy                           0.73       380\n",
      "       macro avg       0.73      0.73      0.73       380\n",
      "    weighted avg       0.73      0.73      0.72       380\n",
      "\n"
     ]
    },
    {
     "name": "stderr",
     "output_type": "stream",
     "text": [
      "Training Epochs:  87%|████████▋ | 1747/2000 [00:31<00:04, 56.49it/s]"
     ]
    },
    {
     "name": "stdout",
     "output_type": "stream",
     "text": [
      "Epoch 1740/2000, Loss: 0.0959\n",
      "Test Accuracy at Epoch 1740: 72.63%\n",
      "Test F1-score at Epoch 1740: 0.7438\n",
      "Classification Report at Epoch 1740:\n",
      "                  precision    recall  f1-score   support\n",
      "\n",
      "    infringement       0.78      0.64      0.71       194\n",
      "non_infringement       0.69      0.81      0.74       186\n",
      "\n",
      "        accuracy                           0.73       380\n",
      "       macro avg       0.73      0.73      0.73       380\n",
      "    weighted avg       0.73      0.73      0.72       380\n",
      "\n",
      "Epoch 1750/2000, Loss: 0.0979\n",
      "Test Accuracy at Epoch 1750: 71.05%\n",
      "Test F1-score at Epoch 1750: 0.7330\n",
      "Classification Report at Epoch 1750:\n",
      "                  precision    recall  f1-score   support\n",
      "\n",
      "    infringement       0.77      0.61      0.68       194\n",
      "non_infringement       0.67      0.81      0.73       186\n",
      "\n",
      "        accuracy                           0.71       380\n",
      "       macro avg       0.72      0.71      0.71       380\n",
      "    weighted avg       0.72      0.71      0.71       380\n",
      "\n"
     ]
    },
    {
     "name": "stderr",
     "output_type": "stream",
     "text": [
      "Training Epochs:  88%|████████▊ | 1764/2000 [00:32<00:07, 32.65it/s]"
     ]
    },
    {
     "name": "stdout",
     "output_type": "stream",
     "text": [
      "Epoch 1760/2000, Loss: 0.0956\n",
      "Test Accuracy at Epoch 1760: 74.21%\n",
      "Test F1-score at Epoch 1760: 0.7525\n",
      "Classification Report at Epoch 1760:\n",
      "                  precision    recall  f1-score   support\n",
      "\n",
      "    infringement       0.78      0.69      0.73       194\n",
      "non_infringement       0.71      0.80      0.75       186\n",
      "\n",
      "        accuracy                           0.74       380\n",
      "       macro avg       0.75      0.74      0.74       380\n",
      "    weighted avg       0.75      0.74      0.74       380\n",
      "\n"
     ]
    },
    {
     "name": "stderr",
     "output_type": "stream",
     "text": [
      "Training Epochs:  89%|████████▊ | 1772/2000 [00:32<00:07, 28.65it/s]"
     ]
    },
    {
     "name": "stdout",
     "output_type": "stream",
     "text": [
      "Epoch 1770/2000, Loss: 0.0989\n",
      "Test Accuracy at Epoch 1770: 73.42%\n",
      "Test F1-score at Epoch 1770: 0.7481\n",
      "Classification Report at Epoch 1770:\n",
      "                  precision    recall  f1-score   support\n",
      "\n",
      "    infringement       0.78      0.66      0.72       194\n",
      "non_infringement       0.70      0.81      0.75       186\n",
      "\n",
      "        accuracy                           0.73       380\n",
      "       macro avg       0.74      0.74      0.73       380\n",
      "    weighted avg       0.74      0.73      0.73       380\n",
      "\n"
     ]
    },
    {
     "name": "stderr",
     "output_type": "stream",
     "text": [
      "Training Epochs:  89%|████████▉ | 1780/2000 [00:32<00:08, 26.79it/s]"
     ]
    },
    {
     "name": "stdout",
     "output_type": "stream",
     "text": [
      "Epoch 1780/2000, Loss: 0.0953\n",
      "Test Accuracy at Epoch 1780: 73.16%\n",
      "Test F1-score at Epoch 1780: 0.7463\n",
      "Classification Report at Epoch 1780:\n",
      "                  precision    recall  f1-score   support\n",
      "\n",
      "    infringement       0.78      0.66      0.72       194\n",
      "non_infringement       0.69      0.81      0.75       186\n",
      "\n",
      "        accuracy                           0.73       380\n",
      "       macro avg       0.74      0.73      0.73       380\n",
      "    weighted avg       0.74      0.73      0.73       380\n",
      "\n"
     ]
    },
    {
     "name": "stderr",
     "output_type": "stream",
     "text": [
      "Training Epochs:  90%|████████▉ | 1799/2000 [00:33<00:06, 30.85it/s]"
     ]
    },
    {
     "name": "stdout",
     "output_type": "stream",
     "text": [
      "Epoch 1790/2000, Loss: 0.0974\n",
      "Test Accuracy at Epoch 1790: 72.63%\n",
      "Test F1-score at Epoch 1790: 0.7438\n",
      "Classification Report at Epoch 1790:\n",
      "                  precision    recall  f1-score   support\n",
      "\n",
      "    infringement       0.78      0.64      0.71       194\n",
      "non_infringement       0.69      0.81      0.74       186\n",
      "\n",
      "        accuracy                           0.73       380\n",
      "       macro avg       0.73      0.73      0.73       380\n",
      "    weighted avg       0.73      0.73      0.72       380\n",
      "\n",
      "Epoch 1800/2000, Loss: 0.0961\n"
     ]
    },
    {
     "name": "stderr",
     "output_type": "stream",
     "text": [
      "Training Epochs:  90%|█████████ | 1803/2000 [00:33<00:06, 28.38it/s]"
     ]
    },
    {
     "name": "stdout",
     "output_type": "stream",
     "text": [
      "Test Accuracy at Epoch 1800: 73.42%\n",
      "Test F1-score at Epoch 1800: 0.7404\n",
      "Classification Report at Epoch 1800:\n",
      "                  precision    recall  f1-score   support\n",
      "\n",
      "    infringement       0.76      0.70      0.73       194\n",
      "non_infringement       0.71      0.77      0.74       186\n",
      "\n",
      "        accuracy                           0.73       380\n",
      "       macro avg       0.74      0.74      0.73       380\n",
      "    weighted avg       0.74      0.73      0.73       380\n",
      "\n"
     ]
    },
    {
     "name": "stderr",
     "output_type": "stream",
     "text": [
      "Training Epochs:  91%|█████████ | 1817/2000 [00:33<00:04, 42.61it/s]"
     ]
    },
    {
     "name": "stdout",
     "output_type": "stream",
     "text": [
      "Epoch 1810/2000, Loss: 0.0956\n",
      "Test Accuracy at Epoch 1810: 73.16%\n",
      "Test F1-score at Epoch 1810: 0.7475\n",
      "Classification Report at Epoch 1810:\n",
      "                  precision    recall  f1-score   support\n",
      "\n",
      "    infringement       0.78      0.65      0.71       194\n",
      "non_infringement       0.69      0.81      0.75       186\n",
      "\n",
      "        accuracy                           0.73       380\n",
      "       macro avg       0.74      0.73      0.73       380\n",
      "    weighted avg       0.74      0.73      0.73       380\n",
      "\n",
      "Epoch 1820/2000, Loss: 0.0940\n",
      "Test Accuracy at Epoch 1820: 72.63%\n",
      "Test F1-score at Epoch 1820: 0.7438\n",
      "Classification Report at Epoch 1820:\n",
      "                  precision    recall  f1-score   support\n",
      "\n",
      "    infringement       0.78      0.64      0.71       194\n",
      "non_infringement       0.69      0.81      0.74       186\n",
      "\n",
      "        accuracy                           0.73       380\n",
      "       macro avg       0.73      0.73      0.73       380\n",
      "    weighted avg       0.73      0.73      0.72       380\n",
      "\n"
     ]
    },
    {
     "name": "stderr",
     "output_type": "stream",
     "text": [
      "Training Epochs:  92%|█████████▏| 1837/2000 [00:34<00:03, 48.02it/s]"
     ]
    },
    {
     "name": "stdout",
     "output_type": "stream",
     "text": [
      "Epoch 1830/2000, Loss: 0.0941\n",
      "Test Accuracy at Epoch 1830: 72.63%\n",
      "Test F1-score at Epoch 1830: 0.7438\n",
      "Classification Report at Epoch 1830:\n",
      "                  precision    recall  f1-score   support\n",
      "\n",
      "    infringement       0.78      0.64      0.71       194\n",
      "non_infringement       0.69      0.81      0.74       186\n",
      "\n",
      "        accuracy                           0.73       380\n",
      "       macro avg       0.73      0.73      0.73       380\n",
      "    weighted avg       0.73      0.73      0.72       380\n",
      "\n",
      "Epoch 1840/2000, Loss: 0.0940\n",
      "Test Accuracy at Epoch 1840: 73.42%\n",
      "Test F1-score at Epoch 1840: 0.7494\n",
      "Classification Report at Epoch 1840:\n",
      "                  precision    recall  f1-score   support\n",
      "\n",
      "    infringement       0.79      0.66      0.72       194\n",
      "non_infringement       0.70      0.81      0.75       186\n",
      "\n",
      "        accuracy                           0.73       380\n",
      "       macro avg       0.74      0.74      0.73       380\n",
      "    weighted avg       0.74      0.73      0.73       380\n",
      "\n"
     ]
    },
    {
     "name": "stderr",
     "output_type": "stream",
     "text": [
      "Training Epochs:  93%|█████████▎| 1853/2000 [00:34<00:03, 38.31it/s]"
     ]
    },
    {
     "name": "stdout",
     "output_type": "stream",
     "text": [
      "Epoch 1850/2000, Loss: 0.0939\n",
      "Test Accuracy at Epoch 1850: 73.16%\n",
      "Test F1-score at Epoch 1850: 0.7475\n",
      "Classification Report at Epoch 1850:\n",
      "                  precision    recall  f1-score   support\n",
      "\n",
      "    infringement       0.78      0.65      0.71       194\n",
      "non_infringement       0.69      0.81      0.75       186\n",
      "\n",
      "        accuracy                           0.73       380\n",
      "       macro avg       0.74      0.73      0.73       380\n",
      "    weighted avg       0.74      0.73      0.73       380\n",
      "\n"
     ]
    },
    {
     "name": "stderr",
     "output_type": "stream",
     "text": [
      "Training Epochs:  94%|█████████▎| 1870/2000 [00:35<00:02, 45.45it/s]"
     ]
    },
    {
     "name": "stdout",
     "output_type": "stream",
     "text": [
      "Epoch 1860/2000, Loss: 0.0939\n",
      "Test Accuracy at Epoch 1860: 73.42%\n",
      "Test F1-score at Epoch 1860: 0.7494\n",
      "Classification Report at Epoch 1860:\n",
      "                  precision    recall  f1-score   support\n",
      "\n",
      "    infringement       0.79      0.66      0.72       194\n",
      "non_infringement       0.70      0.81      0.75       186\n",
      "\n",
      "        accuracy                           0.73       380\n",
      "       macro avg       0.74      0.74      0.73       380\n",
      "    weighted avg       0.74      0.73      0.73       380\n",
      "\n",
      "Epoch 1870/2000, Loss: 0.0939\n",
      "Test Accuracy at Epoch 1870: 72.63%\n",
      "Test F1-score at Epoch 1870: 0.7438\n",
      "Classification Report at Epoch 1870:\n",
      "                  precision    recall  f1-score   support\n",
      "\n",
      "    infringement       0.78      0.64      0.71       194\n",
      "non_infringement       0.69      0.81      0.74       186\n",
      "\n",
      "        accuracy                           0.73       380\n",
      "       macro avg       0.73      0.73      0.73       380\n",
      "    weighted avg       0.73      0.73      0.72       380\n",
      "\n"
     ]
    },
    {
     "name": "stderr",
     "output_type": "stream",
     "text": [
      "Training Epochs:  94%|█████████▍| 1885/2000 [00:35<00:02, 38.52it/s]"
     ]
    },
    {
     "name": "stdout",
     "output_type": "stream",
     "text": [
      "Epoch 1880/2000, Loss: 0.0939\n",
      "Test Accuracy at Epoch 1880: 73.42%\n",
      "Test F1-score at Epoch 1880: 0.7494\n",
      "Classification Report at Epoch 1880:\n",
      "                  precision    recall  f1-score   support\n",
      "\n",
      "    infringement       0.79      0.66      0.72       194\n",
      "non_infringement       0.70      0.81      0.75       186\n",
      "\n",
      "        accuracy                           0.73       380\n",
      "       macro avg       0.74      0.74      0.73       380\n",
      "    weighted avg       0.74      0.73      0.73       380\n",
      "\n"
     ]
    },
    {
     "name": "stderr",
     "output_type": "stream",
     "text": [
      "Training Epochs:  95%|█████████▌| 1900/2000 [00:36<00:02, 41.98it/s]"
     ]
    },
    {
     "name": "stdout",
     "output_type": "stream",
     "text": [
      "Epoch 1890/2000, Loss: 0.0939\n",
      "Test Accuracy at Epoch 1890: 73.42%\n",
      "Test F1-score at Epoch 1890: 0.7494\n",
      "Classification Report at Epoch 1890:\n",
      "                  precision    recall  f1-score   support\n",
      "\n",
      "    infringement       0.79      0.66      0.72       194\n",
      "non_infringement       0.70      0.81      0.75       186\n",
      "\n",
      "        accuracy                           0.73       380\n",
      "       macro avg       0.74      0.74      0.73       380\n",
      "    weighted avg       0.74      0.73      0.73       380\n",
      "\n",
      "Epoch 1900/2000, Loss: 0.0939\n",
      "Test Accuracy at Epoch 1900: 73.42%\n",
      "Test F1-score at Epoch 1900: 0.7494\n",
      "Classification Report at Epoch 1900:\n",
      "                  precision    recall  f1-score   support\n",
      "\n",
      "    infringement       0.79      0.66      0.72       194\n",
      "non_infringement       0.70      0.81      0.75       186\n",
      "\n",
      "        accuracy                           0.73       380\n",
      "       macro avg       0.74      0.74      0.73       380\n",
      "    weighted avg       0.74      0.73      0.73       380\n",
      "\n"
     ]
    },
    {
     "name": "stderr",
     "output_type": "stream",
     "text": [
      "Training Epochs:  96%|█████████▌| 1916/2000 [00:36<00:01, 42.17it/s]"
     ]
    },
    {
     "name": "stdout",
     "output_type": "stream",
     "text": [
      "Epoch 1910/2000, Loss: 0.0941\n",
      "Test Accuracy at Epoch 1910: 72.89%\n",
      "Test F1-score at Epoch 1910: 0.7431\n",
      "Classification Report at Epoch 1910:\n",
      "                  precision    recall  f1-score   support\n",
      "\n",
      "    infringement       0.78      0.66      0.71       194\n",
      "non_infringement       0.69      0.80      0.74       186\n",
      "\n",
      "        accuracy                           0.73       380\n",
      "       macro avg       0.73      0.73      0.73       380\n",
      "    weighted avg       0.74      0.73      0.73       380\n",
      "\n"
     ]
    },
    {
     "name": "stderr",
     "output_type": "stream",
     "text": [
      "Training Epochs:  96%|█████████▋| 1928/2000 [00:36<00:01, 41.23it/s]"
     ]
    },
    {
     "name": "stdout",
     "output_type": "stream",
     "text": [
      "Epoch 1920/2000, Loss: 0.0978\n",
      "Test Accuracy at Epoch 1920: 73.42%\n",
      "Test F1-score at Epoch 1920: 0.7404\n",
      "Classification Report at Epoch 1920:\n",
      "                  precision    recall  f1-score   support\n",
      "\n",
      "    infringement       0.76      0.70      0.73       194\n",
      "non_infringement       0.71      0.77      0.74       186\n",
      "\n",
      "        accuracy                           0.73       380\n",
      "       macro avg       0.74      0.74      0.73       380\n",
      "    weighted avg       0.74      0.73      0.73       380\n",
      "\n",
      "Epoch 1930/2000, Loss: 0.0984\n",
      "Test Accuracy at Epoch 1930: 71.05%\n",
      "Test F1-score at Epoch 1930: 0.7330\n",
      "Classification Report at Epoch 1930:\n",
      "                  precision    recall  f1-score   support\n",
      "\n",
      "    infringement       0.77      0.61      0.68       194\n",
      "non_infringement       0.67      0.81      0.73       186\n",
      "\n",
      "        accuracy                           0.71       380\n",
      "       macro avg       0.72      0.71      0.71       380\n",
      "    weighted avg       0.72      0.71      0.71       380\n",
      "\n"
     ]
    },
    {
     "name": "stderr",
     "output_type": "stream",
     "text": [
      "Training Epochs:  97%|█████████▋| 1948/2000 [00:37<00:01, 48.53it/s]"
     ]
    },
    {
     "name": "stdout",
     "output_type": "stream",
     "text": [
      "Epoch 1940/2000, Loss: 0.0968\n",
      "Test Accuracy at Epoch 1940: 73.42%\n",
      "Test F1-score at Epoch 1940: 0.7404\n",
      "Classification Report at Epoch 1940:\n",
      "                  precision    recall  f1-score   support\n",
      "\n",
      "    infringement       0.76      0.70      0.73       194\n",
      "non_infringement       0.71      0.77      0.74       186\n",
      "\n",
      "        accuracy                           0.73       380\n",
      "       macro avg       0.74      0.74      0.73       380\n",
      "    weighted avg       0.74      0.73      0.73       380\n",
      "\n",
      "Epoch 1950/2000, Loss: 0.0952\n"
     ]
    },
    {
     "name": "stderr",
     "output_type": "stream",
     "text": [
      "Training Epochs:  98%|█████████▊| 1954/2000 [00:37<00:01, 43.76it/s]"
     ]
    },
    {
     "name": "stdout",
     "output_type": "stream",
     "text": [
      "Test Accuracy at Epoch 1950: 72.63%\n",
      "Test F1-score at Epoch 1950: 0.7438\n",
      "Classification Report at Epoch 1950:\n",
      "                  precision    recall  f1-score   support\n",
      "\n",
      "    infringement       0.78      0.64      0.71       194\n",
      "non_infringement       0.69      0.81      0.74       186\n",
      "\n",
      "        accuracy                           0.73       380\n",
      "       macro avg       0.73      0.73      0.73       380\n",
      "    weighted avg       0.73      0.73      0.72       380\n",
      "\n",
      "Epoch 1960/2000, Loss: 0.0945\n",
      "Test Accuracy at Epoch 1960: 74.74%\n",
      "Test F1-score at Epoch 1960: 0.7563\n"
     ]
    },
    {
     "name": "stderr",
     "output_type": "stream",
     "text": [
      "Training Epochs:  98%|█████████▊| 1960/2000 [00:37<00:00, 46.06it/s]"
     ]
    },
    {
     "name": "stdout",
     "output_type": "stream",
     "text": [
      "Classification Report at Epoch 1960:\n",
      "                  precision    recall  f1-score   support\n",
      "\n",
      "    infringement       0.78      0.70      0.74       194\n",
      "non_infringement       0.72      0.80      0.76       186\n",
      "\n",
      "        accuracy                           0.75       380\n",
      "       macro avg       0.75      0.75      0.75       380\n",
      "    weighted avg       0.75      0.75      0.75       380\n",
      "\n"
     ]
    },
    {
     "name": "stderr",
     "output_type": "stream",
     "text": [
      "Training Epochs:  98%|█████████▊| 1969/2000 [00:37<00:01, 28.52it/s]"
     ]
    },
    {
     "name": "stdout",
     "output_type": "stream",
     "text": [
      "Epoch 1970/2000, Loss: 0.0939\n",
      "Test Accuracy at Epoch 1970: 72.63%\n",
      "Test F1-score at Epoch 1970: 0.7438\n",
      "Classification Report at Epoch 1970:\n",
      "                  precision    recall  f1-score   support\n",
      "\n",
      "    infringement       0.78      0.64      0.71       194\n",
      "non_infringement       0.69      0.81      0.74       186\n",
      "\n",
      "        accuracy                           0.73       380\n",
      "       macro avg       0.73      0.73      0.73       380\n",
      "    weighted avg       0.73      0.73      0.72       380\n",
      "\n"
     ]
    },
    {
     "name": "stderr",
     "output_type": "stream",
     "text": [
      "Training Epochs:  99%|█████████▉| 1983/2000 [00:38<00:00, 24.79it/s]"
     ]
    },
    {
     "name": "stdout",
     "output_type": "stream",
     "text": [
      "Epoch 1980/2000, Loss: 0.0939\n",
      "Test Accuracy at Epoch 1980: 72.63%\n",
      "Test F1-score at Epoch 1980: 0.7438\n",
      "Classification Report at Epoch 1980:\n",
      "                  precision    recall  f1-score   support\n",
      "\n",
      "    infringement       0.78      0.64      0.71       194\n",
      "non_infringement       0.69      0.81      0.74       186\n",
      "\n",
      "        accuracy                           0.73       380\n",
      "       macro avg       0.73      0.73      0.73       380\n",
      "    weighted avg       0.73      0.73      0.72       380\n",
      "\n"
     ]
    },
    {
     "name": "stderr",
     "output_type": "stream",
     "text": [
      "Training Epochs: 100%|█████████▉| 1993/2000 [00:39<00:00, 19.30it/s]"
     ]
    },
    {
     "name": "stdout",
     "output_type": "stream",
     "text": [
      "Epoch 1990/2000, Loss: 0.0938\n",
      "Test Accuracy at Epoch 1990: 73.16%\n",
      "Test F1-score at Epoch 1990: 0.7463\n",
      "Classification Report at Epoch 1990:\n",
      "                  precision    recall  f1-score   support\n",
      "\n",
      "    infringement       0.78      0.66      0.72       194\n",
      "non_infringement       0.69      0.81      0.75       186\n",
      "\n",
      "        accuracy                           0.73       380\n",
      "       macro avg       0.74      0.73      0.73       380\n",
      "    weighted avg       0.74      0.73      0.73       380\n",
      "\n"
     ]
    },
    {
     "name": "stderr",
     "output_type": "stream",
     "text": [
      "Training Epochs: 100%|██████████| 2000/2000 [00:39<00:00, 50.69it/s]"
     ]
    },
    {
     "name": "stdout",
     "output_type": "stream",
     "text": [
      "Epoch 2000/2000, Loss: 0.0940\n",
      "Test Accuracy at Epoch 2000: 72.89%\n",
      "Test F1-score at Epoch 2000: 0.7431\n",
      "Classification Report at Epoch 2000:\n",
      "                  precision    recall  f1-score   support\n",
      "\n",
      "    infringement       0.78      0.66      0.71       194\n",
      "non_infringement       0.69      0.80      0.74       186\n",
      "\n",
      "        accuracy                           0.73       380\n",
      "       macro avg       0.73      0.73      0.73       380\n",
      "    weighted avg       0.74      0.73      0.73       380\n",
      "\n"
     ]
    },
    {
     "name": "stderr",
     "output_type": "stream",
     "text": [
      "\n",
      "/tmp/ipykernel_1417155/2033666368.py:59: FutureWarning: You are using `torch.load` with `weights_only=False` (the current default value), which uses the default pickle module implicitly. It is possible to construct malicious pickle data which will execute arbitrary code during unpickling (See https://github.com/pytorch/pytorch/blob/main/SECURITY.md#untrusted-models for more details). In a future release, the default value for `weights_only` will be flipped to `True`. This limits the functions that could be executed during unpickling. Arbitrary objects will no longer be allowed to be loaded via this mode unless they are explicitly allowlisted by the user via `torch.serialization.add_safe_globals`. We recommend you start setting `weights_only=True` for any use case where you don't have full control of the loaded file. Please open an issue on GitHub for any issues related to this experimental feature.\n",
      "  custom_mlp.load_state_dict(torch.load(checkpoint_path))\n"
     ]
    },
    {
     "data": {
      "image/png": "[encoded data removed]",
      "text/plain": [
       "<Figure size 1000x500 with 1 Axes>"
      ]
     },
     "metadata": {},
     "output_type": "display_data"
    },
    {
     "name": "stdout",
     "output_type": "stream",
     "text": [
      "Final Model Accuracy: 76.32%\n",
      "Final Model F1-score: 0.7805\n"
     ]
    }
   ],
   "source": [
    "input_dim = X_train.shape[1]\n",
    "hidden_dim = 256 \n",
    "print(f\"Training MLP model with input_dim={input_dim} and hidden_dim={hidden_dim}\")\n",
    "\n",
    "custom_mlp, losses, best_accuracy, best_f1 = train_model(X_train, y_train, X_test, y_test, input_dim, hidden_dim)"
   ]
  },
  {
   "cell_type": "code",
   "execution_count": null,
   "metadata": {},
   "outputs": [
    {
     "name": "stdout",
     "output_type": "stream",
     "text": [
      "Checkpoint saved to '/home/guangwei/LLM-COPYRIGHT/copyright_newVersion/models/train_input_0_layer.pth'.\n"
     ]
    }
   ],
   "source": [
    "def save_checkpoint(model, optimizer, epoch, loss, filepath):\n",
    "    checkpoint = {\n",
    "        'epoch': epoch + 1,\n",
    "        'model_state_dict': model.state_dict(),\n",
    "        'optimizer_state_dict': optimizer.state_dict(),\n",
    "        'loss': loss\n",
    "    }\n",
    "    torch.save(checkpoint, filepath)\n",
    "    print(f\"Checkpoint saved to '{filepath}'.\")\n",
    "\n",
    "save_checkpoint(custom_mlp, torch.optim.Adam(custom_mlp.parameters()), len(losses), losses[-1], checkpoint_file)"
   ]
  },
  {
   "cell_type": "code",
   "execution_count": null,
   "metadata": {},
   "outputs": [
    {
     "name": "stdout",
     "output_type": "stream",
     "text": [
      "Final Model Accuracy: 78.42%\n",
      "                  precision    recall  f1-score   support\n",
      "\n",
      "    infringement       0.81      0.75      0.78       194\n",
      "non_infringement       0.76      0.82      0.79       186\n",
      "\n",
      "        accuracy                           0.78       380\n",
      "       macro avg       0.79      0.78      0.78       380\n",
      "    weighted avg       0.79      0.78      0.78       380\n",
      "\n"
     ]
    },
    {
     "name": "stderr",
     "output_type": "stream",
     "text": [
      "/tmp/ipykernel_1388865/3740627605.py:2: UserWarning: To copy construct from a tensor, it is recommended to use sourceTensor.clone().detach() or sourceTensor.clone().detach().requires_grad_(True), rather than torch.tensor(sourceTensor).\n",
      "  y_pred_final = (torch.sigmoid(torch.tensor(custom_mlp(torch.tensor(X_test, dtype=torch.float32)))) > 0.5).float().numpy()\n"
     ]
    }
   ],
   "source": [
    "print(f\"Final Model Accuracy: {best_accuracy * 100:.2f}%\")\n",
    "y_pred_final = (torch.sigmoid(torch.tensor(custom_mlp(torch.tensor(X_test, dtype=torch.float32)))) > 0.5).float().numpy()\n",
    "print(classification_report(y_test, y_pred_final, target_names=[\"infringement\", \"non_infringement\"]))"
   ]
  }
 ],
 "metadata": {
  "kernelspec": {
   "display_name": "zdh",
   "language": "python",
   "name": "python3"
  },
  "language_info": {
   "codemirror_mode": {
    "name": "ipython",
    "version": 3
   },
   "file_extension": ".py",
   "mimetype": "text/x-python",
   "name": "python",
   "nbconvert_exporter": "python",
   "pygments_lexer": "ipython3",
   "version": "3.9.20"
  }
 },
 "nbformat": 4,
 "nbformat_minor": 2
}
