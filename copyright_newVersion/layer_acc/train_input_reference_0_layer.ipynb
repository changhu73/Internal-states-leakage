{
 "cells": [
  {
   "cell_type": "code",
   "execution_count": 1,
   "metadata": {},
   "outputs": [
    {
     "name": "stderr",
     "output_type": "stream",
     "text": [
      "/home/guangwei/miniconda3/envs/zdh/lib/python3.12/site-packages/tqdm/auto.py:21: TqdmWarning: IProgress not found. Please update jupyter and ipywidgets. See https://ipywidgets.readthedocs.io/en/stable/user_install.html\n",
      "  from .autonotebook import tqdm as notebook_tqdm\n"
     ]
    }
   ],
   "source": [
    "# import packages & variables\n",
    "import argparse\n",
    "import torch\n",
    "import torch.nn as nn\n",
    "import numpy as np\n",
    "from sklearn.metrics import accuracy_score, classification_report\n",
    "import matplotlib.pyplot as plt\n",
    "from tqdm import tqdm\n",
    "from transformers import AutoTokenizer, AutoModelForCausalLM, AutoModel, AutoModelForSequenceClassification\n",
    "import json\n",
    "import os\n",
    "\n",
    "os.environ[\"CUDA_VISIBLE_DEVICES\"] = \"4\"\n",
    "\n",
    "# Parameters\n",
    "model_name = 'meta-llama/Meta-Llama-3.1-8B'\n",
    "non_infringement_file = '/home/guangwei/LLM-COPYRIGHT/copyright_newVersion/test_division/extra_30.non_infringement.json'\n",
    "infringement_file = '/home/guangwei/LLM-COPYRIGHT/copyright_newVersion/test_division/extra_30.infringement.json'\n",
    "checkpoint_file = '/home/guangwei/LLM-COPYRIGHT/copyright_newVersion/models/train_input_reference_0_layer.pth'\n"
   ]
  },
  {
   "cell_type": "code",
   "execution_count": 2,
   "metadata": {},
   "outputs": [],
   "source": [
    "# Define CustumMLP for internal states train\n",
    "class CustomMLP(nn.Module):\n",
    "    def __init__(self, input_dim, hidden_dim):\n",
    "        super(CustomMLP, self).__init__()\n",
    "        self.down = nn.Linear(input_dim, hidden_dim)\n",
    "        self.gate = nn.Linear(input_dim, hidden_dim)\n",
    "        self.up = nn.Linear(hidden_dim, 1)\n",
    "        self.activation = nn.SiLU()\n",
    "\n",
    "    def forward(self, x):\n",
    "        down_output = self.down(x)\n",
    "        gate_output = self.gate(x)\n",
    "        gated_output = down_output * self.activation(gate_output)\n",
    "        return self.up(gated_output)"
   ]
  },
  {
   "cell_type": "code",
   "execution_count": 3,
   "metadata": {},
   "outputs": [],
   "source": [
    "# Extract hidden states/reference embeddings\n",
    "def extract_hidden_states(texts, model, tokenizer, batch_size=4):\n",
    "    device = torch.device(\"cuda\" if torch.cuda.is_available() else \"cpu\")\n",
    "    model.to(device)\n",
    "    model = nn.DataParallel(model)\n",
    "    hidden_states = []\n",
    "    \n",
    "    for i in tqdm(range(0, len(texts), batch_size), desc=\"Processing data batches\"):\n",
    "        batch_texts = texts[i:i + batch_size]\n",
    "        inputs = tokenizer(batch_texts, return_tensors=\"pt\", padding=True, truncation=True).to(device)\n",
    "        \n",
    "        with torch.no_grad():\n",
    "            outputs = model(**inputs)\n",
    "        hidden_states.append(outputs.hidden_states[0].mean(dim=1).cpu().numpy())\n",
    "    \n",
    "    return np.vstack(hidden_states)\n",
    "\n",
    "\n",
    "def extract_reference_embeddings(references, model, tokenizer, batch_size=4):\n",
    "    device = torch.device(\"cuda\" if torch.cuda.is_available() else \"cpu\")\n",
    "    model.to(device)\n",
    "    model = nn.DataParallel(model)\n",
    "    embeddings = []\n",
    "    for i in tqdm(range(0, len(references), batch_size), desc=\"Processing references\"):\n",
    "        batch_references = references[i:i + batch_size]\n",
    "        inputs = tokenizer(batch_references, return_tensors=\"pt\", padding=True, truncation=True).to(device)\n",
    "        with torch.no_grad():\n",
    "            outputs = model(**inputs)\n",
    "        embeddings.append(outputs.pooler_output.cpu().numpy())\n",
    "    return np.vstack(embeddings)"
   ]
  },
  {
   "cell_type": "code",
   "execution_count": 4,
   "metadata": {},
   "outputs": [],
   "source": [
    "# load data for infringement & non infringement\n",
    "def load_data(non_infringement_file, infringement_file):\n",
    "    with open(non_infringement_file, 'r', encoding='utf-8') as file:\n",
    "        non_infringement_json_data = json.load(file)\n",
    "\n",
    "    non_infringement_outputs = [entry['input'] for entry in non_infringement_json_data]\n",
    "    non_infringement_references = [entry['reference'] for entry in non_infringement_json_data]\n",
    "    y_non_infringement = [1] * len(non_infringement_outputs)\n",
    "\n",
    "    with open(infringement_file, 'r', encoding='utf-8') as file:\n",
    "        infringement_json_data = json.load(file)\n",
    "\n",
    "    infringement_outputs = [entry['input'] for entry in infringement_json_data]\n",
    "    infringement_references = [entry['reference'] for entry in infringement_json_data]\n",
    "    y_infringement = [0] * len(infringement_outputs)\n",
    "\n",
    "    return non_infringement_outputs, non_infringement_references, y_non_infringement, infringement_outputs, infringement_references, y_infringement"
   ]
  },
  {
   "cell_type": "code",
   "execution_count": 5,
   "metadata": {},
   "outputs": [],
   "source": [
    "from sklearn.metrics import accuracy_score, classification_report, f1_score\n",
    "\n",
    "# Train for best model\n",
    "def train_model(X_train, y_train, X_test, y_test, input_dim, hidden_dim, epochs=2000, lr=0.001, checkpoint_path=checkpoint_file):\n",
    "    custom_mlp = CustomMLP(input_dim, hidden_dim)\n",
    "    criterion = nn.BCEWithLogitsLoss()\n",
    "    optimizer = torch.optim.Adam(custom_mlp.parameters(), lr=lr)\n",
    "\n",
    "    X_train_tensor = torch.tensor(X_train, dtype=torch.float32)\n",
    "    y_train_tensor = torch.tensor(y_train, dtype=torch.float32).unsqueeze(1)\n",
    "\n",
    "    best_accuracy = -float('inf')\n",
    "    best_f1 = -float('inf')  # Track best F1-score\n",
    "    best_model_state = None\n",
    "    best_epoch = 0\n",
    "    losses = []\n",
    "\n",
    "    for epoch in tqdm(range(epochs), desc=\"Training Epochs\"):\n",
    "        custom_mlp.train()\n",
    "        optimizer.zero_grad()\n",
    "        outputs = custom_mlp(X_train_tensor)\n",
    "        loss = criterion(outputs, y_train_tensor)\n",
    "        loss.backward()\n",
    "        optimizer.step()\n",
    "        losses.append(loss.item())\n",
    "\n",
    "        # Every 10 epochs, evaluate the model\n",
    "        if (epoch + 1) % 10 == 0:\n",
    "            print(f\"Epoch {epoch + 1}/{epochs}, Loss: {loss.item():.4f}\")\n",
    "            \n",
    "            custom_mlp.eval()\n",
    "            X_test_tensor = torch.tensor(X_test, dtype=torch.float32)\n",
    "            with torch.no_grad():\n",
    "                y_pred_logits = custom_mlp(X_test_tensor)\n",
    "                y_pred = (torch.sigmoid(y_pred_logits) > 0.5).float().numpy()\n",
    "            \n",
    "            # Calculate accuracy and F1-score\n",
    "            accuracy = accuracy_score(y_test, y_pred)\n",
    "            f1 = f1_score(y_test, y_pred)  # F1-score calculation\n",
    "            \n",
    "            print(f\"Test Accuracy at Epoch {epoch + 1}: {accuracy * 100:.2f}%\")\n",
    "            print(f\"Test F1-score at Epoch {epoch + 1}: {f1:.4f}\")\n",
    "            \n",
    "            # Generate classification report\n",
    "            report = classification_report(y_test, y_pred, target_names=[\"infringement\", \"non_infringement\"])\n",
    "            print(f\"Classification Report at Epoch {epoch + 1}:\\n{report}\")\n",
    "\n",
    "            # Save the model if it achieves a better F1-score\n",
    "            if f1 > best_f1:\n",
    "                best_accuracy = accuracy\n",
    "                best_f1 = f1\n",
    "                best_model_state = custom_mlp.state_dict()\n",
    "                best_epoch = epoch + 1\n",
    "                torch.save(best_model_state, checkpoint_path)\n",
    "                print(f\"New best model saved with F1-score {best_f1:.4f} at epoch {best_epoch}\")\n",
    "                print(f\"Best Classification Report at Epoch {best_epoch}:\\n{report}\")\n",
    "\n",
    "    # Load the best model state\n",
    "    custom_mlp.load_state_dict(torch.load(checkpoint_path))\n",
    "\n",
    "    # Plot loss curve\n",
    "    plt.figure(figsize=(10, 5))\n",
    "    plt.plot(losses, label='Training Loss')\n",
    "    plt.xlabel('Epoch')\n",
    "    plt.ylabel('Loss')\n",
    "    plt.title('Training Loss Curve')\n",
    "    plt.legend()\n",
    "    plt.show()\n",
    "\n",
    "    print(f\"Final Model Accuracy: {best_accuracy * 100:.2f}%\")\n",
    "    print(f\"Final Model F1-score: {best_f1:.4f}\")\n",
    "    \n",
    "    return custom_mlp, losses, best_accuracy, best_f1\n"
   ]
  },
  {
   "cell_type": "code",
   "execution_count": 6,
   "metadata": {},
   "outputs": [
    {
     "name": "stderr",
     "output_type": "stream",
     "text": [
      "/home/guangwei/miniconda3/envs/zdh/lib/python3.12/site-packages/transformers/generation/configuration_utils.py:777: UserWarning: `return_dict_in_generate` is NOT set to `True`, but `output_hidden_states` is. When `return_dict_in_generate` is not `True`, `output_hidden_states` is ignored.\n",
      "  warnings.warn(\n",
      "Loading checkpoint shards: 100%|██████████| 4/4 [00:05<00:00,  1.26s/it]\n"
     ]
    }
   ],
   "source": [
    "tokenizer = AutoTokenizer.from_pretrained(model_name, model_max_length=512)\n",
    "model = AutoModelForCausalLM.from_pretrained(model_name, output_hidden_states=True)\n",
    "tokenizer.pad_token = tokenizer.eos_token\n",
    "bert_tokenizer = AutoTokenizer.from_pretrained('google-bert/bert-base-uncased')\n",
    "bert_model = AutoModel.from_pretrained('google-bert/bert-base-uncased')\n",
    "bert_tokenizer.pad_token = tokenizer.eos_token\n",
    "\n",
    "non_infringement_outputs, non_infringement_references, y_non_infringement, infringement_outputs, infringement_references, y_infringement = load_data(\n",
    "    non_infringement_file, infringement_file\n",
    ")\n",
    "\n",
    "y_non_infringement = np.array(y_non_infringement)\n",
    "y_infringement = np.array(y_infringement)\n"
   ]
  },
  {
   "cell_type": "code",
   "execution_count": 7,
   "metadata": {},
   "outputs": [
    {
     "name": "stdout",
     "output_type": "stream",
     "text": [
      "Extracting hidden states for non_infringement texts...\n"
     ]
    },
    {
     "name": "stderr",
     "output_type": "stream",
     "text": [
      "Processing data batches:   0%|          | 0/232 [00:00<?, ?it/s]Starting from v4.46, the `logits` model output will have the same type as the model (except at train time, where it will always be FP32)\n",
      "Processing data batches: 100%|██████████| 232/232 [01:05<00:00,  3.53it/s]\n"
     ]
    },
    {
     "name": "stdout",
     "output_type": "stream",
     "text": [
      "Extracting reference embeddings for non_infringement texts...\n"
     ]
    },
    {
     "name": "stderr",
     "output_type": "stream",
     "text": [
      "Processing references: 100%|██████████| 232/232 [00:05<00:00, 44.71it/s]\n"
     ]
    },
    {
     "name": "stdout",
     "output_type": "stream",
     "text": [
      "Extracting hidden states for infringement texts...\n"
     ]
    },
    {
     "name": "stderr",
     "output_type": "stream",
     "text": [
      "Processing data batches: 100%|██████████| 243/243 [01:37<00:00,  2.50it/s]\n"
     ]
    },
    {
     "name": "stdout",
     "output_type": "stream",
     "text": [
      "Extracting reference embeddings for infringement texts...\n"
     ]
    },
    {
     "name": "stderr",
     "output_type": "stream",
     "text": [
      "Processing references: 100%|██████████| 243/243 [00:03<00:00, 77.66it/s]\n"
     ]
    }
   ],
   "source": [
    "print(\"Extracting hidden states for non_infringement texts...\")\n",
    "X_non_infringement = extract_hidden_states(non_infringement_outputs, model, tokenizer)\n",
    "print(\"Extracting reference embeddings for non_infringement texts...\")\n",
    "reference_embeddings_non_infringement = extract_reference_embeddings(non_infringement_references, bert_model, bert_tokenizer)\n",
    "X_non_infringement_combined = np.hstack([X_non_infringement, reference_embeddings_non_infringement])\n",
    "\n",
    "print(\"Extracting hidden states for infringement texts...\")\n",
    "X_infringement = extract_hidden_states(infringement_outputs, model, tokenizer)\n",
    "print(\"Extracting reference embeddings for infringement texts...\")\n",
    "reference_embeddings_infringement = extract_reference_embeddings(infringement_references, bert_model, bert_tokenizer)\n",
    "X_infringement_combined = np.hstack([X_infringement, reference_embeddings_infringement])"
   ]
  },
  {
   "cell_type": "code",
   "execution_count": 8,
   "metadata": {},
   "outputs": [
    {
     "name": "stdout",
     "output_type": "stream",
     "text": [
      "Data successfully split into training and test sets.\n"
     ]
    }
   ],
   "source": [
    "split_index_non_infringement = int(0.8 * len(X_non_infringement_combined))\n",
    "X_non_infringement_train = X_non_infringement_combined[:split_index_non_infringement]\n",
    "X_non_infringement_test = X_non_infringement_combined[split_index_non_infringement:]\n",
    "y_non_infringement_train = y_non_infringement[:split_index_non_infringement]\n",
    "y_non_infringement_test = y_non_infringement[split_index_non_infringement:]\n",
    "\n",
    "split_index_infringement = int(0.8 * len(X_infringement_combined))\n",
    "X_infringement_train = X_infringement_combined[:split_index_infringement]\n",
    "X_infringement_test = X_infringement_combined[split_index_infringement:]\n",
    "y_infringement_train = y_infringement[:split_index_infringement]\n",
    "y_infringement_test = y_infringement[split_index_infringement:]\n",
    "\n",
    "X_train = np.vstack((X_non_infringement_train, X_infringement_train))\n",
    "X_test = np.vstack((X_non_infringement_test, X_infringement_test))\n",
    "y_train = np.concatenate((y_non_infringement_train, y_infringement_train))\n",
    "y_test = np.concatenate((y_non_infringement_test, y_infringement_test))\n",
    "\n",
    "print(\"Data successfully split into training and test sets.\")"
   ]
  },
  {
   "cell_type": "code",
   "execution_count": 9,
   "metadata": {},
   "outputs": [
    {
     "name": "stdout",
     "output_type": "stream",
     "text": [
      "Training MLP model with input_dim=4864 and hidden_dim=256\n"
     ]
    },
    {
     "name": "stderr",
     "output_type": "stream",
     "text": [
      "Training Epochs:   1%|          | 11/2000 [00:05<12:33,  2.64it/s]"
     ]
    },
    {
     "name": "stdout",
     "output_type": "stream",
     "text": [
      "Epoch 10/2000, Loss: 0.6743\n",
      "Test Accuracy at Epoch 10: 63.16%\n",
      "Test F1-score at Epoch 10: 0.6045\n",
      "Classification Report at Epoch 10:\n",
      "                  precision    recall  f1-score   support\n",
      "\n",
      "    infringement       0.63      0.69      0.66       194\n",
      "non_infringement       0.64      0.58      0.60       186\n",
      "\n",
      "        accuracy                           0.63       380\n",
      "       macro avg       0.63      0.63      0.63       380\n",
      "    weighted avg       0.63      0.63      0.63       380\n",
      "\n",
      "New best model saved with F1-score 0.6045 at epoch 10\n",
      "Best Classification Report at Epoch 10:\n",
      "                  precision    recall  f1-score   support\n",
      "\n",
      "    infringement       0.63      0.69      0.66       194\n",
      "non_infringement       0.64      0.58      0.60       186\n",
      "\n",
      "        accuracy                           0.63       380\n",
      "       macro avg       0.63      0.63      0.63       380\n",
      "    weighted avg       0.63      0.63      0.63       380\n",
      "\n"
     ]
    },
    {
     "name": "stderr",
     "output_type": "stream",
     "text": [
      "Training Epochs:   1%|          | 20/2000 [00:08<08:58,  3.67it/s]"
     ]
    },
    {
     "name": "stdout",
     "output_type": "stream",
     "text": [
      "Epoch 20/2000, Loss: 0.6464\n",
      "Test Accuracy at Epoch 20: 61.32%\n",
      "Test F1-score at Epoch 20: 0.6697\n",
      "Classification Report at Epoch 20:\n",
      "                  precision    recall  f1-score   support\n",
      "\n",
      "    infringement       0.69      0.43      0.53       194\n",
      "non_infringement       0.58      0.80      0.67       186\n",
      "\n",
      "        accuracy                           0.61       380\n",
      "       macro avg       0.63      0.62      0.60       380\n",
      "    weighted avg       0.64      0.61      0.60       380\n",
      "\n",
      "New best model saved with F1-score 0.6697 at epoch 20\n",
      "Best Classification Report at Epoch 20:\n",
      "                  precision    recall  f1-score   support\n",
      "\n",
      "    infringement       0.69      0.43      0.53       194\n",
      "non_infringement       0.58      0.80      0.67       186\n",
      "\n",
      "        accuracy                           0.61       380\n",
      "       macro avg       0.63      0.62      0.60       380\n",
      "    weighted avg       0.64      0.61      0.60       380\n",
      "\n"
     ]
    },
    {
     "name": "stderr",
     "output_type": "stream",
     "text": [
      "Training Epochs:   2%|▏         | 30/2000 [00:10<07:20,  4.47it/s]"
     ]
    },
    {
     "name": "stdout",
     "output_type": "stream",
     "text": [
      "Epoch 30/2000, Loss: 0.5913\n",
      "Test Accuracy at Epoch 30: 61.32%\n",
      "Test F1-score at Epoch 30: 0.6711\n",
      "Classification Report at Epoch 30:\n",
      "                  precision    recall  f1-score   support\n",
      "\n",
      "    infringement       0.70      0.43      0.53       194\n",
      "non_infringement       0.57      0.81      0.67       186\n",
      "\n",
      "        accuracy                           0.61       380\n",
      "       macro avg       0.64      0.62      0.60       380\n",
      "    weighted avg       0.64      0.61      0.60       380\n",
      "\n",
      "New best model saved with F1-score 0.6711 at epoch 30\n",
      "Best Classification Report at Epoch 30:\n",
      "                  precision    recall  f1-score   support\n",
      "\n",
      "    infringement       0.70      0.43      0.53       194\n",
      "non_infringement       0.57      0.81      0.67       186\n",
      "\n",
      "        accuracy                           0.61       380\n",
      "       macro avg       0.64      0.62      0.60       380\n",
      "    weighted avg       0.64      0.61      0.60       380\n",
      "\n"
     ]
    },
    {
     "name": "stderr",
     "output_type": "stream",
     "text": [
      "Training Epochs:   2%|▏         | 41/2000 [00:12<04:21,  7.49it/s]"
     ]
    },
    {
     "name": "stdout",
     "output_type": "stream",
     "text": [
      "Epoch 40/2000, Loss: 0.5521\n",
      "Test Accuracy at Epoch 40: 73.68%\n",
      "Test F1-score at Epoch 40: 0.7512\n",
      "Classification Report at Epoch 40:\n",
      "                  precision    recall  f1-score   support\n",
      "\n",
      "    infringement       0.79      0.66      0.72       194\n",
      "non_infringement       0.70      0.81      0.75       186\n",
      "\n",
      "        accuracy                           0.74       380\n",
      "       macro avg       0.74      0.74      0.74       380\n",
      "    weighted avg       0.74      0.74      0.74       380\n",
      "\n",
      "New best model saved with F1-score 0.7512 at epoch 40\n",
      "Best Classification Report at Epoch 40:\n",
      "                  precision    recall  f1-score   support\n",
      "\n",
      "    infringement       0.79      0.66      0.72       194\n",
      "non_infringement       0.70      0.81      0.75       186\n",
      "\n",
      "        accuracy                           0.74       380\n",
      "       macro avg       0.74      0.74      0.74       380\n",
      "    weighted avg       0.74      0.74      0.74       380\n",
      "\n"
     ]
    },
    {
     "name": "stderr",
     "output_type": "stream",
     "text": [
      "Training Epochs:   2%|▎         | 50/2000 [00:15<14:57,  2.17it/s]"
     ]
    },
    {
     "name": "stdout",
     "output_type": "stream",
     "text": [
      "Epoch 50/2000, Loss: 0.5209\n",
      "Test Accuracy at Epoch 50: 66.05%\n",
      "Test F1-score at Epoch 50: 0.7165\n",
      "Classification Report at Epoch 50:\n",
      "                  precision    recall  f1-score   support\n",
      "\n",
      "    infringement       0.79      0.45      0.58       194\n",
      "non_infringement       0.61      0.88      0.72       186\n",
      "\n",
      "        accuracy                           0.66       380\n",
      "       macro avg       0.70      0.66      0.65       380\n",
      "    weighted avg       0.70      0.66      0.65       380\n",
      "\n"
     ]
    },
    {
     "name": "stderr",
     "output_type": "stream",
     "text": [
      "Training Epochs:   3%|▎         | 59/2000 [00:20<17:45,  1.82it/s]"
     ]
    },
    {
     "name": "stdout",
     "output_type": "stream",
     "text": [
      "Epoch 60/2000, Loss: 0.4980\n",
      "Test Accuracy at Epoch 60: 75.00%\n",
      "Test F1-score at Epoch 60: 0.7689\n",
      "Classification Report at Epoch 60:\n",
      "                  precision    recall  f1-score   support\n",
      "\n",
      "    infringement       0.82      0.65      0.73       194\n",
      "non_infringement       0.70      0.85      0.77       186\n",
      "\n",
      "        accuracy                           0.75       380\n",
      "       macro avg       0.76      0.75      0.75       380\n",
      "    weighted avg       0.76      0.75      0.75       380\n",
      "\n"
     ]
    },
    {
     "name": "stderr",
     "output_type": "stream",
     "text": [
      "Training Epochs:   3%|▎         | 60/2000 [00:20<20:04,  1.61it/s]"
     ]
    },
    {
     "name": "stdout",
     "output_type": "stream",
     "text": [
      "New best model saved with F1-score 0.7689 at epoch 60\n",
      "Best Classification Report at Epoch 60:\n",
      "                  precision    recall  f1-score   support\n",
      "\n",
      "    infringement       0.82      0.65      0.73       194\n",
      "non_infringement       0.70      0.85      0.77       186\n",
      "\n",
      "        accuracy                           0.75       380\n",
      "       macro avg       0.76      0.75      0.75       380\n",
      "    weighted avg       0.76      0.75      0.75       380\n",
      "\n"
     ]
    },
    {
     "name": "stderr",
     "output_type": "stream",
     "text": [
      "Training Epochs:   3%|▎         | 69/2000 [00:25<16:56,  1.90it/s]"
     ]
    },
    {
     "name": "stdout",
     "output_type": "stream",
     "text": [
      "Epoch 70/2000, Loss: 0.4525\n",
      "Test Accuracy at Epoch 70: 77.89%\n",
      "Test F1-score at Epoch 70: 0.7846\n",
      "Classification Report at Epoch 70:\n",
      "                  precision    recall  f1-score   support\n",
      "\n",
      "    infringement       0.81      0.74      0.77       194\n",
      "non_infringement       0.75      0.82      0.78       186\n",
      "\n",
      "        accuracy                           0.78       380\n",
      "       macro avg       0.78      0.78      0.78       380\n",
      "    weighted avg       0.78      0.78      0.78       380\n",
      "\n"
     ]
    },
    {
     "name": "stderr",
     "output_type": "stream",
     "text": [
      "Training Epochs:   4%|▎         | 70/2000 [00:26<19:01,  1.69it/s]"
     ]
    },
    {
     "name": "stdout",
     "output_type": "stream",
     "text": [
      "New best model saved with F1-score 0.7846 at epoch 70\n",
      "Best Classification Report at Epoch 70:\n",
      "                  precision    recall  f1-score   support\n",
      "\n",
      "    infringement       0.81      0.74      0.77       194\n",
      "non_infringement       0.75      0.82      0.78       186\n",
      "\n",
      "        accuracy                           0.78       380\n",
      "       macro avg       0.78      0.78      0.78       380\n",
      "    weighted avg       0.78      0.78      0.78       380\n",
      "\n"
     ]
    },
    {
     "name": "stderr",
     "output_type": "stream",
     "text": [
      "Training Epochs:   4%|▍         | 80/2000 [00:29<09:07,  3.51it/s]"
     ]
    },
    {
     "name": "stdout",
     "output_type": "stream",
     "text": [
      "Epoch 80/2000, Loss: 0.4078\n",
      "Test Accuracy at Epoch 80: 78.16%\n",
      "Test F1-score at Epoch 80: 0.7981\n",
      "Classification Report at Epoch 80:\n",
      "                  precision    recall  f1-score   support\n",
      "\n",
      "    infringement       0.86      0.69      0.76       194\n",
      "non_infringement       0.73      0.88      0.80       186\n",
      "\n",
      "        accuracy                           0.78       380\n",
      "       macro avg       0.79      0.78      0.78       380\n",
      "    weighted avg       0.79      0.78      0.78       380\n",
      "\n",
      "New best model saved with F1-score 0.7981 at epoch 80\n",
      "Best Classification Report at Epoch 80:\n",
      "                  precision    recall  f1-score   support\n",
      "\n",
      "    infringement       0.86      0.69      0.76       194\n",
      "non_infringement       0.73      0.88      0.80       186\n",
      "\n",
      "        accuracy                           0.78       380\n",
      "       macro avg       0.79      0.78      0.78       380\n",
      "    weighted avg       0.79      0.78      0.78       380\n",
      "\n"
     ]
    },
    {
     "name": "stderr",
     "output_type": "stream",
     "text": [
      "Training Epochs:   4%|▍         | 90/2000 [00:32<10:24,  3.06it/s]"
     ]
    },
    {
     "name": "stdout",
     "output_type": "stream",
     "text": [
      "Epoch 90/2000, Loss: 0.4106\n",
      "Test Accuracy at Epoch 90: 63.68%\n",
      "Test F1-score at Epoch 90: 0.7125\n",
      "Classification Report at Epoch 90:\n",
      "                  precision    recall  f1-score   support\n",
      "\n",
      "    infringement       0.83      0.37      0.51       194\n",
      "non_infringement       0.58      0.92      0.71       186\n",
      "\n",
      "        accuracy                           0.64       380\n",
      "       macro avg       0.70      0.64      0.61       380\n",
      "    weighted avg       0.71      0.64      0.61       380\n",
      "\n"
     ]
    },
    {
     "name": "stderr",
     "output_type": "stream",
     "text": [
      "Training Epochs:   5%|▌         | 100/2000 [00:35<09:25,  3.36it/s]"
     ]
    },
    {
     "name": "stdout",
     "output_type": "stream",
     "text": [
      "Epoch 100/2000, Loss: 0.3610\n",
      "Test Accuracy at Epoch 100: 74.74%\n",
      "Test F1-score at Epoch 100: 0.7808\n",
      "Classification Report at Epoch 100:\n",
      "                  precision    recall  f1-score   support\n",
      "\n",
      "    infringement       0.88      0.58      0.70       194\n",
      "non_infringement       0.68      0.92      0.78       186\n",
      "\n",
      "        accuracy                           0.75       380\n",
      "       macro avg       0.78      0.75      0.74       380\n",
      "    weighted avg       0.78      0.75      0.74       380\n",
      "\n"
     ]
    },
    {
     "name": "stderr",
     "output_type": "stream",
     "text": [
      "Training Epochs:   6%|▌         | 110/2000 [00:40<16:32,  1.90it/s]"
     ]
    },
    {
     "name": "stdout",
     "output_type": "stream",
     "text": [
      "Epoch 110/2000, Loss: 0.3599\n",
      "Test Accuracy at Epoch 110: 79.21%\n",
      "Test F1-score at Epoch 110: 0.7948\n",
      "Classification Report at Epoch 110:\n",
      "                  precision    recall  f1-score   support\n",
      "\n",
      "    infringement       0.82      0.76      0.79       194\n",
      "non_infringement       0.77      0.82      0.79       186\n",
      "\n",
      "        accuracy                           0.79       380\n",
      "       macro avg       0.79      0.79      0.79       380\n",
      "    weighted avg       0.79      0.79      0.79       380\n",
      "\n"
     ]
    },
    {
     "name": "stderr",
     "output_type": "stream",
     "text": [
      "Training Epochs:   6%|▌         | 120/2000 [00:45<16:07,  1.94it/s]"
     ]
    },
    {
     "name": "stdout",
     "output_type": "stream",
     "text": [
      "Epoch 120/2000, Loss: 0.3634\n",
      "Test Accuracy at Epoch 120: 68.16%\n",
      "Test F1-score at Epoch 120: 0.7420\n",
      "Classification Report at Epoch 120:\n",
      "                  precision    recall  f1-score   support\n",
      "\n",
      "    infringement       0.88      0.44      0.58       194\n",
      "non_infringement       0.61      0.94      0.74       186\n",
      "\n",
      "        accuracy                           0.68       380\n",
      "       macro avg       0.75      0.69      0.66       380\n",
      "    weighted avg       0.75      0.68      0.66       380\n",
      "\n"
     ]
    },
    {
     "name": "stderr",
     "output_type": "stream",
     "text": [
      "Training Epochs:   6%|▋         | 130/2000 [00:48<08:19,  3.74it/s]"
     ]
    },
    {
     "name": "stdout",
     "output_type": "stream",
     "text": [
      "Epoch 130/2000, Loss: 0.3284\n",
      "Test Accuracy at Epoch 130: 79.47%\n",
      "Test F1-score at Epoch 130: 0.8040\n",
      "Classification Report at Epoch 130:\n",
      "                  precision    recall  f1-score   support\n",
      "\n",
      "    infringement       0.85      0.73      0.78       194\n",
      "non_infringement       0.75      0.86      0.80       186\n",
      "\n",
      "        accuracy                           0.79       380\n",
      "       macro avg       0.80      0.80      0.79       380\n",
      "    weighted avg       0.80      0.79      0.79       380\n",
      "\n",
      "New best model saved with F1-score 0.8040 at epoch 130\n",
      "Best Classification Report at Epoch 130:\n",
      "                  precision    recall  f1-score   support\n",
      "\n",
      "    infringement       0.85      0.73      0.78       194\n",
      "non_infringement       0.75      0.86      0.80       186\n",
      "\n",
      "        accuracy                           0.79       380\n",
      "       macro avg       0.80      0.80      0.79       380\n",
      "    weighted avg       0.80      0.79      0.79       380\n",
      "\n"
     ]
    },
    {
     "name": "stderr",
     "output_type": "stream",
     "text": [
      "Training Epochs:   7%|▋         | 140/2000 [00:50<05:31,  5.62it/s]"
     ]
    },
    {
     "name": "stdout",
     "output_type": "stream",
     "text": [
      "Epoch 140/2000, Loss: 0.3387\n",
      "Test Accuracy at Epoch 140: 71.58%\n",
      "Test F1-score at Epoch 140: 0.7600\n",
      "Classification Report at Epoch 140:\n",
      "                  precision    recall  f1-score   support\n",
      "\n",
      "    infringement       0.87      0.52      0.65       194\n",
      "non_infringement       0.65      0.92      0.76       186\n",
      "\n",
      "        accuracy                           0.72       380\n",
      "       macro avg       0.76      0.72      0.71       380\n",
      "    weighted avg       0.76      0.72      0.70       380\n",
      "\n"
     ]
    },
    {
     "name": "stderr",
     "output_type": "stream",
     "text": [
      "Training Epochs:   8%|▊         | 150/2000 [00:51<04:34,  6.74it/s]"
     ]
    },
    {
     "name": "stdout",
     "output_type": "stream",
     "text": [
      "Epoch 150/2000, Loss: 0.3101\n",
      "Test Accuracy at Epoch 150: 71.58%\n",
      "Test F1-score at Epoch 150: 0.7600\n",
      "Classification Report at Epoch 150:\n",
      "                  precision    recall  f1-score   support\n",
      "\n",
      "    infringement       0.87      0.52      0.65       194\n",
      "non_infringement       0.65      0.92      0.76       186\n",
      "\n",
      "        accuracy                           0.72       380\n",
      "       macro avg       0.76      0.72      0.71       380\n",
      "    weighted avg       0.76      0.72      0.70       380\n",
      "\n"
     ]
    },
    {
     "name": "stderr",
     "output_type": "stream",
     "text": [
      "Training Epochs:   8%|▊         | 160/2000 [00:53<06:31,  4.69it/s]"
     ]
    },
    {
     "name": "stdout",
     "output_type": "stream",
     "text": [
      "Epoch 160/2000, Loss: 0.2868\n",
      "Test Accuracy at Epoch 160: 79.21%\n",
      "Test F1-score at Epoch 160: 0.8049\n",
      "Classification Report at Epoch 160:\n",
      "                  precision    recall  f1-score   support\n",
      "\n",
      "    infringement       0.86      0.71      0.78       194\n",
      "non_infringement       0.74      0.88      0.80       186\n",
      "\n",
      "        accuracy                           0.79       380\n",
      "       macro avg       0.80      0.79      0.79       380\n",
      "    weighted avg       0.80      0.79      0.79       380\n",
      "\n",
      "New best model saved with F1-score 0.8049 at epoch 160\n",
      "Best Classification Report at Epoch 160:\n",
      "                  precision    recall  f1-score   support\n",
      "\n",
      "    infringement       0.86      0.71      0.78       194\n",
      "non_infringement       0.74      0.88      0.80       186\n",
      "\n",
      "        accuracy                           0.79       380\n",
      "       macro avg       0.80      0.79      0.79       380\n",
      "    weighted avg       0.80      0.79      0.79       380\n",
      "\n"
     ]
    },
    {
     "name": "stderr",
     "output_type": "stream",
     "text": [
      "Training Epochs:   9%|▊         | 171/2000 [00:55<04:26,  6.86it/s]"
     ]
    },
    {
     "name": "stdout",
     "output_type": "stream",
     "text": [
      "Epoch 170/2000, Loss: 0.5028\n",
      "Test Accuracy at Epoch 170: 60.79%\n",
      "Test F1-score at Epoch 170: 0.7107\n",
      "Classification Report at Epoch 170:\n",
      "                  precision    recall  f1-score   support\n",
      "\n",
      "    infringement       0.94      0.25      0.39       194\n",
      "non_infringement       0.56      0.98      0.71       186\n",
      "\n",
      "        accuracy                           0.61       380\n",
      "       macro avg       0.75      0.62      0.55       380\n",
      "    weighted avg       0.75      0.61      0.55       380\n",
      "\n"
     ]
    },
    {
     "name": "stderr",
     "output_type": "stream",
     "text": [
      "Training Epochs:   9%|▉         | 181/2000 [00:56<04:29,  6.76it/s]"
     ]
    },
    {
     "name": "stdout",
     "output_type": "stream",
     "text": [
      "Epoch 180/2000, Loss: 0.2804\n",
      "Test Accuracy at Epoch 180: 66.84%\n",
      "Test F1-score at Epoch 180: 0.7429\n",
      "Classification Report at Epoch 180:\n",
      "                  precision    recall  f1-score   support\n",
      "\n",
      "    infringement       0.95      0.37      0.53       194\n",
      "non_infringement       0.60      0.98      0.74       186\n",
      "\n",
      "        accuracy                           0.67       380\n",
      "       macro avg       0.77      0.67      0.64       380\n",
      "    weighted avg       0.78      0.67      0.64       380\n",
      "\n"
     ]
    },
    {
     "name": "stderr",
     "output_type": "stream",
     "text": [
      "Training Epochs:  10%|▉         | 191/2000 [00:58<03:45,  8.02it/s]"
     ]
    },
    {
     "name": "stdout",
     "output_type": "stream",
     "text": [
      "Epoch 190/2000, Loss: 0.2756\n",
      "Test Accuracy at Epoch 190: 79.47%\n",
      "Test F1-score at Epoch 190: 0.8000\n",
      "Classification Report at Epoch 190:\n",
      "                  precision    recall  f1-score   support\n",
      "\n",
      "    infringement       0.83      0.75      0.79       194\n",
      "non_infringement       0.76      0.84      0.80       186\n",
      "\n",
      "        accuracy                           0.79       380\n",
      "       macro avg       0.80      0.80      0.79       380\n",
      "    weighted avg       0.80      0.79      0.79       380\n",
      "\n"
     ]
    },
    {
     "name": "stderr",
     "output_type": "stream",
     "text": [
      "Training Epochs:  10%|█         | 202/2000 [00:59<03:09,  9.47it/s]"
     ]
    },
    {
     "name": "stdout",
     "output_type": "stream",
     "text": [
      "Epoch 200/2000, Loss: 0.2741\n",
      "Test Accuracy at Epoch 200: 71.84%\n",
      "Test F1-score at Epoch 200: 0.7679\n",
      "Classification Report at Epoch 200:\n",
      "                  precision    recall  f1-score   support\n",
      "\n",
      "    infringement       0.91      0.49      0.64       194\n",
      "non_infringement       0.64      0.95      0.77       186\n",
      "\n",
      "        accuracy                           0.72       380\n",
      "       macro avg       0.78      0.72      0.71       380\n",
      "    weighted avg       0.78      0.72      0.70       380\n",
      "\n"
     ]
    },
    {
     "name": "stderr",
     "output_type": "stream",
     "text": [
      "Training Epochs:  10%|█         | 210/2000 [01:01<08:41,  3.43it/s]"
     ]
    },
    {
     "name": "stdout",
     "output_type": "stream",
     "text": [
      "Epoch 210/2000, Loss: 0.2643\n",
      "Test Accuracy at Epoch 210: 78.95%\n",
      "Test F1-score at Epoch 210: 0.8058\n",
      "Classification Report at Epoch 210:\n",
      "                  precision    recall  f1-score   support\n",
      "\n",
      "    infringement       0.87      0.69      0.77       194\n",
      "non_infringement       0.73      0.89      0.81       186\n",
      "\n",
      "        accuracy                           0.79       380\n",
      "       macro avg       0.80      0.79      0.79       380\n",
      "    weighted avg       0.80      0.79      0.79       380\n",
      "\n",
      "New best model saved with F1-score 0.8058 at epoch 210\n",
      "Best Classification Report at Epoch 210:\n",
      "                  precision    recall  f1-score   support\n",
      "\n",
      "    infringement       0.87      0.69      0.77       194\n",
      "non_infringement       0.73      0.89      0.81       186\n",
      "\n",
      "        accuracy                           0.79       380\n",
      "       macro avg       0.80      0.79      0.79       380\n",
      "    weighted avg       0.80      0.79      0.79       380\n",
      "\n"
     ]
    },
    {
     "name": "stderr",
     "output_type": "stream",
     "text": [
      "Training Epochs:  11%|█         | 220/2000 [01:05<09:55,  2.99it/s]"
     ]
    },
    {
     "name": "stdout",
     "output_type": "stream",
     "text": [
      "Epoch 220/2000, Loss: 0.2547\n",
      "Test Accuracy at Epoch 220: 79.47%\n",
      "Test F1-score at Epoch 220: 0.8116\n",
      "Classification Report at Epoch 220:\n",
      "                  precision    recall  f1-score   support\n",
      "\n",
      "    infringement       0.88      0.69      0.77       194\n",
      "non_infringement       0.74      0.90      0.81       186\n",
      "\n",
      "        accuracy                           0.79       380\n",
      "       macro avg       0.81      0.80      0.79       380\n",
      "    weighted avg       0.81      0.79      0.79       380\n",
      "\n",
      "New best model saved with F1-score 0.8116 at epoch 220\n",
      "Best Classification Report at Epoch 220:\n",
      "                  precision    recall  f1-score   support\n",
      "\n",
      "    infringement       0.88      0.69      0.77       194\n",
      "non_infringement       0.74      0.90      0.81       186\n",
      "\n",
      "        accuracy                           0.79       380\n",
      "       macro avg       0.81      0.80      0.79       380\n",
      "    weighted avg       0.81      0.79      0.79       380\n",
      "\n"
     ]
    },
    {
     "name": "stderr",
     "output_type": "stream",
     "text": [
      "Training Epochs:  12%|█▏        | 230/2000 [01:07<10:38,  2.77it/s]"
     ]
    },
    {
     "name": "stdout",
     "output_type": "stream",
     "text": [
      "Epoch 230/2000, Loss: 0.2455\n",
      "Test Accuracy at Epoch 230: 80.53%\n",
      "Test F1-score at Epoch 230: 0.8255\n",
      "Classification Report at Epoch 230:\n",
      "                  precision    recall  f1-score   support\n",
      "\n",
      "    infringement       0.92      0.68      0.78       194\n",
      "non_infringement       0.74      0.94      0.83       186\n",
      "\n",
      "        accuracy                           0.81       380\n",
      "       macro avg       0.83      0.81      0.80       380\n",
      "    weighted avg       0.83      0.81      0.80       380\n",
      "\n",
      "New best model saved with F1-score 0.8255 at epoch 230\n",
      "Best Classification Report at Epoch 230:\n",
      "                  precision    recall  f1-score   support\n",
      "\n",
      "    infringement       0.92      0.68      0.78       194\n",
      "non_infringement       0.74      0.94      0.83       186\n",
      "\n",
      "        accuracy                           0.81       380\n",
      "       macro avg       0.83      0.81      0.80       380\n",
      "    weighted avg       0.83      0.81      0.80       380\n",
      "\n"
     ]
    },
    {
     "name": "stderr",
     "output_type": "stream",
     "text": [
      "Training Epochs:  12%|█▏        | 240/2000 [01:11<10:46,  2.72it/s]"
     ]
    },
    {
     "name": "stdout",
     "output_type": "stream",
     "text": [
      "Epoch 240/2000, Loss: 0.2390\n",
      "Test Accuracy at Epoch 240: 79.74%\n",
      "Test F1-score at Epoch 240: 0.8136\n",
      "Classification Report at Epoch 240:\n",
      "                  precision    recall  f1-score   support\n",
      "\n",
      "    infringement       0.88      0.70      0.78       194\n",
      "non_infringement       0.74      0.90      0.81       186\n",
      "\n",
      "        accuracy                           0.80       380\n",
      "       macro avg       0.81      0.80      0.80       380\n",
      "    weighted avg       0.81      0.80      0.80       380\n",
      "\n"
     ]
    },
    {
     "name": "stderr",
     "output_type": "stream",
     "text": [
      "Training Epochs:  12%|█▎        | 250/2000 [01:13<09:14,  3.16it/s]"
     ]
    },
    {
     "name": "stdout",
     "output_type": "stream",
     "text": [
      "Epoch 250/2000, Loss: 0.2639\n",
      "Test Accuracy at Epoch 250: 70.26%\n",
      "Test F1-score at Epoch 250: 0.7601\n",
      "Classification Report at Epoch 250:\n",
      "                  precision    recall  f1-score   support\n",
      "\n",
      "    infringement       0.93      0.45      0.61       194\n",
      "non_infringement       0.63      0.96      0.76       186\n",
      "\n",
      "        accuracy                           0.70       380\n",
      "       macro avg       0.78      0.71      0.68       380\n",
      "    weighted avg       0.78      0.70      0.68       380\n",
      "\n"
     ]
    },
    {
     "name": "stderr",
     "output_type": "stream",
     "text": [
      "Training Epochs:  13%|█▎        | 260/2000 [01:16<04:35,  6.32it/s]"
     ]
    },
    {
     "name": "stdout",
     "output_type": "stream",
     "text": [
      "Epoch 260/2000, Loss: 0.2308\n",
      "Test Accuracy at Epoch 260: 81.32%\n",
      "Test F1-score at Epoch 260: 0.8305\n",
      "Classification Report at Epoch 260:\n",
      "                  precision    recall  f1-score   support\n",
      "\n",
      "    infringement       0.92      0.70      0.79       194\n",
      "non_infringement       0.75      0.94      0.83       186\n",
      "\n",
      "        accuracy                           0.81       380\n",
      "       macro avg       0.83      0.82      0.81       380\n",
      "    weighted avg       0.83      0.81      0.81       380\n",
      "\n",
      "New best model saved with F1-score 0.8305 at epoch 260\n",
      "Best Classification Report at Epoch 260:\n",
      "                  precision    recall  f1-score   support\n",
      "\n",
      "    infringement       0.92      0.70      0.79       194\n",
      "non_infringement       0.75      0.94      0.83       186\n",
      "\n",
      "        accuracy                           0.81       380\n",
      "       macro avg       0.83      0.82      0.81       380\n",
      "    weighted avg       0.83      0.81      0.81       380\n",
      "\n"
     ]
    },
    {
     "name": "stderr",
     "output_type": "stream",
     "text": [
      "Training Epochs:  14%|█▎        | 270/2000 [01:21<15:58,  1.80it/s]"
     ]
    },
    {
     "name": "stdout",
     "output_type": "stream",
     "text": [
      "Epoch 270/2000, Loss: 0.2257\n",
      "Test Accuracy at Epoch 270: 81.32%\n",
      "Test F1-score at Epoch 270: 0.8305\n",
      "Classification Report at Epoch 270:\n",
      "                  precision    recall  f1-score   support\n",
      "\n",
      "    infringement       0.92      0.70      0.79       194\n",
      "non_infringement       0.75      0.94      0.83       186\n",
      "\n",
      "        accuracy                           0.81       380\n",
      "       macro avg       0.83      0.82      0.81       380\n",
      "    weighted avg       0.83      0.81      0.81       380\n",
      "\n"
     ]
    },
    {
     "name": "stderr",
     "output_type": "stream",
     "text": [
      "Training Epochs:  14%|█▍        | 280/2000 [01:23<04:45,  6.03it/s]"
     ]
    },
    {
     "name": "stdout",
     "output_type": "stream",
     "text": [
      "Epoch 280/2000, Loss: 0.2207\n",
      "Test Accuracy at Epoch 280: 72.63%\n",
      "Test F1-score at Epoch 280: 0.7719\n",
      "Classification Report at Epoch 280:\n",
      "                  precision    recall  f1-score   support\n",
      "\n",
      "    infringement       0.91      0.52      0.66       194\n",
      "non_infringement       0.65      0.95      0.77       186\n",
      "\n",
      "        accuracy                           0.73       380\n",
      "       macro avg       0.78      0.73      0.71       380\n",
      "    weighted avg       0.78      0.73      0.71       380\n",
      "\n"
     ]
    },
    {
     "name": "stderr",
     "output_type": "stream",
     "text": [
      "Training Epochs:  15%|█▍        | 291/2000 [01:25<05:06,  5.57it/s]"
     ]
    },
    {
     "name": "stdout",
     "output_type": "stream",
     "text": [
      "Epoch 290/2000, Loss: 0.2594\n",
      "Test Accuracy at Epoch 290: 77.37%\n",
      "Test F1-score at Epoch 290: 0.7624\n",
      "Classification Report at Epoch 290:\n",
      "                  precision    recall  f1-score   support\n",
      "\n",
      "    infringement       0.76      0.80      0.78       194\n",
      "non_infringement       0.78      0.74      0.76       186\n",
      "\n",
      "        accuracy                           0.77       380\n",
      "       macro avg       0.77      0.77      0.77       380\n",
      "    weighted avg       0.77      0.77      0.77       380\n",
      "\n"
     ]
    },
    {
     "name": "stderr",
     "output_type": "stream",
     "text": [
      "Training Epochs:  15%|█▌        | 300/2000 [01:28<09:32,  2.97it/s]"
     ]
    },
    {
     "name": "stdout",
     "output_type": "stream",
     "text": [
      "Epoch 300/2000, Loss: 0.2599\n",
      "Test Accuracy at Epoch 300: 82.37%\n",
      "Test F1-score at Epoch 300: 0.8354\n",
      "Classification Report at Epoch 300:\n",
      "                  precision    recall  f1-score   support\n",
      "\n",
      "    infringement       0.90      0.74      0.81       194\n",
      "non_infringement       0.77      0.91      0.84       186\n",
      "\n",
      "        accuracy                           0.82       380\n",
      "       macro avg       0.83      0.83      0.82       380\n",
      "    weighted avg       0.84      0.82      0.82       380\n",
      "\n",
      "New best model saved with F1-score 0.8354 at epoch 300\n",
      "Best Classification Report at Epoch 300:\n",
      "                  precision    recall  f1-score   support\n",
      "\n",
      "    infringement       0.90      0.74      0.81       194\n",
      "non_infringement       0.77      0.91      0.84       186\n",
      "\n",
      "        accuracy                           0.82       380\n",
      "       macro avg       0.83      0.83      0.82       380\n",
      "    weighted avg       0.84      0.82      0.82       380\n",
      "\n"
     ]
    },
    {
     "name": "stderr",
     "output_type": "stream",
     "text": [
      "Training Epochs:  16%|█▌        | 310/2000 [01:29<04:14,  6.64it/s]"
     ]
    },
    {
     "name": "stdout",
     "output_type": "stream",
     "text": [
      "Epoch 310/2000, Loss: 0.2290\n",
      "Test Accuracy at Epoch 310: 71.32%\n",
      "Test F1-score at Epoch 310: 0.7656\n",
      "Classification Report at Epoch 310:\n",
      "                  precision    recall  f1-score   support\n",
      "\n",
      "    infringement       0.92      0.48      0.63       194\n",
      "non_infringement       0.64      0.96      0.77       186\n",
      "\n",
      "        accuracy                           0.71       380\n",
      "       macro avg       0.78      0.72      0.70       380\n",
      "    weighted avg       0.78      0.71      0.70       380\n",
      "\n"
     ]
    },
    {
     "name": "stderr",
     "output_type": "stream",
     "text": [
      "Training Epochs:  16%|█▌        | 320/2000 [01:34<13:01,  2.15it/s]"
     ]
    },
    {
     "name": "stdout",
     "output_type": "stream",
     "text": [
      "Epoch 320/2000, Loss: 0.2262\n",
      "Test Accuracy at Epoch 320: 72.11%\n",
      "Test F1-score at Epoch 320: 0.7686\n",
      "Classification Report at Epoch 320:\n",
      "                  precision    recall  f1-score   support\n",
      "\n",
      "    infringement       0.91      0.51      0.65       194\n",
      "non_infringement       0.65      0.95      0.77       186\n",
      "\n",
      "        accuracy                           0.72       380\n",
      "       macro avg       0.78      0.73      0.71       380\n",
      "    weighted avg       0.78      0.72      0.71       380\n",
      "\n"
     ]
    },
    {
     "name": "stderr",
     "output_type": "stream",
     "text": [
      "Training Epochs:  16%|█▋        | 330/2000 [01:36<03:58,  7.01it/s]"
     ]
    },
    {
     "name": "stdout",
     "output_type": "stream",
     "text": [
      "Epoch 330/2000, Loss: 0.2168\n",
      "Test Accuracy at Epoch 330: 72.89%\n",
      "Test F1-score at Epoch 330: 0.7736\n",
      "Classification Report at Epoch 330:\n",
      "                  precision    recall  f1-score   support\n",
      "\n",
      "    infringement       0.91      0.52      0.66       194\n",
      "non_infringement       0.65      0.95      0.77       186\n",
      "\n",
      "        accuracy                           0.73       380\n",
      "       macro avg       0.78      0.73      0.72       380\n",
      "    weighted avg       0.78      0.73      0.72       380\n",
      "\n"
     ]
    },
    {
     "name": "stderr",
     "output_type": "stream",
     "text": [
      "Training Epochs:  17%|█▋        | 341/2000 [01:37<03:36,  7.66it/s]"
     ]
    },
    {
     "name": "stdout",
     "output_type": "stream",
     "text": [
      "Epoch 340/2000, Loss: 0.2118\n",
      "Test Accuracy at Epoch 340: 72.37%\n",
      "Test F1-score at Epoch 340: 0.7702\n",
      "Classification Report at Epoch 340:\n",
      "                  precision    recall  f1-score   support\n",
      "\n",
      "    infringement       0.91      0.51      0.65       194\n",
      "non_infringement       0.65      0.95      0.77       186\n",
      "\n",
      "        accuracy                           0.72       380\n",
      "       macro avg       0.78      0.73      0.71       380\n",
      "    weighted avg       0.78      0.72      0.71       380\n",
      "\n"
     ]
    },
    {
     "name": "stderr",
     "output_type": "stream",
     "text": [
      "Training Epochs:  18%|█▊        | 351/2000 [01:38<03:48,  7.22it/s]"
     ]
    },
    {
     "name": "stdout",
     "output_type": "stream",
     "text": [
      "Epoch 350/2000, Loss: 0.2065\n",
      "Test Accuracy at Epoch 350: 72.63%\n",
      "Test F1-score at Epoch 350: 0.7719\n",
      "Classification Report at Epoch 350:\n",
      "                  precision    recall  f1-score   support\n",
      "\n",
      "    infringement       0.91      0.52      0.66       194\n",
      "non_infringement       0.65      0.95      0.77       186\n",
      "\n",
      "        accuracy                           0.73       380\n",
      "       macro avg       0.78      0.73      0.71       380\n",
      "    weighted avg       0.78      0.73      0.71       380\n",
      "\n"
     ]
    },
    {
     "name": "stderr",
     "output_type": "stream",
     "text": [
      "Training Epochs:  18%|█▊        | 362/2000 [01:40<02:41, 10.11it/s]"
     ]
    },
    {
     "name": "stdout",
     "output_type": "stream",
     "text": [
      "Epoch 360/2000, Loss: 0.2023\n",
      "Test Accuracy at Epoch 360: 72.63%\n",
      "Test F1-score at Epoch 360: 0.7719\n",
      "Classification Report at Epoch 360:\n",
      "                  precision    recall  f1-score   support\n",
      "\n",
      "    infringement       0.91      0.52      0.66       194\n",
      "non_infringement       0.65      0.95      0.77       186\n",
      "\n",
      "        accuracy                           0.73       380\n",
      "       macro avg       0.78      0.73      0.71       380\n",
      "    weighted avg       0.78      0.73      0.71       380\n",
      "\n"
     ]
    },
    {
     "name": "stderr",
     "output_type": "stream",
     "text": [
      "Training Epochs:  18%|█▊        | 370/2000 [01:40<02:33, 10.64it/s]"
     ]
    },
    {
     "name": "stdout",
     "output_type": "stream",
     "text": [
      "Epoch 370/2000, Loss: 0.2169\n",
      "Test Accuracy at Epoch 370: 72.11%\n",
      "Test F1-score at Epoch 370: 0.7716\n",
      "Classification Report at Epoch 370:\n",
      "                  precision    recall  f1-score   support\n",
      "\n",
      "    infringement       0.93      0.49      0.64       194\n",
      "non_infringement       0.64      0.96      0.77       186\n",
      "\n",
      "        accuracy                           0.72       380\n",
      "       macro avg       0.79      0.73      0.71       380\n",
      "    weighted avg       0.79      0.72      0.71       380\n",
      "\n"
     ]
    },
    {
     "name": "stderr",
     "output_type": "stream",
     "text": [
      "Training Epochs:  19%|█▉        | 380/2000 [01:42<03:44,  7.23it/s]"
     ]
    },
    {
     "name": "stdout",
     "output_type": "stream",
     "text": [
      "Epoch 380/2000, Loss: 0.2435\n",
      "Test Accuracy at Epoch 380: 71.05%\n",
      "Test F1-score at Epoch 380: 0.7650\n",
      "Classification Report at Epoch 380:\n",
      "                  precision    recall  f1-score   support\n",
      "\n",
      "    infringement       0.93      0.47      0.62       194\n",
      "non_infringement       0.63      0.96      0.76       186\n",
      "\n",
      "        accuracy                           0.71       380\n",
      "       macro avg       0.78      0.72      0.69       380\n",
      "    weighted avg       0.78      0.71      0.69       380\n",
      "\n"
     ]
    },
    {
     "name": "stderr",
     "output_type": "stream",
     "text": [
      "Training Epochs:  20%|█▉        | 390/2000 [01:44<06:23,  4.20it/s]"
     ]
    },
    {
     "name": "stdout",
     "output_type": "stream",
     "text": [
      "Epoch 390/2000, Loss: 0.2045\n",
      "Test Accuracy at Epoch 390: 72.63%\n",
      "Test F1-score at Epoch 390: 0.7719\n",
      "Classification Report at Epoch 390:\n",
      "                  precision    recall  f1-score   support\n",
      "\n",
      "    infringement       0.91      0.52      0.66       194\n",
      "non_infringement       0.65      0.95      0.77       186\n",
      "\n",
      "        accuracy                           0.73       380\n",
      "       macro avg       0.78      0.73      0.71       380\n",
      "    weighted avg       0.78      0.73      0.71       380\n",
      "\n"
     ]
    },
    {
     "name": "stderr",
     "output_type": "stream",
     "text": [
      "Training Epochs:  20%|██        | 400/2000 [01:48<12:39,  2.11it/s]"
     ]
    },
    {
     "name": "stdout",
     "output_type": "stream",
     "text": [
      "Epoch 400/2000, Loss: 0.1980\n",
      "Test Accuracy at Epoch 400: 73.42%\n",
      "Test F1-score at Epoch 400: 0.7761\n",
      "Classification Report at Epoch 400:\n",
      "                  precision    recall  f1-score   support\n",
      "\n",
      "    infringement       0.90      0.54      0.67       194\n",
      "non_infringement       0.66      0.94      0.78       186\n",
      "\n",
      "        accuracy                           0.73       380\n",
      "       macro avg       0.78      0.74      0.72       380\n",
      "    weighted avg       0.78      0.73      0.72       380\n",
      "\n"
     ]
    },
    {
     "name": "stderr",
     "output_type": "stream",
     "text": [
      "Training Epochs:  21%|██        | 411/2000 [01:53<08:13,  3.22it/s]"
     ]
    },
    {
     "name": "stdout",
     "output_type": "stream",
     "text": [
      "Epoch 410/2000, Loss: 0.1942\n",
      "Test Accuracy at Epoch 410: 72.63%\n",
      "Test F1-score at Epoch 410: 0.7719\n",
      "Classification Report at Epoch 410:\n",
      "                  precision    recall  f1-score   support\n",
      "\n",
      "    infringement       0.91      0.52      0.66       194\n",
      "non_infringement       0.65      0.95      0.77       186\n",
      "\n",
      "        accuracy                           0.73       380\n",
      "       macro avg       0.78      0.73      0.71       380\n",
      "    weighted avg       0.78      0.73      0.71       380\n",
      "\n"
     ]
    },
    {
     "name": "stderr",
     "output_type": "stream",
     "text": [
      "Training Epochs:  21%|██        | 420/2000 [01:54<03:56,  6.68it/s]"
     ]
    },
    {
     "name": "stdout",
     "output_type": "stream",
     "text": [
      "Epoch 420/2000, Loss: 0.1911\n",
      "Test Accuracy at Epoch 420: 72.89%\n",
      "Test F1-score at Epoch 420: 0.7736\n",
      "Classification Report at Epoch 420:\n",
      "                  precision    recall  f1-score   support\n",
      "\n",
      "    infringement       0.91      0.52      0.66       194\n",
      "non_infringement       0.65      0.95      0.77       186\n",
      "\n",
      "        accuracy                           0.73       380\n",
      "       macro avg       0.78      0.73      0.72       380\n",
      "    weighted avg       0.78      0.73      0.72       380\n",
      "\n"
     ]
    },
    {
     "name": "stderr",
     "output_type": "stream",
     "text": [
      "Training Epochs:  22%|██▏       | 431/2000 [01:55<02:54,  8.99it/s]"
     ]
    },
    {
     "name": "stdout",
     "output_type": "stream",
     "text": [
      "Epoch 430/2000, Loss: 0.1871\n",
      "Test Accuracy at Epoch 430: 72.89%\n",
      "Test F1-score at Epoch 430: 0.7736\n",
      "Classification Report at Epoch 430:\n",
      "                  precision    recall  f1-score   support\n",
      "\n",
      "    infringement       0.91      0.52      0.66       194\n",
      "non_infringement       0.65      0.95      0.77       186\n",
      "\n",
      "        accuracy                           0.73       380\n",
      "       macro avg       0.78      0.73      0.72       380\n",
      "    weighted avg       0.78      0.73      0.72       380\n",
      "\n"
     ]
    },
    {
     "name": "stderr",
     "output_type": "stream",
     "text": [
      "Training Epochs:  22%|██▏       | 441/2000 [01:56<03:10,  8.18it/s]"
     ]
    },
    {
     "name": "stdout",
     "output_type": "stream",
     "text": [
      "Epoch 440/2000, Loss: 0.1883\n",
      "Test Accuracy at Epoch 440: 74.21%\n",
      "Test F1-score at Epoch 440: 0.7812\n",
      "Classification Report at Epoch 440:\n",
      "                  precision    recall  f1-score   support\n",
      "\n",
      "    infringement       0.91      0.55      0.69       194\n",
      "non_infringement       0.67      0.94      0.78       186\n",
      "\n",
      "        accuracy                           0.74       380\n",
      "       macro avg       0.79      0.75      0.73       380\n",
      "    weighted avg       0.79      0.74      0.73       380\n",
      "\n"
     ]
    },
    {
     "name": "stderr",
     "output_type": "stream",
     "text": [
      "Training Epochs:  23%|██▎       | 451/2000 [01:58<02:58,  8.69it/s]"
     ]
    },
    {
     "name": "stdout",
     "output_type": "stream",
     "text": [
      "Epoch 450/2000, Loss: 0.6355\n",
      "Test Accuracy at Epoch 450: 79.47%\n",
      "Test F1-score at Epoch 450: 0.8134\n",
      "Classification Report at Epoch 450:\n",
      "                  precision    recall  f1-score   support\n",
      "\n",
      "    infringement       0.89      0.68      0.77       194\n",
      "non_infringement       0.73      0.91      0.81       186\n",
      "\n",
      "        accuracy                           0.79       380\n",
      "       macro avg       0.81      0.80      0.79       380\n",
      "    weighted avg       0.81      0.79      0.79       380\n",
      "\n"
     ]
    },
    {
     "name": "stderr",
     "output_type": "stream",
     "text": [
      "Training Epochs:  23%|██▎       | 462/2000 [02:00<02:51,  8.95it/s]"
     ]
    },
    {
     "name": "stdout",
     "output_type": "stream",
     "text": [
      "Epoch 460/2000, Loss: 0.3172\n",
      "Test Accuracy at Epoch 460: 71.84%\n",
      "Test F1-score at Epoch 460: 0.7699\n",
      "Classification Report at Epoch 460:\n",
      "                  precision    recall  f1-score   support\n",
      "\n",
      "    infringement       0.93      0.48      0.64       194\n",
      "non_infringement       0.64      0.96      0.77       186\n",
      "\n",
      "        accuracy                           0.72       380\n",
      "       macro avg       0.79      0.72      0.70       380\n",
      "    weighted avg       0.79      0.72      0.70       380\n",
      "\n"
     ]
    },
    {
     "name": "stderr",
     "output_type": "stream",
     "text": [
      "Training Epochs:  24%|██▎       | 471/2000 [02:01<03:30,  7.27it/s]"
     ]
    },
    {
     "name": "stdout",
     "output_type": "stream",
     "text": [
      "Epoch 470/2000, Loss: 0.2263\n",
      "Test Accuracy at Epoch 470: 71.84%\n",
      "Test F1-score at Epoch 470: 0.7709\n",
      "Classification Report at Epoch 470:\n",
      "                  precision    recall  f1-score   support\n",
      "\n",
      "    infringement       0.94      0.48      0.63       194\n",
      "non_infringement       0.64      0.97      0.77       186\n",
      "\n",
      "        accuracy                           0.72       380\n",
      "       macro avg       0.79      0.72      0.70       380\n",
      "    weighted avg       0.79      0.72      0.70       380\n",
      "\n"
     ]
    },
    {
     "name": "stderr",
     "output_type": "stream",
     "text": [
      "Training Epochs:  24%|██▍       | 481/2000 [02:02<02:13, 11.38it/s]"
     ]
    },
    {
     "name": "stdout",
     "output_type": "stream",
     "text": [
      "Epoch 480/2000, Loss: 0.2078\n",
      "Test Accuracy at Epoch 480: 72.63%\n",
      "Test F1-score at Epoch 480: 0.7699\n",
      "Classification Report at Epoch 480:\n",
      "                  precision    recall  f1-score   support\n",
      "\n",
      "    infringement       0.89      0.53      0.66       194\n",
      "non_infringement       0.65      0.94      0.77       186\n",
      "\n",
      "        accuracy                           0.73       380\n",
      "       macro avg       0.77      0.73      0.72       380\n",
      "    weighted avg       0.78      0.73      0.71       380\n",
      "\n"
     ]
    },
    {
     "name": "stderr",
     "output_type": "stream",
     "text": [
      "Training Epochs:  25%|██▍       | 493/2000 [02:03<01:45, 14.35it/s]"
     ]
    },
    {
     "name": "stdout",
     "output_type": "stream",
     "text": [
      "Epoch 490/2000, Loss: 0.1986\n",
      "Test Accuracy at Epoch 490: 72.89%\n",
      "Test F1-score at Epoch 490: 0.7726\n",
      "Classification Report at Epoch 490:\n",
      "                  precision    recall  f1-score   support\n",
      "\n",
      "    infringement       0.90      0.53      0.66       194\n",
      "non_infringement       0.66      0.94      0.77       186\n",
      "\n",
      "        accuracy                           0.73       380\n",
      "       macro avg       0.78      0.73      0.72       380\n",
      "    weighted avg       0.78      0.73      0.72       380\n",
      "\n"
     ]
    },
    {
     "name": "stderr",
     "output_type": "stream",
     "text": [
      "Training Epochs:  25%|██▌       | 501/2000 [02:03<01:57, 12.75it/s]"
     ]
    },
    {
     "name": "stdout",
     "output_type": "stream",
     "text": [
      "Epoch 500/2000, Loss: 0.1920\n",
      "Test Accuracy at Epoch 500: 72.89%\n",
      "Test F1-score at Epoch 500: 0.7746\n",
      "Classification Report at Epoch 500:\n",
      "                  precision    recall  f1-score   support\n",
      "\n",
      "    infringement       0.92      0.52      0.66       194\n",
      "non_infringement       0.65      0.95      0.77       186\n",
      "\n",
      "        accuracy                           0.73       380\n",
      "       macro avg       0.79      0.73      0.72       380\n",
      "    weighted avg       0.79      0.73      0.72       380\n",
      "\n"
     ]
    },
    {
     "name": "stderr",
     "output_type": "stream",
     "text": [
      "Training Epochs:  26%|██▌       | 511/2000 [02:04<01:58, 12.57it/s]"
     ]
    },
    {
     "name": "stdout",
     "output_type": "stream",
     "text": [
      "Epoch 510/2000, Loss: 0.1878\n",
      "Test Accuracy at Epoch 510: 73.42%\n",
      "Test F1-score at Epoch 510: 0.7790\n",
      "Classification Report at Epoch 510:\n",
      "                  precision    recall  f1-score   support\n",
      "\n",
      "    infringement       0.93      0.52      0.67       194\n",
      "non_infringement       0.66      0.96      0.78       186\n",
      "\n",
      "        accuracy                           0.73       380\n",
      "       macro avg       0.79      0.74      0.72       380\n",
      "    weighted avg       0.79      0.73      0.72       380\n",
      "\n"
     ]
    },
    {
     "name": "stderr",
     "output_type": "stream",
     "text": [
      "Training Epochs:  26%|██▌       | 523/2000 [02:05<01:37, 15.17it/s]"
     ]
    },
    {
     "name": "stdout",
     "output_type": "stream",
     "text": [
      "Epoch 520/2000, Loss: 0.1847\n",
      "Test Accuracy at Epoch 520: 73.42%\n",
      "Test F1-score at Epoch 520: 0.7790\n",
      "Classification Report at Epoch 520:\n",
      "                  precision    recall  f1-score   support\n",
      "\n",
      "    infringement       0.93      0.52      0.67       194\n",
      "non_infringement       0.66      0.96      0.78       186\n",
      "\n",
      "        accuracy                           0.73       380\n",
      "       macro avg       0.79      0.74      0.72       380\n",
      "    weighted avg       0.79      0.73      0.72       380\n",
      "\n"
     ]
    },
    {
     "name": "stderr",
     "output_type": "stream",
     "text": [
      "Training Epochs:  26%|██▋       | 530/2000 [02:07<07:45,  3.16it/s]"
     ]
    },
    {
     "name": "stdout",
     "output_type": "stream",
     "text": [
      "Epoch 530/2000, Loss: 0.1818\n",
      "Test Accuracy at Epoch 530: 73.42%\n",
      "Test F1-score at Epoch 530: 0.7790\n",
      "Classification Report at Epoch 530:\n",
      "                  precision    recall  f1-score   support\n",
      "\n",
      "    infringement       0.93      0.52      0.67       194\n",
      "non_infringement       0.66      0.96      0.78       186\n",
      "\n",
      "        accuracy                           0.73       380\n",
      "       macro avg       0.79      0.74      0.72       380\n",
      "    weighted avg       0.79      0.73      0.72       380\n",
      "\n"
     ]
    },
    {
     "name": "stderr",
     "output_type": "stream",
     "text": [
      "Training Epochs:  27%|██▋       | 540/2000 [02:13<13:05,  1.86it/s]"
     ]
    },
    {
     "name": "stdout",
     "output_type": "stream",
     "text": [
      "Epoch 540/2000, Loss: 0.1793\n",
      "Test Accuracy at Epoch 540: 73.42%\n",
      "Test F1-score at Epoch 540: 0.7790\n",
      "Classification Report at Epoch 540:\n",
      "                  precision    recall  f1-score   support\n",
      "\n",
      "    infringement       0.93      0.52      0.67       194\n",
      "non_infringement       0.66      0.96      0.78       186\n",
      "\n",
      "        accuracy                           0.73       380\n",
      "       macro avg       0.79      0.74      0.72       380\n",
      "    weighted avg       0.79      0.73      0.72       380\n",
      "\n"
     ]
    },
    {
     "name": "stderr",
     "output_type": "stream",
     "text": [
      "Training Epochs:  28%|██▊       | 552/2000 [02:15<03:10,  7.61it/s]"
     ]
    },
    {
     "name": "stdout",
     "output_type": "stream",
     "text": [
      "Epoch 550/2000, Loss: 0.1770\n",
      "Test Accuracy at Epoch 550: 73.42%\n",
      "Test F1-score at Epoch 550: 0.7790\n",
      "Classification Report at Epoch 550:\n",
      "                  precision    recall  f1-score   support\n",
      "\n",
      "    infringement       0.93      0.52      0.67       194\n",
      "non_infringement       0.66      0.96      0.78       186\n",
      "\n",
      "        accuracy                           0.73       380\n",
      "       macro avg       0.79      0.74      0.72       380\n",
      "    weighted avg       0.79      0.73      0.72       380\n",
      "\n"
     ]
    },
    {
     "name": "stderr",
     "output_type": "stream",
     "text": [
      "Training Epochs:  28%|██▊       | 562/2000 [02:16<02:39,  9.02it/s]"
     ]
    },
    {
     "name": "stdout",
     "output_type": "stream",
     "text": [
      "Epoch 560/2000, Loss: 0.1749\n",
      "Test Accuracy at Epoch 560: 73.68%\n",
      "Test F1-score at Epoch 560: 0.7807\n",
      "Classification Report at Epoch 560:\n",
      "                  precision    recall  f1-score   support\n",
      "\n",
      "    infringement       0.93      0.53      0.67       194\n",
      "non_infringement       0.66      0.96      0.78       186\n",
      "\n",
      "        accuracy                           0.74       380\n",
      "       macro avg       0.79      0.74      0.73       380\n",
      "    weighted avg       0.80      0.74      0.72       380\n",
      "\n"
     ]
    },
    {
     "name": "stderr",
     "output_type": "stream",
     "text": [
      "Training Epochs:  28%|██▊       | 570/2000 [02:17<04:10,  5.70it/s]"
     ]
    },
    {
     "name": "stdout",
     "output_type": "stream",
     "text": [
      "Epoch 570/2000, Loss: 0.1728\n",
      "Test Accuracy at Epoch 570: 73.68%\n",
      "Test F1-score at Epoch 570: 0.7807\n",
      "Classification Report at Epoch 570:\n",
      "                  precision    recall  f1-score   support\n",
      "\n",
      "    infringement       0.93      0.53      0.67       194\n",
      "non_infringement       0.66      0.96      0.78       186\n",
      "\n",
      "        accuracy                           0.74       380\n",
      "       macro avg       0.79      0.74      0.73       380\n",
      "    weighted avg       0.80      0.74      0.72       380\n",
      "\n"
     ]
    },
    {
     "name": "stderr",
     "output_type": "stream",
     "text": [
      "Training Epochs:  29%|██▉       | 580/2000 [02:21<11:46,  2.01it/s]"
     ]
    },
    {
     "name": "stdout",
     "output_type": "stream",
     "text": [
      "Epoch 580/2000, Loss: 0.1708\n",
      "Test Accuracy at Epoch 580: 73.68%\n",
      "Test F1-score at Epoch 580: 0.7807\n",
      "Classification Report at Epoch 580:\n",
      "                  precision    recall  f1-score   support\n",
      "\n",
      "    infringement       0.93      0.53      0.67       194\n",
      "non_infringement       0.66      0.96      0.78       186\n",
      "\n",
      "        accuracy                           0.74       380\n",
      "       macro avg       0.79      0.74      0.73       380\n",
      "    weighted avg       0.80      0.74      0.72       380\n",
      "\n"
     ]
    },
    {
     "name": "stderr",
     "output_type": "stream",
     "text": [
      "Training Epochs:  30%|██▉       | 590/2000 [02:24<07:02,  3.34it/s]"
     ]
    },
    {
     "name": "stdout",
     "output_type": "stream",
     "text": [
      "Epoch 590/2000, Loss: 0.3210\n",
      "Test Accuracy at Epoch 590: 79.21%\n",
      "Test F1-score at Epoch 590: 0.8040\n",
      "Classification Report at Epoch 590:\n",
      "                  precision    recall  f1-score   support\n",
      "\n",
      "    infringement       0.85      0.72      0.78       194\n",
      "non_infringement       0.75      0.87      0.80       186\n",
      "\n",
      "        accuracy                           0.79       380\n",
      "       macro avg       0.80      0.79      0.79       380\n",
      "    weighted avg       0.80      0.79      0.79       380\n",
      "\n"
     ]
    },
    {
     "name": "stderr",
     "output_type": "stream",
     "text": [
      "Training Epochs:  30%|███       | 600/2000 [02:28<09:50,  2.37it/s]"
     ]
    },
    {
     "name": "stdout",
     "output_type": "stream",
     "text": [
      "Epoch 600/2000, Loss: 0.2141\n",
      "Test Accuracy at Epoch 600: 72.37%\n",
      "Test F1-score at Epoch 600: 0.7742\n",
      "Classification Report at Epoch 600:\n",
      "                  precision    recall  f1-score   support\n",
      "\n",
      "    infringement       0.94      0.49      0.64       194\n",
      "non_infringement       0.65      0.97      0.77       186\n",
      "\n",
      "        accuracy                           0.72       380\n",
      "       macro avg       0.79      0.73      0.71       380\n",
      "    weighted avg       0.80      0.72      0.71       380\n",
      "\n"
     ]
    },
    {
     "name": "stderr",
     "output_type": "stream",
     "text": [
      "Training Epochs:  30%|███       | 610/2000 [02:31<03:59,  5.81it/s]"
     ]
    },
    {
     "name": "stdout",
     "output_type": "stream",
     "text": [
      "Epoch 610/2000, Loss: 0.1925\n",
      "Test Accuracy at Epoch 610: 72.89%\n",
      "Test F1-score at Epoch 610: 0.7766\n",
      "Classification Report at Epoch 610:\n",
      "                  precision    recall  f1-score   support\n",
      "\n",
      "    infringement       0.93      0.51      0.66       194\n",
      "non_infringement       0.65      0.96      0.78       186\n",
      "\n",
      "        accuracy                           0.73       380\n",
      "       macro avg       0.79      0.73      0.72       380\n",
      "    weighted avg       0.80      0.73      0.71       380\n",
      "\n"
     ]
    },
    {
     "name": "stderr",
     "output_type": "stream",
     "text": [
      "Training Epochs:  31%|███       | 621/2000 [02:33<03:34,  6.42it/s]"
     ]
    },
    {
     "name": "stdout",
     "output_type": "stream",
     "text": [
      "Epoch 620/2000, Loss: 0.1814\n",
      "Test Accuracy at Epoch 620: 73.42%\n",
      "Test F1-score at Epoch 620: 0.7790\n",
      "Classification Report at Epoch 620:\n",
      "                  precision    recall  f1-score   support\n",
      "\n",
      "    infringement       0.93      0.52      0.67       194\n",
      "non_infringement       0.66      0.96      0.78       186\n",
      "\n",
      "        accuracy                           0.73       380\n",
      "       macro avg       0.79      0.74      0.72       380\n",
      "    weighted avg       0.79      0.73      0.72       380\n",
      "\n"
     ]
    },
    {
     "name": "stderr",
     "output_type": "stream",
     "text": [
      "Training Epochs:  32%|███▏      | 631/2000 [02:34<02:23,  9.56it/s]"
     ]
    },
    {
     "name": "stdout",
     "output_type": "stream",
     "text": [
      "Epoch 630/2000, Loss: 0.1742\n",
      "Test Accuracy at Epoch 630: 73.68%\n",
      "Test F1-score at Epoch 630: 0.7807\n",
      "Classification Report at Epoch 630:\n",
      "                  precision    recall  f1-score   support\n",
      "\n",
      "    infringement       0.93      0.53      0.67       194\n",
      "non_infringement       0.66      0.96      0.78       186\n",
      "\n",
      "        accuracy                           0.74       380\n",
      "       macro avg       0.79      0.74      0.73       380\n",
      "    weighted avg       0.80      0.74      0.72       380\n",
      "\n"
     ]
    },
    {
     "name": "stderr",
     "output_type": "stream",
     "text": [
      "Training Epochs:  32%|███▏      | 639/2000 [02:35<02:46,  8.19it/s]"
     ]
    },
    {
     "name": "stdout",
     "output_type": "stream",
     "text": [
      "Epoch 640/2000, Loss: 0.1712\n",
      "Test Accuracy at Epoch 640: 73.42%\n",
      "Test F1-score at Epoch 640: 0.7790\n",
      "Classification Report at Epoch 640:\n",
      "                  precision    recall  f1-score   support\n",
      "\n",
      "    infringement       0.93      0.52      0.67       194\n",
      "non_infringement       0.66      0.96      0.78       186\n",
      "\n",
      "        accuracy                           0.73       380\n",
      "       macro avg       0.79      0.74      0.72       380\n",
      "    weighted avg       0.79      0.73      0.72       380\n",
      "\n"
     ]
    },
    {
     "name": "stderr",
     "output_type": "stream",
     "text": [
      "Training Epochs:  32%|███▎      | 650/2000 [02:37<02:25,  9.29it/s]"
     ]
    },
    {
     "name": "stdout",
     "output_type": "stream",
     "text": [
      "Epoch 650/2000, Loss: 0.1683\n",
      "Test Accuracy at Epoch 650: 73.42%\n",
      "Test F1-score at Epoch 650: 0.7790\n",
      "Classification Report at Epoch 650:\n",
      "                  precision    recall  f1-score   support\n",
      "\n",
      "    infringement       0.93      0.52      0.67       194\n",
      "non_infringement       0.66      0.96      0.78       186\n",
      "\n",
      "        accuracy                           0.73       380\n",
      "       macro avg       0.79      0.74      0.72       380\n",
      "    weighted avg       0.79      0.73      0.72       380\n",
      "\n"
     ]
    },
    {
     "name": "stderr",
     "output_type": "stream",
     "text": [
      "Training Epochs:  33%|███▎      | 662/2000 [02:38<02:01, 11.05it/s]"
     ]
    },
    {
     "name": "stdout",
     "output_type": "stream",
     "text": [
      "Epoch 660/2000, Loss: 0.1666\n",
      "Test Accuracy at Epoch 660: 73.68%\n",
      "Test F1-score at Epoch 660: 0.7807\n",
      "Classification Report at Epoch 660:\n",
      "                  precision    recall  f1-score   support\n",
      "\n",
      "    infringement       0.93      0.53      0.67       194\n",
      "non_infringement       0.66      0.96      0.78       186\n",
      "\n",
      "        accuracy                           0.74       380\n",
      "       macro avg       0.79      0.74      0.73       380\n",
      "    weighted avg       0.80      0.74      0.72       380\n",
      "\n"
     ]
    },
    {
     "name": "stderr",
     "output_type": "stream",
     "text": [
      "Training Epochs:  34%|███▎      | 672/2000 [02:39<01:37, 13.69it/s]"
     ]
    },
    {
     "name": "stdout",
     "output_type": "stream",
     "text": [
      "Epoch 670/2000, Loss: 0.1650\n",
      "Test Accuracy at Epoch 670: 73.42%\n",
      "Test F1-score at Epoch 670: 0.7800\n",
      "Classification Report at Epoch 670:\n",
      "                  precision    recall  f1-score   support\n",
      "\n",
      "    infringement       0.93      0.52      0.66       194\n",
      "non_infringement       0.66      0.96      0.78       186\n",
      "\n",
      "        accuracy                           0.73       380\n",
      "       macro avg       0.80      0.74      0.72       380\n",
      "    weighted avg       0.80      0.73      0.72       380\n",
      "\n"
     ]
    },
    {
     "name": "stderr",
     "output_type": "stream",
     "text": [
      "Training Epochs:  34%|███▍      | 680/2000 [02:40<02:34,  8.56it/s]"
     ]
    },
    {
     "name": "stdout",
     "output_type": "stream",
     "text": [
      "Epoch 680/2000, Loss: 0.1635\n",
      "Test Accuracy at Epoch 680: 73.42%\n",
      "Test F1-score at Epoch 680: 0.7800\n",
      "Classification Report at Epoch 680:\n",
      "                  precision    recall  f1-score   support\n",
      "\n",
      "    infringement       0.93      0.52      0.66       194\n",
      "non_infringement       0.66      0.96      0.78       186\n",
      "\n",
      "        accuracy                           0.73       380\n",
      "       macro avg       0.80      0.74      0.72       380\n",
      "    weighted avg       0.80      0.73      0.72       380\n",
      "\n"
     ]
    },
    {
     "name": "stderr",
     "output_type": "stream",
     "text": [
      "Training Epochs:  35%|███▍      | 692/2000 [02:43<04:39,  4.68it/s]"
     ]
    },
    {
     "name": "stdout",
     "output_type": "stream",
     "text": [
      "Epoch 690/2000, Loss: 0.1622\n",
      "Test Accuracy at Epoch 690: 73.42%\n",
      "Test F1-score at Epoch 690: 0.7800\n",
      "Classification Report at Epoch 690:\n",
      "                  precision    recall  f1-score   support\n",
      "\n",
      "    infringement       0.93      0.52      0.66       194\n",
      "non_infringement       0.66      0.96      0.78       186\n",
      "\n",
      "        accuracy                           0.73       380\n",
      "       macro avg       0.80      0.74      0.72       380\n",
      "    weighted avg       0.80      0.73      0.72       380\n",
      "\n"
     ]
    },
    {
     "name": "stderr",
     "output_type": "stream",
     "text": [
      "Training Epochs:  35%|███▌      | 702/2000 [02:44<02:14,  9.66it/s]"
     ]
    },
    {
     "name": "stdout",
     "output_type": "stream",
     "text": [
      "Epoch 700/2000, Loss: 0.1611\n",
      "Test Accuracy at Epoch 700: 73.42%\n",
      "Test F1-score at Epoch 700: 0.7800\n",
      "Classification Report at Epoch 700:\n",
      "                  precision    recall  f1-score   support\n",
      "\n",
      "    infringement       0.93      0.52      0.66       194\n",
      "non_infringement       0.66      0.96      0.78       186\n",
      "\n",
      "        accuracy                           0.73       380\n",
      "       macro avg       0.80      0.74      0.72       380\n",
      "    weighted avg       0.80      0.73      0.72       380\n",
      "\n"
     ]
    },
    {
     "name": "stderr",
     "output_type": "stream",
     "text": [
      "Training Epochs:  36%|███▌      | 712/2000 [02:45<01:50, 11.63it/s]"
     ]
    },
    {
     "name": "stdout",
     "output_type": "stream",
     "text": [
      "Epoch 710/2000, Loss: 0.3369\n",
      "Test Accuracy at Epoch 710: 72.89%\n",
      "Test F1-score at Epoch 710: 0.7746\n",
      "Classification Report at Epoch 710:\n",
      "                  precision    recall  f1-score   support\n",
      "\n",
      "    infringement       0.92      0.52      0.66       194\n",
      "non_infringement       0.65      0.95      0.77       186\n",
      "\n",
      "        accuracy                           0.73       380\n",
      "       macro avg       0.79      0.73      0.72       380\n",
      "    weighted avg       0.79      0.73      0.72       380\n",
      "\n"
     ]
    },
    {
     "name": "stderr",
     "output_type": "stream",
     "text": [
      "Training Epochs:  36%|███▌      | 720/2000 [02:47<05:57,  3.58it/s]"
     ]
    },
    {
     "name": "stdout",
     "output_type": "stream",
     "text": [
      "Epoch 720/2000, Loss: 0.1702\n",
      "Test Accuracy at Epoch 720: 74.21%\n",
      "Test F1-score at Epoch 720: 0.7822\n",
      "Classification Report at Epoch 720:\n",
      "                  precision    recall  f1-score   support\n",
      "\n",
      "    infringement       0.91      0.55      0.68       194\n",
      "non_infringement       0.67      0.95      0.78       186\n",
      "\n",
      "        accuracy                           0.74       380\n",
      "       macro avg       0.79      0.75      0.73       380\n",
      "    weighted avg       0.79      0.74      0.73       380\n",
      "\n"
     ]
    },
    {
     "name": "stderr",
     "output_type": "stream",
     "text": [
      "Training Epochs:  36%|███▋      | 730/2000 [02:52<10:23,  2.04it/s]"
     ]
    },
    {
     "name": "stdout",
     "output_type": "stream",
     "text": [
      "Epoch 730/2000, Loss: 0.1715\n",
      "Test Accuracy at Epoch 730: 73.68%\n",
      "Test F1-score at Epoch 730: 0.7807\n",
      "Classification Report at Epoch 730:\n",
      "                  precision    recall  f1-score   support\n",
      "\n",
      "    infringement       0.93      0.53      0.67       194\n",
      "non_infringement       0.66      0.96      0.78       186\n",
      "\n",
      "        accuracy                           0.74       380\n",
      "       macro avg       0.79      0.74      0.73       380\n",
      "    weighted avg       0.80      0.74      0.72       380\n",
      "\n"
     ]
    },
    {
     "name": "stderr",
     "output_type": "stream",
     "text": [
      "Training Epochs:  37%|███▋      | 740/2000 [02:57<11:43,  1.79it/s]"
     ]
    },
    {
     "name": "stdout",
     "output_type": "stream",
     "text": [
      "Epoch 740/2000, Loss: 0.1680\n",
      "Test Accuracy at Epoch 740: 73.68%\n",
      "Test F1-score at Epoch 740: 0.7807\n",
      "Classification Report at Epoch 740:\n",
      "                  precision    recall  f1-score   support\n",
      "\n",
      "    infringement       0.93      0.53      0.67       194\n",
      "non_infringement       0.66      0.96      0.78       186\n",
      "\n",
      "        accuracy                           0.74       380\n",
      "       macro avg       0.79      0.74      0.73       380\n",
      "    weighted avg       0.80      0.74      0.72       380\n",
      "\n"
     ]
    },
    {
     "name": "stderr",
     "output_type": "stream",
     "text": [
      "Training Epochs:  38%|███▊      | 750/2000 [03:01<05:03,  4.12it/s]"
     ]
    },
    {
     "name": "stdout",
     "output_type": "stream",
     "text": [
      "Epoch 750/2000, Loss: 0.1642\n",
      "Test Accuracy at Epoch 750: 73.16%\n",
      "Test F1-score at Epoch 750: 0.7783\n",
      "Classification Report at Epoch 750:\n",
      "                  precision    recall  f1-score   support\n",
      "\n",
      "    infringement       0.93      0.51      0.66       194\n",
      "non_infringement       0.65      0.96      0.78       186\n",
      "\n",
      "        accuracy                           0.73       380\n",
      "       macro avg       0.79      0.74      0.72       380\n",
      "    weighted avg       0.80      0.73      0.72       380\n",
      "\n"
     ]
    },
    {
     "name": "stderr",
     "output_type": "stream",
     "text": [
      "Training Epochs:  38%|███▊      | 760/2000 [03:04<09:14,  2.24it/s]"
     ]
    },
    {
     "name": "stdout",
     "output_type": "stream",
     "text": [
      "Epoch 760/2000, Loss: 0.1616\n",
      "Test Accuracy at Epoch 760: 73.42%\n",
      "Test F1-score at Epoch 760: 0.7800\n",
      "Classification Report at Epoch 760:\n",
      "                  precision    recall  f1-score   support\n",
      "\n",
      "    infringement       0.93      0.52      0.66       194\n",
      "non_infringement       0.66      0.96      0.78       186\n",
      "\n",
      "        accuracy                           0.73       380\n",
      "       macro avg       0.80      0.74      0.72       380\n",
      "    weighted avg       0.80      0.73      0.72       380\n",
      "\n"
     ]
    },
    {
     "name": "stderr",
     "output_type": "stream",
     "text": [
      "Training Epochs:  39%|███▊      | 772/2000 [03:08<03:32,  5.77it/s]"
     ]
    },
    {
     "name": "stdout",
     "output_type": "stream",
     "text": [
      "Epoch 770/2000, Loss: 0.1600\n",
      "Test Accuracy at Epoch 770: 73.68%\n",
      "Test F1-score at Epoch 770: 0.7807\n",
      "Classification Report at Epoch 770:\n",
      "                  precision    recall  f1-score   support\n",
      "\n",
      "    infringement       0.93      0.53      0.67       194\n",
      "non_infringement       0.66      0.96      0.78       186\n",
      "\n",
      "        accuracy                           0.74       380\n",
      "       macro avg       0.79      0.74      0.73       380\n",
      "    weighted avg       0.80      0.74      0.72       380\n",
      "\n"
     ]
    },
    {
     "name": "stderr",
     "output_type": "stream",
     "text": [
      "Training Epochs:  39%|███▉      | 782/2000 [03:09<02:46,  7.32it/s]"
     ]
    },
    {
     "name": "stdout",
     "output_type": "stream",
     "text": [
      "Epoch 780/2000, Loss: 0.1588\n",
      "Test Accuracy at Epoch 780: 73.42%\n",
      "Test F1-score at Epoch 780: 0.7800\n",
      "Classification Report at Epoch 780:\n",
      "                  precision    recall  f1-score   support\n",
      "\n",
      "    infringement       0.93      0.52      0.66       194\n",
      "non_infringement       0.66      0.96      0.78       186\n",
      "\n",
      "        accuracy                           0.73       380\n",
      "       macro avg       0.80      0.74      0.72       380\n",
      "    weighted avg       0.80      0.73      0.72       380\n",
      "\n"
     ]
    },
    {
     "name": "stderr",
     "output_type": "stream",
     "text": [
      "Training Epochs:  40%|███▉      | 793/2000 [03:10<01:47, 11.22it/s]"
     ]
    },
    {
     "name": "stdout",
     "output_type": "stream",
     "text": [
      "Epoch 790/2000, Loss: 0.1575\n",
      "Test Accuracy at Epoch 790: 73.42%\n",
      "Test F1-score at Epoch 790: 0.7800\n",
      "Classification Report at Epoch 790:\n",
      "                  precision    recall  f1-score   support\n",
      "\n",
      "    infringement       0.93      0.52      0.66       194\n",
      "non_infringement       0.66      0.96      0.78       186\n",
      "\n",
      "        accuracy                           0.73       380\n",
      "       macro avg       0.80      0.74      0.72       380\n",
      "    weighted avg       0.80      0.73      0.72       380\n",
      "\n"
     ]
    },
    {
     "name": "stderr",
     "output_type": "stream",
     "text": [
      "Training Epochs:  40%|████      | 801/2000 [03:11<01:25, 14.07it/s]"
     ]
    },
    {
     "name": "stdout",
     "output_type": "stream",
     "text": [
      "Epoch 800/2000, Loss: 0.1565\n",
      "Test Accuracy at Epoch 800: 73.42%\n",
      "Test F1-score at Epoch 800: 0.7800\n",
      "Classification Report at Epoch 800:\n",
      "                  precision    recall  f1-score   support\n",
      "\n",
      "    infringement       0.93      0.52      0.66       194\n",
      "non_infringement       0.66      0.96      0.78       186\n",
      "\n",
      "        accuracy                           0.73       380\n",
      "       macro avg       0.80      0.74      0.72       380\n",
      "    weighted avg       0.80      0.73      0.72       380\n",
      "\n"
     ]
    },
    {
     "name": "stderr",
     "output_type": "stream",
     "text": [
      "Training Epochs:  41%|████      | 813/2000 [03:11<01:02, 18.90it/s]"
     ]
    },
    {
     "name": "stdout",
     "output_type": "stream",
     "text": [
      "Epoch 810/2000, Loss: 0.1555\n",
      "Test Accuracy at Epoch 810: 73.42%\n",
      "Test F1-score at Epoch 810: 0.7800\n",
      "Classification Report at Epoch 810:\n",
      "                  precision    recall  f1-score   support\n",
      "\n",
      "    infringement       0.93      0.52      0.66       194\n",
      "non_infringement       0.66      0.96      0.78       186\n",
      "\n",
      "        accuracy                           0.73       380\n",
      "       macro avg       0.80      0.74      0.72       380\n",
      "    weighted avg       0.80      0.73      0.72       380\n",
      "\n"
     ]
    },
    {
     "name": "stderr",
     "output_type": "stream",
     "text": [
      "Training Epochs:  41%|████      | 822/2000 [03:12<01:03, 18.49it/s]"
     ]
    },
    {
     "name": "stdout",
     "output_type": "stream",
     "text": [
      "Epoch 820/2000, Loss: 0.1545\n",
      "Test Accuracy at Epoch 820: 73.42%\n",
      "Test F1-score at Epoch 820: 0.7800\n",
      "Classification Report at Epoch 820:\n",
      "                  precision    recall  f1-score   support\n",
      "\n",
      "    infringement       0.93      0.52      0.66       194\n",
      "non_infringement       0.66      0.96      0.78       186\n",
      "\n",
      "        accuracy                           0.73       380\n",
      "       macro avg       0.80      0.74      0.72       380\n",
      "    weighted avg       0.80      0.73      0.72       380\n",
      "\n"
     ]
    },
    {
     "name": "stderr",
     "output_type": "stream",
     "text": [
      "Training Epochs:  42%|████▏     | 830/2000 [03:13<02:15,  8.63it/s]"
     ]
    },
    {
     "name": "stdout",
     "output_type": "stream",
     "text": [
      "Epoch 830/2000, Loss: 0.8584\n",
      "Test Accuracy at Epoch 830: 68.16%\n",
      "Test F1-score at Epoch 830: 0.7515\n",
      "Classification Report at Epoch 830:\n",
      "                  precision    recall  f1-score   support\n",
      "\n",
      "    infringement       0.96      0.39      0.56       194\n",
      "non_infringement       0.61      0.98      0.75       186\n",
      "\n",
      "        accuracy                           0.68       380\n",
      "       macro avg       0.78      0.69      0.65       380\n",
      "    weighted avg       0.79      0.68      0.65       380\n",
      "\n"
     ]
    },
    {
     "name": "stderr",
     "output_type": "stream",
     "text": [
      "Training Epochs:  42%|████▏     | 840/2000 [03:18<08:26,  2.29it/s]"
     ]
    },
    {
     "name": "stdout",
     "output_type": "stream",
     "text": [
      "Epoch 840/2000, Loss: 0.1835\n",
      "Test Accuracy at Epoch 840: 72.37%\n",
      "Test F1-score at Epoch 840: 0.7732\n",
      "Classification Report at Epoch 840:\n",
      "                  precision    recall  f1-score   support\n",
      "\n",
      "    infringement       0.93      0.49      0.65       194\n",
      "non_infringement       0.65      0.96      0.77       186\n",
      "\n",
      "        accuracy                           0.72       380\n",
      "       macro avg       0.79      0.73      0.71       380\n",
      "    weighted avg       0.79      0.72      0.71       380\n",
      "\n"
     ]
    },
    {
     "name": "stderr",
     "output_type": "stream",
     "text": [
      "Training Epochs:  42%|████▎     | 850/2000 [03:21<06:37,  2.89it/s]"
     ]
    },
    {
     "name": "stdout",
     "output_type": "stream",
     "text": [
      "Epoch 850/2000, Loss: 0.1774\n",
      "Test Accuracy at Epoch 850: 71.05%\n",
      "Test F1-score at Epoch 850: 0.7650\n",
      "Classification Report at Epoch 850:\n",
      "                  precision    recall  f1-score   support\n",
      "\n",
      "    infringement       0.93      0.47      0.62       194\n",
      "non_infringement       0.63      0.96      0.76       186\n",
      "\n",
      "        accuracy                           0.71       380\n",
      "       macro avg       0.78      0.72      0.69       380\n",
      "    weighted avg       0.78      0.71      0.69       380\n",
      "\n"
     ]
    },
    {
     "name": "stderr",
     "output_type": "stream",
     "text": [
      "Training Epochs:  43%|████▎     | 860/2000 [03:24<09:02,  2.10it/s]"
     ]
    },
    {
     "name": "stdout",
     "output_type": "stream",
     "text": [
      "Epoch 860/2000, Loss: 0.1681\n",
      "Test Accuracy at Epoch 860: 73.68%\n",
      "Test F1-score at Epoch 860: 0.7807\n",
      "Classification Report at Epoch 860:\n",
      "                  precision    recall  f1-score   support\n",
      "\n",
      "    infringement       0.93      0.53      0.67       194\n",
      "non_infringement       0.66      0.96      0.78       186\n",
      "\n",
      "        accuracy                           0.74       380\n",
      "       macro avg       0.79      0.74      0.73       380\n",
      "    weighted avg       0.80      0.74      0.72       380\n",
      "\n"
     ]
    },
    {
     "name": "stderr",
     "output_type": "stream",
     "text": [
      "Training Epochs:  44%|████▎     | 870/2000 [03:28<06:46,  2.78it/s]"
     ]
    },
    {
     "name": "stdout",
     "output_type": "stream",
     "text": [
      "Epoch 870/2000, Loss: 0.1622\n",
      "Test Accuracy at Epoch 870: 73.68%\n",
      "Test F1-score at Epoch 870: 0.7807\n",
      "Classification Report at Epoch 870:\n",
      "                  precision    recall  f1-score   support\n",
      "\n",
      "    infringement       0.93      0.53      0.67       194\n",
      "non_infringement       0.66      0.96      0.78       186\n",
      "\n",
      "        accuracy                           0.74       380\n",
      "       macro avg       0.79      0.74      0.73       380\n",
      "    weighted avg       0.80      0.74      0.72       380\n",
      "\n"
     ]
    },
    {
     "name": "stderr",
     "output_type": "stream",
     "text": [
      "Training Epochs:  44%|████▍     | 880/2000 [03:31<08:09,  2.29it/s]"
     ]
    },
    {
     "name": "stdout",
     "output_type": "stream",
     "text": [
      "Epoch 880/2000, Loss: 0.1600\n",
      "Test Accuracy at Epoch 880: 73.68%\n",
      "Test F1-score at Epoch 880: 0.7807\n",
      "Classification Report at Epoch 880:\n",
      "                  precision    recall  f1-score   support\n",
      "\n",
      "    infringement       0.93      0.53      0.67       194\n",
      "non_infringement       0.66      0.96      0.78       186\n",
      "\n",
      "        accuracy                           0.74       380\n",
      "       macro avg       0.79      0.74      0.73       380\n",
      "    weighted avg       0.80      0.74      0.72       380\n",
      "\n"
     ]
    },
    {
     "name": "stderr",
     "output_type": "stream",
     "text": [
      "Training Epochs:  44%|████▍     | 890/2000 [03:37<10:29,  1.76it/s]"
     ]
    },
    {
     "name": "stdout",
     "output_type": "stream",
     "text": [
      "Epoch 890/2000, Loss: 0.1582\n",
      "Test Accuracy at Epoch 890: 73.68%\n",
      "Test F1-score at Epoch 890: 0.7807\n",
      "Classification Report at Epoch 890:\n",
      "                  precision    recall  f1-score   support\n",
      "\n",
      "    infringement       0.93      0.53      0.67       194\n",
      "non_infringement       0.66      0.96      0.78       186\n",
      "\n",
      "        accuracy                           0.74       380\n",
      "       macro avg       0.79      0.74      0.73       380\n",
      "    weighted avg       0.80      0.74      0.72       380\n",
      "\n"
     ]
    },
    {
     "name": "stderr",
     "output_type": "stream",
     "text": [
      "Training Epochs:  45%|████▌     | 900/2000 [03:40<05:05,  3.60it/s]"
     ]
    },
    {
     "name": "stdout",
     "output_type": "stream",
     "text": [
      "Epoch 900/2000, Loss: 0.1566\n",
      "Test Accuracy at Epoch 900: 73.68%\n",
      "Test F1-score at Epoch 900: 0.7807\n",
      "Classification Report at Epoch 900:\n",
      "                  precision    recall  f1-score   support\n",
      "\n",
      "    infringement       0.93      0.53      0.67       194\n",
      "non_infringement       0.66      0.96      0.78       186\n",
      "\n",
      "        accuracy                           0.74       380\n",
      "       macro avg       0.79      0.74      0.73       380\n",
      "    weighted avg       0.80      0.74      0.72       380\n",
      "\n"
     ]
    },
    {
     "name": "stderr",
     "output_type": "stream",
     "text": [
      "Training Epochs:  46%|████▌     | 910/2000 [03:43<04:49,  3.76it/s]"
     ]
    },
    {
     "name": "stdout",
     "output_type": "stream",
     "text": [
      "Epoch 910/2000, Loss: 0.1554\n",
      "Test Accuracy at Epoch 910: 73.42%\n",
      "Test F1-score at Epoch 910: 0.7800\n",
      "Classification Report at Epoch 910:\n",
      "                  precision    recall  f1-score   support\n",
      "\n",
      "    infringement       0.93      0.52      0.66       194\n",
      "non_infringement       0.66      0.96      0.78       186\n",
      "\n",
      "        accuracy                           0.73       380\n",
      "       macro avg       0.80      0.74      0.72       380\n",
      "    weighted avg       0.80      0.73      0.72       380\n",
      "\n"
     ]
    },
    {
     "name": "stderr",
     "output_type": "stream",
     "text": [
      "Training Epochs:  46%|████▌     | 920/2000 [03:48<09:17,  1.94it/s]"
     ]
    },
    {
     "name": "stdout",
     "output_type": "stream",
     "text": [
      "Epoch 920/2000, Loss: 0.1544\n",
      "Test Accuracy at Epoch 920: 73.16%\n",
      "Test F1-score at Epoch 920: 0.7783\n",
      "Classification Report at Epoch 920:\n",
      "                  precision    recall  f1-score   support\n",
      "\n",
      "    infringement       0.93      0.51      0.66       194\n",
      "non_infringement       0.65      0.96      0.78       186\n",
      "\n",
      "        accuracy                           0.73       380\n",
      "       macro avg       0.79      0.74      0.72       380\n",
      "    weighted avg       0.80      0.73      0.72       380\n",
      "\n"
     ]
    },
    {
     "name": "stderr",
     "output_type": "stream",
     "text": [
      "Training Epochs:  46%|████▋     | 930/2000 [03:53<09:13,  1.93it/s]"
     ]
    },
    {
     "name": "stdout",
     "output_type": "stream",
     "text": [
      "Epoch 930/2000, Loss: 0.1534\n",
      "Test Accuracy at Epoch 930: 73.42%\n",
      "Test F1-score at Epoch 930: 0.7800\n",
      "Classification Report at Epoch 930:\n",
      "                  precision    recall  f1-score   support\n",
      "\n",
      "    infringement       0.93      0.52      0.66       194\n",
      "non_infringement       0.66      0.96      0.78       186\n",
      "\n",
      "        accuracy                           0.73       380\n",
      "       macro avg       0.80      0.74      0.72       380\n",
      "    weighted avg       0.80      0.73      0.72       380\n",
      "\n"
     ]
    },
    {
     "name": "stderr",
     "output_type": "stream",
     "text": [
      "Training Epochs:  47%|████▋     | 940/2000 [03:56<07:47,  2.27it/s]"
     ]
    },
    {
     "name": "stdout",
     "output_type": "stream",
     "text": [
      "Epoch 940/2000, Loss: 0.1526\n",
      "Test Accuracy at Epoch 940: 73.42%\n",
      "Test F1-score at Epoch 940: 0.7800\n",
      "Classification Report at Epoch 940:\n",
      "                  precision    recall  f1-score   support\n",
      "\n",
      "    infringement       0.93      0.52      0.66       194\n",
      "non_infringement       0.66      0.96      0.78       186\n",
      "\n",
      "        accuracy                           0.73       380\n",
      "       macro avg       0.80      0.74      0.72       380\n",
      "    weighted avg       0.80      0.73      0.72       380\n",
      "\n"
     ]
    },
    {
     "name": "stderr",
     "output_type": "stream",
     "text": [
      "Training Epochs:  48%|████▊     | 950/2000 [04:00<07:54,  2.21it/s]"
     ]
    },
    {
     "name": "stdout",
     "output_type": "stream",
     "text": [
      "Epoch 950/2000, Loss: 0.1518\n",
      "Test Accuracy at Epoch 950: 73.42%\n",
      "Test F1-score at Epoch 950: 0.7800\n",
      "Classification Report at Epoch 950:\n",
      "                  precision    recall  f1-score   support\n",
      "\n",
      "    infringement       0.93      0.52      0.66       194\n",
      "non_infringement       0.66      0.96      0.78       186\n",
      "\n",
      "        accuracy                           0.73       380\n",
      "       macro avg       0.80      0.74      0.72       380\n",
      "    weighted avg       0.80      0.73      0.72       380\n",
      "\n"
     ]
    },
    {
     "name": "stderr",
     "output_type": "stream",
     "text": [
      "Training Epochs:  48%|████▊     | 960/2000 [04:02<03:29,  4.97it/s]"
     ]
    },
    {
     "name": "stdout",
     "output_type": "stream",
     "text": [
      "Epoch 960/2000, Loss: 0.1510\n",
      "Test Accuracy at Epoch 960: 73.42%\n",
      "Test F1-score at Epoch 960: 0.7800\n",
      "Classification Report at Epoch 960:\n",
      "                  precision    recall  f1-score   support\n",
      "\n",
      "    infringement       0.93      0.52      0.66       194\n",
      "non_infringement       0.66      0.96      0.78       186\n",
      "\n",
      "        accuracy                           0.73       380\n",
      "       macro avg       0.80      0.74      0.72       380\n",
      "    weighted avg       0.80      0.73      0.72       380\n",
      "\n"
     ]
    },
    {
     "name": "stderr",
     "output_type": "stream",
     "text": [
      "Training Epochs:  48%|████▊     | 970/2000 [04:06<08:05,  2.12it/s]"
     ]
    },
    {
     "name": "stdout",
     "output_type": "stream",
     "text": [
      "Epoch 970/2000, Loss: 0.1503\n",
      "Test Accuracy at Epoch 970: 73.42%\n",
      "Test F1-score at Epoch 970: 0.7800\n",
      "Classification Report at Epoch 970:\n",
      "                  precision    recall  f1-score   support\n",
      "\n",
      "    infringement       0.93      0.52      0.66       194\n",
      "non_infringement       0.66      0.96      0.78       186\n",
      "\n",
      "        accuracy                           0.73       380\n",
      "       macro avg       0.80      0.74      0.72       380\n",
      "    weighted avg       0.80      0.73      0.72       380\n",
      "\n"
     ]
    },
    {
     "name": "stderr",
     "output_type": "stream",
     "text": [
      "Training Epochs:  49%|████▉     | 980/2000 [04:10<05:48,  2.93it/s]"
     ]
    },
    {
     "name": "stdout",
     "output_type": "stream",
     "text": [
      "Epoch 980/2000, Loss: 0.1498\n",
      "Test Accuracy at Epoch 980: 73.42%\n",
      "Test F1-score at Epoch 980: 0.7800\n",
      "Classification Report at Epoch 980:\n",
      "                  precision    recall  f1-score   support\n",
      "\n",
      "    infringement       0.93      0.52      0.66       194\n",
      "non_infringement       0.66      0.96      0.78       186\n",
      "\n",
      "        accuracy                           0.73       380\n",
      "       macro avg       0.80      0.74      0.72       380\n",
      "    weighted avg       0.80      0.73      0.72       380\n",
      "\n"
     ]
    },
    {
     "name": "stderr",
     "output_type": "stream",
     "text": [
      "Training Epochs:  50%|████▉     | 992/2000 [04:12<01:56,  8.67it/s]"
     ]
    },
    {
     "name": "stdout",
     "output_type": "stream",
     "text": [
      "Epoch 990/2000, Loss: 0.3228\n",
      "Test Accuracy at Epoch 990: 73.16%\n",
      "Test F1-score at Epoch 990: 0.7773\n",
      "Classification Report at Epoch 990:\n",
      "                  precision    recall  f1-score   support\n",
      "\n",
      "    infringement       0.93      0.52      0.66       194\n",
      "non_infringement       0.65      0.96      0.78       186\n",
      "\n",
      "        accuracy                           0.73       380\n",
      "       macro avg       0.79      0.74      0.72       380\n",
      "    weighted avg       0.79      0.73      0.72       380\n",
      "\n"
     ]
    },
    {
     "name": "stderr",
     "output_type": "stream",
     "text": [
      "Training Epochs:  50%|█████     | 1001/2000 [04:12<01:11, 13.91it/s]"
     ]
    },
    {
     "name": "stdout",
     "output_type": "stream",
     "text": [
      "Epoch 1000/2000, Loss: 0.1801\n",
      "Test Accuracy at Epoch 1000: 73.68%\n",
      "Test F1-score at Epoch 1000: 0.7807\n",
      "Classification Report at Epoch 1000:\n",
      "                  precision    recall  f1-score   support\n",
      "\n",
      "    infringement       0.93      0.53      0.67       194\n",
      "non_infringement       0.66      0.96      0.78       186\n",
      "\n",
      "        accuracy                           0.74       380\n",
      "       macro avg       0.79      0.74      0.73       380\n",
      "    weighted avg       0.80      0.74      0.72       380\n",
      "\n"
     ]
    },
    {
     "name": "stderr",
     "output_type": "stream",
     "text": [
      "Training Epochs:  51%|█████     | 1011/2000 [04:13<01:03, 15.57it/s]"
     ]
    },
    {
     "name": "stdout",
     "output_type": "stream",
     "text": [
      "Epoch 1010/2000, Loss: 0.1633\n",
      "Test Accuracy at Epoch 1010: 72.11%\n",
      "Test F1-score at Epoch 1010: 0.7716\n",
      "Classification Report at Epoch 1010:\n",
      "                  precision    recall  f1-score   support\n",
      "\n",
      "    infringement       0.93      0.49      0.64       194\n",
      "non_infringement       0.64      0.96      0.77       186\n",
      "\n",
      "        accuracy                           0.72       380\n",
      "       macro avg       0.79      0.73      0.71       380\n",
      "    weighted avg       0.79      0.72      0.71       380\n",
      "\n"
     ]
    },
    {
     "name": "stderr",
     "output_type": "stream",
     "text": [
      "Training Epochs:  51%|█████     | 1023/2000 [04:14<00:56, 17.36it/s]"
     ]
    },
    {
     "name": "stdout",
     "output_type": "stream",
     "text": [
      "Epoch 1020/2000, Loss: 0.1531\n",
      "Test Accuracy at Epoch 1020: 72.89%\n",
      "Test F1-score at Epoch 1020: 0.7766\n",
      "Classification Report at Epoch 1020:\n",
      "                  precision    recall  f1-score   support\n",
      "\n",
      "    infringement       0.93      0.51      0.66       194\n",
      "non_infringement       0.65      0.96      0.78       186\n",
      "\n",
      "        accuracy                           0.73       380\n",
      "       macro avg       0.79      0.73      0.72       380\n",
      "    weighted avg       0.80      0.73      0.71       380\n",
      "\n"
     ]
    },
    {
     "name": "stderr",
     "output_type": "stream",
     "text": [
      "Training Epochs:  52%|█████▏    | 1032/2000 [04:14<00:51, 18.80it/s]"
     ]
    },
    {
     "name": "stdout",
     "output_type": "stream",
     "text": [
      "Epoch 1030/2000, Loss: 0.1538\n",
      "Test Accuracy at Epoch 1030: 73.68%\n",
      "Test F1-score at Epoch 1030: 0.7807\n",
      "Classification Report at Epoch 1030:\n",
      "                  precision    recall  f1-score   support\n",
      "\n",
      "    infringement       0.93      0.53      0.67       194\n",
      "non_infringement       0.66      0.96      0.78       186\n",
      "\n",
      "        accuracy                           0.74       380\n",
      "       macro avg       0.79      0.74      0.73       380\n",
      "    weighted avg       0.80      0.74      0.72       380\n",
      "\n"
     ]
    },
    {
     "name": "stderr",
     "output_type": "stream",
     "text": [
      "Training Epochs:  52%|█████▏    | 1041/2000 [04:14<00:46, 20.45it/s]"
     ]
    },
    {
     "name": "stdout",
     "output_type": "stream",
     "text": [
      "Epoch 1040/2000, Loss: 0.1515\n",
      "Test Accuracy at Epoch 1040: 73.42%\n",
      "Test F1-score at Epoch 1040: 0.7800\n",
      "Classification Report at Epoch 1040:\n",
      "                  precision    recall  f1-score   support\n",
      "\n",
      "    infringement       0.93      0.52      0.66       194\n",
      "non_infringement       0.66      0.96      0.78       186\n",
      "\n",
      "        accuracy                           0.73       380\n",
      "       macro avg       0.80      0.74      0.72       380\n",
      "    weighted avg       0.80      0.73      0.72       380\n",
      "\n"
     ]
    },
    {
     "name": "stderr",
     "output_type": "stream",
     "text": [
      "Training Epochs:  53%|█████▎    | 1053/2000 [04:15<00:41, 22.89it/s]"
     ]
    },
    {
     "name": "stdout",
     "output_type": "stream",
     "text": [
      "Epoch 1050/2000, Loss: 0.1503\n",
      "Test Accuracy at Epoch 1050: 73.42%\n",
      "Test F1-score at Epoch 1050: 0.7800\n",
      "Classification Report at Epoch 1050:\n",
      "                  precision    recall  f1-score   support\n",
      "\n",
      "    infringement       0.93      0.52      0.66       194\n",
      "non_infringement       0.66      0.96      0.78       186\n",
      "\n",
      "        accuracy                           0.73       380\n",
      "       macro avg       0.80      0.74      0.72       380\n",
      "    weighted avg       0.80      0.73      0.72       380\n",
      "\n"
     ]
    },
    {
     "name": "stderr",
     "output_type": "stream",
     "text": [
      "Training Epochs:  53%|█████▎    | 1062/2000 [04:15<00:44, 20.93it/s]"
     ]
    },
    {
     "name": "stdout",
     "output_type": "stream",
     "text": [
      "Epoch 1060/2000, Loss: 0.1495\n",
      "Test Accuracy at Epoch 1060: 73.16%\n",
      "Test F1-score at Epoch 1060: 0.7783\n",
      "Classification Report at Epoch 1060:\n",
      "                  precision    recall  f1-score   support\n",
      "\n",
      "    infringement       0.93      0.51      0.66       194\n",
      "non_infringement       0.65      0.96      0.78       186\n",
      "\n",
      "        accuracy                           0.73       380\n",
      "       macro avg       0.79      0.74      0.72       380\n",
      "    weighted avg       0.80      0.73      0.72       380\n",
      "\n"
     ]
    },
    {
     "name": "stderr",
     "output_type": "stream",
     "text": [
      "Training Epochs:  54%|█████▍    | 1075/2000 [04:16<00:35, 26.23it/s]"
     ]
    },
    {
     "name": "stdout",
     "output_type": "stream",
     "text": [
      "Epoch 1070/2000, Loss: 0.1487\n",
      "Test Accuracy at Epoch 1070: 73.42%\n",
      "Test F1-score at Epoch 1070: 0.7800\n",
      "Classification Report at Epoch 1070:\n",
      "                  precision    recall  f1-score   support\n",
      "\n",
      "    infringement       0.93      0.52      0.66       194\n",
      "non_infringement       0.66      0.96      0.78       186\n",
      "\n",
      "        accuracy                           0.73       380\n",
      "       macro avg       0.80      0.74      0.72       380\n",
      "    weighted avg       0.80      0.73      0.72       380\n",
      "\n"
     ]
    },
    {
     "name": "stderr",
     "output_type": "stream",
     "text": [
      "Training Epochs:  54%|█████▍    | 1083/2000 [04:16<00:33, 27.33it/s]"
     ]
    },
    {
     "name": "stdout",
     "output_type": "stream",
     "text": [
      "Epoch 1080/2000, Loss: 0.1480\n",
      "Test Accuracy at Epoch 1080: 73.42%\n",
      "Test F1-score at Epoch 1080: 0.7800\n",
      "Classification Report at Epoch 1080:\n",
      "                  precision    recall  f1-score   support\n",
      "\n",
      "    infringement       0.93      0.52      0.66       194\n",
      "non_infringement       0.66      0.96      0.78       186\n",
      "\n",
      "        accuracy                           0.73       380\n",
      "       macro avg       0.80      0.74      0.72       380\n",
      "    weighted avg       0.80      0.73      0.72       380\n",
      "\n"
     ]
    },
    {
     "name": "stderr",
     "output_type": "stream",
     "text": [
      "Training Epochs:  55%|█████▍    | 1092/2000 [04:17<00:43, 20.91it/s]"
     ]
    },
    {
     "name": "stdout",
     "output_type": "stream",
     "text": [
      "Epoch 1090/2000, Loss: 0.1474\n",
      "Test Accuracy at Epoch 1090: 73.42%\n",
      "Test F1-score at Epoch 1090: 0.7800\n",
      "Classification Report at Epoch 1090:\n",
      "                  precision    recall  f1-score   support\n",
      "\n",
      "    infringement       0.93      0.52      0.66       194\n",
      "non_infringement       0.66      0.96      0.78       186\n",
      "\n",
      "        accuracy                           0.73       380\n",
      "       macro avg       0.80      0.74      0.72       380\n",
      "    weighted avg       0.80      0.73      0.72       380\n",
      "\n"
     ]
    },
    {
     "name": "stderr",
     "output_type": "stream",
     "text": [
      "Training Epochs:  55%|█████▌    | 1103/2000 [04:17<00:33, 26.99it/s]"
     ]
    },
    {
     "name": "stdout",
     "output_type": "stream",
     "text": [
      "Epoch 1100/2000, Loss: 0.1469\n",
      "Test Accuracy at Epoch 1100: 73.16%\n",
      "Test F1-score at Epoch 1100: 0.7783\n",
      "Classification Report at Epoch 1100:\n",
      "                  precision    recall  f1-score   support\n",
      "\n",
      "    infringement       0.93      0.51      0.66       194\n",
      "non_infringement       0.65      0.96      0.78       186\n",
      "\n",
      "        accuracy                           0.73       380\n",
      "       macro avg       0.79      0.74      0.72       380\n",
      "    weighted avg       0.80      0.73      0.72       380\n",
      "\n"
     ]
    },
    {
     "name": "stderr",
     "output_type": "stream",
     "text": [
      "Training Epochs:  56%|█████▌    | 1116/2000 [04:17<00:26, 32.93it/s]"
     ]
    },
    {
     "name": "stdout",
     "output_type": "stream",
     "text": [
      "Epoch 1110/2000, Loss: 0.2306\n",
      "Test Accuracy at Epoch 1110: 69.21%\n",
      "Test F1-score at Epoch 1110: 0.7568\n",
      "Classification Report at Epoch 1110:\n",
      "                  precision    recall  f1-score   support\n",
      "\n",
      "    infringement       0.95      0.42      0.58       194\n",
      "non_infringement       0.62      0.98      0.76       186\n",
      "\n",
      "        accuracy                           0.69       380\n",
      "       macro avg       0.78      0.70      0.67       380\n",
      "    weighted avg       0.79      0.69      0.67       380\n",
      "\n"
     ]
    },
    {
     "name": "stderr",
     "output_type": "stream",
     "text": [
      "Training Epochs:  56%|█████▌    | 1124/2000 [04:18<00:28, 31.02it/s]"
     ]
    },
    {
     "name": "stdout",
     "output_type": "stream",
     "text": [
      "Epoch 1120/2000, Loss: 0.2090\n",
      "Test Accuracy at Epoch 1120: 71.84%\n",
      "Test F1-score at Epoch 1120: 0.7709\n",
      "Classification Report at Epoch 1120:\n",
      "                  precision    recall  f1-score   support\n",
      "\n",
      "    infringement       0.94      0.48      0.63       194\n",
      "non_infringement       0.64      0.97      0.77       186\n",
      "\n",
      "        accuracy                           0.72       380\n",
      "       macro avg       0.79      0.72      0.70       380\n",
      "    weighted avg       0.79      0.72      0.70       380\n",
      "\n"
     ]
    },
    {
     "name": "stderr",
     "output_type": "stream",
     "text": [
      "Training Epochs:  56%|█████▋    | 1128/2000 [04:18<00:30, 28.94it/s]"
     ]
    },
    {
     "name": "stdout",
     "output_type": "stream",
     "text": [
      "Epoch 1130/2000, Loss: 0.1655\n",
      "Test Accuracy at Epoch 1130: 73.16%\n",
      "Test F1-score at Epoch 1130: 0.7773\n",
      "Classification Report at Epoch 1130:\n",
      "                  precision    recall  f1-score   support\n",
      "\n",
      "    infringement       0.93      0.52      0.66       194\n",
      "non_infringement       0.65      0.96      0.78       186\n",
      "\n",
      "        accuracy                           0.73       380\n",
      "       macro avg       0.79      0.74      0.72       380\n",
      "    weighted avg       0.79      0.73      0.72       380\n",
      "\n"
     ]
    },
    {
     "name": "stderr",
     "output_type": "stream",
     "text": [
      "Training Epochs:  57%|█████▋    | 1142/2000 [04:21<02:43,  5.25it/s]"
     ]
    },
    {
     "name": "stdout",
     "output_type": "stream",
     "text": [
      "Epoch 1140/2000, Loss: 0.1525\n",
      "Test Accuracy at Epoch 1140: 73.42%\n",
      "Test F1-score at Epoch 1140: 0.7800\n",
      "Classification Report at Epoch 1140:\n",
      "                  precision    recall  f1-score   support\n",
      "\n",
      "    infringement       0.93      0.52      0.66       194\n",
      "non_infringement       0.66      0.96      0.78       186\n",
      "\n",
      "        accuracy                           0.73       380\n",
      "       macro avg       0.80      0.74      0.72       380\n",
      "    weighted avg       0.80      0.73      0.72       380\n",
      "\n"
     ]
    },
    {
     "name": "stderr",
     "output_type": "stream",
     "text": [
      "Training Epochs:  57%|█████▊    | 1150/2000 [04:25<06:46,  2.09it/s]"
     ]
    },
    {
     "name": "stdout",
     "output_type": "stream",
     "text": [
      "Epoch 1150/2000, Loss: 0.1493\n",
      "Test Accuracy at Epoch 1150: 73.16%\n",
      "Test F1-score at Epoch 1150: 0.7783\n",
      "Classification Report at Epoch 1150:\n",
      "                  precision    recall  f1-score   support\n",
      "\n",
      "    infringement       0.93      0.51      0.66       194\n",
      "non_infringement       0.65      0.96      0.78       186\n",
      "\n",
      "        accuracy                           0.73       380\n",
      "       macro avg       0.79      0.74      0.72       380\n",
      "    weighted avg       0.80      0.73      0.72       380\n",
      "\n"
     ]
    },
    {
     "name": "stderr",
     "output_type": "stream",
     "text": [
      "Training Epochs:  58%|█████▊    | 1160/2000 [04:30<07:04,  1.98it/s]"
     ]
    },
    {
     "name": "stdout",
     "output_type": "stream",
     "text": [
      "Epoch 1160/2000, Loss: 0.1485\n",
      "Test Accuracy at Epoch 1160: 73.16%\n",
      "Test F1-score at Epoch 1160: 0.7783\n",
      "Classification Report at Epoch 1160:\n",
      "                  precision    recall  f1-score   support\n",
      "\n",
      "    infringement       0.93      0.51      0.66       194\n",
      "non_infringement       0.65      0.96      0.78       186\n",
      "\n",
      "        accuracy                           0.73       380\n",
      "       macro avg       0.79      0.74      0.72       380\n",
      "    weighted avg       0.80      0.73      0.72       380\n",
      "\n"
     ]
    },
    {
     "name": "stderr",
     "output_type": "stream",
     "text": [
      "Training Epochs:  58%|█████▊    | 1170/2000 [04:32<03:05,  4.48it/s]"
     ]
    },
    {
     "name": "stdout",
     "output_type": "stream",
     "text": [
      "Epoch 1170/2000, Loss: 0.1469\n",
      "Test Accuracy at Epoch 1170: 73.42%\n",
      "Test F1-score at Epoch 1170: 0.7800\n",
      "Classification Report at Epoch 1170:\n",
      "                  precision    recall  f1-score   support\n",
      "\n",
      "    infringement       0.93      0.52      0.66       194\n",
      "non_infringement       0.66      0.96      0.78       186\n",
      "\n",
      "        accuracy                           0.73       380\n",
      "       macro avg       0.80      0.74      0.72       380\n",
      "    weighted avg       0.80      0.73      0.72       380\n",
      "\n"
     ]
    },
    {
     "name": "stderr",
     "output_type": "stream",
     "text": [
      "Training Epochs:  59%|█████▉    | 1181/2000 [04:33<01:55,  7.10it/s]"
     ]
    },
    {
     "name": "stdout",
     "output_type": "stream",
     "text": [
      "Epoch 1180/2000, Loss: 0.1462\n",
      "Test Accuracy at Epoch 1180: 73.42%\n",
      "Test F1-score at Epoch 1180: 0.7800\n",
      "Classification Report at Epoch 1180:\n",
      "                  precision    recall  f1-score   support\n",
      "\n",
      "    infringement       0.93      0.52      0.66       194\n",
      "non_infringement       0.66      0.96      0.78       186\n",
      "\n",
      "        accuracy                           0.73       380\n",
      "       macro avg       0.80      0.74      0.72       380\n",
      "    weighted avg       0.80      0.73      0.72       380\n",
      "\n"
     ]
    },
    {
     "name": "stderr",
     "output_type": "stream",
     "text": [
      "Training Epochs:  60%|█████▉    | 1190/2000 [04:36<05:44,  2.35it/s]"
     ]
    },
    {
     "name": "stdout",
     "output_type": "stream",
     "text": [
      "Epoch 1190/2000, Loss: 0.1454\n",
      "Test Accuracy at Epoch 1190: 73.42%\n",
      "Test F1-score at Epoch 1190: 0.7800\n",
      "Classification Report at Epoch 1190:\n",
      "                  precision    recall  f1-score   support\n",
      "\n",
      "    infringement       0.93      0.52      0.66       194\n",
      "non_infringement       0.66      0.96      0.78       186\n",
      "\n",
      "        accuracy                           0.73       380\n",
      "       macro avg       0.80      0.74      0.72       380\n",
      "    weighted avg       0.80      0.73      0.72       380\n",
      "\n"
     ]
    },
    {
     "name": "stderr",
     "output_type": "stream",
     "text": [
      "Training Epochs:  60%|██████    | 1200/2000 [04:39<02:38,  5.05it/s]"
     ]
    },
    {
     "name": "stdout",
     "output_type": "stream",
     "text": [
      "Epoch 1200/2000, Loss: 0.1449\n",
      "Test Accuracy at Epoch 1200: 73.16%\n",
      "Test F1-score at Epoch 1200: 0.7783\n",
      "Classification Report at Epoch 1200:\n",
      "                  precision    recall  f1-score   support\n",
      "\n",
      "    infringement       0.93      0.51      0.66       194\n",
      "non_infringement       0.65      0.96      0.78       186\n",
      "\n",
      "        accuracy                           0.73       380\n",
      "       macro avg       0.79      0.74      0.72       380\n",
      "    weighted avg       0.80      0.73      0.72       380\n",
      "\n"
     ]
    },
    {
     "name": "stderr",
     "output_type": "stream",
     "text": [
      "Training Epochs:  61%|██████    | 1211/2000 [04:41<01:52,  6.98it/s]"
     ]
    },
    {
     "name": "stdout",
     "output_type": "stream",
     "text": [
      "Epoch 1210/2000, Loss: 0.1451\n",
      "Test Accuracy at Epoch 1210: 73.16%\n",
      "Test F1-score at Epoch 1210: 0.7783\n",
      "Classification Report at Epoch 1210:\n",
      "                  precision    recall  f1-score   support\n",
      "\n",
      "    infringement       0.93      0.51      0.66       194\n",
      "non_infringement       0.65      0.96      0.78       186\n",
      "\n",
      "        accuracy                           0.73       380\n",
      "       macro avg       0.79      0.74      0.72       380\n",
      "    weighted avg       0.80      0.73      0.72       380\n",
      "\n"
     ]
    },
    {
     "name": "stderr",
     "output_type": "stream",
     "text": [
      "Training Epochs:  61%|██████    | 1220/2000 [04:43<02:45,  4.71it/s]"
     ]
    },
    {
     "name": "stdout",
     "output_type": "stream",
     "text": [
      "Epoch 1220/2000, Loss: 0.2372\n",
      "Test Accuracy at Epoch 1220: 72.11%\n",
      "Test F1-score at Epoch 1220: 0.7735\n",
      "Classification Report at Epoch 1220:\n",
      "                  precision    recall  f1-score   support\n",
      "\n",
      "    infringement       0.95      0.48      0.64       194\n",
      "non_infringement       0.64      0.97      0.77       186\n",
      "\n",
      "        accuracy                           0.72       380\n",
      "       macro avg       0.80      0.73      0.71       380\n",
      "    weighted avg       0.80      0.72      0.70       380\n",
      "\n"
     ]
    },
    {
     "name": "stderr",
     "output_type": "stream",
     "text": [
      "Training Epochs:  62%|██████▏   | 1230/2000 [04:47<05:38,  2.27it/s]"
     ]
    },
    {
     "name": "stdout",
     "output_type": "stream",
     "text": [
      "Epoch 1230/2000, Loss: 0.1568\n",
      "Test Accuracy at Epoch 1230: 74.21%\n",
      "Test F1-score at Epoch 1230: 0.7832\n",
      "Classification Report at Epoch 1230:\n",
      "                  precision    recall  f1-score   support\n",
      "\n",
      "    infringement       0.92      0.54      0.68       194\n",
      "non_infringement       0.67      0.95      0.78       186\n",
      "\n",
      "        accuracy                           0.74       380\n",
      "       macro avg       0.79      0.75      0.73       380\n",
      "    weighted avg       0.80      0.74      0.73       380\n",
      "\n"
     ]
    },
    {
     "name": "stderr",
     "output_type": "stream",
     "text": [
      "Training Epochs:  62%|██████▏   | 1240/2000 [04:52<07:10,  1.77it/s]"
     ]
    },
    {
     "name": "stdout",
     "output_type": "stream",
     "text": [
      "Epoch 1240/2000, Loss: 0.1484\n",
      "Test Accuracy at Epoch 1240: 72.11%\n",
      "Test F1-score at Epoch 1240: 0.7716\n",
      "Classification Report at Epoch 1240:\n",
      "                  precision    recall  f1-score   support\n",
      "\n",
      "    infringement       0.93      0.49      0.64       194\n",
      "non_infringement       0.64      0.96      0.77       186\n",
      "\n",
      "        accuracy                           0.72       380\n",
      "       macro avg       0.79      0.73      0.71       380\n",
      "    weighted avg       0.79      0.72      0.71       380\n",
      "\n"
     ]
    },
    {
     "name": "stderr",
     "output_type": "stream",
     "text": [
      "Training Epochs:  62%|██████▎   | 1250/2000 [04:55<03:44,  3.33it/s]"
     ]
    },
    {
     "name": "stdout",
     "output_type": "stream",
     "text": [
      "Epoch 1250/2000, Loss: 0.1478\n",
      "Test Accuracy at Epoch 1250: 73.16%\n",
      "Test F1-score at Epoch 1250: 0.7783\n",
      "Classification Report at Epoch 1250:\n",
      "                  precision    recall  f1-score   support\n",
      "\n",
      "    infringement       0.93      0.51      0.66       194\n",
      "non_infringement       0.65      0.96      0.78       186\n",
      "\n",
      "        accuracy                           0.73       380\n",
      "       macro avg       0.79      0.74      0.72       380\n",
      "    weighted avg       0.80      0.73      0.72       380\n",
      "\n"
     ]
    },
    {
     "name": "stderr",
     "output_type": "stream",
     "text": [
      "Training Epochs:  63%|██████▎   | 1260/2000 [04:59<05:53,  2.10it/s]"
     ]
    },
    {
     "name": "stdout",
     "output_type": "stream",
     "text": [
      "Epoch 1260/2000, Loss: 0.1449\n",
      "Test Accuracy at Epoch 1260: 73.42%\n",
      "Test F1-score at Epoch 1260: 0.7800\n",
      "Classification Report at Epoch 1260:\n",
      "                  precision    recall  f1-score   support\n",
      "\n",
      "    infringement       0.93      0.52      0.66       194\n",
      "non_infringement       0.66      0.96      0.78       186\n",
      "\n",
      "        accuracy                           0.73       380\n",
      "       macro avg       0.80      0.74      0.72       380\n",
      "    weighted avg       0.80      0.73      0.72       380\n",
      "\n"
     ]
    },
    {
     "name": "stderr",
     "output_type": "stream",
     "text": [
      "Training Epochs:  64%|██████▎   | 1272/2000 [05:01<01:27,  8.36it/s]"
     ]
    },
    {
     "name": "stdout",
     "output_type": "stream",
     "text": [
      "Epoch 1270/2000, Loss: 0.1443\n",
      "Test Accuracy at Epoch 1270: 73.42%\n",
      "Test F1-score at Epoch 1270: 0.7800\n",
      "Classification Report at Epoch 1270:\n",
      "                  precision    recall  f1-score   support\n",
      "\n",
      "    infringement       0.93      0.52      0.66       194\n",
      "non_infringement       0.66      0.96      0.78       186\n",
      "\n",
      "        accuracy                           0.73       380\n",
      "       macro avg       0.80      0.74      0.72       380\n",
      "    weighted avg       0.80      0.73      0.72       380\n",
      "\n"
     ]
    },
    {
     "name": "stderr",
     "output_type": "stream",
     "text": [
      "Training Epochs:  64%|██████▍   | 1282/2000 [05:02<01:00, 11.92it/s]"
     ]
    },
    {
     "name": "stdout",
     "output_type": "stream",
     "text": [
      "Epoch 1280/2000, Loss: 0.1435\n",
      "Test Accuracy at Epoch 1280: 73.42%\n",
      "Test F1-score at Epoch 1280: 0.7800\n",
      "Classification Report at Epoch 1280:\n",
      "                  precision    recall  f1-score   support\n",
      "\n",
      "    infringement       0.93      0.52      0.66       194\n",
      "non_infringement       0.66      0.96      0.78       186\n",
      "\n",
      "        accuracy                           0.73       380\n",
      "       macro avg       0.80      0.74      0.72       380\n",
      "    weighted avg       0.80      0.73      0.72       380\n",
      "\n"
     ]
    },
    {
     "name": "stderr",
     "output_type": "stream",
     "text": [
      "Training Epochs:  64%|██████▍   | 1290/2000 [05:03<01:15,  9.45it/s]"
     ]
    },
    {
     "name": "stdout",
     "output_type": "stream",
     "text": [
      "Epoch 1290/2000, Loss: 0.1429\n",
      "Test Accuracy at Epoch 1290: 73.42%\n",
      "Test F1-score at Epoch 1290: 0.7800\n",
      "Classification Report at Epoch 1290:\n",
      "                  precision    recall  f1-score   support\n",
      "\n",
      "    infringement       0.93      0.52      0.66       194\n",
      "non_infringement       0.66      0.96      0.78       186\n",
      "\n",
      "        accuracy                           0.73       380\n",
      "       macro avg       0.80      0.74      0.72       380\n",
      "    weighted avg       0.80      0.73      0.72       380\n",
      "\n"
     ]
    },
    {
     "name": "stderr",
     "output_type": "stream",
     "text": [
      "Training Epochs:  65%|██████▌   | 1302/2000 [05:04<01:01, 11.40it/s]"
     ]
    },
    {
     "name": "stdout",
     "output_type": "stream",
     "text": [
      "Epoch 1300/2000, Loss: 0.1437\n",
      "Test Accuracy at Epoch 1300: 73.16%\n",
      "Test F1-score at Epoch 1300: 0.7783\n",
      "Classification Report at Epoch 1300:\n",
      "                  precision    recall  f1-score   support\n",
      "\n",
      "    infringement       0.93      0.51      0.66       194\n",
      "non_infringement       0.65      0.96      0.78       186\n",
      "\n",
      "        accuracy                           0.73       380\n",
      "       macro avg       0.79      0.74      0.72       380\n",
      "    weighted avg       0.80      0.73      0.72       380\n",
      "\n"
     ]
    },
    {
     "name": "stderr",
     "output_type": "stream",
     "text": [
      "Training Epochs:  66%|██████▌   | 1311/2000 [05:04<00:49, 14.04it/s]"
     ]
    },
    {
     "name": "stdout",
     "output_type": "stream",
     "text": [
      "Epoch 1310/2000, Loss: 0.1702\n",
      "Test Accuracy at Epoch 1310: 72.63%\n",
      "Test F1-score at Epoch 1310: 0.7749\n",
      "Classification Report at Epoch 1310:\n",
      "                  precision    recall  f1-score   support\n",
      "\n",
      "    infringement       0.93      0.50      0.65       194\n",
      "non_infringement       0.65      0.96      0.77       186\n",
      "\n",
      "        accuracy                           0.73       380\n",
      "       macro avg       0.79      0.73      0.71       380\n",
      "    weighted avg       0.79      0.73      0.71       380\n",
      "\n"
     ]
    },
    {
     "name": "stderr",
     "output_type": "stream",
     "text": [
      "Training Epochs:  66%|██████▌   | 1322/2000 [05:05<00:42, 16.11it/s]"
     ]
    },
    {
     "name": "stdout",
     "output_type": "stream",
     "text": [
      "Epoch 1320/2000, Loss: 0.1581\n",
      "Test Accuracy at Epoch 1320: 73.42%\n",
      "Test F1-score at Epoch 1320: 0.7790\n",
      "Classification Report at Epoch 1320:\n",
      "                  precision    recall  f1-score   support\n",
      "\n",
      "    infringement       0.93      0.52      0.67       194\n",
      "non_infringement       0.66      0.96      0.78       186\n",
      "\n",
      "        accuracy                           0.73       380\n",
      "       macro avg       0.79      0.74      0.72       380\n",
      "    weighted avg       0.79      0.73      0.72       380\n",
      "\n"
     ]
    },
    {
     "name": "stderr",
     "output_type": "stream",
     "text": [
      "Training Epochs:  67%|██████▋   | 1331/2000 [05:05<00:39, 16.88it/s]"
     ]
    },
    {
     "name": "stdout",
     "output_type": "stream",
     "text": [
      "Epoch 1330/2000, Loss: 0.1457\n",
      "Test Accuracy at Epoch 1330: 72.37%\n",
      "Test F1-score at Epoch 1330: 0.7732\n",
      "Classification Report at Epoch 1330:\n",
      "                  precision    recall  f1-score   support\n",
      "\n",
      "    infringement       0.93      0.49      0.65       194\n",
      "non_infringement       0.65      0.96      0.77       186\n",
      "\n",
      "        accuracy                           0.72       380\n",
      "       macro avg       0.79      0.73      0.71       380\n",
      "    weighted avg       0.79      0.72      0.71       380\n",
      "\n"
     ]
    },
    {
     "name": "stderr",
     "output_type": "stream",
     "text": [
      "Training Epochs:  67%|██████▋   | 1340/2000 [05:06<00:50, 12.96it/s]"
     ]
    },
    {
     "name": "stdout",
     "output_type": "stream",
     "text": [
      "Epoch 1340/2000, Loss: 0.1451\n",
      "Test Accuracy at Epoch 1340: 72.37%\n",
      "Test F1-score at Epoch 1340: 0.7732\n",
      "Classification Report at Epoch 1340:\n",
      "                  precision    recall  f1-score   support\n",
      "\n",
      "    infringement       0.93      0.49      0.65       194\n",
      "non_infringement       0.65      0.96      0.77       186\n",
      "\n",
      "        accuracy                           0.72       380\n",
      "       macro avg       0.79      0.73      0.71       380\n",
      "    weighted avg       0.79      0.72      0.71       380\n",
      "\n"
     ]
    },
    {
     "name": "stderr",
     "output_type": "stream",
     "text": [
      "Training Epochs:  68%|██████▊   | 1351/2000 [05:07<00:45, 14.42it/s]"
     ]
    },
    {
     "name": "stdout",
     "output_type": "stream",
     "text": [
      "Epoch 1350/2000, Loss: 0.1437\n",
      "Test Accuracy at Epoch 1350: 73.16%\n",
      "Test F1-score at Epoch 1350: 0.7783\n",
      "Classification Report at Epoch 1350:\n",
      "                  precision    recall  f1-score   support\n",
      "\n",
      "    infringement       0.93      0.51      0.66       194\n",
      "non_infringement       0.65      0.96      0.78       186\n",
      "\n",
      "        accuracy                           0.73       380\n",
      "       macro avg       0.79      0.74      0.72       380\n",
      "    weighted avg       0.80      0.73      0.72       380\n",
      "\n"
     ]
    },
    {
     "name": "stderr",
     "output_type": "stream",
     "text": [
      "Training Epochs:  68%|██████▊   | 1361/2000 [05:08<00:42, 15.18it/s]"
     ]
    },
    {
     "name": "stdout",
     "output_type": "stream",
     "text": [
      "Epoch 1360/2000, Loss: 0.1423\n",
      "Test Accuracy at Epoch 1360: 73.42%\n",
      "Test F1-score at Epoch 1360: 0.7800\n",
      "Classification Report at Epoch 1360:\n",
      "                  precision    recall  f1-score   support\n",
      "\n",
      "    infringement       0.93      0.52      0.66       194\n",
      "non_infringement       0.66      0.96      0.78       186\n",
      "\n",
      "        accuracy                           0.73       380\n",
      "       macro avg       0.80      0.74      0.72       380\n",
      "    weighted avg       0.80      0.73      0.72       380\n",
      "\n"
     ]
    },
    {
     "name": "stderr",
     "output_type": "stream",
     "text": [
      "Training Epochs:  69%|██████▊   | 1371/2000 [05:08<00:35, 17.82it/s]"
     ]
    },
    {
     "name": "stdout",
     "output_type": "stream",
     "text": [
      "Epoch 1370/2000, Loss: 0.1416\n",
      "Test Accuracy at Epoch 1370: 73.42%\n",
      "Test F1-score at Epoch 1370: 0.7800\n",
      "Classification Report at Epoch 1370:\n",
      "                  precision    recall  f1-score   support\n",
      "\n",
      "    infringement       0.93      0.52      0.66       194\n",
      "non_infringement       0.66      0.96      0.78       186\n",
      "\n",
      "        accuracy                           0.73       380\n",
      "       macro avg       0.80      0.74      0.72       380\n",
      "    weighted avg       0.80      0.73      0.72       380\n",
      "\n"
     ]
    },
    {
     "name": "stderr",
     "output_type": "stream",
     "text": [
      "Training Epochs:  69%|██████▉   | 1381/2000 [05:09<00:38, 16.01it/s]"
     ]
    },
    {
     "name": "stdout",
     "output_type": "stream",
     "text": [
      "Epoch 1380/2000, Loss: 0.1408\n",
      "Test Accuracy at Epoch 1380: 73.42%\n",
      "Test F1-score at Epoch 1380: 0.7800\n",
      "Classification Report at Epoch 1380:\n",
      "                  precision    recall  f1-score   support\n",
      "\n",
      "    infringement       0.93      0.52      0.66       194\n",
      "non_infringement       0.66      0.96      0.78       186\n",
      "\n",
      "        accuracy                           0.73       380\n",
      "       macro avg       0.80      0.74      0.72       380\n",
      "    weighted avg       0.80      0.73      0.72       380\n",
      "\n"
     ]
    },
    {
     "name": "stderr",
     "output_type": "stream",
     "text": [
      "Training Epochs:  70%|██████▉   | 1393/2000 [05:10<00:37, 16.17it/s]"
     ]
    },
    {
     "name": "stdout",
     "output_type": "stream",
     "text": [
      "Epoch 1390/2000, Loss: 0.1777\n",
      "Test Accuracy at Epoch 1390: 74.74%\n",
      "Test F1-score at Epoch 1390: 0.7867\n",
      "Classification Report at Epoch 1390:\n",
      "                  precision    recall  f1-score   support\n",
      "\n",
      "    infringement       0.92      0.55      0.69       194\n",
      "non_infringement       0.67      0.95      0.79       186\n",
      "\n",
      "        accuracy                           0.75       380\n",
      "       macro avg       0.80      0.75      0.74       380\n",
      "    weighted avg       0.80      0.75      0.74       380\n",
      "\n"
     ]
    },
    {
     "name": "stderr",
     "output_type": "stream",
     "text": [
      "Training Epochs:  70%|███████   | 1402/2000 [05:10<00:34, 17.23it/s]"
     ]
    },
    {
     "name": "stdout",
     "output_type": "stream",
     "text": [
      "Epoch 1400/2000, Loss: 0.1654\n",
      "Test Accuracy at Epoch 1400: 74.74%\n",
      "Test F1-score at Epoch 1400: 0.7867\n",
      "Classification Report at Epoch 1400:\n",
      "                  precision    recall  f1-score   support\n",
      "\n",
      "    infringement       0.92      0.55      0.69       194\n",
      "non_infringement       0.67      0.95      0.79       186\n",
      "\n",
      "        accuracy                           0.75       380\n",
      "       macro avg       0.80      0.75      0.74       380\n",
      "    weighted avg       0.80      0.75      0.74       380\n",
      "\n"
     ]
    },
    {
     "name": "stderr",
     "output_type": "stream",
     "text": [
      "Training Epochs:  70%|███████   | 1410/2000 [05:12<01:51,  5.31it/s]"
     ]
    },
    {
     "name": "stdout",
     "output_type": "stream",
     "text": [
      "Epoch 1410/2000, Loss: 0.1549\n",
      "Test Accuracy at Epoch 1410: 72.11%\n",
      "Test F1-score at Epoch 1410: 0.7725\n",
      "Classification Report at Epoch 1410:\n",
      "                  precision    recall  f1-score   support\n",
      "\n",
      "    infringement       0.94      0.48      0.64       194\n",
      "non_infringement       0.64      0.97      0.77       186\n",
      "\n",
      "        accuracy                           0.72       380\n",
      "       macro avg       0.79      0.73      0.71       380\n",
      "    weighted avg       0.79      0.72      0.70       380\n",
      "\n"
     ]
    },
    {
     "name": "stderr",
     "output_type": "stream",
     "text": [
      "Training Epochs:  71%|███████   | 1420/2000 [05:15<02:07,  4.56it/s]"
     ]
    },
    {
     "name": "stdout",
     "output_type": "stream",
     "text": [
      "Epoch 1420/2000, Loss: 0.1455\n",
      "Test Accuracy at Epoch 1420: 72.63%\n",
      "Test F1-score at Epoch 1420: 0.7749\n",
      "Classification Report at Epoch 1420:\n",
      "                  precision    recall  f1-score   support\n",
      "\n",
      "    infringement       0.93      0.50      0.65       194\n",
      "non_infringement       0.65      0.96      0.77       186\n",
      "\n",
      "        accuracy                           0.73       380\n",
      "       macro avg       0.79      0.73      0.71       380\n",
      "    weighted avg       0.79      0.73      0.71       380\n",
      "\n"
     ]
    },
    {
     "name": "stderr",
     "output_type": "stream",
     "text": [
      "Training Epochs:  72%|███████▏  | 1431/2000 [05:17<01:35,  5.95it/s]"
     ]
    },
    {
     "name": "stdout",
     "output_type": "stream",
     "text": [
      "Epoch 1430/2000, Loss: 0.1437\n",
      "Test Accuracy at Epoch 1430: 72.37%\n",
      "Test F1-score at Epoch 1430: 0.7732\n",
      "Classification Report at Epoch 1430:\n",
      "                  precision    recall  f1-score   support\n",
      "\n",
      "    infringement       0.93      0.49      0.65       194\n",
      "non_infringement       0.65      0.96      0.77       186\n",
      "\n",
      "        accuracy                           0.72       380\n",
      "       macro avg       0.79      0.73      0.71       380\n",
      "    weighted avg       0.79      0.72      0.71       380\n",
      "\n"
     ]
    },
    {
     "name": "stderr",
     "output_type": "stream",
     "text": [
      "Training Epochs:  72%|███████▏  | 1441/2000 [05:19<01:59,  4.70it/s]"
     ]
    },
    {
     "name": "stdout",
     "output_type": "stream",
     "text": [
      "Epoch 1440/2000, Loss: 0.1421\n",
      "Test Accuracy at Epoch 1440: 72.63%\n",
      "Test F1-score at Epoch 1440: 0.7749\n",
      "Classification Report at Epoch 1440:\n",
      "                  precision    recall  f1-score   support\n",
      "\n",
      "    infringement       0.93      0.50      0.65       194\n",
      "non_infringement       0.65      0.96      0.77       186\n",
      "\n",
      "        accuracy                           0.73       380\n",
      "       macro avg       0.79      0.73      0.71       380\n",
      "    weighted avg       0.79      0.73      0.71       380\n",
      "\n"
     ]
    },
    {
     "name": "stderr",
     "output_type": "stream",
     "text": [
      "Training Epochs:  72%|███████▎  | 1450/2000 [05:21<01:54,  4.82it/s]"
     ]
    },
    {
     "name": "stdout",
     "output_type": "stream",
     "text": [
      "Epoch 1450/2000, Loss: 0.1410\n",
      "Test Accuracy at Epoch 1450: 72.63%\n",
      "Test F1-score at Epoch 1450: 0.7749\n",
      "Classification Report at Epoch 1450:\n",
      "                  precision    recall  f1-score   support\n",
      "\n",
      "    infringement       0.93      0.50      0.65       194\n",
      "non_infringement       0.65      0.96      0.77       186\n",
      "\n",
      "        accuracy                           0.73       380\n",
      "       macro avg       0.79      0.73      0.71       380\n",
      "    weighted avg       0.79      0.73      0.71       380\n",
      "\n"
     ]
    },
    {
     "name": "stderr",
     "output_type": "stream",
     "text": [
      "Training Epochs:  73%|███████▎  | 1461/2000 [05:25<02:47,  3.22it/s]"
     ]
    },
    {
     "name": "stdout",
     "output_type": "stream",
     "text": [
      "Epoch 1460/2000, Loss: 0.1402\n",
      "Test Accuracy at Epoch 1460: 72.63%\n",
      "Test F1-score at Epoch 1460: 0.7749\n",
      "Classification Report at Epoch 1460:\n",
      "                  precision    recall  f1-score   support\n",
      "\n",
      "    infringement       0.93      0.50      0.65       194\n",
      "non_infringement       0.65      0.96      0.77       186\n",
      "\n",
      "        accuracy                           0.73       380\n",
      "       macro avg       0.79      0.73      0.71       380\n",
      "    weighted avg       0.79      0.73      0.71       380\n",
      "\n"
     ]
    },
    {
     "name": "stderr",
     "output_type": "stream",
     "text": [
      "Training Epochs:  74%|███████▎  | 1470/2000 [05:28<03:17,  2.68it/s]"
     ]
    },
    {
     "name": "stdout",
     "output_type": "stream",
     "text": [
      "Epoch 1470/2000, Loss: 0.1395\n",
      "Test Accuracy at Epoch 1470: 72.63%\n",
      "Test F1-score at Epoch 1470: 0.7749\n",
      "Classification Report at Epoch 1470:\n",
      "                  precision    recall  f1-score   support\n",
      "\n",
      "    infringement       0.93      0.50      0.65       194\n",
      "non_infringement       0.65      0.96      0.77       186\n",
      "\n",
      "        accuracy                           0.73       380\n",
      "       macro avg       0.79      0.73      0.71       380\n",
      "    weighted avg       0.79      0.73      0.71       380\n",
      "\n"
     ]
    },
    {
     "name": "stderr",
     "output_type": "stream",
     "text": [
      "Training Epochs:  74%|███████▍  | 1480/2000 [05:30<01:54,  4.55it/s]"
     ]
    },
    {
     "name": "stdout",
     "output_type": "stream",
     "text": [
      "Epoch 1480/2000, Loss: 0.1390\n",
      "Test Accuracy at Epoch 1480: 72.63%\n",
      "Test F1-score at Epoch 1480: 0.7749\n",
      "Classification Report at Epoch 1480:\n",
      "                  precision    recall  f1-score   support\n",
      "\n",
      "    infringement       0.93      0.50      0.65       194\n",
      "non_infringement       0.65      0.96      0.77       186\n",
      "\n",
      "        accuracy                           0.73       380\n",
      "       macro avg       0.79      0.73      0.71       380\n",
      "    weighted avg       0.79      0.73      0.71       380\n",
      "\n"
     ]
    },
    {
     "name": "stderr",
     "output_type": "stream",
     "text": [
      "Training Epochs:  74%|███████▍  | 1490/2000 [05:34<02:33,  3.33it/s]"
     ]
    },
    {
     "name": "stdout",
     "output_type": "stream",
     "text": [
      "Epoch 1490/2000, Loss: 0.1393\n",
      "Test Accuracy at Epoch 1490: 73.42%\n",
      "Test F1-score at Epoch 1490: 0.7800\n",
      "Classification Report at Epoch 1490:\n",
      "                  precision    recall  f1-score   support\n",
      "\n",
      "    infringement       0.93      0.52      0.66       194\n",
      "non_infringement       0.66      0.96      0.78       186\n",
      "\n",
      "        accuracy                           0.73       380\n",
      "       macro avg       0.80      0.74      0.72       380\n",
      "    weighted avg       0.80      0.73      0.72       380\n",
      "\n"
     ]
    },
    {
     "name": "stderr",
     "output_type": "stream",
     "text": [
      "Training Epochs:  75%|███████▌  | 1500/2000 [05:38<03:39,  2.28it/s]"
     ]
    },
    {
     "name": "stdout",
     "output_type": "stream",
     "text": [
      "Epoch 1500/2000, Loss: 0.1529\n",
      "Test Accuracy at Epoch 1500: 71.58%\n",
      "Test F1-score at Epoch 1500: 0.7712\n",
      "Classification Report at Epoch 1500:\n",
      "                  precision    recall  f1-score   support\n",
      "\n",
      "    infringement       0.96      0.46      0.62       194\n",
      "non_infringement       0.64      0.98      0.77       186\n",
      "\n",
      "        accuracy                           0.72       380\n",
      "       macro avg       0.80      0.72      0.70       380\n",
      "    weighted avg       0.80      0.72      0.70       380\n",
      "\n"
     ]
    },
    {
     "name": "stderr",
     "output_type": "stream",
     "text": [
      "Training Epochs:  76%|███████▌  | 1510/2000 [05:43<04:46,  1.71it/s]"
     ]
    },
    {
     "name": "stdout",
     "output_type": "stream",
     "text": [
      "Epoch 1510/2000, Loss: 0.1627\n",
      "Test Accuracy at Epoch 1510: 72.63%\n",
      "Test F1-score at Epoch 1510: 0.7749\n",
      "Classification Report at Epoch 1510:\n",
      "                  precision    recall  f1-score   support\n",
      "\n",
      "    infringement       0.93      0.50      0.65       194\n",
      "non_infringement       0.65      0.96      0.77       186\n",
      "\n",
      "        accuracy                           0.73       380\n",
      "       macro avg       0.79      0.73      0.71       380\n",
      "    weighted avg       0.79      0.73      0.71       380\n",
      "\n"
     ]
    },
    {
     "name": "stderr",
     "output_type": "stream",
     "text": [
      "Training Epochs:  76%|███████▌  | 1520/2000 [05:46<02:40,  2.99it/s]"
     ]
    },
    {
     "name": "stdout",
     "output_type": "stream",
     "text": [
      "Epoch 1520/2000, Loss: 0.1474\n",
      "Test Accuracy at Epoch 1520: 72.63%\n",
      "Test F1-score at Epoch 1520: 0.7749\n",
      "Classification Report at Epoch 1520:\n",
      "                  precision    recall  f1-score   support\n",
      "\n",
      "    infringement       0.93      0.50      0.65       194\n",
      "non_infringement       0.65      0.96      0.77       186\n",
      "\n",
      "        accuracy                           0.73       380\n",
      "       macro avg       0.79      0.73      0.71       380\n",
      "    weighted avg       0.79      0.73      0.71       380\n",
      "\n"
     ]
    },
    {
     "name": "stderr",
     "output_type": "stream",
     "text": [
      "Training Epochs:  76%|███████▋  | 1530/2000 [05:48<01:28,  5.30it/s]"
     ]
    },
    {
     "name": "stdout",
     "output_type": "stream",
     "text": [
      "Epoch 1530/2000, Loss: 0.1433\n",
      "Test Accuracy at Epoch 1530: 72.11%\n",
      "Test F1-score at Epoch 1530: 0.7716\n",
      "Classification Report at Epoch 1530:\n",
      "                  precision    recall  f1-score   support\n",
      "\n",
      "    infringement       0.93      0.49      0.64       194\n",
      "non_infringement       0.64      0.96      0.77       186\n",
      "\n",
      "        accuracy                           0.72       380\n",
      "       macro avg       0.79      0.73      0.71       380\n",
      "    weighted avg       0.79      0.72      0.71       380\n",
      "\n"
     ]
    },
    {
     "name": "stderr",
     "output_type": "stream",
     "text": [
      "Training Epochs:  77%|███████▋  | 1541/2000 [05:52<01:53,  4.06it/s]"
     ]
    },
    {
     "name": "stdout",
     "output_type": "stream",
     "text": [
      "Epoch 1540/2000, Loss: 0.1392\n",
      "Test Accuracy at Epoch 1540: 72.63%\n",
      "Test F1-score at Epoch 1540: 0.7749\n",
      "Classification Report at Epoch 1540:\n",
      "                  precision    recall  f1-score   support\n",
      "\n",
      "    infringement       0.93      0.50      0.65       194\n",
      "non_infringement       0.65      0.96      0.77       186\n",
      "\n",
      "        accuracy                           0.73       380\n",
      "       macro avg       0.79      0.73      0.71       380\n",
      "    weighted avg       0.79      0.73      0.71       380\n",
      "\n"
     ]
    },
    {
     "name": "stderr",
     "output_type": "stream",
     "text": [
      "Training Epochs:  78%|███████▊  | 1550/2000 [05:56<03:44,  2.01it/s]"
     ]
    },
    {
     "name": "stdout",
     "output_type": "stream",
     "text": [
      "Epoch 1550/2000, Loss: 0.1389\n",
      "Test Accuracy at Epoch 1550: 72.63%\n",
      "Test F1-score at Epoch 1550: 0.7749\n",
      "Classification Report at Epoch 1550:\n",
      "                  precision    recall  f1-score   support\n",
      "\n",
      "    infringement       0.93      0.50      0.65       194\n",
      "non_infringement       0.65      0.96      0.77       186\n",
      "\n",
      "        accuracy                           0.73       380\n",
      "       macro avg       0.79      0.73      0.71       380\n",
      "    weighted avg       0.79      0.73      0.71       380\n",
      "\n"
     ]
    },
    {
     "name": "stderr",
     "output_type": "stream",
     "text": [
      "Training Epochs:  78%|███████▊  | 1560/2000 [05:59<01:42,  4.27it/s]"
     ]
    },
    {
     "name": "stdout",
     "output_type": "stream",
     "text": [
      "Epoch 1560/2000, Loss: 0.1380\n",
      "Test Accuracy at Epoch 1560: 72.63%\n",
      "Test F1-score at Epoch 1560: 0.7749\n",
      "Classification Report at Epoch 1560:\n",
      "                  precision    recall  f1-score   support\n",
      "\n",
      "    infringement       0.93      0.50      0.65       194\n",
      "non_infringement       0.65      0.96      0.77       186\n",
      "\n",
      "        accuracy                           0.73       380\n",
      "       macro avg       0.79      0.73      0.71       380\n",
      "    weighted avg       0.79      0.73      0.71       380\n",
      "\n"
     ]
    },
    {
     "name": "stderr",
     "output_type": "stream",
     "text": [
      "Training Epochs:  78%|███████▊  | 1570/2000 [06:02<01:46,  4.05it/s]"
     ]
    },
    {
     "name": "stdout",
     "output_type": "stream",
     "text": [
      "Epoch 1570/2000, Loss: 0.1374\n",
      "Test Accuracy at Epoch 1570: 72.63%\n",
      "Test F1-score at Epoch 1570: 0.7749\n",
      "Classification Report at Epoch 1570:\n",
      "                  precision    recall  f1-score   support\n",
      "\n",
      "    infringement       0.93      0.50      0.65       194\n",
      "non_infringement       0.65      0.96      0.77       186\n",
      "\n",
      "        accuracy                           0.73       380\n",
      "       macro avg       0.79      0.73      0.71       380\n",
      "    weighted avg       0.79      0.73      0.71       380\n",
      "\n"
     ]
    },
    {
     "name": "stderr",
     "output_type": "stream",
     "text": [
      "Training Epochs:  79%|███████▉  | 1580/2000 [06:05<02:42,  2.59it/s]"
     ]
    },
    {
     "name": "stdout",
     "output_type": "stream",
     "text": [
      "Epoch 1580/2000, Loss: 0.1368\n",
      "Test Accuracy at Epoch 1580: 72.63%\n",
      "Test F1-score at Epoch 1580: 0.7749\n",
      "Classification Report at Epoch 1580:\n",
      "                  precision    recall  f1-score   support\n",
      "\n",
      "    infringement       0.93      0.50      0.65       194\n",
      "non_infringement       0.65      0.96      0.77       186\n",
      "\n",
      "        accuracy                           0.73       380\n",
      "       macro avg       0.79      0.73      0.71       380\n",
      "    weighted avg       0.79      0.73      0.71       380\n",
      "\n"
     ]
    },
    {
     "name": "stderr",
     "output_type": "stream",
     "text": [
      "Training Epochs:  80%|███████▉  | 1592/2000 [06:08<01:02,  6.51it/s]"
     ]
    },
    {
     "name": "stdout",
     "output_type": "stream",
     "text": [
      "Epoch 1590/2000, Loss: 0.1634\n",
      "Test Accuracy at Epoch 1590: 74.21%\n",
      "Test F1-score at Epoch 1590: 0.7841\n",
      "Classification Report at Epoch 1590:\n",
      "                  precision    recall  f1-score   support\n",
      "\n",
      "    infringement       0.93      0.54      0.68       194\n",
      "non_infringement       0.66      0.96      0.78       186\n",
      "\n",
      "        accuracy                           0.74       380\n",
      "       macro avg       0.80      0.75      0.73       380\n",
      "    weighted avg       0.80      0.74      0.73       380\n",
      "\n"
     ]
    },
    {
     "name": "stderr",
     "output_type": "stream",
     "text": [
      "Training Epochs:  80%|████████  | 1601/2000 [06:09<00:31, 12.49it/s]"
     ]
    },
    {
     "name": "stdout",
     "output_type": "stream",
     "text": [
      "Epoch 1600/2000, Loss: 0.1402\n",
      "Test Accuracy at Epoch 1600: 73.16%\n",
      "Test F1-score at Epoch 1600: 0.7783\n",
      "Classification Report at Epoch 1600:\n",
      "                  precision    recall  f1-score   support\n",
      "\n",
      "    infringement       0.93      0.51      0.66       194\n",
      "non_infringement       0.65      0.96      0.78       186\n",
      "\n",
      "        accuracy                           0.73       380\n",
      "       macro avg       0.79      0.74      0.72       380\n",
      "    weighted avg       0.80      0.73      0.72       380\n",
      "\n"
     ]
    },
    {
     "name": "stderr",
     "output_type": "stream",
     "text": [
      "Training Epochs:  81%|████████  | 1612/2000 [06:09<00:21, 18.22it/s]"
     ]
    },
    {
     "name": "stdout",
     "output_type": "stream",
     "text": [
      "Epoch 1610/2000, Loss: 0.1488\n",
      "Test Accuracy at Epoch 1610: 72.89%\n",
      "Test F1-score at Epoch 1610: 0.7766\n",
      "Classification Report at Epoch 1610:\n",
      "                  precision    recall  f1-score   support\n",
      "\n",
      "    infringement       0.93      0.51      0.66       194\n",
      "non_infringement       0.65      0.96      0.78       186\n",
      "\n",
      "        accuracy                           0.73       380\n",
      "       macro avg       0.79      0.73      0.72       380\n",
      "    weighted avg       0.80      0.73      0.71       380\n",
      "\n"
     ]
    },
    {
     "name": "stderr",
     "output_type": "stream",
     "text": [
      "Training Epochs:  81%|████████  | 1620/2000 [06:10<00:18, 20.06it/s]"
     ]
    },
    {
     "name": "stdout",
     "output_type": "stream",
     "text": [
      "Epoch 1620/2000, Loss: 0.1390\n",
      "Test Accuracy at Epoch 1620: 72.63%\n",
      "Test F1-score at Epoch 1620: 0.7749\n",
      "Classification Report at Epoch 1620:\n",
      "                  precision    recall  f1-score   support\n",
      "\n",
      "    infringement       0.93      0.50      0.65       194\n",
      "non_infringement       0.65      0.96      0.77       186\n",
      "\n",
      "        accuracy                           0.73       380\n",
      "       macro avg       0.79      0.73      0.71       380\n",
      "    weighted avg       0.79      0.73      0.71       380\n",
      "\n"
     ]
    },
    {
     "name": "stderr",
     "output_type": "stream",
     "text": [
      "Training Epochs:  82%|████████▏ | 1631/2000 [06:10<00:22, 16.14it/s]"
     ]
    },
    {
     "name": "stdout",
     "output_type": "stream",
     "text": [
      "Epoch 1630/2000, Loss: 0.1369\n",
      "Test Accuracy at Epoch 1630: 72.63%\n",
      "Test F1-score at Epoch 1630: 0.7749\n",
      "Classification Report at Epoch 1630:\n",
      "                  precision    recall  f1-score   support\n",
      "\n",
      "    infringement       0.93      0.50      0.65       194\n",
      "non_infringement       0.65      0.96      0.77       186\n",
      "\n",
      "        accuracy                           0.73       380\n",
      "       macro avg       0.79      0.73      0.71       380\n",
      "    weighted avg       0.79      0.73      0.71       380\n",
      "\n"
     ]
    },
    {
     "name": "stderr",
     "output_type": "stream",
     "text": [
      "Training Epochs:  82%|████████▏ | 1642/2000 [06:11<00:22, 15.82it/s]"
     ]
    },
    {
     "name": "stdout",
     "output_type": "stream",
     "text": [
      "Epoch 1640/2000, Loss: 0.1364\n",
      "Test Accuracy at Epoch 1640: 72.63%\n",
      "Test F1-score at Epoch 1640: 0.7749\n",
      "Classification Report at Epoch 1640:\n",
      "                  precision    recall  f1-score   support\n",
      "\n",
      "    infringement       0.93      0.50      0.65       194\n",
      "non_infringement       0.65      0.96      0.77       186\n",
      "\n",
      "        accuracy                           0.73       380\n",
      "       macro avg       0.79      0.73      0.71       380\n",
      "    weighted avg       0.79      0.73      0.71       380\n",
      "\n"
     ]
    },
    {
     "name": "stderr",
     "output_type": "stream",
     "text": [
      "Training Epochs:  83%|████████▎ | 1651/2000 [06:11<00:20, 17.40it/s]"
     ]
    },
    {
     "name": "stdout",
     "output_type": "stream",
     "text": [
      "Epoch 1650/2000, Loss: 0.1357\n",
      "Test Accuracy at Epoch 1650: 72.63%\n",
      "Test F1-score at Epoch 1650: 0.7749\n",
      "Classification Report at Epoch 1650:\n",
      "                  precision    recall  f1-score   support\n",
      "\n",
      "    infringement       0.93      0.50      0.65       194\n",
      "non_infringement       0.65      0.96      0.77       186\n",
      "\n",
      "        accuracy                           0.73       380\n",
      "       macro avg       0.79      0.73      0.71       380\n",
      "    weighted avg       0.79      0.73      0.71       380\n",
      "\n"
     ]
    },
    {
     "name": "stderr",
     "output_type": "stream",
     "text": [
      "Training Epochs:  83%|████████▎ | 1662/2000 [06:12<00:21, 15.98it/s]"
     ]
    },
    {
     "name": "stdout",
     "output_type": "stream",
     "text": [
      "Epoch 1660/2000, Loss: 0.1355\n",
      "Test Accuracy at Epoch 1660: 72.89%\n",
      "Test F1-score at Epoch 1660: 0.7766\n",
      "Classification Report at Epoch 1660:\n",
      "                  precision    recall  f1-score   support\n",
      "\n",
      "    infringement       0.93      0.51      0.66       194\n",
      "non_infringement       0.65      0.96      0.78       186\n",
      "\n",
      "        accuracy                           0.73       380\n",
      "       macro avg       0.79      0.73      0.72       380\n",
      "    weighted avg       0.80      0.73      0.71       380\n",
      "\n"
     ]
    },
    {
     "name": "stderr",
     "output_type": "stream",
     "text": [
      "Training Epochs:  84%|████████▎ | 1670/2000 [06:13<00:37,  8.86it/s]"
     ]
    },
    {
     "name": "stdout",
     "output_type": "stream",
     "text": [
      "Epoch 1670/2000, Loss: 0.1990\n",
      "Test Accuracy at Epoch 1670: 74.47%\n",
      "Test F1-score at Epoch 1670: 0.7849\n",
      "Classification Report at Epoch 1670:\n",
      "                  precision    recall  f1-score   support\n",
      "\n",
      "    infringement       0.92      0.55      0.69       194\n",
      "non_infringement       0.67      0.95      0.78       186\n",
      "\n",
      "        accuracy                           0.74       380\n",
      "       macro avg       0.79      0.75      0.74       380\n",
      "    weighted avg       0.80      0.74      0.73       380\n",
      "\n"
     ]
    },
    {
     "name": "stderr",
     "output_type": "stream",
     "text": [
      "Training Epochs:  84%|████████▍ | 1681/2000 [06:16<01:02,  5.07it/s]"
     ]
    },
    {
     "name": "stdout",
     "output_type": "stream",
     "text": [
      "Epoch 1680/2000, Loss: 0.1440\n",
      "Test Accuracy at Epoch 1680: 73.16%\n",
      "Test F1-score at Epoch 1680: 0.7773\n",
      "Classification Report at Epoch 1680:\n",
      "                  precision    recall  f1-score   support\n",
      "\n",
      "    infringement       0.93      0.52      0.66       194\n",
      "non_infringement       0.65      0.96      0.78       186\n",
      "\n",
      "        accuracy                           0.73       380\n",
      "       macro avg       0.79      0.74      0.72       380\n",
      "    weighted avg       0.79      0.73      0.72       380\n",
      "\n"
     ]
    },
    {
     "name": "stderr",
     "output_type": "stream",
     "text": [
      "Training Epochs:  84%|████████▍ | 1690/2000 [06:18<01:07,  4.60it/s]"
     ]
    },
    {
     "name": "stdout",
     "output_type": "stream",
     "text": [
      "Epoch 1690/2000, Loss: 0.1394\n",
      "Test Accuracy at Epoch 1690: 73.16%\n",
      "Test F1-score at Epoch 1690: 0.7783\n",
      "Classification Report at Epoch 1690:\n",
      "                  precision    recall  f1-score   support\n",
      "\n",
      "    infringement       0.93      0.51      0.66       194\n",
      "non_infringement       0.65      0.96      0.78       186\n",
      "\n",
      "        accuracy                           0.73       380\n",
      "       macro avg       0.79      0.74      0.72       380\n",
      "    weighted avg       0.80      0.73      0.72       380\n",
      "\n"
     ]
    },
    {
     "name": "stderr",
     "output_type": "stream",
     "text": [
      "Training Epochs:  85%|████████▌ | 1700/2000 [06:23<02:38,  1.90it/s]"
     ]
    },
    {
     "name": "stdout",
     "output_type": "stream",
     "text": [
      "Epoch 1700/2000, Loss: 0.1361\n",
      "Test Accuracy at Epoch 1700: 72.89%\n",
      "Test F1-score at Epoch 1700: 0.7766\n",
      "Classification Report at Epoch 1700:\n",
      "                  precision    recall  f1-score   support\n",
      "\n",
      "    infringement       0.93      0.51      0.66       194\n",
      "non_infringement       0.65      0.96      0.78       186\n",
      "\n",
      "        accuracy                           0.73       380\n",
      "       macro avg       0.79      0.73      0.72       380\n",
      "    weighted avg       0.80      0.73      0.71       380\n",
      "\n"
     ]
    },
    {
     "name": "stderr",
     "output_type": "stream",
     "text": [
      "Training Epochs:  86%|████████▌ | 1711/2000 [06:27<01:08,  4.22it/s]"
     ]
    },
    {
     "name": "stdout",
     "output_type": "stream",
     "text": [
      "Epoch 1710/2000, Loss: 0.1354\n",
      "Test Accuracy at Epoch 1710: 72.37%\n",
      "Test F1-score at Epoch 1710: 0.7732\n",
      "Classification Report at Epoch 1710:\n",
      "                  precision    recall  f1-score   support\n",
      "\n",
      "    infringement       0.93      0.49      0.65       194\n",
      "non_infringement       0.65      0.96      0.77       186\n",
      "\n",
      "        accuracy                           0.72       380\n",
      "       macro avg       0.79      0.73      0.71       380\n",
      "    weighted avg       0.79      0.72      0.71       380\n",
      "\n"
     ]
    },
    {
     "name": "stderr",
     "output_type": "stream",
     "text": [
      "Training Epochs:  86%|████████▌ | 1720/2000 [06:28<01:05,  4.29it/s]"
     ]
    },
    {
     "name": "stdout",
     "output_type": "stream",
     "text": [
      "Epoch 1720/2000, Loss: 0.1344\n",
      "Test Accuracy at Epoch 1720: 72.89%\n",
      "Test F1-score at Epoch 1720: 0.7766\n",
      "Classification Report at Epoch 1720:\n",
      "                  precision    recall  f1-score   support\n",
      "\n",
      "    infringement       0.93      0.51      0.66       194\n",
      "non_infringement       0.65      0.96      0.78       186\n",
      "\n",
      "        accuracy                           0.73       380\n",
      "       macro avg       0.79      0.73      0.72       380\n",
      "    weighted avg       0.80      0.73      0.71       380\n",
      "\n"
     ]
    },
    {
     "name": "stderr",
     "output_type": "stream",
     "text": [
      "Training Epochs:  86%|████████▋ | 1730/2000 [06:31<01:47,  2.51it/s]"
     ]
    },
    {
     "name": "stdout",
     "output_type": "stream",
     "text": [
      "Epoch 1730/2000, Loss: 0.1334\n",
      "Test Accuracy at Epoch 1730: 72.63%\n",
      "Test F1-score at Epoch 1730: 0.7749\n",
      "Classification Report at Epoch 1730:\n",
      "                  precision    recall  f1-score   support\n",
      "\n",
      "    infringement       0.93      0.50      0.65       194\n",
      "non_infringement       0.65      0.96      0.77       186\n",
      "\n",
      "        accuracy                           0.73       380\n",
      "       macro avg       0.79      0.73      0.71       380\n",
      "    weighted avg       0.79      0.73      0.71       380\n",
      "\n"
     ]
    },
    {
     "name": "stderr",
     "output_type": "stream",
     "text": [
      "Training Epochs:  87%|████████▋ | 1740/2000 [06:34<01:16,  3.41it/s]"
     ]
    },
    {
     "name": "stdout",
     "output_type": "stream",
     "text": [
      "Epoch 1740/2000, Loss: 0.2351\n",
      "Test Accuracy at Epoch 1740: 68.42%\n",
      "Test F1-score at Epoch 1740: 0.7521\n",
      "Classification Report at Epoch 1740:\n",
      "                  precision    recall  f1-score   support\n",
      "\n",
      "    infringement       0.95      0.40      0.57       194\n",
      "non_infringement       0.61      0.98      0.75       186\n",
      "\n",
      "        accuracy                           0.68       380\n",
      "       macro avg       0.78      0.69      0.66       380\n",
      "    weighted avg       0.78      0.68      0.66       380\n",
      "\n"
     ]
    },
    {
     "name": "stderr",
     "output_type": "stream",
     "text": [
      "Training Epochs:  88%|████████▊ | 1750/2000 [06:38<01:38,  2.54it/s]"
     ]
    },
    {
     "name": "stdout",
     "output_type": "stream",
     "text": [
      "Epoch 1750/2000, Loss: 0.1736\n",
      "Test Accuracy at Epoch 1750: 72.89%\n",
      "Test F1-score at Epoch 1750: 0.7794\n",
      "Classification Report at Epoch 1750:\n",
      "                  precision    recall  f1-score   support\n",
      "\n",
      "    infringement       0.96      0.49      0.65       194\n",
      "non_infringement       0.65      0.98      0.78       186\n",
      "\n",
      "        accuracy                           0.73       380\n",
      "       macro avg       0.80      0.73      0.71       380\n",
      "    weighted avg       0.81      0.73      0.71       380\n",
      "\n"
     ]
    },
    {
     "name": "stderr",
     "output_type": "stream",
     "text": [
      "Training Epochs:  88%|████████▊ | 1760/2000 [06:43<02:08,  1.87it/s]"
     ]
    },
    {
     "name": "stdout",
     "output_type": "stream",
     "text": [
      "Epoch 1760/2000, Loss: 0.1475\n",
      "Test Accuracy at Epoch 1760: 72.89%\n",
      "Test F1-score at Epoch 1760: 0.7766\n",
      "Classification Report at Epoch 1760:\n",
      "                  precision    recall  f1-score   support\n",
      "\n",
      "    infringement       0.93      0.51      0.66       194\n",
      "non_infringement       0.65      0.96      0.78       186\n",
      "\n",
      "        accuracy                           0.73       380\n",
      "       macro avg       0.79      0.73      0.72       380\n",
      "    weighted avg       0.80      0.73      0.71       380\n",
      "\n"
     ]
    },
    {
     "name": "stderr",
     "output_type": "stream",
     "text": [
      "Training Epochs:  88%|████████▊ | 1770/2000 [06:48<02:04,  1.85it/s]"
     ]
    },
    {
     "name": "stdout",
     "output_type": "stream",
     "text": [
      "Epoch 1770/2000, Loss: 0.1358\n",
      "Test Accuracy at Epoch 1770: 72.37%\n",
      "Test F1-score at Epoch 1770: 0.7732\n",
      "Classification Report at Epoch 1770:\n",
      "                  precision    recall  f1-score   support\n",
      "\n",
      "    infringement       0.93      0.49      0.65       194\n",
      "non_infringement       0.65      0.96      0.77       186\n",
      "\n",
      "        accuracy                           0.72       380\n",
      "       macro avg       0.79      0.73      0.71       380\n",
      "    weighted avg       0.79      0.72      0.71       380\n",
      "\n"
     ]
    },
    {
     "name": "stderr",
     "output_type": "stream",
     "text": [
      "Training Epochs:  89%|████████▉ | 1780/2000 [06:52<01:10,  3.14it/s]"
     ]
    },
    {
     "name": "stdout",
     "output_type": "stream",
     "text": [
      "Epoch 1780/2000, Loss: 0.1342\n",
      "Test Accuracy at Epoch 1780: 72.11%\n",
      "Test F1-score at Epoch 1780: 0.7716\n",
      "Classification Report at Epoch 1780:\n",
      "                  precision    recall  f1-score   support\n",
      "\n",
      "    infringement       0.93      0.49      0.64       194\n",
      "non_infringement       0.64      0.96      0.77       186\n",
      "\n",
      "        accuracy                           0.72       380\n",
      "       macro avg       0.79      0.73      0.71       380\n",
      "    weighted avg       0.79      0.72      0.71       380\n",
      "\n"
     ]
    },
    {
     "name": "stderr",
     "output_type": "stream",
     "text": [
      "Training Epochs:  90%|████████▉ | 1791/2000 [06:54<00:26,  7.89it/s]"
     ]
    },
    {
     "name": "stdout",
     "output_type": "stream",
     "text": [
      "Epoch 1790/2000, Loss: 0.1334\n",
      "Test Accuracy at Epoch 1790: 72.37%\n",
      "Test F1-score at Epoch 1790: 0.7732\n",
      "Classification Report at Epoch 1790:\n",
      "                  precision    recall  f1-score   support\n",
      "\n",
      "    infringement       0.93      0.49      0.65       194\n",
      "non_infringement       0.65      0.96      0.77       186\n",
      "\n",
      "        accuracy                           0.72       380\n",
      "       macro avg       0.79      0.73      0.71       380\n",
      "    weighted avg       0.79      0.72      0.71       380\n",
      "\n"
     ]
    },
    {
     "name": "stderr",
     "output_type": "stream",
     "text": [
      "Training Epochs:  90%|█████████ | 1800/2000 [06:54<00:14, 13.55it/s]"
     ]
    },
    {
     "name": "stdout",
     "output_type": "stream",
     "text": [
      "Epoch 1800/2000, Loss: 0.1325\n",
      "Test Accuracy at Epoch 1800: 72.63%\n",
      "Test F1-score at Epoch 1800: 0.7749\n",
      "Classification Report at Epoch 1800:\n",
      "                  precision    recall  f1-score   support\n",
      "\n",
      "    infringement       0.93      0.50      0.65       194\n",
      "non_infringement       0.65      0.96      0.77       186\n",
      "\n",
      "        accuracy                           0.73       380\n",
      "       macro avg       0.79      0.73      0.71       380\n",
      "    weighted avg       0.79      0.73      0.71       380\n",
      "\n"
     ]
    },
    {
     "name": "stderr",
     "output_type": "stream",
     "text": [
      "Training Epochs:  91%|█████████ | 1813/2000 [06:55<00:10, 18.05it/s]"
     ]
    },
    {
     "name": "stdout",
     "output_type": "stream",
     "text": [
      "Epoch 1810/2000, Loss: 0.1318\n",
      "Test Accuracy at Epoch 1810: 72.89%\n",
      "Test F1-score at Epoch 1810: 0.7766\n",
      "Classification Report at Epoch 1810:\n",
      "                  precision    recall  f1-score   support\n",
      "\n",
      "    infringement       0.93      0.51      0.66       194\n",
      "non_infringement       0.65      0.96      0.78       186\n",
      "\n",
      "        accuracy                           0.73       380\n",
      "       macro avg       0.79      0.73      0.72       380\n",
      "    weighted avg       0.80      0.73      0.71       380\n",
      "\n"
     ]
    },
    {
     "name": "stderr",
     "output_type": "stream",
     "text": [
      "Training Epochs:  91%|█████████ | 1821/2000 [06:55<00:11, 15.25it/s]"
     ]
    },
    {
     "name": "stdout",
     "output_type": "stream",
     "text": [
      "Epoch 1820/2000, Loss: 0.1330\n",
      "Test Accuracy at Epoch 1820: 72.89%\n",
      "Test F1-score at Epoch 1820: 0.7756\n",
      "Classification Report at Epoch 1820:\n",
      "                  precision    recall  f1-score   support\n",
      "\n",
      "    infringement       0.93      0.51      0.66       194\n",
      "non_infringement       0.65      0.96      0.78       186\n",
      "\n",
      "        accuracy                           0.73       380\n",
      "       macro avg       0.79      0.73      0.72       380\n",
      "    weighted avg       0.79      0.73      0.72       380\n",
      "\n"
     ]
    },
    {
     "name": "stderr",
     "output_type": "stream",
     "text": [
      "Training Epochs:  92%|█████████▏| 1831/2000 [06:56<00:11, 14.95it/s]"
     ]
    },
    {
     "name": "stdout",
     "output_type": "stream",
     "text": [
      "Epoch 1830/2000, Loss: 0.1365\n",
      "Test Accuracy at Epoch 1830: 72.11%\n",
      "Test F1-score at Epoch 1830: 0.7735\n",
      "Classification Report at Epoch 1830:\n",
      "                  precision    recall  f1-score   support\n",
      "\n",
      "    infringement       0.95      0.48      0.64       194\n",
      "non_infringement       0.64      0.97      0.77       186\n",
      "\n",
      "        accuracy                           0.72       380\n",
      "       macro avg       0.80      0.73      0.71       380\n",
      "    weighted avg       0.80      0.72      0.70       380\n",
      "\n"
     ]
    },
    {
     "name": "stderr",
     "output_type": "stream",
     "text": [
      "Training Epochs:  92%|█████████▏| 1841/2000 [06:57<00:11, 14.21it/s]"
     ]
    },
    {
     "name": "stdout",
     "output_type": "stream",
     "text": [
      "Epoch 1840/2000, Loss: 0.1371\n",
      "Test Accuracy at Epoch 1840: 72.63%\n",
      "Test F1-score at Epoch 1840: 0.7749\n",
      "Classification Report at Epoch 1840:\n",
      "                  precision    recall  f1-score   support\n",
      "\n",
      "    infringement       0.93      0.50      0.65       194\n",
      "non_infringement       0.65      0.96      0.77       186\n",
      "\n",
      "        accuracy                           0.73       380\n",
      "       macro avg       0.79      0.73      0.71       380\n",
      "    weighted avg       0.79      0.73      0.71       380\n",
      "\n"
     ]
    },
    {
     "name": "stderr",
     "output_type": "stream",
     "text": [
      "Training Epochs:  93%|█████████▎| 1853/2000 [06:58<00:08, 17.12it/s]"
     ]
    },
    {
     "name": "stdout",
     "output_type": "stream",
     "text": [
      "Epoch 1850/2000, Loss: 0.1356\n",
      "Test Accuracy at Epoch 1850: 72.89%\n",
      "Test F1-score at Epoch 1850: 0.7766\n",
      "Classification Report at Epoch 1850:\n",
      "                  precision    recall  f1-score   support\n",
      "\n",
      "    infringement       0.93      0.51      0.66       194\n",
      "non_infringement       0.65      0.96      0.78       186\n",
      "\n",
      "        accuracy                           0.73       380\n",
      "       macro avg       0.79      0.73      0.72       380\n",
      "    weighted avg       0.80      0.73      0.71       380\n",
      "\n"
     ]
    },
    {
     "name": "stderr",
     "output_type": "stream",
     "text": [
      "Training Epochs:  93%|█████████▎| 1864/2000 [06:58<00:07, 17.48it/s]"
     ]
    },
    {
     "name": "stdout",
     "output_type": "stream",
     "text": [
      "Epoch 1860/2000, Loss: 0.1317\n",
      "Test Accuracy at Epoch 1860: 72.89%\n",
      "Test F1-score at Epoch 1860: 0.7756\n",
      "Classification Report at Epoch 1860:\n",
      "                  precision    recall  f1-score   support\n",
      "\n",
      "    infringement       0.93      0.51      0.66       194\n",
      "non_infringement       0.65      0.96      0.78       186\n",
      "\n",
      "        accuracy                           0.73       380\n",
      "       macro avg       0.79      0.73      0.72       380\n",
      "    weighted avg       0.79      0.73      0.72       380\n",
      "\n"
     ]
    },
    {
     "name": "stderr",
     "output_type": "stream",
     "text": [
      "Training Epochs:  94%|█████████▎| 1872/2000 [06:59<00:08, 14.93it/s]"
     ]
    },
    {
     "name": "stdout",
     "output_type": "stream",
     "text": [
      "Epoch 1870/2000, Loss: 0.1313\n",
      "Test Accuracy at Epoch 1870: 71.84%\n",
      "Test F1-score at Epoch 1870: 0.7699\n",
      "Classification Report at Epoch 1870:\n",
      "                  precision    recall  f1-score   support\n",
      "\n",
      "    infringement       0.93      0.48      0.64       194\n",
      "non_infringement       0.64      0.96      0.77       186\n",
      "\n",
      "        accuracy                           0.72       380\n",
      "       macro avg       0.79      0.72      0.70       380\n",
      "    weighted avg       0.79      0.72      0.70       380\n",
      "\n"
     ]
    },
    {
     "name": "stderr",
     "output_type": "stream",
     "text": [
      "Training Epochs:  94%|█████████▍| 1881/2000 [06:59<00:08, 13.77it/s]"
     ]
    },
    {
     "name": "stdout",
     "output_type": "stream",
     "text": [
      "Epoch 1880/2000, Loss: 0.1409\n",
      "Test Accuracy at Epoch 1880: 71.58%\n",
      "Test F1-score at Epoch 1880: 0.7712\n",
      "Classification Report at Epoch 1880:\n",
      "                  precision    recall  f1-score   support\n",
      "\n",
      "    infringement       0.96      0.46      0.62       194\n",
      "non_infringement       0.64      0.98      0.77       186\n",
      "\n",
      "        accuracy                           0.72       380\n",
      "       macro avg       0.80      0.72      0.70       380\n",
      "    weighted avg       0.80      0.72      0.70       380\n",
      "\n"
     ]
    },
    {
     "name": "stderr",
     "output_type": "stream",
     "text": [
      "Training Epochs:  95%|█████████▍| 1892/2000 [07:00<00:06, 17.40it/s]"
     ]
    },
    {
     "name": "stdout",
     "output_type": "stream",
     "text": [
      "Epoch 1890/2000, Loss: 0.1303\n",
      "Test Accuracy at Epoch 1890: 72.89%\n",
      "Test F1-score at Epoch 1890: 0.7756\n",
      "Classification Report at Epoch 1890:\n",
      "                  precision    recall  f1-score   support\n",
      "\n",
      "    infringement       0.93      0.51      0.66       194\n",
      "non_infringement       0.65      0.96      0.78       186\n",
      "\n",
      "        accuracy                           0.73       380\n",
      "       macro avg       0.79      0.73      0.72       380\n",
      "    weighted avg       0.79      0.73      0.72       380\n",
      "\n"
     ]
    },
    {
     "name": "stderr",
     "output_type": "stream",
     "text": [
      "Training Epochs:  95%|█████████▌| 1904/2000 [07:01<00:04, 20.33it/s]"
     ]
    },
    {
     "name": "stdout",
     "output_type": "stream",
     "text": [
      "Epoch 1900/2000, Loss: 0.1304\n",
      "Test Accuracy at Epoch 1900: 71.84%\n",
      "Test F1-score at Epoch 1900: 0.7699\n",
      "Classification Report at Epoch 1900:\n",
      "                  precision    recall  f1-score   support\n",
      "\n",
      "    infringement       0.93      0.48      0.64       194\n",
      "non_infringement       0.64      0.96      0.77       186\n",
      "\n",
      "        accuracy                           0.72       380\n",
      "       macro avg       0.79      0.72      0.70       380\n",
      "    weighted avg       0.79      0.72      0.70       380\n",
      "\n"
     ]
    },
    {
     "name": "stderr",
     "output_type": "stream",
     "text": [
      "Training Epochs:  96%|█████████▌| 1910/2000 [07:01<00:04, 19.68it/s]"
     ]
    },
    {
     "name": "stdout",
     "output_type": "stream",
     "text": [
      "Epoch 1910/2000, Loss: 0.1303\n",
      "Test Accuracy at Epoch 1910: 71.84%\n",
      "Test F1-score at Epoch 1910: 0.7689\n",
      "Classification Report at Epoch 1910:\n",
      "                  precision    recall  f1-score   support\n",
      "\n",
      "    infringement       0.92      0.49      0.64       194\n",
      "non_infringement       0.64      0.96      0.77       186\n",
      "\n",
      "        accuracy                           0.72       380\n",
      "       macro avg       0.78      0.72      0.70       380\n",
      "    weighted avg       0.79      0.72      0.70       380\n",
      "\n"
     ]
    },
    {
     "name": "stderr",
     "output_type": "stream",
     "text": [
      "Training Epochs:  96%|█████████▌| 1921/2000 [07:01<00:03, 20.15it/s]"
     ]
    },
    {
     "name": "stdout",
     "output_type": "stream",
     "text": [
      "Epoch 1920/2000, Loss: 0.1388\n",
      "Test Accuracy at Epoch 1920: 73.16%\n",
      "Test F1-score at Epoch 1920: 0.7773\n",
      "Classification Report at Epoch 1920:\n",
      "                  precision    recall  f1-score   support\n",
      "\n",
      "    infringement       0.93      0.52      0.66       194\n",
      "non_infringement       0.65      0.96      0.78       186\n",
      "\n",
      "        accuracy                           0.73       380\n",
      "       macro avg       0.79      0.74      0.72       380\n",
      "    weighted avg       0.79      0.73      0.72       380\n",
      "\n"
     ]
    },
    {
     "name": "stderr",
     "output_type": "stream",
     "text": [
      "Training Epochs:  96%|█████████▋| 1930/2000 [07:02<00:03, 21.06it/s]"
     ]
    },
    {
     "name": "stdout",
     "output_type": "stream",
     "text": [
      "Epoch 1930/2000, Loss: 0.1302\n",
      "Test Accuracy at Epoch 1930: 72.11%\n",
      "Test F1-score at Epoch 1930: 0.7706\n",
      "Classification Report at Epoch 1930:\n",
      "                  precision    recall  f1-score   support\n",
      "\n",
      "    infringement       0.92      0.49      0.64       194\n",
      "non_infringement       0.64      0.96      0.77       186\n",
      "\n",
      "        accuracy                           0.72       380\n",
      "       macro avg       0.78      0.73      0.71       380\n",
      "    weighted avg       0.79      0.72      0.71       380\n",
      "\n"
     ]
    },
    {
     "name": "stderr",
     "output_type": "stream",
     "text": [
      "Training Epochs:  97%|█████████▋| 1943/2000 [07:03<00:03, 17.88it/s]"
     ]
    },
    {
     "name": "stdout",
     "output_type": "stream",
     "text": [
      "Epoch 1940/2000, Loss: 0.1634\n",
      "Test Accuracy at Epoch 1940: 73.16%\n",
      "Test F1-score at Epoch 1940: 0.7773\n",
      "Classification Report at Epoch 1940:\n",
      "                  precision    recall  f1-score   support\n",
      "\n",
      "    infringement       0.93      0.52      0.66       194\n",
      "non_infringement       0.65      0.96      0.78       186\n",
      "\n",
      "        accuracy                           0.73       380\n",
      "       macro avg       0.79      0.74      0.72       380\n",
      "    weighted avg       0.79      0.73      0.72       380\n",
      "\n"
     ]
    },
    {
     "name": "stderr",
     "output_type": "stream",
     "text": [
      "Training Epochs:  98%|█████████▊| 1952/2000 [07:03<00:02, 18.01it/s]"
     ]
    },
    {
     "name": "stdout",
     "output_type": "stream",
     "text": [
      "Epoch 1950/2000, Loss: 0.1393\n",
      "Test Accuracy at Epoch 1950: 72.37%\n",
      "Test F1-score at Epoch 1950: 0.7752\n",
      "Classification Report at Epoch 1950:\n",
      "                  precision    recall  f1-score   support\n",
      "\n",
      "    infringement       0.95      0.48      0.64       194\n",
      "non_infringement       0.64      0.97      0.78       186\n",
      "\n",
      "        accuracy                           0.72       380\n",
      "       macro avg       0.80      0.73      0.71       380\n",
      "    weighted avg       0.80      0.72      0.71       380\n",
      "\n"
     ]
    },
    {
     "name": "stderr",
     "output_type": "stream",
     "text": [
      "Training Epochs:  98%|█████████▊| 1961/2000 [07:04<00:02, 19.43it/s]"
     ]
    },
    {
     "name": "stdout",
     "output_type": "stream",
     "text": [
      "Epoch 1960/2000, Loss: 0.1356\n",
      "Test Accuracy at Epoch 1960: 70.79%\n",
      "Test F1-score at Epoch 1960: 0.7653\n",
      "Classification Report at Epoch 1960:\n",
      "                  precision    recall  f1-score   support\n",
      "\n",
      "    infringement       0.95      0.45      0.61       194\n",
      "non_infringement       0.63      0.97      0.77       186\n",
      "\n",
      "        accuracy                           0.71       380\n",
      "       macro avg       0.79      0.71      0.69       380\n",
      "    weighted avg       0.79      0.71      0.69       380\n",
      "\n"
     ]
    },
    {
     "name": "stderr",
     "output_type": "stream",
     "text": [
      "Training Epochs:  99%|█████████▊| 1973/2000 [07:04<00:01, 20.47it/s]"
     ]
    },
    {
     "name": "stdout",
     "output_type": "stream",
     "text": [
      "Epoch 1970/2000, Loss: 0.1285\n",
      "Test Accuracy at Epoch 1970: 72.37%\n",
      "Test F1-score at Epoch 1970: 0.7742\n",
      "Classification Report at Epoch 1970:\n",
      "                  precision    recall  f1-score   support\n",
      "\n",
      "    infringement       0.94      0.49      0.64       194\n",
      "non_infringement       0.65      0.97      0.77       186\n",
      "\n",
      "        accuracy                           0.72       380\n",
      "       macro avg       0.79      0.73      0.71       380\n",
      "    weighted avg       0.80      0.72      0.71       380\n",
      "\n"
     ]
    },
    {
     "name": "stderr",
     "output_type": "stream",
     "text": [
      "Training Epochs:  99%|█████████▉| 1981/2000 [07:05<00:01, 14.32it/s]"
     ]
    },
    {
     "name": "stdout",
     "output_type": "stream",
     "text": [
      "Epoch 1980/2000, Loss: 0.1278\n",
      "Test Accuracy at Epoch 1980: 71.32%\n",
      "Test F1-score at Epoch 1980: 0.7656\n",
      "Classification Report at Epoch 1980:\n",
      "                  precision    recall  f1-score   support\n",
      "\n",
      "    infringement       0.92      0.48      0.63       194\n",
      "non_infringement       0.64      0.96      0.77       186\n",
      "\n",
      "        accuracy                           0.71       380\n",
      "       macro avg       0.78      0.72      0.70       380\n",
      "    weighted avg       0.78      0.71      0.70       380\n",
      "\n"
     ]
    },
    {
     "name": "stderr",
     "output_type": "stream",
     "text": [
      "Training Epochs: 100%|█████████▉| 1992/2000 [07:05<00:00, 14.96it/s]"
     ]
    },
    {
     "name": "stdout",
     "output_type": "stream",
     "text": [
      "Epoch 1990/2000, Loss: 0.1282\n",
      "Test Accuracy at Epoch 1990: 72.37%\n",
      "Test F1-score at Epoch 1990: 0.7722\n",
      "Classification Report at Epoch 1990:\n",
      "                  precision    recall  f1-score   support\n",
      "\n",
      "    infringement       0.92      0.50      0.65       194\n",
      "non_infringement       0.65      0.96      0.77       186\n",
      "\n",
      "        accuracy                           0.72       380\n",
      "       macro avg       0.79      0.73      0.71       380\n",
      "    weighted avg       0.79      0.72      0.71       380\n",
      "\n"
     ]
    },
    {
     "name": "stderr",
     "output_type": "stream",
     "text": [
      "Training Epochs: 100%|██████████| 2000/2000 [07:09<00:00,  4.65it/s]"
     ]
    },
    {
     "name": "stdout",
     "output_type": "stream",
     "text": [
      "Epoch 2000/2000, Loss: 0.1311\n",
      "Test Accuracy at Epoch 2000: 71.84%\n",
      "Test F1-score at Epoch 2000: 0.7728\n",
      "Classification Report at Epoch 2000:\n",
      "                  precision    recall  f1-score   support\n",
      "\n",
      "    infringement       0.96      0.47      0.63       194\n",
      "non_infringement       0.64      0.98      0.77       186\n",
      "\n",
      "        accuracy                           0.72       380\n",
      "       macro avg       0.80      0.72      0.70       380\n",
      "    weighted avg       0.80      0.72      0.70       380\n",
      "\n"
     ]
    },
    {
     "name": "stderr",
     "output_type": "stream",
     "text": [
      "\n",
      "/tmp/ipykernel_55564/2033666368.py:59: FutureWarning: You are using `torch.load` with `weights_only=False` (the current default value), which uses the default pickle module implicitly. It is possible to construct malicious pickle data which will execute arbitrary code during unpickling (See https://github.com/pytorch/pytorch/blob/main/SECURITY.md#untrusted-models for more details). In a future release, the default value for `weights_only` will be flipped to `True`. This limits the functions that could be executed during unpickling. Arbitrary objects will no longer be allowed to be loaded via this mode unless they are explicitly allowlisted by the user via `torch.serialization.add_safe_globals`. We recommend you start setting `weights_only=True` for any use case where you don't have full control of the loaded file. Please open an issue on GitHub for any issues related to this experimental feature.\n",
      "  custom_mlp.load_state_dict(torch.load(checkpoint_path))\n"
     ]
    },
    {
     "data": {
      "image/png": "[encoded data removed]",
      "text/plain": [
       "<Figure size 1000x500 with 1 Axes>"
      ]
     },
     "metadata": {},
     "output_type": "display_data"
    },
    {
     "name": "stdout",
     "output_type": "stream",
     "text": [
      "Final Model Accuracy: 82.37%\n",
      "Final Model F1-score: 0.8354\n"
     ]
    }
   ],
   "source": [
    "input_dim = X_train.shape[1]\n",
    "hidden_dim = 256 \n",
    "print(f\"Training MLP model with input_dim={input_dim} and hidden_dim={hidden_dim}\")\n",
    "\n",
    "custom_mlp, losses, best_accuracy, best_f1 = train_model(X_train, y_train, X_test, y_test, input_dim, hidden_dim)"
   ]
  },
  {
   "cell_type": "code",
   "execution_count": 10,
   "metadata": {},
   "outputs": [
    {
     "name": "stdout",
     "output_type": "stream",
     "text": [
      "Checkpoint saved to '/home/guangwei/LLM-COPYRIGHT/copyright_newVersion/models/train_input_reference_0_layer.pth'.\n"
     ]
    }
   ],
   "source": [
    "def save_checkpoint(model, optimizer, epoch, loss, filepath):\n",
    "    checkpoint = {\n",
    "        'epoch': epoch + 1,\n",
    "        'model_state_dict': model.state_dict(),\n",
    "        'optimizer_state_dict': optimizer.state_dict(),\n",
    "        'loss': loss\n",
    "    }\n",
    "    torch.save(checkpoint, filepath)\n",
    "    print(f\"Checkpoint saved to '{filepath}'.\")\n",
    "\n",
    "save_checkpoint(custom_mlp, torch.optim.Adam(custom_mlp.parameters()), len(losses), losses[-1], checkpoint_file)"
   ]
  },
  {
   "cell_type": "code",
   "execution_count": 11,
   "metadata": {},
   "outputs": [
    {
     "name": "stdout",
     "output_type": "stream",
     "text": [
      "                  precision    recall  f1-score   support\n",
      "\n",
      "    infringement       0.90      0.74      0.81       194\n",
      "non_infringement       0.77      0.91      0.84       186\n",
      "\n",
      "        accuracy                           0.82       380\n",
      "       macro avg       0.83      0.83      0.82       380\n",
      "    weighted avg       0.84      0.82      0.82       380\n",
      "\n"
     ]
    },
    {
     "name": "stderr",
     "output_type": "stream",
     "text": [
      "/tmp/ipykernel_55564/2137335780.py:1: UserWarning: To copy construct from a tensor, it is recommended to use sourceTensor.clone().detach() or sourceTensor.clone().detach().requires_grad_(True), rather than torch.tensor(sourceTensor).\n",
      "  y_pred_final = (torch.sigmoid(torch.tensor(custom_mlp(torch.tensor(X_test, dtype=torch.float32)))) > 0.5).float().numpy()\n"
     ]
    }
   ],
   "source": [
    "y_pred_final = (torch.sigmoid(torch.tensor(custom_mlp(torch.tensor(X_test, dtype=torch.float32)))) > 0.5).float().numpy()\n",
    "print(classification_report(y_test, y_pred_final, target_names=[\"infringement\", \"non_infringement\"]))"
   ]
  }
 ],
 "metadata": {
  "kernelspec": {
   "display_name": "zdh",
   "language": "python",
   "name": "python3"
  },
  "language_info": {
   "codemirror_mode": {
    "name": "ipython",
    "version": 3
   },
   "file_extension": ".py",
   "mimetype": "text/x-python",
   "name": "python",
   "nbconvert_exporter": "python",
   "pygments_lexer": "ipython3",
   "version": "3.12.3"
  }
 },
 "nbformat": 4,
 "nbformat_minor": 2
}
