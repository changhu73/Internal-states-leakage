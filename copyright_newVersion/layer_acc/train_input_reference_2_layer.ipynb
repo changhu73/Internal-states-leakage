{
 "cells": [
  {
   "cell_type": "code",
   "execution_count": 1,
   "metadata": {},
   "outputs": [
    {
     "name": "stderr",
     "output_type": "stream",
     "text": [
      "/home/guangwei/miniconda3/envs/zdh/lib/python3.12/site-packages/tqdm/auto.py:21: TqdmWarning: IProgress not found. Please update jupyter and ipywidgets. See https://ipywidgets.readthedocs.io/en/stable/user_install.html\n",
      "  from .autonotebook import tqdm as notebook_tqdm\n"
     ]
    }
   ],
   "source": [
    "# import packages & variables\n",
    "import argparse\n",
    "import torch\n",
    "import torch.nn as nn\n",
    "import numpy as np\n",
    "from sklearn.metrics import accuracy_score, classification_report\n",
    "import matplotlib.pyplot as plt\n",
    "from tqdm import tqdm\n",
    "from transformers import AutoTokenizer, AutoModelForCausalLM, AutoModel, AutoModelForSequenceClassification\n",
    "import json\n",
    "import os\n",
    "\n",
    "os.environ[\"CUDA_VISIBLE_DEVICES\"] = \"0\"\n",
    "\n",
    "# Parameters\n",
    "model_name = 'meta-llama/Meta-Llama-3.1-8B'\n",
    "non_infringement_file = '/home/guangwei/LLM-COPYRIGHT/copyright_newVersion/test_division/extra_30.non_infringement.json'\n",
    "infringement_file = '/home/guangwei/LLM-COPYRIGHT/copyright_newVersion/test_division/extra_30.infringement.json'\n",
    "checkpoint_file = '/home/guangwei/LLM-COPYRIGHT/copyright_newVersion/models/train_input_reference_0_layer.pth'\n"
   ]
  },
  {
   "cell_type": "code",
   "execution_count": 2,
   "metadata": {},
   "outputs": [],
   "source": [
    "# Define CustumMLP for internal states train\n",
    "class CustomMLP(nn.Module):\n",
    "    def __init__(self, input_dim, hidden_dim):\n",
    "        super(CustomMLP, self).__init__()\n",
    "        self.down = nn.Linear(input_dim, hidden_dim)\n",
    "        self.gate = nn.Linear(input_dim, hidden_dim)\n",
    "        self.up = nn.Linear(hidden_dim, 1)\n",
    "        self.activation = nn.SiLU()\n",
    "\n",
    "    def forward(self, x):\n",
    "        down_output = self.down(x)\n",
    "        gate_output = self.gate(x)\n",
    "        gated_output = down_output * self.activation(gate_output)\n",
    "        return self.up(gated_output)"
   ]
  },
  {
   "cell_type": "code",
   "execution_count": 3,
   "metadata": {},
   "outputs": [],
   "source": [
    "# Extract hidden states/reference embeddings\n",
    "def extract_hidden_states(texts, model, tokenizer, batch_size=4):\n",
    "    device = torch.device(\"cuda\" if torch.cuda.is_available() else \"cpu\")\n",
    "    model.to(device)\n",
    "    model = nn.DataParallel(model)\n",
    "    hidden_states = []\n",
    "    \n",
    "    for i in tqdm(range(0, len(texts), batch_size), desc=\"Processing data batches\"):\n",
    "        batch_texts = texts[i:i + batch_size]\n",
    "        inputs = tokenizer(batch_texts, return_tensors=\"pt\", padding=True, truncation=True).to(device)\n",
    "        \n",
    "        with torch.no_grad():\n",
    "            outputs = model(**inputs)\n",
    "        hidden_states.append(outputs.hidden_states[2].mean(dim=1).cpu().numpy())\n",
    "    \n",
    "    return np.vstack(hidden_states)\n",
    "\n",
    "\n",
    "def extract_reference_embeddings(references, model, tokenizer, batch_size=4):\n",
    "    device = torch.device(\"cuda\" if torch.cuda.is_available() else \"cpu\")\n",
    "    model.to(device)\n",
    "    model = nn.DataParallel(model)\n",
    "    embeddings = []\n",
    "    for i in tqdm(range(0, len(references), batch_size), desc=\"Processing references\"):\n",
    "        batch_references = references[i:i + batch_size]\n",
    "        inputs = tokenizer(batch_references, return_tensors=\"pt\", padding=True, truncation=True).to(device)\n",
    "        with torch.no_grad():\n",
    "            outputs = model(**inputs)\n",
    "        embeddings.append(outputs.pooler_output.cpu().numpy())\n",
    "    return np.vstack(embeddings)"
   ]
  },
  {
   "cell_type": "code",
   "execution_count": 4,
   "metadata": {},
   "outputs": [],
   "source": [
    "# load data for infringement & non infringement\n",
    "def load_data(non_infringement_file, infringement_file):\n",
    "    with open(non_infringement_file, 'r', encoding='utf-8') as file:\n",
    "        non_infringement_json_data = json.load(file)\n",
    "\n",
    "    non_infringement_outputs = [entry['input'] for entry in non_infringement_json_data]\n",
    "    non_infringement_references = [entry['reference'] for entry in non_infringement_json_data]\n",
    "    y_non_infringement = [1] * len(non_infringement_outputs)\n",
    "\n",
    "    with open(infringement_file, 'r', encoding='utf-8') as file:\n",
    "        infringement_json_data = json.load(file)\n",
    "\n",
    "    infringement_outputs = [entry['input'] for entry in infringement_json_data]\n",
    "    infringement_references = [entry['reference'] for entry in infringement_json_data]\n",
    "    y_infringement = [0] * len(infringement_outputs)\n",
    "\n",
    "    return non_infringement_outputs, non_infringement_references, y_non_infringement, infringement_outputs, infringement_references, y_infringement"
   ]
  },
  {
   "cell_type": "code",
   "execution_count": 5,
   "metadata": {},
   "outputs": [],
   "source": [
    "from sklearn.metrics import accuracy_score, classification_report, f1_score\n",
    "\n",
    "# Train for best model\n",
    "def train_model(X_train, y_train, X_test, y_test, input_dim, hidden_dim, epochs=2000, lr=0.001, checkpoint_path=checkpoint_file):\n",
    "    custom_mlp = CustomMLP(input_dim, hidden_dim)\n",
    "    criterion = nn.BCEWithLogitsLoss()\n",
    "    optimizer = torch.optim.Adam(custom_mlp.parameters(), lr=lr)\n",
    "\n",
    "    X_train_tensor = torch.tensor(X_train, dtype=torch.float32)\n",
    "    y_train_tensor = torch.tensor(y_train, dtype=torch.float32).unsqueeze(1)\n",
    "\n",
    "    best_accuracy = -float('inf')\n",
    "    best_f1 = -float('inf')  # Track best F1-score\n",
    "    best_model_state = None\n",
    "    best_epoch = 0\n",
    "    losses = []\n",
    "\n",
    "    for epoch in tqdm(range(epochs), desc=\"Training Epochs\"):\n",
    "        custom_mlp.train()\n",
    "        optimizer.zero_grad()\n",
    "        outputs = custom_mlp(X_train_tensor)\n",
    "        loss = criterion(outputs, y_train_tensor)\n",
    "        loss.backward()\n",
    "        optimizer.step()\n",
    "        losses.append(loss.item())\n",
    "\n",
    "        # Every 10 epochs, evaluate the model\n",
    "        if (epoch + 1) % 10 == 0:\n",
    "            print(f\"Epoch {epoch + 1}/{epochs}, Loss: {loss.item():.4f}\")\n",
    "            \n",
    "            custom_mlp.eval()\n",
    "            X_test_tensor = torch.tensor(X_test, dtype=torch.float32)\n",
    "            with torch.no_grad():\n",
    "                y_pred_logits = custom_mlp(X_test_tensor)\n",
    "                y_pred = (torch.sigmoid(y_pred_logits) > 0.5).float().numpy()\n",
    "            \n",
    "            # Calculate accuracy and F1-score\n",
    "            accuracy = accuracy_score(y_test, y_pred)\n",
    "            f1 = f1_score(y_test, y_pred)  # F1-score calculation\n",
    "            \n",
    "            print(f\"Test Accuracy at Epoch {epoch + 1}: {accuracy * 100:.2f}%\")\n",
    "            print(f\"Test F1-score at Epoch {epoch + 1}: {f1:.4f}\")\n",
    "            \n",
    "            # Generate classification report\n",
    "            report = classification_report(y_test, y_pred, target_names=[\"infringement\", \"non_infringement\"])\n",
    "            print(f\"Classification Report at Epoch {epoch + 1}:\\n{report}\")\n",
    "\n",
    "            # Save the model if it achieves a better F1-score\n",
    "            if f1 > best_f1:\n",
    "                best_accuracy = accuracy\n",
    "                best_f1 = f1\n",
    "                best_model_state = custom_mlp.state_dict()\n",
    "                best_epoch = epoch + 1\n",
    "                torch.save(best_model_state, checkpoint_path)\n",
    "                print(f\"New best model saved with F1-score {best_f1:.4f} at epoch {best_epoch}\")\n",
    "                print(f\"Best Classification Report at Epoch {best_epoch}:\\n{report}\")\n",
    "\n",
    "    # Load the best model state\n",
    "    custom_mlp.load_state_dict(torch.load(checkpoint_path))\n",
    "\n",
    "    # Plot loss curve\n",
    "    plt.figure(figsize=(10, 5))\n",
    "    plt.plot(losses, label='Training Loss')\n",
    "    plt.xlabel('Epoch')\n",
    "    plt.ylabel('Loss')\n",
    "    plt.title('Training Loss Curve')\n",
    "    plt.legend()\n",
    "    plt.show()\n",
    "\n",
    "    print(f\"Final Model Accuracy: {best_accuracy * 100:.2f}%\")\n",
    "    print(f\"Final Model F1-score: {best_f1:.4f}\")\n",
    "    \n",
    "    return custom_mlp, losses, best_accuracy, best_f1\n"
   ]
  },
  {
   "cell_type": "code",
   "execution_count": 6,
   "metadata": {},
   "outputs": [
    {
     "name": "stderr",
     "output_type": "stream",
     "text": [
      "/home/guangwei/miniconda3/envs/zdh/lib/python3.12/site-packages/transformers/generation/configuration_utils.py:777: UserWarning: `return_dict_in_generate` is NOT set to `True`, but `output_hidden_states` is. When `return_dict_in_generate` is not `True`, `output_hidden_states` is ignored.\n",
      "  warnings.warn(\n",
      "Loading checkpoint shards: 100%|██████████| 4/4 [00:06<00:00,  1.66s/it]\n"
     ]
    }
   ],
   "source": [
    "tokenizer = AutoTokenizer.from_pretrained(model_name, model_max_length=512)\n",
    "model = AutoModelForCausalLM.from_pretrained(model_name, output_hidden_states=True)\n",
    "tokenizer.pad_token = tokenizer.eos_token\n",
    "bert_tokenizer = AutoTokenizer.from_pretrained('google-bert/bert-base-uncased')\n",
    "bert_model = AutoModel.from_pretrained('google-bert/bert-base-uncased')\n",
    "bert_tokenizer.pad_token = tokenizer.eos_token\n",
    "\n",
    "non_infringement_outputs, non_infringement_references, y_non_infringement, infringement_outputs, infringement_references, y_infringement = load_data(\n",
    "    non_infringement_file, infringement_file\n",
    ")\n",
    "\n",
    "y_non_infringement = np.array(y_non_infringement)\n",
    "y_infringement = np.array(y_infringement)\n"
   ]
  },
  {
   "cell_type": "code",
   "execution_count": 7,
   "metadata": {},
   "outputs": [
    {
     "name": "stdout",
     "output_type": "stream",
     "text": [
      "Extracting hidden states for non_infringement texts...\n"
     ]
    },
    {
     "name": "stderr",
     "output_type": "stream",
     "text": [
      "Processing data batches:   0%|          | 0/232 [00:00<?, ?it/s]Starting from v4.46, the `logits` model output will have the same type as the model (except at train time, where it will always be FP32)\n",
      "Processing data batches: 100%|██████████| 232/232 [01:36<00:00,  2.41it/s]\n"
     ]
    },
    {
     "name": "stdout",
     "output_type": "stream",
     "text": [
      "Extracting reference embeddings for non_infringement texts...\n"
     ]
    },
    {
     "name": "stderr",
     "output_type": "stream",
     "text": [
      "Processing references: 100%|██████████| 232/232 [00:06<00:00, 36.35it/s]\n"
     ]
    },
    {
     "name": "stdout",
     "output_type": "stream",
     "text": [
      "Extracting hidden states for infringement texts...\n"
     ]
    },
    {
     "name": "stderr",
     "output_type": "stream",
     "text": [
      "Processing data batches: 100%|██████████| 243/243 [01:54<00:00,  2.12it/s]\n"
     ]
    },
    {
     "name": "stdout",
     "output_type": "stream",
     "text": [
      "Extracting reference embeddings for infringement texts...\n"
     ]
    },
    {
     "name": "stderr",
     "output_type": "stream",
     "text": [
      "Processing references: 100%|██████████| 243/243 [00:06<00:00, 34.89it/s]\n"
     ]
    }
   ],
   "source": [
    "print(\"Extracting hidden states for non_infringement texts...\")\n",
    "X_non_infringement = extract_hidden_states(non_infringement_outputs, model, tokenizer)\n",
    "print(\"Extracting reference embeddings for non_infringement texts...\")\n",
    "reference_embeddings_non_infringement = extract_reference_embeddings(non_infringement_references, bert_model, bert_tokenizer)\n",
    "X_non_infringement_combined = np.hstack([X_non_infringement, reference_embeddings_non_infringement])\n",
    "\n",
    "print(\"Extracting hidden states for infringement texts...\")\n",
    "X_infringement = extract_hidden_states(infringement_outputs, model, tokenizer)\n",
    "print(\"Extracting reference embeddings for infringement texts...\")\n",
    "reference_embeddings_infringement = extract_reference_embeddings(infringement_references, bert_model, bert_tokenizer)\n",
    "X_infringement_combined = np.hstack([X_infringement, reference_embeddings_infringement])"
   ]
  },
  {
   "cell_type": "code",
   "execution_count": 8,
   "metadata": {},
   "outputs": [
    {
     "name": "stdout",
     "output_type": "stream",
     "text": [
      "Data successfully split into training and test sets.\n"
     ]
    }
   ],
   "source": [
    "split_index_non_infringement = int(0.8 * len(X_non_infringement_combined))\n",
    "X_non_infringement_train = X_non_infringement_combined[:split_index_non_infringement]\n",
    "X_non_infringement_test = X_non_infringement_combined[split_index_non_infringement:]\n",
    "y_non_infringement_train = y_non_infringement[:split_index_non_infringement]\n",
    "y_non_infringement_test = y_non_infringement[split_index_non_infringement:]\n",
    "\n",
    "split_index_infringement = int(0.8 * len(X_infringement_combined))\n",
    "X_infringement_train = X_infringement_combined[:split_index_infringement]\n",
    "X_infringement_test = X_infringement_combined[split_index_infringement:]\n",
    "y_infringement_train = y_infringement[:split_index_infringement]\n",
    "y_infringement_test = y_infringement[split_index_infringement:]\n",
    "\n",
    "X_train = np.vstack((X_non_infringement_train, X_infringement_train))\n",
    "X_test = np.vstack((X_non_infringement_test, X_infringement_test))\n",
    "y_train = np.concatenate((y_non_infringement_train, y_infringement_train))\n",
    "y_test = np.concatenate((y_non_infringement_test, y_infringement_test))\n",
    "\n",
    "print(\"Data successfully split into training and test sets.\")"
   ]
  },
  {
   "cell_type": "code",
   "execution_count": 9,
   "metadata": {},
   "outputs": [
    {
     "name": "stdout",
     "output_type": "stream",
     "text": [
      "Training MLP model with input_dim=4864 and hidden_dim=256\n"
     ]
    },
    {
     "name": "stderr",
     "output_type": "stream",
     "text": [
      "Training Epochs:   0%|          | 10/2000 [00:05<18:06,  1.83it/s]"
     ]
    },
    {
     "name": "stdout",
     "output_type": "stream",
     "text": [
      "Epoch 10/2000, Loss: 0.6599\n",
      "Test Accuracy at Epoch 10: 63.95%\n",
      "Test F1-score at Epoch 10: 0.6851\n",
      "Classification Report at Epoch 10:\n",
      "                  precision    recall  f1-score   support\n",
      "\n",
      "    infringement       0.72      0.48      0.58       194\n",
      "non_infringement       0.60      0.80      0.69       186\n",
      "\n",
      "        accuracy                           0.64       380\n",
      "       macro avg       0.66      0.64      0.63       380\n",
      "    weighted avg       0.66      0.64      0.63       380\n",
      "\n",
      "New best model saved with F1-score 0.6851 at epoch 10\n",
      "Best Classification Report at Epoch 10:\n",
      "                  precision    recall  f1-score   support\n",
      "\n",
      "    infringement       0.72      0.48      0.58       194\n",
      "non_infringement       0.60      0.80      0.69       186\n",
      "\n",
      "        accuracy                           0.64       380\n",
      "       macro avg       0.66      0.64      0.63       380\n",
      "    weighted avg       0.66      0.64      0.63       380\n",
      "\n"
     ]
    },
    {
     "name": "stderr",
     "output_type": "stream",
     "text": [
      "Training Epochs:   1%|          | 20/2000 [00:09<11:40,  2.82it/s]"
     ]
    },
    {
     "name": "stdout",
     "output_type": "stream",
     "text": [
      "Epoch 20/2000, Loss: 0.6056\n",
      "Test Accuracy at Epoch 20: 49.74%\n",
      "Test F1-score at Epoch 20: 0.6334\n",
      "Classification Report at Epoch 20:\n",
      "                  precision    recall  f1-score   support\n",
      "\n",
      "    infringement       0.53      0.12      0.20       194\n",
      "non_infringement       0.49      0.89      0.63       186\n",
      "\n",
      "        accuracy                           0.50       380\n",
      "       macro avg       0.51      0.51      0.42       380\n",
      "    weighted avg       0.51      0.50      0.41       380\n",
      "\n"
     ]
    },
    {
     "name": "stderr",
     "output_type": "stream",
     "text": [
      "Training Epochs:   1%|▏         | 29/2000 [00:12<12:33,  2.62it/s]"
     ]
    },
    {
     "name": "stdout",
     "output_type": "stream",
     "text": [
      "Epoch 30/2000, Loss: 0.5300\n",
      "Test Accuracy at Epoch 30: 72.11%\n",
      "Test F1-score at Epoch 30: 0.7591\n",
      "Classification Report at Epoch 30:\n",
      "                  precision    recall  f1-score   support\n",
      "\n",
      "    infringement       0.85      0.55      0.67       194\n",
      "non_infringement       0.66      0.90      0.76       186\n",
      "\n",
      "        accuracy                           0.72       380\n",
      "       macro avg       0.75      0.72      0.71       380\n",
      "    weighted avg       0.76      0.72      0.71       380\n",
      "\n"
     ]
    },
    {
     "name": "stderr",
     "output_type": "stream",
     "text": [
      "Training Epochs:   2%|▏         | 31/2000 [00:13<12:53,  2.54it/s]"
     ]
    },
    {
     "name": "stdout",
     "output_type": "stream",
     "text": [
      "New best model saved with F1-score 0.7591 at epoch 30\n",
      "Best Classification Report at Epoch 30:\n",
      "                  precision    recall  f1-score   support\n",
      "\n",
      "    infringement       0.85      0.55      0.67       194\n",
      "non_infringement       0.66      0.90      0.76       186\n",
      "\n",
      "        accuracy                           0.72       380\n",
      "       macro avg       0.75      0.72      0.71       380\n",
      "    weighted avg       0.76      0.72      0.71       380\n",
      "\n"
     ]
    },
    {
     "name": "stderr",
     "output_type": "stream",
     "text": [
      "Training Epochs:   2%|▏         | 40/2000 [00:16<06:44,  4.85it/s]"
     ]
    },
    {
     "name": "stdout",
     "output_type": "stream",
     "text": [
      "Epoch 40/2000, Loss: 0.4887\n",
      "Test Accuracy at Epoch 40: 73.42%\n",
      "Test F1-score at Epoch 40: 0.7578\n",
      "Classification Report at Epoch 40:\n",
      "                  precision    recall  f1-score   support\n",
      "\n",
      "    infringement       0.81      0.62      0.71       194\n",
      "non_infringement       0.68      0.85      0.76       186\n",
      "\n",
      "        accuracy                           0.73       380\n",
      "       macro avg       0.75      0.74      0.73       380\n",
      "    weighted avg       0.75      0.73      0.73       380\n",
      "\n"
     ]
    },
    {
     "name": "stderr",
     "output_type": "stream",
     "text": [
      "Training Epochs:   2%|▎         | 50/2000 [00:18<12:29,  2.60it/s]"
     ]
    },
    {
     "name": "stdout",
     "output_type": "stream",
     "text": [
      "Epoch 50/2000, Loss: 0.4313\n",
      "Test Accuracy at Epoch 50: 76.32%\n",
      "Test F1-score at Epoch 50: 0.7857\n",
      "Classification Report at Epoch 50:\n",
      "                  precision    recall  f1-score   support\n",
      "\n",
      "    infringement       0.86      0.64      0.74       194\n",
      "non_infringement       0.71      0.89      0.79       186\n",
      "\n",
      "        accuracy                           0.76       380\n",
      "       macro avg       0.78      0.77      0.76       380\n",
      "    weighted avg       0.78      0.76      0.76       380\n",
      "\n",
      "New best model saved with F1-score 0.7857 at epoch 50\n",
      "Best Classification Report at Epoch 50:\n",
      "                  precision    recall  f1-score   support\n",
      "\n",
      "    infringement       0.86      0.64      0.74       194\n",
      "non_infringement       0.71      0.89      0.79       186\n",
      "\n",
      "        accuracy                           0.76       380\n",
      "       macro avg       0.78      0.77      0.76       380\n",
      "    weighted avg       0.78      0.76      0.76       380\n",
      "\n"
     ]
    },
    {
     "name": "stderr",
     "output_type": "stream",
     "text": [
      "Training Epochs:   3%|▎         | 60/2000 [00:21<05:50,  5.54it/s]"
     ]
    },
    {
     "name": "stdout",
     "output_type": "stream",
     "text": [
      "Epoch 60/2000, Loss: 0.4081\n",
      "Test Accuracy at Epoch 60: 79.47%\n",
      "Test F1-score at Epoch 60: 0.8020\n",
      "Classification Report at Epoch 60:\n",
      "                  precision    recall  f1-score   support\n",
      "\n",
      "    infringement       0.84      0.74      0.79       194\n",
      "non_infringement       0.76      0.85      0.80       186\n",
      "\n",
      "        accuracy                           0.79       380\n",
      "       macro avg       0.80      0.80      0.79       380\n",
      "    weighted avg       0.80      0.79      0.79       380\n",
      "\n",
      "New best model saved with F1-score 0.8020 at epoch 60\n",
      "Best Classification Report at Epoch 60:\n",
      "                  precision    recall  f1-score   support\n",
      "\n",
      "    infringement       0.84      0.74      0.79       194\n",
      "non_infringement       0.76      0.85      0.80       186\n",
      "\n",
      "        accuracy                           0.79       380\n",
      "       macro avg       0.80      0.80      0.79       380\n",
      "    weighted avg       0.80      0.79      0.79       380\n",
      "\n"
     ]
    },
    {
     "name": "stderr",
     "output_type": "stream",
     "text": [
      "Training Epochs:   4%|▎         | 71/2000 [00:22<04:10,  7.70it/s]"
     ]
    },
    {
     "name": "stdout",
     "output_type": "stream",
     "text": [
      "Epoch 70/2000, Loss: 0.3526\n",
      "Test Accuracy at Epoch 70: 79.47%\n",
      "Test F1-score at Epoch 70: 0.8020\n",
      "Classification Report at Epoch 70:\n",
      "                  precision    recall  f1-score   support\n",
      "\n",
      "    infringement       0.84      0.74      0.79       194\n",
      "non_infringement       0.76      0.85      0.80       186\n",
      "\n",
      "        accuracy                           0.79       380\n",
      "       macro avg       0.80      0.80      0.79       380\n",
      "    weighted avg       0.80      0.79      0.79       380\n",
      "\n"
     ]
    },
    {
     "name": "stderr",
     "output_type": "stream",
     "text": [
      "Training Epochs:   4%|▍         | 80/2000 [00:23<05:34,  5.74it/s]"
     ]
    },
    {
     "name": "stdout",
     "output_type": "stream",
     "text": [
      "Epoch 80/2000, Loss: 0.3417\n",
      "Test Accuracy at Epoch 80: 80.00%\n",
      "Test F1-score at Epoch 80: 0.8257\n",
      "Classification Report at Epoch 80:\n",
      "                  precision    recall  f1-score   support\n",
      "\n",
      "    infringement       0.95      0.64      0.77       194\n",
      "non_infringement       0.72      0.97      0.83       186\n",
      "\n",
      "        accuracy                           0.80       380\n",
      "       macro avg       0.84      0.80      0.80       380\n",
      "    weighted avg       0.84      0.80      0.79       380\n",
      "\n",
      "New best model saved with F1-score 0.8257 at epoch 80\n",
      "Best Classification Report at Epoch 80:\n",
      "                  precision    recall  f1-score   support\n",
      "\n",
      "    infringement       0.95      0.64      0.77       194\n",
      "non_infringement       0.72      0.97      0.83       186\n",
      "\n",
      "        accuracy                           0.80       380\n",
      "       macro avg       0.84      0.80      0.80       380\n",
      "    weighted avg       0.84      0.80      0.79       380\n",
      "\n"
     ]
    },
    {
     "name": "stderr",
     "output_type": "stream",
     "text": [
      "Training Epochs:   4%|▍         | 90/2000 [00:27<15:23,  2.07it/s]"
     ]
    },
    {
     "name": "stdout",
     "output_type": "stream",
     "text": [
      "Epoch 90/2000, Loss: 0.3045\n",
      "Test Accuracy at Epoch 90: 79.47%\n",
      "Test F1-score at Epoch 90: 0.8219\n",
      "Classification Report at Epoch 90:\n",
      "                  precision    recall  f1-score   support\n",
      "\n",
      "    infringement       0.95      0.63      0.76       194\n",
      "non_infringement       0.71      0.97      0.82       186\n",
      "\n",
      "        accuracy                           0.79       380\n",
      "       macro avg       0.83      0.80      0.79       380\n",
      "    weighted avg       0.84      0.79      0.79       380\n",
      "\n"
     ]
    },
    {
     "name": "stderr",
     "output_type": "stream",
     "text": [
      "Training Epochs:   5%|▌         | 100/2000 [00:31<12:57,  2.44it/s]"
     ]
    },
    {
     "name": "stdout",
     "output_type": "stream",
     "text": [
      "Epoch 100/2000, Loss: 0.3111\n",
      "Test Accuracy at Epoch 100: 78.95%\n",
      "Test F1-score at Epoch 100: 0.7927\n",
      "Classification Report at Epoch 100:\n",
      "                  precision    recall  f1-score   support\n",
      "\n",
      "    infringement       0.82      0.76      0.79       194\n",
      "non_infringement       0.77      0.82      0.79       186\n",
      "\n",
      "        accuracy                           0.79       380\n",
      "       macro avg       0.79      0.79      0.79       380\n",
      "    weighted avg       0.79      0.79      0.79       380\n",
      "\n"
     ]
    },
    {
     "name": "stderr",
     "output_type": "stream",
     "text": [
      "Training Epochs:   6%|▌         | 111/2000 [00:33<04:27,  7.05it/s]"
     ]
    },
    {
     "name": "stdout",
     "output_type": "stream",
     "text": [
      "Epoch 110/2000, Loss: 0.3070\n",
      "Test Accuracy at Epoch 110: 79.74%\n",
      "Test F1-score at Epoch 110: 0.8238\n",
      "Classification Report at Epoch 110:\n",
      "                  precision    recall  f1-score   support\n",
      "\n",
      "    infringement       0.95      0.63      0.76       194\n",
      "non_infringement       0.72      0.97      0.82       186\n",
      "\n",
      "        accuracy                           0.80       380\n",
      "       macro avg       0.84      0.80      0.79       380\n",
      "    weighted avg       0.84      0.80      0.79       380\n",
      "\n"
     ]
    },
    {
     "name": "stderr",
     "output_type": "stream",
     "text": [
      "Training Epochs:   6%|▌         | 120/2000 [00:35<06:40,  4.69it/s]"
     ]
    },
    {
     "name": "stdout",
     "output_type": "stream",
     "text": [
      "Epoch 120/2000, Loss: 0.2886\n",
      "Test Accuracy at Epoch 120: 80.53%\n",
      "Test F1-score at Epoch 120: 0.8177\n",
      "Classification Report at Epoch 120:\n",
      "                  precision    recall  f1-score   support\n",
      "\n",
      "    infringement       0.88      0.72      0.79       194\n",
      "non_infringement       0.75      0.89      0.82       186\n",
      "\n",
      "        accuracy                           0.81       380\n",
      "       macro avg       0.81      0.81      0.80       380\n",
      "    weighted avg       0.82      0.81      0.80       380\n",
      "\n"
     ]
    },
    {
     "name": "stderr",
     "output_type": "stream",
     "text": [
      "Training Epochs:   6%|▋         | 130/2000 [00:37<07:24,  4.21it/s]"
     ]
    },
    {
     "name": "stdout",
     "output_type": "stream",
     "text": [
      "Epoch 130/2000, Loss: 0.2567\n",
      "Test Accuracy at Epoch 130: 82.37%\n",
      "Test F1-score at Epoch 130: 0.8401\n",
      "Classification Report at Epoch 130:\n",
      "                  precision    recall  f1-score   support\n",
      "\n",
      "    infringement       0.93      0.71      0.80       194\n",
      "non_infringement       0.76      0.95      0.84       186\n",
      "\n",
      "        accuracy                           0.82       380\n",
      "       macro avg       0.84      0.83      0.82       380\n",
      "    weighted avg       0.85      0.82      0.82       380\n",
      "\n",
      "New best model saved with F1-score 0.8401 at epoch 130\n",
      "Best Classification Report at Epoch 130:\n",
      "                  precision    recall  f1-score   support\n",
      "\n",
      "    infringement       0.93      0.71      0.80       194\n",
      "non_infringement       0.76      0.95      0.84       186\n",
      "\n",
      "        accuracy                           0.82       380\n",
      "       macro avg       0.84      0.83      0.82       380\n",
      "    weighted avg       0.85      0.82      0.82       380\n",
      "\n"
     ]
    },
    {
     "name": "stderr",
     "output_type": "stream",
     "text": [
      "Training Epochs:   7%|▋         | 140/2000 [00:39<07:17,  4.25it/s]"
     ]
    },
    {
     "name": "stdout",
     "output_type": "stream",
     "text": [
      "Epoch 140/2000, Loss: 0.2431\n",
      "Test Accuracy at Epoch 140: 81.84%\n",
      "Test F1-score at Epoch 140: 0.8369\n",
      "Classification Report at Epoch 140:\n",
      "                  precision    recall  f1-score   support\n",
      "\n",
      "    infringement       0.94      0.69      0.80       194\n",
      "non_infringement       0.75      0.95      0.84       186\n",
      "\n",
      "        accuracy                           0.82       380\n",
      "       macro avg       0.84      0.82      0.82       380\n",
      "    weighted avg       0.84      0.82      0.82       380\n",
      "\n"
     ]
    },
    {
     "name": "stderr",
     "output_type": "stream",
     "text": [
      "Training Epochs:   8%|▊         | 151/2000 [00:40<03:00, 10.26it/s]"
     ]
    },
    {
     "name": "stdout",
     "output_type": "stream",
     "text": [
      "Epoch 150/2000, Loss: 0.2552\n",
      "Test Accuracy at Epoch 150: 80.26%\n",
      "Test F1-score at Epoch 150: 0.8101\n",
      "Classification Report at Epoch 150:\n",
      "                  precision    recall  f1-score   support\n",
      "\n",
      "    infringement       0.85      0.75      0.79       194\n",
      "non_infringement       0.77      0.86      0.81       186\n",
      "\n",
      "        accuracy                           0.80       380\n",
      "       macro avg       0.81      0.80      0.80       380\n",
      "    weighted avg       0.81      0.80      0.80       380\n",
      "\n"
     ]
    },
    {
     "name": "stderr",
     "output_type": "stream",
     "text": [
      "Training Epochs:   8%|▊         | 161/2000 [00:41<03:09,  9.71it/s]"
     ]
    },
    {
     "name": "stdout",
     "output_type": "stream",
     "text": [
      "Epoch 160/2000, Loss: 0.2456\n",
      "Test Accuracy at Epoch 160: 83.16%\n",
      "Test F1-score at Epoch 160: 0.8483\n",
      "Classification Report at Epoch 160:\n",
      "                  precision    recall  f1-score   support\n",
      "\n",
      "    infringement       0.95      0.71      0.81       194\n",
      "non_infringement       0.76      0.96      0.85       186\n",
      "\n",
      "        accuracy                           0.83       380\n",
      "       macro avg       0.85      0.83      0.83       380\n",
      "    weighted avg       0.86      0.83      0.83       380\n",
      "\n",
      "New best model saved with F1-score 0.8483 at epoch 160\n",
      "Best Classification Report at Epoch 160:\n",
      "                  precision    recall  f1-score   support\n",
      "\n",
      "    infringement       0.95      0.71      0.81       194\n",
      "non_infringement       0.76      0.96      0.85       186\n",
      "\n",
      "        accuracy                           0.83       380\n",
      "       macro avg       0.85      0.83      0.83       380\n",
      "    weighted avg       0.86      0.83      0.83       380\n",
      "\n"
     ]
    },
    {
     "name": "stderr",
     "output_type": "stream",
     "text": [
      "Training Epochs:   9%|▊         | 171/2000 [00:42<02:55, 10.45it/s]"
     ]
    },
    {
     "name": "stdout",
     "output_type": "stream",
     "text": [
      "Epoch 170/2000, Loss: 0.2183\n",
      "Test Accuracy at Epoch 170: 84.21%\n",
      "Test F1-score at Epoch 170: 0.8558\n",
      "Classification Report at Epoch 170:\n",
      "                  precision    recall  f1-score   support\n",
      "\n",
      "    infringement       0.95      0.73      0.83       194\n",
      "non_infringement       0.77      0.96      0.86       186\n",
      "\n",
      "        accuracy                           0.84       380\n",
      "       macro avg       0.86      0.84      0.84       380\n",
      "    weighted avg       0.86      0.84      0.84       380\n",
      "\n",
      "New best model saved with F1-score 0.8558 at epoch 170\n",
      "Best Classification Report at Epoch 170:\n",
      "                  precision    recall  f1-score   support\n",
      "\n",
      "    infringement       0.95      0.73      0.83       194\n",
      "non_infringement       0.77      0.96      0.86       186\n",
      "\n",
      "        accuracy                           0.84       380\n",
      "       macro avg       0.86      0.84      0.84       380\n",
      "    weighted avg       0.86      0.84      0.84       380\n",
      "\n"
     ]
    },
    {
     "name": "stderr",
     "output_type": "stream",
     "text": [
      "Training Epochs:   9%|▉         | 181/2000 [00:43<02:44, 11.07it/s]"
     ]
    },
    {
     "name": "stdout",
     "output_type": "stream",
     "text": [
      "Epoch 180/2000, Loss: 0.2130\n",
      "Test Accuracy at Epoch 180: 84.21%\n",
      "Test F1-score at Epoch 180: 0.8558\n",
      "Classification Report at Epoch 180:\n",
      "                  precision    recall  f1-score   support\n",
      "\n",
      "    infringement       0.95      0.73      0.83       194\n",
      "non_infringement       0.77      0.96      0.86       186\n",
      "\n",
      "        accuracy                           0.84       380\n",
      "       macro avg       0.86      0.84      0.84       380\n",
      "    weighted avg       0.86      0.84      0.84       380\n",
      "\n"
     ]
    },
    {
     "name": "stderr",
     "output_type": "stream",
     "text": [
      "Training Epochs:  10%|▉         | 190/2000 [00:45<08:21,  3.61it/s]"
     ]
    },
    {
     "name": "stdout",
     "output_type": "stream",
     "text": [
      "Epoch 190/2000, Loss: 0.2042\n",
      "Test Accuracy at Epoch 190: 83.68%\n",
      "Test F1-score at Epoch 190: 0.8524\n",
      "Classification Report at Epoch 190:\n",
      "                  precision    recall  f1-score   support\n",
      "\n",
      "    infringement       0.95      0.72      0.82       194\n",
      "non_infringement       0.76      0.96      0.85       186\n",
      "\n",
      "        accuracy                           0.84       380\n",
      "       macro avg       0.86      0.84      0.84       380\n",
      "    weighted avg       0.86      0.84      0.83       380\n",
      "\n"
     ]
    },
    {
     "name": "stderr",
     "output_type": "stream",
     "text": [
      "Training Epochs:  10%|█         | 201/2000 [00:48<05:18,  5.65it/s]"
     ]
    },
    {
     "name": "stdout",
     "output_type": "stream",
     "text": [
      "Epoch 200/2000, Loss: 0.2424\n",
      "Test Accuracy at Epoch 200: 84.21%\n",
      "Test F1-score at Epoch 200: 0.8551\n",
      "Classification Report at Epoch 200:\n",
      "                  precision    recall  f1-score   support\n",
      "\n",
      "    infringement       0.94      0.74      0.83       194\n",
      "non_infringement       0.78      0.95      0.86       186\n",
      "\n",
      "        accuracy                           0.84       380\n",
      "       macro avg       0.86      0.84      0.84       380\n",
      "    weighted avg       0.86      0.84      0.84       380\n",
      "\n"
     ]
    },
    {
     "name": "stderr",
     "output_type": "stream",
     "text": [
      "Training Epochs:  11%|█         | 211/2000 [00:49<03:33,  8.40it/s]"
     ]
    },
    {
     "name": "stdout",
     "output_type": "stream",
     "text": [
      "Epoch 210/2000, Loss: 0.2021\n",
      "Test Accuracy at Epoch 210: 83.42%\n",
      "Test F1-score at Epoch 210: 0.8511\n",
      "Classification Report at Epoch 210:\n",
      "                  precision    recall  f1-score   support\n",
      "\n",
      "    infringement       0.96      0.71      0.81       194\n",
      "non_infringement       0.76      0.97      0.85       186\n",
      "\n",
      "        accuracy                           0.83       380\n",
      "       macro avg       0.86      0.84      0.83       380\n",
      "    weighted avg       0.86      0.83      0.83       380\n",
      "\n"
     ]
    },
    {
     "name": "stderr",
     "output_type": "stream",
     "text": [
      "Training Epochs:  11%|█         | 221/2000 [00:50<02:27, 12.10it/s]"
     ]
    },
    {
     "name": "stdout",
     "output_type": "stream",
     "text": [
      "Epoch 220/2000, Loss: 0.1919\n",
      "Test Accuracy at Epoch 220: 83.42%\n",
      "Test F1-score at Epoch 220: 0.8496\n",
      "Classification Report at Epoch 220:\n",
      "                  precision    recall  f1-score   support\n",
      "\n",
      "    infringement       0.95      0.72      0.82       194\n",
      "non_infringement       0.76      0.96      0.85       186\n",
      "\n",
      "        accuracy                           0.83       380\n",
      "       macro avg       0.85      0.84      0.83       380\n",
      "    weighted avg       0.86      0.83      0.83       380\n",
      "\n"
     ]
    },
    {
     "name": "stderr",
     "output_type": "stream",
     "text": [
      "Training Epochs:  12%|█▏        | 231/2000 [00:51<02:11, 13.48it/s]"
     ]
    },
    {
     "name": "stdout",
     "output_type": "stream",
     "text": [
      "Epoch 230/2000, Loss: 0.2434\n",
      "Test Accuracy at Epoch 230: 83.42%\n",
      "Test F1-score at Epoch 230: 0.8452\n",
      "Classification Report at Epoch 230:\n",
      "                  precision    recall  f1-score   support\n",
      "\n",
      "    infringement       0.91      0.75      0.82       194\n",
      "non_infringement       0.78      0.92      0.85       186\n",
      "\n",
      "        accuracy                           0.83       380\n",
      "       macro avg       0.85      0.84      0.83       380\n",
      "    weighted avg       0.85      0.83      0.83       380\n",
      "\n"
     ]
    },
    {
     "name": "stderr",
     "output_type": "stream",
     "text": [
      "Training Epochs:  12%|█▏        | 244/2000 [00:51<01:37, 18.08it/s]"
     ]
    },
    {
     "name": "stdout",
     "output_type": "stream",
     "text": [
      "Epoch 240/2000, Loss: 0.1927\n",
      "Test Accuracy at Epoch 240: 82.89%\n",
      "Test F1-score at Epoch 240: 0.8426\n",
      "Classification Report at Epoch 240:\n",
      "                  precision    recall  f1-score   support\n",
      "\n",
      "    infringement       0.92      0.73      0.81       194\n",
      "non_infringement       0.77      0.94      0.84       186\n",
      "\n",
      "        accuracy                           0.83       380\n",
      "       macro avg       0.84      0.83      0.83       380\n",
      "    weighted avg       0.85      0.83      0.83       380\n",
      "\n"
     ]
    },
    {
     "name": "stderr",
     "output_type": "stream",
     "text": [
      "Training Epochs:  13%|█▎        | 251/2000 [00:52<01:36, 18.04it/s]"
     ]
    },
    {
     "name": "stdout",
     "output_type": "stream",
     "text": [
      "Epoch 250/2000, Loss: 0.1761\n",
      "Test Accuracy at Epoch 250: 82.89%\n",
      "Test F1-score at Epoch 250: 0.8426\n",
      "Classification Report at Epoch 250:\n",
      "                  precision    recall  f1-score   support\n",
      "\n",
      "    infringement       0.92      0.73      0.81       194\n",
      "non_infringement       0.77      0.94      0.84       186\n",
      "\n",
      "        accuracy                           0.83       380\n",
      "       macro avg       0.84      0.83      0.83       380\n",
      "    weighted avg       0.85      0.83      0.83       380\n",
      "\n"
     ]
    },
    {
     "name": "stderr",
     "output_type": "stream",
     "text": [
      "Training Epochs:  13%|█▎        | 260/2000 [00:54<05:31,  5.25it/s]"
     ]
    },
    {
     "name": "stdout",
     "output_type": "stream",
     "text": [
      "Epoch 260/2000, Loss: 0.2064\n",
      "Test Accuracy at Epoch 260: 70.79%\n",
      "Test F1-score at Epoch 260: 0.7663\n",
      "Classification Report at Epoch 260:\n",
      "                  precision    recall  f1-score   support\n",
      "\n",
      "    infringement       0.96      0.45      0.61       194\n",
      "non_infringement       0.63      0.98      0.77       186\n",
      "\n",
      "        accuracy                           0.71       380\n",
      "       macro avg       0.79      0.71      0.69       380\n",
      "    weighted avg       0.80      0.71      0.69       380\n",
      "\n"
     ]
    },
    {
     "name": "stderr",
     "output_type": "stream",
     "text": [
      "Training Epochs:  14%|█▎        | 270/2000 [00:58<11:37,  2.48it/s]"
     ]
    },
    {
     "name": "stdout",
     "output_type": "stream",
     "text": [
      "Epoch 270/2000, Loss: 0.2028\n",
      "Test Accuracy at Epoch 270: 84.21%\n",
      "Test F1-score at Epoch 270: 0.8551\n",
      "Classification Report at Epoch 270:\n",
      "                  precision    recall  f1-score   support\n",
      "\n",
      "    infringement       0.94      0.74      0.83       194\n",
      "non_infringement       0.78      0.95      0.86       186\n",
      "\n",
      "        accuracy                           0.84       380\n",
      "       macro avg       0.86      0.84      0.84       380\n",
      "    weighted avg       0.86      0.84      0.84       380\n",
      "\n"
     ]
    },
    {
     "name": "stderr",
     "output_type": "stream",
     "text": [
      "Training Epochs:  14%|█▍        | 280/2000 [01:01<09:43,  2.95it/s]"
     ]
    },
    {
     "name": "stdout",
     "output_type": "stream",
     "text": [
      "Epoch 280/2000, Loss: 0.1660\n",
      "Test Accuracy at Epoch 280: 83.68%\n",
      "Test F1-score at Epoch 280: 0.8510\n",
      "Classification Report at Epoch 280:\n",
      "                  precision    recall  f1-score   support\n",
      "\n",
      "    infringement       0.94      0.73      0.82       194\n",
      "non_infringement       0.77      0.95      0.85       186\n",
      "\n",
      "        accuracy                           0.84       380\n",
      "       macro avg       0.85      0.84      0.84       380\n",
      "    weighted avg       0.86      0.84      0.84       380\n",
      "\n"
     ]
    },
    {
     "name": "stderr",
     "output_type": "stream",
     "text": [
      "Training Epochs:  14%|█▍        | 290/2000 [01:06<15:44,  1.81it/s]"
     ]
    },
    {
     "name": "stdout",
     "output_type": "stream",
     "text": [
      "Epoch 290/2000, Loss: 0.1681\n",
      "Test Accuracy at Epoch 290: 83.42%\n",
      "Test F1-score at Epoch 290: 0.8496\n",
      "Classification Report at Epoch 290:\n",
      "                  precision    recall  f1-score   support\n",
      "\n",
      "    infringement       0.95      0.72      0.82       194\n",
      "non_infringement       0.76      0.96      0.85       186\n",
      "\n",
      "        accuracy                           0.83       380\n",
      "       macro avg       0.85      0.84      0.83       380\n",
      "    weighted avg       0.86      0.83      0.83       380\n",
      "\n"
     ]
    },
    {
     "name": "stderr",
     "output_type": "stream",
     "text": [
      "Training Epochs:  15%|█▌        | 300/2000 [01:11<17:14,  1.64it/s]"
     ]
    },
    {
     "name": "stdout",
     "output_type": "stream",
     "text": [
      "Epoch 300/2000, Loss: 0.1556\n",
      "Test Accuracy at Epoch 300: 83.68%\n",
      "Test F1-score at Epoch 300: 0.8524\n",
      "Classification Report at Epoch 300:\n",
      "                  precision    recall  f1-score   support\n",
      "\n",
      "    infringement       0.95      0.72      0.82       194\n",
      "non_infringement       0.76      0.96      0.85       186\n",
      "\n",
      "        accuracy                           0.84       380\n",
      "       macro avg       0.86      0.84      0.84       380\n",
      "    weighted avg       0.86      0.84      0.83       380\n",
      "\n"
     ]
    },
    {
     "name": "stderr",
     "output_type": "stream",
     "text": [
      "Training Epochs:  16%|█▌        | 310/2000 [01:14<11:21,  2.48it/s]"
     ]
    },
    {
     "name": "stdout",
     "output_type": "stream",
     "text": [
      "Epoch 310/2000, Loss: 0.1483\n",
      "Test Accuracy at Epoch 310: 83.42%\n",
      "Test F1-score at Epoch 310: 0.8496\n",
      "Classification Report at Epoch 310:\n",
      "                  precision    recall  f1-score   support\n",
      "\n",
      "    infringement       0.95      0.72      0.82       194\n",
      "non_infringement       0.76      0.96      0.85       186\n",
      "\n",
      "        accuracy                           0.83       380\n",
      "       macro avg       0.85      0.84      0.83       380\n",
      "    weighted avg       0.86      0.83      0.83       380\n",
      "\n"
     ]
    },
    {
     "name": "stderr",
     "output_type": "stream",
     "text": [
      "Training Epochs:  16%|█▌        | 320/2000 [01:18<12:05,  2.32it/s]"
     ]
    },
    {
     "name": "stdout",
     "output_type": "stream",
     "text": [
      "Epoch 320/2000, Loss: 0.1433\n",
      "Test Accuracy at Epoch 320: 82.89%\n",
      "Test F1-score at Epoch 320: 0.8456\n",
      "Classification Report at Epoch 320:\n",
      "                  precision    recall  f1-score   support\n",
      "\n",
      "    infringement       0.94      0.71      0.81       194\n",
      "non_infringement       0.76      0.96      0.85       186\n",
      "\n",
      "        accuracy                           0.83       380\n",
      "       macro avg       0.85      0.83      0.83       380\n",
      "    weighted avg       0.85      0.83      0.83       380\n",
      "\n"
     ]
    },
    {
     "name": "stderr",
     "output_type": "stream",
     "text": [
      "Training Epochs:  16%|█▋        | 330/2000 [01:23<10:12,  2.73it/s]"
     ]
    },
    {
     "name": "stdout",
     "output_type": "stream",
     "text": [
      "Epoch 330/2000, Loss: 0.1395\n",
      "Test Accuracy at Epoch 330: 82.89%\n",
      "Test F1-score at Epoch 330: 0.8456\n",
      "Classification Report at Epoch 330:\n",
      "                  precision    recall  f1-score   support\n",
      "\n",
      "    infringement       0.94      0.71      0.81       194\n",
      "non_infringement       0.76      0.96      0.85       186\n",
      "\n",
      "        accuracy                           0.83       380\n",
      "       macro avg       0.85      0.83      0.83       380\n",
      "    weighted avg       0.85      0.83      0.83       380\n",
      "\n"
     ]
    },
    {
     "name": "stderr",
     "output_type": "stream",
     "text": [
      "Training Epochs:  17%|█▋        | 340/2000 [01:27<15:12,  1.82it/s]"
     ]
    },
    {
     "name": "stdout",
     "output_type": "stream",
     "text": [
      "Epoch 340/2000, Loss: 0.2992\n",
      "Test Accuracy at Epoch 340: 80.53%\n",
      "Test F1-score at Epoch 340: 0.8287\n",
      "Classification Report at Epoch 340:\n",
      "                  precision    recall  f1-score   support\n",
      "\n",
      "    infringement       0.95      0.65      0.77       194\n",
      "non_infringement       0.73      0.96      0.83       186\n",
      "\n",
      "        accuracy                           0.81       380\n",
      "       macro avg       0.84      0.81      0.80       380\n",
      "    weighted avg       0.84      0.81      0.80       380\n",
      "\n"
     ]
    },
    {
     "name": "stderr",
     "output_type": "stream",
     "text": [
      "Training Epochs:  18%|█▊        | 350/2000 [01:32<09:24,  2.92it/s]"
     ]
    },
    {
     "name": "stdout",
     "output_type": "stream",
     "text": [
      "Epoch 350/2000, Loss: 0.1491\n",
      "Test Accuracy at Epoch 350: 82.89%\n",
      "Test F1-score at Epoch 350: 0.8418\n",
      "Classification Report at Epoch 350:\n",
      "                  precision    recall  f1-score   support\n",
      "\n",
      "    infringement       0.92      0.73      0.81       194\n",
      "non_infringement       0.77      0.93      0.84       186\n",
      "\n",
      "        accuracy                           0.83       380\n",
      "       macro avg       0.84      0.83      0.83       380\n",
      "    weighted avg       0.84      0.83      0.83       380\n",
      "\n"
     ]
    },
    {
     "name": "stderr",
     "output_type": "stream",
     "text": [
      "Training Epochs:  18%|█▊        | 360/2000 [01:38<12:17,  2.22it/s]"
     ]
    },
    {
     "name": "stdout",
     "output_type": "stream",
     "text": [
      "Epoch 360/2000, Loss: 0.1442\n",
      "Test Accuracy at Epoch 360: 75.26%\n",
      "Test F1-score at Epoch 360: 0.7930\n",
      "Classification Report at Epoch 360:\n",
      "                  precision    recall  f1-score   support\n",
      "\n",
      "    infringement       0.95      0.55      0.69       194\n",
      "non_infringement       0.67      0.97      0.79       186\n",
      "\n",
      "        accuracy                           0.75       380\n",
      "       macro avg       0.81      0.76      0.74       380\n",
      "    weighted avg       0.81      0.75      0.74       380\n",
      "\n"
     ]
    },
    {
     "name": "stderr",
     "output_type": "stream",
     "text": [
      "Training Epochs:  18%|█▊        | 370/2000 [01:42<11:50,  2.29it/s]"
     ]
    },
    {
     "name": "stdout",
     "output_type": "stream",
     "text": [
      "Epoch 370/2000, Loss: 0.1426\n",
      "Test Accuracy at Epoch 370: 83.42%\n",
      "Test F1-score at Epoch 370: 0.8504\n",
      "Classification Report at Epoch 370:\n",
      "                  precision    recall  f1-score   support\n",
      "\n",
      "    infringement       0.95      0.71      0.81       194\n",
      "non_infringement       0.76      0.96      0.85       186\n",
      "\n",
      "        accuracy                           0.83       380\n",
      "       macro avg       0.86      0.84      0.83       380\n",
      "    weighted avg       0.86      0.83      0.83       380\n",
      "\n"
     ]
    },
    {
     "name": "stderr",
     "output_type": "stream",
     "text": [
      "Training Epochs:  19%|█▉        | 380/2000 [01:47<15:00,  1.80it/s]"
     ]
    },
    {
     "name": "stdout",
     "output_type": "stream",
     "text": [
      "Epoch 380/2000, Loss: 0.1382\n",
      "Test Accuracy at Epoch 380: 82.89%\n",
      "Test F1-score at Epoch 380: 0.8463\n",
      "Classification Report at Epoch 380:\n",
      "                  precision    recall  f1-score   support\n",
      "\n",
      "    infringement       0.95      0.70      0.81       194\n",
      "non_infringement       0.76      0.96      0.85       186\n",
      "\n",
      "        accuracy                           0.83       380\n",
      "       macro avg       0.85      0.83      0.83       380\n",
      "    weighted avg       0.86      0.83      0.83       380\n",
      "\n"
     ]
    },
    {
     "name": "stderr",
     "output_type": "stream",
     "text": [
      "Training Epochs:  20%|█▉        | 390/2000 [01:49<05:25,  4.94it/s]"
     ]
    },
    {
     "name": "stdout",
     "output_type": "stream",
     "text": [
      "Epoch 390/2000, Loss: 0.1336\n",
      "Test Accuracy at Epoch 390: 82.63%\n",
      "Test F1-score at Epoch 390: 0.8443\n",
      "Classification Report at Epoch 390:\n",
      "                  precision    recall  f1-score   support\n",
      "\n",
      "    infringement       0.95      0.70      0.80       194\n",
      "non_infringement       0.75      0.96      0.84       186\n",
      "\n",
      "        accuracy                           0.83       380\n",
      "       macro avg       0.85      0.83      0.82       380\n",
      "    weighted avg       0.85      0.83      0.82       380\n",
      "\n"
     ]
    },
    {
     "name": "stderr",
     "output_type": "stream",
     "text": [
      "Training Epochs:  20%|██        | 400/2000 [01:55<14:55,  1.79it/s]"
     ]
    },
    {
     "name": "stdout",
     "output_type": "stream",
     "text": [
      "Epoch 400/2000, Loss: 0.1307\n",
      "Test Accuracy at Epoch 400: 82.63%\n",
      "Test F1-score at Epoch 400: 0.8443\n",
      "Classification Report at Epoch 400:\n",
      "                  precision    recall  f1-score   support\n",
      "\n",
      "    infringement       0.95      0.70      0.80       194\n",
      "non_infringement       0.75      0.96      0.84       186\n",
      "\n",
      "        accuracy                           0.83       380\n",
      "       macro avg       0.85      0.83      0.82       380\n",
      "    weighted avg       0.85      0.83      0.82       380\n",
      "\n"
     ]
    },
    {
     "name": "stderr",
     "output_type": "stream",
     "text": [
      "Training Epochs:  20%|██        | 410/2000 [02:00<14:42,  1.80it/s]"
     ]
    },
    {
     "name": "stdout",
     "output_type": "stream",
     "text": [
      "Epoch 410/2000, Loss: 0.1284\n",
      "Test Accuracy at Epoch 410: 82.63%\n",
      "Test F1-score at Epoch 410: 0.8443\n",
      "Classification Report at Epoch 410:\n",
      "                  precision    recall  f1-score   support\n",
      "\n",
      "    infringement       0.95      0.70      0.80       194\n",
      "non_infringement       0.75      0.96      0.84       186\n",
      "\n",
      "        accuracy                           0.83       380\n",
      "       macro avg       0.85      0.83      0.82       380\n",
      "    weighted avg       0.85      0.83      0.82       380\n",
      "\n"
     ]
    },
    {
     "name": "stderr",
     "output_type": "stream",
     "text": [
      "Training Epochs:  21%|██        | 420/2000 [02:04<05:46,  4.56it/s]"
     ]
    },
    {
     "name": "stdout",
     "output_type": "stream",
     "text": [
      "Epoch 420/2000, Loss: 0.1262\n",
      "Test Accuracy at Epoch 420: 77.37%\n",
      "Test F1-score at Epoch 420: 0.8063\n",
      "Classification Report at Epoch 420:\n",
      "                  precision    recall  f1-score   support\n",
      "\n",
      "    infringement       0.94      0.59      0.73       194\n",
      "non_infringement       0.69      0.96      0.81       186\n",
      "\n",
      "        accuracy                           0.77       380\n",
      "       macro avg       0.82      0.78      0.77       380\n",
      "    weighted avg       0.82      0.77      0.77       380\n",
      "\n"
     ]
    },
    {
     "name": "stderr",
     "output_type": "stream",
     "text": [
      "Training Epochs:  22%|██▏       | 431/2000 [02:05<03:32,  7.38it/s]"
     ]
    },
    {
     "name": "stdout",
     "output_type": "stream",
     "text": [
      "Epoch 430/2000, Loss: 0.1242\n",
      "Test Accuracy at Epoch 430: 77.11%\n",
      "Test F1-score at Epoch 430: 0.8036\n",
      "Classification Report at Epoch 430:\n",
      "                  precision    recall  f1-score   support\n",
      "\n",
      "    infringement       0.93      0.59      0.73       194\n",
      "non_infringement       0.69      0.96      0.80       186\n",
      "\n",
      "        accuracy                           0.77       380\n",
      "       macro avg       0.81      0.77      0.76       380\n",
      "    weighted avg       0.82      0.77      0.76       380\n",
      "\n"
     ]
    },
    {
     "name": "stderr",
     "output_type": "stream",
     "text": [
      "Training Epochs:  22%|██▏       | 440/2000 [02:08<07:12,  3.61it/s]"
     ]
    },
    {
     "name": "stdout",
     "output_type": "stream",
     "text": [
      "Epoch 440/2000, Loss: 0.1223\n",
      "Test Accuracy at Epoch 440: 77.11%\n",
      "Test F1-score at Epoch 440: 0.8036\n",
      "Classification Report at Epoch 440:\n",
      "                  precision    recall  f1-score   support\n",
      "\n",
      "    infringement       0.93      0.59      0.73       194\n",
      "non_infringement       0.69      0.96      0.80       186\n",
      "\n",
      "        accuracy                           0.77       380\n",
      "       macro avg       0.81      0.77      0.76       380\n",
      "    weighted avg       0.82      0.77      0.76       380\n",
      "\n"
     ]
    },
    {
     "name": "stderr",
     "output_type": "stream",
     "text": [
      "Training Epochs:  22%|██▎       | 450/2000 [02:09<03:27,  7.48it/s]"
     ]
    },
    {
     "name": "stdout",
     "output_type": "stream",
     "text": [
      "Epoch 450/2000, Loss: 0.1206\n",
      "Test Accuracy at Epoch 450: 77.11%\n",
      "Test F1-score at Epoch 450: 0.8036\n",
      "Classification Report at Epoch 450:\n",
      "                  precision    recall  f1-score   support\n",
      "\n",
      "    infringement       0.93      0.59      0.73       194\n",
      "non_infringement       0.69      0.96      0.80       186\n",
      "\n",
      "        accuracy                           0.77       380\n",
      "       macro avg       0.81      0.77      0.76       380\n",
      "    weighted avg       0.82      0.77      0.76       380\n",
      "\n"
     ]
    },
    {
     "name": "stderr",
     "output_type": "stream",
     "text": [
      "Training Epochs:  23%|██▎       | 462/2000 [02:10<02:04, 12.37it/s]"
     ]
    },
    {
     "name": "stdout",
     "output_type": "stream",
     "text": [
      "Epoch 460/2000, Loss: 0.2457\n",
      "Test Accuracy at Epoch 460: 83.42%\n",
      "Test F1-score at Epoch 460: 0.8429\n",
      "Classification Report at Epoch 460:\n",
      "                  precision    recall  f1-score   support\n",
      "\n",
      "    infringement       0.90      0.76      0.82       194\n",
      "non_infringement       0.79      0.91      0.84       186\n",
      "\n",
      "        accuracy                           0.83       380\n",
      "       macro avg       0.84      0.84      0.83       380\n",
      "    weighted avg       0.84      0.83      0.83       380\n",
      "\n"
     ]
    },
    {
     "name": "stderr",
     "output_type": "stream",
     "text": [
      "Training Epochs:  24%|██▎       | 471/2000 [02:11<01:43, 14.84it/s]"
     ]
    },
    {
     "name": "stdout",
     "output_type": "stream",
     "text": [
      "Epoch 470/2000, Loss: 0.1345\n",
      "Test Accuracy at Epoch 470: 70.26%\n",
      "Test F1-score at Epoch 470: 0.7611\n",
      "Classification Report at Epoch 470:\n",
      "                  precision    recall  f1-score   support\n",
      "\n",
      "    infringement       0.94      0.45      0.61       194\n",
      "non_infringement       0.63      0.97      0.76       186\n",
      "\n",
      "        accuracy                           0.70       380\n",
      "       macro avg       0.78      0.71      0.68       380\n",
      "    weighted avg       0.78      0.70      0.68       380\n",
      "\n"
     ]
    },
    {
     "name": "stderr",
     "output_type": "stream",
     "text": [
      "Training Epochs:  24%|██▍       | 481/2000 [02:11<01:52, 13.53it/s]"
     ]
    },
    {
     "name": "stdout",
     "output_type": "stream",
     "text": [
      "Epoch 480/2000, Loss: 0.1225\n",
      "Test Accuracy at Epoch 480: 74.47%\n",
      "Test F1-score at Epoch 480: 0.7877\n",
      "Classification Report at Epoch 480:\n",
      "                  precision    recall  f1-score   support\n",
      "\n",
      "    infringement       0.94      0.53      0.68       194\n",
      "non_infringement       0.66      0.97      0.79       186\n",
      "\n",
      "        accuracy                           0.74       380\n",
      "       macro avg       0.80      0.75      0.73       380\n",
      "    weighted avg       0.81      0.74      0.73       380\n",
      "\n"
     ]
    },
    {
     "name": "stderr",
     "output_type": "stream",
     "text": [
      "Training Epochs:  25%|██▍       | 493/2000 [02:12<01:37, 15.50it/s]"
     ]
    },
    {
     "name": "stdout",
     "output_type": "stream",
     "text": [
      "Epoch 490/2000, Loss: 0.1207\n",
      "Test Accuracy at Epoch 490: 80.53%\n",
      "Test F1-score at Epoch 490: 0.8287\n",
      "Classification Report at Epoch 490:\n",
      "                  precision    recall  f1-score   support\n",
      "\n",
      "    infringement       0.95      0.65      0.77       194\n",
      "non_infringement       0.73      0.96      0.83       186\n",
      "\n",
      "        accuracy                           0.81       380\n",
      "       macro avg       0.84      0.81      0.80       380\n",
      "    weighted avg       0.84      0.81      0.80       380\n",
      "\n"
     ]
    },
    {
     "name": "stderr",
     "output_type": "stream",
     "text": [
      "Training Epochs:  25%|██▌       | 501/2000 [02:13<01:52, 13.32it/s]"
     ]
    },
    {
     "name": "stdout",
     "output_type": "stream",
     "text": [
      "Epoch 500/2000, Loss: 0.1195\n",
      "Test Accuracy at Epoch 500: 82.37%\n",
      "Test F1-score at Epoch 500: 0.8424\n",
      "Classification Report at Epoch 500:\n",
      "                  precision    recall  f1-score   support\n",
      "\n",
      "    infringement       0.95      0.69      0.80       194\n",
      "non_infringement       0.75      0.96      0.84       186\n",
      "\n",
      "        accuracy                           0.82       380\n",
      "       macro avg       0.85      0.83      0.82       380\n",
      "    weighted avg       0.85      0.82      0.82       380\n",
      "\n"
     ]
    },
    {
     "name": "stderr",
     "output_type": "stream",
     "text": [
      "Training Epochs:  26%|██▌       | 511/2000 [02:14<02:08, 11.58it/s]"
     ]
    },
    {
     "name": "stdout",
     "output_type": "stream",
     "text": [
      "Epoch 510/2000, Loss: 0.1162\n",
      "Test Accuracy at Epoch 510: 81.32%\n",
      "Test F1-score at Epoch 510: 0.8305\n",
      "Classification Report at Epoch 510:\n",
      "                  precision    recall  f1-score   support\n",
      "\n",
      "    infringement       0.92      0.70      0.79       194\n",
      "non_infringement       0.75      0.94      0.83       186\n",
      "\n",
      "        accuracy                           0.81       380\n",
      "       macro avg       0.83      0.82      0.81       380\n",
      "    weighted avg       0.83      0.81      0.81       380\n",
      "\n"
     ]
    },
    {
     "name": "stderr",
     "output_type": "stream",
     "text": [
      "Training Epochs:  26%|██▌       | 521/2000 [02:15<02:43,  9.05it/s]"
     ]
    },
    {
     "name": "stdout",
     "output_type": "stream",
     "text": [
      "Epoch 520/2000, Loss: 0.1148\n",
      "Test Accuracy at Epoch 520: 75.26%\n",
      "Test F1-score at Epoch 520: 0.7920\n",
      "Classification Report at Epoch 520:\n",
      "                  precision    recall  f1-score   support\n",
      "\n",
      "    infringement       0.94      0.55      0.69       194\n",
      "non_infringement       0.67      0.96      0.79       186\n",
      "\n",
      "        accuracy                           0.75       380\n",
      "       macro avg       0.81      0.76      0.74       380\n",
      "    weighted avg       0.81      0.75      0.74       380\n",
      "\n"
     ]
    },
    {
     "name": "stderr",
     "output_type": "stream",
     "text": [
      "Training Epochs:  26%|██▋       | 530/2000 [02:17<06:37,  3.70it/s]"
     ]
    },
    {
     "name": "stdout",
     "output_type": "stream",
     "text": [
      "Epoch 530/2000, Loss: 0.1135\n",
      "Test Accuracy at Epoch 530: 75.26%\n",
      "Test F1-score at Epoch 530: 0.7920\n",
      "Classification Report at Epoch 530:\n",
      "                  precision    recall  f1-score   support\n",
      "\n",
      "    infringement       0.94      0.55      0.69       194\n",
      "non_infringement       0.67      0.96      0.79       186\n",
      "\n",
      "        accuracy                           0.75       380\n",
      "       macro avg       0.81      0.76      0.74       380\n",
      "    weighted avg       0.81      0.75      0.74       380\n",
      "\n"
     ]
    },
    {
     "name": "stderr",
     "output_type": "stream",
     "text": [
      "Training Epochs:  27%|██▋       | 540/2000 [02:19<04:56,  4.92it/s]"
     ]
    },
    {
     "name": "stdout",
     "output_type": "stream",
     "text": [
      "Epoch 540/2000, Loss: 0.1122\n",
      "Test Accuracy at Epoch 540: 75.26%\n",
      "Test F1-score at Epoch 540: 0.7920\n",
      "Classification Report at Epoch 540:\n",
      "                  precision    recall  f1-score   support\n",
      "\n",
      "    infringement       0.94      0.55      0.69       194\n",
      "non_infringement       0.67      0.96      0.79       186\n",
      "\n",
      "        accuracy                           0.75       380\n",
      "       macro avg       0.81      0.76      0.74       380\n",
      "    weighted avg       0.81      0.75      0.74       380\n",
      "\n"
     ]
    },
    {
     "name": "stderr",
     "output_type": "stream",
     "text": [
      "Training Epochs:  28%|██▊       | 552/2000 [02:21<02:19, 10.39it/s]"
     ]
    },
    {
     "name": "stdout",
     "output_type": "stream",
     "text": [
      "Epoch 550/2000, Loss: 0.1111\n",
      "Test Accuracy at Epoch 550: 74.21%\n",
      "Test F1-score at Epoch 550: 0.7812\n",
      "Classification Report at Epoch 550:\n",
      "                  precision    recall  f1-score   support\n",
      "\n",
      "    infringement       0.91      0.55      0.69       194\n",
      "non_infringement       0.67      0.94      0.78       186\n",
      "\n",
      "        accuracy                           0.74       380\n",
      "       macro avg       0.79      0.75      0.73       380\n",
      "    weighted avg       0.79      0.74      0.73       380\n",
      "\n"
     ]
    },
    {
     "name": "stderr",
     "output_type": "stream",
     "text": [
      "Training Epochs:  28%|██▊       | 562/2000 [02:21<01:35, 15.07it/s]"
     ]
    },
    {
     "name": "stdout",
     "output_type": "stream",
     "text": [
      "Epoch 560/2000, Loss: 0.1229\n",
      "Test Accuracy at Epoch 560: 81.58%\n",
      "Test F1-score at Epoch 560: 0.8284\n",
      "Classification Report at Epoch 560:\n",
      "                  precision    recall  f1-score   support\n",
      "\n",
      "    infringement       0.89      0.73      0.80       194\n",
      "non_infringement       0.76      0.91      0.83       186\n",
      "\n",
      "        accuracy                           0.82       380\n",
      "       macro avg       0.83      0.82      0.81       380\n",
      "    weighted avg       0.83      0.82      0.81       380\n",
      "\n"
     ]
    },
    {
     "name": "stderr",
     "output_type": "stream",
     "text": [
      "Training Epochs:  29%|██▊       | 571/2000 [02:22<01:25, 16.79it/s]"
     ]
    },
    {
     "name": "stdout",
     "output_type": "stream",
     "text": [
      "Epoch 570/2000, Loss: 0.1112\n",
      "Test Accuracy at Epoch 570: 81.84%\n",
      "Test F1-score at Epoch 570: 0.8329\n",
      "Classification Report at Epoch 570:\n",
      "                  precision    recall  f1-score   support\n",
      "\n",
      "    infringement       0.91      0.72      0.80       194\n",
      "non_infringement       0.76      0.92      0.83       186\n",
      "\n",
      "        accuracy                           0.82       380\n",
      "       macro avg       0.83      0.82      0.82       380\n",
      "    weighted avg       0.83      0.82      0.82       380\n",
      "\n"
     ]
    },
    {
     "name": "stderr",
     "output_type": "stream",
     "text": [
      "Training Epochs:  29%|██▉       | 582/2000 [02:22<01:32, 15.25it/s]"
     ]
    },
    {
     "name": "stdout",
     "output_type": "stream",
     "text": [
      "Epoch 580/2000, Loss: 0.1164\n",
      "Test Accuracy at Epoch 580: 81.84%\n",
      "Test F1-score at Epoch 580: 0.8337\n",
      "Classification Report at Epoch 580:\n",
      "                  precision    recall  f1-score   support\n",
      "\n",
      "    infringement       0.91      0.71      0.80       194\n",
      "non_infringement       0.76      0.93      0.83       186\n",
      "\n",
      "        accuracy                           0.82       380\n",
      "       macro avg       0.83      0.82      0.82       380\n",
      "    weighted avg       0.84      0.82      0.82       380\n",
      "\n"
     ]
    },
    {
     "name": "stderr",
     "output_type": "stream",
     "text": [
      "Training Epochs:  30%|██▉       | 592/2000 [02:23<01:31, 15.38it/s]"
     ]
    },
    {
     "name": "stdout",
     "output_type": "stream",
     "text": [
      "Epoch 590/2000, Loss: 0.1104\n",
      "Test Accuracy at Epoch 590: 79.47%\n",
      "Test F1-score at Epoch 590: 0.8178\n",
      "Classification Report at Epoch 590:\n",
      "                  precision    recall  f1-score   support\n",
      "\n",
      "    infringement       0.92      0.65      0.77       194\n",
      "non_infringement       0.72      0.94      0.82       186\n",
      "\n",
      "        accuracy                           0.79       380\n",
      "       macro avg       0.82      0.80      0.79       380\n",
      "    weighted avg       0.82      0.79      0.79       380\n",
      "\n"
     ]
    },
    {
     "name": "stderr",
     "output_type": "stream",
     "text": [
      "Training Epochs:  30%|███       | 600/2000 [02:24<01:14, 18.92it/s]"
     ]
    },
    {
     "name": "stdout",
     "output_type": "stream",
     "text": [
      "Epoch 600/2000, Loss: 0.1087\n",
      "Test Accuracy at Epoch 600: 79.74%\n",
      "Test F1-score at Epoch 600: 0.8197\n",
      "Classification Report at Epoch 600:\n",
      "                  precision    recall  f1-score   support\n",
      "\n",
      "    infringement       0.92      0.66      0.77       194\n",
      "non_infringement       0.73      0.94      0.82       186\n",
      "\n",
      "        accuracy                           0.80       380\n",
      "       macro avg       0.82      0.80      0.79       380\n",
      "    weighted avg       0.83      0.80      0.79       380\n",
      "\n"
     ]
    },
    {
     "name": "stderr",
     "output_type": "stream",
     "text": [
      "Training Epochs:  31%|███       | 612/2000 [02:25<01:36, 14.38it/s]"
     ]
    },
    {
     "name": "stdout",
     "output_type": "stream",
     "text": [
      "Epoch 610/2000, Loss: 0.1068\n",
      "Test Accuracy at Epoch 610: 78.68%\n",
      "Test F1-score at Epoch 610: 0.8121\n",
      "Classification Report at Epoch 610:\n",
      "                  precision    recall  f1-score   support\n",
      "\n",
      "    infringement       0.92      0.64      0.75       194\n",
      "non_infringement       0.71      0.94      0.81       186\n",
      "\n",
      "        accuracy                           0.79       380\n",
      "       macro avg       0.82      0.79      0.78       380\n",
      "    weighted avg       0.82      0.79      0.78       380\n",
      "\n"
     ]
    },
    {
     "name": "stderr",
     "output_type": "stream",
     "text": [
      "Training Epochs:  31%|███       | 620/2000 [02:25<01:30, 15.27it/s]"
     ]
    },
    {
     "name": "stdout",
     "output_type": "stream",
     "text": [
      "Epoch 620/2000, Loss: 0.1123\n",
      "Test Accuracy at Epoch 620: 81.84%\n",
      "Test F1-score at Epoch 620: 0.8321\n",
      "Classification Report at Epoch 620:\n",
      "                  precision    recall  f1-score   support\n",
      "\n",
      "    infringement       0.90      0.72      0.80       194\n",
      "non_infringement       0.76      0.92      0.83       186\n",
      "\n",
      "        accuracy                           0.82       380\n",
      "       macro avg       0.83      0.82      0.82       380\n",
      "    weighted avg       0.83      0.82      0.82       380\n",
      "\n"
     ]
    },
    {
     "name": "stderr",
     "output_type": "stream",
     "text": [
      "Training Epochs:  32%|███▏      | 632/2000 [02:26<01:37, 13.97it/s]"
     ]
    },
    {
     "name": "stdout",
     "output_type": "stream",
     "text": [
      "Epoch 630/2000, Loss: 0.1263\n",
      "Test Accuracy at Epoch 630: 73.16%\n",
      "Test F1-score at Epoch 630: 0.7783\n",
      "Classification Report at Epoch 630:\n",
      "                  precision    recall  f1-score   support\n",
      "\n",
      "    infringement       0.93      0.51      0.66       194\n",
      "non_infringement       0.65      0.96      0.78       186\n",
      "\n",
      "        accuracy                           0.73       380\n",
      "       macro avg       0.79      0.74      0.72       380\n",
      "    weighted avg       0.80      0.73      0.72       380\n",
      "\n"
     ]
    },
    {
     "name": "stderr",
     "output_type": "stream",
     "text": [
      "Training Epochs:  32%|███▏      | 641/2000 [02:26<01:24, 16.10it/s]"
     ]
    },
    {
     "name": "stdout",
     "output_type": "stream",
     "text": [
      "Epoch 640/2000, Loss: 0.1117\n",
      "Test Accuracy at Epoch 640: 73.16%\n",
      "Test F1-score at Epoch 640: 0.7783\n",
      "Classification Report at Epoch 640:\n",
      "                  precision    recall  f1-score   support\n",
      "\n",
      "    infringement       0.93      0.51      0.66       194\n",
      "non_infringement       0.65      0.96      0.78       186\n",
      "\n",
      "        accuracy                           0.73       380\n",
      "       macro avg       0.79      0.74      0.72       380\n",
      "    weighted avg       0.80      0.73      0.72       380\n",
      "\n"
     ]
    },
    {
     "name": "stderr",
     "output_type": "stream",
     "text": [
      "Training Epochs:  33%|███▎      | 652/2000 [02:27<01:04, 20.98it/s]"
     ]
    },
    {
     "name": "stdout",
     "output_type": "stream",
     "text": [
      "Epoch 650/2000, Loss: 0.1047\n",
      "Test Accuracy at Epoch 650: 78.42%\n",
      "Test F1-score at Epoch 650: 0.8093\n",
      "Classification Report at Epoch 650:\n",
      "                  precision    recall  f1-score   support\n",
      "\n",
      "    infringement       0.91      0.64      0.75       194\n",
      "non_infringement       0.71      0.94      0.81       186\n",
      "\n",
      "        accuracy                           0.78       380\n",
      "       macro avg       0.81      0.79      0.78       380\n",
      "    weighted avg       0.81      0.78      0.78       380\n",
      "\n"
     ]
    },
    {
     "name": "stderr",
     "output_type": "stream",
     "text": [
      "Training Epochs:  33%|███▎      | 661/2000 [02:27<01:07, 19.91it/s]"
     ]
    },
    {
     "name": "stdout",
     "output_type": "stream",
     "text": [
      "Epoch 660/2000, Loss: 0.1036\n",
      "Test Accuracy at Epoch 660: 78.68%\n",
      "Test F1-score at Epoch 660: 0.8112\n",
      "Classification Report at Epoch 660:\n",
      "                  precision    recall  f1-score   support\n",
      "\n",
      "    infringement       0.91      0.64      0.76       194\n",
      "non_infringement       0.72      0.94      0.81       186\n",
      "\n",
      "        accuracy                           0.79       380\n",
      "       macro avg       0.81      0.79      0.78       380\n",
      "    weighted avg       0.82      0.79      0.78       380\n",
      "\n"
     ]
    },
    {
     "name": "stderr",
     "output_type": "stream",
     "text": [
      "Training Epochs:  34%|███▎      | 672/2000 [02:28<01:44, 12.67it/s]"
     ]
    },
    {
     "name": "stdout",
     "output_type": "stream",
     "text": [
      "Epoch 670/2000, Loss: 0.1256\n",
      "Test Accuracy at Epoch 670: 81.58%\n",
      "Test F1-score at Epoch 670: 0.8284\n",
      "Classification Report at Epoch 670:\n",
      "                  precision    recall  f1-score   support\n",
      "\n",
      "    infringement       0.89      0.73      0.80       194\n",
      "non_infringement       0.76      0.91      0.83       186\n",
      "\n",
      "        accuracy                           0.82       380\n",
      "       macro avg       0.83      0.82      0.81       380\n",
      "    weighted avg       0.83      0.82      0.81       380\n",
      "\n"
     ]
    },
    {
     "name": "stderr",
     "output_type": "stream",
     "text": [
      "Training Epochs:  34%|███▍      | 682/2000 [02:29<01:38, 13.41it/s]"
     ]
    },
    {
     "name": "stdout",
     "output_type": "stream",
     "text": [
      "Epoch 680/2000, Loss: 0.1086\n",
      "Test Accuracy at Epoch 680: 78.68%\n",
      "Test F1-score at Epoch 680: 0.8121\n",
      "Classification Report at Epoch 680:\n",
      "                  precision    recall  f1-score   support\n",
      "\n",
      "    infringement       0.92      0.64      0.75       194\n",
      "non_infringement       0.71      0.94      0.81       186\n",
      "\n",
      "        accuracy                           0.79       380\n",
      "       macro avg       0.82      0.79      0.78       380\n",
      "    weighted avg       0.82      0.79      0.78       380\n",
      "\n"
     ]
    },
    {
     "name": "stderr",
     "output_type": "stream",
     "text": [
      "Training Epochs:  34%|███▍      | 690/2000 [02:30<01:59, 11.00it/s]"
     ]
    },
    {
     "name": "stdout",
     "output_type": "stream",
     "text": [
      "Epoch 690/2000, Loss: 0.1025\n",
      "Test Accuracy at Epoch 690: 78.16%\n",
      "Test F1-score at Epoch 690: 0.8074\n",
      "Classification Report at Epoch 690:\n",
      "                  precision    recall  f1-score   support\n",
      "\n",
      "    infringement       0.91      0.63      0.75       194\n",
      "non_infringement       0.71      0.94      0.81       186\n",
      "\n",
      "        accuracy                           0.78       380\n",
      "       macro avg       0.81      0.78      0.78       380\n",
      "    weighted avg       0.81      0.78      0.78       380\n",
      "\n"
     ]
    },
    {
     "name": "stderr",
     "output_type": "stream",
     "text": [
      "Training Epochs:  35%|███▌      | 703/2000 [02:32<02:34,  8.38it/s]"
     ]
    },
    {
     "name": "stdout",
     "output_type": "stream",
     "text": [
      "Epoch 700/2000, Loss: 0.1014\n",
      "Test Accuracy at Epoch 700: 78.68%\n",
      "Test F1-score at Epoch 700: 0.8112\n",
      "Classification Report at Epoch 700:\n",
      "                  precision    recall  f1-score   support\n",
      "\n",
      "    infringement       0.91      0.64      0.76       194\n",
      "non_infringement       0.72      0.94      0.81       186\n",
      "\n",
      "        accuracy                           0.79       380\n",
      "       macro avg       0.81      0.79      0.78       380\n",
      "    weighted avg       0.82      0.79      0.78       380\n",
      "\n"
     ]
    },
    {
     "name": "stderr",
     "output_type": "stream",
     "text": [
      "Training Epochs:  36%|███▌      | 712/2000 [02:32<01:18, 16.40it/s]"
     ]
    },
    {
     "name": "stdout",
     "output_type": "stream",
     "text": [
      "Epoch 710/2000, Loss: 0.1204\n",
      "Test Accuracy at Epoch 710: 81.58%\n",
      "Test F1-score at Epoch 710: 0.8284\n",
      "Classification Report at Epoch 710:\n",
      "                  precision    recall  f1-score   support\n",
      "\n",
      "    infringement       0.89      0.73      0.80       194\n",
      "non_infringement       0.76      0.91      0.83       186\n",
      "\n",
      "        accuracy                           0.82       380\n",
      "       macro avg       0.83      0.82      0.81       380\n",
      "    weighted avg       0.83      0.82      0.81       380\n",
      "\n"
     ]
    },
    {
     "name": "stderr",
     "output_type": "stream",
     "text": [
      "Training Epochs:  36%|███▌      | 722/2000 [02:33<01:36, 13.25it/s]"
     ]
    },
    {
     "name": "stdout",
     "output_type": "stream",
     "text": [
      "Epoch 720/2000, Loss: 0.1109\n",
      "Test Accuracy at Epoch 720: 73.95%\n",
      "Test F1-score at Epoch 720: 0.7834\n",
      "Classification Report at Epoch 720:\n",
      "                  precision    recall  f1-score   support\n",
      "\n",
      "    infringement       0.94      0.53      0.67       194\n",
      "non_infringement       0.66      0.96      0.78       186\n",
      "\n",
      "        accuracy                           0.74       380\n",
      "       macro avg       0.80      0.74      0.73       380\n",
      "    weighted avg       0.80      0.74      0.73       380\n",
      "\n"
     ]
    },
    {
     "name": "stderr",
     "output_type": "stream",
     "text": [
      "Training Epochs:  37%|███▋      | 731/2000 [02:33<01:18, 16.14it/s]"
     ]
    },
    {
     "name": "stdout",
     "output_type": "stream",
     "text": [
      "Epoch 730/2000, Loss: 0.1057\n",
      "Test Accuracy at Epoch 730: 79.21%\n",
      "Test F1-score at Epoch 730: 0.8132\n",
      "Classification Report at Epoch 730:\n",
      "                  precision    recall  f1-score   support\n",
      "\n",
      "    infringement       0.90      0.66      0.77       194\n",
      "non_infringement       0.73      0.92      0.81       186\n",
      "\n",
      "        accuracy                           0.79       380\n",
      "       macro avg       0.81      0.79      0.79       380\n",
      "    weighted avg       0.82      0.79      0.79       380\n",
      "\n"
     ]
    },
    {
     "name": "stderr",
     "output_type": "stream",
     "text": [
      "Training Epochs:  37%|███▋      | 742/2000 [02:34<00:54, 23.15it/s]"
     ]
    },
    {
     "name": "stdout",
     "output_type": "stream",
     "text": [
      "Epoch 740/2000, Loss: 0.0997\n",
      "Test Accuracy at Epoch 740: 78.16%\n",
      "Test F1-score at Epoch 740: 0.8074\n",
      "Classification Report at Epoch 740:\n",
      "                  precision    recall  f1-score   support\n",
      "\n",
      "    infringement       0.91      0.63      0.75       194\n",
      "non_infringement       0.71      0.94      0.81       186\n",
      "\n",
      "        accuracy                           0.78       380\n",
      "       macro avg       0.81      0.78      0.78       380\n",
      "    weighted avg       0.81      0.78      0.78       380\n",
      "\n"
     ]
    },
    {
     "name": "stderr",
     "output_type": "stream",
     "text": [
      "Training Epochs:  38%|███▊      | 751/2000 [02:34<01:17, 16.21it/s]"
     ]
    },
    {
     "name": "stdout",
     "output_type": "stream",
     "text": [
      "Epoch 750/2000, Loss: 0.1071\n",
      "Test Accuracy at Epoch 750: 77.89%\n",
      "Test F1-score at Epoch 750: 0.8047\n",
      "Classification Report at Epoch 750:\n",
      "                  precision    recall  f1-score   support\n",
      "\n",
      "    infringement       0.90      0.63      0.75       194\n",
      "non_infringement       0.71      0.93      0.80       186\n",
      "\n",
      "        accuracy                           0.78       380\n",
      "       macro avg       0.81      0.78      0.78       380\n",
      "    weighted avg       0.81      0.78      0.77       380\n",
      "\n"
     ]
    },
    {
     "name": "stderr",
     "output_type": "stream",
     "text": [
      "Training Epochs:  38%|███▊      | 763/2000 [02:35<01:02, 19.80it/s]"
     ]
    },
    {
     "name": "stdout",
     "output_type": "stream",
     "text": [
      "Epoch 760/2000, Loss: 0.1022\n",
      "Test Accuracy at Epoch 760: 72.89%\n",
      "Test F1-score at Epoch 760: 0.7716\n",
      "Classification Report at Epoch 760:\n",
      "                  precision    recall  f1-score   support\n",
      "\n",
      "    infringement       0.90      0.53      0.67       194\n",
      "non_infringement       0.66      0.94      0.77       186\n",
      "\n",
      "        accuracy                           0.73       380\n",
      "       macro avg       0.78      0.73      0.72       380\n",
      "    weighted avg       0.78      0.73      0.72       380\n",
      "\n"
     ]
    },
    {
     "name": "stderr",
     "output_type": "stream",
     "text": [
      "Training Epochs:  39%|███▊      | 772/2000 [02:35<00:59, 20.63it/s]"
     ]
    },
    {
     "name": "stdout",
     "output_type": "stream",
     "text": [
      "Epoch 770/2000, Loss: 0.1024\n",
      "Test Accuracy at Epoch 770: 78.68%\n",
      "Test F1-score at Epoch 770: 0.8094\n",
      "Classification Report at Epoch 770:\n",
      "                  precision    recall  f1-score   support\n",
      "\n",
      "    infringement       0.90      0.65      0.76       194\n",
      "non_infringement       0.72      0.92      0.81       186\n",
      "\n",
      "        accuracy                           0.79       380\n",
      "       macro avg       0.81      0.79      0.78       380\n",
      "    weighted avg       0.81      0.79      0.78       380\n",
      "\n"
     ]
    },
    {
     "name": "stderr",
     "output_type": "stream",
     "text": [
      "Training Epochs:  39%|███▉      | 782/2000 [02:36<01:12, 16.76it/s]"
     ]
    },
    {
     "name": "stdout",
     "output_type": "stream",
     "text": [
      "Epoch 780/2000, Loss: 0.0974\n",
      "Test Accuracy at Epoch 780: 78.16%\n",
      "Test F1-score at Epoch 780: 0.8065\n",
      "Classification Report at Epoch 780:\n",
      "                  precision    recall  f1-score   support\n",
      "\n",
      "    infringement       0.91      0.64      0.75       194\n",
      "non_infringement       0.71      0.93      0.81       186\n",
      "\n",
      "        accuracy                           0.78       380\n",
      "       macro avg       0.81      0.78      0.78       380\n",
      "    weighted avg       0.81      0.78      0.78       380\n",
      "\n"
     ]
    },
    {
     "name": "stderr",
     "output_type": "stream",
     "text": [
      "Training Epochs:  40%|███▉      | 791/2000 [02:36<01:10, 17.12it/s]"
     ]
    },
    {
     "name": "stdout",
     "output_type": "stream",
     "text": [
      "Epoch 790/2000, Loss: 0.1128\n",
      "Test Accuracy at Epoch 790: 72.37%\n",
      "Test F1-score at Epoch 790: 0.7682\n",
      "Classification Report at Epoch 790:\n",
      "                  precision    recall  f1-score   support\n",
      "\n",
      "    infringement       0.89      0.52      0.66       194\n",
      "non_infringement       0.65      0.94      0.77       186\n",
      "\n",
      "        accuracy                           0.72       380\n",
      "       macro avg       0.77      0.73      0.71       380\n",
      "    weighted avg       0.78      0.72      0.71       380\n",
      "\n"
     ]
    },
    {
     "name": "stderr",
     "output_type": "stream",
     "text": [
      "Training Epochs:  40%|████      | 801/2000 [02:38<02:34,  7.77it/s]"
     ]
    },
    {
     "name": "stdout",
     "output_type": "stream",
     "text": [
      "Epoch 800/2000, Loss: 0.0968\n",
      "Test Accuracy at Epoch 800: 78.42%\n",
      "Test F1-score at Epoch 800: 0.8075\n",
      "Classification Report at Epoch 800:\n",
      "                  precision    recall  f1-score   support\n",
      "\n",
      "    infringement       0.90      0.65      0.75       194\n",
      "non_infringement       0.72      0.92      0.81       186\n",
      "\n",
      "        accuracy                           0.78       380\n",
      "       macro avg       0.81      0.79      0.78       380\n",
      "    weighted avg       0.81      0.78      0.78       380\n",
      "\n"
     ]
    },
    {
     "name": "stderr",
     "output_type": "stream",
     "text": [
      "Training Epochs:  41%|████      | 811/2000 [02:39<01:36, 12.35it/s]"
     ]
    },
    {
     "name": "stdout",
     "output_type": "stream",
     "text": [
      "Epoch 810/2000, Loss: 0.0962\n",
      "Test Accuracy at Epoch 810: 78.16%\n",
      "Test F1-score at Epoch 810: 0.8056\n",
      "Classification Report at Epoch 810:\n",
      "                  precision    recall  f1-score   support\n",
      "\n",
      "    infringement       0.90      0.64      0.75       194\n",
      "non_infringement       0.71      0.92      0.81       186\n",
      "\n",
      "        accuracy                           0.78       380\n",
      "       macro avg       0.81      0.78      0.78       380\n",
      "    weighted avg       0.81      0.78      0.78       380\n",
      "\n"
     ]
    },
    {
     "name": "stderr",
     "output_type": "stream",
     "text": [
      "Training Epochs:  41%|████      | 821/2000 [02:40<01:26, 13.71it/s]"
     ]
    },
    {
     "name": "stdout",
     "output_type": "stream",
     "text": [
      "Epoch 820/2000, Loss: 0.1030\n",
      "Test Accuracy at Epoch 820: 79.21%\n",
      "Test F1-score at Epoch 820: 0.8115\n",
      "Classification Report at Epoch 820:\n",
      "                  precision    recall  f1-score   support\n",
      "\n",
      "    infringement       0.89      0.68      0.77       194\n",
      "non_infringement       0.73      0.91      0.81       186\n",
      "\n",
      "        accuracy                           0.79       380\n",
      "       macro avg       0.81      0.79      0.79       380\n",
      "    weighted avg       0.81      0.79      0.79       380\n",
      "\n"
     ]
    },
    {
     "name": "stderr",
     "output_type": "stream",
     "text": [
      "Training Epochs:  42%|████▏     | 832/2000 [02:40<01:05, 17.95it/s]"
     ]
    },
    {
     "name": "stdout",
     "output_type": "stream",
     "text": [
      "Epoch 830/2000, Loss: 0.1060\n",
      "Test Accuracy at Epoch 830: 71.58%\n",
      "Test F1-score at Epoch 830: 0.7652\n",
      "Classification Report at Epoch 830:\n",
      "                  precision    recall  f1-score   support\n",
      "\n",
      "    infringement       0.91      0.49      0.64       194\n",
      "non_infringement       0.64      0.95      0.77       186\n",
      "\n",
      "        accuracy                           0.72       380\n",
      "       macro avg       0.77      0.72      0.70       380\n",
      "    weighted avg       0.78      0.72      0.70       380\n",
      "\n"
     ]
    },
    {
     "name": "stderr",
     "output_type": "stream",
     "text": [
      "Training Epochs:  42%|████▏     | 844/2000 [02:41<00:52, 22.08it/s]"
     ]
    },
    {
     "name": "stdout",
     "output_type": "stream",
     "text": [
      "Epoch 840/2000, Loss: 0.0985\n",
      "Test Accuracy at Epoch 840: 78.68%\n",
      "Test F1-score at Epoch 840: 0.8094\n",
      "Classification Report at Epoch 840:\n",
      "                  precision    recall  f1-score   support\n",
      "\n",
      "    infringement       0.90      0.65      0.76       194\n",
      "non_infringement       0.72      0.92      0.81       186\n",
      "\n",
      "        accuracy                           0.79       380\n",
      "       macro avg       0.81      0.79      0.78       380\n",
      "    weighted avg       0.81      0.79      0.78       380\n",
      "\n"
     ]
    },
    {
     "name": "stderr",
     "output_type": "stream",
     "text": [
      "Training Epochs:  43%|████▎     | 853/2000 [02:41<00:49, 23.35it/s]"
     ]
    },
    {
     "name": "stdout",
     "output_type": "stream",
     "text": [
      "Epoch 850/2000, Loss: 0.1005\n",
      "Test Accuracy at Epoch 850: 71.84%\n",
      "Test F1-score at Epoch 850: 0.7638\n",
      "Classification Report at Epoch 850:\n",
      "                  precision    recall  f1-score   support\n",
      "\n",
      "    infringement       0.88      0.52      0.65       194\n",
      "non_infringement       0.65      0.93      0.76       186\n",
      "\n",
      "        accuracy                           0.72       380\n",
      "       macro avg       0.77      0.72      0.71       380\n",
      "    weighted avg       0.77      0.72      0.71       380\n",
      "\n"
     ]
    },
    {
     "name": "stderr",
     "output_type": "stream",
     "text": [
      "Training Epochs:  43%|████▎     | 865/2000 [02:42<00:46, 24.38it/s]"
     ]
    },
    {
     "name": "stdout",
     "output_type": "stream",
     "text": [
      "Epoch 860/2000, Loss: 0.0938\n",
      "Test Accuracy at Epoch 860: 78.42%\n",
      "Test F1-score at Epoch 860: 0.8084\n",
      "Classification Report at Epoch 860:\n",
      "                  precision    recall  f1-score   support\n",
      "\n",
      "    infringement       0.91      0.64      0.75       194\n",
      "non_infringement       0.71      0.93      0.81       186\n",
      "\n",
      "        accuracy                           0.78       380\n",
      "       macro avg       0.81      0.79      0.78       380\n",
      "    weighted avg       0.81      0.78      0.78       380\n",
      "\n"
     ]
    },
    {
     "name": "stderr",
     "output_type": "stream",
     "text": [
      "Training Epochs:  44%|████▎     | 874/2000 [02:42<00:47, 23.62it/s]"
     ]
    },
    {
     "name": "stdout",
     "output_type": "stream",
     "text": [
      "Epoch 870/2000, Loss: 0.1280\n",
      "Test Accuracy at Epoch 870: 72.63%\n",
      "Test F1-score at Epoch 870: 0.7768\n",
      "Classification Report at Epoch 870:\n",
      "                  precision    recall  f1-score   support\n",
      "\n",
      "    infringement       0.95      0.49      0.65       194\n",
      "non_infringement       0.65      0.97      0.78       186\n",
      "\n",
      "        accuracy                           0.73       380\n",
      "       macro avg       0.80      0.73      0.71       380\n",
      "    weighted avg       0.80      0.73      0.71       380\n",
      "\n"
     ]
    },
    {
     "name": "stderr",
     "output_type": "stream",
     "text": [
      "Training Epochs:  44%|████▍     | 880/2000 [02:43<01:02, 17.92it/s]"
     ]
    },
    {
     "name": "stdout",
     "output_type": "stream",
     "text": [
      "Epoch 880/2000, Loss: 0.0929\n",
      "Test Accuracy at Epoch 880: 78.42%\n",
      "Test F1-score at Epoch 880: 0.8084\n",
      "Classification Report at Epoch 880:\n",
      "                  precision    recall  f1-score   support\n",
      "\n",
      "    infringement       0.91      0.64      0.75       194\n",
      "non_infringement       0.71      0.93      0.81       186\n",
      "\n",
      "        accuracy                           0.78       380\n",
      "       macro avg       0.81      0.79      0.78       380\n",
      "    weighted avg       0.81      0.78      0.78       380\n",
      "\n"
     ]
    },
    {
     "name": "stderr",
     "output_type": "stream",
     "text": [
      "Training Epochs:  45%|████▍     | 893/2000 [02:43<00:54, 20.41it/s]"
     ]
    },
    {
     "name": "stdout",
     "output_type": "stream",
     "text": [
      "Epoch 890/2000, Loss: 0.0964\n",
      "Test Accuracy at Epoch 890: 78.68%\n",
      "Test F1-score at Epoch 890: 0.8094\n",
      "Classification Report at Epoch 890:\n",
      "                  precision    recall  f1-score   support\n",
      "\n",
      "    infringement       0.90      0.65      0.76       194\n",
      "non_infringement       0.72      0.92      0.81       186\n",
      "\n",
      "        accuracy                           0.79       380\n",
      "       macro avg       0.81      0.79      0.78       380\n",
      "    weighted avg       0.81      0.79      0.78       380\n",
      "\n"
     ]
    },
    {
     "name": "stderr",
     "output_type": "stream",
     "text": [
      "Training Epochs:  45%|████▌     | 904/2000 [02:44<00:40, 26.89it/s]"
     ]
    },
    {
     "name": "stdout",
     "output_type": "stream",
     "text": [
      "Epoch 900/2000, Loss: 0.0933\n",
      "Test Accuracy at Epoch 900: 72.11%\n",
      "Test F1-score at Epoch 900: 0.7655\n",
      "Classification Report at Epoch 900:\n",
      "                  precision    recall  f1-score   support\n",
      "\n",
      "    infringement       0.89      0.52      0.66       194\n",
      "non_infringement       0.65      0.93      0.77       186\n",
      "\n",
      "        accuracy                           0.72       380\n",
      "       macro avg       0.77      0.73      0.71       380\n",
      "    weighted avg       0.77      0.72      0.71       380\n",
      "\n"
     ]
    },
    {
     "name": "stderr",
     "output_type": "stream",
     "text": [
      "Training Epochs:  46%|████▌     | 912/2000 [02:44<00:42, 25.71it/s]"
     ]
    },
    {
     "name": "stdout",
     "output_type": "stream",
     "text": [
      "Epoch 910/2000, Loss: 0.0983\n",
      "Test Accuracy at Epoch 910: 72.11%\n",
      "Test F1-score at Epoch 910: 0.7665\n",
      "Classification Report at Epoch 910:\n",
      "                  precision    recall  f1-score   support\n",
      "\n",
      "    infringement       0.89      0.52      0.65       194\n",
      "non_infringement       0.65      0.94      0.77       186\n",
      "\n",
      "        accuracy                           0.72       380\n",
      "       macro avg       0.77      0.73      0.71       380\n",
      "    weighted avg       0.77      0.72      0.71       380\n",
      "\n"
     ]
    },
    {
     "name": "stderr",
     "output_type": "stream",
     "text": [
      "Training Epochs:  46%|████▌     | 924/2000 [02:44<00:41, 26.12it/s]"
     ]
    },
    {
     "name": "stdout",
     "output_type": "stream",
     "text": [
      "Epoch 920/2000, Loss: 0.0920\n",
      "Test Accuracy at Epoch 920: 72.11%\n",
      "Test F1-score at Epoch 920: 0.7655\n",
      "Classification Report at Epoch 920:\n",
      "                  precision    recall  f1-score   support\n",
      "\n",
      "    infringement       0.89      0.52      0.66       194\n",
      "non_infringement       0.65      0.93      0.77       186\n",
      "\n",
      "        accuracy                           0.72       380\n",
      "       macro avg       0.77      0.73      0.71       380\n",
      "    weighted avg       0.77      0.72      0.71       380\n",
      "\n"
     ]
    },
    {
     "name": "stderr",
     "output_type": "stream",
     "text": [
      "Training Epochs:  47%|████▋     | 932/2000 [02:45<00:35, 29.71it/s]"
     ]
    },
    {
     "name": "stdout",
     "output_type": "stream",
     "text": [
      "Epoch 930/2000, Loss: 0.1090\n",
      "Test Accuracy at Epoch 930: 71.05%\n",
      "Test F1-score at Epoch 930: 0.7609\n",
      "Classification Report at Epoch 930:\n",
      "                  precision    recall  f1-score   support\n",
      "\n",
      "    infringement       0.90      0.49      0.63       194\n",
      "non_infringement       0.64      0.94      0.76       186\n",
      "\n",
      "        accuracy                           0.71       380\n",
      "       macro avg       0.77      0.72      0.70       380\n",
      "    weighted avg       0.77      0.71      0.70       380\n",
      "\n"
     ]
    },
    {
     "name": "stderr",
     "output_type": "stream",
     "text": [
      "Training Epochs:  47%|████▋     | 944/2000 [02:45<00:34, 30.94it/s]"
     ]
    },
    {
     "name": "stdout",
     "output_type": "stream",
     "text": [
      "Epoch 940/2000, Loss: 0.0921\n",
      "Test Accuracy at Epoch 940: 78.42%\n",
      "Test F1-score at Epoch 940: 0.8075\n",
      "Classification Report at Epoch 940:\n",
      "                  precision    recall  f1-score   support\n",
      "\n",
      "    infringement       0.90      0.65      0.75       194\n",
      "non_infringement       0.72      0.92      0.81       186\n",
      "\n",
      "        accuracy                           0.78       380\n",
      "       macro avg       0.81      0.79      0.78       380\n",
      "    weighted avg       0.81      0.78      0.78       380\n",
      "\n"
     ]
    },
    {
     "name": "stderr",
     "output_type": "stream",
     "text": [
      "Training Epochs:  48%|████▊     | 952/2000 [02:45<00:33, 31.39it/s]"
     ]
    },
    {
     "name": "stdout",
     "output_type": "stream",
     "text": [
      "Epoch 950/2000, Loss: 0.0934\n",
      "Test Accuracy at Epoch 950: 72.37%\n",
      "Test F1-score at Epoch 950: 0.7682\n",
      "Classification Report at Epoch 950:\n",
      "                  precision    recall  f1-score   support\n",
      "\n",
      "    infringement       0.89      0.52      0.66       194\n",
      "non_infringement       0.65      0.94      0.77       186\n",
      "\n",
      "        accuracy                           0.72       380\n",
      "       macro avg       0.77      0.73      0.71       380\n",
      "    weighted avg       0.78      0.72      0.71       380\n",
      "\n"
     ]
    },
    {
     "name": "stderr",
     "output_type": "stream",
     "text": [
      "Training Epochs:  48%|████▊     | 964/2000 [02:46<00:38, 26.66it/s]"
     ]
    },
    {
     "name": "stdout",
     "output_type": "stream",
     "text": [
      "Epoch 960/2000, Loss: 0.0896\n",
      "Test Accuracy at Epoch 960: 77.89%\n",
      "Test F1-score at Epoch 960: 0.8019\n",
      "Classification Report at Epoch 960:\n",
      "                  precision    recall  f1-score   support\n",
      "\n",
      "    infringement       0.89      0.65      0.75       194\n",
      "non_infringement       0.71      0.91      0.80       186\n",
      "\n",
      "        accuracy                           0.78       380\n",
      "       macro avg       0.80      0.78      0.78       380\n",
      "    weighted avg       0.80      0.78      0.78       380\n",
      "\n"
     ]
    },
    {
     "name": "stderr",
     "output_type": "stream",
     "text": [
      "Training Epochs:  49%|████▉     | 975/2000 [02:46<00:37, 27.53it/s]"
     ]
    },
    {
     "name": "stdout",
     "output_type": "stream",
     "text": [
      "Epoch 970/2000, Loss: 0.0904\n",
      "Test Accuracy at Epoch 970: 78.42%\n",
      "Test F1-score at Epoch 970: 0.8075\n",
      "Classification Report at Epoch 970:\n",
      "                  precision    recall  f1-score   support\n",
      "\n",
      "    infringement       0.90      0.65      0.75       194\n",
      "non_infringement       0.72      0.92      0.81       186\n",
      "\n",
      "        accuracy                           0.78       380\n",
      "       macro avg       0.81      0.79      0.78       380\n",
      "    weighted avg       0.81      0.78      0.78       380\n",
      "\n"
     ]
    },
    {
     "name": "stderr",
     "output_type": "stream",
     "text": [
      "Training Epochs:  49%|████▉     | 983/2000 [02:46<00:36, 28.11it/s]"
     ]
    },
    {
     "name": "stdout",
     "output_type": "stream",
     "text": [
      "Epoch 980/2000, Loss: 0.0879\n",
      "Test Accuracy at Epoch 980: 78.16%\n",
      "Test F1-score at Epoch 980: 0.8056\n",
      "Classification Report at Epoch 980:\n",
      "                  precision    recall  f1-score   support\n",
      "\n",
      "    infringement       0.90      0.64      0.75       194\n",
      "non_infringement       0.71      0.92      0.81       186\n",
      "\n",
      "        accuracy                           0.78       380\n",
      "       macro avg       0.81      0.78      0.78       380\n",
      "    weighted avg       0.81      0.78      0.78       380\n",
      "\n"
     ]
    },
    {
     "name": "stderr",
     "output_type": "stream",
     "text": [
      "Training Epochs:  50%|████▉     | 991/2000 [02:47<00:37, 27.02it/s]"
     ]
    },
    {
     "name": "stdout",
     "output_type": "stream",
     "text": [
      "Epoch 990/2000, Loss: 0.0927\n",
      "Test Accuracy at Epoch 990: 78.16%\n",
      "Test F1-score at Epoch 990: 0.8038\n",
      "Classification Report at Epoch 990:\n",
      "                  precision    recall  f1-score   support\n",
      "\n",
      "    infringement       0.89      0.65      0.75       194\n",
      "non_infringement       0.72      0.91      0.80       186\n",
      "\n",
      "        accuracy                           0.78       380\n",
      "       macro avg       0.80      0.78      0.78       380\n",
      "    weighted avg       0.80      0.78      0.78       380\n",
      "\n"
     ]
    },
    {
     "name": "stderr",
     "output_type": "stream",
     "text": [
      "Training Epochs:  50%|█████     | 1005/2000 [02:47<00:27, 36.24it/s]"
     ]
    },
    {
     "name": "stdout",
     "output_type": "stream",
     "text": [
      "Epoch 1000/2000, Loss: 0.0947\n",
      "Test Accuracy at Epoch 1000: 73.42%\n",
      "Test F1-score at Epoch 1000: 0.7819\n",
      "Classification Report at Epoch 1000:\n",
      "                  precision    recall  f1-score   support\n",
      "\n",
      "    infringement       0.95      0.51      0.66       194\n",
      "non_infringement       0.65      0.97      0.78       186\n",
      "\n",
      "        accuracy                           0.73       380\n",
      "       macro avg       0.80      0.74      0.72       380\n",
      "    weighted avg       0.81      0.73      0.72       380\n",
      "\n"
     ]
    },
    {
     "name": "stderr",
     "output_type": "stream",
     "text": [
      "Training Epochs:  51%|█████     | 1018/2000 [02:47<00:26, 37.76it/s]"
     ]
    },
    {
     "name": "stdout",
     "output_type": "stream",
     "text": [
      "Epoch 1010/2000, Loss: 0.0869\n",
      "Test Accuracy at Epoch 1010: 78.16%\n",
      "Test F1-score at Epoch 1010: 0.8047\n",
      "Classification Report at Epoch 1010:\n",
      "                  precision    recall  f1-score   support\n",
      "\n",
      "    infringement       0.89      0.65      0.75       194\n",
      "non_infringement       0.72      0.92      0.80       186\n",
      "\n",
      "        accuracy                           0.78       380\n",
      "       macro avg       0.80      0.78      0.78       380\n",
      "    weighted avg       0.81      0.78      0.78       380\n",
      "\n"
     ]
    },
    {
     "name": "stderr",
     "output_type": "stream",
     "text": [
      "Training Epochs:  51%|█████▏    | 1027/2000 [02:48<00:25, 37.69it/s]"
     ]
    },
    {
     "name": "stdout",
     "output_type": "stream",
     "text": [
      "Epoch 1020/2000, Loss: 0.0943\n",
      "Test Accuracy at Epoch 1020: 78.16%\n",
      "Test F1-score at Epoch 1020: 0.8038\n",
      "Classification Report at Epoch 1020:\n",
      "                  precision    recall  f1-score   support\n",
      "\n",
      "    infringement       0.89      0.65      0.75       194\n",
      "non_infringement       0.72      0.91      0.80       186\n",
      "\n",
      "        accuracy                           0.78       380\n",
      "       macro avg       0.80      0.78      0.78       380\n",
      "    weighted avg       0.80      0.78      0.78       380\n",
      "\n"
     ]
    },
    {
     "name": "stderr",
     "output_type": "stream",
     "text": [
      "Training Epochs:  52%|█████▏    | 1036/2000 [02:48<00:26, 36.69it/s]"
     ]
    },
    {
     "name": "stdout",
     "output_type": "stream",
     "text": [
      "Epoch 1030/2000, Loss: 0.0913\n",
      "Test Accuracy at Epoch 1030: 73.68%\n",
      "Test F1-score at Epoch 1030: 0.7835\n",
      "Classification Report at Epoch 1030:\n",
      "                  precision    recall  f1-score   support\n",
      "\n",
      "    infringement       0.95      0.51      0.66       194\n",
      "non_infringement       0.66      0.97      0.78       186\n",
      "\n",
      "        accuracy                           0.74       380\n",
      "       macro avg       0.80      0.74      0.72       380\n",
      "    weighted avg       0.81      0.74      0.72       380\n",
      "\n"
     ]
    },
    {
     "name": "stderr",
     "output_type": "stream",
     "text": [
      "Training Epochs:  52%|█████▏    | 1047/2000 [02:48<00:22, 42.09it/s]"
     ]
    },
    {
     "name": "stdout",
     "output_type": "stream",
     "text": [
      "Epoch 1040/2000, Loss: 0.0859\n",
      "Test Accuracy at Epoch 1040: 77.89%\n",
      "Test F1-score at Epoch 1040: 0.8028\n",
      "Classification Report at Epoch 1040:\n",
      "                  precision    recall  f1-score   support\n",
      "\n",
      "    infringement       0.89      0.64      0.75       194\n",
      "non_infringement       0.71      0.92      0.80       186\n",
      "\n",
      "        accuracy                           0.78       380\n",
      "       macro avg       0.80      0.78      0.78       380\n",
      "    weighted avg       0.80      0.78      0.78       380\n",
      "\n"
     ]
    },
    {
     "name": "stderr",
     "output_type": "stream",
     "text": [
      "Training Epochs:  53%|█████▎    | 1052/2000 [02:48<00:24, 38.47it/s]"
     ]
    },
    {
     "name": "stdout",
     "output_type": "stream",
     "text": [
      "Epoch 1050/2000, Loss: 0.0956\n",
      "Test Accuracy at Epoch 1050: 78.42%\n",
      "Test F1-score at Epoch 1050: 0.8048\n",
      "Classification Report at Epoch 1050:\n",
      "                  precision    recall  f1-score   support\n",
      "\n",
      "    infringement       0.88      0.66      0.76       194\n",
      "non_infringement       0.72      0.91      0.80       186\n",
      "\n",
      "        accuracy                           0.78       380\n",
      "       macro avg       0.80      0.79      0.78       380\n",
      "    weighted avg       0.80      0.78      0.78       380\n",
      "\n"
     ]
    },
    {
     "name": "stderr",
     "output_type": "stream",
     "text": [
      "Training Epochs:  53%|█████▎    | 1068/2000 [02:49<00:20, 45.99it/s]"
     ]
    },
    {
     "name": "stdout",
     "output_type": "stream",
     "text": [
      "Epoch 1060/2000, Loss: 0.0880\n",
      "Test Accuracy at Epoch 1060: 72.89%\n",
      "Test F1-score at Epoch 1060: 0.7756\n",
      "Classification Report at Epoch 1060:\n",
      "                  precision    recall  f1-score   support\n",
      "\n",
      "    infringement       0.93      0.51      0.66       194\n",
      "non_infringement       0.65      0.96      0.78       186\n",
      "\n",
      "        accuracy                           0.73       380\n",
      "       macro avg       0.79      0.73      0.72       380\n",
      "    weighted avg       0.79      0.73      0.72       380\n",
      "\n"
     ]
    },
    {
     "name": "stderr",
     "output_type": "stream",
     "text": [
      "Training Epochs:  54%|█████▍    | 1079/2000 [02:49<00:21, 43.17it/s]"
     ]
    },
    {
     "name": "stdout",
     "output_type": "stream",
     "text": [
      "Epoch 1070/2000, Loss: 0.0867\n",
      "Test Accuracy at Epoch 1070: 78.42%\n",
      "Test F1-score at Epoch 1070: 0.8111\n",
      "Classification Report at Epoch 1070:\n",
      "                  precision    recall  f1-score   support\n",
      "\n",
      "    infringement       0.92      0.63      0.75       194\n",
      "non_infringement       0.71      0.95      0.81       186\n",
      "\n",
      "        accuracy                           0.78       380\n",
      "       macro avg       0.82      0.79      0.78       380\n",
      "    weighted avg       0.82      0.78      0.78       380\n",
      "\n"
     ]
    },
    {
     "name": "stderr",
     "output_type": "stream",
     "text": [
      "Training Epochs:  54%|█████▍    | 1084/2000 [02:49<00:21, 43.59it/s]"
     ]
    },
    {
     "name": "stdout",
     "output_type": "stream",
     "text": [
      "Epoch 1080/2000, Loss: 0.0922\n",
      "Test Accuracy at Epoch 1080: 78.68%\n",
      "Test F1-score at Epoch 1080: 0.8076\n",
      "Classification Report at Epoch 1080:\n",
      "                  precision    recall  f1-score   support\n",
      "\n",
      "    infringement       0.89      0.66      0.76       194\n",
      "non_infringement       0.72      0.91      0.81       186\n",
      "\n",
      "        accuracy                           0.79       380\n",
      "       macro avg       0.81      0.79      0.78       380\n",
      "    weighted avg       0.81      0.79      0.78       380\n",
      "\n"
     ]
    },
    {
     "name": "stderr",
     "output_type": "stream",
     "text": [
      "Training Epochs:  55%|█████▍    | 1094/2000 [02:49<00:22, 40.44it/s]"
     ]
    },
    {
     "name": "stdout",
     "output_type": "stream",
     "text": [
      "Epoch 1090/2000, Loss: 0.0872\n",
      "Test Accuracy at Epoch 1090: 73.16%\n",
      "Test F1-score at Epoch 1090: 0.7783\n",
      "Classification Report at Epoch 1090:\n",
      "                  precision    recall  f1-score   support\n",
      "\n",
      "    infringement       0.93      0.51      0.66       194\n",
      "non_infringement       0.65      0.96      0.78       186\n",
      "\n",
      "        accuracy                           0.73       380\n",
      "       macro avg       0.79      0.74      0.72       380\n",
      "    weighted avg       0.80      0.73      0.72       380\n",
      "\n"
     ]
    },
    {
     "name": "stderr",
     "output_type": "stream",
     "text": [
      "Training Epochs:  55%|█████▌    | 1105/2000 [02:50<00:24, 37.20it/s]"
     ]
    },
    {
     "name": "stdout",
     "output_type": "stream",
     "text": [
      "Epoch 1100/2000, Loss: 0.0841\n",
      "Test Accuracy at Epoch 1100: 78.95%\n",
      "Test F1-score at Epoch 1100: 0.8148\n",
      "Classification Report at Epoch 1100:\n",
      "                  precision    recall  f1-score   support\n",
      "\n",
      "    infringement       0.93      0.64      0.76       194\n",
      "non_infringement       0.72      0.95      0.81       186\n",
      "\n",
      "        accuracy                           0.79       380\n",
      "       macro avg       0.82      0.79      0.79       380\n",
      "    weighted avg       0.82      0.79      0.78       380\n",
      "\n"
     ]
    },
    {
     "name": "stderr",
     "output_type": "stream",
     "text": [
      "Training Epochs:  56%|█████▌    | 1115/2000 [02:50<00:21, 40.99it/s]"
     ]
    },
    {
     "name": "stdout",
     "output_type": "stream",
     "text": [
      "Epoch 1110/2000, Loss: 0.0950\n",
      "Test Accuracy at Epoch 1110: 78.68%\n",
      "Test F1-score at Epoch 1110: 0.8076\n",
      "Classification Report at Epoch 1110:\n",
      "                  precision    recall  f1-score   support\n",
      "\n",
      "    infringement       0.89      0.66      0.76       194\n",
      "non_infringement       0.72      0.91      0.81       186\n",
      "\n",
      "        accuracy                           0.79       380\n",
      "       macro avg       0.81      0.79      0.78       380\n",
      "    weighted avg       0.81      0.79      0.78       380\n",
      "\n"
     ]
    },
    {
     "name": "stderr",
     "output_type": "stream",
     "text": [
      "Training Epochs:  56%|█████▌    | 1124/2000 [02:50<00:24, 35.90it/s]"
     ]
    },
    {
     "name": "stdout",
     "output_type": "stream",
     "text": [
      "Epoch 1120/2000, Loss: 0.0900\n",
      "Test Accuracy at Epoch 1120: 72.11%\n",
      "Test F1-score at Epoch 1120: 0.7716\n",
      "Classification Report at Epoch 1120:\n",
      "                  precision    recall  f1-score   support\n",
      "\n",
      "    infringement       0.93      0.49      0.64       194\n",
      "non_infringement       0.64      0.96      0.77       186\n",
      "\n",
      "        accuracy                           0.72       380\n",
      "       macro avg       0.79      0.73      0.71       380\n",
      "    weighted avg       0.79      0.72      0.71       380\n",
      "\n"
     ]
    },
    {
     "name": "stderr",
     "output_type": "stream",
     "text": [
      "Training Epochs:  57%|█████▋    | 1136/2000 [02:51<00:27, 31.12it/s]"
     ]
    },
    {
     "name": "stdout",
     "output_type": "stream",
     "text": [
      "Epoch 1130/2000, Loss: 0.0834\n",
      "Test Accuracy at Epoch 1130: 78.68%\n",
      "Test F1-score at Epoch 1130: 0.8129\n",
      "Classification Report at Epoch 1130:\n",
      "                  precision    recall  f1-score   support\n",
      "\n",
      "    infringement       0.92      0.63      0.75       194\n",
      "non_infringement       0.71      0.95      0.81       186\n",
      "\n",
      "        accuracy                           0.79       380\n",
      "       macro avg       0.82      0.79      0.78       380\n",
      "    weighted avg       0.82      0.79      0.78       380\n",
      "\n"
     ]
    },
    {
     "name": "stderr",
     "output_type": "stream",
     "text": [
      "Training Epochs:  57%|█████▋    | 1144/2000 [02:51<00:28, 30.03it/s]"
     ]
    },
    {
     "name": "stdout",
     "output_type": "stream",
     "text": [
      "Epoch 1140/2000, Loss: 0.0944\n",
      "Test Accuracy at Epoch 1140: 79.21%\n",
      "Test F1-score at Epoch 1140: 0.8115\n",
      "Classification Report at Epoch 1140:\n",
      "                  precision    recall  f1-score   support\n",
      "\n",
      "    infringement       0.89      0.68      0.77       194\n",
      "non_infringement       0.73      0.91      0.81       186\n",
      "\n",
      "        accuracy                           0.79       380\n",
      "       macro avg       0.81      0.79      0.79       380\n",
      "    weighted avg       0.81      0.79      0.79       380\n",
      "\n"
     ]
    },
    {
     "name": "stderr",
     "output_type": "stream",
     "text": [
      "Training Epochs:  58%|█████▊    | 1152/2000 [02:51<00:31, 26.75it/s]"
     ]
    },
    {
     "name": "stdout",
     "output_type": "stream",
     "text": [
      "Epoch 1150/2000, Loss: 0.0940\n",
      "Test Accuracy at Epoch 1150: 72.63%\n",
      "Test F1-score at Epoch 1150: 0.7759\n",
      "Classification Report at Epoch 1150:\n",
      "                  precision    recall  f1-score   support\n",
      "\n",
      "    infringement       0.94      0.49      0.65       194\n",
      "non_infringement       0.65      0.97      0.78       186\n",
      "\n",
      "        accuracy                           0.73       380\n",
      "       macro avg       0.79      0.73      0.71       380\n",
      "    weighted avg       0.80      0.73      0.71       380\n",
      "\n"
     ]
    },
    {
     "name": "stderr",
     "output_type": "stream",
     "text": [
      "Training Epochs:  58%|█████▊    | 1163/2000 [02:52<00:37, 22.39it/s]"
     ]
    },
    {
     "name": "stdout",
     "output_type": "stream",
     "text": [
      "Epoch 1160/2000, Loss: 0.0853\n",
      "Test Accuracy at Epoch 1160: 78.95%\n",
      "Test F1-score at Epoch 1160: 0.8148\n",
      "Classification Report at Epoch 1160:\n",
      "                  precision    recall  f1-score   support\n",
      "\n",
      "    infringement       0.93      0.64      0.76       194\n",
      "non_infringement       0.72      0.95      0.81       186\n",
      "\n",
      "        accuracy                           0.79       380\n",
      "       macro avg       0.82      0.79      0.79       380\n",
      "    weighted avg       0.82      0.79      0.78       380\n",
      "\n"
     ]
    },
    {
     "name": "stderr",
     "output_type": "stream",
     "text": [
      "Training Epochs:  59%|█████▉    | 1176/2000 [02:52<00:34, 23.99it/s]"
     ]
    },
    {
     "name": "stdout",
     "output_type": "stream",
     "text": [
      "Epoch 1170/2000, Loss: 0.0850\n",
      "Test Accuracy at Epoch 1170: 78.68%\n",
      "Test F1-score at Epoch 1170: 0.8155\n",
      "Classification Report at Epoch 1170:\n",
      "                  precision    recall  f1-score   support\n",
      "\n",
      "    infringement       0.94      0.62      0.75       194\n",
      "non_infringement       0.71      0.96      0.82       186\n",
      "\n",
      "        accuracy                           0.79       380\n",
      "       macro avg       0.83      0.79      0.78       380\n",
      "    weighted avg       0.83      0.79      0.78       380\n",
      "\n"
     ]
    },
    {
     "name": "stderr",
     "output_type": "stream",
     "text": [
      "Training Epochs:  59%|█████▉    | 1182/2000 [02:52<00:35, 23.09it/s]"
     ]
    },
    {
     "name": "stdout",
     "output_type": "stream",
     "text": [
      "Epoch 1180/2000, Loss: 0.0823\n",
      "Test Accuracy at Epoch 1180: 78.68%\n",
      "Test F1-score at Epoch 1180: 0.8129\n",
      "Classification Report at Epoch 1180:\n",
      "                  precision    recall  f1-score   support\n",
      "\n",
      "    infringement       0.92      0.63      0.75       194\n",
      "non_infringement       0.71      0.95      0.81       186\n",
      "\n",
      "        accuracy                           0.79       380\n",
      "       macro avg       0.82      0.79      0.78       380\n",
      "    weighted avg       0.82      0.79      0.78       380\n",
      "\n"
     ]
    },
    {
     "name": "stderr",
     "output_type": "stream",
     "text": [
      "Training Epochs:  60%|█████▉    | 1192/2000 [02:53<00:33, 23.91it/s]"
     ]
    },
    {
     "name": "stdout",
     "output_type": "stream",
     "text": [
      "Epoch 1190/2000, Loss: 0.1041\n",
      "Test Accuracy at Epoch 1190: 79.74%\n",
      "Test F1-score at Epoch 1190: 0.8188\n",
      "Classification Report at Epoch 1190:\n",
      "                  precision    recall  f1-score   support\n",
      "\n",
      "    infringement       0.91      0.66      0.77       194\n",
      "non_infringement       0.73      0.94      0.82       186\n",
      "\n",
      "        accuracy                           0.80       380\n",
      "       macro avg       0.82      0.80      0.79       380\n",
      "    weighted avg       0.82      0.80      0.79       380\n",
      "\n"
     ]
    },
    {
     "name": "stderr",
     "output_type": "stream",
     "text": [
      "Training Epochs:  60%|██████    | 1202/2000 [02:53<00:34, 23.25it/s]"
     ]
    },
    {
     "name": "stdout",
     "output_type": "stream",
     "text": [
      "Epoch 1200/2000, Loss: 0.0823\n",
      "Test Accuracy at Epoch 1200: 78.68%\n",
      "Test F1-score at Epoch 1200: 0.8129\n",
      "Classification Report at Epoch 1200:\n",
      "                  precision    recall  f1-score   support\n",
      "\n",
      "    infringement       0.92      0.63      0.75       194\n",
      "non_infringement       0.71      0.95      0.81       186\n",
      "\n",
      "        accuracy                           0.79       380\n",
      "       macro avg       0.82      0.79      0.78       380\n",
      "    weighted avg       0.82      0.79      0.78       380\n",
      "\n"
     ]
    },
    {
     "name": "stderr",
     "output_type": "stream",
     "text": [
      "Training Epochs:  61%|██████    | 1213/2000 [02:54<00:31, 24.89it/s]"
     ]
    },
    {
     "name": "stdout",
     "output_type": "stream",
     "text": [
      "Epoch 1210/2000, Loss: 0.0838\n",
      "Test Accuracy at Epoch 1210: 73.42%\n",
      "Test F1-score at Epoch 1210: 0.7800\n",
      "Classification Report at Epoch 1210:\n",
      "                  precision    recall  f1-score   support\n",
      "\n",
      "    infringement       0.93      0.52      0.66       194\n",
      "non_infringement       0.66      0.96      0.78       186\n",
      "\n",
      "        accuracy                           0.73       380\n",
      "       macro avg       0.80      0.74      0.72       380\n",
      "    weighted avg       0.80      0.73      0.72       380\n",
      "\n"
     ]
    },
    {
     "name": "stderr",
     "output_type": "stream",
     "text": [
      "Training Epochs:  61%|██████    | 1224/2000 [02:54<00:28, 26.82it/s]"
     ]
    },
    {
     "name": "stdout",
     "output_type": "stream",
     "text": [
      "Epoch 1220/2000, Loss: 0.0821\n",
      "Test Accuracy at Epoch 1220: 78.68%\n",
      "Test F1-score at Epoch 1220: 0.8129\n",
      "Classification Report at Epoch 1220:\n",
      "                  precision    recall  f1-score   support\n",
      "\n",
      "    infringement       0.92      0.63      0.75       194\n",
      "non_infringement       0.71      0.95      0.81       186\n",
      "\n",
      "        accuracy                           0.79       380\n",
      "       macro avg       0.82      0.79      0.78       380\n",
      "    weighted avg       0.82      0.79      0.78       380\n",
      "\n"
     ]
    },
    {
     "name": "stderr",
     "output_type": "stream",
     "text": [
      "Training Epochs:  62%|██████▏   | 1235/2000 [02:55<00:27, 27.86it/s]"
     ]
    },
    {
     "name": "stdout",
     "output_type": "stream",
     "text": [
      "Epoch 1230/2000, Loss: 0.0854\n",
      "Test Accuracy at Epoch 1230: 78.95%\n",
      "Test F1-score at Epoch 1230: 0.8140\n",
      "Classification Report at Epoch 1230:\n",
      "                  precision    recall  f1-score   support\n",
      "\n",
      "    infringement       0.92      0.64      0.76       194\n",
      "non_infringement       0.72      0.94      0.81       186\n",
      "\n",
      "        accuracy                           0.79       380\n",
      "       macro avg       0.82      0.79      0.79       380\n",
      "    weighted avg       0.82      0.79      0.79       380\n",
      "\n"
     ]
    },
    {
     "name": "stderr",
     "output_type": "stream",
     "text": [
      "Training Epochs:  62%|██████▏   | 1238/2000 [02:55<00:45, 16.78it/s]"
     ]
    },
    {
     "name": "stdout",
     "output_type": "stream",
     "text": [
      "Epoch 1240/2000, Loss: 0.0813\n",
      "Test Accuracy at Epoch 1240: 78.95%\n",
      "Test F1-score at Epoch 1240: 0.8157\n",
      "Classification Report at Epoch 1240:\n",
      "                  precision    recall  f1-score   support\n",
      "\n",
      "    infringement       0.93      0.63      0.75       194\n",
      "non_infringement       0.71      0.95      0.82       186\n",
      "\n",
      "        accuracy                           0.79       380\n",
      "       macro avg       0.82      0.79      0.79       380\n",
      "    weighted avg       0.83      0.79      0.78       380\n",
      "\n"
     ]
    },
    {
     "name": "stderr",
     "output_type": "stream",
     "text": [
      "Training Epochs:  63%|██████▎   | 1252/2000 [02:56<00:58, 12.81it/s]"
     ]
    },
    {
     "name": "stdout",
     "output_type": "stream",
     "text": [
      "Epoch 1250/2000, Loss: 0.0985\n",
      "Test Accuracy at Epoch 1250: 80.53%\n",
      "Test F1-score at Epoch 1250: 0.8255\n",
      "Classification Report at Epoch 1250:\n",
      "                  precision    recall  f1-score   support\n",
      "\n",
      "    infringement       0.92      0.68      0.78       194\n",
      "non_infringement       0.74      0.94      0.83       186\n",
      "\n",
      "        accuracy                           0.81       380\n",
      "       macro avg       0.83      0.81      0.80       380\n",
      "    weighted avg       0.83      0.81      0.80       380\n",
      "\n"
     ]
    },
    {
     "name": "stderr",
     "output_type": "stream",
     "text": [
      "Training Epochs:  63%|██████▎   | 1261/2000 [02:57<00:51, 14.29it/s]"
     ]
    },
    {
     "name": "stdout",
     "output_type": "stream",
     "text": [
      "Epoch 1260/2000, Loss: 0.0874\n",
      "Test Accuracy at Epoch 1260: 78.42%\n",
      "Test F1-score at Epoch 1260: 0.8128\n",
      "Classification Report at Epoch 1260:\n",
      "                  precision    recall  f1-score   support\n",
      "\n",
      "    infringement       0.94      0.62      0.75       194\n",
      "non_infringement       0.71      0.96      0.81       186\n",
      "\n",
      "        accuracy                           0.78       380\n",
      "       macro avg       0.82      0.79      0.78       380\n",
      "    weighted avg       0.82      0.78      0.78       380\n",
      "\n"
     ]
    },
    {
     "name": "stderr",
     "output_type": "stream",
     "text": [
      "Training Epochs:  64%|██████▍   | 1275/2000 [02:58<00:35, 20.21it/s]"
     ]
    },
    {
     "name": "stdout",
     "output_type": "stream",
     "text": [
      "Epoch 1270/2000, Loss: 0.0822\n",
      "Test Accuracy at Epoch 1270: 73.68%\n",
      "Test F1-score at Epoch 1270: 0.7826\n",
      "Classification Report at Epoch 1270:\n",
      "                  precision    recall  f1-score   support\n",
      "\n",
      "    infringement       0.94      0.52      0.67       194\n",
      "non_infringement       0.66      0.97      0.78       186\n",
      "\n",
      "        accuracy                           0.74       380\n",
      "       macro avg       0.80      0.74      0.72       380\n",
      "    weighted avg       0.80      0.74      0.72       380\n",
      "\n"
     ]
    },
    {
     "name": "stderr",
     "output_type": "stream",
     "text": [
      "Training Epochs:  64%|██████▍   | 1283/2000 [02:58<00:49, 14.49it/s]"
     ]
    },
    {
     "name": "stdout",
     "output_type": "stream",
     "text": [
      "Epoch 1280/2000, Loss: 0.0824\n",
      "Test Accuracy at Epoch 1280: 78.68%\n",
      "Test F1-score at Epoch 1280: 0.8129\n",
      "Classification Report at Epoch 1280:\n",
      "                  precision    recall  f1-score   support\n",
      "\n",
      "    infringement       0.92      0.63      0.75       194\n",
      "non_infringement       0.71      0.95      0.81       186\n",
      "\n",
      "        accuracy                           0.79       380\n",
      "       macro avg       0.82      0.79      0.78       380\n",
      "    weighted avg       0.82      0.79      0.78       380\n",
      "\n"
     ]
    },
    {
     "name": "stderr",
     "output_type": "stream",
     "text": [
      "Training Epochs:  65%|██████▍   | 1292/2000 [02:59<00:41, 17.10it/s]"
     ]
    },
    {
     "name": "stdout",
     "output_type": "stream",
     "text": [
      "Epoch 1290/2000, Loss: 0.0805\n",
      "Test Accuracy at Epoch 1290: 78.95%\n",
      "Test F1-score at Epoch 1290: 0.8165\n",
      "Classification Report at Epoch 1290:\n",
      "                  precision    recall  f1-score   support\n",
      "\n",
      "    infringement       0.94      0.63      0.75       194\n",
      "non_infringement       0.71      0.96      0.82       186\n",
      "\n",
      "        accuracy                           0.79       380\n",
      "       macro avg       0.83      0.79      0.78       380\n",
      "    weighted avg       0.83      0.79      0.78       380\n",
      "\n"
     ]
    },
    {
     "name": "stderr",
     "output_type": "stream",
     "text": [
      "Training Epochs:  65%|██████▌   | 1304/2000 [02:59<00:33, 21.07it/s]"
     ]
    },
    {
     "name": "stdout",
     "output_type": "stream",
     "text": [
      "Epoch 1300/2000, Loss: 0.0891\n",
      "Test Accuracy at Epoch 1300: 72.37%\n",
      "Test F1-score at Epoch 1300: 0.7742\n",
      "Classification Report at Epoch 1300:\n",
      "                  precision    recall  f1-score   support\n",
      "\n",
      "    infringement       0.94      0.49      0.64       194\n",
      "non_infringement       0.65      0.97      0.77       186\n",
      "\n",
      "        accuracy                           0.72       380\n",
      "       macro avg       0.79      0.73      0.71       380\n",
      "    weighted avg       0.80      0.72      0.71       380\n",
      "\n"
     ]
    },
    {
     "name": "stderr",
     "output_type": "stream",
     "text": [
      "Training Epochs:  66%|██████▌   | 1310/2000 [03:00<00:35, 19.48it/s]"
     ]
    },
    {
     "name": "stdout",
     "output_type": "stream",
     "text": [
      "Epoch 1310/2000, Loss: 0.0860\n",
      "Test Accuracy at Epoch 1310: 78.95%\n",
      "Test F1-score at Epoch 1310: 0.8140\n",
      "Classification Report at Epoch 1310:\n",
      "                  precision    recall  f1-score   support\n",
      "\n",
      "    infringement       0.92      0.64      0.76       194\n",
      "non_infringement       0.72      0.94      0.81       186\n",
      "\n",
      "        accuracy                           0.79       380\n",
      "       macro avg       0.82      0.79      0.79       380\n",
      "    weighted avg       0.82      0.79      0.79       380\n",
      "\n"
     ]
    },
    {
     "name": "stderr",
     "output_type": "stream",
     "text": [
      "Training Epochs:  66%|██████▌   | 1321/2000 [03:01<00:58, 11.61it/s]"
     ]
    },
    {
     "name": "stdout",
     "output_type": "stream",
     "text": [
      "Epoch 1320/2000, Loss: 0.0824\n",
      "Test Accuracy at Epoch 1320: 73.95%\n",
      "Test F1-score at Epoch 1320: 0.7843\n",
      "Classification Report at Epoch 1320:\n",
      "                  precision    recall  f1-score   support\n",
      "\n",
      "    infringement       0.94      0.52      0.67       194\n",
      "non_infringement       0.66      0.97      0.78       186\n",
      "\n",
      "        accuracy                           0.74       380\n",
      "       macro avg       0.80      0.74      0.73       380\n",
      "    weighted avg       0.80      0.74      0.73       380\n",
      "\n"
     ]
    },
    {
     "name": "stderr",
     "output_type": "stream",
     "text": [
      "Training Epochs:  66%|██████▋   | 1330/2000 [03:04<03:34,  3.13it/s]"
     ]
    },
    {
     "name": "stdout",
     "output_type": "stream",
     "text": [
      "Epoch 1330/2000, Loss: 0.0801\n",
      "Test Accuracy at Epoch 1330: 78.95%\n",
      "Test F1-score at Epoch 1330: 0.8165\n",
      "Classification Report at Epoch 1330:\n",
      "                  precision    recall  f1-score   support\n",
      "\n",
      "    infringement       0.94      0.63      0.75       194\n",
      "non_infringement       0.71      0.96      0.82       186\n",
      "\n",
      "        accuracy                           0.79       380\n",
      "       macro avg       0.83      0.79      0.78       380\n",
      "    weighted avg       0.83      0.79      0.78       380\n",
      "\n"
     ]
    },
    {
     "name": "stderr",
     "output_type": "stream",
     "text": [
      "Training Epochs:  67%|██████▋   | 1340/2000 [03:06<02:11,  5.00it/s]"
     ]
    },
    {
     "name": "stdout",
     "output_type": "stream",
     "text": [
      "Epoch 1340/2000, Loss: 0.0882\n",
      "Test Accuracy at Epoch 1340: 78.95%\n",
      "Test F1-score at Epoch 1340: 0.8140\n",
      "Classification Report at Epoch 1340:\n",
      "                  precision    recall  f1-score   support\n",
      "\n",
      "    infringement       0.92      0.64      0.76       194\n",
      "non_infringement       0.72      0.94      0.81       186\n",
      "\n",
      "        accuracy                           0.79       380\n",
      "       macro avg       0.82      0.79      0.79       380\n",
      "    weighted avg       0.82      0.79      0.79       380\n",
      "\n"
     ]
    },
    {
     "name": "stderr",
     "output_type": "stream",
     "text": [
      "Training Epochs:  68%|██████▊   | 1350/2000 [03:11<05:59,  1.81it/s]"
     ]
    },
    {
     "name": "stdout",
     "output_type": "stream",
     "text": [
      "Epoch 1350/2000, Loss: 0.0830\n",
      "Test Accuracy at Epoch 1350: 73.68%\n",
      "Test F1-score at Epoch 1350: 0.7826\n",
      "Classification Report at Epoch 1350:\n",
      "                  precision    recall  f1-score   support\n",
      "\n",
      "    infringement       0.94      0.52      0.67       194\n",
      "non_infringement       0.66      0.97      0.78       186\n",
      "\n",
      "        accuracy                           0.74       380\n",
      "       macro avg       0.80      0.74      0.72       380\n",
      "    weighted avg       0.80      0.74      0.72       380\n",
      "\n"
     ]
    },
    {
     "name": "stderr",
     "output_type": "stream",
     "text": [
      "Training Epochs:  68%|██████▊   | 1360/2000 [03:16<05:53,  1.81it/s]"
     ]
    },
    {
     "name": "stdout",
     "output_type": "stream",
     "text": [
      "Epoch 1360/2000, Loss: 0.0796\n",
      "Test Accuracy at Epoch 1360: 78.95%\n",
      "Test F1-score at Epoch 1360: 0.8165\n",
      "Classification Report at Epoch 1360:\n",
      "                  precision    recall  f1-score   support\n",
      "\n",
      "    infringement       0.94      0.63      0.75       194\n",
      "non_infringement       0.71      0.96      0.82       186\n",
      "\n",
      "        accuracy                           0.79       380\n",
      "       macro avg       0.83      0.79      0.78       380\n",
      "    weighted avg       0.83      0.79      0.78       380\n",
      "\n"
     ]
    },
    {
     "name": "stderr",
     "output_type": "stream",
     "text": [
      "Training Epochs:  68%|██████▊   | 1370/2000 [03:20<04:30,  2.33it/s]"
     ]
    },
    {
     "name": "stdout",
     "output_type": "stream",
     "text": [
      "Epoch 1370/2000, Loss: 0.0870\n",
      "Test Accuracy at Epoch 1370: 78.95%\n",
      "Test F1-score at Epoch 1370: 0.8140\n",
      "Classification Report at Epoch 1370:\n",
      "                  precision    recall  f1-score   support\n",
      "\n",
      "    infringement       0.92      0.64      0.76       194\n",
      "non_infringement       0.72      0.94      0.81       186\n",
      "\n",
      "        accuracy                           0.79       380\n",
      "       macro avg       0.82      0.79      0.79       380\n",
      "    weighted avg       0.82      0.79      0.79       380\n",
      "\n"
     ]
    },
    {
     "name": "stderr",
     "output_type": "stream",
     "text": [
      "Training Epochs:  69%|██████▉   | 1380/2000 [03:23<03:17,  3.14it/s]"
     ]
    },
    {
     "name": "stdout",
     "output_type": "stream",
     "text": [
      "Epoch 1380/2000, Loss: 0.0869\n",
      "Test Accuracy at Epoch 1380: 72.63%\n",
      "Test F1-score at Epoch 1380: 0.7759\n",
      "Classification Report at Epoch 1380:\n",
      "                  precision    recall  f1-score   support\n",
      "\n",
      "    infringement       0.94      0.49      0.65       194\n",
      "non_infringement       0.65      0.97      0.78       186\n",
      "\n",
      "        accuracy                           0.73       380\n",
      "       macro avg       0.79      0.73      0.71       380\n",
      "    weighted avg       0.80      0.73      0.71       380\n",
      "\n"
     ]
    },
    {
     "name": "stderr",
     "output_type": "stream",
     "text": [
      "Training Epochs:  70%|██████▉   | 1390/2000 [03:25<02:28,  4.11it/s]"
     ]
    },
    {
     "name": "stdout",
     "output_type": "stream",
     "text": [
      "Epoch 1390/2000, Loss: 0.0836\n",
      "Test Accuracy at Epoch 1390: 78.68%\n",
      "Test F1-score at Epoch 1390: 0.8129\n",
      "Classification Report at Epoch 1390:\n",
      "                  precision    recall  f1-score   support\n",
      "\n",
      "    infringement       0.92      0.63      0.75       194\n",
      "non_infringement       0.71      0.95      0.81       186\n",
      "\n",
      "        accuracy                           0.79       380\n",
      "       macro avg       0.82      0.79      0.78       380\n",
      "    weighted avg       0.82      0.79      0.78       380\n",
      "\n"
     ]
    },
    {
     "name": "stderr",
     "output_type": "stream",
     "text": [
      "Training Epochs:  70%|██████▉   | 1399/2000 [03:27<01:38,  6.13it/s]"
     ]
    },
    {
     "name": "stdout",
     "output_type": "stream",
     "text": [
      "Epoch 1400/2000, Loss: 0.0798\n",
      "Test Accuracy at Epoch 1400: 78.95%\n",
      "Test F1-score at Epoch 1400: 0.8174\n",
      "Classification Report at Epoch 1400:\n",
      "                  precision    recall  f1-score   support\n",
      "\n",
      "    infringement       0.95      0.62      0.75       194\n",
      "non_infringement       0.71      0.96      0.82       186\n",
      "\n",
      "        accuracy                           0.79       380\n",
      "       macro avg       0.83      0.79      0.78       380\n",
      "    weighted avg       0.83      0.79      0.78       380\n",
      "\n"
     ]
    },
    {
     "name": "stderr",
     "output_type": "stream",
     "text": [
      "Training Epochs:  70%|███████   | 1410/2000 [03:31<04:41,  2.10it/s]"
     ]
    },
    {
     "name": "stdout",
     "output_type": "stream",
     "text": [
      "Epoch 1410/2000, Loss: 0.0820\n",
      "Test Accuracy at Epoch 1410: 78.95%\n",
      "Test F1-score at Epoch 1410: 0.8174\n",
      "Classification Report at Epoch 1410:\n",
      "                  precision    recall  f1-score   support\n",
      "\n",
      "    infringement       0.95      0.62      0.75       194\n",
      "non_infringement       0.71      0.96      0.82       186\n",
      "\n",
      "        accuracy                           0.79       380\n",
      "       macro avg       0.83      0.79      0.78       380\n",
      "    weighted avg       0.83      0.79      0.78       380\n",
      "\n"
     ]
    },
    {
     "name": "stderr",
     "output_type": "stream",
     "text": [
      "Training Epochs:  71%|███████   | 1420/2000 [03:37<05:50,  1.65it/s]"
     ]
    },
    {
     "name": "stdout",
     "output_type": "stream",
     "text": [
      "Epoch 1420/2000, Loss: 0.0797\n",
      "Test Accuracy at Epoch 1420: 78.95%\n",
      "Test F1-score at Epoch 1420: 0.8157\n",
      "Classification Report at Epoch 1420:\n",
      "                  precision    recall  f1-score   support\n",
      "\n",
      "    infringement       0.93      0.63      0.75       194\n",
      "non_infringement       0.71      0.95      0.82       186\n",
      "\n",
      "        accuracy                           0.79       380\n",
      "       macro avg       0.82      0.79      0.79       380\n",
      "    weighted avg       0.83      0.79      0.78       380\n",
      "\n"
     ]
    },
    {
     "name": "stderr",
     "output_type": "stream",
     "text": [
      "Training Epochs:  72%|███████▏  | 1433/2000 [03:39<01:03,  8.89it/s]"
     ]
    },
    {
     "name": "stdout",
     "output_type": "stream",
     "text": [
      "Epoch 1430/2000, Loss: 0.0804\n",
      "Test Accuracy at Epoch 1430: 78.95%\n",
      "Test F1-score at Epoch 1430: 0.8157\n",
      "Classification Report at Epoch 1430:\n",
      "                  precision    recall  f1-score   support\n",
      "\n",
      "    infringement       0.93      0.63      0.75       194\n",
      "non_infringement       0.71      0.95      0.82       186\n",
      "\n",
      "        accuracy                           0.79       380\n",
      "       macro avg       0.82      0.79      0.79       380\n",
      "    weighted avg       0.83      0.79      0.78       380\n",
      "\n"
     ]
    },
    {
     "name": "stderr",
     "output_type": "stream",
     "text": [
      "Training Epochs:  72%|███████▏  | 1439/2000 [03:41<01:37,  5.78it/s]"
     ]
    },
    {
     "name": "stdout",
     "output_type": "stream",
     "text": [
      "Epoch 1440/2000, Loss: 0.0801\n",
      "Test Accuracy at Epoch 1440: 78.68%\n",
      "Test F1-score at Epoch 1440: 0.8146\n",
      "Classification Report at Epoch 1440:\n",
      "                  precision    recall  f1-score   support\n",
      "\n",
      "    infringement       0.94      0.62      0.75       194\n",
      "non_infringement       0.71      0.96      0.81       186\n",
      "\n",
      "        accuracy                           0.79       380\n",
      "       macro avg       0.82      0.79      0.78       380\n",
      "    weighted avg       0.83      0.79      0.78       380\n",
      "\n"
     ]
    },
    {
     "name": "stderr",
     "output_type": "stream",
     "text": [
      "Training Epochs:  72%|███████▎  | 1450/2000 [03:41<00:37, 14.48it/s]"
     ]
    },
    {
     "name": "stdout",
     "output_type": "stream",
     "text": [
      "Epoch 1450/2000, Loss: 0.0830\n",
      "Test Accuracy at Epoch 1450: 78.68%\n",
      "Test F1-score at Epoch 1450: 0.8129\n",
      "Classification Report at Epoch 1450:\n",
      "                  precision    recall  f1-score   support\n",
      "\n",
      "    infringement       0.92      0.63      0.75       194\n",
      "non_infringement       0.71      0.95      0.81       186\n",
      "\n",
      "        accuracy                           0.79       380\n",
      "       macro avg       0.82      0.79      0.78       380\n",
      "    weighted avg       0.82      0.79      0.78       380\n",
      "\n"
     ]
    },
    {
     "name": "stderr",
     "output_type": "stream",
     "text": [
      "Training Epochs:  73%|███████▎  | 1460/2000 [03:46<03:03,  2.95it/s]"
     ]
    },
    {
     "name": "stdout",
     "output_type": "stream",
     "text": [
      "Epoch 1460/2000, Loss: 0.0783\n",
      "Test Accuracy at Epoch 1460: 78.68%\n",
      "Test F1-score at Epoch 1460: 0.8146\n",
      "Classification Report at Epoch 1460:\n",
      "                  precision    recall  f1-score   support\n",
      "\n",
      "    infringement       0.94      0.62      0.75       194\n",
      "non_infringement       0.71      0.96      0.81       186\n",
      "\n",
      "        accuracy                           0.79       380\n",
      "       macro avg       0.82      0.79      0.78       380\n",
      "    weighted avg       0.83      0.79      0.78       380\n",
      "\n"
     ]
    },
    {
     "name": "stderr",
     "output_type": "stream",
     "text": [
      "Training Epochs:  74%|███████▎  | 1471/2000 [03:47<01:11,  7.38it/s]"
     ]
    },
    {
     "name": "stdout",
     "output_type": "stream",
     "text": [
      "Epoch 1470/2000, Loss: 0.0907\n",
      "Test Accuracy at Epoch 1470: 73.68%\n",
      "Test F1-score at Epoch 1470: 0.7826\n",
      "Classification Report at Epoch 1470:\n",
      "                  precision    recall  f1-score   support\n",
      "\n",
      "    infringement       0.94      0.52      0.67       194\n",
      "non_infringement       0.66      0.97      0.78       186\n",
      "\n",
      "        accuracy                           0.74       380\n",
      "       macro avg       0.80      0.74      0.72       380\n",
      "    weighted avg       0.80      0.74      0.72       380\n",
      "\n"
     ]
    },
    {
     "name": "stderr",
     "output_type": "stream",
     "text": [
      "Training Epochs:  74%|███████▍  | 1479/2000 [03:47<00:36, 14.37it/s]"
     ]
    },
    {
     "name": "stdout",
     "output_type": "stream",
     "text": [
      "Epoch 1480/2000, Loss: 0.0832\n",
      "Test Accuracy at Epoch 1480: 78.68%\n",
      "Test F1-score at Epoch 1480: 0.8129\n",
      "Classification Report at Epoch 1480:\n",
      "                  precision    recall  f1-score   support\n",
      "\n",
      "    infringement       0.92      0.63      0.75       194\n",
      "non_infringement       0.71      0.95      0.81       186\n",
      "\n",
      "        accuracy                           0.79       380\n",
      "       macro avg       0.82      0.79      0.78       380\n",
      "    weighted avg       0.82      0.79      0.78       380\n",
      "\n"
     ]
    },
    {
     "name": "stderr",
     "output_type": "stream",
     "text": [
      "Training Epochs:  74%|███████▍  | 1490/2000 [03:53<04:22,  1.95it/s]"
     ]
    },
    {
     "name": "stdout",
     "output_type": "stream",
     "text": [
      "Epoch 1490/2000, Loss: 0.0814\n",
      "Test Accuracy at Epoch 1490: 78.42%\n",
      "Test F1-score at Epoch 1490: 0.8128\n",
      "Classification Report at Epoch 1490:\n",
      "                  precision    recall  f1-score   support\n",
      "\n",
      "    infringement       0.94      0.62      0.75       194\n",
      "non_infringement       0.71      0.96      0.81       186\n",
      "\n",
      "        accuracy                           0.78       380\n",
      "       macro avg       0.82      0.79      0.78       380\n",
      "    weighted avg       0.82      0.78      0.78       380\n",
      "\n"
     ]
    },
    {
     "name": "stderr",
     "output_type": "stream",
     "text": [
      "Training Epochs:  75%|███████▌  | 1502/2000 [03:56<01:08,  7.32it/s]"
     ]
    },
    {
     "name": "stdout",
     "output_type": "stream",
     "text": [
      "Epoch 1500/2000, Loss: 0.0780\n",
      "Test Accuracy at Epoch 1500: 78.95%\n",
      "Test F1-score at Epoch 1500: 0.8165\n",
      "Classification Report at Epoch 1500:\n",
      "                  precision    recall  f1-score   support\n",
      "\n",
      "    infringement       0.94      0.63      0.75       194\n",
      "non_infringement       0.71      0.96      0.82       186\n",
      "\n",
      "        accuracy                           0.79       380\n",
      "       macro avg       0.83      0.79      0.78       380\n",
      "    weighted avg       0.83      0.79      0.78       380\n",
      "\n"
     ]
    },
    {
     "name": "stderr",
     "output_type": "stream",
     "text": [
      "Training Epochs:  76%|███████▌  | 1510/2000 [03:56<00:43, 11.20it/s]"
     ]
    },
    {
     "name": "stdout",
     "output_type": "stream",
     "text": [
      "Epoch 1510/2000, Loss: 0.0854\n",
      "Test Accuracy at Epoch 1510: 78.95%\n",
      "Test F1-score at Epoch 1510: 0.8131\n",
      "Classification Report at Epoch 1510:\n",
      "                  precision    recall  f1-score   support\n",
      "\n",
      "    infringement       0.91      0.65      0.76       194\n",
      "non_infringement       0.72      0.94      0.81       186\n",
      "\n",
      "        accuracy                           0.79       380\n",
      "       macro avg       0.82      0.79      0.79       380\n",
      "    weighted avg       0.82      0.79      0.79       380\n",
      "\n"
     ]
    },
    {
     "name": "stderr",
     "output_type": "stream",
     "text": [
      "Training Epochs:  76%|███████▌  | 1522/2000 [03:58<00:51,  9.31it/s]"
     ]
    },
    {
     "name": "stdout",
     "output_type": "stream",
     "text": [
      "Epoch 1520/2000, Loss: 0.0811\n",
      "Test Accuracy at Epoch 1520: 73.42%\n",
      "Test F1-score at Epoch 1520: 0.7800\n",
      "Classification Report at Epoch 1520:\n",
      "                  precision    recall  f1-score   support\n",
      "\n",
      "    infringement       0.93      0.52      0.66       194\n",
      "non_infringement       0.66      0.96      0.78       186\n",
      "\n",
      "        accuracy                           0.73       380\n",
      "       macro avg       0.80      0.74      0.72       380\n",
      "    weighted avg       0.80      0.73      0.72       380\n",
      "\n"
     ]
    },
    {
     "name": "stderr",
     "output_type": "stream",
     "text": [
      "Training Epochs:  77%|███████▋  | 1531/2000 [03:59<00:51,  9.08it/s]"
     ]
    },
    {
     "name": "stdout",
     "output_type": "stream",
     "text": [
      "Epoch 1530/2000, Loss: 0.0779\n",
      "Test Accuracy at Epoch 1530: 78.95%\n",
      "Test F1-score at Epoch 1530: 0.8165\n",
      "Classification Report at Epoch 1530:\n",
      "                  precision    recall  f1-score   support\n",
      "\n",
      "    infringement       0.94      0.63      0.75       194\n",
      "non_infringement       0.71      0.96      0.82       186\n",
      "\n",
      "        accuracy                           0.79       380\n",
      "       macro avg       0.83      0.79      0.78       380\n",
      "    weighted avg       0.83      0.79      0.78       380\n",
      "\n"
     ]
    },
    {
     "name": "stderr",
     "output_type": "stream",
     "text": [
      "Training Epochs:  77%|███████▋  | 1540/2000 [04:01<01:25,  5.36it/s]"
     ]
    },
    {
     "name": "stdout",
     "output_type": "stream",
     "text": [
      "Epoch 1540/2000, Loss: 0.0850\n",
      "Test Accuracy at Epoch 1540: 78.42%\n",
      "Test F1-score at Epoch 1540: 0.8102\n",
      "Classification Report at Epoch 1540:\n",
      "                  precision    recall  f1-score   support\n",
      "\n",
      "    infringement       0.92      0.63      0.75       194\n",
      "non_infringement       0.71      0.94      0.81       186\n",
      "\n",
      "        accuracy                           0.78       380\n",
      "       macro avg       0.81      0.79      0.78       380\n",
      "    weighted avg       0.82      0.78      0.78       380\n",
      "\n"
     ]
    },
    {
     "name": "stderr",
     "output_type": "stream",
     "text": [
      "Training Epochs:  78%|███████▊  | 1550/2000 [04:03<01:31,  4.93it/s]"
     ]
    },
    {
     "name": "stdout",
     "output_type": "stream",
     "text": [
      "Epoch 1550/2000, Loss: 0.0803\n",
      "Test Accuracy at Epoch 1550: 73.42%\n",
      "Test F1-score at Epoch 1550: 0.7800\n",
      "Classification Report at Epoch 1550:\n",
      "                  precision    recall  f1-score   support\n",
      "\n",
      "    infringement       0.93      0.52      0.66       194\n",
      "non_infringement       0.66      0.96      0.78       186\n",
      "\n",
      "        accuracy                           0.73       380\n",
      "       macro avg       0.80      0.74      0.72       380\n",
      "    weighted avg       0.80      0.73      0.72       380\n",
      "\n"
     ]
    },
    {
     "name": "stderr",
     "output_type": "stream",
     "text": [
      "Training Epochs:  78%|███████▊  | 1560/2000 [04:07<03:33,  2.06it/s]"
     ]
    },
    {
     "name": "stdout",
     "output_type": "stream",
     "text": [
      "Epoch 1560/2000, Loss: 0.0778\n",
      "Test Accuracy at Epoch 1560: 78.95%\n",
      "Test F1-score at Epoch 1560: 0.8165\n",
      "Classification Report at Epoch 1560:\n",
      "                  precision    recall  f1-score   support\n",
      "\n",
      "    infringement       0.94      0.63      0.75       194\n",
      "non_infringement       0.71      0.96      0.82       186\n",
      "\n",
      "        accuracy                           0.79       380\n",
      "       macro avg       0.83      0.79      0.78       380\n",
      "    weighted avg       0.83      0.79      0.78       380\n",
      "\n"
     ]
    },
    {
     "name": "stderr",
     "output_type": "stream",
     "text": [
      "Training Epochs:  78%|███████▊  | 1570/2000 [04:11<01:40,  4.26it/s]"
     ]
    },
    {
     "name": "stdout",
     "output_type": "stream",
     "text": [
      "Epoch 1570/2000, Loss: 0.0828\n",
      "Test Accuracy at Epoch 1570: 78.42%\n",
      "Test F1-score at Epoch 1570: 0.8102\n",
      "Classification Report at Epoch 1570:\n",
      "                  precision    recall  f1-score   support\n",
      "\n",
      "    infringement       0.92      0.63      0.75       194\n",
      "non_infringement       0.71      0.94      0.81       186\n",
      "\n",
      "        accuracy                           0.78       380\n",
      "       macro avg       0.81      0.79      0.78       380\n",
      "    weighted avg       0.82      0.78      0.78       380\n",
      "\n"
     ]
    },
    {
     "name": "stderr",
     "output_type": "stream",
     "text": [
      "Training Epochs:  79%|███████▉  | 1582/2000 [04:13<00:52,  8.03it/s]"
     ]
    },
    {
     "name": "stdout",
     "output_type": "stream",
     "text": [
      "Epoch 1580/2000, Loss: 0.0794\n",
      "Test Accuracy at Epoch 1580: 72.89%\n",
      "Test F1-score at Epoch 1580: 0.7766\n",
      "Classification Report at Epoch 1580:\n",
      "                  precision    recall  f1-score   support\n",
      "\n",
      "    infringement       0.93      0.51      0.66       194\n",
      "non_infringement       0.65      0.96      0.78       186\n",
      "\n",
      "        accuracy                           0.73       380\n",
      "       macro avg       0.79      0.73      0.72       380\n",
      "    weighted avg       0.80      0.73      0.71       380\n",
      "\n"
     ]
    },
    {
     "name": "stderr",
     "output_type": "stream",
     "text": [
      "Training Epochs:  80%|███████▉  | 1592/2000 [04:14<00:37, 10.89it/s]"
     ]
    },
    {
     "name": "stdout",
     "output_type": "stream",
     "text": [
      "Epoch 1590/2000, Loss: 0.0773\n",
      "Test Accuracy at Epoch 1590: 78.95%\n",
      "Test F1-score at Epoch 1590: 0.8165\n",
      "Classification Report at Epoch 1590:\n",
      "                  precision    recall  f1-score   support\n",
      "\n",
      "    infringement       0.94      0.63      0.75       194\n",
      "non_infringement       0.71      0.96      0.82       186\n",
      "\n",
      "        accuracy                           0.79       380\n",
      "       macro avg       0.83      0.79      0.78       380\n",
      "    weighted avg       0.83      0.79      0.78       380\n",
      "\n"
     ]
    },
    {
     "name": "stderr",
     "output_type": "stream",
     "text": [
      "Training Epochs:  80%|████████  | 1601/2000 [04:14<00:29, 13.67it/s]"
     ]
    },
    {
     "name": "stdout",
     "output_type": "stream",
     "text": [
      "Epoch 1600/2000, Loss: 0.0836\n",
      "Test Accuracy at Epoch 1600: 78.42%\n",
      "Test F1-score at Epoch 1600: 0.8102\n",
      "Classification Report at Epoch 1600:\n",
      "                  precision    recall  f1-score   support\n",
      "\n",
      "    infringement       0.92      0.63      0.75       194\n",
      "non_infringement       0.71      0.94      0.81       186\n",
      "\n",
      "        accuracy                           0.78       380\n",
      "       macro avg       0.81      0.79      0.78       380\n",
      "    weighted avg       0.82      0.78      0.78       380\n",
      "\n"
     ]
    },
    {
     "name": "stderr",
     "output_type": "stream",
     "text": [
      "Training Epochs:  81%|████████  | 1612/2000 [04:15<00:25, 14.98it/s]"
     ]
    },
    {
     "name": "stdout",
     "output_type": "stream",
     "text": [
      "Epoch 1610/2000, Loss: 0.0788\n",
      "Test Accuracy at Epoch 1610: 78.68%\n",
      "Test F1-score at Epoch 1610: 0.8155\n",
      "Classification Report at Epoch 1610:\n",
      "                  precision    recall  f1-score   support\n",
      "\n",
      "    infringement       0.94      0.62      0.75       194\n",
      "non_infringement       0.71      0.96      0.82       186\n",
      "\n",
      "        accuracy                           0.79       380\n",
      "       macro avg       0.83      0.79      0.78       380\n",
      "    weighted avg       0.83      0.79      0.78       380\n",
      "\n"
     ]
    },
    {
     "name": "stderr",
     "output_type": "stream",
     "text": [
      "Training Epochs:  81%|████████  | 1622/2000 [04:16<00:26, 14.15it/s]"
     ]
    },
    {
     "name": "stdout",
     "output_type": "stream",
     "text": [
      "Epoch 1620/2000, Loss: 0.0784\n",
      "Test Accuracy at Epoch 1620: 78.95%\n",
      "Test F1-score at Epoch 1620: 0.8165\n",
      "Classification Report at Epoch 1620:\n",
      "                  precision    recall  f1-score   support\n",
      "\n",
      "    infringement       0.94      0.63      0.75       194\n",
      "non_infringement       0.71      0.96      0.82       186\n",
      "\n",
      "        accuracy                           0.79       380\n",
      "       macro avg       0.83      0.79      0.78       380\n",
      "    weighted avg       0.83      0.79      0.78       380\n",
      "\n"
     ]
    },
    {
     "name": "stderr",
     "output_type": "stream",
     "text": [
      "Training Epochs:  82%|████████▏ | 1630/2000 [04:16<00:26, 13.78it/s]"
     ]
    },
    {
     "name": "stdout",
     "output_type": "stream",
     "text": [
      "Epoch 1630/2000, Loss: 0.0793\n",
      "Test Accuracy at Epoch 1630: 78.95%\n",
      "Test F1-score at Epoch 1630: 0.8157\n",
      "Classification Report at Epoch 1630:\n",
      "                  precision    recall  f1-score   support\n",
      "\n",
      "    infringement       0.93      0.63      0.75       194\n",
      "non_infringement       0.71      0.95      0.82       186\n",
      "\n",
      "        accuracy                           0.79       380\n",
      "       macro avg       0.82      0.79      0.79       380\n",
      "    weighted avg       0.83      0.79      0.78       380\n",
      "\n"
     ]
    },
    {
     "name": "stderr",
     "output_type": "stream",
     "text": [
      "Training Epochs:  82%|████████▏ | 1641/2000 [04:18<00:40,  8.87it/s]"
     ]
    },
    {
     "name": "stdout",
     "output_type": "stream",
     "text": [
      "Epoch 1640/2000, Loss: 0.0772\n",
      "Test Accuracy at Epoch 1640: 78.95%\n",
      "Test F1-score at Epoch 1640: 0.8165\n",
      "Classification Report at Epoch 1640:\n",
      "                  precision    recall  f1-score   support\n",
      "\n",
      "    infringement       0.94      0.63      0.75       194\n",
      "non_infringement       0.71      0.96      0.82       186\n",
      "\n",
      "        accuracy                           0.79       380\n",
      "       macro avg       0.83      0.79      0.78       380\n",
      "    weighted avg       0.83      0.79      0.78       380\n",
      "\n"
     ]
    },
    {
     "name": "stderr",
     "output_type": "stream",
     "text": [
      "Training Epochs:  83%|████████▎ | 1651/2000 [04:19<00:28, 12.14it/s]"
     ]
    },
    {
     "name": "stdout",
     "output_type": "stream",
     "text": [
      "Epoch 1650/2000, Loss: 0.0784\n",
      "Test Accuracy at Epoch 1650: 78.68%\n",
      "Test F1-score at Epoch 1650: 0.8146\n",
      "Classification Report at Epoch 1650:\n",
      "                  precision    recall  f1-score   support\n",
      "\n",
      "    infringement       0.94      0.62      0.75       194\n",
      "non_infringement       0.71      0.96      0.81       186\n",
      "\n",
      "        accuracy                           0.79       380\n",
      "       macro avg       0.82      0.79      0.78       380\n",
      "    weighted avg       0.83      0.79      0.78       380\n",
      "\n"
     ]
    },
    {
     "name": "stderr",
     "output_type": "stream",
     "text": [
      "Training Epochs:  83%|████████▎ | 1662/2000 [04:20<00:22, 15.18it/s]"
     ]
    },
    {
     "name": "stdout",
     "output_type": "stream",
     "text": [
      "Epoch 1660/2000, Loss: 0.0803\n",
      "Test Accuracy at Epoch 1660: 78.68%\n",
      "Test F1-score at Epoch 1660: 0.8129\n",
      "Classification Report at Epoch 1660:\n",
      "                  precision    recall  f1-score   support\n",
      "\n",
      "    infringement       0.92      0.63      0.75       194\n",
      "non_infringement       0.71      0.95      0.81       186\n",
      "\n",
      "        accuracy                           0.79       380\n",
      "       macro avg       0.82      0.79      0.78       380\n",
      "    weighted avg       0.82      0.79      0.78       380\n",
      "\n"
     ]
    },
    {
     "name": "stderr",
     "output_type": "stream",
     "text": [
      "Training Epochs:  84%|████████▎ | 1670/2000 [04:21<01:16,  4.31it/s]"
     ]
    },
    {
     "name": "stdout",
     "output_type": "stream",
     "text": [
      "Epoch 1670/2000, Loss: 0.0771\n",
      "Test Accuracy at Epoch 1670: 78.68%\n",
      "Test F1-score at Epoch 1670: 0.8146\n",
      "Classification Report at Epoch 1670:\n",
      "                  precision    recall  f1-score   support\n",
      "\n",
      "    infringement       0.94      0.62      0.75       194\n",
      "non_infringement       0.71      0.96      0.81       186\n",
      "\n",
      "        accuracy                           0.79       380\n",
      "       macro avg       0.82      0.79      0.78       380\n",
      "    weighted avg       0.83      0.79      0.78       380\n",
      "\n"
     ]
    },
    {
     "name": "stderr",
     "output_type": "stream",
     "text": [
      "Training Epochs:  84%|████████▍ | 1681/2000 [04:27<01:37,  3.28it/s]"
     ]
    },
    {
     "name": "stdout",
     "output_type": "stream",
     "text": [
      "Epoch 1680/2000, Loss: 0.0842\n",
      "Test Accuracy at Epoch 1680: 72.63%\n",
      "Test F1-score at Epoch 1680: 0.7749\n",
      "Classification Report at Epoch 1680:\n",
      "                  precision    recall  f1-score   support\n",
      "\n",
      "    infringement       0.93      0.50      0.65       194\n",
      "non_infringement       0.65      0.96      0.77       186\n",
      "\n",
      "        accuracy                           0.73       380\n",
      "       macro avg       0.79      0.73      0.71       380\n",
      "    weighted avg       0.79      0.73      0.71       380\n",
      "\n"
     ]
    },
    {
     "name": "stderr",
     "output_type": "stream",
     "text": [
      "Training Epochs:  84%|████████▍ | 1690/2000 [04:29<01:32,  3.35it/s]"
     ]
    },
    {
     "name": "stdout",
     "output_type": "stream",
     "text": [
      "Epoch 1690/2000, Loss: 0.0787\n",
      "Test Accuracy at Epoch 1690: 78.95%\n",
      "Test F1-score at Epoch 1690: 0.8157\n",
      "Classification Report at Epoch 1690:\n",
      "                  precision    recall  f1-score   support\n",
      "\n",
      "    infringement       0.93      0.63      0.75       194\n",
      "non_infringement       0.71      0.95      0.82       186\n",
      "\n",
      "        accuracy                           0.79       380\n",
      "       macro avg       0.82      0.79      0.79       380\n",
      "    weighted avg       0.83      0.79      0.78       380\n",
      "\n"
     ]
    },
    {
     "name": "stderr",
     "output_type": "stream",
     "text": [
      "Training Epochs:  85%|████████▌ | 1702/2000 [04:31<00:35,  8.50it/s]"
     ]
    },
    {
     "name": "stdout",
     "output_type": "stream",
     "text": [
      "Epoch 1700/2000, Loss: 0.0771\n",
      "Test Accuracy at Epoch 1700: 78.95%\n",
      "Test F1-score at Epoch 1700: 0.8165\n",
      "Classification Report at Epoch 1700:\n",
      "                  precision    recall  f1-score   support\n",
      "\n",
      "    infringement       0.94      0.63      0.75       194\n",
      "non_infringement       0.71      0.96      0.82       186\n",
      "\n",
      "        accuracy                           0.79       380\n",
      "       macro avg       0.83      0.79      0.78       380\n",
      "    weighted avg       0.83      0.79      0.78       380\n",
      "\n"
     ]
    },
    {
     "name": "stderr",
     "output_type": "stream",
     "text": [
      "Training Epochs:  86%|████████▌ | 1710/2000 [04:32<00:57,  5.06it/s]"
     ]
    },
    {
     "name": "stdout",
     "output_type": "stream",
     "text": [
      "Epoch 1710/2000, Loss: 0.0823\n",
      "Test Accuracy at Epoch 1710: 72.89%\n",
      "Test F1-score at Epoch 1710: 0.7766\n",
      "Classification Report at Epoch 1710:\n",
      "                  precision    recall  f1-score   support\n",
      "\n",
      "    infringement       0.93      0.51      0.66       194\n",
      "non_infringement       0.65      0.96      0.78       186\n",
      "\n",
      "        accuracy                           0.73       380\n",
      "       macro avg       0.79      0.73      0.72       380\n",
      "    weighted avg       0.80      0.73      0.71       380\n",
      "\n"
     ]
    },
    {
     "name": "stderr",
     "output_type": "stream",
     "text": [
      "Training Epochs:  86%|████████▌ | 1721/2000 [04:34<00:35,  7.97it/s]"
     ]
    },
    {
     "name": "stdout",
     "output_type": "stream",
     "text": [
      "Epoch 1720/2000, Loss: 0.0771\n",
      "Test Accuracy at Epoch 1720: 78.95%\n",
      "Test F1-score at Epoch 1720: 0.8157\n",
      "Classification Report at Epoch 1720:\n",
      "                  precision    recall  f1-score   support\n",
      "\n",
      "    infringement       0.93      0.63      0.75       194\n",
      "non_infringement       0.71      0.95      0.82       186\n",
      "\n",
      "        accuracy                           0.79       380\n",
      "       macro avg       0.82      0.79      0.79       380\n",
      "    weighted avg       0.83      0.79      0.78       380\n",
      "\n"
     ]
    },
    {
     "name": "stderr",
     "output_type": "stream",
     "text": [
      "Training Epochs:  86%|████████▋ | 1730/2000 [04:37<01:39,  2.72it/s]"
     ]
    },
    {
     "name": "stdout",
     "output_type": "stream",
     "text": [
      "Epoch 1730/2000, Loss: 0.0795\n",
      "Test Accuracy at Epoch 1730: 78.95%\n",
      "Test F1-score at Epoch 1730: 0.8157\n",
      "Classification Report at Epoch 1730:\n",
      "                  precision    recall  f1-score   support\n",
      "\n",
      "    infringement       0.93      0.63      0.75       194\n",
      "non_infringement       0.71      0.95      0.82       186\n",
      "\n",
      "        accuracy                           0.79       380\n",
      "       macro avg       0.82      0.79      0.79       380\n",
      "    weighted avg       0.83      0.79      0.78       380\n",
      "\n"
     ]
    },
    {
     "name": "stderr",
     "output_type": "stream",
     "text": [
      "Training Epochs:  87%|████████▋ | 1740/2000 [04:41<01:35,  2.72it/s]"
     ]
    },
    {
     "name": "stdout",
     "output_type": "stream",
     "text": [
      "Epoch 1740/2000, Loss: 0.0790\n",
      "Test Accuracy at Epoch 1740: 72.89%\n",
      "Test F1-score at Epoch 1740: 0.7766\n",
      "Classification Report at Epoch 1740:\n",
      "                  precision    recall  f1-score   support\n",
      "\n",
      "    infringement       0.93      0.51      0.66       194\n",
      "non_infringement       0.65      0.96      0.78       186\n",
      "\n",
      "        accuracy                           0.73       380\n",
      "       macro avg       0.79      0.73      0.72       380\n",
      "    weighted avg       0.80      0.73      0.71       380\n",
      "\n"
     ]
    },
    {
     "name": "stderr",
     "output_type": "stream",
     "text": [
      "Training Epochs:  88%|████████▊ | 1750/2000 [04:42<00:32,  7.63it/s]"
     ]
    },
    {
     "name": "stdout",
     "output_type": "stream",
     "text": [
      "Epoch 1750/2000, Loss: 0.0769\n",
      "Test Accuracy at Epoch 1750: 78.95%\n",
      "Test F1-score at Epoch 1750: 0.8165\n",
      "Classification Report at Epoch 1750:\n",
      "                  precision    recall  f1-score   support\n",
      "\n",
      "    infringement       0.94      0.63      0.75       194\n",
      "non_infringement       0.71      0.96      0.82       186\n",
      "\n",
      "        accuracy                           0.79       380\n",
      "       macro avg       0.83      0.79      0.78       380\n",
      "    weighted avg       0.83      0.79      0.78       380\n",
      "\n"
     ]
    },
    {
     "name": "stderr",
     "output_type": "stream",
     "text": [
      "Training Epochs:  88%|████████▊ | 1760/2000 [04:43<00:32,  7.49it/s]"
     ]
    },
    {
     "name": "stdout",
     "output_type": "stream",
     "text": [
      "Epoch 1760/2000, Loss: 0.0812\n",
      "Test Accuracy at Epoch 1760: 78.68%\n",
      "Test F1-score at Epoch 1760: 0.8121\n",
      "Classification Report at Epoch 1760:\n",
      "                  precision    recall  f1-score   support\n",
      "\n",
      "    infringement       0.92      0.64      0.75       194\n",
      "non_infringement       0.71      0.94      0.81       186\n",
      "\n",
      "        accuracy                           0.79       380\n",
      "       macro avg       0.82      0.79      0.78       380\n",
      "    weighted avg       0.82      0.79      0.78       380\n",
      "\n"
     ]
    },
    {
     "name": "stderr",
     "output_type": "stream",
     "text": [
      "Training Epochs:  88%|████████▊ | 1770/2000 [04:47<01:45,  2.18it/s]"
     ]
    },
    {
     "name": "stdout",
     "output_type": "stream",
     "text": [
      "Epoch 1770/2000, Loss: 0.0770\n",
      "Test Accuracy at Epoch 1770: 77.89%\n",
      "Test F1-score at Epoch 1770: 0.8091\n",
      "Classification Report at Epoch 1770:\n",
      "                  precision    recall  f1-score   support\n",
      "\n",
      "    infringement       0.94      0.61      0.74       194\n",
      "non_infringement       0.70      0.96      0.81       186\n",
      "\n",
      "        accuracy                           0.78       380\n",
      "       macro avg       0.82      0.78      0.77       380\n",
      "    weighted avg       0.82      0.78      0.77       380\n",
      "\n"
     ]
    },
    {
     "name": "stderr",
     "output_type": "stream",
     "text": [
      "Training Epochs:  89%|████████▉ | 1780/2000 [04:50<00:35,  6.24it/s]"
     ]
    },
    {
     "name": "stdout",
     "output_type": "stream",
     "text": [
      "Epoch 1780/2000, Loss: 0.0798\n",
      "Test Accuracy at Epoch 1780: 78.42%\n",
      "Test F1-score at Epoch 1780: 0.8128\n",
      "Classification Report at Epoch 1780:\n",
      "                  precision    recall  f1-score   support\n",
      "\n",
      "    infringement       0.94      0.62      0.75       194\n",
      "non_infringement       0.71      0.96      0.81       186\n",
      "\n",
      "        accuracy                           0.78       380\n",
      "       macro avg       0.82      0.79      0.78       380\n",
      "    weighted avg       0.82      0.78      0.78       380\n",
      "\n"
     ]
    },
    {
     "name": "stderr",
     "output_type": "stream",
     "text": [
      "Training Epochs:  90%|████████▉ | 1791/2000 [04:51<00:22,  9.17it/s]"
     ]
    },
    {
     "name": "stdout",
     "output_type": "stream",
     "text": [
      "Epoch 1790/2000, Loss: 0.0807\n",
      "Test Accuracy at Epoch 1790: 78.68%\n",
      "Test F1-score at Epoch 1790: 0.8121\n",
      "Classification Report at Epoch 1790:\n",
      "                  precision    recall  f1-score   support\n",
      "\n",
      "    infringement       0.92      0.64      0.75       194\n",
      "non_infringement       0.71      0.94      0.81       186\n",
      "\n",
      "        accuracy                           0.79       380\n",
      "       macro avg       0.82      0.79      0.78       380\n",
      "    weighted avg       0.82      0.79      0.78       380\n",
      "\n"
     ]
    },
    {
     "name": "stderr",
     "output_type": "stream",
     "text": [
      "Training Epochs:  90%|█████████ | 1801/2000 [04:52<00:22,  8.87it/s]"
     ]
    },
    {
     "name": "stdout",
     "output_type": "stream",
     "text": [
      "Epoch 1800/2000, Loss: 0.0764\n",
      "Test Accuracy at Epoch 1800: 78.68%\n",
      "Test F1-score at Epoch 1800: 0.8146\n",
      "Classification Report at Epoch 1800:\n",
      "                  precision    recall  f1-score   support\n",
      "\n",
      "    infringement       0.94      0.62      0.75       194\n",
      "non_infringement       0.71      0.96      0.81       186\n",
      "\n",
      "        accuracy                           0.79       380\n",
      "       macro avg       0.82      0.79      0.78       380\n",
      "    weighted avg       0.83      0.79      0.78       380\n",
      "\n"
     ]
    },
    {
     "name": "stderr",
     "output_type": "stream",
     "text": [
      "Training Epochs:  90%|█████████ | 1810/2000 [04:53<00:19,  9.73it/s]"
     ]
    },
    {
     "name": "stdout",
     "output_type": "stream",
     "text": [
      "Epoch 1810/2000, Loss: 0.0833\n",
      "Test Accuracy at Epoch 1810: 72.89%\n",
      "Test F1-score at Epoch 1810: 0.7766\n",
      "Classification Report at Epoch 1810:\n",
      "                  precision    recall  f1-score   support\n",
      "\n",
      "    infringement       0.93      0.51      0.66       194\n",
      "non_infringement       0.65      0.96      0.78       186\n",
      "\n",
      "        accuracy                           0.73       380\n",
      "       macro avg       0.79      0.73      0.72       380\n",
      "    weighted avg       0.80      0.73      0.71       380\n",
      "\n"
     ]
    },
    {
     "name": "stderr",
     "output_type": "stream",
     "text": [
      "Training Epochs:  91%|█████████ | 1820/2000 [04:56<01:10,  2.55it/s]"
     ]
    },
    {
     "name": "stdout",
     "output_type": "stream",
     "text": [
      "Epoch 1820/2000, Loss: 0.0778\n",
      "Test Accuracy at Epoch 1820: 78.95%\n",
      "Test F1-score at Epoch 1820: 0.8157\n",
      "Classification Report at Epoch 1820:\n",
      "                  precision    recall  f1-score   support\n",
      "\n",
      "    infringement       0.93      0.63      0.75       194\n",
      "non_infringement       0.71      0.95      0.82       186\n",
      "\n",
      "        accuracy                           0.79       380\n",
      "       macro avg       0.82      0.79      0.79       380\n",
      "    weighted avg       0.83      0.79      0.78       380\n",
      "\n"
     ]
    },
    {
     "name": "stderr",
     "output_type": "stream",
     "text": [
      "Training Epochs:  92%|█████████▏| 1830/2000 [05:01<01:20,  2.12it/s]"
     ]
    },
    {
     "name": "stdout",
     "output_type": "stream",
     "text": [
      "Epoch 1830/2000, Loss: 0.0774\n",
      "Test Accuracy at Epoch 1830: 78.95%\n",
      "Test F1-score at Epoch 1830: 0.8157\n",
      "Classification Report at Epoch 1830:\n",
      "                  precision    recall  f1-score   support\n",
      "\n",
      "    infringement       0.93      0.63      0.75       194\n",
      "non_infringement       0.71      0.95      0.82       186\n",
      "\n",
      "        accuracy                           0.79       380\n",
      "       macro avg       0.82      0.79      0.79       380\n",
      "    weighted avg       0.83      0.79      0.78       380\n",
      "\n"
     ]
    },
    {
     "name": "stderr",
     "output_type": "stream",
     "text": [
      "Training Epochs:  92%|█████████▏| 1841/2000 [05:05<00:40,  3.96it/s]"
     ]
    },
    {
     "name": "stdout",
     "output_type": "stream",
     "text": [
      "Epoch 1840/2000, Loss: 0.0787\n",
      "Test Accuracy at Epoch 1840: 72.89%\n",
      "Test F1-score at Epoch 1840: 0.7766\n",
      "Classification Report at Epoch 1840:\n",
      "                  precision    recall  f1-score   support\n",
      "\n",
      "    infringement       0.93      0.51      0.66       194\n",
      "non_infringement       0.65      0.96      0.78       186\n",
      "\n",
      "        accuracy                           0.73       380\n",
      "       macro avg       0.79      0.73      0.72       380\n",
      "    weighted avg       0.80      0.73      0.71       380\n",
      "\n"
     ]
    },
    {
     "name": "stderr",
     "output_type": "stream",
     "text": [
      "Training Epochs:  93%|█████████▎| 1852/2000 [05:07<00:21,  6.80it/s]"
     ]
    },
    {
     "name": "stdout",
     "output_type": "stream",
     "text": [
      "Epoch 1850/2000, Loss: 0.0763\n",
      "Test Accuracy at Epoch 1850: 78.95%\n",
      "Test F1-score at Epoch 1850: 0.8165\n",
      "Classification Report at Epoch 1850:\n",
      "                  precision    recall  f1-score   support\n",
      "\n",
      "    infringement       0.94      0.63      0.75       194\n",
      "non_infringement       0.71      0.96      0.82       186\n",
      "\n",
      "        accuracy                           0.79       380\n",
      "       macro avg       0.83      0.79      0.78       380\n",
      "    weighted avg       0.83      0.79      0.78       380\n",
      "\n"
     ]
    },
    {
     "name": "stderr",
     "output_type": "stream",
     "text": [
      "Training Epochs:  93%|█████████▎| 1860/2000 [05:08<00:17,  7.82it/s]"
     ]
    },
    {
     "name": "stdout",
     "output_type": "stream",
     "text": [
      "Epoch 1860/2000, Loss: 0.0780\n",
      "Test Accuracy at Epoch 1860: 79.21%\n",
      "Test F1-score at Epoch 1860: 0.8176\n",
      "Classification Report at Epoch 1860:\n",
      "                  precision    recall  f1-score   support\n",
      "\n",
      "    infringement       0.93      0.64      0.76       194\n",
      "non_infringement       0.72      0.95      0.82       186\n",
      "\n",
      "        accuracy                           0.79       380\n",
      "       macro avg       0.82      0.80      0.79       380\n",
      "    weighted avg       0.83      0.79      0.79       380\n",
      "\n"
     ]
    },
    {
     "name": "stderr",
     "output_type": "stream",
     "text": [
      "Training Epochs:  94%|█████████▎| 1871/2000 [05:10<00:16,  7.67it/s]"
     ]
    },
    {
     "name": "stdout",
     "output_type": "stream",
     "text": [
      "Epoch 1870/2000, Loss: 0.0769\n",
      "Test Accuracy at Epoch 1870: 77.89%\n",
      "Test F1-score at Epoch 1870: 0.8091\n",
      "Classification Report at Epoch 1870:\n",
      "                  precision    recall  f1-score   support\n",
      "\n",
      "    infringement       0.94      0.61      0.74       194\n",
      "non_infringement       0.70      0.96      0.81       186\n",
      "\n",
      "        accuracy                           0.78       380\n",
      "       macro avg       0.82      0.78      0.77       380\n",
      "    weighted avg       0.82      0.78      0.77       380\n",
      "\n"
     ]
    },
    {
     "name": "stderr",
     "output_type": "stream",
     "text": [
      "Training Epochs:  94%|█████████▍| 1880/2000 [05:13<00:35,  3.36it/s]"
     ]
    },
    {
     "name": "stdout",
     "output_type": "stream",
     "text": [
      "Epoch 1880/2000, Loss: 0.0795\n",
      "Test Accuracy at Epoch 1880: 77.89%\n",
      "Test F1-score at Epoch 1880: 0.8091\n",
      "Classification Report at Epoch 1880:\n",
      "                  precision    recall  f1-score   support\n",
      "\n",
      "    infringement       0.94      0.61      0.74       194\n",
      "non_infringement       0.70      0.96      0.81       186\n",
      "\n",
      "        accuracy                           0.78       380\n",
      "       macro avg       0.82      0.78      0.77       380\n",
      "    weighted avg       0.82      0.78      0.77       380\n",
      "\n"
     ]
    },
    {
     "name": "stderr",
     "output_type": "stream",
     "text": [
      "Training Epochs:  94%|█████████▍| 1890/2000 [05:14<00:12,  8.59it/s]"
     ]
    },
    {
     "name": "stdout",
     "output_type": "stream",
     "text": [
      "Epoch 1890/2000, Loss: 0.0795\n",
      "Test Accuracy at Epoch 1890: 78.95%\n",
      "Test F1-score at Epoch 1890: 0.8148\n",
      "Classification Report at Epoch 1890:\n",
      "                  precision    recall  f1-score   support\n",
      "\n",
      "    infringement       0.93      0.64      0.76       194\n",
      "non_infringement       0.72      0.95      0.81       186\n",
      "\n",
      "        accuracy                           0.79       380\n",
      "       macro avg       0.82      0.79      0.79       380\n",
      "    weighted avg       0.82      0.79      0.78       380\n",
      "\n"
     ]
    },
    {
     "name": "stderr",
     "output_type": "stream",
     "text": [
      "Training Epochs:  95%|█████████▌| 1900/2000 [05:17<00:40,  2.47it/s]"
     ]
    },
    {
     "name": "stdout",
     "output_type": "stream",
     "text": [
      "Epoch 1900/2000, Loss: 0.0767\n",
      "Test Accuracy at Epoch 1900: 78.16%\n",
      "Test F1-score at Epoch 1900: 0.8109\n",
      "Classification Report at Epoch 1900:\n",
      "                  precision    recall  f1-score   support\n",
      "\n",
      "    infringement       0.94      0.61      0.74       194\n",
      "non_infringement       0.70      0.96      0.81       186\n",
      "\n",
      "        accuracy                           0.78       380\n",
      "       macro avg       0.82      0.79      0.78       380\n",
      "    weighted avg       0.82      0.78      0.78       380\n",
      "\n"
     ]
    },
    {
     "name": "stderr",
     "output_type": "stream",
     "text": [
      "Training Epochs:  96%|█████████▌| 1910/2000 [05:20<00:15,  5.66it/s]"
     ]
    },
    {
     "name": "stdout",
     "output_type": "stream",
     "text": [
      "Epoch 1910/2000, Loss: 0.0838\n",
      "Test Accuracy at Epoch 1910: 72.11%\n",
      "Test F1-score at Epoch 1910: 0.7716\n",
      "Classification Report at Epoch 1910:\n",
      "                  precision    recall  f1-score   support\n",
      "\n",
      "    infringement       0.93      0.49      0.64       194\n",
      "non_infringement       0.64      0.96      0.77       186\n",
      "\n",
      "        accuracy                           0.72       380\n",
      "       macro avg       0.79      0.73      0.71       380\n",
      "    weighted avg       0.79      0.72      0.71       380\n",
      "\n"
     ]
    },
    {
     "name": "stderr",
     "output_type": "stream",
     "text": [
      "Training Epochs:  96%|█████████▌| 1922/2000 [05:21<00:09,  8.46it/s]"
     ]
    },
    {
     "name": "stdout",
     "output_type": "stream",
     "text": [
      "Epoch 1920/2000, Loss: 0.0790\n",
      "Test Accuracy at Epoch 1920: 78.68%\n",
      "Test F1-score at Epoch 1920: 0.8121\n",
      "Classification Report at Epoch 1920:\n",
      "                  precision    recall  f1-score   support\n",
      "\n",
      "    infringement       0.92      0.64      0.75       194\n",
      "non_infringement       0.71      0.94      0.81       186\n",
      "\n",
      "        accuracy                           0.79       380\n",
      "       macro avg       0.82      0.79      0.78       380\n",
      "    weighted avg       0.82      0.79      0.78       380\n",
      "\n"
     ]
    },
    {
     "name": "stderr",
     "output_type": "stream",
     "text": [
      "Training Epochs:  97%|█████████▋| 1932/2000 [05:23<00:12,  5.59it/s]"
     ]
    },
    {
     "name": "stdout",
     "output_type": "stream",
     "text": [
      "Epoch 1930/2000, Loss: 0.0760\n",
      "Test Accuracy at Epoch 1930: 79.21%\n",
      "Test F1-score at Epoch 1930: 0.8184\n",
      "Classification Report at Epoch 1930:\n",
      "                  precision    recall  f1-score   support\n",
      "\n",
      "    infringement       0.94      0.63      0.76       194\n",
      "non_infringement       0.71      0.96      0.82       186\n",
      "\n",
      "        accuracy                           0.79       380\n",
      "       macro avg       0.83      0.80      0.79       380\n",
      "    weighted avg       0.83      0.79      0.79       380\n",
      "\n"
     ]
    },
    {
     "name": "stderr",
     "output_type": "stream",
     "text": [
      "Training Epochs:  97%|█████████▋| 1941/2000 [05:24<00:05, 10.50it/s]"
     ]
    },
    {
     "name": "stdout",
     "output_type": "stream",
     "text": [
      "Epoch 1940/2000, Loss: 0.0796\n",
      "Test Accuracy at Epoch 1940: 72.89%\n",
      "Test F1-score at Epoch 1940: 0.7766\n",
      "Classification Report at Epoch 1940:\n",
      "                  precision    recall  f1-score   support\n",
      "\n",
      "    infringement       0.93      0.51      0.66       194\n",
      "non_infringement       0.65      0.96      0.78       186\n",
      "\n",
      "        accuracy                           0.73       380\n",
      "       macro avg       0.79      0.73      0.72       380\n",
      "    weighted avg       0.80      0.73      0.71       380\n",
      "\n"
     ]
    },
    {
     "name": "stderr",
     "output_type": "stream",
     "text": [
      "Training Epochs:  98%|█████████▊| 1951/2000 [05:25<00:04, 11.06it/s]"
     ]
    },
    {
     "name": "stdout",
     "output_type": "stream",
     "text": [
      "Epoch 1950/2000, Loss: 0.0761\n",
      "Test Accuracy at Epoch 1950: 78.42%\n",
      "Test F1-score at Epoch 1950: 0.8128\n",
      "Classification Report at Epoch 1950:\n",
      "                  precision    recall  f1-score   support\n",
      "\n",
      "    infringement       0.94      0.62      0.75       194\n",
      "non_infringement       0.71      0.96      0.81       186\n",
      "\n",
      "        accuracy                           0.78       380\n",
      "       macro avg       0.82      0.79      0.78       380\n",
      "    weighted avg       0.82      0.78      0.78       380\n",
      "\n"
     ]
    },
    {
     "name": "stderr",
     "output_type": "stream",
     "text": [
      "Training Epochs:  98%|█████████▊| 1960/2000 [05:26<00:03, 11.51it/s]"
     ]
    },
    {
     "name": "stdout",
     "output_type": "stream",
     "text": [
      "Epoch 1960/2000, Loss: 0.0786\n",
      "Test Accuracy at Epoch 1960: 78.95%\n",
      "Test F1-score at Epoch 1960: 0.8148\n",
      "Classification Report at Epoch 1960:\n",
      "                  precision    recall  f1-score   support\n",
      "\n",
      "    infringement       0.93      0.64      0.76       194\n",
      "non_infringement       0.72      0.95      0.81       186\n",
      "\n",
      "        accuracy                           0.79       380\n",
      "       macro avg       0.82      0.79      0.79       380\n",
      "    weighted avg       0.82      0.79      0.78       380\n",
      "\n"
     ]
    },
    {
     "name": "stderr",
     "output_type": "stream",
     "text": [
      "Training Epochs:  98%|█████████▊| 1970/2000 [05:27<00:02, 12.38it/s]"
     ]
    },
    {
     "name": "stdout",
     "output_type": "stream",
     "text": [
      "Epoch 1970/2000, Loss: 0.0766\n",
      "Test Accuracy at Epoch 1970: 77.89%\n",
      "Test F1-score at Epoch 1970: 0.8091\n",
      "Classification Report at Epoch 1970:\n",
      "                  precision    recall  f1-score   support\n",
      "\n",
      "    infringement       0.94      0.61      0.74       194\n",
      "non_infringement       0.70      0.96      0.81       186\n",
      "\n",
      "        accuracy                           0.78       380\n",
      "       macro avg       0.82      0.78      0.77       380\n",
      "    weighted avg       0.82      0.78      0.77       380\n",
      "\n"
     ]
    },
    {
     "name": "stderr",
     "output_type": "stream",
     "text": [
      "Training Epochs:  99%|█████████▉| 1982/2000 [05:28<00:01, 12.65it/s]"
     ]
    },
    {
     "name": "stdout",
     "output_type": "stream",
     "text": [
      "Epoch 1980/2000, Loss: 0.0786\n",
      "Test Accuracy at Epoch 1980: 77.89%\n",
      "Test F1-score at Epoch 1980: 0.8091\n",
      "Classification Report at Epoch 1980:\n",
      "                  precision    recall  f1-score   support\n",
      "\n",
      "    infringement       0.94      0.61      0.74       194\n",
      "non_infringement       0.70      0.96      0.81       186\n",
      "\n",
      "        accuracy                           0.78       380\n",
      "       macro avg       0.82      0.78      0.77       380\n",
      "    weighted avg       0.82      0.78      0.77       380\n",
      "\n"
     ]
    },
    {
     "name": "stderr",
     "output_type": "stream",
     "text": [
      "Training Epochs: 100%|█████████▉| 1990/2000 [05:28<00:00, 20.61it/s]"
     ]
    },
    {
     "name": "stdout",
     "output_type": "stream",
     "text": [
      "Epoch 1990/2000, Loss: 0.0795\n",
      "Test Accuracy at Epoch 1990: 78.68%\n",
      "Test F1-score at Epoch 1990: 0.8121\n",
      "Classification Report at Epoch 1990:\n",
      "                  precision    recall  f1-score   support\n",
      "\n",
      "    infringement       0.92      0.64      0.75       194\n",
      "non_infringement       0.71      0.94      0.81       186\n",
      "\n",
      "        accuracy                           0.79       380\n",
      "       macro avg       0.82      0.79      0.78       380\n",
      "    weighted avg       0.82      0.79      0.78       380\n",
      "\n"
     ]
    },
    {
     "name": "stderr",
     "output_type": "stream",
     "text": [
      "Training Epochs: 100%|██████████| 2000/2000 [05:32<00:00,  6.02it/s]"
     ]
    },
    {
     "name": "stdout",
     "output_type": "stream",
     "text": [
      "Epoch 2000/2000, Loss: 0.0758\n",
      "Test Accuracy at Epoch 2000: 78.68%\n",
      "Test F1-score at Epoch 2000: 0.8146\n",
      "Classification Report at Epoch 2000:\n",
      "                  precision    recall  f1-score   support\n",
      "\n",
      "    infringement       0.94      0.62      0.75       194\n",
      "non_infringement       0.71      0.96      0.81       186\n",
      "\n",
      "        accuracy                           0.79       380\n",
      "       macro avg       0.82      0.79      0.78       380\n",
      "    weighted avg       0.83      0.79      0.78       380\n",
      "\n"
     ]
    },
    {
     "name": "stderr",
     "output_type": "stream",
     "text": [
      "\n",
      "/tmp/ipykernel_98462/2033666368.py:59: FutureWarning: You are using `torch.load` with `weights_only=False` (the current default value), which uses the default pickle module implicitly. It is possible to construct malicious pickle data which will execute arbitrary code during unpickling (See https://github.com/pytorch/pytorch/blob/main/SECURITY.md#untrusted-models for more details). In a future release, the default value for `weights_only` will be flipped to `True`. This limits the functions that could be executed during unpickling. Arbitrary objects will no longer be allowed to be loaded via this mode unless they are explicitly allowlisted by the user via `torch.serialization.add_safe_globals`. We recommend you start setting `weights_only=True` for any use case where you don't have full control of the loaded file. Please open an issue on GitHub for any issues related to this experimental feature.\n",
      "  custom_mlp.load_state_dict(torch.load(checkpoint_path))\n"
     ]
    },
    {
     "data": {
      "image/png": "[encoded data removed]",
      "text/plain": [
       "<Figure size 1000x500 with 1 Axes>"
      ]
     },
     "metadata": {},
     "output_type": "display_data"
    },
    {
     "name": "stdout",
     "output_type": "stream",
     "text": [
      "Final Model Accuracy: 84.21%\n",
      "Final Model F1-score: 0.8558\n"
     ]
    }
   ],
   "source": [
    "input_dim = X_train.shape[1]\n",
    "hidden_dim = 256 \n",
    "print(f\"Training MLP model with input_dim={input_dim} and hidden_dim={hidden_dim}\")\n",
    "\n",
    "custom_mlp, losses, best_accuracy, best_f1 = train_model(X_train, y_train, X_test, y_test, input_dim, hidden_dim)"
   ]
  },
  {
   "cell_type": "code",
   "execution_count": 10,
   "metadata": {},
   "outputs": [
    {
     "name": "stdout",
     "output_type": "stream",
     "text": [
      "Checkpoint saved to '/home/guangwei/LLM-COPYRIGHT/copyright_newVersion/models/train_input_reference_0_layer.pth'.\n"
     ]
    }
   ],
   "source": [
    "def save_checkpoint(model, optimizer, epoch, loss, filepath):\n",
    "    checkpoint = {\n",
    "        'epoch': epoch + 1,\n",
    "        'model_state_dict': model.state_dict(),\n",
    "        'optimizer_state_dict': optimizer.state_dict(),\n",
    "        'loss': loss\n",
    "    }\n",
    "    torch.save(checkpoint, filepath)\n",
    "    print(f\"Checkpoint saved to '{filepath}'.\")\n",
    "\n",
    "save_checkpoint(custom_mlp, torch.optim.Adam(custom_mlp.parameters()), len(losses), losses[-1], checkpoint_file)"
   ]
  },
  {
   "cell_type": "code",
   "execution_count": null,
   "metadata": {},
   "outputs": [
    {
     "name": "stdout",
     "output_type": "stream",
     "text": [
      "                  precision    recall  f1-score   support\n",
      "\n",
      "    infringement       0.95      0.73      0.83       194\n",
      "non_infringement       0.77      0.96      0.86       186\n",
      "\n",
      "        accuracy                           0.84       380\n",
      "       macro avg       0.86      0.84      0.84       380\n",
      "    weighted avg       0.86      0.84      0.84       380\n",
      "\n"
     ]
    },
    {
     "name": "stderr",
     "output_type": "stream",
     "text": [
      "/tmp/ipykernel_98462/2137335780.py:1: UserWarning: To copy construct from a tensor, it is recommended to use sourceTensor.clone().detach() or sourceTensor.clone().detach().requires_grad_(True), rather than torch.tensor(sourceTensor).\n",
      "  y_pred_final = (torch.sigmoid(torch.tensor(custom_mlp(torch.tensor(X_test, dtype=torch.float32)))) > 0.5).float().numpy()\n"
     ]
    },
    {
     "ename": "",
     "evalue": "",
     "output_type": "error",
     "traceback": [
      "\u001b[1;31mThe Kernel crashed while executing code in the current cell or a previous cell. \n",
      "\u001b[1;31mPlease review the code in the cell(s) to identify a possible cause of the failure. \n",
      "\u001b[1;31mClick <a href='https://aka.ms/vscodeJupyterKernelCrash'>here</a> for more info. \n",
      "\u001b[1;31mView Jupyter <a href='command:jupyter.viewOutput'>log</a> for further details."
     ]
    }
   ],
   "source": [
    "y_pred_final = (torch.sigmoid(torch.tensor(custom_mlp(torch.tensor(X_test, dtype=torch.float32)))) > 0.5).float().numpy()\n",
    "print(classification_report(y_test, y_pred_final, target_names=[\"infringement\", \"non_infringement\"]))"
   ]
  }
 ],
 "metadata": {
  "kernelspec": {
   "display_name": "zdh",
   "language": "python",
   "name": "python3"
  },
  "language_info": {
   "codemirror_mode": {
    "name": "ipython",
    "version": 3
   },
   "file_extension": ".py",
   "mimetype": "text/x-python",
   "name": "python",
   "nbconvert_exporter": "python",
   "pygments_lexer": "ipython3",
   "version": "3.12.3"
  }
 },
 "nbformat": 4,
 "nbformat_minor": 2
}
