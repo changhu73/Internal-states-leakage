{
 "cells": [
  {
   "cell_type": "code",
   "execution_count": 1,
   "metadata": {},
   "outputs": [
    {
     "name": "stderr",
     "output_type": "stream",
     "text": [
      "/home/guangwei/miniconda3/envs/zdh/lib/python3.12/site-packages/tqdm/auto.py:21: TqdmWarning: IProgress not found. Please update jupyter and ipywidgets. See https://ipywidgets.readthedocs.io/en/stable/user_install.html\n",
      "  from .autonotebook import tqdm as notebook_tqdm\n"
     ]
    }
   ],
   "source": [
    "# import packages & variables\n",
    "import argparse\n",
    "import torch\n",
    "import torch.nn as nn\n",
    "import numpy as np\n",
    "from sklearn.metrics import accuracy_score, classification_report\n",
    "import matplotlib.pyplot as plt\n",
    "from tqdm import tqdm\n",
    "from transformers import AutoTokenizer, AutoModelForCausalLM, AutoModel, AutoModelForSequenceClassification\n",
    "import json\n",
    "import os\n",
    "\n",
    "os.environ[\"CUDA_VISIBLE_DEVICES\"] = \"5\"\n",
    "\n",
    "# Parameters\n",
    "model_name = 'meta-llama/Meta-Llama-3.1-8B'\n",
    "non_infringement_file = '/home/guangwei/LLM-COPYRIGHT/copyright_newVersion/test_division/extra_30.non_infringement.json'\n",
    "infringement_file = '/home/guangwei/LLM-COPYRIGHT/copyright_newVersion/test_division/extra_30.infringement.json'\n",
    "checkpoint_file = '/home/guangwei/LLM-COPYRIGHT/copyright_newVersion/models/train_input_reference_4_layer.pth'\n"
   ]
  },
  {
   "cell_type": "code",
   "execution_count": 2,
   "metadata": {},
   "outputs": [],
   "source": [
    "# Define CustumMLP for internal states train\n",
    "class CustomMLP(nn.Module):\n",
    "    def __init__(self, input_dim, hidden_dim):\n",
    "        super(CustomMLP, self).__init__()\n",
    "        self.down = nn.Linear(input_dim, hidden_dim)\n",
    "        self.gate = nn.Linear(input_dim, hidden_dim)\n",
    "        self.up = nn.Linear(hidden_dim, 1)\n",
    "        self.activation = nn.SiLU()\n",
    "\n",
    "    def forward(self, x):\n",
    "        down_output = self.down(x)\n",
    "        gate_output = self.gate(x)\n",
    "        gated_output = down_output * self.activation(gate_output)\n",
    "        return self.up(gated_output)"
   ]
  },
  {
   "cell_type": "code",
   "execution_count": 3,
   "metadata": {},
   "outputs": [],
   "source": [
    "# Extract hidden states/reference embeddings\n",
    "def extract_hidden_states(texts, model, tokenizer, batch_size=4):\n",
    "    device = torch.device(\"cuda\" if torch.cuda.is_available() else \"cpu\")\n",
    "    model.to(device)\n",
    "    model = nn.DataParallel(model)\n",
    "    hidden_states = []\n",
    "    \n",
    "    for i in tqdm(range(0, len(texts), batch_size), desc=\"Processing data batches\"):\n",
    "        batch_texts = texts[i:i + batch_size]\n",
    "        inputs = tokenizer(batch_texts, return_tensors=\"pt\", padding=True, truncation=True).to(device)\n",
    "        \n",
    "        with torch.no_grad():\n",
    "            outputs = model(**inputs)\n",
    "        hidden_states.append(outputs.hidden_states[4].mean(dim=1).cpu().numpy())\n",
    "    \n",
    "    return np.vstack(hidden_states)\n",
    "\n",
    "\n",
    "def extract_reference_embeddings(references, model, tokenizer, batch_size=4):\n",
    "    device = torch.device(\"cuda\" if torch.cuda.is_available() else \"cpu\")\n",
    "    model.to(device)\n",
    "    model = nn.DataParallel(model)\n",
    "    embeddings = []\n",
    "    for i in tqdm(range(0, len(references), batch_size), desc=\"Processing references\"):\n",
    "        batch_references = references[i:i + batch_size]\n",
    "        inputs = tokenizer(batch_references, return_tensors=\"pt\", padding=True, truncation=True).to(device)\n",
    "        with torch.no_grad():\n",
    "            outputs = model(**inputs)\n",
    "        embeddings.append(outputs.pooler_output.cpu().numpy())\n",
    "    return np.vstack(embeddings)"
   ]
  },
  {
   "cell_type": "code",
   "execution_count": 4,
   "metadata": {},
   "outputs": [],
   "source": [
    "# load data for infringement & non infringement\n",
    "def load_data(non_infringement_file, infringement_file):\n",
    "    with open(non_infringement_file, 'r', encoding='utf-8') as file:\n",
    "        non_infringement_json_data = json.load(file)\n",
    "\n",
    "    non_infringement_outputs = [entry['input'] for entry in non_infringement_json_data]\n",
    "    non_infringement_references = [entry['reference'] for entry in non_infringement_json_data]\n",
    "    y_non_infringement = [1] * len(non_infringement_outputs)\n",
    "\n",
    "    with open(infringement_file, 'r', encoding='utf-8') as file:\n",
    "        infringement_json_data = json.load(file)\n",
    "\n",
    "    infringement_outputs = [entry['input'] for entry in infringement_json_data]\n",
    "    infringement_references = [entry['reference'] for entry in infringement_json_data]\n",
    "    y_infringement = [0] * len(infringement_outputs)\n",
    "\n",
    "    return non_infringement_outputs, non_infringement_references, y_non_infringement, infringement_outputs, infringement_references, y_infringement"
   ]
  },
  {
   "cell_type": "code",
   "execution_count": 5,
   "metadata": {},
   "outputs": [],
   "source": [
    "from sklearn.metrics import accuracy_score, classification_report, f1_score\n",
    "\n",
    "# Train for best model\n",
    "def train_model(X_train, y_train, X_test, y_test, input_dim, hidden_dim, epochs=2000, lr=0.001, checkpoint_path=checkpoint_file):\n",
    "    custom_mlp = CustomMLP(input_dim, hidden_dim)\n",
    "    criterion = nn.BCEWithLogitsLoss()\n",
    "    optimizer = torch.optim.Adam(custom_mlp.parameters(), lr=lr)\n",
    "\n",
    "    X_train_tensor = torch.tensor(X_train, dtype=torch.float32)\n",
    "    y_train_tensor = torch.tensor(y_train, dtype=torch.float32).unsqueeze(1)\n",
    "\n",
    "    best_accuracy = -float('inf')\n",
    "    best_f1 = -float('inf')  # Track best F1-score\n",
    "    best_model_state = None\n",
    "    best_epoch = 0\n",
    "    losses = []\n",
    "\n",
    "    for epoch in tqdm(range(epochs), desc=\"Training Epochs\"):\n",
    "        custom_mlp.train()\n",
    "        optimizer.zero_grad()\n",
    "        outputs = custom_mlp(X_train_tensor)\n",
    "        loss = criterion(outputs, y_train_tensor)\n",
    "        loss.backward()\n",
    "        optimizer.step()\n",
    "        losses.append(loss.item())\n",
    "\n",
    "        # Every 10 epochs, evaluate the model\n",
    "        if (epoch + 1) % 10 == 0:\n",
    "            print(f\"Epoch {epoch + 1}/{epochs}, Loss: {loss.item():.4f}\")\n",
    "            \n",
    "            custom_mlp.eval()\n",
    "            X_test_tensor = torch.tensor(X_test, dtype=torch.float32)\n",
    "            with torch.no_grad():\n",
    "                y_pred_logits = custom_mlp(X_test_tensor)\n",
    "                y_pred = (torch.sigmoid(y_pred_logits) > 0.5).float().numpy()\n",
    "            \n",
    "            # Calculate accuracy and F1-score\n",
    "            accuracy = accuracy_score(y_test, y_pred)\n",
    "            f1 = f1_score(y_test, y_pred)  # F1-score calculation\n",
    "            \n",
    "            print(f\"Test Accuracy at Epoch {epoch + 1}: {accuracy * 100:.2f}%\")\n",
    "            print(f\"Test F1-score at Epoch {epoch + 1}: {f1:.4f}\")\n",
    "            \n",
    "            # Generate classification report\n",
    "            report = classification_report(y_test, y_pred, target_names=[\"infringement\", \"non_infringement\"])\n",
    "            print(f\"Classification Report at Epoch {epoch + 1}:\\n{report}\")\n",
    "\n",
    "            # Save the model if it achieves a better F1-score\n",
    "            if f1 > best_f1:\n",
    "                best_accuracy = accuracy\n",
    "                best_f1 = f1\n",
    "                best_model_state = custom_mlp.state_dict()\n",
    "                best_epoch = epoch + 1\n",
    "                torch.save(best_model_state, checkpoint_path)\n",
    "                print(f\"New best model saved with F1-score {best_f1:.4f} at epoch {best_epoch}\")\n",
    "                print(f\"Best Classification Report at Epoch {best_epoch}:\\n{report}\")\n",
    "\n",
    "    # Load the best model state\n",
    "    custom_mlp.load_state_dict(torch.load(checkpoint_path))\n",
    "\n",
    "    # Plot loss curve\n",
    "    plt.figure(figsize=(10, 5))\n",
    "    plt.plot(losses, label='Training Loss')\n",
    "    plt.xlabel('Epoch')\n",
    "    plt.ylabel('Loss')\n",
    "    plt.title('Training Loss Curve')\n",
    "    plt.legend()\n",
    "    plt.show()\n",
    "\n",
    "    print(f\"Final Model Accuracy: {best_accuracy * 100:.2f}%\")\n",
    "    print(f\"Final Model F1-score: {best_f1:.4f}\")\n",
    "    \n",
    "    return custom_mlp, losses, best_accuracy, best_f1\n"
   ]
  },
  {
   "cell_type": "code",
   "execution_count": 6,
   "metadata": {},
   "outputs": [
    {
     "name": "stderr",
     "output_type": "stream",
     "text": [
      "/home/guangwei/miniconda3/envs/zdh/lib/python3.12/site-packages/transformers/generation/configuration_utils.py:777: UserWarning: `return_dict_in_generate` is NOT set to `True`, but `output_hidden_states` is. When `return_dict_in_generate` is not `True`, `output_hidden_states` is ignored.\n",
      "  warnings.warn(\n",
      "Loading checkpoint shards: 100%|██████████| 4/4 [00:11<00:00,  2.88s/it]\n"
     ]
    }
   ],
   "source": [
    "tokenizer = AutoTokenizer.from_pretrained(model_name, model_max_length=512)\n",
    "model = AutoModelForCausalLM.from_pretrained(model_name, output_hidden_states=True)\n",
    "tokenizer.pad_token = tokenizer.eos_token\n",
    "bert_tokenizer = AutoTokenizer.from_pretrained('google-bert/bert-base-uncased')\n",
    "bert_model = AutoModel.from_pretrained('google-bert/bert-base-uncased')\n",
    "bert_tokenizer.pad_token = tokenizer.eos_token\n",
    "\n",
    "non_infringement_outputs, non_infringement_references, y_non_infringement, infringement_outputs, infringement_references, y_infringement = load_data(\n",
    "    non_infringement_file, infringement_file\n",
    ")\n",
    "\n",
    "y_non_infringement = np.array(y_non_infringement)\n",
    "y_infringement = np.array(y_infringement)\n"
   ]
  },
  {
   "cell_type": "code",
   "execution_count": 7,
   "metadata": {},
   "outputs": [
    {
     "name": "stdout",
     "output_type": "stream",
     "text": [
      "Extracting hidden states for non_infringement texts...\n"
     ]
    },
    {
     "name": "stderr",
     "output_type": "stream",
     "text": [
      "Processing data batches:   0%|          | 0/232 [00:00<?, ?it/s]Starting from v4.46, the `logits` model output will have the same type as the model (except at train time, where it will always be FP32)\n",
      "Processing data batches: 100%|██████████| 232/232 [01:08<00:00,  3.38it/s]\n"
     ]
    },
    {
     "name": "stdout",
     "output_type": "stream",
     "text": [
      "Extracting reference embeddings for non_infringement texts...\n"
     ]
    },
    {
     "name": "stderr",
     "output_type": "stream",
     "text": [
      "Processing references: 100%|██████████| 232/232 [00:06<00:00, 37.38it/s]\n"
     ]
    },
    {
     "name": "stdout",
     "output_type": "stream",
     "text": [
      "Extracting hidden states for infringement texts...\n"
     ]
    },
    {
     "name": "stderr",
     "output_type": "stream",
     "text": [
      "Processing data batches: 100%|██████████| 243/243 [01:26<00:00,  2.81it/s]\n"
     ]
    },
    {
     "name": "stdout",
     "output_type": "stream",
     "text": [
      "Extracting reference embeddings for infringement texts...\n"
     ]
    },
    {
     "name": "stderr",
     "output_type": "stream",
     "text": [
      "Processing references: 100%|██████████| 243/243 [00:08<00:00, 29.31it/s]\n"
     ]
    }
   ],
   "source": [
    "print(\"Extracting hidden states for non_infringement texts...\")\n",
    "X_non_infringement = extract_hidden_states(non_infringement_outputs, model, tokenizer)\n",
    "print(\"Extracting reference embeddings for non_infringement texts...\")\n",
    "reference_embeddings_non_infringement = extract_reference_embeddings(non_infringement_references, bert_model, bert_tokenizer)\n",
    "X_non_infringement_combined = np.hstack([X_non_infringement, reference_embeddings_non_infringement])\n",
    "\n",
    "print(\"Extracting hidden states for infringement texts...\")\n",
    "X_infringement = extract_hidden_states(infringement_outputs, model, tokenizer)\n",
    "print(\"Extracting reference embeddings for infringement texts...\")\n",
    "reference_embeddings_infringement = extract_reference_embeddings(infringement_references, bert_model, bert_tokenizer)\n",
    "X_infringement_combined = np.hstack([X_infringement, reference_embeddings_infringement])"
   ]
  },
  {
   "cell_type": "code",
   "execution_count": 8,
   "metadata": {},
   "outputs": [
    {
     "name": "stdout",
     "output_type": "stream",
     "text": [
      "Data successfully split into training and test sets.\n"
     ]
    }
   ],
   "source": [
    "split_index_non_infringement = int(0.8 * len(X_non_infringement_combined))\n",
    "X_non_infringement_train = X_non_infringement_combined[:split_index_non_infringement]\n",
    "X_non_infringement_test = X_non_infringement_combined[split_index_non_infringement:]\n",
    "y_non_infringement_train = y_non_infringement[:split_index_non_infringement]\n",
    "y_non_infringement_test = y_non_infringement[split_index_non_infringement:]\n",
    "\n",
    "split_index_infringement = int(0.8 * len(X_infringement_combined))\n",
    "X_infringement_train = X_infringement_combined[:split_index_infringement]\n",
    "X_infringement_test = X_infringement_combined[split_index_infringement:]\n",
    "y_infringement_train = y_infringement[:split_index_infringement]\n",
    "y_infringement_test = y_infringement[split_index_infringement:]\n",
    "\n",
    "X_train = np.vstack((X_non_infringement_train, X_infringement_train))\n",
    "X_test = np.vstack((X_non_infringement_test, X_infringement_test))\n",
    "y_train = np.concatenate((y_non_infringement_train, y_infringement_train))\n",
    "y_test = np.concatenate((y_non_infringement_test, y_infringement_test))\n",
    "\n",
    "print(\"Data successfully split into training and test sets.\")"
   ]
  },
  {
   "cell_type": "code",
   "execution_count": 9,
   "metadata": {},
   "outputs": [
    {
     "name": "stdout",
     "output_type": "stream",
     "text": [
      "Training MLP model with input_dim=4864 and hidden_dim=256\n"
     ]
    },
    {
     "name": "stderr",
     "output_type": "stream",
     "text": [
      "Training Epochs:   0%|          | 9/2000 [00:08<30:20,  1.09it/s]"
     ]
    },
    {
     "name": "stdout",
     "output_type": "stream",
     "text": [
      "Epoch 10/2000, Loss: 0.6424\n",
      "Test Accuracy at Epoch 10: 62.11%\n",
      "Test F1-score at Epoch 10: 0.6682\n",
      "Classification Report at Epoch 10:\n",
      "                  precision    recall  f1-score   support\n",
      "\n",
      "    infringement       0.69      0.47      0.56       194\n",
      "non_infringement       0.58      0.78      0.67       186\n",
      "\n",
      "        accuracy                           0.62       380\n",
      "       macro avg       0.64      0.62      0.61       380\n",
      "    weighted avg       0.64      0.62      0.61       380\n",
      "\n"
     ]
    },
    {
     "name": "stderr",
     "output_type": "stream",
     "text": [
      "Training Epochs:   0%|          | 10/2000 [00:09<32:01,  1.04it/s]"
     ]
    },
    {
     "name": "stdout",
     "output_type": "stream",
     "text": [
      "New best model saved with F1-score 0.6682 at epoch 10\n",
      "Best Classification Report at Epoch 10:\n",
      "                  precision    recall  f1-score   support\n",
      "\n",
      "    infringement       0.69      0.47      0.56       194\n",
      "non_infringement       0.58      0.78      0.67       186\n",
      "\n",
      "        accuracy                           0.62       380\n",
      "       macro avg       0.64      0.62      0.61       380\n",
      "    weighted avg       0.64      0.62      0.61       380\n",
      "\n"
     ]
    },
    {
     "name": "stderr",
     "output_type": "stream",
     "text": [
      "Training Epochs:   1%|          | 19/2000 [00:16<23:59,  1.38it/s]"
     ]
    },
    {
     "name": "stdout",
     "output_type": "stream",
     "text": [
      "Epoch 20/2000, Loss: 0.5508\n"
     ]
    },
    {
     "name": "stderr",
     "output_type": "stream",
     "text": [
      "Training Epochs:   1%|          | 20/2000 [00:17<28:36,  1.15it/s]"
     ]
    },
    {
     "name": "stdout",
     "output_type": "stream",
     "text": [
      "Test Accuracy at Epoch 20: 69.47%\n",
      "Test F1-score at Epoch 20: 0.7225\n",
      "Classification Report at Epoch 20:\n",
      "                  precision    recall  f1-score   support\n",
      "\n",
      "    infringement       0.76      0.58      0.66       194\n",
      "non_infringement       0.65      0.81      0.72       186\n",
      "\n",
      "        accuracy                           0.69       380\n",
      "       macro avg       0.71      0.70      0.69       380\n",
      "    weighted avg       0.71      0.69      0.69       380\n",
      "\n",
      "New best model saved with F1-score 0.7225 at epoch 20\n",
      "Best Classification Report at Epoch 20:\n",
      "                  precision    recall  f1-score   support\n",
      "\n",
      "    infringement       0.76      0.58      0.66       194\n",
      "non_infringement       0.65      0.81      0.72       186\n",
      "\n",
      "        accuracy                           0.69       380\n",
      "       macro avg       0.71      0.70      0.69       380\n",
      "    weighted avg       0.71      0.69      0.69       380\n",
      "\n"
     ]
    },
    {
     "name": "stderr",
     "output_type": "stream",
     "text": [
      "Training Epochs:   2%|▏         | 30/2000 [00:24<25:36,  1.28it/s]"
     ]
    },
    {
     "name": "stdout",
     "output_type": "stream",
     "text": [
      "Epoch 30/2000, Loss: 0.4651\n",
      "Test Accuracy at Epoch 30: 69.47%\n",
      "Test F1-score at Epoch 30: 0.7573\n",
      "Classification Report at Epoch 30:\n",
      "                  precision    recall  f1-score   support\n",
      "\n",
      "    infringement       0.94      0.43      0.59       194\n",
      "non_infringement       0.62      0.97      0.76       186\n",
      "\n",
      "        accuracy                           0.69       380\n",
      "       macro avg       0.78      0.70      0.67       380\n",
      "    weighted avg       0.78      0.69      0.67       380\n",
      "\n",
      "New best model saved with F1-score 0.7573 at epoch 30\n",
      "Best Classification Report at Epoch 30:\n",
      "                  precision    recall  f1-score   support\n",
      "\n",
      "    infringement       0.94      0.43      0.59       194\n",
      "non_infringement       0.62      0.97      0.76       186\n",
      "\n",
      "        accuracy                           0.69       380\n",
      "       macro avg       0.78      0.70      0.67       380\n",
      "    weighted avg       0.78      0.69      0.67       380\n",
      "\n"
     ]
    },
    {
     "name": "stderr",
     "output_type": "stream",
     "text": [
      "Training Epochs:   2%|▏         | 40/2000 [00:30<20:21,  1.60it/s]"
     ]
    },
    {
     "name": "stdout",
     "output_type": "stream",
     "text": [
      "Epoch 40/2000, Loss: 0.3828\n",
      "Test Accuracy at Epoch 40: 72.63%\n",
      "Test F1-score at Epoch 40: 0.7709\n",
      "Classification Report at Epoch 40:\n",
      "                  precision    recall  f1-score   support\n",
      "\n",
      "    infringement       0.90      0.52      0.66       194\n",
      "non_infringement       0.65      0.94      0.77       186\n",
      "\n",
      "        accuracy                           0.73       380\n",
      "       macro avg       0.78      0.73      0.72       380\n",
      "    weighted avg       0.78      0.73      0.71       380\n",
      "\n",
      "New best model saved with F1-score 0.7709 at epoch 40\n",
      "Best Classification Report at Epoch 40:\n",
      "                  precision    recall  f1-score   support\n",
      "\n",
      "    infringement       0.90      0.52      0.66       194\n",
      "non_infringement       0.65      0.94      0.77       186\n",
      "\n",
      "        accuracy                           0.73       380\n",
      "       macro avg       0.78      0.73      0.72       380\n",
      "    weighted avg       0.78      0.73      0.71       380\n",
      "\n"
     ]
    },
    {
     "name": "stderr",
     "output_type": "stream",
     "text": [
      "Training Epochs:   2%|▏         | 49/2000 [00:37<27:24,  1.19it/s]"
     ]
    },
    {
     "name": "stdout",
     "output_type": "stream",
     "text": [
      "Epoch 50/2000, Loss: 0.3545\n"
     ]
    },
    {
     "name": "stderr",
     "output_type": "stream",
     "text": [
      "Training Epochs:   2%|▎         | 50/2000 [00:38<30:33,  1.06it/s]"
     ]
    },
    {
     "name": "stdout",
     "output_type": "stream",
     "text": [
      "Test Accuracy at Epoch 50: 77.37%\n",
      "Test F1-score at Epoch 50: 0.8045\n",
      "Classification Report at Epoch 50:\n",
      "                  precision    recall  f1-score   support\n",
      "\n",
      "    infringement       0.93      0.60      0.73       194\n",
      "non_infringement       0.70      0.95      0.80       186\n",
      "\n",
      "        accuracy                           0.77       380\n",
      "       macro avg       0.81      0.78      0.77       380\n",
      "    weighted avg       0.82      0.77      0.77       380\n",
      "\n",
      "New best model saved with F1-score 0.8045 at epoch 50\n",
      "Best Classification Report at Epoch 50:\n",
      "                  precision    recall  f1-score   support\n",
      "\n",
      "    infringement       0.93      0.60      0.73       194\n",
      "non_infringement       0.70      0.95      0.80       186\n",
      "\n",
      "        accuracy                           0.77       380\n",
      "       macro avg       0.81      0.78      0.77       380\n",
      "    weighted avg       0.82      0.77      0.77       380\n",
      "\n"
     ]
    },
    {
     "name": "stderr",
     "output_type": "stream",
     "text": [
      "Training Epochs:   3%|▎         | 59/2000 [00:46<28:46,  1.12it/s]"
     ]
    },
    {
     "name": "stdout",
     "output_type": "stream",
     "text": [
      "Epoch 60/2000, Loss: 0.3123\n"
     ]
    },
    {
     "name": "stderr",
     "output_type": "stream",
     "text": [
      "Training Epochs:   3%|▎         | 60/2000 [00:47<31:03,  1.04it/s]"
     ]
    },
    {
     "name": "stdout",
     "output_type": "stream",
     "text": [
      "Test Accuracy at Epoch 60: 78.95%\n",
      "Test F1-score at Epoch 60: 0.8104\n",
      "Classification Report at Epoch 60:\n",
      "                  precision    recall  f1-score   support\n",
      "\n",
      "    infringement       0.90      0.66      0.76       194\n",
      "non_infringement       0.72      0.92      0.81       186\n",
      "\n",
      "        accuracy                           0.79       380\n",
      "       macro avg       0.81      0.79      0.79       380\n",
      "    weighted avg       0.81      0.79      0.79       380\n",
      "\n",
      "New best model saved with F1-score 0.8104 at epoch 60\n",
      "Best Classification Report at Epoch 60:\n",
      "                  precision    recall  f1-score   support\n",
      "\n",
      "    infringement       0.90      0.66      0.76       194\n",
      "non_infringement       0.72      0.92      0.81       186\n",
      "\n",
      "        accuracy                           0.79       380\n",
      "       macro avg       0.81      0.79      0.79       380\n",
      "    weighted avg       0.81      0.79      0.79       380\n",
      "\n"
     ]
    },
    {
     "name": "stderr",
     "output_type": "stream",
     "text": [
      "Training Epochs:   4%|▎         | 70/2000 [00:55<30:58,  1.04it/s]"
     ]
    },
    {
     "name": "stdout",
     "output_type": "stream",
     "text": [
      "Epoch 70/2000, Loss: 0.3029\n",
      "Test Accuracy at Epoch 70: 79.74%\n",
      "Test F1-score at Epoch 70: 0.8099\n",
      "Classification Report at Epoch 70:\n",
      "                  precision    recall  f1-score   support\n",
      "\n",
      "    infringement       0.86      0.72      0.78       194\n",
      "non_infringement       0.75      0.88      0.81       186\n",
      "\n",
      "        accuracy                           0.80       380\n",
      "       macro avg       0.81      0.80      0.80       380\n",
      "    weighted avg       0.81      0.80      0.80       380\n",
      "\n"
     ]
    },
    {
     "name": "stderr",
     "output_type": "stream",
     "text": [
      "Training Epochs:   4%|▍         | 79/2000 [01:03<26:20,  1.22it/s]"
     ]
    },
    {
     "name": "stdout",
     "output_type": "stream",
     "text": [
      "Epoch 80/2000, Loss: 0.2707\n",
      "Test Accuracy at Epoch 80: 80.00%\n",
      "Test F1-score at Epoch 80: 0.8182\n",
      "Classification Report at Epoch 80:\n",
      "                  precision    recall  f1-score   support\n",
      "\n",
      "    infringement       0.90      0.69      0.78       194\n",
      "non_infringement       0.74      0.92      0.82       186\n",
      "\n",
      "        accuracy                           0.80       380\n",
      "       macro avg       0.82      0.80      0.80       380\n",
      "    weighted avg       0.82      0.80      0.80       380\n",
      "\n"
     ]
    },
    {
     "name": "stderr",
     "output_type": "stream",
     "text": [
      "Training Epochs:   4%|▍         | 80/2000 [01:04<27:03,  1.18it/s]"
     ]
    },
    {
     "name": "stdout",
     "output_type": "stream",
     "text": [
      "New best model saved with F1-score 0.8182 at epoch 80\n",
      "Best Classification Report at Epoch 80:\n",
      "                  precision    recall  f1-score   support\n",
      "\n",
      "    infringement       0.90      0.69      0.78       194\n",
      "non_infringement       0.74      0.92      0.82       186\n",
      "\n",
      "        accuracy                           0.80       380\n",
      "       macro avg       0.82      0.80      0.80       380\n",
      "    weighted avg       0.82      0.80      0.80       380\n",
      "\n"
     ]
    },
    {
     "name": "stderr",
     "output_type": "stream",
     "text": [
      "Training Epochs:   4%|▍         | 90/2000 [01:12<27:21,  1.16it/s]"
     ]
    },
    {
     "name": "stdout",
     "output_type": "stream",
     "text": [
      "Epoch 90/2000, Loss: 0.2675\n",
      "Test Accuracy at Epoch 90: 79.74%\n",
      "Test F1-score at Epoch 90: 0.8205\n",
      "Classification Report at Epoch 90:\n",
      "                  precision    recall  f1-score   support\n",
      "\n",
      "    infringement       0.93      0.65      0.77       194\n",
      "non_infringement       0.72      0.95      0.82       186\n",
      "\n",
      "        accuracy                           0.80       380\n",
      "       macro avg       0.83      0.80      0.79       380\n",
      "    weighted avg       0.83      0.80      0.79       380\n",
      "\n",
      "New best model saved with F1-score 0.8205 at epoch 90\n",
      "Best Classification Report at Epoch 90:\n",
      "                  precision    recall  f1-score   support\n",
      "\n",
      "    infringement       0.93      0.65      0.77       194\n",
      "non_infringement       0.72      0.95      0.82       186\n",
      "\n",
      "        accuracy                           0.80       380\n",
      "       macro avg       0.83      0.80      0.79       380\n",
      "    weighted avg       0.83      0.80      0.79       380\n",
      "\n"
     ]
    },
    {
     "name": "stderr",
     "output_type": "stream",
     "text": [
      "Training Epochs:   5%|▍         | 99/2000 [01:19<24:20,  1.30it/s]"
     ]
    },
    {
     "name": "stdout",
     "output_type": "stream",
     "text": [
      "Epoch 100/2000, Loss: 0.2572\n",
      "Test Accuracy at Epoch 100: 79.47%\n",
      "Test F1-score at Epoch 100: 0.8178\n"
     ]
    },
    {
     "name": "stderr",
     "output_type": "stream",
     "text": [
      "Training Epochs:   5%|▌         | 100/2000 [01:20<25:51,  1.22it/s]"
     ]
    },
    {
     "name": "stdout",
     "output_type": "stream",
     "text": [
      "Classification Report at Epoch 100:\n",
      "                  precision    recall  f1-score   support\n",
      "\n",
      "    infringement       0.92      0.65      0.77       194\n",
      "non_infringement       0.72      0.94      0.82       186\n",
      "\n",
      "        accuracy                           0.79       380\n",
      "       macro avg       0.82      0.80      0.79       380\n",
      "    weighted avg       0.82      0.79      0.79       380\n",
      "\n"
     ]
    },
    {
     "name": "stderr",
     "output_type": "stream",
     "text": [
      "Training Epochs:   6%|▌         | 110/2000 [01:28<26:16,  1.20it/s]"
     ]
    },
    {
     "name": "stdout",
     "output_type": "stream",
     "text": [
      "Epoch 110/2000, Loss: 0.2234\n",
      "Test Accuracy at Epoch 110: 79.74%\n",
      "Test F1-score at Epoch 110: 0.8080\n",
      "Classification Report at Epoch 110:\n",
      "                  precision    recall  f1-score   support\n",
      "\n",
      "    infringement       0.85      0.73      0.79       194\n",
      "non_infringement       0.75      0.87      0.81       186\n",
      "\n",
      "        accuracy                           0.80       380\n",
      "       macro avg       0.80      0.80      0.80       380\n",
      "    weighted avg       0.81      0.80      0.80       380\n",
      "\n"
     ]
    },
    {
     "name": "stderr",
     "output_type": "stream",
     "text": [
      "Training Epochs:   6%|▌         | 119/2000 [01:35<25:56,  1.21it/s]"
     ]
    },
    {
     "name": "stdout",
     "output_type": "stream",
     "text": [
      "Epoch 120/2000, Loss: 0.2167\n",
      "Test Accuracy at Epoch 120: 80.26%\n",
      "Test F1-score at Epoch 120: 0.8157\n"
     ]
    },
    {
     "name": "stderr",
     "output_type": "stream",
     "text": [
      "Training Epochs:   6%|▌         | 120/2000 [01:36<28:36,  1.10it/s]"
     ]
    },
    {
     "name": "stdout",
     "output_type": "stream",
     "text": [
      "Classification Report at Epoch 120:\n",
      "                  precision    recall  f1-score   support\n",
      "\n",
      "    infringement       0.87      0.72      0.79       194\n",
      "non_infringement       0.75      0.89      0.82       186\n",
      "\n",
      "        accuracy                           0.80       380\n",
      "       macro avg       0.81      0.80      0.80       380\n",
      "    weighted avg       0.81      0.80      0.80       380\n",
      "\n"
     ]
    },
    {
     "name": "stderr",
     "output_type": "stream",
     "text": [
      "Training Epochs:   6%|▋         | 130/2000 [01:44<23:20,  1.34it/s]"
     ]
    },
    {
     "name": "stdout",
     "output_type": "stream",
     "text": [
      "Epoch 130/2000, Loss: 0.1973\n",
      "Test Accuracy at Epoch 130: 81.05%\n",
      "Test F1-score at Epoch 130: 0.8182\n",
      "Classification Report at Epoch 130:\n",
      "                  precision    recall  f1-score   support\n",
      "\n",
      "    infringement       0.86      0.75      0.80       194\n",
      "non_infringement       0.77      0.87      0.82       186\n",
      "\n",
      "        accuracy                           0.81       380\n",
      "       macro avg       0.82      0.81      0.81       380\n",
      "    weighted avg       0.82      0.81      0.81       380\n",
      "\n"
     ]
    },
    {
     "name": "stderr",
     "output_type": "stream",
     "text": [
      "Training Epochs:   7%|▋         | 139/2000 [01:50<20:56,  1.48it/s]"
     ]
    },
    {
     "name": "stdout",
     "output_type": "stream",
     "text": [
      "Epoch 140/2000, Loss: 0.1954\n",
      "Test Accuracy at Epoch 140: 78.42%\n",
      "Test F1-score at Epoch 140: 0.8111\n"
     ]
    },
    {
     "name": "stderr",
     "output_type": "stream",
     "text": [
      "Training Epochs:   7%|▋         | 140/2000 [01:51<25:04,  1.24it/s]"
     ]
    },
    {
     "name": "stdout",
     "output_type": "stream",
     "text": [
      "Classification Report at Epoch 140:\n",
      "                  precision    recall  f1-score   support\n",
      "\n",
      "    infringement       0.92      0.63      0.75       194\n",
      "non_infringement       0.71      0.95      0.81       186\n",
      "\n",
      "        accuracy                           0.78       380\n",
      "       macro avg       0.82      0.79      0.78       380\n",
      "    weighted avg       0.82      0.78      0.78       380\n",
      "\n"
     ]
    },
    {
     "name": "stderr",
     "output_type": "stream",
     "text": [
      "Training Epochs:   7%|▋         | 149/2000 [01:58<26:22,  1.17it/s]"
     ]
    },
    {
     "name": "stdout",
     "output_type": "stream",
     "text": [
      "Epoch 150/2000, Loss: 0.1820\n"
     ]
    },
    {
     "name": "stderr",
     "output_type": "stream",
     "text": [
      "Training Epochs:   8%|▊         | 150/2000 [02:00<28:49,  1.07it/s]"
     ]
    },
    {
     "name": "stdout",
     "output_type": "stream",
     "text": [
      "Test Accuracy at Epoch 150: 80.53%\n",
      "Test F1-score at Epoch 150: 0.8177\n",
      "Classification Report at Epoch 150:\n",
      "                  precision    recall  f1-score   support\n",
      "\n",
      "    infringement       0.88      0.72      0.79       194\n",
      "non_infringement       0.75      0.89      0.82       186\n",
      "\n",
      "        accuracy                           0.81       380\n",
      "       macro avg       0.81      0.81      0.80       380\n",
      "    weighted avg       0.82      0.81      0.80       380\n",
      "\n"
     ]
    },
    {
     "name": "stderr",
     "output_type": "stream",
     "text": [
      "Training Epochs:   8%|▊         | 159/2000 [02:07<26:25,  1.16it/s]"
     ]
    },
    {
     "name": "stdout",
     "output_type": "stream",
     "text": [
      "Epoch 160/2000, Loss: 0.1791\n",
      "Test Accuracy at Epoch 160: 80.26%\n",
      "Test F1-score at Epoch 160: 0.8244\n",
      "Classification Report at Epoch 160:\n",
      "                  precision    recall  f1-score   support\n",
      "\n",
      "    infringement       0.93      0.66      0.77       194\n",
      "non_infringement       0.73      0.95      0.82       186\n",
      "\n",
      "        accuracy                           0.80       380\n",
      "       macro avg       0.83      0.81      0.80       380\n",
      "    weighted avg       0.83      0.80      0.80       380\n",
      "\n"
     ]
    },
    {
     "name": "stderr",
     "output_type": "stream",
     "text": [
      "Training Epochs:   8%|▊         | 160/2000 [02:09<35:19,  1.15s/it]"
     ]
    },
    {
     "name": "stdout",
     "output_type": "stream",
     "text": [
      "New best model saved with F1-score 0.8244 at epoch 160\n",
      "Best Classification Report at Epoch 160:\n",
      "                  precision    recall  f1-score   support\n",
      "\n",
      "    infringement       0.93      0.66      0.77       194\n",
      "non_infringement       0.73      0.95      0.82       186\n",
      "\n",
      "        accuracy                           0.80       380\n",
      "       macro avg       0.83      0.81      0.80       380\n",
      "    weighted avg       0.83      0.80      0.80       380\n",
      "\n"
     ]
    },
    {
     "name": "stderr",
     "output_type": "stream",
     "text": [
      "Training Epochs:   8%|▊         | 169/2000 [02:17<27:50,  1.10it/s]"
     ]
    },
    {
     "name": "stdout",
     "output_type": "stream",
     "text": [
      "Epoch 170/2000, Loss: 0.1878\n",
      "Test Accuracy at Epoch 170: 82.11%\n",
      "Test F1-score at Epoch 170: 0.8265\n",
      "Classification Report at Epoch 170:\n",
      "                  precision    recall  f1-score   support\n",
      "\n",
      "    infringement       0.86      0.77      0.82       194\n",
      "non_infringement       0.79      0.87      0.83       186\n",
      "\n",
      "        accuracy                           0.82       380\n",
      "       macro avg       0.82      0.82      0.82       380\n",
      "    weighted avg       0.83      0.82      0.82       380\n",
      "\n"
     ]
    },
    {
     "name": "stderr",
     "output_type": "stream",
     "text": [
      "Training Epochs:   8%|▊         | 170/2000 [02:19<38:50,  1.27s/it]"
     ]
    },
    {
     "name": "stdout",
     "output_type": "stream",
     "text": [
      "New best model saved with F1-score 0.8265 at epoch 170\n",
      "Best Classification Report at Epoch 170:\n",
      "                  precision    recall  f1-score   support\n",
      "\n",
      "    infringement       0.86      0.77      0.82       194\n",
      "non_infringement       0.79      0.87      0.83       186\n",
      "\n",
      "        accuracy                           0.82       380\n",
      "       macro avg       0.82      0.82      0.82       380\n",
      "    weighted avg       0.83      0.82      0.82       380\n",
      "\n"
     ]
    },
    {
     "name": "stderr",
     "output_type": "stream",
     "text": [
      "Training Epochs:   9%|▉         | 179/2000 [02:27<27:11,  1.12it/s]"
     ]
    },
    {
     "name": "stdout",
     "output_type": "stream",
     "text": [
      "Epoch 180/2000, Loss: 0.1711\n"
     ]
    },
    {
     "name": "stderr",
     "output_type": "stream",
     "text": [
      "Training Epochs:   9%|▉         | 180/2000 [02:28<28:32,  1.06it/s]"
     ]
    },
    {
     "name": "stdout",
     "output_type": "stream",
     "text": [
      "Test Accuracy at Epoch 180: 79.47%\n",
      "Test F1-score at Epoch 180: 0.8211\n",
      "Classification Report at Epoch 180:\n",
      "                  precision    recall  f1-score   support\n",
      "\n",
      "    infringement       0.95      0.63      0.76       194\n",
      "non_infringement       0.72      0.96      0.82       186\n",
      "\n",
      "        accuracy                           0.79       380\n",
      "       macro avg       0.83      0.80      0.79       380\n",
      "    weighted avg       0.83      0.79      0.79       380\n",
      "\n"
     ]
    },
    {
     "name": "stderr",
     "output_type": "stream",
     "text": [
      "Training Epochs:  10%|▉         | 190/2000 [02:36<24:55,  1.21it/s]"
     ]
    },
    {
     "name": "stdout",
     "output_type": "stream",
     "text": [
      "Epoch 190/2000, Loss: 0.1551\n",
      "Test Accuracy at Epoch 190: 81.32%\n",
      "Test F1-score at Epoch 190: 0.8238\n",
      "Classification Report at Epoch 190:\n",
      "                  precision    recall  f1-score   support\n",
      "\n",
      "    infringement       0.88      0.74      0.80       194\n",
      "non_infringement       0.76      0.89      0.82       186\n",
      "\n",
      "        accuracy                           0.81       380\n",
      "       macro avg       0.82      0.81      0.81       380\n",
      "    weighted avg       0.82      0.81      0.81       380\n",
      "\n"
     ]
    },
    {
     "name": "stderr",
     "output_type": "stream",
     "text": [
      "Training Epochs:  10%|█         | 200/2000 [02:44<23:36,  1.27it/s]"
     ]
    },
    {
     "name": "stdout",
     "output_type": "stream",
     "text": [
      "Epoch 200/2000, Loss: 0.1479\n",
      "Test Accuracy at Epoch 200: 81.05%\n",
      "Test F1-score at Epoch 200: 0.8227\n",
      "Classification Report at Epoch 200:\n",
      "                  precision    recall  f1-score   support\n",
      "\n",
      "    infringement       0.88      0.73      0.80       194\n",
      "non_infringement       0.76      0.90      0.82       186\n",
      "\n",
      "        accuracy                           0.81       380\n",
      "       macro avg       0.82      0.81      0.81       380\n",
      "    weighted avg       0.82      0.81      0.81       380\n",
      "\n"
     ]
    },
    {
     "name": "stderr",
     "output_type": "stream",
     "text": [
      "Training Epochs:  10%|█         | 209/2000 [02:50<19:43,  1.51it/s]"
     ]
    },
    {
     "name": "stdout",
     "output_type": "stream",
     "text": [
      "Epoch 210/2000, Loss: 0.2067\n",
      "Test Accuracy at Epoch 210: 80.26%\n",
      "Test F1-score at Epoch 210: 0.8260\n"
     ]
    },
    {
     "name": "stderr",
     "output_type": "stream",
     "text": [
      "Training Epochs:  10%|█         | 210/2000 [02:51<21:55,  1.36it/s]"
     ]
    },
    {
     "name": "stdout",
     "output_type": "stream",
     "text": [
      "Classification Report at Epoch 210:\n",
      "                  precision    recall  f1-score   support\n",
      "\n",
      "    infringement       0.94      0.65      0.77       194\n",
      "non_infringement       0.73      0.96      0.83       186\n",
      "\n",
      "        accuracy                           0.80       380\n",
      "       macro avg       0.83      0.81      0.80       380\n",
      "    weighted avg       0.84      0.80      0.80       380\n",
      "\n"
     ]
    },
    {
     "name": "stderr",
     "output_type": "stream",
     "text": [
      "Training Epochs:  11%|█         | 219/2000 [02:59<25:20,  1.17it/s]"
     ]
    },
    {
     "name": "stdout",
     "output_type": "stream",
     "text": [
      "Epoch 220/2000, Loss: 0.1633\n",
      "Test Accuracy at Epoch 220: 83.42%\n",
      "Test F1-score at Epoch 220: 0.8475\n",
      "Classification Report at Epoch 220:\n",
      "                  precision    recall  f1-score   support\n",
      "\n",
      "    infringement       0.93      0.73      0.82       194\n",
      "non_infringement       0.77      0.94      0.85       186\n",
      "\n",
      "        accuracy                           0.83       380\n",
      "       macro avg       0.85      0.84      0.83       380\n",
      "    weighted avg       0.85      0.83      0.83       380\n",
      "\n"
     ]
    },
    {
     "name": "stderr",
     "output_type": "stream",
     "text": [
      "Training Epochs:  11%|█         | 220/2000 [03:02<47:33,  1.60s/it]"
     ]
    },
    {
     "name": "stdout",
     "output_type": "stream",
     "text": [
      "New best model saved with F1-score 0.8475 at epoch 220\n",
      "Best Classification Report at Epoch 220:\n",
      "                  precision    recall  f1-score   support\n",
      "\n",
      "    infringement       0.93      0.73      0.82       194\n",
      "non_infringement       0.77      0.94      0.85       186\n",
      "\n",
      "        accuracy                           0.83       380\n",
      "       macro avg       0.85      0.84      0.83       380\n",
      "    weighted avg       0.85      0.83      0.83       380\n",
      "\n"
     ]
    },
    {
     "name": "stderr",
     "output_type": "stream",
     "text": [
      "Training Epochs:  12%|█▏        | 230/2000 [03:11<25:52,  1.14it/s]"
     ]
    },
    {
     "name": "stdout",
     "output_type": "stream",
     "text": [
      "Epoch 230/2000, Loss: 0.1422\n",
      "Test Accuracy at Epoch 230: 81.58%\n",
      "Test F1-score at Epoch 230: 0.8341\n",
      "Classification Report at Epoch 230:\n",
      "                  precision    recall  f1-score   support\n",
      "\n",
      "    infringement       0.93      0.69      0.79       194\n",
      "non_infringement       0.75      0.95      0.83       186\n",
      "\n",
      "        accuracy                           0.82       380\n",
      "       macro avg       0.84      0.82      0.81       380\n",
      "    weighted avg       0.84      0.82      0.81       380\n",
      "\n"
     ]
    },
    {
     "name": "stderr",
     "output_type": "stream",
     "text": [
      "Training Epochs:  12%|█▏        | 240/2000 [03:19<25:05,  1.17it/s]"
     ]
    },
    {
     "name": "stdout",
     "output_type": "stream",
     "text": [
      "Epoch 240/2000, Loss: 0.1322\n",
      "Test Accuracy at Epoch 240: 79.47%\n",
      "Test F1-score at Epoch 240: 0.8178\n",
      "Classification Report at Epoch 240:\n",
      "                  precision    recall  f1-score   support\n",
      "\n",
      "    infringement       0.92      0.65      0.77       194\n",
      "non_infringement       0.72      0.94      0.82       186\n",
      "\n",
      "        accuracy                           0.79       380\n",
      "       macro avg       0.82      0.80      0.79       380\n",
      "    weighted avg       0.82      0.79      0.79       380\n",
      "\n"
     ]
    },
    {
     "name": "stderr",
     "output_type": "stream",
     "text": [
      "Training Epochs:  12%|█▎        | 250/2000 [03:27<26:44,  1.09it/s]"
     ]
    },
    {
     "name": "stdout",
     "output_type": "stream",
     "text": [
      "Epoch 250/2000, Loss: 0.1264\n",
      "Test Accuracy at Epoch 250: 80.26%\n",
      "Test F1-score at Epoch 250: 0.8260\n",
      "Classification Report at Epoch 250:\n",
      "                  precision    recall  f1-score   support\n",
      "\n",
      "    infringement       0.94      0.65      0.77       194\n",
      "non_infringement       0.73      0.96      0.83       186\n",
      "\n",
      "        accuracy                           0.80       380\n",
      "       macro avg       0.83      0.81      0.80       380\n",
      "    weighted avg       0.84      0.80      0.80       380\n",
      "\n"
     ]
    },
    {
     "name": "stderr",
     "output_type": "stream",
     "text": [
      "Training Epochs:  13%|█▎        | 260/2000 [03:36<27:04,  1.07it/s]"
     ]
    },
    {
     "name": "stdout",
     "output_type": "stream",
     "text": [
      "Epoch 260/2000, Loss: 0.1219\n",
      "Test Accuracy at Epoch 260: 80.26%\n",
      "Test F1-score at Epoch 260: 0.8260\n",
      "Classification Report at Epoch 260:\n",
      "                  precision    recall  f1-score   support\n",
      "\n",
      "    infringement       0.94      0.65      0.77       194\n",
      "non_infringement       0.73      0.96      0.83       186\n",
      "\n",
      "        accuracy                           0.80       380\n",
      "       macro avg       0.83      0.81      0.80       380\n",
      "    weighted avg       0.84      0.80      0.80       380\n",
      "\n"
     ]
    },
    {
     "name": "stderr",
     "output_type": "stream",
     "text": [
      "Training Epochs:  14%|█▎        | 270/2000 [03:45<27:30,  1.05it/s]"
     ]
    },
    {
     "name": "stdout",
     "output_type": "stream",
     "text": [
      "Epoch 270/2000, Loss: 0.1959\n",
      "Test Accuracy at Epoch 270: 77.63%\n",
      "Test F1-score at Epoch 270: 0.8107\n",
      "Classification Report at Epoch 270:\n",
      "                  precision    recall  f1-score   support\n",
      "\n",
      "    infringement       0.97      0.58      0.73       194\n",
      "non_infringement       0.69      0.98      0.81       186\n",
      "\n",
      "        accuracy                           0.78       380\n",
      "       macro avg       0.83      0.78      0.77       380\n",
      "    weighted avg       0.83      0.78      0.77       380\n",
      "\n"
     ]
    },
    {
     "name": "stderr",
     "output_type": "stream",
     "text": [
      "Training Epochs:  14%|█▍        | 279/2000 [03:52<20:46,  1.38it/s]"
     ]
    },
    {
     "name": "stdout",
     "output_type": "stream",
     "text": [
      "Epoch 280/2000, Loss: 0.1283\n"
     ]
    },
    {
     "name": "stderr",
     "output_type": "stream",
     "text": [
      "Training Epochs:  14%|█▍        | 280/2000 [03:53<24:39,  1.16it/s]"
     ]
    },
    {
     "name": "stdout",
     "output_type": "stream",
     "text": [
      "Test Accuracy at Epoch 280: 80.79%\n",
      "Test F1-score at Epoch 280: 0.8215\n",
      "Classification Report at Epoch 280:\n",
      "                  precision    recall  f1-score   support\n",
      "\n",
      "    infringement       0.89      0.72      0.79       194\n",
      "non_infringement       0.75      0.90      0.82       186\n",
      "\n",
      "        accuracy                           0.81       380\n",
      "       macro avg       0.82      0.81      0.81       380\n",
      "    weighted avg       0.82      0.81      0.81       380\n",
      "\n"
     ]
    },
    {
     "name": "stderr",
     "output_type": "stream",
     "text": [
      "Training Epochs:  14%|█▍        | 290/2000 [04:01<20:57,  1.36it/s]"
     ]
    },
    {
     "name": "stdout",
     "output_type": "stream",
     "text": [
      "Epoch 290/2000, Loss: 0.1169\n",
      "Test Accuracy at Epoch 290: 81.05%\n",
      "Test F1-score at Epoch 290: 0.8252\n",
      "Classification Report at Epoch 290:\n",
      "                  precision    recall  f1-score   support\n",
      "\n",
      "    infringement       0.90      0.71      0.79       194\n",
      "non_infringement       0.75      0.91      0.83       186\n",
      "\n",
      "        accuracy                           0.81       380\n",
      "       macro avg       0.82      0.81      0.81       380\n",
      "    weighted avg       0.83      0.81      0.81       380\n",
      "\n"
     ]
    },
    {
     "name": "stderr",
     "output_type": "stream",
     "text": [
      "Training Epochs:  15%|█▌        | 300/2000 [04:08<23:22,  1.21it/s]"
     ]
    },
    {
     "name": "stdout",
     "output_type": "stream",
     "text": [
      "Epoch 300/2000, Loss: 0.1156\n",
      "Test Accuracy at Epoch 300: 79.47%\n",
      "Test F1-score at Epoch 300: 0.8178\n",
      "Classification Report at Epoch 300:\n",
      "                  precision    recall  f1-score   support\n",
      "\n",
      "    infringement       0.92      0.65      0.77       194\n",
      "non_infringement       0.72      0.94      0.82       186\n",
      "\n",
      "        accuracy                           0.79       380\n",
      "       macro avg       0.82      0.80      0.79       380\n",
      "    weighted avg       0.82      0.79      0.79       380\n",
      "\n"
     ]
    },
    {
     "name": "stderr",
     "output_type": "stream",
     "text": [
      "Training Epochs:  15%|█▌        | 309/2000 [04:16<23:55,  1.18it/s]"
     ]
    },
    {
     "name": "stdout",
     "output_type": "stream",
     "text": [
      "Epoch 310/2000, Loss: 0.1109\n"
     ]
    },
    {
     "name": "stderr",
     "output_type": "stream",
     "text": [
      "Training Epochs:  16%|█▌        | 310/2000 [04:17<25:21,  1.11it/s]"
     ]
    },
    {
     "name": "stdout",
     "output_type": "stream",
     "text": [
      "Test Accuracy at Epoch 310: 81.84%\n",
      "Test F1-score at Epoch 310: 0.8353\n",
      "Classification Report at Epoch 310:\n",
      "                  precision    recall  f1-score   support\n",
      "\n",
      "    infringement       0.93      0.70      0.80       194\n",
      "non_infringement       0.75      0.94      0.84       186\n",
      "\n",
      "        accuracy                           0.82       380\n",
      "       macro avg       0.84      0.82      0.82       380\n",
      "    weighted avg       0.84      0.82      0.82       380\n",
      "\n"
     ]
    },
    {
     "name": "stderr",
     "output_type": "stream",
     "text": [
      "Training Epochs:  16%|█▌        | 319/2000 [04:24<22:30,  1.24it/s]"
     ]
    },
    {
     "name": "stdout",
     "output_type": "stream",
     "text": [
      "Epoch 320/2000, Loss: 0.1071\n"
     ]
    },
    {
     "name": "stderr",
     "output_type": "stream",
     "text": [
      "Training Epochs:  16%|█▌        | 320/2000 [04:25<25:37,  1.09it/s]"
     ]
    },
    {
     "name": "stdout",
     "output_type": "stream",
     "text": [
      "Test Accuracy at Epoch 320: 80.26%\n",
      "Test F1-score at Epoch 320: 0.8235\n",
      "Classification Report at Epoch 320:\n",
      "                  precision    recall  f1-score   support\n",
      "\n",
      "    infringement       0.92      0.67      0.78       194\n",
      "non_infringement       0.73      0.94      0.82       186\n",
      "\n",
      "        accuracy                           0.80       380\n",
      "       macro avg       0.83      0.81      0.80       380\n",
      "    weighted avg       0.83      0.80      0.80       380\n",
      "\n"
     ]
    },
    {
     "name": "stderr",
     "output_type": "stream",
     "text": [
      "Training Epochs:  16%|█▋        | 330/2000 [04:35<28:18,  1.02s/it]"
     ]
    },
    {
     "name": "stdout",
     "output_type": "stream",
     "text": [
      "Epoch 330/2000, Loss: 0.1055\n",
      "Test Accuracy at Epoch 330: 81.84%\n",
      "Test F1-score at Epoch 330: 0.8353\n",
      "Classification Report at Epoch 330:\n",
      "                  precision    recall  f1-score   support\n",
      "\n",
      "    infringement       0.93      0.70      0.80       194\n",
      "non_infringement       0.75      0.94      0.84       186\n",
      "\n",
      "        accuracy                           0.82       380\n",
      "       macro avg       0.84      0.82      0.82       380\n",
      "    weighted avg       0.84      0.82      0.82       380\n",
      "\n"
     ]
    },
    {
     "name": "stderr",
     "output_type": "stream",
     "text": [
      "Training Epochs:  17%|█▋        | 339/2000 [04:43<25:10,  1.10it/s]"
     ]
    },
    {
     "name": "stdout",
     "output_type": "stream",
     "text": [
      "Epoch 340/2000, Loss: 0.1044\n"
     ]
    },
    {
     "name": "stderr",
     "output_type": "stream",
     "text": [
      "Training Epochs:  17%|█▋        | 340/2000 [04:44<27:31,  1.00it/s]"
     ]
    },
    {
     "name": "stdout",
     "output_type": "stream",
     "text": [
      "Test Accuracy at Epoch 340: 79.74%\n",
      "Test F1-score at Epoch 340: 0.8222\n",
      "Classification Report at Epoch 340:\n",
      "                  precision    recall  f1-score   support\n",
      "\n",
      "    infringement       0.94      0.64      0.76       194\n",
      "non_infringement       0.72      0.96      0.82       186\n",
      "\n",
      "        accuracy                           0.80       380\n",
      "       macro avg       0.83      0.80      0.79       380\n",
      "    weighted avg       0.83      0.80      0.79       380\n",
      "\n"
     ]
    },
    {
     "name": "stderr",
     "output_type": "stream",
     "text": [
      "Training Epochs:  18%|█▊        | 350/2000 [04:53<26:42,  1.03it/s]"
     ]
    },
    {
     "name": "stdout",
     "output_type": "stream",
     "text": [
      "Epoch 350/2000, Loss: 0.1107\n",
      "Test Accuracy at Epoch 350: 80.53%\n",
      "Test F1-score at Epoch 350: 0.8279\n",
      "Classification Report at Epoch 350:\n",
      "                  precision    recall  f1-score   support\n",
      "\n",
      "    infringement       0.94      0.66      0.78       194\n",
      "non_infringement       0.73      0.96      0.83       186\n",
      "\n",
      "        accuracy                           0.81       380\n",
      "       macro avg       0.84      0.81      0.80       380\n",
      "    weighted avg       0.84      0.81      0.80       380\n",
      "\n"
     ]
    },
    {
     "name": "stderr",
     "output_type": "stream",
     "text": [
      "Training Epochs:  18%|█▊        | 359/2000 [05:01<24:59,  1.09it/s]"
     ]
    },
    {
     "name": "stdout",
     "output_type": "stream",
     "text": [
      "Epoch 360/2000, Loss: 0.1044\n"
     ]
    },
    {
     "name": "stderr",
     "output_type": "stream",
     "text": [
      "Training Epochs:  18%|█▊        | 360/2000 [05:03<28:53,  1.06s/it]"
     ]
    },
    {
     "name": "stdout",
     "output_type": "stream",
     "text": [
      "Test Accuracy at Epoch 360: 81.84%\n",
      "Test F1-score at Epoch 360: 0.8361\n",
      "Classification Report at Epoch 360:\n",
      "                  precision    recall  f1-score   support\n",
      "\n",
      "    infringement       0.93      0.70      0.80       194\n",
      "non_infringement       0.75      0.95      0.84       186\n",
      "\n",
      "        accuracy                           0.82       380\n",
      "       macro avg       0.84      0.82      0.82       380\n",
      "    weighted avg       0.84      0.82      0.82       380\n",
      "\n"
     ]
    },
    {
     "name": "stderr",
     "output_type": "stream",
     "text": [
      "Training Epochs:  18%|█▊        | 369/2000 [05:09<16:58,  1.60it/s]"
     ]
    },
    {
     "name": "stdout",
     "output_type": "stream",
     "text": [
      "Epoch 370/2000, Loss: 0.0998\n"
     ]
    },
    {
     "name": "stderr",
     "output_type": "stream",
     "text": [
      "Training Epochs:  18%|█▊        | 370/2000 [05:10<19:17,  1.41it/s]"
     ]
    },
    {
     "name": "stdout",
     "output_type": "stream",
     "text": [
      "Test Accuracy at Epoch 370: 81.84%\n",
      "Test F1-score at Epoch 370: 0.8361\n",
      "Classification Report at Epoch 370:\n",
      "                  precision    recall  f1-score   support\n",
      "\n",
      "    infringement       0.93      0.70      0.80       194\n",
      "non_infringement       0.75      0.95      0.84       186\n",
      "\n",
      "        accuracy                           0.82       380\n",
      "       macro avg       0.84      0.82      0.82       380\n",
      "    weighted avg       0.84      0.82      0.82       380\n",
      "\n"
     ]
    },
    {
     "name": "stderr",
     "output_type": "stream",
     "text": [
      "Training Epochs:  19%|█▉        | 379/2000 [05:17<22:34,  1.20it/s]"
     ]
    },
    {
     "name": "stdout",
     "output_type": "stream",
     "text": [
      "Epoch 380/2000, Loss: 0.0975\n",
      "Test Accuracy at Epoch 380: 81.84%\n",
      "Test F1-score at Epoch 380: 0.8361\n",
      "Classification Report at Epoch 380:\n",
      "                  precision    recall  f1-score   support\n",
      "\n",
      "    infringement       0.93      0.70      0.80       194\n",
      "non_infringement       0.75      0.95      0.84       186\n",
      "\n",
      "        accuracy                           0.82       380\n",
      "       macro avg       0.84      0.82      0.82       380\n",
      "    weighted avg       0.84      0.82      0.82       380\n",
      "\n"
     ]
    },
    {
     "name": "stderr",
     "output_type": "stream",
     "text": [
      "Training Epochs:  20%|█▉        | 390/2000 [05:26<22:07,  1.21it/s]"
     ]
    },
    {
     "name": "stdout",
     "output_type": "stream",
     "text": [
      "Epoch 390/2000, Loss: 0.1855\n",
      "Test Accuracy at Epoch 390: 79.21%\n",
      "Test F1-score at Epoch 390: 0.8192\n",
      "Classification Report at Epoch 390:\n",
      "                  precision    recall  f1-score   support\n",
      "\n",
      "    infringement       0.95      0.63      0.76       194\n",
      "non_infringement       0.71      0.96      0.82       186\n",
      "\n",
      "        accuracy                           0.79       380\n",
      "       macro avg       0.83      0.80      0.79       380\n",
      "    weighted avg       0.83      0.79      0.79       380\n",
      "\n"
     ]
    },
    {
     "name": "stderr",
     "output_type": "stream",
     "text": [
      "Training Epochs:  20%|█▉        | 399/2000 [05:33<21:18,  1.25it/s]"
     ]
    },
    {
     "name": "stdout",
     "output_type": "stream",
     "text": [
      "Epoch 400/2000, Loss: 0.1234\n"
     ]
    },
    {
     "name": "stderr",
     "output_type": "stream",
     "text": [
      "Training Epochs:  20%|██        | 400/2000 [05:34<23:06,  1.15it/s]"
     ]
    },
    {
     "name": "stdout",
     "output_type": "stream",
     "text": [
      "Test Accuracy at Epoch 400: 80.53%\n",
      "Test F1-score at Epoch 400: 0.8186\n",
      "Classification Report at Epoch 400:\n",
      "                  precision    recall  f1-score   support\n",
      "\n",
      "    infringement       0.88      0.72      0.79       194\n",
      "non_infringement       0.75      0.90      0.82       186\n",
      "\n",
      "        accuracy                           0.81       380\n",
      "       macro avg       0.82      0.81      0.80       380\n",
      "    weighted avg       0.82      0.81      0.80       380\n",
      "\n"
     ]
    },
    {
     "name": "stderr",
     "output_type": "stream",
     "text": [
      "Training Epochs:  20%|██        | 409/2000 [05:42<22:33,  1.18it/s]"
     ]
    },
    {
     "name": "stdout",
     "output_type": "stream",
     "text": [
      "Epoch 410/2000, Loss: 0.1036\n",
      "Test Accuracy at Epoch 410: 81.58%\n",
      "Test F1-score at Epoch 410: 0.8333\n",
      "Classification Report at Epoch 410:\n",
      "                  precision    recall  f1-score   support\n",
      "\n",
      "    infringement       0.92      0.70      0.79       194\n",
      "non_infringement       0.75      0.94      0.83       186\n",
      "\n",
      "        accuracy                           0.82       380\n",
      "       macro avg       0.84      0.82      0.81       380\n",
      "    weighted avg       0.84      0.82      0.81       380\n",
      "\n"
     ]
    },
    {
     "name": "stderr",
     "output_type": "stream",
     "text": [
      "Training Epochs:  21%|██        | 420/2000 [05:51<22:05,  1.19it/s]"
     ]
    },
    {
     "name": "stdout",
     "output_type": "stream",
     "text": [
      "Epoch 420/2000, Loss: 0.0961\n",
      "Test Accuracy at Epoch 420: 81.58%\n",
      "Test F1-score at Epoch 420: 0.8349\n",
      "Classification Report at Epoch 420:\n",
      "                  precision    recall  f1-score   support\n",
      "\n",
      "    infringement       0.94      0.69      0.79       194\n",
      "non_infringement       0.74      0.95      0.83       186\n",
      "\n",
      "        accuracy                           0.82       380\n",
      "       macro avg       0.84      0.82      0.81       380\n",
      "    weighted avg       0.84      0.82      0.81       380\n",
      "\n"
     ]
    },
    {
     "name": "stderr",
     "output_type": "stream",
     "text": [
      "Training Epochs:  22%|██▏       | 430/2000 [06:01<26:55,  1.03s/it]"
     ]
    },
    {
     "name": "stdout",
     "output_type": "stream",
     "text": [
      "Epoch 430/2000, Loss: 0.0960\n",
      "Test Accuracy at Epoch 430: 82.11%\n",
      "Test F1-score at Epoch 430: 0.8365\n",
      "Classification Report at Epoch 430:\n",
      "                  precision    recall  f1-score   support\n",
      "\n",
      "    infringement       0.92      0.71      0.80       194\n",
      "non_infringement       0.76      0.94      0.84       186\n",
      "\n",
      "        accuracy                           0.82       380\n",
      "       macro avg       0.84      0.82      0.82       380\n",
      "    weighted avg       0.84      0.82      0.82       380\n",
      "\n"
     ]
    },
    {
     "name": "stderr",
     "output_type": "stream",
     "text": [
      "Training Epochs:  22%|██▏       | 440/2000 [06:10<25:17,  1.03it/s]"
     ]
    },
    {
     "name": "stdout",
     "output_type": "stream",
     "text": [
      "Epoch 440/2000, Loss: 0.0923\n",
      "Test Accuracy at Epoch 440: 82.11%\n",
      "Test F1-score at Epoch 440: 0.8389\n",
      "Classification Report at Epoch 440:\n",
      "                  precision    recall  f1-score   support\n",
      "\n",
      "    infringement       0.94      0.70      0.80       194\n",
      "non_infringement       0.75      0.95      0.84       186\n",
      "\n",
      "        accuracy                           0.82       380\n",
      "       macro avg       0.84      0.82      0.82       380\n",
      "    weighted avg       0.85      0.82      0.82       380\n",
      "\n"
     ]
    },
    {
     "name": "stderr",
     "output_type": "stream",
     "text": [
      "Training Epochs:  22%|██▏       | 449/2000 [06:18<22:29,  1.15it/s]"
     ]
    },
    {
     "name": "stdout",
     "output_type": "stream",
     "text": [
      "Epoch 450/2000, Loss: 0.0913\n",
      "Test Accuracy at Epoch 450: 81.58%\n",
      "Test F1-score at Epoch 450: 0.8341\n"
     ]
    },
    {
     "name": "stderr",
     "output_type": "stream",
     "text": [
      "Training Epochs:  22%|██▎       | 450/2000 [06:19<24:14,  1.07it/s]"
     ]
    },
    {
     "name": "stdout",
     "output_type": "stream",
     "text": [
      "Classification Report at Epoch 450:\n",
      "                  precision    recall  f1-score   support\n",
      "\n",
      "    infringement       0.93      0.69      0.79       194\n",
      "non_infringement       0.75      0.95      0.83       186\n",
      "\n",
      "        accuracy                           0.82       380\n",
      "       macro avg       0.84      0.82      0.81       380\n",
      "    weighted avg       0.84      0.82      0.81       380\n",
      "\n"
     ]
    },
    {
     "name": "stderr",
     "output_type": "stream",
     "text": [
      "Training Epochs:  23%|██▎       | 459/2000 [06:27<23:01,  1.12it/s]"
     ]
    },
    {
     "name": "stdout",
     "output_type": "stream",
     "text": [
      "Epoch 460/2000, Loss: 0.0895\n"
     ]
    },
    {
     "name": "stderr",
     "output_type": "stream",
     "text": [
      "Training Epochs:  23%|██▎       | 460/2000 [06:28<24:38,  1.04it/s]"
     ]
    },
    {
     "name": "stdout",
     "output_type": "stream",
     "text": [
      "Test Accuracy at Epoch 460: 81.84%\n",
      "Test F1-score at Epoch 460: 0.8361\n",
      "Classification Report at Epoch 460:\n",
      "                  precision    recall  f1-score   support\n",
      "\n",
      "    infringement       0.93      0.70      0.80       194\n",
      "non_infringement       0.75      0.95      0.84       186\n",
      "\n",
      "        accuracy                           0.82       380\n",
      "       macro avg       0.84      0.82      0.82       380\n",
      "    weighted avg       0.84      0.82      0.82       380\n",
      "\n"
     ]
    },
    {
     "name": "stderr",
     "output_type": "stream",
     "text": [
      "Training Epochs:  23%|██▎       | 469/2000 [06:36<23:02,  1.11it/s]"
     ]
    },
    {
     "name": "stdout",
     "output_type": "stream",
     "text": [
      "Epoch 470/2000, Loss: 0.0967\n"
     ]
    },
    {
     "name": "stderr",
     "output_type": "stream",
     "text": [
      "Training Epochs:  24%|██▎       | 470/2000 [06:37<24:36,  1.04it/s]"
     ]
    },
    {
     "name": "stdout",
     "output_type": "stream",
     "text": [
      "Test Accuracy at Epoch 470: 80.26%\n",
      "Test F1-score at Epoch 470: 0.8260\n",
      "Classification Report at Epoch 470:\n",
      "                  precision    recall  f1-score   support\n",
      "\n",
      "    infringement       0.94      0.65      0.77       194\n",
      "non_infringement       0.73      0.96      0.83       186\n",
      "\n",
      "        accuracy                           0.80       380\n",
      "       macro avg       0.83      0.81      0.80       380\n",
      "    weighted avg       0.84      0.80      0.80       380\n",
      "\n"
     ]
    },
    {
     "name": "stderr",
     "output_type": "stream",
     "text": [
      "Training Epochs:  24%|██▍       | 480/2000 [06:46<23:41,  1.07it/s]"
     ]
    },
    {
     "name": "stdout",
     "output_type": "stream",
     "text": [
      "Epoch 480/2000, Loss: 0.0962\n",
      "Test Accuracy at Epoch 480: 82.11%\n",
      "Test F1-score at Epoch 480: 0.8365\n",
      "Classification Report at Epoch 480:\n",
      "                  precision    recall  f1-score   support\n",
      "\n",
      "    infringement       0.92      0.71      0.80       194\n",
      "non_infringement       0.76      0.94      0.84       186\n",
      "\n",
      "        accuracy                           0.82       380\n",
      "       macro avg       0.84      0.82      0.82       380\n",
      "    weighted avg       0.84      0.82      0.82       380\n",
      "\n"
     ]
    },
    {
     "name": "stderr",
     "output_type": "stream",
     "text": [
      "Training Epochs:  24%|██▍       | 489/2000 [06:54<21:33,  1.17it/s]"
     ]
    },
    {
     "name": "stdout",
     "output_type": "stream",
     "text": [
      "Epoch 490/2000, Loss: 0.0874\n"
     ]
    },
    {
     "name": "stderr",
     "output_type": "stream",
     "text": [
      "Training Epochs:  24%|██▍       | 490/2000 [06:55<23:18,  1.08it/s]"
     ]
    },
    {
     "name": "stdout",
     "output_type": "stream",
     "text": [
      "Test Accuracy at Epoch 490: 82.11%\n",
      "Test F1-score at Epoch 490: 0.8365\n",
      "Classification Report at Epoch 490:\n",
      "                  precision    recall  f1-score   support\n",
      "\n",
      "    infringement       0.92      0.71      0.80       194\n",
      "non_infringement       0.76      0.94      0.84       186\n",
      "\n",
      "        accuracy                           0.82       380\n",
      "       macro avg       0.84      0.82      0.82       380\n",
      "    weighted avg       0.84      0.82      0.82       380\n",
      "\n"
     ]
    },
    {
     "name": "stderr",
     "output_type": "stream",
     "text": [
      "Training Epochs:  25%|██▌       | 500/2000 [07:02<17:40,  1.41it/s]"
     ]
    },
    {
     "name": "stdout",
     "output_type": "stream",
     "text": [
      "Epoch 500/2000, Loss: 0.0870\n",
      "Test Accuracy at Epoch 500: 81.84%\n",
      "Test F1-score at Epoch 500: 0.8369\n",
      "Classification Report at Epoch 500:\n",
      "                  precision    recall  f1-score   support\n",
      "\n",
      "    infringement       0.94      0.69      0.80       194\n",
      "non_infringement       0.75      0.95      0.84       186\n",
      "\n",
      "        accuracy                           0.82       380\n",
      "       macro avg       0.84      0.82      0.82       380\n",
      "    weighted avg       0.84      0.82      0.82       380\n",
      "\n"
     ]
    },
    {
     "name": "stderr",
     "output_type": "stream",
     "text": [
      "Training Epochs:  26%|██▌       | 510/2000 [07:09<16:14,  1.53it/s]"
     ]
    },
    {
     "name": "stdout",
     "output_type": "stream",
     "text": [
      "Epoch 510/2000, Loss: 0.0915\n",
      "Test Accuracy at Epoch 510: 81.58%\n",
      "Test F1-score at Epoch 510: 0.8357\n",
      "Classification Report at Epoch 510:\n",
      "                  precision    recall  f1-score   support\n",
      "\n",
      "    infringement       0.94      0.68      0.79       194\n",
      "non_infringement       0.74      0.96      0.84       186\n",
      "\n",
      "        accuracy                           0.82       380\n",
      "       macro avg       0.84      0.82      0.81       380\n",
      "    weighted avg       0.84      0.82      0.81       380\n",
      "\n"
     ]
    },
    {
     "name": "stderr",
     "output_type": "stream",
     "text": [
      "Training Epochs:  26%|██▌       | 520/2000 [07:14<14:33,  1.69it/s]"
     ]
    },
    {
     "name": "stdout",
     "output_type": "stream",
     "text": [
      "Epoch 520/2000, Loss: 0.0849\n",
      "Test Accuracy at Epoch 520: 82.11%\n",
      "Test F1-score at Epoch 520: 0.8381\n",
      "Classification Report at Epoch 520:\n",
      "                  precision    recall  f1-score   support\n",
      "\n",
      "    infringement       0.93      0.70      0.80       194\n",
      "non_infringement       0.75      0.95      0.84       186\n",
      "\n",
      "        accuracy                           0.82       380\n",
      "       macro avg       0.84      0.82      0.82       380\n",
      "    weighted avg       0.84      0.82      0.82       380\n",
      "\n"
     ]
    },
    {
     "name": "stderr",
     "output_type": "stream",
     "text": [
      "Training Epochs:  26%|██▋       | 530/2000 [07:23<22:04,  1.11it/s]"
     ]
    },
    {
     "name": "stdout",
     "output_type": "stream",
     "text": [
      "Epoch 530/2000, Loss: 0.1135\n",
      "Test Accuracy at Epoch 530: 82.11%\n",
      "Test F1-score at Epoch 530: 0.8357\n",
      "Classification Report at Epoch 530:\n",
      "                  precision    recall  f1-score   support\n",
      "\n",
      "    infringement       0.91      0.72      0.80       194\n",
      "non_infringement       0.76      0.93      0.84       186\n",
      "\n",
      "        accuracy                           0.82       380\n",
      "       macro avg       0.84      0.82      0.82       380\n",
      "    weighted avg       0.84      0.82      0.82       380\n",
      "\n"
     ]
    },
    {
     "name": "stderr",
     "output_type": "stream",
     "text": [
      "Training Epochs:  27%|██▋       | 540/2000 [07:32<22:42,  1.07it/s]"
     ]
    },
    {
     "name": "stdout",
     "output_type": "stream",
     "text": [
      "Epoch 540/2000, Loss: 0.0853\n",
      "Test Accuracy at Epoch 540: 80.79%\n",
      "Test F1-score at Epoch 540: 0.8298\n",
      "Classification Report at Epoch 540:\n",
      "                  precision    recall  f1-score   support\n",
      "\n",
      "    infringement       0.94      0.66      0.78       194\n",
      "non_infringement       0.73      0.96      0.83       186\n",
      "\n",
      "        accuracy                           0.81       380\n",
      "       macro avg       0.84      0.81      0.80       380\n",
      "    weighted avg       0.84      0.81      0.80       380\n",
      "\n"
     ]
    },
    {
     "name": "stderr",
     "output_type": "stream",
     "text": [
      "Training Epochs:  27%|██▋       | 549/2000 [07:40<21:59,  1.10it/s]"
     ]
    },
    {
     "name": "stdout",
     "output_type": "stream",
     "text": [
      "Epoch 550/2000, Loss: 0.0882\n"
     ]
    },
    {
     "name": "stderr",
     "output_type": "stream",
     "text": [
      "Training Epochs:  28%|██▊       | 550/2000 [07:41<24:16,  1.00s/it]"
     ]
    },
    {
     "name": "stdout",
     "output_type": "stream",
     "text": [
      "Test Accuracy at Epoch 550: 81.32%\n",
      "Test F1-score at Epoch 550: 0.8329\n",
      "Classification Report at Epoch 550:\n",
      "                  precision    recall  f1-score   support\n",
      "\n",
      "    infringement       0.94      0.68      0.79       194\n",
      "non_infringement       0.74      0.95      0.83       186\n",
      "\n",
      "        accuracy                           0.81       380\n",
      "       macro avg       0.84      0.82      0.81       380\n",
      "    weighted avg       0.84      0.81      0.81       380\n",
      "\n"
     ]
    },
    {
     "name": "stderr",
     "output_type": "stream",
     "text": [
      "Training Epochs:  28%|██▊       | 559/2000 [07:50<23:02,  1.04it/s]"
     ]
    },
    {
     "name": "stdout",
     "output_type": "stream",
     "text": [
      "Epoch 560/2000, Loss: 0.0850\n"
     ]
    },
    {
     "name": "stderr",
     "output_type": "stream",
     "text": [
      "Training Epochs:  28%|██▊       | 560/2000 [07:51<24:09,  1.01s/it]"
     ]
    },
    {
     "name": "stdout",
     "output_type": "stream",
     "text": [
      "Test Accuracy at Epoch 560: 81.58%\n",
      "Test F1-score at Epoch 560: 0.8349\n",
      "Classification Report at Epoch 560:\n",
      "                  precision    recall  f1-score   support\n",
      "\n",
      "    infringement       0.94      0.69      0.79       194\n",
      "non_infringement       0.74      0.95      0.83       186\n",
      "\n",
      "        accuracy                           0.82       380\n",
      "       macro avg       0.84      0.82      0.81       380\n",
      "    weighted avg       0.84      0.82      0.81       380\n",
      "\n"
     ]
    },
    {
     "name": "stderr",
     "output_type": "stream",
     "text": [
      "Training Epochs:  28%|██▊       | 569/2000 [07:59<22:50,  1.04it/s]"
     ]
    },
    {
     "name": "stdout",
     "output_type": "stream",
     "text": [
      "Epoch 570/2000, Loss: 0.0835\n"
     ]
    },
    {
     "name": "stderr",
     "output_type": "stream",
     "text": [
      "Training Epochs:  28%|██▊       | 570/2000 [08:00<24:44,  1.04s/it]"
     ]
    },
    {
     "name": "stdout",
     "output_type": "stream",
     "text": [
      "Test Accuracy at Epoch 570: 81.84%\n",
      "Test F1-score at Epoch 570: 0.8369\n",
      "Classification Report at Epoch 570:\n",
      "                  precision    recall  f1-score   support\n",
      "\n",
      "    infringement       0.94      0.69      0.80       194\n",
      "non_infringement       0.75      0.95      0.84       186\n",
      "\n",
      "        accuracy                           0.82       380\n",
      "       macro avg       0.84      0.82      0.82       380\n",
      "    weighted avg       0.84      0.82      0.82       380\n",
      "\n"
     ]
    },
    {
     "name": "stderr",
     "output_type": "stream",
     "text": [
      "Training Epochs:  29%|██▉       | 580/2000 [08:10<20:59,  1.13it/s]"
     ]
    },
    {
     "name": "stdout",
     "output_type": "stream",
     "text": [
      "Epoch 580/2000, Loss: 0.0830\n",
      "Test Accuracy at Epoch 580: 82.11%\n",
      "Test F1-score at Epoch 580: 0.8373\n",
      "Classification Report at Epoch 580:\n",
      "                  precision    recall  f1-score   support\n",
      "\n",
      "    infringement       0.93      0.71      0.80       194\n",
      "non_infringement       0.75      0.94      0.84       186\n",
      "\n",
      "        accuracy                           0.82       380\n",
      "       macro avg       0.84      0.82      0.82       380\n",
      "    weighted avg       0.84      0.82      0.82       380\n",
      "\n"
     ]
    },
    {
     "name": "stderr",
     "output_type": "stream",
     "text": [
      "Training Epochs:  30%|██▉       | 590/2000 [08:15<13:06,  1.79it/s]"
     ]
    },
    {
     "name": "stdout",
     "output_type": "stream",
     "text": [
      "Epoch 590/2000, Loss: 0.0904\n",
      "Test Accuracy at Epoch 590: 82.11%\n",
      "Test F1-score at Epoch 590: 0.8357\n",
      "Classification Report at Epoch 590:\n",
      "                  precision    recall  f1-score   support\n",
      "\n",
      "    infringement       0.91      0.72      0.80       194\n",
      "non_infringement       0.76      0.93      0.84       186\n",
      "\n",
      "        accuracy                           0.82       380\n",
      "       macro avg       0.84      0.82      0.82       380\n",
      "    weighted avg       0.84      0.82      0.82       380\n",
      "\n"
     ]
    },
    {
     "name": "stderr",
     "output_type": "stream",
     "text": [
      "Training Epochs:  30%|███       | 600/2000 [08:20<11:38,  2.01it/s]"
     ]
    },
    {
     "name": "stdout",
     "output_type": "stream",
     "text": [
      "Epoch 600/2000, Loss: 0.0929\n",
      "Test Accuracy at Epoch 600: 80.79%\n",
      "Test F1-score at Epoch 600: 0.8306\n",
      "Classification Report at Epoch 600:\n",
      "                  precision    recall  f1-score   support\n",
      "\n",
      "    infringement       0.95      0.66      0.78       194\n",
      "non_infringement       0.73      0.96      0.83       186\n",
      "\n",
      "        accuracy                           0.81       380\n",
      "       macro avg       0.84      0.81      0.80       380\n",
      "    weighted avg       0.84      0.81      0.80       380\n",
      "\n"
     ]
    },
    {
     "name": "stderr",
     "output_type": "stream",
     "text": [
      "Training Epochs:  31%|███       | 612/2000 [08:22<02:54,  7.93it/s]"
     ]
    },
    {
     "name": "stdout",
     "output_type": "stream",
     "text": [
      "Epoch 610/2000, Loss: 0.0869\n",
      "Test Accuracy at Epoch 610: 82.11%\n",
      "Test F1-score at Epoch 610: 0.8357\n",
      "Classification Report at Epoch 610:\n",
      "                  precision    recall  f1-score   support\n",
      "\n",
      "    infringement       0.91      0.72      0.80       194\n",
      "non_infringement       0.76      0.93      0.84       186\n",
      "\n",
      "        accuracy                           0.82       380\n",
      "       macro avg       0.84      0.82      0.82       380\n",
      "    weighted avg       0.84      0.82      0.82       380\n",
      "\n"
     ]
    },
    {
     "name": "stderr",
     "output_type": "stream",
     "text": [
      "Training Epochs:  31%|███       | 622/2000 [08:24<03:06,  7.38it/s]"
     ]
    },
    {
     "name": "stdout",
     "output_type": "stream",
     "text": [
      "Epoch 620/2000, Loss: 0.0852\n",
      "Test Accuracy at Epoch 620: 81.84%\n",
      "Test F1-score at Epoch 620: 0.8384\n",
      "Classification Report at Epoch 620:\n",
      "                  precision    recall  f1-score   support\n",
      "\n",
      "    infringement       0.95      0.68      0.79       194\n",
      "non_infringement       0.74      0.96      0.84       186\n",
      "\n",
      "        accuracy                           0.82       380\n",
      "       macro avg       0.85      0.82      0.82       380\n",
      "    weighted avg       0.85      0.82      0.82       380\n",
      "\n"
     ]
    },
    {
     "name": "stderr",
     "output_type": "stream",
     "text": [
      "Training Epochs:  32%|███▏      | 630/2000 [08:25<01:50, 12.45it/s]"
     ]
    },
    {
     "name": "stdout",
     "output_type": "stream",
     "text": [
      "Epoch 630/2000, Loss: 0.0807\n",
      "Test Accuracy at Epoch 630: 82.11%\n",
      "Test F1-score at Epoch 630: 0.8381\n",
      "Classification Report at Epoch 630:\n",
      "                  precision    recall  f1-score   support\n",
      "\n",
      "    infringement       0.93      0.70      0.80       194\n",
      "non_infringement       0.75      0.95      0.84       186\n",
      "\n",
      "        accuracy                           0.82       380\n",
      "       macro avg       0.84      0.82      0.82       380\n",
      "    weighted avg       0.84      0.82      0.82       380\n",
      "\n"
     ]
    },
    {
     "name": "stderr",
     "output_type": "stream",
     "text": [
      "Training Epochs:  32%|███▏      | 641/2000 [08:26<01:38, 13.86it/s]"
     ]
    },
    {
     "name": "stdout",
     "output_type": "stream",
     "text": [
      "Epoch 640/2000, Loss: 0.0865\n",
      "Test Accuracy at Epoch 640: 81.84%\n",
      "Test F1-score at Epoch 640: 0.8353\n",
      "Classification Report at Epoch 640:\n",
      "                  precision    recall  f1-score   support\n",
      "\n",
      "    infringement       0.93      0.70      0.80       194\n",
      "non_infringement       0.75      0.94      0.84       186\n",
      "\n",
      "        accuracy                           0.82       380\n",
      "       macro avg       0.84      0.82      0.82       380\n",
      "    weighted avg       0.84      0.82      0.82       380\n",
      "\n"
     ]
    },
    {
     "name": "stderr",
     "output_type": "stream",
     "text": [
      "Training Epochs:  32%|███▎      | 650/2000 [08:29<08:34,  2.63it/s]"
     ]
    },
    {
     "name": "stdout",
     "output_type": "stream",
     "text": [
      "Epoch 650/2000, Loss: 0.0801\n",
      "Test Accuracy at Epoch 650: 82.11%\n",
      "Test F1-score at Epoch 650: 0.8381\n",
      "Classification Report at Epoch 650:\n",
      "                  precision    recall  f1-score   support\n",
      "\n",
      "    infringement       0.93      0.70      0.80       194\n",
      "non_infringement       0.75      0.95      0.84       186\n",
      "\n",
      "        accuracy                           0.82       380\n",
      "       macro avg       0.84      0.82      0.82       380\n",
      "    weighted avg       0.84      0.82      0.82       380\n",
      "\n"
     ]
    },
    {
     "name": "stderr",
     "output_type": "stream",
     "text": [
      "Training Epochs:  33%|███▎      | 660/2000 [08:34<11:58,  1.87it/s]"
     ]
    },
    {
     "name": "stdout",
     "output_type": "stream",
     "text": [
      "Epoch 660/2000, Loss: 0.0798\n",
      "Test Accuracy at Epoch 660: 82.11%\n",
      "Test F1-score at Epoch 660: 0.8389\n",
      "Classification Report at Epoch 660:\n",
      "                  precision    recall  f1-score   support\n",
      "\n",
      "    infringement       0.94      0.70      0.80       194\n",
      "non_infringement       0.75      0.95      0.84       186\n",
      "\n",
      "        accuracy                           0.82       380\n",
      "       macro avg       0.84      0.82      0.82       380\n",
      "    weighted avg       0.85      0.82      0.82       380\n",
      "\n"
     ]
    },
    {
     "name": "stderr",
     "output_type": "stream",
     "text": [
      "Training Epochs:  34%|███▎      | 670/2000 [08:39<12:18,  1.80it/s]"
     ]
    },
    {
     "name": "stdout",
     "output_type": "stream",
     "text": [
      "Epoch 670/2000, Loss: 0.0798\n",
      "Test Accuracy at Epoch 670: 82.37%\n",
      "Test F1-score at Epoch 670: 0.8409\n",
      "Classification Report at Epoch 670:\n",
      "                  precision    recall  f1-score   support\n",
      "\n",
      "    infringement       0.94      0.70      0.80       194\n",
      "non_infringement       0.75      0.95      0.84       186\n",
      "\n",
      "        accuracy                           0.82       380\n",
      "       macro avg       0.85      0.83      0.82       380\n",
      "    weighted avg       0.85      0.82      0.82       380\n",
      "\n"
     ]
    },
    {
     "name": "stderr",
     "output_type": "stream",
     "text": [
      "Training Epochs:  34%|███▍      | 680/2000 [08:44<12:26,  1.77it/s]"
     ]
    },
    {
     "name": "stdout",
     "output_type": "stream",
     "text": [
      "Epoch 680/2000, Loss: 0.0877\n",
      "Test Accuracy at Epoch 680: 81.58%\n",
      "Test F1-score at Epoch 680: 0.8301\n",
      "Classification Report at Epoch 680:\n",
      "                  precision    recall  f1-score   support\n",
      "\n",
      "    infringement       0.90      0.72      0.80       194\n",
      "non_infringement       0.76      0.92      0.83       186\n",
      "\n",
      "        accuracy                           0.82       380\n",
      "       macro avg       0.83      0.82      0.81       380\n",
      "    weighted avg       0.83      0.82      0.81       380\n",
      "\n"
     ]
    },
    {
     "name": "stderr",
     "output_type": "stream",
     "text": [
      "Training Epochs:  34%|███▍      | 690/2000 [08:50<11:39,  1.87it/s]"
     ]
    },
    {
     "name": "stdout",
     "output_type": "stream",
     "text": [
      "Epoch 690/2000, Loss: 0.0860\n",
      "Test Accuracy at Epoch 690: 80.53%\n",
      "Test F1-score at Epoch 690: 0.8287\n",
      "Classification Report at Epoch 690:\n",
      "                  precision    recall  f1-score   support\n",
      "\n",
      "    infringement       0.95      0.65      0.77       194\n",
      "non_infringement       0.73      0.96      0.83       186\n",
      "\n",
      "        accuracy                           0.81       380\n",
      "       macro avg       0.84      0.81      0.80       380\n",
      "    weighted avg       0.84      0.81      0.80       380\n",
      "\n"
     ]
    },
    {
     "name": "stderr",
     "output_type": "stream",
     "text": [
      "Training Epochs:  35%|███▌      | 700/2000 [08:55<11:41,  1.85it/s]"
     ]
    },
    {
     "name": "stdout",
     "output_type": "stream",
     "text": [
      "Epoch 700/2000, Loss: 0.0824\n",
      "Test Accuracy at Epoch 700: 81.58%\n",
      "Test F1-score at Epoch 700: 0.8325\n",
      "Classification Report at Epoch 700:\n",
      "                  precision    recall  f1-score   support\n",
      "\n",
      "    infringement       0.92      0.70      0.80       194\n",
      "non_infringement       0.75      0.94      0.83       186\n",
      "\n",
      "        accuracy                           0.82       380\n",
      "       macro avg       0.83      0.82      0.81       380\n",
      "    weighted avg       0.84      0.82      0.81       380\n",
      "\n"
     ]
    },
    {
     "name": "stderr",
     "output_type": "stream",
     "text": [
      "Training Epochs:  36%|███▌      | 710/2000 [09:00<11:59,  1.79it/s]"
     ]
    },
    {
     "name": "stdout",
     "output_type": "stream",
     "text": [
      "Epoch 710/2000, Loss: 0.0796\n",
      "Test Accuracy at Epoch 710: 81.58%\n",
      "Test F1-score at Epoch 710: 0.8357\n",
      "Classification Report at Epoch 710:\n",
      "                  precision    recall  f1-score   support\n",
      "\n",
      "    infringement       0.94      0.68      0.79       194\n",
      "non_infringement       0.74      0.96      0.84       186\n",
      "\n",
      "        accuracy                           0.82       380\n",
      "       macro avg       0.84      0.82      0.81       380\n",
      "    weighted avg       0.84      0.82      0.81       380\n",
      "\n"
     ]
    },
    {
     "name": "stderr",
     "output_type": "stream",
     "text": [
      "Training Epochs:  36%|███▌      | 720/2000 [09:06<12:23,  1.72it/s]"
     ]
    },
    {
     "name": "stdout",
     "output_type": "stream",
     "text": [
      "Epoch 720/2000, Loss: 0.0803\n",
      "Test Accuracy at Epoch 720: 82.11%\n",
      "Test F1-score at Epoch 720: 0.8389\n",
      "Classification Report at Epoch 720:\n",
      "                  precision    recall  f1-score   support\n",
      "\n",
      "    infringement       0.94      0.70      0.80       194\n",
      "non_infringement       0.75      0.95      0.84       186\n",
      "\n",
      "        accuracy                           0.82       380\n",
      "       macro avg       0.84      0.82      0.82       380\n",
      "    weighted avg       0.85      0.82      0.82       380\n",
      "\n"
     ]
    },
    {
     "name": "stderr",
     "output_type": "stream",
     "text": [
      "Training Epochs:  36%|███▋      | 730/2000 [09:11<11:42,  1.81it/s]"
     ]
    },
    {
     "name": "stdout",
     "output_type": "stream",
     "text": [
      "Epoch 730/2000, Loss: 0.0861\n",
      "Test Accuracy at Epoch 730: 81.32%\n",
      "Test F1-score at Epoch 730: 0.8281\n",
      "Classification Report at Epoch 730:\n",
      "                  precision    recall  f1-score   support\n",
      "\n",
      "    infringement       0.90      0.71      0.80       194\n",
      "non_infringement       0.75      0.92      0.83       186\n",
      "\n",
      "        accuracy                           0.81       380\n",
      "       macro avg       0.83      0.82      0.81       380\n",
      "    weighted avg       0.83      0.81      0.81       380\n",
      "\n"
     ]
    },
    {
     "name": "stderr",
     "output_type": "stream",
     "text": [
      "Training Epochs:  37%|███▋      | 740/2000 [09:17<11:47,  1.78it/s]"
     ]
    },
    {
     "name": "stdout",
     "output_type": "stream",
     "text": [
      "Epoch 740/2000, Loss: 0.0850\n",
      "Test Accuracy at Epoch 740: 81.05%\n",
      "Test F1-score at Epoch 740: 0.8326\n",
      "Classification Report at Epoch 740:\n",
      "                  precision    recall  f1-score   support\n",
      "\n",
      "    infringement       0.95      0.66      0.78       194\n",
      "non_infringement       0.73      0.96      0.83       186\n",
      "\n",
      "        accuracy                           0.81       380\n",
      "       macro avg       0.84      0.81      0.81       380\n",
      "    weighted avg       0.84      0.81      0.81       380\n",
      "\n"
     ]
    },
    {
     "name": "stderr",
     "output_type": "stream",
     "text": [
      "Training Epochs:  38%|███▊      | 750/2000 [09:22<12:08,  1.72it/s]"
     ]
    },
    {
     "name": "stdout",
     "output_type": "stream",
     "text": [
      "Epoch 750/2000, Loss: 0.0819\n",
      "Test Accuracy at Epoch 750: 81.58%\n",
      "Test F1-score at Epoch 750: 0.8325\n",
      "Classification Report at Epoch 750:\n",
      "                  precision    recall  f1-score   support\n",
      "\n",
      "    infringement       0.92      0.70      0.80       194\n",
      "non_infringement       0.75      0.94      0.83       186\n",
      "\n",
      "        accuracy                           0.82       380\n",
      "       macro avg       0.83      0.82      0.81       380\n",
      "    weighted avg       0.84      0.82      0.81       380\n",
      "\n"
     ]
    },
    {
     "name": "stderr",
     "output_type": "stream",
     "text": [
      "Training Epochs:  38%|███▊      | 760/2000 [09:27<11:36,  1.78it/s]"
     ]
    },
    {
     "name": "stdout",
     "output_type": "stream",
     "text": [
      "Epoch 760/2000, Loss: 0.0792\n",
      "Test Accuracy at Epoch 760: 81.58%\n",
      "Test F1-score at Epoch 760: 0.8357\n",
      "Classification Report at Epoch 760:\n",
      "                  precision    recall  f1-score   support\n",
      "\n",
      "    infringement       0.94      0.68      0.79       194\n",
      "non_infringement       0.74      0.96      0.84       186\n",
      "\n",
      "        accuracy                           0.82       380\n",
      "       macro avg       0.84      0.82      0.81       380\n",
      "    weighted avg       0.84      0.82      0.81       380\n",
      "\n"
     ]
    },
    {
     "name": "stderr",
     "output_type": "stream",
     "text": [
      "Training Epochs:  38%|███▊      | 770/2000 [09:33<11:42,  1.75it/s]"
     ]
    },
    {
     "name": "stdout",
     "output_type": "stream",
     "text": [
      "Epoch 770/2000, Loss: 0.0789\n",
      "Test Accuracy at Epoch 770: 81.58%\n",
      "Test F1-score at Epoch 770: 0.8357\n",
      "Classification Report at Epoch 770:\n",
      "                  precision    recall  f1-score   support\n",
      "\n",
      "    infringement       0.94      0.68      0.79       194\n",
      "non_infringement       0.74      0.96      0.84       186\n",
      "\n",
      "        accuracy                           0.82       380\n",
      "       macro avg       0.84      0.82      0.81       380\n",
      "    weighted avg       0.84      0.82      0.81       380\n",
      "\n"
     ]
    },
    {
     "name": "stderr",
     "output_type": "stream",
     "text": [
      "Training Epochs:  39%|███▉      | 780/2000 [09:38<11:20,  1.79it/s]"
     ]
    },
    {
     "name": "stdout",
     "output_type": "stream",
     "text": [
      "Epoch 780/2000, Loss: 0.0844\n",
      "Test Accuracy at Epoch 780: 81.32%\n",
      "Test F1-score at Epoch 780: 0.8281\n",
      "Classification Report at Epoch 780:\n",
      "                  precision    recall  f1-score   support\n",
      "\n",
      "    infringement       0.90      0.71      0.80       194\n",
      "non_infringement       0.75      0.92      0.83       186\n",
      "\n",
      "        accuracy                           0.81       380\n",
      "       macro avg       0.83      0.82      0.81       380\n",
      "    weighted avg       0.83      0.81      0.81       380\n",
      "\n"
     ]
    },
    {
     "name": "stderr",
     "output_type": "stream",
     "text": [
      "Training Epochs:  40%|███▉      | 790/2000 [09:43<11:11,  1.80it/s]"
     ]
    },
    {
     "name": "stdout",
     "output_type": "stream",
     "text": [
      "Epoch 790/2000, Loss: 0.0846\n",
      "Test Accuracy at Epoch 790: 81.05%\n",
      "Test F1-score at Epoch 790: 0.8326\n",
      "Classification Report at Epoch 790:\n",
      "                  precision    recall  f1-score   support\n",
      "\n",
      "    infringement       0.95      0.66      0.78       194\n",
      "non_infringement       0.73      0.96      0.83       186\n",
      "\n",
      "        accuracy                           0.81       380\n",
      "       macro avg       0.84      0.81      0.81       380\n",
      "    weighted avg       0.84      0.81      0.81       380\n",
      "\n"
     ]
    },
    {
     "name": "stderr",
     "output_type": "stream",
     "text": [
      "Training Epochs:  40%|████      | 800/2000 [09:49<10:58,  1.82it/s]"
     ]
    },
    {
     "name": "stdout",
     "output_type": "stream",
     "text": [
      "Epoch 800/2000, Loss: 0.0826\n",
      "Test Accuracy at Epoch 800: 81.58%\n",
      "Test F1-score at Epoch 800: 0.8325\n",
      "Classification Report at Epoch 800:\n",
      "                  precision    recall  f1-score   support\n",
      "\n",
      "    infringement       0.92      0.70      0.80       194\n",
      "non_infringement       0.75      0.94      0.83       186\n",
      "\n",
      "        accuracy                           0.82       380\n",
      "       macro avg       0.83      0.82      0.81       380\n",
      "    weighted avg       0.84      0.82      0.81       380\n",
      "\n"
     ]
    },
    {
     "name": "stderr",
     "output_type": "stream",
     "text": [
      "Training Epochs:  40%|████      | 810/2000 [09:54<10:29,  1.89it/s]"
     ]
    },
    {
     "name": "stdout",
     "output_type": "stream",
     "text": [
      "Epoch 810/2000, Loss: 0.0802\n",
      "Test Accuracy at Epoch 810: 81.58%\n",
      "Test F1-score at Epoch 810: 0.8357\n",
      "Classification Report at Epoch 810:\n",
      "                  precision    recall  f1-score   support\n",
      "\n",
      "    infringement       0.94      0.68      0.79       194\n",
      "non_infringement       0.74      0.96      0.84       186\n",
      "\n",
      "        accuracy                           0.82       380\n",
      "       macro avg       0.84      0.82      0.81       380\n",
      "    weighted avg       0.84      0.82      0.81       380\n",
      "\n"
     ]
    },
    {
     "name": "stderr",
     "output_type": "stream",
     "text": [
      "Training Epochs:  41%|████      | 820/2000 [10:00<11:44,  1.67it/s]"
     ]
    },
    {
     "name": "stdout",
     "output_type": "stream",
     "text": [
      "Epoch 820/2000, Loss: 0.0799\n",
      "Test Accuracy at Epoch 820: 81.58%\n",
      "Test F1-score at Epoch 820: 0.8325\n",
      "Classification Report at Epoch 820:\n",
      "                  precision    recall  f1-score   support\n",
      "\n",
      "    infringement       0.92      0.70      0.80       194\n",
      "non_infringement       0.75      0.94      0.83       186\n",
      "\n",
      "        accuracy                           0.82       380\n",
      "       macro avg       0.83      0.82      0.81       380\n",
      "    weighted avg       0.84      0.82      0.81       380\n",
      "\n"
     ]
    },
    {
     "name": "stderr",
     "output_type": "stream",
     "text": [
      "Training Epochs:  42%|████▏     | 830/2000 [10:05<10:40,  1.83it/s]"
     ]
    },
    {
     "name": "stdout",
     "output_type": "stream",
     "text": [
      "Epoch 830/2000, Loss: 0.0770\n",
      "Test Accuracy at Epoch 830: 81.84%\n",
      "Test F1-score at Epoch 830: 0.8369\n",
      "Classification Report at Epoch 830:\n",
      "                  precision    recall  f1-score   support\n",
      "\n",
      "    infringement       0.94      0.69      0.80       194\n",
      "non_infringement       0.75      0.95      0.84       186\n",
      "\n",
      "        accuracy                           0.82       380\n",
      "       macro avg       0.84      0.82      0.82       380\n",
      "    weighted avg       0.84      0.82      0.82       380\n",
      "\n"
     ]
    },
    {
     "name": "stderr",
     "output_type": "stream",
     "text": [
      "Training Epochs:  42%|████▏     | 840/2000 [10:10<11:15,  1.72it/s]"
     ]
    },
    {
     "name": "stdout",
     "output_type": "stream",
     "text": [
      "Epoch 840/2000, Loss: 0.0900\n",
      "Test Accuracy at Epoch 840: 81.84%\n",
      "Test F1-score at Epoch 840: 0.8384\n",
      "Classification Report at Epoch 840:\n",
      "                  precision    recall  f1-score   support\n",
      "\n",
      "    infringement       0.95      0.68      0.79       194\n",
      "non_infringement       0.74      0.96      0.84       186\n",
      "\n",
      "        accuracy                           0.82       380\n",
      "       macro avg       0.85      0.82      0.82       380\n",
      "    weighted avg       0.85      0.82      0.82       380\n",
      "\n"
     ]
    },
    {
     "name": "stderr",
     "output_type": "stream",
     "text": [
      "Training Epochs:  42%|████▎     | 850/2000 [10:16<11:02,  1.74it/s]"
     ]
    },
    {
     "name": "stdout",
     "output_type": "stream",
     "text": [
      "Epoch 850/2000, Loss: 0.0798\n",
      "Test Accuracy at Epoch 850: 82.11%\n",
      "Test F1-score at Epoch 850: 0.8381\n",
      "Classification Report at Epoch 850:\n",
      "                  precision    recall  f1-score   support\n",
      "\n",
      "    infringement       0.93      0.70      0.80       194\n",
      "non_infringement       0.75      0.95      0.84       186\n",
      "\n",
      "        accuracy                           0.82       380\n",
      "       macro avg       0.84      0.82      0.82       380\n",
      "    weighted avg       0.84      0.82      0.82       380\n",
      "\n"
     ]
    },
    {
     "name": "stderr",
     "output_type": "stream",
     "text": [
      "Training Epochs:  43%|████▎     | 860/2000 [10:21<10:18,  1.84it/s]"
     ]
    },
    {
     "name": "stdout",
     "output_type": "stream",
     "text": [
      "Epoch 860/2000, Loss: 0.0770\n",
      "Test Accuracy at Epoch 860: 81.58%\n",
      "Test F1-score at Epoch 860: 0.8349\n",
      "Classification Report at Epoch 860:\n",
      "                  precision    recall  f1-score   support\n",
      "\n",
      "    infringement       0.94      0.69      0.79       194\n",
      "non_infringement       0.74      0.95      0.83       186\n",
      "\n",
      "        accuracy                           0.82       380\n",
      "       macro avg       0.84      0.82      0.81       380\n",
      "    weighted avg       0.84      0.82      0.81       380\n",
      "\n"
     ]
    },
    {
     "name": "stderr",
     "output_type": "stream",
     "text": [
      "Training Epochs:  44%|████▎     | 870/2000 [10:26<07:56,  2.37it/s]"
     ]
    },
    {
     "name": "stdout",
     "output_type": "stream",
     "text": [
      "Epoch 870/2000, Loss: 0.0768\n",
      "Test Accuracy at Epoch 870: 81.58%\n",
      "Test F1-score at Epoch 870: 0.8357\n",
      "Classification Report at Epoch 870:\n",
      "                  precision    recall  f1-score   support\n",
      "\n",
      "    infringement       0.94      0.68      0.79       194\n",
      "non_infringement       0.74      0.96      0.84       186\n",
      "\n",
      "        accuracy                           0.82       380\n",
      "       macro avg       0.84      0.82      0.81       380\n",
      "    weighted avg       0.84      0.82      0.81       380\n",
      "\n"
     ]
    },
    {
     "name": "stderr",
     "output_type": "stream",
     "text": [
      "Training Epochs:  44%|████▍     | 880/2000 [10:28<03:55,  4.75it/s]"
     ]
    },
    {
     "name": "stdout",
     "output_type": "stream",
     "text": [
      "Epoch 880/2000, Loss: 0.0772\n",
      "Test Accuracy at Epoch 880: 81.58%\n",
      "Test F1-score at Epoch 880: 0.8357\n",
      "Classification Report at Epoch 880:\n",
      "                  precision    recall  f1-score   support\n",
      "\n",
      "    infringement       0.94      0.68      0.79       194\n",
      "non_infringement       0.74      0.96      0.84       186\n",
      "\n",
      "        accuracy                           0.82       380\n",
      "       macro avg       0.84      0.82      0.81       380\n",
      "    weighted avg       0.84      0.82      0.81       380\n",
      "\n"
     ]
    },
    {
     "name": "stderr",
     "output_type": "stream",
     "text": [
      "Training Epochs:  45%|████▍     | 891/2000 [10:29<02:04,  8.92it/s]"
     ]
    },
    {
     "name": "stdout",
     "output_type": "stream",
     "text": [
      "Epoch 890/2000, Loss: 0.0764\n",
      "Test Accuracy at Epoch 890: 81.58%\n",
      "Test F1-score at Epoch 890: 0.8341\n",
      "Classification Report at Epoch 890:\n",
      "                  precision    recall  f1-score   support\n",
      "\n",
      "    infringement       0.93      0.69      0.79       194\n",
      "non_infringement       0.75      0.95      0.83       186\n",
      "\n",
      "        accuracy                           0.82       380\n",
      "       macro avg       0.84      0.82      0.81       380\n",
      "    weighted avg       0.84      0.82      0.81       380\n",
      "\n"
     ]
    },
    {
     "name": "stderr",
     "output_type": "stream",
     "text": [
      "Training Epochs:  45%|████▌     | 900/2000 [10:34<11:11,  1.64it/s]"
     ]
    },
    {
     "name": "stdout",
     "output_type": "stream",
     "text": [
      "Epoch 900/2000, Loss: 0.0892\n",
      "Test Accuracy at Epoch 900: 81.32%\n",
      "Test F1-score at Epoch 900: 0.8289\n",
      "Classification Report at Epoch 900:\n",
      "                  precision    recall  f1-score   support\n",
      "\n",
      "    infringement       0.91      0.71      0.79       194\n",
      "non_infringement       0.75      0.92      0.83       186\n",
      "\n",
      "        accuracy                           0.81       380\n",
      "       macro avg       0.83      0.82      0.81       380\n",
      "    weighted avg       0.83      0.81      0.81       380\n",
      "\n"
     ]
    },
    {
     "name": "stderr",
     "output_type": "stream",
     "text": [
      "Training Epochs:  46%|████▌     | 910/2000 [10:40<11:17,  1.61it/s]"
     ]
    },
    {
     "name": "stdout",
     "output_type": "stream",
     "text": [
      "Epoch 910/2000, Loss: 0.0774\n",
      "Test Accuracy at Epoch 910: 81.58%\n",
      "Test F1-score at Epoch 910: 0.8325\n",
      "Classification Report at Epoch 910:\n",
      "                  precision    recall  f1-score   support\n",
      "\n",
      "    infringement       0.92      0.70      0.80       194\n",
      "non_infringement       0.75      0.94      0.83       186\n",
      "\n",
      "        accuracy                           0.82       380\n",
      "       macro avg       0.83      0.82      0.81       380\n",
      "    weighted avg       0.84      0.82      0.81       380\n",
      "\n"
     ]
    },
    {
     "name": "stderr",
     "output_type": "stream",
     "text": [
      "Training Epochs:  46%|████▌     | 920/2000 [10:47<11:55,  1.51it/s]"
     ]
    },
    {
     "name": "stdout",
     "output_type": "stream",
     "text": [
      "Epoch 920/2000, Loss: 0.0780\n",
      "Test Accuracy at Epoch 920: 81.58%\n",
      "Test F1-score at Epoch 920: 0.8357\n",
      "Classification Report at Epoch 920:\n",
      "                  precision    recall  f1-score   support\n",
      "\n",
      "    infringement       0.94      0.68      0.79       194\n",
      "non_infringement       0.74      0.96      0.84       186\n",
      "\n",
      "        accuracy                           0.82       380\n",
      "       macro avg       0.84      0.82      0.81       380\n",
      "    weighted avg       0.84      0.82      0.81       380\n",
      "\n"
     ]
    },
    {
     "name": "stderr",
     "output_type": "stream",
     "text": [
      "Training Epochs:  46%|████▋     | 930/2000 [10:53<10:29,  1.70it/s]"
     ]
    },
    {
     "name": "stdout",
     "output_type": "stream",
     "text": [
      "Epoch 930/2000, Loss: 0.0770\n",
      "Test Accuracy at Epoch 930: 81.84%\n",
      "Test F1-score at Epoch 930: 0.8369\n",
      "Classification Report at Epoch 930:\n",
      "                  precision    recall  f1-score   support\n",
      "\n",
      "    infringement       0.94      0.69      0.80       194\n",
      "non_infringement       0.75      0.95      0.84       186\n",
      "\n",
      "        accuracy                           0.82       380\n",
      "       macro avg       0.84      0.82      0.82       380\n",
      "    weighted avg       0.84      0.82      0.82       380\n",
      "\n"
     ]
    },
    {
     "name": "stderr",
     "output_type": "stream",
     "text": [
      "Training Epochs:  47%|████▋     | 940/2000 [10:59<11:31,  1.53it/s]"
     ]
    },
    {
     "name": "stdout",
     "output_type": "stream",
     "text": [
      "Epoch 940/2000, Loss: 0.0765\n",
      "Test Accuracy at Epoch 940: 81.58%\n",
      "Test F1-score at Epoch 940: 0.8357\n",
      "Classification Report at Epoch 940:\n",
      "                  precision    recall  f1-score   support\n",
      "\n",
      "    infringement       0.94      0.68      0.79       194\n",
      "non_infringement       0.74      0.96      0.84       186\n",
      "\n",
      "        accuracy                           0.82       380\n",
      "       macro avg       0.84      0.82      0.81       380\n",
      "    weighted avg       0.84      0.82      0.81       380\n",
      "\n"
     ]
    },
    {
     "name": "stderr",
     "output_type": "stream",
     "text": [
      "Training Epochs:  48%|████▊     | 950/2000 [11:05<09:52,  1.77it/s]"
     ]
    },
    {
     "name": "stdout",
     "output_type": "stream",
     "text": [
      "Epoch 950/2000, Loss: 0.0787\n",
      "Test Accuracy at Epoch 950: 81.58%\n",
      "Test F1-score at Epoch 950: 0.8357\n",
      "Classification Report at Epoch 950:\n",
      "                  precision    recall  f1-score   support\n",
      "\n",
      "    infringement       0.94      0.68      0.79       194\n",
      "non_infringement       0.74      0.96      0.84       186\n",
      "\n",
      "        accuracy                           0.82       380\n",
      "       macro avg       0.84      0.82      0.81       380\n",
      "    weighted avg       0.84      0.82      0.81       380\n",
      "\n"
     ]
    },
    {
     "name": "stderr",
     "output_type": "stream",
     "text": [
      "Training Epochs:  48%|████▊     | 960/2000 [11:10<09:40,  1.79it/s]"
     ]
    },
    {
     "name": "stdout",
     "output_type": "stream",
     "text": [
      "Epoch 960/2000, Loss: 0.0798\n",
      "Test Accuracy at Epoch 960: 81.58%\n",
      "Test F1-score at Epoch 960: 0.8325\n",
      "Classification Report at Epoch 960:\n",
      "                  precision    recall  f1-score   support\n",
      "\n",
      "    infringement       0.92      0.70      0.80       194\n",
      "non_infringement       0.75      0.94      0.83       186\n",
      "\n",
      "        accuracy                           0.82       380\n",
      "       macro avg       0.83      0.82      0.81       380\n",
      "    weighted avg       0.84      0.82      0.81       380\n",
      "\n"
     ]
    },
    {
     "name": "stderr",
     "output_type": "stream",
     "text": [
      "Training Epochs:  48%|████▊     | 970/2000 [11:16<10:05,  1.70it/s]"
     ]
    },
    {
     "name": "stdout",
     "output_type": "stream",
     "text": [
      "Epoch 970/2000, Loss: 0.0790\n",
      "Test Accuracy at Epoch 970: 81.58%\n",
      "Test F1-score at Epoch 970: 0.8357\n",
      "Classification Report at Epoch 970:\n",
      "                  precision    recall  f1-score   support\n",
      "\n",
      "    infringement       0.94      0.68      0.79       194\n",
      "non_infringement       0.74      0.96      0.84       186\n",
      "\n",
      "        accuracy                           0.82       380\n",
      "       macro avg       0.84      0.82      0.81       380\n",
      "    weighted avg       0.84      0.82      0.81       380\n",
      "\n"
     ]
    },
    {
     "name": "stderr",
     "output_type": "stream",
     "text": [
      "Training Epochs:  49%|████▉     | 980/2000 [11:21<09:48,  1.73it/s]"
     ]
    },
    {
     "name": "stdout",
     "output_type": "stream",
     "text": [
      "Epoch 980/2000, Loss: 0.0762\n",
      "Test Accuracy at Epoch 980: 81.32%\n",
      "Test F1-score at Epoch 980: 0.8314\n",
      "Classification Report at Epoch 980:\n",
      "                  precision    recall  f1-score   support\n",
      "\n",
      "    infringement       0.92      0.69      0.79       194\n",
      "non_infringement       0.74      0.94      0.83       186\n",
      "\n",
      "        accuracy                           0.81       380\n",
      "       macro avg       0.83      0.82      0.81       380\n",
      "    weighted avg       0.84      0.81      0.81       380\n",
      "\n"
     ]
    },
    {
     "name": "stderr",
     "output_type": "stream",
     "text": [
      "Training Epochs:  50%|████▉     | 990/2000 [11:26<09:16,  1.81it/s]"
     ]
    },
    {
     "name": "stdout",
     "output_type": "stream",
     "text": [
      "Epoch 990/2000, Loss: 0.0786\n",
      "Test Accuracy at Epoch 990: 81.32%\n",
      "Test F1-score at Epoch 990: 0.8314\n",
      "Classification Report at Epoch 990:\n",
      "                  precision    recall  f1-score   support\n",
      "\n",
      "    infringement       0.92      0.69      0.79       194\n",
      "non_infringement       0.74      0.94      0.83       186\n",
      "\n",
      "        accuracy                           0.81       380\n",
      "       macro avg       0.83      0.82      0.81       380\n",
      "    weighted avg       0.84      0.81      0.81       380\n",
      "\n"
     ]
    },
    {
     "name": "stderr",
     "output_type": "stream",
     "text": [
      "Training Epochs:  50%|█████     | 1000/2000 [11:32<09:03,  1.84it/s]"
     ]
    },
    {
     "name": "stdout",
     "output_type": "stream",
     "text": [
      "Epoch 1000/2000, Loss: 0.0808\n",
      "Test Accuracy at Epoch 1000: 81.58%\n",
      "Test F1-score at Epoch 1000: 0.8357\n",
      "Classification Report at Epoch 1000:\n",
      "                  precision    recall  f1-score   support\n",
      "\n",
      "    infringement       0.94      0.68      0.79       194\n",
      "non_infringement       0.74      0.96      0.84       186\n",
      "\n",
      "        accuracy                           0.82       380\n",
      "       macro avg       0.84      0.82      0.81       380\n",
      "    weighted avg       0.84      0.82      0.81       380\n",
      "\n"
     ]
    },
    {
     "name": "stderr",
     "output_type": "stream",
     "text": [
      "Training Epochs:  50%|█████     | 1010/2000 [11:35<04:17,  3.85it/s]"
     ]
    },
    {
     "name": "stdout",
     "output_type": "stream",
     "text": [
      "Epoch 1010/2000, Loss: 0.0783\n",
      "Test Accuracy at Epoch 1010: 81.58%\n",
      "Test F1-score at Epoch 1010: 0.8325\n",
      "Classification Report at Epoch 1010:\n",
      "                  precision    recall  f1-score   support\n",
      "\n",
      "    infringement       0.92      0.70      0.80       194\n",
      "non_infringement       0.75      0.94      0.83       186\n",
      "\n",
      "        accuracy                           0.82       380\n",
      "       macro avg       0.83      0.82      0.81       380\n",
      "    weighted avg       0.84      0.82      0.81       380\n",
      "\n"
     ]
    },
    {
     "name": "stderr",
     "output_type": "stream",
     "text": [
      "Training Epochs:  51%|█████     | 1021/2000 [11:36<01:35, 10.24it/s]"
     ]
    },
    {
     "name": "stdout",
     "output_type": "stream",
     "text": [
      "Epoch 1020/2000, Loss: 0.0759\n",
      "Test Accuracy at Epoch 1020: 81.58%\n",
      "Test F1-score at Epoch 1020: 0.8357\n",
      "Classification Report at Epoch 1020:\n",
      "                  precision    recall  f1-score   support\n",
      "\n",
      "    infringement       0.94      0.68      0.79       194\n",
      "non_infringement       0.74      0.96      0.84       186\n",
      "\n",
      "        accuracy                           0.82       380\n",
      "       macro avg       0.84      0.82      0.81       380\n",
      "    weighted avg       0.84      0.82      0.81       380\n",
      "\n"
     ]
    },
    {
     "name": "stderr",
     "output_type": "stream",
     "text": [
      "Training Epochs:  52%|█████▏    | 1031/2000 [11:38<01:54,  8.47it/s]"
     ]
    },
    {
     "name": "stdout",
     "output_type": "stream",
     "text": [
      "Epoch 1030/2000, Loss: 0.0789\n",
      "Test Accuracy at Epoch 1030: 81.58%\n",
      "Test F1-score at Epoch 1030: 0.8357\n",
      "Classification Report at Epoch 1030:\n",
      "                  precision    recall  f1-score   support\n",
      "\n",
      "    infringement       0.94      0.68      0.79       194\n",
      "non_infringement       0.74      0.96      0.84       186\n",
      "\n",
      "        accuracy                           0.82       380\n",
      "       macro avg       0.84      0.82      0.81       380\n",
      "    weighted avg       0.84      0.82      0.81       380\n",
      "\n"
     ]
    },
    {
     "name": "stderr",
     "output_type": "stream",
     "text": [
      "Training Epochs:  52%|█████▏    | 1041/2000 [11:38<01:12, 13.18it/s]"
     ]
    },
    {
     "name": "stdout",
     "output_type": "stream",
     "text": [
      "Epoch 1040/2000, Loss: 0.0779\n",
      "Test Accuracy at Epoch 1040: 83.42%\n",
      "Test F1-score at Epoch 1040: 0.8475\n",
      "Classification Report at Epoch 1040:\n",
      "                  precision    recall  f1-score   support\n",
      "\n",
      "    infringement       0.93      0.73      0.82       194\n",
      "non_infringement       0.77      0.94      0.85       186\n",
      "\n",
      "        accuracy                           0.83       380\n",
      "       macro avg       0.85      0.84      0.83       380\n",
      "    weighted avg       0.85      0.83      0.83       380\n",
      "\n"
     ]
    },
    {
     "name": "stderr",
     "output_type": "stream",
     "text": [
      "Training Epochs:  53%|█████▎    | 1051/2000 [11:39<00:55, 17.18it/s]"
     ]
    },
    {
     "name": "stdout",
     "output_type": "stream",
     "text": [
      "Epoch 1050/2000, Loss: 0.0759\n",
      "Test Accuracy at Epoch 1050: 81.58%\n",
      "Test F1-score at Epoch 1050: 0.8357\n",
      "Classification Report at Epoch 1050:\n",
      "                  precision    recall  f1-score   support\n",
      "\n",
      "    infringement       0.94      0.68      0.79       194\n",
      "non_infringement       0.74      0.96      0.84       186\n",
      "\n",
      "        accuracy                           0.82       380\n",
      "       macro avg       0.84      0.82      0.81       380\n",
      "    weighted avg       0.84      0.82      0.81       380\n",
      "\n"
     ]
    },
    {
     "name": "stderr",
     "output_type": "stream",
     "text": [
      "Training Epochs:  53%|█████▎    | 1062/2000 [11:40<00:52, 17.85it/s]"
     ]
    },
    {
     "name": "stdout",
     "output_type": "stream",
     "text": [
      "Epoch 1060/2000, Loss: 0.0756\n",
      "Test Accuracy at Epoch 1060: 81.58%\n",
      "Test F1-score at Epoch 1060: 0.8349\n",
      "Classification Report at Epoch 1060:\n",
      "                  precision    recall  f1-score   support\n",
      "\n",
      "    infringement       0.94      0.69      0.79       194\n",
      "non_infringement       0.74      0.95      0.83       186\n",
      "\n",
      "        accuracy                           0.82       380\n",
      "       macro avg       0.84      0.82      0.81       380\n",
      "    weighted avg       0.84      0.82      0.81       380\n",
      "\n"
     ]
    },
    {
     "name": "stderr",
     "output_type": "stream",
     "text": [
      "Training Epochs:  54%|█████▎    | 1074/2000 [11:40<00:47, 19.64it/s]"
     ]
    },
    {
     "name": "stdout",
     "output_type": "stream",
     "text": [
      "Epoch 1070/2000, Loss: 0.0778\n",
      "Test Accuracy at Epoch 1070: 82.11%\n",
      "Test F1-score at Epoch 1070: 0.8373\n",
      "Classification Report at Epoch 1070:\n",
      "                  precision    recall  f1-score   support\n",
      "\n",
      "    infringement       0.93      0.71      0.80       194\n",
      "non_infringement       0.75      0.94      0.84       186\n",
      "\n",
      "        accuracy                           0.82       380\n",
      "       macro avg       0.84      0.82      0.82       380\n",
      "    weighted avg       0.84      0.82      0.82       380\n",
      "\n"
     ]
    },
    {
     "name": "stderr",
     "output_type": "stream",
     "text": [
      "Training Epochs:  54%|█████▍    | 1080/2000 [11:41<01:04, 14.16it/s]"
     ]
    },
    {
     "name": "stdout",
     "output_type": "stream",
     "text": [
      "Epoch 1080/2000, Loss: 0.0754\n",
      "Test Accuracy at Epoch 1080: 81.32%\n",
      "Test F1-score at Epoch 1080: 0.8329\n",
      "Classification Report at Epoch 1080:\n",
      "                  precision    recall  f1-score   support\n",
      "\n",
      "    infringement       0.94      0.68      0.79       194\n",
      "non_infringement       0.74      0.95      0.83       186\n",
      "\n",
      "        accuracy                           0.81       380\n",
      "       macro avg       0.84      0.82      0.81       380\n",
      "    weighted avg       0.84      0.81      0.81       380\n",
      "\n"
     ]
    },
    {
     "name": "stderr",
     "output_type": "stream",
     "text": [
      "Training Epochs:  55%|█████▍    | 1090/2000 [11:45<06:21,  2.39it/s]"
     ]
    },
    {
     "name": "stdout",
     "output_type": "stream",
     "text": [
      "Epoch 1090/2000, Loss: 0.0837\n",
      "Test Accuracy at Epoch 1090: 81.58%\n",
      "Test F1-score at Epoch 1090: 0.8357\n",
      "Classification Report at Epoch 1090:\n",
      "                  precision    recall  f1-score   support\n",
      "\n",
      "    infringement       0.94      0.68      0.79       194\n",
      "non_infringement       0.74      0.96      0.84       186\n",
      "\n",
      "        accuracy                           0.82       380\n",
      "       macro avg       0.84      0.82      0.81       380\n",
      "    weighted avg       0.84      0.82      0.81       380\n",
      "\n"
     ]
    },
    {
     "name": "stderr",
     "output_type": "stream",
     "text": [
      "Training Epochs:  55%|█████▌    | 1100/2000 [11:50<07:59,  1.88it/s]"
     ]
    },
    {
     "name": "stdout",
     "output_type": "stream",
     "text": [
      "Epoch 1100/2000, Loss: 0.0785\n",
      "Test Accuracy at Epoch 1100: 82.89%\n",
      "Test F1-score at Epoch 1100: 0.8434\n",
      "Classification Report at Epoch 1100:\n",
      "                  precision    recall  f1-score   support\n",
      "\n",
      "    infringement       0.93      0.72      0.81       194\n",
      "non_infringement       0.76      0.94      0.84       186\n",
      "\n",
      "        accuracy                           0.83       380\n",
      "       macro avg       0.85      0.83      0.83       380\n",
      "    weighted avg       0.85      0.83      0.83       380\n",
      "\n"
     ]
    },
    {
     "name": "stderr",
     "output_type": "stream",
     "text": [
      "Training Epochs:  56%|█████▌    | 1110/2000 [11:55<07:51,  1.89it/s]"
     ]
    },
    {
     "name": "stdout",
     "output_type": "stream",
     "text": [
      "Epoch 1110/2000, Loss: 0.0766\n",
      "Test Accuracy at Epoch 1110: 81.32%\n",
      "Test F1-score at Epoch 1110: 0.8329\n",
      "Classification Report at Epoch 1110:\n",
      "                  precision    recall  f1-score   support\n",
      "\n",
      "    infringement       0.94      0.68      0.79       194\n",
      "non_infringement       0.74      0.95      0.83       186\n",
      "\n",
      "        accuracy                           0.81       380\n",
      "       macro avg       0.84      0.82      0.81       380\n",
      "    weighted avg       0.84      0.81      0.81       380\n",
      "\n"
     ]
    },
    {
     "name": "stderr",
     "output_type": "stream",
     "text": [
      "Training Epochs:  56%|█████▌    | 1120/2000 [12:00<07:34,  1.93it/s]"
     ]
    },
    {
     "name": "stdout",
     "output_type": "stream",
     "text": [
      "Epoch 1120/2000, Loss: 0.0759\n",
      "Test Accuracy at Epoch 1120: 82.89%\n",
      "Test F1-score at Epoch 1120: 0.8441\n",
      "Classification Report at Epoch 1120:\n",
      "                  precision    recall  f1-score   support\n",
      "\n",
      "    infringement       0.93      0.72      0.81       194\n",
      "non_infringement       0.76      0.95      0.84       186\n",
      "\n",
      "        accuracy                           0.83       380\n",
      "       macro avg       0.85      0.83      0.83       380\n",
      "    weighted avg       0.85      0.83      0.83       380\n",
      "\n"
     ]
    },
    {
     "name": "stderr",
     "output_type": "stream",
     "text": [
      "Training Epochs:  56%|█████▋    | 1130/2000 [12:05<07:28,  1.94it/s]"
     ]
    },
    {
     "name": "stdout",
     "output_type": "stream",
     "text": [
      "Epoch 1130/2000, Loss: 0.0753\n",
      "Test Accuracy at Epoch 1130: 81.58%\n",
      "Test F1-score at Epoch 1130: 0.8349\n",
      "Classification Report at Epoch 1130:\n",
      "                  precision    recall  f1-score   support\n",
      "\n",
      "    infringement       0.94      0.69      0.79       194\n",
      "non_infringement       0.74      0.95      0.83       186\n",
      "\n",
      "        accuracy                           0.82       380\n",
      "       macro avg       0.84      0.82      0.81       380\n",
      "    weighted avg       0.84      0.82      0.81       380\n",
      "\n"
     ]
    },
    {
     "name": "stderr",
     "output_type": "stream",
     "text": [
      "Training Epochs:  57%|█████▋    | 1140/2000 [12:10<07:03,  2.03it/s]"
     ]
    },
    {
     "name": "stdout",
     "output_type": "stream",
     "text": [
      "Epoch 1140/2000, Loss: 0.0835\n",
      "Test Accuracy at Epoch 1140: 82.63%\n",
      "Test F1-score at Epoch 1140: 0.8390\n",
      "Classification Report at Epoch 1140:\n",
      "                  precision    recall  f1-score   support\n",
      "\n",
      "    infringement       0.91      0.73      0.81       194\n",
      "non_infringement       0.77      0.92      0.84       186\n",
      "\n",
      "        accuracy                           0.83       380\n",
      "       macro avg       0.84      0.83      0.83       380\n",
      "    weighted avg       0.84      0.83      0.82       380\n",
      "\n"
     ]
    },
    {
     "name": "stderr",
     "output_type": "stream",
     "text": [
      "Training Epochs:  57%|█████▊    | 1150/2000 [12:15<07:58,  1.78it/s]"
     ]
    },
    {
     "name": "stdout",
     "output_type": "stream",
     "text": [
      "Epoch 1150/2000, Loss: 0.0820\n",
      "Test Accuracy at Epoch 1150: 80.79%\n",
      "Test F1-score at Epoch 1150: 0.8298\n",
      "Classification Report at Epoch 1150:\n",
      "                  precision    recall  f1-score   support\n",
      "\n",
      "    infringement       0.94      0.66      0.78       194\n",
      "non_infringement       0.73      0.96      0.83       186\n",
      "\n",
      "        accuracy                           0.81       380\n",
      "       macro avg       0.84      0.81      0.80       380\n",
      "    weighted avg       0.84      0.81      0.80       380\n",
      "\n"
     ]
    },
    {
     "name": "stderr",
     "output_type": "stream",
     "text": [
      "Training Epochs:  58%|█████▊    | 1160/2000 [12:20<07:31,  1.86it/s]"
     ]
    },
    {
     "name": "stdout",
     "output_type": "stream",
     "text": [
      "Epoch 1160/2000, Loss: 0.0757\n",
      "Test Accuracy at Epoch 1160: 81.32%\n",
      "Test F1-score at Epoch 1160: 0.8329\n",
      "Classification Report at Epoch 1160:\n",
      "                  precision    recall  f1-score   support\n",
      "\n",
      "    infringement       0.94      0.68      0.79       194\n",
      "non_infringement       0.74      0.95      0.83       186\n",
      "\n",
      "        accuracy                           0.81       380\n",
      "       macro avg       0.84      0.82      0.81       380\n",
      "    weighted avg       0.84      0.81      0.81       380\n",
      "\n"
     ]
    },
    {
     "name": "stderr",
     "output_type": "stream",
     "text": [
      "Training Epochs:  58%|█████▊    | 1170/2000 [12:25<07:36,  1.82it/s]"
     ]
    },
    {
     "name": "stdout",
     "output_type": "stream",
     "text": [
      "Epoch 1170/2000, Loss: 0.0755\n",
      "Test Accuracy at Epoch 1170: 82.89%\n",
      "Test F1-score at Epoch 1170: 0.8441\n",
      "Classification Report at Epoch 1170:\n",
      "                  precision    recall  f1-score   support\n",
      "\n",
      "    infringement       0.93      0.72      0.81       194\n",
      "non_infringement       0.76      0.95      0.84       186\n",
      "\n",
      "        accuracy                           0.83       380\n",
      "       macro avg       0.85      0.83      0.83       380\n",
      "    weighted avg       0.85      0.83      0.83       380\n",
      "\n"
     ]
    },
    {
     "name": "stderr",
     "output_type": "stream",
     "text": [
      "Training Epochs:  59%|█████▉    | 1180/2000 [12:31<07:54,  1.73it/s]"
     ]
    },
    {
     "name": "stdout",
     "output_type": "stream",
     "text": [
      "Epoch 1180/2000, Loss: 0.0753\n",
      "Test Accuracy at Epoch 1180: 81.32%\n",
      "Test F1-score at Epoch 1180: 0.8329\n",
      "Classification Report at Epoch 1180:\n",
      "                  precision    recall  f1-score   support\n",
      "\n",
      "    infringement       0.94      0.68      0.79       194\n",
      "non_infringement       0.74      0.95      0.83       186\n",
      "\n",
      "        accuracy                           0.81       380\n",
      "       macro avg       0.84      0.82      0.81       380\n",
      "    weighted avg       0.84      0.81      0.81       380\n",
      "\n"
     ]
    },
    {
     "name": "stderr",
     "output_type": "stream",
     "text": [
      "Training Epochs:  60%|█████▉    | 1190/2000 [12:36<07:46,  1.73it/s]"
     ]
    },
    {
     "name": "stdout",
     "output_type": "stream",
     "text": [
      "Epoch 1190/2000, Loss: 0.0750\n",
      "Test Accuracy at Epoch 1190: 81.32%\n",
      "Test F1-score at Epoch 1190: 0.8329\n",
      "Classification Report at Epoch 1190:\n",
      "                  precision    recall  f1-score   support\n",
      "\n",
      "    infringement       0.94      0.68      0.79       194\n",
      "non_infringement       0.74      0.95      0.83       186\n",
      "\n",
      "        accuracy                           0.81       380\n",
      "       macro avg       0.84      0.82      0.81       380\n",
      "    weighted avg       0.84      0.81      0.81       380\n",
      "\n"
     ]
    },
    {
     "name": "stderr",
     "output_type": "stream",
     "text": [
      "Training Epochs:  60%|██████    | 1200/2000 [12:41<07:03,  1.89it/s]"
     ]
    },
    {
     "name": "stdout",
     "output_type": "stream",
     "text": [
      "Epoch 1200/2000, Loss: 0.0751\n",
      "Test Accuracy at Epoch 1200: 81.32%\n",
      "Test F1-score at Epoch 1200: 0.8329\n",
      "Classification Report at Epoch 1200:\n",
      "                  precision    recall  f1-score   support\n",
      "\n",
      "    infringement       0.94      0.68      0.79       194\n",
      "non_infringement       0.74      0.95      0.83       186\n",
      "\n",
      "        accuracy                           0.81       380\n",
      "       macro avg       0.84      0.82      0.81       380\n",
      "    weighted avg       0.84      0.81      0.81       380\n",
      "\n"
     ]
    },
    {
     "name": "stderr",
     "output_type": "stream",
     "text": [
      "Training Epochs:  60%|██████    | 1210/2000 [12:46<07:16,  1.81it/s]"
     ]
    },
    {
     "name": "stdout",
     "output_type": "stream",
     "text": [
      "Epoch 1210/2000, Loss: 0.0809\n",
      "Test Accuracy at Epoch 1210: 81.58%\n",
      "Test F1-score at Epoch 1210: 0.8357\n",
      "Classification Report at Epoch 1210:\n",
      "                  precision    recall  f1-score   support\n",
      "\n",
      "    infringement       0.94      0.68      0.79       194\n",
      "non_infringement       0.74      0.96      0.84       186\n",
      "\n",
      "        accuracy                           0.82       380\n",
      "       macro avg       0.84      0.82      0.81       380\n",
      "    weighted avg       0.84      0.82      0.81       380\n",
      "\n"
     ]
    },
    {
     "name": "stderr",
     "output_type": "stream",
     "text": [
      "Training Epochs:  61%|██████    | 1220/2000 [12:52<07:39,  1.70it/s]"
     ]
    },
    {
     "name": "stdout",
     "output_type": "stream",
     "text": [
      "Epoch 1220/2000, Loss: 0.0782\n",
      "Test Accuracy at Epoch 1220: 81.58%\n",
      "Test F1-score at Epoch 1220: 0.8357\n",
      "Classification Report at Epoch 1220:\n",
      "                  precision    recall  f1-score   support\n",
      "\n",
      "    infringement       0.94      0.68      0.79       194\n",
      "non_infringement       0.74      0.96      0.84       186\n",
      "\n",
      "        accuracy                           0.82       380\n",
      "       macro avg       0.84      0.82      0.81       380\n",
      "    weighted avg       0.84      0.82      0.81       380\n",
      "\n"
     ]
    },
    {
     "name": "stderr",
     "output_type": "stream",
     "text": [
      "Training Epochs:  62%|██████▏   | 1230/2000 [12:57<07:18,  1.76it/s]"
     ]
    },
    {
     "name": "stdout",
     "output_type": "stream",
     "text": [
      "Epoch 1230/2000, Loss: 0.0758\n",
      "Test Accuracy at Epoch 1230: 82.63%\n",
      "Test F1-score at Epoch 1230: 0.8421\n",
      "Classification Report at Epoch 1230:\n",
      "                  precision    recall  f1-score   support\n",
      "\n",
      "    infringement       0.93      0.71      0.81       194\n",
      "non_infringement       0.76      0.95      0.84       186\n",
      "\n",
      "        accuracy                           0.83       380\n",
      "       macro avg       0.85      0.83      0.82       380\n",
      "    weighted avg       0.85      0.83      0.82       380\n",
      "\n"
     ]
    },
    {
     "name": "stderr",
     "output_type": "stream",
     "text": [
      "Training Epochs:  62%|██████▏   | 1240/2000 [13:02<06:43,  1.88it/s]"
     ]
    },
    {
     "name": "stdout",
     "output_type": "stream",
     "text": [
      "Epoch 1240/2000, Loss: 0.0751\n",
      "Test Accuracy at Epoch 1240: 82.89%\n",
      "Test F1-score at Epoch 1240: 0.8441\n",
      "Classification Report at Epoch 1240:\n",
      "                  precision    recall  f1-score   support\n",
      "\n",
      "    infringement       0.93      0.72      0.81       194\n",
      "non_infringement       0.76      0.95      0.84       186\n",
      "\n",
      "        accuracy                           0.83       380\n",
      "       macro avg       0.85      0.83      0.83       380\n",
      "    weighted avg       0.85      0.83      0.83       380\n",
      "\n"
     ]
    },
    {
     "name": "stderr",
     "output_type": "stream",
     "text": [
      "Training Epochs:  62%|██████▎   | 1250/2000 [13:07<06:20,  1.97it/s]"
     ]
    },
    {
     "name": "stdout",
     "output_type": "stream",
     "text": [
      "Epoch 1250/2000, Loss: 0.0750\n",
      "Test Accuracy at Epoch 1250: 81.32%\n",
      "Test F1-score at Epoch 1250: 0.8329\n",
      "Classification Report at Epoch 1250:\n",
      "                  precision    recall  f1-score   support\n",
      "\n",
      "    infringement       0.94      0.68      0.79       194\n",
      "non_infringement       0.74      0.95      0.83       186\n",
      "\n",
      "        accuracy                           0.81       380\n",
      "       macro avg       0.84      0.82      0.81       380\n",
      "    weighted avg       0.84      0.81      0.81       380\n",
      "\n"
     ]
    },
    {
     "name": "stderr",
     "output_type": "stream",
     "text": [
      "Training Epochs:  63%|██████▎   | 1261/2000 [13:09<01:33,  7.91it/s]"
     ]
    },
    {
     "name": "stdout",
     "output_type": "stream",
     "text": [
      "Epoch 1260/2000, Loss: 0.0748\n",
      "Test Accuracy at Epoch 1260: 82.89%\n",
      "Test F1-score at Epoch 1260: 0.8441\n",
      "Classification Report at Epoch 1260:\n",
      "                  precision    recall  f1-score   support\n",
      "\n",
      "    infringement       0.93      0.72      0.81       194\n",
      "non_infringement       0.76      0.95      0.84       186\n",
      "\n",
      "        accuracy                           0.83       380\n",
      "       macro avg       0.85      0.83      0.83       380\n",
      "    weighted avg       0.85      0.83      0.83       380\n",
      "\n"
     ]
    },
    {
     "name": "stderr",
     "output_type": "stream",
     "text": [
      "Training Epochs:  64%|██████▎   | 1271/2000 [13:10<01:08, 10.68it/s]"
     ]
    },
    {
     "name": "stdout",
     "output_type": "stream",
     "text": [
      "Epoch 1270/2000, Loss: 0.0759\n",
      "Test Accuracy at Epoch 1270: 82.89%\n",
      "Test F1-score at Epoch 1270: 0.8441\n",
      "Classification Report at Epoch 1270:\n",
      "                  precision    recall  f1-score   support\n",
      "\n",
      "    infringement       0.93      0.72      0.81       194\n",
      "non_infringement       0.76      0.95      0.84       186\n",
      "\n",
      "        accuracy                           0.83       380\n",
      "       macro avg       0.85      0.83      0.83       380\n",
      "    weighted avg       0.85      0.83      0.83       380\n",
      "\n"
     ]
    },
    {
     "name": "stderr",
     "output_type": "stream",
     "text": [
      "Training Epochs:  64%|██████▍   | 1281/2000 [13:11<02:03,  5.84it/s]"
     ]
    },
    {
     "name": "stdout",
     "output_type": "stream",
     "text": [
      "Epoch 1280/2000, Loss: 0.0761\n",
      "Test Accuracy at Epoch 1280: 82.63%\n",
      "Test F1-score at Epoch 1280: 0.8429\n",
      "Classification Report at Epoch 1280:\n",
      "                  precision    recall  f1-score   support\n",
      "\n",
      "    infringement       0.94      0.71      0.81       194\n",
      "non_infringement       0.76      0.95      0.84       186\n",
      "\n",
      "        accuracy                           0.83       380\n",
      "       macro avg       0.85      0.83      0.82       380\n",
      "    weighted avg       0.85      0.83      0.82       380\n",
      "\n"
     ]
    },
    {
     "name": "stderr",
     "output_type": "stream",
     "text": [
      "Training Epochs:  65%|██████▍   | 1292/2000 [13:12<00:58, 12.06it/s]"
     ]
    },
    {
     "name": "stdout",
     "output_type": "stream",
     "text": [
      "Epoch 1290/2000, Loss: 0.0765\n",
      "Test Accuracy at Epoch 1290: 82.89%\n",
      "Test F1-score at Epoch 1290: 0.8441\n",
      "Classification Report at Epoch 1290:\n",
      "                  precision    recall  f1-score   support\n",
      "\n",
      "    infringement       0.93      0.72      0.81       194\n",
      "non_infringement       0.76      0.95      0.84       186\n",
      "\n",
      "        accuracy                           0.83       380\n",
      "       macro avg       0.85      0.83      0.83       380\n",
      "    weighted avg       0.85      0.83      0.83       380\n",
      "\n"
     ]
    },
    {
     "name": "stderr",
     "output_type": "stream",
     "text": [
      "Training Epochs:  65%|██████▌   | 1302/2000 [13:13<00:52, 13.38it/s]"
     ]
    },
    {
     "name": "stdout",
     "output_type": "stream",
     "text": [
      "Epoch 1300/2000, Loss: 0.0757\n",
      "Test Accuracy at Epoch 1300: 81.58%\n",
      "Test F1-score at Epoch 1300: 0.8349\n",
      "Classification Report at Epoch 1300:\n",
      "                  precision    recall  f1-score   support\n",
      "\n",
      "    infringement       0.94      0.69      0.79       194\n",
      "non_infringement       0.74      0.95      0.83       186\n",
      "\n",
      "        accuracy                           0.82       380\n",
      "       macro avg       0.84      0.82      0.81       380\n",
      "    weighted avg       0.84      0.82      0.81       380\n",
      "\n"
     ]
    },
    {
     "name": "stderr",
     "output_type": "stream",
     "text": [
      "Training Epochs:  66%|██████▌   | 1313/2000 [13:13<00:40, 16.86it/s]"
     ]
    },
    {
     "name": "stdout",
     "output_type": "stream",
     "text": [
      "Epoch 1310/2000, Loss: 0.0752\n",
      "Test Accuracy at Epoch 1310: 82.89%\n",
      "Test F1-score at Epoch 1310: 0.8441\n",
      "Classification Report at Epoch 1310:\n",
      "                  precision    recall  f1-score   support\n",
      "\n",
      "    infringement       0.93      0.72      0.81       194\n",
      "non_infringement       0.76      0.95      0.84       186\n",
      "\n",
      "        accuracy                           0.83       380\n",
      "       macro avg       0.85      0.83      0.83       380\n",
      "    weighted avg       0.85      0.83      0.83       380\n",
      "\n"
     ]
    },
    {
     "name": "stderr",
     "output_type": "stream",
     "text": [
      "Training Epochs:  66%|██████▌   | 1322/2000 [13:14<00:45, 15.07it/s]"
     ]
    },
    {
     "name": "stdout",
     "output_type": "stream",
     "text": [
      "Epoch 1320/2000, Loss: 0.0749\n",
      "Test Accuracy at Epoch 1320: 82.89%\n",
      "Test F1-score at Epoch 1320: 0.8449\n",
      "Classification Report at Epoch 1320:\n",
      "                  precision    recall  f1-score   support\n",
      "\n",
      "    infringement       0.94      0.71      0.81       194\n",
      "non_infringement       0.76      0.95      0.84       186\n",
      "\n",
      "        accuracy                           0.83       380\n",
      "       macro avg       0.85      0.83      0.83       380\n",
      "    weighted avg       0.85      0.83      0.83       380\n",
      "\n"
     ]
    },
    {
     "name": "stderr",
     "output_type": "stream",
     "text": [
      "Training Epochs:  67%|██████▋   | 1331/2000 [13:15<01:01, 10.85it/s]"
     ]
    },
    {
     "name": "stdout",
     "output_type": "stream",
     "text": [
      "Epoch 1330/2000, Loss: 0.0788\n",
      "Test Accuracy at Epoch 1330: 81.58%\n",
      "Test F1-score at Epoch 1330: 0.8357\n",
      "Classification Report at Epoch 1330:\n",
      "                  precision    recall  f1-score   support\n",
      "\n",
      "    infringement       0.94      0.68      0.79       194\n",
      "non_infringement       0.74      0.96      0.84       186\n",
      "\n",
      "        accuracy                           0.82       380\n",
      "       macro avg       0.84      0.82      0.81       380\n",
      "    weighted avg       0.84      0.82      0.81       380\n",
      "\n"
     ]
    },
    {
     "name": "stderr",
     "output_type": "stream",
     "text": [
      "Training Epochs:  67%|██████▋   | 1343/2000 [13:16<00:51, 12.88it/s]"
     ]
    },
    {
     "name": "stdout",
     "output_type": "stream",
     "text": [
      "Epoch 1340/2000, Loss: 0.0752\n",
      "Test Accuracy at Epoch 1340: 82.89%\n",
      "Test F1-score at Epoch 1340: 0.8441\n",
      "Classification Report at Epoch 1340:\n",
      "                  precision    recall  f1-score   support\n",
      "\n",
      "    infringement       0.93      0.72      0.81       194\n",
      "non_infringement       0.76      0.95      0.84       186\n",
      "\n",
      "        accuracy                           0.83       380\n",
      "       macro avg       0.85      0.83      0.83       380\n",
      "    weighted avg       0.85      0.83      0.83       380\n",
      "\n"
     ]
    },
    {
     "name": "stderr",
     "output_type": "stream",
     "text": [
      "Training Epochs:  67%|██████▋   | 1349/2000 [13:16<00:37, 17.35it/s]"
     ]
    },
    {
     "name": "stdout",
     "output_type": "stream",
     "text": [
      "Epoch 1350/2000, Loss: 0.0752\n",
      "Test Accuracy at Epoch 1350: 83.16%\n",
      "Test F1-score at Epoch 1350: 0.8469\n",
      "Classification Report at Epoch 1350:\n",
      "                  precision    recall  f1-score   support\n",
      "\n",
      "    infringement       0.94      0.72      0.81       194\n",
      "non_infringement       0.76      0.95      0.85       186\n",
      "\n",
      "        accuracy                           0.83       380\n",
      "       macro avg       0.85      0.83      0.83       380\n",
      "    weighted avg       0.85      0.83      0.83       380\n",
      "\n"
     ]
    },
    {
     "name": "stderr",
     "output_type": "stream",
     "text": [
      "Training Epochs:  68%|██████▊   | 1360/2000 [13:21<05:03,  2.11it/s]"
     ]
    },
    {
     "name": "stdout",
     "output_type": "stream",
     "text": [
      "Epoch 1360/2000, Loss: 0.0764\n",
      "Test Accuracy at Epoch 1360: 83.16%\n",
      "Test F1-score at Epoch 1360: 0.8476\n",
      "Classification Report at Epoch 1360:\n",
      "                  precision    recall  f1-score   support\n",
      "\n",
      "    infringement       0.95      0.71      0.81       194\n",
      "non_infringement       0.76      0.96      0.85       186\n",
      "\n",
      "        accuracy                           0.83       380\n",
      "       macro avg       0.85      0.83      0.83       380\n",
      "    weighted avg       0.85      0.83      0.83       380\n",
      "\n",
      "New best model saved with F1-score 0.8476 at epoch 1360\n",
      "Best Classification Report at Epoch 1360:\n",
      "                  precision    recall  f1-score   support\n",
      "\n",
      "    infringement       0.95      0.71      0.81       194\n",
      "non_infringement       0.76      0.96      0.85       186\n",
      "\n",
      "        accuracy                           0.83       380\n",
      "       macro avg       0.85      0.83      0.83       380\n",
      "    weighted avg       0.85      0.83      0.83       380\n",
      "\n"
     ]
    },
    {
     "name": "stderr",
     "output_type": "stream",
     "text": [
      "Training Epochs:  68%|██████▊   | 1370/2000 [13:27<05:53,  1.78it/s]"
     ]
    },
    {
     "name": "stdout",
     "output_type": "stream",
     "text": [
      "Epoch 1370/2000, Loss: 0.0751\n",
      "Test Accuracy at Epoch 1370: 82.89%\n",
      "Test F1-score at Epoch 1370: 0.8441\n",
      "Classification Report at Epoch 1370:\n",
      "                  precision    recall  f1-score   support\n",
      "\n",
      "    infringement       0.93      0.72      0.81       194\n",
      "non_infringement       0.76      0.95      0.84       186\n",
      "\n",
      "        accuracy                           0.83       380\n",
      "       macro avg       0.85      0.83      0.83       380\n",
      "    weighted avg       0.85      0.83      0.83       380\n",
      "\n"
     ]
    },
    {
     "name": "stderr",
     "output_type": "stream",
     "text": [
      "Training Epochs:  69%|██████▉   | 1380/2000 [13:32<05:42,  1.81it/s]"
     ]
    },
    {
     "name": "stdout",
     "output_type": "stream",
     "text": [
      "Epoch 1380/2000, Loss: 0.0764\n",
      "Test Accuracy at Epoch 1380: 82.89%\n",
      "Test F1-score at Epoch 1380: 0.8441\n",
      "Classification Report at Epoch 1380:\n",
      "                  precision    recall  f1-score   support\n",
      "\n",
      "    infringement       0.93      0.72      0.81       194\n",
      "non_infringement       0.76      0.95      0.84       186\n",
      "\n",
      "        accuracy                           0.83       380\n",
      "       macro avg       0.85      0.83      0.83       380\n",
      "    weighted avg       0.85      0.83      0.83       380\n",
      "\n"
     ]
    },
    {
     "name": "stderr",
     "output_type": "stream",
     "text": [
      "Training Epochs:  70%|██████▉   | 1390/2000 [13:37<05:36,  1.81it/s]"
     ]
    },
    {
     "name": "stdout",
     "output_type": "stream",
     "text": [
      "Epoch 1390/2000, Loss: 0.0748\n",
      "Test Accuracy at Epoch 1390: 82.89%\n",
      "Test F1-score at Epoch 1390: 0.8441\n",
      "Classification Report at Epoch 1390:\n",
      "                  precision    recall  f1-score   support\n",
      "\n",
      "    infringement       0.93      0.72      0.81       194\n",
      "non_infringement       0.76      0.95      0.84       186\n",
      "\n",
      "        accuracy                           0.83       380\n",
      "       macro avg       0.85      0.83      0.83       380\n",
      "    weighted avg       0.85      0.83      0.83       380\n",
      "\n"
     ]
    },
    {
     "name": "stderr",
     "output_type": "stream",
     "text": [
      "Training Epochs:  70%|███████   | 1400/2000 [13:43<05:21,  1.86it/s]"
     ]
    },
    {
     "name": "stdout",
     "output_type": "stream",
     "text": [
      "Epoch 1400/2000, Loss: 0.0756\n",
      "Test Accuracy at Epoch 1400: 83.16%\n",
      "Test F1-score at Epoch 1400: 0.8469\n",
      "Classification Report at Epoch 1400:\n",
      "                  precision    recall  f1-score   support\n",
      "\n",
      "    infringement       0.94      0.72      0.81       194\n",
      "non_infringement       0.76      0.95      0.85       186\n",
      "\n",
      "        accuracy                           0.83       380\n",
      "       macro avg       0.85      0.83      0.83       380\n",
      "    weighted avg       0.85      0.83      0.83       380\n",
      "\n"
     ]
    },
    {
     "name": "stderr",
     "output_type": "stream",
     "text": [
      "Training Epochs:  70%|███████   | 1410/2000 [13:48<05:15,  1.87it/s]"
     ]
    },
    {
     "name": "stdout",
     "output_type": "stream",
     "text": [
      "Epoch 1410/2000, Loss: 0.0801\n",
      "Test Accuracy at Epoch 1410: 79.21%\n",
      "Test F1-score at Epoch 1410: 0.8184\n",
      "Classification Report at Epoch 1410:\n",
      "                  precision    recall  f1-score   support\n",
      "\n",
      "    infringement       0.94      0.63      0.76       194\n",
      "non_infringement       0.71      0.96      0.82       186\n",
      "\n",
      "        accuracy                           0.79       380\n",
      "       macro avg       0.83      0.80      0.79       380\n",
      "    weighted avg       0.83      0.79      0.79       380\n",
      "\n"
     ]
    },
    {
     "name": "stderr",
     "output_type": "stream",
     "text": [
      "Training Epochs:  71%|███████   | 1420/2000 [13:53<05:14,  1.84it/s]"
     ]
    },
    {
     "name": "stdout",
     "output_type": "stream",
     "text": [
      "Epoch 1420/2000, Loss: 0.0781\n",
      "Test Accuracy at Epoch 1420: 82.89%\n",
      "Test F1-score at Epoch 1420: 0.8441\n",
      "Classification Report at Epoch 1420:\n",
      "                  precision    recall  f1-score   support\n",
      "\n",
      "    infringement       0.93      0.72      0.81       194\n",
      "non_infringement       0.76      0.95      0.84       186\n",
      "\n",
      "        accuracy                           0.83       380\n",
      "       macro avg       0.85      0.83      0.83       380\n",
      "    weighted avg       0.85      0.83      0.83       380\n",
      "\n"
     ]
    },
    {
     "name": "stderr",
     "output_type": "stream",
     "text": [
      "Training Epochs:  72%|███████▏  | 1430/2000 [13:58<05:10,  1.83it/s]"
     ]
    },
    {
     "name": "stdout",
     "output_type": "stream",
     "text": [
      "Epoch 1430/2000, Loss: 0.0774\n",
      "Test Accuracy at Epoch 1430: 81.58%\n",
      "Test F1-score at Epoch 1430: 0.8349\n",
      "Classification Report at Epoch 1430:\n",
      "                  precision    recall  f1-score   support\n",
      "\n",
      "    infringement       0.94      0.69      0.79       194\n",
      "non_infringement       0.74      0.95      0.83       186\n",
      "\n",
      "        accuracy                           0.82       380\n",
      "       macro avg       0.84      0.82      0.81       380\n",
      "    weighted avg       0.84      0.82      0.81       380\n",
      "\n"
     ]
    },
    {
     "name": "stderr",
     "output_type": "stream",
     "text": [
      "Training Epochs:  72%|███████▏  | 1440/2000 [14:03<05:04,  1.84it/s]"
     ]
    },
    {
     "name": "stdout",
     "output_type": "stream",
     "text": [
      "Epoch 1440/2000, Loss: 0.0752\n",
      "Test Accuracy at Epoch 1440: 82.89%\n",
      "Test F1-score at Epoch 1440: 0.8449\n",
      "Classification Report at Epoch 1440:\n",
      "                  precision    recall  f1-score   support\n",
      "\n",
      "    infringement       0.94      0.71      0.81       194\n",
      "non_infringement       0.76      0.95      0.84       186\n",
      "\n",
      "        accuracy                           0.83       380\n",
      "       macro avg       0.85      0.83      0.83       380\n",
      "    weighted avg       0.85      0.83      0.83       380\n",
      "\n"
     ]
    },
    {
     "name": "stderr",
     "output_type": "stream",
     "text": [
      "Training Epochs:  72%|███████▎  | 1450/2000 [14:08<05:05,  1.80it/s]"
     ]
    },
    {
     "name": "stdout",
     "output_type": "stream",
     "text": [
      "Epoch 1450/2000, Loss: 0.0748\n",
      "Test Accuracy at Epoch 1450: 82.89%\n",
      "Test F1-score at Epoch 1450: 0.8449\n",
      "Classification Report at Epoch 1450:\n",
      "                  precision    recall  f1-score   support\n",
      "\n",
      "    infringement       0.94      0.71      0.81       194\n",
      "non_infringement       0.76      0.95      0.84       186\n",
      "\n",
      "        accuracy                           0.83       380\n",
      "       macro avg       0.85      0.83      0.83       380\n",
      "    weighted avg       0.85      0.83      0.83       380\n",
      "\n"
     ]
    },
    {
     "name": "stderr",
     "output_type": "stream",
     "text": [
      "Training Epochs:  73%|███████▎  | 1460/2000 [14:14<04:56,  1.82it/s]"
     ]
    },
    {
     "name": "stdout",
     "output_type": "stream",
     "text": [
      "Epoch 1460/2000, Loss: 0.0748\n",
      "Test Accuracy at Epoch 1460: 82.89%\n",
      "Test F1-score at Epoch 1460: 0.8441\n",
      "Classification Report at Epoch 1460:\n",
      "                  precision    recall  f1-score   support\n",
      "\n",
      "    infringement       0.93      0.72      0.81       194\n",
      "non_infringement       0.76      0.95      0.84       186\n",
      "\n",
      "        accuracy                           0.83       380\n",
      "       macro avg       0.85      0.83      0.83       380\n",
      "    weighted avg       0.85      0.83      0.83       380\n",
      "\n"
     ]
    },
    {
     "name": "stderr",
     "output_type": "stream",
     "text": [
      "Training Epochs:  74%|███████▎  | 1470/2000 [14:19<04:38,  1.91it/s]"
     ]
    },
    {
     "name": "stdout",
     "output_type": "stream",
     "text": [
      "Epoch 1470/2000, Loss: 0.0769\n",
      "Test Accuracy at Epoch 1470: 82.89%\n",
      "Test F1-score at Epoch 1470: 0.8441\n",
      "Classification Report at Epoch 1470:\n",
      "                  precision    recall  f1-score   support\n",
      "\n",
      "    infringement       0.93      0.72      0.81       194\n",
      "non_infringement       0.76      0.95      0.84       186\n",
      "\n",
      "        accuracy                           0.83       380\n",
      "       macro avg       0.85      0.83      0.83       380\n",
      "    weighted avg       0.85      0.83      0.83       380\n",
      "\n"
     ]
    },
    {
     "name": "stderr",
     "output_type": "stream",
     "text": [
      "Training Epochs:  74%|███████▍  | 1479/2000 [14:22<02:23,  3.62it/s]"
     ]
    },
    {
     "name": "stdout",
     "output_type": "stream",
     "text": [
      "Epoch 1480/2000, Loss: 0.0746\n",
      "Test Accuracy at Epoch 1480: 83.16%\n",
      "Test F1-score at Epoch 1480: 0.8469\n",
      "Classification Report at Epoch 1480:\n",
      "                  precision    recall  f1-score   support\n",
      "\n",
      "    infringement       0.94      0.72      0.81       194\n",
      "non_infringement       0.76      0.95      0.85       186\n",
      "\n",
      "        accuracy                           0.83       380\n",
      "       macro avg       0.85      0.83      0.83       380\n",
      "    weighted avg       0.85      0.83      0.83       380\n",
      "\n"
     ]
    },
    {
     "name": "stderr",
     "output_type": "stream",
     "text": [
      "Training Epochs:  75%|███████▍  | 1493/2000 [14:23<00:38, 13.02it/s]"
     ]
    },
    {
     "name": "stdout",
     "output_type": "stream",
     "text": [
      "Epoch 1490/2000, Loss: 0.0772\n",
      "Test Accuracy at Epoch 1490: 83.16%\n",
      "Test F1-score at Epoch 1490: 0.8476\n",
      "Classification Report at Epoch 1490:\n",
      "                  precision    recall  f1-score   support\n",
      "\n",
      "    infringement       0.95      0.71      0.81       194\n",
      "non_infringement       0.76      0.96      0.85       186\n",
      "\n",
      "        accuracy                           0.83       380\n",
      "       macro avg       0.85      0.83      0.83       380\n",
      "    weighted avg       0.85      0.83      0.83       380\n",
      "\n"
     ]
    },
    {
     "name": "stderr",
     "output_type": "stream",
     "text": [
      "Training Epochs:  75%|███████▌  | 1501/2000 [14:24<00:39, 12.61it/s]"
     ]
    },
    {
     "name": "stdout",
     "output_type": "stream",
     "text": [
      "Epoch 1500/2000, Loss: 0.0753\n",
      "Test Accuracy at Epoch 1500: 82.89%\n",
      "Test F1-score at Epoch 1500: 0.8441\n",
      "Classification Report at Epoch 1500:\n",
      "                  precision    recall  f1-score   support\n",
      "\n",
      "    infringement       0.93      0.72      0.81       194\n",
      "non_infringement       0.76      0.95      0.84       186\n",
      "\n",
      "        accuracy                           0.83       380\n",
      "       macro avg       0.85      0.83      0.83       380\n",
      "    weighted avg       0.85      0.83      0.83       380\n",
      "\n"
     ]
    },
    {
     "name": "stderr",
     "output_type": "stream",
     "text": [
      "Training Epochs:  76%|███████▌  | 1512/2000 [14:25<00:30, 16.19it/s]"
     ]
    },
    {
     "name": "stdout",
     "output_type": "stream",
     "text": [
      "Epoch 1510/2000, Loss: 0.0747\n",
      "Test Accuracy at Epoch 1510: 83.16%\n",
      "Test F1-score at Epoch 1510: 0.8469\n",
      "Classification Report at Epoch 1510:\n",
      "                  precision    recall  f1-score   support\n",
      "\n",
      "    infringement       0.94      0.72      0.81       194\n",
      "non_infringement       0.76      0.95      0.85       186\n",
      "\n",
      "        accuracy                           0.83       380\n",
      "       macro avg       0.85      0.83      0.83       380\n",
      "    weighted avg       0.85      0.83      0.83       380\n",
      "\n"
     ]
    },
    {
     "name": "stderr",
     "output_type": "stream",
     "text": [
      "Training Epochs:  76%|███████▌  | 1519/2000 [14:25<00:27, 17.51it/s]"
     ]
    },
    {
     "name": "stdout",
     "output_type": "stream",
     "text": [
      "Epoch 1520/2000, Loss: 0.0774\n",
      "Test Accuracy at Epoch 1520: 83.16%\n",
      "Test F1-score at Epoch 1520: 0.8476\n",
      "Classification Report at Epoch 1520:\n",
      "                  precision    recall  f1-score   support\n",
      "\n",
      "    infringement       0.95      0.71      0.81       194\n",
      "non_infringement       0.76      0.96      0.85       186\n",
      "\n",
      "        accuracy                           0.83       380\n",
      "       macro avg       0.85      0.83      0.83       380\n",
      "    weighted avg       0.85      0.83      0.83       380\n",
      "\n"
     ]
    },
    {
     "name": "stderr",
     "output_type": "stream",
     "text": [
      "Training Epochs:  77%|███████▋  | 1532/2000 [14:26<00:30, 15.43it/s]"
     ]
    },
    {
     "name": "stdout",
     "output_type": "stream",
     "text": [
      "Epoch 1530/2000, Loss: 0.0748\n",
      "Test Accuracy at Epoch 1530: 82.89%\n",
      "Test F1-score at Epoch 1530: 0.8441\n",
      "Classification Report at Epoch 1530:\n",
      "                  precision    recall  f1-score   support\n",
      "\n",
      "    infringement       0.93      0.72      0.81       194\n",
      "non_infringement       0.76      0.95      0.84       186\n",
      "\n",
      "        accuracy                           0.83       380\n",
      "       macro avg       0.85      0.83      0.83       380\n",
      "    weighted avg       0.85      0.83      0.83       380\n",
      "\n"
     ]
    },
    {
     "name": "stderr",
     "output_type": "stream",
     "text": [
      "Training Epochs:  77%|███████▋  | 1541/2000 [14:27<00:28, 16.22it/s]"
     ]
    },
    {
     "name": "stdout",
     "output_type": "stream",
     "text": [
      "Epoch 1540/2000, Loss: 0.0752\n",
      "Test Accuracy at Epoch 1540: 83.16%\n",
      "Test F1-score at Epoch 1540: 0.8469\n",
      "Classification Report at Epoch 1540:\n",
      "                  precision    recall  f1-score   support\n",
      "\n",
      "    infringement       0.94      0.72      0.81       194\n",
      "non_infringement       0.76      0.95      0.85       186\n",
      "\n",
      "        accuracy                           0.83       380\n",
      "       macro avg       0.85      0.83      0.83       380\n",
      "    weighted avg       0.85      0.83      0.83       380\n",
      "\n"
     ]
    },
    {
     "name": "stderr",
     "output_type": "stream",
     "text": [
      "Training Epochs:  78%|███████▊  | 1550/2000 [14:28<01:24,  5.33it/s]"
     ]
    },
    {
     "name": "stdout",
     "output_type": "stream",
     "text": [
      "Epoch 1550/2000, Loss: 0.0768\n",
      "Test Accuracy at Epoch 1550: 83.16%\n",
      "Test F1-score at Epoch 1550: 0.8476\n",
      "Classification Report at Epoch 1550:\n",
      "                  precision    recall  f1-score   support\n",
      "\n",
      "    infringement       0.95      0.71      0.81       194\n",
      "non_infringement       0.76      0.96      0.85       186\n",
      "\n",
      "        accuracy                           0.83       380\n",
      "       macro avg       0.85      0.83      0.83       380\n",
      "    weighted avg       0.85      0.83      0.83       380\n",
      "\n"
     ]
    },
    {
     "name": "stderr",
     "output_type": "stream",
     "text": [
      "Training Epochs:  78%|███████▊  | 1560/2000 [14:33<03:50,  1.91it/s]"
     ]
    },
    {
     "name": "stdout",
     "output_type": "stream",
     "text": [
      "Epoch 1560/2000, Loss: 0.0745\n",
      "Test Accuracy at Epoch 1560: 82.89%\n",
      "Test F1-score at Epoch 1560: 0.8441\n",
      "Classification Report at Epoch 1560:\n",
      "                  precision    recall  f1-score   support\n",
      "\n",
      "    infringement       0.93      0.72      0.81       194\n",
      "non_infringement       0.76      0.95      0.84       186\n",
      "\n",
      "        accuracy                           0.83       380\n",
      "       macro avg       0.85      0.83      0.83       380\n",
      "    weighted avg       0.85      0.83      0.83       380\n",
      "\n"
     ]
    },
    {
     "name": "stderr",
     "output_type": "stream",
     "text": [
      "Training Epochs:  78%|███████▊  | 1570/2000 [14:39<04:04,  1.76it/s]"
     ]
    },
    {
     "name": "stdout",
     "output_type": "stream",
     "text": [
      "Epoch 1570/2000, Loss: 0.0758\n",
      "Test Accuracy at Epoch 1570: 82.89%\n",
      "Test F1-score at Epoch 1570: 0.8441\n",
      "Classification Report at Epoch 1570:\n",
      "                  precision    recall  f1-score   support\n",
      "\n",
      "    infringement       0.93      0.72      0.81       194\n",
      "non_infringement       0.76      0.95      0.84       186\n",
      "\n",
      "        accuracy                           0.83       380\n",
      "       macro avg       0.85      0.83      0.83       380\n",
      "    weighted avg       0.85      0.83      0.83       380\n",
      "\n"
     ]
    },
    {
     "name": "stderr",
     "output_type": "stream",
     "text": [
      "Training Epochs:  79%|███████▉  | 1580/2000 [14:44<03:54,  1.79it/s]"
     ]
    },
    {
     "name": "stdout",
     "output_type": "stream",
     "text": [
      "Epoch 1580/2000, Loss: 0.0764\n",
      "Test Accuracy at Epoch 1580: 83.16%\n",
      "Test F1-score at Epoch 1580: 0.8476\n",
      "Classification Report at Epoch 1580:\n",
      "                  precision    recall  f1-score   support\n",
      "\n",
      "    infringement       0.95      0.71      0.81       194\n",
      "non_infringement       0.76      0.96      0.85       186\n",
      "\n",
      "        accuracy                           0.83       380\n",
      "       macro avg       0.85      0.83      0.83       380\n",
      "    weighted avg       0.85      0.83      0.83       380\n",
      "\n"
     ]
    },
    {
     "name": "stderr",
     "output_type": "stream",
     "text": [
      "Training Epochs:  80%|███████▉  | 1590/2000 [14:49<03:41,  1.85it/s]"
     ]
    },
    {
     "name": "stdout",
     "output_type": "stream",
     "text": [
      "Epoch 1590/2000, Loss: 0.0745\n",
      "Test Accuracy at Epoch 1590: 82.89%\n",
      "Test F1-score at Epoch 1590: 0.8441\n",
      "Classification Report at Epoch 1590:\n",
      "                  precision    recall  f1-score   support\n",
      "\n",
      "    infringement       0.93      0.72      0.81       194\n",
      "non_infringement       0.76      0.95      0.84       186\n",
      "\n",
      "        accuracy                           0.83       380\n",
      "       macro avg       0.85      0.83      0.83       380\n",
      "    weighted avg       0.85      0.83      0.83       380\n",
      "\n"
     ]
    },
    {
     "name": "stderr",
     "output_type": "stream",
     "text": [
      "Training Epochs:  80%|████████  | 1600/2000 [14:54<03:34,  1.87it/s]"
     ]
    },
    {
     "name": "stdout",
     "output_type": "stream",
     "text": [
      "Epoch 1600/2000, Loss: 0.0759\n",
      "Test Accuracy at Epoch 1600: 83.16%\n",
      "Test F1-score at Epoch 1600: 0.8469\n",
      "Classification Report at Epoch 1600:\n",
      "                  precision    recall  f1-score   support\n",
      "\n",
      "    infringement       0.94      0.72      0.81       194\n",
      "non_infringement       0.76      0.95      0.85       186\n",
      "\n",
      "        accuracy                           0.83       380\n",
      "       macro avg       0.85      0.83      0.83       380\n",
      "    weighted avg       0.85      0.83      0.83       380\n",
      "\n"
     ]
    },
    {
     "name": "stderr",
     "output_type": "stream",
     "text": [
      "Training Epochs:  80%|████████  | 1610/2000 [15:00<03:38,  1.79it/s]"
     ]
    },
    {
     "name": "stdout",
     "output_type": "stream",
     "text": [
      "Epoch 1610/2000, Loss: 0.0758\n",
      "Test Accuracy at Epoch 1610: 82.89%\n",
      "Test F1-score at Epoch 1610: 0.8449\n",
      "Classification Report at Epoch 1610:\n",
      "                  precision    recall  f1-score   support\n",
      "\n",
      "    infringement       0.94      0.71      0.81       194\n",
      "non_infringement       0.76      0.95      0.84       186\n",
      "\n",
      "        accuracy                           0.83       380\n",
      "       macro avg       0.85      0.83      0.83       380\n",
      "    weighted avg       0.85      0.83      0.83       380\n",
      "\n"
     ]
    },
    {
     "name": "stderr",
     "output_type": "stream",
     "text": [
      "Training Epochs:  81%|████████  | 1620/2000 [15:05<03:32,  1.79it/s]"
     ]
    },
    {
     "name": "stdout",
     "output_type": "stream",
     "text": [
      "Epoch 1620/2000, Loss: 0.0745\n",
      "Test Accuracy at Epoch 1620: 82.89%\n",
      "Test F1-score at Epoch 1620: 0.8449\n",
      "Classification Report at Epoch 1620:\n",
      "                  precision    recall  f1-score   support\n",
      "\n",
      "    infringement       0.94      0.71      0.81       194\n",
      "non_infringement       0.76      0.95      0.84       186\n",
      "\n",
      "        accuracy                           0.83       380\n",
      "       macro avg       0.85      0.83      0.83       380\n",
      "    weighted avg       0.85      0.83      0.83       380\n",
      "\n"
     ]
    },
    {
     "name": "stderr",
     "output_type": "stream",
     "text": [
      "Training Epochs:  81%|████████▏ | 1629/2000 [15:09<03:00,  2.06it/s]"
     ]
    },
    {
     "name": "stdout",
     "output_type": "stream",
     "text": [
      "Epoch 1630/2000, Loss: 0.0746\n",
      "Test Accuracy at Epoch 1630: 83.42%\n",
      "Test F1-score at Epoch 1630: 0.8482\n"
     ]
    },
    {
     "name": "stderr",
     "output_type": "stream",
     "text": [
      "Training Epochs:  82%|████████▏ | 1630/2000 [15:10<03:29,  1.76it/s]"
     ]
    },
    {
     "name": "stdout",
     "output_type": "stream",
     "text": [
      "Classification Report at Epoch 1630:\n",
      "                  precision    recall  f1-score   support\n",
      "\n",
      "    infringement       0.93      0.73      0.82       194\n",
      "non_infringement       0.77      0.95      0.85       186\n",
      "\n",
      "        accuracy                           0.83       380\n",
      "       macro avg       0.85      0.84      0.83       380\n",
      "    weighted avg       0.85      0.83      0.83       380\n",
      "\n",
      "New best model saved with F1-score 0.8482 at epoch 1630\n",
      "Best Classification Report at Epoch 1630:\n",
      "                  precision    recall  f1-score   support\n",
      "\n",
      "    infringement       0.93      0.73      0.82       194\n",
      "non_infringement       0.77      0.95      0.85       186\n",
      "\n",
      "        accuracy                           0.83       380\n",
      "       macro avg       0.85      0.84      0.83       380\n",
      "    weighted avg       0.85      0.83      0.83       380\n",
      "\n"
     ]
    },
    {
     "name": "stderr",
     "output_type": "stream",
     "text": [
      "Training Epochs:  82%|████████▏ | 1640/2000 [15:15<03:06,  1.93it/s]"
     ]
    },
    {
     "name": "stdout",
     "output_type": "stream",
     "text": [
      "Epoch 1640/2000, Loss: 0.0759\n",
      "Test Accuracy at Epoch 1640: 83.42%\n",
      "Test F1-score at Epoch 1640: 0.8482\n",
      "Classification Report at Epoch 1640:\n",
      "                  precision    recall  f1-score   support\n",
      "\n",
      "    infringement       0.93      0.73      0.82       194\n",
      "non_infringement       0.77      0.95      0.85       186\n",
      "\n",
      "        accuracy                           0.83       380\n",
      "       macro avg       0.85      0.84      0.83       380\n",
      "    weighted avg       0.85      0.83      0.83       380\n",
      "\n"
     ]
    },
    {
     "name": "stderr",
     "output_type": "stream",
     "text": [
      "Training Epochs:  82%|████████▎ | 1650/2000 [15:20<03:02,  1.92it/s]"
     ]
    },
    {
     "name": "stdout",
     "output_type": "stream",
     "text": [
      "Epoch 1650/2000, Loss: 0.0753\n",
      "Test Accuracy at Epoch 1650: 83.42%\n",
      "Test F1-score at Epoch 1650: 0.8482\n",
      "Classification Report at Epoch 1650:\n",
      "                  precision    recall  f1-score   support\n",
      "\n",
      "    infringement       0.93      0.73      0.82       194\n",
      "non_infringement       0.77      0.95      0.85       186\n",
      "\n",
      "        accuracy                           0.83       380\n",
      "       macro avg       0.85      0.84      0.83       380\n",
      "    weighted avg       0.85      0.83      0.83       380\n",
      "\n"
     ]
    },
    {
     "name": "stderr",
     "output_type": "stream",
     "text": [
      "Training Epochs:  83%|████████▎ | 1660/2000 [15:25<03:02,  1.87it/s]"
     ]
    },
    {
     "name": "stdout",
     "output_type": "stream",
     "text": [
      "Epoch 1660/2000, Loss: 0.0764\n",
      "Test Accuracy at Epoch 1660: 82.89%\n",
      "Test F1-score at Epoch 1660: 0.8449\n",
      "Classification Report at Epoch 1660:\n",
      "                  precision    recall  f1-score   support\n",
      "\n",
      "    infringement       0.94      0.71      0.81       194\n",
      "non_infringement       0.76      0.95      0.84       186\n",
      "\n",
      "        accuracy                           0.83       380\n",
      "       macro avg       0.85      0.83      0.83       380\n",
      "    weighted avg       0.85      0.83      0.83       380\n",
      "\n"
     ]
    },
    {
     "name": "stderr",
     "output_type": "stream",
     "text": [
      "Training Epochs:  84%|████████▎ | 1670/2000 [15:30<02:49,  1.94it/s]"
     ]
    },
    {
     "name": "stdout",
     "output_type": "stream",
     "text": [
      "Epoch 1670/2000, Loss: 0.0745\n",
      "Test Accuracy at Epoch 1670: 83.42%\n",
      "Test F1-score at Epoch 1670: 0.8482\n",
      "Classification Report at Epoch 1670:\n",
      "                  precision    recall  f1-score   support\n",
      "\n",
      "    infringement       0.93      0.73      0.82       194\n",
      "non_infringement       0.77      0.95      0.85       186\n",
      "\n",
      "        accuracy                           0.83       380\n",
      "       macro avg       0.85      0.84      0.83       380\n",
      "    weighted avg       0.85      0.83      0.83       380\n",
      "\n"
     ]
    },
    {
     "name": "stderr",
     "output_type": "stream",
     "text": [
      "Training Epochs:  84%|████████▍ | 1680/2000 [15:35<02:47,  1.91it/s]"
     ]
    },
    {
     "name": "stdout",
     "output_type": "stream",
     "text": [
      "Epoch 1680/2000, Loss: 0.0768\n",
      "Test Accuracy at Epoch 1680: 83.42%\n",
      "Test F1-score at Epoch 1680: 0.8482\n",
      "Classification Report at Epoch 1680:\n",
      "                  precision    recall  f1-score   support\n",
      "\n",
      "    infringement       0.93      0.73      0.82       194\n",
      "non_infringement       0.77      0.95      0.85       186\n",
      "\n",
      "        accuracy                           0.83       380\n",
      "       macro avg       0.85      0.84      0.83       380\n",
      "    weighted avg       0.85      0.83      0.83       380\n",
      "\n"
     ]
    },
    {
     "name": "stderr",
     "output_type": "stream",
     "text": [
      "Training Epochs:  84%|████████▍ | 1690/2000 [15:40<02:56,  1.76it/s]"
     ]
    },
    {
     "name": "stdout",
     "output_type": "stream",
     "text": [
      "Epoch 1690/2000, Loss: 0.0750\n",
      "Test Accuracy at Epoch 1690: 83.42%\n",
      "Test F1-score at Epoch 1690: 0.8489\n",
      "Classification Report at Epoch 1690:\n",
      "                  precision    recall  f1-score   support\n",
      "\n",
      "    infringement       0.94      0.72      0.82       194\n",
      "non_infringement       0.77      0.95      0.85       186\n",
      "\n",
      "        accuracy                           0.83       380\n",
      "       macro avg       0.85      0.84      0.83       380\n",
      "    weighted avg       0.85      0.83      0.83       380\n",
      "\n",
      "New best model saved with F1-score 0.8489 at epoch 1690\n",
      "Best Classification Report at Epoch 1690:\n",
      "                  precision    recall  f1-score   support\n",
      "\n",
      "    infringement       0.94      0.72      0.82       194\n",
      "non_infringement       0.77      0.95      0.85       186\n",
      "\n",
      "        accuracy                           0.83       380\n",
      "       macro avg       0.85      0.84      0.83       380\n",
      "    weighted avg       0.85      0.83      0.83       380\n",
      "\n"
     ]
    },
    {
     "name": "stderr",
     "output_type": "stream",
     "text": [
      "Training Epochs:  85%|████████▌ | 1700/2000 [15:46<02:53,  1.73it/s]"
     ]
    },
    {
     "name": "stdout",
     "output_type": "stream",
     "text": [
      "Epoch 1700/2000, Loss: 0.0758\n",
      "Test Accuracy at Epoch 1700: 82.89%\n",
      "Test F1-score at Epoch 1700: 0.8449\n",
      "Classification Report at Epoch 1700:\n",
      "                  precision    recall  f1-score   support\n",
      "\n",
      "    infringement       0.94      0.71      0.81       194\n",
      "non_infringement       0.76      0.95      0.84       186\n",
      "\n",
      "        accuracy                           0.83       380\n",
      "       macro avg       0.85      0.83      0.83       380\n",
      "    weighted avg       0.85      0.83      0.83       380\n",
      "\n"
     ]
    },
    {
     "name": "stderr",
     "output_type": "stream",
     "text": [
      "Training Epochs:  86%|████████▌ | 1710/2000 [15:51<02:41,  1.79it/s]"
     ]
    },
    {
     "name": "stdout",
     "output_type": "stream",
     "text": [
      "Epoch 1710/2000, Loss: 0.0750\n",
      "Test Accuracy at Epoch 1710: 83.42%\n",
      "Test F1-score at Epoch 1710: 0.8489\n",
      "Classification Report at Epoch 1710:\n",
      "                  precision    recall  f1-score   support\n",
      "\n",
      "    infringement       0.94      0.72      0.82       194\n",
      "non_infringement       0.77      0.95      0.85       186\n",
      "\n",
      "        accuracy                           0.83       380\n",
      "       macro avg       0.85      0.84      0.83       380\n",
      "    weighted avg       0.85      0.83      0.83       380\n",
      "\n"
     ]
    },
    {
     "name": "stderr",
     "output_type": "stream",
     "text": [
      "Training Epochs:  86%|████████▌ | 1720/2000 [15:56<02:34,  1.82it/s]"
     ]
    },
    {
     "name": "stdout",
     "output_type": "stream",
     "text": [
      "Epoch 1720/2000, Loss: 0.0776\n",
      "Test Accuracy at Epoch 1720: 82.89%\n",
      "Test F1-score at Epoch 1720: 0.8449\n",
      "Classification Report at Epoch 1720:\n",
      "                  precision    recall  f1-score   support\n",
      "\n",
      "    infringement       0.94      0.71      0.81       194\n",
      "non_infringement       0.76      0.95      0.84       186\n",
      "\n",
      "        accuracy                           0.83       380\n",
      "       macro avg       0.85      0.83      0.83       380\n",
      "    weighted avg       0.85      0.83      0.83       380\n",
      "\n"
     ]
    },
    {
     "name": "stderr",
     "output_type": "stream",
     "text": [
      "Training Epochs:  86%|████████▋ | 1730/2000 [16:02<02:24,  1.87it/s]"
     ]
    },
    {
     "name": "stdout",
     "output_type": "stream",
     "text": [
      "Epoch 1730/2000, Loss: 0.0750\n",
      "Test Accuracy at Epoch 1730: 83.42%\n",
      "Test F1-score at Epoch 1730: 0.8475\n",
      "Classification Report at Epoch 1730:\n",
      "                  precision    recall  f1-score   support\n",
      "\n",
      "    infringement       0.93      0.73      0.82       194\n",
      "non_infringement       0.77      0.94      0.85       186\n",
      "\n",
      "        accuracy                           0.83       380\n",
      "       macro avg       0.85      0.84      0.83       380\n",
      "    weighted avg       0.85      0.83      0.83       380\n",
      "\n"
     ]
    },
    {
     "name": "stderr",
     "output_type": "stream",
     "text": [
      "Training Epochs:  87%|████████▋ | 1740/2000 [16:07<02:25,  1.78it/s]"
     ]
    },
    {
     "name": "stdout",
     "output_type": "stream",
     "text": [
      "Epoch 1740/2000, Loss: 0.0750\n",
      "Test Accuracy at Epoch 1740: 83.68%\n",
      "Test F1-score at Epoch 1740: 0.8510\n",
      "Classification Report at Epoch 1740:\n",
      "                  precision    recall  f1-score   support\n",
      "\n",
      "    infringement       0.94      0.73      0.82       194\n",
      "non_infringement       0.77      0.95      0.85       186\n",
      "\n",
      "        accuracy                           0.84       380\n",
      "       macro avg       0.85      0.84      0.84       380\n",
      "    weighted avg       0.86      0.84      0.84       380\n",
      "\n",
      "New best model saved with F1-score 0.8510 at epoch 1740\n",
      "Best Classification Report at Epoch 1740:\n",
      "                  precision    recall  f1-score   support\n",
      "\n",
      "    infringement       0.94      0.73      0.82       194\n",
      "non_infringement       0.77      0.95      0.85       186\n",
      "\n",
      "        accuracy                           0.84       380\n",
      "       macro avg       0.85      0.84      0.84       380\n",
      "    weighted avg       0.86      0.84      0.84       380\n",
      "\n"
     ]
    },
    {
     "name": "stderr",
     "output_type": "stream",
     "text": [
      "Training Epochs:  88%|████████▊ | 1750/2000 [16:12<02:16,  1.83it/s]"
     ]
    },
    {
     "name": "stdout",
     "output_type": "stream",
     "text": [
      "Epoch 1750/2000, Loss: 0.0766\n",
      "Test Accuracy at Epoch 1750: 83.42%\n",
      "Test F1-score at Epoch 1750: 0.8489\n",
      "Classification Report at Epoch 1750:\n",
      "                  precision    recall  f1-score   support\n",
      "\n",
      "    infringement       0.94      0.72      0.82       194\n",
      "non_infringement       0.77      0.95      0.85       186\n",
      "\n",
      "        accuracy                           0.83       380\n",
      "       macro avg       0.85      0.84      0.83       380\n",
      "    weighted avg       0.85      0.83      0.83       380\n",
      "\n"
     ]
    },
    {
     "name": "stderr",
     "output_type": "stream",
     "text": [
      "Training Epochs:  88%|████████▊ | 1760/2000 [16:17<02:08,  1.87it/s]"
     ]
    },
    {
     "name": "stdout",
     "output_type": "stream",
     "text": [
      "Epoch 1760/2000, Loss: 0.0748\n",
      "Test Accuracy at Epoch 1760: 83.42%\n",
      "Test F1-score at Epoch 1760: 0.8475\n",
      "Classification Report at Epoch 1760:\n",
      "                  precision    recall  f1-score   support\n",
      "\n",
      "    infringement       0.93      0.73      0.82       194\n",
      "non_infringement       0.77      0.94      0.85       186\n",
      "\n",
      "        accuracy                           0.83       380\n",
      "       macro avg       0.85      0.84      0.83       380\n",
      "    weighted avg       0.85      0.83      0.83       380\n",
      "\n"
     ]
    },
    {
     "name": "stderr",
     "output_type": "stream",
     "text": [
      "Training Epochs:  88%|████████▊ | 1770/2000 [16:22<01:57,  1.96it/s]"
     ]
    },
    {
     "name": "stdout",
     "output_type": "stream",
     "text": [
      "Epoch 1770/2000, Loss: 0.0746\n",
      "Test Accuracy at Epoch 1770: 83.68%\n",
      "Test F1-score at Epoch 1770: 0.8510\n",
      "Classification Report at Epoch 1770:\n",
      "                  precision    recall  f1-score   support\n",
      "\n",
      "    infringement       0.94      0.73      0.82       194\n",
      "non_infringement       0.77      0.95      0.85       186\n",
      "\n",
      "        accuracy                           0.84       380\n",
      "       macro avg       0.85      0.84      0.84       380\n",
      "    weighted avg       0.86      0.84      0.84       380\n",
      "\n"
     ]
    },
    {
     "name": "stderr",
     "output_type": "stream",
     "text": [
      "Training Epochs:  89%|████████▉ | 1780/2000 [16:27<01:50,  1.98it/s]"
     ]
    },
    {
     "name": "stdout",
     "output_type": "stream",
     "text": [
      "Epoch 1780/2000, Loss: 0.0756\n",
      "Test Accuracy at Epoch 1780: 83.42%\n",
      "Test F1-score at Epoch 1780: 0.8489\n",
      "Classification Report at Epoch 1780:\n",
      "                  precision    recall  f1-score   support\n",
      "\n",
      "    infringement       0.94      0.72      0.82       194\n",
      "non_infringement       0.77      0.95      0.85       186\n",
      "\n",
      "        accuracy                           0.83       380\n",
      "       macro avg       0.85      0.84      0.83       380\n",
      "    weighted avg       0.85      0.83      0.83       380\n",
      "\n"
     ]
    },
    {
     "name": "stderr",
     "output_type": "stream",
     "text": [
      "Training Epochs:  90%|████████▉ | 1790/2000 [16:33<02:00,  1.75it/s]"
     ]
    },
    {
     "name": "stdout",
     "output_type": "stream",
     "text": [
      "Epoch 1790/2000, Loss: 0.0744\n",
      "Test Accuracy at Epoch 1790: 83.68%\n",
      "Test F1-score at Epoch 1790: 0.8510\n",
      "Classification Report at Epoch 1790:\n",
      "                  precision    recall  f1-score   support\n",
      "\n",
      "    infringement       0.94      0.73      0.82       194\n",
      "non_infringement       0.77      0.95      0.85       186\n",
      "\n",
      "        accuracy                           0.84       380\n",
      "       macro avg       0.85      0.84      0.84       380\n",
      "    weighted avg       0.86      0.84      0.84       380\n",
      "\n"
     ]
    },
    {
     "name": "stderr",
     "output_type": "stream",
     "text": [
      "Training Epochs:  90%|█████████ | 1803/2000 [16:34<00:19,  9.92it/s]"
     ]
    },
    {
     "name": "stdout",
     "output_type": "stream",
     "text": [
      "Epoch 1800/2000, Loss: 0.0759\n",
      "Test Accuracy at Epoch 1800: 81.32%\n",
      "Test F1-score at Epoch 1800: 0.8329\n",
      "Classification Report at Epoch 1800:\n",
      "                  precision    recall  f1-score   support\n",
      "\n",
      "    infringement       0.94      0.68      0.79       194\n",
      "non_infringement       0.74      0.95      0.83       186\n",
      "\n",
      "        accuracy                           0.81       380\n",
      "       macro avg       0.84      0.82      0.81       380\n",
      "    weighted avg       0.84      0.81      0.81       380\n",
      "\n"
     ]
    },
    {
     "name": "stderr",
     "output_type": "stream",
     "text": [
      "Training Epochs:  91%|█████████ | 1813/2000 [16:35<00:13, 14.33it/s]"
     ]
    },
    {
     "name": "stdout",
     "output_type": "stream",
     "text": [
      "Epoch 1810/2000, Loss: 0.0755\n",
      "Test Accuracy at Epoch 1810: 83.68%\n",
      "Test F1-score at Epoch 1810: 0.8502\n",
      "Classification Report at Epoch 1810:\n",
      "                  precision    recall  f1-score   support\n",
      "\n",
      "    infringement       0.93      0.73      0.82       194\n",
      "non_infringement       0.77      0.95      0.85       186\n",
      "\n",
      "        accuracy                           0.84       380\n",
      "       macro avg       0.85      0.84      0.84       380\n",
      "    weighted avg       0.85      0.84      0.84       380\n",
      "\n"
     ]
    },
    {
     "name": "stderr",
     "output_type": "stream",
     "text": [
      "Training Epochs:  91%|█████████ | 1821/2000 [16:35<00:11, 16.27it/s]"
     ]
    },
    {
     "name": "stdout",
     "output_type": "stream",
     "text": [
      "Epoch 1820/2000, Loss: 0.0757\n",
      "Test Accuracy at Epoch 1820: 83.42%\n",
      "Test F1-score at Epoch 1820: 0.8475\n",
      "Classification Report at Epoch 1820:\n",
      "                  precision    recall  f1-score   support\n",
      "\n",
      "    infringement       0.93      0.73      0.82       194\n",
      "non_infringement       0.77      0.94      0.85       186\n",
      "\n",
      "        accuracy                           0.83       380\n",
      "       macro avg       0.85      0.84      0.83       380\n",
      "    weighted avg       0.85      0.83      0.83       380\n",
      "\n"
     ]
    },
    {
     "name": "stderr",
     "output_type": "stream",
     "text": [
      "Training Epochs:  92%|█████████▏| 1831/2000 [16:36<00:12, 13.31it/s]"
     ]
    },
    {
     "name": "stdout",
     "output_type": "stream",
     "text": [
      "Epoch 1830/2000, Loss: 0.0752\n",
      "Test Accuracy at Epoch 1830: 83.42%\n",
      "Test F1-score at Epoch 1830: 0.8475\n",
      "Classification Report at Epoch 1830:\n",
      "                  precision    recall  f1-score   support\n",
      "\n",
      "    infringement       0.93      0.73      0.82       194\n",
      "non_infringement       0.77      0.94      0.85       186\n",
      "\n",
      "        accuracy                           0.83       380\n",
      "       macro avg       0.85      0.84      0.83       380\n",
      "    weighted avg       0.85      0.83      0.83       380\n",
      "\n"
     ]
    },
    {
     "name": "stderr",
     "output_type": "stream",
     "text": [
      "Training Epochs:  92%|█████████▏| 1841/2000 [16:37<00:14, 10.96it/s]"
     ]
    },
    {
     "name": "stdout",
     "output_type": "stream",
     "text": [
      "Epoch 1840/2000, Loss: 0.0752\n",
      "Test Accuracy at Epoch 1840: 83.68%\n",
      "Test F1-score at Epoch 1840: 0.8510\n",
      "Classification Report at Epoch 1840:\n",
      "                  precision    recall  f1-score   support\n",
      "\n",
      "    infringement       0.94      0.73      0.82       194\n",
      "non_infringement       0.77      0.95      0.85       186\n",
      "\n",
      "        accuracy                           0.84       380\n",
      "       macro avg       0.85      0.84      0.84       380\n",
      "    weighted avg       0.86      0.84      0.84       380\n",
      "\n"
     ]
    },
    {
     "name": "stderr",
     "output_type": "stream",
     "text": [
      "Training Epochs:  93%|█████████▎| 1851/2000 [16:38<00:13, 11.10it/s]"
     ]
    },
    {
     "name": "stdout",
     "output_type": "stream",
     "text": [
      "Epoch 1850/2000, Loss: 0.0750\n",
      "Test Accuracy at Epoch 1850: 83.68%\n",
      "Test F1-score at Epoch 1850: 0.8510\n",
      "Classification Report at Epoch 1850:\n",
      "                  precision    recall  f1-score   support\n",
      "\n",
      "    infringement       0.94      0.73      0.82       194\n",
      "non_infringement       0.77      0.95      0.85       186\n",
      "\n",
      "        accuracy                           0.84       380\n",
      "       macro avg       0.85      0.84      0.84       380\n",
      "    weighted avg       0.86      0.84      0.84       380\n",
      "\n"
     ]
    },
    {
     "name": "stderr",
     "output_type": "stream",
     "text": [
      "Training Epochs:  93%|█████████▎| 1864/2000 [16:39<00:07, 18.27it/s]"
     ]
    },
    {
     "name": "stdout",
     "output_type": "stream",
     "text": [
      "Epoch 1860/2000, Loss: 0.0758\n",
      "Test Accuracy at Epoch 1860: 83.68%\n",
      "Test F1-score at Epoch 1860: 0.8502\n",
      "Classification Report at Epoch 1860:\n",
      "                  precision    recall  f1-score   support\n",
      "\n",
      "    infringement       0.93      0.73      0.82       194\n",
      "non_infringement       0.77      0.95      0.85       186\n",
      "\n",
      "        accuracy                           0.84       380\n",
      "       macro avg       0.85      0.84      0.84       380\n",
      "    weighted avg       0.85      0.84      0.84       380\n",
      "\n"
     ]
    },
    {
     "name": "stderr",
     "output_type": "stream",
     "text": [
      "Training Epochs:  94%|█████████▎| 1873/2000 [16:39<00:06, 20.02it/s]"
     ]
    },
    {
     "name": "stdout",
     "output_type": "stream",
     "text": [
      "Epoch 1870/2000, Loss: 0.0746\n",
      "Test Accuracy at Epoch 1870: 83.68%\n",
      "Test F1-score at Epoch 1870: 0.8502\n",
      "Classification Report at Epoch 1870:\n",
      "                  precision    recall  f1-score   support\n",
      "\n",
      "    infringement       0.93      0.73      0.82       194\n",
      "non_infringement       0.77      0.95      0.85       186\n",
      "\n",
      "        accuracy                           0.84       380\n",
      "       macro avg       0.85      0.84      0.84       380\n",
      "    weighted avg       0.85      0.84      0.84       380\n",
      "\n"
     ]
    },
    {
     "name": "stderr",
     "output_type": "stream",
     "text": [
      "Training Epochs:  94%|█████████▍| 1882/2000 [16:40<00:05, 21.13it/s]"
     ]
    },
    {
     "name": "stdout",
     "output_type": "stream",
     "text": [
      "Epoch 1880/2000, Loss: 0.0753\n",
      "Test Accuracy at Epoch 1880: 83.68%\n",
      "Test F1-score at Epoch 1880: 0.8502\n",
      "Classification Report at Epoch 1880:\n",
      "                  precision    recall  f1-score   support\n",
      "\n",
      "    infringement       0.93      0.73      0.82       194\n",
      "non_infringement       0.77      0.95      0.85       186\n",
      "\n",
      "        accuracy                           0.84       380\n",
      "       macro avg       0.85      0.84      0.84       380\n",
      "    weighted avg       0.85      0.84      0.84       380\n",
      "\n"
     ]
    },
    {
     "name": "stderr",
     "output_type": "stream",
     "text": [
      "Training Epochs:  95%|█████████▍| 1891/2000 [16:40<00:05, 18.98it/s]"
     ]
    },
    {
     "name": "stdout",
     "output_type": "stream",
     "text": [
      "Epoch 1890/2000, Loss: 0.0751\n",
      "Test Accuracy at Epoch 1890: 83.68%\n",
      "Test F1-score at Epoch 1890: 0.8510\n",
      "Classification Report at Epoch 1890:\n",
      "                  precision    recall  f1-score   support\n",
      "\n",
      "    infringement       0.94      0.73      0.82       194\n",
      "non_infringement       0.77      0.95      0.85       186\n",
      "\n",
      "        accuracy                           0.84       380\n",
      "       macro avg       0.85      0.84      0.84       380\n",
      "    weighted avg       0.86      0.84      0.84       380\n",
      "\n"
     ]
    },
    {
     "name": "stderr",
     "output_type": "stream",
     "text": [
      "Training Epochs:  95%|█████████▌| 1901/2000 [16:42<00:11,  8.49it/s]"
     ]
    },
    {
     "name": "stdout",
     "output_type": "stream",
     "text": [
      "Epoch 1900/2000, Loss: 0.0754\n",
      "Test Accuracy at Epoch 1900: 82.89%\n",
      "Test F1-score at Epoch 1900: 0.8449\n",
      "Classification Report at Epoch 1900:\n",
      "                  precision    recall  f1-score   support\n",
      "\n",
      "    infringement       0.94      0.71      0.81       194\n",
      "non_infringement       0.76      0.95      0.84       186\n",
      "\n",
      "        accuracy                           0.83       380\n",
      "       macro avg       0.85      0.83      0.83       380\n",
      "    weighted avg       0.85      0.83      0.83       380\n",
      "\n"
     ]
    },
    {
     "name": "stderr",
     "output_type": "stream",
     "text": [
      "Training Epochs:  96%|█████████▌| 1911/2000 [16:43<00:07, 11.51it/s]"
     ]
    },
    {
     "name": "stdout",
     "output_type": "stream",
     "text": [
      "Epoch 1910/2000, Loss: 0.0742\n",
      "Test Accuracy at Epoch 1910: 83.42%\n",
      "Test F1-score at Epoch 1910: 0.8489\n",
      "Classification Report at Epoch 1910:\n",
      "                  precision    recall  f1-score   support\n",
      "\n",
      "    infringement       0.94      0.72      0.82       194\n",
      "non_infringement       0.77      0.95      0.85       186\n",
      "\n",
      "        accuracy                           0.83       380\n",
      "       macro avg       0.85      0.84      0.83       380\n",
      "    weighted avg       0.85      0.83      0.83       380\n",
      "\n"
     ]
    },
    {
     "name": "stderr",
     "output_type": "stream",
     "text": [
      "Training Epochs:  96%|█████████▌| 1923/2000 [16:43<00:04, 15.71it/s]"
     ]
    },
    {
     "name": "stdout",
     "output_type": "stream",
     "text": [
      "Epoch 1920/2000, Loss: 0.0759\n",
      "Test Accuracy at Epoch 1920: 83.42%\n",
      "Test F1-score at Epoch 1920: 0.8475\n",
      "Classification Report at Epoch 1920:\n",
      "                  precision    recall  f1-score   support\n",
      "\n",
      "    infringement       0.93      0.73      0.82       194\n",
      "non_infringement       0.77      0.94      0.85       186\n",
      "\n",
      "        accuracy                           0.83       380\n",
      "       macro avg       0.85      0.84      0.83       380\n",
      "    weighted avg       0.85      0.83      0.83       380\n",
      "\n"
     ]
    },
    {
     "name": "stderr",
     "output_type": "stream",
     "text": [
      "Training Epochs:  97%|█████████▋| 1933/2000 [16:44<00:05, 11.28it/s]"
     ]
    },
    {
     "name": "stdout",
     "output_type": "stream",
     "text": [
      "Epoch 1930/2000, Loss: 0.0743\n",
      "Test Accuracy at Epoch 1930: 83.68%\n",
      "Test F1-score at Epoch 1930: 0.8502\n",
      "Classification Report at Epoch 1930:\n",
      "                  precision    recall  f1-score   support\n",
      "\n",
      "    infringement       0.93      0.73      0.82       194\n",
      "non_infringement       0.77      0.95      0.85       186\n",
      "\n",
      "        accuracy                           0.84       380\n",
      "       macro avg       0.85      0.84      0.84       380\n",
      "    weighted avg       0.85      0.84      0.84       380\n",
      "\n"
     ]
    },
    {
     "name": "stderr",
     "output_type": "stream",
     "text": [
      "Training Epochs:  97%|█████████▋| 1940/2000 [16:46<00:12,  4.67it/s]"
     ]
    },
    {
     "name": "stdout",
     "output_type": "stream",
     "text": [
      "Epoch 1940/2000, Loss: 0.0746\n",
      "Test Accuracy at Epoch 1940: 83.42%\n",
      "Test F1-score at Epoch 1940: 0.8489\n",
      "Classification Report at Epoch 1940:\n",
      "                  precision    recall  f1-score   support\n",
      "\n",
      "    infringement       0.94      0.72      0.82       194\n",
      "non_infringement       0.77      0.95      0.85       186\n",
      "\n",
      "        accuracy                           0.83       380\n",
      "       macro avg       0.85      0.84      0.83       380\n",
      "    weighted avg       0.85      0.83      0.83       380\n",
      "\n"
     ]
    },
    {
     "name": "stderr",
     "output_type": "stream",
     "text": [
      "Training Epochs:  98%|█████████▊| 1950/2000 [16:51<00:25,  1.94it/s]"
     ]
    },
    {
     "name": "stdout",
     "output_type": "stream",
     "text": [
      "Epoch 1950/2000, Loss: 0.0766\n",
      "Test Accuracy at Epoch 1950: 81.32%\n",
      "Test F1-score at Epoch 1950: 0.8329\n",
      "Classification Report at Epoch 1950:\n",
      "                  precision    recall  f1-score   support\n",
      "\n",
      "    infringement       0.94      0.68      0.79       194\n",
      "non_infringement       0.74      0.95      0.83       186\n",
      "\n",
      "        accuracy                           0.81       380\n",
      "       macro avg       0.84      0.82      0.81       380\n",
      "    weighted avg       0.84      0.81      0.81       380\n",
      "\n"
     ]
    },
    {
     "name": "stderr",
     "output_type": "stream",
     "text": [
      "Training Epochs:  98%|█████████▊| 1960/2000 [16:56<00:24,  1.64it/s]"
     ]
    },
    {
     "name": "stdout",
     "output_type": "stream",
     "text": [
      "Epoch 1960/2000, Loss: 0.0742\n",
      "Test Accuracy at Epoch 1960: 83.68%\n",
      "Test F1-score at Epoch 1960: 0.8502\n",
      "Classification Report at Epoch 1960:\n",
      "                  precision    recall  f1-score   support\n",
      "\n",
      "    infringement       0.93      0.73      0.82       194\n",
      "non_infringement       0.77      0.95      0.85       186\n",
      "\n",
      "        accuracy                           0.84       380\n",
      "       macro avg       0.85      0.84      0.84       380\n",
      "    weighted avg       0.85      0.84      0.84       380\n",
      "\n"
     ]
    },
    {
     "name": "stderr",
     "output_type": "stream",
     "text": [
      "Training Epochs:  98%|█████████▊| 1970/2000 [17:02<00:18,  1.58it/s]"
     ]
    },
    {
     "name": "stdout",
     "output_type": "stream",
     "text": [
      "Epoch 1970/2000, Loss: 0.0758\n",
      "Test Accuracy at Epoch 1970: 83.42%\n",
      "Test F1-score at Epoch 1970: 0.8475\n",
      "Classification Report at Epoch 1970:\n",
      "                  precision    recall  f1-score   support\n",
      "\n",
      "    infringement       0.93      0.73      0.82       194\n",
      "non_infringement       0.77      0.94      0.85       186\n",
      "\n",
      "        accuracy                           0.83       380\n",
      "       macro avg       0.85      0.84      0.83       380\n",
      "    weighted avg       0.85      0.83      0.83       380\n",
      "\n"
     ]
    },
    {
     "name": "stderr",
     "output_type": "stream",
     "text": [
      "Training Epochs:  99%|█████████▉| 1980/2000 [17:07<00:08,  2.42it/s]"
     ]
    },
    {
     "name": "stdout",
     "output_type": "stream",
     "text": [
      "Epoch 1980/2000, Loss: 0.0742\n",
      "Test Accuracy at Epoch 1980: 83.42%\n",
      "Test F1-score at Epoch 1980: 0.8489\n",
      "Classification Report at Epoch 1980:\n",
      "                  precision    recall  f1-score   support\n",
      "\n",
      "    infringement       0.94      0.72      0.82       194\n",
      "non_infringement       0.77      0.95      0.85       186\n",
      "\n",
      "        accuracy                           0.83       380\n",
      "       macro avg       0.85      0.84      0.83       380\n",
      "    weighted avg       0.85      0.83      0.83       380\n",
      "\n"
     ]
    },
    {
     "name": "stderr",
     "output_type": "stream",
     "text": [
      "Training Epochs: 100%|█████████▉| 1990/2000 [17:13<00:06,  1.62it/s]"
     ]
    },
    {
     "name": "stdout",
     "output_type": "stream",
     "text": [
      "Epoch 1990/2000, Loss: 0.0752\n",
      "Test Accuracy at Epoch 1990: 81.32%\n",
      "Test F1-score at Epoch 1990: 0.8329\n",
      "Classification Report at Epoch 1990:\n",
      "                  precision    recall  f1-score   support\n",
      "\n",
      "    infringement       0.94      0.68      0.79       194\n",
      "non_infringement       0.74      0.95      0.83       186\n",
      "\n",
      "        accuracy                           0.81       380\n",
      "       macro avg       0.84      0.82      0.81       380\n",
      "    weighted avg       0.84      0.81      0.81       380\n",
      "\n"
     ]
    },
    {
     "name": "stderr",
     "output_type": "stream",
     "text": [
      "Training Epochs: 100%|██████████| 2000/2000 [17:18<00:00,  1.93it/s]"
     ]
    },
    {
     "name": "stdout",
     "output_type": "stream",
     "text": [
      "Epoch 2000/2000, Loss: 0.0810\n",
      "Test Accuracy at Epoch 2000: 81.32%\n",
      "Test F1-score at Epoch 2000: 0.8329\n",
      "Classification Report at Epoch 2000:\n",
      "                  precision    recall  f1-score   support\n",
      "\n",
      "    infringement       0.94      0.68      0.79       194\n",
      "non_infringement       0.74      0.95      0.83       186\n",
      "\n",
      "        accuracy                           0.81       380\n",
      "       macro avg       0.84      0.82      0.81       380\n",
      "    weighted avg       0.84      0.81      0.81       380\n",
      "\n"
     ]
    },
    {
     "name": "stderr",
     "output_type": "stream",
     "text": [
      "\n",
      "/tmp/ipykernel_3895896/2033666368.py:59: FutureWarning: You are using `torch.load` with `weights_only=False` (the current default value), which uses the default pickle module implicitly. It is possible to construct malicious pickle data which will execute arbitrary code during unpickling (See https://github.com/pytorch/pytorch/blob/main/SECURITY.md#untrusted-models for more details). In a future release, the default value for `weights_only` will be flipped to `True`. This limits the functions that could be executed during unpickling. Arbitrary objects will no longer be allowed to be loaded via this mode unless they are explicitly allowlisted by the user via `torch.serialization.add_safe_globals`. We recommend you start setting `weights_only=True` for any use case where you don't have full control of the loaded file. Please open an issue on GitHub for any issues related to this experimental feature.\n",
      "  custom_mlp.load_state_dict(torch.load(checkpoint_path))\n"
     ]
    },
    {
     "data": {
      "image/png": "[encoded data removed]",
      "text/plain": [
       "<Figure size 1000x500 with 1 Axes>"
      ]
     },
     "metadata": {},
     "output_type": "display_data"
    },
    {
     "name": "stdout",
     "output_type": "stream",
     "text": [
      "Final Model Accuracy: 83.68%\n",
      "Final Model F1-score: 0.8510\n"
     ]
    }
   ],
   "source": [
    "input_dim = X_train.shape[1]\n",
    "hidden_dim = 256 \n",
    "print(f\"Training MLP model with input_dim={input_dim} and hidden_dim={hidden_dim}\")\n",
    "\n",
    "custom_mlp, losses, best_accuracy, best_f1 = train_model(X_train, y_train, X_test, y_test, input_dim, hidden_dim)"
   ]
  },
  {
   "cell_type": "code",
   "execution_count": 10,
   "metadata": {},
   "outputs": [
    {
     "name": "stdout",
     "output_type": "stream",
     "text": [
      "Checkpoint saved to '/home/guangwei/LLM-COPYRIGHT/copyright_newVersion/models/train_input_reference_4_layer.pth'.\n"
     ]
    }
   ],
   "source": [
    "def save_checkpoint(model, optimizer, epoch, loss, filepath):\n",
    "    checkpoint = {\n",
    "        'epoch': epoch + 1,\n",
    "        'model_state_dict': model.state_dict(),\n",
    "        'optimizer_state_dict': optimizer.state_dict(),\n",
    "        'loss': loss\n",
    "    }\n",
    "    torch.save(checkpoint, filepath)\n",
    "    print(f\"Checkpoint saved to '{filepath}'.\")\n",
    "\n",
    "save_checkpoint(custom_mlp, torch.optim.Adam(custom_mlp.parameters()), len(losses), losses[-1], checkpoint_file)"
   ]
  },
  {
   "cell_type": "code",
   "execution_count": 11,
   "metadata": {},
   "outputs": [
    {
     "name": "stdout",
     "output_type": "stream",
     "text": [
      "                  precision    recall  f1-score   support\n",
      "\n",
      "    infringement       0.94      0.73      0.82       194\n",
      "non_infringement       0.77      0.95      0.85       186\n",
      "\n",
      "        accuracy                           0.84       380\n",
      "       macro avg       0.85      0.84      0.84       380\n",
      "    weighted avg       0.86      0.84      0.84       380\n",
      "\n"
     ]
    },
    {
     "name": "stderr",
     "output_type": "stream",
     "text": [
      "/tmp/ipykernel_3895896/2137335780.py:1: UserWarning: To copy construct from a tensor, it is recommended to use sourceTensor.clone().detach() or sourceTensor.clone().detach().requires_grad_(True), rather than torch.tensor(sourceTensor).\n",
      "  y_pred_final = (torch.sigmoid(torch.tensor(custom_mlp(torch.tensor(X_test, dtype=torch.float32)))) > 0.5).float().numpy()\n"
     ]
    }
   ],
   "source": [
    "y_pred_final = (torch.sigmoid(torch.tensor(custom_mlp(torch.tensor(X_test, dtype=torch.float32)))) > 0.5).float().numpy()\n",
    "print(classification_report(y_test, y_pred_final, target_names=[\"infringement\", \"non_infringement\"]))"
   ]
  }
 ],
 "metadata": {
  "kernelspec": {
   "display_name": "zdh",
   "language": "python",
   "name": "python3"
  },
  "language_info": {
   "codemirror_mode": {
    "name": "ipython",
    "version": 3
   },
   "file_extension": ".py",
   "mimetype": "text/x-python",
   "name": "python",
   "nbconvert_exporter": "python",
   "pygments_lexer": "ipython3",
   "version": "3.12.3"
  }
 },
 "nbformat": 4,
 "nbformat_minor": 2
}
