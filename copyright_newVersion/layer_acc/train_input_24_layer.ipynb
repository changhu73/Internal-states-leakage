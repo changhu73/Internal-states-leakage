{
 "cells": [
  {
   "cell_type": "code",
   "execution_count": 1,
   "metadata": {},
   "outputs": [
    {
     "name": "stderr",
     "output_type": "stream",
     "text": [
      "/home/guangwei/miniconda3/envs/zdh/lib/python3.12/site-packages/tqdm/auto.py:21: TqdmWarning: IProgress not found. Please update jupyter and ipywidgets. See https://ipywidgets.readthedocs.io/en/stable/user_install.html\n",
      "  from .autonotebook import tqdm as notebook_tqdm\n"
     ]
    }
   ],
   "source": [
    "# import packages\n",
    "import torch\n",
    "import torch.nn as nn\n",
    "import numpy as np\n",
    "from sklearn.metrics import accuracy_score, classification_report\n",
    "import matplotlib.pyplot as plt\n",
    "from tqdm import tqdm\n",
    "from transformers import AutoTokenizer, AutoModelForCausalLM\n",
    "import json\n",
    "import os\n",
    "\n",
    "os.environ[\"CUDA_VISIBLE_DEVICES\"] = \"5\"\n",
    "\n",
    "# Variables\n",
    "model_name = 'meta-llama/Meta-Llama-3.1-8B'\n",
    "non_infringement_file = '/home/guangwei/LLM-COPYRIGHT/copyright_newVersion/test_division/extra_30.non_infringement.json'\n",
    "infringement_file = '/home/guangwei/LLM-COPYRIGHT/copyright_newVersion/test_division/extra_30.infringement.json'\n",
    "checkpoint_file = '/home/guangwei/LLM-COPYRIGHT/copyright_newVersion/models/train_input_0_layer.pth'"
   ]
  },
  {
   "cell_type": "code",
   "execution_count": 2,
   "metadata": {},
   "outputs": [],
   "source": [
    "# Define CustumMLP for internal states train\n",
    "class CustomMLP(nn.Module):\n",
    "    def __init__(self, input_dim, hidden_dim):\n",
    "        super(CustomMLP, self).__init__()\n",
    "        self.down = nn.Linear(input_dim, hidden_dim)\n",
    "        self.gate = nn.Linear(input_dim, hidden_dim)\n",
    "        self.up = nn.Linear(hidden_dim, 1)\n",
    "        self.activation = nn.SiLU()\n",
    "\n",
    "    def forward(self, x):\n",
    "        down_output = self.down(x)\n",
    "        gate_output = self.gate(x)\n",
    "        gated_output = down_output * self.activation(gate_output)\n",
    "        return self.up(gated_output)"
   ]
  },
  {
   "cell_type": "code",
   "execution_count": 3,
   "metadata": {},
   "outputs": [],
   "source": [
    "# Only extract hidden states\n",
    "def extract_hidden_states(texts, model, tokenizer, batch_size=4):\n",
    "    device = torch.device(\"cuda\" if torch.cuda.is_available() else \"cpu\")\n",
    "    model.to(device)\n",
    "    model = nn.DataParallel(model)\n",
    "    hidden_states = []\n",
    "    for i in tqdm(range(0, len(texts), batch_size), desc=\"Processing data batches\"):\n",
    "        batch_texts = texts[i:i + batch_size]\n",
    "        inputs = tokenizer(batch_texts, return_tensors=\"pt\", padding=True, truncation=True).to(device)\n",
    "        with torch.no_grad():\n",
    "            outputs = model(**inputs)\n",
    "        hidden_states.append(outputs.hidden_states[24].mean(dim=1).cpu().numpy())\n",
    "    return np.vstack(hidden_states)"
   ]
  },
  {
   "cell_type": "code",
   "execution_count": 4,
   "metadata": {},
   "outputs": [],
   "source": [
    "# lode data for infringement & non infringement\n",
    "def load_data(non_infringement_file, infringement_file):\n",
    "    with open(non_infringement_file, 'r', encoding='utf-8') as file:\n",
    "        non_infringement_json_data = json.load(file)\n",
    "\n",
    "    non_infringement_outputs = [entry['input'] for entry in non_infringement_json_data]\n",
    "    y_non_infringement = [1] * len(non_infringement_outputs)\n",
    "\n",
    "    with open(infringement_file, 'r', encoding='utf-8') as file:\n",
    "        infringement_json_data = json.load(file)\n",
    "\n",
    "    infringement_outputs = [entry['input'] for entry in infringement_json_data]\n",
    "    y_infringement = [0] * len(infringement_outputs)\n",
    "\n",
    "    return non_infringement_outputs, y_non_infringement, infringement_outputs, y_infringement"
   ]
  },
  {
   "cell_type": "code",
   "execution_count": 5,
   "metadata": {},
   "outputs": [],
   "source": [
    "from sklearn.metrics import accuracy_score, classification_report, f1_score\n",
    "\n",
    "# Train for best model\n",
    "def train_model(X_train, y_train, X_test, y_test, input_dim, hidden_dim, epochs=2000, lr=0.001, checkpoint_path=checkpoint_file):\n",
    "    custom_mlp = CustomMLP(input_dim, hidden_dim)\n",
    "    criterion = nn.BCEWithLogitsLoss()\n",
    "    optimizer = torch.optim.Adam(custom_mlp.parameters(), lr=lr)\n",
    "\n",
    "    X_train_tensor = torch.tensor(X_train, dtype=torch.float32)\n",
    "    y_train_tensor = torch.tensor(y_train, dtype=torch.float32).unsqueeze(1)\n",
    "\n",
    "    best_accuracy = -float('inf')\n",
    "    best_f1 = -float('inf')  # Track best F1-score\n",
    "    best_model_state = None\n",
    "    best_epoch = 0\n",
    "    losses = []\n",
    "\n",
    "    for epoch in tqdm(range(epochs), desc=\"Training Epochs\"):\n",
    "        custom_mlp.train()\n",
    "        optimizer.zero_grad()\n",
    "        outputs = custom_mlp(X_train_tensor)\n",
    "        loss = criterion(outputs, y_train_tensor)\n",
    "        loss.backward()\n",
    "        optimizer.step()\n",
    "        losses.append(loss.item())\n",
    "\n",
    "        # Every 10 epochs, evaluate the model\n",
    "        if (epoch + 1) % 10 == 0:\n",
    "            print(f\"Epoch {epoch + 1}/{epochs}, Loss: {loss.item():.4f}\")\n",
    "            \n",
    "            custom_mlp.eval()\n",
    "            X_test_tensor = torch.tensor(X_test, dtype=torch.float32)\n",
    "            with torch.no_grad():\n",
    "                y_pred_logits = custom_mlp(X_test_tensor)\n",
    "                y_pred = (torch.sigmoid(y_pred_logits) > 0.5).float().numpy()\n",
    "            \n",
    "            # Calculate accuracy and F1-score\n",
    "            accuracy = accuracy_score(y_test, y_pred)\n",
    "            f1 = f1_score(y_test, y_pred)  # F1-score calculation\n",
    "            \n",
    "            print(f\"Test Accuracy at Epoch {epoch + 1}: {accuracy * 100:.2f}%\")\n",
    "            print(f\"Test F1-score at Epoch {epoch + 1}: {f1:.4f}\")\n",
    "            \n",
    "            # Generate classification report\n",
    "            report = classification_report(y_test, y_pred, target_names=[\"infringement\", \"non_infringement\"])\n",
    "            print(f\"Classification Report at Epoch {epoch + 1}:\\n{report}\")\n",
    "\n",
    "            # Save the model if it achieves a better F1-score\n",
    "            if f1 > best_f1:\n",
    "                best_accuracy = accuracy\n",
    "                best_f1 = f1\n",
    "                best_model_state = custom_mlp.state_dict()\n",
    "                best_epoch = epoch + 1\n",
    "                torch.save(best_model_state, checkpoint_path)\n",
    "                print(f\"New best model saved with F1-score {best_f1:.4f} at epoch {best_epoch}\")\n",
    "                print(f\"Best Classification Report at Epoch {best_epoch}:\\n{report}\")\n",
    "\n",
    "    # Load the best model state\n",
    "    custom_mlp.load_state_dict(torch.load(checkpoint_path))\n",
    "\n",
    "    # Plot loss curve\n",
    "    plt.figure(figsize=(10, 5))\n",
    "    plt.plot(losses, label='Training Loss')\n",
    "    plt.xlabel('Epoch')\n",
    "    plt.ylabel('Loss')\n",
    "    plt.title('Training Loss Curve')\n",
    "    plt.legend()\n",
    "    plt.show()\n",
    "\n",
    "    print(f\"Final Model Accuracy: {best_accuracy * 100:.2f}%\")\n",
    "    print(f\"Final Model F1-score: {best_f1:.4f}\")\n",
    "    \n",
    "    return custom_mlp, losses, best_accuracy, best_f1\n"
   ]
  },
  {
   "cell_type": "code",
   "execution_count": 6,
   "metadata": {},
   "outputs": [
    {
     "name": "stderr",
     "output_type": "stream",
     "text": [
      "/home/guangwei/miniconda3/envs/zdh/lib/python3.12/site-packages/transformers/generation/configuration_utils.py:777: UserWarning: `return_dict_in_generate` is NOT set to `True`, but `output_hidden_states` is. When `return_dict_in_generate` is not `True`, `output_hidden_states` is ignored.\n",
      "  warnings.warn(\n",
      "Loading checkpoint shards: 100%|██████████| 4/4 [00:02<00:00,  1.67it/s]\n"
     ]
    }
   ],
   "source": [
    "\n",
    "tokenizer = AutoTokenizer.from_pretrained(model_name, model_max_length=512)\n",
    "model = AutoModelForCausalLM.from_pretrained(model_name, output_hidden_states=True)\n",
    "tokenizer.pad_token = tokenizer.eos_token\n",
    "\n",
    "non_infringement_outputs, y_non_infringement, infringement_outputs, y_infringement = load_data(non_infringement_file, infringement_file)\n",
    "\n",
    "y_non_infringement = np.array(y_non_infringement)\n",
    "y_infringement = np.array(y_infringement)\n"
   ]
  },
  {
   "cell_type": "code",
   "execution_count": 7,
   "metadata": {},
   "outputs": [
    {
     "name": "stdout",
     "output_type": "stream",
     "text": [
      "Extracting hidden states for non_infringement texts...\n"
     ]
    },
    {
     "name": "stderr",
     "output_type": "stream",
     "text": [
      "Processing data batches:   0%|          | 0/232 [00:00<?, ?it/s]Starting from v4.46, the `logits` model output will have the same type as the model (except at train time, where it will always be FP32)\n",
      "Processing data batches: 100%|██████████| 232/232 [01:02<00:00,  3.71it/s]\n"
     ]
    },
    {
     "name": "stdout",
     "output_type": "stream",
     "text": [
      "Extracting hidden states for infringement texts...\n"
     ]
    },
    {
     "name": "stderr",
     "output_type": "stream",
     "text": [
      "Processing data batches: 100%|██████████| 243/243 [01:20<00:00,  3.03it/s]\n"
     ]
    }
   ],
   "source": [
    "print(\"Extracting hidden states for non_infringement texts...\")\n",
    "X_non_infringement = extract_hidden_states(non_infringement_outputs, model, tokenizer)\n",
    "\n",
    "print(\"Extracting hidden states for infringement texts...\")\n",
    "X_infringement = extract_hidden_states(infringement_outputs, model, tokenizer)"
   ]
  },
  {
   "cell_type": "code",
   "execution_count": 8,
   "metadata": {},
   "outputs": [
    {
     "name": "stdout",
     "output_type": "stream",
     "text": [
      "Data successfully split into training and test sets.\n"
     ]
    }
   ],
   "source": [
    "split_index_non_infringement = int(0.8 * len(X_non_infringement))\n",
    "X_non_infringement_train = X_non_infringement[:split_index_non_infringement]\n",
    "X_non_infringement_test = X_non_infringement[split_index_non_infringement:]\n",
    "y_non_infringement_train = y_non_infringement[:split_index_non_infringement]\n",
    "y_non_infringement_test = y_non_infringement[split_index_non_infringement:]\n",
    "\n",
    "split_index_infringement = int(0.8 * len(X_infringement))\n",
    "X_infringement_train = X_infringement[:split_index_infringement]\n",
    "X_infringement_test = X_infringement[split_index_infringement:]\n",
    "y_infringement_train = y_infringement[:split_index_infringement]\n",
    "y_infringement_test = y_infringement[split_index_infringement:]\n",
    "\n",
    "X_train = np.vstack((X_non_infringement_train, X_infringement_train))\n",
    "X_test = np.vstack((X_non_infringement_test, X_infringement_test))\n",
    "y_train = np.concatenate((y_non_infringement_train, y_infringement_train))\n",
    "y_test = np.concatenate((y_non_infringement_test, y_infringement_test))\n",
    "\n",
    "print(\"Data successfully split into training and test sets.\")"
   ]
  },
  {
   "cell_type": "code",
   "execution_count": 9,
   "metadata": {},
   "outputs": [
    {
     "name": "stdout",
     "output_type": "stream",
     "text": [
      "Training MLP model with input_dim=4096 and hidden_dim=256\n"
     ]
    },
    {
     "name": "stderr",
     "output_type": "stream",
     "text": [
      "Training Epochs:   1%|          | 15/2000 [00:00<01:08, 29.10it/s]"
     ]
    },
    {
     "name": "stdout",
     "output_type": "stream",
     "text": [
      "Epoch 10/2000, Loss: 0.4145\n",
      "Test Accuracy at Epoch 10: 68.16%\n",
      "Test F1-score at Epoch 10: 0.7098\n",
      "Classification Report at Epoch 10:\n",
      "                  precision    recall  f1-score   support\n",
      "\n",
      "    infringement       0.74      0.57      0.65       194\n",
      "non_infringement       0.64      0.80      0.71       186\n",
      "\n",
      "        accuracy                           0.68       380\n",
      "       macro avg       0.69      0.68      0.68       380\n",
      "    weighted avg       0.69      0.68      0.68       380\n",
      "\n",
      "New best model saved with F1-score 0.7098 at epoch 10\n",
      "Best Classification Report at Epoch 10:\n",
      "                  precision    recall  f1-score   support\n",
      "\n",
      "    infringement       0.74      0.57      0.65       194\n",
      "non_infringement       0.64      0.80      0.71       186\n",
      "\n",
      "        accuracy                           0.68       380\n",
      "       macro avg       0.69      0.68      0.68       380\n",
      "    weighted avg       0.69      0.68      0.68       380\n",
      "\n"
     ]
    },
    {
     "name": "stderr",
     "output_type": "stream",
     "text": [
      "Training Epochs:   1%|          | 23/2000 [00:00<01:13, 26.84it/s]"
     ]
    },
    {
     "name": "stdout",
     "output_type": "stream",
     "text": [
      "Epoch 20/2000, Loss: 0.3242\n",
      "Test Accuracy at Epoch 20: 75.26%\n",
      "Test F1-score at Epoch 20: 0.7751\n",
      "Classification Report at Epoch 20:\n",
      "                  precision    recall  f1-score   support\n",
      "\n",
      "    infringement       0.84      0.64      0.73       194\n",
      "non_infringement       0.70      0.87      0.78       186\n",
      "\n",
      "        accuracy                           0.75       380\n",
      "       macro avg       0.77      0.76      0.75       380\n",
      "    weighted avg       0.77      0.75      0.75       380\n",
      "\n",
      "New best model saved with F1-score 0.7751 at epoch 20\n",
      "Best Classification Report at Epoch 20:\n",
      "                  precision    recall  f1-score   support\n",
      "\n",
      "    infringement       0.84      0.64      0.73       194\n",
      "non_infringement       0.70      0.87      0.78       186\n",
      "\n",
      "        accuracy                           0.75       380\n",
      "       macro avg       0.77      0.76      0.75       380\n",
      "    weighted avg       0.77      0.75      0.75       380\n",
      "\n"
     ]
    },
    {
     "name": "stderr",
     "output_type": "stream",
     "text": [
      "Training Epochs:   2%|▏         | 31/2000 [00:01<01:17, 25.45it/s]"
     ]
    },
    {
     "name": "stdout",
     "output_type": "stream",
     "text": [
      "Epoch 30/2000, Loss: 0.2697\n",
      "Test Accuracy at Epoch 30: 70.79%\n",
      "Test F1-score at Epoch 30: 0.7436\n",
      "Classification Report at Epoch 30:\n",
      "                  precision    recall  f1-score   support\n",
      "\n",
      "    infringement       0.81      0.56      0.66       194\n",
      "non_infringement       0.65      0.87      0.74       186\n",
      "\n",
      "        accuracy                           0.71       380\n",
      "       macro avg       0.73      0.71      0.70       380\n",
      "    weighted avg       0.73      0.71      0.70       380\n",
      "\n"
     ]
    },
    {
     "name": "stderr",
     "output_type": "stream",
     "text": [
      "Training Epochs:   2%|▏         | 43/2000 [00:01<01:18, 25.07it/s]"
     ]
    },
    {
     "name": "stdout",
     "output_type": "stream",
     "text": [
      "Epoch 40/2000, Loss: 0.2321\n",
      "Test Accuracy at Epoch 40: 72.63%\n",
      "Test F1-score at Epoch 40: 0.7636\n",
      "Classification Report at Epoch 40:\n",
      "                  precision    recall  f1-score   support\n",
      "\n",
      "    infringement       0.86      0.56      0.68       194\n",
      "non_infringement       0.66      0.90      0.76       186\n",
      "\n",
      "        accuracy                           0.73       380\n",
      "       macro avg       0.76      0.73      0.72       380\n",
      "    weighted avg       0.76      0.73      0.72       380\n",
      "\n"
     ]
    },
    {
     "name": "stderr",
     "output_type": "stream",
     "text": [
      "Training Epochs:   3%|▎         | 51/2000 [00:01<01:07, 28.89it/s]"
     ]
    },
    {
     "name": "stdout",
     "output_type": "stream",
     "text": [
      "Epoch 50/2000, Loss: 0.1959\n",
      "Test Accuracy at Epoch 50: 72.63%\n",
      "Test F1-score at Epoch 50: 0.7438\n",
      "Classification Report at Epoch 50:\n",
      "                  precision    recall  f1-score   support\n",
      "\n",
      "    infringement       0.78      0.64      0.71       194\n",
      "non_infringement       0.69      0.81      0.74       186\n",
      "\n",
      "        accuracy                           0.73       380\n",
      "       macro avg       0.73      0.73      0.73       380\n",
      "    weighted avg       0.73      0.73      0.72       380\n",
      "\n"
     ]
    },
    {
     "name": "stderr",
     "output_type": "stream",
     "text": [
      "Training Epochs:   3%|▎         | 63/2000 [00:02<01:04, 30.16it/s]"
     ]
    },
    {
     "name": "stdout",
     "output_type": "stream",
     "text": [
      "Epoch 60/2000, Loss: 0.1635\n",
      "Test Accuracy at Epoch 60: 72.63%\n",
      "Test F1-score at Epoch 60: 0.7451\n",
      "Classification Report at Epoch 60:\n",
      "                  precision    recall  f1-score   support\n",
      "\n",
      "    infringement       0.78      0.64      0.70       194\n",
      "non_infringement       0.68      0.82      0.75       186\n",
      "\n",
      "        accuracy                           0.73       380\n",
      "       macro avg       0.73      0.73      0.72       380\n",
      "    weighted avg       0.74      0.73      0.72       380\n",
      "\n"
     ]
    },
    {
     "name": "stderr",
     "output_type": "stream",
     "text": [
      "Training Epochs:   4%|▎         | 74/2000 [00:02<01:04, 29.87it/s]"
     ]
    },
    {
     "name": "stdout",
     "output_type": "stream",
     "text": [
      "Epoch 70/2000, Loss: 0.1431\n",
      "Test Accuracy at Epoch 70: 77.11%\n",
      "Test F1-score at Epoch 70: 0.7692\n",
      "Classification Report at Epoch 70:\n",
      "                  precision    recall  f1-score   support\n",
      "\n",
      "    infringement       0.78      0.76      0.77       194\n",
      "non_infringement       0.76      0.78      0.77       186\n",
      "\n",
      "        accuracy                           0.77       380\n",
      "       macro avg       0.77      0.77      0.77       380\n",
      "    weighted avg       0.77      0.77      0.77       380\n",
      "\n"
     ]
    },
    {
     "name": "stderr",
     "output_type": "stream",
     "text": [
      "Training Epochs:   4%|▍         | 85/2000 [00:02<01:03, 30.38it/s]"
     ]
    },
    {
     "name": "stdout",
     "output_type": "stream",
     "text": [
      "Epoch 80/2000, Loss: 0.1411\n",
      "Test Accuracy at Epoch 80: 73.95%\n",
      "Test F1-score at Epoch 80: 0.7494\n",
      "Classification Report at Epoch 80:\n",
      "                  precision    recall  f1-score   support\n",
      "\n",
      "    infringement       0.78      0.69      0.73       194\n",
      "non_infringement       0.71      0.80      0.75       186\n",
      "\n",
      "        accuracy                           0.74       380\n",
      "       macro avg       0.74      0.74      0.74       380\n",
      "    weighted avg       0.74      0.74      0.74       380\n",
      "\n"
     ]
    },
    {
     "name": "stderr",
     "output_type": "stream",
     "text": [
      "Training Epochs:   5%|▍         | 93/2000 [00:03<01:03, 29.86it/s]"
     ]
    },
    {
     "name": "stdout",
     "output_type": "stream",
     "text": [
      "Epoch 90/2000, Loss: 0.1301\n",
      "Test Accuracy at Epoch 90: 73.68%\n",
      "Test F1-score at Epoch 90: 0.7462\n",
      "Classification Report at Epoch 90:\n",
      "                  precision    recall  f1-score   support\n",
      "\n",
      "    infringement       0.77      0.69      0.73       194\n",
      "non_infringement       0.71      0.79      0.75       186\n",
      "\n",
      "        accuracy                           0.74       380\n",
      "       macro avg       0.74      0.74      0.74       380\n",
      "    weighted avg       0.74      0.74      0.74       380\n",
      "\n"
     ]
    },
    {
     "name": "stderr",
     "output_type": "stream",
     "text": [
      "Training Epochs:   5%|▌         | 105/2000 [00:03<01:00, 31.17it/s]"
     ]
    },
    {
     "name": "stdout",
     "output_type": "stream",
     "text": [
      "Epoch 100/2000, Loss: 0.1204\n",
      "Test Accuracy at Epoch 100: 73.42%\n",
      "Test F1-score at Epoch 100: 0.7430\n",
      "Classification Report at Epoch 100:\n",
      "                  precision    recall  f1-score   support\n",
      "\n",
      "    infringement       0.77      0.69      0.72       194\n",
      "non_infringement       0.71      0.78      0.74       186\n",
      "\n",
      "        accuracy                           0.73       380\n",
      "       macro avg       0.74      0.74      0.73       380\n",
      "    weighted avg       0.74      0.73      0.73       380\n",
      "\n"
     ]
    },
    {
     "name": "stderr",
     "output_type": "stream",
     "text": [
      "Training Epochs:   6%|▌         | 113/2000 [00:03<01:07, 28.16it/s]"
     ]
    },
    {
     "name": "stdout",
     "output_type": "stream",
     "text": [
      "Epoch 110/2000, Loss: 0.1167\n",
      "Test Accuracy at Epoch 110: 73.16%\n",
      "Test F1-score at Epoch 110: 0.7411\n",
      "Classification Report at Epoch 110:\n",
      "                  precision    recall  f1-score   support\n",
      "\n",
      "    infringement       0.77      0.68      0.72       194\n",
      "non_infringement       0.70      0.78      0.74       186\n",
      "\n",
      "        accuracy                           0.73       380\n",
      "       macro avg       0.73      0.73      0.73       380\n",
      "    weighted avg       0.74      0.73      0.73       380\n",
      "\n"
     ]
    },
    {
     "name": "stderr",
     "output_type": "stream",
     "text": [
      "Training Epochs:   6%|▌         | 123/2000 [00:04<01:12, 26.00it/s]"
     ]
    },
    {
     "name": "stdout",
     "output_type": "stream",
     "text": [
      "Epoch 120/2000, Loss: 0.1132\n",
      "Test Accuracy at Epoch 120: 77.37%\n",
      "Test F1-score at Epoch 120: 0.7725\n",
      "Classification Report at Epoch 120:\n",
      "                  precision    recall  f1-score   support\n",
      "\n",
      "    infringement       0.79      0.76      0.77       194\n",
      "non_infringement       0.76      0.78      0.77       186\n",
      "\n",
      "        accuracy                           0.77       380\n",
      "       macro avg       0.77      0.77      0.77       380\n",
      "    weighted avg       0.77      0.77      0.77       380\n",
      "\n"
     ]
    },
    {
     "name": "stderr",
     "output_type": "stream",
     "text": [
      "Training Epochs:   7%|▋         | 131/2000 [00:04<01:03, 29.45it/s]"
     ]
    },
    {
     "name": "stdout",
     "output_type": "stream",
     "text": [
      "Epoch 130/2000, Loss: 0.1185\n",
      "Test Accuracy at Epoch 130: 73.16%\n",
      "Test F1-score at Epoch 130: 0.7411\n",
      "Classification Report at Epoch 130:\n",
      "                  precision    recall  f1-score   support\n",
      "\n",
      "    infringement       0.77      0.68      0.72       194\n",
      "non_infringement       0.70      0.78      0.74       186\n",
      "\n",
      "        accuracy                           0.73       380\n",
      "       macro avg       0.73      0.73      0.73       380\n",
      "    weighted avg       0.74      0.73      0.73       380\n",
      "\n"
     ]
    },
    {
     "name": "stderr",
     "output_type": "stream",
     "text": [
      "Training Epochs:   7%|▋         | 143/2000 [00:04<01:00, 30.53it/s]"
     ]
    },
    {
     "name": "stdout",
     "output_type": "stream",
     "text": [
      "Epoch 140/2000, Loss: 0.1129\n",
      "Test Accuracy at Epoch 140: 73.95%\n",
      "Test F1-score at Epoch 140: 0.7494\n",
      "Classification Report at Epoch 140:\n",
      "                  precision    recall  f1-score   support\n",
      "\n",
      "    infringement       0.78      0.69      0.73       194\n",
      "non_infringement       0.71      0.80      0.75       186\n",
      "\n",
      "        accuracy                           0.74       380\n",
      "       macro avg       0.74      0.74      0.74       380\n",
      "    weighted avg       0.74      0.74      0.74       380\n",
      "\n"
     ]
    },
    {
     "name": "stderr",
     "output_type": "stream",
     "text": [
      "Training Epochs:   8%|▊         | 154/2000 [00:05<01:00, 30.60it/s]"
     ]
    },
    {
     "name": "stdout",
     "output_type": "stream",
     "text": [
      "Epoch 150/2000, Loss: 0.1094\n",
      "Test Accuracy at Epoch 150: 73.42%\n",
      "Test F1-score at Epoch 150: 0.7456\n",
      "Classification Report at Epoch 150:\n",
      "                  precision    recall  f1-score   support\n",
      "\n",
      "    infringement       0.78      0.68      0.72       194\n",
      "non_infringement       0.70      0.80      0.75       186\n",
      "\n",
      "        accuracy                           0.73       380\n",
      "       macro avg       0.74      0.74      0.73       380\n",
      "    weighted avg       0.74      0.73      0.73       380\n",
      "\n"
     ]
    },
    {
     "name": "stderr",
     "output_type": "stream",
     "text": [
      "Training Epochs:   8%|▊         | 166/2000 [00:05<00:59, 30.64it/s]"
     ]
    },
    {
     "name": "stdout",
     "output_type": "stream",
     "text": [
      "Epoch 160/2000, Loss: 0.1068\n",
      "Test Accuracy at Epoch 160: 75.53%\n",
      "Test F1-score at Epoch 160: 0.7609\n",
      "Classification Report at Epoch 160:\n",
      "                  precision    recall  f1-score   support\n",
      "\n",
      "    infringement       0.79      0.72      0.75       194\n",
      "non_infringement       0.73      0.80      0.76       186\n",
      "\n",
      "        accuracy                           0.76       380\n",
      "       macro avg       0.76      0.76      0.76       380\n",
      "    weighted avg       0.76      0.76      0.76       380\n",
      "\n"
     ]
    },
    {
     "name": "stderr",
     "output_type": "stream",
     "text": [
      "Training Epochs:   9%|▊         | 174/2000 [00:06<01:03, 28.63it/s]"
     ]
    },
    {
     "name": "stdout",
     "output_type": "stream",
     "text": [
      "Epoch 170/2000, Loss: 0.1145\n",
      "Test Accuracy at Epoch 170: 72.37%\n",
      "Test F1-score at Epoch 170: 0.7382\n",
      "Classification Report at Epoch 170:\n",
      "                  precision    recall  f1-score   support\n",
      "\n",
      "    infringement       0.77      0.65      0.71       194\n",
      "non_infringement       0.69      0.80      0.74       186\n",
      "\n",
      "        accuracy                           0.72       380\n",
      "       macro avg       0.73      0.73      0.72       380\n",
      "    weighted avg       0.73      0.72      0.72       380\n",
      "\n"
     ]
    },
    {
     "name": "stderr",
     "output_type": "stream",
     "text": [
      "Training Epochs:   9%|▉         | 182/2000 [00:06<01:06, 27.23it/s]"
     ]
    },
    {
     "name": "stdout",
     "output_type": "stream",
     "text": [
      "Epoch 180/2000, Loss: 0.1087\n",
      "Test Accuracy at Epoch 180: 72.37%\n",
      "Test F1-score at Epoch 180: 0.7382\n",
      "Classification Report at Epoch 180:\n",
      "                  precision    recall  f1-score   support\n",
      "\n",
      "    infringement       0.77      0.65      0.71       194\n",
      "non_infringement       0.69      0.80      0.74       186\n",
      "\n",
      "        accuracy                           0.72       380\n",
      "       macro avg       0.73      0.73      0.72       380\n",
      "    weighted avg       0.73      0.72      0.72       380\n",
      "\n"
     ]
    },
    {
     "name": "stderr",
     "output_type": "stream",
     "text": [
      "Training Epochs:  10%|▉         | 194/2000 [00:06<01:06, 27.34it/s]"
     ]
    },
    {
     "name": "stdout",
     "output_type": "stream",
     "text": [
      "Epoch 190/2000, Loss: 0.1072\n",
      "Test Accuracy at Epoch 190: 74.47%\n",
      "Test F1-score at Epoch 190: 0.7506\n",
      "Classification Report at Epoch 190:\n",
      "                  precision    recall  f1-score   support\n",
      "\n",
      "    infringement       0.77      0.71      0.74       194\n",
      "non_infringement       0.72      0.78      0.75       186\n",
      "\n",
      "        accuracy                           0.74       380\n",
      "       macro avg       0.75      0.75      0.74       380\n",
      "    weighted avg       0.75      0.74      0.74       380\n",
      "\n"
     ]
    },
    {
     "name": "stderr",
     "output_type": "stream",
     "text": [
      "Training Epochs:  10%|█         | 202/2000 [00:06<00:59, 30.25it/s]"
     ]
    },
    {
     "name": "stdout",
     "output_type": "stream",
     "text": [
      "Epoch 200/2000, Loss: 0.1063\n",
      "Test Accuracy at Epoch 200: 75.26%\n",
      "Test F1-score at Epoch 200: 0.7577\n",
      "Classification Report at Epoch 200:\n",
      "                  precision    recall  f1-score   support\n",
      "\n",
      "    infringement       0.78      0.72      0.75       194\n",
      "non_infringement       0.73      0.79      0.76       186\n",
      "\n",
      "        accuracy                           0.75       380\n",
      "       macro avg       0.75      0.75      0.75       380\n",
      "    weighted avg       0.75      0.75      0.75       380\n",
      "\n"
     ]
    },
    {
     "name": "stderr",
     "output_type": "stream",
     "text": [
      "Training Epochs:  11%|█         | 214/2000 [00:07<00:55, 32.22it/s]"
     ]
    },
    {
     "name": "stdout",
     "output_type": "stream",
     "text": [
      "Epoch 210/2000, Loss: 0.1032\n",
      "Test Accuracy at Epoch 210: 74.47%\n",
      "Test F1-score at Epoch 210: 0.7519\n",
      "Classification Report at Epoch 210:\n",
      "                  precision    recall  f1-score   support\n",
      "\n",
      "    infringement       0.78      0.70      0.74       194\n",
      "non_infringement       0.72      0.79      0.75       186\n",
      "\n",
      "        accuracy                           0.74       380\n",
      "       macro avg       0.75      0.75      0.74       380\n",
      "    weighted avg       0.75      0.74      0.74       380\n",
      "\n"
     ]
    },
    {
     "name": "stderr",
     "output_type": "stream",
     "text": [
      "Training Epochs:  11%|█         | 222/2000 [00:07<01:06, 26.89it/s]"
     ]
    },
    {
     "name": "stdout",
     "output_type": "stream",
     "text": [
      "Epoch 220/2000, Loss: 0.1022\n",
      "Test Accuracy at Epoch 220: 74.21%\n",
      "Test F1-score at Epoch 220: 0.7500\n",
      "Classification Report at Epoch 220:\n",
      "                  precision    recall  f1-score   support\n",
      "\n",
      "    infringement       0.78      0.70      0.73       194\n",
      "non_infringement       0.71      0.79      0.75       186\n",
      "\n",
      "        accuracy                           0.74       380\n",
      "       macro avg       0.74      0.74      0.74       380\n",
      "    weighted avg       0.75      0.74      0.74       380\n",
      "\n"
     ]
    },
    {
     "name": "stderr",
     "output_type": "stream",
     "text": [
      "Training Epochs:  12%|█▏        | 234/2000 [00:08<01:01, 28.50it/s]"
     ]
    },
    {
     "name": "stdout",
     "output_type": "stream",
     "text": [
      "Epoch 230/2000, Loss: 0.1015\n",
      "Test Accuracy at Epoch 230: 74.47%\n",
      "Test F1-score at Epoch 230: 0.7519\n",
      "Classification Report at Epoch 230:\n",
      "                  precision    recall  f1-score   support\n",
      "\n",
      "    infringement       0.78      0.70      0.74       194\n",
      "non_infringement       0.72      0.79      0.75       186\n",
      "\n",
      "        accuracy                           0.74       380\n",
      "       macro avg       0.75      0.75      0.74       380\n",
      "    weighted avg       0.75      0.74      0.74       380\n",
      "\n"
     ]
    },
    {
     "name": "stderr",
     "output_type": "stream",
     "text": [
      "Training Epochs:  12%|█▏        | 242/2000 [00:08<01:02, 28.07it/s]"
     ]
    },
    {
     "name": "stdout",
     "output_type": "stream",
     "text": [
      "Epoch 240/2000, Loss: 0.1008\n",
      "Test Accuracy at Epoch 240: 75.00%\n",
      "Test F1-score at Epoch 240: 0.7558\n",
      "Classification Report at Epoch 240:\n",
      "                  precision    recall  f1-score   support\n",
      "\n",
      "    infringement       0.78      0.71      0.74       194\n",
      "non_infringement       0.72      0.79      0.76       186\n",
      "\n",
      "        accuracy                           0.75       380\n",
      "       macro avg       0.75      0.75      0.75       380\n",
      "    weighted avg       0.75      0.75      0.75       380\n",
      "\n"
     ]
    },
    {
     "name": "stderr",
     "output_type": "stream",
     "text": [
      "Training Epochs:  13%|█▎        | 253/2000 [00:08<01:03, 27.43it/s]"
     ]
    },
    {
     "name": "stdout",
     "output_type": "stream",
     "text": [
      "Epoch 250/2000, Loss: 0.1063\n",
      "Test Accuracy at Epoch 250: 75.00%\n",
      "Test F1-score at Epoch 250: 0.7558\n",
      "Classification Report at Epoch 250:\n",
      "                  precision    recall  f1-score   support\n",
      "\n",
      "    infringement       0.78      0.71      0.74       194\n",
      "non_infringement       0.72      0.79      0.76       186\n",
      "\n",
      "        accuracy                           0.75       380\n",
      "       macro avg       0.75      0.75      0.75       380\n",
      "    weighted avg       0.75      0.75      0.75       380\n",
      "\n"
     ]
    },
    {
     "name": "stderr",
     "output_type": "stream",
     "text": [
      "Training Epochs:  13%|█▎        | 261/2000 [00:08<00:55, 31.19it/s]"
     ]
    },
    {
     "name": "stdout",
     "output_type": "stream",
     "text": [
      "Epoch 260/2000, Loss: 0.1019\n",
      "Test Accuracy at Epoch 260: 73.68%\n",
      "Test F1-score at Epoch 260: 0.7462\n",
      "Classification Report at Epoch 260:\n",
      "                  precision    recall  f1-score   support\n",
      "\n",
      "    infringement       0.77      0.69      0.73       194\n",
      "non_infringement       0.71      0.79      0.75       186\n",
      "\n",
      "        accuracy                           0.74       380\n",
      "       macro avg       0.74      0.74      0.74       380\n",
      "    weighted avg       0.74      0.74      0.74       380\n",
      "\n"
     ]
    },
    {
     "name": "stderr",
     "output_type": "stream",
     "text": [
      "Training Epochs:  14%|█▎        | 273/2000 [00:09<00:55, 30.92it/s]"
     ]
    },
    {
     "name": "stdout",
     "output_type": "stream",
     "text": [
      "Epoch 270/2000, Loss: 0.1014\n",
      "Test Accuracy at Epoch 270: 77.11%\n",
      "Test F1-score at Epoch 270: 0.7740\n",
      "Classification Report at Epoch 270:\n",
      "                  precision    recall  f1-score   support\n",
      "\n",
      "    infringement       0.80      0.74      0.77       194\n",
      "non_infringement       0.75      0.80      0.77       186\n",
      "\n",
      "        accuracy                           0.77       380\n",
      "       macro avg       0.77      0.77      0.77       380\n",
      "    weighted avg       0.77      0.77      0.77       380\n",
      "\n"
     ]
    },
    {
     "name": "stderr",
     "output_type": "stream",
     "text": [
      "Training Epochs:  14%|█▍        | 285/2000 [00:09<00:53, 31.95it/s]"
     ]
    },
    {
     "name": "stdout",
     "output_type": "stream",
     "text": [
      "Epoch 280/2000, Loss: 0.0999\n",
      "Test Accuracy at Epoch 280: 74.21%\n",
      "Test F1-score at Epoch 280: 0.7513\n",
      "Classification Report at Epoch 280:\n",
      "                  precision    recall  f1-score   support\n",
      "\n",
      "    infringement       0.78      0.69      0.73       194\n",
      "non_infringement       0.71      0.80      0.75       186\n",
      "\n",
      "        accuracy                           0.74       380\n",
      "       macro avg       0.75      0.74      0.74       380\n",
      "    weighted avg       0.75      0.74      0.74       380\n",
      "\n"
     ]
    },
    {
     "name": "stderr",
     "output_type": "stream",
     "text": [
      "Training Epochs:  15%|█▍        | 293/2000 [00:10<01:02, 27.23it/s]"
     ]
    },
    {
     "name": "stdout",
     "output_type": "stream",
     "text": [
      "Epoch 290/2000, Loss: 0.0994\n",
      "Test Accuracy at Epoch 290: 75.26%\n",
      "Test F1-score at Epoch 290: 0.7602\n",
      "Classification Report at Epoch 290:\n",
      "                  precision    recall  f1-score   support\n",
      "\n",
      "    infringement       0.79      0.71      0.74       194\n",
      "non_infringement       0.72      0.80      0.76       186\n",
      "\n",
      "        accuracy                           0.75       380\n",
      "       macro avg       0.76      0.75      0.75       380\n",
      "    weighted avg       0.76      0.75      0.75       380\n",
      "\n"
     ]
    },
    {
     "name": "stderr",
     "output_type": "stream",
     "text": [
      "Training Epochs:  15%|█▌        | 305/2000 [00:10<00:59, 28.60it/s]"
     ]
    },
    {
     "name": "stdout",
     "output_type": "stream",
     "text": [
      "Epoch 300/2000, Loss: 0.0990\n",
      "Test Accuracy at Epoch 300: 75.00%\n",
      "Test F1-score at Epoch 300: 0.7583\n",
      "Classification Report at Epoch 300:\n",
      "                  precision    recall  f1-score   support\n",
      "\n",
      "    infringement       0.79      0.70      0.74       194\n",
      "non_infringement       0.72      0.80      0.76       186\n",
      "\n",
      "        accuracy                           0.75       380\n",
      "       macro avg       0.75      0.75      0.75       380\n",
      "    weighted avg       0.75      0.75      0.75       380\n",
      "\n"
     ]
    },
    {
     "name": "stderr",
     "output_type": "stream",
     "text": [
      "Training Epochs:  16%|█▌        | 313/2000 [00:10<00:59, 28.46it/s]"
     ]
    },
    {
     "name": "stdout",
     "output_type": "stream",
     "text": [
      "Epoch 310/2000, Loss: 0.0985\n",
      "Test Accuracy at Epoch 310: 75.00%\n",
      "Test F1-score at Epoch 310: 0.7583\n",
      "Classification Report at Epoch 310:\n",
      "                  precision    recall  f1-score   support\n",
      "\n",
      "    infringement       0.79      0.70      0.74       194\n",
      "non_infringement       0.72      0.80      0.76       186\n",
      "\n",
      "        accuracy                           0.75       380\n",
      "       macro avg       0.75      0.75      0.75       380\n",
      "    weighted avg       0.75      0.75      0.75       380\n",
      "\n"
     ]
    },
    {
     "name": "stderr",
     "output_type": "stream",
     "text": [
      "Training Epochs:  16%|█▌        | 321/2000 [00:11<00:54, 30.74it/s]"
     ]
    },
    {
     "name": "stdout",
     "output_type": "stream",
     "text": [
      "Epoch 320/2000, Loss: 0.0981\n",
      "Test Accuracy at Epoch 320: 75.26%\n",
      "Test F1-score at Epoch 320: 0.7602\n",
      "Classification Report at Epoch 320:\n",
      "                  precision    recall  f1-score   support\n",
      "\n",
      "    infringement       0.79      0.71      0.74       194\n",
      "non_infringement       0.72      0.80      0.76       186\n",
      "\n",
      "        accuracy                           0.75       380\n",
      "       macro avg       0.76      0.75      0.75       380\n",
      "    weighted avg       0.76      0.75      0.75       380\n",
      "\n"
     ]
    },
    {
     "name": "stderr",
     "output_type": "stream",
     "text": [
      "Training Epochs:  17%|█▋        | 333/2000 [00:11<00:52, 31.79it/s]"
     ]
    },
    {
     "name": "stdout",
     "output_type": "stream",
     "text": [
      "Epoch 330/2000, Loss: 0.0977\n",
      "Test Accuracy at Epoch 330: 74.47%\n",
      "Test F1-score at Epoch 330: 0.7544\n",
      "Classification Report at Epoch 330:\n",
      "                  precision    recall  f1-score   support\n",
      "\n",
      "    infringement       0.78      0.69      0.73       194\n",
      "non_infringement       0.71      0.80      0.75       186\n",
      "\n",
      "        accuracy                           0.74       380\n",
      "       macro avg       0.75      0.75      0.74       380\n",
      "    weighted avg       0.75      0.74      0.74       380\n",
      "\n"
     ]
    },
    {
     "name": "stderr",
     "output_type": "stream",
     "text": [
      "Training Epochs:  17%|█▋        | 346/2000 [00:11<00:48, 33.77it/s]"
     ]
    },
    {
     "name": "stdout",
     "output_type": "stream",
     "text": [
      "Epoch 340/2000, Loss: 0.0977\n",
      "Test Accuracy at Epoch 340: 74.21%\n",
      "Test F1-score at Epoch 340: 0.7525\n",
      "Classification Report at Epoch 340:\n",
      "                  precision    recall  f1-score   support\n",
      "\n",
      "    infringement       0.78      0.69      0.73       194\n",
      "non_infringement       0.71      0.80      0.75       186\n",
      "\n",
      "        accuracy                           0.74       380\n",
      "       macro avg       0.75      0.74      0.74       380\n",
      "    weighted avg       0.75      0.74      0.74       380\n",
      "\n"
     ]
    },
    {
     "name": "stderr",
     "output_type": "stream",
     "text": [
      "Training Epochs:  18%|█▊        | 354/2000 [00:12<00:50, 32.51it/s]"
     ]
    },
    {
     "name": "stdout",
     "output_type": "stream",
     "text": [
      "Epoch 350/2000, Loss: 0.0987\n",
      "Test Accuracy at Epoch 350: 77.37%\n",
      "Test F1-score at Epoch 350: 0.7725\n",
      "Classification Report at Epoch 350:\n",
      "                  precision    recall  f1-score   support\n",
      "\n",
      "    infringement       0.79      0.76      0.77       194\n",
      "non_infringement       0.76      0.78      0.77       186\n",
      "\n",
      "        accuracy                           0.77       380\n",
      "       macro avg       0.77      0.77      0.77       380\n",
      "    weighted avg       0.77      0.77      0.77       380\n",
      "\n"
     ]
    },
    {
     "name": "stderr",
     "output_type": "stream",
     "text": [
      "Training Epochs:  18%|█▊        | 363/2000 [00:12<00:53, 30.66it/s]"
     ]
    },
    {
     "name": "stdout",
     "output_type": "stream",
     "text": [
      "Epoch 360/2000, Loss: 0.1033\n",
      "Test Accuracy at Epoch 360: 77.11%\n",
      "Test F1-score at Epoch 360: 0.7704\n",
      "Classification Report at Epoch 360:\n",
      "                  precision    recall  f1-score   support\n",
      "\n",
      "    infringement       0.79      0.76      0.77       194\n",
      "non_infringement       0.76      0.78      0.77       186\n",
      "\n",
      "        accuracy                           0.77       380\n",
      "       macro avg       0.77      0.77      0.77       380\n",
      "    weighted avg       0.77      0.77      0.77       380\n",
      "\n"
     ]
    },
    {
     "name": "stderr",
     "output_type": "stream",
     "text": [
      "Training Epochs:  19%|█▊        | 372/2000 [00:12<00:48, 33.91it/s]"
     ]
    },
    {
     "name": "stdout",
     "output_type": "stream",
     "text": [
      "Epoch 370/2000, Loss: 0.0997\n",
      "Test Accuracy at Epoch 370: 72.63%\n",
      "Test F1-score at Epoch 370: 0.7413\n",
      "Classification Report at Epoch 370:\n",
      "                  precision    recall  f1-score   support\n",
      "\n",
      "    infringement       0.77      0.65      0.71       194\n",
      "non_infringement       0.69      0.80      0.74       186\n",
      "\n",
      "        accuracy                           0.73       380\n",
      "       macro avg       0.73      0.73      0.73       380\n",
      "    weighted avg       0.73      0.73      0.73       380\n",
      "\n"
     ]
    },
    {
     "name": "stderr",
     "output_type": "stream",
     "text": [
      "Training Epochs:  19%|█▉        | 385/2000 [00:12<00:47, 34.22it/s]"
     ]
    },
    {
     "name": "stdout",
     "output_type": "stream",
     "text": [
      "Epoch 380/2000, Loss: 0.0980\n",
      "Test Accuracy at Epoch 380: 75.53%\n",
      "Test F1-score at Epoch 380: 0.7621\n",
      "Classification Report at Epoch 380:\n",
      "                  precision    recall  f1-score   support\n",
      "\n",
      "    infringement       0.79      0.71      0.75       194\n",
      "non_infringement       0.73      0.80      0.76       186\n",
      "\n",
      "        accuracy                           0.76       380\n",
      "       macro avg       0.76      0.76      0.76       380\n",
      "    weighted avg       0.76      0.76      0.75       380\n",
      "\n"
     ]
    },
    {
     "name": "stderr",
     "output_type": "stream",
     "text": [
      "Training Epochs:  20%|█▉        | 393/2000 [00:13<00:50, 32.12it/s]"
     ]
    },
    {
     "name": "stdout",
     "output_type": "stream",
     "text": [
      "Epoch 390/2000, Loss: 0.0972\n",
      "Test Accuracy at Epoch 390: 74.21%\n",
      "Test F1-score at Epoch 390: 0.7525\n",
      "Classification Report at Epoch 390:\n",
      "                  precision    recall  f1-score   support\n",
      "\n",
      "    infringement       0.78      0.69      0.73       194\n",
      "non_infringement       0.71      0.80      0.75       186\n",
      "\n",
      "        accuracy                           0.74       380\n",
      "       macro avg       0.75      0.74      0.74       380\n",
      "    weighted avg       0.75      0.74      0.74       380\n",
      "\n"
     ]
    },
    {
     "name": "stderr",
     "output_type": "stream",
     "text": [
      "Training Epochs:  20%|██        | 402/2000 [00:13<00:51, 31.00it/s]"
     ]
    },
    {
     "name": "stdout",
     "output_type": "stream",
     "text": [
      "Epoch 400/2000, Loss: 0.0965\n",
      "Test Accuracy at Epoch 400: 75.26%\n",
      "Test F1-score at Epoch 400: 0.7602\n",
      "Classification Report at Epoch 400:\n",
      "                  precision    recall  f1-score   support\n",
      "\n",
      "    infringement       0.79      0.71      0.74       194\n",
      "non_infringement       0.72      0.80      0.76       186\n",
      "\n",
      "        accuracy                           0.75       380\n",
      "       macro avg       0.76      0.75      0.75       380\n",
      "    weighted avg       0.76      0.75      0.75       380\n",
      "\n"
     ]
    },
    {
     "name": "stderr",
     "output_type": "stream",
     "text": [
      "Training Epochs:  21%|██        | 414/2000 [00:13<00:51, 30.68it/s]"
     ]
    },
    {
     "name": "stdout",
     "output_type": "stream",
     "text": [
      "Epoch 410/2000, Loss: 0.0962\n",
      "Test Accuracy at Epoch 410: 74.47%\n",
      "Test F1-score at Epoch 410: 0.7544\n",
      "Classification Report at Epoch 410:\n",
      "                  precision    recall  f1-score   support\n",
      "\n",
      "    infringement       0.78      0.69      0.73       194\n",
      "non_infringement       0.71      0.80      0.75       186\n",
      "\n",
      "        accuracy                           0.74       380\n",
      "       macro avg       0.75      0.75      0.74       380\n",
      "    weighted avg       0.75      0.74      0.74       380\n",
      "\n"
     ]
    },
    {
     "name": "stderr",
     "output_type": "stream",
     "text": [
      "Training Epochs:  21%|██        | 423/2000 [00:14<00:46, 34.11it/s]"
     ]
    },
    {
     "name": "stdout",
     "output_type": "stream",
     "text": [
      "Epoch 420/2000, Loss: 0.0959\n",
      "Test Accuracy at Epoch 420: 74.47%\n",
      "Test F1-score at Epoch 420: 0.7544\n",
      "Classification Report at Epoch 420:\n",
      "                  precision    recall  f1-score   support\n",
      "\n",
      "    infringement       0.78      0.69      0.73       194\n",
      "non_infringement       0.71      0.80      0.75       186\n",
      "\n",
      "        accuracy                           0.74       380\n",
      "       macro avg       0.75      0.75      0.74       380\n",
      "    weighted avg       0.75      0.74      0.74       380\n",
      "\n"
     ]
    },
    {
     "name": "stderr",
     "output_type": "stream",
     "text": [
      "Training Epochs:  22%|██▏       | 436/2000 [00:14<00:45, 34.07it/s]"
     ]
    },
    {
     "name": "stdout",
     "output_type": "stream",
     "text": [
      "Epoch 430/2000, Loss: 0.0957\n",
      "Test Accuracy at Epoch 430: 74.47%\n",
      "Test F1-score at Epoch 430: 0.7544\n",
      "Classification Report at Epoch 430:\n",
      "                  precision    recall  f1-score   support\n",
      "\n",
      "    infringement       0.78      0.69      0.73       194\n",
      "non_infringement       0.71      0.80      0.75       186\n",
      "\n",
      "        accuracy                           0.74       380\n",
      "       macro avg       0.75      0.75      0.74       380\n",
      "    weighted avg       0.75      0.74      0.74       380\n",
      "\n"
     ]
    },
    {
     "name": "stderr",
     "output_type": "stream",
     "text": [
      "Training Epochs:  22%|██▏       | 444/2000 [00:14<00:47, 32.93it/s]"
     ]
    },
    {
     "name": "stdout",
     "output_type": "stream",
     "text": [
      "Epoch 440/2000, Loss: 0.0955\n",
      "Test Accuracy at Epoch 440: 75.26%\n",
      "Test F1-score at Epoch 440: 0.7602\n",
      "Classification Report at Epoch 440:\n",
      "                  precision    recall  f1-score   support\n",
      "\n",
      "    infringement       0.79      0.71      0.74       194\n",
      "non_infringement       0.72      0.80      0.76       186\n",
      "\n",
      "        accuracy                           0.75       380\n",
      "       macro avg       0.76      0.75      0.75       380\n",
      "    weighted avg       0.76      0.75      0.75       380\n",
      "\n"
     ]
    },
    {
     "name": "stderr",
     "output_type": "stream",
     "text": [
      "Training Epochs:  23%|██▎       | 453/2000 [00:15<00:43, 35.66it/s]"
     ]
    },
    {
     "name": "stdout",
     "output_type": "stream",
     "text": [
      "Epoch 450/2000, Loss: 0.0953\n",
      "Test Accuracy at Epoch 450: 75.26%\n",
      "Test F1-score at Epoch 450: 0.7602\n",
      "Classification Report at Epoch 450:\n",
      "                  precision    recall  f1-score   support\n",
      "\n",
      "    infringement       0.79      0.71      0.74       194\n",
      "non_infringement       0.72      0.80      0.76       186\n",
      "\n",
      "        accuracy                           0.75       380\n",
      "       macro avg       0.76      0.75      0.75       380\n",
      "    weighted avg       0.76      0.75      0.75       380\n",
      "\n"
     ]
    },
    {
     "name": "stderr",
     "output_type": "stream",
     "text": [
      "Training Epochs:  23%|██▎       | 465/2000 [00:15<00:45, 33.70it/s]"
     ]
    },
    {
     "name": "stdout",
     "output_type": "stream",
     "text": [
      "Epoch 460/2000, Loss: 0.1053\n",
      "Test Accuracy at Epoch 460: 77.37%\n",
      "Test F1-score at Epoch 460: 0.7760\n",
      "Classification Report at Epoch 460:\n",
      "                  precision    recall  f1-score   support\n",
      "\n",
      "    infringement       0.80      0.75      0.77       194\n",
      "non_infringement       0.75      0.80      0.78       186\n",
      "\n",
      "        accuracy                           0.77       380\n",
      "       macro avg       0.77      0.77      0.77       380\n",
      "    weighted avg       0.78      0.77      0.77       380\n",
      "\n",
      "New best model saved with F1-score 0.7760 at epoch 460\n",
      "Best Classification Report at Epoch 460:\n",
      "                  precision    recall  f1-score   support\n",
      "\n",
      "    infringement       0.80      0.75      0.77       194\n",
      "non_infringement       0.75      0.80      0.78       186\n",
      "\n",
      "        accuracy                           0.77       380\n",
      "       macro avg       0.77      0.77      0.77       380\n",
      "    weighted avg       0.78      0.77      0.77       380\n",
      "\n"
     ]
    },
    {
     "name": "stderr",
     "output_type": "stream",
     "text": [
      "Training Epochs:  24%|██▎       | 473/2000 [00:15<00:47, 31.97it/s]"
     ]
    },
    {
     "name": "stdout",
     "output_type": "stream",
     "text": [
      "Epoch 470/2000, Loss: 0.0994\n",
      "Test Accuracy at Epoch 470: 73.95%\n",
      "Test F1-score at Epoch 470: 0.7506\n",
      "Classification Report at Epoch 470:\n",
      "                  precision    recall  f1-score   support\n",
      "\n",
      "    infringement       0.78      0.68      0.73       194\n",
      "non_infringement       0.71      0.80      0.75       186\n",
      "\n",
      "        accuracy                           0.74       380\n",
      "       macro avg       0.74      0.74      0.74       380\n",
      "    weighted avg       0.74      0.74      0.74       380\n",
      "\n"
     ]
    },
    {
     "name": "stderr",
     "output_type": "stream",
     "text": [
      "Training Epochs:  24%|██▍       | 482/2000 [00:15<00:49, 30.67it/s]"
     ]
    },
    {
     "name": "stdout",
     "output_type": "stream",
     "text": [
      "Epoch 480/2000, Loss: 0.0988\n",
      "Test Accuracy at Epoch 480: 77.37%\n",
      "Test F1-score at Epoch 480: 0.7760\n",
      "Classification Report at Epoch 480:\n",
      "                  precision    recall  f1-score   support\n",
      "\n",
      "    infringement       0.80      0.75      0.77       194\n",
      "non_infringement       0.75      0.80      0.78       186\n",
      "\n",
      "        accuracy                           0.77       380\n",
      "       macro avg       0.77      0.77      0.77       380\n",
      "    weighted avg       0.78      0.77      0.77       380\n",
      "\n"
     ]
    },
    {
     "name": "stderr",
     "output_type": "stream",
     "text": [
      "Training Epochs:  25%|██▍       | 495/2000 [00:16<00:47, 31.60it/s]"
     ]
    },
    {
     "name": "stdout",
     "output_type": "stream",
     "text": [
      "Epoch 490/2000, Loss: 0.0970\n",
      "Test Accuracy at Epoch 490: 74.47%\n",
      "Test F1-score at Epoch 490: 0.7544\n",
      "Classification Report at Epoch 490:\n",
      "                  precision    recall  f1-score   support\n",
      "\n",
      "    infringement       0.78      0.69      0.73       194\n",
      "non_infringement       0.71      0.80      0.75       186\n",
      "\n",
      "        accuracy                           0.74       380\n",
      "       macro avg       0.75      0.75      0.74       380\n",
      "    weighted avg       0.75      0.74      0.74       380\n",
      "\n"
     ]
    },
    {
     "name": "stderr",
     "output_type": "stream",
     "text": [
      "Training Epochs:  25%|██▌       | 503/2000 [00:16<00:44, 33.27it/s]"
     ]
    },
    {
     "name": "stdout",
     "output_type": "stream",
     "text": [
      "Epoch 500/2000, Loss: 0.0961\n",
      "Test Accuracy at Epoch 500: 74.74%\n",
      "Test F1-score at Epoch 500: 0.7563\n",
      "Classification Report at Epoch 500:\n",
      "                  precision    recall  f1-score   support\n",
      "\n",
      "    infringement       0.78      0.70      0.74       194\n",
      "non_infringement       0.72      0.80      0.76       186\n",
      "\n",
      "        accuracy                           0.75       380\n",
      "       macro avg       0.75      0.75      0.75       380\n",
      "    weighted avg       0.75      0.75      0.75       380\n",
      "\n"
     ]
    },
    {
     "name": "stderr",
     "output_type": "stream",
     "text": [
      "Training Epochs:  26%|██▌       | 516/2000 [00:16<00:41, 35.82it/s]"
     ]
    },
    {
     "name": "stdout",
     "output_type": "stream",
     "text": [
      "Epoch 510/2000, Loss: 0.0951\n",
      "Test Accuracy at Epoch 510: 74.47%\n",
      "Test F1-score at Epoch 510: 0.7544\n",
      "Classification Report at Epoch 510:\n",
      "                  precision    recall  f1-score   support\n",
      "\n",
      "    infringement       0.78      0.69      0.73       194\n",
      "non_infringement       0.71      0.80      0.75       186\n",
      "\n",
      "        accuracy                           0.74       380\n",
      "       macro avg       0.75      0.75      0.74       380\n",
      "    weighted avg       0.75      0.74      0.74       380\n",
      "\n"
     ]
    },
    {
     "name": "stderr",
     "output_type": "stream",
     "text": [
      "Training Epochs:  26%|██▌       | 524/2000 [00:17<00:45, 32.71it/s]"
     ]
    },
    {
     "name": "stdout",
     "output_type": "stream",
     "text": [
      "Epoch 520/2000, Loss: 0.0950\n",
      "Test Accuracy at Epoch 520: 74.74%\n",
      "Test F1-score at Epoch 520: 0.7563\n",
      "Classification Report at Epoch 520:\n",
      "                  precision    recall  f1-score   support\n",
      "\n",
      "    infringement       0.78      0.70      0.74       194\n",
      "non_infringement       0.72      0.80      0.76       186\n",
      "\n",
      "        accuracy                           0.75       380\n",
      "       macro avg       0.75      0.75      0.75       380\n",
      "    weighted avg       0.75      0.75      0.75       380\n",
      "\n"
     ]
    },
    {
     "name": "stderr",
     "output_type": "stream",
     "text": [
      "Training Epochs:  27%|██▋       | 533/2000 [00:17<00:41, 35.28it/s]"
     ]
    },
    {
     "name": "stdout",
     "output_type": "stream",
     "text": [
      "Epoch 530/2000, Loss: 0.0947\n",
      "Test Accuracy at Epoch 530: 74.47%\n",
      "Test F1-score at Epoch 530: 0.7544\n",
      "Classification Report at Epoch 530:\n",
      "                  precision    recall  f1-score   support\n",
      "\n",
      "    infringement       0.78      0.69      0.73       194\n",
      "non_infringement       0.71      0.80      0.75       186\n",
      "\n",
      "        accuracy                           0.74       380\n",
      "       macro avg       0.75      0.75      0.74       380\n",
      "    weighted avg       0.75      0.74      0.74       380\n",
      "\n"
     ]
    },
    {
     "name": "stderr",
     "output_type": "stream",
     "text": [
      "Training Epochs:  27%|██▋       | 546/2000 [00:17<00:39, 36.53it/s]"
     ]
    },
    {
     "name": "stdout",
     "output_type": "stream",
     "text": [
      "Epoch 540/2000, Loss: 0.0946\n",
      "Test Accuracy at Epoch 540: 73.95%\n",
      "Test F1-score at Epoch 540: 0.7506\n",
      "Classification Report at Epoch 540:\n",
      "                  precision    recall  f1-score   support\n",
      "\n",
      "    infringement       0.78      0.68      0.73       194\n",
      "non_infringement       0.71      0.80      0.75       186\n",
      "\n",
      "        accuracy                           0.74       380\n",
      "       macro avg       0.74      0.74      0.74       380\n",
      "    weighted avg       0.74      0.74      0.74       380\n",
      "\n"
     ]
    },
    {
     "name": "stderr",
     "output_type": "stream",
     "text": [
      "Training Epochs:  28%|██▊       | 555/2000 [00:18<00:41, 35.14it/s]"
     ]
    },
    {
     "name": "stdout",
     "output_type": "stream",
     "text": [
      "Epoch 550/2000, Loss: 0.0944\n",
      "Test Accuracy at Epoch 550: 73.95%\n",
      "Test F1-score at Epoch 550: 0.7506\n",
      "Classification Report at Epoch 550:\n",
      "                  precision    recall  f1-score   support\n",
      "\n",
      "    infringement       0.78      0.68      0.73       194\n",
      "non_infringement       0.71      0.80      0.75       186\n",
      "\n",
      "        accuracy                           0.74       380\n",
      "       macro avg       0.74      0.74      0.74       380\n",
      "    weighted avg       0.74      0.74      0.74       380\n",
      "\n"
     ]
    },
    {
     "name": "stderr",
     "output_type": "stream",
     "text": [
      "Training Epochs:  28%|██▊       | 564/2000 [00:18<00:44, 32.63it/s]"
     ]
    },
    {
     "name": "stdout",
     "output_type": "stream",
     "text": [
      "Epoch 560/2000, Loss: 0.0943\n",
      "Test Accuracy at Epoch 560: 73.95%\n",
      "Test F1-score at Epoch 560: 0.7506\n",
      "Classification Report at Epoch 560:\n",
      "                  precision    recall  f1-score   support\n",
      "\n",
      "    infringement       0.78      0.68      0.73       194\n",
      "non_infringement       0.71      0.80      0.75       186\n",
      "\n",
      "        accuracy                           0.74       380\n",
      "       macro avg       0.74      0.74      0.74       380\n",
      "    weighted avg       0.74      0.74      0.74       380\n",
      "\n"
     ]
    },
    {
     "name": "stderr",
     "output_type": "stream",
     "text": [
      "Training Epochs:  29%|██▊       | 573/2000 [00:18<00:40, 35.06it/s]"
     ]
    },
    {
     "name": "stdout",
     "output_type": "stream",
     "text": [
      "Epoch 570/2000, Loss: 0.0942\n",
      "Test Accuracy at Epoch 570: 74.21%\n",
      "Test F1-score at Epoch 570: 0.7525\n",
      "Classification Report at Epoch 570:\n",
      "                  precision    recall  f1-score   support\n",
      "\n",
      "    infringement       0.78      0.69      0.73       194\n",
      "non_infringement       0.71      0.80      0.75       186\n",
      "\n",
      "        accuracy                           0.74       380\n",
      "       macro avg       0.75      0.74      0.74       380\n",
      "    weighted avg       0.75      0.74      0.74       380\n",
      "\n"
     ]
    },
    {
     "name": "stderr",
     "output_type": "stream",
     "text": [
      "Training Epochs:  29%|██▉       | 586/2000 [00:19<00:39, 35.43it/s]"
     ]
    },
    {
     "name": "stdout",
     "output_type": "stream",
     "text": [
      "Epoch 580/2000, Loss: 0.0941\n",
      "Test Accuracy at Epoch 580: 74.21%\n",
      "Test F1-score at Epoch 580: 0.7525\n",
      "Classification Report at Epoch 580:\n",
      "                  precision    recall  f1-score   support\n",
      "\n",
      "    infringement       0.78      0.69      0.73       194\n",
      "non_infringement       0.71      0.80      0.75       186\n",
      "\n",
      "        accuracy                           0.74       380\n",
      "       macro avg       0.75      0.74      0.74       380\n",
      "    weighted avg       0.75      0.74      0.74       380\n",
      "\n"
     ]
    },
    {
     "name": "stderr",
     "output_type": "stream",
     "text": [
      "Training Epochs:  30%|██▉       | 595/2000 [00:19<00:41, 33.95it/s]"
     ]
    },
    {
     "name": "stdout",
     "output_type": "stream",
     "text": [
      "Epoch 590/2000, Loss: 0.0940\n",
      "Test Accuracy at Epoch 590: 73.95%\n",
      "Test F1-score at Epoch 590: 0.7506\n",
      "Classification Report at Epoch 590:\n",
      "                  precision    recall  f1-score   support\n",
      "\n",
      "    infringement       0.78      0.68      0.73       194\n",
      "non_infringement       0.71      0.80      0.75       186\n",
      "\n",
      "        accuracy                           0.74       380\n",
      "       macro avg       0.74      0.74      0.74       380\n",
      "    weighted avg       0.74      0.74      0.74       380\n",
      "\n"
     ]
    },
    {
     "name": "stderr",
     "output_type": "stream",
     "text": [
      "Training Epochs:  30%|███       | 603/2000 [00:19<00:46, 30.32it/s]"
     ]
    },
    {
     "name": "stdout",
     "output_type": "stream",
     "text": [
      "Epoch 600/2000, Loss: 0.0940\n",
      "Test Accuracy at Epoch 600: 74.21%\n",
      "Test F1-score at Epoch 600: 0.7525\n",
      "Classification Report at Epoch 600:\n",
      "                  precision    recall  f1-score   support\n",
      "\n",
      "    infringement       0.78      0.69      0.73       194\n",
      "non_infringement       0.71      0.80      0.75       186\n",
      "\n",
      "        accuracy                           0.74       380\n",
      "       macro avg       0.75      0.74      0.74       380\n",
      "    weighted avg       0.75      0.74      0.74       380\n",
      "\n"
     ]
    },
    {
     "name": "stderr",
     "output_type": "stream",
     "text": [
      "Training Epochs:  31%|███       | 612/2000 [00:19<00:40, 34.36it/s]"
     ]
    },
    {
     "name": "stdout",
     "output_type": "stream",
     "text": [
      "Epoch 610/2000, Loss: 0.0939\n",
      "Test Accuracy at Epoch 610: 73.95%\n",
      "Test F1-score at Epoch 610: 0.7506\n",
      "Classification Report at Epoch 610:\n",
      "                  precision    recall  f1-score   support\n",
      "\n",
      "    infringement       0.78      0.68      0.73       194\n",
      "non_infringement       0.71      0.80      0.75       186\n",
      "\n",
      "        accuracy                           0.74       380\n",
      "       macro avg       0.74      0.74      0.74       380\n",
      "    weighted avg       0.74      0.74      0.74       380\n",
      "\n"
     ]
    },
    {
     "name": "stderr",
     "output_type": "stream",
     "text": [
      "Training Epochs:  31%|███▏      | 625/2000 [00:20<00:38, 35.64it/s]"
     ]
    },
    {
     "name": "stdout",
     "output_type": "stream",
     "text": [
      "Epoch 620/2000, Loss: 0.1045\n",
      "Test Accuracy at Epoch 620: 71.58%\n",
      "Test F1-score at Epoch 620: 0.7340\n",
      "Classification Report at Epoch 620:\n",
      "                  precision    recall  f1-score   support\n",
      "\n",
      "    infringement       0.77      0.63      0.69       194\n",
      "non_infringement       0.68      0.80      0.73       186\n",
      "\n",
      "        accuracy                           0.72       380\n",
      "       macro avg       0.72      0.72      0.71       380\n",
      "    weighted avg       0.72      0.72      0.71       380\n",
      "\n"
     ]
    },
    {
     "name": "stderr",
     "output_type": "stream",
     "text": [
      "Training Epochs:  32%|███▏      | 633/2000 [00:20<00:43, 31.08it/s]"
     ]
    },
    {
     "name": "stdout",
     "output_type": "stream",
     "text": [
      "Epoch 630/2000, Loss: 0.1077\n",
      "Test Accuracy at Epoch 630: 75.53%\n",
      "Test F1-score at Epoch 630: 0.7692\n",
      "Classification Report at Epoch 630:\n",
      "                  precision    recall  f1-score   support\n",
      "\n",
      "    infringement       0.81      0.68      0.74       194\n",
      "non_infringement       0.71      0.83      0.77       186\n",
      "\n",
      "        accuracy                           0.76       380\n",
      "       macro avg       0.76      0.76      0.75       380\n",
      "    weighted avg       0.76      0.76      0.75       380\n",
      "\n"
     ]
    },
    {
     "name": "stderr",
     "output_type": "stream",
     "text": [
      "Training Epochs:  32%|███▏      | 646/2000 [00:20<00:40, 33.18it/s]"
     ]
    },
    {
     "name": "stdout",
     "output_type": "stream",
     "text": [
      "Epoch 640/2000, Loss: 0.1023\n",
      "Test Accuracy at Epoch 640: 73.16%\n",
      "Test F1-score at Epoch 640: 0.7500\n",
      "Classification Report at Epoch 640:\n",
      "                  precision    recall  f1-score   support\n",
      "\n",
      "    infringement       0.79      0.64      0.71       194\n",
      "non_infringement       0.69      0.82      0.75       186\n",
      "\n",
      "        accuracy                           0.73       380\n",
      "       macro avg       0.74      0.73      0.73       380\n",
      "    weighted avg       0.74      0.73      0.73       380\n",
      "\n"
     ]
    },
    {
     "name": "stderr",
     "output_type": "stream",
     "text": [
      "Training Epochs:  33%|███▎      | 654/2000 [00:21<00:43, 30.91it/s]"
     ]
    },
    {
     "name": "stdout",
     "output_type": "stream",
     "text": [
      "Epoch 650/2000, Loss: 0.0979\n",
      "Test Accuracy at Epoch 650: 77.37%\n",
      "Test F1-score at Epoch 650: 0.7828\n",
      "Classification Report at Epoch 650:\n",
      "                  precision    recall  f1-score   support\n",
      "\n",
      "    infringement       0.82      0.72      0.76       194\n",
      "non_infringement       0.74      0.83      0.78       186\n",
      "\n",
      "        accuracy                           0.77       380\n",
      "       macro avg       0.78      0.77      0.77       380\n",
      "    weighted avg       0.78      0.77      0.77       380\n",
      "\n",
      "New best model saved with F1-score 0.7828 at epoch 650\n",
      "Best Classification Report at Epoch 650:\n",
      "                  precision    recall  f1-score   support\n",
      "\n",
      "    infringement       0.82      0.72      0.76       194\n",
      "non_infringement       0.74      0.83      0.78       186\n",
      "\n",
      "        accuracy                           0.77       380\n",
      "       macro avg       0.78      0.77      0.77       380\n",
      "    weighted avg       0.78      0.77      0.77       380\n",
      "\n"
     ]
    },
    {
     "name": "stderr",
     "output_type": "stream",
     "text": [
      "Training Epochs:  33%|███▎      | 664/2000 [00:21<00:36, 36.55it/s]"
     ]
    },
    {
     "name": "stdout",
     "output_type": "stream",
     "text": [
      "Epoch 660/2000, Loss: 0.0951\n",
      "Test Accuracy at Epoch 660: 76.05%\n",
      "Test F1-score at Epoch 660: 0.7731\n",
      "Classification Report at Epoch 660:\n",
      "                  precision    recall  f1-score   support\n",
      "\n",
      "    infringement       0.81      0.69      0.75       194\n",
      "non_infringement       0.72      0.83      0.77       186\n",
      "\n",
      "        accuracy                           0.76       380\n",
      "       macro avg       0.77      0.76      0.76       380\n",
      "    weighted avg       0.77      0.76      0.76       380\n",
      "\n"
     ]
    },
    {
     "name": "stderr",
     "output_type": "stream",
     "text": [
      "Training Epochs:  34%|███▍      | 677/2000 [00:21<00:34, 38.13it/s]"
     ]
    },
    {
     "name": "stdout",
     "output_type": "stream",
     "text": [
      "Epoch 670/2000, Loss: 0.0944\n",
      "Test Accuracy at Epoch 670: 75.26%\n",
      "Test F1-score at Epoch 670: 0.7673\n",
      "Classification Report at Epoch 670:\n",
      "                  precision    recall  f1-score   support\n",
      "\n",
      "    infringement       0.81      0.68      0.74       194\n",
      "non_infringement       0.71      0.83      0.77       186\n",
      "\n",
      "        accuracy                           0.75       380\n",
      "       macro avg       0.76      0.75      0.75       380\n",
      "    weighted avg       0.76      0.75      0.75       380\n",
      "\n"
     ]
    },
    {
     "name": "stderr",
     "output_type": "stream",
     "text": [
      "Training Epochs:  34%|███▍      | 685/2000 [00:21<00:39, 33.20it/s]"
     ]
    },
    {
     "name": "stdout",
     "output_type": "stream",
     "text": [
      "Epoch 680/2000, Loss: 0.0940\n",
      "Test Accuracy at Epoch 680: 75.26%\n",
      "Test F1-score at Epoch 680: 0.7673\n",
      "Classification Report at Epoch 680:\n",
      "                  precision    recall  f1-score   support\n",
      "\n",
      "    infringement       0.81      0.68      0.74       194\n",
      "non_infringement       0.71      0.83      0.77       186\n",
      "\n",
      "        accuracy                           0.75       380\n",
      "       macro avg       0.76      0.75      0.75       380\n",
      "    weighted avg       0.76      0.75      0.75       380\n",
      "\n"
     ]
    },
    {
     "name": "stderr",
     "output_type": "stream",
     "text": [
      "Training Epochs:  35%|███▍      | 695/2000 [00:22<00:34, 37.85it/s]"
     ]
    },
    {
     "name": "stdout",
     "output_type": "stream",
     "text": [
      "Epoch 690/2000, Loss: 0.0939\n",
      "Test Accuracy at Epoch 690: 75.79%\n",
      "Test F1-score at Epoch 690: 0.7711\n",
      "Classification Report at Epoch 690:\n",
      "                  precision    recall  f1-score   support\n",
      "\n",
      "    infringement       0.81      0.69      0.74       194\n",
      "non_infringement       0.72      0.83      0.77       186\n",
      "\n",
      "        accuracy                           0.76       380\n",
      "       macro avg       0.76      0.76      0.76       380\n",
      "    weighted avg       0.77      0.76      0.76       380\n",
      "\n"
     ]
    },
    {
     "name": "stderr",
     "output_type": "stream",
     "text": [
      "Training Epochs:  35%|███▌      | 708/2000 [00:22<00:34, 37.88it/s]"
     ]
    },
    {
     "name": "stdout",
     "output_type": "stream",
     "text": [
      "Epoch 700/2000, Loss: 0.0937\n",
      "Test Accuracy at Epoch 700: 75.79%\n",
      "Test F1-score at Epoch 700: 0.7711\n",
      "Classification Report at Epoch 700:\n",
      "                  precision    recall  f1-score   support\n",
      "\n",
      "    infringement       0.81      0.69      0.74       194\n",
      "non_infringement       0.72      0.83      0.77       186\n",
      "\n",
      "        accuracy                           0.76       380\n",
      "       macro avg       0.76      0.76      0.76       380\n",
      "    weighted avg       0.77      0.76      0.76       380\n",
      "\n"
     ]
    },
    {
     "name": "stderr",
     "output_type": "stream",
     "text": [
      "Training Epochs:  36%|███▌      | 712/2000 [00:22<00:37, 34.02it/s]"
     ]
    },
    {
     "name": "stdout",
     "output_type": "stream",
     "text": [
      "Epoch 710/2000, Loss: 0.0937\n",
      "Test Accuracy at Epoch 710: 75.79%\n",
      "Test F1-score at Epoch 710: 0.7711\n",
      "Classification Report at Epoch 710:\n",
      "                  precision    recall  f1-score   support\n",
      "\n",
      "    infringement       0.81      0.69      0.74       194\n",
      "non_infringement       0.72      0.83      0.77       186\n",
      "\n",
      "        accuracy                           0.76       380\n",
      "       macro avg       0.76      0.76      0.76       380\n",
      "    weighted avg       0.77      0.76      0.76       380\n",
      "\n"
     ]
    },
    {
     "name": "stderr",
     "output_type": "stream",
     "text": [
      "Training Epochs:  36%|███▋      | 725/2000 [00:23<00:38, 33.01it/s]"
     ]
    },
    {
     "name": "stdout",
     "output_type": "stream",
     "text": [
      "Epoch 720/2000, Loss: 0.0936\n",
      "Test Accuracy at Epoch 720: 75.26%\n",
      "Test F1-score at Epoch 720: 0.7673\n",
      "Classification Report at Epoch 720:\n",
      "                  precision    recall  f1-score   support\n",
      "\n",
      "    infringement       0.81      0.68      0.74       194\n",
      "non_infringement       0.71      0.83      0.77       186\n",
      "\n",
      "        accuracy                           0.75       380\n",
      "       macro avg       0.76      0.75      0.75       380\n",
      "    weighted avg       0.76      0.75      0.75       380\n",
      "\n"
     ]
    },
    {
     "name": "stderr",
     "output_type": "stream",
     "text": [
      "Training Epochs:  37%|███▋      | 738/2000 [00:23<00:33, 37.51it/s]"
     ]
    },
    {
     "name": "stdout",
     "output_type": "stream",
     "text": [
      "Epoch 730/2000, Loss: 0.0935\n",
      "Test Accuracy at Epoch 730: 75.26%\n",
      "Test F1-score at Epoch 730: 0.7650\n",
      "Classification Report at Epoch 730:\n",
      "                  precision    recall  f1-score   support\n",
      "\n",
      "    infringement       0.80      0.69      0.74       194\n",
      "non_infringement       0.71      0.82      0.77       186\n",
      "\n",
      "        accuracy                           0.75       380\n",
      "       macro avg       0.76      0.75      0.75       380\n",
      "    weighted avg       0.76      0.75      0.75       380\n",
      "\n"
     ]
    },
    {
     "name": "stderr",
     "output_type": "stream",
     "text": [
      "Training Epochs:  37%|███▋      | 747/2000 [00:23<00:35, 35.33it/s]"
     ]
    },
    {
     "name": "stdout",
     "output_type": "stream",
     "text": [
      "Epoch 740/2000, Loss: 0.0935\n",
      "Test Accuracy at Epoch 740: 75.53%\n",
      "Test F1-score at Epoch 740: 0.7669\n",
      "Classification Report at Epoch 740:\n",
      "                  precision    recall  f1-score   support\n",
      "\n",
      "    infringement       0.80      0.69      0.74       194\n",
      "non_infringement       0.72      0.82      0.77       186\n",
      "\n",
      "        accuracy                           0.76       380\n",
      "       macro avg       0.76      0.76      0.75       380\n",
      "    weighted avg       0.76      0.76      0.75       380\n",
      "\n"
     ]
    },
    {
     "name": "stderr",
     "output_type": "stream",
     "text": [
      "Training Epochs:  38%|███▊      | 755/2000 [00:23<00:37, 33.62it/s]"
     ]
    },
    {
     "name": "stdout",
     "output_type": "stream",
     "text": [
      "Epoch 750/2000, Loss: 0.0934\n",
      "Test Accuracy at Epoch 750: 75.26%\n",
      "Test F1-score at Epoch 750: 0.7650\n",
      "Classification Report at Epoch 750:\n",
      "                  precision    recall  f1-score   support\n",
      "\n",
      "    infringement       0.80      0.69      0.74       194\n",
      "non_infringement       0.71      0.82      0.77       186\n",
      "\n",
      "        accuracy                           0.75       380\n",
      "       macro avg       0.76      0.75      0.75       380\n",
      "    weighted avg       0.76      0.75      0.75       380\n",
      "\n"
     ]
    },
    {
     "name": "stderr",
     "output_type": "stream",
     "text": [
      "Training Epochs:  38%|███▊      | 765/2000 [00:24<00:33, 37.02it/s]"
     ]
    },
    {
     "name": "stdout",
     "output_type": "stream",
     "text": [
      "Epoch 760/2000, Loss: 0.0934\n",
      "Test Accuracy at Epoch 760: 75.26%\n",
      "Test F1-score at Epoch 760: 0.7650\n",
      "Classification Report at Epoch 760:\n",
      "                  precision    recall  f1-score   support\n",
      "\n",
      "    infringement       0.80      0.69      0.74       194\n",
      "non_infringement       0.71      0.82      0.77       186\n",
      "\n",
      "        accuracy                           0.75       380\n",
      "       macro avg       0.76      0.75      0.75       380\n",
      "    weighted avg       0.76      0.75      0.75       380\n",
      "\n"
     ]
    },
    {
     "name": "stderr",
     "output_type": "stream",
     "text": [
      "Training Epochs:  39%|███▊      | 773/2000 [00:24<00:35, 34.21it/s]"
     ]
    },
    {
     "name": "stdout",
     "output_type": "stream",
     "text": [
      "Epoch 770/2000, Loss: 0.0933\n",
      "Test Accuracy at Epoch 770: 74.74%\n",
      "Test F1-score at Epoch 770: 0.7612\n",
      "Classification Report at Epoch 770:\n",
      "                  precision    recall  f1-score   support\n",
      "\n",
      "    infringement       0.80      0.68      0.73       194\n",
      "non_infringement       0.71      0.82      0.76       186\n",
      "\n",
      "        accuracy                           0.75       380\n",
      "       macro avg       0.75      0.75      0.75       380\n",
      "    weighted avg       0.75      0.75      0.75       380\n",
      "\n"
     ]
    },
    {
     "name": "stderr",
     "output_type": "stream",
     "text": [
      "Training Epochs:  39%|███▉      | 782/2000 [00:24<00:36, 33.05it/s]"
     ]
    },
    {
     "name": "stdout",
     "output_type": "stream",
     "text": [
      "Epoch 780/2000, Loss: 0.0933\n",
      "Test Accuracy at Epoch 780: 74.74%\n",
      "Test F1-score at Epoch 780: 0.7612\n",
      "Classification Report at Epoch 780:\n",
      "                  precision    recall  f1-score   support\n",
      "\n",
      "    infringement       0.80      0.68      0.73       194\n",
      "non_infringement       0.71      0.82      0.76       186\n",
      "\n",
      "        accuracy                           0.75       380\n",
      "       macro avg       0.75      0.75      0.75       380\n",
      "    weighted avg       0.75      0.75      0.75       380\n",
      "\n"
     ]
    },
    {
     "name": "stderr",
     "output_type": "stream",
     "text": [
      "Training Epochs:  40%|███▉      | 795/2000 [00:25<00:35, 33.99it/s]"
     ]
    },
    {
     "name": "stdout",
     "output_type": "stream",
     "text": [
      "Epoch 790/2000, Loss: 0.0933\n",
      "Test Accuracy at Epoch 790: 74.74%\n",
      "Test F1-score at Epoch 790: 0.7612\n",
      "Classification Report at Epoch 790:\n",
      "                  precision    recall  f1-score   support\n",
      "\n",
      "    infringement       0.80      0.68      0.73       194\n",
      "non_infringement       0.71      0.82      0.76       186\n",
      "\n",
      "        accuracy                           0.75       380\n",
      "       macro avg       0.75      0.75      0.75       380\n",
      "    weighted avg       0.75      0.75      0.75       380\n",
      "\n"
     ]
    },
    {
     "name": "stderr",
     "output_type": "stream",
     "text": [
      "Training Epochs:  40%|████      | 808/2000 [00:25<00:31, 38.19it/s]"
     ]
    },
    {
     "name": "stdout",
     "output_type": "stream",
     "text": [
      "Epoch 800/2000, Loss: 0.0932\n",
      "Test Accuracy at Epoch 800: 74.74%\n",
      "Test F1-score at Epoch 800: 0.7612\n",
      "Classification Report at Epoch 800:\n",
      "                  precision    recall  f1-score   support\n",
      "\n",
      "    infringement       0.80      0.68      0.73       194\n",
      "non_infringement       0.71      0.82      0.76       186\n",
      "\n",
      "        accuracy                           0.75       380\n",
      "       macro avg       0.75      0.75      0.75       380\n",
      "    weighted avg       0.75      0.75      0.75       380\n",
      "\n"
     ]
    },
    {
     "name": "stderr",
     "output_type": "stream",
     "text": [
      "Training Epochs:  41%|████      | 817/2000 [00:25<00:32, 36.16it/s]"
     ]
    },
    {
     "name": "stdout",
     "output_type": "stream",
     "text": [
      "Epoch 810/2000, Loss: 0.0932\n",
      "Test Accuracy at Epoch 810: 74.74%\n",
      "Test F1-score at Epoch 810: 0.7612\n",
      "Classification Report at Epoch 810:\n",
      "                  precision    recall  f1-score   support\n",
      "\n",
      "    infringement       0.80      0.68      0.73       194\n",
      "non_infringement       0.71      0.82      0.76       186\n",
      "\n",
      "        accuracy                           0.75       380\n",
      "       macro avg       0.75      0.75      0.75       380\n",
      "    weighted avg       0.75      0.75      0.75       380\n",
      "\n"
     ]
    },
    {
     "name": "stderr",
     "output_type": "stream",
     "text": [
      "Training Epochs:  41%|████▏     | 825/2000 [00:25<00:35, 33.39it/s]"
     ]
    },
    {
     "name": "stdout",
     "output_type": "stream",
     "text": [
      "Epoch 820/2000, Loss: 0.0932\n",
      "Test Accuracy at Epoch 820: 74.74%\n",
      "Test F1-score at Epoch 820: 0.7612\n",
      "Classification Report at Epoch 820:\n",
      "                  precision    recall  f1-score   support\n",
      "\n",
      "    infringement       0.80      0.68      0.73       194\n",
      "non_infringement       0.71      0.82      0.76       186\n",
      "\n",
      "        accuracy                           0.75       380\n",
      "       macro avg       0.75      0.75      0.75       380\n",
      "    weighted avg       0.75      0.75      0.75       380\n",
      "\n"
     ]
    },
    {
     "name": "stderr",
     "output_type": "stream",
     "text": [
      "Training Epochs:  42%|████▏     | 834/2000 [00:26<00:32, 35.49it/s]"
     ]
    },
    {
     "name": "stdout",
     "output_type": "stream",
     "text": [
      "Epoch 830/2000, Loss: 0.0931\n",
      "Test Accuracy at Epoch 830: 74.47%\n",
      "Test F1-score at Epoch 830: 0.7593\n",
      "Classification Report at Epoch 830:\n",
      "                  precision    recall  f1-score   support\n",
      "\n",
      "    infringement       0.80      0.67      0.73       194\n",
      "non_infringement       0.71      0.82      0.76       186\n",
      "\n",
      "        accuracy                           0.74       380\n",
      "       macro avg       0.75      0.75      0.74       380\n",
      "    weighted avg       0.75      0.74      0.74       380\n",
      "\n"
     ]
    },
    {
     "name": "stderr",
     "output_type": "stream",
     "text": [
      "Training Epochs:  42%|████▏     | 847/2000 [00:26<00:32, 35.78it/s]"
     ]
    },
    {
     "name": "stdout",
     "output_type": "stream",
     "text": [
      "Epoch 840/2000, Loss: 0.0937\n",
      "Test Accuracy at Epoch 840: 75.00%\n",
      "Test F1-score at Epoch 840: 0.7654\n",
      "Classification Report at Epoch 840:\n",
      "                  precision    recall  f1-score   support\n",
      "\n",
      "    infringement       0.81      0.67      0.73       194\n",
      "non_infringement       0.71      0.83      0.77       186\n",
      "\n",
      "        accuracy                           0.75       380\n",
      "       macro avg       0.76      0.75      0.75       380\n",
      "    weighted avg       0.76      0.75      0.75       380\n",
      "\n"
     ]
    },
    {
     "name": "stderr",
     "output_type": "stream",
     "text": [
      "Training Epochs:  43%|████▎     | 851/2000 [00:26<00:36, 31.43it/s]"
     ]
    },
    {
     "name": "stdout",
     "output_type": "stream",
     "text": [
      "Epoch 850/2000, Loss: 0.1010\n",
      "Test Accuracy at Epoch 850: 77.89%\n",
      "Test F1-score at Epoch 850: 0.7846\n",
      "Classification Report at Epoch 850:\n",
      "                  precision    recall  f1-score   support\n",
      "\n",
      "    infringement       0.81      0.74      0.77       194\n",
      "non_infringement       0.75      0.82      0.78       186\n",
      "\n",
      "        accuracy                           0.78       380\n",
      "       macro avg       0.78      0.78      0.78       380\n",
      "    weighted avg       0.78      0.78      0.78       380\n",
      "\n",
      "New best model saved with F1-score 0.7846 at epoch 850\n",
      "Best Classification Report at Epoch 850:\n",
      "                  precision    recall  f1-score   support\n",
      "\n",
      "    infringement       0.81      0.74      0.77       194\n",
      "non_infringement       0.75      0.82      0.78       186\n",
      "\n",
      "        accuracy                           0.78       380\n",
      "       macro avg       0.78      0.78      0.78       380\n",
      "    weighted avg       0.78      0.78      0.78       380\n",
      "\n"
     ]
    },
    {
     "name": "stderr",
     "output_type": "stream",
     "text": [
      "Training Epochs:  43%|████▎     | 864/2000 [00:27<00:35, 32.33it/s]"
     ]
    },
    {
     "name": "stdout",
     "output_type": "stream",
     "text": [
      "Epoch 860/2000, Loss: 0.0967\n",
      "Test Accuracy at Epoch 860: 75.00%\n",
      "Test F1-score at Epoch 860: 0.7654\n",
      "Classification Report at Epoch 860:\n",
      "                  precision    recall  f1-score   support\n",
      "\n",
      "    infringement       0.81      0.67      0.73       194\n",
      "non_infringement       0.71      0.83      0.77       186\n",
      "\n",
      "        accuracy                           0.75       380\n",
      "       macro avg       0.76      0.75      0.75       380\n",
      "    weighted avg       0.76      0.75      0.75       380\n",
      "\n"
     ]
    },
    {
     "name": "stderr",
     "output_type": "stream",
     "text": [
      "Training Epochs:  44%|████▍     | 878/2000 [00:27<00:28, 38.84it/s]"
     ]
    },
    {
     "name": "stdout",
     "output_type": "stream",
     "text": [
      "Epoch 870/2000, Loss: 0.0950\n",
      "Test Accuracy at Epoch 870: 75.79%\n",
      "Test F1-score at Epoch 870: 0.7688\n",
      "Classification Report at Epoch 870:\n",
      "                  precision    recall  f1-score   support\n",
      "\n",
      "    infringement       0.80      0.70      0.75       194\n",
      "non_infringement       0.72      0.82      0.77       186\n",
      "\n",
      "        accuracy                           0.76       380\n",
      "       macro avg       0.76      0.76      0.76       380\n",
      "    weighted avg       0.76      0.76      0.76       380\n",
      "\n"
     ]
    },
    {
     "name": "stderr",
     "output_type": "stream",
     "text": [
      "Training Epochs:  44%|████▍     | 887/2000 [00:27<00:30, 37.04it/s]"
     ]
    },
    {
     "name": "stdout",
     "output_type": "stream",
     "text": [
      "Epoch 880/2000, Loss: 0.0946\n",
      "Test Accuracy at Epoch 880: 76.32%\n",
      "Test F1-score at Epoch 880: 0.7750\n",
      "Classification Report at Epoch 880:\n",
      "                  precision    recall  f1-score   support\n",
      "\n",
      "    infringement       0.81      0.70      0.75       194\n",
      "non_infringement       0.72      0.83      0.78       186\n",
      "\n",
      "        accuracy                           0.76       380\n",
      "       macro avg       0.77      0.76      0.76       380\n",
      "    weighted avg       0.77      0.76      0.76       380\n",
      "\n"
     ]
    },
    {
     "name": "stderr",
     "output_type": "stream",
     "text": [
      "Training Epochs:  45%|████▍     | 895/2000 [00:27<00:31, 34.62it/s]"
     ]
    },
    {
     "name": "stdout",
     "output_type": "stream",
     "text": [
      "Epoch 890/2000, Loss: 0.0951\n",
      "Test Accuracy at Epoch 890: 75.00%\n",
      "Test F1-score at Epoch 890: 0.7631\n",
      "Classification Report at Epoch 890:\n",
      "                  precision    recall  f1-score   support\n",
      "\n",
      "    infringement       0.80      0.68      0.74       194\n",
      "non_infringement       0.71      0.82      0.76       186\n",
      "\n",
      "        accuracy                           0.75       380\n",
      "       macro avg       0.76      0.75      0.75       380\n",
      "    weighted avg       0.76      0.75      0.75       380\n",
      "\n"
     ]
    },
    {
     "name": "stderr",
     "output_type": "stream",
     "text": [
      "Training Epochs:  45%|████▌     | 905/2000 [00:28<00:28, 38.41it/s]"
     ]
    },
    {
     "name": "stdout",
     "output_type": "stream",
     "text": [
      "Epoch 900/2000, Loss: 0.0949\n",
      "Test Accuracy at Epoch 900: 74.74%\n",
      "Test F1-score at Epoch 900: 0.7612\n",
      "Classification Report at Epoch 900:\n",
      "                  precision    recall  f1-score   support\n",
      "\n",
      "    infringement       0.80      0.68      0.73       194\n",
      "non_infringement       0.71      0.82      0.76       186\n",
      "\n",
      "        accuracy                           0.75       380\n",
      "       macro avg       0.75      0.75      0.75       380\n",
      "    weighted avg       0.75      0.75      0.75       380\n",
      "\n"
     ]
    },
    {
     "name": "stderr",
     "output_type": "stream",
     "text": [
      "Training Epochs:  46%|████▌     | 913/2000 [00:28<00:30, 35.44it/s]"
     ]
    },
    {
     "name": "stdout",
     "output_type": "stream",
     "text": [
      "Epoch 910/2000, Loss: 0.0958\n",
      "Test Accuracy at Epoch 910: 75.26%\n",
      "Test F1-score at Epoch 910: 0.7673\n",
      "Classification Report at Epoch 910:\n",
      "                  precision    recall  f1-score   support\n",
      "\n",
      "    infringement       0.81      0.68      0.74       194\n",
      "non_infringement       0.71      0.83      0.77       186\n",
      "\n",
      "        accuracy                           0.75       380\n",
      "       macro avg       0.76      0.75      0.75       380\n",
      "    weighted avg       0.76      0.75      0.75       380\n",
      "\n"
     ]
    },
    {
     "name": "stderr",
     "output_type": "stream",
     "text": [
      "Training Epochs:  46%|████▌     | 922/2000 [00:28<00:35, 30.59it/s]"
     ]
    },
    {
     "name": "stdout",
     "output_type": "stream",
     "text": [
      "Epoch 920/2000, Loss: 0.0947\n",
      "Test Accuracy at Epoch 920: 74.74%\n",
      "Test F1-score at Epoch 920: 0.7612\n",
      "Classification Report at Epoch 920:\n",
      "                  precision    recall  f1-score   support\n",
      "\n",
      "    infringement       0.80      0.68      0.73       194\n",
      "non_infringement       0.71      0.82      0.76       186\n",
      "\n",
      "        accuracy                           0.75       380\n",
      "       macro avg       0.75      0.75      0.75       380\n",
      "    weighted avg       0.75      0.75      0.75       380\n",
      "\n"
     ]
    },
    {
     "name": "stderr",
     "output_type": "stream",
     "text": [
      "Training Epochs:  47%|████▋     | 935/2000 [00:29<00:32, 32.77it/s]"
     ]
    },
    {
     "name": "stdout",
     "output_type": "stream",
     "text": [
      "Epoch 930/2000, Loss: 0.0937\n",
      "Test Accuracy at Epoch 930: 75.00%\n",
      "Test F1-score at Epoch 930: 0.7631\n",
      "Classification Report at Epoch 930:\n",
      "                  precision    recall  f1-score   support\n",
      "\n",
      "    infringement       0.80      0.68      0.74       194\n",
      "non_infringement       0.71      0.82      0.76       186\n",
      "\n",
      "        accuracy                           0.75       380\n",
      "       macro avg       0.76      0.75      0.75       380\n",
      "    weighted avg       0.76      0.75      0.75       380\n",
      "\n"
     ]
    },
    {
     "name": "stderr",
     "output_type": "stream",
     "text": [
      "Training Epochs:  47%|████▋     | 945/2000 [00:29<00:27, 37.81it/s]"
     ]
    },
    {
     "name": "stdout",
     "output_type": "stream",
     "text": [
      "Epoch 940/2000, Loss: 0.0932\n",
      "Test Accuracy at Epoch 940: 75.00%\n",
      "Test F1-score at Epoch 940: 0.7631\n",
      "Classification Report at Epoch 940:\n",
      "                  precision    recall  f1-score   support\n",
      "\n",
      "    infringement       0.80      0.68      0.74       194\n",
      "non_infringement       0.71      0.82      0.76       186\n",
      "\n",
      "        accuracy                           0.75       380\n",
      "       macro avg       0.76      0.75      0.75       380\n",
      "    weighted avg       0.76      0.75      0.75       380\n",
      "\n"
     ]
    },
    {
     "name": "stderr",
     "output_type": "stream",
     "text": [
      "Training Epochs:  48%|████▊     | 955/2000 [00:29<00:28, 36.31it/s]"
     ]
    },
    {
     "name": "stdout",
     "output_type": "stream",
     "text": [
      "Epoch 950/2000, Loss: 0.0932\n",
      "Test Accuracy at Epoch 950: 75.00%\n",
      "Test F1-score at Epoch 950: 0.7631\n",
      "Classification Report at Epoch 950:\n",
      "                  precision    recall  f1-score   support\n",
      "\n",
      "    infringement       0.80      0.68      0.74       194\n",
      "non_infringement       0.71      0.82      0.76       186\n",
      "\n",
      "        accuracy                           0.75       380\n",
      "       macro avg       0.76      0.75      0.75       380\n",
      "    weighted avg       0.76      0.75      0.75       380\n",
      "\n"
     ]
    },
    {
     "name": "stderr",
     "output_type": "stream",
     "text": [
      "Training Epochs:  48%|████▊     | 964/2000 [00:29<00:30, 34.25it/s]"
     ]
    },
    {
     "name": "stdout",
     "output_type": "stream",
     "text": [
      "Epoch 960/2000, Loss: 0.0931\n",
      "Test Accuracy at Epoch 960: 75.00%\n",
      "Test F1-score at Epoch 960: 0.7631\n",
      "Classification Report at Epoch 960:\n",
      "                  precision    recall  f1-score   support\n",
      "\n",
      "    infringement       0.80      0.68      0.74       194\n",
      "non_infringement       0.71      0.82      0.76       186\n",
      "\n",
      "        accuracy                           0.75       380\n",
      "       macro avg       0.76      0.75      0.75       380\n",
      "    weighted avg       0.76      0.75      0.75       380\n",
      "\n"
     ]
    },
    {
     "name": "stderr",
     "output_type": "stream",
     "text": [
      "Training Epochs:  49%|████▉     | 978/2000 [00:30<00:25, 40.14it/s]"
     ]
    },
    {
     "name": "stdout",
     "output_type": "stream",
     "text": [
      "Epoch 970/2000, Loss: 0.0930\n",
      "Test Accuracy at Epoch 970: 74.74%\n",
      "Test F1-score at Epoch 970: 0.7612\n",
      "Classification Report at Epoch 970:\n",
      "                  precision    recall  f1-score   support\n",
      "\n",
      "    infringement       0.80      0.68      0.73       194\n",
      "non_infringement       0.71      0.82      0.76       186\n",
      "\n",
      "        accuracy                           0.75       380\n",
      "       macro avg       0.75      0.75      0.75       380\n",
      "    weighted avg       0.75      0.75      0.75       380\n",
      "\n"
     ]
    },
    {
     "name": "stderr",
     "output_type": "stream",
     "text": [
      "Training Epochs:  49%|████▉     | 988/2000 [00:30<00:26, 38.21it/s]"
     ]
    },
    {
     "name": "stdout",
     "output_type": "stream",
     "text": [
      "Epoch 980/2000, Loss: 0.0930\n",
      "Test Accuracy at Epoch 980: 74.74%\n",
      "Test F1-score at Epoch 980: 0.7612\n",
      "Classification Report at Epoch 980:\n",
      "                  precision    recall  f1-score   support\n",
      "\n",
      "    infringement       0.80      0.68      0.73       194\n",
      "non_infringement       0.71      0.82      0.76       186\n",
      "\n",
      "        accuracy                           0.75       380\n",
      "       macro avg       0.75      0.75      0.75       380\n",
      "    weighted avg       0.75      0.75      0.75       380\n",
      "\n"
     ]
    },
    {
     "name": "stderr",
     "output_type": "stream",
     "text": [
      "Training Epochs:  50%|████▉     | 996/2000 [00:30<00:28, 35.45it/s]"
     ]
    },
    {
     "name": "stdout",
     "output_type": "stream",
     "text": [
      "Epoch 990/2000, Loss: 0.0930\n",
      "Test Accuracy at Epoch 990: 75.00%\n",
      "Test F1-score at Epoch 990: 0.7631\n",
      "Classification Report at Epoch 990:\n",
      "                  precision    recall  f1-score   support\n",
      "\n",
      "    infringement       0.80      0.68      0.74       194\n",
      "non_infringement       0.71      0.82      0.76       186\n",
      "\n",
      "        accuracy                           0.75       380\n",
      "       macro avg       0.76      0.75      0.75       380\n",
      "    weighted avg       0.76      0.75      0.75       380\n",
      "\n"
     ]
    },
    {
     "name": "stderr",
     "output_type": "stream",
     "text": [
      "Training Epochs:  50%|█████     | 1005/2000 [00:30<00:25, 39.13it/s]"
     ]
    },
    {
     "name": "stdout",
     "output_type": "stream",
     "text": [
      "Epoch 1000/2000, Loss: 0.0929\n",
      "Test Accuracy at Epoch 1000: 75.26%\n",
      "Test F1-score at Epoch 1000: 0.7650\n",
      "Classification Report at Epoch 1000:\n",
      "                  precision    recall  f1-score   support\n",
      "\n",
      "    infringement       0.80      0.69      0.74       194\n",
      "non_infringement       0.71      0.82      0.77       186\n",
      "\n",
      "        accuracy                           0.75       380\n",
      "       macro avg       0.76      0.75      0.75       380\n",
      "    weighted avg       0.76      0.75      0.75       380\n",
      "\n"
     ]
    },
    {
     "name": "stderr",
     "output_type": "stream",
     "text": [
      "Training Epochs:  51%|█████     | 1018/2000 [00:31<00:26, 36.99it/s]"
     ]
    },
    {
     "name": "stdout",
     "output_type": "stream",
     "text": [
      "Epoch 1010/2000, Loss: 0.0929\n",
      "Test Accuracy at Epoch 1010: 75.26%\n",
      "Test F1-score at Epoch 1010: 0.7650\n",
      "Classification Report at Epoch 1010:\n",
      "                  precision    recall  f1-score   support\n",
      "\n",
      "    infringement       0.80      0.69      0.74       194\n",
      "non_infringement       0.71      0.82      0.77       186\n",
      "\n",
      "        accuracy                           0.75       380\n",
      "       macro avg       0.76      0.75      0.75       380\n",
      "    weighted avg       0.76      0.75      0.75       380\n",
      "\n"
     ]
    },
    {
     "name": "stderr",
     "output_type": "stream",
     "text": [
      "Training Epochs:  51%|█████     | 1022/2000 [00:31<00:29, 33.62it/s]"
     ]
    },
    {
     "name": "stdout",
     "output_type": "stream",
     "text": [
      "Epoch 1020/2000, Loss: 0.0929\n",
      "Test Accuracy at Epoch 1020: 75.00%\n",
      "Test F1-score at Epoch 1020: 0.7631\n",
      "Classification Report at Epoch 1020:\n",
      "                  precision    recall  f1-score   support\n",
      "\n",
      "    infringement       0.80      0.68      0.74       194\n",
      "non_infringement       0.71      0.82      0.76       186\n",
      "\n",
      "        accuracy                           0.75       380\n",
      "       macro avg       0.76      0.75      0.75       380\n",
      "    weighted avg       0.76      0.75      0.75       380\n",
      "\n"
     ]
    },
    {
     "name": "stderr",
     "output_type": "stream",
     "text": [
      "Training Epochs:  52%|█████▏    | 1036/2000 [00:31<00:24, 38.88it/s]"
     ]
    },
    {
     "name": "stdout",
     "output_type": "stream",
     "text": [
      "Epoch 1030/2000, Loss: 0.0929\n",
      "Test Accuracy at Epoch 1030: 74.74%\n",
      "Test F1-score at Epoch 1030: 0.7612\n",
      "Classification Report at Epoch 1030:\n",
      "                  precision    recall  f1-score   support\n",
      "\n",
      "    infringement       0.80      0.68      0.73       194\n",
      "non_infringement       0.71      0.82      0.76       186\n",
      "\n",
      "        accuracy                           0.75       380\n",
      "       macro avg       0.75      0.75      0.75       380\n",
      "    weighted avg       0.75      0.75      0.75       380\n",
      "\n"
     ]
    },
    {
     "name": "stderr",
     "output_type": "stream",
     "text": [
      "Training Epochs:  52%|█████▏    | 1045/2000 [00:32<00:25, 36.91it/s]"
     ]
    },
    {
     "name": "stdout",
     "output_type": "stream",
     "text": [
      "Epoch 1040/2000, Loss: 0.0928\n",
      "Test Accuracy at Epoch 1040: 75.26%\n",
      "Test F1-score at Epoch 1040: 0.7650\n",
      "Classification Report at Epoch 1040:\n",
      "                  precision    recall  f1-score   support\n",
      "\n",
      "    infringement       0.80      0.69      0.74       194\n",
      "non_infringement       0.71      0.82      0.77       186\n",
      "\n",
      "        accuracy                           0.75       380\n",
      "       macro avg       0.76      0.75      0.75       380\n",
      "    weighted avg       0.76      0.75      0.75       380\n",
      "\n"
     ]
    },
    {
     "name": "stderr",
     "output_type": "stream",
     "text": [
      "Training Epochs:  53%|█████▎    | 1054/2000 [00:32<00:29, 31.55it/s]"
     ]
    },
    {
     "name": "stdout",
     "output_type": "stream",
     "text": [
      "Epoch 1050/2000, Loss: 0.0928\n",
      "Test Accuracy at Epoch 1050: 75.26%\n",
      "Test F1-score at Epoch 1050: 0.7650\n",
      "Classification Report at Epoch 1050:\n",
      "                  precision    recall  f1-score   support\n",
      "\n",
      "    infringement       0.80      0.69      0.74       194\n",
      "non_infringement       0.71      0.82      0.77       186\n",
      "\n",
      "        accuracy                           0.75       380\n",
      "       macro avg       0.76      0.75      0.75       380\n",
      "    weighted avg       0.76      0.75      0.75       380\n",
      "\n"
     ]
    },
    {
     "name": "stderr",
     "output_type": "stream",
     "text": [
      "Training Epochs:  53%|█████▎    | 1063/2000 [00:32<00:31, 29.65it/s]"
     ]
    },
    {
     "name": "stdout",
     "output_type": "stream",
     "text": [
      "Epoch 1060/2000, Loss: 0.0928\n",
      "Test Accuracy at Epoch 1060: 75.26%\n",
      "Test F1-score at Epoch 1060: 0.7650\n",
      "Classification Report at Epoch 1060:\n",
      "                  precision    recall  f1-score   support\n",
      "\n",
      "    infringement       0.80      0.69      0.74       194\n",
      "non_infringement       0.71      0.82      0.77       186\n",
      "\n",
      "        accuracy                           0.75       380\n",
      "       macro avg       0.76      0.75      0.75       380\n",
      "    weighted avg       0.76      0.75      0.75       380\n",
      "\n"
     ]
    },
    {
     "name": "stderr",
     "output_type": "stream",
     "text": [
      "Training Epochs:  54%|█████▎    | 1072/2000 [00:32<00:27, 34.09it/s]"
     ]
    },
    {
     "name": "stdout",
     "output_type": "stream",
     "text": [
      "Epoch 1070/2000, Loss: 0.0928\n",
      "Test Accuracy at Epoch 1070: 75.26%\n",
      "Test F1-score at Epoch 1070: 0.7650\n",
      "Classification Report at Epoch 1070:\n",
      "                  precision    recall  f1-score   support\n",
      "\n",
      "    infringement       0.80      0.69      0.74       194\n",
      "non_infringement       0.71      0.82      0.77       186\n",
      "\n",
      "        accuracy                           0.75       380\n",
      "       macro avg       0.76      0.75      0.75       380\n",
      "    weighted avg       0.76      0.75      0.75       380\n",
      "\n"
     ]
    },
    {
     "name": "stderr",
     "output_type": "stream",
     "text": [
      "Training Epochs:  54%|█████▍    | 1086/2000 [00:33<00:24, 36.77it/s]"
     ]
    },
    {
     "name": "stdout",
     "output_type": "stream",
     "text": [
      "Epoch 1080/2000, Loss: 0.0927\n",
      "Test Accuracy at Epoch 1080: 75.26%\n",
      "Test F1-score at Epoch 1080: 0.7650\n",
      "Classification Report at Epoch 1080:\n",
      "                  precision    recall  f1-score   support\n",
      "\n",
      "    infringement       0.80      0.69      0.74       194\n",
      "non_infringement       0.71      0.82      0.77       186\n",
      "\n",
      "        accuracy                           0.75       380\n",
      "       macro avg       0.76      0.75      0.75       380\n",
      "    weighted avg       0.76      0.75      0.75       380\n",
      "\n"
     ]
    },
    {
     "name": "stderr",
     "output_type": "stream",
     "text": [
      "Training Epochs:  55%|█████▍    | 1095/2000 [00:33<00:25, 35.42it/s]"
     ]
    },
    {
     "name": "stdout",
     "output_type": "stream",
     "text": [
      "Epoch 1090/2000, Loss: 0.0927\n",
      "Test Accuracy at Epoch 1090: 74.74%\n",
      "Test F1-score at Epoch 1090: 0.7612\n",
      "Classification Report at Epoch 1090:\n",
      "                  precision    recall  f1-score   support\n",
      "\n",
      "    infringement       0.80      0.68      0.73       194\n",
      "non_infringement       0.71      0.82      0.76       186\n",
      "\n",
      "        accuracy                           0.75       380\n",
      "       macro avg       0.75      0.75      0.75       380\n",
      "    weighted avg       0.75      0.75      0.75       380\n",
      "\n"
     ]
    },
    {
     "name": "stderr",
     "output_type": "stream",
     "text": [
      "Training Epochs:  55%|█████▌    | 1105/2000 [00:33<00:21, 40.80it/s]"
     ]
    },
    {
     "name": "stdout",
     "output_type": "stream",
     "text": [
      "Epoch 1100/2000, Loss: 0.0927\n",
      "Test Accuracy at Epoch 1100: 74.47%\n",
      "Test F1-score at Epoch 1100: 0.7593\n",
      "Classification Report at Epoch 1100:\n",
      "                  precision    recall  f1-score   support\n",
      "\n",
      "    infringement       0.80      0.67      0.73       194\n",
      "non_infringement       0.71      0.82      0.76       186\n",
      "\n",
      "        accuracy                           0.74       380\n",
      "       macro avg       0.75      0.75      0.74       380\n",
      "    weighted avg       0.75      0.74      0.74       380\n",
      "\n"
     ]
    },
    {
     "name": "stderr",
     "output_type": "stream",
     "text": [
      "Training Epochs:  56%|█████▌    | 1115/2000 [00:34<00:22, 39.63it/s]"
     ]
    },
    {
     "name": "stdout",
     "output_type": "stream",
     "text": [
      "Epoch 1110/2000, Loss: 0.0994\n",
      "Test Accuracy at Epoch 1110: 73.16%\n",
      "Test F1-score at Epoch 1110: 0.7524\n",
      "Classification Report at Epoch 1110:\n",
      "                  precision    recall  f1-score   support\n",
      "\n",
      "    infringement       0.80      0.63      0.71       194\n",
      "non_infringement       0.69      0.83      0.75       186\n",
      "\n",
      "        accuracy                           0.73       380\n",
      "       macro avg       0.74      0.73      0.73       380\n",
      "    weighted avg       0.74      0.73      0.73       380\n",
      "\n"
     ]
    },
    {
     "name": "stderr",
     "output_type": "stream",
     "text": [
      "Training Epochs:  56%|█████▋    | 1125/2000 [00:34<00:23, 37.03it/s]"
     ]
    },
    {
     "name": "stdout",
     "output_type": "stream",
     "text": [
      "Epoch 1120/2000, Loss: 0.1123\n",
      "Test Accuracy at Epoch 1120: 75.26%\n",
      "Test F1-score at Epoch 1120: 0.7626\n",
      "Classification Report at Epoch 1120:\n",
      "                  precision    recall  f1-score   support\n",
      "\n",
      "    infringement       0.79      0.70      0.74       194\n",
      "non_infringement       0.72      0.81      0.76       186\n",
      "\n",
      "        accuracy                           0.75       380\n",
      "       macro avg       0.76      0.75      0.75       380\n",
      "    weighted avg       0.76      0.75      0.75       380\n",
      "\n"
     ]
    },
    {
     "name": "stderr",
     "output_type": "stream",
     "text": [
      "Training Epochs:  57%|█████▋    | 1136/2000 [00:34<00:20, 42.29it/s]"
     ]
    },
    {
     "name": "stdout",
     "output_type": "stream",
     "text": [
      "Epoch 1130/2000, Loss: 0.0958\n",
      "Test Accuracy at Epoch 1130: 77.89%\n",
      "Test F1-score at Epoch 1130: 0.7824\n",
      "Classification Report at Epoch 1130:\n",
      "                  precision    recall  f1-score   support\n",
      "\n",
      "    infringement       0.81      0.75      0.78       194\n",
      "non_infringement       0.76      0.81      0.78       186\n",
      "\n",
      "        accuracy                           0.78       380\n",
      "       macro avg       0.78      0.78      0.78       380\n",
      "    weighted avg       0.78      0.78      0.78       380\n",
      "\n"
     ]
    },
    {
     "name": "stderr",
     "output_type": "stream",
     "text": [
      "Training Epochs:  57%|█████▋    | 1146/2000 [00:34<00:21, 40.64it/s]"
     ]
    },
    {
     "name": "stdout",
     "output_type": "stream",
     "text": [
      "Epoch 1140/2000, Loss: 0.0944\n",
      "Test Accuracy at Epoch 1140: 75.53%\n",
      "Test F1-score at Epoch 1140: 0.7646\n",
      "Classification Report at Epoch 1140:\n",
      "                  precision    recall  f1-score   support\n",
      "\n",
      "    infringement       0.80      0.70      0.75       194\n",
      "non_infringement       0.72      0.81      0.76       186\n",
      "\n",
      "        accuracy                           0.76       380\n",
      "       macro avg       0.76      0.76      0.75       380\n",
      "    weighted avg       0.76      0.76      0.75       380\n",
      "\n"
     ]
    },
    {
     "name": "stderr",
     "output_type": "stream",
     "text": [
      "Training Epochs:  58%|█████▊    | 1156/2000 [00:35<00:21, 38.76it/s]"
     ]
    },
    {
     "name": "stdout",
     "output_type": "stream",
     "text": [
      "Epoch 1150/2000, Loss: 0.0934\n",
      "Test Accuracy at Epoch 1150: 75.26%\n",
      "Test F1-score at Epoch 1150: 0.7626\n",
      "Classification Report at Epoch 1150:\n",
      "                  precision    recall  f1-score   support\n",
      "\n",
      "    infringement       0.79      0.70      0.74       194\n",
      "non_infringement       0.72      0.81      0.76       186\n",
      "\n",
      "        accuracy                           0.75       380\n",
      "       macro avg       0.76      0.75      0.75       380\n",
      "    weighted avg       0.76      0.75      0.75       380\n",
      "\n"
     ]
    },
    {
     "name": "stderr",
     "output_type": "stream",
     "text": [
      "Training Epochs:  58%|█████▊    | 1166/2000 [00:35<00:19, 41.96it/s]"
     ]
    },
    {
     "name": "stdout",
     "output_type": "stream",
     "text": [
      "Epoch 1160/2000, Loss: 0.0931\n",
      "Test Accuracy at Epoch 1160: 75.00%\n",
      "Test F1-score at Epoch 1160: 0.7619\n",
      "Classification Report at Epoch 1160:\n",
      "                  precision    recall  f1-score   support\n",
      "\n",
      "    infringement       0.80      0.69      0.74       194\n",
      "non_infringement       0.71      0.82      0.76       186\n",
      "\n",
      "        accuracy                           0.75       380\n",
      "       macro avg       0.76      0.75      0.75       380\n",
      "    weighted avg       0.76      0.75      0.75       380\n",
      "\n"
     ]
    },
    {
     "name": "stderr",
     "output_type": "stream",
     "text": [
      "Training Epochs:  59%|█████▊    | 1171/2000 [00:35<00:22, 37.53it/s]"
     ]
    },
    {
     "name": "stdout",
     "output_type": "stream",
     "text": [
      "Epoch 1170/2000, Loss: 0.0930\n",
      "Test Accuracy at Epoch 1170: 75.79%\n",
      "Test F1-score at Epoch 1170: 0.7677\n",
      "Classification Report at Epoch 1170:\n",
      "                  precision    recall  f1-score   support\n",
      "\n",
      "    infringement       0.80      0.70      0.75       194\n",
      "non_infringement       0.72      0.82      0.77       186\n",
      "\n",
      "        accuracy                           0.76       380\n",
      "       macro avg       0.76      0.76      0.76       380\n",
      "    weighted avg       0.76      0.76      0.76       380\n",
      "\n"
     ]
    },
    {
     "name": "stderr",
     "output_type": "stream",
     "text": [
      "Training Epochs:  59%|█████▉    | 1186/2000 [00:35<00:22, 36.19it/s]"
     ]
    },
    {
     "name": "stdout",
     "output_type": "stream",
     "text": [
      "Epoch 1180/2000, Loss: 0.0929\n",
      "Test Accuracy at Epoch 1180: 75.79%\n",
      "Test F1-score at Epoch 1180: 0.7677\n",
      "Classification Report at Epoch 1180:\n",
      "                  precision    recall  f1-score   support\n",
      "\n",
      "    infringement       0.80      0.70      0.75       194\n",
      "non_infringement       0.72      0.82      0.77       186\n",
      "\n",
      "        accuracy                           0.76       380\n",
      "       macro avg       0.76      0.76      0.76       380\n",
      "    weighted avg       0.76      0.76      0.76       380\n",
      "\n"
     ]
    },
    {
     "name": "stderr",
     "output_type": "stream",
     "text": [
      "Training Epochs:  60%|█████▉    | 1195/2000 [00:36<00:20, 39.61it/s]"
     ]
    },
    {
     "name": "stdout",
     "output_type": "stream",
     "text": [
      "Epoch 1190/2000, Loss: 0.0928\n",
      "Test Accuracy at Epoch 1190: 75.79%\n",
      "Test F1-score at Epoch 1190: 0.7677\n",
      "Classification Report at Epoch 1190:\n",
      "                  precision    recall  f1-score   support\n",
      "\n",
      "    infringement       0.80      0.70      0.75       194\n",
      "non_infringement       0.72      0.82      0.77       186\n",
      "\n",
      "        accuracy                           0.76       380\n",
      "       macro avg       0.76      0.76      0.76       380\n",
      "    weighted avg       0.76      0.76      0.76       380\n",
      "\n"
     ]
    },
    {
     "name": "stderr",
     "output_type": "stream",
     "text": [
      "Training Epochs:  60%|██████    | 1205/2000 [00:36<00:21, 36.83it/s]"
     ]
    },
    {
     "name": "stdout",
     "output_type": "stream",
     "text": [
      "Epoch 1200/2000, Loss: 0.0928\n",
      "Test Accuracy at Epoch 1200: 75.79%\n",
      "Test F1-score at Epoch 1200: 0.7677\n",
      "Classification Report at Epoch 1200:\n",
      "                  precision    recall  f1-score   support\n",
      "\n",
      "    infringement       0.80      0.70      0.75       194\n",
      "non_infringement       0.72      0.82      0.77       186\n",
      "\n",
      "        accuracy                           0.76       380\n",
      "       macro avg       0.76      0.76      0.76       380\n",
      "    weighted avg       0.76      0.76      0.76       380\n",
      "\n"
     ]
    },
    {
     "name": "stderr",
     "output_type": "stream",
     "text": [
      "Training Epochs:  61%|██████    | 1215/2000 [00:36<00:19, 40.20it/s]"
     ]
    },
    {
     "name": "stdout",
     "output_type": "stream",
     "text": [
      "Epoch 1210/2000, Loss: 0.0927\n",
      "Test Accuracy at Epoch 1210: 76.32%\n",
      "Test F1-score at Epoch 1210: 0.7716\n",
      "Classification Report at Epoch 1210:\n",
      "                  precision    recall  f1-score   support\n",
      "\n",
      "    infringement       0.80      0.71      0.75       194\n",
      "non_infringement       0.73      0.82      0.77       186\n",
      "\n",
      "        accuracy                           0.76       380\n",
      "       macro avg       0.77      0.76      0.76       380\n",
      "    weighted avg       0.77      0.76      0.76       380\n",
      "\n"
     ]
    },
    {
     "name": "stderr",
     "output_type": "stream",
     "text": [
      "Training Epochs:  61%|██████▏   | 1225/2000 [00:36<00:19, 38.83it/s]"
     ]
    },
    {
     "name": "stdout",
     "output_type": "stream",
     "text": [
      "Epoch 1220/2000, Loss: 0.0927\n",
      "Test Accuracy at Epoch 1220: 76.05%\n",
      "Test F1-score at Epoch 1220: 0.7696\n",
      "Classification Report at Epoch 1220:\n",
      "                  precision    recall  f1-score   support\n",
      "\n",
      "    infringement       0.80      0.71      0.75       194\n",
      "non_infringement       0.73      0.82      0.77       186\n",
      "\n",
      "        accuracy                           0.76       380\n",
      "       macro avg       0.76      0.76      0.76       380\n",
      "    weighted avg       0.76      0.76      0.76       380\n",
      "\n"
     ]
    },
    {
     "name": "stderr",
     "output_type": "stream",
     "text": [
      "Training Epochs:  62%|██████▏   | 1235/2000 [00:37<00:21, 35.91it/s]"
     ]
    },
    {
     "name": "stdout",
     "output_type": "stream",
     "text": [
      "Epoch 1230/2000, Loss: 0.0927\n",
      "Test Accuracy at Epoch 1230: 76.32%\n",
      "Test F1-score at Epoch 1230: 0.7716\n",
      "Classification Report at Epoch 1230:\n",
      "                  precision    recall  f1-score   support\n",
      "\n",
      "    infringement       0.80      0.71      0.75       194\n",
      "non_infringement       0.73      0.82      0.77       186\n",
      "\n",
      "        accuracy                           0.76       380\n",
      "       macro avg       0.77      0.76      0.76       380\n",
      "    weighted avg       0.77      0.76      0.76       380\n",
      "\n"
     ]
    },
    {
     "name": "stderr",
     "output_type": "stream",
     "text": [
      "Training Epochs:  62%|██████▏   | 1245/2000 [00:37<00:18, 39.97it/s]"
     ]
    },
    {
     "name": "stdout",
     "output_type": "stream",
     "text": [
      "Epoch 1240/2000, Loss: 0.0927\n",
      "Test Accuracy at Epoch 1240: 76.32%\n",
      "Test F1-score at Epoch 1240: 0.7716\n",
      "Classification Report at Epoch 1240:\n",
      "                  precision    recall  f1-score   support\n",
      "\n",
      "    infringement       0.80      0.71      0.75       194\n",
      "non_infringement       0.73      0.82      0.77       186\n",
      "\n",
      "        accuracy                           0.76       380\n",
      "       macro avg       0.77      0.76      0.76       380\n",
      "    weighted avg       0.77      0.76      0.76       380\n",
      "\n"
     ]
    },
    {
     "name": "stderr",
     "output_type": "stream",
     "text": [
      "Training Epochs:  63%|██████▎   | 1255/2000 [00:37<00:19, 38.68it/s]"
     ]
    },
    {
     "name": "stdout",
     "output_type": "stream",
     "text": [
      "Epoch 1250/2000, Loss: 0.0926\n",
      "Test Accuracy at Epoch 1250: 76.32%\n",
      "Test F1-score at Epoch 1250: 0.7716\n",
      "Classification Report at Epoch 1250:\n",
      "                  precision    recall  f1-score   support\n",
      "\n",
      "    infringement       0.80      0.71      0.75       194\n",
      "non_infringement       0.73      0.82      0.77       186\n",
      "\n",
      "        accuracy                           0.76       380\n",
      "       macro avg       0.77      0.76      0.76       380\n",
      "    weighted avg       0.77      0.76      0.76       380\n",
      "\n"
     ]
    },
    {
     "name": "stderr",
     "output_type": "stream",
     "text": [
      "Training Epochs:  63%|██████▎   | 1265/2000 [00:37<00:19, 37.68it/s]"
     ]
    },
    {
     "name": "stdout",
     "output_type": "stream",
     "text": [
      "Epoch 1260/2000, Loss: 0.0926\n",
      "Test Accuracy at Epoch 1260: 76.32%\n",
      "Test F1-score at Epoch 1260: 0.7716\n",
      "Classification Report at Epoch 1260:\n",
      "                  precision    recall  f1-score   support\n",
      "\n",
      "    infringement       0.80      0.71      0.75       194\n",
      "non_infringement       0.73      0.82      0.77       186\n",
      "\n",
      "        accuracy                           0.76       380\n",
      "       macro avg       0.77      0.76      0.76       380\n",
      "    weighted avg       0.77      0.76      0.76       380\n",
      "\n"
     ]
    },
    {
     "name": "stderr",
     "output_type": "stream",
     "text": [
      "Training Epochs:  64%|██████▍   | 1275/2000 [00:38<00:17, 41.32it/s]"
     ]
    },
    {
     "name": "stdout",
     "output_type": "stream",
     "text": [
      "Epoch 1270/2000, Loss: 0.0926\n",
      "Test Accuracy at Epoch 1270: 76.32%\n",
      "Test F1-score at Epoch 1270: 0.7716\n",
      "Classification Report at Epoch 1270:\n",
      "                  precision    recall  f1-score   support\n",
      "\n",
      "    infringement       0.80      0.71      0.75       194\n",
      "non_infringement       0.73      0.82      0.77       186\n",
      "\n",
      "        accuracy                           0.76       380\n",
      "       macro avg       0.77      0.76      0.76       380\n",
      "    weighted avg       0.77      0.76      0.76       380\n",
      "\n"
     ]
    },
    {
     "name": "stderr",
     "output_type": "stream",
     "text": [
      "Training Epochs:  64%|██████▍   | 1285/2000 [00:38<00:17, 39.91it/s]"
     ]
    },
    {
     "name": "stdout",
     "output_type": "stream",
     "text": [
      "Epoch 1280/2000, Loss: 0.0926\n",
      "Test Accuracy at Epoch 1280: 76.32%\n",
      "Test F1-score at Epoch 1280: 0.7716\n",
      "Classification Report at Epoch 1280:\n",
      "                  precision    recall  f1-score   support\n",
      "\n",
      "    infringement       0.80      0.71      0.75       194\n",
      "non_infringement       0.73      0.82      0.77       186\n",
      "\n",
      "        accuracy                           0.76       380\n",
      "       macro avg       0.77      0.76      0.76       380\n",
      "    weighted avg       0.77      0.76      0.76       380\n",
      "\n"
     ]
    },
    {
     "name": "stderr",
     "output_type": "stream",
     "text": [
      "Training Epochs:  65%|██████▍   | 1295/2000 [00:38<00:18, 37.22it/s]"
     ]
    },
    {
     "name": "stdout",
     "output_type": "stream",
     "text": [
      "Epoch 1290/2000, Loss: 0.0926\n",
      "Test Accuracy at Epoch 1290: 76.32%\n",
      "Test F1-score at Epoch 1290: 0.7716\n",
      "Classification Report at Epoch 1290:\n",
      "                  precision    recall  f1-score   support\n",
      "\n",
      "    infringement       0.80      0.71      0.75       194\n",
      "non_infringement       0.73      0.82      0.77       186\n",
      "\n",
      "        accuracy                           0.76       380\n",
      "       macro avg       0.77      0.76      0.76       380\n",
      "    weighted avg       0.77      0.76      0.76       380\n",
      "\n"
     ]
    },
    {
     "name": "stderr",
     "output_type": "stream",
     "text": [
      "Training Epochs:  65%|██████▌   | 1305/2000 [00:38<00:17, 40.78it/s]"
     ]
    },
    {
     "name": "stdout",
     "output_type": "stream",
     "text": [
      "Epoch 1300/2000, Loss: 0.0926\n",
      "Test Accuracy at Epoch 1300: 76.58%\n",
      "Test F1-score at Epoch 1300: 0.7747\n",
      "Classification Report at Epoch 1300:\n",
      "                  precision    recall  f1-score   support\n",
      "\n",
      "    infringement       0.81      0.71      0.76       194\n",
      "non_infringement       0.73      0.82      0.77       186\n",
      "\n",
      "        accuracy                           0.77       380\n",
      "       macro avg       0.77      0.77      0.77       380\n",
      "    weighted avg       0.77      0.77      0.77       380\n",
      "\n"
     ]
    },
    {
     "name": "stderr",
     "output_type": "stream",
     "text": [
      "Training Epochs:  66%|██████▌   | 1315/2000 [00:39<00:17, 38.69it/s]"
     ]
    },
    {
     "name": "stdout",
     "output_type": "stream",
     "text": [
      "Epoch 1310/2000, Loss: 0.0925\n",
      "Test Accuracy at Epoch 1310: 76.58%\n",
      "Test F1-score at Epoch 1310: 0.7747\n",
      "Classification Report at Epoch 1310:\n",
      "                  precision    recall  f1-score   support\n",
      "\n",
      "    infringement       0.81      0.71      0.76       194\n",
      "non_infringement       0.73      0.82      0.77       186\n",
      "\n",
      "        accuracy                           0.77       380\n",
      "       macro avg       0.77      0.77      0.77       380\n",
      "    weighted avg       0.77      0.77      0.77       380\n",
      "\n"
     ]
    },
    {
     "name": "stderr",
     "output_type": "stream",
     "text": [
      "Training Epochs:  66%|██████▋   | 1325/2000 [00:39<00:18, 36.97it/s]"
     ]
    },
    {
     "name": "stdout",
     "output_type": "stream",
     "text": [
      "Epoch 1320/2000, Loss: 0.0925\n",
      "Test Accuracy at Epoch 1320: 76.05%\n",
      "Test F1-score at Epoch 1320: 0.7708\n",
      "Classification Report at Epoch 1320:\n",
      "                  precision    recall  f1-score   support\n",
      "\n",
      "    infringement       0.80      0.70      0.75       194\n",
      "non_infringement       0.73      0.82      0.77       186\n",
      "\n",
      "        accuracy                           0.76       380\n",
      "       macro avg       0.76      0.76      0.76       380\n",
      "    weighted avg       0.77      0.76      0.76       380\n",
      "\n"
     ]
    },
    {
     "name": "stderr",
     "output_type": "stream",
     "text": [
      "Training Epochs:  67%|██████▋   | 1335/2000 [00:39<00:16, 40.53it/s]"
     ]
    },
    {
     "name": "stdout",
     "output_type": "stream",
     "text": [
      "Epoch 1330/2000, Loss: 0.0925\n",
      "Test Accuracy at Epoch 1330: 76.05%\n",
      "Test F1-score at Epoch 1330: 0.7708\n",
      "Classification Report at Epoch 1330:\n",
      "                  precision    recall  f1-score   support\n",
      "\n",
      "    infringement       0.80      0.70      0.75       194\n",
      "non_infringement       0.73      0.82      0.77       186\n",
      "\n",
      "        accuracy                           0.76       380\n",
      "       macro avg       0.76      0.76      0.76       380\n",
      "    weighted avg       0.77      0.76      0.76       380\n",
      "\n"
     ]
    },
    {
     "name": "stderr",
     "output_type": "stream",
     "text": [
      "Training Epochs:  67%|██████▋   | 1345/2000 [00:40<00:16, 38.73it/s]"
     ]
    },
    {
     "name": "stdout",
     "output_type": "stream",
     "text": [
      "Epoch 1340/2000, Loss: 0.0925\n",
      "Test Accuracy at Epoch 1340: 76.05%\n",
      "Test F1-score at Epoch 1340: 0.7708\n",
      "Classification Report at Epoch 1340:\n",
      "                  precision    recall  f1-score   support\n",
      "\n",
      "    infringement       0.80      0.70      0.75       194\n",
      "non_infringement       0.73      0.82      0.77       186\n",
      "\n",
      "        accuracy                           0.76       380\n",
      "       macro avg       0.76      0.76      0.76       380\n",
      "    weighted avg       0.77      0.76      0.76       380\n",
      "\n"
     ]
    },
    {
     "name": "stderr",
     "output_type": "stream",
     "text": [
      "Training Epochs:  68%|██████▊   | 1355/2000 [00:40<00:15, 42.51it/s]"
     ]
    },
    {
     "name": "stdout",
     "output_type": "stream",
     "text": [
      "Epoch 1350/2000, Loss: 0.0925\n",
      "Test Accuracy at Epoch 1350: 76.05%\n",
      "Test F1-score at Epoch 1350: 0.7708\n",
      "Classification Report at Epoch 1350:\n",
      "                  precision    recall  f1-score   support\n",
      "\n",
      "    infringement       0.80      0.70      0.75       194\n",
      "non_infringement       0.73      0.82      0.77       186\n",
      "\n",
      "        accuracy                           0.76       380\n",
      "       macro avg       0.76      0.76      0.76       380\n",
      "    weighted avg       0.77      0.76      0.76       380\n",
      "\n"
     ]
    },
    {
     "name": "stderr",
     "output_type": "stream",
     "text": [
      "Training Epochs:  68%|██████▊   | 1365/2000 [00:40<00:15, 41.05it/s]"
     ]
    },
    {
     "name": "stdout",
     "output_type": "stream",
     "text": [
      "Epoch 1360/2000, Loss: 0.0925\n",
      "Test Accuracy at Epoch 1360: 76.05%\n",
      "Test F1-score at Epoch 1360: 0.7708\n",
      "Classification Report at Epoch 1360:\n",
      "                  precision    recall  f1-score   support\n",
      "\n",
      "    infringement       0.80      0.70      0.75       194\n",
      "non_infringement       0.73      0.82      0.77       186\n",
      "\n",
      "        accuracy                           0.76       380\n",
      "       macro avg       0.76      0.76      0.76       380\n",
      "    weighted avg       0.77      0.76      0.76       380\n",
      "\n"
     ]
    },
    {
     "name": "stderr",
     "output_type": "stream",
     "text": [
      "Training Epochs:  69%|██████▉   | 1375/2000 [00:40<00:16, 38.95it/s]"
     ]
    },
    {
     "name": "stdout",
     "output_type": "stream",
     "text": [
      "Epoch 1370/2000, Loss: 0.0924\n",
      "Test Accuracy at Epoch 1370: 75.26%\n",
      "Test F1-score at Epoch 1370: 0.7650\n",
      "Classification Report at Epoch 1370:\n",
      "                  precision    recall  f1-score   support\n",
      "\n",
      "    infringement       0.80      0.69      0.74       194\n",
      "non_infringement       0.71      0.82      0.77       186\n",
      "\n",
      "        accuracy                           0.75       380\n",
      "       macro avg       0.76      0.75      0.75       380\n",
      "    weighted avg       0.76      0.75      0.75       380\n",
      "\n"
     ]
    },
    {
     "name": "stderr",
     "output_type": "stream",
     "text": [
      "Training Epochs:  69%|██████▉   | 1386/2000 [00:41<00:13, 43.97it/s]"
     ]
    },
    {
     "name": "stdout",
     "output_type": "stream",
     "text": [
      "Epoch 1380/2000, Loss: 0.0963\n",
      "Test Accuracy at Epoch 1380: 73.16%\n",
      "Test F1-score at Epoch 1380: 0.7500\n",
      "Classification Report at Epoch 1380:\n",
      "                  precision    recall  f1-score   support\n",
      "\n",
      "    infringement       0.79      0.64      0.71       194\n",
      "non_infringement       0.69      0.82      0.75       186\n",
      "\n",
      "        accuracy                           0.73       380\n",
      "       macro avg       0.74      0.73      0.73       380\n",
      "    weighted avg       0.74      0.73      0.73       380\n",
      "\n"
     ]
    },
    {
     "name": "stderr",
     "output_type": "stream",
     "text": [
      "Training Epochs:  70%|██████▉   | 1396/2000 [00:41<00:14, 40.56it/s]"
     ]
    },
    {
     "name": "stdout",
     "output_type": "stream",
     "text": [
      "Epoch 1390/2000, Loss: 0.1027\n",
      "Test Accuracy at Epoch 1390: 72.37%\n",
      "Test F1-score at Epoch 1390: 0.7541\n",
      "Classification Report at Epoch 1390:\n",
      "                  precision    recall  f1-score   support\n",
      "\n",
      "    infringement       0.82      0.59      0.68       194\n",
      "non_infringement       0.67      0.87      0.75       186\n",
      "\n",
      "        accuracy                           0.72       380\n",
      "       macro avg       0.74      0.73      0.72       380\n",
      "    weighted avg       0.75      0.72      0.72       380\n",
      "\n"
     ]
    },
    {
     "name": "stderr",
     "output_type": "stream",
     "text": [
      "Training Epochs:  70%|███████   | 1406/2000 [00:41<00:15, 38.75it/s]"
     ]
    },
    {
     "name": "stdout",
     "output_type": "stream",
     "text": [
      "Epoch 1400/2000, Loss: 0.0999\n",
      "Test Accuracy at Epoch 1400: 75.00%\n",
      "Test F1-score at Epoch 1400: 0.7631\n",
      "Classification Report at Epoch 1400:\n",
      "                  precision    recall  f1-score   support\n",
      "\n",
      "    infringement       0.80      0.68      0.74       194\n",
      "non_infringement       0.71      0.82      0.76       186\n",
      "\n",
      "        accuracy                           0.75       380\n",
      "       macro avg       0.76      0.75      0.75       380\n",
      "    weighted avg       0.76      0.75      0.75       380\n",
      "\n"
     ]
    },
    {
     "name": "stderr",
     "output_type": "stream",
     "text": [
      "Training Epochs:  71%|███████   | 1417/2000 [00:41<00:13, 42.86it/s]"
     ]
    },
    {
     "name": "stdout",
     "output_type": "stream",
     "text": [
      "Epoch 1410/2000, Loss: 0.0961\n",
      "Test Accuracy at Epoch 1410: 74.74%\n",
      "Test F1-score at Epoch 1410: 0.7600\n",
      "Classification Report at Epoch 1410:\n",
      "                  precision    recall  f1-score   support\n",
      "\n",
      "    infringement       0.80      0.68      0.73       194\n",
      "non_infringement       0.71      0.82      0.76       186\n",
      "\n",
      "        accuracy                           0.75       380\n",
      "       macro avg       0.75      0.75      0.75       380\n",
      "    weighted avg       0.75      0.75      0.75       380\n",
      "\n"
     ]
    },
    {
     "name": "stderr",
     "output_type": "stream",
     "text": [
      "Training Epochs:  71%|███████   | 1422/2000 [00:41<00:15, 38.06it/s]"
     ]
    },
    {
     "name": "stdout",
     "output_type": "stream",
     "text": [
      "Epoch 1420/2000, Loss: 0.0940\n",
      "Test Accuracy at Epoch 1420: 75.53%\n",
      "Test F1-score at Epoch 1420: 0.7669\n",
      "Classification Report at Epoch 1420:\n",
      "                  precision    recall  f1-score   support\n",
      "\n",
      "    infringement       0.80      0.69      0.74       194\n",
      "non_infringement       0.72      0.82      0.77       186\n",
      "\n",
      "        accuracy                           0.76       380\n",
      "       macro avg       0.76      0.76      0.75       380\n",
      "    weighted avg       0.76      0.76      0.75       380\n",
      "\n"
     ]
    },
    {
     "name": "stderr",
     "output_type": "stream",
     "text": [
      "Training Epochs:  72%|███████▏  | 1432/2000 [00:42<00:13, 41.53it/s]"
     ]
    },
    {
     "name": "stdout",
     "output_type": "stream",
     "text": [
      "Epoch 1430/2000, Loss: 0.0931\n",
      "Test Accuracy at Epoch 1430: 75.53%\n",
      "Test F1-score at Epoch 1430: 0.7669\n",
      "Classification Report at Epoch 1430:\n",
      "                  precision    recall  f1-score   support\n",
      "\n",
      "    infringement       0.80      0.69      0.74       194\n",
      "non_infringement       0.72      0.82      0.77       186\n",
      "\n",
      "        accuracy                           0.76       380\n",
      "       macro avg       0.76      0.76      0.75       380\n",
      "    weighted avg       0.76      0.76      0.75       380\n",
      "\n"
     ]
    },
    {
     "name": "stderr",
     "output_type": "stream",
     "text": [
      "Training Epochs:  72%|███████▏  | 1446/2000 [00:42<00:13, 40.61it/s]"
     ]
    },
    {
     "name": "stdout",
     "output_type": "stream",
     "text": [
      "Epoch 1440/2000, Loss: 0.0929\n",
      "Test Accuracy at Epoch 1440: 75.79%\n",
      "Test F1-score at Epoch 1440: 0.7688\n",
      "Classification Report at Epoch 1440:\n",
      "                  precision    recall  f1-score   support\n",
      "\n",
      "    infringement       0.80      0.70      0.75       194\n",
      "non_infringement       0.72      0.82      0.77       186\n",
      "\n",
      "        accuracy                           0.76       380\n",
      "       macro avg       0.76      0.76      0.76       380\n",
      "    weighted avg       0.76      0.76      0.76       380\n",
      "\n"
     ]
    },
    {
     "name": "stderr",
     "output_type": "stream",
     "text": [
      "Training Epochs:  73%|███████▎  | 1456/2000 [00:42<00:14, 38.19it/s]"
     ]
    },
    {
     "name": "stdout",
     "output_type": "stream",
     "text": [
      "Epoch 1450/2000, Loss: 0.0927\n",
      "Test Accuracy at Epoch 1450: 75.00%\n",
      "Test F1-score at Epoch 1450: 0.7631\n",
      "Classification Report at Epoch 1450:\n",
      "                  precision    recall  f1-score   support\n",
      "\n",
      "    infringement       0.80      0.68      0.74       194\n",
      "non_infringement       0.71      0.82      0.76       186\n",
      "\n",
      "        accuracy                           0.75       380\n",
      "       macro avg       0.76      0.75      0.75       380\n",
      "    weighted avg       0.76      0.75      0.75       380\n",
      "\n"
     ]
    },
    {
     "name": "stderr",
     "output_type": "stream",
     "text": [
      "Training Epochs:  73%|███████▎  | 1466/2000 [00:43<00:12, 42.03it/s]"
     ]
    },
    {
     "name": "stdout",
     "output_type": "stream",
     "text": [
      "Epoch 1460/2000, Loss: 0.0927\n",
      "Test Accuracy at Epoch 1460: 75.53%\n",
      "Test F1-score at Epoch 1460: 0.7669\n",
      "Classification Report at Epoch 1460:\n",
      "                  precision    recall  f1-score   support\n",
      "\n",
      "    infringement       0.80      0.69      0.74       194\n",
      "non_infringement       0.72      0.82      0.77       186\n",
      "\n",
      "        accuracy                           0.76       380\n",
      "       macro avg       0.76      0.76      0.75       380\n",
      "    weighted avg       0.76      0.76      0.75       380\n",
      "\n"
     ]
    },
    {
     "name": "stderr",
     "output_type": "stream",
     "text": [
      "Training Epochs:  74%|███████▍  | 1476/2000 [00:43<00:13, 39.94it/s]"
     ]
    },
    {
     "name": "stdout",
     "output_type": "stream",
     "text": [
      "Epoch 1470/2000, Loss: 0.0926\n",
      "Test Accuracy at Epoch 1470: 75.00%\n",
      "Test F1-score at Epoch 1470: 0.7631\n",
      "Classification Report at Epoch 1470:\n",
      "                  precision    recall  f1-score   support\n",
      "\n",
      "    infringement       0.80      0.68      0.74       194\n",
      "non_infringement       0.71      0.82      0.76       186\n",
      "\n",
      "        accuracy                           0.75       380\n",
      "       macro avg       0.76      0.75      0.75       380\n",
      "    weighted avg       0.76      0.75      0.75       380\n",
      "\n"
     ]
    },
    {
     "name": "stderr",
     "output_type": "stream",
     "text": [
      "Training Epochs:  74%|███████▍  | 1486/2000 [00:43<00:13, 36.79it/s]"
     ]
    },
    {
     "name": "stdout",
     "output_type": "stream",
     "text": [
      "Epoch 1480/2000, Loss: 0.0926\n",
      "Test Accuracy at Epoch 1480: 75.00%\n",
      "Test F1-score at Epoch 1480: 0.7631\n",
      "Classification Report at Epoch 1480:\n",
      "                  precision    recall  f1-score   support\n",
      "\n",
      "    infringement       0.80      0.68      0.74       194\n",
      "non_infringement       0.71      0.82      0.76       186\n",
      "\n",
      "        accuracy                           0.75       380\n",
      "       macro avg       0.76      0.75      0.75       380\n",
      "    weighted avg       0.76      0.75      0.75       380\n",
      "\n"
     ]
    },
    {
     "name": "stderr",
     "output_type": "stream",
     "text": [
      "Training Epochs:  75%|███████▍  | 1496/2000 [00:43<00:12, 41.08it/s]"
     ]
    },
    {
     "name": "stdout",
     "output_type": "stream",
     "text": [
      "Epoch 1490/2000, Loss: 0.0925\n",
      "Test Accuracy at Epoch 1490: 75.79%\n",
      "Test F1-score at Epoch 1490: 0.7688\n",
      "Classification Report at Epoch 1490:\n",
      "                  precision    recall  f1-score   support\n",
      "\n",
      "    infringement       0.80      0.70      0.75       194\n",
      "non_infringement       0.72      0.82      0.77       186\n",
      "\n",
      "        accuracy                           0.76       380\n",
      "       macro avg       0.76      0.76      0.76       380\n",
      "    weighted avg       0.76      0.76      0.76       380\n",
      "\n"
     ]
    },
    {
     "name": "stderr",
     "output_type": "stream",
     "text": [
      "Training Epochs:  75%|███████▌  | 1506/2000 [00:44<00:12, 39.46it/s]"
     ]
    },
    {
     "name": "stdout",
     "output_type": "stream",
     "text": [
      "Epoch 1500/2000, Loss: 0.0925\n",
      "Test Accuracy at Epoch 1500: 75.79%\n",
      "Test F1-score at Epoch 1500: 0.7688\n",
      "Classification Report at Epoch 1500:\n",
      "                  precision    recall  f1-score   support\n",
      "\n",
      "    infringement       0.80      0.70      0.75       194\n",
      "non_infringement       0.72      0.82      0.77       186\n",
      "\n",
      "        accuracy                           0.76       380\n",
      "       macro avg       0.76      0.76      0.76       380\n",
      "    weighted avg       0.76      0.76      0.76       380\n",
      "\n"
     ]
    },
    {
     "name": "stderr",
     "output_type": "stream",
     "text": [
      "Training Epochs:  76%|███████▌  | 1516/2000 [00:44<00:12, 37.96it/s]"
     ]
    },
    {
     "name": "stdout",
     "output_type": "stream",
     "text": [
      "Epoch 1510/2000, Loss: 0.0925\n",
      "Test Accuracy at Epoch 1510: 75.79%\n",
      "Test F1-score at Epoch 1510: 0.7688\n",
      "Classification Report at Epoch 1510:\n",
      "                  precision    recall  f1-score   support\n",
      "\n",
      "    infringement       0.80      0.70      0.75       194\n",
      "non_infringement       0.72      0.82      0.77       186\n",
      "\n",
      "        accuracy                           0.76       380\n",
      "       macro avg       0.76      0.76      0.76       380\n",
      "    weighted avg       0.76      0.76      0.76       380\n",
      "\n"
     ]
    },
    {
     "name": "stderr",
     "output_type": "stream",
     "text": [
      "Training Epochs:  76%|███████▋  | 1526/2000 [00:44<00:11, 41.68it/s]"
     ]
    },
    {
     "name": "stdout",
     "output_type": "stream",
     "text": [
      "Epoch 1520/2000, Loss: 0.0925\n",
      "Test Accuracy at Epoch 1520: 75.79%\n",
      "Test F1-score at Epoch 1520: 0.7688\n",
      "Classification Report at Epoch 1520:\n",
      "                  precision    recall  f1-score   support\n",
      "\n",
      "    infringement       0.80      0.70      0.75       194\n",
      "non_infringement       0.72      0.82      0.77       186\n",
      "\n",
      "        accuracy                           0.76       380\n",
      "       macro avg       0.76      0.76      0.76       380\n",
      "    weighted avg       0.76      0.76      0.76       380\n",
      "\n"
     ]
    },
    {
     "name": "stderr",
     "output_type": "stream",
     "text": [
      "Training Epochs:  77%|███████▋  | 1537/2000 [00:44<00:11, 41.70it/s]"
     ]
    },
    {
     "name": "stdout",
     "output_type": "stream",
     "text": [
      "Epoch 1530/2000, Loss: 0.0924\n",
      "Test Accuracy at Epoch 1530: 75.79%\n",
      "Test F1-score at Epoch 1530: 0.7688\n",
      "Classification Report at Epoch 1530:\n",
      "                  precision    recall  f1-score   support\n",
      "\n",
      "    infringement       0.80      0.70      0.75       194\n",
      "non_infringement       0.72      0.82      0.77       186\n",
      "\n",
      "        accuracy                           0.76       380\n",
      "       macro avg       0.76      0.76      0.76       380\n",
      "    weighted avg       0.76      0.76      0.76       380\n",
      "\n"
     ]
    },
    {
     "name": "stderr",
     "output_type": "stream",
     "text": [
      "Training Epochs:  77%|███████▋  | 1542/2000 [00:44<00:10, 42.81it/s]"
     ]
    },
    {
     "name": "stdout",
     "output_type": "stream",
     "text": [
      "Epoch 1540/2000, Loss: 0.0924\n",
      "Test Accuracy at Epoch 1540: 75.79%\n",
      "Test F1-score at Epoch 1540: 0.7688\n",
      "Classification Report at Epoch 1540:\n",
      "                  precision    recall  f1-score   support\n",
      "\n",
      "    infringement       0.80      0.70      0.75       194\n",
      "non_infringement       0.72      0.82      0.77       186\n",
      "\n",
      "        accuracy                           0.76       380\n",
      "       macro avg       0.76      0.76      0.76       380\n",
      "    weighted avg       0.76      0.76      0.76       380\n",
      "\n"
     ]
    },
    {
     "name": "stderr",
     "output_type": "stream",
     "text": [
      "Training Epochs:  78%|███████▊  | 1559/2000 [00:45<00:10, 43.10it/s]"
     ]
    },
    {
     "name": "stdout",
     "output_type": "stream",
     "text": [
      "Epoch 1550/2000, Loss: 0.0924\n",
      "Test Accuracy at Epoch 1550: 75.79%\n",
      "Test F1-score at Epoch 1550: 0.7688\n",
      "Classification Report at Epoch 1550:\n",
      "                  precision    recall  f1-score   support\n",
      "\n",
      "    infringement       0.80      0.70      0.75       194\n",
      "non_infringement       0.72      0.82      0.77       186\n",
      "\n",
      "        accuracy                           0.76       380\n",
      "       macro avg       0.76      0.76      0.76       380\n",
      "    weighted avg       0.76      0.76      0.76       380\n",
      "\n"
     ]
    },
    {
     "name": "stderr",
     "output_type": "stream",
     "text": [
      "Training Epochs:  78%|███████▊  | 1564/2000 [00:45<00:11, 39.31it/s]"
     ]
    },
    {
     "name": "stdout",
     "output_type": "stream",
     "text": [
      "Epoch 1560/2000, Loss: 0.0924\n",
      "Test Accuracy at Epoch 1560: 75.79%\n",
      "Test F1-score at Epoch 1560: 0.7688\n",
      "Classification Report at Epoch 1560:\n",
      "                  precision    recall  f1-score   support\n",
      "\n",
      "    infringement       0.80      0.70      0.75       194\n",
      "non_infringement       0.72      0.82      0.77       186\n",
      "\n",
      "        accuracy                           0.76       380\n",
      "       macro avg       0.76      0.76      0.76       380\n",
      "    weighted avg       0.76      0.76      0.76       380\n",
      "\n"
     ]
    },
    {
     "name": "stderr",
     "output_type": "stream",
     "text": [
      "Training Epochs:  79%|███████▉  | 1579/2000 [00:45<00:09, 43.28it/s]"
     ]
    },
    {
     "name": "stdout",
     "output_type": "stream",
     "text": [
      "Epoch 1570/2000, Loss: 0.0924\n",
      "Test Accuracy at Epoch 1570: 75.79%\n",
      "Test F1-score at Epoch 1570: 0.7688\n",
      "Classification Report at Epoch 1570:\n",
      "                  precision    recall  f1-score   support\n",
      "\n",
      "    infringement       0.80      0.70      0.75       194\n",
      "non_infringement       0.72      0.82      0.77       186\n",
      "\n",
      "        accuracy                           0.76       380\n",
      "       macro avg       0.76      0.76      0.76       380\n",
      "    weighted avg       0.76      0.76      0.76       380\n",
      "\n"
     ]
    },
    {
     "name": "stderr",
     "output_type": "stream",
     "text": [
      "Training Epochs:  79%|███████▉  | 1584/2000 [00:46<00:10, 38.81it/s]"
     ]
    },
    {
     "name": "stdout",
     "output_type": "stream",
     "text": [
      "Epoch 1580/2000, Loss: 0.0924\n",
      "Test Accuracy at Epoch 1580: 75.79%\n",
      "Test F1-score at Epoch 1580: 0.7688\n",
      "Classification Report at Epoch 1580:\n",
      "                  precision    recall  f1-score   support\n",
      "\n",
      "    infringement       0.80      0.70      0.75       194\n",
      "non_infringement       0.72      0.82      0.77       186\n",
      "\n",
      "        accuracy                           0.76       380\n",
      "       macro avg       0.76      0.76      0.76       380\n",
      "    weighted avg       0.76      0.76      0.76       380\n",
      "\n"
     ]
    },
    {
     "name": "stderr",
     "output_type": "stream",
     "text": [
      "Training Epochs:  80%|███████▉  | 1594/2000 [00:46<00:09, 41.13it/s]"
     ]
    },
    {
     "name": "stdout",
     "output_type": "stream",
     "text": [
      "Epoch 1590/2000, Loss: 0.0924\n",
      "Test Accuracy at Epoch 1590: 75.79%\n",
      "Test F1-score at Epoch 1590: 0.7688\n",
      "Classification Report at Epoch 1590:\n",
      "                  precision    recall  f1-score   support\n",
      "\n",
      "    infringement       0.80      0.70      0.75       194\n",
      "non_infringement       0.72      0.82      0.77       186\n",
      "\n",
      "        accuracy                           0.76       380\n",
      "       macro avg       0.76      0.76      0.76       380\n",
      "    weighted avg       0.76      0.76      0.76       380\n",
      "\n"
     ]
    },
    {
     "name": "stderr",
     "output_type": "stream",
     "text": [
      "Training Epochs:  80%|████████  | 1608/2000 [00:46<00:09, 40.46it/s]"
     ]
    },
    {
     "name": "stdout",
     "output_type": "stream",
     "text": [
      "Epoch 1600/2000, Loss: 0.0923\n",
      "Test Accuracy at Epoch 1600: 75.79%\n",
      "Test F1-score at Epoch 1600: 0.7688\n",
      "Classification Report at Epoch 1600:\n",
      "                  precision    recall  f1-score   support\n",
      "\n",
      "    infringement       0.80      0.70      0.75       194\n",
      "non_infringement       0.72      0.82      0.77       186\n",
      "\n",
      "        accuracy                           0.76       380\n",
      "       macro avg       0.76      0.76      0.76       380\n",
      "    weighted avg       0.76      0.76      0.76       380\n",
      "\n"
     ]
    },
    {
     "name": "stderr",
     "output_type": "stream",
     "text": [
      "Training Epochs:  81%|████████  | 1613/2000 [00:46<00:10, 36.76it/s]"
     ]
    },
    {
     "name": "stdout",
     "output_type": "stream",
     "text": [
      "Epoch 1610/2000, Loss: 0.0923\n",
      "Test Accuracy at Epoch 1610: 75.79%\n",
      "Test F1-score at Epoch 1610: 0.7688\n",
      "Classification Report at Epoch 1610:\n",
      "                  precision    recall  f1-score   support\n",
      "\n",
      "    infringement       0.80      0.70      0.75       194\n",
      "non_infringement       0.72      0.82      0.77       186\n",
      "\n",
      "        accuracy                           0.76       380\n",
      "       macro avg       0.76      0.76      0.76       380\n",
      "    weighted avg       0.76      0.76      0.76       380\n",
      "\n"
     ]
    },
    {
     "name": "stderr",
     "output_type": "stream",
     "text": [
      "Training Epochs:  81%|████████  | 1623/2000 [00:46<00:09, 40.58it/s]"
     ]
    },
    {
     "name": "stdout",
     "output_type": "stream",
     "text": [
      "Epoch 1620/2000, Loss: 0.0923\n",
      "Test Accuracy at Epoch 1620: 75.79%\n",
      "Test F1-score at Epoch 1620: 0.7688\n",
      "Classification Report at Epoch 1620:\n",
      "                  precision    recall  f1-score   support\n",
      "\n",
      "    infringement       0.80      0.70      0.75       194\n",
      "non_infringement       0.72      0.82      0.77       186\n",
      "\n",
      "        accuracy                           0.76       380\n",
      "       macro avg       0.76      0.76      0.76       380\n",
      "    weighted avg       0.76      0.76      0.76       380\n",
      "\n"
     ]
    },
    {
     "name": "stderr",
     "output_type": "stream",
     "text": [
      "Training Epochs:  82%|████████▏ | 1638/2000 [00:47<00:08, 41.14it/s]"
     ]
    },
    {
     "name": "stdout",
     "output_type": "stream",
     "text": [
      "Epoch 1630/2000, Loss: 0.0923\n",
      "Test Accuracy at Epoch 1630: 75.79%\n",
      "Test F1-score at Epoch 1630: 0.7688\n",
      "Classification Report at Epoch 1630:\n",
      "                  precision    recall  f1-score   support\n",
      "\n",
      "    infringement       0.80      0.70      0.75       194\n",
      "non_infringement       0.72      0.82      0.77       186\n",
      "\n",
      "        accuracy                           0.76       380\n",
      "       macro avg       0.76      0.76      0.76       380\n",
      "    weighted avg       0.76      0.76      0.76       380\n",
      "\n"
     ]
    },
    {
     "name": "stderr",
     "output_type": "stream",
     "text": [
      "Training Epochs:  82%|████████▏ | 1643/2000 [00:47<00:09, 36.28it/s]"
     ]
    },
    {
     "name": "stdout",
     "output_type": "stream",
     "text": [
      "Epoch 1640/2000, Loss: 0.0923\n",
      "Test Accuracy at Epoch 1640: 75.79%\n",
      "Test F1-score at Epoch 1640: 0.7688\n",
      "Classification Report at Epoch 1640:\n",
      "                  precision    recall  f1-score   support\n",
      "\n",
      "    infringement       0.80      0.70      0.75       194\n",
      "non_infringement       0.72      0.82      0.77       186\n",
      "\n",
      "        accuracy                           0.76       380\n",
      "       macro avg       0.76      0.76      0.76       380\n",
      "    weighted avg       0.76      0.76      0.76       380\n",
      "\n"
     ]
    },
    {
     "name": "stderr",
     "output_type": "stream",
     "text": [
      "Training Epochs:  83%|████████▎ | 1653/2000 [00:47<00:08, 39.83it/s]"
     ]
    },
    {
     "name": "stdout",
     "output_type": "stream",
     "text": [
      "Epoch 1650/2000, Loss: 0.0923\n",
      "Test Accuracy at Epoch 1650: 75.79%\n",
      "Test F1-score at Epoch 1650: 0.7688\n",
      "Classification Report at Epoch 1650:\n",
      "                  precision    recall  f1-score   support\n",
      "\n",
      "    infringement       0.80      0.70      0.75       194\n",
      "non_infringement       0.72      0.82      0.77       186\n",
      "\n",
      "        accuracy                           0.76       380\n",
      "       macro avg       0.76      0.76      0.76       380\n",
      "    weighted avg       0.76      0.76      0.76       380\n",
      "\n"
     ]
    },
    {
     "name": "stderr",
     "output_type": "stream",
     "text": [
      "Training Epochs:  83%|████████▎ | 1666/2000 [00:48<00:08, 37.15it/s]"
     ]
    },
    {
     "name": "stdout",
     "output_type": "stream",
     "text": [
      "Epoch 1660/2000, Loss: 0.0923\n",
      "Test Accuracy at Epoch 1660: 75.79%\n",
      "Test F1-score at Epoch 1660: 0.7688\n",
      "Classification Report at Epoch 1660:\n",
      "                  precision    recall  f1-score   support\n",
      "\n",
      "    infringement       0.80      0.70      0.75       194\n",
      "non_infringement       0.72      0.82      0.77       186\n",
      "\n",
      "        accuracy                           0.76       380\n",
      "       macro avg       0.76      0.76      0.76       380\n",
      "    weighted avg       0.76      0.76      0.76       380\n",
      "\n"
     ]
    },
    {
     "name": "stderr",
     "output_type": "stream",
     "text": [
      "Training Epochs:  84%|████████▍ | 1675/2000 [00:48<00:09, 35.68it/s]"
     ]
    },
    {
     "name": "stdout",
     "output_type": "stream",
     "text": [
      "Epoch 1670/2000, Loss: 0.0923\n",
      "Test Accuracy at Epoch 1670: 75.79%\n",
      "Test F1-score at Epoch 1670: 0.7688\n",
      "Classification Report at Epoch 1670:\n",
      "                  precision    recall  f1-score   support\n",
      "\n",
      "    infringement       0.80      0.70      0.75       194\n",
      "non_infringement       0.72      0.82      0.77       186\n",
      "\n",
      "        accuracy                           0.76       380\n",
      "       macro avg       0.76      0.76      0.76       380\n",
      "    weighted avg       0.76      0.76      0.76       380\n",
      "\n"
     ]
    },
    {
     "name": "stderr",
     "output_type": "stream",
     "text": [
      "Training Epochs:  84%|████████▍ | 1686/2000 [00:48<00:07, 41.59it/s]"
     ]
    },
    {
     "name": "stdout",
     "output_type": "stream",
     "text": [
      "Epoch 1680/2000, Loss: 0.0923\n",
      "Test Accuracy at Epoch 1680: 75.79%\n",
      "Test F1-score at Epoch 1680: 0.7688\n",
      "Classification Report at Epoch 1680:\n",
      "                  precision    recall  f1-score   support\n",
      "\n",
      "    infringement       0.80      0.70      0.75       194\n",
      "non_infringement       0.72      0.82      0.77       186\n",
      "\n",
      "        accuracy                           0.76       380\n",
      "       macro avg       0.76      0.76      0.76       380\n",
      "    weighted avg       0.76      0.76      0.76       380\n",
      "\n"
     ]
    },
    {
     "name": "stderr",
     "output_type": "stream",
     "text": [
      "Training Epochs:  85%|████████▍ | 1697/2000 [00:48<00:07, 39.81it/s]"
     ]
    },
    {
     "name": "stdout",
     "output_type": "stream",
     "text": [
      "Epoch 1690/2000, Loss: 0.0923\n",
      "Test Accuracy at Epoch 1690: 75.79%\n",
      "Test F1-score at Epoch 1690: 0.7688\n",
      "Classification Report at Epoch 1690:\n",
      "                  precision    recall  f1-score   support\n",
      "\n",
      "    infringement       0.80      0.70      0.75       194\n",
      "non_infringement       0.72      0.82      0.77       186\n",
      "\n",
      "        accuracy                           0.76       380\n",
      "       macro avg       0.76      0.76      0.76       380\n",
      "    weighted avg       0.76      0.76      0.76       380\n",
      "\n"
     ]
    },
    {
     "name": "stderr",
     "output_type": "stream",
     "text": [
      "Training Epochs:  85%|████████▌ | 1702/2000 [00:49<00:07, 41.06it/s]"
     ]
    },
    {
     "name": "stdout",
     "output_type": "stream",
     "text": [
      "Epoch 1700/2000, Loss: 0.0922\n",
      "Test Accuracy at Epoch 1700: 75.79%\n",
      "Test F1-score at Epoch 1700: 0.7688\n",
      "Classification Report at Epoch 1700:\n",
      "                  precision    recall  f1-score   support\n",
      "\n",
      "    infringement       0.80      0.70      0.75       194\n",
      "non_infringement       0.72      0.82      0.77       186\n",
      "\n",
      "        accuracy                           0.76       380\n",
      "       macro avg       0.76      0.76      0.76       380\n",
      "    weighted avg       0.76      0.76      0.76       380\n",
      "\n"
     ]
    },
    {
     "name": "stderr",
     "output_type": "stream",
     "text": [
      "Training Epochs:  86%|████████▌ | 1717/2000 [00:49<00:06, 41.89it/s]"
     ]
    },
    {
     "name": "stdout",
     "output_type": "stream",
     "text": [
      "Epoch 1710/2000, Loss: 0.0922\n",
      "Test Accuracy at Epoch 1710: 75.53%\n",
      "Test F1-score at Epoch 1710: 0.7669\n",
      "Classification Report at Epoch 1710:\n",
      "                  precision    recall  f1-score   support\n",
      "\n",
      "    infringement       0.80      0.69      0.74       194\n",
      "non_infringement       0.72      0.82      0.77       186\n",
      "\n",
      "        accuracy                           0.76       380\n",
      "       macro avg       0.76      0.76      0.75       380\n",
      "    weighted avg       0.76      0.76      0.75       380\n",
      "\n"
     ]
    },
    {
     "name": "stderr",
     "output_type": "stream",
     "text": [
      "Training Epochs:  86%|████████▋ | 1727/2000 [00:49<00:06, 39.98it/s]"
     ]
    },
    {
     "name": "stdout",
     "output_type": "stream",
     "text": [
      "Epoch 1720/2000, Loss: 0.0922\n",
      "Test Accuracy at Epoch 1720: 75.00%\n",
      "Test F1-score at Epoch 1720: 0.7631\n",
      "Classification Report at Epoch 1720:\n",
      "                  precision    recall  f1-score   support\n",
      "\n",
      "    infringement       0.80      0.68      0.74       194\n",
      "non_infringement       0.71      0.82      0.76       186\n",
      "\n",
      "        accuracy                           0.75       380\n",
      "       macro avg       0.76      0.75      0.75       380\n",
      "    weighted avg       0.76      0.75      0.75       380\n",
      "\n"
     ]
    },
    {
     "name": "stderr",
     "output_type": "stream",
     "text": [
      "Training Epochs:  87%|████████▋ | 1732/2000 [00:49<00:06, 40.65it/s]"
     ]
    },
    {
     "name": "stdout",
     "output_type": "stream",
     "text": [
      "Epoch 1730/2000, Loss: 0.0930\n",
      "Test Accuracy at Epoch 1730: 74.47%\n",
      "Test F1-score at Epoch 1730: 0.7593\n",
      "Classification Report at Epoch 1730:\n",
      "                  precision    recall  f1-score   support\n",
      "\n",
      "    infringement       0.80      0.67      0.73       194\n",
      "non_infringement       0.71      0.82      0.76       186\n",
      "\n",
      "        accuracy                           0.74       380\n",
      "       macro avg       0.75      0.75      0.74       380\n",
      "    weighted avg       0.75      0.74      0.74       380\n",
      "\n"
     ]
    },
    {
     "name": "stderr",
     "output_type": "stream",
     "text": [
      "Training Epochs:  87%|████████▋ | 1747/2000 [00:50<00:06, 40.58it/s]"
     ]
    },
    {
     "name": "stdout",
     "output_type": "stream",
     "text": [
      "Epoch 1740/2000, Loss: 0.0926\n",
      "Test Accuracy at Epoch 1740: 76.05%\n",
      "Test F1-score at Epoch 1740: 0.7708\n",
      "Classification Report at Epoch 1740:\n",
      "                  precision    recall  f1-score   support\n",
      "\n",
      "    infringement       0.80      0.70      0.75       194\n",
      "non_infringement       0.73      0.82      0.77       186\n",
      "\n",
      "        accuracy                           0.76       380\n",
      "       macro avg       0.76      0.76      0.76       380\n",
      "    weighted avg       0.77      0.76      0.76       380\n",
      "\n"
     ]
    },
    {
     "name": "stderr",
     "output_type": "stream",
     "text": [
      "Training Epochs:  88%|████████▊ | 1752/2000 [00:50<00:06, 36.40it/s]"
     ]
    },
    {
     "name": "stdout",
     "output_type": "stream",
     "text": [
      "Epoch 1750/2000, Loss: 0.1034\n",
      "Test Accuracy at Epoch 1750: 77.11%\n",
      "Test F1-score at Epoch 1750: 0.7740\n",
      "Classification Report at Epoch 1750:\n",
      "                  precision    recall  f1-score   support\n",
      "\n",
      "    infringement       0.80      0.74      0.77       194\n",
      "non_infringement       0.75      0.80      0.77       186\n",
      "\n",
      "        accuracy                           0.77       380\n",
      "       macro avg       0.77      0.77      0.77       380\n",
      "    weighted avg       0.77      0.77      0.77       380\n",
      "\n"
     ]
    },
    {
     "name": "stderr",
     "output_type": "stream",
     "text": [
      "Training Epochs:  88%|████████▊ | 1762/2000 [00:50<00:05, 39.95it/s]"
     ]
    },
    {
     "name": "stdout",
     "output_type": "stream",
     "text": [
      "Epoch 1760/2000, Loss: 0.0958\n",
      "Test Accuracy at Epoch 1760: 74.47%\n",
      "Test F1-score at Epoch 1760: 0.7593\n",
      "Classification Report at Epoch 1760:\n",
      "                  precision    recall  f1-score   support\n",
      "\n",
      "    infringement       0.80      0.67      0.73       194\n",
      "non_infringement       0.71      0.82      0.76       186\n",
      "\n",
      "        accuracy                           0.74       380\n",
      "       macro avg       0.75      0.75      0.74       380\n",
      "    weighted avg       0.75      0.74      0.74       380\n",
      "\n"
     ]
    },
    {
     "name": "stderr",
     "output_type": "stream",
     "text": [
      "Training Epochs:  89%|████████▉ | 1776/2000 [00:50<00:05, 39.98it/s]"
     ]
    },
    {
     "name": "stdout",
     "output_type": "stream",
     "text": [
      "Epoch 1770/2000, Loss: 0.0990\n",
      "Test Accuracy at Epoch 1770: 75.53%\n",
      "Test F1-score at Epoch 1770: 0.7669\n",
      "Classification Report at Epoch 1770:\n",
      "                  precision    recall  f1-score   support\n",
      "\n",
      "    infringement       0.80      0.69      0.74       194\n",
      "non_infringement       0.72      0.82      0.77       186\n",
      "\n",
      "        accuracy                           0.76       380\n",
      "       macro avg       0.76      0.76      0.75       380\n",
      "    weighted avg       0.76      0.76      0.75       380\n",
      "\n"
     ]
    },
    {
     "name": "stderr",
     "output_type": "stream",
     "text": [
      "Training Epochs:  89%|████████▉ | 1786/2000 [00:51<00:05, 39.23it/s]"
     ]
    },
    {
     "name": "stdout",
     "output_type": "stream",
     "text": [
      "Epoch 1780/2000, Loss: 0.0985\n",
      "Test Accuracy at Epoch 1780: 75.79%\n",
      "Test F1-score at Epoch 1780: 0.7677\n",
      "Classification Report at Epoch 1780:\n",
      "                  precision    recall  f1-score   support\n",
      "\n",
      "    infringement       0.80      0.70      0.75       194\n",
      "non_infringement       0.72      0.82      0.77       186\n",
      "\n",
      "        accuracy                           0.76       380\n",
      "       macro avg       0.76      0.76      0.76       380\n",
      "    weighted avg       0.76      0.76      0.76       380\n",
      "\n"
     ]
    },
    {
     "name": "stderr",
     "output_type": "stream",
     "text": [
      "Training Epochs:  90%|████████▉ | 1796/2000 [00:51<00:04, 41.85it/s]"
     ]
    },
    {
     "name": "stdout",
     "output_type": "stream",
     "text": [
      "Epoch 1790/2000, Loss: 0.0950\n",
      "Test Accuracy at Epoch 1790: 75.53%\n",
      "Test F1-score at Epoch 1790: 0.7669\n",
      "Classification Report at Epoch 1790:\n",
      "                  precision    recall  f1-score   support\n",
      "\n",
      "    infringement       0.80      0.69      0.74       194\n",
      "non_infringement       0.72      0.82      0.77       186\n",
      "\n",
      "        accuracy                           0.76       380\n",
      "       macro avg       0.76      0.76      0.75       380\n",
      "    weighted avg       0.76      0.76      0.75       380\n",
      "\n"
     ]
    },
    {
     "name": "stderr",
     "output_type": "stream",
     "text": [
      "Training Epochs:  90%|█████████ | 1806/2000 [00:51<00:04, 40.15it/s]"
     ]
    },
    {
     "name": "stdout",
     "output_type": "stream",
     "text": [
      "Epoch 1800/2000, Loss: 0.0933\n",
      "Test Accuracy at Epoch 1800: 77.89%\n",
      "Test F1-score at Epoch 1800: 0.7846\n",
      "Classification Report at Epoch 1800:\n",
      "                  precision    recall  f1-score   support\n",
      "\n",
      "    infringement       0.81      0.74      0.77       194\n",
      "non_infringement       0.75      0.82      0.78       186\n",
      "\n",
      "        accuracy                           0.78       380\n",
      "       macro avg       0.78      0.78      0.78       380\n",
      "    weighted avg       0.78      0.78      0.78       380\n",
      "\n"
     ]
    },
    {
     "name": "stderr",
     "output_type": "stream",
     "text": [
      "Training Epochs:  91%|█████████ | 1816/2000 [00:52<00:04, 36.87it/s]"
     ]
    },
    {
     "name": "stdout",
     "output_type": "stream",
     "text": [
      "Epoch 1810/2000, Loss: 0.0929\n",
      "Test Accuracy at Epoch 1810: 76.32%\n",
      "Test F1-score at Epoch 1810: 0.7727\n",
      "Classification Report at Epoch 1810:\n",
      "                  precision    recall  f1-score   support\n",
      "\n",
      "    infringement       0.81      0.71      0.75       194\n",
      "non_infringement       0.73      0.82      0.77       186\n",
      "\n",
      "        accuracy                           0.76       380\n",
      "       macro avg       0.77      0.76      0.76       380\n",
      "    weighted avg       0.77      0.76      0.76       380\n",
      "\n"
     ]
    },
    {
     "name": "stderr",
     "output_type": "stream",
     "text": [
      "Training Epochs:  91%|█████████▏| 1826/2000 [00:52<00:04, 41.02it/s]"
     ]
    },
    {
     "name": "stdout",
     "output_type": "stream",
     "text": [
      "Epoch 1820/2000, Loss: 0.0926\n",
      "Test Accuracy at Epoch 1820: 75.79%\n",
      "Test F1-score at Epoch 1820: 0.7688\n",
      "Classification Report at Epoch 1820:\n",
      "                  precision    recall  f1-score   support\n",
      "\n",
      "    infringement       0.80      0.70      0.75       194\n",
      "non_infringement       0.72      0.82      0.77       186\n",
      "\n",
      "        accuracy                           0.76       380\n",
      "       macro avg       0.76      0.76      0.76       380\n",
      "    weighted avg       0.76      0.76      0.76       380\n",
      "\n"
     ]
    },
    {
     "name": "stderr",
     "output_type": "stream",
     "text": [
      "Training Epochs:  92%|█████████▏| 1836/2000 [00:52<00:04, 38.42it/s]"
     ]
    },
    {
     "name": "stdout",
     "output_type": "stream",
     "text": [
      "Epoch 1830/2000, Loss: 0.0925\n",
      "Test Accuracy at Epoch 1830: 75.79%\n",
      "Test F1-score at Epoch 1830: 0.7688\n",
      "Classification Report at Epoch 1830:\n",
      "                  precision    recall  f1-score   support\n",
      "\n",
      "    infringement       0.80      0.70      0.75       194\n",
      "non_infringement       0.72      0.82      0.77       186\n",
      "\n",
      "        accuracy                           0.76       380\n",
      "       macro avg       0.76      0.76      0.76       380\n",
      "    weighted avg       0.76      0.76      0.76       380\n",
      "\n"
     ]
    },
    {
     "name": "stderr",
     "output_type": "stream",
     "text": [
      "Training Epochs:  92%|█████████▏| 1841/2000 [00:52<00:04, 39.10it/s]"
     ]
    },
    {
     "name": "stdout",
     "output_type": "stream",
     "text": [
      "Epoch 1840/2000, Loss: 0.0924\n",
      "Test Accuracy at Epoch 1840: 75.53%\n",
      "Test F1-score at Epoch 1840: 0.7669\n",
      "Classification Report at Epoch 1840:\n",
      "                  precision    recall  f1-score   support\n",
      "\n",
      "    infringement       0.80      0.69      0.74       194\n",
      "non_infringement       0.72      0.82      0.77       186\n",
      "\n",
      "        accuracy                           0.76       380\n",
      "       macro avg       0.76      0.76      0.75       380\n",
      "    weighted avg       0.76      0.76      0.75       380\n",
      "\n"
     ]
    },
    {
     "name": "stderr",
     "output_type": "stream",
     "text": [
      "Training Epochs:  93%|█████████▎| 1856/2000 [00:53<00:03, 39.60it/s]"
     ]
    },
    {
     "name": "stdout",
     "output_type": "stream",
     "text": [
      "Epoch 1850/2000, Loss: 0.0924\n",
      "Test Accuracy at Epoch 1850: 75.53%\n",
      "Test F1-score at Epoch 1850: 0.7669\n",
      "Classification Report at Epoch 1850:\n",
      "                  precision    recall  f1-score   support\n",
      "\n",
      "    infringement       0.80      0.69      0.74       194\n",
      "non_infringement       0.72      0.82      0.77       186\n",
      "\n",
      "        accuracy                           0.76       380\n",
      "       macro avg       0.76      0.76      0.75       380\n",
      "    weighted avg       0.76      0.76      0.75       380\n",
      "\n"
     ]
    },
    {
     "name": "stderr",
     "output_type": "stream",
     "text": [
      "Training Epochs:  93%|█████████▎| 1866/2000 [00:53<00:03, 37.96it/s]"
     ]
    },
    {
     "name": "stdout",
     "output_type": "stream",
     "text": [
      "Epoch 1860/2000, Loss: 0.0924\n",
      "Test Accuracy at Epoch 1860: 75.53%\n",
      "Test F1-score at Epoch 1860: 0.7669\n",
      "Classification Report at Epoch 1860:\n",
      "                  precision    recall  f1-score   support\n",
      "\n",
      "    infringement       0.80      0.69      0.74       194\n",
      "non_infringement       0.72      0.82      0.77       186\n",
      "\n",
      "        accuracy                           0.76       380\n",
      "       macro avg       0.76      0.76      0.75       380\n",
      "    weighted avg       0.76      0.76      0.75       380\n",
      "\n"
     ]
    },
    {
     "name": "stderr",
     "output_type": "stream",
     "text": [
      "Training Epochs:  94%|█████████▍| 1876/2000 [00:53<00:03, 36.14it/s]"
     ]
    },
    {
     "name": "stdout",
     "output_type": "stream",
     "text": [
      "Epoch 1870/2000, Loss: 0.0923\n",
      "Test Accuracy at Epoch 1870: 75.26%\n",
      "Test F1-score at Epoch 1870: 0.7650\n",
      "Classification Report at Epoch 1870:\n",
      "                  precision    recall  f1-score   support\n",
      "\n",
      "    infringement       0.80      0.69      0.74       194\n",
      "non_infringement       0.71      0.82      0.77       186\n",
      "\n",
      "        accuracy                           0.75       380\n",
      "       macro avg       0.76      0.75      0.75       380\n",
      "    weighted avg       0.76      0.75      0.75       380\n",
      "\n"
     ]
    },
    {
     "name": "stderr",
     "output_type": "stream",
     "text": [
      "Training Epochs:  94%|█████████▍| 1885/2000 [00:53<00:02, 38.67it/s]"
     ]
    },
    {
     "name": "stdout",
     "output_type": "stream",
     "text": [
      "Epoch 1880/2000, Loss: 0.0923\n",
      "Test Accuracy at Epoch 1880: 75.79%\n",
      "Test F1-score at Epoch 1880: 0.7688\n",
      "Classification Report at Epoch 1880:\n",
      "                  precision    recall  f1-score   support\n",
      "\n",
      "    infringement       0.80      0.70      0.75       194\n",
      "non_infringement       0.72      0.82      0.77       186\n",
      "\n",
      "        accuracy                           0.76       380\n",
      "       macro avg       0.76      0.76      0.76       380\n",
      "    weighted avg       0.76      0.76      0.76       380\n",
      "\n"
     ]
    },
    {
     "name": "stderr",
     "output_type": "stream",
     "text": [
      "Training Epochs:  95%|█████████▍| 1895/2000 [00:54<00:02, 38.41it/s]"
     ]
    },
    {
     "name": "stdout",
     "output_type": "stream",
     "text": [
      "Epoch 1890/2000, Loss: 0.0923\n",
      "Test Accuracy at Epoch 1890: 76.05%\n",
      "Test F1-score at Epoch 1890: 0.7708\n",
      "Classification Report at Epoch 1890:\n",
      "                  precision    recall  f1-score   support\n",
      "\n",
      "    infringement       0.80      0.70      0.75       194\n",
      "non_infringement       0.73      0.82      0.77       186\n",
      "\n",
      "        accuracy                           0.76       380\n",
      "       macro avg       0.76      0.76      0.76       380\n",
      "    weighted avg       0.77      0.76      0.76       380\n",
      "\n"
     ]
    },
    {
     "name": "stderr",
     "output_type": "stream",
     "text": [
      "Training Epochs:  95%|█████████▌| 1905/2000 [00:54<00:02, 36.95it/s]"
     ]
    },
    {
     "name": "stdout",
     "output_type": "stream",
     "text": [
      "Epoch 1900/2000, Loss: 0.0923\n",
      "Test Accuracy at Epoch 1900: 75.79%\n",
      "Test F1-score at Epoch 1900: 0.7688\n",
      "Classification Report at Epoch 1900:\n",
      "                  precision    recall  f1-score   support\n",
      "\n",
      "    infringement       0.80      0.70      0.75       194\n",
      "non_infringement       0.72      0.82      0.77       186\n",
      "\n",
      "        accuracy                           0.76       380\n",
      "       macro avg       0.76      0.76      0.76       380\n",
      "    weighted avg       0.76      0.76      0.76       380\n",
      "\n"
     ]
    },
    {
     "name": "stderr",
     "output_type": "stream",
     "text": [
      "Training Epochs:  96%|█████████▌| 1915/2000 [00:54<00:02, 40.91it/s]"
     ]
    },
    {
     "name": "stdout",
     "output_type": "stream",
     "text": [
      "Epoch 1910/2000, Loss: 0.0923\n",
      "Test Accuracy at Epoch 1910: 76.05%\n",
      "Test F1-score at Epoch 1910: 0.7708\n",
      "Classification Report at Epoch 1910:\n",
      "                  precision    recall  f1-score   support\n",
      "\n",
      "    infringement       0.80      0.70      0.75       194\n",
      "non_infringement       0.73      0.82      0.77       186\n",
      "\n",
      "        accuracy                           0.76       380\n",
      "       macro avg       0.76      0.76      0.76       380\n",
      "    weighted avg       0.77      0.76      0.76       380\n",
      "\n"
     ]
    },
    {
     "name": "stderr",
     "output_type": "stream",
     "text": [
      "Training Epochs:  96%|█████████▋| 1925/2000 [00:54<00:01, 39.44it/s]"
     ]
    },
    {
     "name": "stdout",
     "output_type": "stream",
     "text": [
      "Epoch 1920/2000, Loss: 0.0923\n",
      "Test Accuracy at Epoch 1920: 76.05%\n",
      "Test F1-score at Epoch 1920: 0.7708\n",
      "Classification Report at Epoch 1920:\n",
      "                  precision    recall  f1-score   support\n",
      "\n",
      "    infringement       0.80      0.70      0.75       194\n",
      "non_infringement       0.73      0.82      0.77       186\n",
      "\n",
      "        accuracy                           0.76       380\n",
      "       macro avg       0.76      0.76      0.76       380\n",
      "    weighted avg       0.77      0.76      0.76       380\n",
      "\n"
     ]
    },
    {
     "name": "stderr",
     "output_type": "stream",
     "text": [
      "Training Epochs:  97%|█████████▋| 1935/2000 [00:55<00:01, 36.70it/s]"
     ]
    },
    {
     "name": "stdout",
     "output_type": "stream",
     "text": [
      "Epoch 1930/2000, Loss: 0.0923\n",
      "Test Accuracy at Epoch 1930: 76.05%\n",
      "Test F1-score at Epoch 1930: 0.7708\n",
      "Classification Report at Epoch 1930:\n",
      "                  precision    recall  f1-score   support\n",
      "\n",
      "    infringement       0.80      0.70      0.75       194\n",
      "non_infringement       0.73      0.82      0.77       186\n",
      "\n",
      "        accuracy                           0.76       380\n",
      "       macro avg       0.76      0.76      0.76       380\n",
      "    weighted avg       0.77      0.76      0.76       380\n",
      "\n"
     ]
    },
    {
     "name": "stderr",
     "output_type": "stream",
     "text": [
      "Training Epochs:  97%|█████████▋| 1946/2000 [00:55<00:01, 41.77it/s]"
     ]
    },
    {
     "name": "stdout",
     "output_type": "stream",
     "text": [
      "Epoch 1940/2000, Loss: 0.0923\n",
      "Test Accuracy at Epoch 1940: 76.05%\n",
      "Test F1-score at Epoch 1940: 0.7708\n",
      "Classification Report at Epoch 1940:\n",
      "                  precision    recall  f1-score   support\n",
      "\n",
      "    infringement       0.80      0.70      0.75       194\n",
      "non_infringement       0.73      0.82      0.77       186\n",
      "\n",
      "        accuracy                           0.76       380\n",
      "       macro avg       0.76      0.76      0.76       380\n",
      "    weighted avg       0.77      0.76      0.76       380\n",
      "\n"
     ]
    },
    {
     "name": "stderr",
     "output_type": "stream",
     "text": [
      "Training Epochs:  98%|█████████▊| 1957/2000 [00:55<00:01, 40.98it/s]"
     ]
    },
    {
     "name": "stdout",
     "output_type": "stream",
     "text": [
      "Epoch 1950/2000, Loss: 0.0922\n",
      "Test Accuracy at Epoch 1950: 76.05%\n",
      "Test F1-score at Epoch 1950: 0.7708\n",
      "Classification Report at Epoch 1950:\n",
      "                  precision    recall  f1-score   support\n",
      "\n",
      "    infringement       0.80      0.70      0.75       194\n",
      "non_infringement       0.73      0.82      0.77       186\n",
      "\n",
      "        accuracy                           0.76       380\n",
      "       macro avg       0.76      0.76      0.76       380\n",
      "    weighted avg       0.77      0.76      0.76       380\n",
      "\n"
     ]
    },
    {
     "name": "stderr",
     "output_type": "stream",
     "text": [
      "Training Epochs:  98%|█████████▊| 1962/2000 [00:55<00:00, 40.45it/s]"
     ]
    },
    {
     "name": "stdout",
     "output_type": "stream",
     "text": [
      "Epoch 1960/2000, Loss: 0.0922\n",
      "Test Accuracy at Epoch 1960: 76.05%\n",
      "Test F1-score at Epoch 1960: 0.7708\n",
      "Classification Report at Epoch 1960:\n",
      "                  precision    recall  f1-score   support\n",
      "\n",
      "    infringement       0.80      0.70      0.75       194\n",
      "non_infringement       0.73      0.82      0.77       186\n",
      "\n",
      "        accuracy                           0.76       380\n",
      "       macro avg       0.76      0.76      0.76       380\n",
      "    weighted avg       0.77      0.76      0.76       380\n",
      "\n"
     ]
    },
    {
     "name": "stderr",
     "output_type": "stream",
     "text": [
      "Training Epochs:  99%|█████████▉| 1977/2000 [00:56<00:00, 41.72it/s]"
     ]
    },
    {
     "name": "stdout",
     "output_type": "stream",
     "text": [
      "Epoch 1970/2000, Loss: 0.0922\n",
      "Test Accuracy at Epoch 1970: 76.05%\n",
      "Test F1-score at Epoch 1970: 0.7708\n",
      "Classification Report at Epoch 1970:\n",
      "                  precision    recall  f1-score   support\n",
      "\n",
      "    infringement       0.80      0.70      0.75       194\n",
      "non_infringement       0.73      0.82      0.77       186\n",
      "\n",
      "        accuracy                           0.76       380\n",
      "       macro avg       0.76      0.76      0.76       380\n",
      "    weighted avg       0.77      0.76      0.76       380\n",
      "\n"
     ]
    },
    {
     "name": "stderr",
     "output_type": "stream",
     "text": [
      "Training Epochs:  99%|█████████▉| 1987/2000 [00:56<00:00, 40.83it/s]"
     ]
    },
    {
     "name": "stdout",
     "output_type": "stream",
     "text": [
      "Epoch 1980/2000, Loss: 0.0922\n",
      "Test Accuracy at Epoch 1980: 76.05%\n",
      "Test F1-score at Epoch 1980: 0.7708\n",
      "Classification Report at Epoch 1980:\n",
      "                  precision    recall  f1-score   support\n",
      "\n",
      "    infringement       0.80      0.70      0.75       194\n",
      "non_infringement       0.73      0.82      0.77       186\n",
      "\n",
      "        accuracy                           0.76       380\n",
      "       macro avg       0.76      0.76      0.76       380\n",
      "    weighted avg       0.77      0.76      0.76       380\n",
      "\n"
     ]
    },
    {
     "name": "stderr",
     "output_type": "stream",
     "text": [
      "Training Epochs: 100%|█████████▉| 1992/2000 [00:56<00:00, 42.00it/s]"
     ]
    },
    {
     "name": "stdout",
     "output_type": "stream",
     "text": [
      "Epoch 1990/2000, Loss: 0.0922\n",
      "Test Accuracy at Epoch 1990: 76.05%\n",
      "Test F1-score at Epoch 1990: 0.7708\n",
      "Classification Report at Epoch 1990:\n",
      "                  precision    recall  f1-score   support\n",
      "\n",
      "    infringement       0.80      0.70      0.75       194\n",
      "non_infringement       0.73      0.82      0.77       186\n",
      "\n",
      "        accuracy                           0.76       380\n",
      "       macro avg       0.76      0.76      0.76       380\n",
      "    weighted avg       0.77      0.76      0.76       380\n",
      "\n"
     ]
    },
    {
     "name": "stderr",
     "output_type": "stream",
     "text": [
      "Training Epochs: 100%|██████████| 2000/2000 [00:56<00:00, 35.22it/s]"
     ]
    },
    {
     "name": "stdout",
     "output_type": "stream",
     "text": [
      "Epoch 2000/2000, Loss: 0.0922\n",
      "Test Accuracy at Epoch 2000: 76.05%\n",
      "Test F1-score at Epoch 2000: 0.7708\n",
      "Classification Report at Epoch 2000:\n",
      "                  precision    recall  f1-score   support\n",
      "\n",
      "    infringement       0.80      0.70      0.75       194\n",
      "non_infringement       0.73      0.82      0.77       186\n",
      "\n",
      "        accuracy                           0.76       380\n",
      "       macro avg       0.76      0.76      0.76       380\n",
      "    weighted avg       0.77      0.76      0.76       380\n",
      "\n"
     ]
    },
    {
     "name": "stderr",
     "output_type": "stream",
     "text": [
      "\n",
      "/tmp/ipykernel_1789139/2033666368.py:59: FutureWarning: You are using `torch.load` with `weights_only=False` (the current default value), which uses the default pickle module implicitly. It is possible to construct malicious pickle data which will execute arbitrary code during unpickling (See https://github.com/pytorch/pytorch/blob/main/SECURITY.md#untrusted-models for more details). In a future release, the default value for `weights_only` will be flipped to `True`. This limits the functions that could be executed during unpickling. Arbitrary objects will no longer be allowed to be loaded via this mode unless they are explicitly allowlisted by the user via `torch.serialization.add_safe_globals`. We recommend you start setting `weights_only=True` for any use case where you don't have full control of the loaded file. Please open an issue on GitHub for any issues related to this experimental feature.\n",
      "  custom_mlp.load_state_dict(torch.load(checkpoint_path))\n"
     ]
    },
    {
     "data": {
      "image/png": "[encoded data removed]",
      "text/plain": [
       "<Figure size 1000x500 with 1 Axes>"
      ]
     },
     "metadata": {},
     "output_type": "display_data"
    },
    {
     "name": "stdout",
     "output_type": "stream",
     "text": [
      "Final Model Accuracy: 77.89%\n",
      "Final Model F1-score: 0.7846\n"
     ]
    }
   ],
   "source": [
    "input_dim = X_train.shape[1]\n",
    "hidden_dim = 256 \n",
    "print(f\"Training MLP model with input_dim={input_dim} and hidden_dim={hidden_dim}\")\n",
    "\n",
    "custom_mlp, losses, best_accuracy, best_f1 = train_model(X_train, y_train, X_test, y_test, input_dim, hidden_dim)"
   ]
  },
  {
   "cell_type": "code",
   "execution_count": 10,
   "metadata": {},
   "outputs": [
    {
     "name": "stdout",
     "output_type": "stream",
     "text": [
      "Checkpoint saved to '/home/guangwei/LLM-COPYRIGHT/copyright_newVersion/models/train_input_0_layer.pth'.\n"
     ]
    }
   ],
   "source": [
    "def save_checkpoint(model, optimizer, epoch, loss, filepath):\n",
    "    checkpoint = {\n",
    "        'epoch': epoch + 1,\n",
    "        'model_state_dict': model.state_dict(),\n",
    "        'optimizer_state_dict': optimizer.state_dict(),\n",
    "        'loss': loss\n",
    "    }\n",
    "    torch.save(checkpoint, filepath)\n",
    "    print(f\"Checkpoint saved to '{filepath}'.\")\n",
    "\n",
    "save_checkpoint(custom_mlp, torch.optim.Adam(custom_mlp.parameters()), len(losses), losses[-1], checkpoint_file)"
   ]
  },
  {
   "cell_type": "code",
   "execution_count": 11,
   "metadata": {},
   "outputs": [
    {
     "name": "stdout",
     "output_type": "stream",
     "text": [
      "Final Model Accuracy: 77.89%\n",
      "                  precision    recall  f1-score   support\n",
      "\n",
      "    infringement       0.81      0.74      0.77       194\n",
      "non_infringement       0.75      0.82      0.78       186\n",
      "\n",
      "        accuracy                           0.78       380\n",
      "       macro avg       0.78      0.78      0.78       380\n",
      "    weighted avg       0.78      0.78      0.78       380\n",
      "\n"
     ]
    },
    {
     "name": "stderr",
     "output_type": "stream",
     "text": [
      "/tmp/ipykernel_1789139/3740627605.py:2: UserWarning: To copy construct from a tensor, it is recommended to use sourceTensor.clone().detach() or sourceTensor.clone().detach().requires_grad_(True), rather than torch.tensor(sourceTensor).\n",
      "  y_pred_final = (torch.sigmoid(torch.tensor(custom_mlp(torch.tensor(X_test, dtype=torch.float32)))) > 0.5).float().numpy()\n"
     ]
    }
   ],
   "source": [
    "print(f\"Final Model Accuracy: {best_accuracy * 100:.2f}%\")\n",
    "y_pred_final = (torch.sigmoid(torch.tensor(custom_mlp(torch.tensor(X_test, dtype=torch.float32)))) > 0.5).float().numpy()\n",
    "print(classification_report(y_test, y_pred_final, target_names=[\"infringement\", \"non_infringement\"]))"
   ]
  }
 ],
 "metadata": {
  "kernelspec": {
   "display_name": "zdh",
   "language": "python",
   "name": "python3"
  },
  "language_info": {
   "codemirror_mode": {
    "name": "ipython",
    "version": 3
   },
   "file_extension": ".py",
   "mimetype": "text/x-python",
   "name": "python",
   "nbconvert_exporter": "python",
   "pygments_lexer": "ipython3",
   "version": "3.12.3"
  }
 },
 "nbformat": 4,
 "nbformat_minor": 2
}
