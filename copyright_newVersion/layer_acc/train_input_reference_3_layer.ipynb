{
 "cells": [
  {
   "cell_type": "code",
   "execution_count": 1,
   "metadata": {},
   "outputs": [
    {
     "name": "stderr",
     "output_type": "stream",
     "text": [
      "/home/guangwei/miniconda3/envs/zdh/lib/python3.12/site-packages/tqdm/auto.py:21: TqdmWarning: IProgress not found. Please update jupyter and ipywidgets. See https://ipywidgets.readthedocs.io/en/stable/user_install.html\n",
      "  from .autonotebook import tqdm as notebook_tqdm\n"
     ]
    }
   ],
   "source": [
    "# import packages & variables\n",
    "import argparse\n",
    "import torch\n",
    "import torch.nn as nn\n",
    "import numpy as np\n",
    "from sklearn.metrics import accuracy_score, classification_report\n",
    "import matplotlib.pyplot as plt\n",
    "from tqdm import tqdm\n",
    "from transformers import AutoTokenizer, AutoModelForCausalLM, AutoModel, AutoModelForSequenceClassification\n",
    "import json\n",
    "import os\n",
    "\n",
    "os.environ[\"CUDA_VISIBLE_DEVICES\"] = \"5\"\n",
    "\n",
    "# Parameters\n",
    "model_name = 'meta-llama/Meta-Llama-3.1-8B'\n",
    "non_infringement_file = '/home/guangwei/LLM-COPYRIGHT/copyright_newVersion/test_division/extra_30.non_infringement.json'\n",
    "infringement_file = '/home/guangwei/LLM-COPYRIGHT/copyright_newVersion/test_division/extra_30.infringement.json'\n",
    "checkpoint_file = '/home/guangwei/LLM-COPYRIGHT/copyright_newVersion/models/train_input_reference_0_layer.pth'\n"
   ]
  },
  {
   "cell_type": "code",
   "execution_count": 2,
   "metadata": {},
   "outputs": [],
   "source": [
    "# Define CustumMLP for internal states train\n",
    "class CustomMLP(nn.Module):\n",
    "    def __init__(self, input_dim, hidden_dim):\n",
    "        super(CustomMLP, self).__init__()\n",
    "        self.down = nn.Linear(input_dim, hidden_dim)\n",
    "        self.gate = nn.Linear(input_dim, hidden_dim)\n",
    "        self.up = nn.Linear(hidden_dim, 1)\n",
    "        self.activation = nn.SiLU()\n",
    "\n",
    "    def forward(self, x):\n",
    "        down_output = self.down(x)\n",
    "        gate_output = self.gate(x)\n",
    "        gated_output = down_output * self.activation(gate_output)\n",
    "        return self.up(gated_output)"
   ]
  },
  {
   "cell_type": "code",
   "execution_count": 3,
   "metadata": {},
   "outputs": [],
   "source": [
    "# Extract hidden states/reference embeddings\n",
    "def extract_hidden_states(texts, model, tokenizer, batch_size=4):\n",
    "    device = torch.device(\"cuda\" if torch.cuda.is_available() else \"cpu\")\n",
    "    model.to(device)\n",
    "    model = nn.DataParallel(model)\n",
    "    hidden_states = []\n",
    "    \n",
    "    for i in tqdm(range(0, len(texts), batch_size), desc=\"Processing data batches\"):\n",
    "        batch_texts = texts[i:i + batch_size]\n",
    "        inputs = tokenizer(batch_texts, return_tensors=\"pt\", padding=True, truncation=True).to(device)\n",
    "        \n",
    "        with torch.no_grad():\n",
    "            outputs = model(**inputs)\n",
    "        hidden_states.append(outputs.hidden_states[3].mean(dim=1).cpu().numpy())\n",
    "    \n",
    "    return np.vstack(hidden_states)\n",
    "\n",
    "\n",
    "def extract_reference_embeddings(references, model, tokenizer, batch_size=4):\n",
    "    device = torch.device(\"cuda\" if torch.cuda.is_available() else \"cpu\")\n",
    "    model.to(device)\n",
    "    model = nn.DataParallel(model)\n",
    "    embeddings = []\n",
    "    for i in tqdm(range(0, len(references), batch_size), desc=\"Processing references\"):\n",
    "        batch_references = references[i:i + batch_size]\n",
    "        inputs = tokenizer(batch_references, return_tensors=\"pt\", padding=True, truncation=True).to(device)\n",
    "        with torch.no_grad():\n",
    "            outputs = model(**inputs)\n",
    "        embeddings.append(outputs.pooler_output.cpu().numpy())\n",
    "    return np.vstack(embeddings)"
   ]
  },
  {
   "cell_type": "code",
   "execution_count": 4,
   "metadata": {},
   "outputs": [],
   "source": [
    "# load data for infringement & non infringement\n",
    "def load_data(non_infringement_file, infringement_file):\n",
    "    with open(non_infringement_file, 'r', encoding='utf-8') as file:\n",
    "        non_infringement_json_data = json.load(file)\n",
    "\n",
    "    non_infringement_outputs = [entry['input'] for entry in non_infringement_json_data]\n",
    "    non_infringement_references = [entry['reference'] for entry in non_infringement_json_data]\n",
    "    y_non_infringement = [1] * len(non_infringement_outputs)\n",
    "\n",
    "    with open(infringement_file, 'r', encoding='utf-8') as file:\n",
    "        infringement_json_data = json.load(file)\n",
    "\n",
    "    infringement_outputs = [entry['input'] for entry in infringement_json_data]\n",
    "    infringement_references = [entry['reference'] for entry in infringement_json_data]\n",
    "    y_infringement = [0] * len(infringement_outputs)\n",
    "\n",
    "    return non_infringement_outputs, non_infringement_references, y_non_infringement, infringement_outputs, infringement_references, y_infringement"
   ]
  },
  {
   "cell_type": "code",
   "execution_count": 5,
   "metadata": {},
   "outputs": [],
   "source": [
    "from sklearn.metrics import accuracy_score, classification_report, f1_score\n",
    "\n",
    "# Train for best model\n",
    "def train_model(X_train, y_train, X_test, y_test, input_dim, hidden_dim, epochs=2000, lr=0.001, checkpoint_path=checkpoint_file):\n",
    "    custom_mlp = CustomMLP(input_dim, hidden_dim)\n",
    "    criterion = nn.BCEWithLogitsLoss()\n",
    "    optimizer = torch.optim.Adam(custom_mlp.parameters(), lr=lr)\n",
    "\n",
    "    X_train_tensor = torch.tensor(X_train, dtype=torch.float32)\n",
    "    y_train_tensor = torch.tensor(y_train, dtype=torch.float32).unsqueeze(1)\n",
    "\n",
    "    best_accuracy = -float('inf')\n",
    "    best_f1 = -float('inf')  # Track best F1-score\n",
    "    best_model_state = None\n",
    "    best_epoch = 0\n",
    "    losses = []\n",
    "\n",
    "    for epoch in tqdm(range(epochs), desc=\"Training Epochs\"):\n",
    "        custom_mlp.train()\n",
    "        optimizer.zero_grad()\n",
    "        outputs = custom_mlp(X_train_tensor)\n",
    "        loss = criterion(outputs, y_train_tensor)\n",
    "        loss.backward()\n",
    "        optimizer.step()\n",
    "        losses.append(loss.item())\n",
    "\n",
    "        # Every 10 epochs, evaluate the model\n",
    "        if (epoch + 1) % 10 == 0:\n",
    "            print(f\"Epoch {epoch + 1}/{epochs}, Loss: {loss.item():.4f}\")\n",
    "            \n",
    "            custom_mlp.eval()\n",
    "            X_test_tensor = torch.tensor(X_test, dtype=torch.float32)\n",
    "            with torch.no_grad():\n",
    "                y_pred_logits = custom_mlp(X_test_tensor)\n",
    "                y_pred = (torch.sigmoid(y_pred_logits) > 0.5).float().numpy()\n",
    "            \n",
    "            # Calculate accuracy and F1-score\n",
    "            accuracy = accuracy_score(y_test, y_pred)\n",
    "            f1 = f1_score(y_test, y_pred)  # F1-score calculation\n",
    "            \n",
    "            print(f\"Test Accuracy at Epoch {epoch + 1}: {accuracy * 100:.2f}%\")\n",
    "            print(f\"Test F1-score at Epoch {epoch + 1}: {f1:.4f}\")\n",
    "            \n",
    "            # Generate classification report\n",
    "            report = classification_report(y_test, y_pred, target_names=[\"infringement\", \"non_infringement\"])\n",
    "            print(f\"Classification Report at Epoch {epoch + 1}:\\n{report}\")\n",
    "\n",
    "            # Save the model if it achieves a better F1-score\n",
    "            if f1 > best_f1:\n",
    "                best_accuracy = accuracy\n",
    "                best_f1 = f1\n",
    "                best_model_state = custom_mlp.state_dict()\n",
    "                best_epoch = epoch + 1\n",
    "                torch.save(best_model_state, checkpoint_path)\n",
    "                print(f\"New best model saved with F1-score {best_f1:.4f} at epoch {best_epoch}\")\n",
    "                print(f\"Best Classification Report at Epoch {best_epoch}:\\n{report}\")\n",
    "\n",
    "    # Load the best model state\n",
    "    custom_mlp.load_state_dict(torch.load(checkpoint_path))\n",
    "\n",
    "    # Plot loss curve\n",
    "    plt.figure(figsize=(10, 5))\n",
    "    plt.plot(losses, label='Training Loss')\n",
    "    plt.xlabel('Epoch')\n",
    "    plt.ylabel('Loss')\n",
    "    plt.title('Training Loss Curve')\n",
    "    plt.legend()\n",
    "    plt.show()\n",
    "\n",
    "    print(f\"Final Model Accuracy: {best_accuracy * 100:.2f}%\")\n",
    "    print(f\"Final Model F1-score: {best_f1:.4f}\")\n",
    "    \n",
    "    return custom_mlp, losses, best_accuracy, best_f1\n"
   ]
  },
  {
   "cell_type": "code",
   "execution_count": 6,
   "metadata": {},
   "outputs": [
    {
     "name": "stderr",
     "output_type": "stream",
     "text": [
      "/home/guangwei/miniconda3/envs/zdh/lib/python3.12/site-packages/transformers/generation/configuration_utils.py:777: UserWarning: `return_dict_in_generate` is NOT set to `True`, but `output_hidden_states` is. When `return_dict_in_generate` is not `True`, `output_hidden_states` is ignored.\n",
      "  warnings.warn(\n",
      "Loading checkpoint shards: 100%|██████████| 4/4 [00:07<00:00,  1.89s/it]\n"
     ]
    }
   ],
   "source": [
    "tokenizer = AutoTokenizer.from_pretrained(model_name, model_max_length=512)\n",
    "model = AutoModelForCausalLM.from_pretrained(model_name, output_hidden_states=True)\n",
    "tokenizer.pad_token = tokenizer.eos_token\n",
    "bert_tokenizer = AutoTokenizer.from_pretrained('google-bert/bert-base-uncased')\n",
    "bert_model = AutoModel.from_pretrained('google-bert/bert-base-uncased')\n",
    "bert_tokenizer.pad_token = tokenizer.eos_token\n",
    "\n",
    "non_infringement_outputs, non_infringement_references, y_non_infringement, infringement_outputs, infringement_references, y_infringement = load_data(\n",
    "    non_infringement_file, infringement_file\n",
    ")\n",
    "\n",
    "y_non_infringement = np.array(y_non_infringement)\n",
    "y_infringement = np.array(y_infringement)\n"
   ]
  },
  {
   "cell_type": "code",
   "execution_count": 7,
   "metadata": {},
   "outputs": [
    {
     "name": "stdout",
     "output_type": "stream",
     "text": [
      "Extracting hidden states for non_infringement texts...\n"
     ]
    },
    {
     "name": "stderr",
     "output_type": "stream",
     "text": [
      "Processing data batches:   0%|          | 0/232 [00:00<?, ?it/s]Starting from v4.46, the `logits` model output will have the same type as the model (except at train time, where it will always be FP32)\n",
      "Processing data batches: 100%|██████████| 232/232 [01:14<00:00,  3.11it/s]\n"
     ]
    },
    {
     "name": "stdout",
     "output_type": "stream",
     "text": [
      "Extracting reference embeddings for non_infringement texts...\n"
     ]
    },
    {
     "name": "stderr",
     "output_type": "stream",
     "text": [
      "Processing references: 100%|██████████| 232/232 [00:04<00:00, 55.86it/s]\n"
     ]
    },
    {
     "name": "stdout",
     "output_type": "stream",
     "text": [
      "Extracting hidden states for infringement texts...\n"
     ]
    },
    {
     "name": "stderr",
     "output_type": "stream",
     "text": [
      "Processing data batches: 100%|██████████| 243/243 [01:25<00:00,  2.86it/s]\n"
     ]
    },
    {
     "name": "stdout",
     "output_type": "stream",
     "text": [
      "Extracting reference embeddings for infringement texts...\n"
     ]
    },
    {
     "name": "stderr",
     "output_type": "stream",
     "text": [
      "Processing references: 100%|██████████| 243/243 [00:06<00:00, 38.71it/s]\n"
     ]
    }
   ],
   "source": [
    "print(\"Extracting hidden states for non_infringement texts...\")\n",
    "X_non_infringement = extract_hidden_states(non_infringement_outputs, model, tokenizer)\n",
    "print(\"Extracting reference embeddings for non_infringement texts...\")\n",
    "reference_embeddings_non_infringement = extract_reference_embeddings(non_infringement_references, bert_model, bert_tokenizer)\n",
    "X_non_infringement_combined = np.hstack([X_non_infringement, reference_embeddings_non_infringement])\n",
    "\n",
    "print(\"Extracting hidden states for infringement texts...\")\n",
    "X_infringement = extract_hidden_states(infringement_outputs, model, tokenizer)\n",
    "print(\"Extracting reference embeddings for infringement texts...\")\n",
    "reference_embeddings_infringement = extract_reference_embeddings(infringement_references, bert_model, bert_tokenizer)\n",
    "X_infringement_combined = np.hstack([X_infringement, reference_embeddings_infringement])"
   ]
  },
  {
   "cell_type": "code",
   "execution_count": 8,
   "metadata": {},
   "outputs": [
    {
     "name": "stdout",
     "output_type": "stream",
     "text": [
      "Data successfully split into training and test sets.\n"
     ]
    }
   ],
   "source": [
    "split_index_non_infringement = int(0.8 * len(X_non_infringement_combined))\n",
    "X_non_infringement_train = X_non_infringement_combined[:split_index_non_infringement]\n",
    "X_non_infringement_test = X_non_infringement_combined[split_index_non_infringement:]\n",
    "y_non_infringement_train = y_non_infringement[:split_index_non_infringement]\n",
    "y_non_infringement_test = y_non_infringement[split_index_non_infringement:]\n",
    "\n",
    "split_index_infringement = int(0.8 * len(X_infringement_combined))\n",
    "X_infringement_train = X_infringement_combined[:split_index_infringement]\n",
    "X_infringement_test = X_infringement_combined[split_index_infringement:]\n",
    "y_infringement_train = y_infringement[:split_index_infringement]\n",
    "y_infringement_test = y_infringement[split_index_infringement:]\n",
    "\n",
    "X_train = np.vstack((X_non_infringement_train, X_infringement_train))\n",
    "X_test = np.vstack((X_non_infringement_test, X_infringement_test))\n",
    "y_train = np.concatenate((y_non_infringement_train, y_infringement_train))\n",
    "y_test = np.concatenate((y_non_infringement_test, y_infringement_test))\n",
    "\n",
    "print(\"Data successfully split into training and test sets.\")"
   ]
  },
  {
   "cell_type": "code",
   "execution_count": 9,
   "metadata": {},
   "outputs": [
    {
     "name": "stdout",
     "output_type": "stream",
     "text": [
      "Training MLP model with input_dim=4864 and hidden_dim=256\n"
     ]
    },
    {
     "name": "stderr",
     "output_type": "stream",
     "text": [
      "Training Epochs:   0%|          | 10/2000 [00:02<05:02,  6.59it/s]"
     ]
    },
    {
     "name": "stdout",
     "output_type": "stream",
     "text": [
      "Epoch 10/2000, Loss: 0.6560\n",
      "Test Accuracy at Epoch 10: 64.47%\n",
      "Test F1-score at Epoch 10: 0.6599\n",
      "Classification Report at Epoch 10:\n",
      "                  precision    recall  f1-score   support\n",
      "\n",
      "    infringement       0.67      0.59      0.63       194\n",
      "non_infringement       0.62      0.70      0.66       186\n",
      "\n",
      "        accuracy                           0.64       380\n",
      "       macro avg       0.65      0.65      0.64       380\n",
      "    weighted avg       0.65      0.64      0.64       380\n",
      "\n",
      "New best model saved with F1-score 0.6599 at epoch 10\n",
      "Best Classification Report at Epoch 10:\n",
      "                  precision    recall  f1-score   support\n",
      "\n",
      "    infringement       0.67      0.59      0.63       194\n",
      "non_infringement       0.62      0.70      0.66       186\n",
      "\n",
      "        accuracy                           0.64       380\n",
      "       macro avg       0.65      0.65      0.64       380\n",
      "    weighted avg       0.65      0.64      0.64       380\n",
      "\n"
     ]
    },
    {
     "name": "stderr",
     "output_type": "stream",
     "text": [
      "Training Epochs:   1%|          | 20/2000 [00:04<05:46,  5.72it/s]"
     ]
    },
    {
     "name": "stdout",
     "output_type": "stream",
     "text": [
      "Epoch 20/2000, Loss: 0.5969\n",
      "Test Accuracy at Epoch 20: 67.37%\n",
      "Test F1-score at Epoch 20: 0.7033\n",
      "Classification Report at Epoch 20:\n",
      "                  precision    recall  f1-score   support\n",
      "\n",
      "    infringement       0.74      0.56      0.64       194\n",
      "non_infringement       0.63      0.79      0.70       186\n",
      "\n",
      "        accuracy                           0.67       380\n",
      "       macro avg       0.69      0.68      0.67       380\n",
      "    weighted avg       0.69      0.67      0.67       380\n",
      "\n",
      "New best model saved with F1-score 0.7033 at epoch 20\n",
      "Best Classification Report at Epoch 20:\n",
      "                  precision    recall  f1-score   support\n",
      "\n",
      "    infringement       0.74      0.56      0.64       194\n",
      "non_infringement       0.63      0.79      0.70       186\n",
      "\n",
      "        accuracy                           0.67       380\n",
      "       macro avg       0.69      0.68      0.67       380\n",
      "    weighted avg       0.69      0.67      0.67       380\n",
      "\n"
     ]
    },
    {
     "name": "stderr",
     "output_type": "stream",
     "text": [
      "Training Epochs:   2%|▏         | 30/2000 [00:05<05:47,  5.67it/s]"
     ]
    },
    {
     "name": "stdout",
     "output_type": "stream",
     "text": [
      "Epoch 30/2000, Loss: 0.5146\n",
      "Test Accuracy at Epoch 30: 66.84%\n",
      "Test F1-score at Epoch 30: 0.7470\n",
      "Classification Report at Epoch 30:\n",
      "                  precision    recall  f1-score   support\n",
      "\n",
      "    infringement       1.00      0.35      0.52       194\n",
      "non_infringement       0.60      1.00      0.75       186\n",
      "\n",
      "        accuracy                           0.67       380\n",
      "       macro avg       0.80      0.68      0.63       380\n",
      "    weighted avg       0.80      0.67      0.63       380\n",
      "\n",
      "New best model saved with F1-score 0.7470 at epoch 30\n",
      "Best Classification Report at Epoch 30:\n",
      "                  precision    recall  f1-score   support\n",
      "\n",
      "    infringement       1.00      0.35      0.52       194\n",
      "non_infringement       0.60      1.00      0.75       186\n",
      "\n",
      "        accuracy                           0.67       380\n",
      "       macro avg       0.80      0.68      0.63       380\n",
      "    weighted avg       0.80      0.67      0.63       380\n",
      "\n"
     ]
    },
    {
     "name": "stderr",
     "output_type": "stream",
     "text": [
      "Training Epochs:   2%|▏         | 40/2000 [00:07<05:24,  6.04it/s]"
     ]
    },
    {
     "name": "stdout",
     "output_type": "stream",
     "text": [
      "Epoch 40/2000, Loss: 0.4403\n",
      "Test Accuracy at Epoch 40: 75.00%\n",
      "Test F1-score at Epoch 40: 0.7689\n",
      "Classification Report at Epoch 40:\n",
      "                  precision    recall  f1-score   support\n",
      "\n",
      "    infringement       0.82      0.65      0.73       194\n",
      "non_infringement       0.70      0.85      0.77       186\n",
      "\n",
      "        accuracy                           0.75       380\n",
      "       macro avg       0.76      0.75      0.75       380\n",
      "    weighted avg       0.76      0.75      0.75       380\n",
      "\n",
      "New best model saved with F1-score 0.7689 at epoch 40\n",
      "Best Classification Report at Epoch 40:\n",
      "                  precision    recall  f1-score   support\n",
      "\n",
      "    infringement       0.82      0.65      0.73       194\n",
      "non_infringement       0.70      0.85      0.77       186\n",
      "\n",
      "        accuracy                           0.75       380\n",
      "       macro avg       0.76      0.75      0.75       380\n",
      "    weighted avg       0.76      0.75      0.75       380\n",
      "\n"
     ]
    },
    {
     "name": "stderr",
     "output_type": "stream",
     "text": [
      "Training Epochs:   2%|▎         | 50/2000 [00:08<04:01,  8.09it/s]"
     ]
    },
    {
     "name": "stdout",
     "output_type": "stream",
     "text": [
      "Epoch 50/2000, Loss: 0.3865\n",
      "Test Accuracy at Epoch 50: 74.47%\n",
      "Test F1-score at Epoch 50: 0.7830\n",
      "Classification Report at Epoch 50:\n",
      "                  precision    recall  f1-score   support\n",
      "\n",
      "    infringement       0.91      0.56      0.69       194\n",
      "non_infringement       0.67      0.94      0.78       186\n",
      "\n",
      "        accuracy                           0.74       380\n",
      "       macro avg       0.79      0.75      0.74       380\n",
      "    weighted avg       0.79      0.74      0.74       380\n",
      "\n",
      "New best model saved with F1-score 0.7830 at epoch 50\n",
      "Best Classification Report at Epoch 50:\n",
      "                  precision    recall  f1-score   support\n",
      "\n",
      "    infringement       0.91      0.56      0.69       194\n",
      "non_infringement       0.67      0.94      0.78       186\n",
      "\n",
      "        accuracy                           0.74       380\n",
      "       macro avg       0.79      0.75      0.74       380\n",
      "    weighted avg       0.79      0.74      0.74       380\n",
      "\n"
     ]
    },
    {
     "name": "stderr",
     "output_type": "stream",
     "text": [
      "Training Epochs:   3%|▎         | 61/2000 [00:09<03:17,  9.80it/s]"
     ]
    },
    {
     "name": "stdout",
     "output_type": "stream",
     "text": [
      "Epoch 60/2000, Loss: 0.3837\n",
      "Test Accuracy at Epoch 60: 78.95%\n",
      "Test F1-score at Epoch 60: 0.7938\n",
      "Classification Report at Epoch 60:\n",
      "                  precision    recall  f1-score   support\n",
      "\n",
      "    infringement       0.82      0.75      0.78       194\n",
      "non_infringement       0.76      0.83      0.79       186\n",
      "\n",
      "        accuracy                           0.79       380\n",
      "       macro avg       0.79      0.79      0.79       380\n",
      "    weighted avg       0.79      0.79      0.79       380\n",
      "\n",
      "New best model saved with F1-score 0.7938 at epoch 60\n",
      "Best Classification Report at Epoch 60:\n",
      "                  precision    recall  f1-score   support\n",
      "\n",
      "    infringement       0.82      0.75      0.78       194\n",
      "non_infringement       0.76      0.83      0.79       186\n",
      "\n",
      "        accuracy                           0.79       380\n",
      "       macro avg       0.79      0.79      0.79       380\n",
      "    weighted avg       0.79      0.79      0.79       380\n",
      "\n"
     ]
    },
    {
     "name": "stderr",
     "output_type": "stream",
     "text": [
      "Training Epochs:   4%|▎         | 70/2000 [00:10<05:11,  6.20it/s]"
     ]
    },
    {
     "name": "stdout",
     "output_type": "stream",
     "text": [
      "Epoch 70/2000, Loss: 0.3377\n",
      "Test Accuracy at Epoch 70: 81.32%\n",
      "Test F1-score at Epoch 70: 0.8221\n",
      "Classification Report at Epoch 70:\n",
      "                  precision    recall  f1-score   support\n",
      "\n",
      "    infringement       0.87      0.75      0.80       194\n",
      "non_infringement       0.77      0.88      0.82       186\n",
      "\n",
      "        accuracy                           0.81       380\n",
      "       macro avg       0.82      0.81      0.81       380\n",
      "    weighted avg       0.82      0.81      0.81       380\n",
      "\n",
      "New best model saved with F1-score 0.8221 at epoch 70\n",
      "Best Classification Report at Epoch 70:\n",
      "                  precision    recall  f1-score   support\n",
      "\n",
      "    infringement       0.87      0.75      0.80       194\n",
      "non_infringement       0.77      0.88      0.82       186\n",
      "\n",
      "        accuracy                           0.81       380\n",
      "       macro avg       0.82      0.81      0.81       380\n",
      "    weighted avg       0.82      0.81      0.81       380\n",
      "\n"
     ]
    },
    {
     "name": "stderr",
     "output_type": "stream",
     "text": [
      "Training Epochs:   4%|▍         | 80/2000 [00:15<17:23,  1.84it/s]"
     ]
    },
    {
     "name": "stdout",
     "output_type": "stream",
     "text": [
      "Epoch 80/2000, Loss: 0.3127\n",
      "Test Accuracy at Epoch 80: 80.26%\n",
      "Test F1-score at Epoch 80: 0.8072\n",
      "Classification Report at Epoch 80:\n",
      "                  precision    recall  f1-score   support\n",
      "\n",
      "    infringement       0.84      0.76      0.80       194\n",
      "non_infringement       0.77      0.84      0.81       186\n",
      "\n",
      "        accuracy                           0.80       380\n",
      "       macro avg       0.80      0.80      0.80       380\n",
      "    weighted avg       0.81      0.80      0.80       380\n",
      "\n"
     ]
    },
    {
     "name": "stderr",
     "output_type": "stream",
     "text": [
      "Training Epochs:   4%|▍         | 90/2000 [00:21<18:55,  1.68it/s]"
     ]
    },
    {
     "name": "stdout",
     "output_type": "stream",
     "text": [
      "Epoch 90/2000, Loss: 0.3049\n",
      "Test Accuracy at Epoch 90: 79.47%\n",
      "Test F1-score at Epoch 90: 0.8178\n",
      "Classification Report at Epoch 90:\n",
      "                  precision    recall  f1-score   support\n",
      "\n",
      "    infringement       0.92      0.65      0.77       194\n",
      "non_infringement       0.72      0.94      0.82       186\n",
      "\n",
      "        accuracy                           0.79       380\n",
      "       macro avg       0.82      0.80      0.79       380\n",
      "    weighted avg       0.82      0.79      0.79       380\n",
      "\n"
     ]
    },
    {
     "name": "stderr",
     "output_type": "stream",
     "text": [
      "Training Epochs:   5%|▌         | 100/2000 [00:26<18:06,  1.75it/s]"
     ]
    },
    {
     "name": "stdout",
     "output_type": "stream",
     "text": [
      "Epoch 100/2000, Loss: 0.2705\n",
      "Test Accuracy at Epoch 100: 80.26%\n",
      "Test F1-score at Epoch 100: 0.8210\n",
      "Classification Report at Epoch 100:\n",
      "                  precision    recall  f1-score   support\n",
      "\n",
      "    infringement       0.90      0.69      0.78       194\n",
      "non_infringement       0.74      0.92      0.82       186\n",
      "\n",
      "        accuracy                           0.80       380\n",
      "       macro avg       0.82      0.81      0.80       380\n",
      "    weighted avg       0.82      0.80      0.80       380\n",
      "\n"
     ]
    },
    {
     "name": "stderr",
     "output_type": "stream",
     "text": [
      "Training Epochs:   6%|▌         | 110/2000 [00:31<15:33,  2.02it/s]"
     ]
    },
    {
     "name": "stdout",
     "output_type": "stream",
     "text": [
      "Epoch 110/2000, Loss: 0.2558\n",
      "Test Accuracy at Epoch 110: 79.74%\n",
      "Test F1-score at Epoch 110: 0.8089\n",
      "Classification Report at Epoch 110:\n",
      "                  precision    recall  f1-score   support\n",
      "\n",
      "    infringement       0.86      0.72      0.78       194\n",
      "non_infringement       0.75      0.88      0.81       186\n",
      "\n",
      "        accuracy                           0.80       380\n",
      "       macro avg       0.81      0.80      0.80       380\n",
      "    weighted avg       0.81      0.80      0.80       380\n",
      "\n"
     ]
    },
    {
     "name": "stderr",
     "output_type": "stream",
     "text": [
      "Training Epochs:   6%|▌         | 119/2000 [00:35<15:51,  1.98it/s]"
     ]
    },
    {
     "name": "stdout",
     "output_type": "stream",
     "text": [
      "Epoch 120/2000, Loss: 0.2686\n",
      "Test Accuracy at Epoch 120: 80.53%\n",
      "Test F1-score at Epoch 120: 0.8271\n",
      "Classification Report at Epoch 120:\n",
      "                  precision    recall  f1-score   support\n",
      "\n",
      "    infringement       0.93      0.66      0.78       194\n",
      "non_infringement       0.73      0.95      0.83       186\n",
      "\n",
      "        accuracy                           0.81       380\n",
      "       macro avg       0.83      0.81      0.80       380\n",
      "    weighted avg       0.84      0.81      0.80       380\n",
      "\n"
     ]
    },
    {
     "name": "stderr",
     "output_type": "stream",
     "text": [
      "Training Epochs:   6%|▌         | 120/2000 [00:36<17:38,  1.78it/s]"
     ]
    },
    {
     "name": "stdout",
     "output_type": "stream",
     "text": [
      "New best model saved with F1-score 0.8271 at epoch 120\n",
      "Best Classification Report at Epoch 120:\n",
      "                  precision    recall  f1-score   support\n",
      "\n",
      "    infringement       0.93      0.66      0.78       194\n",
      "non_infringement       0.73      0.95      0.83       186\n",
      "\n",
      "        accuracy                           0.81       380\n",
      "       macro avg       0.83      0.81      0.80       380\n",
      "    weighted avg       0.84      0.81      0.80       380\n",
      "\n"
     ]
    },
    {
     "name": "stderr",
     "output_type": "stream",
     "text": [
      "Training Epochs:   6%|▋         | 130/2000 [00:39<07:27,  4.18it/s]"
     ]
    },
    {
     "name": "stdout",
     "output_type": "stream",
     "text": [
      "Epoch 130/2000, Loss: 0.2287\n",
      "Test Accuracy at Epoch 130: 80.00%\n",
      "Test F1-score at Epoch 130: 0.8199\n",
      "Classification Report at Epoch 130:\n",
      "                  precision    recall  f1-score   support\n",
      "\n",
      "    infringement       0.91      0.68      0.78       194\n",
      "non_infringement       0.73      0.93      0.82       186\n",
      "\n",
      "        accuracy                           0.80       380\n",
      "       macro avg       0.82      0.80      0.80       380\n",
      "    weighted avg       0.82      0.80      0.80       380\n",
      "\n"
     ]
    },
    {
     "name": "stderr",
     "output_type": "stream",
     "text": [
      "Training Epochs:   7%|▋         | 140/2000 [00:43<15:01,  2.06it/s]"
     ]
    },
    {
     "name": "stdout",
     "output_type": "stream",
     "text": [
      "Epoch 140/2000, Loss: 0.2454\n",
      "Test Accuracy at Epoch 140: 81.58%\n",
      "Test F1-score at Epoch 140: 0.8232\n",
      "Classification Report at Epoch 140:\n",
      "                  precision    recall  f1-score   support\n",
      "\n",
      "    infringement       0.86      0.76      0.81       194\n",
      "non_infringement       0.78      0.88      0.82       186\n",
      "\n",
      "        accuracy                           0.82       380\n",
      "       macro avg       0.82      0.82      0.82       380\n",
      "    weighted avg       0.82      0.82      0.82       380\n",
      "\n"
     ]
    },
    {
     "name": "stderr",
     "output_type": "stream",
     "text": [
      "Training Epochs:   8%|▊         | 150/2000 [00:47<14:41,  2.10it/s]"
     ]
    },
    {
     "name": "stdout",
     "output_type": "stream",
     "text": [
      "Epoch 150/2000, Loss: 0.2254\n",
      "Test Accuracy at Epoch 150: 81.58%\n",
      "Test F1-score at Epoch 150: 0.8250\n",
      "Classification Report at Epoch 150:\n",
      "                  precision    recall  f1-score   support\n",
      "\n",
      "    infringement       0.87      0.75      0.81       194\n",
      "non_infringement       0.77      0.89      0.82       186\n",
      "\n",
      "        accuracy                           0.82       380\n",
      "       macro avg       0.82      0.82      0.82       380\n",
      "    weighted avg       0.82      0.82      0.82       380\n",
      "\n"
     ]
    },
    {
     "name": "stderr",
     "output_type": "stream",
     "text": [
      "Training Epochs:   8%|▊         | 160/2000 [00:49<05:39,  5.42it/s]"
     ]
    },
    {
     "name": "stdout",
     "output_type": "stream",
     "text": [
      "Epoch 160/2000, Loss: 0.2177\n",
      "Test Accuracy at Epoch 160: 83.42%\n",
      "Test F1-score at Epoch 160: 0.8504\n",
      "Classification Report at Epoch 160:\n",
      "                  precision    recall  f1-score   support\n",
      "\n",
      "    infringement       0.95      0.71      0.81       194\n",
      "non_infringement       0.76      0.96      0.85       186\n",
      "\n",
      "        accuracy                           0.83       380\n",
      "       macro avg       0.86      0.84      0.83       380\n",
      "    weighted avg       0.86      0.83      0.83       380\n",
      "\n",
      "New best model saved with F1-score 0.8504 at epoch 160\n",
      "Best Classification Report at Epoch 160:\n",
      "                  precision    recall  f1-score   support\n",
      "\n",
      "    infringement       0.95      0.71      0.81       194\n",
      "non_infringement       0.76      0.96      0.85       186\n",
      "\n",
      "        accuracy                           0.83       380\n",
      "       macro avg       0.86      0.84      0.83       380\n",
      "    weighted avg       0.86      0.83      0.83       380\n",
      "\n"
     ]
    },
    {
     "name": "stderr",
     "output_type": "stream",
     "text": [
      "Training Epochs:   9%|▊         | 172/2000 [00:50<03:18,  9.19it/s]"
     ]
    },
    {
     "name": "stdout",
     "output_type": "stream",
     "text": [
      "Epoch 170/2000, Loss: 0.2624\n",
      "Test Accuracy at Epoch 170: 79.47%\n",
      "Test F1-score at Epoch 170: 0.7880\n",
      "Classification Report at Epoch 170:\n",
      "                  precision    recall  f1-score   support\n",
      "\n",
      "    infringement       0.79      0.81      0.80       194\n",
      "non_infringement       0.80      0.78      0.79       186\n",
      "\n",
      "        accuracy                           0.79       380\n",
      "       macro avg       0.79      0.79      0.79       380\n",
      "    weighted avg       0.79      0.79      0.79       380\n",
      "\n"
     ]
    },
    {
     "name": "stderr",
     "output_type": "stream",
     "text": [
      "Training Epochs:   9%|▉         | 181/2000 [00:51<03:34,  8.46it/s]"
     ]
    },
    {
     "name": "stdout",
     "output_type": "stream",
     "text": [
      "Epoch 180/2000, Loss: 0.2474\n",
      "Test Accuracy at Epoch 180: 82.63%\n",
      "Test F1-score at Epoch 180: 0.8458\n",
      "Classification Report at Epoch 180:\n",
      "                  precision    recall  f1-score   support\n",
      "\n",
      "    infringement       0.96      0.69      0.80       194\n",
      "non_infringement       0.75      0.97      0.85       186\n",
      "\n",
      "        accuracy                           0.83       380\n",
      "       macro avg       0.86      0.83      0.82       380\n",
      "    weighted avg       0.86      0.83      0.82       380\n",
      "\n"
     ]
    },
    {
     "name": "stderr",
     "output_type": "stream",
     "text": [
      "Training Epochs:   9%|▉         | 189/2000 [00:52<02:26, 12.37it/s]"
     ]
    },
    {
     "name": "stdout",
     "output_type": "stream",
     "text": [
      "Epoch 190/2000, Loss: 0.1948\n",
      "Test Accuracy at Epoch 190: 83.68%\n",
      "Test F1-score at Epoch 190: 0.8488\n",
      "Classification Report at Epoch 190:\n",
      "                  precision    recall  f1-score   support\n",
      "\n",
      "    infringement       0.92      0.74      0.82       194\n",
      "non_infringement       0.78      0.94      0.85       186\n",
      "\n",
      "        accuracy                           0.84       380\n",
      "       macro avg       0.85      0.84      0.84       380\n",
      "    weighted avg       0.85      0.84      0.84       380\n",
      "\n"
     ]
    },
    {
     "name": "stderr",
     "output_type": "stream",
     "text": [
      "Training Epochs:  10%|▉         | 199/2000 [00:53<02:55, 10.28it/s]"
     ]
    },
    {
     "name": "stdout",
     "output_type": "stream",
     "text": [
      "Epoch 200/2000, Loss: 0.1811\n",
      "Test Accuracy at Epoch 200: 82.89%\n",
      "Test F1-score at Epoch 200: 0.8403\n",
      "Classification Report at Epoch 200:\n",
      "                  precision    recall  f1-score   support\n",
      "\n",
      "    infringement       0.91      0.74      0.82       194\n",
      "non_infringement       0.77      0.92      0.84       186\n",
      "\n",
      "        accuracy                           0.83       380\n",
      "       macro avg       0.84      0.83      0.83       380\n",
      "    weighted avg       0.84      0.83      0.83       380\n",
      "\n"
     ]
    },
    {
     "name": "stderr",
     "output_type": "stream",
     "text": [
      "Training Epochs:  10%|█         | 210/2000 [00:55<06:41,  4.46it/s]"
     ]
    },
    {
     "name": "stdout",
     "output_type": "stream",
     "text": [
      "Epoch 210/2000, Loss: 0.1705\n",
      "Test Accuracy at Epoch 210: 83.68%\n",
      "Test F1-score at Epoch 210: 0.8488\n",
      "Classification Report at Epoch 210:\n",
      "                  precision    recall  f1-score   support\n",
      "\n",
      "    infringement       0.92      0.74      0.82       194\n",
      "non_infringement       0.78      0.94      0.85       186\n",
      "\n",
      "        accuracy                           0.84       380\n",
      "       macro avg       0.85      0.84      0.84       380\n",
      "    weighted avg       0.85      0.84      0.84       380\n",
      "\n"
     ]
    },
    {
     "name": "stderr",
     "output_type": "stream",
     "text": [
      "Training Epochs:  11%|█         | 220/2000 [01:01<15:54,  1.86it/s]"
     ]
    },
    {
     "name": "stdout",
     "output_type": "stream",
     "text": [
      "Epoch 220/2000, Loss: 0.1622\n",
      "Test Accuracy at Epoch 220: 83.42%\n",
      "Test F1-score at Epoch 220: 0.8511\n",
      "Classification Report at Epoch 220:\n",
      "                  precision    recall  f1-score   support\n",
      "\n",
      "    infringement       0.96      0.71      0.81       194\n",
      "non_infringement       0.76      0.97      0.85       186\n",
      "\n",
      "        accuracy                           0.83       380\n",
      "       macro avg       0.86      0.84      0.83       380\n",
      "    weighted avg       0.86      0.83      0.83       380\n",
      "\n",
      "New best model saved with F1-score 0.8511 at epoch 220\n",
      "Best Classification Report at Epoch 220:\n",
      "                  precision    recall  f1-score   support\n",
      "\n",
      "    infringement       0.96      0.71      0.81       194\n",
      "non_infringement       0.76      0.97      0.85       186\n",
      "\n",
      "        accuracy                           0.83       380\n",
      "       macro avg       0.86      0.84      0.83       380\n",
      "    weighted avg       0.86      0.83      0.83       380\n",
      "\n"
     ]
    },
    {
     "name": "stderr",
     "output_type": "stream",
     "text": [
      "Training Epochs:  12%|█▏        | 230/2000 [01:06<19:07,  1.54it/s]"
     ]
    },
    {
     "name": "stdout",
     "output_type": "stream",
     "text": [
      "Epoch 230/2000, Loss: 0.1563\n",
      "Test Accuracy at Epoch 230: 83.42%\n",
      "Test F1-score at Epoch 230: 0.8460\n",
      "Classification Report at Epoch 230:\n",
      "                  precision    recall  f1-score   support\n",
      "\n",
      "    infringement       0.92      0.74      0.82       194\n",
      "non_infringement       0.78      0.93      0.85       186\n",
      "\n",
      "        accuracy                           0.83       380\n",
      "       macro avg       0.85      0.84      0.83       380\n",
      "    weighted avg       0.85      0.83      0.83       380\n",
      "\n"
     ]
    },
    {
     "name": "stderr",
     "output_type": "stream",
     "text": [
      "Training Epochs:  12%|█▏        | 240/2000 [01:12<20:46,  1.41it/s]"
     ]
    },
    {
     "name": "stdout",
     "output_type": "stream",
     "text": [
      "Epoch 240/2000, Loss: 0.2615\n",
      "Test Accuracy at Epoch 240: 82.63%\n",
      "Test F1-score at Epoch 240: 0.8443\n",
      "Classification Report at Epoch 240:\n",
      "                  precision    recall  f1-score   support\n",
      "\n",
      "    infringement       0.95      0.70      0.80       194\n",
      "non_infringement       0.75      0.96      0.84       186\n",
      "\n",
      "        accuracy                           0.83       380\n",
      "       macro avg       0.85      0.83      0.82       380\n",
      "    weighted avg       0.85      0.83      0.82       380\n",
      "\n"
     ]
    },
    {
     "name": "stderr",
     "output_type": "stream",
     "text": [
      "Training Epochs:  12%|█▎        | 250/2000 [01:17<14:18,  2.04it/s]"
     ]
    },
    {
     "name": "stdout",
     "output_type": "stream",
     "text": [
      "Epoch 250/2000, Loss: 0.1829\n",
      "Test Accuracy at Epoch 250: 82.89%\n",
      "Test F1-score at Epoch 250: 0.8463\n",
      "Classification Report at Epoch 250:\n",
      "                  precision    recall  f1-score   support\n",
      "\n",
      "    infringement       0.95      0.70      0.81       194\n",
      "non_infringement       0.76      0.96      0.85       186\n",
      "\n",
      "        accuracy                           0.83       380\n",
      "       macro avg       0.85      0.83      0.83       380\n",
      "    weighted avg       0.86      0.83      0.83       380\n",
      "\n"
     ]
    },
    {
     "name": "stderr",
     "output_type": "stream",
     "text": [
      "Training Epochs:  13%|█▎        | 260/2000 [01:20<04:54,  5.91it/s]"
     ]
    },
    {
     "name": "stdout",
     "output_type": "stream",
     "text": [
      "Epoch 260/2000, Loss: 0.1490\n",
      "Test Accuracy at Epoch 260: 83.42%\n",
      "Test F1-score at Epoch 260: 0.8467\n",
      "Classification Report at Epoch 260:\n",
      "                  precision    recall  f1-score   support\n",
      "\n",
      "    infringement       0.92      0.74      0.82       194\n",
      "non_infringement       0.77      0.94      0.85       186\n",
      "\n",
      "        accuracy                           0.83       380\n",
      "       macro avg       0.85      0.84      0.83       380\n",
      "    weighted avg       0.85      0.83      0.83       380\n",
      "\n"
     ]
    },
    {
     "name": "stderr",
     "output_type": "stream",
     "text": [
      "Training Epochs:  14%|█▎        | 270/2000 [01:21<04:53,  5.89it/s]"
     ]
    },
    {
     "name": "stdout",
     "output_type": "stream",
     "text": [
      "Epoch 270/2000, Loss: 0.1439\n",
      "Test Accuracy at Epoch 270: 83.95%\n",
      "Test F1-score at Epoch 270: 0.8544\n",
      "Classification Report at Epoch 270:\n",
      "                  precision    recall  f1-score   support\n",
      "\n",
      "    infringement       0.95      0.72      0.82       194\n",
      "non_infringement       0.77      0.96      0.85       186\n",
      "\n",
      "        accuracy                           0.84       380\n",
      "       macro avg       0.86      0.84      0.84       380\n",
      "    weighted avg       0.86      0.84      0.84       380\n",
      "\n",
      "New best model saved with F1-score 0.8544 at epoch 270\n",
      "Best Classification Report at Epoch 270:\n",
      "                  precision    recall  f1-score   support\n",
      "\n",
      "    infringement       0.95      0.72      0.82       194\n",
      "non_infringement       0.77      0.96      0.85       186\n",
      "\n",
      "        accuracy                           0.84       380\n",
      "       macro avg       0.86      0.84      0.84       380\n",
      "    weighted avg       0.86      0.84      0.84       380\n",
      "\n"
     ]
    },
    {
     "name": "stderr",
     "output_type": "stream",
     "text": [
      "Training Epochs:  14%|█▍        | 279/2000 [01:24<11:02,  2.60it/s]"
     ]
    },
    {
     "name": "stdout",
     "output_type": "stream",
     "text": [
      "Epoch 280/2000, Loss: 0.1385\n",
      "Test Accuracy at Epoch 280: 83.16%\n",
      "Test F1-score at Epoch 280: 0.8483\n",
      "Classification Report at Epoch 280:\n",
      "                  precision    recall  f1-score   support\n",
      "\n",
      "    infringement       0.95      0.71      0.81       194\n",
      "non_infringement       0.76      0.96      0.85       186\n",
      "\n",
      "        accuracy                           0.83       380\n",
      "       macro avg       0.85      0.83      0.83       380\n",
      "    weighted avg       0.86      0.83      0.83       380\n",
      "\n"
     ]
    },
    {
     "name": "stderr",
     "output_type": "stream",
     "text": [
      "Training Epochs:  14%|█▍        | 290/2000 [01:30<15:34,  1.83it/s]"
     ]
    },
    {
     "name": "stdout",
     "output_type": "stream",
     "text": [
      "Epoch 290/2000, Loss: 0.1340\n",
      "Test Accuracy at Epoch 290: 81.58%\n",
      "Test F1-score at Epoch 290: 0.8380\n",
      "Classification Report at Epoch 290:\n",
      "                  precision    recall  f1-score   support\n",
      "\n",
      "    infringement       0.96      0.66      0.79       194\n",
      "non_infringement       0.74      0.97      0.84       186\n",
      "\n",
      "        accuracy                           0.82       380\n",
      "       macro avg       0.85      0.82      0.81       380\n",
      "    weighted avg       0.85      0.82      0.81       380\n",
      "\n"
     ]
    },
    {
     "name": "stderr",
     "output_type": "stream",
     "text": [
      "Training Epochs:  15%|█▌        | 300/2000 [01:35<15:22,  1.84it/s]"
     ]
    },
    {
     "name": "stdout",
     "output_type": "stream",
     "text": [
      "Epoch 300/2000, Loss: 0.1299\n",
      "Test Accuracy at Epoch 300: 81.58%\n",
      "Test F1-score at Epoch 300: 0.8380\n",
      "Classification Report at Epoch 300:\n",
      "                  precision    recall  f1-score   support\n",
      "\n",
      "    infringement       0.96      0.66      0.79       194\n",
      "non_infringement       0.74      0.97      0.84       186\n",
      "\n",
      "        accuracy                           0.82       380\n",
      "       macro avg       0.85      0.82      0.81       380\n",
      "    weighted avg       0.85      0.82      0.81       380\n",
      "\n"
     ]
    },
    {
     "name": "stderr",
     "output_type": "stream",
     "text": [
      "Training Epochs:  16%|█▌        | 310/2000 [01:39<10:30,  2.68it/s]"
     ]
    },
    {
     "name": "stdout",
     "output_type": "stream",
     "text": [
      "Epoch 310/2000, Loss: 0.1271\n",
      "Test Accuracy at Epoch 310: 81.32%\n",
      "Test F1-score at Epoch 310: 0.8360\n",
      "Classification Report at Epoch 310:\n",
      "                  precision    recall  f1-score   support\n",
      "\n",
      "    infringement       0.96      0.66      0.78       194\n",
      "non_infringement       0.73      0.97      0.84       186\n",
      "\n",
      "        accuracy                           0.81       380\n",
      "       macro avg       0.85      0.82      0.81       380\n",
      "    weighted avg       0.85      0.81      0.81       380\n",
      "\n"
     ]
    },
    {
     "name": "stderr",
     "output_type": "stream",
     "text": [
      "Training Epochs:  16%|█▌        | 320/2000 [01:42<06:41,  4.18it/s]"
     ]
    },
    {
     "name": "stdout",
     "output_type": "stream",
     "text": [
      "Epoch 320/2000, Loss: 0.1452\n",
      "Test Accuracy at Epoch 320: 83.16%\n",
      "Test F1-score at Epoch 320: 0.8416\n",
      "Classification Report at Epoch 320:\n",
      "                  precision    recall  f1-score   support\n",
      "\n",
      "    infringement       0.90      0.75      0.82       194\n",
      "non_infringement       0.78      0.91      0.84       186\n",
      "\n",
      "        accuracy                           0.83       380\n",
      "       macro avg       0.84      0.83      0.83       380\n",
      "    weighted avg       0.84      0.83      0.83       380\n",
      "\n"
     ]
    },
    {
     "name": "stderr",
     "output_type": "stream",
     "text": [
      "Training Epochs:  16%|█▋        | 330/2000 [01:46<13:53,  2.00it/s]"
     ]
    },
    {
     "name": "stdout",
     "output_type": "stream",
     "text": [
      "Epoch 330/2000, Loss: 0.1247\n",
      "Test Accuracy at Epoch 330: 80.26%\n",
      "Test F1-score at Epoch 330: 0.8227\n",
      "Classification Report at Epoch 330:\n",
      "                  precision    recall  f1-score   support\n",
      "\n",
      "    infringement       0.92      0.68      0.78       194\n",
      "non_infringement       0.73      0.94      0.82       186\n",
      "\n",
      "        accuracy                           0.80       380\n",
      "       macro avg       0.83      0.81      0.80       380\n",
      "    weighted avg       0.83      0.80      0.80       380\n",
      "\n"
     ]
    },
    {
     "name": "stderr",
     "output_type": "stream",
     "text": [
      "Training Epochs:  17%|█▋        | 340/2000 [01:49<12:53,  2.15it/s]"
     ]
    },
    {
     "name": "stdout",
     "output_type": "stream",
     "text": [
      "Epoch 340/2000, Loss: 0.1207\n",
      "Test Accuracy at Epoch 340: 80.53%\n",
      "Test F1-score at Epoch 340: 0.8246\n",
      "Classification Report at Epoch 340:\n",
      "                  precision    recall  f1-score   support\n",
      "\n",
      "    infringement       0.92      0.68      0.78       194\n",
      "non_infringement       0.74      0.94      0.82       186\n",
      "\n",
      "        accuracy                           0.81       380\n",
      "       macro avg       0.83      0.81      0.80       380\n",
      "    weighted avg       0.83      0.81      0.80       380\n",
      "\n"
     ]
    },
    {
     "name": "stderr",
     "output_type": "stream",
     "text": [
      "Training Epochs:  18%|█▊        | 350/2000 [01:55<14:31,  1.89it/s]"
     ]
    },
    {
     "name": "stdout",
     "output_type": "stream",
     "text": [
      "Epoch 350/2000, Loss: 0.1159\n",
      "Test Accuracy at Epoch 350: 80.53%\n",
      "Test F1-score at Epoch 350: 0.8246\n",
      "Classification Report at Epoch 350:\n",
      "                  precision    recall  f1-score   support\n",
      "\n",
      "    infringement       0.92      0.68      0.78       194\n",
      "non_infringement       0.74      0.94      0.82       186\n",
      "\n",
      "        accuracy                           0.81       380\n",
      "       macro avg       0.83      0.81      0.80       380\n",
      "    weighted avg       0.83      0.81      0.80       380\n",
      "\n"
     ]
    },
    {
     "name": "stderr",
     "output_type": "stream",
     "text": [
      "Training Epochs:  18%|█▊        | 360/2000 [01:59<10:38,  2.57it/s]"
     ]
    },
    {
     "name": "stdout",
     "output_type": "stream",
     "text": [
      "Epoch 360/2000, Loss: 0.1423\n",
      "Test Accuracy at Epoch 360: 82.63%\n",
      "Test F1-score at Epoch 360: 0.8374\n",
      "Classification Report at Epoch 360:\n",
      "                  precision    recall  f1-score   support\n",
      "\n",
      "    infringement       0.90      0.74      0.81       194\n",
      "non_infringement       0.77      0.91      0.84       186\n",
      "\n",
      "        accuracy                           0.83       380\n",
      "       macro avg       0.84      0.83      0.83       380\n",
      "    weighted avg       0.84      0.83      0.83       380\n",
      "\n"
     ]
    },
    {
     "name": "stderr",
     "output_type": "stream",
     "text": [
      "Training Epochs:  18%|█▊        | 370/2000 [02:03<12:35,  2.16it/s]"
     ]
    },
    {
     "name": "stdout",
     "output_type": "stream",
     "text": [
      "Epoch 370/2000, Loss: 0.1165\n",
      "Test Accuracy at Epoch 370: 82.11%\n",
      "Test F1-score at Epoch 370: 0.8341\n",
      "Classification Report at Epoch 370:\n",
      "                  precision    recall  f1-score   support\n",
      "\n",
      "    infringement       0.90      0.73      0.81       194\n",
      "non_infringement       0.76      0.92      0.83       186\n",
      "\n",
      "        accuracy                           0.82       380\n",
      "       macro avg       0.83      0.82      0.82       380\n",
      "    weighted avg       0.84      0.82      0.82       380\n",
      "\n"
     ]
    },
    {
     "name": "stderr",
     "output_type": "stream",
     "text": [
      "Training Epochs:  19%|█▉        | 380/2000 [02:07<05:19,  5.07it/s]"
     ]
    },
    {
     "name": "stdout",
     "output_type": "stream",
     "text": [
      "Epoch 380/2000, Loss: 0.1142\n",
      "Test Accuracy at Epoch 380: 81.05%\n",
      "Test F1-score at Epoch 380: 0.8318\n",
      "Classification Report at Epoch 380:\n",
      "                  precision    recall  f1-score   support\n",
      "\n",
      "    infringement       0.94      0.67      0.78       194\n",
      "non_infringement       0.74      0.96      0.83       186\n",
      "\n",
      "        accuracy                           0.81       380\n",
      "       macro avg       0.84      0.81      0.81       380\n",
      "    weighted avg       0.84      0.81      0.81       380\n",
      "\n"
     ]
    },
    {
     "name": "stderr",
     "output_type": "stream",
     "text": [
      "Training Epochs:  20%|█▉        | 390/2000 [02:11<13:43,  1.95it/s]"
     ]
    },
    {
     "name": "stdout",
     "output_type": "stream",
     "text": [
      "Epoch 390/2000, Loss: 0.1204\n",
      "Test Accuracy at Epoch 390: 82.11%\n",
      "Test F1-score at Epoch 390: 0.8333\n",
      "Classification Report at Epoch 390:\n",
      "                  precision    recall  f1-score   support\n",
      "\n",
      "    infringement       0.90      0.73      0.81       194\n",
      "non_infringement       0.77      0.91      0.83       186\n",
      "\n",
      "        accuracy                           0.82       380\n",
      "       macro avg       0.83      0.82      0.82       380\n",
      "    weighted avg       0.83      0.82      0.82       380\n",
      "\n"
     ]
    },
    {
     "name": "stderr",
     "output_type": "stream",
     "text": [
      "Training Epochs:  20%|██        | 400/2000 [02:13<04:33,  5.84it/s]"
     ]
    },
    {
     "name": "stdout",
     "output_type": "stream",
     "text": [
      "Epoch 400/2000, Loss: 0.1148\n",
      "Test Accuracy at Epoch 400: 79.47%\n",
      "Test F1-score at Epoch 400: 0.8211\n",
      "Classification Report at Epoch 400:\n",
      "                  precision    recall  f1-score   support\n",
      "\n",
      "    infringement       0.95      0.63      0.76       194\n",
      "non_infringement       0.72      0.96      0.82       186\n",
      "\n",
      "        accuracy                           0.79       380\n",
      "       macro avg       0.83      0.80      0.79       380\n",
      "    weighted avg       0.83      0.79      0.79       380\n",
      "\n"
     ]
    },
    {
     "name": "stderr",
     "output_type": "stream",
     "text": [
      "Training Epochs:  20%|██        | 410/2000 [02:17<07:42,  3.44it/s]"
     ]
    },
    {
     "name": "stdout",
     "output_type": "stream",
     "text": [
      "Epoch 410/2000, Loss: 0.1080\n",
      "Test Accuracy at Epoch 410: 80.53%\n",
      "Test F1-score at Epoch 410: 0.8221\n",
      "Classification Report at Epoch 410:\n",
      "                  precision    recall  f1-score   support\n",
      "\n",
      "    infringement       0.90      0.70      0.78       194\n",
      "non_infringement       0.74      0.92      0.82       186\n",
      "\n",
      "        accuracy                           0.81       380\n",
      "       macro avg       0.82      0.81      0.80       380\n",
      "    weighted avg       0.82      0.81      0.80       380\n",
      "\n"
     ]
    },
    {
     "name": "stderr",
     "output_type": "stream",
     "text": [
      "Training Epochs:  21%|██        | 420/2000 [02:22<19:29,  1.35it/s]"
     ]
    },
    {
     "name": "stdout",
     "output_type": "stream",
     "text": [
      "Epoch 420/2000, Loss: 0.1064\n",
      "Test Accuracy at Epoch 420: 80.00%\n",
      "Test F1-score at Epoch 420: 0.8241\n",
      "Classification Report at Epoch 420:\n",
      "                  precision    recall  f1-score   support\n",
      "\n",
      "    infringement       0.94      0.65      0.77       194\n",
      "non_infringement       0.72      0.96      0.82       186\n",
      "\n",
      "        accuracy                           0.80       380\n",
      "       macro avg       0.83      0.80      0.80       380\n",
      "    weighted avg       0.83      0.80      0.80       380\n",
      "\n"
     ]
    },
    {
     "name": "stderr",
     "output_type": "stream",
     "text": [
      "Training Epochs:  22%|██▏       | 430/2000 [02:29<19:54,  1.31it/s]"
     ]
    },
    {
     "name": "stdout",
     "output_type": "stream",
     "text": [
      "Epoch 430/2000, Loss: 0.1044\n",
      "Test Accuracy at Epoch 430: 80.79%\n",
      "Test F1-score at Epoch 430: 0.8298\n",
      "Classification Report at Epoch 430:\n",
      "                  precision    recall  f1-score   support\n",
      "\n",
      "    infringement       0.94      0.66      0.78       194\n",
      "non_infringement       0.73      0.96      0.83       186\n",
      "\n",
      "        accuracy                           0.81       380\n",
      "       macro avg       0.84      0.81      0.80       380\n",
      "    weighted avg       0.84      0.81      0.80       380\n",
      "\n"
     ]
    },
    {
     "name": "stderr",
     "output_type": "stream",
     "text": [
      "Training Epochs:  22%|██▏       | 442/2000 [02:31<03:21,  7.74it/s]"
     ]
    },
    {
     "name": "stdout",
     "output_type": "stream",
     "text": [
      "Epoch 440/2000, Loss: 0.1060\n",
      "Test Accuracy at Epoch 440: 80.00%\n",
      "Test F1-score at Epoch 440: 0.8190\n",
      "Classification Report at Epoch 440:\n",
      "                  precision    recall  f1-score   support\n",
      "\n",
      "    infringement       0.90      0.68      0.78       194\n",
      "non_infringement       0.74      0.92      0.82       186\n",
      "\n",
      "        accuracy                           0.80       380\n",
      "       macro avg       0.82      0.80      0.80       380\n",
      "    weighted avg       0.82      0.80      0.80       380\n",
      "\n"
     ]
    },
    {
     "name": "stderr",
     "output_type": "stream",
     "text": [
      "Training Epochs:  23%|██▎       | 451/2000 [02:32<02:29, 10.38it/s]"
     ]
    },
    {
     "name": "stdout",
     "output_type": "stream",
     "text": [
      "Epoch 450/2000, Loss: 0.1030\n",
      "Test Accuracy at Epoch 450: 80.79%\n",
      "Test F1-score at Epoch 450: 0.8298\n",
      "Classification Report at Epoch 450:\n",
      "                  precision    recall  f1-score   support\n",
      "\n",
      "    infringement       0.94      0.66      0.78       194\n",
      "non_infringement       0.73      0.96      0.83       186\n",
      "\n",
      "        accuracy                           0.81       380\n",
      "       macro avg       0.84      0.81      0.80       380\n",
      "    weighted avg       0.84      0.81      0.80       380\n",
      "\n"
     ]
    },
    {
     "name": "stderr",
     "output_type": "stream",
     "text": [
      "Training Epochs:  23%|██▎       | 463/2000 [02:33<02:01, 12.62it/s]"
     ]
    },
    {
     "name": "stdout",
     "output_type": "stream",
     "text": [
      "Epoch 460/2000, Loss: 0.1009\n",
      "Test Accuracy at Epoch 460: 80.53%\n",
      "Test F1-score at Epoch 460: 0.8263\n",
      "Classification Report at Epoch 460:\n",
      "                  precision    recall  f1-score   support\n",
      "\n",
      "    infringement       0.93      0.67      0.78       194\n",
      "non_infringement       0.73      0.95      0.83       186\n",
      "\n",
      "        accuracy                           0.81       380\n",
      "       macro avg       0.83      0.81      0.80       380\n",
      "    weighted avg       0.83      0.81      0.80       380\n",
      "\n"
     ]
    },
    {
     "name": "stderr",
     "output_type": "stream",
     "text": [
      "Training Epochs:  24%|██▎       | 470/2000 [02:33<01:52, 13.59it/s]"
     ]
    },
    {
     "name": "stdout",
     "output_type": "stream",
     "text": [
      "Epoch 470/2000, Loss: 0.7326\n",
      "Test Accuracy at Epoch 470: 76.05%\n",
      "Test F1-score at Epoch 470: 0.7093\n",
      "Classification Report at Epoch 470:\n",
      "                  precision    recall  f1-score   support\n",
      "\n",
      "    infringement       0.70      0.92      0.80       194\n",
      "non_infringement       0.87      0.60      0.71       186\n",
      "\n",
      "        accuracy                           0.76       380\n",
      "       macro avg       0.79      0.76      0.75       380\n",
      "    weighted avg       0.79      0.76      0.75       380\n",
      "\n"
     ]
    },
    {
     "name": "stderr",
     "output_type": "stream",
     "text": [
      "Training Epochs:  24%|██▍       | 482/2000 [02:35<02:34,  9.81it/s]"
     ]
    },
    {
     "name": "stdout",
     "output_type": "stream",
     "text": [
      "Epoch 480/2000, Loss: 0.1936\n",
      "Test Accuracy at Epoch 480: 74.47%\n",
      "Test F1-score at Epoch 480: 0.7800\n",
      "Classification Report at Epoch 480:\n",
      "                  precision    recall  f1-score   support\n",
      "\n",
      "    infringement       0.89      0.57      0.70       194\n",
      "non_infringement       0.67      0.92      0.78       186\n",
      "\n",
      "        accuracy                           0.74       380\n",
      "       macro avg       0.78      0.75      0.74       380\n",
      "    weighted avg       0.78      0.74      0.74       380\n",
      "\n"
     ]
    },
    {
     "name": "stderr",
     "output_type": "stream",
     "text": [
      "Training Epochs:  24%|██▍       | 490/2000 [02:36<02:34,  9.79it/s]"
     ]
    },
    {
     "name": "stdout",
     "output_type": "stream",
     "text": [
      "Epoch 490/2000, Loss: 0.1853\n",
      "Test Accuracy at Epoch 490: 79.21%\n",
      "Test F1-score at Epoch 490: 0.8150\n",
      "Classification Report at Epoch 490:\n",
      "                  precision    recall  f1-score   support\n",
      "\n",
      "    infringement       0.91      0.65      0.76       194\n",
      "non_infringement       0.72      0.94      0.81       186\n",
      "\n",
      "        accuracy                           0.79       380\n",
      "       macro avg       0.82      0.80      0.79       380\n",
      "    weighted avg       0.82      0.79      0.79       380\n",
      "\n"
     ]
    },
    {
     "name": "stderr",
     "output_type": "stream",
     "text": [
      "Training Epochs:  25%|██▍       | 499/2000 [02:37<03:32,  7.05it/s]"
     ]
    },
    {
     "name": "stdout",
     "output_type": "stream",
     "text": [
      "Epoch 500/2000, Loss: 0.1296\n",
      "Test Accuracy at Epoch 500: 80.53%\n",
      "Test F1-score at Epoch 500: 0.8246\n",
      "Classification Report at Epoch 500:\n",
      "                  precision    recall  f1-score   support\n",
      "\n",
      "    infringement       0.92      0.68      0.78       194\n",
      "non_infringement       0.74      0.94      0.82       186\n",
      "\n",
      "        accuracy                           0.81       380\n",
      "       macro avg       0.83      0.81      0.80       380\n",
      "    weighted avg       0.83      0.81      0.80       380\n",
      "\n"
     ]
    },
    {
     "name": "stderr",
     "output_type": "stream",
     "text": [
      "Training Epochs:  26%|██▌       | 510/2000 [02:42<13:18,  1.87it/s]"
     ]
    },
    {
     "name": "stdout",
     "output_type": "stream",
     "text": [
      "Epoch 510/2000, Loss: 0.1205\n",
      "Test Accuracy at Epoch 510: 79.47%\n",
      "Test F1-score at Epoch 510: 0.8211\n",
      "Classification Report at Epoch 510:\n",
      "                  precision    recall  f1-score   support\n",
      "\n",
      "    infringement       0.95      0.63      0.76       194\n",
      "non_infringement       0.72      0.96      0.82       186\n",
      "\n",
      "        accuracy                           0.79       380\n",
      "       macro avg       0.83      0.80      0.79       380\n",
      "    weighted avg       0.83      0.79      0.79       380\n",
      "\n"
     ]
    },
    {
     "name": "stderr",
     "output_type": "stream",
     "text": [
      "Training Epochs:  26%|██▌       | 520/2000 [02:45<06:38,  3.71it/s]"
     ]
    },
    {
     "name": "stdout",
     "output_type": "stream",
     "text": [
      "Epoch 520/2000, Loss: 0.1156\n",
      "Test Accuracy at Epoch 520: 80.00%\n",
      "Test F1-score at Epoch 520: 0.8224\n",
      "Classification Report at Epoch 520:\n",
      "                  precision    recall  f1-score   support\n",
      "\n",
      "    infringement       0.93      0.66      0.77       194\n",
      "non_infringement       0.73      0.95      0.82       186\n",
      "\n",
      "        accuracy                           0.80       380\n",
      "       macro avg       0.83      0.80      0.80       380\n",
      "    weighted avg       0.83      0.80      0.80       380\n",
      "\n"
     ]
    },
    {
     "name": "stderr",
     "output_type": "stream",
     "text": [
      "Training Epochs:  26%|██▋       | 530/2000 [02:49<07:08,  3.43it/s]"
     ]
    },
    {
     "name": "stdout",
     "output_type": "stream",
     "text": [
      "Epoch 530/2000, Loss: 0.1104\n",
      "Test Accuracy at Epoch 530: 80.00%\n",
      "Test F1-score at Epoch 530: 0.8233\n",
      "Classification Report at Epoch 530:\n",
      "                  precision    recall  f1-score   support\n",
      "\n",
      "    infringement       0.93      0.65      0.77       194\n",
      "non_infringement       0.73      0.95      0.82       186\n",
      "\n",
      "        accuracy                           0.80       380\n",
      "       macro avg       0.83      0.80      0.80       380\n",
      "    weighted avg       0.83      0.80      0.80       380\n",
      "\n"
     ]
    },
    {
     "name": "stderr",
     "output_type": "stream",
     "text": [
      "Training Epochs:  27%|██▋       | 540/2000 [02:54<13:39,  1.78it/s]"
     ]
    },
    {
     "name": "stdout",
     "output_type": "stream",
     "text": [
      "Epoch 540/2000, Loss: 0.1075\n",
      "Test Accuracy at Epoch 540: 80.00%\n",
      "Test F1-score at Epoch 540: 0.8233\n",
      "Classification Report at Epoch 540:\n",
      "                  precision    recall  f1-score   support\n",
      "\n",
      "    infringement       0.93      0.65      0.77       194\n",
      "non_infringement       0.73      0.95      0.82       186\n",
      "\n",
      "        accuracy                           0.80       380\n",
      "       macro avg       0.83      0.80      0.80       380\n",
      "    weighted avg       0.83      0.80      0.80       380\n",
      "\n"
     ]
    },
    {
     "name": "stderr",
     "output_type": "stream",
     "text": [
      "Training Epochs:  28%|██▊       | 550/2000 [02:59<13:32,  1.79it/s]"
     ]
    },
    {
     "name": "stdout",
     "output_type": "stream",
     "text": [
      "Epoch 550/2000, Loss: 0.1053\n",
      "Test Accuracy at Epoch 550: 80.53%\n",
      "Test F1-score at Epoch 550: 0.8271\n",
      "Classification Report at Epoch 550:\n",
      "                  precision    recall  f1-score   support\n",
      "\n",
      "    infringement       0.93      0.66      0.78       194\n",
      "non_infringement       0.73      0.95      0.83       186\n",
      "\n",
      "        accuracy                           0.81       380\n",
      "       macro avg       0.83      0.81      0.80       380\n",
      "    weighted avg       0.84      0.81      0.80       380\n",
      "\n"
     ]
    },
    {
     "name": "stderr",
     "output_type": "stream",
     "text": [
      "Training Epochs:  28%|██▊       | 560/2000 [03:04<07:25,  3.23it/s]"
     ]
    },
    {
     "name": "stdout",
     "output_type": "stream",
     "text": [
      "Epoch 560/2000, Loss: 0.1037\n",
      "Test Accuracy at Epoch 560: 81.32%\n",
      "Test F1-score at Epoch 560: 0.8329\n",
      "Classification Report at Epoch 560:\n",
      "                  precision    recall  f1-score   support\n",
      "\n",
      "    infringement       0.94      0.68      0.79       194\n",
      "non_infringement       0.74      0.95      0.83       186\n",
      "\n",
      "        accuracy                           0.81       380\n",
      "       macro avg       0.84      0.82      0.81       380\n",
      "    weighted avg       0.84      0.81      0.81       380\n",
      "\n"
     ]
    },
    {
     "name": "stderr",
     "output_type": "stream",
     "text": [
      "Training Epochs:  28%|██▊       | 570/2000 [03:08<12:54,  1.85it/s]"
     ]
    },
    {
     "name": "stdout",
     "output_type": "stream",
     "text": [
      "Epoch 570/2000, Loss: 0.1023\n",
      "Test Accuracy at Epoch 570: 81.32%\n",
      "Test F1-score at Epoch 570: 0.8329\n",
      "Classification Report at Epoch 570:\n",
      "                  precision    recall  f1-score   support\n",
      "\n",
      "    infringement       0.94      0.68      0.79       194\n",
      "non_infringement       0.74      0.95      0.83       186\n",
      "\n",
      "        accuracy                           0.81       380\n",
      "       macro avg       0.84      0.82      0.81       380\n",
      "    weighted avg       0.84      0.81      0.81       380\n",
      "\n"
     ]
    },
    {
     "name": "stderr",
     "output_type": "stream",
     "text": [
      "Training Epochs:  29%|██▉       | 580/2000 [03:11<03:44,  6.33it/s]"
     ]
    },
    {
     "name": "stdout",
     "output_type": "stream",
     "text": [
      "Epoch 580/2000, Loss: 0.1011\n",
      "Test Accuracy at Epoch 580: 81.32%\n",
      "Test F1-score at Epoch 580: 0.8329\n",
      "Classification Report at Epoch 580:\n",
      "                  precision    recall  f1-score   support\n",
      "\n",
      "    infringement       0.94      0.68      0.79       194\n",
      "non_infringement       0.74      0.95      0.83       186\n",
      "\n",
      "        accuracy                           0.81       380\n",
      "       macro avg       0.84      0.82      0.81       380\n",
      "    weighted avg       0.84      0.81      0.81       380\n",
      "\n"
     ]
    },
    {
     "name": "stderr",
     "output_type": "stream",
     "text": [
      "Training Epochs:  29%|██▉       | 589/2000 [03:12<02:30,  9.38it/s]"
     ]
    },
    {
     "name": "stdout",
     "output_type": "stream",
     "text": [
      "Epoch 590/2000, Loss: 0.1000\n",
      "Test Accuracy at Epoch 590: 81.32%\n",
      "Test F1-score at Epoch 590: 0.8329\n",
      "Classification Report at Epoch 590:\n",
      "                  precision    recall  f1-score   support\n",
      "\n",
      "    infringement       0.94      0.68      0.79       194\n",
      "non_infringement       0.74      0.95      0.83       186\n",
      "\n",
      "        accuracy                           0.81       380\n",
      "       macro avg       0.84      0.82      0.81       380\n",
      "    weighted avg       0.84      0.81      0.81       380\n",
      "\n"
     ]
    },
    {
     "name": "stderr",
     "output_type": "stream",
     "text": [
      "Training Epochs:  30%|███       | 601/2000 [03:15<05:33,  4.19it/s]"
     ]
    },
    {
     "name": "stdout",
     "output_type": "stream",
     "text": [
      "Epoch 600/2000, Loss: 0.0990\n",
      "Test Accuracy at Epoch 600: 81.32%\n",
      "Test F1-score at Epoch 600: 0.8329\n",
      "Classification Report at Epoch 600:\n",
      "                  precision    recall  f1-score   support\n",
      "\n",
      "    infringement       0.94      0.68      0.79       194\n",
      "non_infringement       0.74      0.95      0.83       186\n",
      "\n",
      "        accuracy                           0.81       380\n",
      "       macro avg       0.84      0.82      0.81       380\n",
      "    weighted avg       0.84      0.81      0.81       380\n",
      "\n"
     ]
    },
    {
     "name": "stderr",
     "output_type": "stream",
     "text": [
      "Training Epochs:  31%|███       | 611/2000 [03:16<03:29,  6.63it/s]"
     ]
    },
    {
     "name": "stdout",
     "output_type": "stream",
     "text": [
      "Epoch 610/2000, Loss: 0.0981\n",
      "Test Accuracy at Epoch 610: 81.32%\n",
      "Test F1-score at Epoch 610: 0.8329\n",
      "Classification Report at Epoch 610:\n",
      "                  precision    recall  f1-score   support\n",
      "\n",
      "    infringement       0.94      0.68      0.79       194\n",
      "non_infringement       0.74      0.95      0.83       186\n",
      "\n",
      "        accuracy                           0.81       380\n",
      "       macro avg       0.84      0.82      0.81       380\n",
      "    weighted avg       0.84      0.81      0.81       380\n",
      "\n"
     ]
    },
    {
     "name": "stderr",
     "output_type": "stream",
     "text": [
      "Training Epochs:  31%|███       | 621/2000 [03:18<03:20,  6.88it/s]"
     ]
    },
    {
     "name": "stdout",
     "output_type": "stream",
     "text": [
      "Epoch 620/2000, Loss: 0.0972\n",
      "Test Accuracy at Epoch 620: 81.32%\n",
      "Test F1-score at Epoch 620: 0.8329\n",
      "Classification Report at Epoch 620:\n",
      "                  precision    recall  f1-score   support\n",
      "\n",
      "    infringement       0.94      0.68      0.79       194\n",
      "non_infringement       0.74      0.95      0.83       186\n",
      "\n",
      "        accuracy                           0.81       380\n",
      "       macro avg       0.84      0.82      0.81       380\n",
      "    weighted avg       0.84      0.81      0.81       380\n",
      "\n"
     ]
    },
    {
     "name": "stderr",
     "output_type": "stream",
     "text": [
      "Training Epochs:  32%|███▏      | 631/2000 [03:20<03:18,  6.91it/s]"
     ]
    },
    {
     "name": "stdout",
     "output_type": "stream",
     "text": [
      "Epoch 630/2000, Loss: 0.0963\n",
      "Test Accuracy at Epoch 630: 81.32%\n",
      "Test F1-score at Epoch 630: 0.8329\n",
      "Classification Report at Epoch 630:\n",
      "                  precision    recall  f1-score   support\n",
      "\n",
      "    infringement       0.94      0.68      0.79       194\n",
      "non_infringement       0.74      0.95      0.83       186\n",
      "\n",
      "        accuracy                           0.81       380\n",
      "       macro avg       0.84      0.82      0.81       380\n",
      "    weighted avg       0.84      0.81      0.81       380\n",
      "\n"
     ]
    },
    {
     "name": "stderr",
     "output_type": "stream",
     "text": [
      "Training Epochs:  32%|███▏      | 642/2000 [03:22<02:47,  8.10it/s]"
     ]
    },
    {
     "name": "stdout",
     "output_type": "stream",
     "text": [
      "Epoch 640/2000, Loss: 0.0955\n",
      "Test Accuracy at Epoch 640: 81.05%\n",
      "Test F1-score at Epoch 640: 0.8310\n",
      "Classification Report at Epoch 640:\n",
      "                  precision    recall  f1-score   support\n",
      "\n",
      "    infringement       0.94      0.68      0.78       194\n",
      "non_infringement       0.74      0.95      0.83       186\n",
      "\n",
      "        accuracy                           0.81       380\n",
      "       macro avg       0.84      0.81      0.81       380\n",
      "    weighted avg       0.84      0.81      0.81       380\n",
      "\n"
     ]
    },
    {
     "name": "stderr",
     "output_type": "stream",
     "text": [
      "Training Epochs:  32%|███▎      | 650/2000 [03:23<02:53,  7.79it/s]"
     ]
    },
    {
     "name": "stdout",
     "output_type": "stream",
     "text": [
      "Epoch 650/2000, Loss: 0.0947\n",
      "Test Accuracy at Epoch 650: 81.05%\n",
      "Test F1-score at Epoch 650: 0.8310\n",
      "Classification Report at Epoch 650:\n",
      "                  precision    recall  f1-score   support\n",
      "\n",
      "    infringement       0.94      0.68      0.78       194\n",
      "non_infringement       0.74      0.95      0.83       186\n",
      "\n",
      "        accuracy                           0.81       380\n",
      "       macro avg       0.84      0.81      0.81       380\n",
      "    weighted avg       0.84      0.81      0.81       380\n",
      "\n"
     ]
    },
    {
     "name": "stderr",
     "output_type": "stream",
     "text": [
      "Training Epochs:  33%|███▎      | 660/2000 [03:24<02:49,  7.92it/s]"
     ]
    },
    {
     "name": "stdout",
     "output_type": "stream",
     "text": [
      "Epoch 660/2000, Loss: 0.0939\n",
      "Test Accuracy at Epoch 660: 81.05%\n",
      "Test F1-score at Epoch 660: 0.8310\n",
      "Classification Report at Epoch 660:\n",
      "                  precision    recall  f1-score   support\n",
      "\n",
      "    infringement       0.94      0.68      0.78       194\n",
      "non_infringement       0.74      0.95      0.83       186\n",
      "\n",
      "        accuracy                           0.81       380\n",
      "       macro avg       0.84      0.81      0.81       380\n",
      "    weighted avg       0.84      0.81      0.81       380\n",
      "\n"
     ]
    },
    {
     "name": "stderr",
     "output_type": "stream",
     "text": [
      "Training Epochs:  34%|███▎      | 670/2000 [03:26<04:34,  4.85it/s]"
     ]
    },
    {
     "name": "stdout",
     "output_type": "stream",
     "text": [
      "Epoch 670/2000, Loss: 0.0931\n",
      "Test Accuracy at Epoch 670: 80.53%\n",
      "Test F1-score at Epoch 670: 0.8271\n",
      "Classification Report at Epoch 670:\n",
      "                  precision    recall  f1-score   support\n",
      "\n",
      "    infringement       0.93      0.66      0.78       194\n",
      "non_infringement       0.73      0.95      0.83       186\n",
      "\n",
      "        accuracy                           0.81       380\n",
      "       macro avg       0.83      0.81      0.80       380\n",
      "    weighted avg       0.84      0.81      0.80       380\n",
      "\n"
     ]
    },
    {
     "name": "stderr",
     "output_type": "stream",
     "text": [
      "Training Epochs:  34%|███▍      | 680/2000 [03:28<06:45,  3.25it/s]"
     ]
    },
    {
     "name": "stdout",
     "output_type": "stream",
     "text": [
      "Epoch 680/2000, Loss: 0.1178\n",
      "Test Accuracy at Epoch 680: 80.26%\n",
      "Test F1-score at Epoch 680: 0.8252\n",
      "Classification Report at Epoch 680:\n",
      "                  precision    recall  f1-score   support\n",
      "\n",
      "    infringement       0.93      0.66      0.77       194\n",
      "non_infringement       0.73      0.95      0.83       186\n",
      "\n",
      "        accuracy                           0.80       380\n",
      "       macro avg       0.83      0.81      0.80       380\n",
      "    weighted avg       0.83      0.80      0.80       380\n",
      "\n"
     ]
    },
    {
     "name": "stderr",
     "output_type": "stream",
     "text": [
      "Training Epochs:  34%|███▍      | 690/2000 [03:32<10:30,  2.08it/s]"
     ]
    },
    {
     "name": "stdout",
     "output_type": "stream",
     "text": [
      "Epoch 690/2000, Loss: 0.1005\n",
      "Test Accuracy at Epoch 690: 80.53%\n",
      "Test F1-score at Epoch 690: 0.8271\n",
      "Classification Report at Epoch 690:\n",
      "                  precision    recall  f1-score   support\n",
      "\n",
      "    infringement       0.93      0.66      0.78       194\n",
      "non_infringement       0.73      0.95      0.83       186\n",
      "\n",
      "        accuracy                           0.81       380\n",
      "       macro avg       0.83      0.81      0.80       380\n",
      "    weighted avg       0.84      0.81      0.80       380\n",
      "\n"
     ]
    },
    {
     "name": "stderr",
     "output_type": "stream",
     "text": [
      "Training Epochs:  35%|███▌      | 700/2000 [03:37<12:24,  1.75it/s]"
     ]
    },
    {
     "name": "stdout",
     "output_type": "stream",
     "text": [
      "Epoch 700/2000, Loss: 0.0924\n",
      "Test Accuracy at Epoch 700: 81.32%\n",
      "Test F1-score at Epoch 700: 0.8329\n",
      "Classification Report at Epoch 700:\n",
      "                  precision    recall  f1-score   support\n",
      "\n",
      "    infringement       0.94      0.68      0.79       194\n",
      "non_infringement       0.74      0.95      0.83       186\n",
      "\n",
      "        accuracy                           0.81       380\n",
      "       macro avg       0.84      0.82      0.81       380\n",
      "    weighted avg       0.84      0.81      0.81       380\n",
      "\n"
     ]
    },
    {
     "name": "stderr",
     "output_type": "stream",
     "text": [
      "Training Epochs:  36%|███▌      | 710/2000 [03:42<12:11,  1.76it/s]"
     ]
    },
    {
     "name": "stdout",
     "output_type": "stream",
     "text": [
      "Epoch 710/2000, Loss: 0.0922\n",
      "Test Accuracy at Epoch 710: 80.79%\n",
      "Test F1-score at Epoch 710: 0.8290\n",
      "Classification Report at Epoch 710:\n",
      "                  precision    recall  f1-score   support\n",
      "\n",
      "    infringement       0.94      0.67      0.78       194\n",
      "non_infringement       0.73      0.95      0.83       186\n",
      "\n",
      "        accuracy                           0.81       380\n",
      "       macro avg       0.83      0.81      0.80       380\n",
      "    weighted avg       0.84      0.81      0.80       380\n",
      "\n"
     ]
    },
    {
     "name": "stderr",
     "output_type": "stream",
     "text": [
      "Training Epochs:  36%|███▌      | 720/2000 [03:47<12:02,  1.77it/s]"
     ]
    },
    {
     "name": "stdout",
     "output_type": "stream",
     "text": [
      "Epoch 720/2000, Loss: 0.0911\n",
      "Test Accuracy at Epoch 720: 80.53%\n",
      "Test F1-score at Epoch 720: 0.8271\n",
      "Classification Report at Epoch 720:\n",
      "                  precision    recall  f1-score   support\n",
      "\n",
      "    infringement       0.93      0.66      0.78       194\n",
      "non_infringement       0.73      0.95      0.83       186\n",
      "\n",
      "        accuracy                           0.81       380\n",
      "       macro avg       0.83      0.81      0.80       380\n",
      "    weighted avg       0.84      0.81      0.80       380\n",
      "\n"
     ]
    },
    {
     "name": "stderr",
     "output_type": "stream",
     "text": [
      "Training Epochs:  36%|███▋      | 730/2000 [03:50<04:22,  4.83it/s]"
     ]
    },
    {
     "name": "stdout",
     "output_type": "stream",
     "text": [
      "Epoch 730/2000, Loss: 0.0906\n",
      "Test Accuracy at Epoch 730: 80.26%\n",
      "Test F1-score at Epoch 730: 0.8252\n",
      "Classification Report at Epoch 730:\n",
      "                  precision    recall  f1-score   support\n",
      "\n",
      "    infringement       0.93      0.66      0.77       194\n",
      "non_infringement       0.73      0.95      0.83       186\n",
      "\n",
      "        accuracy                           0.80       380\n",
      "       macro avg       0.83      0.81      0.80       380\n",
      "    weighted avg       0.83      0.80      0.80       380\n",
      "\n"
     ]
    },
    {
     "name": "stderr",
     "output_type": "stream",
     "text": [
      "Training Epochs:  37%|███▋      | 740/2000 [03:54<10:11,  2.06it/s]"
     ]
    },
    {
     "name": "stdout",
     "output_type": "stream",
     "text": [
      "Epoch 740/2000, Loss: 0.0899\n",
      "Test Accuracy at Epoch 740: 80.26%\n",
      "Test F1-score at Epoch 740: 0.8252\n",
      "Classification Report at Epoch 740:\n",
      "                  precision    recall  f1-score   support\n",
      "\n",
      "    infringement       0.93      0.66      0.77       194\n",
      "non_infringement       0.73      0.95      0.83       186\n",
      "\n",
      "        accuracy                           0.80       380\n",
      "       macro avg       0.83      0.81      0.80       380\n",
      "    weighted avg       0.83      0.80      0.80       380\n",
      "\n"
     ]
    },
    {
     "name": "stderr",
     "output_type": "stream",
     "text": [
      "Training Epochs:  38%|███▊      | 750/2000 [03:59<11:17,  1.84it/s]"
     ]
    },
    {
     "name": "stdout",
     "output_type": "stream",
     "text": [
      "Epoch 750/2000, Loss: 0.0893\n",
      "Test Accuracy at Epoch 750: 80.26%\n",
      "Test F1-score at Epoch 750: 0.8252\n",
      "Classification Report at Epoch 750:\n",
      "                  precision    recall  f1-score   support\n",
      "\n",
      "    infringement       0.93      0.66      0.77       194\n",
      "non_infringement       0.73      0.95      0.83       186\n",
      "\n",
      "        accuracy                           0.80       380\n",
      "       macro avg       0.83      0.81      0.80       380\n",
      "    weighted avg       0.83      0.80      0.80       380\n",
      "\n"
     ]
    },
    {
     "name": "stderr",
     "output_type": "stream",
     "text": [
      "Training Epochs:  38%|███▊      | 760/2000 [04:04<10:09,  2.03it/s]"
     ]
    },
    {
     "name": "stdout",
     "output_type": "stream",
     "text": [
      "Epoch 760/2000, Loss: 0.0887\n",
      "Test Accuracy at Epoch 760: 80.26%\n",
      "Test F1-score at Epoch 760: 0.8252\n",
      "Classification Report at Epoch 760:\n",
      "                  precision    recall  f1-score   support\n",
      "\n",
      "    infringement       0.93      0.66      0.77       194\n",
      "non_infringement       0.73      0.95      0.83       186\n",
      "\n",
      "        accuracy                           0.80       380\n",
      "       macro avg       0.83      0.81      0.80       380\n",
      "    weighted avg       0.83      0.80      0.80       380\n",
      "\n"
     ]
    },
    {
     "name": "stderr",
     "output_type": "stream",
     "text": [
      "Training Epochs:  39%|███▊      | 771/2000 [04:06<03:08,  6.51it/s]"
     ]
    },
    {
     "name": "stdout",
     "output_type": "stream",
     "text": [
      "Epoch 770/2000, Loss: 0.0883\n",
      "Test Accuracy at Epoch 770: 80.00%\n",
      "Test F1-score at Epoch 770: 0.8233\n",
      "Classification Report at Epoch 770:\n",
      "                  precision    recall  f1-score   support\n",
      "\n",
      "    infringement       0.93      0.65      0.77       194\n",
      "non_infringement       0.73      0.95      0.82       186\n",
      "\n",
      "        accuracy                           0.80       380\n",
      "       macro avg       0.83      0.80      0.80       380\n",
      "    weighted avg       0.83      0.80      0.80       380\n",
      "\n"
     ]
    },
    {
     "name": "stderr",
     "output_type": "stream",
     "text": [
      "Training Epochs:  39%|███▉      | 782/2000 [04:07<02:07,  9.53it/s]"
     ]
    },
    {
     "name": "stdout",
     "output_type": "stream",
     "text": [
      "Epoch 780/2000, Loss: 0.0880\n",
      "Test Accuracy at Epoch 780: 80.79%\n",
      "Test F1-score at Epoch 780: 0.8290\n",
      "Classification Report at Epoch 780:\n",
      "                  precision    recall  f1-score   support\n",
      "\n",
      "    infringement       0.94      0.67      0.78       194\n",
      "non_infringement       0.73      0.95      0.83       186\n",
      "\n",
      "        accuracy                           0.81       380\n",
      "       macro avg       0.83      0.81      0.80       380\n",
      "    weighted avg       0.84      0.81      0.80       380\n",
      "\n"
     ]
    },
    {
     "name": "stderr",
     "output_type": "stream",
     "text": [
      "Training Epochs:  40%|███▉      | 791/2000 [04:08<02:43,  7.41it/s]"
     ]
    },
    {
     "name": "stdout",
     "output_type": "stream",
     "text": [
      "Epoch 790/2000, Loss: 0.0907\n",
      "Test Accuracy at Epoch 790: 80.26%\n",
      "Test F1-score at Epoch 790: 0.8252\n",
      "Classification Report at Epoch 790:\n",
      "                  precision    recall  f1-score   support\n",
      "\n",
      "    infringement       0.93      0.66      0.77       194\n",
      "non_infringement       0.73      0.95      0.83       186\n",
      "\n",
      "        accuracy                           0.80       380\n",
      "       macro avg       0.83      0.81      0.80       380\n",
      "    weighted avg       0.83      0.80      0.80       380\n",
      "\n"
     ]
    },
    {
     "name": "stderr",
     "output_type": "stream",
     "text": [
      "Training Epochs:  40%|████      | 801/2000 [04:12<03:44,  5.34it/s]"
     ]
    },
    {
     "name": "stdout",
     "output_type": "stream",
     "text": [
      "Epoch 800/2000, Loss: 0.0872\n",
      "Test Accuracy at Epoch 800: 80.53%\n",
      "Test F1-score at Epoch 800: 0.8287\n",
      "Classification Report at Epoch 800:\n",
      "                  precision    recall  f1-score   support\n",
      "\n",
      "    infringement       0.95      0.65      0.77       194\n",
      "non_infringement       0.73      0.96      0.83       186\n",
      "\n",
      "        accuracy                           0.81       380\n",
      "       macro avg       0.84      0.81      0.80       380\n",
      "    weighted avg       0.84      0.81      0.80       380\n",
      "\n"
     ]
    },
    {
     "name": "stderr",
     "output_type": "stream",
     "text": [
      "Training Epochs:  41%|████      | 812/2000 [04:13<01:46, 11.19it/s]"
     ]
    },
    {
     "name": "stdout",
     "output_type": "stream",
     "text": [
      "Epoch 810/2000, Loss: 0.0870\n",
      "Test Accuracy at Epoch 810: 80.26%\n",
      "Test F1-score at Epoch 810: 0.8252\n",
      "Classification Report at Epoch 810:\n",
      "                  precision    recall  f1-score   support\n",
      "\n",
      "    infringement       0.93      0.66      0.77       194\n",
      "non_infringement       0.73      0.95      0.83       186\n",
      "\n",
      "        accuracy                           0.80       380\n",
      "       macro avg       0.83      0.81      0.80       380\n",
      "    weighted avg       0.83      0.80      0.80       380\n",
      "\n"
     ]
    },
    {
     "name": "stderr",
     "output_type": "stream",
     "text": [
      "Training Epochs:  41%|████      | 822/2000 [04:13<01:27, 13.45it/s]"
     ]
    },
    {
     "name": "stdout",
     "output_type": "stream",
     "text": [
      "Epoch 820/2000, Loss: 0.0864\n",
      "Test Accuracy at Epoch 820: 80.26%\n",
      "Test F1-score at Epoch 820: 0.8252\n",
      "Classification Report at Epoch 820:\n",
      "                  precision    recall  f1-score   support\n",
      "\n",
      "    infringement       0.93      0.66      0.77       194\n",
      "non_infringement       0.73      0.95      0.83       186\n",
      "\n",
      "        accuracy                           0.80       380\n",
      "       macro avg       0.83      0.81      0.80       380\n",
      "    weighted avg       0.83      0.80      0.80       380\n",
      "\n"
     ]
    },
    {
     "name": "stderr",
     "output_type": "stream",
     "text": [
      "Training Epochs:  42%|████▏     | 832/2000 [04:14<01:19, 14.70it/s]"
     ]
    },
    {
     "name": "stdout",
     "output_type": "stream",
     "text": [
      "Epoch 830/2000, Loss: 0.0896\n",
      "Test Accuracy at Epoch 830: 80.53%\n",
      "Test F1-score at Epoch 830: 0.8271\n",
      "Classification Report at Epoch 830:\n",
      "                  precision    recall  f1-score   support\n",
      "\n",
      "    infringement       0.93      0.66      0.78       194\n",
      "non_infringement       0.73      0.95      0.83       186\n",
      "\n",
      "        accuracy                           0.81       380\n",
      "       macro avg       0.83      0.81      0.80       380\n",
      "    weighted avg       0.84      0.81      0.80       380\n",
      "\n"
     ]
    },
    {
     "name": "stderr",
     "output_type": "stream",
     "text": [
      "Training Epochs:  42%|████▏     | 840/2000 [04:15<01:50, 10.50it/s]"
     ]
    },
    {
     "name": "stdout",
     "output_type": "stream",
     "text": [
      "Epoch 840/2000, Loss: 0.0890\n",
      "Test Accuracy at Epoch 840: 80.26%\n",
      "Test F1-score at Epoch 840: 0.8268\n",
      "Classification Report at Epoch 840:\n",
      "                  precision    recall  f1-score   support\n",
      "\n",
      "    infringement       0.95      0.65      0.77       194\n",
      "non_infringement       0.72      0.96      0.83       186\n",
      "\n",
      "        accuracy                           0.80       380\n",
      "       macro avg       0.84      0.81      0.80       380\n",
      "    weighted avg       0.84      0.80      0.80       380\n",
      "\n"
     ]
    },
    {
     "name": "stderr",
     "output_type": "stream",
     "text": [
      "Training Epochs:  43%|████▎     | 853/2000 [04:16<01:35, 11.99it/s]"
     ]
    },
    {
     "name": "stdout",
     "output_type": "stream",
     "text": [
      "Epoch 850/2000, Loss: 0.0884\n",
      "Test Accuracy at Epoch 850: 80.53%\n",
      "Test F1-score at Epoch 850: 0.8271\n",
      "Classification Report at Epoch 850:\n",
      "                  precision    recall  f1-score   support\n",
      "\n",
      "    infringement       0.93      0.66      0.78       194\n",
      "non_infringement       0.73      0.95      0.83       186\n",
      "\n",
      "        accuracy                           0.81       380\n",
      "       macro avg       0.83      0.81      0.80       380\n",
      "    weighted avg       0.84      0.81      0.80       380\n",
      "\n"
     ]
    },
    {
     "name": "stderr",
     "output_type": "stream",
     "text": [
      "Training Epochs:  43%|████▎     | 860/2000 [04:17<01:44, 10.90it/s]"
     ]
    },
    {
     "name": "stdout",
     "output_type": "stream",
     "text": [
      "Epoch 860/2000, Loss: 0.0851\n",
      "Test Accuracy at Epoch 860: 80.53%\n",
      "Test F1-score at Epoch 860: 0.8287\n",
      "Classification Report at Epoch 860:\n",
      "                  precision    recall  f1-score   support\n",
      "\n",
      "    infringement       0.95      0.65      0.77       194\n",
      "non_infringement       0.73      0.96      0.83       186\n",
      "\n",
      "        accuracy                           0.81       380\n",
      "       macro avg       0.84      0.81      0.80       380\n",
      "    weighted avg       0.84      0.81      0.80       380\n",
      "\n"
     ]
    },
    {
     "name": "stderr",
     "output_type": "stream",
     "text": [
      "Training Epochs:  44%|████▎     | 870/2000 [04:21<08:22,  2.25it/s]"
     ]
    },
    {
     "name": "stdout",
     "output_type": "stream",
     "text": [
      "Epoch 870/2000, Loss: 0.0960\n",
      "Test Accuracy at Epoch 870: 79.21%\n",
      "Test F1-score at Epoch 870: 0.8192\n",
      "Classification Report at Epoch 870:\n",
      "                  precision    recall  f1-score   support\n",
      "\n",
      "    infringement       0.95      0.63      0.76       194\n",
      "non_infringement       0.71      0.96      0.82       186\n",
      "\n",
      "        accuracy                           0.79       380\n",
      "       macro avg       0.83      0.80      0.79       380\n",
      "    weighted avg       0.83      0.79      0.79       380\n",
      "\n"
     ]
    },
    {
     "name": "stderr",
     "output_type": "stream",
     "text": [
      "Training Epochs:  44%|████▍     | 879/2000 [04:23<04:46,  3.92it/s]"
     ]
    },
    {
     "name": "stdout",
     "output_type": "stream",
     "text": [
      "Epoch 880/2000, Loss: 0.0883\n",
      "Test Accuracy at Epoch 880: 79.21%\n",
      "Test F1-score at Epoch 880: 0.8192\n",
      "Classification Report at Epoch 880:\n",
      "                  precision    recall  f1-score   support\n",
      "\n",
      "    infringement       0.95      0.63      0.76       194\n",
      "non_infringement       0.71      0.96      0.82       186\n",
      "\n",
      "        accuracy                           0.79       380\n",
      "       macro avg       0.83      0.80      0.79       380\n",
      "    weighted avg       0.83      0.79      0.79       380\n",
      "\n"
     ]
    },
    {
     "name": "stderr",
     "output_type": "stream",
     "text": [
      "Training Epochs:  45%|████▍     | 891/2000 [04:25<02:00,  9.22it/s]"
     ]
    },
    {
     "name": "stdout",
     "output_type": "stream",
     "text": [
      "Epoch 890/2000, Loss: 0.0857\n",
      "Test Accuracy at Epoch 890: 80.26%\n",
      "Test F1-score at Epoch 890: 0.8252\n",
      "Classification Report at Epoch 890:\n",
      "                  precision    recall  f1-score   support\n",
      "\n",
      "    infringement       0.93      0.66      0.77       194\n",
      "non_infringement       0.73      0.95      0.83       186\n",
      "\n",
      "        accuracy                           0.80       380\n",
      "       macro avg       0.83      0.81      0.80       380\n",
      "    weighted avg       0.83      0.80      0.80       380\n",
      "\n"
     ]
    },
    {
     "name": "stderr",
     "output_type": "stream",
     "text": [
      "Training Epochs:  45%|████▌     | 900/2000 [04:27<03:42,  4.93it/s]"
     ]
    },
    {
     "name": "stdout",
     "output_type": "stream",
     "text": [
      "Epoch 900/2000, Loss: 0.0872\n",
      "Test Accuracy at Epoch 900: 79.21%\n",
      "Test F1-score at Epoch 900: 0.8192\n",
      "Classification Report at Epoch 900:\n",
      "                  precision    recall  f1-score   support\n",
      "\n",
      "    infringement       0.95      0.63      0.76       194\n",
      "non_infringement       0.71      0.96      0.82       186\n",
      "\n",
      "        accuracy                           0.79       380\n",
      "       macro avg       0.83      0.80      0.79       380\n",
      "    weighted avg       0.83      0.79      0.79       380\n",
      "\n"
     ]
    },
    {
     "name": "stderr",
     "output_type": "stream",
     "text": [
      "Training Epochs:  45%|████▌     | 909/2000 [04:29<03:04,  5.93it/s]"
     ]
    },
    {
     "name": "stdout",
     "output_type": "stream",
     "text": [
      "Epoch 910/2000, Loss: 0.0838\n",
      "Test Accuracy at Epoch 910: 80.79%\n",
      "Test F1-score at Epoch 910: 0.8306\n",
      "Classification Report at Epoch 910:\n",
      "                  precision    recall  f1-score   support\n",
      "\n",
      "    infringement       0.95      0.66      0.78       194\n",
      "non_infringement       0.73      0.96      0.83       186\n",
      "\n",
      "        accuracy                           0.81       380\n",
      "       macro avg       0.84      0.81      0.80       380\n",
      "    weighted avg       0.84      0.81      0.80       380\n",
      "\n"
     ]
    },
    {
     "name": "stderr",
     "output_type": "stream",
     "text": [
      "Training Epochs:  46%|████▌     | 922/2000 [04:31<02:24,  7.45it/s]"
     ]
    },
    {
     "name": "stdout",
     "output_type": "stream",
     "text": [
      "Epoch 920/2000, Loss: 0.0935\n",
      "Test Accuracy at Epoch 920: 80.53%\n",
      "Test F1-score at Epoch 920: 0.8271\n",
      "Classification Report at Epoch 920:\n",
      "                  precision    recall  f1-score   support\n",
      "\n",
      "    infringement       0.93      0.66      0.78       194\n",
      "non_infringement       0.73      0.95      0.83       186\n",
      "\n",
      "        accuracy                           0.81       380\n",
      "       macro avg       0.83      0.81      0.80       380\n",
      "    weighted avg       0.84      0.81      0.80       380\n",
      "\n"
     ]
    },
    {
     "name": "stderr",
     "output_type": "stream",
     "text": [
      "Training Epochs:  47%|████▋     | 931/2000 [04:32<03:01,  5.88it/s]"
     ]
    },
    {
     "name": "stdout",
     "output_type": "stream",
     "text": [
      "Epoch 930/2000, Loss: 0.0835\n",
      "Test Accuracy at Epoch 930: 81.05%\n",
      "Test F1-score at Epoch 930: 0.8326\n",
      "Classification Report at Epoch 930:\n",
      "                  precision    recall  f1-score   support\n",
      "\n",
      "    infringement       0.95      0.66      0.78       194\n",
      "non_infringement       0.73      0.96      0.83       186\n",
      "\n",
      "        accuracy                           0.81       380\n",
      "       macro avg       0.84      0.81      0.81       380\n",
      "    weighted avg       0.84      0.81      0.81       380\n",
      "\n"
     ]
    },
    {
     "name": "stderr",
     "output_type": "stream",
     "text": [
      "Training Epochs:  47%|████▋     | 942/2000 [04:34<01:48,  9.78it/s]"
     ]
    },
    {
     "name": "stdout",
     "output_type": "stream",
     "text": [
      "Epoch 940/2000, Loss: 0.0833\n",
      "Test Accuracy at Epoch 940: 80.79%\n",
      "Test F1-score at Epoch 940: 0.8306\n",
      "Classification Report at Epoch 940:\n",
      "                  precision    recall  f1-score   support\n",
      "\n",
      "    infringement       0.95      0.66      0.78       194\n",
      "non_infringement       0.73      0.96      0.83       186\n",
      "\n",
      "        accuracy                           0.81       380\n",
      "       macro avg       0.84      0.81      0.80       380\n",
      "    weighted avg       0.84      0.81      0.80       380\n",
      "\n"
     ]
    },
    {
     "name": "stderr",
     "output_type": "stream",
     "text": [
      "Training Epochs:  48%|████▊     | 954/2000 [04:36<01:50,  9.43it/s]"
     ]
    },
    {
     "name": "stdout",
     "output_type": "stream",
     "text": [
      "Epoch 950/2000, Loss: 0.0914\n",
      "Test Accuracy at Epoch 950: 78.95%\n",
      "Test F1-score at Epoch 950: 0.8174\n",
      "Classification Report at Epoch 950:\n",
      "                  precision    recall  f1-score   support\n",
      "\n",
      "    infringement       0.95      0.62      0.75       194\n",
      "non_infringement       0.71      0.96      0.82       186\n",
      "\n",
      "        accuracy                           0.79       380\n",
      "       macro avg       0.83      0.79      0.78       380\n",
      "    weighted avg       0.83      0.79      0.78       380\n",
      "\n"
     ]
    },
    {
     "name": "stderr",
     "output_type": "stream",
     "text": [
      "Training Epochs:  48%|████▊     | 959/2000 [04:36<01:19, 13.16it/s]"
     ]
    },
    {
     "name": "stdout",
     "output_type": "stream",
     "text": [
      "Epoch 960/2000, Loss: 0.0859\n",
      "Test Accuracy at Epoch 960: 80.53%\n",
      "Test F1-score at Epoch 960: 0.8271\n",
      "Classification Report at Epoch 960:\n",
      "                  precision    recall  f1-score   support\n",
      "\n",
      "    infringement       0.93      0.66      0.78       194\n",
      "non_infringement       0.73      0.95      0.83       186\n",
      "\n",
      "        accuracy                           0.81       380\n",
      "       macro avg       0.83      0.81      0.80       380\n",
      "    weighted avg       0.84      0.81      0.80       380\n",
      "\n"
     ]
    },
    {
     "name": "stderr",
     "output_type": "stream",
     "text": [
      "Training Epochs:  49%|████▊     | 972/2000 [04:38<01:38, 10.45it/s]"
     ]
    },
    {
     "name": "stdout",
     "output_type": "stream",
     "text": [
      "Epoch 970/2000, Loss: 0.0883\n",
      "Test Accuracy at Epoch 970: 78.68%\n",
      "Test F1-score at Epoch 970: 0.8155\n",
      "Classification Report at Epoch 970:\n",
      "                  precision    recall  f1-score   support\n",
      "\n",
      "    infringement       0.94      0.62      0.75       194\n",
      "non_infringement       0.71      0.96      0.82       186\n",
      "\n",
      "        accuracy                           0.79       380\n",
      "       macro avg       0.83      0.79      0.78       380\n",
      "    weighted avg       0.83      0.79      0.78       380\n",
      "\n"
     ]
    },
    {
     "name": "stderr",
     "output_type": "stream",
     "text": [
      "Training Epochs:  49%|████▉     | 980/2000 [04:38<01:13, 13.84it/s]"
     ]
    },
    {
     "name": "stdout",
     "output_type": "stream",
     "text": [
      "Epoch 980/2000, Loss: 0.0840\n",
      "Test Accuracy at Epoch 980: 80.00%\n",
      "Test F1-score at Epoch 980: 0.8233\n",
      "Classification Report at Epoch 980:\n",
      "                  precision    recall  f1-score   support\n",
      "\n",
      "    infringement       0.93      0.65      0.77       194\n",
      "non_infringement       0.73      0.95      0.82       186\n",
      "\n",
      "        accuracy                           0.80       380\n",
      "       macro avg       0.83      0.80      0.80       380\n",
      "    weighted avg       0.83      0.80      0.80       380\n",
      "\n"
     ]
    },
    {
     "name": "stderr",
     "output_type": "stream",
     "text": [
      "Training Epochs:  50%|████▉     | 992/2000 [04:39<01:17, 12.99it/s]"
     ]
    },
    {
     "name": "stdout",
     "output_type": "stream",
     "text": [
      "Epoch 990/2000, Loss: 0.0823\n",
      "Test Accuracy at Epoch 990: 79.74%\n",
      "Test F1-score at Epoch 990: 0.8230\n",
      "Classification Report at Epoch 990:\n",
      "                  precision    recall  f1-score   support\n",
      "\n",
      "    infringement       0.95      0.64      0.76       194\n",
      "non_infringement       0.72      0.96      0.82       186\n",
      "\n",
      "        accuracy                           0.80       380\n",
      "       macro avg       0.83      0.80      0.79       380\n",
      "    weighted avg       0.84      0.80      0.79       380\n",
      "\n"
     ]
    },
    {
     "name": "stderr",
     "output_type": "stream",
     "text": [
      "Training Epochs:  50%|████▉     | 999/2000 [04:41<03:32,  4.71it/s]"
     ]
    },
    {
     "name": "stdout",
     "output_type": "stream",
     "text": [
      "Epoch 1000/2000, Loss: 0.0819\n",
      "Test Accuracy at Epoch 1000: 79.47%\n",
      "Test F1-score at Epoch 1000: 0.8211\n",
      "Classification Report at Epoch 1000:\n",
      "                  precision    recall  f1-score   support\n",
      "\n",
      "    infringement       0.95      0.63      0.76       194\n",
      "non_infringement       0.72      0.96      0.82       186\n",
      "\n",
      "        accuracy                           0.79       380\n",
      "       macro avg       0.83      0.80      0.79       380\n",
      "    weighted avg       0.83      0.79      0.79       380\n",
      "\n"
     ]
    },
    {
     "name": "stderr",
     "output_type": "stream",
     "text": [
      "Training Epochs:  50%|█████     | 1010/2000 [04:45<05:53,  2.80it/s]"
     ]
    },
    {
     "name": "stdout",
     "output_type": "stream",
     "text": [
      "Epoch 1010/2000, Loss: 0.1147\n",
      "Test Accuracy at Epoch 1010: 78.95%\n",
      "Test F1-score at Epoch 1010: 0.8113\n",
      "Classification Report at Epoch 1010:\n",
      "                  precision    recall  f1-score   support\n",
      "\n",
      "    infringement       0.90      0.66      0.76       194\n",
      "non_infringement       0.72      0.92      0.81       186\n",
      "\n",
      "        accuracy                           0.79       380\n",
      "       macro avg       0.81      0.79      0.79       380\n",
      "    weighted avg       0.81      0.79      0.79       380\n",
      "\n"
     ]
    },
    {
     "name": "stderr",
     "output_type": "stream",
     "text": [
      "Training Epochs:  51%|█████     | 1020/2000 [04:50<08:51,  1.84it/s]"
     ]
    },
    {
     "name": "stdout",
     "output_type": "stream",
     "text": [
      "Epoch 1020/2000, Loss: 0.0878\n",
      "Test Accuracy at Epoch 1020: 79.74%\n",
      "Test F1-score at Epoch 1020: 0.8230\n",
      "Classification Report at Epoch 1020:\n",
      "                  precision    recall  f1-score   support\n",
      "\n",
      "    infringement       0.95      0.64      0.76       194\n",
      "non_infringement       0.72      0.96      0.82       186\n",
      "\n",
      "        accuracy                           0.80       380\n",
      "       macro avg       0.83      0.80      0.79       380\n",
      "    weighted avg       0.84      0.80      0.79       380\n",
      "\n"
     ]
    },
    {
     "name": "stderr",
     "output_type": "stream",
     "text": [
      "Training Epochs:  52%|█████▏    | 1030/2000 [04:52<04:48,  3.36it/s]"
     ]
    },
    {
     "name": "stdout",
     "output_type": "stream",
     "text": [
      "Epoch 1030/2000, Loss: 0.0822\n",
      "Test Accuracy at Epoch 1030: 78.95%\n",
      "Test F1-score at Epoch 1030: 0.8174\n",
      "Classification Report at Epoch 1030:\n",
      "                  precision    recall  f1-score   support\n",
      "\n",
      "    infringement       0.95      0.62      0.75       194\n",
      "non_infringement       0.71      0.96      0.82       186\n",
      "\n",
      "        accuracy                           0.79       380\n",
      "       macro avg       0.83      0.79      0.78       380\n",
      "    weighted avg       0.83      0.79      0.78       380\n",
      "\n"
     ]
    },
    {
     "name": "stderr",
     "output_type": "stream",
     "text": [
      "Training Epochs:  52%|█████▏    | 1040/2000 [04:57<07:56,  2.02it/s]"
     ]
    },
    {
     "name": "stdout",
     "output_type": "stream",
     "text": [
      "Epoch 1040/2000, Loss: 0.0834\n",
      "Test Accuracy at Epoch 1040: 80.00%\n",
      "Test F1-score at Epoch 1040: 0.8233\n",
      "Classification Report at Epoch 1040:\n",
      "                  precision    recall  f1-score   support\n",
      "\n",
      "    infringement       0.93      0.65      0.77       194\n",
      "non_infringement       0.73      0.95      0.82       186\n",
      "\n",
      "        accuracy                           0.80       380\n",
      "       macro avg       0.83      0.80      0.80       380\n",
      "    weighted avg       0.83      0.80      0.80       380\n",
      "\n"
     ]
    },
    {
     "name": "stderr",
     "output_type": "stream",
     "text": [
      "Training Epochs:  53%|█████▎    | 1051/2000 [05:00<03:47,  4.17it/s]"
     ]
    },
    {
     "name": "stdout",
     "output_type": "stream",
     "text": [
      "Epoch 1050/2000, Loss: 0.0814\n",
      "Test Accuracy at Epoch 1050: 79.74%\n",
      "Test F1-score at Epoch 1050: 0.8230\n",
      "Classification Report at Epoch 1050:\n",
      "                  precision    recall  f1-score   support\n",
      "\n",
      "    infringement       0.95      0.64      0.76       194\n",
      "non_infringement       0.72      0.96      0.82       186\n",
      "\n",
      "        accuracy                           0.80       380\n",
      "       macro avg       0.83      0.80      0.79       380\n",
      "    weighted avg       0.84      0.80      0.79       380\n",
      "\n"
     ]
    },
    {
     "name": "stderr",
     "output_type": "stream",
     "text": [
      "Training Epochs:  53%|█████▎    | 1060/2000 [05:04<06:00,  2.61it/s]"
     ]
    },
    {
     "name": "stdout",
     "output_type": "stream",
     "text": [
      "Epoch 1060/2000, Loss: 0.0812\n",
      "Test Accuracy at Epoch 1060: 78.95%\n",
      "Test F1-score at Epoch 1060: 0.8174\n",
      "Classification Report at Epoch 1060:\n",
      "                  precision    recall  f1-score   support\n",
      "\n",
      "    infringement       0.95      0.62      0.75       194\n",
      "non_infringement       0.71      0.96      0.82       186\n",
      "\n",
      "        accuracy                           0.79       380\n",
      "       macro avg       0.83      0.79      0.78       380\n",
      "    weighted avg       0.83      0.79      0.78       380\n",
      "\n"
     ]
    },
    {
     "name": "stderr",
     "output_type": "stream",
     "text": [
      "Training Epochs:  54%|█████▎    | 1071/2000 [05:06<02:32,  6.11it/s]"
     ]
    },
    {
     "name": "stdout",
     "output_type": "stream",
     "text": [
      "Epoch 1070/2000, Loss: 0.0874\n",
      "Test Accuracy at Epoch 1070: 78.42%\n",
      "Test F1-score at Epoch 1070: 0.8136\n",
      "Classification Report at Epoch 1070:\n",
      "                  precision    recall  f1-score   support\n",
      "\n",
      "    infringement       0.94      0.61      0.74       194\n",
      "non_infringement       0.70      0.96      0.81       186\n",
      "\n",
      "        accuracy                           0.78       380\n",
      "       macro avg       0.82      0.79      0.78       380\n",
      "    weighted avg       0.83      0.78      0.78       380\n",
      "\n"
     ]
    },
    {
     "name": "stderr",
     "output_type": "stream",
     "text": [
      "Training Epochs:  54%|█████▍    | 1080/2000 [05:10<04:20,  3.53it/s]"
     ]
    },
    {
     "name": "stdout",
     "output_type": "stream",
     "text": [
      "Epoch 1080/2000, Loss: 0.0844\n",
      "Test Accuracy at Epoch 1080: 80.00%\n",
      "Test F1-score at Epoch 1080: 0.8233\n",
      "Classification Report at Epoch 1080:\n",
      "                  precision    recall  f1-score   support\n",
      "\n",
      "    infringement       0.93      0.65      0.77       194\n",
      "non_infringement       0.73      0.95      0.82       186\n",
      "\n",
      "        accuracy                           0.80       380\n",
      "       macro avg       0.83      0.80      0.80       380\n",
      "    weighted avg       0.83      0.80      0.80       380\n",
      "\n"
     ]
    },
    {
     "name": "stderr",
     "output_type": "stream",
     "text": [
      "Training Epochs:  55%|█████▍    | 1090/2000 [05:13<05:34,  2.72it/s]"
     ]
    },
    {
     "name": "stdout",
     "output_type": "stream",
     "text": [
      "Epoch 1090/2000, Loss: 0.0826\n",
      "Test Accuracy at Epoch 1090: 78.68%\n",
      "Test F1-score at Epoch 1090: 0.8155\n",
      "Classification Report at Epoch 1090:\n",
      "                  precision    recall  f1-score   support\n",
      "\n",
      "    infringement       0.94      0.62      0.75       194\n",
      "non_infringement       0.71      0.96      0.82       186\n",
      "\n",
      "        accuracy                           0.79       380\n",
      "       macro avg       0.83      0.79      0.78       380\n",
      "    weighted avg       0.83      0.79      0.78       380\n",
      "\n"
     ]
    },
    {
     "name": "stderr",
     "output_type": "stream",
     "text": [
      "Training Epochs:  55%|█████▌    | 1100/2000 [05:16<06:18,  2.38it/s]"
     ]
    },
    {
     "name": "stdout",
     "output_type": "stream",
     "text": [
      "Epoch 1100/2000, Loss: 0.0807\n",
      "Test Accuracy at Epoch 1100: 79.74%\n",
      "Test F1-score at Epoch 1100: 0.8230\n",
      "Classification Report at Epoch 1100:\n",
      "                  precision    recall  f1-score   support\n",
      "\n",
      "    infringement       0.95      0.64      0.76       194\n",
      "non_infringement       0.72      0.96      0.82       186\n",
      "\n",
      "        accuracy                           0.80       380\n",
      "       macro avg       0.83      0.80      0.79       380\n",
      "    weighted avg       0.84      0.80      0.79       380\n",
      "\n"
     ]
    },
    {
     "name": "stderr",
     "output_type": "stream",
     "text": [
      "Training Epochs:  56%|█████▌    | 1110/2000 [05:20<05:22,  2.76it/s]"
     ]
    },
    {
     "name": "stdout",
     "output_type": "stream",
     "text": [
      "Epoch 1110/2000, Loss: 0.0811\n",
      "Test Accuracy at Epoch 1110: 78.68%\n",
      "Test F1-score at Epoch 1110: 0.8155\n",
      "Classification Report at Epoch 1110:\n",
      "                  precision    recall  f1-score   support\n",
      "\n",
      "    infringement       0.94      0.62      0.75       194\n",
      "non_infringement       0.71      0.96      0.82       186\n",
      "\n",
      "        accuracy                           0.79       380\n",
      "       macro avg       0.83      0.79      0.78       380\n",
      "    weighted avg       0.83      0.79      0.78       380\n",
      "\n"
     ]
    },
    {
     "name": "stderr",
     "output_type": "stream",
     "text": [
      "Training Epochs:  56%|█████▌    | 1122/2000 [05:23<02:15,  6.47it/s]"
     ]
    },
    {
     "name": "stdout",
     "output_type": "stream",
     "text": [
      "Epoch 1120/2000, Loss: 0.0827\n",
      "Test Accuracy at Epoch 1120: 78.95%\n",
      "Test F1-score at Epoch 1120: 0.8174\n",
      "Classification Report at Epoch 1120:\n",
      "                  precision    recall  f1-score   support\n",
      "\n",
      "    infringement       0.95      0.62      0.75       194\n",
      "non_infringement       0.71      0.96      0.82       186\n",
      "\n",
      "        accuracy                           0.79       380\n",
      "       macro avg       0.83      0.79      0.78       380\n",
      "    weighted avg       0.83      0.79      0.78       380\n",
      "\n"
     ]
    },
    {
     "name": "stderr",
     "output_type": "stream",
     "text": [
      "Training Epochs:  56%|█████▋    | 1130/2000 [05:25<05:52,  2.47it/s]"
     ]
    },
    {
     "name": "stdout",
     "output_type": "stream",
     "text": [
      "Epoch 1130/2000, Loss: 0.0838\n",
      "Test Accuracy at Epoch 1130: 79.21%\n",
      "Test F1-score at Epoch 1130: 0.8176\n",
      "Classification Report at Epoch 1130:\n",
      "                  precision    recall  f1-score   support\n",
      "\n",
      "    infringement       0.93      0.64      0.76       194\n",
      "non_infringement       0.72      0.95      0.82       186\n",
      "\n",
      "        accuracy                           0.79       380\n",
      "       macro avg       0.82      0.80      0.79       380\n",
      "    weighted avg       0.83      0.79      0.79       380\n",
      "\n"
     ]
    },
    {
     "name": "stderr",
     "output_type": "stream",
     "text": [
      "Training Epochs:  57%|█████▋    | 1141/2000 [05:27<01:54,  7.49it/s]"
     ]
    },
    {
     "name": "stdout",
     "output_type": "stream",
     "text": [
      "Epoch 1140/2000, Loss: 0.0802\n",
      "Test Accuracy at Epoch 1140: 79.21%\n",
      "Test F1-score at Epoch 1140: 0.8192\n",
      "Classification Report at Epoch 1140:\n",
      "                  precision    recall  f1-score   support\n",
      "\n",
      "    infringement       0.95      0.63      0.76       194\n",
      "non_infringement       0.71      0.96      0.82       186\n",
      "\n",
      "        accuracy                           0.79       380\n",
      "       macro avg       0.83      0.80      0.79       380\n",
      "    weighted avg       0.83      0.79      0.79       380\n",
      "\n"
     ]
    },
    {
     "name": "stderr",
     "output_type": "stream",
     "text": [
      "Training Epochs:  57%|█████▊    | 1150/2000 [05:28<01:18, 10.81it/s]"
     ]
    },
    {
     "name": "stdout",
     "output_type": "stream",
     "text": [
      "Epoch 1150/2000, Loss: 0.0910\n",
      "Test Accuracy at Epoch 1150: 78.68%\n",
      "Test F1-score at Epoch 1150: 0.8163\n",
      "Classification Report at Epoch 1150:\n",
      "                  precision    recall  f1-score   support\n",
      "\n",
      "    infringement       0.95      0.61      0.75       194\n",
      "non_infringement       0.71      0.97      0.82       186\n",
      "\n",
      "        accuracy                           0.79       380\n",
      "       macro avg       0.83      0.79      0.78       380\n",
      "    weighted avg       0.83      0.79      0.78       380\n",
      "\n"
     ]
    },
    {
     "name": "stderr",
     "output_type": "stream",
     "text": [
      "Training Epochs:  58%|█████▊    | 1161/2000 [05:30<02:12,  6.35it/s]"
     ]
    },
    {
     "name": "stdout",
     "output_type": "stream",
     "text": [
      "Epoch 1160/2000, Loss: 0.0840\n",
      "Test Accuracy at Epoch 1160: 79.21%\n",
      "Test F1-score at Epoch 1160: 0.8176\n",
      "Classification Report at Epoch 1160:\n",
      "                  precision    recall  f1-score   support\n",
      "\n",
      "    infringement       0.93      0.64      0.76       194\n",
      "non_infringement       0.72      0.95      0.82       186\n",
      "\n",
      "        accuracy                           0.79       380\n",
      "       macro avg       0.82      0.80      0.79       380\n",
      "    weighted avg       0.83      0.79      0.79       380\n",
      "\n"
     ]
    },
    {
     "name": "stderr",
     "output_type": "stream",
     "text": [
      "Training Epochs:  59%|█████▊    | 1172/2000 [05:32<02:05,  6.57it/s]"
     ]
    },
    {
     "name": "stdout",
     "output_type": "stream",
     "text": [
      "Epoch 1170/2000, Loss: 0.0849\n",
      "Test Accuracy at Epoch 1170: 78.42%\n",
      "Test F1-score at Epoch 1170: 0.8136\n",
      "Classification Report at Epoch 1170:\n",
      "                  precision    recall  f1-score   support\n",
      "\n",
      "    infringement       0.94      0.61      0.74       194\n",
      "non_infringement       0.70      0.96      0.81       186\n",
      "\n",
      "        accuracy                           0.78       380\n",
      "       macro avg       0.82      0.79      0.78       380\n",
      "    weighted avg       0.83      0.78      0.78       380\n",
      "\n"
     ]
    },
    {
     "name": "stderr",
     "output_type": "stream",
     "text": [
      "Training Epochs:  59%|█████▉    | 1181/2000 [05:33<01:18, 10.38it/s]"
     ]
    },
    {
     "name": "stdout",
     "output_type": "stream",
     "text": [
      "Epoch 1180/2000, Loss: 0.0802\n",
      "Test Accuracy at Epoch 1180: 78.95%\n",
      "Test F1-score at Epoch 1180: 0.8157\n",
      "Classification Report at Epoch 1180:\n",
      "                  precision    recall  f1-score   support\n",
      "\n",
      "    infringement       0.93      0.63      0.75       194\n",
      "non_infringement       0.71      0.95      0.82       186\n",
      "\n",
      "        accuracy                           0.79       380\n",
      "       macro avg       0.82      0.79      0.79       380\n",
      "    weighted avg       0.83      0.79      0.78       380\n",
      "\n"
     ]
    },
    {
     "name": "stderr",
     "output_type": "stream",
     "text": [
      "Training Epochs:  60%|█████▉    | 1190/2000 [05:35<03:34,  3.77it/s]"
     ]
    },
    {
     "name": "stdout",
     "output_type": "stream",
     "text": [
      "Epoch 1190/2000, Loss: 0.0817\n",
      "Test Accuracy at Epoch 1190: 79.21%\n",
      "Test F1-score at Epoch 1190: 0.8176\n",
      "Classification Report at Epoch 1190:\n",
      "                  precision    recall  f1-score   support\n",
      "\n",
      "    infringement       0.93      0.64      0.76       194\n",
      "non_infringement       0.72      0.95      0.82       186\n",
      "\n",
      "        accuracy                           0.79       380\n",
      "       macro avg       0.82      0.80      0.79       380\n",
      "    weighted avg       0.83      0.79      0.79       380\n",
      "\n"
     ]
    },
    {
     "name": "stderr",
     "output_type": "stream",
     "text": [
      "Training Epochs:  60%|██████    | 1202/2000 [05:37<01:20,  9.87it/s]"
     ]
    },
    {
     "name": "stdout",
     "output_type": "stream",
     "text": [
      "Epoch 1200/2000, Loss: 0.0809\n",
      "Test Accuracy at Epoch 1200: 78.95%\n",
      "Test F1-score at Epoch 1200: 0.8157\n",
      "Classification Report at Epoch 1200:\n",
      "                  precision    recall  f1-score   support\n",
      "\n",
      "    infringement       0.93      0.63      0.75       194\n",
      "non_infringement       0.71      0.95      0.82       186\n",
      "\n",
      "        accuracy                           0.79       380\n",
      "       macro avg       0.82      0.79      0.79       380\n",
      "    weighted avg       0.83      0.79      0.78       380\n",
      "\n"
     ]
    },
    {
     "name": "stderr",
     "output_type": "stream",
     "text": [
      "Training Epochs:  61%|██████    | 1211/2000 [05:39<02:09,  6.07it/s]"
     ]
    },
    {
     "name": "stdout",
     "output_type": "stream",
     "text": [
      "Epoch 1210/2000, Loss: 0.0807\n",
      "Test Accuracy at Epoch 1210: 79.21%\n",
      "Test F1-score at Epoch 1210: 0.8192\n",
      "Classification Report at Epoch 1210:\n",
      "                  precision    recall  f1-score   support\n",
      "\n",
      "    infringement       0.95      0.63      0.76       194\n",
      "non_infringement       0.71      0.96      0.82       186\n",
      "\n",
      "        accuracy                           0.79       380\n",
      "       macro avg       0.83      0.80      0.79       380\n",
      "    weighted avg       0.83      0.79      0.79       380\n",
      "\n"
     ]
    },
    {
     "name": "stderr",
     "output_type": "stream",
     "text": [
      "Training Epochs:  61%|██████    | 1219/2000 [05:39<01:06, 11.81it/s]"
     ]
    },
    {
     "name": "stdout",
     "output_type": "stream",
     "text": [
      "Epoch 1220/2000, Loss: 0.0796\n",
      "Test Accuracy at Epoch 1220: 78.95%\n",
      "Test F1-score at Epoch 1220: 0.8174\n",
      "Classification Report at Epoch 1220:\n",
      "                  precision    recall  f1-score   support\n",
      "\n",
      "    infringement       0.95      0.62      0.75       194\n",
      "non_infringement       0.71      0.96      0.82       186\n",
      "\n",
      "        accuracy                           0.79       380\n",
      "       macro avg       0.83      0.79      0.78       380\n",
      "    weighted avg       0.83      0.79      0.78       380\n",
      "\n"
     ]
    },
    {
     "name": "stderr",
     "output_type": "stream",
     "text": [
      "Training Epochs:  61%|██████▏   | 1229/2000 [05:41<01:38,  7.81it/s]"
     ]
    },
    {
     "name": "stdout",
     "output_type": "stream",
     "text": [
      "Epoch 1230/2000, Loss: 0.0885\n",
      "Test Accuracy at Epoch 1230: 79.21%\n",
      "Test F1-score at Epoch 1230: 0.8176\n",
      "Classification Report at Epoch 1230:\n",
      "                  precision    recall  f1-score   support\n",
      "\n",
      "    infringement       0.93      0.64      0.76       194\n",
      "non_infringement       0.72      0.95      0.82       186\n",
      "\n",
      "        accuracy                           0.79       380\n",
      "       macro avg       0.82      0.80      0.79       380\n",
      "    weighted avg       0.83      0.79      0.79       380\n",
      "\n"
     ]
    },
    {
     "name": "stderr",
     "output_type": "stream",
     "text": [
      "Training Epochs:  62%|██████▏   | 1240/2000 [05:46<05:12,  2.43it/s]"
     ]
    },
    {
     "name": "stdout",
     "output_type": "stream",
     "text": [
      "Epoch 1240/2000, Loss: 0.0831\n",
      "Test Accuracy at Epoch 1240: 78.68%\n",
      "Test F1-score at Epoch 1240: 0.8155\n",
      "Classification Report at Epoch 1240:\n",
      "                  precision    recall  f1-score   support\n",
      "\n",
      "    infringement       0.94      0.62      0.75       194\n",
      "non_infringement       0.71      0.96      0.82       186\n",
      "\n",
      "        accuracy                           0.79       380\n",
      "       macro avg       0.83      0.79      0.78       380\n",
      "    weighted avg       0.83      0.79      0.78       380\n",
      "\n"
     ]
    },
    {
     "name": "stderr",
     "output_type": "stream",
     "text": [
      "Training Epochs:  62%|██████▎   | 1250/2000 [05:50<05:23,  2.32it/s]"
     ]
    },
    {
     "name": "stdout",
     "output_type": "stream",
     "text": [
      "Epoch 1250/2000, Loss: 0.0832\n",
      "Test Accuracy at Epoch 1250: 79.21%\n",
      "Test F1-score at Epoch 1250: 0.8176\n",
      "Classification Report at Epoch 1250:\n",
      "                  precision    recall  f1-score   support\n",
      "\n",
      "    infringement       0.93      0.64      0.76       194\n",
      "non_infringement       0.72      0.95      0.82       186\n",
      "\n",
      "        accuracy                           0.79       380\n",
      "       macro avg       0.82      0.80      0.79       380\n",
      "    weighted avg       0.83      0.79      0.79       380\n",
      "\n"
     ]
    },
    {
     "name": "stderr",
     "output_type": "stream",
     "text": [
      "Training Epochs:  63%|██████▎   | 1260/2000 [05:55<07:07,  1.73it/s]"
     ]
    },
    {
     "name": "stdout",
     "output_type": "stream",
     "text": [
      "Epoch 1260/2000, Loss: 0.0791\n",
      "Test Accuracy at Epoch 1260: 78.68%\n",
      "Test F1-score at Epoch 1260: 0.8155\n",
      "Classification Report at Epoch 1260:\n",
      "                  precision    recall  f1-score   support\n",
      "\n",
      "    infringement       0.94      0.62      0.75       194\n",
      "non_infringement       0.71      0.96      0.82       186\n",
      "\n",
      "        accuracy                           0.79       380\n",
      "       macro avg       0.83      0.79      0.78       380\n",
      "    weighted avg       0.83      0.79      0.78       380\n",
      "\n"
     ]
    },
    {
     "name": "stderr",
     "output_type": "stream",
     "text": [
      "Training Epochs:  64%|██████▎   | 1270/2000 [05:59<03:42,  3.28it/s]"
     ]
    },
    {
     "name": "stdout",
     "output_type": "stream",
     "text": [
      "Epoch 1270/2000, Loss: 0.0821\n",
      "Test Accuracy at Epoch 1270: 78.68%\n",
      "Test F1-score at Epoch 1270: 0.8155\n",
      "Classification Report at Epoch 1270:\n",
      "                  precision    recall  f1-score   support\n",
      "\n",
      "    infringement       0.94      0.62      0.75       194\n",
      "non_infringement       0.71      0.96      0.82       186\n",
      "\n",
      "        accuracy                           0.79       380\n",
      "       macro avg       0.83      0.79      0.78       380\n",
      "    weighted avg       0.83      0.79      0.78       380\n",
      "\n"
     ]
    },
    {
     "name": "stderr",
     "output_type": "stream",
     "text": [
      "Training Epochs:  64%|██████▍   | 1280/2000 [06:03<05:50,  2.06it/s]"
     ]
    },
    {
     "name": "stdout",
     "output_type": "stream",
     "text": [
      "Epoch 1280/2000, Loss: 0.0788\n",
      "Test Accuracy at Epoch 1280: 78.68%\n",
      "Test F1-score at Epoch 1280: 0.8155\n",
      "Classification Report at Epoch 1280:\n",
      "                  precision    recall  f1-score   support\n",
      "\n",
      "    infringement       0.94      0.62      0.75       194\n",
      "non_infringement       0.71      0.96      0.82       186\n",
      "\n",
      "        accuracy                           0.79       380\n",
      "       macro avg       0.83      0.79      0.78       380\n",
      "    weighted avg       0.83      0.79      0.78       380\n",
      "\n"
     ]
    },
    {
     "name": "stderr",
     "output_type": "stream",
     "text": [
      "Training Epochs:  64%|██████▍   | 1290/2000 [06:07<05:57,  1.98it/s]"
     ]
    },
    {
     "name": "stdout",
     "output_type": "stream",
     "text": [
      "Epoch 1290/2000, Loss: 0.0952\n",
      "Test Accuracy at Epoch 1290: 77.89%\n",
      "Test F1-score at Epoch 1290: 0.8117\n",
      "Classification Report at Epoch 1290:\n",
      "                  precision    recall  f1-score   support\n",
      "\n",
      "    infringement       0.96      0.59      0.73       194\n",
      "non_infringement       0.70      0.97      0.81       186\n",
      "\n",
      "        accuracy                           0.78       380\n",
      "       macro avg       0.83      0.78      0.77       380\n",
      "    weighted avg       0.83      0.78      0.77       380\n",
      "\n"
     ]
    },
    {
     "name": "stderr",
     "output_type": "stream",
     "text": [
      "Training Epochs:  65%|██████▌   | 1300/2000 [06:12<06:18,  1.85it/s]"
     ]
    },
    {
     "name": "stdout",
     "output_type": "stream",
     "text": [
      "Epoch 1300/2000, Loss: 0.0807\n",
      "Test Accuracy at Epoch 1300: 78.95%\n",
      "Test F1-score at Epoch 1300: 0.8174\n",
      "Classification Report at Epoch 1300:\n",
      "                  precision    recall  f1-score   support\n",
      "\n",
      "    infringement       0.95      0.62      0.75       194\n",
      "non_infringement       0.71      0.96      0.82       186\n",
      "\n",
      "        accuracy                           0.79       380\n",
      "       macro avg       0.83      0.79      0.78       380\n",
      "    weighted avg       0.83      0.79      0.78       380\n",
      "\n"
     ]
    },
    {
     "name": "stderr",
     "output_type": "stream",
     "text": [
      "Training Epochs:  65%|██████▌   | 1309/2000 [06:18<08:17,  1.39it/s]"
     ]
    },
    {
     "name": "stdout",
     "output_type": "stream",
     "text": [
      "Epoch 1310/2000, Loss: 0.0785\n"
     ]
    },
    {
     "name": "stderr",
     "output_type": "stream",
     "text": [
      "Training Epochs:  66%|██████▌   | 1310/2000 [06:19<09:09,  1.25it/s]"
     ]
    },
    {
     "name": "stdout",
     "output_type": "stream",
     "text": [
      "Test Accuracy at Epoch 1310: 79.21%\n",
      "Test F1-score at Epoch 1310: 0.8192\n",
      "Classification Report at Epoch 1310:\n",
      "                  precision    recall  f1-score   support\n",
      "\n",
      "    infringement       0.95      0.63      0.76       194\n",
      "non_infringement       0.71      0.96      0.82       186\n",
      "\n",
      "        accuracy                           0.79       380\n",
      "       macro avg       0.83      0.80      0.79       380\n",
      "    weighted avg       0.83      0.79      0.79       380\n",
      "\n"
     ]
    },
    {
     "name": "stderr",
     "output_type": "stream",
     "text": [
      "Training Epochs:  66%|██████▌   | 1320/2000 [06:27<08:39,  1.31it/s]"
     ]
    },
    {
     "name": "stdout",
     "output_type": "stream",
     "text": [
      "Epoch 1320/2000, Loss: 0.0798\n",
      "Test Accuracy at Epoch 1320: 79.21%\n",
      "Test F1-score at Epoch 1320: 0.8192\n",
      "Classification Report at Epoch 1320:\n",
      "                  precision    recall  f1-score   support\n",
      "\n",
      "    infringement       0.95      0.63      0.76       194\n",
      "non_infringement       0.71      0.96      0.82       186\n",
      "\n",
      "        accuracy                           0.79       380\n",
      "       macro avg       0.83      0.80      0.79       380\n",
      "    weighted avg       0.83      0.79      0.79       380\n",
      "\n"
     ]
    },
    {
     "name": "stderr",
     "output_type": "stream",
     "text": [
      "Training Epochs:  66%|██████▋   | 1330/2000 [06:33<07:14,  1.54it/s]"
     ]
    },
    {
     "name": "stdout",
     "output_type": "stream",
     "text": [
      "Epoch 1330/2000, Loss: 0.0807\n",
      "Test Accuracy at Epoch 1330: 78.95%\n",
      "Test F1-score at Epoch 1330: 0.8182\n",
      "Classification Report at Epoch 1330:\n",
      "                  precision    recall  f1-score   support\n",
      "\n",
      "    infringement       0.95      0.62      0.75       194\n",
      "non_infringement       0.71      0.97      0.82       186\n",
      "\n",
      "        accuracy                           0.79       380\n",
      "       macro avg       0.83      0.79      0.78       380\n",
      "    weighted avg       0.83      0.79      0.78       380\n",
      "\n"
     ]
    },
    {
     "name": "stderr",
     "output_type": "stream",
     "text": [
      "Training Epochs:  67%|██████▋   | 1340/2000 [06:40<06:41,  1.64it/s]"
     ]
    },
    {
     "name": "stdout",
     "output_type": "stream",
     "text": [
      "Epoch 1340/2000, Loss: 0.0797\n",
      "Test Accuracy at Epoch 1340: 78.68%\n",
      "Test F1-score at Epoch 1340: 0.8155\n",
      "Classification Report at Epoch 1340:\n",
      "                  precision    recall  f1-score   support\n",
      "\n",
      "    infringement       0.94      0.62      0.75       194\n",
      "non_infringement       0.71      0.96      0.82       186\n",
      "\n",
      "        accuracy                           0.79       380\n",
      "       macro avg       0.83      0.79      0.78       380\n",
      "    weighted avg       0.83      0.79      0.78       380\n",
      "\n"
     ]
    },
    {
     "name": "stderr",
     "output_type": "stream",
     "text": [
      "Training Epochs:  68%|██████▊   | 1350/2000 [06:46<07:25,  1.46it/s]"
     ]
    },
    {
     "name": "stdout",
     "output_type": "stream",
     "text": [
      "Epoch 1350/2000, Loss: 0.0795\n",
      "Test Accuracy at Epoch 1350: 78.68%\n",
      "Test F1-score at Epoch 1350: 0.8138\n",
      "Classification Report at Epoch 1350:\n",
      "                  precision    recall  f1-score   support\n",
      "\n",
      "    infringement       0.93      0.63      0.75       194\n",
      "non_infringement       0.71      0.95      0.81       186\n",
      "\n",
      "        accuracy                           0.79       380\n",
      "       macro avg       0.82      0.79      0.78       380\n",
      "    weighted avg       0.82      0.79      0.78       380\n",
      "\n"
     ]
    },
    {
     "name": "stderr",
     "output_type": "stream",
     "text": [
      "Training Epochs:  68%|██████▊   | 1360/2000 [06:54<09:04,  1.18it/s]"
     ]
    },
    {
     "name": "stdout",
     "output_type": "stream",
     "text": [
      "Epoch 1360/2000, Loss: 0.0791\n",
      "Test Accuracy at Epoch 1360: 78.95%\n",
      "Test F1-score at Epoch 1360: 0.8182\n",
      "Classification Report at Epoch 1360:\n",
      "                  precision    recall  f1-score   support\n",
      "\n",
      "    infringement       0.95      0.62      0.75       194\n",
      "non_infringement       0.71      0.97      0.82       186\n",
      "\n",
      "        accuracy                           0.79       380\n",
      "       macro avg       0.83      0.79      0.78       380\n",
      "    weighted avg       0.83      0.79      0.78       380\n",
      "\n"
     ]
    },
    {
     "name": "stderr",
     "output_type": "stream",
     "text": [
      "Training Epochs:  68%|██████▊   | 1370/2000 [07:02<09:10,  1.15it/s]"
     ]
    },
    {
     "name": "stdout",
     "output_type": "stream",
     "text": [
      "Epoch 1370/2000, Loss: 0.0832\n",
      "Test Accuracy at Epoch 1370: 78.95%\n",
      "Test F1-score at Epoch 1370: 0.8157\n",
      "Classification Report at Epoch 1370:\n",
      "                  precision    recall  f1-score   support\n",
      "\n",
      "    infringement       0.93      0.63      0.75       194\n",
      "non_infringement       0.71      0.95      0.82       186\n",
      "\n",
      "        accuracy                           0.79       380\n",
      "       macro avg       0.82      0.79      0.79       380\n",
      "    weighted avg       0.83      0.79      0.78       380\n",
      "\n"
     ]
    },
    {
     "name": "stderr",
     "output_type": "stream",
     "text": [
      "Training Epochs:  69%|██████▉   | 1380/2000 [07:09<08:44,  1.18it/s]"
     ]
    },
    {
     "name": "stdout",
     "output_type": "stream",
     "text": [
      "Epoch 1380/2000, Loss: 0.0806\n",
      "Test Accuracy at Epoch 1380: 78.95%\n",
      "Test F1-score at Epoch 1380: 0.8182\n",
      "Classification Report at Epoch 1380:\n",
      "                  precision    recall  f1-score   support\n",
      "\n",
      "    infringement       0.95      0.62      0.75       194\n",
      "non_infringement       0.71      0.97      0.82       186\n",
      "\n",
      "        accuracy                           0.79       380\n",
      "       macro avg       0.83      0.79      0.78       380\n",
      "    weighted avg       0.83      0.79      0.78       380\n",
      "\n"
     ]
    },
    {
     "name": "stderr",
     "output_type": "stream",
     "text": [
      "Training Epochs:  70%|██████▉   | 1390/2000 [07:17<07:45,  1.31it/s]"
     ]
    },
    {
     "name": "stdout",
     "output_type": "stream",
     "text": [
      "Epoch 1390/2000, Loss: 0.0779\n",
      "Test Accuracy at Epoch 1390: 78.95%\n",
      "Test F1-score at Epoch 1390: 0.8174\n",
      "Classification Report at Epoch 1390:\n",
      "                  precision    recall  f1-score   support\n",
      "\n",
      "    infringement       0.95      0.62      0.75       194\n",
      "non_infringement       0.71      0.96      0.82       186\n",
      "\n",
      "        accuracy                           0.79       380\n",
      "       macro avg       0.83      0.79      0.78       380\n",
      "    weighted avg       0.83      0.79      0.78       380\n",
      "\n"
     ]
    },
    {
     "name": "stderr",
     "output_type": "stream",
     "text": [
      "Training Epochs:  70%|██████▉   | 1399/2000 [07:23<06:57,  1.44it/s]"
     ]
    },
    {
     "name": "stdout",
     "output_type": "stream",
     "text": [
      "Epoch 1400/2000, Loss: 0.0830\n"
     ]
    },
    {
     "name": "stderr",
     "output_type": "stream",
     "text": [
      "Training Epochs:  70%|███████   | 1400/2000 [07:24<07:50,  1.28it/s]"
     ]
    },
    {
     "name": "stdout",
     "output_type": "stream",
     "text": [
      "Test Accuracy at Epoch 1400: 78.95%\n",
      "Test F1-score at Epoch 1400: 0.8157\n",
      "Classification Report at Epoch 1400:\n",
      "                  precision    recall  f1-score   support\n",
      "\n",
      "    infringement       0.93      0.63      0.75       194\n",
      "non_infringement       0.71      0.95      0.82       186\n",
      "\n",
      "        accuracy                           0.79       380\n",
      "       macro avg       0.82      0.79      0.79       380\n",
      "    weighted avg       0.83      0.79      0.78       380\n",
      "\n"
     ]
    },
    {
     "name": "stderr",
     "output_type": "stream",
     "text": [
      "Training Epochs:  70%|███████   | 1410/2000 [07:32<07:35,  1.30it/s]"
     ]
    },
    {
     "name": "stdout",
     "output_type": "stream",
     "text": [
      "Epoch 1410/2000, Loss: 0.0786\n",
      "Test Accuracy at Epoch 1410: 78.95%\n",
      "Test F1-score at Epoch 1410: 0.8182\n",
      "Classification Report at Epoch 1410:\n",
      "                  precision    recall  f1-score   support\n",
      "\n",
      "    infringement       0.95      0.62      0.75       194\n",
      "non_infringement       0.71      0.97      0.82       186\n",
      "\n",
      "        accuracy                           0.79       380\n",
      "       macro avg       0.83      0.79      0.78       380\n",
      "    weighted avg       0.83      0.79      0.78       380\n",
      "\n"
     ]
    },
    {
     "name": "stderr",
     "output_type": "stream",
     "text": [
      "Training Epochs:  71%|███████   | 1419/2000 [07:38<06:51,  1.41it/s]"
     ]
    },
    {
     "name": "stdout",
     "output_type": "stream",
     "text": [
      "Epoch 1420/2000, Loss: 0.0810\n"
     ]
    },
    {
     "name": "stderr",
     "output_type": "stream",
     "text": [
      "Training Epochs:  71%|███████   | 1420/2000 [07:39<07:36,  1.27it/s]"
     ]
    },
    {
     "name": "stdout",
     "output_type": "stream",
     "text": [
      "Test Accuracy at Epoch 1420: 78.95%\n",
      "Test F1-score at Epoch 1420: 0.8182\n",
      "Classification Report at Epoch 1420:\n",
      "                  precision    recall  f1-score   support\n",
      "\n",
      "    infringement       0.95      0.62      0.75       194\n",
      "non_infringement       0.71      0.97      0.82       186\n",
      "\n",
      "        accuracy                           0.79       380\n",
      "       macro avg       0.83      0.79      0.78       380\n",
      "    weighted avg       0.83      0.79      0.78       380\n",
      "\n"
     ]
    },
    {
     "name": "stderr",
     "output_type": "stream",
     "text": [
      "Training Epochs:  72%|███████▏  | 1430/2000 [07:46<07:55,  1.20it/s]"
     ]
    },
    {
     "name": "stdout",
     "output_type": "stream",
     "text": [
      "Epoch 1430/2000, Loss: 0.0802\n",
      "Test Accuracy at Epoch 1430: 78.42%\n",
      "Test F1-score at Epoch 1430: 0.8111\n",
      "Classification Report at Epoch 1430:\n",
      "                  precision    recall  f1-score   support\n",
      "\n",
      "    infringement       0.92      0.63      0.75       194\n",
      "non_infringement       0.71      0.95      0.81       186\n",
      "\n",
      "        accuracy                           0.78       380\n",
      "       macro avg       0.82      0.79      0.78       380\n",
      "    weighted avg       0.82      0.78      0.78       380\n",
      "\n"
     ]
    },
    {
     "name": "stderr",
     "output_type": "stream",
     "text": [
      "Training Epochs:  72%|███████▏  | 1440/2000 [07:54<07:13,  1.29it/s]"
     ]
    },
    {
     "name": "stdout",
     "output_type": "stream",
     "text": [
      "Epoch 1440/2000, Loss: 0.0778\n",
      "Test Accuracy at Epoch 1440: 78.95%\n",
      "Test F1-score at Epoch 1440: 0.8182\n",
      "Classification Report at Epoch 1440:\n",
      "                  precision    recall  f1-score   support\n",
      "\n",
      "    infringement       0.95      0.62      0.75       194\n",
      "non_infringement       0.71      0.97      0.82       186\n",
      "\n",
      "        accuracy                           0.79       380\n",
      "       macro avg       0.83      0.79      0.78       380\n",
      "    weighted avg       0.83      0.79      0.78       380\n",
      "\n"
     ]
    },
    {
     "name": "stderr",
     "output_type": "stream",
     "text": [
      "Training Epochs:  72%|███████▎  | 1450/2000 [08:01<05:46,  1.59it/s]"
     ]
    },
    {
     "name": "stdout",
     "output_type": "stream",
     "text": [
      "Epoch 1450/2000, Loss: 0.0777\n",
      "Test Accuracy at Epoch 1450: 78.68%\n",
      "Test F1-score at Epoch 1450: 0.8155\n",
      "Classification Report at Epoch 1450:\n",
      "                  precision    recall  f1-score   support\n",
      "\n",
      "    infringement       0.94      0.62      0.75       194\n",
      "non_infringement       0.71      0.96      0.82       186\n",
      "\n",
      "        accuracy                           0.79       380\n",
      "       macro avg       0.83      0.79      0.78       380\n",
      "    weighted avg       0.83      0.79      0.78       380\n",
      "\n"
     ]
    },
    {
     "name": "stderr",
     "output_type": "stream",
     "text": [
      "Training Epochs:  73%|███████▎  | 1460/2000 [08:07<06:44,  1.34it/s]"
     ]
    },
    {
     "name": "stdout",
     "output_type": "stream",
     "text": [
      "Epoch 1460/2000, Loss: 0.0840\n",
      "Test Accuracy at Epoch 1460: 78.95%\n",
      "Test F1-score at Epoch 1460: 0.8148\n",
      "Classification Report at Epoch 1460:\n",
      "                  precision    recall  f1-score   support\n",
      "\n",
      "    infringement       0.93      0.64      0.76       194\n",
      "non_infringement       0.72      0.95      0.81       186\n",
      "\n",
      "        accuracy                           0.79       380\n",
      "       macro avg       0.82      0.79      0.79       380\n",
      "    weighted avg       0.82      0.79      0.78       380\n",
      "\n"
     ]
    },
    {
     "name": "stderr",
     "output_type": "stream",
     "text": [
      "Training Epochs:  73%|███████▎  | 1469/2000 [08:14<07:13,  1.22it/s]"
     ]
    },
    {
     "name": "stdout",
     "output_type": "stream",
     "text": [
      "Epoch 1470/2000, Loss: 0.0815\n"
     ]
    },
    {
     "name": "stderr",
     "output_type": "stream",
     "text": [
      "Training Epochs:  74%|███████▎  | 1470/2000 [08:15<07:46,  1.14it/s]"
     ]
    },
    {
     "name": "stdout",
     "output_type": "stream",
     "text": [
      "Test Accuracy at Epoch 1470: 78.95%\n",
      "Test F1-score at Epoch 1470: 0.8182\n",
      "Classification Report at Epoch 1470:\n",
      "                  precision    recall  f1-score   support\n",
      "\n",
      "    infringement       0.95      0.62      0.75       194\n",
      "non_infringement       0.71      0.97      0.82       186\n",
      "\n",
      "        accuracy                           0.79       380\n",
      "       macro avg       0.83      0.79      0.78       380\n",
      "    weighted avg       0.83      0.79      0.78       380\n",
      "\n"
     ]
    },
    {
     "name": "stderr",
     "output_type": "stream",
     "text": [
      "Training Epochs:  74%|███████▍  | 1480/2000 [08:23<06:24,  1.35it/s]"
     ]
    },
    {
     "name": "stdout",
     "output_type": "stream",
     "text": [
      "Epoch 1480/2000, Loss: 0.0782\n",
      "Test Accuracy at Epoch 1480: 78.16%\n",
      "Test F1-score at Epoch 1480: 0.8092\n",
      "Classification Report at Epoch 1480:\n",
      "                  precision    recall  f1-score   support\n",
      "\n",
      "    infringement       0.92      0.62      0.74       194\n",
      "non_infringement       0.71      0.95      0.81       186\n",
      "\n",
      "        accuracy                           0.78       380\n",
      "       macro avg       0.82      0.78      0.78       380\n",
      "    weighted avg       0.82      0.78      0.78       380\n",
      "\n"
     ]
    },
    {
     "name": "stderr",
     "output_type": "stream",
     "text": [
      "Training Epochs:  74%|███████▍  | 1490/2000 [08:30<07:05,  1.20it/s]"
     ]
    },
    {
     "name": "stdout",
     "output_type": "stream",
     "text": [
      "Epoch 1490/2000, Loss: 0.0793\n",
      "Test Accuracy at Epoch 1490: 78.68%\n",
      "Test F1-score at Epoch 1490: 0.8146\n",
      "Classification Report at Epoch 1490:\n",
      "                  precision    recall  f1-score   support\n",
      "\n",
      "    infringement       0.94      0.62      0.75       194\n",
      "non_infringement       0.71      0.96      0.81       186\n",
      "\n",
      "        accuracy                           0.79       380\n",
      "       macro avg       0.82      0.79      0.78       380\n",
      "    weighted avg       0.83      0.79      0.78       380\n",
      "\n"
     ]
    },
    {
     "name": "stderr",
     "output_type": "stream",
     "text": [
      "Training Epochs:  75%|███████▌  | 1500/2000 [08:33<01:36,  5.21it/s]"
     ]
    },
    {
     "name": "stdout",
     "output_type": "stream",
     "text": [
      "Epoch 1500/2000, Loss: 0.0791\n",
      "Test Accuracy at Epoch 1500: 78.68%\n",
      "Test F1-score at Epoch 1500: 0.8155\n",
      "Classification Report at Epoch 1500:\n",
      "                  precision    recall  f1-score   support\n",
      "\n",
      "    infringement       0.94      0.62      0.75       194\n",
      "non_infringement       0.71      0.96      0.82       186\n",
      "\n",
      "        accuracy                           0.79       380\n",
      "       macro avg       0.83      0.79      0.78       380\n",
      "    weighted avg       0.83      0.79      0.78       380\n",
      "\n"
     ]
    },
    {
     "name": "stderr",
     "output_type": "stream",
     "text": [
      "Training Epochs:  75%|███████▌  | 1509/2000 [08:39<05:55,  1.38it/s]"
     ]
    },
    {
     "name": "stdout",
     "output_type": "stream",
     "text": [
      "Epoch 1510/2000, Loss: 0.0777\n"
     ]
    },
    {
     "name": "stderr",
     "output_type": "stream",
     "text": [
      "Training Epochs:  76%|███████▌  | 1510/2000 [08:40<06:26,  1.27it/s]"
     ]
    },
    {
     "name": "stdout",
     "output_type": "stream",
     "text": [
      "Test Accuracy at Epoch 1510: 78.16%\n",
      "Test F1-score at Epoch 1510: 0.8092\n",
      "Classification Report at Epoch 1510:\n",
      "                  precision    recall  f1-score   support\n",
      "\n",
      "    infringement       0.92      0.62      0.74       194\n",
      "non_infringement       0.71      0.95      0.81       186\n",
      "\n",
      "        accuracy                           0.78       380\n",
      "       macro avg       0.82      0.78      0.78       380\n",
      "    weighted avg       0.82      0.78      0.78       380\n",
      "\n"
     ]
    },
    {
     "name": "stderr",
     "output_type": "stream",
     "text": [
      "Training Epochs:  76%|███████▌  | 1520/2000 [08:48<06:04,  1.32it/s]"
     ]
    },
    {
     "name": "stdout",
     "output_type": "stream",
     "text": [
      "Epoch 1520/2000, Loss: 0.0798\n",
      "Test Accuracy at Epoch 1520: 78.68%\n",
      "Test F1-score at Epoch 1520: 0.8146\n",
      "Classification Report at Epoch 1520:\n",
      "                  precision    recall  f1-score   support\n",
      "\n",
      "    infringement       0.94      0.62      0.75       194\n",
      "non_infringement       0.71      0.96      0.81       186\n",
      "\n",
      "        accuracy                           0.79       380\n",
      "       macro avg       0.82      0.79      0.78       380\n",
      "    weighted avg       0.83      0.79      0.78       380\n",
      "\n"
     ]
    },
    {
     "name": "stderr",
     "output_type": "stream",
     "text": [
      "Training Epochs:  76%|███████▋  | 1529/2000 [08:53<05:36,  1.40it/s]"
     ]
    },
    {
     "name": "stdout",
     "output_type": "stream",
     "text": [
      "Epoch 1530/2000, Loss: 0.0772\n"
     ]
    },
    {
     "name": "stderr",
     "output_type": "stream",
     "text": [
      "Training Epochs:  76%|███████▋  | 1530/2000 [08:54<06:23,  1.22it/s]"
     ]
    },
    {
     "name": "stdout",
     "output_type": "stream",
     "text": [
      "Test Accuracy at Epoch 1530: 78.68%\n",
      "Test F1-score at Epoch 1530: 0.8146\n",
      "Classification Report at Epoch 1530:\n",
      "                  precision    recall  f1-score   support\n",
      "\n",
      "    infringement       0.94      0.62      0.75       194\n",
      "non_infringement       0.71      0.96      0.81       186\n",
      "\n",
      "        accuracy                           0.79       380\n",
      "       macro avg       0.82      0.79      0.78       380\n",
      "    weighted avg       0.83      0.79      0.78       380\n",
      "\n"
     ]
    },
    {
     "name": "stderr",
     "output_type": "stream",
     "text": [
      "Training Epochs:  77%|███████▋  | 1540/2000 [09:02<06:08,  1.25it/s]"
     ]
    },
    {
     "name": "stdout",
     "output_type": "stream",
     "text": [
      "Epoch 1540/2000, Loss: 0.0817\n",
      "Test Accuracy at Epoch 1540: 78.16%\n",
      "Test F1-score at Epoch 1540: 0.8092\n",
      "Classification Report at Epoch 1540:\n",
      "                  precision    recall  f1-score   support\n",
      "\n",
      "    infringement       0.92      0.62      0.74       194\n",
      "non_infringement       0.71      0.95      0.81       186\n",
      "\n",
      "        accuracy                           0.78       380\n",
      "       macro avg       0.82      0.78      0.78       380\n",
      "    weighted avg       0.82      0.78      0.78       380\n",
      "\n"
     ]
    },
    {
     "name": "stderr",
     "output_type": "stream",
     "text": [
      "Training Epochs:  78%|███████▊  | 1550/2000 [09:10<06:33,  1.14it/s]"
     ]
    },
    {
     "name": "stdout",
     "output_type": "stream",
     "text": [
      "Epoch 1550/2000, Loss: 0.0799\n",
      "Test Accuracy at Epoch 1550: 78.68%\n",
      "Test F1-score at Epoch 1550: 0.8155\n",
      "Classification Report at Epoch 1550:\n",
      "                  precision    recall  f1-score   support\n",
      "\n",
      "    infringement       0.94      0.62      0.75       194\n",
      "non_infringement       0.71      0.96      0.82       186\n",
      "\n",
      "        accuracy                           0.79       380\n",
      "       macro avg       0.83      0.79      0.78       380\n",
      "    weighted avg       0.83      0.79      0.78       380\n",
      "\n"
     ]
    },
    {
     "name": "stderr",
     "output_type": "stream",
     "text": [
      "Training Epochs:  78%|███████▊  | 1561/2000 [09:16<01:59,  3.69it/s]"
     ]
    },
    {
     "name": "stdout",
     "output_type": "stream",
     "text": [
      "Epoch 1560/2000, Loss: 0.0774\n",
      "Test Accuracy at Epoch 1560: 78.68%\n",
      "Test F1-score at Epoch 1560: 0.8155\n",
      "Classification Report at Epoch 1560:\n",
      "                  precision    recall  f1-score   support\n",
      "\n",
      "    infringement       0.94      0.62      0.75       194\n",
      "non_infringement       0.71      0.96      0.82       186\n",
      "\n",
      "        accuracy                           0.79       380\n",
      "       macro avg       0.83      0.79      0.78       380\n",
      "    weighted avg       0.83      0.79      0.78       380\n",
      "\n"
     ]
    },
    {
     "name": "stderr",
     "output_type": "stream",
     "text": [
      "Training Epochs:  78%|███████▊  | 1570/2000 [09:20<04:56,  1.45it/s]"
     ]
    },
    {
     "name": "stdout",
     "output_type": "stream",
     "text": [
      "Epoch 1570/2000, Loss: 0.0788\n",
      "Test Accuracy at Epoch 1570: 78.16%\n",
      "Test F1-score at Epoch 1570: 0.8092\n",
      "Classification Report at Epoch 1570:\n",
      "                  precision    recall  f1-score   support\n",
      "\n",
      "    infringement       0.92      0.62      0.74       194\n",
      "non_infringement       0.71      0.95      0.81       186\n",
      "\n",
      "        accuracy                           0.78       380\n",
      "       macro avg       0.82      0.78      0.78       380\n",
      "    weighted avg       0.82      0.78      0.78       380\n",
      "\n"
     ]
    },
    {
     "name": "stderr",
     "output_type": "stream",
     "text": [
      "Training Epochs:  79%|███████▉  | 1579/2000 [09:27<05:34,  1.26it/s]"
     ]
    },
    {
     "name": "stdout",
     "output_type": "stream",
     "text": [
      "Epoch 1580/2000, Loss: 0.0776\n"
     ]
    },
    {
     "name": "stderr",
     "output_type": "stream",
     "text": [
      "Training Epochs:  79%|███████▉  | 1580/2000 [09:28<06:07,  1.14it/s]"
     ]
    },
    {
     "name": "stdout",
     "output_type": "stream",
     "text": [
      "Test Accuracy at Epoch 1580: 78.68%\n",
      "Test F1-score at Epoch 1580: 0.8155\n",
      "Classification Report at Epoch 1580:\n",
      "                  precision    recall  f1-score   support\n",
      "\n",
      "    infringement       0.94      0.62      0.75       194\n",
      "non_infringement       0.71      0.96      0.82       186\n",
      "\n",
      "        accuracy                           0.79       380\n",
      "       macro avg       0.83      0.79      0.78       380\n",
      "    weighted avg       0.83      0.79      0.78       380\n",
      "\n"
     ]
    },
    {
     "name": "stderr",
     "output_type": "stream",
     "text": [
      "Training Epochs:  79%|███████▉  | 1589/2000 [09:35<04:53,  1.40it/s]"
     ]
    },
    {
     "name": "stdout",
     "output_type": "stream",
     "text": [
      "Epoch 1590/2000, Loss: 0.0777\n",
      "Test Accuracy at Epoch 1590: 78.16%\n",
      "Test F1-score at Epoch 1590: 0.8092\n"
     ]
    },
    {
     "name": "stderr",
     "output_type": "stream",
     "text": [
      "Training Epochs:  80%|███████▉  | 1590/2000 [09:36<05:15,  1.30it/s]"
     ]
    },
    {
     "name": "stdout",
     "output_type": "stream",
     "text": [
      "Classification Report at Epoch 1590:\n",
      "                  precision    recall  f1-score   support\n",
      "\n",
      "    infringement       0.92      0.62      0.74       194\n",
      "non_infringement       0.71      0.95      0.81       186\n",
      "\n",
      "        accuracy                           0.78       380\n",
      "       macro avg       0.82      0.78      0.78       380\n",
      "    weighted avg       0.82      0.78      0.78       380\n",
      "\n"
     ]
    },
    {
     "name": "stderr",
     "output_type": "stream",
     "text": [
      "Training Epochs:  80%|███████▉  | 1599/2000 [09:42<05:11,  1.29it/s]"
     ]
    },
    {
     "name": "stdout",
     "output_type": "stream",
     "text": [
      "Epoch 1600/2000, Loss: 0.0779\n",
      "Test Accuracy at Epoch 1600: 78.68%\n",
      "Test F1-score at Epoch 1600: 0.8146\n"
     ]
    },
    {
     "name": "stderr",
     "output_type": "stream",
     "text": [
      "Training Epochs:  80%|████████  | 1600/2000 [09:43<05:37,  1.18it/s]"
     ]
    },
    {
     "name": "stdout",
     "output_type": "stream",
     "text": [
      "Classification Report at Epoch 1600:\n",
      "                  precision    recall  f1-score   support\n",
      "\n",
      "    infringement       0.94      0.62      0.75       194\n",
      "non_infringement       0.71      0.96      0.81       186\n",
      "\n",
      "        accuracy                           0.79       380\n",
      "       macro avg       0.82      0.79      0.78       380\n",
      "    weighted avg       0.83      0.79      0.78       380\n",
      "\n"
     ]
    },
    {
     "name": "stderr",
     "output_type": "stream",
     "text": [
      "Training Epochs:  80%|████████  | 1610/2000 [09:52<05:40,  1.15it/s]"
     ]
    },
    {
     "name": "stdout",
     "output_type": "stream",
     "text": [
      "Epoch 1610/2000, Loss: 0.0805\n",
      "Test Accuracy at Epoch 1610: 78.95%\n",
      "Test F1-score at Epoch 1610: 0.8182\n",
      "Classification Report at Epoch 1610:\n",
      "                  precision    recall  f1-score   support\n",
      "\n",
      "    infringement       0.95      0.62      0.75       194\n",
      "non_infringement       0.71      0.97      0.82       186\n",
      "\n",
      "        accuracy                           0.79       380\n",
      "       macro avg       0.83      0.79      0.78       380\n",
      "    weighted avg       0.83      0.79      0.78       380\n",
      "\n"
     ]
    },
    {
     "name": "stderr",
     "output_type": "stream",
     "text": [
      "Training Epochs:  81%|████████  | 1620/2000 [10:00<05:18,  1.19it/s]"
     ]
    },
    {
     "name": "stdout",
     "output_type": "stream",
     "text": [
      "Epoch 1620/2000, Loss: 0.0767\n",
      "Test Accuracy at Epoch 1620: 78.68%\n",
      "Test F1-score at Epoch 1620: 0.8146\n",
      "Classification Report at Epoch 1620:\n",
      "                  precision    recall  f1-score   support\n",
      "\n",
      "    infringement       0.94      0.62      0.75       194\n",
      "non_infringement       0.71      0.96      0.81       186\n",
      "\n",
      "        accuracy                           0.79       380\n",
      "       macro avg       0.82      0.79      0.78       380\n",
      "    weighted avg       0.83      0.79      0.78       380\n",
      "\n"
     ]
    },
    {
     "name": "stderr",
     "output_type": "stream",
     "text": [
      "Training Epochs:  82%|████████▏ | 1630/2000 [10:06<04:19,  1.43it/s]"
     ]
    },
    {
     "name": "stdout",
     "output_type": "stream",
     "text": [
      "Epoch 1630/2000, Loss: 0.0848\n",
      "Test Accuracy at Epoch 1630: 77.63%\n",
      "Test F1-score at Epoch 1630: 0.8037\n",
      "Classification Report at Epoch 1630:\n",
      "                  precision    recall  f1-score   support\n",
      "\n",
      "    infringement       0.91      0.62      0.74       194\n",
      "non_infringement       0.70      0.94      0.80       186\n",
      "\n",
      "        accuracy                           0.78       380\n",
      "       macro avg       0.81      0.78      0.77       380\n",
      "    weighted avg       0.81      0.78      0.77       380\n",
      "\n"
     ]
    },
    {
     "name": "stderr",
     "output_type": "stream",
     "text": [
      "Training Epochs:  82%|████████▏ | 1640/2000 [10:13<04:14,  1.41it/s]"
     ]
    },
    {
     "name": "stdout",
     "output_type": "stream",
     "text": [
      "Epoch 1640/2000, Loss: 0.0815\n",
      "Test Accuracy at Epoch 1640: 78.95%\n",
      "Test F1-score at Epoch 1640: 0.8182\n",
      "Classification Report at Epoch 1640:\n",
      "                  precision    recall  f1-score   support\n",
      "\n",
      "    infringement       0.95      0.62      0.75       194\n",
      "non_infringement       0.71      0.97      0.82       186\n",
      "\n",
      "        accuracy                           0.79       380\n",
      "       macro avg       0.83      0.79      0.78       380\n",
      "    weighted avg       0.83      0.79      0.78       380\n",
      "\n"
     ]
    },
    {
     "name": "stderr",
     "output_type": "stream",
     "text": [
      "Training Epochs:  82%|████████▎ | 1650/2000 [10:20<04:12,  1.39it/s]"
     ]
    },
    {
     "name": "stdout",
     "output_type": "stream",
     "text": [
      "Epoch 1650/2000, Loss: 0.0772\n",
      "Test Accuracy at Epoch 1650: 78.16%\n",
      "Test F1-score at Epoch 1650: 0.8092\n",
      "Classification Report at Epoch 1650:\n",
      "                  precision    recall  f1-score   support\n",
      "\n",
      "    infringement       0.92      0.62      0.74       194\n",
      "non_infringement       0.71      0.95      0.81       186\n",
      "\n",
      "        accuracy                           0.78       380\n",
      "       macro avg       0.82      0.78      0.78       380\n",
      "    weighted avg       0.82      0.78      0.78       380\n",
      "\n"
     ]
    },
    {
     "name": "stderr",
     "output_type": "stream",
     "text": [
      "Training Epochs:  83%|████████▎ | 1660/2000 [10:27<04:21,  1.30it/s]"
     ]
    },
    {
     "name": "stdout",
     "output_type": "stream",
     "text": [
      "Epoch 1660/2000, Loss: 0.0795\n",
      "Test Accuracy at Epoch 1660: 78.16%\n",
      "Test F1-score at Epoch 1660: 0.8092\n",
      "Classification Report at Epoch 1660:\n",
      "                  precision    recall  f1-score   support\n",
      "\n",
      "    infringement       0.92      0.62      0.74       194\n",
      "non_infringement       0.71      0.95      0.81       186\n",
      "\n",
      "        accuracy                           0.78       380\n",
      "       macro avg       0.82      0.78      0.78       380\n",
      "    weighted avg       0.82      0.78      0.78       380\n",
      "\n"
     ]
    },
    {
     "name": "stderr",
     "output_type": "stream",
     "text": [
      "Training Epochs:  84%|████████▎ | 1670/2000 [10:34<04:27,  1.23it/s]"
     ]
    },
    {
     "name": "stdout",
     "output_type": "stream",
     "text": [
      "Epoch 1670/2000, Loss: 0.0792\n",
      "Test Accuracy at Epoch 1670: 78.68%\n",
      "Test F1-score at Epoch 1670: 0.8155\n",
      "Classification Report at Epoch 1670:\n",
      "                  precision    recall  f1-score   support\n",
      "\n",
      "    infringement       0.94      0.62      0.75       194\n",
      "non_infringement       0.71      0.96      0.82       186\n",
      "\n",
      "        accuracy                           0.79       380\n",
      "       macro avg       0.83      0.79      0.78       380\n",
      "    weighted avg       0.83      0.79      0.78       380\n",
      "\n"
     ]
    },
    {
     "name": "stderr",
     "output_type": "stream",
     "text": [
      "Training Epochs:  84%|████████▍ | 1680/2000 [10:41<04:06,  1.30it/s]"
     ]
    },
    {
     "name": "stdout",
     "output_type": "stream",
     "text": [
      "Epoch 1680/2000, Loss: 0.0764\n",
      "Test Accuracy at Epoch 1680: 78.95%\n",
      "Test F1-score at Epoch 1680: 0.8174\n",
      "Classification Report at Epoch 1680:\n",
      "                  precision    recall  f1-score   support\n",
      "\n",
      "    infringement       0.95      0.62      0.75       194\n",
      "non_infringement       0.71      0.96      0.82       186\n",
      "\n",
      "        accuracy                           0.79       380\n",
      "       macro avg       0.83      0.79      0.78       380\n",
      "    weighted avg       0.83      0.79      0.78       380\n",
      "\n"
     ]
    },
    {
     "name": "stderr",
     "output_type": "stream",
     "text": [
      "Training Epochs:  84%|████████▍ | 1690/2000 [10:50<04:22,  1.18it/s]"
     ]
    },
    {
     "name": "stdout",
     "output_type": "stream",
     "text": [
      "Epoch 1690/2000, Loss: 0.0819\n",
      "Test Accuracy at Epoch 1690: 77.63%\n",
      "Test F1-score at Epoch 1690: 0.8037\n",
      "Classification Report at Epoch 1690:\n",
      "                  precision    recall  f1-score   support\n",
      "\n",
      "    infringement       0.91      0.62      0.74       194\n",
      "non_infringement       0.70      0.94      0.80       186\n",
      "\n",
      "        accuracy                           0.78       380\n",
      "       macro avg       0.81      0.78      0.77       380\n",
      "    weighted avg       0.81      0.78      0.77       380\n",
      "\n"
     ]
    },
    {
     "name": "stderr",
     "output_type": "stream",
     "text": [
      "Training Epochs:  85%|████████▍ | 1699/2000 [10:57<04:02,  1.24it/s]"
     ]
    },
    {
     "name": "stdout",
     "output_type": "stream",
     "text": [
      "Epoch 1700/2000, Loss: 0.0822\n"
     ]
    },
    {
     "name": "stderr",
     "output_type": "stream",
     "text": [
      "Training Epochs:  85%|████████▌ | 1700/2000 [10:58<04:32,  1.10it/s]"
     ]
    },
    {
     "name": "stdout",
     "output_type": "stream",
     "text": [
      "Test Accuracy at Epoch 1700: 78.16%\n",
      "Test F1-score at Epoch 1700: 0.8135\n",
      "Classification Report at Epoch 1700:\n",
      "                  precision    recall  f1-score   support\n",
      "\n",
      "    infringement       0.96      0.60      0.74       194\n",
      "non_infringement       0.70      0.97      0.81       186\n",
      "\n",
      "        accuracy                           0.78       380\n",
      "       macro avg       0.83      0.79      0.77       380\n",
      "    weighted avg       0.83      0.78      0.77       380\n",
      "\n"
     ]
    },
    {
     "name": "stderr",
     "output_type": "stream",
     "text": [
      "Training Epochs:  86%|████████▌ | 1710/2000 [11:06<04:13,  1.15it/s]"
     ]
    },
    {
     "name": "stdout",
     "output_type": "stream",
     "text": [
      "Epoch 1710/2000, Loss: 0.0803\n",
      "Test Accuracy at Epoch 1710: 77.63%\n",
      "Test F1-score at Epoch 1710: 0.8037\n",
      "Classification Report at Epoch 1710:\n",
      "                  precision    recall  f1-score   support\n",
      "\n",
      "    infringement       0.91      0.62      0.74       194\n",
      "non_infringement       0.70      0.94      0.80       186\n",
      "\n",
      "        accuracy                           0.78       380\n",
      "       macro avg       0.81      0.78      0.77       380\n",
      "    weighted avg       0.81      0.78      0.77       380\n",
      "\n"
     ]
    },
    {
     "name": "stderr",
     "output_type": "stream",
     "text": [
      "Training Epochs:  86%|████████▌ | 1719/2000 [11:13<03:31,  1.33it/s]"
     ]
    },
    {
     "name": "stdout",
     "output_type": "stream",
     "text": [
      "Epoch 1720/2000, Loss: 0.0765\n"
     ]
    },
    {
     "name": "stderr",
     "output_type": "stream",
     "text": [
      "Training Epochs:  86%|████████▌ | 1720/2000 [11:14<03:55,  1.19it/s]"
     ]
    },
    {
     "name": "stdout",
     "output_type": "stream",
     "text": [
      "Test Accuracy at Epoch 1720: 78.68%\n",
      "Test F1-score at Epoch 1720: 0.8155\n",
      "Classification Report at Epoch 1720:\n",
      "                  precision    recall  f1-score   support\n",
      "\n",
      "    infringement       0.94      0.62      0.75       194\n",
      "non_infringement       0.71      0.96      0.82       186\n",
      "\n",
      "        accuracy                           0.79       380\n",
      "       macro avg       0.83      0.79      0.78       380\n",
      "    weighted avg       0.83      0.79      0.78       380\n",
      "\n"
     ]
    },
    {
     "name": "stderr",
     "output_type": "stream",
     "text": [
      "Training Epochs:  86%|████████▋ | 1730/2000 [11:21<02:49,  1.59it/s]"
     ]
    },
    {
     "name": "stdout",
     "output_type": "stream",
     "text": [
      "Epoch 1730/2000, Loss: 0.0790\n",
      "Test Accuracy at Epoch 1730: 78.95%\n",
      "Test F1-score at Epoch 1730: 0.8182\n",
      "Classification Report at Epoch 1730:\n",
      "                  precision    recall  f1-score   support\n",
      "\n",
      "    infringement       0.95      0.62      0.75       194\n",
      "non_infringement       0.71      0.97      0.82       186\n",
      "\n",
      "        accuracy                           0.79       380\n",
      "       macro avg       0.83      0.79      0.78       380\n",
      "    weighted avg       0.83      0.79      0.78       380\n",
      "\n"
     ]
    },
    {
     "name": "stderr",
     "output_type": "stream",
     "text": [
      "Training Epochs:  87%|████████▋ | 1740/2000 [11:27<03:00,  1.44it/s]"
     ]
    },
    {
     "name": "stdout",
     "output_type": "stream",
     "text": [
      "Epoch 1740/2000, Loss: 0.0766\n",
      "Test Accuracy at Epoch 1740: 78.68%\n",
      "Test F1-score at Epoch 1740: 0.8146\n",
      "Classification Report at Epoch 1740:\n",
      "                  precision    recall  f1-score   support\n",
      "\n",
      "    infringement       0.94      0.62      0.75       194\n",
      "non_infringement       0.71      0.96      0.81       186\n",
      "\n",
      "        accuracy                           0.79       380\n",
      "       macro avg       0.82      0.79      0.78       380\n",
      "    weighted avg       0.83      0.79      0.78       380\n",
      "\n"
     ]
    },
    {
     "name": "stderr",
     "output_type": "stream",
     "text": [
      "Training Epochs:  88%|████████▊ | 1750/2000 [11:34<02:32,  1.64it/s]"
     ]
    },
    {
     "name": "stdout",
     "output_type": "stream",
     "text": [
      "Epoch 1750/2000, Loss: 0.0817\n",
      "Test Accuracy at Epoch 1750: 77.63%\n",
      "Test F1-score at Epoch 1750: 0.8037\n",
      "Classification Report at Epoch 1750:\n",
      "                  precision    recall  f1-score   support\n",
      "\n",
      "    infringement       0.91      0.62      0.74       194\n",
      "non_infringement       0.70      0.94      0.80       186\n",
      "\n",
      "        accuracy                           0.78       380\n",
      "       macro avg       0.81      0.78      0.77       380\n",
      "    weighted avg       0.81      0.78      0.77       380\n",
      "\n"
     ]
    },
    {
     "name": "stderr",
     "output_type": "stream",
     "text": [
      "Training Epochs:  88%|████████▊ | 1760/2000 [11:40<02:24,  1.66it/s]"
     ]
    },
    {
     "name": "stdout",
     "output_type": "stream",
     "text": [
      "Epoch 1760/2000, Loss: 0.0796\n",
      "Test Accuracy at Epoch 1760: 78.95%\n",
      "Test F1-score at Epoch 1760: 0.8182\n",
      "Classification Report at Epoch 1760:\n",
      "                  precision    recall  f1-score   support\n",
      "\n",
      "    infringement       0.95      0.62      0.75       194\n",
      "non_infringement       0.71      0.97      0.82       186\n",
      "\n",
      "        accuracy                           0.79       380\n",
      "       macro avg       0.83      0.79      0.78       380\n",
      "    weighted avg       0.83      0.79      0.78       380\n",
      "\n"
     ]
    },
    {
     "name": "stderr",
     "output_type": "stream",
     "text": [
      "Training Epochs:  88%|████████▊ | 1770/2000 [11:46<02:47,  1.38it/s]"
     ]
    },
    {
     "name": "stdout",
     "output_type": "stream",
     "text": [
      "Epoch 1770/2000, Loss: 0.0771\n",
      "Test Accuracy at Epoch 1770: 77.63%\n",
      "Test F1-score at Epoch 1770: 0.8037\n",
      "Classification Report at Epoch 1770:\n",
      "                  precision    recall  f1-score   support\n",
      "\n",
      "    infringement       0.91      0.62      0.74       194\n",
      "non_infringement       0.70      0.94      0.80       186\n",
      "\n",
      "        accuracy                           0.78       380\n",
      "       macro avg       0.81      0.78      0.77       380\n",
      "    weighted avg       0.81      0.78      0.77       380\n",
      "\n"
     ]
    },
    {
     "name": "stderr",
     "output_type": "stream",
     "text": [
      "Training Epochs:  89%|████████▉ | 1780/2000 [11:54<03:00,  1.22it/s]"
     ]
    },
    {
     "name": "stdout",
     "output_type": "stream",
     "text": [
      "Epoch 1780/2000, Loss: 0.0772\n",
      "Test Accuracy at Epoch 1780: 78.95%\n",
      "Test F1-score at Epoch 1780: 0.8174\n",
      "Classification Report at Epoch 1780:\n",
      "                  precision    recall  f1-score   support\n",
      "\n",
      "    infringement       0.95      0.62      0.75       194\n",
      "non_infringement       0.71      0.96      0.82       186\n",
      "\n",
      "        accuracy                           0.79       380\n",
      "       macro avg       0.83      0.79      0.78       380\n",
      "    weighted avg       0.83      0.79      0.78       380\n",
      "\n"
     ]
    },
    {
     "name": "stderr",
     "output_type": "stream",
     "text": [
      "Training Epochs:  90%|████████▉ | 1790/2000 [12:01<02:46,  1.26it/s]"
     ]
    },
    {
     "name": "stdout",
     "output_type": "stream",
     "text": [
      "Epoch 1790/2000, Loss: 0.0780\n",
      "Test Accuracy at Epoch 1790: 78.95%\n",
      "Test F1-score at Epoch 1790: 0.8182\n",
      "Classification Report at Epoch 1790:\n",
      "                  precision    recall  f1-score   support\n",
      "\n",
      "    infringement       0.95      0.62      0.75       194\n",
      "non_infringement       0.71      0.97      0.82       186\n",
      "\n",
      "        accuracy                           0.79       380\n",
      "       macro avg       0.83      0.79      0.78       380\n",
      "    weighted avg       0.83      0.79      0.78       380\n",
      "\n"
     ]
    },
    {
     "name": "stderr",
     "output_type": "stream",
     "text": [
      "Training Epochs:  90%|█████████ | 1800/2000 [12:09<02:38,  1.26it/s]"
     ]
    },
    {
     "name": "stdout",
     "output_type": "stream",
     "text": [
      "Epoch 1800/2000, Loss: 0.0761\n",
      "Test Accuracy at Epoch 1800: 78.95%\n",
      "Test F1-score at Epoch 1800: 0.8174\n",
      "Classification Report at Epoch 1800:\n",
      "                  precision    recall  f1-score   support\n",
      "\n",
      "    infringement       0.95      0.62      0.75       194\n",
      "non_infringement       0.71      0.96      0.82       186\n",
      "\n",
      "        accuracy                           0.79       380\n",
      "       macro avg       0.83      0.79      0.78       380\n",
      "    weighted avg       0.83      0.79      0.78       380\n",
      "\n"
     ]
    },
    {
     "name": "stderr",
     "output_type": "stream",
     "text": [
      "Training Epochs:  90%|█████████ | 1810/2000 [12:17<02:40,  1.18it/s]"
     ]
    },
    {
     "name": "stdout",
     "output_type": "stream",
     "text": [
      "Epoch 1810/2000, Loss: 0.0857\n",
      "Test Accuracy at Epoch 1810: 77.63%\n",
      "Test F1-score at Epoch 1810: 0.8037\n",
      "Classification Report at Epoch 1810:\n",
      "                  precision    recall  f1-score   support\n",
      "\n",
      "    infringement       0.91      0.62      0.74       194\n",
      "non_infringement       0.70      0.94      0.80       186\n",
      "\n",
      "        accuracy                           0.78       380\n",
      "       macro avg       0.81      0.78      0.77       380\n",
      "    weighted avg       0.81      0.78      0.77       380\n",
      "\n"
     ]
    },
    {
     "name": "stderr",
     "output_type": "stream",
     "text": [
      "Training Epochs:  91%|█████████ | 1819/2000 [12:25<02:24,  1.25it/s]"
     ]
    },
    {
     "name": "stdout",
     "output_type": "stream",
     "text": [
      "Epoch 1820/2000, Loss: 0.0805\n"
     ]
    },
    {
     "name": "stderr",
     "output_type": "stream",
     "text": [
      "Training Epochs:  91%|█████████ | 1820/2000 [12:26<02:35,  1.16it/s]"
     ]
    },
    {
     "name": "stdout",
     "output_type": "stream",
     "text": [
      "Test Accuracy at Epoch 1820: 78.95%\n",
      "Test F1-score at Epoch 1820: 0.8190\n",
      "Classification Report at Epoch 1820:\n",
      "                  precision    recall  f1-score   support\n",
      "\n",
      "    infringement       0.96      0.61      0.75       194\n",
      "non_infringement       0.71      0.97      0.82       186\n",
      "\n",
      "        accuracy                           0.79       380\n",
      "       macro avg       0.83      0.79      0.78       380\n",
      "    weighted avg       0.84      0.79      0.78       380\n",
      "\n"
     ]
    },
    {
     "name": "stderr",
     "output_type": "stream",
     "text": [
      "Training Epochs:  92%|█████████▏| 1830/2000 [12:34<02:17,  1.24it/s]"
     ]
    },
    {
     "name": "stdout",
     "output_type": "stream",
     "text": [
      "Epoch 1830/2000, Loss: 0.0786\n",
      "Test Accuracy at Epoch 1830: 77.63%\n",
      "Test F1-score at Epoch 1830: 0.8037\n",
      "Classification Report at Epoch 1830:\n",
      "                  precision    recall  f1-score   support\n",
      "\n",
      "    infringement       0.91      0.62      0.74       194\n",
      "non_infringement       0.70      0.94      0.80       186\n",
      "\n",
      "        accuracy                           0.78       380\n",
      "       macro avg       0.81      0.78      0.77       380\n",
      "    weighted avg       0.81      0.78      0.77       380\n",
      "\n"
     ]
    },
    {
     "name": "stderr",
     "output_type": "stream",
     "text": [
      "Training Epochs:  92%|█████████▏| 1840/2000 [12:42<02:13,  1.20it/s]"
     ]
    },
    {
     "name": "stdout",
     "output_type": "stream",
     "text": [
      "Epoch 1840/2000, Loss: 0.0760\n",
      "Test Accuracy at Epoch 1840: 78.95%\n",
      "Test F1-score at Epoch 1840: 0.8182\n",
      "Classification Report at Epoch 1840:\n",
      "                  precision    recall  f1-score   support\n",
      "\n",
      "    infringement       0.95      0.62      0.75       194\n",
      "non_infringement       0.71      0.97      0.82       186\n",
      "\n",
      "        accuracy                           0.79       380\n",
      "       macro avg       0.83      0.79      0.78       380\n",
      "    weighted avg       0.83      0.79      0.78       380\n",
      "\n"
     ]
    },
    {
     "name": "stderr",
     "output_type": "stream",
     "text": [
      "Training Epochs:  92%|█████████▏| 1849/2000 [12:49<01:59,  1.26it/s]"
     ]
    },
    {
     "name": "stdout",
     "output_type": "stream",
     "text": [
      "Epoch 1850/2000, Loss: 0.0775\n",
      "Test Accuracy at Epoch 1850: 79.21%\n",
      "Test F1-score at Epoch 1850: 0.8209\n"
     ]
    },
    {
     "name": "stderr",
     "output_type": "stream",
     "text": [
      "Training Epochs:  92%|█████████▎| 1850/2000 [12:50<02:03,  1.21it/s]"
     ]
    },
    {
     "name": "stdout",
     "output_type": "stream",
     "text": [
      "Classification Report at Epoch 1850:\n",
      "                  precision    recall  f1-score   support\n",
      "\n",
      "    infringement       0.96      0.62      0.75       194\n",
      "non_infringement       0.71      0.97      0.82       186\n",
      "\n",
      "        accuracy                           0.79       380\n",
      "       macro avg       0.83      0.80      0.79       380\n",
      "    weighted avg       0.84      0.79      0.79       380\n",
      "\n"
     ]
    },
    {
     "name": "stderr",
     "output_type": "stream",
     "text": [
      "Training Epochs:  93%|█████████▎| 1859/2000 [12:57<01:45,  1.33it/s]"
     ]
    },
    {
     "name": "stdout",
     "output_type": "stream",
     "text": [
      "Epoch 1860/2000, Loss: 0.0759\n"
     ]
    },
    {
     "name": "stderr",
     "output_type": "stream",
     "text": [
      "Training Epochs:  93%|█████████▎| 1860/2000 [12:58<01:56,  1.20it/s]"
     ]
    },
    {
     "name": "stdout",
     "output_type": "stream",
     "text": [
      "Test Accuracy at Epoch 1860: 78.42%\n",
      "Test F1-score at Epoch 1860: 0.8119\n",
      "Classification Report at Epoch 1860:\n",
      "                  precision    recall  f1-score   support\n",
      "\n",
      "    infringement       0.93      0.62      0.75       194\n",
      "non_infringement       0.71      0.95      0.81       186\n",
      "\n",
      "        accuracy                           0.78       380\n",
      "       macro avg       0.82      0.79      0.78       380\n",
      "    weighted avg       0.82      0.78      0.78       380\n",
      "\n"
     ]
    },
    {
     "name": "stderr",
     "output_type": "stream",
     "text": [
      "Training Epochs:  94%|█████████▎| 1870/2000 [13:05<01:36,  1.35it/s]"
     ]
    },
    {
     "name": "stdout",
     "output_type": "stream",
     "text": [
      "Epoch 1870/2000, Loss: 0.0850\n",
      "Test Accuracy at Epoch 1870: 77.63%\n",
      "Test F1-score at Epoch 1870: 0.8037\n",
      "Classification Report at Epoch 1870:\n",
      "                  precision    recall  f1-score   support\n",
      "\n",
      "    infringement       0.91      0.62      0.74       194\n",
      "non_infringement       0.70      0.94      0.80       186\n",
      "\n",
      "        accuracy                           0.78       380\n",
      "       macro avg       0.81      0.78      0.77       380\n",
      "    weighted avg       0.81      0.78      0.77       380\n",
      "\n"
     ]
    },
    {
     "name": "stderr",
     "output_type": "stream",
     "text": [
      "Training Epochs:  94%|█████████▍| 1880/2000 [13:12<01:27,  1.37it/s]"
     ]
    },
    {
     "name": "stdout",
     "output_type": "stream",
     "text": [
      "Epoch 1880/2000, Loss: 0.0815\n",
      "Test Accuracy at Epoch 1880: 79.21%\n",
      "Test F1-score at Epoch 1880: 0.8217\n",
      "Classification Report at Epoch 1880:\n",
      "                  precision    recall  f1-score   support\n",
      "\n",
      "    infringement       0.97      0.61      0.75       194\n",
      "non_infringement       0.71      0.98      0.82       186\n",
      "\n",
      "        accuracy                           0.79       380\n",
      "       macro avg       0.84      0.80      0.79       380\n",
      "    weighted avg       0.84      0.79      0.79       380\n",
      "\n"
     ]
    },
    {
     "name": "stderr",
     "output_type": "stream",
     "text": [
      "Training Epochs:  94%|█████████▍| 1890/2000 [13:18<01:12,  1.51it/s]"
     ]
    },
    {
     "name": "stdout",
     "output_type": "stream",
     "text": [
      "Epoch 1890/2000, Loss: 0.0778\n",
      "Test Accuracy at Epoch 1890: 77.63%\n",
      "Test F1-score at Epoch 1890: 0.8037\n",
      "Classification Report at Epoch 1890:\n",
      "                  precision    recall  f1-score   support\n",
      "\n",
      "    infringement       0.91      0.62      0.74       194\n",
      "non_infringement       0.70      0.94      0.80       186\n",
      "\n",
      "        accuracy                           0.78       380\n",
      "       macro avg       0.81      0.78      0.77       380\n",
      "    weighted avg       0.81      0.78      0.77       380\n",
      "\n"
     ]
    },
    {
     "name": "stderr",
     "output_type": "stream",
     "text": [
      "Training Epochs:  95%|█████████▌| 1900/2000 [13:23<00:39,  2.51it/s]"
     ]
    },
    {
     "name": "stdout",
     "output_type": "stream",
     "text": [
      "Epoch 1900/2000, Loss: 0.0759\n",
      "Test Accuracy at Epoch 1900: 78.95%\n",
      "Test F1-score at Epoch 1900: 0.8182\n",
      "Classification Report at Epoch 1900:\n",
      "                  precision    recall  f1-score   support\n",
      "\n",
      "    infringement       0.95      0.62      0.75       194\n",
      "non_infringement       0.71      0.97      0.82       186\n",
      "\n",
      "        accuracy                           0.79       380\n",
      "       macro avg       0.83      0.79      0.78       380\n",
      "    weighted avg       0.83      0.79      0.78       380\n",
      "\n"
     ]
    },
    {
     "name": "stderr",
     "output_type": "stream",
     "text": [
      "Training Epochs:  96%|█████████▌| 1910/2000 [13:25<00:17,  5.22it/s]"
     ]
    },
    {
     "name": "stdout",
     "output_type": "stream",
     "text": [
      "Epoch 1910/2000, Loss: 0.0775\n",
      "Test Accuracy at Epoch 1910: 79.47%\n",
      "Test F1-score at Epoch 1910: 0.8235\n",
      "Classification Report at Epoch 1910:\n",
      "                  precision    recall  f1-score   support\n",
      "\n",
      "    infringement       0.97      0.62      0.75       194\n",
      "non_infringement       0.71      0.98      0.82       186\n",
      "\n",
      "        accuracy                           0.79       380\n",
      "       macro avg       0.84      0.80      0.79       380\n",
      "    weighted avg       0.84      0.79      0.79       380\n",
      "\n"
     ]
    },
    {
     "name": "stderr",
     "output_type": "stream",
     "text": [
      "Training Epochs:  96%|█████████▌| 1919/2000 [13:27<00:13,  6.12it/s]"
     ]
    },
    {
     "name": "stdout",
     "output_type": "stream",
     "text": [
      "Epoch 1920/2000, Loss: 0.0758\n",
      "Test Accuracy at Epoch 1920: 78.68%\n",
      "Test F1-score at Epoch 1920: 0.8146\n",
      "Classification Report at Epoch 1920:\n",
      "                  precision    recall  f1-score   support\n",
      "\n",
      "    infringement       0.94      0.62      0.75       194\n",
      "non_infringement       0.71      0.96      0.81       186\n",
      "\n",
      "        accuracy                           0.79       380\n",
      "       macro avg       0.82      0.79      0.78       380\n",
      "    weighted avg       0.83      0.79      0.78       380\n",
      "\n"
     ]
    },
    {
     "name": "stderr",
     "output_type": "stream",
     "text": [
      "Training Epochs:  97%|█████████▋| 1931/2000 [13:28<00:04, 14.31it/s]"
     ]
    },
    {
     "name": "stdout",
     "output_type": "stream",
     "text": [
      "Epoch 1930/2000, Loss: 0.0841\n",
      "Test Accuracy at Epoch 1930: 77.89%\n",
      "Test F1-score at Epoch 1930: 0.8065\n",
      "Classification Report at Epoch 1930:\n",
      "                  precision    recall  f1-score   support\n",
      "\n",
      "    infringement       0.92      0.62      0.74       194\n",
      "non_infringement       0.71      0.94      0.81       186\n",
      "\n",
      "        accuracy                           0.78       380\n",
      "       macro avg       0.81      0.78      0.77       380\n",
      "    weighted avg       0.81      0.78      0.77       380\n",
      "\n"
     ]
    },
    {
     "name": "stderr",
     "output_type": "stream",
     "text": [
      "Training Epochs:  97%|█████████▋| 1939/2000 [13:33<00:35,  1.72it/s]"
     ]
    },
    {
     "name": "stdout",
     "output_type": "stream",
     "text": [
      "Epoch 1940/2000, Loss: 0.0809\n"
     ]
    },
    {
     "name": "stderr",
     "output_type": "stream",
     "text": [
      "Training Epochs:  97%|█████████▋| 1940/2000 [13:34<00:40,  1.48it/s]"
     ]
    },
    {
     "name": "stdout",
     "output_type": "stream",
     "text": [
      "Test Accuracy at Epoch 1940: 79.21%\n",
      "Test F1-score at Epoch 1940: 0.8217\n",
      "Classification Report at Epoch 1940:\n",
      "                  precision    recall  f1-score   support\n",
      "\n",
      "    infringement       0.97      0.61      0.75       194\n",
      "non_infringement       0.71      0.98      0.82       186\n",
      "\n",
      "        accuracy                           0.79       380\n",
      "       macro avg       0.84      0.80      0.79       380\n",
      "    weighted avg       0.84      0.79      0.79       380\n",
      "\n"
     ]
    },
    {
     "name": "stderr",
     "output_type": "stream",
     "text": [
      "Training Epochs:  98%|█████████▊| 1950/2000 [13:42<00:40,  1.24it/s]"
     ]
    },
    {
     "name": "stdout",
     "output_type": "stream",
     "text": [
      "Epoch 1950/2000, Loss: 0.0763\n",
      "Test Accuracy at Epoch 1950: 77.89%\n",
      "Test F1-score at Epoch 1950: 0.8065\n",
      "Classification Report at Epoch 1950:\n",
      "                  precision    recall  f1-score   support\n",
      "\n",
      "    infringement       0.92      0.62      0.74       194\n",
      "non_infringement       0.71      0.94      0.81       186\n",
      "\n",
      "        accuracy                           0.78       380\n",
      "       macro avg       0.81      0.78      0.77       380\n",
      "    weighted avg       0.81      0.78      0.77       380\n",
      "\n"
     ]
    },
    {
     "name": "stderr",
     "output_type": "stream",
     "text": [
      "Training Epochs:  98%|█████████▊| 1959/2000 [13:48<00:28,  1.43it/s]"
     ]
    },
    {
     "name": "stdout",
     "output_type": "stream",
     "text": [
      "Epoch 1960/2000, Loss: 0.0778\n"
     ]
    },
    {
     "name": "stderr",
     "output_type": "stream",
     "text": [
      "Training Epochs:  98%|█████████▊| 1960/2000 [13:49<00:31,  1.26it/s]"
     ]
    },
    {
     "name": "stdout",
     "output_type": "stream",
     "text": [
      "Test Accuracy at Epoch 1960: 77.89%\n",
      "Test F1-score at Epoch 1960: 0.8065\n",
      "Classification Report at Epoch 1960:\n",
      "                  precision    recall  f1-score   support\n",
      "\n",
      "    infringement       0.92      0.62      0.74       194\n",
      "non_infringement       0.71      0.94      0.81       186\n",
      "\n",
      "        accuracy                           0.78       380\n",
      "       macro avg       0.81      0.78      0.77       380\n",
      "    weighted avg       0.81      0.78      0.77       380\n",
      "\n"
     ]
    },
    {
     "name": "stderr",
     "output_type": "stream",
     "text": [
      "Training Epochs:  98%|█████████▊| 1970/2000 [13:58<00:26,  1.12it/s]"
     ]
    },
    {
     "name": "stdout",
     "output_type": "stream",
     "text": [
      "Epoch 1970/2000, Loss: 0.0786\n",
      "Test Accuracy at Epoch 1970: 79.21%\n",
      "Test F1-score at Epoch 1970: 0.8217\n",
      "Classification Report at Epoch 1970:\n",
      "                  precision    recall  f1-score   support\n",
      "\n",
      "    infringement       0.97      0.61      0.75       194\n",
      "non_infringement       0.71      0.98      0.82       186\n",
      "\n",
      "        accuracy                           0.79       380\n",
      "       macro avg       0.84      0.80      0.79       380\n",
      "    weighted avg       0.84      0.79      0.79       380\n",
      "\n"
     ]
    },
    {
     "name": "stderr",
     "output_type": "stream",
     "text": [
      "Training Epochs:  99%|█████████▉| 1979/2000 [14:05<00:17,  1.23it/s]"
     ]
    },
    {
     "name": "stdout",
     "output_type": "stream",
     "text": [
      "Epoch 1980/2000, Loss: 0.0756\n"
     ]
    },
    {
     "name": "stderr",
     "output_type": "stream",
     "text": [
      "Training Epochs:  99%|█████████▉| 1980/2000 [14:06<00:17,  1.16it/s]"
     ]
    },
    {
     "name": "stdout",
     "output_type": "stream",
     "text": [
      "Test Accuracy at Epoch 1980: 78.68%\n",
      "Test F1-score at Epoch 1980: 0.8155\n",
      "Classification Report at Epoch 1980:\n",
      "                  precision    recall  f1-score   support\n",
      "\n",
      "    infringement       0.94      0.62      0.75       194\n",
      "non_infringement       0.71      0.96      0.82       186\n",
      "\n",
      "        accuracy                           0.79       380\n",
      "       macro avg       0.83      0.79      0.78       380\n",
      "    weighted avg       0.83      0.79      0.78       380\n",
      "\n"
     ]
    },
    {
     "name": "stderr",
     "output_type": "stream",
     "text": [
      "Training Epochs: 100%|█████████▉| 1990/2000 [14:15<00:09,  1.09it/s]"
     ]
    },
    {
     "name": "stdout",
     "output_type": "stream",
     "text": [
      "Epoch 1990/2000, Loss: 0.0773\n",
      "Test Accuracy at Epoch 1990: 77.89%\n",
      "Test F1-score at Epoch 1990: 0.8065\n",
      "Classification Report at Epoch 1990:\n",
      "                  precision    recall  f1-score   support\n",
      "\n",
      "    infringement       0.92      0.62      0.74       194\n",
      "non_infringement       0.71      0.94      0.81       186\n",
      "\n",
      "        accuracy                           0.78       380\n",
      "       macro avg       0.81      0.78      0.77       380\n",
      "    weighted avg       0.81      0.78      0.77       380\n",
      "\n"
     ]
    },
    {
     "name": "stderr",
     "output_type": "stream",
     "text": [
      "Training Epochs: 100%|██████████| 2000/2000 [14:23<00:00,  2.32it/s]"
     ]
    },
    {
     "name": "stdout",
     "output_type": "stream",
     "text": [
      "Epoch 2000/2000, Loss: 0.0758\n",
      "Test Accuracy at Epoch 2000: 79.21%\n",
      "Test F1-score at Epoch 2000: 0.8217\n",
      "Classification Report at Epoch 2000:\n",
      "                  precision    recall  f1-score   support\n",
      "\n",
      "    infringement       0.97      0.61      0.75       194\n",
      "non_infringement       0.71      0.98      0.82       186\n",
      "\n",
      "        accuracy                           0.79       380\n",
      "       macro avg       0.84      0.80      0.79       380\n",
      "    weighted avg       0.84      0.79      0.79       380\n",
      "\n"
     ]
    },
    {
     "name": "stderr",
     "output_type": "stream",
     "text": [
      "\n",
      "/tmp/ipykernel_114262/2033666368.py:59: FutureWarning: You are using `torch.load` with `weights_only=False` (the current default value), which uses the default pickle module implicitly. It is possible to construct malicious pickle data which will execute arbitrary code during unpickling (See https://github.com/pytorch/pytorch/blob/main/SECURITY.md#untrusted-models for more details). In a future release, the default value for `weights_only` will be flipped to `True`. This limits the functions that could be executed during unpickling. Arbitrary objects will no longer be allowed to be loaded via this mode unless they are explicitly allowlisted by the user via `torch.serialization.add_safe_globals`. We recommend you start setting `weights_only=True` for any use case where you don't have full control of the loaded file. Please open an issue on GitHub for any issues related to this experimental feature.\n",
      "  custom_mlp.load_state_dict(torch.load(checkpoint_path))\n"
     ]
    },
    {
     "data": {
      "image/png": "[encoded data removed]",
      "text/plain": [
       "<Figure size 1000x500 with 1 Axes>"
      ]
     },
     "metadata": {},
     "output_type": "display_data"
    },
    {
     "name": "stdout",
     "output_type": "stream",
     "text": [
      "Final Model Accuracy: 83.95%\n",
      "Final Model F1-score: 0.8544\n"
     ]
    }
   ],
   "source": [
    "input_dim = X_train.shape[1]\n",
    "hidden_dim = 256 \n",
    "print(f\"Training MLP model with input_dim={input_dim} and hidden_dim={hidden_dim}\")\n",
    "\n",
    "custom_mlp, losses, best_accuracy, best_f1 = train_model(X_train, y_train, X_test, y_test, input_dim, hidden_dim)"
   ]
  },
  {
   "cell_type": "code",
   "execution_count": 10,
   "metadata": {},
   "outputs": [
    {
     "name": "stdout",
     "output_type": "stream",
     "text": [
      "Checkpoint saved to '/home/guangwei/LLM-COPYRIGHT/copyright_newVersion/models/train_input_reference_0_layer.pth'.\n"
     ]
    }
   ],
   "source": [
    "def save_checkpoint(model, optimizer, epoch, loss, filepath):\n",
    "    checkpoint = {\n",
    "        'epoch': epoch + 1,\n",
    "        'model_state_dict': model.state_dict(),\n",
    "        'optimizer_state_dict': optimizer.state_dict(),\n",
    "        'loss': loss\n",
    "    }\n",
    "    torch.save(checkpoint, filepath)\n",
    "    print(f\"Checkpoint saved to '{filepath}'.\")\n",
    "\n",
    "save_checkpoint(custom_mlp, torch.optim.Adam(custom_mlp.parameters()), len(losses), losses[-1], checkpoint_file)"
   ]
  },
  {
   "cell_type": "code",
   "execution_count": null,
   "metadata": {},
   "outputs": [
    {
     "name": "stdout",
     "output_type": "stream",
     "text": [
      "                  precision    recall  f1-score   support\n",
      "\n",
      "    infringement       0.95      0.72      0.82       194\n",
      "non_infringement       0.77      0.96      0.85       186\n",
      "\n",
      "        accuracy                           0.84       380\n",
      "       macro avg       0.86      0.84      0.84       380\n",
      "    weighted avg       0.86      0.84      0.84       380\n",
      "\n"
     ]
    },
    {
     "name": "stderr",
     "output_type": "stream",
     "text": [
      "/tmp/ipykernel_114262/2137335780.py:1: UserWarning: To copy construct from a tensor, it is recommended to use sourceTensor.clone().detach() or sourceTensor.clone().detach().requires_grad_(True), rather than torch.tensor(sourceTensor).\n",
      "  y_pred_final = (torch.sigmoid(torch.tensor(custom_mlp(torch.tensor(X_test, dtype=torch.float32)))) > 0.5).float().numpy()\n"
     ]
    },
    {
     "ename": "",
     "evalue": "",
     "output_type": "error",
     "traceback": [
      "\u001b[1;31mThe Kernel crashed while executing code in the current cell or a previous cell. \n",
      "\u001b[1;31mPlease review the code in the cell(s) to identify a possible cause of the failure. \n",
      "\u001b[1;31mClick <a href='https://aka.ms/vscodeJupyterKernelCrash'>here</a> for more info. \n",
      "\u001b[1;31mView Jupyter <a href='command:jupyter.viewOutput'>log</a> for further details."
     ]
    }
   ],
   "source": [
    "y_pred_final = (torch.sigmoid(torch.tensor(custom_mlp(torch.tensor(X_test, dtype=torch.float32)))) > 0.5).float().numpy()\n",
    "print(classification_report(y_test, y_pred_final, target_names=[\"infringement\", \"non_infringement\"]))"
   ]
  }
 ],
 "metadata": {
  "kernelspec": {
   "display_name": "zdh",
   "language": "python",
   "name": "python3"
  },
  "language_info": {
   "codemirror_mode": {
    "name": "ipython",
    "version": 3
   },
   "file_extension": ".py",
   "mimetype": "text/x-python",
   "name": "python",
   "nbconvert_exporter": "python",
   "pygments_lexer": "ipython3",
   "version": "3.12.3"
  }
 },
 "nbformat": 4,
 "nbformat_minor": 2
}
