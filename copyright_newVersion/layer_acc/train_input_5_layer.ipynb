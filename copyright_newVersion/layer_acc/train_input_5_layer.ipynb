{
 "cells": [
  {
   "cell_type": "code",
   "execution_count": 1,
   "metadata": {},
   "outputs": [
    {
     "name": "stderr",
     "output_type": "stream",
     "text": [
      "/home/guangwei/miniconda3/envs/zdh/lib/python3.12/site-packages/tqdm/auto.py:21: TqdmWarning: IProgress not found. Please update jupyter and ipywidgets. See https://ipywidgets.readthedocs.io/en/stable/user_install.html\n",
      "  from .autonotebook import tqdm as notebook_tqdm\n"
     ]
    }
   ],
   "source": [
    "# import packages\n",
    "import torch\n",
    "import torch.nn as nn\n",
    "import numpy as np\n",
    "from sklearn.metrics import accuracy_score, classification_report\n",
    "import matplotlib.pyplot as plt\n",
    "from tqdm import tqdm\n",
    "from transformers import AutoTokenizer, AutoModelForCausalLM\n",
    "import json\n",
    "import os\n",
    "\n",
    "os.environ[\"CUDA_VISIBLE_DEVICES\"] = \"5\"\n",
    "\n",
    "# Variables\n",
    "model_name = 'meta-llama/Meta-Llama-3.1-8B'\n",
    "non_infringement_file = '/home/guangwei/LLM-COPYRIGHT/copyright_newVersion/test_division/extra_30.non_infringement.json'\n",
    "infringement_file = '/home/guangwei/LLM-COPYRIGHT/copyright_newVersion/test_division/extra_30.infringement.json'\n",
    "checkpoint_file = '/home/guangwei/LLM-COPYRIGHT/copyright_newVersion/models/train_input_0_layer.pth'"
   ]
  },
  {
   "cell_type": "code",
   "execution_count": 2,
   "metadata": {},
   "outputs": [],
   "source": [
    "# Define CustumMLP for internal states train\n",
    "class CustomMLP(nn.Module):\n",
    "    def __init__(self, input_dim, hidden_dim):\n",
    "        super(CustomMLP, self).__init__()\n",
    "        self.down = nn.Linear(input_dim, hidden_dim)\n",
    "        self.gate = nn.Linear(input_dim, hidden_dim)\n",
    "        self.up = nn.Linear(hidden_dim, 1)\n",
    "        self.activation = nn.SiLU()\n",
    "\n",
    "    def forward(self, x):\n",
    "        down_output = self.down(x)\n",
    "        gate_output = self.gate(x)\n",
    "        gated_output = down_output * self.activation(gate_output)\n",
    "        return self.up(gated_output)"
   ]
  },
  {
   "cell_type": "code",
   "execution_count": 3,
   "metadata": {},
   "outputs": [],
   "source": [
    "# Only extract hidden states\n",
    "def extract_hidden_states(texts, model, tokenizer, batch_size=4):\n",
    "    device = torch.device(\"cuda\" if torch.cuda.is_available() else \"cpu\")\n",
    "    model.to(device)\n",
    "    model = nn.DataParallel(model)\n",
    "    hidden_states = []\n",
    "    for i in tqdm(range(0, len(texts), batch_size), desc=\"Processing data batches\"):\n",
    "        batch_texts = texts[i:i + batch_size]\n",
    "        inputs = tokenizer(batch_texts, return_tensors=\"pt\", padding=True, truncation=True).to(device)\n",
    "        with torch.no_grad():\n",
    "            outputs = model(**inputs)\n",
    "        hidden_states.append(outputs.hidden_states[5].mean(dim=1).cpu().numpy())\n",
    "    return np.vstack(hidden_states)"
   ]
  },
  {
   "cell_type": "code",
   "execution_count": 4,
   "metadata": {},
   "outputs": [],
   "source": [
    "# lode data for infringement & non infringement\n",
    "def load_data(non_infringement_file, infringement_file):\n",
    "    with open(non_infringement_file, 'r', encoding='utf-8') as file:\n",
    "        non_infringement_json_data = json.load(file)\n",
    "\n",
    "    non_infringement_outputs = [entry['input'] for entry in non_infringement_json_data]\n",
    "    y_non_infringement = [1] * len(non_infringement_outputs)\n",
    "\n",
    "    with open(infringement_file, 'r', encoding='utf-8') as file:\n",
    "        infringement_json_data = json.load(file)\n",
    "\n",
    "    infringement_outputs = [entry['input'] for entry in infringement_json_data]\n",
    "    y_infringement = [0] * len(infringement_outputs)\n",
    "\n",
    "    return non_infringement_outputs, y_non_infringement, infringement_outputs, y_infringement"
   ]
  },
  {
   "cell_type": "code",
   "execution_count": 5,
   "metadata": {},
   "outputs": [],
   "source": [
    "from sklearn.metrics import accuracy_score, classification_report, f1_score\n",
    "\n",
    "# Train for best model\n",
    "def train_model(X_train, y_train, X_test, y_test, input_dim, hidden_dim, epochs=2000, lr=0.001, checkpoint_path=checkpoint_file):\n",
    "    custom_mlp = CustomMLP(input_dim, hidden_dim)\n",
    "    criterion = nn.BCEWithLogitsLoss()\n",
    "    optimizer = torch.optim.Adam(custom_mlp.parameters(), lr=lr)\n",
    "\n",
    "    X_train_tensor = torch.tensor(X_train, dtype=torch.float32)\n",
    "    y_train_tensor = torch.tensor(y_train, dtype=torch.float32).unsqueeze(1)\n",
    "\n",
    "    best_accuracy = -float('inf')\n",
    "    best_f1 = -float('inf')  # Track best F1-score\n",
    "    best_model_state = None\n",
    "    best_epoch = 0\n",
    "    losses = []\n",
    "\n",
    "    for epoch in tqdm(range(epochs), desc=\"Training Epochs\"):\n",
    "        custom_mlp.train()\n",
    "        optimizer.zero_grad()\n",
    "        outputs = custom_mlp(X_train_tensor)\n",
    "        loss = criterion(outputs, y_train_tensor)\n",
    "        loss.backward()\n",
    "        optimizer.step()\n",
    "        losses.append(loss.item())\n",
    "\n",
    "        # Every 10 epochs, evaluate the model\n",
    "        if (epoch + 1) % 10 == 0:\n",
    "            print(f\"Epoch {epoch + 1}/{epochs}, Loss: {loss.item():.4f}\")\n",
    "            \n",
    "            custom_mlp.eval()\n",
    "            X_test_tensor = torch.tensor(X_test, dtype=torch.float32)\n",
    "            with torch.no_grad():\n",
    "                y_pred_logits = custom_mlp(X_test_tensor)\n",
    "                y_pred = (torch.sigmoid(y_pred_logits) > 0.5).float().numpy()\n",
    "            \n",
    "            # Calculate accuracy and F1-score\n",
    "            accuracy = accuracy_score(y_test, y_pred)\n",
    "            f1 = f1_score(y_test, y_pred)  # F1-score calculation\n",
    "            \n",
    "            print(f\"Test Accuracy at Epoch {epoch + 1}: {accuracy * 100:.2f}%\")\n",
    "            print(f\"Test F1-score at Epoch {epoch + 1}: {f1:.4f}\")\n",
    "            \n",
    "            # Generate classification report\n",
    "            report = classification_report(y_test, y_pred, target_names=[\"infringement\", \"non_infringement\"])\n",
    "            print(f\"Classification Report at Epoch {epoch + 1}:\\n{report}\")\n",
    "\n",
    "            # Save the model if it achieves a better F1-score\n",
    "            if f1 > best_f1:\n",
    "                best_accuracy = accuracy\n",
    "                best_f1 = f1\n",
    "                best_model_state = custom_mlp.state_dict()\n",
    "                best_epoch = epoch + 1\n",
    "                torch.save(best_model_state, checkpoint_path)\n",
    "                print(f\"New best model saved with F1-score {best_f1:.4f} at epoch {best_epoch}\")\n",
    "                print(f\"Best Classification Report at Epoch {best_epoch}:\\n{report}\")\n",
    "\n",
    "    # Load the best model state\n",
    "    custom_mlp.load_state_dict(torch.load(checkpoint_path))\n",
    "\n",
    "    # Plot loss curve\n",
    "    plt.figure(figsize=(10, 5))\n",
    "    plt.plot(losses, label='Training Loss')\n",
    "    plt.xlabel('Epoch')\n",
    "    plt.ylabel('Loss')\n",
    "    plt.title('Training Loss Curve')\n",
    "    plt.legend()\n",
    "    plt.show()\n",
    "\n",
    "    print(f\"Final Model Accuracy: {best_accuracy * 100:.2f}%\")\n",
    "    print(f\"Final Model F1-score: {best_f1:.4f}\")\n",
    "    \n",
    "    return custom_mlp, losses, best_accuracy, best_f1\n"
   ]
  },
  {
   "cell_type": "code",
   "execution_count": 6,
   "metadata": {},
   "outputs": [
    {
     "name": "stderr",
     "output_type": "stream",
     "text": [
      "/home/guangwei/miniconda3/envs/zdh/lib/python3.12/site-packages/transformers/generation/configuration_utils.py:777: UserWarning: `return_dict_in_generate` is NOT set to `True`, but `output_hidden_states` is. When `return_dict_in_generate` is not `True`, `output_hidden_states` is ignored.\n",
      "  warnings.warn(\n",
      "Loading checkpoint shards: 100%|██████████| 4/4 [00:02<00:00,  1.56it/s]\n"
     ]
    }
   ],
   "source": [
    "\n",
    "tokenizer = AutoTokenizer.from_pretrained(model_name, model_max_length=512)\n",
    "model = AutoModelForCausalLM.from_pretrained(model_name, output_hidden_states=True)\n",
    "tokenizer.pad_token = tokenizer.eos_token\n",
    "\n",
    "non_infringement_outputs, y_non_infringement, infringement_outputs, y_infringement = load_data(non_infringement_file, infringement_file)\n",
    "\n",
    "y_non_infringement = np.array(y_non_infringement)\n",
    "y_infringement = np.array(y_infringement)\n"
   ]
  },
  {
   "cell_type": "code",
   "execution_count": 7,
   "metadata": {},
   "outputs": [
    {
     "name": "stdout",
     "output_type": "stream",
     "text": [
      "Extracting hidden states for non_infringement texts...\n"
     ]
    },
    {
     "name": "stderr",
     "output_type": "stream",
     "text": [
      "Processing data batches:   0%|          | 0/232 [00:00<?, ?it/s]Starting from v4.46, the `logits` model output will have the same type as the model (except at train time, where it will always be FP32)\n",
      "Processing data batches: 100%|██████████| 232/232 [01:02<00:00,  3.70it/s]\n"
     ]
    },
    {
     "name": "stdout",
     "output_type": "stream",
     "text": [
      "Extracting hidden states for infringement texts...\n"
     ]
    },
    {
     "name": "stderr",
     "output_type": "stream",
     "text": [
      "Processing data batches: 100%|██████████| 243/243 [01:20<00:00,  3.03it/s]\n"
     ]
    }
   ],
   "source": [
    "print(\"Extracting hidden states for non_infringement texts...\")\n",
    "X_non_infringement = extract_hidden_states(non_infringement_outputs, model, tokenizer)\n",
    "\n",
    "print(\"Extracting hidden states for infringement texts...\")\n",
    "X_infringement = extract_hidden_states(infringement_outputs, model, tokenizer)"
   ]
  },
  {
   "cell_type": "code",
   "execution_count": 8,
   "metadata": {},
   "outputs": [
    {
     "name": "stdout",
     "output_type": "stream",
     "text": [
      "Data successfully split into training and test sets.\n"
     ]
    }
   ],
   "source": [
    "split_index_non_infringement = int(0.8 * len(X_non_infringement))\n",
    "X_non_infringement_train = X_non_infringement[:split_index_non_infringement]\n",
    "X_non_infringement_test = X_non_infringement[split_index_non_infringement:]\n",
    "y_non_infringement_train = y_non_infringement[:split_index_non_infringement]\n",
    "y_non_infringement_test = y_non_infringement[split_index_non_infringement:]\n",
    "\n",
    "split_index_infringement = int(0.8 * len(X_infringement))\n",
    "X_infringement_train = X_infringement[:split_index_infringement]\n",
    "X_infringement_test = X_infringement[split_index_infringement:]\n",
    "y_infringement_train = y_infringement[:split_index_infringement]\n",
    "y_infringement_test = y_infringement[split_index_infringement:]\n",
    "\n",
    "X_train = np.vstack((X_non_infringement_train, X_infringement_train))\n",
    "X_test = np.vstack((X_non_infringement_test, X_infringement_test))\n",
    "y_train = np.concatenate((y_non_infringement_train, y_infringement_train))\n",
    "y_test = np.concatenate((y_non_infringement_test, y_infringement_test))\n",
    "\n",
    "print(\"Data successfully split into training and test sets.\")"
   ]
  },
  {
   "cell_type": "code",
   "execution_count": 9,
   "metadata": {},
   "outputs": [
    {
     "name": "stdout",
     "output_type": "stream",
     "text": [
      "Training MLP model with input_dim=4096 and hidden_dim=256\n"
     ]
    },
    {
     "name": "stderr",
     "output_type": "stream",
     "text": [
      "Training Epochs:   1%|          | 11/2000 [00:00<00:57, 34.39it/s]"
     ]
    },
    {
     "name": "stdout",
     "output_type": "stream",
     "text": [
      "Epoch 10/2000, Loss: 0.6297\n",
      "Test Accuracy at Epoch 10: 59.47%\n",
      "Test F1-score at Epoch 10: 0.5746\n",
      "Classification Report at Epoch 10:\n",
      "                  precision    recall  f1-score   support\n",
      "\n",
      "    infringement       0.60      0.63      0.61       194\n",
      "non_infringement       0.59      0.56      0.57       186\n",
      "\n",
      "        accuracy                           0.59       380\n",
      "       macro avg       0.59      0.59      0.59       380\n",
      "    weighted avg       0.59      0.59      0.59       380\n",
      "\n",
      "New best model saved with F1-score 0.5746 at epoch 10\n",
      "Best Classification Report at Epoch 10:\n",
      "                  precision    recall  f1-score   support\n",
      "\n",
      "    infringement       0.60      0.63      0.61       194\n",
      "non_infringement       0.59      0.56      0.57       186\n",
      "\n",
      "        accuracy                           0.59       380\n",
      "       macro avg       0.59      0.59      0.59       380\n",
      "    weighted avg       0.59      0.59      0.59       380\n",
      "\n"
     ]
    },
    {
     "name": "stderr",
     "output_type": "stream",
     "text": [
      "Training Epochs:   1%|▏         | 25/2000 [00:00<00:51, 38.03it/s]"
     ]
    },
    {
     "name": "stdout",
     "output_type": "stream",
     "text": [
      "Epoch 20/2000, Loss: 0.4926\n",
      "Test Accuracy at Epoch 20: 69.21%\n",
      "Test F1-score at Epoch 20: 0.7298\n",
      "Classification Report at Epoch 20:\n",
      "                  precision    recall  f1-score   support\n",
      "\n",
      "    infringement       0.79      0.54      0.64       194\n",
      "non_infringement       0.64      0.85      0.73       186\n",
      "\n",
      "        accuracy                           0.69       380\n",
      "       macro avg       0.71      0.70      0.69       380\n",
      "    weighted avg       0.72      0.69      0.69       380\n",
      "\n",
      "New best model saved with F1-score 0.7298 at epoch 20\n",
      "Best Classification Report at Epoch 20:\n",
      "                  precision    recall  f1-score   support\n",
      "\n",
      "    infringement       0.79      0.54      0.64       194\n",
      "non_infringement       0.64      0.85      0.73       186\n",
      "\n",
      "        accuracy                           0.69       380\n",
      "       macro avg       0.71      0.70      0.69       380\n",
      "    weighted avg       0.72      0.69      0.69       380\n",
      "\n"
     ]
    },
    {
     "name": "stderr",
     "output_type": "stream",
     "text": [
      "Training Epochs:   2%|▏         | 39/2000 [00:01<00:49, 39.55it/s]"
     ]
    },
    {
     "name": "stdout",
     "output_type": "stream",
     "text": [
      "Epoch 30/2000, Loss: 0.3965\n",
      "Test Accuracy at Epoch 30: 67.37%\n",
      "Test F1-score at Epoch 30: 0.7075\n",
      "Classification Report at Epoch 30:\n",
      "                  precision    recall  f1-score   support\n",
      "\n",
      "    infringement       0.75      0.55      0.63       194\n",
      "non_infringement       0.63      0.81      0.71       186\n",
      "\n",
      "        accuracy                           0.67       380\n",
      "       macro avg       0.69      0.68      0.67       380\n",
      "    weighted avg       0.69      0.67      0.67       380\n",
      "\n"
     ]
    },
    {
     "name": "stderr",
     "output_type": "stream",
     "text": [
      "Training Epochs:   2%|▏         | 44/2000 [00:01<00:58, 33.44it/s]"
     ]
    },
    {
     "name": "stdout",
     "output_type": "stream",
     "text": [
      "Epoch 40/2000, Loss: 0.3555\n",
      "Test Accuracy at Epoch 40: 70.53%\n",
      "Test F1-score at Epoch 40: 0.7333\n",
      "Classification Report at Epoch 40:\n",
      "                  precision    recall  f1-score   support\n",
      "\n",
      "    infringement       0.78      0.59      0.67       194\n",
      "non_infringement       0.66      0.83      0.73       186\n",
      "\n",
      "        accuracy                           0.71       380\n",
      "       macro avg       0.72      0.71      0.70       380\n",
      "    weighted avg       0.72      0.71      0.70       380\n",
      "\n",
      "New best model saved with F1-score 0.7333 at epoch 40\n",
      "Best Classification Report at Epoch 40:\n",
      "                  precision    recall  f1-score   support\n",
      "\n",
      "    infringement       0.78      0.59      0.67       194\n",
      "non_infringement       0.66      0.83      0.73       186\n",
      "\n",
      "        accuracy                           0.71       380\n",
      "       macro avg       0.72      0.71      0.70       380\n",
      "    weighted avg       0.72      0.71      0.70       380\n",
      "\n"
     ]
    },
    {
     "name": "stderr",
     "output_type": "stream",
     "text": [
      "Training Epochs:   3%|▎         | 53/2000 [00:01<00:51, 37.52it/s]"
     ]
    },
    {
     "name": "stdout",
     "output_type": "stream",
     "text": [
      "Epoch 50/2000, Loss: 0.3374\n",
      "Test Accuracy at Epoch 50: 70.53%\n",
      "Test F1-score at Epoch 50: 0.7282\n",
      "Classification Report at Epoch 50:\n",
      "                  precision    recall  f1-score   support\n",
      "\n",
      "    infringement       0.77      0.61      0.68       194\n",
      "non_infringement       0.66      0.81      0.73       186\n",
      "\n",
      "        accuracy                           0.71       380\n",
      "       macro avg       0.71      0.71      0.70       380\n",
      "    weighted avg       0.72      0.71      0.70       380\n",
      "\n"
     ]
    },
    {
     "name": "stderr",
     "output_type": "stream",
     "text": [
      "Training Epochs:   3%|▎         | 66/2000 [00:01<00:50, 38.21it/s]"
     ]
    },
    {
     "name": "stdout",
     "output_type": "stream",
     "text": [
      "Epoch 60/2000, Loss: 0.3217\n",
      "Test Accuracy at Epoch 60: 74.21%\n",
      "Test F1-score at Epoch 60: 0.7610\n",
      "Classification Report at Epoch 60:\n",
      "                  precision    recall  f1-score   support\n",
      "\n",
      "    infringement       0.81      0.65      0.72       194\n",
      "non_infringement       0.70      0.84      0.76       186\n",
      "\n",
      "        accuracy                           0.74       380\n",
      "       macro avg       0.75      0.74      0.74       380\n",
      "    weighted avg       0.75      0.74      0.74       380\n",
      "\n",
      "New best model saved with F1-score 0.7610 at epoch 60\n",
      "Best Classification Report at Epoch 60:\n",
      "                  precision    recall  f1-score   support\n",
      "\n",
      "    infringement       0.81      0.65      0.72       194\n",
      "non_infringement       0.70      0.84      0.76       186\n",
      "\n",
      "        accuracy                           0.74       380\n",
      "       macro avg       0.75      0.74      0.74       380\n",
      "    weighted avg       0.75      0.74      0.74       380\n",
      "\n"
     ]
    },
    {
     "name": "stderr",
     "output_type": "stream",
     "text": [
      "Training Epochs:   4%|▎         | 74/2000 [00:02<00:57, 33.58it/s]"
     ]
    },
    {
     "name": "stdout",
     "output_type": "stream",
     "text": [
      "Epoch 70/2000, Loss: 0.3073\n",
      "Test Accuracy at Epoch 70: 72.89%\n",
      "Test F1-score at Epoch 70: 0.7542\n",
      "Classification Report at Epoch 70:\n",
      "                  precision    recall  f1-score   support\n",
      "\n",
      "    infringement       0.81      0.61      0.70       194\n",
      "non_infringement       0.68      0.85      0.75       186\n",
      "\n",
      "        accuracy                           0.73       380\n",
      "       macro avg       0.74      0.73      0.73       380\n",
      "    weighted avg       0.75      0.73      0.73       380\n",
      "\n"
     ]
    },
    {
     "name": "stderr",
     "output_type": "stream",
     "text": [
      "Training Epochs:   4%|▍         | 82/2000 [00:02<01:06, 28.83it/s]"
     ]
    },
    {
     "name": "stdout",
     "output_type": "stream",
     "text": [
      "Epoch 80/2000, Loss: 0.2919\n",
      "Test Accuracy at Epoch 80: 72.89%\n",
      "Test F1-score at Epoch 80: 0.7506\n",
      "Classification Report at Epoch 80:\n",
      "                  precision    recall  f1-score   support\n",
      "\n",
      "    infringement       0.80      0.63      0.70       194\n",
      "non_infringement       0.68      0.83      0.75       186\n",
      "\n",
      "        accuracy                           0.73       380\n",
      "       macro avg       0.74      0.73      0.73       380\n",
      "    weighted avg       0.74      0.73      0.73       380\n",
      "\n"
     ]
    },
    {
     "name": "stderr",
     "output_type": "stream",
     "text": [
      "Training Epochs:   5%|▍         | 99/2000 [00:02<00:44, 43.09it/s]"
     ]
    },
    {
     "name": "stdout",
     "output_type": "stream",
     "text": [
      "Epoch 90/2000, Loss: 0.2726\n",
      "Test Accuracy at Epoch 90: 74.21%\n",
      "Test F1-score at Epoch 90: 0.7610\n",
      "Classification Report at Epoch 90:\n",
      "                  precision    recall  f1-score   support\n",
      "\n",
      "    infringement       0.81      0.65      0.72       194\n",
      "non_infringement       0.70      0.84      0.76       186\n",
      "\n",
      "        accuracy                           0.74       380\n",
      "       macro avg       0.75      0.74      0.74       380\n",
      "    weighted avg       0.75      0.74      0.74       380\n",
      "\n"
     ]
    },
    {
     "name": "stderr",
     "output_type": "stream",
     "text": [
      "Training Epochs:   5%|▌         | 104/2000 [00:02<00:48, 39.12it/s]"
     ]
    },
    {
     "name": "stdout",
     "output_type": "stream",
     "text": [
      "Epoch 100/2000, Loss: 0.2494\n",
      "Test Accuracy at Epoch 100: 73.42%\n",
      "Test F1-score at Epoch 100: 0.7531\n",
      "Classification Report at Epoch 100:\n",
      "                  precision    recall  f1-score   support\n",
      "\n",
      "    infringement       0.80      0.64      0.71       194\n",
      "non_infringement       0.69      0.83      0.75       186\n",
      "\n",
      "        accuracy                           0.73       380\n",
      "       macro avg       0.74      0.74      0.73       380\n",
      "    weighted avg       0.74      0.73      0.73       380\n",
      "\n",
      "Epoch 110/2000, Loss: 0.2275\n",
      "Test Accuracy at Epoch 110: 74.74%\n",
      "Test F1-score at Epoch 110: 0.7681\n"
     ]
    },
    {
     "name": "stderr",
     "output_type": "stream",
     "text": [
      "Training Epochs:   6%|▌         | 116/2000 [00:03<00:41, 44.90it/s]"
     ]
    },
    {
     "name": "stdout",
     "output_type": "stream",
     "text": [
      "Classification Report at Epoch 110:\n",
      "                  precision    recall  f1-score   support\n",
      "\n",
      "    infringement       0.82      0.64      0.72       194\n",
      "non_infringement       0.70      0.85      0.77       186\n",
      "\n",
      "        accuracy                           0.75       380\n",
      "       macro avg       0.76      0.75      0.75       380\n",
      "    weighted avg       0.76      0.75      0.74       380\n",
      "\n",
      "New best model saved with F1-score 0.7681 at epoch 110\n",
      "Best Classification Report at Epoch 110:\n",
      "                  precision    recall  f1-score   support\n",
      "\n",
      "    infringement       0.82      0.64      0.72       194\n",
      "non_infringement       0.70      0.85      0.77       186\n",
      "\n",
      "        accuracy                           0.75       380\n",
      "       macro avg       0.76      0.75      0.75       380\n",
      "    weighted avg       0.76      0.75      0.74       380\n",
      "\n"
     ]
    },
    {
     "name": "stderr",
     "output_type": "stream",
     "text": [
      "Training Epochs:   6%|▋         | 127/2000 [00:03<00:42, 43.59it/s]"
     ]
    },
    {
     "name": "stdout",
     "output_type": "stream",
     "text": [
      "Epoch 120/2000, Loss: 0.2021\n",
      "Test Accuracy at Epoch 120: 74.21%\n",
      "Test F1-score at Epoch 120: 0.7621\n",
      "Classification Report at Epoch 120:\n",
      "                  precision    recall  f1-score   support\n",
      "\n",
      "    infringement       0.81      0.64      0.72       194\n",
      "non_infringement       0.69      0.84      0.76       186\n",
      "\n",
      "        accuracy                           0.74       380\n",
      "       macro avg       0.75      0.74      0.74       380\n",
      "    weighted avg       0.75      0.74      0.74       380\n",
      "\n",
      "Epoch 130/2000, Loss: 0.1838\n"
     ]
    },
    {
     "name": "stderr",
     "output_type": "stream",
     "text": [
      "Training Epochs:   7%|▋         | 132/2000 [00:03<00:42, 43.51it/s]"
     ]
    },
    {
     "name": "stdout",
     "output_type": "stream",
     "text": [
      "Test Accuracy at Epoch 130: 77.11%\n",
      "Test F1-score at Epoch 130: 0.7786\n",
      "Classification Report at Epoch 130:\n",
      "                  precision    recall  f1-score   support\n",
      "\n",
      "    infringement       0.81      0.72      0.76       194\n",
      "non_infringement       0.74      0.82      0.78       186\n",
      "\n",
      "        accuracy                           0.77       380\n",
      "       macro avg       0.77      0.77      0.77       380\n",
      "    weighted avg       0.77      0.77      0.77       380\n",
      "\n",
      "New best model saved with F1-score 0.7786 at epoch 130\n",
      "Best Classification Report at Epoch 130:\n",
      "                  precision    recall  f1-score   support\n",
      "\n",
      "    infringement       0.81      0.72      0.76       194\n",
      "non_infringement       0.74      0.82      0.78       186\n",
      "\n",
      "        accuracy                           0.77       380\n",
      "       macro avg       0.77      0.77      0.77       380\n",
      "    weighted avg       0.77      0.77      0.77       380\n",
      "\n"
     ]
    },
    {
     "name": "stderr",
     "output_type": "stream",
     "text": [
      "Training Epochs:   7%|▋         | 148/2000 [00:03<00:41, 44.16it/s]"
     ]
    },
    {
     "name": "stdout",
     "output_type": "stream",
     "text": [
      "Epoch 140/2000, Loss: 0.1691\n",
      "Test Accuracy at Epoch 140: 74.21%\n",
      "Test F1-score at Epoch 140: 0.7621\n",
      "Classification Report at Epoch 140:\n",
      "                  precision    recall  f1-score   support\n",
      "\n",
      "    infringement       0.81      0.64      0.72       194\n",
      "non_infringement       0.69      0.84      0.76       186\n",
      "\n",
      "        accuracy                           0.74       380\n",
      "       macro avg       0.75      0.74      0.74       380\n",
      "    weighted avg       0.75      0.74      0.74       380\n",
      "\n"
     ]
    },
    {
     "name": "stderr",
     "output_type": "stream",
     "text": [
      "Training Epochs:   8%|▊         | 153/2000 [00:04<00:46, 40.00it/s]"
     ]
    },
    {
     "name": "stdout",
     "output_type": "stream",
     "text": [
      "Epoch 150/2000, Loss: 0.1558\n",
      "Test Accuracy at Epoch 150: 76.05%\n",
      "Test F1-score at Epoch 150: 0.7742\n",
      "Classification Report at Epoch 150:\n",
      "                  precision    recall  f1-score   support\n",
      "\n",
      "    infringement       0.82      0.69      0.75       194\n",
      "non_infringement       0.72      0.84      0.77       186\n",
      "\n",
      "        accuracy                           0.76       380\n",
      "       macro avg       0.77      0.76      0.76       380\n",
      "    weighted avg       0.77      0.76      0.76       380\n",
      "\n"
     ]
    },
    {
     "name": "stderr",
     "output_type": "stream",
     "text": [
      "Training Epochs:   8%|▊         | 162/2000 [00:04<00:58, 31.17it/s]"
     ]
    },
    {
     "name": "stdout",
     "output_type": "stream",
     "text": [
      "Epoch 160/2000, Loss: 0.1462\n",
      "Test Accuracy at Epoch 160: 74.47%\n",
      "Test F1-score at Epoch 160: 0.7640\n",
      "Classification Report at Epoch 160:\n",
      "                  precision    recall  f1-score   support\n",
      "\n",
      "    infringement       0.81      0.65      0.72       194\n",
      "non_infringement       0.70      0.84      0.76       186\n",
      "\n",
      "        accuracy                           0.74       380\n",
      "       macro avg       0.76      0.75      0.74       380\n",
      "    weighted avg       0.76      0.74      0.74       380\n",
      "\n"
     ]
    },
    {
     "name": "stderr",
     "output_type": "stream",
     "text": [
      "Training Epochs:   9%|▊         | 173/2000 [00:04<00:48, 37.51it/s]"
     ]
    },
    {
     "name": "stdout",
     "output_type": "stream",
     "text": [
      "Epoch 170/2000, Loss: 0.1400\n",
      "Test Accuracy at Epoch 170: 74.21%\n",
      "Test F1-score at Epoch 170: 0.7610\n",
      "Classification Report at Epoch 170:\n",
      "                  precision    recall  f1-score   support\n",
      "\n",
      "    infringement       0.81      0.65      0.72       194\n",
      "non_infringement       0.70      0.84      0.76       186\n",
      "\n",
      "        accuracy                           0.74       380\n",
      "       macro avg       0.75      0.74      0.74       380\n",
      "    weighted avg       0.75      0.74      0.74       380\n",
      "\n"
     ]
    },
    {
     "name": "stderr",
     "output_type": "stream",
     "text": [
      "Training Epochs:   9%|▉         | 189/2000 [00:05<00:44, 40.70it/s]"
     ]
    },
    {
     "name": "stdout",
     "output_type": "stream",
     "text": [
      "Epoch 180/2000, Loss: 0.1356\n",
      "Test Accuracy at Epoch 180: 75.53%\n",
      "Test F1-score at Epoch 180: 0.7681\n",
      "Classification Report at Epoch 180:\n",
      "                  precision    recall  f1-score   support\n",
      "\n",
      "    infringement       0.81      0.69      0.74       194\n",
      "non_infringement       0.72      0.83      0.77       186\n",
      "\n",
      "        accuracy                           0.76       380\n",
      "       macro avg       0.76      0.76      0.75       380\n",
      "    weighted avg       0.76      0.76      0.75       380\n",
      "\n"
     ]
    },
    {
     "name": "stderr",
     "output_type": "stream",
     "text": [
      "Training Epochs:  10%|▉         | 194/2000 [00:05<00:49, 36.35it/s]"
     ]
    },
    {
     "name": "stdout",
     "output_type": "stream",
     "text": [
      "Epoch 190/2000, Loss: 0.1321\n",
      "Test Accuracy at Epoch 190: 74.21%\n",
      "Test F1-score at Epoch 190: 0.7610\n",
      "Classification Report at Epoch 190:\n",
      "                  precision    recall  f1-score   support\n",
      "\n",
      "    infringement       0.81      0.65      0.72       194\n",
      "non_infringement       0.70      0.84      0.76       186\n",
      "\n",
      "        accuracy                           0.74       380\n",
      "       macro avg       0.75      0.74      0.74       380\n",
      "    weighted avg       0.75      0.74      0.74       380\n",
      "\n"
     ]
    },
    {
     "name": "stderr",
     "output_type": "stream",
     "text": [
      "Training Epochs:  10%|█         | 203/2000 [00:05<00:48, 36.83it/s]"
     ]
    },
    {
     "name": "stdout",
     "output_type": "stream",
     "text": [
      "Epoch 200/2000, Loss: 0.1290\n",
      "Test Accuracy at Epoch 200: 73.42%\n",
      "Test F1-score at Epoch 200: 0.7518\n",
      "Classification Report at Epoch 200:\n",
      "                  precision    recall  f1-score   support\n",
      "\n",
      "    infringement       0.79      0.65      0.71       194\n",
      "non_infringement       0.69      0.82      0.75       186\n",
      "\n",
      "        accuracy                           0.73       380\n",
      "       macro avg       0.74      0.74      0.73       380\n",
      "    weighted avg       0.74      0.73      0.73       380\n",
      "\n"
     ]
    },
    {
     "name": "stderr",
     "output_type": "stream",
     "text": [
      "Training Epochs:  11%|█         | 217/2000 [00:05<00:45, 39.18it/s]"
     ]
    },
    {
     "name": "stdout",
     "output_type": "stream",
     "text": [
      "Epoch 210/2000, Loss: 0.1265\n",
      "Test Accuracy at Epoch 210: 73.95%\n",
      "Test F1-score at Epoch 210: 0.7579\n",
      "Classification Report at Epoch 210:\n",
      "                  precision    recall  f1-score   support\n",
      "\n",
      "    infringement       0.80      0.65      0.72       194\n",
      "non_infringement       0.70      0.83      0.76       186\n",
      "\n",
      "        accuracy                           0.74       380\n",
      "       macro avg       0.75      0.74      0.74       380\n",
      "    weighted avg       0.75      0.74      0.74       380\n",
      "\n"
     ]
    },
    {
     "name": "stderr",
     "output_type": "stream",
     "text": [
      "Training Epochs:  11%|█         | 222/2000 [00:06<00:50, 35.40it/s]"
     ]
    },
    {
     "name": "stdout",
     "output_type": "stream",
     "text": [
      "Epoch 220/2000, Loss: 0.1245\n",
      "Test Accuracy at Epoch 220: 73.68%\n",
      "Test F1-score at Epoch 220: 0.7537\n",
      "Classification Report at Epoch 220:\n",
      "                  precision    recall  f1-score   support\n",
      "\n",
      "    infringement       0.79      0.65      0.72       194\n",
      "non_infringement       0.70      0.82      0.75       186\n",
      "\n",
      "        accuracy                           0.74       380\n",
      "       macro avg       0.74      0.74      0.74       380\n",
      "    weighted avg       0.75      0.74      0.74       380\n",
      "\n"
     ]
    },
    {
     "name": "stderr",
     "output_type": "stream",
     "text": [
      "Training Epochs:  12%|█▏        | 234/2000 [00:06<00:55, 31.61it/s]"
     ]
    },
    {
     "name": "stdout",
     "output_type": "stream",
     "text": [
      "Epoch 230/2000, Loss: 0.1233\n",
      "Test Accuracy at Epoch 230: 73.16%\n",
      "Test F1-score at Epoch 230: 0.7385\n",
      "Classification Report at Epoch 230:\n",
      "                  precision    recall  f1-score   support\n",
      "\n",
      "    infringement       0.76      0.69      0.72       194\n",
      "non_infringement       0.71      0.77      0.74       186\n",
      "\n",
      "        accuracy                           0.73       380\n",
      "       macro avg       0.73      0.73      0.73       380\n",
      "    weighted avg       0.73      0.73      0.73       380\n",
      "\n"
     ]
    },
    {
     "name": "stderr",
     "output_type": "stream",
     "text": [
      "Training Epochs:  12%|█▏        | 243/2000 [00:06<00:49, 35.47it/s]"
     ]
    },
    {
     "name": "stdout",
     "output_type": "stream",
     "text": [
      "Epoch 240/2000, Loss: 0.1228\n",
      "Test Accuracy at Epoch 240: 73.42%\n",
      "Test F1-score at Epoch 240: 0.7518\n",
      "Classification Report at Epoch 240:\n",
      "                  precision    recall  f1-score   support\n",
      "\n",
      "    infringement       0.79      0.65      0.71       194\n",
      "non_infringement       0.69      0.82      0.75       186\n",
      "\n",
      "        accuracy                           0.73       380\n",
      "       macro avg       0.74      0.74      0.73       380\n",
      "    weighted avg       0.74      0.73      0.73       380\n",
      "\n"
     ]
    },
    {
     "name": "stderr",
     "output_type": "stream",
     "text": [
      "Training Epochs:  13%|█▎        | 253/2000 [00:06<00:50, 34.36it/s]"
     ]
    },
    {
     "name": "stdout",
     "output_type": "stream",
     "text": [
      "Epoch 250/2000, Loss: 0.1211\n",
      "Test Accuracy at Epoch 250: 75.00%\n",
      "Test F1-score at Epoch 250: 0.7520\n",
      "Classification Report at Epoch 250:\n",
      "                  precision    recall  f1-score   support\n",
      "\n",
      "    infringement       0.77      0.73      0.75       194\n",
      "non_infringement       0.73      0.77      0.75       186\n",
      "\n",
      "        accuracy                           0.75       380\n",
      "       macro avg       0.75      0.75      0.75       380\n",
      "    weighted avg       0.75      0.75      0.75       380\n",
      "\n"
     ]
    },
    {
     "name": "stderr",
     "output_type": "stream",
     "text": [
      "Training Epochs:  13%|█▎        | 263/2000 [00:07<00:49, 35.22it/s]"
     ]
    },
    {
     "name": "stdout",
     "output_type": "stream",
     "text": [
      "Epoch 260/2000, Loss: 0.1185\n",
      "Test Accuracy at Epoch 260: 72.11%\n",
      "Test F1-score at Epoch 260: 0.7350\n",
      "Classification Report at Epoch 260:\n",
      "                  precision    recall  f1-score   support\n",
      "\n",
      "    infringement       0.77      0.65      0.71       194\n",
      "non_infringement       0.69      0.79      0.73       186\n",
      "\n",
      "        accuracy                           0.72       380\n",
      "       macro avg       0.73      0.72      0.72       380\n",
      "    weighted avg       0.73      0.72      0.72       380\n",
      "\n"
     ]
    },
    {
     "name": "stderr",
     "output_type": "stream",
     "text": [
      "Training Epochs:  14%|█▍        | 279/2000 [00:07<00:38, 44.15it/s]"
     ]
    },
    {
     "name": "stdout",
     "output_type": "stream",
     "text": [
      "Epoch 270/2000, Loss: 0.1160\n",
      "Test Accuracy at Epoch 270: 75.26%\n",
      "Test F1-score at Epoch 270: 0.7552\n",
      "Classification Report at Epoch 270:\n",
      "                  precision    recall  f1-score   support\n",
      "\n",
      "    infringement       0.77      0.73      0.75       194\n",
      "non_infringement       0.73      0.78      0.76       186\n",
      "\n",
      "        accuracy                           0.75       380\n",
      "       macro avg       0.75      0.75      0.75       380\n",
      "    weighted avg       0.75      0.75      0.75       380\n",
      "\n"
     ]
    },
    {
     "name": "stderr",
     "output_type": "stream",
     "text": [
      "Training Epochs:  14%|█▍        | 284/2000 [00:07<00:42, 40.06it/s]"
     ]
    },
    {
     "name": "stdout",
     "output_type": "stream",
     "text": [
      "Epoch 280/2000, Loss: 0.1149\n",
      "Test Accuracy at Epoch 280: 73.42%\n",
      "Test F1-score at Epoch 280: 0.7417\n",
      "Classification Report at Epoch 280:\n",
      "                  precision    recall  f1-score   support\n",
      "\n",
      "    infringement       0.77      0.69      0.73       194\n",
      "non_infringement       0.71      0.78      0.74       186\n",
      "\n",
      "        accuracy                           0.73       380\n",
      "       macro avg       0.74      0.74      0.73       380\n",
      "    weighted avg       0.74      0.73      0.73       380\n",
      "\n"
     ]
    },
    {
     "name": "stderr",
     "output_type": "stream",
     "text": [
      "Training Epochs:  15%|█▍        | 294/2000 [00:08<00:52, 32.24it/s]"
     ]
    },
    {
     "name": "stdout",
     "output_type": "stream",
     "text": [
      "Epoch 290/2000, Loss: 0.1156\n",
      "Test Accuracy at Epoch 290: 72.11%\n",
      "Test F1-score at Epoch 290: 0.7350\n",
      "Classification Report at Epoch 290:\n",
      "                  precision    recall  f1-score   support\n",
      "\n",
      "    infringement       0.77      0.65      0.71       194\n",
      "non_infringement       0.69      0.79      0.73       186\n",
      "\n",
      "        accuracy                           0.72       380\n",
      "       macro avg       0.73      0.72      0.72       380\n",
      "    weighted avg       0.73      0.72      0.72       380\n",
      "\n"
     ]
    },
    {
     "name": "stderr",
     "output_type": "stream",
     "text": [
      "Training Epochs:  15%|█▌        | 306/2000 [00:08<00:40, 41.66it/s]"
     ]
    },
    {
     "name": "stdout",
     "output_type": "stream",
     "text": [
      "Epoch 300/2000, Loss: 0.1144\n",
      "Test Accuracy at Epoch 300: 76.05%\n",
      "Test F1-score at Epoch 300: 0.7599\n",
      "Classification Report at Epoch 300:\n",
      "                  precision    recall  f1-score   support\n",
      "\n",
      "    infringement       0.78      0.75      0.76       194\n",
      "non_infringement       0.75      0.77      0.76       186\n",
      "\n",
      "        accuracy                           0.76       380\n",
      "       macro avg       0.76      0.76      0.76       380\n",
      "    weighted avg       0.76      0.76      0.76       380\n",
      "\n"
     ]
    },
    {
     "name": "stderr",
     "output_type": "stream",
     "text": [
      "Training Epochs:  16%|█▌        | 317/2000 [00:08<00:39, 42.74it/s]"
     ]
    },
    {
     "name": "stdout",
     "output_type": "stream",
     "text": [
      "Epoch 310/2000, Loss: 0.1120\n",
      "Test Accuracy at Epoch 310: 72.37%\n",
      "Test F1-score at Epoch 310: 0.7342\n",
      "Classification Report at Epoch 310:\n",
      "                  precision    recall  f1-score   support\n",
      "\n",
      "    infringement       0.76      0.67      0.71       194\n",
      "non_infringement       0.69      0.78      0.73       186\n",
      "\n",
      "        accuracy                           0.72       380\n",
      "       macro avg       0.73      0.72      0.72       380\n",
      "    weighted avg       0.73      0.72      0.72       380\n",
      "\n",
      "Epoch 320/2000, Loss: 0.1107\n",
      "Test Accuracy at Epoch 320: 74.21%\n",
      "Test F1-score at Epoch 320: 0.7474\n"
     ]
    },
    {
     "name": "stderr",
     "output_type": "stream",
     "text": [
      "Training Epochs:  16%|█▋        | 328/2000 [00:08<00:38, 43.60it/s]"
     ]
    },
    {
     "name": "stdout",
     "output_type": "stream",
     "text": [
      "Classification Report at Epoch 320:\n",
      "                  precision    recall  f1-score   support\n",
      "\n",
      "    infringement       0.77      0.71      0.74       194\n",
      "non_infringement       0.72      0.78      0.75       186\n",
      "\n",
      "        accuracy                           0.74       380\n",
      "       macro avg       0.74      0.74      0.74       380\n",
      "    weighted avg       0.74      0.74      0.74       380\n",
      "\n"
     ]
    },
    {
     "name": "stderr",
     "output_type": "stream",
     "text": [
      "Training Epochs:  17%|█▋        | 339/2000 [00:09<00:35, 46.91it/s]"
     ]
    },
    {
     "name": "stdout",
     "output_type": "stream",
     "text": [
      "Epoch 330/2000, Loss: 0.1125\n",
      "Test Accuracy at Epoch 330: 75.53%\n",
      "Test F1-score at Epoch 330: 0.7533\n",
      "Classification Report at Epoch 330:\n",
      "                  precision    recall  f1-score   support\n",
      "\n",
      "    infringement       0.77      0.75      0.76       194\n",
      "non_infringement       0.74      0.76      0.75       186\n",
      "\n",
      "        accuracy                           0.76       380\n",
      "       macro avg       0.76      0.76      0.76       380\n",
      "    weighted avg       0.76      0.76      0.76       380\n",
      "\n",
      "Epoch 340/2000, Loss: 0.1109\n"
     ]
    },
    {
     "name": "stderr",
     "output_type": "stream",
     "text": [
      "Training Epochs:  17%|█▋        | 344/2000 [00:09<00:34, 47.58it/s]"
     ]
    },
    {
     "name": "stdout",
     "output_type": "stream",
     "text": [
      "Test Accuracy at Epoch 340: 71.84%\n",
      "Test F1-score at Epoch 340: 0.7305\n",
      "Classification Report at Epoch 340:\n",
      "                  precision    recall  f1-score   support\n",
      "\n",
      "    infringement       0.76      0.66      0.71       194\n",
      "non_infringement       0.69      0.78      0.73       186\n",
      "\n",
      "        accuracy                           0.72       380\n",
      "       macro avg       0.72      0.72      0.72       380\n",
      "    weighted avg       0.72      0.72      0.72       380\n",
      "\n"
     ]
    },
    {
     "name": "stderr",
     "output_type": "stream",
     "text": [
      "Training Epochs:  18%|█▊        | 355/2000 [00:09<00:36, 44.88it/s]"
     ]
    },
    {
     "name": "stdout",
     "output_type": "stream",
     "text": [
      "Epoch 350/2000, Loss: 0.1089\n",
      "Test Accuracy at Epoch 350: 75.53%\n",
      "Test F1-score at Epoch 350: 0.7533\n",
      "Classification Report at Epoch 350:\n",
      "                  precision    recall  f1-score   support\n",
      "\n",
      "    infringement       0.77      0.75      0.76       194\n",
      "non_infringement       0.74      0.76      0.75       186\n",
      "\n",
      "        accuracy                           0.76       380\n",
      "       macro avg       0.76      0.76      0.76       380\n",
      "    weighted avg       0.76      0.76      0.76       380\n",
      "\n",
      "Epoch 360/2000, Loss: 0.1083\n",
      "Test Accuracy at Epoch 360: 73.68%\n",
      "Test F1-score at Epoch 360: 0.7396\n",
      "Classification Report at Epoch 360:\n",
      "                  precision    recall  f1-score   support\n",
      "\n",
      "    infringement       0.76      0.71      0.73       194\n",
      "non_infringement       0.72      0.76      0.74       186\n",
      "\n",
      "        accuracy                           0.74       380\n",
      "       macro avg       0.74      0.74      0.74       380\n",
      "    weighted avg       0.74      0.74      0.74       380\n",
      "\n"
     ]
    },
    {
     "name": "stderr",
     "output_type": "stream",
     "text": [
      "Training Epochs:  19%|█▉        | 377/2000 [00:09<00:34, 47.45it/s]"
     ]
    },
    {
     "name": "stdout",
     "output_type": "stream",
     "text": [
      "Epoch 370/2000, Loss: 0.1098\n",
      "Test Accuracy at Epoch 370: 71.58%\n",
      "Test F1-score at Epoch 370: 0.7286\n",
      "Classification Report at Epoch 370:\n",
      "                  precision    recall  f1-score   support\n",
      "\n",
      "    infringement       0.76      0.65      0.70       194\n",
      "non_infringement       0.68      0.78      0.73       186\n",
      "\n",
      "        accuracy                           0.72       380\n",
      "       macro avg       0.72      0.72      0.72       380\n",
      "    weighted avg       0.72      0.72      0.71       380\n",
      "\n",
      "Epoch 380/2000, Loss: 0.1078\n"
     ]
    },
    {
     "name": "stderr",
     "output_type": "stream",
     "text": [
      "Training Epochs:  19%|█▉        | 382/2000 [00:10<00:39, 41.22it/s]"
     ]
    },
    {
     "name": "stdout",
     "output_type": "stream",
     "text": [
      "Test Accuracy at Epoch 380: 75.00%\n",
      "Test F1-score at Epoch 380: 0.7493\n",
      "Classification Report at Epoch 380:\n",
      "                  precision    recall  f1-score   support\n",
      "\n",
      "    infringement       0.76      0.74      0.75       194\n",
      "non_infringement       0.74      0.76      0.75       186\n",
      "\n",
      "        accuracy                           0.75       380\n",
      "       macro avg       0.75      0.75      0.75       380\n",
      "    weighted avg       0.75      0.75      0.75       380\n",
      "\n"
     ]
    },
    {
     "name": "stderr",
     "output_type": "stream",
     "text": [
      "Training Epochs:  20%|█▉        | 394/2000 [00:10<00:34, 46.66it/s]"
     ]
    },
    {
     "name": "stdout",
     "output_type": "stream",
     "text": [
      "Epoch 390/2000, Loss: 0.1065\n",
      "Test Accuracy at Epoch 390: 72.89%\n",
      "Test F1-score at Epoch 390: 0.7339\n",
      "Classification Report at Epoch 390:\n",
      "                  precision    recall  f1-score   support\n",
      "\n",
      "    infringement       0.75      0.70      0.72       194\n",
      "non_infringement       0.71      0.76      0.73       186\n",
      "\n",
      "        accuracy                           0.73       380\n",
      "       macro avg       0.73      0.73      0.73       380\n",
      "    weighted avg       0.73      0.73      0.73       380\n",
      "\n"
     ]
    },
    {
     "name": "stderr",
     "output_type": "stream",
     "text": [
      "Training Epochs:  20%|██        | 406/2000 [00:10<00:35, 44.64it/s]"
     ]
    },
    {
     "name": "stdout",
     "output_type": "stream",
     "text": [
      "Epoch 400/2000, Loss: 0.1076\n",
      "Test Accuracy at Epoch 400: 72.89%\n",
      "Test F1-score at Epoch 400: 0.7339\n",
      "Classification Report at Epoch 400:\n",
      "                  precision    recall  f1-score   support\n",
      "\n",
      "    infringement       0.75      0.70      0.72       194\n",
      "non_infringement       0.71      0.76      0.73       186\n",
      "\n",
      "        accuracy                           0.73       380\n",
      "       macro avg       0.73      0.73      0.73       380\n",
      "    weighted avg       0.73      0.73      0.73       380\n",
      "\n",
      "Epoch 410/2000, Loss: 0.1075\n"
     ]
    },
    {
     "name": "stderr",
     "output_type": "stream",
     "text": [
      "Training Epochs:  21%|██        | 417/2000 [00:10<00:32, 48.65it/s]"
     ]
    },
    {
     "name": "stdout",
     "output_type": "stream",
     "text": [
      "Test Accuracy at Epoch 410: 75.26%\n",
      "Test F1-score at Epoch 410: 0.7513\n",
      "Classification Report at Epoch 410:\n",
      "                  precision    recall  f1-score   support\n",
      "\n",
      "    infringement       0.77      0.74      0.75       194\n",
      "non_infringement       0.74      0.76      0.75       186\n",
      "\n",
      "        accuracy                           0.75       380\n",
      "       macro avg       0.75      0.75      0.75       380\n",
      "    weighted avg       0.75      0.75      0.75       380\n",
      "\n"
     ]
    },
    {
     "name": "stderr",
     "output_type": "stream",
     "text": [
      "Training Epochs:  21%|██▏       | 429/2000 [00:11<00:33, 46.69it/s]"
     ]
    },
    {
     "name": "stdout",
     "output_type": "stream",
     "text": [
      "Epoch 420/2000, Loss: 0.1054\n",
      "Test Accuracy at Epoch 420: 72.89%\n",
      "Test F1-score at Epoch 420: 0.7339\n",
      "Classification Report at Epoch 420:\n",
      "                  precision    recall  f1-score   support\n",
      "\n",
      "    infringement       0.75      0.70      0.72       194\n",
      "non_infringement       0.71      0.76      0.73       186\n",
      "\n",
      "        accuracy                           0.73       380\n",
      "       macro avg       0.73      0.73      0.73       380\n",
      "    weighted avg       0.73      0.73      0.73       380\n",
      "\n",
      "Epoch 430/2000, Loss: 0.1065\n",
      "Test Accuracy at Epoch 430: 72.63%\n",
      "Test F1-score at Epoch 430: 0.7320\n"
     ]
    },
    {
     "name": "stderr",
     "output_type": "stream",
     "text": [
      "Training Epochs:  22%|██▏       | 434/2000 [00:11<00:33, 47.05it/s]"
     ]
    },
    {
     "name": "stdout",
     "output_type": "stream",
     "text": [
      "Classification Report at Epoch 430:\n",
      "                  precision    recall  f1-score   support\n",
      "\n",
      "    infringement       0.75      0.69      0.72       194\n",
      "non_infringement       0.70      0.76      0.73       186\n",
      "\n",
      "        accuracy                           0.73       380\n",
      "       macro avg       0.73      0.73      0.73       380\n",
      "    weighted avg       0.73      0.73      0.73       380\n",
      "\n"
     ]
    },
    {
     "name": "stderr",
     "output_type": "stream",
     "text": [
      "Training Epochs:  22%|██▏       | 444/2000 [00:11<00:38, 40.55it/s]"
     ]
    },
    {
     "name": "stdout",
     "output_type": "stream",
     "text": [
      "Epoch 440/2000, Loss: 0.1067\n",
      "Test Accuracy at Epoch 440: 75.26%\n",
      "Test F1-score at Epoch 440: 0.7513\n",
      "Classification Report at Epoch 440:\n",
      "                  precision    recall  f1-score   support\n",
      "\n",
      "    infringement       0.77      0.74      0.75       194\n",
      "non_infringement       0.74      0.76      0.75       186\n",
      "\n",
      "        accuracy                           0.75       380\n",
      "       macro avg       0.75      0.75      0.75       380\n",
      "    weighted avg       0.75      0.75      0.75       380\n",
      "\n"
     ]
    },
    {
     "name": "stderr",
     "output_type": "stream",
     "text": [
      "Training Epochs:  23%|██▎       | 454/2000 [00:11<00:41, 37.63it/s]"
     ]
    },
    {
     "name": "stdout",
     "output_type": "stream",
     "text": [
      "Epoch 450/2000, Loss: 0.1046\n",
      "Test Accuracy at Epoch 450: 72.63%\n",
      "Test F1-score at Epoch 450: 0.7320\n",
      "Classification Report at Epoch 450:\n",
      "                  precision    recall  f1-score   support\n",
      "\n",
      "    infringement       0.75      0.69      0.72       194\n",
      "non_infringement       0.70      0.76      0.73       186\n",
      "\n",
      "        accuracy                           0.73       380\n",
      "       macro avg       0.73      0.73      0.73       380\n",
      "    weighted avg       0.73      0.73      0.73       380\n",
      "\n"
     ]
    },
    {
     "name": "stderr",
     "output_type": "stream",
     "text": [
      "Training Epochs:  23%|██▎       | 467/2000 [00:11<00:32, 47.16it/s]"
     ]
    },
    {
     "name": "stdout",
     "output_type": "stream",
     "text": [
      "Epoch 460/2000, Loss: 0.1046\n",
      "Test Accuracy at Epoch 460: 72.89%\n",
      "Test F1-score at Epoch 460: 0.7339\n",
      "Classification Report at Epoch 460:\n",
      "                  precision    recall  f1-score   support\n",
      "\n",
      "    infringement       0.75      0.70      0.72       194\n",
      "non_infringement       0.71      0.76      0.73       186\n",
      "\n",
      "        accuracy                           0.73       380\n",
      "       macro avg       0.73      0.73      0.73       380\n",
      "    weighted avg       0.73      0.73      0.73       380\n",
      "\n"
     ]
    },
    {
     "name": "stderr",
     "output_type": "stream",
     "text": [
      "Training Epochs:  24%|██▍       | 478/2000 [00:12<00:32, 46.71it/s]"
     ]
    },
    {
     "name": "stdout",
     "output_type": "stream",
     "text": [
      "Epoch 470/2000, Loss: 0.1059\n",
      "Test Accuracy at Epoch 470: 75.00%\n",
      "Test F1-score at Epoch 470: 0.7480\n",
      "Classification Report at Epoch 470:\n",
      "                  precision    recall  f1-score   support\n",
      "\n",
      "    infringement       0.76      0.74      0.75       194\n",
      "non_infringement       0.74      0.76      0.75       186\n",
      "\n",
      "        accuracy                           0.75       380\n",
      "       macro avg       0.75      0.75      0.75       380\n",
      "    weighted avg       0.75      0.75      0.75       380\n",
      "\n",
      "Epoch 480/2000, Loss: 0.1038\n",
      "Test Accuracy at Epoch 480: 72.63%\n",
      "Test F1-score at Epoch 480: 0.7320\n",
      "Classification Report at Epoch 480:\n",
      "                  precision    recall  f1-score   support\n",
      "\n",
      "    infringement       0.75      0.69      0.72       194\n",
      "non_infringement       0.70      0.76      0.73       186\n",
      "\n",
      "        accuracy                           0.73       380\n",
      "       macro avg       0.73      0.73      0.73       380\n",
      "    weighted avg       0.73      0.73      0.73       380\n",
      "\n"
     ]
    },
    {
     "name": "stderr",
     "output_type": "stream",
     "text": [
      "Training Epochs:  25%|██▍       | 496/2000 [00:12<00:30, 49.28it/s]"
     ]
    },
    {
     "name": "stdout",
     "output_type": "stream",
     "text": [
      "Epoch 490/2000, Loss: 0.1044\n",
      "Test Accuracy at Epoch 490: 72.89%\n",
      "Test F1-score at Epoch 490: 0.7352\n",
      "Classification Report at Epoch 490:\n",
      "                  precision    recall  f1-score   support\n",
      "\n",
      "    infringement       0.76      0.69      0.72       194\n",
      "non_infringement       0.70      0.77      0.74       186\n",
      "\n",
      "        accuracy                           0.73       380\n",
      "       macro avg       0.73      0.73      0.73       380\n",
      "    weighted avg       0.73      0.73      0.73       380\n",
      "\n",
      "Epoch 500/2000, Loss: 0.1047\n",
      "Test Accuracy at Epoch 500: 75.00%\n",
      "Test F1-score at Epoch 500: 0.7480\n",
      "Classification Report at Epoch 500:\n",
      "                  precision    recall  f1-score   support\n",
      "\n",
      "    infringement       0.76      0.74      0.75       194\n",
      "non_infringement       0.74      0.76      0.75       186\n",
      "\n",
      "        accuracy                           0.75       380\n",
      "       macro avg       0.75      0.75      0.75       380\n",
      "    weighted avg       0.75      0.75      0.75       380\n",
      "\n"
     ]
    },
    {
     "name": "stderr",
     "output_type": "stream",
     "text": [
      "Training Epochs:  26%|██▌       | 520/2000 [00:13<00:30, 48.07it/s]"
     ]
    },
    {
     "name": "stdout",
     "output_type": "stream",
     "text": [
      "Epoch 510/2000, Loss: 0.1028\n",
      "Test Accuracy at Epoch 510: 73.16%\n",
      "Test F1-score at Epoch 510: 0.7371\n",
      "Classification Report at Epoch 510:\n",
      "                  precision    recall  f1-score   support\n",
      "\n",
      "    infringement       0.76      0.70      0.73       194\n",
      "non_infringement       0.71      0.77      0.74       186\n",
      "\n",
      "        accuracy                           0.73       380\n",
      "       macro avg       0.73      0.73      0.73       380\n",
      "    weighted avg       0.73      0.73      0.73       380\n",
      "\n",
      "Epoch 520/2000, Loss: 0.1045\n",
      "Test Accuracy at Epoch 520: 72.89%\n",
      "Test F1-score at Epoch 520: 0.7352\n",
      "Classification Report at Epoch 520:\n",
      "                  precision    recall  f1-score   support\n",
      "\n",
      "    infringement       0.76      0.69      0.72       194\n",
      "non_infringement       0.70      0.77      0.74       186\n",
      "\n",
      "        accuracy                           0.73       380\n",
      "       macro avg       0.73      0.73      0.73       380\n",
      "    weighted avg       0.73      0.73      0.73       380\n",
      "\n"
     ]
    },
    {
     "name": "stderr",
     "output_type": "stream",
     "text": [
      "Training Epochs:  27%|██▋       | 539/2000 [00:13<00:29, 49.41it/s]"
     ]
    },
    {
     "name": "stdout",
     "output_type": "stream",
     "text": [
      "Epoch 530/2000, Loss: 0.1031\n",
      "Test Accuracy at Epoch 530: 75.26%\n",
      "Test F1-score at Epoch 530: 0.7513\n",
      "Classification Report at Epoch 530:\n",
      "                  precision    recall  f1-score   support\n",
      "\n",
      "    infringement       0.77      0.74      0.75       194\n",
      "non_infringement       0.74      0.76      0.75       186\n",
      "\n",
      "        accuracy                           0.75       380\n",
      "       macro avg       0.75      0.75      0.75       380\n",
      "    weighted avg       0.75      0.75      0.75       380\n",
      "\n",
      "Epoch 540/2000, Loss: 0.1025\n",
      "Test Accuracy at Epoch 540: 73.42%\n",
      "Test F1-score at Epoch 540: 0.7377\n",
      "Classification Report at Epoch 540:\n",
      "                  precision    recall  f1-score   support\n",
      "\n",
      "    infringement       0.76      0.71      0.73       194\n",
      "non_infringement       0.71      0.76      0.74       186\n",
      "\n",
      "        accuracy                           0.73       380\n",
      "       macro avg       0.74      0.73      0.73       380\n",
      "    weighted avg       0.74      0.73      0.73       380\n",
      "\n"
     ]
    },
    {
     "name": "stderr",
     "output_type": "stream",
     "text": [
      "Training Epochs:  28%|██▊       | 557/2000 [00:13<00:30, 47.37it/s]"
     ]
    },
    {
     "name": "stdout",
     "output_type": "stream",
     "text": [
      "Epoch 550/2000, Loss: 0.1039\n",
      "Test Accuracy at Epoch 550: 72.11%\n",
      "Test F1-score at Epoch 550: 0.7323\n",
      "Classification Report at Epoch 550:\n",
      "                  precision    recall  f1-score   support\n",
      "\n",
      "    infringement       0.76      0.66      0.71       194\n",
      "non_infringement       0.69      0.78      0.73       186\n",
      "\n",
      "        accuracy                           0.72       380\n",
      "       macro avg       0.72      0.72      0.72       380\n",
      "    weighted avg       0.73      0.72      0.72       380\n",
      "\n",
      "Epoch 560/2000, Loss: 0.1017\n",
      "Test Accuracy at Epoch 560: 73.42%\n",
      "Test F1-score at Epoch 560: 0.7377\n",
      "Classification Report at Epoch 560:\n",
      "                  precision    recall  f1-score   support\n",
      "\n",
      "    infringement       0.76      0.71      0.73       194\n",
      "non_infringement       0.71      0.76      0.74       186\n",
      "\n",
      "        accuracy                           0.73       380\n",
      "       macro avg       0.74      0.73      0.73       380\n",
      "    weighted avg       0.74      0.73      0.73       380\n",
      "\n"
     ]
    },
    {
     "name": "stderr",
     "output_type": "stream",
     "text": [
      "Training Epochs:  29%|██▉       | 575/2000 [00:14<00:29, 47.54it/s]"
     ]
    },
    {
     "name": "stdout",
     "output_type": "stream",
     "text": [
      "Epoch 570/2000, Loss: 0.1040\n",
      "Test Accuracy at Epoch 570: 75.26%\n",
      "Test F1-score at Epoch 570: 0.7513\n",
      "Classification Report at Epoch 570:\n",
      "                  precision    recall  f1-score   support\n",
      "\n",
      "    infringement       0.77      0.74      0.75       194\n",
      "non_infringement       0.74      0.76      0.75       186\n",
      "\n",
      "        accuracy                           0.75       380\n",
      "       macro avg       0.75      0.75      0.75       380\n",
      "    weighted avg       0.75      0.75      0.75       380\n",
      "\n",
      "Epoch 580/2000, Loss: 0.1019\n",
      "Test Accuracy at Epoch 580: 73.42%\n",
      "Test F1-score at Epoch 580: 0.7404\n",
      "Classification Report at Epoch 580:\n",
      "                  precision    recall  f1-score   support\n",
      "\n",
      "    infringement       0.76      0.70      0.73       194\n",
      "non_infringement       0.71      0.77      0.74       186\n",
      "\n",
      "        accuracy                           0.73       380\n",
      "       macro avg       0.74      0.74      0.73       380\n",
      "    weighted avg       0.74      0.73      0.73       380\n",
      "\n"
     ]
    },
    {
     "name": "stderr",
     "output_type": "stream",
     "text": [
      "Training Epochs:  30%|██▉       | 599/2000 [00:14<00:28, 50.03it/s]"
     ]
    },
    {
     "name": "stdout",
     "output_type": "stream",
     "text": [
      "Epoch 590/2000, Loss: 0.1019\n",
      "Test Accuracy at Epoch 590: 73.42%\n",
      "Test F1-score at Epoch 590: 0.7404\n",
      "Classification Report at Epoch 590:\n",
      "                  precision    recall  f1-score   support\n",
      "\n",
      "    infringement       0.76      0.70      0.73       194\n",
      "non_infringement       0.71      0.77      0.74       186\n",
      "\n",
      "        accuracy                           0.73       380\n",
      "       macro avg       0.74      0.74      0.73       380\n",
      "    weighted avg       0.74      0.73      0.73       380\n",
      "\n",
      "Epoch 600/2000, Loss: 0.1026\n",
      "Test Accuracy at Epoch 600: 75.79%\n",
      "Test F1-score at Epoch 600: 0.7579\n",
      "Classification Report at Epoch 600:\n",
      "                  precision    recall  f1-score   support\n",
      "\n",
      "    infringement       0.77      0.74      0.76       194\n",
      "non_infringement       0.74      0.77      0.76       186\n",
      "\n",
      "        accuracy                           0.76       380\n",
      "       macro avg       0.76      0.76      0.76       380\n",
      "    weighted avg       0.76      0.76      0.76       380\n",
      "\n"
     ]
    },
    {
     "name": "stderr",
     "output_type": "stream",
     "text": [
      "Training Epochs:  31%|███       | 616/2000 [00:15<00:28, 48.95it/s]"
     ]
    },
    {
     "name": "stdout",
     "output_type": "stream",
     "text": [
      "Epoch 610/2000, Loss: 0.1008\n",
      "Test Accuracy at Epoch 610: 73.42%\n",
      "Test F1-score at Epoch 610: 0.7404\n",
      "Classification Report at Epoch 610:\n",
      "                  precision    recall  f1-score   support\n",
      "\n",
      "    infringement       0.76      0.70      0.73       194\n",
      "non_infringement       0.71      0.77      0.74       186\n",
      "\n",
      "        accuracy                           0.73       380\n",
      "       macro avg       0.74      0.74      0.73       380\n",
      "    weighted avg       0.74      0.73      0.73       380\n",
      "\n",
      "Epoch 620/2000, Loss: 0.1031\n",
      "Test Accuracy at Epoch 620: 71.58%\n",
      "Test F1-score at Epoch 620: 0.7273\n",
      "Classification Report at Epoch 620:\n",
      "                  precision    recall  f1-score   support\n",
      "\n",
      "    infringement       0.75      0.66      0.70       194\n",
      "non_infringement       0.69      0.77      0.73       186\n",
      "\n",
      "        accuracy                           0.72       380\n",
      "       macro avg       0.72      0.72      0.72       380\n",
      "    weighted avg       0.72      0.72      0.72       380\n",
      "\n"
     ]
    },
    {
     "name": "stderr",
     "output_type": "stream",
     "text": [
      "Training Epochs:  32%|███▏      | 633/2000 [00:15<00:28, 48.07it/s]"
     ]
    },
    {
     "name": "stdout",
     "output_type": "stream",
     "text": [
      "Epoch 630/2000, Loss: 0.1006\n",
      "Test Accuracy at Epoch 630: 73.68%\n",
      "Test F1-score at Epoch 630: 0.7423\n",
      "Classification Report at Epoch 630:\n",
      "                  precision    recall  f1-score   support\n",
      "\n",
      "    infringement       0.76      0.70      0.73       194\n",
      "non_infringement       0.71      0.77      0.74       186\n",
      "\n",
      "        accuracy                           0.74       380\n",
      "       macro avg       0.74      0.74      0.74       380\n",
      "    weighted avg       0.74      0.74      0.74       380\n",
      "\n",
      "Epoch 640/2000, Loss: 0.1024\n"
     ]
    },
    {
     "name": "stderr",
     "output_type": "stream",
     "text": [
      "Training Epochs:  32%|███▏      | 646/2000 [00:15<00:28, 48.01it/s]"
     ]
    },
    {
     "name": "stdout",
     "output_type": "stream",
     "text": [
      "Test Accuracy at Epoch 640: 77.11%\n",
      "Test F1-score at Epoch 640: 0.7680\n",
      "Classification Report at Epoch 640:\n",
      "                  precision    recall  f1-score   support\n",
      "\n",
      "    infringement       0.78      0.77      0.77       194\n",
      "non_infringement       0.76      0.77      0.77       186\n",
      "\n",
      "        accuracy                           0.77       380\n",
      "       macro avg       0.77      0.77      0.77       380\n",
      "    weighted avg       0.77      0.77      0.77       380\n",
      "\n",
      "Epoch 650/2000, Loss: 0.1008\n",
      "Test Accuracy at Epoch 650: 73.16%\n",
      "Test F1-score at Epoch 650: 0.7385\n",
      "Classification Report at Epoch 650:\n",
      "                  precision    recall  f1-score   support\n",
      "\n",
      "    infringement       0.76      0.69      0.72       194\n",
      "non_infringement       0.71      0.77      0.74       186\n",
      "\n",
      "        accuracy                           0.73       380\n",
      "       macro avg       0.73      0.73      0.73       380\n",
      "    weighted avg       0.73      0.73      0.73       380\n",
      "\n"
     ]
    },
    {
     "name": "stderr",
     "output_type": "stream",
     "text": [
      "Training Epochs:  33%|███▎      | 664/2000 [00:16<00:28, 46.26it/s]"
     ]
    },
    {
     "name": "stdout",
     "output_type": "stream",
     "text": [
      "Epoch 660/2000, Loss: 0.1007\n",
      "Test Accuracy at Epoch 660: 73.16%\n",
      "Test F1-score at Epoch 660: 0.7385\n",
      "Classification Report at Epoch 660:\n",
      "                  precision    recall  f1-score   support\n",
      "\n",
      "    infringement       0.76      0.69      0.72       194\n",
      "non_infringement       0.71      0.77      0.74       186\n",
      "\n",
      "        accuracy                           0.73       380\n",
      "       macro avg       0.73      0.73      0.73       380\n",
      "    weighted avg       0.73      0.73      0.73       380\n",
      "\n",
      "Epoch 670/2000, Loss: 0.1014\n"
     ]
    },
    {
     "name": "stderr",
     "output_type": "stream",
     "text": [
      "Training Epochs:  34%|███▍      | 676/2000 [00:16<00:26, 50.39it/s]"
     ]
    },
    {
     "name": "stdout",
     "output_type": "stream",
     "text": [
      "Test Accuracy at Epoch 670: 76.84%\n",
      "Test F1-score at Epoch 670: 0.7660\n",
      "Classification Report at Epoch 670:\n",
      "                  precision    recall  f1-score   support\n",
      "\n",
      "    infringement       0.78      0.76      0.77       194\n",
      "non_infringement       0.76      0.77      0.77       186\n",
      "\n",
      "        accuracy                           0.77       380\n",
      "       macro avg       0.77      0.77      0.77       380\n",
      "    weighted avg       0.77      0.77      0.77       380\n",
      "\n"
     ]
    },
    {
     "name": "stderr",
     "output_type": "stream",
     "text": [
      "Training Epochs:  34%|███▍      | 688/2000 [00:16<00:27, 48.05it/s]"
     ]
    },
    {
     "name": "stdout",
     "output_type": "stream",
     "text": [
      "Epoch 680/2000, Loss: 0.0998\n",
      "Test Accuracy at Epoch 680: 73.16%\n",
      "Test F1-score at Epoch 680: 0.7385\n",
      "Classification Report at Epoch 680:\n",
      "                  precision    recall  f1-score   support\n",
      "\n",
      "    infringement       0.76      0.69      0.72       194\n",
      "non_infringement       0.71      0.77      0.74       186\n",
      "\n",
      "        accuracy                           0.73       380\n",
      "       macro avg       0.73      0.73      0.73       380\n",
      "    weighted avg       0.73      0.73      0.73       380\n",
      "\n",
      "Epoch 690/2000, Loss: 0.1019\n",
      "Test Accuracy at Epoch 690: 71.58%\n",
      "Test F1-score at Epoch 690: 0.7300\n",
      "Classification Report at Epoch 690:\n",
      "                  precision    recall  f1-score   support\n",
      "\n",
      "    infringement       0.76      0.65      0.70       194\n",
      "non_infringement       0.68      0.78      0.73       186\n",
      "\n",
      "        accuracy                           0.72       380\n",
      "       macro avg       0.72      0.72      0.71       380\n",
      "    weighted avg       0.72      0.72      0.71       380\n",
      "\n"
     ]
    },
    {
     "name": "stderr",
     "output_type": "stream",
     "text": [
      "Training Epochs:  35%|███▌      | 706/2000 [00:16<00:27, 47.07it/s]"
     ]
    },
    {
     "name": "stdout",
     "output_type": "stream",
     "text": [
      "Epoch 700/2000, Loss: 0.0995\n",
      "Test Accuracy at Epoch 700: 74.74%\n",
      "Test F1-score at Epoch 700: 0.7500\n",
      "Classification Report at Epoch 700:\n",
      "                  precision    recall  f1-score   support\n",
      "\n",
      "    infringement       0.77      0.72      0.74       194\n",
      "non_infringement       0.73      0.77      0.75       186\n",
      "\n",
      "        accuracy                           0.75       380\n",
      "       macro avg       0.75      0.75      0.75       380\n",
      "    weighted avg       0.75      0.75      0.75       380\n",
      "\n",
      "Epoch 710/2000, Loss: 0.1018\n",
      "Test Accuracy at Epoch 710: 76.84%\n",
      "Test F1-score at Epoch 710: 0.7660\n",
      "Classification Report at Epoch 710:\n",
      "                  precision    recall  f1-score   support\n",
      "\n",
      "    infringement       0.78      0.76      0.77       194\n",
      "non_infringement       0.76      0.77      0.77       186\n",
      "\n",
      "        accuracy                           0.77       380\n",
      "       macro avg       0.77      0.77      0.77       380\n",
      "    weighted avg       0.77      0.77      0.77       380\n",
      "\n"
     ]
    },
    {
     "name": "stderr",
     "output_type": "stream",
     "text": [
      "Training Epochs:  36%|███▋      | 729/2000 [00:17<00:26, 48.47it/s]"
     ]
    },
    {
     "name": "stdout",
     "output_type": "stream",
     "text": [
      "Epoch 720/2000, Loss: 0.0994\n",
      "Test Accuracy at Epoch 720: 73.68%\n",
      "Test F1-score at Epoch 720: 0.7449\n",
      "Classification Report at Epoch 720:\n",
      "                  precision    recall  f1-score   support\n",
      "\n",
      "    infringement       0.77      0.69      0.73       194\n",
      "non_infringement       0.71      0.78      0.74       186\n",
      "\n",
      "        accuracy                           0.74       380\n",
      "       macro avg       0.74      0.74      0.74       380\n",
      "    weighted avg       0.74      0.74      0.74       380\n",
      "\n",
      "Epoch 730/2000, Loss: 0.1008\n"
     ]
    },
    {
     "name": "stderr",
     "output_type": "stream",
     "text": [
      "Training Epochs:  37%|███▋      | 734/2000 [00:17<00:29, 42.96it/s]"
     ]
    },
    {
     "name": "stdout",
     "output_type": "stream",
     "text": [
      "Test Accuracy at Epoch 730: 73.68%\n",
      "Test F1-score at Epoch 730: 0.7449\n",
      "Classification Report at Epoch 730:\n",
      "                  precision    recall  f1-score   support\n",
      "\n",
      "    infringement       0.77      0.69      0.73       194\n",
      "non_infringement       0.71      0.78      0.74       186\n",
      "\n",
      "        accuracy                           0.74       380\n",
      "       macro avg       0.74      0.74      0.74       380\n",
      "    weighted avg       0.74      0.74      0.74       380\n",
      "\n"
     ]
    },
    {
     "name": "stderr",
     "output_type": "stream",
     "text": [
      "Training Epochs:  37%|███▋      | 746/2000 [00:17<00:26, 48.12it/s]"
     ]
    },
    {
     "name": "stdout",
     "output_type": "stream",
     "text": [
      "Epoch 740/2000, Loss: 0.0995\n",
      "Test Accuracy at Epoch 740: 76.58%\n",
      "Test F1-score at Epoch 740: 0.7639\n",
      "Classification Report at Epoch 740:\n",
      "                  precision    recall  f1-score   support\n",
      "\n",
      "    infringement       0.78      0.76      0.77       194\n",
      "non_infringement       0.75      0.77      0.76       186\n",
      "\n",
      "        accuracy                           0.77       380\n",
      "       macro avg       0.77      0.77      0.77       380\n",
      "    weighted avg       0.77      0.77      0.77       380\n",
      "\n",
      "Epoch 750/2000, Loss: 0.0997\n",
      "Test Accuracy at Epoch 750: 74.74%\n",
      "Test F1-score at Epoch 750: 0.7500\n",
      "Classification Report at Epoch 750:\n",
      "                  precision    recall  f1-score   support\n",
      "\n",
      "    infringement       0.77      0.72      0.74       194\n",
      "non_infringement       0.73      0.77      0.75       186\n",
      "\n",
      "        accuracy                           0.75       380\n",
      "       macro avg       0.75      0.75      0.75       380\n",
      "    weighted avg       0.75      0.75      0.75       380\n",
      "\n"
     ]
    },
    {
     "name": "stderr",
     "output_type": "stream",
     "text": [
      "Training Epochs:  38%|███▊      | 770/2000 [00:18<00:24, 51.20it/s]"
     ]
    },
    {
     "name": "stdout",
     "output_type": "stream",
     "text": [
      "Epoch 760/2000, Loss: 0.0998\n",
      "Test Accuracy at Epoch 760: 74.74%\n",
      "Test F1-score at Epoch 760: 0.7538\n",
      "Classification Report at Epoch 760:\n",
      "                  precision    recall  f1-score   support\n",
      "\n",
      "    infringement       0.78      0.71      0.74       194\n",
      "non_infringement       0.72      0.79      0.75       186\n",
      "\n",
      "        accuracy                           0.75       380\n",
      "       macro avg       0.75      0.75      0.75       380\n",
      "    weighted avg       0.75      0.75      0.75       380\n",
      "\n",
      "Epoch 770/2000, Loss: 0.0989\n",
      "Test Accuracy at Epoch 770: 75.00%\n",
      "Test F1-score at Epoch 770: 0.7545\n",
      "Classification Report at Epoch 770:\n",
      "                  precision    recall  f1-score   support\n",
      "\n",
      "    infringement       0.78      0.72      0.75       194\n",
      "non_infringement       0.73      0.78      0.75       186\n",
      "\n",
      "        accuracy                           0.75       380\n",
      "       macro avg       0.75      0.75      0.75       380\n",
      "    weighted avg       0.75      0.75      0.75       380\n",
      "\n"
     ]
    },
    {
     "name": "stderr",
     "output_type": "stream",
     "text": [
      "Training Epochs:  39%|███▉      | 789/2000 [00:18<00:22, 53.34it/s]"
     ]
    },
    {
     "name": "stdout",
     "output_type": "stream",
     "text": [
      "Epoch 780/2000, Loss: 0.1001\n",
      "Test Accuracy at Epoch 780: 76.58%\n",
      "Test F1-score at Epoch 780: 0.7639\n",
      "Classification Report at Epoch 780:\n",
      "                  precision    recall  f1-score   support\n",
      "\n",
      "    infringement       0.78      0.76      0.77       194\n",
      "non_infringement       0.75      0.77      0.76       186\n",
      "\n",
      "        accuracy                           0.77       380\n",
      "       macro avg       0.77      0.77      0.77       380\n",
      "    weighted avg       0.77      0.77      0.77       380\n",
      "\n",
      "Epoch 790/2000, Loss: 0.0985\n",
      "Test Accuracy at Epoch 790: 75.26%\n",
      "Test F1-score at Epoch 790: 0.7565\n",
      "Classification Report at Epoch 790:\n",
      "                  precision    recall  f1-score   support\n",
      "\n",
      "    infringement       0.78      0.72      0.75       194\n",
      "non_infringement       0.73      0.78      0.76       186\n",
      "\n",
      "        accuracy                           0.75       380\n",
      "       macro avg       0.75      0.75      0.75       380\n",
      "    weighted avg       0.75      0.75      0.75       380\n",
      "\n"
     ]
    },
    {
     "name": "stderr",
     "output_type": "stream",
     "text": [
      "Training Epochs:  40%|████      | 808/2000 [00:19<00:22, 52.66it/s]"
     ]
    },
    {
     "name": "stdout",
     "output_type": "stream",
     "text": [
      "Epoch 800/2000, Loss: 0.1003\n",
      "Test Accuracy at Epoch 800: 73.16%\n",
      "Test F1-score at Epoch 800: 0.7424\n",
      "Classification Report at Epoch 800:\n",
      "                  precision    recall  f1-score   support\n",
      "\n",
      "    infringement       0.77      0.68      0.72       194\n",
      "non_infringement       0.70      0.79      0.74       186\n",
      "\n",
      "        accuracy                           0.73       380\n",
      "       macro avg       0.74      0.73      0.73       380\n",
      "    weighted avg       0.74      0.73      0.73       380\n",
      "\n",
      "Epoch 810/2000, Loss: 0.0982\n",
      "Test Accuracy at Epoch 810: 75.53%\n",
      "Test F1-score at Epoch 810: 0.7597\n",
      "Classification Report at Epoch 810:\n",
      "                  precision    recall  f1-score   support\n",
      "\n",
      "    infringement       0.78      0.72      0.75       194\n",
      "non_infringement       0.73      0.79      0.76       186\n",
      "\n",
      "        accuracy                           0.76       380\n",
      "       macro avg       0.76      0.76      0.76       380\n",
      "    weighted avg       0.76      0.76      0.76       380\n",
      "\n"
     ]
    },
    {
     "name": "stderr",
     "output_type": "stream",
     "text": [
      "Training Epochs:  41%|████▏     | 826/2000 [00:19<00:23, 50.49it/s]"
     ]
    },
    {
     "name": "stdout",
     "output_type": "stream",
     "text": [
      "Epoch 820/2000, Loss: 0.1005\n",
      "Test Accuracy at Epoch 820: 76.58%\n",
      "Test F1-score at Epoch 820: 0.7639\n",
      "Classification Report at Epoch 820:\n",
      "                  precision    recall  f1-score   support\n",
      "\n",
      "    infringement       0.78      0.76      0.77       194\n",
      "non_infringement       0.75      0.77      0.76       186\n",
      "\n",
      "        accuracy                           0.77       380\n",
      "       macro avg       0.77      0.77      0.77       380\n",
      "    weighted avg       0.77      0.77      0.77       380\n",
      "\n",
      "Epoch 830/2000, Loss: 0.0980\n",
      "Test Accuracy at Epoch 830: 75.26%\n",
      "Test F1-score at Epoch 830: 0.7577\n"
     ]
    },
    {
     "name": "stderr",
     "output_type": "stream",
     "text": [
      "Training Epochs:  42%|████▏     | 838/2000 [00:19<00:24, 47.73it/s]"
     ]
    },
    {
     "name": "stdout",
     "output_type": "stream",
     "text": [
      "Classification Report at Epoch 830:\n",
      "                  precision    recall  f1-score   support\n",
      "\n",
      "    infringement       0.78      0.72      0.75       194\n",
      "non_infringement       0.73      0.79      0.76       186\n",
      "\n",
      "        accuracy                           0.75       380\n",
      "       macro avg       0.75      0.75      0.75       380\n",
      "    weighted avg       0.75      0.75      0.75       380\n",
      "\n"
     ]
    },
    {
     "name": "stderr",
     "output_type": "stream",
     "text": [
      "Training Epochs:  42%|████▎     | 850/2000 [00:19<00:22, 50.41it/s]"
     ]
    },
    {
     "name": "stdout",
     "output_type": "stream",
     "text": [
      "Epoch 840/2000, Loss: 0.1003\n",
      "Test Accuracy at Epoch 840: 72.63%\n",
      "Test F1-score at Epoch 840: 0.7387\n",
      "Classification Report at Epoch 840:\n",
      "                  precision    recall  f1-score   support\n",
      "\n",
      "    infringement       0.77      0.66      0.71       194\n",
      "non_infringement       0.69      0.79      0.74       186\n",
      "\n",
      "        accuracy                           0.73       380\n",
      "       macro avg       0.73      0.73      0.73       380\n",
      "    weighted avg       0.73      0.73      0.73       380\n",
      "\n",
      "Epoch 850/2000, Loss: 0.0979\n",
      "Test Accuracy at Epoch 850: 75.53%\n",
      "Test F1-score at Epoch 850: 0.7597\n",
      "Classification Report at Epoch 850:\n",
      "                  precision    recall  f1-score   support\n",
      "\n",
      "    infringement       0.78      0.72      0.75       194\n",
      "non_infringement       0.73      0.79      0.76       186\n",
      "\n",
      "        accuracy                           0.76       380\n",
      "       macro avg       0.76      0.76      0.76       380\n",
      "    weighted avg       0.76      0.76      0.76       380\n",
      "\n"
     ]
    },
    {
     "name": "stderr",
     "output_type": "stream",
     "text": [
      "Training Epochs:  43%|████▎     | 867/2000 [00:20<00:23, 47.70it/s]"
     ]
    },
    {
     "name": "stdout",
     "output_type": "stream",
     "text": [
      "Epoch 860/2000, Loss: 0.1002\n",
      "Test Accuracy at Epoch 860: 77.37%\n",
      "Test F1-score at Epoch 860: 0.7737\n",
      "Classification Report at Epoch 860:\n",
      "                  precision    recall  f1-score   support\n",
      "\n",
      "    infringement       0.79      0.76      0.77       194\n",
      "non_infringement       0.76      0.79      0.77       186\n",
      "\n",
      "        accuracy                           0.77       380\n",
      "       macro avg       0.77      0.77      0.77       380\n",
      "    weighted avg       0.77      0.77      0.77       380\n",
      "\n"
     ]
    },
    {
     "name": "stderr",
     "output_type": "stream",
     "text": [
      "Training Epochs:  44%|████▍     | 878/2000 [00:20<00:24, 45.89it/s]"
     ]
    },
    {
     "name": "stdout",
     "output_type": "stream",
     "text": [
      "Epoch 870/2000, Loss: 0.0978\n",
      "Test Accuracy at Epoch 870: 75.26%\n",
      "Test F1-score at Epoch 870: 0.7577\n",
      "Classification Report at Epoch 870:\n",
      "                  precision    recall  f1-score   support\n",
      "\n",
      "    infringement       0.78      0.72      0.75       194\n",
      "non_infringement       0.73      0.79      0.76       186\n",
      "\n",
      "        accuracy                           0.75       380\n",
      "       macro avg       0.75      0.75      0.75       380\n",
      "    weighted avg       0.75      0.75      0.75       380\n",
      "\n",
      "Epoch 880/2000, Loss: 0.0998\n"
     ]
    },
    {
     "name": "stderr",
     "output_type": "stream",
     "text": [
      "Training Epochs:  44%|████▍     | 883/2000 [00:20<00:23, 46.61it/s]"
     ]
    },
    {
     "name": "stdout",
     "output_type": "stream",
     "text": [
      "Test Accuracy at Epoch 880: 72.63%\n",
      "Test F1-score at Epoch 880: 0.7387\n",
      "Classification Report at Epoch 880:\n",
      "                  precision    recall  f1-score   support\n",
      "\n",
      "    infringement       0.77      0.66      0.71       194\n",
      "non_infringement       0.69      0.79      0.74       186\n",
      "\n",
      "        accuracy                           0.73       380\n",
      "       macro avg       0.73      0.73      0.73       380\n",
      "    weighted avg       0.73      0.73      0.73       380\n",
      "\n"
     ]
    },
    {
     "name": "stderr",
     "output_type": "stream",
     "text": [
      "Training Epochs:  45%|████▍     | 899/2000 [00:21<00:25, 42.88it/s]"
     ]
    },
    {
     "name": "stdout",
     "output_type": "stream",
     "text": [
      "Epoch 890/2000, Loss: 0.0977\n",
      "Test Accuracy at Epoch 890: 75.53%\n",
      "Test F1-score at Epoch 890: 0.7597\n",
      "Classification Report at Epoch 890:\n",
      "                  precision    recall  f1-score   support\n",
      "\n",
      "    infringement       0.78      0.72      0.75       194\n",
      "non_infringement       0.73      0.79      0.76       186\n",
      "\n",
      "        accuracy                           0.76       380\n",
      "       macro avg       0.76      0.76      0.76       380\n",
      "    weighted avg       0.76      0.76      0.76       380\n",
      "\n"
     ]
    },
    {
     "name": "stderr",
     "output_type": "stream",
     "text": [
      "Training Epochs:  45%|████▌     | 904/2000 [00:21<00:27, 39.23it/s]"
     ]
    },
    {
     "name": "stdout",
     "output_type": "stream",
     "text": [
      "Epoch 900/2000, Loss: 0.0995\n",
      "Test Accuracy at Epoch 900: 77.37%\n",
      "Test F1-score at Epoch 900: 0.7737\n",
      "Classification Report at Epoch 900:\n",
      "                  precision    recall  f1-score   support\n",
      "\n",
      "    infringement       0.79      0.76      0.77       194\n",
      "non_infringement       0.76      0.79      0.77       186\n",
      "\n",
      "        accuracy                           0.77       380\n",
      "       macro avg       0.77      0.77      0.77       380\n",
      "    weighted avg       0.77      0.77      0.77       380\n",
      "\n"
     ]
    },
    {
     "name": "stderr",
     "output_type": "stream",
     "text": [
      "Training Epochs:  46%|████▌     | 917/2000 [00:21<00:22, 47.77it/s]"
     ]
    },
    {
     "name": "stdout",
     "output_type": "stream",
     "text": [
      "Epoch 910/2000, Loss: 0.0976\n",
      "Test Accuracy at Epoch 910: 74.21%\n",
      "Test F1-score at Epoch 910: 0.7500\n",
      "Classification Report at Epoch 910:\n",
      "                  precision    recall  f1-score   support\n",
      "\n",
      "    infringement       0.78      0.70      0.73       194\n",
      "non_infringement       0.71      0.79      0.75       186\n",
      "\n",
      "        accuracy                           0.74       380\n",
      "       macro avg       0.74      0.74      0.74       380\n",
      "    weighted avg       0.75      0.74      0.74       380\n",
      "\n"
     ]
    },
    {
     "name": "stderr",
     "output_type": "stream",
     "text": [
      "Training Epochs:  46%|████▋     | 928/2000 [00:21<00:23, 46.59it/s]"
     ]
    },
    {
     "name": "stdout",
     "output_type": "stream",
     "text": [
      "Epoch 920/2000, Loss: 0.0990\n",
      "Test Accuracy at Epoch 920: 74.21%\n",
      "Test F1-score at Epoch 920: 0.7500\n",
      "Classification Report at Epoch 920:\n",
      "                  precision    recall  f1-score   support\n",
      "\n",
      "    infringement       0.78      0.70      0.73       194\n",
      "non_infringement       0.71      0.79      0.75       186\n",
      "\n",
      "        accuracy                           0.74       380\n",
      "       macro avg       0.74      0.74      0.74       380\n",
      "    weighted avg       0.75      0.74      0.74       380\n",
      "\n",
      "Epoch 930/2000, Loss: 0.0976\n"
     ]
    },
    {
     "name": "stderr",
     "output_type": "stream",
     "text": [
      "Training Epochs:  47%|████▋     | 934/2000 [00:21<00:21, 48.53it/s]"
     ]
    },
    {
     "name": "stdout",
     "output_type": "stream",
     "text": [
      "Test Accuracy at Epoch 930: 77.37%\n",
      "Test F1-score at Epoch 930: 0.7737\n",
      "Classification Report at Epoch 930:\n",
      "                  precision    recall  f1-score   support\n",
      "\n",
      "    infringement       0.79      0.76      0.77       194\n",
      "non_infringement       0.76      0.79      0.77       186\n",
      "\n",
      "        accuracy                           0.77       380\n",
      "       macro avg       0.77      0.77      0.77       380\n",
      "    weighted avg       0.77      0.77      0.77       380\n",
      "\n"
     ]
    },
    {
     "name": "stderr",
     "output_type": "stream",
     "text": [
      "Training Epochs:  47%|████▋     | 946/2000 [00:22<00:22, 46.82it/s]"
     ]
    },
    {
     "name": "stdout",
     "output_type": "stream",
     "text": [
      "Epoch 940/2000, Loss: 0.0986\n",
      "Test Accuracy at Epoch 940: 77.37%\n",
      "Test F1-score at Epoch 940: 0.7737\n",
      "Classification Report at Epoch 940:\n",
      "                  precision    recall  f1-score   support\n",
      "\n",
      "    infringement       0.79      0.76      0.77       194\n",
      "non_infringement       0.76      0.79      0.77       186\n",
      "\n",
      "        accuracy                           0.77       380\n",
      "       macro avg       0.77      0.77      0.77       380\n",
      "    weighted avg       0.77      0.77      0.77       380\n",
      "\n",
      "Epoch 950/2000, Loss: 0.0975\n",
      "Test Accuracy at Epoch 950: 74.21%\n",
      "Test F1-score at Epoch 950: 0.7500\n",
      "Classification Report at Epoch 950:\n",
      "                  precision    recall  f1-score   support\n",
      "\n",
      "    infringement       0.78      0.70      0.73       194\n",
      "non_infringement       0.71      0.79      0.75       186\n",
      "\n",
      "        accuracy                           0.74       380\n",
      "       macro avg       0.74      0.74      0.74       380\n",
      "    weighted avg       0.75      0.74      0.74       380\n",
      "\n"
     ]
    },
    {
     "name": "stderr",
     "output_type": "stream",
     "text": [
      "Training Epochs:  48%|████▊     | 969/2000 [00:22<00:20, 49.94it/s]"
     ]
    },
    {
     "name": "stdout",
     "output_type": "stream",
     "text": [
      "Epoch 960/2000, Loss: 0.0982\n",
      "Test Accuracy at Epoch 960: 74.21%\n",
      "Test F1-score at Epoch 960: 0.7500\n",
      "Classification Report at Epoch 960:\n",
      "                  precision    recall  f1-score   support\n",
      "\n",
      "    infringement       0.78      0.70      0.73       194\n",
      "non_infringement       0.71      0.79      0.75       186\n",
      "\n",
      "        accuracy                           0.74       380\n",
      "       macro avg       0.74      0.74      0.74       380\n",
      "    weighted avg       0.75      0.74      0.74       380\n",
      "\n",
      "Epoch 970/2000, Loss: 0.0975\n",
      "Test Accuracy at Epoch 970: 77.37%\n",
      "Test F1-score at Epoch 970: 0.7737\n",
      "Classification Report at Epoch 970:\n",
      "                  precision    recall  f1-score   support\n",
      "\n",
      "    infringement       0.79      0.76      0.77       194\n",
      "non_infringement       0.76      0.79      0.77       186\n",
      "\n",
      "        accuracy                           0.77       380\n",
      "       macro avg       0.77      0.77      0.77       380\n",
      "    weighted avg       0.77      0.77      0.77       380\n",
      "\n"
     ]
    },
    {
     "name": "stderr",
     "output_type": "stream",
     "text": [
      "Training Epochs:  49%|████▉     | 988/2000 [00:23<00:20, 49.62it/s]"
     ]
    },
    {
     "name": "stdout",
     "output_type": "stream",
     "text": [
      "Epoch 980/2000, Loss: 0.0978\n",
      "Test Accuracy at Epoch 980: 77.37%\n",
      "Test F1-score at Epoch 980: 0.7737\n",
      "Classification Report at Epoch 980:\n",
      "                  precision    recall  f1-score   support\n",
      "\n",
      "    infringement       0.79      0.76      0.77       194\n",
      "non_infringement       0.76      0.79      0.77       186\n",
      "\n",
      "        accuracy                           0.77       380\n",
      "       macro avg       0.77      0.77      0.77       380\n",
      "    weighted avg       0.77      0.77      0.77       380\n",
      "\n",
      "Epoch 990/2000, Loss: 0.0974\n",
      "Test Accuracy at Epoch 990: 74.21%\n",
      "Test F1-score at Epoch 990: 0.7500\n",
      "Classification Report at Epoch 990:\n",
      "                  precision    recall  f1-score   support\n",
      "\n",
      "    infringement       0.78      0.70      0.73       194\n",
      "non_infringement       0.71      0.79      0.75       186\n",
      "\n",
      "        accuracy                           0.74       380\n",
      "       macro avg       0.74      0.74      0.74       380\n",
      "    weighted avg       0.75      0.74      0.74       380\n",
      "\n"
     ]
    },
    {
     "name": "stderr",
     "output_type": "stream",
     "text": [
      "Training Epochs:  50%|█████     | 1006/2000 [00:23<00:21, 45.67it/s]"
     ]
    },
    {
     "name": "stdout",
     "output_type": "stream",
     "text": [
      "Epoch 1000/2000, Loss: 0.0975\n",
      "Test Accuracy at Epoch 1000: 74.21%\n",
      "Test F1-score at Epoch 1000: 0.7500\n",
      "Classification Report at Epoch 1000:\n",
      "                  precision    recall  f1-score   support\n",
      "\n",
      "    infringement       0.78      0.70      0.73       194\n",
      "non_infringement       0.71      0.79      0.75       186\n",
      "\n",
      "        accuracy                           0.74       380\n",
      "       macro avg       0.74      0.74      0.74       380\n",
      "    weighted avg       0.75      0.74      0.74       380\n",
      "\n",
      "Epoch 1010/2000, Loss: 0.0974\n",
      "Test Accuracy at Epoch 1010: 77.37%\n",
      "Test F1-score at Epoch 1010: 0.7737\n",
      "Classification Report at Epoch 1010:\n",
      "                  precision    recall  f1-score   support\n",
      "\n",
      "    infringement       0.79      0.76      0.77       194\n",
      "non_infringement       0.76      0.79      0.77       186\n",
      "\n",
      "        accuracy                           0.77       380\n",
      "       macro avg       0.77      0.77      0.77       380\n",
      "    weighted avg       0.77      0.77      0.77       380\n",
      "\n"
     ]
    },
    {
     "name": "stderr",
     "output_type": "stream",
     "text": [
      "Training Epochs:  52%|█████▏    | 1030/2000 [00:23<00:20, 47.55it/s]"
     ]
    },
    {
     "name": "stdout",
     "output_type": "stream",
     "text": [
      "Epoch 1020/2000, Loss: 0.0973\n",
      "Test Accuracy at Epoch 1020: 75.00%\n",
      "Test F1-score at Epoch 1020: 0.7558\n",
      "Classification Report at Epoch 1020:\n",
      "                  precision    recall  f1-score   support\n",
      "\n",
      "    infringement       0.78      0.71      0.74       194\n",
      "non_infringement       0.72      0.79      0.76       186\n",
      "\n",
      "        accuracy                           0.75       380\n",
      "       macro avg       0.75      0.75      0.75       380\n",
      "    weighted avg       0.75      0.75      0.75       380\n",
      "\n",
      "Epoch 1030/2000, Loss: 0.0974\n",
      "Test Accuracy at Epoch 1030: 74.21%\n",
      "Test F1-score at Epoch 1030: 0.7500\n",
      "Classification Report at Epoch 1030:\n",
      "                  precision    recall  f1-score   support\n",
      "\n",
      "    infringement       0.78      0.70      0.73       194\n",
      "non_infringement       0.71      0.79      0.75       186\n",
      "\n",
      "        accuracy                           0.74       380\n",
      "       macro avg       0.74      0.74      0.74       380\n",
      "    weighted avg       0.75      0.74      0.74       380\n",
      "\n"
     ]
    },
    {
     "name": "stderr",
     "output_type": "stream",
     "text": [
      "Training Epochs:  52%|█████▏    | 1048/2000 [00:24<00:18, 50.55it/s]"
     ]
    },
    {
     "name": "stdout",
     "output_type": "stream",
     "text": [
      "Epoch 1040/2000, Loss: 0.0971\n",
      "Test Accuracy at Epoch 1040: 74.21%\n",
      "Test F1-score at Epoch 1040: 0.7500\n",
      "Classification Report at Epoch 1040:\n",
      "                  precision    recall  f1-score   support\n",
      "\n",
      "    infringement       0.78      0.70      0.73       194\n",
      "non_infringement       0.71      0.79      0.75       186\n",
      "\n",
      "        accuracy                           0.74       380\n",
      "       macro avg       0.74      0.74      0.74       380\n",
      "    weighted avg       0.75      0.74      0.74       380\n",
      "\n",
      "Epoch 1050/2000, Loss: 0.0973\n",
      "Test Accuracy at Epoch 1050: 76.84%\n",
      "Test F1-score at Epoch 1050: 0.7696\n",
      "Classification Report at Epoch 1050:\n",
      "                  precision    recall  f1-score   support\n",
      "\n",
      "    infringement       0.79      0.75      0.77       194\n",
      "non_infringement       0.75      0.79      0.77       186\n",
      "\n",
      "        accuracy                           0.77       380\n",
      "       macro avg       0.77      0.77      0.77       380\n",
      "    weighted avg       0.77      0.77      0.77       380\n",
      "\n"
     ]
    },
    {
     "name": "stderr",
     "output_type": "stream",
     "text": [
      "Training Epochs:  53%|█████▎    | 1066/2000 [00:24<00:18, 49.83it/s]"
     ]
    },
    {
     "name": "stdout",
     "output_type": "stream",
     "text": [
      "Epoch 1060/2000, Loss: 0.0969\n",
      "Test Accuracy at Epoch 1060: 75.00%\n",
      "Test F1-score at Epoch 1060: 0.7558\n",
      "Classification Report at Epoch 1060:\n",
      "                  precision    recall  f1-score   support\n",
      "\n",
      "    infringement       0.78      0.71      0.74       194\n",
      "non_infringement       0.72      0.79      0.76       186\n",
      "\n",
      "        accuracy                           0.75       380\n",
      "       macro avg       0.75      0.75      0.75       380\n",
      "    weighted avg       0.75      0.75      0.75       380\n",
      "\n"
     ]
    },
    {
     "name": "stderr",
     "output_type": "stream",
     "text": [
      "Training Epochs:  54%|█████▍    | 1079/2000 [00:24<00:19, 48.30it/s]"
     ]
    },
    {
     "name": "stdout",
     "output_type": "stream",
     "text": [
      "Epoch 1070/2000, Loss: 0.0972\n",
      "Test Accuracy at Epoch 1070: 74.21%\n",
      "Test F1-score at Epoch 1070: 0.7500\n",
      "Classification Report at Epoch 1070:\n",
      "                  precision    recall  f1-score   support\n",
      "\n",
      "    infringement       0.78      0.70      0.73       194\n",
      "non_infringement       0.71      0.79      0.75       186\n",
      "\n",
      "        accuracy                           0.74       380\n",
      "       macro avg       0.74      0.74      0.74       380\n",
      "    weighted avg       0.75      0.74      0.74       380\n",
      "\n",
      "Epoch 1080/2000, Loss: 0.0967\n",
      "Test Accuracy at Epoch 1080: 74.21%\n",
      "Test F1-score at Epoch 1080: 0.7500\n",
      "Classification Report at Epoch 1080:\n",
      "                  precision    recall  f1-score   support\n",
      "\n",
      "    infringement       0.78      0.70      0.73       194\n",
      "non_infringement       0.71      0.79      0.75       186\n",
      "\n",
      "        accuracy                           0.74       380\n",
      "       macro avg       0.74      0.74      0.74       380\n",
      "    weighted avg       0.75      0.74      0.74       380\n",
      "\n"
     ]
    },
    {
     "name": "stderr",
     "output_type": "stream",
     "text": [
      "Training Epochs:  55%|█████▍    | 1097/2000 [00:25<00:18, 48.42it/s]"
     ]
    },
    {
     "name": "stdout",
     "output_type": "stream",
     "text": [
      "Epoch 1090/2000, Loss: 0.0972\n",
      "Test Accuracy at Epoch 1090: 76.84%\n",
      "Test F1-score at Epoch 1090: 0.7696\n",
      "Classification Report at Epoch 1090:\n",
      "                  precision    recall  f1-score   support\n",
      "\n",
      "    infringement       0.79      0.75      0.77       194\n",
      "non_infringement       0.75      0.79      0.77       186\n",
      "\n",
      "        accuracy                           0.77       380\n",
      "       macro avg       0.77      0.77      0.77       380\n",
      "    weighted avg       0.77      0.77      0.77       380\n",
      "\n",
      "Epoch 1100/2000, Loss: 0.0965\n",
      "Test Accuracy at Epoch 1100: 75.00%\n",
      "Test F1-score at Epoch 1100: 0.7558\n",
      "Classification Report at Epoch 1100:\n",
      "                  precision    recall  f1-score   support\n",
      "\n",
      "    infringement       0.78      0.71      0.74       194\n",
      "non_infringement       0.72      0.79      0.76       186\n",
      "\n",
      "        accuracy                           0.75       380\n",
      "       macro avg       0.75      0.75      0.75       380\n",
      "    weighted avg       0.75      0.75      0.75       380\n",
      "\n"
     ]
    },
    {
     "name": "stderr",
     "output_type": "stream",
     "text": [
      "Training Epochs:  56%|█████▌    | 1120/2000 [00:25<00:18, 48.88it/s]"
     ]
    },
    {
     "name": "stdout",
     "output_type": "stream",
     "text": [
      "Epoch 1110/2000, Loss: 0.0972\n",
      "Test Accuracy at Epoch 1110: 74.21%\n",
      "Test F1-score at Epoch 1110: 0.7500\n",
      "Classification Report at Epoch 1110:\n",
      "                  precision    recall  f1-score   support\n",
      "\n",
      "    infringement       0.78      0.70      0.73       194\n",
      "non_infringement       0.71      0.79      0.75       186\n",
      "\n",
      "        accuracy                           0.74       380\n",
      "       macro avg       0.74      0.74      0.74       380\n",
      "    weighted avg       0.75      0.74      0.74       380\n",
      "\n",
      "Epoch 1120/2000, Loss: 0.0963\n",
      "Test Accuracy at Epoch 1120: 74.21%\n",
      "Test F1-score at Epoch 1120: 0.7500\n",
      "Classification Report at Epoch 1120:\n",
      "                  precision    recall  f1-score   support\n",
      "\n",
      "    infringement       0.78      0.70      0.73       194\n",
      "non_infringement       0.71      0.79      0.75       186\n",
      "\n",
      "        accuracy                           0.74       380\n",
      "       macro avg       0.74      0.74      0.74       380\n",
      "    weighted avg       0.75      0.74      0.74       380\n",
      "\n"
     ]
    },
    {
     "name": "stderr",
     "output_type": "stream",
     "text": [
      "Training Epochs:  57%|█████▋    | 1139/2000 [00:26<00:17, 49.19it/s]"
     ]
    },
    {
     "name": "stdout",
     "output_type": "stream",
     "text": [
      "Epoch 1130/2000, Loss: 0.0973\n",
      "Test Accuracy at Epoch 1130: 76.84%\n",
      "Test F1-score at Epoch 1130: 0.7696\n",
      "Classification Report at Epoch 1130:\n",
      "                  precision    recall  f1-score   support\n",
      "\n",
      "    infringement       0.79      0.75      0.77       194\n",
      "non_infringement       0.75      0.79      0.77       186\n",
      "\n",
      "        accuracy                           0.77       380\n",
      "       macro avg       0.77      0.77      0.77       380\n",
      "    weighted avg       0.77      0.77      0.77       380\n",
      "\n",
      "Epoch 1140/2000, Loss: 0.0961\n",
      "Test Accuracy at Epoch 1140: 75.00%\n",
      "Test F1-score at Epoch 1140: 0.7558\n",
      "Classification Report at Epoch 1140:\n",
      "                  precision    recall  f1-score   support\n",
      "\n",
      "    infringement       0.78      0.71      0.74       194\n",
      "non_infringement       0.72      0.79      0.76       186\n",
      "\n",
      "        accuracy                           0.75       380\n",
      "       macro avg       0.75      0.75      0.75       380\n",
      "    weighted avg       0.75      0.75      0.75       380\n",
      "\n"
     ]
    },
    {
     "name": "stderr",
     "output_type": "stream",
     "text": [
      "Training Epochs:  58%|█████▊    | 1157/2000 [00:26<00:17, 48.47it/s]"
     ]
    },
    {
     "name": "stdout",
     "output_type": "stream",
     "text": [
      "Epoch 1150/2000, Loss: 0.0974\n",
      "Test Accuracy at Epoch 1150: 72.63%\n",
      "Test F1-score at Epoch 1150: 0.7387\n",
      "Classification Report at Epoch 1150:\n",
      "                  precision    recall  f1-score   support\n",
      "\n",
      "    infringement       0.77      0.66      0.71       194\n",
      "non_infringement       0.69      0.79      0.74       186\n",
      "\n",
      "        accuracy                           0.73       380\n",
      "       macro avg       0.73      0.73      0.73       380\n",
      "    weighted avg       0.73      0.73      0.73       380\n",
      "\n",
      "Epoch 1160/2000, Loss: 0.0959\n",
      "Test Accuracy at Epoch 1160: 74.74%\n",
      "Test F1-score at Epoch 1160: 0.7538\n",
      "Classification Report at Epoch 1160:\n",
      "                  precision    recall  f1-score   support\n",
      "\n",
      "    infringement       0.78      0.71      0.74       194\n",
      "non_infringement       0.72      0.79      0.75       186\n",
      "\n",
      "        accuracy                           0.75       380\n",
      "       macro avg       0.75      0.75      0.75       380\n",
      "    weighted avg       0.75      0.75      0.75       380\n",
      "\n"
     ]
    },
    {
     "name": "stderr",
     "output_type": "stream",
     "text": [
      "Training Epochs:  59%|█████▉    | 1175/2000 [00:27<00:17, 46.82it/s]"
     ]
    },
    {
     "name": "stdout",
     "output_type": "stream",
     "text": [
      "Epoch 1170/2000, Loss: 0.0977\n",
      "Test Accuracy at Epoch 1170: 76.84%\n",
      "Test F1-score at Epoch 1170: 0.7696\n",
      "Classification Report at Epoch 1170:\n",
      "                  precision    recall  f1-score   support\n",
      "\n",
      "    infringement       0.79      0.75      0.77       194\n",
      "non_infringement       0.75      0.79      0.77       186\n",
      "\n",
      "        accuracy                           0.77       380\n",
      "       macro avg       0.77      0.77      0.77       380\n",
      "    weighted avg       0.77      0.77      0.77       380\n",
      "\n",
      "Epoch 1180/2000, Loss: 0.0957\n",
      "Test Accuracy at Epoch 1180: 74.74%\n",
      "Test F1-score at Epoch 1180: 0.7538\n",
      "Classification Report at Epoch 1180:\n",
      "                  precision    recall  f1-score   support\n",
      "\n",
      "    infringement       0.78      0.71      0.74       194\n",
      "non_infringement       0.72      0.79      0.75       186\n",
      "\n",
      "        accuracy                           0.75       380\n",
      "       macro avg       0.75      0.75      0.75       380\n",
      "    weighted avg       0.75      0.75      0.75       380\n",
      "\n"
     ]
    },
    {
     "name": "stderr",
     "output_type": "stream",
     "text": [
      "Training Epochs:  60%|██████    | 1200/2000 [00:27<00:16, 49.32it/s]"
     ]
    },
    {
     "name": "stdout",
     "output_type": "stream",
     "text": [
      "Epoch 1190/2000, Loss: 0.0978\n",
      "Test Accuracy at Epoch 1190: 72.63%\n",
      "Test F1-score at Epoch 1190: 0.7387\n",
      "Classification Report at Epoch 1190:\n",
      "                  precision    recall  f1-score   support\n",
      "\n",
      "    infringement       0.77      0.66      0.71       194\n",
      "non_infringement       0.69      0.79      0.74       186\n",
      "\n",
      "        accuracy                           0.73       380\n",
      "       macro avg       0.73      0.73      0.73       380\n",
      "    weighted avg       0.73      0.73      0.73       380\n",
      "\n",
      "Epoch 1200/2000, Loss: 0.0957\n",
      "Test Accuracy at Epoch 1200: 75.00%\n",
      "Test F1-score at Epoch 1200: 0.7558\n",
      "Classification Report at Epoch 1200:\n",
      "                  precision    recall  f1-score   support\n",
      "\n",
      "    infringement       0.78      0.71      0.74       194\n",
      "non_infringement       0.72      0.79      0.76       186\n",
      "\n",
      "        accuracy                           0.75       380\n",
      "       macro avg       0.75      0.75      0.75       380\n",
      "    weighted avg       0.75      0.75      0.75       380\n",
      "\n"
     ]
    },
    {
     "name": "stderr",
     "output_type": "stream",
     "text": [
      "Training Epochs:  61%|██████    | 1219/2000 [00:27<00:15, 51.66it/s]"
     ]
    },
    {
     "name": "stdout",
     "output_type": "stream",
     "text": [
      "Epoch 1210/2000, Loss: 0.0980\n",
      "Test Accuracy at Epoch 1210: 76.84%\n",
      "Test F1-score at Epoch 1210: 0.7696\n",
      "Classification Report at Epoch 1210:\n",
      "                  precision    recall  f1-score   support\n",
      "\n",
      "    infringement       0.79      0.75      0.77       194\n",
      "non_infringement       0.75      0.79      0.77       186\n",
      "\n",
      "        accuracy                           0.77       380\n",
      "       macro avg       0.77      0.77      0.77       380\n",
      "    weighted avg       0.77      0.77      0.77       380\n",
      "\n",
      "Epoch 1220/2000, Loss: 0.0957\n",
      "Test Accuracy at Epoch 1220: 74.21%\n",
      "Test F1-score at Epoch 1220: 0.7500\n",
      "Classification Report at Epoch 1220:\n",
      "                  precision    recall  f1-score   support\n",
      "\n",
      "    infringement       0.78      0.70      0.73       194\n",
      "non_infringement       0.71      0.79      0.75       186\n",
      "\n",
      "        accuracy                           0.74       380\n",
      "       macro avg       0.74      0.74      0.74       380\n",
      "    weighted avg       0.75      0.74      0.74       380\n",
      "\n"
     ]
    },
    {
     "name": "stderr",
     "output_type": "stream",
     "text": [
      "Training Epochs:  62%|██████▏   | 1238/2000 [00:28<00:14, 52.36it/s]"
     ]
    },
    {
     "name": "stdout",
     "output_type": "stream",
     "text": [
      "Epoch 1230/2000, Loss: 0.0976\n",
      "Test Accuracy at Epoch 1230: 74.21%\n",
      "Test F1-score at Epoch 1230: 0.7500\n",
      "Classification Report at Epoch 1230:\n",
      "                  precision    recall  f1-score   support\n",
      "\n",
      "    infringement       0.78      0.70      0.73       194\n",
      "non_infringement       0.71      0.79      0.75       186\n",
      "\n",
      "        accuracy                           0.74       380\n",
      "       macro avg       0.74      0.74      0.74       380\n",
      "    weighted avg       0.75      0.74      0.74       380\n",
      "\n",
      "Epoch 1240/2000, Loss: 0.0958\n",
      "Test Accuracy at Epoch 1240: 75.00%\n",
      "Test F1-score at Epoch 1240: 0.7558\n",
      "Classification Report at Epoch 1240:\n",
      "                  precision    recall  f1-score   support\n",
      "\n",
      "    infringement       0.78      0.71      0.74       194\n",
      "non_infringement       0.72      0.79      0.76       186\n",
      "\n",
      "        accuracy                           0.75       380\n",
      "       macro avg       0.75      0.75      0.75       380\n",
      "    weighted avg       0.75      0.75      0.75       380\n",
      "\n"
     ]
    },
    {
     "name": "stderr",
     "output_type": "stream",
     "text": [
      "Training Epochs:  63%|██████▎   | 1257/2000 [00:28<00:14, 52.44it/s]"
     ]
    },
    {
     "name": "stdout",
     "output_type": "stream",
     "text": [
      "Epoch 1250/2000, Loss: 0.0968\n",
      "Test Accuracy at Epoch 1250: 76.84%\n",
      "Test F1-score at Epoch 1250: 0.7696\n",
      "Classification Report at Epoch 1250:\n",
      "                  precision    recall  f1-score   support\n",
      "\n",
      "    infringement       0.79      0.75      0.77       194\n",
      "non_infringement       0.75      0.79      0.77       186\n",
      "\n",
      "        accuracy                           0.77       380\n",
      "       macro avg       0.77      0.77      0.77       380\n",
      "    weighted avg       0.77      0.77      0.77       380\n",
      "\n",
      "Epoch 1260/2000, Loss: 0.0961\n",
      "Test Accuracy at Epoch 1260: 74.21%\n",
      "Test F1-score at Epoch 1260: 0.7500\n",
      "Classification Report at Epoch 1260:\n",
      "                  precision    recall  f1-score   support\n",
      "\n",
      "    infringement       0.78      0.70      0.73       194\n",
      "non_infringement       0.71      0.79      0.75       186\n",
      "\n",
      "        accuracy                           0.74       380\n",
      "       macro avg       0.74      0.74      0.74       380\n",
      "    weighted avg       0.75      0.74      0.74       380\n",
      "\n"
     ]
    },
    {
     "name": "stderr",
     "output_type": "stream",
     "text": [
      "Training Epochs:  64%|██████▍   | 1275/2000 [00:29<00:14, 49.67it/s]"
     ]
    },
    {
     "name": "stdout",
     "output_type": "stream",
     "text": [
      "Epoch 1270/2000, Loss: 0.0958\n",
      "Test Accuracy at Epoch 1270: 74.21%\n",
      "Test F1-score at Epoch 1270: 0.7500\n",
      "Classification Report at Epoch 1270:\n",
      "                  precision    recall  f1-score   support\n",
      "\n",
      "    infringement       0.78      0.70      0.73       194\n",
      "non_infringement       0.71      0.79      0.75       186\n",
      "\n",
      "        accuracy                           0.74       380\n",
      "       macro avg       0.74      0.74      0.74       380\n",
      "    weighted avg       0.75      0.74      0.74       380\n",
      "\n",
      "Epoch 1280/2000, Loss: 0.0968\n",
      "Test Accuracy at Epoch 1280: 76.84%\n",
      "Test F1-score at Epoch 1280: 0.7696\n",
      "Classification Report at Epoch 1280:\n",
      "                  precision    recall  f1-score   support\n",
      "\n",
      "    infringement       0.79      0.75      0.77       194\n",
      "non_infringement       0.75      0.79      0.77       186\n",
      "\n",
      "        accuracy                           0.77       380\n",
      "       macro avg       0.77      0.77      0.77       380\n",
      "    weighted avg       0.77      0.77      0.77       380\n",
      "\n"
     ]
    },
    {
     "name": "stderr",
     "output_type": "stream",
     "text": [
      "Training Epochs:  65%|██████▍   | 1293/2000 [00:29<00:14, 49.14it/s]"
     ]
    },
    {
     "name": "stdout",
     "output_type": "stream",
     "text": [
      "Epoch 1290/2000, Loss: 0.0953\n",
      "Test Accuracy at Epoch 1290: 74.74%\n",
      "Test F1-score at Epoch 1290: 0.7538\n",
      "Classification Report at Epoch 1290:\n",
      "                  precision    recall  f1-score   support\n",
      "\n",
      "    infringement       0.78      0.71      0.74       194\n",
      "non_infringement       0.72      0.79      0.75       186\n",
      "\n",
      "        accuracy                           0.75       380\n",
      "       macro avg       0.75      0.75      0.75       380\n",
      "    weighted avg       0.75      0.75      0.75       380\n",
      "\n",
      "Epoch 1300/2000, Loss: 0.0974\n",
      "Test Accuracy at Epoch 1300: 72.63%\n",
      "Test F1-score at Epoch 1300: 0.7387\n",
      "Classification Report at Epoch 1300:\n",
      "                  precision    recall  f1-score   support\n",
      "\n",
      "    infringement       0.77      0.66      0.71       194\n",
      "non_infringement       0.69      0.79      0.74       186\n",
      "\n",
      "        accuracy                           0.73       380\n",
      "       macro avg       0.73      0.73      0.73       380\n",
      "    weighted avg       0.73      0.73      0.73       380\n",
      "\n"
     ]
    },
    {
     "name": "stderr",
     "output_type": "stream",
     "text": [
      "Training Epochs:  66%|██████▌   | 1318/2000 [00:29<00:13, 52.41it/s]"
     ]
    },
    {
     "name": "stdout",
     "output_type": "stream",
     "text": [
      "Epoch 1310/2000, Loss: 0.0953\n",
      "Test Accuracy at Epoch 1310: 75.00%\n",
      "Test F1-score at Epoch 1310: 0.7558\n",
      "Classification Report at Epoch 1310:\n",
      "                  precision    recall  f1-score   support\n",
      "\n",
      "    infringement       0.78      0.71      0.74       194\n",
      "non_infringement       0.72      0.79      0.76       186\n",
      "\n",
      "        accuracy                           0.75       380\n",
      "       macro avg       0.75      0.75      0.75       380\n",
      "    weighted avg       0.75      0.75      0.75       380\n",
      "\n"
     ]
    },
    {
     "name": "stderr",
     "output_type": "stream",
     "text": [
      "Training Epochs:  66%|██████▋   | 1330/2000 [00:30<00:13, 48.02it/s]"
     ]
    },
    {
     "name": "stdout",
     "output_type": "stream",
     "text": [
      "Epoch 1320/2000, Loss: 0.0973\n",
      "Test Accuracy at Epoch 1320: 76.84%\n",
      "Test F1-score at Epoch 1320: 0.7696\n",
      "Classification Report at Epoch 1320:\n",
      "                  precision    recall  f1-score   support\n",
      "\n",
      "    infringement       0.79      0.75      0.77       194\n",
      "non_infringement       0.75      0.79      0.77       186\n",
      "\n",
      "        accuracy                           0.77       380\n",
      "       macro avg       0.77      0.77      0.77       380\n",
      "    weighted avg       0.77      0.77      0.77       380\n",
      "\n",
      "Epoch 1330/2000, Loss: 0.0955\n",
      "Test Accuracy at Epoch 1330: 74.21%\n",
      "Test F1-score at Epoch 1330: 0.7500\n",
      "Classification Report at Epoch 1330:\n",
      "                  precision    recall  f1-score   support\n",
      "\n",
      "    infringement       0.78      0.70      0.73       194\n",
      "non_infringement       0.71      0.79      0.75       186\n",
      "\n",
      "        accuracy                           0.74       380\n",
      "       macro avg       0.74      0.74      0.74       380\n",
      "    weighted avg       0.75      0.74      0.74       380\n",
      "\n"
     ]
    },
    {
     "name": "stderr",
     "output_type": "stream",
     "text": [
      "Training Epochs:  67%|██████▋   | 1342/2000 [00:30<00:14, 45.33it/s]"
     ]
    },
    {
     "name": "stdout",
     "output_type": "stream",
     "text": [
      "Epoch 1340/2000, Loss: 0.0961\n",
      "Test Accuracy at Epoch 1340: 74.21%\n",
      "Test F1-score at Epoch 1340: 0.7500\n",
      "Classification Report at Epoch 1340:\n",
      "                  precision    recall  f1-score   support\n",
      "\n",
      "    infringement       0.78      0.70      0.73       194\n",
      "non_infringement       0.71      0.79      0.75       186\n",
      "\n",
      "        accuracy                           0.74       380\n",
      "       macro avg       0.74      0.74      0.74       380\n",
      "    weighted avg       0.75      0.74      0.74       380\n",
      "\n"
     ]
    },
    {
     "name": "stderr",
     "output_type": "stream",
     "text": [
      "Training Epochs:  68%|██████▊   | 1353/2000 [00:30<00:14, 43.93it/s]"
     ]
    },
    {
     "name": "stdout",
     "output_type": "stream",
     "text": [
      "Epoch 1350/2000, Loss: 0.0961\n",
      "Test Accuracy at Epoch 1350: 76.84%\n",
      "Test F1-score at Epoch 1350: 0.7696\n",
      "Classification Report at Epoch 1350:\n",
      "                  precision    recall  f1-score   support\n",
      "\n",
      "    infringement       0.79      0.75      0.77       194\n",
      "non_infringement       0.75      0.79      0.77       186\n",
      "\n",
      "        accuracy                           0.77       380\n",
      "       macro avg       0.77      0.77      0.77       380\n",
      "    weighted avg       0.77      0.77      0.77       380\n",
      "\n"
     ]
    },
    {
     "name": "stderr",
     "output_type": "stream",
     "text": [
      "Training Epochs:  68%|██████▊   | 1363/2000 [00:31<00:16, 38.76it/s]"
     ]
    },
    {
     "name": "stdout",
     "output_type": "stream",
     "text": [
      "Epoch 1360/2000, Loss: 0.0952\n",
      "Test Accuracy at Epoch 1360: 75.00%\n",
      "Test F1-score at Epoch 1360: 0.7558\n",
      "Classification Report at Epoch 1360:\n",
      "                  precision    recall  f1-score   support\n",
      "\n",
      "    infringement       0.78      0.71      0.74       194\n",
      "non_infringement       0.72      0.79      0.76       186\n",
      "\n",
      "        accuracy                           0.75       380\n",
      "       macro avg       0.75      0.75      0.75       380\n",
      "    weighted avg       0.75      0.75      0.75       380\n",
      "\n"
     ]
    },
    {
     "name": "stderr",
     "output_type": "stream",
     "text": [
      "Training Epochs:  69%|██████▉   | 1380/2000 [00:31<00:14, 42.46it/s]"
     ]
    },
    {
     "name": "stdout",
     "output_type": "stream",
     "text": [
      "Epoch 1370/2000, Loss: 0.0968\n",
      "Test Accuracy at Epoch 1370: 72.63%\n",
      "Test F1-score at Epoch 1370: 0.7387\n",
      "Classification Report at Epoch 1370:\n",
      "                  precision    recall  f1-score   support\n",
      "\n",
      "    infringement       0.77      0.66      0.71       194\n",
      "non_infringement       0.69      0.79      0.74       186\n",
      "\n",
      "        accuracy                           0.73       380\n",
      "       macro avg       0.73      0.73      0.73       380\n",
      "    weighted avg       0.73      0.73      0.73       380\n",
      "\n",
      "Epoch 1380/2000, Loss: 0.0950\n",
      "Test Accuracy at Epoch 1380: 75.00%\n",
      "Test F1-score at Epoch 1380: 0.7558\n",
      "Classification Report at Epoch 1380:\n",
      "                  precision    recall  f1-score   support\n",
      "\n",
      "    infringement       0.78      0.71      0.74       194\n",
      "non_infringement       0.72      0.79      0.76       186\n",
      "\n",
      "        accuracy                           0.75       380\n",
      "       macro avg       0.75      0.75      0.75       380\n",
      "    weighted avg       0.75      0.75      0.75       380\n",
      "\n"
     ]
    },
    {
     "name": "stderr",
     "output_type": "stream",
     "text": [
      "Training Epochs:  70%|██████▉   | 1397/2000 [00:31<00:13, 44.47it/s]"
     ]
    },
    {
     "name": "stdout",
     "output_type": "stream",
     "text": [
      "Epoch 1390/2000, Loss: 0.0972\n",
      "Test Accuracy at Epoch 1390: 76.84%\n",
      "Test F1-score at Epoch 1390: 0.7696\n",
      "Classification Report at Epoch 1390:\n",
      "                  precision    recall  f1-score   support\n",
      "\n",
      "    infringement       0.79      0.75      0.77       194\n",
      "non_infringement       0.75      0.79      0.77       186\n",
      "\n",
      "        accuracy                           0.77       380\n",
      "       macro avg       0.77      0.77      0.77       380\n",
      "    weighted avg       0.77      0.77      0.77       380\n",
      "\n"
     ]
    },
    {
     "name": "stderr",
     "output_type": "stream",
     "text": [
      "Training Epochs:  70%|███████   | 1407/2000 [00:32<00:13, 43.46it/s]"
     ]
    },
    {
     "name": "stdout",
     "output_type": "stream",
     "text": [
      "Epoch 1400/2000, Loss: 0.0951\n",
      "Test Accuracy at Epoch 1400: 74.21%\n",
      "Test F1-score at Epoch 1400: 0.7500\n",
      "Classification Report at Epoch 1400:\n",
      "                  precision    recall  f1-score   support\n",
      "\n",
      "    infringement       0.78      0.70      0.73       194\n",
      "non_infringement       0.71      0.79      0.75       186\n",
      "\n",
      "        accuracy                           0.74       380\n",
      "       macro avg       0.74      0.74      0.74       380\n",
      "    weighted avg       0.75      0.74      0.74       380\n",
      "\n"
     ]
    },
    {
     "name": "stderr",
     "output_type": "stream",
     "text": [
      "Training Epochs:  71%|███████   | 1419/2000 [00:32<00:11, 48.79it/s]"
     ]
    },
    {
     "name": "stdout",
     "output_type": "stream",
     "text": [
      "Epoch 1410/2000, Loss: 0.0964\n",
      "Test Accuracy at Epoch 1410: 74.21%\n",
      "Test F1-score at Epoch 1410: 0.7500\n",
      "Classification Report at Epoch 1410:\n",
      "                  precision    recall  f1-score   support\n",
      "\n",
      "    infringement       0.78      0.70      0.73       194\n",
      "non_infringement       0.71      0.79      0.75       186\n",
      "\n",
      "        accuracy                           0.74       380\n",
      "       macro avg       0.74      0.74      0.74       380\n",
      "    weighted avg       0.75      0.74      0.74       380\n",
      "\n",
      "Epoch 1420/2000, Loss: 0.0955\n",
      "Test Accuracy at Epoch 1420: 76.84%\n",
      "Test F1-score at Epoch 1420: 0.7696\n"
     ]
    },
    {
     "name": "stderr",
     "output_type": "stream",
     "text": [
      "Training Epochs:  71%|███████   | 1424/2000 [00:32<00:11, 48.84it/s]"
     ]
    },
    {
     "name": "stdout",
     "output_type": "stream",
     "text": [
      "Classification Report at Epoch 1420:\n",
      "                  precision    recall  f1-score   support\n",
      "\n",
      "    infringement       0.79      0.75      0.77       194\n",
      "non_infringement       0.75      0.79      0.77       186\n",
      "\n",
      "        accuracy                           0.77       380\n",
      "       macro avg       0.77      0.77      0.77       380\n",
      "    weighted avg       0.77      0.77      0.77       380\n",
      "\n"
     ]
    },
    {
     "name": "stderr",
     "output_type": "stream",
     "text": [
      "Training Epochs:  72%|███████▏  | 1440/2000 [00:32<00:11, 47.43it/s]"
     ]
    },
    {
     "name": "stdout",
     "output_type": "stream",
     "text": [
      "Epoch 1430/2000, Loss: 0.0954\n",
      "Test Accuracy at Epoch 1430: 75.00%\n",
      "Test F1-score at Epoch 1430: 0.7558\n",
      "Classification Report at Epoch 1430:\n",
      "                  precision    recall  f1-score   support\n",
      "\n",
      "    infringement       0.78      0.71      0.74       194\n",
      "non_infringement       0.72      0.79      0.76       186\n",
      "\n",
      "        accuracy                           0.75       380\n",
      "       macro avg       0.75      0.75      0.75       380\n",
      "    weighted avg       0.75      0.75      0.75       380\n",
      "\n",
      "Epoch 1440/2000, Loss: 0.0960\n",
      "Test Accuracy at Epoch 1440: 72.63%\n",
      "Test F1-score at Epoch 1440: 0.7387\n",
      "Classification Report at Epoch 1440:\n",
      "                  precision    recall  f1-score   support\n",
      "\n",
      "    infringement       0.77      0.66      0.71       194\n",
      "non_infringement       0.69      0.79      0.74       186\n",
      "\n",
      "        accuracy                           0.73       380\n",
      "       macro avg       0.73      0.73      0.73       380\n",
      "    weighted avg       0.73      0.73      0.73       380\n",
      "\n"
     ]
    },
    {
     "name": "stderr",
     "output_type": "stream",
     "text": [
      "Training Epochs:  73%|███████▎  | 1458/2000 [00:33<00:10, 50.45it/s]"
     ]
    },
    {
     "name": "stdout",
     "output_type": "stream",
     "text": [
      "Epoch 1450/2000, Loss: 0.0948\n",
      "Test Accuracy at Epoch 1450: 74.21%\n",
      "Test F1-score at Epoch 1450: 0.7500\n",
      "Classification Report at Epoch 1450:\n",
      "                  precision    recall  f1-score   support\n",
      "\n",
      "    infringement       0.78      0.70      0.73       194\n",
      "non_infringement       0.71      0.79      0.75       186\n",
      "\n",
      "        accuracy                           0.74       380\n",
      "       macro avg       0.74      0.74      0.74       380\n",
      "    weighted avg       0.75      0.74      0.74       380\n",
      "\n",
      "Epoch 1460/2000, Loss: 0.0968\n",
      "Test Accuracy at Epoch 1460: 76.84%\n",
      "Test F1-score at Epoch 1460: 0.7696\n",
      "Classification Report at Epoch 1460:\n",
      "                  precision    recall  f1-score   support\n",
      "\n",
      "    infringement       0.79      0.75      0.77       194\n",
      "non_infringement       0.75      0.79      0.77       186\n",
      "\n",
      "        accuracy                           0.77       380\n",
      "       macro avg       0.77      0.77      0.77       380\n",
      "    weighted avg       0.77      0.77      0.77       380\n",
      "\n"
     ]
    },
    {
     "name": "stderr",
     "output_type": "stream",
     "text": [
      "Training Epochs:  74%|███████▍  | 1476/2000 [00:33<00:10, 50.05it/s]"
     ]
    },
    {
     "name": "stdout",
     "output_type": "stream",
     "text": [
      "Epoch 1470/2000, Loss: 0.0947\n",
      "Test Accuracy at Epoch 1470: 74.21%\n",
      "Test F1-score at Epoch 1470: 0.7500\n",
      "Classification Report at Epoch 1470:\n",
      "                  precision    recall  f1-score   support\n",
      "\n",
      "    infringement       0.78      0.70      0.73       194\n",
      "non_infringement       0.71      0.79      0.75       186\n",
      "\n",
      "        accuracy                           0.74       380\n",
      "       macro avg       0.74      0.74      0.74       380\n",
      "    weighted avg       0.75      0.74      0.74       380\n",
      "\n",
      "Epoch 1480/2000, Loss: 0.0968\n",
      "Test Accuracy at Epoch 1480: 72.63%\n",
      "Test F1-score at Epoch 1480: 0.7387\n",
      "Classification Report at Epoch 1480:\n",
      "                  precision    recall  f1-score   support\n",
      "\n",
      "    infringement       0.77      0.66      0.71       194\n",
      "non_infringement       0.69      0.79      0.74       186\n",
      "\n",
      "        accuracy                           0.73       380\n",
      "       macro avg       0.73      0.73      0.73       380\n",
      "    weighted avg       0.73      0.73      0.73       380\n",
      "\n"
     ]
    },
    {
     "name": "stderr",
     "output_type": "stream",
     "text": [
      "Training Epochs:  75%|███████▍  | 1494/2000 [00:33<00:10, 49.17it/s]"
     ]
    },
    {
     "name": "stdout",
     "output_type": "stream",
     "text": [
      "Epoch 1490/2000, Loss: 0.0948\n",
      "Test Accuracy at Epoch 1490: 75.00%\n",
      "Test F1-score at Epoch 1490: 0.7558\n",
      "Classification Report at Epoch 1490:\n",
      "                  precision    recall  f1-score   support\n",
      "\n",
      "    infringement       0.78      0.71      0.74       194\n",
      "non_infringement       0.72      0.79      0.76       186\n",
      "\n",
      "        accuracy                           0.75       380\n",
      "       macro avg       0.75      0.75      0.75       380\n",
      "    weighted avg       0.75      0.75      0.75       380\n",
      "\n",
      "Epoch 1500/2000, Loss: 0.0965\n",
      "Test Accuracy at Epoch 1500: 76.84%\n",
      "Test F1-score at Epoch 1500: 0.7696\n"
     ]
    },
    {
     "name": "stderr",
     "output_type": "stream",
     "text": [
      "Training Epochs:  75%|███████▌  | 1506/2000 [00:34<00:09, 50.37it/s]"
     ]
    },
    {
     "name": "stdout",
     "output_type": "stream",
     "text": [
      "Classification Report at Epoch 1500:\n",
      "                  precision    recall  f1-score   support\n",
      "\n",
      "    infringement       0.79      0.75      0.77       194\n",
      "non_infringement       0.75      0.79      0.77       186\n",
      "\n",
      "        accuracy                           0.77       380\n",
      "       macro avg       0.77      0.77      0.77       380\n",
      "    weighted avg       0.77      0.77      0.77       380\n",
      "\n",
      "Epoch 1510/2000, Loss: 0.0949\n",
      "Test Accuracy at Epoch 1510: 74.21%\n",
      "Test F1-score at Epoch 1510: 0.7500\n",
      "Classification Report at Epoch 1510:\n",
      "                  precision    recall  f1-score   support\n",
      "\n",
      "    infringement       0.78      0.70      0.73       194\n",
      "non_infringement       0.71      0.79      0.75       186\n",
      "\n",
      "        accuracy                           0.74       380\n",
      "       macro avg       0.74      0.74      0.74       380\n",
      "    weighted avg       0.75      0.74      0.74       380\n",
      "\n"
     ]
    },
    {
     "name": "stderr",
     "output_type": "stream",
     "text": [
      "Training Epochs:  76%|███████▋  | 1525/2000 [00:34<00:09, 47.65it/s]"
     ]
    },
    {
     "name": "stdout",
     "output_type": "stream",
     "text": [
      "Epoch 1520/2000, Loss: 0.0957\n",
      "Test Accuracy at Epoch 1520: 74.21%\n",
      "Test F1-score at Epoch 1520: 0.7500\n",
      "Classification Report at Epoch 1520:\n",
      "                  precision    recall  f1-score   support\n",
      "\n",
      "    infringement       0.78      0.70      0.73       194\n",
      "non_infringement       0.71      0.79      0.75       186\n",
      "\n",
      "        accuracy                           0.74       380\n",
      "       macro avg       0.74      0.74      0.74       380\n",
      "    weighted avg       0.75      0.74      0.74       380\n",
      "\n"
     ]
    },
    {
     "name": "stderr",
     "output_type": "stream",
     "text": [
      "Training Epochs:  77%|███████▋  | 1538/2000 [00:34<00:08, 53.91it/s]"
     ]
    },
    {
     "name": "stdout",
     "output_type": "stream",
     "text": [
      "Epoch 1530/2000, Loss: 0.0951\n",
      "Test Accuracy at Epoch 1530: 76.84%\n",
      "Test F1-score at Epoch 1530: 0.7696\n",
      "Classification Report at Epoch 1530:\n",
      "                  precision    recall  f1-score   support\n",
      "\n",
      "    infringement       0.79      0.75      0.77       194\n",
      "non_infringement       0.75      0.79      0.77       186\n",
      "\n",
      "        accuracy                           0.77       380\n",
      "       macro avg       0.77      0.77      0.77       380\n",
      "    weighted avg       0.77      0.77      0.77       380\n",
      "\n",
      "Epoch 1540/2000, Loss: 0.0952\n",
      "Test Accuracy at Epoch 1540: 75.00%\n",
      "Test F1-score at Epoch 1540: 0.7558\n",
      "Classification Report at Epoch 1540:\n",
      "                  precision    recall  f1-score   support\n",
      "\n",
      "    infringement       0.78      0.71      0.74       194\n",
      "non_infringement       0.72      0.79      0.76       186\n",
      "\n",
      "        accuracy                           0.75       380\n",
      "       macro avg       0.75      0.75      0.75       380\n",
      "    weighted avg       0.75      0.75      0.75       380\n",
      "\n"
     ]
    },
    {
     "name": "stderr",
     "output_type": "stream",
     "text": [
      "Training Epochs:  78%|███████▊  | 1557/2000 [00:35<00:08, 50.02it/s]"
     ]
    },
    {
     "name": "stdout",
     "output_type": "stream",
     "text": [
      "Epoch 1550/2000, Loss: 0.0954\n",
      "Test Accuracy at Epoch 1550: 74.21%\n",
      "Test F1-score at Epoch 1550: 0.7500\n",
      "Classification Report at Epoch 1550:\n",
      "                  precision    recall  f1-score   support\n",
      "\n",
      "    infringement       0.78      0.70      0.73       194\n",
      "non_infringement       0.71      0.79      0.75       186\n",
      "\n",
      "        accuracy                           0.74       380\n",
      "       macro avg       0.74      0.74      0.74       380\n",
      "    weighted avg       0.75      0.74      0.74       380\n",
      "\n"
     ]
    },
    {
     "name": "stderr",
     "output_type": "stream",
     "text": [
      "Training Epochs:  78%|███████▊  | 1569/2000 [00:35<00:09, 47.88it/s]"
     ]
    },
    {
     "name": "stdout",
     "output_type": "stream",
     "text": [
      "Epoch 1560/2000, Loss: 0.0948\n",
      "Test Accuracy at Epoch 1560: 74.21%\n",
      "Test F1-score at Epoch 1560: 0.7500\n",
      "Classification Report at Epoch 1560:\n",
      "                  precision    recall  f1-score   support\n",
      "\n",
      "    infringement       0.78      0.70      0.73       194\n",
      "non_infringement       0.71      0.79      0.75       186\n",
      "\n",
      "        accuracy                           0.74       380\n",
      "       macro avg       0.74      0.74      0.74       380\n",
      "    weighted avg       0.75      0.74      0.74       380\n",
      "\n",
      "Epoch 1570/2000, Loss: 0.0956\n",
      "Test Accuracy at Epoch 1570: 76.84%\n",
      "Test F1-score at Epoch 1570: 0.7696\n",
      "Classification Report at Epoch 1570:\n",
      "                  precision    recall  f1-score   support\n",
      "\n",
      "    infringement       0.79      0.75      0.77       194\n",
      "non_infringement       0.75      0.79      0.77       186\n",
      "\n",
      "        accuracy                           0.77       380\n",
      "       macro avg       0.77      0.77      0.77       380\n",
      "    weighted avg       0.77      0.77      0.77       380\n",
      "\n"
     ]
    },
    {
     "name": "stderr",
     "output_type": "stream",
     "text": [
      "Training Epochs:  79%|███████▉  | 1587/2000 [00:35<00:08, 47.02it/s]"
     ]
    },
    {
     "name": "stdout",
     "output_type": "stream",
     "text": [
      "Epoch 1580/2000, Loss: 0.0946\n",
      "Test Accuracy at Epoch 1580: 75.00%\n",
      "Test F1-score at Epoch 1580: 0.7558\n",
      "Classification Report at Epoch 1580:\n",
      "                  precision    recall  f1-score   support\n",
      "\n",
      "    infringement       0.78      0.71      0.74       194\n",
      "non_infringement       0.72      0.79      0.76       186\n",
      "\n",
      "        accuracy                           0.75       380\n",
      "       macro avg       0.75      0.75      0.75       380\n",
      "    weighted avg       0.75      0.75      0.75       380\n",
      "\n",
      "Epoch 1590/2000, Loss: 0.0957\n",
      "Test Accuracy at Epoch 1590: 72.89%\n",
      "Test F1-score at Epoch 1590: 0.7419\n",
      "Classification Report at Epoch 1590:\n",
      "                  precision    recall  f1-score   support\n",
      "\n",
      "    infringement       0.77      0.66      0.71       194\n",
      "non_infringement       0.69      0.80      0.74       186\n",
      "\n",
      "        accuracy                           0.73       380\n",
      "       macro avg       0.73      0.73      0.73       380\n",
      "    weighted avg       0.73      0.73      0.73       380\n",
      "\n"
     ]
    },
    {
     "name": "stderr",
     "output_type": "stream",
     "text": [
      "Training Epochs:  80%|████████  | 1605/2000 [00:36<00:08, 48.22it/s]"
     ]
    },
    {
     "name": "stdout",
     "output_type": "stream",
     "text": [
      "Epoch 1600/2000, Loss: 0.0945\n",
      "Test Accuracy at Epoch 1600: 74.21%\n",
      "Test F1-score at Epoch 1600: 0.7500\n",
      "Classification Report at Epoch 1600:\n",
      "                  precision    recall  f1-score   support\n",
      "\n",
      "    infringement       0.78      0.70      0.73       194\n",
      "non_infringement       0.71      0.79      0.75       186\n",
      "\n",
      "        accuracy                           0.74       380\n",
      "       macro avg       0.74      0.74      0.74       380\n",
      "    weighted avg       0.75      0.74      0.74       380\n",
      "\n",
      "Epoch 1610/2000, Loss: 0.0957\n",
      "Test Accuracy at Epoch 1610: 76.84%\n",
      "Test F1-score at Epoch 1610: 0.7696\n",
      "Classification Report at Epoch 1610:\n",
      "                  precision    recall  f1-score   support\n",
      "\n",
      "    infringement       0.79      0.75      0.77       194\n",
      "non_infringement       0.75      0.79      0.77       186\n",
      "\n",
      "        accuracy                           0.77       380\n",
      "       macro avg       0.77      0.77      0.77       380\n",
      "    weighted avg       0.77      0.77      0.77       380\n",
      "\n"
     ]
    },
    {
     "name": "stderr",
     "output_type": "stream",
     "text": [
      "Training Epochs:  82%|████████▏ | 1630/2000 [00:36<00:07, 51.79it/s]"
     ]
    },
    {
     "name": "stdout",
     "output_type": "stream",
     "text": [
      "Epoch 1620/2000, Loss: 0.0946\n",
      "Test Accuracy at Epoch 1620: 75.00%\n",
      "Test F1-score at Epoch 1620: 0.7558\n",
      "Classification Report at Epoch 1620:\n",
      "                  precision    recall  f1-score   support\n",
      "\n",
      "    infringement       0.78      0.71      0.74       194\n",
      "non_infringement       0.72      0.79      0.76       186\n",
      "\n",
      "        accuracy                           0.75       380\n",
      "       macro avg       0.75      0.75      0.75       380\n",
      "    weighted avg       0.75      0.75      0.75       380\n",
      "\n",
      "Epoch 1630/2000, Loss: 0.0951\n",
      "Test Accuracy at Epoch 1630: 74.47%\n",
      "Test F1-score at Epoch 1630: 0.7532\n",
      "Classification Report at Epoch 1630:\n",
      "                  precision    recall  f1-score   support\n",
      "\n",
      "    infringement       0.78      0.70      0.74       194\n",
      "non_infringement       0.71      0.80      0.75       186\n",
      "\n",
      "        accuracy                           0.74       380\n",
      "       macro avg       0.75      0.75      0.74       380\n",
      "    weighted avg       0.75      0.74      0.74       380\n",
      "\n"
     ]
    },
    {
     "name": "stderr",
     "output_type": "stream",
     "text": [
      "Training Epochs:  82%|████████▎ | 1650/2000 [00:37<00:06, 51.51it/s]"
     ]
    },
    {
     "name": "stdout",
     "output_type": "stream",
     "text": [
      "Epoch 1640/2000, Loss: 0.0949\n",
      "Test Accuracy at Epoch 1640: 74.21%\n",
      "Test F1-score at Epoch 1640: 0.7500\n",
      "Classification Report at Epoch 1640:\n",
      "                  precision    recall  f1-score   support\n",
      "\n",
      "    infringement       0.78      0.70      0.73       194\n",
      "non_infringement       0.71      0.79      0.75       186\n",
      "\n",
      "        accuracy                           0.74       380\n",
      "       macro avg       0.74      0.74      0.74       380\n",
      "    weighted avg       0.75      0.74      0.74       380\n",
      "\n",
      "Epoch 1650/2000, Loss: 0.0946\n",
      "Test Accuracy at Epoch 1650: 75.00%\n",
      "Test F1-score at Epoch 1650: 0.7558\n",
      "Classification Report at Epoch 1650:\n",
      "                  precision    recall  f1-score   support\n",
      "\n",
      "    infringement       0.78      0.71      0.74       194\n",
      "non_infringement       0.72      0.79      0.76       186\n",
      "\n",
      "        accuracy                           0.75       380\n",
      "       macro avg       0.75      0.75      0.75       380\n",
      "    weighted avg       0.75      0.75      0.75       380\n",
      "\n"
     ]
    },
    {
     "name": "stderr",
     "output_type": "stream",
     "text": [
      "Training Epochs:  84%|████████▎ | 1670/2000 [00:37<00:06, 52.83it/s]"
     ]
    },
    {
     "name": "stdout",
     "output_type": "stream",
     "text": [
      "Epoch 1660/2000, Loss: 0.0960\n",
      "Test Accuracy at Epoch 1660: 76.84%\n",
      "Test F1-score at Epoch 1660: 0.7696\n",
      "Classification Report at Epoch 1660:\n",
      "                  precision    recall  f1-score   support\n",
      "\n",
      "    infringement       0.79      0.75      0.77       194\n",
      "non_infringement       0.75      0.79      0.77       186\n",
      "\n",
      "        accuracy                           0.77       380\n",
      "       macro avg       0.77      0.77      0.77       380\n",
      "    weighted avg       0.77      0.77      0.77       380\n",
      "\n",
      "Epoch 1670/2000, Loss: 0.0944\n",
      "Test Accuracy at Epoch 1670: 74.21%\n",
      "Test F1-score at Epoch 1670: 0.7500\n",
      "Classification Report at Epoch 1670:\n",
      "                  precision    recall  f1-score   support\n",
      "\n",
      "    infringement       0.78      0.70      0.73       194\n",
      "non_infringement       0.71      0.79      0.75       186\n",
      "\n",
      "        accuracy                           0.74       380\n",
      "       macro avg       0.74      0.74      0.74       380\n",
      "    weighted avg       0.75      0.74      0.74       380\n",
      "\n"
     ]
    },
    {
     "name": "stderr",
     "output_type": "stream",
     "text": [
      "Training Epochs:  84%|████████▍ | 1690/2000 [00:37<00:05, 51.88it/s]"
     ]
    },
    {
     "name": "stdout",
     "output_type": "stream",
     "text": [
      "Epoch 1680/2000, Loss: 0.0965\n",
      "Test Accuracy at Epoch 1680: 72.89%\n",
      "Test F1-score at Epoch 1680: 0.7419\n",
      "Classification Report at Epoch 1680:\n",
      "                  precision    recall  f1-score   support\n",
      "\n",
      "    infringement       0.77      0.66      0.71       194\n",
      "non_infringement       0.69      0.80      0.74       186\n",
      "\n",
      "        accuracy                           0.73       380\n",
      "       macro avg       0.73      0.73      0.73       380\n",
      "    weighted avg       0.73      0.73      0.73       380\n",
      "\n",
      "Epoch 1690/2000, Loss: 0.0943\n",
      "Test Accuracy at Epoch 1690: 75.00%\n",
      "Test F1-score at Epoch 1690: 0.7558\n",
      "Classification Report at Epoch 1690:\n",
      "                  precision    recall  f1-score   support\n",
      "\n",
      "    infringement       0.78      0.71      0.74       194\n",
      "non_infringement       0.72      0.79      0.76       186\n",
      "\n",
      "        accuracy                           0.75       380\n",
      "       macro avg       0.75      0.75      0.75       380\n",
      "    weighted avg       0.75      0.75      0.75       380\n",
      "\n"
     ]
    },
    {
     "name": "stderr",
     "output_type": "stream",
     "text": [
      "Training Epochs:  86%|████████▌ | 1710/2000 [00:38<00:05, 51.29it/s]"
     ]
    },
    {
     "name": "stdout",
     "output_type": "stream",
     "text": [
      "Epoch 1700/2000, Loss: 0.0963\n",
      "Test Accuracy at Epoch 1700: 76.84%\n",
      "Test F1-score at Epoch 1700: 0.7696\n",
      "Classification Report at Epoch 1700:\n",
      "                  precision    recall  f1-score   support\n",
      "\n",
      "    infringement       0.79      0.75      0.77       194\n",
      "non_infringement       0.75      0.79      0.77       186\n",
      "\n",
      "        accuracy                           0.77       380\n",
      "       macro avg       0.77      0.77      0.77       380\n",
      "    weighted avg       0.77      0.77      0.77       380\n",
      "\n",
      "Epoch 1710/2000, Loss: 0.0942\n",
      "Test Accuracy at Epoch 1710: 74.21%\n",
      "Test F1-score at Epoch 1710: 0.7500\n",
      "Classification Report at Epoch 1710:\n",
      "                  precision    recall  f1-score   support\n",
      "\n",
      "    infringement       0.78      0.70      0.73       194\n",
      "non_infringement       0.71      0.79      0.75       186\n",
      "\n",
      "        accuracy                           0.74       380\n",
      "       macro avg       0.74      0.74      0.74       380\n",
      "    weighted avg       0.75      0.74      0.74       380\n",
      "\n"
     ]
    },
    {
     "name": "stderr",
     "output_type": "stream",
     "text": [
      "Training Epochs:  86%|████████▋ | 1730/2000 [00:38<00:05, 50.79it/s]"
     ]
    },
    {
     "name": "stdout",
     "output_type": "stream",
     "text": [
      "Epoch 1720/2000, Loss: 0.0958\n",
      "Test Accuracy at Epoch 1720: 72.89%\n",
      "Test F1-score at Epoch 1720: 0.7419\n",
      "Classification Report at Epoch 1720:\n",
      "                  precision    recall  f1-score   support\n",
      "\n",
      "    infringement       0.77      0.66      0.71       194\n",
      "non_infringement       0.69      0.80      0.74       186\n",
      "\n",
      "        accuracy                           0.73       380\n",
      "       macro avg       0.73      0.73      0.73       380\n",
      "    weighted avg       0.73      0.73      0.73       380\n",
      "\n",
      "Epoch 1730/2000, Loss: 0.0943\n",
      "Test Accuracy at Epoch 1730: 74.47%\n",
      "Test F1-score at Epoch 1730: 0.7519\n",
      "Classification Report at Epoch 1730:\n",
      "                  precision    recall  f1-score   support\n",
      "\n",
      "    infringement       0.78      0.70      0.74       194\n",
      "non_infringement       0.72      0.79      0.75       186\n",
      "\n",
      "        accuracy                           0.74       380\n",
      "       macro avg       0.75      0.75      0.74       380\n",
      "    weighted avg       0.75      0.74      0.74       380\n",
      "\n"
     ]
    },
    {
     "name": "stderr",
     "output_type": "stream",
     "text": [
      "Training Epochs:  88%|████████▊ | 1750/2000 [00:39<00:05, 46.35it/s]"
     ]
    },
    {
     "name": "stdout",
     "output_type": "stream",
     "text": [
      "Epoch 1740/2000, Loss: 0.0946\n",
      "Test Accuracy at Epoch 1740: 76.84%\n",
      "Test F1-score at Epoch 1740: 0.7696\n",
      "Classification Report at Epoch 1740:\n",
      "                  precision    recall  f1-score   support\n",
      "\n",
      "    infringement       0.79      0.75      0.77       194\n",
      "non_infringement       0.75      0.79      0.77       186\n",
      "\n",
      "        accuracy                           0.77       380\n",
      "       macro avg       0.77      0.77      0.77       380\n",
      "    weighted avg       0.77      0.77      0.77       380\n",
      "\n",
      "Epoch 1750/2000, Loss: 0.0961\n",
      "Test Accuracy at Epoch 1750: 76.84%\n",
      "Test F1-score at Epoch 1750: 0.7696\n",
      "Classification Report at Epoch 1750:\n",
      "                  precision    recall  f1-score   support\n",
      "\n",
      "    infringement       0.79      0.75      0.77       194\n",
      "non_infringement       0.75      0.79      0.77       186\n",
      "\n",
      "        accuracy                           0.77       380\n",
      "       macro avg       0.77      0.77      0.77       380\n",
      "    weighted avg       0.77      0.77      0.77       380\n",
      "\n"
     ]
    },
    {
     "name": "stderr",
     "output_type": "stream",
     "text": [
      "Training Epochs:  88%|████████▊ | 1770/2000 [00:39<00:04, 52.94it/s]"
     ]
    },
    {
     "name": "stdout",
     "output_type": "stream",
     "text": [
      "Epoch 1760/2000, Loss: 0.0942\n",
      "Test Accuracy at Epoch 1760: 74.21%\n",
      "Test F1-score at Epoch 1760: 0.7500\n",
      "Classification Report at Epoch 1760:\n",
      "                  precision    recall  f1-score   support\n",
      "\n",
      "    infringement       0.78      0.70      0.73       194\n",
      "non_infringement       0.71      0.79      0.75       186\n",
      "\n",
      "        accuracy                           0.74       380\n",
      "       macro avg       0.74      0.74      0.74       380\n",
      "    weighted avg       0.75      0.74      0.74       380\n",
      "\n",
      "Epoch 1770/2000, Loss: 0.0965\n",
      "Test Accuracy at Epoch 1770: 72.89%\n",
      "Test F1-score at Epoch 1770: 0.7419\n",
      "Classification Report at Epoch 1770:\n",
      "                  precision    recall  f1-score   support\n",
      "\n",
      "    infringement       0.77      0.66      0.71       194\n",
      "non_infringement       0.69      0.80      0.74       186\n",
      "\n",
      "        accuracy                           0.73       380\n",
      "       macro avg       0.73      0.73      0.73       380\n",
      "    weighted avg       0.73      0.73      0.73       380\n",
      "\n"
     ]
    },
    {
     "name": "stderr",
     "output_type": "stream",
     "text": [
      "Training Epochs:  90%|████████▉ | 1790/2000 [00:39<00:04, 51.96it/s]"
     ]
    },
    {
     "name": "stdout",
     "output_type": "stream",
     "text": [
      "Epoch 1780/2000, Loss: 0.0942\n",
      "Test Accuracy at Epoch 1780: 75.00%\n",
      "Test F1-score at Epoch 1780: 0.7558\n",
      "Classification Report at Epoch 1780:\n",
      "                  precision    recall  f1-score   support\n",
      "\n",
      "    infringement       0.78      0.71      0.74       194\n",
      "non_infringement       0.72      0.79      0.76       186\n",
      "\n",
      "        accuracy                           0.75       380\n",
      "       macro avg       0.75      0.75      0.75       380\n",
      "    weighted avg       0.75      0.75      0.75       380\n",
      "\n",
      "Epoch 1790/2000, Loss: 0.0957\n",
      "Test Accuracy at Epoch 1790: 76.84%\n",
      "Test F1-score at Epoch 1790: 0.7696\n",
      "Classification Report at Epoch 1790:\n",
      "                  precision    recall  f1-score   support\n",
      "\n",
      "    infringement       0.79      0.75      0.77       194\n",
      "non_infringement       0.75      0.79      0.77       186\n",
      "\n",
      "        accuracy                           0.77       380\n",
      "       macro avg       0.77      0.77      0.77       380\n",
      "    weighted avg       0.77      0.77      0.77       380\n",
      "\n"
     ]
    },
    {
     "name": "stderr",
     "output_type": "stream",
     "text": [
      "Training Epochs:  91%|█████████ | 1811/2000 [00:40<00:03, 52.54it/s]"
     ]
    },
    {
     "name": "stdout",
     "output_type": "stream",
     "text": [
      "Epoch 1800/2000, Loss: 0.0942\n",
      "Test Accuracy at Epoch 1800: 75.00%\n",
      "Test F1-score at Epoch 1800: 0.7558\n",
      "Classification Report at Epoch 1800:\n",
      "                  precision    recall  f1-score   support\n",
      "\n",
      "    infringement       0.78      0.71      0.74       194\n",
      "non_infringement       0.72      0.79      0.76       186\n",
      "\n",
      "        accuracy                           0.75       380\n",
      "       macro avg       0.75      0.75      0.75       380\n",
      "    weighted avg       0.75      0.75      0.75       380\n",
      "\n",
      "Epoch 1810/2000, Loss: 0.0952\n",
      "Test Accuracy at Epoch 1810: 76.84%\n",
      "Test F1-score at Epoch 1810: 0.7696\n",
      "Classification Report at Epoch 1810:\n",
      "                  precision    recall  f1-score   support\n",
      "\n",
      "    infringement       0.79      0.75      0.77       194\n",
      "non_infringement       0.75      0.79      0.77       186\n",
      "\n",
      "        accuracy                           0.77       380\n",
      "       macro avg       0.77      0.77      0.77       380\n",
      "    weighted avg       0.77      0.77      0.77       380\n",
      "\n"
     ]
    },
    {
     "name": "stderr",
     "output_type": "stream",
     "text": [
      "Training Epochs:  91%|█████████▏| 1826/2000 [00:40<00:03, 52.27it/s]"
     ]
    },
    {
     "name": "stdout",
     "output_type": "stream",
     "text": [
      "Epoch 1820/2000, Loss: 0.0945\n",
      "Test Accuracy at Epoch 1820: 75.00%\n",
      "Test F1-score at Epoch 1820: 0.7558\n",
      "Classification Report at Epoch 1820:\n",
      "                  precision    recall  f1-score   support\n",
      "\n",
      "    infringement       0.78      0.71      0.74       194\n",
      "non_infringement       0.72      0.79      0.76       186\n",
      "\n",
      "        accuracy                           0.75       380\n",
      "       macro avg       0.75      0.75      0.75       380\n",
      "    weighted avg       0.75      0.75      0.75       380\n",
      "\n"
     ]
    },
    {
     "name": "stderr",
     "output_type": "stream",
     "text": [
      "Training Epochs:  92%|█████████▏| 1838/2000 [00:40<00:02, 54.79it/s]"
     ]
    },
    {
     "name": "stdout",
     "output_type": "stream",
     "text": [
      "Epoch 1830/2000, Loss: 0.0941\n",
      "Test Accuracy at Epoch 1830: 74.47%\n",
      "Test F1-score at Epoch 1830: 0.7532\n",
      "Classification Report at Epoch 1830:\n",
      "                  precision    recall  f1-score   support\n",
      "\n",
      "    infringement       0.78      0.70      0.74       194\n",
      "non_infringement       0.71      0.80      0.75       186\n",
      "\n",
      "        accuracy                           0.74       380\n",
      "       macro avg       0.75      0.75      0.74       380\n",
      "    weighted avg       0.75      0.74      0.74       380\n",
      "\n",
      "Epoch 1840/2000, Loss: 0.0967\n",
      "Test Accuracy at Epoch 1840: 72.89%\n",
      "Test F1-score at Epoch 1840: 0.7419\n",
      "Classification Report at Epoch 1840:\n",
      "                  precision    recall  f1-score   support\n",
      "\n",
      "    infringement       0.77      0.66      0.71       194\n",
      "non_infringement       0.69      0.80      0.74       186\n",
      "\n",
      "        accuracy                           0.73       380\n",
      "       macro avg       0.73      0.73      0.73       380\n",
      "    weighted avg       0.73      0.73      0.73       380\n",
      "\n"
     ]
    },
    {
     "name": "stderr",
     "output_type": "stream",
     "text": [
      "Training Epochs:  93%|█████████▎| 1858/2000 [00:41<00:02, 57.77it/s]"
     ]
    },
    {
     "name": "stdout",
     "output_type": "stream",
     "text": [
      "Epoch 1850/2000, Loss: 0.0942\n",
      "Test Accuracy at Epoch 1850: 75.00%\n",
      "Test F1-score at Epoch 1850: 0.7558\n",
      "Classification Report at Epoch 1850:\n",
      "                  precision    recall  f1-score   support\n",
      "\n",
      "    infringement       0.78      0.71      0.74       194\n",
      "non_infringement       0.72      0.79      0.76       186\n",
      "\n",
      "        accuracy                           0.75       380\n",
      "       macro avg       0.75      0.75      0.75       380\n",
      "    weighted avg       0.75      0.75      0.75       380\n",
      "\n",
      "Epoch 1860/2000, Loss: 0.0951\n",
      "Test Accuracy at Epoch 1860: 77.11%\n",
      "Test F1-score at Epoch 1860: 0.7728\n",
      "Classification Report at Epoch 1860:\n",
      "                  precision    recall  f1-score   support\n",
      "\n",
      "    infringement       0.79      0.75      0.77       194\n",
      "non_infringement       0.75      0.80      0.77       186\n",
      "\n",
      "        accuracy                           0.77       380\n",
      "       macro avg       0.77      0.77      0.77       380\n",
      "    weighted avg       0.77      0.77      0.77       380\n",
      "\n"
     ]
    },
    {
     "name": "stderr",
     "output_type": "stream",
     "text": [
      "Training Epochs:  94%|█████████▍| 1878/2000 [00:41<00:02, 56.85it/s]"
     ]
    },
    {
     "name": "stdout",
     "output_type": "stream",
     "text": [
      "Epoch 1870/2000, Loss: 0.0961\n",
      "Test Accuracy at Epoch 1870: 72.89%\n",
      "Test F1-score at Epoch 1870: 0.7419\n",
      "Classification Report at Epoch 1870:\n",
      "                  precision    recall  f1-score   support\n",
      "\n",
      "    infringement       0.77      0.66      0.71       194\n",
      "non_infringement       0.69      0.80      0.74       186\n",
      "\n",
      "        accuracy                           0.73       380\n",
      "       macro avg       0.73      0.73      0.73       380\n",
      "    weighted avg       0.73      0.73      0.73       380\n",
      "\n",
      "Epoch 1880/2000, Loss: 0.0946\n",
      "Test Accuracy at Epoch 1880: 76.84%\n",
      "Test F1-score at Epoch 1880: 0.7696\n",
      "Classification Report at Epoch 1880:\n",
      "                  precision    recall  f1-score   support\n",
      "\n",
      "    infringement       0.79      0.75      0.77       194\n",
      "non_infringement       0.75      0.79      0.77       186\n",
      "\n",
      "        accuracy                           0.77       380\n",
      "       macro avg       0.77      0.77      0.77       380\n",
      "    weighted avg       0.77      0.77      0.77       380\n",
      "\n"
     ]
    },
    {
     "name": "stderr",
     "output_type": "stream",
     "text": [
      "Training Epochs:  95%|█████████▍| 1897/2000 [00:41<00:01, 54.03it/s]"
     ]
    },
    {
     "name": "stdout",
     "output_type": "stream",
     "text": [
      "Epoch 1890/2000, Loss: 0.0941\n",
      "Test Accuracy at Epoch 1890: 74.74%\n",
      "Test F1-score at Epoch 1890: 0.7551\n",
      "Classification Report at Epoch 1890:\n",
      "                  precision    recall  f1-score   support\n",
      "\n",
      "    infringement       0.78      0.70      0.74       194\n",
      "non_infringement       0.72      0.80      0.76       186\n",
      "\n",
      "        accuracy                           0.75       380\n",
      "       macro avg       0.75      0.75      0.75       380\n",
      "    weighted avg       0.75      0.75      0.75       380\n",
      "\n",
      "Epoch 1900/2000, Loss: 0.0952\n",
      "Test Accuracy at Epoch 1900: 74.47%\n",
      "Test F1-score at Epoch 1900: 0.7532\n",
      "Classification Report at Epoch 1900:\n",
      "                  precision    recall  f1-score   support\n",
      "\n",
      "    infringement       0.78      0.70      0.74       194\n",
      "non_infringement       0.71      0.80      0.75       186\n",
      "\n",
      "        accuracy                           0.74       380\n",
      "       macro avg       0.75      0.75      0.74       380\n",
      "    weighted avg       0.75      0.74      0.74       380\n",
      "\n"
     ]
    },
    {
     "name": "stderr",
     "output_type": "stream",
     "text": [
      "Training Epochs:  96%|█████████▌| 1921/2000 [00:42<00:01, 53.83it/s]"
     ]
    },
    {
     "name": "stdout",
     "output_type": "stream",
     "text": [
      "Epoch 1910/2000, Loss: 0.0940\n",
      "Test Accuracy at Epoch 1910: 75.26%\n",
      "Test F1-score at Epoch 1910: 0.7590\n",
      "Classification Report at Epoch 1910:\n",
      "                  precision    recall  f1-score   support\n",
      "\n",
      "    infringement       0.78      0.71      0.75       194\n",
      "non_infringement       0.73      0.80      0.76       186\n",
      "\n",
      "        accuracy                           0.75       380\n",
      "       macro avg       0.75      0.75      0.75       380\n",
      "    weighted avg       0.76      0.75      0.75       380\n",
      "\n",
      "Epoch 1920/2000, Loss: 0.0949\n",
      "Test Accuracy at Epoch 1920: 77.11%\n",
      "Test F1-score at Epoch 1920: 0.7728\n",
      "Classification Report at Epoch 1920:\n",
      "                  precision    recall  f1-score   support\n",
      "\n",
      "    infringement       0.79      0.75      0.77       194\n",
      "non_infringement       0.75      0.80      0.77       186\n",
      "\n",
      "        accuracy                           0.77       380\n",
      "       macro avg       0.77      0.77      0.77       380\n",
      "    weighted avg       0.77      0.77      0.77       380\n",
      "\n"
     ]
    },
    {
     "name": "stderr",
     "output_type": "stream",
     "text": [
      "Training Epochs:  97%|█████████▋| 1940/2000 [00:42<00:01, 53.77it/s]"
     ]
    },
    {
     "name": "stdout",
     "output_type": "stream",
     "text": [
      "Epoch 1930/2000, Loss: 0.0940\n",
      "Test Accuracy at Epoch 1930: 75.26%\n",
      "Test F1-score at Epoch 1930: 0.7590\n",
      "Classification Report at Epoch 1930:\n",
      "                  precision    recall  f1-score   support\n",
      "\n",
      "    infringement       0.78      0.71      0.75       194\n",
      "non_infringement       0.73      0.80      0.76       186\n",
      "\n",
      "        accuracy                           0.75       380\n",
      "       macro avg       0.75      0.75      0.75       380\n",
      "    weighted avg       0.76      0.75      0.75       380\n",
      "\n",
      "Epoch 1940/2000, Loss: 0.0944\n",
      "Test Accuracy at Epoch 1940: 77.11%\n",
      "Test F1-score at Epoch 1940: 0.7728\n",
      "Classification Report at Epoch 1940:\n",
      "                  precision    recall  f1-score   support\n",
      "\n",
      "    infringement       0.79      0.75      0.77       194\n",
      "non_infringement       0.75      0.80      0.77       186\n",
      "\n",
      "        accuracy                           0.77       380\n",
      "       macro avg       0.77      0.77      0.77       380\n",
      "    weighted avg       0.77      0.77      0.77       380\n",
      "\n"
     ]
    },
    {
     "name": "stderr",
     "output_type": "stream",
     "text": [
      "Training Epochs:  98%|█████████▊| 1960/2000 [00:43<00:00, 53.90it/s]"
     ]
    },
    {
     "name": "stdout",
     "output_type": "stream",
     "text": [
      "Epoch 1950/2000, Loss: 0.0952\n",
      "Test Accuracy at Epoch 1950: 77.11%\n",
      "Test F1-score at Epoch 1950: 0.7728\n",
      "Classification Report at Epoch 1950:\n",
      "                  precision    recall  f1-score   support\n",
      "\n",
      "    infringement       0.79      0.75      0.77       194\n",
      "non_infringement       0.75      0.80      0.77       186\n",
      "\n",
      "        accuracy                           0.77       380\n",
      "       macro avg       0.77      0.77      0.77       380\n",
      "    weighted avg       0.77      0.77      0.77       380\n",
      "\n",
      "Epoch 1960/2000, Loss: 0.0941\n",
      "Test Accuracy at Epoch 1960: 74.47%\n",
      "Test F1-score at Epoch 1960: 0.7532\n",
      "Classification Report at Epoch 1960:\n",
      "                  precision    recall  f1-score   support\n",
      "\n",
      "    infringement       0.78      0.70      0.74       194\n",
      "non_infringement       0.71      0.80      0.75       186\n",
      "\n",
      "        accuracy                           0.74       380\n",
      "       macro avg       0.75      0.75      0.74       380\n",
      "    weighted avg       0.75      0.74      0.74       380\n",
      "\n"
     ]
    },
    {
     "name": "stderr",
     "output_type": "stream",
     "text": [
      "Training Epochs:  99%|█████████▉| 1980/2000 [00:43<00:00, 51.91it/s]"
     ]
    },
    {
     "name": "stdout",
     "output_type": "stream",
     "text": [
      "Epoch 1970/2000, Loss: 0.0952\n",
      "Test Accuracy at Epoch 1970: 74.47%\n",
      "Test F1-score at Epoch 1970: 0.7532\n",
      "Classification Report at Epoch 1970:\n",
      "                  precision    recall  f1-score   support\n",
      "\n",
      "    infringement       0.78      0.70      0.74       194\n",
      "non_infringement       0.71      0.80      0.75       186\n",
      "\n",
      "        accuracy                           0.74       380\n",
      "       macro avg       0.75      0.75      0.74       380\n",
      "    weighted avg       0.75      0.74      0.74       380\n",
      "\n",
      "Epoch 1980/2000, Loss: 0.0942\n",
      "Test Accuracy at Epoch 1980: 75.26%\n",
      "Test F1-score at Epoch 1980: 0.7590\n",
      "Classification Report at Epoch 1980:\n",
      "                  precision    recall  f1-score   support\n",
      "\n",
      "    infringement       0.78      0.71      0.75       194\n",
      "non_infringement       0.73      0.80      0.76       186\n",
      "\n",
      "        accuracy                           0.75       380\n",
      "       macro avg       0.75      0.75      0.75       380\n",
      "    weighted avg       0.76      0.75      0.75       380\n",
      "\n"
     ]
    },
    {
     "name": "stderr",
     "output_type": "stream",
     "text": [
      "Training Epochs: 100%|██████████| 2000/2000 [00:43<00:00, 45.64it/s]"
     ]
    },
    {
     "name": "stdout",
     "output_type": "stream",
     "text": [
      "Epoch 1990/2000, Loss: 0.0946\n",
      "Test Accuracy at Epoch 1990: 75.26%\n",
      "Test F1-score at Epoch 1990: 0.7590\n",
      "Classification Report at Epoch 1990:\n",
      "                  precision    recall  f1-score   support\n",
      "\n",
      "    infringement       0.78      0.71      0.75       194\n",
      "non_infringement       0.73      0.80      0.76       186\n",
      "\n",
      "        accuracy                           0.75       380\n",
      "       macro avg       0.75      0.75      0.75       380\n",
      "    weighted avg       0.76      0.75      0.75       380\n",
      "\n",
      "Epoch 2000/2000, Loss: 0.0946\n",
      "Test Accuracy at Epoch 2000: 74.47%\n",
      "Test F1-score at Epoch 2000: 0.7532\n",
      "Classification Report at Epoch 2000:\n",
      "                  precision    recall  f1-score   support\n",
      "\n",
      "    infringement       0.78      0.70      0.74       194\n",
      "non_infringement       0.71      0.80      0.75       186\n",
      "\n",
      "        accuracy                           0.74       380\n",
      "       macro avg       0.75      0.75      0.74       380\n",
      "    weighted avg       0.75      0.74      0.74       380\n",
      "\n"
     ]
    },
    {
     "name": "stderr",
     "output_type": "stream",
     "text": [
      "\n",
      "/tmp/ipykernel_1375372/2033666368.py:59: FutureWarning: You are using `torch.load` with `weights_only=False` (the current default value), which uses the default pickle module implicitly. It is possible to construct malicious pickle data which will execute arbitrary code during unpickling (See https://github.com/pytorch/pytorch/blob/main/SECURITY.md#untrusted-models for more details). In a future release, the default value for `weights_only` will be flipped to `True`. This limits the functions that could be executed during unpickling. Arbitrary objects will no longer be allowed to be loaded via this mode unless they are explicitly allowlisted by the user via `torch.serialization.add_safe_globals`. We recommend you start setting `weights_only=True` for any use case where you don't have full control of the loaded file. Please open an issue on GitHub for any issues related to this experimental feature.\n",
      "  custom_mlp.load_state_dict(torch.load(checkpoint_path))\n"
     ]
    },
    {
     "data": {
      "image/png": "[encoded data removed]",
      "text/plain": [
       "<Figure size 1000x500 with 1 Axes>"
      ]
     },
     "metadata": {},
     "output_type": "display_data"
    },
    {
     "name": "stdout",
     "output_type": "stream",
     "text": [
      "Final Model Accuracy: 77.11%\n",
      "Final Model F1-score: 0.7786\n"
     ]
    }
   ],
   "source": [
    "input_dim = X_train.shape[1]\n",
    "hidden_dim = 256 \n",
    "print(f\"Training MLP model with input_dim={input_dim} and hidden_dim={hidden_dim}\")\n",
    "\n",
    "custom_mlp, losses, best_accuracy, best_f1 = train_model(X_train, y_train, X_test, y_test, input_dim, hidden_dim)"
   ]
  },
  {
   "cell_type": "code",
   "execution_count": 10,
   "metadata": {},
   "outputs": [
    {
     "name": "stdout",
     "output_type": "stream",
     "text": [
      "Checkpoint saved to '/home/guangwei/LLM-COPYRIGHT/copyright_newVersion/models/train_input_0_layer.pth'.\n"
     ]
    }
   ],
   "source": [
    "def save_checkpoint(model, optimizer, epoch, loss, filepath):\n",
    "    checkpoint = {\n",
    "        'epoch': epoch + 1,\n",
    "        'model_state_dict': model.state_dict(),\n",
    "        'optimizer_state_dict': optimizer.state_dict(),\n",
    "        'loss': loss\n",
    "    }\n",
    "    torch.save(checkpoint, filepath)\n",
    "    print(f\"Checkpoint saved to '{filepath}'.\")\n",
    "\n",
    "save_checkpoint(custom_mlp, torch.optim.Adam(custom_mlp.parameters()), len(losses), losses[-1], checkpoint_file)"
   ]
  },
  {
   "cell_type": "code",
   "execution_count": null,
   "metadata": {},
   "outputs": [
    {
     "name": "stdout",
     "output_type": "stream",
     "text": [
      "Final Model Accuracy: 77.11%\n",
      "                  precision    recall  f1-score   support\n",
      "\n",
      "    infringement       0.81      0.72      0.76       194\n",
      "non_infringement       0.74      0.82      0.78       186\n",
      "\n",
      "        accuracy                           0.77       380\n",
      "       macro avg       0.77      0.77      0.77       380\n",
      "    weighted avg       0.77      0.77      0.77       380\n",
      "\n"
     ]
    },
    {
     "name": "stderr",
     "output_type": "stream",
     "text": [
      "/tmp/ipykernel_1375372/3740627605.py:2: UserWarning: To copy construct from a tensor, it is recommended to use sourceTensor.clone().detach() or sourceTensor.clone().detach().requires_grad_(True), rather than torch.tensor(sourceTensor).\n",
      "  y_pred_final = (torch.sigmoid(torch.tensor(custom_mlp(torch.tensor(X_test, dtype=torch.float32)))) > 0.5).float().numpy()\n"
     ]
    },
    {
     "ename": "",
     "evalue": "",
     "output_type": "error",
     "traceback": [
      "\u001b[1;31mThe Kernel crashed while executing code in the current cell or a previous cell. \n",
      "\u001b[1;31mPlease review the code in the cell(s) to identify a possible cause of the failure. \n",
      "\u001b[1;31mClick <a href='https://aka.ms/vscodeJupyterKernelCrash'>here</a> for more info. \n",
      "\u001b[1;31mView Jupyter <a href='command:jupyter.viewOutput'>log</a> for further details."
     ]
    }
   ],
   "source": [
    "print(f\"Final Model Accuracy: {best_accuracy * 100:.2f}%\")\n",
    "y_pred_final = (torch.sigmoid(torch.tensor(custom_mlp(torch.tensor(X_test, dtype=torch.float32)))) > 0.5).float().numpy()\n",
    "print(classification_report(y_test, y_pred_final, target_names=[\"infringement\", \"non_infringement\"]))"
   ]
  }
 ],
 "metadata": {
  "kernelspec": {
   "display_name": "zdh",
   "language": "python",
   "name": "python3"
  },
  "language_info": {
   "codemirror_mode": {
    "name": "ipython",
    "version": 3
   },
   "file_extension": ".py",
   "mimetype": "text/x-python",
   "name": "python",
   "nbconvert_exporter": "python",
   "pygments_lexer": "ipython3",
   "version": "3.12.3"
  }
 },
 "nbformat": 4,
 "nbformat_minor": 2
}
