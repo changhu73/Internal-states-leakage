{
 "cells": [
  {
   "cell_type": "code",
   "execution_count": 1,
   "metadata": {},
   "outputs": [
    {
     "name": "stderr",
     "output_type": "stream",
     "text": [
      "/home/guangwei/miniconda3/envs/zdh/lib/python3.12/site-packages/tqdm/auto.py:21: TqdmWarning: IProgress not found. Please update jupyter and ipywidgets. See https://ipywidgets.readthedocs.io/en/stable/user_install.html\n",
      "  from .autonotebook import tqdm as notebook_tqdm\n"
     ]
    }
   ],
   "source": [
    "# import packages\n",
    "import torch\n",
    "import torch.nn as nn\n",
    "import numpy as np\n",
    "from sklearn.metrics import accuracy_score, classification_report\n",
    "import matplotlib.pyplot as plt\n",
    "from tqdm import tqdm\n",
    "from transformers import AutoTokenizer, AutoModelForCausalLM\n",
    "import json\n",
    "import os\n",
    "\n",
    "os.environ[\"CUDA_VISIBLE_DEVICES\"] = \"5\"\n",
    "\n",
    "# Variables\n",
    "model_name = 'meta-llama/Meta-Llama-3.1-8B'\n",
    "non_infringement_file = '/home/guangwei/LLM-COPYRIGHT/copyright_newVersion/test_division/extra_30.non_infringement.json'\n",
    "infringement_file = '/home/guangwei/LLM-COPYRIGHT/copyright_newVersion/test_division/extra_30.infringement.json'\n",
    "checkpoint_file = '/home/guangwei/LLM-COPYRIGHT/copyright_newVersion/models/train_input_0_layer.pth'"
   ]
  },
  {
   "cell_type": "code",
   "execution_count": 2,
   "metadata": {},
   "outputs": [],
   "source": [
    "# Define CustumMLP for internal states train\n",
    "class CustomMLP(nn.Module):\n",
    "    def __init__(self, input_dim, hidden_dim):\n",
    "        super(CustomMLP, self).__init__()\n",
    "        self.down = nn.Linear(input_dim, hidden_dim)\n",
    "        self.gate = nn.Linear(input_dim, hidden_dim)\n",
    "        self.up = nn.Linear(hidden_dim, 1)\n",
    "        self.activation = nn.SiLU()\n",
    "\n",
    "    def forward(self, x):\n",
    "        down_output = self.down(x)\n",
    "        gate_output = self.gate(x)\n",
    "        gated_output = down_output * self.activation(gate_output)\n",
    "        return self.up(gated_output)"
   ]
  },
  {
   "cell_type": "code",
   "execution_count": 3,
   "metadata": {},
   "outputs": [],
   "source": [
    "# Only extract hidden states\n",
    "def extract_hidden_states(texts, model, tokenizer, batch_size=4):\n",
    "    device = torch.device(\"cuda\" if torch.cuda.is_available() else \"cpu\")\n",
    "    model.to(device)\n",
    "    model = nn.DataParallel(model)\n",
    "    hidden_states = []\n",
    "    for i in tqdm(range(0, len(texts), batch_size), desc=\"Processing data batches\"):\n",
    "        batch_texts = texts[i:i + batch_size]\n",
    "        inputs = tokenizer(batch_texts, return_tensors=\"pt\", padding=True, truncation=True).to(device)\n",
    "        with torch.no_grad():\n",
    "            outputs = model(**inputs)\n",
    "        hidden_states.append(outputs.hidden_states[27].mean(dim=1).cpu().numpy())\n",
    "    return np.vstack(hidden_states)"
   ]
  },
  {
   "cell_type": "code",
   "execution_count": 4,
   "metadata": {},
   "outputs": [],
   "source": [
    "# lode data for infringement & non infringement\n",
    "def load_data(non_infringement_file, infringement_file):\n",
    "    with open(non_infringement_file, 'r', encoding='utf-8') as file:\n",
    "        non_infringement_json_data = json.load(file)\n",
    "\n",
    "    non_infringement_outputs = [entry['input'] for entry in non_infringement_json_data]\n",
    "    y_non_infringement = [1] * len(non_infringement_outputs)\n",
    "\n",
    "    with open(infringement_file, 'r', encoding='utf-8') as file:\n",
    "        infringement_json_data = json.load(file)\n",
    "\n",
    "    infringement_outputs = [entry['input'] for entry in infringement_json_data]\n",
    "    y_infringement = [0] * len(infringement_outputs)\n",
    "\n",
    "    return non_infringement_outputs, y_non_infringement, infringement_outputs, y_infringement"
   ]
  },
  {
   "cell_type": "code",
   "execution_count": 5,
   "metadata": {},
   "outputs": [],
   "source": [
    "from sklearn.metrics import accuracy_score, classification_report, f1_score\n",
    "\n",
    "# Train for best model\n",
    "def train_model(X_train, y_train, X_test, y_test, input_dim, hidden_dim, epochs=2000, lr=0.001, checkpoint_path=checkpoint_file):\n",
    "    custom_mlp = CustomMLP(input_dim, hidden_dim)\n",
    "    criterion = nn.BCEWithLogitsLoss()\n",
    "    optimizer = torch.optim.Adam(custom_mlp.parameters(), lr=lr)\n",
    "\n",
    "    X_train_tensor = torch.tensor(X_train, dtype=torch.float32)\n",
    "    y_train_tensor = torch.tensor(y_train, dtype=torch.float32).unsqueeze(1)\n",
    "\n",
    "    best_accuracy = -float('inf')\n",
    "    best_f1 = -float('inf')  # Track best F1-score\n",
    "    best_model_state = None\n",
    "    best_epoch = 0\n",
    "    losses = []\n",
    "\n",
    "    for epoch in tqdm(range(epochs), desc=\"Training Epochs\"):\n",
    "        custom_mlp.train()\n",
    "        optimizer.zero_grad()\n",
    "        outputs = custom_mlp(X_train_tensor)\n",
    "        loss = criterion(outputs, y_train_tensor)\n",
    "        loss.backward()\n",
    "        optimizer.step()\n",
    "        losses.append(loss.item())\n",
    "\n",
    "        # Every 10 epochs, evaluate the model\n",
    "        if (epoch + 1) % 10 == 0:\n",
    "            print(f\"Epoch {epoch + 1}/{epochs}, Loss: {loss.item():.4f}\")\n",
    "            \n",
    "            custom_mlp.eval()\n",
    "            X_test_tensor = torch.tensor(X_test, dtype=torch.float32)\n",
    "            with torch.no_grad():\n",
    "                y_pred_logits = custom_mlp(X_test_tensor)\n",
    "                y_pred = (torch.sigmoid(y_pred_logits) > 0.5).float().numpy()\n",
    "            \n",
    "            # Calculate accuracy and F1-score\n",
    "            accuracy = accuracy_score(y_test, y_pred)\n",
    "            f1 = f1_score(y_test, y_pred)  # F1-score calculation\n",
    "            \n",
    "            print(f\"Test Accuracy at Epoch {epoch + 1}: {accuracy * 100:.2f}%\")\n",
    "            print(f\"Test F1-score at Epoch {epoch + 1}: {f1:.4f}\")\n",
    "            \n",
    "            # Generate classification report\n",
    "            report = classification_report(y_test, y_pred, target_names=[\"infringement\", \"non_infringement\"])\n",
    "            print(f\"Classification Report at Epoch {epoch + 1}:\\n{report}\")\n",
    "\n",
    "            # Save the model if it achieves a better F1-score\n",
    "            if f1 > best_f1:\n",
    "                best_accuracy = accuracy\n",
    "                best_f1 = f1\n",
    "                best_model_state = custom_mlp.state_dict()\n",
    "                best_epoch = epoch + 1\n",
    "                torch.save(best_model_state, checkpoint_path)\n",
    "                print(f\"New best model saved with F1-score {best_f1:.4f} at epoch {best_epoch}\")\n",
    "                print(f\"Best Classification Report at Epoch {best_epoch}:\\n{report}\")\n",
    "\n",
    "    # Load the best model state\n",
    "    custom_mlp.load_state_dict(torch.load(checkpoint_path))\n",
    "\n",
    "    # Plot loss curve\n",
    "    plt.figure(figsize=(10, 5))\n",
    "    plt.plot(losses, label='Training Loss')\n",
    "    plt.xlabel('Epoch')\n",
    "    plt.ylabel('Loss')\n",
    "    plt.title('Training Loss Curve')\n",
    "    plt.legend()\n",
    "    plt.show()\n",
    "\n",
    "    print(f\"Final Model Accuracy: {best_accuracy * 100:.2f}%\")\n",
    "    print(f\"Final Model F1-score: {best_f1:.4f}\")\n",
    "    \n",
    "    return custom_mlp, losses, best_accuracy, best_f1\n"
   ]
  },
  {
   "cell_type": "code",
   "execution_count": 6,
   "metadata": {},
   "outputs": [
    {
     "name": "stderr",
     "output_type": "stream",
     "text": [
      "/home/guangwei/miniconda3/envs/zdh/lib/python3.12/site-packages/transformers/generation/configuration_utils.py:777: UserWarning: `return_dict_in_generate` is NOT set to `True`, but `output_hidden_states` is. When `return_dict_in_generate` is not `True`, `output_hidden_states` is ignored.\n",
      "  warnings.warn(\n",
      "Loading checkpoint shards: 100%|██████████| 4/4 [00:02<00:00,  1.60it/s]\n"
     ]
    }
   ],
   "source": [
    "\n",
    "tokenizer = AutoTokenizer.from_pretrained(model_name, model_max_length=512)\n",
    "model = AutoModelForCausalLM.from_pretrained(model_name, output_hidden_states=True)\n",
    "tokenizer.pad_token = tokenizer.eos_token\n",
    "\n",
    "non_infringement_outputs, y_non_infringement, infringement_outputs, y_infringement = load_data(non_infringement_file, infringement_file)\n",
    "\n",
    "y_non_infringement = np.array(y_non_infringement)\n",
    "y_infringement = np.array(y_infringement)\n"
   ]
  },
  {
   "cell_type": "code",
   "execution_count": 7,
   "metadata": {},
   "outputs": [
    {
     "name": "stdout",
     "output_type": "stream",
     "text": [
      "Extracting hidden states for non_infringement texts...\n"
     ]
    },
    {
     "name": "stderr",
     "output_type": "stream",
     "text": [
      "Processing data batches:   0%|          | 0/232 [00:00<?, ?it/s]Starting from v4.46, the `logits` model output will have the same type as the model (except at train time, where it will always be FP32)\n",
      "Processing data batches: 100%|██████████| 232/232 [01:02<00:00,  3.72it/s]\n"
     ]
    },
    {
     "name": "stdout",
     "output_type": "stream",
     "text": [
      "Extracting hidden states for infringement texts...\n"
     ]
    },
    {
     "name": "stderr",
     "output_type": "stream",
     "text": [
      "Processing data batches: 100%|██████████| 243/243 [01:20<00:00,  3.03it/s]\n"
     ]
    }
   ],
   "source": [
    "print(\"Extracting hidden states for non_infringement texts...\")\n",
    "X_non_infringement = extract_hidden_states(non_infringement_outputs, model, tokenizer)\n",
    "\n",
    "print(\"Extracting hidden states for infringement texts...\")\n",
    "X_infringement = extract_hidden_states(infringement_outputs, model, tokenizer)"
   ]
  },
  {
   "cell_type": "code",
   "execution_count": 8,
   "metadata": {},
   "outputs": [
    {
     "name": "stdout",
     "output_type": "stream",
     "text": [
      "Data successfully split into training and test sets.\n"
     ]
    }
   ],
   "source": [
    "split_index_non_infringement = int(0.8 * len(X_non_infringement))\n",
    "X_non_infringement_train = X_non_infringement[:split_index_non_infringement]\n",
    "X_non_infringement_test = X_non_infringement[split_index_non_infringement:]\n",
    "y_non_infringement_train = y_non_infringement[:split_index_non_infringement]\n",
    "y_non_infringement_test = y_non_infringement[split_index_non_infringement:]\n",
    "\n",
    "split_index_infringement = int(0.8 * len(X_infringement))\n",
    "X_infringement_train = X_infringement[:split_index_infringement]\n",
    "X_infringement_test = X_infringement[split_index_infringement:]\n",
    "y_infringement_train = y_infringement[:split_index_infringement]\n",
    "y_infringement_test = y_infringement[split_index_infringement:]\n",
    "\n",
    "X_train = np.vstack((X_non_infringement_train, X_infringement_train))\n",
    "X_test = np.vstack((X_non_infringement_test, X_infringement_test))\n",
    "y_train = np.concatenate((y_non_infringement_train, y_infringement_train))\n",
    "y_test = np.concatenate((y_non_infringement_test, y_infringement_test))\n",
    "\n",
    "print(\"Data successfully split into training and test sets.\")"
   ]
  },
  {
   "cell_type": "code",
   "execution_count": 9,
   "metadata": {},
   "outputs": [
    {
     "name": "stdout",
     "output_type": "stream",
     "text": [
      "Training MLP model with input_dim=4096 and hidden_dim=256\n"
     ]
    },
    {
     "name": "stderr",
     "output_type": "stream",
     "text": [
      "Training Epochs:   1%|          | 11/2000 [00:00<01:10, 28.14it/s]"
     ]
    },
    {
     "name": "stdout",
     "output_type": "stream",
     "text": [
      "Epoch 10/2000, Loss: 0.3914\n",
      "Test Accuracy at Epoch 10: 70.53%\n",
      "Test F1-score at Epoch 10: 0.7333\n",
      "Classification Report at Epoch 10:\n",
      "                  precision    recall  f1-score   support\n",
      "\n",
      "    infringement       0.78      0.59      0.67       194\n",
      "non_infringement       0.66      0.83      0.73       186\n",
      "\n",
      "        accuracy                           0.71       380\n",
      "       macro avg       0.72      0.71      0.70       380\n",
      "    weighted avg       0.72      0.71      0.70       380\n",
      "\n",
      "New best model saved with F1-score 0.7333 at epoch 10\n",
      "Best Classification Report at Epoch 10:\n",
      "                  precision    recall  f1-score   support\n",
      "\n",
      "    infringement       0.78      0.59      0.67       194\n",
      "non_infringement       0.66      0.83      0.73       186\n",
      "\n",
      "        accuracy                           0.71       380\n",
      "       macro avg       0.72      0.71      0.70       380\n",
      "    weighted avg       0.72      0.71      0.70       380\n",
      "\n"
     ]
    },
    {
     "name": "stderr",
     "output_type": "stream",
     "text": [
      "Training Epochs:   1%|          | 22/2000 [00:00<01:11, 27.83it/s]"
     ]
    },
    {
     "name": "stdout",
     "output_type": "stream",
     "text": [
      "Epoch 20/2000, Loss: 0.3030\n",
      "Test Accuracy at Epoch 20: 73.16%\n",
      "Test F1-score at Epoch 20: 0.7424\n",
      "Classification Report at Epoch 20:\n",
      "                  precision    recall  f1-score   support\n",
      "\n",
      "    infringement       0.77      0.68      0.72       194\n",
      "non_infringement       0.70      0.79      0.74       186\n",
      "\n",
      "        accuracy                           0.73       380\n",
      "       macro avg       0.74      0.73      0.73       380\n",
      "    weighted avg       0.74      0.73      0.73       380\n",
      "\n",
      "New best model saved with F1-score 0.7424 at epoch 20\n",
      "Best Classification Report at Epoch 20:\n",
      "                  precision    recall  f1-score   support\n",
      "\n",
      "    infringement       0.77      0.68      0.72       194\n",
      "non_infringement       0.70      0.79      0.74       186\n",
      "\n",
      "        accuracy                           0.73       380\n",
      "       macro avg       0.74      0.73      0.73       380\n",
      "    weighted avg       0.74      0.73      0.73       380\n",
      "\n"
     ]
    },
    {
     "name": "stderr",
     "output_type": "stream",
     "text": [
      "Training Epochs:   2%|▏         | 34/2000 [00:01<01:04, 30.29it/s]"
     ]
    },
    {
     "name": "stdout",
     "output_type": "stream",
     "text": [
      "Epoch 30/2000, Loss: 0.2487\n",
      "Test Accuracy at Epoch 30: 74.21%\n",
      "Test F1-score at Epoch 30: 0.7487\n",
      "Classification Report at Epoch 30:\n",
      "                  precision    recall  f1-score   support\n",
      "\n",
      "    infringement       0.77      0.70      0.74       194\n",
      "non_infringement       0.72      0.78      0.75       186\n",
      "\n",
      "        accuracy                           0.74       380\n",
      "       macro avg       0.74      0.74      0.74       380\n",
      "    weighted avg       0.74      0.74      0.74       380\n",
      "\n",
      "New best model saved with F1-score 0.7487 at epoch 30\n",
      "Best Classification Report at Epoch 30:\n",
      "                  precision    recall  f1-score   support\n",
      "\n",
      "    infringement       0.77      0.70      0.74       194\n",
      "non_infringement       0.72      0.78      0.75       186\n",
      "\n",
      "        accuracy                           0.74       380\n",
      "       macro avg       0.74      0.74      0.74       380\n",
      "    weighted avg       0.74      0.74      0.74       380\n",
      "\n"
     ]
    },
    {
     "name": "stderr",
     "output_type": "stream",
     "text": [
      "Training Epochs:   2%|▏         | 46/2000 [00:01<01:02, 31.43it/s]"
     ]
    },
    {
     "name": "stdout",
     "output_type": "stream",
     "text": [
      "Epoch 40/2000, Loss: 0.2071\n",
      "Test Accuracy at Epoch 40: 75.53%\n",
      "Test F1-score at Epoch 40: 0.7466\n",
      "Classification Report at Epoch 40:\n",
      "                  precision    recall  f1-score   support\n",
      "\n",
      "    infringement       0.75      0.77      0.76       194\n",
      "non_infringement       0.76      0.74      0.75       186\n",
      "\n",
      "        accuracy                           0.76       380\n",
      "       macro avg       0.76      0.75      0.75       380\n",
      "    weighted avg       0.76      0.76      0.76       380\n",
      "\n"
     ]
    },
    {
     "name": "stderr",
     "output_type": "stream",
     "text": [
      "Training Epochs:   3%|▎         | 54/2000 [00:01<01:03, 30.46it/s]"
     ]
    },
    {
     "name": "stdout",
     "output_type": "stream",
     "text": [
      "Epoch 50/2000, Loss: 0.1615\n",
      "Test Accuracy at Epoch 50: 70.00%\n",
      "Test F1-score at Epoch 50: 0.7273\n",
      "Classification Report at Epoch 50:\n",
      "                  precision    recall  f1-score   support\n",
      "\n",
      "    infringement       0.77      0.59      0.67       194\n",
      "non_infringement       0.66      0.82      0.73       186\n",
      "\n",
      "        accuracy                           0.70       380\n",
      "       macro avg       0.71      0.70      0.70       380\n",
      "    weighted avg       0.71      0.70      0.70       380\n",
      "\n"
     ]
    },
    {
     "name": "stderr",
     "output_type": "stream",
     "text": [
      "Training Epochs:   3%|▎         | 62/2000 [00:02<01:15, 25.71it/s]"
     ]
    },
    {
     "name": "stdout",
     "output_type": "stream",
     "text": [
      "Epoch 60/2000, Loss: 0.1443\n",
      "Test Accuracy at Epoch 60: 73.16%\n",
      "Test F1-score at Epoch 60: 0.7475\n",
      "Classification Report at Epoch 60:\n",
      "                  precision    recall  f1-score   support\n",
      "\n",
      "    infringement       0.78      0.65      0.71       194\n",
      "non_infringement       0.69      0.81      0.75       186\n",
      "\n",
      "        accuracy                           0.73       380\n",
      "       macro avg       0.74      0.73      0.73       380\n",
      "    weighted avg       0.74      0.73      0.73       380\n",
      "\n"
     ]
    },
    {
     "name": "stderr",
     "output_type": "stream",
     "text": [
      "Training Epochs:   4%|▎         | 73/2000 [00:02<01:14, 25.93it/s]"
     ]
    },
    {
     "name": "stdout",
     "output_type": "stream",
     "text": [
      "Epoch 70/2000, Loss: 0.1395\n",
      "Test Accuracy at Epoch 70: 76.32%\n",
      "Test F1-score at Epoch 70: 0.7581\n",
      "Classification Report at Epoch 70:\n",
      "                  precision    recall  f1-score   support\n",
      "\n",
      "    infringement       0.77      0.77      0.77       194\n",
      "non_infringement       0.76      0.76      0.76       186\n",
      "\n",
      "        accuracy                           0.76       380\n",
      "       macro avg       0.76      0.76      0.76       380\n",
      "    weighted avg       0.76      0.76      0.76       380\n",
      "\n",
      "New best model saved with F1-score 0.7581 at epoch 70\n",
      "Best Classification Report at Epoch 70:\n",
      "                  precision    recall  f1-score   support\n",
      "\n",
      "    infringement       0.77      0.77      0.77       194\n",
      "non_infringement       0.76      0.76      0.76       186\n",
      "\n",
      "        accuracy                           0.76       380\n",
      "       macro avg       0.76      0.76      0.76       380\n",
      "    weighted avg       0.76      0.76      0.76       380\n",
      "\n"
     ]
    },
    {
     "name": "stderr",
     "output_type": "stream",
     "text": [
      "Training Epochs:   4%|▍         | 81/2000 [00:02<01:05, 29.34it/s]"
     ]
    },
    {
     "name": "stdout",
     "output_type": "stream",
     "text": [
      "Epoch 80/2000, Loss: 0.1274\n",
      "Test Accuracy at Epoch 80: 73.95%\n",
      "Test F1-score at Epoch 80: 0.7468\n",
      "Classification Report at Epoch 80:\n",
      "                  precision    recall  f1-score   support\n",
      "\n",
      "    infringement       0.77      0.70      0.73       194\n",
      "non_infringement       0.71      0.78      0.75       186\n",
      "\n",
      "        accuracy                           0.74       380\n",
      "       macro avg       0.74      0.74      0.74       380\n",
      "    weighted avg       0.74      0.74      0.74       380\n",
      "\n"
     ]
    },
    {
     "name": "stderr",
     "output_type": "stream",
     "text": [
      "Training Epochs:   5%|▍         | 95/2000 [00:03<00:56, 33.87it/s]"
     ]
    },
    {
     "name": "stdout",
     "output_type": "stream",
     "text": [
      "Epoch 90/2000, Loss: 0.1261\n",
      "Test Accuracy at Epoch 90: 71.58%\n",
      "Test F1-score at Epoch 90: 0.7300\n",
      "Classification Report at Epoch 90:\n",
      "                  precision    recall  f1-score   support\n",
      "\n",
      "    infringement       0.76      0.65      0.70       194\n",
      "non_infringement       0.68      0.78      0.73       186\n",
      "\n",
      "        accuracy                           0.72       380\n",
      "       macro avg       0.72      0.72      0.71       380\n",
      "    weighted avg       0.72      0.72      0.71       380\n",
      "\n"
     ]
    },
    {
     "name": "stderr",
     "output_type": "stream",
     "text": [
      "Training Epochs:   5%|▌         | 103/2000 [00:03<01:01, 30.87it/s]"
     ]
    },
    {
     "name": "stdout",
     "output_type": "stream",
     "text": [
      "Epoch 100/2000, Loss: 0.1212\n",
      "Test Accuracy at Epoch 100: 76.05%\n",
      "Test F1-score at Epoch 100: 0.7624\n",
      "Classification Report at Epoch 100:\n",
      "                  precision    recall  f1-score   support\n",
      "\n",
      "    infringement       0.78      0.74      0.76       194\n",
      "non_infringement       0.74      0.78      0.76       186\n",
      "\n",
      "        accuracy                           0.76       380\n",
      "       macro avg       0.76      0.76      0.76       380\n",
      "    weighted avg       0.76      0.76      0.76       380\n",
      "\n",
      "New best model saved with F1-score 0.7624 at epoch 100\n",
      "Best Classification Report at Epoch 100:\n",
      "                  precision    recall  f1-score   support\n",
      "\n",
      "    infringement       0.78      0.74      0.76       194\n",
      "non_infringement       0.74      0.78      0.76       186\n",
      "\n",
      "        accuracy                           0.76       380\n",
      "       macro avg       0.76      0.76      0.76       380\n",
      "    weighted avg       0.76      0.76      0.76       380\n",
      "\n"
     ]
    },
    {
     "name": "stderr",
     "output_type": "stream",
     "text": [
      "Training Epochs:   6%|▌         | 111/2000 [00:03<01:05, 28.87it/s]"
     ]
    },
    {
     "name": "stdout",
     "output_type": "stream",
     "text": [
      "Epoch 110/2000, Loss: 0.1155\n",
      "Test Accuracy at Epoch 110: 78.16%\n",
      "Test F1-score at Epoch 110: 0.7787\n",
      "Classification Report at Epoch 110:\n",
      "                  precision    recall  f1-score   support\n",
      "\n",
      "    infringement       0.79      0.78      0.78       194\n",
      "non_infringement       0.77      0.78      0.78       186\n",
      "\n",
      "        accuracy                           0.78       380\n",
      "       macro avg       0.78      0.78      0.78       380\n",
      "    weighted avg       0.78      0.78      0.78       380\n",
      "\n",
      "New best model saved with F1-score 0.7787 at epoch 110\n",
      "Best Classification Report at Epoch 110:\n",
      "                  precision    recall  f1-score   support\n",
      "\n",
      "    infringement       0.79      0.78      0.78       194\n",
      "non_infringement       0.77      0.78      0.78       186\n",
      "\n",
      "        accuracy                           0.78       380\n",
      "       macro avg       0.78      0.78      0.78       380\n",
      "    weighted avg       0.78      0.78      0.78       380\n",
      "\n"
     ]
    },
    {
     "name": "stderr",
     "output_type": "stream",
     "text": [
      "Training Epochs:   6%|▋         | 127/2000 [00:04<01:00, 31.04it/s]"
     ]
    },
    {
     "name": "stdout",
     "output_type": "stream",
     "text": [
      "Epoch 120/2000, Loss: 0.1158\n",
      "Test Accuracy at Epoch 120: 73.42%\n",
      "Test F1-score at Epoch 120: 0.7430\n",
      "Classification Report at Epoch 120:\n",
      "                  precision    recall  f1-score   support\n",
      "\n",
      "    infringement       0.77      0.69      0.72       194\n",
      "non_infringement       0.71      0.78      0.74       186\n",
      "\n",
      "        accuracy                           0.73       380\n",
      "       macro avg       0.74      0.74      0.73       380\n",
      "    weighted avg       0.74      0.73      0.73       380\n",
      "\n"
     ]
    },
    {
     "name": "stderr",
     "output_type": "stream",
     "text": [
      "Training Epochs:   7%|▋         | 135/2000 [00:04<01:00, 30.89it/s]"
     ]
    },
    {
     "name": "stdout",
     "output_type": "stream",
     "text": [
      "Epoch 130/2000, Loss: 0.1149\n",
      "Test Accuracy at Epoch 130: 77.89%\n",
      "Test F1-score at Epoch 130: 0.7766\n",
      "Classification Report at Epoch 130:\n",
      "                  precision    recall  f1-score   support\n",
      "\n",
      "    infringement       0.79      0.77      0.78       194\n",
      "non_infringement       0.77      0.78      0.78       186\n",
      "\n",
      "        accuracy                           0.78       380\n",
      "       macro avg       0.78      0.78      0.78       380\n",
      "    weighted avg       0.78      0.78      0.78       380\n",
      "\n"
     ]
    },
    {
     "name": "stderr",
     "output_type": "stream",
     "text": [
      "Training Epochs:   7%|▋         | 146/2000 [00:04<00:47, 39.06it/s]"
     ]
    },
    {
     "name": "stdout",
     "output_type": "stream",
     "text": [
      "Epoch 140/2000, Loss: 0.1076\n",
      "Test Accuracy at Epoch 140: 75.26%\n",
      "Test F1-score at Epoch 140: 0.7565\n",
      "Classification Report at Epoch 140:\n",
      "                  precision    recall  f1-score   support\n",
      "\n",
      "    infringement       0.78      0.72      0.75       194\n",
      "non_infringement       0.73      0.78      0.76       186\n",
      "\n",
      "        accuracy                           0.75       380\n",
      "       macro avg       0.75      0.75      0.75       380\n",
      "    weighted avg       0.75      0.75      0.75       380\n",
      "\n"
     ]
    },
    {
     "name": "stderr",
     "output_type": "stream",
     "text": [
      "Training Epochs:   8%|▊         | 156/2000 [00:05<00:48, 37.99it/s]"
     ]
    },
    {
     "name": "stdout",
     "output_type": "stream",
     "text": [
      "Epoch 150/2000, Loss: 0.1059\n",
      "Test Accuracy at Epoch 150: 75.00%\n",
      "Test F1-score at Epoch 150: 0.7570\n",
      "Classification Report at Epoch 150:\n",
      "                  precision    recall  f1-score   support\n",
      "\n",
      "    infringement       0.78      0.71      0.74       194\n",
      "non_infringement       0.72      0.80      0.76       186\n",
      "\n",
      "        accuracy                           0.75       380\n",
      "       macro avg       0.75      0.75      0.75       380\n",
      "    weighted avg       0.75      0.75      0.75       380\n",
      "\n"
     ]
    },
    {
     "name": "stderr",
     "output_type": "stream",
     "text": [
      "Training Epochs:   8%|▊         | 161/2000 [00:05<00:46, 39.19it/s]"
     ]
    },
    {
     "name": "stdout",
     "output_type": "stream",
     "text": [
      "Epoch 160/2000, Loss: 0.1080\n",
      "Test Accuracy at Epoch 160: 74.74%\n",
      "Test F1-score at Epoch 160: 0.7551\n",
      "Classification Report at Epoch 160:\n",
      "                  precision    recall  f1-score   support\n",
      "\n",
      "    infringement       0.78      0.70      0.74       194\n",
      "non_infringement       0.72      0.80      0.76       186\n",
      "\n",
      "        accuracy                           0.75       380\n",
      "       macro avg       0.75      0.75      0.75       380\n",
      "    weighted avg       0.75      0.75      0.75       380\n",
      "\n"
     ]
    },
    {
     "name": "stderr",
     "output_type": "stream",
     "text": [
      "Training Epochs:   9%|▉         | 175/2000 [00:05<00:47, 38.60it/s]"
     ]
    },
    {
     "name": "stdout",
     "output_type": "stream",
     "text": [
      "Epoch 170/2000, Loss: 0.1080\n",
      "Test Accuracy at Epoch 170: 75.79%\n",
      "Test F1-score at Epoch 170: 0.7617\n",
      "Classification Report at Epoch 170:\n",
      "                  precision    recall  f1-score   support\n",
      "\n",
      "    infringement       0.78      0.73      0.75       194\n",
      "non_infringement       0.73      0.79      0.76       186\n",
      "\n",
      "        accuracy                           0.76       380\n",
      "       macro avg       0.76      0.76      0.76       380\n",
      "    weighted avg       0.76      0.76      0.76       380\n",
      "\n"
     ]
    },
    {
     "name": "stderr",
     "output_type": "stream",
     "text": [
      "Training Epochs:   9%|▉         | 185/2000 [00:05<00:48, 37.12it/s]"
     ]
    },
    {
     "name": "stdout",
     "output_type": "stream",
     "text": [
      "Epoch 180/2000, Loss: 0.1037\n",
      "Test Accuracy at Epoch 180: 74.47%\n",
      "Test F1-score at Epoch 180: 0.7519\n",
      "Classification Report at Epoch 180:\n",
      "                  precision    recall  f1-score   support\n",
      "\n",
      "    infringement       0.78      0.70      0.74       194\n",
      "non_infringement       0.72      0.79      0.75       186\n",
      "\n",
      "        accuracy                           0.74       380\n",
      "       macro avg       0.75      0.75      0.74       380\n",
      "    weighted avg       0.75      0.74      0.74       380\n",
      "\n"
     ]
    },
    {
     "name": "stderr",
     "output_type": "stream",
     "text": [
      "Training Epochs:  10%|▉         | 195/2000 [00:06<00:48, 37.29it/s]"
     ]
    },
    {
     "name": "stdout",
     "output_type": "stream",
     "text": [
      "Epoch 190/2000, Loss: 0.1081\n",
      "Test Accuracy at Epoch 190: 72.37%\n",
      "Test F1-score at Epoch 190: 0.7382\n",
      "Classification Report at Epoch 190:\n",
      "                  precision    recall  f1-score   support\n",
      "\n",
      "    infringement       0.77      0.65      0.71       194\n",
      "non_infringement       0.69      0.80      0.74       186\n",
      "\n",
      "        accuracy                           0.72       380\n",
      "       macro avg       0.73      0.73      0.72       380\n",
      "    weighted avg       0.73      0.72      0.72       380\n",
      "\n"
     ]
    },
    {
     "name": "stderr",
     "output_type": "stream",
     "text": [
      "Training Epochs:  10%|█         | 205/2000 [00:06<00:43, 41.51it/s]"
     ]
    },
    {
     "name": "stdout",
     "output_type": "stream",
     "text": [
      "Epoch 200/2000, Loss: 0.1022\n",
      "Test Accuracy at Epoch 200: 74.47%\n",
      "Test F1-score at Epoch 200: 0.7532\n",
      "Classification Report at Epoch 200:\n",
      "                  precision    recall  f1-score   support\n",
      "\n",
      "    infringement       0.78      0.70      0.74       194\n",
      "non_infringement       0.71      0.80      0.75       186\n",
      "\n",
      "        accuracy                           0.74       380\n",
      "       macro avg       0.75      0.75      0.74       380\n",
      "    weighted avg       0.75      0.74      0.74       380\n",
      "\n"
     ]
    },
    {
     "name": "stderr",
     "output_type": "stream",
     "text": [
      "Training Epochs:  11%|█         | 215/2000 [00:06<00:44, 39.68it/s]"
     ]
    },
    {
     "name": "stdout",
     "output_type": "stream",
     "text": [
      "Epoch 210/2000, Loss: 0.1011\n",
      "Test Accuracy at Epoch 210: 74.74%\n",
      "Test F1-score at Epoch 210: 0.7551\n",
      "Classification Report at Epoch 210:\n",
      "                  precision    recall  f1-score   support\n",
      "\n",
      "    infringement       0.78      0.70      0.74       194\n",
      "non_infringement       0.72      0.80      0.76       186\n",
      "\n",
      "        accuracy                           0.75       380\n",
      "       macro avg       0.75      0.75      0.75       380\n",
      "    weighted avg       0.75      0.75      0.75       380\n",
      "\n"
     ]
    },
    {
     "name": "stderr",
     "output_type": "stream",
     "text": [
      "Training Epochs:  11%|█▏        | 225/2000 [00:07<00:48, 36.90it/s]"
     ]
    },
    {
     "name": "stdout",
     "output_type": "stream",
     "text": [
      "Epoch 220/2000, Loss: 0.1004\n",
      "Test Accuracy at Epoch 220: 75.26%\n",
      "Test F1-score at Epoch 220: 0.7577\n",
      "Classification Report at Epoch 220:\n",
      "                  precision    recall  f1-score   support\n",
      "\n",
      "    infringement       0.78      0.72      0.75       194\n",
      "non_infringement       0.73      0.79      0.76       186\n",
      "\n",
      "        accuracy                           0.75       380\n",
      "       macro avg       0.75      0.75      0.75       380\n",
      "    weighted avg       0.75      0.75      0.75       380\n",
      "\n"
     ]
    },
    {
     "name": "stderr",
     "output_type": "stream",
     "text": [
      "Training Epochs:  12%|█▏        | 236/2000 [00:07<00:42, 41.93it/s]"
     ]
    },
    {
     "name": "stdout",
     "output_type": "stream",
     "text": [
      "Epoch 230/2000, Loss: 0.1005\n",
      "Test Accuracy at Epoch 230: 74.21%\n",
      "Test F1-score at Epoch 230: 0.7525\n",
      "Classification Report at Epoch 230:\n",
      "                  precision    recall  f1-score   support\n",
      "\n",
      "    infringement       0.78      0.69      0.73       194\n",
      "non_infringement       0.71      0.80      0.75       186\n",
      "\n",
      "        accuracy                           0.74       380\n",
      "       macro avg       0.75      0.74      0.74       380\n",
      "    weighted avg       0.75      0.74      0.74       380\n",
      "\n"
     ]
    },
    {
     "name": "stderr",
     "output_type": "stream",
     "text": [
      "Training Epochs:  12%|█▏        | 246/2000 [00:07<00:45, 38.54it/s]"
     ]
    },
    {
     "name": "stdout",
     "output_type": "stream",
     "text": [
      "Epoch 240/2000, Loss: 0.0996\n",
      "Test Accuracy at Epoch 240: 74.21%\n",
      "Test F1-score at Epoch 240: 0.7525\n",
      "Classification Report at Epoch 240:\n",
      "                  precision    recall  f1-score   support\n",
      "\n",
      "    infringement       0.78      0.69      0.73       194\n",
      "non_infringement       0.71      0.80      0.75       186\n",
      "\n",
      "        accuracy                           0.74       380\n",
      "       macro avg       0.75      0.74      0.74       380\n",
      "    weighted avg       0.75      0.74      0.74       380\n",
      "\n"
     ]
    },
    {
     "name": "stderr",
     "output_type": "stream",
     "text": [
      "Training Epochs:  13%|█▎        | 255/2000 [00:07<00:48, 35.80it/s]"
     ]
    },
    {
     "name": "stdout",
     "output_type": "stream",
     "text": [
      "Epoch 250/2000, Loss: 0.1012\n",
      "Test Accuracy at Epoch 250: 77.11%\n",
      "Test F1-score at Epoch 250: 0.7740\n",
      "Classification Report at Epoch 250:\n",
      "                  precision    recall  f1-score   support\n",
      "\n",
      "    infringement       0.80      0.74      0.77       194\n",
      "non_infringement       0.75      0.80      0.77       186\n",
      "\n",
      "        accuracy                           0.77       380\n",
      "       macro avg       0.77      0.77      0.77       380\n",
      "    weighted avg       0.77      0.77      0.77       380\n",
      "\n"
     ]
    },
    {
     "name": "stderr",
     "output_type": "stream",
     "text": [
      "Training Epochs:  13%|█▎        | 265/2000 [00:08<00:44, 39.39it/s]"
     ]
    },
    {
     "name": "stdout",
     "output_type": "stream",
     "text": [
      "Epoch 260/2000, Loss: 0.0999\n",
      "Test Accuracy at Epoch 260: 75.26%\n",
      "Test F1-score at Epoch 260: 0.7602\n",
      "Classification Report at Epoch 260:\n",
      "                  precision    recall  f1-score   support\n",
      "\n",
      "    infringement       0.79      0.71      0.74       194\n",
      "non_infringement       0.72      0.80      0.76       186\n",
      "\n",
      "        accuracy                           0.75       380\n",
      "       macro avg       0.76      0.75      0.75       380\n",
      "    weighted avg       0.76      0.75      0.75       380\n",
      "\n"
     ]
    },
    {
     "name": "stderr",
     "output_type": "stream",
     "text": [
      "Training Epochs:  14%|█▍        | 275/2000 [00:08<00:44, 39.15it/s]"
     ]
    },
    {
     "name": "stdout",
     "output_type": "stream",
     "text": [
      "Epoch 270/2000, Loss: 0.0989\n",
      "Test Accuracy at Epoch 270: 75.26%\n",
      "Test F1-score at Epoch 270: 0.7614\n",
      "Classification Report at Epoch 270:\n",
      "                  precision    recall  f1-score   support\n",
      "\n",
      "    infringement       0.79      0.70      0.74       194\n",
      "non_infringement       0.72      0.81      0.76       186\n",
      "\n",
      "        accuracy                           0.75       380\n",
      "       macro avg       0.76      0.75      0.75       380\n",
      "    weighted avg       0.76      0.75      0.75       380\n",
      "\n"
     ]
    },
    {
     "name": "stderr",
     "output_type": "stream",
     "text": [
      "Training Epochs:  14%|█▍        | 285/2000 [00:08<00:40, 42.35it/s]"
     ]
    },
    {
     "name": "stdout",
     "output_type": "stream",
     "text": [
      "Epoch 280/2000, Loss: 0.0981\n",
      "Test Accuracy at Epoch 280: 74.74%\n",
      "Test F1-score at Epoch 280: 0.7563\n",
      "Classification Report at Epoch 280:\n",
      "                  precision    recall  f1-score   support\n",
      "\n",
      "    infringement       0.78      0.70      0.74       194\n",
      "non_infringement       0.72      0.80      0.76       186\n",
      "\n",
      "        accuracy                           0.75       380\n",
      "       macro avg       0.75      0.75      0.75       380\n",
      "    weighted avg       0.75      0.75      0.75       380\n",
      "\n"
     ]
    },
    {
     "name": "stderr",
     "output_type": "stream",
     "text": [
      "Training Epochs:  15%|█▍        | 296/2000 [00:08<00:41, 41.41it/s]"
     ]
    },
    {
     "name": "stdout",
     "output_type": "stream",
     "text": [
      "Epoch 290/2000, Loss: 0.0975\n",
      "Test Accuracy at Epoch 290: 75.53%\n",
      "Test F1-score at Epoch 290: 0.7621\n",
      "Classification Report at Epoch 290:\n",
      "                  precision    recall  f1-score   support\n",
      "\n",
      "    infringement       0.79      0.71      0.75       194\n",
      "non_infringement       0.73      0.80      0.76       186\n",
      "\n",
      "        accuracy                           0.76       380\n",
      "       macro avg       0.76      0.76      0.76       380\n",
      "    weighted avg       0.76      0.76      0.75       380\n",
      "\n"
     ]
    },
    {
     "name": "stderr",
     "output_type": "stream",
     "text": [
      "Training Epochs:  15%|█▌        | 301/2000 [00:08<00:46, 36.76it/s]"
     ]
    },
    {
     "name": "stdout",
     "output_type": "stream",
     "text": [
      "Epoch 300/2000, Loss: 0.0971\n",
      "Test Accuracy at Epoch 300: 75.00%\n",
      "Test F1-score at Epoch 300: 0.7583\n",
      "Classification Report at Epoch 300:\n",
      "                  precision    recall  f1-score   support\n",
      "\n",
      "    infringement       0.79      0.70      0.74       194\n",
      "non_infringement       0.72      0.80      0.76       186\n",
      "\n",
      "        accuracy                           0.75       380\n",
      "       macro avg       0.75      0.75      0.75       380\n",
      "    weighted avg       0.75      0.75      0.75       380\n",
      "\n"
     ]
    },
    {
     "name": "stderr",
     "output_type": "stream",
     "text": [
      "Training Epochs:  16%|█▌        | 311/2000 [00:09<00:42, 39.86it/s]"
     ]
    },
    {
     "name": "stdout",
     "output_type": "stream",
     "text": [
      "Epoch 310/2000, Loss: 0.0967\n",
      "Test Accuracy at Epoch 310: 75.53%\n",
      "Test F1-score at Epoch 310: 0.7621\n",
      "Classification Report at Epoch 310:\n",
      "                  precision    recall  f1-score   support\n",
      "\n",
      "    infringement       0.79      0.71      0.75       194\n",
      "non_infringement       0.73      0.80      0.76       186\n",
      "\n",
      "        accuracy                           0.76       380\n",
      "       macro avg       0.76      0.76      0.76       380\n",
      "    weighted avg       0.76      0.76      0.75       380\n",
      "\n"
     ]
    },
    {
     "name": "stderr",
     "output_type": "stream",
     "text": [
      "Training Epochs:  16%|█▋        | 326/2000 [00:09<00:42, 39.77it/s]"
     ]
    },
    {
     "name": "stdout",
     "output_type": "stream",
     "text": [
      "Epoch 320/2000, Loss: 0.0964\n",
      "Test Accuracy at Epoch 320: 75.00%\n",
      "Test F1-score at Epoch 320: 0.7595\n",
      "Classification Report at Epoch 320:\n",
      "                  precision    recall  f1-score   support\n",
      "\n",
      "    infringement       0.79      0.70      0.74       194\n",
      "non_infringement       0.72      0.81      0.76       186\n",
      "\n",
      "        accuracy                           0.75       380\n",
      "       macro avg       0.75      0.75      0.75       380\n",
      "    weighted avg       0.75      0.75      0.75       380\n",
      "\n"
     ]
    },
    {
     "name": "stderr",
     "output_type": "stream",
     "text": [
      "Training Epochs:  17%|█▋        | 331/2000 [00:09<00:47, 35.49it/s]"
     ]
    },
    {
     "name": "stdout",
     "output_type": "stream",
     "text": [
      "Epoch 330/2000, Loss: 0.0995\n",
      "Test Accuracy at Epoch 330: 76.32%\n",
      "Test F1-score at Epoch 330: 0.7619\n",
      "Classification Report at Epoch 330:\n",
      "                  precision    recall  f1-score   support\n",
      "\n",
      "    infringement       0.78      0.75      0.76       194\n",
      "non_infringement       0.75      0.77      0.76       186\n",
      "\n",
      "        accuracy                           0.76       380\n",
      "       macro avg       0.76      0.76      0.76       380\n",
      "    weighted avg       0.76      0.76      0.76       380\n",
      "\n"
     ]
    },
    {
     "name": "stderr",
     "output_type": "stream",
     "text": [
      "Training Epochs:  17%|█▋        | 346/2000 [00:10<00:40, 40.52it/s]"
     ]
    },
    {
     "name": "stdout",
     "output_type": "stream",
     "text": [
      "Epoch 340/2000, Loss: 0.1030\n",
      "Test Accuracy at Epoch 340: 73.16%\n",
      "Test F1-score at Epoch 340: 0.7475\n",
      "Classification Report at Epoch 340:\n",
      "                  precision    recall  f1-score   support\n",
      "\n",
      "    infringement       0.78      0.65      0.71       194\n",
      "non_infringement       0.69      0.81      0.75       186\n",
      "\n",
      "        accuracy                           0.73       380\n",
      "       macro avg       0.74      0.73      0.73       380\n",
      "    weighted avg       0.74      0.73      0.73       380\n",
      "\n"
     ]
    },
    {
     "name": "stderr",
     "output_type": "stream",
     "text": [
      "Training Epochs:  18%|█▊        | 357/2000 [00:10<00:43, 37.65it/s]"
     ]
    },
    {
     "name": "stdout",
     "output_type": "stream",
     "text": [
      "Epoch 350/2000, Loss: 0.0981\n",
      "Test Accuracy at Epoch 350: 73.16%\n",
      "Test F1-score at Epoch 350: 0.7475\n",
      "Classification Report at Epoch 350:\n",
      "                  precision    recall  f1-score   support\n",
      "\n",
      "    infringement       0.78      0.65      0.71       194\n",
      "non_infringement       0.69      0.81      0.75       186\n",
      "\n",
      "        accuracy                           0.73       380\n",
      "       macro avg       0.74      0.73      0.73       380\n",
      "    weighted avg       0.74      0.73      0.73       380\n",
      "\n"
     ]
    },
    {
     "name": "stderr",
     "output_type": "stream",
     "text": [
      "Training Epochs:  18%|█▊        | 368/2000 [00:10<00:39, 41.51it/s]"
     ]
    },
    {
     "name": "stdout",
     "output_type": "stream",
     "text": [
      "Epoch 360/2000, Loss: 0.0968\n",
      "Test Accuracy at Epoch 360: 76.05%\n",
      "Test F1-score at Epoch 360: 0.7684\n",
      "Classification Report at Epoch 360:\n",
      "                  precision    recall  f1-score   support\n",
      "\n",
      "    infringement       0.80      0.71      0.75       194\n",
      "non_infringement       0.73      0.81      0.77       186\n",
      "\n",
      "        accuracy                           0.76       380\n",
      "       macro avg       0.76      0.76      0.76       380\n",
      "    weighted avg       0.76      0.76      0.76       380\n",
      "\n"
     ]
    },
    {
     "name": "stderr",
     "output_type": "stream",
     "text": [
      "Training Epochs:  19%|█▊        | 373/2000 [00:10<00:37, 42.85it/s]"
     ]
    },
    {
     "name": "stdout",
     "output_type": "stream",
     "text": [
      "Epoch 370/2000, Loss: 0.0961\n",
      "Test Accuracy at Epoch 370: 75.00%\n",
      "Test F1-score at Epoch 370: 0.7595\n",
      "Classification Report at Epoch 370:\n",
      "                  precision    recall  f1-score   support\n",
      "\n",
      "    infringement       0.79      0.70      0.74       194\n",
      "non_infringement       0.72      0.81      0.76       186\n",
      "\n",
      "        accuracy                           0.75       380\n",
      "       macro avg       0.75      0.75      0.75       380\n",
      "    weighted avg       0.75      0.75      0.75       380\n",
      "\n"
     ]
    },
    {
     "name": "stderr",
     "output_type": "stream",
     "text": [
      "Training Epochs:  19%|█▉        | 384/2000 [00:11<00:41, 39.40it/s]"
     ]
    },
    {
     "name": "stdout",
     "output_type": "stream",
     "text": [
      "Epoch 380/2000, Loss: 0.0956\n",
      "Test Accuracy at Epoch 380: 75.79%\n",
      "Test F1-score at Epoch 380: 0.7653\n",
      "Classification Report at Epoch 380:\n",
      "                  precision    recall  f1-score   support\n",
      "\n",
      "    infringement       0.79      0.71      0.75       194\n",
      "non_infringement       0.73      0.81      0.77       186\n",
      "\n",
      "        accuracy                           0.76       380\n",
      "       macro avg       0.76      0.76      0.76       380\n",
      "    weighted avg       0.76      0.76      0.76       380\n",
      "\n"
     ]
    },
    {
     "name": "stderr",
     "output_type": "stream",
     "text": [
      "Training Epochs:  20%|█▉        | 395/2000 [00:11<00:43, 37.18it/s]"
     ]
    },
    {
     "name": "stdout",
     "output_type": "stream",
     "text": [
      "Epoch 390/2000, Loss: 0.0953\n",
      "Test Accuracy at Epoch 390: 75.53%\n",
      "Test F1-score at Epoch 390: 0.7634\n",
      "Classification Report at Epoch 390:\n",
      "                  precision    recall  f1-score   support\n",
      "\n",
      "    infringement       0.79      0.71      0.75       194\n",
      "non_infringement       0.72      0.81      0.76       186\n",
      "\n",
      "        accuracy                           0.76       380\n",
      "       macro avg       0.76      0.76      0.75       380\n",
      "    weighted avg       0.76      0.76      0.75       380\n",
      "\n"
     ]
    },
    {
     "name": "stderr",
     "output_type": "stream",
     "text": [
      "Training Epochs:  20%|██        | 406/2000 [00:11<00:37, 42.01it/s]"
     ]
    },
    {
     "name": "stdout",
     "output_type": "stream",
     "text": [
      "Epoch 400/2000, Loss: 0.0950\n",
      "Test Accuracy at Epoch 400: 75.53%\n",
      "Test F1-score at Epoch 400: 0.7634\n",
      "Classification Report at Epoch 400:\n",
      "                  precision    recall  f1-score   support\n",
      "\n",
      "    infringement       0.79      0.71      0.75       194\n",
      "non_infringement       0.72      0.81      0.76       186\n",
      "\n",
      "        accuracy                           0.76       380\n",
      "       macro avg       0.76      0.76      0.75       380\n",
      "    weighted avg       0.76      0.76      0.75       380\n",
      "\n"
     ]
    },
    {
     "name": "stderr",
     "output_type": "stream",
     "text": [
      "Training Epochs:  21%|██        | 416/2000 [00:11<00:40, 39.55it/s]"
     ]
    },
    {
     "name": "stdout",
     "output_type": "stream",
     "text": [
      "Epoch 410/2000, Loss: 0.0948\n",
      "Test Accuracy at Epoch 410: 75.00%\n",
      "Test F1-score at Epoch 410: 0.7595\n",
      "Classification Report at Epoch 410:\n",
      "                  precision    recall  f1-score   support\n",
      "\n",
      "    infringement       0.79      0.70      0.74       194\n",
      "non_infringement       0.72      0.81      0.76       186\n",
      "\n",
      "        accuracy                           0.75       380\n",
      "       macro avg       0.75      0.75      0.75       380\n",
      "    weighted avg       0.75      0.75      0.75       380\n",
      "\n"
     ]
    },
    {
     "name": "stderr",
     "output_type": "stream",
     "text": [
      "Training Epochs:  21%|██        | 421/2000 [00:12<00:39, 40.21it/s]"
     ]
    },
    {
     "name": "stdout",
     "output_type": "stream",
     "text": [
      "Epoch 420/2000, Loss: 0.0947\n",
      "Test Accuracy at Epoch 420: 75.00%\n",
      "Test F1-score at Epoch 420: 0.7595\n",
      "Classification Report at Epoch 420:\n",
      "                  precision    recall  f1-score   support\n",
      "\n",
      "    infringement       0.79      0.70      0.74       194\n",
      "non_infringement       0.72      0.81      0.76       186\n",
      "\n",
      "        accuracy                           0.75       380\n",
      "       macro avg       0.75      0.75      0.75       380\n",
      "    weighted avg       0.75      0.75      0.75       380\n",
      "\n"
     ]
    },
    {
     "name": "stderr",
     "output_type": "stream",
     "text": [
      "Training Epochs:  22%|██▏       | 435/2000 [00:12<00:40, 38.58it/s]"
     ]
    },
    {
     "name": "stdout",
     "output_type": "stream",
     "text": [
      "Epoch 430/2000, Loss: 0.0945\n",
      "Test Accuracy at Epoch 430: 75.00%\n",
      "Test F1-score at Epoch 430: 0.7595\n",
      "Classification Report at Epoch 430:\n",
      "                  precision    recall  f1-score   support\n",
      "\n",
      "    infringement       0.79      0.70      0.74       194\n",
      "non_infringement       0.72      0.81      0.76       186\n",
      "\n",
      "        accuracy                           0.75       380\n",
      "       macro avg       0.75      0.75      0.75       380\n",
      "    weighted avg       0.75      0.75      0.75       380\n",
      "\n"
     ]
    },
    {
     "name": "stderr",
     "output_type": "stream",
     "text": [
      "Training Epochs:  22%|██▏       | 448/2000 [00:12<00:39, 39.33it/s]"
     ]
    },
    {
     "name": "stdout",
     "output_type": "stream",
     "text": [
      "Epoch 440/2000, Loss: 0.0943\n",
      "Test Accuracy at Epoch 440: 75.26%\n",
      "Test F1-score at Epoch 440: 0.7614\n",
      "Classification Report at Epoch 440:\n",
      "                  precision    recall  f1-score   support\n",
      "\n",
      "    infringement       0.79      0.70      0.74       194\n",
      "non_infringement       0.72      0.81      0.76       186\n",
      "\n",
      "        accuracy                           0.75       380\n",
      "       macro avg       0.76      0.75      0.75       380\n",
      "    weighted avg       0.76      0.75      0.75       380\n",
      "\n"
     ]
    },
    {
     "name": "stderr",
     "output_type": "stream",
     "text": [
      "Training Epochs:  23%|██▎       | 453/2000 [00:12<00:39, 38.80it/s]"
     ]
    },
    {
     "name": "stdout",
     "output_type": "stream",
     "text": [
      "Epoch 450/2000, Loss: 0.0942\n",
      "Test Accuracy at Epoch 450: 75.53%\n",
      "Test F1-score at Epoch 450: 0.7634\n",
      "Classification Report at Epoch 450:\n",
      "                  precision    recall  f1-score   support\n",
      "\n",
      "    infringement       0.79      0.71      0.75       194\n",
      "non_infringement       0.72      0.81      0.76       186\n",
      "\n",
      "        accuracy                           0.76       380\n",
      "       macro avg       0.76      0.76      0.75       380\n",
      "    weighted avg       0.76      0.76      0.75       380\n",
      "\n"
     ]
    },
    {
     "name": "stderr",
     "output_type": "stream",
     "text": [
      "Training Epochs:  23%|██▎       | 466/2000 [00:13<00:38, 39.52it/s]"
     ]
    },
    {
     "name": "stdout",
     "output_type": "stream",
     "text": [
      "Epoch 460/2000, Loss: 0.0986\n",
      "Test Accuracy at Epoch 460: 73.16%\n",
      "Test F1-score at Epoch 460: 0.7475\n",
      "Classification Report at Epoch 460:\n",
      "                  precision    recall  f1-score   support\n",
      "\n",
      "    infringement       0.78      0.65      0.71       194\n",
      "non_infringement       0.69      0.81      0.75       186\n",
      "\n",
      "        accuracy                           0.73       380\n",
      "       macro avg       0.74      0.73      0.73       380\n",
      "    weighted avg       0.74      0.73      0.73       380\n",
      "\n"
     ]
    },
    {
     "name": "stderr",
     "output_type": "stream",
     "text": [
      "Training Epochs:  24%|██▍       | 476/2000 [00:13<00:39, 39.06it/s]"
     ]
    },
    {
     "name": "stdout",
     "output_type": "stream",
     "text": [
      "Epoch 470/2000, Loss: 0.0979\n",
      "Test Accuracy at Epoch 470: 73.68%\n",
      "Test F1-score at Epoch 470: 0.7537\n",
      "Classification Report at Epoch 470:\n",
      "                  precision    recall  f1-score   support\n",
      "\n",
      "    infringement       0.79      0.65      0.72       194\n",
      "non_infringement       0.70      0.82      0.75       186\n",
      "\n",
      "        accuracy                           0.74       380\n",
      "       macro avg       0.74      0.74      0.74       380\n",
      "    weighted avg       0.75      0.74      0.74       380\n",
      "\n"
     ]
    },
    {
     "name": "stderr",
     "output_type": "stream",
     "text": [
      "Training Epochs:  24%|██▍       | 485/2000 [00:13<00:42, 35.51it/s]"
     ]
    },
    {
     "name": "stdout",
     "output_type": "stream",
     "text": [
      "Epoch 480/2000, Loss: 0.0996\n",
      "Test Accuracy at Epoch 480: 74.74%\n",
      "Test F1-score at Epoch 480: 0.7538\n",
      "Classification Report at Epoch 480:\n",
      "                  precision    recall  f1-score   support\n",
      "\n",
      "    infringement       0.78      0.71      0.74       194\n",
      "non_infringement       0.72      0.79      0.75       186\n",
      "\n",
      "        accuracy                           0.75       380\n",
      "       macro avg       0.75      0.75      0.75       380\n",
      "    weighted avg       0.75      0.75      0.75       380\n",
      "\n"
     ]
    },
    {
     "name": "stderr",
     "output_type": "stream",
     "text": [
      "Training Epochs:  25%|██▍       | 495/2000 [00:14<00:37, 40.62it/s]"
     ]
    },
    {
     "name": "stdout",
     "output_type": "stream",
     "text": [
      "Epoch 490/2000, Loss: 0.1018\n",
      "Test Accuracy at Epoch 490: 75.26%\n",
      "Test F1-score at Epoch 490: 0.7626\n",
      "Classification Report at Epoch 490:\n",
      "                  precision    recall  f1-score   support\n",
      "\n",
      "    infringement       0.79      0.70      0.74       194\n",
      "non_infringement       0.72      0.81      0.76       186\n",
      "\n",
      "        accuracy                           0.75       380\n",
      "       macro avg       0.76      0.75      0.75       380\n",
      "    weighted avg       0.76      0.75      0.75       380\n",
      "\n"
     ]
    },
    {
     "name": "stderr",
     "output_type": "stream",
     "text": [
      "Training Epochs:  25%|██▌       | 505/2000 [00:14<00:38, 38.50it/s]"
     ]
    },
    {
     "name": "stdout",
     "output_type": "stream",
     "text": [
      "Epoch 500/2000, Loss: 0.0957\n",
      "Test Accuracy at Epoch 500: 76.05%\n",
      "Test F1-score at Epoch 500: 0.7708\n",
      "Classification Report at Epoch 500:\n",
      "                  precision    recall  f1-score   support\n",
      "\n",
      "    infringement       0.80      0.70      0.75       194\n",
      "non_infringement       0.73      0.82      0.77       186\n",
      "\n",
      "        accuracy                           0.76       380\n",
      "       macro avg       0.76      0.76      0.76       380\n",
      "    weighted avg       0.77      0.76      0.76       380\n",
      "\n"
     ]
    },
    {
     "name": "stderr",
     "output_type": "stream",
     "text": [
      "Training Epochs:  26%|██▌       | 515/2000 [00:14<00:39, 37.56it/s]"
     ]
    },
    {
     "name": "stdout",
     "output_type": "stream",
     "text": [
      "Epoch 510/2000, Loss: 0.0958\n",
      "Test Accuracy at Epoch 510: 75.26%\n",
      "Test F1-score at Epoch 510: 0.7614\n",
      "Classification Report at Epoch 510:\n",
      "                  precision    recall  f1-score   support\n",
      "\n",
      "    infringement       0.79      0.70      0.74       194\n",
      "non_infringement       0.72      0.81      0.76       186\n",
      "\n",
      "        accuracy                           0.75       380\n",
      "       macro avg       0.76      0.75      0.75       380\n",
      "    weighted avg       0.76      0.75      0.75       380\n",
      "\n"
     ]
    },
    {
     "name": "stderr",
     "output_type": "stream",
     "text": [
      "Training Epochs:  26%|██▋       | 526/2000 [00:14<00:35, 41.62it/s]"
     ]
    },
    {
     "name": "stdout",
     "output_type": "stream",
     "text": [
      "Epoch 520/2000, Loss: 0.0947\n",
      "Test Accuracy at Epoch 520: 75.79%\n",
      "Test F1-score at Epoch 520: 0.7653\n",
      "Classification Report at Epoch 520:\n",
      "                  precision    recall  f1-score   support\n",
      "\n",
      "    infringement       0.79      0.71      0.75       194\n",
      "non_infringement       0.73      0.81      0.77       186\n",
      "\n",
      "        accuracy                           0.76       380\n",
      "       macro avg       0.76      0.76      0.76       380\n",
      "    weighted avg       0.76      0.76      0.76       380\n",
      "\n"
     ]
    },
    {
     "name": "stderr",
     "output_type": "stream",
     "text": [
      "Training Epochs:  27%|██▋       | 536/2000 [00:15<00:36, 40.02it/s]"
     ]
    },
    {
     "name": "stdout",
     "output_type": "stream",
     "text": [
      "Epoch 530/2000, Loss: 0.0942\n",
      "Test Accuracy at Epoch 530: 75.79%\n",
      "Test F1-score at Epoch 530: 0.7653\n",
      "Classification Report at Epoch 530:\n",
      "                  precision    recall  f1-score   support\n",
      "\n",
      "    infringement       0.79      0.71      0.75       194\n",
      "non_infringement       0.73      0.81      0.77       186\n",
      "\n",
      "        accuracy                           0.76       380\n",
      "       macro avg       0.76      0.76      0.76       380\n",
      "    weighted avg       0.76      0.76      0.76       380\n",
      "\n"
     ]
    },
    {
     "name": "stderr",
     "output_type": "stream",
     "text": [
      "Training Epochs:  27%|██▋       | 546/2000 [00:15<00:35, 41.45it/s]"
     ]
    },
    {
     "name": "stdout",
     "output_type": "stream",
     "text": [
      "Epoch 540/2000, Loss: 0.0939\n",
      "Test Accuracy at Epoch 540: 75.79%\n",
      "Test F1-score at Epoch 540: 0.7653\n",
      "Classification Report at Epoch 540:\n",
      "                  precision    recall  f1-score   support\n",
      "\n",
      "    infringement       0.79      0.71      0.75       194\n",
      "non_infringement       0.73      0.81      0.77       186\n",
      "\n",
      "        accuracy                           0.76       380\n",
      "       macro avg       0.76      0.76      0.76       380\n",
      "    weighted avg       0.76      0.76      0.76       380\n",
      "\n"
     ]
    },
    {
     "name": "stderr",
     "output_type": "stream",
     "text": [
      "Training Epochs:  28%|██▊       | 556/2000 [00:15<00:38, 37.63it/s]"
     ]
    },
    {
     "name": "stdout",
     "output_type": "stream",
     "text": [
      "Epoch 550/2000, Loss: 0.0938\n",
      "Test Accuracy at Epoch 550: 75.53%\n",
      "Test F1-score at Epoch 550: 0.7634\n",
      "Classification Report at Epoch 550:\n",
      "                  precision    recall  f1-score   support\n",
      "\n",
      "    infringement       0.79      0.71      0.75       194\n",
      "non_infringement       0.72      0.81      0.76       186\n",
      "\n",
      "        accuracy                           0.76       380\n",
      "       macro avg       0.76      0.76      0.75       380\n",
      "    weighted avg       0.76      0.76      0.75       380\n",
      "\n"
     ]
    },
    {
     "name": "stderr",
     "output_type": "stream",
     "text": [
      "Training Epochs:  28%|██▊       | 566/2000 [00:15<00:36, 38.97it/s]"
     ]
    },
    {
     "name": "stdout",
     "output_type": "stream",
     "text": [
      "Epoch 560/2000, Loss: 0.0937\n",
      "Test Accuracy at Epoch 560: 76.32%\n",
      "Test F1-score at Epoch 560: 0.7692\n",
      "Classification Report at Epoch 560:\n",
      "                  precision    recall  f1-score   support\n",
      "\n",
      "    infringement       0.80      0.72      0.76       194\n",
      "non_infringement       0.74      0.81      0.77       186\n",
      "\n",
      "        accuracy                           0.76       380\n",
      "       macro avg       0.77      0.76      0.76       380\n",
      "    weighted avg       0.77      0.76      0.76       380\n",
      "\n"
     ]
    },
    {
     "name": "stderr",
     "output_type": "stream",
     "text": [
      "Training Epochs:  29%|██▉       | 576/2000 [00:16<00:33, 42.28it/s]"
     ]
    },
    {
     "name": "stdout",
     "output_type": "stream",
     "text": [
      "Epoch 570/2000, Loss: 0.0936\n",
      "Test Accuracy at Epoch 570: 76.32%\n",
      "Test F1-score at Epoch 570: 0.7692\n",
      "Classification Report at Epoch 570:\n",
      "                  precision    recall  f1-score   support\n",
      "\n",
      "    infringement       0.80      0.72      0.76       194\n",
      "non_infringement       0.74      0.81      0.77       186\n",
      "\n",
      "        accuracy                           0.76       380\n",
      "       macro avg       0.77      0.76      0.76       380\n",
      "    weighted avg       0.77      0.76      0.76       380\n",
      "\n"
     ]
    },
    {
     "name": "stderr",
     "output_type": "stream",
     "text": [
      "Training Epochs:  29%|██▉       | 586/2000 [00:16<00:38, 36.88it/s]"
     ]
    },
    {
     "name": "stdout",
     "output_type": "stream",
     "text": [
      "Epoch 580/2000, Loss: 0.0935\n",
      "Test Accuracy at Epoch 580: 75.79%\n",
      "Test F1-score at Epoch 580: 0.7653\n",
      "Classification Report at Epoch 580:\n",
      "                  precision    recall  f1-score   support\n",
      "\n",
      "    infringement       0.79      0.71      0.75       194\n",
      "non_infringement       0.73      0.81      0.77       186\n",
      "\n",
      "        accuracy                           0.76       380\n",
      "       macro avg       0.76      0.76      0.76       380\n",
      "    weighted avg       0.76      0.76      0.76       380\n",
      "\n"
     ]
    },
    {
     "name": "stderr",
     "output_type": "stream",
     "text": [
      "Training Epochs:  30%|██▉       | 596/2000 [00:16<00:36, 38.06it/s]"
     ]
    },
    {
     "name": "stdout",
     "output_type": "stream",
     "text": [
      "Epoch 590/2000, Loss: 0.0935\n",
      "Test Accuracy at Epoch 590: 75.53%\n",
      "Test F1-score at Epoch 590: 0.7634\n",
      "Classification Report at Epoch 590:\n",
      "                  precision    recall  f1-score   support\n",
      "\n",
      "    infringement       0.79      0.71      0.75       194\n",
      "non_infringement       0.72      0.81      0.76       186\n",
      "\n",
      "        accuracy                           0.76       380\n",
      "       macro avg       0.76      0.76      0.75       380\n",
      "    weighted avg       0.76      0.76      0.75       380\n",
      "\n"
     ]
    },
    {
     "name": "stderr",
     "output_type": "stream",
     "text": [
      "Training Epochs:  30%|███       | 606/2000 [00:16<00:33, 42.19it/s]"
     ]
    },
    {
     "name": "stdout",
     "output_type": "stream",
     "text": [
      "Epoch 600/2000, Loss: 0.0934\n",
      "Test Accuracy at Epoch 600: 75.79%\n",
      "Test F1-score at Epoch 600: 0.7653\n",
      "Classification Report at Epoch 600:\n",
      "                  precision    recall  f1-score   support\n",
      "\n",
      "    infringement       0.79      0.71      0.75       194\n",
      "non_infringement       0.73      0.81      0.77       186\n",
      "\n",
      "        accuracy                           0.76       380\n",
      "       macro avg       0.76      0.76      0.76       380\n",
      "    weighted avg       0.76      0.76      0.76       380\n",
      "\n"
     ]
    },
    {
     "name": "stderr",
     "output_type": "stream",
     "text": [
      "Training Epochs:  31%|███       | 617/2000 [00:17<00:33, 41.74it/s]"
     ]
    },
    {
     "name": "stdout",
     "output_type": "stream",
     "text": [
      "Epoch 610/2000, Loss: 0.0934\n",
      "Test Accuracy at Epoch 610: 75.79%\n",
      "Test F1-score at Epoch 610: 0.7653\n",
      "Classification Report at Epoch 610:\n",
      "                  precision    recall  f1-score   support\n",
      "\n",
      "    infringement       0.79      0.71      0.75       194\n",
      "non_infringement       0.73      0.81      0.77       186\n",
      "\n",
      "        accuracy                           0.76       380\n",
      "       macro avg       0.76      0.76      0.76       380\n",
      "    weighted avg       0.76      0.76      0.76       380\n",
      "\n"
     ]
    },
    {
     "name": "stderr",
     "output_type": "stream",
     "text": [
      "Training Epochs:  31%|███       | 622/2000 [00:17<00:32, 42.22it/s]"
     ]
    },
    {
     "name": "stdout",
     "output_type": "stream",
     "text": [
      "Epoch 620/2000, Loss: 0.0933\n",
      "Test Accuracy at Epoch 620: 75.79%\n",
      "Test F1-score at Epoch 620: 0.7653\n",
      "Classification Report at Epoch 620:\n",
      "                  precision    recall  f1-score   support\n",
      "\n",
      "    infringement       0.79      0.71      0.75       194\n",
      "non_infringement       0.73      0.81      0.77       186\n",
      "\n",
      "        accuracy                           0.76       380\n",
      "       macro avg       0.76      0.76      0.76       380\n",
      "    weighted avg       0.76      0.76      0.76       380\n",
      "\n"
     ]
    },
    {
     "name": "stderr",
     "output_type": "stream",
     "text": [
      "Training Epochs:  32%|███▏      | 638/2000 [00:17<00:31, 43.43it/s]"
     ]
    },
    {
     "name": "stdout",
     "output_type": "stream",
     "text": [
      "Epoch 630/2000, Loss: 0.0933\n",
      "Test Accuracy at Epoch 630: 75.79%\n",
      "Test F1-score at Epoch 630: 0.7653\n",
      "Classification Report at Epoch 630:\n",
      "                  precision    recall  f1-score   support\n",
      "\n",
      "    infringement       0.79      0.71      0.75       194\n",
      "non_infringement       0.73      0.81      0.77       186\n",
      "\n",
      "        accuracy                           0.76       380\n",
      "       macro avg       0.76      0.76      0.76       380\n",
      "    weighted avg       0.76      0.76      0.76       380\n",
      "\n"
     ]
    },
    {
     "name": "stderr",
     "output_type": "stream",
     "text": [
      "Training Epochs:  32%|███▏      | 648/2000 [00:17<00:32, 41.85it/s]"
     ]
    },
    {
     "name": "stdout",
     "output_type": "stream",
     "text": [
      "Epoch 640/2000, Loss: 0.0932\n",
      "Test Accuracy at Epoch 640: 75.79%\n",
      "Test F1-score at Epoch 640: 0.7653\n",
      "Classification Report at Epoch 640:\n",
      "                  precision    recall  f1-score   support\n",
      "\n",
      "    infringement       0.79      0.71      0.75       194\n",
      "non_infringement       0.73      0.81      0.77       186\n",
      "\n",
      "        accuracy                           0.76       380\n",
      "       macro avg       0.76      0.76      0.76       380\n",
      "    weighted avg       0.76      0.76      0.76       380\n",
      "\n"
     ]
    },
    {
     "name": "stderr",
     "output_type": "stream",
     "text": [
      "Training Epochs:  33%|███▎      | 653/2000 [00:18<00:31, 42.89it/s]"
     ]
    },
    {
     "name": "stdout",
     "output_type": "stream",
     "text": [
      "Epoch 650/2000, Loss: 0.0932\n",
      "Test Accuracy at Epoch 650: 76.32%\n",
      "Test F1-score at Epoch 650: 0.7716\n",
      "Classification Report at Epoch 650:\n",
      "                  precision    recall  f1-score   support\n",
      "\n",
      "    infringement       0.80      0.71      0.75       194\n",
      "non_infringement       0.73      0.82      0.77       186\n",
      "\n",
      "        accuracy                           0.76       380\n",
      "       macro avg       0.77      0.76      0.76       380\n",
      "    weighted avg       0.77      0.76      0.76       380\n",
      "\n"
     ]
    },
    {
     "name": "stderr",
     "output_type": "stream",
     "text": [
      "Training Epochs:  33%|███▎      | 669/2000 [00:18<00:30, 43.93it/s]"
     ]
    },
    {
     "name": "stdout",
     "output_type": "stream",
     "text": [
      "Epoch 660/2000, Loss: 0.0932\n",
      "Test Accuracy at Epoch 660: 76.32%\n",
      "Test F1-score at Epoch 660: 0.7716\n",
      "Classification Report at Epoch 660:\n",
      "                  precision    recall  f1-score   support\n",
      "\n",
      "    infringement       0.80      0.71      0.75       194\n",
      "non_infringement       0.73      0.82      0.77       186\n",
      "\n",
      "        accuracy                           0.76       380\n",
      "       macro avg       0.77      0.76      0.76       380\n",
      "    weighted avg       0.77      0.76      0.76       380\n",
      "\n"
     ]
    },
    {
     "name": "stderr",
     "output_type": "stream",
     "text": [
      "Training Epochs:  34%|███▎      | 674/2000 [00:18<00:33, 39.02it/s]"
     ]
    },
    {
     "name": "stdout",
     "output_type": "stream",
     "text": [
      "Epoch 670/2000, Loss: 0.0933\n",
      "Test Accuracy at Epoch 670: 75.79%\n",
      "Test F1-score at Epoch 670: 0.7629\n",
      "Classification Report at Epoch 670:\n",
      "                  precision    recall  f1-score   support\n",
      "\n",
      "    infringement       0.79      0.72      0.75       194\n",
      "non_infringement       0.73      0.80      0.76       186\n",
      "\n",
      "        accuracy                           0.76       380\n",
      "       macro avg       0.76      0.76      0.76       380\n",
      "    weighted avg       0.76      0.76      0.76       380\n",
      "\n"
     ]
    },
    {
     "name": "stderr",
     "output_type": "stream",
     "text": [
      "Training Epochs:  34%|███▍      | 686/2000 [00:18<00:29, 43.90it/s]"
     ]
    },
    {
     "name": "stdout",
     "output_type": "stream",
     "text": [
      "Epoch 680/2000, Loss: 0.1026\n",
      "Test Accuracy at Epoch 680: 72.63%\n",
      "Test F1-score at Epoch 680: 0.7512\n",
      "Classification Report at Epoch 680:\n",
      "                  precision    recall  f1-score   support\n",
      "\n",
      "    infringement       0.80      0.61      0.70       194\n",
      "non_infringement       0.68      0.84      0.75       186\n",
      "\n",
      "        accuracy                           0.73       380\n",
      "       macro avg       0.74      0.73      0.72       380\n",
      "    weighted avg       0.74      0.73      0.72       380\n",
      "\n"
     ]
    },
    {
     "name": "stderr",
     "output_type": "stream",
     "text": [
      "Training Epochs:  35%|███▍      | 696/2000 [00:19<00:31, 41.92it/s]"
     ]
    },
    {
     "name": "stdout",
     "output_type": "stream",
     "text": [
      "Epoch 690/2000, Loss: 0.1044\n",
      "Test Accuracy at Epoch 690: 73.68%\n",
      "Test F1-score at Epoch 690: 0.7487\n",
      "Classification Report at Epoch 690:\n",
      "                  precision    recall  f1-score   support\n",
      "\n",
      "    infringement       0.78      0.68      0.72       194\n",
      "non_infringement       0.70      0.80      0.75       186\n",
      "\n",
      "        accuracy                           0.74       380\n",
      "       macro avg       0.74      0.74      0.74       380\n",
      "    weighted avg       0.74      0.74      0.74       380\n",
      "\n"
     ]
    },
    {
     "name": "stderr",
     "output_type": "stream",
     "text": [
      "Training Epochs:  35%|███▌      | 706/2000 [00:19<00:33, 38.67it/s]"
     ]
    },
    {
     "name": "stdout",
     "output_type": "stream",
     "text": [
      "Epoch 700/2000, Loss: 0.0974\n",
      "Test Accuracy at Epoch 700: 76.84%\n",
      "Test F1-score at Epoch 700: 0.7766\n",
      "Classification Report at Epoch 700:\n",
      "                  precision    recall  f1-score   support\n",
      "\n",
      "    infringement       0.81      0.72      0.76       194\n",
      "non_infringement       0.74      0.82      0.78       186\n",
      "\n",
      "        accuracy                           0.77       380\n",
      "       macro avg       0.77      0.77      0.77       380\n",
      "    weighted avg       0.77      0.77      0.77       380\n",
      "\n"
     ]
    },
    {
     "name": "stderr",
     "output_type": "stream",
     "text": [
      "Training Epochs:  36%|███▌      | 716/2000 [00:19<00:30, 42.03it/s]"
     ]
    },
    {
     "name": "stdout",
     "output_type": "stream",
     "text": [
      "Epoch 710/2000, Loss: 0.0947\n",
      "Test Accuracy at Epoch 710: 76.05%\n",
      "Test F1-score at Epoch 710: 0.7696\n",
      "Classification Report at Epoch 710:\n",
      "                  precision    recall  f1-score   support\n",
      "\n",
      "    infringement       0.80      0.71      0.75       194\n",
      "non_infringement       0.73      0.82      0.77       186\n",
      "\n",
      "        accuracy                           0.76       380\n",
      "       macro avg       0.76      0.76      0.76       380\n",
      "    weighted avg       0.76      0.76      0.76       380\n",
      "\n"
     ]
    },
    {
     "name": "stderr",
     "output_type": "stream",
     "text": [
      "Training Epochs:  36%|███▌      | 721/2000 [00:19<00:34, 37.49it/s]"
     ]
    },
    {
     "name": "stdout",
     "output_type": "stream",
     "text": [
      "Epoch 720/2000, Loss: 0.0938\n",
      "Test Accuracy at Epoch 720: 76.32%\n",
      "Test F1-score at Epoch 720: 0.7716\n",
      "Classification Report at Epoch 720:\n",
      "                  precision    recall  f1-score   support\n",
      "\n",
      "    infringement       0.80      0.71      0.75       194\n",
      "non_infringement       0.73      0.82      0.77       186\n",
      "\n",
      "        accuracy                           0.76       380\n",
      "       macro avg       0.77      0.76      0.76       380\n",
      "    weighted avg       0.77      0.76      0.76       380\n",
      "\n"
     ]
    },
    {
     "name": "stderr",
     "output_type": "stream",
     "text": [
      "Training Epochs:  37%|███▋      | 736/2000 [00:20<00:29, 42.60it/s]"
     ]
    },
    {
     "name": "stdout",
     "output_type": "stream",
     "text": [
      "Epoch 730/2000, Loss: 0.0935\n",
      "Test Accuracy at Epoch 730: 76.58%\n",
      "Test F1-score at Epoch 730: 0.7735\n",
      "Classification Report at Epoch 730:\n",
      "                  precision    recall  f1-score   support\n",
      "\n",
      "    infringement       0.80      0.72      0.76       194\n",
      "non_infringement       0.73      0.82      0.77       186\n",
      "\n",
      "        accuracy                           0.77       380\n",
      "       macro avg       0.77      0.77      0.77       380\n",
      "    weighted avg       0.77      0.77      0.77       380\n",
      "\n"
     ]
    },
    {
     "name": "stderr",
     "output_type": "stream",
     "text": [
      "Training Epochs:  37%|███▋      | 746/2000 [00:20<00:30, 40.85it/s]"
     ]
    },
    {
     "name": "stdout",
     "output_type": "stream",
     "text": [
      "Epoch 740/2000, Loss: 0.0934\n",
      "Test Accuracy at Epoch 740: 76.84%\n",
      "Test F1-score at Epoch 740: 0.7755\n",
      "Classification Report at Epoch 740:\n",
      "                  precision    recall  f1-score   support\n",
      "\n",
      "    infringement       0.80      0.72      0.76       194\n",
      "non_infringement       0.74      0.82      0.78       186\n",
      "\n",
      "        accuracy                           0.77       380\n",
      "       macro avg       0.77      0.77      0.77       380\n",
      "    weighted avg       0.77      0.77      0.77       380\n",
      "\n"
     ]
    },
    {
     "name": "stderr",
     "output_type": "stream",
     "text": [
      "Training Epochs:  38%|███▊      | 756/2000 [00:20<00:32, 37.84it/s]"
     ]
    },
    {
     "name": "stdout",
     "output_type": "stream",
     "text": [
      "Epoch 750/2000, Loss: 0.0933\n",
      "Test Accuracy at Epoch 750: 76.84%\n",
      "Test F1-score at Epoch 750: 0.7755\n",
      "Classification Report at Epoch 750:\n",
      "                  precision    recall  f1-score   support\n",
      "\n",
      "    infringement       0.80      0.72      0.76       194\n",
      "non_infringement       0.74      0.82      0.78       186\n",
      "\n",
      "        accuracy                           0.77       380\n",
      "       macro avg       0.77      0.77      0.77       380\n",
      "    weighted avg       0.77      0.77      0.77       380\n",
      "\n"
     ]
    },
    {
     "name": "stderr",
     "output_type": "stream",
     "text": [
      "Training Epochs:  38%|███▊      | 766/2000 [00:20<00:29, 41.90it/s]"
     ]
    },
    {
     "name": "stdout",
     "output_type": "stream",
     "text": [
      "Epoch 760/2000, Loss: 0.0932\n",
      "Test Accuracy at Epoch 760: 76.84%\n",
      "Test F1-score at Epoch 760: 0.7755\n",
      "Classification Report at Epoch 760:\n",
      "                  precision    recall  f1-score   support\n",
      "\n",
      "    infringement       0.80      0.72      0.76       194\n",
      "non_infringement       0.74      0.82      0.78       186\n",
      "\n",
      "        accuracy                           0.77       380\n",
      "       macro avg       0.77      0.77      0.77       380\n",
      "    weighted avg       0.77      0.77      0.77       380\n",
      "\n"
     ]
    },
    {
     "name": "stderr",
     "output_type": "stream",
     "text": [
      "Training Epochs:  39%|███▉      | 776/2000 [00:21<00:31, 39.42it/s]"
     ]
    },
    {
     "name": "stdout",
     "output_type": "stream",
     "text": [
      "Epoch 770/2000, Loss: 0.0931\n",
      "Test Accuracy at Epoch 770: 76.32%\n",
      "Test F1-score at Epoch 770: 0.7692\n",
      "Classification Report at Epoch 770:\n",
      "                  precision    recall  f1-score   support\n",
      "\n",
      "    infringement       0.80      0.72      0.76       194\n",
      "non_infringement       0.74      0.81      0.77       186\n",
      "\n",
      "        accuracy                           0.76       380\n",
      "       macro avg       0.77      0.76      0.76       380\n",
      "    weighted avg       0.77      0.76      0.76       380\n",
      "\n"
     ]
    },
    {
     "name": "stderr",
     "output_type": "stream",
     "text": [
      "Training Epochs:  39%|███▉      | 786/2000 [00:21<00:31, 38.44it/s]"
     ]
    },
    {
     "name": "stdout",
     "output_type": "stream",
     "text": [
      "Epoch 780/2000, Loss: 0.0931\n",
      "Test Accuracy at Epoch 780: 76.32%\n",
      "Test F1-score at Epoch 780: 0.7692\n",
      "Classification Report at Epoch 780:\n",
      "                  precision    recall  f1-score   support\n",
      "\n",
      "    infringement       0.80      0.72      0.76       194\n",
      "non_infringement       0.74      0.81      0.77       186\n",
      "\n",
      "        accuracy                           0.76       380\n",
      "       macro avg       0.77      0.76      0.76       380\n",
      "    weighted avg       0.77      0.76      0.76       380\n",
      "\n"
     ]
    },
    {
     "name": "stderr",
     "output_type": "stream",
     "text": [
      "Training Epochs:  40%|███▉      | 796/2000 [00:21<00:29, 41.13it/s]"
     ]
    },
    {
     "name": "stdout",
     "output_type": "stream",
     "text": [
      "Epoch 790/2000, Loss: 0.0931\n",
      "Test Accuracy at Epoch 790: 75.53%\n",
      "Test F1-score at Epoch 790: 0.7634\n",
      "Classification Report at Epoch 790:\n",
      "                  precision    recall  f1-score   support\n",
      "\n",
      "    infringement       0.79      0.71      0.75       194\n",
      "non_infringement       0.72      0.81      0.76       186\n",
      "\n",
      "        accuracy                           0.76       380\n",
      "       macro avg       0.76      0.76      0.75       380\n",
      "    weighted avg       0.76      0.76      0.75       380\n",
      "\n"
     ]
    },
    {
     "name": "stderr",
     "output_type": "stream",
     "text": [
      "Training Epochs:  40%|████      | 806/2000 [00:21<00:30, 39.46it/s]"
     ]
    },
    {
     "name": "stdout",
     "output_type": "stream",
     "text": [
      "Epoch 800/2000, Loss: 0.0930\n",
      "Test Accuracy at Epoch 800: 75.79%\n",
      "Test F1-score at Epoch 800: 0.7653\n",
      "Classification Report at Epoch 800:\n",
      "                  precision    recall  f1-score   support\n",
      "\n",
      "    infringement       0.79      0.71      0.75       194\n",
      "non_infringement       0.73      0.81      0.77       186\n",
      "\n",
      "        accuracy                           0.76       380\n",
      "       macro avg       0.76      0.76      0.76       380\n",
      "    weighted avg       0.76      0.76      0.76       380\n",
      "\n"
     ]
    },
    {
     "name": "stderr",
     "output_type": "stream",
     "text": [
      "Training Epochs:  41%|████      | 811/2000 [00:22<00:30, 39.33it/s]"
     ]
    },
    {
     "name": "stdout",
     "output_type": "stream",
     "text": [
      "Epoch 810/2000, Loss: 0.0930\n",
      "Test Accuracy at Epoch 810: 76.32%\n",
      "Test F1-score at Epoch 810: 0.7692\n",
      "Classification Report at Epoch 810:\n",
      "                  precision    recall  f1-score   support\n",
      "\n",
      "    infringement       0.80      0.72      0.76       194\n",
      "non_infringement       0.74      0.81      0.77       186\n",
      "\n",
      "        accuracy                           0.76       380\n",
      "       macro avg       0.77      0.76      0.76       380\n",
      "    weighted avg       0.77      0.76      0.76       380\n",
      "\n"
     ]
    },
    {
     "name": "stderr",
     "output_type": "stream",
     "text": [
      "Training Epochs:  41%|████▏     | 825/2000 [00:22<00:30, 39.15it/s]"
     ]
    },
    {
     "name": "stdout",
     "output_type": "stream",
     "text": [
      "Epoch 820/2000, Loss: 0.0930\n",
      "Test Accuracy at Epoch 820: 76.32%\n",
      "Test F1-score at Epoch 820: 0.7692\n",
      "Classification Report at Epoch 820:\n",
      "                  precision    recall  f1-score   support\n",
      "\n",
      "    infringement       0.80      0.72      0.76       194\n",
      "non_infringement       0.74      0.81      0.77       186\n",
      "\n",
      "        accuracy                           0.76       380\n",
      "       macro avg       0.77      0.76      0.76       380\n",
      "    weighted avg       0.77      0.76      0.76       380\n",
      "\n"
     ]
    },
    {
     "name": "stderr",
     "output_type": "stream",
     "text": [
      "Training Epochs:  42%|████▏     | 835/2000 [00:22<00:30, 38.60it/s]"
     ]
    },
    {
     "name": "stdout",
     "output_type": "stream",
     "text": [
      "Epoch 830/2000, Loss: 0.0930\n",
      "Test Accuracy at Epoch 830: 75.79%\n",
      "Test F1-score at Epoch 830: 0.7653\n",
      "Classification Report at Epoch 830:\n",
      "                  precision    recall  f1-score   support\n",
      "\n",
      "    infringement       0.79      0.71      0.75       194\n",
      "non_infringement       0.73      0.81      0.77       186\n",
      "\n",
      "        accuracy                           0.76       380\n",
      "       macro avg       0.76      0.76      0.76       380\n",
      "    weighted avg       0.76      0.76      0.76       380\n",
      "\n"
     ]
    },
    {
     "name": "stderr",
     "output_type": "stream",
     "text": [
      "Training Epochs:  42%|████▏     | 843/2000 [00:22<00:36, 31.61it/s]"
     ]
    },
    {
     "name": "stdout",
     "output_type": "stream",
     "text": [
      "Epoch 840/2000, Loss: 0.0929\n",
      "Test Accuracy at Epoch 840: 76.32%\n",
      "Test F1-score at Epoch 840: 0.7692\n",
      "Classification Report at Epoch 840:\n",
      "                  precision    recall  f1-score   support\n",
      "\n",
      "    infringement       0.80      0.72      0.76       194\n",
      "non_infringement       0.74      0.81      0.77       186\n",
      "\n",
      "        accuracy                           0.76       380\n",
      "       macro avg       0.77      0.76      0.76       380\n",
      "    weighted avg       0.77      0.76      0.76       380\n",
      "\n"
     ]
    },
    {
     "name": "stderr",
     "output_type": "stream",
     "text": [
      "Training Epochs:  43%|████▎     | 853/2000 [00:23<00:30, 37.39it/s]"
     ]
    },
    {
     "name": "stdout",
     "output_type": "stream",
     "text": [
      "Epoch 850/2000, Loss: 0.0929\n",
      "Test Accuracy at Epoch 850: 76.32%\n",
      "Test F1-score at Epoch 850: 0.7692\n",
      "Classification Report at Epoch 850:\n",
      "                  precision    recall  f1-score   support\n",
      "\n",
      "    infringement       0.80      0.72      0.76       194\n",
      "non_infringement       0.74      0.81      0.77       186\n",
      "\n",
      "        accuracy                           0.76       380\n",
      "       macro avg       0.77      0.76      0.76       380\n",
      "    weighted avg       0.77      0.76      0.76       380\n",
      "\n"
     ]
    },
    {
     "name": "stderr",
     "output_type": "stream",
     "text": [
      "Training Epochs:  43%|████▎     | 864/2000 [00:23<00:29, 38.62it/s]"
     ]
    },
    {
     "name": "stdout",
     "output_type": "stream",
     "text": [
      "Epoch 860/2000, Loss: 0.0929\n",
      "Test Accuracy at Epoch 860: 75.79%\n",
      "Test F1-score at Epoch 860: 0.7653\n",
      "Classification Report at Epoch 860:\n",
      "                  precision    recall  f1-score   support\n",
      "\n",
      "    infringement       0.79      0.71      0.75       194\n",
      "non_infringement       0.73      0.81      0.77       186\n",
      "\n",
      "        accuracy                           0.76       380\n",
      "       macro avg       0.76      0.76      0.76       380\n",
      "    weighted avg       0.76      0.76      0.76       380\n",
      "\n"
     ]
    },
    {
     "name": "stderr",
     "output_type": "stream",
     "text": [
      "Training Epochs:  44%|████▍     | 875/2000 [00:23<00:29, 37.61it/s]"
     ]
    },
    {
     "name": "stdout",
     "output_type": "stream",
     "text": [
      "Epoch 870/2000, Loss: 0.0929\n",
      "Test Accuracy at Epoch 870: 76.32%\n",
      "Test F1-score at Epoch 870: 0.7692\n",
      "Classification Report at Epoch 870:\n",
      "                  precision    recall  f1-score   support\n",
      "\n",
      "    infringement       0.80      0.72      0.76       194\n",
      "non_infringement       0.74      0.81      0.77       186\n",
      "\n",
      "        accuracy                           0.76       380\n",
      "       macro avg       0.77      0.76      0.76       380\n",
      "    weighted avg       0.77      0.76      0.76       380\n",
      "\n"
     ]
    },
    {
     "name": "stderr",
     "output_type": "stream",
     "text": [
      "Training Epochs:  44%|████▍     | 886/2000 [00:24<00:26, 42.41it/s]"
     ]
    },
    {
     "name": "stdout",
     "output_type": "stream",
     "text": [
      "Epoch 880/2000, Loss: 0.0929\n",
      "Test Accuracy at Epoch 880: 76.32%\n",
      "Test F1-score at Epoch 880: 0.7692\n",
      "Classification Report at Epoch 880:\n",
      "                  precision    recall  f1-score   support\n",
      "\n",
      "    infringement       0.80      0.72      0.76       194\n",
      "non_infringement       0.74      0.81      0.77       186\n",
      "\n",
      "        accuracy                           0.76       380\n",
      "       macro avg       0.77      0.76      0.76       380\n",
      "    weighted avg       0.77      0.76      0.76       380\n",
      "\n"
     ]
    },
    {
     "name": "stderr",
     "output_type": "stream",
     "text": [
      "Training Epochs:  45%|████▍     | 896/2000 [00:24<00:27, 40.39it/s]"
     ]
    },
    {
     "name": "stdout",
     "output_type": "stream",
     "text": [
      "Epoch 890/2000, Loss: 0.0928\n",
      "Test Accuracy at Epoch 890: 75.79%\n",
      "Test F1-score at Epoch 890: 0.7653\n",
      "Classification Report at Epoch 890:\n",
      "                  precision    recall  f1-score   support\n",
      "\n",
      "    infringement       0.79      0.71      0.75       194\n",
      "non_infringement       0.73      0.81      0.77       186\n",
      "\n",
      "        accuracy                           0.76       380\n",
      "       macro avg       0.76      0.76      0.76       380\n",
      "    weighted avg       0.76      0.76      0.76       380\n",
      "\n"
     ]
    },
    {
     "name": "stderr",
     "output_type": "stream",
     "text": [
      "Training Epochs:  45%|████▌     | 907/2000 [00:24<00:24, 44.34it/s]"
     ]
    },
    {
     "name": "stdout",
     "output_type": "stream",
     "text": [
      "Epoch 900/2000, Loss: 0.0928\n",
      "Test Accuracy at Epoch 900: 75.79%\n",
      "Test F1-score at Epoch 900: 0.7653\n",
      "Classification Report at Epoch 900:\n",
      "                  precision    recall  f1-score   support\n",
      "\n",
      "    infringement       0.79      0.71      0.75       194\n",
      "non_infringement       0.73      0.81      0.77       186\n",
      "\n",
      "        accuracy                           0.76       380\n",
      "       macro avg       0.76      0.76      0.76       380\n",
      "    weighted avg       0.76      0.76      0.76       380\n",
      "\n"
     ]
    },
    {
     "name": "stderr",
     "output_type": "stream",
     "text": [
      "Training Epochs:  46%|████▌     | 917/2000 [00:24<00:25, 42.37it/s]"
     ]
    },
    {
     "name": "stdout",
     "output_type": "stream",
     "text": [
      "Epoch 910/2000, Loss: 0.0928\n",
      "Test Accuracy at Epoch 910: 75.79%\n",
      "Test F1-score at Epoch 910: 0.7653\n",
      "Classification Report at Epoch 910:\n",
      "                  precision    recall  f1-score   support\n",
      "\n",
      "    infringement       0.79      0.71      0.75       194\n",
      "non_infringement       0.73      0.81      0.77       186\n",
      "\n",
      "        accuracy                           0.76       380\n",
      "       macro avg       0.76      0.76      0.76       380\n",
      "    weighted avg       0.76      0.76      0.76       380\n",
      "\n"
     ]
    },
    {
     "name": "stderr",
     "output_type": "stream",
     "text": [
      "Training Epochs:  46%|████▌     | 922/2000 [00:24<00:25, 43.01it/s]"
     ]
    },
    {
     "name": "stdout",
     "output_type": "stream",
     "text": [
      "Epoch 920/2000, Loss: 0.0928\n",
      "Test Accuracy at Epoch 920: 76.32%\n",
      "Test F1-score at Epoch 920: 0.7692\n",
      "Classification Report at Epoch 920:\n",
      "                  precision    recall  f1-score   support\n",
      "\n",
      "    infringement       0.80      0.72      0.76       194\n",
      "non_infringement       0.74      0.81      0.77       186\n",
      "\n",
      "        accuracy                           0.76       380\n",
      "       macro avg       0.77      0.76      0.76       380\n",
      "    weighted avg       0.77      0.76      0.76       380\n",
      "\n"
     ]
    },
    {
     "name": "stderr",
     "output_type": "stream",
     "text": [
      "Training Epochs:  47%|████▋     | 938/2000 [00:25<00:24, 43.67it/s]"
     ]
    },
    {
     "name": "stdout",
     "output_type": "stream",
     "text": [
      "Epoch 930/2000, Loss: 0.0928\n",
      "Test Accuracy at Epoch 930: 76.32%\n",
      "Test F1-score at Epoch 930: 0.7692\n",
      "Classification Report at Epoch 930:\n",
      "                  precision    recall  f1-score   support\n",
      "\n",
      "    infringement       0.80      0.72      0.76       194\n",
      "non_infringement       0.74      0.81      0.77       186\n",
      "\n",
      "        accuracy                           0.76       380\n",
      "       macro avg       0.77      0.76      0.76       380\n",
      "    weighted avg       0.77      0.76      0.76       380\n",
      "\n"
     ]
    },
    {
     "name": "stderr",
     "output_type": "stream",
     "text": [
      "Training Epochs:  47%|████▋     | 943/2000 [00:25<00:27, 39.06it/s]"
     ]
    },
    {
     "name": "stdout",
     "output_type": "stream",
     "text": [
      "Epoch 940/2000, Loss: 0.0975\n",
      "Test Accuracy at Epoch 940: 78.42%\n",
      "Test F1-score at Epoch 940: 0.7853\n",
      "Classification Report at Epoch 940:\n",
      "                  precision    recall  f1-score   support\n",
      "\n",
      "    infringement       0.80      0.76      0.78       194\n",
      "non_infringement       0.77      0.81      0.79       186\n",
      "\n",
      "        accuracy                           0.78       380\n",
      "       macro avg       0.78      0.78      0.78       380\n",
      "    weighted avg       0.79      0.78      0.78       380\n",
      "\n",
      "New best model saved with F1-score 0.7853 at epoch 940\n",
      "Best Classification Report at Epoch 940:\n",
      "                  precision    recall  f1-score   support\n",
      "\n",
      "    infringement       0.80      0.76      0.78       194\n",
      "non_infringement       0.77      0.81      0.79       186\n",
      "\n",
      "        accuracy                           0.78       380\n",
      "       macro avg       0.78      0.78      0.78       380\n",
      "    weighted avg       0.79      0.78      0.78       380\n",
      "\n"
     ]
    },
    {
     "name": "stderr",
     "output_type": "stream",
     "text": [
      "Training Epochs:  48%|████▊     | 954/2000 [00:25<00:24, 43.49it/s]"
     ]
    },
    {
     "name": "stdout",
     "output_type": "stream",
     "text": [
      "Epoch 950/2000, Loss: 0.1019\n",
      "Test Accuracy at Epoch 950: 76.05%\n",
      "Test F1-score at Epoch 950: 0.7684\n",
      "Classification Report at Epoch 950:\n",
      "                  precision    recall  f1-score   support\n",
      "\n",
      "    infringement       0.80      0.71      0.75       194\n",
      "non_infringement       0.73      0.81      0.77       186\n",
      "\n",
      "        accuracy                           0.76       380\n",
      "       macro avg       0.76      0.76      0.76       380\n",
      "    weighted avg       0.76      0.76      0.76       380\n",
      "\n"
     ]
    },
    {
     "name": "stderr",
     "output_type": "stream",
     "text": [
      "Training Epochs:  48%|████▊     | 969/2000 [00:26<00:24, 42.92it/s]"
     ]
    },
    {
     "name": "stdout",
     "output_type": "stream",
     "text": [
      "Epoch 960/2000, Loss: 0.0961\n",
      "Test Accuracy at Epoch 960: 76.32%\n",
      "Test F1-score at Epoch 960: 0.7692\n",
      "Classification Report at Epoch 960:\n",
      "                  precision    recall  f1-score   support\n",
      "\n",
      "    infringement       0.80      0.72      0.76       194\n",
      "non_infringement       0.74      0.81      0.77       186\n",
      "\n",
      "        accuracy                           0.76       380\n",
      "       macro avg       0.77      0.76      0.76       380\n",
      "    weighted avg       0.77      0.76      0.76       380\n",
      "\n"
     ]
    },
    {
     "name": "stderr",
     "output_type": "stream",
     "text": [
      "Training Epochs:  49%|████▊     | 974/2000 [00:26<00:26, 38.85it/s]"
     ]
    },
    {
     "name": "stdout",
     "output_type": "stream",
     "text": [
      "Epoch 970/2000, Loss: 0.0943\n",
      "Test Accuracy at Epoch 970: 76.05%\n",
      "Test F1-score at Epoch 970: 0.7673\n",
      "Classification Report at Epoch 970:\n",
      "                  precision    recall  f1-score   support\n",
      "\n",
      "    infringement       0.79      0.72      0.75       194\n",
      "non_infringement       0.73      0.81      0.77       186\n",
      "\n",
      "        accuracy                           0.76       380\n",
      "       macro avg       0.76      0.76      0.76       380\n",
      "    weighted avg       0.76      0.76      0.76       380\n",
      "\n"
     ]
    },
    {
     "name": "stderr",
     "output_type": "stream",
     "text": [
      "Training Epochs:  49%|████▉     | 984/2000 [00:26<00:24, 41.45it/s]"
     ]
    },
    {
     "name": "stdout",
     "output_type": "stream",
     "text": [
      "Epoch 980/2000, Loss: 0.0938\n",
      "Test Accuracy at Epoch 980: 76.58%\n",
      "Test F1-score at Epoch 980: 0.7712\n",
      "Classification Report at Epoch 980:\n",
      "                  precision    recall  f1-score   support\n",
      "\n",
      "    infringement       0.80      0.73      0.76       194\n",
      "non_infringement       0.74      0.81      0.77       186\n",
      "\n",
      "        accuracy                           0.77       380\n",
      "       macro avg       0.77      0.77      0.77       380\n",
      "    weighted avg       0.77      0.77      0.77       380\n",
      "\n"
     ]
    },
    {
     "name": "stderr",
     "output_type": "stream",
     "text": [
      "Training Epochs:  50%|████▉     | 994/2000 [00:26<00:26, 38.10it/s]"
     ]
    },
    {
     "name": "stdout",
     "output_type": "stream",
     "text": [
      "Epoch 990/2000, Loss: 0.0937\n",
      "Test Accuracy at Epoch 990: 76.32%\n",
      "Test F1-score at Epoch 990: 0.7704\n",
      "Classification Report at Epoch 990:\n",
      "                  precision    recall  f1-score   support\n",
      "\n",
      "    infringement       0.80      0.72      0.76       194\n",
      "non_infringement       0.73      0.81      0.77       186\n",
      "\n",
      "        accuracy                           0.76       380\n",
      "       macro avg       0.77      0.76      0.76       380\n",
      "    weighted avg       0.77      0.76      0.76       380\n",
      "\n"
     ]
    },
    {
     "name": "stderr",
     "output_type": "stream",
     "text": [
      "Training Epochs:  50%|█████     | 1004/2000 [00:26<00:24, 41.07it/s]"
     ]
    },
    {
     "name": "stdout",
     "output_type": "stream",
     "text": [
      "Epoch 1000/2000, Loss: 0.0947\n",
      "Test Accuracy at Epoch 1000: 76.58%\n",
      "Test F1-score at Epoch 1000: 0.7724\n",
      "Classification Report at Epoch 1000:\n",
      "                  precision    recall  f1-score   support\n",
      "\n",
      "    infringement       0.80      0.72      0.76       194\n",
      "non_infringement       0.74      0.81      0.77       186\n",
      "\n",
      "        accuracy                           0.77       380\n",
      "       macro avg       0.77      0.77      0.77       380\n",
      "    weighted avg       0.77      0.77      0.77       380\n",
      "\n"
     ]
    },
    {
     "name": "stderr",
     "output_type": "stream",
     "text": [
      "Training Epochs:  51%|█████     | 1018/2000 [00:27<00:23, 41.01it/s]"
     ]
    },
    {
     "name": "stdout",
     "output_type": "stream",
     "text": [
      "Epoch 1010/2000, Loss: 0.0931\n",
      "Test Accuracy at Epoch 1010: 76.32%\n",
      "Test F1-score at Epoch 1010: 0.7692\n",
      "Classification Report at Epoch 1010:\n",
      "                  precision    recall  f1-score   support\n",
      "\n",
      "    infringement       0.80      0.72      0.76       194\n",
      "non_infringement       0.74      0.81      0.77       186\n",
      "\n",
      "        accuracy                           0.76       380\n",
      "       macro avg       0.77      0.76      0.76       380\n",
      "    weighted avg       0.77      0.76      0.76       380\n",
      "\n"
     ]
    },
    {
     "name": "stderr",
     "output_type": "stream",
     "text": [
      "Training Epochs:  51%|█████     | 1023/2000 [00:27<00:26, 36.67it/s]"
     ]
    },
    {
     "name": "stdout",
     "output_type": "stream",
     "text": [
      "Epoch 1020/2000, Loss: 0.0929\n",
      "Test Accuracy at Epoch 1020: 75.79%\n",
      "Test F1-score at Epoch 1020: 0.7653\n",
      "Classification Report at Epoch 1020:\n",
      "                  precision    recall  f1-score   support\n",
      "\n",
      "    infringement       0.79      0.71      0.75       194\n",
      "non_infringement       0.73      0.81      0.77       186\n",
      "\n",
      "        accuracy                           0.76       380\n",
      "       macro avg       0.76      0.76      0.76       380\n",
      "    weighted avg       0.76      0.76      0.76       380\n",
      "\n"
     ]
    },
    {
     "name": "stderr",
     "output_type": "stream",
     "text": [
      "Training Epochs:  52%|█████▏    | 1033/2000 [00:27<00:23, 40.83it/s]"
     ]
    },
    {
     "name": "stdout",
     "output_type": "stream",
     "text": [
      "Epoch 1030/2000, Loss: 0.0929\n",
      "Test Accuracy at Epoch 1030: 76.32%\n",
      "Test F1-score at Epoch 1030: 0.7704\n",
      "Classification Report at Epoch 1030:\n",
      "                  precision    recall  f1-score   support\n",
      "\n",
      "    infringement       0.80      0.72      0.76       194\n",
      "non_infringement       0.73      0.81      0.77       186\n",
      "\n",
      "        accuracy                           0.76       380\n",
      "       macro avg       0.77      0.76      0.76       380\n",
      "    weighted avg       0.77      0.76      0.76       380\n",
      "\n"
     ]
    },
    {
     "name": "stderr",
     "output_type": "stream",
     "text": [
      "Training Epochs:  52%|█████▏    | 1048/2000 [00:28<00:22, 41.51it/s]"
     ]
    },
    {
     "name": "stdout",
     "output_type": "stream",
     "text": [
      "Epoch 1040/2000, Loss: 0.0928\n",
      "Test Accuracy at Epoch 1040: 75.53%\n",
      "Test F1-score at Epoch 1040: 0.7634\n",
      "Classification Report at Epoch 1040:\n",
      "                  precision    recall  f1-score   support\n",
      "\n",
      "    infringement       0.79      0.71      0.75       194\n",
      "non_infringement       0.72      0.81      0.76       186\n",
      "\n",
      "        accuracy                           0.76       380\n",
      "       macro avg       0.76      0.76      0.75       380\n",
      "    weighted avg       0.76      0.76      0.75       380\n",
      "\n"
     ]
    },
    {
     "name": "stderr",
     "output_type": "stream",
     "text": [
      "Training Epochs:  53%|█████▎    | 1053/2000 [00:28<00:27, 34.27it/s]"
     ]
    },
    {
     "name": "stdout",
     "output_type": "stream",
     "text": [
      "Epoch 1050/2000, Loss: 0.0928\n",
      "Test Accuracy at Epoch 1050: 76.32%\n",
      "Test F1-score at Epoch 1050: 0.7704\n",
      "Classification Report at Epoch 1050:\n",
      "                  precision    recall  f1-score   support\n",
      "\n",
      "    infringement       0.80      0.72      0.76       194\n",
      "non_infringement       0.73      0.81      0.77       186\n",
      "\n",
      "        accuracy                           0.76       380\n",
      "       macro avg       0.77      0.76      0.76       380\n",
      "    weighted avg       0.77      0.76      0.76       380\n",
      "\n"
     ]
    },
    {
     "name": "stderr",
     "output_type": "stream",
     "text": [
      "Training Epochs:  53%|█████▎    | 1063/2000 [00:28<00:23, 39.38it/s]"
     ]
    },
    {
     "name": "stdout",
     "output_type": "stream",
     "text": [
      "Epoch 1060/2000, Loss: 0.0928\n",
      "Test Accuracy at Epoch 1060: 76.58%\n",
      "Test F1-score at Epoch 1060: 0.7724\n",
      "Classification Report at Epoch 1060:\n",
      "                  precision    recall  f1-score   support\n",
      "\n",
      "    infringement       0.80      0.72      0.76       194\n",
      "non_infringement       0.74      0.81      0.77       186\n",
      "\n",
      "        accuracy                           0.77       380\n",
      "       macro avg       0.77      0.77      0.77       380\n",
      "    weighted avg       0.77      0.77      0.77       380\n",
      "\n"
     ]
    },
    {
     "name": "stderr",
     "output_type": "stream",
     "text": [
      "Training Epochs:  54%|█████▍    | 1079/2000 [00:28<00:21, 42.49it/s]"
     ]
    },
    {
     "name": "stdout",
     "output_type": "stream",
     "text": [
      "Epoch 1070/2000, Loss: 0.0927\n",
      "Test Accuracy at Epoch 1070: 75.79%\n",
      "Test F1-score at Epoch 1070: 0.7665\n",
      "Classification Report at Epoch 1070:\n",
      "                  precision    recall  f1-score   support\n",
      "\n",
      "    infringement       0.80      0.71      0.75       194\n",
      "non_infringement       0.73      0.81      0.77       186\n",
      "\n",
      "        accuracy                           0.76       380\n",
      "       macro avg       0.76      0.76      0.76       380\n",
      "    weighted avg       0.76      0.76      0.76       380\n",
      "\n"
     ]
    },
    {
     "name": "stderr",
     "output_type": "stream",
     "text": [
      "Training Epochs:  54%|█████▍    | 1084/2000 [00:28<00:24, 37.86it/s]"
     ]
    },
    {
     "name": "stdout",
     "output_type": "stream",
     "text": [
      "Epoch 1080/2000, Loss: 0.0927\n",
      "Test Accuracy at Epoch 1080: 76.32%\n",
      "Test F1-score at Epoch 1080: 0.7704\n",
      "Classification Report at Epoch 1080:\n",
      "                  precision    recall  f1-score   support\n",
      "\n",
      "    infringement       0.80      0.72      0.76       194\n",
      "non_infringement       0.73      0.81      0.77       186\n",
      "\n",
      "        accuracy                           0.76       380\n",
      "       macro avg       0.77      0.76      0.76       380\n",
      "    weighted avg       0.77      0.76      0.76       380\n",
      "\n"
     ]
    },
    {
     "name": "stderr",
     "output_type": "stream",
     "text": [
      "Training Epochs:  55%|█████▍    | 1094/2000 [00:29<00:21, 41.29it/s]"
     ]
    },
    {
     "name": "stdout",
     "output_type": "stream",
     "text": [
      "Epoch 1090/2000, Loss: 0.0927\n",
      "Test Accuracy at Epoch 1090: 76.58%\n",
      "Test F1-score at Epoch 1090: 0.7724\n",
      "Classification Report at Epoch 1090:\n",
      "                  precision    recall  f1-score   support\n",
      "\n",
      "    infringement       0.80      0.72      0.76       194\n",
      "non_infringement       0.74      0.81      0.77       186\n",
      "\n",
      "        accuracy                           0.77       380\n",
      "       macro avg       0.77      0.77      0.77       380\n",
      "    weighted avg       0.77      0.77      0.77       380\n",
      "\n"
     ]
    },
    {
     "name": "stderr",
     "output_type": "stream",
     "text": [
      "Training Epochs:  55%|█████▌    | 1106/2000 [00:29<00:21, 42.32it/s]"
     ]
    },
    {
     "name": "stdout",
     "output_type": "stream",
     "text": [
      "Epoch 1100/2000, Loss: 0.0927\n",
      "Test Accuracy at Epoch 1100: 76.32%\n",
      "Test F1-score at Epoch 1100: 0.7704\n",
      "Classification Report at Epoch 1100:\n",
      "                  precision    recall  f1-score   support\n",
      "\n",
      "    infringement       0.80      0.72      0.76       194\n",
      "non_infringement       0.73      0.81      0.77       186\n",
      "\n",
      "        accuracy                           0.76       380\n",
      "       macro avg       0.77      0.76      0.76       380\n",
      "    weighted avg       0.77      0.76      0.76       380\n",
      "\n"
     ]
    },
    {
     "name": "stderr",
     "output_type": "stream",
     "text": [
      "Training Epochs:  56%|█████▌    | 1117/2000 [00:29<00:21, 41.22it/s]"
     ]
    },
    {
     "name": "stdout",
     "output_type": "stream",
     "text": [
      "Epoch 1110/2000, Loss: 0.0927\n",
      "Test Accuracy at Epoch 1110: 76.58%\n",
      "Test F1-score at Epoch 1110: 0.7724\n",
      "Classification Report at Epoch 1110:\n",
      "                  precision    recall  f1-score   support\n",
      "\n",
      "    infringement       0.80      0.72      0.76       194\n",
      "non_infringement       0.74      0.81      0.77       186\n",
      "\n",
      "        accuracy                           0.77       380\n",
      "       macro avg       0.77      0.77      0.77       380\n",
      "    weighted avg       0.77      0.77      0.77       380\n",
      "\n"
     ]
    },
    {
     "name": "stderr",
     "output_type": "stream",
     "text": [
      "Training Epochs:  56%|█████▋    | 1128/2000 [00:29<00:19, 44.46it/s]"
     ]
    },
    {
     "name": "stdout",
     "output_type": "stream",
     "text": [
      "Epoch 1120/2000, Loss: 0.0927\n",
      "Test Accuracy at Epoch 1120: 76.58%\n",
      "Test F1-score at Epoch 1120: 0.7724\n",
      "Classification Report at Epoch 1120:\n",
      "                  precision    recall  f1-score   support\n",
      "\n",
      "    infringement       0.80      0.72      0.76       194\n",
      "non_infringement       0.74      0.81      0.77       186\n",
      "\n",
      "        accuracy                           0.77       380\n",
      "       macro avg       0.77      0.77      0.77       380\n",
      "    weighted avg       0.77      0.77      0.77       380\n",
      "\n"
     ]
    },
    {
     "name": "stderr",
     "output_type": "stream",
     "text": [
      "Training Epochs:  57%|█████▋    | 1133/2000 [00:30<00:20, 42.89it/s]"
     ]
    },
    {
     "name": "stdout",
     "output_type": "stream",
     "text": [
      "Epoch 1130/2000, Loss: 0.0927\n",
      "Test Accuracy at Epoch 1130: 76.58%\n",
      "Test F1-score at Epoch 1130: 0.7724\n",
      "Classification Report at Epoch 1130:\n",
      "                  precision    recall  f1-score   support\n",
      "\n",
      "    infringement       0.80      0.72      0.76       194\n",
      "non_infringement       0.74      0.81      0.77       186\n",
      "\n",
      "        accuracy                           0.77       380\n",
      "       macro avg       0.77      0.77      0.77       380\n",
      "    weighted avg       0.77      0.77      0.77       380\n",
      "\n"
     ]
    },
    {
     "name": "stderr",
     "output_type": "stream",
     "text": [
      "Training Epochs:  57%|█████▋    | 1149/2000 [00:30<00:19, 44.51it/s]"
     ]
    },
    {
     "name": "stdout",
     "output_type": "stream",
     "text": [
      "Epoch 1140/2000, Loss: 0.0926\n",
      "Test Accuracy at Epoch 1140: 76.58%\n",
      "Test F1-score at Epoch 1140: 0.7724\n",
      "Classification Report at Epoch 1140:\n",
      "                  precision    recall  f1-score   support\n",
      "\n",
      "    infringement       0.80      0.72      0.76       194\n",
      "non_infringement       0.74      0.81      0.77       186\n",
      "\n",
      "        accuracy                           0.77       380\n",
      "       macro avg       0.77      0.77      0.77       380\n",
      "    weighted avg       0.77      0.77      0.77       380\n",
      "\n"
     ]
    },
    {
     "name": "stderr",
     "output_type": "stream",
     "text": [
      "Training Epochs:  58%|█████▊    | 1154/2000 [00:30<00:21, 38.70it/s]"
     ]
    },
    {
     "name": "stdout",
     "output_type": "stream",
     "text": [
      "Epoch 1150/2000, Loss: 0.0926\n",
      "Test Accuracy at Epoch 1150: 75.79%\n",
      "Test F1-score at Epoch 1150: 0.7665\n",
      "Classification Report at Epoch 1150:\n",
      "                  precision    recall  f1-score   support\n",
      "\n",
      "    infringement       0.80      0.71      0.75       194\n",
      "non_infringement       0.73      0.81      0.77       186\n",
      "\n",
      "        accuracy                           0.76       380\n",
      "       macro avg       0.76      0.76      0.76       380\n",
      "    weighted avg       0.76      0.76      0.76       380\n",
      "\n"
     ]
    },
    {
     "name": "stderr",
     "output_type": "stream",
     "text": [
      "Training Epochs:  58%|█████▊    | 1166/2000 [00:30<00:18, 43.98it/s]"
     ]
    },
    {
     "name": "stdout",
     "output_type": "stream",
     "text": [
      "Epoch 1160/2000, Loss: 0.0930\n",
      "Test Accuracy at Epoch 1160: 75.26%\n",
      "Test F1-score at Epoch 1160: 0.7626\n",
      "Classification Report at Epoch 1160:\n",
      "                  precision    recall  f1-score   support\n",
      "\n",
      "    infringement       0.79      0.70      0.74       194\n",
      "non_infringement       0.72      0.81      0.76       186\n",
      "\n",
      "        accuracy                           0.75       380\n",
      "       macro avg       0.76      0.75      0.75       380\n",
      "    weighted avg       0.76      0.75      0.75       380\n",
      "\n"
     ]
    },
    {
     "name": "stderr",
     "output_type": "stream",
     "text": [
      "Training Epochs:  59%|█████▉    | 1176/2000 [00:31<00:20, 41.10it/s]"
     ]
    },
    {
     "name": "stdout",
     "output_type": "stream",
     "text": [
      "Epoch 1170/2000, Loss: 0.0926\n",
      "Test Accuracy at Epoch 1170: 76.32%\n",
      "Test F1-score at Epoch 1170: 0.7704\n",
      "Classification Report at Epoch 1170:\n",
      "                  precision    recall  f1-score   support\n",
      "\n",
      "    infringement       0.80      0.72      0.76       194\n",
      "non_infringement       0.73      0.81      0.77       186\n",
      "\n",
      "        accuracy                           0.76       380\n",
      "       macro avg       0.77      0.76      0.76       380\n",
      "    weighted avg       0.77      0.76      0.76       380\n",
      "\n"
     ]
    },
    {
     "name": "stderr",
     "output_type": "stream",
     "text": [
      "Training Epochs:  59%|█████▉    | 1186/2000 [00:31<00:20, 39.55it/s]"
     ]
    },
    {
     "name": "stdout",
     "output_type": "stream",
     "text": [
      "Epoch 1180/2000, Loss: 0.0930\n",
      "Test Accuracy at Epoch 1180: 76.32%\n",
      "Test F1-score at Epoch 1180: 0.7704\n",
      "Classification Report at Epoch 1180:\n",
      "                  precision    recall  f1-score   support\n",
      "\n",
      "    infringement       0.80      0.72      0.76       194\n",
      "non_infringement       0.73      0.81      0.77       186\n",
      "\n",
      "        accuracy                           0.76       380\n",
      "       macro avg       0.77      0.76      0.76       380\n",
      "    weighted avg       0.77      0.76      0.76       380\n",
      "\n"
     ]
    },
    {
     "name": "stderr",
     "output_type": "stream",
     "text": [
      "Training Epochs:  60%|█████▉    | 1196/2000 [00:31<00:19, 42.29it/s]"
     ]
    },
    {
     "name": "stdout",
     "output_type": "stream",
     "text": [
      "Epoch 1190/2000, Loss: 0.0926\n",
      "Test Accuracy at Epoch 1190: 75.79%\n",
      "Test F1-score at Epoch 1190: 0.7665\n",
      "Classification Report at Epoch 1190:\n",
      "                  precision    recall  f1-score   support\n",
      "\n",
      "    infringement       0.80      0.71      0.75       194\n",
      "non_infringement       0.73      0.81      0.77       186\n",
      "\n",
      "        accuracy                           0.76       380\n",
      "       macro avg       0.76      0.76      0.76       380\n",
      "    weighted avg       0.76      0.76      0.76       380\n",
      "\n"
     ]
    },
    {
     "name": "stderr",
     "output_type": "stream",
     "text": [
      "Training Epochs:  60%|██████    | 1207/2000 [00:31<00:19, 41.25it/s]"
     ]
    },
    {
     "name": "stdout",
     "output_type": "stream",
     "text": [
      "Epoch 1200/2000, Loss: 0.0933\n",
      "Test Accuracy at Epoch 1200: 76.32%\n",
      "Test F1-score at Epoch 1200: 0.7704\n",
      "Classification Report at Epoch 1200:\n",
      "                  precision    recall  f1-score   support\n",
      "\n",
      "    infringement       0.80      0.72      0.76       194\n",
      "non_infringement       0.73      0.81      0.77       186\n",
      "\n",
      "        accuracy                           0.76       380\n",
      "       macro avg       0.77      0.76      0.76       380\n",
      "    weighted avg       0.77      0.76      0.76       380\n",
      "\n"
     ]
    },
    {
     "name": "stderr",
     "output_type": "stream",
     "text": [
      "Training Epochs:  61%|██████    | 1217/2000 [00:32<00:19, 39.83it/s]"
     ]
    },
    {
     "name": "stdout",
     "output_type": "stream",
     "text": [
      "Epoch 1210/2000, Loss: 0.0926\n",
      "Test Accuracy at Epoch 1210: 75.53%\n",
      "Test F1-score at Epoch 1210: 0.7646\n",
      "Classification Report at Epoch 1210:\n",
      "                  precision    recall  f1-score   support\n",
      "\n",
      "    infringement       0.80      0.70      0.75       194\n",
      "non_infringement       0.72      0.81      0.76       186\n",
      "\n",
      "        accuracy                           0.76       380\n",
      "       macro avg       0.76      0.76      0.75       380\n",
      "    weighted avg       0.76      0.76      0.75       380\n",
      "\n"
     ]
    },
    {
     "name": "stderr",
     "output_type": "stream",
     "text": [
      "Training Epochs:  61%|██████▏   | 1227/2000 [00:32<00:17, 43.50it/s]"
     ]
    },
    {
     "name": "stdout",
     "output_type": "stream",
     "text": [
      "Epoch 1220/2000, Loss: 0.0933\n",
      "Test Accuracy at Epoch 1220: 75.53%\n",
      "Test F1-score at Epoch 1220: 0.7646\n",
      "Classification Report at Epoch 1220:\n",
      "                  precision    recall  f1-score   support\n",
      "\n",
      "    infringement       0.80      0.70      0.75       194\n",
      "non_infringement       0.72      0.81      0.76       186\n",
      "\n",
      "        accuracy                           0.76       380\n",
      "       macro avg       0.76      0.76      0.75       380\n",
      "    weighted avg       0.76      0.76      0.75       380\n",
      "\n"
     ]
    },
    {
     "name": "stderr",
     "output_type": "stream",
     "text": [
      "Training Epochs:  62%|██████▏   | 1232/2000 [00:32<00:20, 37.83it/s]"
     ]
    },
    {
     "name": "stdout",
     "output_type": "stream",
     "text": [
      "Epoch 1230/2000, Loss: 0.0927\n",
      "Test Accuracy at Epoch 1230: 76.32%\n",
      "Test F1-score at Epoch 1230: 0.7704\n",
      "Classification Report at Epoch 1230:\n",
      "                  precision    recall  f1-score   support\n",
      "\n",
      "    infringement       0.80      0.72      0.76       194\n",
      "non_infringement       0.73      0.81      0.77       186\n",
      "\n",
      "        accuracy                           0.76       380\n",
      "       macro avg       0.77      0.76      0.76       380\n",
      "    weighted avg       0.77      0.76      0.76       380\n",
      "\n"
     ]
    },
    {
     "name": "stderr",
     "output_type": "stream",
     "text": [
      "Training Epochs:  62%|██████▏   | 1242/2000 [00:32<00:18, 41.64it/s]"
     ]
    },
    {
     "name": "stdout",
     "output_type": "stream",
     "text": [
      "Epoch 1240/2000, Loss: 0.1017\n",
      "Test Accuracy at Epoch 1240: 78.16%\n",
      "Test F1-score at Epoch 1240: 0.7844\n",
      "Classification Report at Epoch 1240:\n",
      "                  precision    recall  f1-score   support\n",
      "\n",
      "    infringement       0.81      0.75      0.78       194\n",
      "non_infringement       0.76      0.81      0.78       186\n",
      "\n",
      "        accuracy                           0.78       380\n",
      "       macro avg       0.78      0.78      0.78       380\n",
      "    weighted avg       0.78      0.78      0.78       380\n",
      "\n"
     ]
    },
    {
     "name": "stderr",
     "output_type": "stream",
     "text": [
      "Training Epochs:  63%|██████▎   | 1257/2000 [00:33<00:18, 39.92it/s]"
     ]
    },
    {
     "name": "stdout",
     "output_type": "stream",
     "text": [
      "Epoch 1250/2000, Loss: 0.1019\n",
      "Test Accuracy at Epoch 1250: 78.16%\n",
      "Test F1-score at Epoch 1250: 0.7833\n",
      "Classification Report at Epoch 1250:\n",
      "                  precision    recall  f1-score   support\n",
      "\n",
      "    infringement       0.80      0.76      0.78       194\n",
      "non_infringement       0.76      0.81      0.78       186\n",
      "\n",
      "        accuracy                           0.78       380\n",
      "       macro avg       0.78      0.78      0.78       380\n",
      "    weighted avg       0.78      0.78      0.78       380\n",
      "\n"
     ]
    },
    {
     "name": "stderr",
     "output_type": "stream",
     "text": [
      "Training Epochs:  63%|██████▎   | 1262/2000 [00:33<00:19, 36.94it/s]"
     ]
    },
    {
     "name": "stdout",
     "output_type": "stream",
     "text": [
      "Epoch 1260/2000, Loss: 0.0994\n",
      "Test Accuracy at Epoch 1260: 73.95%\n",
      "Test F1-score at Epoch 1260: 0.7455\n",
      "Classification Report at Epoch 1260:\n",
      "                  precision    recall  f1-score   support\n",
      "\n",
      "    infringement       0.77      0.70      0.73       194\n",
      "non_infringement       0.71      0.78      0.75       186\n",
      "\n",
      "        accuracy                           0.74       380\n",
      "       macro avg       0.74      0.74      0.74       380\n",
      "    weighted avg       0.74      0.74      0.74       380\n",
      "\n"
     ]
    },
    {
     "name": "stderr",
     "output_type": "stream",
     "text": [
      "Training Epochs:  64%|██████▎   | 1273/2000 [00:33<00:17, 42.04it/s]"
     ]
    },
    {
     "name": "stdout",
     "output_type": "stream",
     "text": [
      "Epoch 1270/2000, Loss: 0.1001\n",
      "Test Accuracy at Epoch 1270: 75.53%\n",
      "Test F1-score at Epoch 1270: 0.7681\n",
      "Classification Report at Epoch 1270:\n",
      "                  precision    recall  f1-score   support\n",
      "\n",
      "    infringement       0.81      0.69      0.74       194\n",
      "non_infringement       0.72      0.83      0.77       186\n",
      "\n",
      "        accuracy                           0.76       380\n",
      "       macro avg       0.76      0.76      0.75       380\n",
      "    weighted avg       0.76      0.76      0.75       380\n",
      "\n"
     ]
    },
    {
     "name": "stderr",
     "output_type": "stream",
     "text": [
      "Training Epochs:  64%|██████▍   | 1284/2000 [00:33<00:17, 41.00it/s]"
     ]
    },
    {
     "name": "stdout",
     "output_type": "stream",
     "text": [
      "Epoch 1280/2000, Loss: 0.0985\n",
      "Test Accuracy at Epoch 1280: 75.00%\n",
      "Test F1-score at Epoch 1280: 0.7677\n",
      "Classification Report at Epoch 1280:\n",
      "                  precision    recall  f1-score   support\n",
      "\n",
      "    infringement       0.82      0.66      0.73       194\n",
      "non_infringement       0.70      0.84      0.77       186\n",
      "\n",
      "        accuracy                           0.75       380\n",
      "       macro avg       0.76      0.75      0.75       380\n",
      "    weighted avg       0.76      0.75      0.75       380\n",
      "\n"
     ]
    },
    {
     "name": "stderr",
     "output_type": "stream",
     "text": [
      "Training Epochs:  65%|██████▍   | 1295/2000 [00:34<00:18, 37.71it/s]"
     ]
    },
    {
     "name": "stdout",
     "output_type": "stream",
     "text": [
      "Epoch 1290/2000, Loss: 0.1017\n",
      "Test Accuracy at Epoch 1290: 75.00%\n",
      "Test F1-score at Epoch 1290: 0.7532\n",
      "Classification Report at Epoch 1290:\n",
      "                  precision    recall  f1-score   support\n",
      "\n",
      "    infringement       0.77      0.72      0.75       194\n",
      "non_infringement       0.73      0.78      0.75       186\n",
      "\n",
      "        accuracy                           0.75       380\n",
      "       macro avg       0.75      0.75      0.75       380\n",
      "    weighted avg       0.75      0.75      0.75       380\n",
      "\n"
     ]
    },
    {
     "name": "stderr",
     "output_type": "stream",
     "text": [
      "Training Epochs:  65%|██████▌   | 1304/2000 [00:34<00:18, 37.98it/s]"
     ]
    },
    {
     "name": "stdout",
     "output_type": "stream",
     "text": [
      "Epoch 1300/2000, Loss: 0.1011\n",
      "Test Accuracy at Epoch 1300: 72.89%\n",
      "Test F1-score at Epoch 1300: 0.7431\n",
      "Classification Report at Epoch 1300:\n",
      "                  precision    recall  f1-score   support\n",
      "\n",
      "    infringement       0.78      0.66      0.71       194\n",
      "non_infringement       0.69      0.80      0.74       186\n",
      "\n",
      "        accuracy                           0.73       380\n",
      "       macro avg       0.73      0.73      0.73       380\n",
      "    weighted avg       0.74      0.73      0.73       380\n",
      "\n"
     ]
    },
    {
     "name": "stderr",
     "output_type": "stream",
     "text": [
      "Training Epochs:  66%|██████▌   | 1314/2000 [00:34<00:17, 39.34it/s]"
     ]
    },
    {
     "name": "stdout",
     "output_type": "stream",
     "text": [
      "Epoch 1310/2000, Loss: 0.0962\n",
      "Test Accuracy at Epoch 1310: 76.58%\n",
      "Test F1-score at Epoch 1310: 0.7712\n",
      "Classification Report at Epoch 1310:\n",
      "                  precision    recall  f1-score   support\n",
      "\n",
      "    infringement       0.80      0.73      0.76       194\n",
      "non_infringement       0.74      0.81      0.77       186\n",
      "\n",
      "        accuracy                           0.77       380\n",
      "       macro avg       0.77      0.77      0.77       380\n",
      "    weighted avg       0.77      0.77      0.77       380\n",
      "\n"
     ]
    },
    {
     "name": "stderr",
     "output_type": "stream",
     "text": [
      "Training Epochs:  66%|██████▋   | 1326/2000 [00:34<00:16, 40.12it/s]"
     ]
    },
    {
     "name": "stdout",
     "output_type": "stream",
     "text": [
      "Epoch 1320/2000, Loss: 0.0940\n",
      "Test Accuracy at Epoch 1320: 75.53%\n",
      "Test F1-score at Epoch 1320: 0.7681\n",
      "Classification Report at Epoch 1320:\n",
      "                  precision    recall  f1-score   support\n",
      "\n",
      "    infringement       0.81      0.69      0.74       194\n",
      "non_infringement       0.72      0.83      0.77       186\n",
      "\n",
      "        accuracy                           0.76       380\n",
      "       macro avg       0.76      0.76      0.75       380\n",
      "    weighted avg       0.76      0.76      0.75       380\n",
      "\n"
     ]
    },
    {
     "name": "stderr",
     "output_type": "stream",
     "text": [
      "Training Epochs:  67%|██████▋   | 1337/2000 [00:35<00:14, 44.25it/s]"
     ]
    },
    {
     "name": "stdout",
     "output_type": "stream",
     "text": [
      "Epoch 1330/2000, Loss: 0.0941\n",
      "Test Accuracy at Epoch 1330: 76.58%\n",
      "Test F1-score at Epoch 1330: 0.7712\n",
      "Classification Report at Epoch 1330:\n",
      "                  precision    recall  f1-score   support\n",
      "\n",
      "    infringement       0.80      0.73      0.76       194\n",
      "non_infringement       0.74      0.81      0.77       186\n",
      "\n",
      "        accuracy                           0.77       380\n",
      "       macro avg       0.77      0.77      0.77       380\n",
      "    weighted avg       0.77      0.77      0.77       380\n",
      "\n"
     ]
    },
    {
     "name": "stderr",
     "output_type": "stream",
     "text": [
      "Training Epochs:  67%|██████▋   | 1347/2000 [00:35<00:16, 40.76it/s]"
     ]
    },
    {
     "name": "stdout",
     "output_type": "stream",
     "text": [
      "Epoch 1340/2000, Loss: 0.0944\n",
      "Test Accuracy at Epoch 1340: 75.00%\n",
      "Test F1-score at Epoch 1340: 0.7643\n",
      "Classification Report at Epoch 1340:\n",
      "                  precision    recall  f1-score   support\n",
      "\n",
      "    infringement       0.80      0.68      0.73       194\n",
      "non_infringement       0.71      0.83      0.76       186\n",
      "\n",
      "        accuracy                           0.75       380\n",
      "       macro avg       0.76      0.75      0.75       380\n",
      "    weighted avg       0.76      0.75      0.75       380\n",
      "\n"
     ]
    },
    {
     "name": "stderr",
     "output_type": "stream",
     "text": [
      "Training Epochs:  68%|██████▊   | 1357/2000 [00:35<00:15, 42.73it/s]"
     ]
    },
    {
     "name": "stdout",
     "output_type": "stream",
     "text": [
      "Epoch 1350/2000, Loss: 0.0938\n",
      "Test Accuracy at Epoch 1350: 75.53%\n",
      "Test F1-score at Epoch 1350: 0.7681\n",
      "Classification Report at Epoch 1350:\n",
      "                  precision    recall  f1-score   support\n",
      "\n",
      "    infringement       0.81      0.69      0.74       194\n",
      "non_infringement       0.72      0.83      0.77       186\n",
      "\n",
      "        accuracy                           0.76       380\n",
      "       macro avg       0.76      0.76      0.75       380\n",
      "    weighted avg       0.76      0.76      0.75       380\n",
      "\n"
     ]
    },
    {
     "name": "stderr",
     "output_type": "stream",
     "text": [
      "Training Epochs:  68%|██████▊   | 1368/2000 [00:35<00:14, 42.17it/s]"
     ]
    },
    {
     "name": "stdout",
     "output_type": "stream",
     "text": [
      "Epoch 1360/2000, Loss: 0.0937\n",
      "Test Accuracy at Epoch 1360: 76.58%\n",
      "Test F1-score at Epoch 1360: 0.7712\n",
      "Classification Report at Epoch 1360:\n",
      "                  precision    recall  f1-score   support\n",
      "\n",
      "    infringement       0.80      0.73      0.76       194\n",
      "non_infringement       0.74      0.81      0.77       186\n",
      "\n",
      "        accuracy                           0.77       380\n",
      "       macro avg       0.77      0.77      0.77       380\n",
      "    weighted avg       0.77      0.77      0.77       380\n",
      "\n"
     ]
    },
    {
     "name": "stderr",
     "output_type": "stream",
     "text": [
      "Training Epochs:  69%|██████▊   | 1373/2000 [00:36<00:14, 43.38it/s]"
     ]
    },
    {
     "name": "stdout",
     "output_type": "stream",
     "text": [
      "Epoch 1370/2000, Loss: 0.0937\n",
      "Test Accuracy at Epoch 1370: 76.58%\n",
      "Test F1-score at Epoch 1370: 0.7712\n",
      "Classification Report at Epoch 1370:\n",
      "                  precision    recall  f1-score   support\n",
      "\n",
      "    infringement       0.80      0.73      0.76       194\n",
      "non_infringement       0.74      0.81      0.77       186\n",
      "\n",
      "        accuracy                           0.77       380\n",
      "       macro avg       0.77      0.77      0.77       380\n",
      "    weighted avg       0.77      0.77      0.77       380\n",
      "\n"
     ]
    },
    {
     "name": "stderr",
     "output_type": "stream",
     "text": [
      "Training Epochs:  69%|██████▉   | 1389/2000 [00:36<00:13, 45.55it/s]"
     ]
    },
    {
     "name": "stdout",
     "output_type": "stream",
     "text": [
      "Epoch 1380/2000, Loss: 0.0931\n",
      "Test Accuracy at Epoch 1380: 76.05%\n",
      "Test F1-score at Epoch 1380: 0.7673\n",
      "Classification Report at Epoch 1380:\n",
      "                  precision    recall  f1-score   support\n",
      "\n",
      "    infringement       0.79      0.72      0.75       194\n",
      "non_infringement       0.73      0.81      0.77       186\n",
      "\n",
      "        accuracy                           0.76       380\n",
      "       macro avg       0.76      0.76      0.76       380\n",
      "    weighted avg       0.76      0.76      0.76       380\n",
      "\n",
      "Epoch 1390/2000, Loss: 0.0927\n"
     ]
    },
    {
     "name": "stderr",
     "output_type": "stream",
     "text": [
      "Training Epochs:  70%|██████▉   | 1394/2000 [00:36<00:15, 40.09it/s]"
     ]
    },
    {
     "name": "stdout",
     "output_type": "stream",
     "text": [
      "Test Accuracy at Epoch 1390: 75.79%\n",
      "Test F1-score at Epoch 1390: 0.7653\n",
      "Classification Report at Epoch 1390:\n",
      "                  precision    recall  f1-score   support\n",
      "\n",
      "    infringement       0.79      0.71      0.75       194\n",
      "non_infringement       0.73      0.81      0.77       186\n",
      "\n",
      "        accuracy                           0.76       380\n",
      "       macro avg       0.76      0.76      0.76       380\n",
      "    weighted avg       0.76      0.76      0.76       380\n",
      "\n"
     ]
    },
    {
     "name": "stderr",
     "output_type": "stream",
     "text": [
      "Training Epochs:  70%|███████   | 1406/2000 [00:36<00:13, 45.10it/s]"
     ]
    },
    {
     "name": "stdout",
     "output_type": "stream",
     "text": [
      "Epoch 1400/2000, Loss: 0.0927\n",
      "Test Accuracy at Epoch 1400: 76.05%\n",
      "Test F1-score at Epoch 1400: 0.7673\n",
      "Classification Report at Epoch 1400:\n",
      "                  precision    recall  f1-score   support\n",
      "\n",
      "    infringement       0.79      0.72      0.75       194\n",
      "non_infringement       0.73      0.81      0.77       186\n",
      "\n",
      "        accuracy                           0.76       380\n",
      "       macro avg       0.76      0.76      0.76       380\n",
      "    weighted avg       0.76      0.76      0.76       380\n",
      "\n"
     ]
    },
    {
     "name": "stderr",
     "output_type": "stream",
     "text": [
      "Training Epochs:  71%|███████   | 1417/2000 [00:37<00:13, 43.89it/s]"
     ]
    },
    {
     "name": "stdout",
     "output_type": "stream",
     "text": [
      "Epoch 1410/2000, Loss: 0.0926\n",
      "Test Accuracy at Epoch 1410: 76.05%\n",
      "Test F1-score at Epoch 1410: 0.7673\n",
      "Classification Report at Epoch 1410:\n",
      "                  precision    recall  f1-score   support\n",
      "\n",
      "    infringement       0.79      0.72      0.75       194\n",
      "non_infringement       0.73      0.81      0.77       186\n",
      "\n",
      "        accuracy                           0.76       380\n",
      "       macro avg       0.76      0.76      0.76       380\n",
      "    weighted avg       0.76      0.76      0.76       380\n",
      "\n"
     ]
    },
    {
     "name": "stderr",
     "output_type": "stream",
     "text": [
      "Training Epochs:  71%|███████   | 1422/2000 [00:37<00:13, 44.28it/s]"
     ]
    },
    {
     "name": "stdout",
     "output_type": "stream",
     "text": [
      "Epoch 1420/2000, Loss: 0.0926\n",
      "Test Accuracy at Epoch 1420: 76.32%\n",
      "Test F1-score at Epoch 1420: 0.7692\n",
      "Classification Report at Epoch 1420:\n",
      "                  precision    recall  f1-score   support\n",
      "\n",
      "    infringement       0.80      0.72      0.76       194\n",
      "non_infringement       0.74      0.81      0.77       186\n",
      "\n",
      "        accuracy                           0.76       380\n",
      "       macro avg       0.77      0.76      0.76       380\n",
      "    weighted avg       0.77      0.76      0.76       380\n",
      "\n"
     ]
    },
    {
     "name": "stderr",
     "output_type": "stream",
     "text": [
      "Training Epochs:  72%|███████▏  | 1439/2000 [00:37<00:12, 45.40it/s]"
     ]
    },
    {
     "name": "stdout",
     "output_type": "stream",
     "text": [
      "Epoch 1430/2000, Loss: 0.0925\n",
      "Test Accuracy at Epoch 1430: 76.58%\n",
      "Test F1-score at Epoch 1430: 0.7712\n",
      "Classification Report at Epoch 1430:\n",
      "                  precision    recall  f1-score   support\n",
      "\n",
      "    infringement       0.80      0.73      0.76       194\n",
      "non_infringement       0.74      0.81      0.77       186\n",
      "\n",
      "        accuracy                           0.77       380\n",
      "       macro avg       0.77      0.77      0.77       380\n",
      "    weighted avg       0.77      0.77      0.77       380\n",
      "\n"
     ]
    },
    {
     "name": "stderr",
     "output_type": "stream",
     "text": [
      "Training Epochs:  72%|███████▏  | 1444/2000 [00:37<00:12, 46.27it/s]"
     ]
    },
    {
     "name": "stdout",
     "output_type": "stream",
     "text": [
      "Epoch 1440/2000, Loss: 0.0925\n",
      "Test Accuracy at Epoch 1440: 76.32%\n",
      "Test F1-score at Epoch 1440: 0.7692\n",
      "Classification Report at Epoch 1440:\n",
      "                  precision    recall  f1-score   support\n",
      "\n",
      "    infringement       0.80      0.72      0.76       194\n",
      "non_infringement       0.74      0.81      0.77       186\n",
      "\n",
      "        accuracy                           0.76       380\n",
      "       macro avg       0.77      0.76      0.76       380\n",
      "    weighted avg       0.77      0.76      0.76       380\n",
      "\n"
     ]
    },
    {
     "name": "stderr",
     "output_type": "stream",
     "text": [
      "Training Epochs:  73%|███████▎  | 1454/2000 [00:37<00:12, 43.13it/s]"
     ]
    },
    {
     "name": "stdout",
     "output_type": "stream",
     "text": [
      "Epoch 1450/2000, Loss: 0.0925\n",
      "Test Accuracy at Epoch 1450: 76.58%\n",
      "Test F1-score at Epoch 1450: 0.7712\n",
      "Classification Report at Epoch 1450:\n",
      "                  precision    recall  f1-score   support\n",
      "\n",
      "    infringement       0.80      0.73      0.76       194\n",
      "non_infringement       0.74      0.81      0.77       186\n",
      "\n",
      "        accuracy                           0.77       380\n",
      "       macro avg       0.77      0.77      0.77       380\n",
      "    weighted avg       0.77      0.77      0.77       380\n",
      "\n",
      "Epoch 1460/2000, Loss: 0.0925\n",
      "Test Accuracy at Epoch 1460: 76.58%\n",
      "Test F1-score at Epoch 1460: 0.7724\n"
     ]
    },
    {
     "name": "stderr",
     "output_type": "stream",
     "text": [
      "Training Epochs:  73%|███████▎  | 1465/2000 [00:38<00:13, 40.25it/s]"
     ]
    },
    {
     "name": "stdout",
     "output_type": "stream",
     "text": [
      "Classification Report at Epoch 1460:\n",
      "                  precision    recall  f1-score   support\n",
      "\n",
      "    infringement       0.80      0.72      0.76       194\n",
      "non_infringement       0.74      0.81      0.77       186\n",
      "\n",
      "        accuracy                           0.77       380\n",
      "       macro avg       0.77      0.77      0.77       380\n",
      "    weighted avg       0.77      0.77      0.77       380\n",
      "\n"
     ]
    },
    {
     "name": "stderr",
     "output_type": "stream",
     "text": [
      "Training Epochs:  74%|███████▍  | 1476/2000 [00:38<00:11, 45.40it/s]"
     ]
    },
    {
     "name": "stdout",
     "output_type": "stream",
     "text": [
      "Epoch 1470/2000, Loss: 0.0925\n",
      "Test Accuracy at Epoch 1470: 76.84%\n",
      "Test F1-score at Epoch 1470: 0.7744\n",
      "Classification Report at Epoch 1470:\n",
      "                  precision    recall  f1-score   support\n",
      "\n",
      "    infringement       0.80      0.73      0.76       194\n",
      "non_infringement       0.74      0.81      0.77       186\n",
      "\n",
      "        accuracy                           0.77       380\n",
      "       macro avg       0.77      0.77      0.77       380\n",
      "    weighted avg       0.77      0.77      0.77       380\n",
      "\n"
     ]
    },
    {
     "name": "stderr",
     "output_type": "stream",
     "text": [
      "Training Epochs:  74%|███████▍  | 1487/2000 [00:38<00:11, 44.19it/s]"
     ]
    },
    {
     "name": "stdout",
     "output_type": "stream",
     "text": [
      "Epoch 1480/2000, Loss: 0.0924\n",
      "Test Accuracy at Epoch 1480: 76.84%\n",
      "Test F1-score at Epoch 1480: 0.7744\n",
      "Classification Report at Epoch 1480:\n",
      "                  precision    recall  f1-score   support\n",
      "\n",
      "    infringement       0.80      0.73      0.76       194\n",
      "non_infringement       0.74      0.81      0.77       186\n",
      "\n",
      "        accuracy                           0.77       380\n",
      "       macro avg       0.77      0.77      0.77       380\n",
      "    weighted avg       0.77      0.77      0.77       380\n",
      "\n"
     ]
    },
    {
     "name": "stderr",
     "output_type": "stream",
     "text": [
      "Training Epochs:  75%|███████▍  | 1497/2000 [00:38<00:10, 46.02it/s]"
     ]
    },
    {
     "name": "stdout",
     "output_type": "stream",
     "text": [
      "Epoch 1490/2000, Loss: 0.0924\n",
      "Test Accuracy at Epoch 1490: 76.84%\n",
      "Test F1-score at Epoch 1490: 0.7744\n",
      "Classification Report at Epoch 1490:\n",
      "                  precision    recall  f1-score   support\n",
      "\n",
      "    infringement       0.80      0.73      0.76       194\n",
      "non_infringement       0.74      0.81      0.77       186\n",
      "\n",
      "        accuracy                           0.77       380\n",
      "       macro avg       0.77      0.77      0.77       380\n",
      "    weighted avg       0.77      0.77      0.77       380\n",
      "\n"
     ]
    },
    {
     "name": "stderr",
     "output_type": "stream",
     "text": [
      "Training Epochs:  75%|███████▌  | 1508/2000 [00:39<00:10, 44.95it/s]"
     ]
    },
    {
     "name": "stdout",
     "output_type": "stream",
     "text": [
      "Epoch 1500/2000, Loss: 0.0924\n",
      "Test Accuracy at Epoch 1500: 76.84%\n",
      "Test F1-score at Epoch 1500: 0.7744\n",
      "Classification Report at Epoch 1500:\n",
      "                  precision    recall  f1-score   support\n",
      "\n",
      "    infringement       0.80      0.73      0.76       194\n",
      "non_infringement       0.74      0.81      0.77       186\n",
      "\n",
      "        accuracy                           0.77       380\n",
      "       macro avg       0.77      0.77      0.77       380\n",
      "    weighted avg       0.77      0.77      0.77       380\n",
      "\n",
      "Epoch 1510/2000, Loss: 0.0924\n"
     ]
    },
    {
     "name": "stderr",
     "output_type": "stream",
     "text": [
      "Training Epochs:  76%|███████▌  | 1513/2000 [00:39<00:10, 45.58it/s]"
     ]
    },
    {
     "name": "stdout",
     "output_type": "stream",
     "text": [
      "Test Accuracy at Epoch 1510: 76.84%\n",
      "Test F1-score at Epoch 1510: 0.7744\n",
      "Classification Report at Epoch 1510:\n",
      "                  precision    recall  f1-score   support\n",
      "\n",
      "    infringement       0.80      0.73      0.76       194\n",
      "non_infringement       0.74      0.81      0.77       186\n",
      "\n",
      "        accuracy                           0.77       380\n",
      "       macro avg       0.77      0.77      0.77       380\n",
      "    weighted avg       0.77      0.77      0.77       380\n",
      "\n"
     ]
    },
    {
     "name": "stderr",
     "output_type": "stream",
     "text": [
      "Training Epochs:  76%|███████▋  | 1529/2000 [00:39<00:10, 47.08it/s]"
     ]
    },
    {
     "name": "stdout",
     "output_type": "stream",
     "text": [
      "Epoch 1520/2000, Loss: 0.0924\n",
      "Test Accuracy at Epoch 1520: 76.84%\n",
      "Test F1-score at Epoch 1520: 0.7744\n",
      "Classification Report at Epoch 1520:\n",
      "                  precision    recall  f1-score   support\n",
      "\n",
      "    infringement       0.80      0.73      0.76       194\n",
      "non_infringement       0.74      0.81      0.77       186\n",
      "\n",
      "        accuracy                           0.77       380\n",
      "       macro avg       0.77      0.77      0.77       380\n",
      "    weighted avg       0.77      0.77      0.77       380\n",
      "\n",
      "Epoch 1530/2000, Loss: 0.0924\n",
      "Test Accuracy at Epoch 1530: 76.32%\n",
      "Test F1-score at Epoch 1530: 0.7704\n"
     ]
    },
    {
     "name": "stderr",
     "output_type": "stream",
     "text": [
      "Training Epochs:  77%|███████▋  | 1534/2000 [00:39<00:11, 41.28it/s]"
     ]
    },
    {
     "name": "stdout",
     "output_type": "stream",
     "text": [
      "Classification Report at Epoch 1530:\n",
      "                  precision    recall  f1-score   support\n",
      "\n",
      "    infringement       0.80      0.72      0.76       194\n",
      "non_infringement       0.73      0.81      0.77       186\n",
      "\n",
      "        accuracy                           0.76       380\n",
      "       macro avg       0.77      0.76      0.76       380\n",
      "    weighted avg       0.77      0.76      0.76       380\n",
      "\n"
     ]
    },
    {
     "name": "stderr",
     "output_type": "stream",
     "text": [
      "Training Epochs:  77%|███████▋  | 1546/2000 [00:40<00:10, 44.99it/s]"
     ]
    },
    {
     "name": "stdout",
     "output_type": "stream",
     "text": [
      "Epoch 1540/2000, Loss: 0.0923\n",
      "Test Accuracy at Epoch 1540: 76.32%\n",
      "Test F1-score at Epoch 1540: 0.7704\n",
      "Classification Report at Epoch 1540:\n",
      "                  precision    recall  f1-score   support\n",
      "\n",
      "    infringement       0.80      0.72      0.76       194\n",
      "non_infringement       0.73      0.81      0.77       186\n",
      "\n",
      "        accuracy                           0.76       380\n",
      "       macro avg       0.77      0.76      0.76       380\n",
      "    weighted avg       0.77      0.76      0.76       380\n",
      "\n"
     ]
    },
    {
     "name": "stderr",
     "output_type": "stream",
     "text": [
      "Training Epochs:  78%|███████▊  | 1557/2000 [00:40<00:10, 43.32it/s]"
     ]
    },
    {
     "name": "stdout",
     "output_type": "stream",
     "text": [
      "Epoch 1550/2000, Loss: 0.0923\n",
      "Test Accuracy at Epoch 1550: 76.32%\n",
      "Test F1-score at Epoch 1550: 0.7704\n",
      "Classification Report at Epoch 1550:\n",
      "                  precision    recall  f1-score   support\n",
      "\n",
      "    infringement       0.80      0.72      0.76       194\n",
      "non_infringement       0.73      0.81      0.77       186\n",
      "\n",
      "        accuracy                           0.76       380\n",
      "       macro avg       0.77      0.76      0.76       380\n",
      "    weighted avg       0.77      0.76      0.76       380\n",
      "\n",
      "Epoch 1560/2000, Loss: 0.0923\n"
     ]
    },
    {
     "name": "stderr",
     "output_type": "stream",
     "text": [
      "Training Epochs:  78%|███████▊  | 1567/2000 [00:40<00:10, 40.09it/s]"
     ]
    },
    {
     "name": "stdout",
     "output_type": "stream",
     "text": [
      "Test Accuracy at Epoch 1560: 76.32%\n",
      "Test F1-score at Epoch 1560: 0.7704\n",
      "Classification Report at Epoch 1560:\n",
      "                  precision    recall  f1-score   support\n",
      "\n",
      "    infringement       0.80      0.72      0.76       194\n",
      "non_infringement       0.73      0.81      0.77       186\n",
      "\n",
      "        accuracy                           0.76       380\n",
      "       macro avg       0.77      0.76      0.76       380\n",
      "    weighted avg       0.77      0.76      0.76       380\n",
      "\n"
     ]
    },
    {
     "name": "stderr",
     "output_type": "stream",
     "text": [
      "Training Epochs:  79%|███████▉  | 1578/2000 [00:40<00:09, 44.95it/s]"
     ]
    },
    {
     "name": "stdout",
     "output_type": "stream",
     "text": [
      "Epoch 1570/2000, Loss: 0.0923\n",
      "Test Accuracy at Epoch 1570: 76.05%\n",
      "Test F1-score at Epoch 1570: 0.7684\n",
      "Classification Report at Epoch 1570:\n",
      "                  precision    recall  f1-score   support\n",
      "\n",
      "    infringement       0.80      0.71      0.75       194\n",
      "non_infringement       0.73      0.81      0.77       186\n",
      "\n",
      "        accuracy                           0.76       380\n",
      "       macro avg       0.76      0.76      0.76       380\n",
      "    weighted avg       0.76      0.76      0.76       380\n",
      "\n"
     ]
    },
    {
     "name": "stderr",
     "output_type": "stream",
     "text": [
      "Training Epochs:  79%|███████▉  | 1583/2000 [00:40<00:10, 38.98it/s]"
     ]
    },
    {
     "name": "stdout",
     "output_type": "stream",
     "text": [
      "Epoch 1580/2000, Loss: 0.0923\n",
      "Test Accuracy at Epoch 1580: 76.05%\n",
      "Test F1-score at Epoch 1580: 0.7684\n",
      "Classification Report at Epoch 1580:\n",
      "                  precision    recall  f1-score   support\n",
      "\n",
      "    infringement       0.80      0.71      0.75       194\n",
      "non_infringement       0.73      0.81      0.77       186\n",
      "\n",
      "        accuracy                           0.76       380\n",
      "       macro avg       0.76      0.76      0.76       380\n",
      "    weighted avg       0.76      0.76      0.76       380\n",
      "\n"
     ]
    },
    {
     "name": "stderr",
     "output_type": "stream",
     "text": [
      "Training Epochs:  80%|███████▉  | 1594/2000 [00:41<00:10, 38.85it/s]"
     ]
    },
    {
     "name": "stdout",
     "output_type": "stream",
     "text": [
      "Epoch 1590/2000, Loss: 0.0923\n",
      "Test Accuracy at Epoch 1590: 76.05%\n",
      "Test F1-score at Epoch 1590: 0.7684\n",
      "Classification Report at Epoch 1590:\n",
      "                  precision    recall  f1-score   support\n",
      "\n",
      "    infringement       0.80      0.71      0.75       194\n",
      "non_infringement       0.73      0.81      0.77       186\n",
      "\n",
      "        accuracy                           0.76       380\n",
      "       macro avg       0.76      0.76      0.76       380\n",
      "    weighted avg       0.76      0.76      0.76       380\n",
      "\n"
     ]
    },
    {
     "name": "stderr",
     "output_type": "stream",
     "text": [
      "Training Epochs:  80%|████████  | 1605/2000 [00:41<00:09, 41.26it/s]"
     ]
    },
    {
     "name": "stdout",
     "output_type": "stream",
     "text": [
      "Epoch 1600/2000, Loss: 0.0923\n",
      "Test Accuracy at Epoch 1600: 75.53%\n",
      "Test F1-score at Epoch 1600: 0.7646\n",
      "Classification Report at Epoch 1600:\n",
      "                  precision    recall  f1-score   support\n",
      "\n",
      "    infringement       0.80      0.70      0.75       194\n",
      "non_infringement       0.72      0.81      0.76       186\n",
      "\n",
      "        accuracy                           0.76       380\n",
      "       macro avg       0.76      0.76      0.75       380\n",
      "    weighted avg       0.76      0.76      0.75       380\n",
      "\n",
      "Epoch 1610/2000, Loss: 0.0923\n",
      "Test Accuracy at Epoch 1610: 75.53%\n",
      "Test F1-score at Epoch 1610: 0.7646\n",
      "Classification Report at Epoch 1610:\n",
      "                  precision    recall  f1-score   support\n",
      "\n",
      "    infringement       0.80      0.70      0.75       194\n",
      "non_infringement       0.72      0.81      0.76       186\n",
      "\n",
      "        accuracy                           0.76       380\n",
      "       macro avg       0.76      0.76      0.75       380\n",
      "    weighted avg       0.76      0.76      0.75       380\n",
      "\n"
     ]
    },
    {
     "name": "stderr",
     "output_type": "stream",
     "text": [
      "Training Epochs:  81%|████████▏ | 1627/2000 [00:42<00:08, 45.73it/s]"
     ]
    },
    {
     "name": "stdout",
     "output_type": "stream",
     "text": [
      "Epoch 1620/2000, Loss: 0.0923\n",
      "Test Accuracy at Epoch 1620: 75.53%\n",
      "Test F1-score at Epoch 1620: 0.7646\n",
      "Classification Report at Epoch 1620:\n",
      "                  precision    recall  f1-score   support\n",
      "\n",
      "    infringement       0.80      0.70      0.75       194\n",
      "non_infringement       0.72      0.81      0.76       186\n",
      "\n",
      "        accuracy                           0.76       380\n",
      "       macro avg       0.76      0.76      0.75       380\n",
      "    weighted avg       0.76      0.76      0.75       380\n",
      "\n",
      "Epoch 1630/2000, Loss: 0.0922\n",
      "Test Accuracy at Epoch 1630: 74.74%\n",
      "Test F1-score at Epoch 1630: 0.7588\n"
     ]
    },
    {
     "name": "stderr",
     "output_type": "stream",
     "text": [
      "Training Epochs:  82%|████████▏ | 1632/2000 [00:42<00:09, 40.49it/s]"
     ]
    },
    {
     "name": "stdout",
     "output_type": "stream",
     "text": [
      "Classification Report at Epoch 1630:\n",
      "                  precision    recall  f1-score   support\n",
      "\n",
      "    infringement       0.79      0.69      0.73       194\n",
      "non_infringement       0.71      0.81      0.76       186\n",
      "\n",
      "        accuracy                           0.75       380\n",
      "       macro avg       0.75      0.75      0.75       380\n",
      "    weighted avg       0.75      0.75      0.75       380\n",
      "\n"
     ]
    },
    {
     "name": "stderr",
     "output_type": "stream",
     "text": [
      "Training Epochs:  82%|████████▏ | 1644/2000 [00:42<00:07, 46.44it/s]"
     ]
    },
    {
     "name": "stdout",
     "output_type": "stream",
     "text": [
      "Epoch 1640/2000, Loss: 0.0949\n",
      "Test Accuracy at Epoch 1640: 72.11%\n",
      "Test F1-score at Epoch 1640: 0.7452\n",
      "Classification Report at Epoch 1640:\n",
      "                  precision    recall  f1-score   support\n",
      "\n",
      "    infringement       0.79      0.61      0.69       194\n",
      "non_infringement       0.67      0.83      0.75       186\n",
      "\n",
      "        accuracy                           0.72       380\n",
      "       macro avg       0.73      0.72      0.72       380\n",
      "    weighted avg       0.73      0.72      0.72       380\n",
      "\n",
      "Epoch 1650/2000, Loss: 0.0939\n"
     ]
    },
    {
     "name": "stderr",
     "output_type": "stream",
     "text": [
      "Training Epochs:  83%|████████▎ | 1655/2000 [00:42<00:07, 46.06it/s]"
     ]
    },
    {
     "name": "stdout",
     "output_type": "stream",
     "text": [
      "Test Accuracy at Epoch 1650: 74.21%\n",
      "Test F1-score at Epoch 1650: 0.7598\n",
      "Classification Report at Epoch 1650:\n",
      "                  precision    recall  f1-score   support\n",
      "\n",
      "    infringement       0.80      0.65      0.72       194\n",
      "non_infringement       0.70      0.83      0.76       186\n",
      "\n",
      "        accuracy                           0.74       380\n",
      "       macro avg       0.75      0.74      0.74       380\n",
      "    weighted avg       0.75      0.74      0.74       380\n",
      "\n"
     ]
    },
    {
     "name": "stderr",
     "output_type": "stream",
     "text": [
      "Training Epochs:  83%|████████▎ | 1666/2000 [00:42<00:06, 48.82it/s]"
     ]
    },
    {
     "name": "stdout",
     "output_type": "stream",
     "text": [
      "Epoch 1660/2000, Loss: 0.0931\n",
      "Test Accuracy at Epoch 1660: 75.26%\n",
      "Test F1-score at Epoch 1660: 0.7673\n",
      "Classification Report at Epoch 1660:\n",
      "                  precision    recall  f1-score   support\n",
      "\n",
      "    infringement       0.81      0.68      0.74       194\n",
      "non_infringement       0.71      0.83      0.77       186\n",
      "\n",
      "        accuracy                           0.75       380\n",
      "       macro avg       0.76      0.75      0.75       380\n",
      "    weighted avg       0.76      0.75      0.75       380\n",
      "\n"
     ]
    },
    {
     "name": "stderr",
     "output_type": "stream",
     "text": [
      "Training Epochs:  84%|████████▍ | 1677/2000 [00:43<00:07, 44.08it/s]"
     ]
    },
    {
     "name": "stdout",
     "output_type": "stream",
     "text": [
      "Epoch 1670/2000, Loss: 0.0923\n",
      "Test Accuracy at Epoch 1670: 75.26%\n",
      "Test F1-score at Epoch 1670: 0.7673\n",
      "Classification Report at Epoch 1670:\n",
      "                  precision    recall  f1-score   support\n",
      "\n",
      "    infringement       0.81      0.68      0.74       194\n",
      "non_infringement       0.71      0.83      0.77       186\n",
      "\n",
      "        accuracy                           0.75       380\n",
      "       macro avg       0.76      0.75      0.75       380\n",
      "    weighted avg       0.76      0.75      0.75       380\n",
      "\n",
      "Epoch 1680/2000, Loss: 0.0924\n"
     ]
    },
    {
     "name": "stderr",
     "output_type": "stream",
     "text": [
      "Training Epochs:  84%|████████▍ | 1687/2000 [00:43<00:07, 40.79it/s]"
     ]
    },
    {
     "name": "stdout",
     "output_type": "stream",
     "text": [
      "Test Accuracy at Epoch 1680: 74.47%\n",
      "Test F1-score at Epoch 1680: 0.7617\n",
      "Classification Report at Epoch 1680:\n",
      "                  precision    recall  f1-score   support\n",
      "\n",
      "    infringement       0.81      0.66      0.73       194\n",
      "non_infringement       0.70      0.83      0.76       186\n",
      "\n",
      "        accuracy                           0.74       380\n",
      "       macro avg       0.75      0.75      0.74       380\n",
      "    weighted avg       0.75      0.74      0.74       380\n",
      "\n"
     ]
    },
    {
     "name": "stderr",
     "output_type": "stream",
     "text": [
      "Training Epochs:  85%|████████▍ | 1698/2000 [00:43<00:06, 46.22it/s]"
     ]
    },
    {
     "name": "stdout",
     "output_type": "stream",
     "text": [
      "Epoch 1690/2000, Loss: 0.0923\n",
      "Test Accuracy at Epoch 1690: 74.47%\n",
      "Test F1-score at Epoch 1690: 0.7617\n",
      "Classification Report at Epoch 1690:\n",
      "                  precision    recall  f1-score   support\n",
      "\n",
      "    infringement       0.81      0.66      0.73       194\n",
      "non_infringement       0.70      0.83      0.76       186\n",
      "\n",
      "        accuracy                           0.74       380\n",
      "       macro avg       0.75      0.75      0.74       380\n",
      "    weighted avg       0.75      0.74      0.74       380\n",
      "\n",
      "Epoch 1700/2000, Loss: 0.0923\n",
      "Test Accuracy at Epoch 1700: 75.26%\n",
      "Test F1-score at Epoch 1700: 0.7673\n"
     ]
    },
    {
     "name": "stderr",
     "output_type": "stream",
     "text": [
      "Training Epochs:  85%|████████▌ | 1703/2000 [00:43<00:07, 41.75it/s]"
     ]
    },
    {
     "name": "stdout",
     "output_type": "stream",
     "text": [
      "Classification Report at Epoch 1700:\n",
      "                  precision    recall  f1-score   support\n",
      "\n",
      "    infringement       0.81      0.68      0.74       194\n",
      "non_infringement       0.71      0.83      0.77       186\n",
      "\n",
      "        accuracy                           0.75       380\n",
      "       macro avg       0.76      0.75      0.75       380\n",
      "    weighted avg       0.76      0.75      0.75       380\n",
      "\n"
     ]
    },
    {
     "name": "stderr",
     "output_type": "stream",
     "text": [
      "Training Epochs:  86%|████████▌ | 1719/2000 [00:44<00:06, 46.81it/s]"
     ]
    },
    {
     "name": "stdout",
     "output_type": "stream",
     "text": [
      "Epoch 1710/2000, Loss: 0.0922\n",
      "Test Accuracy at Epoch 1710: 75.26%\n",
      "Test F1-score at Epoch 1710: 0.7673\n",
      "Classification Report at Epoch 1710:\n",
      "                  precision    recall  f1-score   support\n",
      "\n",
      "    infringement       0.81      0.68      0.74       194\n",
      "non_infringement       0.71      0.83      0.77       186\n",
      "\n",
      "        accuracy                           0.75       380\n",
      "       macro avg       0.76      0.75      0.75       380\n",
      "    weighted avg       0.76      0.75      0.75       380\n",
      "\n"
     ]
    },
    {
     "name": "stderr",
     "output_type": "stream",
     "text": [
      "Training Epochs:  86%|████████▌ | 1724/2000 [00:44<00:06, 40.25it/s]"
     ]
    },
    {
     "name": "stdout",
     "output_type": "stream",
     "text": [
      "Epoch 1720/2000, Loss: 0.0922\n",
      "Test Accuracy at Epoch 1720: 74.47%\n",
      "Test F1-score at Epoch 1720: 0.7617\n",
      "Classification Report at Epoch 1720:\n",
      "                  precision    recall  f1-score   support\n",
      "\n",
      "    infringement       0.81      0.66      0.73       194\n",
      "non_infringement       0.70      0.83      0.76       186\n",
      "\n",
      "        accuracy                           0.74       380\n",
      "       macro avg       0.75      0.75      0.74       380\n",
      "    weighted avg       0.75      0.74      0.74       380\n",
      "\n"
     ]
    },
    {
     "name": "stderr",
     "output_type": "stream",
     "text": [
      "Training Epochs:  87%|████████▋ | 1736/2000 [00:44<00:05, 45.50it/s]"
     ]
    },
    {
     "name": "stdout",
     "output_type": "stream",
     "text": [
      "Epoch 1730/2000, Loss: 0.0922\n",
      "Test Accuracy at Epoch 1730: 75.26%\n",
      "Test F1-score at Epoch 1730: 0.7673\n",
      "Classification Report at Epoch 1730:\n",
      "                  precision    recall  f1-score   support\n",
      "\n",
      "    infringement       0.81      0.68      0.74       194\n",
      "non_infringement       0.71      0.83      0.77       186\n",
      "\n",
      "        accuracy                           0.75       380\n",
      "       macro avg       0.76      0.75      0.75       380\n",
      "    weighted avg       0.76      0.75      0.75       380\n",
      "\n"
     ]
    },
    {
     "name": "stderr",
     "output_type": "stream",
     "text": [
      "Training Epochs:  87%|████████▋ | 1747/2000 [00:44<00:05, 44.36it/s]"
     ]
    },
    {
     "name": "stdout",
     "output_type": "stream",
     "text": [
      "Epoch 1740/2000, Loss: 0.0922\n",
      "Test Accuracy at Epoch 1740: 75.00%\n",
      "Test F1-score at Epoch 1740: 0.7654\n",
      "Classification Report at Epoch 1740:\n",
      "                  precision    recall  f1-score   support\n",
      "\n",
      "    infringement       0.81      0.67      0.73       194\n",
      "non_infringement       0.71      0.83      0.77       186\n",
      "\n",
      "        accuracy                           0.75       380\n",
      "       macro avg       0.76      0.75      0.75       380\n",
      "    weighted avg       0.76      0.75      0.75       380\n",
      "\n",
      "Epoch 1750/2000, Loss: 0.0922\n"
     ]
    },
    {
     "name": "stderr",
     "output_type": "stream",
     "text": [
      "Training Epochs:  88%|████████▊ | 1757/2000 [00:45<00:05, 41.20it/s]"
     ]
    },
    {
     "name": "stdout",
     "output_type": "stream",
     "text": [
      "Test Accuracy at Epoch 1750: 75.26%\n",
      "Test F1-score at Epoch 1750: 0.7673\n",
      "Classification Report at Epoch 1750:\n",
      "                  precision    recall  f1-score   support\n",
      "\n",
      "    infringement       0.81      0.68      0.74       194\n",
      "non_infringement       0.71      0.83      0.77       186\n",
      "\n",
      "        accuracy                           0.75       380\n",
      "       macro avg       0.76      0.75      0.75       380\n",
      "    weighted avg       0.76      0.75      0.75       380\n",
      "\n"
     ]
    },
    {
     "name": "stderr",
     "output_type": "stream",
     "text": [
      "Training Epochs:  88%|████████▊ | 1768/2000 [00:45<00:05, 46.18it/s]"
     ]
    },
    {
     "name": "stdout",
     "output_type": "stream",
     "text": [
      "Epoch 1760/2000, Loss: 0.0922\n",
      "Test Accuracy at Epoch 1760: 75.00%\n",
      "Test F1-score at Epoch 1760: 0.7654\n",
      "Classification Report at Epoch 1760:\n",
      "                  precision    recall  f1-score   support\n",
      "\n",
      "    infringement       0.81      0.67      0.73       194\n",
      "non_infringement       0.71      0.83      0.77       186\n",
      "\n",
      "        accuracy                           0.75       380\n",
      "       macro avg       0.76      0.75      0.75       380\n",
      "    weighted avg       0.76      0.75      0.75       380\n",
      "\n",
      "Epoch 1770/2000, Loss: 0.0922\n"
     ]
    },
    {
     "name": "stderr",
     "output_type": "stream",
     "text": [
      "Training Epochs:  89%|████████▊ | 1773/2000 [00:45<00:05, 41.26it/s]"
     ]
    },
    {
     "name": "stdout",
     "output_type": "stream",
     "text": [
      "Test Accuracy at Epoch 1770: 75.26%\n",
      "Test F1-score at Epoch 1770: 0.7673\n",
      "Classification Report at Epoch 1770:\n",
      "                  precision    recall  f1-score   support\n",
      "\n",
      "    infringement       0.81      0.68      0.74       194\n",
      "non_infringement       0.71      0.83      0.77       186\n",
      "\n",
      "        accuracy                           0.75       380\n",
      "       macro avg       0.76      0.75      0.75       380\n",
      "    weighted avg       0.76      0.75      0.75       380\n",
      "\n"
     ]
    },
    {
     "name": "stderr",
     "output_type": "stream",
     "text": [
      "Training Epochs:  89%|████████▉ | 1784/2000 [00:45<00:04, 44.53it/s]"
     ]
    },
    {
     "name": "stdout",
     "output_type": "stream",
     "text": [
      "Epoch 1780/2000, Loss: 0.0922\n",
      "Test Accuracy at Epoch 1780: 76.32%\n",
      "Test F1-score at Epoch 1780: 0.7704\n",
      "Classification Report at Epoch 1780:\n",
      "                  precision    recall  f1-score   support\n",
      "\n",
      "    infringement       0.80      0.72      0.76       194\n",
      "non_infringement       0.73      0.81      0.77       186\n",
      "\n",
      "        accuracy                           0.76       380\n",
      "       macro avg       0.77      0.76      0.76       380\n",
      "    weighted avg       0.77      0.76      0.76       380\n",
      "\n"
     ]
    },
    {
     "name": "stderr",
     "output_type": "stream",
     "text": [
      "Training Epochs:  90%|████████▉ | 1794/2000 [00:45<00:04, 42.28it/s]"
     ]
    },
    {
     "name": "stdout",
     "output_type": "stream",
     "text": [
      "Epoch 1790/2000, Loss: 0.0922\n",
      "Test Accuracy at Epoch 1790: 76.32%\n",
      "Test F1-score at Epoch 1790: 0.7704\n",
      "Classification Report at Epoch 1790:\n",
      "                  precision    recall  f1-score   support\n",
      "\n",
      "    infringement       0.80      0.72      0.76       194\n",
      "non_infringement       0.73      0.81      0.77       186\n",
      "\n",
      "        accuracy                           0.76       380\n",
      "       macro avg       0.77      0.76      0.76       380\n",
      "    weighted avg       0.77      0.76      0.76       380\n",
      "\n"
     ]
    },
    {
     "name": "stderr",
     "output_type": "stream",
     "text": [
      "Training Epochs:  90%|█████████ | 1805/2000 [00:46<00:04, 40.01it/s]"
     ]
    },
    {
     "name": "stdout",
     "output_type": "stream",
     "text": [
      "Epoch 1800/2000, Loss: 0.0922\n",
      "Test Accuracy at Epoch 1800: 76.32%\n",
      "Test F1-score at Epoch 1800: 0.7704\n",
      "Classification Report at Epoch 1800:\n",
      "                  precision    recall  f1-score   support\n",
      "\n",
      "    infringement       0.80      0.72      0.76       194\n",
      "non_infringement       0.73      0.81      0.77       186\n",
      "\n",
      "        accuracy                           0.76       380\n",
      "       macro avg       0.77      0.76      0.76       380\n",
      "    weighted avg       0.77      0.76      0.76       380\n",
      "\n"
     ]
    },
    {
     "name": "stderr",
     "output_type": "stream",
     "text": [
      "Training Epochs:  91%|█████████ | 1816/2000 [00:46<00:03, 46.25it/s]"
     ]
    },
    {
     "name": "stdout",
     "output_type": "stream",
     "text": [
      "Epoch 1810/2000, Loss: 0.0922\n",
      "Test Accuracy at Epoch 1810: 76.05%\n",
      "Test F1-score at Epoch 1810: 0.7684\n",
      "Classification Report at Epoch 1810:\n",
      "                  precision    recall  f1-score   support\n",
      "\n",
      "    infringement       0.80      0.71      0.75       194\n",
      "non_infringement       0.73      0.81      0.77       186\n",
      "\n",
      "        accuracy                           0.76       380\n",
      "       macro avg       0.76      0.76      0.76       380\n",
      "    weighted avg       0.76      0.76      0.76       380\n",
      "\n",
      "Epoch 1820/2000, Loss: 0.0922\n",
      "Test Accuracy at Epoch 1820: 76.05%\n",
      "Test F1-score at Epoch 1820: 0.7684\n",
      "Classification Report at Epoch 1820:\n",
      "                  precision    recall  f1-score   support\n",
      "\n",
      "    infringement       0.80      0.71      0.75       194\n",
      "non_infringement       0.73      0.81      0.77       186\n",
      "\n",
      "        accuracy                           0.76       380\n",
      "       macro avg       0.76      0.76      0.76       380\n",
      "    weighted avg       0.76      0.76      0.76       380\n",
      "\n"
     ]
    },
    {
     "name": "stderr",
     "output_type": "stream",
     "text": [
      "Training Epochs:  92%|█████████▏| 1838/2000 [00:46<00:03, 48.00it/s]"
     ]
    },
    {
     "name": "stdout",
     "output_type": "stream",
     "text": [
      "Epoch 1830/2000, Loss: 0.0921\n",
      "Test Accuracy at Epoch 1830: 76.05%\n",
      "Test F1-score at Epoch 1830: 0.7684\n",
      "Classification Report at Epoch 1830:\n",
      "                  precision    recall  f1-score   support\n",
      "\n",
      "    infringement       0.80      0.71      0.75       194\n",
      "non_infringement       0.73      0.81      0.77       186\n",
      "\n",
      "        accuracy                           0.76       380\n",
      "       macro avg       0.76      0.76      0.76       380\n",
      "    weighted avg       0.76      0.76      0.76       380\n",
      "\n",
      "Epoch 1840/2000, Loss: 0.0921\n"
     ]
    },
    {
     "name": "stderr",
     "output_type": "stream",
     "text": [
      "Training Epochs:  92%|█████████▏| 1843/2000 [00:46<00:03, 42.23it/s]"
     ]
    },
    {
     "name": "stdout",
     "output_type": "stream",
     "text": [
      "Test Accuracy at Epoch 1840: 76.05%\n",
      "Test F1-score at Epoch 1840: 0.7684\n",
      "Classification Report at Epoch 1840:\n",
      "                  precision    recall  f1-score   support\n",
      "\n",
      "    infringement       0.80      0.71      0.75       194\n",
      "non_infringement       0.73      0.81      0.77       186\n",
      "\n",
      "        accuracy                           0.76       380\n",
      "       macro avg       0.76      0.76      0.76       380\n",
      "    weighted avg       0.76      0.76      0.76       380\n",
      "\n"
     ]
    },
    {
     "name": "stderr",
     "output_type": "stream",
     "text": [
      "Training Epochs:  93%|█████████▎| 1854/2000 [00:47<00:03, 44.64it/s]"
     ]
    },
    {
     "name": "stdout",
     "output_type": "stream",
     "text": [
      "Epoch 1850/2000, Loss: 0.0921\n",
      "Test Accuracy at Epoch 1850: 76.05%\n",
      "Test F1-score at Epoch 1850: 0.7684\n",
      "Classification Report at Epoch 1850:\n",
      "                  precision    recall  f1-score   support\n",
      "\n",
      "    infringement       0.80      0.71      0.75       194\n",
      "non_infringement       0.73      0.81      0.77       186\n",
      "\n",
      "        accuracy                           0.76       380\n",
      "       macro avg       0.76      0.76      0.76       380\n",
      "    weighted avg       0.76      0.76      0.76       380\n",
      "\n"
     ]
    },
    {
     "name": "stderr",
     "output_type": "stream",
     "text": [
      "Training Epochs:  93%|█████████▎| 1864/2000 [00:47<00:03, 39.79it/s]"
     ]
    },
    {
     "name": "stdout",
     "output_type": "stream",
     "text": [
      "Epoch 1860/2000, Loss: 0.0921\n",
      "Test Accuracy at Epoch 1860: 76.05%\n",
      "Test F1-score at Epoch 1860: 0.7684\n",
      "Classification Report at Epoch 1860:\n",
      "                  precision    recall  f1-score   support\n",
      "\n",
      "    infringement       0.80      0.71      0.75       194\n",
      "non_infringement       0.73      0.81      0.77       186\n",
      "\n",
      "        accuracy                           0.76       380\n",
      "       macro avg       0.76      0.76      0.76       380\n",
      "    weighted avg       0.76      0.76      0.76       380\n",
      "\n"
     ]
    },
    {
     "name": "stderr",
     "output_type": "stream",
     "text": [
      "Training Epochs:  94%|█████████▍| 1875/2000 [00:47<00:03, 39.44it/s]"
     ]
    },
    {
     "name": "stdout",
     "output_type": "stream",
     "text": [
      "Epoch 1870/2000, Loss: 0.0921\n",
      "Test Accuracy at Epoch 1870: 76.05%\n",
      "Test F1-score at Epoch 1870: 0.7684\n",
      "Classification Report at Epoch 1870:\n",
      "                  precision    recall  f1-score   support\n",
      "\n",
      "    infringement       0.80      0.71      0.75       194\n",
      "non_infringement       0.73      0.81      0.77       186\n",
      "\n",
      "        accuracy                           0.76       380\n",
      "       macro avg       0.76      0.76      0.76       380\n",
      "    weighted avg       0.76      0.76      0.76       380\n",
      "\n"
     ]
    },
    {
     "name": "stderr",
     "output_type": "stream",
     "text": [
      "Training Epochs:  94%|█████████▍| 1886/2000 [00:47<00:02, 44.73it/s]"
     ]
    },
    {
     "name": "stdout",
     "output_type": "stream",
     "text": [
      "Epoch 1880/2000, Loss: 0.0921\n",
      "Test Accuracy at Epoch 1880: 76.05%\n",
      "Test F1-score at Epoch 1880: 0.7684\n",
      "Classification Report at Epoch 1880:\n",
      "                  precision    recall  f1-score   support\n",
      "\n",
      "    infringement       0.80      0.71      0.75       194\n",
      "non_infringement       0.73      0.81      0.77       186\n",
      "\n",
      "        accuracy                           0.76       380\n",
      "       macro avg       0.76      0.76      0.76       380\n",
      "    weighted avg       0.76      0.76      0.76       380\n",
      "\n",
      "Epoch 1890/2000, Loss: 0.0922\n"
     ]
    },
    {
     "name": "stderr",
     "output_type": "stream",
     "text": [
      "Training Epochs:  95%|█████████▍| 1896/2000 [00:48<00:02, 40.47it/s]"
     ]
    },
    {
     "name": "stdout",
     "output_type": "stream",
     "text": [
      "Test Accuracy at Epoch 1890: 76.05%\n",
      "Test F1-score at Epoch 1890: 0.7684\n",
      "Classification Report at Epoch 1890:\n",
      "                  precision    recall  f1-score   support\n",
      "\n",
      "    infringement       0.80      0.71      0.75       194\n",
      "non_infringement       0.73      0.81      0.77       186\n",
      "\n",
      "        accuracy                           0.76       380\n",
      "       macro avg       0.76      0.76      0.76       380\n",
      "    weighted avg       0.76      0.76      0.76       380\n",
      "\n"
     ]
    },
    {
     "name": "stderr",
     "output_type": "stream",
     "text": [
      "Training Epochs:  95%|█████████▌| 1907/2000 [00:48<00:02, 45.43it/s]"
     ]
    },
    {
     "name": "stdout",
     "output_type": "stream",
     "text": [
      "Epoch 1900/2000, Loss: 0.0924\n",
      "Test Accuracy at Epoch 1900: 75.00%\n",
      "Test F1-score at Epoch 1900: 0.7583\n",
      "Classification Report at Epoch 1900:\n",
      "                  precision    recall  f1-score   support\n",
      "\n",
      "    infringement       0.79      0.70      0.74       194\n",
      "non_infringement       0.72      0.80      0.76       186\n",
      "\n",
      "        accuracy                           0.75       380\n",
      "       macro avg       0.75      0.75      0.75       380\n",
      "    weighted avg       0.75      0.75      0.75       380\n",
      "\n"
     ]
    },
    {
     "name": "stderr",
     "output_type": "stream",
     "text": [
      "Training Epochs:  96%|█████████▌| 1917/2000 [00:48<00:02, 40.58it/s]"
     ]
    },
    {
     "name": "stdout",
     "output_type": "stream",
     "text": [
      "Epoch 1910/2000, Loss: 0.1048\n",
      "Test Accuracy at Epoch 1910: 76.32%\n",
      "Test F1-score at Epoch 1910: 0.7704\n",
      "Classification Report at Epoch 1910:\n",
      "                  precision    recall  f1-score   support\n",
      "\n",
      "    infringement       0.80      0.72      0.76       194\n",
      "non_infringement       0.73      0.81      0.77       186\n",
      "\n",
      "        accuracy                           0.76       380\n",
      "       macro avg       0.77      0.76      0.76       380\n",
      "    weighted avg       0.77      0.76      0.76       380\n",
      "\n"
     ]
    },
    {
     "name": "stderr",
     "output_type": "stream",
     "text": [
      "Training Epochs:  96%|█████████▋| 1927/2000 [00:49<00:01, 39.69it/s]"
     ]
    },
    {
     "name": "stdout",
     "output_type": "stream",
     "text": [
      "Epoch 1920/2000, Loss: 0.1257\n",
      "Test Accuracy at Epoch 1920: 71.32%\n",
      "Test F1-score at Epoch 1920: 0.7124\n",
      "Classification Report at Epoch 1920:\n",
      "                  precision    recall  f1-score   support\n",
      "\n",
      "    infringement       0.73      0.70      0.71       194\n",
      "non_infringement       0.70      0.73      0.71       186\n",
      "\n",
      "        accuracy                           0.71       380\n",
      "       macro avg       0.71      0.71      0.71       380\n",
      "    weighted avg       0.71      0.71      0.71       380\n",
      "\n"
     ]
    },
    {
     "name": "stderr",
     "output_type": "stream",
     "text": [
      "Training Epochs:  97%|█████████▋| 1938/2000 [00:49<00:01, 45.27it/s]"
     ]
    },
    {
     "name": "stdout",
     "output_type": "stream",
     "text": [
      "Epoch 1930/2000, Loss: 0.0996\n",
      "Test Accuracy at Epoch 1930: 73.95%\n",
      "Test F1-score at Epoch 1930: 0.7455\n",
      "Classification Report at Epoch 1930:\n",
      "                  precision    recall  f1-score   support\n",
      "\n",
      "    infringement       0.77      0.70      0.73       194\n",
      "non_infringement       0.71      0.78      0.75       186\n",
      "\n",
      "        accuracy                           0.74       380\n",
      "       macro avg       0.74      0.74      0.74       380\n",
      "    weighted avg       0.74      0.74      0.74       380\n",
      "\n",
      "Epoch 1940/2000, Loss: 0.0955\n"
     ]
    },
    {
     "name": "stderr",
     "output_type": "stream",
     "text": [
      "Training Epochs:  97%|█████████▋| 1943/2000 [00:49<00:01, 41.03it/s]"
     ]
    },
    {
     "name": "stdout",
     "output_type": "stream",
     "text": [
      "Test Accuracy at Epoch 1940: 76.05%\n",
      "Test F1-score at Epoch 1940: 0.7731\n",
      "Classification Report at Epoch 1940:\n",
      "                  precision    recall  f1-score   support\n",
      "\n",
      "    infringement       0.81      0.69      0.75       194\n",
      "non_infringement       0.72      0.83      0.77       186\n",
      "\n",
      "        accuracy                           0.76       380\n",
      "       macro avg       0.77      0.76      0.76       380\n",
      "    weighted avg       0.77      0.76      0.76       380\n",
      "\n"
     ]
    },
    {
     "name": "stderr",
     "output_type": "stream",
     "text": [
      "Training Epochs:  98%|█████████▊| 1954/2000 [00:49<00:01, 45.23it/s]"
     ]
    },
    {
     "name": "stdout",
     "output_type": "stream",
     "text": [
      "Epoch 1950/2000, Loss: 0.0936\n",
      "Test Accuracy at Epoch 1950: 76.58%\n",
      "Test F1-score at Epoch 1950: 0.7835\n",
      "Classification Report at Epoch 1950:\n",
      "                  precision    recall  f1-score   support\n",
      "\n",
      "    infringement       0.84      0.67      0.74       194\n",
      "non_infringement       0.72      0.87      0.78       186\n",
      "\n",
      "        accuracy                           0.77       380\n",
      "       macro avg       0.78      0.77      0.76       380\n",
      "    weighted avg       0.78      0.77      0.76       380\n",
      "\n",
      "Epoch 1960/2000, Loss: 0.0929\n"
     ]
    },
    {
     "name": "stderr",
     "output_type": "stream",
     "text": [
      "Training Epochs:  98%|█████████▊| 1965/2000 [00:49<00:00, 43.36it/s]"
     ]
    },
    {
     "name": "stdout",
     "output_type": "stream",
     "text": [
      "Test Accuracy at Epoch 1960: 76.32%\n",
      "Test F1-score at Epoch 1960: 0.7761\n",
      "Classification Report at Epoch 1960:\n",
      "                  precision    recall  f1-score   support\n",
      "\n",
      "    infringement       0.82      0.69      0.75       194\n",
      "non_infringement       0.72      0.84      0.78       186\n",
      "\n",
      "        accuracy                           0.76       380\n",
      "       macro avg       0.77      0.76      0.76       380\n",
      "    weighted avg       0.77      0.76      0.76       380\n",
      "\n"
     ]
    },
    {
     "name": "stderr",
     "output_type": "stream",
     "text": [
      "Training Epochs:  99%|█████████▉| 1976/2000 [00:50<00:00, 45.97it/s]"
     ]
    },
    {
     "name": "stdout",
     "output_type": "stream",
     "text": [
      "Epoch 1970/2000, Loss: 0.0927\n",
      "Test Accuracy at Epoch 1970: 75.53%\n",
      "Test F1-score at Epoch 1970: 0.7634\n",
      "Classification Report at Epoch 1970:\n",
      "                  precision    recall  f1-score   support\n",
      "\n",
      "    infringement       0.79      0.71      0.75       194\n",
      "non_infringement       0.72      0.81      0.76       186\n",
      "\n",
      "        accuracy                           0.76       380\n",
      "       macro avg       0.76      0.76      0.75       380\n",
      "    weighted avg       0.76      0.76      0.75       380\n",
      "\n"
     ]
    },
    {
     "name": "stderr",
     "output_type": "stream",
     "text": [
      "Training Epochs:  99%|█████████▉| 1987/2000 [00:50<00:00, 43.78it/s]"
     ]
    },
    {
     "name": "stdout",
     "output_type": "stream",
     "text": [
      "Epoch 1980/2000, Loss: 0.0925\n",
      "Test Accuracy at Epoch 1980: 75.00%\n",
      "Test F1-score at Epoch 1980: 0.7595\n",
      "Classification Report at Epoch 1980:\n",
      "                  precision    recall  f1-score   support\n",
      "\n",
      "    infringement       0.79      0.70      0.74       194\n",
      "non_infringement       0.72      0.81      0.76       186\n",
      "\n",
      "        accuracy                           0.75       380\n",
      "       macro avg       0.75      0.75      0.75       380\n",
      "    weighted avg       0.75      0.75      0.75       380\n",
      "\n"
     ]
    },
    {
     "name": "stderr",
     "output_type": "stream",
     "text": [
      "Training Epochs: 100%|█████████▉| 1997/2000 [00:50<00:00, 40.95it/s]"
     ]
    },
    {
     "name": "stdout",
     "output_type": "stream",
     "text": [
      "Epoch 1990/2000, Loss: 0.0925\n",
      "Test Accuracy at Epoch 1990: 75.53%\n",
      "Test F1-score at Epoch 1990: 0.7634\n",
      "Classification Report at Epoch 1990:\n",
      "                  precision    recall  f1-score   support\n",
      "\n",
      "    infringement       0.79      0.71      0.75       194\n",
      "non_infringement       0.72      0.81      0.76       186\n",
      "\n",
      "        accuracy                           0.76       380\n",
      "       macro avg       0.76      0.76      0.75       380\n",
      "    weighted avg       0.76      0.76      0.75       380\n",
      "\n"
     ]
    },
    {
     "name": "stderr",
     "output_type": "stream",
     "text": [
      "Training Epochs: 100%|██████████| 2000/2000 [00:50<00:00, 39.46it/s]\n",
      "/tmp/ipykernel_1811521/2033666368.py:59: FutureWarning: You are using `torch.load` with `weights_only=False` (the current default value), which uses the default pickle module implicitly. It is possible to construct malicious pickle data which will execute arbitrary code during unpickling (See https://github.com/pytorch/pytorch/blob/main/SECURITY.md#untrusted-models for more details). In a future release, the default value for `weights_only` will be flipped to `True`. This limits the functions that could be executed during unpickling. Arbitrary objects will no longer be allowed to be loaded via this mode unless they are explicitly allowlisted by the user via `torch.serialization.add_safe_globals`. We recommend you start setting `weights_only=True` for any use case where you don't have full control of the loaded file. Please open an issue on GitHub for any issues related to this experimental feature.\n",
      "  custom_mlp.load_state_dict(torch.load(checkpoint_path))\n"
     ]
    },
    {
     "name": "stdout",
     "output_type": "stream",
     "text": [
      "Epoch 2000/2000, Loss: 0.0924\n",
      "Test Accuracy at Epoch 2000: 75.00%\n",
      "Test F1-score at Epoch 2000: 0.7595\n",
      "Classification Report at Epoch 2000:\n",
      "                  precision    recall  f1-score   support\n",
      "\n",
      "    infringement       0.79      0.70      0.74       194\n",
      "non_infringement       0.72      0.81      0.76       186\n",
      "\n",
      "        accuracy                           0.75       380\n",
      "       macro avg       0.75      0.75      0.75       380\n",
      "    weighted avg       0.75      0.75      0.75       380\n",
      "\n"
     ]
    },
    {
     "data": {
      "image/png": "[encoded data removed]",
      "text/plain": [
       "<Figure size 1000x500 with 1 Axes>"
      ]
     },
     "metadata": {},
     "output_type": "display_data"
    },
    {
     "name": "stdout",
     "output_type": "stream",
     "text": [
      "Final Model Accuracy: 78.42%\n",
      "Final Model F1-score: 0.7853\n"
     ]
    }
   ],
   "source": [
    "input_dim = X_train.shape[1]\n",
    "hidden_dim = 256 \n",
    "print(f\"Training MLP model with input_dim={input_dim} and hidden_dim={hidden_dim}\")\n",
    "\n",
    "custom_mlp, losses, best_accuracy, best_f1 = train_model(X_train, y_train, X_test, y_test, input_dim, hidden_dim)"
   ]
  },
  {
   "cell_type": "code",
   "execution_count": 10,
   "metadata": {},
   "outputs": [
    {
     "name": "stdout",
     "output_type": "stream",
     "text": [
      "Checkpoint saved to '/home/guangwei/LLM-COPYRIGHT/copyright_newVersion/models/train_input_0_layer.pth'.\n"
     ]
    }
   ],
   "source": [
    "def save_checkpoint(model, optimizer, epoch, loss, filepath):\n",
    "    checkpoint = {\n",
    "        'epoch': epoch + 1,\n",
    "        'model_state_dict': model.state_dict(),\n",
    "        'optimizer_state_dict': optimizer.state_dict(),\n",
    "        'loss': loss\n",
    "    }\n",
    "    torch.save(checkpoint, filepath)\n",
    "    print(f\"Checkpoint saved to '{filepath}'.\")\n",
    "\n",
    "save_checkpoint(custom_mlp, torch.optim.Adam(custom_mlp.parameters()), len(losses), losses[-1], checkpoint_file)"
   ]
  },
  {
   "cell_type": "code",
   "execution_count": 11,
   "metadata": {},
   "outputs": [
    {
     "name": "stdout",
     "output_type": "stream",
     "text": [
      "Final Model Accuracy: 78.42%\n",
      "                  precision    recall  f1-score   support\n",
      "\n",
      "    infringement       0.80      0.76      0.78       194\n",
      "non_infringement       0.77      0.81      0.79       186\n",
      "\n",
      "        accuracy                           0.78       380\n",
      "       macro avg       0.78      0.78      0.78       380\n",
      "    weighted avg       0.79      0.78      0.78       380\n",
      "\n"
     ]
    },
    {
     "name": "stderr",
     "output_type": "stream",
     "text": [
      "/tmp/ipykernel_1811521/3740627605.py:2: UserWarning: To copy construct from a tensor, it is recommended to use sourceTensor.clone().detach() or sourceTensor.clone().detach().requires_grad_(True), rather than torch.tensor(sourceTensor).\n",
      "  y_pred_final = (torch.sigmoid(torch.tensor(custom_mlp(torch.tensor(X_test, dtype=torch.float32)))) > 0.5).float().numpy()\n"
     ]
    }
   ],
   "source": [
    "print(f\"Final Model Accuracy: {best_accuracy * 100:.2f}%\")\n",
    "y_pred_final = (torch.sigmoid(torch.tensor(custom_mlp(torch.tensor(X_test, dtype=torch.float32)))) > 0.5).float().numpy()\n",
    "print(classification_report(y_test, y_pred_final, target_names=[\"infringement\", \"non_infringement\"]))"
   ]
  }
 ],
 "metadata": {
  "kernelspec": {
   "display_name": "zdh",
   "language": "python",
   "name": "python3"
  },
  "language_info": {
   "codemirror_mode": {
    "name": "ipython",
    "version": 3
   },
   "file_extension": ".py",
   "mimetype": "text/x-python",
   "name": "python",
   "nbconvert_exporter": "python",
   "pygments_lexer": "ipython3",
   "version": "3.9.20"
  }
 },
 "nbformat": 4,
 "nbformat_minor": 2
}
