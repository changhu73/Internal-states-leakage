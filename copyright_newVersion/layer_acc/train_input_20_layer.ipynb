{
 "cells": [
  {
   "cell_type": "code",
   "execution_count": 1,
   "metadata": {},
   "outputs": [
    {
     "name": "stderr",
     "output_type": "stream",
     "text": [
      "/home/guangwei/miniconda3/envs/zdh/lib/python3.12/site-packages/tqdm/auto.py:21: TqdmWarning: IProgress not found. Please update jupyter and ipywidgets. See https://ipywidgets.readthedocs.io/en/stable/user_install.html\n",
      "  from .autonotebook import tqdm as notebook_tqdm\n"
     ]
    }
   ],
   "source": [
    "# import packages\n",
    "import torch\n",
    "import torch.nn as nn\n",
    "import numpy as np\n",
    "from sklearn.metrics import accuracy_score, classification_report\n",
    "import matplotlib.pyplot as plt\n",
    "from tqdm import tqdm\n",
    "from transformers import AutoTokenizer, AutoModelForCausalLM\n",
    "import json\n",
    "import os\n",
    "\n",
    "os.environ[\"CUDA_VISIBLE_DEVICES\"] = \"5\"\n",
    "\n",
    "# Variables\n",
    "model_name = 'meta-llama/Meta-Llama-3.1-8B'\n",
    "non_infringement_file = '/home/guangwei/LLM-COPYRIGHT/copyright_newVersion/test_division/extra_30.non_infringement.json'\n",
    "infringement_file = '/home/guangwei/LLM-COPYRIGHT/copyright_newVersion/test_division/extra_30.infringement.json'\n",
    "checkpoint_file = '/home/guangwei/LLM-COPYRIGHT/copyright_newVersion/models/train_input_0_layer.pth'"
   ]
  },
  {
   "cell_type": "code",
   "execution_count": 2,
   "metadata": {},
   "outputs": [],
   "source": [
    "# Define CustumMLP for internal states train\n",
    "class CustomMLP(nn.Module):\n",
    "    def __init__(self, input_dim, hidden_dim):\n",
    "        super(CustomMLP, self).__init__()\n",
    "        self.down = nn.Linear(input_dim, hidden_dim)\n",
    "        self.gate = nn.Linear(input_dim, hidden_dim)\n",
    "        self.up = nn.Linear(hidden_dim, 1)\n",
    "        self.activation = nn.SiLU()\n",
    "\n",
    "    def forward(self, x):\n",
    "        down_output = self.down(x)\n",
    "        gate_output = self.gate(x)\n",
    "        gated_output = down_output * self.activation(gate_output)\n",
    "        return self.up(gated_output)"
   ]
  },
  {
   "cell_type": "code",
   "execution_count": 3,
   "metadata": {},
   "outputs": [],
   "source": [
    "# Only extract hidden states\n",
    "def extract_hidden_states(texts, model, tokenizer, batch_size=4):\n",
    "    device = torch.device(\"cuda\" if torch.cuda.is_available() else \"cpu\")\n",
    "    model.to(device)\n",
    "    model = nn.DataParallel(model)\n",
    "    hidden_states = []\n",
    "    for i in tqdm(range(0, len(texts), batch_size), desc=\"Processing data batches\"):\n",
    "        batch_texts = texts[i:i + batch_size]\n",
    "        inputs = tokenizer(batch_texts, return_tensors=\"pt\", padding=True, truncation=True).to(device)\n",
    "        with torch.no_grad():\n",
    "            outputs = model(**inputs)\n",
    "        hidden_states.append(outputs.hidden_states[20].mean(dim=1).cpu().numpy())\n",
    "    return np.vstack(hidden_states)"
   ]
  },
  {
   "cell_type": "code",
   "execution_count": 4,
   "metadata": {},
   "outputs": [],
   "source": [
    "# lode data for infringement & non infringement\n",
    "def load_data(non_infringement_file, infringement_file):\n",
    "    with open(non_infringement_file, 'r', encoding='utf-8') as file:\n",
    "        non_infringement_json_data = json.load(file)\n",
    "\n",
    "    non_infringement_outputs = [entry['input'] for entry in non_infringement_json_data]\n",
    "    y_non_infringement = [1] * len(non_infringement_outputs)\n",
    "\n",
    "    with open(infringement_file, 'r', encoding='utf-8') as file:\n",
    "        infringement_json_data = json.load(file)\n",
    "\n",
    "    infringement_outputs = [entry['input'] for entry in infringement_json_data]\n",
    "    y_infringement = [0] * len(infringement_outputs)\n",
    "\n",
    "    return non_infringement_outputs, y_non_infringement, infringement_outputs, y_infringement"
   ]
  },
  {
   "cell_type": "code",
   "execution_count": 5,
   "metadata": {},
   "outputs": [],
   "source": [
    "from sklearn.metrics import accuracy_score, classification_report, f1_score\n",
    "\n",
    "# Train for best model\n",
    "def train_model(X_train, y_train, X_test, y_test, input_dim, hidden_dim, epochs=2000, lr=0.001, checkpoint_path=checkpoint_file):\n",
    "    custom_mlp = CustomMLP(input_dim, hidden_dim)\n",
    "    criterion = nn.BCEWithLogitsLoss()\n",
    "    optimizer = torch.optim.Adam(custom_mlp.parameters(), lr=lr)\n",
    "\n",
    "    X_train_tensor = torch.tensor(X_train, dtype=torch.float32)\n",
    "    y_train_tensor = torch.tensor(y_train, dtype=torch.float32).unsqueeze(1)\n",
    "\n",
    "    best_accuracy = -float('inf')\n",
    "    best_f1 = -float('inf')  # Track best F1-score\n",
    "    best_model_state = None\n",
    "    best_epoch = 0\n",
    "    losses = []\n",
    "\n",
    "    for epoch in tqdm(range(epochs), desc=\"Training Epochs\"):\n",
    "        custom_mlp.train()\n",
    "        optimizer.zero_grad()\n",
    "        outputs = custom_mlp(X_train_tensor)\n",
    "        loss = criterion(outputs, y_train_tensor)\n",
    "        loss.backward()\n",
    "        optimizer.step()\n",
    "        losses.append(loss.item())\n",
    "\n",
    "        # Every 10 epochs, evaluate the model\n",
    "        if (epoch + 1) % 10 == 0:\n",
    "            print(f\"Epoch {epoch + 1}/{epochs}, Loss: {loss.item():.4f}\")\n",
    "            \n",
    "            custom_mlp.eval()\n",
    "            X_test_tensor = torch.tensor(X_test, dtype=torch.float32)\n",
    "            with torch.no_grad():\n",
    "                y_pred_logits = custom_mlp(X_test_tensor)\n",
    "                y_pred = (torch.sigmoid(y_pred_logits) > 0.5).float().numpy()\n",
    "            \n",
    "            # Calculate accuracy and F1-score\n",
    "            accuracy = accuracy_score(y_test, y_pred)\n",
    "            f1 = f1_score(y_test, y_pred)  # F1-score calculation\n",
    "            \n",
    "            print(f\"Test Accuracy at Epoch {epoch + 1}: {accuracy * 100:.2f}%\")\n",
    "            print(f\"Test F1-score at Epoch {epoch + 1}: {f1:.4f}\")\n",
    "            \n",
    "            # Generate classification report\n",
    "            report = classification_report(y_test, y_pred, target_names=[\"infringement\", \"non_infringement\"])\n",
    "            print(f\"Classification Report at Epoch {epoch + 1}:\\n{report}\")\n",
    "\n",
    "            # Save the model if it achieves a better F1-score\n",
    "            if f1 > best_f1:\n",
    "                best_accuracy = accuracy\n",
    "                best_f1 = f1\n",
    "                best_model_state = custom_mlp.state_dict()\n",
    "                best_epoch = epoch + 1\n",
    "                torch.save(best_model_state, checkpoint_path)\n",
    "                print(f\"New best model saved with F1-score {best_f1:.4f} at epoch {best_epoch}\")\n",
    "                print(f\"Best Classification Report at Epoch {best_epoch}:\\n{report}\")\n",
    "\n",
    "    # Load the best model state\n",
    "    custom_mlp.load_state_dict(torch.load(checkpoint_path))\n",
    "\n",
    "    # Plot loss curve\n",
    "    plt.figure(figsize=(10, 5))\n",
    "    plt.plot(losses, label='Training Loss')\n",
    "    plt.xlabel('Epoch')\n",
    "    plt.ylabel('Loss')\n",
    "    plt.title('Training Loss Curve')\n",
    "    plt.legend()\n",
    "    plt.show()\n",
    "\n",
    "    print(f\"Final Model Accuracy: {best_accuracy * 100:.2f}%\")\n",
    "    print(f\"Final Model F1-score: {best_f1:.4f}\")\n",
    "    \n",
    "    return custom_mlp, losses, best_accuracy, best_f1\n"
   ]
  },
  {
   "cell_type": "code",
   "execution_count": 6,
   "metadata": {},
   "outputs": [
    {
     "name": "stderr",
     "output_type": "stream",
     "text": [
      "/home/guangwei/miniconda3/envs/zdh/lib/python3.12/site-packages/transformers/generation/configuration_utils.py:777: UserWarning: `return_dict_in_generate` is NOT set to `True`, but `output_hidden_states` is. When `return_dict_in_generate` is not `True`, `output_hidden_states` is ignored.\n",
      "  warnings.warn(\n",
      "Loading checkpoint shards: 100%|██████████| 4/4 [00:02<00:00,  1.56it/s]\n"
     ]
    }
   ],
   "source": [
    "\n",
    "tokenizer = AutoTokenizer.from_pretrained(model_name, model_max_length=512)\n",
    "model = AutoModelForCausalLM.from_pretrained(model_name, output_hidden_states=True)\n",
    "tokenizer.pad_token = tokenizer.eos_token\n",
    "\n",
    "non_infringement_outputs, y_non_infringement, infringement_outputs, y_infringement = load_data(non_infringement_file, infringement_file)\n",
    "\n",
    "y_non_infringement = np.array(y_non_infringement)\n",
    "y_infringement = np.array(y_infringement)\n"
   ]
  },
  {
   "cell_type": "code",
   "execution_count": 7,
   "metadata": {},
   "outputs": [
    {
     "name": "stdout",
     "output_type": "stream",
     "text": [
      "Extracting hidden states for non_infringement texts...\n"
     ]
    },
    {
     "name": "stderr",
     "output_type": "stream",
     "text": [
      "Processing data batches:   0%|          | 0/232 [00:00<?, ?it/s]Starting from v4.46, the `logits` model output will have the same type as the model (except at train time, where it will always be FP32)\n",
      "Processing data batches: 100%|██████████| 232/232 [01:03<00:00,  3.68it/s]\n"
     ]
    },
    {
     "name": "stdout",
     "output_type": "stream",
     "text": [
      "Extracting hidden states for infringement texts...\n"
     ]
    },
    {
     "name": "stderr",
     "output_type": "stream",
     "text": [
      "Processing data batches: 100%|██████████| 243/243 [01:20<00:00,  3.03it/s]\n"
     ]
    }
   ],
   "source": [
    "print(\"Extracting hidden states for non_infringement texts...\")\n",
    "X_non_infringement = extract_hidden_states(non_infringement_outputs, model, tokenizer)\n",
    "\n",
    "print(\"Extracting hidden states for infringement texts...\")\n",
    "X_infringement = extract_hidden_states(infringement_outputs, model, tokenizer)"
   ]
  },
  {
   "cell_type": "code",
   "execution_count": 8,
   "metadata": {},
   "outputs": [
    {
     "name": "stdout",
     "output_type": "stream",
     "text": [
      "Data successfully split into training and test sets.\n"
     ]
    }
   ],
   "source": [
    "split_index_non_infringement = int(0.8 * len(X_non_infringement))\n",
    "X_non_infringement_train = X_non_infringement[:split_index_non_infringement]\n",
    "X_non_infringement_test = X_non_infringement[split_index_non_infringement:]\n",
    "y_non_infringement_train = y_non_infringement[:split_index_non_infringement]\n",
    "y_non_infringement_test = y_non_infringement[split_index_non_infringement:]\n",
    "\n",
    "split_index_infringement = int(0.8 * len(X_infringement))\n",
    "X_infringement_train = X_infringement[:split_index_infringement]\n",
    "X_infringement_test = X_infringement[split_index_infringement:]\n",
    "y_infringement_train = y_infringement[:split_index_infringement]\n",
    "y_infringement_test = y_infringement[split_index_infringement:]\n",
    "\n",
    "X_train = np.vstack((X_non_infringement_train, X_infringement_train))\n",
    "X_test = np.vstack((X_non_infringement_test, X_infringement_test))\n",
    "y_train = np.concatenate((y_non_infringement_train, y_infringement_train))\n",
    "y_test = np.concatenate((y_non_infringement_test, y_infringement_test))\n",
    "\n",
    "print(\"Data successfully split into training and test sets.\")"
   ]
  },
  {
   "cell_type": "code",
   "execution_count": 9,
   "metadata": {},
   "outputs": [
    {
     "name": "stdout",
     "output_type": "stream",
     "text": [
      "Training MLP model with input_dim=4096 and hidden_dim=256\n"
     ]
    },
    {
     "name": "stderr",
     "output_type": "stream",
     "text": [
      "Training Epochs:   1%|          | 12/2000 [00:00<01:04, 30.60it/s]"
     ]
    },
    {
     "name": "stdout",
     "output_type": "stream",
     "text": [
      "Epoch 10/2000, Loss: 0.4586\n",
      "Test Accuracy at Epoch 10: 67.11%\n",
      "Test F1-score at Epoch 10: 0.6988\n",
      "Classification Report at Epoch 10:\n",
      "                  precision    recall  f1-score   support\n",
      "\n",
      "    infringement       0.73      0.57      0.64       194\n",
      "non_infringement       0.63      0.78      0.70       186\n",
      "\n",
      "        accuracy                           0.67       380\n",
      "       macro avg       0.68      0.67      0.67       380\n",
      "    weighted avg       0.68      0.67      0.67       380\n",
      "\n",
      "New best model saved with F1-score 0.6988 at epoch 10\n",
      "Best Classification Report at Epoch 10:\n",
      "                  precision    recall  f1-score   support\n",
      "\n",
      "    infringement       0.73      0.57      0.64       194\n",
      "non_infringement       0.63      0.78      0.70       186\n",
      "\n",
      "        accuracy                           0.67       380\n",
      "       macro avg       0.68      0.67      0.67       380\n",
      "    weighted avg       0.68      0.67      0.67       380\n",
      "\n"
     ]
    },
    {
     "name": "stderr",
     "output_type": "stream",
     "text": [
      "Training Epochs:   1%|▏         | 25/2000 [00:00<01:00, 32.83it/s]"
     ]
    },
    {
     "name": "stdout",
     "output_type": "stream",
     "text": [
      "Epoch 20/2000, Loss: 0.3533\n",
      "Test Accuracy at Epoch 20: 75.00%\n",
      "Test F1-score at Epoch 20: 0.7654\n",
      "Classification Report at Epoch 20:\n",
      "                  precision    recall  f1-score   support\n",
      "\n",
      "    infringement       0.81      0.67      0.73       194\n",
      "non_infringement       0.71      0.83      0.77       186\n",
      "\n",
      "        accuracy                           0.75       380\n",
      "       macro avg       0.76      0.75      0.75       380\n",
      "    weighted avg       0.76      0.75      0.75       380\n",
      "\n",
      "New best model saved with F1-score 0.7654 at epoch 20\n",
      "Best Classification Report at Epoch 20:\n",
      "                  precision    recall  f1-score   support\n",
      "\n",
      "    infringement       0.81      0.67      0.73       194\n",
      "non_infringement       0.71      0.83      0.77       186\n",
      "\n",
      "        accuracy                           0.75       380\n",
      "       macro avg       0.76      0.75      0.75       380\n",
      "    weighted avg       0.76      0.75      0.75       380\n",
      "\n"
     ]
    },
    {
     "name": "stderr",
     "output_type": "stream",
     "text": [
      "Training Epochs:   2%|▏         | 37/2000 [00:01<00:58, 33.82it/s]"
     ]
    },
    {
     "name": "stdout",
     "output_type": "stream",
     "text": [
      "Epoch 30/2000, Loss: 0.3056\n",
      "Test Accuracy at Epoch 30: 73.95%\n",
      "Test F1-score at Epoch 30: 0.7519\n",
      "Classification Report at Epoch 30:\n",
      "                  precision    recall  f1-score   support\n",
      "\n",
      "    infringement       0.78      0.68      0.73       194\n",
      "non_infringement       0.70      0.81      0.75       186\n",
      "\n",
      "        accuracy                           0.74       380\n",
      "       macro avg       0.74      0.74      0.74       380\n",
      "    weighted avg       0.75      0.74      0.74       380\n",
      "\n"
     ]
    },
    {
     "name": "stderr",
     "output_type": "stream",
     "text": [
      "Training Epochs:   2%|▏         | 45/2000 [00:01<01:05, 29.68it/s]"
     ]
    },
    {
     "name": "stdout",
     "output_type": "stream",
     "text": [
      "Epoch 40/2000, Loss: 0.2606\n",
      "Test Accuracy at Epoch 40: 72.11%\n",
      "Test F1-score at Epoch 40: 0.7282\n",
      "Classification Report at Epoch 40:\n",
      "                  precision    recall  f1-score   support\n",
      "\n",
      "    infringement       0.75      0.68      0.71       194\n",
      "non_infringement       0.70      0.76      0.73       186\n",
      "\n",
      "        accuracy                           0.72       380\n",
      "       macro avg       0.72      0.72      0.72       380\n",
      "    weighted avg       0.72      0.72      0.72       380\n",
      "\n"
     ]
    },
    {
     "name": "stderr",
     "output_type": "stream",
     "text": [
      "Training Epochs:   3%|▎         | 53/2000 [00:01<01:06, 29.28it/s]"
     ]
    },
    {
     "name": "stdout",
     "output_type": "stream",
     "text": [
      "Epoch 50/2000, Loss: 0.2212\n",
      "Test Accuracy at Epoch 50: 75.79%\n",
      "Test F1-score at Epoch 50: 0.7444\n",
      "Classification Report at Epoch 50:\n",
      "                  precision    recall  f1-score   support\n",
      "\n",
      "    infringement       0.75      0.79      0.77       194\n",
      "non_infringement       0.77      0.72      0.74       186\n",
      "\n",
      "        accuracy                           0.76       380\n",
      "       macro avg       0.76      0.76      0.76       380\n",
      "    weighted avg       0.76      0.76      0.76       380\n",
      "\n"
     ]
    },
    {
     "name": "stderr",
     "output_type": "stream",
     "text": [
      "Training Epochs:   3%|▎         | 61/2000 [00:02<01:12, 26.90it/s]"
     ]
    },
    {
     "name": "stdout",
     "output_type": "stream",
     "text": [
      "Epoch 60/2000, Loss: 0.1918\n",
      "Test Accuracy at Epoch 60: 73.68%\n",
      "Test F1-score at Epoch 60: 0.7436\n",
      "Classification Report at Epoch 60:\n",
      "                  precision    recall  f1-score   support\n",
      "\n",
      "    infringement       0.77      0.70      0.73       194\n",
      "non_infringement       0.71      0.78      0.74       186\n",
      "\n",
      "        accuracy                           0.74       380\n",
      "       macro avg       0.74      0.74      0.74       380\n",
      "    weighted avg       0.74      0.74      0.74       380\n",
      "\n"
     ]
    },
    {
     "name": "stderr",
     "output_type": "stream",
     "text": [
      "Training Epochs:   4%|▎         | 72/2000 [00:02<01:05, 29.31it/s]"
     ]
    },
    {
     "name": "stdout",
     "output_type": "stream",
     "text": [
      "Epoch 70/2000, Loss: 0.1619\n",
      "Test Accuracy at Epoch 70: 77.37%\n",
      "Test F1-score at Epoch 70: 0.7650\n",
      "Classification Report at Epoch 70:\n",
      "                  precision    recall  f1-score   support\n",
      "\n",
      "    infringement       0.77      0.79      0.78       194\n",
      "non_infringement       0.78      0.75      0.77       186\n",
      "\n",
      "        accuracy                           0.77       380\n",
      "       macro avg       0.77      0.77      0.77       380\n",
      "    weighted avg       0.77      0.77      0.77       380\n",
      "\n"
     ]
    },
    {
     "name": "stderr",
     "output_type": "stream",
     "text": [
      "Training Epochs:   4%|▍         | 85/2000 [00:02<00:59, 32.05it/s]"
     ]
    },
    {
     "name": "stdout",
     "output_type": "stream",
     "text": [
      "Epoch 80/2000, Loss: 0.1577\n",
      "Test Accuracy at Epoch 80: 72.89%\n",
      "Test F1-score at Epoch 80: 0.7469\n",
      "Classification Report at Epoch 80:\n",
      "                  precision    recall  f1-score   support\n",
      "\n",
      "    infringement       0.79      0.64      0.71       194\n",
      "non_infringement       0.69      0.82      0.75       186\n",
      "\n",
      "        accuracy                           0.73       380\n",
      "       macro avg       0.74      0.73      0.73       380\n",
      "    weighted avg       0.74      0.73      0.73       380\n",
      "\n"
     ]
    },
    {
     "name": "stderr",
     "output_type": "stream",
     "text": [
      "Training Epochs:   5%|▍         | 93/2000 [00:03<00:59, 31.96it/s]"
     ]
    },
    {
     "name": "stdout",
     "output_type": "stream",
     "text": [
      "Epoch 90/2000, Loss: 0.1399\n",
      "Test Accuracy at Epoch 90: 73.16%\n",
      "Test F1-score at Epoch 90: 0.7463\n",
      "Classification Report at Epoch 90:\n",
      "                  precision    recall  f1-score   support\n",
      "\n",
      "    infringement       0.78      0.66      0.72       194\n",
      "non_infringement       0.69      0.81      0.75       186\n",
      "\n",
      "        accuracy                           0.73       380\n",
      "       macro avg       0.74      0.73      0.73       380\n",
      "    weighted avg       0.74      0.73      0.73       380\n",
      "\n"
     ]
    },
    {
     "name": "stderr",
     "output_type": "stream",
     "text": [
      "Training Epochs:   5%|▌         | 102/2000 [00:03<01:01, 31.01it/s]"
     ]
    },
    {
     "name": "stdout",
     "output_type": "stream",
     "text": [
      "Epoch 100/2000, Loss: 0.1309\n",
      "Test Accuracy at Epoch 100: 76.84%\n",
      "Test F1-score at Epoch 100: 0.7596\n",
      "Classification Report at Epoch 100:\n",
      "                  precision    recall  f1-score   support\n",
      "\n",
      "    infringement       0.77      0.79      0.78       194\n",
      "non_infringement       0.77      0.75      0.76       186\n",
      "\n",
      "        accuracy                           0.77       380\n",
      "       macro avg       0.77      0.77      0.77       380\n",
      "    weighted avg       0.77      0.77      0.77       380\n",
      "\n"
     ]
    },
    {
     "name": "stderr",
     "output_type": "stream",
     "text": [
      "Training Epochs:   6%|▌         | 115/2000 [00:03<00:59, 31.51it/s]"
     ]
    },
    {
     "name": "stdout",
     "output_type": "stream",
     "text": [
      "Epoch 110/2000, Loss: 0.1309\n",
      "Test Accuracy at Epoch 110: 77.89%\n",
      "Test F1-score at Epoch 110: 0.7742\n",
      "Classification Report at Epoch 110:\n",
      "                  precision    recall  f1-score   support\n",
      "\n",
      "    infringement       0.78      0.78      0.78       194\n",
      "non_infringement       0.77      0.77      0.77       186\n",
      "\n",
      "        accuracy                           0.78       380\n",
      "       macro avg       0.78      0.78      0.78       380\n",
      "    weighted avg       0.78      0.78      0.78       380\n",
      "\n",
      "New best model saved with F1-score 0.7742 at epoch 110\n",
      "Best Classification Report at Epoch 110:\n",
      "                  precision    recall  f1-score   support\n",
      "\n",
      "    infringement       0.78      0.78      0.78       194\n",
      "non_infringement       0.77      0.77      0.77       186\n",
      "\n",
      "        accuracy                           0.78       380\n",
      "       macro avg       0.78      0.78      0.78       380\n",
      "    weighted avg       0.78      0.78      0.78       380\n",
      "\n"
     ]
    },
    {
     "name": "stderr",
     "output_type": "stream",
     "text": [
      "Training Epochs:   6%|▋         | 125/2000 [00:04<00:50, 36.98it/s]"
     ]
    },
    {
     "name": "stdout",
     "output_type": "stream",
     "text": [
      "Epoch 120/2000, Loss: 0.1224\n",
      "Test Accuracy at Epoch 120: 73.95%\n",
      "Test F1-score at Epoch 120: 0.7455\n",
      "Classification Report at Epoch 120:\n",
      "                  precision    recall  f1-score   support\n",
      "\n",
      "    infringement       0.77      0.70      0.73       194\n",
      "non_infringement       0.71      0.78      0.75       186\n",
      "\n",
      "        accuracy                           0.74       380\n",
      "       macro avg       0.74      0.74      0.74       380\n",
      "    weighted avg       0.74      0.74      0.74       380\n",
      "\n"
     ]
    },
    {
     "name": "stderr",
     "output_type": "stream",
     "text": [
      "Training Epochs:   7%|▋         | 134/2000 [00:04<00:51, 35.98it/s]"
     ]
    },
    {
     "name": "stdout",
     "output_type": "stream",
     "text": [
      "Epoch 130/2000, Loss: 0.1206\n",
      "Test Accuracy at Epoch 130: 73.42%\n",
      "Test F1-score at Epoch 130: 0.7417\n",
      "Classification Report at Epoch 130:\n",
      "                  precision    recall  f1-score   support\n",
      "\n",
      "    infringement       0.77      0.69      0.73       194\n",
      "non_infringement       0.71      0.78      0.74       186\n",
      "\n",
      "        accuracy                           0.73       380\n",
      "       macro avg       0.74      0.74      0.73       380\n",
      "    weighted avg       0.74      0.73      0.73       380\n",
      "\n"
     ]
    },
    {
     "name": "stderr",
     "output_type": "stream",
     "text": [
      "Training Epochs:   7%|▋         | 144/2000 [00:04<00:54, 34.34it/s]"
     ]
    },
    {
     "name": "stdout",
     "output_type": "stream",
     "text": [
      "Epoch 140/2000, Loss: 0.1182\n",
      "Test Accuracy at Epoch 140: 73.68%\n",
      "Test F1-score at Epoch 140: 0.7436\n",
      "Classification Report at Epoch 140:\n",
      "                  precision    recall  f1-score   support\n",
      "\n",
      "    infringement       0.77      0.70      0.73       194\n",
      "non_infringement       0.71      0.78      0.74       186\n",
      "\n",
      "        accuracy                           0.74       380\n",
      "       macro avg       0.74      0.74      0.74       380\n",
      "    weighted avg       0.74      0.74      0.74       380\n",
      "\n"
     ]
    },
    {
     "name": "stderr",
     "output_type": "stream",
     "text": [
      "Training Epochs:   8%|▊         | 154/2000 [00:04<00:47, 39.00it/s]"
     ]
    },
    {
     "name": "stdout",
     "output_type": "stream",
     "text": [
      "Epoch 150/2000, Loss: 0.1136\n",
      "Test Accuracy at Epoch 150: 76.05%\n",
      "Test F1-score at Epoch 150: 0.7573\n",
      "Classification Report at Epoch 150:\n",
      "                  precision    recall  f1-score   support\n",
      "\n",
      "    infringement       0.77      0.76      0.76       194\n",
      "non_infringement       0.75      0.76      0.76       186\n",
      "\n",
      "        accuracy                           0.76       380\n",
      "       macro avg       0.76      0.76      0.76       380\n",
      "    weighted avg       0.76      0.76      0.76       380\n",
      "\n"
     ]
    },
    {
     "name": "stderr",
     "output_type": "stream",
     "text": [
      "Training Epochs:   8%|▊         | 164/2000 [00:05<00:49, 37.32it/s]"
     ]
    },
    {
     "name": "stdout",
     "output_type": "stream",
     "text": [
      "Epoch 160/2000, Loss: 0.1190\n",
      "Test Accuracy at Epoch 160: 73.95%\n",
      "Test F1-score at Epoch 160: 0.7455\n",
      "Classification Report at Epoch 160:\n",
      "                  precision    recall  f1-score   support\n",
      "\n",
      "    infringement       0.77      0.70      0.73       194\n",
      "non_infringement       0.71      0.78      0.75       186\n",
      "\n",
      "        accuracy                           0.74       380\n",
      "       macro avg       0.74      0.74      0.74       380\n",
      "    weighted avg       0.74      0.74      0.74       380\n",
      "\n"
     ]
    },
    {
     "name": "stderr",
     "output_type": "stream",
     "text": [
      "Training Epochs:   9%|▊         | 174/2000 [00:05<00:53, 34.12it/s]"
     ]
    },
    {
     "name": "stdout",
     "output_type": "stream",
     "text": [
      "Epoch 170/2000, Loss: 0.1104\n",
      "Test Accuracy at Epoch 170: 76.05%\n",
      "Test F1-score at Epoch 170: 0.7573\n",
      "Classification Report at Epoch 170:\n",
      "                  precision    recall  f1-score   support\n",
      "\n",
      "    infringement       0.77      0.76      0.76       194\n",
      "non_infringement       0.75      0.76      0.76       186\n",
      "\n",
      "        accuracy                           0.76       380\n",
      "       macro avg       0.76      0.76      0.76       380\n",
      "    weighted avg       0.76      0.76      0.76       380\n",
      "\n"
     ]
    },
    {
     "name": "stderr",
     "output_type": "stream",
     "text": [
      "Training Epochs:   9%|▉         | 184/2000 [00:05<00:47, 37.97it/s]"
     ]
    },
    {
     "name": "stdout",
     "output_type": "stream",
     "text": [
      "Epoch 180/2000, Loss: 0.1114\n",
      "Test Accuracy at Epoch 180: 76.32%\n",
      "Test F1-score at Epoch 180: 0.7581\n",
      "Classification Report at Epoch 180:\n",
      "                  precision    recall  f1-score   support\n",
      "\n",
      "    infringement       0.77      0.77      0.77       194\n",
      "non_infringement       0.76      0.76      0.76       186\n",
      "\n",
      "        accuracy                           0.76       380\n",
      "       macro avg       0.76      0.76      0.76       380\n",
      "    weighted avg       0.76      0.76      0.76       380\n",
      "\n"
     ]
    },
    {
     "name": "stderr",
     "output_type": "stream",
     "text": [
      "Training Epochs:  10%|▉         | 198/2000 [00:06<00:45, 39.99it/s]"
     ]
    },
    {
     "name": "stdout",
     "output_type": "stream",
     "text": [
      "Epoch 190/2000, Loss: 0.1097\n",
      "Test Accuracy at Epoch 190: 78.16%\n",
      "Test F1-score at Epoch 190: 0.7726\n",
      "Classification Report at Epoch 190:\n",
      "                  precision    recall  f1-score   support\n",
      "\n",
      "    infringement       0.78      0.80      0.79       194\n",
      "non_infringement       0.79      0.76      0.77       186\n",
      "\n",
      "        accuracy                           0.78       380\n",
      "       macro avg       0.78      0.78      0.78       380\n",
      "    weighted avg       0.78      0.78      0.78       380\n",
      "\n"
     ]
    },
    {
     "name": "stderr",
     "output_type": "stream",
     "text": [
      "Training Epochs:  10%|█         | 203/2000 [00:06<00:48, 36.84it/s]"
     ]
    },
    {
     "name": "stdout",
     "output_type": "stream",
     "text": [
      "Epoch 200/2000, Loss: 0.1047\n",
      "Test Accuracy at Epoch 200: 77.63%\n",
      "Test F1-score at Epoch 200: 0.7684\n",
      "Classification Report at Epoch 200:\n",
      "                  precision    recall  f1-score   support\n",
      "\n",
      "    infringement       0.77      0.79      0.78       194\n",
      "non_infringement       0.78      0.76      0.77       186\n",
      "\n",
      "        accuracy                           0.78       380\n",
      "       macro avg       0.78      0.78      0.78       380\n",
      "    weighted avg       0.78      0.78      0.78       380\n",
      "\n"
     ]
    },
    {
     "name": "stderr",
     "output_type": "stream",
     "text": [
      "Training Epochs:  11%|█         | 213/2000 [00:06<00:45, 39.30it/s]"
     ]
    },
    {
     "name": "stdout",
     "output_type": "stream",
     "text": [
      "Epoch 210/2000, Loss: 0.1045\n",
      "Test Accuracy at Epoch 210: 72.63%\n",
      "Test F1-score at Epoch 210: 0.7320\n",
      "Classification Report at Epoch 210:\n",
      "                  precision    recall  f1-score   support\n",
      "\n",
      "    infringement       0.75      0.69      0.72       194\n",
      "non_infringement       0.70      0.76      0.73       186\n",
      "\n",
      "        accuracy                           0.73       380\n",
      "       macro avg       0.73      0.73      0.73       380\n",
      "    weighted avg       0.73      0.73      0.73       380\n",
      "\n"
     ]
    },
    {
     "name": "stderr",
     "output_type": "stream",
     "text": [
      "Training Epochs:  11%|█▏        | 228/2000 [00:06<00:43, 40.80it/s]"
     ]
    },
    {
     "name": "stdout",
     "output_type": "stream",
     "text": [
      "Epoch 220/2000, Loss: 0.1025\n",
      "Test Accuracy at Epoch 220: 75.53%\n",
      "Test F1-score at Epoch 220: 0.7520\n",
      "Classification Report at Epoch 220:\n",
      "                  precision    recall  f1-score   support\n",
      "\n",
      "    infringement       0.76      0.75      0.76       194\n",
      "non_infringement       0.75      0.76      0.75       186\n",
      "\n",
      "        accuracy                           0.76       380\n",
      "       macro avg       0.76      0.76      0.76       380\n",
      "    weighted avg       0.76      0.76      0.76       380\n",
      "\n"
     ]
    },
    {
     "name": "stderr",
     "output_type": "stream",
     "text": [
      "Training Epochs:  12%|█▏        | 233/2000 [00:06<00:47, 37.23it/s]"
     ]
    },
    {
     "name": "stdout",
     "output_type": "stream",
     "text": [
      "Epoch 230/2000, Loss: 0.1054\n",
      "Test Accuracy at Epoch 230: 74.74%\n",
      "Test F1-score at Epoch 230: 0.7460\n",
      "Classification Report at Epoch 230:\n",
      "                  precision    recall  f1-score   support\n",
      "\n",
      "    infringement       0.76      0.74      0.75       194\n",
      "non_infringement       0.73      0.76      0.75       186\n",
      "\n",
      "        accuracy                           0.75       380\n",
      "       macro avg       0.75      0.75      0.75       380\n",
      "    weighted avg       0.75      0.75      0.75       380\n",
      "\n"
     ]
    },
    {
     "name": "stderr",
     "output_type": "stream",
     "text": [
      "Training Epochs:  12%|█▏        | 243/2000 [00:07<00:44, 39.74it/s]"
     ]
    },
    {
     "name": "stdout",
     "output_type": "stream",
     "text": [
      "Epoch 240/2000, Loss: 0.1025\n",
      "Test Accuracy at Epoch 240: 74.47%\n",
      "Test F1-score at Epoch 240: 0.7441\n",
      "Classification Report at Epoch 240:\n",
      "                  precision    recall  f1-score   support\n",
      "\n",
      "    infringement       0.76      0.73      0.75       194\n",
      "non_infringement       0.73      0.76      0.74       186\n",
      "\n",
      "        accuracy                           0.74       380\n",
      "       macro avg       0.74      0.75      0.74       380\n",
      "    weighted avg       0.75      0.74      0.74       380\n",
      "\n"
     ]
    },
    {
     "name": "stderr",
     "output_type": "stream",
     "text": [
      "Training Epochs:  13%|█▎        | 257/2000 [00:07<00:43, 40.44it/s]"
     ]
    },
    {
     "name": "stdout",
     "output_type": "stream",
     "text": [
      "Epoch 250/2000, Loss: 0.1009\n",
      "Test Accuracy at Epoch 250: 73.16%\n",
      "Test F1-score at Epoch 250: 0.7344\n",
      "Classification Report at Epoch 250:\n",
      "                  precision    recall  f1-score   support\n",
      "\n",
      "    infringement       0.75      0.71      0.73       194\n",
      "non_infringement       0.71      0.76      0.73       186\n",
      "\n",
      "        accuracy                           0.73       380\n",
      "       macro avg       0.73      0.73      0.73       380\n",
      "    weighted avg       0.73      0.73      0.73       380\n",
      "\n"
     ]
    },
    {
     "name": "stderr",
     "output_type": "stream",
     "text": [
      "Training Epochs:  13%|█▎        | 262/2000 [00:07<00:47, 36.86it/s]"
     ]
    },
    {
     "name": "stdout",
     "output_type": "stream",
     "text": [
      "Epoch 260/2000, Loss: 0.1005\n",
      "Test Accuracy at Epoch 260: 73.95%\n",
      "Test F1-score at Epoch 260: 0.7402\n",
      "Classification Report at Epoch 260:\n",
      "                  precision    recall  f1-score   support\n",
      "\n",
      "    infringement       0.76      0.72      0.74       194\n",
      "non_infringement       0.72      0.76      0.74       186\n",
      "\n",
      "        accuracy                           0.74       380\n",
      "       macro avg       0.74      0.74      0.74       380\n",
      "    weighted avg       0.74      0.74      0.74       380\n",
      "\n"
     ]
    },
    {
     "name": "stderr",
     "output_type": "stream",
     "text": [
      "Training Epochs:  14%|█▍        | 275/2000 [00:08<00:43, 39.48it/s]"
     ]
    },
    {
     "name": "stdout",
     "output_type": "stream",
     "text": [
      "Epoch 270/2000, Loss: 0.0997\n",
      "Test Accuracy at Epoch 270: 74.21%\n",
      "Test F1-score at Epoch 270: 0.7421\n",
      "Classification Report at Epoch 270:\n",
      "                  precision    recall  f1-score   support\n",
      "\n",
      "    infringement       0.76      0.73      0.74       194\n",
      "non_infringement       0.73      0.76      0.74       186\n",
      "\n",
      "        accuracy                           0.74       380\n",
      "       macro avg       0.74      0.74      0.74       380\n",
      "    weighted avg       0.74      0.74      0.74       380\n",
      "\n"
     ]
    },
    {
     "name": "stderr",
     "output_type": "stream",
     "text": [
      "Training Epochs:  14%|█▍        | 285/2000 [00:08<00:45, 38.05it/s]"
     ]
    },
    {
     "name": "stdout",
     "output_type": "stream",
     "text": [
      "Epoch 280/2000, Loss: 0.0992\n",
      "Test Accuracy at Epoch 280: 74.21%\n",
      "Test F1-score at Epoch 280: 0.7421\n",
      "Classification Report at Epoch 280:\n",
      "                  precision    recall  f1-score   support\n",
      "\n",
      "    infringement       0.76      0.73      0.74       194\n",
      "non_infringement       0.73      0.76      0.74       186\n",
      "\n",
      "        accuracy                           0.74       380\n",
      "       macro avg       0.74      0.74      0.74       380\n",
      "    weighted avg       0.74      0.74      0.74       380\n",
      "\n"
     ]
    },
    {
     "name": "stderr",
     "output_type": "stream",
     "text": [
      "Training Epochs:  15%|█▍        | 295/2000 [00:08<00:46, 37.01it/s]"
     ]
    },
    {
     "name": "stdout",
     "output_type": "stream",
     "text": [
      "Epoch 290/2000, Loss: 0.1010\n",
      "Test Accuracy at Epoch 290: 77.11%\n",
      "Test F1-score at Epoch 290: 0.7603\n",
      "Classification Report at Epoch 290:\n",
      "                  precision    recall  f1-score   support\n",
      "\n",
      "    infringement       0.76      0.80      0.78       194\n",
      "non_infringement       0.78      0.74      0.76       186\n",
      "\n",
      "        accuracy                           0.77       380\n",
      "       macro avg       0.77      0.77      0.77       380\n",
      "    weighted avg       0.77      0.77      0.77       380\n",
      "\n"
     ]
    },
    {
     "name": "stderr",
     "output_type": "stream",
     "text": [
      "Training Epochs:  15%|█▌        | 305/2000 [00:08<00:41, 41.19it/s]"
     ]
    },
    {
     "name": "stdout",
     "output_type": "stream",
     "text": [
      "Epoch 300/2000, Loss: 0.1015\n",
      "Test Accuracy at Epoch 300: 71.58%\n",
      "Test F1-score at Epoch 300: 0.7231\n",
      "Classification Report at Epoch 300:\n",
      "                  precision    recall  f1-score   support\n",
      "\n",
      "    infringement       0.74      0.68      0.71       194\n",
      "non_infringement       0.69      0.76      0.72       186\n",
      "\n",
      "        accuracy                           0.72       380\n",
      "       macro avg       0.72      0.72      0.72       380\n",
      "    weighted avg       0.72      0.72      0.72       380\n",
      "\n"
     ]
    },
    {
     "name": "stderr",
     "output_type": "stream",
     "text": [
      "Training Epochs:  16%|█▌        | 315/2000 [00:09<00:42, 39.20it/s]"
     ]
    },
    {
     "name": "stdout",
     "output_type": "stream",
     "text": [
      "Epoch 310/2000, Loss: 0.1023\n",
      "Test Accuracy at Epoch 310: 74.21%\n",
      "Test F1-score at Epoch 310: 0.7421\n",
      "Classification Report at Epoch 310:\n",
      "                  precision    recall  f1-score   support\n",
      "\n",
      "    infringement       0.76      0.73      0.74       194\n",
      "non_infringement       0.73      0.76      0.74       186\n",
      "\n",
      "        accuracy                           0.74       380\n",
      "       macro avg       0.74      0.74      0.74       380\n",
      "    weighted avg       0.74      0.74      0.74       380\n",
      "\n"
     ]
    },
    {
     "name": "stderr",
     "output_type": "stream",
     "text": [
      "Training Epochs:  16%|█▋        | 325/2000 [00:09<00:48, 34.88it/s]"
     ]
    },
    {
     "name": "stdout",
     "output_type": "stream",
     "text": [
      "Epoch 320/2000, Loss: 0.0992\n",
      "Test Accuracy at Epoch 320: 74.47%\n",
      "Test F1-score at Epoch 320: 0.7441\n",
      "Classification Report at Epoch 320:\n",
      "                  precision    recall  f1-score   support\n",
      "\n",
      "    infringement       0.76      0.73      0.75       194\n",
      "non_infringement       0.73      0.76      0.74       186\n",
      "\n",
      "        accuracy                           0.74       380\n",
      "       macro avg       0.74      0.75      0.74       380\n",
      "    weighted avg       0.75      0.74      0.74       380\n",
      "\n"
     ]
    },
    {
     "name": "stderr",
     "output_type": "stream",
     "text": [
      "Training Epochs:  17%|█▋        | 335/2000 [00:09<00:44, 37.70it/s]"
     ]
    },
    {
     "name": "stdout",
     "output_type": "stream",
     "text": [
      "Epoch 330/2000, Loss: 0.0978\n",
      "Test Accuracy at Epoch 330: 76.58%\n",
      "Test F1-score at Epoch 330: 0.7601\n",
      "Classification Report at Epoch 330:\n",
      "                  precision    recall  f1-score   support\n",
      "\n",
      "    infringement       0.77      0.77      0.77       194\n",
      "non_infringement       0.76      0.76      0.76       186\n",
      "\n",
      "        accuracy                           0.77       380\n",
      "       macro avg       0.77      0.77      0.77       380\n",
      "    weighted avg       0.77      0.77      0.77       380\n",
      "\n"
     ]
    },
    {
     "name": "stderr",
     "output_type": "stream",
     "text": [
      "Training Epochs:  17%|█▋        | 348/2000 [00:09<00:42, 38.87it/s]"
     ]
    },
    {
     "name": "stdout",
     "output_type": "stream",
     "text": [
      "Epoch 340/2000, Loss: 0.0977\n",
      "Test Accuracy at Epoch 340: 73.42%\n",
      "Test F1-score at Epoch 340: 0.7363\n",
      "Classification Report at Epoch 340:\n",
      "                  precision    recall  f1-score   support\n",
      "\n",
      "    infringement       0.75      0.71      0.73       194\n",
      "non_infringement       0.72      0.76      0.74       186\n",
      "\n",
      "        accuracy                           0.73       380\n",
      "       macro avg       0.73      0.73      0.73       380\n",
      "    weighted avg       0.74      0.73      0.73       380\n",
      "\n"
     ]
    },
    {
     "name": "stderr",
     "output_type": "stream",
     "text": [
      "Training Epochs:  18%|█▊        | 352/2000 [00:10<00:54, 30.29it/s]"
     ]
    },
    {
     "name": "stdout",
     "output_type": "stream",
     "text": [
      "Epoch 350/2000, Loss: 0.0976\n",
      "Test Accuracy at Epoch 350: 73.42%\n",
      "Test F1-score at Epoch 350: 0.7363\n",
      "Classification Report at Epoch 350:\n",
      "                  precision    recall  f1-score   support\n",
      "\n",
      "    infringement       0.75      0.71      0.73       194\n",
      "non_infringement       0.72      0.76      0.74       186\n",
      "\n",
      "        accuracy                           0.73       380\n",
      "       macro avg       0.73      0.73      0.73       380\n",
      "    weighted avg       0.74      0.73      0.73       380\n",
      "\n"
     ]
    },
    {
     "name": "stderr",
     "output_type": "stream",
     "text": [
      "Training Epochs:  18%|█▊        | 367/2000 [00:10<00:53, 30.69it/s]"
     ]
    },
    {
     "name": "stdout",
     "output_type": "stream",
     "text": [
      "Epoch 360/2000, Loss: 0.1001\n",
      "Test Accuracy at Epoch 360: 76.05%\n",
      "Test F1-score at Epoch 360: 0.7507\n",
      "Classification Report at Epoch 360:\n",
      "                  precision    recall  f1-score   support\n",
      "\n",
      "    infringement       0.76      0.78      0.77       194\n",
      "non_infringement       0.77      0.74      0.75       186\n",
      "\n",
      "        accuracy                           0.76       380\n",
      "       macro avg       0.76      0.76      0.76       380\n",
      "    weighted avg       0.76      0.76      0.76       380\n",
      "\n"
     ]
    },
    {
     "name": "stderr",
     "output_type": "stream",
     "text": [
      "Training Epochs:  19%|█▊        | 371/2000 [00:10<00:57, 28.34it/s]"
     ]
    },
    {
     "name": "stdout",
     "output_type": "stream",
     "text": [
      "Epoch 370/2000, Loss: 0.1031\n",
      "Test Accuracy at Epoch 370: 71.05%\n",
      "Test F1-score at Epoch 370: 0.7236\n",
      "Classification Report at Epoch 370:\n",
      "                  precision    recall  f1-score   support\n",
      "\n",
      "    infringement       0.75      0.65      0.70       194\n",
      "non_infringement       0.68      0.77      0.72       186\n",
      "\n",
      "        accuracy                           0.71       380\n",
      "       macro avg       0.71      0.71      0.71       380\n",
      "    weighted avg       0.72      0.71      0.71       380\n",
      "\n"
     ]
    },
    {
     "name": "stderr",
     "output_type": "stream",
     "text": [
      "Training Epochs:  19%|█▉        | 385/2000 [00:11<00:43, 37.07it/s]"
     ]
    },
    {
     "name": "stdout",
     "output_type": "stream",
     "text": [
      "Epoch 380/2000, Loss: 0.0985\n",
      "Test Accuracy at Epoch 380: 73.42%\n",
      "Test F1-score at Epoch 380: 0.7363\n",
      "Classification Report at Epoch 380:\n",
      "                  precision    recall  f1-score   support\n",
      "\n",
      "    infringement       0.75      0.71      0.73       194\n",
      "non_infringement       0.72      0.76      0.74       186\n",
      "\n",
      "        accuracy                           0.73       380\n",
      "       macro avg       0.73      0.73      0.73       380\n",
      "    weighted avg       0.74      0.73      0.73       380\n",
      "\n"
     ]
    },
    {
     "name": "stderr",
     "output_type": "stream",
     "text": [
      "Training Epochs:  20%|█▉        | 398/2000 [00:11<00:42, 37.65it/s]"
     ]
    },
    {
     "name": "stdout",
     "output_type": "stream",
     "text": [
      "Epoch 390/2000, Loss: 0.1004\n",
      "Test Accuracy at Epoch 390: 74.74%\n",
      "Test F1-score at Epoch 390: 0.7460\n",
      "Classification Report at Epoch 390:\n",
      "                  precision    recall  f1-score   support\n",
      "\n",
      "    infringement       0.76      0.74      0.75       194\n",
      "non_infringement       0.73      0.76      0.75       186\n",
      "\n",
      "        accuracy                           0.75       380\n",
      "       macro avg       0.75      0.75      0.75       380\n",
      "    weighted avg       0.75      0.75      0.75       380\n",
      "\n"
     ]
    },
    {
     "name": "stderr",
     "output_type": "stream",
     "text": [
      "Training Epochs:  20%|██        | 402/2000 [00:11<00:46, 34.45it/s]"
     ]
    },
    {
     "name": "stdout",
     "output_type": "stream",
     "text": [
      "Epoch 400/2000, Loss: 0.0973\n",
      "Test Accuracy at Epoch 400: 74.74%\n",
      "Test F1-score at Epoch 400: 0.7460\n",
      "Classification Report at Epoch 400:\n",
      "                  precision    recall  f1-score   support\n",
      "\n",
      "    infringement       0.76      0.74      0.75       194\n",
      "non_infringement       0.73      0.76      0.75       186\n",
      "\n",
      "        accuracy                           0.75       380\n",
      "       macro avg       0.75      0.75      0.75       380\n",
      "    weighted avg       0.75      0.75      0.75       380\n",
      "\n"
     ]
    },
    {
     "name": "stderr",
     "output_type": "stream",
     "text": [
      "Training Epochs:  21%|██        | 411/2000 [00:11<00:42, 37.07it/s]"
     ]
    },
    {
     "name": "stdout",
     "output_type": "stream",
     "text": [
      "Epoch 410/2000, Loss: 0.0961\n",
      "Test Accuracy at Epoch 410: 74.47%\n",
      "Test F1-score at Epoch 410: 0.7427\n",
      "Classification Report at Epoch 410:\n",
      "                  precision    recall  f1-score   support\n",
      "\n",
      "    infringement       0.76      0.74      0.75       194\n",
      "non_infringement       0.73      0.75      0.74       186\n",
      "\n",
      "        accuracy                           0.74       380\n",
      "       macro avg       0.74      0.74      0.74       380\n",
      "    weighted avg       0.75      0.74      0.74       380\n",
      "\n"
     ]
    },
    {
     "name": "stderr",
     "output_type": "stream",
     "text": [
      "Training Epochs:  21%|██▏       | 425/2000 [00:12<00:41, 38.02it/s]"
     ]
    },
    {
     "name": "stdout",
     "output_type": "stream",
     "text": [
      "Epoch 420/2000, Loss: 0.0959\n",
      "Test Accuracy at Epoch 420: 73.68%\n",
      "Test F1-score at Epoch 420: 0.7368\n",
      "Classification Report at Epoch 420:\n",
      "                  precision    recall  f1-score   support\n",
      "\n",
      "    infringement       0.75      0.72      0.74       194\n",
      "non_infringement       0.72      0.75      0.74       186\n",
      "\n",
      "        accuracy                           0.74       380\n",
      "       macro avg       0.74      0.74      0.74       380\n",
      "    weighted avg       0.74      0.74      0.74       380\n",
      "\n"
     ]
    },
    {
     "name": "stderr",
     "output_type": "stream",
     "text": [
      "Training Epochs:  22%|██▏       | 435/2000 [00:12<00:43, 35.64it/s]"
     ]
    },
    {
     "name": "stdout",
     "output_type": "stream",
     "text": [
      "Epoch 430/2000, Loss: 0.0956\n",
      "Test Accuracy at Epoch 430: 73.95%\n",
      "Test F1-score at Epoch 430: 0.7402\n",
      "Classification Report at Epoch 430:\n",
      "                  precision    recall  f1-score   support\n",
      "\n",
      "    infringement       0.76      0.72      0.74       194\n",
      "non_infringement       0.72      0.76      0.74       186\n",
      "\n",
      "        accuracy                           0.74       380\n",
      "       macro avg       0.74      0.74      0.74       380\n",
      "    weighted avg       0.74      0.74      0.74       380\n",
      "\n"
     ]
    },
    {
     "name": "stderr",
     "output_type": "stream",
     "text": [
      "Training Epochs:  22%|██▏       | 444/2000 [00:12<00:45, 34.05it/s]"
     ]
    },
    {
     "name": "stdout",
     "output_type": "stream",
     "text": [
      "Epoch 440/2000, Loss: 0.0964\n",
      "Test Accuracy at Epoch 440: 71.84%\n",
      "Test F1-score at Epoch 440: 0.7249\n",
      "Classification Report at Epoch 440:\n",
      "                  precision    recall  f1-score   support\n",
      "\n",
      "    infringement       0.75      0.68      0.71       194\n",
      "non_infringement       0.69      0.76      0.72       186\n",
      "\n",
      "        accuracy                           0.72       380\n",
      "       macro avg       0.72      0.72      0.72       380\n",
      "    weighted avg       0.72      0.72      0.72       380\n",
      "\n"
     ]
    },
    {
     "name": "stderr",
     "output_type": "stream",
     "text": [
      "Training Epochs:  23%|██▎       | 453/2000 [00:13<00:42, 36.51it/s]"
     ]
    },
    {
     "name": "stdout",
     "output_type": "stream",
     "text": [
      "Epoch 450/2000, Loss: 0.0982\n",
      "Test Accuracy at Epoch 450: 76.05%\n",
      "Test F1-score at Epoch 450: 0.7507\n",
      "Classification Report at Epoch 450:\n",
      "                  precision    recall  f1-score   support\n",
      "\n",
      "    infringement       0.76      0.78      0.77       194\n",
      "non_infringement       0.77      0.74      0.75       186\n",
      "\n",
      "        accuracy                           0.76       380\n",
      "       macro avg       0.76      0.76      0.76       380\n",
      "    weighted avg       0.76      0.76      0.76       380\n",
      "\n"
     ]
    },
    {
     "name": "stderr",
     "output_type": "stream",
     "text": [
      "Training Epochs:  23%|██▎       | 462/2000 [00:13<00:43, 35.24it/s]"
     ]
    },
    {
     "name": "stdout",
     "output_type": "stream",
     "text": [
      "Epoch 460/2000, Loss: 0.0961\n",
      "Test Accuracy at Epoch 460: 76.84%\n",
      "Test F1-score at Epoch 460: 0.7622\n",
      "Classification Report at Epoch 460:\n",
      "                  precision    recall  f1-score   support\n",
      "\n",
      "    infringement       0.77      0.78      0.77       194\n",
      "non_infringement       0.77      0.76      0.76       186\n",
      "\n",
      "        accuracy                           0.77       380\n",
      "       macro avg       0.77      0.77      0.77       380\n",
      "    weighted avg       0.77      0.77      0.77       380\n",
      "\n"
     ]
    },
    {
     "name": "stderr",
     "output_type": "stream",
     "text": [
      "Training Epochs:  24%|██▍       | 475/2000 [00:13<00:45, 33.23it/s]"
     ]
    },
    {
     "name": "stdout",
     "output_type": "stream",
     "text": [
      "Epoch 470/2000, Loss: 0.0953\n",
      "Test Accuracy at Epoch 470: 74.74%\n",
      "Test F1-score at Epoch 470: 0.7447\n",
      "Classification Report at Epoch 470:\n",
      "                  precision    recall  f1-score   support\n",
      "\n",
      "    infringement       0.76      0.74      0.75       194\n",
      "non_infringement       0.74      0.75      0.74       186\n",
      "\n",
      "        accuracy                           0.75       380\n",
      "       macro avg       0.75      0.75      0.75       380\n",
      "    weighted avg       0.75      0.75      0.75       380\n",
      "\n"
     ]
    },
    {
     "name": "stderr",
     "output_type": "stream",
     "text": [
      "Training Epochs:  24%|██▍       | 484/2000 [00:14<00:46, 32.61it/s]"
     ]
    },
    {
     "name": "stdout",
     "output_type": "stream",
     "text": [
      "Epoch 480/2000, Loss: 0.0953\n",
      "Test Accuracy at Epoch 480: 76.58%\n",
      "Test F1-score at Epoch 480: 0.7601\n",
      "Classification Report at Epoch 480:\n",
      "                  precision    recall  f1-score   support\n",
      "\n",
      "    infringement       0.77      0.77      0.77       194\n",
      "non_infringement       0.76      0.76      0.76       186\n",
      "\n",
      "        accuracy                           0.77       380\n",
      "       macro avg       0.77      0.77      0.77       380\n",
      "    weighted avg       0.77      0.77      0.77       380\n",
      "\n"
     ]
    },
    {
     "name": "stderr",
     "output_type": "stream",
     "text": [
      "Training Epochs:  25%|██▍       | 498/2000 [00:14<00:38, 39.24it/s]"
     ]
    },
    {
     "name": "stdout",
     "output_type": "stream",
     "text": [
      "Epoch 490/2000, Loss: 0.0951\n",
      "Test Accuracy at Epoch 490: 74.74%\n",
      "Test F1-score at Epoch 490: 0.7460\n",
      "Classification Report at Epoch 490:\n",
      "                  precision    recall  f1-score   support\n",
      "\n",
      "    infringement       0.76      0.74      0.75       194\n",
      "non_infringement       0.73      0.76      0.75       186\n",
      "\n",
      "        accuracy                           0.75       380\n",
      "       macro avg       0.75      0.75      0.75       380\n",
      "    weighted avg       0.75      0.75      0.75       380\n",
      "\n"
     ]
    },
    {
     "name": "stderr",
     "output_type": "stream",
     "text": [
      "Training Epochs:  25%|██▌       | 509/2000 [00:14<00:36, 40.38it/s]"
     ]
    },
    {
     "name": "stdout",
     "output_type": "stream",
     "text": [
      "Epoch 500/2000, Loss: 0.0948\n",
      "Test Accuracy at Epoch 500: 74.74%\n",
      "Test F1-score at Epoch 500: 0.7460\n",
      "Classification Report at Epoch 500:\n",
      "                  precision    recall  f1-score   support\n",
      "\n",
      "    infringement       0.76      0.74      0.75       194\n",
      "non_infringement       0.73      0.76      0.75       186\n",
      "\n",
      "        accuracy                           0.75       380\n",
      "       macro avg       0.75      0.75      0.75       380\n",
      "    weighted avg       0.75      0.75      0.75       380\n",
      "\n"
     ]
    },
    {
     "name": "stderr",
     "output_type": "stream",
     "text": [
      "Training Epochs:  26%|██▌       | 514/2000 [00:14<00:41, 35.65it/s]"
     ]
    },
    {
     "name": "stdout",
     "output_type": "stream",
     "text": [
      "Epoch 510/2000, Loss: 0.0947\n",
      "Test Accuracy at Epoch 510: 73.95%\n",
      "Test F1-score at Epoch 510: 0.7402\n",
      "Classification Report at Epoch 510:\n",
      "                  precision    recall  f1-score   support\n",
      "\n",
      "    infringement       0.76      0.72      0.74       194\n",
      "non_infringement       0.72      0.76      0.74       186\n",
      "\n",
      "        accuracy                           0.74       380\n",
      "       macro avg       0.74      0.74      0.74       380\n",
      "    weighted avg       0.74      0.74      0.74       380\n",
      "\n"
     ]
    },
    {
     "name": "stderr",
     "output_type": "stream",
     "text": [
      "Training Epochs:  26%|██▋       | 528/2000 [00:15<00:37, 39.13it/s]"
     ]
    },
    {
     "name": "stdout",
     "output_type": "stream",
     "text": [
      "Epoch 520/2000, Loss: 0.0946\n",
      "Test Accuracy at Epoch 520: 74.74%\n",
      "Test F1-score at Epoch 520: 0.7460\n",
      "Classification Report at Epoch 520:\n",
      "                  precision    recall  f1-score   support\n",
      "\n",
      "    infringement       0.76      0.74      0.75       194\n",
      "non_infringement       0.73      0.76      0.75       186\n",
      "\n",
      "        accuracy                           0.75       380\n",
      "       macro avg       0.75      0.75      0.75       380\n",
      "    weighted avg       0.75      0.75      0.75       380\n",
      "\n"
     ]
    },
    {
     "name": "stderr",
     "output_type": "stream",
     "text": [
      "Training Epochs:  27%|██▋       | 537/2000 [00:15<00:40, 36.15it/s]"
     ]
    },
    {
     "name": "stdout",
     "output_type": "stream",
     "text": [
      "Epoch 530/2000, Loss: 0.0945\n",
      "Test Accuracy at Epoch 530: 73.68%\n",
      "Test F1-score at Epoch 530: 0.7396\n",
      "Classification Report at Epoch 530:\n",
      "                  precision    recall  f1-score   support\n",
      "\n",
      "    infringement       0.76      0.71      0.73       194\n",
      "non_infringement       0.72      0.76      0.74       186\n",
      "\n",
      "        accuracy                           0.74       380\n",
      "       macro avg       0.74      0.74      0.74       380\n",
      "    weighted avg       0.74      0.74      0.74       380\n",
      "\n"
     ]
    },
    {
     "name": "stderr",
     "output_type": "stream",
     "text": [
      "Training Epochs:  27%|██▋       | 545/2000 [00:15<00:43, 33.54it/s]"
     ]
    },
    {
     "name": "stdout",
     "output_type": "stream",
     "text": [
      "Epoch 540/2000, Loss: 0.0970\n",
      "Test Accuracy at Epoch 540: 71.84%\n",
      "Test F1-score at Epoch 540: 0.7291\n",
      "Classification Report at Epoch 540:\n",
      "                  precision    recall  f1-score   support\n",
      "\n",
      "    infringement       0.75      0.66      0.71       194\n",
      "non_infringement       0.69      0.77      0.73       186\n",
      "\n",
      "        accuracy                           0.72       380\n",
      "       macro avg       0.72      0.72      0.72       380\n",
      "    weighted avg       0.72      0.72      0.72       380\n",
      "\n"
     ]
    },
    {
     "name": "stderr",
     "output_type": "stream",
     "text": [
      "Training Epochs:  28%|██▊       | 555/2000 [00:16<00:38, 37.69it/s]"
     ]
    },
    {
     "name": "stdout",
     "output_type": "stream",
     "text": [
      "Epoch 550/2000, Loss: 0.0977\n",
      "Test Accuracy at Epoch 550: 76.05%\n",
      "Test F1-score at Epoch 550: 0.7507\n",
      "Classification Report at Epoch 550:\n",
      "                  precision    recall  f1-score   support\n",
      "\n",
      "    infringement       0.76      0.78      0.77       194\n",
      "non_infringement       0.77      0.74      0.75       186\n",
      "\n",
      "        accuracy                           0.76       380\n",
      "       macro avg       0.76      0.76      0.76       380\n",
      "    weighted avg       0.76      0.76      0.76       380\n",
      "\n"
     ]
    },
    {
     "name": "stderr",
     "output_type": "stream",
     "text": [
      "Training Epochs:  28%|██▊       | 563/2000 [00:16<00:40, 35.36it/s]"
     ]
    },
    {
     "name": "stdout",
     "output_type": "stream",
     "text": [
      "Epoch 560/2000, Loss: 0.0980\n",
      "Test Accuracy at Epoch 560: 73.68%\n",
      "Test F1-score at Epoch 560: 0.7396\n",
      "Classification Report at Epoch 560:\n",
      "                  precision    recall  f1-score   support\n",
      "\n",
      "    infringement       0.76      0.71      0.73       194\n",
      "non_infringement       0.72      0.76      0.74       186\n",
      "\n",
      "        accuracy                           0.74       380\n",
      "       macro avg       0.74      0.74      0.74       380\n",
      "    weighted avg       0.74      0.74      0.74       380\n",
      "\n"
     ]
    },
    {
     "name": "stderr",
     "output_type": "stream",
     "text": [
      "Training Epochs:  29%|██▊       | 572/2000 [00:16<00:43, 33.07it/s]"
     ]
    },
    {
     "name": "stdout",
     "output_type": "stream",
     "text": [
      "Epoch 570/2000, Loss: 0.0962\n",
      "Test Accuracy at Epoch 570: 73.16%\n",
      "Test F1-score at Epoch 570: 0.7371\n",
      "Classification Report at Epoch 570:\n",
      "                  precision    recall  f1-score   support\n",
      "\n",
      "    infringement       0.76      0.70      0.73       194\n",
      "non_infringement       0.71      0.77      0.74       186\n",
      "\n",
      "        accuracy                           0.73       380\n",
      "       macro avg       0.73      0.73      0.73       380\n",
      "    weighted avg       0.73      0.73      0.73       380\n",
      "\n"
     ]
    },
    {
     "name": "stderr",
     "output_type": "stream",
     "text": [
      "Training Epochs:  29%|██▉       | 585/2000 [00:16<00:43, 32.83it/s]"
     ]
    },
    {
     "name": "stdout",
     "output_type": "stream",
     "text": [
      "Epoch 580/2000, Loss: 0.0948\n",
      "Test Accuracy at Epoch 580: 74.21%\n",
      "Test F1-score at Epoch 580: 0.7435\n",
      "Classification Report at Epoch 580:\n",
      "                  precision    recall  f1-score   support\n",
      "\n",
      "    infringement       0.76      0.72      0.74       194\n",
      "non_infringement       0.72      0.76      0.74       186\n",
      "\n",
      "        accuracy                           0.74       380\n",
      "       macro avg       0.74      0.74      0.74       380\n",
      "    weighted avg       0.74      0.74      0.74       380\n",
      "\n"
     ]
    },
    {
     "name": "stderr",
     "output_type": "stream",
     "text": [
      "Training Epochs:  30%|██▉       | 594/2000 [00:17<00:39, 35.40it/s]"
     ]
    },
    {
     "name": "stdout",
     "output_type": "stream",
     "text": [
      "Epoch 590/2000, Loss: 0.0948\n",
      "Test Accuracy at Epoch 590: 73.68%\n",
      "Test F1-score at Epoch 590: 0.7396\n",
      "Classification Report at Epoch 590:\n",
      "                  precision    recall  f1-score   support\n",
      "\n",
      "    infringement       0.76      0.71      0.73       194\n",
      "non_infringement       0.72      0.76      0.74       186\n",
      "\n",
      "        accuracy                           0.74       380\n",
      "       macro avg       0.74      0.74      0.74       380\n",
      "    weighted avg       0.74      0.74      0.74       380\n",
      "\n"
     ]
    },
    {
     "name": "stderr",
     "output_type": "stream",
     "text": [
      "Training Epochs:  30%|███       | 603/2000 [00:17<00:41, 33.59it/s]"
     ]
    },
    {
     "name": "stdout",
     "output_type": "stream",
     "text": [
      "Epoch 600/2000, Loss: 0.0949\n",
      "Test Accuracy at Epoch 600: 74.74%\n",
      "Test F1-score at Epoch 600: 0.7487\n",
      "Classification Report at Epoch 600:\n",
      "                  precision    recall  f1-score   support\n",
      "\n",
      "    infringement       0.77      0.73      0.75       194\n",
      "non_infringement       0.73      0.77      0.75       186\n",
      "\n",
      "        accuracy                           0.75       380\n",
      "       macro avg       0.75      0.75      0.75       380\n",
      "    weighted avg       0.75      0.75      0.75       380\n",
      "\n"
     ]
    },
    {
     "name": "stderr",
     "output_type": "stream",
     "text": [
      "Training Epochs:  31%|███       | 612/2000 [00:17<00:37, 36.62it/s]"
     ]
    },
    {
     "name": "stdout",
     "output_type": "stream",
     "text": [
      "Epoch 610/2000, Loss: 0.0950\n",
      "Test Accuracy at Epoch 610: 73.16%\n",
      "Test F1-score at Epoch 610: 0.7371\n",
      "Classification Report at Epoch 610:\n",
      "                  precision    recall  f1-score   support\n",
      "\n",
      "    infringement       0.76      0.70      0.73       194\n",
      "non_infringement       0.71      0.77      0.74       186\n",
      "\n",
      "        accuracy                           0.73       380\n",
      "       macro avg       0.73      0.73      0.73       380\n",
      "    weighted avg       0.73      0.73      0.73       380\n",
      "\n"
     ]
    },
    {
     "name": "stderr",
     "output_type": "stream",
     "text": [
      "Training Epochs:  31%|███▏      | 625/2000 [00:18<00:36, 37.26it/s]"
     ]
    },
    {
     "name": "stdout",
     "output_type": "stream",
     "text": [
      "Epoch 620/2000, Loss: 0.0960\n",
      "Test Accuracy at Epoch 620: 75.53%\n",
      "Test F1-score at Epoch 620: 0.7520\n",
      "Classification Report at Epoch 620:\n",
      "                  precision    recall  f1-score   support\n",
      "\n",
      "    infringement       0.76      0.75      0.76       194\n",
      "non_infringement       0.75      0.76      0.75       186\n",
      "\n",
      "        accuracy                           0.76       380\n",
      "       macro avg       0.76      0.76      0.76       380\n",
      "    weighted avg       0.76      0.76      0.76       380\n",
      "\n"
     ]
    },
    {
     "name": "stderr",
     "output_type": "stream",
     "text": [
      "Training Epochs:  32%|███▏      | 638/2000 [00:18<00:35, 38.41it/s]"
     ]
    },
    {
     "name": "stdout",
     "output_type": "stream",
     "text": [
      "Epoch 630/2000, Loss: 0.0984\n",
      "Test Accuracy at Epoch 630: 75.53%\n",
      "Test F1-score at Epoch 630: 0.7520\n",
      "Classification Report at Epoch 630:\n",
      "                  precision    recall  f1-score   support\n",
      "\n",
      "    infringement       0.76      0.75      0.76       194\n",
      "non_infringement       0.75      0.76      0.75       186\n",
      "\n",
      "        accuracy                           0.76       380\n",
      "       macro avg       0.76      0.76      0.76       380\n",
      "    weighted avg       0.76      0.76      0.76       380\n",
      "\n"
     ]
    },
    {
     "name": "stderr",
     "output_type": "stream",
     "text": [
      "Training Epochs:  32%|███▏      | 642/2000 [00:18<00:39, 34.59it/s]"
     ]
    },
    {
     "name": "stdout",
     "output_type": "stream",
     "text": [
      "Epoch 640/2000, Loss: 0.0958\n",
      "Test Accuracy at Epoch 640: 74.47%\n",
      "Test F1-score at Epoch 640: 0.7454\n",
      "Classification Report at Epoch 640:\n",
      "                  precision    recall  f1-score   support\n",
      "\n",
      "    infringement       0.76      0.73      0.74       194\n",
      "non_infringement       0.73      0.76      0.75       186\n",
      "\n",
      "        accuracy                           0.74       380\n",
      "       macro avg       0.75      0.75      0.74       380\n",
      "    weighted avg       0.75      0.74      0.74       380\n",
      "\n"
     ]
    },
    {
     "name": "stderr",
     "output_type": "stream",
     "text": [
      "Training Epochs:  33%|███▎      | 656/2000 [00:18<00:34, 39.20it/s]"
     ]
    },
    {
     "name": "stdout",
     "output_type": "stream",
     "text": [
      "Epoch 650/2000, Loss: 0.0959\n",
      "Test Accuracy at Epoch 650: 73.68%\n",
      "Test F1-score at Epoch 650: 0.7396\n",
      "Classification Report at Epoch 650:\n",
      "                  precision    recall  f1-score   support\n",
      "\n",
      "    infringement       0.76      0.71      0.73       194\n",
      "non_infringement       0.72      0.76      0.74       186\n",
      "\n",
      "        accuracy                           0.74       380\n",
      "       macro avg       0.74      0.74      0.74       380\n",
      "    weighted avg       0.74      0.74      0.74       380\n",
      "\n"
     ]
    },
    {
     "name": "stderr",
     "output_type": "stream",
     "text": [
      "Training Epochs:  33%|███▎      | 665/2000 [00:19<00:36, 36.97it/s]"
     ]
    },
    {
     "name": "stdout",
     "output_type": "stream",
     "text": [
      "Epoch 660/2000, Loss: 0.0955\n",
      "Test Accuracy at Epoch 660: 74.21%\n",
      "Test F1-score at Epoch 660: 0.7435\n",
      "Classification Report at Epoch 660:\n",
      "                  precision    recall  f1-score   support\n",
      "\n",
      "    infringement       0.76      0.72      0.74       194\n",
      "non_infringement       0.72      0.76      0.74       186\n",
      "\n",
      "        accuracy                           0.74       380\n",
      "       macro avg       0.74      0.74      0.74       380\n",
      "    weighted avg       0.74      0.74      0.74       380\n",
      "\n"
     ]
    },
    {
     "name": "stderr",
     "output_type": "stream",
     "text": [
      "Training Epochs:  34%|███▎      | 674/2000 [00:19<00:37, 35.15it/s]"
     ]
    },
    {
     "name": "stdout",
     "output_type": "stream",
     "text": [
      "Epoch 670/2000, Loss: 0.0949\n",
      "Test Accuracy at Epoch 670: 74.47%\n",
      "Test F1-score at Epoch 670: 0.7467\n",
      "Classification Report at Epoch 670:\n",
      "                  precision    recall  f1-score   support\n",
      "\n",
      "    infringement       0.77      0.72      0.74       194\n",
      "non_infringement       0.73      0.77      0.75       186\n",
      "\n",
      "        accuracy                           0.74       380\n",
      "       macro avg       0.75      0.75      0.74       380\n",
      "    weighted avg       0.75      0.74      0.74       380\n",
      "\n"
     ]
    },
    {
     "name": "stderr",
     "output_type": "stream",
     "text": [
      "Training Epochs:  34%|███▍      | 683/2000 [00:19<00:34, 37.90it/s]"
     ]
    },
    {
     "name": "stdout",
     "output_type": "stream",
     "text": [
      "Epoch 680/2000, Loss: 0.0947\n",
      "Test Accuracy at Epoch 680: 74.47%\n",
      "Test F1-score at Epoch 680: 0.7454\n",
      "Classification Report at Epoch 680:\n",
      "                  precision    recall  f1-score   support\n",
      "\n",
      "    infringement       0.76      0.73      0.74       194\n",
      "non_infringement       0.73      0.76      0.75       186\n",
      "\n",
      "        accuracy                           0.74       380\n",
      "       macro avg       0.75      0.75      0.74       380\n",
      "    weighted avg       0.75      0.74      0.74       380\n",
      "\n"
     ]
    },
    {
     "name": "stderr",
     "output_type": "stream",
     "text": [
      "Training Epochs:  35%|███▍      | 696/2000 [00:19<00:34, 38.22it/s]"
     ]
    },
    {
     "name": "stdout",
     "output_type": "stream",
     "text": [
      "Epoch 690/2000, Loss: 0.0961\n",
      "Test Accuracy at Epoch 690: 73.16%\n",
      "Test F1-score at Epoch 690: 0.7371\n",
      "Classification Report at Epoch 690:\n",
      "                  precision    recall  f1-score   support\n",
      "\n",
      "    infringement       0.76      0.70      0.73       194\n",
      "non_infringement       0.71      0.77      0.74       186\n",
      "\n",
      "        accuracy                           0.73       380\n",
      "       macro avg       0.73      0.73      0.73       380\n",
      "    weighted avg       0.73      0.73      0.73       380\n",
      "\n"
     ]
    },
    {
     "name": "stderr",
     "output_type": "stream",
     "text": [
      "Training Epochs:  35%|███▌      | 705/2000 [00:20<00:34, 37.94it/s]"
     ]
    },
    {
     "name": "stdout",
     "output_type": "stream",
     "text": [
      "Epoch 700/2000, Loss: 0.0953\n",
      "Test Accuracy at Epoch 700: 73.95%\n",
      "Test F1-score at Epoch 700: 0.7429\n",
      "Classification Report at Epoch 700:\n",
      "                  precision    recall  f1-score   support\n",
      "\n",
      "    infringement       0.76      0.71      0.74       194\n",
      "non_infringement       0.72      0.77      0.74       186\n",
      "\n",
      "        accuracy                           0.74       380\n",
      "       macro avg       0.74      0.74      0.74       380\n",
      "    weighted avg       0.74      0.74      0.74       380\n",
      "\n"
     ]
    },
    {
     "name": "stderr",
     "output_type": "stream",
     "text": [
      "Training Epochs:  36%|███▌      | 715/2000 [00:20<00:31, 40.29it/s]"
     ]
    },
    {
     "name": "stdout",
     "output_type": "stream",
     "text": [
      "Epoch 710/2000, Loss: 0.0943\n",
      "Test Accuracy at Epoch 710: 74.47%\n",
      "Test F1-score at Epoch 710: 0.7467\n",
      "Classification Report at Epoch 710:\n",
      "                  precision    recall  f1-score   support\n",
      "\n",
      "    infringement       0.77      0.72      0.74       194\n",
      "non_infringement       0.73      0.77      0.75       186\n",
      "\n",
      "        accuracy                           0.74       380\n",
      "       macro avg       0.75      0.75      0.74       380\n",
      "    weighted avg       0.75      0.74      0.74       380\n",
      "\n"
     ]
    },
    {
     "name": "stderr",
     "output_type": "stream",
     "text": [
      "Training Epochs:  36%|███▋      | 725/2000 [00:20<00:33, 38.22it/s]"
     ]
    },
    {
     "name": "stdout",
     "output_type": "stream",
     "text": [
      "Epoch 720/2000, Loss: 0.0945\n",
      "Test Accuracy at Epoch 720: 74.74%\n",
      "Test F1-score at Epoch 720: 0.7487\n",
      "Classification Report at Epoch 720:\n",
      "                  precision    recall  f1-score   support\n",
      "\n",
      "    infringement       0.77      0.73      0.75       194\n",
      "non_infringement       0.73      0.77      0.75       186\n",
      "\n",
      "        accuracy                           0.75       380\n",
      "       macro avg       0.75      0.75      0.75       380\n",
      "    weighted avg       0.75      0.75      0.75       380\n",
      "\n"
     ]
    },
    {
     "name": "stderr",
     "output_type": "stream",
     "text": [
      "Training Epochs:  37%|███▋      | 734/2000 [00:20<00:34, 37.16it/s]"
     ]
    },
    {
     "name": "stdout",
     "output_type": "stream",
     "text": [
      "Epoch 730/2000, Loss: 0.0954\n",
      "Test Accuracy at Epoch 730: 73.16%\n",
      "Test F1-score at Epoch 730: 0.7371\n",
      "Classification Report at Epoch 730:\n",
      "                  precision    recall  f1-score   support\n",
      "\n",
      "    infringement       0.76      0.70      0.73       194\n",
      "non_infringement       0.71      0.77      0.74       186\n",
      "\n",
      "        accuracy                           0.73       380\n",
      "       macro avg       0.73      0.73      0.73       380\n",
      "    weighted avg       0.73      0.73      0.73       380\n",
      "\n"
     ]
    },
    {
     "name": "stderr",
     "output_type": "stream",
     "text": [
      "Training Epochs:  37%|███▋      | 744/2000 [00:21<00:31, 39.72it/s]"
     ]
    },
    {
     "name": "stdout",
     "output_type": "stream",
     "text": [
      "Epoch 740/2000, Loss: 0.0968\n",
      "Test Accuracy at Epoch 740: 73.42%\n",
      "Test F1-score at Epoch 740: 0.7404\n",
      "Classification Report at Epoch 740:\n",
      "                  precision    recall  f1-score   support\n",
      "\n",
      "    infringement       0.76      0.70      0.73       194\n",
      "non_infringement       0.71      0.77      0.74       186\n",
      "\n",
      "        accuracy                           0.73       380\n",
      "       macro avg       0.74      0.74      0.73       380\n",
      "    weighted avg       0.74      0.73      0.73       380\n",
      "\n"
     ]
    },
    {
     "name": "stderr",
     "output_type": "stream",
     "text": [
      "Training Epochs:  38%|███▊      | 758/2000 [00:21<00:31, 39.93it/s]"
     ]
    },
    {
     "name": "stdout",
     "output_type": "stream",
     "text": [
      "Epoch 750/2000, Loss: 0.0940\n",
      "Test Accuracy at Epoch 750: 75.26%\n",
      "Test F1-score at Epoch 750: 0.7526\n",
      "Classification Report at Epoch 750:\n",
      "                  precision    recall  f1-score   support\n",
      "\n",
      "    infringement       0.77      0.74      0.75       194\n",
      "non_infringement       0.74      0.77      0.75       186\n",
      "\n",
      "        accuracy                           0.75       380\n",
      "       macro avg       0.75      0.75      0.75       380\n",
      "    weighted avg       0.75      0.75      0.75       380\n",
      "\n"
     ]
    },
    {
     "name": "stderr",
     "output_type": "stream",
     "text": [
      "Training Epochs:  38%|███▊      | 763/2000 [00:21<00:37, 33.21it/s]"
     ]
    },
    {
     "name": "stdout",
     "output_type": "stream",
     "text": [
      "Epoch 760/2000, Loss: 0.0937\n",
      "Test Accuracy at Epoch 760: 74.21%\n",
      "Test F1-score at Epoch 760: 0.7448\n",
      "Classification Report at Epoch 760:\n",
      "                  precision    recall  f1-score   support\n",
      "\n",
      "    infringement       0.76      0.72      0.74       194\n",
      "non_infringement       0.72      0.77      0.74       186\n",
      "\n",
      "        accuracy                           0.74       380\n",
      "       macro avg       0.74      0.74      0.74       380\n",
      "    weighted avg       0.74      0.74      0.74       380\n",
      "\n"
     ]
    },
    {
     "name": "stderr",
     "output_type": "stream",
     "text": [
      "Training Epochs:  39%|███▊      | 772/2000 [00:22<00:34, 36.09it/s]"
     ]
    },
    {
     "name": "stdout",
     "output_type": "stream",
     "text": [
      "Epoch 770/2000, Loss: 0.0938\n",
      "Test Accuracy at Epoch 770: 74.21%\n",
      "Test F1-score at Epoch 770: 0.7448\n",
      "Classification Report at Epoch 770:\n",
      "                  precision    recall  f1-score   support\n",
      "\n",
      "    infringement       0.76      0.72      0.74       194\n",
      "non_infringement       0.72      0.77      0.74       186\n",
      "\n",
      "        accuracy                           0.74       380\n",
      "       macro avg       0.74      0.74      0.74       380\n",
      "    weighted avg       0.74      0.74      0.74       380\n",
      "\n"
     ]
    },
    {
     "name": "stderr",
     "output_type": "stream",
     "text": [
      "Training Epochs:  39%|███▉      | 785/2000 [00:22<00:31, 39.03it/s]"
     ]
    },
    {
     "name": "stdout",
     "output_type": "stream",
     "text": [
      "Epoch 780/2000, Loss: 0.0955\n",
      "Test Accuracy at Epoch 780: 72.63%\n",
      "Test F1-score at Epoch 780: 0.7333\n",
      "Classification Report at Epoch 780:\n",
      "                  precision    recall  f1-score   support\n",
      "\n",
      "    infringement       0.76      0.69      0.72       194\n",
      "non_infringement       0.70      0.77      0.73       186\n",
      "\n",
      "        accuracy                           0.73       380\n",
      "       macro avg       0.73      0.73      0.73       380\n",
      "    weighted avg       0.73      0.73      0.73       380\n",
      "\n"
     ]
    },
    {
     "name": "stderr",
     "output_type": "stream",
     "text": [
      "Training Epochs:  40%|███▉      | 794/2000 [00:22<00:30, 38.92it/s]"
     ]
    },
    {
     "name": "stdout",
     "output_type": "stream",
     "text": [
      "Epoch 790/2000, Loss: 0.0935\n",
      "Test Accuracy at Epoch 790: 74.74%\n",
      "Test F1-score at Epoch 790: 0.7487\n",
      "Classification Report at Epoch 790:\n",
      "                  precision    recall  f1-score   support\n",
      "\n",
      "    infringement       0.77      0.73      0.75       194\n",
      "non_infringement       0.73      0.77      0.75       186\n",
      "\n",
      "        accuracy                           0.75       380\n",
      "       macro avg       0.75      0.75      0.75       380\n",
      "    weighted avg       0.75      0.75      0.75       380\n",
      "\n"
     ]
    },
    {
     "name": "stderr",
     "output_type": "stream",
     "text": [
      "Training Epochs:  40%|████      | 804/2000 [00:22<00:28, 41.54it/s]"
     ]
    },
    {
     "name": "stdout",
     "output_type": "stream",
     "text": [
      "Epoch 800/2000, Loss: 0.0950\n",
      "Test Accuracy at Epoch 800: 77.11%\n",
      "Test F1-score at Epoch 800: 0.7655\n",
      "Classification Report at Epoch 800:\n",
      "                  precision    recall  f1-score   support\n",
      "\n",
      "    infringement       0.77      0.78      0.78       194\n",
      "non_infringement       0.77      0.76      0.77       186\n",
      "\n",
      "        accuracy                           0.77       380\n",
      "       macro avg       0.77      0.77      0.77       380\n",
      "    weighted avg       0.77      0.77      0.77       380\n",
      "\n"
     ]
    },
    {
     "name": "stderr",
     "output_type": "stream",
     "text": [
      "Training Epochs:  41%|████      | 819/2000 [00:23<00:28, 41.59it/s]"
     ]
    },
    {
     "name": "stdout",
     "output_type": "stream",
     "text": [
      "Epoch 810/2000, Loss: 0.0936\n",
      "Test Accuracy at Epoch 810: 74.21%\n",
      "Test F1-score at Epoch 810: 0.7448\n",
      "Classification Report at Epoch 810:\n",
      "                  precision    recall  f1-score   support\n",
      "\n",
      "    infringement       0.76      0.72      0.74       194\n",
      "non_infringement       0.72      0.77      0.74       186\n",
      "\n",
      "        accuracy                           0.74       380\n",
      "       macro avg       0.74      0.74      0.74       380\n",
      "    weighted avg       0.74      0.74      0.74       380\n",
      "\n"
     ]
    },
    {
     "name": "stderr",
     "output_type": "stream",
     "text": [
      "Training Epochs:  41%|████      | 824/2000 [00:23<00:32, 36.38it/s]"
     ]
    },
    {
     "name": "stdout",
     "output_type": "stream",
     "text": [
      "Epoch 820/2000, Loss: 0.0948\n",
      "Test Accuracy at Epoch 820: 73.16%\n",
      "Test F1-score at Epoch 820: 0.7371\n",
      "Classification Report at Epoch 820:\n",
      "                  precision    recall  f1-score   support\n",
      "\n",
      "    infringement       0.76      0.70      0.73       194\n",
      "non_infringement       0.71      0.77      0.74       186\n",
      "\n",
      "        accuracy                           0.73       380\n",
      "       macro avg       0.73      0.73      0.73       380\n",
      "    weighted avg       0.73      0.73      0.73       380\n",
      "\n"
     ]
    },
    {
     "name": "stderr",
     "output_type": "stream",
     "text": [
      "Training Epochs:  42%|████▏     | 835/2000 [00:23<00:28, 41.32it/s]"
     ]
    },
    {
     "name": "stdout",
     "output_type": "stream",
     "text": [
      "Epoch 830/2000, Loss: 0.0934\n",
      "Test Accuracy at Epoch 830: 75.53%\n",
      "Test F1-score at Epoch 830: 0.7546\n",
      "Classification Report at Epoch 830:\n",
      "                  precision    recall  f1-score   support\n",
      "\n",
      "    infringement       0.77      0.74      0.76       194\n",
      "non_infringement       0.74      0.77      0.75       186\n",
      "\n",
      "        accuracy                           0.76       380\n",
      "       macro avg       0.76      0.76      0.76       380\n",
      "    weighted avg       0.76      0.76      0.76       380\n",
      "\n"
     ]
    },
    {
     "name": "stderr",
     "output_type": "stream",
     "text": [
      "Training Epochs:  42%|████▏     | 846/2000 [00:23<00:28, 41.20it/s]"
     ]
    },
    {
     "name": "stdout",
     "output_type": "stream",
     "text": [
      "Epoch 840/2000, Loss: 0.0950\n",
      "Test Accuracy at Epoch 840: 76.84%\n",
      "Test F1-score at Epoch 840: 0.7634\n",
      "Classification Report at Epoch 840:\n",
      "                  precision    recall  f1-score   support\n",
      "\n",
      "    infringement       0.77      0.77      0.77       194\n",
      "non_infringement       0.76      0.76      0.76       186\n",
      "\n",
      "        accuracy                           0.77       380\n",
      "       macro avg       0.77      0.77      0.77       380\n",
      "    weighted avg       0.77      0.77      0.77       380\n",
      "\n"
     ]
    },
    {
     "name": "stderr",
     "output_type": "stream",
     "text": [
      "Training Epochs:  43%|████▎     | 856/2000 [00:24<00:28, 40.03it/s]"
     ]
    },
    {
     "name": "stdout",
     "output_type": "stream",
     "text": [
      "Epoch 850/2000, Loss: 0.0936\n",
      "Test Accuracy at Epoch 850: 73.95%\n",
      "Test F1-score at Epoch 850: 0.7429\n",
      "Classification Report at Epoch 850:\n",
      "                  precision    recall  f1-score   support\n",
      "\n",
      "    infringement       0.76      0.71      0.74       194\n",
      "non_infringement       0.72      0.77      0.74       186\n",
      "\n",
      "        accuracy                           0.74       380\n",
      "       macro avg       0.74      0.74      0.74       380\n",
      "    weighted avg       0.74      0.74      0.74       380\n",
      "\n"
     ]
    },
    {
     "name": "stderr",
     "output_type": "stream",
     "text": [
      "Training Epochs:  43%|████▎     | 867/2000 [00:24<00:25, 44.08it/s]"
     ]
    },
    {
     "name": "stdout",
     "output_type": "stream",
     "text": [
      "Epoch 860/2000, Loss: 0.0951\n",
      "Test Accuracy at Epoch 860: 74.47%\n",
      "Test F1-score at Epoch 860: 0.7467\n",
      "Classification Report at Epoch 860:\n",
      "                  precision    recall  f1-score   support\n",
      "\n",
      "    infringement       0.77      0.72      0.74       194\n",
      "non_infringement       0.73      0.77      0.75       186\n",
      "\n",
      "        accuracy                           0.74       380\n",
      "       macro avg       0.75      0.75      0.74       380\n",
      "    weighted avg       0.75      0.74      0.74       380\n",
      "\n"
     ]
    },
    {
     "name": "stderr",
     "output_type": "stream",
     "text": [
      "Training Epochs:  44%|████▍     | 877/2000 [00:24<00:26, 42.05it/s]"
     ]
    },
    {
     "name": "stdout",
     "output_type": "stream",
     "text": [
      "Epoch 870/2000, Loss: 0.0939\n",
      "Test Accuracy at Epoch 870: 75.79%\n",
      "Test F1-score at Epoch 870: 0.7553\n",
      "Classification Report at Epoch 870:\n",
      "                  precision    recall  f1-score   support\n",
      "\n",
      "    infringement       0.77      0.75      0.76       194\n",
      "non_infringement       0.75      0.76      0.76       186\n",
      "\n",
      "        accuracy                           0.76       380\n",
      "       macro avg       0.76      0.76      0.76       380\n",
      "    weighted avg       0.76      0.76      0.76       380\n",
      "\n"
     ]
    },
    {
     "name": "stderr",
     "output_type": "stream",
     "text": [
      "Training Epochs:  44%|████▍     | 882/2000 [00:24<00:27, 40.95it/s]"
     ]
    },
    {
     "name": "stdout",
     "output_type": "stream",
     "text": [
      "Epoch 880/2000, Loss: 0.0938\n",
      "Test Accuracy at Epoch 880: 75.53%\n",
      "Test F1-score at Epoch 880: 0.7546\n",
      "Classification Report at Epoch 880:\n",
      "                  precision    recall  f1-score   support\n",
      "\n",
      "    infringement       0.77      0.74      0.76       194\n",
      "non_infringement       0.74      0.77      0.75       186\n",
      "\n",
      "        accuracy                           0.76       380\n",
      "       macro avg       0.76      0.76      0.76       380\n",
      "    weighted avg       0.76      0.76      0.76       380\n",
      "\n"
     ]
    },
    {
     "name": "stderr",
     "output_type": "stream",
     "text": [
      "Training Epochs:  45%|████▍     | 899/2000 [00:25<00:25, 43.33it/s]"
     ]
    },
    {
     "name": "stdout",
     "output_type": "stream",
     "text": [
      "Epoch 890/2000, Loss: 0.0943\n",
      "Test Accuracy at Epoch 890: 73.16%\n",
      "Test F1-score at Epoch 890: 0.7371\n",
      "Classification Report at Epoch 890:\n",
      "                  precision    recall  f1-score   support\n",
      "\n",
      "    infringement       0.76      0.70      0.73       194\n",
      "non_infringement       0.71      0.77      0.74       186\n",
      "\n",
      "        accuracy                           0.73       380\n",
      "       macro avg       0.73      0.73      0.73       380\n",
      "    weighted avg       0.73      0.73      0.73       380\n",
      "\n"
     ]
    },
    {
     "name": "stderr",
     "output_type": "stream",
     "text": [
      "Training Epochs:  45%|████▌     | 904/2000 [00:25<00:28, 39.09it/s]"
     ]
    },
    {
     "name": "stdout",
     "output_type": "stream",
     "text": [
      "Epoch 900/2000, Loss: 0.0933\n",
      "Test Accuracy at Epoch 900: 73.68%\n",
      "Test F1-score at Epoch 900: 0.7409\n",
      "Classification Report at Epoch 900:\n",
      "                  precision    recall  f1-score   support\n",
      "\n",
      "    infringement       0.76      0.71      0.73       194\n",
      "non_infringement       0.71      0.77      0.74       186\n",
      "\n",
      "        accuracy                           0.74       380\n",
      "       macro avg       0.74      0.74      0.74       380\n",
      "    weighted avg       0.74      0.74      0.74       380\n",
      "\n"
     ]
    },
    {
     "name": "stderr",
     "output_type": "stream",
     "text": [
      "Training Epochs:  46%|████▌     | 916/2000 [00:25<00:24, 44.63it/s]"
     ]
    },
    {
     "name": "stdout",
     "output_type": "stream",
     "text": [
      "Epoch 910/2000, Loss: 0.0949\n",
      "Test Accuracy at Epoch 910: 77.11%\n",
      "Test F1-score at Epoch 910: 0.7655\n",
      "Classification Report at Epoch 910:\n",
      "                  precision    recall  f1-score   support\n",
      "\n",
      "    infringement       0.77      0.78      0.78       194\n",
      "non_infringement       0.77      0.76      0.77       186\n",
      "\n",
      "        accuracy                           0.77       380\n",
      "       macro avg       0.77      0.77      0.77       380\n",
      "    weighted avg       0.77      0.77      0.77       380\n",
      "\n",
      "Epoch 920/2000, Loss: 0.0938\n"
     ]
    },
    {
     "name": "stderr",
     "output_type": "stream",
     "text": [
      "Training Epochs:  46%|████▋     | 926/2000 [00:25<00:25, 41.82it/s]"
     ]
    },
    {
     "name": "stdout",
     "output_type": "stream",
     "text": [
      "Test Accuracy at Epoch 920: 73.16%\n",
      "Test F1-score at Epoch 920: 0.7371\n",
      "Classification Report at Epoch 920:\n",
      "                  precision    recall  f1-score   support\n",
      "\n",
      "    infringement       0.76      0.70      0.73       194\n",
      "non_infringement       0.71      0.77      0.74       186\n",
      "\n",
      "        accuracy                           0.73       380\n",
      "       macro avg       0.73      0.73      0.73       380\n",
      "    weighted avg       0.73      0.73      0.73       380\n",
      "\n"
     ]
    },
    {
     "name": "stderr",
     "output_type": "stream",
     "text": [
      "Training Epochs:  47%|████▋     | 937/2000 [00:26<00:23, 44.89it/s]"
     ]
    },
    {
     "name": "stdout",
     "output_type": "stream",
     "text": [
      "Epoch 930/2000, Loss: 0.0942\n",
      "Test Accuracy at Epoch 930: 72.37%\n",
      "Test F1-score at Epoch 930: 0.7382\n",
      "Classification Report at Epoch 930:\n",
      "                  precision    recall  f1-score   support\n",
      "\n",
      "    infringement       0.77      0.65      0.71       194\n",
      "non_infringement       0.69      0.80      0.74       186\n",
      "\n",
      "        accuracy                           0.72       380\n",
      "       macro avg       0.73      0.73      0.72       380\n",
      "    weighted avg       0.73      0.72      0.72       380\n",
      "\n"
     ]
    },
    {
     "name": "stderr",
     "output_type": "stream",
     "text": [
      "Training Epochs:  47%|████▋     | 947/2000 [00:26<00:24, 42.90it/s]"
     ]
    },
    {
     "name": "stdout",
     "output_type": "stream",
     "text": [
      "Epoch 940/2000, Loss: 0.0962\n",
      "Test Accuracy at Epoch 940: 73.68%\n",
      "Test F1-score at Epoch 940: 0.7423\n",
      "Classification Report at Epoch 940:\n",
      "                  precision    recall  f1-score   support\n",
      "\n",
      "    infringement       0.76      0.70      0.73       194\n",
      "non_infringement       0.71      0.77      0.74       186\n",
      "\n",
      "        accuracy                           0.74       380\n",
      "       macro avg       0.74      0.74      0.74       380\n",
      "    weighted avg       0.74      0.74      0.74       380\n",
      "\n"
     ]
    },
    {
     "name": "stderr",
     "output_type": "stream",
     "text": [
      "Training Epochs:  48%|████▊     | 952/2000 [00:26<00:24, 43.07it/s]"
     ]
    },
    {
     "name": "stdout",
     "output_type": "stream",
     "text": [
      "Epoch 950/2000, Loss: 0.0951\n",
      "Test Accuracy at Epoch 950: 76.32%\n",
      "Test F1-score at Epoch 950: 0.7619\n",
      "Classification Report at Epoch 950:\n",
      "                  precision    recall  f1-score   support\n",
      "\n",
      "    infringement       0.78      0.75      0.76       194\n",
      "non_infringement       0.75      0.77      0.76       186\n",
      "\n",
      "        accuracy                           0.76       380\n",
      "       macro avg       0.76      0.76      0.76       380\n",
      "    weighted avg       0.76      0.76      0.76       380\n",
      "\n"
     ]
    },
    {
     "name": "stderr",
     "output_type": "stream",
     "text": [
      "Training Epochs:  48%|████▊     | 967/2000 [00:26<00:24, 42.62it/s]"
     ]
    },
    {
     "name": "stdout",
     "output_type": "stream",
     "text": [
      "Epoch 960/2000, Loss: 0.0939\n",
      "Test Accuracy at Epoch 960: 74.47%\n",
      "Test F1-score at Epoch 960: 0.7467\n",
      "Classification Report at Epoch 960:\n",
      "                  precision    recall  f1-score   support\n",
      "\n",
      "    infringement       0.77      0.72      0.74       194\n",
      "non_infringement       0.73      0.77      0.75       186\n",
      "\n",
      "        accuracy                           0.74       380\n",
      "       macro avg       0.75      0.75      0.74       380\n",
      "    weighted avg       0.75      0.74      0.74       380\n",
      "\n"
     ]
    },
    {
     "name": "stderr",
     "output_type": "stream",
     "text": [
      "Training Epochs:  49%|████▉     | 977/2000 [00:27<00:24, 41.52it/s]"
     ]
    },
    {
     "name": "stdout",
     "output_type": "stream",
     "text": [
      "Epoch 970/2000, Loss: 0.0934\n",
      "Test Accuracy at Epoch 970: 73.68%\n",
      "Test F1-score at Epoch 970: 0.7409\n",
      "Classification Report at Epoch 970:\n",
      "                  precision    recall  f1-score   support\n",
      "\n",
      "    infringement       0.76      0.71      0.73       194\n",
      "non_infringement       0.71      0.77      0.74       186\n",
      "\n",
      "        accuracy                           0.74       380\n",
      "       macro avg       0.74      0.74      0.74       380\n",
      "    weighted avg       0.74      0.74      0.74       380\n",
      "\n"
     ]
    },
    {
     "name": "stderr",
     "output_type": "stream",
     "text": [
      "Training Epochs:  49%|████▉     | 987/2000 [00:27<00:24, 41.90it/s]"
     ]
    },
    {
     "name": "stdout",
     "output_type": "stream",
     "text": [
      "Epoch 980/2000, Loss: 0.0932\n",
      "Test Accuracy at Epoch 980: 75.00%\n",
      "Test F1-score at Epoch 980: 0.7507\n",
      "Classification Report at Epoch 980:\n",
      "                  precision    recall  f1-score   support\n",
      "\n",
      "    infringement       0.77      0.73      0.75       194\n",
      "non_infringement       0.73      0.77      0.75       186\n",
      "\n",
      "        accuracy                           0.75       380\n",
      "       macro avg       0.75      0.75      0.75       380\n",
      "    weighted avg       0.75      0.75      0.75       380\n",
      "\n"
     ]
    },
    {
     "name": "stderr",
     "output_type": "stream",
     "text": [
      "Training Epochs:  50%|████▉     | 998/2000 [00:27<00:22, 44.08it/s]"
     ]
    },
    {
     "name": "stdout",
     "output_type": "stream",
     "text": [
      "Epoch 990/2000, Loss: 0.0932\n",
      "Test Accuracy at Epoch 990: 74.74%\n",
      "Test F1-score at Epoch 990: 0.7487\n",
      "Classification Report at Epoch 990:\n",
      "                  precision    recall  f1-score   support\n",
      "\n",
      "    infringement       0.77      0.73      0.75       194\n",
      "non_infringement       0.73      0.77      0.75       186\n",
      "\n",
      "        accuracy                           0.75       380\n",
      "       macro avg       0.75      0.75      0.75       380\n",
      "    weighted avg       0.75      0.75      0.75       380\n",
      "\n"
     ]
    },
    {
     "name": "stderr",
     "output_type": "stream",
     "text": [
      "Training Epochs:  50%|█████     | 1003/2000 [00:27<00:22, 44.50it/s]"
     ]
    },
    {
     "name": "stdout",
     "output_type": "stream",
     "text": [
      "Epoch 1000/2000, Loss: 0.0932\n",
      "Test Accuracy at Epoch 1000: 73.95%\n",
      "Test F1-score at Epoch 1000: 0.7429\n",
      "Classification Report at Epoch 1000:\n",
      "                  precision    recall  f1-score   support\n",
      "\n",
      "    infringement       0.76      0.71      0.74       194\n",
      "non_infringement       0.72      0.77      0.74       186\n",
      "\n",
      "        accuracy                           0.74       380\n",
      "       macro avg       0.74      0.74      0.74       380\n",
      "    weighted avg       0.74      0.74      0.74       380\n",
      "\n"
     ]
    },
    {
     "name": "stderr",
     "output_type": "stream",
     "text": [
      "Training Epochs:  51%|█████     | 1019/2000 [00:28<00:21, 44.85it/s]"
     ]
    },
    {
     "name": "stdout",
     "output_type": "stream",
     "text": [
      "Epoch 1010/2000, Loss: 0.0947\n",
      "Test Accuracy at Epoch 1010: 71.05%\n",
      "Test F1-score at Epoch 1010: 0.7277\n",
      "Classification Report at Epoch 1010:\n",
      "                  precision    recall  f1-score   support\n",
      "\n",
      "    infringement       0.76      0.63      0.69       194\n",
      "non_infringement       0.67      0.79      0.73       186\n",
      "\n",
      "        accuracy                           0.71       380\n",
      "       macro avg       0.72      0.71      0.71       380\n",
      "    weighted avg       0.72      0.71      0.71       380\n",
      "\n"
     ]
    },
    {
     "name": "stderr",
     "output_type": "stream",
     "text": [
      "Training Epochs:  51%|█████     | 1024/2000 [00:28<00:24, 40.16it/s]"
     ]
    },
    {
     "name": "stdout",
     "output_type": "stream",
     "text": [
      "Epoch 1020/2000, Loss: 0.0931\n",
      "Test Accuracy at Epoch 1020: 73.68%\n",
      "Test F1-score at Epoch 1020: 0.7409\n",
      "Classification Report at Epoch 1020:\n",
      "                  precision    recall  f1-score   support\n",
      "\n",
      "    infringement       0.76      0.71      0.73       194\n",
      "non_infringement       0.71      0.77      0.74       186\n",
      "\n",
      "        accuracy                           0.74       380\n",
      "       macro avg       0.74      0.74      0.74       380\n",
      "    weighted avg       0.74      0.74      0.74       380\n",
      "\n"
     ]
    },
    {
     "name": "stderr",
     "output_type": "stream",
     "text": [
      "Training Epochs:  52%|█████▏    | 1034/2000 [00:28<00:23, 40.69it/s]"
     ]
    },
    {
     "name": "stdout",
     "output_type": "stream",
     "text": [
      "Epoch 1030/2000, Loss: 0.0938\n",
      "Test Accuracy at Epoch 1030: 74.74%\n",
      "Test F1-score at Epoch 1030: 0.7487\n",
      "Classification Report at Epoch 1030:\n",
      "                  precision    recall  f1-score   support\n",
      "\n",
      "    infringement       0.77      0.73      0.75       194\n",
      "non_infringement       0.73      0.77      0.75       186\n",
      "\n",
      "        accuracy                           0.75       380\n",
      "       macro avg       0.75      0.75      0.75       380\n",
      "    weighted avg       0.75      0.75      0.75       380\n",
      "\n"
     ]
    },
    {
     "name": "stderr",
     "output_type": "stream",
     "text": [
      "Training Epochs:  52%|█████▏    | 1044/2000 [00:28<00:23, 41.06it/s]"
     ]
    },
    {
     "name": "stdout",
     "output_type": "stream",
     "text": [
      "Epoch 1040/2000, Loss: 0.0946\n",
      "Test Accuracy at Epoch 1040: 73.95%\n",
      "Test F1-score at Epoch 1040: 0.7429\n",
      "Classification Report at Epoch 1040:\n",
      "                  precision    recall  f1-score   support\n",
      "\n",
      "    infringement       0.76      0.71      0.74       194\n",
      "non_infringement       0.72      0.77      0.74       186\n",
      "\n",
      "        accuracy                           0.74       380\n",
      "       macro avg       0.74      0.74      0.74       380\n",
      "    weighted avg       0.74      0.74      0.74       380\n",
      "\n",
      "Epoch 1050/2000, Loss: 0.0938\n",
      "Test Accuracy at Epoch 1050: 76.05%\n",
      "Test F1-score at Epoch 1050: 0.7586\n"
     ]
    },
    {
     "name": "stderr",
     "output_type": "stream",
     "text": [
      "Training Epochs:  53%|█████▎    | 1055/2000 [00:28<00:22, 41.47it/s]"
     ]
    },
    {
     "name": "stdout",
     "output_type": "stream",
     "text": [
      "Classification Report at Epoch 1050:\n",
      "                  precision    recall  f1-score   support\n",
      "\n",
      "    infringement       0.77      0.75      0.76       194\n",
      "non_infringement       0.75      0.77      0.76       186\n",
      "\n",
      "        accuracy                           0.76       380\n",
      "       macro avg       0.76      0.76      0.76       380\n",
      "    weighted avg       0.76      0.76      0.76       380\n",
      "\n"
     ]
    },
    {
     "name": "stderr",
     "output_type": "stream",
     "text": [
      "Training Epochs:  53%|█████▎    | 1066/2000 [00:29<00:19, 46.81it/s]"
     ]
    },
    {
     "name": "stdout",
     "output_type": "stream",
     "text": [
      "Epoch 1060/2000, Loss: 0.0935\n",
      "Test Accuracy at Epoch 1060: 73.95%\n",
      "Test F1-score at Epoch 1060: 0.7429\n",
      "Classification Report at Epoch 1060:\n",
      "                  precision    recall  f1-score   support\n",
      "\n",
      "    infringement       0.76      0.71      0.74       194\n",
      "non_infringement       0.72      0.77      0.74       186\n",
      "\n",
      "        accuracy                           0.74       380\n",
      "       macro avg       0.74      0.74      0.74       380\n",
      "    weighted avg       0.74      0.74      0.74       380\n",
      "\n",
      "Epoch 1070/2000, Loss: 0.0939\n",
      "Test Accuracy at Epoch 1070: 72.89%\n",
      "Test F1-score at Epoch 1070: 0.7406\n"
     ]
    },
    {
     "name": "stderr",
     "output_type": "stream",
     "text": [
      "Training Epochs:  54%|█████▍    | 1076/2000 [00:29<00:21, 43.36it/s]"
     ]
    },
    {
     "name": "stdout",
     "output_type": "stream",
     "text": [
      "Classification Report at Epoch 1070:\n",
      "                  precision    recall  f1-score   support\n",
      "\n",
      "    infringement       0.77      0.67      0.72       194\n",
      "non_infringement       0.70      0.79      0.74       186\n",
      "\n",
      "        accuracy                           0.73       380\n",
      "       macro avg       0.73      0.73      0.73       380\n",
      "    weighted avg       0.73      0.73      0.73       380\n",
      "\n"
     ]
    },
    {
     "name": "stderr",
     "output_type": "stream",
     "text": [
      "Training Epochs:  54%|█████▍    | 1087/2000 [00:29<00:19, 45.82it/s]"
     ]
    },
    {
     "name": "stdout",
     "output_type": "stream",
     "text": [
      "Epoch 1080/2000, Loss: 0.0932\n",
      "Test Accuracy at Epoch 1080: 74.21%\n",
      "Test F1-score at Epoch 1080: 0.7448\n",
      "Classification Report at Epoch 1080:\n",
      "                  precision    recall  f1-score   support\n",
      "\n",
      "    infringement       0.76      0.72      0.74       194\n",
      "non_infringement       0.72      0.77      0.74       186\n",
      "\n",
      "        accuracy                           0.74       380\n",
      "       macro avg       0.74      0.74      0.74       380\n",
      "    weighted avg       0.74      0.74      0.74       380\n",
      "\n"
     ]
    },
    {
     "name": "stderr",
     "output_type": "stream",
     "text": [
      "Training Epochs:  55%|█████▍    | 1098/2000 [00:29<00:21, 41.12it/s]"
     ]
    },
    {
     "name": "stdout",
     "output_type": "stream",
     "text": [
      "Epoch 1090/2000, Loss: 0.0938\n",
      "Test Accuracy at Epoch 1090: 74.74%\n",
      "Test F1-score at Epoch 1090: 0.7487\n",
      "Classification Report at Epoch 1090:\n",
      "                  precision    recall  f1-score   support\n",
      "\n",
      "    infringement       0.77      0.73      0.75       194\n",
      "non_infringement       0.73      0.77      0.75       186\n",
      "\n",
      "        accuracy                           0.75       380\n",
      "       macro avg       0.75      0.75      0.75       380\n",
      "    weighted avg       0.75      0.75      0.75       380\n",
      "\n"
     ]
    },
    {
     "name": "stderr",
     "output_type": "stream",
     "text": [
      "Training Epochs:  55%|█████▌    | 1103/2000 [00:30<00:22, 40.49it/s]"
     ]
    },
    {
     "name": "stdout",
     "output_type": "stream",
     "text": [
      "Epoch 1100/2000, Loss: 0.0952\n",
      "Test Accuracy at Epoch 1100: 72.37%\n",
      "Test F1-score at Epoch 1100: 0.7368\n",
      "Classification Report at Epoch 1100:\n",
      "                  precision    recall  f1-score   support\n",
      "\n",
      "    infringement       0.77      0.66      0.71       194\n",
      "non_infringement       0.69      0.79      0.74       186\n",
      "\n",
      "        accuracy                           0.72       380\n",
      "       macro avg       0.73      0.73      0.72       380\n",
      "    weighted avg       0.73      0.72      0.72       380\n",
      "\n"
     ]
    },
    {
     "name": "stderr",
     "output_type": "stream",
     "text": [
      "Training Epochs:  56%|█████▌    | 1118/2000 [00:30<00:21, 41.28it/s]"
     ]
    },
    {
     "name": "stdout",
     "output_type": "stream",
     "text": [
      "Epoch 1110/2000, Loss: 0.0971\n",
      "Test Accuracy at Epoch 1110: 72.63%\n",
      "Test F1-score at Epoch 1110: 0.7413\n",
      "Classification Report at Epoch 1110:\n",
      "                  precision    recall  f1-score   support\n",
      "\n",
      "    infringement       0.77      0.65      0.71       194\n",
      "non_infringement       0.69      0.80      0.74       186\n",
      "\n",
      "        accuracy                           0.73       380\n",
      "       macro avg       0.73      0.73      0.73       380\n",
      "    weighted avg       0.73      0.73      0.73       380\n",
      "\n"
     ]
    },
    {
     "name": "stderr",
     "output_type": "stream",
     "text": [
      "Training Epochs:  56%|█████▌    | 1123/2000 [00:30<00:25, 34.14it/s]"
     ]
    },
    {
     "name": "stdout",
     "output_type": "stream",
     "text": [
      "Epoch 1120/2000, Loss: 0.0960\n",
      "Test Accuracy at Epoch 1120: 75.00%\n",
      "Test F1-score at Epoch 1120: 0.7558\n",
      "Classification Report at Epoch 1120:\n",
      "                  precision    recall  f1-score   support\n",
      "\n",
      "    infringement       0.78      0.71      0.74       194\n",
      "non_infringement       0.72      0.79      0.76       186\n",
      "\n",
      "        accuracy                           0.75       380\n",
      "       macro avg       0.75      0.75      0.75       380\n",
      "    weighted avg       0.75      0.75      0.75       380\n",
      "\n"
     ]
    },
    {
     "name": "stderr",
     "output_type": "stream",
     "text": [
      "Training Epochs:  57%|█████▋    | 1134/2000 [00:30<00:21, 41.10it/s]"
     ]
    },
    {
     "name": "stdout",
     "output_type": "stream",
     "text": [
      "Epoch 1130/2000, Loss: 0.0943\n",
      "Test Accuracy at Epoch 1130: 73.42%\n",
      "Test F1-score at Epoch 1130: 0.7443\n",
      "Classification Report at Epoch 1130:\n",
      "                  precision    recall  f1-score   support\n",
      "\n",
      "    infringement       0.77      0.68      0.72       194\n",
      "non_infringement       0.70      0.79      0.74       186\n",
      "\n",
      "        accuracy                           0.73       380\n",
      "       macro avg       0.74      0.74      0.73       380\n",
      "    weighted avg       0.74      0.73      0.73       380\n",
      "\n"
     ]
    },
    {
     "name": "stderr",
     "output_type": "stream",
     "text": [
      "Training Epochs:  57%|█████▋    | 1144/2000 [00:31<00:22, 37.84it/s]"
     ]
    },
    {
     "name": "stdout",
     "output_type": "stream",
     "text": [
      "Epoch 1140/2000, Loss: 0.0937\n",
      "Test Accuracy at Epoch 1140: 72.89%\n",
      "Test F1-score at Epoch 1140: 0.7406\n",
      "Classification Report at Epoch 1140:\n",
      "                  precision    recall  f1-score   support\n",
      "\n",
      "    infringement       0.77      0.67      0.72       194\n",
      "non_infringement       0.70      0.79      0.74       186\n",
      "\n",
      "        accuracy                           0.73       380\n",
      "       macro avg       0.73      0.73      0.73       380\n",
      "    weighted avg       0.73      0.73      0.73       380\n",
      "\n"
     ]
    },
    {
     "name": "stderr",
     "output_type": "stream",
     "text": [
      "Training Epochs:  58%|█████▊    | 1157/2000 [00:31<00:22, 36.86it/s]"
     ]
    },
    {
     "name": "stdout",
     "output_type": "stream",
     "text": [
      "Epoch 1150/2000, Loss: 0.0932\n",
      "Test Accuracy at Epoch 1150: 72.89%\n",
      "Test F1-score at Epoch 1150: 0.7406\n",
      "Classification Report at Epoch 1150:\n",
      "                  precision    recall  f1-score   support\n",
      "\n",
      "    infringement       0.77      0.67      0.72       194\n",
      "non_infringement       0.70      0.79      0.74       186\n",
      "\n",
      "        accuracy                           0.73       380\n",
      "       macro avg       0.73      0.73      0.73       380\n",
      "    weighted avg       0.73      0.73      0.73       380\n",
      "\n"
     ]
    },
    {
     "name": "stderr",
     "output_type": "stream",
     "text": [
      "Training Epochs:  58%|█████▊    | 1162/2000 [00:31<00:21, 39.28it/s]"
     ]
    },
    {
     "name": "stdout",
     "output_type": "stream",
     "text": [
      "Epoch 1160/2000, Loss: 0.0931\n",
      "Test Accuracy at Epoch 1160: 73.16%\n",
      "Test F1-score at Epoch 1160: 0.7424\n",
      "Classification Report at Epoch 1160:\n",
      "                  precision    recall  f1-score   support\n",
      "\n",
      "    infringement       0.77      0.68      0.72       194\n",
      "non_infringement       0.70      0.79      0.74       186\n",
      "\n",
      "        accuracy                           0.73       380\n",
      "       macro avg       0.74      0.73      0.73       380\n",
      "    weighted avg       0.74      0.73      0.73       380\n",
      "\n"
     ]
    },
    {
     "name": "stderr",
     "output_type": "stream",
     "text": [
      "Training Epochs:  59%|█████▉    | 1175/2000 [00:32<00:26, 30.84it/s]"
     ]
    },
    {
     "name": "stdout",
     "output_type": "stream",
     "text": [
      "Epoch 1170/2000, Loss: 0.0930\n",
      "Test Accuracy at Epoch 1170: 73.42%\n",
      "Test F1-score at Epoch 1170: 0.7443\n",
      "Classification Report at Epoch 1170:\n",
      "                  precision    recall  f1-score   support\n",
      "\n",
      "    infringement       0.77      0.68      0.72       194\n",
      "non_infringement       0.70      0.79      0.74       186\n",
      "\n",
      "        accuracy                           0.73       380\n",
      "       macro avg       0.74      0.74      0.73       380\n",
      "    weighted avg       0.74      0.73      0.73       380\n",
      "\n"
     ]
    },
    {
     "name": "stderr",
     "output_type": "stream",
     "text": [
      "Training Epochs:  59%|█████▉    | 1185/2000 [00:32<00:22, 36.65it/s]"
     ]
    },
    {
     "name": "stdout",
     "output_type": "stream",
     "text": [
      "Epoch 1180/2000, Loss: 0.0930\n",
      "Test Accuracy at Epoch 1180: 73.68%\n",
      "Test F1-score at Epoch 1180: 0.7462\n",
      "Classification Report at Epoch 1180:\n",
      "                  precision    recall  f1-score   support\n",
      "\n",
      "    infringement       0.77      0.69      0.73       194\n",
      "non_infringement       0.71      0.79      0.75       186\n",
      "\n",
      "        accuracy                           0.74       380\n",
      "       macro avg       0.74      0.74      0.74       380\n",
      "    weighted avg       0.74      0.74      0.74       380\n",
      "\n"
     ]
    },
    {
     "name": "stderr",
     "output_type": "stream",
     "text": [
      "Training Epochs:  60%|█████▉    | 1195/2000 [00:32<00:20, 38.87it/s]"
     ]
    },
    {
     "name": "stdout",
     "output_type": "stream",
     "text": [
      "Epoch 1190/2000, Loss: 0.0930\n",
      "Test Accuracy at Epoch 1190: 73.42%\n",
      "Test F1-score at Epoch 1190: 0.7443\n",
      "Classification Report at Epoch 1190:\n",
      "                  precision    recall  f1-score   support\n",
      "\n",
      "    infringement       0.77      0.68      0.72       194\n",
      "non_infringement       0.70      0.79      0.74       186\n",
      "\n",
      "        accuracy                           0.73       380\n",
      "       macro avg       0.74      0.74      0.73       380\n",
      "    weighted avg       0.74      0.73      0.73       380\n",
      "\n"
     ]
    },
    {
     "name": "stderr",
     "output_type": "stream",
     "text": [
      "Training Epochs:  60%|██████    | 1205/2000 [00:32<00:19, 40.94it/s]"
     ]
    },
    {
     "name": "stdout",
     "output_type": "stream",
     "text": [
      "Epoch 1200/2000, Loss: 0.0929\n",
      "Test Accuracy at Epoch 1200: 72.89%\n",
      "Test F1-score at Epoch 1200: 0.7406\n",
      "Classification Report at Epoch 1200:\n",
      "                  precision    recall  f1-score   support\n",
      "\n",
      "    infringement       0.77      0.67      0.72       194\n",
      "non_infringement       0.70      0.79      0.74       186\n",
      "\n",
      "        accuracy                           0.73       380\n",
      "       macro avg       0.73      0.73      0.73       380\n",
      "    weighted avg       0.73      0.73      0.73       380\n",
      "\n"
     ]
    },
    {
     "name": "stderr",
     "output_type": "stream",
     "text": [
      "Training Epochs:  61%|██████    | 1215/2000 [00:33<00:20, 38.78it/s]"
     ]
    },
    {
     "name": "stdout",
     "output_type": "stream",
     "text": [
      "Epoch 1210/2000, Loss: 0.0929\n",
      "Test Accuracy at Epoch 1210: 72.89%\n",
      "Test F1-score at Epoch 1210: 0.7406\n",
      "Classification Report at Epoch 1210:\n",
      "                  precision    recall  f1-score   support\n",
      "\n",
      "    infringement       0.77      0.67      0.72       194\n",
      "non_infringement       0.70      0.79      0.74       186\n",
      "\n",
      "        accuracy                           0.73       380\n",
      "       macro avg       0.73      0.73      0.73       380\n",
      "    weighted avg       0.73      0.73      0.73       380\n",
      "\n"
     ]
    },
    {
     "name": "stderr",
     "output_type": "stream",
     "text": [
      "Training Epochs:  61%|██████▏   | 1225/2000 [00:33<00:21, 36.87it/s]"
     ]
    },
    {
     "name": "stdout",
     "output_type": "stream",
     "text": [
      "Epoch 1220/2000, Loss: 0.0934\n",
      "Test Accuracy at Epoch 1220: 72.37%\n",
      "Test F1-score at Epoch 1220: 0.7368\n",
      "Classification Report at Epoch 1220:\n",
      "                  precision    recall  f1-score   support\n",
      "\n",
      "    infringement       0.77      0.66      0.71       194\n",
      "non_infringement       0.69      0.79      0.74       186\n",
      "\n",
      "        accuracy                           0.72       380\n",
      "       macro avg       0.73      0.73      0.72       380\n",
      "    weighted avg       0.73      0.72      0.72       380\n",
      "\n"
     ]
    },
    {
     "name": "stderr",
     "output_type": "stream",
     "text": [
      "Training Epochs:  62%|██████▏   | 1236/2000 [00:33<00:18, 42.07it/s]"
     ]
    },
    {
     "name": "stdout",
     "output_type": "stream",
     "text": [
      "Epoch 1230/2000, Loss: 0.0932\n",
      "Test Accuracy at Epoch 1230: 76.58%\n",
      "Test F1-score at Epoch 1230: 0.7627\n",
      "Classification Report at Epoch 1230:\n",
      "                  precision    recall  f1-score   support\n",
      "\n",
      "    infringement       0.77      0.76      0.77       194\n",
      "non_infringement       0.76      0.77      0.76       186\n",
      "\n",
      "        accuracy                           0.77       380\n",
      "       macro avg       0.77      0.77      0.77       380\n",
      "    weighted avg       0.77      0.77      0.77       380\n",
      "\n"
     ]
    },
    {
     "name": "stderr",
     "output_type": "stream",
     "text": [
      "Training Epochs:  62%|██████▏   | 1246/2000 [00:33<00:18, 40.95it/s]"
     ]
    },
    {
     "name": "stdout",
     "output_type": "stream",
     "text": [
      "Epoch 1240/2000, Loss: 0.0970\n",
      "Test Accuracy at Epoch 1240: 72.37%\n",
      "Test F1-score at Epoch 1240: 0.7368\n",
      "Classification Report at Epoch 1240:\n",
      "                  precision    recall  f1-score   support\n",
      "\n",
      "    infringement       0.77      0.66      0.71       194\n",
      "non_infringement       0.69      0.79      0.74       186\n",
      "\n",
      "        accuracy                           0.72       380\n",
      "       macro avg       0.73      0.73      0.72       380\n",
      "    weighted avg       0.73      0.72      0.72       380\n",
      "\n"
     ]
    },
    {
     "name": "stderr",
     "output_type": "stream",
     "text": [
      "Training Epochs:  63%|██████▎   | 1251/2000 [00:34<00:17, 41.97it/s]"
     ]
    },
    {
     "name": "stdout",
     "output_type": "stream",
     "text": [
      "Epoch 1250/2000, Loss: 0.0957\n",
      "Test Accuracy at Epoch 1250: 72.37%\n",
      "Test F1-score at Epoch 1250: 0.7368\n",
      "Classification Report at Epoch 1250:\n",
      "                  precision    recall  f1-score   support\n",
      "\n",
      "    infringement       0.77      0.66      0.71       194\n",
      "non_infringement       0.69      0.79      0.74       186\n",
      "\n",
      "        accuracy                           0.72       380\n",
      "       macro avg       0.73      0.73      0.72       380\n",
      "    weighted avg       0.73      0.72      0.72       380\n",
      "\n"
     ]
    },
    {
     "name": "stderr",
     "output_type": "stream",
     "text": [
      "Training Epochs:  63%|██████▎   | 1266/2000 [00:34<00:18, 40.65it/s]"
     ]
    },
    {
     "name": "stdout",
     "output_type": "stream",
     "text": [
      "Epoch 1260/2000, Loss: 0.0933\n",
      "Test Accuracy at Epoch 1260: 72.63%\n",
      "Test F1-score at Epoch 1260: 0.7387\n",
      "Classification Report at Epoch 1260:\n",
      "                  precision    recall  f1-score   support\n",
      "\n",
      "    infringement       0.77      0.66      0.71       194\n",
      "non_infringement       0.69      0.79      0.74       186\n",
      "\n",
      "        accuracy                           0.73       380\n",
      "       macro avg       0.73      0.73      0.73       380\n",
      "    weighted avg       0.73      0.73      0.73       380\n",
      "\n"
     ]
    },
    {
     "name": "stderr",
     "output_type": "stream",
     "text": [
      "Training Epochs:  64%|██████▍   | 1276/2000 [00:34<00:18, 39.51it/s]"
     ]
    },
    {
     "name": "stdout",
     "output_type": "stream",
     "text": [
      "Epoch 1270/2000, Loss: 0.0929\n",
      "Test Accuracy at Epoch 1270: 73.16%\n",
      "Test F1-score at Epoch 1270: 0.7424\n",
      "Classification Report at Epoch 1270:\n",
      "                  precision    recall  f1-score   support\n",
      "\n",
      "    infringement       0.77      0.68      0.72       194\n",
      "non_infringement       0.70      0.79      0.74       186\n",
      "\n",
      "        accuracy                           0.73       380\n",
      "       macro avg       0.74      0.73      0.73       380\n",
      "    weighted avg       0.74      0.73      0.73       380\n",
      "\n"
     ]
    },
    {
     "name": "stderr",
     "output_type": "stream",
     "text": [
      "Training Epochs:  64%|██████▍   | 1281/2000 [00:34<00:17, 40.15it/s]"
     ]
    },
    {
     "name": "stdout",
     "output_type": "stream",
     "text": [
      "Epoch 1280/2000, Loss: 0.0930\n",
      "Test Accuracy at Epoch 1280: 73.16%\n",
      "Test F1-score at Epoch 1280: 0.7424\n",
      "Classification Report at Epoch 1280:\n",
      "                  precision    recall  f1-score   support\n",
      "\n",
      "    infringement       0.77      0.68      0.72       194\n",
      "non_infringement       0.70      0.79      0.74       186\n",
      "\n",
      "        accuracy                           0.73       380\n",
      "       macro avg       0.74      0.73      0.73       380\n",
      "    weighted avg       0.74      0.73      0.73       380\n",
      "\n"
     ]
    },
    {
     "name": "stderr",
     "output_type": "stream",
     "text": [
      "Training Epochs:  65%|██████▍   | 1297/2000 [00:35<00:17, 41.13it/s]"
     ]
    },
    {
     "name": "stdout",
     "output_type": "stream",
     "text": [
      "Epoch 1290/2000, Loss: 0.0929\n",
      "Test Accuracy at Epoch 1290: 73.16%\n",
      "Test F1-score at Epoch 1290: 0.7424\n",
      "Classification Report at Epoch 1290:\n",
      "                  precision    recall  f1-score   support\n",
      "\n",
      "    infringement       0.77      0.68      0.72       194\n",
      "non_infringement       0.70      0.79      0.74       186\n",
      "\n",
      "        accuracy                           0.73       380\n",
      "       macro avg       0.74      0.73      0.73       380\n",
      "    weighted avg       0.74      0.73      0.73       380\n",
      "\n"
     ]
    },
    {
     "name": "stderr",
     "output_type": "stream",
     "text": [
      "Training Epochs:  65%|██████▌   | 1302/2000 [00:35<00:17, 38.90it/s]"
     ]
    },
    {
     "name": "stdout",
     "output_type": "stream",
     "text": [
      "Epoch 1300/2000, Loss: 0.0929\n",
      "Test Accuracy at Epoch 1300: 73.16%\n",
      "Test F1-score at Epoch 1300: 0.7424\n",
      "Classification Report at Epoch 1300:\n",
      "                  precision    recall  f1-score   support\n",
      "\n",
      "    infringement       0.77      0.68      0.72       194\n",
      "non_infringement       0.70      0.79      0.74       186\n",
      "\n",
      "        accuracy                           0.73       380\n",
      "       macro avg       0.74      0.73      0.73       380\n",
      "    weighted avg       0.74      0.73      0.73       380\n",
      "\n"
     ]
    },
    {
     "name": "stderr",
     "output_type": "stream",
     "text": [
      "Training Epochs:  66%|██████▌   | 1313/2000 [00:35<00:16, 41.08it/s]"
     ]
    },
    {
     "name": "stdout",
     "output_type": "stream",
     "text": [
      "Epoch 1310/2000, Loss: 0.0929\n",
      "Test Accuracy at Epoch 1310: 73.16%\n",
      "Test F1-score at Epoch 1310: 0.7424\n",
      "Classification Report at Epoch 1310:\n",
      "                  precision    recall  f1-score   support\n",
      "\n",
      "    infringement       0.77      0.68      0.72       194\n",
      "non_infringement       0.70      0.79      0.74       186\n",
      "\n",
      "        accuracy                           0.73       380\n",
      "       macro avg       0.74      0.73      0.73       380\n",
      "    weighted avg       0.74      0.73      0.73       380\n",
      "\n"
     ]
    },
    {
     "name": "stderr",
     "output_type": "stream",
     "text": [
      "Training Epochs:  66%|██████▌   | 1323/2000 [00:35<00:16, 41.68it/s]"
     ]
    },
    {
     "name": "stdout",
     "output_type": "stream",
     "text": [
      "Epoch 1320/2000, Loss: 0.0929\n",
      "Test Accuracy at Epoch 1320: 72.37%\n",
      "Test F1-score at Epoch 1320: 0.7368\n",
      "Classification Report at Epoch 1320:\n",
      "                  precision    recall  f1-score   support\n",
      "\n",
      "    infringement       0.77      0.66      0.71       194\n",
      "non_infringement       0.69      0.79      0.74       186\n",
      "\n",
      "        accuracy                           0.72       380\n",
      "       macro avg       0.73      0.73      0.72       380\n",
      "    weighted avg       0.73      0.72      0.72       380\n",
      "\n"
     ]
    },
    {
     "name": "stderr",
     "output_type": "stream",
     "text": [
      "Training Epochs:  67%|██████▋   | 1333/2000 [00:36<00:19, 34.24it/s]"
     ]
    },
    {
     "name": "stdout",
     "output_type": "stream",
     "text": [
      "Epoch 1330/2000, Loss: 0.0929\n",
      "Test Accuracy at Epoch 1330: 72.37%\n",
      "Test F1-score at Epoch 1330: 0.7368\n",
      "Classification Report at Epoch 1330:\n",
      "                  precision    recall  f1-score   support\n",
      "\n",
      "    infringement       0.77      0.66      0.71       194\n",
      "non_infringement       0.69      0.79      0.74       186\n",
      "\n",
      "        accuracy                           0.72       380\n",
      "       macro avg       0.73      0.73      0.72       380\n",
      "    weighted avg       0.73      0.72      0.72       380\n",
      "\n"
     ]
    },
    {
     "name": "stderr",
     "output_type": "stream",
     "text": [
      "Training Epochs:  67%|██████▋   | 1346/2000 [00:36<00:18, 35.79it/s]"
     ]
    },
    {
     "name": "stdout",
     "output_type": "stream",
     "text": [
      "Epoch 1340/2000, Loss: 0.0928\n",
      "Test Accuracy at Epoch 1340: 73.16%\n",
      "Test F1-score at Epoch 1340: 0.7424\n",
      "Classification Report at Epoch 1340:\n",
      "                  precision    recall  f1-score   support\n",
      "\n",
      "    infringement       0.77      0.68      0.72       194\n",
      "non_infringement       0.70      0.79      0.74       186\n",
      "\n",
      "        accuracy                           0.73       380\n",
      "       macro avg       0.74      0.73      0.73       380\n",
      "    weighted avg       0.74      0.73      0.73       380\n",
      "\n"
     ]
    },
    {
     "name": "stderr",
     "output_type": "stream",
     "text": [
      "Training Epochs:  68%|██████▊   | 1357/2000 [00:36<00:14, 43.09it/s]"
     ]
    },
    {
     "name": "stdout",
     "output_type": "stream",
     "text": [
      "Epoch 1350/2000, Loss: 0.0928\n",
      "Test Accuracy at Epoch 1350: 72.37%\n",
      "Test F1-score at Epoch 1350: 0.7368\n",
      "Classification Report at Epoch 1350:\n",
      "                  precision    recall  f1-score   support\n",
      "\n",
      "    infringement       0.77      0.66      0.71       194\n",
      "non_infringement       0.69      0.79      0.74       186\n",
      "\n",
      "        accuracy                           0.72       380\n",
      "       macro avg       0.73      0.73      0.72       380\n",
      "    weighted avg       0.73      0.72      0.72       380\n",
      "\n",
      "Epoch 1360/2000, Loss: 0.0928\n"
     ]
    },
    {
     "name": "stderr",
     "output_type": "stream",
     "text": [
      "Training Epochs:  68%|██████▊   | 1367/2000 [00:36<00:15, 41.08it/s]"
     ]
    },
    {
     "name": "stdout",
     "output_type": "stream",
     "text": [
      "Test Accuracy at Epoch 1360: 72.37%\n",
      "Test F1-score at Epoch 1360: 0.7368\n",
      "Classification Report at Epoch 1360:\n",
      "                  precision    recall  f1-score   support\n",
      "\n",
      "    infringement       0.77      0.66      0.71       194\n",
      "non_infringement       0.69      0.79      0.74       186\n",
      "\n",
      "        accuracy                           0.72       380\n",
      "       macro avg       0.73      0.73      0.72       380\n",
      "    weighted avg       0.73      0.72      0.72       380\n",
      "\n"
     ]
    },
    {
     "name": "stderr",
     "output_type": "stream",
     "text": [
      "Training Epochs:  69%|██████▉   | 1378/2000 [00:37<00:13, 46.13it/s]"
     ]
    },
    {
     "name": "stdout",
     "output_type": "stream",
     "text": [
      "Epoch 1370/2000, Loss: 0.0928\n",
      "Test Accuracy at Epoch 1370: 72.37%\n",
      "Test F1-score at Epoch 1370: 0.7368\n",
      "Classification Report at Epoch 1370:\n",
      "                  precision    recall  f1-score   support\n",
      "\n",
      "    infringement       0.77      0.66      0.71       194\n",
      "non_infringement       0.69      0.79      0.74       186\n",
      "\n",
      "        accuracy                           0.72       380\n",
      "       macro avg       0.73      0.73      0.72       380\n",
      "    weighted avg       0.73      0.72      0.72       380\n",
      "\n",
      "Epoch 1380/2000, Loss: 0.0933\n"
     ]
    },
    {
     "name": "stderr",
     "output_type": "stream",
     "text": [
      "Training Epochs:  69%|██████▉   | 1383/2000 [00:37<00:14, 41.17it/s]"
     ]
    },
    {
     "name": "stdout",
     "output_type": "stream",
     "text": [
      "Test Accuracy at Epoch 1380: 72.37%\n",
      "Test F1-score at Epoch 1380: 0.7382\n",
      "Classification Report at Epoch 1380:\n",
      "                  precision    recall  f1-score   support\n",
      "\n",
      "    infringement       0.77      0.65      0.71       194\n",
      "non_infringement       0.69      0.80      0.74       186\n",
      "\n",
      "        accuracy                           0.72       380\n",
      "       macro avg       0.73      0.73      0.72       380\n",
      "    weighted avg       0.73      0.72      0.72       380\n",
      "\n"
     ]
    },
    {
     "name": "stderr",
     "output_type": "stream",
     "text": [
      "Training Epochs:  70%|██████▉   | 1394/2000 [00:37<00:13, 45.13it/s]"
     ]
    },
    {
     "name": "stdout",
     "output_type": "stream",
     "text": [
      "Epoch 1390/2000, Loss: 0.0929\n",
      "Test Accuracy at Epoch 1390: 73.16%\n",
      "Test F1-score at Epoch 1390: 0.7424\n",
      "Classification Report at Epoch 1390:\n",
      "                  precision    recall  f1-score   support\n",
      "\n",
      "    infringement       0.77      0.68      0.72       194\n",
      "non_infringement       0.70      0.79      0.74       186\n",
      "\n",
      "        accuracy                           0.73       380\n",
      "       macro avg       0.74      0.73      0.73       380\n",
      "    weighted avg       0.74      0.73      0.73       380\n",
      "\n"
     ]
    },
    {
     "name": "stderr",
     "output_type": "stream",
     "text": [
      "Training Epochs:  70%|███████   | 1406/2000 [00:37<00:13, 44.88it/s]"
     ]
    },
    {
     "name": "stdout",
     "output_type": "stream",
     "text": [
      "Epoch 1400/2000, Loss: 0.0958\n",
      "Test Accuracy at Epoch 1400: 70.79%\n",
      "Test F1-score at Epoch 1400: 0.7273\n",
      "Classification Report at Epoch 1400:\n",
      "                  precision    recall  f1-score   support\n",
      "\n",
      "    infringement       0.76      0.62      0.69       194\n",
      "non_infringement       0.67      0.80      0.73       186\n",
      "\n",
      "        accuracy                           0.71       380\n",
      "       macro avg       0.72      0.71      0.71       380\n",
      "    weighted avg       0.72      0.71      0.71       380\n",
      "\n"
     ]
    },
    {
     "name": "stderr",
     "output_type": "stream",
     "text": [
      "Training Epochs:  71%|███████   | 1417/2000 [00:38<00:13, 42.47it/s]"
     ]
    },
    {
     "name": "stdout",
     "output_type": "stream",
     "text": [
      "Epoch 1410/2000, Loss: 0.0948\n",
      "Test Accuracy at Epoch 1410: 72.63%\n",
      "Test F1-score at Epoch 1410: 0.7413\n",
      "Classification Report at Epoch 1410:\n",
      "                  precision    recall  f1-score   support\n",
      "\n",
      "    infringement       0.77      0.65      0.71       194\n",
      "non_infringement       0.69      0.80      0.74       186\n",
      "\n",
      "        accuracy                           0.73       380\n",
      "       macro avg       0.73      0.73      0.73       380\n",
      "    weighted avg       0.73      0.73      0.73       380\n",
      "\n"
     ]
    },
    {
     "name": "stderr",
     "output_type": "stream",
     "text": [
      "Training Epochs:  71%|███████▏  | 1428/2000 [00:38<00:12, 46.60it/s]"
     ]
    },
    {
     "name": "stdout",
     "output_type": "stream",
     "text": [
      "Epoch 1420/2000, Loss: 0.0931\n",
      "Test Accuracy at Epoch 1420: 72.63%\n",
      "Test F1-score at Epoch 1420: 0.7413\n",
      "Classification Report at Epoch 1420:\n",
      "                  precision    recall  f1-score   support\n",
      "\n",
      "    infringement       0.77      0.65      0.71       194\n",
      "non_infringement       0.69      0.80      0.74       186\n",
      "\n",
      "        accuracy                           0.73       380\n",
      "       macro avg       0.73      0.73      0.73       380\n",
      "    weighted avg       0.73      0.73      0.73       380\n",
      "\n",
      "Epoch 1430/2000, Loss: 0.0936\n"
     ]
    },
    {
     "name": "stderr",
     "output_type": "stream",
     "text": [
      "Training Epochs:  72%|███████▏  | 1433/2000 [00:38<00:12, 46.78it/s]"
     ]
    },
    {
     "name": "stdout",
     "output_type": "stream",
     "text": [
      "Test Accuracy at Epoch 1430: 72.63%\n",
      "Test F1-score at Epoch 1430: 0.7400\n",
      "Classification Report at Epoch 1430:\n",
      "                  precision    recall  f1-score   support\n",
      "\n",
      "    infringement       0.77      0.66      0.71       194\n",
      "non_infringement       0.69      0.80      0.74       186\n",
      "\n",
      "        accuracy                           0.73       380\n",
      "       macro avg       0.73      0.73      0.73       380\n",
      "    weighted avg       0.73      0.73      0.73       380\n",
      "\n"
     ]
    },
    {
     "name": "stderr",
     "output_type": "stream",
     "text": [
      "Training Epochs:  72%|███████▏  | 1443/2000 [00:38<00:14, 39.70it/s]"
     ]
    },
    {
     "name": "stdout",
     "output_type": "stream",
     "text": [
      "Epoch 1440/2000, Loss: 0.0928\n",
      "Test Accuracy at Epoch 1440: 72.37%\n",
      "Test F1-score at Epoch 1440: 0.7368\n",
      "Classification Report at Epoch 1440:\n",
      "                  precision    recall  f1-score   support\n",
      "\n",
      "    infringement       0.77      0.66      0.71       194\n",
      "non_infringement       0.69      0.79      0.74       186\n",
      "\n",
      "        accuracy                           0.72       380\n",
      "       macro avg       0.73      0.73      0.72       380\n",
      "    weighted avg       0.73      0.72      0.72       380\n",
      "\n"
     ]
    },
    {
     "name": "stderr",
     "output_type": "stream",
     "text": [
      "Training Epochs:  73%|███████▎  | 1459/2000 [00:39<00:13, 41.13it/s]"
     ]
    },
    {
     "name": "stdout",
     "output_type": "stream",
     "text": [
      "Epoch 1450/2000, Loss: 0.0929\n",
      "Test Accuracy at Epoch 1450: 73.42%\n",
      "Test F1-score at Epoch 1450: 0.7443\n",
      "Classification Report at Epoch 1450:\n",
      "                  precision    recall  f1-score   support\n",
      "\n",
      "    infringement       0.77      0.68      0.72       194\n",
      "non_infringement       0.70      0.79      0.74       186\n",
      "\n",
      "        accuracy                           0.73       380\n",
      "       macro avg       0.74      0.74      0.73       380\n",
      "    weighted avg       0.74      0.73      0.73       380\n",
      "\n"
     ]
    },
    {
     "name": "stderr",
     "output_type": "stream",
     "text": [
      "Training Epochs:  73%|███████▎  | 1464/2000 [00:39<00:12, 41.81it/s]"
     ]
    },
    {
     "name": "stdout",
     "output_type": "stream",
     "text": [
      "Epoch 1460/2000, Loss: 0.0929\n",
      "Test Accuracy at Epoch 1460: 72.37%\n",
      "Test F1-score at Epoch 1460: 0.7368\n",
      "Classification Report at Epoch 1460:\n",
      "                  precision    recall  f1-score   support\n",
      "\n",
      "    infringement       0.77      0.66      0.71       194\n",
      "non_infringement       0.69      0.79      0.74       186\n",
      "\n",
      "        accuracy                           0.72       380\n",
      "       macro avg       0.73      0.73      0.72       380\n",
      "    weighted avg       0.73      0.72      0.72       380\n",
      "\n"
     ]
    },
    {
     "name": "stderr",
     "output_type": "stream",
     "text": [
      "Training Epochs:  74%|███████▎  | 1474/2000 [00:39<00:12, 41.48it/s]"
     ]
    },
    {
     "name": "stdout",
     "output_type": "stream",
     "text": [
      "Epoch 1470/2000, Loss: 0.0928\n",
      "Test Accuracy at Epoch 1470: 72.37%\n",
      "Test F1-score at Epoch 1470: 0.7368\n",
      "Classification Report at Epoch 1470:\n",
      "                  precision    recall  f1-score   support\n",
      "\n",
      "    infringement       0.77      0.66      0.71       194\n",
      "non_infringement       0.69      0.79      0.74       186\n",
      "\n",
      "        accuracy                           0.72       380\n",
      "       macro avg       0.73      0.73      0.72       380\n",
      "    weighted avg       0.73      0.72      0.72       380\n",
      "\n"
     ]
    },
    {
     "name": "stderr",
     "output_type": "stream",
     "text": [
      "Training Epochs:  74%|███████▍  | 1485/2000 [00:39<00:12, 39.74it/s]"
     ]
    },
    {
     "name": "stdout",
     "output_type": "stream",
     "text": [
      "Epoch 1480/2000, Loss: 0.0928\n",
      "Test Accuracy at Epoch 1480: 73.16%\n",
      "Test F1-score at Epoch 1480: 0.7424\n",
      "Classification Report at Epoch 1480:\n",
      "                  precision    recall  f1-score   support\n",
      "\n",
      "    infringement       0.77      0.68      0.72       194\n",
      "non_infringement       0.70      0.79      0.74       186\n",
      "\n",
      "        accuracy                           0.73       380\n",
      "       macro avg       0.74      0.73      0.73       380\n",
      "    weighted avg       0.74      0.73      0.73       380\n",
      "\n"
     ]
    },
    {
     "name": "stderr",
     "output_type": "stream",
     "text": [
      "Training Epochs:  74%|███████▍  | 1490/2000 [00:39<00:13, 37.28it/s]"
     ]
    },
    {
     "name": "stdout",
     "output_type": "stream",
     "text": [
      "Epoch 1490/2000, Loss: 0.0928\n",
      "Test Accuracy at Epoch 1490: 72.37%\n",
      "Test F1-score at Epoch 1490: 0.7368\n",
      "Classification Report at Epoch 1490:\n",
      "                  precision    recall  f1-score   support\n",
      "\n",
      "    infringement       0.77      0.66      0.71       194\n",
      "non_infringement       0.69      0.79      0.74       186\n",
      "\n",
      "        accuracy                           0.72       380\n",
      "       macro avg       0.73      0.73      0.72       380\n",
      "    weighted avg       0.73      0.72      0.72       380\n",
      "\n"
     ]
    },
    {
     "name": "stderr",
     "output_type": "stream",
     "text": [
      "Training Epochs:  75%|███████▌  | 1508/2000 [00:40<00:12, 37.87it/s]"
     ]
    },
    {
     "name": "stdout",
     "output_type": "stream",
     "text": [
      "Epoch 1500/2000, Loss: 0.0928\n",
      "Test Accuracy at Epoch 1500: 73.16%\n",
      "Test F1-score at Epoch 1500: 0.7424\n",
      "Classification Report at Epoch 1500:\n",
      "                  precision    recall  f1-score   support\n",
      "\n",
      "    infringement       0.77      0.68      0.72       194\n",
      "non_infringement       0.70      0.79      0.74       186\n",
      "\n",
      "        accuracy                           0.73       380\n",
      "       macro avg       0.74      0.73      0.73       380\n",
      "    weighted avg       0.74      0.73      0.73       380\n",
      "\n"
     ]
    },
    {
     "name": "stderr",
     "output_type": "stream",
     "text": [
      "Training Epochs:  76%|███████▌  | 1517/2000 [00:40<00:12, 37.32it/s]"
     ]
    },
    {
     "name": "stdout",
     "output_type": "stream",
     "text": [
      "Epoch 1510/2000, Loss: 0.0927\n",
      "Test Accuracy at Epoch 1510: 73.16%\n",
      "Test F1-score at Epoch 1510: 0.7424\n",
      "Classification Report at Epoch 1510:\n",
      "                  precision    recall  f1-score   support\n",
      "\n",
      "    infringement       0.77      0.68      0.72       194\n",
      "non_infringement       0.70      0.79      0.74       186\n",
      "\n",
      "        accuracy                           0.73       380\n",
      "       macro avg       0.74      0.73      0.73       380\n",
      "    weighted avg       0.74      0.73      0.73       380\n",
      "\n"
     ]
    },
    {
     "name": "stderr",
     "output_type": "stream",
     "text": [
      "Training Epochs:  76%|███████▋  | 1525/2000 [00:40<00:13, 34.53it/s]"
     ]
    },
    {
     "name": "stdout",
     "output_type": "stream",
     "text": [
      "Epoch 1520/2000, Loss: 0.0927\n",
      "Test Accuracy at Epoch 1520: 73.16%\n",
      "Test F1-score at Epoch 1520: 0.7424\n",
      "Classification Report at Epoch 1520:\n",
      "                  precision    recall  f1-score   support\n",
      "\n",
      "    infringement       0.77      0.68      0.72       194\n",
      "non_infringement       0.70      0.79      0.74       186\n",
      "\n",
      "        accuracy                           0.73       380\n",
      "       macro avg       0.74      0.73      0.73       380\n",
      "    weighted avg       0.74      0.73      0.73       380\n",
      "\n"
     ]
    },
    {
     "name": "stderr",
     "output_type": "stream",
     "text": [
      "Training Epochs:  77%|███████▋  | 1536/2000 [00:41<00:10, 42.46it/s]"
     ]
    },
    {
     "name": "stdout",
     "output_type": "stream",
     "text": [
      "Epoch 1530/2000, Loss: 0.0941\n",
      "Test Accuracy at Epoch 1530: 75.00%\n",
      "Test F1-score at Epoch 1530: 0.7558\n",
      "Classification Report at Epoch 1530:\n",
      "                  precision    recall  f1-score   support\n",
      "\n",
      "    infringement       0.78      0.71      0.74       194\n",
      "non_infringement       0.72      0.79      0.76       186\n",
      "\n",
      "        accuracy                           0.75       380\n",
      "       macro avg       0.75      0.75      0.75       380\n",
      "    weighted avg       0.75      0.75      0.75       380\n",
      "\n",
      "Epoch 1540/2000, Loss: 0.0936\n"
     ]
    },
    {
     "name": "stderr",
     "output_type": "stream",
     "text": [
      "Training Epochs:  77%|███████▋  | 1547/2000 [00:41<00:10, 44.46it/s]"
     ]
    },
    {
     "name": "stdout",
     "output_type": "stream",
     "text": [
      "Test Accuracy at Epoch 1540: 70.79%\n",
      "Test F1-score at Epoch 1540: 0.7273\n",
      "Classification Report at Epoch 1540:\n",
      "                  precision    recall  f1-score   support\n",
      "\n",
      "    infringement       0.76      0.62      0.69       194\n",
      "non_infringement       0.67      0.80      0.73       186\n",
      "\n",
      "        accuracy                           0.71       380\n",
      "       macro avg       0.72      0.71      0.71       380\n",
      "    weighted avg       0.72      0.71      0.71       380\n",
      "\n"
     ]
    },
    {
     "name": "stderr",
     "output_type": "stream",
     "text": [
      "Training Epochs:  78%|███████▊  | 1558/2000 [00:41<00:08, 49.44it/s]"
     ]
    },
    {
     "name": "stdout",
     "output_type": "stream",
     "text": [
      "Epoch 1550/2000, Loss: 0.0948\n",
      "Test Accuracy at Epoch 1550: 75.00%\n",
      "Test F1-score at Epoch 1550: 0.7558\n",
      "Classification Report at Epoch 1550:\n",
      "                  precision    recall  f1-score   support\n",
      "\n",
      "    infringement       0.78      0.71      0.74       194\n",
      "non_infringement       0.72      0.79      0.76       186\n",
      "\n",
      "        accuracy                           0.75       380\n",
      "       macro avg       0.75      0.75      0.75       380\n",
      "    weighted avg       0.75      0.75      0.75       380\n",
      "\n",
      "Epoch 1560/2000, Loss: 0.0960\n"
     ]
    },
    {
     "name": "stderr",
     "output_type": "stream",
     "text": [
      "Training Epochs:  78%|███████▊  | 1570/2000 [00:41<00:09, 46.88it/s]"
     ]
    },
    {
     "name": "stdout",
     "output_type": "stream",
     "text": [
      "Test Accuracy at Epoch 1560: 74.74%\n",
      "Test F1-score at Epoch 1560: 0.7513\n",
      "Classification Report at Epoch 1560:\n",
      "                  precision    recall  f1-score   support\n",
      "\n",
      "    infringement       0.77      0.72      0.74       194\n",
      "non_infringement       0.72      0.78      0.75       186\n",
      "\n",
      "        accuracy                           0.75       380\n",
      "       macro avg       0.75      0.75      0.75       380\n",
      "    weighted avg       0.75      0.75      0.75       380\n",
      "\n",
      "Epoch 1570/2000, Loss: 0.0948\n",
      "Test Accuracy at Epoch 1570: 76.05%\n",
      "Test F1-score at Epoch 1570: 0.7636\n",
      "Classification Report at Epoch 1570:\n",
      "                  precision    recall  f1-score   support\n",
      "\n",
      "    infringement       0.78      0.73      0.76       194\n",
      "non_infringement       0.74      0.79      0.76       186\n",
      "\n",
      "        accuracy                           0.76       380\n",
      "       macro avg       0.76      0.76      0.76       380\n",
      "    weighted avg       0.76      0.76      0.76       380\n",
      "\n"
     ]
    },
    {
     "name": "stderr",
     "output_type": "stream",
     "text": [
      "Training Epochs:  79%|███████▉  | 1588/2000 [00:42<00:08, 48.39it/s]"
     ]
    },
    {
     "name": "stdout",
     "output_type": "stream",
     "text": [
      "Epoch 1580/2000, Loss: 0.0949\n",
      "Test Accuracy at Epoch 1580: 75.53%\n",
      "Test F1-score at Epoch 1580: 0.7597\n",
      "Classification Report at Epoch 1580:\n",
      "                  precision    recall  f1-score   support\n",
      "\n",
      "    infringement       0.78      0.72      0.75       194\n",
      "non_infringement       0.73      0.79      0.76       186\n",
      "\n",
      "        accuracy                           0.76       380\n",
      "       macro avg       0.76      0.76      0.76       380\n",
      "    weighted avg       0.76      0.76      0.76       380\n",
      "\n",
      "Epoch 1590/2000, Loss: 0.0963\n",
      "Test Accuracy at Epoch 1590: 72.89%\n",
      "Test F1-score at Epoch 1590: 0.7406\n",
      "Classification Report at Epoch 1590:\n",
      "                  precision    recall  f1-score   support\n",
      "\n",
      "    infringement       0.77      0.67      0.72       194\n",
      "non_infringement       0.70      0.79      0.74       186\n",
      "\n",
      "        accuracy                           0.73       380\n",
      "       macro avg       0.73      0.73      0.73       380\n",
      "    weighted avg       0.73      0.73      0.73       380\n",
      "\n"
     ]
    },
    {
     "name": "stderr",
     "output_type": "stream",
     "text": [
      "Training Epochs:  80%|████████  | 1606/2000 [00:42<00:08, 47.60it/s]"
     ]
    },
    {
     "name": "stdout",
     "output_type": "stream",
     "text": [
      "Epoch 1600/2000, Loss: 0.0964\n",
      "Test Accuracy at Epoch 1600: 73.42%\n",
      "Test F1-score at Epoch 1600: 0.7443\n",
      "Classification Report at Epoch 1600:\n",
      "                  precision    recall  f1-score   support\n",
      "\n",
      "    infringement       0.77      0.68      0.72       194\n",
      "non_infringement       0.70      0.79      0.74       186\n",
      "\n",
      "        accuracy                           0.73       380\n",
      "       macro avg       0.74      0.74      0.73       380\n",
      "    weighted avg       0.74      0.73      0.73       380\n",
      "\n",
      "Epoch 1610/2000, Loss: 0.0938\n",
      "Test Accuracy at Epoch 1610: 73.95%\n",
      "Test F1-score at Epoch 1610: 0.7481\n"
     ]
    },
    {
     "name": "stderr",
     "output_type": "stream",
     "text": [
      "Training Epochs:  81%|████████  | 1617/2000 [00:42<00:08, 45.60it/s]"
     ]
    },
    {
     "name": "stdout",
     "output_type": "stream",
     "text": [
      "Classification Report at Epoch 1610:\n",
      "                  precision    recall  f1-score   support\n",
      "\n",
      "    infringement       0.77      0.69      0.73       194\n",
      "non_infringement       0.71      0.79      0.75       186\n",
      "\n",
      "        accuracy                           0.74       380\n",
      "       macro avg       0.74      0.74      0.74       380\n",
      "    weighted avg       0.74      0.74      0.74       380\n",
      "\n"
     ]
    },
    {
     "name": "stderr",
     "output_type": "stream",
     "text": [
      "Training Epochs:  81%|████████▏ | 1628/2000 [00:43<00:07, 48.92it/s]"
     ]
    },
    {
     "name": "stdout",
     "output_type": "stream",
     "text": [
      "Epoch 1620/2000, Loss: 0.0938\n",
      "Test Accuracy at Epoch 1620: 73.68%\n",
      "Test F1-score at Epoch 1620: 0.7462\n",
      "Classification Report at Epoch 1620:\n",
      "                  precision    recall  f1-score   support\n",
      "\n",
      "    infringement       0.77      0.69      0.73       194\n",
      "non_infringement       0.71      0.79      0.75       186\n",
      "\n",
      "        accuracy                           0.74       380\n",
      "       macro avg       0.74      0.74      0.74       380\n",
      "    weighted avg       0.74      0.74      0.74       380\n",
      "\n",
      "Epoch 1630/2000, Loss: 0.0931\n",
      "Test Accuracy at Epoch 1630: 73.42%\n",
      "Test F1-score at Epoch 1630: 0.7443\n"
     ]
    },
    {
     "name": "stderr",
     "output_type": "stream",
     "text": [
      "Training Epochs:  82%|████████▏ | 1638/2000 [00:43<00:07, 45.48it/s]"
     ]
    },
    {
     "name": "stdout",
     "output_type": "stream",
     "text": [
      "Classification Report at Epoch 1630:\n",
      "                  precision    recall  f1-score   support\n",
      "\n",
      "    infringement       0.77      0.68      0.72       194\n",
      "non_infringement       0.70      0.79      0.74       186\n",
      "\n",
      "        accuracy                           0.73       380\n",
      "       macro avg       0.74      0.74      0.73       380\n",
      "    weighted avg       0.74      0.73      0.73       380\n",
      "\n"
     ]
    },
    {
     "name": "stderr",
     "output_type": "stream",
     "text": [
      "Training Epochs:  82%|████████▏ | 1649/2000 [00:43<00:07, 48.39it/s]"
     ]
    },
    {
     "name": "stdout",
     "output_type": "stream",
     "text": [
      "Epoch 1640/2000, Loss: 0.0929\n",
      "Test Accuracy at Epoch 1640: 73.16%\n",
      "Test F1-score at Epoch 1640: 0.7424\n",
      "Classification Report at Epoch 1640:\n",
      "                  precision    recall  f1-score   support\n",
      "\n",
      "    infringement       0.77      0.68      0.72       194\n",
      "non_infringement       0.70      0.79      0.74       186\n",
      "\n",
      "        accuracy                           0.73       380\n",
      "       macro avg       0.74      0.73      0.73       380\n",
      "    weighted avg       0.74      0.73      0.73       380\n",
      "\n",
      "Epoch 1650/2000, Loss: 0.0928\n"
     ]
    },
    {
     "name": "stderr",
     "output_type": "stream",
     "text": [
      "Training Epochs:  83%|████████▎ | 1654/2000 [00:43<00:08, 42.81it/s]"
     ]
    },
    {
     "name": "stdout",
     "output_type": "stream",
     "text": [
      "Test Accuracy at Epoch 1650: 73.42%\n",
      "Test F1-score at Epoch 1650: 0.7443\n",
      "Classification Report at Epoch 1650:\n",
      "                  precision    recall  f1-score   support\n",
      "\n",
      "    infringement       0.77      0.68      0.72       194\n",
      "non_infringement       0.70      0.79      0.74       186\n",
      "\n",
      "        accuracy                           0.73       380\n",
      "       macro avg       0.74      0.74      0.73       380\n",
      "    weighted avg       0.74      0.73      0.73       380\n",
      "\n"
     ]
    },
    {
     "name": "stderr",
     "output_type": "stream",
     "text": [
      "Training Epochs:  83%|████████▎ | 1666/2000 [00:43<00:06, 47.91it/s]"
     ]
    },
    {
     "name": "stdout",
     "output_type": "stream",
     "text": [
      "Epoch 1660/2000, Loss: 0.0928\n",
      "Test Accuracy at Epoch 1660: 73.68%\n",
      "Test F1-score at Epoch 1660: 0.7462\n",
      "Classification Report at Epoch 1660:\n",
      "                  precision    recall  f1-score   support\n",
      "\n",
      "    infringement       0.77      0.69      0.73       194\n",
      "non_infringement       0.71      0.79      0.75       186\n",
      "\n",
      "        accuracy                           0.74       380\n",
      "       macro avg       0.74      0.74      0.74       380\n",
      "    weighted avg       0.74      0.74      0.74       380\n",
      "\n",
      "Epoch 1670/2000, Loss: 0.0928\n",
      "Test Accuracy at Epoch 1670: 73.42%\n",
      "Test F1-score at Epoch 1670: 0.7443\n"
     ]
    },
    {
     "name": "stderr",
     "output_type": "stream",
     "text": [
      "Training Epochs:  84%|████████▍ | 1676/2000 [00:44<00:07, 43.84it/s]"
     ]
    },
    {
     "name": "stdout",
     "output_type": "stream",
     "text": [
      "Classification Report at Epoch 1670:\n",
      "                  precision    recall  f1-score   support\n",
      "\n",
      "    infringement       0.77      0.68      0.72       194\n",
      "non_infringement       0.70      0.79      0.74       186\n",
      "\n",
      "        accuracy                           0.73       380\n",
      "       macro avg       0.74      0.74      0.73       380\n",
      "    weighted avg       0.74      0.73      0.73       380\n",
      "\n"
     ]
    },
    {
     "name": "stderr",
     "output_type": "stream",
     "text": [
      "Training Epochs:  84%|████████▍ | 1687/2000 [00:44<00:06, 47.96it/s]"
     ]
    },
    {
     "name": "stdout",
     "output_type": "stream",
     "text": [
      "Epoch 1680/2000, Loss: 0.0928\n",
      "Test Accuracy at Epoch 1680: 73.42%\n",
      "Test F1-score at Epoch 1680: 0.7443\n",
      "Classification Report at Epoch 1680:\n",
      "                  precision    recall  f1-score   support\n",
      "\n",
      "    infringement       0.77      0.68      0.72       194\n",
      "non_infringement       0.70      0.79      0.74       186\n",
      "\n",
      "        accuracy                           0.73       380\n",
      "       macro avg       0.74      0.74      0.73       380\n",
      "    weighted avg       0.74      0.73      0.73       380\n",
      "\n",
      "Epoch 1690/2000, Loss: 0.0928\n"
     ]
    },
    {
     "name": "stderr",
     "output_type": "stream",
     "text": [
      "Training Epochs:  85%|████████▍ | 1692/2000 [00:44<00:07, 43.93it/s]"
     ]
    },
    {
     "name": "stdout",
     "output_type": "stream",
     "text": [
      "Test Accuracy at Epoch 1690: 73.68%\n",
      "Test F1-score at Epoch 1690: 0.7462\n",
      "Classification Report at Epoch 1690:\n",
      "                  precision    recall  f1-score   support\n",
      "\n",
      "    infringement       0.77      0.69      0.73       194\n",
      "non_infringement       0.71      0.79      0.75       186\n",
      "\n",
      "        accuracy                           0.74       380\n",
      "       macro avg       0.74      0.74      0.74       380\n",
      "    weighted avg       0.74      0.74      0.74       380\n",
      "\n"
     ]
    },
    {
     "name": "stderr",
     "output_type": "stream",
     "text": [
      "Training Epochs:  85%|████████▌ | 1707/2000 [00:44<00:07, 39.82it/s]"
     ]
    },
    {
     "name": "stdout",
     "output_type": "stream",
     "text": [
      "Epoch 1700/2000, Loss: 0.0927\n",
      "Test Accuracy at Epoch 1700: 73.42%\n",
      "Test F1-score at Epoch 1700: 0.7443\n",
      "Classification Report at Epoch 1700:\n",
      "                  precision    recall  f1-score   support\n",
      "\n",
      "    infringement       0.77      0.68      0.72       194\n",
      "non_infringement       0.70      0.79      0.74       186\n",
      "\n",
      "        accuracy                           0.73       380\n",
      "       macro avg       0.74      0.74      0.73       380\n",
      "    weighted avg       0.74      0.73      0.73       380\n",
      "\n"
     ]
    },
    {
     "name": "stderr",
     "output_type": "stream",
     "text": [
      "Training Epochs:  86%|████████▌ | 1718/2000 [00:45<00:06, 45.10it/s]"
     ]
    },
    {
     "name": "stdout",
     "output_type": "stream",
     "text": [
      "Epoch 1710/2000, Loss: 0.0927\n",
      "Test Accuracy at Epoch 1710: 73.68%\n",
      "Test F1-score at Epoch 1710: 0.7462\n",
      "Classification Report at Epoch 1710:\n",
      "                  precision    recall  f1-score   support\n",
      "\n",
      "    infringement       0.77      0.69      0.73       194\n",
      "non_infringement       0.71      0.79      0.75       186\n",
      "\n",
      "        accuracy                           0.74       380\n",
      "       macro avg       0.74      0.74      0.74       380\n",
      "    weighted avg       0.74      0.74      0.74       380\n",
      "\n",
      "Epoch 1720/2000, Loss: 0.0927\n"
     ]
    },
    {
     "name": "stderr",
     "output_type": "stream",
     "text": [
      "Training Epochs:  86%|████████▌ | 1723/2000 [00:45<00:06, 39.79it/s]"
     ]
    },
    {
     "name": "stdout",
     "output_type": "stream",
     "text": [
      "Test Accuracy at Epoch 1720: 73.68%\n",
      "Test F1-score at Epoch 1720: 0.7462\n",
      "Classification Report at Epoch 1720:\n",
      "                  precision    recall  f1-score   support\n",
      "\n",
      "    infringement       0.77      0.69      0.73       194\n",
      "non_infringement       0.71      0.79      0.75       186\n",
      "\n",
      "        accuracy                           0.74       380\n",
      "       macro avg       0.74      0.74      0.74       380\n",
      "    weighted avg       0.74      0.74      0.74       380\n",
      "\n"
     ]
    },
    {
     "name": "stderr",
     "output_type": "stream",
     "text": [
      "Training Epochs:  87%|████████▋ | 1734/2000 [00:45<00:06, 44.16it/s]"
     ]
    },
    {
     "name": "stdout",
     "output_type": "stream",
     "text": [
      "Epoch 1730/2000, Loss: 0.0927\n",
      "Test Accuracy at Epoch 1730: 73.68%\n",
      "Test F1-score at Epoch 1730: 0.7462\n",
      "Classification Report at Epoch 1730:\n",
      "                  precision    recall  f1-score   support\n",
      "\n",
      "    infringement       0.77      0.69      0.73       194\n",
      "non_infringement       0.71      0.79      0.75       186\n",
      "\n",
      "        accuracy                           0.74       380\n",
      "       macro avg       0.74      0.74      0.74       380\n",
      "    weighted avg       0.74      0.74      0.74       380\n",
      "\n"
     ]
    },
    {
     "name": "stderr",
     "output_type": "stream",
     "text": [
      "Training Epochs:  87%|████████▋ | 1746/2000 [00:45<00:05, 43.65it/s]"
     ]
    },
    {
     "name": "stdout",
     "output_type": "stream",
     "text": [
      "Epoch 1740/2000, Loss: 0.0927\n",
      "Test Accuracy at Epoch 1740: 73.68%\n",
      "Test F1-score at Epoch 1740: 0.7462\n",
      "Classification Report at Epoch 1740:\n",
      "                  precision    recall  f1-score   support\n",
      "\n",
      "    infringement       0.77      0.69      0.73       194\n",
      "non_infringement       0.71      0.79      0.75       186\n",
      "\n",
      "        accuracy                           0.74       380\n",
      "       macro avg       0.74      0.74      0.74       380\n",
      "    weighted avg       0.74      0.74      0.74       380\n",
      "\n"
     ]
    },
    {
     "name": "stderr",
     "output_type": "stream",
     "text": [
      "Training Epochs:  88%|████████▊ | 1757/2000 [00:46<00:05, 47.64it/s]"
     ]
    },
    {
     "name": "stdout",
     "output_type": "stream",
     "text": [
      "Epoch 1750/2000, Loss: 0.0927\n",
      "Test Accuracy at Epoch 1750: 73.42%\n",
      "Test F1-score at Epoch 1750: 0.7443\n",
      "Classification Report at Epoch 1750:\n",
      "                  precision    recall  f1-score   support\n",
      "\n",
      "    infringement       0.77      0.68      0.72       194\n",
      "non_infringement       0.70      0.79      0.74       186\n",
      "\n",
      "        accuracy                           0.73       380\n",
      "       macro avg       0.74      0.74      0.73       380\n",
      "    weighted avg       0.74      0.73      0.73       380\n",
      "\n"
     ]
    },
    {
     "name": "stderr",
     "output_type": "stream",
     "text": [
      "Training Epochs:  88%|████████▊ | 1768/2000 [00:46<00:05, 45.30it/s]"
     ]
    },
    {
     "name": "stdout",
     "output_type": "stream",
     "text": [
      "Epoch 1760/2000, Loss: 0.0927\n",
      "Test Accuracy at Epoch 1760: 73.42%\n",
      "Test F1-score at Epoch 1760: 0.7443\n",
      "Classification Report at Epoch 1760:\n",
      "                  precision    recall  f1-score   support\n",
      "\n",
      "    infringement       0.77      0.68      0.72       194\n",
      "non_infringement       0.70      0.79      0.74       186\n",
      "\n",
      "        accuracy                           0.73       380\n",
      "       macro avg       0.74      0.74      0.73       380\n",
      "    weighted avg       0.74      0.73      0.73       380\n",
      "\n",
      "Epoch 1770/2000, Loss: 0.0927\n"
     ]
    },
    {
     "name": "stderr",
     "output_type": "stream",
     "text": [
      "Training Epochs:  89%|████████▉ | 1778/2000 [00:46<00:05, 42.47it/s]"
     ]
    },
    {
     "name": "stdout",
     "output_type": "stream",
     "text": [
      "Test Accuracy at Epoch 1770: 73.42%\n",
      "Test F1-score at Epoch 1770: 0.7443\n",
      "Classification Report at Epoch 1770:\n",
      "                  precision    recall  f1-score   support\n",
      "\n",
      "    infringement       0.77      0.68      0.72       194\n",
      "non_infringement       0.70      0.79      0.74       186\n",
      "\n",
      "        accuracy                           0.73       380\n",
      "       macro avg       0.74      0.74      0.73       380\n",
      "    weighted avg       0.74      0.73      0.73       380\n",
      "\n"
     ]
    },
    {
     "name": "stderr",
     "output_type": "stream",
     "text": [
      "Training Epochs:  89%|████████▉ | 1784/2000 [00:46<00:04, 45.15it/s]"
     ]
    },
    {
     "name": "stdout",
     "output_type": "stream",
     "text": [
      "Epoch 1780/2000, Loss: 0.0927\n",
      "Test Accuracy at Epoch 1780: 73.42%\n",
      "Test F1-score at Epoch 1780: 0.7443\n",
      "Classification Report at Epoch 1780:\n",
      "                  precision    recall  f1-score   support\n",
      "\n",
      "    infringement       0.77      0.68      0.72       194\n",
      "non_infringement       0.70      0.79      0.74       186\n",
      "\n",
      "        accuracy                           0.73       380\n",
      "       macro avg       0.74      0.74      0.73       380\n",
      "    weighted avg       0.74      0.73      0.73       380\n",
      "\n",
      "Epoch 1790/2000, Loss: 0.0927\n"
     ]
    },
    {
     "name": "stderr",
     "output_type": "stream",
     "text": [
      "Training Epochs:  90%|████████▉ | 1795/2000 [00:46<00:04, 43.77it/s]"
     ]
    },
    {
     "name": "stdout",
     "output_type": "stream",
     "text": [
      "Test Accuracy at Epoch 1790: 73.42%\n",
      "Test F1-score at Epoch 1790: 0.7443\n",
      "Classification Report at Epoch 1790:\n",
      "                  precision    recall  f1-score   support\n",
      "\n",
      "    infringement       0.77      0.68      0.72       194\n",
      "non_infringement       0.70      0.79      0.74       186\n",
      "\n",
      "        accuracy                           0.73       380\n",
      "       macro avg       0.74      0.74      0.73       380\n",
      "    weighted avg       0.74      0.73      0.73       380\n",
      "\n"
     ]
    },
    {
     "name": "stderr",
     "output_type": "stream",
     "text": [
      "Training Epochs:  90%|█████████ | 1807/2000 [00:47<00:03, 49.88it/s]"
     ]
    },
    {
     "name": "stdout",
     "output_type": "stream",
     "text": [
      "Epoch 1800/2000, Loss: 0.0927\n",
      "Test Accuracy at Epoch 1800: 73.42%\n",
      "Test F1-score at Epoch 1800: 0.7443\n",
      "Classification Report at Epoch 1800:\n",
      "                  precision    recall  f1-score   support\n",
      "\n",
      "    infringement       0.77      0.68      0.72       194\n",
      "non_infringement       0.70      0.79      0.74       186\n",
      "\n",
      "        accuracy                           0.73       380\n",
      "       macro avg       0.74      0.74      0.73       380\n",
      "    weighted avg       0.74      0.73      0.73       380\n",
      "\n",
      "Epoch 1810/2000, Loss: 0.0927\n",
      "Test Accuracy at Epoch 1810: 73.68%\n",
      "Test F1-score at Epoch 1810: 0.7462\n",
      "Classification Report at Epoch 1810:\n",
      "                  precision    recall  f1-score   support\n",
      "\n",
      "    infringement       0.77      0.69      0.73       194\n",
      "non_infringement       0.71      0.79      0.75       186\n",
      "\n",
      "        accuracy                           0.74       380\n",
      "       macro avg       0.74      0.74      0.74       380\n",
      "    weighted avg       0.74      0.74      0.74       380\n",
      "\n"
     ]
    },
    {
     "name": "stderr",
     "output_type": "stream",
     "text": [
      "Training Epochs:  91%|█████████▏| 1829/2000 [00:47<00:03, 50.20it/s]"
     ]
    },
    {
     "name": "stdout",
     "output_type": "stream",
     "text": [
      "Epoch 1820/2000, Loss: 0.0927\n",
      "Test Accuracy at Epoch 1820: 73.68%\n",
      "Test F1-score at Epoch 1820: 0.7462\n",
      "Classification Report at Epoch 1820:\n",
      "                  precision    recall  f1-score   support\n",
      "\n",
      "    infringement       0.77      0.69      0.73       194\n",
      "non_infringement       0.71      0.79      0.75       186\n",
      "\n",
      "        accuracy                           0.74       380\n",
      "       macro avg       0.74      0.74      0.74       380\n",
      "    weighted avg       0.74      0.74      0.74       380\n",
      "\n",
      "Epoch 1830/2000, Loss: 0.0927\n",
      "Test Accuracy at Epoch 1830: 73.68%\n",
      "Test F1-score at Epoch 1830: 0.7462\n",
      "Classification Report at Epoch 1830:\n",
      "                  precision    recall  f1-score   support\n",
      "\n",
      "    infringement       0.77      0.69      0.73       194\n",
      "non_infringement       0.71      0.79      0.75       186\n",
      "\n",
      "        accuracy                           0.74       380\n",
      "       macro avg       0.74      0.74      0.74       380\n",
      "    weighted avg       0.74      0.74      0.74       380\n",
      "\n"
     ]
    },
    {
     "name": "stderr",
     "output_type": "stream",
     "text": [
      "Training Epochs:  92%|█████████▏| 1846/2000 [00:48<00:03, 48.37it/s]"
     ]
    },
    {
     "name": "stdout",
     "output_type": "stream",
     "text": [
      "Epoch 1840/2000, Loss: 0.0933\n",
      "Test Accuracy at Epoch 1840: 73.16%\n",
      "Test F1-score at Epoch 1840: 0.7437\n",
      "Classification Report at Epoch 1840:\n",
      "                  precision    recall  f1-score   support\n",
      "\n",
      "    infringement       0.77      0.67      0.72       194\n",
      "non_infringement       0.70      0.80      0.74       186\n",
      "\n",
      "        accuracy                           0.73       380\n",
      "       macro avg       0.74      0.73      0.73       380\n",
      "    weighted avg       0.74      0.73      0.73       380\n",
      "\n"
     ]
    },
    {
     "name": "stderr",
     "output_type": "stream",
     "text": [
      "Training Epochs:  93%|█████████▎| 1857/2000 [00:48<00:03, 46.96it/s]"
     ]
    },
    {
     "name": "stdout",
     "output_type": "stream",
     "text": [
      "Epoch 1850/2000, Loss: 0.0945\n",
      "Test Accuracy at Epoch 1850: 72.37%\n",
      "Test F1-score at Epoch 1850: 0.7368\n",
      "Classification Report at Epoch 1850:\n",
      "                  precision    recall  f1-score   support\n",
      "\n",
      "    infringement       0.77      0.66      0.71       194\n",
      "non_infringement       0.69      0.79      0.74       186\n",
      "\n",
      "        accuracy                           0.72       380\n",
      "       macro avg       0.73      0.73      0.72       380\n",
      "    weighted avg       0.73      0.72      0.72       380\n",
      "\n",
      "Epoch 1860/2000, Loss: 0.0952\n"
     ]
    },
    {
     "name": "stderr",
     "output_type": "stream",
     "text": [
      "Training Epochs:  93%|█████████▎| 1868/2000 [00:48<00:02, 50.33it/s]"
     ]
    },
    {
     "name": "stdout",
     "output_type": "stream",
     "text": [
      "Test Accuracy at Epoch 1860: 72.63%\n",
      "Test F1-score at Epoch 1860: 0.7400\n",
      "Classification Report at Epoch 1860:\n",
      "                  precision    recall  f1-score   support\n",
      "\n",
      "    infringement       0.77      0.66      0.71       194\n",
      "non_infringement       0.69      0.80      0.74       186\n",
      "\n",
      "        accuracy                           0.73       380\n",
      "       macro avg       0.73      0.73      0.73       380\n",
      "    weighted avg       0.73      0.73      0.73       380\n",
      "\n"
     ]
    },
    {
     "name": "stderr",
     "output_type": "stream",
     "text": [
      "Training Epochs:  94%|█████████▍| 1880/2000 [00:48<00:02, 46.14it/s]"
     ]
    },
    {
     "name": "stdout",
     "output_type": "stream",
     "text": [
      "Epoch 1870/2000, Loss: 0.0956\n",
      "Test Accuracy at Epoch 1870: 72.89%\n",
      "Test F1-score at Epoch 1870: 0.7406\n",
      "Classification Report at Epoch 1870:\n",
      "                  precision    recall  f1-score   support\n",
      "\n",
      "    infringement       0.77      0.67      0.72       194\n",
      "non_infringement       0.70      0.79      0.74       186\n",
      "\n",
      "        accuracy                           0.73       380\n",
      "       macro avg       0.73      0.73      0.73       380\n",
      "    weighted avg       0.73      0.73      0.73       380\n",
      "\n",
      "Epoch 1880/2000, Loss: 0.0996\n",
      "Test Accuracy at Epoch 1880: 75.00%\n",
      "Test F1-score at Epoch 1880: 0.7507\n",
      "Classification Report at Epoch 1880:\n",
      "                  precision    recall  f1-score   support\n",
      "\n",
      "    infringement       0.77      0.73      0.75       194\n",
      "non_infringement       0.73      0.77      0.75       186\n",
      "\n",
      "        accuracy                           0.75       380\n",
      "       macro avg       0.75      0.75      0.75       380\n",
      "    weighted avg       0.75      0.75      0.75       380\n",
      "\n"
     ]
    },
    {
     "name": "stderr",
     "output_type": "stream",
     "text": [
      "Training Epochs:  95%|█████████▍| 1898/2000 [00:49<00:02, 47.08it/s]"
     ]
    },
    {
     "name": "stdout",
     "output_type": "stream",
     "text": [
      "Epoch 1890/2000, Loss: 0.0949\n",
      "Test Accuracy at Epoch 1890: 71.84%\n",
      "Test F1-score at Epoch 1890: 0.7291\n",
      "Classification Report at Epoch 1890:\n",
      "                  precision    recall  f1-score   support\n",
      "\n",
      "    infringement       0.75      0.66      0.71       194\n",
      "non_infringement       0.69      0.77      0.73       186\n",
      "\n",
      "        accuracy                           0.72       380\n",
      "       macro avg       0.72      0.72      0.72       380\n",
      "    weighted avg       0.72      0.72      0.72       380\n",
      "\n",
      "Epoch 1900/2000, Loss: 0.0965\n",
      "Test Accuracy at Epoch 1900: 75.26%\n",
      "Test F1-score at Epoch 1900: 0.7577\n",
      "Classification Report at Epoch 1900:\n",
      "                  precision    recall  f1-score   support\n",
      "\n",
      "    infringement       0.78      0.72      0.75       194\n",
      "non_infringement       0.73      0.79      0.76       186\n",
      "\n",
      "        accuracy                           0.75       380\n",
      "       macro avg       0.75      0.75      0.75       380\n",
      "    weighted avg       0.75      0.75      0.75       380\n",
      "\n"
     ]
    },
    {
     "name": "stderr",
     "output_type": "stream",
     "text": [
      "Training Epochs:  96%|█████████▌| 1919/2000 [00:49<00:01, 47.05it/s]"
     ]
    },
    {
     "name": "stdout",
     "output_type": "stream",
     "text": [
      "Epoch 1910/2000, Loss: 0.0940\n",
      "Test Accuracy at Epoch 1910: 73.16%\n",
      "Test F1-score at Epoch 1910: 0.7424\n",
      "Classification Report at Epoch 1910:\n",
      "                  precision    recall  f1-score   support\n",
      "\n",
      "    infringement       0.77      0.68      0.72       194\n",
      "non_infringement       0.70      0.79      0.74       186\n",
      "\n",
      "        accuracy                           0.73       380\n",
      "       macro avg       0.74      0.73      0.73       380\n",
      "    weighted avg       0.74      0.73      0.73       380\n",
      "\n",
      "Epoch 1920/2000, Loss: 0.0933\n"
     ]
    },
    {
     "name": "stderr",
     "output_type": "stream",
     "text": [
      "Training Epochs:  96%|█████████▌| 1924/2000 [00:49<00:01, 41.17it/s]"
     ]
    },
    {
     "name": "stdout",
     "output_type": "stream",
     "text": [
      "Test Accuracy at Epoch 1920: 73.42%\n",
      "Test F1-score at Epoch 1920: 0.7417\n",
      "Classification Report at Epoch 1920:\n",
      "                  precision    recall  f1-score   support\n",
      "\n",
      "    infringement       0.77      0.69      0.73       194\n",
      "non_infringement       0.71      0.78      0.74       186\n",
      "\n",
      "        accuracy                           0.73       380\n",
      "       macro avg       0.74      0.74      0.73       380\n",
      "    weighted avg       0.74      0.73      0.73       380\n",
      "\n"
     ]
    },
    {
     "name": "stderr",
     "output_type": "stream",
     "text": [
      "Training Epochs:  97%|█████████▋| 1936/2000 [00:49<00:01, 46.54it/s]"
     ]
    },
    {
     "name": "stdout",
     "output_type": "stream",
     "text": [
      "Epoch 1930/2000, Loss: 0.0930\n",
      "Test Accuracy at Epoch 1930: 73.68%\n",
      "Test F1-score at Epoch 1930: 0.7462\n",
      "Classification Report at Epoch 1930:\n",
      "                  precision    recall  f1-score   support\n",
      "\n",
      "    infringement       0.77      0.69      0.73       194\n",
      "non_infringement       0.71      0.79      0.75       186\n",
      "\n",
      "        accuracy                           0.74       380\n",
      "       macro avg       0.74      0.74      0.74       380\n",
      "    weighted avg       0.74      0.74      0.74       380\n",
      "\n",
      "Epoch 1940/2000, Loss: 0.0929\n"
     ]
    },
    {
     "name": "stderr",
     "output_type": "stream",
     "text": [
      "Training Epochs:  97%|█████████▋| 1947/2000 [00:50<00:01, 45.66it/s]"
     ]
    },
    {
     "name": "stdout",
     "output_type": "stream",
     "text": [
      "Test Accuracy at Epoch 1940: 72.89%\n",
      "Test F1-score at Epoch 1940: 0.7379\n",
      "Classification Report at Epoch 1940:\n",
      "                  precision    recall  f1-score   support\n",
      "\n",
      "    infringement       0.76      0.68      0.72       194\n",
      "non_infringement       0.70      0.78      0.74       186\n",
      "\n",
      "        accuracy                           0.73       380\n",
      "       macro avg       0.73      0.73      0.73       380\n",
      "    weighted avg       0.73      0.73      0.73       380\n",
      "\n"
     ]
    },
    {
     "name": "stderr",
     "output_type": "stream",
     "text": [
      "Training Epochs:  98%|█████████▊| 1958/2000 [00:50<00:00, 49.31it/s]"
     ]
    },
    {
     "name": "stdout",
     "output_type": "stream",
     "text": [
      "Epoch 1950/2000, Loss: 0.0928\n",
      "Test Accuracy at Epoch 1950: 73.16%\n",
      "Test F1-score at Epoch 1950: 0.7398\n",
      "Classification Report at Epoch 1950:\n",
      "                  precision    recall  f1-score   support\n",
      "\n",
      "    infringement       0.76      0.69      0.72       194\n",
      "non_infringement       0.70      0.78      0.74       186\n",
      "\n",
      "        accuracy                           0.73       380\n",
      "       macro avg       0.73      0.73      0.73       380\n",
      "    weighted avg       0.73      0.73      0.73       380\n",
      "\n"
     ]
    },
    {
     "name": "stderr",
     "output_type": "stream",
     "text": [
      "Training Epochs:  98%|█████████▊| 1970/2000 [00:50<00:00, 46.75it/s]"
     ]
    },
    {
     "name": "stdout",
     "output_type": "stream",
     "text": [
      "Epoch 1960/2000, Loss: 0.0928\n",
      "Test Accuracy at Epoch 1960: 72.89%\n",
      "Test F1-score at Epoch 1960: 0.7379\n",
      "Classification Report at Epoch 1960:\n",
      "                  precision    recall  f1-score   support\n",
      "\n",
      "    infringement       0.76      0.68      0.72       194\n",
      "non_infringement       0.70      0.78      0.74       186\n",
      "\n",
      "        accuracy                           0.73       380\n",
      "       macro avg       0.73      0.73      0.73       380\n",
      "    weighted avg       0.73      0.73      0.73       380\n",
      "\n",
      "Epoch 1970/2000, Loss: 0.0928\n",
      "Test Accuracy at Epoch 1970: 73.16%\n",
      "Test F1-score at Epoch 1970: 0.7398\n",
      "Classification Report at Epoch 1970:\n",
      "                  precision    recall  f1-score   support\n",
      "\n",
      "    infringement       0.76      0.69      0.72       194\n",
      "non_infringement       0.70      0.78      0.74       186\n",
      "\n",
      "        accuracy                           0.73       380\n",
      "       macro avg       0.73      0.73      0.73       380\n",
      "    weighted avg       0.73      0.73      0.73       380\n",
      "\n"
     ]
    },
    {
     "name": "stderr",
     "output_type": "stream",
     "text": [
      "Training Epochs:  99%|█████████▉| 1988/2000 [00:51<00:00, 48.78it/s]"
     ]
    },
    {
     "name": "stdout",
     "output_type": "stream",
     "text": [
      "Epoch 1980/2000, Loss: 0.0928\n",
      "Test Accuracy at Epoch 1980: 73.68%\n",
      "Test F1-score at Epoch 1980: 0.7462\n",
      "Classification Report at Epoch 1980:\n",
      "                  precision    recall  f1-score   support\n",
      "\n",
      "    infringement       0.77      0.69      0.73       194\n",
      "non_infringement       0.71      0.79      0.75       186\n",
      "\n",
      "        accuracy                           0.74       380\n",
      "       macro avg       0.74      0.74      0.74       380\n",
      "    weighted avg       0.74      0.74      0.74       380\n",
      "\n",
      "Epoch 1990/2000, Loss: 0.0927\n",
      "Test Accuracy at Epoch 1990: 73.42%\n",
      "Test F1-score at Epoch 1990: 0.7443\n",
      "Classification Report at Epoch 1990:\n",
      "                  precision    recall  f1-score   support\n",
      "\n",
      "    infringement       0.77      0.68      0.72       194\n",
      "non_infringement       0.70      0.79      0.74       186\n",
      "\n",
      "        accuracy                           0.73       380\n",
      "       macro avg       0.74      0.74      0.73       380\n",
      "    weighted avg       0.74      0.73      0.73       380\n",
      "\n"
     ]
    },
    {
     "name": "stderr",
     "output_type": "stream",
     "text": [
      "Training Epochs: 100%|██████████| 2000/2000 [00:51<00:00, 38.89it/s]"
     ]
    },
    {
     "name": "stdout",
     "output_type": "stream",
     "text": [
      "Epoch 2000/2000, Loss: 0.0927\n",
      "Test Accuracy at Epoch 2000: 73.42%\n",
      "Test F1-score at Epoch 2000: 0.7443\n",
      "Classification Report at Epoch 2000:\n",
      "                  precision    recall  f1-score   support\n",
      "\n",
      "    infringement       0.77      0.68      0.72       194\n",
      "non_infringement       0.70      0.79      0.74       186\n",
      "\n",
      "        accuracy                           0.73       380\n",
      "       macro avg       0.74      0.74      0.73       380\n",
      "    weighted avg       0.74      0.73      0.73       380\n",
      "\n"
     ]
    },
    {
     "name": "stderr",
     "output_type": "stream",
     "text": [
      "\n",
      "/tmp/ipykernel_1736239/2033666368.py:59: FutureWarning: You are using `torch.load` with `weights_only=False` (the current default value), which uses the default pickle module implicitly. It is possible to construct malicious pickle data which will execute arbitrary code during unpickling (See https://github.com/pytorch/pytorch/blob/main/SECURITY.md#untrusted-models for more details). In a future release, the default value for `weights_only` will be flipped to `True`. This limits the functions that could be executed during unpickling. Arbitrary objects will no longer be allowed to be loaded via this mode unless they are explicitly allowlisted by the user via `torch.serialization.add_safe_globals`. We recommend you start setting `weights_only=True` for any use case where you don't have full control of the loaded file. Please open an issue on GitHub for any issues related to this experimental feature.\n",
      "  custom_mlp.load_state_dict(torch.load(checkpoint_path))\n"
     ]
    },
    {
     "data": {
      "image/png": "[encoded data removed]",
      "text/plain": [
       "<Figure size 1000x500 with 1 Axes>"
      ]
     },
     "metadata": {},
     "output_type": "display_data"
    },
    {
     "name": "stdout",
     "output_type": "stream",
     "text": [
      "Final Model Accuracy: 77.89%\n",
      "Final Model F1-score: 0.7742\n"
     ]
    }
   ],
   "source": [
    "input_dim = X_train.shape[1]\n",
    "hidden_dim = 256 \n",
    "print(f\"Training MLP model with input_dim={input_dim} and hidden_dim={hidden_dim}\")\n",
    "\n",
    "custom_mlp, losses, best_accuracy, best_f1 = train_model(X_train, y_train, X_test, y_test, input_dim, hidden_dim)"
   ]
  },
  {
   "cell_type": "code",
   "execution_count": 10,
   "metadata": {},
   "outputs": [
    {
     "name": "stdout",
     "output_type": "stream",
     "text": [
      "Checkpoint saved to '/home/guangwei/LLM-COPYRIGHT/copyright_newVersion/models/train_input_0_layer.pth'.\n"
     ]
    }
   ],
   "source": [
    "def save_checkpoint(model, optimizer, epoch, loss, filepath):\n",
    "    checkpoint = {\n",
    "        'epoch': epoch + 1,\n",
    "        'model_state_dict': model.state_dict(),\n",
    "        'optimizer_state_dict': optimizer.state_dict(),\n",
    "        'loss': loss\n",
    "    }\n",
    "    torch.save(checkpoint, filepath)\n",
    "    print(f\"Checkpoint saved to '{filepath}'.\")\n",
    "\n",
    "save_checkpoint(custom_mlp, torch.optim.Adam(custom_mlp.parameters()), len(losses), losses[-1], checkpoint_file)"
   ]
  },
  {
   "cell_type": "code",
   "execution_count": 11,
   "metadata": {},
   "outputs": [
    {
     "name": "stdout",
     "output_type": "stream",
     "text": [
      "Final Model Accuracy: 77.89%\n",
      "                  precision    recall  f1-score   support\n",
      "\n",
      "    infringement       0.78      0.78      0.78       194\n",
      "non_infringement       0.77      0.77      0.77       186\n",
      "\n",
      "        accuracy                           0.78       380\n",
      "       macro avg       0.78      0.78      0.78       380\n",
      "    weighted avg       0.78      0.78      0.78       380\n",
      "\n"
     ]
    },
    {
     "name": "stderr",
     "output_type": "stream",
     "text": [
      "/tmp/ipykernel_1736239/3740627605.py:2: UserWarning: To copy construct from a tensor, it is recommended to use sourceTensor.clone().detach() or sourceTensor.clone().detach().requires_grad_(True), rather than torch.tensor(sourceTensor).\n",
      "  y_pred_final = (torch.sigmoid(torch.tensor(custom_mlp(torch.tensor(X_test, dtype=torch.float32)))) > 0.5).float().numpy()\n"
     ]
    }
   ],
   "source": [
    "print(f\"Final Model Accuracy: {best_accuracy * 100:.2f}%\")\n",
    "y_pred_final = (torch.sigmoid(torch.tensor(custom_mlp(torch.tensor(X_test, dtype=torch.float32)))) > 0.5).float().numpy()\n",
    "print(classification_report(y_test, y_pred_final, target_names=[\"infringement\", \"non_infringement\"]))"
   ]
  }
 ],
 "metadata": {
  "kernelspec": {
   "display_name": "zdh",
   "language": "python",
   "name": "python3"
  },
  "language_info": {
   "codemirror_mode": {
    "name": "ipython",
    "version": 3
   },
   "file_extension": ".py",
   "mimetype": "text/x-python",
   "name": "python",
   "nbconvert_exporter": "python",
   "pygments_lexer": "ipython3",
   "version": "3.12.3"
  }
 },
 "nbformat": 4,
 "nbformat_minor": 2
}
