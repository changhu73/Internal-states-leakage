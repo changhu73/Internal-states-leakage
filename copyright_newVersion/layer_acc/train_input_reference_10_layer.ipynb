{
 "cells": [
  {
   "cell_type": "code",
   "execution_count": 1,
   "metadata": {},
   "outputs": [
    {
     "name": "stderr",
     "output_type": "stream",
     "text": [
      "/home/guangwei/miniconda3/envs/zdh/lib/python3.12/site-packages/tqdm/auto.py:21: TqdmWarning: IProgress not found. Please update jupyter and ipywidgets. See https://ipywidgets.readthedocs.io/en/stable/user_install.html\n",
      "  from .autonotebook import tqdm as notebook_tqdm\n"
     ]
    }
   ],
   "source": [
    "# import packages & variables\n",
    "import argparse\n",
    "import torch\n",
    "import torch.nn as nn\n",
    "import numpy as np\n",
    "from sklearn.metrics import accuracy_score, classification_report\n",
    "import matplotlib.pyplot as plt\n",
    "from tqdm import tqdm\n",
    "from transformers import AutoTokenizer, AutoModelForCausalLM, AutoModel, AutoModelForSequenceClassification\n",
    "import json\n",
    "import os\n",
    "\n",
    "os.environ[\"CUDA_VISIBLE_DEVICES\"] = \"5\"\n",
    "\n",
    "# Parameters\n",
    "model_name = 'meta-llama/Meta-Llama-3.1-8B'\n",
    "non_infringement_file = '/home/guangwei/LLM-COPYRIGHT/copyright_newVersion/test_division/extra_30.non_infringement.json'\n",
    "infringement_file = '/home/guangwei/LLM-COPYRIGHT/copyright_newVersion/test_division/extra_30.infringement.json'\n",
    "checkpoint_file = '/home/guangwei/LLM-COPYRIGHT/copyright_newVersion/models/train_input_reference_0_layer.pth'\n"
   ]
  },
  {
   "cell_type": "code",
   "execution_count": 2,
   "metadata": {},
   "outputs": [],
   "source": [
    "# Define CustumMLP for internal states train\n",
    "class CustomMLP(nn.Module):\n",
    "    def __init__(self, input_dim, hidden_dim):\n",
    "        super(CustomMLP, self).__init__()\n",
    "        self.down = nn.Linear(input_dim, hidden_dim)\n",
    "        self.gate = nn.Linear(input_dim, hidden_dim)\n",
    "        self.up = nn.Linear(hidden_dim, 1)\n",
    "        self.activation = nn.SiLU()\n",
    "\n",
    "    def forward(self, x):\n",
    "        down_output = self.down(x)\n",
    "        gate_output = self.gate(x)\n",
    "        gated_output = down_output * self.activation(gate_output)\n",
    "        return self.up(gated_output)"
   ]
  },
  {
   "cell_type": "code",
   "execution_count": 3,
   "metadata": {},
   "outputs": [],
   "source": [
    "# Extract hidden states/reference embeddings\n",
    "def extract_hidden_states(texts, model, tokenizer, batch_size=4):\n",
    "    device = torch.device(\"cuda\" if torch.cuda.is_available() else \"cpu\")\n",
    "    model.to(device)\n",
    "    model = nn.DataParallel(model)\n",
    "    hidden_states = []\n",
    "    \n",
    "    for i in tqdm(range(0, len(texts), batch_size), desc=\"Processing data batches\"):\n",
    "        batch_texts = texts[i:i + batch_size]\n",
    "        inputs = tokenizer(batch_texts, return_tensors=\"pt\", padding=True, truncation=True).to(device)\n",
    "        \n",
    "        with torch.no_grad():\n",
    "            outputs = model(**inputs)\n",
    "        hidden_states.append(outputs.hidden_states[10].mean(dim=1).cpu().numpy())\n",
    "    \n",
    "    return np.vstack(hidden_states)\n",
    "\n",
    "\n",
    "def extract_reference_embeddings(references, model, tokenizer, batch_size=4):\n",
    "    device = torch.device(\"cuda\" if torch.cuda.is_available() else \"cpu\")\n",
    "    model.to(device)\n",
    "    model = nn.DataParallel(model)\n",
    "    embeddings = []\n",
    "    for i in tqdm(range(0, len(references), batch_size), desc=\"Processing references\"):\n",
    "        batch_references = references[i:i + batch_size]\n",
    "        inputs = tokenizer(batch_references, return_tensors=\"pt\", padding=True, truncation=True).to(device)\n",
    "        with torch.no_grad():\n",
    "            outputs = model(**inputs)\n",
    "        embeddings.append(outputs.pooler_output.cpu().numpy())\n",
    "    return np.vstack(embeddings)"
   ]
  },
  {
   "cell_type": "code",
   "execution_count": 4,
   "metadata": {},
   "outputs": [],
   "source": [
    "# load data for infringement & non infringement\n",
    "def load_data(non_infringement_file, infringement_file):\n",
    "    with open(non_infringement_file, 'r', encoding='utf-8') as file:\n",
    "        non_infringement_json_data = json.load(file)\n",
    "\n",
    "    non_infringement_outputs = [entry['input'] for entry in non_infringement_json_data]\n",
    "    non_infringement_references = [entry['reference'] for entry in non_infringement_json_data]\n",
    "    y_non_infringement = [1] * len(non_infringement_outputs)\n",
    "\n",
    "    with open(infringement_file, 'r', encoding='utf-8') as file:\n",
    "        infringement_json_data = json.load(file)\n",
    "\n",
    "    infringement_outputs = [entry['input'] for entry in infringement_json_data]\n",
    "    infringement_references = [entry['reference'] for entry in infringement_json_data]\n",
    "    y_infringement = [0] * len(infringement_outputs)\n",
    "\n",
    "    return non_infringement_outputs, non_infringement_references, y_non_infringement, infringement_outputs, infringement_references, y_infringement"
   ]
  },
  {
   "cell_type": "code",
   "execution_count": 5,
   "metadata": {},
   "outputs": [],
   "source": [
    "from sklearn.metrics import accuracy_score, classification_report, f1_score\n",
    "\n",
    "# Train for best model\n",
    "def train_model(X_train, y_train, X_test, y_test, input_dim, hidden_dim, epochs=2000, lr=0.001, checkpoint_path=checkpoint_file):\n",
    "    custom_mlp = CustomMLP(input_dim, hidden_dim)\n",
    "    criterion = nn.BCEWithLogitsLoss()\n",
    "    optimizer = torch.optim.Adam(custom_mlp.parameters(), lr=lr)\n",
    "\n",
    "    X_train_tensor = torch.tensor(X_train, dtype=torch.float32)\n",
    "    y_train_tensor = torch.tensor(y_train, dtype=torch.float32).unsqueeze(1)\n",
    "\n",
    "    best_accuracy = -float('inf')\n",
    "    best_f1 = -float('inf')  # Track best F1-score\n",
    "    best_model_state = None\n",
    "    best_epoch = 0\n",
    "    losses = []\n",
    "\n",
    "    for epoch in tqdm(range(epochs), desc=\"Training Epochs\"):\n",
    "        custom_mlp.train()\n",
    "        optimizer.zero_grad()\n",
    "        outputs = custom_mlp(X_train_tensor)\n",
    "        loss = criterion(outputs, y_train_tensor)\n",
    "        loss.backward()\n",
    "        optimizer.step()\n",
    "        losses.append(loss.item())\n",
    "\n",
    "        # Every 10 epochs, evaluate the model\n",
    "        if (epoch + 1) % 10 == 0:\n",
    "            print(f\"Epoch {epoch + 1}/{epochs}, Loss: {loss.item():.4f}\")\n",
    "            \n",
    "            custom_mlp.eval()\n",
    "            X_test_tensor = torch.tensor(X_test, dtype=torch.float32)\n",
    "            with torch.no_grad():\n",
    "                y_pred_logits = custom_mlp(X_test_tensor)\n",
    "                y_pred = (torch.sigmoid(y_pred_logits) > 0.5).float().numpy()\n",
    "            \n",
    "            # Calculate accuracy and F1-score\n",
    "            accuracy = accuracy_score(y_test, y_pred)\n",
    "            f1 = f1_score(y_test, y_pred)  # F1-score calculation\n",
    "            \n",
    "            print(f\"Test Accuracy at Epoch {epoch + 1}: {accuracy * 100:.2f}%\")\n",
    "            print(f\"Test F1-score at Epoch {epoch + 1}: {f1:.4f}\")\n",
    "            \n",
    "            # Generate classification report\n",
    "            report = classification_report(y_test, y_pred, target_names=[\"infringement\", \"non_infringement\"])\n",
    "            print(f\"Classification Report at Epoch {epoch + 1}:\\n{report}\")\n",
    "\n",
    "            # Save the model if it achieves a better F1-score\n",
    "            if f1 > best_f1:\n",
    "                best_accuracy = accuracy\n",
    "                best_f1 = f1\n",
    "                best_model_state = custom_mlp.state_dict()\n",
    "                best_epoch = epoch + 1\n",
    "                torch.save(best_model_state, checkpoint_path)\n",
    "                print(f\"New best model saved with F1-score {best_f1:.4f} at epoch {best_epoch}\")\n",
    "                print(f\"Best Classification Report at Epoch {best_epoch}:\\n{report}\")\n",
    "\n",
    "    # Load the best model state\n",
    "    custom_mlp.load_state_dict(torch.load(checkpoint_path))\n",
    "\n",
    "    # Plot loss curve\n",
    "    plt.figure(figsize=(10, 5))\n",
    "    plt.plot(losses, label='Training Loss')\n",
    "    plt.xlabel('Epoch')\n",
    "    plt.ylabel('Loss')\n",
    "    plt.title('Training Loss Curve')\n",
    "    plt.legend()\n",
    "    plt.show()\n",
    "\n",
    "    print(f\"Final Model Accuracy: {best_accuracy * 100:.2f}%\")\n",
    "    print(f\"Final Model F1-score: {best_f1:.4f}\")\n",
    "    \n",
    "    return custom_mlp, losses, best_accuracy, best_f1\n"
   ]
  },
  {
   "cell_type": "code",
   "execution_count": 6,
   "metadata": {},
   "outputs": [
    {
     "name": "stderr",
     "output_type": "stream",
     "text": [
      "/home/guangwei/miniconda3/envs/zdh/lib/python3.12/site-packages/transformers/generation/configuration_utils.py:777: UserWarning: `return_dict_in_generate` is NOT set to `True`, but `output_hidden_states` is. When `return_dict_in_generate` is not `True`, `output_hidden_states` is ignored.\n",
      "  warnings.warn(\n",
      "Loading checkpoint shards: 100%|██████████| 4/4 [00:07<00:00,  1.96s/it]\n"
     ]
    }
   ],
   "source": [
    "tokenizer = AutoTokenizer.from_pretrained(model_name, model_max_length=512)\n",
    "model = AutoModelForCausalLM.from_pretrained(model_name, output_hidden_states=True)\n",
    "tokenizer.pad_token = tokenizer.eos_token\n",
    "bert_tokenizer = AutoTokenizer.from_pretrained('google-bert/bert-base-uncased')\n",
    "bert_model = AutoModel.from_pretrained('google-bert/bert-base-uncased')\n",
    "bert_tokenizer.pad_token = tokenizer.eos_token\n",
    "\n",
    "non_infringement_outputs, non_infringement_references, y_non_infringement, infringement_outputs, infringement_references, y_infringement = load_data(\n",
    "    non_infringement_file, infringement_file\n",
    ")\n",
    "\n",
    "y_non_infringement = np.array(y_non_infringement)\n",
    "y_infringement = np.array(y_infringement)\n"
   ]
  },
  {
   "cell_type": "code",
   "execution_count": 7,
   "metadata": {},
   "outputs": [
    {
     "name": "stdout",
     "output_type": "stream",
     "text": [
      "Extracting hidden states for non_infringement texts...\n"
     ]
    },
    {
     "name": "stderr",
     "output_type": "stream",
     "text": [
      "Processing data batches:   0%|          | 0/232 [00:00<?, ?it/s]Starting from v4.46, the `logits` model output will have the same type as the model (except at train time, where it will always be FP32)\n",
      "Processing data batches: 100%|██████████| 232/232 [01:05<00:00,  3.54it/s]\n"
     ]
    },
    {
     "name": "stdout",
     "output_type": "stream",
     "text": [
      "Extracting reference embeddings for non_infringement texts...\n"
     ]
    },
    {
     "name": "stderr",
     "output_type": "stream",
     "text": [
      "Processing references: 100%|██████████| 232/232 [00:02<00:00, 97.27it/s] \n"
     ]
    },
    {
     "name": "stdout",
     "output_type": "stream",
     "text": [
      "Extracting hidden states for infringement texts...\n"
     ]
    },
    {
     "name": "stderr",
     "output_type": "stream",
     "text": [
      "Processing data batches: 100%|██████████| 243/243 [01:20<00:00,  3.00it/s]\n"
     ]
    },
    {
     "name": "stdout",
     "output_type": "stream",
     "text": [
      "Extracting reference embeddings for infringement texts...\n"
     ]
    },
    {
     "name": "stderr",
     "output_type": "stream",
     "text": [
      "Processing references: 100%|██████████| 243/243 [00:02<00:00, 104.42it/s]\n"
     ]
    }
   ],
   "source": [
    "print(\"Extracting hidden states for non_infringement texts...\")\n",
    "X_non_infringement = extract_hidden_states(non_infringement_outputs, model, tokenizer)\n",
    "print(\"Extracting reference embeddings for non_infringement texts...\")\n",
    "reference_embeddings_non_infringement = extract_reference_embeddings(non_infringement_references, bert_model, bert_tokenizer)\n",
    "X_non_infringement_combined = np.hstack([X_non_infringement, reference_embeddings_non_infringement])\n",
    "\n",
    "print(\"Extracting hidden states for infringement texts...\")\n",
    "X_infringement = extract_hidden_states(infringement_outputs, model, tokenizer)\n",
    "print(\"Extracting reference embeddings for infringement texts...\")\n",
    "reference_embeddings_infringement = extract_reference_embeddings(infringement_references, bert_model, bert_tokenizer)\n",
    "X_infringement_combined = np.hstack([X_infringement, reference_embeddings_infringement])"
   ]
  },
  {
   "cell_type": "code",
   "execution_count": 8,
   "metadata": {},
   "outputs": [
    {
     "name": "stdout",
     "output_type": "stream",
     "text": [
      "Data successfully split into training and test sets.\n"
     ]
    }
   ],
   "source": [
    "split_index_non_infringement = int(0.8 * len(X_non_infringement_combined))\n",
    "X_non_infringement_train = X_non_infringement_combined[:split_index_non_infringement]\n",
    "X_non_infringement_test = X_non_infringement_combined[split_index_non_infringement:]\n",
    "y_non_infringement_train = y_non_infringement[:split_index_non_infringement]\n",
    "y_non_infringement_test = y_non_infringement[split_index_non_infringement:]\n",
    "\n",
    "split_index_infringement = int(0.8 * len(X_infringement_combined))\n",
    "X_infringement_train = X_infringement_combined[:split_index_infringement]\n",
    "X_infringement_test = X_infringement_combined[split_index_infringement:]\n",
    "y_infringement_train = y_infringement[:split_index_infringement]\n",
    "y_infringement_test = y_infringement[split_index_infringement:]\n",
    "\n",
    "X_train = np.vstack((X_non_infringement_train, X_infringement_train))\n",
    "X_test = np.vstack((X_non_infringement_test, X_infringement_test))\n",
    "y_train = np.concatenate((y_non_infringement_train, y_infringement_train))\n",
    "y_test = np.concatenate((y_non_infringement_test, y_infringement_test))\n",
    "\n",
    "print(\"Data successfully split into training and test sets.\")"
   ]
  },
  {
   "cell_type": "code",
   "execution_count": 9,
   "metadata": {},
   "outputs": [
    {
     "name": "stdout",
     "output_type": "stream",
     "text": [
      "Training MLP model with input_dim=4864 and hidden_dim=256\n"
     ]
    },
    {
     "name": "stderr",
     "output_type": "stream",
     "text": [
      "Training Epochs:   1%|          | 11/2000 [00:00<03:08, 10.56it/s]"
     ]
    },
    {
     "name": "stdout",
     "output_type": "stream",
     "text": [
      "Epoch 10/2000, Loss: 0.6222\n",
      "Test Accuracy at Epoch 10: 66.32%\n",
      "Test F1-score at Epoch 10: 0.6952\n",
      "Classification Report at Epoch 10:\n",
      "                  precision    recall  f1-score   support\n",
      "\n",
      "    infringement       0.73      0.55      0.62       194\n",
      "non_infringement       0.62      0.78      0.70       186\n",
      "\n",
      "        accuracy                           0.66       380\n",
      "       macro avg       0.67      0.67      0.66       380\n",
      "    weighted avg       0.68      0.66      0.66       380\n",
      "\n",
      "New best model saved with F1-score 0.6952 at epoch 10\n",
      "Best Classification Report at Epoch 10:\n",
      "                  precision    recall  f1-score   support\n",
      "\n",
      "    infringement       0.73      0.55      0.62       194\n",
      "non_infringement       0.62      0.78      0.70       186\n",
      "\n",
      "        accuracy                           0.66       380\n",
      "       macro avg       0.67      0.67      0.66       380\n",
      "    weighted avg       0.68      0.66      0.66       380\n",
      "\n"
     ]
    },
    {
     "name": "stderr",
     "output_type": "stream",
     "text": [
      "Training Epochs:   1%|          | 21/2000 [00:01<02:40, 12.33it/s]"
     ]
    },
    {
     "name": "stdout",
     "output_type": "stream",
     "text": [
      "Epoch 20/2000, Loss: 0.4796\n",
      "Test Accuracy at Epoch 20: 70.53%\n",
      "Test F1-score at Epoch 20: 0.7544\n",
      "Classification Report at Epoch 20:\n",
      "                  precision    recall  f1-score   support\n",
      "\n",
      "    infringement       0.87      0.49      0.63       194\n",
      "non_infringement       0.64      0.92      0.75       186\n",
      "\n",
      "        accuracy                           0.71       380\n",
      "       macro avg       0.75      0.71      0.69       380\n",
      "    weighted avg       0.76      0.71      0.69       380\n",
      "\n",
      "New best model saved with F1-score 0.7544 at epoch 20\n",
      "Best Classification Report at Epoch 20:\n",
      "                  precision    recall  f1-score   support\n",
      "\n",
      "    infringement       0.87      0.49      0.63       194\n",
      "non_infringement       0.64      0.92      0.75       186\n",
      "\n",
      "        accuracy                           0.71       380\n",
      "       macro avg       0.75      0.71      0.69       380\n",
      "    weighted avg       0.76      0.71      0.69       380\n",
      "\n"
     ]
    },
    {
     "name": "stderr",
     "output_type": "stream",
     "text": [
      "Training Epochs:   2%|▏         | 31/2000 [00:02<03:02, 10.77it/s]"
     ]
    },
    {
     "name": "stdout",
     "output_type": "stream",
     "text": [
      "Epoch 30/2000, Loss: 0.3634\n",
      "Test Accuracy at Epoch 30: 74.74%\n",
      "Test F1-score at Epoch 30: 0.7876\n",
      "Classification Report at Epoch 30:\n",
      "                  precision    recall  f1-score   support\n",
      "\n",
      "    infringement       0.93      0.55      0.69       194\n",
      "non_infringement       0.67      0.96      0.79       186\n",
      "\n",
      "        accuracy                           0.75       380\n",
      "       macro avg       0.80      0.75      0.74       380\n",
      "    weighted avg       0.80      0.75      0.74       380\n",
      "\n",
      "New best model saved with F1-score 0.7876 at epoch 30\n",
      "Best Classification Report at Epoch 30:\n",
      "                  precision    recall  f1-score   support\n",
      "\n",
      "    infringement       0.93      0.55      0.69       194\n",
      "non_infringement       0.67      0.96      0.79       186\n",
      "\n",
      "        accuracy                           0.75       380\n",
      "       macro avg       0.80      0.75      0.74       380\n",
      "    weighted avg       0.80      0.75      0.74       380\n",
      "\n"
     ]
    },
    {
     "name": "stderr",
     "output_type": "stream",
     "text": [
      "Training Epochs:   2%|▏         | 41/2000 [00:03<03:04, 10.64it/s]"
     ]
    },
    {
     "name": "stdout",
     "output_type": "stream",
     "text": [
      "Epoch 40/2000, Loss: 0.3126\n",
      "Test Accuracy at Epoch 40: 80.79%\n",
      "Test F1-score at Epoch 40: 0.8241\n",
      "Classification Report at Epoch 40:\n",
      "                  precision    recall  f1-score   support\n",
      "\n",
      "    infringement       0.90      0.70      0.79       194\n",
      "non_infringement       0.75      0.92      0.82       186\n",
      "\n",
      "        accuracy                           0.81       380\n",
      "       macro avg       0.82      0.81      0.81       380\n",
      "    weighted avg       0.83      0.81      0.81       380\n",
      "\n",
      "New best model saved with F1-score 0.8241 at epoch 40\n",
      "Best Classification Report at Epoch 40:\n",
      "                  precision    recall  f1-score   support\n",
      "\n",
      "    infringement       0.90      0.70      0.79       194\n",
      "non_infringement       0.75      0.92      0.82       186\n",
      "\n",
      "        accuracy                           0.81       380\n",
      "       macro avg       0.82      0.81      0.81       380\n",
      "    weighted avg       0.83      0.81      0.81       380\n",
      "\n"
     ]
    },
    {
     "name": "stderr",
     "output_type": "stream",
     "text": [
      "Training Epochs:   3%|▎         | 51/2000 [00:04<02:48, 11.57it/s]"
     ]
    },
    {
     "name": "stdout",
     "output_type": "stream",
     "text": [
      "Epoch 50/2000, Loss: 0.2723\n",
      "Test Accuracy at Epoch 50: 81.32%\n",
      "Test F1-score at Epoch 50: 0.8289\n",
      "Classification Report at Epoch 50:\n",
      "                  precision    recall  f1-score   support\n",
      "\n",
      "    infringement       0.91      0.71      0.79       194\n",
      "non_infringement       0.75      0.92      0.83       186\n",
      "\n",
      "        accuracy                           0.81       380\n",
      "       macro avg       0.83      0.82      0.81       380\n",
      "    weighted avg       0.83      0.81      0.81       380\n",
      "\n",
      "New best model saved with F1-score 0.8289 at epoch 50\n",
      "Best Classification Report at Epoch 50:\n",
      "                  precision    recall  f1-score   support\n",
      "\n",
      "    infringement       0.91      0.71      0.79       194\n",
      "non_infringement       0.75      0.92      0.83       186\n",
      "\n",
      "        accuracy                           0.81       380\n",
      "       macro avg       0.83      0.82      0.81       380\n",
      "    weighted avg       0.83      0.81      0.81       380\n",
      "\n"
     ]
    },
    {
     "name": "stderr",
     "output_type": "stream",
     "text": [
      "Training Epochs:   3%|▎         | 62/2000 [00:05<02:29, 12.97it/s]"
     ]
    },
    {
     "name": "stdout",
     "output_type": "stream",
     "text": [
      "Epoch 60/2000, Loss: 0.2613\n",
      "Test Accuracy at Epoch 60: 77.37%\n",
      "Test F1-score at Epoch 60: 0.8028\n",
      "Classification Report at Epoch 60:\n",
      "                  precision    recall  f1-score   support\n",
      "\n",
      "    infringement       0.92      0.61      0.73       194\n",
      "non_infringement       0.70      0.94      0.80       186\n",
      "\n",
      "        accuracy                           0.77       380\n",
      "       macro avg       0.81      0.78      0.77       380\n",
      "    weighted avg       0.81      0.77      0.77       380\n",
      "\n"
     ]
    },
    {
     "name": "stderr",
     "output_type": "stream",
     "text": [
      "Training Epochs:   4%|▎         | 70/2000 [00:08<12:52,  2.50it/s]"
     ]
    },
    {
     "name": "stdout",
     "output_type": "stream",
     "text": [
      "Epoch 70/2000, Loss: 0.2315\n",
      "Test Accuracy at Epoch 70: 77.89%\n",
      "Test F1-score at Epoch 70: 0.8028\n",
      "Classification Report at Epoch 70:\n",
      "                  precision    recall  f1-score   support\n",
      "\n",
      "    infringement       0.89      0.64      0.75       194\n",
      "non_infringement       0.71      0.92      0.80       186\n",
      "\n",
      "        accuracy                           0.78       380\n",
      "       macro avg       0.80      0.78      0.78       380\n",
      "    weighted avg       0.80      0.78      0.78       380\n",
      "\n"
     ]
    },
    {
     "name": "stderr",
     "output_type": "stream",
     "text": [
      "Training Epochs:   4%|▍         | 81/2000 [00:10<04:06,  7.78it/s]"
     ]
    },
    {
     "name": "stdout",
     "output_type": "stream",
     "text": [
      "Epoch 80/2000, Loss: 0.1952\n",
      "Test Accuracy at Epoch 80: 77.37%\n",
      "Test F1-score at Epoch 80: 0.7991\n",
      "Classification Report at Epoch 80:\n",
      "                  precision    recall  f1-score   support\n",
      "\n",
      "    infringement       0.89      0.63      0.74       194\n",
      "non_infringement       0.71      0.92      0.80       186\n",
      "\n",
      "        accuracy                           0.77       380\n",
      "       macro avg       0.80      0.78      0.77       380\n",
      "    weighted avg       0.80      0.77      0.77       380\n",
      "\n"
     ]
    },
    {
     "name": "stderr",
     "output_type": "stream",
     "text": [
      "Training Epochs:   4%|▍         | 90/2000 [00:13<14:00,  2.27it/s]"
     ]
    },
    {
     "name": "stdout",
     "output_type": "stream",
     "text": [
      "Epoch 90/2000, Loss: 0.1958\n",
      "Test Accuracy at Epoch 90: 77.37%\n",
      "Test F1-score at Epoch 90: 0.7981\n",
      "Classification Report at Epoch 90:\n",
      "                  precision    recall  f1-score   support\n",
      "\n",
      "    infringement       0.89      0.64      0.74       194\n",
      "non_infringement       0.71      0.91      0.80       186\n",
      "\n",
      "        accuracy                           0.77       380\n",
      "       macro avg       0.80      0.78      0.77       380\n",
      "    weighted avg       0.80      0.77      0.77       380\n",
      "\n"
     ]
    },
    {
     "name": "stderr",
     "output_type": "stream",
     "text": [
      "Training Epochs:   5%|▌         | 102/2000 [00:16<04:22,  7.22it/s]"
     ]
    },
    {
     "name": "stdout",
     "output_type": "stream",
     "text": [
      "Epoch 100/2000, Loss: 0.1769\n",
      "Test Accuracy at Epoch 100: 76.58%\n",
      "Test F1-score at Epoch 100: 0.7945\n",
      "Classification Report at Epoch 100:\n",
      "                  precision    recall  f1-score   support\n",
      "\n",
      "    infringement       0.89      0.61      0.73       194\n",
      "non_infringement       0.70      0.92      0.79       186\n",
      "\n",
      "        accuracy                           0.77       380\n",
      "       macro avg       0.80      0.77      0.76       380\n",
      "    weighted avg       0.80      0.77      0.76       380\n",
      "\n"
     ]
    },
    {
     "name": "stderr",
     "output_type": "stream",
     "text": [
      "Training Epochs:   6%|▌         | 110/2000 [00:17<06:27,  4.88it/s]"
     ]
    },
    {
     "name": "stdout",
     "output_type": "stream",
     "text": [
      "Epoch 110/2000, Loss: 0.1629\n",
      "Test Accuracy at Epoch 110: 77.63%\n",
      "Test F1-score at Epoch 110: 0.8028\n",
      "Classification Report at Epoch 110:\n",
      "                  precision    recall  f1-score   support\n",
      "\n",
      "    infringement       0.90      0.63      0.74       194\n",
      "non_infringement       0.71      0.93      0.80       186\n",
      "\n",
      "        accuracy                           0.78       380\n",
      "       macro avg       0.80      0.78      0.77       380\n",
      "    weighted avg       0.81      0.78      0.77       380\n",
      "\n"
     ]
    },
    {
     "name": "stderr",
     "output_type": "stream",
     "text": [
      "Training Epochs:   6%|▌         | 122/2000 [00:20<03:39,  8.57it/s]"
     ]
    },
    {
     "name": "stdout",
     "output_type": "stream",
     "text": [
      "Epoch 120/2000, Loss: 0.1476\n",
      "Test Accuracy at Epoch 120: 76.05%\n",
      "Test F1-score at Epoch 120: 0.7828\n",
      "Classification Report at Epoch 120:\n",
      "                  precision    recall  f1-score   support\n",
      "\n",
      "    infringement       0.85      0.64      0.73       194\n",
      "non_infringement       0.70      0.88      0.78       186\n",
      "\n",
      "        accuracy                           0.76       380\n",
      "       macro avg       0.78      0.76      0.76       380\n",
      "    weighted avg       0.78      0.76      0.76       380\n",
      "\n"
     ]
    },
    {
     "name": "stderr",
     "output_type": "stream",
     "text": [
      "Training Epochs:   6%|▋         | 130/2000 [00:21<04:17,  7.26it/s]"
     ]
    },
    {
     "name": "stdout",
     "output_type": "stream",
     "text": [
      "Epoch 130/2000, Loss: 0.1478\n",
      "Test Accuracy at Epoch 130: 77.37%\n",
      "Test F1-score at Epoch 130: 0.8009\n",
      "Classification Report at Epoch 130:\n",
      "                  precision    recall  f1-score   support\n",
      "\n",
      "    infringement       0.90      0.62      0.74       194\n",
      "non_infringement       0.70      0.93      0.80       186\n",
      "\n",
      "        accuracy                           0.77       380\n",
      "       macro avg       0.80      0.78      0.77       380\n",
      "    weighted avg       0.81      0.77      0.77       380\n",
      "\n"
     ]
    },
    {
     "name": "stderr",
     "output_type": "stream",
     "text": [
      "Training Epochs:   7%|▋         | 140/2000 [00:24<06:11,  5.00it/s]"
     ]
    },
    {
     "name": "stdout",
     "output_type": "stream",
     "text": [
      "Epoch 140/2000, Loss: 0.1306\n",
      "Test Accuracy at Epoch 140: 75.79%\n",
      "Test F1-score at Epoch 140: 0.7820\n",
      "Classification Report at Epoch 140:\n",
      "                  precision    recall  f1-score   support\n",
      "\n",
      "    infringement       0.85      0.63      0.73       194\n",
      "non_infringement       0.70      0.89      0.78       186\n",
      "\n",
      "        accuracy                           0.76       380\n",
      "       macro avg       0.78      0.76      0.75       380\n",
      "    weighted avg       0.78      0.76      0.75       380\n",
      "\n"
     ]
    },
    {
     "name": "stderr",
     "output_type": "stream",
     "text": [
      "Training Epochs:   8%|▊         | 150/2000 [00:27<14:01,  2.20it/s]"
     ]
    },
    {
     "name": "stdout",
     "output_type": "stream",
     "text": [
      "Epoch 150/2000, Loss: 0.5134\n",
      "Test Accuracy at Epoch 150: 77.11%\n",
      "Test F1-score at Epoch 150: 0.7655\n",
      "Classification Report at Epoch 150:\n",
      "                  precision    recall  f1-score   support\n",
      "\n",
      "    infringement       0.77      0.78      0.78       194\n",
      "non_infringement       0.77      0.76      0.77       186\n",
      "\n",
      "        accuracy                           0.77       380\n",
      "       macro avg       0.77      0.77      0.77       380\n",
      "    weighted avg       0.77      0.77      0.77       380\n",
      "\n"
     ]
    },
    {
     "name": "stderr",
     "output_type": "stream",
     "text": [
      "Training Epochs:   8%|▊         | 160/2000 [00:30<08:50,  3.47it/s]"
     ]
    },
    {
     "name": "stdout",
     "output_type": "stream",
     "text": [
      "Epoch 160/2000, Loss: 0.1787\n",
      "Test Accuracy at Epoch 160: 77.37%\n",
      "Test F1-score at Epoch 160: 0.8009\n",
      "Classification Report at Epoch 160:\n",
      "                  precision    recall  f1-score   support\n",
      "\n",
      "    infringement       0.90      0.62      0.74       194\n",
      "non_infringement       0.70      0.93      0.80       186\n",
      "\n",
      "        accuracy                           0.77       380\n",
      "       macro avg       0.80      0.78      0.77       380\n",
      "    weighted avg       0.81      0.77      0.77       380\n",
      "\n"
     ]
    },
    {
     "name": "stderr",
     "output_type": "stream",
     "text": [
      "Training Epochs:   9%|▊         | 171/2000 [00:32<04:08,  7.37it/s]"
     ]
    },
    {
     "name": "stdout",
     "output_type": "stream",
     "text": [
      "Epoch 170/2000, Loss: 0.1422\n",
      "Test Accuracy at Epoch 170: 77.11%\n",
      "Test F1-score at Epoch 170: 0.8009\n",
      "Classification Report at Epoch 170:\n",
      "                  precision    recall  f1-score   support\n",
      "\n",
      "    infringement       0.91      0.61      0.73       194\n",
      "non_infringement       0.70      0.94      0.80       186\n",
      "\n",
      "        accuracy                           0.77       380\n",
      "       macro avg       0.81      0.77      0.77       380\n",
      "    weighted avg       0.81      0.77      0.77       380\n",
      "\n"
     ]
    },
    {
     "name": "stderr",
     "output_type": "stream",
     "text": [
      "Training Epochs:   9%|▉         | 180/2000 [00:32<02:28, 12.24it/s]"
     ]
    },
    {
     "name": "stdout",
     "output_type": "stream",
     "text": [
      "Epoch 180/2000, Loss: 0.1297\n",
      "Test Accuracy at Epoch 180: 77.89%\n",
      "Test F1-score at Epoch 180: 0.8065\n",
      "Classification Report at Epoch 180:\n",
      "                  precision    recall  f1-score   support\n",
      "\n",
      "    infringement       0.92      0.62      0.74       194\n",
      "non_infringement       0.71      0.94      0.81       186\n",
      "\n",
      "        accuracy                           0.78       380\n",
      "       macro avg       0.81      0.78      0.77       380\n",
      "    weighted avg       0.81      0.78      0.77       380\n",
      "\n"
     ]
    },
    {
     "name": "stderr",
     "output_type": "stream",
     "text": [
      "Training Epochs:  10%|▉         | 192/2000 [00:34<02:57, 10.18it/s]"
     ]
    },
    {
     "name": "stdout",
     "output_type": "stream",
     "text": [
      "Epoch 190/2000, Loss: 0.1224\n",
      "Test Accuracy at Epoch 190: 77.63%\n",
      "Test F1-score at Epoch 190: 0.8037\n",
      "Classification Report at Epoch 190:\n",
      "                  precision    recall  f1-score   support\n",
      "\n",
      "    infringement       0.91      0.62      0.74       194\n",
      "non_infringement       0.70      0.94      0.80       186\n",
      "\n",
      "        accuracy                           0.78       380\n",
      "       macro avg       0.81      0.78      0.77       380\n",
      "    weighted avg       0.81      0.78      0.77       380\n",
      "\n"
     ]
    },
    {
     "name": "stderr",
     "output_type": "stream",
     "text": [
      "Training Epochs:  10%|█         | 202/2000 [00:35<01:53, 15.87it/s]"
     ]
    },
    {
     "name": "stdout",
     "output_type": "stream",
     "text": [
      "Epoch 200/2000, Loss: 0.1183\n",
      "Test Accuracy at Epoch 200: 77.89%\n",
      "Test F1-score at Epoch 200: 0.8065\n",
      "Classification Report at Epoch 200:\n",
      "                  precision    recall  f1-score   support\n",
      "\n",
      "    infringement       0.92      0.62      0.74       194\n",
      "non_infringement       0.71      0.94      0.81       186\n",
      "\n",
      "        accuracy                           0.78       380\n",
      "       macro avg       0.81      0.78      0.77       380\n",
      "    weighted avg       0.81      0.78      0.77       380\n",
      "\n"
     ]
    },
    {
     "name": "stderr",
     "output_type": "stream",
     "text": [
      "Training Epochs:  11%|█         | 213/2000 [00:35<01:33, 19.07it/s]"
     ]
    },
    {
     "name": "stdout",
     "output_type": "stream",
     "text": [
      "Epoch 210/2000, Loss: 0.1138\n",
      "Test Accuracy at Epoch 210: 78.16%\n",
      "Test F1-score at Epoch 210: 0.8083\n",
      "Classification Report at Epoch 210:\n",
      "                  precision    recall  f1-score   support\n",
      "\n",
      "    infringement       0.92      0.63      0.75       194\n",
      "non_infringement       0.71      0.94      0.81       186\n",
      "\n",
      "        accuracy                           0.78       380\n",
      "       macro avg       0.81      0.78      0.78       380\n",
      "    weighted avg       0.82      0.78      0.78       380\n",
      "\n"
     ]
    },
    {
     "name": "stderr",
     "output_type": "stream",
     "text": [
      "Training Epochs:  11%|█▏        | 225/2000 [00:36<01:12, 24.35it/s]"
     ]
    },
    {
     "name": "stdout",
     "output_type": "stream",
     "text": [
      "Epoch 220/2000, Loss: 0.1102\n",
      "Test Accuracy at Epoch 220: 78.16%\n",
      "Test F1-score at Epoch 220: 0.8074\n",
      "Classification Report at Epoch 220:\n",
      "                  precision    recall  f1-score   support\n",
      "\n",
      "    infringement       0.91      0.63      0.75       194\n",
      "non_infringement       0.71      0.94      0.81       186\n",
      "\n",
      "        accuracy                           0.78       380\n",
      "       macro avg       0.81      0.78      0.78       380\n",
      "    weighted avg       0.81      0.78      0.78       380\n",
      "\n"
     ]
    },
    {
     "name": "stderr",
     "output_type": "stream",
     "text": [
      "Training Epochs:  12%|█▏        | 236/2000 [00:36<00:58, 30.41it/s]"
     ]
    },
    {
     "name": "stdout",
     "output_type": "stream",
     "text": [
      "Epoch 230/2000, Loss: 0.1067\n",
      "Test Accuracy at Epoch 230: 78.42%\n",
      "Test F1-score at Epoch 230: 0.8084\n",
      "Classification Report at Epoch 230:\n",
      "                  precision    recall  f1-score   support\n",
      "\n",
      "    infringement       0.91      0.64      0.75       194\n",
      "non_infringement       0.71      0.93      0.81       186\n",
      "\n",
      "        accuracy                           0.78       380\n",
      "       macro avg       0.81      0.79      0.78       380\n",
      "    weighted avg       0.81      0.78      0.78       380\n",
      "\n"
     ]
    },
    {
     "name": "stderr",
     "output_type": "stream",
     "text": [
      "Training Epochs:  12%|█▏        | 244/2000 [00:36<01:00, 28.84it/s]"
     ]
    },
    {
     "name": "stdout",
     "output_type": "stream",
     "text": [
      "Epoch 240/2000, Loss: 0.1034\n",
      "Test Accuracy at Epoch 240: 78.42%\n",
      "Test F1-score at Epoch 240: 0.8084\n",
      "Classification Report at Epoch 240:\n",
      "                  precision    recall  f1-score   support\n",
      "\n",
      "    infringement       0.91      0.64      0.75       194\n",
      "non_infringement       0.71      0.93      0.81       186\n",
      "\n",
      "        accuracy                           0.78       380\n",
      "       macro avg       0.81      0.79      0.78       380\n",
      "    weighted avg       0.81      0.78      0.78       380\n",
      "\n"
     ]
    },
    {
     "name": "stderr",
     "output_type": "stream",
     "text": [
      "Training Epochs:  13%|█▎        | 257/2000 [00:37<00:52, 33.09it/s]"
     ]
    },
    {
     "name": "stdout",
     "output_type": "stream",
     "text": [
      "Epoch 250/2000, Loss: 0.1074\n",
      "Test Accuracy at Epoch 250: 78.68%\n",
      "Test F1-score at Epoch 250: 0.8085\n",
      "Classification Report at Epoch 250:\n",
      "                  precision    recall  f1-score   support\n",
      "\n",
      "    infringement       0.90      0.66      0.76       194\n",
      "non_infringement       0.72      0.92      0.81       186\n",
      "\n",
      "        accuracy                           0.79       380\n",
      "       macro avg       0.81      0.79      0.78       380\n",
      "    weighted avg       0.81      0.79      0.78       380\n",
      "\n"
     ]
    },
    {
     "name": "stderr",
     "output_type": "stream",
     "text": [
      "Training Epochs:  13%|█▎        | 265/2000 [00:37<00:52, 33.13it/s]"
     ]
    },
    {
     "name": "stdout",
     "output_type": "stream",
     "text": [
      "Epoch 260/2000, Loss: 0.0981\n",
      "Test Accuracy at Epoch 260: 78.42%\n",
      "Test F1-score at Epoch 260: 0.8084\n",
      "Classification Report at Epoch 260:\n",
      "                  precision    recall  f1-score   support\n",
      "\n",
      "    infringement       0.91      0.64      0.75       194\n",
      "non_infringement       0.71      0.93      0.81       186\n",
      "\n",
      "        accuracy                           0.78       380\n",
      "       macro avg       0.81      0.79      0.78       380\n",
      "    weighted avg       0.81      0.78      0.78       380\n",
      "\n"
     ]
    },
    {
     "name": "stderr",
     "output_type": "stream",
     "text": [
      "Training Epochs:  14%|█▍        | 275/2000 [00:37<00:45, 38.17it/s]"
     ]
    },
    {
     "name": "stdout",
     "output_type": "stream",
     "text": [
      "Epoch 270/2000, Loss: 0.0958\n",
      "Test Accuracy at Epoch 270: 78.42%\n",
      "Test F1-score at Epoch 270: 0.8084\n",
      "Classification Report at Epoch 270:\n",
      "                  precision    recall  f1-score   support\n",
      "\n",
      "    infringement       0.91      0.64      0.75       194\n",
      "non_infringement       0.71      0.93      0.81       186\n",
      "\n",
      "        accuracy                           0.78       380\n",
      "       macro avg       0.81      0.79      0.78       380\n",
      "    weighted avg       0.81      0.78      0.78       380\n",
      "\n"
     ]
    },
    {
     "name": "stderr",
     "output_type": "stream",
     "text": [
      "Training Epochs:  14%|█▍        | 288/2000 [00:37<00:43, 39.43it/s]"
     ]
    },
    {
     "name": "stdout",
     "output_type": "stream",
     "text": [
      "Epoch 280/2000, Loss: 0.0939\n",
      "Test Accuracy at Epoch 280: 79.21%\n",
      "Test F1-score at Epoch 280: 0.8132\n",
      "Classification Report at Epoch 280:\n",
      "                  precision    recall  f1-score   support\n",
      "\n",
      "    infringement       0.90      0.66      0.77       194\n",
      "non_infringement       0.73      0.92      0.81       186\n",
      "\n",
      "        accuracy                           0.79       380\n",
      "       macro avg       0.81      0.79      0.79       380\n",
      "    weighted avg       0.82      0.79      0.79       380\n",
      "\n"
     ]
    },
    {
     "name": "stderr",
     "output_type": "stream",
     "text": [
      "Training Epochs:  15%|█▍        | 296/2000 [00:38<00:47, 35.61it/s]"
     ]
    },
    {
     "name": "stdout",
     "output_type": "stream",
     "text": [
      "Epoch 290/2000, Loss: 0.0941\n",
      "Test Accuracy at Epoch 290: 78.16%\n",
      "Test F1-score at Epoch 290: 0.8074\n",
      "Classification Report at Epoch 290:\n",
      "                  precision    recall  f1-score   support\n",
      "\n",
      "    infringement       0.91      0.63      0.75       194\n",
      "non_infringement       0.71      0.94      0.81       186\n",
      "\n",
      "        accuracy                           0.78       380\n",
      "       macro avg       0.81      0.78      0.78       380\n",
      "    weighted avg       0.81      0.78      0.78       380\n",
      "\n"
     ]
    },
    {
     "name": "stderr",
     "output_type": "stream",
     "text": [
      "Training Epochs:  15%|█▌        | 305/2000 [00:38<00:43, 39.17it/s]"
     ]
    },
    {
     "name": "stdout",
     "output_type": "stream",
     "text": [
      "Epoch 300/2000, Loss: 0.0907\n",
      "Test Accuracy at Epoch 300: 78.16%\n",
      "Test F1-score at Epoch 300: 0.8074\n",
      "Classification Report at Epoch 300:\n",
      "                  precision    recall  f1-score   support\n",
      "\n",
      "    infringement       0.91      0.63      0.75       194\n",
      "non_infringement       0.71      0.94      0.81       186\n",
      "\n",
      "        accuracy                           0.78       380\n",
      "       macro avg       0.81      0.78      0.78       380\n",
      "    weighted avg       0.81      0.78      0.78       380\n",
      "\n"
     ]
    },
    {
     "name": "stderr",
     "output_type": "stream",
     "text": [
      "Training Epochs:  16%|█▌        | 314/2000 [00:38<00:45, 37.31it/s]"
     ]
    },
    {
     "name": "stdout",
     "output_type": "stream",
     "text": [
      "Epoch 310/2000, Loss: 0.0895\n",
      "Test Accuracy at Epoch 310: 79.47%\n",
      "Test F1-score at Epoch 310: 0.8160\n",
      "Classification Report at Epoch 310:\n",
      "                  precision    recall  f1-score   support\n",
      "\n",
      "    infringement       0.91      0.66      0.77       194\n",
      "non_infringement       0.73      0.93      0.82       186\n",
      "\n",
      "        accuracy                           0.79       380\n",
      "       macro avg       0.82      0.80      0.79       380\n",
      "    weighted avg       0.82      0.79      0.79       380\n",
      "\n"
     ]
    },
    {
     "name": "stderr",
     "output_type": "stream",
     "text": [
      "Training Epochs:  16%|█▋        | 325/2000 [00:38<00:44, 37.26it/s]"
     ]
    },
    {
     "name": "stdout",
     "output_type": "stream",
     "text": [
      "Epoch 320/2000, Loss: 0.0888\n",
      "Test Accuracy at Epoch 320: 79.21%\n",
      "Test F1-score at Epoch 320: 0.8141\n",
      "Classification Report at Epoch 320:\n",
      "                  precision    recall  f1-score   support\n",
      "\n",
      "    infringement       0.91      0.66      0.76       194\n",
      "non_infringement       0.72      0.93      0.81       186\n",
      "\n",
      "        accuracy                           0.79       380\n",
      "       macro avg       0.82      0.79      0.79       380\n",
      "    weighted avg       0.82      0.79      0.79       380\n",
      "\n"
     ]
    },
    {
     "name": "stderr",
     "output_type": "stream",
     "text": [
      "Training Epochs:  17%|█▋        | 335/2000 [00:39<00:40, 41.45it/s]"
     ]
    },
    {
     "name": "stdout",
     "output_type": "stream",
     "text": [
      "Epoch 330/2000, Loss: 0.0905\n",
      "Test Accuracy at Epoch 330: 77.37%\n",
      "Test F1-score at Epoch 330: 0.8018\n",
      "Classification Report at Epoch 330:\n",
      "                  precision    recall  f1-score   support\n",
      "\n",
      "    infringement       0.91      0.62      0.74       194\n",
      "non_infringement       0.70      0.94      0.80       186\n",
      "\n",
      "        accuracy                           0.77       380\n",
      "       macro avg       0.81      0.78      0.77       380\n",
      "    weighted avg       0.81      0.77      0.77       380\n",
      "\n"
     ]
    },
    {
     "name": "stderr",
     "output_type": "stream",
     "text": [
      "Training Epochs:  17%|█▋        | 345/2000 [00:39<00:40, 40.45it/s]"
     ]
    },
    {
     "name": "stdout",
     "output_type": "stream",
     "text": [
      "Epoch 340/2000, Loss: 0.0874\n",
      "Test Accuracy at Epoch 340: 77.63%\n",
      "Test F1-score at Epoch 340: 0.8028\n",
      "Classification Report at Epoch 340:\n",
      "                  precision    recall  f1-score   support\n",
      "\n",
      "    infringement       0.90      0.63      0.74       194\n",
      "non_infringement       0.71      0.93      0.80       186\n",
      "\n",
      "        accuracy                           0.78       380\n",
      "       macro avg       0.80      0.78      0.77       380\n",
      "    weighted avg       0.81      0.78      0.77       380\n",
      "\n"
     ]
    },
    {
     "name": "stderr",
     "output_type": "stream",
     "text": [
      "Training Epochs:  18%|█▊        | 355/2000 [00:39<00:38, 42.39it/s]"
     ]
    },
    {
     "name": "stdout",
     "output_type": "stream",
     "text": [
      "Epoch 350/2000, Loss: 0.0899\n",
      "Test Accuracy at Epoch 350: 79.21%\n",
      "Test F1-score at Epoch 350: 0.8141\n",
      "Classification Report at Epoch 350:\n",
      "                  precision    recall  f1-score   support\n",
      "\n",
      "    infringement       0.91      0.66      0.76       194\n",
      "non_infringement       0.72      0.93      0.81       186\n",
      "\n",
      "        accuracy                           0.79       380\n",
      "       macro avg       0.82      0.79      0.79       380\n",
      "    weighted avg       0.82      0.79      0.79       380\n",
      "\n"
     ]
    },
    {
     "name": "stderr",
     "output_type": "stream",
     "text": [
      "Training Epochs:  18%|█▊        | 365/2000 [00:40<01:02, 26.05it/s]"
     ]
    },
    {
     "name": "stdout",
     "output_type": "stream",
     "text": [
      "Epoch 360/2000, Loss: 0.0844\n",
      "Test Accuracy at Epoch 360: 81.32%\n",
      "Test F1-score at Epoch 360: 0.8297\n",
      "Classification Report at Epoch 360:\n",
      "                  precision    recall  f1-score   support\n",
      "\n",
      "    infringement       0.91      0.70      0.79       194\n",
      "non_infringement       0.75      0.93      0.83       186\n",
      "\n",
      "        accuracy                           0.81       380\n",
      "       macro avg       0.83      0.82      0.81       380\n",
      "    weighted avg       0.83      0.81      0.81       380\n",
      "\n",
      "New best model saved with F1-score 0.8297 at epoch 360\n",
      "Best Classification Report at Epoch 360:\n",
      "                  precision    recall  f1-score   support\n",
      "\n",
      "    infringement       0.91      0.70      0.79       194\n",
      "non_infringement       0.75      0.93      0.83       186\n",
      "\n",
      "        accuracy                           0.81       380\n",
      "       macro avg       0.83      0.82      0.81       380\n",
      "    weighted avg       0.83      0.81      0.81       380\n",
      "\n"
     ]
    },
    {
     "name": "stderr",
     "output_type": "stream",
     "text": [
      "Training Epochs:  18%|█▊        | 369/2000 [00:40<00:57, 28.48it/s]"
     ]
    },
    {
     "name": "stdout",
     "output_type": "stream",
     "text": [
      "Epoch 370/2000, Loss: 0.0838\n",
      "Test Accuracy at Epoch 370: 79.74%\n",
      "Test F1-score at Epoch 370: 0.8180\n",
      "Classification Report at Epoch 370:\n",
      "                  precision    recall  f1-score   support\n",
      "\n",
      "    infringement       0.91      0.67      0.77       194\n",
      "non_infringement       0.73      0.93      0.82       186\n",
      "\n",
      "        accuracy                           0.80       380\n",
      "       macro avg       0.82      0.80      0.79       380\n",
      "    weighted avg       0.82      0.80      0.79       380\n",
      "\n"
     ]
    },
    {
     "name": "stderr",
     "output_type": "stream",
     "text": [
      "Training Epochs:  19%|█▉        | 382/2000 [00:41<01:46, 15.22it/s]"
     ]
    },
    {
     "name": "stdout",
     "output_type": "stream",
     "text": [
      "Epoch 380/2000, Loss: 0.0830\n",
      "Test Accuracy at Epoch 380: 79.47%\n",
      "Test F1-score at Epoch 380: 0.8160\n",
      "Classification Report at Epoch 380:\n",
      "                  precision    recall  f1-score   support\n",
      "\n",
      "    infringement       0.91      0.66      0.77       194\n",
      "non_infringement       0.73      0.93      0.82       186\n",
      "\n",
      "        accuracy                           0.79       380\n",
      "       macro avg       0.82      0.80      0.79       380\n",
      "    weighted avg       0.82      0.79      0.79       380\n",
      "\n"
     ]
    },
    {
     "name": "stderr",
     "output_type": "stream",
     "text": [
      "Training Epochs:  20%|█▉        | 395/2000 [00:41<01:03, 25.43it/s]"
     ]
    },
    {
     "name": "stdout",
     "output_type": "stream",
     "text": [
      "Epoch 390/2000, Loss: 0.0844\n",
      "Test Accuracy at Epoch 390: 81.58%\n",
      "Test F1-score at Epoch 390: 0.8309\n",
      "Classification Report at Epoch 390:\n",
      "                  precision    recall  f1-score   support\n",
      "\n",
      "    infringement       0.91      0.71      0.80       194\n",
      "non_infringement       0.75      0.92      0.83       186\n",
      "\n",
      "        accuracy                           0.82       380\n",
      "       macro avg       0.83      0.82      0.81       380\n",
      "    weighted avg       0.83      0.82      0.81       380\n",
      "\n",
      "New best model saved with F1-score 0.8309 at epoch 390\n",
      "Best Classification Report at Epoch 390:\n",
      "                  precision    recall  f1-score   support\n",
      "\n",
      "    infringement       0.91      0.71      0.80       194\n",
      "non_infringement       0.75      0.92      0.83       186\n",
      "\n",
      "        accuracy                           0.82       380\n",
      "       macro avg       0.83      0.82      0.81       380\n",
      "    weighted avg       0.83      0.82      0.81       380\n",
      "\n"
     ]
    },
    {
     "name": "stderr",
     "output_type": "stream",
     "text": [
      "Training Epochs:  20%|██        | 408/2000 [00:42<00:48, 32.67it/s]"
     ]
    },
    {
     "name": "stdout",
     "output_type": "stream",
     "text": [
      "Epoch 400/2000, Loss: 0.0891\n",
      "Test Accuracy at Epoch 400: 77.63%\n",
      "Test F1-score at Epoch 400: 0.8028\n",
      "Classification Report at Epoch 400:\n",
      "                  precision    recall  f1-score   support\n",
      "\n",
      "    infringement       0.90      0.63      0.74       194\n",
      "non_infringement       0.71      0.93      0.80       186\n",
      "\n",
      "        accuracy                           0.78       380\n",
      "       macro avg       0.80      0.78      0.77       380\n",
      "    weighted avg       0.81      0.78      0.77       380\n",
      "\n"
     ]
    },
    {
     "name": "stderr",
     "output_type": "stream",
     "text": [
      "Training Epochs:  21%|██        | 416/2000 [00:42<00:47, 33.06it/s]"
     ]
    },
    {
     "name": "stdout",
     "output_type": "stream",
     "text": [
      "Epoch 410/2000, Loss: 0.0832\n",
      "Test Accuracy at Epoch 410: 79.21%\n",
      "Test F1-score at Epoch 410: 0.8141\n",
      "Classification Report at Epoch 410:\n",
      "                  precision    recall  f1-score   support\n",
      "\n",
      "    infringement       0.91      0.66      0.76       194\n",
      "non_infringement       0.72      0.93      0.81       186\n",
      "\n",
      "        accuracy                           0.79       380\n",
      "       macro avg       0.82      0.79      0.79       380\n",
      "    weighted avg       0.82      0.79      0.79       380\n",
      "\n"
     ]
    },
    {
     "name": "stderr",
     "output_type": "stream",
     "text": [
      "Training Epochs:  21%|██▏       | 425/2000 [00:42<00:41, 38.16it/s]"
     ]
    },
    {
     "name": "stdout",
     "output_type": "stream",
     "text": [
      "Epoch 420/2000, Loss: 0.0807\n",
      "Test Accuracy at Epoch 420: 79.47%\n",
      "Test F1-score at Epoch 420: 0.8160\n",
      "Classification Report at Epoch 420:\n",
      "                  precision    recall  f1-score   support\n",
      "\n",
      "    infringement       0.91      0.66      0.77       194\n",
      "non_infringement       0.73      0.93      0.82       186\n",
      "\n",
      "        accuracy                           0.79       380\n",
      "       macro avg       0.82      0.80      0.79       380\n",
      "    weighted avg       0.82      0.79      0.79       380\n",
      "\n"
     ]
    },
    {
     "name": "stderr",
     "output_type": "stream",
     "text": [
      "Training Epochs:  22%|██▏       | 433/2000 [00:43<00:44, 34.89it/s]"
     ]
    },
    {
     "name": "stdout",
     "output_type": "stream",
     "text": [
      "Epoch 430/2000, Loss: 0.0816\n",
      "Test Accuracy at Epoch 430: 79.47%\n",
      "Test F1-score at Epoch 430: 0.8160\n",
      "Classification Report at Epoch 430:\n",
      "                  precision    recall  f1-score   support\n",
      "\n",
      "    infringement       0.91      0.66      0.77       194\n",
      "non_infringement       0.73      0.93      0.82       186\n",
      "\n",
      "        accuracy                           0.79       380\n",
      "       macro avg       0.82      0.80      0.79       380\n",
      "    weighted avg       0.82      0.79      0.79       380\n",
      "\n"
     ]
    },
    {
     "name": "stderr",
     "output_type": "stream",
     "text": [
      "Training Epochs:  22%|██▏       | 442/2000 [00:43<00:51, 30.17it/s]"
     ]
    },
    {
     "name": "stdout",
     "output_type": "stream",
     "text": [
      "Epoch 440/2000, Loss: 0.0875\n",
      "Test Accuracy at Epoch 440: 81.58%\n",
      "Test F1-score at Epoch 440: 0.8301\n",
      "Classification Report at Epoch 440:\n",
      "                  precision    recall  f1-score   support\n",
      "\n",
      "    infringement       0.90      0.72      0.80       194\n",
      "non_infringement       0.76      0.92      0.83       186\n",
      "\n",
      "        accuracy                           0.82       380\n",
      "       macro avg       0.83      0.82      0.81       380\n",
      "    weighted avg       0.83      0.82      0.81       380\n",
      "\n"
     ]
    },
    {
     "name": "stderr",
     "output_type": "stream",
     "text": [
      "Training Epochs:  23%|██▎       | 455/2000 [00:43<00:45, 34.28it/s]"
     ]
    },
    {
     "name": "stdout",
     "output_type": "stream",
     "text": [
      "Epoch 450/2000, Loss: 0.0878\n",
      "Test Accuracy at Epoch 450: 77.37%\n",
      "Test F1-score at Epoch 450: 0.8018\n",
      "Classification Report at Epoch 450:\n",
      "                  precision    recall  f1-score   support\n",
      "\n",
      "    infringement       0.91      0.62      0.74       194\n",
      "non_infringement       0.70      0.94      0.80       186\n",
      "\n",
      "        accuracy                           0.77       380\n",
      "       macro avg       0.81      0.78      0.77       380\n",
      "    weighted avg       0.81      0.77      0.77       380\n",
      "\n"
     ]
    },
    {
     "name": "stderr",
     "output_type": "stream",
     "text": [
      "Training Epochs:  23%|██▎       | 463/2000 [00:44<00:55, 27.82it/s]"
     ]
    },
    {
     "name": "stdout",
     "output_type": "stream",
     "text": [
      "Epoch 460/2000, Loss: 0.0818\n",
      "Test Accuracy at Epoch 460: 79.47%\n",
      "Test F1-score at Epoch 460: 0.8160\n",
      "Classification Report at Epoch 460:\n",
      "                  precision    recall  f1-score   support\n",
      "\n",
      "    infringement       0.91      0.66      0.77       194\n",
      "non_infringement       0.73      0.93      0.82       186\n",
      "\n",
      "        accuracy                           0.79       380\n",
      "       macro avg       0.82      0.80      0.79       380\n",
      "    weighted avg       0.82      0.79      0.79       380\n",
      "\n"
     ]
    },
    {
     "name": "stderr",
     "output_type": "stream",
     "text": [
      "Training Epochs:  24%|██▍       | 475/2000 [00:44<00:48, 31.60it/s]"
     ]
    },
    {
     "name": "stdout",
     "output_type": "stream",
     "text": [
      "Epoch 470/2000, Loss: 0.0805\n",
      "Test Accuracy at Epoch 470: 78.95%\n",
      "Test F1-score at Epoch 470: 0.8131\n",
      "Classification Report at Epoch 470:\n",
      "                  precision    recall  f1-score   support\n",
      "\n",
      "    infringement       0.91      0.65      0.76       194\n",
      "non_infringement       0.72      0.94      0.81       186\n",
      "\n",
      "        accuracy                           0.79       380\n",
      "       macro avg       0.82      0.79      0.79       380\n",
      "    weighted avg       0.82      0.79      0.79       380\n",
      "\n"
     ]
    },
    {
     "name": "stderr",
     "output_type": "stream",
     "text": [
      "Training Epochs:  24%|██▍       | 483/2000 [00:44<00:47, 31.81it/s]"
     ]
    },
    {
     "name": "stdout",
     "output_type": "stream",
     "text": [
      "Epoch 480/2000, Loss: 0.0795\n",
      "Test Accuracy at Epoch 480: 79.21%\n",
      "Test F1-score at Epoch 480: 0.8141\n",
      "Classification Report at Epoch 480:\n",
      "                  precision    recall  f1-score   support\n",
      "\n",
      "    infringement       0.91      0.66      0.76       194\n",
      "non_infringement       0.72      0.93      0.81       186\n",
      "\n",
      "        accuracy                           0.79       380\n",
      "       macro avg       0.82      0.79      0.79       380\n",
      "    weighted avg       0.82      0.79      0.79       380\n",
      "\n"
     ]
    },
    {
     "name": "stderr",
     "output_type": "stream",
     "text": [
      "Training Epochs:  25%|██▍       | 492/2000 [00:44<00:48, 30.80it/s]"
     ]
    },
    {
     "name": "stdout",
     "output_type": "stream",
     "text": [
      "Epoch 490/2000, Loss: 0.0787\n",
      "Test Accuracy at Epoch 490: 78.95%\n",
      "Test F1-score at Epoch 490: 0.8131\n",
      "Classification Report at Epoch 490:\n",
      "                  precision    recall  f1-score   support\n",
      "\n",
      "    infringement       0.91      0.65      0.76       194\n",
      "non_infringement       0.72      0.94      0.81       186\n",
      "\n",
      "        accuracy                           0.79       380\n",
      "       macro avg       0.82      0.79      0.79       380\n",
      "    weighted avg       0.82      0.79      0.79       380\n",
      "\n"
     ]
    },
    {
     "name": "stderr",
     "output_type": "stream",
     "text": [
      "Training Epochs:  25%|██▌       | 504/2000 [00:45<00:49, 30.14it/s]"
     ]
    },
    {
     "name": "stdout",
     "output_type": "stream",
     "text": [
      "Epoch 500/2000, Loss: 0.0802\n",
      "Test Accuracy at Epoch 500: 79.47%\n",
      "Test F1-score at Epoch 500: 0.8160\n",
      "Classification Report at Epoch 500:\n",
      "                  precision    recall  f1-score   support\n",
      "\n",
      "    infringement       0.91      0.66      0.77       194\n",
      "non_infringement       0.73      0.93      0.82       186\n",
      "\n",
      "        accuracy                           0.79       380\n",
      "       macro avg       0.82      0.80      0.79       380\n",
      "    weighted avg       0.82      0.79      0.79       380\n",
      "\n"
     ]
    },
    {
     "name": "stderr",
     "output_type": "stream",
     "text": [
      "Training Epochs:  26%|██▌       | 513/2000 [00:45<00:51, 28.71it/s]"
     ]
    },
    {
     "name": "stdout",
     "output_type": "stream",
     "text": [
      "Epoch 510/2000, Loss: 0.0802\n",
      "Test Accuracy at Epoch 510: 78.95%\n",
      "Test F1-score at Epoch 510: 0.8131\n",
      "Classification Report at Epoch 510:\n",
      "                  precision    recall  f1-score   support\n",
      "\n",
      "    infringement       0.91      0.65      0.76       194\n",
      "non_infringement       0.72      0.94      0.81       186\n",
      "\n",
      "        accuracy                           0.79       380\n",
      "       macro avg       0.82      0.79      0.79       380\n",
      "    weighted avg       0.82      0.79      0.79       380\n",
      "\n"
     ]
    },
    {
     "name": "stderr",
     "output_type": "stream",
     "text": [
      "Training Epochs:  26%|██▌       | 522/2000 [00:46<01:36, 15.32it/s]"
     ]
    },
    {
     "name": "stdout",
     "output_type": "stream",
     "text": [
      "Epoch 520/2000, Loss: 0.0793\n",
      "Test Accuracy at Epoch 520: 79.21%\n",
      "Test F1-score at Epoch 520: 0.8150\n",
      "Classification Report at Epoch 520:\n",
      "                  precision    recall  f1-score   support\n",
      "\n",
      "    infringement       0.91      0.65      0.76       194\n",
      "non_infringement       0.72      0.94      0.81       186\n",
      "\n",
      "        accuracy                           0.79       380\n",
      "       macro avg       0.82      0.80      0.79       380\n",
      "    weighted avg       0.82      0.79      0.79       380\n",
      "\n"
     ]
    },
    {
     "name": "stderr",
     "output_type": "stream",
     "text": [
      "Training Epochs:  26%|██▋       | 530/2000 [00:47<01:56, 12.62it/s]"
     ]
    },
    {
     "name": "stdout",
     "output_type": "stream",
     "text": [
      "Epoch 530/2000, Loss: 0.0782\n",
      "Test Accuracy at Epoch 530: 79.21%\n",
      "Test F1-score at Epoch 530: 0.8150\n",
      "Classification Report at Epoch 530:\n",
      "                  precision    recall  f1-score   support\n",
      "\n",
      "    infringement       0.91      0.65      0.76       194\n",
      "non_infringement       0.72      0.94      0.81       186\n",
      "\n",
      "        accuracy                           0.79       380\n",
      "       macro avg       0.82      0.80      0.79       380\n",
      "    weighted avg       0.82      0.79      0.79       380\n",
      "\n"
     ]
    },
    {
     "name": "stderr",
     "output_type": "stream",
     "text": [
      "Training Epochs:  27%|██▋       | 540/2000 [00:48<02:29,  9.78it/s]"
     ]
    },
    {
     "name": "stdout",
     "output_type": "stream",
     "text": [
      "Epoch 540/2000, Loss: 0.0870\n",
      "Test Accuracy at Epoch 540: 79.47%\n",
      "Test F1-score at Epoch 540: 0.8152\n",
      "Classification Report at Epoch 540:\n",
      "                  precision    recall  f1-score   support\n",
      "\n",
      "    infringement       0.90      0.67      0.77       194\n",
      "non_infringement       0.73      0.92      0.82       186\n",
      "\n",
      "        accuracy                           0.79       380\n",
      "       macro avg       0.82      0.80      0.79       380\n",
      "    weighted avg       0.82      0.79      0.79       380\n",
      "\n"
     ]
    },
    {
     "name": "stderr",
     "output_type": "stream",
     "text": [
      "Training Epochs:  28%|██▊       | 552/2000 [00:49<01:53, 12.75it/s]"
     ]
    },
    {
     "name": "stdout",
     "output_type": "stream",
     "text": [
      "Epoch 550/2000, Loss: 0.0854\n",
      "Test Accuracy at Epoch 550: 78.42%\n",
      "Test F1-score at Epoch 550: 0.8093\n",
      "Classification Report at Epoch 550:\n",
      "                  precision    recall  f1-score   support\n",
      "\n",
      "    infringement       0.91      0.64      0.75       194\n",
      "non_infringement       0.71      0.94      0.81       186\n",
      "\n",
      "        accuracy                           0.78       380\n",
      "       macro avg       0.81      0.79      0.78       380\n",
      "    weighted avg       0.81      0.78      0.78       380\n",
      "\n"
     ]
    },
    {
     "name": "stderr",
     "output_type": "stream",
     "text": [
      "Training Epochs:  28%|██▊       | 561/2000 [00:49<01:27, 16.40it/s]"
     ]
    },
    {
     "name": "stdout",
     "output_type": "stream",
     "text": [
      "Epoch 560/2000, Loss: 0.0772\n",
      "Test Accuracy at Epoch 560: 78.95%\n",
      "Test F1-score at Epoch 560: 0.8131\n",
      "Classification Report at Epoch 560:\n",
      "                  precision    recall  f1-score   support\n",
      "\n",
      "    infringement       0.91      0.65      0.76       194\n",
      "non_infringement       0.72      0.94      0.81       186\n",
      "\n",
      "        accuracy                           0.79       380\n",
      "       macro avg       0.82      0.79      0.79       380\n",
      "    weighted avg       0.82      0.79      0.79       380\n",
      "\n"
     ]
    },
    {
     "name": "stderr",
     "output_type": "stream",
     "text": [
      "Training Epochs:  28%|██▊       | 570/2000 [00:50<01:32, 15.47it/s]"
     ]
    },
    {
     "name": "stdout",
     "output_type": "stream",
     "text": [
      "Epoch 570/2000, Loss: 0.0777\n",
      "Test Accuracy at Epoch 570: 79.21%\n",
      "Test F1-score at Epoch 570: 0.8150\n",
      "Classification Report at Epoch 570:\n",
      "                  precision    recall  f1-score   support\n",
      "\n",
      "    infringement       0.91      0.65      0.76       194\n",
      "non_infringement       0.72      0.94      0.81       186\n",
      "\n",
      "        accuracy                           0.79       380\n",
      "       macro avg       0.82      0.80      0.79       380\n",
      "    weighted avg       0.82      0.79      0.79       380\n",
      "\n"
     ]
    },
    {
     "name": "stderr",
     "output_type": "stream",
     "text": [
      "Training Epochs:  29%|██▉       | 582/2000 [00:51<01:58, 11.96it/s]"
     ]
    },
    {
     "name": "stdout",
     "output_type": "stream",
     "text": [
      "Epoch 580/2000, Loss: 0.0769\n",
      "Test Accuracy at Epoch 580: 78.95%\n",
      "Test F1-score at Epoch 580: 0.8131\n",
      "Classification Report at Epoch 580:\n",
      "                  precision    recall  f1-score   support\n",
      "\n",
      "    infringement       0.91      0.65      0.76       194\n",
      "non_infringement       0.72      0.94      0.81       186\n",
      "\n",
      "        accuracy                           0.79       380\n",
      "       macro avg       0.82      0.79      0.79       380\n",
      "    weighted avg       0.82      0.79      0.79       380\n",
      "\n"
     ]
    },
    {
     "name": "stderr",
     "output_type": "stream",
     "text": [
      "Training Epochs:  30%|██▉       | 592/2000 [00:51<01:40, 14.01it/s]"
     ]
    },
    {
     "name": "stdout",
     "output_type": "stream",
     "text": [
      "Epoch 590/2000, Loss: 0.0821\n",
      "Test Accuracy at Epoch 590: 78.16%\n",
      "Test F1-score at Epoch 590: 0.8074\n",
      "Classification Report at Epoch 590:\n",
      "                  precision    recall  f1-score   support\n",
      "\n",
      "    infringement       0.91      0.63      0.75       194\n",
      "non_infringement       0.71      0.94      0.81       186\n",
      "\n",
      "        accuracy                           0.78       380\n",
      "       macro avg       0.81      0.78      0.78       380\n",
      "    weighted avg       0.81      0.78      0.78       380\n",
      "\n"
     ]
    },
    {
     "name": "stderr",
     "output_type": "stream",
     "text": [
      "Training Epochs:  30%|███       | 602/2000 [00:52<01:37, 14.28it/s]"
     ]
    },
    {
     "name": "stdout",
     "output_type": "stream",
     "text": [
      "Epoch 600/2000, Loss: 0.0774\n",
      "Test Accuracy at Epoch 600: 79.21%\n",
      "Test F1-score at Epoch 600: 0.8150\n",
      "Classification Report at Epoch 600:\n",
      "                  precision    recall  f1-score   support\n",
      "\n",
      "    infringement       0.91      0.65      0.76       194\n",
      "non_infringement       0.72      0.94      0.81       186\n",
      "\n",
      "        accuracy                           0.79       380\n",
      "       macro avg       0.82      0.80      0.79       380\n",
      "    weighted avg       0.82      0.79      0.79       380\n",
      "\n"
     ]
    },
    {
     "name": "stderr",
     "output_type": "stream",
     "text": [
      "Training Epochs:  31%|███       | 611/2000 [00:53<01:52, 12.30it/s]"
     ]
    },
    {
     "name": "stdout",
     "output_type": "stream",
     "text": [
      "Epoch 610/2000, Loss: 0.0776\n",
      "Test Accuracy at Epoch 610: 78.16%\n",
      "Test F1-score at Epoch 610: 0.8074\n",
      "Classification Report at Epoch 610:\n",
      "                  precision    recall  f1-score   support\n",
      "\n",
      "    infringement       0.91      0.63      0.75       194\n",
      "non_infringement       0.71      0.94      0.81       186\n",
      "\n",
      "        accuracy                           0.78       380\n",
      "       macro avg       0.81      0.78      0.78       380\n",
      "    weighted avg       0.81      0.78      0.78       380\n",
      "\n"
     ]
    },
    {
     "name": "stderr",
     "output_type": "stream",
     "text": [
      "Training Epochs:  31%|███       | 621/2000 [00:54<02:40,  8.59it/s]"
     ]
    },
    {
     "name": "stdout",
     "output_type": "stream",
     "text": [
      "Epoch 620/2000, Loss: 0.0794\n",
      "Test Accuracy at Epoch 620: 79.21%\n",
      "Test F1-score at Epoch 620: 0.8141\n",
      "Classification Report at Epoch 620:\n",
      "                  precision    recall  f1-score   support\n",
      "\n",
      "    infringement       0.91      0.66      0.76       194\n",
      "non_infringement       0.72      0.93      0.81       186\n",
      "\n",
      "        accuracy                           0.79       380\n",
      "       macro avg       0.82      0.79      0.79       380\n",
      "    weighted avg       0.82      0.79      0.79       380\n",
      "\n"
     ]
    },
    {
     "name": "stderr",
     "output_type": "stream",
     "text": [
      "Training Epochs:  32%|███▏      | 631/2000 [00:55<02:22,  9.63it/s]"
     ]
    },
    {
     "name": "stdout",
     "output_type": "stream",
     "text": [
      "Epoch 630/2000, Loss: 0.0776\n",
      "Test Accuracy at Epoch 630: 78.95%\n",
      "Test F1-score at Epoch 630: 0.8131\n",
      "Classification Report at Epoch 630:\n",
      "                  precision    recall  f1-score   support\n",
      "\n",
      "    infringement       0.91      0.65      0.76       194\n",
      "non_infringement       0.72      0.94      0.81       186\n",
      "\n",
      "        accuracy                           0.79       380\n",
      "       macro avg       0.82      0.79      0.79       380\n",
      "    weighted avg       0.82      0.79      0.79       380\n",
      "\n"
     ]
    },
    {
     "name": "stderr",
     "output_type": "stream",
     "text": [
      "Training Epochs:  32%|███▏      | 641/2000 [00:56<01:42, 13.31it/s]"
     ]
    },
    {
     "name": "stdout",
     "output_type": "stream",
     "text": [
      "Epoch 640/2000, Loss: 0.0768\n",
      "Test Accuracy at Epoch 640: 79.21%\n",
      "Test F1-score at Epoch 640: 0.8150\n",
      "Classification Report at Epoch 640:\n",
      "                  precision    recall  f1-score   support\n",
      "\n",
      "    infringement       0.91      0.65      0.76       194\n",
      "non_infringement       0.72      0.94      0.81       186\n",
      "\n",
      "        accuracy                           0.79       380\n",
      "       macro avg       0.82      0.80      0.79       380\n",
      "    weighted avg       0.82      0.79      0.79       380\n",
      "\n"
     ]
    },
    {
     "name": "stderr",
     "output_type": "stream",
     "text": [
      "Training Epochs:  33%|███▎      | 653/2000 [00:57<01:39, 13.60it/s]"
     ]
    },
    {
     "name": "stdout",
     "output_type": "stream",
     "text": [
      "Epoch 650/2000, Loss: 0.0776\n",
      "Test Accuracy at Epoch 650: 77.89%\n",
      "Test F1-score at Epoch 650: 0.8056\n",
      "Classification Report at Epoch 650:\n",
      "                  precision    recall  f1-score   support\n",
      "\n",
      "    infringement       0.91      0.63      0.74       194\n",
      "non_infringement       0.71      0.94      0.81       186\n",
      "\n",
      "        accuracy                           0.78       380\n",
      "       macro avg       0.81      0.78      0.77       380\n",
      "    weighted avg       0.81      0.78      0.77       380\n",
      "\n"
     ]
    },
    {
     "name": "stderr",
     "output_type": "stream",
     "text": [
      "Training Epochs:  33%|███▎      | 662/2000 [00:57<01:32, 14.47it/s]"
     ]
    },
    {
     "name": "stdout",
     "output_type": "stream",
     "text": [
      "Epoch 660/2000, Loss: 0.0773\n",
      "Test Accuracy at Epoch 660: 77.89%\n",
      "Test F1-score at Epoch 660: 0.8056\n",
      "Classification Report at Epoch 660:\n",
      "                  precision    recall  f1-score   support\n",
      "\n",
      "    infringement       0.91      0.63      0.74       194\n",
      "non_infringement       0.71      0.94      0.81       186\n",
      "\n",
      "        accuracy                           0.78       380\n",
      "       macro avg       0.81      0.78      0.77       380\n",
      "    weighted avg       0.81      0.78      0.77       380\n",
      "\n"
     ]
    },
    {
     "name": "stderr",
     "output_type": "stream",
     "text": [
      "Training Epochs:  34%|███▎      | 673/2000 [00:58<01:17, 17.13it/s]"
     ]
    },
    {
     "name": "stdout",
     "output_type": "stream",
     "text": [
      "Epoch 670/2000, Loss: 0.0806\n",
      "Test Accuracy at Epoch 670: 77.89%\n",
      "Test F1-score at Epoch 670: 0.8056\n",
      "Classification Report at Epoch 670:\n",
      "                  precision    recall  f1-score   support\n",
      "\n",
      "    infringement       0.91      0.63      0.74       194\n",
      "non_infringement       0.71      0.94      0.81       186\n",
      "\n",
      "        accuracy                           0.78       380\n",
      "       macro avg       0.81      0.78      0.77       380\n",
      "    weighted avg       0.81      0.78      0.77       380\n",
      "\n"
     ]
    },
    {
     "name": "stderr",
     "output_type": "stream",
     "text": [
      "Training Epochs:  34%|███▍      | 682/2000 [00:58<01:21, 16.11it/s]"
     ]
    },
    {
     "name": "stdout",
     "output_type": "stream",
     "text": [
      "Epoch 680/2000, Loss: 0.0769\n",
      "Test Accuracy at Epoch 680: 79.21%\n",
      "Test F1-score at Epoch 680: 0.8141\n",
      "Classification Report at Epoch 680:\n",
      "                  precision    recall  f1-score   support\n",
      "\n",
      "    infringement       0.91      0.66      0.76       194\n",
      "non_infringement       0.72      0.93      0.81       186\n",
      "\n",
      "        accuracy                           0.79       380\n",
      "       macro avg       0.82      0.79      0.79       380\n",
      "    weighted avg       0.82      0.79      0.79       380\n",
      "\n"
     ]
    },
    {
     "name": "stderr",
     "output_type": "stream",
     "text": [
      "Training Epochs:  34%|███▍      | 689/2000 [00:59<01:40, 13.06it/s]"
     ]
    },
    {
     "name": "stdout",
     "output_type": "stream",
     "text": [
      "Epoch 690/2000, Loss: 0.0777\n",
      "Test Accuracy at Epoch 690: 77.89%\n",
      "Test F1-score at Epoch 690: 0.8056\n",
      "Classification Report at Epoch 690:\n",
      "                  precision    recall  f1-score   support\n",
      "\n",
      "    infringement       0.91      0.63      0.74       194\n",
      "non_infringement       0.71      0.94      0.81       186\n",
      "\n",
      "        accuracy                           0.78       380\n",
      "       macro avg       0.81      0.78      0.77       380\n",
      "    weighted avg       0.81      0.78      0.77       380\n",
      "\n"
     ]
    },
    {
     "name": "stderr",
     "output_type": "stream",
     "text": [
      "Training Epochs:  35%|███▌      | 701/2000 [01:00<01:19, 16.30it/s]"
     ]
    },
    {
     "name": "stdout",
     "output_type": "stream",
     "text": [
      "Epoch 700/2000, Loss: 0.0780\n",
      "Test Accuracy at Epoch 700: 79.21%\n",
      "Test F1-score at Epoch 700: 0.8141\n",
      "Classification Report at Epoch 700:\n",
      "                  precision    recall  f1-score   support\n",
      "\n",
      "    infringement       0.91      0.66      0.76       194\n",
      "non_infringement       0.72      0.93      0.81       186\n",
      "\n",
      "        accuracy                           0.79       380\n",
      "       macro avg       0.82      0.79      0.79       380\n",
      "    weighted avg       0.82      0.79      0.79       380\n",
      "\n"
     ]
    },
    {
     "name": "stderr",
     "output_type": "stream",
     "text": [
      "Training Epochs:  36%|███▌      | 710/2000 [01:01<01:41, 12.67it/s]"
     ]
    },
    {
     "name": "stdout",
     "output_type": "stream",
     "text": [
      "Epoch 710/2000, Loss: 0.0768\n",
      "Test Accuracy at Epoch 710: 77.89%\n",
      "Test F1-score at Epoch 710: 0.8056\n",
      "Classification Report at Epoch 710:\n",
      "                  precision    recall  f1-score   support\n",
      "\n",
      "    infringement       0.91      0.63      0.74       194\n",
      "non_infringement       0.71      0.94      0.81       186\n",
      "\n",
      "        accuracy                           0.78       380\n",
      "       macro avg       0.81      0.78      0.77       380\n",
      "    weighted avg       0.81      0.78      0.77       380\n",
      "\n"
     ]
    },
    {
     "name": "stderr",
     "output_type": "stream",
     "text": [
      "Training Epochs:  36%|███▌      | 722/2000 [01:02<01:43, 12.29it/s]"
     ]
    },
    {
     "name": "stdout",
     "output_type": "stream",
     "text": [
      "Epoch 720/2000, Loss: 0.0761\n",
      "Test Accuracy at Epoch 720: 78.68%\n",
      "Test F1-score at Epoch 720: 0.8112\n",
      "Classification Report at Epoch 720:\n",
      "                  precision    recall  f1-score   support\n",
      "\n",
      "    infringement       0.91      0.64      0.76       194\n",
      "non_infringement       0.72      0.94      0.81       186\n",
      "\n",
      "        accuracy                           0.79       380\n",
      "       macro avg       0.81      0.79      0.78       380\n",
      "    weighted avg       0.82      0.79      0.78       380\n",
      "\n"
     ]
    },
    {
     "name": "stderr",
     "output_type": "stream",
     "text": [
      "Training Epochs:  36%|███▋      | 730/2000 [01:02<01:47, 11.86it/s]"
     ]
    },
    {
     "name": "stdout",
     "output_type": "stream",
     "text": [
      "Epoch 730/2000, Loss: 0.0768\n",
      "Test Accuracy at Epoch 730: 78.95%\n",
      "Test F1-score at Epoch 730: 0.8122\n",
      "Classification Report at Epoch 730:\n",
      "                  precision    recall  f1-score   support\n",
      "\n",
      "    infringement       0.91      0.65      0.76       194\n",
      "non_infringement       0.72      0.93      0.81       186\n",
      "\n",
      "        accuracy                           0.79       380\n",
      "       macro avg       0.81      0.79      0.79       380\n",
      "    weighted avg       0.82      0.79      0.79       380\n",
      "\n"
     ]
    },
    {
     "name": "stderr",
     "output_type": "stream",
     "text": [
      "Training Epochs:  37%|███▋      | 740/2000 [01:03<01:45, 11.91it/s]"
     ]
    },
    {
     "name": "stdout",
     "output_type": "stream",
     "text": [
      "Epoch 740/2000, Loss: 0.0777\n",
      "Test Accuracy at Epoch 740: 78.95%\n",
      "Test F1-score at Epoch 740: 0.8122\n",
      "Classification Report at Epoch 740:\n",
      "                  precision    recall  f1-score   support\n",
      "\n",
      "    infringement       0.91      0.65      0.76       194\n",
      "non_infringement       0.72      0.93      0.81       186\n",
      "\n",
      "        accuracy                           0.79       380\n",
      "       macro avg       0.81      0.79      0.79       380\n",
      "    weighted avg       0.82      0.79      0.79       380\n",
      "\n"
     ]
    },
    {
     "name": "stderr",
     "output_type": "stream",
     "text": [
      "Training Epochs:  38%|███▊      | 750/2000 [01:04<01:31, 13.67it/s]"
     ]
    },
    {
     "name": "stdout",
     "output_type": "stream",
     "text": [
      "Epoch 750/2000, Loss: 0.0755\n",
      "Test Accuracy at Epoch 750: 77.89%\n",
      "Test F1-score at Epoch 750: 0.8056\n",
      "Classification Report at Epoch 750:\n",
      "                  precision    recall  f1-score   support\n",
      "\n",
      "    infringement       0.91      0.63      0.74       194\n",
      "non_infringement       0.71      0.94      0.81       186\n",
      "\n",
      "        accuracy                           0.78       380\n",
      "       macro avg       0.81      0.78      0.77       380\n",
      "    weighted avg       0.81      0.78      0.77       380\n",
      "\n"
     ]
    },
    {
     "name": "stderr",
     "output_type": "stream",
     "text": [
      "Training Epochs:  38%|███▊      | 763/2000 [01:06<01:58, 10.40it/s]"
     ]
    },
    {
     "name": "stdout",
     "output_type": "stream",
     "text": [
      "Epoch 760/2000, Loss: 0.0820\n",
      "Test Accuracy at Epoch 760: 77.89%\n",
      "Test F1-score at Epoch 760: 0.8056\n",
      "Classification Report at Epoch 760:\n",
      "                  precision    recall  f1-score   support\n",
      "\n",
      "    infringement       0.91      0.63      0.74       194\n",
      "non_infringement       0.71      0.94      0.81       186\n",
      "\n",
      "        accuracy                           0.78       380\n",
      "       macro avg       0.81      0.78      0.77       380\n",
      "    weighted avg       0.81      0.78      0.77       380\n",
      "\n"
     ]
    },
    {
     "name": "stderr",
     "output_type": "stream",
     "text": [
      "Training Epochs:  39%|███▊      | 771/2000 [01:07<01:55, 10.62it/s]"
     ]
    },
    {
     "name": "stdout",
     "output_type": "stream",
     "text": [
      "Epoch 770/2000, Loss: 0.0802\n",
      "Test Accuracy at Epoch 770: 78.68%\n",
      "Test F1-score at Epoch 770: 0.8103\n",
      "Classification Report at Epoch 770:\n",
      "                  precision    recall  f1-score   support\n",
      "\n",
      "    infringement       0.91      0.65      0.76       194\n",
      "non_infringement       0.72      0.93      0.81       186\n",
      "\n",
      "        accuracy                           0.79       380\n",
      "       macro avg       0.81      0.79      0.78       380\n",
      "    weighted avg       0.81      0.79      0.78       380\n",
      "\n"
     ]
    },
    {
     "name": "stderr",
     "output_type": "stream",
     "text": [
      "Training Epochs:  39%|███▉      | 781/2000 [01:07<01:24, 14.39it/s]"
     ]
    },
    {
     "name": "stdout",
     "output_type": "stream",
     "text": [
      "Epoch 780/2000, Loss: 0.0754\n",
      "Test Accuracy at Epoch 780: 78.68%\n",
      "Test F1-score at Epoch 780: 0.8112\n",
      "Classification Report at Epoch 780:\n",
      "                  precision    recall  f1-score   support\n",
      "\n",
      "    infringement       0.91      0.64      0.76       194\n",
      "non_infringement       0.72      0.94      0.81       186\n",
      "\n",
      "        accuracy                           0.79       380\n",
      "       macro avg       0.81      0.79      0.78       380\n",
      "    weighted avg       0.82      0.79      0.78       380\n",
      "\n"
     ]
    },
    {
     "name": "stderr",
     "output_type": "stream",
     "text": [
      "Training Epochs:  40%|███▉      | 793/2000 [01:08<01:07, 17.90it/s]"
     ]
    },
    {
     "name": "stdout",
     "output_type": "stream",
     "text": [
      "Epoch 790/2000, Loss: 0.0762\n",
      "Test Accuracy at Epoch 790: 77.89%\n",
      "Test F1-score at Epoch 790: 0.8056\n",
      "Classification Report at Epoch 790:\n",
      "                  precision    recall  f1-score   support\n",
      "\n",
      "    infringement       0.91      0.63      0.74       194\n",
      "non_infringement       0.71      0.94      0.81       186\n",
      "\n",
      "        accuracy                           0.78       380\n",
      "       macro avg       0.81      0.78      0.77       380\n",
      "    weighted avg       0.81      0.78      0.77       380\n",
      "\n"
     ]
    },
    {
     "name": "stderr",
     "output_type": "stream",
     "text": [
      "Training Epochs:  40%|████      | 801/2000 [01:08<01:00, 19.68it/s]"
     ]
    },
    {
     "name": "stdout",
     "output_type": "stream",
     "text": [
      "Epoch 800/2000, Loss: 0.0757\n",
      "Test Accuracy at Epoch 800: 78.16%\n",
      "Test F1-score at Epoch 800: 0.8074\n",
      "Classification Report at Epoch 800:\n",
      "                  precision    recall  f1-score   support\n",
      "\n",
      "    infringement       0.91      0.63      0.75       194\n",
      "non_infringement       0.71      0.94      0.81       186\n",
      "\n",
      "        accuracy                           0.78       380\n",
      "       macro avg       0.81      0.78      0.78       380\n",
      "    weighted avg       0.81      0.78      0.78       380\n",
      "\n"
     ]
    },
    {
     "name": "stderr",
     "output_type": "stream",
     "text": [
      "Training Epochs:  40%|████      | 810/2000 [01:09<01:27, 13.68it/s]"
     ]
    },
    {
     "name": "stdout",
     "output_type": "stream",
     "text": [
      "Epoch 810/2000, Loss: 0.0753\n",
      "Test Accuracy at Epoch 810: 77.89%\n",
      "Test F1-score at Epoch 810: 0.8056\n",
      "Classification Report at Epoch 810:\n",
      "                  precision    recall  f1-score   support\n",
      "\n",
      "    infringement       0.91      0.63      0.74       194\n",
      "non_infringement       0.71      0.94      0.81       186\n",
      "\n",
      "        accuracy                           0.78       380\n",
      "       macro avg       0.81      0.78      0.77       380\n",
      "    weighted avg       0.81      0.78      0.77       380\n",
      "\n"
     ]
    },
    {
     "name": "stderr",
     "output_type": "stream",
     "text": [
      "Training Epochs:  41%|████      | 822/2000 [01:10<01:26, 13.64it/s]"
     ]
    },
    {
     "name": "stdout",
     "output_type": "stream",
     "text": [
      "Epoch 820/2000, Loss: 0.0798\n",
      "Test Accuracy at Epoch 820: 77.63%\n",
      "Test F1-score at Epoch 820: 0.8037\n",
      "Classification Report at Epoch 820:\n",
      "                  precision    recall  f1-score   support\n",
      "\n",
      "    infringement       0.91      0.62      0.74       194\n",
      "non_infringement       0.70      0.94      0.80       186\n",
      "\n",
      "        accuracy                           0.78       380\n",
      "       macro avg       0.81      0.78      0.77       380\n",
      "    weighted avg       0.81      0.78      0.77       380\n",
      "\n"
     ]
    },
    {
     "name": "stderr",
     "output_type": "stream",
     "text": [
      "Training Epochs:  42%|████▏     | 832/2000 [01:12<02:49,  6.88it/s]"
     ]
    },
    {
     "name": "stdout",
     "output_type": "stream",
     "text": [
      "Epoch 830/2000, Loss: 0.0762\n",
      "Test Accuracy at Epoch 830: 78.42%\n",
      "Test F1-score at Epoch 830: 0.8075\n",
      "Classification Report at Epoch 830:\n",
      "                  precision    recall  f1-score   support\n",
      "\n",
      "    infringement       0.90      0.65      0.75       194\n",
      "non_infringement       0.72      0.92      0.81       186\n",
      "\n",
      "        accuracy                           0.78       380\n",
      "       macro avg       0.81      0.79      0.78       380\n",
      "    weighted avg       0.81      0.78      0.78       380\n",
      "\n"
     ]
    },
    {
     "name": "stderr",
     "output_type": "stream",
     "text": [
      "Training Epochs:  42%|████▏     | 840/2000 [01:13<04:39,  4.14it/s]"
     ]
    },
    {
     "name": "stdout",
     "output_type": "stream",
     "text": [
      "Epoch 840/2000, Loss: 0.0770\n",
      "Test Accuracy at Epoch 840: 77.89%\n",
      "Test F1-score at Epoch 840: 0.8056\n",
      "Classification Report at Epoch 840:\n",
      "                  precision    recall  f1-score   support\n",
      "\n",
      "    infringement       0.91      0.63      0.74       194\n",
      "non_infringement       0.71      0.94      0.81       186\n",
      "\n",
      "        accuracy                           0.78       380\n",
      "       macro avg       0.81      0.78      0.77       380\n",
      "    weighted avg       0.81      0.78      0.77       380\n",
      "\n"
     ]
    },
    {
     "name": "stderr",
     "output_type": "stream",
     "text": [
      "Training Epochs:  42%|████▎     | 850/2000 [01:14<01:47, 10.69it/s]"
     ]
    },
    {
     "name": "stdout",
     "output_type": "stream",
     "text": [
      "Epoch 850/2000, Loss: 0.0779\n",
      "Test Accuracy at Epoch 850: 78.42%\n",
      "Test F1-score at Epoch 850: 0.8075\n",
      "Classification Report at Epoch 850:\n",
      "                  precision    recall  f1-score   support\n",
      "\n",
      "    infringement       0.90      0.65      0.75       194\n",
      "non_infringement       0.72      0.92      0.81       186\n",
      "\n",
      "        accuracy                           0.78       380\n",
      "       macro avg       0.81      0.79      0.78       380\n",
      "    weighted avg       0.81      0.78      0.78       380\n",
      "\n"
     ]
    },
    {
     "name": "stderr",
     "output_type": "stream",
     "text": [
      "Training Epochs:  43%|████▎     | 860/2000 [01:15<01:55,  9.84it/s]"
     ]
    },
    {
     "name": "stdout",
     "output_type": "stream",
     "text": [
      "Epoch 860/2000, Loss: 0.0757\n",
      "Test Accuracy at Epoch 860: 77.89%\n",
      "Test F1-score at Epoch 860: 0.8056\n",
      "Classification Report at Epoch 860:\n",
      "                  precision    recall  f1-score   support\n",
      "\n",
      "    infringement       0.91      0.63      0.74       194\n",
      "non_infringement       0.71      0.94      0.81       186\n",
      "\n",
      "        accuracy                           0.78       380\n",
      "       macro avg       0.81      0.78      0.77       380\n",
      "    weighted avg       0.81      0.78      0.77       380\n",
      "\n"
     ]
    },
    {
     "name": "stderr",
     "output_type": "stream",
     "text": [
      "Training Epochs:  44%|████▎     | 870/2000 [01:16<01:28, 12.78it/s]"
     ]
    },
    {
     "name": "stdout",
     "output_type": "stream",
     "text": [
      "Epoch 870/2000, Loss: 0.0751\n",
      "Test Accuracy at Epoch 870: 78.16%\n",
      "Test F1-score at Epoch 870: 0.8074\n",
      "Classification Report at Epoch 870:\n",
      "                  precision    recall  f1-score   support\n",
      "\n",
      "    infringement       0.91      0.63      0.75       194\n",
      "non_infringement       0.71      0.94      0.81       186\n",
      "\n",
      "        accuracy                           0.78       380\n",
      "       macro avg       0.81      0.78      0.78       380\n",
      "    weighted avg       0.81      0.78      0.78       380\n",
      "\n"
     ]
    },
    {
     "name": "stderr",
     "output_type": "stream",
     "text": [
      "Training Epochs:  44%|████▍     | 880/2000 [01:17<01:28, 12.70it/s]"
     ]
    },
    {
     "name": "stdout",
     "output_type": "stream",
     "text": [
      "Epoch 880/2000, Loss: 0.0753\n",
      "Test Accuracy at Epoch 880: 77.89%\n",
      "Test F1-score at Epoch 880: 0.8056\n",
      "Classification Report at Epoch 880:\n",
      "                  precision    recall  f1-score   support\n",
      "\n",
      "    infringement       0.91      0.63      0.74       194\n",
      "non_infringement       0.71      0.94      0.81       186\n",
      "\n",
      "        accuracy                           0.78       380\n",
      "       macro avg       0.81      0.78      0.77       380\n",
      "    weighted avg       0.81      0.78      0.77       380\n",
      "\n"
     ]
    },
    {
     "name": "stderr",
     "output_type": "stream",
     "text": [
      "Training Epochs:  45%|████▍     | 892/2000 [01:18<01:43, 10.71it/s]"
     ]
    },
    {
     "name": "stdout",
     "output_type": "stream",
     "text": [
      "Epoch 890/2000, Loss: 0.0783\n",
      "Test Accuracy at Epoch 890: 77.63%\n",
      "Test F1-score at Epoch 890: 0.8037\n",
      "Classification Report at Epoch 890:\n",
      "                  precision    recall  f1-score   support\n",
      "\n",
      "    infringement       0.91      0.62      0.74       194\n",
      "non_infringement       0.70      0.94      0.80       186\n",
      "\n",
      "        accuracy                           0.78       380\n",
      "       macro avg       0.81      0.78      0.77       380\n",
      "    weighted avg       0.81      0.78      0.77       380\n",
      "\n"
     ]
    },
    {
     "name": "stderr",
     "output_type": "stream",
     "text": [
      "Training Epochs:  45%|████▌     | 902/2000 [01:19<01:02, 17.66it/s]"
     ]
    },
    {
     "name": "stdout",
     "output_type": "stream",
     "text": [
      "Epoch 900/2000, Loss: 0.0748\n",
      "Test Accuracy at Epoch 900: 78.16%\n",
      "Test F1-score at Epoch 900: 0.8074\n",
      "Classification Report at Epoch 900:\n",
      "                  precision    recall  f1-score   support\n",
      "\n",
      "    infringement       0.91      0.63      0.75       194\n",
      "non_infringement       0.71      0.94      0.81       186\n",
      "\n",
      "        accuracy                           0.78       380\n",
      "       macro avg       0.81      0.78      0.78       380\n",
      "    weighted avg       0.81      0.78      0.78       380\n",
      "\n"
     ]
    },
    {
     "name": "stderr",
     "output_type": "stream",
     "text": [
      "Training Epochs:  46%|████▌     | 912/2000 [01:19<01:03, 17.13it/s]"
     ]
    },
    {
     "name": "stdout",
     "output_type": "stream",
     "text": [
      "Epoch 910/2000, Loss: 0.0780\n",
      "Test Accuracy at Epoch 910: 78.42%\n",
      "Test F1-score at Epoch 910: 0.8075\n",
      "Classification Report at Epoch 910:\n",
      "                  precision    recall  f1-score   support\n",
      "\n",
      "    infringement       0.90      0.65      0.75       194\n",
      "non_infringement       0.72      0.92      0.81       186\n",
      "\n",
      "        accuracy                           0.78       380\n",
      "       macro avg       0.81      0.79      0.78       380\n",
      "    weighted avg       0.81      0.78      0.78       380\n",
      "\n"
     ]
    },
    {
     "name": "stderr",
     "output_type": "stream",
     "text": [
      "Training Epochs:  46%|████▌     | 922/2000 [01:20<00:59, 18.03it/s]"
     ]
    },
    {
     "name": "stdout",
     "output_type": "stream",
     "text": [
      "Epoch 920/2000, Loss: 0.0754\n",
      "Test Accuracy at Epoch 920: 77.63%\n",
      "Test F1-score at Epoch 920: 0.8037\n",
      "Classification Report at Epoch 920:\n",
      "                  precision    recall  f1-score   support\n",
      "\n",
      "    infringement       0.91      0.62      0.74       194\n",
      "non_infringement       0.70      0.94      0.80       186\n",
      "\n",
      "        accuracy                           0.78       380\n",
      "       macro avg       0.81      0.78      0.77       380\n",
      "    weighted avg       0.81      0.78      0.77       380\n",
      "\n"
     ]
    },
    {
     "name": "stderr",
     "output_type": "stream",
     "text": [
      "Training Epochs:  47%|████▋     | 932/2000 [01:21<01:16, 14.00it/s]"
     ]
    },
    {
     "name": "stdout",
     "output_type": "stream",
     "text": [
      "Epoch 930/2000, Loss: 0.0751\n",
      "Test Accuracy at Epoch 930: 77.89%\n",
      "Test F1-score at Epoch 930: 0.8037\n",
      "Classification Report at Epoch 930:\n",
      "                  precision    recall  f1-score   support\n",
      "\n",
      "    infringement       0.90      0.64      0.75       194\n",
      "non_infringement       0.71      0.92      0.80       186\n",
      "\n",
      "        accuracy                           0.78       380\n",
      "       macro avg       0.80      0.78      0.78       380\n",
      "    weighted avg       0.81      0.78      0.77       380\n",
      "\n"
     ]
    },
    {
     "name": "stderr",
     "output_type": "stream",
     "text": [
      "Training Epochs:  47%|████▋     | 940/2000 [01:21<01:06, 15.89it/s]"
     ]
    },
    {
     "name": "stdout",
     "output_type": "stream",
     "text": [
      "Epoch 940/2000, Loss: 0.0757\n",
      "Test Accuracy at Epoch 940: 77.63%\n",
      "Test F1-score at Epoch 940: 0.8037\n",
      "Classification Report at Epoch 940:\n",
      "                  precision    recall  f1-score   support\n",
      "\n",
      "    infringement       0.91      0.62      0.74       194\n",
      "non_infringement       0.70      0.94      0.80       186\n",
      "\n",
      "        accuracy                           0.78       380\n",
      "       macro avg       0.81      0.78      0.77       380\n",
      "    weighted avg       0.81      0.78      0.77       380\n",
      "\n"
     ]
    },
    {
     "name": "stderr",
     "output_type": "stream",
     "text": [
      "Training Epochs:  48%|████▊     | 951/2000 [01:22<01:18, 13.30it/s]"
     ]
    },
    {
     "name": "stdout",
     "output_type": "stream",
     "text": [
      "Epoch 950/2000, Loss: 0.0758\n",
      "Test Accuracy at Epoch 950: 77.89%\n",
      "Test F1-score at Epoch 950: 0.8037\n",
      "Classification Report at Epoch 950:\n",
      "                  precision    recall  f1-score   support\n",
      "\n",
      "    infringement       0.90      0.64      0.75       194\n",
      "non_infringement       0.71      0.92      0.80       186\n",
      "\n",
      "        accuracy                           0.78       380\n",
      "       macro avg       0.80      0.78      0.78       380\n",
      "    weighted avg       0.81      0.78      0.77       380\n",
      "\n"
     ]
    },
    {
     "name": "stderr",
     "output_type": "stream",
     "text": [
      "Training Epochs:  48%|████▊     | 962/2000 [01:23<01:37, 10.70it/s]"
     ]
    },
    {
     "name": "stdout",
     "output_type": "stream",
     "text": [
      "Epoch 960/2000, Loss: 0.0753\n",
      "Test Accuracy at Epoch 960: 77.63%\n",
      "Test F1-score at Epoch 960: 0.8037\n",
      "Classification Report at Epoch 960:\n",
      "                  precision    recall  f1-score   support\n",
      "\n",
      "    infringement       0.91      0.62      0.74       194\n",
      "non_infringement       0.70      0.94      0.80       186\n",
      "\n",
      "        accuracy                           0.78       380\n",
      "       macro avg       0.81      0.78      0.77       380\n",
      "    weighted avg       0.81      0.78      0.77       380\n",
      "\n"
     ]
    },
    {
     "name": "stderr",
     "output_type": "stream",
     "text": [
      "Training Epochs:  49%|████▊     | 971/2000 [01:24<01:25, 12.06it/s]"
     ]
    },
    {
     "name": "stdout",
     "output_type": "stream",
     "text": [
      "Epoch 970/2000, Loss: 0.0747\n",
      "Test Accuracy at Epoch 970: 77.89%\n",
      "Test F1-score at Epoch 970: 0.8047\n",
      "Classification Report at Epoch 970:\n",
      "                  precision    recall  f1-score   support\n",
      "\n",
      "    infringement       0.90      0.63      0.75       194\n",
      "non_infringement       0.71      0.93      0.80       186\n",
      "\n",
      "        accuracy                           0.78       380\n",
      "       macro avg       0.81      0.78      0.78       380\n",
      "    weighted avg       0.81      0.78      0.77       380\n",
      "\n"
     ]
    },
    {
     "name": "stderr",
     "output_type": "stream",
     "text": [
      "Training Epochs:  49%|████▉     | 981/2000 [01:25<01:30, 11.27it/s]"
     ]
    },
    {
     "name": "stdout",
     "output_type": "stream",
     "text": [
      "Epoch 980/2000, Loss: 0.0765\n",
      "Test Accuracy at Epoch 980: 78.42%\n",
      "Test F1-score at Epoch 980: 0.8075\n",
      "Classification Report at Epoch 980:\n",
      "                  precision    recall  f1-score   support\n",
      "\n",
      "    infringement       0.90      0.65      0.75       194\n",
      "non_infringement       0.72      0.92      0.81       186\n",
      "\n",
      "        accuracy                           0.78       380\n",
      "       macro avg       0.81      0.79      0.78       380\n",
      "    weighted avg       0.81      0.78      0.78       380\n",
      "\n"
     ]
    },
    {
     "name": "stderr",
     "output_type": "stream",
     "text": [
      "Training Epochs:  50%|████▉     | 992/2000 [01:26<01:05, 15.28it/s]"
     ]
    },
    {
     "name": "stdout",
     "output_type": "stream",
     "text": [
      "Epoch 990/2000, Loss: 0.0750\n",
      "Test Accuracy at Epoch 990: 77.89%\n",
      "Test F1-score at Epoch 990: 0.8037\n",
      "Classification Report at Epoch 990:\n",
      "                  precision    recall  f1-score   support\n",
      "\n",
      "    infringement       0.90      0.64      0.75       194\n",
      "non_infringement       0.71      0.92      0.80       186\n",
      "\n",
      "        accuracy                           0.78       380\n",
      "       macro avg       0.80      0.78      0.78       380\n",
      "    weighted avg       0.81      0.78      0.77       380\n",
      "\n"
     ]
    },
    {
     "name": "stderr",
     "output_type": "stream",
     "text": [
      "Training Epochs:  50%|█████     | 1002/2000 [01:26<00:54, 18.42it/s]"
     ]
    },
    {
     "name": "stdout",
     "output_type": "stream",
     "text": [
      "Epoch 1000/2000, Loss: 0.0750\n",
      "Test Accuracy at Epoch 1000: 77.63%\n",
      "Test F1-score at Epoch 1000: 0.8037\n",
      "Classification Report at Epoch 1000:\n",
      "                  precision    recall  f1-score   support\n",
      "\n",
      "    infringement       0.91      0.62      0.74       194\n",
      "non_infringement       0.70      0.94      0.80       186\n",
      "\n",
      "        accuracy                           0.78       380\n",
      "       macro avg       0.81      0.78      0.77       380\n",
      "    weighted avg       0.81      0.78      0.77       380\n",
      "\n"
     ]
    },
    {
     "name": "stderr",
     "output_type": "stream",
     "text": [
      "Training Epochs:  51%|█████     | 1014/2000 [01:27<00:46, 21.08it/s]"
     ]
    },
    {
     "name": "stdout",
     "output_type": "stream",
     "text": [
      "Epoch 1010/2000, Loss: 0.0768\n",
      "Test Accuracy at Epoch 1010: 77.63%\n",
      "Test F1-score at Epoch 1010: 0.8037\n",
      "Classification Report at Epoch 1010:\n",
      "                  precision    recall  f1-score   support\n",
      "\n",
      "    infringement       0.91      0.62      0.74       194\n",
      "non_infringement       0.70      0.94      0.80       186\n",
      "\n",
      "        accuracy                           0.78       380\n",
      "       macro avg       0.81      0.78      0.77       380\n",
      "    weighted avg       0.81      0.78      0.77       380\n",
      "\n"
     ]
    },
    {
     "name": "stderr",
     "output_type": "stream",
     "text": [
      "Training Epochs:  51%|█████     | 1023/2000 [01:27<00:45, 21.42it/s]"
     ]
    },
    {
     "name": "stdout",
     "output_type": "stream",
     "text": [
      "Epoch 1020/2000, Loss: 0.0772\n",
      "Test Accuracy at Epoch 1020: 77.89%\n",
      "Test F1-score at Epoch 1020: 0.8037\n",
      "Classification Report at Epoch 1020:\n",
      "                  precision    recall  f1-score   support\n",
      "\n",
      "    infringement       0.90      0.64      0.75       194\n",
      "non_infringement       0.71      0.92      0.80       186\n",
      "\n",
      "        accuracy                           0.78       380\n",
      "       macro avg       0.80      0.78      0.78       380\n",
      "    weighted avg       0.81      0.78      0.77       380\n",
      "\n"
     ]
    },
    {
     "name": "stderr",
     "output_type": "stream",
     "text": [
      "Training Epochs:  52%|█████▏    | 1032/2000 [01:27<00:48, 20.01it/s]"
     ]
    },
    {
     "name": "stdout",
     "output_type": "stream",
     "text": [
      "Epoch 1030/2000, Loss: 0.0747\n",
      "Test Accuracy at Epoch 1030: 77.89%\n",
      "Test F1-score at Epoch 1030: 0.8037\n",
      "Classification Report at Epoch 1030:\n",
      "                  precision    recall  f1-score   support\n",
      "\n",
      "    infringement       0.90      0.64      0.75       194\n",
      "non_infringement       0.71      0.92      0.80       186\n",
      "\n",
      "        accuracy                           0.78       380\n",
      "       macro avg       0.80      0.78      0.78       380\n",
      "    weighted avg       0.81      0.78      0.77       380\n",
      "\n"
     ]
    },
    {
     "name": "stderr",
     "output_type": "stream",
     "text": [
      "Training Epochs:  52%|█████▏    | 1046/2000 [01:28<00:34, 27.45it/s]"
     ]
    },
    {
     "name": "stdout",
     "output_type": "stream",
     "text": [
      "Epoch 1040/2000, Loss: 0.0752\n",
      "Test Accuracy at Epoch 1040: 77.63%\n",
      "Test F1-score at Epoch 1040: 0.8037\n",
      "Classification Report at Epoch 1040:\n",
      "                  precision    recall  f1-score   support\n",
      "\n",
      "    infringement       0.91      0.62      0.74       194\n",
      "non_infringement       0.70      0.94      0.80       186\n",
      "\n",
      "        accuracy                           0.78       380\n",
      "       macro avg       0.81      0.78      0.77       380\n",
      "    weighted avg       0.81      0.78      0.77       380\n",
      "\n"
     ]
    },
    {
     "name": "stderr",
     "output_type": "stream",
     "text": [
      "Training Epochs:  53%|█████▎    | 1053/2000 [01:28<00:33, 28.62it/s]"
     ]
    },
    {
     "name": "stdout",
     "output_type": "stream",
     "text": [
      "Epoch 1050/2000, Loss: 0.0749\n",
      "Test Accuracy at Epoch 1050: 77.89%\n",
      "Test F1-score at Epoch 1050: 0.8037\n",
      "Classification Report at Epoch 1050:\n",
      "                  precision    recall  f1-score   support\n",
      "\n",
      "    infringement       0.90      0.64      0.75       194\n",
      "non_infringement       0.71      0.92      0.80       186\n",
      "\n",
      "        accuracy                           0.78       380\n",
      "       macro avg       0.80      0.78      0.78       380\n",
      "    weighted avg       0.81      0.78      0.77       380\n",
      "\n"
     ]
    },
    {
     "name": "stderr",
     "output_type": "stream",
     "text": [
      "Training Epochs:  53%|█████▎    | 1067/2000 [01:29<00:28, 32.30it/s]"
     ]
    },
    {
     "name": "stdout",
     "output_type": "stream",
     "text": [
      "Epoch 1060/2000, Loss: 0.0748\n",
      "Test Accuracy at Epoch 1060: 77.37%\n",
      "Test F1-score at Epoch 1060: 0.8009\n",
      "Classification Report at Epoch 1060:\n",
      "                  precision    recall  f1-score   support\n",
      "\n",
      "    infringement       0.90      0.62      0.74       194\n",
      "non_infringement       0.70      0.93      0.80       186\n",
      "\n",
      "        accuracy                           0.77       380\n",
      "       macro avg       0.80      0.78      0.77       380\n",
      "    weighted avg       0.81      0.77      0.77       380\n",
      "\n"
     ]
    },
    {
     "name": "stderr",
     "output_type": "stream",
     "text": [
      "Training Epochs:  54%|█████▍    | 1075/2000 [01:29<00:29, 30.90it/s]"
     ]
    },
    {
     "name": "stdout",
     "output_type": "stream",
     "text": [
      "Epoch 1070/2000, Loss: 0.0752\n",
      "Test Accuracy at Epoch 1070: 77.63%\n",
      "Test F1-score at Epoch 1070: 0.8037\n",
      "Classification Report at Epoch 1070:\n",
      "                  precision    recall  f1-score   support\n",
      "\n",
      "    infringement       0.91      0.62      0.74       194\n",
      "non_infringement       0.70      0.94      0.80       186\n",
      "\n",
      "        accuracy                           0.78       380\n",
      "       macro avg       0.81      0.78      0.77       380\n",
      "    weighted avg       0.81      0.78      0.77       380\n",
      "\n"
     ]
    },
    {
     "name": "stderr",
     "output_type": "stream",
     "text": [
      "Training Epochs:  54%|█████▍    | 1083/2000 [01:29<00:35, 25.91it/s]"
     ]
    },
    {
     "name": "stdout",
     "output_type": "stream",
     "text": [
      "Epoch 1080/2000, Loss: 0.0767\n",
      "Test Accuracy at Epoch 1080: 77.63%\n",
      "Test F1-score at Epoch 1080: 0.8037\n",
      "Classification Report at Epoch 1080:\n",
      "                  precision    recall  f1-score   support\n",
      "\n",
      "    infringement       0.91      0.62      0.74       194\n",
      "non_infringement       0.70      0.94      0.80       186\n",
      "\n",
      "        accuracy                           0.78       380\n",
      "       macro avg       0.81      0.78      0.77       380\n",
      "    weighted avg       0.81      0.78      0.77       380\n",
      "\n"
     ]
    },
    {
     "name": "stderr",
     "output_type": "stream",
     "text": [
      "Training Epochs:  55%|█████▍    | 1092/2000 [01:30<00:33, 27.20it/s]"
     ]
    },
    {
     "name": "stdout",
     "output_type": "stream",
     "text": [
      "Epoch 1090/2000, Loss: 0.0777\n",
      "Test Accuracy at Epoch 1090: 78.42%\n",
      "Test F1-score at Epoch 1090: 0.8075\n",
      "Classification Report at Epoch 1090:\n",
      "                  precision    recall  f1-score   support\n",
      "\n",
      "    infringement       0.90      0.65      0.75       194\n",
      "non_infringement       0.72      0.92      0.81       186\n",
      "\n",
      "        accuracy                           0.78       380\n",
      "       macro avg       0.81      0.79      0.78       380\n",
      "    weighted avg       0.81      0.78      0.78       380\n",
      "\n"
     ]
    },
    {
     "name": "stderr",
     "output_type": "stream",
     "text": [
      "Training Epochs:  55%|█████▌    | 1102/2000 [01:30<00:31, 28.91it/s]"
     ]
    },
    {
     "name": "stdout",
     "output_type": "stream",
     "text": [
      "Epoch 1100/2000, Loss: 0.0775\n",
      "Test Accuracy at Epoch 1100: 77.63%\n",
      "Test F1-score at Epoch 1100: 0.8037\n",
      "Classification Report at Epoch 1100:\n",
      "                  precision    recall  f1-score   support\n",
      "\n",
      "    infringement       0.91      0.62      0.74       194\n",
      "non_infringement       0.70      0.94      0.80       186\n",
      "\n",
      "        accuracy                           0.78       380\n",
      "       macro avg       0.81      0.78      0.77       380\n",
      "    weighted avg       0.81      0.78      0.77       380\n",
      "\n"
     ]
    },
    {
     "name": "stderr",
     "output_type": "stream",
     "text": [
      "Training Epochs:  56%|█████▌    | 1112/2000 [01:30<00:31, 27.83it/s]"
     ]
    },
    {
     "name": "stdout",
     "output_type": "stream",
     "text": [
      "Epoch 1110/2000, Loss: 0.0766\n",
      "Test Accuracy at Epoch 1110: 77.89%\n",
      "Test F1-score at Epoch 1110: 0.8037\n",
      "Classification Report at Epoch 1110:\n",
      "                  precision    recall  f1-score   support\n",
      "\n",
      "    infringement       0.90      0.64      0.75       194\n",
      "non_infringement       0.71      0.92      0.80       186\n",
      "\n",
      "        accuracy                           0.78       380\n",
      "       macro avg       0.80      0.78      0.78       380\n",
      "    weighted avg       0.81      0.78      0.77       380\n",
      "\n"
     ]
    },
    {
     "name": "stderr",
     "output_type": "stream",
     "text": [
      "Training Epochs:  56%|█████▌    | 1122/2000 [01:31<00:34, 25.27it/s]"
     ]
    },
    {
     "name": "stdout",
     "output_type": "stream",
     "text": [
      "Epoch 1120/2000, Loss: 0.0762\n",
      "Test Accuracy at Epoch 1120: 77.63%\n",
      "Test F1-score at Epoch 1120: 0.8037\n",
      "Classification Report at Epoch 1120:\n",
      "                  precision    recall  f1-score   support\n",
      "\n",
      "    infringement       0.91      0.62      0.74       194\n",
      "non_infringement       0.70      0.94      0.80       186\n",
      "\n",
      "        accuracy                           0.78       380\n",
      "       macro avg       0.81      0.78      0.77       380\n",
      "    weighted avg       0.81      0.78      0.77       380\n",
      "\n"
     ]
    },
    {
     "name": "stderr",
     "output_type": "stream",
     "text": [
      "Training Epochs:  57%|█████▋    | 1134/2000 [01:31<00:33, 25.95it/s]"
     ]
    },
    {
     "name": "stdout",
     "output_type": "stream",
     "text": [
      "Epoch 1130/2000, Loss: 0.0759\n",
      "Test Accuracy at Epoch 1130: 77.89%\n",
      "Test F1-score at Epoch 1130: 0.8037\n",
      "Classification Report at Epoch 1130:\n",
      "                  precision    recall  f1-score   support\n",
      "\n",
      "    infringement       0.90      0.64      0.75       194\n",
      "non_infringement       0.71      0.92      0.80       186\n",
      "\n",
      "        accuracy                           0.78       380\n",
      "       macro avg       0.80      0.78      0.78       380\n",
      "    weighted avg       0.81      0.78      0.77       380\n",
      "\n"
     ]
    },
    {
     "name": "stderr",
     "output_type": "stream",
     "text": [
      "Training Epochs:  57%|█████▋    | 1140/2000 [01:31<00:39, 21.77it/s]"
     ]
    },
    {
     "name": "stdout",
     "output_type": "stream",
     "text": [
      "Epoch 1140/2000, Loss: 0.0753\n",
      "Test Accuracy at Epoch 1140: 77.63%\n",
      "Test F1-score at Epoch 1140: 0.8037\n",
      "Classification Report at Epoch 1140:\n",
      "                  precision    recall  f1-score   support\n",
      "\n",
      "    infringement       0.91      0.62      0.74       194\n",
      "non_infringement       0.70      0.94      0.80       186\n",
      "\n",
      "        accuracy                           0.78       380\n",
      "       macro avg       0.81      0.78      0.77       380\n",
      "    weighted avg       0.81      0.78      0.77       380\n",
      "\n"
     ]
    },
    {
     "name": "stderr",
     "output_type": "stream",
     "text": [
      "Training Epochs:  58%|█████▊    | 1152/2000 [01:32<00:39, 21.48it/s]"
     ]
    },
    {
     "name": "stdout",
     "output_type": "stream",
     "text": [
      "Epoch 1150/2000, Loss: 0.0745\n",
      "Test Accuracy at Epoch 1150: 77.37%\n",
      "Test F1-score at Epoch 1150: 0.8009\n",
      "Classification Report at Epoch 1150:\n",
      "                  precision    recall  f1-score   support\n",
      "\n",
      "    infringement       0.90      0.62      0.74       194\n",
      "non_infringement       0.70      0.93      0.80       186\n",
      "\n",
      "        accuracy                           0.77       380\n",
      "       macro avg       0.80      0.78      0.77       380\n",
      "    weighted avg       0.81      0.77      0.77       380\n",
      "\n"
     ]
    },
    {
     "name": "stderr",
     "output_type": "stream",
     "text": [
      "Training Epochs:  58%|█████▊    | 1162/2000 [01:33<00:40, 20.84it/s]"
     ]
    },
    {
     "name": "stdout",
     "output_type": "stream",
     "text": [
      "Epoch 1160/2000, Loss: 0.0747\n",
      "Test Accuracy at Epoch 1160: 77.63%\n",
      "Test F1-score at Epoch 1160: 0.8019\n",
      "Classification Report at Epoch 1160:\n",
      "                  precision    recall  f1-score   support\n",
      "\n",
      "    infringement       0.90      0.63      0.74       194\n",
      "non_infringement       0.71      0.92      0.80       186\n",
      "\n",
      "        accuracy                           0.78       380\n",
      "       macro avg       0.80      0.78      0.77       380\n",
      "    weighted avg       0.80      0.78      0.77       380\n",
      "\n"
     ]
    },
    {
     "name": "stderr",
     "output_type": "stream",
     "text": [
      "Training Epochs:  59%|█████▉    | 1175/2000 [01:33<00:33, 24.94it/s]"
     ]
    },
    {
     "name": "stdout",
     "output_type": "stream",
     "text": [
      "Epoch 1170/2000, Loss: 0.0763\n",
      "Test Accuracy at Epoch 1170: 77.63%\n",
      "Test F1-score at Epoch 1170: 0.8019\n",
      "Classification Report at Epoch 1170:\n",
      "                  precision    recall  f1-score   support\n",
      "\n",
      "    infringement       0.90      0.63      0.74       194\n",
      "non_infringement       0.71      0.92      0.80       186\n",
      "\n",
      "        accuracy                           0.78       380\n",
      "       macro avg       0.80      0.78      0.77       380\n",
      "    weighted avg       0.80      0.78      0.77       380\n",
      "\n"
     ]
    },
    {
     "name": "stderr",
     "output_type": "stream",
     "text": [
      "Training Epochs:  59%|█████▉    | 1180/2000 [01:33<00:28, 28.59it/s]"
     ]
    },
    {
     "name": "stdout",
     "output_type": "stream",
     "text": [
      "Epoch 1180/2000, Loss: 0.0749\n",
      "Test Accuracy at Epoch 1180: 77.63%\n",
      "Test F1-score at Epoch 1180: 0.8028\n",
      "Classification Report at Epoch 1180:\n",
      "                  precision    recall  f1-score   support\n",
      "\n",
      "    infringement       0.90      0.63      0.74       194\n",
      "non_infringement       0.71      0.93      0.80       186\n",
      "\n",
      "        accuracy                           0.78       380\n",
      "       macro avg       0.80      0.78      0.77       380\n",
      "    weighted avg       0.81      0.78      0.77       380\n",
      "\n"
     ]
    },
    {
     "name": "stderr",
     "output_type": "stream",
     "text": [
      "Training Epochs:  60%|█████▉    | 1195/2000 [01:34<00:33, 24.30it/s]"
     ]
    },
    {
     "name": "stdout",
     "output_type": "stream",
     "text": [
      "Epoch 1190/2000, Loss: 0.0756\n",
      "Test Accuracy at Epoch 1190: 77.37%\n",
      "Test F1-score at Epoch 1190: 0.8009\n",
      "Classification Report at Epoch 1190:\n",
      "                  precision    recall  f1-score   support\n",
      "\n",
      "    infringement       0.90      0.62      0.74       194\n",
      "non_infringement       0.70      0.93      0.80       186\n",
      "\n",
      "        accuracy                           0.77       380\n",
      "       macro avg       0.80      0.78      0.77       380\n",
      "    weighted avg       0.81      0.77      0.77       380\n",
      "\n"
     ]
    },
    {
     "name": "stderr",
     "output_type": "stream",
     "text": [
      "Training Epochs:  60%|██████    | 1202/2000 [01:34<00:32, 24.19it/s]"
     ]
    },
    {
     "name": "stdout",
     "output_type": "stream",
     "text": [
      "Epoch 1200/2000, Loss: 0.0745\n",
      "Test Accuracy at Epoch 1200: 77.63%\n",
      "Test F1-score at Epoch 1200: 0.8028\n",
      "Classification Report at Epoch 1200:\n",
      "                  precision    recall  f1-score   support\n",
      "\n",
      "    infringement       0.90      0.63      0.74       194\n",
      "non_infringement       0.71      0.93      0.80       186\n",
      "\n",
      "        accuracy                           0.78       380\n",
      "       macro avg       0.80      0.78      0.77       380\n",
      "    weighted avg       0.81      0.78      0.77       380\n",
      "\n"
     ]
    },
    {
     "name": "stderr",
     "output_type": "stream",
     "text": [
      "Training Epochs:  61%|██████    | 1213/2000 [01:35<00:32, 23.91it/s]"
     ]
    },
    {
     "name": "stdout",
     "output_type": "stream",
     "text": [
      "Epoch 1210/2000, Loss: 0.0744\n",
      "Test Accuracy at Epoch 1210: 77.63%\n",
      "Test F1-score at Epoch 1210: 0.8019\n",
      "Classification Report at Epoch 1210:\n",
      "                  precision    recall  f1-score   support\n",
      "\n",
      "    infringement       0.90      0.63      0.74       194\n",
      "non_infringement       0.71      0.92      0.80       186\n",
      "\n",
      "        accuracy                           0.78       380\n",
      "       macro avg       0.80      0.78      0.77       380\n",
      "    weighted avg       0.80      0.78      0.77       380\n",
      "\n"
     ]
    },
    {
     "name": "stderr",
     "output_type": "stream",
     "text": [
      "Training Epochs:  61%|██████    | 1222/2000 [01:35<00:37, 20.90it/s]"
     ]
    },
    {
     "name": "stdout",
     "output_type": "stream",
     "text": [
      "Epoch 1220/2000, Loss: 0.0744\n",
      "Test Accuracy at Epoch 1220: 77.37%\n",
      "Test F1-score at Epoch 1220: 0.8009\n",
      "Classification Report at Epoch 1220:\n",
      "                  precision    recall  f1-score   support\n",
      "\n",
      "    infringement       0.90      0.62      0.74       194\n",
      "non_infringement       0.70      0.93      0.80       186\n",
      "\n",
      "        accuracy                           0.77       380\n",
      "       macro avg       0.80      0.78      0.77       380\n",
      "    weighted avg       0.81      0.77      0.77       380\n",
      "\n"
     ]
    },
    {
     "name": "stderr",
     "output_type": "stream",
     "text": [
      "Training Epochs:  62%|██████▏   | 1235/2000 [01:36<00:30, 25.43it/s]"
     ]
    },
    {
     "name": "stdout",
     "output_type": "stream",
     "text": [
      "Epoch 1230/2000, Loss: 0.0746\n",
      "Test Accuracy at Epoch 1230: 77.37%\n",
      "Test F1-score at Epoch 1230: 0.8009\n",
      "Classification Report at Epoch 1230:\n",
      "                  precision    recall  f1-score   support\n",
      "\n",
      "    infringement       0.90      0.62      0.74       194\n",
      "non_infringement       0.70      0.93      0.80       186\n",
      "\n",
      "        accuracy                           0.77       380\n",
      "       macro avg       0.80      0.78      0.77       380\n",
      "    weighted avg       0.81      0.77      0.77       380\n",
      "\n"
     ]
    },
    {
     "name": "stderr",
     "output_type": "stream",
     "text": [
      "Training Epochs:  62%|██████▏   | 1245/2000 [01:36<00:27, 27.40it/s]"
     ]
    },
    {
     "name": "stdout",
     "output_type": "stream",
     "text": [
      "Epoch 1240/2000, Loss: 0.0790\n",
      "Test Accuracy at Epoch 1240: 77.89%\n",
      "Test F1-score at Epoch 1240: 0.8065\n",
      "Classification Report at Epoch 1240:\n",
      "                  precision    recall  f1-score   support\n",
      "\n",
      "    infringement       0.92      0.62      0.74       194\n",
      "non_infringement       0.71      0.94      0.81       186\n",
      "\n",
      "        accuracy                           0.78       380\n",
      "       macro avg       0.81      0.78      0.77       380\n",
      "    weighted avg       0.81      0.78      0.77       380\n",
      "\n"
     ]
    },
    {
     "name": "stderr",
     "output_type": "stream",
     "text": [
      "Training Epochs:  63%|██████▎   | 1256/2000 [01:36<00:26, 27.98it/s]"
     ]
    },
    {
     "name": "stdout",
     "output_type": "stream",
     "text": [
      "Epoch 1250/2000, Loss: 0.0766\n",
      "Test Accuracy at Epoch 1250: 78.42%\n",
      "Test F1-score at Epoch 1250: 0.8075\n",
      "Classification Report at Epoch 1250:\n",
      "                  precision    recall  f1-score   support\n",
      "\n",
      "    infringement       0.90      0.65      0.75       194\n",
      "non_infringement       0.72      0.92      0.81       186\n",
      "\n",
      "        accuracy                           0.78       380\n",
      "       macro avg       0.81      0.79      0.78       380\n",
      "    weighted avg       0.81      0.78      0.78       380\n",
      "\n"
     ]
    },
    {
     "name": "stderr",
     "output_type": "stream",
     "text": [
      "Training Epochs:  63%|██████▎   | 1268/2000 [01:37<00:22, 33.04it/s]"
     ]
    },
    {
     "name": "stdout",
     "output_type": "stream",
     "text": [
      "Epoch 1260/2000, Loss: 0.0768\n",
      "Test Accuracy at Epoch 1260: 77.89%\n",
      "Test F1-score at Epoch 1260: 0.8065\n",
      "Classification Report at Epoch 1260:\n",
      "                  precision    recall  f1-score   support\n",
      "\n",
      "    infringement       0.92      0.62      0.74       194\n",
      "non_infringement       0.71      0.94      0.81       186\n",
      "\n",
      "        accuracy                           0.78       380\n",
      "       macro avg       0.81      0.78      0.77       380\n",
      "    weighted avg       0.81      0.78      0.77       380\n",
      "\n"
     ]
    },
    {
     "name": "stderr",
     "output_type": "stream",
     "text": [
      "Training Epochs:  64%|██████▎   | 1272/2000 [01:37<00:25, 28.91it/s]"
     ]
    },
    {
     "name": "stdout",
     "output_type": "stream",
     "text": [
      "Epoch 1270/2000, Loss: 0.0760\n",
      "Test Accuracy at Epoch 1270: 77.63%\n",
      "Test F1-score at Epoch 1270: 0.8019\n",
      "Classification Report at Epoch 1270:\n",
      "                  precision    recall  f1-score   support\n",
      "\n",
      "    infringement       0.90      0.63      0.74       194\n",
      "non_infringement       0.71      0.92      0.80       186\n",
      "\n",
      "        accuracy                           0.78       380\n",
      "       macro avg       0.80      0.78      0.77       380\n",
      "    weighted avg       0.80      0.78      0.77       380\n",
      "\n"
     ]
    },
    {
     "name": "stderr",
     "output_type": "stream",
     "text": [
      "Training Epochs:  64%|██████▍   | 1280/2000 [01:37<00:22, 32.14it/s]"
     ]
    },
    {
     "name": "stdout",
     "output_type": "stream",
     "text": [
      "Epoch 1280/2000, Loss: 0.0752\n",
      "Test Accuracy at Epoch 1280: 77.63%\n",
      "Test F1-score at Epoch 1280: 0.8037\n",
      "Classification Report at Epoch 1280:\n",
      "                  precision    recall  f1-score   support\n",
      "\n",
      "    infringement       0.91      0.62      0.74       194\n",
      "non_infringement       0.70      0.94      0.80       186\n",
      "\n",
      "        accuracy                           0.78       380\n",
      "       macro avg       0.81      0.78      0.77       380\n",
      "    weighted avg       0.81      0.78      0.77       380\n",
      "\n"
     ]
    },
    {
     "name": "stderr",
     "output_type": "stream",
     "text": [
      "Training Epochs:  65%|██████▍   | 1292/2000 [01:38<00:24, 29.08it/s]"
     ]
    },
    {
     "name": "stdout",
     "output_type": "stream",
     "text": [
      "Epoch 1290/2000, Loss: 0.0749\n",
      "Test Accuracy at Epoch 1290: 77.63%\n",
      "Test F1-score at Epoch 1290: 0.8019\n",
      "Classification Report at Epoch 1290:\n",
      "                  precision    recall  f1-score   support\n",
      "\n",
      "    infringement       0.90      0.63      0.74       194\n",
      "non_infringement       0.71      0.92      0.80       186\n",
      "\n",
      "        accuracy                           0.78       380\n",
      "       macro avg       0.80      0.78      0.77       380\n",
      "    weighted avg       0.80      0.78      0.77       380\n",
      "\n"
     ]
    },
    {
     "name": "stderr",
     "output_type": "stream",
     "text": [
      "Training Epochs:  65%|██████▌   | 1302/2000 [01:38<00:25, 26.92it/s]"
     ]
    },
    {
     "name": "stdout",
     "output_type": "stream",
     "text": [
      "Epoch 1300/2000, Loss: 0.0747\n",
      "Test Accuracy at Epoch 1300: 77.63%\n",
      "Test F1-score at Epoch 1300: 0.8037\n",
      "Classification Report at Epoch 1300:\n",
      "                  precision    recall  f1-score   support\n",
      "\n",
      "    infringement       0.91      0.62      0.74       194\n",
      "non_infringement       0.70      0.94      0.80       186\n",
      "\n",
      "        accuracy                           0.78       380\n",
      "       macro avg       0.81      0.78      0.77       380\n",
      "    weighted avg       0.81      0.78      0.77       380\n",
      "\n"
     ]
    },
    {
     "name": "stderr",
     "output_type": "stream",
     "text": [
      "Training Epochs:  66%|██████▌   | 1311/2000 [01:38<00:26, 26.12it/s]"
     ]
    },
    {
     "name": "stdout",
     "output_type": "stream",
     "text": [
      "Epoch 1310/2000, Loss: 0.0757\n",
      "Test Accuracy at Epoch 1310: 77.63%\n",
      "Test F1-score at Epoch 1310: 0.8037\n",
      "Classification Report at Epoch 1310:\n",
      "                  precision    recall  f1-score   support\n",
      "\n",
      "    infringement       0.91      0.62      0.74       194\n",
      "non_infringement       0.70      0.94      0.80       186\n",
      "\n",
      "        accuracy                           0.78       380\n",
      "       macro avg       0.81      0.78      0.77       380\n",
      "    weighted avg       0.81      0.78      0.77       380\n",
      "\n"
     ]
    },
    {
     "name": "stderr",
     "output_type": "stream",
     "text": [
      "Training Epochs:  66%|██████▋   | 1325/2000 [01:39<00:20, 33.25it/s]"
     ]
    },
    {
     "name": "stdout",
     "output_type": "stream",
     "text": [
      "Epoch 1320/2000, Loss: 0.0751\n",
      "Test Accuracy at Epoch 1320: 77.63%\n",
      "Test F1-score at Epoch 1320: 0.8037\n",
      "Classification Report at Epoch 1320:\n",
      "                  precision    recall  f1-score   support\n",
      "\n",
      "    infringement       0.91      0.62      0.74       194\n",
      "non_infringement       0.70      0.94      0.80       186\n",
      "\n",
      "        accuracy                           0.78       380\n",
      "       macro avg       0.81      0.78      0.77       380\n",
      "    weighted avg       0.81      0.78      0.77       380\n",
      "\n"
     ]
    },
    {
     "name": "stderr",
     "output_type": "stream",
     "text": [
      "Training Epochs:  67%|██████▋   | 1333/2000 [01:39<00:21, 30.97it/s]"
     ]
    },
    {
     "name": "stdout",
     "output_type": "stream",
     "text": [
      "Epoch 1330/2000, Loss: 0.0749\n",
      "Test Accuracy at Epoch 1330: 77.63%\n",
      "Test F1-score at Epoch 1330: 0.8037\n",
      "Classification Report at Epoch 1330:\n",
      "                  precision    recall  f1-score   support\n",
      "\n",
      "    infringement       0.91      0.62      0.74       194\n",
      "non_infringement       0.70      0.94      0.80       186\n",
      "\n",
      "        accuracy                           0.78       380\n",
      "       macro avg       0.81      0.78      0.77       380\n",
      "    weighted avg       0.81      0.78      0.77       380\n",
      "\n"
     ]
    },
    {
     "name": "stderr",
     "output_type": "stream",
     "text": [
      "Training Epochs:  67%|██████▋   | 1341/2000 [01:39<00:22, 28.90it/s]"
     ]
    },
    {
     "name": "stdout",
     "output_type": "stream",
     "text": [
      "Epoch 1340/2000, Loss: 0.0758\n",
      "Test Accuracy at Epoch 1340: 77.63%\n",
      "Test F1-score at Epoch 1340: 0.8037\n",
      "Classification Report at Epoch 1340:\n",
      "                  precision    recall  f1-score   support\n",
      "\n",
      "    infringement       0.91      0.62      0.74       194\n",
      "non_infringement       0.70      0.94      0.80       186\n",
      "\n",
      "        accuracy                           0.78       380\n",
      "       macro avg       0.81      0.78      0.77       380\n",
      "    weighted avg       0.81      0.78      0.77       380\n",
      "\n"
     ]
    },
    {
     "name": "stderr",
     "output_type": "stream",
     "text": [
      "Training Epochs:  68%|██████▊   | 1353/2000 [01:40<00:23, 27.07it/s]"
     ]
    },
    {
     "name": "stdout",
     "output_type": "stream",
     "text": [
      "Epoch 1350/2000, Loss: 0.0746\n",
      "Test Accuracy at Epoch 1350: 77.63%\n",
      "Test F1-score at Epoch 1350: 0.8037\n",
      "Classification Report at Epoch 1350:\n",
      "                  precision    recall  f1-score   support\n",
      "\n",
      "    infringement       0.91      0.62      0.74       194\n",
      "non_infringement       0.70      0.94      0.80       186\n",
      "\n",
      "        accuracy                           0.78       380\n",
      "       macro avg       0.81      0.78      0.77       380\n",
      "    weighted avg       0.81      0.78      0.77       380\n",
      "\n"
     ]
    },
    {
     "name": "stderr",
     "output_type": "stream",
     "text": [
      "Training Epochs:  68%|██████▊   | 1362/2000 [01:40<00:19, 31.91it/s]"
     ]
    },
    {
     "name": "stdout",
     "output_type": "stream",
     "text": [
      "Epoch 1360/2000, Loss: 0.0750\n",
      "Test Accuracy at Epoch 1360: 77.63%\n",
      "Test F1-score at Epoch 1360: 0.8037\n",
      "Classification Report at Epoch 1360:\n",
      "                  precision    recall  f1-score   support\n",
      "\n",
      "    infringement       0.91      0.62      0.74       194\n",
      "non_infringement       0.70      0.94      0.80       186\n",
      "\n",
      "        accuracy                           0.78       380\n",
      "       macro avg       0.81      0.78      0.77       380\n",
      "    weighted avg       0.81      0.78      0.77       380\n",
      "\n"
     ]
    },
    {
     "name": "stderr",
     "output_type": "stream",
     "text": [
      "Training Epochs:  69%|██████▊   | 1374/2000 [01:40<00:19, 31.50it/s]"
     ]
    },
    {
     "name": "stdout",
     "output_type": "stream",
     "text": [
      "Epoch 1370/2000, Loss: 0.0755\n",
      "Test Accuracy at Epoch 1370: 77.63%\n",
      "Test F1-score at Epoch 1370: 0.8037\n",
      "Classification Report at Epoch 1370:\n",
      "                  precision    recall  f1-score   support\n",
      "\n",
      "    infringement       0.91      0.62      0.74       194\n",
      "non_infringement       0.70      0.94      0.80       186\n",
      "\n",
      "        accuracy                           0.78       380\n",
      "       macro avg       0.81      0.78      0.77       380\n",
      "    weighted avg       0.81      0.78      0.77       380\n",
      "\n"
     ]
    },
    {
     "name": "stderr",
     "output_type": "stream",
     "text": [
      "Training Epochs:  69%|██████▉   | 1381/2000 [01:41<00:29, 21.20it/s]"
     ]
    },
    {
     "name": "stdout",
     "output_type": "stream",
     "text": [
      "Epoch 1380/2000, Loss: 0.0746\n",
      "Test Accuracy at Epoch 1380: 77.63%\n",
      "Test F1-score at Epoch 1380: 0.8019\n",
      "Classification Report at Epoch 1380:\n",
      "                  precision    recall  f1-score   support\n",
      "\n",
      "    infringement       0.90      0.63      0.74       194\n",
      "non_infringement       0.71      0.92      0.80       186\n",
      "\n",
      "        accuracy                           0.78       380\n",
      "       macro avg       0.80      0.78      0.77       380\n",
      "    weighted avg       0.80      0.78      0.77       380\n",
      "\n"
     ]
    },
    {
     "name": "stderr",
     "output_type": "stream",
     "text": [
      "Training Epochs:  70%|██████▉   | 1391/2000 [01:41<00:24, 24.53it/s]"
     ]
    },
    {
     "name": "stdout",
     "output_type": "stream",
     "text": [
      "Epoch 1390/2000, Loss: 0.0754\n",
      "Test Accuracy at Epoch 1390: 77.63%\n",
      "Test F1-score at Epoch 1390: 0.8019\n",
      "Classification Report at Epoch 1390:\n",
      "                  precision    recall  f1-score   support\n",
      "\n",
      "    infringement       0.90      0.63      0.74       194\n",
      "non_infringement       0.71      0.92      0.80       186\n",
      "\n",
      "        accuracy                           0.78       380\n",
      "       macro avg       0.80      0.78      0.77       380\n",
      "    weighted avg       0.80      0.78      0.77       380\n",
      "\n"
     ]
    },
    {
     "name": "stderr",
     "output_type": "stream",
     "text": [
      "Training Epochs:  70%|███████   | 1404/2000 [01:42<00:26, 22.73it/s]"
     ]
    },
    {
     "name": "stdout",
     "output_type": "stream",
     "text": [
      "Epoch 1400/2000, Loss: 0.0744\n",
      "Test Accuracy at Epoch 1400: 77.63%\n",
      "Test F1-score at Epoch 1400: 0.8019\n",
      "Classification Report at Epoch 1400:\n",
      "                  precision    recall  f1-score   support\n",
      "\n",
      "    infringement       0.90      0.63      0.74       194\n",
      "non_infringement       0.71      0.92      0.80       186\n",
      "\n",
      "        accuracy                           0.78       380\n",
      "       macro avg       0.80      0.78      0.77       380\n",
      "    weighted avg       0.80      0.78      0.77       380\n",
      "\n"
     ]
    },
    {
     "name": "stderr",
     "output_type": "stream",
     "text": [
      "Training Epochs:  71%|███████   | 1411/2000 [01:42<00:24, 24.20it/s]"
     ]
    },
    {
     "name": "stdout",
     "output_type": "stream",
     "text": [
      "Epoch 1410/2000, Loss: 0.0759\n",
      "Test Accuracy at Epoch 1410: 77.63%\n",
      "Test F1-score at Epoch 1410: 0.8019\n",
      "Classification Report at Epoch 1410:\n",
      "                  precision    recall  f1-score   support\n",
      "\n",
      "    infringement       0.90      0.63      0.74       194\n",
      "non_infringement       0.71      0.92      0.80       186\n",
      "\n",
      "        accuracy                           0.78       380\n",
      "       macro avg       0.80      0.78      0.77       380\n",
      "    weighted avg       0.80      0.78      0.77       380\n",
      "\n"
     ]
    },
    {
     "name": "stderr",
     "output_type": "stream",
     "text": [
      "Training Epochs:  71%|███████   | 1422/2000 [01:43<00:38, 15.07it/s]"
     ]
    },
    {
     "name": "stdout",
     "output_type": "stream",
     "text": [
      "Epoch 1420/2000, Loss: 0.0742\n",
      "Test Accuracy at Epoch 1420: 77.63%\n",
      "Test F1-score at Epoch 1420: 0.8028\n",
      "Classification Report at Epoch 1420:\n",
      "                  precision    recall  f1-score   support\n",
      "\n",
      "    infringement       0.90      0.63      0.74       194\n",
      "non_infringement       0.71      0.93      0.80       186\n",
      "\n",
      "        accuracy                           0.78       380\n",
      "       macro avg       0.80      0.78      0.77       380\n",
      "    weighted avg       0.81      0.78      0.77       380\n",
      "\n"
     ]
    },
    {
     "name": "stderr",
     "output_type": "stream",
     "text": [
      "Training Epochs:  72%|███████▏  | 1431/2000 [01:45<01:37,  5.85it/s]"
     ]
    },
    {
     "name": "stdout",
     "output_type": "stream",
     "text": [
      "Epoch 1430/2000, Loss: 0.0753\n",
      "Test Accuracy at Epoch 1430: 77.63%\n",
      "Test F1-score at Epoch 1430: 0.8037\n",
      "Classification Report at Epoch 1430:\n",
      "                  precision    recall  f1-score   support\n",
      "\n",
      "    infringement       0.91      0.62      0.74       194\n",
      "non_infringement       0.70      0.94      0.80       186\n",
      "\n",
      "        accuracy                           0.78       380\n",
      "       macro avg       0.81      0.78      0.77       380\n",
      "    weighted avg       0.81      0.78      0.77       380\n",
      "\n"
     ]
    },
    {
     "name": "stderr",
     "output_type": "stream",
     "text": [
      "Training Epochs:  72%|███████▏  | 1440/2000 [01:48<03:41,  2.53it/s]"
     ]
    },
    {
     "name": "stdout",
     "output_type": "stream",
     "text": [
      "Epoch 1440/2000, Loss: 0.0744\n",
      "Test Accuracy at Epoch 1440: 77.63%\n",
      "Test F1-score at Epoch 1440: 0.8037\n",
      "Classification Report at Epoch 1440:\n",
      "                  precision    recall  f1-score   support\n",
      "\n",
      "    infringement       0.91      0.62      0.74       194\n",
      "non_infringement       0.70      0.94      0.80       186\n",
      "\n",
      "        accuracy                           0.78       380\n",
      "       macro avg       0.81      0.78      0.77       380\n",
      "    weighted avg       0.81      0.78      0.77       380\n",
      "\n"
     ]
    },
    {
     "name": "stderr",
     "output_type": "stream",
     "text": [
      "Training Epochs:  72%|███████▎  | 1450/2000 [01:53<03:29,  2.62it/s]"
     ]
    },
    {
     "name": "stdout",
     "output_type": "stream",
     "text": [
      "Epoch 1450/2000, Loss: 0.0747\n",
      "Test Accuracy at Epoch 1450: 77.63%\n",
      "Test F1-score at Epoch 1450: 0.8037\n",
      "Classification Report at Epoch 1450:\n",
      "                  precision    recall  f1-score   support\n",
      "\n",
      "    infringement       0.91      0.62      0.74       194\n",
      "non_infringement       0.70      0.94      0.80       186\n",
      "\n",
      "        accuracy                           0.78       380\n",
      "       macro avg       0.81      0.78      0.77       380\n",
      "    weighted avg       0.81      0.78      0.77       380\n",
      "\n"
     ]
    },
    {
     "name": "stderr",
     "output_type": "stream",
     "text": [
      "Training Epochs:  73%|███████▎  | 1461/2000 [01:54<01:04,  8.31it/s]"
     ]
    },
    {
     "name": "stdout",
     "output_type": "stream",
     "text": [
      "Epoch 1460/2000, Loss: 0.0758\n",
      "Test Accuracy at Epoch 1460: 77.63%\n",
      "Test F1-score at Epoch 1460: 0.8037\n",
      "Classification Report at Epoch 1460:\n",
      "                  precision    recall  f1-score   support\n",
      "\n",
      "    infringement       0.91      0.62      0.74       194\n",
      "non_infringement       0.70      0.94      0.80       186\n",
      "\n",
      "        accuracy                           0.78       380\n",
      "       macro avg       0.81      0.78      0.77       380\n",
      "    weighted avg       0.81      0.78      0.77       380\n",
      "\n"
     ]
    },
    {
     "name": "stderr",
     "output_type": "stream",
     "text": [
      "Training Epochs:  74%|███████▎  | 1471/2000 [01:55<00:49, 10.59it/s]"
     ]
    },
    {
     "name": "stdout",
     "output_type": "stream",
     "text": [
      "Epoch 1470/2000, Loss: 0.0758\n",
      "Test Accuracy at Epoch 1470: 77.63%\n",
      "Test F1-score at Epoch 1470: 0.8019\n",
      "Classification Report at Epoch 1470:\n",
      "                  precision    recall  f1-score   support\n",
      "\n",
      "    infringement       0.90      0.63      0.74       194\n",
      "non_infringement       0.71      0.92      0.80       186\n",
      "\n",
      "        accuracy                           0.78       380\n",
      "       macro avg       0.80      0.78      0.77       380\n",
      "    weighted avg       0.80      0.78      0.77       380\n",
      "\n"
     ]
    },
    {
     "name": "stderr",
     "output_type": "stream",
     "text": [
      "Training Epochs:  74%|███████▍  | 1481/2000 [01:55<00:45, 11.40it/s]"
     ]
    },
    {
     "name": "stdout",
     "output_type": "stream",
     "text": [
      "Epoch 1480/2000, Loss: 0.0750\n",
      "Test Accuracy at Epoch 1480: 77.63%\n",
      "Test F1-score at Epoch 1480: 0.8037\n",
      "Classification Report at Epoch 1480:\n",
      "                  precision    recall  f1-score   support\n",
      "\n",
      "    infringement       0.91      0.62      0.74       194\n",
      "non_infringement       0.70      0.94      0.80       186\n",
      "\n",
      "        accuracy                           0.78       380\n",
      "       macro avg       0.81      0.78      0.77       380\n",
      "    weighted avg       0.81      0.78      0.77       380\n",
      "\n"
     ]
    },
    {
     "name": "stderr",
     "output_type": "stream",
     "text": [
      "Training Epochs:  75%|███████▍  | 1491/2000 [01:56<00:48, 10.59it/s]"
     ]
    },
    {
     "name": "stdout",
     "output_type": "stream",
     "text": [
      "Epoch 1490/2000, Loss: 0.0745\n",
      "Test Accuracy at Epoch 1490: 77.63%\n",
      "Test F1-score at Epoch 1490: 0.8019\n",
      "Classification Report at Epoch 1490:\n",
      "                  precision    recall  f1-score   support\n",
      "\n",
      "    infringement       0.90      0.63      0.74       194\n",
      "non_infringement       0.71      0.92      0.80       186\n",
      "\n",
      "        accuracy                           0.78       380\n",
      "       macro avg       0.80      0.78      0.77       380\n",
      "    weighted avg       0.80      0.78      0.77       380\n",
      "\n"
     ]
    },
    {
     "name": "stderr",
     "output_type": "stream",
     "text": [
      "Training Epochs:  75%|███████▌  | 1500/2000 [02:00<03:31,  2.36it/s]"
     ]
    },
    {
     "name": "stdout",
     "output_type": "stream",
     "text": [
      "Epoch 1500/2000, Loss: 0.0746\n",
      "Test Accuracy at Epoch 1500: 77.63%\n",
      "Test F1-score at Epoch 1500: 0.8037\n",
      "Classification Report at Epoch 1500:\n",
      "                  precision    recall  f1-score   support\n",
      "\n",
      "    infringement       0.91      0.62      0.74       194\n",
      "non_infringement       0.70      0.94      0.80       186\n",
      "\n",
      "        accuracy                           0.78       380\n",
      "       macro avg       0.81      0.78      0.77       380\n",
      "    weighted avg       0.81      0.78      0.77       380\n",
      "\n"
     ]
    },
    {
     "name": "stderr",
     "output_type": "stream",
     "text": [
      "Training Epochs:  76%|███████▌  | 1511/2000 [02:04<02:02,  3.98it/s]"
     ]
    },
    {
     "name": "stdout",
     "output_type": "stream",
     "text": [
      "Epoch 1510/2000, Loss: 0.0744\n",
      "Test Accuracy at Epoch 1510: 77.63%\n",
      "Test F1-score at Epoch 1510: 0.8019\n",
      "Classification Report at Epoch 1510:\n",
      "                  precision    recall  f1-score   support\n",
      "\n",
      "    infringement       0.90      0.63      0.74       194\n",
      "non_infringement       0.71      0.92      0.80       186\n",
      "\n",
      "        accuracy                           0.78       380\n",
      "       macro avg       0.80      0.78      0.77       380\n",
      "    weighted avg       0.80      0.78      0.77       380\n",
      "\n"
     ]
    },
    {
     "name": "stderr",
     "output_type": "stream",
     "text": [
      "Training Epochs:  76%|███████▌  | 1523/2000 [02:05<00:38, 12.45it/s]"
     ]
    },
    {
     "name": "stdout",
     "output_type": "stream",
     "text": [
      "Epoch 1520/2000, Loss: 0.0762\n",
      "Test Accuracy at Epoch 1520: 77.63%\n",
      "Test F1-score at Epoch 1520: 0.8019\n",
      "Classification Report at Epoch 1520:\n",
      "                  precision    recall  f1-score   support\n",
      "\n",
      "    infringement       0.90      0.63      0.74       194\n",
      "non_infringement       0.71      0.92      0.80       186\n",
      "\n",
      "        accuracy                           0.78       380\n",
      "       macro avg       0.80      0.78      0.77       380\n",
      "    weighted avg       0.80      0.78      0.77       380\n",
      "\n"
     ]
    },
    {
     "name": "stderr",
     "output_type": "stream",
     "text": [
      "Training Epochs:  77%|███████▋  | 1531/2000 [02:06<00:52,  9.01it/s]"
     ]
    },
    {
     "name": "stdout",
     "output_type": "stream",
     "text": [
      "Epoch 1530/2000, Loss: 0.0741\n",
      "Test Accuracy at Epoch 1530: 77.63%\n",
      "Test F1-score at Epoch 1530: 0.8037\n",
      "Classification Report at Epoch 1530:\n",
      "                  precision    recall  f1-score   support\n",
      "\n",
      "    infringement       0.91      0.62      0.74       194\n",
      "non_infringement       0.70      0.94      0.80       186\n",
      "\n",
      "        accuracy                           0.78       380\n",
      "       macro avg       0.81      0.78      0.77       380\n",
      "    weighted avg       0.81      0.78      0.77       380\n",
      "\n"
     ]
    },
    {
     "name": "stderr",
     "output_type": "stream",
     "text": [
      "Training Epochs:  77%|███████▋  | 1541/2000 [02:07<00:51,  8.84it/s]"
     ]
    },
    {
     "name": "stdout",
     "output_type": "stream",
     "text": [
      "Epoch 1540/2000, Loss: 0.0749\n",
      "Test Accuracy at Epoch 1540: 77.63%\n",
      "Test F1-score at Epoch 1540: 0.8037\n",
      "Classification Report at Epoch 1540:\n",
      "                  precision    recall  f1-score   support\n",
      "\n",
      "    infringement       0.91      0.62      0.74       194\n",
      "non_infringement       0.70      0.94      0.80       186\n",
      "\n",
      "        accuracy                           0.78       380\n",
      "       macro avg       0.81      0.78      0.77       380\n",
      "    weighted avg       0.81      0.78      0.77       380\n",
      "\n"
     ]
    },
    {
     "name": "stderr",
     "output_type": "stream",
     "text": [
      "Training Epochs:  78%|███████▊  | 1551/2000 [02:08<00:49,  9.07it/s]"
     ]
    },
    {
     "name": "stdout",
     "output_type": "stream",
     "text": [
      "Epoch 1550/2000, Loss: 0.0753\n",
      "Test Accuracy at Epoch 1550: 77.63%\n",
      "Test F1-score at Epoch 1550: 0.8037\n",
      "Classification Report at Epoch 1550:\n",
      "                  precision    recall  f1-score   support\n",
      "\n",
      "    infringement       0.91      0.62      0.74       194\n",
      "non_infringement       0.70      0.94      0.80       186\n",
      "\n",
      "        accuracy                           0.78       380\n",
      "       macro avg       0.81      0.78      0.77       380\n",
      "    weighted avg       0.81      0.78      0.77       380\n",
      "\n"
     ]
    },
    {
     "name": "stderr",
     "output_type": "stream",
     "text": [
      "Training Epochs:  78%|███████▊  | 1561/2000 [02:09<00:37, 11.81it/s]"
     ]
    },
    {
     "name": "stdout",
     "output_type": "stream",
     "text": [
      "Epoch 1560/2000, Loss: 0.0741\n",
      "Test Accuracy at Epoch 1560: 77.63%\n",
      "Test F1-score at Epoch 1560: 0.8037\n",
      "Classification Report at Epoch 1560:\n",
      "                  precision    recall  f1-score   support\n",
      "\n",
      "    infringement       0.91      0.62      0.74       194\n",
      "non_infringement       0.70      0.94      0.80       186\n",
      "\n",
      "        accuracy                           0.78       380\n",
      "       macro avg       0.81      0.78      0.77       380\n",
      "    weighted avg       0.81      0.78      0.77       380\n",
      "\n"
     ]
    },
    {
     "name": "stderr",
     "output_type": "stream",
     "text": [
      "Training Epochs:  79%|███████▊  | 1571/2000 [02:10<00:35, 12.22it/s]"
     ]
    },
    {
     "name": "stdout",
     "output_type": "stream",
     "text": [
      "Epoch 1570/2000, Loss: 0.0741\n",
      "Test Accuracy at Epoch 1570: 77.63%\n",
      "Test F1-score at Epoch 1570: 0.8037\n",
      "Classification Report at Epoch 1570:\n",
      "                  precision    recall  f1-score   support\n",
      "\n",
      "    infringement       0.91      0.62      0.74       194\n",
      "non_infringement       0.70      0.94      0.80       186\n",
      "\n",
      "        accuracy                           0.78       380\n",
      "       macro avg       0.81      0.78      0.77       380\n",
      "    weighted avg       0.81      0.78      0.77       380\n",
      "\n"
     ]
    },
    {
     "name": "stderr",
     "output_type": "stream",
     "text": [
      "Training Epochs:  79%|███████▉  | 1581/2000 [02:11<00:39, 10.49it/s]"
     ]
    },
    {
     "name": "stdout",
     "output_type": "stream",
     "text": [
      "Epoch 1580/2000, Loss: 0.0741\n",
      "Test Accuracy at Epoch 1580: 77.63%\n",
      "Test F1-score at Epoch 1580: 0.8037\n",
      "Classification Report at Epoch 1580:\n",
      "                  precision    recall  f1-score   support\n",
      "\n",
      "    infringement       0.91      0.62      0.74       194\n",
      "non_infringement       0.70      0.94      0.80       186\n",
      "\n",
      "        accuracy                           0.78       380\n",
      "       macro avg       0.81      0.78      0.77       380\n",
      "    weighted avg       0.81      0.78      0.77       380\n",
      "\n"
     ]
    },
    {
     "name": "stderr",
     "output_type": "stream",
     "text": [
      "Training Epochs:  80%|███████▉  | 1592/2000 [02:12<00:41,  9.72it/s]"
     ]
    },
    {
     "name": "stdout",
     "output_type": "stream",
     "text": [
      "Epoch 1590/2000, Loss: 0.0850\n",
      "Test Accuracy at Epoch 1590: 77.63%\n",
      "Test F1-score at Epoch 1590: 0.8037\n",
      "Classification Report at Epoch 1590:\n",
      "                  precision    recall  f1-score   support\n",
      "\n",
      "    infringement       0.91      0.62      0.74       194\n",
      "non_infringement       0.70      0.94      0.80       186\n",
      "\n",
      "        accuracy                           0.78       380\n",
      "       macro avg       0.81      0.78      0.77       380\n",
      "    weighted avg       0.81      0.78      0.77       380\n",
      "\n"
     ]
    },
    {
     "name": "stderr",
     "output_type": "stream",
     "text": [
      "Training Epochs:  80%|████████  | 1600/2000 [02:12<00:28, 14.26it/s]"
     ]
    },
    {
     "name": "stdout",
     "output_type": "stream",
     "text": [
      "Epoch 1600/2000, Loss: 0.0777\n",
      "Test Accuracy at Epoch 1600: 77.63%\n",
      "Test F1-score at Epoch 1600: 0.8037\n",
      "Classification Report at Epoch 1600:\n",
      "                  precision    recall  f1-score   support\n",
      "\n",
      "    infringement       0.91      0.62      0.74       194\n",
      "non_infringement       0.70      0.94      0.80       186\n",
      "\n",
      "        accuracy                           0.78       380\n",
      "       macro avg       0.81      0.78      0.77       380\n",
      "    weighted avg       0.81      0.78      0.77       380\n",
      "\n"
     ]
    },
    {
     "name": "stderr",
     "output_type": "stream",
     "text": [
      "Training Epochs:  81%|████████  | 1612/2000 [02:13<00:34, 11.30it/s]"
     ]
    },
    {
     "name": "stdout",
     "output_type": "stream",
     "text": [
      "Epoch 1610/2000, Loss: 0.0753\n",
      "Test Accuracy at Epoch 1610: 77.63%\n",
      "Test F1-score at Epoch 1610: 0.8037\n",
      "Classification Report at Epoch 1610:\n",
      "                  precision    recall  f1-score   support\n",
      "\n",
      "    infringement       0.91      0.62      0.74       194\n",
      "non_infringement       0.70      0.94      0.80       186\n",
      "\n",
      "        accuracy                           0.78       380\n",
      "       macro avg       0.81      0.78      0.77       380\n",
      "    weighted avg       0.81      0.78      0.77       380\n",
      "\n"
     ]
    },
    {
     "name": "stderr",
     "output_type": "stream",
     "text": [
      "Training Epochs:  81%|████████  | 1620/2000 [02:14<00:36, 10.32it/s]"
     ]
    },
    {
     "name": "stdout",
     "output_type": "stream",
     "text": [
      "Epoch 1620/2000, Loss: 0.0744\n",
      "Test Accuracy at Epoch 1620: 77.89%\n",
      "Test F1-score at Epoch 1620: 0.8047\n",
      "Classification Report at Epoch 1620:\n",
      "                  precision    recall  f1-score   support\n",
      "\n",
      "    infringement       0.90      0.63      0.75       194\n",
      "non_infringement       0.71      0.93      0.80       186\n",
      "\n",
      "        accuracy                           0.78       380\n",
      "       macro avg       0.81      0.78      0.78       380\n",
      "    weighted avg       0.81      0.78      0.77       380\n",
      "\n"
     ]
    },
    {
     "name": "stderr",
     "output_type": "stream",
     "text": [
      "Training Epochs:  82%|████████▏ | 1630/2000 [02:15<00:29, 12.76it/s]"
     ]
    },
    {
     "name": "stdout",
     "output_type": "stream",
     "text": [
      "Epoch 1630/2000, Loss: 0.0744\n",
      "Test Accuracy at Epoch 1630: 77.89%\n",
      "Test F1-score at Epoch 1630: 0.8047\n",
      "Classification Report at Epoch 1630:\n",
      "                  precision    recall  f1-score   support\n",
      "\n",
      "    infringement       0.90      0.63      0.75       194\n",
      "non_infringement       0.71      0.93      0.80       186\n",
      "\n",
      "        accuracy                           0.78       380\n",
      "       macro avg       0.81      0.78      0.78       380\n",
      "    weighted avg       0.81      0.78      0.77       380\n",
      "\n"
     ]
    },
    {
     "name": "stderr",
     "output_type": "stream",
     "text": [
      "Training Epochs:  82%|████████▏ | 1640/2000 [02:16<00:27, 13.25it/s]"
     ]
    },
    {
     "name": "stdout",
     "output_type": "stream",
     "text": [
      "Epoch 1640/2000, Loss: 0.0742\n",
      "Test Accuracy at Epoch 1640: 77.89%\n",
      "Test F1-score at Epoch 1640: 0.8056\n",
      "Classification Report at Epoch 1640:\n",
      "                  precision    recall  f1-score   support\n",
      "\n",
      "    infringement       0.91      0.63      0.74       194\n",
      "non_infringement       0.71      0.94      0.81       186\n",
      "\n",
      "        accuracy                           0.78       380\n",
      "       macro avg       0.81      0.78      0.77       380\n",
      "    weighted avg       0.81      0.78      0.77       380\n",
      "\n"
     ]
    },
    {
     "name": "stderr",
     "output_type": "stream",
     "text": [
      "Training Epochs:  83%|████████▎ | 1652/2000 [02:17<00:29, 11.82it/s]"
     ]
    },
    {
     "name": "stdout",
     "output_type": "stream",
     "text": [
      "Epoch 1650/2000, Loss: 0.0741\n",
      "Test Accuracy at Epoch 1650: 77.89%\n",
      "Test F1-score at Epoch 1650: 0.8056\n",
      "Classification Report at Epoch 1650:\n",
      "                  precision    recall  f1-score   support\n",
      "\n",
      "    infringement       0.91      0.63      0.74       194\n",
      "non_infringement       0.71      0.94      0.81       186\n",
      "\n",
      "        accuracy                           0.78       380\n",
      "       macro avg       0.81      0.78      0.77       380\n",
      "    weighted avg       0.81      0.78      0.77       380\n",
      "\n"
     ]
    },
    {
     "name": "stderr",
     "output_type": "stream",
     "text": [
      "Training Epochs:  83%|████████▎ | 1662/2000 [02:18<00:29, 11.52it/s]"
     ]
    },
    {
     "name": "stdout",
     "output_type": "stream",
     "text": [
      "Epoch 1660/2000, Loss: 0.0741\n",
      "Test Accuracy at Epoch 1660: 77.63%\n",
      "Test F1-score at Epoch 1660: 0.8037\n",
      "Classification Report at Epoch 1660:\n",
      "                  precision    recall  f1-score   support\n",
      "\n",
      "    infringement       0.91      0.62      0.74       194\n",
      "non_infringement       0.70      0.94      0.80       186\n",
      "\n",
      "        accuracy                           0.78       380\n",
      "       macro avg       0.81      0.78      0.77       380\n",
      "    weighted avg       0.81      0.78      0.77       380\n",
      "\n"
     ]
    },
    {
     "name": "stderr",
     "output_type": "stream",
     "text": [
      "Training Epochs:  84%|████████▎ | 1672/2000 [02:19<00:28, 11.41it/s]"
     ]
    },
    {
     "name": "stdout",
     "output_type": "stream",
     "text": [
      "Epoch 1670/2000, Loss: 0.0741\n",
      "Test Accuracy at Epoch 1670: 77.89%\n",
      "Test F1-score at Epoch 1670: 0.8056\n",
      "Classification Report at Epoch 1670:\n",
      "                  precision    recall  f1-score   support\n",
      "\n",
      "    infringement       0.91      0.63      0.74       194\n",
      "non_infringement       0.71      0.94      0.81       186\n",
      "\n",
      "        accuracy                           0.78       380\n",
      "       macro avg       0.81      0.78      0.77       380\n",
      "    weighted avg       0.81      0.78      0.77       380\n",
      "\n"
     ]
    },
    {
     "name": "stderr",
     "output_type": "stream",
     "text": [
      "Training Epochs:  84%|████████▍ | 1680/2000 [02:20<00:28, 11.36it/s]"
     ]
    },
    {
     "name": "stdout",
     "output_type": "stream",
     "text": [
      "Epoch 1680/2000, Loss: 0.0741\n",
      "Test Accuracy at Epoch 1680: 77.63%\n",
      "Test F1-score at Epoch 1680: 0.8037\n",
      "Classification Report at Epoch 1680:\n",
      "                  precision    recall  f1-score   support\n",
      "\n",
      "    infringement       0.91      0.62      0.74       194\n",
      "non_infringement       0.70      0.94      0.80       186\n",
      "\n",
      "        accuracy                           0.78       380\n",
      "       macro avg       0.81      0.78      0.77       380\n",
      "    weighted avg       0.81      0.78      0.77       380\n",
      "\n"
     ]
    },
    {
     "name": "stderr",
     "output_type": "stream",
     "text": [
      "Training Epochs:  84%|████████▍ | 1690/2000 [02:22<01:03,  4.89it/s]"
     ]
    },
    {
     "name": "stdout",
     "output_type": "stream",
     "text": [
      "Epoch 1690/2000, Loss: 0.0746\n",
      "Test Accuracy at Epoch 1690: 77.63%\n",
      "Test F1-score at Epoch 1690: 0.8037\n",
      "Classification Report at Epoch 1690:\n",
      "                  precision    recall  f1-score   support\n",
      "\n",
      "    infringement       0.91      0.62      0.74       194\n",
      "non_infringement       0.70      0.94      0.80       186\n",
      "\n",
      "        accuracy                           0.78       380\n",
      "       macro avg       0.81      0.78      0.77       380\n",
      "    weighted avg       0.81      0.78      0.77       380\n",
      "\n"
     ]
    },
    {
     "name": "stderr",
     "output_type": "stream",
     "text": [
      "Training Epochs:  85%|████████▌ | 1701/2000 [02:24<00:58,  5.10it/s]"
     ]
    },
    {
     "name": "stdout",
     "output_type": "stream",
     "text": [
      "Epoch 1700/2000, Loss: 0.0745\n",
      "Test Accuracy at Epoch 1700: 77.63%\n",
      "Test F1-score at Epoch 1700: 0.8019\n",
      "Classification Report at Epoch 1700:\n",
      "                  precision    recall  f1-score   support\n",
      "\n",
      "    infringement       0.90      0.63      0.74       194\n",
      "non_infringement       0.71      0.92      0.80       186\n",
      "\n",
      "        accuracy                           0.78       380\n",
      "       macro avg       0.80      0.78      0.77       380\n",
      "    weighted avg       0.80      0.78      0.77       380\n",
      "\n"
     ]
    },
    {
     "name": "stderr",
     "output_type": "stream",
     "text": [
      "Training Epochs:  86%|████████▌ | 1711/2000 [02:25<00:29,  9.90it/s]"
     ]
    },
    {
     "name": "stdout",
     "output_type": "stream",
     "text": [
      "Epoch 1710/2000, Loss: 0.0764\n",
      "Test Accuracy at Epoch 1710: 77.63%\n",
      "Test F1-score at Epoch 1710: 0.8037\n",
      "Classification Report at Epoch 1710:\n",
      "                  precision    recall  f1-score   support\n",
      "\n",
      "    infringement       0.91      0.62      0.74       194\n",
      "non_infringement       0.70      0.94      0.80       186\n",
      "\n",
      "        accuracy                           0.78       380\n",
      "       macro avg       0.81      0.78      0.77       380\n",
      "    weighted avg       0.81      0.78      0.77       380\n",
      "\n"
     ]
    },
    {
     "name": "stderr",
     "output_type": "stream",
     "text": [
      "Training Epochs:  86%|████████▌ | 1721/2000 [02:26<00:27, 10.19it/s]"
     ]
    },
    {
     "name": "stdout",
     "output_type": "stream",
     "text": [
      "Epoch 1720/2000, Loss: 0.0748\n",
      "Test Accuracy at Epoch 1720: 77.63%\n",
      "Test F1-score at Epoch 1720: 0.8037\n",
      "Classification Report at Epoch 1720:\n",
      "                  precision    recall  f1-score   support\n",
      "\n",
      "    infringement       0.91      0.62      0.74       194\n",
      "non_infringement       0.70      0.94      0.80       186\n",
      "\n",
      "        accuracy                           0.78       380\n",
      "       macro avg       0.81      0.78      0.77       380\n",
      "    weighted avg       0.81      0.78      0.77       380\n",
      "\n"
     ]
    },
    {
     "name": "stderr",
     "output_type": "stream",
     "text": [
      "Training Epochs:  87%|████████▋ | 1731/2000 [02:27<00:29,  9.23it/s]"
     ]
    },
    {
     "name": "stdout",
     "output_type": "stream",
     "text": [
      "Epoch 1730/2000, Loss: 0.0743\n",
      "Test Accuracy at Epoch 1730: 77.63%\n",
      "Test F1-score at Epoch 1730: 0.8037\n",
      "Classification Report at Epoch 1730:\n",
      "                  precision    recall  f1-score   support\n",
      "\n",
      "    infringement       0.91      0.62      0.74       194\n",
      "non_infringement       0.70      0.94      0.80       186\n",
      "\n",
      "        accuracy                           0.78       380\n",
      "       macro avg       0.81      0.78      0.77       380\n",
      "    weighted avg       0.81      0.78      0.77       380\n",
      "\n"
     ]
    },
    {
     "name": "stderr",
     "output_type": "stream",
     "text": [
      "Training Epochs:  87%|████████▋ | 1741/2000 [02:28<00:23, 11.00it/s]"
     ]
    },
    {
     "name": "stdout",
     "output_type": "stream",
     "text": [
      "Epoch 1740/2000, Loss: 0.0742\n",
      "Test Accuracy at Epoch 1740: 77.63%\n",
      "Test F1-score at Epoch 1740: 0.8037\n",
      "Classification Report at Epoch 1740:\n",
      "                  precision    recall  f1-score   support\n",
      "\n",
      "    infringement       0.91      0.62      0.74       194\n",
      "non_infringement       0.70      0.94      0.80       186\n",
      "\n",
      "        accuracy                           0.78       380\n",
      "       macro avg       0.81      0.78      0.77       380\n",
      "    weighted avg       0.81      0.78      0.77       380\n",
      "\n"
     ]
    },
    {
     "name": "stderr",
     "output_type": "stream",
     "text": [
      "Training Epochs:  88%|████████▊ | 1751/2000 [02:29<00:27,  9.19it/s]"
     ]
    },
    {
     "name": "stdout",
     "output_type": "stream",
     "text": [
      "Epoch 1750/2000, Loss: 0.0741\n",
      "Test Accuracy at Epoch 1750: 77.63%\n",
      "Test F1-score at Epoch 1750: 0.8037\n",
      "Classification Report at Epoch 1750:\n",
      "                  precision    recall  f1-score   support\n",
      "\n",
      "    infringement       0.91      0.62      0.74       194\n",
      "non_infringement       0.70      0.94      0.80       186\n",
      "\n",
      "        accuracy                           0.78       380\n",
      "       macro avg       0.81      0.78      0.77       380\n",
      "    weighted avg       0.81      0.78      0.77       380\n",
      "\n"
     ]
    },
    {
     "name": "stderr",
     "output_type": "stream",
     "text": [
      "Training Epochs:  88%|████████▊ | 1760/2000 [02:31<01:06,  3.59it/s]"
     ]
    },
    {
     "name": "stdout",
     "output_type": "stream",
     "text": [
      "Epoch 1760/2000, Loss: 0.0740\n",
      "Test Accuracy at Epoch 1760: 77.89%\n",
      "Test F1-score at Epoch 1760: 0.8056\n",
      "Classification Report at Epoch 1760:\n",
      "                  precision    recall  f1-score   support\n",
      "\n",
      "    infringement       0.91      0.63      0.74       194\n",
      "non_infringement       0.71      0.94      0.81       186\n",
      "\n",
      "        accuracy                           0.78       380\n",
      "       macro avg       0.81      0.78      0.77       380\n",
      "    weighted avg       0.81      0.78      0.77       380\n",
      "\n"
     ]
    },
    {
     "name": "stderr",
     "output_type": "stream",
     "text": [
      "Training Epochs:  88%|████████▊ | 1770/2000 [02:34<00:59,  3.84it/s]"
     ]
    },
    {
     "name": "stdout",
     "output_type": "stream",
     "text": [
      "Epoch 1770/2000, Loss: 0.0740\n",
      "Test Accuracy at Epoch 1770: 77.63%\n",
      "Test F1-score at Epoch 1770: 0.8037\n",
      "Classification Report at Epoch 1770:\n",
      "                  precision    recall  f1-score   support\n",
      "\n",
      "    infringement       0.91      0.62      0.74       194\n",
      "non_infringement       0.70      0.94      0.80       186\n",
      "\n",
      "        accuracy                           0.78       380\n",
      "       macro avg       0.81      0.78      0.77       380\n",
      "    weighted avg       0.81      0.78      0.77       380\n",
      "\n"
     ]
    },
    {
     "name": "stderr",
     "output_type": "stream",
     "text": [
      "Training Epochs:  89%|████████▉ | 1780/2000 [02:39<01:58,  1.86it/s]"
     ]
    },
    {
     "name": "stdout",
     "output_type": "stream",
     "text": [
      "Epoch 1780/2000, Loss: 0.0740\n",
      "Test Accuracy at Epoch 1780: 77.89%\n",
      "Test F1-score at Epoch 1780: 0.8056\n",
      "Classification Report at Epoch 1780:\n",
      "                  precision    recall  f1-score   support\n",
      "\n",
      "    infringement       0.91      0.63      0.74       194\n",
      "non_infringement       0.71      0.94      0.81       186\n",
      "\n",
      "        accuracy                           0.78       380\n",
      "       macro avg       0.81      0.78      0.77       380\n",
      "    weighted avg       0.81      0.78      0.77       380\n",
      "\n"
     ]
    },
    {
     "name": "stderr",
     "output_type": "stream",
     "text": [
      "Training Epochs:  90%|████████▉ | 1791/2000 [02:44<01:01,  3.37it/s]"
     ]
    },
    {
     "name": "stdout",
     "output_type": "stream",
     "text": [
      "Epoch 1790/2000, Loss: 0.0740\n",
      "Test Accuracy at Epoch 1790: 77.89%\n",
      "Test F1-score at Epoch 1790: 0.8056\n",
      "Classification Report at Epoch 1790:\n",
      "                  precision    recall  f1-score   support\n",
      "\n",
      "    infringement       0.91      0.63      0.74       194\n",
      "non_infringement       0.71      0.94      0.81       186\n",
      "\n",
      "        accuracy                           0.78       380\n",
      "       macro avg       0.81      0.78      0.77       380\n",
      "    weighted avg       0.81      0.78      0.77       380\n",
      "\n"
     ]
    },
    {
     "name": "stderr",
     "output_type": "stream",
     "text": [
      "Training Epochs:  90%|█████████ | 1800/2000 [02:45<00:25,  7.78it/s]"
     ]
    },
    {
     "name": "stdout",
     "output_type": "stream",
     "text": [
      "Epoch 1800/2000, Loss: 0.0861\n",
      "Test Accuracy at Epoch 1800: 77.63%\n",
      "Test F1-score at Epoch 1800: 0.7991\n",
      "Classification Report at Epoch 1800:\n",
      "                  precision    recall  f1-score   support\n",
      "\n",
      "    infringement       0.88      0.65      0.75       194\n",
      "non_infringement       0.71      0.91      0.80       186\n",
      "\n",
      "        accuracy                           0.78       380\n",
      "       macro avg       0.80      0.78      0.77       380\n",
      "    weighted avg       0.80      0.78      0.77       380\n",
      "\n"
     ]
    },
    {
     "name": "stderr",
     "output_type": "stream",
     "text": [
      "Training Epochs:  90%|█████████ | 1810/2000 [02:49<01:29,  2.13it/s]"
     ]
    },
    {
     "name": "stdout",
     "output_type": "stream",
     "text": [
      "Epoch 1810/2000, Loss: 0.0777\n",
      "Test Accuracy at Epoch 1810: 78.16%\n",
      "Test F1-score at Epoch 1810: 0.8047\n",
      "Classification Report at Epoch 1810:\n",
      "                  precision    recall  f1-score   support\n",
      "\n",
      "    infringement       0.89      0.65      0.75       194\n",
      "non_infringement       0.72      0.92      0.80       186\n",
      "\n",
      "        accuracy                           0.78       380\n",
      "       macro avg       0.80      0.78      0.78       380\n",
      "    weighted avg       0.81      0.78      0.78       380\n",
      "\n"
     ]
    },
    {
     "name": "stderr",
     "output_type": "stream",
     "text": [
      "Training Epochs:  91%|█████████ | 1823/2000 [02:52<00:24,  7.22it/s]"
     ]
    },
    {
     "name": "stdout",
     "output_type": "stream",
     "text": [
      "Epoch 1820/2000, Loss: 0.0746\n",
      "Test Accuracy at Epoch 1820: 77.89%\n",
      "Test F1-score at Epoch 1820: 0.8047\n",
      "Classification Report at Epoch 1820:\n",
      "                  precision    recall  f1-score   support\n",
      "\n",
      "    infringement       0.90      0.63      0.75       194\n",
      "non_infringement       0.71      0.93      0.80       186\n",
      "\n",
      "        accuracy                           0.78       380\n",
      "       macro avg       0.81      0.78      0.78       380\n",
      "    weighted avg       0.81      0.78      0.77       380\n",
      "\n"
     ]
    },
    {
     "name": "stderr",
     "output_type": "stream",
     "text": [
      "Training Epochs:  92%|█████████▏| 1830/2000 [02:54<00:54,  3.13it/s]"
     ]
    },
    {
     "name": "stdout",
     "output_type": "stream",
     "text": [
      "Epoch 1830/2000, Loss: 0.0743\n",
      "Test Accuracy at Epoch 1830: 77.63%\n",
      "Test F1-score at Epoch 1830: 0.8037\n",
      "Classification Report at Epoch 1830:\n",
      "                  precision    recall  f1-score   support\n",
      "\n",
      "    infringement       0.91      0.62      0.74       194\n",
      "non_infringement       0.70      0.94      0.80       186\n",
      "\n",
      "        accuracy                           0.78       380\n",
      "       macro avg       0.81      0.78      0.77       380\n",
      "    weighted avg       0.81      0.78      0.77       380\n",
      "\n"
     ]
    },
    {
     "name": "stderr",
     "output_type": "stream",
     "text": [
      "Training Epochs:  92%|█████████▏| 1842/2000 [02:56<00:27,  5.66it/s]"
     ]
    },
    {
     "name": "stdout",
     "output_type": "stream",
     "text": [
      "Epoch 1840/2000, Loss: 0.0742\n",
      "Test Accuracy at Epoch 1840: 77.63%\n",
      "Test F1-score at Epoch 1840: 0.8037\n",
      "Classification Report at Epoch 1840:\n",
      "                  precision    recall  f1-score   support\n",
      "\n",
      "    infringement       0.91      0.62      0.74       194\n",
      "non_infringement       0.70      0.94      0.80       186\n",
      "\n",
      "        accuracy                           0.78       380\n",
      "       macro avg       0.81      0.78      0.77       380\n",
      "    weighted avg       0.81      0.78      0.77       380\n",
      "\n"
     ]
    },
    {
     "name": "stderr",
     "output_type": "stream",
     "text": [
      "Training Epochs:  93%|█████████▎| 1851/2000 [02:57<00:15,  9.60it/s]"
     ]
    },
    {
     "name": "stdout",
     "output_type": "stream",
     "text": [
      "Epoch 1850/2000, Loss: 0.0741\n",
      "Test Accuracy at Epoch 1850: 77.63%\n",
      "Test F1-score at Epoch 1850: 0.8037\n",
      "Classification Report at Epoch 1850:\n",
      "                  precision    recall  f1-score   support\n",
      "\n",
      "    infringement       0.91      0.62      0.74       194\n",
      "non_infringement       0.70      0.94      0.80       186\n",
      "\n",
      "        accuracy                           0.78       380\n",
      "       macro avg       0.81      0.78      0.77       380\n",
      "    weighted avg       0.81      0.78      0.77       380\n",
      "\n"
     ]
    },
    {
     "name": "stderr",
     "output_type": "stream",
     "text": [
      "Training Epochs:  93%|█████████▎| 1859/2000 [02:58<00:08, 17.08it/s]"
     ]
    },
    {
     "name": "stdout",
     "output_type": "stream",
     "text": [
      "Epoch 1860/2000, Loss: 0.0741\n",
      "Test Accuracy at Epoch 1860: 77.63%\n",
      "Test F1-score at Epoch 1860: 0.8037\n",
      "Classification Report at Epoch 1860:\n",
      "                  precision    recall  f1-score   support\n",
      "\n",
      "    infringement       0.91      0.62      0.74       194\n",
      "non_infringement       0.70      0.94      0.80       186\n",
      "\n",
      "        accuracy                           0.78       380\n",
      "       macro avg       0.81      0.78      0.77       380\n",
      "    weighted avg       0.81      0.78      0.77       380\n",
      "\n"
     ]
    },
    {
     "name": "stderr",
     "output_type": "stream",
     "text": [
      "Training Epochs:  94%|█████████▎| 1870/2000 [03:01<00:42,  3.03it/s]"
     ]
    },
    {
     "name": "stdout",
     "output_type": "stream",
     "text": [
      "Epoch 1870/2000, Loss: 0.0740\n",
      "Test Accuracy at Epoch 1870: 77.63%\n",
      "Test F1-score at Epoch 1870: 0.8037\n",
      "Classification Report at Epoch 1870:\n",
      "                  precision    recall  f1-score   support\n",
      "\n",
      "    infringement       0.91      0.62      0.74       194\n",
      "non_infringement       0.70      0.94      0.80       186\n",
      "\n",
      "        accuracy                           0.78       380\n",
      "       macro avg       0.81      0.78      0.77       380\n",
      "    weighted avg       0.81      0.78      0.77       380\n",
      "\n"
     ]
    },
    {
     "name": "stderr",
     "output_type": "stream",
     "text": [
      "Training Epochs:  94%|█████████▍| 1880/2000 [03:05<00:26,  4.60it/s]"
     ]
    },
    {
     "name": "stdout",
     "output_type": "stream",
     "text": [
      "Epoch 1880/2000, Loss: 0.0740\n",
      "Test Accuracy at Epoch 1880: 77.63%\n",
      "Test F1-score at Epoch 1880: 0.8037\n",
      "Classification Report at Epoch 1880:\n",
      "                  precision    recall  f1-score   support\n",
      "\n",
      "    infringement       0.91      0.62      0.74       194\n",
      "non_infringement       0.70      0.94      0.80       186\n",
      "\n",
      "        accuracy                           0.78       380\n",
      "       macro avg       0.81      0.78      0.77       380\n",
      "    weighted avg       0.81      0.78      0.77       380\n",
      "\n"
     ]
    },
    {
     "name": "stderr",
     "output_type": "stream",
     "text": [
      "Training Epochs:  95%|█████████▍| 1892/2000 [03:06<00:11,  9.30it/s]"
     ]
    },
    {
     "name": "stdout",
     "output_type": "stream",
     "text": [
      "Epoch 1890/2000, Loss: 0.0740\n",
      "Test Accuracy at Epoch 1890: 77.89%\n",
      "Test F1-score at Epoch 1890: 0.8056\n",
      "Classification Report at Epoch 1890:\n",
      "                  precision    recall  f1-score   support\n",
      "\n",
      "    infringement       0.91      0.63      0.74       194\n",
      "non_infringement       0.71      0.94      0.81       186\n",
      "\n",
      "        accuracy                           0.78       380\n",
      "       macro avg       0.81      0.78      0.77       380\n",
      "    weighted avg       0.81      0.78      0.77       380\n",
      "\n"
     ]
    },
    {
     "name": "stderr",
     "output_type": "stream",
     "text": [
      "Training Epochs:  95%|█████████▌| 1904/2000 [03:07<00:04, 20.11it/s]"
     ]
    },
    {
     "name": "stdout",
     "output_type": "stream",
     "text": [
      "Epoch 1900/2000, Loss: 0.0740\n",
      "Test Accuracy at Epoch 1900: 77.89%\n",
      "Test F1-score at Epoch 1900: 0.8056\n",
      "Classification Report at Epoch 1900:\n",
      "                  precision    recall  f1-score   support\n",
      "\n",
      "    infringement       0.91      0.63      0.74       194\n",
      "non_infringement       0.71      0.94      0.81       186\n",
      "\n",
      "        accuracy                           0.78       380\n",
      "       macro avg       0.81      0.78      0.77       380\n",
      "    weighted avg       0.81      0.78      0.77       380\n",
      "\n"
     ]
    },
    {
     "name": "stderr",
     "output_type": "stream",
     "text": [
      "Training Epochs:  96%|█████████▌| 1911/2000 [03:09<00:14,  6.05it/s]"
     ]
    },
    {
     "name": "stdout",
     "output_type": "stream",
     "text": [
      "Epoch 1910/2000, Loss: 0.0740\n",
      "Test Accuracy at Epoch 1910: 77.89%\n",
      "Test F1-score at Epoch 1910: 0.8056\n",
      "Classification Report at Epoch 1910:\n",
      "                  precision    recall  f1-score   support\n",
      "\n",
      "    infringement       0.91      0.63      0.74       194\n",
      "non_infringement       0.71      0.94      0.81       186\n",
      "\n",
      "        accuracy                           0.78       380\n",
      "       macro avg       0.81      0.78      0.77       380\n",
      "    weighted avg       0.81      0.78      0.77       380\n",
      "\n"
     ]
    },
    {
     "name": "stderr",
     "output_type": "stream",
     "text": [
      "Training Epochs:  96%|█████████▌| 1920/2000 [03:09<00:06, 11.65it/s]"
     ]
    },
    {
     "name": "stdout",
     "output_type": "stream",
     "text": [
      "Epoch 1920/2000, Loss: 0.0761\n",
      "Test Accuracy at Epoch 1920: 77.89%\n",
      "Test F1-score at Epoch 1920: 0.8056\n",
      "Classification Report at Epoch 1920:\n",
      "                  precision    recall  f1-score   support\n",
      "\n",
      "    infringement       0.91      0.63      0.74       194\n",
      "non_infringement       0.71      0.94      0.81       186\n",
      "\n",
      "        accuracy                           0.78       380\n",
      "       macro avg       0.81      0.78      0.77       380\n",
      "    weighted avg       0.81      0.78      0.77       380\n",
      "\n"
     ]
    },
    {
     "name": "stderr",
     "output_type": "stream",
     "text": [
      "Training Epochs:  97%|█████████▋| 1931/2000 [03:10<00:04, 16.39it/s]"
     ]
    },
    {
     "name": "stdout",
     "output_type": "stream",
     "text": [
      "Epoch 1930/2000, Loss: 0.0764\n",
      "Test Accuracy at Epoch 1930: 78.16%\n",
      "Test F1-score at Epoch 1930: 0.8047\n",
      "Classification Report at Epoch 1930:\n",
      "                  precision    recall  f1-score   support\n",
      "\n",
      "    infringement       0.89      0.65      0.75       194\n",
      "non_infringement       0.72      0.92      0.80       186\n",
      "\n",
      "        accuracy                           0.78       380\n",
      "       macro avg       0.80      0.78      0.78       380\n",
      "    weighted avg       0.81      0.78      0.78       380\n",
      "\n"
     ]
    },
    {
     "name": "stderr",
     "output_type": "stream",
     "text": [
      "Training Epochs:  97%|█████████▋| 1945/2000 [03:10<00:02, 27.00it/s]"
     ]
    },
    {
     "name": "stdout",
     "output_type": "stream",
     "text": [
      "Epoch 1940/2000, Loss: 0.0747\n",
      "Test Accuracy at Epoch 1940: 78.16%\n",
      "Test F1-score at Epoch 1940: 0.8065\n",
      "Classification Report at Epoch 1940:\n",
      "                  precision    recall  f1-score   support\n",
      "\n",
      "    infringement       0.91      0.64      0.75       194\n",
      "non_infringement       0.71      0.93      0.81       186\n",
      "\n",
      "        accuracy                           0.78       380\n",
      "       macro avg       0.81      0.78      0.78       380\n",
      "    weighted avg       0.81      0.78      0.78       380\n",
      "\n"
     ]
    },
    {
     "name": "stderr",
     "output_type": "stream",
     "text": [
      "Training Epochs:  98%|█████████▊| 1958/2000 [03:11<00:01, 33.72it/s]"
     ]
    },
    {
     "name": "stdout",
     "output_type": "stream",
     "text": [
      "Epoch 1950/2000, Loss: 0.0743\n",
      "Test Accuracy at Epoch 1950: 77.89%\n",
      "Test F1-score at Epoch 1950: 0.8047\n",
      "Classification Report at Epoch 1950:\n",
      "                  precision    recall  f1-score   support\n",
      "\n",
      "    infringement       0.90      0.63      0.75       194\n",
      "non_infringement       0.71      0.93      0.80       186\n",
      "\n",
      "        accuracy                           0.78       380\n",
      "       macro avg       0.81      0.78      0.78       380\n",
      "    weighted avg       0.81      0.78      0.77       380\n",
      "\n"
     ]
    },
    {
     "name": "stderr",
     "output_type": "stream",
     "text": [
      "Training Epochs:  98%|█████████▊| 1962/2000 [03:11<00:01, 34.61it/s]"
     ]
    },
    {
     "name": "stdout",
     "output_type": "stream",
     "text": [
      "Epoch 1960/2000, Loss: 0.0741\n",
      "Test Accuracy at Epoch 1960: 77.89%\n",
      "Test F1-score at Epoch 1960: 0.8056\n",
      "Classification Report at Epoch 1960:\n",
      "                  precision    recall  f1-score   support\n",
      "\n",
      "    infringement       0.91      0.63      0.74       194\n",
      "non_infringement       0.71      0.94      0.81       186\n",
      "\n",
      "        accuracy                           0.78       380\n",
      "       macro avg       0.81      0.78      0.77       380\n",
      "    weighted avg       0.81      0.78      0.77       380\n",
      "\n"
     ]
    },
    {
     "name": "stderr",
     "output_type": "stream",
     "text": [
      "Training Epochs:  98%|█████████▊| 1970/2000 [03:11<00:00, 31.31it/s]"
     ]
    },
    {
     "name": "stdout",
     "output_type": "stream",
     "text": [
      "Epoch 1970/2000, Loss: 0.0740\n",
      "Test Accuracy at Epoch 1970: 77.89%\n",
      "Test F1-score at Epoch 1970: 0.8056\n",
      "Classification Report at Epoch 1970:\n",
      "                  precision    recall  f1-score   support\n",
      "\n",
      "    infringement       0.91      0.63      0.74       194\n",
      "non_infringement       0.71      0.94      0.81       186\n",
      "\n",
      "        accuracy                           0.78       380\n",
      "       macro avg       0.81      0.78      0.77       380\n",
      "    weighted avg       0.81      0.78      0.77       380\n",
      "\n"
     ]
    },
    {
     "name": "stderr",
     "output_type": "stream",
     "text": [
      "Training Epochs:  99%|█████████▉| 1979/2000 [03:14<00:04,  4.95it/s]"
     ]
    },
    {
     "name": "stdout",
     "output_type": "stream",
     "text": [
      "Epoch 1980/2000, Loss: 0.0740\n",
      "Test Accuracy at Epoch 1980: 77.89%\n",
      "Test F1-score at Epoch 1980: 0.8056\n",
      "Classification Report at Epoch 1980:\n",
      "                  precision    recall  f1-score   support\n",
      "\n",
      "    infringement       0.91      0.63      0.74       194\n",
      "non_infringement       0.71      0.94      0.81       186\n",
      "\n",
      "        accuracy                           0.78       380\n",
      "       macro avg       0.81      0.78      0.77       380\n",
      "    weighted avg       0.81      0.78      0.77       380\n",
      "\n"
     ]
    },
    {
     "name": "stderr",
     "output_type": "stream",
     "text": [
      "Training Epochs: 100%|█████████▉| 1990/2000 [03:16<00:01,  5.76it/s]"
     ]
    },
    {
     "name": "stdout",
     "output_type": "stream",
     "text": [
      "Epoch 1990/2000, Loss: 0.0740\n",
      "Test Accuracy at Epoch 1990: 77.89%\n",
      "Test F1-score at Epoch 1990: 0.8056\n",
      "Classification Report at Epoch 1990:\n",
      "                  precision    recall  f1-score   support\n",
      "\n",
      "    infringement       0.91      0.63      0.74       194\n",
      "non_infringement       0.71      0.94      0.81       186\n",
      "\n",
      "        accuracy                           0.78       380\n",
      "       macro avg       0.81      0.78      0.77       380\n",
      "    weighted avg       0.81      0.78      0.77       380\n",
      "\n"
     ]
    },
    {
     "name": "stderr",
     "output_type": "stream",
     "text": [
      "Training Epochs: 100%|██████████| 2000/2000 [03:19<00:00, 10.01it/s]"
     ]
    },
    {
     "name": "stdout",
     "output_type": "stream",
     "text": [
      "Epoch 2000/2000, Loss: 0.0739\n",
      "Test Accuracy at Epoch 2000: 77.89%\n",
      "Test F1-score at Epoch 2000: 0.8056\n",
      "Classification Report at Epoch 2000:\n",
      "                  precision    recall  f1-score   support\n",
      "\n",
      "    infringement       0.91      0.63      0.74       194\n",
      "non_infringement       0.71      0.94      0.81       186\n",
      "\n",
      "        accuracy                           0.78       380\n",
      "       macro avg       0.81      0.78      0.77       380\n",
      "    weighted avg       0.81      0.78      0.77       380\n",
      "\n"
     ]
    },
    {
     "name": "stderr",
     "output_type": "stream",
     "text": [
      "\n",
      "/tmp/ipykernel_261154/2033666368.py:59: FutureWarning: You are using `torch.load` with `weights_only=False` (the current default value), which uses the default pickle module implicitly. It is possible to construct malicious pickle data which will execute arbitrary code during unpickling (See https://github.com/pytorch/pytorch/blob/main/SECURITY.md#untrusted-models for more details). In a future release, the default value for `weights_only` will be flipped to `True`. This limits the functions that could be executed during unpickling. Arbitrary objects will no longer be allowed to be loaded via this mode unless they are explicitly allowlisted by the user via `torch.serialization.add_safe_globals`. We recommend you start setting `weights_only=True` for any use case where you don't have full control of the loaded file. Please open an issue on GitHub for any issues related to this experimental feature.\n",
      "  custom_mlp.load_state_dict(torch.load(checkpoint_path))\n"
     ]
    },
    {
     "data": {
      "image/png": "[encoded data removed]",
      "text/plain": [
       "<Figure size 1000x500 with 1 Axes>"
      ]
     },
     "metadata": {},
     "output_type": "display_data"
    },
    {
     "name": "stdout",
     "output_type": "stream",
     "text": [
      "Final Model Accuracy: 81.58%\n",
      "Final Model F1-score: 0.8309\n"
     ]
    }
   ],
   "source": [
    "input_dim = X_train.shape[1]\n",
    "hidden_dim = 256 \n",
    "print(f\"Training MLP model with input_dim={input_dim} and hidden_dim={hidden_dim}\")\n",
    "\n",
    "custom_mlp, losses, best_accuracy, best_f1 = train_model(X_train, y_train, X_test, y_test, input_dim, hidden_dim)"
   ]
  },
  {
   "cell_type": "code",
   "execution_count": 10,
   "metadata": {},
   "outputs": [
    {
     "name": "stdout",
     "output_type": "stream",
     "text": [
      "Checkpoint saved to '/home/guangwei/LLM-COPYRIGHT/copyright_newVersion/models/train_input_reference_0_layer.pth'.\n"
     ]
    }
   ],
   "source": [
    "def save_checkpoint(model, optimizer, epoch, loss, filepath):\n",
    "    checkpoint = {\n",
    "        'epoch': epoch + 1,\n",
    "        'model_state_dict': model.state_dict(),\n",
    "        'optimizer_state_dict': optimizer.state_dict(),\n",
    "        'loss': loss\n",
    "    }\n",
    "    torch.save(checkpoint, filepath)\n",
    "    print(f\"Checkpoint saved to '{filepath}'.\")\n",
    "\n",
    "save_checkpoint(custom_mlp, torch.optim.Adam(custom_mlp.parameters()), len(losses), losses[-1], checkpoint_file)"
   ]
  },
  {
   "cell_type": "code",
   "execution_count": null,
   "metadata": {},
   "outputs": [
    {
     "name": "stdout",
     "output_type": "stream",
     "text": [
      "                  precision    recall  f1-score   support\n",
      "\n",
      "    infringement       0.91      0.71      0.80       194\n",
      "non_infringement       0.75      0.92      0.83       186\n",
      "\n",
      "        accuracy                           0.82       380\n",
      "       macro avg       0.83      0.82      0.81       380\n",
      "    weighted avg       0.83      0.82      0.81       380\n",
      "\n"
     ]
    },
    {
     "name": "stderr",
     "output_type": "stream",
     "text": [
      "/tmp/ipykernel_261154/2137335780.py:1: UserWarning: To copy construct from a tensor, it is recommended to use sourceTensor.clone().detach() or sourceTensor.clone().detach().requires_grad_(True), rather than torch.tensor(sourceTensor).\n",
      "  y_pred_final = (torch.sigmoid(torch.tensor(custom_mlp(torch.tensor(X_test, dtype=torch.float32)))) > 0.5).float().numpy()\n"
     ]
    },
    {
     "ename": "",
     "evalue": "",
     "output_type": "error",
     "traceback": [
      "\u001b[1;31mThe Kernel crashed while executing code in the current cell or a previous cell. \n",
      "\u001b[1;31mPlease review the code in the cell(s) to identify a possible cause of the failure. \n",
      "\u001b[1;31mClick <a href='https://aka.ms/vscodeJupyterKernelCrash'>here</a> for more info. \n",
      "\u001b[1;31mView Jupyter <a href='command:jupyter.viewOutput'>log</a> for further details."
     ]
    }
   ],
   "source": [
    "y_pred_final = (torch.sigmoid(torch.tensor(custom_mlp(torch.tensor(X_test, dtype=torch.float32)))) > 0.5).float().numpy()\n",
    "print(classification_report(y_test, y_pred_final, target_names=[\"infringement\", \"non_infringement\"]))"
   ]
  }
 ],
 "metadata": {
  "kernelspec": {
   "display_name": "zdh",
   "language": "python",
   "name": "python3"
  },
  "language_info": {
   "codemirror_mode": {
    "name": "ipython",
    "version": 3
   },
   "file_extension": ".py",
   "mimetype": "text/x-python",
   "name": "python",
   "nbconvert_exporter": "python",
   "pygments_lexer": "ipython3",
   "version": "3.12.3"
  }
 },
 "nbformat": 4,
 "nbformat_minor": 2
}
