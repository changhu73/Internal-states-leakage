{
 "cells": [
  {
   "cell_type": "code",
   "execution_count": 1,
   "metadata": {},
   "outputs": [
    {
     "name": "stderr",
     "output_type": "stream",
     "text": [
      "/home/guangwei/miniconda3/envs/zdh/lib/python3.12/site-packages/tqdm/auto.py:21: TqdmWarning: IProgress not found. Please update jupyter and ipywidgets. See https://ipywidgets.readthedocs.io/en/stable/user_install.html\n",
      "  from .autonotebook import tqdm as notebook_tqdm\n"
     ]
    }
   ],
   "source": [
    "# import packages\n",
    "import torch\n",
    "import torch.nn as nn\n",
    "import numpy as np\n",
    "from sklearn.metrics import accuracy_score, classification_report\n",
    "import matplotlib.pyplot as plt\n",
    "from tqdm import tqdm\n",
    "from transformers import AutoTokenizer, AutoModelForCausalLM\n",
    "import json\n",
    "import os\n",
    "\n",
    "os.environ[\"CUDA_VISIBLE_DEVICES\"] = \"5\"\n",
    "\n",
    "# Variables\n",
    "model_name = 'meta-llama/Meta-Llama-3.1-8B'\n",
    "non_infringement_file = '/home/guangwei/LLM-COPYRIGHT/copyright_newVersion/test_division/extra_30.non_infringement.json'\n",
    "infringement_file = '/home/guangwei/LLM-COPYRIGHT/copyright_newVersion/test_division/extra_30.infringement.json'\n",
    "checkpoint_file = '/home/guangwei/LLM-COPYRIGHT/copyright_newVersion/models/train_input_0_layer.pth'"
   ]
  },
  {
   "cell_type": "code",
   "execution_count": 2,
   "metadata": {},
   "outputs": [],
   "source": [
    "# Define CustumMLP for internal states train\n",
    "class CustomMLP(nn.Module):\n",
    "    def __init__(self, input_dim, hidden_dim):\n",
    "        super(CustomMLP, self).__init__()\n",
    "        self.down = nn.Linear(input_dim, hidden_dim)\n",
    "        self.gate = nn.Linear(input_dim, hidden_dim)\n",
    "        self.up = nn.Linear(hidden_dim, 1)\n",
    "        self.activation = nn.SiLU()\n",
    "\n",
    "    def forward(self, x):\n",
    "        down_output = self.down(x)\n",
    "        gate_output = self.gate(x)\n",
    "        gated_output = down_output * self.activation(gate_output)\n",
    "        return self.up(gated_output)"
   ]
  },
  {
   "cell_type": "code",
   "execution_count": 3,
   "metadata": {},
   "outputs": [],
   "source": [
    "# Only extract hidden states\n",
    "def extract_hidden_states(texts, model, tokenizer, batch_size=4):\n",
    "    device = torch.device(\"cuda\" if torch.cuda.is_available() else \"cpu\")\n",
    "    model.to(device)\n",
    "    model = nn.DataParallel(model)\n",
    "    hidden_states = []\n",
    "    for i in tqdm(range(0, len(texts), batch_size), desc=\"Processing data batches\"):\n",
    "        batch_texts = texts[i:i + batch_size]\n",
    "        inputs = tokenizer(batch_texts, return_tensors=\"pt\", padding=True, truncation=True).to(device)\n",
    "        with torch.no_grad():\n",
    "            outputs = model(**inputs)\n",
    "        hidden_states.append(outputs.hidden_states[2].mean(dim=1).cpu().numpy())\n",
    "    return np.vstack(hidden_states)"
   ]
  },
  {
   "cell_type": "code",
   "execution_count": 4,
   "metadata": {},
   "outputs": [],
   "source": [
    "# lode data for infringement & non infringement\n",
    "def load_data(non_infringement_file, infringement_file):\n",
    "    with open(non_infringement_file, 'r', encoding='utf-8') as file:\n",
    "        non_infringement_json_data = json.load(file)\n",
    "\n",
    "    non_infringement_outputs = [entry['input'] for entry in non_infringement_json_data]\n",
    "    y_non_infringement = [1] * len(non_infringement_outputs)\n",
    "\n",
    "    with open(infringement_file, 'r', encoding='utf-8') as file:\n",
    "        infringement_json_data = json.load(file)\n",
    "\n",
    "    infringement_outputs = [entry['input'] for entry in infringement_json_data]\n",
    "    y_infringement = [0] * len(infringement_outputs)\n",
    "\n",
    "    return non_infringement_outputs, y_non_infringement, infringement_outputs, y_infringement"
   ]
  },
  {
   "cell_type": "code",
   "execution_count": 5,
   "metadata": {},
   "outputs": [],
   "source": [
    "from sklearn.metrics import accuracy_score, classification_report, f1_score\n",
    "\n",
    "# Train for best model\n",
    "def train_model(X_train, y_train, X_test, y_test, input_dim, hidden_dim, epochs=2000, lr=0.001, checkpoint_path=checkpoint_file):\n",
    "    custom_mlp = CustomMLP(input_dim, hidden_dim)\n",
    "    criterion = nn.BCEWithLogitsLoss()\n",
    "    optimizer = torch.optim.Adam(custom_mlp.parameters(), lr=lr)\n",
    "\n",
    "    X_train_tensor = torch.tensor(X_train, dtype=torch.float32)\n",
    "    y_train_tensor = torch.tensor(y_train, dtype=torch.float32).unsqueeze(1)\n",
    "\n",
    "    best_accuracy = -float('inf')\n",
    "    best_f1 = -float('inf')  # Track best F1-score\n",
    "    best_model_state = None\n",
    "    best_epoch = 0\n",
    "    losses = []\n",
    "\n",
    "    for epoch in tqdm(range(epochs), desc=\"Training Epochs\"):\n",
    "        custom_mlp.train()\n",
    "        optimizer.zero_grad()\n",
    "        outputs = custom_mlp(X_train_tensor)\n",
    "        loss = criterion(outputs, y_train_tensor)\n",
    "        loss.backward()\n",
    "        optimizer.step()\n",
    "        losses.append(loss.item())\n",
    "\n",
    "        # Every 10 epochs, evaluate the model\n",
    "        if (epoch + 1) % 10 == 0:\n",
    "            print(f\"Epoch {epoch + 1}/{epochs}, Loss: {loss.item():.4f}\")\n",
    "            \n",
    "            custom_mlp.eval()\n",
    "            X_test_tensor = torch.tensor(X_test, dtype=torch.float32)\n",
    "            with torch.no_grad():\n",
    "                y_pred_logits = custom_mlp(X_test_tensor)\n",
    "                y_pred = (torch.sigmoid(y_pred_logits) > 0.5).float().numpy()\n",
    "            \n",
    "            # Calculate accuracy and F1-score\n",
    "            accuracy = accuracy_score(y_test, y_pred)\n",
    "            f1 = f1_score(y_test, y_pred)  # F1-score calculation\n",
    "            \n",
    "            print(f\"Test Accuracy at Epoch {epoch + 1}: {accuracy * 100:.2f}%\")\n",
    "            print(f\"Test F1-score at Epoch {epoch + 1}: {f1:.4f}\")\n",
    "            \n",
    "            # Generate classification report\n",
    "            report = classification_report(y_test, y_pred, target_names=[\"infringement\", \"non_infringement\"])\n",
    "            print(f\"Classification Report at Epoch {epoch + 1}:\\n{report}\")\n",
    "\n",
    "            # Save the model if it achieves a better F1-score\n",
    "            if f1 > best_f1:\n",
    "                best_accuracy = accuracy\n",
    "                best_f1 = f1\n",
    "                best_model_state = custom_mlp.state_dict()\n",
    "                best_epoch = epoch + 1\n",
    "                torch.save(best_model_state, checkpoint_path)\n",
    "                print(f\"New best model saved with F1-score {best_f1:.4f} at epoch {best_epoch}\")\n",
    "                print(f\"Best Classification Report at Epoch {best_epoch}:\\n{report}\")\n",
    "\n",
    "    # Load the best model state\n",
    "    custom_mlp.load_state_dict(torch.load(checkpoint_path))\n",
    "\n",
    "    # Plot loss curve\n",
    "    plt.figure(figsize=(10, 5))\n",
    "    plt.plot(losses, label='Training Loss')\n",
    "    plt.xlabel('Epoch')\n",
    "    plt.ylabel('Loss')\n",
    "    plt.title('Training Loss Curve')\n",
    "    plt.legend()\n",
    "    plt.show()\n",
    "\n",
    "    print(f\"Final Model Accuracy: {best_accuracy * 100:.2f}%\")\n",
    "    print(f\"Final Model F1-score: {best_f1:.4f}\")\n",
    "    \n",
    "    return custom_mlp, losses, best_accuracy, best_f1\n"
   ]
  },
  {
   "cell_type": "code",
   "execution_count": 6,
   "metadata": {},
   "outputs": [
    {
     "name": "stderr",
     "output_type": "stream",
     "text": [
      "/home/guangwei/miniconda3/envs/zdh/lib/python3.12/site-packages/transformers/generation/configuration_utils.py:777: UserWarning: `return_dict_in_generate` is NOT set to `True`, but `output_hidden_states` is. When `return_dict_in_generate` is not `True`, `output_hidden_states` is ignored.\n",
      "  warnings.warn(\n",
      "Loading checkpoint shards: 100%|██████████| 4/4 [00:07<00:00,  1.99s/it]\n"
     ]
    }
   ],
   "source": [
    "\n",
    "tokenizer = AutoTokenizer.from_pretrained(model_name, model_max_length=512)\n",
    "model = AutoModelForCausalLM.from_pretrained(model_name, output_hidden_states=True)\n",
    "tokenizer.pad_token = tokenizer.eos_token\n",
    "\n",
    "non_infringement_outputs, y_non_infringement, infringement_outputs, y_infringement = load_data(non_infringement_file, infringement_file)\n",
    "\n",
    "y_non_infringement = np.array(y_non_infringement)\n",
    "y_infringement = np.array(y_infringement)\n"
   ]
  },
  {
   "cell_type": "code",
   "execution_count": 7,
   "metadata": {},
   "outputs": [
    {
     "name": "stdout",
     "output_type": "stream",
     "text": [
      "Extracting hidden states for non_infringement texts...\n"
     ]
    },
    {
     "name": "stderr",
     "output_type": "stream",
     "text": [
      "Processing data batches:   0%|          | 0/232 [00:00<?, ?it/s]Starting from v4.46, the `logits` model output will have the same type as the model (except at train time, where it will always be FP32)\n",
      "Processing data batches: 100%|██████████| 232/232 [01:05<00:00,  3.55it/s]\n"
     ]
    },
    {
     "name": "stdout",
     "output_type": "stream",
     "text": [
      "Extracting hidden states for infringement texts...\n"
     ]
    },
    {
     "name": "stderr",
     "output_type": "stream",
     "text": [
      "Processing data batches: 100%|██████████| 243/243 [01:22<00:00,  2.96it/s]\n"
     ]
    }
   ],
   "source": [
    "print(\"Extracting hidden states for non_infringement texts...\")\n",
    "X_non_infringement = extract_hidden_states(non_infringement_outputs, model, tokenizer)\n",
    "\n",
    "print(\"Extracting hidden states for infringement texts...\")\n",
    "X_infringement = extract_hidden_states(infringement_outputs, model, tokenizer)"
   ]
  },
  {
   "cell_type": "code",
   "execution_count": 8,
   "metadata": {},
   "outputs": [
    {
     "name": "stdout",
     "output_type": "stream",
     "text": [
      "Data successfully split into training and test sets.\n"
     ]
    }
   ],
   "source": [
    "split_index_non_infringement = int(0.8 * len(X_non_infringement))\n",
    "X_non_infringement_train = X_non_infringement[:split_index_non_infringement]\n",
    "X_non_infringement_test = X_non_infringement[split_index_non_infringement:]\n",
    "y_non_infringement_train = y_non_infringement[:split_index_non_infringement]\n",
    "y_non_infringement_test = y_non_infringement[split_index_non_infringement:]\n",
    "\n",
    "split_index_infringement = int(0.8 * len(X_infringement))\n",
    "X_infringement_train = X_infringement[:split_index_infringement]\n",
    "X_infringement_test = X_infringement[split_index_infringement:]\n",
    "y_infringement_train = y_infringement[:split_index_infringement]\n",
    "y_infringement_test = y_infringement[split_index_infringement:]\n",
    "\n",
    "X_train = np.vstack((X_non_infringement_train, X_infringement_train))\n",
    "X_test = np.vstack((X_non_infringement_test, X_infringement_test))\n",
    "y_train = np.concatenate((y_non_infringement_train, y_infringement_train))\n",
    "y_test = np.concatenate((y_non_infringement_test, y_infringement_test))\n",
    "\n",
    "print(\"Data successfully split into training and test sets.\")"
   ]
  },
  {
   "cell_type": "code",
   "execution_count": 9,
   "metadata": {},
   "outputs": [
    {
     "name": "stdout",
     "output_type": "stream",
     "text": [
      "Training MLP model with input_dim=4096 and hidden_dim=256\n"
     ]
    },
    {
     "name": "stderr",
     "output_type": "stream",
     "text": [
      "Training Epochs:   1%|          | 12/2000 [00:03<04:20,  7.62it/s]"
     ]
    },
    {
     "name": "stdout",
     "output_type": "stream",
     "text": [
      "Epoch 10/2000, Loss: 0.6723\n",
      "Test Accuracy at Epoch 10: 59.21%\n",
      "Test F1-score at Epoch 10: 0.5845\n",
      "Classification Report at Epoch 10:\n",
      "                  precision    recall  f1-score   support\n",
      "\n",
      "    infringement       0.60      0.60      0.60       194\n",
      "non_infringement       0.58      0.59      0.58       186\n",
      "\n",
      "        accuracy                           0.59       380\n",
      "       macro avg       0.59      0.59      0.59       380\n",
      "    weighted avg       0.59      0.59      0.59       380\n",
      "\n",
      "New best model saved with F1-score 0.5845 at epoch 10\n",
      "Best Classification Report at Epoch 10:\n",
      "                  precision    recall  f1-score   support\n",
      "\n",
      "    infringement       0.60      0.60      0.60       194\n",
      "non_infringement       0.58      0.59      0.58       186\n",
      "\n",
      "        accuracy                           0.59       380\n",
      "       macro avg       0.59      0.59      0.59       380\n",
      "    weighted avg       0.59      0.59      0.59       380\n",
      "\n"
     ]
    },
    {
     "name": "stderr",
     "output_type": "stream",
     "text": [
      "Training Epochs:   1%|          | 20/2000 [00:06<14:59,  2.20it/s]"
     ]
    },
    {
     "name": "stdout",
     "output_type": "stream",
     "text": [
      "Epoch 20/2000, Loss: 0.6277\n",
      "Test Accuracy at Epoch 20: 59.21%\n",
      "Test F1-score at Epoch 20: 0.5910\n",
      "Classification Report at Epoch 20:\n",
      "                  precision    recall  f1-score   support\n",
      "\n",
      "    infringement       0.60      0.58      0.59       194\n",
      "non_infringement       0.58      0.60      0.59       186\n",
      "\n",
      "        accuracy                           0.59       380\n",
      "       macro avg       0.59      0.59      0.59       380\n",
      "    weighted avg       0.59      0.59      0.59       380\n",
      "\n",
      "New best model saved with F1-score 0.5910 at epoch 20\n",
      "Best Classification Report at Epoch 20:\n",
      "                  precision    recall  f1-score   support\n",
      "\n",
      "    infringement       0.60      0.58      0.59       194\n",
      "non_infringement       0.58      0.60      0.59       186\n",
      "\n",
      "        accuracy                           0.59       380\n",
      "       macro avg       0.59      0.59      0.59       380\n",
      "    weighted avg       0.59      0.59      0.59       380\n",
      "\n"
     ]
    },
    {
     "name": "stderr",
     "output_type": "stream",
     "text": [
      "Training Epochs:   2%|▏         | 30/2000 [00:11<18:53,  1.74it/s]"
     ]
    },
    {
     "name": "stdout",
     "output_type": "stream",
     "text": [
      "Epoch 30/2000, Loss: 0.5463\n",
      "Test Accuracy at Epoch 30: 68.68%\n",
      "Test F1-score at Epoch 30: 0.7018\n",
      "Classification Report at Epoch 30:\n",
      "                  precision    recall  f1-score   support\n",
      "\n",
      "    infringement       0.72      0.62      0.67       194\n",
      "non_infringement       0.66      0.75      0.70       186\n",
      "\n",
      "        accuracy                           0.69       380\n",
      "       macro avg       0.69      0.69      0.69       380\n",
      "    weighted avg       0.69      0.69      0.69       380\n",
      "\n",
      "New best model saved with F1-score 0.7018 at epoch 30\n",
      "Best Classification Report at Epoch 30:\n",
      "                  precision    recall  f1-score   support\n",
      "\n",
      "    infringement       0.72      0.62      0.67       194\n",
      "non_infringement       0.66      0.75      0.70       186\n",
      "\n",
      "        accuracy                           0.69       380\n",
      "       macro avg       0.69      0.69      0.69       380\n",
      "    weighted avg       0.69      0.69      0.69       380\n",
      "\n"
     ]
    },
    {
     "name": "stderr",
     "output_type": "stream",
     "text": [
      "Training Epochs:   2%|▏         | 40/2000 [00:16<15:23,  2.12it/s]"
     ]
    },
    {
     "name": "stdout",
     "output_type": "stream",
     "text": [
      "Epoch 40/2000, Loss: 0.4705\n",
      "Test Accuracy at Epoch 40: 69.47%\n",
      "Test F1-score at Epoch 40: 0.7277\n",
      "Classification Report at Epoch 40:\n",
      "                  precision    recall  f1-score   support\n",
      "\n",
      "    infringement       0.78      0.56      0.65       194\n",
      "non_infringement       0.65      0.83      0.73       186\n",
      "\n",
      "        accuracy                           0.69       380\n",
      "       macro avg       0.71      0.70      0.69       380\n",
      "    weighted avg       0.71      0.69      0.69       380\n",
      "\n",
      "New best model saved with F1-score 0.7277 at epoch 40\n",
      "Best Classification Report at Epoch 40:\n",
      "                  precision    recall  f1-score   support\n",
      "\n",
      "    infringement       0.78      0.56      0.65       194\n",
      "non_infringement       0.65      0.83      0.73       186\n",
      "\n",
      "        accuracy                           0.69       380\n",
      "       macro avg       0.71      0.70      0.69       380\n",
      "    weighted avg       0.71      0.69      0.69       380\n",
      "\n"
     ]
    },
    {
     "name": "stderr",
     "output_type": "stream",
     "text": [
      "Training Epochs:   2%|▎         | 50/2000 [00:21<18:37,  1.74it/s]"
     ]
    },
    {
     "name": "stdout",
     "output_type": "stream",
     "text": [
      "Epoch 50/2000, Loss: 0.4200\n",
      "Test Accuracy at Epoch 50: 69.47%\n",
      "Test F1-score at Epoch 50: 0.7277\n",
      "Classification Report at Epoch 50:\n",
      "                  precision    recall  f1-score   support\n",
      "\n",
      "    infringement       0.78      0.56      0.65       194\n",
      "non_infringement       0.65      0.83      0.73       186\n",
      "\n",
      "        accuracy                           0.69       380\n",
      "       macro avg       0.71      0.70      0.69       380\n",
      "    weighted avg       0.71      0.69      0.69       380\n",
      "\n"
     ]
    },
    {
     "name": "stderr",
     "output_type": "stream",
     "text": [
      "Training Epochs:   3%|▎         | 61/2000 [00:24<05:27,  5.92it/s]"
     ]
    },
    {
     "name": "stdout",
     "output_type": "stream",
     "text": [
      "Epoch 60/2000, Loss: 0.3897\n",
      "Test Accuracy at Epoch 60: 70.53%\n",
      "Test F1-score at Epoch 60: 0.7214\n",
      "Classification Report at Epoch 60:\n",
      "                  precision    recall  f1-score   support\n",
      "\n",
      "    infringement       0.75      0.63      0.69       194\n",
      "non_infringement       0.67      0.78      0.72       186\n",
      "\n",
      "        accuracy                           0.71       380\n",
      "       macro avg       0.71      0.71      0.70       380\n",
      "    weighted avg       0.71      0.71      0.70       380\n",
      "\n"
     ]
    },
    {
     "name": "stderr",
     "output_type": "stream",
     "text": [
      "Training Epochs:   4%|▎         | 73/2000 [00:28<06:02,  5.32it/s]"
     ]
    },
    {
     "name": "stdout",
     "output_type": "stream",
     "text": [
      "Epoch 70/2000, Loss: 0.3704\n",
      "Test Accuracy at Epoch 70: 70.26%\n",
      "Test F1-score at Epoch 70: 0.7290\n",
      "Classification Report at Epoch 70:\n",
      "                  precision    recall  f1-score   support\n",
      "\n",
      "    infringement       0.77      0.59      0.67       194\n",
      "non_infringement       0.66      0.82      0.73       186\n",
      "\n",
      "        accuracy                           0.70       380\n",
      "       macro avg       0.71      0.70      0.70       380\n",
      "    weighted avg       0.72      0.70      0.70       380\n",
      "\n",
      "New best model saved with F1-score 0.7290 at epoch 70\n",
      "Best Classification Report at Epoch 70:\n",
      "                  precision    recall  f1-score   support\n",
      "\n",
      "    infringement       0.77      0.59      0.67       194\n",
      "non_infringement       0.66      0.82      0.73       186\n",
      "\n",
      "        accuracy                           0.70       380\n",
      "       macro avg       0.71      0.70      0.70       380\n",
      "    weighted avg       0.72      0.70      0.70       380\n",
      "\n"
     ]
    },
    {
     "name": "stderr",
     "output_type": "stream",
     "text": [
      "Training Epochs:   4%|▍         | 80/2000 [00:29<04:27,  7.17it/s]"
     ]
    },
    {
     "name": "stdout",
     "output_type": "stream",
     "text": [
      "Epoch 80/2000, Loss: 0.3593\n",
      "Test Accuracy at Epoch 80: 73.16%\n",
      "Test F1-score at Epoch 80: 0.7617\n",
      "Classification Report at Epoch 80:\n",
      "                  precision    recall  f1-score   support\n",
      "\n",
      "    infringement       0.83      0.59      0.69       194\n",
      "non_infringement       0.67      0.88      0.76       186\n",
      "\n",
      "        accuracy                           0.73       380\n",
      "       macro avg       0.75      0.73      0.73       380\n",
      "    weighted avg       0.76      0.73      0.73       380\n",
      "\n",
      "New best model saved with F1-score 0.7617 at epoch 80\n",
      "Best Classification Report at Epoch 80:\n",
      "                  precision    recall  f1-score   support\n",
      "\n",
      "    infringement       0.83      0.59      0.69       194\n",
      "non_infringement       0.67      0.88      0.76       186\n",
      "\n",
      "        accuracy                           0.73       380\n",
      "       macro avg       0.75      0.73      0.73       380\n",
      "    weighted avg       0.76      0.73      0.73       380\n",
      "\n"
     ]
    },
    {
     "name": "stderr",
     "output_type": "stream",
     "text": [
      "Training Epochs:   5%|▍         | 93/2000 [00:30<02:29, 12.73it/s]"
     ]
    },
    {
     "name": "stdout",
     "output_type": "stream",
     "text": [
      "Epoch 90/2000, Loss: 0.3502\n",
      "Test Accuracy at Epoch 90: 73.16%\n",
      "Test F1-score at Epoch 90: 0.7560\n",
      "Classification Report at Epoch 90:\n",
      "                  precision    recall  f1-score   support\n",
      "\n",
      "    infringement       0.81      0.62      0.70       194\n",
      "non_infringement       0.68      0.85      0.76       186\n",
      "\n",
      "        accuracy                           0.73       380\n",
      "       macro avg       0.75      0.73      0.73       380\n",
      "    weighted avg       0.75      0.73      0.73       380\n",
      "\n"
     ]
    },
    {
     "name": "stderr",
     "output_type": "stream",
     "text": [
      "Training Epochs:   5%|▌         | 103/2000 [00:30<01:39, 19.05it/s]"
     ]
    },
    {
     "name": "stdout",
     "output_type": "stream",
     "text": [
      "Epoch 100/2000, Loss: 0.3440\n",
      "Test Accuracy at Epoch 100: 74.21%\n",
      "Test F1-score at Epoch 100: 0.7633\n",
      "Classification Report at Epoch 100:\n",
      "                  precision    recall  f1-score   support\n",
      "\n",
      "    infringement       0.82      0.64      0.72       194\n",
      "non_infringement       0.69      0.85      0.76       186\n",
      "\n",
      "        accuracy                           0.74       380\n",
      "       macro avg       0.75      0.74      0.74       380\n",
      "    weighted avg       0.76      0.74      0.74       380\n",
      "\n",
      "New best model saved with F1-score 0.7633 at epoch 100\n",
      "Best Classification Report at Epoch 100:\n",
      "                  precision    recall  f1-score   support\n",
      "\n",
      "    infringement       0.82      0.64      0.72       194\n",
      "non_infringement       0.69      0.85      0.76       186\n",
      "\n",
      "        accuracy                           0.74       380\n",
      "       macro avg       0.75      0.74      0.74       380\n",
      "    weighted avg       0.76      0.74      0.74       380\n",
      "\n"
     ]
    },
    {
     "name": "stderr",
     "output_type": "stream",
     "text": [
      "Training Epochs:   6%|▌         | 113/2000 [00:31<01:20, 23.49it/s]"
     ]
    },
    {
     "name": "stdout",
     "output_type": "stream",
     "text": [
      "Epoch 110/2000, Loss: 0.3385\n",
      "Test Accuracy at Epoch 110: 74.21%\n",
      "Test F1-score at Epoch 110: 0.7633\n",
      "Classification Report at Epoch 110:\n",
      "                  precision    recall  f1-score   support\n",
      "\n",
      "    infringement       0.82      0.64      0.72       194\n",
      "non_infringement       0.69      0.85      0.76       186\n",
      "\n",
      "        accuracy                           0.74       380\n",
      "       macro avg       0.75      0.74      0.74       380\n",
      "    weighted avg       0.76      0.74      0.74       380\n",
      "\n"
     ]
    },
    {
     "name": "stderr",
     "output_type": "stream",
     "text": [
      "Training Epochs:   6%|▌         | 122/2000 [00:31<01:21, 23.18it/s]"
     ]
    },
    {
     "name": "stdout",
     "output_type": "stream",
     "text": [
      "Epoch 120/2000, Loss: 0.3344\n",
      "Test Accuracy at Epoch 120: 75.26%\n",
      "Test F1-score at Epoch 120: 0.7696\n",
      "Classification Report at Epoch 120:\n",
      "                  precision    recall  f1-score   support\n",
      "\n",
      "    infringement       0.82      0.66      0.73       194\n",
      "non_infringement       0.71      0.84      0.77       186\n",
      "\n",
      "        accuracy                           0.75       380\n",
      "       macro avg       0.76      0.75      0.75       380\n",
      "    weighted avg       0.76      0.75      0.75       380\n",
      "\n",
      "New best model saved with F1-score 0.7696 at epoch 120\n",
      "Best Classification Report at Epoch 120:\n",
      "                  precision    recall  f1-score   support\n",
      "\n",
      "    infringement       0.82      0.66      0.73       194\n",
      "non_infringement       0.71      0.84      0.77       186\n",
      "\n",
      "        accuracy                           0.75       380\n",
      "       macro avg       0.76      0.75      0.75       380\n",
      "    weighted avg       0.76      0.75      0.75       380\n",
      "\n"
     ]
    },
    {
     "name": "stderr",
     "output_type": "stream",
     "text": [
      "Training Epochs:   7%|▋         | 133/2000 [00:31<01:10, 26.32it/s]"
     ]
    },
    {
     "name": "stdout",
     "output_type": "stream",
     "text": [
      "Epoch 130/2000, Loss: 0.3308\n",
      "Test Accuracy at Epoch 130: 75.00%\n",
      "Test F1-score at Epoch 130: 0.7677\n",
      "Classification Report at Epoch 130:\n",
      "                  precision    recall  f1-score   support\n",
      "\n",
      "    infringement       0.82      0.66      0.73       194\n",
      "non_infringement       0.70      0.84      0.77       186\n",
      "\n",
      "        accuracy                           0.75       380\n",
      "       macro avg       0.76      0.75      0.75       380\n",
      "    weighted avg       0.76      0.75      0.75       380\n",
      "\n"
     ]
    },
    {
     "name": "stderr",
     "output_type": "stream",
     "text": [
      "Training Epochs:   7%|▋         | 143/2000 [00:32<01:08, 27.20it/s]"
     ]
    },
    {
     "name": "stdout",
     "output_type": "stream",
     "text": [
      "Epoch 140/2000, Loss: 0.3251\n",
      "Test Accuracy at Epoch 140: 75.00%\n",
      "Test F1-score at Epoch 140: 0.7722\n",
      "Classification Report at Epoch 140:\n",
      "                  precision    recall  f1-score   support\n",
      "\n",
      "    infringement       0.83      0.64      0.72       194\n",
      "non_infringement       0.70      0.87      0.77       186\n",
      "\n",
      "        accuracy                           0.75       380\n",
      "       macro avg       0.76      0.75      0.75       380\n",
      "    weighted avg       0.77      0.75      0.75       380\n",
      "\n",
      "New best model saved with F1-score 0.7722 at epoch 140\n",
      "Best Classification Report at Epoch 140:\n",
      "                  precision    recall  f1-score   support\n",
      "\n",
      "    infringement       0.83      0.64      0.72       194\n",
      "non_infringement       0.70      0.87      0.77       186\n",
      "\n",
      "        accuracy                           0.75       380\n",
      "       macro avg       0.76      0.75      0.75       380\n",
      "    weighted avg       0.77      0.75      0.75       380\n",
      "\n"
     ]
    },
    {
     "name": "stderr",
     "output_type": "stream",
     "text": [
      "Training Epochs:   8%|▊         | 153/2000 [00:32<01:18, 23.54it/s]"
     ]
    },
    {
     "name": "stdout",
     "output_type": "stream",
     "text": [
      "Epoch 150/2000, Loss: 0.3199\n",
      "Test Accuracy at Epoch 150: 75.53%\n",
      "Test F1-score at Epoch 150: 0.7759\n",
      "Classification Report at Epoch 150:\n",
      "                  precision    recall  f1-score   support\n",
      "\n",
      "    infringement       0.83      0.65      0.73       194\n",
      "non_infringement       0.70      0.87      0.78       186\n",
      "\n",
      "        accuracy                           0.76       380\n",
      "       macro avg       0.77      0.76      0.75       380\n",
      "    weighted avg       0.77      0.76      0.75       380\n",
      "\n",
      "New best model saved with F1-score 0.7759 at epoch 150\n",
      "Best Classification Report at Epoch 150:\n",
      "                  precision    recall  f1-score   support\n",
      "\n",
      "    infringement       0.83      0.65      0.73       194\n",
      "non_infringement       0.70      0.87      0.78       186\n",
      "\n",
      "        accuracy                           0.76       380\n",
      "       macro avg       0.77      0.76      0.75       380\n",
      "    weighted avg       0.77      0.76      0.75       380\n",
      "\n"
     ]
    },
    {
     "name": "stderr",
     "output_type": "stream",
     "text": [
      "Training Epochs:   8%|▊         | 160/2000 [00:34<03:31,  8.70it/s]"
     ]
    },
    {
     "name": "stdout",
     "output_type": "stream",
     "text": [
      "Epoch 160/2000, Loss: 0.3136\n",
      "Test Accuracy at Epoch 160: 76.58%\n",
      "Test F1-score at Epoch 160: 0.7824\n",
      "Classification Report at Epoch 160:\n",
      "                  precision    recall  f1-score   support\n",
      "\n",
      "    infringement       0.83      0.68      0.75       194\n",
      "non_infringement       0.72      0.86      0.78       186\n",
      "\n",
      "        accuracy                           0.77       380\n",
      "       macro avg       0.78      0.77      0.76       380\n",
      "    weighted avg       0.78      0.77      0.76       380\n",
      "\n",
      "New best model saved with F1-score 0.7824 at epoch 160\n",
      "Best Classification Report at Epoch 160:\n",
      "                  precision    recall  f1-score   support\n",
      "\n",
      "    infringement       0.83      0.68      0.75       194\n",
      "non_infringement       0.72      0.86      0.78       186\n",
      "\n",
      "        accuracy                           0.77       380\n",
      "       macro avg       0.78      0.77      0.76       380\n",
      "    weighted avg       0.78      0.77      0.76       380\n",
      "\n"
     ]
    },
    {
     "name": "stderr",
     "output_type": "stream",
     "text": [
      "Training Epochs:   9%|▊         | 174/2000 [00:35<03:46,  8.07it/s]"
     ]
    },
    {
     "name": "stdout",
     "output_type": "stream",
     "text": [
      "Epoch 170/2000, Loss: 0.3082\n",
      "Test Accuracy at Epoch 170: 76.58%\n",
      "Test F1-score at Epoch 170: 0.7886\n",
      "Classification Report at Epoch 170:\n",
      "                  precision    recall  f1-score   support\n",
      "\n",
      "    infringement       0.86      0.64      0.74       194\n",
      "non_infringement       0.71      0.89      0.79       186\n",
      "\n",
      "        accuracy                           0.77       380\n",
      "       macro avg       0.78      0.77      0.76       380\n",
      "    weighted avg       0.79      0.77      0.76       380\n",
      "\n",
      "New best model saved with F1-score 0.7886 at epoch 170\n",
      "Best Classification Report at Epoch 170:\n",
      "                  precision    recall  f1-score   support\n",
      "\n",
      "    infringement       0.86      0.64      0.74       194\n",
      "non_infringement       0.71      0.89      0.79       186\n",
      "\n",
      "        accuracy                           0.77       380\n",
      "       macro avg       0.78      0.77      0.76       380\n",
      "    weighted avg       0.79      0.77      0.76       380\n",
      "\n"
     ]
    },
    {
     "name": "stderr",
     "output_type": "stream",
     "text": [
      "Training Epochs:   9%|▉         | 184/2000 [00:36<02:02, 14.85it/s]"
     ]
    },
    {
     "name": "stdout",
     "output_type": "stream",
     "text": [
      "Epoch 180/2000, Loss: 0.3031\n",
      "Test Accuracy at Epoch 180: 75.79%\n",
      "Test F1-score at Epoch 180: 0.7723\n",
      "Classification Report at Epoch 180:\n",
      "                  precision    recall  f1-score   support\n",
      "\n",
      "    infringement       0.81      0.68      0.74       194\n",
      "non_infringement       0.72      0.84      0.77       186\n",
      "\n",
      "        accuracy                           0.76       380\n",
      "       macro avg       0.77      0.76      0.76       380\n",
      "    weighted avg       0.77      0.76      0.76       380\n",
      "\n"
     ]
    },
    {
     "name": "stderr",
     "output_type": "stream",
     "text": [
      "Training Epochs:  10%|▉         | 193/2000 [00:36<01:37, 18.45it/s]"
     ]
    },
    {
     "name": "stdout",
     "output_type": "stream",
     "text": [
      "Epoch 190/2000, Loss: 0.2938\n",
      "Test Accuracy at Epoch 190: 77.11%\n",
      "Test F1-score at Epoch 190: 0.7914\n",
      "Classification Report at Epoch 190:\n",
      "                  precision    recall  f1-score   support\n",
      "\n",
      "    infringement       0.86      0.66      0.75       194\n",
      "non_infringement       0.71      0.89      0.79       186\n",
      "\n",
      "        accuracy                           0.77       380\n",
      "       macro avg       0.79      0.77      0.77       380\n",
      "    weighted avg       0.79      0.77      0.77       380\n",
      "\n",
      "New best model saved with F1-score 0.7914 at epoch 190\n",
      "Best Classification Report at Epoch 190:\n",
      "                  precision    recall  f1-score   support\n",
      "\n",
      "    infringement       0.86      0.66      0.75       194\n",
      "non_infringement       0.71      0.89      0.79       186\n",
      "\n",
      "        accuracy                           0.77       380\n",
      "       macro avg       0.79      0.77      0.77       380\n",
      "    weighted avg       0.79      0.77      0.77       380\n",
      "\n"
     ]
    },
    {
     "name": "stderr",
     "output_type": "stream",
     "text": [
      "Training Epochs:  10%|█         | 200/2000 [00:36<01:29, 20.16it/s]"
     ]
    },
    {
     "name": "stdout",
     "output_type": "stream",
     "text": [
      "Epoch 200/2000, Loss: 0.2856\n",
      "Test Accuracy at Epoch 200: 76.84%\n",
      "Test F1-score at Epoch 200: 0.7854\n",
      "Classification Report at Epoch 200:\n",
      "                  precision    recall  f1-score   support\n",
      "\n",
      "    infringement       0.84      0.68      0.75       194\n",
      "non_infringement       0.72      0.87      0.79       186\n",
      "\n",
      "        accuracy                           0.77       380\n",
      "       macro avg       0.78      0.77      0.77       380\n",
      "    weighted avg       0.78      0.77      0.77       380\n",
      "\n"
     ]
    },
    {
     "name": "stderr",
     "output_type": "stream",
     "text": [
      "Training Epochs:  11%|█         | 213/2000 [00:37<01:36, 18.44it/s]"
     ]
    },
    {
     "name": "stdout",
     "output_type": "stream",
     "text": [
      "Epoch 210/2000, Loss: 0.2762\n",
      "Test Accuracy at Epoch 210: 76.58%\n",
      "Test F1-score at Epoch 210: 0.7835\n",
      "Classification Report at Epoch 210:\n",
      "                  precision    recall  f1-score   support\n",
      "\n",
      "    infringement       0.84      0.67      0.74       194\n",
      "non_infringement       0.72      0.87      0.78       186\n",
      "\n",
      "        accuracy                           0.77       380\n",
      "       macro avg       0.78      0.77      0.76       380\n",
      "    weighted avg       0.78      0.77      0.76       380\n",
      "\n"
     ]
    },
    {
     "name": "stderr",
     "output_type": "stream",
     "text": [
      "Training Epochs:  11%|█         | 222/2000 [00:38<01:25, 20.85it/s]"
     ]
    },
    {
     "name": "stdout",
     "output_type": "stream",
     "text": [
      "Epoch 220/2000, Loss: 0.2659\n",
      "Test Accuracy at Epoch 220: 77.11%\n",
      "Test F1-score at Epoch 220: 0.7873\n",
      "Classification Report at Epoch 220:\n",
      "                  precision    recall  f1-score   support\n",
      "\n",
      "    infringement       0.84      0.68      0.75       194\n",
      "non_infringement       0.72      0.87      0.79       186\n",
      "\n",
      "        accuracy                           0.77       380\n",
      "       macro avg       0.78      0.77      0.77       380\n",
      "    weighted avg       0.78      0.77      0.77       380\n",
      "\n"
     ]
    },
    {
     "name": "stderr",
     "output_type": "stream",
     "text": [
      "Training Epochs:  12%|█▏        | 231/2000 [00:38<01:20, 22.02it/s]"
     ]
    },
    {
     "name": "stdout",
     "output_type": "stream",
     "text": [
      "Epoch 230/2000, Loss: 0.2553\n",
      "Test Accuracy at Epoch 230: 77.63%\n",
      "Test F1-score at Epoch 230: 0.7932\n",
      "Classification Report at Epoch 230:\n",
      "                  precision    recall  f1-score   support\n",
      "\n",
      "    infringement       0.85      0.68      0.76       194\n",
      "non_infringement       0.72      0.88      0.79       186\n",
      "\n",
      "        accuracy                           0.78       380\n",
      "       macro avg       0.79      0.78      0.77       380\n",
      "    weighted avg       0.79      0.78      0.77       380\n",
      "\n",
      "New best model saved with F1-score 0.7932 at epoch 230\n",
      "Best Classification Report at Epoch 230:\n",
      "                  precision    recall  f1-score   support\n",
      "\n",
      "    infringement       0.85      0.68      0.76       194\n",
      "non_infringement       0.72      0.88      0.79       186\n",
      "\n",
      "        accuracy                           0.78       380\n",
      "       macro avg       0.79      0.78      0.77       380\n",
      "    weighted avg       0.79      0.78      0.77       380\n",
      "\n"
     ]
    },
    {
     "name": "stderr",
     "output_type": "stream",
     "text": [
      "Training Epochs:  12%|█▏        | 244/2000 [00:39<01:13, 24.00it/s]"
     ]
    },
    {
     "name": "stdout",
     "output_type": "stream",
     "text": [
      "Epoch 240/2000, Loss: 0.2481\n",
      "Test Accuracy at Epoch 240: 75.00%\n",
      "Test F1-score at Epoch 240: 0.7765\n",
      "Classification Report at Epoch 240:\n",
      "                  precision    recall  f1-score   support\n",
      "\n",
      "    infringement       0.85      0.62      0.72       194\n",
      "non_infringement       0.69      0.89      0.78       186\n",
      "\n",
      "        accuracy                           0.75       380\n",
      "       macro avg       0.77      0.75      0.75       380\n",
      "    weighted avg       0.77      0.75      0.75       380\n",
      "\n"
     ]
    },
    {
     "name": "stderr",
     "output_type": "stream",
     "text": [
      "Training Epochs:  13%|█▎        | 256/2000 [00:39<01:03, 27.63it/s]"
     ]
    },
    {
     "name": "stdout",
     "output_type": "stream",
     "text": [
      "Epoch 250/2000, Loss: 0.2393\n",
      "Test Accuracy at Epoch 250: 75.26%\n",
      "Test F1-score at Epoch 250: 0.7773\n",
      "Classification Report at Epoch 250:\n",
      "                  precision    recall  f1-score   support\n",
      "\n",
      "    infringement       0.85      0.63      0.72       194\n",
      "non_infringement       0.69      0.88      0.78       186\n",
      "\n",
      "        accuracy                           0.75       380\n",
      "       macro avg       0.77      0.76      0.75       380\n",
      "    weighted avg       0.77      0.75      0.75       380\n",
      "\n"
     ]
    },
    {
     "name": "stderr",
     "output_type": "stream",
     "text": [
      "Training Epochs:  13%|█▎        | 262/2000 [00:39<01:11, 24.35it/s]"
     ]
    },
    {
     "name": "stdout",
     "output_type": "stream",
     "text": [
      "Epoch 260/2000, Loss: 0.2265\n",
      "Test Accuracy at Epoch 260: 79.21%\n",
      "Test F1-score at Epoch 260: 0.8030\n",
      "Classification Report at Epoch 260:\n",
      "                  precision    recall  f1-score   support\n",
      "\n",
      "    infringement       0.85      0.72      0.78       194\n",
      "non_infringement       0.75      0.87      0.80       186\n",
      "\n",
      "        accuracy                           0.79       380\n",
      "       macro avg       0.80      0.79      0.79       380\n",
      "    weighted avg       0.80      0.79      0.79       380\n",
      "\n",
      "New best model saved with F1-score 0.8030 at epoch 260\n",
      "Best Classification Report at Epoch 260:\n",
      "                  precision    recall  f1-score   support\n",
      "\n",
      "    infringement       0.85      0.72      0.78       194\n",
      "non_infringement       0.75      0.87      0.80       186\n",
      "\n",
      "        accuracy                           0.79       380\n",
      "       macro avg       0.80      0.79      0.79       380\n",
      "    weighted avg       0.80      0.79      0.79       380\n",
      "\n"
     ]
    },
    {
     "name": "stderr",
     "output_type": "stream",
     "text": [
      "Training Epochs:  14%|█▎        | 274/2000 [00:40<01:13, 23.57it/s]"
     ]
    },
    {
     "name": "stdout",
     "output_type": "stream",
     "text": [
      "Epoch 270/2000, Loss: 0.2180\n",
      "Test Accuracy at Epoch 270: 76.05%\n",
      "Test F1-score at Epoch 270: 0.7818\n",
      "Classification Report at Epoch 270:\n",
      "                  precision    recall  f1-score   support\n",
      "\n",
      "    infringement       0.85      0.65      0.73       194\n",
      "non_infringement       0.71      0.88      0.78       186\n",
      "\n",
      "        accuracy                           0.76       380\n",
      "       macro avg       0.78      0.76      0.76       380\n",
      "    weighted avg       0.78      0.76      0.76       380\n",
      "\n"
     ]
    },
    {
     "name": "stderr",
     "output_type": "stream",
     "text": [
      "Training Epochs:  14%|█▍        | 283/2000 [00:40<01:12, 23.71it/s]"
     ]
    },
    {
     "name": "stdout",
     "output_type": "stream",
     "text": [
      "Epoch 280/2000, Loss: 0.2094\n",
      "Test Accuracy at Epoch 280: 75.53%\n",
      "Test F1-score at Epoch 280: 0.7780\n",
      "Classification Report at Epoch 280:\n",
      "                  precision    recall  f1-score   support\n",
      "\n",
      "    infringement       0.84      0.64      0.73       194\n",
      "non_infringement       0.70      0.88      0.78       186\n",
      "\n",
      "        accuracy                           0.76       380\n",
      "       macro avg       0.77      0.76      0.75       380\n",
      "    weighted avg       0.77      0.76      0.75       380\n",
      "\n"
     ]
    },
    {
     "name": "stderr",
     "output_type": "stream",
     "text": [
      "Training Epochs:  14%|█▍        | 290/2000 [00:41<02:04, 13.79it/s]"
     ]
    },
    {
     "name": "stdout",
     "output_type": "stream",
     "text": [
      "Epoch 290/2000, Loss: 0.2016\n",
      "Test Accuracy at Epoch 290: 75.79%\n",
      "Test F1-score at Epoch 290: 0.7799\n",
      "Classification Report at Epoch 290:\n",
      "                  precision    recall  f1-score   support\n",
      "\n",
      "    infringement       0.84      0.64      0.73       194\n",
      "non_infringement       0.70      0.88      0.78       186\n",
      "\n",
      "        accuracy                           0.76       380\n",
      "       macro avg       0.77      0.76      0.76       380\n",
      "    weighted avg       0.78      0.76      0.75       380\n",
      "\n"
     ]
    },
    {
     "name": "stderr",
     "output_type": "stream",
     "text": [
      "Training Epochs:  15%|█▌        | 302/2000 [00:41<01:37, 17.43it/s]"
     ]
    },
    {
     "name": "stdout",
     "output_type": "stream",
     "text": [
      "Epoch 300/2000, Loss: 0.1939\n",
      "Test Accuracy at Epoch 300: 75.53%\n",
      "Test F1-score at Epoch 300: 0.7780\n",
      "Classification Report at Epoch 300:\n",
      "                  precision    recall  f1-score   support\n",
      "\n",
      "    infringement       0.84      0.64      0.73       194\n",
      "non_infringement       0.70      0.88      0.78       186\n",
      "\n",
      "        accuracy                           0.76       380\n",
      "       macro avg       0.77      0.76      0.75       380\n",
      "    weighted avg       0.77      0.76      0.75       380\n",
      "\n"
     ]
    },
    {
     "name": "stderr",
     "output_type": "stream",
     "text": [
      "Training Epochs:  16%|█▌        | 311/2000 [00:42<01:36, 17.58it/s]"
     ]
    },
    {
     "name": "stdout",
     "output_type": "stream",
     "text": [
      "Epoch 310/2000, Loss: 0.1883\n",
      "Test Accuracy at Epoch 310: 75.79%\n",
      "Test F1-score at Epoch 310: 0.7810\n",
      "Classification Report at Epoch 310:\n",
      "                  precision    recall  f1-score   support\n",
      "\n",
      "    infringement       0.85      0.64      0.73       194\n",
      "non_infringement       0.70      0.88      0.78       186\n",
      "\n",
      "        accuracy                           0.76       380\n",
      "       macro avg       0.78      0.76      0.76       380\n",
      "    weighted avg       0.78      0.76      0.75       380\n",
      "\n"
     ]
    },
    {
     "name": "stderr",
     "output_type": "stream",
     "text": [
      "Training Epochs:  16%|█▋        | 327/2000 [00:42<01:01, 27.28it/s]"
     ]
    },
    {
     "name": "stdout",
     "output_type": "stream",
     "text": [
      "Epoch 320/2000, Loss: 0.1860\n",
      "Test Accuracy at Epoch 320: 75.79%\n",
      "Test F1-score at Epoch 320: 0.7810\n",
      "Classification Report at Epoch 320:\n",
      "                  precision    recall  f1-score   support\n",
      "\n",
      "    infringement       0.85      0.64      0.73       194\n",
      "non_infringement       0.70      0.88      0.78       186\n",
      "\n",
      "        accuracy                           0.76       380\n",
      "       macro avg       0.78      0.76      0.76       380\n",
      "    weighted avg       0.78      0.76      0.75       380\n",
      "\n"
     ]
    },
    {
     "name": "stderr",
     "output_type": "stream",
     "text": [
      "Training Epochs:  17%|█▋        | 331/2000 [00:43<00:58, 28.34it/s]"
     ]
    },
    {
     "name": "stdout",
     "output_type": "stream",
     "text": [
      "Epoch 330/2000, Loss: 0.1774\n",
      "Test Accuracy at Epoch 330: 77.37%\n",
      "Test F1-score at Epoch 330: 0.7902\n",
      "Classification Report at Epoch 330:\n",
      "                  precision    recall  f1-score   support\n",
      "\n",
      "    infringement       0.85      0.68      0.75       194\n",
      "non_infringement       0.72      0.87      0.79       186\n",
      "\n",
      "        accuracy                           0.77       380\n",
      "       macro avg       0.78      0.78      0.77       380\n",
      "    weighted avg       0.79      0.77      0.77       380\n",
      "\n"
     ]
    },
    {
     "name": "stderr",
     "output_type": "stream",
     "text": [
      "Training Epochs:  17%|█▋        | 343/2000 [00:43<00:53, 30.79it/s]"
     ]
    },
    {
     "name": "stdout",
     "output_type": "stream",
     "text": [
      "Epoch 340/2000, Loss: 0.1729\n",
      "Test Accuracy at Epoch 340: 75.53%\n",
      "Test F1-score at Epoch 340: 0.7780\n",
      "Classification Report at Epoch 340:\n",
      "                  precision    recall  f1-score   support\n",
      "\n",
      "    infringement       0.84      0.64      0.73       194\n",
      "non_infringement       0.70      0.88      0.78       186\n",
      "\n",
      "        accuracy                           0.76       380\n",
      "       macro avg       0.77      0.76      0.75       380\n",
      "    weighted avg       0.77      0.76      0.75       380\n",
      "\n"
     ]
    },
    {
     "name": "stderr",
     "output_type": "stream",
     "text": [
      "Training Epochs:  18%|█▊        | 356/2000 [00:43<00:49, 33.47it/s]"
     ]
    },
    {
     "name": "stdout",
     "output_type": "stream",
     "text": [
      "Epoch 350/2000, Loss: 0.1682\n",
      "Test Accuracy at Epoch 350: 75.79%\n",
      "Test F1-score at Epoch 350: 0.7810\n",
      "Classification Report at Epoch 350:\n",
      "                  precision    recall  f1-score   support\n",
      "\n",
      "    infringement       0.85      0.64      0.73       194\n",
      "non_infringement       0.70      0.88      0.78       186\n",
      "\n",
      "        accuracy                           0.76       380\n",
      "       macro avg       0.78      0.76      0.76       380\n",
      "    weighted avg       0.78      0.76      0.75       380\n",
      "\n"
     ]
    },
    {
     "name": "stderr",
     "output_type": "stream",
     "text": [
      "Training Epochs:  18%|█▊        | 364/2000 [00:44<00:50, 32.24it/s]"
     ]
    },
    {
     "name": "stdout",
     "output_type": "stream",
     "text": [
      "Epoch 360/2000, Loss: 0.1643\n",
      "Test Accuracy at Epoch 360: 75.53%\n",
      "Test F1-score at Epoch 360: 0.7780\n",
      "Classification Report at Epoch 360:\n",
      "                  precision    recall  f1-score   support\n",
      "\n",
      "    infringement       0.84      0.64      0.73       194\n",
      "non_infringement       0.70      0.88      0.78       186\n",
      "\n",
      "        accuracy                           0.76       380\n",
      "       macro avg       0.77      0.76      0.75       380\n",
      "    weighted avg       0.77      0.76      0.75       380\n",
      "\n"
     ]
    },
    {
     "name": "stderr",
     "output_type": "stream",
     "text": [
      "Training Epochs:  19%|█▊        | 372/2000 [00:44<00:52, 30.90it/s]"
     ]
    },
    {
     "name": "stdout",
     "output_type": "stream",
     "text": [
      "Epoch 370/2000, Loss: 0.1606\n",
      "Test Accuracy at Epoch 370: 75.79%\n",
      "Test F1-score at Epoch 370: 0.7810\n",
      "Classification Report at Epoch 370:\n",
      "                  precision    recall  f1-score   support\n",
      "\n",
      "    infringement       0.85      0.64      0.73       194\n",
      "non_infringement       0.70      0.88      0.78       186\n",
      "\n",
      "        accuracy                           0.76       380\n",
      "       macro avg       0.78      0.76      0.76       380\n",
      "    weighted avg       0.78      0.76      0.75       380\n",
      "\n"
     ]
    },
    {
     "name": "stderr",
     "output_type": "stream",
     "text": [
      "Training Epochs:  19%|█▉        | 381/2000 [00:44<00:47, 34.30it/s]"
     ]
    },
    {
     "name": "stdout",
     "output_type": "stream",
     "text": [
      "Epoch 380/2000, Loss: 0.1573\n",
      "Test Accuracy at Epoch 380: 75.53%\n",
      "Test F1-score at Epoch 380: 0.7780\n",
      "Classification Report at Epoch 380:\n",
      "                  precision    recall  f1-score   support\n",
      "\n",
      "    infringement       0.84      0.64      0.73       194\n",
      "non_infringement       0.70      0.88      0.78       186\n",
      "\n",
      "        accuracy                           0.76       380\n",
      "       macro avg       0.77      0.76      0.75       380\n",
      "    weighted avg       0.77      0.76      0.75       380\n",
      "\n"
     ]
    },
    {
     "name": "stderr",
     "output_type": "stream",
     "text": [
      "Training Epochs:  19%|█▉        | 389/2000 [00:44<00:54, 29.50it/s]"
     ]
    },
    {
     "name": "stdout",
     "output_type": "stream",
     "text": [
      "Epoch 390/2000, Loss: 0.1666\n",
      "Test Accuracy at Epoch 390: 77.63%\n",
      "Test F1-score at Epoch 390: 0.7932\n",
      "Classification Report at Epoch 390:\n",
      "                  precision    recall  f1-score   support\n",
      "\n",
      "    infringement       0.85      0.68      0.76       194\n",
      "non_infringement       0.72      0.88      0.79       186\n",
      "\n",
      "        accuracy                           0.78       380\n",
      "       macro avg       0.79      0.78      0.77       380\n",
      "    weighted avg       0.79      0.78      0.77       380\n",
      "\n"
     ]
    },
    {
     "name": "stderr",
     "output_type": "stream",
     "text": [
      "Training Epochs:  20%|██        | 404/2000 [00:45<01:04, 24.59it/s]"
     ]
    },
    {
     "name": "stdout",
     "output_type": "stream",
     "text": [
      "Epoch 400/2000, Loss: 0.1529\n",
      "Test Accuracy at Epoch 400: 75.79%\n",
      "Test F1-score at Epoch 400: 0.7810\n",
      "Classification Report at Epoch 400:\n",
      "                  precision    recall  f1-score   support\n",
      "\n",
      "    infringement       0.85      0.64      0.73       194\n",
      "non_infringement       0.70      0.88      0.78       186\n",
      "\n",
      "        accuracy                           0.76       380\n",
      "       macro avg       0.78      0.76      0.76       380\n",
      "    weighted avg       0.78      0.76      0.75       380\n",
      "\n"
     ]
    },
    {
     "name": "stderr",
     "output_type": "stream",
     "text": [
      "Training Epochs:  21%|██        | 411/2000 [00:45<00:58, 27.24it/s]"
     ]
    },
    {
     "name": "stdout",
     "output_type": "stream",
     "text": [
      "Epoch 410/2000, Loss: 0.1499\n",
      "Test Accuracy at Epoch 410: 75.79%\n",
      "Test F1-score at Epoch 410: 0.7810\n",
      "Classification Report at Epoch 410:\n",
      "                  precision    recall  f1-score   support\n",
      "\n",
      "    infringement       0.85      0.64      0.73       194\n",
      "non_infringement       0.70      0.88      0.78       186\n",
      "\n",
      "        accuracy                           0.76       380\n",
      "       macro avg       0.78      0.76      0.76       380\n",
      "    weighted avg       0.78      0.76      0.75       380\n",
      "\n"
     ]
    },
    {
     "name": "stderr",
     "output_type": "stream",
     "text": [
      "Training Epochs:  21%|██        | 423/2000 [00:46<00:51, 30.70it/s]"
     ]
    },
    {
     "name": "stdout",
     "output_type": "stream",
     "text": [
      "Epoch 420/2000, Loss: 0.1479\n",
      "Test Accuracy at Epoch 420: 75.79%\n",
      "Test F1-score at Epoch 420: 0.7810\n",
      "Classification Report at Epoch 420:\n",
      "                  precision    recall  f1-score   support\n",
      "\n",
      "    infringement       0.85      0.64      0.73       194\n",
      "non_infringement       0.70      0.88      0.78       186\n",
      "\n",
      "        accuracy                           0.76       380\n",
      "       macro avg       0.78      0.76      0.76       380\n",
      "    weighted avg       0.78      0.76      0.75       380\n",
      "\n"
     ]
    },
    {
     "name": "stderr",
     "output_type": "stream",
     "text": [
      "Training Epochs:  21%|██▏       | 427/2000 [00:46<00:56, 27.68it/s]"
     ]
    },
    {
     "name": "stdout",
     "output_type": "stream",
     "text": [
      "Epoch 430/2000, Loss: 0.1459\n",
      "Test Accuracy at Epoch 430: 75.79%\n",
      "Test F1-score at Epoch 430: 0.7810\n",
      "Classification Report at Epoch 430:\n",
      "                  precision    recall  f1-score   support\n",
      "\n",
      "    infringement       0.85      0.64      0.73       194\n",
      "non_infringement       0.70      0.88      0.78       186\n",
      "\n",
      "        accuracy                           0.76       380\n",
      "       macro avg       0.78      0.76      0.76       380\n",
      "    weighted avg       0.78      0.76      0.75       380\n",
      "\n"
     ]
    },
    {
     "name": "stderr",
     "output_type": "stream",
     "text": [
      "Training Epochs:  22%|██▏       | 442/2000 [00:48<02:36,  9.93it/s]"
     ]
    },
    {
     "name": "stdout",
     "output_type": "stream",
     "text": [
      "Epoch 440/2000, Loss: 0.1443\n",
      "Test Accuracy at Epoch 440: 75.53%\n",
      "Test F1-score at Epoch 440: 0.7780\n",
      "Classification Report at Epoch 440:\n",
      "                  precision    recall  f1-score   support\n",
      "\n",
      "    infringement       0.84      0.64      0.73       194\n",
      "non_infringement       0.70      0.88      0.78       186\n",
      "\n",
      "        accuracy                           0.76       380\n",
      "       macro avg       0.77      0.76      0.75       380\n",
      "    weighted avg       0.77      0.76      0.75       380\n",
      "\n"
     ]
    },
    {
     "name": "stderr",
     "output_type": "stream",
     "text": [
      "Training Epochs:  23%|██▎       | 453/2000 [00:48<01:30, 17.12it/s]"
     ]
    },
    {
     "name": "stdout",
     "output_type": "stream",
     "text": [
      "Epoch 450/2000, Loss: 0.1426\n",
      "Test Accuracy at Epoch 450: 75.79%\n",
      "Test F1-score at Epoch 450: 0.7810\n",
      "Classification Report at Epoch 450:\n",
      "                  precision    recall  f1-score   support\n",
      "\n",
      "    infringement       0.85      0.64      0.73       194\n",
      "non_infringement       0.70      0.88      0.78       186\n",
      "\n",
      "        accuracy                           0.76       380\n",
      "       macro avg       0.78      0.76      0.76       380\n",
      "    weighted avg       0.78      0.76      0.75       380\n",
      "\n"
     ]
    },
    {
     "name": "stderr",
     "output_type": "stream",
     "text": [
      "Training Epochs:  23%|██▎       | 463/2000 [00:49<01:12, 21.17it/s]"
     ]
    },
    {
     "name": "stdout",
     "output_type": "stream",
     "text": [
      "Epoch 460/2000, Loss: 0.1415\n",
      "Test Accuracy at Epoch 460: 75.79%\n",
      "Test F1-score at Epoch 460: 0.7810\n",
      "Classification Report at Epoch 460:\n",
      "                  precision    recall  f1-score   support\n",
      "\n",
      "    infringement       0.85      0.64      0.73       194\n",
      "non_infringement       0.70      0.88      0.78       186\n",
      "\n",
      "        accuracy                           0.76       380\n",
      "       macro avg       0.78      0.76      0.76       380\n",
      "    weighted avg       0.78      0.76      0.75       380\n",
      "\n"
     ]
    },
    {
     "name": "stderr",
     "output_type": "stream",
     "text": [
      "Training Epochs:  24%|██▎       | 470/2000 [00:49<01:01, 24.96it/s]"
     ]
    },
    {
     "name": "stdout",
     "output_type": "stream",
     "text": [
      "Epoch 470/2000, Loss: 0.1454\n",
      "Test Accuracy at Epoch 470: 75.79%\n",
      "Test F1-score at Epoch 470: 0.7810\n",
      "Classification Report at Epoch 470:\n",
      "                  precision    recall  f1-score   support\n",
      "\n",
      "    infringement       0.85      0.64      0.73       194\n",
      "non_infringement       0.70      0.88      0.78       186\n",
      "\n",
      "        accuracy                           0.76       380\n",
      "       macro avg       0.78      0.76      0.76       380\n",
      "    weighted avg       0.78      0.76      0.75       380\n",
      "\n"
     ]
    },
    {
     "name": "stderr",
     "output_type": "stream",
     "text": [
      "Training Epochs:  24%|██▍       | 487/2000 [00:50<00:55, 27.28it/s]"
     ]
    },
    {
     "name": "stdout",
     "output_type": "stream",
     "text": [
      "Epoch 480/2000, Loss: 0.1416\n",
      "Test Accuracy at Epoch 480: 75.79%\n",
      "Test F1-score at Epoch 480: 0.7810\n",
      "Classification Report at Epoch 480:\n",
      "                  precision    recall  f1-score   support\n",
      "\n",
      "    infringement       0.85      0.64      0.73       194\n",
      "non_infringement       0.70      0.88      0.78       186\n",
      "\n",
      "        accuracy                           0.76       380\n",
      "       macro avg       0.78      0.76      0.76       380\n",
      "    weighted avg       0.78      0.76      0.75       380\n",
      "\n"
     ]
    },
    {
     "name": "stderr",
     "output_type": "stream",
     "text": [
      "Training Epochs:  25%|██▍       | 495/2000 [00:50<00:51, 29.26it/s]"
     ]
    },
    {
     "name": "stdout",
     "output_type": "stream",
     "text": [
      "Epoch 490/2000, Loss: 0.1374\n",
      "Test Accuracy at Epoch 490: 75.79%\n",
      "Test F1-score at Epoch 490: 0.7810\n",
      "Classification Report at Epoch 490:\n",
      "                  precision    recall  f1-score   support\n",
      "\n",
      "    infringement       0.85      0.64      0.73       194\n",
      "non_infringement       0.70      0.88      0.78       186\n",
      "\n",
      "        accuracy                           0.76       380\n",
      "       macro avg       0.78      0.76      0.76       380\n",
      "    weighted avg       0.78      0.76      0.75       380\n",
      "\n"
     ]
    },
    {
     "name": "stderr",
     "output_type": "stream",
     "text": [
      "Training Epochs:  25%|██▌       | 505/2000 [00:50<00:46, 32.20it/s]"
     ]
    },
    {
     "name": "stdout",
     "output_type": "stream",
     "text": [
      "Epoch 500/2000, Loss: 0.1369\n",
      "Test Accuracy at Epoch 500: 75.53%\n",
      "Test F1-score at Epoch 500: 0.7780\n",
      "Classification Report at Epoch 500:\n",
      "                  precision    recall  f1-score   support\n",
      "\n",
      "    infringement       0.84      0.64      0.73       194\n",
      "non_infringement       0.70      0.88      0.78       186\n",
      "\n",
      "        accuracy                           0.76       380\n",
      "       macro avg       0.77      0.76      0.75       380\n",
      "    weighted avg       0.77      0.76      0.75       380\n",
      "\n"
     ]
    },
    {
     "name": "stderr",
     "output_type": "stream",
     "text": [
      "Training Epochs:  26%|██▌       | 515/2000 [00:51<00:40, 37.09it/s]"
     ]
    },
    {
     "name": "stdout",
     "output_type": "stream",
     "text": [
      "Epoch 510/2000, Loss: 0.1357\n",
      "Test Accuracy at Epoch 510: 75.79%\n",
      "Test F1-score at Epoch 510: 0.7810\n",
      "Classification Report at Epoch 510:\n",
      "                  precision    recall  f1-score   support\n",
      "\n",
      "    infringement       0.85      0.64      0.73       194\n",
      "non_infringement       0.70      0.88      0.78       186\n",
      "\n",
      "        accuracy                           0.76       380\n",
      "       macro avg       0.78      0.76      0.76       380\n",
      "    weighted avg       0.78      0.76      0.75       380\n",
      "\n"
     ]
    },
    {
     "name": "stderr",
     "output_type": "stream",
     "text": [
      "Training Epochs:  26%|██▋       | 525/2000 [00:51<00:40, 36.80it/s]"
     ]
    },
    {
     "name": "stdout",
     "output_type": "stream",
     "text": [
      "Epoch 520/2000, Loss: 0.1345\n",
      "Test Accuracy at Epoch 520: 75.79%\n",
      "Test F1-score at Epoch 520: 0.7810\n",
      "Classification Report at Epoch 520:\n",
      "                  precision    recall  f1-score   support\n",
      "\n",
      "    infringement       0.85      0.64      0.73       194\n",
      "non_infringement       0.70      0.88      0.78       186\n",
      "\n",
      "        accuracy                           0.76       380\n",
      "       macro avg       0.78      0.76      0.76       380\n",
      "    weighted avg       0.78      0.76      0.75       380\n",
      "\n"
     ]
    },
    {
     "name": "stderr",
     "output_type": "stream",
     "text": [
      "Training Epochs:  27%|██▋       | 534/2000 [00:51<00:45, 31.96it/s]"
     ]
    },
    {
     "name": "stdout",
     "output_type": "stream",
     "text": [
      "Epoch 530/2000, Loss: 0.1336\n",
      "Test Accuracy at Epoch 530: 75.79%\n",
      "Test F1-score at Epoch 530: 0.7810\n",
      "Classification Report at Epoch 530:\n",
      "                  precision    recall  f1-score   support\n",
      "\n",
      "    infringement       0.85      0.64      0.73       194\n",
      "non_infringement       0.70      0.88      0.78       186\n",
      "\n",
      "        accuracy                           0.76       380\n",
      "       macro avg       0.78      0.76      0.76       380\n",
      "    weighted avg       0.78      0.76      0.75       380\n",
      "\n"
     ]
    },
    {
     "name": "stderr",
     "output_type": "stream",
     "text": [
      "Training Epochs:  27%|██▋       | 543/2000 [00:51<00:39, 36.92it/s]"
     ]
    },
    {
     "name": "stdout",
     "output_type": "stream",
     "text": [
      "Epoch 540/2000, Loss: 0.1470\n",
      "Test Accuracy at Epoch 540: 75.00%\n",
      "Test F1-score at Epoch 540: 0.7806\n",
      "Classification Report at Epoch 540:\n",
      "                  precision    recall  f1-score   support\n",
      "\n",
      "    infringement       0.87      0.60      0.71       194\n",
      "non_infringement       0.68      0.91      0.78       186\n",
      "\n",
      "        accuracy                           0.75       380\n",
      "       macro avg       0.78      0.75      0.75       380\n",
      "    weighted avg       0.78      0.75      0.74       380\n",
      "\n"
     ]
    },
    {
     "name": "stderr",
     "output_type": "stream",
     "text": [
      "Training Epochs:  28%|██▊       | 555/2000 [00:52<00:43, 33.42it/s]"
     ]
    },
    {
     "name": "stdout",
     "output_type": "stream",
     "text": [
      "Epoch 550/2000, Loss: 0.1409\n",
      "Test Accuracy at Epoch 550: 74.47%\n",
      "Test F1-score at Epoch 550: 0.7718\n",
      "Classification Report at Epoch 550:\n",
      "                  precision    recall  f1-score   support\n",
      "\n",
      "    infringement       0.84      0.61      0.71       194\n",
      "non_infringement       0.69      0.88      0.77       186\n",
      "\n",
      "        accuracy                           0.74       380\n",
      "       macro avg       0.77      0.75      0.74       380\n",
      "    weighted avg       0.77      0.74      0.74       380\n",
      "\n"
     ]
    },
    {
     "name": "stderr",
     "output_type": "stream",
     "text": [
      "Training Epochs:  28%|██▊       | 563/2000 [00:52<00:48, 29.60it/s]"
     ]
    },
    {
     "name": "stdout",
     "output_type": "stream",
     "text": [
      "Epoch 560/2000, Loss: 0.1319\n",
      "Test Accuracy at Epoch 560: 76.05%\n",
      "Test F1-score at Epoch 560: 0.7818\n",
      "Classification Report at Epoch 560:\n",
      "                  precision    recall  f1-score   support\n",
      "\n",
      "    infringement       0.85      0.65      0.73       194\n",
      "non_infringement       0.71      0.88      0.78       186\n",
      "\n",
      "        accuracy                           0.76       380\n",
      "       macro avg       0.78      0.76      0.76       380\n",
      "    weighted avg       0.78      0.76      0.76       380\n",
      "\n"
     ]
    },
    {
     "name": "stderr",
     "output_type": "stream",
     "text": [
      "Training Epochs:  29%|██▊       | 574/2000 [00:52<00:51, 27.96it/s]"
     ]
    },
    {
     "name": "stdout",
     "output_type": "stream",
     "text": [
      "Epoch 570/2000, Loss: 0.1313\n",
      "Test Accuracy at Epoch 570: 75.79%\n",
      "Test F1-score at Epoch 570: 0.7788\n",
      "Classification Report at Epoch 570:\n",
      "                  precision    recall  f1-score   support\n",
      "\n",
      "    infringement       0.84      0.65      0.73       194\n",
      "non_infringement       0.70      0.87      0.78       186\n",
      "\n",
      "        accuracy                           0.76       380\n",
      "       macro avg       0.77      0.76      0.76       380\n",
      "    weighted avg       0.77      0.76      0.76       380\n",
      "\n"
     ]
    },
    {
     "name": "stderr",
     "output_type": "stream",
     "text": [
      "Training Epochs:  29%|██▉       | 582/2000 [00:53<00:51, 27.38it/s]"
     ]
    },
    {
     "name": "stdout",
     "output_type": "stream",
     "text": [
      "Epoch 580/2000, Loss: 0.1307\n",
      "Test Accuracy at Epoch 580: 75.79%\n",
      "Test F1-score at Epoch 580: 0.7810\n",
      "Classification Report at Epoch 580:\n",
      "                  precision    recall  f1-score   support\n",
      "\n",
      "    infringement       0.85      0.64      0.73       194\n",
      "non_infringement       0.70      0.88      0.78       186\n",
      "\n",
      "        accuracy                           0.76       380\n",
      "       macro avg       0.78      0.76      0.76       380\n",
      "    weighted avg       0.78      0.76      0.75       380\n",
      "\n"
     ]
    },
    {
     "name": "stderr",
     "output_type": "stream",
     "text": [
      "Training Epochs:  30%|██▉       | 593/2000 [00:53<00:38, 36.41it/s]"
     ]
    },
    {
     "name": "stdout",
     "output_type": "stream",
     "text": [
      "Epoch 590/2000, Loss: 0.1298\n",
      "Test Accuracy at Epoch 590: 75.79%\n",
      "Test F1-score at Epoch 590: 0.7810\n",
      "Classification Report at Epoch 590:\n",
      "                  precision    recall  f1-score   support\n",
      "\n",
      "    infringement       0.85      0.64      0.73       194\n",
      "non_infringement       0.70      0.88      0.78       186\n",
      "\n",
      "        accuracy                           0.76       380\n",
      "       macro avg       0.78      0.76      0.76       380\n",
      "    weighted avg       0.78      0.76      0.75       380\n",
      "\n"
     ]
    },
    {
     "name": "stderr",
     "output_type": "stream",
     "text": [
      "Training Epochs:  30%|███       | 601/2000 [00:53<00:52, 26.89it/s]"
     ]
    },
    {
     "name": "stdout",
     "output_type": "stream",
     "text": [
      "Epoch 600/2000, Loss: 0.1291\n",
      "Test Accuracy at Epoch 600: 75.79%\n",
      "Test F1-score at Epoch 600: 0.7810\n",
      "Classification Report at Epoch 600:\n",
      "                  precision    recall  f1-score   support\n",
      "\n",
      "    infringement       0.85      0.64      0.73       194\n",
      "non_infringement       0.70      0.88      0.78       186\n",
      "\n",
      "        accuracy                           0.76       380\n",
      "       macro avg       0.78      0.76      0.76       380\n",
      "    weighted avg       0.78      0.76      0.75       380\n",
      "\n"
     ]
    },
    {
     "name": "stderr",
     "output_type": "stream",
     "text": [
      "Training Epochs:  31%|███       | 613/2000 [00:54<00:56, 24.68it/s]"
     ]
    },
    {
     "name": "stdout",
     "output_type": "stream",
     "text": [
      "Epoch 610/2000, Loss: 0.1285\n",
      "Test Accuracy at Epoch 610: 75.79%\n",
      "Test F1-score at Epoch 610: 0.7810\n",
      "Classification Report at Epoch 610:\n",
      "                  precision    recall  f1-score   support\n",
      "\n",
      "    infringement       0.85      0.64      0.73       194\n",
      "non_infringement       0.70      0.88      0.78       186\n",
      "\n",
      "        accuracy                           0.76       380\n",
      "       macro avg       0.78      0.76      0.76       380\n",
      "    weighted avg       0.78      0.76      0.75       380\n",
      "\n"
     ]
    },
    {
     "name": "stderr",
     "output_type": "stream",
     "text": [
      "Training Epochs:  31%|███▏      | 625/2000 [00:54<00:57, 23.90it/s]"
     ]
    },
    {
     "name": "stdout",
     "output_type": "stream",
     "text": [
      "Epoch 620/2000, Loss: 0.1280\n",
      "Test Accuracy at Epoch 620: 75.79%\n",
      "Test F1-score at Epoch 620: 0.7810\n",
      "Classification Report at Epoch 620:\n",
      "                  precision    recall  f1-score   support\n",
      "\n",
      "    infringement       0.85      0.64      0.73       194\n",
      "non_infringement       0.70      0.88      0.78       186\n",
      "\n",
      "        accuracy                           0.76       380\n",
      "       macro avg       0.78      0.76      0.76       380\n",
      "    weighted avg       0.78      0.76      0.75       380\n",
      "\n"
     ]
    },
    {
     "name": "stderr",
     "output_type": "stream",
     "text": [
      "Training Epochs:  32%|███▏      | 634/2000 [00:55<00:49, 27.52it/s]"
     ]
    },
    {
     "name": "stdout",
     "output_type": "stream",
     "text": [
      "Epoch 630/2000, Loss: 0.1274\n",
      "Test Accuracy at Epoch 630: 75.79%\n",
      "Test F1-score at Epoch 630: 0.7810\n",
      "Classification Report at Epoch 630:\n",
      "                  precision    recall  f1-score   support\n",
      "\n",
      "    infringement       0.85      0.64      0.73       194\n",
      "non_infringement       0.70      0.88      0.78       186\n",
      "\n",
      "        accuracy                           0.76       380\n",
      "       macro avg       0.78      0.76      0.76       380\n",
      "    weighted avg       0.78      0.76      0.75       380\n",
      "\n"
     ]
    },
    {
     "name": "stderr",
     "output_type": "stream",
     "text": [
      "Training Epochs:  32%|███▏      | 642/2000 [00:55<00:42, 31.82it/s]"
     ]
    },
    {
     "name": "stdout",
     "output_type": "stream",
     "text": [
      "Epoch 640/2000, Loss: 0.1269\n",
      "Test Accuracy at Epoch 640: 75.79%\n",
      "Test F1-score at Epoch 640: 0.7810\n",
      "Classification Report at Epoch 640:\n",
      "                  precision    recall  f1-score   support\n",
      "\n",
      "    infringement       0.85      0.64      0.73       194\n",
      "non_infringement       0.70      0.88      0.78       186\n",
      "\n",
      "        accuracy                           0.76       380\n",
      "       macro avg       0.78      0.76      0.76       380\n",
      "    weighted avg       0.78      0.76      0.75       380\n",
      "\n"
     ]
    },
    {
     "name": "stderr",
     "output_type": "stream",
     "text": [
      "Training Epochs:  33%|███▎      | 654/2000 [00:55<00:40, 33.32it/s]"
     ]
    },
    {
     "name": "stdout",
     "output_type": "stream",
     "text": [
      "Epoch 650/2000, Loss: 0.1264\n",
      "Test Accuracy at Epoch 650: 75.79%\n",
      "Test F1-score at Epoch 650: 0.7810\n",
      "Classification Report at Epoch 650:\n",
      "                  precision    recall  f1-score   support\n",
      "\n",
      "    infringement       0.85      0.64      0.73       194\n",
      "non_infringement       0.70      0.88      0.78       186\n",
      "\n",
      "        accuracy                           0.76       380\n",
      "       macro avg       0.78      0.76      0.76       380\n",
      "    weighted avg       0.78      0.76      0.75       380\n",
      "\n"
     ]
    },
    {
     "name": "stderr",
     "output_type": "stream",
     "text": [
      "Training Epochs:  33%|███▎      | 667/2000 [00:56<00:37, 36.00it/s]"
     ]
    },
    {
     "name": "stdout",
     "output_type": "stream",
     "text": [
      "Epoch 660/2000, Loss: 0.1291\n",
      "Test Accuracy at Epoch 660: 74.74%\n",
      "Test F1-score at Epoch 660: 0.7757\n",
      "Classification Report at Epoch 660:\n",
      "                  precision    recall  f1-score   support\n",
      "\n",
      "    infringement       0.86      0.61      0.71       194\n",
      "non_infringement       0.69      0.89      0.78       186\n",
      "\n",
      "        accuracy                           0.75       380\n",
      "       macro avg       0.77      0.75      0.74       380\n",
      "    weighted avg       0.77      0.75      0.74       380\n",
      "\n"
     ]
    },
    {
     "name": "stderr",
     "output_type": "stream",
     "text": [
      "Training Epochs:  34%|███▎      | 671/2000 [00:56<00:44, 29.95it/s]"
     ]
    },
    {
     "name": "stdout",
     "output_type": "stream",
     "text": [
      "Epoch 670/2000, Loss: 0.1343\n",
      "Test Accuracy at Epoch 670: 79.74%\n",
      "Test F1-score at Epoch 670: 0.8080\n",
      "Classification Report at Epoch 670:\n",
      "                  precision    recall  f1-score   support\n",
      "\n",
      "    infringement       0.85      0.73      0.79       194\n",
      "non_infringement       0.75      0.87      0.81       186\n",
      "\n",
      "        accuracy                           0.80       380\n",
      "       macro avg       0.80      0.80      0.80       380\n",
      "    weighted avg       0.81      0.80      0.80       380\n",
      "\n",
      "New best model saved with F1-score 0.8080 at epoch 670\n",
      "Best Classification Report at Epoch 670:\n",
      "                  precision    recall  f1-score   support\n",
      "\n",
      "    infringement       0.85      0.73      0.79       194\n",
      "non_infringement       0.75      0.87      0.81       186\n",
      "\n",
      "        accuracy                           0.80       380\n",
      "       macro avg       0.80      0.80      0.80       380\n",
      "    weighted avg       0.81      0.80      0.80       380\n",
      "\n"
     ]
    },
    {
     "name": "stderr",
     "output_type": "stream",
     "text": [
      "Training Epochs:  34%|███▍      | 683/2000 [00:56<00:38, 34.25it/s]"
     ]
    },
    {
     "name": "stdout",
     "output_type": "stream",
     "text": [
      "Epoch 680/2000, Loss: 0.1315\n",
      "Test Accuracy at Epoch 680: 79.74%\n",
      "Test F1-score at Epoch 680: 0.8080\n",
      "Classification Report at Epoch 680:\n",
      "                  precision    recall  f1-score   support\n",
      "\n",
      "    infringement       0.85      0.73      0.79       194\n",
      "non_infringement       0.75      0.87      0.81       186\n",
      "\n",
      "        accuracy                           0.80       380\n",
      "       macro avg       0.80      0.80      0.80       380\n",
      "    weighted avg       0.81      0.80      0.80       380\n",
      "\n"
     ]
    },
    {
     "name": "stderr",
     "output_type": "stream",
     "text": [
      "Training Epochs:  35%|███▍      | 696/2000 [00:57<00:35, 37.05it/s]"
     ]
    },
    {
     "name": "stdout",
     "output_type": "stream",
     "text": [
      "Epoch 690/2000, Loss: 0.1304\n",
      "Test Accuracy at Epoch 690: 79.74%\n",
      "Test F1-score at Epoch 690: 0.8080\n",
      "Classification Report at Epoch 690:\n",
      "                  precision    recall  f1-score   support\n",
      "\n",
      "    infringement       0.85      0.73      0.79       194\n",
      "non_infringement       0.75      0.87      0.81       186\n",
      "\n",
      "        accuracy                           0.80       380\n",
      "       macro avg       0.80      0.80      0.80       380\n",
      "    weighted avg       0.81      0.80      0.80       380\n",
      "\n"
     ]
    },
    {
     "name": "stderr",
     "output_type": "stream",
     "text": [
      "Training Epochs:  35%|███▌      | 704/2000 [00:57<00:38, 33.32it/s]"
     ]
    },
    {
     "name": "stdout",
     "output_type": "stream",
     "text": [
      "Epoch 700/2000, Loss: 0.1269\n",
      "Test Accuracy at Epoch 700: 75.79%\n",
      "Test F1-score at Epoch 700: 0.7810\n",
      "Classification Report at Epoch 700:\n",
      "                  precision    recall  f1-score   support\n",
      "\n",
      "    infringement       0.85      0.64      0.73       194\n",
      "non_infringement       0.70      0.88      0.78       186\n",
      "\n",
      "        accuracy                           0.76       380\n",
      "       macro avg       0.78      0.76      0.76       380\n",
      "    weighted avg       0.78      0.76      0.75       380\n",
      "\n"
     ]
    },
    {
     "name": "stderr",
     "output_type": "stream",
     "text": [
      "Training Epochs:  36%|███▌      | 712/2000 [00:57<00:40, 31.48it/s]"
     ]
    },
    {
     "name": "stdout",
     "output_type": "stream",
     "text": [
      "Epoch 710/2000, Loss: 0.1243\n",
      "Test Accuracy at Epoch 710: 75.79%\n",
      "Test F1-score at Epoch 710: 0.7810\n",
      "Classification Report at Epoch 710:\n",
      "                  precision    recall  f1-score   support\n",
      "\n",
      "    infringement       0.85      0.64      0.73       194\n",
      "non_infringement       0.70      0.88      0.78       186\n",
      "\n",
      "        accuracy                           0.76       380\n",
      "       macro avg       0.78      0.76      0.76       380\n",
      "    weighted avg       0.78      0.76      0.75       380\n",
      "\n"
     ]
    },
    {
     "name": "stderr",
     "output_type": "stream",
     "text": [
      "Training Epochs:  36%|███▋      | 725/2000 [00:58<00:40, 31.28it/s]"
     ]
    },
    {
     "name": "stdout",
     "output_type": "stream",
     "text": [
      "Epoch 720/2000, Loss: 0.1238\n",
      "Test Accuracy at Epoch 720: 75.79%\n",
      "Test F1-score at Epoch 720: 0.7810\n",
      "Classification Report at Epoch 720:\n",
      "                  precision    recall  f1-score   support\n",
      "\n",
      "    infringement       0.85      0.64      0.73       194\n",
      "non_infringement       0.70      0.88      0.78       186\n",
      "\n",
      "        accuracy                           0.76       380\n",
      "       macro avg       0.78      0.76      0.76       380\n",
      "    weighted avg       0.78      0.76      0.75       380\n",
      "\n"
     ]
    },
    {
     "name": "stderr",
     "output_type": "stream",
     "text": [
      "Training Epochs:  37%|███▋      | 735/2000 [00:58<00:36, 35.10it/s]"
     ]
    },
    {
     "name": "stdout",
     "output_type": "stream",
     "text": [
      "Epoch 730/2000, Loss: 0.1235\n",
      "Test Accuracy at Epoch 730: 75.79%\n",
      "Test F1-score at Epoch 730: 0.7810\n",
      "Classification Report at Epoch 730:\n",
      "                  precision    recall  f1-score   support\n",
      "\n",
      "    infringement       0.85      0.64      0.73       194\n",
      "non_infringement       0.70      0.88      0.78       186\n",
      "\n",
      "        accuracy                           0.76       380\n",
      "       macro avg       0.78      0.76      0.76       380\n",
      "    weighted avg       0.78      0.76      0.75       380\n",
      "\n"
     ]
    },
    {
     "name": "stderr",
     "output_type": "stream",
     "text": [
      "Training Epochs:  37%|███▋      | 744/2000 [00:58<00:36, 34.85it/s]"
     ]
    },
    {
     "name": "stdout",
     "output_type": "stream",
     "text": [
      "Epoch 740/2000, Loss: 0.1232\n",
      "Test Accuracy at Epoch 740: 75.79%\n",
      "Test F1-score at Epoch 740: 0.7810\n",
      "Classification Report at Epoch 740:\n",
      "                  precision    recall  f1-score   support\n",
      "\n",
      "    infringement       0.85      0.64      0.73       194\n",
      "non_infringement       0.70      0.88      0.78       186\n",
      "\n",
      "        accuracy                           0.76       380\n",
      "       macro avg       0.78      0.76      0.76       380\n",
      "    weighted avg       0.78      0.76      0.75       380\n",
      "\n"
     ]
    },
    {
     "name": "stderr",
     "output_type": "stream",
     "text": [
      "Training Epochs:  38%|███▊      | 754/2000 [00:58<00:34, 36.13it/s]"
     ]
    },
    {
     "name": "stdout",
     "output_type": "stream",
     "text": [
      "Epoch 750/2000, Loss: 0.1228\n",
      "Test Accuracy at Epoch 750: 75.53%\n",
      "Test F1-score at Epoch 750: 0.7780\n",
      "Classification Report at Epoch 750:\n",
      "                  precision    recall  f1-score   support\n",
      "\n",
      "    infringement       0.84      0.64      0.73       194\n",
      "non_infringement       0.70      0.88      0.78       186\n",
      "\n",
      "        accuracy                           0.76       380\n",
      "       macro avg       0.77      0.76      0.75       380\n",
      "    weighted avg       0.77      0.76      0.75       380\n",
      "\n"
     ]
    },
    {
     "name": "stderr",
     "output_type": "stream",
     "text": [
      "Training Epochs:  38%|███▊      | 767/2000 [00:59<00:32, 37.99it/s]"
     ]
    },
    {
     "name": "stdout",
     "output_type": "stream",
     "text": [
      "Epoch 760/2000, Loss: 0.1225\n",
      "Test Accuracy at Epoch 760: 75.26%\n",
      "Test F1-score at Epoch 760: 0.7762\n",
      "Classification Report at Epoch 760:\n",
      "                  precision    recall  f1-score   support\n",
      "\n",
      "    infringement       0.84      0.63      0.72       194\n",
      "non_infringement       0.70      0.88      0.78       186\n",
      "\n",
      "        accuracy                           0.75       380\n",
      "       macro avg       0.77      0.76      0.75       380\n",
      "    weighted avg       0.77      0.75      0.75       380\n",
      "\n"
     ]
    },
    {
     "name": "stderr",
     "output_type": "stream",
     "text": [
      "Training Epochs:  39%|███▉      | 776/2000 [00:59<00:32, 37.23it/s]"
     ]
    },
    {
     "name": "stdout",
     "output_type": "stream",
     "text": [
      "Epoch 770/2000, Loss: 0.1222\n",
      "Test Accuracy at Epoch 770: 75.26%\n",
      "Test F1-score at Epoch 770: 0.7762\n",
      "Classification Report at Epoch 770:\n",
      "                  precision    recall  f1-score   support\n",
      "\n",
      "    infringement       0.84      0.63      0.72       194\n",
      "non_infringement       0.70      0.88      0.78       186\n",
      "\n",
      "        accuracy                           0.75       380\n",
      "       macro avg       0.77      0.76      0.75       380\n",
      "    weighted avg       0.77      0.75      0.75       380\n",
      "\n"
     ]
    },
    {
     "name": "stderr",
     "output_type": "stream",
     "text": [
      "Training Epochs:  39%|███▉      | 785/2000 [00:59<00:34, 34.90it/s]"
     ]
    },
    {
     "name": "stdout",
     "output_type": "stream",
     "text": [
      "Epoch 780/2000, Loss: 0.1219\n",
      "Test Accuracy at Epoch 780: 75.26%\n",
      "Test F1-score at Epoch 780: 0.7762\n",
      "Classification Report at Epoch 780:\n",
      "                  precision    recall  f1-score   support\n",
      "\n",
      "    infringement       0.84      0.63      0.72       194\n",
      "non_infringement       0.70      0.88      0.78       186\n",
      "\n",
      "        accuracy                           0.75       380\n",
      "       macro avg       0.77      0.76      0.75       380\n",
      "    weighted avg       0.77      0.75      0.75       380\n",
      "\n"
     ]
    },
    {
     "name": "stderr",
     "output_type": "stream",
     "text": [
      "Training Epochs:  40%|███▉      | 796/2000 [00:59<00:29, 40.97it/s]"
     ]
    },
    {
     "name": "stdout",
     "output_type": "stream",
     "text": [
      "Epoch 790/2000, Loss: 0.1216\n",
      "Test Accuracy at Epoch 790: 75.26%\n",
      "Test F1-score at Epoch 790: 0.7762\n",
      "Classification Report at Epoch 790:\n",
      "                  precision    recall  f1-score   support\n",
      "\n",
      "    infringement       0.84      0.63      0.72       194\n",
      "non_infringement       0.70      0.88      0.78       186\n",
      "\n",
      "        accuracy                           0.75       380\n",
      "       macro avg       0.77      0.76      0.75       380\n",
      "    weighted avg       0.77      0.75      0.75       380\n",
      "\n"
     ]
    },
    {
     "name": "stderr",
     "output_type": "stream",
     "text": [
      "Training Epochs:  40%|████      | 807/2000 [01:00<00:28, 42.14it/s]"
     ]
    },
    {
     "name": "stdout",
     "output_type": "stream",
     "text": [
      "Epoch 800/2000, Loss: 0.1220\n",
      "Test Accuracy at Epoch 800: 75.26%\n",
      "Test F1-score at Epoch 800: 0.7773\n",
      "Classification Report at Epoch 800:\n",
      "                  precision    recall  f1-score   support\n",
      "\n",
      "    infringement       0.85      0.63      0.72       194\n",
      "non_infringement       0.69      0.88      0.78       186\n",
      "\n",
      "        accuracy                           0.75       380\n",
      "       macro avg       0.77      0.76      0.75       380\n",
      "    weighted avg       0.77      0.75      0.75       380\n",
      "\n",
      "Epoch 810/2000, Loss: 0.1215\n"
     ]
    },
    {
     "name": "stderr",
     "output_type": "stream",
     "text": [
      "Training Epochs:  41%|████      | 817/2000 [01:00<00:27, 42.50it/s]"
     ]
    },
    {
     "name": "stdout",
     "output_type": "stream",
     "text": [
      "Test Accuracy at Epoch 810: 75.79%\n",
      "Test F1-score at Epoch 810: 0.7788\n",
      "Classification Report at Epoch 810:\n",
      "                  precision    recall  f1-score   support\n",
      "\n",
      "    infringement       0.84      0.65      0.73       194\n",
      "non_infringement       0.70      0.87      0.78       186\n",
      "\n",
      "        accuracy                           0.76       380\n",
      "       macro avg       0.77      0.76      0.76       380\n",
      "    weighted avg       0.77      0.76      0.76       380\n",
      "\n"
     ]
    },
    {
     "name": "stderr",
     "output_type": "stream",
     "text": [
      "Training Epochs:  41%|████▏     | 828/2000 [01:00<00:25, 45.81it/s]"
     ]
    },
    {
     "name": "stdout",
     "output_type": "stream",
     "text": [
      "Epoch 820/2000, Loss: 0.1237\n",
      "Test Accuracy at Epoch 820: 75.26%\n",
      "Test F1-score at Epoch 820: 0.7762\n",
      "Classification Report at Epoch 820:\n",
      "                  precision    recall  f1-score   support\n",
      "\n",
      "    infringement       0.84      0.63      0.72       194\n",
      "non_infringement       0.70      0.88      0.78       186\n",
      "\n",
      "        accuracy                           0.75       380\n",
      "       macro avg       0.77      0.76      0.75       380\n",
      "    weighted avg       0.77      0.75      0.75       380\n",
      "\n",
      "Epoch 830/2000, Loss: 0.1228\n"
     ]
    },
    {
     "name": "stderr",
     "output_type": "stream",
     "text": [
      "Training Epochs:  42%|████▏     | 833/2000 [01:00<00:25, 46.19it/s]"
     ]
    },
    {
     "name": "stdout",
     "output_type": "stream",
     "text": [
      "Test Accuracy at Epoch 830: 74.74%\n",
      "Test F1-score at Epoch 830: 0.7725\n",
      "Classification Report at Epoch 830:\n",
      "                  precision    recall  f1-score   support\n",
      "\n",
      "    infringement       0.84      0.62      0.72       194\n",
      "non_infringement       0.69      0.88      0.77       186\n",
      "\n",
      "        accuracy                           0.75       380\n",
      "       macro avg       0.77      0.75      0.74       380\n",
      "    weighted avg       0.77      0.75      0.74       380\n",
      "\n"
     ]
    },
    {
     "name": "stderr",
     "output_type": "stream",
     "text": [
      "Training Epochs:  42%|████▏     | 849/2000 [01:01<00:24, 47.30it/s]"
     ]
    },
    {
     "name": "stdout",
     "output_type": "stream",
     "text": [
      "Epoch 840/2000, Loss: 0.1203\n",
      "Test Accuracy at Epoch 840: 75.26%\n",
      "Test F1-score at Epoch 840: 0.7762\n",
      "Classification Report at Epoch 840:\n",
      "                  precision    recall  f1-score   support\n",
      "\n",
      "    infringement       0.84      0.63      0.72       194\n",
      "non_infringement       0.70      0.88      0.78       186\n",
      "\n",
      "        accuracy                           0.75       380\n",
      "       macro avg       0.77      0.76      0.75       380\n",
      "    weighted avg       0.77      0.75      0.75       380\n",
      "\n",
      "Epoch 850/2000, Loss: 0.1202\n",
      "Test Accuracy at Epoch 850: 75.26%\n",
      "Test F1-score at Epoch 850: 0.7762\n",
      "Classification Report at Epoch 850:\n",
      "                  precision    recall  f1-score   support\n",
      "\n",
      "    infringement       0.84      0.63      0.72       194\n",
      "non_infringement       0.70      0.88      0.78       186\n",
      "\n",
      "        accuracy                           0.75       380\n",
      "       macro avg       0.77      0.76      0.75       380\n",
      "    weighted avg       0.77      0.75      0.75       380\n",
      "\n"
     ]
    },
    {
     "name": "stderr",
     "output_type": "stream",
     "text": [
      "Training Epochs:  43%|████▎     | 866/2000 [01:01<00:24, 47.18it/s]"
     ]
    },
    {
     "name": "stdout",
     "output_type": "stream",
     "text": [
      "Epoch 860/2000, Loss: 0.1199\n",
      "Test Accuracy at Epoch 860: 75.26%\n",
      "Test F1-score at Epoch 860: 0.7762\n",
      "Classification Report at Epoch 860:\n",
      "                  precision    recall  f1-score   support\n",
      "\n",
      "    infringement       0.84      0.63      0.72       194\n",
      "non_infringement       0.70      0.88      0.78       186\n",
      "\n",
      "        accuracy                           0.75       380\n",
      "       macro avg       0.77      0.76      0.75       380\n",
      "    weighted avg       0.77      0.75      0.75       380\n",
      "\n",
      "Epoch 870/2000, Loss: 0.1195\n",
      "Test Accuracy at Epoch 870: 75.26%\n",
      "Test F1-score at Epoch 870: 0.7762\n",
      "Classification Report at Epoch 870:\n",
      "                  precision    recall  f1-score   support\n",
      "\n",
      "    infringement       0.84      0.63      0.72       194\n",
      "non_infringement       0.70      0.88      0.78       186\n",
      "\n",
      "        accuracy                           0.75       380\n",
      "       macro avg       0.77      0.76      0.75       380\n",
      "    weighted avg       0.77      0.75      0.75       380\n",
      "\n"
     ]
    },
    {
     "name": "stderr",
     "output_type": "stream",
     "text": [
      "Training Epochs:  44%|████▍     | 889/2000 [01:01<00:21, 51.65it/s]"
     ]
    },
    {
     "name": "stdout",
     "output_type": "stream",
     "text": [
      "Epoch 880/2000, Loss: 0.1193\n",
      "Test Accuracy at Epoch 880: 75.26%\n",
      "Test F1-score at Epoch 880: 0.7762\n",
      "Classification Report at Epoch 880:\n",
      "                  precision    recall  f1-score   support\n",
      "\n",
      "    infringement       0.84      0.63      0.72       194\n",
      "non_infringement       0.70      0.88      0.78       186\n",
      "\n",
      "        accuracy                           0.75       380\n",
      "       macro avg       0.77      0.76      0.75       380\n",
      "    weighted avg       0.77      0.75      0.75       380\n",
      "\n",
      "Epoch 890/2000, Loss: 0.1197\n"
     ]
    },
    {
     "name": "stderr",
     "output_type": "stream",
     "text": [
      "Training Epochs:  45%|████▌     | 901/2000 [01:02<00:22, 49.79it/s]"
     ]
    },
    {
     "name": "stdout",
     "output_type": "stream",
     "text": [
      "Test Accuracy at Epoch 890: 75.53%\n",
      "Test F1-score at Epoch 890: 0.7780\n",
      "Classification Report at Epoch 890:\n",
      "                  precision    recall  f1-score   support\n",
      "\n",
      "    infringement       0.84      0.64      0.73       194\n",
      "non_infringement       0.70      0.88      0.78       186\n",
      "\n",
      "        accuracy                           0.76       380\n",
      "       macro avg       0.77      0.76      0.75       380\n",
      "    weighted avg       0.77      0.76      0.75       380\n",
      "\n",
      "Epoch 900/2000, Loss: 0.1235\n",
      "Test Accuracy at Epoch 900: 77.63%\n",
      "Test F1-score at Epoch 900: 0.7922\n",
      "Classification Report at Epoch 900:\n",
      "                  precision    recall  f1-score   support\n",
      "\n",
      "    infringement       0.85      0.69      0.76       194\n",
      "non_infringement       0.73      0.87      0.79       186\n",
      "\n",
      "        accuracy                           0.78       380\n",
      "       macro avg       0.79      0.78      0.78       380\n",
      "    weighted avg       0.79      0.78      0.77       380\n",
      "\n"
     ]
    },
    {
     "name": "stderr",
     "output_type": "stream",
     "text": [
      "Training Epochs:  46%|████▌     | 914/2000 [01:02<00:22, 47.46it/s]"
     ]
    },
    {
     "name": "stdout",
     "output_type": "stream",
     "text": [
      "Epoch 910/2000, Loss: 0.1190\n",
      "Test Accuracy at Epoch 910: 75.26%\n",
      "Test F1-score at Epoch 910: 0.7762\n",
      "Classification Report at Epoch 910:\n",
      "                  precision    recall  f1-score   support\n",
      "\n",
      "    infringement       0.84      0.63      0.72       194\n",
      "non_infringement       0.70      0.88      0.78       186\n",
      "\n",
      "        accuracy                           0.75       380\n",
      "       macro avg       0.77      0.76      0.75       380\n",
      "    weighted avg       0.77      0.75      0.75       380\n",
      "\n"
     ]
    },
    {
     "name": "stderr",
     "output_type": "stream",
     "text": [
      "Training Epochs:  46%|████▋     | 926/2000 [01:02<00:22, 46.93it/s]"
     ]
    },
    {
     "name": "stdout",
     "output_type": "stream",
     "text": [
      "Epoch 920/2000, Loss: 0.1191\n",
      "Test Accuracy at Epoch 920: 75.26%\n",
      "Test F1-score at Epoch 920: 0.7762\n",
      "Classification Report at Epoch 920:\n",
      "                  precision    recall  f1-score   support\n",
      "\n",
      "    infringement       0.84      0.63      0.72       194\n",
      "non_infringement       0.70      0.88      0.78       186\n",
      "\n",
      "        accuracy                           0.75       380\n",
      "       macro avg       0.77      0.76      0.75       380\n",
      "    weighted avg       0.77      0.75      0.75       380\n",
      "\n"
     ]
    },
    {
     "name": "stderr",
     "output_type": "stream",
     "text": [
      "Training Epochs:  47%|████▋     | 938/2000 [01:02<00:22, 46.70it/s]"
     ]
    },
    {
     "name": "stdout",
     "output_type": "stream",
     "text": [
      "Epoch 930/2000, Loss: 0.1189\n",
      "Test Accuracy at Epoch 930: 74.74%\n",
      "Test F1-score at Epoch 930: 0.7725\n",
      "Classification Report at Epoch 930:\n",
      "                  precision    recall  f1-score   support\n",
      "\n",
      "    infringement       0.84      0.62      0.72       194\n",
      "non_infringement       0.69      0.88      0.77       186\n",
      "\n",
      "        accuracy                           0.75       380\n",
      "       macro avg       0.77      0.75      0.74       380\n",
      "    weighted avg       0.77      0.75      0.74       380\n",
      "\n",
      "Epoch 940/2000, Loss: 0.1179\n",
      "Test Accuracy at Epoch 940: 75.26%\n",
      "Test F1-score at Epoch 940: 0.7762\n",
      "Classification Report at Epoch 940:\n",
      "                  precision    recall  f1-score   support\n",
      "\n",
      "    infringement       0.84      0.63      0.72       194\n",
      "non_infringement       0.70      0.88      0.78       186\n",
      "\n",
      "        accuracy                           0.75       380\n",
      "       macro avg       0.77      0.76      0.75       380\n",
      "    weighted avg       0.77      0.75      0.75       380\n",
      "\n"
     ]
    },
    {
     "name": "stderr",
     "output_type": "stream",
     "text": [
      "Training Epochs:  48%|████▊     | 957/2000 [01:03<00:19, 52.57it/s]"
     ]
    },
    {
     "name": "stdout",
     "output_type": "stream",
     "text": [
      "Epoch 950/2000, Loss: 0.1176\n",
      "Test Accuracy at Epoch 950: 75.26%\n",
      "Test F1-score at Epoch 950: 0.7762\n",
      "Classification Report at Epoch 950:\n",
      "                  precision    recall  f1-score   support\n",
      "\n",
      "    infringement       0.84      0.63      0.72       194\n",
      "non_infringement       0.70      0.88      0.78       186\n",
      "\n",
      "        accuracy                           0.75       380\n",
      "       macro avg       0.77      0.76      0.75       380\n",
      "    weighted avg       0.77      0.75      0.75       380\n",
      "\n",
      "Epoch 960/2000, Loss: 0.1176\n",
      "Test Accuracy at Epoch 960: 75.00%\n",
      "Test F1-score at Epoch 960: 0.7743\n",
      "Classification Report at Epoch 960:\n",
      "                  precision    recall  f1-score   support\n",
      "\n",
      "    infringement       0.84      0.63      0.72       194\n",
      "non_infringement       0.69      0.88      0.77       186\n",
      "\n",
      "        accuracy                           0.75       380\n",
      "       macro avg       0.77      0.75      0.75       380\n",
      "    weighted avg       0.77      0.75      0.75       380\n",
      "\n"
     ]
    },
    {
     "name": "stderr",
     "output_type": "stream",
     "text": [
      "Training Epochs:  49%|████▉     | 976/2000 [01:03<00:19, 52.74it/s]"
     ]
    },
    {
     "name": "stdout",
     "output_type": "stream",
     "text": [
      "Epoch 970/2000, Loss: 0.1327\n",
      "Test Accuracy at Epoch 970: 74.47%\n",
      "Test F1-score at Epoch 970: 0.7749\n",
      "Classification Report at Epoch 970:\n",
      "                  precision    recall  f1-score   support\n",
      "\n",
      "    infringement       0.86      0.60      0.71       194\n",
      "non_infringement       0.68      0.90      0.77       186\n",
      "\n",
      "        accuracy                           0.74       380\n",
      "       macro avg       0.77      0.75      0.74       380\n",
      "    weighted avg       0.77      0.74      0.74       380\n",
      "\n"
     ]
    },
    {
     "name": "stderr",
     "output_type": "stream",
     "text": [
      "Training Epochs:  49%|████▉     | 989/2000 [01:03<00:17, 58.71it/s]"
     ]
    },
    {
     "name": "stdout",
     "output_type": "stream",
     "text": [
      "Epoch 980/2000, Loss: 0.1245\n",
      "Test Accuracy at Epoch 980: 74.74%\n",
      "Test F1-score at Epoch 980: 0.7767\n",
      "Classification Report at Epoch 980:\n",
      "                  precision    recall  f1-score   support\n",
      "\n",
      "    infringement       0.86      0.60      0.71       194\n",
      "non_infringement       0.68      0.90      0.78       186\n",
      "\n",
      "        accuracy                           0.75       380\n",
      "       macro avg       0.77      0.75      0.74       380\n",
      "    weighted avg       0.77      0.75      0.74       380\n",
      "\n",
      "Epoch 990/2000, Loss: 0.1218\n",
      "Test Accuracy at Epoch 990: 74.74%\n",
      "Test F1-score at Epoch 990: 0.7767\n",
      "Classification Report at Epoch 990:\n",
      "                  precision    recall  f1-score   support\n",
      "\n",
      "    infringement       0.86      0.60      0.71       194\n",
      "non_infringement       0.68      0.90      0.78       186\n",
      "\n",
      "        accuracy                           0.75       380\n",
      "       macro avg       0.77      0.75      0.74       380\n",
      "    weighted avg       0.77      0.75      0.74       380\n",
      "\n"
     ]
    },
    {
     "name": "stderr",
     "output_type": "stream",
     "text": [
      "Training Epochs:  50%|█████     | 1007/2000 [01:04<00:19, 52.04it/s]"
     ]
    },
    {
     "name": "stdout",
     "output_type": "stream",
     "text": [
      "Epoch 1000/2000, Loss: 0.1260\n",
      "Test Accuracy at Epoch 1000: 74.47%\n",
      "Test F1-score at Epoch 1000: 0.7749\n",
      "Classification Report at Epoch 1000:\n",
      "                  precision    recall  f1-score   support\n",
      "\n",
      "    infringement       0.86      0.60      0.71       194\n",
      "non_infringement       0.68      0.90      0.77       186\n",
      "\n",
      "        accuracy                           0.74       380\n",
      "       macro avg       0.77      0.75      0.74       380\n",
      "    weighted avg       0.77      0.74      0.74       380\n",
      "\n",
      "Epoch 1010/2000, Loss: 0.1234\n",
      "Test Accuracy at Epoch 1010: 74.47%\n",
      "Test F1-score at Epoch 1010: 0.7707\n"
     ]
    },
    {
     "name": "stderr",
     "output_type": "stream",
     "text": [
      "Training Epochs:  51%|█████     | 1013/2000 [01:04<00:21, 46.00it/s]"
     ]
    },
    {
     "name": "stdout",
     "output_type": "stream",
     "text": [
      "Classification Report at Epoch 1010:\n",
      "                  precision    recall  f1-score   support\n",
      "\n",
      "    infringement       0.84      0.62      0.71       194\n",
      "non_infringement       0.69      0.88      0.77       186\n",
      "\n",
      "        accuracy                           0.74       380\n",
      "       macro avg       0.76      0.75      0.74       380\n",
      "    weighted avg       0.77      0.74      0.74       380\n",
      "\n"
     ]
    },
    {
     "name": "stderr",
     "output_type": "stream",
     "text": [
      "Training Epochs:  51%|█████▏    | 1027/2000 [01:04<00:17, 54.18it/s]"
     ]
    },
    {
     "name": "stdout",
     "output_type": "stream",
     "text": [
      "Epoch 1020/2000, Loss: 0.1167\n",
      "Test Accuracy at Epoch 1020: 75.53%\n",
      "Test F1-score at Epoch 1020: 0.7780\n",
      "Classification Report at Epoch 1020:\n",
      "                  precision    recall  f1-score   support\n",
      "\n",
      "    infringement       0.84      0.64      0.73       194\n",
      "non_infringement       0.70      0.88      0.78       186\n",
      "\n",
      "        accuracy                           0.76       380\n",
      "       macro avg       0.77      0.76      0.75       380\n",
      "    weighted avg       0.77      0.76      0.75       380\n",
      "\n",
      "Epoch 1030/2000, Loss: 0.1171\n",
      "Test Accuracy at Epoch 1030: 75.26%\n",
      "Test F1-score at Epoch 1030: 0.7762\n",
      "Classification Report at Epoch 1030:\n",
      "                  precision    recall  f1-score   support\n",
      "\n",
      "    infringement       0.84      0.63      0.72       194\n",
      "non_infringement       0.70      0.88      0.78       186\n",
      "\n",
      "        accuracy                           0.75       380\n",
      "       macro avg       0.77      0.76      0.75       380\n",
      "    weighted avg       0.77      0.75      0.75       380\n",
      "\n"
     ]
    },
    {
     "name": "stderr",
     "output_type": "stream",
     "text": [
      "Training Epochs:  52%|█████▏    | 1047/2000 [01:05<00:17, 55.42it/s]"
     ]
    },
    {
     "name": "stdout",
     "output_type": "stream",
     "text": [
      "Epoch 1040/2000, Loss: 0.1163\n",
      "Test Accuracy at Epoch 1040: 75.26%\n",
      "Test F1-score at Epoch 1040: 0.7762\n",
      "Classification Report at Epoch 1040:\n",
      "                  precision    recall  f1-score   support\n",
      "\n",
      "    infringement       0.84      0.63      0.72       194\n",
      "non_infringement       0.70      0.88      0.78       186\n",
      "\n",
      "        accuracy                           0.75       380\n",
      "       macro avg       0.77      0.76      0.75       380\n",
      "    weighted avg       0.77      0.75      0.75       380\n",
      "\n",
      "Epoch 1050/2000, Loss: 0.1159\n",
      "Test Accuracy at Epoch 1050: 75.00%\n",
      "Test F1-score at Epoch 1050: 0.7743\n",
      "Classification Report at Epoch 1050:\n",
      "                  precision    recall  f1-score   support\n",
      "\n",
      "    infringement       0.84      0.63      0.72       194\n",
      "non_infringement       0.69      0.88      0.77       186\n",
      "\n",
      "        accuracy                           0.75       380\n",
      "       macro avg       0.77      0.75      0.75       380\n",
      "    weighted avg       0.77      0.75      0.75       380\n",
      "\n"
     ]
    },
    {
     "name": "stderr",
     "output_type": "stream",
     "text": [
      "Training Epochs:  53%|█████▎    | 1067/2000 [01:05<00:17, 54.46it/s]"
     ]
    },
    {
     "name": "stdout",
     "output_type": "stream",
     "text": [
      "Epoch 1060/2000, Loss: 0.1157\n",
      "Test Accuracy at Epoch 1060: 75.00%\n",
      "Test F1-score at Epoch 1060: 0.7743\n",
      "Classification Report at Epoch 1060:\n",
      "                  precision    recall  f1-score   support\n",
      "\n",
      "    infringement       0.84      0.63      0.72       194\n",
      "non_infringement       0.69      0.88      0.77       186\n",
      "\n",
      "        accuracy                           0.75       380\n",
      "       macro avg       0.77      0.75      0.75       380\n",
      "    weighted avg       0.77      0.75      0.75       380\n",
      "\n",
      "Epoch 1070/2000, Loss: 0.1155\n",
      "Test Accuracy at Epoch 1070: 75.00%\n",
      "Test F1-score at Epoch 1070: 0.7743\n",
      "Classification Report at Epoch 1070:\n",
      "                  precision    recall  f1-score   support\n",
      "\n",
      "    infringement       0.84      0.63      0.72       194\n",
      "non_infringement       0.69      0.88      0.77       186\n",
      "\n",
      "        accuracy                           0.75       380\n",
      "       macro avg       0.77      0.75      0.75       380\n",
      "    weighted avg       0.77      0.75      0.75       380\n",
      "\n"
     ]
    },
    {
     "name": "stderr",
     "output_type": "stream",
     "text": [
      "Training Epochs:  54%|█████▍    | 1087/2000 [01:05<00:16, 54.45it/s]"
     ]
    },
    {
     "name": "stdout",
     "output_type": "stream",
     "text": [
      "Epoch 1080/2000, Loss: 0.1153\n",
      "Test Accuracy at Epoch 1080: 75.00%\n",
      "Test F1-score at Epoch 1080: 0.7743\n",
      "Classification Report at Epoch 1080:\n",
      "                  precision    recall  f1-score   support\n",
      "\n",
      "    infringement       0.84      0.63      0.72       194\n",
      "non_infringement       0.69      0.88      0.77       186\n",
      "\n",
      "        accuracy                           0.75       380\n",
      "       macro avg       0.77      0.75      0.75       380\n",
      "    weighted avg       0.77      0.75      0.75       380\n",
      "\n",
      "Epoch 1090/2000, Loss: 0.1151\n",
      "Test Accuracy at Epoch 1090: 75.00%\n",
      "Test F1-score at Epoch 1090: 0.7743\n",
      "Classification Report at Epoch 1090:\n",
      "                  precision    recall  f1-score   support\n",
      "\n",
      "    infringement       0.84      0.63      0.72       194\n",
      "non_infringement       0.69      0.88      0.77       186\n",
      "\n",
      "        accuracy                           0.75       380\n",
      "       macro avg       0.77      0.75      0.75       380\n",
      "    weighted avg       0.77      0.75      0.75       380\n",
      "\n"
     ]
    },
    {
     "name": "stderr",
     "output_type": "stream",
     "text": [
      "Training Epochs:  55%|█████▌    | 1107/2000 [01:06<00:16, 53.38it/s]"
     ]
    },
    {
     "name": "stdout",
     "output_type": "stream",
     "text": [
      "Epoch 1100/2000, Loss: 0.1150\n",
      "Test Accuracy at Epoch 1100: 75.00%\n",
      "Test F1-score at Epoch 1100: 0.7743\n",
      "Classification Report at Epoch 1100:\n",
      "                  precision    recall  f1-score   support\n",
      "\n",
      "    infringement       0.84      0.63      0.72       194\n",
      "non_infringement       0.69      0.88      0.77       186\n",
      "\n",
      "        accuracy                           0.75       380\n",
      "       macro avg       0.77      0.75      0.75       380\n",
      "    weighted avg       0.77      0.75      0.75       380\n",
      "\n",
      "Epoch 1110/2000, Loss: 0.1148\n",
      "Test Accuracy at Epoch 1110: 75.00%\n",
      "Test F1-score at Epoch 1110: 0.7743\n",
      "Classification Report at Epoch 1110:\n",
      "                  precision    recall  f1-score   support\n",
      "\n",
      "    infringement       0.84      0.63      0.72       194\n",
      "non_infringement       0.69      0.88      0.77       186\n",
      "\n",
      "        accuracy                           0.75       380\n",
      "       macro avg       0.77      0.75      0.75       380\n",
      "    weighted avg       0.77      0.75      0.75       380\n",
      "\n"
     ]
    },
    {
     "name": "stderr",
     "output_type": "stream",
     "text": [
      "Training Epochs:  56%|█████▌    | 1119/2000 [01:07<00:50, 17.60it/s]"
     ]
    },
    {
     "name": "stdout",
     "output_type": "stream",
     "text": [
      "Epoch 1120/2000, Loss: 0.1146\n",
      "Test Accuracy at Epoch 1120: 75.00%\n",
      "Test F1-score at Epoch 1120: 0.7743\n",
      "Classification Report at Epoch 1120:\n",
      "                  precision    recall  f1-score   support\n",
      "\n",
      "    infringement       0.84      0.63      0.72       194\n",
      "non_infringement       0.69      0.88      0.77       186\n",
      "\n",
      "        accuracy                           0.75       380\n",
      "       macro avg       0.77      0.75      0.75       380\n",
      "    weighted avg       0.77      0.75      0.75       380\n",
      "\n"
     ]
    },
    {
     "name": "stderr",
     "output_type": "stream",
     "text": [
      "Training Epochs:  57%|█████▋    | 1133/2000 [01:09<01:35,  9.07it/s]"
     ]
    },
    {
     "name": "stdout",
     "output_type": "stream",
     "text": [
      "Epoch 1130/2000, Loss: 0.1144\n",
      "Test Accuracy at Epoch 1130: 75.00%\n",
      "Test F1-score at Epoch 1130: 0.7743\n",
      "Classification Report at Epoch 1130:\n",
      "                  precision    recall  f1-score   support\n",
      "\n",
      "    infringement       0.84      0.63      0.72       194\n",
      "non_infringement       0.69      0.88      0.77       186\n",
      "\n",
      "        accuracy                           0.75       380\n",
      "       macro avg       0.77      0.75      0.75       380\n",
      "    weighted avg       0.77      0.75      0.75       380\n",
      "\n"
     ]
    },
    {
     "name": "stderr",
     "output_type": "stream",
     "text": [
      "Training Epochs:  57%|█████▋    | 1142/2000 [01:10<01:12, 11.79it/s]"
     ]
    },
    {
     "name": "stdout",
     "output_type": "stream",
     "text": [
      "Epoch 1140/2000, Loss: 0.1143\n",
      "Test Accuracy at Epoch 1140: 75.53%\n",
      "Test F1-score at Epoch 1140: 0.7801\n",
      "Classification Report at Epoch 1140:\n",
      "                  precision    recall  f1-score   support\n",
      "\n",
      "    infringement       0.85      0.63      0.72       194\n",
      "non_infringement       0.70      0.89      0.78       186\n",
      "\n",
      "        accuracy                           0.76       380\n",
      "       macro avg       0.77      0.76      0.75       380\n",
      "    weighted avg       0.78      0.76      0.75       380\n",
      "\n"
     ]
    },
    {
     "name": "stderr",
     "output_type": "stream",
     "text": [
      "Training Epochs:  58%|█████▊    | 1152/2000 [01:11<00:56, 14.92it/s]"
     ]
    },
    {
     "name": "stdout",
     "output_type": "stream",
     "text": [
      "Epoch 1150/2000, Loss: 0.1141\n",
      "Test Accuracy at Epoch 1150: 75.53%\n",
      "Test F1-score at Epoch 1150: 0.7801\n",
      "Classification Report at Epoch 1150:\n",
      "                  precision    recall  f1-score   support\n",
      "\n",
      "    infringement       0.85      0.63      0.72       194\n",
      "non_infringement       0.70      0.89      0.78       186\n",
      "\n",
      "        accuracy                           0.76       380\n",
      "       macro avg       0.77      0.76      0.75       380\n",
      "    weighted avg       0.78      0.76      0.75       380\n",
      "\n"
     ]
    },
    {
     "name": "stderr",
     "output_type": "stream",
     "text": [
      "Training Epochs:  58%|█████▊    | 1163/2000 [01:11<00:53, 15.64it/s]"
     ]
    },
    {
     "name": "stdout",
     "output_type": "stream",
     "text": [
      "Epoch 1160/2000, Loss: 0.1139\n",
      "Test Accuracy at Epoch 1160: 75.53%\n",
      "Test F1-score at Epoch 1160: 0.7801\n",
      "Classification Report at Epoch 1160:\n",
      "                  precision    recall  f1-score   support\n",
      "\n",
      "    infringement       0.85      0.63      0.72       194\n",
      "non_infringement       0.70      0.89      0.78       186\n",
      "\n",
      "        accuracy                           0.76       380\n",
      "       macro avg       0.77      0.76      0.75       380\n",
      "    weighted avg       0.78      0.76      0.75       380\n",
      "\n"
     ]
    },
    {
     "name": "stderr",
     "output_type": "stream",
     "text": [
      "Training Epochs:  59%|█████▊    | 1172/2000 [01:12<00:49, 16.85it/s]"
     ]
    },
    {
     "name": "stdout",
     "output_type": "stream",
     "text": [
      "Epoch 1170/2000, Loss: 0.1139\n",
      "Test Accuracy at Epoch 1170: 75.00%\n",
      "Test F1-score at Epoch 1170: 0.7765\n",
      "Classification Report at Epoch 1170:\n",
      "                  precision    recall  f1-score   support\n",
      "\n",
      "    infringement       0.85      0.62      0.72       194\n",
      "non_infringement       0.69      0.89      0.78       186\n",
      "\n",
      "        accuracy                           0.75       380\n",
      "       macro avg       0.77      0.75      0.75       380\n",
      "    weighted avg       0.77      0.75      0.75       380\n",
      "\n"
     ]
    },
    {
     "name": "stderr",
     "output_type": "stream",
     "text": [
      "Training Epochs:  59%|█████▉    | 1181/2000 [01:12<00:58, 14.01it/s]"
     ]
    },
    {
     "name": "stdout",
     "output_type": "stream",
     "text": [
      "Epoch 1180/2000, Loss: 0.1264\n",
      "Test Accuracy at Epoch 1180: 73.95%\n",
      "Test F1-score at Epoch 1180: 0.7714\n",
      "Classification Report at Epoch 1180:\n",
      "                  precision    recall  f1-score   support\n",
      "\n",
      "    infringement       0.86      0.59      0.70       194\n",
      "non_infringement       0.68      0.90      0.77       186\n",
      "\n",
      "        accuracy                           0.74       380\n",
      "       macro avg       0.77      0.74      0.73       380\n",
      "    weighted avg       0.77      0.74      0.73       380\n",
      "\n"
     ]
    },
    {
     "name": "stderr",
     "output_type": "stream",
     "text": [
      "Training Epochs:  60%|█████▉    | 1192/2000 [01:13<00:52, 15.44it/s]"
     ]
    },
    {
     "name": "stdout",
     "output_type": "stream",
     "text": [
      "Epoch 1190/2000, Loss: 0.1195\n",
      "Test Accuracy at Epoch 1190: 73.95%\n",
      "Test F1-score at Epoch 1190: 0.7714\n",
      "Classification Report at Epoch 1190:\n",
      "                  precision    recall  f1-score   support\n",
      "\n",
      "    infringement       0.86      0.59      0.70       194\n",
      "non_infringement       0.68      0.90      0.77       186\n",
      "\n",
      "        accuracy                           0.74       380\n",
      "       macro avg       0.77      0.74      0.73       380\n",
      "    weighted avg       0.77      0.74      0.73       380\n",
      "\n"
     ]
    },
    {
     "name": "stderr",
     "output_type": "stream",
     "text": [
      "Training Epochs:  60%|██████    | 1202/2000 [01:14<00:53, 14.98it/s]"
     ]
    },
    {
     "name": "stdout",
     "output_type": "stream",
     "text": [
      "Epoch 1200/2000, Loss: 0.1150\n",
      "Test Accuracy at Epoch 1200: 74.21%\n",
      "Test F1-score at Epoch 1200: 0.7731\n",
      "Classification Report at Epoch 1200:\n",
      "                  precision    recall  f1-score   support\n",
      "\n",
      "    infringement       0.86      0.59      0.70       194\n",
      "non_infringement       0.68      0.90      0.77       186\n",
      "\n",
      "        accuracy                           0.74       380\n",
      "       macro avg       0.77      0.75      0.74       380\n",
      "    weighted avg       0.77      0.74      0.74       380\n",
      "\n"
     ]
    },
    {
     "name": "stderr",
     "output_type": "stream",
     "text": [
      "Training Epochs:  61%|██████    | 1212/2000 [01:15<00:58, 13.43it/s]"
     ]
    },
    {
     "name": "stdout",
     "output_type": "stream",
     "text": [
      "Epoch 1210/2000, Loss: 0.1136\n",
      "Test Accuracy at Epoch 1210: 74.74%\n",
      "Test F1-score at Epoch 1210: 0.7767\n",
      "Classification Report at Epoch 1210:\n",
      "                  precision    recall  f1-score   support\n",
      "\n",
      "    infringement       0.86      0.60      0.71       194\n",
      "non_infringement       0.68      0.90      0.78       186\n",
      "\n",
      "        accuracy                           0.75       380\n",
      "       macro avg       0.77      0.75      0.74       380\n",
      "    weighted avg       0.77      0.75      0.74       380\n",
      "\n"
     ]
    },
    {
     "name": "stderr",
     "output_type": "stream",
     "text": [
      "Training Epochs:  61%|██████    | 1222/2000 [01:15<00:52, 14.87it/s]"
     ]
    },
    {
     "name": "stdout",
     "output_type": "stream",
     "text": [
      "Epoch 1220/2000, Loss: 0.1132\n",
      "Test Accuracy at Epoch 1220: 75.00%\n",
      "Test F1-score at Epoch 1220: 0.7765\n",
      "Classification Report at Epoch 1220:\n",
      "                  precision    recall  f1-score   support\n",
      "\n",
      "    infringement       0.85      0.62      0.72       194\n",
      "non_infringement       0.69      0.89      0.78       186\n",
      "\n",
      "        accuracy                           0.75       380\n",
      "       macro avg       0.77      0.75      0.75       380\n",
      "    weighted avg       0.77      0.75      0.75       380\n",
      "\n"
     ]
    },
    {
     "name": "stderr",
     "output_type": "stream",
     "text": [
      "Training Epochs:  62%|██████▏   | 1233/2000 [01:16<00:41, 18.37it/s]"
     ]
    },
    {
     "name": "stdout",
     "output_type": "stream",
     "text": [
      "Epoch 1230/2000, Loss: 0.1142\n",
      "Test Accuracy at Epoch 1230: 75.26%\n",
      "Test F1-score at Epoch 1230: 0.7783\n",
      "Classification Report at Epoch 1230:\n",
      "                  precision    recall  f1-score   support\n",
      "\n",
      "    infringement       0.85      0.62      0.72       194\n",
      "non_infringement       0.69      0.89      0.78       186\n",
      "\n",
      "        accuracy                           0.75       380\n",
      "       macro avg       0.77      0.76      0.75       380\n",
      "    weighted avg       0.77      0.75      0.75       380\n",
      "\n"
     ]
    },
    {
     "name": "stderr",
     "output_type": "stream",
     "text": [
      "Training Epochs:  62%|██████▏   | 1244/2000 [01:16<00:30, 24.43it/s]"
     ]
    },
    {
     "name": "stdout",
     "output_type": "stream",
     "text": [
      "Epoch 1240/2000, Loss: 0.1144\n",
      "Test Accuracy at Epoch 1240: 75.00%\n",
      "Test F1-score at Epoch 1240: 0.7765\n",
      "Classification Report at Epoch 1240:\n",
      "                  precision    recall  f1-score   support\n",
      "\n",
      "    infringement       0.85      0.62      0.72       194\n",
      "non_infringement       0.69      0.89      0.78       186\n",
      "\n",
      "        accuracy                           0.75       380\n",
      "       macro avg       0.77      0.75      0.75       380\n",
      "    weighted avg       0.77      0.75      0.75       380\n",
      "\n"
     ]
    },
    {
     "name": "stderr",
     "output_type": "stream",
     "text": [
      "Training Epochs:  63%|██████▎   | 1252/2000 [01:17<00:45, 16.56it/s]"
     ]
    },
    {
     "name": "stdout",
     "output_type": "stream",
     "text": [
      "Epoch 1250/2000, Loss: 0.1133\n",
      "Test Accuracy at Epoch 1250: 74.74%\n",
      "Test F1-score at Epoch 1250: 0.7746\n",
      "Classification Report at Epoch 1250:\n",
      "                  precision    recall  f1-score   support\n",
      "\n",
      "    infringement       0.85      0.61      0.71       194\n",
      "non_infringement       0.69      0.89      0.77       186\n",
      "\n",
      "        accuracy                           0.75       380\n",
      "       macro avg       0.77      0.75      0.74       380\n",
      "    weighted avg       0.77      0.75      0.74       380\n",
      "\n"
     ]
    },
    {
     "name": "stderr",
     "output_type": "stream",
     "text": [
      "Training Epochs:  63%|██████▎   | 1261/2000 [01:17<00:37, 19.74it/s]"
     ]
    },
    {
     "name": "stdout",
     "output_type": "stream",
     "text": [
      "Epoch 1260/2000, Loss: 0.1127\n",
      "Test Accuracy at Epoch 1260: 75.00%\n",
      "Test F1-score at Epoch 1260: 0.7765\n",
      "Classification Report at Epoch 1260:\n",
      "                  precision    recall  f1-score   support\n",
      "\n",
      "    infringement       0.85      0.62      0.72       194\n",
      "non_infringement       0.69      0.89      0.78       186\n",
      "\n",
      "        accuracy                           0.75       380\n",
      "       macro avg       0.77      0.75      0.75       380\n",
      "    weighted avg       0.77      0.75      0.75       380\n",
      "\n"
     ]
    },
    {
     "name": "stderr",
     "output_type": "stream",
     "text": [
      "Training Epochs:  64%|██████▎   | 1274/2000 [01:18<00:32, 22.03it/s]"
     ]
    },
    {
     "name": "stdout",
     "output_type": "stream",
     "text": [
      "Epoch 1270/2000, Loss: 0.1126\n",
      "Test Accuracy at Epoch 1270: 75.00%\n",
      "Test F1-score at Epoch 1270: 0.7765\n",
      "Classification Report at Epoch 1270:\n",
      "                  precision    recall  f1-score   support\n",
      "\n",
      "    infringement       0.85      0.62      0.72       194\n",
      "non_infringement       0.69      0.89      0.78       186\n",
      "\n",
      "        accuracy                           0.75       380\n",
      "       macro avg       0.77      0.75      0.75       380\n",
      "    weighted avg       0.77      0.75      0.75       380\n",
      "\n"
     ]
    },
    {
     "name": "stderr",
     "output_type": "stream",
     "text": [
      "Training Epochs:  64%|██████▍   | 1280/2000 [01:18<00:33, 21.18it/s]"
     ]
    },
    {
     "name": "stdout",
     "output_type": "stream",
     "text": [
      "Epoch 1280/2000, Loss: 0.1123\n",
      "Test Accuracy at Epoch 1280: 75.00%\n",
      "Test F1-score at Epoch 1280: 0.7765\n",
      "Classification Report at Epoch 1280:\n",
      "                  precision    recall  f1-score   support\n",
      "\n",
      "    infringement       0.85      0.62      0.72       194\n",
      "non_infringement       0.69      0.89      0.78       186\n",
      "\n",
      "        accuracy                           0.75       380\n",
      "       macro avg       0.77      0.75      0.75       380\n",
      "    weighted avg       0.77      0.75      0.75       380\n",
      "\n"
     ]
    },
    {
     "name": "stderr",
     "output_type": "stream",
     "text": [
      "Training Epochs:  65%|██████▍   | 1293/2000 [01:19<00:46, 15.35it/s]"
     ]
    },
    {
     "name": "stdout",
     "output_type": "stream",
     "text": [
      "Epoch 1290/2000, Loss: 0.1120\n",
      "Test Accuracy at Epoch 1290: 75.00%\n",
      "Test F1-score at Epoch 1290: 0.7765\n",
      "Classification Report at Epoch 1290:\n",
      "                  precision    recall  f1-score   support\n",
      "\n",
      "    infringement       0.85      0.62      0.72       194\n",
      "non_infringement       0.69      0.89      0.78       186\n",
      "\n",
      "        accuracy                           0.75       380\n",
      "       macro avg       0.77      0.75      0.75       380\n",
      "    weighted avg       0.77      0.75      0.75       380\n",
      "\n"
     ]
    },
    {
     "name": "stderr",
     "output_type": "stream",
     "text": [
      "Training Epochs:  65%|██████▌   | 1302/2000 [01:20<00:52, 13.22it/s]"
     ]
    },
    {
     "name": "stdout",
     "output_type": "stream",
     "text": [
      "Epoch 1300/2000, Loss: 0.1118\n",
      "Test Accuracy at Epoch 1300: 75.00%\n",
      "Test F1-score at Epoch 1300: 0.7765\n",
      "Classification Report at Epoch 1300:\n",
      "                  precision    recall  f1-score   support\n",
      "\n",
      "    infringement       0.85      0.62      0.72       194\n",
      "non_infringement       0.69      0.89      0.78       186\n",
      "\n",
      "        accuracy                           0.75       380\n",
      "       macro avg       0.77      0.75      0.75       380\n",
      "    weighted avg       0.77      0.75      0.75       380\n",
      "\n"
     ]
    },
    {
     "name": "stderr",
     "output_type": "stream",
     "text": [
      "Training Epochs:  66%|██████▌   | 1312/2000 [01:20<00:33, 20.43it/s]"
     ]
    },
    {
     "name": "stdout",
     "output_type": "stream",
     "text": [
      "Epoch 1310/2000, Loss: 0.1117\n",
      "Test Accuracy at Epoch 1310: 75.00%\n",
      "Test F1-score at Epoch 1310: 0.7765\n",
      "Classification Report at Epoch 1310:\n",
      "                  precision    recall  f1-score   support\n",
      "\n",
      "    infringement       0.85      0.62      0.72       194\n",
      "non_infringement       0.69      0.89      0.78       186\n",
      "\n",
      "        accuracy                           0.75       380\n",
      "       macro avg       0.77      0.75      0.75       380\n",
      "    weighted avg       0.77      0.75      0.75       380\n",
      "\n"
     ]
    },
    {
     "name": "stderr",
     "output_type": "stream",
     "text": [
      "Training Epochs:  66%|██████▌   | 1322/2000 [01:21<00:28, 23.44it/s]"
     ]
    },
    {
     "name": "stdout",
     "output_type": "stream",
     "text": [
      "Epoch 1320/2000, Loss: 0.1115\n",
      "Test Accuracy at Epoch 1320: 75.00%\n",
      "Test F1-score at Epoch 1320: 0.7765\n",
      "Classification Report at Epoch 1320:\n",
      "                  precision    recall  f1-score   support\n",
      "\n",
      "    infringement       0.85      0.62      0.72       194\n",
      "non_infringement       0.69      0.89      0.78       186\n",
      "\n",
      "        accuracy                           0.75       380\n",
      "       macro avg       0.77      0.75      0.75       380\n",
      "    weighted avg       0.77      0.75      0.75       380\n",
      "\n"
     ]
    },
    {
     "name": "stderr",
     "output_type": "stream",
     "text": [
      "Training Epochs:  67%|██████▋   | 1334/2000 [01:21<00:30, 22.09it/s]"
     ]
    },
    {
     "name": "stdout",
     "output_type": "stream",
     "text": [
      "Epoch 1330/2000, Loss: 0.1114\n",
      "Test Accuracy at Epoch 1330: 75.00%\n",
      "Test F1-score at Epoch 1330: 0.7765\n",
      "Classification Report at Epoch 1330:\n",
      "                  precision    recall  f1-score   support\n",
      "\n",
      "    infringement       0.85      0.62      0.72       194\n",
      "non_infringement       0.69      0.89      0.78       186\n",
      "\n",
      "        accuracy                           0.75       380\n",
      "       macro avg       0.77      0.75      0.75       380\n",
      "    weighted avg       0.77      0.75      0.75       380\n",
      "\n"
     ]
    },
    {
     "name": "stderr",
     "output_type": "stream",
     "text": [
      "Training Epochs:  67%|██████▋   | 1344/2000 [01:21<00:23, 27.62it/s]"
     ]
    },
    {
     "name": "stdout",
     "output_type": "stream",
     "text": [
      "Epoch 1340/2000, Loss: 0.1112\n",
      "Test Accuracy at Epoch 1340: 75.00%\n",
      "Test F1-score at Epoch 1340: 0.7765\n",
      "Classification Report at Epoch 1340:\n",
      "                  precision    recall  f1-score   support\n",
      "\n",
      "    infringement       0.85      0.62      0.72       194\n",
      "non_infringement       0.69      0.89      0.78       186\n",
      "\n",
      "        accuracy                           0.75       380\n",
      "       macro avg       0.77      0.75      0.75       380\n",
      "    weighted avg       0.77      0.75      0.75       380\n",
      "\n"
     ]
    },
    {
     "name": "stderr",
     "output_type": "stream",
     "text": [
      "Training Epochs:  68%|██████▊   | 1355/2000 [01:22<00:21, 29.70it/s]"
     ]
    },
    {
     "name": "stdout",
     "output_type": "stream",
     "text": [
      "Epoch 1350/2000, Loss: 0.1111\n",
      "Test Accuracy at Epoch 1350: 75.00%\n",
      "Test F1-score at Epoch 1350: 0.7765\n",
      "Classification Report at Epoch 1350:\n",
      "                  precision    recall  f1-score   support\n",
      "\n",
      "    infringement       0.85      0.62      0.72       194\n",
      "non_infringement       0.69      0.89      0.78       186\n",
      "\n",
      "        accuracy                           0.75       380\n",
      "       macro avg       0.77      0.75      0.75       380\n",
      "    weighted avg       0.77      0.75      0.75       380\n",
      "\n"
     ]
    },
    {
     "name": "stderr",
     "output_type": "stream",
     "text": [
      "Training Epochs:  68%|██████▊   | 1362/2000 [01:22<00:23, 27.39it/s]"
     ]
    },
    {
     "name": "stdout",
     "output_type": "stream",
     "text": [
      "Epoch 1360/2000, Loss: 0.1109\n",
      "Test Accuracy at Epoch 1360: 75.00%\n",
      "Test F1-score at Epoch 1360: 0.7765\n",
      "Classification Report at Epoch 1360:\n",
      "                  precision    recall  f1-score   support\n",
      "\n",
      "    infringement       0.85      0.62      0.72       194\n",
      "non_infringement       0.69      0.89      0.78       186\n",
      "\n",
      "        accuracy                           0.75       380\n",
      "       macro avg       0.77      0.75      0.75       380\n",
      "    weighted avg       0.77      0.75      0.75       380\n",
      "\n"
     ]
    },
    {
     "name": "stderr",
     "output_type": "stream",
     "text": [
      "Training Epochs:  69%|██████▊   | 1372/2000 [01:23<00:29, 21.48it/s]"
     ]
    },
    {
     "name": "stdout",
     "output_type": "stream",
     "text": [
      "Epoch 1370/2000, Loss: 0.1108\n",
      "Test Accuracy at Epoch 1370: 75.00%\n",
      "Test F1-score at Epoch 1370: 0.7765\n",
      "Classification Report at Epoch 1370:\n",
      "                  precision    recall  f1-score   support\n",
      "\n",
      "    infringement       0.85      0.62      0.72       194\n",
      "non_infringement       0.69      0.89      0.78       186\n",
      "\n",
      "        accuracy                           0.75       380\n",
      "       macro avg       0.77      0.75      0.75       380\n",
      "    weighted avg       0.77      0.75      0.75       380\n",
      "\n"
     ]
    },
    {
     "name": "stderr",
     "output_type": "stream",
     "text": [
      "Training Epochs:  69%|██████▉   | 1381/2000 [01:23<00:34, 17.74it/s]"
     ]
    },
    {
     "name": "stdout",
     "output_type": "stream",
     "text": [
      "Epoch 1380/2000, Loss: 0.1111\n",
      "Test Accuracy at Epoch 1380: 73.95%\n",
      "Test F1-score at Epoch 1380: 0.7692\n",
      "Classification Report at Epoch 1380:\n",
      "                  precision    recall  f1-score   support\n",
      "\n",
      "    infringement       0.85      0.60      0.70       194\n",
      "non_infringement       0.68      0.89      0.77       186\n",
      "\n",
      "        accuracy                           0.74       380\n",
      "       macro avg       0.76      0.74      0.74       380\n",
      "    weighted avg       0.76      0.74      0.73       380\n",
      "\n"
     ]
    },
    {
     "name": "stderr",
     "output_type": "stream",
     "text": [
      "Training Epochs:  70%|██████▉   | 1391/2000 [01:24<00:56, 10.74it/s]"
     ]
    },
    {
     "name": "stdout",
     "output_type": "stream",
     "text": [
      "Epoch 1390/2000, Loss: 0.1164\n",
      "Test Accuracy at Epoch 1390: 73.68%\n",
      "Test F1-score at Epoch 1390: 0.7674\n",
      "Classification Report at Epoch 1390:\n",
      "                  precision    recall  f1-score   support\n",
      "\n",
      "    infringement       0.85      0.59      0.70       194\n",
      "non_infringement       0.68      0.89      0.77       186\n",
      "\n",
      "        accuracy                           0.74       380\n",
      "       macro avg       0.76      0.74      0.73       380\n",
      "    weighted avg       0.76      0.74      0.73       380\n",
      "\n"
     ]
    },
    {
     "name": "stderr",
     "output_type": "stream",
     "text": [
      "Training Epochs:  70%|███████   | 1400/2000 [01:25<00:40, 14.84it/s]"
     ]
    },
    {
     "name": "stdout",
     "output_type": "stream",
     "text": [
      "Epoch 1400/2000, Loss: 0.1105\n",
      "Test Accuracy at Epoch 1400: 73.95%\n",
      "Test F1-score at Epoch 1400: 0.7692\n",
      "Classification Report at Epoch 1400:\n",
      "                  precision    recall  f1-score   support\n",
      "\n",
      "    infringement       0.85      0.60      0.70       194\n",
      "non_infringement       0.68      0.89      0.77       186\n",
      "\n",
      "        accuracy                           0.74       380\n",
      "       macro avg       0.76      0.74      0.74       380\n",
      "    weighted avg       0.76      0.74      0.73       380\n",
      "\n"
     ]
    },
    {
     "name": "stderr",
     "output_type": "stream",
     "text": [
      "Training Epochs:  71%|███████   | 1411/2000 [01:26<00:39, 14.93it/s]"
     ]
    },
    {
     "name": "stdout",
     "output_type": "stream",
     "text": [
      "Epoch 1410/2000, Loss: 0.1105\n",
      "Test Accuracy at Epoch 1410: 79.47%\n",
      "Test F1-score at Epoch 1410: 0.8088\n",
      "Classification Report at Epoch 1410:\n",
      "                  precision    recall  f1-score   support\n",
      "\n",
      "    infringement       0.87      0.71      0.78       194\n",
      "non_infringement       0.74      0.89      0.81       186\n",
      "\n",
      "        accuracy                           0.79       380\n",
      "       macro avg       0.81      0.80      0.79       380\n",
      "    weighted avg       0.81      0.79      0.79       380\n",
      "\n",
      "New best model saved with F1-score 0.8088 at epoch 1410\n",
      "Best Classification Report at Epoch 1410:\n",
      "                  precision    recall  f1-score   support\n",
      "\n",
      "    infringement       0.87      0.71      0.78       194\n",
      "non_infringement       0.74      0.89      0.81       186\n",
      "\n",
      "        accuracy                           0.79       380\n",
      "       macro avg       0.81      0.80      0.79       380\n",
      "    weighted avg       0.81      0.79      0.79       380\n",
      "\n"
     ]
    },
    {
     "name": "stderr",
     "output_type": "stream",
     "text": [
      "Training Epochs:  71%|███████   | 1419/2000 [01:26<00:32, 17.66it/s]"
     ]
    },
    {
     "name": "stdout",
     "output_type": "stream",
     "text": [
      "Epoch 1420/2000, Loss: 0.1101\n",
      "Test Accuracy at Epoch 1420: 74.74%\n",
      "Test F1-score at Epoch 1420: 0.7746\n",
      "Classification Report at Epoch 1420:\n",
      "                  precision    recall  f1-score   support\n",
      "\n",
      "    infringement       0.85      0.61      0.71       194\n",
      "non_infringement       0.69      0.89      0.77       186\n",
      "\n",
      "        accuracy                           0.75       380\n",
      "       macro avg       0.77      0.75      0.74       380\n",
      "    weighted avg       0.77      0.75      0.74       380\n",
      "\n"
     ]
    },
    {
     "name": "stderr",
     "output_type": "stream",
     "text": [
      "Training Epochs:  72%|███████▏  | 1433/2000 [01:27<00:26, 21.15it/s]"
     ]
    },
    {
     "name": "stdout",
     "output_type": "stream",
     "text": [
      "Epoch 1430/2000, Loss: 0.1102\n",
      "Test Accuracy at Epoch 1430: 73.95%\n",
      "Test F1-score at Epoch 1430: 0.7692\n",
      "Classification Report at Epoch 1430:\n",
      "                  precision    recall  f1-score   support\n",
      "\n",
      "    infringement       0.85      0.60      0.70       194\n",
      "non_infringement       0.68      0.89      0.77       186\n",
      "\n",
      "        accuracy                           0.74       380\n",
      "       macro avg       0.76      0.74      0.74       380\n",
      "    weighted avg       0.76      0.74      0.73       380\n",
      "\n"
     ]
    },
    {
     "name": "stderr",
     "output_type": "stream",
     "text": [
      "Training Epochs:  72%|███████▏  | 1440/2000 [01:27<00:33, 16.51it/s]"
     ]
    },
    {
     "name": "stdout",
     "output_type": "stream",
     "text": [
      "Epoch 1440/2000, Loss: 0.1098\n",
      "Test Accuracy at Epoch 1440: 75.00%\n",
      "Test F1-score at Epoch 1440: 0.7765\n",
      "Classification Report at Epoch 1440:\n",
      "                  precision    recall  f1-score   support\n",
      "\n",
      "    infringement       0.85      0.62      0.72       194\n",
      "non_infringement       0.69      0.89      0.78       186\n",
      "\n",
      "        accuracy                           0.75       380\n",
      "       macro avg       0.77      0.75      0.75       380\n",
      "    weighted avg       0.77      0.75      0.75       380\n",
      "\n"
     ]
    },
    {
     "name": "stderr",
     "output_type": "stream",
     "text": [
      "Training Epochs:  72%|███████▎  | 1450/2000 [01:33<04:18,  2.13it/s]"
     ]
    },
    {
     "name": "stdout",
     "output_type": "stream",
     "text": [
      "Epoch 1450/2000, Loss: 0.1105\n",
      "Test Accuracy at Epoch 1450: 79.47%\n",
      "Test F1-score at Epoch 1450: 0.8088\n",
      "Classification Report at Epoch 1450:\n",
      "                  precision    recall  f1-score   support\n",
      "\n",
      "    infringement       0.87      0.71      0.78       194\n",
      "non_infringement       0.74      0.89      0.81       186\n",
      "\n",
      "        accuracy                           0.79       380\n",
      "       macro avg       0.81      0.80      0.79       380\n",
      "    weighted avg       0.81      0.79      0.79       380\n",
      "\n"
     ]
    },
    {
     "name": "stderr",
     "output_type": "stream",
     "text": [
      "Training Epochs:  73%|███████▎  | 1460/2000 [01:37<02:46,  3.24it/s]"
     ]
    },
    {
     "name": "stdout",
     "output_type": "stream",
     "text": [
      "Epoch 1460/2000, Loss: 0.1123\n",
      "Test Accuracy at Epoch 1460: 81.58%\n",
      "Test F1-score at Epoch 1460: 0.8250\n",
      "Classification Report at Epoch 1460:\n",
      "                  precision    recall  f1-score   support\n",
      "\n",
      "    infringement       0.87      0.75      0.81       194\n",
      "non_infringement       0.77      0.89      0.82       186\n",
      "\n",
      "        accuracy                           0.82       380\n",
      "       macro avg       0.82      0.82      0.82       380\n",
      "    weighted avg       0.82      0.82      0.82       380\n",
      "\n",
      "New best model saved with F1-score 0.8250 at epoch 1460\n",
      "Best Classification Report at Epoch 1460:\n",
      "                  precision    recall  f1-score   support\n",
      "\n",
      "    infringement       0.87      0.75      0.81       194\n",
      "non_infringement       0.77      0.89      0.82       186\n",
      "\n",
      "        accuracy                           0.82       380\n",
      "       macro avg       0.82      0.82      0.82       380\n",
      "    weighted avg       0.82      0.82      0.82       380\n",
      "\n"
     ]
    },
    {
     "name": "stderr",
     "output_type": "stream",
     "text": [
      "Training Epochs:  74%|███████▎  | 1470/2000 [01:39<02:57,  2.98it/s]"
     ]
    },
    {
     "name": "stdout",
     "output_type": "stream",
     "text": [
      "Epoch 1470/2000, Loss: 0.1107\n",
      "Test Accuracy at Epoch 1470: 73.68%\n",
      "Test F1-score at Epoch 1470: 0.7674\n",
      "Classification Report at Epoch 1470:\n",
      "                  precision    recall  f1-score   support\n",
      "\n",
      "    infringement       0.85      0.59      0.70       194\n",
      "non_infringement       0.68      0.89      0.77       186\n",
      "\n",
      "        accuracy                           0.74       380\n",
      "       macro avg       0.76      0.74      0.73       380\n",
      "    weighted avg       0.76      0.74      0.73       380\n",
      "\n"
     ]
    },
    {
     "name": "stderr",
     "output_type": "stream",
     "text": [
      "Training Epochs:  74%|███████▍  | 1479/2000 [01:44<04:37,  1.88it/s]"
     ]
    },
    {
     "name": "stdout",
     "output_type": "stream",
     "text": [
      "Epoch 1480/2000, Loss: 0.1098\n",
      "Test Accuracy at Epoch 1480: 73.95%\n",
      "Test F1-score at Epoch 1480: 0.7692\n"
     ]
    },
    {
     "name": "stderr",
     "output_type": "stream",
     "text": [
      "Training Epochs:  74%|███████▍  | 1480/2000 [01:45<05:15,  1.65it/s]"
     ]
    },
    {
     "name": "stdout",
     "output_type": "stream",
     "text": [
      "Classification Report at Epoch 1480:\n",
      "                  precision    recall  f1-score   support\n",
      "\n",
      "    infringement       0.85      0.60      0.70       194\n",
      "non_infringement       0.68      0.89      0.77       186\n",
      "\n",
      "        accuracy                           0.74       380\n",
      "       macro avg       0.76      0.74      0.74       380\n",
      "    weighted avg       0.76      0.74      0.73       380\n",
      "\n"
     ]
    },
    {
     "name": "stderr",
     "output_type": "stream",
     "text": [
      "Training Epochs:  74%|███████▍  | 1490/2000 [01:48<02:56,  2.88it/s]"
     ]
    },
    {
     "name": "stdout",
     "output_type": "stream",
     "text": [
      "Epoch 1490/2000, Loss: 0.1110\n",
      "Test Accuracy at Epoch 1490: 81.58%\n",
      "Test F1-score at Epoch 1490: 0.8250\n",
      "Classification Report at Epoch 1490:\n",
      "                  precision    recall  f1-score   support\n",
      "\n",
      "    infringement       0.87      0.75      0.81       194\n",
      "non_infringement       0.77      0.89      0.82       186\n",
      "\n",
      "        accuracy                           0.82       380\n",
      "       macro avg       0.82      0.82      0.82       380\n",
      "    weighted avg       0.82      0.82      0.82       380\n",
      "\n"
     ]
    },
    {
     "name": "stderr",
     "output_type": "stream",
     "text": [
      "Training Epochs:  75%|███████▌  | 1501/2000 [01:52<01:47,  4.63it/s]"
     ]
    },
    {
     "name": "stdout",
     "output_type": "stream",
     "text": [
      "Epoch 1500/2000, Loss: 0.1091\n",
      "Test Accuracy at Epoch 1500: 75.00%\n",
      "Test F1-score at Epoch 1500: 0.7765\n",
      "Classification Report at Epoch 1500:\n",
      "                  precision    recall  f1-score   support\n",
      "\n",
      "    infringement       0.85      0.62      0.72       194\n",
      "non_infringement       0.69      0.89      0.78       186\n",
      "\n",
      "        accuracy                           0.75       380\n",
      "       macro avg       0.77      0.75      0.75       380\n",
      "    weighted avg       0.77      0.75      0.75       380\n",
      "\n"
     ]
    },
    {
     "name": "stderr",
     "output_type": "stream",
     "text": [
      "Training Epochs:  76%|███████▌  | 1511/2000 [01:53<00:42, 11.55it/s]"
     ]
    },
    {
     "name": "stdout",
     "output_type": "stream",
     "text": [
      "Epoch 1510/2000, Loss: 0.1102\n",
      "Test Accuracy at Epoch 1510: 73.68%\n",
      "Test F1-score at Epoch 1510: 0.7674\n",
      "Classification Report at Epoch 1510:\n",
      "                  precision    recall  f1-score   support\n",
      "\n",
      "    infringement       0.85      0.59      0.70       194\n",
      "non_infringement       0.68      0.89      0.77       186\n",
      "\n",
      "        accuracy                           0.74       380\n",
      "       macro avg       0.76      0.74      0.73       380\n",
      "    weighted avg       0.76      0.74      0.73       380\n",
      "\n"
     ]
    },
    {
     "name": "stderr",
     "output_type": "stream",
     "text": [
      "Training Epochs:  76%|███████▌  | 1520/2000 [01:57<04:01,  1.99it/s]"
     ]
    },
    {
     "name": "stdout",
     "output_type": "stream",
     "text": [
      "Epoch 1520/2000, Loss: 0.1095\n",
      "Test Accuracy at Epoch 1520: 73.95%\n",
      "Test F1-score at Epoch 1520: 0.7692\n",
      "Classification Report at Epoch 1520:\n",
      "                  precision    recall  f1-score   support\n",
      "\n",
      "    infringement       0.85      0.60      0.70       194\n",
      "non_infringement       0.68      0.89      0.77       186\n",
      "\n",
      "        accuracy                           0.74       380\n",
      "       macro avg       0.76      0.74      0.74       380\n",
      "    weighted avg       0.76      0.74      0.73       380\n",
      "\n"
     ]
    },
    {
     "name": "stderr",
     "output_type": "stream",
     "text": [
      "Training Epochs:  76%|███████▋  | 1530/2000 [02:02<03:08,  2.49it/s]"
     ]
    },
    {
     "name": "stdout",
     "output_type": "stream",
     "text": [
      "Epoch 1530/2000, Loss: 0.1100\n",
      "Test Accuracy at Epoch 1530: 81.32%\n",
      "Test F1-score at Epoch 1530: 0.8229\n",
      "Classification Report at Epoch 1530:\n",
      "                  precision    recall  f1-score   support\n",
      "\n",
      "    infringement       0.87      0.74      0.80       194\n",
      "non_infringement       0.77      0.89      0.82       186\n",
      "\n",
      "        accuracy                           0.81       380\n",
      "       macro avg       0.82      0.81      0.81       380\n",
      "    weighted avg       0.82      0.81      0.81       380\n",
      "\n"
     ]
    },
    {
     "name": "stderr",
     "output_type": "stream",
     "text": [
      "Training Epochs:  77%|███████▋  | 1543/2000 [02:05<00:49,  9.15it/s]"
     ]
    },
    {
     "name": "stdout",
     "output_type": "stream",
     "text": [
      "Epoch 1540/2000, Loss: 0.1090\n",
      "Test Accuracy at Epoch 1540: 78.16%\n",
      "Test F1-score at Epoch 1540: 0.7990\n",
      "Classification Report at Epoch 1540:\n",
      "                  precision    recall  f1-score   support\n",
      "\n",
      "    infringement       0.86      0.68      0.76       194\n",
      "non_infringement       0.73      0.89      0.80       186\n",
      "\n",
      "        accuracy                           0.78       380\n",
      "       macro avg       0.79      0.78      0.78       380\n",
      "    weighted avg       0.80      0.78      0.78       380\n",
      "\n"
     ]
    },
    {
     "name": "stderr",
     "output_type": "stream",
     "text": [
      "Training Epochs:  78%|███████▊  | 1550/2000 [02:06<00:58,  7.72it/s]"
     ]
    },
    {
     "name": "stdout",
     "output_type": "stream",
     "text": [
      "Epoch 1550/2000, Loss: 0.1100\n",
      "Test Accuracy at Epoch 1550: 72.89%\n",
      "Test F1-score at Epoch 1550: 0.7621\n",
      "Classification Report at Epoch 1550:\n",
      "                  precision    recall  f1-score   support\n",
      "\n",
      "    infringement       0.84      0.58      0.69       194\n",
      "non_infringement       0.67      0.89      0.76       186\n",
      "\n",
      "        accuracy                           0.73       380\n",
      "       macro avg       0.76      0.73      0.72       380\n",
      "    weighted avg       0.76      0.73      0.72       380\n",
      "\n"
     ]
    },
    {
     "name": "stderr",
     "output_type": "stream",
     "text": [
      "Training Epochs:  78%|███████▊  | 1560/2000 [02:10<02:34,  2.84it/s]"
     ]
    },
    {
     "name": "stdout",
     "output_type": "stream",
     "text": [
      "Epoch 1560/2000, Loss: 0.1085\n",
      "Test Accuracy at Epoch 1560: 75.79%\n",
      "Test F1-score at Epoch 1560: 0.7820\n",
      "Classification Report at Epoch 1560:\n",
      "                  precision    recall  f1-score   support\n",
      "\n",
      "    infringement       0.85      0.63      0.73       194\n",
      "non_infringement       0.70      0.89      0.78       186\n",
      "\n",
      "        accuracy                           0.76       380\n",
      "       macro avg       0.78      0.76      0.75       380\n",
      "    weighted avg       0.78      0.76      0.75       380\n",
      "\n"
     ]
    },
    {
     "name": "stderr",
     "output_type": "stream",
     "text": [
      "Training Epochs:  78%|███████▊  | 1570/2000 [02:15<03:26,  2.09it/s]"
     ]
    },
    {
     "name": "stdout",
     "output_type": "stream",
     "text": [
      "Epoch 1570/2000, Loss: 0.1095\n",
      "Test Accuracy at Epoch 1570: 81.32%\n",
      "Test F1-score at Epoch 1570: 0.8221\n",
      "Classification Report at Epoch 1570:\n",
      "                  precision    recall  f1-score   support\n",
      "\n",
      "    infringement       0.87      0.75      0.80       194\n",
      "non_infringement       0.77      0.88      0.82       186\n",
      "\n",
      "        accuracy                           0.81       380\n",
      "       macro avg       0.82      0.81      0.81       380\n",
      "    weighted avg       0.82      0.81      0.81       380\n",
      "\n"
     ]
    },
    {
     "name": "stderr",
     "output_type": "stream",
     "text": [
      "Training Epochs:  79%|███████▉  | 1580/2000 [02:21<04:08,  1.69it/s]"
     ]
    },
    {
     "name": "stdout",
     "output_type": "stream",
     "text": [
      "Epoch 1580/2000, Loss: 0.1086\n",
      "Test Accuracy at Epoch 1580: 78.16%\n",
      "Test F1-score at Epoch 1580: 0.7990\n",
      "Classification Report at Epoch 1580:\n",
      "                  precision    recall  f1-score   support\n",
      "\n",
      "    infringement       0.86      0.68      0.76       194\n",
      "non_infringement       0.73      0.89      0.80       186\n",
      "\n",
      "        accuracy                           0.78       380\n",
      "       macro avg       0.79      0.78      0.78       380\n",
      "    weighted avg       0.80      0.78      0.78       380\n",
      "\n"
     ]
    },
    {
     "name": "stderr",
     "output_type": "stream",
     "text": [
      "Training Epochs:  80%|███████▉  | 1590/2000 [02:26<03:53,  1.76it/s]"
     ]
    },
    {
     "name": "stdout",
     "output_type": "stream",
     "text": [
      "Epoch 1590/2000, Loss: 0.1089\n",
      "Test Accuracy at Epoch 1590: 73.68%\n",
      "Test F1-score at Epoch 1590: 0.7674\n",
      "Classification Report at Epoch 1590:\n",
      "                  precision    recall  f1-score   support\n",
      "\n",
      "    infringement       0.85      0.59      0.70       194\n",
      "non_infringement       0.68      0.89      0.77       186\n",
      "\n",
      "        accuracy                           0.74       380\n",
      "       macro avg       0.76      0.74      0.73       380\n",
      "    weighted avg       0.76      0.74      0.73       380\n",
      "\n"
     ]
    },
    {
     "name": "stderr",
     "output_type": "stream",
     "text": [
      "Training Epochs:  80%|████████  | 1600/2000 [02:32<03:32,  1.89it/s]"
     ]
    },
    {
     "name": "stdout",
     "output_type": "stream",
     "text": [
      "Epoch 1600/2000, Loss: 0.1088\n",
      "Test Accuracy at Epoch 1600: 73.95%\n",
      "Test F1-score at Epoch 1600: 0.7692\n",
      "Classification Report at Epoch 1600:\n",
      "                  precision    recall  f1-score   support\n",
      "\n",
      "    infringement       0.85      0.60      0.70       194\n",
      "non_infringement       0.68      0.89      0.77       186\n",
      "\n",
      "        accuracy                           0.74       380\n",
      "       macro avg       0.76      0.74      0.74       380\n",
      "    weighted avg       0.76      0.74      0.73       380\n",
      "\n"
     ]
    },
    {
     "name": "stderr",
     "output_type": "stream",
     "text": [
      "Training Epochs:  80%|████████  | 1610/2000 [02:37<03:40,  1.77it/s]"
     ]
    },
    {
     "name": "stdout",
     "output_type": "stream",
     "text": [
      "Epoch 1610/2000, Loss: 0.1087\n",
      "Test Accuracy at Epoch 1610: 81.32%\n",
      "Test F1-score at Epoch 1610: 0.8221\n",
      "Classification Report at Epoch 1610:\n",
      "                  precision    recall  f1-score   support\n",
      "\n",
      "    infringement       0.87      0.75      0.80       194\n",
      "non_infringement       0.77      0.88      0.82       186\n",
      "\n",
      "        accuracy                           0.81       380\n",
      "       macro avg       0.82      0.81      0.81       380\n",
      "    weighted avg       0.82      0.81      0.81       380\n",
      "\n"
     ]
    },
    {
     "name": "stderr",
     "output_type": "stream",
     "text": [
      "Training Epochs:  81%|████████  | 1620/2000 [02:41<02:59,  2.12it/s]"
     ]
    },
    {
     "name": "stdout",
     "output_type": "stream",
     "text": [
      "Epoch 1620/2000, Loss: 0.1085\n",
      "Test Accuracy at Epoch 1620: 79.47%\n",
      "Test F1-score at Epoch 1620: 0.8079\n",
      "Classification Report at Epoch 1620:\n",
      "                  precision    recall  f1-score   support\n",
      "\n",
      "    infringement       0.86      0.71      0.78       194\n",
      "non_infringement       0.75      0.88      0.81       186\n",
      "\n",
      "        accuracy                           0.79       380\n",
      "       macro avg       0.80      0.80      0.79       380\n",
      "    weighted avg       0.81      0.79      0.79       380\n",
      "\n"
     ]
    },
    {
     "name": "stderr",
     "output_type": "stream",
     "text": [
      "Training Epochs:  82%|████████▏ | 1630/2000 [02:47<03:47,  1.62it/s]"
     ]
    },
    {
     "name": "stdout",
     "output_type": "stream",
     "text": [
      "Epoch 1630/2000, Loss: 0.1083\n",
      "Test Accuracy at Epoch 1630: 72.89%\n",
      "Test F1-score at Epoch 1630: 0.7621\n",
      "Classification Report at Epoch 1630:\n",
      "                  precision    recall  f1-score   support\n",
      "\n",
      "    infringement       0.84      0.58      0.69       194\n",
      "non_infringement       0.67      0.89      0.76       186\n",
      "\n",
      "        accuracy                           0.73       380\n",
      "       macro avg       0.76      0.73      0.72       380\n",
      "    weighted avg       0.76      0.73      0.72       380\n",
      "\n"
     ]
    },
    {
     "name": "stderr",
     "output_type": "stream",
     "text": [
      "Training Epochs:  82%|████████▏ | 1640/2000 [02:53<03:16,  1.83it/s]"
     ]
    },
    {
     "name": "stdout",
     "output_type": "stream",
     "text": [
      "Epoch 1640/2000, Loss: 0.1085\n",
      "Test Accuracy at Epoch 1640: 73.95%\n",
      "Test F1-score at Epoch 1640: 0.7692\n",
      "Classification Report at Epoch 1640:\n",
      "                  precision    recall  f1-score   support\n",
      "\n",
      "    infringement       0.85      0.60      0.70       194\n",
      "non_infringement       0.68      0.89      0.77       186\n",
      "\n",
      "        accuracy                           0.74       380\n",
      "       macro avg       0.76      0.74      0.74       380\n",
      "    weighted avg       0.76      0.74      0.73       380\n",
      "\n"
     ]
    },
    {
     "name": "stderr",
     "output_type": "stream",
     "text": [
      "Training Epochs:  82%|████████▎ | 1650/2000 [02:58<03:12,  1.81it/s]"
     ]
    },
    {
     "name": "stdout",
     "output_type": "stream",
     "text": [
      "Epoch 1650/2000, Loss: 0.1077\n",
      "Test Accuracy at Epoch 1650: 79.74%\n",
      "Test F1-score at Epoch 1650: 0.8099\n",
      "Classification Report at Epoch 1650:\n",
      "                  precision    recall  f1-score   support\n",
      "\n",
      "    infringement       0.86      0.72      0.78       194\n",
      "non_infringement       0.75      0.88      0.81       186\n",
      "\n",
      "        accuracy                           0.80       380\n",
      "       macro avg       0.81      0.80      0.80       380\n",
      "    weighted avg       0.81      0.80      0.80       380\n",
      "\n"
     ]
    },
    {
     "name": "stderr",
     "output_type": "stream",
     "text": [
      "Training Epochs:  83%|████████▎ | 1660/2000 [03:03<03:00,  1.89it/s]"
     ]
    },
    {
     "name": "stdout",
     "output_type": "stream",
     "text": [
      "Epoch 1660/2000, Loss: 0.1091\n",
      "Test Accuracy at Epoch 1660: 81.58%\n",
      "Test F1-score at Epoch 1660: 0.8241\n",
      "Classification Report at Epoch 1660:\n",
      "                  precision    recall  f1-score   support\n",
      "\n",
      "    infringement       0.87      0.75      0.81       194\n",
      "non_infringement       0.77      0.88      0.82       186\n",
      "\n",
      "        accuracy                           0.82       380\n",
      "       macro avg       0.82      0.82      0.82       380\n",
      "    weighted avg       0.82      0.82      0.82       380\n",
      "\n"
     ]
    },
    {
     "name": "stderr",
     "output_type": "stream",
     "text": [
      "Training Epochs:  84%|████████▎ | 1670/2000 [03:06<02:17,  2.41it/s]"
     ]
    },
    {
     "name": "stdout",
     "output_type": "stream",
     "text": [
      "Epoch 1670/2000, Loss: 0.1073\n",
      "Test Accuracy at Epoch 1670: 75.53%\n",
      "Test F1-score at Epoch 1670: 0.7801\n",
      "Classification Report at Epoch 1670:\n",
      "                  precision    recall  f1-score   support\n",
      "\n",
      "    infringement       0.85      0.63      0.72       194\n",
      "non_infringement       0.70      0.89      0.78       186\n",
      "\n",
      "        accuracy                           0.76       380\n",
      "       macro avg       0.77      0.76      0.75       380\n",
      "    weighted avg       0.78      0.76      0.75       380\n",
      "\n"
     ]
    },
    {
     "name": "stderr",
     "output_type": "stream",
     "text": [
      "Training Epochs:  84%|████████▍ | 1680/2000 [03:11<02:45,  1.94it/s]"
     ]
    },
    {
     "name": "stdout",
     "output_type": "stream",
     "text": [
      "Epoch 1680/2000, Loss: 0.1090\n",
      "Test Accuracy at Epoch 1680: 72.89%\n",
      "Test F1-score at Epoch 1680: 0.7621\n",
      "Classification Report at Epoch 1680:\n",
      "                  precision    recall  f1-score   support\n",
      "\n",
      "    infringement       0.84      0.58      0.69       194\n",
      "non_infringement       0.67      0.89      0.76       186\n",
      "\n",
      "        accuracy                           0.73       380\n",
      "       macro avg       0.76      0.73      0.72       380\n",
      "    weighted avg       0.76      0.73      0.72       380\n",
      "\n"
     ]
    },
    {
     "name": "stderr",
     "output_type": "stream",
     "text": [
      "Training Epochs:  84%|████████▍ | 1690/2000 [03:16<02:41,  1.92it/s]"
     ]
    },
    {
     "name": "stdout",
     "output_type": "stream",
     "text": [
      "Epoch 1690/2000, Loss: 0.1069\n",
      "Test Accuracy at Epoch 1690: 78.42%\n",
      "Test F1-score at Epoch 1690: 0.8000\n",
      "Classification Report at Epoch 1690:\n",
      "                  precision    recall  f1-score   support\n",
      "\n",
      "    infringement       0.86      0.69      0.77       194\n",
      "non_infringement       0.73      0.88      0.80       186\n",
      "\n",
      "        accuracy                           0.78       380\n",
      "       macro avg       0.80      0.79      0.78       380\n",
      "    weighted avg       0.80      0.78      0.78       380\n",
      "\n"
     ]
    },
    {
     "name": "stderr",
     "output_type": "stream",
     "text": [
      "Training Epochs:  85%|████████▌ | 1700/2000 [03:22<03:01,  1.65it/s]"
     ]
    },
    {
     "name": "stdout",
     "output_type": "stream",
     "text": [
      "Epoch 1700/2000, Loss: 0.1091\n",
      "Test Accuracy at Epoch 1700: 81.84%\n",
      "Test F1-score at Epoch 1700: 0.8262\n",
      "Classification Report at Epoch 1700:\n",
      "                  precision    recall  f1-score   support\n",
      "\n",
      "    infringement       0.87      0.76      0.81       194\n",
      "non_infringement       0.78      0.88      0.83       186\n",
      "\n",
      "        accuracy                           0.82       380\n",
      "       macro avg       0.82      0.82      0.82       380\n",
      "    weighted avg       0.82      0.82      0.82       380\n",
      "\n",
      "New best model saved with F1-score 0.8262 at epoch 1700\n",
      "Best Classification Report at Epoch 1700:\n",
      "                  precision    recall  f1-score   support\n",
      "\n",
      "    infringement       0.87      0.76      0.81       194\n",
      "non_infringement       0.78      0.88      0.83       186\n",
      "\n",
      "        accuracy                           0.82       380\n",
      "       macro avg       0.82      0.82      0.82       380\n",
      "    weighted avg       0.82      0.82      0.82       380\n",
      "\n"
     ]
    },
    {
     "name": "stderr",
     "output_type": "stream",
     "text": [
      "Training Epochs:  86%|████████▌ | 1710/2000 [03:27<02:33,  1.89it/s]"
     ]
    },
    {
     "name": "stdout",
     "output_type": "stream",
     "text": [
      "Epoch 1710/2000, Loss: 0.1065\n",
      "Test Accuracy at Epoch 1710: 75.79%\n",
      "Test F1-score at Epoch 1710: 0.7810\n",
      "Classification Report at Epoch 1710:\n",
      "                  precision    recall  f1-score   support\n",
      "\n",
      "    infringement       0.85      0.64      0.73       194\n",
      "non_infringement       0.70      0.88      0.78       186\n",
      "\n",
      "        accuracy                           0.76       380\n",
      "       macro avg       0.78      0.76      0.76       380\n",
      "    weighted avg       0.78      0.76      0.75       380\n",
      "\n"
     ]
    },
    {
     "name": "stderr",
     "output_type": "stream",
     "text": [
      "Training Epochs:  86%|████████▌ | 1720/2000 [03:31<02:06,  2.22it/s]"
     ]
    },
    {
     "name": "stdout",
     "output_type": "stream",
     "text": [
      "Epoch 1720/2000, Loss: 0.1089\n",
      "Test Accuracy at Epoch 1720: 72.89%\n",
      "Test F1-score at Epoch 1720: 0.7621\n",
      "Classification Report at Epoch 1720:\n",
      "                  precision    recall  f1-score   support\n",
      "\n",
      "    infringement       0.84      0.58      0.69       194\n",
      "non_infringement       0.67      0.89      0.76       186\n",
      "\n",
      "        accuracy                           0.73       380\n",
      "       macro avg       0.76      0.73      0.72       380\n",
      "    weighted avg       0.76      0.73      0.72       380\n",
      "\n"
     ]
    },
    {
     "name": "stderr",
     "output_type": "stream",
     "text": [
      "Training Epochs:  86%|████████▋ | 1730/2000 [03:36<02:26,  1.84it/s]"
     ]
    },
    {
     "name": "stdout",
     "output_type": "stream",
     "text": [
      "Epoch 1730/2000, Loss: 0.1062\n",
      "Test Accuracy at Epoch 1730: 77.89%\n",
      "Test F1-score at Epoch 1730: 0.7961\n",
      "Classification Report at Epoch 1730:\n",
      "                  precision    recall  f1-score   support\n",
      "\n",
      "    infringement       0.86      0.68      0.76       194\n",
      "non_infringement       0.73      0.88      0.80       186\n",
      "\n",
      "        accuracy                           0.78       380\n",
      "       macro avg       0.79      0.78      0.78       380\n",
      "    weighted avg       0.79      0.78      0.78       380\n",
      "\n"
     ]
    },
    {
     "name": "stderr",
     "output_type": "stream",
     "text": [
      "Training Epochs:  87%|████████▋ | 1740/2000 [03:41<02:23,  1.81it/s]"
     ]
    },
    {
     "name": "stdout",
     "output_type": "stream",
     "text": [
      "Epoch 1740/2000, Loss: 0.1086\n",
      "Test Accuracy at Epoch 1740: 81.84%\n",
      "Test F1-score at Epoch 1740: 0.8262\n",
      "Classification Report at Epoch 1740:\n",
      "                  precision    recall  f1-score   support\n",
      "\n",
      "    infringement       0.87      0.76      0.81       194\n",
      "non_infringement       0.78      0.88      0.83       186\n",
      "\n",
      "        accuracy                           0.82       380\n",
      "       macro avg       0.82      0.82      0.82       380\n",
      "    weighted avg       0.82      0.82      0.82       380\n",
      "\n"
     ]
    },
    {
     "name": "stderr",
     "output_type": "stream",
     "text": [
      "Training Epochs:  88%|████████▊ | 1750/2000 [03:45<01:01,  4.06it/s]"
     ]
    },
    {
     "name": "stdout",
     "output_type": "stream",
     "text": [
      "Epoch 1750/2000, Loss: 0.1059\n",
      "Test Accuracy at Epoch 1750: 77.89%\n",
      "Test F1-score at Epoch 1750: 0.7961\n",
      "Classification Report at Epoch 1750:\n",
      "                  precision    recall  f1-score   support\n",
      "\n",
      "    infringement       0.86      0.68      0.76       194\n",
      "non_infringement       0.73      0.88      0.80       186\n",
      "\n",
      "        accuracy                           0.78       380\n",
      "       macro avg       0.79      0.78      0.78       380\n",
      "    weighted avg       0.79      0.78      0.78       380\n",
      "\n"
     ]
    },
    {
     "name": "stderr",
     "output_type": "stream",
     "text": [
      "Training Epochs:  88%|████████▊ | 1759/2000 [03:45<00:22, 10.69it/s]"
     ]
    },
    {
     "name": "stdout",
     "output_type": "stream",
     "text": [
      "Epoch 1760/2000, Loss: 0.1079\n",
      "Test Accuracy at Epoch 1760: 74.47%\n",
      "Test F1-score at Epoch 1760: 0.7728\n",
      "Classification Report at Epoch 1760:\n",
      "                  precision    recall  f1-score   support\n",
      "\n",
      "    infringement       0.85      0.61      0.71       194\n",
      "non_infringement       0.68      0.89      0.77       186\n",
      "\n",
      "        accuracy                           0.74       380\n",
      "       macro avg       0.77      0.75      0.74       380\n",
      "    weighted avg       0.77      0.74      0.74       380\n",
      "\n"
     ]
    },
    {
     "name": "stderr",
     "output_type": "stream",
     "text": [
      "Training Epochs:  88%|████████▊ | 1770/2000 [03:46<00:18, 12.73it/s]"
     ]
    },
    {
     "name": "stdout",
     "output_type": "stream",
     "text": [
      "Epoch 1770/2000, Loss: 0.1058\n",
      "Test Accuracy at Epoch 1770: 77.89%\n",
      "Test F1-score at Epoch 1770: 0.7961\n",
      "Classification Report at Epoch 1770:\n",
      "                  precision    recall  f1-score   support\n",
      "\n",
      "    infringement       0.86      0.68      0.76       194\n",
      "non_infringement       0.73      0.88      0.80       186\n",
      "\n",
      "        accuracy                           0.78       380\n",
      "       macro avg       0.79      0.78      0.78       380\n",
      "    weighted avg       0.79      0.78      0.78       380\n",
      "\n"
     ]
    },
    {
     "name": "stderr",
     "output_type": "stream",
     "text": [
      "Training Epochs:  89%|████████▉ | 1779/2000 [03:49<00:47,  4.62it/s]"
     ]
    },
    {
     "name": "stdout",
     "output_type": "stream",
     "text": [
      "Epoch 1780/2000, Loss: 0.1073\n",
      "Test Accuracy at Epoch 1780: 81.84%\n",
      "Test F1-score at Epoch 1780: 0.8262\n",
      "Classification Report at Epoch 1780:\n",
      "                  precision    recall  f1-score   support\n",
      "\n",
      "    infringement       0.87      0.76      0.81       194\n",
      "non_infringement       0.78      0.88      0.83       186\n",
      "\n",
      "        accuracy                           0.82       380\n",
      "       macro avg       0.82      0.82      0.82       380\n",
      "    weighted avg       0.82      0.82      0.82       380\n",
      "\n"
     ]
    },
    {
     "name": "stderr",
     "output_type": "stream",
     "text": [
      "Training Epochs:  90%|████████▉ | 1794/2000 [03:50<00:22,  9.25it/s]"
     ]
    },
    {
     "name": "stdout",
     "output_type": "stream",
     "text": [
      "Epoch 1790/2000, Loss: 0.1060\n",
      "Test Accuracy at Epoch 1790: 77.89%\n",
      "Test F1-score at Epoch 1790: 0.7961\n",
      "Classification Report at Epoch 1790:\n",
      "                  precision    recall  f1-score   support\n",
      "\n",
      "    infringement       0.86      0.68      0.76       194\n",
      "non_infringement       0.73      0.88      0.80       186\n",
      "\n",
      "        accuracy                           0.78       380\n",
      "       macro avg       0.79      0.78      0.78       380\n",
      "    weighted avg       0.79      0.78      0.78       380\n",
      "\n"
     ]
    },
    {
     "name": "stderr",
     "output_type": "stream",
     "text": [
      "Training Epochs:  90%|█████████ | 1808/2000 [03:51<00:08, 21.41it/s]"
     ]
    },
    {
     "name": "stdout",
     "output_type": "stream",
     "text": [
      "Epoch 1800/2000, Loss: 0.1065\n",
      "Test Accuracy at Epoch 1800: 74.74%\n",
      "Test F1-score at Epoch 1800: 0.7736\n",
      "Classification Report at Epoch 1800:\n",
      "                  precision    recall  f1-score   support\n",
      "\n",
      "    infringement       0.85      0.62      0.71       194\n",
      "non_infringement       0.69      0.88      0.77       186\n",
      "\n",
      "        accuracy                           0.75       380\n",
      "       macro avg       0.77      0.75      0.74       380\n",
      "    weighted avg       0.77      0.75      0.74       380\n",
      "\n"
     ]
    },
    {
     "name": "stderr",
     "output_type": "stream",
     "text": [
      "Training Epochs:  91%|█████████ | 1812/2000 [03:51<00:12, 15.11it/s]"
     ]
    },
    {
     "name": "stdout",
     "output_type": "stream",
     "text": [
      "Epoch 1810/2000, Loss: 0.1065\n",
      "Test Accuracy at Epoch 1810: 75.00%\n",
      "Test F1-score at Epoch 1810: 0.7754\n",
      "Classification Report at Epoch 1810:\n",
      "                  precision    recall  f1-score   support\n",
      "\n",
      "    infringement       0.85      0.62      0.72       194\n",
      "non_infringement       0.69      0.88      0.78       186\n",
      "\n",
      "        accuracy                           0.75       380\n",
      "       macro avg       0.77      0.75      0.75       380\n",
      "    weighted avg       0.77      0.75      0.75       380\n",
      "\n"
     ]
    },
    {
     "name": "stderr",
     "output_type": "stream",
     "text": [
      "Training Epochs:  91%|█████████ | 1819/2000 [03:52<00:11, 15.14it/s]"
     ]
    },
    {
     "name": "stdout",
     "output_type": "stream",
     "text": [
      "Epoch 1820/2000, Loss: 0.1059\n",
      "Test Accuracy at Epoch 1820: 78.42%\n",
      "Test F1-score at Epoch 1820: 0.8000\n",
      "Classification Report at Epoch 1820:\n",
      "                  precision    recall  f1-score   support\n",
      "\n",
      "    infringement       0.86      0.69      0.77       194\n",
      "non_infringement       0.73      0.88      0.80       186\n",
      "\n",
      "        accuracy                           0.78       380\n",
      "       macro avg       0.80      0.79      0.78       380\n",
      "    weighted avg       0.80      0.78      0.78       380\n",
      "\n"
     ]
    },
    {
     "name": "stderr",
     "output_type": "stream",
     "text": [
      "Training Epochs:  92%|█████████▏| 1833/2000 [03:53<00:11, 14.22it/s]"
     ]
    },
    {
     "name": "stdout",
     "output_type": "stream",
     "text": [
      "Epoch 1830/2000, Loss: 0.1071\n",
      "Test Accuracy at Epoch 1830: 81.58%\n",
      "Test F1-score at Epoch 1830: 0.8241\n",
      "Classification Report at Epoch 1830:\n",
      "                  precision    recall  f1-score   support\n",
      "\n",
      "    infringement       0.87      0.75      0.81       194\n",
      "non_infringement       0.77      0.88      0.82       186\n",
      "\n",
      "        accuracy                           0.82       380\n",
      "       macro avg       0.82      0.82      0.82       380\n",
      "    weighted avg       0.82      0.82      0.82       380\n",
      "\n"
     ]
    },
    {
     "name": "stderr",
     "output_type": "stream",
     "text": [
      "Training Epochs:  92%|█████████▏| 1838/2000 [03:53<00:08, 18.80it/s]"
     ]
    },
    {
     "name": "stdout",
     "output_type": "stream",
     "text": [
      "Epoch 1840/2000, Loss: 0.1054\n",
      "Test Accuracy at Epoch 1840: 75.26%\n",
      "Test F1-score at Epoch 1840: 0.7773\n",
      "Classification Report at Epoch 1840:\n",
      "                  precision    recall  f1-score   support\n",
      "\n",
      "    infringement       0.85      0.63      0.72       194\n",
      "non_infringement       0.69      0.88      0.78       186\n",
      "\n",
      "        accuracy                           0.75       380\n",
      "       macro avg       0.77      0.76      0.75       380\n",
      "    weighted avg       0.77      0.75      0.75       380\n",
      "\n"
     ]
    },
    {
     "name": "stderr",
     "output_type": "stream",
     "text": [
      "Training Epochs:  92%|█████████▎| 1850/2000 [03:59<01:02,  2.40it/s]"
     ]
    },
    {
     "name": "stdout",
     "output_type": "stream",
     "text": [
      "Epoch 1850/2000, Loss: 0.1075\n",
      "Test Accuracy at Epoch 1850: 74.74%\n",
      "Test F1-score at Epoch 1850: 0.7736\n",
      "Classification Report at Epoch 1850:\n",
      "                  precision    recall  f1-score   support\n",
      "\n",
      "    infringement       0.85      0.62      0.71       194\n",
      "non_infringement       0.69      0.88      0.77       186\n",
      "\n",
      "        accuracy                           0.75       380\n",
      "       macro avg       0.77      0.75      0.74       380\n",
      "    weighted avg       0.77      0.75      0.74       380\n",
      "\n"
     ]
    },
    {
     "name": "stderr",
     "output_type": "stream",
     "text": [
      "Training Epochs:  93%|█████████▎| 1860/2000 [04:05<01:24,  1.66it/s]"
     ]
    },
    {
     "name": "stdout",
     "output_type": "stream",
     "text": [
      "Epoch 1860/2000, Loss: 0.1049\n",
      "Test Accuracy at Epoch 1860: 77.89%\n",
      "Test F1-score at Epoch 1860: 0.7961\n",
      "Classification Report at Epoch 1860:\n",
      "                  precision    recall  f1-score   support\n",
      "\n",
      "    infringement       0.86      0.68      0.76       194\n",
      "non_infringement       0.73      0.88      0.80       186\n",
      "\n",
      "        accuracy                           0.78       380\n",
      "       macro avg       0.79      0.78      0.78       380\n",
      "    weighted avg       0.79      0.78      0.78       380\n",
      "\n"
     ]
    },
    {
     "name": "stderr",
     "output_type": "stream",
     "text": [
      "Training Epochs:  94%|█████████▎| 1870/2000 [04:11<01:17,  1.67it/s]"
     ]
    },
    {
     "name": "stdout",
     "output_type": "stream",
     "text": [
      "Epoch 1870/2000, Loss: 0.1075\n",
      "Test Accuracy at Epoch 1870: 81.84%\n",
      "Test F1-score at Epoch 1870: 0.8262\n",
      "Classification Report at Epoch 1870:\n",
      "                  precision    recall  f1-score   support\n",
      "\n",
      "    infringement       0.87      0.76      0.81       194\n",
      "non_infringement       0.78      0.88      0.83       186\n",
      "\n",
      "        accuracy                           0.82       380\n",
      "       macro avg       0.82      0.82      0.82       380\n",
      "    weighted avg       0.82      0.82      0.82       380\n",
      "\n"
     ]
    },
    {
     "name": "stderr",
     "output_type": "stream",
     "text": [
      "Training Epochs:  94%|█████████▍| 1880/2000 [04:16<01:11,  1.68it/s]"
     ]
    },
    {
     "name": "stdout",
     "output_type": "stream",
     "text": [
      "Epoch 1880/2000, Loss: 0.1046\n",
      "Test Accuracy at Epoch 1880: 77.37%\n",
      "Test F1-score at Epoch 1880: 0.7923\n",
      "Classification Report at Epoch 1880:\n",
      "                  precision    recall  f1-score   support\n",
      "\n",
      "    infringement       0.86      0.67      0.75       194\n",
      "non_infringement       0.72      0.88      0.79       186\n",
      "\n",
      "        accuracy                           0.77       380\n",
      "       macro avg       0.79      0.78      0.77       380\n",
      "    weighted avg       0.79      0.77      0.77       380\n",
      "\n"
     ]
    },
    {
     "name": "stderr",
     "output_type": "stream",
     "text": [
      "Training Epochs:  94%|█████████▍| 1890/2000 [04:22<01:03,  1.74it/s]"
     ]
    },
    {
     "name": "stdout",
     "output_type": "stream",
     "text": [
      "Epoch 1890/2000, Loss: 0.1068\n",
      "Test Accuracy at Epoch 1890: 74.74%\n",
      "Test F1-score at Epoch 1890: 0.7736\n",
      "Classification Report at Epoch 1890:\n",
      "                  precision    recall  f1-score   support\n",
      "\n",
      "    infringement       0.85      0.62      0.71       194\n",
      "non_infringement       0.69      0.88      0.77       186\n",
      "\n",
      "        accuracy                           0.75       380\n",
      "       macro avg       0.77      0.75      0.74       380\n",
      "    weighted avg       0.77      0.75      0.74       380\n",
      "\n"
     ]
    },
    {
     "name": "stderr",
     "output_type": "stream",
     "text": [
      "Training Epochs:  95%|█████████▌| 1901/2000 [04:26<00:24,  4.11it/s]"
     ]
    },
    {
     "name": "stdout",
     "output_type": "stream",
     "text": [
      "Epoch 1900/2000, Loss: 0.1046\n",
      "Test Accuracy at Epoch 1900: 77.37%\n",
      "Test F1-score at Epoch 1900: 0.7923\n",
      "Classification Report at Epoch 1900:\n",
      "                  precision    recall  f1-score   support\n",
      "\n",
      "    infringement       0.86      0.67      0.75       194\n",
      "non_infringement       0.72      0.88      0.79       186\n",
      "\n",
      "        accuracy                           0.77       380\n",
      "       macro avg       0.79      0.78      0.77       380\n",
      "    weighted avg       0.79      0.77      0.77       380\n",
      "\n"
     ]
    },
    {
     "name": "stderr",
     "output_type": "stream",
     "text": [
      "Training Epochs:  96%|█████████▌| 1910/2000 [04:30<00:48,  1.86it/s]"
     ]
    },
    {
     "name": "stdout",
     "output_type": "stream",
     "text": [
      "Epoch 1910/2000, Loss: 0.1060\n",
      "Test Accuracy at Epoch 1910: 81.84%\n",
      "Test F1-score at Epoch 1910: 0.8262\n",
      "Classification Report at Epoch 1910:\n",
      "                  precision    recall  f1-score   support\n",
      "\n",
      "    infringement       0.87      0.76      0.81       194\n",
      "non_infringement       0.78      0.88      0.83       186\n",
      "\n",
      "        accuracy                           0.82       380\n",
      "       macro avg       0.82      0.82      0.82       380\n",
      "    weighted avg       0.82      0.82      0.82       380\n",
      "\n"
     ]
    },
    {
     "name": "stderr",
     "output_type": "stream",
     "text": [
      "Training Epochs:  96%|█████████▌| 1920/2000 [04:35<00:46,  1.71it/s]"
     ]
    },
    {
     "name": "stdout",
     "output_type": "stream",
     "text": [
      "Epoch 1920/2000, Loss: 0.1049\n",
      "Test Accuracy at Epoch 1920: 77.89%\n",
      "Test F1-score at Epoch 1920: 0.7961\n",
      "Classification Report at Epoch 1920:\n",
      "                  precision    recall  f1-score   support\n",
      "\n",
      "    infringement       0.86      0.68      0.76       194\n",
      "non_infringement       0.73      0.88      0.80       186\n",
      "\n",
      "        accuracy                           0.78       380\n",
      "       macro avg       0.79      0.78      0.78       380\n",
      "    weighted avg       0.79      0.78      0.78       380\n",
      "\n"
     ]
    },
    {
     "name": "stderr",
     "output_type": "stream",
     "text": [
      "Training Epochs:  96%|█████████▋| 1930/2000 [04:41<00:41,  1.68it/s]"
     ]
    },
    {
     "name": "stdout",
     "output_type": "stream",
     "text": [
      "Epoch 1930/2000, Loss: 0.1052\n",
      "Test Accuracy at Epoch 1930: 74.74%\n",
      "Test F1-score at Epoch 1930: 0.7736\n",
      "Classification Report at Epoch 1930:\n",
      "                  precision    recall  f1-score   support\n",
      "\n",
      "    infringement       0.85      0.62      0.71       194\n",
      "non_infringement       0.69      0.88      0.77       186\n",
      "\n",
      "        accuracy                           0.75       380\n",
      "       macro avg       0.77      0.75      0.74       380\n",
      "    weighted avg       0.77      0.75      0.74       380\n",
      "\n"
     ]
    },
    {
     "name": "stderr",
     "output_type": "stream",
     "text": [
      "Training Epochs:  97%|█████████▋| 1940/2000 [04:46<00:33,  1.82it/s]"
     ]
    },
    {
     "name": "stdout",
     "output_type": "stream",
     "text": [
      "Epoch 1940/2000, Loss: 0.1056\n",
      "Test Accuracy at Epoch 1940: 75.00%\n",
      "Test F1-score at Epoch 1940: 0.7754\n",
      "Classification Report at Epoch 1940:\n",
      "                  precision    recall  f1-score   support\n",
      "\n",
      "    infringement       0.85      0.62      0.72       194\n",
      "non_infringement       0.69      0.88      0.78       186\n",
      "\n",
      "        accuracy                           0.75       380\n",
      "       macro avg       0.77      0.75      0.75       380\n",
      "    weighted avg       0.77      0.75      0.75       380\n",
      "\n"
     ]
    },
    {
     "name": "stderr",
     "output_type": "stream",
     "text": [
      "Training Epochs:  98%|█████████▊| 1950/2000 [04:51<00:26,  1.87it/s]"
     ]
    },
    {
     "name": "stdout",
     "output_type": "stream",
     "text": [
      "Epoch 1950/2000, Loss: 0.1045\n",
      "Test Accuracy at Epoch 1950: 77.89%\n",
      "Test F1-score at Epoch 1950: 0.7961\n",
      "Classification Report at Epoch 1950:\n",
      "                  precision    recall  f1-score   support\n",
      "\n",
      "    infringement       0.86      0.68      0.76       194\n",
      "non_infringement       0.73      0.88      0.80       186\n",
      "\n",
      "        accuracy                           0.78       380\n",
      "       macro avg       0.79      0.78      0.78       380\n",
      "    weighted avg       0.79      0.78      0.78       380\n",
      "\n"
     ]
    },
    {
     "name": "stderr",
     "output_type": "stream",
     "text": [
      "Training Epochs:  98%|█████████▊| 1959/2000 [04:54<00:08,  4.72it/s]"
     ]
    },
    {
     "name": "stdout",
     "output_type": "stream",
     "text": [
      "Epoch 1960/2000, Loss: 0.1064\n",
      "Test Accuracy at Epoch 1960: 81.84%\n",
      "Test F1-score at Epoch 1960: 0.8262\n",
      "Classification Report at Epoch 1960:\n",
      "                  precision    recall  f1-score   support\n",
      "\n",
      "    infringement       0.87      0.76      0.81       194\n",
      "non_infringement       0.78      0.88      0.83       186\n",
      "\n",
      "        accuracy                           0.82       380\n",
      "       macro avg       0.82      0.82      0.82       380\n",
      "    weighted avg       0.82      0.82      0.82       380\n",
      "\n"
     ]
    },
    {
     "name": "stderr",
     "output_type": "stream",
     "text": [
      "Training Epochs:  99%|█████████▊| 1971/2000 [04:56<00:03,  8.85it/s]"
     ]
    },
    {
     "name": "stdout",
     "output_type": "stream",
     "text": [
      "Epoch 1970/2000, Loss: 0.1040\n",
      "Test Accuracy at Epoch 1970: 76.84%\n",
      "Test F1-score at Epoch 1970: 0.7885\n",
      "Classification Report at Epoch 1970:\n",
      "                  precision    recall  f1-score   support\n",
      "\n",
      "    infringement       0.85      0.66      0.74       194\n",
      "non_infringement       0.71      0.88      0.79       186\n",
      "\n",
      "        accuracy                           0.77       380\n",
      "       macro avg       0.78      0.77      0.77       380\n",
      "    weighted avg       0.78      0.77      0.77       380\n",
      "\n"
     ]
    },
    {
     "name": "stderr",
     "output_type": "stream",
     "text": [
      "Training Epochs:  99%|█████████▉| 1983/2000 [04:56<00:01, 16.90it/s]"
     ]
    },
    {
     "name": "stdout",
     "output_type": "stream",
     "text": [
      "Epoch 1980/2000, Loss: 0.1064\n",
      "Test Accuracy at Epoch 1980: 74.74%\n",
      "Test F1-score at Epoch 1980: 0.7736\n",
      "Classification Report at Epoch 1980:\n",
      "                  precision    recall  f1-score   support\n",
      "\n",
      "    infringement       0.85      0.62      0.71       194\n",
      "non_infringement       0.69      0.88      0.77       186\n",
      "\n",
      "        accuracy                           0.75       380\n",
      "       macro avg       0.77      0.75      0.74       380\n",
      "    weighted avg       0.77      0.75      0.74       380\n",
      "\n"
     ]
    },
    {
     "name": "stderr",
     "output_type": "stream",
     "text": [
      "Training Epochs: 100%|█████████▉| 1992/2000 [04:57<00:00, 19.06it/s]"
     ]
    },
    {
     "name": "stdout",
     "output_type": "stream",
     "text": [
      "Epoch 1990/2000, Loss: 0.1037\n",
      "Test Accuracy at Epoch 1990: 77.37%\n",
      "Test F1-score at Epoch 1990: 0.7923\n",
      "Classification Report at Epoch 1990:\n",
      "                  precision    recall  f1-score   support\n",
      "\n",
      "    infringement       0.86      0.67      0.75       194\n",
      "non_infringement       0.72      0.88      0.79       186\n",
      "\n",
      "        accuracy                           0.77       380\n",
      "       macro avg       0.79      0.78      0.77       380\n",
      "    weighted avg       0.79      0.77      0.77       380\n",
      "\n"
     ]
    },
    {
     "name": "stderr",
     "output_type": "stream",
     "text": [
      "Training Epochs: 100%|██████████| 2000/2000 [04:57<00:00,  6.71it/s]\n",
      "/tmp/ipykernel_327735/2033666368.py:59: FutureWarning: You are using `torch.load` with `weights_only=False` (the current default value), which uses the default pickle module implicitly. It is possible to construct malicious pickle data which will execute arbitrary code during unpickling (See https://github.com/pytorch/pytorch/blob/main/SECURITY.md#untrusted-models for more details). In a future release, the default value for `weights_only` will be flipped to `True`. This limits the functions that could be executed during unpickling. Arbitrary objects will no longer be allowed to be loaded via this mode unless they are explicitly allowlisted by the user via `torch.serialization.add_safe_globals`. We recommend you start setting `weights_only=True` for any use case where you don't have full control of the loaded file. Please open an issue on GitHub for any issues related to this experimental feature.\n",
      "  custom_mlp.load_state_dict(torch.load(checkpoint_path))\n"
     ]
    },
    {
     "name": "stdout",
     "output_type": "stream",
     "text": [
      "Epoch 2000/2000, Loss: 0.1059\n",
      "Test Accuracy at Epoch 2000: 82.11%\n",
      "Test F1-score at Epoch 2000: 0.8283\n",
      "Classification Report at Epoch 2000:\n",
      "                  precision    recall  f1-score   support\n",
      "\n",
      "    infringement       0.87      0.76      0.81       194\n",
      "non_infringement       0.78      0.88      0.83       186\n",
      "\n",
      "        accuracy                           0.82       380\n",
      "       macro avg       0.83      0.82      0.82       380\n",
      "    weighted avg       0.83      0.82      0.82       380\n",
      "\n",
      "New best model saved with F1-score 0.8283 at epoch 2000\n",
      "Best Classification Report at Epoch 2000:\n",
      "                  precision    recall  f1-score   support\n",
      "\n",
      "    infringement       0.87      0.76      0.81       194\n",
      "non_infringement       0.78      0.88      0.83       186\n",
      "\n",
      "        accuracy                           0.82       380\n",
      "       macro avg       0.83      0.82      0.82       380\n",
      "    weighted avg       0.83      0.82      0.82       380\n",
      "\n"
     ]
    },
    {
     "data": {
      "image/png": "[encoded data removed]",
      "text/plain": [
       "<Figure size 1000x500 with 1 Axes>"
      ]
     },
     "metadata": {},
     "output_type": "display_data"
    },
    {
     "name": "stdout",
     "output_type": "stream",
     "text": [
      "Final Model Accuracy: 82.11%\n",
      "Final Model F1-score: 0.8283\n"
     ]
    }
   ],
   "source": [
    "input_dim = X_train.shape[1]\n",
    "hidden_dim = 256 \n",
    "print(f\"Training MLP model with input_dim={input_dim} and hidden_dim={hidden_dim}\")\n",
    "\n",
    "custom_mlp, losses, best_accuracy, best_f1 = train_model(X_train, y_train, X_test, y_test, input_dim, hidden_dim)"
   ]
  },
  {
   "cell_type": "code",
   "execution_count": 10,
   "metadata": {},
   "outputs": [
    {
     "name": "stdout",
     "output_type": "stream",
     "text": [
      "Checkpoint saved to '/home/guangwei/LLM-COPYRIGHT/copyright_newVersion/models/train_input_0_layer.pth'.\n"
     ]
    }
   ],
   "source": [
    "def save_checkpoint(model, optimizer, epoch, loss, filepath):\n",
    "    checkpoint = {\n",
    "        'epoch': epoch + 1,\n",
    "        'model_state_dict': model.state_dict(),\n",
    "        'optimizer_state_dict': optimizer.state_dict(),\n",
    "        'loss': loss\n",
    "    }\n",
    "    torch.save(checkpoint, filepath)\n",
    "    print(f\"Checkpoint saved to '{filepath}'.\")\n",
    "\n",
    "save_checkpoint(custom_mlp, torch.optim.Adam(custom_mlp.parameters()), len(losses), losses[-1], checkpoint_file)"
   ]
  },
  {
   "cell_type": "code",
   "execution_count": 11,
   "metadata": {},
   "outputs": [
    {
     "name": "stdout",
     "output_type": "stream",
     "text": [
      "Final Model Accuracy: 82.11%\n",
      "                  precision    recall  f1-score   support\n",
      "\n",
      "    infringement       0.87      0.76      0.81       194\n",
      "non_infringement       0.78      0.88      0.83       186\n",
      "\n",
      "        accuracy                           0.82       380\n",
      "       macro avg       0.83      0.82      0.82       380\n",
      "    weighted avg       0.83      0.82      0.82       380\n",
      "\n"
     ]
    },
    {
     "name": "stderr",
     "output_type": "stream",
     "text": [
      "/tmp/ipykernel_327735/3740627605.py:2: UserWarning: To copy construct from a tensor, it is recommended to use sourceTensor.clone().detach() or sourceTensor.clone().detach().requires_grad_(True), rather than torch.tensor(sourceTensor).\n",
      "  y_pred_final = (torch.sigmoid(torch.tensor(custom_mlp(torch.tensor(X_test, dtype=torch.float32)))) > 0.5).float().numpy()\n"
     ]
    }
   ],
   "source": [
    "print(f\"Final Model Accuracy: {best_accuracy * 100:.2f}%\")\n",
    "y_pred_final = (torch.sigmoid(torch.tensor(custom_mlp(torch.tensor(X_test, dtype=torch.float32)))) > 0.5).float().numpy()\n",
    "print(classification_report(y_test, y_pred_final, target_names=[\"infringement\", \"non_infringement\"]))"
   ]
  }
 ],
 "metadata": {
  "kernelspec": {
   "display_name": "zdh",
   "language": "python",
   "name": "python3"
  },
  "language_info": {
   "codemirror_mode": {
    "name": "ipython",
    "version": 3
   },
   "file_extension": ".py",
   "mimetype": "text/x-python",
   "name": "python",
   "nbconvert_exporter": "python",
   "pygments_lexer": "ipython3",
   "version": "3.9.20"
  }
 },
 "nbformat": 4,
 "nbformat_minor": 2
}
