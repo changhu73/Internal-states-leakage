{
 "cells": [
  {
   "cell_type": "code",
   "execution_count": 1,
   "metadata": {},
   "outputs": [
    {
     "name": "stderr",
     "output_type": "stream",
     "text": [
      "/home/guangwei/miniconda3/envs/zdh/lib/python3.12/site-packages/tqdm/auto.py:21: TqdmWarning: IProgress not found. Please update jupyter and ipywidgets. See https://ipywidgets.readthedocs.io/en/stable/user_install.html\n",
      "  from .autonotebook import tqdm as notebook_tqdm\n"
     ]
    }
   ],
   "source": [
    "# import packages & variables\n",
    "import argparse\n",
    "import torch\n",
    "import torch.nn as nn\n",
    "import numpy as np\n",
    "from sklearn.metrics import accuracy_score, classification_report\n",
    "import matplotlib.pyplot as plt\n",
    "from tqdm import tqdm\n",
    "from transformers import AutoTokenizer, AutoModelForCausalLM, AutoModel, AutoModelForSequenceClassification\n",
    "import json\n",
    "import os\n",
    "\n",
    "os.environ[\"CUDA_VISIBLE_DEVICES\"] = \"5\"\n",
    "\n",
    "# Parameters\n",
    "model_name = 'meta-llama/Meta-Llama-3.1-8B'\n",
    "non_infringement_file = '/home/guangwei/LLM-COPYRIGHT/copyright_newVersion/test_division/extra_30.non_infringement.json'\n",
    "infringement_file = '/home/guangwei/LLM-COPYRIGHT/copyright_newVersion/test_division/extra_30.infringement.json'\n",
    "checkpoint_file = '/home/guangwei/LLM-COPYRIGHT/copyright_newVersion/models/train_input_reference_0_layer.pth'\n"
   ]
  },
  {
   "cell_type": "code",
   "execution_count": 2,
   "metadata": {},
   "outputs": [],
   "source": [
    "# Define CustumMLP for internal states train\n",
    "class CustomMLP(nn.Module):\n",
    "    def __init__(self, input_dim, hidden_dim):\n",
    "        super(CustomMLP, self).__init__()\n",
    "        self.down = nn.Linear(input_dim, hidden_dim)\n",
    "        self.gate = nn.Linear(input_dim, hidden_dim)\n",
    "        self.up = nn.Linear(hidden_dim, 1)\n",
    "        self.activation = nn.SiLU()\n",
    "\n",
    "    def forward(self, x):\n",
    "        down_output = self.down(x)\n",
    "        gate_output = self.gate(x)\n",
    "        gated_output = down_output * self.activation(gate_output)\n",
    "        return self.up(gated_output)"
   ]
  },
  {
   "cell_type": "code",
   "execution_count": 3,
   "metadata": {},
   "outputs": [],
   "source": [
    "# Extract hidden states/reference embeddings\n",
    "def extract_hidden_states(texts, model, tokenizer, batch_size=4):\n",
    "    device = torch.device(\"cuda\" if torch.cuda.is_available() else \"cpu\")\n",
    "    model.to(device)\n",
    "    model = nn.DataParallel(model)\n",
    "    hidden_states = []\n",
    "    \n",
    "    for i in tqdm(range(0, len(texts), batch_size), desc=\"Processing data batches\"):\n",
    "        batch_texts = texts[i:i + batch_size]\n",
    "        inputs = tokenizer(batch_texts, return_tensors=\"pt\", padding=True, truncation=True).to(device)\n",
    "        \n",
    "        with torch.no_grad():\n",
    "            outputs = model(**inputs)\n",
    "        hidden_states.append(outputs.hidden_states[9].mean(dim=1).cpu().numpy())\n",
    "    \n",
    "    return np.vstack(hidden_states)\n",
    "\n",
    "\n",
    "def extract_reference_embeddings(references, model, tokenizer, batch_size=4):\n",
    "    device = torch.device(\"cuda\" if torch.cuda.is_available() else \"cpu\")\n",
    "    model.to(device)\n",
    "    model = nn.DataParallel(model)\n",
    "    embeddings = []\n",
    "    for i in tqdm(range(0, len(references), batch_size), desc=\"Processing references\"):\n",
    "        batch_references = references[i:i + batch_size]\n",
    "        inputs = tokenizer(batch_references, return_tensors=\"pt\", padding=True, truncation=True).to(device)\n",
    "        with torch.no_grad():\n",
    "            outputs = model(**inputs)\n",
    "        embeddings.append(outputs.pooler_output.cpu().numpy())\n",
    "    return np.vstack(embeddings)"
   ]
  },
  {
   "cell_type": "code",
   "execution_count": 4,
   "metadata": {},
   "outputs": [],
   "source": [
    "# load data for infringement & non infringement\n",
    "def load_data(non_infringement_file, infringement_file):\n",
    "    with open(non_infringement_file, 'r', encoding='utf-8') as file:\n",
    "        non_infringement_json_data = json.load(file)\n",
    "\n",
    "    non_infringement_outputs = [entry['input'] for entry in non_infringement_json_data]\n",
    "    non_infringement_references = [entry['reference'] for entry in non_infringement_json_data]\n",
    "    y_non_infringement = [1] * len(non_infringement_outputs)\n",
    "\n",
    "    with open(infringement_file, 'r', encoding='utf-8') as file:\n",
    "        infringement_json_data = json.load(file)\n",
    "\n",
    "    infringement_outputs = [entry['input'] for entry in infringement_json_data]\n",
    "    infringement_references = [entry['reference'] for entry in infringement_json_data]\n",
    "    y_infringement = [0] * len(infringement_outputs)\n",
    "\n",
    "    return non_infringement_outputs, non_infringement_references, y_non_infringement, infringement_outputs, infringement_references, y_infringement"
   ]
  },
  {
   "cell_type": "code",
   "execution_count": 5,
   "metadata": {},
   "outputs": [],
   "source": [
    "from sklearn.metrics import accuracy_score, classification_report, f1_score\n",
    "\n",
    "# Train for best model\n",
    "def train_model(X_train, y_train, X_test, y_test, input_dim, hidden_dim, epochs=2000, lr=0.001, checkpoint_path=checkpoint_file):\n",
    "    custom_mlp = CustomMLP(input_dim, hidden_dim)\n",
    "    criterion = nn.BCEWithLogitsLoss()\n",
    "    optimizer = torch.optim.Adam(custom_mlp.parameters(), lr=lr)\n",
    "\n",
    "    X_train_tensor = torch.tensor(X_train, dtype=torch.float32)\n",
    "    y_train_tensor = torch.tensor(y_train, dtype=torch.float32).unsqueeze(1)\n",
    "\n",
    "    best_accuracy = -float('inf')\n",
    "    best_f1 = -float('inf')  # Track best F1-score\n",
    "    best_model_state = None\n",
    "    best_epoch = 0\n",
    "    losses = []\n",
    "\n",
    "    for epoch in tqdm(range(epochs), desc=\"Training Epochs\"):\n",
    "        custom_mlp.train()\n",
    "        optimizer.zero_grad()\n",
    "        outputs = custom_mlp(X_train_tensor)\n",
    "        loss = criterion(outputs, y_train_tensor)\n",
    "        loss.backward()\n",
    "        optimizer.step()\n",
    "        losses.append(loss.item())\n",
    "\n",
    "        # Every 10 epochs, evaluate the model\n",
    "        if (epoch + 1) % 10 == 0:\n",
    "            print(f\"Epoch {epoch + 1}/{epochs}, Loss: {loss.item():.4f}\")\n",
    "            \n",
    "            custom_mlp.eval()\n",
    "            X_test_tensor = torch.tensor(X_test, dtype=torch.float32)\n",
    "            with torch.no_grad():\n",
    "                y_pred_logits = custom_mlp(X_test_tensor)\n",
    "                y_pred = (torch.sigmoid(y_pred_logits) > 0.5).float().numpy()\n",
    "            \n",
    "            # Calculate accuracy and F1-score\n",
    "            accuracy = accuracy_score(y_test, y_pred)\n",
    "            f1 = f1_score(y_test, y_pred)  # F1-score calculation\n",
    "            \n",
    "            print(f\"Test Accuracy at Epoch {epoch + 1}: {accuracy * 100:.2f}%\")\n",
    "            print(f\"Test F1-score at Epoch {epoch + 1}: {f1:.4f}\")\n",
    "            \n",
    "            # Generate classification report\n",
    "            report = classification_report(y_test, y_pred, target_names=[\"infringement\", \"non_infringement\"])\n",
    "            print(f\"Classification Report at Epoch {epoch + 1}:\\n{report}\")\n",
    "\n",
    "            # Save the model if it achieves a better F1-score\n",
    "            if f1 > best_f1:\n",
    "                best_accuracy = accuracy\n",
    "                best_f1 = f1\n",
    "                best_model_state = custom_mlp.state_dict()\n",
    "                best_epoch = epoch + 1\n",
    "                torch.save(best_model_state, checkpoint_path)\n",
    "                print(f\"New best model saved with F1-score {best_f1:.4f} at epoch {best_epoch}\")\n",
    "                print(f\"Best Classification Report at Epoch {best_epoch}:\\n{report}\")\n",
    "\n",
    "    # Load the best model state\n",
    "    custom_mlp.load_state_dict(torch.load(checkpoint_path))\n",
    "\n",
    "    # Plot loss curve\n",
    "    plt.figure(figsize=(10, 5))\n",
    "    plt.plot(losses, label='Training Loss')\n",
    "    plt.xlabel('Epoch')\n",
    "    plt.ylabel('Loss')\n",
    "    plt.title('Training Loss Curve')\n",
    "    plt.legend()\n",
    "    plt.show()\n",
    "\n",
    "    print(f\"Final Model Accuracy: {best_accuracy * 100:.2f}%\")\n",
    "    print(f\"Final Model F1-score: {best_f1:.4f}\")\n",
    "    \n",
    "    return custom_mlp, losses, best_accuracy, best_f1\n"
   ]
  },
  {
   "cell_type": "code",
   "execution_count": 6,
   "metadata": {},
   "outputs": [
    {
     "name": "stderr",
     "output_type": "stream",
     "text": [
      "/home/guangwei/miniconda3/envs/zdh/lib/python3.12/site-packages/transformers/generation/configuration_utils.py:777: UserWarning: `return_dict_in_generate` is NOT set to `True`, but `output_hidden_states` is. When `return_dict_in_generate` is not `True`, `output_hidden_states` is ignored.\n",
      "  warnings.warn(\n",
      "Loading checkpoint shards: 100%|██████████| 4/4 [00:04<00:00,  1.12s/it]\n"
     ]
    }
   ],
   "source": [
    "tokenizer = AutoTokenizer.from_pretrained(model_name, model_max_length=512)\n",
    "model = AutoModelForCausalLM.from_pretrained(model_name, output_hidden_states=True)\n",
    "tokenizer.pad_token = tokenizer.eos_token\n",
    "bert_tokenizer = AutoTokenizer.from_pretrained('google-bert/bert-base-uncased')\n",
    "bert_model = AutoModel.from_pretrained('google-bert/bert-base-uncased')\n",
    "bert_tokenizer.pad_token = tokenizer.eos_token\n",
    "\n",
    "non_infringement_outputs, non_infringement_references, y_non_infringement, infringement_outputs, infringement_references, y_infringement = load_data(\n",
    "    non_infringement_file, infringement_file\n",
    ")\n",
    "\n",
    "y_non_infringement = np.array(y_non_infringement)\n",
    "y_infringement = np.array(y_infringement)\n"
   ]
  },
  {
   "cell_type": "code",
   "execution_count": 7,
   "metadata": {},
   "outputs": [
    {
     "name": "stdout",
     "output_type": "stream",
     "text": [
      "Extracting hidden states for non_infringement texts...\n"
     ]
    },
    {
     "name": "stderr",
     "output_type": "stream",
     "text": [
      "Processing data batches:   0%|          | 0/232 [00:00<?, ?it/s]Starting from v4.46, the `logits` model output will have the same type as the model (except at train time, where it will always be FP32)\n",
      "Processing data batches: 100%|██████████| 232/232 [01:08<00:00,  3.41it/s]\n"
     ]
    },
    {
     "name": "stdout",
     "output_type": "stream",
     "text": [
      "Extracting reference embeddings for non_infringement texts...\n"
     ]
    },
    {
     "name": "stderr",
     "output_type": "stream",
     "text": [
      "Processing references: 100%|██████████| 232/232 [00:04<00:00, 51.23it/s]\n"
     ]
    },
    {
     "name": "stdout",
     "output_type": "stream",
     "text": [
      "Extracting hidden states for infringement texts...\n"
     ]
    },
    {
     "name": "stderr",
     "output_type": "stream",
     "text": [
      "Processing data batches: 100%|██████████| 243/243 [01:22<00:00,  2.93it/s]\n"
     ]
    },
    {
     "name": "stdout",
     "output_type": "stream",
     "text": [
      "Extracting reference embeddings for infringement texts...\n"
     ]
    },
    {
     "name": "stderr",
     "output_type": "stream",
     "text": [
      "Processing references: 100%|██████████| 243/243 [00:02<00:00, 96.65it/s] \n"
     ]
    }
   ],
   "source": [
    "print(\"Extracting hidden states for non_infringement texts...\")\n",
    "X_non_infringement = extract_hidden_states(non_infringement_outputs, model, tokenizer)\n",
    "print(\"Extracting reference embeddings for non_infringement texts...\")\n",
    "reference_embeddings_non_infringement = extract_reference_embeddings(non_infringement_references, bert_model, bert_tokenizer)\n",
    "X_non_infringement_combined = np.hstack([X_non_infringement, reference_embeddings_non_infringement])\n",
    "\n",
    "print(\"Extracting hidden states for infringement texts...\")\n",
    "X_infringement = extract_hidden_states(infringement_outputs, model, tokenizer)\n",
    "print(\"Extracting reference embeddings for infringement texts...\")\n",
    "reference_embeddings_infringement = extract_reference_embeddings(infringement_references, bert_model, bert_tokenizer)\n",
    "X_infringement_combined = np.hstack([X_infringement, reference_embeddings_infringement])"
   ]
  },
  {
   "cell_type": "code",
   "execution_count": 8,
   "metadata": {},
   "outputs": [
    {
     "name": "stdout",
     "output_type": "stream",
     "text": [
      "Data successfully split into training and test sets.\n"
     ]
    }
   ],
   "source": [
    "split_index_non_infringement = int(0.8 * len(X_non_infringement_combined))\n",
    "X_non_infringement_train = X_non_infringement_combined[:split_index_non_infringement]\n",
    "X_non_infringement_test = X_non_infringement_combined[split_index_non_infringement:]\n",
    "y_non_infringement_train = y_non_infringement[:split_index_non_infringement]\n",
    "y_non_infringement_test = y_non_infringement[split_index_non_infringement:]\n",
    "\n",
    "split_index_infringement = int(0.8 * len(X_infringement_combined))\n",
    "X_infringement_train = X_infringement_combined[:split_index_infringement]\n",
    "X_infringement_test = X_infringement_combined[split_index_infringement:]\n",
    "y_infringement_train = y_infringement[:split_index_infringement]\n",
    "y_infringement_test = y_infringement[split_index_infringement:]\n",
    "\n",
    "X_train = np.vstack((X_non_infringement_train, X_infringement_train))\n",
    "X_test = np.vstack((X_non_infringement_test, X_infringement_test))\n",
    "y_train = np.concatenate((y_non_infringement_train, y_infringement_train))\n",
    "y_test = np.concatenate((y_non_infringement_test, y_infringement_test))\n",
    "\n",
    "print(\"Data successfully split into training and test sets.\")"
   ]
  },
  {
   "cell_type": "code",
   "execution_count": 9,
   "metadata": {},
   "outputs": [
    {
     "name": "stdout",
     "output_type": "stream",
     "text": [
      "Training MLP model with input_dim=4864 and hidden_dim=256\n"
     ]
    },
    {
     "name": "stderr",
     "output_type": "stream",
     "text": [
      "Training Epochs:   1%|          | 11/2000 [00:00<01:26, 22.93it/s]"
     ]
    },
    {
     "name": "stdout",
     "output_type": "stream",
     "text": [
      "Epoch 10/2000, Loss: 0.6244\n",
      "Test Accuracy at Epoch 10: 63.16%\n",
      "Test F1-score at Epoch 10: 0.6667\n",
      "Classification Report at Epoch 10:\n",
      "                  precision    recall  f1-score   support\n",
      "\n",
      "    infringement       0.68      0.52      0.59       194\n",
      "non_infringement       0.60      0.75      0.67       186\n",
      "\n",
      "        accuracy                           0.63       380\n",
      "       macro avg       0.64      0.63      0.63       380\n",
      "    weighted avg       0.64      0.63      0.63       380\n",
      "\n",
      "New best model saved with F1-score 0.6667 at epoch 10\n",
      "Best Classification Report at Epoch 10:\n",
      "                  precision    recall  f1-score   support\n",
      "\n",
      "    infringement       0.68      0.52      0.59       194\n",
      "non_infringement       0.60      0.75      0.67       186\n",
      "\n",
      "        accuracy                           0.63       380\n",
      "       macro avg       0.64      0.63      0.63       380\n",
      "    weighted avg       0.64      0.63      0.63       380\n",
      "\n"
     ]
    },
    {
     "name": "stderr",
     "output_type": "stream",
     "text": [
      "Training Epochs:   1%|▏         | 25/2000 [00:01<01:24, 23.31it/s]"
     ]
    },
    {
     "name": "stdout",
     "output_type": "stream",
     "text": [
      "Epoch 20/2000, Loss: 0.4782\n",
      "Test Accuracy at Epoch 20: 70.79%\n",
      "Test F1-score at Epoch 20: 0.7613\n",
      "Classification Report at Epoch 20:\n",
      "                  precision    recall  f1-score   support\n",
      "\n",
      "    infringement       0.91      0.47      0.62       194\n",
      "non_infringement       0.63      0.95      0.76       186\n",
      "\n",
      "        accuracy                           0.71       380\n",
      "       macro avg       0.77      0.71      0.69       380\n",
      "    weighted avg       0.78      0.71      0.69       380\n",
      "\n",
      "New best model saved with F1-score 0.7613 at epoch 20\n",
      "Best Classification Report at Epoch 20:\n",
      "                  precision    recall  f1-score   support\n",
      "\n",
      "    infringement       0.91      0.47      0.62       194\n",
      "non_infringement       0.63      0.95      0.76       186\n",
      "\n",
      "        accuracy                           0.71       380\n",
      "       macro avg       0.77      0.71      0.69       380\n",
      "    weighted avg       0.78      0.71      0.69       380\n",
      "\n"
     ]
    },
    {
     "name": "stderr",
     "output_type": "stream",
     "text": [
      "Training Epochs:   2%|▏         | 32/2000 [00:01<01:59, 16.48it/s]"
     ]
    },
    {
     "name": "stdout",
     "output_type": "stream",
     "text": [
      "Epoch 30/2000, Loss: 0.3781\n",
      "Test Accuracy at Epoch 30: 74.74%\n",
      "Test F1-score at Epoch 30: 0.7798\n",
      "Classification Report at Epoch 30:\n",
      "                  precision    recall  f1-score   support\n",
      "\n",
      "    infringement       0.88      0.59      0.70       194\n",
      "non_infringement       0.68      0.91      0.78       186\n",
      "\n",
      "        accuracy                           0.75       380\n",
      "       macro avg       0.78      0.75      0.74       380\n",
      "    weighted avg       0.78      0.75      0.74       380\n",
      "\n",
      "New best model saved with F1-score 0.7798 at epoch 30\n",
      "Best Classification Report at Epoch 30:\n",
      "                  precision    recall  f1-score   support\n",
      "\n",
      "    infringement       0.88      0.59      0.70       194\n",
      "non_infringement       0.68      0.91      0.78       186\n",
      "\n",
      "        accuracy                           0.75       380\n",
      "       macro avg       0.78      0.75      0.74       380\n",
      "    weighted avg       0.78      0.75      0.74       380\n",
      "\n"
     ]
    },
    {
     "name": "stderr",
     "output_type": "stream",
     "text": [
      "Training Epochs:   2%|▏         | 39/2000 [00:02<03:56,  8.29it/s]"
     ]
    },
    {
     "name": "stdout",
     "output_type": "stream",
     "text": [
      "Epoch 40/2000, Loss: 0.3219\n",
      "Test Accuracy at Epoch 40: 78.68%\n",
      "Test F1-score at Epoch 40: 0.8076\n",
      "Classification Report at Epoch 40:\n",
      "                  precision    recall  f1-score   support\n",
      "\n",
      "    infringement       0.89      0.66      0.76       194\n",
      "non_infringement       0.72      0.91      0.81       186\n",
      "\n",
      "        accuracy                           0.79       380\n",
      "       macro avg       0.81      0.79      0.78       380\n",
      "    weighted avg       0.81      0.79      0.78       380\n",
      "\n",
      "New best model saved with F1-score 0.8076 at epoch 40\n",
      "Best Classification Report at Epoch 40:\n",
      "                  precision    recall  f1-score   support\n",
      "\n",
      "    infringement       0.89      0.66      0.76       194\n",
      "non_infringement       0.72      0.91      0.81       186\n",
      "\n",
      "        accuracy                           0.79       380\n",
      "       macro avg       0.81      0.79      0.78       380\n",
      "    weighted avg       0.81      0.79      0.78       380\n",
      "\n"
     ]
    },
    {
     "name": "stderr",
     "output_type": "stream",
     "text": [
      "Training Epochs:   3%|▎         | 51/2000 [00:04<03:08, 10.33it/s]"
     ]
    },
    {
     "name": "stdout",
     "output_type": "stream",
     "text": [
      "Epoch 50/2000, Loss: 0.2838\n",
      "Test Accuracy at Epoch 50: 80.79%\n",
      "Test F1-score at Epoch 50: 0.8241\n",
      "Classification Report at Epoch 50:\n",
      "                  precision    recall  f1-score   support\n",
      "\n",
      "    infringement       0.90      0.70      0.79       194\n",
      "non_infringement       0.75      0.92      0.82       186\n",
      "\n",
      "        accuracy                           0.81       380\n",
      "       macro avg       0.82      0.81      0.81       380\n",
      "    weighted avg       0.83      0.81      0.81       380\n",
      "\n",
      "New best model saved with F1-score 0.8241 at epoch 50\n",
      "Best Classification Report at Epoch 50:\n",
      "                  precision    recall  f1-score   support\n",
      "\n",
      "    infringement       0.90      0.70      0.79       194\n",
      "non_infringement       0.75      0.92      0.82       186\n",
      "\n",
      "        accuracy                           0.81       380\n",
      "       macro avg       0.82      0.81      0.81       380\n",
      "    weighted avg       0.83      0.81      0.81       380\n",
      "\n"
     ]
    },
    {
     "name": "stderr",
     "output_type": "stream",
     "text": [
      "Training Epochs:   3%|▎         | 60/2000 [00:06<06:03,  5.33it/s]"
     ]
    },
    {
     "name": "stdout",
     "output_type": "stream",
     "text": [
      "Epoch 60/2000, Loss: 0.2628\n",
      "Test Accuracy at Epoch 60: 80.26%\n",
      "Test F1-score at Epoch 60: 0.8139\n",
      "Classification Report at Epoch 60:\n",
      "                  precision    recall  f1-score   support\n",
      "\n",
      "    infringement       0.87      0.73      0.79       194\n",
      "non_infringement       0.76      0.88      0.81       186\n",
      "\n",
      "        accuracy                           0.80       380\n",
      "       macro avg       0.81      0.80      0.80       380\n",
      "    weighted avg       0.81      0.80      0.80       380\n",
      "\n"
     ]
    },
    {
     "name": "stderr",
     "output_type": "stream",
     "text": [
      "Training Epochs:   3%|▎         | 69/2000 [00:07<03:31,  9.15it/s]"
     ]
    },
    {
     "name": "stdout",
     "output_type": "stream",
     "text": [
      "Epoch 70/2000, Loss: 0.2316\n",
      "Test Accuracy at Epoch 70: 77.89%\n",
      "Test F1-score at Epoch 70: 0.8037\n",
      "Classification Report at Epoch 70:\n",
      "                  precision    recall  f1-score   support\n",
      "\n",
      "    infringement       0.90      0.64      0.75       194\n",
      "non_infringement       0.71      0.92      0.80       186\n",
      "\n",
      "        accuracy                           0.78       380\n",
      "       macro avg       0.80      0.78      0.78       380\n",
      "    weighted avg       0.81      0.78      0.77       380\n",
      "\n"
     ]
    },
    {
     "name": "stderr",
     "output_type": "stream",
     "text": [
      "Training Epochs:   4%|▍         | 81/2000 [00:10<03:41,  8.66it/s]"
     ]
    },
    {
     "name": "stdout",
     "output_type": "stream",
     "text": [
      "Epoch 80/2000, Loss: 0.2124\n",
      "Test Accuracy at Epoch 80: 76.32%\n",
      "Test F1-score at Epoch 80: 0.7761\n",
      "Classification Report at Epoch 80:\n",
      "                  precision    recall  f1-score   support\n",
      "\n",
      "    infringement       0.82      0.69      0.75       194\n",
      "non_infringement       0.72      0.84      0.78       186\n",
      "\n",
      "        accuracy                           0.76       380\n",
      "       macro avg       0.77      0.76      0.76       380\n",
      "    weighted avg       0.77      0.76      0.76       380\n",
      "\n"
     ]
    },
    {
     "name": "stderr",
     "output_type": "stream",
     "text": [
      "Training Epochs:   4%|▍         | 89/2000 [00:12<10:21,  3.08it/s]"
     ]
    },
    {
     "name": "stdout",
     "output_type": "stream",
     "text": [
      "Epoch 90/2000, Loss: 0.2026\n"
     ]
    },
    {
     "name": "stderr",
     "output_type": "stream",
     "text": [
      "Training Epochs:   4%|▍         | 90/2000 [00:13<13:44,  2.32it/s]"
     ]
    },
    {
     "name": "stdout",
     "output_type": "stream",
     "text": [
      "Test Accuracy at Epoch 90: 77.63%\n",
      "Test F1-score at Epoch 90: 0.8028\n",
      "Classification Report at Epoch 90:\n",
      "                  precision    recall  f1-score   support\n",
      "\n",
      "    infringement       0.90      0.63      0.74       194\n",
      "non_infringement       0.71      0.93      0.80       186\n",
      "\n",
      "        accuracy                           0.78       380\n",
      "       macro avg       0.80      0.78      0.77       380\n",
      "    weighted avg       0.81      0.78      0.77       380\n",
      "\n"
     ]
    },
    {
     "name": "stderr",
     "output_type": "stream",
     "text": [
      "Training Epochs:   5%|▌         | 100/2000 [00:16<09:57,  3.18it/s]"
     ]
    },
    {
     "name": "stdout",
     "output_type": "stream",
     "text": [
      "Epoch 100/2000, Loss: 0.1828\n",
      "Test Accuracy at Epoch 100: 78.16%\n",
      "Test F1-score at Epoch 100: 0.8010\n",
      "Classification Report at Epoch 100:\n",
      "                  precision    recall  f1-score   support\n",
      "\n",
      "    infringement       0.87      0.67      0.76       194\n",
      "non_infringement       0.72      0.90      0.80       186\n",
      "\n",
      "        accuracy                           0.78       380\n",
      "       macro avg       0.80      0.78      0.78       380\n",
      "    weighted avg       0.80      0.78      0.78       380\n",
      "\n"
     ]
    },
    {
     "name": "stderr",
     "output_type": "stream",
     "text": [
      "Training Epochs:   6%|▌         | 110/2000 [00:20<07:25,  4.24it/s]"
     ]
    },
    {
     "name": "stdout",
     "output_type": "stream",
     "text": [
      "Epoch 110/2000, Loss: 0.1597\n",
      "Test Accuracy at Epoch 110: 76.84%\n",
      "Test F1-score at Epoch 110: 0.7982\n",
      "Classification Report at Epoch 110:\n",
      "                  precision    recall  f1-score   support\n",
      "\n",
      "    infringement       0.91      0.61      0.73       194\n",
      "non_infringement       0.70      0.94      0.80       186\n",
      "\n",
      "        accuracy                           0.77       380\n",
      "       macro avg       0.80      0.77      0.76       380\n",
      "    weighted avg       0.80      0.77      0.76       380\n",
      "\n"
     ]
    },
    {
     "name": "stderr",
     "output_type": "stream",
     "text": [
      "Training Epochs:   6%|▌         | 120/2000 [00:23<08:38,  3.62it/s]"
     ]
    },
    {
     "name": "stdout",
     "output_type": "stream",
     "text": [
      "Epoch 120/2000, Loss: 0.1478\n",
      "Test Accuracy at Epoch 120: 76.84%\n",
      "Test F1-score at Epoch 120: 0.7972\n",
      "Classification Report at Epoch 120:\n",
      "                  precision    recall  f1-score   support\n",
      "\n",
      "    infringement       0.90      0.61      0.73       194\n",
      "non_infringement       0.70      0.93      0.80       186\n",
      "\n",
      "        accuracy                           0.77       380\n",
      "       macro avg       0.80      0.77      0.76       380\n",
      "    weighted avg       0.80      0.77      0.76       380\n",
      "\n"
     ]
    },
    {
     "name": "stderr",
     "output_type": "stream",
     "text": [
      "Training Epochs:   6%|▋         | 130/2000 [00:27<07:57,  3.92it/s]"
     ]
    },
    {
     "name": "stdout",
     "output_type": "stream",
     "text": [
      "Epoch 130/2000, Loss: 0.1778\n",
      "Test Accuracy at Epoch 130: 70.53%\n",
      "Test F1-score at Epoch 130: 0.7597\n",
      "Classification Report at Epoch 130:\n",
      "                  precision    recall  f1-score   support\n",
      "\n",
      "    infringement       0.91      0.47      0.62       194\n",
      "non_infringement       0.63      0.95      0.76       186\n",
      "\n",
      "        accuracy                           0.71       380\n",
      "       macro avg       0.77      0.71      0.69       380\n",
      "    weighted avg       0.77      0.71      0.69       380\n",
      "\n"
     ]
    },
    {
     "name": "stderr",
     "output_type": "stream",
     "text": [
      "Training Epochs:   7%|▋         | 142/2000 [00:29<04:29,  6.90it/s]"
     ]
    },
    {
     "name": "stdout",
     "output_type": "stream",
     "text": [
      "Epoch 140/2000, Loss: 0.1449\n",
      "Test Accuracy at Epoch 140: 76.84%\n",
      "Test F1-score at Epoch 140: 0.7991\n",
      "Classification Report at Epoch 140:\n",
      "                  precision    recall  f1-score   support\n",
      "\n",
      "    infringement       0.91      0.60      0.73       194\n",
      "non_infringement       0.69      0.94      0.80       186\n",
      "\n",
      "        accuracy                           0.77       380\n",
      "       macro avg       0.80      0.77      0.76       380\n",
      "    weighted avg       0.81      0.77      0.76       380\n",
      "\n"
     ]
    },
    {
     "name": "stderr",
     "output_type": "stream",
     "text": [
      "Training Epochs:   8%|▊         | 150/2000 [00:30<03:51,  7.98it/s]"
     ]
    },
    {
     "name": "stdout",
     "output_type": "stream",
     "text": [
      "Epoch 150/2000, Loss: 0.1335\n",
      "Test Accuracy at Epoch 150: 76.84%\n",
      "Test F1-score at Epoch 150: 0.7982\n",
      "Classification Report at Epoch 150:\n",
      "                  precision    recall  f1-score   support\n",
      "\n",
      "    infringement       0.91      0.61      0.73       194\n",
      "non_infringement       0.70      0.94      0.80       186\n",
      "\n",
      "        accuracy                           0.77       380\n",
      "       macro avg       0.80      0.77      0.76       380\n",
      "    weighted avg       0.80      0.77      0.76       380\n",
      "\n"
     ]
    },
    {
     "name": "stderr",
     "output_type": "stream",
     "text": [
      "Training Epochs:   8%|▊         | 160/2000 [00:35<17:34,  1.75it/s]"
     ]
    },
    {
     "name": "stdout",
     "output_type": "stream",
     "text": [
      "Epoch 160/2000, Loss: 0.1280\n",
      "Test Accuracy at Epoch 160: 77.89%\n",
      "Test F1-score at Epoch 160: 0.8037\n",
      "Classification Report at Epoch 160:\n",
      "                  precision    recall  f1-score   support\n",
      "\n",
      "    infringement       0.90      0.64      0.75       194\n",
      "non_infringement       0.71      0.92      0.80       186\n",
      "\n",
      "        accuracy                           0.78       380\n",
      "       macro avg       0.80      0.78      0.78       380\n",
      "    weighted avg       0.81      0.78      0.77       380\n",
      "\n"
     ]
    },
    {
     "name": "stderr",
     "output_type": "stream",
     "text": [
      "Training Epochs:   9%|▊         | 171/2000 [00:37<04:44,  6.42it/s]"
     ]
    },
    {
     "name": "stdout",
     "output_type": "stream",
     "text": [
      "Epoch 170/2000, Loss: 0.1212\n",
      "Test Accuracy at Epoch 170: 76.58%\n",
      "Test F1-score at Epoch 170: 0.7945\n",
      "Classification Report at Epoch 170:\n",
      "                  precision    recall  f1-score   support\n",
      "\n",
      "    infringement       0.89      0.61      0.73       194\n",
      "non_infringement       0.70      0.92      0.79       186\n",
      "\n",
      "        accuracy                           0.77       380\n",
      "       macro avg       0.80      0.77      0.76       380\n",
      "    weighted avg       0.80      0.77      0.76       380\n",
      "\n"
     ]
    },
    {
     "name": "stderr",
     "output_type": "stream",
     "text": [
      "Training Epochs:   9%|▉         | 180/2000 [00:38<03:50,  7.91it/s]"
     ]
    },
    {
     "name": "stdout",
     "output_type": "stream",
     "text": [
      "Epoch 180/2000, Loss: 0.1258\n",
      "Test Accuracy at Epoch 180: 76.58%\n",
      "Test F1-score at Epoch 180: 0.7835\n",
      "Classification Report at Epoch 180:\n",
      "                  precision    recall  f1-score   support\n",
      "\n",
      "    infringement       0.84      0.67      0.74       194\n",
      "non_infringement       0.72      0.87      0.78       186\n",
      "\n",
      "        accuracy                           0.77       380\n",
      "       macro avg       0.78      0.77      0.76       380\n",
      "    weighted avg       0.78      0.77      0.76       380\n",
      "\n"
     ]
    },
    {
     "name": "stderr",
     "output_type": "stream",
     "text": [
      "Training Epochs:  10%|▉         | 190/2000 [00:39<03:14,  9.29it/s]"
     ]
    },
    {
     "name": "stdout",
     "output_type": "stream",
     "text": [
      "Epoch 190/2000, Loss: 0.1347\n",
      "Test Accuracy at Epoch 190: 78.16%\n",
      "Test F1-score at Epoch 190: 0.8038\n",
      "Classification Report at Epoch 190:\n",
      "                  precision    recall  f1-score   support\n",
      "\n",
      "    infringement       0.89      0.65      0.75       194\n",
      "non_infringement       0.72      0.91      0.80       186\n",
      "\n",
      "        accuracy                           0.78       380\n",
      "       macro avg       0.80      0.78      0.78       380\n",
      "    weighted avg       0.80      0.78      0.78       380\n",
      "\n"
     ]
    },
    {
     "name": "stderr",
     "output_type": "stream",
     "text": [
      "Training Epochs:  10%|█         | 200/2000 [00:43<09:42,  3.09it/s]"
     ]
    },
    {
     "name": "stdout",
     "output_type": "stream",
     "text": [
      "Epoch 200/2000, Loss: 0.1206\n",
      "Test Accuracy at Epoch 200: 77.63%\n",
      "Test F1-score at Epoch 200: 0.8009\n",
      "Classification Report at Epoch 200:\n",
      "                  precision    recall  f1-score   support\n",
      "\n",
      "    infringement       0.89      0.64      0.74       194\n",
      "non_infringement       0.71      0.92      0.80       186\n",
      "\n",
      "        accuracy                           0.78       380\n",
      "       macro avg       0.80      0.78      0.77       380\n",
      "    weighted avg       0.80      0.78      0.77       380\n",
      "\n"
     ]
    },
    {
     "name": "stderr",
     "output_type": "stream",
     "text": [
      "Training Epochs:  10%|█         | 210/2000 [00:48<16:35,  1.80it/s]"
     ]
    },
    {
     "name": "stdout",
     "output_type": "stream",
     "text": [
      "Epoch 210/2000, Loss: 0.1108\n",
      "Test Accuracy at Epoch 210: 77.11%\n",
      "Test F1-score at Epoch 210: 0.7972\n",
      "Classification Report at Epoch 210:\n",
      "                  precision    recall  f1-score   support\n",
      "\n",
      "    infringement       0.89      0.63      0.74       194\n",
      "non_infringement       0.70      0.92      0.80       186\n",
      "\n",
      "        accuracy                           0.77       380\n",
      "       macro avg       0.80      0.77      0.77       380\n",
      "    weighted avg       0.80      0.77      0.77       380\n",
      "\n"
     ]
    },
    {
     "name": "stderr",
     "output_type": "stream",
     "text": [
      "Training Epochs:  11%|█         | 220/2000 [00:53<09:26,  3.14it/s]"
     ]
    },
    {
     "name": "stdout",
     "output_type": "stream",
     "text": [
      "Epoch 220/2000, Loss: 0.1074\n",
      "Test Accuracy at Epoch 220: 77.63%\n",
      "Test F1-score at Epoch 220: 0.8009\n",
      "Classification Report at Epoch 220:\n",
      "                  precision    recall  f1-score   support\n",
      "\n",
      "    infringement       0.89      0.64      0.74       194\n",
      "non_infringement       0.71      0.92      0.80       186\n",
      "\n",
      "        accuracy                           0.78       380\n",
      "       macro avg       0.80      0.78      0.77       380\n",
      "    weighted avg       0.80      0.78      0.77       380\n",
      "\n"
     ]
    },
    {
     "name": "stderr",
     "output_type": "stream",
     "text": [
      "Training Epochs:  12%|█▏        | 230/2000 [00:55<08:36,  3.43it/s]"
     ]
    },
    {
     "name": "stdout",
     "output_type": "stream",
     "text": [
      "Epoch 230/2000, Loss: 0.1031\n",
      "Test Accuracy at Epoch 230: 77.63%\n",
      "Test F1-score at Epoch 230: 0.8009\n",
      "Classification Report at Epoch 230:\n",
      "                  precision    recall  f1-score   support\n",
      "\n",
      "    infringement       0.89      0.64      0.74       194\n",
      "non_infringement       0.71      0.92      0.80       186\n",
      "\n",
      "        accuracy                           0.78       380\n",
      "       macro avg       0.80      0.78      0.77       380\n",
      "    weighted avg       0.80      0.78      0.77       380\n",
      "\n"
     ]
    },
    {
     "name": "stderr",
     "output_type": "stream",
     "text": [
      "Training Epochs:  12%|█▏        | 239/2000 [00:55<02:59,  9.79it/s]"
     ]
    },
    {
     "name": "stdout",
     "output_type": "stream",
     "text": [
      "Epoch 240/2000, Loss: 0.1506\n",
      "Test Accuracy at Epoch 240: 76.84%\n",
      "Test F1-score at Epoch 240: 0.7982\n",
      "Classification Report at Epoch 240:\n",
      "                  precision    recall  f1-score   support\n",
      "\n",
      "    infringement       0.91      0.61      0.73       194\n",
      "non_infringement       0.70      0.94      0.80       186\n",
      "\n",
      "        accuracy                           0.77       380\n",
      "       macro avg       0.80      0.77      0.76       380\n",
      "    weighted avg       0.80      0.77      0.76       380\n",
      "\n"
     ]
    },
    {
     "name": "stderr",
     "output_type": "stream",
     "text": [
      "Training Epochs:  13%|█▎        | 252/2000 [01:01<07:16,  4.00it/s]"
     ]
    },
    {
     "name": "stdout",
     "output_type": "stream",
     "text": [
      "Epoch 250/2000, Loss: 0.1096\n",
      "Test Accuracy at Epoch 250: 78.16%\n",
      "Test F1-score at Epoch 250: 0.8029\n",
      "Classification Report at Epoch 250:\n",
      "                  precision    recall  f1-score   support\n",
      "\n",
      "    infringement       0.88      0.66      0.76       194\n",
      "non_infringement       0.72      0.91      0.80       186\n",
      "\n",
      "        accuracy                           0.78       380\n",
      "       macro avg       0.80      0.78      0.78       380\n",
      "    weighted avg       0.80      0.78      0.78       380\n",
      "\n"
     ]
    },
    {
     "name": "stderr",
     "output_type": "stream",
     "text": [
      "Training Epochs:  13%|█▎        | 262/2000 [01:03<06:35,  4.39it/s]"
     ]
    },
    {
     "name": "stdout",
     "output_type": "stream",
     "text": [
      "Epoch 260/2000, Loss: 0.1000\n",
      "Test Accuracy at Epoch 260: 78.16%\n",
      "Test F1-score at Epoch 260: 0.8065\n",
      "Classification Report at Epoch 260:\n",
      "                  precision    recall  f1-score   support\n",
      "\n",
      "    infringement       0.91      0.64      0.75       194\n",
      "non_infringement       0.71      0.93      0.81       186\n",
      "\n",
      "        accuracy                           0.78       380\n",
      "       macro avg       0.81      0.78      0.78       380\n",
      "    weighted avg       0.81      0.78      0.78       380\n",
      "\n"
     ]
    },
    {
     "name": "stderr",
     "output_type": "stream",
     "text": [
      "Training Epochs:  14%|█▎        | 270/2000 [01:05<05:15,  5.49it/s]"
     ]
    },
    {
     "name": "stdout",
     "output_type": "stream",
     "text": [
      "Epoch 270/2000, Loss: 0.0973\n",
      "Test Accuracy at Epoch 270: 78.16%\n",
      "Test F1-score at Epoch 270: 0.8065\n",
      "Classification Report at Epoch 270:\n",
      "                  precision    recall  f1-score   support\n",
      "\n",
      "    infringement       0.91      0.64      0.75       194\n",
      "non_infringement       0.71      0.93      0.81       186\n",
      "\n",
      "        accuracy                           0.78       380\n",
      "       macro avg       0.81      0.78      0.78       380\n",
      "    weighted avg       0.81      0.78      0.78       380\n",
      "\n"
     ]
    },
    {
     "name": "stderr",
     "output_type": "stream",
     "text": [
      "Training Epochs:  14%|█▍        | 280/2000 [01:05<02:40, 10.74it/s]"
     ]
    },
    {
     "name": "stdout",
     "output_type": "stream",
     "text": [
      "Epoch 280/2000, Loss: 0.0952\n",
      "Test Accuracy at Epoch 280: 77.89%\n",
      "Test F1-score at Epoch 280: 0.8037\n",
      "Classification Report at Epoch 280:\n",
      "                  precision    recall  f1-score   support\n",
      "\n",
      "    infringement       0.90      0.64      0.75       194\n",
      "non_infringement       0.71      0.92      0.80       186\n",
      "\n",
      "        accuracy                           0.78       380\n",
      "       macro avg       0.80      0.78      0.78       380\n",
      "    weighted avg       0.81      0.78      0.77       380\n",
      "\n"
     ]
    },
    {
     "name": "stderr",
     "output_type": "stream",
     "text": [
      "Training Epochs:  14%|█▍        | 290/2000 [01:08<06:10,  4.62it/s]"
     ]
    },
    {
     "name": "stdout",
     "output_type": "stream",
     "text": [
      "Epoch 290/2000, Loss: 0.0980\n",
      "Test Accuracy at Epoch 290: 78.42%\n",
      "Test F1-score at Epoch 290: 0.8029\n",
      "Classification Report at Epoch 290:\n",
      "                  precision    recall  f1-score   support\n",
      "\n",
      "    infringement       0.87      0.68      0.76       194\n",
      "non_infringement       0.73      0.90      0.80       186\n",
      "\n",
      "        accuracy                           0.78       380\n",
      "       macro avg       0.80      0.79      0.78       380\n",
      "    weighted avg       0.80      0.78      0.78       380\n",
      "\n"
     ]
    },
    {
     "name": "stderr",
     "output_type": "stream",
     "text": [
      "Training Epochs:  15%|█▌        | 300/2000 [01:11<09:14,  3.07it/s]"
     ]
    },
    {
     "name": "stdout",
     "output_type": "stream",
     "text": [
      "Epoch 300/2000, Loss: 0.0942\n",
      "Test Accuracy at Epoch 300: 78.68%\n",
      "Test F1-score at Epoch 300: 0.8076\n",
      "Classification Report at Epoch 300:\n",
      "                  precision    recall  f1-score   support\n",
      "\n",
      "    infringement       0.89      0.66      0.76       194\n",
      "non_infringement       0.72      0.91      0.81       186\n",
      "\n",
      "        accuracy                           0.79       380\n",
      "       macro avg       0.81      0.79      0.78       380\n",
      "    weighted avg       0.81      0.79      0.78       380\n",
      "\n"
     ]
    },
    {
     "name": "stderr",
     "output_type": "stream",
     "text": [
      "Training Epochs:  16%|█▌        | 310/2000 [01:16<13:50,  2.04it/s]"
     ]
    },
    {
     "name": "stdout",
     "output_type": "stream",
     "text": [
      "Epoch 310/2000, Loss: 0.0953\n",
      "Test Accuracy at Epoch 310: 78.68%\n",
      "Test F1-score at Epoch 310: 0.8085\n",
      "Classification Report at Epoch 310:\n",
      "                  precision    recall  f1-score   support\n",
      "\n",
      "    infringement       0.90      0.66      0.76       194\n",
      "non_infringement       0.72      0.92      0.81       186\n",
      "\n",
      "        accuracy                           0.79       380\n",
      "       macro avg       0.81      0.79      0.78       380\n",
      "    weighted avg       0.81      0.79      0.78       380\n",
      "\n"
     ]
    },
    {
     "name": "stderr",
     "output_type": "stream",
     "text": [
      "Training Epochs:  16%|█▌        | 320/2000 [01:17<04:01,  6.95it/s]"
     ]
    },
    {
     "name": "stdout",
     "output_type": "stream",
     "text": [
      "Epoch 320/2000, Loss: 0.0904\n",
      "Test Accuracy at Epoch 320: 78.68%\n",
      "Test F1-score at Epoch 320: 0.8094\n",
      "Classification Report at Epoch 320:\n",
      "                  precision    recall  f1-score   support\n",
      "\n",
      "    infringement       0.90      0.65      0.76       194\n",
      "non_infringement       0.72      0.92      0.81       186\n",
      "\n",
      "        accuracy                           0.79       380\n",
      "       macro avg       0.81      0.79      0.78       380\n",
      "    weighted avg       0.81      0.79      0.78       380\n",
      "\n"
     ]
    },
    {
     "name": "stderr",
     "output_type": "stream",
     "text": [
      "Training Epochs:  17%|█▋        | 332/2000 [01:18<02:28, 11.25it/s]"
     ]
    },
    {
     "name": "stdout",
     "output_type": "stream",
     "text": [
      "Epoch 330/2000, Loss: 0.0888\n",
      "Test Accuracy at Epoch 330: 78.68%\n",
      "Test F1-score at Epoch 330: 0.8094\n",
      "Classification Report at Epoch 330:\n",
      "                  precision    recall  f1-score   support\n",
      "\n",
      "    infringement       0.90      0.65      0.76       194\n",
      "non_infringement       0.72      0.92      0.81       186\n",
      "\n",
      "        accuracy                           0.79       380\n",
      "       macro avg       0.81      0.79      0.78       380\n",
      "    weighted avg       0.81      0.79      0.78       380\n",
      "\n"
     ]
    },
    {
     "name": "stderr",
     "output_type": "stream",
     "text": [
      "Training Epochs:  17%|█▋        | 342/2000 [01:19<01:55, 14.35it/s]"
     ]
    },
    {
     "name": "stdout",
     "output_type": "stream",
     "text": [
      "Epoch 340/2000, Loss: 0.0871\n",
      "Test Accuracy at Epoch 340: 77.89%\n",
      "Test F1-score at Epoch 340: 0.8037\n",
      "Classification Report at Epoch 340:\n",
      "                  precision    recall  f1-score   support\n",
      "\n",
      "    infringement       0.90      0.64      0.75       194\n",
      "non_infringement       0.71      0.92      0.80       186\n",
      "\n",
      "        accuracy                           0.78       380\n",
      "       macro avg       0.80      0.78      0.78       380\n",
      "    weighted avg       0.81      0.78      0.77       380\n",
      "\n"
     ]
    },
    {
     "name": "stderr",
     "output_type": "stream",
     "text": [
      "Training Epochs:  18%|█▊        | 352/2000 [01:19<02:04, 13.26it/s]"
     ]
    },
    {
     "name": "stdout",
     "output_type": "stream",
     "text": [
      "Epoch 350/2000, Loss: 0.1173\n",
      "Test Accuracy at Epoch 350: 79.74%\n",
      "Test F1-score at Epoch 350: 0.8060\n",
      "Classification Report at Epoch 350:\n",
      "                  precision    recall  f1-score   support\n",
      "\n",
      "    infringement       0.85      0.74      0.79       194\n",
      "non_infringement       0.76      0.86      0.81       186\n",
      "\n",
      "        accuracy                           0.80       380\n",
      "       macro avg       0.80      0.80      0.80       380\n",
      "    weighted avg       0.80      0.80      0.80       380\n",
      "\n"
     ]
    },
    {
     "name": "stderr",
     "output_type": "stream",
     "text": [
      "Training Epochs:  18%|█▊        | 362/2000 [01:20<01:55, 14.15it/s]"
     ]
    },
    {
     "name": "stdout",
     "output_type": "stream",
     "text": [
      "Epoch 360/2000, Loss: 0.0978\n",
      "Test Accuracy at Epoch 360: 79.47%\n",
      "Test F1-score at Epoch 360: 0.8152\n",
      "Classification Report at Epoch 360:\n",
      "                  precision    recall  f1-score   support\n",
      "\n",
      "    infringement       0.90      0.67      0.77       194\n",
      "non_infringement       0.73      0.92      0.82       186\n",
      "\n",
      "        accuracy                           0.79       380\n",
      "       macro avg       0.82      0.80      0.79       380\n",
      "    weighted avg       0.82      0.79      0.79       380\n",
      "\n"
     ]
    },
    {
     "name": "stderr",
     "output_type": "stream",
     "text": [
      "Training Epochs:  19%|█▊        | 372/2000 [01:21<02:21, 11.51it/s]"
     ]
    },
    {
     "name": "stdout",
     "output_type": "stream",
     "text": [
      "Epoch 370/2000, Loss: 0.0872\n",
      "Test Accuracy at Epoch 370: 77.63%\n",
      "Test F1-score at Epoch 370: 0.8028\n",
      "Classification Report at Epoch 370:\n",
      "                  precision    recall  f1-score   support\n",
      "\n",
      "    infringement       0.90      0.63      0.74       194\n",
      "non_infringement       0.71      0.93      0.80       186\n",
      "\n",
      "        accuracy                           0.78       380\n",
      "       macro avg       0.80      0.78      0.77       380\n",
      "    weighted avg       0.81      0.78      0.77       380\n",
      "\n"
     ]
    },
    {
     "name": "stderr",
     "output_type": "stream",
     "text": [
      "Training Epochs:  19%|█▉        | 382/2000 [01:22<02:04, 12.97it/s]"
     ]
    },
    {
     "name": "stdout",
     "output_type": "stream",
     "text": [
      "Epoch 380/2000, Loss: 0.0852\n",
      "Test Accuracy at Epoch 380: 78.95%\n",
      "Test F1-score at Epoch 380: 0.8122\n",
      "Classification Report at Epoch 380:\n",
      "                  precision    recall  f1-score   support\n",
      "\n",
      "    infringement       0.91      0.65      0.76       194\n",
      "non_infringement       0.72      0.93      0.81       186\n",
      "\n",
      "        accuracy                           0.79       380\n",
      "       macro avg       0.81      0.79      0.79       380\n",
      "    weighted avg       0.82      0.79      0.79       380\n",
      "\n"
     ]
    },
    {
     "name": "stderr",
     "output_type": "stream",
     "text": [
      "Training Epochs:  20%|█▉        | 392/2000 [01:23<02:00, 13.33it/s]"
     ]
    },
    {
     "name": "stdout",
     "output_type": "stream",
     "text": [
      "Epoch 390/2000, Loss: 0.0839\n",
      "Test Accuracy at Epoch 390: 78.68%\n",
      "Test F1-score at Epoch 390: 0.8094\n",
      "Classification Report at Epoch 390:\n",
      "                  precision    recall  f1-score   support\n",
      "\n",
      "    infringement       0.90      0.65      0.76       194\n",
      "non_infringement       0.72      0.92      0.81       186\n",
      "\n",
      "        accuracy                           0.79       380\n",
      "       macro avg       0.81      0.79      0.78       380\n",
      "    weighted avg       0.81      0.79      0.78       380\n",
      "\n"
     ]
    },
    {
     "name": "stderr",
     "output_type": "stream",
     "text": [
      "Training Epochs:  20%|██        | 400/2000 [01:23<02:53,  9.20it/s]"
     ]
    },
    {
     "name": "stdout",
     "output_type": "stream",
     "text": [
      "Epoch 400/2000, Loss: 0.0832\n",
      "Test Accuracy at Epoch 400: 77.89%\n",
      "Test F1-score at Epoch 400: 0.8047\n",
      "Classification Report at Epoch 400:\n",
      "                  precision    recall  f1-score   support\n",
      "\n",
      "    infringement       0.90      0.63      0.75       194\n",
      "non_infringement       0.71      0.93      0.80       186\n",
      "\n",
      "        accuracy                           0.78       380\n",
      "       macro avg       0.81      0.78      0.78       380\n",
      "    weighted avg       0.81      0.78      0.77       380\n",
      "\n"
     ]
    },
    {
     "name": "stderr",
     "output_type": "stream",
     "text": [
      "Training Epochs:  21%|██        | 413/2000 [01:25<02:06, 12.55it/s]"
     ]
    },
    {
     "name": "stdout",
     "output_type": "stream",
     "text": [
      "Epoch 410/2000, Loss: 0.0842\n",
      "Test Accuracy at Epoch 410: 79.47%\n",
      "Test F1-score at Epoch 410: 0.8152\n",
      "Classification Report at Epoch 410:\n",
      "                  precision    recall  f1-score   support\n",
      "\n",
      "    infringement       0.90      0.67      0.77       194\n",
      "non_infringement       0.73      0.92      0.82       186\n",
      "\n",
      "        accuracy                           0.79       380\n",
      "       macro avg       0.82      0.80      0.79       380\n",
      "    weighted avg       0.82      0.79      0.79       380\n",
      "\n"
     ]
    },
    {
     "name": "stderr",
     "output_type": "stream",
     "text": [
      "Training Epochs:  21%|██        | 420/2000 [01:25<01:39, 15.85it/s]"
     ]
    },
    {
     "name": "stdout",
     "output_type": "stream",
     "text": [
      "Epoch 420/2000, Loss: 0.0843\n",
      "Test Accuracy at Epoch 420: 77.63%\n",
      "Test F1-score at Epoch 420: 0.8028\n",
      "Classification Report at Epoch 420:\n",
      "                  precision    recall  f1-score   support\n",
      "\n",
      "    infringement       0.90      0.63      0.74       194\n",
      "non_infringement       0.71      0.93      0.80       186\n",
      "\n",
      "        accuracy                           0.78       380\n",
      "       macro avg       0.80      0.78      0.77       380\n",
      "    weighted avg       0.81      0.78      0.77       380\n",
      "\n"
     ]
    },
    {
     "name": "stderr",
     "output_type": "stream",
     "text": [
      "Training Epochs:  22%|██▏       | 431/2000 [01:26<01:23, 18.78it/s]"
     ]
    },
    {
     "name": "stdout",
     "output_type": "stream",
     "text": [
      "Epoch 430/2000, Loss: 0.0850\n",
      "Test Accuracy at Epoch 430: 79.74%\n",
      "Test F1-score at Epoch 430: 0.8180\n",
      "Classification Report at Epoch 430:\n",
      "                  precision    recall  f1-score   support\n",
      "\n",
      "    infringement       0.91      0.67      0.77       194\n",
      "non_infringement       0.73      0.93      0.82       186\n",
      "\n",
      "        accuracy                           0.80       380\n",
      "       macro avg       0.82      0.80      0.79       380\n",
      "    weighted avg       0.82      0.80      0.79       380\n",
      "\n"
     ]
    },
    {
     "name": "stderr",
     "output_type": "stream",
     "text": [
      "Training Epochs:  22%|██▏       | 443/2000 [01:26<01:23, 18.64it/s]"
     ]
    },
    {
     "name": "stdout",
     "output_type": "stream",
     "text": [
      "Epoch 440/2000, Loss: 0.0821\n",
      "Test Accuracy at Epoch 440: 77.89%\n",
      "Test F1-score at Epoch 440: 0.8047\n",
      "Classification Report at Epoch 440:\n",
      "                  precision    recall  f1-score   support\n",
      "\n",
      "    infringement       0.90      0.63      0.75       194\n",
      "non_infringement       0.71      0.93      0.80       186\n",
      "\n",
      "        accuracy                           0.78       380\n",
      "       macro avg       0.81      0.78      0.78       380\n",
      "    weighted avg       0.81      0.78      0.77       380\n",
      "\n"
     ]
    },
    {
     "name": "stderr",
     "output_type": "stream",
     "text": [
      "Training Epochs:  23%|██▎       | 453/2000 [01:27<01:25, 18.00it/s]"
     ]
    },
    {
     "name": "stdout",
     "output_type": "stream",
     "text": [
      "Epoch 450/2000, Loss: 0.0829\n",
      "Test Accuracy at Epoch 450: 80.00%\n",
      "Test F1-score at Epoch 450: 0.8199\n",
      "Classification Report at Epoch 450:\n",
      "                  precision    recall  f1-score   support\n",
      "\n",
      "    infringement       0.91      0.68      0.78       194\n",
      "non_infringement       0.73      0.93      0.82       186\n",
      "\n",
      "        accuracy                           0.80       380\n",
      "       macro avg       0.82      0.80      0.80       380\n",
      "    weighted avg       0.82      0.80      0.80       380\n",
      "\n"
     ]
    },
    {
     "name": "stderr",
     "output_type": "stream",
     "text": [
      "Training Epochs:  23%|██▎       | 462/2000 [01:27<01:24, 18.23it/s]"
     ]
    },
    {
     "name": "stdout",
     "output_type": "stream",
     "text": [
      "Epoch 460/2000, Loss: 0.0829\n",
      "Test Accuracy at Epoch 460: 80.00%\n",
      "Test F1-score at Epoch 460: 0.8199\n",
      "Classification Report at Epoch 460:\n",
      "                  precision    recall  f1-score   support\n",
      "\n",
      "    infringement       0.91      0.68      0.78       194\n",
      "non_infringement       0.73      0.93      0.82       186\n",
      "\n",
      "        accuracy                           0.80       380\n",
      "       macro avg       0.82      0.80      0.80       380\n",
      "    weighted avg       0.82      0.80      0.80       380\n",
      "\n"
     ]
    },
    {
     "name": "stderr",
     "output_type": "stream",
     "text": [
      "Training Epochs:  24%|██▎       | 470/2000 [01:28<01:37, 15.63it/s]"
     ]
    },
    {
     "name": "stdout",
     "output_type": "stream",
     "text": [
      "Epoch 470/2000, Loss: 0.0864\n",
      "Test Accuracy at Epoch 470: 82.11%\n",
      "Test F1-score at Epoch 470: 0.8350\n",
      "Classification Report at Epoch 470:\n",
      "                  precision    recall  f1-score   support\n",
      "\n",
      "    infringement       0.91      0.72      0.80       194\n",
      "non_infringement       0.76      0.92      0.83       186\n",
      "\n",
      "        accuracy                           0.82       380\n",
      "       macro avg       0.84      0.82      0.82       380\n",
      "    weighted avg       0.84      0.82      0.82       380\n",
      "\n",
      "New best model saved with F1-score 0.8350 at epoch 470\n",
      "Best Classification Report at Epoch 470:\n",
      "                  precision    recall  f1-score   support\n",
      "\n",
      "    infringement       0.91      0.72      0.80       194\n",
      "non_infringement       0.76      0.92      0.83       186\n",
      "\n",
      "        accuracy                           0.82       380\n",
      "       macro avg       0.84      0.82      0.82       380\n",
      "    weighted avg       0.84      0.82      0.82       380\n",
      "\n"
     ]
    },
    {
     "name": "stderr",
     "output_type": "stream",
     "text": [
      "Training Epochs:  24%|██▍       | 481/2000 [01:29<02:59,  8.44it/s]"
     ]
    },
    {
     "name": "stdout",
     "output_type": "stream",
     "text": [
      "Epoch 480/2000, Loss: 0.0864\n",
      "Test Accuracy at Epoch 480: 76.84%\n",
      "Test F1-score at Epoch 480: 0.7972\n",
      "Classification Report at Epoch 480:\n",
      "                  precision    recall  f1-score   support\n",
      "\n",
      "    infringement       0.90      0.61      0.73       194\n",
      "non_infringement       0.70      0.93      0.80       186\n",
      "\n",
      "        accuracy                           0.77       380\n",
      "       macro avg       0.80      0.77      0.76       380\n",
      "    weighted avg       0.80      0.77      0.76       380\n",
      "\n"
     ]
    },
    {
     "name": "stderr",
     "output_type": "stream",
     "text": [
      "Training Epochs:  25%|██▍       | 492/2000 [01:30<02:04, 12.11it/s]"
     ]
    },
    {
     "name": "stdout",
     "output_type": "stream",
     "text": [
      "Epoch 490/2000, Loss: 0.0828\n",
      "Test Accuracy at Epoch 490: 80.00%\n",
      "Test F1-score at Epoch 490: 0.8199\n",
      "Classification Report at Epoch 490:\n",
      "                  precision    recall  f1-score   support\n",
      "\n",
      "    infringement       0.91      0.68      0.78       194\n",
      "non_infringement       0.73      0.93      0.82       186\n",
      "\n",
      "        accuracy                           0.80       380\n",
      "       macro avg       0.82      0.80      0.80       380\n",
      "    weighted avg       0.82      0.80      0.80       380\n",
      "\n"
     ]
    },
    {
     "name": "stderr",
     "output_type": "stream",
     "text": [
      "Training Epochs:  25%|██▌       | 502/2000 [01:31<02:06, 11.84it/s]"
     ]
    },
    {
     "name": "stdout",
     "output_type": "stream",
     "text": [
      "Epoch 500/2000, Loss: 0.0807\n",
      "Test Accuracy at Epoch 500: 78.16%\n",
      "Test F1-score at Epoch 500: 0.8065\n",
      "Classification Report at Epoch 500:\n",
      "                  precision    recall  f1-score   support\n",
      "\n",
      "    infringement       0.91      0.64      0.75       194\n",
      "non_infringement       0.71      0.93      0.81       186\n",
      "\n",
      "        accuracy                           0.78       380\n",
      "       macro avg       0.81      0.78      0.78       380\n",
      "    weighted avg       0.81      0.78      0.78       380\n",
      "\n"
     ]
    },
    {
     "name": "stderr",
     "output_type": "stream",
     "text": [
      "Training Epochs:  26%|██▌       | 512/2000 [01:31<01:35, 15.52it/s]"
     ]
    },
    {
     "name": "stdout",
     "output_type": "stream",
     "text": [
      "Epoch 510/2000, Loss: 0.0806\n",
      "Test Accuracy at Epoch 510: 79.74%\n",
      "Test F1-score at Epoch 510: 0.8171\n",
      "Classification Report at Epoch 510:\n",
      "                  precision    recall  f1-score   support\n",
      "\n",
      "    infringement       0.90      0.68      0.77       194\n",
      "non_infringement       0.73      0.92      0.82       186\n",
      "\n",
      "        accuracy                           0.80       380\n",
      "       macro avg       0.82      0.80      0.79       380\n",
      "    weighted avg       0.82      0.80      0.79       380\n",
      "\n"
     ]
    },
    {
     "name": "stderr",
     "output_type": "stream",
     "text": [
      "Training Epochs:  26%|██▌       | 520/2000 [01:32<01:57, 12.64it/s]"
     ]
    },
    {
     "name": "stdout",
     "output_type": "stream",
     "text": [
      "Epoch 520/2000, Loss: 0.0791\n",
      "Test Accuracy at Epoch 520: 78.16%\n",
      "Test F1-score at Epoch 520: 0.8065\n",
      "Classification Report at Epoch 520:\n",
      "                  precision    recall  f1-score   support\n",
      "\n",
      "    infringement       0.91      0.64      0.75       194\n",
      "non_infringement       0.71      0.93      0.81       186\n",
      "\n",
      "        accuracy                           0.78       380\n",
      "       macro avg       0.81      0.78      0.78       380\n",
      "    weighted avg       0.81      0.78      0.78       380\n",
      "\n"
     ]
    },
    {
     "name": "stderr",
     "output_type": "stream",
     "text": [
      "Training Epochs:  27%|██▋       | 532/2000 [01:33<02:03, 11.86it/s]"
     ]
    },
    {
     "name": "stdout",
     "output_type": "stream",
     "text": [
      "Epoch 530/2000, Loss: 0.0791\n",
      "Test Accuracy at Epoch 530: 79.74%\n",
      "Test F1-score at Epoch 530: 0.8171\n",
      "Classification Report at Epoch 530:\n",
      "                  precision    recall  f1-score   support\n",
      "\n",
      "    infringement       0.90      0.68      0.77       194\n",
      "non_infringement       0.73      0.92      0.82       186\n",
      "\n",
      "        accuracy                           0.80       380\n",
      "       macro avg       0.82      0.80      0.79       380\n",
      "    weighted avg       0.82      0.80      0.79       380\n",
      "\n"
     ]
    },
    {
     "name": "stderr",
     "output_type": "stream",
     "text": [
      "Training Epochs:  27%|██▋       | 542/2000 [01:34<02:13, 10.91it/s]"
     ]
    },
    {
     "name": "stdout",
     "output_type": "stream",
     "text": [
      "Epoch 540/2000, Loss: 0.0811\n",
      "Test Accuracy at Epoch 540: 78.16%\n",
      "Test F1-score at Epoch 540: 0.8065\n",
      "Classification Report at Epoch 540:\n",
      "                  precision    recall  f1-score   support\n",
      "\n",
      "    infringement       0.91      0.64      0.75       194\n",
      "non_infringement       0.71      0.93      0.81       186\n",
      "\n",
      "        accuracy                           0.78       380\n",
      "       macro avg       0.81      0.78      0.78       380\n",
      "    weighted avg       0.81      0.78      0.78       380\n",
      "\n"
     ]
    },
    {
     "name": "stderr",
     "output_type": "stream",
     "text": [
      "Training Epochs:  28%|██▊       | 551/2000 [01:35<03:06,  7.78it/s]"
     ]
    },
    {
     "name": "stdout",
     "output_type": "stream",
     "text": [
      "Epoch 550/2000, Loss: 0.0792\n",
      "Test Accuracy at Epoch 550: 79.47%\n",
      "Test F1-score at Epoch 550: 0.8160\n",
      "Classification Report at Epoch 550:\n",
      "                  precision    recall  f1-score   support\n",
      "\n",
      "    infringement       0.91      0.66      0.77       194\n",
      "non_infringement       0.73      0.93      0.82       186\n",
      "\n",
      "        accuracy                           0.79       380\n",
      "       macro avg       0.82      0.80      0.79       380\n",
      "    weighted avg       0.82      0.79      0.79       380\n",
      "\n"
     ]
    },
    {
     "name": "stderr",
     "output_type": "stream",
     "text": [
      "Training Epochs:  28%|██▊       | 561/2000 [01:36<03:22,  7.10it/s]"
     ]
    },
    {
     "name": "stdout",
     "output_type": "stream",
     "text": [
      "Epoch 560/2000, Loss: 0.0793\n",
      "Test Accuracy at Epoch 560: 78.16%\n",
      "Test F1-score at Epoch 560: 0.8065\n",
      "Classification Report at Epoch 560:\n",
      "                  precision    recall  f1-score   support\n",
      "\n",
      "    infringement       0.91      0.64      0.75       194\n",
      "non_infringement       0.71      0.93      0.81       186\n",
      "\n",
      "        accuracy                           0.78       380\n",
      "       macro avg       0.81      0.78      0.78       380\n",
      "    weighted avg       0.81      0.78      0.78       380\n",
      "\n"
     ]
    },
    {
     "name": "stderr",
     "output_type": "stream",
     "text": [
      "Training Epochs:  28%|██▊       | 570/2000 [01:38<05:43,  4.17it/s]"
     ]
    },
    {
     "name": "stdout",
     "output_type": "stream",
     "text": [
      "Epoch 570/2000, Loss: 0.0829\n",
      "Test Accuracy at Epoch 570: 77.89%\n",
      "Test F1-score at Epoch 570: 0.8047\n",
      "Classification Report at Epoch 570:\n",
      "                  precision    recall  f1-score   support\n",
      "\n",
      "    infringement       0.90      0.63      0.75       194\n",
      "non_infringement       0.71      0.93      0.80       186\n",
      "\n",
      "        accuracy                           0.78       380\n",
      "       macro avg       0.81      0.78      0.78       380\n",
      "    weighted avg       0.81      0.78      0.77       380\n",
      "\n"
     ]
    },
    {
     "name": "stderr",
     "output_type": "stream",
     "text": [
      "Training Epochs:  29%|██▉       | 580/2000 [01:42<07:08,  3.32it/s]"
     ]
    },
    {
     "name": "stdout",
     "output_type": "stream",
     "text": [
      "Epoch 580/2000, Loss: 0.0786\n",
      "Test Accuracy at Epoch 580: 80.00%\n",
      "Test F1-score at Epoch 580: 0.8190\n",
      "Classification Report at Epoch 580:\n",
      "                  precision    recall  f1-score   support\n",
      "\n",
      "    infringement       0.90      0.68      0.78       194\n",
      "non_infringement       0.74      0.92      0.82       186\n",
      "\n",
      "        accuracy                           0.80       380\n",
      "       macro avg       0.82      0.80      0.80       380\n",
      "    weighted avg       0.82      0.80      0.80       380\n",
      "\n"
     ]
    },
    {
     "name": "stderr",
     "output_type": "stream",
     "text": [
      "Training Epochs:  30%|██▉       | 592/2000 [01:45<03:13,  7.27it/s]"
     ]
    },
    {
     "name": "stdout",
     "output_type": "stream",
     "text": [
      "Epoch 590/2000, Loss: 0.0791\n",
      "Test Accuracy at Epoch 590: 77.89%\n",
      "Test F1-score at Epoch 590: 0.8047\n",
      "Classification Report at Epoch 590:\n",
      "                  precision    recall  f1-score   support\n",
      "\n",
      "    infringement       0.90      0.63      0.75       194\n",
      "non_infringement       0.71      0.93      0.80       186\n",
      "\n",
      "        accuracy                           0.78       380\n",
      "       macro avg       0.81      0.78      0.78       380\n",
      "    weighted avg       0.81      0.78      0.77       380\n",
      "\n"
     ]
    },
    {
     "name": "stderr",
     "output_type": "stream",
     "text": [
      "Training Epochs:  30%|███       | 600/2000 [01:48<07:21,  3.17it/s]"
     ]
    },
    {
     "name": "stdout",
     "output_type": "stream",
     "text": [
      "Epoch 600/2000, Loss: 0.0794\n",
      "Test Accuracy at Epoch 600: 81.58%\n",
      "Test F1-score at Epoch 600: 0.8309\n",
      "Classification Report at Epoch 600:\n",
      "                  precision    recall  f1-score   support\n",
      "\n",
      "    infringement       0.91      0.71      0.80       194\n",
      "non_infringement       0.75      0.92      0.83       186\n",
      "\n",
      "        accuracy                           0.82       380\n",
      "       macro avg       0.83      0.82      0.81       380\n",
      "    weighted avg       0.83      0.82      0.81       380\n",
      "\n"
     ]
    },
    {
     "name": "stderr",
     "output_type": "stream",
     "text": [
      "Training Epochs:  31%|███       | 611/2000 [01:50<02:45,  8.40it/s]"
     ]
    },
    {
     "name": "stdout",
     "output_type": "stream",
     "text": [
      "Epoch 610/2000, Loss: 0.0785\n",
      "Test Accuracy at Epoch 610: 78.95%\n",
      "Test F1-score at Epoch 610: 0.8122\n",
      "Classification Report at Epoch 610:\n",
      "                  precision    recall  f1-score   support\n",
      "\n",
      "    infringement       0.91      0.65      0.76       194\n",
      "non_infringement       0.72      0.93      0.81       186\n",
      "\n",
      "        accuracy                           0.79       380\n",
      "       macro avg       0.81      0.79      0.79       380\n",
      "    weighted avg       0.82      0.79      0.79       380\n",
      "\n"
     ]
    },
    {
     "name": "stderr",
     "output_type": "stream",
     "text": [
      "Training Epochs:  31%|███       | 619/2000 [01:50<01:51, 12.42it/s]"
     ]
    },
    {
     "name": "stdout",
     "output_type": "stream",
     "text": [
      "Epoch 620/2000, Loss: 0.0779\n",
      "Test Accuracy at Epoch 620: 80.00%\n",
      "Test F1-score at Epoch 620: 0.8190\n",
      "Classification Report at Epoch 620:\n",
      "                  precision    recall  f1-score   support\n",
      "\n",
      "    infringement       0.90      0.68      0.78       194\n",
      "non_infringement       0.74      0.92      0.82       186\n",
      "\n",
      "        accuracy                           0.80       380\n",
      "       macro avg       0.82      0.80      0.80       380\n",
      "    weighted avg       0.82      0.80      0.80       380\n",
      "\n"
     ]
    },
    {
     "name": "stderr",
     "output_type": "stream",
     "text": [
      "Training Epochs:  32%|███▏      | 631/2000 [01:54<03:39,  6.24it/s]"
     ]
    },
    {
     "name": "stdout",
     "output_type": "stream",
     "text": [
      "Epoch 630/2000, Loss: 0.0810\n",
      "Test Accuracy at Epoch 630: 81.32%\n",
      "Test F1-score at Epoch 630: 0.8281\n",
      "Classification Report at Epoch 630:\n",
      "                  precision    recall  f1-score   support\n",
      "\n",
      "    infringement       0.90      0.71      0.80       194\n",
      "non_infringement       0.75      0.92      0.83       186\n",
      "\n",
      "        accuracy                           0.81       380\n",
      "       macro avg       0.83      0.82      0.81       380\n",
      "    weighted avg       0.83      0.81      0.81       380\n",
      "\n"
     ]
    },
    {
     "name": "stderr",
     "output_type": "stream",
     "text": [
      "Training Epochs:  32%|███▏      | 642/2000 [01:57<04:01,  5.62it/s]"
     ]
    },
    {
     "name": "stdout",
     "output_type": "stream",
     "text": [
      "Epoch 640/2000, Loss: 0.0782\n",
      "Test Accuracy at Epoch 640: 78.95%\n",
      "Test F1-score at Epoch 640: 0.8122\n",
      "Classification Report at Epoch 640:\n",
      "                  precision    recall  f1-score   support\n",
      "\n",
      "    infringement       0.91      0.65      0.76       194\n",
      "non_infringement       0.72      0.93      0.81       186\n",
      "\n",
      "        accuracy                           0.79       380\n",
      "       macro avg       0.81      0.79      0.79       380\n",
      "    weighted avg       0.82      0.79      0.79       380\n",
      "\n"
     ]
    },
    {
     "name": "stderr",
     "output_type": "stream",
     "text": [
      "Training Epochs:  33%|███▎      | 651/2000 [01:58<04:53,  4.59it/s]"
     ]
    },
    {
     "name": "stdout",
     "output_type": "stream",
     "text": [
      "Epoch 650/2000, Loss: 0.0770\n",
      "Test Accuracy at Epoch 650: 80.00%\n",
      "Test F1-score at Epoch 650: 0.8190\n",
      "Classification Report at Epoch 650:\n",
      "                  precision    recall  f1-score   support\n",
      "\n",
      "    infringement       0.90      0.68      0.78       194\n",
      "non_infringement       0.74      0.92      0.82       186\n",
      "\n",
      "        accuracy                           0.80       380\n",
      "       macro avg       0.82      0.80      0.80       380\n",
      "    weighted avg       0.82      0.80      0.80       380\n",
      "\n"
     ]
    },
    {
     "name": "stderr",
     "output_type": "stream",
     "text": [
      "Training Epochs:  33%|███▎      | 660/2000 [02:01<07:52,  2.84it/s]"
     ]
    },
    {
     "name": "stdout",
     "output_type": "stream",
     "text": [
      "Epoch 660/2000, Loss: 0.0773\n",
      "Test Accuracy at Epoch 660: 78.95%\n",
      "Test F1-score at Epoch 660: 0.8122\n",
      "Classification Report at Epoch 660:\n",
      "                  precision    recall  f1-score   support\n",
      "\n",
      "    infringement       0.91      0.65      0.76       194\n",
      "non_infringement       0.72      0.93      0.81       186\n",
      "\n",
      "        accuracy                           0.79       380\n",
      "       macro avg       0.81      0.79      0.79       380\n",
      "    weighted avg       0.82      0.79      0.79       380\n",
      "\n"
     ]
    },
    {
     "name": "stderr",
     "output_type": "stream",
     "text": [
      "Training Epochs:  34%|███▎      | 670/2000 [02:06<12:12,  1.82it/s]"
     ]
    },
    {
     "name": "stdout",
     "output_type": "stream",
     "text": [
      "Epoch 670/2000, Loss: 0.0779\n",
      "Test Accuracy at Epoch 670: 81.58%\n",
      "Test F1-score at Epoch 670: 0.8309\n",
      "Classification Report at Epoch 670:\n",
      "                  precision    recall  f1-score   support\n",
      "\n",
      "    infringement       0.91      0.71      0.80       194\n",
      "non_infringement       0.75      0.92      0.83       186\n",
      "\n",
      "        accuracy                           0.82       380\n",
      "       macro avg       0.83      0.82      0.81       380\n",
      "    weighted avg       0.83      0.82      0.81       380\n",
      "\n"
     ]
    },
    {
     "name": "stderr",
     "output_type": "stream",
     "text": [
      "Training Epochs:  34%|███▍      | 680/2000 [02:12<12:21,  1.78it/s]"
     ]
    },
    {
     "name": "stdout",
     "output_type": "stream",
     "text": [
      "Epoch 680/2000, Loss: 0.0774\n",
      "Test Accuracy at Epoch 680: 78.95%\n",
      "Test F1-score at Epoch 680: 0.8122\n",
      "Classification Report at Epoch 680:\n",
      "                  precision    recall  f1-score   support\n",
      "\n",
      "    infringement       0.91      0.65      0.76       194\n",
      "non_infringement       0.72      0.93      0.81       186\n",
      "\n",
      "        accuracy                           0.79       380\n",
      "       macro avg       0.81      0.79      0.79       380\n",
      "    weighted avg       0.82      0.79      0.79       380\n",
      "\n"
     ]
    },
    {
     "name": "stderr",
     "output_type": "stream",
     "text": [
      "Training Epochs:  34%|███▍      | 690/2000 [02:15<09:05,  2.40it/s]"
     ]
    },
    {
     "name": "stdout",
     "output_type": "stream",
     "text": [
      "Epoch 690/2000, Loss: 0.0769\n",
      "Test Accuracy at Epoch 690: 80.00%\n",
      "Test F1-score at Epoch 690: 0.8190\n",
      "Classification Report at Epoch 690:\n",
      "                  precision    recall  f1-score   support\n",
      "\n",
      "    infringement       0.90      0.68      0.78       194\n",
      "non_infringement       0.74      0.92      0.82       186\n",
      "\n",
      "        accuracy                           0.80       380\n",
      "       macro avg       0.82      0.80      0.80       380\n",
      "    weighted avg       0.82      0.80      0.80       380\n",
      "\n"
     ]
    },
    {
     "name": "stderr",
     "output_type": "stream",
     "text": [
      "Training Epochs:  35%|███▌      | 701/2000 [02:17<03:15,  6.64it/s]"
     ]
    },
    {
     "name": "stdout",
     "output_type": "stream",
     "text": [
      "Epoch 700/2000, Loss: 0.0807\n",
      "Test Accuracy at Epoch 700: 81.32%\n",
      "Test F1-score at Epoch 700: 0.8273\n",
      "Classification Report at Epoch 700:\n",
      "                  precision    recall  f1-score   support\n",
      "\n",
      "    infringement       0.90      0.72      0.80       194\n",
      "non_infringement       0.76      0.91      0.83       186\n",
      "\n",
      "        accuracy                           0.81       380\n",
      "       macro avg       0.83      0.82      0.81       380\n",
      "    weighted avg       0.83      0.81      0.81       380\n",
      "\n"
     ]
    },
    {
     "name": "stderr",
     "output_type": "stream",
     "text": [
      "Training Epochs:  36%|███▌      | 712/2000 [02:20<02:46,  7.71it/s]"
     ]
    },
    {
     "name": "stdout",
     "output_type": "stream",
     "text": [
      "Epoch 710/2000, Loss: 0.0773\n",
      "Test Accuracy at Epoch 710: 78.95%\n",
      "Test F1-score at Epoch 710: 0.8122\n",
      "Classification Report at Epoch 710:\n",
      "                  precision    recall  f1-score   support\n",
      "\n",
      "    infringement       0.91      0.65      0.76       194\n",
      "non_infringement       0.72      0.93      0.81       186\n",
      "\n",
      "        accuracy                           0.79       380\n",
      "       macro avg       0.81      0.79      0.79       380\n",
      "    weighted avg       0.82      0.79      0.79       380\n",
      "\n"
     ]
    },
    {
     "name": "stderr",
     "output_type": "stream",
     "text": [
      "Training Epochs:  36%|███▌      | 724/2000 [02:21<01:50, 11.53it/s]"
     ]
    },
    {
     "name": "stdout",
     "output_type": "stream",
     "text": [
      "Epoch 720/2000, Loss: 0.0763\n",
      "Test Accuracy at Epoch 720: 81.32%\n",
      "Test F1-score at Epoch 720: 0.8289\n",
      "Classification Report at Epoch 720:\n",
      "                  precision    recall  f1-score   support\n",
      "\n",
      "    infringement       0.91      0.71      0.79       194\n",
      "non_infringement       0.75      0.92      0.83       186\n",
      "\n",
      "        accuracy                           0.81       380\n",
      "       macro avg       0.83      0.82      0.81       380\n",
      "    weighted avg       0.83      0.81      0.81       380\n",
      "\n"
     ]
    },
    {
     "name": "stderr",
     "output_type": "stream",
     "text": [
      "Training Epochs:  36%|███▋      | 730/2000 [02:24<05:57,  3.55it/s]"
     ]
    },
    {
     "name": "stdout",
     "output_type": "stream",
     "text": [
      "Epoch 730/2000, Loss: 0.0762\n",
      "Test Accuracy at Epoch 730: 78.95%\n",
      "Test F1-score at Epoch 730: 0.8122\n",
      "Classification Report at Epoch 730:\n",
      "                  precision    recall  f1-score   support\n",
      "\n",
      "    infringement       0.91      0.65      0.76       194\n",
      "non_infringement       0.72      0.93      0.81       186\n",
      "\n",
      "        accuracy                           0.79       380\n",
      "       macro avg       0.81      0.79      0.79       380\n",
      "    weighted avg       0.82      0.79      0.79       380\n",
      "\n"
     ]
    },
    {
     "name": "stderr",
     "output_type": "stream",
     "text": [
      "Training Epochs:  37%|███▋      | 740/2000 [02:27<10:09,  2.07it/s]"
     ]
    },
    {
     "name": "stdout",
     "output_type": "stream",
     "text": [
      "Epoch 740/2000, Loss: 0.0763\n",
      "Test Accuracy at Epoch 740: 81.32%\n",
      "Test F1-score at Epoch 740: 0.8289\n",
      "Classification Report at Epoch 740:\n",
      "                  precision    recall  f1-score   support\n",
      "\n",
      "    infringement       0.91      0.71      0.79       194\n",
      "non_infringement       0.75      0.92      0.83       186\n",
      "\n",
      "        accuracy                           0.81       380\n",
      "       macro avg       0.83      0.82      0.81       380\n",
      "    weighted avg       0.83      0.81      0.81       380\n",
      "\n"
     ]
    },
    {
     "name": "stderr",
     "output_type": "stream",
     "text": [
      "Training Epochs:  38%|███▊      | 750/2000 [02:30<08:10,  2.55it/s]"
     ]
    },
    {
     "name": "stdout",
     "output_type": "stream",
     "text": [
      "Epoch 750/2000, Loss: 0.0763\n",
      "Test Accuracy at Epoch 750: 78.95%\n",
      "Test F1-score at Epoch 750: 0.8122\n",
      "Classification Report at Epoch 750:\n",
      "                  precision    recall  f1-score   support\n",
      "\n",
      "    infringement       0.91      0.65      0.76       194\n",
      "non_infringement       0.72      0.93      0.81       186\n",
      "\n",
      "        accuracy                           0.79       380\n",
      "       macro avg       0.81      0.79      0.79       380\n",
      "    weighted avg       0.82      0.79      0.79       380\n",
      "\n"
     ]
    },
    {
     "name": "stderr",
     "output_type": "stream",
     "text": [
      "Training Epochs:  38%|███▊      | 762/2000 [02:33<03:22,  6.10it/s]"
     ]
    },
    {
     "name": "stdout",
     "output_type": "stream",
     "text": [
      "Epoch 760/2000, Loss: 0.0758\n",
      "Test Accuracy at Epoch 760: 79.21%\n",
      "Test F1-score at Epoch 760: 0.8132\n",
      "Classification Report at Epoch 760:\n",
      "                  precision    recall  f1-score   support\n",
      "\n",
      "    infringement       0.90      0.66      0.77       194\n",
      "non_infringement       0.73      0.92      0.81       186\n",
      "\n",
      "        accuracy                           0.79       380\n",
      "       macro avg       0.81      0.79      0.79       380\n",
      "    weighted avg       0.82      0.79      0.79       380\n",
      "\n"
     ]
    },
    {
     "name": "stderr",
     "output_type": "stream",
     "text": [
      "Training Epochs:  38%|███▊      | 770/2000 [02:33<01:37, 12.59it/s]"
     ]
    },
    {
     "name": "stdout",
     "output_type": "stream",
     "text": [
      "Epoch 770/2000, Loss: 0.0778\n",
      "Test Accuracy at Epoch 770: 81.32%\n",
      "Test F1-score at Epoch 770: 0.8273\n",
      "Classification Report at Epoch 770:\n",
      "                  precision    recall  f1-score   support\n",
      "\n",
      "    infringement       0.90      0.72      0.80       194\n",
      "non_infringement       0.76      0.91      0.83       186\n",
      "\n",
      "        accuracy                           0.81       380\n",
      "       macro avg       0.83      0.82      0.81       380\n",
      "    weighted avg       0.83      0.81      0.81       380\n",
      "\n"
     ]
    },
    {
     "name": "stderr",
     "output_type": "stream",
     "text": [
      "Training Epochs:  39%|███▉      | 783/2000 [02:35<02:46,  7.31it/s]"
     ]
    },
    {
     "name": "stdout",
     "output_type": "stream",
     "text": [
      "Epoch 780/2000, Loss: 0.0762\n",
      "Test Accuracy at Epoch 780: 81.05%\n",
      "Test F1-score at Epoch 780: 0.8269\n",
      "Classification Report at Epoch 780:\n",
      "                  precision    recall  f1-score   support\n",
      "\n",
      "    infringement       0.91      0.70      0.79       194\n",
      "non_infringement       0.75      0.92      0.83       186\n",
      "\n",
      "        accuracy                           0.81       380\n",
      "       macro avg       0.83      0.81      0.81       380\n",
      "    weighted avg       0.83      0.81      0.81       380\n",
      "\n"
     ]
    },
    {
     "name": "stderr",
     "output_type": "stream",
     "text": [
      "Training Epochs:  40%|███▉      | 790/2000 [02:37<03:50,  5.26it/s]"
     ]
    },
    {
     "name": "stdout",
     "output_type": "stream",
     "text": [
      "Epoch 790/2000, Loss: 0.0757\n",
      "Test Accuracy at Epoch 790: 78.95%\n",
      "Test F1-score at Epoch 790: 0.8122\n",
      "Classification Report at Epoch 790:\n",
      "                  precision    recall  f1-score   support\n",
      "\n",
      "    infringement       0.91      0.65      0.76       194\n",
      "non_infringement       0.72      0.93      0.81       186\n",
      "\n",
      "        accuracy                           0.79       380\n",
      "       macro avg       0.81      0.79      0.79       380\n",
      "    weighted avg       0.82      0.79      0.79       380\n",
      "\n"
     ]
    },
    {
     "name": "stderr",
     "output_type": "stream",
     "text": [
      "Training Epochs:  40%|████      | 802/2000 [02:38<02:24,  8.29it/s]"
     ]
    },
    {
     "name": "stdout",
     "output_type": "stream",
     "text": [
      "Epoch 800/2000, Loss: 0.0836\n",
      "Test Accuracy at Epoch 800: 78.95%\n",
      "Test F1-score at Epoch 800: 0.8122\n",
      "Classification Report at Epoch 800:\n",
      "                  precision    recall  f1-score   support\n",
      "\n",
      "    infringement       0.91      0.65      0.76       194\n",
      "non_infringement       0.72      0.93      0.81       186\n",
      "\n",
      "        accuracy                           0.79       380\n",
      "       macro avg       0.81      0.79      0.79       380\n",
      "    weighted avg       0.82      0.79      0.79       380\n",
      "\n"
     ]
    },
    {
     "name": "stderr",
     "output_type": "stream",
     "text": [
      "Training Epochs:  41%|████      | 811/2000 [02:39<01:47, 11.04it/s]"
     ]
    },
    {
     "name": "stdout",
     "output_type": "stream",
     "text": [
      "Epoch 810/2000, Loss: 0.0783\n",
      "Test Accuracy at Epoch 810: 81.05%\n",
      "Test F1-score at Epoch 810: 0.8269\n",
      "Classification Report at Epoch 810:\n",
      "                  precision    recall  f1-score   support\n",
      "\n",
      "    infringement       0.91      0.70      0.79       194\n",
      "non_infringement       0.75      0.92      0.83       186\n",
      "\n",
      "        accuracy                           0.81       380\n",
      "       macro avg       0.83      0.81      0.81       380\n",
      "    weighted avg       0.83      0.81      0.81       380\n",
      "\n"
     ]
    },
    {
     "name": "stderr",
     "output_type": "stream",
     "text": [
      "Training Epochs:  41%|████      | 821/2000 [02:40<01:37, 12.03it/s]"
     ]
    },
    {
     "name": "stdout",
     "output_type": "stream",
     "text": [
      "Epoch 820/2000, Loss: 0.0769\n",
      "Test Accuracy at Epoch 820: 81.05%\n",
      "Test F1-score at Epoch 820: 0.8269\n",
      "Classification Report at Epoch 820:\n",
      "                  precision    recall  f1-score   support\n",
      "\n",
      "    infringement       0.91      0.70      0.79       194\n",
      "non_infringement       0.75      0.92      0.83       186\n",
      "\n",
      "        accuracy                           0.81       380\n",
      "       macro avg       0.83      0.81      0.81       380\n",
      "    weighted avg       0.83      0.81      0.81       380\n",
      "\n"
     ]
    },
    {
     "name": "stderr",
     "output_type": "stream",
     "text": [
      "Training Epochs:  42%|████▏     | 833/2000 [02:40<00:58, 19.82it/s]"
     ]
    },
    {
     "name": "stdout",
     "output_type": "stream",
     "text": [
      "Epoch 830/2000, Loss: 0.0754\n",
      "Test Accuracy at Epoch 830: 80.79%\n",
      "Test F1-score at Epoch 830: 0.8249\n",
      "Classification Report at Epoch 830:\n",
      "                  precision    recall  f1-score   support\n",
      "\n",
      "    infringement       0.91      0.70      0.79       194\n",
      "non_infringement       0.74      0.92      0.82       186\n",
      "\n",
      "        accuracy                           0.81       380\n",
      "       macro avg       0.83      0.81      0.81       380\n",
      "    weighted avg       0.83      0.81      0.81       380\n",
      "\n"
     ]
    },
    {
     "name": "stderr",
     "output_type": "stream",
     "text": [
      "Training Epochs:  42%|████▏     | 843/2000 [02:41<00:37, 30.94it/s]"
     ]
    },
    {
     "name": "stdout",
     "output_type": "stream",
     "text": [
      "Epoch 840/2000, Loss: 0.0756\n",
      "Test Accuracy at Epoch 840: 78.95%\n",
      "Test F1-score at Epoch 840: 0.8113\n",
      "Classification Report at Epoch 840:\n",
      "                  precision    recall  f1-score   support\n",
      "\n",
      "    infringement       0.90      0.66      0.76       194\n",
      "non_infringement       0.72      0.92      0.81       186\n",
      "\n",
      "        accuracy                           0.79       380\n",
      "       macro avg       0.81      0.79      0.79       380\n",
      "    weighted avg       0.81      0.79      0.79       380\n",
      "\n"
     ]
    },
    {
     "name": "stderr",
     "output_type": "stream",
     "text": [
      "Training Epochs:  43%|████▎     | 857/2000 [02:41<00:29, 38.35it/s]"
     ]
    },
    {
     "name": "stdout",
     "output_type": "stream",
     "text": [
      "Epoch 850/2000, Loss: 0.0753\n",
      "Test Accuracy at Epoch 850: 80.79%\n",
      "Test F1-score at Epoch 850: 0.8249\n",
      "Classification Report at Epoch 850:\n",
      "                  precision    recall  f1-score   support\n",
      "\n",
      "    infringement       0.91      0.70      0.79       194\n",
      "non_infringement       0.74      0.92      0.82       186\n",
      "\n",
      "        accuracy                           0.81       380\n",
      "       macro avg       0.83      0.81      0.81       380\n",
      "    weighted avg       0.83      0.81      0.81       380\n",
      "\n",
      "Epoch 860/2000, Loss: 0.0751\n",
      "Test Accuracy at Epoch 860: 80.79%\n",
      "Test F1-score at Epoch 860: 0.8249\n",
      "Classification Report at Epoch 860:\n",
      "                  precision    recall  f1-score   support\n",
      "\n",
      "    infringement       0.91      0.70      0.79       194\n",
      "non_infringement       0.74      0.92      0.82       186\n",
      "\n",
      "        accuracy                           0.81       380\n",
      "       macro avg       0.83      0.81      0.81       380\n",
      "    weighted avg       0.83      0.81      0.81       380\n",
      "\n"
     ]
    },
    {
     "name": "stderr",
     "output_type": "stream",
     "text": [
      "Training Epochs:  43%|████▎     | 869/2000 [02:43<02:02,  9.26it/s]"
     ]
    },
    {
     "name": "stdout",
     "output_type": "stream",
     "text": [
      "Epoch 870/2000, Loss: 0.0751\n",
      "Test Accuracy at Epoch 870: 78.95%\n",
      "Test F1-score at Epoch 870: 0.8113\n",
      "Classification Report at Epoch 870:\n",
      "                  precision    recall  f1-score   support\n",
      "\n",
      "    infringement       0.90      0.66      0.76       194\n",
      "non_infringement       0.72      0.92      0.81       186\n",
      "\n",
      "        accuracy                           0.79       380\n",
      "       macro avg       0.81      0.79      0.79       380\n",
      "    weighted avg       0.81      0.79      0.79       380\n",
      "\n"
     ]
    },
    {
     "name": "stderr",
     "output_type": "stream",
     "text": [
      "Training Epochs:  44%|████▍     | 882/2000 [02:44<01:34, 11.80it/s]"
     ]
    },
    {
     "name": "stdout",
     "output_type": "stream",
     "text": [
      "Epoch 880/2000, Loss: 0.0948\n",
      "Test Accuracy at Epoch 880: 78.68%\n",
      "Test F1-score at Epoch 880: 0.8103\n",
      "Classification Report at Epoch 880:\n",
      "                  precision    recall  f1-score   support\n",
      "\n",
      "    infringement       0.91      0.65      0.76       194\n",
      "non_infringement       0.72      0.93      0.81       186\n",
      "\n",
      "        accuracy                           0.79       380\n",
      "       macro avg       0.81      0.79      0.78       380\n",
      "    weighted avg       0.81      0.79      0.78       380\n",
      "\n"
     ]
    },
    {
     "name": "stderr",
     "output_type": "stream",
     "text": [
      "Training Epochs:  45%|████▍     | 896/2000 [02:45<00:42, 26.25it/s]"
     ]
    },
    {
     "name": "stdout",
     "output_type": "stream",
     "text": [
      "Epoch 890/2000, Loss: 0.0790\n",
      "Test Accuracy at Epoch 890: 78.95%\n",
      "Test F1-score at Epoch 890: 0.8122\n",
      "Classification Report at Epoch 890:\n",
      "                  precision    recall  f1-score   support\n",
      "\n",
      "    infringement       0.91      0.65      0.76       194\n",
      "non_infringement       0.72      0.93      0.81       186\n",
      "\n",
      "        accuracy                           0.79       380\n",
      "       macro avg       0.81      0.79      0.79       380\n",
      "    weighted avg       0.82      0.79      0.79       380\n",
      "\n"
     ]
    },
    {
     "name": "stderr",
     "output_type": "stream",
     "text": [
      "Training Epochs:  45%|████▌     | 900/2000 [02:45<00:41, 26.54it/s]"
     ]
    },
    {
     "name": "stdout",
     "output_type": "stream",
     "text": [
      "Epoch 900/2000, Loss: 0.0761\n",
      "Test Accuracy at Epoch 900: 80.53%\n",
      "Test F1-score at Epoch 900: 0.8238\n",
      "Classification Report at Epoch 900:\n",
      "                  precision    recall  f1-score   support\n",
      "\n",
      "    infringement       0.91      0.69      0.78       194\n",
      "non_infringement       0.74      0.93      0.82       186\n",
      "\n",
      "        accuracy                           0.81       380\n",
      "       macro avg       0.83      0.81      0.80       380\n",
      "    weighted avg       0.83      0.81      0.80       380\n",
      "\n"
     ]
    },
    {
     "name": "stderr",
     "output_type": "stream",
     "text": [
      "Training Epochs:  46%|████▌     | 910/2000 [02:46<01:32, 11.74it/s]"
     ]
    },
    {
     "name": "stdout",
     "output_type": "stream",
     "text": [
      "Epoch 910/2000, Loss: 0.0755\n",
      "Test Accuracy at Epoch 910: 80.53%\n",
      "Test F1-score at Epoch 910: 0.8230\n",
      "Classification Report at Epoch 910:\n",
      "                  precision    recall  f1-score   support\n",
      "\n",
      "    infringement       0.91      0.69      0.78       194\n",
      "non_infringement       0.74      0.92      0.82       186\n",
      "\n",
      "        accuracy                           0.81       380\n",
      "       macro avg       0.82      0.81      0.80       380\n",
      "    weighted avg       0.83      0.81      0.80       380\n",
      "\n"
     ]
    },
    {
     "name": "stderr",
     "output_type": "stream",
     "text": [
      "Training Epochs:  46%|████▌     | 923/2000 [02:48<01:51,  9.68it/s]"
     ]
    },
    {
     "name": "stdout",
     "output_type": "stream",
     "text": [
      "Epoch 920/2000, Loss: 0.0751\n",
      "Test Accuracy at Epoch 920: 81.05%\n",
      "Test F1-score at Epoch 920: 0.8269\n",
      "Classification Report at Epoch 920:\n",
      "                  precision    recall  f1-score   support\n",
      "\n",
      "    infringement       0.91      0.70      0.79       194\n",
      "non_infringement       0.75      0.92      0.83       186\n",
      "\n",
      "        accuracy                           0.81       380\n",
      "       macro avg       0.83      0.81      0.81       380\n",
      "    weighted avg       0.83      0.81      0.81       380\n",
      "\n"
     ]
    },
    {
     "name": "stderr",
     "output_type": "stream",
     "text": [
      "Training Epochs:  47%|████▋     | 933/2000 [02:48<01:09, 15.37it/s]"
     ]
    },
    {
     "name": "stdout",
     "output_type": "stream",
     "text": [
      "Epoch 930/2000, Loss: 0.0750\n",
      "Test Accuracy at Epoch 930: 80.79%\n",
      "Test F1-score at Epoch 930: 0.8249\n",
      "Classification Report at Epoch 930:\n",
      "                  precision    recall  f1-score   support\n",
      "\n",
      "    infringement       0.91      0.70      0.79       194\n",
      "non_infringement       0.74      0.92      0.82       186\n",
      "\n",
      "        accuracy                           0.81       380\n",
      "       macro avg       0.83      0.81      0.81       380\n",
      "    weighted avg       0.83      0.81      0.81       380\n",
      "\n"
     ]
    },
    {
     "name": "stderr",
     "output_type": "stream",
     "text": [
      "Training Epochs:  47%|████▋     | 945/2000 [02:49<01:05, 16.03it/s]"
     ]
    },
    {
     "name": "stdout",
     "output_type": "stream",
     "text": [
      "Epoch 940/2000, Loss: 0.0749\n",
      "Test Accuracy at Epoch 940: 80.53%\n",
      "Test F1-score at Epoch 940: 0.8230\n",
      "Classification Report at Epoch 940:\n",
      "                  precision    recall  f1-score   support\n",
      "\n",
      "    infringement       0.91      0.69      0.78       194\n",
      "non_infringement       0.74      0.92      0.82       186\n",
      "\n",
      "        accuracy                           0.81       380\n",
      "       macro avg       0.82      0.81      0.80       380\n",
      "    weighted avg       0.83      0.81      0.80       380\n",
      "\n"
     ]
    },
    {
     "name": "stderr",
     "output_type": "stream",
     "text": [
      "Training Epochs:  47%|████▋     | 948/2000 [02:49<01:00, 17.40it/s]"
     ]
    },
    {
     "name": "stdout",
     "output_type": "stream",
     "text": [
      "Epoch 950/2000, Loss: 0.0748\n",
      "Test Accuracy at Epoch 950: 80.79%\n",
      "Test F1-score at Epoch 950: 0.8249\n",
      "Classification Report at Epoch 950:\n",
      "                  precision    recall  f1-score   support\n",
      "\n",
      "    infringement       0.91      0.70      0.79       194\n",
      "non_infringement       0.74      0.92      0.82       186\n",
      "\n",
      "        accuracy                           0.81       380\n",
      "       macro avg       0.83      0.81      0.81       380\n",
      "    weighted avg       0.83      0.81      0.81       380\n",
      "\n"
     ]
    },
    {
     "name": "stderr",
     "output_type": "stream",
     "text": [
      "Training Epochs:  48%|████▊     | 959/2000 [02:50<01:36, 10.82it/s]"
     ]
    },
    {
     "name": "stdout",
     "output_type": "stream",
     "text": [
      "Epoch 960/2000, Loss: 0.0748\n",
      "Test Accuracy at Epoch 960: 80.53%\n",
      "Test F1-score at Epoch 960: 0.8230\n",
      "Classification Report at Epoch 960:\n",
      "                  precision    recall  f1-score   support\n",
      "\n",
      "    infringement       0.91      0.69      0.78       194\n",
      "non_infringement       0.74      0.92      0.82       186\n",
      "\n",
      "        accuracy                           0.81       380\n",
      "       macro avg       0.82      0.81      0.80       380\n",
      "    weighted avg       0.83      0.81      0.80       380\n",
      "\n"
     ]
    },
    {
     "name": "stderr",
     "output_type": "stream",
     "text": [
      "Training Epochs:  48%|████▊     | 970/2000 [02:51<01:13, 14.06it/s]"
     ]
    },
    {
     "name": "stdout",
     "output_type": "stream",
     "text": [
      "Epoch 970/2000, Loss: 0.0749\n",
      "Test Accuracy at Epoch 970: 78.95%\n",
      "Test F1-score at Epoch 970: 0.8113\n",
      "Classification Report at Epoch 970:\n",
      "                  precision    recall  f1-score   support\n",
      "\n",
      "    infringement       0.90      0.66      0.76       194\n",
      "non_infringement       0.72      0.92      0.81       186\n",
      "\n",
      "        accuracy                           0.79       380\n",
      "       macro avg       0.81      0.79      0.79       380\n",
      "    weighted avg       0.81      0.79      0.79       380\n",
      "\n"
     ]
    },
    {
     "name": "stderr",
     "output_type": "stream",
     "text": [
      "Training Epochs:  49%|████▉     | 980/2000 [02:55<04:41,  3.62it/s]"
     ]
    },
    {
     "name": "stdout",
     "output_type": "stream",
     "text": [
      "Epoch 980/2000, Loss: 0.0756\n",
      "Test Accuracy at Epoch 980: 81.05%\n",
      "Test F1-score at Epoch 980: 0.8252\n",
      "Classification Report at Epoch 980:\n",
      "                  precision    recall  f1-score   support\n",
      "\n",
      "    infringement       0.90      0.71      0.79       194\n",
      "non_infringement       0.75      0.91      0.83       186\n",
      "\n",
      "        accuracy                           0.81       380\n",
      "       macro avg       0.82      0.81      0.81       380\n",
      "    weighted avg       0.83      0.81      0.81       380\n",
      "\n"
     ]
    },
    {
     "name": "stderr",
     "output_type": "stream",
     "text": [
      "Training Epochs:  50%|████▉     | 990/2000 [02:58<04:30,  3.73it/s]"
     ]
    },
    {
     "name": "stdout",
     "output_type": "stream",
     "text": [
      "Epoch 990/2000, Loss: 0.0755\n",
      "Test Accuracy at Epoch 990: 80.79%\n",
      "Test F1-score at Epoch 990: 0.8249\n",
      "Classification Report at Epoch 990:\n",
      "                  precision    recall  f1-score   support\n",
      "\n",
      "    infringement       0.91      0.70      0.79       194\n",
      "non_infringement       0.74      0.92      0.82       186\n",
      "\n",
      "        accuracy                           0.81       380\n",
      "       macro avg       0.83      0.81      0.81       380\n",
      "    weighted avg       0.83      0.81      0.81       380\n",
      "\n"
     ]
    },
    {
     "name": "stderr",
     "output_type": "stream",
     "text": [
      "Training Epochs:  50%|█████     | 1000/2000 [03:01<04:59,  3.34it/s]"
     ]
    },
    {
     "name": "stdout",
     "output_type": "stream",
     "text": [
      "Epoch 1000/2000, Loss: 0.0748\n",
      "Test Accuracy at Epoch 1000: 80.79%\n",
      "Test F1-score at Epoch 1000: 0.8249\n",
      "Classification Report at Epoch 1000:\n",
      "                  precision    recall  f1-score   support\n",
      "\n",
      "    infringement       0.91      0.70      0.79       194\n",
      "non_infringement       0.74      0.92      0.82       186\n",
      "\n",
      "        accuracy                           0.81       380\n",
      "       macro avg       0.83      0.81      0.81       380\n",
      "    weighted avg       0.83      0.81      0.81       380\n",
      "\n"
     ]
    },
    {
     "name": "stderr",
     "output_type": "stream",
     "text": [
      "Training Epochs:  50%|█████     | 1010/2000 [03:06<07:20,  2.25it/s]"
     ]
    },
    {
     "name": "stdout",
     "output_type": "stream",
     "text": [
      "Epoch 1010/2000, Loss: 0.0749\n",
      "Test Accuracy at Epoch 1010: 80.79%\n",
      "Test F1-score at Epoch 1010: 0.8249\n",
      "Classification Report at Epoch 1010:\n",
      "                  precision    recall  f1-score   support\n",
      "\n",
      "    infringement       0.91      0.70      0.79       194\n",
      "non_infringement       0.74      0.92      0.82       186\n",
      "\n",
      "        accuracy                           0.81       380\n",
      "       macro avg       0.83      0.81      0.81       380\n",
      "    weighted avg       0.83      0.81      0.81       380\n",
      "\n"
     ]
    },
    {
     "name": "stderr",
     "output_type": "stream",
     "text": [
      "Training Epochs:  51%|█████     | 1020/2000 [03:10<07:29,  2.18it/s]"
     ]
    },
    {
     "name": "stdout",
     "output_type": "stream",
     "text": [
      "Epoch 1020/2000, Loss: 0.0748\n",
      "Test Accuracy at Epoch 1020: 80.79%\n",
      "Test F1-score at Epoch 1020: 0.8249\n",
      "Classification Report at Epoch 1020:\n",
      "                  precision    recall  f1-score   support\n",
      "\n",
      "    infringement       0.91      0.70      0.79       194\n",
      "non_infringement       0.74      0.92      0.82       186\n",
      "\n",
      "        accuracy                           0.81       380\n",
      "       macro avg       0.83      0.81      0.81       380\n",
      "    weighted avg       0.83      0.81      0.81       380\n",
      "\n"
     ]
    },
    {
     "name": "stderr",
     "output_type": "stream",
     "text": [
      "Training Epochs:  52%|█████▏    | 1031/2000 [03:11<01:56,  8.30it/s]"
     ]
    },
    {
     "name": "stdout",
     "output_type": "stream",
     "text": [
      "Epoch 1030/2000, Loss: 0.0746\n",
      "Test Accuracy at Epoch 1030: 80.79%\n",
      "Test F1-score at Epoch 1030: 0.8249\n",
      "Classification Report at Epoch 1030:\n",
      "                  precision    recall  f1-score   support\n",
      "\n",
      "    infringement       0.91      0.70      0.79       194\n",
      "non_infringement       0.74      0.92      0.82       186\n",
      "\n",
      "        accuracy                           0.81       380\n",
      "       macro avg       0.83      0.81      0.81       380\n",
      "    weighted avg       0.83      0.81      0.81       380\n",
      "\n"
     ]
    },
    {
     "name": "stderr",
     "output_type": "stream",
     "text": [
      "Training Epochs:  52%|█████▏    | 1040/2000 [03:13<03:03,  5.22it/s]"
     ]
    },
    {
     "name": "stdout",
     "output_type": "stream",
     "text": [
      "Epoch 1040/2000, Loss: 0.0746\n",
      "Test Accuracy at Epoch 1040: 80.53%\n",
      "Test F1-score at Epoch 1040: 0.8230\n",
      "Classification Report at Epoch 1040:\n",
      "                  precision    recall  f1-score   support\n",
      "\n",
      "    infringement       0.91      0.69      0.78       194\n",
      "non_infringement       0.74      0.92      0.82       186\n",
      "\n",
      "        accuracy                           0.81       380\n",
      "       macro avg       0.82      0.81      0.80       380\n",
      "    weighted avg       0.83      0.81      0.80       380\n",
      "\n"
     ]
    },
    {
     "name": "stderr",
     "output_type": "stream",
     "text": [
      "Training Epochs:  52%|█████▎    | 1050/2000 [03:16<05:03,  3.13it/s]"
     ]
    },
    {
     "name": "stdout",
     "output_type": "stream",
     "text": [
      "Epoch 1050/2000, Loss: 0.0745\n",
      "Test Accuracy at Epoch 1050: 80.79%\n",
      "Test F1-score at Epoch 1050: 0.8249\n",
      "Classification Report at Epoch 1050:\n",
      "                  precision    recall  f1-score   support\n",
      "\n",
      "    infringement       0.91      0.70      0.79       194\n",
      "non_infringement       0.74      0.92      0.82       186\n",
      "\n",
      "        accuracy                           0.81       380\n",
      "       macro avg       0.83      0.81      0.81       380\n",
      "    weighted avg       0.83      0.81      0.81       380\n",
      "\n"
     ]
    },
    {
     "name": "stderr",
     "output_type": "stream",
     "text": [
      "Training Epochs:  53%|█████▎    | 1060/2000 [03:20<08:09,  1.92it/s]"
     ]
    },
    {
     "name": "stdout",
     "output_type": "stream",
     "text": [
      "Epoch 1060/2000, Loss: 0.0745\n",
      "Test Accuracy at Epoch 1060: 80.53%\n",
      "Test F1-score at Epoch 1060: 0.8230\n",
      "Classification Report at Epoch 1060:\n",
      "                  precision    recall  f1-score   support\n",
      "\n",
      "    infringement       0.91      0.69      0.78       194\n",
      "non_infringement       0.74      0.92      0.82       186\n",
      "\n",
      "        accuracy                           0.81       380\n",
      "       macro avg       0.82      0.81      0.80       380\n",
      "    weighted avg       0.83      0.81      0.80       380\n",
      "\n"
     ]
    },
    {
     "name": "stderr",
     "output_type": "stream",
     "text": [
      "Training Epochs:  54%|█████▎    | 1070/2000 [03:23<03:11,  4.85it/s]"
     ]
    },
    {
     "name": "stdout",
     "output_type": "stream",
     "text": [
      "Epoch 1070/2000, Loss: 0.0780\n",
      "Test Accuracy at Epoch 1070: 78.95%\n",
      "Test F1-score at Epoch 1070: 0.8113\n",
      "Classification Report at Epoch 1070:\n",
      "                  precision    recall  f1-score   support\n",
      "\n",
      "    infringement       0.90      0.66      0.76       194\n",
      "non_infringement       0.72      0.92      0.81       186\n",
      "\n",
      "        accuracy                           0.79       380\n",
      "       macro avg       0.81      0.79      0.79       380\n",
      "    weighted avg       0.81      0.79      0.79       380\n",
      "\n"
     ]
    },
    {
     "name": "stderr",
     "output_type": "stream",
     "text": [
      "Training Epochs:  54%|█████▍    | 1080/2000 [03:26<05:28,  2.80it/s]"
     ]
    },
    {
     "name": "stdout",
     "output_type": "stream",
     "text": [
      "Epoch 1080/2000, Loss: 0.0803\n",
      "Test Accuracy at Epoch 1080: 81.05%\n",
      "Test F1-score at Epoch 1080: 0.8252\n",
      "Classification Report at Epoch 1080:\n",
      "                  precision    recall  f1-score   support\n",
      "\n",
      "    infringement       0.90      0.71      0.79       194\n",
      "non_infringement       0.75      0.91      0.83       186\n",
      "\n",
      "        accuracy                           0.81       380\n",
      "       macro avg       0.82      0.81      0.81       380\n",
      "    weighted avg       0.83      0.81      0.81       380\n",
      "\n"
     ]
    },
    {
     "name": "stderr",
     "output_type": "stream",
     "text": [
      "Training Epochs:  55%|█████▍    | 1090/2000 [03:31<07:38,  1.98it/s]"
     ]
    },
    {
     "name": "stdout",
     "output_type": "stream",
     "text": [
      "Epoch 1090/2000, Loss: 0.0746\n",
      "Test Accuracy at Epoch 1090: 81.05%\n",
      "Test F1-score at Epoch 1090: 0.8269\n",
      "Classification Report at Epoch 1090:\n",
      "                  precision    recall  f1-score   support\n",
      "\n",
      "    infringement       0.91      0.70      0.79       194\n",
      "non_infringement       0.75      0.92      0.83       186\n",
      "\n",
      "        accuracy                           0.81       380\n",
      "       macro avg       0.83      0.81      0.81       380\n",
      "    weighted avg       0.83      0.81      0.81       380\n",
      "\n"
     ]
    },
    {
     "name": "stderr",
     "output_type": "stream",
     "text": [
      "Training Epochs:  55%|█████▌    | 1101/2000 [03:34<02:34,  5.80it/s]"
     ]
    },
    {
     "name": "stdout",
     "output_type": "stream",
     "text": [
      "Epoch 1100/2000, Loss: 0.0745\n",
      "Test Accuracy at Epoch 1100: 80.79%\n",
      "Test F1-score at Epoch 1100: 0.8249\n",
      "Classification Report at Epoch 1100:\n",
      "                  precision    recall  f1-score   support\n",
      "\n",
      "    infringement       0.91      0.70      0.79       194\n",
      "non_infringement       0.74      0.92      0.82       186\n",
      "\n",
      "        accuracy                           0.81       380\n",
      "       macro avg       0.83      0.81      0.81       380\n",
      "    weighted avg       0.83      0.81      0.81       380\n",
      "\n"
     ]
    },
    {
     "name": "stderr",
     "output_type": "stream",
     "text": [
      "Training Epochs:  56%|█████▌    | 1112/2000 [03:35<01:20, 11.01it/s]"
     ]
    },
    {
     "name": "stdout",
     "output_type": "stream",
     "text": [
      "Epoch 1110/2000, Loss: 0.0745\n",
      "Test Accuracy at Epoch 1110: 80.53%\n",
      "Test F1-score at Epoch 1110: 0.8230\n",
      "Classification Report at Epoch 1110:\n",
      "                  precision    recall  f1-score   support\n",
      "\n",
      "    infringement       0.91      0.69      0.78       194\n",
      "non_infringement       0.74      0.92      0.82       186\n",
      "\n",
      "        accuracy                           0.81       380\n",
      "       macro avg       0.82      0.81      0.80       380\n",
      "    weighted avg       0.83      0.81      0.80       380\n",
      "\n"
     ]
    },
    {
     "name": "stderr",
     "output_type": "stream",
     "text": [
      "Training Epochs:  56%|█████▌    | 1120/2000 [03:38<04:02,  3.63it/s]"
     ]
    },
    {
     "name": "stdout",
     "output_type": "stream",
     "text": [
      "Epoch 1120/2000, Loss: 0.0745\n",
      "Test Accuracy at Epoch 1120: 80.53%\n",
      "Test F1-score at Epoch 1120: 0.8230\n",
      "Classification Report at Epoch 1120:\n",
      "                  precision    recall  f1-score   support\n",
      "\n",
      "    infringement       0.91      0.69      0.78       194\n",
      "non_infringement       0.74      0.92      0.82       186\n",
      "\n",
      "        accuracy                           0.81       380\n",
      "       macro avg       0.82      0.81      0.80       380\n",
      "    weighted avg       0.83      0.81      0.80       380\n",
      "\n"
     ]
    },
    {
     "name": "stderr",
     "output_type": "stream",
     "text": [
      "Training Epochs:  56%|█████▋    | 1130/2000 [03:42<05:55,  2.44it/s]"
     ]
    },
    {
     "name": "stdout",
     "output_type": "stream",
     "text": [
      "Epoch 1130/2000, Loss: 0.0744\n",
      "Test Accuracy at Epoch 1130: 80.79%\n",
      "Test F1-score at Epoch 1130: 0.8249\n",
      "Classification Report at Epoch 1130:\n",
      "                  precision    recall  f1-score   support\n",
      "\n",
      "    infringement       0.91      0.70      0.79       194\n",
      "non_infringement       0.74      0.92      0.82       186\n",
      "\n",
      "        accuracy                           0.81       380\n",
      "       macro avg       0.83      0.81      0.81       380\n",
      "    weighted avg       0.83      0.81      0.81       380\n",
      "\n"
     ]
    },
    {
     "name": "stderr",
     "output_type": "stream",
     "text": [
      "Training Epochs:  57%|█████▋    | 1142/2000 [03:45<03:05,  4.63it/s]"
     ]
    },
    {
     "name": "stdout",
     "output_type": "stream",
     "text": [
      "Epoch 1140/2000, Loss: 0.0744\n",
      "Test Accuracy at Epoch 1140: 80.53%\n",
      "Test F1-score at Epoch 1140: 0.8230\n",
      "Classification Report at Epoch 1140:\n",
      "                  precision    recall  f1-score   support\n",
      "\n",
      "    infringement       0.91      0.69      0.78       194\n",
      "non_infringement       0.74      0.92      0.82       186\n",
      "\n",
      "        accuracy                           0.81       380\n",
      "       macro avg       0.82      0.81      0.80       380\n",
      "    weighted avg       0.83      0.81      0.80       380\n",
      "\n"
     ]
    },
    {
     "name": "stderr",
     "output_type": "stream",
     "text": [
      "Training Epochs:  57%|█████▊    | 1150/2000 [03:46<04:17,  3.30it/s]"
     ]
    },
    {
     "name": "stdout",
     "output_type": "stream",
     "text": [
      "Epoch 1150/2000, Loss: 0.0745\n",
      "Test Accuracy at Epoch 1150: 80.53%\n",
      "Test F1-score at Epoch 1150: 0.8230\n",
      "Classification Report at Epoch 1150:\n",
      "                  precision    recall  f1-score   support\n",
      "\n",
      "    infringement       0.91      0.69      0.78       194\n",
      "non_infringement       0.74      0.92      0.82       186\n",
      "\n",
      "        accuracy                           0.81       380\n",
      "       macro avg       0.82      0.81      0.80       380\n",
      "    weighted avg       0.83      0.81      0.80       380\n",
      "\n"
     ]
    },
    {
     "name": "stderr",
     "output_type": "stream",
     "text": [
      "Training Epochs:  58%|█████▊    | 1162/2000 [03:48<01:24,  9.97it/s]"
     ]
    },
    {
     "name": "stdout",
     "output_type": "stream",
     "text": [
      "Epoch 1160/2000, Loss: 0.0793\n",
      "Test Accuracy at Epoch 1160: 80.53%\n",
      "Test F1-score at Epoch 1160: 0.8230\n",
      "Classification Report at Epoch 1160:\n",
      "                  precision    recall  f1-score   support\n",
      "\n",
      "    infringement       0.91      0.69      0.78       194\n",
      "non_infringement       0.74      0.92      0.82       186\n",
      "\n",
      "        accuracy                           0.81       380\n",
      "       macro avg       0.82      0.81      0.80       380\n",
      "    weighted avg       0.83      0.81      0.80       380\n",
      "\n"
     ]
    },
    {
     "name": "stderr",
     "output_type": "stream",
     "text": [
      "Training Epochs:  59%|█████▊    | 1171/2000 [03:48<01:01, 13.49it/s]"
     ]
    },
    {
     "name": "stdout",
     "output_type": "stream",
     "text": [
      "Epoch 1170/2000, Loss: 0.0745\n",
      "Test Accuracy at Epoch 1170: 80.53%\n",
      "Test F1-score at Epoch 1170: 0.8230\n",
      "Classification Report at Epoch 1170:\n",
      "                  precision    recall  f1-score   support\n",
      "\n",
      "    infringement       0.91      0.69      0.78       194\n",
      "non_infringement       0.74      0.92      0.82       186\n",
      "\n",
      "        accuracy                           0.81       380\n",
      "       macro avg       0.82      0.81      0.80       380\n",
      "    weighted avg       0.83      0.81      0.80       380\n",
      "\n"
     ]
    },
    {
     "name": "stderr",
     "output_type": "stream",
     "text": [
      "Training Epochs:  59%|█████▉    | 1180/2000 [03:49<00:48, 16.84it/s]"
     ]
    },
    {
     "name": "stdout",
     "output_type": "stream",
     "text": [
      "Epoch 1180/2000, Loss: 0.0750\n",
      "Test Accuracy at Epoch 1180: 80.79%\n",
      "Test F1-score at Epoch 1180: 0.8249\n",
      "Classification Report at Epoch 1180:\n",
      "                  precision    recall  f1-score   support\n",
      "\n",
      "    infringement       0.91      0.70      0.79       194\n",
      "non_infringement       0.74      0.92      0.82       186\n",
      "\n",
      "        accuracy                           0.81       380\n",
      "       macro avg       0.83      0.81      0.81       380\n",
      "    weighted avg       0.83      0.81      0.81       380\n",
      "\n"
     ]
    },
    {
     "name": "stderr",
     "output_type": "stream",
     "text": [
      "Training Epochs:  60%|█████▉    | 1191/2000 [03:49<00:51, 15.82it/s]"
     ]
    },
    {
     "name": "stdout",
     "output_type": "stream",
     "text": [
      "Epoch 1190/2000, Loss: 0.0747\n",
      "Test Accuracy at Epoch 1190: 80.79%\n",
      "Test F1-score at Epoch 1190: 0.8249\n",
      "Classification Report at Epoch 1190:\n",
      "                  precision    recall  f1-score   support\n",
      "\n",
      "    infringement       0.91      0.70      0.79       194\n",
      "non_infringement       0.74      0.92      0.82       186\n",
      "\n",
      "        accuracy                           0.81       380\n",
      "       macro avg       0.83      0.81      0.81       380\n",
      "    weighted avg       0.83      0.81      0.81       380\n",
      "\n"
     ]
    },
    {
     "name": "stderr",
     "output_type": "stream",
     "text": [
      "Training Epochs:  60%|██████    | 1202/2000 [03:50<00:51, 15.49it/s]"
     ]
    },
    {
     "name": "stdout",
     "output_type": "stream",
     "text": [
      "Epoch 1200/2000, Loss: 0.0743\n",
      "Test Accuracy at Epoch 1200: 80.79%\n",
      "Test F1-score at Epoch 1200: 0.8249\n",
      "Classification Report at Epoch 1200:\n",
      "                  precision    recall  f1-score   support\n",
      "\n",
      "    infringement       0.91      0.70      0.79       194\n",
      "non_infringement       0.74      0.92      0.82       186\n",
      "\n",
      "        accuracy                           0.81       380\n",
      "       macro avg       0.83      0.81      0.81       380\n",
      "    weighted avg       0.83      0.81      0.81       380\n",
      "\n"
     ]
    },
    {
     "name": "stderr",
     "output_type": "stream",
     "text": [
      "Training Epochs:  60%|██████    | 1210/2000 [03:51<00:50, 15.57it/s]"
     ]
    },
    {
     "name": "stdout",
     "output_type": "stream",
     "text": [
      "Epoch 1210/2000, Loss: 0.0743\n",
      "Test Accuracy at Epoch 1210: 80.53%\n",
      "Test F1-score at Epoch 1210: 0.8230\n",
      "Classification Report at Epoch 1210:\n",
      "                  precision    recall  f1-score   support\n",
      "\n",
      "    infringement       0.91      0.69      0.78       194\n",
      "non_infringement       0.74      0.92      0.82       186\n",
      "\n",
      "        accuracy                           0.81       380\n",
      "       macro avg       0.82      0.81      0.80       380\n",
      "    weighted avg       0.83      0.81      0.80       380\n",
      "\n"
     ]
    },
    {
     "name": "stderr",
     "output_type": "stream",
     "text": [
      "Training Epochs:  61%|██████    | 1222/2000 [03:52<00:51, 15.13it/s]"
     ]
    },
    {
     "name": "stdout",
     "output_type": "stream",
     "text": [
      "Epoch 1220/2000, Loss: 0.0743\n",
      "Test Accuracy at Epoch 1220: 80.79%\n",
      "Test F1-score at Epoch 1220: 0.8249\n",
      "Classification Report at Epoch 1220:\n",
      "                  precision    recall  f1-score   support\n",
      "\n",
      "    infringement       0.91      0.70      0.79       194\n",
      "non_infringement       0.74      0.92      0.82       186\n",
      "\n",
      "        accuracy                           0.81       380\n",
      "       macro avg       0.83      0.81      0.81       380\n",
      "    weighted avg       0.83      0.81      0.81       380\n",
      "\n"
     ]
    },
    {
     "name": "stderr",
     "output_type": "stream",
     "text": [
      "Training Epochs:  62%|██████▏   | 1231/2000 [03:52<00:48, 15.77it/s]"
     ]
    },
    {
     "name": "stdout",
     "output_type": "stream",
     "text": [
      "Epoch 1230/2000, Loss: 0.0743\n",
      "Test Accuracy at Epoch 1230: 80.79%\n",
      "Test F1-score at Epoch 1230: 0.8249\n",
      "Classification Report at Epoch 1230:\n",
      "                  precision    recall  f1-score   support\n",
      "\n",
      "    infringement       0.91      0.70      0.79       194\n",
      "non_infringement       0.74      0.92      0.82       186\n",
      "\n",
      "        accuracy                           0.81       380\n",
      "       macro avg       0.83      0.81      0.81       380\n",
      "    weighted avg       0.83      0.81      0.81       380\n",
      "\n"
     ]
    },
    {
     "name": "stderr",
     "output_type": "stream",
     "text": [
      "Training Epochs:  62%|██████▏   | 1240/2000 [03:53<01:23,  9.06it/s]"
     ]
    },
    {
     "name": "stdout",
     "output_type": "stream",
     "text": [
      "Epoch 1240/2000, Loss: 0.0794\n",
      "Test Accuracy at Epoch 1240: 82.11%\n",
      "Test F1-score at Epoch 1240: 0.8333\n",
      "Classification Report at Epoch 1240:\n",
      "                  precision    recall  f1-score   support\n",
      "\n",
      "    infringement       0.90      0.73      0.81       194\n",
      "non_infringement       0.77      0.91      0.83       186\n",
      "\n",
      "        accuracy                           0.82       380\n",
      "       macro avg       0.83      0.82      0.82       380\n",
      "    weighted avg       0.83      0.82      0.82       380\n",
      "\n"
     ]
    },
    {
     "name": "stderr",
     "output_type": "stream",
     "text": [
      "Training Epochs:  62%|██████▎   | 1250/2000 [03:55<02:11,  5.72it/s]"
     ]
    },
    {
     "name": "stdout",
     "output_type": "stream",
     "text": [
      "Epoch 1250/2000, Loss: 0.0788\n",
      "Test Accuracy at Epoch 1250: 80.53%\n",
      "Test F1-score at Epoch 1250: 0.8230\n",
      "Classification Report at Epoch 1250:\n",
      "                  precision    recall  f1-score   support\n",
      "\n",
      "    infringement       0.91      0.69      0.78       194\n",
      "non_infringement       0.74      0.92      0.82       186\n",
      "\n",
      "        accuracy                           0.81       380\n",
      "       macro avg       0.82      0.81      0.80       380\n",
      "    weighted avg       0.83      0.81      0.80       380\n",
      "\n"
     ]
    },
    {
     "name": "stderr",
     "output_type": "stream",
     "text": [
      "Training Epochs:  63%|██████▎   | 1260/2000 [03:57<01:32,  8.03it/s]"
     ]
    },
    {
     "name": "stdout",
     "output_type": "stream",
     "text": [
      "Epoch 1260/2000, Loss: 0.0743\n",
      "Test Accuracy at Epoch 1260: 80.53%\n",
      "Test F1-score at Epoch 1260: 0.8230\n",
      "Classification Report at Epoch 1260:\n",
      "                  precision    recall  f1-score   support\n",
      "\n",
      "    infringement       0.91      0.69      0.78       194\n",
      "non_infringement       0.74      0.92      0.82       186\n",
      "\n",
      "        accuracy                           0.81       380\n",
      "       macro avg       0.82      0.81      0.80       380\n",
      "    weighted avg       0.83      0.81      0.80       380\n",
      "\n"
     ]
    },
    {
     "name": "stderr",
     "output_type": "stream",
     "text": [
      "Training Epochs:  64%|██████▎   | 1270/2000 [03:57<00:58, 12.48it/s]"
     ]
    },
    {
     "name": "stdout",
     "output_type": "stream",
     "text": [
      "Epoch 1270/2000, Loss: 0.0745\n",
      "Test Accuracy at Epoch 1270: 80.79%\n",
      "Test F1-score at Epoch 1270: 0.8249\n",
      "Classification Report at Epoch 1270:\n",
      "                  precision    recall  f1-score   support\n",
      "\n",
      "    infringement       0.91      0.70      0.79       194\n",
      "non_infringement       0.74      0.92      0.82       186\n",
      "\n",
      "        accuracy                           0.81       380\n",
      "       macro avg       0.83      0.81      0.81       380\n",
      "    weighted avg       0.83      0.81      0.81       380\n",
      "\n"
     ]
    },
    {
     "name": "stderr",
     "output_type": "stream",
     "text": [
      "Training Epochs:  64%|██████▍   | 1280/2000 [03:59<01:25,  8.45it/s]"
     ]
    },
    {
     "name": "stdout",
     "output_type": "stream",
     "text": [
      "Epoch 1280/2000, Loss: 0.0743\n",
      "Test Accuracy at Epoch 1280: 80.79%\n",
      "Test F1-score at Epoch 1280: 0.8249\n",
      "Classification Report at Epoch 1280:\n",
      "                  precision    recall  f1-score   support\n",
      "\n",
      "    infringement       0.91      0.70      0.79       194\n",
      "non_infringement       0.74      0.92      0.82       186\n",
      "\n",
      "        accuracy                           0.81       380\n",
      "       macro avg       0.83      0.81      0.81       380\n",
      "    weighted avg       0.83      0.81      0.81       380\n",
      "\n"
     ]
    },
    {
     "name": "stderr",
     "output_type": "stream",
     "text": [
      "Training Epochs:  65%|██████▍   | 1292/2000 [04:00<01:06, 10.73it/s]"
     ]
    },
    {
     "name": "stdout",
     "output_type": "stream",
     "text": [
      "Epoch 1290/2000, Loss: 0.0742\n",
      "Test Accuracy at Epoch 1290: 80.53%\n",
      "Test F1-score at Epoch 1290: 0.8230\n",
      "Classification Report at Epoch 1290:\n",
      "                  precision    recall  f1-score   support\n",
      "\n",
      "    infringement       0.91      0.69      0.78       194\n",
      "non_infringement       0.74      0.92      0.82       186\n",
      "\n",
      "        accuracy                           0.81       380\n",
      "       macro avg       0.82      0.81      0.80       380\n",
      "    weighted avg       0.83      0.81      0.80       380\n",
      "\n"
     ]
    },
    {
     "name": "stderr",
     "output_type": "stream",
     "text": [
      "Training Epochs:  65%|██████▌   | 1300/2000 [04:01<01:22,  8.50it/s]"
     ]
    },
    {
     "name": "stdout",
     "output_type": "stream",
     "text": [
      "Epoch 1300/2000, Loss: 0.0742\n",
      "Test Accuracy at Epoch 1300: 80.79%\n",
      "Test F1-score at Epoch 1300: 0.8249\n",
      "Classification Report at Epoch 1300:\n",
      "                  precision    recall  f1-score   support\n",
      "\n",
      "    infringement       0.91      0.70      0.79       194\n",
      "non_infringement       0.74      0.92      0.82       186\n",
      "\n",
      "        accuracy                           0.81       380\n",
      "       macro avg       0.83      0.81      0.81       380\n",
      "    weighted avg       0.83      0.81      0.81       380\n",
      "\n"
     ]
    },
    {
     "name": "stderr",
     "output_type": "stream",
     "text": [
      "Training Epochs:  66%|██████▌   | 1311/2000 [04:02<01:03, 10.92it/s]"
     ]
    },
    {
     "name": "stdout",
     "output_type": "stream",
     "text": [
      "Epoch 1310/2000, Loss: 0.0741\n",
      "Test Accuracy at Epoch 1310: 80.79%\n",
      "Test F1-score at Epoch 1310: 0.8249\n",
      "Classification Report at Epoch 1310:\n",
      "                  precision    recall  f1-score   support\n",
      "\n",
      "    infringement       0.91      0.70      0.79       194\n",
      "non_infringement       0.74      0.92      0.82       186\n",
      "\n",
      "        accuracy                           0.81       380\n",
      "       macro avg       0.83      0.81      0.81       380\n",
      "    weighted avg       0.83      0.81      0.81       380\n",
      "\n"
     ]
    },
    {
     "name": "stderr",
     "output_type": "stream",
     "text": [
      "Training Epochs:  66%|██████▌   | 1321/2000 [04:03<00:59, 11.39it/s]"
     ]
    },
    {
     "name": "stdout",
     "output_type": "stream",
     "text": [
      "Epoch 1320/2000, Loss: 0.0753\n",
      "Test Accuracy at Epoch 1320: 81.32%\n",
      "Test F1-score at Epoch 1320: 0.8289\n",
      "Classification Report at Epoch 1320:\n",
      "                  precision    recall  f1-score   support\n",
      "\n",
      "    infringement       0.91      0.71      0.79       194\n",
      "non_infringement       0.75      0.92      0.83       186\n",
      "\n",
      "        accuracy                           0.81       380\n",
      "       macro avg       0.83      0.82      0.81       380\n",
      "    weighted avg       0.83      0.81      0.81       380\n",
      "\n"
     ]
    },
    {
     "name": "stderr",
     "output_type": "stream",
     "text": [
      "Training Epochs:  67%|██████▋   | 1333/2000 [04:04<00:41, 16.13it/s]"
     ]
    },
    {
     "name": "stdout",
     "output_type": "stream",
     "text": [
      "Epoch 1330/2000, Loss: 0.0771\n",
      "Test Accuracy at Epoch 1330: 79.74%\n",
      "Test F1-score at Epoch 1330: 0.8171\n",
      "Classification Report at Epoch 1330:\n",
      "                  precision    recall  f1-score   support\n",
      "\n",
      "    infringement       0.90      0.68      0.77       194\n",
      "non_infringement       0.73      0.92      0.82       186\n",
      "\n",
      "        accuracy                           0.80       380\n",
      "       macro avg       0.82      0.80      0.79       380\n",
      "    weighted avg       0.82      0.80      0.79       380\n",
      "\n"
     ]
    },
    {
     "name": "stderr",
     "output_type": "stream",
     "text": [
      "Training Epochs:  67%|██████▋   | 1341/2000 [04:04<00:49, 13.39it/s]"
     ]
    },
    {
     "name": "stdout",
     "output_type": "stream",
     "text": [
      "Epoch 1340/2000, Loss: 0.0743\n",
      "Test Accuracy at Epoch 1340: 80.53%\n",
      "Test F1-score at Epoch 1340: 0.8230\n",
      "Classification Report at Epoch 1340:\n",
      "                  precision    recall  f1-score   support\n",
      "\n",
      "    infringement       0.91      0.69      0.78       194\n",
      "non_infringement       0.74      0.92      0.82       186\n",
      "\n",
      "        accuracy                           0.81       380\n",
      "       macro avg       0.82      0.81      0.80       380\n",
      "    weighted avg       0.83      0.81      0.80       380\n",
      "\n"
     ]
    },
    {
     "name": "stderr",
     "output_type": "stream",
     "text": [
      "Training Epochs:  68%|██████▊   | 1351/2000 [04:05<00:52, 12.46it/s]"
     ]
    },
    {
     "name": "stdout",
     "output_type": "stream",
     "text": [
      "Epoch 1350/2000, Loss: 0.0743\n",
      "Test Accuracy at Epoch 1350: 80.53%\n",
      "Test F1-score at Epoch 1350: 0.8230\n",
      "Classification Report at Epoch 1350:\n",
      "                  precision    recall  f1-score   support\n",
      "\n",
      "    infringement       0.91      0.69      0.78       194\n",
      "non_infringement       0.74      0.92      0.82       186\n",
      "\n",
      "        accuracy                           0.81       380\n",
      "       macro avg       0.82      0.81      0.80       380\n",
      "    weighted avg       0.83      0.81      0.80       380\n",
      "\n"
     ]
    },
    {
     "name": "stderr",
     "output_type": "stream",
     "text": [
      "Training Epochs:  68%|██████▊   | 1361/2000 [04:06<00:56, 11.38it/s]"
     ]
    },
    {
     "name": "stdout",
     "output_type": "stream",
     "text": [
      "Epoch 1360/2000, Loss: 0.0742\n",
      "Test Accuracy at Epoch 1360: 80.53%\n",
      "Test F1-score at Epoch 1360: 0.8230\n",
      "Classification Report at Epoch 1360:\n",
      "                  precision    recall  f1-score   support\n",
      "\n",
      "    infringement       0.91      0.69      0.78       194\n",
      "non_infringement       0.74      0.92      0.82       186\n",
      "\n",
      "        accuracy                           0.81       380\n",
      "       macro avg       0.82      0.81      0.80       380\n",
      "    weighted avg       0.83      0.81      0.80       380\n",
      "\n"
     ]
    },
    {
     "name": "stderr",
     "output_type": "stream",
     "text": [
      "Training Epochs:  68%|██████▊   | 1369/2000 [04:07<00:52, 12.12it/s]"
     ]
    },
    {
     "name": "stdout",
     "output_type": "stream",
     "text": [
      "Epoch 1370/2000, Loss: 0.0742\n",
      "Test Accuracy at Epoch 1370: 80.79%\n",
      "Test F1-score at Epoch 1370: 0.8249\n",
      "Classification Report at Epoch 1370:\n",
      "                  precision    recall  f1-score   support\n",
      "\n",
      "    infringement       0.91      0.70      0.79       194\n",
      "non_infringement       0.74      0.92      0.82       186\n",
      "\n",
      "        accuracy                           0.81       380\n",
      "       macro avg       0.83      0.81      0.81       380\n",
      "    weighted avg       0.83      0.81      0.81       380\n",
      "\n"
     ]
    },
    {
     "name": "stderr",
     "output_type": "stream",
     "text": [
      "Training Epochs:  69%|██████▉   | 1381/2000 [04:08<01:06,  9.27it/s]"
     ]
    },
    {
     "name": "stdout",
     "output_type": "stream",
     "text": [
      "Epoch 1380/2000, Loss: 0.0741\n",
      "Test Accuracy at Epoch 1380: 80.79%\n",
      "Test F1-score at Epoch 1380: 0.8249\n",
      "Classification Report at Epoch 1380:\n",
      "                  precision    recall  f1-score   support\n",
      "\n",
      "    infringement       0.91      0.70      0.79       194\n",
      "non_infringement       0.74      0.92      0.82       186\n",
      "\n",
      "        accuracy                           0.81       380\n",
      "       macro avg       0.83      0.81      0.81       380\n",
      "    weighted avg       0.83      0.81      0.81       380\n",
      "\n"
     ]
    },
    {
     "name": "stderr",
     "output_type": "stream",
     "text": [
      "Training Epochs:  70%|██████▉   | 1392/2000 [04:10<01:17,  7.83it/s]"
     ]
    },
    {
     "name": "stdout",
     "output_type": "stream",
     "text": [
      "Epoch 1390/2000, Loss: 0.0741\n",
      "Test Accuracy at Epoch 1390: 80.53%\n",
      "Test F1-score at Epoch 1390: 0.8230\n",
      "Classification Report at Epoch 1390:\n",
      "                  precision    recall  f1-score   support\n",
      "\n",
      "    infringement       0.91      0.69      0.78       194\n",
      "non_infringement       0.74      0.92      0.82       186\n",
      "\n",
      "        accuracy                           0.81       380\n",
      "       macro avg       0.82      0.81      0.80       380\n",
      "    weighted avg       0.83      0.81      0.80       380\n",
      "\n"
     ]
    },
    {
     "name": "stderr",
     "output_type": "stream",
     "text": [
      "Training Epochs:  70%|███████   | 1400/2000 [04:12<02:41,  3.71it/s]"
     ]
    },
    {
     "name": "stdout",
     "output_type": "stream",
     "text": [
      "Epoch 1400/2000, Loss: 0.0741\n",
      "Test Accuracy at Epoch 1400: 80.79%\n",
      "Test F1-score at Epoch 1400: 0.8249\n",
      "Classification Report at Epoch 1400:\n",
      "                  precision    recall  f1-score   support\n",
      "\n",
      "    infringement       0.91      0.70      0.79       194\n",
      "non_infringement       0.74      0.92      0.82       186\n",
      "\n",
      "        accuracy                           0.81       380\n",
      "       macro avg       0.83      0.81      0.81       380\n",
      "    weighted avg       0.83      0.81      0.81       380\n",
      "\n"
     ]
    },
    {
     "name": "stderr",
     "output_type": "stream",
     "text": [
      "Training Epochs:  70%|███████   | 1410/2000 [04:17<04:49,  2.04it/s]"
     ]
    },
    {
     "name": "stdout",
     "output_type": "stream",
     "text": [
      "Epoch 1410/2000, Loss: 0.0741\n",
      "Test Accuracy at Epoch 1410: 80.79%\n",
      "Test F1-score at Epoch 1410: 0.8249\n",
      "Classification Report at Epoch 1410:\n",
      "                  precision    recall  f1-score   support\n",
      "\n",
      "    infringement       0.91      0.70      0.79       194\n",
      "non_infringement       0.74      0.92      0.82       186\n",
      "\n",
      "        accuracy                           0.81       380\n",
      "       macro avg       0.83      0.81      0.81       380\n",
      "    weighted avg       0.83      0.81      0.81       380\n",
      "\n"
     ]
    },
    {
     "name": "stderr",
     "output_type": "stream",
     "text": [
      "Training Epochs:  71%|███████   | 1421/2000 [04:20<01:55,  5.01it/s]"
     ]
    },
    {
     "name": "stdout",
     "output_type": "stream",
     "text": [
      "Epoch 1420/2000, Loss: 0.0802\n",
      "Test Accuracy at Epoch 1420: 81.84%\n",
      "Test F1-score at Epoch 1420: 0.8321\n",
      "Classification Report at Epoch 1420:\n",
      "                  precision    recall  f1-score   support\n",
      "\n",
      "    infringement       0.90      0.72      0.80       194\n",
      "non_infringement       0.76      0.92      0.83       186\n",
      "\n",
      "        accuracy                           0.82       380\n",
      "       macro avg       0.83      0.82      0.82       380\n",
      "    weighted avg       0.83      0.82      0.82       380\n",
      "\n"
     ]
    },
    {
     "name": "stderr",
     "output_type": "stream",
     "text": [
      "Training Epochs:  72%|███████▏  | 1431/2000 [04:23<01:30,  6.28it/s]"
     ]
    },
    {
     "name": "stdout",
     "output_type": "stream",
     "text": [
      "Epoch 1430/2000, Loss: 0.0748\n",
      "Test Accuracy at Epoch 1430: 80.53%\n",
      "Test F1-score at Epoch 1430: 0.8230\n",
      "Classification Report at Epoch 1430:\n",
      "                  precision    recall  f1-score   support\n",
      "\n",
      "    infringement       0.91      0.69      0.78       194\n",
      "non_infringement       0.74      0.92      0.82       186\n",
      "\n",
      "        accuracy                           0.81       380\n",
      "       macro avg       0.82      0.81      0.80       380\n",
      "    weighted avg       0.83      0.81      0.80       380\n",
      "\n"
     ]
    },
    {
     "name": "stderr",
     "output_type": "stream",
     "text": [
      "Training Epochs:  72%|███████▏  | 1441/2000 [04:25<01:36,  5.77it/s]"
     ]
    },
    {
     "name": "stdout",
     "output_type": "stream",
     "text": [
      "Epoch 1440/2000, Loss: 0.0750\n",
      "Test Accuracy at Epoch 1440: 80.53%\n",
      "Test F1-score at Epoch 1440: 0.8230\n",
      "Classification Report at Epoch 1440:\n",
      "                  precision    recall  f1-score   support\n",
      "\n",
      "    infringement       0.91      0.69      0.78       194\n",
      "non_infringement       0.74      0.92      0.82       186\n",
      "\n",
      "        accuracy                           0.81       380\n",
      "       macro avg       0.82      0.81      0.80       380\n",
      "    weighted avg       0.83      0.81      0.80       380\n",
      "\n"
     ]
    },
    {
     "name": "stderr",
     "output_type": "stream",
     "text": [
      "Training Epochs:  73%|███████▎  | 1452/2000 [04:26<00:47, 11.54it/s]"
     ]
    },
    {
     "name": "stdout",
     "output_type": "stream",
     "text": [
      "Epoch 1450/2000, Loss: 0.0743\n",
      "Test Accuracy at Epoch 1450: 80.53%\n",
      "Test F1-score at Epoch 1450: 0.8230\n",
      "Classification Report at Epoch 1450:\n",
      "                  precision    recall  f1-score   support\n",
      "\n",
      "    infringement       0.91      0.69      0.78       194\n",
      "non_infringement       0.74      0.92      0.82       186\n",
      "\n",
      "        accuracy                           0.81       380\n",
      "       macro avg       0.82      0.81      0.80       380\n",
      "    weighted avg       0.83      0.81      0.80       380\n",
      "\n"
     ]
    },
    {
     "name": "stderr",
     "output_type": "stream",
     "text": [
      "Training Epochs:  73%|███████▎  | 1460/2000 [04:29<03:24,  2.64it/s]"
     ]
    },
    {
     "name": "stdout",
     "output_type": "stream",
     "text": [
      "Epoch 1460/2000, Loss: 0.0741\n",
      "Test Accuracy at Epoch 1460: 80.53%\n",
      "Test F1-score at Epoch 1460: 0.8230\n",
      "Classification Report at Epoch 1460:\n",
      "                  precision    recall  f1-score   support\n",
      "\n",
      "    infringement       0.91      0.69      0.78       194\n",
      "non_infringement       0.74      0.92      0.82       186\n",
      "\n",
      "        accuracy                           0.81       380\n",
      "       macro avg       0.82      0.81      0.80       380\n",
      "    weighted avg       0.83      0.81      0.80       380\n",
      "\n"
     ]
    },
    {
     "name": "stderr",
     "output_type": "stream",
     "text": [
      "Training Epochs:  74%|███████▎  | 1470/2000 [04:33<03:36,  2.45it/s]"
     ]
    },
    {
     "name": "stdout",
     "output_type": "stream",
     "text": [
      "Epoch 1470/2000, Loss: 0.0741\n",
      "Test Accuracy at Epoch 1470: 81.05%\n",
      "Test F1-score at Epoch 1470: 0.8269\n",
      "Classification Report at Epoch 1470:\n",
      "                  precision    recall  f1-score   support\n",
      "\n",
      "    infringement       0.91      0.70      0.79       194\n",
      "non_infringement       0.75      0.92      0.83       186\n",
      "\n",
      "        accuracy                           0.81       380\n",
      "       macro avg       0.83      0.81      0.81       380\n",
      "    weighted avg       0.83      0.81      0.81       380\n",
      "\n"
     ]
    },
    {
     "name": "stderr",
     "output_type": "stream",
     "text": [
      "Training Epochs:  74%|███████▍  | 1481/2000 [04:37<01:31,  5.67it/s]"
     ]
    },
    {
     "name": "stdout",
     "output_type": "stream",
     "text": [
      "Epoch 1480/2000, Loss: 0.0740\n",
      "Test Accuracy at Epoch 1480: 80.53%\n",
      "Test F1-score at Epoch 1480: 0.8230\n",
      "Classification Report at Epoch 1480:\n",
      "                  precision    recall  f1-score   support\n",
      "\n",
      "    infringement       0.91      0.69      0.78       194\n",
      "non_infringement       0.74      0.92      0.82       186\n",
      "\n",
      "        accuracy                           0.81       380\n",
      "       macro avg       0.82      0.81      0.80       380\n",
      "    weighted avg       0.83      0.81      0.80       380\n",
      "\n"
     ]
    },
    {
     "name": "stderr",
     "output_type": "stream",
     "text": [
      "Training Epochs:  75%|███████▍  | 1492/2000 [04:37<00:37, 13.61it/s]"
     ]
    },
    {
     "name": "stdout",
     "output_type": "stream",
     "text": [
      "Epoch 1490/2000, Loss: 0.0740\n",
      "Test Accuracy at Epoch 1490: 80.53%\n",
      "Test F1-score at Epoch 1490: 0.8230\n",
      "Classification Report at Epoch 1490:\n",
      "                  precision    recall  f1-score   support\n",
      "\n",
      "    infringement       0.91      0.69      0.78       194\n",
      "non_infringement       0.74      0.92      0.82       186\n",
      "\n",
      "        accuracy                           0.81       380\n",
      "       macro avg       0.82      0.81      0.80       380\n",
      "    weighted avg       0.83      0.81      0.80       380\n",
      "\n"
     ]
    },
    {
     "name": "stderr",
     "output_type": "stream",
     "text": [
      "Training Epochs:  75%|███████▍  | 1499/2000 [04:38<00:56,  8.82it/s]"
     ]
    },
    {
     "name": "stdout",
     "output_type": "stream",
     "text": [
      "Epoch 1500/2000, Loss: 0.0740\n",
      "Test Accuracy at Epoch 1500: 80.53%\n",
      "Test F1-score at Epoch 1500: 0.8230\n",
      "Classification Report at Epoch 1500:\n",
      "                  precision    recall  f1-score   support\n",
      "\n",
      "    infringement       0.91      0.69      0.78       194\n",
      "non_infringement       0.74      0.92      0.82       186\n",
      "\n",
      "        accuracy                           0.81       380\n",
      "       macro avg       0.82      0.81      0.80       380\n",
      "    weighted avg       0.83      0.81      0.80       380\n",
      "\n"
     ]
    },
    {
     "name": "stderr",
     "output_type": "stream",
     "text": [
      "Training Epochs:  76%|███████▌  | 1511/2000 [04:41<00:53,  9.16it/s]"
     ]
    },
    {
     "name": "stdout",
     "output_type": "stream",
     "text": [
      "Epoch 1510/2000, Loss: 0.0788\n",
      "Test Accuracy at Epoch 1510: 79.74%\n",
      "Test F1-score at Epoch 1510: 0.8171\n",
      "Classification Report at Epoch 1510:\n",
      "                  precision    recall  f1-score   support\n",
      "\n",
      "    infringement       0.90      0.68      0.77       194\n",
      "non_infringement       0.73      0.92      0.82       186\n",
      "\n",
      "        accuracy                           0.80       380\n",
      "       macro avg       0.82      0.80      0.79       380\n",
      "    weighted avg       0.82      0.80      0.79       380\n",
      "\n"
     ]
    },
    {
     "name": "stderr",
     "output_type": "stream",
     "text": [
      "Training Epochs:  76%|███████▌  | 1520/2000 [04:42<01:11,  6.68it/s]"
     ]
    },
    {
     "name": "stdout",
     "output_type": "stream",
     "text": [
      "Epoch 1520/2000, Loss: 0.0772\n",
      "Test Accuracy at Epoch 1520: 81.05%\n",
      "Test F1-score at Epoch 1520: 0.8269\n",
      "Classification Report at Epoch 1520:\n",
      "                  precision    recall  f1-score   support\n",
      "\n",
      "    infringement       0.91      0.70      0.79       194\n",
      "non_infringement       0.75      0.92      0.83       186\n",
      "\n",
      "        accuracy                           0.81       380\n",
      "       macro avg       0.83      0.81      0.81       380\n",
      "    weighted avg       0.83      0.81      0.81       380\n",
      "\n"
     ]
    },
    {
     "name": "stderr",
     "output_type": "stream",
     "text": [
      "Training Epochs:  77%|███████▋  | 1531/2000 [04:44<01:08,  6.80it/s]"
     ]
    },
    {
     "name": "stdout",
     "output_type": "stream",
     "text": [
      "Epoch 1530/2000, Loss: 0.0759\n",
      "Test Accuracy at Epoch 1530: 81.05%\n",
      "Test F1-score at Epoch 1530: 0.8269\n",
      "Classification Report at Epoch 1530:\n",
      "                  precision    recall  f1-score   support\n",
      "\n",
      "    infringement       0.91      0.70      0.79       194\n",
      "non_infringement       0.75      0.92      0.83       186\n",
      "\n",
      "        accuracy                           0.81       380\n",
      "       macro avg       0.83      0.81      0.81       380\n",
      "    weighted avg       0.83      0.81      0.81       380\n",
      "\n"
     ]
    },
    {
     "name": "stderr",
     "output_type": "stream",
     "text": [
      "Training Epochs:  77%|███████▋  | 1541/2000 [04:44<00:28, 16.16it/s]"
     ]
    },
    {
     "name": "stdout",
     "output_type": "stream",
     "text": [
      "Epoch 1540/2000, Loss: 0.0743\n",
      "Test Accuracy at Epoch 1540: 81.32%\n",
      "Test F1-score at Epoch 1540: 0.8289\n",
      "Classification Report at Epoch 1540:\n",
      "                  precision    recall  f1-score   support\n",
      "\n",
      "    infringement       0.91      0.71      0.79       194\n",
      "non_infringement       0.75      0.92      0.83       186\n",
      "\n",
      "        accuracy                           0.81       380\n",
      "       macro avg       0.83      0.82      0.81       380\n",
      "    weighted avg       0.83      0.81      0.81       380\n",
      "\n"
     ]
    },
    {
     "name": "stderr",
     "output_type": "stream",
     "text": [
      "Training Epochs:  78%|███████▊  | 1550/2000 [04:46<01:26,  5.20it/s]"
     ]
    },
    {
     "name": "stdout",
     "output_type": "stream",
     "text": [
      "Epoch 1550/2000, Loss: 0.0742\n",
      "Test Accuracy at Epoch 1550: 80.79%\n",
      "Test F1-score at Epoch 1550: 0.8249\n",
      "Classification Report at Epoch 1550:\n",
      "                  precision    recall  f1-score   support\n",
      "\n",
      "    infringement       0.91      0.70      0.79       194\n",
      "non_infringement       0.74      0.92      0.82       186\n",
      "\n",
      "        accuracy                           0.81       380\n",
      "       macro avg       0.83      0.81      0.81       380\n",
      "    weighted avg       0.83      0.81      0.81       380\n",
      "\n"
     ]
    },
    {
     "name": "stderr",
     "output_type": "stream",
     "text": [
      "Training Epochs:  78%|███████▊  | 1561/2000 [04:48<01:03,  6.96it/s]"
     ]
    },
    {
     "name": "stdout",
     "output_type": "stream",
     "text": [
      "Epoch 1560/2000, Loss: 0.0741\n",
      "Test Accuracy at Epoch 1560: 80.79%\n",
      "Test F1-score at Epoch 1560: 0.8249\n",
      "Classification Report at Epoch 1560:\n",
      "                  precision    recall  f1-score   support\n",
      "\n",
      "    infringement       0.91      0.70      0.79       194\n",
      "non_infringement       0.74      0.92      0.82       186\n",
      "\n",
      "        accuracy                           0.81       380\n",
      "       macro avg       0.83      0.81      0.81       380\n",
      "    weighted avg       0.83      0.81      0.81       380\n",
      "\n"
     ]
    },
    {
     "name": "stderr",
     "output_type": "stream",
     "text": [
      "Training Epochs:  79%|███████▊  | 1571/2000 [04:49<00:39, 10.79it/s]"
     ]
    },
    {
     "name": "stdout",
     "output_type": "stream",
     "text": [
      "Epoch 1570/2000, Loss: 0.0741\n",
      "Test Accuracy at Epoch 1570: 80.79%\n",
      "Test F1-score at Epoch 1570: 0.8249\n",
      "Classification Report at Epoch 1570:\n",
      "                  precision    recall  f1-score   support\n",
      "\n",
      "    infringement       0.91      0.70      0.79       194\n",
      "non_infringement       0.74      0.92      0.82       186\n",
      "\n",
      "        accuracy                           0.81       380\n",
      "       macro avg       0.83      0.81      0.81       380\n",
      "    weighted avg       0.83      0.81      0.81       380\n",
      "\n"
     ]
    },
    {
     "name": "stderr",
     "output_type": "stream",
     "text": [
      "Training Epochs:  79%|███████▉  | 1581/2000 [04:49<00:33, 12.67it/s]"
     ]
    },
    {
     "name": "stdout",
     "output_type": "stream",
     "text": [
      "Epoch 1580/2000, Loss: 0.0740\n",
      "Test Accuracy at Epoch 1580: 80.79%\n",
      "Test F1-score at Epoch 1580: 0.8249\n",
      "Classification Report at Epoch 1580:\n",
      "                  precision    recall  f1-score   support\n",
      "\n",
      "    infringement       0.91      0.70      0.79       194\n",
      "non_infringement       0.74      0.92      0.82       186\n",
      "\n",
      "        accuracy                           0.81       380\n",
      "       macro avg       0.83      0.81      0.81       380\n",
      "    weighted avg       0.83      0.81      0.81       380\n",
      "\n"
     ]
    },
    {
     "name": "stderr",
     "output_type": "stream",
     "text": [
      "Training Epochs:  80%|███████▉  | 1592/2000 [04:50<00:25, 16.00it/s]"
     ]
    },
    {
     "name": "stdout",
     "output_type": "stream",
     "text": [
      "Epoch 1590/2000, Loss: 0.0740\n",
      "Test Accuracy at Epoch 1590: 80.79%\n",
      "Test F1-score at Epoch 1590: 0.8249\n",
      "Classification Report at Epoch 1590:\n",
      "                  precision    recall  f1-score   support\n",
      "\n",
      "    infringement       0.91      0.70      0.79       194\n",
      "non_infringement       0.74      0.92      0.82       186\n",
      "\n",
      "        accuracy                           0.81       380\n",
      "       macro avg       0.83      0.81      0.81       380\n",
      "    weighted avg       0.83      0.81      0.81       380\n",
      "\n"
     ]
    },
    {
     "name": "stderr",
     "output_type": "stream",
     "text": [
      "Training Epochs:  80%|████████  | 1605/2000 [04:50<00:14, 26.49it/s]"
     ]
    },
    {
     "name": "stdout",
     "output_type": "stream",
     "text": [
      "Epoch 1600/2000, Loss: 0.0740\n",
      "Test Accuracy at Epoch 1600: 81.05%\n",
      "Test F1-score at Epoch 1600: 0.8269\n",
      "Classification Report at Epoch 1600:\n",
      "                  precision    recall  f1-score   support\n",
      "\n",
      "    infringement       0.91      0.70      0.79       194\n",
      "non_infringement       0.75      0.92      0.83       186\n",
      "\n",
      "        accuracy                           0.81       380\n",
      "       macro avg       0.83      0.81      0.81       380\n",
      "    weighted avg       0.83      0.81      0.81       380\n",
      "\n"
     ]
    },
    {
     "name": "stderr",
     "output_type": "stream",
     "text": [
      "Training Epochs:  81%|████████  | 1613/2000 [04:51<00:12, 31.49it/s]"
     ]
    },
    {
     "name": "stdout",
     "output_type": "stream",
     "text": [
      "Epoch 1610/2000, Loss: 0.0740\n",
      "Test Accuracy at Epoch 1610: 81.05%\n",
      "Test F1-score at Epoch 1610: 0.8269\n",
      "Classification Report at Epoch 1610:\n",
      "                  precision    recall  f1-score   support\n",
      "\n",
      "    infringement       0.91      0.70      0.79       194\n",
      "non_infringement       0.75      0.92      0.83       186\n",
      "\n",
      "        accuracy                           0.81       380\n",
      "       macro avg       0.83      0.81      0.81       380\n",
      "    weighted avg       0.83      0.81      0.81       380\n",
      "\n"
     ]
    },
    {
     "name": "stderr",
     "output_type": "stream",
     "text": [
      "Training Epochs:  81%|████████  | 1618/2000 [04:51<00:15, 25.33it/s]"
     ]
    },
    {
     "name": "stdout",
     "output_type": "stream",
     "text": [
      "Epoch 1620/2000, Loss: 0.0743\n",
      "Test Accuracy at Epoch 1620: 81.05%\n",
      "Test F1-score at Epoch 1620: 0.8269\n",
      "Classification Report at Epoch 1620:\n",
      "                  precision    recall  f1-score   support\n",
      "\n",
      "    infringement       0.91      0.70      0.79       194\n",
      "non_infringement       0.75      0.92      0.83       186\n",
      "\n",
      "        accuracy                           0.81       380\n",
      "       macro avg       0.83      0.81      0.81       380\n",
      "    weighted avg       0.83      0.81      0.81       380\n",
      "\n"
     ]
    },
    {
     "name": "stderr",
     "output_type": "stream",
     "text": [
      "Training Epochs:  82%|████████▏ | 1630/2000 [04:54<00:51,  7.16it/s]"
     ]
    },
    {
     "name": "stdout",
     "output_type": "stream",
     "text": [
      "Epoch 1630/2000, Loss: 0.0744\n",
      "Test Accuracy at Epoch 1630: 80.79%\n",
      "Test F1-score at Epoch 1630: 0.8249\n",
      "Classification Report at Epoch 1630:\n",
      "                  precision    recall  f1-score   support\n",
      "\n",
      "    infringement       0.91      0.70      0.79       194\n",
      "non_infringement       0.74      0.92      0.82       186\n",
      "\n",
      "        accuracy                           0.81       380\n",
      "       macro avg       0.83      0.81      0.81       380\n",
      "    weighted avg       0.83      0.81      0.81       380\n",
      "\n"
     ]
    },
    {
     "name": "stderr",
     "output_type": "stream",
     "text": [
      "Training Epochs:  82%|████████▏ | 1640/2000 [04:57<01:42,  3.52it/s]"
     ]
    },
    {
     "name": "stdout",
     "output_type": "stream",
     "text": [
      "Epoch 1640/2000, Loss: 0.0740\n",
      "Test Accuracy at Epoch 1640: 80.79%\n",
      "Test F1-score at Epoch 1640: 0.8249\n",
      "Classification Report at Epoch 1640:\n",
      "                  precision    recall  f1-score   support\n",
      "\n",
      "    infringement       0.91      0.70      0.79       194\n",
      "non_infringement       0.74      0.92      0.82       186\n",
      "\n",
      "        accuracy                           0.81       380\n",
      "       macro avg       0.83      0.81      0.81       380\n",
      "    weighted avg       0.83      0.81      0.81       380\n",
      "\n"
     ]
    },
    {
     "name": "stderr",
     "output_type": "stream",
     "text": [
      "Training Epochs:  82%|████████▎ | 1650/2000 [05:01<02:41,  2.17it/s]"
     ]
    },
    {
     "name": "stdout",
     "output_type": "stream",
     "text": [
      "Epoch 1650/2000, Loss: 0.0742\n",
      "Test Accuracy at Epoch 1650: 80.53%\n",
      "Test F1-score at Epoch 1650: 0.8230\n",
      "Classification Report at Epoch 1650:\n",
      "                  precision    recall  f1-score   support\n",
      "\n",
      "    infringement       0.91      0.69      0.78       194\n",
      "non_infringement       0.74      0.92      0.82       186\n",
      "\n",
      "        accuracy                           0.81       380\n",
      "       macro avg       0.82      0.81      0.80       380\n",
      "    weighted avg       0.83      0.81      0.80       380\n",
      "\n"
     ]
    },
    {
     "name": "stderr",
     "output_type": "stream",
     "text": [
      "Training Epochs:  83%|████████▎ | 1660/2000 [05:05<01:29,  3.81it/s]"
     ]
    },
    {
     "name": "stdout",
     "output_type": "stream",
     "text": [
      "Epoch 1660/2000, Loss: 0.0741\n",
      "Test Accuracy at Epoch 1660: 81.05%\n",
      "Test F1-score at Epoch 1660: 0.8269\n",
      "Classification Report at Epoch 1660:\n",
      "                  precision    recall  f1-score   support\n",
      "\n",
      "    infringement       0.91      0.70      0.79       194\n",
      "non_infringement       0.75      0.92      0.83       186\n",
      "\n",
      "        accuracy                           0.81       380\n",
      "       macro avg       0.83      0.81      0.81       380\n",
      "    weighted avg       0.83      0.81      0.81       380\n",
      "\n"
     ]
    },
    {
     "name": "stderr",
     "output_type": "stream",
     "text": [
      "Training Epochs:  84%|████████▎ | 1671/2000 [05:06<00:35,  9.25it/s]"
     ]
    },
    {
     "name": "stdout",
     "output_type": "stream",
     "text": [
      "Epoch 1670/2000, Loss: 0.0740\n",
      "Test Accuracy at Epoch 1670: 80.79%\n",
      "Test F1-score at Epoch 1670: 0.8249\n",
      "Classification Report at Epoch 1670:\n",
      "                  precision    recall  f1-score   support\n",
      "\n",
      "    infringement       0.91      0.70      0.79       194\n",
      "non_infringement       0.74      0.92      0.82       186\n",
      "\n",
      "        accuracy                           0.81       380\n",
      "       macro avg       0.83      0.81      0.81       380\n",
      "    weighted avg       0.83      0.81      0.81       380\n",
      "\n"
     ]
    },
    {
     "name": "stderr",
     "output_type": "stream",
     "text": [
      "Training Epochs:  84%|████████▍ | 1681/2000 [05:07<00:27, 11.65it/s]"
     ]
    },
    {
     "name": "stdout",
     "output_type": "stream",
     "text": [
      "Epoch 1680/2000, Loss: 0.0741\n",
      "Test Accuracy at Epoch 1680: 80.79%\n",
      "Test F1-score at Epoch 1680: 0.8249\n",
      "Classification Report at Epoch 1680:\n",
      "                  precision    recall  f1-score   support\n",
      "\n",
      "    infringement       0.91      0.70      0.79       194\n",
      "non_infringement       0.74      0.92      0.82       186\n",
      "\n",
      "        accuracy                           0.81       380\n",
      "       macro avg       0.83      0.81      0.81       380\n",
      "    weighted avg       0.83      0.81      0.81       380\n",
      "\n"
     ]
    },
    {
     "name": "stderr",
     "output_type": "stream",
     "text": [
      "Training Epochs:  84%|████████▍ | 1690/2000 [05:10<01:36,  3.22it/s]"
     ]
    },
    {
     "name": "stdout",
     "output_type": "stream",
     "text": [
      "Epoch 1690/2000, Loss: 0.0773\n",
      "Test Accuracy at Epoch 1690: 80.53%\n",
      "Test F1-score at Epoch 1690: 0.8230\n",
      "Classification Report at Epoch 1690:\n",
      "                  precision    recall  f1-score   support\n",
      "\n",
      "    infringement       0.91      0.69      0.78       194\n",
      "non_infringement       0.74      0.92      0.82       186\n",
      "\n",
      "        accuracy                           0.81       380\n",
      "       macro avg       0.82      0.81      0.80       380\n",
      "    weighted avg       0.83      0.81      0.80       380\n",
      "\n"
     ]
    },
    {
     "name": "stderr",
     "output_type": "stream",
     "text": [
      "Training Epochs:  85%|████████▍ | 1699/2000 [05:11<00:41,  7.34it/s]"
     ]
    },
    {
     "name": "stdout",
     "output_type": "stream",
     "text": [
      "Epoch 1700/2000, Loss: 0.0750\n",
      "Test Accuracy at Epoch 1700: 81.84%\n",
      "Test F1-score at Epoch 1700: 0.8329\n",
      "Classification Report at Epoch 1700:\n",
      "                  precision    recall  f1-score   support\n",
      "\n",
      "    infringement       0.91      0.72      0.80       194\n",
      "non_infringement       0.76      0.92      0.83       186\n",
      "\n",
      "        accuracy                           0.82       380\n",
      "       macro avg       0.83      0.82      0.82       380\n",
      "    weighted avg       0.83      0.82      0.82       380\n",
      "\n"
     ]
    },
    {
     "name": "stderr",
     "output_type": "stream",
     "text": [
      "Training Epochs:  86%|████████▌ | 1712/2000 [05:12<00:21, 13.14it/s]"
     ]
    },
    {
     "name": "stdout",
     "output_type": "stream",
     "text": [
      "Epoch 1710/2000, Loss: 0.0745\n",
      "Test Accuracy at Epoch 1710: 80.53%\n",
      "Test F1-score at Epoch 1710: 0.8230\n",
      "Classification Report at Epoch 1710:\n",
      "                  precision    recall  f1-score   support\n",
      "\n",
      "    infringement       0.91      0.69      0.78       194\n",
      "non_infringement       0.74      0.92      0.82       186\n",
      "\n",
      "        accuracy                           0.81       380\n",
      "       macro avg       0.82      0.81      0.80       380\n",
      "    weighted avg       0.83      0.81      0.80       380\n",
      "\n"
     ]
    },
    {
     "name": "stderr",
     "output_type": "stream",
     "text": [
      "Training Epochs:  86%|████████▌ | 1722/2000 [05:13<00:19, 14.20it/s]"
     ]
    },
    {
     "name": "stdout",
     "output_type": "stream",
     "text": [
      "Epoch 1720/2000, Loss: 0.0742\n",
      "Test Accuracy at Epoch 1720: 81.32%\n",
      "Test F1-score at Epoch 1720: 0.8289\n",
      "Classification Report at Epoch 1720:\n",
      "                  precision    recall  f1-score   support\n",
      "\n",
      "    infringement       0.91      0.71      0.79       194\n",
      "non_infringement       0.75      0.92      0.83       186\n",
      "\n",
      "        accuracy                           0.81       380\n",
      "       macro avg       0.83      0.82      0.81       380\n",
      "    weighted avg       0.83      0.81      0.81       380\n",
      "\n"
     ]
    },
    {
     "name": "stderr",
     "output_type": "stream",
     "text": [
      "Training Epochs:  86%|████████▋ | 1730/2000 [05:15<01:06,  4.07it/s]"
     ]
    },
    {
     "name": "stdout",
     "output_type": "stream",
     "text": [
      "Epoch 1730/2000, Loss: 0.0741\n",
      "Test Accuracy at Epoch 1730: 80.79%\n",
      "Test F1-score at Epoch 1730: 0.8249\n",
      "Classification Report at Epoch 1730:\n",
      "                  precision    recall  f1-score   support\n",
      "\n",
      "    infringement       0.91      0.70      0.79       194\n",
      "non_infringement       0.74      0.92      0.82       186\n",
      "\n",
      "        accuracy                           0.81       380\n",
      "       macro avg       0.83      0.81      0.81       380\n",
      "    weighted avg       0.83      0.81      0.81       380\n",
      "\n"
     ]
    },
    {
     "name": "stderr",
     "output_type": "stream",
     "text": [
      "Training Epochs:  87%|████████▋ | 1740/2000 [05:19<01:38,  2.64it/s]"
     ]
    },
    {
     "name": "stdout",
     "output_type": "stream",
     "text": [
      "Epoch 1740/2000, Loss: 0.0739\n",
      "Test Accuracy at Epoch 1740: 80.79%\n",
      "Test F1-score at Epoch 1740: 0.8249\n",
      "Classification Report at Epoch 1740:\n",
      "                  precision    recall  f1-score   support\n",
      "\n",
      "    infringement       0.91      0.70      0.79       194\n",
      "non_infringement       0.74      0.92      0.82       186\n",
      "\n",
      "        accuracy                           0.81       380\n",
      "       macro avg       0.83      0.81      0.81       380\n",
      "    weighted avg       0.83      0.81      0.81       380\n",
      "\n"
     ]
    },
    {
     "name": "stderr",
     "output_type": "stream",
     "text": [
      "Training Epochs:  88%|████████▊ | 1750/2000 [05:22<01:07,  3.70it/s]"
     ]
    },
    {
     "name": "stdout",
     "output_type": "stream",
     "text": [
      "Epoch 1750/2000, Loss: 0.0740\n",
      "Test Accuracy at Epoch 1750: 80.79%\n",
      "Test F1-score at Epoch 1750: 0.8249\n",
      "Classification Report at Epoch 1750:\n",
      "                  precision    recall  f1-score   support\n",
      "\n",
      "    infringement       0.91      0.70      0.79       194\n",
      "non_infringement       0.74      0.92      0.82       186\n",
      "\n",
      "        accuracy                           0.81       380\n",
      "       macro avg       0.83      0.81      0.81       380\n",
      "    weighted avg       0.83      0.81      0.81       380\n",
      "\n"
     ]
    },
    {
     "name": "stderr",
     "output_type": "stream",
     "text": [
      "Training Epochs:  88%|████████▊ | 1759/2000 [05:23<00:23, 10.38it/s]"
     ]
    },
    {
     "name": "stdout",
     "output_type": "stream",
     "text": [
      "Epoch 1760/2000, Loss: 0.0819\n",
      "Test Accuracy at Epoch 1760: 80.53%\n",
      "Test F1-score at Epoch 1760: 0.8230\n",
      "Classification Report at Epoch 1760:\n",
      "                  precision    recall  f1-score   support\n",
      "\n",
      "    infringement       0.91      0.69      0.78       194\n",
      "non_infringement       0.74      0.92      0.82       186\n",
      "\n",
      "        accuracy                           0.81       380\n",
      "       macro avg       0.82      0.81      0.80       380\n",
      "    weighted avg       0.83      0.81      0.80       380\n",
      "\n"
     ]
    },
    {
     "name": "stderr",
     "output_type": "stream",
     "text": [
      "Training Epochs:  89%|████████▊ | 1772/2000 [05:25<00:22, 10.05it/s]"
     ]
    },
    {
     "name": "stdout",
     "output_type": "stream",
     "text": [
      "Epoch 1770/2000, Loss: 0.0742\n",
      "Test Accuracy at Epoch 1770: 80.79%\n",
      "Test F1-score at Epoch 1770: 0.8249\n",
      "Classification Report at Epoch 1770:\n",
      "                  precision    recall  f1-score   support\n",
      "\n",
      "    infringement       0.91      0.70      0.79       194\n",
      "non_infringement       0.74      0.92      0.82       186\n",
      "\n",
      "        accuracy                           0.81       380\n",
      "       macro avg       0.83      0.81      0.81       380\n",
      "    weighted avg       0.83      0.81      0.81       380\n",
      "\n"
     ]
    },
    {
     "name": "stderr",
     "output_type": "stream",
     "text": [
      "Training Epochs:  89%|████████▉ | 1782/2000 [05:26<00:17, 12.61it/s]"
     ]
    },
    {
     "name": "stdout",
     "output_type": "stream",
     "text": [
      "Epoch 1780/2000, Loss: 0.0742\n",
      "Test Accuracy at Epoch 1780: 81.05%\n",
      "Test F1-score at Epoch 1780: 0.8269\n",
      "Classification Report at Epoch 1780:\n",
      "                  precision    recall  f1-score   support\n",
      "\n",
      "    infringement       0.91      0.70      0.79       194\n",
      "non_infringement       0.75      0.92      0.83       186\n",
      "\n",
      "        accuracy                           0.81       380\n",
      "       macro avg       0.83      0.81      0.81       380\n",
      "    weighted avg       0.83      0.81      0.81       380\n",
      "\n"
     ]
    },
    {
     "name": "stderr",
     "output_type": "stream",
     "text": [
      "Training Epochs:  90%|████████▉ | 1792/2000 [05:27<00:19, 10.71it/s]"
     ]
    },
    {
     "name": "stdout",
     "output_type": "stream",
     "text": [
      "Epoch 1790/2000, Loss: 0.0742\n",
      "Test Accuracy at Epoch 1790: 80.79%\n",
      "Test F1-score at Epoch 1790: 0.8249\n",
      "Classification Report at Epoch 1790:\n",
      "                  precision    recall  f1-score   support\n",
      "\n",
      "    infringement       0.91      0.70      0.79       194\n",
      "non_infringement       0.74      0.92      0.82       186\n",
      "\n",
      "        accuracy                           0.81       380\n",
      "       macro avg       0.83      0.81      0.81       380\n",
      "    weighted avg       0.83      0.81      0.81       380\n",
      "\n"
     ]
    },
    {
     "name": "stderr",
     "output_type": "stream",
     "text": [
      "Training Epochs:  90%|█████████ | 1800/2000 [05:28<00:16, 11.77it/s]"
     ]
    },
    {
     "name": "stdout",
     "output_type": "stream",
     "text": [
      "Epoch 1800/2000, Loss: 0.0740\n",
      "Test Accuracy at Epoch 1800: 80.79%\n",
      "Test F1-score at Epoch 1800: 0.8249\n",
      "Classification Report at Epoch 1800:\n",
      "                  precision    recall  f1-score   support\n",
      "\n",
      "    infringement       0.91      0.70      0.79       194\n",
      "non_infringement       0.74      0.92      0.82       186\n",
      "\n",
      "        accuracy                           0.81       380\n",
      "       macro avg       0.83      0.81      0.81       380\n",
      "    weighted avg       0.83      0.81      0.81       380\n",
      "\n"
     ]
    },
    {
     "name": "stderr",
     "output_type": "stream",
     "text": [
      "Training Epochs:  90%|█████████ | 1810/2000 [05:30<01:00,  3.16it/s]"
     ]
    },
    {
     "name": "stdout",
     "output_type": "stream",
     "text": [
      "Epoch 1810/2000, Loss: 0.0740\n",
      "Test Accuracy at Epoch 1810: 81.32%\n",
      "Test F1-score at Epoch 1810: 0.8289\n",
      "Classification Report at Epoch 1810:\n",
      "                  precision    recall  f1-score   support\n",
      "\n",
      "    infringement       0.91      0.71      0.79       194\n",
      "non_infringement       0.75      0.92      0.83       186\n",
      "\n",
      "        accuracy                           0.81       380\n",
      "       macro avg       0.83      0.82      0.81       380\n",
      "    weighted avg       0.83      0.81      0.81       380\n",
      "\n"
     ]
    },
    {
     "name": "stderr",
     "output_type": "stream",
     "text": [
      "Training Epochs:  91%|█████████ | 1820/2000 [05:34<01:23,  2.16it/s]"
     ]
    },
    {
     "name": "stdout",
     "output_type": "stream",
     "text": [
      "Epoch 1820/2000, Loss: 0.0739\n",
      "Test Accuracy at Epoch 1820: 81.05%\n",
      "Test F1-score at Epoch 1820: 0.8269\n",
      "Classification Report at Epoch 1820:\n",
      "                  precision    recall  f1-score   support\n",
      "\n",
      "    infringement       0.91      0.70      0.79       194\n",
      "non_infringement       0.75      0.92      0.83       186\n",
      "\n",
      "        accuracy                           0.81       380\n",
      "       macro avg       0.83      0.81      0.81       380\n",
      "    weighted avg       0.83      0.81      0.81       380\n",
      "\n"
     ]
    },
    {
     "name": "stderr",
     "output_type": "stream",
     "text": [
      "Training Epochs:  92%|█████████▏| 1830/2000 [05:39<01:15,  2.24it/s]"
     ]
    },
    {
     "name": "stdout",
     "output_type": "stream",
     "text": [
      "Epoch 1830/2000, Loss: 0.0739\n",
      "Test Accuracy at Epoch 1830: 81.05%\n",
      "Test F1-score at Epoch 1830: 0.8269\n",
      "Classification Report at Epoch 1830:\n",
      "                  precision    recall  f1-score   support\n",
      "\n",
      "    infringement       0.91      0.70      0.79       194\n",
      "non_infringement       0.75      0.92      0.83       186\n",
      "\n",
      "        accuracy                           0.81       380\n",
      "       macro avg       0.83      0.81      0.81       380\n",
      "    weighted avg       0.83      0.81      0.81       380\n",
      "\n"
     ]
    },
    {
     "name": "stderr",
     "output_type": "stream",
     "text": [
      "Training Epochs:  92%|█████████▏| 1841/2000 [05:42<00:30,  5.15it/s]"
     ]
    },
    {
     "name": "stdout",
     "output_type": "stream",
     "text": [
      "Epoch 1840/2000, Loss: 0.0750\n",
      "Test Accuracy at Epoch 1840: 80.53%\n",
      "Test F1-score at Epoch 1840: 0.8230\n",
      "Classification Report at Epoch 1840:\n",
      "                  precision    recall  f1-score   support\n",
      "\n",
      "    infringement       0.91      0.69      0.78       194\n",
      "non_infringement       0.74      0.92      0.82       186\n",
      "\n",
      "        accuracy                           0.81       380\n",
      "       macro avg       0.82      0.81      0.80       380\n",
      "    weighted avg       0.83      0.81      0.80       380\n",
      "\n"
     ]
    },
    {
     "name": "stderr",
     "output_type": "stream",
     "text": [
      "Training Epochs:  92%|█████████▏| 1849/2000 [05:45<00:39,  3.78it/s]"
     ]
    },
    {
     "name": "stdout",
     "output_type": "stream",
     "text": [
      "Epoch 1850/2000, Loss: 0.0742\n",
      "Test Accuracy at Epoch 1850: 81.32%\n",
      "Test F1-score at Epoch 1850: 0.8289\n",
      "Classification Report at Epoch 1850:\n",
      "                  precision    recall  f1-score   support\n",
      "\n",
      "    infringement       0.91      0.71      0.79       194\n",
      "non_infringement       0.75      0.92      0.83       186\n",
      "\n",
      "        accuracy                           0.81       380\n",
      "       macro avg       0.83      0.82      0.81       380\n",
      "    weighted avg       0.83      0.81      0.81       380\n",
      "\n"
     ]
    },
    {
     "name": "stderr",
     "output_type": "stream",
     "text": [
      "Training Epochs:  93%|█████████▎| 1860/2000 [05:48<01:01,  2.27it/s]"
     ]
    },
    {
     "name": "stdout",
     "output_type": "stream",
     "text": [
      "Epoch 1860/2000, Loss: 0.0746\n",
      "Test Accuracy at Epoch 1860: 81.84%\n",
      "Test F1-score at Epoch 1860: 0.8329\n",
      "Classification Report at Epoch 1860:\n",
      "                  precision    recall  f1-score   support\n",
      "\n",
      "    infringement       0.91      0.72      0.80       194\n",
      "non_infringement       0.76      0.92      0.83       186\n",
      "\n",
      "        accuracy                           0.82       380\n",
      "       macro avg       0.83      0.82      0.82       380\n",
      "    weighted avg       0.83      0.82      0.82       380\n",
      "\n"
     ]
    },
    {
     "name": "stderr",
     "output_type": "stream",
     "text": [
      "Training Epochs:  94%|█████████▎| 1873/2000 [05:50<00:12, 10.02it/s]"
     ]
    },
    {
     "name": "stdout",
     "output_type": "stream",
     "text": [
      "Epoch 1870/2000, Loss: 0.0743\n",
      "Test Accuracy at Epoch 1870: 81.84%\n",
      "Test F1-score at Epoch 1870: 0.8329\n",
      "Classification Report at Epoch 1870:\n",
      "                  precision    recall  f1-score   support\n",
      "\n",
      "    infringement       0.91      0.72      0.80       194\n",
      "non_infringement       0.76      0.92      0.83       186\n",
      "\n",
      "        accuracy                           0.82       380\n",
      "       macro avg       0.83      0.82      0.82       380\n",
      "    weighted avg       0.83      0.82      0.82       380\n",
      "\n"
     ]
    },
    {
     "name": "stderr",
     "output_type": "stream",
     "text": [
      "Training Epochs:  94%|█████████▍| 1881/2000 [05:51<00:08, 14.35it/s]"
     ]
    },
    {
     "name": "stdout",
     "output_type": "stream",
     "text": [
      "Epoch 1880/2000, Loss: 0.0740\n",
      "Test Accuracy at Epoch 1880: 80.79%\n",
      "Test F1-score at Epoch 1880: 0.8249\n",
      "Classification Report at Epoch 1880:\n",
      "                  precision    recall  f1-score   support\n",
      "\n",
      "    infringement       0.91      0.70      0.79       194\n",
      "non_infringement       0.74      0.92      0.82       186\n",
      "\n",
      "        accuracy                           0.81       380\n",
      "       macro avg       0.83      0.81      0.81       380\n",
      "    weighted avg       0.83      0.81      0.81       380\n",
      "\n"
     ]
    },
    {
     "name": "stderr",
     "output_type": "stream",
     "text": [
      "Training Epochs:  94%|█████████▍| 1890/2000 [05:54<00:35,  3.10it/s]"
     ]
    },
    {
     "name": "stdout",
     "output_type": "stream",
     "text": [
      "Epoch 1890/2000, Loss: 0.0744\n",
      "Test Accuracy at Epoch 1890: 80.79%\n",
      "Test F1-score at Epoch 1890: 0.8249\n",
      "Classification Report at Epoch 1890:\n",
      "                  precision    recall  f1-score   support\n",
      "\n",
      "    infringement       0.91      0.70      0.79       194\n",
      "non_infringement       0.74      0.92      0.82       186\n",
      "\n",
      "        accuracy                           0.81       380\n",
      "       macro avg       0.83      0.81      0.81       380\n",
      "    weighted avg       0.83      0.81      0.81       380\n",
      "\n"
     ]
    },
    {
     "name": "stderr",
     "output_type": "stream",
     "text": [
      "Training Epochs:  95%|█████████▌| 1902/2000 [05:55<00:08, 11.11it/s]"
     ]
    },
    {
     "name": "stdout",
     "output_type": "stream",
     "text": [
      "Epoch 1900/2000, Loss: 0.0752\n",
      "Test Accuracy at Epoch 1900: 80.79%\n",
      "Test F1-score at Epoch 1900: 0.8249\n",
      "Classification Report at Epoch 1900:\n",
      "                  precision    recall  f1-score   support\n",
      "\n",
      "    infringement       0.91      0.70      0.79       194\n",
      "non_infringement       0.74      0.92      0.82       186\n",
      "\n",
      "        accuracy                           0.81       380\n",
      "       macro avg       0.83      0.81      0.81       380\n",
      "    weighted avg       0.83      0.81      0.81       380\n",
      "\n"
     ]
    },
    {
     "name": "stderr",
     "output_type": "stream",
     "text": [
      "Training Epochs:  96%|█████████▌| 1911/2000 [05:57<00:18,  4.82it/s]"
     ]
    },
    {
     "name": "stdout",
     "output_type": "stream",
     "text": [
      "Epoch 1910/2000, Loss: 0.0742\n",
      "Test Accuracy at Epoch 1910: 81.84%\n",
      "Test F1-score at Epoch 1910: 0.8329\n",
      "Classification Report at Epoch 1910:\n",
      "                  precision    recall  f1-score   support\n",
      "\n",
      "    infringement       0.91      0.72      0.80       194\n",
      "non_infringement       0.76      0.92      0.83       186\n",
      "\n",
      "        accuracy                           0.82       380\n",
      "       macro avg       0.83      0.82      0.82       380\n",
      "    weighted avg       0.83      0.82      0.82       380\n",
      "\n"
     ]
    },
    {
     "name": "stderr",
     "output_type": "stream",
     "text": [
      "Training Epochs:  96%|█████████▌| 1920/2000 [06:01<00:42,  1.86it/s]"
     ]
    },
    {
     "name": "stdout",
     "output_type": "stream",
     "text": [
      "Epoch 1920/2000, Loss: 0.0739\n",
      "Test Accuracy at Epoch 1920: 81.05%\n",
      "Test F1-score at Epoch 1920: 0.8269\n",
      "Classification Report at Epoch 1920:\n",
      "                  precision    recall  f1-score   support\n",
      "\n",
      "    infringement       0.91      0.70      0.79       194\n",
      "non_infringement       0.75      0.92      0.83       186\n",
      "\n",
      "        accuracy                           0.81       380\n",
      "       macro avg       0.83      0.81      0.81       380\n",
      "    weighted avg       0.83      0.81      0.81       380\n",
      "\n"
     ]
    },
    {
     "name": "stderr",
     "output_type": "stream",
     "text": [
      "Training Epochs:  97%|█████████▋| 1931/2000 [06:03<00:09,  7.43it/s]"
     ]
    },
    {
     "name": "stdout",
     "output_type": "stream",
     "text": [
      "Epoch 1930/2000, Loss: 0.0740\n",
      "Test Accuracy at Epoch 1930: 81.58%\n",
      "Test F1-score at Epoch 1930: 0.8309\n",
      "Classification Report at Epoch 1930:\n",
      "                  precision    recall  f1-score   support\n",
      "\n",
      "    infringement       0.91      0.71      0.80       194\n",
      "non_infringement       0.75      0.92      0.83       186\n",
      "\n",
      "        accuracy                           0.82       380\n",
      "       macro avg       0.83      0.82      0.81       380\n",
      "    weighted avg       0.83      0.82      0.81       380\n",
      "\n"
     ]
    },
    {
     "name": "stderr",
     "output_type": "stream",
     "text": [
      "Training Epochs:  97%|█████████▋| 1940/2000 [06:05<00:18,  3.23it/s]"
     ]
    },
    {
     "name": "stdout",
     "output_type": "stream",
     "text": [
      "Epoch 1940/2000, Loss: 0.0750\n",
      "Test Accuracy at Epoch 1940: 81.84%\n",
      "Test F1-score at Epoch 1940: 0.8329\n",
      "Classification Report at Epoch 1940:\n",
      "                  precision    recall  f1-score   support\n",
      "\n",
      "    infringement       0.91      0.72      0.80       194\n",
      "non_infringement       0.76      0.92      0.83       186\n",
      "\n",
      "        accuracy                           0.82       380\n",
      "       macro avg       0.83      0.82      0.82       380\n",
      "    weighted avg       0.83      0.82      0.82       380\n",
      "\n"
     ]
    },
    {
     "name": "stderr",
     "output_type": "stream",
     "text": [
      "Training Epochs:  98%|█████████▊| 1951/2000 [06:07<00:06,  7.08it/s]"
     ]
    },
    {
     "name": "stdout",
     "output_type": "stream",
     "text": [
      "Epoch 1950/2000, Loss: 0.0742\n",
      "Test Accuracy at Epoch 1950: 82.11%\n",
      "Test F1-score at Epoch 1950: 0.8350\n",
      "Classification Report at Epoch 1950:\n",
      "                  precision    recall  f1-score   support\n",
      "\n",
      "    infringement       0.91      0.72      0.80       194\n",
      "non_infringement       0.76      0.92      0.83       186\n",
      "\n",
      "        accuracy                           0.82       380\n",
      "       macro avg       0.84      0.82      0.82       380\n",
      "    weighted avg       0.84      0.82      0.82       380\n",
      "\n"
     ]
    },
    {
     "name": "stderr",
     "output_type": "stream",
     "text": [
      "Training Epochs:  98%|█████████▊| 1960/2000 [06:10<00:14,  2.82it/s]"
     ]
    },
    {
     "name": "stdout",
     "output_type": "stream",
     "text": [
      "Epoch 1960/2000, Loss: 0.0743\n",
      "Test Accuracy at Epoch 1960: 81.32%\n",
      "Test F1-score at Epoch 1960: 0.8289\n",
      "Classification Report at Epoch 1960:\n",
      "                  precision    recall  f1-score   support\n",
      "\n",
      "    infringement       0.91      0.71      0.79       194\n",
      "non_infringement       0.75      0.92      0.83       186\n",
      "\n",
      "        accuracy                           0.81       380\n",
      "       macro avg       0.83      0.82      0.81       380\n",
      "    weighted avg       0.83      0.81      0.81       380\n",
      "\n"
     ]
    },
    {
     "name": "stderr",
     "output_type": "stream",
     "text": [
      "Training Epochs:  99%|█████████▊| 1972/2000 [06:12<00:03,  9.09it/s]"
     ]
    },
    {
     "name": "stdout",
     "output_type": "stream",
     "text": [
      "Epoch 1970/2000, Loss: 0.0741\n",
      "Test Accuracy at Epoch 1970: 82.11%\n",
      "Test F1-score at Epoch 1970: 0.8350\n",
      "Classification Report at Epoch 1970:\n",
      "                  precision    recall  f1-score   support\n",
      "\n",
      "    infringement       0.91      0.72      0.80       194\n",
      "non_infringement       0.76      0.92      0.83       186\n",
      "\n",
      "        accuracy                           0.82       380\n",
      "       macro avg       0.84      0.82      0.82       380\n",
      "    weighted avg       0.84      0.82      0.82       380\n",
      "\n"
     ]
    },
    {
     "name": "stderr",
     "output_type": "stream",
     "text": [
      "Training Epochs:  99%|█████████▉| 1980/2000 [06:12<00:01, 10.70it/s]"
     ]
    },
    {
     "name": "stdout",
     "output_type": "stream",
     "text": [
      "Epoch 1980/2000, Loss: 0.0739\n",
      "Test Accuracy at Epoch 1980: 81.32%\n",
      "Test F1-score at Epoch 1980: 0.8289\n",
      "Classification Report at Epoch 1980:\n",
      "                  precision    recall  f1-score   support\n",
      "\n",
      "    infringement       0.91      0.71      0.79       194\n",
      "non_infringement       0.75      0.92      0.83       186\n",
      "\n",
      "        accuracy                           0.81       380\n",
      "       macro avg       0.83      0.82      0.81       380\n",
      "    weighted avg       0.83      0.81      0.81       380\n",
      "\n"
     ]
    },
    {
     "name": "stderr",
     "output_type": "stream",
     "text": [
      "Training Epochs: 100%|█████████▉| 1990/2000 [06:16<00:04,  2.40it/s]"
     ]
    },
    {
     "name": "stdout",
     "output_type": "stream",
     "text": [
      "Epoch 1990/2000, Loss: 0.0739\n",
      "Test Accuracy at Epoch 1990: 81.05%\n",
      "Test F1-score at Epoch 1990: 0.8269\n",
      "Classification Report at Epoch 1990:\n",
      "                  precision    recall  f1-score   support\n",
      "\n",
      "    infringement       0.91      0.70      0.79       194\n",
      "non_infringement       0.75      0.92      0.83       186\n",
      "\n",
      "        accuracy                           0.81       380\n",
      "       macro avg       0.83      0.81      0.81       380\n",
      "    weighted avg       0.83      0.81      0.81       380\n",
      "\n"
     ]
    },
    {
     "name": "stderr",
     "output_type": "stream",
     "text": [
      "Training Epochs: 100%|██████████| 2000/2000 [06:20<00:00,  5.26it/s]"
     ]
    },
    {
     "name": "stdout",
     "output_type": "stream",
     "text": [
      "Epoch 2000/2000, Loss: 0.0779\n",
      "Test Accuracy at Epoch 2000: 80.79%\n",
      "Test F1-score at Epoch 2000: 0.8258\n",
      "Classification Report at Epoch 2000:\n",
      "                  precision    recall  f1-score   support\n",
      "\n",
      "    infringement       0.91      0.69      0.79       194\n",
      "non_infringement       0.74      0.93      0.83       186\n",
      "\n",
      "        accuracy                           0.81       380\n",
      "       macro avg       0.83      0.81      0.81       380\n",
      "    weighted avg       0.83      0.81      0.81       380\n",
      "\n"
     ]
    },
    {
     "name": "stderr",
     "output_type": "stream",
     "text": [
      "\n",
      "/tmp/ipykernel_246694/2033666368.py:59: FutureWarning: You are using `torch.load` with `weights_only=False` (the current default value), which uses the default pickle module implicitly. It is possible to construct malicious pickle data which will execute arbitrary code during unpickling (See https://github.com/pytorch/pytorch/blob/main/SECURITY.md#untrusted-models for more details). In a future release, the default value for `weights_only` will be flipped to `True`. This limits the functions that could be executed during unpickling. Arbitrary objects will no longer be allowed to be loaded via this mode unless they are explicitly allowlisted by the user via `torch.serialization.add_safe_globals`. We recommend you start setting `weights_only=True` for any use case where you don't have full control of the loaded file. Please open an issue on GitHub for any issues related to this experimental feature.\n",
      "  custom_mlp.load_state_dict(torch.load(checkpoint_path))\n"
     ]
    },
    {
     "data": {
      "image/png": "[encoded data removed]",
      "text/plain": [
       "<Figure size 1000x500 with 1 Axes>"
      ]
     },
     "metadata": {},
     "output_type": "display_data"
    },
    {
     "name": "stdout",
     "output_type": "stream",
     "text": [
      "Final Model Accuracy: 82.11%\n",
      "Final Model F1-score: 0.8350\n"
     ]
    }
   ],
   "source": [
    "input_dim = X_train.shape[1]\n",
    "hidden_dim = 256 \n",
    "print(f\"Training MLP model with input_dim={input_dim} and hidden_dim={hidden_dim}\")\n",
    "\n",
    "custom_mlp, losses, best_accuracy, best_f1 = train_model(X_train, y_train, X_test, y_test, input_dim, hidden_dim)"
   ]
  },
  {
   "cell_type": "code",
   "execution_count": 10,
   "metadata": {},
   "outputs": [
    {
     "name": "stdout",
     "output_type": "stream",
     "text": [
      "Checkpoint saved to '/home/guangwei/LLM-COPYRIGHT/copyright_newVersion/models/train_input_reference_0_layer.pth'.\n"
     ]
    }
   ],
   "source": [
    "def save_checkpoint(model, optimizer, epoch, loss, filepath):\n",
    "    checkpoint = {\n",
    "        'epoch': epoch + 1,\n",
    "        'model_state_dict': model.state_dict(),\n",
    "        'optimizer_state_dict': optimizer.state_dict(),\n",
    "        'loss': loss\n",
    "    }\n",
    "    torch.save(checkpoint, filepath)\n",
    "    print(f\"Checkpoint saved to '{filepath}'.\")\n",
    "\n",
    "save_checkpoint(custom_mlp, torch.optim.Adam(custom_mlp.parameters()), len(losses), losses[-1], checkpoint_file)"
   ]
  },
  {
   "cell_type": "code",
   "execution_count": 11,
   "metadata": {},
   "outputs": [
    {
     "name": "stdout",
     "output_type": "stream",
     "text": [
      "                  precision    recall  f1-score   support\n",
      "\n",
      "    infringement       0.91      0.72      0.80       194\n",
      "non_infringement       0.76      0.92      0.83       186\n",
      "\n",
      "        accuracy                           0.82       380\n",
      "       macro avg       0.84      0.82      0.82       380\n",
      "    weighted avg       0.84      0.82      0.82       380\n",
      "\n"
     ]
    },
    {
     "name": "stderr",
     "output_type": "stream",
     "text": [
      "/tmp/ipykernel_246694/2137335780.py:1: UserWarning: To copy construct from a tensor, it is recommended to use sourceTensor.clone().detach() or sourceTensor.clone().detach().requires_grad_(True), rather than torch.tensor(sourceTensor).\n",
      "  y_pred_final = (torch.sigmoid(torch.tensor(custom_mlp(torch.tensor(X_test, dtype=torch.float32)))) > 0.5).float().numpy()\n"
     ]
    }
   ],
   "source": [
    "y_pred_final = (torch.sigmoid(torch.tensor(custom_mlp(torch.tensor(X_test, dtype=torch.float32)))) > 0.5).float().numpy()\n",
    "print(classification_report(y_test, y_pred_final, target_names=[\"infringement\", \"non_infringement\"]))"
   ]
  }
 ],
 "metadata": {
  "kernelspec": {
   "display_name": "zdh",
   "language": "python",
   "name": "python3"
  },
  "language_info": {
   "codemirror_mode": {
    "name": "ipython",
    "version": 3
   },
   "file_extension": ".py",
   "mimetype": "text/x-python",
   "name": "python",
   "nbconvert_exporter": "python",
   "pygments_lexer": "ipython3",
   "version": "3.12.3"
  }
 },
 "nbformat": 4,
 "nbformat_minor": 2
}
