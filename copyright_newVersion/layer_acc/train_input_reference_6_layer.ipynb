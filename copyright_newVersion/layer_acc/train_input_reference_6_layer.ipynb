{
 "cells": [
  {
   "cell_type": "code",
   "execution_count": 1,
   "metadata": {},
   "outputs": [
    {
     "name": "stderr",
     "output_type": "stream",
     "text": [
      "/home/guangwei/miniconda3/envs/zdh/lib/python3.12/site-packages/tqdm/auto.py:21: TqdmWarning: IProgress not found. Please update jupyter and ipywidgets. See https://ipywidgets.readthedocs.io/en/stable/user_install.html\n",
      "  from .autonotebook import tqdm as notebook_tqdm\n"
     ]
    }
   ],
   "source": [
    "# import packages & variables\n",
    "import argparse\n",
    "import torch\n",
    "import torch.nn as nn\n",
    "import numpy as np\n",
    "from sklearn.metrics import accuracy_score, classification_report\n",
    "import matplotlib.pyplot as plt\n",
    "from tqdm import tqdm\n",
    "from transformers import AutoTokenizer, AutoModelForCausalLM, AutoModel, AutoModelForSequenceClassification\n",
    "import json\n",
    "import os\n",
    "\n",
    "os.environ[\"CUDA_VISIBLE_DEVICES\"] = \"5\"\n",
    "\n",
    "# Parameters\n",
    "model_name = 'meta-llama/Meta-Llama-3.1-8B'\n",
    "non_infringement_file = '/home/guangwei/LLM-COPYRIGHT/copyright_newVersion/test_division/extra_30.non_infringement.json'\n",
    "infringement_file = '/home/guangwei/LLM-COPYRIGHT/copyright_newVersion/test_division/extra_30.infringement.json'\n",
    "checkpoint_file = '/home/guangwei/LLM-COPYRIGHT/copyright_newVersion/models/train_input_reference_0_layer.pth'\n"
   ]
  },
  {
   "cell_type": "code",
   "execution_count": 2,
   "metadata": {},
   "outputs": [],
   "source": [
    "# Define CustumMLP for internal states train\n",
    "class CustomMLP(nn.Module):\n",
    "    def __init__(self, input_dim, hidden_dim):\n",
    "        super(CustomMLP, self).__init__()\n",
    "        self.down = nn.Linear(input_dim, hidden_dim)\n",
    "        self.gate = nn.Linear(input_dim, hidden_dim)\n",
    "        self.up = nn.Linear(hidden_dim, 1)\n",
    "        self.activation = nn.SiLU()\n",
    "\n",
    "    def forward(self, x):\n",
    "        down_output = self.down(x)\n",
    "        gate_output = self.gate(x)\n",
    "        gated_output = down_output * self.activation(gate_output)\n",
    "        return self.up(gated_output)"
   ]
  },
  {
   "cell_type": "code",
   "execution_count": 3,
   "metadata": {},
   "outputs": [],
   "source": [
    "# Extract hidden states/reference embeddings\n",
    "def extract_hidden_states(texts, model, tokenizer, batch_size=4):\n",
    "    device = torch.device(\"cuda\" if torch.cuda.is_available() else \"cpu\")\n",
    "    model.to(device)\n",
    "    model = nn.DataParallel(model)\n",
    "    hidden_states = []\n",
    "    \n",
    "    for i in tqdm(range(0, len(texts), batch_size), desc=\"Processing data batches\"):\n",
    "        batch_texts = texts[i:i + batch_size]\n",
    "        inputs = tokenizer(batch_texts, return_tensors=\"pt\", padding=True, truncation=True).to(device)\n",
    "        \n",
    "        with torch.no_grad():\n",
    "            outputs = model(**inputs)\n",
    "        hidden_states.append(outputs.hidden_states[6].mean(dim=1).cpu().numpy())\n",
    "    \n",
    "    return np.vstack(hidden_states)\n",
    "\n",
    "\n",
    "def extract_reference_embeddings(references, model, tokenizer, batch_size=4):\n",
    "    device = torch.device(\"cuda\" if torch.cuda.is_available() else \"cpu\")\n",
    "    model.to(device)\n",
    "    model = nn.DataParallel(model)\n",
    "    embeddings = []\n",
    "    for i in tqdm(range(0, len(references), batch_size), desc=\"Processing references\"):\n",
    "        batch_references = references[i:i + batch_size]\n",
    "        inputs = tokenizer(batch_references, return_tensors=\"pt\", padding=True, truncation=True).to(device)\n",
    "        with torch.no_grad():\n",
    "            outputs = model(**inputs)\n",
    "        embeddings.append(outputs.pooler_output.cpu().numpy())\n",
    "    return np.vstack(embeddings)"
   ]
  },
  {
   "cell_type": "code",
   "execution_count": 4,
   "metadata": {},
   "outputs": [],
   "source": [
    "# load data for infringement & non infringement\n",
    "def load_data(non_infringement_file, infringement_file):\n",
    "    with open(non_infringement_file, 'r', encoding='utf-8') as file:\n",
    "        non_infringement_json_data = json.load(file)\n",
    "\n",
    "    non_infringement_outputs = [entry['input'] for entry in non_infringement_json_data]\n",
    "    non_infringement_references = [entry['reference'] for entry in non_infringement_json_data]\n",
    "    y_non_infringement = [1] * len(non_infringement_outputs)\n",
    "\n",
    "    with open(infringement_file, 'r', encoding='utf-8') as file:\n",
    "        infringement_json_data = json.load(file)\n",
    "\n",
    "    infringement_outputs = [entry['input'] for entry in infringement_json_data]\n",
    "    infringement_references = [entry['reference'] for entry in infringement_json_data]\n",
    "    y_infringement = [0] * len(infringement_outputs)\n",
    "\n",
    "    return non_infringement_outputs, non_infringement_references, y_non_infringement, infringement_outputs, infringement_references, y_infringement"
   ]
  },
  {
   "cell_type": "code",
   "execution_count": 5,
   "metadata": {},
   "outputs": [],
   "source": [
    "from sklearn.metrics import accuracy_score, classification_report, f1_score\n",
    "\n",
    "# Train for best model\n",
    "def train_model(X_train, y_train, X_test, y_test, input_dim, hidden_dim, epochs=2000, lr=0.001, checkpoint_path=checkpoint_file):\n",
    "    custom_mlp = CustomMLP(input_dim, hidden_dim)\n",
    "    criterion = nn.BCEWithLogitsLoss()\n",
    "    optimizer = torch.optim.Adam(custom_mlp.parameters(), lr=lr)\n",
    "\n",
    "    X_train_tensor = torch.tensor(X_train, dtype=torch.float32)\n",
    "    y_train_tensor = torch.tensor(y_train, dtype=torch.float32).unsqueeze(1)\n",
    "\n",
    "    best_accuracy = -float('inf')\n",
    "    best_f1 = -float('inf')  # Track best F1-score\n",
    "    best_model_state = None\n",
    "    best_epoch = 0\n",
    "    losses = []\n",
    "\n",
    "    for epoch in tqdm(range(epochs), desc=\"Training Epochs\"):\n",
    "        custom_mlp.train()\n",
    "        optimizer.zero_grad()\n",
    "        outputs = custom_mlp(X_train_tensor)\n",
    "        loss = criterion(outputs, y_train_tensor)\n",
    "        loss.backward()\n",
    "        optimizer.step()\n",
    "        losses.append(loss.item())\n",
    "\n",
    "        # Every 10 epochs, evaluate the model\n",
    "        if (epoch + 1) % 10 == 0:\n",
    "            print(f\"Epoch {epoch + 1}/{epochs}, Loss: {loss.item():.4f}\")\n",
    "            \n",
    "            custom_mlp.eval()\n",
    "            X_test_tensor = torch.tensor(X_test, dtype=torch.float32)\n",
    "            with torch.no_grad():\n",
    "                y_pred_logits = custom_mlp(X_test_tensor)\n",
    "                y_pred = (torch.sigmoid(y_pred_logits) > 0.5).float().numpy()\n",
    "            \n",
    "            # Calculate accuracy and F1-score\n",
    "            accuracy = accuracy_score(y_test, y_pred)\n",
    "            f1 = f1_score(y_test, y_pred)  # F1-score calculation\n",
    "            \n",
    "            print(f\"Test Accuracy at Epoch {epoch + 1}: {accuracy * 100:.2f}%\")\n",
    "            print(f\"Test F1-score at Epoch {epoch + 1}: {f1:.4f}\")\n",
    "            \n",
    "            # Generate classification report\n",
    "            report = classification_report(y_test, y_pred, target_names=[\"infringement\", \"non_infringement\"])\n",
    "            print(f\"Classification Report at Epoch {epoch + 1}:\\n{report}\")\n",
    "\n",
    "            # Save the model if it achieves a better F1-score\n",
    "            if f1 > best_f1:\n",
    "                best_accuracy = accuracy\n",
    "                best_f1 = f1\n",
    "                best_model_state = custom_mlp.state_dict()\n",
    "                best_epoch = epoch + 1\n",
    "                torch.save(best_model_state, checkpoint_path)\n",
    "                print(f\"New best model saved with F1-score {best_f1:.4f} at epoch {best_epoch}\")\n",
    "                print(f\"Best Classification Report at Epoch {best_epoch}:\\n{report}\")\n",
    "\n",
    "    # Load the best model state\n",
    "    custom_mlp.load_state_dict(torch.load(checkpoint_path))\n",
    "\n",
    "    # Plot loss curve\n",
    "    plt.figure(figsize=(10, 5))\n",
    "    plt.plot(losses, label='Training Loss')\n",
    "    plt.xlabel('Epoch')\n",
    "    plt.ylabel('Loss')\n",
    "    plt.title('Training Loss Curve')\n",
    "    plt.legend()\n",
    "    plt.show()\n",
    "\n",
    "    print(f\"Final Model Accuracy: {best_accuracy * 100:.2f}%\")\n",
    "    print(f\"Final Model F1-score: {best_f1:.4f}\")\n",
    "    \n",
    "    return custom_mlp, losses, best_accuracy, best_f1\n"
   ]
  },
  {
   "cell_type": "code",
   "execution_count": 6,
   "metadata": {},
   "outputs": [
    {
     "name": "stderr",
     "output_type": "stream",
     "text": [
      "/home/guangwei/miniconda3/envs/zdh/lib/python3.12/site-packages/transformers/generation/configuration_utils.py:777: UserWarning: `return_dict_in_generate` is NOT set to `True`, but `output_hidden_states` is. When `return_dict_in_generate` is not `True`, `output_hidden_states` is ignored.\n",
      "  warnings.warn(\n",
      "Loading checkpoint shards: 100%|██████████| 4/4 [00:03<00:00,  1.12it/s]\n"
     ]
    }
   ],
   "source": [
    "tokenizer = AutoTokenizer.from_pretrained(model_name, model_max_length=512)\n",
    "model = AutoModelForCausalLM.from_pretrained(model_name, output_hidden_states=True)\n",
    "tokenizer.pad_token = tokenizer.eos_token\n",
    "bert_tokenizer = AutoTokenizer.from_pretrained('google-bert/bert-base-uncased')\n",
    "bert_model = AutoModel.from_pretrained('google-bert/bert-base-uncased')\n",
    "bert_tokenizer.pad_token = tokenizer.eos_token\n",
    "\n",
    "non_infringement_outputs, non_infringement_references, y_non_infringement, infringement_outputs, infringement_references, y_infringement = load_data(\n",
    "    non_infringement_file, infringement_file\n",
    ")\n",
    "\n",
    "y_non_infringement = np.array(y_non_infringement)\n",
    "y_infringement = np.array(y_infringement)\n"
   ]
  },
  {
   "cell_type": "code",
   "execution_count": 7,
   "metadata": {},
   "outputs": [
    {
     "name": "stdout",
     "output_type": "stream",
     "text": [
      "Extracting hidden states for non_infringement texts...\n"
     ]
    },
    {
     "name": "stderr",
     "output_type": "stream",
     "text": [
      "Processing data batches:   0%|          | 0/232 [00:00<?, ?it/s]Starting from v4.46, the `logits` model output will have the same type as the model (except at train time, where it will always be FP32)\n",
      "Processing data batches: 100%|██████████| 232/232 [01:03<00:00,  3.63it/s]\n"
     ]
    },
    {
     "name": "stdout",
     "output_type": "stream",
     "text": [
      "Extracting reference embeddings for non_infringement texts...\n"
     ]
    },
    {
     "name": "stderr",
     "output_type": "stream",
     "text": [
      "Processing references: 100%|██████████| 232/232 [00:02<00:00, 93.42it/s] \n"
     ]
    },
    {
     "name": "stdout",
     "output_type": "stream",
     "text": [
      "Extracting hidden states for infringement texts...\n"
     ]
    },
    {
     "name": "stderr",
     "output_type": "stream",
     "text": [
      "Processing data batches: 100%|██████████| 243/243 [01:21<00:00,  2.98it/s]\n"
     ]
    },
    {
     "name": "stdout",
     "output_type": "stream",
     "text": [
      "Extracting reference embeddings for infringement texts...\n"
     ]
    },
    {
     "name": "stderr",
     "output_type": "stream",
     "text": [
      "Processing references: 100%|██████████| 243/243 [00:02<00:00, 108.68it/s]\n"
     ]
    }
   ],
   "source": [
    "print(\"Extracting hidden states for non_infringement texts...\")\n",
    "X_non_infringement = extract_hidden_states(non_infringement_outputs, model, tokenizer)\n",
    "print(\"Extracting reference embeddings for non_infringement texts...\")\n",
    "reference_embeddings_non_infringement = extract_reference_embeddings(non_infringement_references, bert_model, bert_tokenizer)\n",
    "X_non_infringement_combined = np.hstack([X_non_infringement, reference_embeddings_non_infringement])\n",
    "\n",
    "print(\"Extracting hidden states for infringement texts...\")\n",
    "X_infringement = extract_hidden_states(infringement_outputs, model, tokenizer)\n",
    "print(\"Extracting reference embeddings for infringement texts...\")\n",
    "reference_embeddings_infringement = extract_reference_embeddings(infringement_references, bert_model, bert_tokenizer)\n",
    "X_infringement_combined = np.hstack([X_infringement, reference_embeddings_infringement])"
   ]
  },
  {
   "cell_type": "code",
   "execution_count": 8,
   "metadata": {},
   "outputs": [
    {
     "name": "stdout",
     "output_type": "stream",
     "text": [
      "Data successfully split into training and test sets.\n"
     ]
    }
   ],
   "source": [
    "split_index_non_infringement = int(0.8 * len(X_non_infringement_combined))\n",
    "X_non_infringement_train = X_non_infringement_combined[:split_index_non_infringement]\n",
    "X_non_infringement_test = X_non_infringement_combined[split_index_non_infringement:]\n",
    "y_non_infringement_train = y_non_infringement[:split_index_non_infringement]\n",
    "y_non_infringement_test = y_non_infringement[split_index_non_infringement:]\n",
    "\n",
    "split_index_infringement = int(0.8 * len(X_infringement_combined))\n",
    "X_infringement_train = X_infringement_combined[:split_index_infringement]\n",
    "X_infringement_test = X_infringement_combined[split_index_infringement:]\n",
    "y_infringement_train = y_infringement[:split_index_infringement]\n",
    "y_infringement_test = y_infringement[split_index_infringement:]\n",
    "\n",
    "X_train = np.vstack((X_non_infringement_train, X_infringement_train))\n",
    "X_test = np.vstack((X_non_infringement_test, X_infringement_test))\n",
    "y_train = np.concatenate((y_non_infringement_train, y_infringement_train))\n",
    "y_test = np.concatenate((y_non_infringement_test, y_infringement_test))\n",
    "\n",
    "print(\"Data successfully split into training and test sets.\")"
   ]
  },
  {
   "cell_type": "code",
   "execution_count": 9,
   "metadata": {},
   "outputs": [
    {
     "name": "stdout",
     "output_type": "stream",
     "text": [
      "Training MLP model with input_dim=4864 and hidden_dim=256\n"
     ]
    },
    {
     "name": "stderr",
     "output_type": "stream",
     "text": [
      "Training Epochs:   1%|          | 11/2000 [00:01<03:34,  9.27it/s]"
     ]
    },
    {
     "name": "stdout",
     "output_type": "stream",
     "text": [
      "Epoch 10/2000, Loss: 0.6387\n",
      "Test Accuracy at Epoch 10: 65.00%\n",
      "Test F1-score at Epoch 10: 0.6650\n",
      "Classification Report at Epoch 10:\n",
      "                  precision    recall  f1-score   support\n",
      "\n",
      "    infringement       0.68      0.59      0.63       194\n",
      "non_infringement       0.63      0.71      0.66       186\n",
      "\n",
      "        accuracy                           0.65       380\n",
      "       macro avg       0.65      0.65      0.65       380\n",
      "    weighted avg       0.65      0.65      0.65       380\n",
      "\n",
      "New best model saved with F1-score 0.6650 at epoch 10\n",
      "Best Classification Report at Epoch 10:\n",
      "                  precision    recall  f1-score   support\n",
      "\n",
      "    infringement       0.68      0.59      0.63       194\n",
      "non_infringement       0.63      0.71      0.66       186\n",
      "\n",
      "        accuracy                           0.65       380\n",
      "       macro avg       0.65      0.65      0.65       380\n",
      "    weighted avg       0.65      0.65      0.65       380\n",
      "\n"
     ]
    },
    {
     "name": "stderr",
     "output_type": "stream",
     "text": [
      "Training Epochs:   1%|          | 18/2000 [00:01<02:19, 14.25it/s]"
     ]
    },
    {
     "name": "stdout",
     "output_type": "stream",
     "text": [
      "Epoch 20/2000, Loss: 0.5390\n",
      "Test Accuracy at Epoch 20: 67.63%\n",
      "Test F1-score at Epoch 20: 0.6978\n",
      "Classification Report at Epoch 20:\n",
      "                  precision    recall  f1-score   support\n",
      "\n",
      "    infringement       0.72      0.59      0.65       194\n",
      "non_infringement       0.64      0.76      0.70       186\n",
      "\n",
      "        accuracy                           0.68       380\n",
      "       macro avg       0.68      0.68      0.67       380\n",
      "    weighted avg       0.68      0.68      0.67       380\n",
      "\n"
     ]
    },
    {
     "name": "stderr",
     "output_type": "stream",
     "text": [
      "Training Epochs:   1%|          | 22/2000 [00:02<03:46,  8.72it/s]"
     ]
    },
    {
     "name": "stdout",
     "output_type": "stream",
     "text": [
      "New best model saved with F1-score 0.6978 at epoch 20\n",
      "Best Classification Report at Epoch 20:\n",
      "                  precision    recall  f1-score   support\n",
      "\n",
      "    infringement       0.72      0.59      0.65       194\n",
      "non_infringement       0.64      0.76      0.70       186\n",
      "\n",
      "        accuracy                           0.68       380\n",
      "       macro avg       0.68      0.68      0.67       380\n",
      "    weighted avg       0.68      0.68      0.67       380\n",
      "\n"
     ]
    },
    {
     "name": "stderr",
     "output_type": "stream",
     "text": [
      "Training Epochs:   2%|▏         | 30/2000 [00:03<04:35,  7.15it/s]"
     ]
    },
    {
     "name": "stdout",
     "output_type": "stream",
     "text": [
      "Epoch 30/2000, Loss: 0.4408\n",
      "Test Accuracy at Epoch 30: 72.63%\n",
      "Test F1-score at Epoch 30: 0.7749\n",
      "Classification Report at Epoch 30:\n",
      "                  precision    recall  f1-score   support\n",
      "\n",
      "    infringement       0.93      0.50      0.65       194\n",
      "non_infringement       0.65      0.96      0.77       186\n",
      "\n",
      "        accuracy                           0.73       380\n",
      "       macro avg       0.79      0.73      0.71       380\n",
      "    weighted avg       0.79      0.73      0.71       380\n",
      "\n",
      "New best model saved with F1-score 0.7749 at epoch 30\n",
      "Best Classification Report at Epoch 30:\n",
      "                  precision    recall  f1-score   support\n",
      "\n",
      "    infringement       0.93      0.50      0.65       194\n",
      "non_infringement       0.65      0.96      0.77       186\n",
      "\n",
      "        accuracy                           0.73       380\n",
      "       macro avg       0.79      0.73      0.71       380\n",
      "    weighted avg       0.79      0.73      0.71       380\n",
      "\n"
     ]
    },
    {
     "name": "stderr",
     "output_type": "stream",
     "text": [
      "Training Epochs:   2%|▏         | 40/2000 [00:04<03:39,  8.93it/s]"
     ]
    },
    {
     "name": "stdout",
     "output_type": "stream",
     "text": [
      "Epoch 40/2000, Loss: 0.3534\n",
      "Test Accuracy at Epoch 40: 79.47%\n",
      "Test F1-score at Epoch 40: 0.8088\n",
      "Classification Report at Epoch 40:\n",
      "                  precision    recall  f1-score   support\n",
      "\n",
      "    infringement       0.87      0.71      0.78       194\n",
      "non_infringement       0.74      0.89      0.81       186\n",
      "\n",
      "        accuracy                           0.79       380\n",
      "       macro avg       0.81      0.80      0.79       380\n",
      "    weighted avg       0.81      0.79      0.79       380\n",
      "\n",
      "New best model saved with F1-score 0.8088 at epoch 40\n",
      "Best Classification Report at Epoch 40:\n",
      "                  precision    recall  f1-score   support\n",
      "\n",
      "    infringement       0.87      0.71      0.78       194\n",
      "non_infringement       0.74      0.89      0.81       186\n",
      "\n",
      "        accuracy                           0.79       380\n",
      "       macro avg       0.81      0.80      0.79       380\n",
      "    weighted avg       0.81      0.79      0.79       380\n",
      "\n"
     ]
    },
    {
     "name": "stderr",
     "output_type": "stream",
     "text": [
      "Training Epochs:   3%|▎         | 51/2000 [00:05<03:35,  9.06it/s]"
     ]
    },
    {
     "name": "stdout",
     "output_type": "stream",
     "text": [
      "Epoch 50/2000, Loss: 0.3246\n",
      "Test Accuracy at Epoch 50: 81.58%\n",
      "Test F1-score at Epoch 50: 0.8284\n",
      "Classification Report at Epoch 50:\n",
      "                  precision    recall  f1-score   support\n",
      "\n",
      "    infringement       0.89      0.73      0.80       194\n",
      "non_infringement       0.76      0.91      0.83       186\n",
      "\n",
      "        accuracy                           0.82       380\n",
      "       macro avg       0.83      0.82      0.81       380\n",
      "    weighted avg       0.83      0.82      0.81       380\n",
      "\n",
      "New best model saved with F1-score 0.8284 at epoch 50\n",
      "Best Classification Report at Epoch 50:\n",
      "                  precision    recall  f1-score   support\n",
      "\n",
      "    infringement       0.89      0.73      0.80       194\n",
      "non_infringement       0.76      0.91      0.83       186\n",
      "\n",
      "        accuracy                           0.82       380\n",
      "       macro avg       0.83      0.82      0.81       380\n",
      "    weighted avg       0.83      0.82      0.81       380\n",
      "\n"
     ]
    },
    {
     "name": "stderr",
     "output_type": "stream",
     "text": [
      "Training Epochs:   3%|▎         | 61/2000 [00:06<02:46, 11.67it/s]"
     ]
    },
    {
     "name": "stdout",
     "output_type": "stream",
     "text": [
      "Epoch 60/2000, Loss: 0.2820\n",
      "Test Accuracy at Epoch 60: 79.47%\n",
      "Test F1-score at Epoch 60: 0.8116\n",
      "Classification Report at Epoch 60:\n",
      "                  precision    recall  f1-score   support\n",
      "\n",
      "    infringement       0.88      0.69      0.77       194\n",
      "non_infringement       0.74      0.90      0.81       186\n",
      "\n",
      "        accuracy                           0.79       380\n",
      "       macro avg       0.81      0.80      0.79       380\n",
      "    weighted avg       0.81      0.79      0.79       380\n",
      "\n"
     ]
    },
    {
     "name": "stderr",
     "output_type": "stream",
     "text": [
      "Training Epochs:   3%|▎         | 69/2000 [00:07<02:22, 13.52it/s]"
     ]
    },
    {
     "name": "stdout",
     "output_type": "stream",
     "text": [
      "Epoch 70/2000, Loss: 0.2793\n",
      "Test Accuracy at Epoch 70: 79.21%\n",
      "Test F1-score at Epoch 70: 0.8167\n",
      "Classification Report at Epoch 70:\n",
      "                  precision    recall  f1-score   support\n",
      "\n",
      "    infringement       0.93      0.64      0.76       194\n",
      "non_infringement       0.72      0.95      0.82       186\n",
      "\n",
      "        accuracy                           0.79       380\n",
      "       macro avg       0.82      0.80      0.79       380\n",
      "    weighted avg       0.82      0.79      0.79       380\n",
      "\n"
     ]
    },
    {
     "name": "stderr",
     "output_type": "stream",
     "text": [
      "Training Epochs:   4%|▍         | 81/2000 [00:08<03:02, 10.52it/s]"
     ]
    },
    {
     "name": "stdout",
     "output_type": "stream",
     "text": [
      "Epoch 80/2000, Loss: 0.2560\n",
      "Test Accuracy at Epoch 80: 78.95%\n",
      "Test F1-score at Epoch 80: 0.8157\n",
      "Classification Report at Epoch 80:\n",
      "                  precision    recall  f1-score   support\n",
      "\n",
      "    infringement       0.93      0.63      0.75       194\n",
      "non_infringement       0.71      0.95      0.82       186\n",
      "\n",
      "        accuracy                           0.79       380\n",
      "       macro avg       0.82      0.79      0.79       380\n",
      "    weighted avg       0.83      0.79      0.78       380\n",
      "\n"
     ]
    },
    {
     "name": "stderr",
     "output_type": "stream",
     "text": [
      "Training Epochs:   5%|▍         | 91/2000 [00:09<02:39, 11.94it/s]"
     ]
    },
    {
     "name": "stdout",
     "output_type": "stream",
     "text": [
      "Epoch 90/2000, Loss: 0.2736\n",
      "Test Accuracy at Epoch 90: 80.53%\n",
      "Test F1-score at Epoch 90: 0.8195\n",
      "Classification Report at Epoch 90:\n",
      "                  precision    recall  f1-score   support\n",
      "\n",
      "    infringement       0.88      0.71      0.79       194\n",
      "non_infringement       0.75      0.90      0.82       186\n",
      "\n",
      "        accuracy                           0.81       380\n",
      "       macro avg       0.82      0.81      0.80       380\n",
      "    weighted avg       0.82      0.81      0.80       380\n",
      "\n"
     ]
    },
    {
     "name": "stderr",
     "output_type": "stream",
     "text": [
      "Training Epochs:   5%|▌         | 102/2000 [00:10<01:55, 16.36it/s]"
     ]
    },
    {
     "name": "stdout",
     "output_type": "stream",
     "text": [
      "Epoch 100/2000, Loss: 0.2286\n",
      "Test Accuracy at Epoch 100: 80.00%\n",
      "Test F1-score at Epoch 100: 0.8224\n",
      "Classification Report at Epoch 100:\n",
      "                  precision    recall  f1-score   support\n",
      "\n",
      "    infringement       0.93      0.66      0.77       194\n",
      "non_infringement       0.73      0.95      0.82       186\n",
      "\n",
      "        accuracy                           0.80       380\n",
      "       macro avg       0.83      0.80      0.80       380\n",
      "    weighted avg       0.83      0.80      0.80       380\n",
      "\n"
     ]
    },
    {
     "name": "stderr",
     "output_type": "stream",
     "text": [
      "Training Epochs:   6%|▌         | 112/2000 [00:10<01:49, 17.19it/s]"
     ]
    },
    {
     "name": "stdout",
     "output_type": "stream",
     "text": [
      "Epoch 110/2000, Loss: 0.1959\n",
      "Test Accuracy at Epoch 110: 80.26%\n",
      "Test F1-score at Epoch 110: 0.8201\n",
      "Classification Report at Epoch 110:\n",
      "                  precision    recall  f1-score   support\n",
      "\n",
      "    infringement       0.90      0.69      0.78       194\n",
      "non_infringement       0.74      0.92      0.82       186\n",
      "\n",
      "        accuracy                           0.80       380\n",
      "       macro avg       0.82      0.81      0.80       380\n",
      "    weighted avg       0.82      0.80      0.80       380\n",
      "\n"
     ]
    },
    {
     "name": "stderr",
     "output_type": "stream",
     "text": [
      "Training Epochs:   6%|▌         | 120/2000 [00:11<02:42, 11.56it/s]"
     ]
    },
    {
     "name": "stdout",
     "output_type": "stream",
     "text": [
      "Epoch 120/2000, Loss: 0.1832\n",
      "Test Accuracy at Epoch 120: 80.00%\n",
      "Test F1-score at Epoch 120: 0.8182\n",
      "Classification Report at Epoch 120:\n",
      "                  precision    recall  f1-score   support\n",
      "\n",
      "    infringement       0.90      0.69      0.78       194\n",
      "non_infringement       0.74      0.92      0.82       186\n",
      "\n",
      "        accuracy                           0.80       380\n",
      "       macro avg       0.82      0.80      0.80       380\n",
      "    weighted avg       0.82      0.80      0.80       380\n",
      "\n"
     ]
    },
    {
     "name": "stderr",
     "output_type": "stream",
     "text": [
      "Training Epochs:   7%|▋         | 132/2000 [00:12<02:40, 11.63it/s]"
     ]
    },
    {
     "name": "stdout",
     "output_type": "stream",
     "text": [
      "Epoch 130/2000, Loss: 0.2974\n",
      "Test Accuracy at Epoch 130: 80.00%\n",
      "Test F1-score at Epoch 130: 0.8224\n",
      "Classification Report at Epoch 130:\n",
      "                  precision    recall  f1-score   support\n",
      "\n",
      "    infringement       0.93      0.66      0.77       194\n",
      "non_infringement       0.73      0.95      0.82       186\n",
      "\n",
      "        accuracy                           0.80       380\n",
      "       macro avg       0.83      0.80      0.80       380\n",
      "    weighted avg       0.83      0.80      0.80       380\n",
      "\n"
     ]
    },
    {
     "name": "stderr",
     "output_type": "stream",
     "text": [
      "Training Epochs:   7%|▋         | 141/2000 [00:13<01:59, 15.55it/s]"
     ]
    },
    {
     "name": "stdout",
     "output_type": "stream",
     "text": [
      "Epoch 140/2000, Loss: 0.1793\n",
      "Test Accuracy at Epoch 140: 79.74%\n",
      "Test F1-score at Epoch 140: 0.8108\n",
      "Classification Report at Epoch 140:\n",
      "                  precision    recall  f1-score   support\n",
      "\n",
      "    infringement       0.87      0.71      0.78       194\n",
      "non_infringement       0.75      0.89      0.81       186\n",
      "\n",
      "        accuracy                           0.80       380\n",
      "       macro avg       0.81      0.80      0.80       380\n",
      "    weighted avg       0.81      0.80      0.80       380\n",
      "\n"
     ]
    },
    {
     "name": "stderr",
     "output_type": "stream",
     "text": [
      "Training Epochs:   8%|▊         | 150/2000 [00:13<02:32, 12.12it/s]"
     ]
    },
    {
     "name": "stdout",
     "output_type": "stream",
     "text": [
      "Epoch 150/2000, Loss: 0.1780\n",
      "Test Accuracy at Epoch 150: 80.26%\n",
      "Test F1-score at Epoch 150: 0.8235\n",
      "Classification Report at Epoch 150:\n",
      "                  precision    recall  f1-score   support\n",
      "\n",
      "    infringement       0.92      0.67      0.78       194\n",
      "non_infringement       0.73      0.94      0.82       186\n",
      "\n",
      "        accuracy                           0.80       380\n",
      "       macro avg       0.83      0.81      0.80       380\n",
      "    weighted avg       0.83      0.80      0.80       380\n",
      "\n"
     ]
    },
    {
     "name": "stderr",
     "output_type": "stream",
     "text": [
      "Training Epochs:   8%|▊         | 160/2000 [00:14<01:37, 18.96it/s]"
     ]
    },
    {
     "name": "stdout",
     "output_type": "stream",
     "text": [
      "Epoch 160/2000, Loss: 0.1570\n",
      "Test Accuracy at Epoch 160: 80.00%\n",
      "Test F1-score at Epoch 160: 0.8224\n",
      "Classification Report at Epoch 160:\n",
      "                  precision    recall  f1-score   support\n",
      "\n",
      "    infringement       0.93      0.66      0.77       194\n",
      "non_infringement       0.73      0.95      0.82       186\n",
      "\n",
      "        accuracy                           0.80       380\n",
      "       macro avg       0.83      0.80      0.80       380\n",
      "    weighted avg       0.83      0.80      0.80       380\n",
      "\n"
     ]
    },
    {
     "name": "stderr",
     "output_type": "stream",
     "text": [
      "Training Epochs:   9%|▊         | 172/2000 [00:15<01:30, 20.15it/s]"
     ]
    },
    {
     "name": "stdout",
     "output_type": "stream",
     "text": [
      "Epoch 170/2000, Loss: 0.1505\n",
      "Test Accuracy at Epoch 170: 80.00%\n",
      "Test F1-score at Epoch 170: 0.8216\n",
      "Classification Report at Epoch 170:\n",
      "                  precision    recall  f1-score   support\n",
      "\n",
      "    infringement       0.92      0.66      0.77       194\n",
      "non_infringement       0.73      0.94      0.82       186\n",
      "\n",
      "        accuracy                           0.80       380\n",
      "       macro avg       0.83      0.80      0.80       380\n",
      "    weighted avg       0.83      0.80      0.80       380\n",
      "\n"
     ]
    },
    {
     "name": "stderr",
     "output_type": "stream",
     "text": [
      "Training Epochs:   9%|▉         | 185/2000 [00:15<01:13, 24.84it/s]"
     ]
    },
    {
     "name": "stdout",
     "output_type": "stream",
     "text": [
      "Epoch 180/2000, Loss: 0.1403\n",
      "Test Accuracy at Epoch 180: 80.00%\n",
      "Test F1-score at Epoch 180: 0.8216\n",
      "Classification Report at Epoch 180:\n",
      "                  precision    recall  f1-score   support\n",
      "\n",
      "    infringement       0.92      0.66      0.77       194\n",
      "non_infringement       0.73      0.94      0.82       186\n",
      "\n",
      "        accuracy                           0.80       380\n",
      "       macro avg       0.83      0.80      0.80       380\n",
      "    weighted avg       0.83      0.80      0.80       380\n",
      "\n"
     ]
    },
    {
     "name": "stderr",
     "output_type": "stream",
     "text": [
      "Training Epochs:  10%|▉         | 195/2000 [00:15<01:10, 25.54it/s]"
     ]
    },
    {
     "name": "stdout",
     "output_type": "stream",
     "text": [
      "Epoch 190/2000, Loss: 0.1999\n",
      "Test Accuracy at Epoch 190: 80.00%\n",
      "Test F1-score at Epoch 190: 0.8208\n",
      "Classification Report at Epoch 190:\n",
      "                  precision    recall  f1-score   support\n",
      "\n",
      "    infringement       0.92      0.67      0.77       194\n",
      "non_infringement       0.73      0.94      0.82       186\n",
      "\n",
      "        accuracy                           0.80       380\n",
      "       macro avg       0.82      0.80      0.80       380\n",
      "    weighted avg       0.83      0.80      0.80       380\n",
      "\n"
     ]
    },
    {
     "name": "stderr",
     "output_type": "stream",
     "text": [
      "Training Epochs:  10%|█         | 202/2000 [00:16<01:13, 24.36it/s]"
     ]
    },
    {
     "name": "stdout",
     "output_type": "stream",
     "text": [
      "Epoch 200/2000, Loss: 0.1620\n",
      "Test Accuracy at Epoch 200: 79.21%\n",
      "Test F1-score at Epoch 200: 0.8150\n",
      "Classification Report at Epoch 200:\n",
      "                  precision    recall  f1-score   support\n",
      "\n",
      "    infringement       0.91      0.65      0.76       194\n",
      "non_infringement       0.72      0.94      0.81       186\n",
      "\n",
      "        accuracy                           0.79       380\n",
      "       macro avg       0.82      0.80      0.79       380\n",
      "    weighted avg       0.82      0.79      0.79       380\n",
      "\n"
     ]
    },
    {
     "name": "stderr",
     "output_type": "stream",
     "text": [
      "Training Epochs:  11%|█         | 214/2000 [00:16<01:16, 23.24it/s]"
     ]
    },
    {
     "name": "stdout",
     "output_type": "stream",
     "text": [
      "Epoch 210/2000, Loss: 0.1328\n",
      "Test Accuracy at Epoch 210: 80.00%\n",
      "Test F1-score at Epoch 210: 0.8190\n",
      "Classification Report at Epoch 210:\n",
      "                  precision    recall  f1-score   support\n",
      "\n",
      "    infringement       0.90      0.68      0.78       194\n",
      "non_infringement       0.74      0.92      0.82       186\n",
      "\n",
      "        accuracy                           0.80       380\n",
      "       macro avg       0.82      0.80      0.80       380\n",
      "    weighted avg       0.82      0.80      0.80       380\n",
      "\n"
     ]
    },
    {
     "name": "stderr",
     "output_type": "stream",
     "text": [
      "Training Epochs:  11%|█         | 223/2000 [00:17<01:11, 24.73it/s]"
     ]
    },
    {
     "name": "stdout",
     "output_type": "stream",
     "text": [
      "Epoch 220/2000, Loss: 0.1266\n",
      "Test Accuracy at Epoch 220: 79.74%\n",
      "Test F1-score at Epoch 220: 0.8188\n",
      "Classification Report at Epoch 220:\n",
      "                  precision    recall  f1-score   support\n",
      "\n",
      "    infringement       0.91      0.66      0.77       194\n",
      "non_infringement       0.73      0.94      0.82       186\n",
      "\n",
      "        accuracy                           0.80       380\n",
      "       macro avg       0.82      0.80      0.79       380\n",
      "    weighted avg       0.82      0.80      0.79       380\n",
      "\n"
     ]
    },
    {
     "name": "stderr",
     "output_type": "stream",
     "text": [
      "Training Epochs:  12%|█▏        | 235/2000 [00:17<01:09, 25.47it/s]"
     ]
    },
    {
     "name": "stdout",
     "output_type": "stream",
     "text": [
      "Epoch 230/2000, Loss: 0.1234\n",
      "Test Accuracy at Epoch 230: 79.74%\n",
      "Test F1-score at Epoch 230: 0.8188\n",
      "Classification Report at Epoch 230:\n",
      "                  precision    recall  f1-score   support\n",
      "\n",
      "    infringement       0.91      0.66      0.77       194\n",
      "non_infringement       0.73      0.94      0.82       186\n",
      "\n",
      "        accuracy                           0.80       380\n",
      "       macro avg       0.82      0.80      0.79       380\n",
      "    weighted avg       0.82      0.80      0.79       380\n",
      "\n"
     ]
    },
    {
     "name": "stderr",
     "output_type": "stream",
     "text": [
      "Training Epochs:  12%|█▏        | 244/2000 [00:18<01:14, 23.65it/s]"
     ]
    },
    {
     "name": "stdout",
     "output_type": "stream",
     "text": [
      "Epoch 240/2000, Loss: 0.1187\n",
      "Test Accuracy at Epoch 240: 79.74%\n",
      "Test F1-score at Epoch 240: 0.8188\n",
      "Classification Report at Epoch 240:\n",
      "                  precision    recall  f1-score   support\n",
      "\n",
      "    infringement       0.91      0.66      0.77       194\n",
      "non_infringement       0.73      0.94      0.82       186\n",
      "\n",
      "        accuracy                           0.80       380\n",
      "       macro avg       0.82      0.80      0.79       380\n",
      "    weighted avg       0.82      0.80      0.79       380\n",
      "\n"
     ]
    },
    {
     "name": "stderr",
     "output_type": "stream",
     "text": [
      "Training Epochs:  13%|█▎        | 252/2000 [00:18<01:51, 15.74it/s]"
     ]
    },
    {
     "name": "stdout",
     "output_type": "stream",
     "text": [
      "Epoch 250/2000, Loss: 0.1151\n",
      "Test Accuracy at Epoch 250: 80.53%\n",
      "Test F1-score at Epoch 250: 0.8246\n",
      "Classification Report at Epoch 250:\n",
      "                  precision    recall  f1-score   support\n",
      "\n",
      "    infringement       0.92      0.68      0.78       194\n",
      "non_infringement       0.74      0.94      0.82       186\n",
      "\n",
      "        accuracy                           0.81       380\n",
      "       macro avg       0.83      0.81      0.80       380\n",
      "    weighted avg       0.83      0.81      0.80       380\n",
      "\n"
     ]
    },
    {
     "name": "stderr",
     "output_type": "stream",
     "text": [
      "Training Epochs:  13%|█▎        | 262/2000 [00:19<02:13, 13.04it/s]"
     ]
    },
    {
     "name": "stdout",
     "output_type": "stream",
     "text": [
      "Epoch 260/2000, Loss: 0.1388\n",
      "Test Accuracy at Epoch 260: 80.26%\n",
      "Test F1-score at Epoch 260: 0.8082\n",
      "Classification Report at Epoch 260:\n",
      "                  precision    recall  f1-score   support\n",
      "\n",
      "    infringement       0.84      0.76      0.80       194\n",
      "non_infringement       0.77      0.85      0.81       186\n",
      "\n",
      "        accuracy                           0.80       380\n",
      "       macro avg       0.81      0.80      0.80       380\n",
      "    weighted avg       0.81      0.80      0.80       380\n",
      "\n"
     ]
    },
    {
     "name": "stderr",
     "output_type": "stream",
     "text": [
      "Training Epochs:  14%|█▎        | 272/2000 [00:20<02:10, 13.21it/s]"
     ]
    },
    {
     "name": "stdout",
     "output_type": "stream",
     "text": [
      "Epoch 270/2000, Loss: 0.1170\n",
      "Test Accuracy at Epoch 270: 79.47%\n",
      "Test F1-score at Epoch 270: 0.8178\n",
      "Classification Report at Epoch 270:\n",
      "                  precision    recall  f1-score   support\n",
      "\n",
      "    infringement       0.92      0.65      0.77       194\n",
      "non_infringement       0.72      0.94      0.82       186\n",
      "\n",
      "        accuracy                           0.79       380\n",
      "       macro avg       0.82      0.80      0.79       380\n",
      "    weighted avg       0.82      0.79      0.79       380\n",
      "\n"
     ]
    },
    {
     "name": "stderr",
     "output_type": "stream",
     "text": [
      "Training Epochs:  14%|█▍        | 283/2000 [00:20<01:45, 16.31it/s]"
     ]
    },
    {
     "name": "stdout",
     "output_type": "stream",
     "text": [
      "Epoch 280/2000, Loss: 0.1242\n",
      "Test Accuracy at Epoch 280: 80.00%\n",
      "Test F1-score at Epoch 280: 0.8182\n",
      "Classification Report at Epoch 280:\n",
      "                  precision    recall  f1-score   support\n",
      "\n",
      "    infringement       0.90      0.69      0.78       194\n",
      "non_infringement       0.74      0.92      0.82       186\n",
      "\n",
      "        accuracy                           0.80       380\n",
      "       macro avg       0.82      0.80      0.80       380\n",
      "    weighted avg       0.82      0.80      0.80       380\n",
      "\n"
     ]
    },
    {
     "name": "stderr",
     "output_type": "stream",
     "text": [
      "Training Epochs:  15%|█▍        | 291/2000 [00:21<01:27, 19.59it/s]"
     ]
    },
    {
     "name": "stdout",
     "output_type": "stream",
     "text": [
      "Epoch 290/2000, Loss: 0.1090\n",
      "Test Accuracy at Epoch 290: 80.00%\n",
      "Test F1-score at Epoch 290: 0.8182\n",
      "Classification Report at Epoch 290:\n",
      "                  precision    recall  f1-score   support\n",
      "\n",
      "    infringement       0.90      0.69      0.78       194\n",
      "non_infringement       0.74      0.92      0.82       186\n",
      "\n",
      "        accuracy                           0.80       380\n",
      "       macro avg       0.82      0.80      0.80       380\n",
      "    weighted avg       0.82      0.80      0.80       380\n",
      "\n"
     ]
    },
    {
     "name": "stderr",
     "output_type": "stream",
     "text": [
      "Training Epochs:  15%|█▌        | 303/2000 [00:21<01:20, 21.20it/s]"
     ]
    },
    {
     "name": "stdout",
     "output_type": "stream",
     "text": [
      "Epoch 300/2000, Loss: 0.1059\n",
      "Test Accuracy at Epoch 300: 79.74%\n",
      "Test F1-score at Epoch 300: 0.8171\n",
      "Classification Report at Epoch 300:\n",
      "                  precision    recall  f1-score   support\n",
      "\n",
      "    infringement       0.90      0.68      0.77       194\n",
      "non_infringement       0.73      0.92      0.82       186\n",
      "\n",
      "        accuracy                           0.80       380\n",
      "       macro avg       0.82      0.80      0.79       380\n",
      "    weighted avg       0.82      0.80      0.79       380\n",
      "\n"
     ]
    },
    {
     "name": "stderr",
     "output_type": "stream",
     "text": [
      "Training Epochs:  16%|█▌        | 314/2000 [00:22<01:04, 25.98it/s]"
     ]
    },
    {
     "name": "stdout",
     "output_type": "stream",
     "text": [
      "Epoch 310/2000, Loss: 0.1033\n",
      "Test Accuracy at Epoch 310: 80.00%\n",
      "Test F1-score at Epoch 310: 0.8182\n",
      "Classification Report at Epoch 310:\n",
      "                  precision    recall  f1-score   support\n",
      "\n",
      "    infringement       0.90      0.69      0.78       194\n",
      "non_infringement       0.74      0.92      0.82       186\n",
      "\n",
      "        accuracy                           0.80       380\n",
      "       macro avg       0.82      0.80      0.80       380\n",
      "    weighted avg       0.82      0.80      0.80       380\n",
      "\n"
     ]
    },
    {
     "name": "stderr",
     "output_type": "stream",
     "text": [
      "Training Epochs:  16%|█▌        | 321/2000 [00:22<00:59, 28.19it/s]"
     ]
    },
    {
     "name": "stdout",
     "output_type": "stream",
     "text": [
      "Epoch 320/2000, Loss: 0.1017\n",
      "Test Accuracy at Epoch 320: 80.00%\n",
      "Test F1-score at Epoch 320: 0.8182\n",
      "Classification Report at Epoch 320:\n",
      "                  precision    recall  f1-score   support\n",
      "\n",
      "    infringement       0.90      0.69      0.78       194\n",
      "non_infringement       0.74      0.92      0.82       186\n",
      "\n",
      "        accuracy                           0.80       380\n",
      "       macro avg       0.82      0.80      0.80       380\n",
      "    weighted avg       0.82      0.80      0.80       380\n",
      "\n"
     ]
    },
    {
     "name": "stderr",
     "output_type": "stream",
     "text": [
      "Training Epochs:  17%|█▋        | 332/2000 [00:22<01:03, 26.31it/s]"
     ]
    },
    {
     "name": "stdout",
     "output_type": "stream",
     "text": [
      "Epoch 330/2000, Loss: 0.1000\n",
      "Test Accuracy at Epoch 330: 79.47%\n",
      "Test F1-score at Epoch 330: 0.8143\n",
      "Classification Report at Epoch 330:\n",
      "                  precision    recall  f1-score   support\n",
      "\n",
      "    infringement       0.90      0.68      0.77       194\n",
      "non_infringement       0.73      0.92      0.81       186\n",
      "\n",
      "        accuracy                           0.79       380\n",
      "       macro avg       0.81      0.80      0.79       380\n",
      "    weighted avg       0.82      0.79      0.79       380\n",
      "\n"
     ]
    },
    {
     "name": "stderr",
     "output_type": "stream",
     "text": [
      "Training Epochs:  17%|█▋        | 341/2000 [00:23<01:27, 18.91it/s]"
     ]
    },
    {
     "name": "stdout",
     "output_type": "stream",
     "text": [
      "Epoch 340/2000, Loss: 0.1300\n",
      "Test Accuracy at Epoch 340: 79.47%\n",
      "Test F1-score at Epoch 340: 0.8169\n",
      "Classification Report at Epoch 340:\n",
      "                  precision    recall  f1-score   support\n",
      "\n",
      "    infringement       0.91      0.66      0.77       194\n",
      "non_infringement       0.72      0.94      0.82       186\n",
      "\n",
      "        accuracy                           0.79       380\n",
      "       macro avg       0.82      0.80      0.79       380\n",
      "    weighted avg       0.82      0.79      0.79       380\n",
      "\n"
     ]
    },
    {
     "name": "stderr",
     "output_type": "stream",
     "text": [
      "Training Epochs:  18%|█▊        | 353/2000 [00:23<01:13, 22.56it/s]"
     ]
    },
    {
     "name": "stdout",
     "output_type": "stream",
     "text": [
      "Epoch 350/2000, Loss: 0.1027\n",
      "Test Accuracy at Epoch 350: 79.74%\n",
      "Test F1-score at Epoch 350: 0.8162\n",
      "Classification Report at Epoch 350:\n",
      "                  precision    recall  f1-score   support\n",
      "\n",
      "    infringement       0.90      0.68      0.77       194\n",
      "non_infringement       0.73      0.92      0.82       186\n",
      "\n",
      "        accuracy                           0.80       380\n",
      "       macro avg       0.82      0.80      0.80       380\n",
      "    weighted avg       0.82      0.80      0.79       380\n",
      "\n"
     ]
    },
    {
     "name": "stderr",
     "output_type": "stream",
     "text": [
      "Training Epochs:  18%|█▊        | 364/2000 [00:24<01:03, 25.57it/s]"
     ]
    },
    {
     "name": "stdout",
     "output_type": "stream",
     "text": [
      "Epoch 360/2000, Loss: 0.0973\n",
      "Test Accuracy at Epoch 360: 80.00%\n",
      "Test F1-score at Epoch 360: 0.8182\n",
      "Classification Report at Epoch 360:\n",
      "                  precision    recall  f1-score   support\n",
      "\n",
      "    infringement       0.90      0.69      0.78       194\n",
      "non_infringement       0.74      0.92      0.82       186\n",
      "\n",
      "        accuracy                           0.80       380\n",
      "       macro avg       0.82      0.80      0.80       380\n",
      "    weighted avg       0.82      0.80      0.80       380\n",
      "\n"
     ]
    },
    {
     "name": "stderr",
     "output_type": "stream",
     "text": [
      "Training Epochs:  19%|█▊        | 371/2000 [00:24<01:10, 23.27it/s]"
     ]
    },
    {
     "name": "stdout",
     "output_type": "stream",
     "text": [
      "Epoch 370/2000, Loss: 0.0957\n",
      "Test Accuracy at Epoch 370: 80.00%\n",
      "Test F1-score at Epoch 370: 0.8182\n",
      "Classification Report at Epoch 370:\n",
      "                  precision    recall  f1-score   support\n",
      "\n",
      "    infringement       0.90      0.69      0.78       194\n",
      "non_infringement       0.74      0.92      0.82       186\n",
      "\n",
      "        accuracy                           0.80       380\n",
      "       macro avg       0.82      0.80      0.80       380\n",
      "    weighted avg       0.82      0.80      0.80       380\n",
      "\n"
     ]
    },
    {
     "name": "stderr",
     "output_type": "stream",
     "text": [
      "Training Epochs:  19%|█▉        | 384/2000 [00:25<01:07, 23.96it/s]"
     ]
    },
    {
     "name": "stdout",
     "output_type": "stream",
     "text": [
      "Epoch 380/2000, Loss: 0.0932\n",
      "Test Accuracy at Epoch 380: 79.47%\n",
      "Test F1-score at Epoch 380: 0.8152\n",
      "Classification Report at Epoch 380:\n",
      "                  precision    recall  f1-score   support\n",
      "\n",
      "    infringement       0.90      0.67      0.77       194\n",
      "non_infringement       0.73      0.92      0.82       186\n",
      "\n",
      "        accuracy                           0.79       380\n",
      "       macro avg       0.82      0.80      0.79       380\n",
      "    weighted avg       0.82      0.79      0.79       380\n",
      "\n"
     ]
    },
    {
     "name": "stderr",
     "output_type": "stream",
     "text": [
      "Training Epochs:  20%|█▉        | 395/2000 [00:25<01:01, 26.08it/s]"
     ]
    },
    {
     "name": "stdout",
     "output_type": "stream",
     "text": [
      "Epoch 390/2000, Loss: 0.1035\n",
      "Test Accuracy at Epoch 390: 78.95%\n",
      "Test F1-score at Epoch 390: 0.8131\n",
      "Classification Report at Epoch 390:\n",
      "                  precision    recall  f1-score   support\n",
      "\n",
      "    infringement       0.91      0.65      0.76       194\n",
      "non_infringement       0.72      0.94      0.81       186\n",
      "\n",
      "        accuracy                           0.79       380\n",
      "       macro avg       0.82      0.79      0.79       380\n",
      "    weighted avg       0.82      0.79      0.79       380\n",
      "\n"
     ]
    },
    {
     "name": "stderr",
     "output_type": "stream",
     "text": [
      "Training Epochs:  20%|██        | 402/2000 [00:25<01:06, 23.91it/s]"
     ]
    },
    {
     "name": "stdout",
     "output_type": "stream",
     "text": [
      "Epoch 400/2000, Loss: 0.1025\n",
      "Test Accuracy at Epoch 400: 79.21%\n",
      "Test F1-score at Epoch 400: 0.8030\n",
      "Classification Report at Epoch 400:\n",
      "                  precision    recall  f1-score   support\n",
      "\n",
      "    infringement       0.85      0.72      0.78       194\n",
      "non_infringement       0.75      0.87      0.80       186\n",
      "\n",
      "        accuracy                           0.79       380\n",
      "       macro avg       0.80      0.79      0.79       380\n",
      "    weighted avg       0.80      0.79      0.79       380\n",
      "\n"
     ]
    },
    {
     "name": "stderr",
     "output_type": "stream",
     "text": [
      "Training Epochs:  21%|██        | 415/2000 [00:26<00:59, 26.80it/s]"
     ]
    },
    {
     "name": "stdout",
     "output_type": "stream",
     "text": [
      "Epoch 410/2000, Loss: 0.0959\n",
      "Test Accuracy at Epoch 410: 79.74%\n",
      "Test F1-score at Epoch 410: 0.8171\n",
      "Classification Report at Epoch 410:\n",
      "                  precision    recall  f1-score   support\n",
      "\n",
      "    infringement       0.90      0.68      0.77       194\n",
      "non_infringement       0.73      0.92      0.82       186\n",
      "\n",
      "        accuracy                           0.80       380\n",
      "       macro avg       0.82      0.80      0.79       380\n",
      "    weighted avg       0.82      0.80      0.79       380\n",
      "\n"
     ]
    },
    {
     "name": "stderr",
     "output_type": "stream",
     "text": [
      "Training Epochs:  21%|██        | 423/2000 [00:26<00:57, 27.20it/s]"
     ]
    },
    {
     "name": "stdout",
     "output_type": "stream",
     "text": [
      "Epoch 420/2000, Loss: 0.0936\n",
      "Test Accuracy at Epoch 420: 79.47%\n",
      "Test F1-score at Epoch 420: 0.8069\n",
      "Classification Report at Epoch 420:\n",
      "                  precision    recall  f1-score   support\n",
      "\n",
      "    infringement       0.86      0.72      0.78       194\n",
      "non_infringement       0.75      0.88      0.81       186\n",
      "\n",
      "        accuracy                           0.79       380\n",
      "       macro avg       0.80      0.80      0.79       380\n",
      "    weighted avg       0.80      0.79      0.79       380\n",
      "\n"
     ]
    },
    {
     "name": "stderr",
     "output_type": "stream",
     "text": [
      "Training Epochs:  22%|██▏       | 431/2000 [00:26<00:50, 30.92it/s]"
     ]
    },
    {
     "name": "stdout",
     "output_type": "stream",
     "text": [
      "Epoch 430/2000, Loss: 0.0878\n",
      "Test Accuracy at Epoch 430: 79.74%\n",
      "Test F1-score at Epoch 430: 0.8162\n",
      "Classification Report at Epoch 430:\n",
      "                  precision    recall  f1-score   support\n",
      "\n",
      "    infringement       0.90      0.68      0.77       194\n",
      "non_infringement       0.73      0.92      0.82       186\n",
      "\n",
      "        accuracy                           0.80       380\n",
      "       macro avg       0.82      0.80      0.80       380\n",
      "    weighted avg       0.82      0.80      0.79       380\n",
      "\n"
     ]
    },
    {
     "name": "stderr",
     "output_type": "stream",
     "text": [
      "Training Epochs:  22%|██▏       | 443/2000 [00:27<00:53, 29.30it/s]"
     ]
    },
    {
     "name": "stdout",
     "output_type": "stream",
     "text": [
      "Epoch 440/2000, Loss: 0.0916\n",
      "Test Accuracy at Epoch 440: 79.21%\n",
      "Test F1-score at Epoch 440: 0.8059\n",
      "Classification Report at Epoch 440:\n",
      "                  precision    recall  f1-score   support\n",
      "\n",
      "    infringement       0.86      0.71      0.78       194\n",
      "non_infringement       0.74      0.88      0.81       186\n",
      "\n",
      "        accuracy                           0.79       380\n",
      "       macro avg       0.80      0.79      0.79       380\n",
      "    weighted avg       0.80      0.79      0.79       380\n",
      "\n"
     ]
    },
    {
     "name": "stderr",
     "output_type": "stream",
     "text": [
      "Training Epochs:  23%|██▎       | 454/2000 [00:27<00:51, 30.17it/s]"
     ]
    },
    {
     "name": "stdout",
     "output_type": "stream",
     "text": [
      "Epoch 450/2000, Loss: 0.0908\n",
      "Test Accuracy at Epoch 450: 78.95%\n",
      "Test F1-score at Epoch 450: 0.8077\n",
      "Classification Report at Epoch 450:\n",
      "                  precision    recall  f1-score   support\n",
      "\n",
      "    infringement       0.88      0.68      0.77       194\n",
      "non_infringement       0.73      0.90      0.81       186\n",
      "\n",
      "        accuracy                           0.79       380\n",
      "       macro avg       0.81      0.79      0.79       380\n",
      "    weighted avg       0.81      0.79      0.79       380\n",
      "\n"
     ]
    },
    {
     "name": "stderr",
     "output_type": "stream",
     "text": [
      "Training Epochs:  23%|██▎       | 467/2000 [00:27<00:44, 34.24it/s]"
     ]
    },
    {
     "name": "stdout",
     "output_type": "stream",
     "text": [
      "Epoch 460/2000, Loss: 0.0874\n",
      "Test Accuracy at Epoch 460: 78.95%\n",
      "Test F1-score at Epoch 460: 0.8077\n",
      "Classification Report at Epoch 460:\n",
      "                  precision    recall  f1-score   support\n",
      "\n",
      "    infringement       0.88      0.68      0.77       194\n",
      "non_infringement       0.73      0.90      0.81       186\n",
      "\n",
      "        accuracy                           0.79       380\n",
      "       macro avg       0.81      0.79      0.79       380\n",
      "    weighted avg       0.81      0.79      0.79       380\n",
      "\n"
     ]
    },
    {
     "name": "stderr",
     "output_type": "stream",
     "text": [
      "Training Epochs:  24%|██▍       | 476/2000 [00:28<00:45, 33.40it/s]"
     ]
    },
    {
     "name": "stdout",
     "output_type": "stream",
     "text": [
      "Epoch 470/2000, Loss: 0.0860\n",
      "Test Accuracy at Epoch 470: 78.68%\n",
      "Test F1-score at Epoch 470: 0.8010\n",
      "Classification Report at Epoch 470:\n",
      "                  precision    recall  f1-score   support\n",
      "\n",
      "    infringement       0.86      0.70      0.77       194\n",
      "non_infringement       0.74      0.88      0.80       186\n",
      "\n",
      "        accuracy                           0.79       380\n",
      "       macro avg       0.80      0.79      0.79       380\n",
      "    weighted avg       0.80      0.79      0.79       380\n",
      "\n"
     ]
    },
    {
     "name": "stderr",
     "output_type": "stream",
     "text": [
      "Training Epochs:  24%|██▍       | 484/2000 [00:28<00:51, 29.68it/s]"
     ]
    },
    {
     "name": "stdout",
     "output_type": "stream",
     "text": [
      "Epoch 480/2000, Loss: 0.0837\n",
      "Test Accuracy at Epoch 480: 78.95%\n",
      "Test F1-score at Epoch 480: 0.8068\n",
      "Classification Report at Epoch 480:\n",
      "                  precision    recall  f1-score   support\n",
      "\n",
      "    infringement       0.88      0.69      0.77       194\n",
      "non_infringement       0.73      0.90      0.81       186\n",
      "\n",
      "        accuracy                           0.79       380\n",
      "       macro avg       0.80      0.79      0.79       380\n",
      "    weighted avg       0.81      0.79      0.79       380\n",
      "\n"
     ]
    },
    {
     "name": "stderr",
     "output_type": "stream",
     "text": [
      "Training Epochs:  25%|██▍       | 492/2000 [00:28<00:51, 29.41it/s]"
     ]
    },
    {
     "name": "stdout",
     "output_type": "stream",
     "text": [
      "Epoch 490/2000, Loss: 0.0858\n",
      "Test Accuracy at Epoch 490: 79.47%\n",
      "Test F1-score at Epoch 490: 0.8079\n",
      "Classification Report at Epoch 490:\n",
      "                  precision    recall  f1-score   support\n",
      "\n",
      "    infringement       0.86      0.71      0.78       194\n",
      "non_infringement       0.75      0.88      0.81       186\n",
      "\n",
      "        accuracy                           0.79       380\n",
      "       macro avg       0.80      0.80      0.79       380\n",
      "    weighted avg       0.81      0.79      0.79       380\n",
      "\n"
     ]
    },
    {
     "name": "stderr",
     "output_type": "stream",
     "text": [
      "Training Epochs:  25%|██▌       | 504/2000 [00:29<00:57, 26.23it/s]"
     ]
    },
    {
     "name": "stdout",
     "output_type": "stream",
     "text": [
      "Epoch 500/2000, Loss: 0.0861\n",
      "Test Accuracy at Epoch 500: 79.74%\n",
      "Test F1-score at Epoch 500: 0.8127\n",
      "Classification Report at Epoch 500:\n",
      "                  precision    recall  f1-score   support\n",
      "\n",
      "    infringement       0.88      0.70      0.78       194\n",
      "non_infringement       0.74      0.90      0.81       186\n",
      "\n",
      "        accuracy                           0.80       380\n",
      "       macro avg       0.81      0.80      0.80       380\n",
      "    weighted avg       0.81      0.80      0.80       380\n",
      "\n"
     ]
    },
    {
     "name": "stderr",
     "output_type": "stream",
     "text": [
      "Training Epochs:  26%|██▌       | 511/2000 [00:29<00:53, 28.09it/s]"
     ]
    },
    {
     "name": "stdout",
     "output_type": "stream",
     "text": [
      "Epoch 510/2000, Loss: 0.0852\n",
      "Test Accuracy at Epoch 510: 79.47%\n",
      "Test F1-score at Epoch 510: 0.8116\n",
      "Classification Report at Epoch 510:\n",
      "                  precision    recall  f1-score   support\n",
      "\n",
      "    infringement       0.88      0.69      0.77       194\n",
      "non_infringement       0.74      0.90      0.81       186\n",
      "\n",
      "        accuracy                           0.79       380\n",
      "       macro avg       0.81      0.80      0.79       380\n",
      "    weighted avg       0.81      0.79      0.79       380\n",
      "\n"
     ]
    },
    {
     "name": "stderr",
     "output_type": "stream",
     "text": [
      "Training Epochs:  26%|██▌       | 523/2000 [00:29<00:50, 29.18it/s]"
     ]
    },
    {
     "name": "stdout",
     "output_type": "stream",
     "text": [
      "Epoch 520/2000, Loss: 0.0816\n",
      "Test Accuracy at Epoch 520: 79.74%\n",
      "Test F1-score at Epoch 520: 0.8117\n",
      "Classification Report at Epoch 520:\n",
      "                  precision    recall  f1-score   support\n",
      "\n",
      "    infringement       0.87      0.71      0.78       194\n",
      "non_infringement       0.74      0.89      0.81       186\n",
      "\n",
      "        accuracy                           0.80       380\n",
      "       macro avg       0.81      0.80      0.80       380\n",
      "    weighted avg       0.81      0.80      0.80       380\n",
      "\n"
     ]
    },
    {
     "name": "stderr",
     "output_type": "stream",
     "text": [
      "Training Epochs:  27%|██▋       | 533/2000 [00:30<00:55, 26.20it/s]"
     ]
    },
    {
     "name": "stdout",
     "output_type": "stream",
     "text": [
      "Epoch 530/2000, Loss: 0.0813\n",
      "Test Accuracy at Epoch 530: 79.47%\n",
      "Test F1-score at Epoch 530: 0.8098\n",
      "Classification Report at Epoch 530:\n",
      "                  precision    recall  f1-score   support\n",
      "\n",
      "    infringement       0.87      0.70      0.78       194\n",
      "non_infringement       0.74      0.89      0.81       186\n",
      "\n",
      "        accuracy                           0.79       380\n",
      "       macro avg       0.81      0.80      0.79       380\n",
      "    weighted avg       0.81      0.79      0.79       380\n",
      "\n"
     ]
    },
    {
     "name": "stderr",
     "output_type": "stream",
     "text": [
      "Training Epochs:  27%|██▋       | 544/2000 [00:30<00:48, 29.78it/s]"
     ]
    },
    {
     "name": "stdout",
     "output_type": "stream",
     "text": [
      "Epoch 540/2000, Loss: 0.0833\n",
      "Test Accuracy at Epoch 540: 79.47%\n",
      "Test F1-score at Epoch 540: 0.8125\n",
      "Classification Report at Epoch 540:\n",
      "                  precision    recall  f1-score   support\n",
      "\n",
      "    infringement       0.89      0.69      0.77       194\n",
      "non_infringement       0.73      0.91      0.81       186\n",
      "\n",
      "        accuracy                           0.79       380\n",
      "       macro avg       0.81      0.80      0.79       380\n",
      "    weighted avg       0.81      0.79      0.79       380\n",
      "\n"
     ]
    },
    {
     "name": "stderr",
     "output_type": "stream",
     "text": [
      "Training Epochs:  28%|██▊       | 557/2000 [00:31<00:43, 33.53it/s]"
     ]
    },
    {
     "name": "stdout",
     "output_type": "stream",
     "text": [
      "Epoch 550/2000, Loss: 0.0922\n",
      "Test Accuracy at Epoch 550: 79.21%\n",
      "Test F1-score at Epoch 550: 0.8049\n",
      "Classification Report at Epoch 550:\n",
      "                  precision    recall  f1-score   support\n",
      "\n",
      "    infringement       0.86      0.71      0.78       194\n",
      "non_infringement       0.74      0.88      0.80       186\n",
      "\n",
      "        accuracy                           0.79       380\n",
      "       macro avg       0.80      0.79      0.79       380\n",
      "    weighted avg       0.80      0.79      0.79       380\n",
      "\n"
     ]
    },
    {
     "name": "stderr",
     "output_type": "stream",
     "text": [
      "Training Epochs:  28%|██▊       | 561/2000 [00:31<00:49, 29.03it/s]"
     ]
    },
    {
     "name": "stdout",
     "output_type": "stream",
     "text": [
      "Epoch 560/2000, Loss: 0.0806\n",
      "Test Accuracy at Epoch 560: 79.21%\n",
      "Test F1-score at Epoch 560: 0.8049\n",
      "Classification Report at Epoch 560:\n",
      "                  precision    recall  f1-score   support\n",
      "\n",
      "    infringement       0.86      0.71      0.78       194\n",
      "non_infringement       0.74      0.88      0.80       186\n",
      "\n",
      "        accuracy                           0.79       380\n",
      "       macro avg       0.80      0.79      0.79       380\n",
      "    weighted avg       0.80      0.79      0.79       380\n",
      "\n"
     ]
    },
    {
     "name": "stderr",
     "output_type": "stream",
     "text": [
      "Training Epochs:  29%|██▊       | 573/2000 [00:31<00:54, 26.13it/s]"
     ]
    },
    {
     "name": "stdout",
     "output_type": "stream",
     "text": [
      "Epoch 570/2000, Loss: 0.0818\n",
      "Test Accuracy at Epoch 570: 79.47%\n",
      "Test F1-score at Epoch 570: 0.8098\n",
      "Classification Report at Epoch 570:\n",
      "                  precision    recall  f1-score   support\n",
      "\n",
      "    infringement       0.87      0.70      0.78       194\n",
      "non_infringement       0.74      0.89      0.81       186\n",
      "\n",
      "        accuracy                           0.79       380\n",
      "       macro avg       0.81      0.80      0.79       380\n",
      "    weighted avg       0.81      0.79      0.79       380\n",
      "\n"
     ]
    },
    {
     "name": "stderr",
     "output_type": "stream",
     "text": [
      "Training Epochs:  29%|██▉       | 581/2000 [00:32<00:47, 29.60it/s]"
     ]
    },
    {
     "name": "stdout",
     "output_type": "stream",
     "text": [
      "Epoch 580/2000, Loss: 0.0796\n",
      "Test Accuracy at Epoch 580: 79.74%\n",
      "Test F1-score at Epoch 580: 0.8117\n",
      "Classification Report at Epoch 580:\n",
      "                  precision    recall  f1-score   support\n",
      "\n",
      "    infringement       0.87      0.71      0.78       194\n",
      "non_infringement       0.74      0.89      0.81       186\n",
      "\n",
      "        accuracy                           0.80       380\n",
      "       macro avg       0.81      0.80      0.80       380\n",
      "    weighted avg       0.81      0.80      0.80       380\n",
      "\n"
     ]
    },
    {
     "name": "stderr",
     "output_type": "stream",
     "text": [
      "Training Epochs:  30%|██▉       | 594/2000 [00:32<00:44, 31.90it/s]"
     ]
    },
    {
     "name": "stdout",
     "output_type": "stream",
     "text": [
      "Epoch 590/2000, Loss: 0.0820\n",
      "Test Accuracy at Epoch 590: 79.74%\n",
      "Test F1-score at Epoch 590: 0.8136\n",
      "Classification Report at Epoch 590:\n",
      "                  precision    recall  f1-score   support\n",
      "\n",
      "    infringement       0.88      0.70      0.78       194\n",
      "non_infringement       0.74      0.90      0.81       186\n",
      "\n",
      "        accuracy                           0.80       380\n",
      "       macro avg       0.81      0.80      0.80       380\n",
      "    weighted avg       0.81      0.80      0.80       380\n",
      "\n"
     ]
    },
    {
     "name": "stderr",
     "output_type": "stream",
     "text": [
      "Training Epochs:  30%|███       | 607/2000 [00:32<00:41, 33.36it/s]"
     ]
    },
    {
     "name": "stdout",
     "output_type": "stream",
     "text": [
      "Epoch 600/2000, Loss: 0.0791\n",
      "Test Accuracy at Epoch 600: 79.74%\n",
      "Test F1-score at Epoch 600: 0.8127\n",
      "Classification Report at Epoch 600:\n",
      "                  precision    recall  f1-score   support\n",
      "\n",
      "    infringement       0.88      0.70      0.78       194\n",
      "non_infringement       0.74      0.90      0.81       186\n",
      "\n",
      "        accuracy                           0.80       380\n",
      "       macro avg       0.81      0.80      0.80       380\n",
      "    weighted avg       0.81      0.80      0.80       380\n",
      "\n"
     ]
    },
    {
     "name": "stderr",
     "output_type": "stream",
     "text": [
      "Training Epochs:  31%|███       | 615/2000 [00:33<00:46, 29.53it/s]"
     ]
    },
    {
     "name": "stdout",
     "output_type": "stream",
     "text": [
      "Epoch 610/2000, Loss: 0.0843\n",
      "Test Accuracy at Epoch 610: 79.47%\n",
      "Test F1-score at Epoch 610: 0.8069\n",
      "Classification Report at Epoch 610:\n",
      "                  precision    recall  f1-score   support\n",
      "\n",
      "    infringement       0.86      0.72      0.78       194\n",
      "non_infringement       0.75      0.88      0.81       186\n",
      "\n",
      "        accuracy                           0.79       380\n",
      "       macro avg       0.80      0.80      0.79       380\n",
      "    weighted avg       0.80      0.79      0.79       380\n",
      "\n"
     ]
    },
    {
     "name": "stderr",
     "output_type": "stream",
     "text": [
      "Training Epochs:  31%|███       | 623/2000 [00:33<00:47, 28.99it/s]"
     ]
    },
    {
     "name": "stdout",
     "output_type": "stream",
     "text": [
      "Epoch 620/2000, Loss: 0.0839\n",
      "Test Accuracy at Epoch 620: 79.47%\n",
      "Test F1-score at Epoch 620: 0.8107\n",
      "Classification Report at Epoch 620:\n",
      "                  precision    recall  f1-score   support\n",
      "\n",
      "    infringement       0.88      0.70      0.78       194\n",
      "non_infringement       0.74      0.90      0.81       186\n",
      "\n",
      "        accuracy                           0.79       380\n",
      "       macro avg       0.81      0.80      0.79       380\n",
      "    weighted avg       0.81      0.79      0.79       380\n",
      "\n"
     ]
    },
    {
     "name": "stderr",
     "output_type": "stream",
     "text": [
      "Training Epochs:  32%|███▏      | 632/2000 [00:33<00:45, 29.85it/s]"
     ]
    },
    {
     "name": "stdout",
     "output_type": "stream",
     "text": [
      "Epoch 630/2000, Loss: 0.0806\n",
      "Test Accuracy at Epoch 630: 79.47%\n",
      "Test F1-score at Epoch 630: 0.8107\n",
      "Classification Report at Epoch 630:\n",
      "                  precision    recall  f1-score   support\n",
      "\n",
      "    infringement       0.88      0.70      0.78       194\n",
      "non_infringement       0.74      0.90      0.81       186\n",
      "\n",
      "        accuracy                           0.79       380\n",
      "       macro avg       0.81      0.80      0.79       380\n",
      "    weighted avg       0.81      0.79      0.79       380\n",
      "\n"
     ]
    },
    {
     "name": "stderr",
     "output_type": "stream",
     "text": [
      "Training Epochs:  32%|███▏      | 644/2000 [00:34<00:39, 34.70it/s]"
     ]
    },
    {
     "name": "stdout",
     "output_type": "stream",
     "text": [
      "Epoch 640/2000, Loss: 0.0789\n",
      "Test Accuracy at Epoch 640: 79.47%\n",
      "Test F1-score at Epoch 640: 0.8079\n",
      "Classification Report at Epoch 640:\n",
      "                  precision    recall  f1-score   support\n",
      "\n",
      "    infringement       0.86      0.71      0.78       194\n",
      "non_infringement       0.75      0.88      0.81       186\n",
      "\n",
      "        accuracy                           0.79       380\n",
      "       macro avg       0.80      0.80      0.79       380\n",
      "    weighted avg       0.81      0.79      0.79       380\n",
      "\n"
     ]
    },
    {
     "name": "stderr",
     "output_type": "stream",
     "text": [
      "Training Epochs:  33%|███▎      | 656/2000 [00:34<00:40, 33.08it/s]"
     ]
    },
    {
     "name": "stdout",
     "output_type": "stream",
     "text": [
      "Epoch 650/2000, Loss: 0.0777\n",
      "Test Accuracy at Epoch 650: 79.74%\n",
      "Test F1-score at Epoch 650: 0.8108\n",
      "Classification Report at Epoch 650:\n",
      "                  precision    recall  f1-score   support\n",
      "\n",
      "    infringement       0.87      0.71      0.78       194\n",
      "non_infringement       0.75      0.89      0.81       186\n",
      "\n",
      "        accuracy                           0.80       380\n",
      "       macro avg       0.81      0.80      0.80       380\n",
      "    weighted avg       0.81      0.80      0.80       380\n",
      "\n"
     ]
    },
    {
     "name": "stderr",
     "output_type": "stream",
     "text": [
      "Training Epochs:  33%|███▎      | 664/2000 [00:34<00:45, 29.31it/s]"
     ]
    },
    {
     "name": "stdout",
     "output_type": "stream",
     "text": [
      "Epoch 660/2000, Loss: 0.0792\n",
      "Test Accuracy at Epoch 660: 79.47%\n",
      "Test F1-score at Epoch 660: 0.8079\n",
      "Classification Report at Epoch 660:\n",
      "                  precision    recall  f1-score   support\n",
      "\n",
      "    infringement       0.86      0.71      0.78       194\n",
      "non_infringement       0.75      0.88      0.81       186\n",
      "\n",
      "        accuracy                           0.79       380\n",
      "       macro avg       0.80      0.80      0.79       380\n",
      "    weighted avg       0.81      0.79      0.79       380\n",
      "\n"
     ]
    },
    {
     "name": "stderr",
     "output_type": "stream",
     "text": [
      "Training Epochs:  34%|███▍      | 677/2000 [00:35<00:40, 32.66it/s]"
     ]
    },
    {
     "name": "stdout",
     "output_type": "stream",
     "text": [
      "Epoch 670/2000, Loss: 0.0816\n",
      "Test Accuracy at Epoch 670: 79.47%\n",
      "Test F1-score at Epoch 670: 0.8079\n",
      "Classification Report at Epoch 670:\n",
      "                  precision    recall  f1-score   support\n",
      "\n",
      "    infringement       0.86      0.71      0.78       194\n",
      "non_infringement       0.75      0.88      0.81       186\n",
      "\n",
      "        accuracy                           0.79       380\n",
      "       macro avg       0.80      0.80      0.79       380\n",
      "    weighted avg       0.81      0.79      0.79       380\n",
      "\n"
     ]
    },
    {
     "name": "stderr",
     "output_type": "stream",
     "text": [
      "Training Epochs:  34%|███▍      | 685/2000 [00:35<00:41, 31.93it/s]"
     ]
    },
    {
     "name": "stdout",
     "output_type": "stream",
     "text": [
      "Epoch 680/2000, Loss: 0.0777\n",
      "Test Accuracy at Epoch 680: 79.47%\n",
      "Test F1-score at Epoch 680: 0.8079\n",
      "Classification Report at Epoch 680:\n",
      "                  precision    recall  f1-score   support\n",
      "\n",
      "    infringement       0.86      0.71      0.78       194\n",
      "non_infringement       0.75      0.88      0.81       186\n",
      "\n",
      "        accuracy                           0.79       380\n",
      "       macro avg       0.80      0.80      0.79       380\n",
      "    weighted avg       0.81      0.79      0.79       380\n",
      "\n"
     ]
    },
    {
     "name": "stderr",
     "output_type": "stream",
     "text": [
      "Training Epochs:  35%|███▍      | 694/2000 [00:35<00:42, 30.43it/s]"
     ]
    },
    {
     "name": "stdout",
     "output_type": "stream",
     "text": [
      "Epoch 690/2000, Loss: 0.0835\n",
      "Test Accuracy at Epoch 690: 79.47%\n",
      "Test F1-score at Epoch 690: 0.8079\n",
      "Classification Report at Epoch 690:\n",
      "                  precision    recall  f1-score   support\n",
      "\n",
      "    infringement       0.86      0.71      0.78       194\n",
      "non_infringement       0.75      0.88      0.81       186\n",
      "\n",
      "        accuracy                           0.79       380\n",
      "       macro avg       0.80      0.80      0.79       380\n",
      "    weighted avg       0.81      0.79      0.79       380\n",
      "\n"
     ]
    },
    {
     "name": "stderr",
     "output_type": "stream",
     "text": [
      "Training Epochs:  35%|███▌      | 702/2000 [00:35<00:39, 32.67it/s]"
     ]
    },
    {
     "name": "stdout",
     "output_type": "stream",
     "text": [
      "Epoch 700/2000, Loss: 0.0772\n",
      "Test Accuracy at Epoch 700: 79.47%\n",
      "Test F1-score at Epoch 700: 0.8079\n",
      "Classification Report at Epoch 700:\n",
      "                  precision    recall  f1-score   support\n",
      "\n",
      "    infringement       0.86      0.71      0.78       194\n",
      "non_infringement       0.75      0.88      0.81       186\n",
      "\n",
      "        accuracy                           0.79       380\n",
      "       macro avg       0.80      0.80      0.79       380\n",
      "    weighted avg       0.81      0.79      0.79       380\n",
      "\n"
     ]
    },
    {
     "name": "stderr",
     "output_type": "stream",
     "text": [
      "Training Epochs:  36%|███▌      | 714/2000 [00:36<00:41, 31.18it/s]"
     ]
    },
    {
     "name": "stdout",
     "output_type": "stream",
     "text": [
      "Epoch 710/2000, Loss: 0.0779\n",
      "Test Accuracy at Epoch 710: 79.21%\n",
      "Test F1-score at Epoch 710: 0.8078\n",
      "Classification Report at Epoch 710:\n",
      "                  precision    recall  f1-score   support\n",
      "\n",
      "    infringement       0.87      0.70      0.77       194\n",
      "non_infringement       0.74      0.89      0.81       186\n",
      "\n",
      "        accuracy                           0.79       380\n",
      "       macro avg       0.80      0.79      0.79       380\n",
      "    weighted avg       0.81      0.79      0.79       380\n",
      "\n"
     ]
    },
    {
     "name": "stderr",
     "output_type": "stream",
     "text": [
      "Training Epochs:  36%|███▋      | 726/2000 [00:36<00:40, 31.71it/s]"
     ]
    },
    {
     "name": "stdout",
     "output_type": "stream",
     "text": [
      "Epoch 720/2000, Loss: 0.0780\n",
      "Test Accuracy at Epoch 720: 79.47%\n",
      "Test F1-score at Epoch 720: 0.8079\n",
      "Classification Report at Epoch 720:\n",
      "                  precision    recall  f1-score   support\n",
      "\n",
      "    infringement       0.86      0.71      0.78       194\n",
      "non_infringement       0.75      0.88      0.81       186\n",
      "\n",
      "        accuracy                           0.79       380\n",
      "       macro avg       0.80      0.80      0.79       380\n",
      "    weighted avg       0.81      0.79      0.79       380\n",
      "\n"
     ]
    },
    {
     "name": "stderr",
     "output_type": "stream",
     "text": [
      "Training Epochs:  37%|███▋      | 734/2000 [00:37<00:43, 28.88it/s]"
     ]
    },
    {
     "name": "stdout",
     "output_type": "stream",
     "text": [
      "Epoch 730/2000, Loss: 0.0767\n",
      "Test Accuracy at Epoch 730: 79.21%\n",
      "Test F1-score at Epoch 730: 0.8068\n",
      "Classification Report at Epoch 730:\n",
      "                  precision    recall  f1-score   support\n",
      "\n",
      "    infringement       0.87      0.70      0.77       194\n",
      "non_infringement       0.74      0.89      0.81       186\n",
      "\n",
      "        accuracy                           0.79       380\n",
      "       macro avg       0.80      0.79      0.79       380\n",
      "    weighted avg       0.80      0.79      0.79       380\n",
      "\n"
     ]
    },
    {
     "name": "stderr",
     "output_type": "stream",
     "text": [
      "Training Epochs:  37%|███▋      | 742/2000 [00:37<00:45, 27.44it/s]"
     ]
    },
    {
     "name": "stdout",
     "output_type": "stream",
     "text": [
      "Epoch 740/2000, Loss: 0.0807\n",
      "Test Accuracy at Epoch 740: 79.74%\n",
      "Test F1-score at Epoch 740: 0.8136\n",
      "Classification Report at Epoch 740:\n",
      "                  precision    recall  f1-score   support\n",
      "\n",
      "    infringement       0.88      0.70      0.78       194\n",
      "non_infringement       0.74      0.90      0.81       186\n",
      "\n",
      "        accuracy                           0.80       380\n",
      "       macro avg       0.81      0.80      0.80       380\n",
      "    weighted avg       0.81      0.80      0.80       380\n",
      "\n"
     ]
    },
    {
     "name": "stderr",
     "output_type": "stream",
     "text": [
      "Training Epochs:  38%|███▊      | 754/2000 [00:37<00:45, 27.55it/s]"
     ]
    },
    {
     "name": "stdout",
     "output_type": "stream",
     "text": [
      "Epoch 750/2000, Loss: 0.0764\n",
      "Test Accuracy at Epoch 750: 79.47%\n",
      "Test F1-score at Epoch 750: 0.8079\n",
      "Classification Report at Epoch 750:\n",
      "                  precision    recall  f1-score   support\n",
      "\n",
      "    infringement       0.86      0.71      0.78       194\n",
      "non_infringement       0.75      0.88      0.81       186\n",
      "\n",
      "        accuracy                           0.79       380\n",
      "       macro avg       0.80      0.80      0.79       380\n",
      "    weighted avg       0.81      0.79      0.79       380\n",
      "\n"
     ]
    },
    {
     "name": "stderr",
     "output_type": "stream",
     "text": [
      "Training Epochs:  38%|███▊      | 762/2000 [00:37<00:39, 31.04it/s]"
     ]
    },
    {
     "name": "stdout",
     "output_type": "stream",
     "text": [
      "Epoch 760/2000, Loss: 0.0865\n",
      "Test Accuracy at Epoch 760: 79.74%\n",
      "Test F1-score at Epoch 760: 0.8099\n",
      "Classification Report at Epoch 760:\n",
      "                  precision    recall  f1-score   support\n",
      "\n",
      "    infringement       0.86      0.72      0.78       194\n",
      "non_infringement       0.75      0.88      0.81       186\n",
      "\n",
      "        accuracy                           0.80       380\n",
      "       macro avg       0.81      0.80      0.80       380\n",
      "    weighted avg       0.81      0.80      0.80       380\n",
      "\n"
     ]
    },
    {
     "name": "stderr",
     "output_type": "stream",
     "text": [
      "Training Epochs:  39%|███▊      | 774/2000 [00:38<00:38, 31.47it/s]"
     ]
    },
    {
     "name": "stdout",
     "output_type": "stream",
     "text": [
      "Epoch 770/2000, Loss: 0.0767\n",
      "Test Accuracy at Epoch 770: 79.47%\n",
      "Test F1-score at Epoch 770: 0.8079\n",
      "Classification Report at Epoch 770:\n",
      "                  precision    recall  f1-score   support\n",
      "\n",
      "    infringement       0.86      0.71      0.78       194\n",
      "non_infringement       0.75      0.88      0.81       186\n",
      "\n",
      "        accuracy                           0.79       380\n",
      "       macro avg       0.80      0.80      0.79       380\n",
      "    weighted avg       0.81      0.79      0.79       380\n",
      "\n"
     ]
    },
    {
     "name": "stderr",
     "output_type": "stream",
     "text": [
      "Training Epochs:  39%|███▉      | 782/2000 [00:38<00:39, 30.87it/s]"
     ]
    },
    {
     "name": "stdout",
     "output_type": "stream",
     "text": [
      "Epoch 780/2000, Loss: 0.0780\n",
      "Test Accuracy at Epoch 780: 79.47%\n",
      "Test F1-score at Epoch 780: 0.8098\n",
      "Classification Report at Epoch 780:\n",
      "                  precision    recall  f1-score   support\n",
      "\n",
      "    infringement       0.87      0.70      0.78       194\n",
      "non_infringement       0.74      0.89      0.81       186\n",
      "\n",
      "        accuracy                           0.79       380\n",
      "       macro avg       0.81      0.80      0.79       380\n",
      "    weighted avg       0.81      0.79      0.79       380\n",
      "\n"
     ]
    },
    {
     "name": "stderr",
     "output_type": "stream",
     "text": [
      "Training Epochs:  40%|███▉      | 796/2000 [00:39<00:41, 29.26it/s]"
     ]
    },
    {
     "name": "stdout",
     "output_type": "stream",
     "text": [
      "Epoch 790/2000, Loss: 0.0775\n",
      "Test Accuracy at Epoch 790: 79.47%\n",
      "Test F1-score at Epoch 790: 0.8079\n",
      "Classification Report at Epoch 790:\n",
      "                  precision    recall  f1-score   support\n",
      "\n",
      "    infringement       0.86      0.71      0.78       194\n",
      "non_infringement       0.75      0.88      0.81       186\n",
      "\n",
      "        accuracy                           0.79       380\n",
      "       macro avg       0.80      0.80      0.79       380\n",
      "    weighted avg       0.81      0.79      0.79       380\n",
      "\n"
     ]
    },
    {
     "name": "stderr",
     "output_type": "stream",
     "text": [
      "Training Epochs:  40%|████      | 803/2000 [00:39<00:42, 28.35it/s]"
     ]
    },
    {
     "name": "stdout",
     "output_type": "stream",
     "text": [
      "Epoch 800/2000, Loss: 0.0769\n",
      "Test Accuracy at Epoch 800: 79.47%\n",
      "Test F1-score at Epoch 800: 0.8098\n",
      "Classification Report at Epoch 800:\n",
      "                  precision    recall  f1-score   support\n",
      "\n",
      "    infringement       0.87      0.70      0.78       194\n",
      "non_infringement       0.74      0.89      0.81       186\n",
      "\n",
      "        accuracy                           0.79       380\n",
      "       macro avg       0.81      0.80      0.79       380\n",
      "    weighted avg       0.81      0.79      0.79       380\n",
      "\n"
     ]
    },
    {
     "name": "stderr",
     "output_type": "stream",
     "text": [
      "Training Epochs:  41%|████      | 812/2000 [00:39<00:40, 29.07it/s]"
     ]
    },
    {
     "name": "stdout",
     "output_type": "stream",
     "text": [
      "Epoch 810/2000, Loss: 0.0766\n",
      "Test Accuracy at Epoch 810: 79.47%\n",
      "Test F1-score at Epoch 810: 0.8098\n",
      "Classification Report at Epoch 810:\n",
      "                  precision    recall  f1-score   support\n",
      "\n",
      "    infringement       0.87      0.70      0.78       194\n",
      "non_infringement       0.74      0.89      0.81       186\n",
      "\n",
      "        accuracy                           0.79       380\n",
      "       macro avg       0.81      0.80      0.79       380\n",
      "    weighted avg       0.81      0.79      0.79       380\n",
      "\n"
     ]
    },
    {
     "name": "stderr",
     "output_type": "stream",
     "text": [
      "Training Epochs:  41%|████      | 821/2000 [00:39<00:34, 33.71it/s]"
     ]
    },
    {
     "name": "stdout",
     "output_type": "stream",
     "text": [
      "Epoch 820/2000, Loss: 0.0835\n",
      "Test Accuracy at Epoch 820: 80.00%\n",
      "Test F1-score at Epoch 820: 0.8155\n",
      "Classification Report at Epoch 820:\n",
      "                  precision    recall  f1-score   support\n",
      "\n",
      "    infringement       0.88      0.70      0.78       194\n",
      "non_infringement       0.74      0.90      0.82       186\n",
      "\n",
      "        accuracy                           0.80       380\n",
      "       macro avg       0.81      0.80      0.80       380\n",
      "    weighted avg       0.81      0.80      0.80       380\n",
      "\n"
     ]
    },
    {
     "name": "stderr",
     "output_type": "stream",
     "text": [
      "Training Epochs:  42%|████▏     | 834/2000 [00:40<00:35, 32.94it/s]"
     ]
    },
    {
     "name": "stdout",
     "output_type": "stream",
     "text": [
      "Epoch 830/2000, Loss: 0.0846\n",
      "Test Accuracy at Epoch 830: 80.00%\n",
      "Test F1-score at Epoch 830: 0.8119\n",
      "Classification Report at Epoch 830:\n",
      "                  precision    recall  f1-score   support\n",
      "\n",
      "    infringement       0.86      0.72      0.79       194\n",
      "non_infringement       0.75      0.88      0.81       186\n",
      "\n",
      "        accuracy                           0.80       380\n",
      "       macro avg       0.81      0.80      0.80       380\n",
      "    weighted avg       0.81      0.80      0.80       380\n",
      "\n"
     ]
    },
    {
     "name": "stderr",
     "output_type": "stream",
     "text": [
      "Training Epochs:  42%|████▏     | 847/2000 [00:40<00:33, 34.79it/s]"
     ]
    },
    {
     "name": "stdout",
     "output_type": "stream",
     "text": [
      "Epoch 840/2000, Loss: 0.0772\n",
      "Test Accuracy at Epoch 840: 80.26%\n",
      "Test F1-score at Epoch 840: 0.8157\n",
      "Classification Report at Epoch 840:\n",
      "                  precision    recall  f1-score   support\n",
      "\n",
      "    infringement       0.87      0.72      0.79       194\n",
      "non_infringement       0.75      0.89      0.82       186\n",
      "\n",
      "        accuracy                           0.80       380\n",
      "       macro avg       0.81      0.80      0.80       380\n",
      "    weighted avg       0.81      0.80      0.80       380\n",
      "\n"
     ]
    },
    {
     "name": "stderr",
     "output_type": "stream",
     "text": [
      "Training Epochs:  43%|████▎     | 855/2000 [00:41<00:34, 32.90it/s]"
     ]
    },
    {
     "name": "stdout",
     "output_type": "stream",
     "text": [
      "Epoch 850/2000, Loss: 0.0759\n",
      "Test Accuracy at Epoch 850: 79.47%\n",
      "Test F1-score at Epoch 850: 0.8098\n",
      "Classification Report at Epoch 850:\n",
      "                  precision    recall  f1-score   support\n",
      "\n",
      "    infringement       0.87      0.70      0.78       194\n",
      "non_infringement       0.74      0.89      0.81       186\n",
      "\n",
      "        accuracy                           0.79       380\n",
      "       macro avg       0.81      0.80      0.79       380\n",
      "    weighted avg       0.81      0.79      0.79       380\n",
      "\n"
     ]
    },
    {
     "name": "stderr",
     "output_type": "stream",
     "text": [
      "Training Epochs:  43%|████▎     | 863/2000 [00:41<00:32, 35.09it/s]"
     ]
    },
    {
     "name": "stdout",
     "output_type": "stream",
     "text": [
      "Epoch 860/2000, Loss: 0.0759\n",
      "Test Accuracy at Epoch 860: 80.26%\n",
      "Test F1-score at Epoch 860: 0.8157\n",
      "Classification Report at Epoch 860:\n",
      "                  precision    recall  f1-score   support\n",
      "\n",
      "    infringement       0.87      0.72      0.79       194\n",
      "non_infringement       0.75      0.89      0.82       186\n",
      "\n",
      "        accuracy                           0.80       380\n",
      "       macro avg       0.81      0.80      0.80       380\n",
      "    weighted avg       0.81      0.80      0.80       380\n",
      "\n"
     ]
    },
    {
     "name": "stderr",
     "output_type": "stream",
     "text": [
      "Training Epochs:  44%|████▍     | 875/2000 [00:41<00:32, 34.32it/s]"
     ]
    },
    {
     "name": "stdout",
     "output_type": "stream",
     "text": [
      "Epoch 870/2000, Loss: 0.0760\n",
      "Test Accuracy at Epoch 870: 80.00%\n",
      "Test F1-score at Epoch 870: 0.8128\n",
      "Classification Report at Epoch 870:\n",
      "                  precision    recall  f1-score   support\n",
      "\n",
      "    infringement       0.87      0.72      0.79       194\n",
      "non_infringement       0.75      0.89      0.81       186\n",
      "\n",
      "        accuracy                           0.80       380\n",
      "       macro avg       0.81      0.80      0.80       380\n",
      "    weighted avg       0.81      0.80      0.80       380\n",
      "\n"
     ]
    },
    {
     "name": "stderr",
     "output_type": "stream",
     "text": [
      "Training Epochs:  44%|████▍     | 883/2000 [00:42<00:56, 19.89it/s]"
     ]
    },
    {
     "name": "stdout",
     "output_type": "stream",
     "text": [
      "Epoch 880/2000, Loss: 0.0757\n",
      "Test Accuracy at Epoch 880: 80.00%\n",
      "Test F1-score at Epoch 880: 0.8137\n",
      "Classification Report at Epoch 880:\n",
      "                  precision    recall  f1-score   support\n",
      "\n",
      "    infringement       0.87      0.71      0.78       194\n",
      "non_infringement       0.75      0.89      0.81       186\n",
      "\n",
      "        accuracy                           0.80       380\n",
      "       macro avg       0.81      0.80      0.80       380\n",
      "    weighted avg       0.81      0.80      0.80       380\n",
      "\n"
     ]
    },
    {
     "name": "stderr",
     "output_type": "stream",
     "text": [
      "Training Epochs:  45%|████▍     | 895/2000 [00:42<00:42, 26.17it/s]"
     ]
    },
    {
     "name": "stdout",
     "output_type": "stream",
     "text": [
      "Epoch 890/2000, Loss: 0.0880\n",
      "Test Accuracy at Epoch 890: 80.00%\n",
      "Test F1-score at Epoch 890: 0.8155\n",
      "Classification Report at Epoch 890:\n",
      "                  precision    recall  f1-score   support\n",
      "\n",
      "    infringement       0.88      0.70      0.78       194\n",
      "non_infringement       0.74      0.90      0.82       186\n",
      "\n",
      "        accuracy                           0.80       380\n",
      "       macro avg       0.81      0.80      0.80       380\n",
      "    weighted avg       0.81      0.80      0.80       380\n",
      "\n"
     ]
    },
    {
     "name": "stderr",
     "output_type": "stream",
     "text": [
      "Training Epochs:  45%|████▌     | 903/2000 [00:42<00:44, 24.44it/s]"
     ]
    },
    {
     "name": "stdout",
     "output_type": "stream",
     "text": [
      "Epoch 900/2000, Loss: 0.0770\n",
      "Test Accuracy at Epoch 900: 80.00%\n",
      "Test F1-score at Epoch 900: 0.8137\n",
      "Classification Report at Epoch 900:\n",
      "                  precision    recall  f1-score   support\n",
      "\n",
      "    infringement       0.87      0.71      0.78       194\n",
      "non_infringement       0.75      0.89      0.81       186\n",
      "\n",
      "        accuracy                           0.80       380\n",
      "       macro avg       0.81      0.80      0.80       380\n",
      "    weighted avg       0.81      0.80      0.80       380\n",
      "\n"
     ]
    },
    {
     "name": "stderr",
     "output_type": "stream",
     "text": [
      "Training Epochs:  46%|████▌     | 912/2000 [00:43<00:57, 18.87it/s]"
     ]
    },
    {
     "name": "stdout",
     "output_type": "stream",
     "text": [
      "Epoch 910/2000, Loss: 0.0771\n",
      "Test Accuracy at Epoch 910: 80.53%\n",
      "Test F1-score at Epoch 910: 0.8168\n",
      "Classification Report at Epoch 910:\n",
      "                  precision    recall  f1-score   support\n",
      "\n",
      "    infringement       0.87      0.73      0.79       194\n",
      "non_infringement       0.76      0.89      0.82       186\n",
      "\n",
      "        accuracy                           0.81       380\n",
      "       macro avg       0.81      0.81      0.80       380\n",
      "    weighted avg       0.81      0.81      0.80       380\n",
      "\n"
     ]
    },
    {
     "name": "stderr",
     "output_type": "stream",
     "text": [
      "Training Epochs:  46%|████▋     | 925/2000 [00:43<00:43, 24.53it/s]"
     ]
    },
    {
     "name": "stdout",
     "output_type": "stream",
     "text": [
      "Epoch 920/2000, Loss: 0.0768\n",
      "Test Accuracy at Epoch 920: 80.00%\n",
      "Test F1-score at Epoch 920: 0.8146\n",
      "Classification Report at Epoch 920:\n",
      "                  precision    recall  f1-score   support\n",
      "\n",
      "    infringement       0.88      0.71      0.78       194\n",
      "non_infringement       0.75      0.90      0.81       186\n",
      "\n",
      "        accuracy                           0.80       380\n",
      "       macro avg       0.81      0.80      0.80       380\n",
      "    weighted avg       0.81      0.80      0.80       380\n",
      "\n"
     ]
    },
    {
     "name": "stderr",
     "output_type": "stream",
     "text": [
      "Training Epochs:  47%|████▋     | 935/2000 [00:44<00:41, 25.57it/s]"
     ]
    },
    {
     "name": "stdout",
     "output_type": "stream",
     "text": [
      "Epoch 930/2000, Loss: 0.0761\n",
      "Test Accuracy at Epoch 930: 80.26%\n",
      "Test F1-score at Epoch 930: 0.8157\n",
      "Classification Report at Epoch 930:\n",
      "                  precision    recall  f1-score   support\n",
      "\n",
      "    infringement       0.87      0.72      0.79       194\n",
      "non_infringement       0.75      0.89      0.82       186\n",
      "\n",
      "        accuracy                           0.80       380\n",
      "       macro avg       0.81      0.80      0.80       380\n",
      "    weighted avg       0.81      0.80      0.80       380\n",
      "\n"
     ]
    },
    {
     "name": "stderr",
     "output_type": "stream",
     "text": [
      "Training Epochs:  47%|████▋     | 942/2000 [00:44<00:52, 20.32it/s]"
     ]
    },
    {
     "name": "stdout",
     "output_type": "stream",
     "text": [
      "Epoch 940/2000, Loss: 0.0756\n",
      "Test Accuracy at Epoch 940: 80.00%\n",
      "Test F1-score at Epoch 940: 0.8137\n",
      "Classification Report at Epoch 940:\n",
      "                  precision    recall  f1-score   support\n",
      "\n",
      "    infringement       0.87      0.71      0.78       194\n",
      "non_infringement       0.75      0.89      0.81       186\n",
      "\n",
      "        accuracy                           0.80       380\n",
      "       macro avg       0.81      0.80      0.80       380\n",
      "    weighted avg       0.81      0.80      0.80       380\n",
      "\n"
     ]
    },
    {
     "name": "stderr",
     "output_type": "stream",
     "text": [
      "Training Epochs:  48%|████▊     | 955/2000 [00:45<00:41, 25.37it/s]"
     ]
    },
    {
     "name": "stdout",
     "output_type": "stream",
     "text": [
      "Epoch 950/2000, Loss: 0.0802\n",
      "Test Accuracy at Epoch 950: 80.26%\n",
      "Test F1-score at Epoch 950: 0.8175\n",
      "Classification Report at Epoch 950:\n",
      "                  precision    recall  f1-score   support\n",
      "\n",
      "    infringement       0.88      0.71      0.79       194\n",
      "non_infringement       0.75      0.90      0.82       186\n",
      "\n",
      "        accuracy                           0.80       380\n",
      "       macro avg       0.82      0.80      0.80       380\n",
      "    weighted avg       0.82      0.80      0.80       380\n",
      "\n"
     ]
    },
    {
     "name": "stderr",
     "output_type": "stream",
     "text": [
      "Training Epochs:  48%|████▊     | 964/2000 [00:45<00:38, 26.68it/s]"
     ]
    },
    {
     "name": "stdout",
     "output_type": "stream",
     "text": [
      "Epoch 960/2000, Loss: 0.0758\n",
      "Test Accuracy at Epoch 960: 80.53%\n",
      "Test F1-score at Epoch 960: 0.8177\n",
      "Classification Report at Epoch 960:\n",
      "                  precision    recall  f1-score   support\n",
      "\n",
      "    infringement       0.88      0.72      0.79       194\n",
      "non_infringement       0.75      0.89      0.82       186\n",
      "\n",
      "        accuracy                           0.81       380\n",
      "       macro avg       0.81      0.81      0.80       380\n",
      "    weighted avg       0.82      0.81      0.80       380\n",
      "\n"
     ]
    },
    {
     "name": "stderr",
     "output_type": "stream",
     "text": [
      "Training Epochs:  49%|████▊     | 973/2000 [00:45<00:39, 25.75it/s]"
     ]
    },
    {
     "name": "stdout",
     "output_type": "stream",
     "text": [
      "Epoch 970/2000, Loss: 0.0756\n",
      "Test Accuracy at Epoch 970: 79.74%\n",
      "Test F1-score at Epoch 970: 0.8117\n",
      "Classification Report at Epoch 970:\n",
      "                  precision    recall  f1-score   support\n",
      "\n",
      "    infringement       0.87      0.71      0.78       194\n",
      "non_infringement       0.74      0.89      0.81       186\n",
      "\n",
      "        accuracy                           0.80       380\n",
      "       macro avg       0.81      0.80      0.80       380\n",
      "    weighted avg       0.81      0.80      0.80       380\n",
      "\n"
     ]
    },
    {
     "name": "stderr",
     "output_type": "stream",
     "text": [
      "Training Epochs:  49%|████▉     | 984/2000 [00:46<00:37, 26.77it/s]"
     ]
    },
    {
     "name": "stdout",
     "output_type": "stream",
     "text": [
      "Epoch 980/2000, Loss: 0.0773\n",
      "Test Accuracy at Epoch 980: 80.79%\n",
      "Test F1-score at Epoch 980: 0.8198\n",
      "Classification Report at Epoch 980:\n",
      "                  precision    recall  f1-score   support\n",
      "\n",
      "    infringement       0.88      0.73      0.79       194\n",
      "non_infringement       0.76      0.89      0.82       186\n",
      "\n",
      "        accuracy                           0.81       380\n",
      "       macro avg       0.82      0.81      0.81       380\n",
      "    weighted avg       0.82      0.81      0.81       380\n",
      "\n"
     ]
    },
    {
     "name": "stderr",
     "output_type": "stream",
     "text": [
      "Training Epochs:  50%|████▉     | 995/2000 [00:46<00:33, 29.67it/s]"
     ]
    },
    {
     "name": "stdout",
     "output_type": "stream",
     "text": [
      "Epoch 990/2000, Loss: 0.0780\n",
      "Test Accuracy at Epoch 990: 79.74%\n",
      "Test F1-score at Epoch 990: 0.8117\n",
      "Classification Report at Epoch 990:\n",
      "                  precision    recall  f1-score   support\n",
      "\n",
      "    infringement       0.87      0.71      0.78       194\n",
      "non_infringement       0.74      0.89      0.81       186\n",
      "\n",
      "        accuracy                           0.80       380\n",
      "       macro avg       0.81      0.80      0.80       380\n",
      "    weighted avg       0.81      0.80      0.80       380\n",
      "\n"
     ]
    },
    {
     "name": "stderr",
     "output_type": "stream",
     "text": [
      "Training Epochs:  50%|█████     | 1004/2000 [00:46<00:31, 31.58it/s]"
     ]
    },
    {
     "name": "stdout",
     "output_type": "stream",
     "text": [
      "Epoch 1000/2000, Loss: 0.0765\n",
      "Test Accuracy at Epoch 1000: 80.53%\n",
      "Test F1-score at Epoch 1000: 0.8177\n",
      "Classification Report at Epoch 1000:\n",
      "                  precision    recall  f1-score   support\n",
      "\n",
      "    infringement       0.88      0.72      0.79       194\n",
      "non_infringement       0.75      0.89      0.82       186\n",
      "\n",
      "        accuracy                           0.81       380\n",
      "       macro avg       0.81      0.81      0.80       380\n",
      "    weighted avg       0.82      0.81      0.80       380\n",
      "\n"
     ]
    },
    {
     "name": "stderr",
     "output_type": "stream",
     "text": [
      "Training Epochs:  51%|█████     | 1012/2000 [00:47<00:30, 32.40it/s]"
     ]
    },
    {
     "name": "stdout",
     "output_type": "stream",
     "text": [
      "Epoch 1010/2000, Loss: 0.0761\n",
      "Test Accuracy at Epoch 1010: 79.74%\n",
      "Test F1-score at Epoch 1010: 0.8117\n",
      "Classification Report at Epoch 1010:\n",
      "                  precision    recall  f1-score   support\n",
      "\n",
      "    infringement       0.87      0.71      0.78       194\n",
      "non_infringement       0.74      0.89      0.81       186\n",
      "\n",
      "        accuracy                           0.80       380\n",
      "       macro avg       0.81      0.80      0.80       380\n",
      "    weighted avg       0.81      0.80      0.80       380\n",
      "\n"
     ]
    },
    {
     "name": "stderr",
     "output_type": "stream",
     "text": [
      "Training Epochs:  51%|█████     | 1024/2000 [00:47<00:30, 31.92it/s]"
     ]
    },
    {
     "name": "stdout",
     "output_type": "stream",
     "text": [
      "Epoch 1020/2000, Loss: 0.0752\n",
      "Test Accuracy at Epoch 1020: 80.00%\n",
      "Test F1-score at Epoch 1020: 0.8137\n",
      "Classification Report at Epoch 1020:\n",
      "                  precision    recall  f1-score   support\n",
      "\n",
      "    infringement       0.87      0.71      0.78       194\n",
      "non_infringement       0.75      0.89      0.81       186\n",
      "\n",
      "        accuracy                           0.80       380\n",
      "       macro avg       0.81      0.80      0.80       380\n",
      "    weighted avg       0.81      0.80      0.80       380\n",
      "\n"
     ]
    },
    {
     "name": "stderr",
     "output_type": "stream",
     "text": [
      "Training Epochs:  52%|█████▏    | 1036/2000 [00:48<00:30, 31.30it/s]"
     ]
    },
    {
     "name": "stdout",
     "output_type": "stream",
     "text": [
      "Epoch 1030/2000, Loss: 0.0783\n",
      "Test Accuracy at Epoch 1030: 80.26%\n",
      "Test F1-score at Epoch 1030: 0.8175\n",
      "Classification Report at Epoch 1030:\n",
      "                  precision    recall  f1-score   support\n",
      "\n",
      "    infringement       0.88      0.71      0.79       194\n",
      "non_infringement       0.75      0.90      0.82       186\n",
      "\n",
      "        accuracy                           0.80       380\n",
      "       macro avg       0.82      0.80      0.80       380\n",
      "    weighted avg       0.82      0.80      0.80       380\n",
      "\n"
     ]
    },
    {
     "name": "stderr",
     "output_type": "stream",
     "text": [
      "Training Epochs:  52%|█████▏    | 1044/2000 [00:48<00:32, 29.63it/s]"
     ]
    },
    {
     "name": "stdout",
     "output_type": "stream",
     "text": [
      "Epoch 1040/2000, Loss: 0.0796\n",
      "Test Accuracy at Epoch 1040: 80.53%\n",
      "Test F1-score at Epoch 1040: 0.8168\n",
      "Classification Report at Epoch 1040:\n",
      "                  precision    recall  f1-score   support\n",
      "\n",
      "    infringement       0.87      0.73      0.79       194\n",
      "non_infringement       0.76      0.89      0.82       186\n",
      "\n",
      "        accuracy                           0.81       380\n",
      "       macro avg       0.81      0.81      0.80       380\n",
      "    weighted avg       0.81      0.81      0.80       380\n",
      "\n"
     ]
    },
    {
     "name": "stderr",
     "output_type": "stream",
     "text": [
      "Training Epochs:  53%|█████▎    | 1053/2000 [00:48<00:31, 29.80it/s]"
     ]
    },
    {
     "name": "stdout",
     "output_type": "stream",
     "text": [
      "Epoch 1050/2000, Loss: 0.0798\n",
      "Test Accuracy at Epoch 1050: 80.00%\n",
      "Test F1-score at Epoch 1050: 0.8146\n",
      "Classification Report at Epoch 1050:\n",
      "                  precision    recall  f1-score   support\n",
      "\n",
      "    infringement       0.88      0.71      0.78       194\n",
      "non_infringement       0.75      0.90      0.81       186\n",
      "\n",
      "        accuracy                           0.80       380\n",
      "       macro avg       0.81      0.80      0.80       380\n",
      "    weighted avg       0.81      0.80      0.80       380\n",
      "\n"
     ]
    },
    {
     "name": "stderr",
     "output_type": "stream",
     "text": [
      "Training Epochs:  53%|█████▎    | 1061/2000 [00:48<00:34, 26.98it/s]"
     ]
    },
    {
     "name": "stdout",
     "output_type": "stream",
     "text": [
      "Epoch 1060/2000, Loss: 0.0756\n",
      "Test Accuracy at Epoch 1060: 80.00%\n",
      "Test F1-score at Epoch 1060: 0.8137\n",
      "Classification Report at Epoch 1060:\n",
      "                  precision    recall  f1-score   support\n",
      "\n",
      "    infringement       0.87      0.71      0.78       194\n",
      "non_infringement       0.75      0.89      0.81       186\n",
      "\n",
      "        accuracy                           0.80       380\n",
      "       macro avg       0.81      0.80      0.80       380\n",
      "    weighted avg       0.81      0.80      0.80       380\n",
      "\n"
     ]
    },
    {
     "name": "stderr",
     "output_type": "stream",
     "text": [
      "Training Epochs:  54%|█████▎    | 1073/2000 [00:49<00:33, 27.44it/s]"
     ]
    },
    {
     "name": "stdout",
     "output_type": "stream",
     "text": [
      "Epoch 1070/2000, Loss: 0.0751\n",
      "Test Accuracy at Epoch 1070: 80.53%\n",
      "Test F1-score at Epoch 1070: 0.8177\n",
      "Classification Report at Epoch 1070:\n",
      "                  precision    recall  f1-score   support\n",
      "\n",
      "    infringement       0.88      0.72      0.79       194\n",
      "non_infringement       0.75      0.89      0.82       186\n",
      "\n",
      "        accuracy                           0.81       380\n",
      "       macro avg       0.81      0.81      0.80       380\n",
      "    weighted avg       0.82      0.81      0.80       380\n",
      "\n"
     ]
    },
    {
     "name": "stderr",
     "output_type": "stream",
     "text": [
      "Training Epochs:  54%|█████▍    | 1085/2000 [00:49<00:31, 28.80it/s]"
     ]
    },
    {
     "name": "stdout",
     "output_type": "stream",
     "text": [
      "Epoch 1080/2000, Loss: 0.0750\n",
      "Test Accuracy at Epoch 1080: 80.26%\n",
      "Test F1-score at Epoch 1080: 0.8157\n",
      "Classification Report at Epoch 1080:\n",
      "                  precision    recall  f1-score   support\n",
      "\n",
      "    infringement       0.87      0.72      0.79       194\n",
      "non_infringement       0.75      0.89      0.82       186\n",
      "\n",
      "        accuracy                           0.80       380\n",
      "       macro avg       0.81      0.80      0.80       380\n",
      "    weighted avg       0.81      0.80      0.80       380\n",
      "\n"
     ]
    },
    {
     "name": "stderr",
     "output_type": "stream",
     "text": [
      "Training Epochs:  55%|█████▍    | 1093/2000 [00:49<00:30, 29.58it/s]"
     ]
    },
    {
     "name": "stdout",
     "output_type": "stream",
     "text": [
      "Epoch 1090/2000, Loss: 0.0757\n",
      "Test Accuracy at Epoch 1090: 79.74%\n",
      "Test F1-score at Epoch 1090: 0.8117\n",
      "Classification Report at Epoch 1090:\n",
      "                  precision    recall  f1-score   support\n",
      "\n",
      "    infringement       0.87      0.71      0.78       194\n",
      "non_infringement       0.74      0.89      0.81       186\n",
      "\n",
      "        accuracy                           0.80       380\n",
      "       macro avg       0.81      0.80      0.80       380\n",
      "    weighted avg       0.81      0.80      0.80       380\n",
      "\n"
     ]
    },
    {
     "name": "stderr",
     "output_type": "stream",
     "text": [
      "Training Epochs:  55%|█████▌    | 1105/2000 [00:50<00:28, 31.34it/s]"
     ]
    },
    {
     "name": "stdout",
     "output_type": "stream",
     "text": [
      "Epoch 1100/2000, Loss: 0.0787\n",
      "Test Accuracy at Epoch 1100: 79.74%\n",
      "Test F1-score at Epoch 1100: 0.8117\n",
      "Classification Report at Epoch 1100:\n",
      "                  precision    recall  f1-score   support\n",
      "\n",
      "    infringement       0.87      0.71      0.78       194\n",
      "non_infringement       0.74      0.89      0.81       186\n",
      "\n",
      "        accuracy                           0.80       380\n",
      "       macro avg       0.81      0.80      0.80       380\n",
      "    weighted avg       0.81      0.80      0.80       380\n",
      "\n"
     ]
    },
    {
     "name": "stderr",
     "output_type": "stream",
     "text": [
      "Training Epochs:  56%|█████▌    | 1113/2000 [00:50<00:30, 28.72it/s]"
     ]
    },
    {
     "name": "stdout",
     "output_type": "stream",
     "text": [
      "Epoch 1110/2000, Loss: 0.0750\n",
      "Test Accuracy at Epoch 1110: 80.53%\n",
      "Test F1-score at Epoch 1110: 0.8177\n",
      "Classification Report at Epoch 1110:\n",
      "                  precision    recall  f1-score   support\n",
      "\n",
      "    infringement       0.88      0.72      0.79       194\n",
      "non_infringement       0.75      0.89      0.82       186\n",
      "\n",
      "        accuracy                           0.81       380\n",
      "       macro avg       0.81      0.81      0.80       380\n",
      "    weighted avg       0.82      0.81      0.80       380\n",
      "\n"
     ]
    },
    {
     "name": "stderr",
     "output_type": "stream",
     "text": [
      "Training Epochs:  56%|█████▌    | 1124/2000 [00:51<00:30, 28.32it/s]"
     ]
    },
    {
     "name": "stdout",
     "output_type": "stream",
     "text": [
      "Epoch 1120/2000, Loss: 0.0792\n",
      "Test Accuracy at Epoch 1120: 80.79%\n",
      "Test F1-score at Epoch 1120: 0.8198\n",
      "Classification Report at Epoch 1120:\n",
      "                  precision    recall  f1-score   support\n",
      "\n",
      "    infringement       0.88      0.73      0.79       194\n",
      "non_infringement       0.76      0.89      0.82       186\n",
      "\n",
      "        accuracy                           0.81       380\n",
      "       macro avg       0.82      0.81      0.81       380\n",
      "    weighted avg       0.82      0.81      0.81       380\n",
      "\n"
     ]
    },
    {
     "name": "stderr",
     "output_type": "stream",
     "text": [
      "Training Epochs:  57%|█████▋    | 1136/2000 [00:51<00:29, 29.39it/s]"
     ]
    },
    {
     "name": "stdout",
     "output_type": "stream",
     "text": [
      "Epoch 1130/2000, Loss: 0.0816\n",
      "Test Accuracy at Epoch 1130: 80.00%\n",
      "Test F1-score at Epoch 1130: 0.8146\n",
      "Classification Report at Epoch 1130:\n",
      "                  precision    recall  f1-score   support\n",
      "\n",
      "    infringement       0.88      0.71      0.78       194\n",
      "non_infringement       0.75      0.90      0.81       186\n",
      "\n",
      "        accuracy                           0.80       380\n",
      "       macro avg       0.81      0.80      0.80       380\n",
      "    weighted avg       0.81      0.80      0.80       380\n",
      "\n"
     ]
    },
    {
     "name": "stderr",
     "output_type": "stream",
     "text": [
      "Training Epochs:  57%|█████▋    | 1144/2000 [00:51<00:29, 29.01it/s]"
     ]
    },
    {
     "name": "stdout",
     "output_type": "stream",
     "text": [
      "Epoch 1140/2000, Loss: 0.0752\n",
      "Test Accuracy at Epoch 1140: 80.00%\n",
      "Test F1-score at Epoch 1140: 0.8137\n",
      "Classification Report at Epoch 1140:\n",
      "                  precision    recall  f1-score   support\n",
      "\n",
      "    infringement       0.87      0.71      0.78       194\n",
      "non_infringement       0.75      0.89      0.81       186\n",
      "\n",
      "        accuracy                           0.80       380\n",
      "       macro avg       0.81      0.80      0.80       380\n",
      "    weighted avg       0.81      0.80      0.80       380\n",
      "\n"
     ]
    },
    {
     "name": "stderr",
     "output_type": "stream",
     "text": [
      "Training Epochs:  58%|█████▊    | 1153/2000 [00:51<00:24, 34.45it/s]"
     ]
    },
    {
     "name": "stdout",
     "output_type": "stream",
     "text": [
      "Epoch 1150/2000, Loss: 0.0753\n",
      "Test Accuracy at Epoch 1150: 80.79%\n",
      "Test F1-score at Epoch 1150: 0.8198\n",
      "Classification Report at Epoch 1150:\n",
      "                  precision    recall  f1-score   support\n",
      "\n",
      "    infringement       0.88      0.73      0.79       194\n",
      "non_infringement       0.76      0.89      0.82       186\n",
      "\n",
      "        accuracy                           0.81       380\n",
      "       macro avg       0.82      0.81      0.81       380\n",
      "    weighted avg       0.82      0.81      0.81       380\n",
      "\n"
     ]
    },
    {
     "name": "stderr",
     "output_type": "stream",
     "text": [
      "Training Epochs:  58%|█████▊    | 1166/2000 [00:52<00:23, 35.72it/s]"
     ]
    },
    {
     "name": "stdout",
     "output_type": "stream",
     "text": [
      "Epoch 1160/2000, Loss: 0.0755\n",
      "Test Accuracy at Epoch 1160: 80.00%\n",
      "Test F1-score at Epoch 1160: 0.8137\n",
      "Classification Report at Epoch 1160:\n",
      "                  precision    recall  f1-score   support\n",
      "\n",
      "    infringement       0.87      0.71      0.78       194\n",
      "non_infringement       0.75      0.89      0.81       186\n",
      "\n",
      "        accuracy                           0.80       380\n",
      "       macro avg       0.81      0.80      0.80       380\n",
      "    weighted avg       0.81      0.80      0.80       380\n",
      "\n"
     ]
    },
    {
     "name": "stderr",
     "output_type": "stream",
     "text": [
      "Training Epochs:  59%|█████▉    | 1175/2000 [00:52<00:24, 33.83it/s]"
     ]
    },
    {
     "name": "stdout",
     "output_type": "stream",
     "text": [
      "Epoch 1170/2000, Loss: 0.0749\n",
      "Test Accuracy at Epoch 1170: 80.53%\n",
      "Test F1-score at Epoch 1170: 0.8177\n",
      "Classification Report at Epoch 1170:\n",
      "                  precision    recall  f1-score   support\n",
      "\n",
      "    infringement       0.88      0.72      0.79       194\n",
      "non_infringement       0.75      0.89      0.82       186\n",
      "\n",
      "        accuracy                           0.81       380\n",
      "       macro avg       0.81      0.81      0.80       380\n",
      "    weighted avg       0.82      0.81      0.80       380\n",
      "\n"
     ]
    },
    {
     "name": "stderr",
     "output_type": "stream",
     "text": [
      "Training Epochs:  59%|█████▉    | 1184/2000 [00:52<00:25, 32.63it/s]"
     ]
    },
    {
     "name": "stdout",
     "output_type": "stream",
     "text": [
      "Epoch 1180/2000, Loss: 0.0762\n",
      "Test Accuracy at Epoch 1180: 80.79%\n",
      "Test F1-score at Epoch 1180: 0.8198\n",
      "Classification Report at Epoch 1180:\n",
      "                  precision    recall  f1-score   support\n",
      "\n",
      "    infringement       0.88      0.73      0.79       194\n",
      "non_infringement       0.76      0.89      0.82       186\n",
      "\n",
      "        accuracy                           0.81       380\n",
      "       macro avg       0.82      0.81      0.81       380\n",
      "    weighted avg       0.82      0.81      0.81       380\n",
      "\n"
     ]
    },
    {
     "name": "stderr",
     "output_type": "stream",
     "text": [
      "Training Epochs:  60%|█████▉    | 1193/2000 [00:53<00:22, 36.51it/s]"
     ]
    },
    {
     "name": "stdout",
     "output_type": "stream",
     "text": [
      "Epoch 1190/2000, Loss: 0.0760\n",
      "Test Accuracy at Epoch 1190: 80.79%\n",
      "Test F1-score at Epoch 1190: 0.8198\n",
      "Classification Report at Epoch 1190:\n",
      "                  precision    recall  f1-score   support\n",
      "\n",
      "    infringement       0.88      0.73      0.79       194\n",
      "non_infringement       0.76      0.89      0.82       186\n",
      "\n",
      "        accuracy                           0.81       380\n",
      "       macro avg       0.82      0.81      0.81       380\n",
      "    weighted avg       0.82      0.81      0.81       380\n",
      "\n"
     ]
    },
    {
     "name": "stderr",
     "output_type": "stream",
     "text": [
      "Training Epochs:  60%|██████    | 1207/2000 [00:53<00:20, 38.52it/s]"
     ]
    },
    {
     "name": "stdout",
     "output_type": "stream",
     "text": [
      "Epoch 1200/2000, Loss: 0.0774\n",
      "Test Accuracy at Epoch 1200: 81.05%\n",
      "Test F1-score at Epoch 1200: 0.8218\n",
      "Classification Report at Epoch 1200:\n",
      "                  precision    recall  f1-score   support\n",
      "\n",
      "    infringement       0.88      0.73      0.80       194\n",
      "non_infringement       0.76      0.89      0.82       186\n",
      "\n",
      "        accuracy                           0.81       380\n",
      "       macro avg       0.82      0.81      0.81       380\n",
      "    weighted avg       0.82      0.81      0.81       380\n",
      "\n"
     ]
    },
    {
     "name": "stderr",
     "output_type": "stream",
     "text": [
      "Training Epochs:  61%|██████    | 1215/2000 [00:53<00:21, 35.91it/s]"
     ]
    },
    {
     "name": "stdout",
     "output_type": "stream",
     "text": [
      "Epoch 1210/2000, Loss: 0.0748\n",
      "Test Accuracy at Epoch 1210: 80.26%\n",
      "Test F1-score at Epoch 1210: 0.8157\n",
      "Classification Report at Epoch 1210:\n",
      "                  precision    recall  f1-score   support\n",
      "\n",
      "    infringement       0.87      0.72      0.79       194\n",
      "non_infringement       0.75      0.89      0.82       186\n",
      "\n",
      "        accuracy                           0.80       380\n",
      "       macro avg       0.81      0.80      0.80       380\n",
      "    weighted avg       0.81      0.80      0.80       380\n",
      "\n"
     ]
    },
    {
     "name": "stderr",
     "output_type": "stream",
     "text": [
      "Training Epochs:  61%|██████    | 1223/2000 [00:53<00:22, 34.73it/s]"
     ]
    },
    {
     "name": "stdout",
     "output_type": "stream",
     "text": [
      "Epoch 1220/2000, Loss: 0.0762\n",
      "Test Accuracy at Epoch 1220: 80.26%\n",
      "Test F1-score at Epoch 1220: 0.8157\n",
      "Classification Report at Epoch 1220:\n",
      "                  precision    recall  f1-score   support\n",
      "\n",
      "    infringement       0.87      0.72      0.79       194\n",
      "non_infringement       0.75      0.89      0.82       186\n",
      "\n",
      "        accuracy                           0.80       380\n",
      "       macro avg       0.81      0.80      0.80       380\n",
      "    weighted avg       0.81      0.80      0.80       380\n",
      "\n"
     ]
    },
    {
     "name": "stderr",
     "output_type": "stream",
     "text": [
      "Training Epochs:  62%|██████▏   | 1236/2000 [00:54<00:21, 35.45it/s]"
     ]
    },
    {
     "name": "stdout",
     "output_type": "stream",
     "text": [
      "Epoch 1230/2000, Loss: 0.0772\n",
      "Test Accuracy at Epoch 1230: 80.79%\n",
      "Test F1-score at Epoch 1230: 0.8198\n",
      "Classification Report at Epoch 1230:\n",
      "                  precision    recall  f1-score   support\n",
      "\n",
      "    infringement       0.88      0.73      0.79       194\n",
      "non_infringement       0.76      0.89      0.82       186\n",
      "\n",
      "        accuracy                           0.81       380\n",
      "       macro avg       0.82      0.81      0.81       380\n",
      "    weighted avg       0.82      0.81      0.81       380\n",
      "\n"
     ]
    },
    {
     "name": "stderr",
     "output_type": "stream",
     "text": [
      "Training Epochs:  62%|██████▏   | 1245/2000 [00:54<00:21, 35.48it/s]"
     ]
    },
    {
     "name": "stdout",
     "output_type": "stream",
     "text": [
      "Epoch 1240/2000, Loss: 0.0772\n",
      "Test Accuracy at Epoch 1240: 79.74%\n",
      "Test F1-score at Epoch 1240: 0.8117\n",
      "Classification Report at Epoch 1240:\n",
      "                  precision    recall  f1-score   support\n",
      "\n",
      "    infringement       0.87      0.71      0.78       194\n",
      "non_infringement       0.74      0.89      0.81       186\n",
      "\n",
      "        accuracy                           0.80       380\n",
      "       macro avg       0.81      0.80      0.80       380\n",
      "    weighted avg       0.81      0.80      0.80       380\n",
      "\n"
     ]
    },
    {
     "name": "stderr",
     "output_type": "stream",
     "text": [
      "Training Epochs:  63%|██████▎   | 1254/2000 [00:54<00:22, 33.24it/s]"
     ]
    },
    {
     "name": "stdout",
     "output_type": "stream",
     "text": [
      "Epoch 1250/2000, Loss: 0.0762\n",
      "Test Accuracy at Epoch 1250: 80.79%\n",
      "Test F1-score at Epoch 1250: 0.8198\n",
      "Classification Report at Epoch 1250:\n",
      "                  precision    recall  f1-score   support\n",
      "\n",
      "    infringement       0.88      0.73      0.79       194\n",
      "non_infringement       0.76      0.89      0.82       186\n",
      "\n",
      "        accuracy                           0.81       380\n",
      "       macro avg       0.82      0.81      0.81       380\n",
      "    weighted avg       0.82      0.81      0.81       380\n",
      "\n"
     ]
    },
    {
     "name": "stderr",
     "output_type": "stream",
     "text": [
      "Training Epochs:  63%|██████▎   | 1263/2000 [00:55<00:20, 36.09it/s]"
     ]
    },
    {
     "name": "stdout",
     "output_type": "stream",
     "text": [
      "Epoch 1260/2000, Loss: 0.0756\n",
      "Test Accuracy at Epoch 1260: 80.00%\n",
      "Test F1-score at Epoch 1260: 0.8137\n",
      "Classification Report at Epoch 1260:\n",
      "                  precision    recall  f1-score   support\n",
      "\n",
      "    infringement       0.87      0.71      0.78       194\n",
      "non_infringement       0.75      0.89      0.81       186\n",
      "\n",
      "        accuracy                           0.80       380\n",
      "       macro avg       0.81      0.80      0.80       380\n",
      "    weighted avg       0.81      0.80      0.80       380\n",
      "\n"
     ]
    },
    {
     "name": "stderr",
     "output_type": "stream",
     "text": [
      "Training Epochs:  64%|██████▎   | 1272/2000 [00:55<00:30, 24.09it/s]"
     ]
    },
    {
     "name": "stdout",
     "output_type": "stream",
     "text": [
      "Epoch 1270/2000, Loss: 0.0749\n",
      "Test Accuracy at Epoch 1270: 80.26%\n",
      "Test F1-score at Epoch 1270: 0.8157\n",
      "Classification Report at Epoch 1270:\n",
      "                  precision    recall  f1-score   support\n",
      "\n",
      "    infringement       0.87      0.72      0.79       194\n",
      "non_infringement       0.75      0.89      0.82       186\n",
      "\n",
      "        accuracy                           0.80       380\n",
      "       macro avg       0.81      0.80      0.80       380\n",
      "    weighted avg       0.81      0.80      0.80       380\n",
      "\n"
     ]
    },
    {
     "name": "stderr",
     "output_type": "stream",
     "text": [
      "Training Epochs:  64%|██████▍   | 1285/2000 [00:55<00:22, 32.34it/s]"
     ]
    },
    {
     "name": "stdout",
     "output_type": "stream",
     "text": [
      "Epoch 1280/2000, Loss: 0.0774\n",
      "Test Accuracy at Epoch 1280: 80.26%\n",
      "Test F1-score at Epoch 1280: 0.8166\n",
      "Classification Report at Epoch 1280:\n",
      "                  precision    recall  f1-score   support\n",
      "\n",
      "    infringement       0.88      0.71      0.79       194\n",
      "non_infringement       0.75      0.90      0.82       186\n",
      "\n",
      "        accuracy                           0.80       380\n",
      "       macro avg       0.81      0.80      0.80       380\n",
      "    weighted avg       0.82      0.80      0.80       380\n",
      "\n"
     ]
    },
    {
     "name": "stderr",
     "output_type": "stream",
     "text": [
      "Training Epochs:  64%|██████▍   | 1289/2000 [00:56<00:24, 28.49it/s]"
     ]
    },
    {
     "name": "stdout",
     "output_type": "stream",
     "text": [
      "Epoch 1290/2000, Loss: 0.0754\n",
      "Test Accuracy at Epoch 1290: 81.05%\n",
      "Test F1-score at Epoch 1290: 0.8218\n",
      "Classification Report at Epoch 1290:\n",
      "                  precision    recall  f1-score   support\n",
      "\n",
      "    infringement       0.88      0.73      0.80       194\n",
      "non_infringement       0.76      0.89      0.82       186\n",
      "\n",
      "        accuracy                           0.81       380\n",
      "       macro avg       0.82      0.81      0.81       380\n",
      "    weighted avg       0.82      0.81      0.81       380\n",
      "\n"
     ]
    },
    {
     "name": "stderr",
     "output_type": "stream",
     "text": [
      "Training Epochs:  65%|██████▌   | 1302/2000 [00:57<00:56, 12.41it/s]"
     ]
    },
    {
     "name": "stdout",
     "output_type": "stream",
     "text": [
      "Epoch 1300/2000, Loss: 0.0770\n",
      "Test Accuracy at Epoch 1300: 80.00%\n",
      "Test F1-score at Epoch 1300: 0.8137\n",
      "Classification Report at Epoch 1300:\n",
      "                  precision    recall  f1-score   support\n",
      "\n",
      "    infringement       0.87      0.71      0.78       194\n",
      "non_infringement       0.75      0.89      0.81       186\n",
      "\n",
      "        accuracy                           0.80       380\n",
      "       macro avg       0.81      0.80      0.80       380\n",
      "    weighted avg       0.81      0.80      0.80       380\n",
      "\n"
     ]
    },
    {
     "name": "stderr",
     "output_type": "stream",
     "text": [
      "Training Epochs:  66%|██████▌   | 1310/2000 [00:58<00:57, 12.01it/s]"
     ]
    },
    {
     "name": "stdout",
     "output_type": "stream",
     "text": [
      "Epoch 1310/2000, Loss: 0.0769\n",
      "Test Accuracy at Epoch 1310: 81.05%\n",
      "Test F1-score at Epoch 1310: 0.8218\n",
      "Classification Report at Epoch 1310:\n",
      "                  precision    recall  f1-score   support\n",
      "\n",
      "    infringement       0.88      0.73      0.80       194\n",
      "non_infringement       0.76      0.89      0.82       186\n",
      "\n",
      "        accuracy                           0.81       380\n",
      "       macro avg       0.82      0.81      0.81       380\n",
      "    weighted avg       0.82      0.81      0.81       380\n",
      "\n"
     ]
    },
    {
     "name": "stderr",
     "output_type": "stream",
     "text": [
      "Training Epochs:  66%|██████▌   | 1322/2000 [00:59<00:53, 12.60it/s]"
     ]
    },
    {
     "name": "stdout",
     "output_type": "stream",
     "text": [
      "Epoch 1320/2000, Loss: 0.0755\n",
      "Test Accuracy at Epoch 1320: 80.26%\n",
      "Test F1-score at Epoch 1320: 0.8157\n",
      "Classification Report at Epoch 1320:\n",
      "                  precision    recall  f1-score   support\n",
      "\n",
      "    infringement       0.87      0.72      0.79       194\n",
      "non_infringement       0.75      0.89      0.82       186\n",
      "\n",
      "        accuracy                           0.80       380\n",
      "       macro avg       0.81      0.80      0.80       380\n",
      "    weighted avg       0.81      0.80      0.80       380\n",
      "\n"
     ]
    },
    {
     "name": "stderr",
     "output_type": "stream",
     "text": [
      "Training Epochs:  67%|██████▋   | 1333/2000 [00:59<00:41, 16.21it/s]"
     ]
    },
    {
     "name": "stdout",
     "output_type": "stream",
     "text": [
      "Epoch 1330/2000, Loss: 0.0749\n",
      "Test Accuracy at Epoch 1330: 81.05%\n",
      "Test F1-score at Epoch 1330: 0.8218\n",
      "Classification Report at Epoch 1330:\n",
      "                  precision    recall  f1-score   support\n",
      "\n",
      "    infringement       0.88      0.73      0.80       194\n",
      "non_infringement       0.76      0.89      0.82       186\n",
      "\n",
      "        accuracy                           0.81       380\n",
      "       macro avg       0.82      0.81      0.81       380\n",
      "    weighted avg       0.82      0.81      0.81       380\n",
      "\n"
     ]
    },
    {
     "name": "stderr",
     "output_type": "stream",
     "text": [
      "Training Epochs:  67%|██████▋   | 1341/2000 [01:00<00:47, 13.88it/s]"
     ]
    },
    {
     "name": "stdout",
     "output_type": "stream",
     "text": [
      "Epoch 1340/2000, Loss: 0.0753\n",
      "Test Accuracy at Epoch 1340: 80.26%\n",
      "Test F1-score at Epoch 1340: 0.8157\n",
      "Classification Report at Epoch 1340:\n",
      "                  precision    recall  f1-score   support\n",
      "\n",
      "    infringement       0.87      0.72      0.79       194\n",
      "non_infringement       0.75      0.89      0.82       186\n",
      "\n",
      "        accuracy                           0.80       380\n",
      "       macro avg       0.81      0.80      0.80       380\n",
      "    weighted avg       0.81      0.80      0.80       380\n",
      "\n"
     ]
    },
    {
     "name": "stderr",
     "output_type": "stream",
     "text": [
      "Training Epochs:  68%|██████▊   | 1353/2000 [01:01<00:49, 12.96it/s]"
     ]
    },
    {
     "name": "stdout",
     "output_type": "stream",
     "text": [
      "Epoch 1350/2000, Loss: 0.0750\n",
      "Test Accuracy at Epoch 1350: 80.26%\n",
      "Test F1-score at Epoch 1350: 0.8157\n",
      "Classification Report at Epoch 1350:\n",
      "                  precision    recall  f1-score   support\n",
      "\n",
      "    infringement       0.87      0.72      0.79       194\n",
      "non_infringement       0.75      0.89      0.82       186\n",
      "\n",
      "        accuracy                           0.80       380\n",
      "       macro avg       0.81      0.80      0.80       380\n",
      "    weighted avg       0.81      0.80      0.80       380\n",
      "\n"
     ]
    },
    {
     "name": "stderr",
     "output_type": "stream",
     "text": [
      "Training Epochs:  68%|██████▊   | 1363/2000 [01:02<00:33, 19.24it/s]"
     ]
    },
    {
     "name": "stdout",
     "output_type": "stream",
     "text": [
      "Epoch 1360/2000, Loss: 0.0782\n",
      "Test Accuracy at Epoch 1360: 80.00%\n",
      "Test F1-score at Epoch 1360: 0.8137\n",
      "Classification Report at Epoch 1360:\n",
      "                  precision    recall  f1-score   support\n",
      "\n",
      "    infringement       0.87      0.71      0.78       194\n",
      "non_infringement       0.75      0.89      0.81       186\n",
      "\n",
      "        accuracy                           0.80       380\n",
      "       macro avg       0.81      0.80      0.80       380\n",
      "    weighted avg       0.81      0.80      0.80       380\n",
      "\n"
     ]
    },
    {
     "name": "stderr",
     "output_type": "stream",
     "text": [
      "Training Epochs:  69%|██████▊   | 1372/2000 [01:02<00:29, 21.44it/s]"
     ]
    },
    {
     "name": "stdout",
     "output_type": "stream",
     "text": [
      "Epoch 1370/2000, Loss: 0.0785\n",
      "Test Accuracy at Epoch 1370: 81.05%\n",
      "Test F1-score at Epoch 1370: 0.8218\n",
      "Classification Report at Epoch 1370:\n",
      "                  precision    recall  f1-score   support\n",
      "\n",
      "    infringement       0.88      0.73      0.80       194\n",
      "non_infringement       0.76      0.89      0.82       186\n",
      "\n",
      "        accuracy                           0.81       380\n",
      "       macro avg       0.82      0.81      0.81       380\n",
      "    weighted avg       0.82      0.81      0.81       380\n",
      "\n"
     ]
    },
    {
     "name": "stderr",
     "output_type": "stream",
     "text": [
      "Training Epochs:  69%|██████▉   | 1382/2000 [01:03<00:42, 14.66it/s]"
     ]
    },
    {
     "name": "stdout",
     "output_type": "stream",
     "text": [
      "Epoch 1380/2000, Loss: 0.0790\n",
      "Test Accuracy at Epoch 1380: 78.95%\n",
      "Test F1-score at Epoch 1380: 0.8058\n",
      "Classification Report at Epoch 1380:\n",
      "                  precision    recall  f1-score   support\n",
      "\n",
      "    infringement       0.87      0.69      0.77       194\n",
      "non_infringement       0.73      0.89      0.81       186\n",
      "\n",
      "        accuracy                           0.79       380\n",
      "       macro avg       0.80      0.79      0.79       380\n",
      "    weighted avg       0.80      0.79      0.79       380\n",
      "\n"
     ]
    },
    {
     "name": "stderr",
     "output_type": "stream",
     "text": [
      "Training Epochs:  70%|██████▉   | 1392/2000 [01:04<00:42, 14.39it/s]"
     ]
    },
    {
     "name": "stdout",
     "output_type": "stream",
     "text": [
      "Epoch 1390/2000, Loss: 0.0765\n",
      "Test Accuracy at Epoch 1390: 81.05%\n",
      "Test F1-score at Epoch 1390: 0.8218\n",
      "Classification Report at Epoch 1390:\n",
      "                  precision    recall  f1-score   support\n",
      "\n",
      "    infringement       0.88      0.73      0.80       194\n",
      "non_infringement       0.76      0.89      0.82       186\n",
      "\n",
      "        accuracy                           0.81       380\n",
      "       macro avg       0.82      0.81      0.81       380\n",
      "    weighted avg       0.82      0.81      0.81       380\n",
      "\n"
     ]
    },
    {
     "name": "stderr",
     "output_type": "stream",
     "text": [
      "Training Epochs:  70%|███████   | 1402/2000 [01:04<00:34, 17.24it/s]"
     ]
    },
    {
     "name": "stdout",
     "output_type": "stream",
     "text": [
      "Epoch 1400/2000, Loss: 0.0751\n",
      "Test Accuracy at Epoch 1400: 80.53%\n",
      "Test F1-score at Epoch 1400: 0.8177\n",
      "Classification Report at Epoch 1400:\n",
      "                  precision    recall  f1-score   support\n",
      "\n",
      "    infringement       0.88      0.72      0.79       194\n",
      "non_infringement       0.75      0.89      0.82       186\n",
      "\n",
      "        accuracy                           0.81       380\n",
      "       macro avg       0.81      0.81      0.80       380\n",
      "    weighted avg       0.82      0.81      0.80       380\n",
      "\n"
     ]
    },
    {
     "name": "stderr",
     "output_type": "stream",
     "text": [
      "Training Epochs:  71%|███████   | 1413/2000 [01:05<00:32, 17.88it/s]"
     ]
    },
    {
     "name": "stdout",
     "output_type": "stream",
     "text": [
      "Epoch 1410/2000, Loss: 0.0750\n",
      "Test Accuracy at Epoch 1410: 81.05%\n",
      "Test F1-score at Epoch 1410: 0.8218\n",
      "Classification Report at Epoch 1410:\n",
      "                  precision    recall  f1-score   support\n",
      "\n",
      "    infringement       0.88      0.73      0.80       194\n",
      "non_infringement       0.76      0.89      0.82       186\n",
      "\n",
      "        accuracy                           0.81       380\n",
      "       macro avg       0.82      0.81      0.81       380\n",
      "    weighted avg       0.82      0.81      0.81       380\n",
      "\n"
     ]
    },
    {
     "name": "stderr",
     "output_type": "stream",
     "text": [
      "Training Epochs:  71%|███████   | 1421/2000 [01:05<00:27, 20.83it/s]"
     ]
    },
    {
     "name": "stdout",
     "output_type": "stream",
     "text": [
      "Epoch 1420/2000, Loss: 0.0751\n",
      "Test Accuracy at Epoch 1420: 80.26%\n",
      "Test F1-score at Epoch 1420: 0.8157\n",
      "Classification Report at Epoch 1420:\n",
      "                  precision    recall  f1-score   support\n",
      "\n",
      "    infringement       0.87      0.72      0.79       194\n",
      "non_infringement       0.75      0.89      0.82       186\n",
      "\n",
      "        accuracy                           0.80       380\n",
      "       macro avg       0.81      0.80      0.80       380\n",
      "    weighted avg       0.81      0.80      0.80       380\n",
      "\n"
     ]
    },
    {
     "name": "stderr",
     "output_type": "stream",
     "text": [
      "Training Epochs:  72%|███████▏  | 1431/2000 [01:06<00:36, 15.53it/s]"
     ]
    },
    {
     "name": "stdout",
     "output_type": "stream",
     "text": [
      "Epoch 1430/2000, Loss: 0.0765\n",
      "Test Accuracy at Epoch 1430: 80.26%\n",
      "Test F1-score at Epoch 1430: 0.8157\n",
      "Classification Report at Epoch 1430:\n",
      "                  precision    recall  f1-score   support\n",
      "\n",
      "    infringement       0.87      0.72      0.79       194\n",
      "non_infringement       0.75      0.89      0.82       186\n",
      "\n",
      "        accuracy                           0.80       380\n",
      "       macro avg       0.81      0.80      0.80       380\n",
      "    weighted avg       0.81      0.80      0.80       380\n",
      "\n"
     ]
    },
    {
     "name": "stderr",
     "output_type": "stream",
     "text": [
      "Training Epochs:  72%|███████▏  | 1439/2000 [01:06<00:44, 12.52it/s]"
     ]
    },
    {
     "name": "stdout",
     "output_type": "stream",
     "text": [
      "Epoch 1440/2000, Loss: 0.0753\n",
      "Test Accuracy at Epoch 1440: 80.26%\n",
      "Test F1-score at Epoch 1440: 0.8157\n",
      "Classification Report at Epoch 1440:\n",
      "                  precision    recall  f1-score   support\n",
      "\n",
      "    infringement       0.87      0.72      0.79       194\n",
      "non_infringement       0.75      0.89      0.82       186\n",
      "\n",
      "        accuracy                           0.80       380\n",
      "       macro avg       0.81      0.80      0.80       380\n",
      "    weighted avg       0.81      0.80      0.80       380\n",
      "\n"
     ]
    },
    {
     "name": "stderr",
     "output_type": "stream",
     "text": [
      "Training Epochs:  73%|███████▎  | 1451/2000 [01:08<00:55,  9.83it/s]"
     ]
    },
    {
     "name": "stdout",
     "output_type": "stream",
     "text": [
      "Epoch 1450/2000, Loss: 0.0763\n",
      "Test Accuracy at Epoch 1450: 80.26%\n",
      "Test F1-score at Epoch 1450: 0.8157\n",
      "Classification Report at Epoch 1450:\n",
      "                  precision    recall  f1-score   support\n",
      "\n",
      "    infringement       0.87      0.72      0.79       194\n",
      "non_infringement       0.75      0.89      0.82       186\n",
      "\n",
      "        accuracy                           0.80       380\n",
      "       macro avg       0.81      0.80      0.80       380\n",
      "    weighted avg       0.81      0.80      0.80       380\n",
      "\n"
     ]
    },
    {
     "name": "stderr",
     "output_type": "stream",
     "text": [
      "Training Epochs:  73%|███████▎  | 1461/2000 [01:08<00:39, 13.52it/s]"
     ]
    },
    {
     "name": "stdout",
     "output_type": "stream",
     "text": [
      "Epoch 1460/2000, Loss: 0.0746\n",
      "Test Accuracy at Epoch 1460: 81.05%\n",
      "Test F1-score at Epoch 1460: 0.8218\n",
      "Classification Report at Epoch 1460:\n",
      "                  precision    recall  f1-score   support\n",
      "\n",
      "    infringement       0.88      0.73      0.80       194\n",
      "non_infringement       0.76      0.89      0.82       186\n",
      "\n",
      "        accuracy                           0.81       380\n",
      "       macro avg       0.82      0.81      0.81       380\n",
      "    weighted avg       0.82      0.81      0.81       380\n",
      "\n"
     ]
    },
    {
     "name": "stderr",
     "output_type": "stream",
     "text": [
      "Training Epochs:  74%|███████▎  | 1471/2000 [01:09<00:32, 16.14it/s]"
     ]
    },
    {
     "name": "stdout",
     "output_type": "stream",
     "text": [
      "Epoch 1470/2000, Loss: 0.0781\n",
      "Test Accuracy at Epoch 1470: 81.05%\n",
      "Test F1-score at Epoch 1470: 0.8218\n",
      "Classification Report at Epoch 1470:\n",
      "                  precision    recall  f1-score   support\n",
      "\n",
      "    infringement       0.88      0.73      0.80       194\n",
      "non_infringement       0.76      0.89      0.82       186\n",
      "\n",
      "        accuracy                           0.81       380\n",
      "       macro avg       0.82      0.81      0.81       380\n",
      "    weighted avg       0.82      0.81      0.81       380\n",
      "\n"
     ]
    },
    {
     "name": "stderr",
     "output_type": "stream",
     "text": [
      "Training Epochs:  74%|███████▍  | 1483/2000 [01:10<00:29, 17.73it/s]"
     ]
    },
    {
     "name": "stdout",
     "output_type": "stream",
     "text": [
      "Epoch 1480/2000, Loss: 0.0761\n",
      "Test Accuracy at Epoch 1480: 80.26%\n",
      "Test F1-score at Epoch 1480: 0.8157\n",
      "Classification Report at Epoch 1480:\n",
      "                  precision    recall  f1-score   support\n",
      "\n",
      "    infringement       0.87      0.72      0.79       194\n",
      "non_infringement       0.75      0.89      0.82       186\n",
      "\n",
      "        accuracy                           0.80       380\n",
      "       macro avg       0.81      0.80      0.80       380\n",
      "    weighted avg       0.81      0.80      0.80       380\n",
      "\n"
     ]
    },
    {
     "name": "stderr",
     "output_type": "stream",
     "text": [
      "Training Epochs:  75%|███████▍  | 1492/2000 [01:10<00:28, 17.82it/s]"
     ]
    },
    {
     "name": "stdout",
     "output_type": "stream",
     "text": [
      "Epoch 1490/2000, Loss: 0.0756\n",
      "Test Accuracy at Epoch 1490: 81.05%\n",
      "Test F1-score at Epoch 1490: 0.8218\n",
      "Classification Report at Epoch 1490:\n",
      "                  precision    recall  f1-score   support\n",
      "\n",
      "    infringement       0.88      0.73      0.80       194\n",
      "non_infringement       0.76      0.89      0.82       186\n",
      "\n",
      "        accuracy                           0.81       380\n",
      "       macro avg       0.82      0.81      0.81       380\n",
      "    weighted avg       0.82      0.81      0.81       380\n",
      "\n"
     ]
    },
    {
     "name": "stderr",
     "output_type": "stream",
     "text": [
      "Training Epochs:  75%|███████▌  | 1502/2000 [01:11<00:32, 15.45it/s]"
     ]
    },
    {
     "name": "stdout",
     "output_type": "stream",
     "text": [
      "Epoch 1500/2000, Loss: 0.0760\n",
      "Test Accuracy at Epoch 1500: 80.00%\n",
      "Test F1-score at Epoch 1500: 0.8137\n",
      "Classification Report at Epoch 1500:\n",
      "                  precision    recall  f1-score   support\n",
      "\n",
      "    infringement       0.87      0.71      0.78       194\n",
      "non_infringement       0.75      0.89      0.81       186\n",
      "\n",
      "        accuracy                           0.80       380\n",
      "       macro avg       0.81      0.80      0.80       380\n",
      "    weighted avg       0.81      0.80      0.80       380\n",
      "\n"
     ]
    },
    {
     "name": "stderr",
     "output_type": "stream",
     "text": [
      "Training Epochs:  76%|███████▌  | 1512/2000 [01:12<00:34, 14.33it/s]"
     ]
    },
    {
     "name": "stdout",
     "output_type": "stream",
     "text": [
      "Epoch 1510/2000, Loss: 0.0755\n",
      "Test Accuracy at Epoch 1510: 81.05%\n",
      "Test F1-score at Epoch 1510: 0.8218\n",
      "Classification Report at Epoch 1510:\n",
      "                  precision    recall  f1-score   support\n",
      "\n",
      "    infringement       0.88      0.73      0.80       194\n",
      "non_infringement       0.76      0.89      0.82       186\n",
      "\n",
      "        accuracy                           0.81       380\n",
      "       macro avg       0.82      0.81      0.81       380\n",
      "    weighted avg       0.82      0.81      0.81       380\n",
      "\n"
     ]
    },
    {
     "name": "stderr",
     "output_type": "stream",
     "text": [
      "Training Epochs:  76%|███████▌  | 1522/2000 [01:13<00:43, 10.89it/s]"
     ]
    },
    {
     "name": "stdout",
     "output_type": "stream",
     "text": [
      "Epoch 1520/2000, Loss: 0.0748\n",
      "Test Accuracy at Epoch 1520: 80.00%\n",
      "Test F1-score at Epoch 1520: 0.8137\n",
      "Classification Report at Epoch 1520:\n",
      "                  precision    recall  f1-score   support\n",
      "\n",
      "    infringement       0.87      0.71      0.78       194\n",
      "non_infringement       0.75      0.89      0.81       186\n",
      "\n",
      "        accuracy                           0.80       380\n",
      "       macro avg       0.81      0.80      0.80       380\n",
      "    weighted avg       0.81      0.80      0.80       380\n",
      "\n"
     ]
    },
    {
     "name": "stderr",
     "output_type": "stream",
     "text": [
      "Training Epochs:  77%|███████▋  | 1532/2000 [01:13<00:33, 14.00it/s]"
     ]
    },
    {
     "name": "stdout",
     "output_type": "stream",
     "text": [
      "Epoch 1530/2000, Loss: 0.0744\n",
      "Test Accuracy at Epoch 1530: 80.26%\n",
      "Test F1-score at Epoch 1530: 0.8157\n",
      "Classification Report at Epoch 1530:\n",
      "                  precision    recall  f1-score   support\n",
      "\n",
      "    infringement       0.87      0.72      0.79       194\n",
      "non_infringement       0.75      0.89      0.82       186\n",
      "\n",
      "        accuracy                           0.80       380\n",
      "       macro avg       0.81      0.80      0.80       380\n",
      "    weighted avg       0.81      0.80      0.80       380\n",
      "\n"
     ]
    },
    {
     "name": "stderr",
     "output_type": "stream",
     "text": [
      "Training Epochs:  77%|███████▋  | 1544/2000 [01:14<00:24, 18.98it/s]"
     ]
    },
    {
     "name": "stdout",
     "output_type": "stream",
     "text": [
      "Epoch 1540/2000, Loss: 0.0744\n",
      "Test Accuracy at Epoch 1540: 81.05%\n",
      "Test F1-score at Epoch 1540: 0.8218\n",
      "Classification Report at Epoch 1540:\n",
      "                  precision    recall  f1-score   support\n",
      "\n",
      "    infringement       0.88      0.73      0.80       194\n",
      "non_infringement       0.76      0.89      0.82       186\n",
      "\n",
      "        accuracy                           0.81       380\n",
      "       macro avg       0.82      0.81      0.81       380\n",
      "    weighted avg       0.82      0.81      0.81       380\n",
      "\n"
     ]
    },
    {
     "name": "stderr",
     "output_type": "stream",
     "text": [
      "Training Epochs:  78%|███████▊  | 1553/2000 [01:14<00:22, 19.63it/s]"
     ]
    },
    {
     "name": "stdout",
     "output_type": "stream",
     "text": [
      "Epoch 1550/2000, Loss: 0.0823\n",
      "Test Accuracy at Epoch 1550: 81.05%\n",
      "Test F1-score at Epoch 1550: 0.8218\n",
      "Classification Report at Epoch 1550:\n",
      "                  precision    recall  f1-score   support\n",
      "\n",
      "    infringement       0.88      0.73      0.80       194\n",
      "non_infringement       0.76      0.89      0.82       186\n",
      "\n",
      "        accuracy                           0.81       380\n",
      "       macro avg       0.82      0.81      0.81       380\n",
      "    weighted avg       0.82      0.81      0.81       380\n",
      "\n"
     ]
    },
    {
     "name": "stderr",
     "output_type": "stream",
     "text": [
      "Training Epochs:  78%|███████▊  | 1563/2000 [01:15<00:26, 16.76it/s]"
     ]
    },
    {
     "name": "stdout",
     "output_type": "stream",
     "text": [
      "Epoch 1560/2000, Loss: 0.0790\n",
      "Test Accuracy at Epoch 1560: 78.95%\n",
      "Test F1-score at Epoch 1560: 0.8068\n",
      "Classification Report at Epoch 1560:\n",
      "                  precision    recall  f1-score   support\n",
      "\n",
      "    infringement       0.88      0.69      0.77       194\n",
      "non_infringement       0.73      0.90      0.81       186\n",
      "\n",
      "        accuracy                           0.79       380\n",
      "       macro avg       0.80      0.79      0.79       380\n",
      "    weighted avg       0.81      0.79      0.79       380\n",
      "\n"
     ]
    },
    {
     "name": "stderr",
     "output_type": "stream",
     "text": [
      "Training Epochs:  79%|███████▊  | 1573/2000 [01:16<00:23, 18.10it/s]"
     ]
    },
    {
     "name": "stdout",
     "output_type": "stream",
     "text": [
      "Epoch 1570/2000, Loss: 0.0773\n",
      "Test Accuracy at Epoch 1570: 80.00%\n",
      "Test F1-score at Epoch 1570: 0.8137\n",
      "Classification Report at Epoch 1570:\n",
      "                  precision    recall  f1-score   support\n",
      "\n",
      "    infringement       0.87      0.71      0.78       194\n",
      "non_infringement       0.75      0.89      0.81       186\n",
      "\n",
      "        accuracy                           0.80       380\n",
      "       macro avg       0.81      0.80      0.80       380\n",
      "    weighted avg       0.81      0.80      0.80       380\n",
      "\n"
     ]
    },
    {
     "name": "stderr",
     "output_type": "stream",
     "text": [
      "Training Epochs:  79%|███████▉  | 1581/2000 [01:16<00:19, 21.58it/s]"
     ]
    },
    {
     "name": "stdout",
     "output_type": "stream",
     "text": [
      "Epoch 1580/2000, Loss: 0.0749\n",
      "Test Accuracy at Epoch 1580: 80.26%\n",
      "Test F1-score at Epoch 1580: 0.8157\n",
      "Classification Report at Epoch 1580:\n",
      "                  precision    recall  f1-score   support\n",
      "\n",
      "    infringement       0.87      0.72      0.79       194\n",
      "non_infringement       0.75      0.89      0.82       186\n",
      "\n",
      "        accuracy                           0.80       380\n",
      "       macro avg       0.81      0.80      0.80       380\n",
      "    weighted avg       0.81      0.80      0.80       380\n",
      "\n"
     ]
    },
    {
     "name": "stderr",
     "output_type": "stream",
     "text": [
      "Training Epochs:  80%|███████▉  | 1590/2000 [01:16<00:18, 22.14it/s]"
     ]
    },
    {
     "name": "stdout",
     "output_type": "stream",
     "text": [
      "Epoch 1590/2000, Loss: 0.0748\n",
      "Test Accuracy at Epoch 1590: 80.79%\n",
      "Test F1-score at Epoch 1590: 0.8198\n",
      "Classification Report at Epoch 1590:\n",
      "                  precision    recall  f1-score   support\n",
      "\n",
      "    infringement       0.88      0.73      0.79       194\n",
      "non_infringement       0.76      0.89      0.82       186\n",
      "\n",
      "        accuracy                           0.81       380\n",
      "       macro avg       0.82      0.81      0.81       380\n",
      "    weighted avg       0.82      0.81      0.81       380\n",
      "\n"
     ]
    },
    {
     "name": "stderr",
     "output_type": "stream",
     "text": [
      "Training Epochs:  80%|████████  | 1602/2000 [01:17<00:20, 19.62it/s]"
     ]
    },
    {
     "name": "stdout",
     "output_type": "stream",
     "text": [
      "Epoch 1600/2000, Loss: 0.0746\n",
      "Test Accuracy at Epoch 1600: 80.00%\n",
      "Test F1-score at Epoch 1600: 0.8137\n",
      "Classification Report at Epoch 1600:\n",
      "                  precision    recall  f1-score   support\n",
      "\n",
      "    infringement       0.87      0.71      0.78       194\n",
      "non_infringement       0.75      0.89      0.81       186\n",
      "\n",
      "        accuracy                           0.80       380\n",
      "       macro avg       0.81      0.80      0.80       380\n",
      "    weighted avg       0.81      0.80      0.80       380\n",
      "\n"
     ]
    },
    {
     "name": "stderr",
     "output_type": "stream",
     "text": [
      "Training Epochs:  81%|████████  | 1614/2000 [01:18<00:18, 20.59it/s]"
     ]
    },
    {
     "name": "stdout",
     "output_type": "stream",
     "text": [
      "Epoch 1610/2000, Loss: 0.0744\n",
      "Test Accuracy at Epoch 1610: 80.53%\n",
      "Test F1-score at Epoch 1610: 0.8177\n",
      "Classification Report at Epoch 1610:\n",
      "                  precision    recall  f1-score   support\n",
      "\n",
      "    infringement       0.88      0.72      0.79       194\n",
      "non_infringement       0.75      0.89      0.82       186\n",
      "\n",
      "        accuracy                           0.81       380\n",
      "       macro avg       0.81      0.81      0.80       380\n",
      "    weighted avg       0.82      0.81      0.80       380\n",
      "\n"
     ]
    },
    {
     "name": "stderr",
     "output_type": "stream",
     "text": [
      "Training Epochs:  81%|████████  | 1621/2000 [01:18<00:19, 18.95it/s]"
     ]
    },
    {
     "name": "stdout",
     "output_type": "stream",
     "text": [
      "Epoch 1620/2000, Loss: 0.0748\n",
      "Test Accuracy at Epoch 1620: 80.79%\n",
      "Test F1-score at Epoch 1620: 0.8198\n",
      "Classification Report at Epoch 1620:\n",
      "                  precision    recall  f1-score   support\n",
      "\n",
      "    infringement       0.88      0.73      0.79       194\n",
      "non_infringement       0.76      0.89      0.82       186\n",
      "\n",
      "        accuracy                           0.81       380\n",
      "       macro avg       0.82      0.81      0.81       380\n",
      "    weighted avg       0.82      0.81      0.81       380\n",
      "\n"
     ]
    },
    {
     "name": "stderr",
     "output_type": "stream",
     "text": [
      "Training Epochs:  82%|████████▏ | 1632/2000 [01:18<00:18, 19.42it/s]"
     ]
    },
    {
     "name": "stdout",
     "output_type": "stream",
     "text": [
      "Epoch 1630/2000, Loss: 0.0767\n",
      "Test Accuracy at Epoch 1630: 80.79%\n",
      "Test F1-score at Epoch 1630: 0.8198\n",
      "Classification Report at Epoch 1630:\n",
      "                  precision    recall  f1-score   support\n",
      "\n",
      "    infringement       0.88      0.73      0.79       194\n",
      "non_infringement       0.76      0.89      0.82       186\n",
      "\n",
      "        accuracy                           0.81       380\n",
      "       macro avg       0.82      0.81      0.81       380\n",
      "    weighted avg       0.82      0.81      0.81       380\n",
      "\n"
     ]
    },
    {
     "name": "stderr",
     "output_type": "stream",
     "text": [
      "Training Epochs:  82%|████████▏ | 1643/2000 [01:19<00:14, 23.85it/s]"
     ]
    },
    {
     "name": "stdout",
     "output_type": "stream",
     "text": [
      "Epoch 1640/2000, Loss: 0.0789\n",
      "Test Accuracy at Epoch 1640: 80.00%\n",
      "Test F1-score at Epoch 1640: 0.8137\n",
      "Classification Report at Epoch 1640:\n",
      "                  precision    recall  f1-score   support\n",
      "\n",
      "    infringement       0.87      0.71      0.78       194\n",
      "non_infringement       0.75      0.89      0.81       186\n",
      "\n",
      "        accuracy                           0.80       380\n",
      "       macro avg       0.81      0.80      0.80       380\n",
      "    weighted avg       0.81      0.80      0.80       380\n",
      "\n"
     ]
    },
    {
     "name": "stderr",
     "output_type": "stream",
     "text": [
      "Training Epochs:  83%|████████▎ | 1652/2000 [01:19<00:16, 21.61it/s]"
     ]
    },
    {
     "name": "stdout",
     "output_type": "stream",
     "text": [
      "Epoch 1650/2000, Loss: 0.0748\n",
      "Test Accuracy at Epoch 1650: 80.00%\n",
      "Test F1-score at Epoch 1650: 0.8137\n",
      "Classification Report at Epoch 1650:\n",
      "                  precision    recall  f1-score   support\n",
      "\n",
      "    infringement       0.87      0.71      0.78       194\n",
      "non_infringement       0.75      0.89      0.81       186\n",
      "\n",
      "        accuracy                           0.80       380\n",
      "       macro avg       0.81      0.80      0.80       380\n",
      "    weighted avg       0.81      0.80      0.80       380\n",
      "\n"
     ]
    },
    {
     "name": "stderr",
     "output_type": "stream",
     "text": [
      "Training Epochs:  83%|████████▎ | 1665/2000 [01:20<00:14, 23.76it/s]"
     ]
    },
    {
     "name": "stdout",
     "output_type": "stream",
     "text": [
      "Epoch 1660/2000, Loss: 0.0747\n",
      "Test Accuracy at Epoch 1660: 80.79%\n",
      "Test F1-score at Epoch 1660: 0.8198\n",
      "Classification Report at Epoch 1660:\n",
      "                  precision    recall  f1-score   support\n",
      "\n",
      "    infringement       0.88      0.73      0.79       194\n",
      "non_infringement       0.76      0.89      0.82       186\n",
      "\n",
      "        accuracy                           0.81       380\n",
      "       macro avg       0.82      0.81      0.81       380\n",
      "    weighted avg       0.82      0.81      0.81       380\n",
      "\n"
     ]
    },
    {
     "name": "stderr",
     "output_type": "stream",
     "text": [
      "Training Epochs:  84%|████████▍ | 1676/2000 [01:20<00:12, 26.53it/s]"
     ]
    },
    {
     "name": "stdout",
     "output_type": "stream",
     "text": [
      "Epoch 1670/2000, Loss: 0.0749\n",
      "Test Accuracy at Epoch 1670: 80.00%\n",
      "Test F1-score at Epoch 1670: 0.8137\n",
      "Classification Report at Epoch 1670:\n",
      "                  precision    recall  f1-score   support\n",
      "\n",
      "    infringement       0.87      0.71      0.78       194\n",
      "non_infringement       0.75      0.89      0.81       186\n",
      "\n",
      "        accuracy                           0.80       380\n",
      "       macro avg       0.81      0.80      0.80       380\n",
      "    weighted avg       0.81      0.80      0.80       380\n",
      "\n"
     ]
    },
    {
     "name": "stderr",
     "output_type": "stream",
     "text": [
      "Training Epochs:  84%|████████▍ | 1682/2000 [01:21<00:16, 18.79it/s]"
     ]
    },
    {
     "name": "stdout",
     "output_type": "stream",
     "text": [
      "Epoch 1680/2000, Loss: 0.0746\n",
      "Test Accuracy at Epoch 1680: 80.79%\n",
      "Test F1-score at Epoch 1680: 0.8198\n",
      "Classification Report at Epoch 1680:\n",
      "                  precision    recall  f1-score   support\n",
      "\n",
      "    infringement       0.88      0.73      0.79       194\n",
      "non_infringement       0.76      0.89      0.82       186\n",
      "\n",
      "        accuracy                           0.81       380\n",
      "       macro avg       0.82      0.81      0.81       380\n",
      "    weighted avg       0.82      0.81      0.81       380\n",
      "\n"
     ]
    },
    {
     "name": "stderr",
     "output_type": "stream",
     "text": [
      "Training Epochs:  85%|████████▍ | 1691/2000 [01:21<00:14, 20.87it/s]"
     ]
    },
    {
     "name": "stdout",
     "output_type": "stream",
     "text": [
      "Epoch 1690/2000, Loss: 0.0744\n",
      "Test Accuracy at Epoch 1690: 80.79%\n",
      "Test F1-score at Epoch 1690: 0.8198\n",
      "Classification Report at Epoch 1690:\n",
      "                  precision    recall  f1-score   support\n",
      "\n",
      "    infringement       0.88      0.73      0.79       194\n",
      "non_infringement       0.76      0.89      0.82       186\n",
      "\n",
      "        accuracy                           0.81       380\n",
      "       macro avg       0.82      0.81      0.81       380\n",
      "    weighted avg       0.82      0.81      0.81       380\n",
      "\n"
     ]
    },
    {
     "name": "stderr",
     "output_type": "stream",
     "text": [
      "Training Epochs:  85%|████████▌ | 1700/2000 [01:22<00:14, 20.45it/s]"
     ]
    },
    {
     "name": "stdout",
     "output_type": "stream",
     "text": [
      "Epoch 1700/2000, Loss: 0.0748\n",
      "Test Accuracy at Epoch 1700: 80.79%\n",
      "Test F1-score at Epoch 1700: 0.8198\n",
      "Classification Report at Epoch 1700:\n",
      "                  precision    recall  f1-score   support\n",
      "\n",
      "    infringement       0.88      0.73      0.79       194\n",
      "non_infringement       0.76      0.89      0.82       186\n",
      "\n",
      "        accuracy                           0.81       380\n",
      "       macro avg       0.82      0.81      0.81       380\n",
      "    weighted avg       0.82      0.81      0.81       380\n",
      "\n"
     ]
    },
    {
     "name": "stderr",
     "output_type": "stream",
     "text": [
      "Training Epochs:  86%|████████▌ | 1711/2000 [01:22<00:19, 14.75it/s]"
     ]
    },
    {
     "name": "stdout",
     "output_type": "stream",
     "text": [
      "Epoch 1710/2000, Loss: 0.0752\n",
      "Test Accuracy at Epoch 1710: 80.26%\n",
      "Test F1-score at Epoch 1710: 0.8157\n",
      "Classification Report at Epoch 1710:\n",
      "                  precision    recall  f1-score   support\n",
      "\n",
      "    infringement       0.87      0.72      0.79       194\n",
      "non_infringement       0.75      0.89      0.82       186\n",
      "\n",
      "        accuracy                           0.80       380\n",
      "       macro avg       0.81      0.80      0.80       380\n",
      "    weighted avg       0.81      0.80      0.80       380\n",
      "\n"
     ]
    },
    {
     "name": "stderr",
     "output_type": "stream",
     "text": [
      "Training Epochs:  86%|████████▌ | 1721/2000 [01:23<00:17, 16.30it/s]"
     ]
    },
    {
     "name": "stdout",
     "output_type": "stream",
     "text": [
      "Epoch 1720/2000, Loss: 0.0744\n",
      "Test Accuracy at Epoch 1720: 80.79%\n",
      "Test F1-score at Epoch 1720: 0.8198\n",
      "Classification Report at Epoch 1720:\n",
      "                  precision    recall  f1-score   support\n",
      "\n",
      "    infringement       0.88      0.73      0.79       194\n",
      "non_infringement       0.76      0.89      0.82       186\n",
      "\n",
      "        accuracy                           0.81       380\n",
      "       macro avg       0.82      0.81      0.81       380\n",
      "    weighted avg       0.82      0.81      0.81       380\n",
      "\n"
     ]
    },
    {
     "name": "stderr",
     "output_type": "stream",
     "text": [
      "Training Epochs:  87%|████████▋ | 1731/2000 [01:23<00:15, 16.94it/s]"
     ]
    },
    {
     "name": "stdout",
     "output_type": "stream",
     "text": [
      "Epoch 1730/2000, Loss: 0.0757\n",
      "Test Accuracy at Epoch 1730: 80.00%\n",
      "Test F1-score at Epoch 1730: 0.8137\n",
      "Classification Report at Epoch 1730:\n",
      "                  precision    recall  f1-score   support\n",
      "\n",
      "    infringement       0.87      0.71      0.78       194\n",
      "non_infringement       0.75      0.89      0.81       186\n",
      "\n",
      "        accuracy                           0.80       380\n",
      "       macro avg       0.81      0.80      0.80       380\n",
      "    weighted avg       0.81      0.80      0.80       380\n",
      "\n"
     ]
    },
    {
     "name": "stderr",
     "output_type": "stream",
     "text": [
      "Training Epochs:  87%|████████▋ | 1743/2000 [01:24<00:14, 17.55it/s]"
     ]
    },
    {
     "name": "stdout",
     "output_type": "stream",
     "text": [
      "Epoch 1740/2000, Loss: 0.0749\n",
      "Test Accuracy at Epoch 1740: 80.79%\n",
      "Test F1-score at Epoch 1740: 0.8198\n",
      "Classification Report at Epoch 1740:\n",
      "                  precision    recall  f1-score   support\n",
      "\n",
      "    infringement       0.88      0.73      0.79       194\n",
      "non_infringement       0.76      0.89      0.82       186\n",
      "\n",
      "        accuracy                           0.81       380\n",
      "       macro avg       0.82      0.81      0.81       380\n",
      "    weighted avg       0.82      0.81      0.81       380\n",
      "\n"
     ]
    },
    {
     "name": "stderr",
     "output_type": "stream",
     "text": [
      "Training Epochs:  88%|████████▊ | 1753/2000 [01:25<00:13, 18.40it/s]"
     ]
    },
    {
     "name": "stdout",
     "output_type": "stream",
     "text": [
      "Epoch 1750/2000, Loss: 0.0746\n",
      "Test Accuracy at Epoch 1750: 80.00%\n",
      "Test F1-score at Epoch 1750: 0.8137\n",
      "Classification Report at Epoch 1750:\n",
      "                  precision    recall  f1-score   support\n",
      "\n",
      "    infringement       0.87      0.71      0.78       194\n",
      "non_infringement       0.75      0.89      0.81       186\n",
      "\n",
      "        accuracy                           0.80       380\n",
      "       macro avg       0.81      0.80      0.80       380\n",
      "    weighted avg       0.81      0.80      0.80       380\n",
      "\n"
     ]
    },
    {
     "name": "stderr",
     "output_type": "stream",
     "text": [
      "Training Epochs:  88%|████████▊ | 1762/2000 [01:25<00:14, 16.66it/s]"
     ]
    },
    {
     "name": "stdout",
     "output_type": "stream",
     "text": [
      "Epoch 1760/2000, Loss: 0.0746\n",
      "Test Accuracy at Epoch 1760: 80.79%\n",
      "Test F1-score at Epoch 1760: 0.8198\n",
      "Classification Report at Epoch 1760:\n",
      "                  precision    recall  f1-score   support\n",
      "\n",
      "    infringement       0.88      0.73      0.79       194\n",
      "non_infringement       0.76      0.89      0.82       186\n",
      "\n",
      "        accuracy                           0.81       380\n",
      "       macro avg       0.82      0.81      0.81       380\n",
      "    weighted avg       0.82      0.81      0.81       380\n",
      "\n"
     ]
    },
    {
     "name": "stderr",
     "output_type": "stream",
     "text": [
      "Training Epochs:  89%|████████▊ | 1773/2000 [01:26<00:12, 17.61it/s]"
     ]
    },
    {
     "name": "stdout",
     "output_type": "stream",
     "text": [
      "Epoch 1770/2000, Loss: 0.0746\n",
      "Test Accuracy at Epoch 1770: 80.79%\n",
      "Test F1-score at Epoch 1770: 0.8198\n",
      "Classification Report at Epoch 1770:\n",
      "                  precision    recall  f1-score   support\n",
      "\n",
      "    infringement       0.88      0.73      0.79       194\n",
      "non_infringement       0.76      0.89      0.82       186\n",
      "\n",
      "        accuracy                           0.81       380\n",
      "       macro avg       0.82      0.81      0.81       380\n",
      "    weighted avg       0.82      0.81      0.81       380\n",
      "\n"
     ]
    },
    {
     "name": "stderr",
     "output_type": "stream",
     "text": [
      "Training Epochs:  89%|████████▉ | 1782/2000 [01:26<00:13, 16.45it/s]"
     ]
    },
    {
     "name": "stdout",
     "output_type": "stream",
     "text": [
      "Epoch 1780/2000, Loss: 0.0775\n",
      "Test Accuracy at Epoch 1780: 80.79%\n",
      "Test F1-score at Epoch 1780: 0.8198\n",
      "Classification Report at Epoch 1780:\n",
      "                  precision    recall  f1-score   support\n",
      "\n",
      "    infringement       0.88      0.73      0.79       194\n",
      "non_infringement       0.76      0.89      0.82       186\n",
      "\n",
      "        accuracy                           0.81       380\n",
      "       macro avg       0.82      0.81      0.81       380\n",
      "    weighted avg       0.82      0.81      0.81       380\n",
      "\n"
     ]
    },
    {
     "name": "stderr",
     "output_type": "stream",
     "text": [
      "Training Epochs:  90%|████████▉ | 1794/2000 [01:27<00:10, 18.95it/s]"
     ]
    },
    {
     "name": "stdout",
     "output_type": "stream",
     "text": [
      "Epoch 1790/2000, Loss: 0.0767\n",
      "Test Accuracy at Epoch 1790: 80.00%\n",
      "Test F1-score at Epoch 1790: 0.8137\n",
      "Classification Report at Epoch 1790:\n",
      "                  precision    recall  f1-score   support\n",
      "\n",
      "    infringement       0.87      0.71      0.78       194\n",
      "non_infringement       0.75      0.89      0.81       186\n",
      "\n",
      "        accuracy                           0.80       380\n",
      "       macro avg       0.81      0.80      0.80       380\n",
      "    weighted avg       0.81      0.80      0.80       380\n",
      "\n"
     ]
    },
    {
     "name": "stderr",
     "output_type": "stream",
     "text": [
      "Training Epochs:  90%|█████████ | 1800/2000 [01:27<00:11, 17.74it/s]"
     ]
    },
    {
     "name": "stdout",
     "output_type": "stream",
     "text": [
      "Epoch 1800/2000, Loss: 0.0761\n",
      "Test Accuracy at Epoch 1800: 80.53%\n",
      "Test F1-score at Epoch 1800: 0.8168\n",
      "Classification Report at Epoch 1800:\n",
      "                  precision    recall  f1-score   support\n",
      "\n",
      "    infringement       0.87      0.73      0.79       194\n",
      "non_infringement       0.76      0.89      0.82       186\n",
      "\n",
      "        accuracy                           0.81       380\n",
      "       macro avg       0.81      0.81      0.80       380\n",
      "    weighted avg       0.81      0.81      0.80       380\n",
      "\n"
     ]
    },
    {
     "name": "stderr",
     "output_type": "stream",
     "text": [
      "Training Epochs:  91%|█████████ | 1812/2000 [01:28<00:12, 15.02it/s]"
     ]
    },
    {
     "name": "stdout",
     "output_type": "stream",
     "text": [
      "Epoch 1810/2000, Loss: 0.0757\n",
      "Test Accuracy at Epoch 1810: 80.00%\n",
      "Test F1-score at Epoch 1810: 0.8137\n",
      "Classification Report at Epoch 1810:\n",
      "                  precision    recall  f1-score   support\n",
      "\n",
      "    infringement       0.87      0.71      0.78       194\n",
      "non_infringement       0.75      0.89      0.81       186\n",
      "\n",
      "        accuracy                           0.80       380\n",
      "       macro avg       0.81      0.80      0.80       380\n",
      "    weighted avg       0.81      0.80      0.80       380\n",
      "\n"
     ]
    },
    {
     "name": "stderr",
     "output_type": "stream",
     "text": [
      "Training Epochs:  91%|█████████ | 1822/2000 [01:29<00:12, 14.10it/s]"
     ]
    },
    {
     "name": "stdout",
     "output_type": "stream",
     "text": [
      "Epoch 1820/2000, Loss: 0.0748\n",
      "Test Accuracy at Epoch 1820: 80.79%\n",
      "Test F1-score at Epoch 1820: 0.8198\n",
      "Classification Report at Epoch 1820:\n",
      "                  precision    recall  f1-score   support\n",
      "\n",
      "    infringement       0.88      0.73      0.79       194\n",
      "non_infringement       0.76      0.89      0.82       186\n",
      "\n",
      "        accuracy                           0.81       380\n",
      "       macro avg       0.82      0.81      0.81       380\n",
      "    weighted avg       0.82      0.81      0.81       380\n",
      "\n"
     ]
    },
    {
     "name": "stderr",
     "output_type": "stream",
     "text": [
      "Training Epochs:  92%|█████████▏| 1832/2000 [01:30<00:11, 14.27it/s]"
     ]
    },
    {
     "name": "stdout",
     "output_type": "stream",
     "text": [
      "Epoch 1830/2000, Loss: 0.0742\n",
      "Test Accuracy at Epoch 1830: 80.00%\n",
      "Test F1-score at Epoch 1830: 0.8137\n",
      "Classification Report at Epoch 1830:\n",
      "                  precision    recall  f1-score   support\n",
      "\n",
      "    infringement       0.87      0.71      0.78       194\n",
      "non_infringement       0.75      0.89      0.81       186\n",
      "\n",
      "        accuracy                           0.80       380\n",
      "       macro avg       0.81      0.80      0.80       380\n",
      "    weighted avg       0.81      0.80      0.80       380\n",
      "\n"
     ]
    },
    {
     "name": "stderr",
     "output_type": "stream",
     "text": [
      "Training Epochs:  92%|█████████▏| 1841/2000 [01:30<00:10, 15.47it/s]"
     ]
    },
    {
     "name": "stdout",
     "output_type": "stream",
     "text": [
      "Epoch 1840/2000, Loss: 0.0755\n",
      "Test Accuracy at Epoch 1840: 80.00%\n",
      "Test F1-score at Epoch 1840: 0.8137\n",
      "Classification Report at Epoch 1840:\n",
      "                  precision    recall  f1-score   support\n",
      "\n",
      "    infringement       0.87      0.71      0.78       194\n",
      "non_infringement       0.75      0.89      0.81       186\n",
      "\n",
      "        accuracy                           0.80       380\n",
      "       macro avg       0.81      0.80      0.80       380\n",
      "    weighted avg       0.81      0.80      0.80       380\n",
      "\n"
     ]
    },
    {
     "name": "stderr",
     "output_type": "stream",
     "text": [
      "Training Epochs:  93%|█████████▎| 1852/2000 [01:31<00:09, 15.19it/s]"
     ]
    },
    {
     "name": "stdout",
     "output_type": "stream",
     "text": [
      "Epoch 1850/2000, Loss: 0.0748\n",
      "Test Accuracy at Epoch 1850: 80.00%\n",
      "Test F1-score at Epoch 1850: 0.8137\n",
      "Classification Report at Epoch 1850:\n",
      "                  precision    recall  f1-score   support\n",
      "\n",
      "    infringement       0.87      0.71      0.78       194\n",
      "non_infringement       0.75      0.89      0.81       186\n",
      "\n",
      "        accuracy                           0.80       380\n",
      "       macro avg       0.81      0.80      0.80       380\n",
      "    weighted avg       0.81      0.80      0.80       380\n",
      "\n"
     ]
    },
    {
     "name": "stderr",
     "output_type": "stream",
     "text": [
      "Training Epochs:  93%|█████████▎| 1861/2000 [01:32<00:10, 13.55it/s]"
     ]
    },
    {
     "name": "stdout",
     "output_type": "stream",
     "text": [
      "Epoch 1860/2000, Loss: 0.0744\n",
      "Test Accuracy at Epoch 1860: 80.00%\n",
      "Test F1-score at Epoch 1860: 0.8137\n",
      "Classification Report at Epoch 1860:\n",
      "                  precision    recall  f1-score   support\n",
      "\n",
      "    infringement       0.87      0.71      0.78       194\n",
      "non_infringement       0.75      0.89      0.81       186\n",
      "\n",
      "        accuracy                           0.80       380\n",
      "       macro avg       0.81      0.80      0.80       380\n",
      "    weighted avg       0.81      0.80      0.80       380\n",
      "\n"
     ]
    },
    {
     "name": "stderr",
     "output_type": "stream",
     "text": [
      "Training Epochs:  94%|█████████▎| 1871/2000 [01:32<00:08, 15.14it/s]"
     ]
    },
    {
     "name": "stdout",
     "output_type": "stream",
     "text": [
      "Epoch 1870/2000, Loss: 0.0778\n",
      "Test Accuracy at Epoch 1870: 80.26%\n",
      "Test F1-score at Epoch 1870: 0.8166\n",
      "Classification Report at Epoch 1870:\n",
      "                  precision    recall  f1-score   support\n",
      "\n",
      "    infringement       0.88      0.71      0.79       194\n",
      "non_infringement       0.75      0.90      0.82       186\n",
      "\n",
      "        accuracy                           0.80       380\n",
      "       macro avg       0.81      0.80      0.80       380\n",
      "    weighted avg       0.82      0.80      0.80       380\n",
      "\n"
     ]
    },
    {
     "name": "stderr",
     "output_type": "stream",
     "text": [
      "Training Epochs:  94%|█████████▍| 1881/2000 [01:33<00:12,  9.89it/s]"
     ]
    },
    {
     "name": "stdout",
     "output_type": "stream",
     "text": [
      "Epoch 1880/2000, Loss: 0.0756\n",
      "Test Accuracy at Epoch 1880: 80.26%\n",
      "Test F1-score at Epoch 1880: 0.8157\n",
      "Classification Report at Epoch 1880:\n",
      "                  precision    recall  f1-score   support\n",
      "\n",
      "    infringement       0.87      0.72      0.79       194\n",
      "non_infringement       0.75      0.89      0.82       186\n",
      "\n",
      "        accuracy                           0.80       380\n",
      "       macro avg       0.81      0.80      0.80       380\n",
      "    weighted avg       0.81      0.80      0.80       380\n",
      "\n"
     ]
    },
    {
     "name": "stderr",
     "output_type": "stream",
     "text": [
      "Training Epochs:  95%|█████████▍| 1893/2000 [01:34<00:06, 16.42it/s]"
     ]
    },
    {
     "name": "stdout",
     "output_type": "stream",
     "text": [
      "Epoch 1890/2000, Loss: 0.0749\n",
      "Test Accuracy at Epoch 1890: 80.79%\n",
      "Test F1-score at Epoch 1890: 0.8198\n",
      "Classification Report at Epoch 1890:\n",
      "                  precision    recall  f1-score   support\n",
      "\n",
      "    infringement       0.88      0.73      0.79       194\n",
      "non_infringement       0.76      0.89      0.82       186\n",
      "\n",
      "        accuracy                           0.81       380\n",
      "       macro avg       0.82      0.81      0.81       380\n",
      "    weighted avg       0.82      0.81      0.81       380\n",
      "\n"
     ]
    },
    {
     "name": "stderr",
     "output_type": "stream",
     "text": [
      "Training Epochs:  95%|█████████▌| 1902/2000 [01:35<00:06, 16.24it/s]"
     ]
    },
    {
     "name": "stdout",
     "output_type": "stream",
     "text": [
      "Epoch 1900/2000, Loss: 0.0749\n",
      "Test Accuracy at Epoch 1900: 80.00%\n",
      "Test F1-score at Epoch 1900: 0.8137\n",
      "Classification Report at Epoch 1900:\n",
      "                  precision    recall  f1-score   support\n",
      "\n",
      "    infringement       0.87      0.71      0.78       194\n",
      "non_infringement       0.75      0.89      0.81       186\n",
      "\n",
      "        accuracy                           0.80       380\n",
      "       macro avg       0.81      0.80      0.80       380\n",
      "    weighted avg       0.81      0.80      0.80       380\n",
      "\n"
     ]
    },
    {
     "name": "stderr",
     "output_type": "stream",
     "text": [
      "Training Epochs:  96%|█████████▌| 1912/2000 [01:35<00:05, 14.96it/s]"
     ]
    },
    {
     "name": "stdout",
     "output_type": "stream",
     "text": [
      "Epoch 1910/2000, Loss: 0.0743\n",
      "Test Accuracy at Epoch 1910: 80.00%\n",
      "Test F1-score at Epoch 1910: 0.8137\n",
      "Classification Report at Epoch 1910:\n",
      "                  precision    recall  f1-score   support\n",
      "\n",
      "    infringement       0.87      0.71      0.78       194\n",
      "non_infringement       0.75      0.89      0.81       186\n",
      "\n",
      "        accuracy                           0.80       380\n",
      "       macro avg       0.81      0.80      0.80       380\n",
      "    weighted avg       0.81      0.80      0.80       380\n",
      "\n"
     ]
    },
    {
     "name": "stderr",
     "output_type": "stream",
     "text": [
      "Training Epochs:  96%|█████████▌| 1920/2000 [01:36<00:04, 18.14it/s]"
     ]
    },
    {
     "name": "stdout",
     "output_type": "stream",
     "text": [
      "Epoch 1920/2000, Loss: 0.0744\n",
      "Test Accuracy at Epoch 1920: 80.26%\n",
      "Test F1-score at Epoch 1920: 0.8157\n",
      "Classification Report at Epoch 1920:\n",
      "                  precision    recall  f1-score   support\n",
      "\n",
      "    infringement       0.87      0.72      0.79       194\n",
      "non_infringement       0.75      0.89      0.82       186\n",
      "\n",
      "        accuracy                           0.80       380\n",
      "       macro avg       0.81      0.80      0.80       380\n",
      "    weighted avg       0.81      0.80      0.80       380\n",
      "\n"
     ]
    },
    {
     "name": "stderr",
     "output_type": "stream",
     "text": [
      "Training Epochs:  97%|█████████▋| 1933/2000 [01:37<00:03, 18.13it/s]"
     ]
    },
    {
     "name": "stdout",
     "output_type": "stream",
     "text": [
      "Epoch 1930/2000, Loss: 0.0753\n",
      "Test Accuracy at Epoch 1930: 80.26%\n",
      "Test F1-score at Epoch 1930: 0.8166\n",
      "Classification Report at Epoch 1930:\n",
      "                  precision    recall  f1-score   support\n",
      "\n",
      "    infringement       0.88      0.71      0.79       194\n",
      "non_infringement       0.75      0.90      0.82       186\n",
      "\n",
      "        accuracy                           0.80       380\n",
      "       macro avg       0.81      0.80      0.80       380\n",
      "    weighted avg       0.82      0.80      0.80       380\n",
      "\n"
     ]
    },
    {
     "name": "stderr",
     "output_type": "stream",
     "text": [
      "Training Epochs:  97%|█████████▋| 1943/2000 [01:37<00:03, 18.51it/s]"
     ]
    },
    {
     "name": "stdout",
     "output_type": "stream",
     "text": [
      "Epoch 1940/2000, Loss: 0.0745\n",
      "Test Accuracy at Epoch 1940: 80.00%\n",
      "Test F1-score at Epoch 1940: 0.8137\n",
      "Classification Report at Epoch 1940:\n",
      "                  precision    recall  f1-score   support\n",
      "\n",
      "    infringement       0.87      0.71      0.78       194\n",
      "non_infringement       0.75      0.89      0.81       186\n",
      "\n",
      "        accuracy                           0.80       380\n",
      "       macro avg       0.81      0.80      0.80       380\n",
      "    weighted avg       0.81      0.80      0.80       380\n",
      "\n"
     ]
    },
    {
     "name": "stderr",
     "output_type": "stream",
     "text": [
      "Training Epochs:  98%|█████████▊| 1951/2000 [01:38<00:02, 20.35it/s]"
     ]
    },
    {
     "name": "stdout",
     "output_type": "stream",
     "text": [
      "Epoch 1950/2000, Loss: 0.0756\n",
      "Test Accuracy at Epoch 1950: 80.53%\n",
      "Test F1-score at Epoch 1950: 0.8168\n",
      "Classification Report at Epoch 1950:\n",
      "                  precision    recall  f1-score   support\n",
      "\n",
      "    infringement       0.87      0.73      0.79       194\n",
      "non_infringement       0.76      0.89      0.82       186\n",
      "\n",
      "        accuracy                           0.81       380\n",
      "       macro avg       0.81      0.81      0.80       380\n",
      "    weighted avg       0.81      0.81      0.80       380\n",
      "\n"
     ]
    },
    {
     "name": "stderr",
     "output_type": "stream",
     "text": [
      "Training Epochs:  98%|█████████▊| 1963/2000 [01:38<00:01, 20.03it/s]"
     ]
    },
    {
     "name": "stdout",
     "output_type": "stream",
     "text": [
      "Epoch 1960/2000, Loss: 0.0748\n",
      "Test Accuracy at Epoch 1960: 80.00%\n",
      "Test F1-score at Epoch 1960: 0.8137\n",
      "Classification Report at Epoch 1960:\n",
      "                  precision    recall  f1-score   support\n",
      "\n",
      "    infringement       0.87      0.71      0.78       194\n",
      "non_infringement       0.75      0.89      0.81       186\n",
      "\n",
      "        accuracy                           0.80       380\n",
      "       macro avg       0.81      0.80      0.80       380\n",
      "    weighted avg       0.81      0.80      0.80       380\n",
      "\n"
     ]
    },
    {
     "name": "stderr",
     "output_type": "stream",
     "text": [
      "Training Epochs:  99%|█████████▊| 1972/2000 [01:39<00:01, 18.14it/s]"
     ]
    },
    {
     "name": "stdout",
     "output_type": "stream",
     "text": [
      "Epoch 1970/2000, Loss: 0.0748\n",
      "Test Accuracy at Epoch 1970: 80.00%\n",
      "Test F1-score at Epoch 1970: 0.8137\n",
      "Classification Report at Epoch 1970:\n",
      "                  precision    recall  f1-score   support\n",
      "\n",
      "    infringement       0.87      0.71      0.78       194\n",
      "non_infringement       0.75      0.89      0.81       186\n",
      "\n",
      "        accuracy                           0.80       380\n",
      "       macro avg       0.81      0.80      0.80       380\n",
      "    weighted avg       0.81      0.80      0.80       380\n",
      "\n"
     ]
    },
    {
     "name": "stderr",
     "output_type": "stream",
     "text": [
      "Training Epochs:  99%|█████████▉| 1982/2000 [01:39<00:01, 16.92it/s]"
     ]
    },
    {
     "name": "stdout",
     "output_type": "stream",
     "text": [
      "Epoch 1980/2000, Loss: 0.0746\n",
      "Test Accuracy at Epoch 1980: 80.79%\n",
      "Test F1-score at Epoch 1980: 0.8198\n",
      "Classification Report at Epoch 1980:\n",
      "                  precision    recall  f1-score   support\n",
      "\n",
      "    infringement       0.88      0.73      0.79       194\n",
      "non_infringement       0.76      0.89      0.82       186\n",
      "\n",
      "        accuracy                           0.81       380\n",
      "       macro avg       0.82      0.81      0.81       380\n",
      "    weighted avg       0.82      0.81      0.81       380\n",
      "\n"
     ]
    },
    {
     "name": "stderr",
     "output_type": "stream",
     "text": [
      "Training Epochs: 100%|█████████▉| 1992/2000 [01:40<00:00, 16.44it/s]"
     ]
    },
    {
     "name": "stdout",
     "output_type": "stream",
     "text": [
      "Epoch 1990/2000, Loss: 0.0756\n",
      "Test Accuracy at Epoch 1990: 80.53%\n",
      "Test F1-score at Epoch 1990: 0.8168\n",
      "Classification Report at Epoch 1990:\n",
      "                  precision    recall  f1-score   support\n",
      "\n",
      "    infringement       0.87      0.73      0.79       194\n",
      "non_infringement       0.76      0.89      0.82       186\n",
      "\n",
      "        accuracy                           0.81       380\n",
      "       macro avg       0.81      0.81      0.80       380\n",
      "    weighted avg       0.81      0.81      0.80       380\n",
      "\n"
     ]
    },
    {
     "name": "stderr",
     "output_type": "stream",
     "text": [
      "Training Epochs: 100%|██████████| 2000/2000 [01:41<00:00, 19.78it/s]\n",
      "/tmp/ipykernel_199514/2033666368.py:59: FutureWarning: You are using `torch.load` with `weights_only=False` (the current default value), which uses the default pickle module implicitly. It is possible to construct malicious pickle data which will execute arbitrary code during unpickling (See https://github.com/pytorch/pytorch/blob/main/SECURITY.md#untrusted-models for more details). In a future release, the default value for `weights_only` will be flipped to `True`. This limits the functions that could be executed during unpickling. Arbitrary objects will no longer be allowed to be loaded via this mode unless they are explicitly allowlisted by the user via `torch.serialization.add_safe_globals`. We recommend you start setting `weights_only=True` for any use case where you don't have full control of the loaded file. Please open an issue on GitHub for any issues related to this experimental feature.\n",
      "  custom_mlp.load_state_dict(torch.load(checkpoint_path))\n"
     ]
    },
    {
     "name": "stdout",
     "output_type": "stream",
     "text": [
      "Epoch 2000/2000, Loss: 0.0758\n",
      "Test Accuracy at Epoch 2000: 80.00%\n",
      "Test F1-score at Epoch 2000: 0.8146\n",
      "Classification Report at Epoch 2000:\n",
      "                  precision    recall  f1-score   support\n",
      "\n",
      "    infringement       0.88      0.71      0.78       194\n",
      "non_infringement       0.75      0.90      0.81       186\n",
      "\n",
      "        accuracy                           0.80       380\n",
      "       macro avg       0.81      0.80      0.80       380\n",
      "    weighted avg       0.81      0.80      0.80       380\n",
      "\n"
     ]
    },
    {
     "data": {
      "image/png": "[encoded data removed]",
      "text/plain": [
       "<Figure size 1000x500 with 1 Axes>"
      ]
     },
     "metadata": {},
     "output_type": "display_data"
    },
    {
     "name": "stdout",
     "output_type": "stream",
     "text": [
      "Final Model Accuracy: 81.58%\n",
      "Final Model F1-score: 0.8284\n"
     ]
    }
   ],
   "source": [
    "input_dim = X_train.shape[1]\n",
    "hidden_dim = 256 \n",
    "print(f\"Training MLP model with input_dim={input_dim} and hidden_dim={hidden_dim}\")\n",
    "\n",
    "custom_mlp, losses, best_accuracy, best_f1 = train_model(X_train, y_train, X_test, y_test, input_dim, hidden_dim)"
   ]
  },
  {
   "cell_type": "code",
   "execution_count": 10,
   "metadata": {},
   "outputs": [
    {
     "name": "stdout",
     "output_type": "stream",
     "text": [
      "Checkpoint saved to '/home/guangwei/LLM-COPYRIGHT/copyright_newVersion/models/train_input_reference_0_layer.pth'.\n"
     ]
    }
   ],
   "source": [
    "def save_checkpoint(model, optimizer, epoch, loss, filepath):\n",
    "    checkpoint = {\n",
    "        'epoch': epoch + 1,\n",
    "        'model_state_dict': model.state_dict(),\n",
    "        'optimizer_state_dict': optimizer.state_dict(),\n",
    "        'loss': loss\n",
    "    }\n",
    "    torch.save(checkpoint, filepath)\n",
    "    print(f\"Checkpoint saved to '{filepath}'.\")\n",
    "\n",
    "save_checkpoint(custom_mlp, torch.optim.Adam(custom_mlp.parameters()), len(losses), losses[-1], checkpoint_file)"
   ]
  },
  {
   "cell_type": "code",
   "execution_count": 11,
   "metadata": {},
   "outputs": [
    {
     "name": "stdout",
     "output_type": "stream",
     "text": [
      "                  precision    recall  f1-score   support\n",
      "\n",
      "    infringement       0.89      0.73      0.80       194\n",
      "non_infringement       0.76      0.91      0.83       186\n",
      "\n",
      "        accuracy                           0.82       380\n",
      "       macro avg       0.83      0.82      0.81       380\n",
      "    weighted avg       0.83      0.82      0.81       380\n",
      "\n"
     ]
    },
    {
     "name": "stderr",
     "output_type": "stream",
     "text": [
      "/tmp/ipykernel_199514/2137335780.py:1: UserWarning: To copy construct from a tensor, it is recommended to use sourceTensor.clone().detach() or sourceTensor.clone().detach().requires_grad_(True), rather than torch.tensor(sourceTensor).\n",
      "  y_pred_final = (torch.sigmoid(torch.tensor(custom_mlp(torch.tensor(X_test, dtype=torch.float32)))) > 0.5).float().numpy()\n"
     ]
    }
   ],
   "source": [
    "y_pred_final = (torch.sigmoid(torch.tensor(custom_mlp(torch.tensor(X_test, dtype=torch.float32)))) > 0.5).float().numpy()\n",
    "print(classification_report(y_test, y_pred_final, target_names=[\"infringement\", \"non_infringement\"]))"
   ]
  }
 ],
 "metadata": {
  "kernelspec": {
   "display_name": "zdh",
   "language": "python",
   "name": "python3"
  },
  "language_info": {
   "codemirror_mode": {
    "name": "ipython",
    "version": 3
   },
   "file_extension": ".py",
   "mimetype": "text/x-python",
   "name": "python",
   "nbconvert_exporter": "python",
   "pygments_lexer": "ipython3",
   "version": "3.12.3"
  }
 },
 "nbformat": 4,
 "nbformat_minor": 2
}
