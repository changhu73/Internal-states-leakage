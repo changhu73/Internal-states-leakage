{
 "cells": [
  {
   "cell_type": "code",
   "execution_count": null,
   "metadata": {},
   "outputs": [
    {
     "name": "stderr",
     "output_type": "stream",
     "text": [
      "/home/guangwei/miniconda3/envs/zdh/lib/python3.12/site-packages/tqdm/auto.py:21: TqdmWarning: IProgress not found. Please update jupyter and ipywidgets. See https://ipywidgets.readthedocs.io/en/stable/user_install.html\n",
      "  from .autonotebook import tqdm as notebook_tqdm\n"
     ]
    },
    {
     "name": "stdout",
     "output_type": "stream",
     "text": [
      "Loading model across multiple GPUs...\n"
     ]
    },
    {
     "name": "stderr",
     "output_type": "stream",
     "text": [
      "/home/guangwei/miniconda3/envs/zdh/lib/python3.12/site-packages/transformers/generation/configuration_utils.py:774: UserWarning: `return_dict_in_generate` is NOT set to `True`, but `output_hidden_states` is. When `return_dict_in_generate` is not `True`, `output_hidden_states` is ignored.\n",
      "  warnings.warn(\n",
      "Loading checkpoint shards: 100%|██████████| 30/30 [01:08<00:00,  2.28s/it]\n"
     ]
    },
    {
     "name": "stdout",
     "output_type": "stream",
     "text": [
      "Model loaded successfully.\n",
      "Extracting hidden states for non_infringement texts...\n"
     ]
    },
    {
     "name": "stderr",
     "output_type": "stream",
     "text": [
      "Processing data batches: 100%|██████████| 198/198 [04:10<00:00,  1.26s/it]\n"
     ]
    },
    {
     "name": "stdout",
     "output_type": "stream",
     "text": [
      "Extracting reference embeddings for non_infringement texts...\n"
     ]
    },
    {
     "name": "stderr",
     "output_type": "stream",
     "text": [
      "Processing references: 100%|██████████| 198/198 [00:01<00:00, 105.89it/s]\n"
     ]
    },
    {
     "name": "stdout",
     "output_type": "stream",
     "text": [
      "Extracting hidden states for infringement texts...\n"
     ]
    },
    {
     "name": "stderr",
     "output_type": "stream",
     "text": [
      "Processing data batches: 100%|██████████| 187/187 [03:46<00:00,  1.21s/it]\n"
     ]
    },
    {
     "name": "stdout",
     "output_type": "stream",
     "text": [
      "Extracting reference embeddings for infringement texts...\n"
     ]
    },
    {
     "name": "stderr",
     "output_type": "stream",
     "text": [
      "Processing references: 100%|██████████| 187/187 [00:01<00:00, 131.12it/s]\n"
     ]
    },
    {
     "name": "stdout",
     "output_type": "stream",
     "text": [
      "Data successfully split into training and test sets.\n"
     ]
    },
    {
     "name": "stderr",
     "output_type": "stream",
     "text": [
      "Training Epochs:   0%|          | 10/2000 [00:00<00:29, 67.61it/s]"
     ]
    },
    {
     "name": "stdout",
     "output_type": "stream",
     "text": [
      "Epoch 10/2000, Loss: 0.2838\n",
      "Test Accuracy: 90.58%, F1-score: 0.9073\n",
      "New best model saved with Accuracy 90.58%.\n",
      "New best model saved with F1-score 0.9073.\n"
     ]
    },
    {
     "name": "stderr",
     "output_type": "stream",
     "text": [
      "Training Epochs:   2%|▏         | 30/2000 [00:00<00:15, 129.05it/s]"
     ]
    },
    {
     "name": "stdout",
     "output_type": "stream",
     "text": [
      "Epoch 20/2000, Loss: 0.1142\n",
      "Test Accuracy: 89.61%, F1-score: 0.9075\n",
      "New best model saved with F1-score 0.9075.\n",
      "Epoch 30/2000, Loss: 0.0660\n",
      "Test Accuracy: 89.29%, F1-score: 0.9049\n"
     ]
    },
    {
     "name": "stderr",
     "output_type": "stream",
     "text": [
      "Training Epochs:   2%|▎         | 50/2000 [00:00<00:12, 154.58it/s]"
     ]
    },
    {
     "name": "stdout",
     "output_type": "stream",
     "text": [
      "Epoch 40/2000, Loss: 0.0436\n",
      "Test Accuracy: 93.18%, F1-score: 0.9350\n",
      "New best model saved with Accuracy 93.18%.\n",
      "New best model saved with F1-score 0.9350.\n",
      "Epoch 50/2000, Loss: 0.0340\n",
      "Test Accuracy: 92.21%, F1-score: 0.9250\n"
     ]
    },
    {
     "name": "stderr",
     "output_type": "stream",
     "text": [
      "Training Epochs:   4%|▍         | 89/2000 [00:00<00:07, 239.66it/s]"
     ]
    },
    {
     "name": "stdout",
     "output_type": "stream",
     "text": [
      "Epoch 60/2000, Loss: 0.0298\n",
      "Test Accuracy: 91.88%, F1-score: 0.9216\n",
      "Epoch 70/2000, Loss: 0.0275\n",
      "Test Accuracy: 92.21%, F1-score: 0.9241\n",
      "Epoch 80/2000, Loss: 0.0286\n",
      "Test Accuracy: 92.53%, F1-score: 0.9260\n",
      "Epoch 90/2000, Loss: 0.0636\n",
      "Test Accuracy: 92.53%, F1-score: 0.9260\n",
      "Epoch 100/2000, Loss: 0.0269\n",
      "Test Accuracy: 91.23%, F1-score: 0.9143\n",
      "Epoch 110/2000, Loss: 0.0262\n",
      "Test Accuracy: 91.56%, F1-score: 0.9207\n",
      "Epoch 120/2000, Loss: 0.0215\n",
      "Test Accuracy: 93.51%, F1-score: 0.9371\n",
      "New best model saved with Accuracy 93.51%.\n"
     ]
    },
    {
     "name": "stderr",
     "output_type": "stream",
     "text": [
      "Training Epochs:   6%|▌         | 120/2000 [00:00<00:09, 205.36it/s]"
     ]
    },
    {
     "name": "stdout",
     "output_type": "stream",
     "text": [
      "New best model saved with F1-score 0.9371.\n",
      "Epoch 130/2000, Loss: 0.0206\n",
      "Test Accuracy: 93.18%, F1-score: 0.9338\n"
     ]
    },
    {
     "name": "stderr",
     "output_type": "stream",
     "text": [
      "Training Epochs:   8%|▊         | 150/2000 [00:00<00:09, 204.98it/s]"
     ]
    },
    {
     "name": "stdout",
     "output_type": "stream",
     "text": [
      "Epoch 140/2000, Loss: 0.0199\n",
      "Test Accuracy: 93.51%, F1-score: 0.9371\n",
      "Epoch 150/2000, Loss: 0.0194\n",
      "Test Accuracy: 93.83%, F1-score: 0.9404\n",
      "New best model saved with Accuracy 93.83%.\n",
      "New best model saved with F1-score 0.9404.\n",
      "Epoch 160/2000, Loss: 0.0190\n",
      "Test Accuracy: 93.83%, F1-score: 0.9404\n"
     ]
    },
    {
     "name": "stderr",
     "output_type": "stream",
     "text": [
      "Training Epochs:   9%|▉         | 184/2000 [00:00<00:07, 238.89it/s]"
     ]
    },
    {
     "name": "stdout",
     "output_type": "stream",
     "text": [
      "Epoch 170/2000, Loss: 0.0187\n",
      "Test Accuracy: 91.88%, F1-score: 0.9231\n",
      "Epoch 180/2000, Loss: 0.0184\n",
      "Test Accuracy: 91.88%, F1-score: 0.9231\n"
     ]
    },
    {
     "name": "stderr",
     "output_type": "stream",
     "text": [
      "Training Epochs:  11%|█         | 220/2000 [00:00<00:06, 270.01it/s]"
     ]
    },
    {
     "name": "stdout",
     "output_type": "stream",
     "text": [
      "Epoch 190/2000, Loss: 0.0181\n",
      "Test Accuracy: 92.21%, F1-score: 0.9264\n",
      "Epoch 200/2000, Loss: 0.0178\n",
      "Test Accuracy: 92.21%, F1-score: 0.9264\n",
      "Epoch 210/2000, Loss: 0.0175\n",
      "Test Accuracy: 92.53%, F1-score: 0.9297\n",
      "Epoch 220/2000, Loss: 0.0172\n",
      "Test Accuracy: 92.53%, F1-score: 0.9297\n",
      "Epoch 230/2000, Loss: 0.0169\n",
      "Test Accuracy: 92.53%, F1-score: 0.9297\n",
      "Epoch 240/2000, Loss: 0.0167\n",
      "Test Accuracy: 91.56%, F1-score: 0.9198\n"
     ]
    },
    {
     "name": "stderr",
     "output_type": "stream",
     "text": [
      "Training Epochs:  13%|█▎        | 260/2000 [00:01<00:05, 303.87it/s]"
     ]
    },
    {
     "name": "stdout",
     "output_type": "stream",
     "text": [
      "Epoch 250/2000, Loss: 0.0165\n",
      "Test Accuracy: 89.94%, F1-score: 0.9058\n",
      "Epoch 260/2000, Loss: 0.0165\n",
      "Test Accuracy: 89.61%, F1-score: 0.9018\n"
     ]
    },
    {
     "name": "stderr",
     "output_type": "stream",
     "text": [
      "Training Epochs:  15%|█▌        | 300/2000 [00:01<00:05, 327.18it/s]"
     ]
    },
    {
     "name": "stdout",
     "output_type": "stream",
     "text": [
      "Epoch 270/2000, Loss: 0.0163\n",
      "Test Accuracy: 89.61%, F1-score: 0.9024\n",
      "Epoch 280/2000, Loss: 0.0164\n",
      "Test Accuracy: 89.61%, F1-score: 0.9018\n",
      "Epoch 290/2000, Loss: 0.0160\n",
      "Test Accuracy: 89.61%, F1-score: 0.9018\n",
      "Epoch 300/2000, Loss: 0.0157\n",
      "Test Accuracy: 89.61%, F1-score: 0.9018\n",
      "Epoch 310/2000, Loss: 0.0157\n",
      "Test Accuracy: 89.29%, F1-score: 0.8985\n",
      "Epoch 320/2000, Loss: 0.0155\n",
      "Test Accuracy: 89.61%, F1-score: 0.9018\n"
     ]
    },
    {
     "name": "stderr",
     "output_type": "stream",
     "text": [
      "Training Epochs:  17%|█▋        | 340/2000 [00:01<00:04, 345.76it/s]"
     ]
    },
    {
     "name": "stdout",
     "output_type": "stream",
     "text": [
      "Epoch 330/2000, Loss: 0.0154\n",
      "Test Accuracy: 89.61%, F1-score: 0.9024\n",
      "Epoch 340/2000, Loss: 0.0151\n",
      "Test Accuracy: 89.29%, F1-score: 0.8991\n"
     ]
    },
    {
     "name": "stderr",
     "output_type": "stream",
     "text": [
      "Training Epochs:  19%|█▉        | 380/2000 [00:01<00:04, 342.82it/s]"
     ]
    },
    {
     "name": "stdout",
     "output_type": "stream",
     "text": [
      "Epoch 350/2000, Loss: 0.0162\n",
      "Test Accuracy: 89.29%, F1-score: 0.8997\n",
      "Epoch 360/2000, Loss: 0.0152\n",
      "Test Accuracy: 89.61%, F1-score: 0.9018\n",
      "Epoch 370/2000, Loss: 0.0149\n",
      "Test Accuracy: 89.29%, F1-score: 0.8991\n",
      "Epoch 380/2000, Loss: 0.0143\n",
      "Test Accuracy: 89.29%, F1-score: 0.8991\n",
      "Epoch 390/2000, Loss: 0.0139\n",
      "Test Accuracy: 88.96%, F1-score: 0.8957\n",
      "Epoch 400/2000, Loss: 0.0136\n",
      "Test Accuracy: 89.61%, F1-score: 0.9012\n"
     ]
    },
    {
     "name": "stderr",
     "output_type": "stream",
     "text": [
      "Training Epochs:  21%|██        | 420/2000 [00:01<00:04, 356.67it/s]"
     ]
    },
    {
     "name": "stdout",
     "output_type": "stream",
     "text": [
      "Epoch 410/2000, Loss: 0.0135\n",
      "Test Accuracy: 86.36%, F1-score: 0.8743\n",
      "Epoch 420/2000, Loss: 0.0137\n",
      "Test Accuracy: 89.61%, F1-score: 0.9012\n"
     ]
    },
    {
     "name": "stderr",
     "output_type": "stream",
     "text": [
      "Training Epochs:  23%|██▎       | 460/2000 [00:01<00:04, 365.98it/s]"
     ]
    },
    {
     "name": "stdout",
     "output_type": "stream",
     "text": [
      "Epoch 430/2000, Loss: 0.0129\n",
      "Test Accuracy: 86.36%, F1-score: 0.8743\n",
      "Epoch 440/2000, Loss: 0.0127\n",
      "Test Accuracy: 86.36%, F1-score: 0.8743\n",
      "Epoch 450/2000, Loss: 0.0130\n",
      "Test Accuracy: 86.36%, F1-score: 0.8743\n",
      "Epoch 460/2000, Loss: 0.0123\n",
      "Test Accuracy: 86.36%, F1-score: 0.8743\n",
      "Epoch 470/2000, Loss: 0.0122\n",
      "Test Accuracy: 86.36%, F1-score: 0.8743\n",
      "Epoch 480/2000, Loss: 0.0120\n",
      "Test Accuracy: 86.36%, F1-score: 0.8743\n"
     ]
    },
    {
     "name": "stderr",
     "output_type": "stream",
     "text": [
      "Training Epochs:  25%|██▍       | 498/2000 [00:01<00:04, 369.47it/s]"
     ]
    },
    {
     "name": "stdout",
     "output_type": "stream",
     "text": [
      "Epoch 490/2000, Loss: 0.0120\n",
      "Test Accuracy: 86.04%, F1-score: 0.8716\n",
      "Epoch 500/2000, Loss: 0.0119\n",
      "Test Accuracy: 86.04%, F1-score: 0.8716\n"
     ]
    },
    {
     "name": "stderr",
     "output_type": "stream",
     "text": [
      "Training Epochs:  27%|██▋       | 536/2000 [00:01<00:03, 369.82it/s]"
     ]
    },
    {
     "name": "stdout",
     "output_type": "stream",
     "text": [
      "Epoch 510/2000, Loss: 0.0123\n",
      "Test Accuracy: 86.36%, F1-score: 0.8743\n",
      "Epoch 520/2000, Loss: 0.0119\n",
      "Test Accuracy: 86.36%, F1-score: 0.8750\n",
      "Epoch 530/2000, Loss: 0.0118\n",
      "Test Accuracy: 86.04%, F1-score: 0.8716\n",
      "Epoch 540/2000, Loss: 0.0121\n",
      "Test Accuracy: 86.04%, F1-score: 0.8716\n",
      "Epoch 550/2000, Loss: 0.0117\n",
      "Test Accuracy: 84.74%, F1-score: 0.8622\n",
      "Epoch 560/2000, Loss: 0.0117\n",
      "Test Accuracy: 86.36%, F1-score: 0.8750\n"
     ]
    },
    {
     "name": "stderr",
     "output_type": "stream",
     "text": [
      "Training Epochs:  29%|██▉       | 575/2000 [00:01<00:03, 374.99it/s]"
     ]
    },
    {
     "name": "stdout",
     "output_type": "stream",
     "text": [
      "Epoch 570/2000, Loss: 0.0119\n",
      "Test Accuracy: 86.36%, F1-score: 0.8750\n",
      "Epoch 580/2000, Loss: 0.0116\n",
      "Test Accuracy: 84.74%, F1-score: 0.8622\n"
     ]
    },
    {
     "name": "stderr",
     "output_type": "stream",
     "text": [
      "Training Epochs:  31%|███       | 615/2000 [00:02<00:03, 380.82it/s]"
     ]
    },
    {
     "name": "stdout",
     "output_type": "stream",
     "text": [
      "Epoch 590/2000, Loss: 0.0120\n",
      "Test Accuracy: 84.74%, F1-score: 0.8622\n",
      "Epoch 600/2000, Loss: 0.0116\n",
      "Test Accuracy: 84.74%, F1-score: 0.8622\n",
      "Epoch 610/2000, Loss: 0.0118\n",
      "Test Accuracy: 86.36%, F1-score: 0.8750\n",
      "Epoch 620/2000, Loss: 0.0116\n",
      "Test Accuracy: 84.74%, F1-score: 0.8622\n",
      "Epoch 630/2000, Loss: 0.0120\n",
      "Test Accuracy: 85.06%, F1-score: 0.8655\n",
      "Epoch 640/2000, Loss: 0.0116\n",
      "Test Accuracy: 84.74%, F1-score: 0.8622\n"
     ]
    },
    {
     "name": "stderr",
     "output_type": "stream",
     "text": [
      "Training Epochs:  33%|███▎      | 654/2000 [00:02<00:03, 383.50it/s]"
     ]
    },
    {
     "name": "stdout",
     "output_type": "stream",
     "text": [
      "Epoch 650/2000, Loss: 0.0119\n",
      "Test Accuracy: 84.74%, F1-score: 0.8622\n",
      "Epoch 660/2000, Loss: 0.0115\n",
      "Test Accuracy: 84.74%, F1-score: 0.8622\n"
     ]
    },
    {
     "name": "stderr",
     "output_type": "stream",
     "text": [
      "Training Epochs:  35%|███▍      | 694/2000 [00:02<00:03, 386.17it/s]"
     ]
    },
    {
     "name": "stdout",
     "output_type": "stream",
     "text": [
      "Epoch 670/2000, Loss: 0.0115\n",
      "Test Accuracy: 85.06%, F1-score: 0.8655\n",
      "Epoch 680/2000, Loss: 0.0121\n",
      "Test Accuracy: 85.06%, F1-score: 0.8655\n",
      "Epoch 690/2000, Loss: 0.0120\n",
      "Test Accuracy: 85.06%, F1-score: 0.8647\n",
      "Epoch 700/2000, Loss: 0.0116\n",
      "Test Accuracy: 85.06%, F1-score: 0.8655\n",
      "Epoch 710/2000, Loss: 0.0116\n",
      "Test Accuracy: 85.06%, F1-score: 0.8655\n",
      "Epoch 720/2000, Loss: 0.0115\n",
      "Test Accuracy: 85.06%, F1-score: 0.8655\n"
     ]
    },
    {
     "name": "stderr",
     "output_type": "stream",
     "text": [
      "Training Epochs:  37%|███▋      | 734/2000 [00:02<00:03, 388.38it/s]"
     ]
    },
    {
     "name": "stdout",
     "output_type": "stream",
     "text": [
      "Epoch 730/2000, Loss: 0.0118\n",
      "Test Accuracy: 85.06%, F1-score: 0.8647\n",
      "Epoch 740/2000, Loss: 0.0115\n",
      "Test Accuracy: 85.39%, F1-score: 0.8680\n"
     ]
    },
    {
     "name": "stderr",
     "output_type": "stream",
     "text": [
      "Training Epochs:  39%|███▊      | 773/2000 [00:02<00:03, 384.01it/s]"
     ]
    },
    {
     "name": "stdout",
     "output_type": "stream",
     "text": [
      "Epoch 750/2000, Loss: 0.0115\n",
      "Test Accuracy: 85.39%, F1-score: 0.8680\n",
      "Epoch 760/2000, Loss: 0.0118\n",
      "Test Accuracy: 85.06%, F1-score: 0.8655\n",
      "Epoch 770/2000, Loss: 0.0115\n",
      "Test Accuracy: 85.39%, F1-score: 0.8680\n",
      "Epoch 780/2000, Loss: 0.0115\n",
      "Test Accuracy: 85.39%, F1-score: 0.8680\n",
      "Epoch 790/2000, Loss: 0.0120\n",
      "Test Accuracy: 84.09%, F1-score: 0.8580\n",
      "Epoch 800/2000, Loss: 0.0115\n",
      "Test Accuracy: 85.39%, F1-score: 0.8680\n"
     ]
    },
    {
     "name": "stderr",
     "output_type": "stream",
     "text": [
      "Training Epochs:  41%|████      | 812/2000 [00:02<00:03, 377.96it/s]"
     ]
    },
    {
     "name": "stdout",
     "output_type": "stream",
     "text": [
      "Epoch 810/2000, Loss: 0.0115\n",
      "Test Accuracy: 85.39%, F1-score: 0.8680\n",
      "Epoch 820/2000, Loss: 0.0116\n",
      "Test Accuracy: 84.74%, F1-score: 0.8630\n"
     ]
    },
    {
     "name": "stderr",
     "output_type": "stream",
     "text": [
      "Training Epochs:  43%|████▎     | 851/2000 [00:02<00:03, 380.48it/s]"
     ]
    },
    {
     "name": "stdout",
     "output_type": "stream",
     "text": [
      "Epoch 830/2000, Loss: 0.0115\n",
      "Test Accuracy: 85.39%, F1-score: 0.8680\n",
      "Epoch 840/2000, Loss: 0.0115\n",
      "Test Accuracy: 85.39%, F1-score: 0.8680\n",
      "Epoch 850/2000, Loss: 0.0118\n",
      "Test Accuracy: 84.74%, F1-score: 0.8630\n",
      "Epoch 860/2000, Loss: 0.0115\n",
      "Test Accuracy: 85.39%, F1-score: 0.8680\n",
      "Epoch 870/2000, Loss: 0.0117\n",
      "Test Accuracy: 85.39%, F1-score: 0.8680\n",
      "Epoch 880/2000, Loss: 0.0115\n",
      "Test Accuracy: 85.39%, F1-score: 0.8680\n"
     ]
    },
    {
     "name": "stderr",
     "output_type": "stream",
     "text": [
      "Training Epochs:  44%|████▍     | 890/2000 [00:02<00:02, 381.81it/s]"
     ]
    },
    {
     "name": "stdout",
     "output_type": "stream",
     "text": [
      "Epoch 890/2000, Loss: 0.0116\n",
      "Test Accuracy: 84.74%, F1-score: 0.8630\n",
      "Epoch 900/2000, Loss: 0.0115\n",
      "Test Accuracy: 85.39%, F1-score: 0.8680\n"
     ]
    },
    {
     "name": "stderr",
     "output_type": "stream",
     "text": [
      "Training Epochs:  46%|████▋     | 930/2000 [00:02<00:02, 386.00it/s]"
     ]
    },
    {
     "name": "stdout",
     "output_type": "stream",
     "text": [
      "Epoch 910/2000, Loss: 0.0115\n",
      "Test Accuracy: 84.74%, F1-score: 0.8630\n",
      "Epoch 920/2000, Loss: 0.0117\n",
      "Test Accuracy: 84.74%, F1-score: 0.8630\n",
      "Epoch 930/2000, Loss: 0.0115\n",
      "Test Accuracy: 85.39%, F1-score: 0.8680\n",
      "Epoch 940/2000, Loss: 0.0116\n",
      "Test Accuracy: 84.74%, F1-score: 0.8630\n",
      "Epoch 950/2000, Loss: 0.0116\n",
      "Test Accuracy: 84.74%, F1-score: 0.8630\n",
      "Epoch 960/2000, Loss: 0.0115\n",
      "Test Accuracy: 84.74%, F1-score: 0.8630\n"
     ]
    },
    {
     "name": "stderr",
     "output_type": "stream",
     "text": [
      "Training Epochs:  48%|████▊     | 970/2000 [00:02<00:02, 380.87it/s]"
     ]
    },
    {
     "name": "stdout",
     "output_type": "stream",
     "text": [
      "Epoch 970/2000, Loss: 0.0116\n",
      "Test Accuracy: 85.71%, F1-score: 0.8728\n",
      "Epoch 980/2000, Loss: 0.0115\n",
      "Test Accuracy: 84.74%, F1-score: 0.8630\n"
     ]
    },
    {
     "name": "stderr",
     "output_type": "stream",
     "text": [
      "Training Epochs:  50%|█████     | 1009/2000 [00:03<00:02, 381.72it/s]"
     ]
    },
    {
     "name": "stdout",
     "output_type": "stream",
     "text": [
      "Epoch 990/2000, Loss: 0.0115\n",
      "Test Accuracy: 85.71%, F1-score: 0.8728\n",
      "Epoch 1000/2000, Loss: 0.0116\n",
      "Test Accuracy: 85.71%, F1-score: 0.8728\n",
      "Epoch 1010/2000, Loss: 0.0115\n",
      "Test Accuracy: 85.71%, F1-score: 0.8728\n",
      "Epoch 1020/2000, Loss: 0.0115\n",
      "Test Accuracy: 85.71%, F1-score: 0.8728\n",
      "Epoch 1030/2000, Loss: 0.0116\n",
      "Test Accuracy: 85.71%, F1-score: 0.8728\n",
      "Epoch 1040/2000, Loss: 0.0115\n",
      "Test Accuracy: 85.71%, F1-score: 0.8728\n"
     ]
    },
    {
     "name": "stderr",
     "output_type": "stream",
     "text": [
      "Training Epochs:  52%|█████▏    | 1048/2000 [00:03<00:02, 383.73it/s]"
     ]
    },
    {
     "name": "stdout",
     "output_type": "stream",
     "text": [
      "Epoch 1050/2000, Loss: 0.0116\n",
      "Test Accuracy: 85.71%, F1-score: 0.8728\n",
      "Epoch 1060/2000, Loss: 0.0115\n",
      "Test Accuracy: 85.71%, F1-score: 0.8728\n"
     ]
    },
    {
     "name": "stderr",
     "output_type": "stream",
     "text": [
      "Training Epochs:  56%|█████▋    | 1127/2000 [00:03<00:02, 387.57it/s]"
     ]
    },
    {
     "name": "stdout",
     "output_type": "stream",
     "text": [
      "Epoch 1070/2000, Loss: 0.0115\n",
      "Test Accuracy: 87.66%, F1-score: 0.8882\n",
      "Epoch 1080/2000, Loss: 0.0115\n",
      "Test Accuracy: 85.71%, F1-score: 0.8728\n",
      "Epoch 1090/2000, Loss: 0.0116\n",
      "Test Accuracy: 88.31%, F1-score: 0.8935\n",
      "Epoch 1100/2000, Loss: 0.0115\n",
      "Test Accuracy: 88.31%, F1-score: 0.8935\n",
      "Epoch 1110/2000, Loss: 0.0115\n",
      "Test Accuracy: 88.31%, F1-score: 0.8935\n",
      "Epoch 1120/2000, Loss: 0.0115\n",
      "Test Accuracy: 88.31%, F1-score: 0.8935\n",
      "Epoch 1130/2000, Loss: 0.0118\n",
      "Test Accuracy: 88.31%, F1-score: 0.8935\n",
      "Epoch 1140/2000, Loss: 0.0114\n",
      "Test Accuracy: 88.64%, F1-score: 0.8968\n"
     ]
    },
    {
     "name": "stderr",
     "output_type": "stream",
     "text": [
      "Training Epochs:  60%|██████    | 1205/2000 [00:03<00:02, 386.74it/s]"
     ]
    },
    {
     "name": "stdout",
     "output_type": "stream",
     "text": [
      "Epoch 1150/2000, Loss: 0.0116\n",
      "Test Accuracy: 87.99%, F1-score: 0.8915\n",
      "Epoch 1160/2000, Loss: 0.0115\n",
      "Test Accuracy: 87.99%, F1-score: 0.8915\n",
      "Epoch 1170/2000, Loss: 0.0116\n",
      "Test Accuracy: 87.99%, F1-score: 0.8915\n",
      "Epoch 1180/2000, Loss: 0.0115\n",
      "Test Accuracy: 87.99%, F1-score: 0.8915\n",
      "Epoch 1190/2000, Loss: 0.0114\n",
      "Test Accuracy: 87.99%, F1-score: 0.8915\n",
      "Epoch 1200/2000, Loss: 0.0115\n",
      "Test Accuracy: 88.64%, F1-score: 0.8968\n",
      "Epoch 1210/2000, Loss: 0.0119\n",
      "Test Accuracy: 88.31%, F1-score: 0.8935\n",
      "Epoch 1220/2000, Loss: 0.0115\n",
      "Test Accuracy: 87.99%, F1-score: 0.8915\n"
     ]
    },
    {
     "name": "stderr",
     "output_type": "stream",
     "text": [
      "Training Epochs:  64%|██████▍   | 1283/2000 [00:03<00:01, 382.65it/s]"
     ]
    },
    {
     "name": "stdout",
     "output_type": "stream",
     "text": [
      "Epoch 1230/2000, Loss: 0.0115\n",
      "Test Accuracy: 87.99%, F1-score: 0.8915\n",
      "Epoch 1240/2000, Loss: 0.0115\n",
      "Test Accuracy: 88.64%, F1-score: 0.8968\n",
      "Epoch 1250/2000, Loss: 0.0115\n",
      "Test Accuracy: 88.64%, F1-score: 0.8968\n",
      "Epoch 1260/2000, Loss: 0.0115\n",
      "Test Accuracy: 88.64%, F1-score: 0.8968\n",
      "Epoch 1270/2000, Loss: 0.0115\n",
      "Test Accuracy: 88.64%, F1-score: 0.8968\n",
      "Epoch 1280/2000, Loss: 0.0117\n",
      "Test Accuracy: 88.64%, F1-score: 0.8968\n",
      "Epoch 1290/2000, Loss: 0.0115\n",
      "Test Accuracy: 87.99%, F1-score: 0.8915\n",
      "Epoch 1300/2000, Loss: 0.0115\n",
      "Test Accuracy: 87.99%, F1-score: 0.8915\n"
     ]
    },
    {
     "name": "stderr",
     "output_type": "stream",
     "text": [
      "Training Epochs:  68%|██████▊   | 1362/2000 [00:03<00:01, 384.08it/s]"
     ]
    },
    {
     "name": "stdout",
     "output_type": "stream",
     "text": [
      "Epoch 1310/2000, Loss: 0.0115\n",
      "Test Accuracy: 87.99%, F1-score: 0.8915\n",
      "Epoch 1320/2000, Loss: 0.0115\n",
      "Test Accuracy: 87.99%, F1-score: 0.8915\n",
      "Epoch 1330/2000, Loss: 0.0115\n",
      "Test Accuracy: 87.99%, F1-score: 0.8915\n",
      "Epoch 1340/2000, Loss: 0.0115\n",
      "Test Accuracy: 87.99%, F1-score: 0.8915\n",
      "Epoch 1350/2000, Loss: 0.0115\n",
      "Test Accuracy: 87.99%, F1-score: 0.8915\n",
      "Epoch 1360/2000, Loss: 0.0115\n",
      "Test Accuracy: 87.99%, F1-score: 0.8915\n",
      "Epoch 1370/2000, Loss: 0.0114\n",
      "Test Accuracy: 88.64%, F1-score: 0.8968\n",
      "Epoch 1380/2000, Loss: 0.0115\n",
      "Test Accuracy: 88.64%, F1-score: 0.8968\n"
     ]
    },
    {
     "name": "stderr",
     "output_type": "stream",
     "text": [
      "Training Epochs:  72%|███████▏  | 1441/2000 [00:04<00:01, 387.99it/s]"
     ]
    },
    {
     "name": "stdout",
     "output_type": "stream",
     "text": [
      "Epoch 1390/2000, Loss: 0.0115\n",
      "Test Accuracy: 88.64%, F1-score: 0.8968\n",
      "Epoch 1400/2000, Loss: 0.0115\n",
      "Test Accuracy: 87.99%, F1-score: 0.8915\n",
      "Epoch 1410/2000, Loss: 0.0115\n",
      "Test Accuracy: 87.99%, F1-score: 0.8915\n",
      "Epoch 1420/2000, Loss: 0.0115\n",
      "Test Accuracy: 87.99%, F1-score: 0.8915\n",
      "Epoch 1430/2000, Loss: 0.0116\n",
      "Test Accuracy: 87.99%, F1-score: 0.8915\n",
      "Epoch 1440/2000, Loss: 0.0115\n",
      "Test Accuracy: 87.99%, F1-score: 0.8915\n",
      "Epoch 1450/2000, Loss: 0.0114\n",
      "Test Accuracy: 87.99%, F1-score: 0.8915\n",
      "Epoch 1460/2000, Loss: 0.0117\n",
      "Test Accuracy: 87.66%, F1-score: 0.8889\n"
     ]
    },
    {
     "name": "stderr",
     "output_type": "stream",
     "text": [
      "Training Epochs:  76%|███████▌  | 1519/2000 [00:04<00:01, 377.48it/s]"
     ]
    },
    {
     "name": "stdout",
     "output_type": "stream",
     "text": [
      "Epoch 1470/2000, Loss: 0.0114\n",
      "Test Accuracy: 88.64%, F1-score: 0.8968\n",
      "Epoch 1480/2000, Loss: 0.0115\n",
      "Test Accuracy: 88.64%, F1-score: 0.8968\n",
      "Epoch 1490/2000, Loss: 0.0114\n",
      "Test Accuracy: 87.99%, F1-score: 0.8915\n",
      "Epoch 1500/2000, Loss: 0.0115\n",
      "Test Accuracy: 87.66%, F1-score: 0.8889\n",
      "Epoch 1510/2000, Loss: 0.0114\n",
      "Test Accuracy: 88.64%, F1-score: 0.8968\n",
      "Epoch 1520/2000, Loss: 0.0115\n",
      "Test Accuracy: 88.64%, F1-score: 0.8968\n",
      "Epoch 1530/2000, Loss: 0.0115\n",
      "Test Accuracy: 87.99%, F1-score: 0.8915\n",
      "Epoch 1540/2000, Loss: 0.0115\n",
      "Test Accuracy: 87.99%, F1-score: 0.8915\n"
     ]
    },
    {
     "name": "stderr",
     "output_type": "stream",
     "text": [
      "Training Epochs:  80%|███████▉  | 1599/2000 [00:04<00:01, 385.97it/s]"
     ]
    },
    {
     "name": "stdout",
     "output_type": "stream",
     "text": [
      "Epoch 1550/2000, Loss: 0.0115\n",
      "Test Accuracy: 87.99%, F1-score: 0.8915\n",
      "Epoch 1560/2000, Loss: 0.0115\n",
      "Test Accuracy: 87.99%, F1-score: 0.8915\n",
      "Epoch 1570/2000, Loss: 0.0116\n",
      "Test Accuracy: 87.99%, F1-score: 0.8915\n",
      "Epoch 1580/2000, Loss: 0.0114\n",
      "Test Accuracy: 88.64%, F1-score: 0.8968\n",
      "Epoch 1590/2000, Loss: 0.0115\n",
      "Test Accuracy: 88.64%, F1-score: 0.8968\n",
      "Epoch 1600/2000, Loss: 0.0116\n",
      "Test Accuracy: 88.64%, F1-score: 0.8968\n",
      "Epoch 1610/2000, Loss: 0.0114\n",
      "Test Accuracy: 88.64%, F1-score: 0.8968\n",
      "Epoch 1620/2000, Loss: 0.0115\n",
      "Test Accuracy: 87.66%, F1-score: 0.8889\n"
     ]
    },
    {
     "name": "stderr",
     "output_type": "stream",
     "text": [
      "Training Epochs:  84%|████████▍ | 1677/2000 [00:04<00:00, 377.64it/s]"
     ]
    },
    {
     "name": "stdout",
     "output_type": "stream",
     "text": [
      "Epoch 1630/2000, Loss: 0.0116\n",
      "Test Accuracy: 87.99%, F1-score: 0.8915\n",
      "Epoch 1640/2000, Loss: 0.0114\n",
      "Test Accuracy: 88.64%, F1-score: 0.8968\n",
      "Epoch 1650/2000, Loss: 0.0115\n",
      "Test Accuracy: 88.64%, F1-score: 0.8968\n",
      "Epoch 1660/2000, Loss: 0.0115\n",
      "Test Accuracy: 88.64%, F1-score: 0.8968\n",
      "Epoch 1670/2000, Loss: 0.0115\n",
      "Test Accuracy: 88.64%, F1-score: 0.8968\n",
      "Epoch 1680/2000, Loss: 0.0116\n",
      "Test Accuracy: 88.64%, F1-score: 0.8968\n",
      "Epoch 1690/2000, Loss: 0.0115\n",
      "Test Accuracy: 88.64%, F1-score: 0.8968\n",
      "Epoch 1700/2000, Loss: 0.0115\n",
      "Test Accuracy: 87.99%, F1-score: 0.8915\n"
     ]
    },
    {
     "name": "stderr",
     "output_type": "stream",
     "text": [
      "Training Epochs:  88%|████████▊ | 1755/2000 [00:05<00:00, 383.58it/s]"
     ]
    },
    {
     "name": "stdout",
     "output_type": "stream",
     "text": [
      "Epoch 1710/2000, Loss: 0.0116\n",
      "Test Accuracy: 87.99%, F1-score: 0.8915\n",
      "Epoch 1720/2000, Loss: 0.0114\n",
      "Test Accuracy: 88.64%, F1-score: 0.8968\n",
      "Epoch 1730/2000, Loss: 0.0114\n",
      "Test Accuracy: 88.64%, F1-score: 0.8968\n",
      "Epoch 1740/2000, Loss: 0.0117\n",
      "Test Accuracy: 88.64%, F1-score: 0.8968\n",
      "Epoch 1750/2000, Loss: 0.0114\n",
      "Test Accuracy: 88.64%, F1-score: 0.8968\n",
      "Epoch 1760/2000, Loss: 0.0115\n",
      "Test Accuracy: 87.66%, F1-score: 0.8889\n",
      "Epoch 1770/2000, Loss: 0.0115\n",
      "Test Accuracy: 87.99%, F1-score: 0.8915\n",
      "Epoch 1780/2000, Loss: 0.0115\n",
      "Test Accuracy: 87.99%, F1-score: 0.8915\n"
     ]
    },
    {
     "name": "stderr",
     "output_type": "stream",
     "text": [
      "Training Epochs:  92%|█████████▏| 1834/2000 [00:05<00:00, 387.28it/s]"
     ]
    },
    {
     "name": "stdout",
     "output_type": "stream",
     "text": [
      "Epoch 1790/2000, Loss: 0.0115\n",
      "Test Accuracy: 87.99%, F1-score: 0.8915\n",
      "Epoch 1800/2000, Loss: 0.0114\n",
      "Test Accuracy: 87.99%, F1-score: 0.8915\n",
      "Epoch 1810/2000, Loss: 0.0115\n",
      "Test Accuracy: 87.99%, F1-score: 0.8915\n",
      "Epoch 1820/2000, Loss: 0.0116\n",
      "Test Accuracy: 87.99%, F1-score: 0.8915\n",
      "Epoch 1830/2000, Loss: 0.0115\n",
      "Test Accuracy: 88.64%, F1-score: 0.8968\n",
      "Epoch 1840/2000, Loss: 0.0115\n",
      "Test Accuracy: 88.64%, F1-score: 0.8968\n",
      "Epoch 1850/2000, Loss: 0.0114\n",
      "Test Accuracy: 88.64%, F1-score: 0.8968\n",
      "Epoch 1860/2000, Loss: 0.0116\n",
      "Test Accuracy: 88.96%, F1-score: 0.8994\n"
     ]
    },
    {
     "name": "stderr",
     "output_type": "stream",
     "text": [
      "Training Epochs:  96%|█████████▌| 1912/2000 [00:05<00:00, 377.40it/s]"
     ]
    },
    {
     "name": "stdout",
     "output_type": "stream",
     "text": [
      "Epoch 1870/2000, Loss: 0.0114\n",
      "Test Accuracy: 87.99%, F1-score: 0.8915\n",
      "Epoch 1880/2000, Loss: 0.0115\n",
      "Test Accuracy: 87.66%, F1-score: 0.8889\n",
      "Epoch 1890/2000, Loss: 0.0115\n",
      "Test Accuracy: 87.99%, F1-score: 0.8915\n",
      "Epoch 1900/2000, Loss: 0.0115\n",
      "Test Accuracy: 87.99%, F1-score: 0.8915\n",
      "Epoch 1910/2000, Loss: 0.0115\n",
      "Test Accuracy: 87.99%, F1-score: 0.8915\n",
      "Epoch 1920/2000, Loss: 0.0114\n",
      "Test Accuracy: 87.99%, F1-score: 0.8915\n",
      "Epoch 1930/2000, Loss: 0.0115\n",
      "Test Accuracy: 87.66%, F1-score: 0.8889\n",
      "Epoch 1940/2000, Loss: 0.0115\n",
      "Test Accuracy: 88.64%, F1-score: 0.8968\n"
     ]
    },
    {
     "name": "stderr",
     "output_type": "stream",
     "text": [
      "Training Epochs: 100%|██████████| 2000/2000 [00:05<00:00, 354.28it/s]"
     ]
    },
    {
     "name": "stdout",
     "output_type": "stream",
     "text": [
      "Epoch 1950/2000, Loss: 0.0115\n",
      "Test Accuracy: 88.96%, F1-score: 0.8994\n",
      "Epoch 1960/2000, Loss: 0.0114\n",
      "Test Accuracy: 87.99%, F1-score: 0.8915\n",
      "Epoch 1970/2000, Loss: 0.0115\n",
      "Test Accuracy: 87.66%, F1-score: 0.8889\n",
      "Epoch 1980/2000, Loss: 0.0114\n",
      "Test Accuracy: 88.64%, F1-score: 0.8968\n",
      "Epoch 1990/2000, Loss: 0.0115\n",
      "Test Accuracy: 88.96%, F1-score: 0.8994\n",
      "Epoch 2000/2000, Loss: 0.0115\n",
      "Test Accuracy: 88.96%, F1-score: 0.8994\n"
     ]
    },
    {
     "name": "stderr",
     "output_type": "stream",
     "text": [
      "\n"
     ]
    },
    {
     "data": {
      "image/png": "[encoded data removed]",
      "text/plain": [
       "<Figure size 640x480 with 1 Axes>"
      ]
     },
     "metadata": {},
     "output_type": "display_data"
    },
    {
     "name": "stdout",
     "output_type": "stream",
     "text": [
      "Training complete. Best Accuracy: 93.83%, Best F1-score: 0.9404\n"
     ]
    },
    {
     "ename": "",
     "evalue": "",
     "output_type": "error",
     "traceback": [
      "\u001b[1;31mThe Kernel crashed while executing code in the current cell or a previous cell. \n",
      "\u001b[1;31mPlease review the code in the cell(s) to identify a possible cause of the failure. \n",
      "\u001b[1;31mClick <a href='https://aka.ms/vscodeJupyterKernelCrash'>here</a> for more info. \n",
      "\u001b[1;31mView Jupyter <a href='command:jupyter.viewOutput'>log</a> for further details."
     ]
    }
   ],
   "source": [
    "import torch\n",
    "import torch.nn as nn\n",
    "import numpy as np\n",
    "from sklearn.metrics import accuracy_score, classification_report, f1_score\n",
    "import matplotlib.pyplot as plt\n",
    "from tqdm import tqdm\n",
    "from transformers import AutoTokenizer, AutoModelForCausalLM, AutoModel\n",
    "import json\n",
    "import os\n",
    "\n",
    "os.environ[\"CUDA_VISIBLE_DEVICES\"] = \"\"\n",
    "\n",
    "# Variables\n",
    "model_name = ''\n",
    "non_infringement_file = 'extra_30_70B.non_infringement.json'\n",
    "infringement_file = 'extra_30_70B.infringement.json'\n",
    "checkpoint_file = ''\n",
    "\n",
    "# Define CustomMLP for internal states training\n",
    "class CustomMLP(nn.Module):\n",
    "    def __init__(self, input_dim, hidden_dim):\n",
    "        super(CustomMLP, self).__init__()\n",
    "        self.down = nn.Linear(input_dim, hidden_dim)\n",
    "        self.gate = nn.Linear(input_dim, hidden_dim)\n",
    "        self.up = nn.Linear(hidden_dim, 1)\n",
    "        self.activation = nn.SiLU()\n",
    "\n",
    "    def forward(self, x):\n",
    "        down_output = self.down(x)\n",
    "        gate_output = self.gate(x)\n",
    "        gated_output = down_output * self.activation(gate_output)\n",
    "        return self.up(gated_output)\n",
    "\n",
    "\n",
    "# Extract hidden states\n",
    "def extract_hidden_states(texts, model, tokenizer, batch_size=4):\n",
    "    hidden_states = []\n",
    "    for i in tqdm(range(0, len(texts), batch_size), desc=\"Processing data batches\"):\n",
    "        batch_texts = texts[i:i + batch_size]\n",
    "        inputs = tokenizer(batch_texts, return_tensors=\"pt\", padding=True, truncation=True)\n",
    "        inputs = {key: val.to(\"cuda\") for key, val in inputs.items()}  # Move to GPU\n",
    "        with torch.no_grad():\n",
    "            outputs = model(**inputs)\n",
    "        last_layer_hidden_states = outputs.hidden_states[-1]\n",
    "        last_token_hidden_states = last_layer_hidden_states.mean(dim=1).cpu().numpy()  # Last token hidden state\n",
    "        hidden_states.append(last_token_hidden_states)\n",
    "    return np.vstack(hidden_states)\n",
    "\n",
    "def extract_reference_embeddings(references, model, tokenizer, batch_size=4):\n",
    "    device = torch.device(\"cuda\" if torch.cuda.is_available() else \"cpu\")\n",
    "    model.to(device)\n",
    "    embeddings = []\n",
    "    for i in tqdm(range(0, len(references), batch_size), desc=\"Processing references\"):\n",
    "        batch_references = references[i:i + batch_size]\n",
    "        inputs = tokenizer(batch_references, return_tensors=\"pt\", padding=True, truncation=True)\n",
    "        inputs = {key: val.to(device) for key, val in inputs.items()}  # Move inputs to GPU\n",
    "        with torch.no_grad():\n",
    "            outputs = model(**inputs)\n",
    "        # Use the pooler output (for sequence classification tasks, typically the [CLS] token)\n",
    "        embeddings.append(outputs.pooler_output.cpu().numpy())\n",
    "    return np.vstack(embeddings)\n",
    "\n",
    "# Load data for infringement & non-infringement\n",
    "def load_data(non_infringement_file, infringement_file):\n",
    "    with open(non_infringement_file, 'r', encoding='utf-8') as file:\n",
    "        non_infringement_json_data = json.load(file)\n",
    "\n",
    "    non_infringement_outputs = [entry['input'] for entry in non_infringement_json_data]\n",
    "    non_infringement_references = [entry['reference'] for entry in non_infringement_json_data]\n",
    "    y_non_infringement = [1] * len(non_infringement_outputs)\n",
    "\n",
    "    with open(infringement_file, 'r', encoding='utf-8') as file:\n",
    "        infringement_json_data = json.load(file)\n",
    "\n",
    "    infringement_outputs = [entry['input'] for entry in infringement_json_data]\n",
    "    infringement_references = [entry['reference'] for entry in infringement_json_data]\n",
    "    y_infringement = [0] * len(infringement_outputs)\n",
    "\n",
    "    return non_infringement_outputs, non_infringement_references, y_non_infringement, infringement_outputs, infringement_references, y_infringement\n",
    "\n",
    "# Load large model\n",
    "def load_large_model(model_name):\n",
    "    \"\"\"Load the large model and distribute it across multiple GPUs\"\"\"\n",
    "    print(\"Loading model across multiple GPUs...\")\n",
    "    model = AutoModelForCausalLM.from_pretrained(\n",
    "        model_name,\n",
    "        device_map=\"balanced\",  # Automatically balance across GPUs\n",
    "        offload_folder=\"/raid/data/guangwei/offload/\",  # If memory is insufficient, some weights will be offloaded to disk\n",
    "        offload_state_dict=True,\n",
    "        output_hidden_states=True\n",
    "    )\n",
    "    print(\"Model loaded successfully.\")\n",
    "    return model\n",
    "\n",
    "\n",
    "def train_model(X_train, y_train, X_test, y_test, input_dim, hidden_dim, epochs=2000, lr=0.001, checkpoint_path=checkpoint_file):\n",
    "    custom_mlp = CustomMLP(input_dim, hidden_dim).to(\"cuda\")\n",
    "    criterion = nn.BCEWithLogitsLoss()\n",
    "    optimizer = torch.optim.Adam(custom_mlp.parameters(), lr=lr)\n",
    "\n",
    "    X_train_tensor = torch.tensor(X_train, dtype=torch.float32).to(\"cuda\")\n",
    "    y_train_tensor = torch.tensor(y_train, dtype=torch.float32).unsqueeze(1).to(\"cuda\")\n",
    "\n",
    "    best_f1 = -float('inf')  # Initialize best F1 score\n",
    "    best_accuracy = -float('inf')  # Initialize best accuracy\n",
    "    losses = []\n",
    "\n",
    "    for epoch in tqdm(range(epochs), desc=\"Training Epochs\"):\n",
    "        custom_mlp.train()\n",
    "        optimizer.zero_grad()\n",
    "        outputs = custom_mlp(X_train_tensor)\n",
    "        loss = criterion(outputs, y_train_tensor)\n",
    "        loss.backward()\n",
    "        optimizer.step()\n",
    "        losses.append(loss.item())\n",
    "\n",
    "        if (epoch + 1) % 10 == 0:\n",
    "            print(f\"Epoch {epoch + 1}/{epochs}, Loss: {loss.item():.4f}\")\n",
    "            # Test the model\n",
    "            custom_mlp.eval()\n",
    "            X_test_tensor = torch.tensor(X_test, dtype=torch.float32).to(\"cuda\")\n",
    "            with torch.no_grad():\n",
    "                y_pred_logits = custom_mlp(X_test_tensor)\n",
    "                y_pred = (torch.sigmoid(y_pred_logits) > 0.5).float().cpu().numpy()\n",
    "\n",
    "            accuracy = accuracy_score(y_test, y_pred)\n",
    "            f1 = f1_score(y_test, y_pred)\n",
    "            print(f\"Test Accuracy: {accuracy * 100:.2f}%, F1-score: {f1:.4f}\")\n",
    "            \n",
    "            # Update best accuracy and F1 score\n",
    "            if accuracy > best_accuracy:\n",
    "                best_accuracy = accuracy\n",
    "                torch.save(custom_mlp.state_dict(), checkpoint_path)  # Save the model\n",
    "                print(f\"New best model saved with Accuracy {best_accuracy * 100:.2f}%.\")\n",
    "\n",
    "            if f1 > best_f1:\n",
    "                best_f1 = f1\n",
    "                torch.save(custom_mlp.state_dict(), checkpoint_path)  # Save the model\n",
    "                print(f\"New best model saved with F1-score {best_f1:.4f}.\")\n",
    "\n",
    "    # Plot training loss curve\n",
    "    plt.plot(losses)\n",
    "    plt.title(\"Training Loss Curve\")\n",
    "    plt.xlabel(\"Epoch\")\n",
    "    plt.ylabel(\"Loss\")\n",
    "    plt.show()\n",
    "\n",
    "    return custom_mlp, best_accuracy, best_f1\n",
    "\n",
    "\n",
    "# Load data\n",
    "tokenizer = AutoTokenizer.from_pretrained(model_name, model_max_length=512)\n",
    "model = load_large_model(model_name)\n",
    "tokenizer.pad_token = tokenizer.eos_token\n",
    "bert_tokenizer = AutoTokenizer.from_pretrained('google-bert/bert-base-uncased')\n",
    "bert_model = AutoModel.from_pretrained('google-bert/bert-base-uncased')\n",
    "bert_tokenizer.pad_token = tokenizer.eos_token\n",
    "\n",
    "non_infringement_outputs, non_infringement_references, y_non_infringement, infringement_outputs, infringement_references, y_infringement = load_data(\n",
    "    non_infringement_file, infringement_file\n",
    ")\n",
    "\n",
    "y_non_infringement = np.array(y_non_infringement)\n",
    "y_infringement = np.array(y_infringement)\n",
    "\n",
    "# Extract hidden states and reference embeddings\n",
    "print(\"Extracting hidden states for non_infringement texts...\")\n",
    "X_non_infringement = extract_hidden_states(non_infringement_outputs, model, tokenizer)\n",
    "print(\"Extracting reference embeddings for non_infringement texts...\")\n",
    "reference_embeddings_non_infringement = extract_reference_embeddings(non_infringement_references, bert_model, bert_tokenizer)\n",
    "X_non_infringement_combined = np.hstack([X_non_infringement, reference_embeddings_non_infringement])\n",
    "\n",
    "print(\"Extracting hidden states for infringement texts...\")\n",
    "X_infringement = extract_hidden_states(infringement_outputs, model, tokenizer)\n",
    "print(\"Extracting reference embeddings for infringement texts...\")\n",
    "reference_embeddings_infringement = extract_reference_embeddings(infringement_references, bert_model, bert_tokenizer)\n",
    "X_infringement_combined = np.hstack([X_infringement, reference_embeddings_infringement])\n",
    "\n",
    "# Split data into train and test sets\n",
    "split_index_non_infringement = int(0.8 * len(X_non_infringement_combined))\n",
    "X_non_infringement_train = X_non_infringement_combined[:split_index_non_infringement]\n",
    "X_non_infringement_test = X_non_infringement_combined[split_index_non_infringement:]\n",
    "y_non_infringement_train = y_non_infringement[:split_index_non_infringement]\n",
    "y_non_infringement_test = y_non_infringement[split_index_non_infringement:]\n",
    "\n",
    "split_index_infringement = int(0.8 * len(X_infringement_combined))\n",
    "X_infringement_train = X_infringement_combined[:split_index_infringement]\n",
    "X_infringement_test = X_infringement_combined[split_index_infringement:]\n",
    "y_infringement_train = y_infringement[:split_index_infringement]\n",
    "y_infringement_test = y_infringement[split_index_infringement:]\n",
    "\n",
    "X_train = np.vstack((X_non_infringement_train, X_infringement_train))\n",
    "X_test = np.vstack((X_non_infringement_test, X_infringement_test))\n",
    "y_train = np.concatenate((y_non_infringement_train, y_infringement_train))\n",
    "y_test = np.concatenate((y_non_infringement_test, y_infringement_test))\n",
    "\n",
    "print(\"Data successfully split into training and test sets.\")\n",
    "\n",
    "# Define parameters and train\n",
    "input_dim = X_train.shape[1]\n",
    "hidden_dim = 256\n",
    "\n",
    "trained_model, best_accuracy, best_f1 = train_model(X_train, y_train, X_test, y_test, input_dim, hidden_dim)\n",
    "print(f\"Training complete. Best Accuracy: {best_accuracy * 100:.2f}%, Best F1-score: {best_f1:.4f}\")\n",
    "\n",
    "# # Save checkpoint\n",
    "# def save_checkpoint(model, optimizer, epoch, loss, filepath):\n",
    "#     checkpoint = {\n",
    "#         'epoch': epoch + 1,\n",
    "#         'model_state_dict': model.state_dict(),\n",
    "#         'optimizer_state_dict': optimizer.state_dict(),\n",
    "#         'loss': loss\n",
    "#     }\n",
    "#     torch.save(checkpoint, filepath)\n",
    "#     print(f\"Checkpoint saved to '{filepath}'.\")\n",
    "\n",
    "# save_checkpoint(custom_mlp, torch.optim.Adam(custom_mlp.parameters()), len(losses), losses[-1], checkpoint_file)\n",
    "\n",
    "# # Final predictions\n",
    "# y_pred_final = (torch.sigmoid(torch.tensor(custom_mlp(torch.tensor(X_test, dtype=torch.float32).to('cuda')))) > 0.5).float().cpu().numpy()\n",
    "# print(classification_report(y_test, y_pred_final, target_names=[\"infringement\", \"non_infringement\"]))\n"
   ]
  }
 ],
 "metadata": {
  "kernelspec": {
   "display_name": "zdh",
   "language": "python",
   "name": "python3"
  },
  "language_info": {
   "codemirror_mode": {
    "name": "ipython",
    "version": 3
   },
   "file_extension": ".py",
   "mimetype": "text/x-python",
   "name": "python",
   "nbconvert_exporter": "python",
   "pygments_lexer": "ipython3",
   "version": "3.12.3"
  }
 },
 "nbformat": 4,
 "nbformat_minor": 2
}
