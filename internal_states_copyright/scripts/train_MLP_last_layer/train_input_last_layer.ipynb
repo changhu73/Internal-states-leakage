{
 "cells": [
  {
   "cell_type": "code",
   "execution_count": null,
   "metadata": {},
   "outputs": [
    {
     "name": "stderr",
     "output_type": "stream",
     "text": [
      "/home/guangwei/miniconda3/envs/zdh/lib/python3.12/site-packages/tqdm/auto.py:21: TqdmWarning: IProgress not found. Please update jupyter and ipywidgets. See https://ipywidgets.readthedocs.io/en/stable/user_install.html\n",
      "  from .autonotebook import tqdm as notebook_tqdm\n"
     ]
    },
    {
     "name": "stdout",
     "output_type": "stream",
     "text": [
      "Loading model across multiple GPUs...\n"
     ]
    },
    {
     "name": "stderr",
     "output_type": "stream",
     "text": [
      "/home/guangwei/miniconda3/envs/zdh/lib/python3.12/site-packages/transformers/generation/configuration_utils.py:774: UserWarning: `return_dict_in_generate` is NOT set to `True`, but `output_hidden_states` is. When `return_dict_in_generate` is not `True`, `output_hidden_states` is ignored.\n",
      "  warnings.warn(\n",
      "Loading checkpoint shards: 100%|██████████| 4/4 [00:07<00:00,  1.90s/it]\n"
     ]
    },
    {
     "name": "stdout",
     "output_type": "stream",
     "text": [
      "Model loaded successfully.\n",
      "Extracting hidden states for non-infringement texts...\n"
     ]
    },
    {
     "name": "stderr",
     "output_type": "stream",
     "text": [
      "Processing data batches: 100%|██████████| 208/208 [00:37<00:00,  5.59it/s]\n"
     ]
    },
    {
     "name": "stdout",
     "output_type": "stream",
     "text": [
      "Extracting hidden states for infringement texts...\n"
     ]
    },
    {
     "name": "stderr",
     "output_type": "stream",
     "text": [
      "Processing data batches: 100%|██████████| 186/186 [00:34<00:00,  5.32it/s]\n"
     ]
    },
    {
     "name": "stdout",
     "output_type": "stream",
     "text": [
      "Data successfully split into training and test sets.\n"
     ]
    },
    {
     "name": "stderr",
     "output_type": "stream",
     "text": [
      "Training Epochs:   0%|          | 1/250 [00:00<00:37,  6.58it/s]"
     ]
    },
    {
     "name": "stdout",
     "output_type": "stream",
     "text": [
      "Epoch 10/250, Loss: 0.6742\n"
     ]
    },
    {
     "name": "stderr",
     "output_type": "stream",
     "text": [
      "Training Epochs:   4%|▍         | 10/250 [00:00<00:06, 35.04it/s]"
     ]
    },
    {
     "name": "stdout",
     "output_type": "stream",
     "text": [
      "Test Accuracy: 54.11%, F1-score: 0.6973\n",
      "New best model saved with Accuracy 54.11%.\n",
      "New best model saved with F1-score 0.6973.\n",
      "Epoch 20/250, Loss: 0.6490\n",
      "Test Accuracy: 60.76%, F1-score: 0.7156\n"
     ]
    },
    {
     "name": "stderr",
     "output_type": "stream",
     "text": [
      "Training Epochs:   8%|▊         | 20/250 [00:00<00:06, 35.91it/s]"
     ]
    },
    {
     "name": "stdout",
     "output_type": "stream",
     "text": [
      "New best model saved with Accuracy 60.76%.\n",
      "New best model saved with F1-score 0.7156.\n",
      "Epoch 30/250, Loss: 0.5932\n",
      "Test Accuracy: 64.24%, F1-score: 0.7210\n"
     ]
    },
    {
     "name": "stderr",
     "output_type": "stream",
     "text": [
      "Training Epochs:  16%|█▌        | 40/250 [00:00<00:03, 53.47it/s]"
     ]
    },
    {
     "name": "stdout",
     "output_type": "stream",
     "text": [
      "New best model saved with Accuracy 64.24%.\n",
      "New best model saved with F1-score 0.7210.\n",
      "Epoch 40/250, Loss: 0.4905\n",
      "Test Accuracy: 70.89%, F1-score: 0.7341\n",
      "New best model saved with Accuracy 70.89%.\n",
      "New best model saved with F1-score 0.7341.\n",
      "Epoch 50/250, Loss: 0.3904\n",
      "Test Accuracy: 71.52%, F1-score: 0.7039\n",
      "New best model saved with Accuracy 71.52%.\n"
     ]
    },
    {
     "name": "stderr",
     "output_type": "stream",
     "text": [
      "Training Epochs:  40%|████      | 100/250 [00:01<00:01, 147.75it/s]"
     ]
    },
    {
     "name": "stdout",
     "output_type": "stream",
     "text": [
      "Epoch 60/250, Loss: 0.3259\n",
      "Test Accuracy: 72.78%, F1-score: 0.7190\n",
      "New best model saved with Accuracy 72.78%.\n",
      "Epoch 70/250, Loss: 0.2872\n",
      "Test Accuracy: 73.73%, F1-score: 0.7243\n",
      "New best model saved with Accuracy 73.73%.\n",
      "Epoch 80/250, Loss: 0.2690\n",
      "Test Accuracy: 74.05%, F1-score: 0.7285\n",
      "New best model saved with Accuracy 74.05%.\n",
      "Epoch 90/250, Loss: 0.2580\n",
      "Test Accuracy: 74.68%, F1-score: 0.7315\n",
      "New best model saved with Accuracy 74.68%.\n",
      "Epoch 100/250, Loss: 0.2511\n",
      "Test Accuracy: 75.63%, F1-score: 0.7390\n",
      "New best model saved with Accuracy 75.63%.\n",
      "New best model saved with F1-score 0.7390.\n",
      "Epoch 110/250, Loss: 0.2453\n",
      "Test Accuracy: 75.00%, F1-score: 0.7340\n"
     ]
    },
    {
     "name": "stderr",
     "output_type": "stream",
     "text": [
      "Training Epochs:  76%|███████▌  | 190/250 [00:01<00:00, 281.15it/s]"
     ]
    },
    {
     "name": "stdout",
     "output_type": "stream",
     "text": [
      "Epoch 120/250, Loss: 0.2473\n",
      "Test Accuracy: 73.73%, F1-score: 0.7067\n",
      "Epoch 130/250, Loss: 0.2377\n",
      "Test Accuracy: 74.68%, F1-score: 0.7279\n",
      "Epoch 140/250, Loss: 0.2354\n",
      "Test Accuracy: 75.00%, F1-score: 0.7322\n",
      "Epoch 150/250, Loss: 0.2321\n",
      "Test Accuracy: 74.37%, F1-score: 0.7216\n",
      "Epoch 160/250, Loss: 0.2286\n",
      "Test Accuracy: 74.37%, F1-score: 0.7216\n",
      "Epoch 170/250, Loss: 0.2286\n",
      "Test Accuracy: 75.00%, F1-score: 0.7358\n",
      "Epoch 180/250, Loss: 0.2240\n",
      "Test Accuracy: 74.05%, F1-score: 0.7172\n",
      "Epoch 190/250, Loss: 0.2203\n",
      "Test Accuracy: 74.05%, F1-score: 0.7172\n",
      "Epoch 200/250, Loss: 0.2173\n",
      "Test Accuracy: 74.05%, F1-score: 0.7172\n",
      "Epoch 210/250, Loss: 0.2176\n"
     ]
    },
    {
     "name": "stderr",
     "output_type": "stream",
     "text": [
      "Training Epochs: 100%|██████████| 250/250 [00:01<00:00, 172.68it/s]\n"
     ]
    },
    {
     "name": "stdout",
     "output_type": "stream",
     "text": [
      "Test Accuracy: 74.05%, F1-score: 0.7172\n",
      "Epoch 220/250, Loss: 0.2130\n",
      "Test Accuracy: 74.37%, F1-score: 0.7216\n",
      "Epoch 230/250, Loss: 0.2088\n",
      "Test Accuracy: 74.05%, F1-score: 0.7172\n",
      "Epoch 240/250, Loss: 0.2059\n",
      "Test Accuracy: 74.05%, F1-score: 0.7172\n",
      "Epoch 250/250, Loss: 0.2085\n",
      "Test Accuracy: 73.42%, F1-score: 0.7021\n"
     ]
    },
    {
     "data": {
      "image/png": "[encoded data removed]",
      "text/plain": [
       "<Figure size 640x480 with 1 Axes>"
      ]
     },
     "metadata": {},
     "output_type": "display_data"
    },
    {
     "name": "stdout",
     "output_type": "stream",
     "text": [
      "Training complete. Best Accuracy: 75.63%, Best F1-score: 0.7390\n"
     ]
    },
    {
     "data": {
      "image/png": "[encoded data removed]",
      "text/plain": [
       "<Figure size 400x400 with 2 Axes>"
      ]
     },
     "metadata": {},
     "output_type": "display_data"
    },
    {
     "ename": "",
     "evalue": "",
     "output_type": "error",
     "traceback": [
      "\u001b[1;31mThe Kernel crashed while executing code in the current cell or a previous cell. \n",
      "\u001b[1;31mPlease review the code in the cell(s) to identify a possible cause of the failure. \n",
      "\u001b[1;31mClick <a href='https://aka.ms/vscodeJupyterKernelCrash'>here</a> for more info. \n",
      "\u001b[1;31mView Jupyter <a href='command:jupyter.viewOutput'>log</a> for further details."
     ]
    }
   ],
   "source": [
    "import torch\n",
    "import torch.nn as nn\n",
    "import numpy as np\n",
    "from sklearn.metrics import accuracy_score, classification_report, f1_score, confusion_matrix\n",
    "import matplotlib.pyplot as plt\n",
    "import seaborn as sns\n",
    "from tqdm import tqdm\n",
    "from transformers import AutoTokenizer, AutoModelForCausalLM, AutoModel\n",
    "import json\n",
    "import os\n",
    "\n",
    "os.environ[\"CUDA_VISIBLE_DEVICES\"] = \"4,5,6,7\"\n",
    "\n",
    "model_name ='meta-llama/Llama-3.1-8B'\n",
    "non_infringement_file = 'extra_30_8B.infringement.json'\n",
    "infringement_file = 'extra_30_8B.non_infringement.json'\n",
    "checkpoint_file = ''\n",
    "\n",
    "def plot_confusion_matrix(y_true, y_pred):\n",
    "    cm = confusion_matrix(y_true, y_pred)\n",
    "    fig, ax = plt.subplots(figsize=(4, 4))  \n",
    "    sns.heatmap(cm, annot=True, fmt='g', cmap='Blues', \n",
    "                xticklabels=[\"Non-Infringement\", \"Infringement\"], \n",
    "                yticklabels=[\"Non-Infringement\", \"Infringement\"],\n",
    "                annot_kws={\"size\": 14})\n",
    "    plt.xlabel('Predicted', fontsize=12)\n",
    "    plt.ylabel('True', fontsize=12) \n",
    "    plt.title('Confusion Matrix', fontsize=14)  \n",
    "    plt.xticks(fontsize=12) \n",
    "    plt.yticks(fontsize=12)  \n",
    "    plt.tight_layout() \n",
    "    plt.show()\n",
    "\n",
    "class CustomMLP(nn.Module):\n",
    "    def __init__(self, input_dim, hidden_dim):\n",
    "        super(CustomMLP, self).__init__()\n",
    "        self.down = nn.Linear(input_dim, hidden_dim)\n",
    "        self.gate = nn.Linear(input_dim, hidden_dim)\n",
    "        self.up = nn.Linear(hidden_dim, 1)\n",
    "        self.activation = nn.SiLU()\n",
    "\n",
    "    def forward(self, x):\n",
    "        down_output = self.down(x)\n",
    "        gate_output = self.gate(x)\n",
    "        gated_output = down_output * self.activation(gate_output)\n",
    "        return self.up(gated_output)\n",
    "\n",
    "def load_data(non_infringement_file, infringement_file):\n",
    "    with open(non_infringement_file, 'r', encoding='utf-8') as file:\n",
    "        non_infringement_data = json.load(file)\n",
    "    non_infringement_outputs = [entry['input'] for entry in non_infringement_data]\n",
    "    y_non_infringement = [1] * len(non_infringement_outputs)\n",
    "\n",
    "    with open(infringement_file, 'r', encoding='utf-8') as file:\n",
    "        infringement_data = json.load(file)\n",
    "    infringement_outputs = [entry['input'] for entry in infringement_data]\n",
    "    y_infringement = [0] * len(infringement_outputs)\n",
    "\n",
    "    return non_infringement_outputs, y_non_infringement, infringement_outputs, y_infringement\n",
    "\n",
    "def extract_hidden_states(texts, model, tokenizer, batch_size=4):\n",
    "    hidden_states = []\n",
    "    for i in tqdm(range(0, len(texts), batch_size), desc=\"Processing data batches\"):\n",
    "        batch_texts = texts[i:i + batch_size]\n",
    "        \n",
    "        inputs = tokenizer(batch_texts, return_tensors=\"pt\", padding=True, truncation=True)\n",
    "        inputs = {key: val.to(\"cuda\") for key, val in inputs.items()}\n",
    "        with torch.no_grad():\n",
    "            outputs = model(**inputs)\n",
    "        last_layer_hidden_states = outputs.hidden_states[2]\n",
    "        last_token_hidden_states = last_layer_hidden_states.mean(dim=1).cpu().numpy() \n",
    "        hidden_states.append(last_token_hidden_states)\n",
    "    return np.vstack(hidden_states)\n",
    "\n",
    "def load_large_model(model_name):\n",
    "    print(\"Loading model across multiple GPUs...\")\n",
    "    model = AutoModelForCausalLM.from_pretrained(\n",
    "        model_name,\n",
    "        device_map=\"balanced\", \n",
    "        offload_folder=\"offload\",\n",
    "        offload_state_dict=True,\n",
    "        output_hidden_states=True\n",
    "    )\n",
    "    print(\"Model loaded successfully.\")\n",
    "    return model\n",
    "\n",
    "def train_model(X_train, y_train, X_test, y_test, input_dim, hidden_dim, epochs=250, lr=0.001, checkpoint_path=checkpoint_file):\n",
    "    custom_mlp = CustomMLP(input_dim, hidden_dim).to(\"cuda\")\n",
    "    criterion = nn.BCEWithLogitsLoss()\n",
    "    optimizer = torch.optim.Adam(custom_mlp.parameters(), lr=lr)\n",
    "\n",
    "    X_train_tensor = torch.tensor(X_train, dtype=torch.float32).to(\"cuda\")\n",
    "    y_train_tensor = torch.tensor(y_train, dtype=torch.float32).unsqueeze(1).to(\"cuda\")\n",
    "\n",
    "    best_f1 = -float('inf')\n",
    "    best_accuracy = -float('inf') \n",
    "    losses = []\n",
    "\n",
    "    for epoch in tqdm(range(epochs), desc=\"Training Epochs\"):\n",
    "        custom_mlp.train()\n",
    "        optimizer.zero_grad()\n",
    "        outputs = custom_mlp(X_train_tensor)\n",
    "        loss = criterion(outputs, y_train_tensor)\n",
    "        loss.backward()\n",
    "        optimizer.step()\n",
    "        losses.append(loss.item())\n",
    "\n",
    "        if (epoch + 1) % 10 == 0:\n",
    "            print(f\"Epoch {epoch + 1}/{epochs}, Loss: {loss.item():.4f}\")\n",
    "            custom_mlp.eval()\n",
    "            X_test_tensor = torch.tensor(X_test, dtype=torch.float32).to(\"cuda\")\n",
    "            with torch.no_grad():\n",
    "                y_pred_logits = custom_mlp(X_test_tensor)\n",
    "                y_pred = (torch.sigmoid(y_pred_logits) > 0.5).float().cpu().numpy()\n",
    "\n",
    "            accuracy = accuracy_score(y_test, y_pred)\n",
    "            f1 = f1_score(y_test, y_pred)\n",
    "            print(f\"Test Accuracy: {accuracy * 100:.2f}%, F1-score: {f1:.4f}\")\n",
    "            \n",
    "            if accuracy > best_accuracy:\n",
    "                best_accuracy = accuracy\n",
    "                torch.save(custom_mlp.state_dict(), checkpoint_path)\n",
    "                print(f\"New best model saved with Accuracy {best_accuracy * 100:.2f}%.\")\n",
    "\n",
    "            if f1 > best_f1:\n",
    "                best_f1 = f1\n",
    "                torch.save(custom_mlp.state_dict(), checkpoint_path) \n",
    "                print(f\"New best model saved with F1-score {best_f1:.4f}.\")\n",
    "\n",
    "    plt.plot(losses)\n",
    "    plt.title(\"Training Loss Curve\")\n",
    "    plt.xlabel(\"Epoch\")\n",
    "    plt.ylabel(\"Loss\")\n",
    "    plt.show()\n",
    "\n",
    "    return custom_mlp, best_accuracy, best_f1\n",
    "\n",
    "tokenizer = AutoTokenizer.from_pretrained(model_name, model_max_length=512)\n",
    "model = load_large_model(model_name)\n",
    "tokenizer.pad_token = tokenizer.eos_token\n",
    "\n",
    "non_infringement_outputs, y_non_infringement, infringement_outputs, y_infringement = load_data(non_infringement_file, infringement_file)\n",
    "\n",
    "print(\"Extracting hidden states for non-infringement texts...\")\n",
    "X_non_infringement = extract_hidden_states(non_infringement_outputs, model, tokenizer)\n",
    "\n",
    "print(\"Extracting hidden states for infringement texts...\")\n",
    "X_infringement = extract_hidden_states(infringement_outputs, model, tokenizer)\n",
    "\n",
    "split_index_non_infringement = int(0.8 * len(X_non_infringement))\n",
    "split_index_infringement = int(0.8 * len(X_infringement))\n",
    "\n",
    "X_train = np.vstack((X_non_infringement[:split_index_non_infringement], X_infringement[:split_index_infringement]))\n",
    "X_test = np.vstack((X_non_infringement[split_index_non_infringement:], X_infringement[split_index_infringement:]))\n",
    "y_train = np.concatenate((y_non_infringement[:split_index_non_infringement], y_infringement[:split_index_infringement]))\n",
    "y_test = np.concatenate((y_non_infringement[split_index_non_infringement:], y_infringement[split_index_infringement:]))\n",
    "\n",
    "print(\"Data successfully split into training and test sets.\")\n",
    "\n",
    "input_dim = X_train.shape[1]\n",
    "# print(input_dim)\n",
    "hidden_dim = 256\n",
    "\n",
    "trained_model, best_accuracy, best_f1 = train_model(X_train, y_train, X_test, y_test, input_dim, hidden_dim)\n",
    "print(f\"Training complete. Best Accuracy: {best_accuracy * 100:.2f}%, Best F1-score: {best_f1:.4f}\")\n",
    "\n",
    "trained_model.eval()\n",
    "X_test_tensor = torch.tensor(X_test, dtype=torch.float32).to(\"cuda\")\n",
    "with torch.no_grad():\n",
    "    y_pred_logits = trained_model(X_test_tensor)\n",
    "    y_pred = (torch.sigmoid(y_pred_logits) > 0.5).float().cpu().numpy()\n",
    "\n",
    "# Plot confusion matrix\n",
    "plot_confusion_matrix(y_test, y_pred)\n",
    "\n",
    "# 1. Load the best model (the one saved with the best accuracy)\n",
    "# trained_model.load_state_dict(torch.load(checkpoint_path))\n",
    "# trained_model.eval()\n",
    "\n",
    "# # 2. Generate predictions on the test set using the best model\n",
    "# X_test_tensor = torch.tensor(X_test, dtype=torch.float32).to(\"cuda\")\n",
    "# with torch.no_grad():\n",
    "#     y_pred_logits = trained_model(X_test_tensor)\n",
    "#     y_pred = (torch.sigmoid(y_pred_logits) > 0.5).float().cpu().numpy()\n",
    "\n",
    "# # 3. Plot the confusion matrix for the best model's predictions\n",
    "# plot_confusion_matrix(y_test, y_pred)"
   ]
  }
 ],
 "metadata": {
  "kernelspec": {
   "display_name": "zdh",
   "language": "python",
   "name": "python3"
  },
  "language_info": {
   "codemirror_mode": {
    "name": "ipython",
    "version": 3
   },
   "file_extension": ".py",
   "mimetype": "text/x-python",
   "name": "python",
   "nbconvert_exporter": "python",
   "pygments_lexer": "ipython3",
   "version": "3.12.3"
  }
 },
 "nbformat": 4,
 "nbformat_minor": 2
}
