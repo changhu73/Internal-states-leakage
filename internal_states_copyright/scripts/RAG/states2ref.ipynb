{
 "cells": [
  {
   "cell_type": "code",
   "execution_count": null,
   "metadata": {},
   "outputs": [
    {
     "name": "stderr",
     "output_type": "stream",
     "text": [
      "/home/guangwei/miniconda3/envs/zdh/lib/python3.12/site-packages/tqdm/auto.py:21: TqdmWarning: IProgress not found. Please update jupyter and ipywidgets. See https://ipywidgets.readthedocs.io/en/stable/user_install.html\n",
      "  from .autonotebook import tqdm as notebook_tqdm\n",
      "/home/guangwei/miniconda3/envs/zdh/lib/python3.12/site-packages/transformers/generation/configuration_utils.py:774: UserWarning: `return_dict_in_generate` is NOT set to `True`, but `output_hidden_states` is. When `return_dict_in_generate` is not `True`, `output_hidden_states` is ignored.\n",
      "  warnings.warn(\n",
      "Loading checkpoint shards: 100%|██████████| 30/30 [01:09<00:00,  2.30s/it]\n"
     ]
    },
    {
     "name": "stdout",
     "output_type": "stream",
     "text": [
      "Extracting hidden states for inputs...\n"
     ]
    },
    {
     "name": "stderr",
     "output_type": "stream",
     "text": [
      "Processing data batches: 100%|██████████| 619/619 [12:41<00:00,  1.23s/it]\n"
     ]
    },
    {
     "name": "stdout",
     "output_type": "stream",
     "text": [
      "Data successfully split into training and test sets.\n"
     ]
    },
    {
     "name": "stderr",
     "output_type": "stream",
     "text": [
      "Training Epochs:   2%|▏         | 23/1000 [00:00<00:04, 228.26it/s]"
     ]
    },
    {
     "name": "stdout",
     "output_type": "stream",
     "text": [
      "Epoch 10/1000, Training Loss: 3.0101, Validation Loss: 2.4868\n",
      "Epoch 20/1000, Training Loss: 1.3559, Validation Loss: 0.8916\n",
      "Epoch 30/1000, Training Loss: 0.8434, Validation Loss: 0.6044\n",
      "Epoch 40/1000, Training Loss: 0.7245, Validation Loss: 0.5442\n",
      "Epoch 50/1000, Training Loss: 0.7256, Validation Loss: 0.5360\n"
     ]
    },
    {
     "name": "stderr",
     "output_type": "stream",
     "text": [
      "Training Epochs:   7%|▋         | 71/1000 [00:00<00:02, 374.22it/s]"
     ]
    },
    {
     "name": "stdout",
     "output_type": "stream",
     "text": [
      "Epoch 60/1000, Training Loss: 0.7176, Validation Loss: 0.5322\n",
      "Epoch 70/1000, Training Loss: 0.6674, Validation Loss: 0.5071\n",
      "Epoch 80/1000, Training Loss: 0.5527, Validation Loss: 0.4618\n",
      "Epoch 90/1000, Training Loss: 0.4712, Validation Loss: 0.4304\n",
      "Epoch 100/1000, Training Loss: 0.3981, Validation Loss: 0.4087\n"
     ]
    },
    {
     "name": "stderr",
     "output_type": "stream",
     "text": [
      "Training Epochs:  15%|█▍        | 148/1000 [00:00<00:02, 410.85it/s]"
     ]
    },
    {
     "name": "stdout",
     "output_type": "stream",
     "text": [
      "Epoch 110/1000, Training Loss: 0.3524, Validation Loss: 0.3920\n",
      "Epoch 120/1000, Training Loss: 0.3087, Validation Loss: 0.3757\n",
      "Epoch 130/1000, Training Loss: 0.3014, Validation Loss: 0.3668\n",
      "Epoch 140/1000, Training Loss: 0.2706, Validation Loss: 0.3591\n",
      "Early stopping at epoch 149\n",
      "Test Accuracy: 0.8775\n"
     ]
    },
    {
     "name": "stderr",
     "output_type": "stream",
     "text": [
      "\n"
     ]
    },
    {
     "data": {
      "image/png": "[encoded data removed]",
      "text/plain": [
       "<Figure size 640x480 with 1 Axes>"
      ]
     },
     "metadata": {},
     "output_type": "display_data"
    },
    {
     "name": "stdout",
     "output_type": "stream",
     "text": [
      "Training complete.\n"
     ]
    },
    {
     "ename": "",
     "evalue": "",
     "output_type": "error",
     "traceback": [
      "\u001b[1;31mThe Kernel crashed while executing code in the current cell or a previous cell. \n",
      "\u001b[1;31mPlease review the code in the cell(s) to identify a possible cause of the failure. \n",
      "\u001b[1;31mClick <a href='https://aka.ms/vscodeJupyterKernelCrash'>here</a> for more info. \n",
      "\u001b[1;31mView Jupyter <a href='command:jupyter.viewOutput'>log</a> for further details."
     ]
    }
   ],
   "source": [
    "import torch\n",
    "import torch.nn as nn\n",
    "import numpy as np\n",
    "from sklearn.metrics import accuracy_score\n",
    "from sklearn.model_selection import train_test_split\n",
    "from tqdm import tqdm\n",
    "from transformers import AutoTokenizer, AutoModelForCausalLM\n",
    "import json\n",
    "import os\n",
    "import matplotlib.pyplot as plt\n",
    "from sklearn.preprocessing import LabelEncoder\n",
    "\n",
    "os.environ[\"CUDA_VISIBLE_DEVICES\"] = \"\"\n",
    "\n",
    "# Variables\n",
    "model_name = ''\n",
    "input_reference_file = ''\n",
    "\n",
    "# Define CustomMLP for classification\n",
    "class ClassificationMLP(nn.Module):\n",
    "    def __init__(self, input_dim, num_classes):\n",
    "        super(ClassificationMLP, self).__init__()\n",
    "        self.hidden1 = nn.Linear(input_dim, 256)\n",
    "        self.hidden2 = nn.Linear(256, 128)\n",
    "        self.output = nn.Linear(128, num_classes)\n",
    "        self.activation = nn.ReLU()\n",
    "        self.dropout = nn.Dropout(0.3)\n",
    "\n",
    "    def forward(self, x):\n",
    "        x = self.activation(self.hidden1(x))\n",
    "        x = self.dropout(x)\n",
    "        x = self.activation(self.hidden2(x))\n",
    "        x = self.dropout(x)\n",
    "        return self.output(x)\n",
    "\n",
    "# Load input and reference data\n",
    "def load_data_for_prediction(input_file):\n",
    "    \"\"\"Load input and reference pairs from a JSON file.\"\"\"\n",
    "    with open(input_file, 'r', encoding='utf-8') as file:\n",
    "        json_data = json.load(file)\n",
    "\n",
    "    inputs = [entry['input'] for entry in json_data]\n",
    "    references = [entry['reference'] for entry in json_data]\n",
    "\n",
    "    return inputs, references\n",
    "\n",
    "# Extract hidden states from the input text using a language model\n",
    "def extract_hidden_states(texts, model, tokenizer, batch_size=4):\n",
    "    hidden_states = []\n",
    "    for i in tqdm(range(0, len(texts), batch_size), desc=\"Processing data batches\"):\n",
    "        batch_texts = texts[i:i + batch_size]\n",
    "        inputs = tokenizer(batch_texts, return_tensors=\"pt\", padding=True, truncation=True)\n",
    "        inputs = {key: val.to(\"cuda\") for key, val in inputs.items()}  # Move inputs to GPU\n",
    "        with torch.no_grad():\n",
    "            outputs = model(**inputs)\n",
    "        last_layer_hidden_states = outputs.hidden_states[-1]\n",
    "        pooled_hidden_states = last_layer_hidden_states.mean(dim=1).cpu().numpy()  # Mean pooling\n",
    "        hidden_states.append(pooled_hidden_states)\n",
    "    return np.vstack(hidden_states)\n",
    "\n",
    "# Train an MLP model for classification with early stopping and learning rate scheduler\n",
    "def train_mlp_for_classification(X_train, y_train, X_test, y_test, input_dim, num_classes, epochs=1000, lr=0.001, patience=10):\n",
    "    model = ClassificationMLP(input_dim, num_classes).to(\"cuda\")\n",
    "    criterion = nn.CrossEntropyLoss()  # Cross-Entropy Loss for classification\n",
    "    optimizer = torch.optim.AdamW(model.parameters(), lr=lr)\n",
    "    scheduler = torch.optim.lr_scheduler.CosineAnnealingLR(optimizer, T_max=50)\n",
    "\n",
    "    X_train_tensor = torch.tensor(X_train, dtype=torch.float32).to(\"cuda\")\n",
    "    y_train_tensor = torch.tensor(y_train, dtype=torch.long).to(\"cuda\")  # Long tensor for classification labels\n",
    "    X_test_tensor = torch.tensor(X_test, dtype=torch.float32).to(\"cuda\")\n",
    "    y_test_tensor = torch.tensor(y_test, dtype=torch.long).to(\"cuda\")\n",
    "\n",
    "    best_loss = float('inf')\n",
    "    early_stop_counter = 0\n",
    "    losses = []\n",
    "\n",
    "    for epoch in tqdm(range(epochs), desc=\"Training Epochs\"):\n",
    "        model.train()\n",
    "        optimizer.zero_grad()\n",
    "        outputs = model(X_train_tensor)\n",
    "        loss = criterion(outputs, y_train_tensor)\n",
    "        loss.backward()\n",
    "        optimizer.step()\n",
    "        scheduler.step()\n",
    "        losses.append(loss.item())\n",
    "\n",
    "        # Validation step\n",
    "        model.eval()\n",
    "        with torch.no_grad():\n",
    "            val_outputs = model(X_test_tensor)\n",
    "            val_loss = criterion(val_outputs, y_test_tensor).item()\n",
    "\n",
    "        # Early stopping logic\n",
    "        if val_loss < best_loss:\n",
    "            best_loss = val_loss\n",
    "            early_stop_counter = 0\n",
    "            best_model = model.state_dict()  # Save best model\n",
    "        else:\n",
    "            early_stop_counter += 1\n",
    "\n",
    "        if early_stop_counter >= patience:\n",
    "            print(f\"Early stopping at epoch {epoch + 1}\")\n",
    "            break\n",
    "\n",
    "        if (epoch + 1) % 10 == 0:\n",
    "            print(f\"Epoch {epoch + 1}/{epochs}, Training Loss: {loss.item():.4f}, Validation Loss: {val_loss:.4f}\")\n",
    "\n",
    "    # Load the best model weights\n",
    "    model.load_state_dict(best_model)\n",
    "\n",
    "    # Evaluate the model on the test set\n",
    "    model.eval()\n",
    "    with torch.no_grad():\n",
    "        outputs = model(X_test_tensor)\n",
    "        predictions = torch.argmax(outputs, dim=1).cpu().numpy()\n",
    "        test_accuracy = accuracy_score(y_test, predictions)\n",
    "        print(f\"Test Accuracy: {test_accuracy:.4f}\")\n",
    "\n",
    "    # Plot training loss curve\n",
    "    plt.plot(losses)\n",
    "    plt.title(\"Training Loss Curve\")\n",
    "    plt.xlabel(\"Epoch\")\n",
    "    plt.ylabel(\"Loss\")\n",
    "    plt.show()\n",
    "\n",
    "    return model\n",
    "\n",
    "# Main workflow\n",
    "# Load the tokenizer and model\n",
    "tokenizer = AutoTokenizer.from_pretrained(model_name, model_max_length=512)\n",
    "model = AutoModelForCausalLM.from_pretrained(\n",
    "    model_name,\n",
    "    device_map=\"balanced\",  # Automatically balance the model across multiple GPUs\n",
    "    offload_folder=\"offload\",  # Offload weights to disk if GPU memory is insufficient\n",
    "    offload_state_dict=True,\n",
    "    output_hidden_states=True\n",
    ")\n",
    "tokenizer.pad_token = tokenizer.eos_token\n",
    "\n",
    "# Load the input and reference data\n",
    "inputs, references = load_data_for_prediction(input_reference_file)\n",
    "\n",
    "# Encode references into labels\n",
    "label_encoder = LabelEncoder()\n",
    "y_labels = label_encoder.fit_transform(references)  # Encode references into integer labels\n",
    "num_classes = len(label_encoder.classes_)  # Number of unique references\n",
    "\n",
    "# Extract hidden states for the inputs\n",
    "print(\"Extracting hidden states for inputs...\")\n",
    "X_hidden_states = extract_hidden_states(inputs, model, tokenizer)\n",
    "\n",
    "# Split data into training and testing sets (80-20 split)\n",
    "X_train, X_test, y_train, y_test = train_test_split(X_hidden_states, y_labels, test_size=0.3, random_state=42)\n",
    "\n",
    "print(\"Data successfully split into training and test sets.\")\n",
    "\n",
    "# Define MLP parameters and train the model\n",
    "input_dim = X_train.shape[1]\n",
    "trained_model = train_mlp_for_classification(X_train, y_train, X_test, y_test, input_dim, num_classes)\n",
    "print(\"Training complete.\")\n"
   ]
  }
 ],
 "metadata": {
  "kernelspec": {
   "display_name": "zdh",
   "language": "python",
   "name": "python3"
  },
  "language_info": {
   "codemirror_mode": {
    "name": "ipython",
    "version": 3
   },
   "file_extension": ".py",
   "mimetype": "text/x-python",
   "name": "python",
   "nbconvert_exporter": "python",
   "pygments_lexer": "ipython3",
   "version": "3.12.3"
  }
 },
 "nbformat": 4,
 "nbformat_minor": 2
}
