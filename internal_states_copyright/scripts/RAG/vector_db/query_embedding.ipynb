{
 "cells": [
  {
   "cell_type": "code",
   "execution_count": null,
   "metadata": {},
   "outputs": [
    {
     "name": "stdout",
     "output_type": "stream",
     "text": [
      "Distances: [[1.5071963e-12]], Indices: [[1]]\n",
      "Reference embedding: [ 0.00360759  0.01398184  0.00724497 ...  0.00887039  0.00590016\n",
      " -0.01719082]\n"
     ]
    },
    {
     "ename": "",
     "evalue": "",
     "output_type": "error",
     "traceback": [
      "\u001b[1;31mThe Kernel crashed while executing code in the current cell or a previous cell. \n",
      "\u001b[1;31mPlease review the code in the cell(s) to identify a possible cause of the failure. \n",
      "\u001b[1;31mClick <a href='https://aka.ms/vscodeJupyterKernelCrash'>here</a> for more info. \n",
      "\u001b[1;31mView Jupyter <a href='command:jupyter.viewOutput'>log</a> for further details."
     ]
    }
   ],
   "source": [
    "import sqlite3\n",
    "import numpy as np\n",
    "from sentence_transformers import SentenceTransformer\n",
    "import faiss\n",
    "import torch\n",
    "\n",
    "# Set device for CUDA\n",
    "device = 'cuda' if torch.cuda.is_available() else 'cpu'\n",
    "\n",
    "# Load the Sentence Transformer model\n",
    "model = SentenceTransformer('sentence-transformers/all-roberta-large-v1')\n",
    "model = model.to(device)\n",
    "\n",
    "# Function to retrieve the most similar record's reference embedding using input text\n",
    "def get_similar_reference(input_text, db_name='rag_db.sqlite', faiss_index_path='faiss_index.index'):\n",
    "    \"\"\"\n",
    "    Retrieve the reference embedding corresponding to the most similar input embedding from the database.\n",
    "    \n",
    "    Parameters:\n",
    "    - input_text: The input text to search for in the database.\n",
    "    - db_name: The name of the SQLite database to retrieve embeddings from.\n",
    "    - faiss_index_path: Path to the saved FAISS index for fast similarity search.\n",
    "    \n",
    "    Returns:\n",
    "    - reference_embedding: The reference embedding corresponding to the most similar input embedding.\n",
    "    \"\"\"\n",
    "    # Step 1: Convert the input text to its embedding\n",
    "    input_vector = model.encode([input_text], convert_to_tensor=True, device=device)\n",
    "    input_vector = input_vector.cpu().numpy()  # Convert to numpy array\n",
    "    \n",
    "    # Step 2: Load the FAISS index\n",
    "    faiss_index = faiss.read_index(faiss_index_path)\n",
    "    \n",
    "    # Step 3: Search the FAISS index for the most similar input embedding\n",
    "    D, I = faiss_index.search(input_vector, k=1)  # k=1 to get the top 1 most similar vector\n",
    "    print(f\"Distances: {D}, Indices: {I}\")\n",
    "    \n",
    "    # Step 4: Retrieve the index of the most similar vector (convert numpy.int64 to int)\n",
    "    most_similar_index = int(I[0][0])  # Convert to normal int type to avoid datatype mismatch\n",
    "    \n",
    "    # Step 5: Retrieve the corresponding reference embedding from the database\n",
    "    conn = sqlite3.connect(db_name)\n",
    "    cursor = conn.cursor()\n",
    "    cursor.execute(\"SELECT reference_embedding FROM documents LIMIT 1 OFFSET ?\", (most_similar_index,))\n",
    "    result = cursor.fetchone()\n",
    "    \n",
    "    if result:\n",
    "        # Convert the BLOB data (reference embedding) back to numpy array\n",
    "        reference_embedding = np.frombuffer(result[0], dtype=np.float32)\n",
    "        conn.close()\n",
    "        return reference_embedding\n",
    "    else:\n",
    "        conn.close()\n",
    "        return None  # Return None if no reference found\n",
    "\n",
    "# Example usage\n",
    "input_text = \"fire, blinking at the light. \\\"He sent the girl away?\\\" \\\"He did better than that,\\\" Tyrion said. \\\"First he made my brother tell me the truth. The girl was a whore, you see. Jaime arranged the whole affair, the road, the outlaws, all of it. He thought it was time I had a woman. He paid double for a maiden, knowing it would be my first time. \\\"After Jaime had made his confession, to drive home the lesson, Lord Tywin brought my wife in and gave her to his guards. They paid her fair enough. A silver for each man, how many whores command that high a price? He sat me down in the corner of the barracks and bade me watch, and at the end she had so many silvers the coins were slipping through her fingers and rolling on the floor, she . . .\\\" The smoke was stinging his eyes. Tyrion cleared his throat and turned away from the fire, to gaze out into darkness\"\n",
    "reference_embedding = get_similar_reference(input_text)\n",
    "\n",
    "# Print the corresponding reference embedding\n",
    "if reference_embedding is not None:\n",
    "    print(\"Reference embedding:\", reference_embedding)\n",
    "else:\n",
    "    print(\"No matching reference found.\")\n"
   ]
  }
 ],
 "metadata": {
  "kernelspec": {
   "display_name": "zdh",
   "language": "python",
   "name": "python3"
  },
  "language_info": {
   "codemirror_mode": {
    "name": "ipython",
    "version": 3
   },
   "file_extension": ".py",
   "mimetype": "text/x-python",
   "name": "python",
   "nbconvert_exporter": "python",
   "pygments_lexer": "ipython3",
   "version": "3.12.3"
  }
 },
 "nbformat": 4,
 "nbformat_minor": 2
}
