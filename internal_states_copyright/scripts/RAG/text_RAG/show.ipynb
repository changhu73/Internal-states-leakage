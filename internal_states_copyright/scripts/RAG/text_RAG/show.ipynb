{
 "cells": [
  {
   "cell_type": "code",
   "execution_count": null,
   "metadata": {},
   "outputs": [
    {
     "name": "stdout",
     "output_type": "stream",
     "text": [
      "Document ID: 1\n",
      "Document Text: doing so, since he was being fed at what appeared to be regular intervals. He was getting, he judged, three meals in the twenty-four hours; sometimes he wondered dimly whether he was getting them by night or by day. The food was surprisingly good, with meat at every third meal. Once there was even a packet of cigarettes. He had no matches, but the never-speaking guard who brought his food would give him a light. The first time he tried to smoke it made him sick, but he persevered, and spun the packet out for a long time, smoking half a cigarette after each meal. They had given him a white slate with a stump of pencil tied to the corner. At first he made no use of it. Even when he was awake he was completely torpid. Often he would lie from one meal to the next almost without stirring, sometimes asleep, sometimes waking into vague reveries in which it was too much trouble to open his eyes. He had long grown used to\n",
      "Reference Text: sleeping with a strong light on his face. It seemed to make no difference, except that one's dreams were more coherent. He dreamed a great deal all through this time, and they were always happy dreams. He was in the Golden Country, or he was sitting among enormous glorious\n"
     ]
    }
   ],
   "source": [
    "import sqlite3\n",
    "\n",
    "def get_first_document(db_name='rag_db.sqlite'):\n",
    "    conn = sqlite3.connect(db_name)\n",
    "    cursor = conn.cursor()\n",
    "\n",
    "    cursor.execute(\"SELECT id, document_text, reference_text FROM documents LIMIT 1\")\n",
    "    result = cursor.fetchone()\n",
    "\n",
    "    conn.close()\n",
    "\n",
    "    if result:\n",
    "        document_id, document_text, reference_text = result\n",
    "        return document_id, document_text, reference_text\n",
    "    else:\n",
    "        return None, None, None\n",
    "\n",
    "document_id, document_text, reference_text = get_first_document()\n",
    "\n",
    "if document_id:\n",
    "    print(f\"Document ID: {document_id}\")\n",
    "    print(f\"Document Text: {document_text}\")\n",
    "    print(f\"Reference Text: {reference_text}\")\n",
    "else:\n",
    "    print(\"No document found.\")\n"
   ]
  }
 ],
 "metadata": {
  "kernelspec": {
   "display_name": "zdh",
   "language": "python",
   "name": "python3"
  },
  "language_info": {
   "codemirror_mode": {
    "name": "ipython",
    "version": 3
   },
   "file_extension": ".py",
   "mimetype": "text/x-python",
   "name": "python",
   "nbconvert_exporter": "python",
   "pygments_lexer": "ipython3",
   "version": "3.12.3"
  }
 },
 "nbformat": 4,
 "nbformat_minor": 2
}
